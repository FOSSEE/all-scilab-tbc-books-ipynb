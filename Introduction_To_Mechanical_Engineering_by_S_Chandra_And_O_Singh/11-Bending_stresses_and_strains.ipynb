{
"cells": [
 {
		   "cell_type": "markdown",
	   "metadata": {},
	   "source": [
       "# Chapter 11: Bending stresses and strains"
	   ]
	},
{
		   "cell_type": "markdown",
		   "metadata": {},
		   "source": [
			"## Example 3.1: CG_of_T_sectio.sce"
		   ]
		  },
  {
"cell_type": "code",
	   "execution_count": null,
	   "metadata": {
	    "collapsed": true
	   },
	   "outputs": [],
"source": [
"//Part B Chapter 3 Example 1\n",
"clc;\n",
"clear;\n",
"close;\n",
"format('v',6);\n",
"AB=160;//mm\n",
"AC=200;//mm\n",
"BF=25;//mm\n",
"CD=25;//mm\n",
"A=AB*BF+CD*(AC-BF);//mm^2\n",
"//Distance of G from AB\n",
"ybar=(AB*BF*CD/2+CD*(AC-BF)*((AC-BF)/2+CD))/A;//mm\n",
"disp(ybar,'Distance of G from AB(mm)');\n",
"//Distance of G from CD\n",
"CG=AC-ybar;//mm\n",
"disp(CG,'Distance of G from CD(mm) :   ');"
   ]
   }
,
{
		   "cell_type": "markdown",
		   "metadata": {},
		   "source": [
			"## Example 3.2: Centroid_of_angle_section.sce"
		   ]
		  },
  {
"cell_type": "code",
	   "execution_count": null,
	   "metadata": {
	    "collapsed": true
	   },
	   "outputs": [],
"source": [
"//Part B Chapter 3 Example 2\n",
"clc;\n",
"clear;\n",
"close;\n",
"format('v',6);\n",
"BC=25;//mm\n",
"AB=125;//mm\n",
"AF=85;//mm\n",
"EF=25;//mm\n",
"A_GBCD=BC*(AB-EF);//mm^2\n",
"A_GEFA=AF*EF;//mm^2\n",
"//Distance of CG from AF\n",
"ybar=((A_GBCD*(AB-2*EF)+A_GEFA*EF/2)/(A_GBCD+A_GEFA));//mm\n",
"//Distance of CG from AB\n",
"xbar=((A_GBCD*(BC/2)+A_GEFA*AF/2)/(A_GBCD+A_GEFA));//mm\n",
"disp(ybar,'From reference axes AF, centroid is(mm) :   ');\n",
"disp(xbar,'From reference axes AB, centroid is(mm) :   ');"
   ]
   }
,
{
		   "cell_type": "markdown",
		   "metadata": {},
		   "source": [
			"## Example 3.3: Centroid_of_area.sce"
		   ]
		  },
  {
"cell_type": "code",
	   "execution_count": null,
	   "metadata": {
	    "collapsed": true
	   },
	   "outputs": [],
"source": [
"//Part B Chapter 3 Example 3\n",
"clc;\n",
"clear;\n",
"close;\n",
"format('v',7);\n",
"AB=200;//mm\n",
"BC=300;//mm\n",
"CD=260;//mm\n",
"a1=1/2*AB*CD;//mm^2(Area of ABE)\n",
"a2=%pi*(BC/2)^2/2;//mm^2(Area of semicircle)\n",
"a3=BC*CD;//mm^2(Area of BECD)\n",
"x1bar=1/3*CD;//mm\n",
"y1bar=BC+1/3*AB;//mm\n",
"x2bar=4/3*(BC/2)/%pi;//mm\n",
"y2bar=BC/2;//mm\n",
"x3bar=1/2*CD;//mm\n",
"y3bar=BC/2;//mm\n",
"//Distance of CG from AC\n",
"xbar=(a1*x1bar-a2*x2bar+a3*x3bar)/(a1-a2+a3);//mm\n",
"//Distance of CG from CD\n",
"ybar=(a1*y1bar-a2*y2bar+a3*y3bar)/(a1-a2+a3);//mm\n",
"disp(ybar,'From reference axes CD, centroid ybar is(mm) :   ');\n",
"disp(xbar,'From reference axes AC, centroid xbar is(mm) :   ');"
   ]
   }
,
{
		   "cell_type": "markdown",
		   "metadata": {},
		   "source": [
			"## Example 3.4: Location_of_centroid.sce"
		   ]
		  },
  {
"cell_type": "code",
	   "execution_count": null,
	   "metadata": {
	    "collapsed": true
	   },
	   "outputs": [],
"source": [
"//Part B Chapter 3 Example 4\n",
"clc;\n",
"clear;\n",
"close;\n",
"format('v',6);\n",
"AB=160;//mm\n",
"BC=40;//mm\n",
"EF=100;//mm\n",
"FH=40;//mm\n",
"CH=120;//mm\n",
"a1=EF*FH;//mm^2\n",
"a2=20*CH;//mm^2\n",
"a3=AB*BC;//mm^2\n",
"y1bar=20+CH+FH;//mm\n",
"y2bar=CH/2+BC;//mm\n",
"y3bar=BC/2;//mm\n",
"//Distance of CG from AB\n",
"ybar=(a1*y1bar+a2*y2bar+a3*y3bar)/(a1+a2+a3);//mm\n",
"disp(ybar,'From reference axes AB, centroid ybar is(mm) :   ');"
   ]
   }
,
{
		   "cell_type": "markdown",
		   "metadata": {},
		   "source": [
			"## Example 3.5: Centroid_of_built_up_section.sce"
		   ]
		  },
  {
"cell_type": "code",
	   "execution_count": null,
	   "metadata": {
	    "collapsed": true
	   },
	   "outputs": [],
"source": [
"//Part B Chapter 3 Example 5\n",
"clc;\n",
"clear;\n",
"close;\n",
"format('v',6);\n",
"EF=150;//mm\n",
"GH=150;//mm\n",
"CD=150;//mm\n",
"AB=250;//mm\n",
"AE=10;//mm\n",
"DH=10;//mm\n",
"CH=120;//mm\n",
"CD_t=10;//mm(thickness of CD section)\n",
"a1=AB*AE;//mm^2\n",
"a2=180*AE;//mm^2\n",
"a4=180*AE;//mm^2\n",
"a3=450*10;//mm^2\n",
"a5=CD*AE;//mm^2\n",
"y1bar=5;y2bar=15;y3bar=225+20;y4bar=475;y5bar=485;//mm\n",
"//Distance of CG from AB\n",
"ybar=(a1*y1bar+a2*y2bar+a3*y3bar+a4*y4bar+a5*y5bar)/(a1+a2+a3+a4+a5);//mm\n",
"disp(ybar,'From reference axes AB, centroid ybar is(mm) : ');"
   ]
   }
],
"metadata": {
		  "kernelspec": {
		   "display_name": "Scilab",
		   "language": "scilab",
		   "name": "scilab"
		  },
		  "language_info": {
		   "file_extension": ".sce",
		   "help_links": [
			{
			 "text": "MetaKernel Magics",
			 "url": "https://github.com/calysto/metakernel/blob/master/metakernel/magics/README.md"
			}
		   ],
		   "mimetype": "text/x-octave",
		   "name": "scilab",
		   "version": "0.7.1"
		  }
		 },
		 "nbformat": 4,
		 "nbformat_minor": 0
}
