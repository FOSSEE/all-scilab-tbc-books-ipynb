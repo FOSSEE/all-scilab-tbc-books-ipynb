{
"cells": [
 {
		   "cell_type": "markdown",
	   "metadata": {},
	   "source": [
       "# Chapter 7: Thermodynamic properties of pure substance"
	   ]
	},
{
		   "cell_type": "markdown",
		   "metadata": {},
		   "source": [
			"## Example 7.10: Change_in_enthalpy.sce"
		   ]
		  },
  {
"cell_type": "code",
	   "execution_count": null,
	   "metadata": {
	    "collapsed": true
	   },
	   "outputs": [],
"source": [
"//Part A Chapter 7 Example 10\n",
"clc;\n",
"clear;\n",
"close;\n",
"p2=200;//kPa\n",
"T=30//degree C\n",
"ds=0;//for isentropic process\n",
"//for saturated liquid at 30 degree C\n",
"p1=4.25;//kPa\n",
"vf=0.001004;//m^3/kg\n",
"v1=vf;//m^3/kg\n",
"h21=v1*(p2-p1);//kJ/kg(h21=h2-h1)\n",
"disp('Enthalpy change is '+string(h21)+' kJ/kg');"
   ]
   }
,
{
		   "cell_type": "markdown",
		   "metadata": {},
		   "source": [
			"## Example 7.11: Quality_of_water_vapour_mixture.sce"
		   ]
		  },
  {
"cell_type": "code",
	   "execution_count": null,
	   "metadata": {
	    "collapsed": true
	   },
	   "outputs": [],
"source": [
"//Part A Chapter 7 Example 11\n",
"clc;\n",
"clear;\n",
"close;\n",
"V=2;//m^3(Volume of vessel)\n",
"T=150//degree C\n",
"vf=0.001091;//m^3/kg//at 150 degree C\n",
"vg=0.3928;//m^3/kg//at 150 degree C\n",
"v_water=V*3/5//m^3\n",
"v_steam=V*2/5//m^3\n",
"mf=v_water/vf;//kg\n",
"mg=v_steam/vg;//kg\n",
"m=mf+mg;//kg//Total mass\n",
"x=mg/m;//dryness fraction\n",
"disp('Total mass is '+string(m)+' kg & Quality is '+string(x));\n",
"//Answer is wrong in the book."
   ]
   }
,
{
		   "cell_type": "markdown",
		   "metadata": {},
		   "source": [
			"## Example 7.12: Determine_work_output.sce"
		   ]
		  },
  {
"cell_type": "code",
	   "execution_count": null,
	   "metadata": {
	    "collapsed": true
	   },
	   "outputs": [],
"source": [
"//Part A Chapter 7 Example 12\n",
"clc;\n",
"clear;\n",
"close;\n",
"p=4;//MPa\n",
"T1=300//degree C\n",
"T2=50//degree C\n",
"h1=2886.2;//kJ/kg(at 4 MPa & 300 degree C)\n",
"s1=6.2285;//kJ/kg.K(at 4 MPa & 300 degree C)\n",
"hf=209.33;//kJ/kg(at 50 degree C)\n",
"sf=0.7038;//kJ/kg.K(at 50 degree C)\n",
"hfg=2382.7;//kJ/kg(at 50 degree C)\n",
"sfg=7.3725;//kJ/kg.K(at 50 degree C)\n",
"x2=(s1-sf)/sfg;//dryness fraction\n",
"h2=hf+x2*hfg;//kJ/kg\n",
"W=h1-h2;//kJ/kg\n",
"disp('Steam turbine work is '+string(W)+' kJ/kg');"
   ]
   }
,
{
		   "cell_type": "markdown",
		   "metadata": {},
		   "source": [
			"## Example 7.13: Mass_of_dry_saturated_steam.sce"
		   ]
		  },
  {
"cell_type": "code",
	   "execution_count": null,
	   "metadata": {
	    "collapsed": true
	   },
	   "outputs": [],
"source": [
"//Part A Chapter 7 Example 13\n",
"clc;\n",
"clear;\n",
"close;\n",
"mg=100;//kg\n",
"pg=100;//kPa\n",
"x1=0.5;//dryness at 1000kPa\n",
"//At 100 kPa\n",
"hf=417.46;//kJ/kg\n",
"uf=417.46;//kJ/kg\n",
"vf=0.001043;//m^3/kg\n",
"hfg=2258;//kJ/kg\n",
"ufg=2088.7;//kJ/kg\n",
"vfg=1.6940;//m^3/kg\n",
"\n",
"v1=vf+x1*vfg;//m^3/kg\n",
"h1=hf+x1*hfg;//kJ/kg\n",
"V=mg*x1*v1;//m^3\n",
"U1=mg*(hf+x1*ufg);//kJ\n",
"\n",
"//At 2000 kPa\n",
"vg=0.09963;//m^3/kg\n",
"ug=2600.3;//m^3/kg\n",
"hg=2799.5;//kJ/kg\n",
"v2=1/(1/vg+1/v1);//m^3/kg\n",
"\n",
"//At 1000 kPa\n",
"hf=762.81;//kJ/kg\n",
"hfg=2015.3;//kJ/kg\n",
"vf=0.001127;//m^3/kg\n",
"vg=0.19444;//m^3/kg\n",
"\n",
"x2=(v2-vf)/(vg-vf);//dryness at 1000 ka\n",
"h2=hf+x2*hfg;//kJ/kg\n",
"m=(mg*h1-mg*h2)/(h2-hg);//kg\n",
"disp('Mass of dry steam at 2000 kPa to be added is '+string(m)+' kg');\n",
"disp('Quality of final mixture is '+string(x2));"
   ]
   }
,
{
		   "cell_type": "markdown",
		   "metadata": {},
		   "source": [
			"## Example 7.14: State_of_steam.sce"
		   ]
		  },
  {
"cell_type": "code",
	   "execution_count": null,
	   "metadata": {
	    "collapsed": true
	   },
	   "outputs": [],
"source": [
"//Part A Chapter 7 Example 14\n",
"clc;\n",
"clear;\n",
"close;\n",
"rcv=71.5;//cm of Hg(Recorded condenser vaccum)\n",
"br=76.8;//cm of Hg(Barometer reading)\n",
"Tc=35;//degree C(Temperature of condensation)\n",
"Tw=27.6;//degree C(Temperature of hot well)\n",
"mc=1930;//kg(Mass of condensate/hour)\n",
"mw=62000;//kg(Mass of cooling water/hour)\n",
"T1=8.51;//degree C(Inlet temperature)\n",
"T2=26.24;//degree C(Outlet temperature)\n",
"pc=(br-rcv)/73.55*101.325;//kPa(condenser pressure)\n",
"p_partial=5.628;//kPa(at 35 degree C)\n",
"hf=146.68;//kJ/kg\n",
"hfg=2418.6;//kJ/kg\n",
"x=(mw*(T2-T1)*4.18/mc+4.18*Tw-hf)/hfg;//dryness fraction\n",
"disp('State of steam(Dryness fraction) entering condenser is '+string(x));"
   ]
   }
,
{
		   "cell_type": "markdown",
		   "metadata": {},
		   "source": [
			"## Example 7.15: Dryness_fraction_and_workdone.sce"
		   ]
		  },
  {
"cell_type": "code",
	   "execution_count": null,
	   "metadata": {
	    "collapsed": true
	   },
	   "outputs": [],
"source": [
"//Part A Chapter 7 Example 15\n",
"clc;\n",
"clear;\n",
"close;\n",
"d=20/100;//m\n",
"h=2;//cm\n",
"T=150;//degree C\n",
"F=10;//kN\n",
"Q=600;//kJ\n",
"Patm=101.3;//kPa\n",
"P=F/(%pi/4*d^2)+Patm;//kPa\n",
"V1=%pi/4*d^2*h/100;//m^3\n",
"m=V1*1000;//kg\n",
"hf=612.1;//kJ/kg(at Pressure P)\n",
"hfg=2128.7;//kJ/kg(at Pressure P)\n",
"h2=1582.8;//kJ/kg\n",
"x=(Q/m+4.18*T-hf)/hfg;//dryness factor\n",
"disp('Dryness fraction of steam produced is '+string(x));\n",
"U1=m*4.18*T-P*V1;//kJ\n",
"vg=0.4435;//m^3/kg at Pressure P\n",
"V2=m*x*vg;//m^3\n",
"U2=m*h2-P*V2;//kJ\n",
"U21=U2-U1;//kJ(U2-U1)\n",
"disp('Change in internal energy is '+string(U21)+' kJ.');\n",
"W=P*(V2-V1);//kJ\n",
"disp('Workdone is '+string(W)+' kJ.');"
   ]
   }
,
{
		   "cell_type": "markdown",
		   "metadata": {},
		   "source": [
			"## Example 7.16: Dryness_fraction.sce"
		   ]
		  },
  {
"cell_type": "code",
	   "execution_count": null,
	   "metadata": {
	    "collapsed": true
	   },
	   "outputs": [],
"source": [
"//Part A Chapter 7 Example 16\n",
"clc;\n",
"clear;\n",
"close;\n",
"mg=40;//kg\n",
"mf=2.2;//kg\n",
"p1=1.47;//MPa\n",
"T=120;//degree C\n",
"p2=107.88;//kPa\n",
"cv=2.09;//kJ/kg.K\n",
"Td=T-101.8;//degree C(DegreeSuperHeat)\n",
"hf=2673.95;//kJ/kg\n",
"h=hf+Td*cv;//kJ/kg\n",
"hf2=918.926;//kJ/kg\n",
"hfg2=1864.28;//kJ/kg\n",
"x2=(h-hf2)/hfg2;//dryness fraction\n",
"x1=(mg-mf)/mg;//dryness fraction\n",
"x=x1*x2;//overall dryness fraction\n",
"disp('Dryness fraction is '+string(x));"
   ]
   }
,
{
		   "cell_type": "markdown",
		   "metadata": {},
		   "source": [
			"## Example 7.2: Dryness_fraction_of_steam.sce"
		   ]
		  },
  {
"cell_type": "code",
	   "execution_count": null,
	   "metadata": {
	    "collapsed": true
	   },
	   "outputs": [],
"source": [
"//Part A Chapter 7 Example 2\n",
"clc;\n",
"clear;\n",
"close;\n",
"h2=2682.5;//kJ/kg(For 0.05 MPa & 100 degree C)\n",
"h1=h2;//kJ/kg(for throttling)\n",
"hf=1407.56;//kJ/kg(For 10 MPa)\n",
"hfg=1317.1;//kJ/kg(For 10 MPa)\n",
"x1=(h1-hf)/hfg;//dryness fraction\n",
"disp('Dryness fraction = '+string(x1));"
   ]
   }
,
{
		   "cell_type": "markdown",
		   "metadata": {},
		   "source": [
			"## Example 7.3: Internal_energy_of_steam.sce"
		   ]
		  },
  {
"cell_type": "code",
	   "execution_count": null,
	   "metadata": {
	    "collapsed": true
	   },
	   "outputs": [],
"source": [
"//Part A Chapter 7 Example 3\n",
"clc;\n",
"clear;\n",
"close;\n",
"m=5;//kg\n",
"cp_super_heat=2.1;//kJ/kgK\n",
"cp_water=4.18;//kJ/kgK\n",
"Tsuper_heat=300+273.15;//K\n",
"Tsat=212.42;//degreeC(at 2 MPa)\n",
"Tsat=Tsat+273.15;//K\n",
"hfg=1890.7;//kJ/kg(For 2 MPa & Tsat)\\n",
"S=cp_water*log(Tsat/273.15)+hfg/Tsat+cp_super_heat*log(Tsuper_heat/Tsat);//kJ/kgK\n",
"S_5kg=S*5;//kJ/K\n",
"disp('Entropy of 5 kg steam = '+string(S_5kg)+' kJ/K');"
   ]
   }
,
{
		   "cell_type": "markdown",
		   "metadata": {},
		   "source": [
			"## Example 7.4: Boiling_tempertaure.sce"
		   ]
		  },
  {
"cell_type": "code",
	   "execution_count": null,
	   "metadata": {
	    "collapsed": true
	   },
	   "outputs": [],
"source": [
"//Part A Chapter 7 Example 4\n",
"clc;\n",
"clear;\n",
"close;\n",
"T=110+273.15;//K\n",
"h=50;//cm\n",
"p=143.47;//kPa(at 110 degree C)\n",
"g=9.81;//ravity constant\n",
"p_dash=p-(1000*g*h/100)/1000;//kPa(pressure at 50 cm depth)\n",
"Tsat=108.866;//degree C(for pdash=138.365 kPa);\n",
"disp('Pressure at 50 cm depth is '+string(p_dash)+' kPa. From steam table, Boiling point = '+string(Tsat)+' degree C');\n",
""
   ]
   }
,
{
		   "cell_type": "markdown",
		   "metadata": {},
		   "source": [
			"## Example 7.5: Mass_and_volume_of_water.sce"
		   ]
		  },
  {
"cell_type": "code",
	   "execution_count": null,
	   "metadata": {
	    "collapsed": true
	   },
	   "outputs": [],
"source": [
"//Part A Chapter 7 Example 5\n",
"clc;\n",
"clear;\n",
"close;\n",
"V=0.5;//m^3\n",
"T=100+273.15;//K\n",
"v2=0.003155;//m^3/kg(at critical state)\n",
"v1=v2;//constant volume process\n",
"vf=0.001044;//m^3/kg(at 100 degree C)\n",
"vg=1.6729;//m^3/kg(at 100 degree C)\n",
"x1=(v1-vf)/vg;//dryness fraction\n",
"m=V/v2;//kg\n",
"mw=m*(1-x1);//kg\n",
"Vw=mw*vf;//m^3\n",
"disp('Mass of water is '+string(mw)+' kg.');\n",
"disp('Volume of water is '+string(Vw)+' m^3.');"
   ]
   }
,
{
		   "cell_type": "markdown",
		   "metadata": {},
		   "source": [
			"## Example 7.6: Slope_of_an_isobar.sce"
		   ]
		  },
  {
"cell_type": "code",
	   "execution_count": null,
	   "metadata": {
	    "collapsed": true
	   },
	   "outputs": [],
"source": [
"//Part A Chapter 7 Example 6\n",
"clc;\n",
"clear;\n",
"close;\n",
"p=2;//MPa\n",
"T=500+273.15;//K\n",
"dh_by_ds=T;//for constant pressure\n",
"disp('Slope of an isobar is '+string(dh_by_ds));"
   ]
   }
,
{
		   "cell_type": "markdown",
		   "metadata": {},
		   "source": [
			"## Example 7.7: Enthalpy_Entropy_and_specific_volume.sce"
		   ]
		  },
  {
"cell_type": "code",
	   "execution_count": null,
	   "metadata": {
	    "collapsed": true
	   },
	   "outputs": [],
"source": [
"//Part A Chapter 7 Example 7\n",
"clc;\n",
"clear;\n",
"close;\n",
"p=0.15;//MPa\n",
"x=10/100;//quality\n",
"hf=467.11;//kJ/kg//at 0.15 MPa\n",
"hg=2693.6;//kJ/kg//at 0.15 MPa\n",
"vf=0.001053;//m^3/kg//at 0.15 MPa\n",
"vg=1.1593;//m^3/kg//at 0.15 MPa\n",
"sf=1.4336;//kJ/kg.K//at 0.15 MPa\n",
"sg=7.2233;//kJ/kg.K//at 0.15 MPa\n",
"hfg=hg-hf;//kJ/kg//\n",
"h=hf+x*hfg;//kJ/kg\n",
"disp('Enthalpy is '+string(h)+' kJ/kg');\n",
"vfg=vg-vf;//m^3/kg//\n",
"v=vf+x*vfg;//m^3/kg\n",
"disp('Specific volume is '+string(v)+' m^3/kg');\n",
"sfg=sg-sf;//kJ/kg.K\n",
"s=sf+x*sfg;//kJ/kg.K\n",
"disp('Entropy is '+string(s)+' kJ/kg.K');"
   ]
   }
,
{
		   "cell_type": "markdown",
		   "metadata": {},
		   "source": [
			"## Example 7.8: Heat_added.sce"
		   ]
		  },
  {
"cell_type": "code",
	   "execution_count": null,
	   "metadata": {
	    "collapsed": true
	   },
	   "outputs": [],
"source": [
"//Part A Chapter 7 Example 8\n",
"clc;\n",
"clear;\n",
"close;\n",
"P1=1;//MPa\n",
"V1=0.05;//m^3\n",
"x1=80/100;//dryness fraction\n",
"P2=1;//MPa\n",
"V2=0.2;//m^3\n",
"W=P1*1000*(V2-V1);//kJ\n",
"vf=0.001127;//m^3/kg//at 1 MPa\n",
"vg=0.19444;//m^3/kg//at 1 MPa\n",
"uf=761.68;//kJ/kg//at 1 MPa\n",
"ufg=1822;//kJ/kg//at 1 MPa\n",
"vfg=vg-vf;//m^3/kg\n",
"v1=vf+x1*vfg;//m^3/kg\n",
"ms=V1/v1;//kg(mass of steam)\n",
"v2=V2/ms;//m^3/kg\n",
"T1=1000;T2=1100;//degree C(as v2>vg(1MPa))\n",
"T=T1+(T2-T1)*(v2-0.5871)/(0.6355-0.5871);//degree C\n",
"u2=4209.6;//kJ/kg(at 1MPa & T degree C)\n",
"u1=uf+x1*ufg;//kJ/kg\n",
"Q=W+ms*(u2-u1);//kJ\n",
"disp('Heat added is '+string(Q)+' kJ');"
   ]
   }
,
{
		   "cell_type": "markdown",
		   "metadata": {},
		   "source": [
			"## Example 7.9: Determine_pressure_and_temperature.sce"
		   ]
		  },
  {
"cell_type": "code",
	   "execution_count": null,
	   "metadata": {
	    "collapsed": true
	   },
	   "outputs": [],
"source": [
"//Part A Chapter 7 Example 9\n",
"clc;\n",
"clear;\n",
"close;\n",
"p=800;//kPa\n",
"T=200//degree C\n",
"Tsat=170.43;//degree C(at 800kPa)\n",
"v1=0.2404;//m^3/kg(at 800kPa)\n",
"v2=0.2404;//m^3/kg(at 800kPa)\n",
"vg=v2;//m^3/kg//(at 800kPa)\n",
"T1=175;T2=170;//degree C(vg=0.2404;//m^3/kg)\n",
"vg1=0.2168;//m^3/kg\n",
"vg2=0.2428;//m^3/kg\n",
"T2_begin=T1-(T1-T2)*(v1-vg1)/(vg2-vg1);//degree C\n",
"p1=892;p2=791.7;//kPa(vg=0.2404;//m^3/kg)\n",
"p2_begin=p1-(p1-p2)*(v1-vg1)/(vg2-vg1);//degree C\n",
"disp('Pressure and temperature at condensation is '+string(p2_begin)+' kPa & '+string(T2_begin)+' degree C');"
   ]
   }
],
"metadata": {
		  "kernelspec": {
		   "display_name": "Scilab",
		   "language": "scilab",
		   "name": "scilab"
		  },
		  "language_info": {
		   "file_extension": ".sce",
		   "help_links": [
			{
			 "text": "MetaKernel Magics",
			 "url": "https://github.com/calysto/metakernel/blob/master/metakernel/magics/README.md"
			}
		   ],
		   "mimetype": "text/x-octave",
		   "name": "scilab",
		   "version": "0.7.1"
		  }
		 },
		 "nbformat": 4,
		 "nbformat_minor": 0
}
