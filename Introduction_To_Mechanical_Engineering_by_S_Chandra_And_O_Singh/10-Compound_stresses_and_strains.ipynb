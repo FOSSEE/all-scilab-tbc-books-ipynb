{
"cells": [
 {
		   "cell_type": "markdown",
	   "metadata": {},
	   "source": [
       "# Chapter 10: Compound stresses and strains"
	   ]
	},
{
		   "cell_type": "markdown",
		   "metadata": {},
		   "source": [
			"## Example 2.10: Find_sigma_and_angle_of_obliquity.sce"
		   ]
		  },
  {
"cell_type": "code",
	   "execution_count": null,
	   "metadata": {
	    "collapsed": true
	   },
	   "outputs": [],
"source": [
"//Part B Chapter 2 Example 10\n",
"clc;\n",
"clear;\n",
"close;\n",
"format('v',6);\n",
"sigma_x=60;//N/mm^2\n",
"sigma_y=30;//N/mm^2\n",
"tau=25;//N/mm^2\n",
"theta=45;//degree(Oblique plane angle)\n",
"sigma_n=(sigma_x+sigma_y)/2+(sigma_x-sigma_y)/2*cosd(2*theta)+tau*sind(2*theta);//N/mm^2\n",
"disp(sigma_n,'Value of sigma_n in N/mm^2 : ');\n",
"sigma_t=(sigma_x-sigma_y)/2*sind(2*theta)-tau*cosd(2*theta);//N/mm^2\n",
"disp(sigma_t,'Value of sigma_t in N/mm^2 : ');\n",
"sigmaR=sqrt(sigma_n^2+sigma_t^2);//N/mm^2(Resultant stress)\n",
"disp(sigmaR,'Value of sigma_R in N/mm^2 : ');\n",
"fi=atand(sigma_t/sigma_n);//degree(Angle of obliquity)\n",
"disp(fi,'Angle of obliquity in degree : ');"
   ]
   }
,
{
		   "cell_type": "markdown",
		   "metadata": {},
		   "source": [
			"## Example 2.11: Find_sigma_and_angle_fi.sce"
		   ]
		  },
  {
"cell_type": "code",
	   "execution_count": null,
	   "metadata": {
	    "collapsed": true
	   },
	   "outputs": [],
"source": [
"//Part B Chapter 2 Example 11\n",
"clc;\n",
"clear;\n",
"close;\n",
"format('v',6);\n",
"sigma1=125;//N/mm^2(Tenslie)\n",
"sigma2=65;//N/mm^2(Tensile)\n",
"tau=0;//N/mm^2\n",
"theta=30;//degree\n",
"sigma_n=(sigma1+sigma2)/2+(sigma1-sigma2)/2*cosd(2*theta)+tau*sind(2*theta);//N/mm^2\n",
"disp(sigma_n,'Value of sigma_n in N/mm^2 : ');\n",
"sigma_t=(sigma1-sigma2)/2*sind(2*theta)-tau*cosd(2*theta);//N/mm^2\n",
"disp(sigma_t,'Value of sigma_t in N/mm^2 : ');\n",
"sigmaR=sqrt(sigma_n^2+sigma_t^2);//N/mm^2\n",
"disp(sigmaR,'Value of sigma_R in N/mm^2 : ');\n",
"fi=atand(sigma_t/sigma_n);//degree\n",
"disp(fi,'Angle, fi in degree : ');"
   ]
   }
,
{
		   "cell_type": "markdown",
		   "metadata": {},
		   "source": [
			"## Example 2.12: Find_sigma_and_angle_fi.sce"
		   ]
		  },
  {
"cell_type": "code",
	   "execution_count": null,
	   "metadata": {
	    "collapsed": true
	   },
	   "outputs": [],
"source": [
"//Part B Chapter 2 Example 12\n",
"clc;\n",
"clear;\n",
"close;\n",
"format('v',6);\n",
"sigma_y=0;//N/m^2\n",
"theta=30;//degree\n",
"A=450*10^-6;//m^2\n",
"F=-100;//kN\n",
"sigma_x=F/A/1000;//MN/m^2\n",
"sigma_n=(sigma_x+sigma_y)/2+(sigma_x-sigma_y)/2*cosd(2*theta);//MN/m^2\n",
"disp(sigma_n,'Value of sigma_n(compressive) in MN/m^2 : ');\n",
"sigma_t=(-sigma_x-sigma_y)/2*sind(2*theta);//MN/m^2\n",
"disp(sigma_t,'Value of sigma_t in MN/m^2 : ');\n",
"sigmaR=sqrt(sigma_n^2+sigma_t^2);//N/mm^2\n",
"disp(sigmaR,'Value of sigma_R(compressive) in N/mm^2 : ');\n",
"fi=atand(sigma_t/-sigma_n);//degree\n",
"disp(fi,'Angle, fi in degree : ');\n",
"tau_max=(-sigma_x-sigma_y)/2;//MN/m^2\n",
"disp(tau_max,'Maximum shear stress in MN/m^2 : ');"
   ]
   }
,
{
		   "cell_type": "markdown",
		   "metadata": {},
		   "source": [
			"## Example 2.13: Find_sigma_and_angle_fi.sce"
		   ]
		  },
  {
"cell_type": "code",
	   "execution_count": null,
	   "metadata": {
	    "collapsed": true
	   },
	   "outputs": [],
"source": [
"//Part B Chapter 2 Example 13\n",
"clc;\n",
"clear;\n",
"close;\n",
"format('v',6);\n",
"sigma1=70;//MN/m^2\n",
"sigma2=30;//MN/m^2\n",
"theta=20;//degree\n",
"sigma_n=(sigma1+sigma2)/2+(sigma1-sigma2)/2*cosd(2*theta);//MN/m^2\n",
"disp(sigma_n,'Value of sigma_n(tensile) in MN/m^2 : ');\n",
"sigma_t=(sigma1-sigma2)/2*sind(2*theta);//MN/m^2\n",
"disp(sigma_t,'Value of sigma_t(shear) in MN/m^2 : ');\n",
"sigmaR=sqrt(sigma_n^2+sigma_t^2);//MN/m^2\n",
"disp(sigmaR,'Value of sigma_R in MN/m^2 : ');\n",
"fi=atand(sigma_t/sigma_n);//degree\n",
"disp(fi,'Angle, fi in degree : ');"
   ]
   }
,
{
		   "cell_type": "markdown",
		   "metadata": {},
		   "source": [
			"## Example 2.1: Maximum_shear_stress.sce"
		   ]
		  },
  {
"cell_type": "code",
	   "execution_count": null,
	   "metadata": {
	    "collapsed": true
	   },
	   "outputs": [],
"source": [
"//Part B Chapter 2 Example 1\n",
"clc;\n",
"clear;\n",
"close;\n",
"format('v',6);\n",
"d=50;//mm(dimeter of bar)\n",
"F=120;//kN(Tensile force)\n",
"sigma_t=15;//MN/m^2(Tensile)\n",
"A=%pi*d^2/4;//mm^2\n",
"sigma_x=F/A*1000;//MN/m^2(tensile)\n",
"sigma_t_max=sigma_x/2;//MN/m^2\n",
"disp(sigma_t_max,'Maximum  shear stress in MN/m^2 : ');\n",
"two_theta=asind(sigma_t/(sigma_x/2));///degree\n",
"theta=[two_theta/2 (180-two_theta)/2];//degree\n",
"disp(theta,'Directions of plane in degree are : ');\n",
"sigma_n=sigma_x*cosd(theta)^2;//MN/m^2(Tensile)\n",
"disp(sigma_n,'Shear stress(tensile) in MN/m^2 for above angles are : ');"
   ]
   }
,
{
		   "cell_type": "markdown",
		   "metadata": {},
		   "source": [
			"## Example 2.2: Find_the_stresses.sce"
		   ]
		  },
  {
"cell_type": "code",
	   "execution_count": null,
	   "metadata": {
	    "collapsed": true
	   },
	   "outputs": [],
"source": [
"//Part B Chapter 2 Example 2\n",
"clc;\n",
"clear;\n",
"close;\n",
"format('v',6);\n",
"theta=25;//degree(angle with plane AB)\n",
"sigma_x=60;//N/mm^2\n",
"sigma_y=-90;//MN/m^2 or N/mm^2\n",
"sigma_n=(sigma_x+sigma_y)/2+(sigma_x-sigma_y)/2*cosd(2*theta);//N/mm^2\n",
"sigma_t=(sigma_x-sigma_y)/2*sind(2*theta);//N/mm^2\n",
"sigma=sqrt(sigma_n^2+sigma_t^2);//N/mm^2(Resultant stress)\n",
"fi=atand(sigma_n/sigma_t);//degree\n",
"disp(sigma_n,'Normal stress in N/mm^2 : ');\n",
"disp(sigma_t,'Tangential stress in N/mm^2 : ');\n",
"disp(fi,'Angle fi in degree : ');\n",
"disp(theta+fi,'Angle of resultant stress with plane AB will be theta+fi=');"
   ]
   }
,
{
		   "cell_type": "markdown",
		   "metadata": {},
		   "source": [
			"## Example 2.3: Principle_stresses_and_max_shear_stress.sce"
		   ]
		  },
  {
"cell_type": "code",
	   "execution_count": null,
	   "metadata": {
	    "collapsed": true
	   },
	   "outputs": [],
"source": [
"//Part B Chapter 2 Example 3\n",
"clc;\n",
"clear;\n",
"close;\n",
"format('v',6);\n",
"sigma_x=150;//N/m^2\n",
"sigma_y=100;//N/m^2\n",
"tau=80;//N/m^2\n",
"two_theta=atand(2*tau/(sigma_x-sigma_y));//degree\n",
"theta=[two_theta/2 (two_theta+180)/2];//degree\n",
"disp(theta,'Direction of principle stresses in degree are : ');\n",
"sigma1=(sigma_x+sigma_y)/2+sqrt((sigma_x-sigma_y)^2/4+tau^2);//N/mm^2\n",
"sigma2=(sigma_x+sigma_y)/2-sqrt((sigma_x-sigma_y)^2/4+tau^2);//N/mm^2\n",
"disp(sigma2,sigma1,'Two principle stresses(tensile) in N/mm^2 are : ');\n",
"tau_max=sqrt((sigma_x-sigma_y)^2/4+tau^2);//N/mm^2\n",
"disp(tau_max,'Magnitude of maximum stresses(tensile) in N/mm^2 : ');\n",
"disp('Direction of maximum stress : 45 degree to principle plane');"
   ]
   }
,
{
		   "cell_type": "markdown",
		   "metadata": {},
		   "source": [
			"## Example 2.4: Value_of_shear_stress.sce"
		   ]
		  },
  {
"cell_type": "code",
	   "execution_count": null,
	   "metadata": {
	    "collapsed": true
	   },
	   "outputs": [],
"source": [
"//Part B Chapter 2 Example 4\n",
"clc;\n",
"clear;\n",
"close;\n",
"format('v',6);\n",
"sigma_x=120;//N/mm^2(Tensile)\n",
"sigma_y=-90;//N/mm^2(Compressive)\n",
"sigma1=150;//N/mm^2(Principle stress: major)\n",
"tau=sqrt((sigma1-(sigma_x+sigma_y)/2)^2-(sigma_x-sigma_y)^2/4);//N/mm^2(Shear stress)\n",
"disp(tau,'Value of shear stress in N/mm^2 : ');"
   ]
   }
,
{
		   "cell_type": "markdown",
		   "metadata": {},
		   "source": [
			"## Example 2.5: Value_of_shear_stress.sce"
		   ]
		  },
  {
"cell_type": "code",
	   "execution_count": null,
	   "metadata": {
	    "collapsed": true
	   },
	   "outputs": [],
"source": [
"//Part B Chapter 2 Example 5\n",
"clc;\n",
"clear;\n",
"close;\n",
"format('v',6);\n",
"sigma1=100;//N/m^2\n",
"sigma2=-50;//N/m^2\n",
"tau=0;//N/mm^2\n",
"theta=60;//degree\n",
"sigma_n=(sigma1+sigma2)/2+(sigma1-sigma2)/2*cosd(2*theta);//N/mm^2\n",
"sigma_t=(sigma1-sigma2)/2*sind(2*theta);//N/mm^2\n",
"sigma=sqrt(sigma_n^2+sigma_t^2);//N/mm^2\n",
"disp(sigma_n,'Value of sigma_n(compressive) in N/mm^2 : ');\n",
"disp(sigma_t,'Value of sigma_t in N/mm^2 : ');\n",
"disp(sigma,'Value of resultant stress in N/mm^2 : ');\n",
"alfa=1/2*asind(-(sigma1+sigma2)/2/sqrt((sigma1-sigma2)^2/4))-45;//degree\n",
"disp('Plane of whole shear is '+string(alfa)+' degree with plane AD');\n",
"sigma_t_alfa=(sigma1-sigma2)/2*sind(2*alfa)-tau*cosd(2*alfa);//N/mm^2\n",
"disp(sigma_t_alfa,'Value of shear stresses at this plane in N/mm^2 : ');"
   ]
   }
,
{
		   "cell_type": "markdown",
		   "metadata": {},
		   "source": [
			"## Example 2.7: Minimum_principle_stress.sce"
		   ]
		  },
  {
"cell_type": "code",
	   "execution_count": null,
	   "metadata": {
	    "collapsed": true
	   },
	   "outputs": [],
"source": [
"//Part B Chapter 2 Example 7\n",
"clc;\n",
"clear;\n",
"close;\n",
"format('v',6);\n",
"sigma1=600;//N/m^2(major)\n",
"sigma_x=450;//N/m^2\n",
"sigma_y=0;//N/m^2\n",
"tau=sqrt((sigma1-(sigma_x+sigma_y)/2)^2-(sigma_x-sigma_y)^2/4);//N/mm^2\n",
"disp(tau,'Maximum value of tau in N/mm^2 : ');\n",
"sigma2=(sigma_x+sigma_y)/2-sqrt((sigma_x-sigma_y)^2/4+tau^2);//N/mm^2\n",
"disp(sigma2,'Minimum principle stress(compressive) in N/mm^2 : ');"
   ]
   }
,
{
		   "cell_type": "markdown",
		   "metadata": {},
		   "source": [
			"## Example 2.8: Principles_stress_and_shear_stress.sce"
		   ]
		  },
  {
"cell_type": "code",
	   "execution_count": null,
	   "metadata": {
	    "collapsed": true
	   },
	   "outputs": [],
"source": [
"//Part B Chapter 2 Example 8\n",
"clc;\n",
"clear;\n",
"close;\n",
"format('v',6);\n",
"sigma_x=-150;//N/m^2\n",
"sigma_y=-100;//N/m^2\n",
"tau=-60;//N/mm^2\n",
"sigma1=(sigma_x+sigma_y)/2+sqrt((sigma_x-sigma_y)^2/4+tau^2);//N/mm^2\n",
"sigma2=(sigma_x+sigma_y)/2-sqrt((sigma_x-sigma_y)^2/4+tau^2);//N/mm^2\n",
"disp(sigma2,sigma1,'Two principle stresses(compressive) in N/mm^2 are : ');\n",
"tau_max=sqrt((sigma_x-sigma_y)^2/4+tau^2);//N/mm^2\n",
"disp(tau_max,'Maximum shear stress in N/mm^2 : ');\n",
"two_theta=atand(2*tau/(sigma_x-sigma_y));//degree\n",
"theta=[two_theta/2 (two_theta+180)/2];//degree\n",
"disp(theta,'Direction of principle stresses in degree is : ');\n",
"disp('Direction of maximum stress : 45 degree to principle plane. ');"
   ]
   }
,
{
		   "cell_type": "markdown",
		   "metadata": {},
		   "source": [
			"## Example 2.9: Find_resultant_stress.sce"
		   ]
		  },
  {
"cell_type": "code",
	   "execution_count": null,
	   "metadata": {
	    "collapsed": true
	   },
	   "outputs": [],
"source": [
"//Part B Chapter 2 Example 9\n",
"clc;\n",
"clear;\n",
"close;\n",
"format('v',6);\n",
"sigma1=200;//N/m^2\n",
"sigma2=-80;//N/m^2\n",
"theta_dash=60;//degree\n",
"theta=90-theta_dash;//degree\n",
"sigma_n=(sigma1+sigma2)/2+(sigma1-sigma2)/2*cosd(2*theta);//N/mm^2\n",
"sigma_t=(sigma1-sigma2)/2*sind(2*theta);//N/mm^2\n",
"sigmaR=sqrt(sigma_n^2+sigma_t^2);//N/mm^2\n",
"disp(sigmaR,'Resultant stress in N/mm^2 : ');\n",
"fi=atand(sigma_t/sigma_n);//degree\n",
"disp(fi,'Direction of resultant stress in degree : ');\n",
"tau_max=(sigma1-sigma2)/2;//N/mm^2\n",
"disp(tau_max,'Maximum shear stress in N/mm^2 : ');"
   ]
   }
],
"metadata": {
		  "kernelspec": {
		   "display_name": "Scilab",
		   "language": "scilab",
		   "name": "scilab"
		  },
		  "language_info": {
		   "file_extension": ".sce",
		   "help_links": [
			{
			 "text": "MetaKernel Magics",
			 "url": "https://github.com/calysto/metakernel/blob/master/metakernel/magics/README.md"
			}
		   ],
		   "mimetype": "text/x-octave",
		   "name": "scilab",
		   "version": "0.7.1"
		  }
		 },
		 "nbformat": 4,
		 "nbformat_minor": 0
}
