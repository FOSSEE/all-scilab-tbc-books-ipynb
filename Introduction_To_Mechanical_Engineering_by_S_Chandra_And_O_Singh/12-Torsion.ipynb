{
"cells": [
 {
		   "cell_type": "markdown",
	   "metadata": {},
	   "source": [
       "# Chapter 12: Torsion"
	   ]
	},
{
		   "cell_type": "markdown",
		   "metadata": {},
		   "source": [
			"## Example 4.10: Shear_stress_and_angle_of_twist.sce"
		   ]
		  },
  {
"cell_type": "code",
	   "execution_count": null,
	   "metadata": {
	    "collapsed": true
	   },
	   "outputs": [],
"source": [
"//Part B Chapter 4 Example 10\n",
"clc;\n",
"clear;\n",
"close;\n",
"d=50;//mm\n",
"D1=110;//mm\n",
"D2=70;//mm\n",
"L=1*1000;//mm\n",
"T=1.5*10^6;//kNmm\n",
"G=10^5;//MPa\n",
"tauH_BY_tauS=D1/2/(d/2);\n",
"//tauS=T/(tauH_BY_tauS*%pi*(D1^4-D2^4)/32/D1+%pi*d^4/d/32);//N/mm^2\n",
"tauS=T/(tauH_BY_tauS*%pi*(D1^4-D2^4)/(D1*32)+%pi*d^4/(32*d))\n",
"tauH=tauH_BY_tauS*tauS;//N/mm^2\n",
"disp('Shear Stress in Solid shaft is '+string(tauS)+' N/mm^2');\n",
"disp('Shear Stress in hollow shaft is '+string(tauH)+' N/mm^2');\n",
"thetaH=tauS/G/(d/2);//radian\n",
"thetaS=thetaH;//radian\n",
"disp('Angle of twist oh both shaft is equal and it is '+string(thetaS)+' radian.');\n",
"//ANSWER IN THE BOOK IS WRONG."
   ]
   }
,
{
		   "cell_type": "markdown",
		   "metadata": {},
		   "source": [
			"## Example 4.11: Find_shear_stress.sce"
		   ]
		  },
  {
"cell_type": "code",
	   "execution_count": null,
	   "metadata": {
	    "collapsed": true
	   },
	   "outputs": [],
"source": [
"//Part B Chapter 4 Example 11\n",
"clc;\n",
"clear;\n",
"close;\n",
"b=25;//mm\n",
"L=120;//mm\n",
"d=60;//mm\n",
"P=100*1000;//W\n",
"N=120;//rpm\n",
"T=P*60/2/%pi/N;//Nm\n",
"tauS=(T*16/%pi/d^3)*1000;//N/mm^2\n",
"tauK=(T*2/b/d/L)*1000;//N/mm^2\n",
"disp('Shear Stress for shaft is '+string(tauS)+' N/mm^2');\n",
"disp('Shear Stress for key is '+string(tauK)+' N/mm^2');"
   ]
   }
,
{
		   "cell_type": "markdown",
		   "metadata": {},
		   "source": [
			"## Example 4.12: Diameter_of_bolt.sce"
		   ]
		  },
  {
"cell_type": "code",
	   "execution_count": null,
	   "metadata": {
	    "collapsed": true
	   },
	   "outputs": [],
"source": [
"//Part B Chapter 4 Example 12\n",
"clc;\n",
"clear;\n",
"close;\n",
"n=8;//no. of bolts\n",
"d=160;//mm\n",
"F=450;//kN\n",
"T=20;//kNm\n",
"tau_t=120;//N/mm^2(For tensile load)\n",
"tau_s=60;//N/mm^2(For shear load)\n",
"db1=sqrt(F*1000/n/(%pi/4)/tau_t);//mm\n",
"db2=sqrt(T*10^6/(n*tau_s*%pi/4*(d/2)));//mm\n",
"db=max(db1,db2);//mm\n",
"disp('Suitable bolt diameter is '+string(db)+' mm');\n",
"                                                "
   ]
   }
,
{
		   "cell_type": "markdown",
		   "metadata": {},
		   "source": [
			"## Example 4.13: Max_Power.sce"
		   ]
		  },
  {
"cell_type": "code",
	   "execution_count": null,
	   "metadata": {
	    "collapsed": true
	   },
	   "outputs": [],
"source": [
"//Part B Chapter 4 Example 13\n",
"clc;\n",
"clear;\n",
"close;\n",
"b=30;//mm(thickness)\n",
"l=8;//m\n",
"d=260;//mm\n",
"D=d+2*b;//mm\n",
"N=300;//rpm\n",
"tau_s=16;//N/mm^2\n",
"Gs=8.5*10^4;//N/mm^2\n",
"Gb=4.5*10^4;//N/mm^2\n",
"Ips=%pi/32*d^4;//mm^4\n",
"Ipb=%pi/32*(D^4-d^4);//mm^4\n",
"TsByTb=Ips/Ipb*Gs/Gb;\n",
"Ts=%pi/16*d^3*tau_s;//Nmm\n",
"Tb=Ts/TsByTb;//Nmm\n",
"T=Ts+Tb;//Nmm\n",
"P=2*%pi*N*T/60/1000;//W\n",
"disp('Maximum power is '+string(P/1000)+' kW');"
   ]
   }
,
{
		   "cell_type": "markdown",
		   "metadata": {},
		   "source": [
			"## Example 4.14: Safe_diameter_of_shaft.sce"
		   ]
		  },
  {
"cell_type": "code",
	   "execution_count": null,
	   "metadata": {
	    "collapsed": true
	   },
	   "outputs": [],
"source": [
"//Part B Chapter 4 Example 14\n",
"clc;\n",
"clear;\n",
"close;\n",
"tau_s=60;//N/mm^2\n",
"//Forces on pulley A, B & C\n",
"A1=3000;//N\n",
"A2=1000;//N\n",
"B1=1200;//N\n",
"B2=2200;//N\n",
"C1=1000;//N\n",
"C2=2250;//N\n",
"dA=250;//mm\n",
"dB=250;//mm\n",
"dC=200;//mm\n",
"TA=(A1-A2)*dA/2;//Nmm\n",
"TB=(B2-B1)*dB/2;//Nmm\n",
"TC=(C2-C1)*dC/2;//Nmm\n",
"T=max(TA,TB,TC);//Nmm(Max. Torque)\n",
"d=(T/tau_s/(%pi/16))^(1/3);//mm\n",
"disp('Safe diameter of shaft is '+string(d)+' mm');"
   ]
   }
,
{
		   "cell_type": "markdown",
		   "metadata": {},
		   "source": [
			"## Example 4.15: Max_bending_and_shear_stress.sce"
		   ]
		  },
  {
"cell_type": "code",
	   "execution_count": null,
	   "metadata": {
	    "collapsed": true
	   },
	   "outputs": [],
"source": [
"//Part B Chapter 4 Example 15\n",
"clc;\n",
"clear;\n",
"close;\n",
"l=3;//m\n",
"d1=85;//mm\n",
"d2=65;//mm\n",
"A=1*0.5;//m^2\n",
"Pw=2200;//N/mm^2\n",
"LG=Pw*A//N(Total Wind load at G)\n",
"M=LG*(3+0.25)//Nm(Max BM on pipe)\n",
"T=LG*(0.5+0.5);//Nm\n",
"I=%pi/64*(d1^4-d2^4);//mm^4\n",
"Z=I/42.5;//mm^3\n",
"Zp=2*Z;//mm^3\n",
"sigma_b=M*1000/Z;//N/mm^2\n",
"tau_s=T*1000/Zp;//N/mm^2\n",
"disp('Maximum bending stress is '+string(sigma_b)+' N/mm^2');\n",
"disp('Maximum shear stress is '+string(tau_s)+' N/mm^2');"
   ]
   }
,
{
		   "cell_type": "markdown",
		   "metadata": {},
		   "source": [
			"## Example 4.16: Estimate_angular_twist.sce"
		   ]
		  },
  {
"cell_type": "code",
	   "execution_count": null,
	   "metadata": {
	    "collapsed": true
	   },
	   "outputs": [],
"source": [
"//Part B Chapter 4 Example 16\n",
"clc;\n",
"clear;\n",
"close;\n",
"d1=80;//mm\n",
"b=1.75;//mm\n",
"l=1.6;//m\n",
"T=80;//Nm\n",
"G=82;//GN/m^2\n",
"d2=d1-2*b;//mm\n",
"Ip=%pi/32*(d1^4-d2^4)*10^-12;//m^4\n",
"theta=T*l/Ip/(G*10^9);//radian\n",
"disp('Angular twist is '+string(theta)+' radian.');"
   ]
   }
,
{
		   "cell_type": "markdown",
		   "metadata": {},
		   "source": [
			"## Example 4.17: Fnd_torque_required.sce"
		   ]
		  },
  {
"cell_type": "code",
	   "execution_count": null,
	   "metadata": {
	    "collapsed": true
	   },
	   "outputs": [],
"source": [
"//Part B Chapter 4 Example 17\n",
"clc;\n",
"clear;\n",
"close;\n",
"l=25;//m\n",
"d=0.5;//mm\n",
"n=10;//no. of rounds\n",
"G=82;//GN/m^2\n",
"Ip=%pi/32*d^4*10^-12;//m^4\n",
"theta=2*%pi*n;//radian\n",
"T=G*10^9*Ip*theta/l;//Nm\n",
"disp('Torque required is '+string(T)+' Nm.');"
   ]
   }
,
{
		   "cell_type": "markdown",
		   "metadata": {},
		   "source": [
			"## Example 4.18: Find_maximum_torque.sce"
		   ]
		  },
  {
"cell_type": "code",
	   "execution_count": null,
	   "metadata": {
	    "collapsed": true
	   },
	   "outputs": [],
"source": [
"//Part B Chapter 4 Example 18\n",
"clc;\n",
"clear;\n",
"close;\n",
"d=3.5/1000;//m\n",
"tau_s=240*10^6;//N/m^2\n",
"Ip=%pi/32*d^4;//m^4\n",
"T=tau_s*Ip/(d/2);//Nm\n",
"disp('Maximum torque transmitted is '+string(T)+' Nm.');"
   ]
   }
,
{
		   "cell_type": "markdown",
		   "metadata": {},
		   "source": [
			"## Example 4.19: Diameter_of_hollow_shaft.sce"
		   ]
		  },
  {
"cell_type": "code",
	   "execution_count": null,
	   "metadata": {
	    "collapsed": true
	   },
	   "outputs": [],
"source": [
"//Part B Chapter 4 Example 19\n",
"clc;\n",
"clear;\n",
"close;\n",
"d=16;//cm\n",
"As=%pi/4*d^2;//cm\n",
"D1=poly(0,'D1');\n",
"D2=poly(0,'D2');\n",
"deltaD=As/(%pi/4);//(let deltaD=D1^2-D2^2)\n",
"//USS=1.2*USH\n",
"//USS=(D1^2+D2^2)/D1^2*USH\n",
"D2BYD1=sqrt(0.2);\n",
"D1=sqrt(deltaD/(1-D2BYD1^2));//cm\n",
"D2=D2BYD1*D1;//cm\n",
"disp('Outer diameter of hollow shaft is '+string(D1)+' cm.');\n",
"disp('Inner diameter of hollow shaft is '+string(D2)+' cm.');"
   ]
   }
,
{
		   "cell_type": "markdown",
		   "metadata": {},
		   "source": [
			"## Example 4.1: Angle_of_twist_and_shear.sce"
		   ]
		  },
  {
"cell_type": "code",
	   "execution_count": null,
	   "metadata": {
	    "collapsed": true
	   },
	   "outputs": [],
"source": [
"//Part B Chapter 4 Example 1\n",
"clc;\n",
"clear;\n",
"close;\n",
"R=75;//mm\n",
"G=75;//GN/m^2\n",
"L=3;//m\n",
"tau_s=75;//MN/m^2\n",
"theta=tau_s*L/R/G*180/%pi;//degree\n",
"disp('Angle of twist is '+string(theta)+' degree.');\n",
"r=50;//mm\n",
"tau=tau_s*r/R;//MN/m^2\n",
"disp('Shear stress at inside surface is '+string(tau)+' MN/m^2');"
   ]
   }
,
{
		   "cell_type": "markdown",
		   "metadata": {},
		   "source": [
			"## Example 4.20: Max_shear_stress.sce"
		   ]
		  },
  {
"cell_type": "code",
	   "execution_count": null,
	   "metadata": {
	    "collapsed": true
	   },
	   "outputs": [],
"source": [
"//Part B Chapter 4 Example 20\n",
"clc;\n",
"clear;\n",
"close;\n",
"tau=82;//N/mm^2\n",
"M=3.5/1000;//Nm\n",
"T=4.5/1000;//Nm\n",
"DoBYDi=2;\n",
"Do=(16*sqrt(M^2+T^2)/%pi/tau*16/15)^(1/3);//mm\n",
"Di=Do/DoBYDi;//mm\n",
"disp('Outer diameter is '+string(Do*1000)+' m.');\n",
"disp('Inner diameter is '+string(Di*1000)+' m.');"
   ]
   }
,
{
		   "cell_type": "markdown",
		   "metadata": {},
		   "source": [
			"## Example 4.2: Power_and_angle_of_twist.sce"
		   ]
		  },
  {
"cell_type": "code",
	   "execution_count": null,
	   "metadata": {
	    "collapsed": true
	   },
	   "outputs": [],
"source": [
"//Part B Chapter 4 Example 2\n",
"clc;\n",
"clear;\n",
"close;\n",
"R=125;//mm\n",
"D=250/1000;//m\n",
"d=160/1000;//m\n",
"tau_s=70;//MN/m^2\n",
"IP=%pi/32*(D^4-d^4);//m^4\n",
"Tmax=tau_s*10^6*IP/(R/1000);//Nm\n",
"Tmin=Tmax/1.40;//Nm\n",
"N=60;//RPM\n",
"P=2*%pi*N*Tmin/60;//W\n",
"disp('Power transmitted by the shaft is '+string(P/1000)+' kW');\n",
"L=5;//m\n",
"G=80;//GN/m^2\n",
"theta=tau_s*L/R/G*180/%pi;//degree\n",
"disp('Angle of twist is '+string(theta)+' degree.');\n",
"//Solution is not complete in the book."
   ]
   }
,
{
		   "cell_type": "markdown",
		   "metadata": {},
		   "source": [
			"## Example 4.3: Internal_diameter_and_bolt_diameter.sce"
		   ]
		  },
  {
"cell_type": "code",
	   "execution_count": null,
	   "metadata": {
	    "collapsed": true
	   },
	   "outputs": [],
"source": [
"//Part B Chapter 4 Example 3\n",
"clc;\n",
"clear;\n",
"close;\n",
"n=12;//bolts\n",
"PCD=300;//mm\n",
"D=50;//mm\n",
"Ddash=90;//mm\n",
"tau_s=60;//MN/m^2\n",
"T=tau_s*10^6*%pi*(D/1000)^4/(D/2*10^-3*32);//Nm\n",
"R=Ddash/2;//mm\n",
"d=(Ddash^4-T*1000*R*32/60/%pi)^(1/4);//mm\n",
"disp('Internal diameter of hollow shaft is '+string(d)+' mm');\n",
"Tb=T/n;//Nm per bolt\n",
"PCrad=150;///mm\n",
"Fb=Tb/(PCrad/1000);//N(Force on bolt)\n",
"tau_sb=20;//MN/m^2\n",
"Ab=Fb/tau_sb/10^6;//m^2(Area of bolt)\n",
"db=sqrt(Ab/(%pi/4));//m\n",
"disp('Bolt diameter is '+string(db*1000)+' mm');"
   ]
   }
,
{
		   "cell_type": "markdown",
		   "metadata": {},
		   "source": [
			"## Example 4.4: Shear_stress_and_twist_angle.sce"
		   ]
		  },
  {
"cell_type": "code",
	   "execution_count": null,
	   "metadata": {
	    "collapsed": true
	   },
	   "outputs": [],
"source": [
"//Part B Chapter 4 Example 4\n",
"clc;\n",
"clear;\n",
"close;\n",
"D=50;//mm\n",
"l=3;//m\n",
"P=60;//hp\n",
"N=250;//rpm\n",
"G=90;//GN/m^2\n",
"Pl=20;//hp(assumed)\n",
"Tl=Pl*746/2/%pi/N;//Nm\n",
"Pr=Pl*2;//hp(Pr:Pl=1:2)\n",
"Tr=Pr*746/2/%pi/N;//Nm\n",
"tau_max=Tr*(D/2)*10^-3*32/(%pi*(D/1000)^4);//MN/m^2\n",
"disp('Maximum shear stress is '+string(tau_max/10^6)+' MN/m^2.');\n",
"theta_l=Tl*1.5*32/(G*10^9*%pi*(D/1000)^4);//radian\n",
"theta_r=Tr*1.5*32/(G*10^9*%pi*(D/1000)^4);//radian\n",
"theta=theta_r-theta_l;//radian\n",
"disp('Angle of twist is '+string(theta)+' radian.');"
   ]
   }
,
{
		   "cell_type": "markdown",
		   "metadata": {},
		   "source": [
			"## Example 4.5: Poisson_Ratio_and_value_of_E_G_and_K.sce"
		   ]
		  },
  {
"cell_type": "code",
	   "execution_count": null,
	   "metadata": {
	    "collapsed": true
	   },
	   "outputs": [],
"source": [
"//Part B Chapter 4 Example 5\n",
"clc;\n",
"clear;\n",
"close;\n",
"D=25;//mm\n",
"L=250;//mm\n",
"d=0.120;//mm(stretch)\n",
"F=60;//kN\n",
"theta=0.030;//radian\n",
"T=0.5;//kNm\n",
"epsilon=d/L;\n",
"sigma=F*1000*4/(%pi*(D/1000)^2);//GN/m^2\n",
"E=sigma/epsilon/10^9;//GN/m^2\n",
"disp('Value of E is '+string(E)+' GN/m^2');\n",
"G=T*1000*32*L/1000/(theta*%pi*(D/1000)^4)/10^9;//GN/m^2\n",
"disp('Value of G is '+string(G)+' GN/m^2');\n",
"m=2*G/E/(1-2*G/E);\n",
"disp('Poisson ratio is '+string(1/m));\n",
"K=m*E/3/(m-1);//GN/m^2\n",
"disp('Bulk Modulus, K is '+string(K)+' GN/m^2');"
   ]
   }
,
{
		   "cell_type": "markdown",
		   "metadata": {},
		   "source": [
			"## Example 4.6: Diameter_of_shaft.sce"
		   ]
		  },
  {
"cell_type": "code",
	   "execution_count": null,
	   "metadata": {
	    "collapsed": true
	   },
	   "outputs": [],
"source": [
"//Part B Chapter 4 Example 6\n",
"clc;\n",
"clear;\n",
"close;\n",
"L=2.5;//m\n",
"P=70*1000;//W\n",
"N=250;//rpm\n",
"tau_max=55*10^6;//N/m^2\n",
"theta=1;//degree\n",
"theta=theta*%pi/180;//radian\n",
"G=100;//GN/m^2\n",
"T=P*60/2/%pi/N;//Nm\n",
"d1=(T*16/%pi/(tau_max))^(1/3);//m\n",
"d2=(T*32/%pi/(G*10^9*theta/L))^(1/4);//m(Condidering twist 1 degree)\n",
"d=max(d1,d2)*1000;//mm\n",
"disp('Suitable diameter is '+string(d)+' mm');"
   ]
   }
,
{
		   "cell_type": "markdown",
		   "metadata": {},
		   "source": [
			"## Example 4.7: Diameter_of_shaft.sce"
		   ]
		  },
  {
"cell_type": "code",
	   "execution_count": null,
	   "metadata": {
	    "collapsed": true
	   },
	   "outputs": [],
"source": [
"//Part B Chapter 4 Example 7\n",
"clc;\n",
"clear;\n",
"close;\n",
"M=2.5*1000;//Nm\n",
"T=3.5*1000;//Nm\n",
"Te=sqrt(M^2+T^2)//Nm\n",
"Me=(M+sqrt(M^2+T^2))/2//Nm\n",
"tau_max=400*10^6;//N/m^2\n",
"d1=(Te*16/%pi/tau_max)^(1/3)*1000;//mm\n",
"sigma=750*10^6;//N/m^2\n",
"d2=(Me*32/%pi/sigma)^(1/3)*1000;//mm\n",
"d=max(d1,d2);//mm\n",
"disp('Suitable diameter is '+string(round(d))+' mm');"
   ]
   }
,
{
		   "cell_type": "markdown",
		   "metadata": {},
		   "source": [
			"## Example 4.8: Maximum_torque_and_total_rotation.sce"
		   ]
		  },
  {
"cell_type": "code",
	   "execution_count": null,
	   "metadata": {
	    "collapsed": true
	   },
	   "outputs": [],
"source": [
"//Part B Chapter 4 Example 8\n",
"clc;\n",
"clear;\n",
"close;\n",
"db=100;//m\n",
"ds=75;//mm\n",
"Lb=1.2*1000;//mm\n",
"Ls=1.2*1000;//mm\n",
"Gb=40;//kN/mm^2\n",
"Gs=80;//kN/mm^2\n",
"tau_s_AB=100;//N/m^2\n",
"T_AB=tau_s_AB*%pi*db^4/32/(db/2);//Nmm\n",
"tau_s_BC=120;//N/m^2\n",
"T_BC=tau_s_BC*%pi*ds^4/32/(ds/2);//Nmm\n",
"T=min(T_AB,T_BC);//Nmm(For safety minimum value choosen)\n",
"disp('Maximum torque can be applied is '+string(T)+' Nmm');\n",
"theta=T*(Lb/(Gb*1000)/(%pi/32*db^4)+Ls/(Gs*1000)/(%pi/32*ds^4));//radian\n",
"disp('Rotation of free end is '+string(theta)+' radian');\n",
"//ANSWER IN THE BOOK IS WRONG."
   ]
   }
,
{
		   "cell_type": "markdown",
		   "metadata": {},
		   "source": [
			"## Example 4.9: Strength_and_weight_ratio.sce"
		   ]
		  },
  {
"cell_type": "code",
	   "execution_count": null,
	   "metadata": {
	    "collapsed": true
	   },
	   "outputs": [],
"source": [
"//Part B Chapter 4 Example 9 \n",
"clc;\n",
"clear;\n",
"close;\n",
"d=120;//mm\n",
"D1=120;//mm\n",
"D2=60;//mm\n",
"ThBYTs=(D1^4-D2^4)/d^4;\n",
"WhBYWs=%pi/4*((D1^2-D2^2)/(%pi/4)/d^2);\n",
"disp('Strength ratio, Th/Ts is '+string(ThBYTs));\n",
"disp('Weight ratio, Wh/Ws is '+string(WhBYWs));\n",
""
   ]
   }
],
"metadata": {
		  "kernelspec": {
		   "display_name": "Scilab",
		   "language": "scilab",
		   "name": "scilab"
		  },
		  "language_info": {
		   "file_extension": ".sce",
		   "help_links": [
			{
			 "text": "MetaKernel Magics",
			 "url": "https://github.com/calysto/metakernel/blob/master/metakernel/magics/README.md"
			}
		   ],
		   "mimetype": "text/x-octave",
		   "name": "scilab",
		   "version": "0.7.1"
		  }
		 },
		 "nbformat": 4,
		 "nbformat_minor": 0
}
