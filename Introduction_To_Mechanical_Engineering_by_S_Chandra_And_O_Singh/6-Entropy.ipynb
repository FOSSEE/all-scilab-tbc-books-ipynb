{
"cells": [
 {
		   "cell_type": "markdown",
	   "metadata": {},
	   "source": [
       "# Chapter 6: Entropy"
	   ]
	},
{
		   "cell_type": "markdown",
		   "metadata": {},
		   "source": [
			"## Example 6.10: Change_in_enthalpy_and_entropy.sce"
		   ]
		  },
  {
"cell_type": "code",
	   "execution_count": null,
	   "metadata": {
	    "collapsed": true
	   },
	   "outputs": [],
"source": [
"//Part A Chapter 6 Example 10\n",
"clc;\n",
"clear;\n",
"close;\n",
"p1=3;//MPa\n",
"V1=0.05;//m^3\n",
"V2=0.3;//m^3\n",
"p2=p1*V1^1.4/V2^1.4;//Mpa\n",
"deltaS=0;//for reversible process\n",
"deltaH=integrate('(p1*V1^1.4/P)^(1/1.4)','P',p2,p1  );//MJ\n",
"disp('Enthalpy change = '+string(deltaH*1000)+' kJ');\n",
"disp('Entropy change = '+string(deltaS));"
   ]
   }
,
{
		   "cell_type": "markdown",
		   "metadata": {},
		   "source": [
			"## Example 6.11: Determine_entropy_change.sce"
		   ]
		  },
  {
"cell_type": "code",
	   "execution_count": null,
	   "metadata": {
	    "collapsed": true
	   },
	   "outputs": [],
"source": [
"//Part A Chapter 6 Example 11\n",
"clc;\n",
"clear;\n",
"close;\n",
"m=2;//kg\n",
"V1=1;//m^3\n",
"V2=10;//m^3\n",
"R=287;//consant\n",
"deltaS_air=m*R*log(V2/V1);//J/K\n",
"disp('Entropy change of air = '+string(deltaS_air)+' J/K');\n",
"deltaS_surr=0;//for free expansion\n",
"disp('Entropy change of surrounding = '+string(deltaS_surr));\n",
"deltaS_uni=deltaS_air+deltaS_surr;//J/K\n",
"disp('Entropy change of universe = '+string(deltaS_uni)+' J/K');"
   ]
   }
,
{
		   "cell_type": "markdown",
		   "metadata": {},
		   "source": [
			"## Example 6.1: Change_in_entropy.sce"
		   ]
		  },
  {
"cell_type": "code",
	   "execution_count": null,
	   "metadata": {
	    "collapsed": true
	   },
	   "outputs": [],
"source": [
"//Part A Chapter 6 Example 1\n",
"clc;\n",
"clear;\n",
"close;\n",
"p1=5;//bar\n",
"T1=27+273;//K\n",
"p2=2;//bar\n",
"cp_air=1.004;//kJ/kgK\n",
"R=0.287;//kJ/kgK\n",
"T2=T1;//K(as cp*T1=cp*T2)\n",
"delta_s=cp_air*log(T2/T1)-R*log(p2/p1);//kJ/kgK\n",
"disp('Change in entropy = '+string(delta_s)+' kJ/kgK');"
   ]
   }
,
{
		   "cell_type": "markdown",
		   "metadata": {},
		   "source": [
			"## Example 6.2: Change_in_entropy_of_steam.sce"
		   ]
		  },
  {
"cell_type": "code",
	   "execution_count": null,
	   "metadata": {
	    "collapsed": true
	   },
	   "outputs": [],
"source": [
"//Part A Chapter 6 Example 2\n",
"clc;\n",
"clear;\n",
"close;\n",
"T1=27+273;//K\n",
"T2=100+273;//K\n",
"T3=400+273;//K\n",
"m=5;//kg\n",
"cp=4.2;//kJ/kgK\n",
"cp2=2260;//kJ/kg\n",
"delta_T=100-27;//degree C\n",
"Q1=m*cp*delta_T;//kJ/K\n",
"delta_S1=Q1/T1//kJ/K\n",
"Q2=m*cp2;//kJ/K\n",
"delta_S2=Q2/T2//kJ/K\n",
"R=8.314/34;//kJ/kgK\n",
"//cp_steam=R*(3.5+1.2*T+0.14*T^2)*10^-3;//kJ/kgK\n",
"//delta_S3=m*cp_steam/T*dT\n",
"delta_S3=integrate('m*R*(3.5/T+1.2+0.14*T)*10^-3','T',T2,T3);//kJ/K\n",
"delta_S=delta_S1+delta_S2+delta_S3;//kJ/K\n",
"disp('Total entropy change = '+string(delta_S)+' kJ/K');\n",
"//Answer in the book is not accurate."
   ]
   }
,
{
		   "cell_type": "markdown",
		   "metadata": {},
		   "source": [
			"## Example 6.3: Change_in_entropy_of_gas.sce"
		   ]
		  },
  {
"cell_type": "code",
	   "execution_count": null,
	   "metadata": {
	    "collapsed": true
	   },
	   "outputs": [],
"source": [
"//Part A Chapter 6 Example 3\n",
"clc;\n",
"clear;\n",
"close;\n",
"R=8.314/32;//kJ/kgK\n",
"p1=125;//kPa\n",
"p2=375;//kPa\n",
"T1=27+273;//K\n",
"T2=T1;//K\n",
"delta_S=-R*log(p2/p1);//kJ/K;//kJ/kgK\n",
"disp('Change in entropy = '+string(delta_S)+' kJ/K');"
   ]
   }
,
{
		   "cell_type": "markdown",
		   "metadata": {},
		   "source": [
			"## Example 6.4: Change_in_entropy_of_universe.sce"
		   ]
		  },
  {
"cell_type": "code",
	   "execution_count": null,
	   "metadata": {
	    "collapsed": true
	   },
	   "outputs": [],
"source": [
"//Part A Chapter 6 Example 4\n",
"clc;\n",
"clear;\n",
"close;\n",
"T1=150+273;//K\n",
"T2=25+273;//K\n",
"m=1;//kg\n",
"cp=0.393;//kJ/kgK\n",
"\n",
"deltaS_block=-m*cp*log(T1/T2);//kJ/kgK\n",
"HeatLost_block=-m*cp*(T1-T2);//kJ\n",
"deltaS_water=-HeatLost_block/T2;//kJ/K\n",
"deltaS_universe=deltaS_block+deltaS_water;//kJ/K\n",
"deltaS_universe=deltaS_universe*1000;//J/K\n",
"disp('Change in entropy of universe = '+string(deltaS_universe)+' J/K');\n",
"//unit of answer is wrong in the book."
   ]
   }
,
{
		   "cell_type": "markdown",
		   "metadata": {},
		   "source": [
			"## Example 6.5: Change_in_entropy_of_universe.sce"
		   ]
		  },
  {
"cell_type": "code",
	   "execution_count": null,
	   "metadata": {
	    "collapsed": true
	   },
	   "outputs": [],
"source": [
"//Part A Chapter 6 Example 5\n",
"clc;\n",
"clear;\n",
"close;\n",
"m=1;//kg\n",
"g=9.81;//gravity constant\n",
"h=200;//m\n",
"T1=27+273;//K\n",
"cp=0.393;//kJ/kgK\n",
"deltaPE=m*g*h;//J\n",
"Q=deltaPE;//J\n",
"deltaS_SeaWater=Q/T1;//J/kgK\n",
"deltaS_universe=deltaS_SeaWater;//J/kgK(because of same temperature)\n",
"disp('Change in entropy of universe = '+string(deltaS_universe)+' J/kgK');"
   ]
   }
,
{
		   "cell_type": "markdown",
		   "metadata": {},
		   "source": [
			"## Example 6.6: Entropy_change_of_universe.sce"
		   ]
		  },
  {
"cell_type": "code",
	   "execution_count": null,
	   "metadata": {
	    "collapsed": true
	   },
	   "outputs": [],
"source": [
"//Part A Chapter 6 Example 6\n",
"clc;\n",
"clear;\n",
"close;\n",
"m1=1;//kg\n",
"m2=0.5;//kg\n",
"T1=150+273;//K\n",
"T2=0+273;//K\n",
"cp1=0.393;//kJ/kgK\n",
"cp2=0.381;//kJ/kgK\n",
"//m1*cp1*(T1-Tf)=m2*cp2*(Tf-T2);\n",
"Tf=(m1*cp1*T1+m2*cp2*T2)/(m2*cp2+m1*cp1);//K\n",
"delta_S1=m1*cp1*log(Tf/T1);//kJ/K\n",
"delta_S2=m2*cp2*log(Tf/T2);//kJ/K\n",
"deltaS_universe=delta_S1+delta_S2;//kJ/K\n",
"disp('Change in entropy of universe = '+string(deltaS_universe)+' kJ/K');"
   ]
   }
,
{
		   "cell_type": "markdown",
		   "metadata": {},
		   "source": [
			"## Example 6.8: Rate_of_power_loss.sce"
		   ]
		  },
  {
"cell_type": "code",
	   "execution_count": null,
	   "metadata": {
	    "collapsed": true
	   },
	   "outputs": [],
"source": [
"//Part A Chapter 6 Example 8\n",
"clc;\n",
"clear;\n",
"close;\n",
"T1=1800;//K\n",
"T2=300;//K\n",
"W=2;//MW\n",
"Q1=5;//MW\n",
"Q2=Q1-W;//MW\n",
"deltaS=(-Q1/T1+Q2/T2);//MW/K\n",
"W_lost=T2*deltaS;//MW\n",
"disp('Work lost = '+string(W_lost)+' MW');"
   ]
   }
,
{
		   "cell_type": "markdown",
		   "metadata": {},
		   "source": [
			"## Example 6.9: Estomate_maximum_work.sce"
		   ]
		  },
  {
"cell_type": "code",
	   "execution_count": null,
	   "metadata": {
	    "collapsed": true
	   },
	   "outputs": [],
"source": [
"//Part A Chapter 6 Example 9\n",
"clc;\n",
"clear;\n",
"close;\n",
"T1_HE=2000;//K\n",
"T2_HE=300;//K\n",
"T1=500;//K\n",
"T2=300;//K\n",
"Q1=integrate('0.05*T^2+0.10*T+0.085','T',T1,T2);//J\n",
"deltaS_system=integrate('0.05*T+0.10+0.085/T','T',T1,T2);//J/K\n",
"//Putting deltaS_system+deltaS_reservoir>=0\n",
"//deltaS_reservoir=(Q1-W)/T2\n",
"W=deltaS_system*T2-Q1;//J\n",
"disp('Maximum Work = '+string(W/1000)+' kJ');"
   ]
   }
],
"metadata": {
		  "kernelspec": {
		   "display_name": "Scilab",
		   "language": "scilab",
		   "name": "scilab"
		  },
		  "language_info": {
		   "file_extension": ".sce",
		   "help_links": [
			{
			 "text": "MetaKernel Magics",
			 "url": "https://github.com/calysto/metakernel/blob/master/metakernel/magics/README.md"
			}
		   ],
		   "mimetype": "text/x-octave",
		   "name": "scilab",
		   "version": "0.7.1"
		  }
		 },
		 "nbformat": 4,
		 "nbformat_minor": 0
}
