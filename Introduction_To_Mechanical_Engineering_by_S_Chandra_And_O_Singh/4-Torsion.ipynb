{
"cells": [
 {
		   "cell_type": "markdown",
	   "metadata": {},
	   "source": [
       "# Chapter 4: Torsion"
	   ]
	},
{
		   "cell_type": "markdown",
		   "metadata": {},
		   "source": [
			"## Example 4.1: Work_done_by_or_on_the_system.sce"
		   ]
		  },
  {
"cell_type": "code",
	   "execution_count": null,
	   "metadata": {
	    "collapsed": true
	   },
	   "outputs": [],
"source": [
"//Part A Chapter 4 Example 1\n",
"clc;\n",
"clear;\n",
"close;\n",
"format('v',6);\n",
"P=689*1000;//Pa\n",
"V1=0.04;//m^3\n",
"V2=0.045;//m^3\n",
"Wpaddle=-4.88;//kJ\n",
"Wpiston=integrate('689*1000','P',V1,V2)/1000;//kJ\n",
"disp('Work done on piston = '+string(Wpiston)+' kJ');\n",
"Wnet=Wpiston+Wpaddle;//kJ\n",
"disp('Work done on system = '+string(abs(Wnet))+' kJ');"
   ]
   }
,
{
		   "cell_type": "markdown",
		   "metadata": {},
		   "source": [
			"## Example 4.2: Amount_of_heat_required.sce"
		   ]
		  },
  {
"cell_type": "code",
	   "execution_count": null,
	   "metadata": {
	    "collapsed": true
	   },
	   "outputs": [],
"source": [
"//Part A Chapter 4 Example 2\n",
"clc;\n",
"clear;\n",
"close;\n",
"format('v',6);\n",
"m=0.5;//kg\n",
"u1=26.6;//kJ/kg\n",
"u2=37.8;//kJ/kg\n",
"W=0;//as vessel is rigid\n",
"U1=m*u1;//kJ\n",
"U2=m*u2;//kJ\n",
"//Heat required\n",
"Q=U2-U1+W;//kJ\n",
"disp('Heat required = '+string(Q)+' kJ');"
   ]
   }
,
{
		   "cell_type": "markdown",
		   "metadata": {},
		   "source": [
			"## Example 4.3: Rate_of_heat_removal.sce"
		   ]
		  },
  {
"cell_type": "code",
	   "execution_count": null,
	   "metadata": {
	    "collapsed": true
	   },
	   "outputs": [],
"source": [
"//Part A Chapter 4 Example 3\n",
"clc;\n",
"clear;\n",
"close;\n",
"format('v',6);\n",
"m=50;//kg/hr\n",
"T1=800;//degree C\n",
"T2=50;//degree C\n",
"Cp=1.08;//kJ/kgK\n",
"Q=m*Cp*(T1-T2);//kJ/hr\n",
"disp('Heat should be removed at the rate of  '+string(Q)+' kJ/hr');"
   ]
   }
,
{
		   "cell_type": "markdown",
		   "metadata": {},
		   "source": [
			"## Example 4.4: Work_done_by_the_air.sce"
		   ]
		  },
  {
"cell_type": "code",
	   "execution_count": null,
	   "metadata": {
	    "collapsed": true
	   },
	   "outputs": [],
"source": [
"//Part A Chapter 4 Example 4\n",
"clc;\n",
"clear;\n",
"close;\n",
"V=0.78;//m^3\n",
"Patm=101.325;//kPa\n",
"//W=work done by Patm\n",
"W=Patm*V;//kJ\n",
"disp('Work done by air = '+string(W)+' kJ');"
   ]
   }
,
{
		   "cell_type": "markdown",
		   "metadata": {},
		   "source": [
			"## Example 4.5: Heat_and_wok_intraction.sce"
		   ]
		  },
  {
"cell_type": "code",
	   "execution_count": null,
	   "metadata": {
	    "collapsed": true
	   },
	   "outputs": [],
"source": [
"//Part A Chapter 4 Example 5\n",
"clc;\n",
"clear;\n",
"close;\n",
"m=5;//kg\n",
"p1=1;//MPa\n",
"V1=0.5;//m^3\n",
"p2=0.5;//MPa\n",
"//u=1.8*p*v+85;//kJ/kg\n",
"n=1.3;//constant\n",
"//p1*V1^n=p2*V2^n\n",
"V2=(p1/p2*V1^n)^(1/n);//m^3\n",
"W=(p2*V2-p1*V1)*10^3/(1-n);//kJ\n",
"delU=(p2*V2-p1*V1)*10^3;//kJ\n",
"delTheta=delU+W;//kJ\n",
"disp('Heat Interaction = '+string(delTheta)+' kJ');\n",
"disp('Work Interaction = '+string(W)+' kJ');\n",
"disp('Change in Internal Energy = '+string(delU)+' kJ');"
   ]
   }
,
{
		   "cell_type": "markdown",
		   "metadata": {},
		   "source": [
			"## Example 4.6: Heat_Work_and_change_in_energy.sce"
		   ]
		  },
  {
"cell_type": "code",
	   "execution_count": null,
	   "metadata": {
	    "collapsed": true
	   },
	   "outputs": [],
"source": [
"//Part A Chapter 4 Example 6\n",
"clc;\n",
"clear;\n",
"close;\n",
"p1=1;//MPa\n",
"p2=2;//MPa\n",
"V1=0.05;//m^3\n",
"n=1.4;//constant\n",
"//U=7.5*p*v-425;//kJ/kg\n",
"delQ=180;//kJ\n",
"//p1*V1^n=p2*V2^n\n",
"V2=(p1/p2)^(1/n)*V1;//m^3\n",
"delU=7.5*10^3*(p2*V2-p1*V1);//kJ\n",
"W=(p2*V2-p1*V1)*10^3/(1-n);//kJ\n",
"delTheta=delU+W;//kJ\n",
"disp('Heat = '+string(delTheta)+' kJ');\n",
"disp('Work = '+string(W)+' kJ');\n",
"disp('Change in Internal Energy = '+string(delU)+' kJ');\n",
"//If heat transfer is 180 kJ\n",
"W=delQ-delU;//kJ\n",
"disp('Work = '+string(W)+' kJ');"
   ]
   }
,
{
		   "cell_type": "markdown",
		   "metadata": {},
		   "source": [
			"## Example 4.7: Heat_transfer_and_direction.sce"
		   ]
		  },
  {
"cell_type": "code",
	   "execution_count": null,
	   "metadata": {
	    "collapsed": true
	   },
	   "outputs": [],
"source": [
"//Part A Chapter 4 Example 7\n",
"clc;\n",
"clear;\n",
"close;\n",
"M=16;//molecular weight\n",
"\n",
"p1=101.3;//KPa\n",
"p2=600;//MPa\n",
"T1=20+273;//K\n",
"n=1.3;//constant\n",
"Cp=1.7;//KJ/KgK\n",
"UGC=8.3143*10^3;//Universal Gas constant\n",
"R=UGC/M/1000;//KJ/KgK\n",
"Cv=Cp-R;//KJ/KgK\n",
"Gamma=Cp/Cv;//constant\n",
"T2=T1*(p2/p1)^((n-1)/n);//K\n",
"W=R*(T2-T1)/(n-1);//\n",
"Q=W*(Gamma-n)/(Gamma-1);//Kj/Kg\n",
"disp('Heat = '+string(Q)+' KJ');"
   ]
   }
],
"metadata": {
		  "kernelspec": {
		   "display_name": "Scilab",
		   "language": "scilab",
		   "name": "scilab"
		  },
		  "language_info": {
		   "file_extension": ".sce",
		   "help_links": [
			{
			 "text": "MetaKernel Magics",
			 "url": "https://github.com/calysto/metakernel/blob/master/metakernel/magics/README.md"
			}
		   ],
		   "mimetype": "text/x-octave",
		   "name": "scilab",
		   "version": "0.7.1"
		  }
		 },
		 "nbformat": 4,
		 "nbformat_minor": 0
}
