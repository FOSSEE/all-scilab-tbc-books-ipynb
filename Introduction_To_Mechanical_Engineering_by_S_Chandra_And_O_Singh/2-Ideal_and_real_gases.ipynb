{
"cells": [
 {
		   "cell_type": "markdown",
	   "metadata": {},
	   "source": [
       "# Chapter 2: Ideal and real gases"
	   ]
	},
{
		   "cell_type": "markdown",
		   "metadata": {},
		   "source": [
			"## Example 2.1: Determine_molecular_weight_of_gas.sce"
		   ]
		  },
  {
"cell_type": "code",
	   "execution_count": null,
	   "metadata": {
	    "collapsed": true
	   },
	   "outputs": [],
"source": [
"//Part A Chapter 2 Example 1\n",
"clc;\n",
"clear;\n",
"close;\n",
"format('v',6);\n",
"cp=2.286;//kJ/kgK\n",
"cv=1.768;//kJ/kgK\n",
"Rbar=8.3143;//universal gas constant\n",
"R=cp-cv;//kJ/kgK\n",
"M=Rbar/R;//kg/kg.mol.(Molecular weight)\n",
"disp('Molecular weight of gas = '+string(M)+' kg/kg.mol.');"
   ]
   }
],
"metadata": {
		  "kernelspec": {
		   "display_name": "Scilab",
		   "language": "scilab",
		   "name": "scilab"
		  },
		  "language_info": {
		   "file_extension": ".sce",
		   "help_links": [
			{
			 "text": "MetaKernel Magics",
			 "url": "https://github.com/calysto/metakernel/blob/master/metakernel/magics/README.md"
			}
		   ],
		   "mimetype": "text/x-octave",
		   "name": "scilab",
		   "version": "0.7.1"
		  }
		 },
		 "nbformat": 4,
		 "nbformat_minor": 0
}
