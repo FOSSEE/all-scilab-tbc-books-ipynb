{
"cells": [
 {
		   "cell_type": "markdown",
	   "metadata": {},
	   "source": [
       "# Chapter 1: Fundamental concepts and definitions"
	   ]
	},
{
		   "cell_type": "markdown",
		   "metadata": {},
		   "source": [
			"## Example 1.1: Pressure_Difference.sce"
		   ]
		  },
  {
"cell_type": "code",
	   "execution_count": null,
	   "metadata": {
	    "collapsed": true
	   },
	   "outputs": [],
"source": [
"//Part A Chapter 1 Example 1\n",
"clc;\n",
"clear;\n",
"close;\n",
"format('v',8);\n",
"rho=13550;//kg/m^3\n",
"g=9.78;//m/s^2\n",
"h=30*10^-2;//m\n",
"//Pressure Difference\n",
"P_diff=rho*g*h;//Pa\n",
"disp('Pressure difference = '+string(P_diff)+' pa');"
   ]
   }
,
{
		   "cell_type": "markdown",
		   "metadata": {},
		   "source": [
			"## Example 1.2: Effort_required_for_lifting_the_lid.sce"
		   ]
		  },
  {
"cell_type": "code",
	   "execution_count": null,
	   "metadata": {
	    "collapsed": true
	   },
	   "outputs": [],
"source": [
"//Part A Chapter 1 Example 2\n",
"clc;\n",
"clear;\n",
"close;\n",
"format('v',8);\n",
"rho=13550;//kg/m^3\n",
"g=9.78;//m/s^2\n",
"h=76*10^-2;//m\n",
"d=30*10^-2;//m\n",
"//Effort required\n",
"Effort_req=rho*g*h*3.14*d^2/4;//N\n",
"disp('Effort required = '+string(Effort_req)+' N');"
   ]
   }
,
{
		   "cell_type": "markdown",
		   "metadata": {},
		   "source": [
			"## Example 1.3: Actual_pressure_of_air.sce"
		   ]
		  },
  {
"cell_type": "code",
	   "execution_count": null,
	   "metadata": {
	    "collapsed": true
	   },
	   "outputs": [],
"source": [
"//Part A Chapter 1 Example 3\n",
"clc;\n",
"clear;\n",
"close;\n",
"format('v',7);\n",
"Patm=101;//kPa\n",
"rho=13550;//kg/m^3\n",
"g=9.78;//m/s^2\n",
"h=30*10^-2;//m\n",
"//Gauge pressure\n",
"Pgauge=rho*g*h/1000;//kPa\n",
"//Actual Pressure\n",
"Pactual=Pgauge+Patm;//kPa\n",
"disp('Actual pressure of air = '+string(Pactual)+' kPa');"
   ]
   }
],
"metadata": {
		  "kernelspec": {
		   "display_name": "Scilab",
		   "language": "scilab",
		   "name": "scilab"
		  },
		  "language_info": {
		   "file_extension": ".sce",
		   "help_links": [
			{
			 "text": "MetaKernel Magics",
			 "url": "https://github.com/calysto/metakernel/blob/master/metakernel/magics/README.md"
			}
		   ],
		   "mimetype": "text/x-octave",
		   "name": "scilab",
		   "version": "0.7.1"
		  }
		 },
		 "nbformat": 4,
		 "nbformat_minor": 0
}
