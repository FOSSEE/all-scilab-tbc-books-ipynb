{
"cells": [
 {
		   "cell_type": "markdown",
	   "metadata": {},
	   "source": [
       "# Chapter 3: Zeroth law of thermodynamics"
	   ]
	},
{
		   "cell_type": "markdown",
		   "metadata": {},
		   "source": [
			"## Example 3.1: Determine_human_body_temperature.sce"
		   ]
		  },
  {
"cell_type": "code",
	   "execution_count": null,
	   "metadata": {
	    "collapsed": true
	   },
	   "outputs": [],
"source": [
"//Part A Chapter 3 Example 1\n",
"clc;\n",
"clear;\n",
"close;\n",
"format('v',6);\n",
"T_F=98.6;//degree F\n",
"T_C=(T_F-32)/1.8;//degree C\n",
"disp('Temperature in degree celsius = '+string(T_C)+' degree C');"
   ]
   }
,
{
		   "cell_type": "markdown",
		   "metadata": {},
		   "source": [
			"## Example 3.2: Determine_Celsius_temperature.sce"
		   ]
		  },
  {
"cell_type": "code",
	   "execution_count": null,
	   "metadata": {
	    "collapsed": true
	   },
	   "outputs": [],
"source": [
"//Part A Chapter 3 Example 2\n",
"clc;\n",
"clear;\n",
"close;\n",
"format('v',7);\n",
"t_ice=0;//degree C\n",
"p_ice=3;//thermometric property\n",
"t_steam=100;//degree C\n",
"p_steam=8;//thermometric property\n",
"//t=a*log(p)+b/2\n",
"//solving by matrix multiplication for a and b\n",
"A=[log(p_ice) 1/2;log(p_steam) 1/2];\n",
"B=[t_ice;t_steam];\n",
"X=A^-1*B;\n",
"a=X(1);//constant\n",
"b=abs(X(2));//constant\n",
"p=6.5;//thermometric property\n",
"t=a*log(p)+b/2;//degree C\n",
"disp('Celsius temperature corresponding to thermometric property = '+string(t)+' degree C');"
   ]
   }
,
{
		   "cell_type": "markdown",
		   "metadata": {},
		   "source": [
			"## Example 3.3: Temperature_shown_by_thermometer.sce"
		   ]
		  },
  {
"cell_type": "code",
	   "execution_count": null,
	   "metadata": {
	    "collapsed": true
	   },
	   "outputs": [],
"source": [
"//Part A Chapter 3 Example 3\n",
"clc;\n",
"clear;\n",
"close;\n",
"format('v',6);\n",
"t_ice=0;//degree C\n",
"E0=0.003*t_ice-5*10^-7*t_ice^2+0.5*10^-3;//V\n",
"t_steam=100;//degree C\n",
"E100=0.003*t_steam-5*10^-7*t_steam^2+0.5*10^-3;//V\n",
"t=30;//degree C\n",
"E30=0.003*t-5*10^-7*t^2+0.5*10^-3;//V\n",
"t=((E30-E0)/(E100-E0))*(t_steam-t_ice);//degree C\n",
"disp('Temperature shown by thermometer = '+string(t)+' degree C');\n",
"//Answer given in the book is wrong."
   ]
   }
],
"metadata": {
		  "kernelspec": {
		   "display_name": "Scilab",
		   "language": "scilab",
		   "name": "scilab"
		  },
		  "language_info": {
		   "file_extension": ".sce",
		   "help_links": [
			{
			 "text": "MetaKernel Magics",
			 "url": "https://github.com/calysto/metakernel/blob/master/metakernel/magics/README.md"
			}
		   ],
		   "mimetype": "text/x-octave",
		   "name": "scilab",
		   "version": "0.7.1"
		  }
		 },
		 "nbformat": 4,
		 "nbformat_minor": 0
}
