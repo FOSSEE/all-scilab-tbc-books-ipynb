{
"cells": [
 {
		   "cell_type": "markdown",
	   "metadata": {},
	   "source": [
       "# Chapter 5: Second law of thermodynamics"
	   ]
	},
{
		   "cell_type": "markdown",
		   "metadata": {},
		   "source": [
			"## Example 5.2: Determine_heat_supplied.sce"
		   ]
		  },
  {
"cell_type": "code",
	   "execution_count": null,
	   "metadata": {
	    "collapsed": true
	   },
	   "outputs": [],
"source": [
"//Part A Chapter 5 Example 2\n",
"clc;\n",
"clear;\n",
"close;\n",
"T1=400+273;//K\n",
"T2=15+273;//K\n",
"Q12=200;//kJ(Q1-Q2=200)\n",
"Q1BYQ2=T1/T2;\n",
"Q2=Q12/(Q1BYQ2-1);//kJ\n",
"Q1=Q1BYQ2*Q2;//kJ\n",
"disp('Heat to be supplied = '+string(Q1)+' kJ');"
   ]
   }
,
{
		   "cell_type": "markdown",
		   "metadata": {},
		   "source": [
			"## Example 5.3: Power_required.sce"
		   ]
		  },
  {
"cell_type": "code",
	   "execution_count": null,
	   "metadata": {
	    "collapsed": true
	   },
	   "outputs": [],
"source": [
"//Part A Chapter 5 Example 3\n",
"clc;\n",
"clear;\n",
"close;\n",
"T1=42+273;//K\n",
"T2=4+273;//K\n",
"Q2=2;//kJ/s\n",
"Q1=T1/T2*Q2;//kJ/s\n",
"Pin=Q1-Q2;//kJ/s\n",
"disp('Power required = '+string(Pin)+' kJ/s');"
   ]
   }
,
{
		   "cell_type": "markdown",
		   "metadata": {},
		   "source": [
			"## Example 5.4: Heat_transfered_to_refrigerant.sce"
		   ]
		  },
  {
"cell_type": "code",
	   "execution_count": null,
	   "metadata": {
	    "collapsed": true
	   },
	   "outputs": [],
"source": [
"//Part A Chapter 5 Example 4\n",
"clc;\n",
"clear;\n",
"close;\n",
"T1=827+273;//K\n",
"T2=27+273;//K\n",
"T3=-13+273;//K\n",
"Q1=2000;//kJ\n",
"Q2=545.45;//kJ\n",
"WE=Q1-Q2;//kJ\n",
"Q3BYQ4=T3/T2;\n",
"WE_sub_WR=300;//kJ\n",
"WR=WE-WE_sub_WR;//kJ\n",
"Q43=WR;//kJ(Q4-Q3=WR)\n",
"Q4=WR/(1-Q3BYQ4);//kJ\n",
"Q3=Q4-Q43;//kJ\n",
"Qt=Q2+Q4;//kJ\n",
"disp('Heat transfered to refrigerant = '+string(Q3)+' kJ');\n",
"disp('Total heat transfered to low temperaturereservoir = '+string(Qt)+' kJ');\n",
"//Answer is not accurate in the book."
   ]
   }
,
{
		   "cell_type": "markdown",
		   "metadata": {},
		   "source": [
			"## Example 5.5: Estimate_minimum_power.sce"
		   ]
		  },
  {
"cell_type": "code",
	   "execution_count": null,
	   "metadata": {
	    "collapsed": true
	   },
	   "outputs": [],
"source": [
"//Part A Chapter 5 Example 5\n",
"clc;\n",
"clear;\n",
"close;\n",
"T1=25+273;//K\n",
"T2=-1+273;//K\n",
"Q2=125;//MJ/h\n",
"Q1BYQ2=T1/T2;\n",
"COP_HP=1/(Q1BYQ2-1);\n",
"W=Q2/COP_HP;//MJ/h\n",
"W=W*10^3/3600;//kW\n",
"disp('Minimum power required = '+string(W)+' kW');"
   ]
   }
,
{
		   "cell_type": "markdown",
		   "metadata": {},
		   "source": [
			"## Example 5.6: Power_required.sce"
		   ]
		  },
  {
"cell_type": "code",
	   "execution_count": null,
	   "metadata": {
	    "collapsed": true
	   },
	   "outputs": [],
"source": [
"//Part A Chapter 5 Example 6\n",
"clc;\n",
"clear;\n",
"close;\n",
"T1=35+273;//K\n",
"T2=-15+273;//K\n",
"Q2=140.8;//kW\n",
"Q1BYQ2=T1/T2;\n",
"Carnot_COP=1/(Q1BYQ2-1);\n",
"Actual_COP=Carnot_COP/4;\n",
"W=Q2/Actual_COP;//kW\n",
"disp('Power required = '+string(W)+' kW');\n",
"//Answer is not accurate in the book."
   ]
   }
],
"metadata": {
		  "kernelspec": {
		   "display_name": "Scilab",
		   "language": "scilab",
		   "name": "scilab"
		  },
		  "language_info": {
		   "file_extension": ".sce",
		   "help_links": [
			{
			 "text": "MetaKernel Magics",
			 "url": "https://github.com/calysto/metakernel/blob/master/metakernel/magics/README.md"
			}
		   ],
		   "mimetype": "text/x-octave",
		   "name": "scilab",
		   "version": "0.7.1"
		  }
		 },
		 "nbformat": 4,
		 "nbformat_minor": 0
}
