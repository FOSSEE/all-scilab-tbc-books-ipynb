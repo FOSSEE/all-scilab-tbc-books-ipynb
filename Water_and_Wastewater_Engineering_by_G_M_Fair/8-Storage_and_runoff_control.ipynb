{
"cells": [
 {
		   "cell_type": "markdown",
	   "metadata": {},
	   "source": [
       "# Chapter 8: Storage and runoff control"
	   ]
	},
{
		   "cell_type": "markdown",
		   "metadata": {},
		   "source": [
			"## Example 8.2: Example_1.sce"
		   ]
		  },
  {
"cell_type": "code",
	   "execution_count": null,
	   "metadata": {
	    "collapsed": true
	   },
	   "outputs": [],
"source": [
"clc\n",
"//initialisation of variables\n",
"a=0.75//ft\n",
"p=123//mg\n",
"v=100//ft\n",
"s=33//mg\n",
"s1=67//mg\n",
"d=26.6//mgd\n",
"d1=0.0477//mgd\n",
"q=0.750//gpd/sq mile\n",
"d2=365//days\n",
"//CALCULATIONS\n",
"S=p/a//mg per sq mile\n",
"Cv=v*s/s1//percent\n",
"M=d*d1//mgd per sq mile\n",
"D=v*q/M//MAF\n",
"D1=(v*p)/(M*d2)//MAF\n",
"R=p/q//days\n",
"//RESULTS\n",
"printf('the use monthly averages rather then daily stream flow=% f days',R)"
   ]
   }
,
{
		   "cell_type": "markdown",
		   "metadata": {},
		   "source": [
			"## Example 8.3: Example_2.sce"
		   ]
		  },
  {
"cell_type": "code",
	   "execution_count": null,
	   "metadata": {
	    "collapsed": true
	   },
	   "outputs": [],
"source": [
"clc\n",
"//initialisation of variables\n",
"d=750000//gpd per sq mile\n",
"v=0.22//ft\n",
"a=1.27//ft\n",
"q=0.30//ft\n",
"d1=365//days\n",
"p=0.25//ft\n",
"//CALCULATIONS\n",
"Q=q*a*d1//mg/sq mile\n",
"H=p*a*d1//mg/sq mile\n",
"//RESULTS\n",
"printf('the results obtained by normal analytical procedures and by Hazen s=% f mg/sq mile',H)"
   ]
   }
,
{
		   "cell_type": "markdown",
		   "metadata": {},
		   "source": [
			"## Example 8.4: Example_3.sce"
		   ]
		  },
  {
"cell_type": "code",
	   "execution_count": null,
	   "metadata": {
	    "collapsed": true
	   },
	   "outputs": [],
"source": [
"clc\n",
"//initialisation of variables\n",
"d=30.0//mgd\n",
"a=40.0//sq miles\n",
"a1=1500//acres\n",
"r1=47.0//in\n",
"r2=27.0//in\n",
"q=0.9//in\n",
"k=640//in\n",
"h=0.052//gpd/sq mile\n",
"//CALCULATIONS\n",
"Q=r2-(r2+a-r1)*q*a1/(k*a)//in\n",
"D=d+a*h//mgd\n",
"A=a-(q*a1/k)*[1-(r1-a)/(r2)]//sq miles\n",
"R=r2+a-r1//in\n",
"S=R*q//in\n",
"//RESULTS\n",
"printf('the revised mean annual runoff=% f in',Q)\n",
"printf('the equivalent mean draft=% f mgd',D)\n",
"printf('the equivalent land area=% f sq miles',A)\n",
"printf('the adjusted flowline=% f in',S)"
   ]
   }
,
{
		   "cell_type": "markdown",
		   "metadata": {},
		   "source": [
			"## Example 8.6: Example_4.sce"
		   ]
		  },
  {
"cell_type": "code",
	   "execution_count": null,
	   "metadata": {
	    "collapsed": true
	   },
	   "outputs": [],
"source": [
"clc\n",
"//initialisation of variables\n",
"p=100//ft\n",
"q=27000//acre-ft\n",
"p1=10//ft\n",
"s=8250//acre-ft\n",
"//CALCULATIONS\n",
"R=p*s/q//percent\n",
"//RESULTS\n",
"printf('the ratio of peak inflow from fuller values=% f percent',R)"
   ]
   }
],
"metadata": {
		  "kernelspec": {
		   "display_name": "Scilab",
		   "language": "scilab",
		   "name": "scilab"
		  },
		  "language_info": {
		   "file_extension": ".sce",
		   "help_links": [
			{
			 "text": "MetaKernel Magics",
			 "url": "https://github.com/calysto/metakernel/blob/master/metakernel/magics/README.md"
			}
		   ],
		   "mimetype": "text/x-octave",
		   "name": "scilab",
		   "version": "0.7.1"
		  }
		 },
		 "nbformat": 4,
		 "nbformat_minor": 0
}
