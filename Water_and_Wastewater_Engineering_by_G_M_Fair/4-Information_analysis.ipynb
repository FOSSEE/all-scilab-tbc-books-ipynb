{
"cells": [
 {
		   "cell_type": "markdown",
	   "metadata": {},
	   "source": [
       "# Chapter 4: Information analysis"
	   ]
	},
{
		   "cell_type": "markdown",
		   "metadata": {},
		   "source": [
			"## Example 4.1: Example_1.sce"
		   ]
		  },
  {
"cell_type": "code",
	   "execution_count": null,
	   "metadata": {
	    "collapsed": true
	   },
	   "outputs": [],
"source": [
"clc\n",
"//initialisation of variables\n",
"y=19.5//in\n",
"x=396.8//in\n",
"n=6//in\n",
"y1=2.20//in\n",
"x1=51.14//in\n",
"p=5.64//in\n",
"//CALCULATIONS\n",
"Beta=(x-n*(y)*(y1))/(x1-n*(y1)^2)\n",
"X=p+Beta//minimum\n",
"//RESULTS\n",
"printf('the method of leate squares =% f minimum',X)"
   ]
   }
,
{
		   "cell_type": "markdown",
		   "metadata": {},
		   "source": [
			"## Example 4.3: Example_2.sce"
		   ]
		  },
  {
"cell_type": "code",
	   "execution_count": null,
	   "metadata": {
	    "collapsed": true
	   },
	   "outputs": [],
"source": [
"clc\n",
"//initialisation of variables\n",
"a=12//in\n",
"h=121//in\n",
"p=11//in\n",
"s=220//in\n",
"//CALCULATIONS\n",
"B={a/[p*(h-1)]}*s//per unit\n",
"//RESULTS\n",
"printf('the interval of time a noted before=% f per unit',B)"
   ]
   }
,
{
		   "cell_type": "markdown",
		   "metadata": {},
		   "source": [
			"## Example 4.5: Example_3.sce"
		   ]
		  },
  {
"cell_type": "code",
	   "execution_count": null,
	   "metadata": {
	    "collapsed": true
	   },
	   "outputs": [],
"source": [
"clc\n",
"//initialisation of variables\n",
"a=4404//ft\n",
"q=9//ft\n",
"mu=12//ft\n",
"//CALCULATIONS\n",
"F=sqrt(a/q)//ft\n",
"CF=F/mu*100//percent\n",
"//RESULTS\n",
"printf('the coefficient of fluctuation is =% f percent',CF)"
   ]
   }
,
{
		   "cell_type": "markdown",
		   "metadata": {},
		   "source": [
			"## Example 4.7: Example_4.sce"
		   ]
		  },
  {
"cell_type": "code",
	   "execution_count": null,
	   "metadata": {
	    "collapsed": true
	   },
	   "outputs": [],
"source": [
"clc\n",
"//initialisation of variables\n",
"h2=5//in\n",
"x=3.72//in\n",
"x1=1.28//in\n",
"//CALCULATIONS\n",
"H=h2*x1/x//in\n",
"//RESULTS\n",
"printf('the either side of the center of the scale=% f in',H)"
   ]
   }
,
{
		   "cell_type": "markdown",
		   "metadata": {},
		   "source": [
			"## Example 4.8: Example_5.sce"
		   ]
		  },
  {
"cell_type": "code",
	   "execution_count": null,
	   "metadata": {
	    "collapsed": true
	   },
	   "outputs": [],
"source": [
"clc\n",
"//initialisation of variables\n",
"p=80//in\n",
"q=20//in\n",
"//CALCULATIONS\n",
"K=p+q//ft\n",
"//RESULTS\n",
"printf('the moments of the arithmetically normal frequency curve=% f ft',K)"
   ]
   }
,
{
		   "cell_type": "markdown",
		   "metadata": {},
		   "source": [
			"## Example 4.9: Example_6.sce"
		   ]
		  },
  {
"cell_type": "code",
	   "execution_count": null,
	   "metadata": {
	    "collapsed": true
	   },
	   "outputs": [],
"source": [
"clc\n",
"//initialisation of variables\n",
"g=3.2541//in\n",
"g1=3.46//in\n",
"m=0.5390//ft\n",
"h=2/99//ft\n",
"p=1.52//ft\n",
"//CALCULATIONS\n",
"L=sqrt(g*h)//in\n",
"mu=g1*p//in\n",
"M=g1/p//percent\n",
"//RESULTS\n",
"printf('the points necessary to plot the straigt line of fit on log probability=% f percent',M)"
   ]
   }
],
"metadata": {
		  "kernelspec": {
		   "display_name": "Scilab",
		   "language": "scilab",
		   "name": "scilab"
		  },
		  "language_info": {
		   "file_extension": ".sce",
		   "help_links": [
			{
			 "text": "MetaKernel Magics",
			 "url": "https://github.com/calysto/metakernel/blob/master/metakernel/magics/README.md"
			}
		   ],
		   "mimetype": "text/x-octave",
		   "name": "scilab",
		   "version": "0.7.1"
		  }
		 },
		 "nbformat": 4,
		 "nbformat_minor": 0
}
