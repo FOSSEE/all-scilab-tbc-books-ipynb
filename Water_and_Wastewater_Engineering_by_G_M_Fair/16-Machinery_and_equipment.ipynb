{
"cells": [
 {
		   "cell_type": "markdown",
	   "metadata": {},
	   "source": [
       "# Chapter 16: Machinery and equipment"
	   ]
	},
{
		   "cell_type": "markdown",
		   "metadata": {},
		   "source": [
			"## Example 16.2: Example_1.sce"
		   ]
		  },
  {
"cell_type": "code",
	   "execution_count": null,
	   "metadata": {
	    "collapsed": true
	   },
	   "outputs": [],
"source": [
"clc\n",
"//initialisation of variables\n",
"p=500//ft\n",
"p1=6//in\n",
"t=500//cfm\n",
"p2=7//psig\n",
"P=p2+14.7//psia\n",
"T=520*(P/14.7)^0.283//F\n",
"f=0.048*p1^0.027/(t)^0.148//in\n",
"//CALCULATIONS\n",
"delP=20*10^-3*p*T*(t)^2/(38*10^3*P*p1^5)//psia\n",
"//RESULTS\n",
"printf('the pressure drop=% f psia',delP)"
   ]
   }
],
"metadata": {
		  "kernelspec": {
		   "display_name": "Scilab",
		   "language": "scilab",
		   "name": "scilab"
		  },
		  "language_info": {
		   "file_extension": ".sce",
		   "help_links": [
			{
			 "text": "MetaKernel Magics",
			 "url": "https://github.com/calysto/metakernel/blob/master/metakernel/magics/README.md"
			}
		   ],
		   "mimetype": "text/x-octave",
		   "name": "scilab",
		   "version": "0.7.1"
		  }
		 },
		 "nbformat": 4,
		 "nbformat_minor": 0
}
