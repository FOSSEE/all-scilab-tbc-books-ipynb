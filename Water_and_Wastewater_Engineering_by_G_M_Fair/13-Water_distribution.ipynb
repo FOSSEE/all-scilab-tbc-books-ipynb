{
"cells": [
 {
		   "cell_type": "markdown",
	   "metadata": {},
	   "source": [
       "# Chapter 13: Water distribution"
	   ]
	},
{
		   "cell_type": "markdown",
		   "metadata": {},
		   "source": [
			"## Example 13.2: Example_1.sce"
		   ]
		  },
  {
"cell_type": "code",
	   "execution_count": null,
	   "metadata": {
	    "collapsed": true
	   },
	   "outputs": [],
"source": [
"clc\n",
"//initialisation of variables\n",
"p1=7.8//ft\n",
"p2=6.0//ft\n",
"p3=7.4//ft\n",
"p4=6.5//ft\n",
"p=7.6//ft\n",
"h=1.0//ft\n",
"h1=6.7//ft\n",
"p5=3.3//ft\n",
"//CALCULATIONS\n",
"D=p1-p2//mgd\n",
"D1=p1-p3//mgd\n",
"D2=p-p4//mgd\n",
"D3=p4+h//mgd\n",
"D4=h1-p5//mgd\n",
"//RESULTS\n",
"printf('the demand is taken =% f mgd',D3)"
   ]
   }
,
{
		   "cell_type": "markdown",
		   "metadata": {},
		   "source": [
			"## Example 13.3: Example_2.sce"
		   ]
		  },
  {
"cell_type": "code",
	   "execution_count": null,
	   "metadata": {
	    "collapsed": true
	   },
	   "outputs": [],
"source": [
"clc\n",
"//initialisation of variables\n",
"w=500//ft\n",
"p=20//psig\n",
"h=40//psig\n",
"h1=1000//in\n",
"q=1250//ft\n",
"g=2.308/0.75//ft\n",
"g1=2.308/1.00//ft\n",
"s=5200//gpm\n",
"a=250//gpm\n",
"//CALCULATIONS\n",
"H=[h1-(1/2)*(w)]//ft\n",
"H1=(h-p)*g//percent\n",
"Q=[q-(1/2)*(w)]//ft\n",
"Q1=(h-p)*g1//percent\n",
"S=s/a//gpm\n",
"//RESULTS\n",
"printf('the number of standard fire streams=% f gpm',S)"
   ]
   }
,
{
		   "cell_type": "markdown",
		   "metadata": {},
		   "source": [
			"## Example 13.6: Example_3.sce"
		   ]
		  },
  {
"cell_type": "code",
	   "execution_count": null,
	   "metadata": {
	    "collapsed": true
	   },
	   "outputs": [],
"source": [
"clc\n",
"//initialisation of variables\n",
"h1=2.1*3//ft\n",
"h2=2.1//ft\n",
"h=8.4//ft\n",
"p=1000//ft\n",
"h3=5.7//ft\n",
"h4=4.2*3//ft\n",
"q=4.2//ft\n",
"s=1.68//ft\n",
"q1=1.33//ft\n",
"//CALCULATIONS\n",
"A=p*h/h2//ft\n",
"B=p*(h3+h4)/q//ft\n",
"C=p*(h1+h2)/s//ft\n",
"//RESULTS\n",
"printf('the equilent pipe for the Hazen willians coefficent=% f ft',A)\n",
"printf('the equilent pipe for the Hazen willians coefficent=% f ft',B)\n",
"printf('the equilent pipe for the Hazen willians coefficent=% f ft',C)"
   ]
   }
,
{
		   "cell_type": "markdown",
		   "metadata": {},
		   "source": [
			"## Example 13.8: Example_4.sce"
		   ]
		  },
  {
"cell_type": "code",
	   "execution_count": null,
	   "metadata": {
	    "collapsed": true
	   },
	   "outputs": [],
"source": [
"clc\n",
"//initialisation of variables\n",
"d=10//hr\n",
"p=50000//in\n",
"a=7.5//mgd\n",
"w=0.75//mg\n",
"s=5.03//mg\n",
"//CALCULATIONS\n",
"S=s/w//mg\n",
"P=S-s//mg\n",
"//RESULTS\n",
"printf('a steady gravity supply equal to maximum daily=% f mg',P)"
   ]
   }
],
"metadata": {
		  "kernelspec": {
		   "display_name": "Scilab",
		   "language": "scilab",
		   "name": "scilab"
		  },
		  "language_info": {
		   "file_extension": ".sce",
		   "help_links": [
			{
			 "text": "MetaKernel Magics",
			 "url": "https://github.com/calysto/metakernel/blob/master/metakernel/magics/README.md"
			}
		   ],
		   "mimetype": "text/x-octave",
		   "name": "scilab",
		   "version": "0.7.1"
		  }
		 },
		 "nbformat": 4,
		 "nbformat_minor": 0
}
