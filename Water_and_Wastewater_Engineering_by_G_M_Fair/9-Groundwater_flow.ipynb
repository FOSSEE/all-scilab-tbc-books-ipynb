{
"cells": [
 {
		   "cell_type": "markdown",
	   "metadata": {},
	   "source": [
       "# Chapter 9: Groundwater flow"
	   ]
	},
{
		   "cell_type": "markdown",
		   "metadata": {},
		   "source": [
			"## Example 9.1: Example_1.sce"
		   ]
		  },
  {
"cell_type": "code",
	   "execution_count": null,
	   "metadata": {
	    "collapsed": true
	   },
	   "outputs": [],
"source": [
"clc\n",
"//initialisation of variables\n",
"t=10//C\n",
"s=74.2//days\n",
"c=0.01//mm\n",
"d=245//mm\n",
"//CALCULATIONS\n",
"h=s/(d*c)//cm\n",
"//RESULTS\n",
"printf('the high will water at a temperature =% f cm',h)"
   ]
   }
,
{
		   "cell_type": "markdown",
		   "metadata": {},
		   "source": [
			"## Example 9.2: Example_2.sce"
		   ]
		  },
  {
"cell_type": "code",
	   "execution_count": null,
	   "metadata": {
	    "collapsed": true
	   },
	   "outputs": [],
"source": [
"clc\n",
"//initialisation of variables\n",
"p1=1000//ft\n",
"p2=50//ft\n",
"g=20//ft/mile\n",
"v=5280//ft\n",
"q=7.5*10^-6//ft\n",
"t=60//F\n",
"k=2835//ft/days\n",
"p=7.5//ft\n",
"//CALCULATIONS\n",
"S=g/v//ft\n",
"W=k*(g/v)//ft/day\n",
"Q=W*p1*p2*q//mgd\n",
"P=k*p//ft\n",
"P1=P*p2//mgd\n",
"//RESULTS\n",
"printf('the velocity of flow =% f mgd',Q)\n",
"printf('the standard coefficient pf permeability=% f mgd',P1)"
   ]
   }
,
{
		   "cell_type": "markdown",
		   "metadata": {},
		   "source": [
			"## Example 9.3: Example_3.sce"
		   ]
		  },
  {
"cell_type": "code",
	   "execution_count": null,
	   "metadata": {
	    "collapsed": true
	   },
	   "outputs": [],
"source": [
"clc\n",
"//initialisation of variables\n",
"p=40//ft\n",
"d=56//ft\n",
"d1=140//ft\n",
"p1=30//ft\n",
"w=3.28*10^-4//fps\n",
"//CALCULATIONS\n",
"Q=w*(p/d1)*2*d*p//cfs\n",
"q=Q/p//cfs\n",
"K=w*(p/d1)//fps\n",
"x0=q/(2*%pi*K)//ft\n",
"Z=2*%pi*x0//ft\n",
"//RESULTS\n",
"printf('the yield of the well if the coefficient of permeability=% f ft',x0)\n",
"printf('the distance of the point of stagnation =% f ft',Z)"
   ]
   }
,
{
		   "cell_type": "markdown",
		   "metadata": {},
		   "source": [
			"## Example 9.4: Example_4.sce"
		   ]
		  },
  {
"cell_type": "code",
	   "execution_count": null,
	   "metadata": {
	    "collapsed": true
	   },
	   "outputs": [],
"source": [
"clc\n",
"//initialisation of variables\n",
"p=5*10^6//ft\n",
"Q=350//gpm\n",
"x=225//ft\n",
"u=10^-2//ft\n",
"g=1.87//ft\n",
"p2=7*10^2//ft\n",
"p3=10.9//ft\n",
"w=4.0//ft\n",
"t=114.6//ft\n",
"d=10//ft\n",
"p1=5//ft\n",
"w1=3.2*10^4//ft\n",
"W=21.75//ft\n",
"//CALCULATIONS\n",
"T=t*Q*4/p1//gpd/ft\n",
"S=u*(w1)/[g*(p)]//ft\n",
"U=g*[(S)/(T)]*(x^2/d)//ft\n",
"P=t*(p2)*p3/(T)//ft\n",
"U1=g*[(S)/(T)]*(1/d)//ft\n",
"P1=t*(p2)*W/(T)//ft\n",
"//RESULTS\n",
"printf('the type curve as if a transparency of the observed data had moved into place over the type=% f ft',P1)"
   ]
   }
,
{
		   "cell_type": "markdown",
		   "metadata": {},
		   "source": [
			"## Example 9.5: Example_5.sce"
		   ]
		  },
  {
"cell_type": "code",
	   "execution_count": null,
	   "metadata": {
	    "collapsed": true
	   },
	   "outputs": [],
"source": [
"clc\n",
"//initialisation of variables\n",
"Q=350//gpm\n",
"x=225//ft\n",
"t=1//min\n",
"p=1.6//ft\n",
"t2=10//min\n",
"p2=4.5//ft\n",
"p3=700//gpm\n",
"T=3.2*10^4//gpd/ft\n",
"t0=0.3//min\n",
"u=1.15*10^-5\n",
"//CALCULATIONS\n",
"S=t0*(T)*t0/[(x)^2*1440]//ft\n",
"P=[(114.6*p3)/(T)]*(-0.5772*2.3*log(u))//ft\n",
"//RESULTS\n",
"printf('A straight line being drawn through the ppints for the higher=% f ft',P)"
   ]
   }
,
{
		   "cell_type": "markdown",
		   "metadata": {},
		   "source": [
			"## Example 9.6: Example_6.sce"
		   ]
		  },
  {
"cell_type": "code",
	   "execution_count": null,
	   "metadata": {
	    "collapsed": true
	   },
	   "outputs": [],
"source": [
"clc\n",
"//initialisation of variables\n",
"h=4.8//ft\n",
"m=13.4//ft\n",
"k=10^-1//cm/sec\n",
"k1=3.28*10^-3//fps\n",
"n=7//ft\n",
"n1=11//ft\n",
"q=1.0*10^-2\n",
"//CALCULATIONS\n",
"Q=k1*h*n/n1//cfs/ft\n",
"Q1=2*q*10^2//cfs\n",
"//RESULTS\n",
"printf('A satisfactory orthogonal system the flow of into the collector =% f cfs',Q1)"
   ]
   }
],
"metadata": {
		  "kernelspec": {
		   "display_name": "Scilab",
		   "language": "scilab",
		   "name": "scilab"
		  },
		  "language_info": {
		   "file_extension": ".sce",
		   "help_links": [
			{
			 "text": "MetaKernel Magics",
			 "url": "https://github.com/calysto/metakernel/blob/master/metakernel/magics/README.md"
			}
		   ],
		   "mimetype": "text/x-octave",
		   "name": "scilab",
		   "version": "0.7.1"
		  }
		 },
		 "nbformat": 4,
		 "nbformat_minor": 0
}
