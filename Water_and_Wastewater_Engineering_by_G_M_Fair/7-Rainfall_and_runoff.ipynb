{
"cells": [
 {
		   "cell_type": "markdown",
	   "metadata": {},
	   "source": [
       "# Chapter 7: Rainfall and runoff"
	   ]
	},
{
		   "cell_type": "markdown",
		   "metadata": {},
		   "source": [
			"## Example 7.5: Example_1.sce"
		   ]
		  },
  {
"cell_type": "code",
	   "execution_count": null,
	   "metadata": {
	    "collapsed": true
	   },
	   "outputs": [],
"source": [
"clc\n",
"//initialisation of variables\n",
"n=20//ft\n",
"s=sqrt(12676/19)//ft\n",
"c=45.5//ft\n",
"q=551400//ft\n",
"q1=12700//ft\n",
"h=8.5//ft\n",
"w=s/c//ft\n",
"//CALCULATIONS\n",
"D=q/(2*s*q1)//cfs\n",
"D1=D*(1+h/n)//cfs\n",
"//RESULTS\n",
"printf('the record runoff of a stream draining=% f cfs',D1)"
   ]
   }
,
{
		   "cell_type": "markdown",
		   "metadata": {},
		   "source": [
			"## Example 7.6: Example_2.sce"
		   ]
		  },
  {
"cell_type": "code",
	   "execution_count": null,
	   "metadata": {
	    "collapsed": true
	   },
	   "outputs": [],
"source": [
"clc\n",
"//initialisation of variables\n",
"i=16/(62)^0.66//in hr\n",
"q=(16*10^0.31)/(62)^0.66//in hr\n",
"c=1.0//max\n",
"C1=c*(0.01)^0.31//in\n",
"C2=c*(0.1)^0.31//in\n",
"x1=640//cfs\n",
"//CALCULATIONS\n",
"Y1=C1*i*c*x1//cfs\n",
"Y2=C2*q*c*x1//cfs\n",
"//RESULTS\n",
"printf('the time of concentration=% f cfs',Y2)"
   ]
   }
,
{
		   "cell_type": "markdown",
		   "metadata": {},
		   "source": [
			"## Example 7.8: Example_3.sce"
		   ]
		  },
  {
"cell_type": "code",
	   "execution_count": null,
	   "metadata": {
	    "collapsed": true
	   },
	   "outputs": [],
"source": [
"clc\n",
"//initialisation of variables\n",
"d=163*48.5//cfs\n",
"a=48.5//ft\n",
"q=100//cfs\n",
"Q=45.5*a//cfs\n",
"c=0.57//cfs\n",
"v=1.8//cfs\n",
"p=0.45//ft\n",
"//CALCULATIONS\n",
"P=d/(q*sqrt(a))//percent\n",
"C=Q/(a^0.8*(1+2*a^-0.3))//cfs\n",
"d1=2.6//cfs\n",
"T=(1-p*c+v*c*2)//cfs\n",
"//RESULTS\n",
"printf('the meyers rating =% f percent',P)\n",
"printf('the magnitude of the maximum peak flood =% f cfs',T)"
   ]
   }
],
"metadata": {
		  "kernelspec": {
		   "display_name": "Scilab",
		   "language": "scilab",
		   "name": "scilab"
		  },
		  "language_info": {
		   "file_extension": ".sce",
		   "help_links": [
			{
			 "text": "MetaKernel Magics",
			 "url": "https://github.com/calysto/metakernel/blob/master/metakernel/magics/README.md"
			}
		   ],
		   "mimetype": "text/x-octave",
		   "name": "scilab",
		   "version": "0.7.1"
		  }
		 },
		 "nbformat": 4,
		 "nbformat_minor": 0
}
