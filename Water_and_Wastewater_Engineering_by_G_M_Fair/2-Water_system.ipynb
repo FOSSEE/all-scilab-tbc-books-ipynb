{
"cells": [
 {
		   "cell_type": "markdown",
	   "metadata": {},
	   "source": [
       "# Chapter 2: Water system"
	   ]
	},
{
		   "cell_type": "markdown",
		   "metadata": {},
		   "source": [
			"## Example 2.1: Example_1.sce"
		   ]
		  },
  {
"cell_type": "code",
	   "execution_count": null,
	   "metadata": {
	    "collapsed": true
	   },
	   "outputs": [],
"source": [
"clc\n",
"//initialisation of variables\n",
"w=3000//sq ft\n",
"w1=2000//sq ft\n",
"w2=1000//sq ft\n",
"r=15//in\n",
"a=12//in\n",
"h=7.5//in\n",
"//CALCULATIONS\n",
"G=w*(r/a)*h//gal\n",
"g=w1*(r/a)*h//gal\n",
"g1=w2*(r/a)*h//gal\n",
"//RESULTS\n",
"printf('the normally be stored to tide the supply over dry spells=% f gal',G)"
   ]
   }
,
{
		   "cell_type": "markdown",
		   "metadata": {},
		   "source": [
			"## Example 2.2: Example_2.sce"
		   ]
		  },
  {
"cell_type": "code",
	   "execution_count": null,
	   "metadata": {
	    "collapsed": true
	   },
	   "outputs": [],
"source": [
"clc\n",
"//initialisation of variables\n",
"m=17.378//mg\n",
"h=20//in/sq mile \n",
"d=365//in\n",
"s=0.75//percent\n",
"a=100//sq miles\n",
"p=750000//gpd per sq mile\n",
"t=180//in\n",
"c=150//gpcd\n",
"n=64699 //gpd per sq mile\n",
"//CALCULATIONS\n",
"R=h*m//mg\n",
"A=R/d//mgd\n",
"S=s*a*t//billion gal\n",
"Q=a*p/c//gpd\n",
"P=a*n/c//people against\n",
"//RESULTS\n",
"printf('the surface water sheds and storage requirements=% f mg',R)\n",
"printf('the well watered sections of north america=% f billion gal',S)\n",
"printf('the average consumpition populations=% f gpd',Q)\n",
"printf('the presence of proper storage=% f people against',P)"
   ]
   }
,
{
		   "cell_type": "markdown",
		   "metadata": {},
		   "source": [
			"## Example 2.3: Example_3.sce"
		   ]
		  },
  {
"cell_type": "code",
	   "execution_count": null,
	   "metadata": {
	    "collapsed": true
	   },
	   "outputs": [],
"source": [
"clc\n",
"//initialisation of variables\n",
"w=20//ft\n",
"r=3//ft a day\n",
"g=500//ft\n",
"g1=1000//ft\n",
"h=7.5/1440//ft\n",
"p=7.5/1000000//ft\n",
"r1=2//ft a day\n",
"//CALCULATIONS\n",
"W1=w*g1*r*h//gpm\n",
"W2=w*g1*r1*r*p//mgd\n",
"//RESULTS\n",
"printf('the ground water laterally =% f gpm',W1)\n",
"printf('the water from both sides=% f mgd',W2)"
   ]
   }
,
{
		   "cell_type": "markdown",
		   "metadata": {},
		   "source": [
			"## Example 2.4: Example_4.sce"
		   ]
		  },
  {
"cell_type": "code",
	   "execution_count": null,
	   "metadata": {
	    "collapsed": true
	   },
	   "outputs": [],
"source": [
"clc\n",
"//initialisation of variables\n",
"p1=10//mgd\n",
"p2=6940//gpm\n",
"w=67000//people\n",
"d=2//min\n",
"v=d*p2/d//gal\n",
"v1=98.2//cu ft each\n",
"q=30//min\n",
"q1=q*p2/d//gal\n",
"q2=13900//cu ft\n",
"a=1390//sq ft\n",
"s=2//hr\n",
"s1=120*p2/d//gal\n",
"s2=55700//cu ft \n",
"s3=s2/8//sq ft\n",
"r=3//gpm/sq ft\n",
"r1=6//rapid\n",
"//CALCULATIONS\n",
"D=sqrt(v1*4/%pi)//ft\n",
"S=p2/s3//gpm/sq ft\n",
"A=p2/(r1*r)//sq ft\n",
"//RESULTS\n",
"printf('the capacity of the components of a rapid sand filtration plant=% f sq ft',A)"
   ]
   }
,
{
		   "cell_type": "markdown",
		   "metadata": {},
		   "source": [
			"## Example 2.5: Example_5.sce"
		   ]
		  },
  {
"cell_type": "code",
	   "execution_count": null,
	   "metadata": {
	    "collapsed": true
	   },
	   "outputs": [],
"source": [
"clc\n",
"//initialisation of variables\n",
"r=10000//ft\n",
"l=400000//people\n",
"q=1000000//mgd\n",
"w=100//gpcd\n",
"w1=150//gpcd\n",
"m=50//percent\n",
"g=1.5//ft\n",
"h1=2.32//cfs\n",
"h2=139//cfs\n",
"d=12//ft\n",
"c=100//ft\n",
"l=10.8//ft\n",
"l2=0.85//ft\n",
"l1=1000//ft\n",
"//CALCULATIONS\n",
"a=r*w/q//mgd\n",
"b=l*w1/q//mgd\n",
"a1=a*g//mgd\n",
"b1=b*g//mgd\n",
"D=d*sqrt(h1/%pi)//in\n",
"D1=d*sqrt(h2/%pi)//in\n",
"L=l/l1//ft\n",
"L1=l2/l1//ft\n",
"//RESULTS\n",
"printf('the higher loss of head in small conduits at equal velocity=% f ft',L1)"
   ]
   }
,
{
		   "cell_type": "markdown",
		   "metadata": {},
		   "source": [
			"## Example 2.6: Example_6.sce"
		   ]
		  },
  {
"cell_type": "code",
	   "execution_count": null,
	   "metadata": {
	    "collapsed": true
	   },
	   "outputs": [],
"source": [
"clc\n",
"//initialisation of variables\n",
"a=12//in\n",
"b=24//in\n",
"r=500//gpm\n",
"d=200//gpcd\n",
"d1=150//gpcd\n",
"p1=113//sq in\n",
"p2=425//sq in\n",
"v1=3//fps\n",
"v2=2.35//cfs\n",
"v3=9.42//cfs\n",
"h=646000//gpd\n",
"w=720000//gpd\n",
"//CALCULATIONS\n",
"D1=v2*h//gpd\n",
"D2=v3*h//gpd\n",
"W1=D1-w//gpd\n",
"W2=D2-w//gpd\n",
"R1=D1/d//people\n",
"R2=D2/d//people\n",
"S=W1/d1//people\n",
"S1=W2/d1//people\n",
"//RESULTS\n",
"printf('the absence of fire service for a maximum draft=% f gpd',D2)\n",
"printf('The residential fire flow requirements=% f gpd',W2)"
   ]
   }
,
{
		   "cell_type": "markdown",
		   "metadata": {},
		   "source": [
			"## Example 2.7: Example_7.sce"
		   ]
		  },
  {
"cell_type": "code",
	   "execution_count": null,
	   "metadata": {
	    "collapsed": true
	   },
	   "outputs": [],
"source": [
"clc\n",
"//initialisation of variables\n",
"w=100000//ft\n",
"c=250//per capita\n",
"p1=0.3//percent\n",
"p2=0.1//percent\n",
"p3=0.60//percent\n",
"w1=15//mgd\n",
"//CALCULATIONS\n",
"T=c*w//$\n",
"W=p1*T//$\n",
"W1=p2*T//$\n",
"W2=p3*T//$\n",
"W3=((w1)^2/3)*T//$\n",
"//RESULTS\n",
"printf('the replacement cost of the water of a city=% f $',W3)"
   ]
   }
],
"metadata": {
		  "kernelspec": {
		   "display_name": "Scilab",
		   "language": "scilab",
		   "name": "scilab"
		  },
		  "language_info": {
		   "file_extension": ".sce",
		   "help_links": [
			{
			 "text": "MetaKernel Magics",
			 "url": "https://github.com/calysto/metakernel/blob/master/metakernel/magics/README.md"
			}
		   ],
		   "mimetype": "text/x-octave",
		   "name": "scilab",
		   "version": "0.7.1"
		  }
		 },
		 "nbformat": 4,
		 "nbformat_minor": 0
}
