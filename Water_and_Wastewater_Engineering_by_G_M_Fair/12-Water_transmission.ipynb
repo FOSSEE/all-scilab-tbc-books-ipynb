{
"cells": [
 {
		   "cell_type": "markdown",
	   "metadata": {},
	   "source": [
       "# Chapter 12: Water transmission"
	   ]
	},
{
		   "cell_type": "markdown",
		   "metadata": {},
		   "source": [
			"## Example 12.1: Example_1.sce"
		   ]
		  },
  {
"cell_type": "code",
	   "execution_count": null,
	   "metadata": {
	    "collapsed": true
	   },
	   "outputs": [],
"source": [
"clc\n",
"//initialisation of variables\n",
"c=100//in\n",
"a=10//in\n",
"Q=0.976//ft\n",
"//CALCULATIONS\n",
"G=a*Q//ft\n",
"//RESULTS\n",
"printf('the graphical basic =% f ft',G)"
   ]
   }
,
{
		   "cell_type": "markdown",
		   "metadata": {},
		   "source": [
			"## Example 12.2: Example_2.sce"
		   ]
		  },
  {
"cell_type": "code",
	   "execution_count": null,
	   "metadata": {
	    "collapsed": true
	   },
	   "outputs": [],
"source": [
"clc\n",
"//initialisation of variables\n",
"a=27.6//sq ft\n",
"h=1.37//ft\n",
"d=1.53*(27.9)^0.38*(1.36)^0.24//ft\n",
"//CALCULATIONS\n",
"R=d/4//ft\n",
"A=(%pi*d^2)/4//sq ft\n",
"//RESULTS\n",
"printf('The diameter hydraulics radius and area of the hydraulically equivalent circular conduit=% f sq ft',A)"
   ]
   }
,
{
		   "cell_type": "markdown",
		   "metadata": {},
		   "source": [
			"## Example 12.3: Example_3.sce"
		   ]
		  },
  {
"cell_type": "code",
	   "execution_count": null,
	   "metadata": {
	    "collapsed": true
	   },
	   "outputs": [],
"source": [
"clc\n",
"//initialisation of variables\n",
"h1=13.5//ft\n",
"h2=19.0//ft\n",
"h3=27.5//ft\n",
"c1=2.0*10^4//ft\n",
"c2=2.1*10^4//ft\n",
"c3=2.2*10^4//ft\n",
"//CALCULATIONS\n",
"H=h1+h2+h3//ft\n",
"C=c1+c2+c3//ft\n",
"//RESULTS\n",
"printf('the most economical distributions of the available head=% f ft',C)"
   ]
   }
,
{
		   "cell_type": "markdown",
		   "metadata": {},
		   "source": [
			"## Example 12.4: Example_4.sce"
		   ]
		  },
  {
"cell_type": "code",
	   "execution_count": null,
	   "metadata": {
	    "collapsed": true
	   },
	   "outputs": [],
"source": [
"clc\n",
"//initialisation of variables\n",
"p=60//in\n",
"h=20//percent\n",
"a=1000//ft\n",
"h1=40//percent\n",
"c=0.5//ft\n",
"p1=14.3//ft\n",
"p2=6.1//ft\n",
"d=11.7*10^-2//ft\n",
"//CALCULATIONS\n",
"P=p2/p1//ft\n",
"D=d*p//ft\n",
"//RESULTS\n",
"printf('the air valve with a discharge the change in slop=% f ft',D)"
   ]
   }
,
{
		   "cell_type": "markdown",
		   "metadata": {},
		   "source": [
			"## Example 12.5: Example_5.sce"
		   ]
		  },
  {
"cell_type": "code",
	   "execution_count": null,
	   "metadata": {
	    "collapsed": true
	   },
	   "outputs": [],
"source": [
"clc\n",
"//initialisation of variables\n",
"p=90//deg\n",
"h=48//in\n",
"p1=100//psig\n",
"P=(1/2*%pi)*h^2*p1*0.7071//lb\n",
"r=3000/54-31//ft\n",
"s=9000//psi\n",
"l=170//in\n",
"b=6.5*10^-6//ft\n",
"w=46//ft\n",
"w1=1000//ft\n",
"//CALCULATIONS\n",
"D=(1/4*%pi)*h^2*p1//lb\n",
"P=[r]*h^2//lb\n",
"T=%pi*h*(1/4)*s//lb\n",
"T1=(1/2)*l//tons\n",
"Del=b*w*w1//ft per\n",
"//RESULTS\n",
"printf('the accorance with unless otherwise stated=% f ft per',Del)"
   ]
   }
],
"metadata": {
		  "kernelspec": {
		   "display_name": "Scilab",
		   "language": "scilab",
		   "name": "scilab"
		  },
		  "language_info": {
		   "file_extension": ".sce",
		   "help_links": [
			{
			 "text": "MetaKernel Magics",
			 "url": "https://github.com/calysto/metakernel/blob/master/metakernel/magics/README.md"
			}
		   ],
		   "mimetype": "text/x-octave",
		   "name": "scilab",
		   "version": "0.7.1"
		  }
		 },
		 "nbformat": 4,
		 "nbformat_minor": 0
}
