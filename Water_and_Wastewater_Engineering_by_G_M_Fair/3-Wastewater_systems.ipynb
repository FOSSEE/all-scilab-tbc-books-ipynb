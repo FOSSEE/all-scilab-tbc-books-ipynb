{
"cells": [
 {
		   "cell_type": "markdown",
	   "metadata": {},
	   "source": [
       "# Chapter 3: Wastewater systems"
	   ]
	},
{
		   "cell_type": "markdown",
		   "metadata": {},
		   "source": [
			"## Example 3.1: Example_1.sce"
		   ]
		  },
  {
"cell_type": "code",
	   "execution_count": null,
	   "metadata": {
	    "collapsed": true
	   },
	   "outputs": [],
"source": [
"clc\n",
"//initialisation of variables\n",
"v=2.5//fps\n",
"c=0.013//gpd\n",
"p=300//gpd\n",
"d=50//per care\n",
"m=5.20//ft\n",
"a=1000//ft\n",
"//CALCULATIONS\n",
"C=[(%pi*64)/(4*144)]*v*646000//gpd\n",
"M=m/a//ft\n",
"P=C/p\n",
"A=P/d//acres\n",
"//RESULTS\n",
"printf('the acres will it drain if the population density=% f acres',A)"
   ]
   }
,
{
		   "cell_type": "markdown",
		   "metadata": {},
		   "source": [
			"## Example 3.2: Example_2.sce"
		   ]
		  },
  {
"cell_type": "code",
	   "execution_count": null,
	   "metadata": {
	    "collapsed": true
	   },
	   "outputs": [],
"source": [
"clc\n",
"//initialisation of variables\n",
"a=37.4//acres\n",
"r=2//in\n",
"p=30//min\n",
"v=3//fps\n",
"r1=0.6//in\n",
"h=1.0//cfs\n",
"p1=50//percent\n",
"q=646000//gpd\n",
"//CALCULATIONS\n",
"R=r*r1*a//cfs\n",
"A=R/v//sq ft\n",
"D=12*sqrt(4*A/%pi)//in\n",
"P=r*r1*q/p1//gpcd\n",
"//RESULTS\n",
"printf('the per capita storm runoff for a population density=% f gpcd',P)"
   ]
   }
,
{
		   "cell_type": "markdown",
		   "metadata": {},
		   "source": [
			"## Example 3.3: Example_3.sce"
		   ]
		  },
  {
"cell_type": "code",
	   "execution_count": null,
	   "metadata": {
	    "collapsed": true
	   },
	   "outputs": [],
"source": [
"clc\n",
"//initialisation of variables\n",
"w=1.0//cfs\n",
"w1=3.0//cfs\n",
"w2=45.0//cfs\n",
"v=3.0//fps\n",
"h=144//ft\n",
"D=12*sqrt(4*w/(%pi*w1))//in\n",
"d1=1.95//cfs\n",
"D1=12*sqrt(4*d1)/(%pi*v)//in\n",
"d2=41.6//cfs\n",
"D2=12*sqrt(4*d2)/(%pi*w1)//ins\n",
"//CALCULATIONS\n",
"C=%pi*(D)^2*3/(4*h)//cfs\n",
"C1=%pi*(1/4)*3//cfs\n",
"V=(d2*4)/(%pi*4^2)//fps\n",
"//RESULTS\n",
"printf('The minimum dry-weather flow =% f cfs',C)\n",
"printf('The maximum dry-weather flow in excess actual capacity=% f cfs',C1)\n",
"printf('the storm flow in axcess of maximum dry-weather flow=% f fps',V)"
   ]
   }
,
{
		   "cell_type": "markdown",
		   "metadata": {},
		   "source": [
			"## Example 3.4: Example_4.sce"
		   ]
		  },
  {
"cell_type": "code",
	   "execution_count": null,
	   "metadata": {
	    "collapsed": true
	   },
	   "outputs": [],
"source": [
"clc\n",
"//initialisation of variables\n",
"t=0.8//mgd\n",
"d=8000//people\n",
"a=2//hr\n",
"v=800000//ft\n",
"h=10//ft\n",
"a1=4//in\n",
"d1=1//sq ft per capita\n",
"a3=3//mgad\n",
"//CALCULATIONS\n",
"V=v*(a/24)/a//gal\n",
"S=V/h//sq ft\n",
"S1=(v/h)/S//gpd per sq ft\n",
"V1=a*d/h//cu ft\n",
"D=d/S//ft\n",
"E=d1*d/a1//sq ft\n",
"A=t/a3//acre\n",
"//RESULTS\n",
"printf('the capacity of the components of a small trickling-filter =% f acre',A)"
   ]
   }
,
{
		   "cell_type": "markdown",
		   "metadata": {},
		   "source": [
			"## Example 3.5: Example_5.sce"
		   ]
		  },
  {
"cell_type": "code",
	   "execution_count": null,
	   "metadata": {
	    "collapsed": true
	   },
	   "outputs": [],
"source": [
"clc\n",
"//initialisation of variables\n",
"w=2000//sq miles\n",
"r=0.1//cfs\n",
"d=80000//ft\n",
"p=100//gpd\n",
"p1=80//ft\n",
"p2=340//percent\n",
"h=646000//ft\n",
"//CALCULATIONS\n",
"L=r*w//cfs\n",
"R=6*p1/1.4//cfs\n",
"P=p1*(p2-L)/p2//percent\n",
"D=(d*p)//gpd\n",
"D1=(L*h)//gpd\n",
"//RESULTS\n",
"printf('the percent of removal of pollutional load needed=% f percent',P)"
   ]
   }
,
{
		   "cell_type": "markdown",
		   "metadata": {},
		   "source": [
			"## Example 3.6: Example_6.sce"
		   ]
		  },
  {
"cell_type": "code",
	   "execution_count": null,
	   "metadata": {
	    "collapsed": true
	   },
	   "outputs": [],
"source": [
"clc\n",
"//initialisation of variables\n",
"p=10000//people\n",
"p1=4//ft\n",
"w=10//in\n",
"s=80//gpcd\n",
"h=43560//ft\n",
"p2=20//ft\n",
"//CALCULATIONS\n",
"R=[(w/12)*7.5*h]/365//gpad\n",
"A=p*s/R//acres\n",
"A1=1.7//sq miles\n",
"P=p/500//acres\n",
"D=p2*h*4*7.48/(p*s)//days\n",
"//RESULTS\n",
"printf('the detention period in ponds =% f days',D)"
   ]
   }
,
{
		   "cell_type": "markdown",
		   "metadata": {},
		   "source": [
			"## Example 3.7: Example_7.sce"
		   ]
		  },
  {
"cell_type": "code",
	   "execution_count": null,
	   "metadata": {
	    "collapsed": true
	   },
	   "outputs": [],
"source": [
"clc\n",
"//initialisation of variables\n",
"p=100000//people\n",
"a=75//$\n",
"a2=47//in\n",
"b=10//in\n",
"//CALCULATIONS\n",
"P=a*p//people\n",
"S=((a)*(b^5))/(b)^1/4//$\n",
"//RESULTS\n",
"printf('the money is inversed in the sanitary sewerage system=% f $',S)"
   ]
   }
],
"metadata": {
		  "kernelspec": {
		   "display_name": "Scilab",
		   "language": "scilab",
		   "name": "scilab"
		  },
		  "language_info": {
		   "file_extension": ".sce",
		   "help_links": [
			{
			 "text": "MetaKernel Magics",
			 "url": "https://github.com/calysto/metakernel/blob/master/metakernel/magics/README.md"
			}
		   ],
		   "mimetype": "text/x-octave",
		   "name": "scilab",
		   "version": "0.7.1"
		  }
		 },
		 "nbformat": 4,
		 "nbformat_minor": 0
}
