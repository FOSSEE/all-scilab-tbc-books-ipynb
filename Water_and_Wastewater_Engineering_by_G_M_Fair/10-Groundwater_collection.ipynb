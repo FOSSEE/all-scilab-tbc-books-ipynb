{
"cells": [
 {
		   "cell_type": "markdown",
	   "metadata": {},
	   "source": [
       "# Chapter 10: Groundwater collection"
	   ]
	},
{
		   "cell_type": "markdown",
		   "metadata": {},
		   "source": [
			"## Example 10.1: Example_1.sce"
		   ]
		  },
  {
"cell_type": "code",
	   "execution_count": null,
	   "metadata": {
	    "collapsed": true
	   },
	   "outputs": [],
"source": [
"clc\n",
"//initialisation of variables\n",
"w1=1000//ft\n",
"w2=2000//ft\n",
"r=700//gpm\n",
"d=10//days\n",
"q=2//ft\n",
"u=1.87*[(3.4*10^-5)/(3.2*10^4)]*(d^6/d)//ft\n",
"W=7.94//ft\n",
"p=114.6*(7*10^2)*W/(3.2*10^4)//ft\n",
"U=1.87*[(3.4*10^-5)/(3.2*10^4)]*(4*d^6/d)//ft\n",
"Wu=6.55//ft\n",
"P=114.6*(7*10^2)*Wu/(3.2*10^4)//ft\n",
"R=54//ft\n",
"//CALCULATIONS\n",
"W1=R+p+P//ft\n",
"D=R+q*p//ft\n",
"//RESULTS\n",
"printf('the expected drawndown the first well is pumped at a rate=% f ft',W1)\n",
"printf('the drawdown in each well all the three are pupped at a rate=% f ft',D)"
   ]
   }
,
{
		   "cell_type": "markdown",
		   "metadata": {},
		   "source": [
			"## Example 10.3: Example_2.sce"
		   ]
		  },
  {
"cell_type": "code",
	   "execution_count": null,
	   "metadata": {
	    "collapsed": true
	   },
	   "outputs": [],
"source": [
"clc\n",
"//initialisation of variables\n",
"g=20//ft\n",
"k=10^-1//cm/sec\n",
"g1=3.28*10^-3//fps\n",
"w=2//ft\n",
"w1=30//ft\n",
"//CALCULATIONS\n",
"Q=(1/2)*(g1)*[(g^2)-(2^2)]/(w1)//cfs\n",
"//RESULTS\n",
"printf('the flow into a foot of gallery=% f cfs',Q)"
   ]
   }
],
"metadata": {
		  "kernelspec": {
		   "display_name": "Scilab",
		   "language": "scilab",
		   "name": "scilab"
		  },
		  "language_info": {
		   "file_extension": ".sce",
		   "help_links": [
			{
			 "text": "MetaKernel Magics",
			 "url": "https://github.com/calysto/metakernel/blob/master/metakernel/magics/README.md"
			}
		   ],
		   "mimetype": "text/x-octave",
		   "name": "scilab",
		   "version": "0.7.1"
		  }
		 },
		 "nbformat": 4,
		 "nbformat_minor": 0
}
