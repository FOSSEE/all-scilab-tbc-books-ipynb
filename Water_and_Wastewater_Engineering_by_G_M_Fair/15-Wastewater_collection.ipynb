{
"cells": [
 {
		   "cell_type": "markdown",
	   "metadata": {},
	   "source": [
       "# Chapter 15: Wastewater collection"
	   ]
	},
{
		   "cell_type": "markdown",
		   "metadata": {},
		   "source": [
			"## Example 15.1: Example_1.sce"
		   ]
		  },
  {
"cell_type": "code",
	   "execution_count": null,
	   "metadata": {
	    "collapsed": true
	   },
	   "outputs": [],
"source": [
"clc\n",
"//initialisation of variables\n",
"q=0.25//in\n",
"Q=0.34//in\n",
"r=0.76//in\n",
"v=0.83//in\n",
"n=0.78//in\n",
"r1=0.84//in\n",
"v1=0.70//in\n",
"w=2//in\n",
"q1=0.056//in\n",
"d=0.16//in\n",
"v2=0.53//in\n",
"n1=0.80//in\n",
"d1=0.18//in\n",
"n2=0.46//in\n",
"//CALCULATIONS\n",
"V=v*w//fps\n",
"N=v1*w//fps\n",
"V1=v2*w//fps\n",
"V2=n2*w//fps\n",
"//RESULTS\n",
"printf('The one fourth their full flow=% f fps',N)\n",
"printf('The one enghteenth their full flow=% f fps',V2)"
   ]
   }
,
{
		   "cell_type": "markdown",
		   "metadata": {},
		   "source": [
			"## Example 15.2: Example_2.sce"
		   ]
		  },
  {
"cell_type": "code",
	   "execution_count": null,
	   "metadata": {
	    "collapsed": true
	   },
	   "outputs": [],
"source": [
"clc\n",
"//initialisation of variables\n",
"v=2.5//fps\n",
"N=0.015//fps\n",
"a=(40+27)//in\n",
"b=(40*27+27*19)/a\n",
"c=0.440//cfs\n",
"w=49*0.09/100//cfs\n",
"g=0.008//percent\n",
"Q=0.82//cfs\n",
"r=0.795//cfs\n",
"t=2.35*1.16//fps\n",
"d1=113.20-113.03//ft\n",
"d2=12//ft\n",
"//CALCULATIONS\n",
"R=r/Q//cfs\n",
"D=g*r//in\n",
"D2=d1*d2//in\n",
"//RESULTS\n",
"printf('The required capacity and find the slope size and hydraulic characteristics of the system=% f in',D2)"
   ]
   }
,
{
		   "cell_type": "markdown",
		   "metadata": {},
		   "source": [
			"## Example 15.3: Example_3.sce"
		   ]
		  },
  {
"cell_type": "code",
	   "execution_count": null,
	   "metadata": {
	    "collapsed": true
	   },
	   "outputs": [],
"source": [
"clc\n",
"//initialisation of variables\n",
"p=20//min\n",
"N=0.012//in\n",
"k=2.19//min\n",
"l=k+1.97//min\n",
"q=340/(60*3.94)//min\n",
"r=2.56*0.508//min\n",
"del=0.42//min\n",
"j=84.28//min\n",
"w1=0.92//min\n",
"//CALCULATIONS\n",
"r1=r*k//cfs\n",
"w=p+q//min\n",
"G=j-del//min\n",
"S=(G-w1)//min\n",
"//RESULTS\n",
"printf('The required capacity and find the slop size and hydraulic=% f min',S)"
   ]
   }
,
{
		   "cell_type": "markdown",
		   "metadata": {},
		   "source": [
			"## Example 15.4: Example_4.sce"
		   ]
		  },
  {
"cell_type": "code",
	   "execution_count": null,
	   "metadata": {
	    "collapsed": true
	   },
	   "outputs": [],
"source": [
"clc\n",
"//initialisation of variables\n",
"a=42//in\n",
"d=45//mgd\n",
"d1=0.75//in\n",
"s=60//ft\n",
"p1=9//in\n",
"p2=8.4//in\n",
"p3=9//in\n",
"c1=13*63.6//sq in\n",
"c2=9*55.4//sq in\n",
"c3=9.21//sq ft\n",
"M=d*1.547//cfs\n",
"v=M/c3//fps\n",
"g=0.025*32.2//ft/sec^2\n",
"//CALCULATIONS\n",
"F=v/sqrt(g*(p1/12))//ft\n",
"S=s/d1//in\n",
"//RESULTS\n",
"printf('the port near the end of the diffuser pipe=% f in',F)"
   ]
   }
],
"metadata": {
		  "kernelspec": {
		   "display_name": "Scilab",
		   "language": "scilab",
		   "name": "scilab"
		  },
		  "language_info": {
		   "file_extension": ".sce",
		   "help_links": [
			{
			 "text": "MetaKernel Magics",
			 "url": "https://github.com/calysto/metakernel/blob/master/metakernel/magics/README.md"
			}
		   ],
		   "mimetype": "text/x-octave",
		   "name": "scilab",
		   "version": "0.7.1"
		  }
		 },
		 "nbformat": 4,
		 "nbformat_minor": 0
}
