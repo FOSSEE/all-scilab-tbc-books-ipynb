{
"cells": [
 {
		   "cell_type": "markdown",
	   "metadata": {},
	   "source": [
       "# Chapter 11: Surface water collections"
	   ]
	},
{
		   "cell_type": "markdown",
		   "metadata": {},
		   "source": [
			"## Example 11.1: Example_1.sce"
		   ]
		  },
  {
"cell_type": "code",
	   "execution_count": null,
	   "metadata": {
	    "collapsed": true
	   },
	   "outputs": [],
"source": [
"clc\n",
"//initialisation of variables\n",
"s=20//mph\n",
"t=90//min\n",
"w=1.31//ft\n",
"h=7.5//miles\n",
"h1=0.22//ft\n",
"t1=1100//min\n",
"t2=6.0//min\n",
"p=32.2//ft\n",
"l=5.12//length\n",
"l1=2.8//length\n",
"p1=1400//ft\n",
"d=73//depth\n",
"h3=2.06//ft\n",
"e=173.0//ft\n",
"hi=0.2//ft\n",
"//CALCULATIONS\n",
"W=s*w//mph\n",
"hs=h1*[(W)^2/p]^0.53*h^0.47//ft\n",
"Ts=t2*(W/p)^0.44*(h/p)^0.28//sec\n",
"Td=t1*h/(p*Ts)//min\n",
"Ls=l1/(l*(Ts)^2)//ft\n",
"D=d/(l*(Ts)^2)//ft\n",
"H=(W)^2*[h*(1/(p1*d))]//ft\n",
"hr=h3*l1//ft\n",
"M=e+hi+hr//ft\n",
"//RESULTS\n",
"printf('the overwater wind speed=% f mph',W)\n",
"printf('the significant wave height=% f ft',hs)\n",
"printf('the significant wave period=% f sec',Ts)\n",
"printf('the minimum wind duration required to reach the significant wave height=% f min',Td)\n",
"printf('the significant wave lenght adn steepness=% f ft',Ls)\n",
"printf('the reservoir depth ratio=% f ft',D)\n",
"printf('the wind tide or set up=% f ft',H)\n",
"printf('the run up =% f ft',hr)\n",
"printf('the maximum elevation reached by the waves=% f ft',M)"
   ]
   }
,
{
		   "cell_type": "markdown",
		   "metadata": {},
		   "source": [
			"## Example 11.2: Example_2.sce"
		   ]
		  },
  {
"cell_type": "code",
	   "execution_count": null,
	   "metadata": {
	    "collapsed": true
	   },
	   "outputs": [],
"source": [
"clc\n",
"//initialisation of variables\n",
"g=264//quartz\n",
"p=0.39//percent\n",
"//CALCULATIONS\n",
"S=(1-p)*(g-1)//in\n",
"//RESULTS\n",
"printf('the hydralic gradient and seepage velocity=% f in',S)"
   ]
   }
,
{
		   "cell_type": "markdown",
		   "metadata": {},
		   "source": [
			"## Example 11.3: Example_3.sce"
		   ]
		  },
  {
"cell_type": "code",
	   "execution_count": null,
	   "metadata": {
	    "collapsed": true
	   },
	   "outputs": [],
"source": [
"clc\n",
"//initialisation of variables\n",
"w=40//ft\n",
"k=2*10^-3//cm/sec\n",
"p=3.28*10^-3//cfs\n",
"h=6.47*10^5//gpd\n",
"p1=0.433//ft\n",
"m=9//ft\n",
"delh=w/(18*9)//in\n",
"k1=4.94*10^-4//cm/sec\n",
"//CALCULATIONS\n",
"Q=k*p*w*(9/18)//cfs\n",
"Q1=Q*h//gpd/ft width\n",
"P=(1-8/18)*w*p1//Psig\n",
"H=k1/k//in\n",
"//RESULTS\n",
"printf('the seepage through each foot width of the foundation=% f gpd/ft/ width',Q1)\n",
"printf('the excess hydrostatic pressure on the upstream  side of the bottom of the sheet pilling=% f Psig',P)\n",
"printf('the maximum hydraulic gradient and its relations to the coeeficent=% f in',H)"
   ]
   }
,
{
		   "cell_type": "markdown",
		   "metadata": {},
		   "source": [
			"## Example 11.4: Example_4.sce"
		   ]
		  },
  {
"cell_type": "code",
	   "execution_count": null,
	   "metadata": {
	    "collapsed": true
	   },
	   "outputs": [],
"source": [
"clc\n",
"//initialisation of variables\n",
"d=120//ft\n",
"w=16//ft\n",
"d1=120/0.8//ft\n",
"p=60*0.8//ft\n",
"h=2//ft\n",
"v=18.74*0.8//ft\n",
"s=95.23//ft\n",
"s1=0.8//ft\n",
"//CALCULATIONS\n",
"W=d-h*p//ft\n",
"S=s*s1//ft\n",
"//RESULTS\n",
"printf('in succession from the intersection of the upstream slop=% f ft',S)"
   ]
   }
],
"metadata": {
		  "kernelspec": {
		   "display_name": "Scilab",
		   "language": "scilab",
		   "name": "scilab"
		  },
		  "language_info": {
		   "file_extension": ".sce",
		   "help_links": [
			{
			 "text": "MetaKernel Magics",
			 "url": "https://github.com/calysto/metakernel/blob/master/metakernel/magics/README.md"
			}
		   ],
		   "mimetype": "text/x-octave",
		   "name": "scilab",
		   "version": "0.7.1"
		  }
		 },
		 "nbformat": 4,
		 "nbformat_minor": 0
}
