{
"cells": [
 {
		   "cell_type": "markdown",
	   "metadata": {},
	   "source": [
       "# Chapter 5: Water and wastewater volume"
	   ]
	},
{
		   "cell_type": "markdown",
		   "metadata": {},
		   "source": [
			"## Example 5.1: Example_1.sce"
		   ]
		  },
  {
"cell_type": "code",
	   "execution_count": null,
	   "metadata": {
	    "collapsed": true
	   },
	   "outputs": [],
"source": [
"clc\n",
"//initialisation of variables\n",
"t1=5.25//yr\n",
"t2=10.00//yr\n",
"yi=171000//in\n",
"ye=111000//in\n",
"yt=5.23300//in\n",
"yl=5.04532//in\n",
"yn=31500//in\n",
"ym=0.09853//in\n",
"tm=9.25//yr\n",
"tn=10.00//yr\n",
"//CALCULATIONS\n",
"T=t1/t2//yr\n",
"T1=tm/tn//yr\n",
"Y=yi-ye//in\n",
"Yt=yt-yl//in\n",
"//RESULTS\n",
"printf('the fifth intercensal year =% f yr',T)\n",
"printf('the ninth postcensal year =% f yr',T1)"
   ]
   }
,
{
		   "cell_type": "markdown",
		   "metadata": {},
		   "source": [
			"## Example 5.2: Example_2.sce"
		   ]
		  },
  {
"cell_type": "code",
	   "execution_count": null,
	   "metadata": {
	    "collapsed": true
	   },
	   "outputs": [],
"source": [
"clc\n",
"//initialisation of variables\n",
"y0=30000//in\n",
"y1=172000//in\n",
"y2=292000//in\n",
"a=172//ft\n",
"p=30//ft\n",
"y=292//ft\n",
"q=322000//ft\n",
"g=313//ft\n",
"n=0.05//ft\n",
"d=-2.442//ft\n",
"//CALCULATIONS\n",
"L=[2*p*a*y2-(a)^2*q]/[p*y-(a)^2]//moreover\n",
"m=(g-p)/p//ft\n",
"N=n*d//in\n",
"Y=g/[1+m*(N)]//in\n",
"//RESULTS\n",
"printf('the saturation populations=% f moreover',L)\n",
"printf('the coefficients=% f in',N)\n",
"printf('the equation of a logistic curve=% f in',Y)"
   ]
   }
,
{
		   "cell_type": "markdown",
		   "metadata": {},
		   "source": [
			"## Example 5.4: Example_3.sce"
		   ]
		  },
  {
"cell_type": "code",
	   "execution_count": null,
	   "metadata": {
	    "collapsed": true
	   },
	   "outputs": [],
"source": [
"clc\n",
"//initialisation of variables\n",
"p=100000//in\n",
"d=150//in\n",
"h=1000000//in\n",
"a1=2.0//draft\n",
"a2=3.0//draft\n",
"a3=1.6//draft\n",
"m=1.5//in\n",
"q=2.5//in\n",
"v=1020//in\n",
"w=100//in\n",
"t=0.01//in\n",
"v1=13.2//mgd\n",
"//CALCULATIONS\n",
"A=d*p/h//mgd\n",
"M=m*A//mgd\n",
"M1=q*A//mgd\n",
"V=v*sqrt(w)*(1-t*sqrt(w))//gpm\n",
"D=M+v1//mgd\n",
"L=a1*A//mgd\n",
"L1=(4/3)*M//max\n",
"H=a2*A//mgd\n",
"H1=(4/3)*M1//max\n",
"F=a3*A//mgd\n",
"F1=(4/3)*M//max\n",
"//RESULTS\n",
"printf('the resulting capacities of the four system =% f max',F1)"
   ]
   }
,
{
		   "cell_type": "markdown",
		   "metadata": {},
		   "source": [
			"## Example 5.6: Example_4.sce"
		   ]
		  },
  {
"cell_type": "code",
	   "execution_count": null,
	   "metadata": {
	    "collapsed": true
	   },
	   "outputs": [],
"source": [
"clc\n",
"//initialisation of variables\n",
"r=48//in\n",
"A=450//gpd/acre\n",
"B=8000//gpd/mile\n",
"S=5280/350//manholes/mile\n",
"//CALCULATIONS\n",
"C=(B-S*100)/12//gpd/mile\n",
"//RESULTS\n",
"printf('the ground a quarter of it eventually =% f gpd/mile',C)"
   ]
   }
,
{
		   "cell_type": "markdown",
		   "metadata": {},
		   "source": [
			"## Example 5.7: Example_5.sce"
		   ]
		  },
  {
"cell_type": "code",
	   "execution_count": null,
	   "metadata": {
	    "collapsed": true
	   },
	   "outputs": [],
"source": [
"clc\n",
"//initialisation of variables\n",
"p1=20//ft\n",
"p2=30//ft\n",
"w=5//person\n",
"s=17800//in\n",
"h=1200//in\n",
"q=100//in\n",
"i=1//in\n",
"//CALCULATIONS\n",
"S=p1*p2*i*s/(h*w)//gpcd\n",
"P=(q*p1*p2/S)//percent\n",
"//RESULTS\n",
"printf('the degree of separation of stormwater=% f percent',P)"
   ]
   }
,
{
		   "cell_type": "markdown",
		   "metadata": {},
		   "source": [
			"## Example 5.8: Example_6.sce"
		   ]
		  },
  {
"cell_type": "code",
	   "execution_count": null,
	   "metadata": {
	    "collapsed": true
	   },
	   "outputs": [],
"source": [
"clc\n",
"//initialisation of variables\n",
"s=105//gpcd\n",
"m=315//gpcd\n",
"m1=35//gpcd\n",
"Q1=360//gpcd\n",
"Q2=30//gpcd\n",
"p1=20//pecent\n",
"p2=15//persons/acer\n",
"D=21//persons/acre\n",
"I=2000//gpd/acre\n",
"//CALCULATIONS\n",
"A=D*(s+Q2)+I//gpd/acre\n",
"R=D*(m+Q2)+I//gpd/acre\n",
"L=D*(m1+Q2)+I//gpd/acre\n",
"//RESULTS\n",
"printf('the average peak and low rates of flow =% f gpd/acre',L)"
   ]
   }
],
"metadata": {
		  "kernelspec": {
		   "display_name": "Scilab",
		   "language": "scilab",
		   "name": "scilab"
		  },
		  "language_info": {
		   "file_extension": ".sce",
		   "help_links": [
			{
			 "text": "MetaKernel Magics",
			 "url": "https://github.com/calysto/metakernel/blob/master/metakernel/magics/README.md"
			}
		   ],
		   "mimetype": "text/x-octave",
		   "name": "scilab",
		   "version": "0.7.1"
		  }
		 },
		 "nbformat": 4,
		 "nbformat_minor": 0
}
