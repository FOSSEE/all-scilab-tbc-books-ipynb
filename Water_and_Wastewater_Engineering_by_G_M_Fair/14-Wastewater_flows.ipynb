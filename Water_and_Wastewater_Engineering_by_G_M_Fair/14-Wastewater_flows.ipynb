{
"cells": [
 {
		   "cell_type": "markdown",
	   "metadata": {},
	   "source": [
       "# Chapter 14: Wastewater flows"
	   ]
	},
{
		   "cell_type": "markdown",
		   "metadata": {},
		   "source": [
			"## Example 14.10: Example_10.sce"
		   ]
		  },
  {
"cell_type": "code",
	   "execution_count": null,
	   "metadata": {
	    "collapsed": true
	   },
	   "outputs": [],
"source": [
"clc\n",
"//initialisation of variables\n",
"Q1=30//cfs\n",
"Q2=16//cfs\n",
"a=32//sq ft\n",
"r=1.6//ft\n",
"i=10^-4//ft\n",
"n=1.25*10^-2//ft\n",
"h2=0.50//ft\n",
"c=3.33//ft\n",
"h1=5.20//ft\n",
"l=72//ft\n",
"s=12320//ft\n",
"//CALCULATIONS\n",
"L=s-l//ft\n",
"//RESULTS\n",
"printf('the forchheimer s methos =% f ft',L)"
   ]
   }
,
{
		   "cell_type": "markdown",
		   "metadata": {},
		   "source": [
			"## Example 14.11: Example_11.sce"
		   ]
		  },
  {
"cell_type": "code",
	   "execution_count": null,
	   "metadata": {
	    "collapsed": true
	   },
	   "outputs": [],
"source": [
"clc\n",
"//initialisation of variables\n",
"q=1.0//cfs\n",
"g=2.0//percent\n",
"g1=5.6//percent\n",
"r=0.015//cfs\n",
"w=90//percent\n",
"Q=10*0.9*q//ft\n",
"p=0.10//ft\n",
"h=(3.48*g1^1/3)//ft\n",
"d=p^2/3*100//ft\n",
"//CALCULATIONS\n",
"D=h*d//in\n",
"//RESULTS\n",
"printf('The maximum depth of flow in the gutter=% f in',D)"
   ]
   }
,
{
		   "cell_type": "markdown",
		   "metadata": {},
		   "source": [
			"## Example 14.1: Example_1.sce"
		   ]
		  },
  {
"cell_type": "code",
	   "execution_count": null,
	   "metadata": {
	    "collapsed": true
	   },
	   "outputs": [],
"source": [
"clc\n",
"//initialisation of variables\n",
"n=0.013//ft\n",
"s=4.90//ft\n",
"v=0.590//ft\n",
"d=0.463//ft\n",
"w=3.9*10^-2//ft\n",
"p=1.696//ft\n",
"//CALCULATIONS\n",
"V=s*v//fps\n",
"Q=s*d//cfs\n",
"N=(w*p)^2*1000//percent\n",
"//RESULTS\n",
"printf('the velocity of flow and rate of discharge=% f percent',N)"
   ]
   }
,
{
		   "cell_type": "markdown",
		   "metadata": {},
		   "source": [
			"## Example 14.2: Example_2.sce"
		   ]
		  },
  {
"cell_type": "code",
	   "execution_count": null,
	   "metadata": {
	    "collapsed": true
	   },
	   "outputs": [],
"source": [
"clc\n",
"//initialisation of variables\n",
"v=1.34//fps\n",
"s=3.7*10^-3//fps\n",
"k=0.8//ft\n",
"r=20//ft\n",
"k1=0.04//ft\n",
"v=3.0//fps\n",
"v1=5.0//fps\n",
"d=10^-1//ft\n",
"d1=1.34//ft\n",
"//CALCULATIONS\n",
"K=r*k1//ft\n",
"V=sqrt(r)//times\n",
"D=d*(v/d1)^2//cm\n",
"D1=d*(v1/d1)^2//cm\n",
"//RESULTS\n",
"printf('the minimum velocity and the gradient at the which coarse quartz=% f cm',D1)"
   ]
   }
,
{
		   "cell_type": "markdown",
		   "metadata": {},
		   "source": [
			"## Example 14.3: Example_3.sce"
		   ]
		  },
  {
"cell_type": "code",
	   "execution_count": null,
	   "metadata": {
	    "collapsed": true
	   },
	   "outputs": [],
"source": [
"\n",
"\n",
"clc\n",
"//initialisation of variables\n",
"v=2.5//fps\n",
"q=0.873//cfs\n",
"s=5.20//percent\n",
"a=0.252//ft\n",
"r=0.684//ft\n",
"r1=1.46//ft\n",
"v1=0.776//ft\n",
"q1=0.196//ft\n",
"n=0.78//ft\n",
"R=0.939//ft\n",
"//CALCULATIONS\n",
"V=v1*v//fps\n",
"Q=q1*q//cfs\n",
"R1=r1*s//percent\n",
"Vs=R*v//ft\n",
"N=n*Vs//fps\n",
"Qs=a*R*q//cfs\n",
"N1=n*Qs//cfs\n",
"//RESULTS\n",
"printf('the required grades and associated velocity and rates=% f cfs',V)\n",
"printf('the depth and a grade=% f cfs',Q)\n",
"printf('the self cleaning flow=% f cfs',N1)"
   ]
   }
,
{
		   "cell_type": "markdown",
		   "metadata": {},
		   "source": [
			"## Example 14.4: Example_4.sce"
		   ]
		  },
  {
"cell_type": "code",
	   "execution_count": null,
	   "metadata": {
	    "collapsed": true
	   },
	   "outputs": [],
"source": [
"clc\n",
"//initialisation of variables\n",
"Q=0.873//cfs\n",
"s=5.20//percent\n",
"d=0.161//cfs\n",
"q1=0.185//ft\n",
"d2=2.5//ft\n",
"v=0.91//ft\n",
"s1=1.70//ft\n",
"s3=1.46//ft\n",
"w=0.185//ft\n",
"d1=0.30//ft\n",
"v1=0.732//ft\n",
"//CALCULATIONS\n",
"q=d/Q//cfs\n",
"Vs=v*d2//fps\n",
"Ss=s1*s//percent\n",
"Va=v1*d2//fps\n",
"Ss1=s3*s//percent\n",
"//RESULTS\n",
"printf('the depth and velocity of flow and the required slop=% f percent',Ss1)"
   ]
   }
,
{
		   "cell_type": "markdown",
		   "metadata": {},
		   "source": [
			"## Example 14.5: Example_5.sce"
		   ]
		  },
  {
"cell_type": "code",
	   "execution_count": null,
	   "metadata": {
	    "collapsed": true
	   },
	   "outputs": [],
"source": [
"clc\n",
"//initialisation of variables\n",
"d1=0.67//ft\n",
"h1=2.00//ft\n",
"h2=4.04//ft\n",
"hv1=0.062//ft\n",
"hv2=0.254//ft\n",
"d=0.19//ft\n",
"h=0.2//ft\n",
"h1=0.04//ft\n",
"q=0.644//ft\n",
"q1=0.65//ft\n",
"v=0.92//ft\n",
"d2=6.5//ft\n",
"v1=3.69//ft\n",
"d3=0.542//ft\n",
"hv3=0.21//ft\n",
"delv=0.15//ft\n",
"d4=0.02//ft\n",
"//CALCULATIONS\n",
"H=d1+hv1//ft\n",
"H1=d1+hv2//ft\n",
"he=h*d//ft\n",
"hi=d+h1//ft\n",
"H2=d3+hv3//ft\n",
"he1=h*delv//ft\n",
"S=d4+h1//ft\n",
"//RESULTS\n",
"printf('the required slope=% f ft',hi)\n",
"printf('the lower sewer and the invert drop in the transition=% f ft',S)"
   ]
   }
,
{
		   "cell_type": "markdown",
		   "metadata": {},
		   "source": [
			"## Example 14.6: Example_6.sce"
		   ]
		  },
  {
"cell_type": "code",
	   "execution_count": null,
	   "metadata": {
	    "collapsed": true
	   },
	   "outputs": [],
"source": [
"clc\n",
"//initialisation of variables\n",
"q=60//cfs\n",
"D=4//ft\n",
"w=0.177//ft\n",
"s=0.59//ft\n",
"h=4.0//ft\n",
"d1=1.0//ft\n",
"v=0.90//ft\n",
"d1=0.42//ft\n",
"h1=6.0//ft\n",
"h2=1.5//ft\n",
"dl=1.3//ft\n",
"p=0.41//ft\n",
"u=0.8//ft\n",
"u1=3.2//ft\n",
"y=0.45//ft\n",
"//CALCULATIONS\n",
"H=s*D//ft\n",
"d2=d1*D//ft\n",
"V=v*D//ft\n",
"P=p*D//ft\n",
"D1=y*D//ft\n",
"//RESULTS\n",
"printf('the critical depth=% f ft',H)\n",
"printf('the alternate stages for an energy =% f ft',V)\n",
"printf('the alternate stages for an energy head=% f ft',P)\n",
"printf('the lower alternate stage with upper alternate stage=% f ft',D1)"
   ]
   }
,
{
		   "cell_type": "markdown",
		   "metadata": {},
		   "source": [
			"## Example 14.7: Example_7.sce"
		   ]
		  },
  {
"cell_type": "code",
	   "execution_count": null,
	   "metadata": {
	    "collapsed": true
	   },
	   "outputs": [],
"source": [
"clc\n",
"//initialisation of variables\n",
"d=106//cfs\n",
"q=400//cfs\n",
"d1=0.40//cfs\n",
"w=10//ft\n",
"//CALCULATIONS\n",
"D=d/q//cfs\n",
"D1=d1*w//cfs\n",
"//RESULTS\n",
"printf('the water level in this well rises=% f cfs',D1)"
   ]
   }
,
{
		   "cell_type": "markdown",
		   "metadata": {},
		   "source": [
			"## Example 14.8: Example_8.sce"
		   ]
		  },
  {
"cell_type": "code",
	   "execution_count": null,
	   "metadata": {
	    "collapsed": true
	   },
	   "outputs": [],
"source": [
"clc\n",
"//initialisation of variables\n",
"Q=8.07*10^-2//ft\n",
"N=0.012//ft\n",
"d=0.47//ft\n",
"q=10//ft\n",
"//CALCULATIONS\n",
"D=d*q//ft\n",
"//RESULTS\n",
"printf('teh water surface in the sewer when it is flowing at maximum capacity=% f ft',D)"
   ]
   }
,
{
		   "cell_type": "markdown",
		   "metadata": {},
		   "source": [
			"## Example 14.9: Example_9.sce"
		   ]
		  },
  {
"cell_type": "code",
	   "execution_count": null,
	   "metadata": {
	    "collapsed": true
	   },
	   "outputs": [],
"source": [
"clc\n",
"//initialisation of variable\n",
"g=sqrt(3)//ft\n",
"d=5.67//ft\n",
"//CALCULATIONS\n",
"C=g*d//ft\n",
"//RESULTS\n",
"printf('The rate of propagation of a discontinuous surge=% f ft',C)"
   ]
   }
],
"metadata": {
		  "kernelspec": {
		   "display_name": "Scilab",
		   "language": "scilab",
		   "name": "scilab"
		  },
		  "language_info": {
		   "file_extension": ".sce",
		   "help_links": [
			{
			 "text": "MetaKernel Magics",
			 "url": "https://github.com/calysto/metakernel/blob/master/metakernel/magics/README.md"
			}
		   ],
		   "mimetype": "text/x-octave",
		   "name": "scilab",
		   "version": "0.7.1"
		  }
		 },
		 "nbformat": 4,
		 "nbformat_minor": 0
}
