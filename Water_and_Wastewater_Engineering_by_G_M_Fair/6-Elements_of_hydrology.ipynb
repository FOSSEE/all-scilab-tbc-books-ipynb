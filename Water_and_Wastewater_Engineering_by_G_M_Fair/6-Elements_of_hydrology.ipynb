{
"cells": [
 {
		   "cell_type": "markdown",
	   "metadata": {},
	   "source": [
       "# Chapter 6: Elements of hydrology"
	   ]
	},
{
		   "cell_type": "markdown",
		   "metadata": {},
		   "source": [
			"## Example 6.1: Example_1.sce"
		   ]
		  },
  {
"cell_type": "code",
	   "execution_count": null,
	   "metadata": {
	    "collapsed": true
	   },
	   "outputs": [],
"source": [
"clc\n",
"//initialisation of variables\n",
"H=1360//ft\n",
"t=60//f\n",
"a=(10^3)*5.5*(10^-3)//f\n",
"q=(1.36*10^3)*5.5*(10^-3)//f\n",
"s=(4-1.36)*(10^3)*(3.2*10^-3)//f\n",
"//CALCULATIONS\n",
"T=t-q-s//F\n",
"T1=T+3*a//F\n",
"//RESULTS\n",
"printf('the temperature at the mountain top=% f F',T)\n",
"printf('the temperature on the plain beyond the mountain=% f F',T1)"
   ]
   }
,
{
		   "cell_type": "markdown",
		   "metadata": {},
		   "source": [
			"## Example 6.2: Example_2.sce"
		   ]
		  },
  {
"cell_type": "code",
	   "execution_count": null,
	   "metadata": {
	    "collapsed": true
	   },
	   "outputs": [],
"source": [
"clc\n",
"//initialisation of variables\n",
"t=60//f\n",
"v=0.52//in\n",
"t1=80//F\n",
"p=40//percent\n",
"v1=1.03*0.40//in\n",
"w=8//mph\n",
"pa=29.0//in\n",
"p1=0.497//ft\n",
"q=1.32*10^-2//ft\n",
"r=0.268//ft\n",
"//CALCULATIONS\n",
"E=p1*(1-q*pa)*(1+r*w)*(v-v1)//in\n",
"//RESULTS\n",
"printf('the evaporation for the a day during=% f in',E)"
   ]
   }
,
{
		   "cell_type": "markdown",
		   "metadata": {},
		   "source": [
			"## Example 6.3: Example_3.sce"
		   ]
		  },
  {
"cell_type": "code",
	   "execution_count": null,
	   "metadata": {
	    "collapsed": true
	   },
	   "outputs": [],
"source": [
"clc\n",
"//initialisation of variables\n",
"t=47//f\n",
"q=8000//ft\n",
"a=100//ft\n",
"d=0.10//in\n",
"d1=7//degree days\n",
"s1=14000//ft\n",
"s2=7000//ft\n",
"s=1000//ft\n",
"g=32//ft\n",
"h=17.37//ft\n",
"h1=1.547//ft\n",
"//CALCULATIONS\n",
"T=q+s*(t-g)/3//ft\n",
"T1=t-3*1//F\n",
"T2=(T1+g)/2//F\n",
"T3=d1*d*a//sq mile in\n",
"M=h*T3//mgd\n",
"M1=M*h1//cfs\n",
"//RESULTS\n",
"printf('the upper boundary of the melting zone and temperature at the snow line=% f F',T1)\n",
"printf('The average temperature of =% f cfs',M1)"
   ]
   }
],
"metadata": {
		  "kernelspec": {
		   "display_name": "Scilab",
		   "language": "scilab",
		   "name": "scilab"
		  },
		  "language_info": {
		   "file_extension": ".sce",
		   "help_links": [
			{
			 "text": "MetaKernel Magics",
			 "url": "https://github.com/calysto/metakernel/blob/master/metakernel/magics/README.md"
			}
		   ],
		   "mimetype": "text/x-octave",
		   "name": "scilab",
		   "version": "0.7.1"
		  }
		 },
		 "nbformat": 4,
		 "nbformat_minor": 0
}
