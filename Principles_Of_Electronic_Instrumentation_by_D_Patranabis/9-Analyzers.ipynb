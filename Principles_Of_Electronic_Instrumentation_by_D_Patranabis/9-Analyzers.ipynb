{
"cells": [
 {
		   "cell_type": "markdown",
	   "metadata": {},
	   "source": [
       "# Chapter 9: Analyzers"
	   ]
	},
{
		   "cell_type": "markdown",
		   "metadata": {},
		   "source": [
			"## Example 9.1: variable_frequency_oscillator.sce"
		   ]
		  },
  {
"cell_type": "code",
	   "execution_count": null,
	   "metadata": {
	    "collapsed": true
	   },
	   "outputs": [],
"source": [
"//chapter-9,Example9_1,pg 501\n",
"\n",
"fc=1.3*10^6//centre frequency\n",
"\n",
"fsignal=1*10^6//frequency of the signal\n",
"\n",
"fvfo=0.3*10^6//frequency of variable frequency oscillator\n",
"\n",
"per=(fvfo/fc)*100\n",
"\n",
"printf('percent variation\n')\n",
"\n",
"printf('per=%.3f',per)"
   ]
   }
,
{
		   "cell_type": "markdown",
		   "metadata": {},
		   "source": [
			"## Example 9.2: DFT_coefficients.sce"
		   ]
		  },
  {
"cell_type": "code",
	   "execution_count": null,
	   "metadata": {
	    "collapsed": true
	   },
	   "outputs": [],
"source": [
"//chapter-9,Example9_2,pg 502\n",
"\n",
"N=22//no. of acquistioned data\n",
"\n",
"delt=2*10^-3//time period\n",
"\n",
"n=4//4th DFT coeff.\n",
"\n",
"q=3//no. of discrete points\n",
"\n",
"//An=(2/N)*V(n)*cos((2*%pi*n*q)/N)\n",
"\n",
"printf('A4=(1/11)V(4)cos(12pi/11)\n')\n",
"\n",
"//Bn=(2/N)*V(n)*sin((2*%pi*n*q)/N)\n",
"\n",
"printf('B4=(1/11)V(4)sin(12pi/11)\n')\n",
""
   ]
   }
,
{
		   "cell_type": "markdown",
		   "metadata": {},
		   "source": [
			"## Example 9.3: find_improvement_ratio.sce"
		   ]
		  },
  {
"cell_type": "code",
	   "execution_count": null,
	   "metadata": {
	    "collapsed": true
	   },
	   "outputs": [],
"source": [
"//chapter-9,Example9_3,pg 502\n",
"\n",
"N=64//data units\n",
"\n",
"//implimentation steps for DFT=64^2\n",
"\n",
"//for FFT\n",
"\n",
"r=(log2(N)/N)//implimentation ratio\n",
"\n",
"printf('implimentation ratio\n')\n",
"\n",
"printf('r=%.4for(3/32)',r)"
   ]
   }
,
{
		   "cell_type": "markdown",
		   "metadata": {},
		   "source": [
			"## Example 9.4: find_distortion_factor.sce"
		   ]
		  },
  {
"cell_type": "code",
	   "execution_count": null,
	   "metadata": {
	    "collapsed": true
	   },
	   "outputs": [],
"source": [
"//chapter-9,Example9_4,pg 502\n",
"\n",
"D3=1.3*10^-2//3rd harmonic(unit value)\n",
"\n",
"D5=0.31*10^-2//5th harmonic(unit value)\n",
"\n",
"D7=0.04*10^-2//7th harmonic(unit value)\n",
"\n",
"Dt=sqrt((D3^2)+(D5^2)+(D7^2))//distortion ratio\n",
"\n",
"printf('distortion ratio\n')\n",
"\n",
"printf('Dt=%.5f ',Dt)\n",
""
   ]
   }
,
{
		   "cell_type": "markdown",
		   "metadata": {},
		   "source": [
			"## Example 9.5: find_percentage_change_in_feedback.sce"
		   ]
		  },
  {
"cell_type": "code",
	   "execution_count": null,
	   "metadata": {
	    "collapsed": true
	   },
	   "outputs": [],
"source": [
"//chapter-9,Example9_5,pg 502\n",
"\n",
"Q=10//Q-factor\n",
"\n",
"m=5//improvement factor\n",
"\n",
"a=(1/((3*Q)-1))//filter factor\n",
"\n",
"Qr=Q*m//rejection Q-factor\n",
"\n",
"ar=(1/((3*Qr)-1))//rejection filter factor\n",
"\n",
"perf=((a-ar)/a)*100//percent change in feedback\n",
"\n",
"printf('percent change in feedback\n')\n",
"\n",
"printf('perf=%.5f ',perf)"
   ]
   }
,
{
		   "cell_type": "markdown",
		   "metadata": {},
		   "source": [
			"## Example 9.6: time_uncertainity_and_measurable_time.sce"
		   ]
		  },
  {
"cell_type": "code",
	   "execution_count": null,
	   "metadata": {
	    "collapsed": true
	   },
	   "outputs": [],
"source": [
"//chapter-9,Example9_6,pg 503\n",
"\n",
"fc=100*10^6//clock frequency\n",
"\n",
"Nm=4*10^6//memory size\n",
"\n",
"Te=(1/fc)//timing uncertainity\n",
"\n",
"Tm=(Nm/fc)//measurable time\n",
"\n",
"printf('timing uncertainity\n')\n",
"\n",
"printf('Te=%.11f s\n',Te)\n",
"\n",
"printf('measurable time\n')\n",
"\n",
"printf('Tm=%.4f s',Tm)"
   ]
   }
],
"metadata": {
		  "kernelspec": {
		   "display_name": "Scilab",
		   "language": "scilab",
		   "name": "scilab"
		  },
		  "language_info": {
		   "file_extension": ".sce",
		   "help_links": [
			{
			 "text": "MetaKernel Magics",
			 "url": "https://github.com/calysto/metakernel/blob/master/metakernel/magics/README.md"
			}
		   ],
		   "mimetype": "text/x-octave",
		   "name": "scilab",
		   "version": "0.7.1"
		  }
		 },
		 "nbformat": 4,
		 "nbformat_minor": 0
}
