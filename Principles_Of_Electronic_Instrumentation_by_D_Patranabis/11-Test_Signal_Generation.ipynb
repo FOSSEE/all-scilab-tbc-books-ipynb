{
"cells": [
 {
		   "cell_type": "markdown",
	   "metadata": {},
	   "source": [
       "# Chapter 11: Test Signal Generation"
	   ]
	},
{
		   "cell_type": "markdown",
		   "metadata": {},
		   "source": [
			"## Example 11.10: find_output_voltage_V1_and_V2.sce"
		   ]
		  },
  {
"cell_type": "code",
	   "execution_count": null,
	   "metadata": {
	    "collapsed": true
	   },
	   "outputs": [],
"source": [
"//chapter-11,Example11_10,pg 507\n",
"\n",
"Vi=1.3//input voltage\n",
"\n",
"R2=10*10^3\n",
"\n",
"R3=10*10^3\n",
"\n",
"R8=10*10^3//potentiometer\n",
"\n",
"B=1/3//wiper distance\n",
"\n",
"V1=((R3*Vi)/(R3+(B*R8)))//output voltage-1\n",
"\n",
"V2=-((R2*Vi)/(R1+((1-B)*R8)))//output voltage-2\n",
"\n",
"printf('ouput voltage-1\n')\n",
"\n",
"printf('V1=%.4f V\n',V1)\n",
"\n",
"printf('ouput voltage-2\n')\n",
"\n",
"printf('V2=%.4f V\n',V2)"
   ]
   }
,
{
		   "cell_type": "markdown",
		   "metadata": {},
		   "source": [
			"## Example 11.1: limits_of_duty_cycle.sce"
		   ]
		  },
  {
"cell_type": "code",
	   "execution_count": null,
	   "metadata": {
	    "collapsed": true
	   },
	   "outputs": [],
"source": [
"//chapter-11,Example11_1,pg 343\n",
"\n",
"R1=1*10^3//input resistance\n",
"\n",
"R2=1*10^3//feedback resistor\n",
"\n",
"R3=1*10^3// non inverting ter. resistor\n",
"\n",
"R8=1*10^3//potentiometer\n",
"\n",
"R4=1*10^3\n",
"\n",
"DF1=(R1/((2*R1)+R8))//duty factor lim.-1\n",
"\n",
"DF2=(R1+R4)/((2*R1)+R8)//duty factor lim.-2\n",
"\n",
"//T=(((2*R4*C*((2*R1)+R8)))/R1)*(Vt/Vi)=((6*R4*C*Vt)/Vi)\n",
"\n",
"printf('range of duty factor is DF1 to DF2 i.e\n')\n",
"\n",
"printf('%.2f  to  ',DF1)\n",
"\n",
"printf('%.2f',DF2)\n",
"\n",
"printf('\nlimits of t1 and t2\n')\n",
"\n",
"printf('(T/3)  to  (2T/3)')"
   ]
   }
,
{
		   "cell_type": "markdown",
		   "metadata": {},
		   "source": [
			"## Example 11.2: determine_sinewave_amplitude_and_segment_slopes.sce"
		   ]
		  },
  {
"cell_type": "code",
	   "execution_count": null,
	   "metadata": {
	    "collapsed": true
	   },
	   "outputs": [],
"source": [
"//chapter-11,Example11_2,pg 344\n",
"\n",
"Vtx=5//triangular peak(+/-)5\n",
"\n",
"Vsx=(2/%pi)*Vtx//sinewave peak\n",
"\n",
"//if n=3 then there are 2*3=6 break points these are at o/p voltages\n",
"\n",
"n=3//break point parameter\n",
"\n",
"Vs1=(2/%pi)*Vtx*sin((1*%pi)/((2*n)+1))\n",
"\n",
"Vs2=(2/%pi)*Vtx*sin((2*%pi)/((2*n)+1))\n",
"\n",
"Vs3=(2/%pi)*Vtx*sin((3*%pi)/((2*n)+1))\n",
"\n",
"//calculating slopes\n",
"\n",
"ms1=(((2*n)+1)/%pi)*(sin((%pi*(1+1))/((2*n)+1))-sin((%pi*1)/((2*n)+1)))\n",
"\n",
"ms2=(((2*n)+1)/%pi)*(sin((%pi*(2+1))/((2*n)+1))-sin((%pi*2)/((2*n)+1)))\n",
"\n",
"ms3=(((2*n)+1)/%pi)*(sin((%pi*(3+1))/((2*n)+1))-sin((%pi*3)/((2*n)+1)))\n",
"\n",
"printf('break points\n')\n",
"\n",
"printf('output voltages\n')\n",
"\n",
"printf('Vs1=%.2f V  ',Vs1)\n",
"\n",
"printf('Vs2=%.2f V  ',Vs2)\n",
"\n",
"printf('Vs3=%.2f V\n',Vs3)\n",
"\n",
"printf('segment slopes\n')\n",
"\n",
"printf('ms1=%.2f  ',ms1)\n",
"\n",
"printf('ms2=%.2f  ',ms2)\n",
"\n",
"printf('ms3=%.2f \n',ms3)"
   ]
   }
,
{
		   "cell_type": "markdown",
		   "metadata": {},
		   "source": [
			"## Example 11.3: find_inductance.sce"
		   ]
		  },
  {
"cell_type": "code",
	   "execution_count": null,
	   "metadata": {
	    "collapsed": true
	   },
	   "outputs": [],
"source": [
"//chapter-11,Example11_3,pg 505\n",
"\n",
"R1=0//resistance\n",
"\n",
"C=0.1*10^-6//capacitance\n",
"\n",
"f=1*10^3//frequency\n",
"\n",
"L=(1/((2*%pi*f)^2))*(1/C)//inductance\n",
"\n",
"printf('inductance of circuit\n')\n",
"\n",
"printf('L=%.6f H  ',L)"
   ]
   }
,
{
		   "cell_type": "markdown",
		   "metadata": {},
		   "source": [
			"## Example 11.4: resonance_frequency_of_crystal.sce"
		   ]
		  },
  {
"cell_type": "code",
	   "execution_count": null,
	   "metadata": {
	    "collapsed": true
	   },
	   "outputs": [],
"source": [
"//chapter-11,Example11_4,pg 506\n",
"\n",
"C1=4*10^-12\n",
"\n",
"L=94*10^-3//inductance \n",
"\n",
"C=13*10^-9//capacitance\n",
"\n",
"R=91.3//resistance\n",
"\n",
"f1=(1/(2*%pi))*((L*C)^(-1/2))//resonance frequency-1\n",
"\n",
"f2=(sqrt(1+(C/C1))/(2*%pi*sqrt(L*C)))//resonance frequency-2\n",
"\n",
"printf('resonance frequency-1\n')\n",
"\n",
"printf('f1=%.2f Hz\n',f1)\n",
"\n",
"printf('resonance frequency-2\n')\n",
"\n",
"printf('f2=%.2f Hz',f2)"
   ]
   }
,
{
		   "cell_type": "markdown",
		   "metadata": {},
		   "source": [
			"## Example 11.5: find_R_in_CR_section.sce"
		   ]
		  },
  {
"cell_type": "code",
	   "execution_count": null,
	   "metadata": {
	    "collapsed": true
	   },
	   "outputs": [],
"source": [
"//chapter-11,Example11_5,pg 506\n",
"\n",
"f=1*10^3//frequency\n",
"\n",
"C=0.01*10^-6//capacitance\n",
"\n",
"//f=(1/(2*%pi))*(1/(6^(1/2)*RC))\n",
"\n",
"R=(1/(2*%pi*(6^(1/2)*C*f)))//resistance of circuit\n",
"\n",
"printf('resistance of circuit\n')\n",
"\n",
"printf('R=%.2f ohm',R)"
   ]
   }
,
{
		   "cell_type": "markdown",
		   "metadata": {},
		   "source": [
			"## Example 11.6: find_phase_difference_in_wein_network.sce"
		   ]
		  },
  {
"cell_type": "code",
	   "execution_count": null,
	   "metadata": {
	    "collapsed": true
	   },
	   "outputs": [],
"source": [
"//chapter-11,Example11_6,pg 506\n",
"\n",
"epsi=0.01///detuning parameter\n",
"\n",
"eta1=1//(f/fo)=1\n",
"\n",
"eta2=2.2//(f/fo)=2.2\n",
"\n",
"//case-1\n",
"\n",
"phi1=atan((3*eta1*((eta1^2)-1)*(3+(2*epsi)))/((((eta1^2)-1)^2)*(3+epsi)-(9*epsi*(eta1^2))))//phase difference \n",
"\n",
"//case-2\n",
"\n",
"phi2=atan((3*eta2*((eta2^2)-1)*(3+(2*epsi)))/((((eta2^2)-1)^2)*(3+epsi)-(9*epsi*(eta2^2))))//phase difference \n",
"\n",
"printf('phase difference for case-1\n')\n",
"\n",
"printf('phi1=%.2f rad\n',phi1)\n",
"\n",
"printf('phase difference for case-2\n')\n",
"\n",
"printf('phi2=%.2f rad\n',phi2)"
   ]
   }
,
{
		   "cell_type": "markdown",
		   "metadata": {},
		   "source": [
			"## Example 11.7: digital_frequency_synthesizer.sce"
		   ]
		  },
  {
"cell_type": "code",
	   "execution_count": null,
	   "metadata": {
	    "collapsed": true
	   },
	   "outputs": [],
"source": [
"//chapter-11,Example11_7,pg 507\n",
"\n",
"N=12//12-bit synthesizer\n",
"\n",
"k1=1//sampling rate at sampler's rate\n",
"\n",
"k2=4//sampling rate at 4 times sampler's rate\n",
"\n",
"//case-1\n",
"\n",
"adv1=(360/(2^N))//advancement of o/p register \n",
"\n",
"//2pi rad=360 deg.\n",
"\n",
"//case-2\n",
"\n",
"adv2=(4*(360)/(2^N))//advancement of o/p register \n",
"\n",
"printf('advancement of o/p register for case-1\n')\n",
"\n",
"printf('adv1=%.4f \n',adv1)\n",
"\n",
"printf('advancement of o/p register for case-2\n')\n",
"\n",
"printf('adv2=%.4f \n',adv2)"
   ]
   }
,
{
		   "cell_type": "markdown",
		   "metadata": {},
		   "source": [
			"## Example 11.8: find_controlling_voltage.sce"
		   ]
		  },
  {
"cell_type": "code",
	   "execution_count": null,
	   "metadata": {
	    "collapsed": true
	   },
	   "outputs": [],
"source": [
"//chapter-11,Example11_8,pg 507\n",
"\n",
"f=1*10^3//frequency\n",
"\n",
"R6=10*10^3//feed-back resistor\n",
"\n",
"R5=22*10^3//feed-in resistor\n",
"\n",
"R4=10*10^3//integrator resistor\n",
"\n",
"C=0.1*10^-6//integrator capacitor\n",
"\n",
"Vsx=2//comparator pulse amplitude\n",
"\n",
"Vi=((f*R4*R5*C)/(R6*4*Vsx))//controlling voltage\n",
"\n",
"printf('controlling voltage\n')\n",
"\n",
"printf('Vi=%.2f V\n',Vi)"
   ]
   }
,
{
		   "cell_type": "markdown",
		   "metadata": {},
		   "source": [
			"## Example 11.9: find_limits_of_duty_factor.sce"
		   ]
		  },
  {
"cell_type": "code",
	   "execution_count": null,
	   "metadata": {
	    "collapsed": true
	   },
	   "outputs": [],
"source": [
"//chapter-11,Example11_9,pg 507\n",
"\n",
"R1=10*10^3\n",
"\n",
"R8=10*10^3\n",
"\n",
"R4=10*10^3\n",
"\n",
"printf('duty factors are given by (t1/T) and (t2/T). the limits are giiven by\n')\n",
"\n",
"lim1=(R1/((2*R1)+R8))////limit-1 of duty factor\n",
"\n",
"lim2=((R1+R4)/((2*R1)+R8))//limit-2 of duty factor\n",
"\n",
"printf('lim1=%.2f\n',lim1)\n",
"\n",
"printf('lim2=%.2f\n',lim2)\n",
""
   ]
   }
],
"metadata": {
		  "kernelspec": {
		   "display_name": "Scilab",
		   "language": "scilab",
		   "name": "scilab"
		  },
		  "language_info": {
		   "file_extension": ".sce",
		   "help_links": [
			{
			 "text": "MetaKernel Magics",
			 "url": "https://github.com/calysto/metakernel/blob/master/metakernel/magics/README.md"
			}
		   ],
		   "mimetype": "text/x-octave",
		   "name": "scilab",
		   "version": "0.7.1"
		  }
		 },
		 "nbformat": 4,
		 "nbformat_minor": 0
}
