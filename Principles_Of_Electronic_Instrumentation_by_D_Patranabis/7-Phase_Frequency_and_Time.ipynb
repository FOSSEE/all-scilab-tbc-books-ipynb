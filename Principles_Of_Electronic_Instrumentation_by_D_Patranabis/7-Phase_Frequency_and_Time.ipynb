{
"cells": [
 {
		   "cell_type": "markdown",
	   "metadata": {},
	   "source": [
       "# Chapter 7: Phase Frequency and Time"
	   ]
	},
{
		   "cell_type": "markdown",
		   "metadata": {},
		   "source": [
			"## Example 7.10: find_time_between_events.sce"
		   ]
		  },
  {
"cell_type": "code",
	   "execution_count": null,
	   "metadata": {
	    "collapsed": true
	   },
	   "outputs": [],
"source": [
"//chapter-7,Example7_10,pg 498\n",
"\n",
"n=10*10^2//scale factor=(1/n)\n",
"\n",
"fc=10*10^5//clock frequency\n",
"\n",
"N=10//count\n",
"\n",
"Tp=(n/fc)*N//time between events\n",
"\n",
"printf('time between events\n')\n",
"\n",
"printf('Tp=%.4f s',Tp)"
   ]
   }
,
{
		   "cell_type": "markdown",
		   "metadata": {},
		   "source": [
			"## Example 7.1: find_pulse_width.sce"
		   ]
		  },
  {
"cell_type": "code",
	   "execution_count": null,
	   "metadata": {
	    "collapsed": true
	   },
	   "outputs": [],
"source": [
"//chapter-7,Example7_1,pg 496\n",
"\n",
"delt=1*10^-3//pulse width\n",
"\n",
"//w=2wo\n",
"\n",
"//delt at w=2wo\n",
"\n",
"delT=(delt/2)//changed in pulse width\n",
"\n",
"printf('pulse width\n')\n",
"\n",
"printf('delT=%.4f s',delT)"
   ]
   }
,
{
		   "cell_type": "markdown",
		   "metadata": {},
		   "source": [
			"## Example 7.2: detector_senstivity.sce"
		   ]
		  },
  {
"cell_type": "code",
	   "execution_count": null,
	   "metadata": {
	    "collapsed": true
	   },
	   "outputs": [],
"source": [
"//chapter-7,Example7_2,pg 496\n",
"\n",
"//senstivity of phase detection\n",
"\n",
"//Sphi=(Vo/sin(B))=(Vo/B)=(+/-)0.5Vmax\n",
"\n",
"Vmax=1//amplitude of cosine waves\n",
"\n",
"//B is phase displacement\n",
"\n",
"Sphi=(1/2)*Vmax\n",
"\n",
"printf('senstivity of phase detection\n')\n",
"\n",
"printf('Sphi=%.2f V/rad',Sphi)"
   ]
   }
,
{
		   "cell_type": "markdown",
		   "metadata": {},
		   "source": [
			"## Example 7.3: phase_measured.sce"
		   ]
		  },
  {
"cell_type": "code",
	   "execution_count": null,
	   "metadata": {
	    "collapsed": true
	   },
	   "outputs": [],
"source": [
"//chapter-7,Example7_3,pg 496\n",
"\n",
"Vp=1.3//pulse height\n",
"\n",
"delt=0.31*10^-3//pulse width\n",
"\n",
"T=1*10^-3//pulse repetion rate\n",
"\n",
"Vphi=Vp*(delt/T)//phase deviation\n",
"\n",
"phi=2*%pi*(Vphi/Vp)//phase\n",
"\n",
"printf('phase measured\n')\n",
"\n",
"printf('phi=%.4f rad',phi)"
   ]
   }
,
{
		   "cell_type": "markdown",
		   "metadata": {},
		   "source": [
			"## Example 7.4: measured_phase_difference.sce"
		   ]
		  },
  {
"cell_type": "code",
	   "execution_count": null,
	   "metadata": {
	    "collapsed": true
	   },
	   "outputs": [],
"source": [
"//chapter-7,Example7_4,pg 497\n",
"\n",
"delt=0.13*10^-3//time delay\n",
"\n",
"T=1.3*10^-3//time period\n",
"\n",
"n=(1/3)*(1+(delt/T))//order of phase meter\n",
"\n",
"delphi=(n-(1/3))*1080//measured phase difference\n",
"\n",
"printf('measured phase difference\n')\n",
"\n",
"printf('delphi=%.2f deg',delphi)"
   ]
   }
,
{
		   "cell_type": "markdown",
		   "metadata": {},
		   "source": [
			"## Example 7.5: find_phase_difference.sce"
		   ]
		  },
  {
"cell_type": "code",
	   "execution_count": null,
	   "metadata": {
	    "collapsed": true
	   },
	   "outputs": [],
"source": [
"//chapter-7,Example7_5,pg 497\n",
"\n",
"n=8//8-bit counter\n",
"\n",
"N2=64//output digital count\n",
"\n",
"theta=%pi*(N2/(2^n-1))//phase difference\n",
"\n",
"printf('measured phase difference\n')\n",
"\n",
"printf('theta=%.6f radian',theta)"
   ]
   }
,
{
		   "cell_type": "markdown",
		   "metadata": {},
		   "source": [
			"## Example 7.6: states_for_stages_required.sce"
		   ]
		  },
  {
"cell_type": "code",
	   "execution_count": null,
	   "metadata": {
	    "collapsed": true
	   },
	   "outputs": [],
"source": [
"//chapter-7,Example7_6,pg 497\n",
"\n",
"//since the no. is more than 9, the two-stage counting is required. the states of the stages are\n",
"\n",
"printf('     D    C     B     A    decimal equivalent')\n",
"\n",
"a1=[0 0 0 1    1]\n",
"\n",
"a5=[0 1 0 1    5]\n",
"\n",
"disp(a1)\n",
"\n",
"printf('\n')\n",
"\n",
"disp(a5)"
   ]
   }
,
{
		   "cell_type": "markdown",
		   "metadata": {},
		   "source": [
			"## Example 7.7: find_time_base_division.sce"
		   ]
		  },
  {
"cell_type": "code",
	   "execution_count": null,
	   "metadata": {
	    "collapsed": true
	   },
	   "outputs": [],
"source": [
"//chapter-7,Example7_7,pg 498\n",
"\n",
"fd=10*10^6//frequency meter input\n",
"\n",
"fc=10*10^3//counter clock\n",
"\n",
"fi=100*10^6//actual input frequency\n",
"\n",
"k=fc*(fd/fi)//division time base\n",
"\n",
"printf('division time base\n')\n",
"\n",
"printf('k=%.2f ',k)"
   ]
   }
,
{
		   "cell_type": "markdown",
		   "metadata": {},
		   "source": [
			"## Example 7.8: frequency_of_sinusoid.sce"
		   ]
		  },
  {
"cell_type": "code",
	   "execution_count": null,
	   "metadata": {
	    "collapsed": true
	   },
	   "outputs": [],
"source": [
"//chapter-7,Example7_8,pg 498\n",
"\n",
"V2=0.130//output-1\n",
"\n",
"V1=0.103//output-2\n",
"\n",
"Vx=0.4//peak amplitude\n",
"\n",
"delt=0.1*10^-3//time delay\n",
"\n",
"f1=(1/(2*%pi*delt))*(asin(V2/Vx)-asin(V1/Vx))//frequency of sinusoid\n",
"\n",
"printf('frequency of sinusoid\n')\n",
"\n",
"printf('f1=%.2f Hz',f1)"
   ]
   }
,
{
		   "cell_type": "markdown",
		   "metadata": {},
		   "source": [
			"## Example 7.9: count_of_counter.sce"
		   ]
		  },
  {
"cell_type": "code",
	   "execution_count": null,
	   "metadata": {
	    "collapsed": true
	   },
	   "outputs": [],
"source": [
"//chapter-7,Example7_9,pg 498\n",
"\n",
"//refer fig. 7.30(a),(b),(c)\n",
"\n",
"//N=(2*fc/fs^2)*fi\n",
"\n",
"fs=10*10^2//sampler frequency\n",
"\n",
"fc=10*10^3//counter clock\n",
"\n",
"M=(fs^2)/(2*fc)//multiplication factor\n",
"\n",
"fi=113//input frequency\n",
"\n",
"N=(1/M)*fi//count of counter\n",
"\n",
"printf('count of counter\n')\n",
"\n",
"printf('N=%.2f ',N)"
   ]
   }
],
"metadata": {
		  "kernelspec": {
		   "display_name": "Scilab",
		   "language": "scilab",
		   "name": "scilab"
		  },
		  "language_info": {
		   "file_extension": ".sce",
		   "help_links": [
			{
			 "text": "MetaKernel Magics",
			 "url": "https://github.com/calysto/metakernel/blob/master/metakernel/magics/README.md"
			}
		   ],
		   "mimetype": "text/x-octave",
		   "name": "scilab",
		   "version": "0.7.1"
		  }
		 },
		 "nbformat": 4,
		 "nbformat_minor": 0
}
