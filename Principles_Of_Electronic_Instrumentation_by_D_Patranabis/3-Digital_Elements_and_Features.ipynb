{
"cells": [
 {
		   "cell_type": "markdown",
	   "metadata": {},
	   "source": [
       "# Chapter 3: Digital Elements and Features"
	   ]
	},
{
		   "cell_type": "markdown",
		   "metadata": {},
		   "source": [
			"## Example 3.1: equivalence_comparator.sce"
		   ]
		  },
  {
"cell_type": "code",
	   "execution_count": null,
	   "metadata": {
	    "collapsed": true
	   },
	   "outputs": [],
"source": [
"//chapter-3,Example3_1,pg 487\n",
"\n",
"in1=1//input-1\n",
"\n",
"in2=bitcmp(in1,1)//input-2\n",
"\n",
"out=(bitcmp(in1,1)*bitcmp(in2,1))+(in1*in2)//output\n",
"\n",
"printf('output of comparator\n')\n",
"\n",
"printf('out=%.2f',out)"
   ]
   }
,
{
		   "cell_type": "markdown",
		   "metadata": {},
		   "source": [
			"## Example 3.2: antivalence_comparator.sce"
		   ]
		  },
  {
"cell_type": "code",
	   "execution_count": null,
	   "metadata": {
	    "collapsed": true
	   },
	   "outputs": [],
"source": [
"//chapter-3,Example3_2,pg 487\n",
"\n",
"in1=1//input-1\n",
"\n",
"in2=bitcmp(in1,1)//input-2\n",
"\n",
"out=(bitcmp(in1,1)+bitcmp(in2,1))*(in1+in2)//output\n",
"\n",
"printf('output of comparator\n')\n",
"\n",
"printf('out=%.2f',out)"
   ]
   }
,
{
		   "cell_type": "markdown",
		   "metadata": {},
		   "source": [
			"## Example 3.3: simplify_Boolean_function.sce"
		   ]
		  },
  {
"cell_type": "code",
	   "execution_count": null,
	   "metadata": {
	    "collapsed": true
	   },
	   "outputs": [],
"source": [
"//chapter-3,Example3_3,pg 487\n",
"\n",
"//Fabc=m6+m4+m2+m7+m5+m3\n",
"\n",
"//Fabc=abc'+ab'c'+a'bc'+abc+ab'c+a'bc\n",
"\n",
"//a'=bitcmp(a,1)\n",
"\n",
"//Fabc=ac'(b+b')+a'bc'+ac(b+b')+a'bc\n",
"\n",
"//Fabc=ac'+a'bc'+ac+a'bc\n",
"\n",
"//Fabc=c'(a+a'b)+c(a+a'b)\n",
"\n",
"//Fabc=(a+b)c'+(a+b)c\n",
"\n",
"//Fabc=(a+b)(c+c')\n",
"\n",
"printf('boolean function in simplified form\n')\n",
"\n",
"printf('a+b')"
   ]
   }
,
{
		   "cell_type": "markdown",
		   "metadata": {},
		   "source": [
			"## Example 3.4: simplify_Boolean_function.sce"
		   ]
		  },
  {
"cell_type": "code",
	   "execution_count": null,
	   "metadata": {
	    "collapsed": true
	   },
	   "outputs": [],
"source": [
"//chapter-3,Example3_4,pg 487\n",
"\n",
"//Fabc=M7*M6\n",
"\n",
"//Fabc=M7*M6=(a+b+c)(a+b+c')\n",
"\n",
"//Fabc=a+ab+ac'+ab+b+bc'+ac+bc+cc'\n",
"\n",
"//Fabc=(a+b)+(a+b)c'+(a+b)c+ab+ab+cc'\n",
"\n",
"//Fabc=((a+b)+c)((a+b)+c')\n",
"\n",
"//Fabc=(a+b)(a+b)+(a+b)c'+(a+b)c\n",
"\n",
"printf('boolean function in simplified form\n')\n",
"\n",
"printf('a+b')"
   ]
   }
,
{
		   "cell_type": "markdown",
		   "metadata": {},
		   "source": [
			"## Example 3.5: obtain_truth_table.sce"
		   ]
		  },
  {
"cell_type": "code",
	   "execution_count": null,
	   "metadata": {
	    "collapsed": true
	   },
	   "outputs": [],
"source": [
"//chapter-3,Example3_5,pg 488\n",
"\n",
"//enter binary values only(1bit)\n",
"\n",
"a=input('enter value of a')//input-1\n",
"\n",
"b=input('enter value of b')//input-2\n",
"\n",
"c=input('enter value of c')//input-3\n",
"    \n",
"x=bitcmp(bitand(a,b),1)\n",
"\n",
"y=bitor(x,c)//final output\n",
"\n",
"printf('\noutput\n')\n",
"\n",
"printf('y=%.2f\n',y)\n",
"\n",
"printf(' verify from truth table\n')\n",
"\n",
"printf('a  b  c          y\n')\n",
"\n",
"printf('0  0  0          1\n')\n",
"\n",
"printf('0  0  1          1\n')\n",
"\n",
"printf('0  1  0          1\n')\n",
"\n",
"printf('0  1  1          1\n')\n",
"\n",
"printf('1  0  0          1\n')\n",
"\n",
"printf('1  0  1          1\n')\n",
"\n",
"printf('1  1  0          0\n')\n",
"\n",
"printf('1  1  1          1\n')"
   ]
   }
,
{
		   "cell_type": "markdown",
		   "metadata": {},
		   "source": [
			"## Example 3.6: scheme_of_gates.sce"
		   ]
		  },
  {
"cell_type": "code",
	   "execution_count": null,
	   "metadata": {
	    "collapsed": true
	   },
	   "outputs": [],
"source": [
"//chapter-3,Example3_6,pg 488\n",
"\n",
"printf('it is an EX-OR gate\n')\n",
"\n",
"printf('scheme using AND/OR gates\n')\n",
"\n",
"printf('AND(A*,B) OR AND(A,B*)')//A*=bitcmp(A)"
   ]
   }
],
"metadata": {
		  "kernelspec": {
		   "display_name": "Scilab",
		   "language": "scilab",
		   "name": "scilab"
		  },
		  "language_info": {
		   "file_extension": ".sce",
		   "help_links": [
			{
			 "text": "MetaKernel Magics",
			 "url": "https://github.com/calysto/metakernel/blob/master/metakernel/magics/README.md"
			}
		   ],
		   "mimetype": "text/x-octave",
		   "name": "scilab",
		   "version": "0.7.1"
		  }
		 },
		 "nbformat": 4,
		 "nbformat_minor": 0
}
