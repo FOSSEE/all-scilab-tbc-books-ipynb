{
"cells": [
 {
		   "cell_type": "markdown",
	   "metadata": {},
	   "source": [
       "# Chapter 6: Cathode Ray Oscilloscope"
	   ]
	},
{
		   "cell_type": "markdown",
		   "metadata": {},
		   "source": [
			"## Example 6.10: find_speed_of_conversion.sce"
		   ]
		  },
  {
"cell_type": "code",
	   "execution_count": null,
	   "metadata": {
	    "collapsed": true
	   },
	   "outputs": [],
"source": [
"//chapter-6,Example6_10,pg 495\n",
"\n",
"Res=(1/2^8)//resolution\n",
"\n",
"T=8*10^-6//total time \n",
"\n",
"n=256//no. of conversions\n",
"\n",
"t=(T/n)//time req. by one conversion\n",
"\n",
"S=(1/t)//speed of conversion\n",
"\n",
"printf('speed of conversion \n')\n",
"\n",
"printf('S=%.2f Hz\n',S)"
   ]
   }
,
{
		   "cell_type": "markdown",
		   "metadata": {},
		   "source": [
			"## Example 6.11: find_total_collector_resistance.sce"
		   ]
		  },
  {
"cell_type": "code",
	   "execution_count": null,
	   "metadata": {
	    "collapsed": true
	   },
	   "outputs": [],
"source": [
"//chapter-6,Example6_11,pg 495\n",
"\n",
"C=0.01*10^-6//timing capacitor\n",
"\n",
"T=10*10^-3//time period\n",
"\n",
"Rt=T/(4*C)//total collector resistance\n",
"\n",
"printf('total collector resistance\n')\n",
"\n",
"printf('Rt=%.2f ohm\n',Rt)"
   ]
   }
,
{
		   "cell_type": "markdown",
		   "metadata": {},
		   "source": [
			"## Example 6.12: deflection_plates_voltage.sce"
		   ]
		  },
  {
"cell_type": "code",
	   "execution_count": null,
	   "metadata": {
	    "collapsed": true
	   },
	   "outputs": [],
"source": [
"//chapter-6,Example6_12,pg 495\n",
"\n",
"d1=1.03*10^-2//separation of plates\n",
"\n",
"theta=(6/5)//deflection of electron(1(deg.)12'=(6/5)deg.)\n",
"\n",
"l=2.2*10^-2//length of deflection plate\n",
"\n",
"Vap=2.2*10^3//accelerating potential\n",
"\n",
"x=tan((%pi/180)*(6/5))//x=(d/D)(conversion into radian)\n",
"\n",
"Vp=(x/l)*d1*Vap*2//potential between plates\n",
"\n",
"printf('potential between plates\n')\n",
"\n",
"printf('Vp=%.2f V\n',Vp)"
   ]
   }
,
{
		   "cell_type": "markdown",
		   "metadata": {},
		   "source": [
			"## Example 6.1: calculate_ADC_speed.sce"
		   ]
		  },
  {
"cell_type": "code",
	   "execution_count": null,
	   "metadata": {
	    "collapsed": true
	   },
	   "outputs": [],
"source": [
"//chapter-6,Example6_1,pg 169\n",
"\n",
"n=8//8-bit resolution(conversion of 1 in 256)\n",
"\n",
"Tr=10*10^-6//total trace time(256 conversions in 10*10^-6 s)\n",
"\n",
"Nc=256//total conversions\n",
"\n",
"S=(Nc/Tr)//speed of ADC\n",
"\n",
"printf('speed of ADC\n')\n",
"\n",
"printf('S=%.2f conversions/sec',S)"
   ]
   }
,
{
		   "cell_type": "markdown",
		   "metadata": {},
		   "source": [
			"## Example 6.2: find_frequency_at_horizontal_plate.sce"
		   ]
		  },
  {
"cell_type": "code",
	   "execution_count": null,
	   "metadata": {
	    "collapsed": true
	   },
	   "outputs": [],
"source": [
"//chapter-6,Example6_2,pg 178\n",
"\n",
"fy=1.8*10^3//frequency at vertical plates\n",
"\n",
"Nv=2//vertical tangencies\n",
"\n",
"Nh=3//horizontal tangencies\n",
"\n",
"fx=fy*(Nv/Nh)//frequency at horizontal plates\n",
"\n",
"printf('frequency of other wave\n')\n",
"\n",
"printf('fx=%.2f Hz',fx)"
   ]
   }
,
{
		   "cell_type": "markdown",
		   "metadata": {},
		   "source": [
			"## Example 6.3: find_length_of_vertical_axis_of_ellipse.sce"
		   ]
		  },
  {
"cell_type": "code",
	   "execution_count": null,
	   "metadata": {
	    "collapsed": true
	   },
	   "outputs": [],
"source": [
"//chapter-6,Example6_3,pg 178\n",
"\n",
"phi=(%pi/180)*30//conversion into radian\n",
"\n",
"bplus=3//ellipse cutting +ve minor axis\n",
"\n",
"bminus=-3//ellipse cutting -ve minor axis\n",
"\n",
"theta=atan(2/1)//angle of major axis of ellipse(Vy/Vh=2:1)\n",
"\n",
"y1=(bplus/sin(phi))//length of vertical axis\n",
"\n",
"printf('length of vertical axis \n')\n",
"\n",
"printf('y1=%.2f cm',y1)"
   ]
   }
,
{
		   "cell_type": "markdown",
		   "metadata": {},
		   "source": [
			"## Example 6.4: find_voltage_applied_between_plates.sce"
		   ]
		  },
  {
"cell_type": "code",
	   "execution_count": null,
	   "metadata": {
	    "collapsed": true
	   },
	   "outputs": [],
"source": [
"//chapter-6,Example6_4,pg 493\n",
"\n",
"d=1*10^-3//separation between plates\n",
"\n",
"fe=300//acceleration of electron\n",
"\n",
"e=1.6*10^-19//charge of 1 electron\n",
"\n",
"me=9.1*10^-31//mass of 1 electron\n",
"\n",
"Vp=((me*fe*d)/e)//voltage apllied between plates\n",
"\n",
"printf('voltage applied between plates\n')\n",
"\n",
"printf('Vp=%.14f Kgm^2/s^2C',Vp)"
   ]
   }
,
{
		   "cell_type": "markdown",
		   "metadata": {},
		   "source": [
			"## Example 6.5: deflection_sensitivity.sce"
		   ]
		  },
  {
"cell_type": "code",
	   "execution_count": null,
	   "metadata": {
	    "collapsed": true
	   },
	   "outputs": [],
"source": [
"//chapter-6,Example6_5,pg 494\n",
"\n",
"l=1*10^-2//axial length of plates\n",
"\n",
"D=22*10^-2//distance between centre of plate and screen\n",
"\n",
"Vap=1.3*10^3//acceleration mode voltage\n",
"\n",
"del=1*10^-3//output in mm\n",
"\n",
"Sd=500*l*(D/(del*Vap))//deflection senstivity\n",
"\n",
"printf('deflection sensitivity\n')\n",
"\n",
"printf('Sd=%.2f mm/V',Sd)"
   ]
   }
,
{
		   "cell_type": "markdown",
		   "metadata": {},
		   "source": [
			"## Example 6.6: find_deflection_of_electron.sce"
		   ]
		  },
  {
"cell_type": "code",
	   "execution_count": null,
	   "metadata": {
	    "collapsed": true
	   },
	   "outputs": [],
"source": [
"//chapter-6,Example6_6,pg 494\n",
"\n",
"Vp=0.1*10^3//deflection plate voltage\n",
"\n",
"e=1.6*10^-19//charge of electron\n",
"\n",
"l=1*10^-2//axial length of plates\n",
"\n",
"del1=1*10^-3//output in mm\n",
"\n",
"m=9.1*10^-31//mass of electron\n",
"\n",
"D=0.22*10^-2//distance between centre of plates and screen\n",
"\n",
"t=0.1*10^-6//time of flight\n",
"\n",
"del=((Vp*e*l*D)/(del1*m))*(10^-10)//deflection of electron beam from null pos.\n",
"\n",
"printf('deflection of electron beam from null pos.\n')\n",
"\n",
"printf('del=%.2f cm',del)"
   ]
   }
,
{
		   "cell_type": "markdown",
		   "metadata": {},
		   "source": [
			"## Example 6.7: cutoff_frequency_of_filter.sce"
		   ]
		  },
  {
"cell_type": "code",
	   "execution_count": null,
	   "metadata": {
	    "collapsed": true
	   },
	   "outputs": [],
"source": [
"//chapter-6,Example6_7,pg 494\n",
"\n",
"R=10*10^5//scope input impedance\n",
"\n",
"C1=0.31*62*10^-12//probe capacitance\n",
"\n",
"C2=22*10^-12//probe input impedance\n",
"\n",
"fcut=(1/(2*%pi*R*(C1+C2)))//cutoff frequency of filter\n",
"\n",
"printf('cutoff frequency\n')\n",
"\n",
"printf('fcut=%.2f Hz',fcut)"
   ]
   }
,
{
		   "cell_type": "markdown",
		   "metadata": {},
		   "source": [
			"## Example 6.8: phase_difference.sce"
		   ]
		  },
  {
"cell_type": "code",
	   "execution_count": null,
	   "metadata": {
	    "collapsed": true
	   },
	   "outputs": [],
"source": [
"//chapter-6,Example6_8,pg 494\n",
"\n",
"bplus=3//ellipse parameter\n",
"\n",
"bminus=-3//ellipse parameter\n",
"\n",
"aplus=1.5//ellipse parameter\n",
"\n",
"aminus=-1.5//ellipse parameter\n",
"\n",
"//case-1\n",
"\n",
"y=6//y-intercept\n",
"\n",
"x=3//x-intercept \n",
"\n",
"phi1=asin(3/6)//phase difference\n",
"\n",
"phi1=(180/%pi)*phi1//conversion into degree\n",
"\n",
"//case-2\n",
"\n",
"phi2=180-phi1//major axis in 2 and 4 quad.\n",
"\n",
"//case-3\n",
"\n",
"phi3=asin(0)//y2=0\n",
"\n",
"//case-4\n",
"\n",
"phi4=180-phi3//y2=0 (major axis in 2 and 4 quad.)\n",
"\n",
"printf('phi1=%.2f \n',phi1)\n",
"\n",
"printf('phi2=%.2f \n',phi2)\n",
"\n",
"printf('phi3=%.2f \n',phi3)\n",
"\n",
"printf('phi4=%.2f \n',phi4)\n",
""
   ]
   }
,
{
		   "cell_type": "markdown",
		   "metadata": {},
		   "source": [
			"## Example 6.9: rise_time_of_pulse.sce"
		   ]
		  },
  {
"cell_type": "code",
	   "execution_count": null,
	   "metadata": {
	    "collapsed": true
	   },
	   "outputs": [],
"source": [
"//chapter-6,Example6_9,pg 495\n",
"\n",
"B=25*10^6//bandwidth of scope\n",
"\n",
"tr=(3.5/B)//rise time of scope\n",
"\n",
"printf('rise time of scope \n')\n",
"\n",
"printf('tr=%.8f s',tr)"
   ]
   }
],
"metadata": {
		  "kernelspec": {
		   "display_name": "Scilab",
		   "language": "scilab",
		   "name": "scilab"
		  },
		  "language_info": {
		   "file_extension": ".sce",
		   "help_links": [
			{
			 "text": "MetaKernel Magics",
			 "url": "https://github.com/calysto/metakernel/blob/master/metakernel/magics/README.md"
			}
		   ],
		   "mimetype": "text/x-octave",
		   "name": "scilab",
		   "version": "0.7.1"
		  }
		 },
		 "nbformat": 4,
		 "nbformat_minor": 0
}
