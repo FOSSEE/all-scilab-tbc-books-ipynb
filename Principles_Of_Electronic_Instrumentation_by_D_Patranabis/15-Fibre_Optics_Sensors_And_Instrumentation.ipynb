{
"cells": [
 {
		   "cell_type": "markdown",
	   "metadata": {},
	   "source": [
       "# Chapter 15: Fibre Optics Sensors And Instrumentation"
	   ]
	},
{
		   "cell_type": "markdown",
		   "metadata": {},
		   "source": [
			"## Example 15.1: find_increamental_phase.sce"
		   ]
		  },
  {
"cell_type": "code",
	   "execution_count": null,
	   "metadata": {
	    "collapsed": true
	   },
	   "outputs": [],
"source": [
"//chapter-15,Example15_1,pg 470\n",
"\n",
"n1=1.48//refractive index of fibre\n",
"\n",
"mu=0.2//poisson's ratio\n",
"\n",
"p=2.2*10^2//pressure applied\n",
"\n",
"lam=690*10^-9//laser beam wavelength\n",
"\n",
"Y=2.2*10^11//young's modulus\n",
"\n",
"delphi=((4*%pi*n1*mu*p)/(lam*Y))//increamental phase\n",
"\n",
"printf('increamental phase\n')\n",
"\n",
"printf('delphi=%.5f rad',delphi)"
   ]
   }
,
{
		   "cell_type": "markdown",
		   "metadata": {},
		   "source": [
			"## Example 15.2: find_additional_length_travelled.sce"
		   ]
		  },
  {
"cell_type": "code",
	   "execution_count": null,
	   "metadata": {
	    "collapsed": true
	   },
	   "outputs": [],
"source": [
"//chapter-15,Example15_2,pg 474\n",
"\n",
"r=4.5//radius of fibre loop\n",
"\n",
"a=%pi*(r^2)//area of fibre loop\n",
"\n",
"Q=1//linear velocity(cm/s)\n",
"\n",
"Co=3*10^10//velocity of light(cm/s)\n",
"\n",
"delL=((4*a*Q)/Co)//additional length travelled\n",
"\n",
"printf('additional length travelled\n')\n",
"\n",
"printf('delL=%.12f cm',delL)"
   ]
   }
,
{
		   "cell_type": "markdown",
		   "metadata": {},
		   "source": [
			"## Example 15.3: find_interacting_length.sce"
		   ]
		  },
  {
"cell_type": "code",
	   "execution_count": null,
	   "metadata": {
	    "collapsed": true
	   },
	   "outputs": [],
"source": [
"//chapter-15,Example15_3,pg 512\n",
"\n",
"//(Po1/Po2)=1/2 and Po1+Po2=3Po2=Pi\n",
"\n",
"Po2byPi=1/3//(Po2/Pi)\n",
"\n",
"kL=acos(sqrt(Po2byPi))//k->coupling coefficient\n",
"\n",
"L=kL//L=kL/k L->interacting length\n",
"\n",
"printf('interacting length\n')\n",
"\n",
"printf('L=%.3f/k',L)"
   ]
   }
,
{
		   "cell_type": "markdown",
		   "metadata": {},
		   "source": [
			"## Example 15.4: wavelength_suitable_for_laser_light.sce"
		   ]
		  },
  {
"cell_type": "code",
	   "execution_count": null,
	   "metadata": {
	    "collapsed": true
	   },
	   "outputs": [],
"source": [
"//chapter-15,Example15_4,pg 512\n",
"\n",
"We=7.6*10^-5//speed od gyro\n",
"\n",
"L=490\n",
"\n",
"d=0.094\n",
"\n",
"c=3*10^8\n",
"\n",
"delphi=7.69*10^-5//phase shift\n",
"\n",
"lam=((2*%pi*L*d*We)/(c*delphi))//wavelength of laser light\n",
"\n",
"printf('wavelength of laser light\n')\n",
"\n",
"printf('lam=%.11f m',lam)"
   ]
   }
,
{
		   "cell_type": "markdown",
		   "metadata": {},
		   "source": [
			"## Example 15.5: find_rate_of_change_of_RI_wrt_T.sce"
		   ]
		  },
  {
"cell_type": "code",
	   "execution_count": null,
	   "metadata": {
	    "collapsed": true
	   },
	   "outputs": [],
"source": [
"//chapter-15,Example15_5,pg 513\n",
"\n",
"//(delphi/delT)=(2pi/lam)(n*(delL/delT)+L*(deln/delT))=(deln/delT)\n",
"\n",
"lam=635*10^-9//wavelength of light beam\n",
"\n",
"delphi=139//phase angle\n",
"\n",
"delL=0.49*10^-6//change in length\n",
"\n",
"n=1.48//R.I of fibre\n",
"\n",
"k=((lam*delphi)/(2*%pi))-(delL*n)//k=(deln/delT), rate of change of R.I w.r.t T\n",
"\n",
"printf('rate of change of R.I w.r.t T\n')\n",
"\n",
"printf('k=%.8f/C',k)"
   ]
   }
],
"metadata": {
		  "kernelspec": {
		   "display_name": "Scilab",
		   "language": "scilab",
		   "name": "scilab"
		  },
		  "language_info": {
		   "file_extension": ".sce",
		   "help_links": [
			{
			 "text": "MetaKernel Magics",
			 "url": "https://github.com/calysto/metakernel/blob/master/metakernel/magics/README.md"
			}
		   ],
		   "mimetype": "text/x-octave",
		   "name": "scilab",
		   "version": "0.7.1"
		  }
		 },
		 "nbformat": 4,
		 "nbformat_minor": 0
}
