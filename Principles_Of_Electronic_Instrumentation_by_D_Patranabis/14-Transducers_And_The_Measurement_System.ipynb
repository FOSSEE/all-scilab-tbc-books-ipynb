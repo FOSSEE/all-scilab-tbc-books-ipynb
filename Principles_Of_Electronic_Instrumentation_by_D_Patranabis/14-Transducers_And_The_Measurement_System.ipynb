{
"cells": [
 {
		   "cell_type": "markdown",
	   "metadata": {},
	   "source": [
       "# Chapter 14: Transducers And The Measurement System"
	   ]
	},
{
		   "cell_type": "markdown",
		   "metadata": {},
		   "source": [
			"## Example 14.10: find_load_voltage.sce"
		   ]
		  },
  {
"cell_type": "code",
	   "execution_count": null,
	   "metadata": {
	    "collapsed": true
	   },
	   "outputs": [],
"source": [
"//chapter-14,Example14_10,pg 511\n",
"\n",
"//for barium titanate, g cost. is taken as 0.04Vm/N. (it varies depending in composition and processing)\n",
"\n",
"t=1.3*10^-3//thickness\n",
"\n",
"g=0.04//const.\n",
"\n",
"f=2.2*9.8//force\n",
"\n",
"w=4*10^-3//width\n",
"\n",
"l=4*10^-3//length\n",
"\n",
"p=(f/(w*l))//pressure\n",
"\n",
"Vo=g*t*p//voltage along load application\n",
"\n",
"printf('voltage along load application\n')\n",
"\n",
"printf('Vo=%.2f V',Vo)"
   ]
   }
,
{
		   "cell_type": "markdown",
		   "metadata": {},
		   "source": [
			"## Example 14.11: find_error_and_senstivity_parameters.sce"
		   ]
		  },
  {
"cell_type": "code",
	   "execution_count": null,
	   "metadata": {
	    "collapsed": true
	   },
	   "outputs": [],
"source": [
"//chapter-14,Example14_11,pg 512\n",
"\n",
"//ADC outputs counts\n",
"N11=130\n",
"\n",
"N22=229\n",
"\n",
"N12=220\n",
"\n",
"N21=139\n",
"\n",
"//variable values\n",
"\n",
"v1=4\n",
"\n",
"v2=6.7\n",
"\n",
"//temperatures\n",
"\n",
"theta1=20\n",
"\n",
"theta2=25\n",
"\n",
"//parameters\n",
"\n",
"B2=((N22+N11-N12-N21)/(v2-v1)*(theta2-theta1))//temperature coefficient of resistivity\n",
"\n",
"a2=((N22-N21)/(v2-v1))//zero error sensitivity\n",
"\n",
"B1=(N22-N12)/(theta2-theta1)//temperature coefficient of zero point\n",
"\n",
"a1=N22-(B1*theta2)-(a2*v2)//zero error\n",
"\n",
"printf('zero error\n')\n",
"\n",
"printf('a1=%.2f\n',a1)\n",
"\n",
"printf('zero error sensitivity\n')\n",
"\n",
"printf('a2=%.2f\n',a2)\n",
"\n",
"printf('temperature coefficient of zero point\n')\n",
"\n",
"printf('B1=%.2f\n',B1)\n",
"\n",
"printf('temperature coefficient of resistivity\n')\n",
"\n",
"printf('B2=%.2f',B2)"
   ]
   }
,
{
		   "cell_type": "markdown",
		   "metadata": {},
		   "source": [
			"## Example 14.1: find_percentage_change_in_resistance.sce"
		   ]
		  },
  {
"cell_type": "code",
	   "execution_count": null,
	   "metadata": {
	    "collapsed": true
	   },
	   "outputs": [],
"source": [
"//chapter-14,Example14_1,pg 421\n",
"\n",
"delVo=120*10^-3//output voltage\n",
"\n",
"Vs=12//supply voltage\n",
"\n",
"R=120//initial resistance\n",
"\n",
"delR=(delVo*2*R)/Vs//change in resistance\n",
"\n",
"per=(delR/R)*100//percent change in resistance\n",
"\n",
"printf('percent change in resistance\n')\n",
"\n",
"printf('per=%.2f',per)"
   ]
   }
,
{
		   "cell_type": "markdown",
		   "metadata": {},
		   "source": [
			"## Example 14.2: find_bridgemann_coefficient.sce"
		   ]
		  },
  {
"cell_type": "code",
	   "execution_count": null,
	   "metadata": {
	    "collapsed": true
	   },
	   "outputs": [],
"source": [
"//chapter-14,Example14_2,pg 423\n",
"\n",
"lam=175//gauge factor\n",
"\n",
"mu=0.18//poisson's ratio\n",
"\n",
"E=18.7*10^10//young's modulus\n",
"\n",
"si=((lam-1-(2*mu))/E)//bridgemann coefficient\n",
"\n",
"printf('bridgemann coefficient\n')\n",
"\n",
"printf('si=%.14f m^2/N',si)"
   ]
   }
,
{
		   "cell_type": "markdown",
		   "metadata": {},
		   "source": [
			"## Example 14.3: pt100_RTD.sce"
		   ]
		  },
  {
"cell_type": "code",
	   "execution_count": null,
	   "metadata": {
	    "collapsed": true
	   },
	   "outputs": [],
"source": [
"//chapter-14,Example14_3,pg 428\n",
"\n",
"//pt100 RTD\n",
"\n",
"R4=10*10^3\n",
"\n",
"R2=R4-0.09*R4\n",
"\n",
"Ro=-2.2*10^3//output resistance\n",
"\n",
"R1=(Ro*((R2^2)-(R4^2)))/(R2*(R2+R4))//design resistor\n",
"\n",
"printf('resistance R1 and R3\n')\n",
"\n",
"printf('R1=R3=%.2f ohm',R1)"
   ]
   }
,
{
		   "cell_type": "markdown",
		   "metadata": {},
		   "source": [
			"## Example 14.4: senstivity_in_measurement_of_capacitance.sce"
		   ]
		  },
  {
"cell_type": "code",
	   "execution_count": null,
	   "metadata": {
	    "collapsed": true
	   },
	   "outputs": [],
"source": [
"//chapter-14,Example14_4,pg 435\n",
"\n",
"//assuming eps1=9.85*10^12\n",
"\n",
"x=4//separation between plates\n",
"\n",
"x3=1//thickness of dielectric\n",
"\n",
"eps1=9.85*10^12//dielectric const. of free space\n",
"\n",
"eps2=120*10^12//dielectric const. of material\n",
"\n",
"Sx=(1/(1+((x/x3)/((eps1/eps2)-1))))//sensitivity of measurement of capacitance\n",
"\n",
"printf('sensitivity of measurement of capacitance\n')\n",
"\n",
"printf('Sx=%.2f',Sx)"
   ]
   }
,
{
		   "cell_type": "markdown",
		   "metadata": {},
		   "source": [
			"## Example 14.5: find_max_gauge_factor.sce"
		   ]
		  },
  {
"cell_type": "code",
	   "execution_count": null,
	   "metadata": {
	    "collapsed": true
	   },
	   "outputs": [],
"source": [
"//chapter-14,Example14_5,pg 510\n",
" \n",
"//if (delp/p)=0, the gauge factor is lam=1+2u\n",
"\n",
"u=0.5//max. value of poisson's ratio\n",
"\n",
"lam=1+(2*u)\n",
"\n",
"printf('max. gauge factor\n')\n",
"\n",
"printf('lam=%.2f',lam)"
   ]
   }
,
{
		   "cell_type": "markdown",
		   "metadata": {},
		   "source": [
			"## Example 14.6: find_Young_modulus.sce"
		   ]
		  },
  {
"cell_type": "code",
	   "execution_count": null,
	   "metadata": {
	    "collapsed": true
	   },
	   "outputs": [],
"source": [
"//chapter-14,Example14_6,pg 510\n",
"\n",
"lam=-150//max. gauge factor\n",
"\n",
"si=-9.25*10^-10//resistivity change\n",
"\n",
"mu=0.5//max poisson's ratio\n",
"\n",
"E=((lam-1-(2*mu))/si)//young's modulus\n",
"\n",
"printf('young modulus\n')\n",
"\n",
"printf('E=%.2f N/m^2',E)"
   ]
   }
,
{
		   "cell_type": "markdown",
		   "metadata": {},
		   "source": [
			"## Example 14.7: find_capacitance_of_sensor.sce"
		   ]
		  },
  {
"cell_type": "code",
	   "execution_count": null,
	   "metadata": {
	    "collapsed": true
	   },
	   "outputs": [],
"source": [
"//chapter-14,Example14_7,pg 510\n",
"\n",
"d1=4*10^-2//diameter of inner cylinder\n",
"\n",
"d2=4.4*10^-2//diameter of outer cylinder\n",
"\n",
"h=2.2//level of water\n",
"\n",
"H=4//height of tank\n",
"\n",
"eps1=((80.37*10^11)/((4*%pi*10^8)^2))//dielectric const. in free space(SI)\n",
"\n",
"epsv=0.013*10^-5//dielectric const. of medium(SI)\n",
"\n",
"C=(((H*epsv)+(h*(eps1-epsv)))/(2*log(d2/d1)))//capacitance of sensor\n",
"\n",
"printf('capacitance of sensor\n')\n",
"\n",
"printf('C=%.8f F',C)"
   ]
   }
,
{
		   "cell_type": "markdown",
		   "metadata": {},
		   "source": [
			"## Example 14.8: find_ratio_of_collector_currents.sce"
		   ]
		  },
  {
"cell_type": "code",
	   "execution_count": null,
	   "metadata": {
	    "collapsed": true
	   },
	   "outputs": [],
"source": [
"//chapter-14,Example14_8,pg 511\n",
"\n",
"VobyT=0.04//extrapolated bandgap voltage \n",
"\n",
"RE1byRE2=(1/2.2)//ratio of emitter resistances of Q1,Q2\n",
"\n",
"kBbyq=0.86*10^3//kB->boltzman const., q->charge\n",
"\n",
"//(1+a)log(a)=(VobyT/RE1byRE2)*kBbyq, a->ratio of collector currents\n",
"\n",
"printf('ratio of collector currents\n')\n",
"\n",
"printf('a=23.094')"
   ]
   }
,
{
		   "cell_type": "markdown",
		   "metadata": {},
		   "source": [
			"## Example 14.9: find_normalized_output.sce"
		   ]
		  },
  {
"cell_type": "code",
	   "execution_count": null,
	   "metadata": {
	    "collapsed": true
	   },
	   "outputs": [],
"source": [
"//chapter-14,Example14_9,pg 511\n",
"\n",
"//LVDT parameters\n",
"\n",
"Rp=1.3\n",
"\n",
"Rs=4\n",
"\n",
"Lp=2.2*10^-3\n",
"\n",
"Ls=13.1*10^-3\n",
"\n",
"//M1-M2 varies linearly with displacement x, being maximum 0.4 cm\n",
"\n",
"//when M1-M2=4mH so that k=(4/0.4)=10mH/cm\n",
"\n",
"k=10*10^-3\n",
"\n",
"f=50//frequency\n",
"\n",
"w=2*%pi*f//angular frequency\n",
"\n",
"tp=(Lp/Rp)//time const.\n",
"\n",
"N=((w*k)/(Rp*sqrt(1+(w^2)*(tp^2))))//normalized output\n",
"\n",
"phi=(%pi/2)-atan(w*tp)//phase angle\n",
"\n",
"phi=phi*(180/%pi)//conv. into degree\n",
"\n",
"printf('normalized output\n')\n",
"\n",
"printf('N=%.4f V/V/cm\n',N)\n",
"\n",
"printf('phase angle\n')\n",
"\n",
"printf('phi=%.2f',phi)"
   ]
   }
],
"metadata": {
		  "kernelspec": {
		   "display_name": "Scilab",
		   "language": "scilab",
		   "name": "scilab"
		  },
		  "language_info": {
		   "file_extension": ".sce",
		   "help_links": [
			{
			 "text": "MetaKernel Magics",
			 "url": "https://github.com/calysto/metakernel/blob/master/metakernel/magics/README.md"
			}
		   ],
		   "mimetype": "text/x-octave",
		   "name": "scilab",
		   "version": "0.7.1"
		  }
		 },
		 "nbformat": 4,
		 "nbformat_minor": 0
}
