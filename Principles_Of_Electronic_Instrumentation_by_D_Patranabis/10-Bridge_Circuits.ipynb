{
"cells": [
 {
		   "cell_type": "markdown",
	   "metadata": {},
	   "source": [
       "# Chapter 10: Bridge Circuits"
	   ]
	},
{
		   "cell_type": "markdown",
		   "metadata": {},
		   "source": [
			"## Example 10.10: maxwell_bridge.sce"
		   ]
		  },
  {
"cell_type": "code",
	   "execution_count": null,
	   "metadata": {
	    "collapsed": true
	   },
	   "outputs": [],
"source": [
"//chapter-10,Example10_10,pg 504\n",
"\n",
"Ru=130//resistance\n",
"\n",
"Lu=31*10^-3//inductance \n",
"\n",
"R2=10*10^3//resistance in arm-2\n",
"\n",
"C1=0.01*10^-6//capacitance in arm\n",
"\n",
"R3=(Lu/(C1*R2))//resistance in arm-3\n",
"\n",
"R1=((R2*R3)/Ru)//resistance in arm-1\n",
"\n",
"printf('R1=%.2f ohm\n',R1)\n",
"\n",
"printf('R3=%.2f ohm\n',R3)\n",
"\n",
"printf('yes values are unique')"
   ]
   }
,
{
		   "cell_type": "markdown",
		   "metadata": {},
		   "source": [
			"## Example 10.11: hay_bridge.sce"
		   ]
		  },
  {
"cell_type": "code",
	   "execution_count": null,
	   "metadata": {
	    "collapsed": true
	   },
	   "outputs": [],
"source": [
"//chapter-10,Example10_11,pg 504\n",
"\n",
"f=1000//supply frequency\n",
"\n",
"C1=0.04*10^-6//capacitance\n",
"\n",
"R1=220//resistance in arm-1\n",
"\n",
"Lu=22*10^-3//inductance\n",
"\n",
"Ru=((2*%pi*f)^2)*C1*R1*Lu//resistance\n",
"\n",
"R3=((R1*Ru)+(Lu/C1))/R2//resistance in arm-3\n",
"\n",
"printf('resistance of inductor\n')\n",
"\n",
"printf('Ru=%.2f ohm\n',Ru)\n",
"\n",
"printf('resistance of arm-3\n')\n",
"\n",
"printf('R3=%.2f ohm\n',R3)"
   ]
   }
,
{
		   "cell_type": "markdown",
		   "metadata": {},
		   "source": [
			"## Example 10.12: find_C1_C3_and_dissipation_factor.sce"
		   ]
		  },
  {
"cell_type": "code",
	   "execution_count": null,
	   "metadata": {
	    "collapsed": true
	   },
	   "outputs": [],
"source": [
"//chapter-10,Example10_12,pg 505\n",
"\n",
"C4=0.0033*10^-6//lossy capacitor\n",
"\n",
"R2=12*10^3//arm-2 resistance\n",
"\n",
"R1=10*10^3//arm-1 resistance\n",
"\n",
"C3=((C4*R2)/R1)//standard capacitance\n",
"\n",
"R4=0.1\n",
"\n",
"C1=((R4*C3)/R2)\n",
"\n",
"Fd=2*%pi*f*C4*R4//dissipation factor\n",
"\n",
"printf('capacitance set value\n')\n",
"\n",
"printf('C1=%.16f F\n',C1)\n",
"\n",
"printf('value of standard capacitance\n')\n",
"\n",
"printf('C3=%.14f F\n',C3)\n",
"\n",
"printf('dissipation factor\n')\n",
"\n",
"printf('Fd=%.12f\n',Fd)\n",
""
   ]
   }
,
{
		   "cell_type": "markdown",
		   "metadata": {},
		   "source": [
			"## Example 10.13: wein_bridge.sce"
		   ]
		  },
  {
"cell_type": "code",
	   "execution_count": null,
	   "metadata": {
	    "collapsed": true
	   },
	   "outputs": [],
"source": [
"//chapter-10,Example10_13,pg 505\n",
"\n",
"f=10*10^3//supply frequency\n",
"\n",
"R1=10*10^3//reistance of arm-1\n",
"\n",
"C1=0.01*10^-6\n",
"\n",
"C2=0.01*10^-6\n",
"\n",
"R3=20*10^3//resistance of arm-3\n",
"\n",
"w=2*%pi*f//angular supply frequency\n",
"\n",
"R2=(1/(w^2))*(1/(C1*C2*R1))//resistance of arm-2\n",
"\n",
"R4=(R3/((R1/R2)+(C2/C1)))//resistance of arm-4\n",
"\n",
"printf('resistance of arm-2\n')\n",
"\n",
"printf('R4=%.2f ohm\n',R2)\n",
"\n",
"printf('resistance of arm-4\n')\n",
"\n",
"printf('R2=%.2f ohm\n',R4)\n",
""
   ]
   }
,
{
		   "cell_type": "markdown",
		   "metadata": {},
		   "source": [
			"## Example 10.1: wheatstone_bridge.sce"
		   ]
		  },
  {
"cell_type": "code",
	   "execution_count": null,
	   "metadata": {
	    "collapsed": true
	   },
	   "outputs": [],
"source": [
"//chapter-10,Example10_1,pg 292\n",
"\n",
"Vs=12//source voltage\n",
"\n",
"R=120//resistance of arms \n",
"\n",
"delv=0.3//variation in output voltage(+/-)0.3\n",
"\n",
"delRbyR=(4/Vs)*(delv)*100//percent change in resistance\n",
"\n",
"Rm=100//meter resistance\n",
"\n",
"delIm=(delRbyR/100)/(4*R*(1+(Rm/R)))//current variation\n",
"\n",
"printf('percent change in resistance\n')\n",
"\n",
"printf('delRbyR=%.2f \n',delRbyR)\n",
"\n",
"printf('current variation\n')\n",
"\n",
"printf('delIm=%.6f A',delIm)\n",
""
   ]
   }
,
{
		   "cell_type": "markdown",
		   "metadata": {},
		   "source": [
			"## Example 10.2: high_resistance_measurement_bridge.sce"
		   ]
		  },
  {
"cell_type": "code",
	   "execution_count": null,
	   "metadata": {
	    "collapsed": true
	   },
	   "outputs": [],
"source": [
"//chapter-10,Example10_2,pg 295\n",
"\n",
"//in absence of the guard point arrangement, two 10^10 ohm resistances in series become parallel to the 10^9 ohm resistance, making the effective unknown resistance\n",
"\n",
"//case-1\n",
"\n",
"Rh=10^9\n",
"\n",
"Ra1=10^10\n",
"\n",
"Rb1=10^10\n",
"\n",
"Rue1=((Rh*2*Ra1)/(Rh+(2*Ra1)))//effective resistance\n",
"\n",
"err1=((Rh-Rue1)/Rh)*100//percentage error\n",
"\n",
"//case-2\n",
"    \n",
"Ra2=10^9\n",
"\n",
"Rb2=10^9\n",
"\n",
"Rue2=((Rh*2*Ra2)/(Rh+(2*Ra2)))//effective resistance\n",
"\n",
"err2=((Rh-Rue2)/Rh)*100//percentage error\n",
"\n",
"printf('percentage error case-1\n')\n",
"\n",
"printf('err1=%.2f \n',err1)\n",
"\n",
"printf('percentage error case-2\n')\n",
"\n",
"printf('err2=%.2f ',err2)\n",
""
   ]
   }
,
{
		   "cell_type": "markdown",
		   "metadata": {},
		   "source": [
			"## Example 10.3: capacitance_and_resistance_of_AC_bridge.sce"
		   ]
		  },
  {
"cell_type": "code",
	   "execution_count": null,
	   "metadata": {
	    "collapsed": true
	   },
	   "outputs": [],
"source": [
"//chapter-10,Example10_3,pg 297\n",
"\n",
"Z1=complex(20,80)//impedance in first arm\n",
"\n",
"Z2=complex(200)//impedance in second arm\n",
"\n",
"Z3=complex(100,200)//impedance in third arm\n",
"\n",
"f=50//excitation frequency\n",
"\n",
"Zu=((Z2*Z3)/Z1)//impedance of fourth arm\n",
"\n",
"Cu=-(1/(2*%pi*f*imag(Zu)))//capacitance in fourth arm\n",
"\n",
"printf('capacitance in fourth arm\n')\n",
"\n",
"printf('Cu=%.9f F\n',Cu)\n",
"\n",
"Ru=real(Zu)//resistance in fourth arm\n",
"\n",
"printf('resistance in fourth arm\n')\n",
"\n",
"printf('Ru=%.2f ohm\n',Ru)"
   ]
   }
,
{
		   "cell_type": "markdown",
		   "metadata": {},
		   "source": [
			"## Example 10.4: schering_bridge.sce"
		   ]
		  },
  {
"cell_type": "code",
	   "execution_count": null,
	   "metadata": {
	    "collapsed": true
	   },
	   "outputs": [],
"source": [
"//chapter-10,Example10_4,pg 301\n",
"\n",
"C3=0.001*10^-6//capacitor\n",
"\n",
"Fd=6*10^-4//dissipation factor\n",
"\n",
"f=1*10^3//schering bridge frequency\n",
"\n",
"Ru=(Fd/(2*%pi*f*C3))//standard resistor\n",
"\n",
"R1=10*10^3\n",
"\n",
"R2=10*10^3\n",
"\n",
"C1=C3*(1/R2)*Ru\n",
"\n",
"printf('standard resistor\n')\n",
"\n",
"printf('Ru=%.3f ohm\n',Ru)\n",
"\n",
"printf('capacitor\n')\n",
"\n",
"printf('C1=%.16f F',C1)"
   ]
   }
,
{
		   "cell_type": "markdown",
		   "metadata": {},
		   "source": [
			"## Example 10.5: wein_bridge.sce"
		   ]
		  },
  {
"cell_type": "code",
	   "execution_count": null,
	   "metadata": {
	    "collapsed": true
	   },
	   "outputs": [],
"source": [
"//chapter-10,Example10_5,pg 303\n",
"\n",
"R=10*10^3//resistor\n",
"\n",
"C=0.001*10^-6//capacitor\n",
"\n",
"f=(1/(2*%pi*R*C))//supply frequency\n",
"\n",
"R3=10*10^3//reistance in third arm\n",
"\n",
"R4=(R3/2)//reistance in fourth arm\n",
"\n",
"printf('supply frequency\n')\n",
"\n",
"printf('f=%.2f Hz\n',f)\n",
"\n",
"printf('reistance in fourth arm\n')\n",
"\n",
"printf('R4=%.2f ohm',R4)"
   ]
   }
,
{
		   "cell_type": "markdown",
		   "metadata": {},
		   "source": [
			"## Example 10.6: balance_condition_in_wein_bridge.sce"
		   ]
		  },
  {
"cell_type": "code",
	   "execution_count": null,
	   "metadata": {
	    "collapsed": true
	   },
	   "outputs": [],
"source": [
"//chapter-10,Example10_6,pg 303\n",
"\n",
"f=47.76*10^3//supplu frequency\n",
"\n",
"CR=(1/(2*%pi*f))//resistor capacitor product\n",
"\n",
"C=10^-9//assume\n",
"\n",
"R=(CR/C)//resistor\n",
"\n",
"printf('for (R3/R4)=2 R3 and R4 may be maintained at earlier values')"
   ]
   }
,
{
		   "cell_type": "markdown",
		   "metadata": {},
		   "source": [
			"## Example 10.7: relation_between_Vo_and_t_for_Vi_given.sce"
		   ]
		  },
  {
"cell_type": "code",
	   "execution_count": null,
	   "metadata": {
	    "collapsed": true
	   },
	   "outputs": [],
"source": [
"//chapter-10,Example10_7,pg 309\n",
"\n",
"a1=3.81*10^-3\n",
"\n",
"a2=-6.17*10^-7\n",
"\n",
"//R1=(R2/2),i.e R2/R1=2\n",
"\n",
"R1=10*10^3\n",
"\n",
"R2=20*10^3\n",
"\n",
"R5=4*10^3\n",
"\n",
"R6=20*10^3\n",
"\n",
"B=(R5/(R5+R6))\n",
"\n",
"//using relation 10.68(b)\n",
"\n",
"printf('(Vo/Vi)= (-3.05*10^-3)t/(1+0.76*10^-3)t\n')\n",
"\n",
"printf('thus for, t<=130 C, Vo is approx. linear. this however can be extended with proper choice i.e R5 and R6 in relation to R1,R3 and R4')"
   ]
   }
,
{
		   "cell_type": "markdown",
		   "metadata": {},
		   "source": [
			"## Example 10.8: find_deflection_in_galvanometer.sce"
		   ]
		  },
  {
"cell_type": "code",
	   "execution_count": null,
	   "metadata": {
	    "collapsed": true
	   },
	   "outputs": [],
"source": [
"//chapter-10,Example10_8,pg 503\n",
"\n",
"R1=120//resistance of arm-1\n",
"\n",
"R2=120//resistance of arm-2\n",
"\n",
"R3=120//resistance of arm-3\n",
"\n",
"R4=121//resistance of arm-4\n",
"\n",
"Rm=100//meter resistance\n",
"\n",
"Vs=6//source voltage\n",
"\n",
"n=1*10^-3//meter sensitivity\n",
"\n",
"Vm=Vs*((R1/(R1+R2))-(R3/(R3+R4)))//voltage across meter\n",
"\n",
"Rb=(R1*R2)/(R1+R2)+(R3*R4)/(R3+R4)//thevenised bridge resistance\n",
"\n",
"Ig=(Vm/(Rb+Rm))//current through galvanometer\n",
"\n",
"D=Ig*10^6\n",
"\n",
"printf('deflection in meter\n')\n",
"\n",
"printf('D=%.2f mm\n',D)"
   ]
   }
,
{
		   "cell_type": "markdown",
		   "metadata": {},
		   "source": [
			"## Example 10.9: find_insulating_post_resistance.sce"
		   ]
		  },
  {
"cell_type": "code",
	   "execution_count": null,
	   "metadata": {
	    "collapsed": true
	   },
	   "outputs": [],
"source": [
"//chapter-10,Example10_9,pg 503\n",
"\n",
"err=0.5*10^-2//(+/-)0.5%\n",
"\n",
"R=100*10^6//test resistance\n",
"\n",
"//Re=((R*2*Rip)/(R+(2*Rip)))\n",
"\n",
"Re1=R-(err*R)//err=+0.5\n",
"\n",
"Re2=R-(-err*R)//err=-0.5\n",
"\n",
"Rip1=((R*Re1)/(2*(R-Re1)))//err=+0.5\n",
"\n",
"Rip2=((R*Re2)/(2*(R-Re2)))//err=-0.5\n",
"\n",
"printf('resistance of each insulating post-1\n')\n",
"\n",
"printf('Rip1=%.2f ohm\n',Rip1)\n",
"\n",
"printf('resistance of each insulating post-2\n')\n",
"\n",
"printf('Rip2=%.2f ohm',Rip2)"
   ]
   }
],
"metadata": {
		  "kernelspec": {
		   "display_name": "Scilab",
		   "language": "scilab",
		   "name": "scilab"
		  },
		  "language_info": {
		   "file_extension": ".sce",
		   "help_links": [
			{
			 "text": "MetaKernel Magics",
			 "url": "https://github.com/calysto/metakernel/blob/master/metakernel/magics/README.md"
			}
		   ],
		   "mimetype": "text/x-octave",
		   "name": "scilab",
		   "version": "0.7.1"
		  }
		 },
		 "nbformat": 4,
		 "nbformat_minor": 0
}
