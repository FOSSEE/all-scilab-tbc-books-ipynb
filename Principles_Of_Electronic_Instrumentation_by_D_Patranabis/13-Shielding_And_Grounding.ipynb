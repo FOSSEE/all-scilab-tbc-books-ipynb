{
"cells": [
 {
		   "cell_type": "markdown",
	   "metadata": {},
	   "source": [
       "# Chapter 13: Shielding And Grounding"
	   ]
	},
{
		   "cell_type": "markdown",
		   "metadata": {},
		   "source": [
			"## Example 13.1: find_diagnostic_ratio.sce"
		   ]
		  },
  {
"cell_type": "code",
	   "execution_count": null,
	   "metadata": {
	    "collapsed": true
	   },
	   "outputs": [],
"source": [
"//chapter-13,Example13_1,pg 405\n",
"\n",
"t1=0.1*10^-6//time span for voltage\n",
"\n",
"//voltage switching\n",
"\n",
"V1=0.5//level-1\n",
"\n",
"V2=5//level-2\n",
"\n",
"//current switching\n",
"\n",
"I1=0//level-1\n",
"\n",
"I2=10*10^-3//level-2\n",
"\n",
"t2=1*10^-6//time span for current\n",
"\n",
"DR=(((V2-V1)/t1)/((I2-I1)/t2))\n",
"\n",
"printf('dissipation ratio\n')\n",
"\n",
"printf('DR=%.2f ohm\n',DR)\n",
"\n",
"printf('DR is quite large indicating noise interference by capacitive coupling')"
   ]
   }
,
{
		   "cell_type": "markdown",
		   "metadata": {},
		   "source": [
			"## Example 13.2: find_diagnostic_ratio.sce"
		   ]
		  },
  {
"cell_type": "code",
	   "execution_count": null,
	   "metadata": {
	    "collapsed": true
	   },
	   "outputs": [],
"source": [
"//chapter-13,Example13_2,pg 509\n",
"\n",
"t1=1*10^-6//time span for voltage\n",
"\n",
"//voltage switching\n",
"\n",
"V1=0.5//level-1\n",
"\n",
"V2=1//level-2\n",
"\n",
"//current switching\n",
"\n",
"I1=1*10^-3//level-1\n",
"\n",
"I2=10*10^-3//level-2\n",
"\n",
"t2=1*10^-6//time span for current\n",
"\n",
"DR=(((V2-V1)/t1)/((I2-I1)/t2))\n",
"\n",
"printf('pseudoimpedance\n')\n",
"\n",
"printf('DR=%.2f ohm\n',DR)\n",
"\n",
"printf('DR is not quite large indicating noise interference by inductive coupling')\n",
""
   ]
   }
,
{
		   "cell_type": "markdown",
		   "metadata": {},
		   "source": [
			"## Example 13.3: find_ground_loop_current.sce"
		   ]
		  },
  {
"cell_type": "code",
	   "execution_count": null,
	   "metadata": {
	    "collapsed": true
	   },
	   "outputs": [],
"source": [
"//chapter-13,Example13_3,pg 510\n",
"\n",
"Vi=12//input DC voltage\n",
"\n",
"Vo=3.182//output voltage\n",
"\n",
"Rg=130*10^3//grounding resistance \n",
"\n",
"R2=1*10^3//output resistance\n",
"\n",
"R1=6.8*10^3//divider chain\n",
"\n",
"Ig=((Vo-((R2*Vi)/(R1+R2)))/Rg)//grounding loop current\n",
"\n",
"printf('grounding loop current\n')\n",
"\n",
"printf('Ig=%.9f A\n',Ig)"
   ]
   }
],
"metadata": {
		  "kernelspec": {
		   "display_name": "Scilab",
		   "language": "scilab",
		   "name": "scilab"
		  },
		  "language_info": {
		   "file_extension": ".sce",
		   "help_links": [
			{
			 "text": "MetaKernel Magics",
			 "url": "https://github.com/calysto/metakernel/blob/master/metakernel/magics/README.md"
			}
		   ],
		   "mimetype": "text/x-octave",
		   "name": "scilab",
		   "version": "0.7.1"
		  }
		 },
		 "nbformat": 4,
		 "nbformat_minor": 0
}
