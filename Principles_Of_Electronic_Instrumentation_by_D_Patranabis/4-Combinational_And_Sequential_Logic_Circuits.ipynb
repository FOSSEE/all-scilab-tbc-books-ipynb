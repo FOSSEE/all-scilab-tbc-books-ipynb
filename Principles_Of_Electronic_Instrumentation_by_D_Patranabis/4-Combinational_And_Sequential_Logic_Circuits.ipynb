{
"cells": [
 {
		   "cell_type": "markdown",
	   "metadata": {},
	   "source": [
       "# Chapter 4: Combinational And Sequential Logic Circuits"
	   ]
	},
{
		   "cell_type": "markdown",
		   "metadata": {},
		   "source": [
			"## Example 4.10: 3_bit_binary_counter.sce"
		   ]
		  },
  {
"cell_type": "code",
	   "execution_count": null,
	   "metadata": {
	    "collapsed": true
	   },
	   "outputs": [],
"source": [
"//chapter-4,Example4_10,pg 491\n",
"\n",
"printf('it remains positive from the falling edge of pulse-2, then falling edge of 4th, 6th and 8th pulses and so on....')"
   ]
   }
,
{
		   "cell_type": "markdown",
		   "metadata": {},
		   "source": [
			"## Example 4.11: 6_modulo_counter.sce"
		   ]
		  },
  {
"cell_type": "code",
	   "execution_count": null,
	   "metadata": {
	    "collapsed": true
	   },
	   "outputs": [],
"source": [
"//chapter-4,Example4_11,pg 491\n",
"\n",
"printf('all modulo counters are basically scalars.A 6-modulo counter is a 6-scaler so that after 6-input pulses the content of counter becomes 000(reset)')"
   ]
   }
,
{
		   "cell_type": "markdown",
		   "metadata": {},
		   "source": [
			"## Example 4.12: 3_bit_5_modulo_counter.sce"
		   ]
		  },
  {
"cell_type": "code",
	   "execution_count": null,
	   "metadata": {
	    "collapsed": true
	   },
	   "outputs": [],
"source": [
"//chapter-4,Example4_12,pg 491\n",
"\n",
"printf('normal count would be 2^3=8, while 5-modulo counter would limit it to 5, so that illegitimate states are 8-5=3')"
   ]
   }
,
{
		   "cell_type": "markdown",
		   "metadata": {},
		   "source": [
			"## Example 4.1: find_output_and_carry.sce"
		   ]
		  },
  {
"cell_type": "code",
	   "execution_count": null,
	   "metadata": {
	    "collapsed": true
	   },
	   "outputs": [],
"source": [
"//chapter-4,Example4_1,pg 488\n",
"\n",
"//it is a half-adder circuit with the output 'a' and carry 'c' given by the boolean equations\n",
"\n",
"b1=1//input-1\n",
"\n",
"b2=1//input-2\n",
"\n",
"a=bitand(b1,bitcmp(b2,1))+bitand(bitcmp(b1,1),b2)//sum\n",
"\n",
"c=bitand(b1,b2)//carry\n",
"\n",
"printf('sum\n')\n",
"\n",
"printf('a=%.f\n',a)\n",
"\n",
"printf('carry\n')\n",
"\n",
"printf('c=%.f',c) "
   ]
   }
,
{
		   "cell_type": "markdown",
		   "metadata": {},
		   "source": [
			"## Example 4.2: find_difference_and_borrow.sce"
		   ]
		  },
  {
"cell_type": "code",
	   "execution_count": null,
	   "metadata": {
	    "collapsed": true
	   },
	   "outputs": [],
"source": [
"//chapter-4,Example4_2,pg 489\n",
"\n",
"//the circuit is that of a half subtractor\n",
"\n",
"//case-1\n",
"\n",
"b1=1//input-1\n",
"\n",
"B1=0//input-2\n",
"\n",
"d1=bitand(b1,bitcmp(B1,1))+bitand(B1,bitcmp(b1,1))//difference\n",
"\n",
"r1=bitand(b1,bitcmp(B1,1))//borrow\n",
"\n",
"//case-2\n",
"\n",
"b2=1\n",
"\n",
"B2=1\n",
"\n",
"d2=bitand(b2,bitcmp(B2,1))+bitand(B2,bitcmp(b2,1))\n",
"\n",
"r2=bitand(b2,bitcmp(B2,1))\n",
"\n",
"printf('difference case-1\n')\n",
"\n",
"printf('d1=%.f\n',d1)\n",
"\n",
"printf('difference case-2\n')\n",
"\n",
"printf('d2=%.f\n',d2)\n",
"\n",
"printf('borrow case-1\n')\n",
"\n",
"printf('r1=%.f\n',r1)\n",
"\n",
"printf('borrow case-2\n')\n",
"\n",
"printf('r2=%.f\n',r2)"
   ]
   }
,
{
		   "cell_type": "markdown",
		   "metadata": {},
		   "source": [
			"## Example 4.3: find_final_output.sce"
		   ]
		  },
  {
"cell_type": "code",
	   "execution_count": null,
	   "metadata": {
	    "collapsed": true
	   },
	   "outputs": [],
"source": [
"//chapter-4,Example4_3,pg 489\n",
"\n",
"b=1//input-1\n",
"\n",
"B=0//input-2\n",
"\n",
"y=bitor((bitcmp(bitor(b,B),1)),bitand(b,B))//final output\n",
"\n",
"printf('final output\n')\n",
"\n",
"printf('y=%.f',y)"
   ]
   }
,
{
		   "cell_type": "markdown",
		   "metadata": {},
		   "source": [
			"## Example 4.4_a: decoder_output.sce"
		   ]
		  },
  {
"cell_type": "code",
	   "execution_count": null,
	   "metadata": {
	    "collapsed": true
	   },
	   "outputs": [],
"source": [
"//chapter-4,Example4_4_a,pg 489\n",
"\n",
"//initial conditions\n",
"\n",
"b=0\n",
"\n",
"Bi=0//initial value\n",
"\n",
"Bf=1//final value\n",
"\n",
"//initial state of outputs\n",
"\n",
"y1i=bitcmp(bitor(b,Bi),1)\n",
"\n",
"y2i=bitcmp(bitor(b,bitcmp(Bi,1)),1)\n",
"\n",
"y3i=bitcmp(bitor(Bi,bitcmp(b,1)),1)\n",
"\n",
"y4i=bitcmp(bitor(bitcmp(Bi,1),bitcmp(b,1)),1)\n",
"\n",
"//final state of outputs\n",
"\n",
"y1f=bitcmp(bitor(b,Bf),1)\n",
"\n",
"y2f=bitcmp(bitor(b,bitcmp(Bf,1)),1)\n",
"\n",
"y3f=bitcmp(bitor(Bf,bitcmp(b,1)),1)\n",
"\n",
"y4f=bitcmp(bitor(bitcmp(Bf,1),bitcmp(b,1)),1)\n",
"\n",
"printf('first: ')\n",
"\n",
"printf('y1=%.f ',y1i)\n",
"\n",
"printf('y2=%.f ',y2i)\n",
"\n",
"printf('y3=%.f ',y3i)\n",
"\n",
"printf('y4=%.f\n',y4i)\n",
"\n",
"printf('next: ')\n",
"\n",
"printf('y1=%.f ',y1f)\n",
"\n",
"printf('y2=%.f ',y2f)\n",
"\n",
"printf('y3=%.f ',y3f)\n",
"\n",
"printf('y4=%.f',y4f)"
   ]
   }
,
{
		   "cell_type": "markdown",
		   "metadata": {},
		   "source": [
			"## Example 4.4_b: decoder_output.sce"
		   ]
		  },
  {
"cell_type": "code",
	   "execution_count": null,
	   "metadata": {
	    "collapsed": true
	   },
	   "outputs": [],
"source": [
"//chapter-4,Example4_4_b,pg 489\n",
"\n",
"//initial conditions\n",
"\n",
"b=1\n",
"\n",
"Bi=0//initial value\n",
"\n",
"Bf=1//final value\n",
"\n",
"//intial state of outputs\n",
"\n",
"y1i=bitcmp(bitor(b,Bi),1)\n",
"\n",
"y2i=bitcmp(bitor(b,bitcmp(Bi,1)),1)\n",
"\n",
"y3i=bitcmp(bitor(Bi,bitcmp(b,1)),1)\n",
"\n",
"y4i=bitcmp(bitor(bitcmp(Bi,1),bitcmp(b,1)),1)\n",
"\n",
"//final state of outputs\n",
"\n",
"y1f=bitcmp(bitor(b,Bf),1)\n",
"\n",
"y2f=bitcmp(bitor(b,bitcmp(Bf,1)),1)\n",
"\n",
"y3f=bitcmp(bitor(Bf,bitcmp(b,1)),1)\n",
"\n",
"y4f=bitcmp(bitor(bitcmp(Bf,1),bitcmp(b,1)),1)\n",
"\n",
"printf('first: ')\n",
"\n",
"printf('y1=%.f ',y1i)\n",
"\n",
"printf('y2=%.f ',y2i)\n",
"\n",
"printf('y3=%.f ',y3i)\n",
"\n",
"printf('y4=%.f\n',y4i)\n",
"\n",
"printf('next: ')\n",
"\n",
"printf('y1=%.f ',y1f)\n",
"\n",
"printf('y2=%.f ',y2f)\n",
"\n",
"printf('y3=%.f ',y3f)\n",
"\n",
"printf('y4=%.f',y4f)"
   ]
   }
,
{
		   "cell_type": "markdown",
		   "metadata": {},
		   "source": [
			"## Example 4.5: convert_8421_to2421_code.sce"
		   ]
		  },
  {
"cell_type": "code",
	   "execution_count": null,
	   "metadata": {
	    "collapsed": true
	   },
	   "outputs": [],
"source": [
"//chapter-4,Example4_5,pg 489\n",
"\n",
"//if A8,B8,C8,D8 is the binary in 8421 code, for 12 this would be 1100(DCBA)\n",
"\n",
"//in 8421-code\n",
"A8=0\n",
"\n",
"B8=0\n",
"\n",
"C8=1\n",
"\n",
"D8=1\n",
"\n",
"//in 2421-code\n",
"\n",
"D2=D8\n",
"\n",
"C2=bitor(C8,D8)\n",
"\n",
"B2=bitor(B8,D8)\n",
"\n",
"A2=A8\n",
"\n",
"printf('2421-code for 12 is\n')\n",
"\n",
"printf('%.f ',D2)\n",
"\n",
"printf('%.f ',B2)\n",
"\n",
"printf('%.f ',C2)\n",
"\n",
"printf('%.f ',A2)"
   ]
   }
,
{
		   "cell_type": "markdown",
		   "metadata": {},
		   "source": [
			"## Example 4.6: Xcess_3_code.sce"
		   ]
		  },
  {
"cell_type": "code",
	   "execution_count": null,
	   "metadata": {
	    "collapsed": true
	   },
	   "outputs": [],
"source": [
"//chapter-4,Example4_6,pg 490\n",
"\n",
"add='0011'//binary-3 to be added\n",
"\n",
"x='0010'//binary-2\n",
"\n",
"x=bin2dec(x)\n",
"\n",
"add=bin2dec(add)\n",
"\n",
"XS31=x+add\n",
"\n",
"XS31=dec2bin(XS31)\n",
"\n",
"y='0100'//binary-4\n",
"\n",
"y=bin2dec(y)\n",
"\n",
"XS32=y+add\n",
"\n",
"XS32=dec2bin(XS32)\n",
"\n",
"z='0111'//binary-7\n",
"\n",
"z=bin2dec(z)\n",
"\n",
"XS33=z+add\n",
"\n",
"XS33=dec2bin(XS33)\n",
"\n",
"printf('XS-3 for 2\n')\n",
"\n",
"disp(XS31)\n",
"\n",
"printf('XS-3 for 4\n')\n",
"\n",
"disp(XS32)\n",
"\n",
"printf('XS-3 for 7\n')\n",
"\n",
"disp(XS33)"
   ]
   }
,
{
		   "cell_type": "markdown",
		   "metadata": {},
		   "source": [
			"## Example 4.7: 8_to_1_MUX.sce"
		   ]
		  },
  {
"cell_type": "code",
	   "execution_count": null,
	   "metadata": {
	    "collapsed": true
	   },
	   "outputs": [],
"source": [
"//chapter-4,Example4_7,pg 490\n",
"\n",
"//one can see from relations of AND gate outputs in terms of address bits and input bit that there are possibilities depending on which input is low\n",
"\n",
"//if I7=0, by making all address bits s1,s2,s3 as 1 one can have the conditions satisfied\n",
"\n",
"printf('this requires all the outputs from AND gates should be low')"
   ]
   }
,
{
		   "cell_type": "markdown",
		   "metadata": {},
		   "source": [
			"## Example 4.8: truth_table_of_RS_flip_flop.sce"
		   ]
		  },
  {
"cell_type": "code",
	   "execution_count": null,
	   "metadata": {
	    "collapsed": true
	   },
	   "outputs": [],
"source": [
"//chapter-4,Example4_8,pg 490\n",
"\n",
"//enter binary 1-bit values only\n",
"\n",
"printf('RS flip-flop truth table\n')\n",
"\n",
"S=input('enter value of S')\n",
"\n",
"R=input('enter value of R')\n",
"\n",
"Qn=input('Enter previous value of Q')\n",
"\n",
"En=input('enter enable value')\n",
"\n",
"if En==0  then\n",
"\n",
"op=Qn\n",
"\n",
"printf('op=%.f',op)\n",
"\n",
"else if S==0&R==0 then\n",
"\n",
"op=Qn\n",
"\n",
"printf('op=%.f',op)\n",
"\n",
"else if S==0&R==1 then\n",
"\n",
"op=0\n",
"\n",
"printf('op=%.f',op)\n",
"\n",
"else if S==1&R==0 then\n",
"\n",
"op=1\n",
"\n",
"printf('op=%.f',op)\n",
"\n",
"else if (S==1&R==1) then\n",
"    \n",
"printf('output not determinable\n')\n",
"\n",
"end\n",
"\n",
"end\n",
"\n",
"end\n",
"\n",
"end\n",
"\n",
"printf('the relations are\n')\n",
"\n",
"printf('Qn=(R+Qn*)*\n')//Q*=bitcmp(Q)\n",
"\n",
"printf('Qn*=(S+Qn)*')"
   ]
   }
,
{
		   "cell_type": "markdown",
		   "metadata": {},
		   "source": [
			"## Example 4.9: JK_flip_flop.sce"
		   ]
		  },
  {
"cell_type": "code",
	   "execution_count": null,
	   "metadata": {
	    "collapsed": true
	   },
	   "outputs": [],
"source": [
"//chapter-4,Example4_9,pg 491\n",
"\n",
"//Q=(Q*+Q.K)* and Q*=(Q+Q*.J)*\n",
"\n",
"//with J=K=0 Q=Q and Q*=Q*\n",
"\n",
"//Q* is bitcmp(Q)\n",
"\n",
"printf('operational equations\n')\n",
"\n",
"printf('Q=(Q*+Q.K)* and Q*=(Q+Q*.J)*\n')\n",
"\n",
"printf('hold good where Q and Q* should be given appropriate values')"
   ]
   }
],
"metadata": {
		  "kernelspec": {
		   "display_name": "Scilab",
		   "language": "scilab",
		   "name": "scilab"
		  },
		  "language_info": {
		   "file_extension": ".sce",
		   "help_links": [
			{
			 "text": "MetaKernel Magics",
			 "url": "https://github.com/calysto/metakernel/blob/master/metakernel/magics/README.md"
			}
		   ],
		   "mimetype": "text/x-octave",
		   "name": "scilab",
		   "version": "0.7.1"
		  }
		 },
		 "nbformat": 4,
		 "nbformat_minor": 0
}
