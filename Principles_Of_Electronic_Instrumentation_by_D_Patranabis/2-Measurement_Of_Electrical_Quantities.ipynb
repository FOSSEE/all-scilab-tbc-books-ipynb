{
"cells": [
 {
		   "cell_type": "markdown",
	   "metadata": {},
	   "source": [
       "# Chapter 2: Measurement Of Electrical Quantities"
	   ]
	},
{
		   "cell_type": "markdown",
		   "metadata": {},
		   "source": [
			"## Example 2.10: find_crest_factor.sce"
		   ]
		  },
  {
"cell_type": "code",
	   "execution_count": null,
	   "metadata": {
	    "collapsed": true
	   },
	   "outputs": [],
"source": [
"//chapter-2,Example2_10,pg 486\n",
"\n",
"dutcyc=0.4//duty cycle\n",
"\n",
"CF=sqrt((1-dutcyc)/dutcyc)//crest factor\n",
"\n",
"printf('crest factor\n')\n",
"\n",
"printf('CF=%.4f ',CF)"
   ]
   }
,
{
		   "cell_type": "markdown",
		   "metadata": {},
		   "source": [
			"## Example 2.11: find_unknown_resisance.sce"
		   ]
		  },
  {
"cell_type": "code",
	   "execution_count": null,
	   "metadata": {
	    "collapsed": true
	   },
	   "outputs": [],
"source": [
"//chapter-2,Example2_11,pg 486\n",
"\n",
"R1=10*10^3\n",
"\n",
"R4=10*10^3\n",
"\n",
"Idss=1*10^-3//drain saturation current\n",
"\n",
"Vp=2.2//peak voltage\n",
"\n",
"Vo=10//output voltage\n",
"\n",
"V2=2//input-1\n",
"\n",
"V1=-2//input-2\n",
"\n",
"R5=((R1*R4)/Vo)*((-2*Idss/(Vp^2)))*V1*V2\n",
"\n",
"printf('R5=%.2f ohm',R5)\n",
"\n",
"//R5 should satisfy the condition R5=((1+R1*(-2*Idss*Vp)/R2)*R3*R6) and with Vp negative it is obiviously possible"
   ]
   }
,
{
		   "cell_type": "markdown",
		   "metadata": {},
		   "source": [
			"## Example 2.1: output_voltage.sce"
		   ]
		  },
  {
"cell_type": "code",
	   "execution_count": null,
	   "metadata": {
	    "collapsed": true
	   },
	   "outputs": [],
"source": [
"//chapter2,Example2_1,pg 23\n",
"\n",
"//for fig. 2.7\n",
"\n",
"ic=1*10^-3//constant current source\n",
"\n",
"Rf=15*10^3//feedback resistance\n",
"\n",
"Rs=10*10^3//input resistance\n",
"\n",
"Rx=1*10^3//unknown resistance\n",
"\n",
"Vo1=ic*Rf*(Rx/(1+(Rx*Rs)))//output voltage case-1\n",
"\n",
"printf('output voltage for case-1\n')\n",
"\n",
"printf('\nVo1=%.4f V\n',Vo1)\n",
"\n",
"//for fig. 2.8\n",
"\n",
"R1=10//unknown resistance\n",
"\n",
"R2=1*10^3//input resistance\n",
"\n",
"Vo2=ic*Rx*(R1/(1+R1*R2))//output voltage case-2\n",
"\n",
"printf('output voltage for case-2\n')\n",
"\n",
"printf('\nVo2=%.4f V\n',Vo2)"
   ]
   }
,
{
		   "cell_type": "markdown",
		   "metadata": {},
		   "source": [
			"## Example 2.2: find_Ad_CMRR_and_Acm.sce"
		   ]
		  },
  {
"cell_type": "code",
	   "execution_count": null,
	   "metadata": {
	    "collapsed": true
	   },
	   "outputs": [],
"source": [
"//chapter2,Example2_2,pg 22\n",
"\n",
"V1=5//input-1\n",
"\n",
"V2=5//input-2\n",
"\n",
"V12=50*10^-3//difference input\n",
"\n",
"Vo=2//output voltage\n",
"\n",
"acc=0.01//accuracy\n",
"\n",
"Ad=(Vo/V12)//diffrential gain\n",
"\n",
"//error at the output should be less than (2/100)V or 20mV.if common mode gain is the only source of error then \n",
"\n",
"err=Vo*acc//error\n",
"\n",
"Acm=(err/V1)//common mode gain\n",
"\n",
"CMRR=20*log10(Ad/Acm)//common mode rejection ratio in dB\n",
"\n",
"printf('diffrential gain \n')\n",
"\n",
"printf('\nAd=%.1f \n',Ad)\n",
"\n",
"printf('common mode gain \n')\n",
"\n",
"printf('\nAcm=%.4f \n',Acm)\n",
"\n",
"printf('\nCMRR=%.1f dB\n',CMRR)"
   ]
   }
,
{
		   "cell_type": "markdown",
		   "metadata": {},
		   "source": [
			"## Example 2.3: find_full_scale_output_and_input_min.sce"
		   ]
		  },
  {
"cell_type": "code",
	   "execution_count": null,
	   "metadata": {
	    "collapsed": true
	   },
	   "outputs": [],
"source": [
"//chapter-2,Example2_3,pg 484\n",
"\n",
"Aol=10*10^4//open loop gain\n",
"\n",
"R2=10*10^3\n",
"\n",
"R3=10*10^3\n",
"\n",
"R1=100*10^3//input resistance\n",
"\n",
"Vac=24//maximum input\n",
"\n",
"Vo=(R2/R1)*Vac//output full scale\n",
"\n",
"printf('output FS voltage\n')\n",
"\n",
"printf('Vo=%.2f V\n',Vo)\n",
"\n",
"Vth=0.6//threshold voltage\n",
"\n",
"Vn=(Vth/Aol)//minimum input\n",
"\n",
"printf('minimum input voltage\n')\n",
"\n",
"printf('Vn=%.8f V\n',Vn)"
   ]
   }
,
{
		   "cell_type": "markdown",
		   "metadata": {},
		   "source": [
			"## Example 2.4: output_voltage.sce"
		   ]
		  },
  {
"cell_type": "code",
	   "execution_count": null,
	   "metadata": {
	    "collapsed": true
	   },
	   "outputs": [],
"source": [
"//chapter-2,Example2_4,pg 484\n",
"\n",
"Vp=1//peak input voltage\n",
"\n",
"f=50//frequency\n",
"\n",
"//R1=R2\n",
"\n",
"//since halfwave rectification is done,integration gives the value\n",
"\n",
"Vo=0.5*((2*Vp)/3.14)//output voltage,pi=3.14 \n",
"\n",
"printf('output voltage\n')\n",
"\n",
"printf('Vo=%.4f V\n',Vo)"
   ]
   }
,
{
		   "cell_type": "markdown",
		   "metadata": {},
		   "source": [
			"## Example 2.5: find_unknown_resistance.sce"
		   ]
		  },
  {
"cell_type": "code",
	   "execution_count": null,
	   "metadata": {
	    "collapsed": true
	   },
	   "outputs": [],
"source": [
"//chapter-2,Example2_5,pg 484\n",
"\n",
"ic=0.1*10^-3//constant current source\n",
"\n",
"Vo=2//output voltage\n",
"\n",
"Rf=22*10^3//feedback resistance\n",
"\n",
"Rs=10*10^3//input resistance\n",
"\n",
"Rx=(1/(((ic*Rf)/(Vo*Rs))-(1/Rs)))//unknown resistance\n",
"\n",
"printf('unknown resistance\n')\n",
"\n",
"printf('Rx=%.2f ohm\n',Rx)"
   ]
   }
,
{
		   "cell_type": "markdown",
		   "metadata": {},
		   "source": [
			"## Example 2.6: find_CMRR.sce"
		   ]
		  },
  {
"cell_type": "code",
	   "execution_count": null,
	   "metadata": {
	    "collapsed": true
	   },
	   "outputs": [],
"source": [
"//chapter-2,Example2_6,pg 484\n",
"\n",
"a=0.9//parameter of diff. amplr.\n",
"\n",
"b=1.1//parameter of diff. amplr.\n",
"\n",
"CMRR=0.5*(((1+a)*b+(1+b)*a))/((1+a)*b-(1+b)*a)//common mode rejection ratio\n",
"\n",
"printf('CMRR=%.2f \n',CMRR)"
   ]
   }
,
{
		   "cell_type": "markdown",
		   "metadata": {},
		   "source": [
			"## Example 2.7: tolerance_in_parameters.sce"
		   ]
		  },
  {
"cell_type": "code",
	   "execution_count": null,
	   "metadata": {
	    "collapsed": true
	   },
	   "outputs": [],
"source": [
"//chapter-2,Example2_7,pg 485\n",
"\n",
"CMRR=10*10^4//common mode rejection ratio\n",
"\n",
"//set a=beta+k1*delbeta and b=beta(-/+)k2*delbeta\n",
"\n",
"//CMRR=0.5*((4(+/-)3*delbeta*(k1-k2))/((+/-)delbeta*(k1-k2)))\n",
"\n",
"//CMRR=0.5*((4(+/-)3*(a1-a2))/((+/-)(a1-a2)))\n",
"\n",
"//a1->k1*delbeta, a2->k2*delbeta\n",
"\n",
"delalpha=(2/CMRR)//a1-a2=delalpha\n",
"\n",
"printf('tolerance in parameters\n')\n",
"\n",
"printf('delalpha=%.7f \n',delalpha)\n",
"\n",
"printf('Therefore, if a varies by 1 percent, b should not vary more than 2*10^-3 percent of variation of a ')"
   ]
   }
,
{
		   "cell_type": "markdown",
		   "metadata": {},
		   "source": [
			"## Example 2.8: output_voltage.sce"
		   ]
		  },
  {
"cell_type": "code",
	   "execution_count": null,
	   "metadata": {
	    "collapsed": true
	   },
	   "outputs": [],
"source": [
"//chapter-2,Example2_8,pg 485\n",
"\n",
"R1=10*10^3\n",
"\n",
"R2=10*10^3\n",
"\n",
"V1=10//input voltage-1\n",
"\n",
"V2=10//input voltage-2\n",
"\n",
"R31=10*10^3//R3,case-1\n",
"\n",
"Vo1=((1+(R2/R1)+(R2/R31))*V1)-(R2/R1)*V2//output voltage case-1\n",
"\n",
"printf('output voltage case-1\n')\n",
"\n",
"printf('Vo1=%.2f V\n',Vo1)\n",
"\n",
"R32=100*10^3//R3,case-2\n",
"\n",
"Vo2=((1+(R2/R1)+(R2/R32))*V1)-(R2/R1)*V2//output voltage case-2\n",
"\n",
"printf('output voltage case-2\n')\n",
"\n",
"printf('Vo2=%.2f V\n',Vo2)\n",
"\n",
"R33=1000*10^3//R3,case-3\n",
"\n",
"Vo3=((1+(R2/R1)+(R2/R33))*V1)-(R2/R1)*V2//output voltage case-3\n",
"\n",
"printf('output voltage case-3\n')\n",
"\n",
"printf('Vo3=%.2f V',Vo3)"
   ]
   }
,
{
		   "cell_type": "markdown",
		   "metadata": {},
		   "source": [
			"## Example 2.9: difference_in_output_voltage.sce"
		   ]
		  },
  {
"cell_type": "code",
	   "execution_count": null,
	   "metadata": {
	    "collapsed": true
	   },
	   "outputs": [],
"source": [
"//chapter-2,Example2_9,pg 486\n",
"\n",
"//(R3/R1)=0.98^-1(R2/R4)\n",
"\n",
"R1=10*10^3\n",
"\n",
"R3=10*10^3\n",
"\n",
"I1=130*10^-6\n",
"\n",
"Vo1=R1*(1+0.98)*I1//output for case-1, (R2/R4)=0.98\n",
"\n",
"//(R1/R3)=(R4/R2)\n",
"\n",
"Vo2=R1*(1+(R3/R1))*I1//output for case-2\n",
"\n",
"Vo12=((Vo2-Vo1)/Vo2)*100//percent difference\n",
"\n",
"printf('difference in output voltage\n')\n",
"\n",
"printf('Vo12=%.4f ohm',Vo12)"
   ]
   }
],
"metadata": {
		  "kernelspec": {
		   "display_name": "Scilab",
		   "language": "scilab",
		   "name": "scilab"
		  },
		  "language_info": {
		   "file_extension": ".sce",
		   "help_links": [
			{
			 "text": "MetaKernel Magics",
			 "url": "https://github.com/calysto/metakernel/blob/master/metakernel/magics/README.md"
			}
		   ],
		   "mimetype": "text/x-octave",
		   "name": "scilab",
		   "version": "0.7.1"
		  }
		 },
		 "nbformat": 4,
		 "nbformat_minor": 0
}
