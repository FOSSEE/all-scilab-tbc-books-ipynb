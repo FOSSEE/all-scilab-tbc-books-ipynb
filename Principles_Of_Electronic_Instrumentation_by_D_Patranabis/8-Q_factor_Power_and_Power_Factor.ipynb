{
"cells": [
 {
		   "cell_type": "markdown",
	   "metadata": {},
	   "source": [
       "# Chapter 8: Q factor Power and Power Factor"
	   ]
	},
{
		   "cell_type": "markdown",
		   "metadata": {},
		   "source": [
			"## Example 8.10: calculate_ratio_error_and_phase_angle.sce"
		   ]
		  },
  {
"cell_type": "code",
	   "execution_count": null,
	   "metadata": {
	    "collapsed": true
	   },
	   "outputs": [],
"source": [
"//chapter-8,Example8_10,pg 500\n",
"\n",
"Rp=94//primary resistance\n",
"\n",
"Xp=64.3//primary reactance\n",
"\n",
"Rs=0.85//secondary resistance\n",
"\n",
"Im=31*10^-3//magnetizing current\n",
"\n",
"PF=0.4//power factor\n",
"\n",
"B=acos(PF)\n",
"\n",
"R=Rp+Rs//total resistance\n",
"\n",
"n=10//PT ratio\n",
"\n",
"Is=1//load current\n",
"\n",
"Vs=110//n=(Vp/Vs)\n",
"\n",
"nerr=n+((Is/n)*(R*cos(B)+Xp*sin(B)+Im*Xp)/Vs)//ratio error\n",
"\n",
"theta=((cos(B)*(Xp/n))-(sin(B)*(R/n))-(Im*Rp))/(Vs*n)//phase angle\n",
"\n",
"printf('ratio error\n')\n",
"\n",
"printf('nerr=%.3f \n',nerr)\n",
"\n",
"printf('phase angle\n')\n",
"\n",
"printf('theta=%.3f ',theta)"
   ]
   }
,
{
		   "cell_type": "markdown",
		   "metadata": {},
		   "source": [
			"## Example 8.11: calculate_ratio_error_and_phase_angle.sce"
		   ]
		  },
  {
"cell_type": "code",
	   "execution_count": null,
	   "metadata": {
	    "collapsed": true
	   },
	   "outputs": [],
"source": [
"//chapter-8,Example8_11,pg 500\n",
"\n",
"n=20//(Vs/Is)\n",
"\n",
"Is=5//n=(Vs/Is)\n",
"\n",
"Vs=100//n=(Vs/Is)\n",
"\n",
"N=0.25//resistance to reactance ratio\n",
"\n",
"Bur=15//burden of CT=15VA (rating)\n",
"\n",
"V=(Bur/Is)//voltage rating\n",
"\n",
"B=atan(N)//cos(B)-> power factor\n",
"\n",
"B=B*(180/%pi)//conversion into degree\n",
"\n",
"IL=0.13//iron loss\n",
"\n",
"I=(Bur/Vs)//current rating\n",
"\n",
"I1=(IL/I)\n",
"\n",
"Im=1.3//magnetizing current\n",
"\n",
"Rac=0.23//actual value\n",
"\n",
"R=n+((I1*cos(B)+Im*sin(B))/Is)//calculated value\n",
"\n",
"theta=((Im*cos(B)-I1*sin(B))/Vs)//phase angle\n",
"\n",
"nerr=-(Rac/R)*100//ratio error\n",
"\n",
"printf('ratio error\n')\n",
"\n",
"printf('nerr=%.4f \n',nerr)\n",
"\n",
"printf('phase angle \n')\n",
"\n",
"printf('theta=%.4f ',theta)"
   ]
   }
,
{
		   "cell_type": "markdown",
		   "metadata": {},
		   "source": [
			"## Example 8.1: inductance_and_Q_factor_of_coil.sce"
		   ]
		  },
  {
"cell_type": "code",
	   "execution_count": null,
	   "metadata": {
	    "collapsed": true
	   },
	   "outputs": [],
"source": [
"//chapter-8,Example8_1,pg 234\n",
"\n",
"fr=400*10^3//resonance frequency\n",
"\n",
"C=400*10^-12//tuned capacitance\n",
"\n",
"R=10//resistance of coil\n",
"\n",
"n=40//Cp=nC\n",
"\n",
"Cp=n*(100/400)*10^-12//interwinding capacitance\n",
"\n",
"L=(1/(4*(%pi^2)*(fr^2)*(C+Cp)))//inductance of coil\n",
"\n",
"Q=2*%pi*fr*(L/R)//observed Q-factor\n",
"\n",
"printf('observed Q-factor\n')\n",
"\n",
"printf('Q=%.2f ',Q)"
   ]
   }
,
{
		   "cell_type": "markdown",
		   "metadata": {},
		   "source": [
			"## Example 8.2: truncation_error.sce"
		   ]
		  },
  {
"cell_type": "code",
	   "execution_count": null,
	   "metadata": {
	    "collapsed": true
	   },
	   "outputs": [],
"source": [
"//chapter-8,Example8_2,pg 240\n",
"\n",
"fs=50*10^3//sampling rate\n",
"\n",
"delt=2//summation interval\n",
"\n",
"f=50//signal frequency\n",
"\n",
"n=(fs/delt)//value of samples for 2s\n",
"\n",
"maxer1=100/(2*n)//max error for synchronous case\n",
"\n",
"maxer2=(100/(2*fs*delt*sin((2*%pi*f)/fs)))//max error for asynchronous case\n",
"\n",
"printf('max error for synchronous case\n')\n",
"\n",
"printf('maxer1=%.4f \n',maxer1)\n",
"\n",
"printf('max error for asynchronous case\n')\n",
"\n",
"printf('maxer2=%.2f ',maxer2)"
   ]
   }
,
{
		   "cell_type": "markdown",
		   "metadata": {},
		   "source": [
			"## Example 8.3: find_ratio_errror_and_phase_angle.sce"
		   ]
		  },
  {
"cell_type": "code",
	   "execution_count": null,
	   "metadata": {
	    "collapsed": true
	   },
	   "outputs": [],
"source": [
"//chapter-8,Example8_3,pg 258\n",
"\n",
"//assume no iron loss and magnetizing current=1% of 10A, i.e 0.01A\n",
"\n",
"Xs=1.884//reactance of secondary\n",
"\n",
"Rs=0.5//resistance of secondary\n",
"\n",
"Xm=20//reactance of meter\n",
"\n",
"Rm=0.4//reactance of meter\n",
"\n",
"B=atan((Xs+Xm)/(Rs+Rm))\n",
"\n",
"B=B*(180/%pi)//conversion into degree\n",
"\n",
"Im=0.01//magnetizing current\n",
"\n",
"//nominal ratio (n2/n1)=10/1\n",
"\n",
"n2=10\n",
"\n",
"n1=1\n",
"\n",
"R=n2+((Im*sin(B))/n1)//actual impedance\n",
"\n",
"R1=0.0097//practical impedance\n",
"\n",
"perer=(R1/R)*100//percentage error\n",
"\n",
"theta=((Im*cos(B))/n2)//phase angle\n",
"\n",
"theta=theta*(%pi/180)//conversion into radian\n",
"\n",
"printf('percentage error\n')\n",
"\n",
"printf('perer=%.4f \n',perer)\n",
"\n",
"printf('phase angle\n')\n",
"\n",
"printf('theta=%.6f rad',theta)"
   ]
   }
,
{
		   "cell_type": "markdown",
		   "metadata": {},
		   "source": [
			"## Example 8.4: inductor_Q_factor_and_resistance.sce"
		   ]
		  },
  {
"cell_type": "code",
	   "execution_count": null,
	   "metadata": {
	    "collapsed": true
	   },
	   "outputs": [],
"source": [
"//chapter-8,Example8_4,pg 499\n",
"\n",
"Vc=100//voltage across capacitor\n",
"\n",
"Vi=12//input voltage\n",
"\n",
"Q=(Vc/Vi)//Q-factor\n",
"\n",
"f=100//frequency of operation\n",
"\n",
"Vl=100//Vc=Vl at resonance\n",
"\n",
"Ir=5//current at resonance\n",
"\n",
"Xl=(Vl/Ir)//inductive reactance\n",
"\n",
"L=(Xl/(2*%pi*f))//inductance\n",
"\n",
"Rl=(Xl/Q)//resistance\n",
"\n",
"printf('inductance of coil\n')\n",
"\n",
"printf('L=%.4f Henry\n',L)\n",
"\n",
"printf('Q-factor\n')\n",
"\n",
"printf('Q=%.3f \n',Q)\n",
"\n",
"printf('resistance of coil\n')\n",
"\n",
"printf('Rl=%.2f ohm',Rl)"
   ]
   }
,
{
		   "cell_type": "markdown",
		   "metadata": {},
		   "source": [
			"## Example 8.5: actual_Q_factor_and_resistance.sce"
		   ]
		  },
  {
"cell_type": "code",
	   "execution_count": null,
	   "metadata": {
	    "collapsed": true
	   },
	   "outputs": [],
"source": [
"//chapter-8,Example8_5,pg 499\n",
"\n",
"//when switch is open\n",
"\n",
"C1=0.011*10^-6//capacitance-1\n",
"\n",
"Q1=10//Q-factor-1\n",
"\n",
"//when switch is closed\n",
"\n",
"C2=0.022*10^-6//capacitance-2\n",
"\n",
"Q2=100//Q-factor-2\n",
"\n",
"Qac=((Q1*Q2)/(Q1-Q2))*((C1-C2)/C1)//actual Q-factor\n",
"\n",
"Rp=((Q1*Q2)/(Q2-Q1))*(1/(2*%pi*C2))//parallel resistance\n",
"\n",
"printf('actual Q-factor\n')\n",
"\n",
"printf('Qac=%.2f \n',Qac)\n",
"\n",
"printf('parallel resistance \n')\n",
"\n",
"printf('Rp=%.2f ohm',Rp)"
   ]
   }
,
{
		   "cell_type": "markdown",
		   "metadata": {},
		   "source": [
			"## Example 8.6: find_Q_factor.sce"
		   ]
		  },
  {
"cell_type": "code",
	   "execution_count": null,
	   "metadata": {
	    "collapsed": true
	   },
	   "outputs": [],
"source": [
"//chapter-8,Example8_6,pg 499\n",
"\n",
"Cr=0.01*10^-6//capacitance at resonance\n",
"\n",
"Cu=0.014*10^-6//capacitance at upper half\n",
"\n",
"Cl=0.008*10^-6//capacitance at lower half\n",
"\n",
"Qac=((2*Cr)/(Cu-Cl))//actual Q-factor\n",
"\n",
"printf('actual Q-factor\n')\n",
"\n",
"printf('Qac=%.2f \n',Qac)"
   ]
   }
,
{
		   "cell_type": "markdown",
		   "metadata": {},
		   "source": [
			"## Example 8.7: find_lag.sce"
		   ]
		  },
  {
"cell_type": "code",
	   "execution_count": null,
	   "metadata": {
	    "collapsed": true
	   },
	   "outputs": [],
"source": [
"//chapter-8,Example8_7,pg 499\n",
"\n",
"V=10//v=10sin6280t\n",
"\n",
"I=1//current peak\n",
"\n",
"P=3.1//active power\n",
"\n",
"phi=acos((P*2)/V)//phase in radian\n",
"\n",
"w=6280//v=10sin6280t\n",
"\n",
"lag=(phi/w)//lag\n",
"\n",
"printf('lag=%.5f s\n',lag)"
   ]
   }
,
{
		   "cell_type": "markdown",
		   "metadata": {},
		   "source": [
			"## Example 8.8: find_truncation_error.sce"
		   ]
		  },
  {
"cell_type": "code",
	   "execution_count": null,
	   "metadata": {
	    "collapsed": true
	   },
	   "outputs": [],
"source": [
"//chapter-8,Example8_8,pg 500\n",
"\n",
"V=4//peak voltage\n",
"\n",
"I=0.4//peak current\n",
"\n",
"f=1*10^3//operating frequency\n",
"\n",
"fs=40*10^3//sampling rate\n",
"\n",
"delt=2.2//time interval\n",
"\n",
"phi=((2*%pi*f)/fs)//phase \n",
"\n",
"Et=(V*I*phi)/(4*%pi*f*delt*sin(phi))//truncation error\n",
"\n",
"printf('truncation error\n')\n",
"\n",
"printf('Et=%.8f ',Et)"
   ]
   }
,
{
		   "cell_type": "markdown",
		   "metadata": {},
		   "source": [
			"## Example 8.9: find_frequency_of_PF_meter.sce"
		   ]
		  },
  {
"cell_type": "code",
	   "execution_count": null,
	   "metadata": {
	    "collapsed": true
	   },
	   "outputs": [],
"source": [
"//chapter-8,Example8_9,pg 500\n",
"\n",
"ar=1//gain of rectifier\n",
"\n",
"nc=40//turns ratio (1:40)\n",
"\n",
"Vm=4//peak load voltage\n",
"\n",
"PF=0.85//power factor\n",
"\n",
"f=(1/%pi)*ar*Vm*nc*PF//frequency\n",
"\n",
"printf('frequency of digital power meter \n')\n",
"\n",
"printf('f=%.2f Hz',f)"
   ]
   }
],
"metadata": {
		  "kernelspec": {
		   "display_name": "Scilab",
		   "language": "scilab",
		   "name": "scilab"
		  },
		  "language_info": {
		   "file_extension": ".sce",
		   "help_links": [
			{
			 "text": "MetaKernel Magics",
			 "url": "https://github.com/calysto/metakernel/blob/master/metakernel/magics/README.md"
			}
		   ],
		   "mimetype": "text/x-octave",
		   "name": "scilab",
		   "version": "0.7.1"
		  }
		 },
		 "nbformat": 4,
		 "nbformat_minor": 0
}
