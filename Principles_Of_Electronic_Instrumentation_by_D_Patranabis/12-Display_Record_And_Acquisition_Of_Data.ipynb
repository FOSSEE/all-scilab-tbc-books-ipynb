{
"cells": [
 {
		   "cell_type": "markdown",
	   "metadata": {},
	   "source": [
       "# Chapter 12: Display Record And Acquisition Of Data"
	   ]
	},
{
		   "cell_type": "markdown",
		   "metadata": {},
		   "source": [
			"## Example 12.1: find_excitation_voltage_and_electrode_areas.sce"
		   ]
		  },
  {
"cell_type": "code",
	   "execution_count": null,
	   "metadata": {
	    "collapsed": true
	   },
	   "outputs": [],
"source": [
"//chapter-12,Example12_1,pg 371\n",
"\n",
"E=10^6//electric field\n",
"\n",
"l=10^-6//thickness of LCD\n",
"\n",
"V=E*l//excitation potential\n",
"\n",
"I=0.1*10^-6//current\n",
"\n",
"rho=E/I//crystal resistivity\n",
"\n",
"P=10*10^-6//power consumption\n",
"\n",
"A=(P/(V*I))//area of electrodes\n",
"\n",
"printf('excitation potential\n')\n",
"\n",
"printf('V=%.2f V\n',V)\n",
"\n",
"printf('crystal resistivity\n')\n",
"\n",
"printf('rho=%.2f ohm-cm\n',rho)\n",
"\n",
"printf('area of electrodes\n')\n",
"\n",
"printf('A=%.2f cm^2',A)"
   ]
   }
,
{
		   "cell_type": "markdown",
		   "metadata": {},
		   "source": [
			"## Example 12.2: find_deviation_factor.sce"
		   ]
		  },
  {
"cell_type": "code",
	   "execution_count": null,
	   "metadata": {
	    "collapsed": true
	   },
	   "outputs": [],
"source": [
"//chapter-12,Example12_2,pg 383\n",
"\n",
"fc=10^6//carrier frequency\n",
"\n",
"m=0.4//modulation index\n",
"\n",
"fs=100//signal frequency\n",
"\n",
"V=2//(+/-)2V range\n",
"\n",
"delfc1=m*fc//frequency deviation for FS(full scale)\n",
"\n",
"//(+/-) 2V corresponds to delfc Hz deviation assuming linear shift, for (+/-)1V\n",
"\n",
"delfc2=delfc1/V//frequency deviation for (+/-)1V range\n",
"\n",
"sig=(delfc1/fs)//deviation factor\n",
"\n",
"printf('frequency deviation for FS\n')\n",
"\n",
"printf('delfc1=%.2f Hz\n',delfc1) \n",
"\n",
"printf('frequency deviation for given range\n')\n",
"\n",
"printf('delfc2=%.2f Hz\n',delfc2) \n",
"\n",
"printf('deviation factor\n')\n",
"\n",
"printf('sig=%.2f',sig)"
   ]
   }
,
{
		   "cell_type": "markdown",
		   "metadata": {},
		   "source": [
			"## Example 12.3: find_wavelength_of_radiation.sce"
		   ]
		  },
  {
"cell_type": "code",
	   "execution_count": null,
	   "metadata": {
	    "collapsed": true
	   },
	   "outputs": [],
"source": [
"//chapter-12,Example12_3,pg 508\n",
"\n",
"h=6.63*10^-34//planck's const.\n",
"\n",
"e=1.6*10^-19//electron charge\n",
"\n",
"c=3*10^8//speed of light\n",
"\n",
"E=2.02//energy gap\n",
"\n",
"lam=((h*c)/E)//wavelength of radiation(m/eV)\n",
"\n",
"//1eV=16.017*10^-20J\n",
"\n",
"lam=(lam/(16.017*10^-20))//conversion in meter\n",
"\n",
"printf('wavelength of radiation\n')\n",
"\n",
"printf('lam=%.12f m\n',lam)"
   ]
   }
,
{
		   "cell_type": "markdown",
		   "metadata": {},
		   "source": [
			"## Example 12.4: thickness_of_LCD_crystal.sce"
		   ]
		  },
  {
"cell_type": "code",
	   "execution_count": null,
	   "metadata": {
	    "collapsed": true
	   },
	   "outputs": [],
"source": [
"//chapter-12,Example12_4,pg 508\n",
"\n",
"V=1.3//excitation voltage\n",
"\n",
"Vgrad=10^5//potential gradient\n",
"\n",
"//10^5 V/mm*thickness in mm=excitation voltage\n",
"\n",
"l=(V/Vgrad)//thickness of LCD\n",
"\n",
"printf('thickness of LCD\n')\n",
"\n",
"printf('l=%.8f m\n',l)"
   ]
   }
,
{
		   "cell_type": "markdown",
		   "metadata": {},
		   "source": [
			"## Example 12.5: find_current_density.sce"
		   ]
		  },
  {
"cell_type": "code",
	   "execution_count": null,
	   "metadata": {
	    "collapsed": true
	   },
	   "outputs": [],
"source": [
"//chapter-12,Example12_5,pg 508\n",
"\n",
"rho=4*10^12//resistivity of LCD\n",
"\n",
"Vgrad=10^6//potential gradient\n",
"\n",
"j=(Vgrad/rho)//current density\n",
"\n",
"printf('current per cm^2\n')\n",
"\n",
"printf('j=%.8f A/cm^2\n',j)"
   ]
   }
,
{
		   "cell_type": "markdown",
		   "metadata": {},
		   "source": [
			"## Example 12.6: find_magnetic_flux_in_tape.sce"
		   ]
		  },
  {
"cell_type": "code",
	   "execution_count": null,
	   "metadata": {
	    "collapsed": true
	   },
	   "outputs": [],
"source": [
"//chapter-12,Example12_6,pg 508\n",
"\n",
"f=2*10^3//frequency of signal\n",
"\n",
"v=1//velocity of tape\n",
"\n",
"w=0.05*10^-3//gap width\n",
"\n",
"N=22//no.of turns on head\n",
"\n",
"V=31*10^-3//rms voltage o/p\n",
"\n",
"x=(%pi*f*w)/v\n",
"\n",
"x=x*(%pi/180)\n",
"\n",
"M=((V*w)/(2*v*N*sin(x)))//magnetic flux in tape\n",
"\n",
"printf('magnetic flux in tape\n')\n",
"\n",
"printf('M=%.8f Wb\n',M)"
   ]
   }
,
{
		   "cell_type": "markdown",
		   "metadata": {},
		   "source": [
			"## Example 12.7: channel_accomodation.sce"
		   ]
		  },
  {
"cell_type": "code",
	   "execution_count": null,
	   "metadata": {
	    "collapsed": true
	   },
	   "outputs": [],
"source": [
"//chapter-12,Example12_7,pg 509\n",
"\n",
"Br=576*10^3//bit rate conversion\n",
"\n",
"n=8//resolution requirement per channel\n",
"\n",
"fs=1000//sampling rate\n",
"\n",
"N=(Br/(fs*3*n))//no. of channels\n",
"\n",
"printf('no. of channels accomodated\n')\n",
"\n",
"printf('N=%.2f \n',N)"
   ]
   }
,
{
		   "cell_type": "markdown",
		   "metadata": {},
		   "source": [
			"## Example 12.8: sensor_signal_transmission.sce"
		   ]
		  },
  {
"cell_type": "code",
	   "execution_count": null,
	   "metadata": {
	    "collapsed": true
	   },
	   "outputs": [],
"source": [
"//chapter-12,Example12_8,pg 509\n",
"\n",
"Rsmax=1*10^3//sensor resistance max.\n",
"\n",
"Rsmin=100//sensor resistance min.\n",
"\n",
"Vs=5//sensor voltage\n",
"\n",
"Io=(Vs/Rsmax)//current source-> ohm's law\n",
"\n",
"Vmin=Rsmin*Io//min. output voltage\n",
"\n",
"printf('current source\n')\n",
"\n",
"printf('Io=%.4f A\n',Io)\n",
"\n",
"printf('min. output voltage\n')\n",
"\n",
"printf('Vmin=%.2f V\n',Vmin)"
   ]
   }
,
{
		   "cell_type": "markdown",
		   "metadata": {},
		   "source": [
			"## Example 12.9: ROM_access_time.sce"
		   ]
		  },
  {
"cell_type": "code",
	   "execution_count": null,
	   "metadata": {
	    "collapsed": true
	   },
	   "outputs": [],
"source": [
"//chapter-12,Example12_9,pg 509\n",
"\n",
"//ROM 22*5*7\n",
"\n",
"N=5//no. of gates in bitand plane\n",
"\n",
"n=22//no.of inputs\n",
"\n",
"f=913//refresh rate\n",
"\n",
"//considering column display\n",
"\n",
"ts=(1/(N*f*n))//ROM access time\n",
"\n",
"printf('ROM access time\n')\n",
"\n",
"printf('ts=%.6f s\n',ts)"
   ]
   }
],
"metadata": {
		  "kernelspec": {
		   "display_name": "Scilab",
		   "language": "scilab",
		   "name": "scilab"
		  },
		  "language_info": {
		   "file_extension": ".sce",
		   "help_links": [
			{
			 "text": "MetaKernel Magics",
			 "url": "https://github.com/calysto/metakernel/blob/master/metakernel/magics/README.md"
			}
		   ],
		   "mimetype": "text/x-octave",
		   "name": "scilab",
		   "version": "0.7.1"
		  }
		 },
		 "nbformat": 4,
		 "nbformat_minor": 0
}
