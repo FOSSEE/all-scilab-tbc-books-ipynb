{
"cells": [
 {
		   "cell_type": "markdown",
	   "metadata": {},
	   "source": [
       "# Chapter 1: Basic Concepts"
	   ]
	},
{
		   "cell_type": "markdown",
		   "metadata": {},
		   "source": [
			"## Example 1.1: unknown_resistance.sce"
		   ]
		  },
  {
"cell_type": "code",
	   "execution_count": null,
	   "metadata": {
	    "collapsed": true
	   },
	   "outputs": [],
"source": [
"//chapter1,Example1_1,pg 481\n",
"\n",
"Ir=10*10^-3//current drawn by resistor\n",
"\n",
"Vr=100//voltage across resistor\n",
"\n",
"Rv=40*10^3//voltmeter resistance\n",
"\n",
"Ru=(Vr/Ir)*(1/(1-(Vr/(Ir*Rv))))//unknown resistance\n",
"\n",
"printf('output resistance\n')\n",
"\n",
"printf('\nRu=%.2f ohm',Ru)"
   ]
   }
,
{
		   "cell_type": "markdown",
		   "metadata": {},
		   "source": [
			"## Example 1.2: unknown_resistance.sce"
		   ]
		  },
  {
"cell_type": "code",
	   "execution_count": null,
	   "metadata": {
	    "collapsed": true
	   },
	   "outputs": [],
"source": [
"//chapter1,Example1_2,pg 481\n",
"\n",
"Ir=10*10^-3//current drawn by resistor\n",
"\n",
"Vr=100//voltage across resistor\n",
"\n",
"Rv=40*10^3//voltmeter resistance\n",
"\n",
"Ra=1//ammeter resistance\n",
"\n",
"Ru=(Rv/Ir)-Ra//unknown resistance\n",
"\n",
"printf('output resistance\n')\n",
"\n",
"printf('\nRu=%.2f ohm',Ru)"
   ]
   }
,
{
		   "cell_type": "markdown",
		   "metadata": {},
		   "source": [
			"## Example 1.3: find_ammeter_reading.sce"
		   ]
		  },
  {
"cell_type": "code",
	   "execution_count": null,
	   "metadata": {
	    "collapsed": true
	   },
	   "outputs": [],
"source": [
"//chapter1,Example1_3,pg 481\n",
"\n",
"Rv=40*10^3//voltmeter resistance\n",
"\n",
"Ra=1//ammeter resistance\n",
"\n",
"Vr=40//voltmeter reading\n",
"\n",
"Ru=10*10^3//unknown resistance\n",
"\n",
"Ir=(Vr*(Rv+Ru))/(Ru*Rv)//current reading-case1\n",
"\n",
"printf('ammeter reading case1\n')\n",
"\n",
"printf('\nIr=%.4f A',Ir)\n",
"\n",
"Ir1=(Vr/(Ru+Ra))//current reading -case2\n",
"\n",
"printf('\nammeter reading case2\n')\n",
"\n",
"printf('\nIr1=%.4f A',Ir1)"
   ]
   }
,
{
		   "cell_type": "markdown",
		   "metadata": {},
		   "source": [
			"## Example 1.4: unknown_resistance.sce"
		   ]
		  },
  {
"cell_type": "code",
	   "execution_count": null,
	   "metadata": {
	    "collapsed": true
	   },
	   "outputs": [],
"source": [
"//chapter1,Example1_4,pg 482\n",
"\n",
"Vs=3//supply voltage\n",
"\n",
"Vu=2.75//voltmeter reading\n",
"\n",
"Rp=10*10^3//parallel resistance\n",
"\n",
"Ru=Rp*((Vs/Vu)-1)//unknown resistance\n",
"\n",
"printf('unknown resistance\n')\n",
"\n",
"printf('\nRu=%.2f ohm',Ru)"
   ]
   }
,
{
		   "cell_type": "markdown",
		   "metadata": {},
		   "source": [
			"## Example 1.5: find_input_vlotage.sce"
		   ]
		  },
  {
"cell_type": "code",
	   "execution_count": null,
	   "metadata": {
	    "collapsed": true
	   },
	   "outputs": [],
"source": [
"//chapter1,Example1_5,pg 482\n",
"\n",
"//with input voltage exceding 2Vd,diodes conduct and the voltage divider circuit with diodes can allow only a Vi given by Vi=2Vd\n",
"\n",
"printf('\ninput voltage to amplifier\n')\n",
"\n",
"printf('\nVi=2Vd')"
   ]
   }
,
{
		   "cell_type": "markdown",
		   "metadata": {},
		   "source": [
			"## Example 1.6: find_shunt_resistance.sce"
		   ]
		  },
  {
"cell_type": "code",
	   "execution_count": null,
	   "metadata": {
	    "collapsed": true
	   },
	   "outputs": [],
"source": [
"//chapter1,Example1_6,pg 482\n",
"\n",
"Rm=1000//meter resistance\n",
"\n",
"Is=900*10^-6//shunt current\n",
"\n",
"Vm=100*10^-3//drop across meter\n",
"\n",
"Rs=Vm/Is//ohm's law\n",
"\n",
"It=1*10^-3\n",
"\n",
"//Is=It*(Rm/(Rs+Rm))\n",
"\n",
"Rs=(Rm*(It-Is))/Is\n",
"\n",
"printf('\nshunt resistance\n')\n",
"\n",
"printf('\nRs=%.2f ohm',Rs)"
   ]
   }
,
{
		   "cell_type": "markdown",
		   "metadata": {},
		   "source": [
			"## Example 1.7: find_series_resistor.sce"
		   ]
		  },
  {
"cell_type": "code",
	   "execution_count": null,
	   "metadata": {
	    "collapsed": true
	   },
	   "outputs": [],
"source": [
"//chapter1,Example1_7,pg 483\n",
"\n",
"If=100*10^-6//full scale current\n",
"\n",
"Rm=1000//meter resistance\n",
"\n",
"Vf=10//full scale voltage\n",
"\n",
"Rs=(Vf/If)-Rm//series resistance\n",
"\n",
"printf('\nseries resistance\n')\n",
"\n",
"printf('\Rs=%.2f ohm',Rs)"
   ]
   }
,
{
		   "cell_type": "markdown",
		   "metadata": {},
		   "source": [
			"## Example 1.8: sensitivity.sce"
		   ]
		  },
  {
"cell_type": "code",
	   "execution_count": null,
	   "metadata": {
	    "collapsed": true
	   },
	   "outputs": [],
"source": [
"//chapter1,Example1_8,pg 483\n",
"\n",
"If=100*10^-6\n",
"\n",
"S=1/If\n",
"\n",
"printf('\nsensitivity\n')\n",
"\n",
"printf('\nS=%.2f ohm/volt',S)"
   ]
   }
,
{
		   "cell_type": "markdown",
		   "metadata": {},
		   "source": [
			"## Example 1.9: error_in_measurment.sce"
		   ]
		  },
  {
"cell_type": "code",
	   "execution_count": null,
	   "metadata": {
	    "collapsed": true
	   },
	   "outputs": [],
"source": [
"//chapter1,Example1_9,pg 483\n",
"\n",
"//assume that the voltmeter full scale reading is 12V which gives its resistance as 1.2*10^6 ohm which is in parallel with 10*10^6 ohm making as equivalent of Rq given as\n",
"\n",
"R=1.2*10^6//voltmeter resistance\n",
"\n",
"R1=10*10^6//voltage divider resistance\n",
"\n",
"Rq=(R*R1)/(R+R1)//equivalent resistance\n",
"\n",
"Vin=12//input voltage to divider network\n",
"\n",
"Rs=4*10^6//series resistance\n",
"\n",
"Vq=(Rq*Vin)/(Rq+Rs)//voltage across equivalent combination\n",
"\n",
"Va=(R1*Vin)/(R1+Rs)//actual volatge\n",
"\n",
"er=(Vq-Va)/Va//error\n",
"\n",
"printf('\nerror in measurement\n')\n",
"\n",
"printf('\ner=%.3f ',er)"
   ]
   }
],
"metadata": {
		  "kernelspec": {
		   "display_name": "Scilab",
		   "language": "scilab",
		   "name": "scilab"
		  },
		  "language_info": {
		   "file_extension": ".sce",
		   "help_links": [
			{
			 "text": "MetaKernel Magics",
			 "url": "https://github.com/calysto/metakernel/blob/master/metakernel/magics/README.md"
			}
		   ],
		   "mimetype": "text/x-octave",
		   "name": "scilab",
		   "version": "0.7.1"
		  }
		 },
		 "nbformat": 4,
		 "nbformat_minor": 0
}
