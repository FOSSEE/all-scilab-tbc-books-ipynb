{
"cells": [
 {
		   "cell_type": "markdown",
	   "metadata": {},
	   "source": [
       "# Chapter 5: ADC and DAC"
	   ]
	},
{
		   "cell_type": "markdown",
		   "metadata": {},
		   "source": [
			"## Example 5.10: signal_to_noise_ratio.sce"
		   ]
		  },
  {
"cell_type": "code",
	   "execution_count": null,
	   "metadata": {
	    "collapsed": true
	   },
	   "outputs": [],
"source": [
"//chapter-5,Example5_10,pg 493\n",
"\n",
"n=3//3-bit ADC\n",
"\n",
"SbyN=(((2^(n-1)*12^0.5)/2^0.5))//S/N ratio\n",
"\n",
"printf('S/N ratio\n')\n",
"\n",
"printf('SbyN=%.4f \n',SbyN) \n",
"\n",
"printf('this produces an error due to noise nearly 0.10')"
   ]
   }
,
{
		   "cell_type": "markdown",
		   "metadata": {},
		   "source": [
			"## Example 5.1: output_voltage.sce"
		   ]
		  },
  {
"cell_type": "code",
	   "execution_count": null,
	   "metadata": {
	    "collapsed": true
	   },
	   "outputs": [],
"source": [
"//chapter-5,Example5_1,pg 491\n",
"\n",
"Vref=12//ref. voltage\n",
"\n",
"n=4//no. of binary weighted resistors\n",
"\n",
"n1=3//input-1\n",
"\n",
"n2=1//input-2\n",
"\n",
"Vo=-(Vref/2^n)*(2^n1+2^n2)\n",
"\n",
"printf('output voltage\n')\n",
"\n",
"printf('Vo=%.2f V',Vo) "
   ]
   }
,
{
		   "cell_type": "markdown",
		   "metadata": {},
		   "source": [
			"## Example 5.2: voltage_division_ratio_and_feedback_resistor.sce"
		   ]
		  },
  {
"cell_type": "code",
	   "execution_count": null,
	   "metadata": {
	    "collapsed": true
	   },
	   "outputs": [],
"source": [
"//chapter-5,Example5_2,pg 491\n",
"\n",
"//serie arm resistance=10k, since the divider arm resistance Rsh=2Rse therefore for straight binary code, one should have section voltage ratio as Vos/Vis=0.5\n",
"\n",
"printf('voltage section ratio=0.5\n')\n",
"\n",
"//Vo/Vref=0.5\n",
"\n",
"Rse=10*10^3//series resistance(Rsh/2)\n",
"\n",
"Rf=0.5*(16*Rse)/15//feedback resistor\n",
"\n",
"printf('feedback resistor\n')\n",
"\n",
"printf('Rf=%.3f ohm',Rf) "
   ]
   }
,
{
		   "cell_type": "markdown",
		   "metadata": {},
		   "source": [
			"## Example 5.3: output_voltage.sce"
		   ]
		  },
  {
"cell_type": "code",
	   "execution_count": null,
	   "metadata": {
	    "collapsed": true
	   },
	   "outputs": [],
"source": [
"//chapter-5,Example5_3,pg 492\n",
"\n",
"Rse=1*10^3//series resistance\n",
"\n",
"Rsh=2*10^3//shunt resistance\n",
"\n",
"Vref=5//ref. voltage\n",
"\n",
"n1=0//input-1\n",
"\n",
"n2=3//input-2\n",
"\n",
"Ro=0.22*10^3//load resistance\n",
"\n",
"Vo=(Vref*(2^n1+2^n2)/16)*(Ro/(Ro+Rsh))//output voltage\n",
"\n",
"printf('output voltage\n')\n",
"\n",
"printf('Vo=%.4f V',Vo) "
   ]
   }
,
{
		   "cell_type": "markdown",
		   "metadata": {},
		   "source": [
			"## Example 5.4: find_count.sce"
		   ]
		  },
  {
"cell_type": "code",
	   "execution_count": null,
	   "metadata": {
	    "collapsed": true
	   },
	   "outputs": [],
"source": [
"//chapter-5,Example5_4,pg 492\n",
"\n",
"Vref=5//ref. voltage\n",
"\n",
"t=1*10^-3//sawtooth wave time\n",
"\n",
"f=100*10^3//clock frequency\n",
"\n",
"Vi=1//input voltage\n",
"\n",
"N=((t*f*Vi)/Vref)//count\n",
"\n",
"printf('count=%.2f \n',N) "
   ]
   }
,
{
		   "cell_type": "markdown",
		   "metadata": {},
		   "source": [
			"## Example 5.5: find_integrator_output_voltage.sce"
		   ]
		  },
  {
"cell_type": "code",
	   "execution_count": null,
	   "metadata": {
	    "collapsed": true
	   },
	   "outputs": [],
"source": [
"//chapter-5,Example5_5,pg 492\n",
"\n",
"Tu=1*10^-3//wave time\n",
"\n",
"Vi=0.2//input voltage\n",
"\n",
"t=4*10^-3//integration time constant(1/RC)\n",
"\n",
"V1=((Vi*Tu)/t)//integrator output voltage\n",
"\n",
"printf('integrator output voltage\n')\n",
"\n",
"printf('V1=%.2f V',V1) "
   ]
   }
,
{
		   "cell_type": "markdown",
		   "metadata": {},
		   "source": [
			"## Example 5.6: find_rise_in_output_voltage_and_charging_time.sce"
		   ]
		  },
  {
"cell_type": "code",
	   "execution_count": null,
	   "metadata": {
	    "collapsed": true
	   },
	   "outputs": [],
"source": [
"//chapter-5,Example5_6,pg 493\n",
"\n",
"Tz=0.6*10^-3//discharge time\n",
"\n",
"Vref=1//ref. voltage\n",
"\n",
"t=4*10^-3//integrator time const.\n",
"\n",
"Vk=((Vref*Tz)/t)//rise in output integrator\n",
"\n",
"printf('rise in integrator output\n')\n",
"\n",
"printf('Vk=%.2f V\n',Vk)\n",
"\n",
"Vi=0.2//input voltage\n",
"\n",
"Tu=Vref*(Tz/Vi)//charging time\n",
"\n",
"printf('charging time\n')\n",
"\n",
"printf('Tu=%.4f sec',Tu)  "
   ]
   }
,
{
		   "cell_type": "markdown",
		   "metadata": {},
		   "source": [
			"## Example 5.7: find_count_of_counter.sce"
		   ]
		  },
  {
"cell_type": "code",
	   "execution_count": null,
	   "metadata": {
	    "collapsed": true
	   },
	   "outputs": [],
"source": [
"//chapter-5,Example5_7,pg 493\n",
"\n",
"Vref=1//ref. voltage\n",
"\n",
"Vi=0.2//input voltage\n",
"\n",
"n=15//no. of counts before reset(n+1)\n",
"\n",
"N=((n+1)*Vi)/Vref//no.of counts over charging time\n",
"\n",
"printf('no. of counts over charging time\n')\n",
"\n",
"printf('N=%.2f ',N) "
   ]
   }
,
{
		   "cell_type": "markdown",
		   "metadata": {},
		   "source": [
			"## Example 5.8: find_input_voltage.sce"
		   ]
		  },
  {
"cell_type": "code",
	   "execution_count": null,
	   "metadata": {
	    "collapsed": true
	   },
	   "outputs": [],
"source": [
"//chapter-5,Example5_8,pg 493\n",
"\n",
"Nx=64//2^6, 6 bit counteer register\n",
"\n",
"Vref=2.2//ref. voltage\n",
"\n",
"N=32//SAR output\n",
"\n",
"Vi=(N/(Nx+1)*Vref)//input voltage\n",
"\n",
"printf('input voltage\n')\n",
"\n",
"printf('Vi=%.2f V',Vi) "
   ]
   }
,
{
		   "cell_type": "markdown",
		   "metadata": {},
		   "source": [
			"## Example 5.9: conversion_number.sce"
		   ]
		  },
  {
"cell_type": "code",
	   "execution_count": null,
	   "metadata": {
	    "collapsed": true
	   },
	   "outputs": [],
"source": [
"//chapter-5,Example5_9,pg 493\n",
"\n",
"n=3//3-bit ADC\n",
"\n",
"Vref=2.2//ref.voltage\n",
"\n",
"Vi=1//input voltage\n",
"\n",
"N=(((2^n)-1)*Vi)/Vref//SAR output\n",
"\n",
"printf('SAR conversion no.\n')\n",
"\n",
"printf('N=%.2f ',N) "
   ]
   }
],
"metadata": {
		  "kernelspec": {
		   "display_name": "Scilab",
		   "language": "scilab",
		   "name": "scilab"
		  },
		  "language_info": {
		   "file_extension": ".sce",
		   "help_links": [
			{
			 "text": "MetaKernel Magics",
			 "url": "https://github.com/calysto/metakernel/blob/master/metakernel/magics/README.md"
			}
		   ],
		   "mimetype": "text/x-octave",
		   "name": "scilab",
		   "version": "0.7.1"
		  }
		 },
		 "nbformat": 4,
		 "nbformat_minor": 0
}
