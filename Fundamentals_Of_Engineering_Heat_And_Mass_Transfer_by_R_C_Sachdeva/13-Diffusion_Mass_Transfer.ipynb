{
"cells": [
 {
		   "cell_type": "markdown",
	   "metadata": {},
	   "source": [
       "# Chapter 13: Diffusion Mass Transfer"
	   ]
	},
{
		   "cell_type": "markdown",
		   "metadata": {},
		   "source": [
			"## Example 13.1: Average_molecular_weight.sce"
		   ]
		  },
  {
"cell_type": "code",
	   "execution_count": null,
	   "metadata": {
	    "collapsed": true
	   },
	   "outputs": [],
"source": [
"//Chapter-13, Example 13.1, Page 544\n",
"//=============================================================================\n",
"clc\n",
"clear\n",
"\n",
"//INPUT DATA\n",
"ro2=0.21;//Ratio of O2 in the mixture  \n",
"rn2=0.79;//Ratio of N2 in the mixture  \n",
"T=(25+273);//Temperature of container in degree C\n",
"p=1;//Total pressure in atm\n",
"\n",
"//CALCULATIONS\n",
"Co2=(ro2*10^5)/(8314*T);//Molar concentration of O2 in K.mol/m^3\n",
"Cn2=(rn2*10^5)/(8314*T);//Molar concentration of N2 in K.mol/m^3\n",
"po2=(32*Co2);//Mass density in kg/m^3\n",
"pn2=(28*Cn2);//Mass density in kg/m^3\n",
"p=(po2+pn2);//Overall mass density in kg/m^3\n",
"mo2=(po2/p);//Mass fraction of O2\n",
"mn2=(pn2/p);//Mass fraction of N2\n",
"M=(ro2*32)+(rn2*28);//Average molecular weight \n",
"\n",
"//OUTPUT\n",
"mprintf('Molar concentration of O2 is %3.4f K.mol/m^3 \n Molar concentration of N2 is %3.3f K.mol/m^3 \n Mass density of O2 is %3.3f kg/m^3 \n Mass density of N2 is %3.3f kg/m^3 \n Mole fraction of O2 is %3.2f \n Mole fraction of N2 is %3.2f \n Mass fraction of O2 is %3.3f \n Mass fraction of N2 is %3.3f \n Average molecular weight is %3.2f',Co2,Cn2,po2,pn2,ro2,rn2,mo2,mn2,M)\n",
"\n",
"//=================================END OF PROGRAM=============================="
   ]
   }
,
{
		   "cell_type": "markdown",
		   "metadata": {},
		   "source": [
			"## Example 13.2: Mass_and_molar_average_velocities_and_flux.sce"
		   ]
		  },
  {
"cell_type": "code",
	   "execution_count": null,
	   "metadata": {
	    "collapsed": true
	   },
	   "outputs": [],
"source": [
"//Chapter-13, Example 13.2, Page 545\n",
"//=============================================================================\n",
"clc\n",
"clear\n",
"\n",
"//INPUT DATA\n",
"yh2=0.4;//Mole fraction og H2\n",
"yo2=0.6;//Mole fraction of O2\n",
"vh2=1;//velocity of H2 in m/s\n",
"vo2=0;//velocity of O2 in m/s\n",
"\n",
"//CALCULATIONS\n",
"V=(yh2*vh2)+(yo2*vo2);//Molar average velocity in m/s\n",
"M=(yh2*2)+(yo2*32);//Molecular weight of the mixture\n",
"mh2=(yh2*2)/M;//Mass fraction of H2 \n",
"mo2=(yo2*32)/M;//Mass fraction of O2\n",
"v=(mh2*vh2)+(mo2*vo2);//Mass average velocity in m/s\n",
"x1=(mh2*vh2);//Mass flux \n",
"x2=(mo2*vo2);//Mass flux\n",
"y1=(v*vh2);//Molar flux\n",
"y2=(yo2*vo2);//Molar flux\n",
"jh2=(mh2*(vh2-v));//Mass diffusion flux\n",
"jo2=(mo2*(vo2-v));//Mass diffusion flux\n",
"Jh2=(yh2*(vh2-V));//Molar diffusion flux\n",
"Jo2=(yo2*(vo2-V));//Molar diffusion flux\n",
"\n",
"//OUTPUT\n",
"mprintf('Molar average velocity is %3.1f m/s \nMass average velocity is %3.2f m/s \n Mass flux of H2 when it is stationary is %3.2fp kg/m2.s3 \nMass flux of O2 when it is stationary is %3.0f kg/m^2.s \nMolar flux of H2 when it is stationary is %3.2fC k.mol/m^2.s \nMolar flux of O2 when it is stationary is %3.0f k.mol/m^2.s \nMass diffusion flux of H2 across a surface moving with mass average velocity is %3.4fp kg/m^2.s \nMass diffusion flux of O2 across a surface moving with mass average velocity is %3.4fp kg/m^2.s  \nMolar diffusion flux across a surface moving with molar average velociy for H2 is %3.2fC k.mol/m^2.s \nMolar diffusion flux across a surface moving with molar average velociy for O2 is %3.2fC k.mol/m^2.s',V,v,x1,x2,y1,y2,jh2,jo2,Jh2,Jo2)\n",
"\n",
"//=================================END OF PROGRAM=============================="
   ]
   }
,
{
		   "cell_type": "markdown",
		   "metadata": {},
		   "source": [
			"## Example 13.3: Diffusion_flux.sce"
		   ]
		  },
  {
"cell_type": "code",
	   "execution_count": null,
	   "metadata": {
	    "collapsed": true
	   },
	   "outputs": [],
"source": [
"//Chapter-13, Example 13.3, Page 557\n",
"//=============================================================================\n",
"clc\n",
"clear\n",
"\n",
"//INPUT DATA\n",
"t=0.001;//Thickness of the membrane in m\n",
"CA1=0.02;//Concentration of helium in the membrane at inner surface in k.mol/m^3\n",
"CA2=0.005;//Concentration of helium in the membrane at outer surface in k.mol/m^3\n",
"DAB=10^-9;//Binary diffusion coefficient in m^2/s\n",
"\n",
"//CALCULATIONS\n",
"NAx=((DAB*(CA1-CA2))/t)/10^-9;//Diffusion flux of helium through the plastic in k.mol/sm^2 *10^-9\n",
"\n",
"//OUTPUT\n",
"mprintf('Diffusion flux of helium through the plastic is %3.0f*10^-9 k.mol/sm^2',NAx)\n",
"\n",
"//=================================END OF PROGRAM=============================="
   ]
   }
,
{
		   "cell_type": "markdown",
		   "metadata": {},
		   "source": [
			"## Example 13.4: Initial_rate_of_leakage.sce"
		   ]
		  },
  {
"cell_type": "code",
	   "execution_count": null,
	   "metadata": {
	    "collapsed": true
	   },
	   "outputs": [],
"source": [
"//Chapter-13, Example 13.4, Page 557\n",
"//=============================================================================\n",
"clc\n",
"clear\n",
"\n",
"//INPUT DATA\n",
"T=273+25;//Temperature of Helium gas in K\n",
"p=4;//Pressure of helium gas in bar\n",
"Di=0.1;//Inner diamter of wall in m\n",
"Do=0.003;//Outer diamter of wall in m\n",
"DAB=(0.4*10^-13);//Binary diffusion coefficient in m^2/s\n",
"S=(0.45*10^-3);//S value for differentiation\n",
"\n",
"//CALCULATIONS\n",
"A=(3.14*Di^2);//Area in m^2\n",
"V=(3.14*Di^3)/6;//Volume in m^3\n",
"R=0.08316//Gas constant in m^3 bar/kmol.K\n",
"d=((-6*R*T*DAB*S*p)/(Do*Di))/10^-11;//Decrease of pressure with time in bar/s*10^-11\n",
"\n",
"//OUTPUT\n",
"mprintf('Initial rate of leakage for the system is provided by the decrease of pressure with time which is %3.2f*10^-11 bar/s',d)\n",
"\n",
"//=================================END OF PROGRAM=============================="
   ]
   }
,
{
		   "cell_type": "markdown",
		   "metadata": {},
		   "source": [
			"## Example 13.5: Loss_of_oxygen_by_diffusion.sce"
		   ]
		  },
  {
"cell_type": "code",
	   "execution_count": null,
	   "metadata": {
	    "collapsed": true
	   },
	   "outputs": [],
"source": [
"//Chapter-13, Example 13.5, Page 558\n",
"//=============================================================================\n",
"clc\n",
"clear\n",
"\n",
"//INPUT DATA\n",
"po2=2;//Pressure of O2 in bar\n",
"Di=0.025;//inside diamter of the pipe in m\n",
"L=0.0025;//Wall thickness in m\n",
"a=(0.21*10^-2);//Diffusivity of O2 in m^2/s\n",
"S=(3.12*10^-3);//Solubility of O2 in k.mol/m^3.bar\n",
"DAB=(0.21*10^-9);//Binary diffusion coefficient in m^2/s\n",
"\n",
"//CALCULATIONS\n",
"CAi=(S*po2);//Concentration of O2 on inside surface in kmol/m^3\n",
"RmA=((log((Di+(2*L))/Di))/(2*3.14*DAB));//Diffusion resistance in sm^2\n",
"Loss=(CAi/RmA)/10^-11;//Loss of O2 by diffusion per meter length of pipe *10^-11\n",
"\n",
"//OUTPUT\n",
"mprintf('Loss of O2 by diffusion per meter length of pipe is %3.2f*10^-11 kmol/s',Loss)\n",
"\n",
"//=================================END OF PROGRAM=============================="
   ]
   }
,
{
		   "cell_type": "markdown",
		   "metadata": {},
		   "source": [
			"## Example 13.6: Mass_transfer_rate.sce"
		   ]
		  },
  {
"cell_type": "code",
	   "execution_count": null,
	   "metadata": {
	    "collapsed": true
	   },
	   "outputs": [],
"source": [
"//Chapter-13, Example 13.6, Page 560\n",
"//=============================================================================\n",
"clc\n",
"clear\n",
"\n",
"//INPUT DATA\n",
"p=1;//Pressure of system in atm\n",
"T=25+273;//Temperature of system in K\n",
"pco2=(190/760);//Partial pressure of CO2 at one end in atm\n",
"pco2o=(95/760);//Partial pressure of CO2 at other end in atm\n",
"DAB=(0.16*10^-4);//Binary diffusion coefficient in m^2/s from Table 13.3\n",
"R=0.08205//Gas constant in m^3 atm/kmol.K\n",
"\n",
"//CALCULATIONS\n",
"NAx=(DAB*(pco2-pco2o))/(R*T*p);//Equimolar counter diffusion in kmol/m^2s\n",
"M=(NAx*3.14*(0.05^2/4)*3600);//Mass transfer rate in kmol/h\n",
"MCO2=(M*44)/10^-5;//Mass flow rate of CO2 in kg/h *10^-5\n",
"Mair=(29*-M)/10^-5;//Mass flow rate of air in kg/h *10^-5\n",
"\n",
"//OUTPUT\n",
"mprintf('Mass transfer rate of CO2 is %3.2f*10^-5 kg/h \nMass transfer rate of air is %3.2f*10^-5 kg/h',MCO2,Mair)\n",
"\n",
"//=================================END OF PROGRAM=============================="
   ]
   }
,
{
		   "cell_type": "markdown",
		   "metadata": {},
		   "source": [
			"## Example 13.7: Diffusion_rate.sce"
		   ]
		  },
  {
"cell_type": "code",
	   "execution_count": null,
	   "metadata": {
	    "collapsed": true
	   },
	   "outputs": [],
"source": [
"//Chapter-13, Example 13.7, Page 563\n",
"//=============================================================================\n",
"clc\n",
"clear\n",
"\n",
"//INPUT DATA\n",
"T=27+273;//Temperature of water in K\n",
"D=0.02;//Diameter of the tube in m\n",
"L=0.4;//Length of the tube in m\n",
"DAB=(0.26*10^-4);//Diffusion coefficient in m^2/s\n",
"\n",
"//CALCULATIONS\n",
"p=1.0132;//Atmospheric pressure in bar\n",
"pA1=0.03531;//Vapour pressure in bar\n",
"m=((p*10^5*3.14*(D/2)^2*18*DAB)/(8316*T*L))*(1000*3600)*log(p/(p-pA1));//Diffusion rate of water in gram per hour\n",
"\n",
"//OUTPUT\n",
"mprintf('Diffusion rate of water is %3.4f gram per hour',m)\n",
"\n",
"//=================================END OF PROGRAM=============================="
   ]
   }
,
{
		   "cell_type": "markdown",
		   "metadata": {},
		   "source": [
			"## Example 13.8: Diffusion_coefficient.sce"
		   ]
		  },
  {
"cell_type": "code",
	   "execution_count": null,
	   "metadata": {
	    "collapsed": true
	   },
	   "outputs": [],
"source": [
"//Chapter-13, Example 13.8, Page 564\n",
"//=============================================================================\n",
"clc\n",
"clear\n",
"\n",
"//INPUT DATA\n",
"T=25+273;//Temperature of water in K\n",
"D=0.02;//Diameter of the tube in m\n",
"L=0.08;//Length of the tube in m\n",
"m=(8.54*10^-4);//Diffusion coefficient in kg/h\n",
"\n",
"//CALCULATIONS\n",
"p=1.0132;//Atmospheric pressure in bar\n",
"pA1=0.03165;//Vapour pressure in bar\n",
"DAB=(((m/3600)*8316*T*L)/(p*10^5*3.14*(D/2)^2*18*log(p/(p-pA1))*10^2))/10^-4;//Diffusion coefficient of water in m^2/s *10^-4\n",
"\n",
"//CALCULATIONS\n",
"mprintf('Diffusion coefficient of water is %3.3f*10^-4 m^2/s',DAB)\n",
"\n",
"//=================================END OF PROGRAM=============================="
   ]
   }
,
{
		   "cell_type": "markdown",
		   "metadata": {},
		   "source": [
			"## Example 13.9: Time_required.sce"
		   ]
		  },
  {
"cell_type": "code",
	   "execution_count": null,
	   "metadata": {
	    "collapsed": true
	   },
	   "outputs": [],
"source": [
"//Chapter-13, Example 13.9, Page 569\n",
"//=============================================================================\n",
"clc\n",
"clear\n",
"\n",
"//INPUT DATA\n",
"CAs=0.02;//Carbon mole fraction\n",
"CAo=0.004;//Content of steel\n",
"CA=0.012;//Percet of depth\n",
"d=0.001;//Depth in m\n",
"H=(6*10^-10);//Diffusivity of carbon in m^2/s\n",
"\n",
"//CALCULATIONS\n",
"X=(CA-CAs)/(CAo-CAs);//Calculation for erf function\n",
"n=0.48;//erf(n)=0.5; n=0.48\n",
"t=((d/(n*2))^2/(3600*H))*3600;//Time required to elevate the carbon content of steel in s\n",
"\n",
"//OUTPUT\n",
"mprintf('Time required to elevate the carbon content of steel is %3.2f s',t)\n",
"\n",
"//=================================END OF PROGRAM=============================="
   ]
   }
],
"metadata": {
		  "kernelspec": {
		   "display_name": "Scilab",
		   "language": "scilab",
		   "name": "scilab"
		  },
		  "language_info": {
		   "file_extension": ".sce",
		   "help_links": [
			{
			 "text": "MetaKernel Magics",
			 "url": "https://github.com/calysto/metakernel/blob/master/metakernel/magics/README.md"
			}
		   ],
		   "mimetype": "text/x-octave",
		   "name": "scilab",
		   "version": "0.7.1"
		  }
		 },
		 "nbformat": 4,
		 "nbformat_minor": 0
}
