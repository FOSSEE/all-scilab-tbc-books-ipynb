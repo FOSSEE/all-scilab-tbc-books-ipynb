{
"cells": [
 {
		   "cell_type": "markdown",
	   "metadata": {},
	   "source": [
       "# Chapter 11: Boiling and Condensation"
	   ]
	},
{
		   "cell_type": "markdown",
		   "metadata": {},
		   "source": [
			"## Example 11.10: Condensation_rate.sce"
		   ]
		  },
  {
"cell_type": "code",
	   "execution_count": null,
	   "metadata": {
	    "collapsed": true
	   },
	   "outputs": [],
"source": [
"//Chapter-11, Example 11.10, Page 494\n",
"//=============================================================================\n",
"clc\n",
"clear\n",
"\n",
"//INPUT DATA\n",
"m=50;//Mass of vapour per hour\n",
"n=100;//Number of tubes\n",
"D=0.01;//Diameter of the tube in m\n",
"L=1;//Length of the tube in m\n",
"n1=10;//Array of 10*10\n",
"\n",
"//CALCULATIONS\n",
"mr=((0.725/1.13)*(L/(n1*D))^0.25);//Ratio of horizontal and vertical position \n",
"mv=(m/mr);//Mass flow rate in the vertical position in kg/h\n",
"\n",
"//OUTPUT\n",
"mprintf('Mass flow rate in the vertical position is %3.2f kg/h',mv)\n",
"\n",
"//=================================END OF PROGRAM=============================="
   ]
   }
,
{
		   "cell_type": "markdown",
		   "metadata": {},
		   "source": [
			"## Example 11.1: Temperature_of_the_surface.sce"
		   ]
		  },
  {
"cell_type": "code",
	   "execution_count": null,
	   "metadata": {
	    "collapsed": true
	   },
	   "outputs": [],
"source": [
"//Chapter-11, Example 11.1, Page 480\n",
"//=============================================================================\n",
"clc\n",
"clear\n",
"\n",
"//INPUT DATA\n",
"Tsat=100;//Saturation temperature of water in degree C\n",
"p1=957.9;//Density of liquid in kg/m^3\n",
"Cpl=4217;//Specific heat in J/kg.K\n",
"u=(279*10^-6);//Dynamic viscosity in N.s/m^2\n",
"Pr=1.76;//Prantl number\n",
"hjg=2257;//Enthalpy in kJ/kg\n",
"s=(58.9*10^-3);//Surface tension in N/m\n",
"pv=0.5955;//Density of vapour in kg/m^3\n",
"m=30;//Rate of water in kg/h\n",
"D=0.3;//Diameter in m\n",
"\n",
"//CALCULATIONS\n",
"q=(m*hjg*1000)/(3600*3.14*(D^2/4));//Heat transfer in W/m^2\n",
"Ts=Tsat+(((q/(u*hjg*1000))*sqrt(s/(9.81*(p1-pv)))))^0.33\n",
"\n",
"//OUTPUT\n",
"mprintf('Temperature of the bottom surface of the pan is %3.2f degree C',Ts)\n",
"\n",
"//=================================END OF PROGRAM=============================="
   ]
   }
,
{
		   "cell_type": "markdown",
		   "metadata": {},
		   "source": [
			"## Example 11.2: Burnout_heat_flux.sce"
		   ]
		  },
  {
"cell_type": "code",
	   "execution_count": null,
	   "metadata": {
	    "collapsed": true
	   },
	   "outputs": [],
"source": [
"//Chapter-11, Example 11.2, Page 481\n",
"//=============================================================================\n",
"clc\n",
"clear\n",
"\n",
"//INPUT DATA\n",
"Tsat=100;//Saturation temperature of water in degree C\n",
"p1=957.9;//Density of liquid in kg/m^3\n",
"Cpl=4217;//Specific heat in J/kg.K\n",
"u=(279*10^-6);//Dynamic viscosity in N.s/m^2\n",
"Pr=1.76;//Prantl number\n",
"hjg=2257;//Enthalpy in kJ/kg\n",
"s=(58.9*10^-3);//Surface tension in N/m\n",
"pv=0.5955;//Density of vapour in kg/m^3\n",
"m=30;//Rate of water in kg/h\n",
"D=0.3;//Diameter in m\n",
"\n",
"//CALCULATIONS\n",
"q=(0.18*hjg*1000*pv*((s*9.81*(p1-pv))/pv^2)^0.25)/10^6;//Burnout heat flux in MW/m^2\n",
"\n",
"//OUTPUT\n",
"mprintf('Burnout heat flux is %3.3f MW/m^2',q)\n",
"\n",
"//=================================END OF PROGRAM=============================="
   ]
   }
,
{
		   "cell_type": "markdown",
		   "metadata": {},
		   "source": [
			"## Example 11.3: Heat_transfer_coefficient_and_power_dissipation.sce"
		   ]
		  },
  {
"cell_type": "code",
	   "execution_count": null,
	   "metadata": {
	    "collapsed": true
	   },
	   "outputs": [],
"source": [
"//Chapter-11, Example 11.3, Page 481\n",
"//=============================================================================\n",
"clc\n",
"clear\n",
"\n",
"//INPUT DATA\n",
"D=0.0016;//Diameter of the wire in m\n",
"T=255;//Temperature difference in degree C\n",
"p1=957.9;//Density of liquid in kg/m^3\n",
"Cpl=4640;//Specific heat in J/kg.K\n",
"u=(18.6*10^-6);//Dynamic viscosity in N.s/m^2\n",
"hjg=2257;//Enthalpy in kJ/kg\n",
"k=(58.3*10^-3);//Thermal conductivity in W/m.K\n",
"pv=31.54;//Density of vapour in kg/m^3\n",
"Ts=628;//Surface temperature in K\n",
"Tsat=373;//Saturation temperature in K\n",
"\n",
"//CALCULATIONS\n",
"hc=(0.62*((k^3*pv*(p1-pv)*9.81*((hjg*1000)+(0.4*Cpl*T)))/(u*D*T))^0.25);//Convective heat transfer coefficient in W/m^2.K\n",
"hr=((5.67*10^-8)*(Ts^4-Tsat^4))/(Ts-Tsat);//Radiative heat transfer coefficient in W/m^2.K\n",
"hm=(hc+(0.75*hr));//Mean heat transfer coefficient in W/m^2.K\n",
"Q=(hm*3.14*D*T)/1000;//Power dissipation rate per unit length of the heater in kW/m\n",
"\n",
"//OUTPUT\n",
"mprintf('Mean heat transfer coefficient is %3.1f W/m^2.K \nPower dissipation rate per unit length of the heater is %3.3f kW/m',hm,Q)\n",
"\n",
"//=================================END OF PROGRAM=============================="
   ]
   }
,
{
		   "cell_type": "markdown",
		   "metadata": {},
		   "source": [
			"## Example 11.4: Heat_transfer_coefficient.sce"
		   ]
		  },
  {
"cell_type": "code",
	   "execution_count": null,
	   "metadata": {
	    "collapsed": true
	   },
	   "outputs": [],
"source": [
"//Chapter-11, Example 11.4, Page 485\n",
"//=============================================================================\n",
"clc\n",
"clear\n",
"\n",
"//INPUT DATA\n",
"Ts=10;//Surface temperature in degree C\n",
"p1=10;//Pressure of water in atm\n",
"\n",
"//CALCULATIONS\n",
"hp=(5.56*Ts^0.4);//Heat transfer coefficient in kW/m^2.K\n",
"hp1=(5.56*(2*Ts)^3*p1^0.4);//Heat transfer coefficient in kW/m^2.K\n",
"hp2=(5.56*Ts^3*(2*p1)^0.4);//Heat transfer coefficient in kW/m^2.K\n",
"x1=(hp1/hp)/1000;//Ratio of heat transfer coefficients\n",
"x2=(hp2/hp)*100;//Ratio of heat transfer coefficients\n",
"\n",
"//OUTPUT\n",
"mprintf('Heat transfer coefficient becomes%3.0f times the original value in the first case \nHeat transfer coefficient is increased only by 32 percent in the second case',x1)\n",
"\n",
"//=================================END OF PROGRAM=============================="
   ]
   }
,
{
		   "cell_type": "markdown",
		   "metadata": {},
		   "source": [
			"## Example 11.5: Heat_transfer.sce"
		   ]
		  },
  {
"cell_type": "code",
	   "execution_count": null,
	   "metadata": {
	    "collapsed": true
	   },
	   "outputs": [],
"source": [
"//Chapter-11, Example 11.5, Page 485\n",
"//=============================================================================\n",
"clc\n",
"clear\n",
"\n",
"//INPUT DATA\n",
"p=6;//Pressure of water in atm\n",
"D=0.02;//Diameter of the tube in m\n",
"Ts=10;//Wall temperature in degree C\n",
"L=1;//Length of the tube in m\n",
"\n",
"//CALCULATIONS\n",
"p1=(p*1.0132*10^5)/10^6;//Pressure in MN/m^2\n",
"h=(2.54*Ts^3*exp(p1/1.551));//Heat transfer coefficient in W/m^2.K\n",
"Q=(h*3.14*D*L*Ts);//Heat transfer rate in W/m\n",
"\n",
"//OUTPUT\n",
"mprintf('Heat transfer rate is %3.1f W/m',Q)\n",
"\n",
"//=================================END OF PROGRAM=============================="
   ]
   }
,
{
		   "cell_type": "markdown",
		   "metadata": {},
		   "source": [
			"## Example 11.6: Thickness_of_condensate_film.sce"
		   ]
		  },
  {
"cell_type": "code",
	   "execution_count": null,
	   "metadata": {
	    "collapsed": true
	   },
	   "outputs": [],
"source": [
"//Chapter-11, Example 11.6, Page 489\n",
"//=============================================================================\n",
"clc\n",
"clear\n",
"\n",
"//INPUT DATA\n",
"p=2.45;//Pressure of dry saturated steam in bar\n",
"h=1;//Height of vertical tube in m\n",
"Ts=117;//Tube surface temperature in degree C\n",
"d=0.2;//Distance from upper end of the tube in m\n",
"\n",
"//CALCULATIONS\n",
"Tsat=127;//Saturation temperature of water in degree C\n",
"p1=941.6;//Density of liquid in kg/m^3\n",
"k1=0.687;//Thermal conductivity in W/m.K\n",
"u=(227*10^-6);//Dynamic viscosity in N.s/m^2\n",
"hfg=2183;//Enthalpy in kJ/kg\n",
"pv=1.368;//Density of vapour in kg/m^3\n",
"q=(((4*k1*u*10*d)/(9.81*p1*(p1-pv)*hfg*1000))^0.25)*1000;//Thickness of condensate film in mm\n",
"h=(k1/(q/1000));//Local heat transfer coefficient at x=0.2 in W/m^2.K\n",
"\n",
"//OUTPUT\n",
"mprintf('Thickness of condensate film is %3.2f mm\nLocal heat transfer coefficient at x=0.2 is %3.0f W/m^2.K',q,h)\n",
"\n",
"//=================================END OF PROGRAM=============================="
   ]
   }
,
{
		   "cell_type": "markdown",
		   "metadata": {},
		   "source": [
			"## Example 11.7: Rate_of_heat_transfer_and_condensate_mass_flow_rate.sce"
		   ]
		  },
  {
"cell_type": "code",
	   "execution_count": null,
	   "metadata": {
	    "collapsed": true
	   },
	   "outputs": [],
"source": [
"//Chapter-11, Example 11.7, Page 491\n",
"//=============================================================================\n",
"clc\n",
"clear\n",
"\n",
"//INPUT DATA\n",
"D=0.05;//Diameter of the tube in m\n",
"L=2;//Length of the tube in m\n",
"Ts=84;//Outer surface temperature in degree C\n",
"Tsat=100;//Saturation temperature of water in degree C\n",
"Tf=(Tsat+Ts)/2;//Film temperature in degree C\n",
"p1=963.4;//Density of liquid in kg/m^3\n",
"u=(306*10^-6);//Dynamic viscosity in N.s/m^2\n",
"hfg=2257;//Enthalpy in kJ/kg\n",
"pv=0.596;//Density of vapour in kg/m^3\n",
"k1=0.677;//Thermal conductivity in W/m.K\n",
"\n",
"//CALCULATIONS\n",
"hL=(1.13*((9.81*p1*(p1-pv)*k1^3*hfg*1000)/(u*16*L))^0.25);//Heat transfer coefficient in W/m^2.K\n",
"Ref=((4*hL*L*2)/(hfg*1000*u));//Reynolds nmber\n",
"Q=(hL*3.14*D*L*10);//Heat transfer rate in W\n",
"m=(Q/(hfg*1000))*3600;//Condensate mass flow rate in kg/h\n",
"\n",
"//OUTPUT\n",
"mprintf('Heat transfer rate is %3.0f W \n Condensate mass flow rate is %3.1f kg/h',Q,m)\n",
"\n",
"//=================================END OF PROGRAM=============================="
   ]
   }
,
{
		   "cell_type": "markdown",
		   "metadata": {},
		   "source": [
			"## Example 11.8: Heat_transfer_rate.sce"
		   ]
		  },
  {
"cell_type": "code",
	   "execution_count": null,
	   "metadata": {
	    "collapsed": true
	   },
	   "outputs": [],
"source": [
"//Chapter-11, Example 11.8, Page 492\n",
"//=============================================================================\n",
"clc\n",
"clear\n",
"\n",
"//INPUT DATA\n",
"h=2.8;//Height of the plate in m\n",
"T=54;//Temperature of the plate in degree C\n",
"Tsat=100;//Saturation temperature of water in degree C\n",
"Tf=(Tsat+T)/2;//Film temperature in degree C\n",
"p1=937.7;//Density of liquid in kg/m^3\n",
"u=(365*10^-6);//Dynamic viscosity in N.s/m^2\n",
"hfg=2257;//Enthalpy in kJ/kg\n",
"pv=0.596;//Density of vapour in kg/m^3\n",
"k1=0.668;//Thermal conductivity in W/m.K\n",
"\n",
"//CALCULATIONS\n",
"Re=(0.00296*((p1*9.81*(p1-pv)*k1^3*(Tsat-T)^3*h^3)/(u^5*(hfg*1000)^3))^(5/9));//Reynolds number\n",
"hL=(0.0077*((9.81*p1*(p1-pv)*k1^3)/u^2)^(1/3)*Re^0.4);//Heat transfer coefficient in W/m^2.K\n",
"Q=(hL*h*(Tsat-T))/1000;//Heat transfer rate per unit width in kW/m\n",
"\n",
"//OUTPUT\n",
"mprintf('Heat transfer rate per unit width is %3.2f kW/m',Q)\n",
"\n",
"//=================================END OF PROGRAM=============================="
   ]
   }
,
{
		   "cell_type": "markdown",
		   "metadata": {},
		   "source": [
			"## Example 11.9: Rate_of_formation_of_condensate.sce"
		   ]
		  },
  {
"cell_type": "code",
	   "execution_count": null,
	   "metadata": {
	    "collapsed": true
	   },
	   "outputs": [],
"source": [
"//Chapter-11, Example 11.9, Page 494\n",
"//=============================================================================\n",
"clc\n",
"clear\n",
"\n",
"//INPUT DATA\n",
"T=100;//Temperature of dry steam in degree C\n",
"Do=0.025;//Outer diameter of the pipe in m\n",
"Ts=84;//Surface temmperature of pipe in degree C\n",
"Tf=(T+Ts)/2;//Film temperature in degree C\n",
"p1=963.4;//Density of liquid in kg/m^3\n",
"u=(306*10^-6);//Dynamic viscosity in N.s/m^2\n",
"hfg=2257;//Enthalpy in kJ/kg\n",
"pv=0.596;//Density of vapour in kg/m^3\n",
"k1=0.677;//Thermal conductivity in W/m.K\n",
"\n",
"//CALCULATIONS\n",
"h=(0.725*((9.81*p1*(p1-pv)*k1^3*hfg*1000)/(u*(T-Ts)*Do))^0.25);//Heat transfer coefficient in W/m^2.K\n",
"q=(h*3.14*Do*(T-Ts))/1000;//Heat transfer per unit length in kW/m\n",
"m=(q/hfg)*3600;//Total mass flow of condensate per unit length in kg/h\n",
"\n",
"//OUTPUT\n",
"mprintf('Rate of formation of condensate per unit length is %3.2f kg/h',m)\n",
"\n",
"//=================================END OF PROGRAM=============================="
   ]
   }
],
"metadata": {
		  "kernelspec": {
		   "display_name": "Scilab",
		   "language": "scilab",
		   "name": "scilab"
		  },
		  "language_info": {
		   "file_extension": ".sce",
		   "help_links": [
			{
			 "text": "MetaKernel Magics",
			 "url": "https://github.com/calysto/metakernel/blob/master/metakernel/magics/README.md"
			}
		   ],
		   "mimetype": "text/x-octave",
		   "name": "scilab",
		   "version": "0.7.1"
		  }
		 },
		 "nbformat": 4,
		 "nbformat_minor": 0
}
