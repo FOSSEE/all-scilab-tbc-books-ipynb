{
"cells": [
 {
		   "cell_type": "markdown",
	   "metadata": {},
	   "source": [
       "# Chapter 12: Heat Exchangers"
	   ]
	},
{
		   "cell_type": "markdown",
		   "metadata": {},
		   "source": [
			"## Example 12.10: Surface_area.sce"
		   ]
		  },
  {
"cell_type": "code",
	   "execution_count": null,
	   "metadata": {
	    "collapsed": true
	   },
	   "outputs": [],
"source": [
"//Chapter-12, Example 12.10, Page 517\n",
"//=============================================================================\n",
"clc\n",
"clear\n",
"\n",
"//INPUT DATA\n",
"Ti=360;//Inlet temperature of hot fluid in degree C taken from Example no. 12.4 on page no. 510\n",
"To=300;//Outlet temperature of hot fluid in degree C taken from Example no. 12.4 on page no. 510\n",
"ti=30;//Inlet temperature of cold fluid in degree C taken from Example no. 12.4 on page no. 510\n",
"to=200;//Outlet temperature of cold fluid in degree C taken from Example no. 12.4 on page no. 510\n",
"U=800;//Overall heat transfer coefficient in W/m^2.K taken from Example no. 12.4 on page no. 510\n",
"Q=150000;//Calculated heat transfer rate in W from Example no. 12.4 on page no. 510 \n",
"Tlm=210.22//Calculated LMTD for counterflow arrangement in degree C taken from Example no. 12.4 on page no. 511\n",
"\n",
"//CALCULATIONS\n",
"P=((to-ti)/(Ti-ti));//P value for calculation of correction factor\n",
"R=((Ti-To)/(to-ti));//R value for calculation of correction factor\n",
"F=0.98;//Correction Factor value taken from Fig.12.11 on page no.515\n",
"A=(Q/(U*F*Tlm));//Required surface area in a cross flow heat exchanger in m^2\n",
"\n",
"//OUTPUT\n",
"mprintf('The required surface area in a cross flow heat exchanger is %3.2f m^2',A)\n",
"\n",
"//=================================END OF PROGRAM=============================="
   ]
   }
,
{
		   "cell_type": "markdown",
		   "metadata": {},
		   "source": [
			"## Example 12.11: Number_of_tube_passes_and_number_of_tubes_per_pass.sce"
		   ]
		  },
  {
"cell_type": "code",
	   "execution_count": null,
	   "metadata": {
	    "collapsed": true
	   },
	   "outputs": [],
"source": [
"//Chapter-12, Example 12.11, Page 518\n",
"//=============================================================================\n",
"clc\n",
"clear\n",
"\n",
"//INPUT DATA\n",
"mc=4;//Mass flow rate of cold water in kg/s\n",
"Tci=38;//Inlet Temperature of cold water in degree C\n",
"Tco=55;//Outlet Temperature of cold water in degree C\n",
"D=0.02;//Diameter of the tube in m\n",
"v=0.35;//Velocity of water in m/s\n",
"Thi=95;//Inlet Temperature of hot water in degree C\n",
"mh=2;//Mass flow rate of hot water in kg/s\n",
"L=2;//Length of the tube in m\n",
"U=1500;//Overall heat transfer coefficient in W/m^2.K\n",
"c=4186;//Specific heat of water in J/kg.K\n",
"d=1000;//Density of water in kg/m^3\n",
"\n",
"//CALCULATIONS\n",
"Q=(mc*c*(Tco-Tci));//Heat transfer rate for cold fluid in W\n",
"Tho=(Thi-(Q/(mh*c)));//Outlet temperature of hot fluid in degree C\n",
"T=Thi-Tco;//Difference of temperature between hot water inlet and cold water outlet in degree C\n",
"t=Tho-Tci;//Difference of temperature between hot water outlet and cold water inlet in degree C\n",
"Tlm=((T-t)/log(T/t));//LMTD for counterflow heat exchanger\n",
"A=(Q/(U*Tlm));//Area of heat exchanger in m^2\n",
"A1=(mc/(d*v));//Total flow area in m^2\n",
"n=((A1*4)/(3.14*D^2));//Number of tubes\n",
"L=(A/(36*3.14*D));//Length of each tube taking n=36 in m\n",
"N=2;//Since this length is greater than the permitted length of 2m, we must use more than one tube pass. Let us try 2 tube passes\n",
"P=((Tco-Tci)/(Thi-Tci));//P value for calculation of correction factor\n",
"R=((Thi-Tho)/(Tco-Tci));//R value for calculation of correction factor\n",
"F=0.9;//Corrction Factor from Fig.12.9 on page no. 514 \n",
"A2=(Q/(U*F*Tlm));//Total area required for one shall pass,2 tube pass exchanger in m^2\n",
"L1=(A2/(2*36*3.14*D));//Length of tube per pass taking n=36 in m\n",
"\n",
"//OUTPUT\n",
"mprintf('Number of tubes per pass is %i \n Number of passes is %i \n Length of tube per pass is %3.3f m',n,N,L1)\n",
"\n",
"//=================================END OF PROGRAM=============================="
   ]
   }
,
{
		   "cell_type": "markdown",
		   "metadata": {},
		   "source": [
			"## Example 12.12: Surface_area_and_temperature.sce"
		   ]
		  },
  {
"cell_type": "code",
	   "execution_count": null,
	   "metadata": {
	    "collapsed": true
	   },
	   "outputs": [],
"source": [
"//Chapter-12, Example 12.12, Page 524\n",
"//=============================================================================\n",
"clc\n",
"clear\n",
"\n",
"//INPUT DATA\n",
"mh=250;//Mass flow rate of hot liquid in kg/h\n",
"ch=3350;//Specific heat of hot liquid in J/kg.K\n",
"Thi=120;//Inlet temperature of hot liquid in degree C\n",
"mc=1000;//Mass flow rate of cold liquid in kg/h\n",
"Tci=10;//Inlet temperature of cold liquid in degree C\n",
"U=1160;//Overall heat transfer coefficient in W/m^2.K\n",
"A=0.25;//Surface area of heat exchanger in m^2\n",
"cc=4186;//Specific heat of cold liquid in J/kg.K\n",
"\n",
"//CALCULATIONS\n",
"Cc=((mc*cc)/3600);//Heat capacity rate for cold liquid in W/K\n",
"Ch=((mh*ch)/3600);//Heat capacity rate for hot liquid in W/K\n",
"Cmin=min(Cc,Ch);//Minimum heat capacity rate in W/K\n",
"Cmax=max(Cc,Ch);//Maximum heat capacity rate in W/K\n",
"r=(Cmin/Cmax);//Ratio of min amd max heat capacity rates\n",
"NTU=((U*A)/Cmin);//Number of transfer units\n",
"e=((1-exp(-NTU*(1+r)))/(1+r));//Effectiveness for a parallel flow heat exchanger\n",
"Qmax=(Cmin*(Thi-Tci));//Maximum possible heat transfer rate in W\n",
"Q=(e*Qmax);//Actual rate of heat transfer in W\n",
"Tco=((Q/Cc)+Tci);//Outlet temperature of cold liquid in degree C\n",
"Tho=(Thi-(Q/Ch));//Outlet temperature of hot liquid in degree C\n",
"\n",
"\n",
"//OUTPUT\n",
"mprintf('Effectiveness for a parallel flow heat exchanger is %3.3f \n Outlet temperature of water is %3.2f degree C \n Outlet temperature of cooled liquid is %3.2f degree C',e,Tco,Tho)\n",
"\n",
"//=================================END OF PROGRAM==============================\n",
""
   ]
   }
,
{
		   "cell_type": "markdown",
		   "metadata": {},
		   "source": [
			"## Example 12.13: Total_heat_transfer_and_surface_temperature.sce"
		   ]
		  },
  {
"cell_type": "code",
	   "execution_count": null,
	   "metadata": {
	    "collapsed": true
	   },
	   "outputs": [],
"source": [
"//Chapter-12, Example 12.13, Page 527\n",
"//=============================================================================\n",
"clc\n",
"clear\n",
"//INPUT DATA\n",
"Tci=15;//Inlet temperature of water in degree C\n",
"mc=1300;//Mass flow rate of water in kg/h\n",
"ch=2000;//Specific heat of oil in J/kg.K\n",
"mh=550;//Mass flow rate of oil in kg/h\n",
"Thi=94;//Inlet temperature of oil in degree C\n",
"A=1;//Area of heat exchanger in m^2\n",
"U=1075;//Overall heat transfer coefficient in W/m^2.K\n",
"cc=4186;//Specific heat of water in J/kg.K\n",
"//CALCULATIONS\n",
"Cc=((mc*cc)/3600);//Heat capacity of water in W/K\n",
"Ch=((mh*ch)/3600);//Heat capacity of oil in W/K\n",
"Cmin=min(Cc,Ch);//Minimum heat capacity in W/K\n",
"Cmax=max(Cc,Ch);//Maximum heat capacity in W/K\n",
"r=(Cmin/Cmax);//Ratio of min and max heat capacity\n",
"NTU=((U*A)/Cmin);//Number of transfer Units\n",
"e=0.94//Effectiveness of heat exchanger from Fig. 12.15 on page no.524\n",
"Qmax=(Cmin*(Thi-Tci));//Maximum possible heat transfer rate in W\n",
"Q=(e*Qmax);//Actual heat transfer rate in W\n",
"Tco=((Q/Cc)+Tci);//Outlet Temperature of water in degree C\n",
"Tho=(Thi-(Q/Ch));//Outlet Temperature of oil in degree C\n",
"//OUTPUT\n",
"mprintf('The total heat transfer is %3.1f W \n Outlet Temperature of water is %i degree C \n Outlet Temperature of oil is %3.2f degree C',Q,Tco,Tho)\n",
"//=================================END OF PROGRAM=============================="
   ]
   }
,
{
		   "cell_type": "markdown",
		   "metadata": {},
		   "source": [
			"## Example 12.14: Parameters_of_heat_exchanger.sce"
		   ]
		  },
  {
"cell_type": "code",
	   "execution_count": null,
	   "metadata": {
	    "collapsed": true
	   },
	   "outputs": [],
"source": [
"//Chapter-12, Example 12.14, Page 528\n",
"//=============================================================================\n",
"clc\n",
"clear\n",
"\n",
"//INPUT DATA\n",
"N=3000;//Number of brass tubes\n",
"D=0.02;//Diameter of brass tube in m\n",
"Tci=20;//Inlet temperature of cooling water in degree C\n",
"mc=3000;//Mass flow rate of cooling water in kg/s\n",
"ho=15500;//Heat transfer coefficient for condensation in W/m^2.K\n",
"Q=(2.3*10^8);//Heat load of the condenser in W\n",
"Thi=50;//Temperature at which steam condenses in degree C\n",
"hfg=2380//Enthalpy of liquid vapour mixture in kJ/kg\n",
"m=1;//Flow rate of each tube in kg/s\n",
"Cc=4180;//Specific heat of water in J/kg.K\n",
"\n",
"//Properties of water at 300K from data book\n",
"Cc=4186;//Specific heat in J/kg.K\n",
"mu=(855*10^-6);//Dynamic viscosity in Ns/m^2\n",
"k=0.613;//Thermal Conductivity in W/mK\n",
"Pr=5.83//Prantl number\n",
"\n",
"//CALCULATIONS\n",
"Tco=((Q/(mc*Cc))+Tci);//Outlet temperature of cooling water in degree C\n",
"Re=((4*m)/(3.1415*D*mu));//Reynold's number\n",
"Nu=(0.023*Re^(4/5)*Pr^(2/5));//Nusselts number\n",
"hi=(Nu*(k/D));//Heat transfer coefficient in W/m^2.K\n",
"U=(1/((1/ho)+(1/hi)));//Overall heat transfer coefficient in W/m^2.K\n",
"Cmin=(mc*Cc);//Minimum heat capacity in W/K\n",
"Qmax=(Cmin*(Thi-Tci));//Maximum heat transfer rate in W\n",
"e=(Q/Qmax);//Effectiveness of heat transfer\n",
"NTU=0.8;//Number of transfer units from Fig. 12.16 on page no.525 \n",
"A=((NTU*Cmin)/U);//Area of heat exchanger in m^2\n",
"L=(A/(2*N*3.1415*D));//Length of tube per pass in m\n",
"ms=(Q/(hfg*1000));//Amount of steam condensed in kg/s\n",
"\n",
"//OUTPUT\n",
"mprintf('The outlet temperature of the cooling water is %3.2f degree C \n The overall heat transfer coefficient is %3.1f W/m^2.K \n Tube length per pass using NTU method is %3.2f m \n The rate of condensation of steam is %3.0f kg/s',Tco,U,L,ms)\n",
"\n",
"//=================================END OF PROGRAM==============================\n",
"\n",
"\n",
""
   ]
   }
,
{
		   "cell_type": "markdown",
		   "metadata": {},
		   "source": [
			"## Example 12.15: Exit_temperature.sce"
		   ]
		  },
  {
"cell_type": "code",
	   "execution_count": null,
	   "metadata": {
	    "collapsed": true
	   },
	   "outputs": [],
"source": [
"//Chapter-12, Example 12.15, Page 530\n",
"//=============================================================================\n",
"clc\n",
"clear\n",
"\n",
"//INPUT DATA\n",
"Tci=5;//Inlet temperature of water in degree C\n",
"mc=4600;//Mass flow rate of water in kg/h\n",
"mh=4000;//Mass flow rate of air in kg/h\n",
"Thi=40;//Inlet temperature of air in degree C\n",
"U=150;//Overall heat transfer coefficient in W/m^2.K\n",
"A=25;//Area of heat exchanger in m^2\n",
"Cc=4180;//Specific heat of water in J/kg.K\n",
"Ch=1010;//Specific heat of air in J/kg.K\n",
"\n",
"//CALCULATIONS\n",
"C1=((mh*Ch)/3600);//Heat capacity of air in W/K\n",
"C2=((mc*Cc)/3600);//Heat capacity of water in W/K\n",
"Cmin=min(C1,C2);//Minimum value of heat capacity in W/K\n",
"Cmax=max(C1,C2);//Maximum value of heat capacity in W/K\n",
"r=(Cmin/Cmax);//Ratio of min and max heat capacity in W/K\n",
"NTU=((U*A)/Cmin);//Number of heat transfer units\n",
"e=0.92;//Effectiveness of heat exchanger from Fig. 12.18 on page no.526\n",
"Q=(e*Cmin*(Thi-Tci));//Heat transfer rate in W\n",
"Tco=((Q/C2)+Tci);//Outlet temperature of water in degree C\n",
"Tho=(Thi-(Q/C1));//Outlet temperature of air in degree C\n",
"\n",
"//OUTPUT\n",
"mprintf('The exit temperature of water is %3.1f degree C \n The exit temperature of air is %3.1f degree C',Tco,Tho)\n",
"\n",
"//=================================END OF PROGRAM=============================="
   ]
   }
,
{
		   "cell_type": "markdown",
		   "metadata": {},
		   "source": [
			"## Example 12.16: Outlet_temperature.sce"
		   ]
		  },
  {
"cell_type": "code",
	   "execution_count": null,
	   "metadata": {
	    "collapsed": true
	   },
	   "outputs": [],
"source": [
"//Chapter-12, Example 12.16, Page 532\n",
"//=============================================================================\n",
"clc\n",
"clear\n",
"\n",
"//INPUT DATA\n",
"A=15.82;//Total outside area of heat exchanger in m^2\n",
"Thi=110;//Inlet temperature of oil in degree C\n",
"Ch=1900;//Specific heat of oil in J/kg.K\n",
"mh=170.9;//Mass flow rate of oil in kg/min\n",
"mc=68;//Mass flow rate of water in kg/min\n",
"Tci=35;//Inlet temperature of water in degree C\n",
"U=320;//Overall heat transfer coefficient in W/m^2.K\n",
"Cc=4186;//Specific heat of water in J/kg.K\n",
"\n",
"//CALCULATIONS\n",
"C1=((mh*Ch)/60);//Heat capacity of oil in W/K\n",
"C2=((mc*Cc)/60);//Heat capacity of water in W/K\n",
"D=(U*A*((1/C1)-(1/C2)));//Constant\n",
"r=(C1/C2);//Ratio of heat capacity of oil and water\n",
"Tho=Thi-(((Thi-Tci)*(1-exp(D)))/(r-exp(D)));//Outlet temperature of oil in degree C\n",
"Tco=Tci+(r*(Thi-Tho));//Outlet temperature of water in degree C\n",
"\n",
"//OUTPUT\n",
"mprintf('The exit temperature of oil is %3.2f degree C \n The exit temperature of water is %3.1f degree C',Tho,Tco)\n",
"\n",
"//=================================END OF PROGRAM=============================="
   ]
   }
,
{
		   "cell_type": "markdown",
		   "metadata": {},
		   "source": [
			"## Example 12.17: Outlet_temperature.sce"
		   ]
		  },
  {
"cell_type": "code",
	   "execution_count": null,
	   "metadata": {
	    "collapsed": true
	   },
	   "outputs": [],
"source": [
"//Chapter-12, Example 12.17, Page 533\n",
"//=============================================================================\n",
"clc\n",
"clear\n",
"\n",
"//INPUT DATA\n",
"Tci=20;//Inlet temperature of water in degree C\n",
"Tco=50;//Outlet temperature of water in degree C\n",
"Th=120;//Temperature at which steam condenses in degree C\n",
"newTci=15;//New Inlet temperature of water in degree C\n",
"\n",
"//CALCULATIONS\n",
"newTco=(((Tco-Tci)*(Th-newTci))/(Th-Tci))+newTci;//New outlet temperature of water in degree C\n",
"\n",
"//OUTPUT\n",
"mprintf('New outlet temperature of water is %3.1f degree C',newTco)\n",
"\n",
"//=================================END OF PROGRAM=============================="
   ]
   }
,
{
		   "cell_type": "markdown",
		   "metadata": {},
		   "source": [
			"## Example 12.18: Diameter_and_length_of_heat_exchanger.sce"
		   ]
		  },
  {
"cell_type": "code",
	   "execution_count": null,
	   "metadata": {
	    "collapsed": true
	   },
	   "outputs": [],
"source": [
"//Chapter-12, Example 12.18, Page 534\n",
"//=============================================================================\n",
"clc\n",
"clear\n",
"\n",
"//INPUT DATA\n",
"T=100;//Total length of tubes in m\n",
"//ct=10000 Rs - Cost of the tubes in Rs\n",
"//cs=(15000*D^3*L) Cost of the shell in Rs\n",
"//cf=(2000*D*L) Cost of the floor space occupied by the exchanger in Rs\n",
"\n",
"//CALCULATIONS\n",
"//Cost=(ct+cs+cf) Total first cost in Rs\n",
"//Cost=(10000+(15000*D^3*L)+(2000*D*L))\n",
"//The constraint requires the heat exchanger to include 100m tubes such that (((3.1414*D^2)/4)*L*200)=100\n",
"//L=(2/(3.1415*D^2))\n",
"//Substitute L in the equation in line 8\n",
"//Cost=(10000+(15000*D^3*(2/(3.1415*D^2)))+(2000*D*(2/(3.1415*D^2))))\n",
"//Cost=(10000+((30000*D)/3.1415)+(4000/(3.1415*D)))\n",
"//For optimizaation partial derivative of Cost w.r.t D should be zero\n",
"//((30000/3.1415)-(4000/(3.1415*D^2)))=0\n",
"D=((3.1415*4000)/(3.1415*30000))^0.5;//Diameter of the exchanger in m\n",
"L=(2/(3.1415*D^2));//Length of the exchanger in m\n",
"Cost=(10000+(15000*D^3*L)+(2000*D*L));//Optimal cost in Rs\n",
"\n",
"//Output\n",
"mprintf('The diameter of the exchanger is %3.3f m \n The Length of the exchanger is %3.2f m \n Optimal cost is %3.0f Rs',D,L,Cost)\n",
"\n",
"//=================================END OF PROGRAM=============================="
   ]
   }
,
{
		   "cell_type": "markdown",
		   "metadata": {},
		   "source": [
			"## Example 12.1: Overall_heat_transfer_coefficient.sce"
		   ]
		  },
  {
"cell_type": "code",
	   "execution_count": null,
	   "metadata": {
	    "collapsed": true
	   },
	   "outputs": [],
"source": [
"//Chapter-12, Example 12.1, Page 503\n",
"//=============================================================================\n",
"clc\n",
"clear\n",
"\n",
"//INPUT\n",
"T=80;//Bulk Temperature of water in degrees C\n",
"Di=0.0254;//Inner diameter of steel pipe in m\n",
"Do=0.0288;//Outer diameter of steel pipe in m\n",
"k=50;//Thermal conductivity of steel in W/m.K\n",
"ho=30800;//Average convection coefficient in W/m^2.K\n",
"v=0.50;//Velocity of water in m/s\n",
"\n",
"//INPUT DATA FROM HEAT AND MASS TRANSFER DATA BOOK FOR WATER AT BULK TEMPERATURE OF 80 degree C\n",
"d=974;//Density in kg/m^3\n",
"v1=0.000000364;//Kinematic viscosity in m^2/s\n",
"k1=0.6687;//Thermal conductivity in W/m.K\n",
"Pr=2.2;//Prantl Number\n",
"\n",
"//CALCULATIONS\n",
"Re=(v*Di)/v1;//Reynold's number\n",
"Nu=(0.023*Re^0.8*Pr^0.4);//Nusselts number\n",
"hi=Nu*(k1/Di);//Heat transfer coefficient in W/m^2.K\n",
"ri=(Di/2);//Inner radius of steel pipe in m\n",
"ro=(Do/2);//Outer radius of steel pipe in m\n",
"U=(1/((1/ho)+((ro/k)*log(ro/ri))+(ro/(ri*hi))));//Overall heat transfer coefficient in W/m^2.K\n",
"\n",
"//OUTPUT\n",
"mprintf('Overall heat transfer coefficient is %3.1f W/m^2.K',U)\n",
"\n",
"//=================================END OF PROGRAM==============================\n",
""
   ]
   }
,
{
		   "cell_type": "markdown",
		   "metadata": {},
		   "source": [
			"## Example 12.2: Overall_heat_transfer_coefficient.sce"
		   ]
		  },
  {
"cell_type": "code",
	   "execution_count": null,
	   "metadata": {
	    "collapsed": true
	   },
	   "outputs": [],
"source": [
"//Chapter-12, Example 12.2, Page 504\n",
"//=============================================================================\n",
"clc\n",
"clear\n",
"\n",
"//INPUT DATA\n",
"Do=0.0254;//Outer Diameter of heat exchanger tube in m\n",
"Di=0.02286;//Inner Diameter of heat exchanger tube in m\n",
"k=102;//Thermal conductivity of the tube in W/m.K\n",
"hi=5500;//Heat transfer coefficients at the inner side of tube in W/m^2.K\n",
"ho=3800;//Heat transfer coefficients at the outer side of tube in W/m^2.K\n",
"Rfi=0.0002;//Fouling factor in m^2.W.K\n",
"Rfo=0.0002;//Fouling factor in m^2.W.K\n",
"\n",
"//CALCULATIONS\n",
"ro=(Do/2);//Outer radius of heat exchanger tube in m\n",
"ri=(Di/2);//Inner radius of heat exchanger tube in m\n",
"U=(1/((1/ho)+Rfo+((ro/k)*log(ro/ri))+((ro*Rfi)/ri)+(ro/(ri*hi))));//Overall heat transfer coefficient in W/m^2.K\n",
"\n",
"//OUTPUT\n",
"mprintf('Overall heat transfer coefficient is %i W/m^2.K',U)\n",
"\n",
"//=================================END OF PROGRAM==============================\n",
""
   ]
   }
,
{
		   "cell_type": "markdown",
		   "metadata": {},
		   "source": [
			"## Example 12.3: Heat_exchanger_area.sce"
		   ]
		  },
  {
"cell_type": "code",
	   "execution_count": null,
	   "metadata": {
	    "collapsed": true
	   },
	   "outputs": [],
"source": [
"//Chapter-12, Example 12.3, Page 509\n",
"//=============================================================================\n",
"clc\n",
"clear\n",
"\n",
"//INPUT DATA\n",
"mh=10000;//Mass flow rate of oil in kg/h\n",
"ch=2095;//Specific heat of oil J/kg.K\n",
"Thi=80;//Inlet temperature of oil in degree C\n",
"Tho=50;//Outlet temperature of oil in degree C\n",
"mc=8000;//Mass flow rate of water in kg/h\n",
"Tci=25;//Inlet temperature of water in degree C\n",
"U=300;//Overall heat ransfer coefficient in W/m^2.K\n",
"cc=4180;//Specific heat of water in J/kg.K\n",
"\n",
"//CALCULATIONS\n",
"Q=(mh*ch*(Thi-Tho));//Heat transfer rate in W\n",
"Tco=((Q/(mc*cc))+Tci);//Outlet temperature of water in degree C\n",
"T=(Thi-Tco);//Temperature difference between oil inlet temperature and water outlet temperature in degree C\n",
"t=(Tho-Tci);//Temperature difference between oil outlet temperature and water inlet temperature in degree C\n",
"A=(((Q/U)*log(t/T))/(3600*(t-T)));//Area of heat exchanger in m^2\n",
"\n",
"//OUTPUT\n",
"mprintf('Area of heat exchanger is %3.2f m^2',A)\n",
"\n",
"//=================================END OF PROGRAM=============================="
   ]
   }
,
{
		   "cell_type": "markdown",
		   "metadata": {},
		   "source": [
			"## Example 12.4: Heat_exchanger_area.sce"
		   ]
		  },
  {
"cell_type": "code",
	   "execution_count": null,
	   "metadata": {
	    "collapsed": true
	   },
	   "outputs": [],
"source": [
"//Chapter-12, Example 12.4, Page 510\n",
"//=============================================================================\n",
"clc\n",
"clear\n",
"\n",
"//INPUT DATA\n",
"Ch=2500;//Capacity rate of hot oil in W/K\n",
"Thi=360;//Temperature of hot fluid at the entrance of heat exchanger in degree C\n",
"Tho=300;//Temperature of hot fluid at the exit of heat exchanger in degree C\n",
"Tci=30;//Temperature of cold fluid at the entrance of heat exchanger in degree C\n",
"Tco=200;//Temperature of hot fluid at the exit of heat exchanger in degree C\n",
"U=800;//Overall heat transfer coefficient in W/m^2.K\n",
"\n",
"//CALCULATIONS\n",
"Q=(Ch*(Thi-Tho));//Heat transfer from the oil in W\n",
"//Parallel flow\n",
"T1=Thi-Tci;//Temperature difference between hot fluid inlet temperature and cold fluid inlet temperature in degree C\n",
"T2=Tho-Tco;//Temperature difference between hot fluid outlet temperature and cold fluid outlet temperature in degree C\n",
"Tlm1=((T1-T2)/log(T1/T2));//LMTD for parallel flow arrangement in degree C\n",
"A1=(Q/(U*Tlm1));//Area of heat exchanger in m^2\n",
"//Counter flow\n",
"t1=Thi-Tco;//Temperature difference between hot fluid inlet temperature and cold fluid outlet temperature in degree C\n",
"t2=Tho-Tci;//Temperature difference between hot fluid outlet temperature and cold fluid inlet temperature in degree C\n",
"Tlm2=((t1-t2)/log(t1/t2));//LMTD for counter flow arrangement in degree C\n",
"A2=(Q/(U*Tlm2));//Area of heat exchanger in m^2\n",
"\n",
"//OUTPUT\n",
"mprintf('Area of heat exchanger in parallel flow arrangement is %3.3f m^2 \n Area of heat exchanger in counter flow arrangement is %3.3f m^2',A1,A2)\n",
"\n",
"//=================================END OF PROGRAM=============================="
   ]
   }
,
{
		   "cell_type": "markdown",
		   "metadata": {},
		   "source": [
			"## Example 12.5: Length_of_heat_exchanger.sce"
		   ]
		  },
  {
"cell_type": "code",
	   "execution_count": null,
	   "metadata": {
	    "collapsed": true
	   },
	   "outputs": [],
"source": [
"//Chapter-12, Example 12.5, Page 511\n",
"//=============================================================================\n",
"clc\n",
"clear\n",
"\n",
"//INPUT DATA\n",
"ch=2130;//Specific heat of oil in J/kg.K\n",
"T1=160;//Temperature of hot fluid (oil) at the entrance of heat exchanger in degree C\n",
"T2=60;//Temperature of hot fluid (oil) at the exit of heat exchanger in degree C\n",
"t1=25;//Temperature of cold fluid (water) at the entrance of heat exchanger in degree C\n",
"d=0.5;//Inner diameter of the tube in m\n",
"mc=2;//Mass flow rate of cooling water in kg/s\n",
"D=0.7;//outer annulus outer diameter in m\n",
"mh=2;//Mass flow rate of hot oil in kg/s\n",
"U=250;//Overall heat transfer coefficient in W/m^2.K\n",
"cc=4186;//Specific heat of water in J/kg.K\n",
"\n",
"//CALCULATIONS\n",
"Q=(mh*ch*(T1-T2));// Required heat transfer rate in W\n",
"t2=((Q/(mc*cc))+t1);//Outer water temperature in degree C\n",
"T=T1-t2;//Change in temperature between inlet tmperature of hot fluid and outlet temperature of cold fluid in degree C\n",
"t=T2-t1;//Change in temperature between outlet tmperature of hot fluid and inlet temperature of cold fluid in degree C\n",
"Tlm=((T-t)/(log(T/t)));//Value of LMTD in degree C\n",
"L=(Q/(U*3.14*d*Tlm));//Length of the heat exchanger in m\n",
"\n",
"//OUTPUT\n",
"mprintf('Length of the heat exchanger is %3.2f m',L)\n",
"\n",
"//=================================END OF PROGRAM=============================="
   ]
   }
,
{
		   "cell_type": "markdown",
		   "metadata": {},
		   "source": [
			"## Example 12.6: Surface_area_and_rate_of_condensation_of_steam.sce"
		   ]
		  },
  {
"cell_type": "code",
	   "execution_count": null,
	   "metadata": {
	    "collapsed": true
	   },
	   "outputs": [],
"source": [
"//Chapter-12, Example 12.6, Page 512\n",
"//=============================================================================\n",
"clc\n",
"clear\n",
"\n",
"//INPUT DATA\n",
"T=120;//Saturated steam temperature in degree C\n",
"U=1800;//Heat transfer coefficient in W/m^2.K\n",
"m=1000;//mass flow rate of water in kg/h\n",
"t1=20;//Inlet temperature of water in degree C\n",
"t2=90;//Outlet tmperature of water in degree C\n",
"hfg=2200;//Enthalpy of steam in kJ/kg\n",
"c=4186;//Specific het of water in J/kg.K\n",
"\n",
"//CALCULATIONS\n",
"Tlm=(((T-t1)-(T-t2))/(log((T-t1)/(T-t2))));//LMTD in a condenser in degree C\n",
"Q=((m/3600)*c*(t2-t1));//Rate of heat transfer in W\n",
"A=(Q/(U*Tlm));//Surface area of heat exchanger in m^2 \n",
"ms=((Q*3600)/(hfg*1000));//Rate of condensation of steam in kg/h\n",
"\n",
"//OUTPUT\n",
"mprintf('Surface area of heat exchanger is %3.2f m^2 \n Rate of condensation of steam is %3.1f kg/h',A,ms)\n",
"\n",
"//=================================END OF PROGRAM=============================="
   ]
   }
,
{
		   "cell_type": "markdown",
		   "metadata": {},
		   "source": [
			"## Example 12.7: Effective_log_mean_temperature_difference.sce"
		   ]
		  },
  {
"cell_type": "code",
	   "execution_count": null,
	   "metadata": {
	    "collapsed": true
	   },
	   "outputs": [],
"source": [
"//Chapter-12, Example 12.7, Page 516\n",
"//=============================================================================\n",
"clc\n",
"clear\n",
"\n",
"//INPUT DATA\n",
"T=100;//Temperature of saturated steam in degree C\n",
"t1=30;//Inlet temperature of water in degree C\n",
"t2=70;//Exit temperature of water in degree C\n",
"\n",
"//CALCULATIONS\n",
"//COUNTER FLOW\n",
"Tc=(T-t2);//Temperature difference between saturated steam and exit water temperature in degree C\n",
"tc=(T-t1);//Temperature difference between saturated steam and inlet water temperature in degree C\n",
"Tlmc=((Tc-tc)/log(Tc/tc));//LMTD for counter flow in degree C\n",
"//PARALLEL FLOW\n",
"Tp=(T-t1);//Temperature difference between saturated steam and inlet water temperature in degree C\n",
"tp=(T-t2);//Temperature difference between saturated steam and exit water temperature in degree C\n",
"Tlmp=((Tp-tp)/log(Tp/tp));//LMTD for counter flow in degree C\n",
"//CROSS FLOW\n",
"R=((T-T)/(t2-t1));//R value for Correction factor F\n",
"P=((t2-t1)/(T-t1));//P value for Correction Factor F\n",
"F=1;//Referring to Fig.12.12 in page no 515\n",
"Tlmx=(F*Tlmc);//LMTD for cross flow in degree C\n",
"\n",
"//OUTPUT\n",
"mprintf('The effective log mean temperature difference for: \n i)COUNTER FLOW is %3.1f degree C \n ii)PARALLEL FLOW is %3.1f degree C \n iii)CROSS FLOW is %3.1f degree C',Tlmc,Tlmp,Tlmx)\n",
"\n",
"//=================================END OF PROGRAM=============================="
   ]
   }
,
{
		   "cell_type": "markdown",
		   "metadata": {},
		   "source": [
			"## Example 12.8: Area_of_heat_exchanger.sce"
		   ]
		  },
  {
"cell_type": "code",
	   "execution_count": null,
	   "metadata": {
	    "collapsed": true
	   },
	   "outputs": [],
"source": [
"//Chapter-12, Example 12.8, Page 516\n",
"//=============================================================================\n",
"clc\n",
"clear\n",
"\n",
"//INPUT DATA\n",
"Ti=18;//Inlet temperature of Shell fluid in degree C\n",
"To=6.5;//Outlet temperature of Shell fluid in degree C\n",
"ti=-1.1;//Inlet temperature of Tube fluid in degree C\n",
"to=2.9;//Outlet temperature of Tube fluid in degree C\n",
"U=850;//Overall heat transfer coefficient in W/m^2.K\n",
"Q=6000;//Design heat load in W\n",
"\n",
"//CALCULATIONS\n",
"T=(Ti-to);//Temperature difference between shell side inlet fluid and tube side outlet fluid in degree C\n",
"t=(To-ti);//Temperature difference between shell side outlet fluid and tube side inlet fluid in degree C\n",
"Tlm=((T-t)/log(T/t));//LMTD for a counterflow arrangement in degree C\n",
"P=((to-ti)/(Ti-ti));//P value to calculate correction factor\n",
"R=((Ti-To)/(to-ti));//R value to calculate correction factor\n",
"F=0.97//Taking correction factor from fig. 12.9 on page no.514\n",
"A=(Q/(U*F*Tlm));//Area of shell aand tube heat exchanger in m^2\n",
"\n",
"//OUTPUT\n",
"mprintf('Area of shell-and-tube heat exchanger is %3.2f m^2',A)\n",
"\n",
"//=================================END OF PROGRAM=============================="
   ]
   }
,
{
		   "cell_type": "markdown",
		   "metadata": {},
		   "source": [
			"## Example 12.9: Area_of_heat_exchanger.sce"
		   ]
		  },
  {
"cell_type": "code",
	   "execution_count": null,
	   "metadata": {
	    "collapsed": true
	   },
	   "outputs": [],
"source": [
"//Chapter-12, Example 12.9, Page 517\n",
"//=============================================================================\n",
"clc\n",
"clear\n",
"\n",
"//INPUT DATA\n",
"Q=6000;//Taking design heat load value in W from Example no. 12.8 on page no.516\n",
"U=850;//Taking overall heat transfer coefficient value in W/m^2.K from Example no. 12.8 on page no.516\n",
"Tlm=10.92//Taking LMTD for a counterflow arrangement in degree C from Example no. 12.8 on page no.517\n",
"R=2.875;//Taking R value from Example no. 12.8 on page no.517\n",
"P=0.209;//Taking P value from Example no. 12.8 on page no.517\n",
"F=0.985;//Taking correction factor from Fig. 12.10 on page no.514\n",
"\n",
"//CALCULATIONS\n",
"A=(Q/(U*F*Tlm));//Area of shell-and-tube heat exchanger in m^2\n",
"\n",
"//OUTPUT\n",
"mprintf('Area of shell aand tube heat exchanger is %3.3f m^2',A)\n",
"\n",
"//=================================END OF PROGRAM=============================="
   ]
   }
],
"metadata": {
		  "kernelspec": {
		   "display_name": "Scilab",
		   "language": "scilab",
		   "name": "scilab"
		  },
		  "language_info": {
		   "file_extension": ".sce",
		   "help_links": [
			{
			 "text": "MetaKernel Magics",
			 "url": "https://github.com/calysto/metakernel/blob/master/metakernel/magics/README.md"
			}
		   ],
		   "mimetype": "text/x-octave",
		   "name": "scilab",
		   "version": "0.7.1"
		  }
		 },
		 "nbformat": 4,
		 "nbformat_minor": 0
}
