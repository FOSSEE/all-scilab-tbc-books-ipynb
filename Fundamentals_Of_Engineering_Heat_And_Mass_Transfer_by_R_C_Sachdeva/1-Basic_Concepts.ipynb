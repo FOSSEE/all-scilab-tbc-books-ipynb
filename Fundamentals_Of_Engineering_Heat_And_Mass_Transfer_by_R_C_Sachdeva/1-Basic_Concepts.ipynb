{
"cells": [
 {
		   "cell_type": "markdown",
	   "metadata": {},
	   "source": [
       "# Chapter 1: Basic Concepts"
	   ]
	},
{
		   "cell_type": "markdown",
		   "metadata": {},
		   "source": [
			"## Example 1.1: Rate_of_heat_transfer.sce"
		   ]
		  },
  {
"cell_type": "code",
	   "execution_count": null,
	   "metadata": {
	    "collapsed": true
	   },
	   "outputs": [],
"source": [
"//Chapter-1, Example 1.1, Page 9\n",
"//=============================================================================\n",
"clc\n",
"clear\n",
"\n",
"//INPUT DATA\n",
"L=0.02;//Thicness of stainless steel plate in m\n",
"T=[550,50];//Temperatures at both the faces in degree C\n",
"k=19.1;//Thermal Conductivity of stainless steel at 300 degree C in W/m.K\n",
"\n",
"//CALC9ULATIONS\n",
"q=((k*(T(1)-T(2)))/(L*1000));//Heat transfered per uni area in kW/m^2\n",
"\n",
"//OUTPUT\n",
"mprintf('The heat transfered through the material per unit area is %3.1f kW/m^2',q)\n",
"\n",
"//=================================END OF PROGRAM=============================="
   ]
   }
,
{
		   "cell_type": "markdown",
		   "metadata": {},
		   "source": [
			"## Example 1.2: Rate_of_heat_transfer.sce"
		   ]
		  },
  {
"cell_type": "code",
	   "execution_count": null,
	   "metadata": {
	    "collapsed": true
	   },
	   "outputs": [],
"source": [
"//Chapter-1, Example 1.2, Page 11\n",
"//=============================================================================\n",
"clc\n",
"clear\n",
"\n",
"//INPUT DATA\n",
"L=1;//Length of the flat plate in m\n",
"w=0.5;//Width of the flat plate in m\n",
"T=30;//Air stream temperature in degree C\n",
"h=30;//Convective heat transfer coefficient in W/m^2.K\n",
"Ts=300;//Temperature of the plate in degree C\n",
"\n",
"//CALCULATIONS\n",
"A=(L*w);//Area of the plate in m^2\n",
"Q=(h*A*(Ts-T)/(1000));//Heat transfer in kW\n",
"\n",
"//OUTPUT\n",
"mprintf('Heat transfer rate is %3.2f kW',Q)\n",
"\n",
"//=================================END OF PROGRAM=============================="
   ]
   }
,
{
		   "cell_type": "markdown",
		   "metadata": {},
		   "source": [
			"## Example 1.3: Rate_of_radiant_heat.sce"
		   ]
		  },
  {
"cell_type": "code",
	   "execution_count": null,
	   "metadata": {
	    "collapsed": true
	   },
	   "outputs": [],
"source": [
"//Chapter-1, Example 1.3, Page 11\n",
"//=============================================================================\n",
"clc\n",
"clear\n",
"\n",
"//INPUT DATA\n",
"T=55;//Surface temperature in degree C\n",
"\n",
"//CALCULATIONS\n",
"q=(5.6697*10^-8*(273+T)^4)/1000;//The rate at which the radiator emits radiant heat per unit area if it behaves as a black body in kW/m^2\n",
"\n",
"//OUTPUT\n",
"mprintf('The rate at which the radiator emits radiant heat per unit area is %3.2f kW/m^2',q)\n",
"\n",
"//=================================END OF PROGRAM=============================="
   ]
   }
,
{
		   "cell_type": "markdown",
		   "metadata": {},
		   "source": [
			"## Example 1.5: Overall_heat_transfer_coefficient.sce"
		   ]
		  },
  {
"cell_type": "code",
	   "execution_count": null,
	   "metadata": {
	    "collapsed": true
	   },
	   "outputs": [],
"source": [
"//Chapter-1, Example 1.5, Page 20\n",
"//=============================================================================\n",
"clc\n",
"clear\n",
"\n",
"//INPUT DATA\n",
"k=0.145;//Thermal conductivity of Firebrick in W/m.K\n",
"e=0.85;//Emissivity\n",
"L=0.145;//Thickness of the wall in m\n",
"Tg=800;//Gas temperature in degree C\n",
"Twg=798;//Wall temperature ion gas side in degree C\n",
"hg=40;//Film conductance on gas side in W/m^2.K\n",
"hc=10;//Film conductance on coolant side in W/m^2.K\n",
"F=1;//Radiation Shape factor between wall and gas\n",
"\n",
"//CALCULATIONS\n",
"R1=(((e*5.67*10^-8*F*((Tg+273)^4-(Twg+273)^4))/(Tg-Twg))+(1/hg));//Thermal resistance inverse\n",
"R2=(L/k);//Thermal resistance\n",
"R3=(1/hc);//Thermal resistance\n",
"U=1/((1/R1)+R2+R3);//Overall heat transfer coefficient in W/m^2.K\n",
"\n",
"//OUTPUT\n",
"mprintf('Overall heat transfer coefficient is %3.3f W/m^2.K',U)"
   ]
   }
,
{
		   "cell_type": "markdown",
		   "metadata": {},
		   "source": [
			"## Example 1.6: Heat_loss_per_unit_length.sce"
		   ]
		  },
  {
"cell_type": "code",
	   "execution_count": null,
	   "metadata": {
	    "collapsed": true
	   },
	   "outputs": [],
"source": [
"//Chapter-1, Example 1.6, Page 21\n",
"//=============================================================================\n",
"clc\n",
"clear\n",
"\n",
"//INPUT DATA\n",
"D=0.05;//Outside diameter of the pipe in m\n",
"e=0.8;//Emmissivity\n",
"T=30;//Room Temperature in degree C\n",
"Ts=250;//Surface temperature in degree C\n",
"h=10;//Convective heat transfer coefficient in W/m^2.K\n",
"\n",
"//CALCULATIONS\n",
"q=((h*3.14*D*(Ts-T))+(e*3.14*D*5.67*10^-8*((Ts+473)^4-(T+273)^4)));//Heat loss per unit length of pipe in W/m\n",
"\n",
"//OUTPUT\n",
"mprintf('Heat loss per unit length of pipe is %3.1f W/m',q) \n",
"\n",
"//=================================END OF PROGRAM=============================="
   ]
   }
,
{
		   "cell_type": "markdown",
		   "metadata": {},
		   "source": [
			"## Example 1.7: Surface_temperature.sce"
		   ]
		  },
  {
"cell_type": "code",
	   "execution_count": null,
	   "metadata": {
	    "collapsed": true
	   },
	   "outputs": [],
"source": [
"//Chapter-1, Example 1.7, Page 21\n",
"//=============================================================================\n",
"clc\n",
"clear\n",
"\n",
"//INPUT DATA\n",
"A=0.1;//Surface area of water heater in m^2\n",
"Q=1000;//Heat transfer rate in W\n",
"Twater=40;//Temperature of water in degree C\n",
"h1=300;//Heat transfer coefficient in W/m^2.K\n",
"Tair=40;//Temperature of air in degree C\n",
"h2=9;//Heat transfer coefficient in W/m^2.K \n",
"\n",
"//CALCULATIONS\n",
"Tsw=(Q/(h1*A))+Twater;//Temperature when used in water in degree C\n",
"Tsa=(Q/(h2*A))+Tair;//Temperature when used in air in degree C\n",
"\n",
"//OUTPUT\n",
"mprintf('Temperature when used in water is %3.1f degree C \n Temperature when used in air is %i degree C',Tsw,Tsa)\n",
"\n",
"//=================================END OF PROGRAM=============================="
   ]
   }
],
"metadata": {
		  "kernelspec": {
		   "display_name": "Scilab",
		   "language": "scilab",
		   "name": "scilab"
		  },
		  "language_info": {
		   "file_extension": ".sce",
		   "help_links": [
			{
			 "text": "MetaKernel Magics",
			 "url": "https://github.com/calysto/metakernel/blob/master/metakernel/magics/README.md"
			}
		   ],
		   "mimetype": "text/x-octave",
		   "name": "scilab",
		   "version": "0.7.1"
		  }
		 },
		 "nbformat": 4,
		 "nbformat_minor": 0
}
