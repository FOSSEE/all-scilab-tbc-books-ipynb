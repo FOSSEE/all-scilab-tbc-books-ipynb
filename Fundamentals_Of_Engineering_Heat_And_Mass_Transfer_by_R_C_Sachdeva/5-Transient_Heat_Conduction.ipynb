{
"cells": [
 {
		   "cell_type": "markdown",
	   "metadata": {},
	   "source": [
       "# Chapter 5: Transient Heat Conduction"
	   ]
	},
{
		   "cell_type": "markdown",
		   "metadata": {},
		   "source": [
			"## Example 5.10: Temperature.sce"
		   ]
		  },
  {
"cell_type": "code",
	   "execution_count": null,
	   "metadata": {
	    "collapsed": true
	   },
	   "outputs": [],
"source": [
"//Chapter-5, Example 5.10, Page 178\n",
"//=============================================================================\n",
"clc\n",
"clear\n",
"\n",
"\n",
"//INPUT DATA\n",
"q=(0.3*10^6);//Heat flux in W/m^2\n",
"t=(10/60);//Time taken for heat transfer in s\n",
"Ti=30;//Initial temperature of the slab in degree C\n",
"x=0.2;//Distance of the plane from the surface in m\n",
"k=386;//Thermal conductivity in W/m.K\n",
"a=0.404;//Thermal diffusivity in m^2/h\n",
"\n",
"//CALCULATIONS\n",
"Ts=((q*sqrt(3.14*a*t))/k)+Ti;//Surface temperature in degree C\n",
"X=(x/(2*sqrt(a*t)));//X for calculating erf function\n",
"Y=0.4134;//Taking ref(0.385)=0.4134 from table 5.1 on page no. 175\n",
"T=Ts-(Y*(Ts-Ti));//Tempertaure at a distance of 20 cm from the surface after 10 min in degree C\n",
"\n",
"//OUTPUT\n",
"mprintf('Tempertaure at a distance of 20 cm from the surface after 10 min is %3.2f degree C',T)\n",
"\n",
"//=================================END OF PROGRAM=============================="
   ]
   }
,
{
		   "cell_type": "markdown",
		   "metadata": {},
		   "source": [
			"## Example 5.11: Time_required_and_depth.sce"
		   ]
		  },
  {
"cell_type": "code",
	   "execution_count": null,
	   "metadata": {
	    "collapsed": true
	   },
	   "outputs": [],
"source": [
"//Chapter-5, Example 5.11, Page 178\n",
"//=============================================================================\n",
"clc\n",
"clear\n",
"\n",
"\n",
"//INPUT DATA\n",
"a=0.405;//Thermal diffusivity in m^2/h\n",
"Ti=100;//Initial temperture in degree C\n",
"Tf=0;//Final tempertaure in degree C\n",
"Tg=(4*100);//Temperature gradient in degree C/m\n",
"t1=1;//Time taken in m\n",
"\n",
"//CALCULATIONS\n",
"t=(Ti-Tf)^2/(Tg^2*3.14*a);//Time required for the temperature gradient at the surface to reach 4 degree/cm in h\n",
"x=sqrt(2*a*(t1/60));//The depth at which the rate of cooling is maximum after 1 minute in m\n",
"\n",
"//OUTPUT\n",
"mprintf('Time required for the temperature gradient at the surface to reach 4 degree/cm is %3.3f h \n The depth at which the rate of cooling is maximum after 1 minute is %3.4f m',t,x)\n",
"\n",
"//=================================END OF PROGRAM=============================="
   ]
   }
,
{
		   "cell_type": "markdown",
		   "metadata": {},
		   "source": [
			"## Example 5.12: Temperature_and_total_thermal_energy.sce"
		   ]
		  },
  {
"cell_type": "code",
	   "execution_count": null,
	   "metadata": {
	    "collapsed": true
	   },
	   "outputs": [],
"source": [
"//Chapter-5, Example 5.12, Page 185\n",
"//=============================================================================\n",
"clc\n",
"clear\n",
"\n",
"\n",
"//INPUT DATA\n",
"x=0.1;//Thickness of the slab in m\n",
"Ti=500;//Initial temperature in degree C\n",
"Tl=100;//Liquid temperature in degree C\n",
"h=1200;//Heat transfer coefficient in W/m^2.K\n",
"t=(1*60);//Time for immersion in s\n",
"k=215;//Thermal conductivity in W/m.K\n",
"a=(8.4*10^-5);//Thermal diffusivity in m^2/h\n",
"c=900;//Specific heat in J/kg/K\n",
"p=2700;//Density in kg/m^3\n",
"\n",
"//CALCULATIONS\n",
"X=(a*t)/(x/2)^2;//Calculation for input in Heisler charts\n",
"B=(k/(h*(x/2)));//Calculation for input in Heisler charts\n",
"T1=0.68;//T value taken from Fig. 5.7 on page no. 183\n",
"Tc1=(T1*(Ti-Tl));//Temperature in degree C\n",
"To=Tc1+Tl;//Temperature in degree C\n",
"T2=0.880;//From Fig 5.8 on page no. 184 at x/L=1.0 and for k/hL=3.583, tempertaure in degree C\n",
"Tc2=(T2*(To-Tl))+Tl;//Temperature in degree C \n",
"Y=(h^2*a*t)/(k^2);//Y to calculate the energy losses\n",
"Bi=(h*(x/2))/k;//Biot number\n",
"U=0.32;//U/Uo value from Fig. 5.9 on page no.185 \n",
"Uo=(p*c*x*(Ti-Tl));//For unit area in J/m^2\n",
"U1=(U*Uo)/(10^6);//Heat removed per unit surface area in MJ/m^2\n",
"\n",
"//OUTPUT\n",
"mprintf('Temperature at the centreline and the surface 1 minute after the immersion is %3.2f degree C \n Heat removed per unit surface area is %3.1f*10^6 J/m^2',Tc2,U1)\n",
"\n",
"//=================================END OF PROGRAM=============================="
   ]
   }
,
{
		   "cell_type": "markdown",
		   "metadata": {},
		   "source": [
			"## Example 5.13: Temperature.sce"
		   ]
		  },
  {
"cell_type": "code",
	   "execution_count": null,
	   "metadata": {
	    "collapsed": true
	   },
	   "outputs": [],
"source": [
"//Chapter-5, Example 5.13, Page 186\n",
"//=============================================================================\n",
"clc\n",
"clear\n",
"\n",
"\n",
"//INPUT DATA\n",
"D=0.12;//Diameter of cylinder in m\n",
"Ti=20;//Initial temperature in degree C\n",
"Tf=820;//Temperature of furnace in degree C\n",
"h=140;//Heat transfer coefficient in W/m^2.K\n",
"Ta=800;//Axis temperature in degree C\n",
"r=0.054;//Radius in m\n",
"k=21;//Thermal conductivity in W/m.K\n",
"a=(6.11*10^-6);//Thermal diffusivity in m^2/h\n",
"\n",
"//CALCULATIONS\n",
"Bi=(h*(D/2))/(2*k);//Biot number\n",
"T=(Ta-Tf)/(Ti-Tf);//Temperature distribution\n",
"Fo=5.2;//Using Fig.5.10, on page no.187 for 1/(2Bi)=2.5 \n",
"t=(Fo*(D/2)^2)/a;//Time required for the axis temperature to reach 800 degree C in s\n",
"r1=(r/(D/2));//Ratio at a radius of 5.4 cm\n",
"X=0.85;//From Fig.5.11 on page no. 188 the temperature at r=5.4 i sgiven by X\n",
"T1=X*(Ta-Tf)+Tf;//Temperature at a radius of 5.4 cm at that tim ein degree C\n",
"\n",
"//OUTPUT\n",
"mprintf('Time required for the axis temperature to reach 800 degree C is %3.0f s \nTemperature at a radius of 5.4 cm at that time is %i degree C',t,T1)\n",
"\n",
"//=================================END OF PROGRAM=============================="
   ]
   }
,
{
		   "cell_type": "markdown",
		   "metadata": {},
		   "source": [
			"## Example 5.14: Time_required_for_cooling.sce"
		   ]
		  },
  {
"cell_type": "code",
	   "execution_count": null,
	   "metadata": {
	    "collapsed": true
	   },
	   "outputs": [],
"source": [
"//Chapter-5, Example 5.14, Page 189\n",
"//=============================================================================\n",
"clc\n",
"clear\n",
"\n",
"\n",
"//INPUT DATA\n",
"r=0.01;//Radius of the mettalic sphere in m\n",
"Ti=400;//Initial temperature in degree C\n",
"h1=10;//Heat transfer coefficient in W/m^2.K\n",
"Ta=20;//Temperature of air in degree C\n",
"Tc=355;//Central temperature in degree C\n",
"Tw=20;//Temperature of water bath in degree C\n",
"h2=6000;//Heat transfer coefficient in W/m^2.K\n",
"Tf=50;//Final temperature of the sphere in degree C\n",
"k=20;//Thermal conductivity in W/m.K\n",
"a=(6.66*10^-6);//Thermal diffusivity in m^2/h\n",
"c=1000;//Specific heat in J/kg/K\n",
"p=3000;//Density in kg/m^3\n",
"\n",
"//CALCULATIONS\n",
"Bi1=(h1*r)/(3*k);//Biot number\n",
"t=((p*r*c*log((Ti-Ta)/(Tc-Ta)))/(3*h1));//Time required for cooling in air in s\n",
"Bi2=(h2*r)/(3*k);//Biot number\n",
"X=1/(3*Bi2);//X value for lumped capacity method\n",
"T=(Tf-Ta)/(Tc-Ta);//Temperature distribution\n",
"Fo=0.5;//Using Fig.5.13, on page no.190\n",
"t1=(Fo*r^2)/a;//Time required for cooling in water in s\n",
"Z=0.33;//Using Fig.5.14, on page no.191\n",
"Tr=Z*(Tf-Ta)+Ta;//Surface temperature at the end of cooling in degree C\n",
"\n",
"//OUTPUT\n",
"mprintf('Time required for cooling in air is %3.0f s \nTime required for cooling in water is %3.1f s \nSurface temperature at the end of cooling is %3.0f degree C',t,t1,Tr)\n",
"\n",
"//=================================END OF PROGRAM=============================="
   ]
   }
,
{
		   "cell_type": "markdown",
		   "metadata": {},
		   "source": [
			"## Example 5.15: Temperature.sce"
		   ]
		  },
  {
"cell_type": "code",
	   "execution_count": null,
	   "metadata": {
	    "collapsed": true
	   },
	   "outputs": [],
"source": [
"//Chapter-5, Example 5.15, Page 192\n",
"//=============================================================================\n",
"clc\n",
"clear\n",
"\n",
"\n",
"//INPUT DATA\n",
"Ti=250;//Temperature of aluminium slab in degree C\n",
"Tc=50;//Convective environment temperature in degree C\n",
"h=500;//Heat transfer coefficient in W/m^2.K\n",
"x=0.05;//Depth of the plane in m\n",
"t=(1*3600);//Time in s\n",
"k=215;//Thermal conductivity in W/m.K\n",
"a=(8.4*10^-5);//Thermal diffusivity in m^2/h\n",
"\n",
"//CALCULATIONS\n",
"X=(h*sqrt(a*t))/k;//X for calculating Temperature\n",
"Y=(x/(2*sqrt(a*t)));//Y for calculating Temperature\n",
"Z=0.62;//From Fig. 5.16 on page no.193\n",
"T=(Z*(Tc-Ti)+Ti);//Temperature at a depth of 5 cm after 1 hour in degree C\n",
"\n",
"//OUTPUT\n",
"mprintf('Temperature at a depth of 5 cm after 1 hour is %3.0f degree C',T)\n",
"\n",
"//=================================END OF PROGRAM=============================="
   ]
   }
,
{
		   "cell_type": "markdown",
		   "metadata": {},
		   "source": [
			"## Example 5.16: Centreline_temperature.sce"
		   ]
		  },
  {
"cell_type": "code",
	   "execution_count": null,
	   "metadata": {
	    "collapsed": true
	   },
	   "outputs": [],
"source": [
"//Chapter-5, Example 5.16, Page 196\n",
"//=============================================================================\n",
"clc\n",
"clear\n",
"\n",
"//INPUT DATA\n",
"D=0.08;//Diameter of the cylinder in m\n",
"L=0.16;//Length of the cylinder in m\n",
"Ti=800;//Initial tempertaure in degree C\n",
"Tm=30;//Temperature of the medium in degree C\n",
"h=120;//Heat transfer coefficient in W/m^2.K\n",
"t=(30*60);//Time for cooling in s\n",
"k=23.5;//Thermal conductivity in W/m.K\n",
"a=0.022;//Thermal diffusivity in m^2/h\n",
"\n",
"//CALCULATIONS\n",
"Bi2=(h*(D/2))/k;//2 times the Biot number\n",
"X=(a*t)/(D/2)^2;//X for calculating C(R)\n",
"CR=0.068;//From Fig.5.10 on page no.187\n",
"Bi1=(k/(h*L));//Biot number\n",
"Y=(a*t)/L^2;//Y for calculating P(X)\n",
"PX=0.54;//From Fig.5.7 on page no.183\n",
"T=CR*PX;//Temperature at the centre of the cylinder in degree C\n",
"T30=T*(Ti-Tm)+Tm;//Temperature at the centre of cylinder 30 minutes after cooling is initiated in degree C\n",
"\n",
"//OUTPUT\n",
"mprintf('Temperature at the centre of cylinder 30 minutes after cooling is initiated is %3.2f degree C',T30)\n",
"\n",
"//=================================END OF PROGRAM=============================="
   ]
   }
,
{
		   "cell_type": "markdown",
		   "metadata": {},
		   "source": [
			"## Example 5.17: Temperature.sce"
		   ]
		  },
  {
"cell_type": "code",
	   "execution_count": null,
	   "metadata": {
	    "collapsed": true
	   },
	   "outputs": [],
"source": [
"//Chapter-5, Example 5.17, Page 197\n",
"//=============================================================================\n",
"clc\n",
"clear\n",
"\n",
"\n",
"//INPUT DATA\n",
"L=[0.5,0.4,0.2];//Lengths of sides of a rectangular steel billet in m\n",
"Ti=30;//Initial temperature in degree C\n",
"Tf=1000;//Final temperature in degree C\n",
"t=(90*60);//Time for heating in s\n",
"h=185;//Heat transfer coefficient in W/m^2.K\n",
"k=37;//Thermal conductivity in W/m.K\n",
"a=0.025;//Thermal diffusivity in m^2/h\n",
"\n",
"//CALCULATIONS\n",
"L1=L/2;//L values of the parallelepiped in m\n",
"Bi1=(h*L(1))/k;//Biot number\n",
"X1=(a*t)/L(1)^2;//X1 for calculating P(X1)\n",
"PX1=0.68;//P(X1) value from From Fig.5.7 on page no.183\n",
"Bi2=(h*L(2))/k;//Biot number\n",
"X1=(a*t)/L(2)^2;//X1 for calculating P(X2)\n",
"PX2=0.57;//P(X2) value from From Fig.5.7 on page no.183\n",
"Bi3=(h*L(3))/k;//Biot number\n",
"Y=(1/Bi3);//Inverse of Biot number\n",
"X1=(a*t)/L(3)^2;//X1 for calculating P(X3)\n",
"PX3=0.22;//P(X3) value from From Fig.5.7 on page no.183\n",
"T=PX1*PX2*PX3;//Temperature at the centre of billet in degree C\n",
"T1=T*(Ti-Tf)+Tf;//Temperature at the centre of cylinder 90 minutes after heating is initiated in degree C\n",
"\n",
"//OUTPUT\n",
"mprintf('Temperature at the centre of cylinder 90 minutes after heating is initiated is %3.2f degree C',T1)\n",
"\n",
"//=================================END OF PROGRAM=============================="
   ]
   }
,
{
		   "cell_type": "markdown",
		   "metadata": {},
		   "source": [
			"## Example 5.18: Surface_temperature.sce"
		   ]
		  },
  {
"cell_type": "code",
	   "execution_count": null,
	   "metadata": {
	    "collapsed": true
	   },
	   "outputs": [],
"source": [
"//Chapter-5, Example 5.18, Page 202\n",
"//=============================================================================\n",
"clc\n",
"clear\n",
"\n",
"\n",
"//INPUT DATA\n",
"Ti=30;//Initial temperature of the slab in degree C\n",
"q=(2*10^5);//Constant heat flux in W/m^2\n",
"k=400;//Thermal conductivity in W/m.K\n",
"a=(117*10^-6);//Thermal diffusivity in m^2/h\n",
"n=0.075;//Nodal spacing in m\n",
"x=0.15;//Depth in m\n",
"t=(4*60);//Time elapsed in s\n",
"\n",
"//CALCULATION\n",
"R=(x^2/(a*t));//R value for t1\n",
"t1=(n^2/(R*a));//Value of t1 in s\n",
"To=121.9;//The surface temperature after 4 min in degree C from the table on page no. 203\n",
"T2=64;//Temperature at 0.15 m from the surface after 4 minutes in degree C from the table on page no. 203\n",
"\n",
"//OUTPUT\n",
"mprintf('The surface temperature after 4 min is %3.1f degree C \n Temperature at 0.15 m from the surface after 4 minutes is %i degree C',To,T2)\n",
"\n",
"//=================================END OF PROGRAM=============================="
   ]
   }
,
{
		   "cell_type": "markdown",
		   "metadata": {},
		   "source": [
			"## Example 5.19: Time_elapsed.sce"
		   ]
		  },
  {
"cell_type": "code",
	   "execution_count": null,
	   "metadata": {
	    "collapsed": true
	   },
	   "outputs": [],
"source": [
"//Chapter-5, Example 5.19, Page 205\n",
"//=============================================================================\n",
"clc\n",
"clear\n",
"\n",
"\n",
"//INPUT DATA\n",
"t=0.6;//Thickness of the wall in m\n",
"x=0.1;//x value taken from Fig.Ex. 5.19 on page no. 205\n",
"Ti=20;//Initial temperature in degree C\n",
"T=[150,300];//Temperatures of the sides of the wall in degree C\n",
"Tf=150;//Final temperature of the wall in degree C\n",
"a=(1.66*10^-3);//Thermal diffusivity in m^2/h\n",
"\n",
"//CALCULATIONS\n",
"t=(x^2/(2*a));//Length of one time increment in h\n",
"t1=(9*t);//Elapsed time in h\n",
"\n",
"//OUTPUT\n",
"mprintf('Elasped time before the centre of the wall attains a temperature of 150 degree C is %3.0f h',t1)\n",
"\n",
"//=================================END OF PROGRAM=============================="
   ]
   }
,
{
		   "cell_type": "markdown",
		   "metadata": {},
		   "source": [
			"## Example 5.1: Heat_transfer_and_temperature.sce"
		   ]
		  },
  {
"cell_type": "code",
	   "execution_count": null,
	   "metadata": {
	    "collapsed": true
	   },
	   "outputs": [],
"source": [
"//Chapter-5, Example 5.1, Page 159\n",
"//=============================================================================\n",
"clc\n",
"clear\n",
"\n",
"//INPUT DATA\n",
"t=0.5;//Thickness of slab in m\n",
"A=5;//Area of slab in m^2\n",
"k=1.2;//Thermal conductivity in W/m.K\n",
"a=0.00177;//Thermal diffusivity in m^2/h\n",
"//Remperarure distribution as T=60-50x+12x^2+20x^3-15x^4\n",
"\n",
"//CALCULATIONS\n",
"//Partial derivative of T w.r.t x is T'=-50+24x+60x^2-60x^3\n",
"//Partial derivative of T' w.r.t x is T''=24+120x+180x^2\n",
"//Partial derivative of T' w.r.t x is T'''=120-360x\n",
"x=0;\n",
"y=-50+(24*x)+(60*x^2)-(60*x^3);//Temperature when x=0\n",
"Qo=(-k*A*y);//Heat entering the slab in W \n",
"x=0.5;\n",
"y=-50+(24*x)+(60*x^2)-(60*x^3);//Temperature when x=0.5\n",
"QL=(-k*A*y);//Heat leaving the slab in W\n",
"R=(Qo-QL);//Rate of heat storage in W\n",
"x=0;\n",
"z1=24+(120*x)-(180*x^2);//T' when x=0\n",
"p1=(a*z1);//Rate of temperature change at one side of slab in degree C/h\n",
"x=0.5;\n",
"z2=24+(120*x)-(180*x^2);//T' when x=0.5\n",
"p2=(a*z2);//Rate of temperature change at one side of slab in degree C/h\n",
"//For the rate of heating or cooling to be maximum, T'''=0\n",
"x=(120/360);\n",
"\n",
"//OUTPUT\n",
"mprintf('a)i)Heat entering the slab is %i W\n ii)Heat leaving the slab is %i W\nb)Rate of heat storage is %i W\nc)i)Rate of temperature change at one side of slab is %3.4f degree C/h\n ii)Rate of temperature change at other side of slab is %3.4f degree C/h\nd)For the rate of heating or cooling to be maximum x= %3.2f',Qo,QL,R,p1,p2,x)\n",
"\n",
"//=================================END OF PROGRAM=============================="
   ]
   }
,
{
		   "cell_type": "markdown",
		   "metadata": {},
		   "source": [
			"## Example 5.20: Temperature.sce"
		   ]
		  },
  {
"cell_type": "code",
	   "execution_count": null,
	   "metadata": {
	    "collapsed": true
	   },
	   "outputs": [],
"source": [
"//Chapter-5, Example 5.20, Page 206\n",
"//=============================================================================\n",
"clc\n",
"clear\n",
"\n",
"\n",
"//INPUT DATA\n",
"k=0.175;//Thermal conductivity in W/m.K\n",
"a=(0.833*10^-7);//Thermal diffusivity in m^2/h\n",
"Th=144;//Heated temeparture in degree C\n",
"Tc=15;//Cooled temperature in degree C\n",
"x=0.02;//Thickness of the plate in m\n",
"h=65;//Heat transfer coefficient in W/m^2.K\n",
"t=(4*60);//Tiem elapsed in s\n",
"\n",
"//CALCULATIONS\n",
"s=0.002;//Space increment in m from FIg. Ex. 5.20 on page no. 207\n",
"t1=(s^2/(2*a));//Time increment for the space increment in s\n",
"x1=(k/h);//Convective film thickness in mm\n",
"Tn=114;//Temperature at the centre in degree C from Fig. Ex.5.20 on page no. 207\n",
"Ts=50;//Surface temperature in degree C from Fig. Ex.5.20 on page no. 207\n",
"\n",
"//OUTPUT\n",
"mprintf('Temperature at the centre is %i degree C \nSurface temperature is %i degree C',Tn,Ts)\n",
"\n",
"//=================================END OF PROGRAM=============================="
   ]
   }
,
{
		   "cell_type": "markdown",
		   "metadata": {},
		   "source": [
			"## Example 5.21: Amplitude_of_temperature_and_time_lag.sce"
		   ]
		  },
  {
"cell_type": "code",
	   "execution_count": null,
	   "metadata": {
	    "collapsed": true
	   },
	   "outputs": [],
"source": [
"//Chapter-5, Example 5.21, Page 213\n",
"//=============================================================================\n",
"clc\n",
"clear\n",
"\n",
"\n",
"//INPUT DATA\n",
"t=24;//Time period in h\n",
"T=[-10,10];//Range of temperatures in degree C\n",
"x=0.1;//Depth in m\n",
"c=1970;//Specific heat in J/kg/K\n",
"p=1000;//Density in kg/m^3\n",
"k=0.349;//Thermal conductivity in W/m.K\n",
"ta=5;//Time in h\n",
"\n",
"//CALCULATIONS\n",
"w=(2*3.14)/t;//Angular velocity in rad/h\n",
"Tm=(T(1)+T(2))/2;//Mean teperature in degree C\n",
"Tmax=T(2)-Tm;//Maximum temperature in degree C\n",
"a=((k*3600)/(p*c));//Thermal diffusivity in m^2/h\n",
"Txmax=Tmax*exp(-sqrt(w/(2*a))*x);//Amplitude of temperature variation in degree C\n",
"t1=sqrt(1/(2*a*w))*x;//Time lag of temperature wave at a depth of 0.1 m in h\n",
"t2=(3.14/w);//Time for surface temperature is minimum in h\n",
"t3=t2+ta;//Time in h\n",
"Tx=Tmax*exp(-sqrt(w/(2*a))*x)*cos((w*t3)-(x*x*sqrt(w/(2*a))));//Temperature at 0.1m 5 hours after the surface temperature reaches the minimum in degree C\n",
"\n",
"//OUTPUT\n",
"mprintf('Amplitude of temperature variation at a depth of 0.1m is %3.2f degree C \n Time lag of temperature wave at a depth of 0.1 m is %3.2f h \n Temperature at 0.1m 5 hours after the surface temperature reaches the minimum is %3.3f degree C',Txmax,t1,Tx)\n",
"\n",
"//=================================END OF PROGRAM=============================="
   ]
   }
,
{
		   "cell_type": "markdown",
		   "metadata": {},
		   "source": [
			"## Example 5.22: Time_lag_and_heat_flow.sce"
		   ]
		  },
  {
"cell_type": "code",
	   "execution_count": null,
	   "metadata": {
	    "collapsed": true
	   },
	   "outputs": [],
"source": [
"//Chapter-5, Example 5.22, Page 214\n",
"//=============================================================================\n",
"clc\n",
"clear\n",
"\n",
"//INPUT DATA\n",
"T=[800,200];//Limits in which temperature varies in degree C\n",
"t=12;//Cycle time in h\n",
"x=0.1;//Depth of penetration in m\n",
"k=1.8;//Thermal conductivity in W/m.K\n",
"a=0.02;//Thermal diffusivity in m^2/h\n",
"\n",
"//CALCULATIONS\n",
"w=(2*3.14)/t;//Angular velocity in rad/h\n",
"t1=sqrt(1/(2*a*w))*x;//Time lag in h\n",
"Tmax=(T(1)-T(2))/2;//Range of maximum temperature in degree C\n",
"q=((2*k*Tmax)/sqrt(w*a))*(3600/1000);//Heat flow through the surface in kJ/m^2\n",
"\n",
"//OUTPUT\n",
"mprintf('(i)Time lag of the temperature wave at a depth of 10 cm from the inner surface is %3.2f h \n(ii)The flow through a surface located at a distance of 10 cm from the surface during the first six hours interval while the temperature is above the mean value is %i kJ/m^2',t1,q) \n",
"\n",
"//=================================END OF PROGRAM=============================="
   ]
   }
,
{
		   "cell_type": "markdown",
		   "metadata": {},
		   "source": [
			"## Example 5.23: Depth_of_penetration.sce"
		   ]
		  },
  {
"cell_type": "code",
	   "execution_count": null,
	   "metadata": {
	    "collapsed": true
	   },
	   "outputs": [],
"source": [
"//Chapter-5, Example 5.23, Page 215\n",
"//=============================================================================\n",
"clc\n",
"clear\n",
"\n",
"\n",
"//INPUT DATA\n",
"N=2000;//Speed of the engine\n",
"a=0.06;//Thermal diffusivity in m^2/h\n",
"\n",
"//CALCULATIONS\n",
"t=1/(60*N);//Period of on oscillation in h\n",
"x=(1.6*sqrt(3.14*a*t))*1000;//Depth of penetration in mm\n",
"\n",
"//OUTPUT\n",
"mprintf('Depth of penetration of the temperature oscillation into the cylinder wall of a single acting cylinder two stroke IC engine is%3.0f mm',x)\n",
"\n",
"//=================================END OF PROGRAM=============================="
   ]
   }
,
{
		   "cell_type": "markdown",
		   "metadata": {},
		   "source": [
			"## Example 5.24: Instantaneous_heat_removal_rate.sce"
		   ]
		  },
  {
"cell_type": "code",
	   "execution_count": null,
	   "metadata": {
	    "collapsed": true
	   },
	   "outputs": [],
"source": [
"//Chapter-5, Example 5.24, Page 218\n",
"//=============================================================================\n",
"clc\n",
"clear\n",
"\n",
"\n",
"//INPUT DATA\n",
"Tc=55;//Tempaerature of concrete hyway in degree C\n",
"Tl=35;//Temperature lowered in degree C\n",
"Tf=45;//Final temperature in degree C\n",
"x=0.05;//Depth in m\n",
"k=1.279;//Thermal conductivity in W/m.K\n",
"a=(1.77*10^-3);//Thermal diffusivity in m^2/h\n",
"\n",
"//CALCULATIONS\n",
"t=1.4;//Time taken from page no. 219 in h\n",
"q=2*(k*(Tl-Tf))/(sqrt(3*a*t));//Instantaneous heat removal rate in W/m^2\n",
"\n",
"//OUTPUT\n",
"mprintf('Instantaneous heat removal rate is %3.1f W/m^2',q)\n",
"\n",
"//=================================END OF PROGRAM=============================="
   ]
   }
,
{
		   "cell_type": "markdown",
		   "metadata": {},
		   "source": [
			"## Example 5.2: Time_taken.sce"
		   ]
		  },
  {
"cell_type": "code",
	   "execution_count": null,
	   "metadata": {
	    "collapsed": true
	   },
	   "outputs": [],
"source": [
"//Chapter-5, Example 5.2, Page 164\n",
"//=============================================================================\n",
"clc\n",
"clear\n",
"\n",
"\n",
"//INPUT DATA\n",
"A=(0.4*0.4);//Area of copper slab in m^2\n",
"t=0.005;//Thickness of copper slab in m\n",
"T=250;//Uniform teperature  in degree c\n",
"Ts=30;//Surface temperature in degree C\n",
"Tsl=90;//Slab temperature in degree C\n",
"p=9000;//Density in kg/m^3\n",
"c=380;//Specific heat in J/kg.K\n",
"k=370;//Thermal conductivity in W/m.K\n",
"h=90;//Heat transfer coefficient in W/m^2.K\n",
"\n",
"//CALCULATIONS\n",
"A1=(2*A);//Area of two sides in m^2\n",
"V=(A*t);//Volume of the slab in m^3\n",
"Lc=(V/A1);//Corrected length in m\n",
"Bi=((h*Lc)/k);//Biot number\n",
"t=-log((Tsl-Ts)/(T-Ts))/((h*A1)/(p*c*V));//Time at which slab temperature becomes 90 degree C in s\n",
"y=(h*A1)/(p*c*V);\n",
"\n",
"//OUTPUT\n",
"mprintf('Time at which slab temperature becomes 90 degree C is %3.2f s',t)\n",
"\n",
"//=================================END OF PROGRAM=============================="
   ]
   }
,
{
		   "cell_type": "markdown",
		   "metadata": {},
		   "source": [
			"## Example 5.3: Time_take.sce"
		   ]
		  },
  {
"cell_type": "code",
	   "execution_count": null,
	   "metadata": {
	    "collapsed": true
	   },
	   "outputs": [],
"source": [
"//Chapter-5, Example 5.3, Page 164\n",
"//=============================================================================\n",
"clc\n",
"clear\n",
"\n",
"//INPUT DATA\n",
"D=0.01;//Outer diameter of the rod in m\n",
"T=320;//Original temperature in degree C\n",
"Tl=120;//Temperature of liquid in degree C\n",
"h=100;//Heat transfer coefficient in W/m^2.K\n",
"Tf=200;//Final temperature of rod in degree C\n",
"k=40;//Thermal conductivity in W/m.K\n",
"c=460;//Specific heat in J/kg.K\n",
"p=7800;//Density in kg/m^3\n",
"\n",
"//CALCULATIONS\n",
"V=(3.14*D^2*1)/4;//Volume of rod in m^3 taking 1m length\n",
"A=(3.14*D*1);//Surface area of rod in m^2 taking 1m length\n",
"Lc=(D/4);//Corrected length in m\n",
"Bi=((h*Lc)/k);//Biot number\n",
"t=-log((Tf-Tl)/(T-Tl))/((h*4)/(p*c*D));//Time at which rod temperature becomes 200 degree C in s\n",
"\n",
"//OUTPUT\n",
"mprintf('Time at which rod temperature becomes 200 degree C is %3.2f s',t)\n",
"\n",
"//=================================END OF PROGRAM=============================="
   ]
   }
,
{
		   "cell_type": "markdown",
		   "metadata": {},
		   "source": [
			"## Example 5.4: Time_required_to_cool_aluminium.sce"
		   ]
		  },
  {
"cell_type": "code",
	   "execution_count": null,
	   "metadata": {
	    "collapsed": true
	   },
	   "outputs": [],
"source": [
"//Chapter-5, Example 5.4, Page 165\n",
"//=============================================================================\n",
"clc\n",
"clear\n",
"\n",
"\n",
"//INPUT DATA\n",
"w=5.5;//Weight of the sphere in kg\n",
"Ti=290;//Initial temperature in degree C\n",
"Tl=15;//Temperature of liquid in degree C\n",
"h=58;//Heat transfer coefficient in W/m^2.K\n",
"Tf=95;//Final temperature in degree C\n",
"k=205;//Thermal conductivity in W/m.K\n",
"c=900;//Specific heat in J/kg.K\n",
"p=2700;//Density in kg/m^3\n",
"\n",
"//CALCULATIONS\n",
"V=(w/p);//Volume of the sphere in m^3\n",
"R=((3*V)/(4*3.14))^(1/3);//Radius of sphere in m\n",
"Lc=(R/3);//Corrected length in m\n",
"t=-log((Tf-Tl)/(Ti-Tl))/((h*3)/(p*c*R));//Time at which rod temperature becomes 95 degree C in s\n",
"\n",
"//OUTPUT\n",
"mprintf('Time at which rod temperature becomes 95 degree C is %3.0f s',t)\n",
"\n",
"//=================================END OF PROGRAM=============================="
   ]
   }
,
{
		   "cell_type": "markdown",
		   "metadata": {},
		   "source": [
			"## Example 5.5: Heat_transfer_coefficient.sce"
		   ]
		  },
  {
"cell_type": "code",
	   "execution_count": null,
	   "metadata": {
	    "collapsed": true
	   },
	   "outputs": [],
"source": [
"//Chapter-5, Example 5.5, Page 166\n",
"//=============================================================================\n",
"clc\n",
"clear\n",
"\n",
"\n",
"//INPUT DATA\n",
"Ti=100;//Temperature of air in degree C\n",
"t=0.03;//Thickness of slab in m\n",
"To=210;//Initial temperature of the plate in degree C\n",
"t=300;//Time for attaining temperature in s\n",
"T=170;//Temperature decreased in degree C\n",
"c=380;//Specific heat in J/kg.K\n",
"p=9000;//Density in kg/m^3\n",
"\n",
"//CALCULATIONS\n",
"Lc=(t/2);//Corrected length in m\n",
"h=-log((T-Ti)/(To-Ti))/((t*10^4)/(p*c*Lc));//Heat transfer coefficient in W/m^2.K\n",
"\n",
"//OUTPUT\n",
"mprintf('Heat transfer coefficient is %3.2f W/m^2.K',h)\n",
"\n",
"//=================================END OF PROGRAM=============================="
   ]
   }
,
{
		   "cell_type": "markdown",
		   "metadata": {},
		   "source": [
			"## Example 5.6: Time_constant_and_time_period.sce"
		   ]
		  },
  {
"cell_type": "code",
	   "execution_count": null,
	   "metadata": {
	    "collapsed": true
	   },
	   "outputs": [],
"source": [
"//Chapter-5, Example 5.6, Page 167\n",
"//=============================================================================\n",
"clc\n",
"clear\n",
"\n",
"\n",
"//INPUT DATA\n",
"D=0.00071;//Diameter of thermocouple in m\n",
"h=600;//Heat transfer coefficient in W/m^2.K\n",
"c=420;//Specific heat in J/kg.K\n",
"p=8600;//Density in kg/m^3\n",
"\n",
"//CALCULATIONS\n",
"t=(p*c*D)/(4*h);//Time period in s\n",
"T=exp(-1);//Temperture distribution ratio\n",
"t1=(4*t);//Total time in s\n",
"\n",
"//OUTPUT\n",
"mprintf('Thus at the end of time period t*=%3.3f s the temperature difference between the body and the source would be %3.3f of the initial temperature differnce. For getting a true reading of gas temperature, it should be recorded after 4t* = %i seconds after the thermocouple has been introduced into the stream',t,T,t1)\n",
"\n",
"//=================================END OF PROGRAM=============================="
   ]
   }
,
{
		   "cell_type": "markdown",
		   "metadata": {},
		   "source": [
			"## Example 5.8: Temperature_and_total_heat.sce"
		   ]
		  },
  {
"cell_type": "code",
	   "execution_count": null,
	   "metadata": {
	    "collapsed": true
	   },
	   "outputs": [],
"source": [
"//Chapter-5, Example 5.8, Page 177\n",
"//=============================================================================\n",
"clc\n",
"clear\n",
"\n",
"//INPUT DATA\n",
"x=0.2;//Diatance of plane from the wall in m\n",
"t=10;//Time for heat flow in h\n",
"T=[25,800];//Initial and final tempertaure in degree C\n",
"k=0.8;//Thermal conductivity in W/m.K\n",
"a=0.003;//Thermal diffusivity in m^2/h\n",
"\n",
"//CALCULATIONS\n",
"X=(x*(2*sqrt(a*k)));//Calculation of X for erf function\n",
"Y=0.585;//Taking ref(0.577)=0.585 from table 5.1 on page no. 175\n",
"Ti=T(2)-((T(2)-T(1)))*Y;//Temperarture of the plane in degree C\n",
"Qi=((-k*(T(1)-T(2))*exp(-x^2/(4*a*t)))/(sqrt(3.14*a*t)));//Instanteneous heat flow rate per unit area in W/m^2\n",
"Q=((2*k*(T(2)-T(1))*3600)/(sqrt((3.14*a)/t)))/10^8;//Total heat energy taken up by the wall in 10 hours in J/m^2\n",
"\n",
"//OUTPUT\n",
"mprintf('Temperarture of the plane is %3.2f degree C\nInstanteneous heat flow rate per unit area is %i W/m^2\nTotal heat energy taken up by the wall in 10 hours is %3.3f*10^8 J/m^2',Ti,Qi,Q)\n",
"\n",
"//=================================END OF PROGRAM=============================="
   ]
   }
,
{
		   "cell_type": "markdown",
		   "metadata": {},
		   "source": [
			"## Example 5.9: Time_taken_to_cool.sce"
		   ]
		  },
  {
"cell_type": "code",
	   "execution_count": null,
	   "metadata": {
	    "collapsed": true
	   },
	   "outputs": [],
"source": [
"//Chapter-5, Example 5.9, Page 177\n",
"//=============================================================================\n",
"clc\n",
"clear\n",
"\n",
"\n",
"//INPUT DATA\n",
"Tc=55;//Tempertaure of the concrete in degree C\n",
"Ts=35;//Temperature lowered in degree C\n",
"Tf=45;//Final temperature in degree C\n",
"x=0.05;//Depth of the slab in m\n",
"k=1.279;//Thermal conductivity in W/m.K\n",
"a=0.00177;//Thermal diffusivity in m^2/h\n",
"\n",
"//CALCULATIONS\n",
"T=(Tf-Ts)/(Tc-Ts);//Temperature distribution\n",
"X=0.485;//Taking 0.5=erf(0.482) from table 5.1 on page no. 175\n",
"t=(x^2)/(4*X^2*a);//Time taken to cool the concrete to 45 degree C in h\n",
"\n",
"//OUTPUT\n",
"mprintf('Time taken to cool the concrete to 45 degree C is %3.2f h',t)\n",
"\n",
"//=================================END OF PROGRAM=============================="
   ]
   }
],
"metadata": {
		  "kernelspec": {
		   "display_name": "Scilab",
		   "language": "scilab",
		   "name": "scilab"
		  },
		  "language_info": {
		   "file_extension": ".sce",
		   "help_links": [
			{
			 "text": "MetaKernel Magics",
			 "url": "https://github.com/calysto/metakernel/blob/master/metakernel/magics/README.md"
			}
		   ],
		   "mimetype": "text/x-octave",
		   "name": "scilab",
		   "version": "0.7.1"
		  }
		 },
		 "nbformat": 4,
		 "nbformat_minor": 0
}
