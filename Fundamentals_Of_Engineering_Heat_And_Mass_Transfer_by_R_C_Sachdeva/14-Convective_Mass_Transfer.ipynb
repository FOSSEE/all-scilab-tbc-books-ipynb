{
"cells": [
 {
		   "cell_type": "markdown",
	   "metadata": {},
	   "source": [
       "# Chapter 14: Convective Mass Transfer"
	   ]
	},
{
		   "cell_type": "markdown",
		   "metadata": {},
		   "source": [
			"## Example 14.10: Specific_humidity.sce"
		   ]
		  },
  {
"cell_type": "code",
	   "execution_count": null,
	   "metadata": {
	    "collapsed": true
	   },
	   "outputs": [],
"source": [
"//Chapter-14, Example 14.10, Page 592\n",
"//=============================================================================\n",
"clc\n",
"clear\n",
"\n",
"//INPUT DATA\n",
"Td=27;//Dry bulb teperature in degree C\n",
"Tw=17;//Wet bulb temperature in degree C\n",
"Pr=0.74;//Prantl number\n",
"Sc=0.6;//Schmidt number\n",
"Mv=18;//Molecular weight of vapour\n",
"Ma=29;//Molecular weight of air\n",
"Cp=1004;//Specific heat in J/kg.K\n",
"p=(1.0132*10^5);//Pressure in N/m^2\n",
"\n",
"//CALCULATIONS\n",
"pv2=1917;//Saturation presusre of air at 17 degree C in N/m^2\n",
"hfg=2461;//Enthalpy in kJ/kg\n",
"w2=(Mv*pv2)/(Ma*(p-pv2));//Weight in kg/kg of dry air\n",
"w1=w2-((Cp*(Pr/Sc)^(2/3)*(Td-Tw))/(hfg*1000));//Specific humidity of air in kg/kg of dry air\n",
"\n",
"//OUTPUT\n",
"mprintf('Specific humidity of air is %3.5f kg/kg of dry air',w1)\n",
"\n",
"//=================================END OF PROGRAM=============================="
   ]
   }
,
{
		   "cell_type": "markdown",
		   "metadata": {},
		   "source": [
			"## Example 14.11: Rate_of_evaporatio.sce"
		   ]
		  },
  {
"cell_type": "code",
	   "execution_count": null,
	   "metadata": {
	    "collapsed": true
	   },
	   "outputs": [],
"source": [
"//Chapter-14, Example 14.11, Page 592\n",
"//=============================================================================\n",
"clc\n",
"clear\n",
"\n",
"//INPUT DATA\n",
"T=27;//Temperature of swimming pool in degree C\n",
"Ts=37;//Surface temperature in degree C\n",
"h=0.4;//Relative humidity\n",
"D1=5;//Dimension of swimming pool in m\n",
"D2=15;//Dimension of swimming pool in m\n",
"v=2;//Speed of wind in m/s\n",
"v1=(15.89*10^-6);//Kinematic viscosity in m^2/s\n",
"p=0.0436;//Density in kg/m^3\n",
"DAB=(0.26*10^-4)//DAB value in m^2/s\n",
"Sc=(v1/DAB);//Schmidt number\n",
"Re=(v*D2)/v1;//Reynolds number\n",
"ShL=(((0.037*Re^(4/5))-870)*Sc^(1/3));//Equivalent Schmidt number\n",
"h1=(ShL*(DAB/D2));//Mass transfer coefficient for evaporation in m/s\n",
"\n",
"//CALCULATIONS\n",
"Psat=3531;//Partial pressure of water vapour in N/m^2\n",
"pi=(0.4*6221);//Saturation pressure of water vapour in N/m^2\n",
"pt=101325;//Total pressure of air in N/m^2\n",
"pAs=(18*Psat)/(8361*(T+273));//Density at the water surface in kg/m\n",
"pAi=(18*pi)/(8316*(T+273));//Density at the water surface in kg/m\n",
"n=(h1*(pAs-pAi)*3600*24);//Rate of evaporation of water in kg/m^2 day\n",
"L=(n*D1*D2);//Total water loss from the swimming pool in kg/day\n",
"\n",
"//OUTPUT\n",
"mprintf('Rate of evaporation of water is %3.1f kg/day',L)\n",
"\n",
"//=================================END OF PROGRAM=============================="
   ]
   }
,
{
		   "cell_type": "markdown",
		   "metadata": {},
		   "source": [
			"## Example 14.1: Convection_mass_transfer_coefficient.sce"
		   ]
		  },
  {
"cell_type": "code",
	   "execution_count": null,
	   "metadata": {
	    "collapsed": true
	   },
	   "outputs": [],
"source": [
"//Chapter-14, Example 14.1, Page 574\n",
"//=============================================================================\n",
"clc\n",
"clear\n",
"\n",
"//INPUT DATA\n",
"D=0.025;//Diameter of the cylinder in m\n",
"R=(2*10^-6);//Rate of sublime in kg/s\n",
"C=(6*10^-6);//Saturated vapour concentration in kmol/m^3\n",
"W=128;//Molecular weight in kg/kmol\n",
"\n",
"//CALCULATIONS\n",
"q=(R/W);//Molar transfer rate in k.mol/sm\n",
"h=(q/(%pi*D*C));//Convective mass transfer coefficient in m/s\n",
"\n",
"//OUTPUT\n",
"mprintf('Convective mass transfer coefficient is %3.3f m/s',h)\n",
"\n",
"//=================================END OF PROGRAM=============================="
   ]
   }
,
{
		   "cell_type": "markdown",
		   "metadata": {},
		   "source": [
			"## Example 14.2: Local_Mass_transfer_coefficient.sce"
		   ]
		  },
  {
"cell_type": "code",
	   "execution_count": null,
	   "metadata": {
	    "collapsed": true
	   },
	   "outputs": [],
"source": [
"//Chapter-14, Example 14.2, Page 576\n",
"//=============================================================================\n",
"clc\n",
"clear\n",
"\n",
"//INPUT DATA\n",
"pA=-0.9;//Partial pressure of water vapour in atm\n",
"t=0.0025;//Boundary layer thickness in m\n",
"\n",
"//CALCULATIONS\n",
"//pA=(exp(-33.35y)-0.9)\n",
"y=0;\n",
"pAs1=exp(-33.35*y)-0.9;//Partial pressure in atm\n",
"y=t;\n",
"pAs2=exp(-33.35*y)-0.9;//Partial pressure in atm\n",
"//partial derivative of pA wrt y is -33.35exp(y)-0.9\n",
"x=0;\n",
"X=(-33.35*exp(x))-pA;//Partial derivative value at x=0\n",
"DAB=(0.26*10^-4)//DAB value in m^2/s\n",
"h=(DAB*X)/(pAs2-pAs1);//Local mass transfer coefficient in m/s\n",
"\n",
"//OUTPUT\n",
"mprintf('Local mass transfer coefficient is %3.4f m/s',h)\n",
"\n",
"//=================================END OF PROGRAM=============================="
   ]
   }
,
{
		   "cell_type": "markdown",
		   "metadata": {},
		   "source": [
			"## Example 14.3: Mass_Transfer_coefficient.sce"
		   ]
		  },
  {
"cell_type": "code",
	   "execution_count": null,
	   "metadata": {
	    "collapsed": true
	   },
	   "outputs": [],
"source": [
"//Chapter-14, Example 14.3, Page 583\n",
"//=============================================================================\n",
"clc\n",
"clear\n",
"\n",
"//INPUT DATA\n",
"T=27;//Temperature of dry air in degree C\n",
"p=1;//Pressure of dry air in atm\n",
"L=0.5;//Length of the plate in m\n",
"v=50;//Velocity in m/s\n",
"\n",
"//CALCULATIONS\n",
"DAB=(0.26*10^-4)//DAB value in m^2/s\n",
"p=1.16;//Density in kg/m^3\n",
"u=(184.6*10^-7);//Dynamic viscosity in N.s/m^2\n",
"Pr=0.707;//Prantl number\n",
"Sc=(u/(p*DAB));//Schmidt number\n",
"Re=(p*v*L)/u;//Reynolds number\n",
"jm=(0.0296*(Re^(-1/5)));//jm value\n",
"h=(jm*v)/Sc^(2/3);//Mass transfer coefficient of water vapour in m/s\n",
"\n",
"//OUTPUT\n",
"mprintf('Mass transfer coefficient of water vapour is %3.3f m/s',h)\n",
"\n",
"//=================================END OF PROGRAM=============================="
   ]
   }
,
{
		   "cell_type": "markdown",
		   "metadata": {},
		   "source": [
			"## Example 14.4: Mass_transfer_coefficient.sce"
		   ]
		  },
  {
"cell_type": "code",
	   "execution_count": null,
	   "metadata": {
	    "collapsed": true
	   },
	   "outputs": [],
"source": [
"//Chapter-14, Example 14.4, Page 583\n",
"//=============================================================================\n",
"clc\n",
"clear\n",
"\n",
"//INPUT DATA\n",
"T=27;//Temperature of swimming pool in degree C\n",
"h=0.4;//Relative humidity\n",
"v=2;//Speed of wind in m/s\n",
"v1=(15.89*10^-6);//Kinematic viscosity in m^2/s\n",
"p=0.0436;//Density in kg/m^3\n",
"DAB=(0.26*10^-4)//DAB value in m^2/s\n",
"L=15;//Length in m\n",
"\n",
"\n",
"//CALCULATIONS\n",
"Sc=(v1/DAB);//Schmidt number\n",
"Re=(v*L)/v1;//Reynolds number\n",
"ShL=(((0.037*Re^(4/5))-870)*Sc^(1/3));//Equivalent Schmidt number\n",
"h1=(ShL*(DAB/L))/10^-3;//Mass transfer coefficient for evaporation in mm/s\n",
"\n",
"//OUTPUT\n",
"mprintf('Mass transfer coefficient for evaporation is %3.1f*10^-3 m/s',h1)\n",
"\n",
"//=================================END OF PROGRAM=============================="
   ]
   }
,
{
		   "cell_type": "markdown",
		   "metadata": {},
		   "source": [
			"## Example 14.5: Average_mass_transfer_coefficient.sce"
		   ]
		  },
  {
"cell_type": "code",
	   "execution_count": null,
	   "metadata": {
	    "collapsed": true
	   },
	   "outputs": [],
"source": [
"//Chapter-14, Example 14.5, Page 585\n",
"//=============================================================================\n",
"clc\n",
"clear\n",
"\n",
"//INPUT DATA\n",
"T=25;//Temperature of air in degree C\n",
"v=3;//Velocity im m/s\n",
"D=0.01;//Diameter of tube in m\n",
"L=1;//Length of tube in m\n",
"\n",
"//CALCULATIONS\n",
"v1=(15.7*10^-6);//Kinematic viscosity in m^2/s\n",
"DAB=(0.62*10^-5)//DAB value in m^2/s\n",
"Re=(v*D)/v1;//Reynolds number\n",
"Sh=3.66;//Schmidt number\n",
"h=(Sh*DAB)/D;//Average mass transfer coefficient in m/s\n",
"\n",
"//OUTPUT\n",
"mprintf('Average mass transfer coefficient is %3.5f m/s',h)\n",
"\n",
"//=================================END OF PROGRAM=============================="
   ]
   }
,
{
		   "cell_type": "markdown",
		   "metadata": {},
		   "source": [
			"## Example 14.6: Mass_transfer_coefficient.sce"
		   ]
		  },
  {
"cell_type": "code",
	   "execution_count": null,
	   "metadata": {
	    "collapsed": true
	   },
	   "outputs": [],
"source": [
"//Chapter-14, Example 14.6, Page 586\n",
"//=============================================================================\n",
"clc\n",
"clear\n",
"\n",
"//INPUT DATA\n",
"T=25;//Temperature of air in degree C\n",
"v=5;//Velocity in m/s\n",
"D=0.03;//Diameter of tube in m\n",
"DAB=(0.82*10^-5)//DAB value in m^2/s\n",
"\n",
"//CALCULATIONS\n",
"v1=(15.7*10^-6);//Kinematic viscosity in m^2/s\n",
"Sc=(v1/DAB);//Schnidt number\n",
"Re=(v*D)/v1;//Reynolds number\n",
"h=(0.023*Re^(4/5)*Sc^(1/3)*DAB)/D;//Mass transfer coefficient in m/s\n",
"\n",
"//OUTPUT\n",
"mprintf('Mass transfer coefficient is %3.4f m/s',h)\n",
"\n",
"//=================================END OF PROGRAM=============================="
   ]
   }
,
{
		   "cell_type": "markdown",
		   "metadata": {},
		   "source": [
			"## Example 14.7: Steady_state_temperature.sce"
		   ]
		  },
  {
"cell_type": "code",
	   "execution_count": null,
	   "metadata": {
	    "collapsed": true
	   },
	   "outputs": [],
"source": [
"//Chapter-14, Example 14.7, Page 589\n",
"//=============================================================================\n",
"clc\n",
"clear\n",
"\n",
"//INPUT DATA\n",
"Ta=40+273;//Temperature of air in K\n",
"w=100;//Molecular weight in kg/k.mol\n",
"H=120;//Latent heat of vapourisation of volatile liquid in kJ/kg\n",
"p=3530;//Saturated vapour pressure in N/m^2\n",
"DAB=(0.2*10^-4);//DAB value in m^2/s\n",
"\n",
"//CALCULATIONS\n",
"p1=1.16;//Density in kg/m^2\n",
"Cp=1.007;//Specific heat in J/kg.K\n",
"a=(22.5*10^-6);//Diffusivity in m^2/s\n",
"X=((H*100*p*10^-3)/(8.315*p1*Cp*(a/DAB)^(2/3)));//X value for temperature\n",
"T=(Ta+sqrt((Ta^2-(4*X))))*0.5;//Temperature in K\n",
"\n",
"//OUTPUT\n",
"mprintf('Steady state temperature of cold water inside the pot is %3.1f K',T)\n",
"\n",
"//=================================END OF PROGRAM=============================="
   ]
   }
,
{
		   "cell_type": "markdown",
		   "metadata": {},
		   "source": [
			"## Example 14.8: True_air_temperature.sce"
		   ]
		  },
  {
"cell_type": "code",
	   "execution_count": null,
	   "metadata": {
	    "collapsed": true
	   },
	   "outputs": [],
"source": [
"//Chapter-14, Example 14.8, Page 590\n",
"//=============================================================================\n",
"clc\n",
"clear\n",
"\n",
"//INPUT DATA\n",
"T=22+273;//Thermometer reading in K\n",
"\n",
"//CALCULATIONS\n",
"p=2617;//Pressure in N/m^2\n",
"hfg=2449;//Enthalpy in kJ/kg\n",
"p1=(p*18)/(8315*T);//Density in kg/m^3\n",
"p2=(1.0132*10^5)/(287*T);//Density in kg/m^3\n",
"Cp=1.008;//Specific heat in kJ/kg.K\n",
"a=(26.2*10^-6);//Diffusivity in m^2/s\n",
"DAB=(0.26*10^-4);//DAB value in m^2/s\n",
"Ts=((T-273)+((hfg*1000*p1)/(p2*Cp*1000)));//True air temperature in degree C\n",
"\n",
"//OUTPUT\n",
"mprintf('True air temperature is %3.2f degree C',Ts)\n",
"\n",
"//=================================END OF PROGRAM=============================="
   ]
   }
,
{
		   "cell_type": "markdown",
		   "metadata": {},
		   "source": [
			"## Example 14.9: Relative_humidity.sce"
		   ]
		  },
  {
"cell_type": "code",
	   "execution_count": null,
	   "metadata": {
	    "collapsed": true
	   },
	   "outputs": [],
"source": [
"//Chapter-14, Example 14.9, Page 591\n",
"//=============================================================================\n",
"clc\n",
"clear\n",
"\n",
"//INPUT DATA\n",
"T=50;//Temperature of air stream in degree C\n",
"Tb=22;//Bulb temperature in degree C\n",
"\n",
"//CALCULATIONS\n",
"Tf=(T+Tb)/2;//Film temperature in degree C\n",
"p=1.14;//Density in kg/m^3\n",
"Cp=1.006;//Specific heat in J/kg.K\n",
"Pr=0.7;//Prantl number\n",
"u=(2*10^-5);//Dynamic viscosity in Ns/m^2\n",
"DAB=(0.26*10^-4);//DAB value in m^2/s\n",
"Sc=(u/(p*DAB));//Schmidt nuber\n",
"Le=(Sc/Pr);//Lewis number\n",
"p1=0.01920;//Density in kg/m^3\n",
"hfg=2449;//Enthalpy in kJ/kg\n",
"pA=0.0064;//Density in kg/m^3\n",
"psat=(1/12.23);//Saturation density in kg/m^3\n",
"RH=(pA/0.0817)*100;//Relative humidity\n",
"\n",
"//OUTPUT\n",
"mprintf('Relative humidity of the airstream is %3.2f percent',RH)\n",
"\n",
"//=================================END OF PROGRAM=============================="
   ]
   }
],
"metadata": {
		  "kernelspec": {
		   "display_name": "Scilab",
		   "language": "scilab",
		   "name": "scilab"
		  },
		  "language_info": {
		   "file_extension": ".sce",
		   "help_links": [
			{
			 "text": "MetaKernel Magics",
			 "url": "https://github.com/calysto/metakernel/blob/master/metakernel/magics/README.md"
			}
		   ],
		   "mimetype": "text/x-octave",
		   "name": "scilab",
		   "version": "0.7.1"
		  }
		 },
		 "nbformat": 4,
		 "nbformat_minor": 0
}
