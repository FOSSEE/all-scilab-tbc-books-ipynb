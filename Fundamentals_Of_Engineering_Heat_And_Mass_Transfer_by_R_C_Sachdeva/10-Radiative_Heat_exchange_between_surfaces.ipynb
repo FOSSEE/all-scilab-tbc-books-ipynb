{
"cells": [
 {
		   "cell_type": "markdown",
	   "metadata": {},
	   "source": [
       "# Chapter 10: Radiative Heat exchange between surfaces"
	   ]
	},
{
		   "cell_type": "markdown",
		   "metadata": {},
		   "source": [
			"## Example 10.14: Net_heat_exchange_and_equilibrium_temperature.sce"
		   ]
		  },
  {
"cell_type": "code",
	   "execution_count": null,
	   "metadata": {
	    "collapsed": true
	   },
	   "outputs": [],
"source": [
"//Chapter-10, Example 10.14, Page 424\n",
"//=============================================================================\n",
"clc\n",
"clear\n",
"\n",
"//INPUT DATA\n",
"A2=(6*2);//Area of windows in m^2\n",
"A1=(10*12);//Area of floor in m^2\n",
"Th=40;//Radiating heating panel in degree C\n",
"Tb=5;//Temperature of black plane in degree C\n",
"F12=0.052;//Shape factor\n",
"\n",
"//CALCULATIONS\n",
"F12a=((A2-(A1*F12^2))/(A1+A2-(2*A1*F12)));//Shape factor\n",
"Q12=(A1*F12a*5.67*10^-8*((Th+273)^4-(Tb+273)^4));//Net heat exchange in W\n",
"X=(((A2/A1)-F12)/(1-F12));//X value for equilibrium temperature\n",
"T=(((Th+273)^4+(X*(Tb+273)^4))/(X+1))^0.25;//Equilibrium temperature in K\n",
"\n",
"//OUTPUT\n",
"mprintf('Net heat exchange is %3.0f W \nEquilibrium temperature is %3.2f K',Q12,T)\n",
"\n",
"//=================================END OF PROGRAM=============================="
   ]
   }
,
{
		   "cell_type": "markdown",
		   "metadata": {},
		   "source": [
			"## Example 10.15: Radiant_heat_exchange.sce"
		   ]
		  },
  {
"cell_type": "code",
	   "execution_count": null,
	   "metadata": {
	    "collapsed": true
	   },
	   "outputs": [],
"source": [
"//Chapter-10, Example 10.15, Page 430\n",
"//=============================================================================\n",
"clc\n",
"clear\n",
"\n",
"//INPUT DATA\n",
"D=0.2;//Diameter of each disc in m\n",
"L=2;//Distance between the plates in m\n",
"T=[800+273,300+273];//Temperatures of the plates in K\n",
"e=[0.3,0.5];//Emissivities of plates\n",
"\n",
"//CALCULATIONS\n",
"e1=(e(1)*e(2));//Equivalent emissivity\n",
"R=(D/L);//Ratio between diameter and distance between the plates\n",
"F=0.014;//F value from Fig.10.4 from page no. 409\n",
"Q=(e1*(3.14/4)*D^2*F*5.67*10^-8*((T(1)^4-(T(2)^4))));//Radiant heat exchange for the plates in W\n",
"\n",
"//OUTPUT\n",
"mprintf('Radiant heat exchange for the plates is %3.2f W',Q)\n",
"\n",
"//=================================END OF PROGRAM=============================="
   ]
   }
,
{
		   "cell_type": "markdown",
		   "metadata": {},
		   "source": [
			"## Example 10.16: Radiant_heat_exchange.sce"
		   ]
		  },
  {
"cell_type": "code",
	   "execution_count": null,
	   "metadata": {
	    "collapsed": true
	   },
	   "outputs": [],
"source": [
"//Chapter-10, Example 10.16, Page 430\n",
"//=============================================================================\n",
"clc\n",
"clear\n",
"\n",
"//INPUT DATA\n",
"e=0.8;//Emissivity of brick wall\n",
"D1=[6,4];//Width and Height in m\n",
"L=0.04;//Distance from the wall in m\n",
"D2=[0.2,0.2];//Dimensions of the furnace wall in m\n",
"D3=[1,1];//Dimensions at lower and left of the centre of the wall in m\n",
"T=[1523+273,37+273];//Furnace temperature and wall temperature in degree C\n",
"\n",
"//CALCULATIONS\n",
"F12=0.033;//Shape factor from Fig.10.3 on page no. 409\n",
"F13=0.05;//Shape factor from Fig.10.3 on page no. 409\n",
"F14=0.12;//Shape factor from Fig.10.3 on page no. 409\n",
"F15=0.08;//Shape factor from Fig.10.3 on page no. 409\n",
"Fow=(F12+F13+F14+F15);//Shape factor between opening and wall\n",
"Q=(e*L*Fow*5.67*10^-8*(T(1)^4-T(2)^4))/1000;//Net radiation exchange in kW\n",
"\n",
"//OUTPUT\n",
"mprintf('Net radiation exchange between the opening and the wall is %3.1f kW',Q)\n",
"\n",
"//=================================END OF PROGRAM=============================="
   ]
   }
,
{
		   "cell_type": "markdown",
		   "metadata": {},
		   "source": [
			"## Example 10.17: Reduction_in_heat_loss.sce"
		   ]
		  },
  {
"cell_type": "code",
	   "execution_count": null,
	   "metadata": {
	    "collapsed": true
	   },
	   "outputs": [],
"source": [
"//Chapter-10, Example 10.17, Page 431\n",
"//=============================================================================\n",
"clc\n",
"clear\n",
"\n",
"//INPUT DATA\n",
"D=[2,1,1];//Dimensions of the tank in m\n",
"A=8;//Area of the tank in m^2\n",
"e=0.9;//Surface emissivity \n",
"Ts=25+273;//Surface temperature in K\n",
"Ta=2+273;//Ambient temperature in K\n",
"e1=0.5;//Emissivity of aluminium \n",
"\n",
"//CALCULATIONS\n",
"Q=(e*A*5.67*10^-8*(Ts^4-Ta^4))/1000;//Heat lost by radiation in kW\n",
"r=((e-e1)/e)*Q;//Reduction in heat loss if the tank is coated with an aluminium paint in kW\n",
"\n",
"//OUTPUT\n",
"mprintf('Heat lost by radiation is %3.2f kW \nReduction in heat loss if the tank is coated with an aluminium paint is %3.3f kW',Q,r)\n",
"\n",
"//=================================END OF PROGRAM=============================="
   ]
   }
,
{
		   "cell_type": "markdown",
		   "metadata": {},
		   "source": [
			"## Example 10.18: Loss_of_heat.sce"
		   ]
		  },
  {
"cell_type": "code",
	   "execution_count": null,
	   "metadata": {
	    "collapsed": true
	   },
	   "outputs": [],
"source": [
"//Chapter-10, Example 10.18, Page 432\n",
"//=============================================================================\n",
"clc\n",
"clear\n",
"\n",
"//INPUT DATA\n",
"D=0.2;//Outer diameter of the pipe in m\n",
"Ta=30+273;//Temperature of the air in K\n",
"Ts=400+273;//Surface temperature in K\n",
"e=0.8;//Emissivity of the pipe surface\n",
"D1=0.4;//Diamter of brick in m\n",
"e1=0.91;//Emissivity of brick\n",
"\n",
"//CALCULATIONS\n",
"Q=(e*3.14*D*5.67*10^-8*(Ts^4-Ta^4))/1000;//Loss of heat by thermal radiation in kW/m\n",
"e2=(1/((1/e)+((D/D1)*((1/e1)-1))));//Equivalent emissivity\n",
"Q1=(e2*3.14*D*5.67*10^-8*(Ts^4-Ta^4))/1000;//Heat loss when brick is used in kW/m\n",
"r=(Q-Q1)*1000;//Reduction in heat loss in W/m\n",
"\n",
"//OUTPUT\n",
"mprintf('Loss of heat by thermal radiation is %3.1f*10^3 W/m \nReduction in heat loss is %3.0f W/m',Q,r)\n",
"\n",
"//=================================END OF PROGRAM=============================="
   ]
   }
,
{
		   "cell_type": "markdown",
		   "metadata": {},
		   "source": [
			"## Example 10.19: Radiation_heat_transfer.sce"
		   ]
		  },
  {
"cell_type": "code",
	   "execution_count": null,
	   "metadata": {
	    "collapsed": true
	   },
	   "outputs": [],
"source": [
"//Chapter-10, Example 10.19, Page 433\n",
"//=============================================================================\n",
"clc\n",
"clear\n",
"\n",
"//INPUT DATA\n",
"e=0.03;//Emissivity of silver\n",
"T2=-153+273;//Temperature of the outer surface of the inner wall in K\n",
"T1=27+273;//Temperature of the inner surface of the outer wall in K\n",
"D1=0.42;//Diamter of first sphere in m\n",
"D2=0.6;//Diamter of the second sphere in m\n",
"V=220;//Rate of vapourization in kJ/kg\n",
"\n",
"//CALCULATIONS\n",
"e1=(1/((1/e)+((D1/D2)^2*((1/e)-1))));//Equivalent emissivity\n",
"A=(4*3.14*(D1/2)^2);//Area in m^2\n",
"Q=(e1*A*5.67*10^-8*(T1^4-T2^4))/(1000/3600);//Radiation heat transfer through walls into the vessel in kJ/h\n",
"R=(Q/V);//Rate of evaporation in kg/h\n",
"\n",
"//OUTPUT\n",
"mprintf('Radiation heat transfer through walls into the vessel is %3.3f kJ/h \nRate of evaporation of liqiud oxygen is %3.4f kg/h',Q,R)\n",
"\n",
"//=================================END OF PROGRAM=============================="
   ]
   }
,
{
		   "cell_type": "markdown",
		   "metadata": {},
		   "source": [
			"## Example 10.1: Surface_temperature.sce"
		   ]
		  },
  {
"cell_type": "code",
	   "execution_count": null,
	   "metadata": {
	    "collapsed": true
	   },
	   "outputs": [],
"source": [
"//Chapter-10, Example 10.1, Page 403\n",
"//=============================================================================\n",
"clc\n",
"clear\n",
"\n",
"//INPUT DATA\n",
"I=1350;//Solar Irradiation in W/m^2\n",
"L=(1.5*10^8);//Approximate distance in km\n",
"D=(1.39*10^6);//Approximate diameter in km\n",
"\n",
"\n",
"//CALCULATIONS\n",
"E=(I*(L*1000)^2*3.14)/((3.14/4)*(D*1000)^2);//Emissive power of Earth \n",
"Ts=(E/(5.67*10^-8))^0.25;//Surface temperature of sun in K\n",
"\n",
"//OUTPUT\n",
"mprintf('Surface temperature of sun is %3.0f K',Ts)\n",
"\n",
"//=================================END OF PROGRAM=============================="
   ]
   }
,
{
		   "cell_type": "markdown",
		   "metadata": {},
		   "source": [
			"## Example 10.20: Net_radiant_heat_exchange.sce"
		   ]
		  },
  {
"cell_type": "code",
	   "execution_count": null,
	   "metadata": {
	    "collapsed": true
	   },
	   "outputs": [],
"source": [
"//Chapter-10, Example 10.20, Page 433\n",
"//=============================================================================\n",
"clc\n",
"clear\n",
"\n",
"//INPUT DATA\n",
"T=[800+273,300+273];//Temperatures of the plates in K\n",
"e=[0.3,0.5];//Emissivities of the plates\n",
"\n",
"//CALCULATIONS\n",
"Q=((5.67*10^-8*(T(1)^4-T(2)^4))/((1/e(1))+((1/e(2)))-1))/1000;//Net radiant heat exchange in kW/m^2\n",
"\n",
"//OUTPUT\n",
"mprintf('Net radiant heat exchange is %3.2f kW/m^2',Q)\n",
"\n",
"//=================================END OF PROGRAM=============================="
   ]
   }
,
{
		   "cell_type": "markdown",
		   "metadata": {},
		   "source": [
			"## Example 10.21: Loss_of_heat.sce"
		   ]
		  },
  {
"cell_type": "code",
	   "execution_count": null,
	   "metadata": {
	    "collapsed": true
	   },
	   "outputs": [],
"source": [
"//Chapter-10, Example 10.21, Page 434\n",
"//=============================================================================\n",
"clc\n",
"clear\n",
"\n",
"//INPUT DATA\n",
"T1=127+273;//Temperature of the outer side of the brick setting in K\n",
"T2=50+273;//Temperature of the inside of the steel plate in K\n",
"e1=0.6;//Emissivity of steel\n",
"e2=0.8;//Emissivity of fireclay\n",
"\n",
"//CALCULATIONS\n",
"Q=((5.67*10^-8*(T1^4-T2^4))/((1/e1)+((1/e2))-1));//Net radiant heat exchange in W/m^2\n",
"\n",
"//OUTPUT\n",
"mprintf('Net radiant heat exchange is %3.0f W/m^2',Q)\n",
"\n",
"//=================================END OF PROGRAM=============================="
   ]
   }
,
{
		   "cell_type": "markdown",
		   "metadata": {},
		   "source": [
			"## Example 10.22: Net_heat_transfer.sce"
		   ]
		  },
  {
"cell_type": "code",
	   "execution_count": null,
	   "metadata": {
	    "collapsed": true
	   },
	   "outputs": [],
"source": [
"//Chapter-10, Example 10.22, Page 445\n",
"//=============================================================================\n",
"clc\n",
"clear\n",
"\n",
"//INPUT DATA\n",
"D=1;//Dimension of the plate in m\n",
"L=0.5;//Distance between the plates in m\n",
"Ts=27+273;//Surface temperature of the walls in K\n",
"T=[900+273,400+273];//Temperature of the plates in K\n",
"e=[0.2,0.5];//Emissivities of the plates \n",
"\n",
"//CALCULATIONS\n",
"F12=0.415;//From Fig.10.4 on page no.409\n",
"F13=(1-F12);//Shape factor\n",
"F23=(1-F12);//Shape factor\n",
"R1=(1-e(1))/(e(1)*D*D);//Resistance for 1\n",
"R2=(1-e(2))/(e(2)*D*D);//Resistance for 2\n",
"R3=0;//Resistance for 3\n",
"A1F12I=(1/(D*D*F12));//Inverse of the product of area and Shape factor\n",
"A1F13I=(1/(D*D*F13));//Inverse of the product of area and Shape factor\n",
"A2F23I=(1/(D*D*F23));//Inverse of the product of area and Shape factor\n",
"Eb1=(5.67*10^-8*T(1)^4)/1000;//Emissive power of 1 in kW/m^2\n",
"Eb2=(5.67*10^-8*T(2)^4)/1000;//Emissive power of 2 in kW/m^2\n",
"Eb3=(5.67*10^-8*Ts^4);//Emissive power of 3 in W/m^2\n",
"J1=25;//Radiosity at node 1 in kW/m^2\n",
"J2=11.53;//Radiosity at node 2 in kW/m^2\n",
"J3=0.46;//Radiosity at node 3 in kW/m^2\n",
"Q1=((Eb1-J1)/R1);//Total heat loss by plate 1 in kW\n",
"Q2=((Eb2-J2)/R2);//Total heat loss by plate 2 in kW\n",
"Q3=((J1-J3)/(A1F13I))+((J2-J3)/(A2F23I));//Total heat received by the room in kW\n",
"\n",
"//OUTPUT\n",
"mprintf('Total heat loss by plate 1 is %3.1f kW \nTotal heat loss by plate 2 is %3.1f kW \nTotal heat received by the room is %3.2f kW',Q1,Q2,Q3)\n",
"\n",
"//=================================END OF PROGRAM=============================="
   ]
   }
,
{
		   "cell_type": "markdown",
		   "metadata": {},
		   "source": [
			"## Example 10.23: Percentage_reduction_in_heat_transfer_and_temperature_of_the_shield.sce"
		   ]
		  },
  {
"cell_type": "code",
	   "execution_count": null,
	   "metadata": {
	    "collapsed": true
	   },
	   "outputs": [],
"source": [
"//Chapter-10, Example 10.23, Page 447\n",
"//=============================================================================\n",
"clc\n",
"clear\n",
"\n",
"//INPUT DATA\n",
"T=[800+273,300+273];//Temperatures of the plates in K\n",
"e=[0.3,0.5];//Emissivities of the plates\n",
"e3=0.05;//Emissivity of aluminium\n",
"\n",
"//CALCULATIONS\n",
"q=((5.67*10^-8*(T(1)^4-T(2)^4))/((1/e(1))+(1/e(2))-1))/1000;//Heat transfer without the shield in kW/m^2\n",
"R1=(1-e(1))/e(1);//Resistance in 1\n",
"R2=(1-e(2))/e(2);//Resistance in 2\n",
"R3=(1-e3)/e3;//Resistance in 3\n",
"R=(R1+(2*R2)+(2*R3));//Total resistance \n",
"q1=((5.67*10^-8*(T(1)^4-T(2)^4))/R)/1000;//Heat transfer with shield in kW/m^2\n",
"r=((q-q1)*100)/q;//Reduction in heat transfer \n",
"X1=((1/e3)+(1/e(2))-1);//X1 for tempearture T3\n",
"X2=((1/e(1))+(1/e3)-1);//X1 for tempearture T3\n",
"T3=(((X1*T(1)^4)+(X2*T(2)^4))/(X2+X1))^0.25;//Temperature of the sheild in K\n",
"T3c=T3-273;//Temperature of the sheild in degree C\n",
"\n",
"//OUTPUT\n",
"mprintf('Percentage reduction in heat transfer is %3.0f percent \nTemperature of the sheild is %3.2f degree C',r,T3c)\n",
"\n",
"//=================================END OF PROGRAM=============================="
   ]
   }
,
{
		   "cell_type": "markdown",
		   "metadata": {},
		   "source": [
			"## Example 10.24: Number_of_screens.sce"
		   ]
		  },
  {
"cell_type": "code",
	   "execution_count": null,
	   "metadata": {
	    "collapsed": true
	   },
	   "outputs": [],
"source": [
"//Chapter-10, Example 10.24, Page 448\n",
"//=============================================================================\n",
"clc\n",
"clear\n",
"\n",
"//INPUT DATA\n",
"Q=79;//Reduction in net radiation from the surfaces \n",
"e1=0.05;//Emissivity of the screen\n",
"e2=0.8;//Emissivity of the surface\n",
"\n",
"//CALCULATIONS\n",
"n=(((Q*((2/e2)-1))-((2/e2)+1))/((2/e1)-1));//Number of screens to be placed between the two surfaces to achieve the reduction in heat exchange\n",
"\n",
"//OUTPUT\n",
"mprintf('Number of screens to be placed between the two surfaces to achieve the reduction in heat exchange is%3.0f',n)\n",
"\n",
"//=================================END OF PROGRAM=============================="
   ]
   }
,
{
		   "cell_type": "markdown",
		   "metadata": {},
		   "source": [
			"## Example 10.25: Loss_of_heat_and_reduction_in_heat.sce"
		   ]
		  },
  {
"cell_type": "code",
	   "execution_count": null,
	   "metadata": {
	    "collapsed": true
	   },
	   "outputs": [],
"source": [
"//Chapter-10, Example 10.25, Page 449\n",
"//=============================================================================\n",
"clc\n",
"clear\n",
"\n",
"//INPUT DATA\n",
"e=0.8;//Emissivity of the pipe\n",
"D=0.275;//Diameter of the pipe in m\n",
"Ts=500+273;//Surface temperature in K\n",
"Te=30+273;//Temperature of enclosure in K\n",
"D1=0.325;//Diamter of the steel screen in m\n",
"e1=0.7;//Emissivity of steel screen\n",
"Tsc=240+273;//Temperature of screen in K\n",
"\n",
"//CALCUATIONS\n",
"Q=(e*5.67*10^-8*3.14*D*(Ts^4-Te^4))/1000;//Loss of heat per unit length by radiation in kW/m\n",
"e2=(1/((1/e)+((D/D1)*((1/e1)-1))));//Equivalent emissivity\n",
"Q1=(e2*5.67*10^-8*3.14*D*(Ts^4-Tsc^4))/1000;//Radiant heat exchange per unit length of header with screen in kW/m\n",
"R=(Q-Q1);//Reduction in heat by radiation due to the provision of the screen in kW/m\n",
"\n",
"//OUTPUT\n",
"mprintf('Loss of heat per unit length by radiation is %3.1f kW/m \nReduction in heat by radiation due to the provision of the screen is %3.2f kW/m',Q,R)\n",
"\n",
"//=================================END OF PROGRAM=============================="
   ]
   }
,
{
		   "cell_type": "markdown",
		   "metadata": {},
		   "source": [
			"## Example 10.26: Error_in_temperature.sce"
		   ]
		  },
  {
"cell_type": "code",
	   "execution_count": null,
	   "metadata": {
	    "collapsed": true
	   },
	   "outputs": [],
"source": [
"//Chapter-10, Example 10.26, Page 451\n",
"//=============================================================================\n",
"clc\n",
"clear\n",
"\n",
"//INPUT DATA\n",
"e=0.6;//Emissivity of thermocouple\n",
"Ta=20+273;//Ambient temperature in K\n",
"Tt=500+273;//Temperature from the thermocouple in K\n",
"e=0.3;//Emissivity of radiation shield\n",
"h=200;//Convective heat transfer coefficient in W/m^2.K\n",
"Ts=833;//Temperature in K\n",
"\n",
"//CALCULATIONS\n",
"T=((5.67*10^-8*e*(Tt^4-Ta^4))/(h*1000))+Tt;//Temperature of the shield in K\n",
"T1=(Ts-T);//Error between the thermocouple temperature and gas temperature in K\n",
"Ts=825;//Surface temperature with radiation shield in K\n",
"Tc=829;//Thermocouple temperature with radiation shield in K\n",
"e=(Tc-Ts);//Error between the thermocouple temperature and gas temperature with the shielded thermocouple arrangement in K\n",
"\n",
"//OUTPUT\n",
"mprintf('Error between the thermocouple temperature and gas temperature is%3.0f K \nError between the thermocouple temperature and gas temperature with the shielded thermocouple arrangement is%3.0f K',T1,e)\n",
"\n",
"//=================================END OF PROGRAM=============================="
   ]
   }
,
{
		   "cell_type": "markdown",
		   "metadata": {},
		   "source": [
			"## Example 10.27: Rate_of_heat_loss.sce"
		   ]
		  },
  {
"cell_type": "code",
	   "execution_count": null,
	   "metadata": {
	    "collapsed": true
	   },
	   "outputs": [],
"source": [
"//Chapter-10, Example 10.27, Page 452\n",
"//=============================================================================\n",
"clc\n",
"clear\n",
"\n",
"//INPUT DATA\n",
"D=0.2;//Diameter of pipe in m\n",
"Ta=30+273;//Temperature of air in K\n",
"Ts=200+273;//Temperature of surface in K\n",
"e=0.8;//Emissivity of the pipe\n",
"\n",
"//CALCULATIONS\n",
"Q=(e*5.67*10^-8*3.14*D*(Ts^4-Ta^4));//Heat lost by thermal radiation in W/m\n",
"T=(Ta+Ts)/2;//Film temperature in degree C\n",
"k=0.03306;//Thermal conductivity in W/m.K\n",
"v1=(24.93*10^-6);//Kinematic viscosity in m^2/s\n",
"b=(1/388);//Coefficient of thermal expansion in 1/K\n",
"Pr=0.687;//Prantl number\n",
"Ra=((9.81*b*D^3*(Ts-Ta)*Pr)/(v1^2));//Rayleigh number\n",
"Nu=(0.53*(Ra)^0.25);//Nussults number\n",
"h=(k*Nu)/D;//Heat transfer coefficient in W/m^2.K\n",
"Q1=(h*3.14*D*(Ts-Ta));//Heat lost by convection in W/m\n",
"Q2=(Q+Q1);//Total heat lost per meter length in W/m\n",
"\n",
"//OUTPUT\n",
"mprintf('Heat lost by thermal radiation is %3.0f W/m \nHeat lost by convection is %3.1f W/m',Q,Q1)\n",
"\n",
"//=================================END OF PROGRAM=============================="
   ]
   }
,
{
		   "cell_type": "markdown",
		   "metadata": {},
		   "source": [
			"## Example 10.28: Heat_transfer_coefficient.sce"
		   ]
		  },
  {
"cell_type": "code",
	   "execution_count": null,
	   "metadata": {
	    "collapsed": true
	   },
	   "outputs": [],
"source": [
"//Chapter-10, Example 10.28, Page 453\n",
"//=============================================================================\n",
"clc\n",
"clear\n",
"\n",
"//INPUT DATA\n",
"Ts=200+273;//Temperature of stream main in K\n",
"Ta=30+273;//Rooom temperature in K\n",
"h=17.98;//Heat transfer coefficient in W/m^2.K\n",
"e=0.8;//Emissivity of the pipe surface\n",
"\n",
"//CALCULATIONS\n",
"q=(5.67*10^-8*e*(Ts^4-Ta^4));//Heat transfer by radiation in W/m^2\n",
"hr=(q/(Ts-Ta));//Heat transfer coefficient due to radiation in W/m^2.K\n",
"hc=(h-hr);//Heat transfer coefficient due to convection in W/m^2.K\n",
"\n",
"//OUTPUT\n",
"mprintf('Heat transfer coefficient due to radiation is %3.1f W/m^2.K \nHeat transfer coefficient due to convection is %3.2f W/m^2.K',hr,hc)\n",
"\n",
"//=================================END OF PROGRAM=============================="
   ]
   }
,
{
		   "cell_type": "markdown",
		   "metadata": {},
		   "source": [
			"## Example 10.29: Extinction_coefficient_for_radiation.sce"
		   ]
		  },
  {
"cell_type": "code",
	   "execution_count": null,
	   "metadata": {
	    "collapsed": true
	   },
	   "outputs": [],
"source": [
"//Chapter-10, Example 10.29, Page 461\n",
"//=============================================================================\n",
"clc\n",
"clear\n",
"\n",
"//INPUT DATA\n",
"t=0.05;//Thickness of the gas layer in m\n",
"r=0.1;//Remaining radiation  intensity\n",
"\n",
"//CALCULATIONS\n",
"a=(-1/t)*2.3*(log(r)/log(10));//Extinction coefficient per m\n",
"\n",
"//OUTPUT\n",
"mprintf('Extinction coefficient is %3.2f/m',a)\n",
"\n",
"//=================================END OF PROGRAM=============================="
   ]
   }
,
{
		   "cell_type": "markdown",
		   "metadata": {},
		   "source": [
			"## Example 10.30: Emmissivity_of_the_mixture.sce"
		   ]
		  },
  {
"cell_type": "code",
	   "execution_count": null,
	   "metadata": {
	    "collapsed": true
	   },
	   "outputs": [],
"source": [
"//Chapter-10, Example 10.30, Page 462\n",
"//=============================================================================\n",
"clc\n",
"clear\n",
"\n",
"//INPUT DATA\n",
"A=30;//Total surface area in m^2\n",
"V=10;//Volume in m^3\n",
"Ts=1000;//Temperature of the furnace in degree C\n",
"p=2;//Total pressure in atm\n",
"ph2o=0.1;//Partial pressure of water vapour in atm\n",
"pco2=0.3;//Partial pressure of CO2\n",
"\n",
"//CALCULATIONS\n",
"lms=(3.6*V)/A;//Mean beam length in m\n",
"pco2lms=(pco2*lms);//pco2lms in m.atm\n",
"eco2=0.16;//From Fig.10.23 on page no. 458\n",
"cco2=1.11;//From Fig.10.23 on page no. 458\n",
"cco2eco2=(cco2*eco2);//cco2eco2 value\n",
"ph2olms=(ph2o*lms);//ph2olms in m.atm\n",
"eh2o=0.12;//From Fig.10.24 on page no. 459\n",
"P=(p+ph2o)/2;//P value in atm\n",
"ch2o=1.43;//From Fig.10.26 on page no. 460\n",
"ch2oeh2o=(ch2o*eh2o);//ch2oeh2o value\n",
"P1=(ph2o/(ph2o+pco2));//Ratio of pressures\n",
"X=(pco2lms+ph2olms);//X value in m.atm\n",
"e=0.035;//Error value from Fig. 10.27 on page no.461\n",
"et=(cco2eco2+ch2oeh2o-e);//Total emissivity of the gaseous mixture \n",
"\n",
"//OUTPUT\n",
"mprintf('Emissivity of the gaseous mixture is %3.4f',et)\n",
"\n",
"//=================================END OF PROGRAM=============================="
   ]
   }
,
{
		   "cell_type": "markdown",
		   "metadata": {},
		   "source": [
			"## Example 10.31: Net_radiation_exchange_and_coefficient_of_heat_transfer.sce"
		   ]
		  },
  {
"cell_type": "code",
	   "execution_count": null,
	   "metadata": {
	    "collapsed": true
	   },
	   "outputs": [],
"source": [
"//Chapter-10, Example 10.31, Page 463\n",
"//=============================================================================\n",
"clc\n",
"clear\n",
"\n",
"//INPUT DATA\n",
"Tg=950+273;//Flue gas temperature in K\n",
"p=1;//Total pressure in atm\n",
"pco2=0.1;//Percent of co2\n",
"ph2o=0.04;//Percent of h2o\n",
"D=0.044;//Diameter of the tube in m\n",
"e=0.8;//Emissivity of grey surface \n",
"Tw=500+273;//Uniform temperature in K\n",
"\n",
"//CALCULATIONS\n",
"lms=(3*0.044);//lms value from Table 10.2 on page no. 457\n",
"pco2lms=(pco2*lms);//pco2lms in m.atm\n",
"ph2olms=(ph2o*lms);//ph2olms in m.atm\n",
"eco2=0.05;//From Fig.10.23 on page no. 458\n",
"eh2o=0.005;//From Fig.10.24 on page no. 459\n",
"b=1.05;//Correction factor from Fig. 10.28 on page no. 461\n",
"eg=0.061;//Total emissivity of gaseous mixture\n",
"ag=((0.056*(Tg/Tw)^0.65)+(b*0.021));//Absorbtivity of the gases \n",
"q=(0.5*(e+1)*5.67*10^-8*((eg*Tg^4)-(ag*Tw^4)));//Heat transfer rate by radiation in W/m^2\n",
"hr=(q/(Tg-Tw));//Radiation heat transfer coefficient in W/m^2.degree C\n",
"\n",
"//OUTPUT\n",
"mprintf('Net radiation exchange between the gas and the tube walls is %3.0f W/m^2 \nRadiation heat transfer coefficient is %3.2f W/m^2.degree C',q,hr)\n",
"\n",
"//=================================END OF PROGRAM=============================="
   ]
   }
,
{
		   "cell_type": "markdown",
		   "metadata": {},
		   "source": [
			"## Example 10.4: Net_exchange_of_energy.sce"
		   ]
		  },
  {
"cell_type": "code",
	   "execution_count": null,
	   "metadata": {
	    "collapsed": true
	   },
	   "outputs": [],
"source": [
"//Chapter-10, Example 10.4, Page 409\n",
"//=============================================================================\n",
"clc\n",
"clear\n",
"\n",
"//INPUT DATA\n",
"S=1;//Side of a square in m\n",
"L=0.4;//Diatance between the plates in m\n",
"T1=900;//Temperature of one plate in degree C\n",
"T2=400;//Temperature of the other plate in degree C\n",
"\n",
"//CALCULATIONS\n",
"R=(S/L);//Ratio of the side of the square to the distance between plates\n",
"F12=0.415;//From Fig.10.4 on page no.409\n",
"Q=(5.67*10^-8*S*S*F12*((T1+273)^4-(T2+273)^4))/1000;//The net heat transfer in kW\n",
"\n",
"//OUTPUT\n",
"mprintf('The net exchange of energy due to radiation between the plates is %3.1f kW',Q)\n",
"\n",
"//=================================END OF PROGRAM=============================="
   ]
   }
,
{
		   "cell_type": "markdown",
		   "metadata": {},
		   "source": [
			"## Example 10.5: Shape_factor.sce"
		   ]
		  },
  {
"cell_type": "code",
	   "execution_count": null,
	   "metadata": {
	    "collapsed": true
	   },
	   "outputs": [],
"source": [
"//Chapter-10, Example 10.5, Page 411\n",
"//=============================================================================\n",
"clc\n",
"clear\n",
"\n",
"//INPUT DATA\n",
"A51=2;//Ratio of areas A5 and A1\n",
"A21=1;//Ratio of areas A2 and A1\n",
"F56=0.15;//Shape factor\n",
"F53=0.11;//Shape factor\n",
"F26=0.24;//Shape Factor\n",
"F23=0.2;//Shape Factor\n",
"\n",
"//CALCULATIONS\n",
"F14=(A51*(F56-F53))-(A21*(F26-F23));//Shape factor\n",
"\n",
"//OUTPUT\n",
"mprintf('Shape factor F14 is %3.2f',F14)\n",
"\n",
"//=================================END OF PROGRAM=============================="
   ]
   }
,
{
		   "cell_type": "markdown",
		   "metadata": {},
		   "source": [
			"## Example 10.8: Net_heat_exchange.sce"
		   ]
		  },
  {
"cell_type": "code",
	   "execution_count": null,
	   "metadata": {
	    "collapsed": true
	   },
	   "outputs": [],
"source": [
"//Chapter-10, Example 10.8, Page 415\n",
"//=============================================================================\n",
"clc\n",
"clear\n",
"\n",
"//INPUT DATA\n",
"Th=40;//Radiating heating panel in degree C\n",
"Tb=5;//Temperature of black plane in degree C\n",
"Tc=31;//Temperature of ceiling in degree C\n",
"A=(10*12);//Area in m^2\n",
"\n",
"//CALCULATIONS\n",
"F56=0.075;//Using Fig.10.2 on page no. 408\n",
"F63=0.04;//Using Fig.10.2 on page no. 408\n",
"F12=0.052;//Shape factor\n",
"F1w=(1-F12);//Shape factor between the floor and all the walls but the window\n",
"Q12=(A*F12*5.67*10^-8*((Th+273)^4-(Tb+273)^4));//Heat exchange between the floor and window in W\n",
"Q1=(5.67*10^-8*A*((Th+273.15)^4-((F12*(Th+273.15)^4)-(F1w*(Tb+273.15)^4))))/1000;//Net heat given up by the floor in kW\n",
"\n",
"//OUTPUT\n",
"mprintf('Heat exchange between the floor and window is %3.0f W \nNet heat given up by the floor is %3.1f kW',Q12,Q1)\n",
"\n",
"//=================================END OF PROGRAM=============================="
   ]
   }
],
"metadata": {
		  "kernelspec": {
		   "display_name": "Scilab",
		   "language": "scilab",
		   "name": "scilab"
		  },
		  "language_info": {
		   "file_extension": ".sce",
		   "help_links": [
			{
			 "text": "MetaKernel Magics",
			 "url": "https://github.com/calysto/metakernel/blob/master/metakernel/magics/README.md"
			}
		   ],
		   "mimetype": "text/x-octave",
		   "name": "scilab",
		   "version": "0.7.1"
		  }
		 },
		 "nbformat": 4,
		 "nbformat_minor": 0
}
