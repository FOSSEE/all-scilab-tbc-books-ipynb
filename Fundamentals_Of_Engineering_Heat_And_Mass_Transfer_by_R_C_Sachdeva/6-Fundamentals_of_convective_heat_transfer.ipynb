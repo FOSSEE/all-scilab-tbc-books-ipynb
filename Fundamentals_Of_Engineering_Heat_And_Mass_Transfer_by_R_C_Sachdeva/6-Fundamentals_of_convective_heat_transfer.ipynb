{
"cells": [
 {
		   "cell_type": "markdown",
	   "metadata": {},
	   "source": [
       "# Chapter 6: Fundamentals of convective heat transfer"
	   ]
	},
{
		   "cell_type": "markdown",
		   "metadata": {},
		   "source": [
			"## Example 6.2: Type_of_flow.sce"
		   ]
		  },
  {
"cell_type": "code",
	   "execution_count": null,
	   "metadata": {
	    "collapsed": true
	   },
	   "outputs": [],
"source": [
"//Chapter-6, Example 6.2, Page 241\n",
"//=============================================================================\n",
"clc\n",
"clear\n",
"\n",
"//INPUT DATA\n",
"L=1;//Length of the palte in m\n",
"W=1;//Width of the plate in m\n",
"v=2.5;//Velocity of air in m/s\n",
"Re=(5*10^5);//Reynolds number at the transition from laminar to turbulant\n",
"p=(0.85*10^-5);//Dynamic viscosity in N.s/m^2\n",
"r=1.12;//Density in kg/m^3\n",
"\n",
"//CALCULATIONS\n",
"x=(p*Re)/(r*v);//Calculated length in m\n",
"\n",
"//OUTPUT\n",
"mprintf('Since the actual length of the plate is %i m, which is less than %3.2f m, the flow is laminar over the entire length of plate',L,x)\n",
"\n",
"//=================================END OF PROGRAM=============================="
   ]
   }
,
{
		   "cell_type": "markdown",
		   "metadata": {},
		   "source": [
			"## Example 6.6: Maximum_temperature_rise_and_heat_flux.sce"
		   ]
		  },
  {
"cell_type": "code",
	   "execution_count": null,
	   "metadata": {
	    "collapsed": true
	   },
	   "outputs": [],
"source": [
"//Chapter-6, Example 6.6, Page 247\n",
"//=============================================================================\n",
"clc\n",
"clear\n",
"\n",
"//INPUT DATA\n",
"p=0.8;//Dynamic viscosity in N.s/m^2\n",
"k=0.15;//Thermal conductivity in W/m.K\n",
"Tb=10;//Temperature of bearing in degree C\n",
"Ts=30;//Temperature of the shaft in degree C\n",
"C=0.002;//Clearance between bearig and shaft in m\n",
"U=6;//Velocity in m/s\n",
"\n",
"//CALCULATIONS\n",
"qb=(((-p*U^2)/(2*C))-((k/C)*(Ts-Tb)))/1000;//Surface heat flux at the bearing in kW/m^2\n",
"qs=(((p*U^2)/(2*C))-((k/C)*(Ts-Tb)))/1000;//Surface heat flux at the shaft in kW/m^2\n",
"Tmax=Tb+(((p*U^2)/(2*k))*(0.604-0.604^2))+((Ts-Tb)*0.604);//Maximum temperature in degree C occurs when ymax=0.604L\n",
"\n",
"//OUTPUT\n",
"mprintf('Maximum temperature rise is %3.3f degree C \n Heat fux to the bearing is %3.1f kW/m^2 \n Heat fux to the shaft is %3.1f kW/m^2',Tmax,qb,qs)\n",
"\n",
"//=================================END OF PROGRAM=============================="
   ]
   }
,
{
		   "cell_type": "markdown",
		   "metadata": {},
		   "source": [
			"## Example 6.7: Type_of_flow_and_entry_length.sce"
		   ]
		  },
  {
"cell_type": "code",
	   "execution_count": null,
	   "metadata": {
	    "collapsed": true
	   },
	   "outputs": [],
"source": [
"//Chapter-6, Example 6.7, Page 257\n",
"//=============================================================================\n",
"clc\n",
"clear\n",
"\n",
"//INPUT DATA\n",
"D=0.02;//I.D of the tube in m\n",
"Q=1.5;//Flow rate in litres per minute\n",
"k=(1*10^-6);//kinematic viscosity in m^2/s\n",
"\n",
"//CALCULATIONS\n",
"um=((Q/60)*10^-3)/(3.14*(D^2/4));//Average velocity in m/s\n",
"Re=(um*D)/k;//Reynolds number\n",
"x=0.05*D*Re;//Entry length in m\n",
"\n",
"//OUTPUT\n",
"mprintf('Since Re which is %3.0f less than 2300, the flow is laminar. \n Entry length is %3.3f m',Re,x)\n",
"\n",
"//=================================END OF PROGRAM=============================="
   ]
   }
,
{
		   "cell_type": "markdown",
		   "metadata": {},
		   "source": [
			"## Example 6.8: Head_loss_and_power_required.sce"
		   ]
		  },
  {
"cell_type": "code",
	   "execution_count": null,
	   "metadata": {
	    "collapsed": true
	   },
	   "outputs": [],
"source": [
"//Chapter-6, Example 6.8, Page 257\n",
"//=============================================================================\n",
"clc\n",
"clear\n",
"\n",
"//INPUT DATA\n",
"L=3000;//Diatance transported in m\n",
"D=0.02;//I.D of the tube in m\n",
"Q=1.5;//Flow rate in litres per minute\n",
"k=(1*10^-6);//kinematic viscosity in m^2/s\n",
"pw=1000;//Density of water in kg/m^3\n",
"\n",
"//CALCULATIONS\n",
"um=((Q/60)*10^-3)/(3.14*(D^2/4));//Average velocity in m/s\n",
"Re=(um*D)/k;//Reynolds number\n",
"x=0.05*D*Re;//Entry length in m\n",
"hL=((64/Re)*L*um^2)/(2*D*9.81)//Head loss in m\n",
"P=(pw*9.81*(3.14/4)*D^2*um*hL);//Power required to maintain this flow rate in W\n",
"\n",
"//OUTPUT\n",
"mprintf('Head loss is %3.2f m \n Power required to maintain this flow rate is %3.4f W',hL,P)\n",
"\n",
"//=================================END OF PROGRAM=============================="
   ]
   }
,
{
		   "cell_type": "markdown",
		   "metadata": {},
		   "source": [
			"## Example 6.9: Pressure_drop.sce"
		   ]
		  },
  {
"cell_type": "code",
	   "execution_count": null,
	   "metadata": {
	    "collapsed": true
	   },
	   "outputs": [],
"source": [
"//Chapter-6, Example 6.9, Page 258\n",
"//=============================================================================\n",
"clc\n",
"clear\n",
"\n",
"//INPUT DATA\n",
"L=100;//Length of rectangular duct in m\n",
"A=[0.02,0.025];//Area of duct in m^2\n",
"Tw=40;//Temperature of water in degree C\n",
"v=0.5;//Velocity of flow in m/s\n",
"k=(0.66*10^-6);//kinematic viscosity in m^2/s\n",
"p=995;//Density of water in kg/m^3\n",
"\n",
"//CALCULATIONS\n",
"P=2*(A(1)+A(2));//Perimeter of the duct in m\n",
"Dh=(4*(A(1)*A(2)))/P//Hydraulic diameter of the duct in m\n",
"Re=(v*Dh)/k;//Reynolds number\n",
"f=0.316*Re^(-0.25);//Friction factor \n",
"hL=(f*L*v^2)/(2*Dh*9.81);//Head loss in m\n",
"P=(hL*9.81*p)/10^4;//Pressure drop in smooth rectangular duct in 10^4 N/m^2\n",
"\n",
"//OUTPUT\n",
"mprintf('Pressure drop in smooth rectangular duct is %3.4f*10^4 N/m^2',P)\n",
"\n",
"//=================================END OF PROGRAM=============================="
   ]
   }
],
"metadata": {
		  "kernelspec": {
		   "display_name": "Scilab",
		   "language": "scilab",
		   "name": "scilab"
		  },
		  "language_info": {
		   "file_extension": ".sce",
		   "help_links": [
			{
			 "text": "MetaKernel Magics",
			 "url": "https://github.com/calysto/metakernel/blob/master/metakernel/magics/README.md"
			}
		   ],
		   "mimetype": "text/x-octave",
		   "name": "scilab",
		   "version": "0.7.1"
		  }
		 },
		 "nbformat": 4,
		 "nbformat_minor": 0
}
