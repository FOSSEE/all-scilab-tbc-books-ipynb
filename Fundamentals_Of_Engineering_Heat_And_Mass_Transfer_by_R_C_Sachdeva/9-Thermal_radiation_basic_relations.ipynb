{
"cells": [
 {
		   "cell_type": "markdown",
	   "metadata": {},
	   "source": [
       "# Chapter 9: Thermal radiation basic relations"
	   ]
	},
{
		   "cell_type": "markdown",
		   "metadata": {},
		   "source": [
			"## Example 9.1: Rate_of_solar_radiatio.sce"
		   ]
		  },
  {
"cell_type": "code",
	   "execution_count": null,
	   "metadata": {
	    "collapsed": true
	   },
	   "outputs": [],
"source": [
"//Chapter-9, Example 9.1, Page 378\n",
"//=============================================================================\n",
"clc\n",
"clear\n",
"\n",
"//INPUT DATA\n",
"T=5527;//Temperature of black body in degree C\n",
"D=(1.39*10^6);//Diameter of the sun in km\n",
"L=(1.5*10^8);//Distance between the earth and sun in km\n",
"\n",
"//CALCULATIONS\n",
"q=(5.67*10^-8*(T+273)^4*D^2)/(4*L^2);//Rate of solar radiation in W/m^2\n",
"\n",
"//OUTPUT\n",
"mprintf('Rate of solar radiation on a plane normal to sun rays is %3.0f W/m^2',q)\n",
"\n",
"//=================================END OF PROGRAM=============================="
   ]
   }
,
{
		   "cell_type": "markdown",
		   "metadata": {},
		   "source": [
			"## Example 9.2: Fraction_of_thermal_radiation_emmitted_by_the_surafce.sce"
		   ]
		  },
  {
"cell_type": "code",
	   "execution_count": null,
	   "metadata": {
	    "collapsed": true
	   },
	   "outputs": [],
"source": [
"//Chapter-9, Example 9.2, Page 383\n",
"//=============================================================================\n",
"clc\n",
"clear\n",
"\n",
"//INPUT DATA\n",
"T=(727+273);//Temperature of black body in K\n",
"l1=1;//Wavelength in micro meter\n",
"l2=5;//Wavelength in micro meter\n",
"F1=0.0003;//From Table 9.2 on page no. 385\n",
"F2=0.6337;//From Table 9.2 on page no. 385\n",
"\n",
"//CALCULATIONS\n",
"a=(5.67*10^-8*T^4)/1000;//Heat transfer in kW/m^2\n",
"F=(F2-F1)*a;//Fraction of thermal radiation emitted by the surface in kW/m^2\n",
"\n",
"//OUTPUT\n",
"mprintf('Fraction of thermal radiation emitted by the surface is %3.1f kW/m^2',F)\n",
"\n",
"//=================================END OF PROGRAM=============================="
   ]
   }
,
{
		   "cell_type": "markdown",
		   "metadata": {},
		   "source": [
			"## Example 9.3: Hemispherical_transmittivity.sce"
		   ]
		  },
  {
"cell_type": "code",
	   "execution_count": null,
	   "metadata": {
	    "collapsed": true
	   },
	   "outputs": [],
"source": [
"//Chapter-9, Example 9.3, Page 384\n",
"//=============================================================================\n",
"clc\n",
"clear\n",
"\n",
"//INPUT DATA\n",
"t=0.8;//Transmittivity of glass in the region except in the wave length region [0.4,3]\n",
"T=5555;//Temperature of black body in K\n",
"\n",
"//CALCULATIONS\n",
"ao=0;//a0 in micro K\n",
"a1=(0.4*T);//a1 for the wavelength 0.4 micro meter in micro K\n",
"a2=(3*T);//a1 for the wavelength 3 micro meter in micro K\n",
"F0=0;//From Table 9.2 on page no.385\n",
"F1=0.10503;//From Table 9.2 on page no.385\n",
"F2=0.97644;//From Table 9.2 on page no.385\n",
"t1=t*(F2-F1);//Average hemispherical transmittivity of glass \n",
"\n",
"//OUTPUT\n",
"mprintf('Average hemispherical transmittivity of glass is %3.2f',t1)\n",
"\n",
"//=================================END OF PROGRAM=============================="
   ]
   }
,
{
		   "cell_type": "markdown",
		   "metadata": {},
		   "source": [
			"## Example 9.4: Surface_temperature_and_emmisive_power.sce"
		   ]
		  },
  {
"cell_type": "code",
	   "execution_count": null,
	   "metadata": {
	    "collapsed": true
	   },
	   "outputs": [],
"source": [
"//Chapter-9, Example 9.4, Page 386\n",
"//=============================================================================\n",
"clc\n",
"clear\n",
"\n",
"//INPUT DATA\n",
"l=0.5;//Wavelength at maximum intensity of radiation in micro meter\n",
"\n",
"//CALCULATIONS\n",
"T=(0.289*10^-2)/(l*10^-6);//Temperature according to Wien's displacement law in degree C\n",
"E=(5.67*10^-8*T^4)/10^6;//Emissive power using Stefan-Boltzmann law in MW/m^2\n",
"\n",
"//OUTPUT\n",
"mprintf('Surface temperature is %3.0f K \nEmissive power is %3.1f MW/m^2',T,E)\n",
"\n",
"//=================================END OF PROGRAM=============================="
   ]
   }
,
{
		   "cell_type": "markdown",
		   "metadata": {},
		   "source": [
			"## Example 9.5: Emmissivity_and_wave_length.sce"
		   ]
		  },
  {
"cell_type": "code",
	   "execution_count": null,
	   "metadata": {
	    "collapsed": true
	   },
	   "outputs": [],
"source": [
"//Chapter-9, Example 9.5, Page 389\n",
"//=============================================================================\n",
"clc\n",
"clear\n",
"\n",
"//INPUT DATA\n",
"Ts=(827+273);//Surface temperature in degree C\n",
"E=(1.37*10^10);//Emmisive power in W/m^3\n",
"\n",
"//CALCULATIONS\n",
"Eblmax=(1.307*10^-5*Ts^5);//Maximum emissive power in W/m^3\n",
"e=(E/Eblmax);//Emissivity of the body \n",
"lmax=((0.289*10^-2)/Ts)/10^-6;//Wavelength correspoing to the maximum spectral intensity of radiation in micro meter\n",
"\n",
"//OUTPUT\n",
"mprintf('Wavelength corresponding to the maximum spectral intensity of radiation is %3.2f micro meter',lmax)\n",
"\n",
"//=================================END OF PROGRAM=============================="
   ]
   }
,
{
		   "cell_type": "markdown",
		   "metadata": {},
		   "source": [
			"## Example 9.6: True_temperature_of_the_body.sce"
		   ]
		  },
  {
"cell_type": "code",
	   "execution_count": null,
	   "metadata": {
	    "collapsed": true
	   },
	   "outputs": [],
"source": [
"//Chapter-9, Example 9.6, Page 389\n",
"//=============================================================================\n",
"clc\n",
"clear\n",
"\n",
"//INPUT DATA\n",
"T=(1400+273);//Temperature of the body in K\n",
"l=0.65;//Wavelength in micro meter\n",
"e=0.6;//Emissivity\n",
"\n",
"//CALCULATIONS\n",
"T=(1/((1/T)-((l*10^-6*log(1/e))/(1.439*10^-2))));//Temperature of the body in K\n",
"Tb=(T-273);//Temperature of the body in degree C\n",
"\n",
"//OUTPUT\n",
"mprintf('Temperature of the body is %3.0f degree C',Tb)\n",
"\n",
"//=================================END OF PROGRAM=============================="
   ]
   }
,
{
		   "cell_type": "markdown",
		   "metadata": {},
		   "source": [
			"## Example 9.7: Rate_of_absorbption_and_emmission.sce"
		   ]
		  },
  {
"cell_type": "code",
	   "execution_count": null,
	   "metadata": {
	    "collapsed": true
	   },
	   "outputs": [],
"source": [
"//Chapter-9, Example 9.7, Page 391\n",
"//=============================================================================\n",
"clc\n",
"clear\n",
"\n",
"//INPUT DATA\n",
"Ts=(37+273);//Temperature of metallic bar in K\n",
"T=1100;//Interior temperature in K\n",
"a=0.52;//Absorptivity at 1100 K\n",
"e=0.8;//Emissivity at 310 K\n",
"//CALCULATIONS\n",
"Q=(a*5.67*10^-8*T^4)/1000;//Rate of absorption in kW/m^2\n",
"E=(e*5.67*10^-8*Ts^4)/1000;//Rate of emissin in kW/m^2\n",
"\n",
"//OUTPUT\n",
"mprintf('Rate of absorption is %3.2f kW/m^2 \nRate of emissin is %3.2f kW/m^2',Q,E)\n",
"\n",
"//=================================END OF PROGRAM=============================="
   ]
   }
,
{
		   "cell_type": "markdown",
		   "metadata": {},
		   "source": [
			"## Example 9.8: Energy_absorbed_and_transmitted.sce"
		   ]
		  },
  {
"cell_type": "code",
	   "execution_count": null,
	   "metadata": {
	    "collapsed": true
	   },
	   "outputs": [],
"source": [
"//Chapter-9, Example 9.8, Page 391\n",
"//=============================================================================\n",
"clc\n",
"clear\n",
"\n",
"//INPUT DATA\n",
"e1=0.3//Emissivity of glass upto 3 micro meter\n",
"e2=0.9;//Emissivity of glass above 3 micro meter\n",
"t=0.8;//Transmittivity of glass in the region except in the wave length region [0.4,3]\n",
"\n",
"//CALCULATIONS\n",
"E=(5.67*10^-8*5780^4)/10^6;//Emissive power in MW/m^2\n",
"F1=0.10503;//From Table 9.2 on page no.385\n",
"F2=0.97644;//From Table 9.2 on page no.385\n",
"I=(E*10^6*(F2-F1))/10^6;//Total incident radiation in MW/m^2\n",
"T=(t*I);//Total radiation transmitted in MW/m^2\n",
"t1=(e1*I);//Absorbed radiation in MW/m^2 in wavelength  [0.4,3] micro meter\n",
"t2=(e1*E*F1);//Absorbed radiation in MW/m^2 in wavelength not in the range [0.4,3] micro meter\n",
"t3=(e2*(1-F2)*E);//Absorbed radiation in MW/m^2 in wavelength greater than 3 micro meter\n",
"R=(t1+t2+t3);//Total radiation absorbed in MW/m^2\n",
"\n",
"//OUTPUT\n",
"mprintf('Total radiation transmitted is %3.2f MW/m^2 \nTotal radiation absorbed is %3.2f MW/m^2',T,R)\n",
"\n",
"//=================================END OF PROGRAM=============================="
   ]
   }
],
"metadata": {
		  "kernelspec": {
		   "display_name": "Scilab",
		   "language": "scilab",
		   "name": "scilab"
		  },
		  "language_info": {
		   "file_extension": ".sce",
		   "help_links": [
			{
			 "text": "MetaKernel Magics",
			 "url": "https://github.com/calysto/metakernel/blob/master/metakernel/magics/README.md"
			}
		   ],
		   "mimetype": "text/x-octave",
		   "name": "scilab",
		   "version": "0.7.1"
		  }
		 },
		 "nbformat": 4,
		 "nbformat_minor": 0
}
