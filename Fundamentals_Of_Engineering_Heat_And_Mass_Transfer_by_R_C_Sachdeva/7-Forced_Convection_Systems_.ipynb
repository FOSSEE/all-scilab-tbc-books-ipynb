{
"cells": [
 {
		   "cell_type": "markdown",
	   "metadata": {},
	   "source": [
       "# Chapter 7: Forced Convection Systems "
	   ]
	},
{
		   "cell_type": "markdown",
		   "metadata": {},
		   "source": [
			"## Example 5.19: Nusselt_number.sce"
		   ]
		  },
  {
"cell_type": "code",
	   "execution_count": null,
	   "metadata": {
	    "collapsed": true
	   },
	   "outputs": [],
"source": [
"//Chapter-7, Example 7.19, Page 314\n",
"//=============================================================================\n",
"clc\n",
"clear\n",
"\n",
"//INPUT DATA\n",
"Di=0.015;//I.D of the tube in m\n",
"Tb=60;//Temperature of the tube in degree C\n",
"m=10;//Flow rate of water in ml/s\n",
"Ti=20;//Temperature of water at entry in degree C\n",
"x=1;//Distance form the plane in m\n",
"Tx=34;//Temperature of water at 1 m distance in degree C\n",
"\n",
"//CALCULATIONS\n",
"Tbm=(Ti+Tx)/2;//Mean value of bulk temperature in degree C\n",
"pw=997;//Density of air at 27 degree C in kg/m^3\n",
"Cp=4180;//Specific heat of air at 27 degree C in J/kg.K\n",
"u=(855*10^-6);//Dynamic viscosity of air at 27 degree C in N.s/m^2\n",
"k=0.613;//Thermal conductivity of air at 27 degree C in W/m.K\n",
"Pr=5.83;//prantl number of air at 27 degree C\n",
"us=(464*10^-6);//Dynamic viscosity of air at 60 degree C in Ns/m^2\n",
"um=(m*10^-6)/((3.14/4)*Di^2);//Mean speed in m/s\n",
"Re=(pw*um*Di)/u;//Reynolds number\n",
"Nu=3.66+((0.0668*(Di/x)*Re*Pr)/(1+(0.04*((Di/x)*Re*Pr)^(2/3))));//Nusselts number in Haussen correlation\n",
"Nux=(1.86*((Re*Pr)/(x/Di))^(1/3)*(u/us)^0.14);//Nusselsts number in Sieder - Tate correlation \n",
"\n",
"//OUTPUT\n",
"mprintf('Nusselts number in Haussen correlation is %3.2f \nNusselsts number in Sieder - Tate correlation is %3.3f',Nu,Nux)\n",
"\n",
"//=================================END OF PROGRAM=============================="
   ]
   }
,
{
		   "cell_type": "markdown",
		   "metadata": {},
		   "source": [
			"## Example 7.10: Heat_transfer_coefficient_and_current_intensity.sce"
		   ]
		  },
  {
"cell_type": "code",
	   "execution_count": null,
	   "metadata": {
	    "collapsed": true
	   },
	   "outputs": [],
"source": [
"//Chapter-7, Example 7.10, Page 297\n",
"//=============================================================================\n",
"clc\n",
"clear\n",
"\n",
"//INPUT DATA\n",
"D=0.015;//Diamter of copper bus bar in m\n",
"Ta=20;//Temperature of air stream in degree C\n",
"v=1;//Velocity of air in m/s\n",
"Ts=80;//Surface temperature in degree C\n",
"p=0.0175;//Resistivity of copper in ohm mm^2/m\n",
"\n",
"//CALCULATIONS\n",
"Tf=(Ta+Ts)/2;//Film temperature in degree C\n",
"k=0.02815;//Thermal conductivity of air at 50 degree C \n",
"Pr=0.703;//prant number of air at 50 degree C\n",
"v1=(18.9*10^-6);//Kinematic viscosity of air at 50 degree C\n",
"Re=(v*D)/v1;//Reynolds number\n",
"Nu=0.3+(((0.62*sqrt(Re)*Pr^(1/3))/(1+(0.4/Pr)^(2/3))^(1/4))*(1+(Re/28200)^(5/8))^(4/5));//Nusselts number\n",
"h=(Nu*k)/D;//Heat transfer coefficent in W/m^2.K\n",
"I=1000*3.14*D*sqrt((h*(Ts-Ta)*D)/(4*p));//Current in A\n",
"\n",
"//OUTPUT\n",
"mprintf('Heat transfer coefficient between the bus bar and cooling air is %3.2f W/m^2.K \nMaximum admissible current intensity for the bus bar is %3.0f A',h,I)\n",
"\n",
"//=================================END OF PROGRAM=============================="
   ]
   }
,
{
		   "cell_type": "markdown",
		   "metadata": {},
		   "source": [
			"## Example 7.11: Rate_of_heat_transfer.sce"
		   ]
		  },
  {
"cell_type": "code",
	   "execution_count": null,
	   "metadata": {
	    "collapsed": true
	   },
	   "outputs": [],
"source": [
"//Chapter-7, Example 7.11, Page 298\n",
"//=============================================================================\n",
"clc\n",
"clear\n",
"\n",
"//INPUT DATA\n",
"Ta=30;//Temperature of air stream in degree C\n",
"v=25;//Velocity of stream in m/s\n",
"x=0.05;//Side of a square in m\n",
"D=0.05;//Diameter of circular cylinder in m\n",
"Ts=124;//Surface temperature in degree C\n",
"\n",
"//CALCULATIONS\n",
"Tf=(Ta+Ts)/2;//Film temperature in degree C\n",
"k=0.03;//Thermal conductivity of air at 77 degree C \n",
"Pr=0.7;//prantL number of air at 77 degree C\n",
"v1=(20.92*10^-6);//Kinematic viscosity of air at 77 degree C\n",
"Re=(v*D)/v1;//Reynolds number\n",
"Nu1=0.027*Re^0.805*Pr^(1/3);//Nussults number for circulat tube\n",
"h1=(Nu1*k)/D;//Heat tansfer coefficient for circular tube in W/m^2.K\n",
"Nu2=0.102*Re^0.675*Pr^(1/3);//Nussults number for square tube\n",
"h2=(Nu2*k)/D;//Heat transfer coefficient for square tube in W/m^2.K\n",
"\n",
"//OUTPUT\n",
"mprintf('Heat transfer coefficient for circular tube is %3.1f W/m^2.K \nHeat transfer coefficient for square tube is %3.2f W/m^2.K',h1,h2)\n",
"\n",
"//=================================END OF PROGRAM=============================="
   ]
   }
,
{
		   "cell_type": "markdown",
		   "metadata": {},
		   "source": [
			"## Example 7.12: Heat_transfer_coefficient_and_pressure_drop.sce"
		   ]
		  },
  {
"cell_type": "code",
	   "execution_count": null,
	   "metadata": {
	    "collapsed": true
	   },
	   "outputs": [],
"source": [
"//Chapter-7, Example 7.12, Page 302\n",
"//=============================================================================\n",
"clc\n",
"clear\n",
"\n",
"//INPUT DATA\n",
"n=7;//Number of rows of tube\n",
"Ta=15;//Temperature of air in degree C\n",
"v=6;//Velocity of air in m/s\n",
"ST=0.0205;//Transverse  pitch in m\n",
"SD=0.0205;//Longitudinal pitch in m\n",
"D=0.0164;//Outside diameter of the tube in m\n",
"Ts=70;//Surface temperature in degree C\n",
"\n",
"//CALCULATIONS\n",
"Tf=(Ta+Ts)/2;//Film temperature in degree C\n",
"k=0.0274;//Thermal conductivity of air at 42.5 degree C \n",
"Pr=0.705;//prant number of air at 42.5 degree C\n",
"v1=(17.4*10^-6);//Kinematic viscosity of air at 42.5 degree C\n",
"p=1.217;//Density in kg/m^3\n",
"vmax=(v*ST)/(ST-D);//Maximum velocity in m/s\n",
"Re=(vmax*D)/v1;//Reynolds number\n",
"Nu=(1.13*0.518*Re^0.556*Pr^(1/3))*0.97;//Nusselts number\n",
"h=(Nu*k)/D;//Heat transfer coefficent in W/m^2.K\n",
"f=0.4;//From Fig. 7.10 on page no 303 \n",
"g=1.04;//From Fig. 7.10 on page no 303\n",
"dp=(n*f*p*vmax^2*g)/2;//Pressure drop in N/m^2\n",
"\n",
"//OUTPUT\n",
"mprintf('Heat transfer coefficent is %3.2f W/m^2.K \nPressure drop is %3.0f N/m^2',h,dp)\n",
"\n",
"//=================================END OF PROGRAM=============================="
   ]
   }
,
{
		   "cell_type": "markdown",
		   "metadata": {},
		   "source": [
			"## Example 7.13: Convection_coefficient.sce"
		   ]
		  },
  {
"cell_type": "code",
	   "execution_count": null,
	   "metadata": {
	    "collapsed": true
	   },
	   "outputs": [],
"source": [
"//Chapter-7, Example 7.13, Page 304\n",
"//=============================================================================\n",
"clc\n",
"clear\n",
"\n",
"//INPUT DATA\n",
"n=7;//Number of rows of tube\n",
"Ta=15;//Temperature of air in degree C\n",
"v=6;//Velocity of air in m/s\n",
"ST=0.0205;//Transverse  pitch in m\n",
"SD=0.0205;//Longitudinal pitch in m\n",
"D=0.0164;//Outside diameter of the tube in m\n",
"Ts=70;//Surface temperature in degree C\n",
"\n",
"//CALCULATIONS\n",
"Tf=(Ta+Ts)/2;//Film temperature in degree C\n",
"k=0.0253;//Thermal conductivity of air at 15 degree C \n",
"Pr=0.710;//prant number of air at 15 degree C\n",
"v1=(14.82*10^-6);//Kinematic viscosity of air at 15 degree C\n",
"p=1.217;//Density in kg/m^3\n",
"Pr1=0.701;//prant number of air at 70 degree C\n",
"vmax=(v*ST)/(ST-D);//Maximum velocity in m/s\n",
"Re=(vmax*D)/v1;//Reynolds number\n",
"Nu=0.35*Re^0.6*(Pr/Pr1)^0.25;//\n",
"h=(Nu*k)/D;//Heat transfer coefficient in W/m^2.K\n",
"\n",
"mprintf(' Heat transfer coefficient is %3.1f W/m^2.K which is 10 percent more than that obtained in the previous example',h) \n",
"\n",
"//=================================END OF PROGRAM=============================="
   ]
   }
,
{
		   "cell_type": "markdown",
		   "metadata": {},
		   "source": [
			"## Example 7.14: Convective_heat_transfer_coefficient.sce"
		   ]
		  },
  {
"cell_type": "code",
	   "execution_count": null,
	   "metadata": {
	    "collapsed": true
	   },
	   "outputs": [],
"source": [
"//Chapter-7, Example 7.14, Page 305\n",
"//=============================================================================\n",
"clc\n",
"clear\n",
"\n",
"//INPUT DATA\n",
"m=0.314;//Mass flow rate of air in m^3/s\n",
"n1=7;//Number of tubes in the direction of flow\n",
"n2=8;//Number of tubes perpendicular to the direction of flow\n",
"L=1.25;//Length of each tube in m\n",
"D=0.019;//Outer diameter in m\n",
"ST=0.0286;//Transverse  pitch in m\n",
"SD=0.038;//Longitudinal pitch in m\n",
"Ta=200;//Temperature of air in degree C\n",
"Ts=96;//Surface temperature in degree C\n",
"\n",
"//CALCULATIONS\n",
"Tf=(Ta+Ts)/2;//Film temperature in degree C\n",
"k=0.039;//Thermal conductivity of air at 15 degree C \n",
"Pr=0.688;//prantl number of air at 15 degree C\n",
"v1=(3*10^-5);//Kinematic viscosity of air at 15 degree C\n",
"vmax=(m/((ST*n2*L)-(D*n2*L)));//Maximum velocity in m/s\n",
"Re=(vmax*D)/v1;//Reynolds number\n",
"Nu=(0.299*Re^0.602*Pr^(1/3));//Nusselts number\n",
"X=0.96;//From Table 7.5 on page no.302\n",
"Nux=(X*Nu);//Average nusselts number\n",
"h=(Nux*k)/D;//Convective heat transfer coefficient in W/m^2.K\n",
"\n",
"//OUTPUT\n",
"mprintf('Convective heat transfer coefficient is %3.2f W/m^2.K',h)\n",
"\n",
"//=================================END OF PROGRAM=============================="
   ]
   }
,
{
		   "cell_type": "markdown",
		   "metadata": {},
		   "source": [
			"## Example 7.15: Average_temperature_of_the_fluid.sce"
		   ]
		  },
  {
"cell_type": "code",
	   "execution_count": null,
	   "metadata": {
	    "collapsed": true
	   },
	   "outputs": [],
"source": [
"//Chapter-7, Example 7.15, Page 310\n",
"//=============================================================================\n",
"clc\n",
"clear\n",
"\n",
"//INPUT DATA\n",
"D=0.2;//Diameter of pipeline in m\n",
"//velocity profile is given by u=96r-190r^2 m/s\n",
"//Temperature profile is given by T=100(1-2r) degree C\n",
"\n",
"//CALCULATIONS\n",
"vmax=(64*(D/2))-(95*(D/2)^2);//Mean velocity in m/s\n",
"T=(2/(vmax*(D/2)^2))*(((9600*(D/2)^3)/3)-((38200*(D/2)^4)/4)+((38000*(D/2)^5)/5));//Average temperature of the fluid in degree C\n",
"\n",
"//OUTPUT\n",
"mprintf('Average temperature of the fluid is %3.2f degree C',T)\n",
"\n",
"//=================================END OF PROGRAM=============================="
   ]
   }
,
{
		   "cell_type": "markdown",
		   "metadata": {},
		   "source": [
			"## Example 7.16: Length_and_heat_transfer_coefficient.sce"
		   ]
		  },
  {
"cell_type": "code",
	   "execution_count": null,
	   "metadata": {
	    "collapsed": true
	   },
	   "outputs": [],
"source": [
"//Chapter-7, Example 7.16, Page 311\n",
"//=============================================================================\n",
"clc\n",
"clear\n",
"\n",
"//INPUT DATA\n",
"Di=0.025;//I.D of the tube in m\n",
"Do=0.04;//O.D of the tube in m\n",
"m=5;//Mass flow rate of water in kg/m\n",
"T=[20,70];//Temperature at entry and exit of water in degree C\n",
"Q=10^7;//Heat in W/m^3\n",
"Ts=80;//Surface temperature in degree C\n",
"Cp=4179;//Specific heat of water in J/kg.K\n",
"\n",
"//CALCULATIONS\n",
"Tb=(T(1)+T(2))/2;//Film temperature in degree C\n",
"L=((4*(m/60)*Cp*(T(2)-T(1)))/(3.14*(Do^2-Di^2)*Q));//Length of tube in m\n",
"qs=((Q*(Do^2-Di^2))/(4*Di));//Heat flux at the surface in W/m^2\n",
"h=(qs/(Ts-T(2)));//Heat transfer coefficient at the outlet in W/m^2.K\n",
"\n",
"//OUTPUT\n",
"mprintf('Length of tube is %3.3f m \nHeat transfer coefficient at the outlet is %3.0f W/m^2.K',L,h)\n",
"\n",
"//=================================END OF PROGRAM=============================="
   ]
   }
,
{
		   "cell_type": "markdown",
		   "metadata": {},
		   "source": [
			"## Example 7.17: Heat_transfer_coefficient_and_heat_transfer_rate.sce"
		   ]
		  },
  {
"cell_type": "code",
	   "execution_count": null,
	   "metadata": {
	    "collapsed": true
	   },
	   "outputs": [],
"source": [
"//Chapter-7, Example 7.17, Page 312\n",
"//=============================================================================\n",
"clc\n",
"clear\n",
"\n",
"//INPUT DATA\n",
"k=0.175;//Thermal conductivity in W/m.K\n",
"Di=0.006;//I.D of the tube in m\n",
"L=8;//Length of the tube in m\n",
"dT=50;//Mean temperature difference in degree C\n",
"\n",
"//CALCULATIONS\n",
"h=(3.66*k)/Di;//Heat transfer coefficient in W/m^2.K\n",
"Q=(h*3.14*Di*L*dT);//Heat transfer rate in W\n",
"\n",
"//OUTPUT\n",
"mprintf('Heat transfer coefficient is %3.2f W/m^2.K \nHeat transfer rate is %3.0f W',h,Q)\n",
"\n",
"//=================================END OF PROGRAM=============================="
   ]
   }
,
{
		   "cell_type": "markdown",
		   "metadata": {},
		   "source": [
			"## Example 7.18: Heat_transfer_coefficient_and_length_of_the_tube.sce"
		   ]
		  },
  {
"cell_type": "code",
	   "execution_count": null,
	   "metadata": {
	    "collapsed": true
	   },
	   "outputs": [],
"source": [
"//Chapter-7, Example 7.18, Page 312\n",
"//=============================================================================\n",
"clc\n",
"clear\n",
"\n",
"//INPUT DATA\n",
"Ti=25;//Initial temperature of water in degree C\n",
"D=0.05;//Diamter of the tube in m\n",
"Re=1600;//Reynolds number\n",
"q=800;//Heat flux in W/m\n",
"Tf=50;//Final temperature of water in degree C\n",
"\n",
"//CALCULATIONS\n",
"k=0.61;//Thermal conductivity of water at 25 degree C in W/m.K\n",
"u=(915*10^-6);//Dynamic viscosity in N.s/m^2\n",
"m=(Re*3.14*D*u)/4;//Mass flow rate of water in kg/s\n",
"h=(4.364*k)/D;//Heat transfer coefficient in W/m^2.K\n",
"qs=(q/(3.14*D));//Constant heat flux in W/m^2\n",
"Cp=4178;//Specific heat of water in J/kg.K\n",
"L=((m*Cp*(Tf-Ti))/q);//Length of the tube in m\n",
"\n",
"//OUTPUT\n",
"mprintf('Average heat transfer coefficient is %3.2f W/m^2.K \nLength of the tube is %3.3f m',h,L)\n",
"\n",
"//=================================END OF PROGRAM=============================="
   ]
   }
,
{
		   "cell_type": "markdown",
		   "metadata": {},
		   "source": [
			"## Example 7.1: Thickness_of_hydrodynamic_boundary_layer_and_skin_friction_coefficient.sce"
		   ]
		  },
  {
"cell_type": "code",
	   "execution_count": null,
	   "metadata": {
	    "collapsed": true
	   },
	   "outputs": [],
"source": [
"//Chapter-7, Example 7.1, Page 275\n",
"//=============================================================================\n",
"clc\n",
"clear\n",
"\n",
"//INPUT DATA\n",
"Ta=20;//Temperature of air in degree C\n",
"Tp=134;//Temperature of heated plate in degree C\n",
"v=3;//Velocity of flow in m/s\n",
"L=2;//Length of plate in m\n",
"W=1.5;//Width of plate in m\n",
"x=0.4;//Distance of plane from the plate in m\n",
"k=(15.06*10^-6);//Kinematic viscosity in m^2/s\n",
"\n",
"//CALCULATIONS\n",
"Re=(v*x)/k;//Reynold number\n",
"q=((5*x)/sqrt(Re))*1000;//Thickness of boundary layer in mm\n",
"Cfx=(0.664/sqrt(Re))/10^-3;//Local skin friction coefficient *10^-3\n",
"\n",
"//OUTPUT\n",
"mprintf('Thickness of boundary layer is %3.1f mm \nLocal skin friction coefficient is %3.2f*10^-3',q,Cfx)\n",
"\n",
"//=================================END OF PROGRAM=============================="
   ]
   }
,
{
		   "cell_type": "markdown",
		   "metadata": {},
		   "source": [
			"## Example 7.20: Heat_transfer_coefficient.sce"
		   ]
		  },
  {
"cell_type": "code",
	   "execution_count": null,
	   "metadata": {
	    "collapsed": true
	   },
	   "outputs": [],
"source": [
"//Chapter-7, Example 7.20, Page 318\n",
"//=============================================================================\n",
"clc\n",
"clear\n",
"\n",
"//INPUT DATA\n",
"Tw=50;//Temperature of water in degree C\n",
"Di=0.005;//Inner diameter of the tube in m\n",
"L=0.5;//Length of the tube in m\n",
"v=1;//Mean velocity in m/s\n",
"Ts=30;//Surface temperature in degree C\n",
"\n",
"//CALCULATIONS\n",
"Tf=(Tw+Ts)/2;//Film temperature in degree C\n",
"k=0.039;//Thermal conductivity of air at 15 degree C \n",
"Pr=0.688;//prant number of air at 15 degree C\n",
"p=990;//Density of air at 50 degree C in kg/m^3\n",
"Cp=4178;//Specific heat of air at 50 degree C in J/kg.K\n",
"v1=(5.67*10^-7);//Kinematic viscosity of air at 50 degree C\n",
"v2=(6.57*10^-7);//Kinematic viscosity of air at 40 degree C\n",
"Re=(v*Di)/v1;//Reynolds number\n",
"h=((0.316/8)*((v*Di*10)/v2)^(-0.25)*p*Cp*v*(4.34)^(-2/3));//Heat transfer coefficient using the Colburn analogy in W/m^2.K\n",
"\n",
"//OUTPUT\n",
"mprintf('Heat transfer coefficient using the Colburn analogy is %3.0f W/m^2.K',h)\n",
"\n",
"//=================================END OF PROGRAM=============================="
   ]
   }
,
{
		   "cell_type": "markdown",
		   "metadata": {},
		   "source": [
			"## Example 7.21: Heat_transfer_coefficient_and_heat_transfer_rate.sce"
		   ]
		  },
  {
"cell_type": "code",
	   "execution_count": null,
	   "metadata": {
	    "collapsed": true
	   },
	   "outputs": [],
"source": [
"//Chapter-7, Example 7.21, Page 319\n",
"//=============================================================================\n",
"clc\n",
"clear\n",
"\n",
"//INPUT DATA\n",
"Ti=50;//Temperature of water at inlet in degree C\n",
"D=0.015;//Diameter of tube in m\n",
"L=3;//Length of the tube in m\n",
"v=1;//Velocity of flow in m/s\n",
"Tb=90;//Temperature of tube wall in degree C\n",
"Tf=64;//Exit temperature of water in degree C\n",
"\n",
"//CALCULATIONS\n",
"Tm=(Ti+Tf)/2;//Bulk mean temperature in degree C\n",
"p=990;//Density of air at 57 degree C in kg/m^3\n",
"Cp=4184;//Specific heat of air at 57 degree C in J/kg.K\n",
"u=(0.517*10^-6);//Kinematic viscosity of air at 57 degree C in m^2/s\n",
"k=0.65;//Thermal conductivity of air at 57 degree C in W/m.K\n",
"Pr=3.15;//prantl number of air at 57 degree C \n",
"Re=(v*D)/u;//Reynolds number\n",
"Nu=(0.023*Re^(4/5)*Pr^0.4);//Nusselts number\n",
"h=(Nu*k)/D;//Heat transfer coefficient in W/m^2.K\n",
"Q=(h*3.14*D*L*(Tb-Tm))/1000;//Rate of heat transfered in kW\n",
"\n",
"//OUTPUT\n",
"mprintf('Heat transfer coefficient is %3.0f W/m^2.K \nRate of heat transfered is %3.2f kW',h,Q)\n",
"\n",
"//=================================END OF PROGRAM=============================="
   ]
   }
,
{
		   "cell_type": "markdown",
		   "metadata": {},
		   "source": [
			"## Example 7.22: Heat_transfer_coefficient.sce"
		   ]
		  },
  {
"cell_type": "code",
	   "execution_count": null,
	   "metadata": {
	    "collapsed": true
	   },
	   "outputs": [],
"source": [
"//Chapter-7, Example 7.22, Page 320\n",
"//=============================================================================\n",
"clc\n",
"clear\n",
"\n",
"//INPUT DATA\n",
"D=0.022;//Diamter of the tube in m\n",
"v=2;//Average velocity in m/s\n",
"Tw=95;//Temperature of tube wall in degree C\n",
"T=[15,60];//Initial and final temperature of water in degree C\n",
"\n",
"//CALCULATIONS\n",
"Tm=(T(1)+T(2))/2;//Bulk mean temperature in degree C\n",
"p=990;//Density of air at 37.5 degree C in kg/m^3\n",
"Cp=4160;//Specific heat of air at 37.5 degree C in J/kg.K\n",
"u=(0.69*10^-3);//Dynamic viscosity of air at 37.5 degree C in Ns/m^2\n",
"k=0.63;//Thermal conductivity of air at 37.5 degree C in W/m.K\n",
"us=(0.3*10^-3);//Dynamic viscosity of air at 37.5 degree C in Ns/m^2\n",
"Re=(p*v*D)/u;//Reynolds number\n",
"Pr=(u*Cp)/k;//Prantl number\n",
"Nu=(0.027*Re^(4/5)*Pr^(1/3)*(u/us)^0.14);//Nusselts number\n",
"h=(Nu*k)/D;//Heat transfer coefficient in W/m^2.K\n",
"\n",
"//OUTPUT\n",
"mprintf('Heat transfer coefficient is %3.0f W/m^2.K',h)\n",
"\n",
"//=================================END OF PROGRAM=============================="
   ]
   }
,
{
		   "cell_type": "markdown",
		   "metadata": {},
		   "source": [
			"## Example 7.23: Heat_transfer_coefficient.sce"
		   ]
		  },
  {
"cell_type": "code",
	   "execution_count": null,
	   "metadata": {
	    "collapsed": true
	   },
	   "outputs": [],
"source": [
"//Chapter-7, Example 7.23, Page 320\n",
"//=============================================================================\n",
"clc\n",
"clear\n",
"\n",
"//INPUT DATA\n",
"D=0.05;//Diamter of the tube in m\n",
"T=147;//Average temperature in degree C\n",
"v=0.8;//Flow vwlocity in m/s\n",
"Tw=200;//Wall temperature in degree C\n",
"L=2;//Length of the tube in m\n",
"\n",
"//CALCULATIONS\n",
"p=812.1;//Density in kg/m^3 of oil at 147 degree C\n",
"Cp=2427;//Specific heat of oil at 147 degree C in J/kg.K\n",
"u=(6.94*10^-6);//Kinematic viscosity of oil at 147 degree C in m^2/s\n",
"k=0.133;//Thermal conductivity of oil at 147 degree C in W/m.K\n",
"Pr=103;//prantl number of oil at 147 degree C \n",
"Re=(v*D)/u;//Reynolds number\n",
"Nu=(0.036*Re^0.8*Pr^(1/3)*(D/L)^0.055);//Nussults number\n",
"h=(Nu*k)/D;//Average heat transfer coefficient in W/m^2.K\n",
"\n",
"//OUTPUT\n",
"mprintf('Average heat transfer coefficient is %3.1f W/m^2.K',h)\n",
"\n",
"//=================================END OF PROGRAM=============================="
   ]
   }
,
{
		   "cell_type": "markdown",
		   "metadata": {},
		   "source": [
			"## Example 7.24: Heat_leakage.sce"
		   ]
		  },
  {
"cell_type": "code",
	   "execution_count": null,
	   "metadata": {
	    "collapsed": true
	   },
	   "outputs": [],
"source": [
"//Chapter-7, Example 7.24, Page 321\n",
"//=============================================================================\n",
"clc\n",
"clear\n",
"\n",
"//INPUT DATA\n",
"D=[0.4,0.8];//Dimensions of the trunk duct in m\n",
"Ta=20;//Temperature of air in degree C\n",
"v=7;//Velocity of air in m/s\n",
"v1=(15.06*10^-6);//Kinematic viscosity in m^2/s\n",
"a=(7.71*10^-2);//Thermal diffusivity in m^2/h\n",
"k=0.0259;//Thermal conductivity in W/m.K\n",
"\n",
"//CALCULATIONS\n",
"Dh=(4*(D(1)*D(2)))/(2*(D(1)+D(2)));//Value of Dh in m\n",
"Re=(v*Dh)/v1;//Reynolds number\n",
"Pr=(v1/a)*3600;//Prantl number\n",
"Nu=(0.023*Re^(4/5)*Pr^0.4);//Nussults number\n",
"h=(Nu*k)/Dh;//Heat transfer coefficient in W/m^2.K\n",
"Q=(h*(2*(D(1)+D(2))));//Heat leakage per unit length per unit difference in W\n",
"\n",
"//OUTPUT\n",
"mprintf('Heat leakage per unit length per unit difference is %3.2f W',Q)\n",
"\n",
"//=================================END OF PROGRAM=============================="
   ]
   }
,
{
		   "cell_type": "markdown",
		   "metadata": {},
		   "source": [
			"## Example 7.25: Heat_transfer_coefficient.sce"
		   ]
		  },
  {
"cell_type": "code",
	   "execution_count": null,
	   "metadata": {
	    "collapsed": true
	   },
	   "outputs": [],
"source": [
"//Chapter-7, Example 7.25, Page 322\n",
"//=============================================================================\n",
"clc\n",
"clear\n",
"\n",
"//INPUT DATA\n",
"Di=0.03125;//I.D of the annulus in m\n",
"Do=0.05;//O.D of the annulus in m\n",
"Ts=50;//Outer surface temperature in degree C\n",
"Ti=16;//Temeperature at which air enters in degree C\n",
"Tf=32;//Temperature at which air exits in degree C\n",
"v=30;//Flow rate in m/s\n",
"\n",
"//CALCULATIONS\n",
"Tb=(Ti+Tf)/2;//Mean bulk temperature of air in degree C\n",
"p=1.614;//Density in kg/m^3 of air at 24 degree C\n",
"Cp=1007;//Specific heat of air at 24 degree C in J/kg.K\n",
"u=(15.9*10^-6);//Kinematic viscosity of air at 24 degree C in m^2/s\n",
"k=0.0263;//Thermal conductivity of air at 24 degree C in W/m.K\n",
"Pr=0.707;//prantl number of air at 24 degree C\n",
"Dh=(4*(3.14/4)*(Do^2-Di^2))/(3.14*(Do+Di));//Hydraulic diameter in m\n",
"Re=(v*Dh)/u;//Reynolds number\n",
"Nu=(0.023*Re^0.8*Pr^0.4);//Nussults number\n",
"h=(Nu*k)/Dh;//Heat transfer coefficient in W/m^2.K\n",
"\n",
"//OUTPUT\n",
"mprintf('Heat transfer coefficient is %3.1f W/m^2.K',h)\n",
"\n",
"//=================================END OF PROGRAM=============================="
   ]
   }
,
{
		   "cell_type": "markdown",
		   "metadata": {},
		   "source": [
			"## Example 7.26: Minimum_length_of_the_tube.sce"
		   ]
		  },
  {
"cell_type": "code",
	   "execution_count": null,
	   "metadata": {
	    "collapsed": true
	   },
	   "outputs": [],
"source": [
"//Chapter-7, Example 7.26, Page 324\n",
"//=============================================================================\n",
"clc\n",
"clear\n",
"\n",
"//INPUT DATA\n",
"T=[120,149];//Initail and final temperatures in degree C\n",
"m=2.3;//Mass flow rate in kg/s\n",
"D=0.025;//Diameter of the tube in m\n",
"Ts=200;//Surface temperature in degree C\n",
"\n",
"//CALCULATIONS\n",
"Tb=(T(1)+T(2))/2;//Bulk mean temperature in degree C\n",
"p=916;//Density in kg/m^3 of air at 134.5 degree C\n",
"Cp=1356.6;//Specific heat of air at 134.5 degree C in J/kg.K\n",
"u=(0.594*10^-6);//Kinematic viscosity of air at 134.5 degree C in m^2/s\n",
"k=84.9;//Thermal conductivity of air at 134.5 degree C in W/m.K\n",
"Pr=0.0087;//prantl number of air at 134.5 degree C\n",
"Q=(m*Cp*(T(2)-T(1)))/1000;//Total heat transfer in kW\n",
"v=(m/(p*(3.14/4)*D^2));//Velocity of flow in m/s\n",
"Re=(v*D)/u;//Reynolds number\n",
"Pe=(Pr*Re);//Peclet number\n",
"Nu=(4.82+(0.0185*Pe^0.827));//Nussults number\n",
"h=(Nu*k)/D;//Heat transfer coefficient in W/m^2.K\n",
"L=((Q*1000)/(h*3.14*D*(Ts-Tb)));//Minimum length of the tube in m if the wall temperature is not to exceed 200 degree C\n",
"\n",
"//OUTPUT\n",
"mprintf('Minimum length of the tube if the wall temperature is not to exceed 200 degree C is %3.3f m',L)\n",
"\n",
"//=================================END OF PROGRAM=============================="
   ]
   }
,
{
		   "cell_type": "markdown",
		   "metadata": {},
		   "source": [
			"## Example 7.2: Local_heat_transfer_coefficient.sce"
		   ]
		  },
  {
"cell_type": "code",
	   "execution_count": null,
	   "metadata": {
	    "collapsed": true
	   },
	   "outputs": [],
"source": [
"//Chapter-7, Example 7.2, Page 275\n",
"//=============================================================================\n",
"clc\n",
"clear\n",
"\n",
"//INPUT DATA\n",
"Ta=20;//Temperature of air in degree C\n",
"Tp=134;//Temperature of heated plate in degree C\n",
"v=3;//Velocity of flow in m/s\n",
"L=2;//Length of plate in m\n",
"W=1.5;//Width of plate in m\n",
"x=0.4;//Distance of plane from the plate in m\n",
"k=(15.06*10^-6);//Kinematic viscosity in m^2/s\n",
"\n",
"//CALCULATIONS\n",
"Tf=(Ta+Tp)/2;//Film temperature in degree C\n",
"pw=0.998;//Density of air at 77 degree C\n",
"Cp=1009;//Specific heat of air at 77 degree C\n",
"kw=(20.76*10^-6);//Kinematic viscosity of air at 77 degree C\n",
"k=0.03;//Thermal conductivity of air at 77 degree C\n",
"Pr=0.697;//prantl number of air at 77 degree C\n",
"Re=(v*x)/kw;//Reynolds number\n",
"Nu=(0.332*Re^0.5*Pr^(1/3));//Nusselts number\n",
"h=(Nu*k)/x;//Heat transfer coefficient in W/m^2.K\n",
"h1=(h*2);//Average value of heat transfer coefficient in W/m^2.K\n",
"Q=h1*x*W*(Tp-Ta);//Heat flow in W\n",
"Q1=(2*Q);//Heat flow from both sides of the plate in W\n",
"\n",
"//OUTPUT\n",
"mprintf('Heat flow from both sides of the plate is %3.0f W',Q1)\n",
"\n",
"//=================================END OF PROGRAM=============================="
   ]
   }
,
{
		   "cell_type": "markdown",
		   "metadata": {},
		   "source": [
			"## Example 7.3: Boundary_layer_thickness_and_total_drag_force.sce"
		   ]
		  },
  {
"cell_type": "code",
	   "execution_count": null,
	   "metadata": {
	    "collapsed": true
	   },
	   "outputs": [],
"source": [
"//Chapter-7, Example 7.3, Page 282\n",
"//=============================================================================\n",
"clc\n",
"clear\n",
"\n",
"//INPUT DATA\n",
"Ta=20;//Temperature of air in degree C\n",
"v=3;//Velocity of flow in m/s\n",
"L=2;//Length of plate in m\n",
"W=1;//Width of plate in m\n",
"x1=0.3;//Initial point of the boundary layer in m\n",
"x2=0.8;//Final point of the boundary layer in m\n",
"p=1.17;//Density of air at 20 degree C in kg/m^3\n",
"k=(15*10^-6);//Kinematic viscosity in m^2/s\n",
"Re=(5*10^5);//Reynolds number at the transition frm laminar to turbulant\n",
"\n",
"//CALCULATIONS\n",
"x=(k*Re)/v;//Critical length in m\n",
"Rel=(v*L)/k;//Reynolds number\n",
"q=(4.64*L)/sqrt(Rel)*1000;//Boundary layer thickness at the trailing edge of plate in mm\n",
"ts=1.292*(0.5*p*v^2)*sqrt(1/Rel);//Average shear stress in N/m^2\n",
"F=(2*L*ts);//Drag force on the two sides of the plate in N\n",
"q80=(4.64*x2)/sqrt((v*x2)/k);//Boundray layer thickness at x=0.8 m\n",
"q30=(4.64*x1)/sqrt((v*x1)/k);//Boundray layer thickness at x=0.3 m\n",
"m=((5/8)*p*v*(q80-q30))/10^-3;//Mass flow of air in kg/s\n",
"\n",
"//OUTPUT\n",
"mprintf('Boundary layer thickness at the trailing edge of plate is % 3.2f mm \nDrag force on the two sides of the plate is %3.4f N \nMass flow of air is %3.1f*10^-3 kg/s',q,F,m)\n",
"\n",
"//=================================END OF PROGRAM=============================="
   ]
   }
,
{
		   "cell_type": "markdown",
		   "metadata": {},
		   "source": [
			"## Example 7.4: Rate_of_heat_to_be_removed.sce"
		   ]
		  },
  {
"cell_type": "code",
	   "execution_count": null,
	   "metadata": {
	    "collapsed": true
	   },
	   "outputs": [],
"source": [
"//Chapter-7, Example 7.4, Page 283\n",
"//=============================================================================\n",
"clc\n",
"clear\n",
"\n",
"//INPUT DATA\n",
"P=8;//Pressure of air in kN/m^2\n",
"Ta=250;//Temperature of air in degree C\n",
"L=1;//Length of the palte in m\n",
"W=0.3;//Width of the plate in m\n",
"v=8;//Velocity of air in m/s\n",
"Tp=78;//Temperature of plate in degree C\n",
"\n",
"//CALCULATIONS\n",
"Tf=(Ta+Tp)/2;//Film temperature in degree C\n",
"Cp=1018;//Specific heat of air at 164 degree C and 1 atm pressure\n",
"kw=(30.8*10^-6);//Kinematic viscosity of air at 164 degree C and 1 atm pressure\n",
"k=0.0364;//Thermal conductivity of air at 164 degree C and 1 atm pressure\n",
"Pr=0.69;//prant number of air at 164 degree C and 1 atm pressure\n",
"k1=kw*(101330/(P*1000));//Kinematic viscosity of air at 164 degree C and 8kN/m^2 pressure\n",
"Re=(v*L)/k1;//Reynolds number\n",
"h=0.662*(k/L)*sqrt(Re)*Pr^(1/3);//Heat transfer coefficient in W/m.K\n",
"Q=2*h*L*W*(Ta-Tp);//Rate of heat removal in W\n",
"\n",
"//OUTPUT\n",
"mprintf('Rate of heat removal is %3.1f W',Q)\n",
"\n",
"//=================================END OF PROGRAM=============================="
   ]
   }
,
{
		   "cell_type": "markdown",
		   "metadata": {},
		   "source": [
			"## Example 7.5: Drag_force.sce"
		   ]
		  },
  {
"cell_type": "code",
	   "execution_count": null,
	   "metadata": {
	    "collapsed": true
	   },
	   "outputs": [],
"source": [
"//Chapter-7, Example 7.5, Page 286\n",
"//=============================================================================\n",
"clc\n",
"clear\n",
"\n",
"//INPUT DATA\n",
"P=8;//Pressure of air in kN/m^2\n",
"Ta=250;//Temperature of air in degree C\n",
"L=1;//Length of the palte in m\n",
"W=0.3;//Width of the plate in m\n",
"v=8;//Velocity of air in m/s\n",
"Tp=78;//Temperature of plate in degree C\n",
"R=287;//Universal gas constant in J/kg.K\n",
"\n",
"//CALCULATIONS\n",
"Tf=(Ta+Tp)/2;//Film temperature in degree C\n",
"Cp=1018;//Specific heat of air at 164 degree C and 1 atm pressure\n",
"kw=(30.8*10^-6);//Kinematic viscosity of air at 164 degree C and 1 atm pressure\n",
"k=0.0364;//Thermal conductivity of air at 164 degree C and 1 atm pressure\n",
"Pr=0.69;//prant number of air at 164 degree C and 1 atm pressure\n",
"k1=kw*(101330/(P*1000));//Kinematic viscosity of air at 164 degree C and 8kN/m^2 pressure\n",
"Re=(v*L)/k1;//Reynolds number\n",
"h=0.662*(k/L)*sqrt(Re)*Pr^(1/3);//Heat transfer coefficient in W/m.K\n",
"Q=2*h*L*W*(Ta-Tp);//Rate of heat removal in W\n",
"p=(P*1000)/(R*(Tf+273));//Density in kg/m^3\n",
"St=(h/(p*Cp*v));//Stanton number\n",
"Cfx2=(St*Pr^(2/3));//Colburn factor\n",
"ts=(Cfx2*p*v^2);//Average shear stress in N/m^2\n",
"D=(ts*W*L);//Drag force on one side of plate in N\n",
"D2=(2*D)/10^-3;//Total drag force on both sides of plate in N\n",
"\n",
"//OUTPUT\n",
"mprintf('The drag force exerted on the plate is %3.2f*10^-3 N',D2)\n",
"\n",
"//=================================END OF PROGRAM=============================="
   ]
   }
,
{
		   "cell_type": "markdown",
		   "metadata": {},
		   "source": [
			"## Example 7.6: Thickness_of_boundary_layer_and_heat_transfer_coefficient.sce"
		   ]
		  },
  {
"cell_type": "code",
	   "execution_count": null,
	   "metadata": {
	    "collapsed": true
	   },
	   "outputs": [],
"source": [
"//Chapter-7, Example 7.6, Page 289\n",
"//=============================================================================\n",
"clc\n",
"clear\n",
"\n",
"//INPUT DATA\n",
"L=1;//Length of the palte in m\n",
"W=1;//Width of the plate in m\n",
"Ts=10;//Temperature of free strem air in degree C\n",
"v=80;//Velocity of free stream air in m/s\n",
"\n",
"//CALCULATIONS\n",
"k=0.025;//Thermal conductivity of air at 10 degree C \n",
"Pr=0.72;//prant number of air at 10 degree C\n",
"v1=(14.15*10^-6);//Kinematic viscosity of air at 10 degree C \n",
"Re=(v*L)/v1;//Reynolds number\n",
"q=0.381*L*Re^(-1/5);//Thickness of the boundary layer at the trailing edge of the plate in m\n",
"Nu=(0.037*Re^(4/5)*Pr^(1/3));//Nusselts number\n",
"h=(Nu*k)/L;//Mean value of the heat transfer coefficient in W/m^2.K\n",
"\n",
"//OUTPUT\n",
"mprintf('Thickness of the boundary layer at the trailing edge of the plate is %3.4f m \nMean value of the heat transfer coefficient is %3.0f W/m^2.K',q,h)\n",
"\n",
"//=================================END OF PROGRAM=============================="
   ]
   }
,
{
		   "cell_type": "markdown",
		   "metadata": {},
		   "source": [
			"## Example 7.7: Friction_coefficient_and_heat_transfer_coefficient.sce"
		   ]
		  },
  {
"cell_type": "code",
	   "execution_count": null,
	   "metadata": {
	    "collapsed": true
	   },
	   "outputs": [],
"source": [
"//Chapter-7, Example 7.7, Page 290\n",
"//=============================================================================\n",
"clc\n",
"clear\n",
"\n",
"//INPUT DATA\n",
"Ta=0;//Temperature of air stream in degree C\n",
"Tp=90;//Temperature of heated plate in degree C\n",
"v=75;//Speed of air in m/s\n",
"L=0.45;//Length of the palte in m\n",
"W=0.6;//Width of the plate in m\n",
"Re=(5*10^5);//Reynolds number at the transition from laminar to turbulant\n",
"\n",
"//CALCULATIONS\n",
"Tf=(Ta+Tp)/2;//Film temperature in degree C\n",
"k=0.028;//Thermal conductivity of air at 10 degree C \n",
"Pr=0.698;//prant number of air at 10 degree C\n",
"v1=(17.45*10^-6);//Kinematic viscosity of air at 10 degree C \n",
"x=(Re*v1)/v;//Critical length in m\n",
"Rel=(v*L)/v1;//Reynolds number\n",
"Cfl=((0.074/Rel^(1/5))-(1740/Rel))/10^-3;//Average value of friction coefficient *10^-3\n",
"Nu=((0.037*Rel^(4/5))-870)*Pr^(1/3);//Nussults number\n",
"h=(Nu*k)/L;//Heat transfer coefficient in W/m^2.K\n",
"Q=(2*h*L*W*(Tp-Ta));//Rate of energy dissipation in W\n",
"\n",
"//OUTPUT\n",
"mprintf('Average value of friction coefficient is %3.2f*10^-3 \nHeat transfer coefficient is %3.0f W/m^2.K \nRate of energy dissipation is %i W',Cfl,h,Q)\n",
"\n",
"//=================================END OF PROGRAM=============================="
   ]
   }
,
{
		   "cell_type": "markdown",
		   "metadata": {},
		   "source": [
			"## Example 7.8: Heat_loss.sce"
		   ]
		  },
  {
"cell_type": "code",
	   "execution_count": null,
	   "metadata": {
	    "collapsed": true
	   },
	   "outputs": [],
"source": [
"//Chapter-7, Example 7.8, Page 296\n",
"//=============================================================================\n",
"clc\n",
"clear\n",
"\n",
"//INPUT DATA\n",
"D=0.3;//Diameter of cylinder in m\n",
"L=1.7;//Height of cylinder in m\n",
"Ts=30;//Surface temperature in degree C\n",
"v=10;//Speed of wind in m/s\n",
"Ta=10;//Temperature of air in degree C\n",
"\n",
"//CALCULATIONS\n",
"Tf=(Ta+Ts)/2;//Film temperature in degree C\n",
"k=0.0259;//Thermal conductivity of air at 20 degree C \n",
"Pr=0.707;//prant number of air at 20 degree C\n",
"v1=(15*10^-6);//Kinematic viscosity of air at 20 degree C\n",
"Re=(v*D)/v1;//Reynolds number\n",
"Nu=0.027*Re^0.805*Pr^(1/3)//Nusselts number\n",
"h=(Nu*k)/D;//Heat transfer coefficent in W/m^2.K\n",
"Q=(h*3.14*D*L*(Ts-Ta));//Rate of heat loss in W\n",
"\n",
"//OUTPUT\n",
"mprintf('Rate of heat loss is %3.1f W',Q)\n",
"\n",
"//=================================END OF PROGRAM=============================="
   ]
   }
,
{
		   "cell_type": "markdown",
		   "metadata": {},
		   "source": [
			"## Example 7.9: Heat_transfer_rate_and_percentage_of_power_lost.sce"
		   ]
		  },
  {
"cell_type": "code",
	   "execution_count": null,
	   "metadata": {
	    "collapsed": true
	   },
	   "outputs": [],
"source": [
"//Chapter-7, Example 7.9, Page 297\n",
"//=============================================================================\n",
"clc\n",
"clear\n",
"\n",
"//INPUT DATA\n",
"Ta=27;//Temperature of air stream in degree C\n",
"v=0.3;//Velodity of air in m/s\n",
"Q=100;//Poer of electric bulb in W\n",
"Te=127;//Temperature of electric bulb in degree C\n",
"D=0.06;//Diameter of sphere in m\n",
"\n",
"//CALCULATIONS\n",
"Tf=(Ta+Te)/2;//Film temperature in degree C\n",
"k=0.03;//Thermal conductivity of air at 77 degree C \n",
"Pr=0.697;//prant number of air at 77 degree C\n",
"v1=(2.08*10^-5);//Kinematic viscosity of air at 77 degree C\n",
"Re=(v*D)/v1;//Reynolds number\n",
"h=(k*0.37*Re^0.6)/D;//Heat transfer coefficient in W/m^2.K\n",
"Q=(h*3.14*D^2*(Te-Ta));//Heat transfer rate in W\n",
"Qp=(Q*100)/100;//Percentage of heat lost by forced convection \n",
"\n",
"//OUTPUT\n",
"mprintf('Heat transfer rate is %3.2f W \nPercentage of power lost due to convection is %3.2f percent',Q,Qp)\n",
"\n",
"//=================================END OF PROGRAM=============================="
   ]
   }
],
"metadata": {
		  "kernelspec": {
		   "display_name": "Scilab",
		   "language": "scilab",
		   "name": "scilab"
		  },
		  "language_info": {
		   "file_extension": ".sce",
		   "help_links": [
			{
			 "text": "MetaKernel Magics",
			 "url": "https://github.com/calysto/metakernel/blob/master/metakernel/magics/README.md"
			}
		   ],
		   "mimetype": "text/x-octave",
		   "name": "scilab",
		   "version": "0.7.1"
		  }
		 },
		 "nbformat": 4,
		 "nbformat_minor": 0
}
