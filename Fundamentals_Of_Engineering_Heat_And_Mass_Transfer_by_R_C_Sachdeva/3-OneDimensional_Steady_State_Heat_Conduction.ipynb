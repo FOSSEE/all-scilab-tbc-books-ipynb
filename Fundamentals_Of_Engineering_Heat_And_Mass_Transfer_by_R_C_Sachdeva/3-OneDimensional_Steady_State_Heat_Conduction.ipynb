{
"cells": [
 {
		   "cell_type": "markdown",
	   "metadata": {},
	   "source": [
       "# Chapter 3: OneDimensional Steady State Heat Conduction"
	   ]
	},
{
		   "cell_type": "markdown",
		   "metadata": {},
		   "source": [
			"## Example 3.10: Heat_transfer_through_the_composite_wall.sce"
		   ]
		  },
  {
"cell_type": "code",
	   "execution_count": null,
	   "metadata": {
	    "collapsed": true
	   },
	   "outputs": [],
"source": [
"//Chapter-3, Example 3.10, Page 65\n",
"//=============================================================================\n",
"clc\n",
"clear\n",
"\n",
"//INPUT DATA\n",
"LA=0.05;//Length of section A in m\n",
"LB=0.1;//Length of section A in m\n",
"LC=0.1;//Length of section A in m\n",
"LD=0.05;//Length of section A in m\n",
"LE=0.05;//Length of section A in m\n",
"kA=50;//Thermal conductivity of section A in W/m.K\n",
"kB=10;//Thermal conductivity of section B in W/m.K\n",
"kC=6.67;//Thermal conductivity of section C in W/m.K\n",
"kD=20;//Thermal conductivity of section D in W/m.K\n",
"kE=30;//Thermal conductivity of section E in W/m.K\n",
"Aa=1;//Area of section A in m^2\n",
"Ab=0.5;//Area of section B in m^2\n",
"Ac=0.5;//Area of section C in m^2\n",
"Ad=1;//Area of section D in m^2\n",
"Ae=1;//Area of section E in m^2\n",
"T=[800,100];//Temperature at inlet and outlet temperatures in degree C\n",
"\n",
"//CALCULATIONS\n",
"Ra=(LA/(kA*Aa));//Thermal Resistance of section A in K/W\n",
"Rb=(LB/(kB*Ab));//Thermal Resistance of section B in K/W\n",
"Rc=(LC/(kC*Ac));//Thermal Resistance of section C in K/W\n",
"Rd=(LD/(kD*Ad));//Thermal Resistance of section D in K/W\n",
"Re=(LE/(kE*Ae));//Thermal Resistance of section E in K/W\n",
"Rf=((Rb*Rc)/(Rb+Rc));//Equivalent resistance of section B and section C in K/W\n",
"R=Ra+Rf+Rd+Re;//Equivalent resistance of all sections in K/W\n",
"Q=((T(1)-T(2))/R)/1000;//Heat transfer through the composite wall in kW\n",
"\n",
"//OUTPUT\n",
"mprintf('Heat transfer through the composite wall is %3.1f kW',Q)\n",
"\n",
"//=================================END OF PROGRAM==============================\n",
""
   ]
   }
,
{
		   "cell_type": "markdown",
		   "metadata": {},
		   "source": [
			"## Example 3.11: Surface_temperature_and_convective_conductance.sce"
		   ]
		  },
  {
"cell_type": "code",
	   "execution_count": null,
	   "metadata": {
	    "collapsed": true
	   },
	   "outputs": [],
"source": [
"//Chapter-3, Example 3.11, Page 66\n",
"//=============================================================================\n",
"clc\n",
"clear\n",
"\n",
"//INPUT DATA\n",
"T1=2000;//Temperature of hot gas in degree C\n",
"Ta=45;//Room air temperature in degree C\n",
"Qr1=23.260;//Heat flow by radiation from gases to inside surface of the wall in kW/m^2\n",
"h=11.63;//Convective heat transfer coefficient in W/m^2.\n",
"C=58;//Thermal conductance of the wall in W/m^2.K\n",
"Q=9.3;//Heat flow by radiation from external surface to the surrounding in kW.m^2\n",
"T2=1000;//Interior wall temperature in degree C\n",
"\n",
"//CALCULATIONS\n",
"qr1=Qr1;//Haet by radiation in kW/m^2\n",
"qc1=h*((T1-T2)/1000);//Heat by conduction in kW/m^2\n",
"q=qc1+qr1;//Total heat entering the wall in kW/m^2\n",
"R=(1/C);//Thermal resistance in m^2.K/W\n",
"T3=T2-(q*R*1000);//External wall temperature in degree C\n",
"Ql=q-Q;//Heat loss due to convection kW/m^2\n",
"h4=(Ql*1000)/(T3-Ta);//Convective conductance in W/m^2.K\n",
"\n",
"mprintf('The surface temperature is %i degree C \nThe convective conductance is %3.1f W/m^2.K',T3,h4)\n",
"\n",
"//=================================END OF PROGRAM=============================="
   ]
   }
,
{
		   "cell_type": "markdown",
		   "metadata": {},
		   "source": [
			"## Example 3.12: Heat_loss_and_thickness_of_insulation.sce"
		   ]
		  },
  {
"cell_type": "code",
	   "execution_count": null,
	   "metadata": {
	    "collapsed": true
	   },
	   "outputs": [],
"source": [
"//Chapter-3, Example 3.12, Page 67\n",
"//=============================================================================\n",
"clc\n",
"clear\n",
"\n",
"//INPUT DATA\n",
"L1=0.125;//Thickness of fireclay layer in m\n",
"L2=0.5;//Thickness of red brick layer in m\n",
"T=[1100,50];//Temperatures at inside and outside the furnaces in degree C\n",
"k1=0.533;//Thermal conductivity of fireclay in W/m.K\n",
"k2=0.7;//Thermal conductivity of red brick in W/m.K\n",
"\n",
"//CALCULATIONS\n",
"R1=(L1/k1);//Resistance of fireclay per unit area in K/W\n",
"R2=(L2/k2);//Resistance of red brick per unit area in K/W\n",
"R=R1+R2;//Total resistance in K/W\n",
"q=(T(1)-T(2))/R;//Heat transfer in W/m^2\n",
"T2= T(1)-(q*R1);//Temperature in degree C\n",
"T3=T(2)+(q*R2*0.5);//Temperature at the interface between the two layers in degree C\n",
"km=0.113+(0.00023*((T2+T3)/2));//Mean thermal conductivity in W/m.K\n",
"x=((T2-T3)/q)*km;//Thickness of diatomite in m\n",
"\n",
"//OUTPUT\n",
"mprintf('Amount of heat loss is %3.1f W/m^2 \n Thickness of diatomite is %3.4f m',q,x )\n",
"\n",
"//=================================END OF PROGRAM=============================="
   ]
   }
,
{
		   "cell_type": "markdown",
		   "metadata": {},
		   "source": [
			"## Example 3.13: Heat_loss_from_the_pipe.sce"
		   ]
		  },
  {
"cell_type": "code",
	   "execution_count": null,
	   "metadata": {
	    "collapsed": true
	   },
	   "outputs": [],
"source": [
"//Chapter-3, Example 3.13, Page 70\n",
"//=============================================================================\n",
"clc\n",
"clear\n",
"\n",
"//INPUT DATA\n",
"Di=0.1;//I.D of the pipe in m\n",
"L=0.01;//Thickness of the wall in m\n",
"L1=0.03;//Thickness of insulation in m\n",
"Ta=85;//Temperature of hot liquid in degree C\n",
"Tb=25;//Temperature of surroundings in degree C\n",
"k1=58;//Thermal conductivity of steel in W/m.K\n",
"k2=0.2;//Thermal conductivity of insulating material in W/m.K\n",
"ha=720;//Inside heat transfer coefficient in W/m^2.K\n",
"hb=9;//Outside heat transfer coefficient in W/m^2.K\n",
"D2=0.12;//Inner diameter in m\n",
"r3=0.09;//Radius in m\n",
"\n",
"//CALCULATIONS\n",
"q=((2*3.14*(Ta-Tb))/((1/(ha*(Di/2)))+(1/(hb*r3))+(log(D2/Di)/k1)+(log(r3/(D2/2))/k2)));//Heat loss fro an insulated pipe in W/m\n",
"\n",
"//OUTPUT\n",
"mprintf('Heat loss fro an insulated pipe is %3.2f W/m',q)\n",
"\n",
"//=================================END OF PROGRAM=============================="
   ]
   }
,
{
		   "cell_type": "markdown",
		   "metadata": {},
		   "source": [
			"## Example 3.14: Heat_loss_per_meter_length_of_pipe.sce"
		   ]
		  },
  {
"cell_type": "code",
	   "execution_count": null,
	   "metadata": {
	    "collapsed": true
	   },
	   "outputs": [],
"source": [
"//Chapter-3, Example 3.14, Page 71\n",
"//=============================================================================\n",
"clc\n",
"clear\n",
"\n",
"//INPUT DATA\n",
"Di=0.1;//I.D of the pipe in m\n",
"Do=0.11;//O.D of the pipe in m\n",
"L=0.005;//Thickness of the wall in m\n",
"k1=50;//Thermal conductivity of steel pipe line in W/m.K\n",
"k2=0.06;//Thermal conductivity of first insulating material in W/m.K\n",
"k3=0.12;//Thermal conductivity of second insulating material in W/m.K\n",
"T=[250,50];//Temperature at inside tube surface and outside surface of insulation in degree C\n",
"r3=0.105;//Radius of r3 in m as shown in fig.3.14 on page no.71\n",
"r4=0.155;//Radius of r4 in m as shown in fig.3.14 on page no.71\n",
"\n",
"//CALCULATIONS\n",
"r1=(Di/2);//Radius of the pipe in m\n",
"r2=(Do/2);//Radius of the pipe in m\n",
"q=((2*3.14*(T(1)-T(2)))/(((log(r2/r1))/k1)+((log(r3/r2))/k2)+((log(r4/r3))/k3)));//Loss of heat per metre length of pipe in W/m\n",
"T3=((q*log(r4/r3))/(2*3.14*k3))+T(2);//Interface temperature in degree C\n",
"\n",
"//OUTPUT\n",
"mprintf('Loss of heat per metre length of pipe is %3.1f W/m \n Interface temperature is %3.1f degree C',q,T3)\n",
"\n",
"//=================================END OF PROGRAM=============================="
   ]
   }
,
{
		   "cell_type": "markdown",
		   "metadata": {},
		   "source": [
			"## Example 3.15: Change_in_heat_loss.sce"
		   ]
		  },
  {
"cell_type": "code",
	   "execution_count": null,
	   "metadata": {
	    "collapsed": true
	   },
	   "outputs": [],
"source": [
"//Chapter-3, Example 3.15, Page 72\n",
"//=============================================================================\n",
"clc\n",
"clear\n",
"\n",
"//INPUT DATA\n",
"Di=0.1;//I.D of the pipe in m\n",
"Do=0.11;//O.D of the pipe in m\n",
"L=0.005;//Thickness of the wall in m\n",
"k1=50;//Thermal conductivity of steel pipe line in W/m.K\n",
"k3=0.06;//Thermal conductivity of first insulating material in W/m.K\n",
"k2=0.12;//Thermal conductivity of second insulating material in W/m.K\n",
"T=[250,50];//Temperature at inside tube surface and outside surface of insulation in degree C\n",
"r3=0.105;//Radius of r3 in m as shown in fig.3.14 on page no.71\n",
"r4=0.155;//Radius of r4 in m as shown in fig.3.14 on page no.71\n",
"\n",
"//CALCULATIONS\n",
"r1=(Di/2);//Radius of the pipe in m\n",
"r2=(Do/2);//Radius of the pipe in m\n",
"q=((2*3.14*(T(1)-T(2)))/(((log(r2/r1))/k1)+((log(r3/r2))/k2)+((log(r4/r3))/k3)));//Loss of heat per metre length of pipe in W/m\n",
"\n",
"//OUTPUT\n",
"mprintf('Loss of heat per metre length of pipe is %3.2f W/m',q)\n",
"//Comparing the result with the previous example  Ex.3.14, it is seen that the loss of heat is increased by about 18.11%. Since the purpose of insulation is to reduce the loss of heat, it is always better to provide the insulating material with low thermal conductivity on the surface of the tube first \n",
"\n",
"//=================================END OF PROGRAM=============================="
   ]
   }
,
{
		   "cell_type": "markdown",
		   "metadata": {},
		   "source": [
			"## Example 3.16: Mass_of_steam_condensed.sce"
		   ]
		  },
  {
"cell_type": "code",
	   "execution_count": null,
	   "metadata": {
	    "collapsed": true
	   },
	   "outputs": [],
"source": [
"//Chapter-3, Example 3.16, Page 73\n",
"//=============================================================================\n",
"clc\n",
"clear\n",
"\n",
"//INPUT DATA\n",
"D1=0.1;//O.D of the pipe in m\n",
"P=1373;//Pressure of saturated steam in kPa\n",
"D2=0.2;//Diameter of magnesia in m\n",
"k1=0.07;//Thermal conductivity of magnesia in W/m.K\n",
"k2=0.08;//Thermal conductivity of asbestos in W/m.K\n",
"D3=0.25;//Diameter of asbestos in m\n",
"T3=20;//Temerature under the canvas in degree C\n",
"t=12;//Time for condensation in hours\n",
"l=150;//Lemgth of pipe in m\n",
"T1=194.14;//Saturation temperature of steam in degree C from Table A.6 (Appendix A) at 1373 kPa on page no. 643\n",
"hfg=1963.15;//Latent heat of steam in kJ/kg from Table A.6 (Appendix A) at 1373 kPa on page no. 643\n",
"\n",
"//CALCULATIONS\n",
"r1=(D1/2);//Radius of the pipe in m\n",
"r2=(D2/2);//Radius of magnesia in m\n",
"r3=(D3/2);//Radius of asbestos in m\n",
"Q=(((2*3.14*l*(T1-T3))/((log(r2/r1)/k1)+(log(r3/r2)/k2)))*(3600/1000));//Heat transfer rate in kJ/h\n",
"m=(Q/hfg);//Mass of steam condensed per hour\n",
"m1=(m*t);//Mass of steam condensed in 12 hours\n",
"\n",
"//OUTPUT\n",
"mprintf('Mass of steam condensed in 12 hours is %3.2f kg',m1)\n",
"\n",
"//=================================END OF PROGRAM=============================="
   ]
   }
,
{
		   "cell_type": "markdown",
		   "metadata": {},
		   "source": [
			"## Example 3.17: Rate_of_heat_flow.sce"
		   ]
		  },
  {
"cell_type": "code",
	   "execution_count": null,
	   "metadata": {
	    "collapsed": true
	   },
	   "outputs": [],
"source": [
"//Chapter-3, Example 3.17, Page 74\n",
"//=============================================================================\n",
"clc\n",
"clear\n",
"\n",
"//INPUT DATA\n",
"D1=0.1;//I.D of the first pipe in m\n",
"D2=0.3;//O.D of the first pipe in m\n",
"k1=70;//Thermal conductivity of first material in W/m.K\n",
"D3=0.4;//O.D of the second pipe in m\n",
"k2=15;//Thermal conductivity of second material in W/m.K\n",
"T=[300,30];//Inside and outside temperatures in degree C\n",
"\n",
"//CALCULATIONS\n",
"r1=(D1/2);//Inner Radius of first pipe in m\n",
"r2=(D2/2);//Outer Radius of first pipe in m\n",
"r3=(D3/2);//Radius of second pipe in m\n",
"Q=((4*3.14*(T(1)-T(2)))/(((r2-r1)/(k1*r1*r2))+((r3-r2)/(k2*r2*r3))))/1000;//Rate of heat flow through the sphere in kW\n",
"\n",
"//OUTPUT\n",
"mprintf('Rate of heat flow through the sphere is %3.2f kW',Q)\n",
"\n",
"//=================================END OF PROGRAM=============================="
   ]
   }
,
{
		   "cell_type": "markdown",
		   "metadata": {},
		   "source": [
			"## Example 3.18: Heat_loss_and_surface_temperature.sce"
		   ]
		  },
  {
"cell_type": "code",
	   "execution_count": null,
	   "metadata": {
	    "collapsed": true
	   },
	   "outputs": [],
"source": [
"//Chapter-3, Example 3.18, Page 77\n",
"//=============================================================================\n",
"clc\n",
"clear\n",
"\n",
"//INPUT DATA\n",
"Di=0.1;//I.D of a steam pipe in m\n",
"Do=0.25;//I.D of a steam pipe in m\n",
"k=1;//Thermal conductivity of insulating material in W/m.K\n",
"T=[200,20];//Steam temperature and ambient temperatures in degree C\n",
"h=8;//Convective heat transfer coefficient between the insulation surface and air in W/m^2.K\n",
"\n",
"//CALCULATIONS\n",
"ri=(Di/2);//Inner Radius of steam pipe in m\n",
"ro=(Do/2);//Outer Radius of steam pipe in m\n",
"rc=(k/h)*100;//Critical radius of insulation in cm\n",
"q=((T(1)-T(2))/((log(ro/ri)/(2*3.14*k))+(1/(2*3.14*ro*h))));//Heat loss per metre of pipe at critical radius in W/m\n",
"Ro=(q/(2*3.14*ro*h))+T(2);//Outer surface temperature in degree C\n",
"\n",
"//OUTPUT\n",
"mprintf('Heat loss per metre of pipe at critical radius is %i W/m \n Outer surface temperature is %3.2f degree C',q,Ro)\n",
"\n",
"//=================================END OF PROGRAM=============================="
   ]
   }
,
{
		   "cell_type": "markdown",
		   "metadata": {},
		   "source": [
			"## Example 3.19: Effect_of_insulation_on_the_current_carrying_conductor.sce"
		   ]
		  },
  {
"cell_type": "code",
	   "execution_count": null,
	   "metadata": {
	    "collapsed": true
	   },
	   "outputs": [],
"source": [
"//Chapter-3, Example 3.19, Page 78\n",
"//=============================================================================\n",
"clc\n",
"clear\n",
"\n",
"//INPUT DATA\n",
"Di=0.001;//Diameter of copper wire in m\n",
"t=0.001;//Thickness of insulation in m;\n",
"To=20;//Temperature of surrondings in degree C\n",
"Ti=80;//Maximum temperature of the plastic in degree C\n",
"kcopper=400;//Thermal conductivity of copper in W/m.K\n",
"kplastic=0.5;//Thermal conductivity of plastic in W/m.K\n",
"h=8;//Heat transfer coefficient in W/m^2.K\n",
"p=(3*10^-8);//Specific electric resistance of copper in Ohm.m\n",
"\n",
"//CAlCULATIONS\n",
"r=(Di/2);//Radius of copper tube in m\n",
"ro=(r+t);//Radius in m \n",
"R=(p/(3.14*r*r*0.01));//Electrical resistance per meter length in ohm/m\n",
"Rth=((1/(2*3.14*ro*h))+(log(ro/r)/(2*3.14*kplastic)));//Thermal resistance of convection film insulation per metre length \n",
"Q=((Ti-To)/Rth);//Heat transfer in W\n",
"I=sqrt(Q/R);//Maximum safe current limit in A\n",
"rc=((kplastic*100)/h);//Critical radius in cm\n",
"\n",
"//OUTPUT\n",
"mprintf('The maximum safe current limit is %3.3f A \n As the critical radius of insulation is much greater than that provided in the problem, the current carrying capacity of the conductor can be raised considerably in increasing the radius of plastic covering upto %3.1f cm.\n This may however lead to the problem of having too high a temperature at the cable centre if the temperature inside the plastic coating has to be kept within the given limits',I,rc)\n",
"\n",
"//=================================END OF PROGRAM=============================="
   ]
   }
,
{
		   "cell_type": "markdown",
		   "metadata": {},
		   "source": [
			"## Example 3.1: Rate_of_heat_loss_and_interior_temperature.sce"
		   ]
		  },
  {
"cell_type": "code",
	   "execution_count": null,
	   "metadata": {
	    "collapsed": true
	   },
	   "outputs": [],
"source": [
"//Chapter-3, Example 3.1, Page 45\n",
"//=============================================================================\n",
"clc\n",
"clear\n",
"\n",
"//INPUT DATA\n",
"l=5;//Length of the wall in m\n",
"h=4;//Height of the wall in m\n",
"L=0.25;//Thickness of the wall in m\n",
"T=[110,40];//Temperature on the inner and outer surface in degree C\n",
"k=0.7;//Thermal conductivity in W/m.K\n",
"x=0.20;//Distance from the inner wall in m\n",
"\n",
"//CALCULATIONS\n",
"A=l*h;//Arear of the wall in m^2\n",
"Q=(k*A*(T(1)-T(2)))/L;//Heat transfer rate in W\n",
"T=(((T(2)-T(1))*x)/L)+T(1);//Temperature at interior point of the wall, 20 cm distant from the inner wall in degree C\n",
"\n",
"//OUTPUT\n",
"mprintf('a)Heat transfer rate is %i W \n b)Temperature at interior point of the wall, 20 cm distant from the inner wall is %i degree C',Q,T)\n",
"\n",
"//=================================END OF PROGRAM=============================="
   ]
   }
,
{
		   "cell_type": "markdown",
		   "metadata": {},
		   "source": [
			"## Example 3.20: Surface_temperature_and_maximum_temperature_in_the_wall.sce"
		   ]
		  },
  {
"cell_type": "code",
	   "execution_count": null,
	   "metadata": {
	    "collapsed": true
	   },
	   "outputs": [],
"source": [
"//Chapter-3, Example 3.20, Page 83\n",
"//=============================================================================\n",
"clc\n",
"clear\n",
"\n",
"//INPUT DATA\n",
"L=0.1;//Thickness of the wall in m\n",
"Q=(4*10^4);//Heat tansfer rate in W/m^3\n",
"h=50;//Convective heat transfer coefficient in W/m^2.K\n",
"T=20;//Ambient air temperature in degree C\n",
"k=15;//Thermal conductivity of the material in W/m.K\n",
"\n",
"//CALCULATIONS\n",
"Tw=(T+((Q*L)/(2*h)));//Surface temperature in degree C\n",
"Tmax=(Tw+((Q*L*L)/(8*k)));//Maximum temperature in the wall in degree C\n",
"\n",
"//OUTPUT\n",
"mprintf('Surface temperature is %i degree C \n Maximum temperature in the wall is %3.3f degree C',Tw,Tmax)\n",
"\n",
"//=================================END OF PROGRAM=============================="
   ]
   }
,
{
		   "cell_type": "markdown",
		   "metadata": {},
		   "source": [
			"## Example 3.21: Surface_temperature.sce"
		   ]
		  },
  {
"cell_type": "code",
	   "execution_count": null,
	   "metadata": {
	    "collapsed": true
	   },
	   "outputs": [],
"source": [
"//Chapter-3, Example 3.21, Page 85\n",
"//=============================================================================\n",
"clc\n",
"clear\n",
"\n",
"//INPUT DATA\n",
"Do=0.006;//Outer diameter of hallow cylinder in m\n",
"Di=0.004;//Inner diameter of hallow cylinder in m\n",
"I=1000;//Current in A\n",
"T=30;//Temperature of water in degree C\n",
"h=35000;//Heat transfer coefficient in W/m^2.K\n",
"k=18;//Thermal conductivity of the material in W/m.K\n",
"R=0.1;//Electrical reisitivity of the material in ohm.mm^2/m\n",
"\n",
"//CALCULATIONS\n",
"ro=(Do/2);//Outer radius of hallow cylinder in m\n",
"ri=(Di/2);//Inner radius of hallow cylinder in m\n",
"V=((3.14*(ro^2-ri^2)));//Vol. of wire in m^2\n",
"Rth=(R/(3.14*(ro^2-ri^2)*10^6));//Resistivity in ohm/mm^2\n",
"q=((I*I*Rth)/V);//Heat transfer rate in W/m^3\n",
"To=T+(((q*ri*ri)/(4*k))*((((2*k)/(h*ri))-1)*((ro/ri)^2-1)+(2*(ro/ri)^2*log(ro/ri))));//Temperature at the outer surface in degree C\n",
"\n",
"//OUTPUT\n",
"mprintf('Temperature at the outer surface is %3.2f degree C',To)\n",
"\n",
"//=================================END OF PROGRAM=============================="
   ]
   }
,
{
		   "cell_type": "markdown",
		   "metadata": {},
		   "source": [
			"## Example 3.22: Heat_transfer_coefficient_and_maximum_temperature.sce"
		   ]
		  },
  {
"cell_type": "code",
	   "execution_count": null,
	   "metadata": {
	    "collapsed": true
	   },
	   "outputs": [],
"source": [
"//Chapter-3, Example 3.22, Page 88\n",
"//=============================================================================\n",
"clc\n",
"clear\n",
"\n",
"//INPUT DATA\n",
"D=0.025;//Diameter of annealed copper wire in m\n",
"I=200;//Current in A\n",
"R=(0.4*10^-4);//Resistance in ohm/cm\n",
"T=[200,10];//Surface temperature and ambient temperature in degree C\n",
"k=160;//Thermal conductivity in W/m.K\n",
"\n",
"//CALCULATIONS\n",
"r=(D/2);//Radius of annealed copper wire in m\n",
"Q=(I*I*R*100);//Heat transfer rate in W/m\n",
"V=(3.14*r*r);//Vol. of wire in m^2\n",
"q=(Q/V);//Heat loss in conductor in W/m^2\n",
"Tc=T(1)+((q*r*r)/(4*k));//Maximum temperature in the wire in degree C\n",
"h=((r*q)/(2*(T(1)-T(2))));//Heat transfer coefficient in W/m^2.K\n",
"\n",
"//OUTPUT\n",
"mprintf('Maximum temperature in the wire is %3.2f degree C \n Heat transfer coefficient is %3.2f W/m^2.K',Tc,h)\n",
"\n",
"//=================================END OF PROGRAM=============================="
   ]
   }
,
{
		   "cell_type": "markdown",
		   "metadata": {},
		   "source": [
			"## Example 3.23: Diameter_of_wire_and_rate_of_current_flow.sce"
		   ]
		  },
  {
"cell_type": "code",
	   "execution_count": null,
	   "metadata": {
	    "collapsed": true
	   },
	   "outputs": [],
"source": [
"//Chapter-3, Example 3.23, Page 89\n",
"//=============================================================================\n",
"clc\n",
"clear\n",
"\n",
"//INPUT DATA\n",
"p=100;//Resistivity of nichrome in µ ohm-cm \n",
"Q=10000;//Heat input of a heater in W\n",
"T=1220;//Surface temperature of nichrome in degree C\n",
"Ta=20;//Temperature of surrounding air in degree C\n",
"h=1150;//Outside surface coeffient in W/m^2.K\n",
"k=17;//Thermal conductivity of nichrome in W/m.K\n",
"L=1;//Length of heater in m\n",
"\n",
"//CALCULATIONS\n",
"d=(Q/((T-Ta)*3.14*h))*1000;//Diameter of nichrome wire in mm\n",
"A=(3.14*d*d)/4;//Area of the wire in m^2\n",
"R=((p*10^-8*L)/A);//Resistance of the wire in ohm\n",
"I=sqrt(Q/R)/1000;//Rate of current flow in A\n",
"\n",
"//OUTPUT\n",
"mprintf('Diameter of nichrome wire is %3.4f mm \n Rate of current flow is %i A',d,I)\n",
"\n",
"//=================================END OF PROGRAM=============================="
   ]
   }
,
{
		   "cell_type": "markdown",
		   "metadata": {},
		   "source": [
			"## Example 3.24: Temperature_drop.sce"
		   ]
		  },
  {
"cell_type": "code",
	   "execution_count": null,
	   "metadata": {
	    "collapsed": true
	   },
	   "outputs": [],
"source": [
"//Chapter-3, Example 3.24, Page 93\n",
"//=============================================================================\n",
"clc\n",
"clear\n",
"\n",
"//INPUT DATA\n",
"Do=0.025;//O.D of the rod in m\n",
"k=20;//Thermal conductivity in W/m.K\n",
"Q=(2.5*10^6);//Rate of heat removal in W/m^2\n",
"\n",
"//CALCULATIONS\n",
"ro=(Do/2);//Outer radius of the rod in m\n",
"q=((4*Q)/(ro));//Heat transfer rate in W/m^3\n",
"T=((-3*q*ro^2)/(16*k));//Temperature drop from the centre line to the surface in degree C\n",
"\n",
"//OUTPUT\n",
"mprintf('Temperature drop from the centre line to the surface is %3.3f degree C',T)\n",
"\n",
"//=================================END OF PROGRAM=============================="
   ]
   }
,
{
		   "cell_type": "markdown",
		   "metadata": {},
		   "source": [
			"## Example 3.25: Temperature_at_the_centre_of_orange.sce"
		   ]
		  },
  {
"cell_type": "code",
	   "execution_count": null,
	   "metadata": {
	    "collapsed": true
	   },
	   "outputs": [],
"source": [
"//Chapter-3, Example 3.25, Page 95\n",
"//=============================================================================\n",
"clc\n",
"clear\n",
"\n",
"//INPUT DATA\n",
"Q=300;//Heat produced by the oranges in W/m^2\n",
"s=0.08;//Size of the orange in m\n",
"k=0.15;//Thermal conductivity of the sphere in W/m.K\n",
"\n",
"//CALCULATIONS\n",
"q=(3*Q)/(s/2);//Heat flux in W/m^2\n",
"Tc=10+((q*(s/2)^2)/(6*k));//Temperature at the centre of the sphere in degree C\n",
"\n",
"//OUTPUT\n",
"mprintf('Temperature at the centre of the orange is %i degree C',Tc)\n",
"\n",
"//=================================END OF PROGRAM=============================="
   ]
   }
,
{
		   "cell_type": "markdown",
		   "metadata": {},
		   "source": [
			"## Example 3.26: Total_heat_dissipated.sce"
		   ]
		  },
  {
"cell_type": "code",
	   "execution_count": null,
	   "metadata": {
	    "collapsed": true
	   },
	   "outputs": [],
"source": [
"//Chapter-3, Example 3.26, Page 102\n",
"//=============================================================================\n",
"clc\n",
"clear\n",
"\n",
"//INPUT DATA\n",
"To=140;//Temperature at the junction in degree C\n",
"Ti=15;//Temperature of air in the room in degree C\n",
"D=0.003;//Diameter of the rod in m\n",
"h=300;//Heat transfer coefficient in W/m^2.K\n",
"k=150;//Thermal conductivity in W/m.K\n",
"\n",
"//CALCULATIONS\n",
"P=(3.14*D);//Perimeter of the rod in m\n",
"A=(3.14*D^2)/4;//Area of the rod in m^2\n",
"Q=sqrt(h*P*k*A)*(To-Ti);//Total heat dissipated by the rod in W\n",
"\n",
"//OUTPUT\n",
"mprintf('Total heat dissipated by the rod is %3.3f W',Q)\n",
"\n",
"//=================================END OF PROGRAM=============================="
   ]
   }
,
{
		   "cell_type": "markdown",
		   "metadata": {},
		   "source": [
			"## Example 3.27: Thermal_conductivity.sce"
		   ]
		  },
  {
"cell_type": "code",
	   "execution_count": null,
	   "metadata": {
	    "collapsed": true
	   },
	   "outputs": [],
"source": [
"//Chapter-3, Example 3.27, Page 103\n",
"//=============================================================================\n",
"clc\n",
"clear\n",
"\n",
"//INPUT DATA\n",
"D=0.025//Diameter of the rod in m\n",
"Ti=22;//Temperature of air in the room in degree C\n",
"x=0.1;//Distance between the points in m\n",
"T=[110,85];//Temperature sat two points in degree C\n",
"h=28.4;//Heat transfer coefficient in W/m^2.K\n",
"\n",
"//CALCULATIONS\n",
"m=-log((T(2)-Ti)/(T(1)-Ti))/x;//Calculation of m for obtaining k\n",
"P=(3.14*D);//Perimeter of the rod in m\n",
"A=(3.14*D^2)/4;//Area of the rod in m^2\n",
"k=((h*P)/((m)^2*A));//Thermal conductivity of the rod material in W/m.K\n",
"\n",
"//OUTPUT\n",
"mprintf('Thermal conductivity of the rod material is %3.1f W/m.K',k)\n",
"\n",
"//=================================END OF PROGRAM=============================="
   ]
   }
,
{
		   "cell_type": "markdown",
		   "metadata": {},
		   "source": [
			"## Example 3.28: Temperature_distribution_and_rate_of_heat_flow.sce"
		   ]
		  },
  {
"cell_type": "code",
	   "execution_count": null,
	   "metadata": {
	    "collapsed": true
	   },
	   "outputs": [],
"source": [
"//Chapter-3, Example 3.28, Page 103\n",
"//=============================================================================\n",
"clc\n",
"clear\n",
"\n",
"//INPUT DATA\n",
"L=0.06;//Length of the turbine blade in m\n",
"A=(4.65*10^-4);//Cross sectional area in m^2\n",
"P=0.12;//Perimeter in m\n",
"k=23.3;//Thermal conductivity of stainless steel in W/m.K\n",
"To=500;//Temperature at the root in degree C\n",
"Ti=870;//Temperature of the hot gas in degree C\n",
"h=442;//Heat transfer coefficient in W/m^2.K\n",
"\n",
"//CALCULATIONS\n",
"m=sqrt((h*P)/(k*A));//Calculation of m for calculating heat transfer rate\n",
"X=(To-Ti)/cosh(m*L);//X for calculating tempetarure distribution\n",
"Q=sqrt(h*P*k*A)*(To-Ti)*tanh(m*L);//Heat transfer rate in W\n",
"\n",
"//OUTPUT\n",
"mprintf('Temperature distribution is given by : T-Ti = %i cosh[%3.2f(%3.2f-x)] \n                                               --------------------\n                                                 cosh[%3.2f(%3.2f)] \n Heat transfer rate is %3.1f W',(To-Ti),m,L,m,L,Q)\n",
"\n",
"//=================================END OF PROGRAM=============================="
   ]
   }
,
{
		   "cell_type": "markdown",
		   "metadata": {},
		   "source": [
			"## Example 3.29: Rate_of_heat_transfer_and_temperature.sce"
		   ]
		  },
  {
"cell_type": "code",
	   "execution_count": null,
	   "metadata": {
	    "collapsed": true
	   },
	   "outputs": [],
"source": [
"//Chapter-3, Example 3.29, Page 104\n",
"//=============================================================================\n",
"clc\n",
"clear\n",
"\n",
"//INPUT DATA\n",
"W=1;//Length of the cylinder in m\n",
"D=0.05;//Diameter of the cylinder in m\n",
"Ta=45;//Ambient temperature in degree C\n",
"n=10;//Number of fins\n",
"k=120;//Thermal conductivity of the fin material in W/m.K\n",
"t=0.00076;//Thickness of fin in m\n",
"L=0.0127;//Height of fin in m\n",
"h=17;//Heat transfer coefficient in W/m^2.K\n",
"Ts=150;//Surface temperature of cylinder in m\n",
"\n",
"//CALCULATIONS\n",
"P=(2*W);//Perimeter of cylinder in m\n",
"A=(W*t);//Surface area of cyinder in m^2\n",
"m=sqrt((h*P)/(k*A));//Calculation of m for determining heat transfer rate\n",
"Qfin=(sqrt(h*P*k*A)*(Ts-Ta)*((tanh(m*L)+(h/(m*k)))/(1+((h/(m*k))*tanh(m*L)))));//Heat transfer through the fin in kW\n",
"Qb=h*((3.14*D)-(n*t))*W*(Ts-Ta);//Heat from unfinned (base) surface in W\n",
"Q=((Qfin*10)+Qb);//Total heat transfer in W\n",
"Ti=((Ts-Ta)/(cosh(m*L)+((h*sinh(m*L))/(m*k))));//Ti to calculate temperature at the end of the fin in degree C\n",
"T=(Ti+Ta);//Temperature at the end of the fin in degree C\n",
"\n",
"//OUTPUT\n",
"mprintf('Rate of heat transfer is %3.2f W\nTemperature at the end of the fin is %3.2f degree C',Q,T )\n",
"\n",
"//=================================END OF PROGRAM=============================="
   ]
   }
,
{
		   "cell_type": "markdown",
		   "metadata": {},
		   "source": [
			"## Example 3.2: Tempertaure_and_heat_flow.sce"
		   ]
		  },
  {
"cell_type": "code",
	   "execution_count": null,
	   "metadata": {
	    "collapsed": true
	   },
	   "outputs": [],
"source": [
"//Chapter-3, Example 3.2, Page 48\n",
"//=============================================================================\n",
"clc\n",
"clear\n",
"\n",
"Di=0.05;//Inner diameter of hollow cylinder in m\n",
"Do=0.1;//Outer diameter of hollow cylinder in m\n",
"T=[200,100];//Inner and outer surface temperature in degree C\n",
"k=70;//Thermal conductivity in W/m.K\n",
"\n",
"//CALCULATIONS\n",
"ro=(Do/2);//Outer radius of hollow cylinder in m\n",
"ri=(Di/2);//Inner radius of hollow cylinder in m\n",
"Q=((2*3.14*k*(T(1)-T(2)))/(log(ro/ri)));//Heat transfer rate in W\n",
"r1=(ro+ri)/2;//Radius at halfway between ro and ri in m\n",
"T1=T(1)-((T(1)-T(2))*(log(r1/ri)/(log(ro/ri))));//Temperature of the point halfway between the inner and outer surface in degree C\n",
"\n",
"//OUTPUT\n",
"mprintf('Heat transfer rate is %3.1f W /m\n Temperature of the point halfway between the inner and outer surface is %3.1f degree C',Q,T1)\n",
"\n",
"//=================================END OF PROGRAM=============================="
   ]
   }
,
{
		   "cell_type": "markdown",
		   "metadata": {},
		   "source": [
			"## Example 3.31: Rate_of_heat_flow.sce"
		   ]
		  },
  {
"cell_type": "code",
	   "execution_count": null,
	   "metadata": {
	    "collapsed": true
	   },
	   "outputs": [],
"source": [
"//Chapter-3, Example 3.31, Page 109\n",
"//=============================================================================\n",
"clc\n",
"clear\n",
"\n",
"//INPUT DATA\n",
"t=0.025;//Thickness of fin in m\n",
"L=0.1;//Length of fin in m\n",
"k=17.7;//Thermal conductivity of the fin material in W/m.K\n",
"p=7850;//Density in kg/m^3\n",
"Tw=600;//Temperature of the wall in degree C\n",
"Ta=40;//Temperature of the air in degree C\n",
"h=20;//Heat transfer coefficient in W/m^2.K\n",
"I0(1.9)=2.1782;//Io value taken from table 3.2 on page no.108\n",
"I1(1.9)=1.48871;//I1 value taken from table 3.2 on page no. 108\n",
"\n",
"//CALCULATIONS\n",
"B=sqrt((2*L*h)/(k*t));//Calculation of B for determining temperature distribution \n",
"X=((Tw-Ta)/I0(2*B*sqrt(0.1)));//Calculation of X for determining temperature distribution \n",
"Y=(2*B);//Calculation of Y for determining temperature distribution \n",
"Q=(sqrt(2*h*k*t)*(Tw-Ta)*((I1(2*B*sqrt(0.1)))/(I0(2*B*sqrt(0.1)))));\n",
"m=((p*t*L)/2);//Mass of the fin per meter of width in kg/m\n",
"q=(Q/m);//Rate of heat flow per unit mass in W/kg\n",
"\n",
"//OUTPUT\n",
"mprintf('Temperature distribution is T=%i+%3.1f(%3.4f√x)\nRate of heat flow per unit mass of the fin is %3.2f W/kg',Ta,X,Y,q)\n",
"\n",
"//=================================END OF PROGRAM=============================="
   ]
   }
,
{
		   "cell_type": "markdown",
		   "metadata": {},
		   "source": [
			"## Example 3.32: Efficiency_of_the_plate.sce"
		   ]
		  },
  {
"cell_type": "code",
	   "execution_count": null,
	   "metadata": {
	    "collapsed": true
	   },
	   "outputs": [],
"source": [
"//Chapter-3, Example 3.32, Page 116\n",
"//=============================================================================\n",
"clc\n",
"clear\n",
"\n",
"//INPUT DATA\n",
"t=0.002;//Thickness of fin in m\n",
"L=0.015;//Length of fin in m\n",
"k1=210;//Thermal conductivity of aluminium in W/m.K\n",
"h1=285;//Heat transfer coefficient of aluminium in W/m^2.K\n",
"k2=40;//Thermal conductivity of steel in W/m.K\n",
"h2=510;//Heat transfer coefficient of steel in W/m^2.K\n",
"\n",
"//CALCULATIONS\n",
"Lc=(L+(t/2));//Corrected length of fin in m\n",
"mLc1=Lc*sqrt((2*h1)/(k1*t));//Calculation of mLc for efficiency\n",
"n1=tanh(mLc1)/mLc1;//Efficiency of fin when aluminium is used\n",
"mLc2=Lc*sqrt((2*h2)/(k2*t));//Calculation of mLc for efficiency\n",
"n2=tanh(mLc2)/mLc2;//Efficiency of fin when steel is used\n",
"\n",
"//OUTPUT\n",
"mprintf('Efficiency of fin when aluminium is used is %3.4f\nEfficiency of fin when steel is used is %3.3f',n1,n2)\n",
"\n",
"//=================================END OF PROGRAM=============================="
   ]
   }
,
{
		   "cell_type": "markdown",
		   "metadata": {},
		   "source": [
			"## Example 3.33: Heat_transfer_coefficient.sce"
		   ]
		  },
  {
"cell_type": "code",
	   "execution_count": null,
	   "metadata": {
	    "collapsed": true
	   },
	   "outputs": [],
"source": [
"//Chapter-3, Example 3.33, Page 117\n",
"//=============================================================================\n",
"clc\n",
"clear\n",
"\n",
"//INPUT DATA\n",
"k=200;//Thermal conductivity of aluminium in W/m.K\n",
"t=0.001;//Thickness of fin in m\n",
"L=0.015;//Width of fin in m\n",
"D=0.025;//Diameter of the tube in m\n",
"Tb=170;//Fin base temperature in degree C\n",
"Ta=25;//Ambient fluid temperature in degree C\n",
"h=130;//Heat transfer coefficient in W/m^2.K\n",
"\n",
"//CALCULATIONS\n",
"Lc=(L+(t/2));//Corrected length of fin in m\n",
"r1=(D/2);//Radius of tube in m\n",
"r2c=(r1+Lc);//Corrected radius in m\n",
"Am=t*(r2c-r1);//Corrected area in m^2\n",
"x=Lc^(3/2)*sqrt(h/(k*Am));//x for calculating efficiency\n",
"n=0.82;//From fig. 3.18 on page no. 112 efficiency is 0.82\n",
"qmax=(2*3.14*(r2c^2-r1^2)*h*(Tb-Ta));//Maximum heat transfer in W\n",
"qactual=(n*qmax);//Actual heat transfer in W\n",
"\n",
"//OUTPUT\n",
"mprintf('Heat loss per fin is %3.2f W',qactual)\n",
"\n",
"//=================================END OF PROGRAM=============================="
   ]
   }
,
{
		   "cell_type": "markdown",
		   "metadata": {},
		   "source": [
			"## Example 3.34: Insulation_of_fin.sce"
		   ]
		  },
  {
"cell_type": "code",
	   "execution_count": null,
	   "metadata": {
	    "collapsed": true
	   },
	   "outputs": [],
"source": [
"//Chapter-3, Example 3.34, Page 117\n",
"//=============================================================================\n",
"clc\n",
"clear\n",
"\n",
"//INPUT DATA\n",
"k=16;//Thermal conductivity of fin in W/m.K\n",
"L=0.1;//Length of fin in m\n",
"D=0.01;//Diameter of fin in m\n",
"h=5000;//Heat transfer coefficient in W/m^2.K\n",
"\n",
"//CALCULATIONS\n",
"P=(3.14*D);//Perimeter of fin in m\n",
"A=(3.14*D^2)/4;//Area of fin in m^2\n",
"m=sqrt((h*P)/(k*A));//Calculation of m for determining heat transfer rate\n",
"n=tanh(m*L)/sqrt((h*A)/(k*P));//Calculation of n for checking whether installation of fin is desirable or not\n",
"x=(n-1)*100;//Conversion into percentage\n",
"\n",
"//OUTPUT\n",
"mprintf('This large fin only produces an increase of %i percent in heat dissipation, so naturally this configuration is undesirable',x)\n",
"\n",
"//=================================END OF PROGRAM=============================="
   ]
   }
,
{
		   "cell_type": "markdown",
		   "metadata": {},
		   "source": [
			"## Example 3.35: Measurement_error_in_temperature.sce"
		   ]
		  },
  {
"cell_type": "code",
	   "execution_count": null,
	   "metadata": {
	    "collapsed": true
	   },
	   "outputs": [],
"source": [
"//Chapter-3, Example 3.35, Page 119\n",
"//=============================================================================\n",
"clc\n",
"clear\n",
"\n",
"//INPUT DATA\n",
"k=55.8;//Thermal conductivity of steel in W/m.K\n",
"t=0.0015;//Thickness of steel tube in m\n",
"L=0.12;//Length of steel tube in m\n",
"h=23.3;//Heat transfer coefficient in W/m^2.K\n",
"Tl=84;//Temperature recorded by the thermometer in degree C\n",
"Tb=40;//Temperature at the base of the well in degree C\n",
"\n",
"//CALCULATIONS\n",
"m=sqrt(h/(k*t));//Calculation of m for determining the temperature distribution\n",
"x=1/cosh(m*L);//Calculation of x for determining the temperature distribution\n",
"Ti=((Tl-(x*Tb))/(1-x));//Temperature distribution in degree C\n",
"T=(Ti-Tl);//Measurement error in degree C\n",
"\n",
"//OUTPUT\n",
"mprintf('Measurement error is %3.0f degree C',T)\n",
"\n",
"//=================================END OF PROGRAM=============================="
   ]
   }
,
{
		   "cell_type": "markdown",
		   "metadata": {},
		   "source": [
			"## Example 3.3: Heat_flow_and_teperature.sce"
		   ]
		  },
  {
"cell_type": "code",
	   "execution_count": null,
	   "metadata": {
	    "collapsed": true
	   },
	   "outputs": [],
"source": [
"//Chapter-3, Example 3.3, Page 51\n",
"//=============================================================================\n",
"clc\n",
"clear\n",
"\n",
"Di=0.1;//Inner diameter of hollow sphere in m\n",
"Do=0.3;//Outer diameter of hollow sphere in m\n",
"k=50;//Thermal conductivity in W/m.K\n",
"T=[300,100];//Inner and outer surface temperature in degree C\n",
"\n",
"//CALCULATIONS\n",
"ro=(Do/2);//Outer radius of hollow sphere in m\n",
"ri=(Di/2);//Inner radius of hollow sphere in m\n",
"Q=((4*3.14*ro*ri*k*(T(1)-T(2)))/(ro-ri))/1000;//Heat transfer rate in W\n",
"r=ri+(0.25*(ro-ri));//The value at one-fourth way of te inner and outer surfaces in m\n",
"T=((ro*(r-ri)*(T(2)-T(1)))/(r*(ro-ri)))+T(1);//Temperature at a point a quarter of the way between the inner and outer surfaces in degree C\n",
"\n",
"//OUTPUT\n",
"mprintf('Heat flow rate through the sphere is %3.2f kW \nTemperature at a point a quarter of the way between the inner and outer surfaces is %i degree C',Q,T)\n",
"\n",
"//=================================END OF PROGRAM=============================="
   ]
   }
,
{
		   "cell_type": "markdown",
		   "metadata": {},
		   "source": [
			"## Example 3.4: Heat_loss_per_square_meter_surface_area.sce"
		   ]
		  },
  {
"cell_type": "code",
	   "execution_count": null,
	   "metadata": {
	    "collapsed": true
	   },
	   "outputs": [],
"source": [
"//Chapter-3, Example 3.4, Page 55\n",
"//=============================================================================\n",
"clc\n",
"clear\n",
"\n",
"//INPUT DATA\n",
"L=0.4;//Thickness of the furnace in m\n",
"T=[300,50];//Surface temperatures in degree C\n",
"//k=0.005T-5*10^-6T^2\n",
"\n",
"//CALCULATIONS\n",
"q=((1/L)*(((0.005/2)*(T(1)^2-T(2)^2))-((5*10^-6*(T(1)^3-T(2)^3))/3)));//Heat loss per square meter surface area in W/m^2\n",
"\n",
"//OUTPUT\n",
"mprintf('Heat loss per square meter surface area is %3.0f W/m^2',q)\n",
"\n",
"//=================================END OF PROGRAM=============================="
   ]
   }
,
{
		   "cell_type": "markdown",
		   "metadata": {},
		   "source": [
			"## Example 3.5: Rate_of_heat_flow.sce"
		   ]
		  },
  {
"cell_type": "code",
	   "execution_count": null,
	   "metadata": {
	    "collapsed": true
	   },
	   "outputs": [],
"source": [
"//Chapter-3, Example 3.5, Page 55\n",
"//=============================================================================\n",
"clc\n",
"clear\n",
"\n",
"//INPUT DATA\n",
"L=0.2;//Thickness of the wall in m\n",
"T=[1000,200];//Surface temperatures in degree C\n",
"ko=0.813;//Value of thermal conductivity at T=0 in W/m.K\n",
"b=0.0007158;//Temperature coefficient of thermal conductivity in 1/K\n",
"\n",
"//CALCULATIONS\n",
"km=ko*(1+((b*(T(1)+T(2)))/2));//Constant thermal conductivity in W/m.K\n",
"q=((km*(T(1)-T(2)))/L);//Rate of heat flow in W/m^2\n",
"\n",
"//OUTPUT\n",
"mprintf('Rate of heat flow is %3.0f W/m^2',q)\n",
"\n",
"//=================================END OF PROGRAM=============================="
   ]
   }
,
{
		   "cell_type": "markdown",
		   "metadata": {},
		   "source": [
			"## Example 3.6: Heat_loss_per_unit_length.sce"
		   ]
		  },
  {
"cell_type": "code",
	   "execution_count": null,
	   "metadata": {
	    "collapsed": true
	   },
	   "outputs": [],
"source": [
"//Chapter-3, Example 3.6, Page 58\n",
"//=============================================================================\n",
"clc\n",
"clear\n",
"\n",
"//INPUT DATA\n",
"r=[0.01,0.02];//Inner and outer radius of a copper cylinder in m\n",
"T=[310,290];//Inner and Outer surface temperature in degree C\n",
"ko=371.9;//Value of thermal conductivity at T=0 in W/m.K\n",
"b=(9.25*10^-5);//Temperature coefficient of thermal conductivity in 1/K\n",
"\n",
"//CALCULATIONS\n",
"Tm=((T(1)-150)+(T(2)-150))/2;//Mean temperature in degree C\n",
"km=ko*(1-(b*Tm));//Constant thermal conductivity in W/m.K\n",
"q=((2*3.14*km*(T(1)-T(2)))/log(r(2)/r(1)))/1000;//Heat loss per unit length in kW/m\n",
"\n",
"//OUTPUT\n",
"mprintf('Heat loss per unit length is %3.2f kW/m',q)"
   ]
   }
,
{
		   "cell_type": "markdown",
		   "metadata": {},
		   "source": [
			"## Example 3.8: Thickness_of_insulation.sce"
		   ]
		  },
  {
"cell_type": "code",
	   "execution_count": null,
	   "metadata": {
	    "collapsed": true
	   },
	   "outputs": [],
"source": [
"//Chapter-3, Example 3.8, Page 63\n",
"//=============================================================================\n",
"clc\n",
"clear\n",
"\n",
"//INPUT DATA\n",
"L1=0.5;//Thickness of the wall in m\n",
"k1=1.4;//Thermal conductivity in W/m.K\n",
"k2=0.35;//Thermal conductivity of insulating material in W/m.K\n",
"q=1450;//Heat loss per square metre in W\n",
"T=[1200,15];//Inner and outer surface temperatures in degree C\n",
"\n",
"//CALCULATIONS\n",
"L2=(((T(1)-T(2))/q)-(L1/k1))*k2;;//Thickness of the insulation required in m\n",
"\n",
"//OUTPUT\n",
"mprintf('Thickness of the insulation required is %3.3f m',L2)\n",
"\n",
"//=================================END OF PROGRAM=============================="
   ]
   }
,
{
		   "cell_type": "markdown",
		   "metadata": {},
		   "source": [
			"## Example 3.9: Rate_of_heat_leaking.sce"
		   ]
		  },
  {
"cell_type": "code",
	   "execution_count": null,
	   "metadata": {
	    "collapsed": true
	   },
	   "outputs": [],
"source": [
"//Chapter-3, Example 3.9, Page 64\n",
"//=============================================================================\n",
"clc\n",
"clear\n",
"\n",
"L1=0.006;//Thickness of each glass sheet in m\n",
"L2=0.002;//Thickness of air gap in m\n",
"Tb=-20;//Temperature of the air inside the room in degree C\n",
"Ta=30;//Ambient temperature of air in degree C\n",
"ha=23.26;//Heat transfer coefficient between glass and air in W/m^2.K\n",
"kglass=0.75;//Thermal conductivity of glass in W/m.K\n",
"kair=0.02;//Thermal conductivity of air in W/m.K\n",
"\n",
"//CALCULATIONS\n",
"q=((Ta-Tb)/((1/ha)+(L1/kglass)+(L2/kair)+(L1/kglass)+(1/ha)));//Rate of heat leaking into the room per unit area of the door in W/m^2\n",
"\n",
"//OUTPUT\n",
"mprintf('Rate of heat leaking into the room per unit area of the door is %3.1f W/m^2',q)\n",
"\n",
"//=================================END OF PROGRAM=============================="
   ]
   }
],
"metadata": {
		  "kernelspec": {
		   "display_name": "Scilab",
		   "language": "scilab",
		   "name": "scilab"
		  },
		  "language_info": {
		   "file_extension": ".sce",
		   "help_links": [
			{
			 "text": "MetaKernel Magics",
			 "url": "https://github.com/calysto/metakernel/blob/master/metakernel/magics/README.md"
			}
		   ],
		   "mimetype": "text/x-octave",
		   "name": "scilab",
		   "version": "0.7.1"
		  }
		 },
		 "nbformat": 4,
		 "nbformat_minor": 0
}
