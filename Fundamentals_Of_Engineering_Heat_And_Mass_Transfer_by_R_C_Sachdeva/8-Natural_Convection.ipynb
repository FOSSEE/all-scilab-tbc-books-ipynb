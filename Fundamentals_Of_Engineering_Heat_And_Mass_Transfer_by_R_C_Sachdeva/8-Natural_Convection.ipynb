{
"cells": [
 {
		   "cell_type": "markdown",
	   "metadata": {},
	   "source": [
       "# Chapter 8: Natural Convection"
	   ]
	},
{
		   "cell_type": "markdown",
		   "metadata": {},
		   "source": [
			"## Example 8.10: Coefficient_of_heat_transfer_and_current_intensity.sce"
		   ]
		  },
  {
"cell_type": "code",
	   "execution_count": null,
	   "metadata": {
	    "collapsed": true
	   },
	   "outputs": [],
"source": [
"//Chapter-8, Example 8.10, Page 351\n",
"//=============================================================================\n",
"clc\n",
"clear\n",
"\n",
"//INPUT DATA\n",
"Ta=25;//Temperature of air in degree C\n",
"Ts=95;//Surface temperature of wire in degree C\n",
"D=0.0025;//Diameter of wire in m\n",
"R=6;//Resistivity in ohm/m\n",
"\n",
"//CALCULATIONS\n",
"Tf=(Ts+Ta)/2;//Film temperature in degree C\n",
"k=0.02896;//Thermal conductivity in W/m.K\n",
"v1=(18.97*10^-6);//Kinematic viscosity in m^2/s\n",
"b=(1/333);//Coefficient of thermal expansion in 1/K\n",
"Pr=0.696;//Prantl number\n",
"Gr=((9.81*b*D^3*(Ts-Ta))/(v1^2));//Grashof number\n",
"Ra=(Gr*Pr);//Rayleigh number\n",
"Nu=(1.18*Ra^(1/8));//Nussults number\n",
"h=(Nu*k)/D;//Heat transfer coefficient in W/m^2.K\n",
"Q=(h*3.14*D*(Ts-Ta));//Rate of heat loss per unit length of wire in W/m\n",
"I=sqrt(Q/R);//Maximum current intensity in A\n",
"\n",
"//OUTPUT\n",
"mprintf('Heat transfer coefficient is %3.2f W/m^2.K \nMaximum current intensity is %3.2f A',h,I)\n",
"\n",
"//=================================END OF PROGRAM=============================="
   ]
   }
,
{
		   "cell_type": "markdown",
		   "metadata": {},
		   "source": [
			"## Example 8.11: Rate_of_convective_heat_loss.sce"
		   ]
		  },
  {
"cell_type": "code",
	   "execution_count": null,
	   "metadata": {
	    "collapsed": true
	   },
	   "outputs": [],
"source": [
"//Chapter-8, Example 8.11, Page 352\n",
"//=============================================================================\n",
"clc\n",
"clear\n",
"\n",
"//INPUT DATA\n",
"D=0.01;//Diameter of spherical steel ball in m\n",
"Ts=260;//Surface temperature in degree C\n",
"Ta=20;//Temperature of air in degree C\n",
"\n",
"//CALCULATIONS\n",
"Tf=(Ts+Ta)/2;//Film temperature in degree C\n",
"k=0.0349;//Thermal conductivity in W/m.K\n",
"v1=(27.8*10^-6);//Kinematic viscosity in m^2/s\n",
"b=(1/413);//Coefficient of thermal expansion in 1/K\n",
"Pr=0.684;//Prantl number\n",
"Ra=((9.81*b*D^3*(Ts-20)*Pr)/(v1^2));//Rayleigh number\n",
"Nu=(2+(0.43*Ra^0.25));//Nusuults number\n",
"h=(k*Nu)/D;//Heat transfer coefficient in W/m^2.K\n",
"Q=(h*3.14*D^2*(Ts-Ta));//Rate of heat loss in W\n",
"\n",
"//OUTPUT\n",
"mprintf('Rate of convective heat loss is %3.2f W',Q)\n",
"\n",
"//=================================END OF PROGRAM=============================="
   ]
   }
,
{
		   "cell_type": "markdown",
		   "metadata": {},
		   "source": [
			"## Example 8.12: Rate_of_heat_loss.sce"
		   ]
		  },
  {
"cell_type": "code",
	   "execution_count": null,
	   "metadata": {
	    "collapsed": true
	   },
	   "outputs": [],
"source": [
"//Chapter-8, Example 8.12, Page 353\n",
"//=============================================================================\n",
"clc\n",
"clear\n",
"\n",
"//INPUT DATA\n",
"D=0.1;//Outer diamter of the pipe in m\n",
"Ta=30;//Ambient temperature of air degree C\n",
"Ts=170;//Surface temperature in degree C\n",
"e=0.9;//Emissivity \n",
"\n",
"//CALCULATIONS\n",
"h=(1.32*((Ts-Ta)/D)^0.25);//Heat transfer coefficient in W/m^2.K\n",
"q=(h*3.1415*D*(Ts-Ta));//Heat transfer in W/m\n",
"\n",
"//OUTPUT\n",
"mprintf('Heat loss due to free convection is %3.2f W/m',q)\n",
"\n",
"//=================================END OF PROGRAM=============================="
   ]
   }
,
{
		   "cell_type": "markdown",
		   "metadata": {},
		   "source": [
			"## Example 8.13: Thermal_conductivity_and_heat_flow.sce"
		   ]
		  },
  {
"cell_type": "code",
	   "execution_count": null,
	   "metadata": {
	    "collapsed": true
	   },
	   "outputs": [],
"source": [
"//Chapter-8, Example 8.13, Page 355\n",
"//=============================================================================\n",
"clc\n",
"clear\n",
"\n",
"//INPUT DATA\n",
"L=0.015;//Thickness of the slot in m\n",
"D=2;//Dimension of square plate in m\n",
"T1=120;//Temperature of plate 1\n",
"T2=20;//Temperature of plate 2\n",
"\n",
"//CALCULATIONS\n",
"Tf=(T1+T2)/2;//Film temperature in degree C\n",
"k=0.0295;//Thermal conductivity in W/m.K\n",
"v1=(2*10^-5);//Kinematic viscosity in m^2/s\n",
"b=(1/343);//Coefficient of thermal expansion in 1/K\n",
"Gr=((9.81*b*L^3*(T1-T2))/(v1^2));//Grashof number\n",
"ke=(0.064*k*Gr^(1/3)*(D/L)^(-1/9));//Effective thermal conductivity in W/m.K\n",
"Q=(ke*D^2*(T1-T2))/L;//Rate of heat transfer in W\n",
"\n",
"//OUTPUT\n",
"mprintf('Effective thermal conductivity is %3.4f W/m.K \nRate of heat transfer is %3.1f W',ke,Q)\n",
"\n",
"//=================================END OF PROGRAM=============================="
   ]
   }
,
{
		   "cell_type": "markdown",
		   "metadata": {},
		   "source": [
			"## Example 8.14: Free_convection_heat_transfer.sce"
		   ]
		  },
  {
"cell_type": "code",
	   "execution_count": null,
	   "metadata": {
	    "collapsed": true
	   },
	   "outputs": [],
"source": [
"//Chapter-8, Example 8.14, Page 356\n",
"//=============================================================================\n",
"clc\n",
"clear\n",
"\n",
"//INPUT DATA\n",
"d=0.0254;//Diatance between the plates in m\n",
"Tl=60;//Temperature of the lower panel n degree C\n",
"Tu=15.6;//Temperature of the upper panel in degree C\n",
"\n",
"//CALCULATIONS\n",
"Tf=(Tl+Tu)/2;//Film temperature in degree C\n",
"p=1.121;//Density in kg/m^3\n",
"k=0.0292;//Thermal conductivity in W/m.K\n",
"v1=(0.171*10^-4);//Kinematic viscosity in m^2/s\n",
"b=(3.22*10^-3);//Coefficient of thermal expansion in 1/K\n",
"Pr=0.7;//Prantl number\n",
"Gr=((9.81*b*d^3*(Tl-Tu))/(v1^2));//Grashof number\n",
"Nu=(0.195*Gr^0.25);//Nussults number\n",
"q=(Nu*k*(Tl-Tu))/d;//Heat flux across the gap in W/m^2\n",
"\n",
"//OUTPUT\n",
"mprintf('Free convection heat transfer is %3.1f W/m^2',q)\n",
"\n",
"//=================================END OF PROGRAM=============================="
   ]
   }
,
{
		   "cell_type": "markdown",
		   "metadata": {},
		   "source": [
			"## Example 8.15: Convective_heat_transfer_coefficient.sce"
		   ]
		  },
  {
"cell_type": "code",
	   "execution_count": null,
	   "metadata": {
	    "collapsed": true
	   },
	   "outputs": [],
"source": [
"//Chapter-8, Example 8.15, Page 359\n",
"//=============================================================================\n",
"clc\n",
"clear\n",
"\n",
"//INPUT DATA\n",
"p=3;//Pressure of air in atm\n",
"r1=0.075;//Radius of first sphere in m\n",
"r2=0.1;//Radius of second sphere in m\n",
"L=0.025;//Distance in m\n",
"T1=325;//Temperature of first sphere in K\n",
"T2=275;//Temperature of second sphere in K\n",
"R=287;//Universal gas constant in J/\n",
"\n",
"//CALCULATIONS\n",
"Tf=(T1+T2)/2;//Film temperature in degree C\n",
"d=(p/(R*Tf));//Desnsity in kg/m^3\n",
"k=0.0263;//Thermal conductivity in W/m.K\n",
"v1=(5.23*10^-6);//Kinematic viscosity in m^2/s\n",
"b=(1/300);//Coefficient of thermal expansion in 1/K\n",
"Pr=0.707;//Prantl numbe\n",
"Gr=((9.81*b*L^3*(T1-T2))/(v1^2));//Grashof number\n",
"Ra=(Gr*Pr);//Rayleigh number\n",
"Ra1=((L/((4*r1*r2)^4))*(Ra/((2*r1)^(-7/5)+(2*r2)^(-7/5))^5))^0.25;//Equivalent Rayleigh's number\n",
"ke=(k*0.74*((Pr*Ra1)/(0.861+Pr))^0.25);//Effective thermal conductivity in W/m.K\n",
"Q=(ke*3.14*4*r1*r2*(T1-T2))/L;//Rate of heat loss in W\n",
"\n",
"//OUTPUT\n",
"mprintf('Convection heat transfer rate is %3.2f W',Q)\n",
"\n",
"//=================================END OF PROGRAM=============================="
   ]
   }
,
{
		   "cell_type": "markdown",
		   "metadata": {},
		   "source": [
			"## Example 8.16: Heat_transfer.sce"
		   ]
		  },
  {
"cell_type": "code",
	   "execution_count": null,
	   "metadata": {
	    "collapsed": true
	   },
	   "outputs": [],
"source": [
"//Chapter-8, Example 8.16, Page 362\n",
"//=============================================================================\n",
"clc\n",
"clear\n",
"\n",
"//INPUT DATA\n",
"p=1;//Pressure of air in atm\n",
"Ta=27;//Temperature of air in degree C\n",
"D=0.02;//Diamter of the tube in m\n",
"v=0.3;//Velocity of air in m/s\n",
"Ts=127;//Surface temperature in degree C\n",
"L=1;//Length of the tube in m\n",
"\n",
"//CALCULATIONS\n",
"k=0.0262;//Thermal conductivity in W/m.K\n",
"v1=(1.568*10^-5);//Kinematic viscosity in m^2/s\n",
"Pr=0.708;//Prantl number\n",
"b=(1/300);//Coefficient of thermal expansion in 1/K\n",
"ub=(1.847*10^-5);//Dynamic viscosity in Ns/m^2\n",
"us=(2.286*10^-5);//Viscosity of wall in Ns/m^2\n",
"Re=(v*D)/v1;//Reynolds number\n",
"Gr=((9.81*b*D^3*(Ts-Ta))/(v1^2));//Grashof number\n",
"Gz=(Re*Pr*(D/L));//Graetz number\n",
"Nu=(1.75*(ub/us)^0.14*(Gz+(0.012*(Gz*Gr^(1/3))^(4/3)))^(1/3));//Nussults number\n",
"h=(k*Nu)/D;//Heat transfer coefficient in W/m^2.K\n",
"Q=(h*3.14*D*L*(Ts-Ta));//Heat transfer in W\n",
"\n",
"//OUTPUT\n",
"mprintf('Heat transfer in the tube is %3.2f W',Q)\n",
"\n",
"//=================================END OF PROGRAM=============================="
   ]
   }
,
{
		   "cell_type": "markdown",
		   "metadata": {},
		   "source": [
			"## Example 8.1: Boundary_layer_thickness.sce"
		   ]
		  },
  {
"cell_type": "code",
	   "execution_count": null,
	   "metadata": {
	    "collapsed": true
	   },
	   "outputs": [],
"source": [
"//Chapter-8, Example 8.1, Page 340\n",
"//=============================================================================\n",
"clc\n",
"clear\n",
"\n",
"//INPUT DATA\n",
"L=0.3;//Length of the glass plate in m\n",
"Ta=27;//Temperature of air in degree C\n",
"Ts=77;//Surface temperature in degree C\n",
"v=4;//Velocity of air in m/s\n",
"\n",
"//CALCULATIONS\n",
"Tf=(Ta+Ts)/2;//Film temperature in degree C\n",
"k=0.02815;//Thermal conductivity in W/m.K\n",
"v1=(18.41*10^-6);//Kinematic viscosity in m^2/s\n",
"Pr=0.7;//Prantl number\n",
"b=(3.07*10^-3);//Coefficient of thermal expansion in 1/K\n",
"Gr=(9.81*b*(Ts-Ta)*L^3)/v1^2;//Grashof number\n",
"q=L*((3.93*(1/sqrt(Pr))*(0.952+Pr)^0.25*Gr^(-0.25)));//Boundary layer thickness at the trailing edge of the plate in free convection in m\n",
"Re=(v*L)/v1;//Reynolds number\n",
"q1=(5*L)/sqrt(Re);//Boundary layer thickness at the trailing edge of the plate in forced convection in m\n",
"\n",
"//OUTPUT\n",
"mprintf('Boundary layer thickness at the trailing edge of the plate in free convection is % 3.4f m \nBoundary layer thickness at the trailing edge of the plate in forced convection is %3.4f m',q,q1) \n",
"\n",
"//=================================END OF PROGRAM=============================="
   ]
   }
,
{
		   "cell_type": "markdown",
		   "metadata": {},
		   "source": [
			"## Example 8.2: Heat_transfer_coefficient.sce"
		   ]
		  },
  {
"cell_type": "code",
	   "execution_count": null,
	   "metadata": {
	    "collapsed": true
	   },
	   "outputs": [],
"source": [
"//Chapter-8, Example 8.2, Page 341\n",
"//=============================================================================\n",
"clc\n",
"clear\n",
"\n",
"//INPUT DATA\n",
"L=0.3;//Length of the glass plate in m\n",
"Ta=27;//Temperature of air in degree C\n",
"Ts=77;//Surface temperature in degree C\n",
"v=4;//Velocity of air in m/s\n",
"\n",
"//CALCULATIONS\n",
"Tf=(Ta+Ts)/2;//Film temperature in degree C\n",
"k=0.02815;//Thermal conductivity in W/m.K\n",
"v1=(18.41*10^-6);//Kinematic viscosity in m^2/s\n",
"Pr=0.7;//Prantl number\n",
"b=(3.07*10^-3);//Coefficient of thermal expansion in 1/K\n",
"Gr=(9.81*b*(Ts-Ta)*L^3)/v1^2;//Grashof number\n",
"Re=(v*L)/v1;//Reynolds number\n",
"Nu=(0.677*sqrt(Pr)*(0.952+Pr)^(-0.25)*Gr^0.25);//Nusselts number\n",
"h=(Nu*k)/L;//Heat transfer coefficient for natural convection in W/m^2.K\n",
"Nux=(0.664*sqrt(Re)*Pr^(1/3));//Nusselts number\n",
"hx=(Nux*k)/L;//Heat transfer coefficient for forced convection in W/m^2.K\n",
"\n",
"//OUTPUT\n",
"mprintf('Heat transfer coefficient for natural convection is %3.1f W/m^2.K \nHeat transfer coefficient for forced convection is %3.2f W/m^2.K',h,hx)\n",
"\n",
"//=================================END OF PROGRAM=============================="
   ]
   }
,
{
		   "cell_type": "markdown",
		   "metadata": {},
		   "source": [
			"## Example 8.3: Heat_transfer_coefficient_and_rate_of_heat_transfer.sce"
		   ]
		  },
  {
"cell_type": "code",
	   "execution_count": null,
	   "metadata": {
	    "collapsed": true
	   },
	   "outputs": [],
"source": [
"//Chapter-8, Example 8.3, Page 343\n",
"//=============================================================================\n",
"clc\n",
"clear\n",
"\n",
"//INPUT DATA\n",
"L=0.609;//Height of the metal plate in m\n",
"Ts=161;//Temperature of the wall in degree C\n",
"Ta=93;//Temperature of air in degree C\n",
"\n",
"//CALCULATIONS\n",
"Tf=(Ts+Ta)/2;//Film temperature in degree C\n",
"k=0.0338;//Thermal conductivity in W/m.K\n",
"v1=(26.4*10^-6);//Kinematic viscosity in m^2/s\n",
"Pr=0.69;//Prantl number\n",
"b=0.0025;//Coefficient of thermal expansion in 1/K\n",
"a=(38.3*10^-6);//Thermal diffusivity in m^2/s\n",
"Ra=((9.81*b*L^3*(Ts-Ta))/(v1*a));//Rayleigh number\n",
"Nu=(0.68+((0.67*Ra^0.25)/(1+(0.492/Pr)^(9/16))^(4/9)));//Nussults number\n",
"h=(Nu*k)/L;//Heat transfer coefficient in W/m^2.K\n",
"Q=(h*L*(Ts-Ta));//Rate of heat transfer in W\n",
"\n",
"//OUTPUT\n",
"mprintf('Heat transfer coefficient is %3.3f W/m^2.K \nRate of heat transfer is %3.2f W',h,Q)\n",
"\n",
"//=================================END OF PROGRAM=============================="
   ]
   }
,
{
		   "cell_type": "markdown",
		   "metadata": {},
		   "source": [
			"## Example 8.4: Convective_heat_loss.sce"
		   ]
		  },
  {
"cell_type": "code",
	   "execution_count": null,
	   "metadata": {
	    "collapsed": true
	   },
	   "outputs": [],
"source": [
"//Chapter-8, Example 8.4, Page 344\n",
"//=============================================================================\n",
"clc\n",
"clear\n",
"\n",
"//INPUT DATA\n",
"W=0.5;//Width of the radiator in m\n",
"L=1;//Height of the radiator in m\n",
"Ts=84;//Surface temperature in degree C\n",
"Ta=20;//Room temperature in degree C\n",
"\n",
"//CALCULATIONS\n",
"Tf=(Ts+Ta)/2;//Film temperature in degree C\n",
"k=0.02815;//Thermal conductivity in W/m.K\n",
"v1=(18.41*10^-6);//Kinematic viscosity in m^2/s\n",
"Pr=0.7;//Prantl number\n",
"b=0.003077;//Coefficient of thermal expansion in 1/K\n",
"Ra=((9.81*b*L^3*(Ts-Ta)*Pr)/(v1^2));//Rayleigh number\n",
"Nu=(0.825+((0.387*Ra^(1/6))/(1+(0.492/Pr)^(9/16))^(8/27)))^2;//Nussults number\n",
"h=(Nu*k)/L;//Heat transfer coefficient in W/m^2.K\n",
"Q=(h*W*L*(Ts-Ta));//Convective heat loss in W\n",
"\n",
"//OUTPUT\n",
"mprintf('Convective heat loss from the radiator is %3.2f W',Q)\n",
"\n",
"//=================================END OF PROGRAM=============================="
   ]
   }
,
{
		   "cell_type": "markdown",
		   "metadata": {},
		   "source": [
			"## Example 8.5: Rate_of_heat_input.sce"
		   ]
		  },
  {
"cell_type": "code",
	   "execution_count": null,
	   "metadata": {
	    "collapsed": true
	   },
	   "outputs": [],
"source": [
"//Chapter-8, Example 8.5, Page 345\n",
"//=============================================================================\n",
"clc\n",
"clear\n",
"\n",
"//INPUT DATA\n",
"L=0.8;//Height of the plate in m\n",
"W=0.08;//Width of the plate in m\n",
"Ts=170;//Surafce temperature in degree C\n",
"Tw=70;//Temperature of water in degree C\n",
"Tf=130;//Final temperature in degree C\n",
"\n",
"//CALCULATIONS\n",
"Tb=(Ts+Tw)/2;//Film temperature in degree C\n",
"p=960.63;//Density in kg/m^3\n",
"k=0.68;//Thermal conductivity in W/m.K\n",
"v1=(0.294*10^-6);//Kinematic viscosity in m^2/s\n",
"b=0.00075;//Coefficient of thermal expansion in 1/K\n",
"Cp=4216;//Specific heat in J/kg.K\n",
"a=(1.68*10^-7);//Thermal diffusivity in m^2/s\n",
"Lc=(W/2);//Characteristic length in m\n",
"Ra=((9.81*b*Lc^3*(Tf-Tw))/(v1*a));//Rayleigh number\n",
"Nu1=(0.15*Ra^(1/3));//Nussults number\n",
"h1=(Nu1*k)/Lc;//Heat transfer coefficient at top surface in W/m^2.K \n",
"Nu2=0.27*(Ra)^(0.25);//Nusselts number\n",
"h2=(Nu2*k)/Lc;//Heat transfer coefficient at bottom surface in W/m^2.K\n",
"Q=((h1+h2)*W*L*(Tf-Tw))/1000;//Rate of heat input to the plate in kW\n",
"\n",
"//OUTPUT\n",
"mprintf('Rate of heat input to the plate necessary to maintain the temperature at %3.0f degree C is %3.2f kW',Tf,Q)\n",
"\n",
"//=================================END OF PROGRAM=============================="
   ]
   }
,
{
		   "cell_type": "markdown",
		   "metadata": {},
		   "source": [
			"## Example 8.6: Heat_gained_by_the_duct.sce"
		   ]
		  },
  {
"cell_type": "code",
	   "execution_count": null,
	   "metadata": {
	    "collapsed": true
	   },
	   "outputs": [],
"source": [
"//Chapter-8, Example 8.6, Page 346\n",
"//=============================================================================\n",
"clc\n",
"clear\n",
"\n",
"//INPUT DATA\n",
"L=0.3;//Height of the duct in m\n",
"W=0.6;//Width of the duct in m\n",
"Ts=15;//Surface temperature in degree C\n",
"Ta=25;//Temeprature of air in degree C\n",
"\n",
"//CALCULATIONS\n",
"Tb=(Ts+Ta)/2;//Film temperature in degree C\n",
"p=1.205;//Density in kg/m^3\n",
"k=0.02593;//Thermal conductivity in W/m.K\n",
"v1=(15.06*10^-6);//Kinematic viscosity in m^2/s\n",
"b=0.00341;//Coefficient of thermal expansion in 1/K\n",
"Cp=1005;//Specific heat in J/kg.K\n",
"Pr=0.705;//Prantl number\n",
"Ra=((9.81*b*L^3*(Ta-Ts)*Pr)/(v1^2));//Rayleigh number\n",
"Nux=(0.59*Ra^(0.25));//Nusselts number\n",
"hx=(Nux*k)/L;//Heat transfer coefficient in W/m^2.K\n",
"Lc=(W/2);//Characteristic length in m\n",
"Nu1=(0.15*Ra^(1/3));//Nussults number\n",
"h1=(Nu1*k)/Lc;//Heat transfer coefficient at top surface in W/m^2.K \n",
"Nu2=0.27*(Ra)^(0.25);//Nusselts number\n",
"h2=(Nu2*k)/Lc;//Heat transfer coefficient at bottom surface in W/m^2.K\n",
"Q=((2*hx*L)+(W*(h1+h2)))*(Ta-Ts);//Rate of heat gained per unit length in W/m\n",
"\n",
"//OUTPUT\n",
"mprintf('Rate of heat gained per unit length is %3.2f W/m',Q)\n",
"\n",
"//=================================END OF PROGRAM=============================="
   ]
   }
,
{
		   "cell_type": "markdown",
		   "metadata": {},
		   "source": [
			"## Example 8.7: Coefficient_of_heat_transfer.sce"
		   ]
		  },
  {
"cell_type": "code",
	   "execution_count": null,
	   "metadata": {
	    "collapsed": true
	   },
	   "outputs": [],
"source": [
"//Chapter-8, Example 8.7, Page 348\n",
"//=============================================================================\n",
"clc\n",
"clear\n",
"\n",
"//INPUT DATA\n",
"LH=0.08;//Horizantal length in m\n",
"LV=0.12;//Vertical length in m\n",
"Ts=50;//Surface temperature in degree C\n",
"Ta=0;//Temeprature of air in degree C\n",
"\n",
"//CALCULATIONS\n",
"L=(LH*LV)/(LH+LV);//Characteristic length in m\n",
"Tb=(Ts+Ta)/2;//Film temperature in degree C\n",
"p=0.707;//Density in kg/m^3\n",
"k=0.0263;//Thermal conductivity in W/m.K\n",
"v1=(15.89*10^-6);//Kinematic viscosity in m^2/s\n",
"b=(1/300);//Coefficient of thermal expansion in 1/K\n",
"Pr=0.707;//Prantl number\n",
"Gr=((9.81*b*L^3*(Ts-Ta))/(v1^2));//Grashof number\n",
"Nu=0.55*Gr^(0.25);//Nussults number\n",
"h=(Nu*k)/L;//Heat transfer coefficient in W/m^2.K\n",
"\n",
"//OUTPUT\n",
"mprintf('Heat transfer coefficient is %3.2f W/m^2.K',h)\n",
"\n",
"//=================================END OF PROGRAM=============================="
   ]
   }
,
{
		   "cell_type": "markdown",
		   "metadata": {},
		   "source": [
			"## Example 8.8: Rate_of_heat_loss.sce"
		   ]
		  },
  {
"cell_type": "code",
	   "execution_count": null,
	   "metadata": {
	    "collapsed": true
	   },
	   "outputs": [],
"source": [
"//Chapter-8, Example 8.8, Page 349\n",
"//=============================================================================\n",
"clc\n",
"clear\n",
"\n",
"//INPUT DATA\n",
"D=0.2;//Outer diameter of the pipe in m\n",
"Ts=100;//Surface temperature in degree C\n",
"Ta=20;//Temperature of air in degree C\n",
"L=3;//Length of pipe in m\n",
"\n",
"//CALCULATIONS\n",
"Tf=(Ts+Ta)/2;//Film temperature in degree C\n",
"k=0.02896;//Thermal conductivity in W/m.K\n",
"v1=(18.97*10^-6);//Kinematic viscosity in m^2/s\n",
"b=(1/333);//Coefficient of thermal expansion in 1/K\n",
"Pr=0.696;//Prantl number\n",
"Gr=((9.81*b*L^3*(Ts-Ta))/(v1^2));//Grashof number\n",
"Ra=(Gr*Pr);//Rayleigh number\n",
"Nu=(0.1*Ra^(1/3));//Nussults number\n",
"h=(Nu*k)/L;//Heat transfer coefficient in W/m^2.K\n",
"Q=(h*3.14*D*(Ts-Ta));//Rate of heat loss per meter length of pipe in W/m\n",
"\n",
"//OUTPUT\n",
"mprintf('Rate of heat loss per meter length of pipe is %3.2f W/m',Q)\n",
"\n",
"//=================================END OF PROGRAM=============================="
   ]
   }
,
{
		   "cell_type": "markdown",
		   "metadata": {},
		   "source": [
			"## Example 8.9: Rate_of_heat_loss.sce"
		   ]
		  },
  {
"cell_type": "code",
	   "execution_count": null,
	   "metadata": {
	    "collapsed": true
	   },
	   "outputs": [],
"source": [
"//Chapter-8, Example 8.9, Page 350\n",
"//=============================================================================\n",
"clc\n",
"clear\n",
"\n",
"//INPUT DATA\n",
"D=0.1;//Outer diamter of the pipe in m\n",
"Ta=30;//Ambient temperature of air degree C\n",
"Ts=170;//Surface temperature in degree C\n",
"e=0.9;//Emissivity \n",
"\n",
"//CALCULATIONS\n",
"Tb=(Ts+Ta)/2;//Film temperature in degree C\n",
"k=0.0321;//Thermal conductivity in W/m.K\n",
"v1=(23.13*10^-6);//Kinematic viscosity in m^2/s\n",
"b=0.00268;//Coefficient of thermal expansion in 1/K\n",
"Pr=0.688;//Prantl number\n",
"Ra=((9.81*b*D^3*(Ts-Ta)*Pr)/(v1^2));//Rayleigh number\n",
"Nu=(0.6+((0.387*Ra^(1/6))/(1+(0.559/Pr)^(9/16))^(8/27)))^2;//Nussults number\n",
"h=(Nu*k)/D;//Heat transfer coefficient in W/m^2.K\n",
"Q=(h*3.1415*D*(Ts-Ta))+(e*3.1415*D*5.67*10^-8*((Ts+273)^4-(Ta+273)^4));//Total heat loss per meter length of pipe in m\n",
"\n",
"//OUTPUT\n",
"mprintf('Total heat loss per meter length of pipe is %3.2f W/m',Q)\n",
"\n",
"//=================================END OF PROGRAM=============================="
   ]
   }
],
"metadata": {
		  "kernelspec": {
		   "display_name": "Scilab",
		   "language": "scilab",
		   "name": "scilab"
		  },
		  "language_info": {
		   "file_extension": ".sce",
		   "help_links": [
			{
			 "text": "MetaKernel Magics",
			 "url": "https://github.com/calysto/metakernel/blob/master/metakernel/magics/README.md"
			}
		   ],
		   "mimetype": "text/x-octave",
		   "name": "scilab",
		   "version": "0.7.1"
		  }
		 },
		 "nbformat": 4,
		 "nbformat_minor": 0
}
