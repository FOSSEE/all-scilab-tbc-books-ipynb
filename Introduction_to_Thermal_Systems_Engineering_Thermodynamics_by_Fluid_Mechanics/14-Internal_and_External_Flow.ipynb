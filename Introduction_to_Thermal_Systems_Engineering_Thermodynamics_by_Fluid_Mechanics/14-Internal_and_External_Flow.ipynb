{
"cells": [
 {
		   "cell_type": "markdown",
	   "metadata": {},
	   "source": [
       "# Chapter 14: Internal and External Flow"
	   ]
	},
{
		   "cell_type": "markdown",
		   "metadata": {},
		   "source": [
			"## Example 14.1: 1.sce"
		   ]
		  },
  {
"cell_type": "code",
	   "execution_count": null,
	   "metadata": {
	    "collapsed": true
	   },
	   "outputs": [],
"source": [
"//example 14.1\n",
"clc; funcprot(0);\n",
"// Initialization of Variable\n",
"rho=1.23;//density\n",
"V=50;//velocity\n",
"D=0.004;//diameter\n",
"l=0.1;\n",
"mu=1.79e-5;\n",
"Re=rho*V*D/mu;\n",
"disp(Re,'reynolds no');\n",
"f=0.028;//friction factor from Moody's chart\n",
"delP=f*l/D*.5*rho*V^2/1000.0;\n",
"disp(delP,'pressure diffference in kPa');\n",
"clear()"
   ]
   }
,
{
		   "cell_type": "markdown",
		   "metadata": {},
		   "source": [
			"## Example 14.2: 2.sce"
		   ]
		  },
  {
"cell_type": "code",
	   "execution_count": null,
	   "metadata": {
	    "collapsed": true
	   },
	   "outputs": [],
"source": [
"//example 14.2\n",
"clc; funcprot(0);\n",
"// Initialization of Variable\n",
"rho=1.94;\n",
"V=8.7;\n",
"D=0.0625;\n",
"g=32.2;\n",
"V2=19.6;\n",
"l=60;\n",
"z2=20;\n",
"mu=2.34e-5;\n",
"Kl=2;//constant\n",
"Re=rho*V*D/mu;\n",
"disp(Re,'reynolds no');\n",
"f=0.0215;//friction factor from Moody's chart\n",
"P1=rho*g*z2+1/2*rho*(V2^2-V^2)+rho*f*l/D*V^2/2;\n",
"P1=P1/144+rho*V^2/2*(10+4*1.5+Kl)/144;;\n",
"disp(P1,'entire pressure drop in psi');\n",
"clear()"
   ]
   }
,
{
		   "cell_type": "markdown",
		   "metadata": {},
		   "source": [
			"## Example 14.3: 3.sce"
		   ]
		  },
  {
"cell_type": "code",
	   "execution_count": null,
	   "metadata": {
	    "collapsed": true
	   },
	   "outputs": [],
"source": [
"//example 14.3\n",
"clc; funcprot(0);\n",
"// Initialization of Variable\n",
"rho=1.67;\n",
"V=9.31;//velocity\n",
"D=4;\n",
"mu=8.0e-5;\n",
"g=32.2;\n",
"l=799;\n",
"Q=117;\n",
"f=0.0125;//friction factor\n",
"Re=rho*V*D/mu;\n",
"disp(Re,'reynolds no');\n",
"hp=f*l/D*V^2/2/g*5280;\n",
"disp(hp,'pump head in ft of H20');\n",
"hp=round(hp/100)*100\n",
"W=rho*g*Q*hp/550;\n",
"disp(W,'power required in hp');\n",
"clear()"
   ]
   }
,
{
		   "cell_type": "markdown",
		   "metadata": {},
		   "source": [
			"## Example 14.7: 7.sce"
		   ]
		  },
  {
"cell_type": "code",
	   "execution_count": null,
	   "metadata": {
	    "collapsed": true
	   },
	   "outputs": [],
"source": [
"//example 14.7\n",
"clc; funcprot(0);\n",
"// Initialization of Variable\n",
"rho=0.00238;\n",
"U=80.7;//velocity\n",
"l=8;\n",
"mu=3.74e-7;\n",
"Cd=0.0066;\n",
"d=4;\n",
"Re=rho*U*l/mu;\n",
"disp(Re,'reynolds no');\n",
"f=0.0066;//friction factor from Moody's chart\n",
"D=1/2*rho*U^2*l*d*f;\n",
"disp(D,'drag force in lbf');\n",
"clear()"
   ]
   }
,
{
		   "cell_type": "markdown",
		   "metadata": {},
		   "source": [
			"## Example 14.8: 8.sce"
		   ]
		  },
  {
"cell_type": "code",
	   "execution_count": null,
	   "metadata": {
	    "collapsed": true
	   },
	   "outputs": [],
"source": [
"//example 14.8\n",
"clc; funcprot(0);\n",
"// Initialization of Variable\n",
"rho=0.00238;\n",
"U=93.5;//velocity\n",
"Cd1=0.55;//coeff of drag\n",
"A1=5.2*5.1;\n",
"D1940=1/2*rho*Cd1*A1*U^2;\n",
"disp(D1940,'drag force in lbf');\n",
"A2=5.2*4.3;\n",
"Cd2=0.3;\n",
"D2003=1/2*rho*Cd2*A2*U^2;\n",
"disp(D2003,'drag force in lbf');\n",
"W1940=D1940*U/550;\n",
"disp(W1940,'power required to overcome drag force in hp');\n",
"W2003=D2003*U/550;\n",
"disp(W2003,'power required to overcome drag force in hp');\n",
"clear()"
   ]
   }
,
{
		   "cell_type": "markdown",
		   "metadata": {},
		   "source": [
			"## Example 14.9: 9.sce"
		   ]
		  },
  {
"cell_type": "code",
	   "execution_count": null,
	   "metadata": {
	    "collapsed": true
	   },
	   "outputs": [],
"source": [
"//example 14.9\n",
"clc; funcprot(0);\n",
"// Initialization of Variable\n",
"A=96*7.5;\n",
"W=210;\n",
"rho=2.38e-3;\n",
"U=15;\n",
"Cl=2*W/rho/U^2/A;\n",
"disp(Cl,'coeff. of lift ');\n",
"clear()"
   ]
   }
],
"metadata": {
		  "kernelspec": {
		   "display_name": "Scilab",
		   "language": "scilab",
		   "name": "scilab"
		  },
		  "language_info": {
		   "file_extension": ".sce",
		   "help_links": [
			{
			 "text": "MetaKernel Magics",
			 "url": "https://github.com/calysto/metakernel/blob/master/metakernel/magics/README.md"
			}
		   ],
		   "mimetype": "text/x-octave",
		   "name": "scilab",
		   "version": "0.7.1"
		  }
		 },
		 "nbformat": 4,
		 "nbformat_minor": 0
}
