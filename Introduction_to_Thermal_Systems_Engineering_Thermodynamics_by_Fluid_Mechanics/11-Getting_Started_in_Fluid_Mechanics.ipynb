{
"cells": [
 {
		   "cell_type": "markdown",
	   "metadata": {},
	   "source": [
       "# Chapter 11: Getting Started in Fluid Mechanics"
	   ]
	},
{
		   "cell_type": "markdown",
		   "metadata": {},
		   "source": [
			"## Example 11.1: 1.sce"
		   ]
		  },
  {
"cell_type": "code",
	   "execution_count": null,
	   "metadata": {
	    "collapsed": true
	   },
	   "outputs": [],
"source": [
"//example 11.1\n",
"clc; funcprot(0);\n",
"// Initialization of Variable\n",
"gas=42.5;//gamma of gasoline\n",
"hgas=17.0;//height of gasoline\n",
"hw=3.0;//height of water\n",
"wat=62.4;//gamma of water\n",
"k=gas*hgas/144.0;//p1-p0\n",
"disp(k,'pressure difference in lbf/in^2');\n",
"disp(k*144/wat,'pressure difference in feet of water');\n",
"k1=wat*hw/144.0+k;//p2-p0\n",
"disp(k1*144,'pressure difference in lbf/ft^2');\n",
"disp(k1,'pressure difference in lbf/in^2');\n",
"disp(k1*144/wat,'pressure difference in feet of water');\n",
"clear()"
   ]
   }
,
{
		   "cell_type": "markdown",
		   "metadata": {},
		   "source": [
			"## Example 11.2: 2.sce"
		   ]
		  },
  {
"cell_type": "code",
	   "execution_count": null,
	   "metadata": {
	    "collapsed": true
	   },
	   "outputs": [],
"source": [
"//example 11.2\n",
"clc; funcprot(0);\n",
"// Initialization of Variable\n",
"SGoil=0.9;//specific gravity of oil\n",
"wat=62.4;//gamma of water\n",
"SGhg=13.6;//specific gravity of mercury\n",
"h1=36.0/12;\n",
"h2=6.0/12;\n",
"h3=9.0/12;\n",
"pair=-SGoil*wat*(h1+h2)+SGhg*wat*h3;\n",
"pgage=pair/144.0;\n",
"disp(pgage,'Gauge pressure in lbf/in^2(psi)');\n",
"clear()"
   ]
   }
,
{
		   "cell_type": "markdown",
		   "metadata": {},
		   "source": [
			"## Example 11.3: 3.sce"
		   ]
		  },
  {
"cell_type": "code",
	   "execution_count": null,
	   "metadata": {
	    "collapsed": true
	   },
	   "outputs": [],
"source": [
"//example 11.3\n",
"clc; funcprot(0);\n",
"// Initialization of Variable\n",
"b=2.0;\n",
"a=4.0;\n",
"gamm=9.8*10^3;//gamma\n",
"pi=3.14;\n",
"Fr=integrate('gamm*sin(pi*60/180)*b*y','y',6,10);\n",
"yr=gamm*sin(pi*60/180)/Fr*b*integrate('y^2','y',6,10);\n",
"disp(yr,'location of resultant weight in m');\n",
"//alternatively\n",
"yr1=b*a^3/12/b/a/8+8;\n",
"disp(yr1,'location of resultant weight in m');\n",
"clear()"
   ]
   }
],
"metadata": {
		  "kernelspec": {
		   "display_name": "Scilab",
		   "language": "scilab",
		   "name": "scilab"
		  },
		  "language_info": {
		   "file_extension": ".sce",
		   "help_links": [
			{
			 "text": "MetaKernel Magics",
			 "url": "https://github.com/calysto/metakernel/blob/master/metakernel/magics/README.md"
			}
		   ],
		   "mimetype": "text/x-octave",
		   "name": "scilab",
		   "version": "0.7.1"
		  }
		 },
		 "nbformat": 4,
		 "nbformat_minor": 0
}
