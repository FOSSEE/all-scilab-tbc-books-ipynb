{
"cells": [
 {
		   "cell_type": "markdown",
	   "metadata": {},
	   "source": [
       "# Chapter 3: Using Energy and First Law of thermodynamics"
	   ]
	},
{
		   "cell_type": "markdown",
		   "metadata": {},
		   "source": [
			"## Example 3.1: 1.sce"
		   ]
		  },
  {
"cell_type": "code",
	   "execution_count": null,
	   "metadata": {
	    "collapsed": true
	   },
	   "outputs": [],
"source": [
"\n",
"//example 3.1 \n",
"clc; funcprot(0);\n",
"// Initialization of Variable\n",
"V1=0.1;\n",
"V2=0.2;\n",
"P1=3.0;//pressure\n",
"n1=1.5;\n",
"n2=1.0;\n",
"n3=0.0;\n",
"P2=P1*(V1/V2)^n1;\n",
"W=(P2*V2-P1*V1)/(1-n1);\n",
"disp(W*100,'work done in kj');\n",
"W2=P1*V1*log(V2/V1);\n",
"disp(W2*100,'work done in kj');\n",
"W3=P1*(V2-V1);\n",
"disp(W3*100,'work done in kj');\n",
"clear()"
   ]
   }
,
{
		   "cell_type": "markdown",
		   "metadata": {},
		   "source": [
			"## Example 3.2: 2.sce"
		   ]
		  },
  {
"cell_type": "code",
	   "execution_count": null,
	   "metadata": {
	    "collapsed": true
	   },
	   "outputs": [],
"source": [
"\n",
"\n",
"//example 3.2\n",
"clc; funcprot(0);\n",
"// Initialization of Variable\n",
"k=-4.6;//u2-u1;\n",
"W=17.6;//work done\n",
"m=4;//mass\n",
"Q=W+m*k;\n",
"disp(Q,'Energy transferred in kJ');\n",
"clear()"
   ]
   }
,
{
		   "cell_type": "markdown",
		   "metadata": {},
		   "source": [
			"## Example 3.3: 3.sce"
		   ]
		  },
  {
"cell_type": "code",
	   "execution_count": null,
	   "metadata": {
	    "collapsed": true
	   },
	   "outputs": [],
"source": [
"//example 3.3\n",
"clc; funcprot(0);\n",
"// Initialization of Variable\n",
"patm=14.7;//in lbf/in^2\n",
"mpiston=100;\n",
"g=32.2;\n",
"A=1;//area\n",
"mair=0.6;\n",
"delu=18;\n",
"k=1.6;//V2-V1;\n",
"P=mpiston*g/A/32.2/144+14.7;\n",
"W=P*k*144/778;\n",
"Q=W+mair*delu;\n",
"disp(Q,'Heat transferred in Btu')\n",
"W2=patm*k*144/778;\n",
"disp(W2,'Work done in Btu');\n",
"delz=k/A;\n",
"PE=mpiston*g*delz/32.2/778;\n",
"Q2=W2+PE+mair*delu;\n",
"disp(Q2,'Heat transferred in Btu')\n",
"clear()"
   ]
   }
,
{
		   "cell_type": "markdown",
		   "metadata": {},
		   "source": [
			"## Example 3.4: 4.sce"
		   ]
		  },
  {
"cell_type": "code",
	   "execution_count": null,
	   "metadata": {
	    "collapsed": true
	   },
	   "outputs": [],
"source": [
"\n",
"//example 3.4\n",
"clc; funcprot(0);\n",
"// Initialization of Variable\n",
"h=-0.171;\n",
"A=1;\n",
"Tb=300;//temperature\n",
"Tf=293;//temperature\n",
"W1dot=-60.0;\n",
"Qdot=h*A*(Tb-Tf);\n",
"disp(Qdot,'the rate of heat transfer in kW');\n",
"W2dot=Qdot-W1dot;\n",
"disp(W2dot,'the rate of energy transfer in kW');\n",
"clear()"
   ]
   }
,
{
		   "cell_type": "markdown",
		   "metadata": {},
		   "source": [
			"## Example 3.5: 5.sce"
		   ]
		  },
  {
"cell_type": "code",
	   "execution_count": null,
	   "metadata": {
	    "collapsed": true
	   },
	   "outputs": [],
"source": [
"//example 3.5\n",
"clc; funcprot(0);\n",
"// Initialization of Variable\n",
"Wdot=-0.225;\n",
"A=25.0e-6;\n",
"h=150;\n",
"Tf=293;//temperature\n",
"Tb=-Wdot/h/A+Tf;\n",
"disp(Tb,'temperature in kelvin (80 C)');\n",
"clear()"
   ]
   }
,
{
		   "cell_type": "markdown",
		   "metadata": {},
		   "source": [
			"## Example 3.6: 6.sce"
		   ]
		  },
  {
"cell_type": "code",
	   "execution_count": null,
	   "metadata": {
	    "collapsed": true
	   },
	   "outputs": [],
"source": [
"//example 3.6\n",
"clc; funcprot(0);\n",
"// Initialization of Variable\n",
"clf()\n",
"t=linspace(0,100,11);\n",
"tau=18;\n",
"omega=100;\n",
"Wdotelec=-2.0;\n",
"Wdotshaft=tau*omega/1000;\n",
"Wdot=Wdotelec+Wdotshaft;\n",
"Q=0.2*2.71^-(0.05*t);\n",
"delE=4*(1-2.71^-(0.05*t));\n",
"plot(t,Q);\n",
"plot(t,delE,'r');\n",
"xtitle('Q or delE vs t','time','Q(blue)or delE(red)');\n",
"clear()"
   ]
   }
],
"metadata": {
		  "kernelspec": {
		   "display_name": "Scilab",
		   "language": "scilab",
		   "name": "scilab"
		  },
		  "language_info": {
		   "file_extension": ".sce",
		   "help_links": [
			{
			 "text": "MetaKernel Magics",
			 "url": "https://github.com/calysto/metakernel/blob/master/metakernel/magics/README.md"
			}
		   ],
		   "mimetype": "text/x-octave",
		   "name": "scilab",
		   "version": "0.7.1"
		  }
		 },
		 "nbformat": 4,
		 "nbformat_minor": 0
}
