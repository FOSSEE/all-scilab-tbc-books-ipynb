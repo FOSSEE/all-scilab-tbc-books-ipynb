{
"cells": [
 {
		   "cell_type": "markdown",
	   "metadata": {},
	   "source": [
       "# Chapter 17: Heat transfer by Convection"
	   ]
	},
{
		   "cell_type": "markdown",
		   "metadata": {},
		   "source": [
			"## Example 17.10: 10.sce"
		   ]
		  },
  {
"cell_type": "code",
	   "execution_count": null,
	   "metadata": {
	    "collapsed": true
	   },
	   "outputs": [],
"source": [
"//example 17.10\n",
"clc; funcprot(0);\n",
"// Initialization of Variable\n",
"m=2;//kg/s\n",
"D=0.04;//m\n",
"mu=695*10^-6;//Ns/m^2;\n",
"pi=3.14;\n",
"Nu=396;//nusselt number\n",
"Re=4*m/pi/D/mu;\n",
"disp(Re,'reynolds number');\n",
"h=Nu*0.628/D;\n",
"Tmo=95-(95-25)*exp(-pi*D*h/m/4178*4);\n",
"disp(Tmo,'temperature in degree c');\n",
"q=m*4176*(Tmo-25);\n",
"disp(q/1000,'rate of heat transfer in kW');\n",
"Nu1=0.027*Re^0.8*4.62^0.33;\n",
"disp(Nu1,'Nusselt number');\n",
"h1=Nu1*0628/D;\n",
"disp(h1/1000,'coefficient of heat transfer in W/m-K');\n",
"clear()\n",
"clear()"
   ]
   }
,
{
		   "cell_type": "markdown",
		   "metadata": {},
		   "source": [
			"## Example 17.11: 11.sce"
		   ]
		  },
  {
"cell_type": "code",
	   "execution_count": null,
	   "metadata": {
	    "collapsed": true
	   },
	   "outputs": [],
"source": [
"//example 17.11\n",
"clc; funcprot(0);\n",
"// Initialization of Variable\n",
"k=33.8e-3;\n",
"L=0.71;\n",
"A=1.02*0.71;//area\n",
"Ts=505;//temperature\n",
"Tsur=296//temperature\n",
"Nu=147;\n",
"h=Nu*k/L;\n",
"q=h*A*(Ts-Tsur);\n",
"disp(q,'heat transfer by convection in W');\n",
"qrad=A*5.67e-8*(Ts^4-Tsur^4);\n",
"disp(qrad,'heat transfer by radiation in W');\n",
"hrad=5.67e-8*(Ts+Tsur)*(Ts^2+Tsur^2);\n",
"disp(hrad,'linearized radiation coffecient in W/m^2-K');\n",
"clear()"
   ]
   }
,
{
		   "cell_type": "markdown",
		   "metadata": {},
		   "source": [
			"## Example 17.1: 1.sce"
		   ]
		  },
  {
"cell_type": "code",
	   "execution_count": null,
	   "metadata": {
	    "collapsed": true
	   },
	   "outputs": [],
"source": [
"//example 17.1\n",
"clc; funcprot(0);\n",
"// Initialization of Variable\n",
"k=integrate('x^-0.1','x',0,1);\n",
"disp(k,'ratio of average convection coefficient');\n",
"clear()"
   ]
   }
,
{
		   "cell_type": "markdown",
		   "metadata": {},
		   "source": [
			"## Example 17.12: 12.sce"
		   ]
		  },
  {
"cell_type": "code",
	   "execution_count": null,
	   "metadata": {
	    "collapsed": true
	   },
	   "outputs": [],
"source": [
"//example 17.12\n",
"clc; funcprot(0);\n",
"// Initialization of Variable\n",
"Nu=65.8;\n",
"k=0.028;\n",
"As=1.2*1.2;//area\n",
"Ts=350;//temperature\n",
"Tsurr=300;//temperature\n",
"sigma=5.67e-8;\n",
"epsilon=0.25;//emmisivity\n",
"h=Nu*k/0.3;\n",
"Pe=h*As*(Ts-Tsurr)+epsilon*sigma*As*(Ts^4-Tsurr^4);\n",
"disp(Pe,'allowable electrical power in W');\n",
"clear()"
   ]
   }
,
{
		   "cell_type": "markdown",
		   "metadata": {},
		   "source": [
			"## Example 17.13: 13.sce"
		   ]
		  },
  {
"cell_type": "code",
	   "execution_count": null,
	   "metadata": {
	    "collapsed": true
	   },
	   "outputs": [],
"source": [
"//example 17.13\n",
"clc; funcprot(0);\n",
"// Initialization of Variable\n",
"pi=3.14;\n",
"D=0.1;\n",
"Nu=23.3;\n",
"k=0.0313;\n",
"Ts=438;//temperature\n",
"Tsurr=296;//temperature\n",
"sigma=5.67e-8;\n",
"epsilon=0.85;//emmisivity\n",
"h=Nu*k/D;\n",
"q=h*pi*D*(Ts-Tsurr)+epsilon*sigma*pi*D*(Ts^4-Tsurr^4);\n",
"disp(q,'heat transfer rate from the pipe in W/m');\n",
"clear()\n",
""
   ]
   }
,
{
		   "cell_type": "markdown",
		   "metadata": {},
		   "source": [
			"## Example 17.14: 14.sce"
		   ]
		  },
  {
"cell_type": "code",
	   "execution_count": null,
	   "metadata": {
	    "collapsed": true
	   },
	   "outputs": [],
"source": [
"//example 17.14\n",
"clc; funcprot(0);\n",
"// Initialization of Variable\n",
"pi=3.14;\n",
"k=0.625;\n",
"D=0.025;\n",
"Nu=90;\n",
"ho=40;\n",
"q=8524;\n",
"delT=(59.8-30)/log(59.8/30);\n",
"hi=Nu*k/D;\n",
"U=1/(1/hi+1/ho);\n",
"L=q/(U*pi*D*delT);\n",
"disp(L,'length of exchanger in m');\n",
"clear()"
   ]
   }
,
{
		   "cell_type": "markdown",
		   "metadata": {},
		   "source": [
			"## Example 17.15: 15.sce"
		   ]
		  },
  {
"cell_type": "code",
	   "execution_count": null,
	   "metadata": {
	    "collapsed": true
	   },
	   "outputs": [],
"source": [
"//example 17.15\n",
"clc; funcprot(0);\n",
"// Initialization of Variable\n",
"pi=3.14;\n",
"q=7.317e5;\n",
"c=2350;\n",
"Thi=160;\n",
"Thd=100;\n",
"delT=(75-85)/log(75/85);\n",
"mh=q/c/(Thi-Thd);\n",
"disp(mh,'mass flow rate of oil in kg/s');\n",
"ho=400;\n",
"k=0.643;\n",
"D=0.025;//diameter\n",
"Nu=119;\n",
"hi=k/D*Nu;\n",
"U=1/(1/hi+1/ho);\n",
"L=q/(U*pi*D*delT*10*0.87);\n",
"disp(L,'length of exchanger in m');\n",
"clear()"
   ]
   }
,
{
		   "cell_type": "markdown",
		   "metadata": {},
		   "source": [
			"## Example 17.2: 2.sce"
		   ]
		  },
  {
"cell_type": "code",
	   "execution_count": null,
	   "metadata": {
	    "collapsed": true
	   },
	   "outputs": [],
"source": [
"//example 17.2\n",
"clc; funcprot(0);\n",
"// Initialization of Variable\n",
"U=10;//m/s\n",
"L=0.5;\n",
"nu=30.84e-6;\n",
"Pr=0.687;//prandtl number\n",
"Re=U*L/nu;\n",
"disp(Re,'reynolds number');\n",
"Nul=0.664*Re^0.5*Pr^0.33;\n",
"h=Nul*0.0364/L;\n",
"q=h*L*(300-27);\n",
"disp(q,'colling rate in W/m');\n",
"//if there is turbulence\n",
"Nul=0.037*Re^0.8*Pr^0.33;\n",
"h1=Nul*0.0364/L;\n",
"q1=h1*L*(300-27);\n",
"disp(q1,'colling rate in W/m in turbulence');\n",
"clear()"
   ]
   }
,
{
		   "cell_type": "markdown",
		   "metadata": {},
		   "source": [
			"## Example 17.3: 3.sce"
		   ]
		  },
  {
"cell_type": "code",
	   "execution_count": null,
	   "metadata": {
	    "collapsed": true
	   },
	   "outputs": [],
"source": [
"//example 17.3\n",
"clc; funcprot(0);\n",
"// Initialization of Variable\n",
"u=60;//m/s\n",
"Nu5=546;\n",
"nu=26.41e-6;\n",
"L4=0.2;\n",
"L5=0.25;\n",
"Pr=0.69;\n",
"Re4=u*L4/nu;\n",
"Re5=u*L5/nu;\n",
"Nu4=0.664*Re4^0.5*Pr^0.33;\n",
"h14=Nu4*0.0338/L4;\n",
"Nu4=0.664*Re5^0.5*Pr^0.33;\n",
"h15=Nu5*0.0338/L5;\n",
"qconv=(h15*L5-h14*L4)*(230-25);\n",
"disp(qconv,'heat transfer rate in W');\n",
"clear()"
   ]
   }
,
{
		   "cell_type": "markdown",
		   "metadata": {},
		   "source": [
			"## Example 17.4: 4.sce"
		   ]
		  },
  {
"cell_type": "code",
	   "execution_count": null,
	   "metadata": {
	    "collapsed": true
	   },
	   "outputs": [],
"source": [
"//example 17.4\n",
"clc; funcprot(0);\n",
"// Initialization of Variable\n",
"pi=3.14;\n",
"Ts=128.4;\n",
"Tinfinity=26.2;\n",
"k=0.03;\n",
"D=0.0127;//m\n",
"Re=6071;//reynold's no\n",
"Pr=0.7;\n",
"qconv=46;\n",
"A=pi*0.0127*0.094;\n",
"h=0.85*qconv/A/(Ts-Tinfinity);\n",
"disp(h,'heat transfer coefficient in W/m^2-K');\n",
"Nu=0.3+0.62*Re^0.5*Pr^0.33/(1+0.4^0.66*Pr^0.66)^0.25*(1+(Re/282000)^0.625)^0.8;\n",
"hbar=Nu*k/D;\n",
"disp(Nu,'Nusselt no is')\n",
"disp(hbar,'heat transfer coefficient in W/m^2-K');\n",
"//using Hilpert correlation\n",
"Nu1=0.193*Re^0.618*Pr^0.333;\n",
"disp(Nu1,'Nusselt no is');\n",
"hbar1=Nu1*k/D;\n",
"disp(hbar1,'heat transfer coefficient in W/m^2-K');\n",
"clear()"
   ]
   }
,
{
		   "cell_type": "markdown",
		   "metadata": {},
		   "source": [
			"## Example 17.5: 5.sce"
		   ]
		  },
  {
"cell_type": "code",
	   "execution_count": null,
	   "metadata": {
	    "collapsed": true
	   },
	   "outputs": [],
"source": [
"//example 17.5\n",
"clc; funcprot(0);\n",
"// Initialization of Variable\n",
"Ti=75;\n",
"k=0.02588;\n",
"D=0.01;\n",
"Nu=47.4\n",
"rho=8933;//density\n",
"c=387;\n",
"D=0.01;\n",
"Tinfinity=23;\n",
"T=35;\n",
"h=Nu*k/D;\n",
"t=rho*c*D/6/h*log((Ti-Tinfinity)/(T-Tinfinity));\n",
"disp(t,'cooling time required in s');\n",
"Bi=h*0.005/3/399;\n",
"disp(Bi,'Biots number')\n",
"clear()"
   ]
   }
,
{
		   "cell_type": "markdown",
		   "metadata": {},
		   "source": [
			"## Example 17.6: 6.sce"
		   ]
		  },
  {
"cell_type": "code",
	   "execution_count": null,
	   "metadata": {
	    "collapsed": true
	   },
	   "outputs": [],
"source": [
"//example 17.6\n",
"clc; funcprot(0);\n",
"// Initialization of Variable\n",
"m=0.1;\n",
"cp=4179;//J/kg/K\n",
"q=10^6;//W/m^3\n",
"Do=0.04;\n",
"Di=0.02;\n",
"pi=3.14;\n",
"L=4*m*cp/(Do^2-Di^2)/pi/q*(60-20);\n",
"disp(L,'tube length in m');\n",
"Re=4*m/pi/Di/6.57e-4;\n",
"disp(Re,'reynolds number');\n",
"qs=q*(Do^2-Di^2)/4/Di;\n",
"ho=qs/(70-60);\n",
"disp(ho,'local heat coefficient in W/m^2-K');\n",
"clear()"
   ]
   }
,
{
		   "cell_type": "markdown",
		   "metadata": {},
		   "source": [
			"## Example 17.7: 7.sce"
		   ]
		  },
  {
"cell_type": "code",
	   "execution_count": null,
	   "metadata": {
	    "collapsed": true
	   },
	   "outputs": [],
"source": [
"//example 17.7\n",
"clc; funcprot(0);\n",
"// Initialization of Variable\n",
"m=0.25;//kg/s\n",
"cp=4178;//J/kg-K\n",
"Tmo=57;\n",
"Tmi=15;\n",
"pi=3.14;\n",
"D=0.05;//m\n",
"L=6;//m\n",
"delT=(-Tmo+Tmi)/log((100-Tmo)/(100-Tmi));\n",
"h=m*cp/pi/D/L*(Tmo-Tmi)/delT;\n",
"disp(h,'average convection coefficient in W/m^2-K');\n",
"clear()"
   ]
   }
,
{
		   "cell_type": "markdown",
		   "metadata": {},
		   "source": [
			"## Example 17.9: 9.sce"
		   ]
		  },
  {
"cell_type": "code",
	   "execution_count": null,
	   "metadata": {
	    "collapsed": true
	   },
	   "outputs": [],
"source": [
"//example 17.9\n",
"clc; funcprot(0);\n",
"// Initialization of Variable\n",
"pi=3.14;\n",
"qs=2000;\n",
"cp=4181;\n",
"m=0.01;\n",
"D=0.06;\n",
"k=0.67;\n",
"Nu=4.36;\n",
"L=m*cp/pi/0.06/qs*(80-20);\n",
"disp(L,'tube length in m');\n",
"h=Nu*k/D;\n",
"Ts=qs/h+80;\n",
"disp(Ts,'surface temperature in degreeC');\n",
"clear()"
   ]
   }
],
"metadata": {
		  "kernelspec": {
		   "display_name": "Scilab",
		   "language": "scilab",
		   "name": "scilab"
		  },
		  "language_info": {
		   "file_extension": ".sce",
		   "help_links": [
			{
			 "text": "MetaKernel Magics",
			 "url": "https://github.com/calysto/metakernel/blob/master/metakernel/magics/README.md"
			}
		   ],
		   "mimetype": "text/x-octave",
		   "name": "scilab",
		   "version": "0.7.1"
		  }
		 },
		 "nbformat": 4,
		 "nbformat_minor": 0
}
