{
"cells": [
 {
		   "cell_type": "markdown",
	   "metadata": {},
	   "source": [
       "# Chapter 5: Control Volume Analysis Using Energy"
	   ]
	},
{
		   "cell_type": "markdown",
		   "metadata": {},
		   "source": [
			"## Example 5.1: 1.sce"
		   ]
		  },
  {
"cell_type": "code",
	   "execution_count": null,
	   "metadata": {
	    "collapsed": true
	   },
	   "outputs": [],
"source": [
"//example 5.1\n",
"clc; funcprot(0);\n",
"// Initialization of Variable\n",
"v3=1.108e-3;\n",
"m1dot=40;\n",
"A2=25.0e-4;\n",
"v2=1.0078e-3;\n",
"m3dot=0.06/v3;\n",
"m2dot=m3dot-m1dot;\n",
"disp(m2dot,'mass flow rate in kg/s');\n",
"V2=m2dot*v2/A2;\n",
"disp(V2,'velocity in m/s');\n",
"clear()"
   ]
   }
,
{
		   "cell_type": "markdown",
		   "metadata": {},
		   "source": [
			"## Example 5.3: 3.sce"
		   ]
		  },
  {
"cell_type": "code",
	   "execution_count": null,
	   "metadata": {
	    "collapsed": true
	   },
	   "outputs": [],
"source": [
"//example 5.3\n",
"clc; funcprot(0);\n",
"// Initialization of Variable\n",
"h1=3213.6;//kJ/kg\n",
"V1=10.0;\n",
"V2=665.0;\n",
"mdot=2.0;\n",
"h2=h1+(V1^2/2-V2^2/2)/1000;\n",
"//using table with given h2 values\n",
"v2=0.1627;//specific volume\n",
"V2=665;\n",
"A2=mdot*v2/V2;\n",
"disp(A2,'Area in m^2');\n",
"clear()"
   ]
   }
,
{
		   "cell_type": "markdown",
		   "metadata": {},
		   "source": [
			"## Example 5.4: 4.sce"
		   ]
		  },
  {
"cell_type": "code",
	   "execution_count": null,
	   "metadata": {
	    "collapsed": true
	   },
	   "outputs": [],
"source": [
"//example 5.4\n",
"clc; funcprot(0);\n",
"// Initialization of Variable\n",
"h1=3177.2;\n",
"x2=0.9;\n",
"hf2=191.83;\n",
"mdot=4600.0;\n",
"Wcvdot=1000.0;\n",
"V2=50.0;//velocity\n",
"V1=10.0;//velocity\n",
"h2=hf2+x2*2392.8;\n",
"k1=h2-h1;\n",
"k2=(V2^2/2-V1^2/2)/1000.0;\n",
"Qcvdot=Wcvdot+mdot*(k1+k2)/3600;\n",
"disp(Qcvdot,'specific kinetic energy difference in kW');\n",
"clear()"
   ]
   }
,
{
		   "cell_type": "markdown",
		   "metadata": {},
		   "source": [
			"## Example 5.5: 5.sce"
		   ]
		  },
  {
"cell_type": "code",
	   "execution_count": null,
	   "metadata": {
	    "collapsed": true
	   },
	   "outputs": [],
"source": [
"//example 5.5\n",
"clc; funcprot(0);\n",
"// Initialization of Variable\n",
"A1=0.1;\n",
"V1=6.0;\n",
"V2=2.0;\n",
"delh=290.16-451.8;\n",
"p1=10^5;\n",
"Rbar=8314.0;\n",
"Qcvdot=-180.0/60;\n",
"M=28.97;//molecular mass\n",
"T1=290.0;\n",
"mdot=A1*V1*p1*M/Rbar/T1;\n",
"Wcvdot=Qcvdot+mdot*(delh+(V1^2/2-V2^2/2)/1000);\n",
"disp(Wcvdot,'heat transfer per unit time in kW')\n",
"clear()"
   ]
   }
,
{
		   "cell_type": "markdown",
		   "metadata": {},
		   "source": [
			"## Example 5.7: 7.sce"
		   ]
		  },
  {
"cell_type": "code",
	   "execution_count": null,
	   "metadata": {
	    "collapsed": true
	   },
	   "outputs": [],
"source": [
"//example 5.7\n",
"clc; funcprot(0);\n",
"// Initialization of Variable\n",
"h1=2465.1;\n",
"h2=188.45;\n",
"k=62.7;//h3-h4;\n",
"k2=(h1-h2)/k;\n",
"disp(k2,'m3dot/m1dot is');\n",
"k3=h2-h1;\n",
"disp(k3,'Qcvdot/m1dot in kJ/kg');\n",
"clear()"
   ]
   }
,
{
		   "cell_type": "markdown",
		   "metadata": {},
		   "source": [
			"## Example 5.8: 8.sce"
		   ]
		  },
  {
"cell_type": "code",
	   "execution_count": null,
	   "metadata": {
	    "collapsed": true
	   },
	   "outputs": [],
"source": [
"//example 5.8\n",
"clc; funcprot(0);\n",
"// Initialization of Variable\n",
"v1=1.3;\n",
"cp=1.005;\n",
"p1=1.01325*10^5;\n",
"T2=305;\n",
"T1=293;\n",
"pi=3.14;\n",
"Wcvdot=-98.0;\n",
"A1=1/v1*(-Wcvdot/cp/(T2-T1)/1000)*8314/28.97*T1/p1;\n",
"D1=sqroot(4*A1/pi)*100;\n",
"disp(round(D1),'minmum diameter required in cm');\n",
"clear()"
   ]
   }
,
{
		   "cell_type": "markdown",
		   "metadata": {},
		   "source": [
			"## Example 5.9: 9.sce"
		   ]
		  },
  {
"cell_type": "code",
	   "execution_count": null,
	   "metadata": {
	    "collapsed": true
	   },
	   "outputs": [],
"source": [
"//example 5.9\n",
"clc; funcprot(0);\n",
"// Initialization of Variable\n",
"hf1=394.1;\n",
"hg1=1203.9;\n",
"h2=1168.8;\n",
"x1=(h2-hf1)/(hg1-hf1);\n",
"disp(x1*100,'the quality of line in %');\n",
"clear()"
   ]
   }
],
"metadata": {
		  "kernelspec": {
		   "display_name": "Scilab",
		   "language": "scilab",
		   "name": "scilab"
		  },
		  "language_info": {
		   "file_extension": ".sce",
		   "help_links": [
			{
			 "text": "MetaKernel Magics",
			 "url": "https://github.com/calysto/metakernel/blob/master/metakernel/magics/README.md"
			}
		   ],
		   "mimetype": "text/x-octave",
		   "name": "scilab",
		   "version": "0.7.1"
		  }
		 },
		 "nbformat": 4,
		 "nbformat_minor": 0
}
