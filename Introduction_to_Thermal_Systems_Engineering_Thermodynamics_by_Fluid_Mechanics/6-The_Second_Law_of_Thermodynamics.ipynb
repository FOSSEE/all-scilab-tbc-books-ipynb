{
"cells": [
 {
		   "cell_type": "markdown",
	   "metadata": {},
	   "source": [
       "# Chapter 6: The Second Law of Thermodynamics"
	   ]
	},
{
		   "cell_type": "markdown",
		   "metadata": {},
		   "source": [
			"## Example 6.1: 1.sce"
		   ]
		  },
  {
"cell_type": "code",
	   "execution_count": null,
	   "metadata": {
	    "collapsed": true
	   },
	   "outputs": [],
"source": [
"//example 6.1\n",
"clc; funcprot(0);\n",
"// Initialization of Variable\n",
"Input=1000.0;\n",
"Tc=300.0;\n",
"Th=500.0;\n",
"Output=410.0;\n",
"neta=Output/Input*100;\n",
"nmax=(1-Tc/Th)*100;\n",
"disp(neta,'efficiency in %');\n",
"disp(nmax,'maximum efficiency in %');\n",
"disp('the system cannot exist');\n",
"clear()"
   ]
   }
,
{
		   "cell_type": "markdown",
		   "metadata": {},
		   "source": [
			"## Example 6.2: 2.sce"
		   ]
		  },
  {
"cell_type": "code",
	   "execution_count": null,
	   "metadata": {
	    "collapsed": true
	   },
	   "outputs": [],
"source": [
"//example 6.2\n",
"clc; funcprot(0);\n",
"// Initialization of Variable\n",
"Qcdot=8000;\n",
"Wcycledot=3200.0;\n",
"Tc=268.0;\n",
"Th=295.0;\n",
"Beta=Qcdot/Wcycledot;\n",
"disp(Beta,'coeff. of performance');\n",
"Betamax=Tc/(Th-Tc);\n",
"disp(Betamax,'maximum coeff. of performance');\n",
"clear()"
   ]
   }
,
{
		   "cell_type": "markdown",
		   "metadata": {},
		   "source": [
			"## Example 6.3: 3.sce"
		   ]
		  },
  {
"cell_type": "code",
	   "execution_count": null,
	   "metadata": {
	    "collapsed": true
	   },
	   "outputs": [],
"source": [
"//example 6.3\n",
"clc; funcprot(0);\n",
"// Initialization of Variable\n",
"Tc=492;\n",
"Th=530;//temperature\n",
"Qh=6e5;\n",
"Wcycle=(1-Tc/Th)*Qh;\n",
"disp(Wcycle,'Minimum Work input theoritical in Btu/day');\n",
"MTC=Wcycle/3413*0.08;\n",
"disp(MTC,'Minimum cost theoritical in $/day');\n",
"clear()"
   ]
   }
],
"metadata": {
		  "kernelspec": {
		   "display_name": "Scilab",
		   "language": "scilab",
		   "name": "scilab"
		  },
		  "language_info": {
		   "file_extension": ".sce",
		   "help_links": [
			{
			 "text": "MetaKernel Magics",
			 "url": "https://github.com/calysto/metakernel/blob/master/metakernel/magics/README.md"
			}
		   ],
		   "mimetype": "text/x-octave",
		   "name": "scilab",
		   "version": "0.7.1"
		  }
		 },
		 "nbformat": 4,
		 "nbformat_minor": 0
}
