{
"cells": [
 {
		   "cell_type": "markdown",
	   "metadata": {},
	   "source": [
       "# Chapter 16: Heat Transfer by Conduction"
	   ]
	},
{
		   "cell_type": "markdown",
		   "metadata": {},
		   "source": [
			"## Example 16.10: 10.sce"
		   ]
		  },
  {
"cell_type": "code",
	   "execution_count": null,
	   "metadata": {
	    "collapsed": true
	   },
	   "outputs": [],
"source": [
"//example 16.10\n",
"clc; funcprot(0);\n",
"// Initialization of Variable\n",
"h=100;//W/m^2\n",
"L=0.025;\n",
"c=800;\n",
"rho=2325;//density\n",
"k=1.0;\n",
"Tinfinity=175;\n",
"Ti=25;\n",
"alpha=5.38e-7;\n",
"t=60*10;\n",
"theta=0.615;\n",
"Bi=h*L/k;\n",
"disp(Bi,'Biot number is');\n",
"Fo=alpha*t/L^2;\n",
"disp(Fo,'Fourier number is');\n",
"T10=Tinfinity+theta*(Ti-Tinfinity);\n",
"disp(T10,'midplane temperature after 10 min degreeC');\n",
"tstar=theta*cos(1.1347);\n",
"Tl10=Tinfinity+tstar*(Ti-Tinfinity);\n",
"disp(T10,'msurface temperature after 10 min degreeC');\n",
"ql=h*(Tl10-Tinfinity);\n",
"disp(ql,'heat transfer in W/m^2');\n",
"Q=rho*c*0.509*L*(Ti-Tinfinity);\n",
"disp(Q,'Energy per unit surface in J/m^2')\n",
"clear()"
   ]
   }
,
{
		   "cell_type": "markdown",
		   "metadata": {},
		   "source": [
			"## Example 16.1: 1.sce"
		   ]
		  },
  {
"cell_type": "code",
	   "execution_count": null,
	   "metadata": {
	    "collapsed": true
	   },
	   "outputs": [],
"source": [
"//example 16.1\n",
"clc; funcprot(0);\n",
"// Initialization of Variable\n",
"Tso=50;//temperature\n",
"Tinfinity=25;//temperature\n",
"Tsi=385;//temperature\n",
"ka=0.15;\n",
"kb=0.08;\n",
"ho=25;//W/K/m^2\n",
"La=(Tsi-Tso)/(1/ka+0.5/kb)/(ho*(Tso-Tinfinity));\n",
"L=La+0.5*La\n",
"disp(L*1000,'required thickness of composite in mm');\n",
"clear()"
   ]
   }
,
{
		   "cell_type": "markdown",
		   "metadata": {},
		   "source": [
			"## Example 16.2: 2.sce"
		   ]
		  },
  {
"cell_type": "code",
	   "execution_count": null,
	   "metadata": {
	    "collapsed": true
	   },
	   "outputs": [],
"source": [
"//example 16.2\n",
"clc; funcprot(0);\n",
"// Initialization of Variable\n",
"h=100;\n",
"Tinfinity=25;\n",
"Pe=10^4;\n",
"Tc=Tinfinity+Pe*(1/(1/h)+1/(0.9e-4+0.008/238+1/h))^-1;\n",
"disp(Tc,'allowable maximum temperature in degreeC')\n",
"clear()"
   ]
   }
,
{
		   "cell_type": "markdown",
		   "metadata": {},
		   "source": [
			"## Example 16.3: 3.sce"
		   ]
		  },
  {
"cell_type": "code",
	   "execution_count": null,
	   "metadata": {
	    "collapsed": true
	   },
	   "outputs": [],
"source": [
"//example 16.3\n",
"clc; funcprot(0);\n",
"// Initialization of Variable\n",
"r1=0.25;//m\n",
"r2=0.275;//m\n",
"T1=300;\n",
"T2=77;\n",
"k=0.0017;\n",
"hfg=2.0e5;\n",
"pi=3.14;\n",
"q=(T1-T2)/(1/4/pi/k*(1/r1-1/r2)+1/20/4/pi/r2^2);\n",
"disp(q,'heat transfer in W');\n",
"mdot=q/hfg;\n",
"k=mdot/804*1000*3600*24;\n",
"disp(k,'mdot/rho in liters/day')\n",
"clear()"
   ]
   }
,
{
		   "cell_type": "markdown",
		   "metadata": {},
		   "source": [
			"## Example 16.4: 4.sce"
		   ]
		  },
  {
"cell_type": "code",
	   "execution_count": null,
	   "metadata": {
	    "collapsed": true
	   },
	   "outputs": [],
"source": [
"//example 16.4\n",
"clc; funcprot(0);\n",
"// Initialization of Variable\n",
"Tinfinity=30;\n",
"q=1.5e6;\n",
"La=0.05;\n",
"h=1000;\n",
"T2=Tinfinity+q*La/h;\n",
"disp(T2,'temperature in degreeC');\n",
"T1=Tinfinity+(0.02/150+1/h)*q*La;\n",
"To=q*La^2/2/75+T1;\n",
"disp(To,'inner surface temperature in degreeC');\n",
"clear()"
   ]
   }
,
{
		   "cell_type": "markdown",
		   "metadata": {},
		   "source": [
			"## Example 16.6: 6.sce"
		   ]
		  },
  {
"cell_type": "code",
	   "execution_count": null,
	   "metadata": {
	    "collapsed": true
	   },
	   "outputs": [],
"source": [
"//example 16.6\n",
"clc; funcprot(0);\n",
"// Initialization of Variable\n",
"pi=3.14;\n",
"h=100;//W/m^2/K\n",
"P=pi*0.005;\n",
"k=398;\n",
"Ac=pi/4*0.005^2;\n",
"thetab=100-25;\n",
"qf=(h*P*k*Ac)^0.5*thetab;\n",
"disp(qf,'heat rate in copper rod in W');\n",
"L=2.65*(k*Ac/h/P)^0.5*1000;\n",
"disp(L,'minimum value of the length in mm');\n",
"clear()"
   ]
   }
,
{
		   "cell_type": "markdown",
		   "metadata": {},
		   "source": [
			"## Example 16.7: 7.sce"
		   ]
		  },
  {
"cell_type": "code",
	   "execution_count": null,
	   "metadata": {
	    "collapsed": true
	   },
	   "outputs": [],
"source": [
"//example 16.7\n",
"clc; funcprot(0);\n",
"// Initialization of Variable\n",
"pi=3.14;\n",
"T1=80;\n",
"Tinfinity=20;//temperature\n",
"Rtc1=1e-3;//m2K/W\n",
"r1=0.002;\n",
"r2=0.003;\n",
"H=0.006;\n",
"k=200;\n",
"Rtb=638;//K/W\n",
"Rtf12=24.4;\n",
"Rtc=Rtc1/2/pi/r1/H;\n",
"Rtsleeve=log(r2/r1)/2/pi/H/k;\n",
"Requiv=(1/Rtf12+1/Rtb)^-1;\n",
"Rtot=Rtc+Rtsleeve+Requiv;\n",
"qt=(T1-Tinfinity)/Rtot\n",
"disp(qt,'heat transfer rate in W');\n",
"clear()"
   ]
   }
,
{
		   "cell_type": "markdown",
		   "metadata": {},
		   "source": [
			"## Example 16.8: 8.sce"
		   ]
		  },
  {
"cell_type": "code",
	   "execution_count": null,
	   "metadata": {
	    "collapsed": true
	   },
	   "outputs": [],
"source": [
"//example 16.8\n",
"clc; funcprot(0);\n",
"// Initialization of Variable\n",
"D=0.125;\n",
"h=25;//W/m^2\n",
"k=1.4;\n",
"c=835;//J/kg\n",
"Tinfinity=20;//degreeC\n",
"Ti=225;//degreeC\n",
"t=360;\n",
"rho=2225;//density\n",
"Lc=D/6;\n",
"Tt=Tinfinity+(Ti-Tinfinity)*exp(-h*t/rho/Lc/c);\n",
"disp(Tt,'temperature after 6 min in degreeC');\n",
"clear()"
   ]
   }
,
{
		   "cell_type": "markdown",
		   "metadata": {},
		   "source": [
			"## Example 16.9: 9.sce"
		   ]
		  },
  {
"cell_type": "code",
	   "execution_count": null,
	   "metadata": {
	    "collapsed": true
	   },
	   "outputs": [],
"source": [
"//example 16.9\n",
"clc; funcprot(0);\n",
"// Initialization of Variable\n",
"rho=2770;\n",
"L=0.0015;\n",
"epsilon=0.8;//emmisivity\n",
"Tavg=360.5;\n",
"Tsur=448;\n",
"sigma=5.67e-8;\n",
"c=875;//J/kg-K\n",
"tc=rho*L*c/(40+12)*log((25-175)/(150-175));\n",
"te=tc+5*60;\n",
"disp(te,'total time spent in s');\n",
"hrad=epsilon*sigma*(Tavg+Tsur)*(Tavg^2+Tsur^2);\n",
"disp(hrad,'radiation energy in W/m^2-K');\n",
"clear()"
   ]
   }
],
"metadata": {
		  "kernelspec": {
		   "display_name": "Scilab",
		   "language": "scilab",
		   "name": "scilab"
		  },
		  "language_info": {
		   "file_extension": ".sce",
		   "help_links": [
			{
			 "text": "MetaKernel Magics",
			 "url": "https://github.com/calysto/metakernel/blob/master/metakernel/magics/README.md"
			}
		   ],
		   "mimetype": "text/x-octave",
		   "name": "scilab",
		   "version": "0.7.1"
		  }
		 },
		 "nbformat": 4,
		 "nbformat_minor": 0
}
