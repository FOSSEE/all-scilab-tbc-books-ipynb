{
"cells": [
 {
		   "cell_type": "markdown",
	   "metadata": {},
	   "source": [
       "# Chapter 9: Gas Power Systems"
	   ]
	},
{
		   "cell_type": "markdown",
		   "metadata": {},
		   "source": [
			"## Example 9.1: 1.sce"
		   ]
		  },
  {
"cell_type": "code",
	   "execution_count": null,
	   "metadata": {
	    "collapsed": true
	   },
	   "outputs": [],
"source": [
"//example 9.1\n",
"clc; funcprot(0);\n",
"// Initialization of Variable\n",
"T2=1212.0;\n",
"p1=1.0;\n",
"T1=540.0;\n",
"T4=1878.0;\n",
"T3=3600.0;\n",
"u4=342.2;\n",
"u1=92.04;\n",
"u3=721.44;\n",
"u2=211.3;\n",
"m=1.47/1000;\n",
"V1=0.02;\n",
"k=8;//V1/V2\n",
"p2=k*p1*T2/T1;\n",
"disp(p2,'pressure in atm');\n",
"p3=p2*T3/T2;\n",
"disp(p3,'pressure in atm');\n",
"p4=p1*T4/T1;\n",
"disp(p4,'pressure in atm');\n",
"neta=1-(u4-u1)/(u3-u2);\n",
"disp(neta*100,'thermal efficiency in %');\n",
"W=m*(u3-u4-u2+u1);\n",
"mep=W/V1/(1-1/k)*778/144;\n",
"disp(mep,'mean effective pressure in lbf/in^2 is equal to 8.03 atm');\n",
"clear()"
   ]
   }
,
{
		   "cell_type": "markdown",
		   "metadata": {},
		   "source": [
			"## Example 9.2: 2.sce"
		   ]
		  },
  {
"cell_type": "code",
	   "execution_count": null,
	   "metadata": {
	    "collapsed": true
	   },
	   "outputs": [],
"source": [
"//example 9.2\n",
"clc; funcprot(0);\n",
"// Initialization of Variable\n",
"T2=898.3;\n",
"T1=300.0;\n",
"T4=887.7;\n",
"vr3=3.97;\n",
"V1=0.861;\n",
"R=8314;//gas constant\n",
"u4=664.3;\n",
"u1=214.07;\n",
"h3=1999.1;\n",
"h2=930.98;\n",
"p1=0.1;\n",
"k=18.0;//V1/V2\n",
"rc=2.0;//V3/V2\n",
"p2=k*p1*T2/T1;\n",
"disp(p2,'pressure in atm');\n",
"T3=rc*T2;\n",
"disp(T3,'temperature in K');\n",
"vr4=vr3*k/rc;\n",
"p4=p1*T4/T1;\n",
"disp(p4,'pressure in atm');\n",
"neta=1-(u4-u1)/(h3-h2);\n",
"disp(neta*100,'thermal efficiency in %');\n",
"W=(h3-u4-h2+u1);//Wcycle/m\n",
"V1=R*T1/29.97/10^5;\n",
"mep=W/V1/(1-1/k)*1000/10^6;\n",
"disp(mep,'mean effective pressure in MPa');\n",
"clear()"
   ]
   }
,
{
		   "cell_type": "markdown",
		   "metadata": {},
		   "source": [
			"## Example 9.3: 3.sce"
		   ]
		  },
  {
"cell_type": "code",
	   "execution_count": null,
	   "metadata": {
	    "collapsed": true
	   },
	   "outputs": [],
"source": [
"//example 9.3\n",
"clc; funcprot(0);\n",
"// Initialization of Variable\n",
"h4=808.5;\n",
"h2=579.9;\n",
"h3=1515.4;\n",
"h1=300.19;\n",
"T=300;//temperature\n",
"R=8314;//gas constant\n",
"M=28.97;//mass molecular\n",
"neta=(h3-h4-h2+h1)/(h3-h2);\n",
"disp(neta*100,'thermal efficiency in %');\n",
"bwr=(h2-h1)/(h3-h4);\n",
"disp(bwr*100,'back work ratio in %');\n",
"mdot=5*10^5*M/R/T;\n",
"Wcycledot=mdot*[h3-h4-h2+h1];\n",
"disp(Wcycledot,'net power developed in kW');\n",
"clear()"
   ]
   }
,
{
		   "cell_type": "markdown",
		   "metadata": {},
		   "source": [
			"## Example 9.4: 4.sce"
		   ]
		  },
  {
"cell_type": "code",
	   "execution_count": null,
	   "metadata": {
	    "collapsed": true
	   },
	   "outputs": [],
"source": [
"//example 9.4\n",
"clc; funcprot(0);\n",
"// Initialization of Variable\n",
"h1=300.19;\n",
"k=349.6;//Wcdot/mdot\n",
"h2=h1+k;\n",
"h3=1515.4;\n",
"mdot=5.807;\n",
"k2=h3-h2;//Qindot/mdot\n",
"neta=(565.6-k)/k2;\n",
"disp(neta*100,'thermal efficiency in %');\n",
"bwr=k/565.5;\n",
"disp(bwr*100,'back work ratio in %');\n",
"Wcycledot=mdot*(565.5-k);\n",
"disp(Wcycledot,'net power developed in kW');\n",
"clear()"
   ]
   }
,
{
		   "cell_type": "markdown",
		   "metadata": {},
		   "source": [
			"## Example 9.5: 5.sce"
		   ]
		  },
  {
"cell_type": "code",
	   "execution_count": null,
	   "metadata": {
	    "collapsed": true
	   },
	   "outputs": [],
"source": [
"//example 9.5\n",
"clc; funcprot(0);\n",
"// Initialization of Variable\n",
"h3=1515.4;//kJ/kg\n",
"h4=808.5;//kJ/kg\n",
"nreg=0.8;\n",
"h2=579.9;//kJ/kg\n",
"h1=300.19;//kJ/kg\n",
"hx=nreg*(h4-h2)+h2;\n",
"neta=(h3-h4-h2+h1)/(h3-hx);\n",
"disp(neta*100,'thermal efficiency in %');\n",
"clear()"
   ]
   }
,
{
		   "cell_type": "markdown",
		   "metadata": {},
		   "source": [
			"## Example 9.6: 6.sce"
		   ]
		  },
  {
"cell_type": "code",
	   "execution_count": null,
	   "metadata": {
	    "collapsed": true
	   },
	   "outputs": [],
"source": [
"//example 9.6\n",
"clc; funcprot(0);\n",
"// Initialization of Variable\n",
"ha=102.7;//Btu/lb\n",
"Va=909.3;//ft/s\n",
"h3=546.54;//Btu/lb\n",
"h2=216.2;//Btu/lb\n",
"pr4=113.8;\n",
"h5=265.8;//Btu/lb\n",
"pr3=233.5;\n",
"h1=102.7+Va^2/2/32.2/778;\n",
"pr1=1.051;\n",
"pra=0.6268;\n",
"p1=pr1/pra*11.8;\n",
"disp(p1,'Pressure in lbf/in^2');\n",
"p2=8*p1;\n",
"disp(p2,'Pressure in lbf/in^2');\n",
"p3=p2;\n",
"h4=h3+h1-h2;\n",
"p4=p3*pr4/pr3;\n",
"disp(p4,'Pressure in lbf/in^2');\n",
"V5=sqroot(2*(h4-h5)*32.2*778);\n",
"disp(V5,'velocity in ft/s (2069 mi/h)');\n",
"clear()"
   ]
   }
],
"metadata": {
		  "kernelspec": {
		   "display_name": "Scilab",
		   "language": "scilab",
		   "name": "scilab"
		  },
		  "language_info": {
		   "file_extension": ".sce",
		   "help_links": [
			{
			 "text": "MetaKernel Magics",
			 "url": "https://github.com/calysto/metakernel/blob/master/metakernel/magics/README.md"
			}
		   ],
		   "mimetype": "text/x-octave",
		   "name": "scilab",
		   "version": "0.7.1"
		  }
		 },
		 "nbformat": 4,
		 "nbformat_minor": 0
}
