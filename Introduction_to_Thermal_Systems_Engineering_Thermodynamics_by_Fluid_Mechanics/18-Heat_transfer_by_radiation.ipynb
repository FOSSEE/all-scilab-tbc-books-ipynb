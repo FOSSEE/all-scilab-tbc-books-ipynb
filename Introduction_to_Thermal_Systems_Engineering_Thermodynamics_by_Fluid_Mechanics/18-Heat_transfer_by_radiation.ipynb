{
"cells": [
 {
		   "cell_type": "markdown",
	   "metadata": {},
	   "source": [
       "# Chapter 18: Heat transfer by radiation"
	   ]
	},
{
		   "cell_type": "markdown",
		   "metadata": {},
		   "source": [
			"## Example 18.10: 10.sce"
		   ]
		  },
  {
"cell_type": "code",
	   "execution_count": null,
	   "metadata": {
	    "collapsed": true
	   },
	   "outputs": [],
"source": [
"//example 18.10\n",
"clc; funcprot(0);\n",
"// Initialization of Variable\n",
"e1=0.8;\n",
"e2=0.4;\n",
"T1=1200;\n",
"T2=500;\n",
"A=1;\n",
"Jr=(108323+59043)/2;\n",
"sigma=5.67e-8;\n",
"q1=sigma*(T1^4-T2^4)/((1-e1/e1/A)+1/(A*0.5+(2+2)^-1)+(1-e2)/e2/A);\n",
"disp(q1/1000,'the rate of energy supply in kW/m');\n",
"\n",
"Tr=(Jr/sigma)^0.25;\n",
"disp(Tr,'temperature in radiating surface in K');\n",
"clear()"
   ]
   }
,
{
		   "cell_type": "markdown",
		   "metadata": {},
		   "source": [
			"## Example 18.1: 1.sce"
		   ]
		  },
  {
"cell_type": "code",
	   "execution_count": null,
	   "metadata": {
	    "collapsed": true
	   },
	   "outputs": [],
"source": [
"//example 18.1\n",
"clc; funcprot(0);\n",
"// Initialization of Variable\n",
"G1=600;//G1=Glambda\n",
"alpha=0.85;\n",
"G=G1*(2.5-1)*0.5+G1*0.5*(0.5)+G1*(1.0-0.5);\n",
"disp(G,'total radiation in W/m^2');\n",
"Gabs=alpha*G;\n",
"disp(Gabs,'absorbed radiation in W/m^2');\n",
"J=0.15*G+525;\n",
"disp(J,'total radiosity');\n",
"qrad=525-Gabs;\n",
"disp(qrad,'net radiative flux leaving the surface in W/m^2');\n",
"clear()"
   ]
   }
,
{
		   "cell_type": "markdown",
		   "metadata": {},
		   "source": [
			"## Example 18.2: 2.sce"
		   ]
		  },
  {
"cell_type": "code",
	   "execution_count": null,
	   "metadata": {
	    "collapsed": true
	   },
	   "outputs": [],
"source": [
"//example 18.2\n",
"clc; funcprot(0);\n",
"// Initialization of Variable\n",
"sigma=5.67e-8;\n",
"lambda1=2200;//mum\n",
"T=2000;//K\n",
"C1=3.742e8;//mum^4/m^2\n",
"C2=1.439e8;\n",
"lambdamax=1.45;//mum\n",
"E=sigma*T^4;\n",
"disp(E,'spectral emmisive power in W/m^2');\n",
"lambda=lambda1/T;\n",
"disp(lambda,'wavelength corresponding to upper limit in mum');\n",
"E=C1/lambdamax^5/(exp(C2/lambdamax/T)-1);\n",
"disp(E,'emissive power in W/m^2.mum');\n",
"disp('G=9.07*10^5 in W/m^2');\n",
"clear()"
   ]
   }
,
{
		   "cell_type": "markdown",
		   "metadata": {},
		   "source": [
			"## Example 18.4: 4.sce"
		   ]
		  },
  {
"cell_type": "code",
	   "execution_count": null,
	   "metadata": {
	    "collapsed": true
	   },
	   "outputs": [],
"source": [
"//example 18.4\n",
"clc; funcprot(0);\n",
"// Initialization of Variable\n",
"F1=0.318;//F0---2 mum\n",
"F2=0.856;//F0---5 mum\n",
"sigma=5.67e-8;\n",
"T=1600;//kelvin\n",
"epsilon=0.4*F1+0.8*(F2-F1);\n",
"disp(epsilon,'emmisivity');\n",
"E=epsilon*sigma*T^4;\n",
"disp(E/1000,'total emmisive power in kW/m^2');\n",
"clear()"
   ]
   }
,
{
		   "cell_type": "markdown",
		   "metadata": {},
		   "source": [
			"## Example 18.5: 5.sce"
		   ]
		  },
  {
"cell_type": "code",
	   "execution_count": null,
	   "metadata": {
	    "collapsed": true
	   },
	   "outputs": [],
"source": [
"//example 18.5\n",
"clc; funcprot(0);\n",
"// Initialization of Variable\n",
"F=0.738;//F0---l1' mum\n",
"F1=0.014;//F0---l1 mum\n",
"sigma=5.67e-8;\n",
"Ts=300;\n",
"Tf=1200;\n",
"alpha=0.8*F+0.1*(1-F);\n",
"disp(alpha,'total absorvity')\n",
"epsilon=0.8*F1+0.1*(1-F1);\n",
"disp(epsilon,'emmisivity');\n",
"qrad=epsilon*sigma*Ts^4-alpha*sigma*Tf^4;\n",
"disp(qrad/1000,'total emissice power in kW/m^2');\n",
"disp('epsilon=alpha=0.62 for final condition');\n",
"clear()"
   ]
   }
,
{
		   "cell_type": "markdown",
		   "metadata": {},
		   "source": [
			"## Example 18.6: 6.sce"
		   ]
		  },
  {
"cell_type": "code",
	   "execution_count": null,
	   "metadata": {
	    "collapsed": true
	   },
	   "outputs": [],
"source": [
"//example 18.6\n",
"clc; funcprot(0);\n",
"// Initialization of Variable\n",
"plambda=0.05;\n",
"sigma=5.67e-8;\n",
"T=300;//K\n",
"epsilon=1-plambda;\n",
"qrad=epsilon*sigma*T^4-0.226*1353;\n",
"disp(qrad,'net radiative heat flux leaving in W/m^2');\n",
"clear()"
   ]
   }
,
{
		   "cell_type": "markdown",
		   "metadata": {},
		   "source": [
			"## Example 18.7: 7.sce"
		   ]
		  },
  {
"cell_type": "code",
	   "execution_count": null,
	   "metadata": {
	    "collapsed": true
	   },
	   "outputs": [],
"source": [
"//example 18.7\n",
"clc; funcprot(0);\n",
"// Initialization of Variable\n",
"pi=3.14;\n",
"F12=0.5;\n",
"A1=4;//area in terms of L\n",
"A2=2*pi/4;//area in terms of L\n",
"F21=A1/A2*F12;\n",
"disp(F21,'reciprocity relation between A1 and A2');\n",
"//part2\n",
"F12=1;\n",
"A1=1/16;//area in terms of D\n",
"A2=1/2;//area in terms of D\n",
"F21=A1/A2*F12;\n",
"disp(F21,'reciprocity relation between A1 and A2');\n",
"//part3\n",
"F22=0.5;\n",
"F23=1-F21-F22;\n",
"disp(F23,'reciprocity relation');\n",
"//part4\n",
"F13=0.17;\n",
"F12=1-F13;\n",
"A1=1/4;//area in terms of D\n",
"A2=1;//area in terms of D\n",
"F21=A1/A2*F12;\n",
"disp(F21,'reciprocity relation between A1 and A2');\n",
"clear()"
   ]
   }
,
{
		   "cell_type": "markdown",
		   "metadata": {},
		   "source": [
			"## Example 18.8: 8.sce"
		   ]
		  },
  {
"cell_type": "code",
	   "execution_count": null,
	   "metadata": {
	    "collapsed": true
	   },
	   "outputs": [],
"source": [
"//example 18.8\n",
"clc; funcprot(0);\n",
"// Initialization of Variable\n",
"pi=3.14;\n",
"sigma=5.67e-8;\n",
"T1=1623//K\n",
"T2=1923;//K\n",
"T3=300;//K\n",
"F23=0.06;\n",
"A2=pi*0.075^2/4;\n",
"A1=pi*0.075*0.15;\n",
"F21=1-F23;\n",
"F12=A2/A1*F21;\n",
"Pe=A1*0.118*sigma*(T1^4-T3^4)+A2*F23*sigma*(T2^4-T3^4);\n",
"disp(Pe,'Electrical power required in W');\n",
"clear()"
   ]
   }
,
{
		   "cell_type": "markdown",
		   "metadata": {},
		   "source": [
			"## Example 18.9: 9.sce"
		   ]
		  },
  {
"cell_type": "code",
	   "execution_count": null,
	   "metadata": {
	    "collapsed": true
	   },
	   "outputs": [],
"source": [
"//example 18.9\n",
"clc; funcprot(0);\n",
"// Initialization of Variable\n",
"sigma=5.67e-8;\n",
"D1=0.02;\n",
"D2=0.05;\n",
"D3=0.035;\n",
"pi=3.14;\n",
"T1=77;\n",
"T2=300;\n",
"qwo=(sigma*pi*D1*(T1^4-T2^4))/(1/0.02+(1-0.05)/0.05*(D1/D2));\n",
"disp(qwo,'heat rate per unit length in W/m');\n",
"Rtot=(1-0.02)/(0.02*pi*D1)+1/pi/D1+2*(1-0.02/(0.02*pi*D3)+1/pi/0.035+(1-0.05)/pi/D2^2);\n",
"qw=sigma*(T1^4-T2^4)/1817;\n",
"disp(qw,'heat rate of radiation in W/m');\n",
"k=(qw-qwo)/qwo*100;\n",
"disp(k,'percentage change of heat transfer in %');\n",
"clear()"
   ]
   }
],
"metadata": {
		  "kernelspec": {
		   "display_name": "Scilab",
		   "language": "scilab",
		   "name": "scilab"
		  },
		  "language_info": {
		   "file_extension": ".sce",
		   "help_links": [
			{
			 "text": "MetaKernel Magics",
			 "url": "https://github.com/calysto/metakernel/blob/master/metakernel/magics/README.md"
			}
		   ],
		   "mimetype": "text/x-octave",
		   "name": "scilab",
		   "version": "0.7.1"
		  }
		 },
		 "nbformat": 4,
		 "nbformat_minor": 0
}
