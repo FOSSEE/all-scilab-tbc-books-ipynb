{
"cells": [
 {
		   "cell_type": "markdown",
	   "metadata": {},
	   "source": [
       "# Chapter 10: Psychrometric Operations"
	   ]
	},
{
		   "cell_type": "markdown",
		   "metadata": {},
		   "source": [
			"## Example 10.1: 1.sce"
		   ]
		  },
  {
"cell_type": "code",
	   "execution_count": null,
	   "metadata": {
	    "collapsed": true
	   },
	   "outputs": [],
"source": [
"//example 10.1\n",
"clc; funcprot(0);\n",
"// Initialization of Variable\n",
"phi=0.7;\n",
"pg=0.3632;//lbf/in^2\n",
"omega2=0.0052;\n",
"pv1=phi*pg;\n",
"omega1=0.622*pv1/(14.7-pv1);\n",
"disp(omega1,'lb(vapor)/lb(dry air) is');\n",
"mv1=1/(1/omega1+1);\n",
"ma=1-mv1;\n",
"mv2=omega2*ma;\n",
"mw=mv1-mv2;\n",
"disp(mw,'mass of water vapor that condenses in lb');\n",
"clear()"
   ]
   }
,
{
		   "cell_type": "markdown",
		   "metadata": {},
		   "source": [
			"## Example 10.2: 2.sce"
		   ]
		  },
  {
"cell_type": "code",
	   "execution_count": null,
	   "metadata": {
	    "collapsed": true
	   },
	   "outputs": [],
"source": [
"//example 10.2\n",
"clc; funcprot(0);\n",
"// Initialization of Variable\n",
"phi1=0.8;\n",
"pg1=0.01228;\n",
"pa1=0.9902*10^5;;\n",
"R=8314;//gasconstant\n",
"T=283;\n",
"pv1=phi1*pg1;\n",
"va1=R/28.97*T/pa1;\n",
"madot=150/va1;\n",
"omega=0.622*(pv1/(1-pv1));\n",
"Qcvdot=madot*(303.2-283.1)+omega*(2556.3-2519.8);\n",
"disp(Qcvdot,'heat flow rate in kJ/min');\n",
"pv2=pv1;\n",
"phi2=pv2/0.04246;\n",
"disp(phi2*100,'humidity in %');\n",
"//alternatively\n",
"madot=150/0.81;\n",
"Qcvdot=madot*(45.9-25.7);\n",
"disp(Qcvdot,'heat flow rate in kJ/min');\n",
"clear()"
   ]
   }
,
{
		   "cell_type": "markdown",
		   "metadata": {},
		   "source": [
			"## Example 10.3: 3.sce"
		   ]
		  },
  {
"cell_type": "code",
	   "execution_count": null,
	   "metadata": {
	    "collapsed": true
	   },
	   "outputs": [],
"source": [
"//example 10.3\n",
"clc; funcprot(0);\n",
"// Initialization of Variable\n",
"pv1=0.02123*10^5;\n",
"patm=1.013*10^5;\n",
"ha2=283.1;\n",
"ha1=303.2;\n",
"hg1=2556.3;\n",
"hg2=2519.8;\n",
"omega2=0.0076;\n",
"hf2=42.01;\n",
"T=303;//temperature\n",
"R=8314;//gas constant\n",
"M=28.97;//molecular mass\n",
"pa1=patm-pv1;\n",
"madot=280*pa1*M/R/T;\n",
"disp(madot,'mass flow rate in kg/min');\n",
"omega1=0.622*pv1/pa1;\n",
"k=omega1-0.0076;\n",
"disp(k,'mwdot/madot is (kg/kg)');\n",
"Qcvdot=madot*((ha2-ha1)-omega1*hg1+omega2*hg2+(omega1-omega2)*hf2);\n",
"disp(Qcvdot,'heat flow rate in kJ/min');\n",
"clear()"
   ]
   }
,
{
		   "cell_type": "markdown",
		   "metadata": {},
		   "source": [
			"## Example 10.4: 4.sce"
		   ]
		  },
  {
"cell_type": "code",
	   "execution_count": null,
	   "metadata": {
	    "collapsed": true
	   },
	   "outputs": [],
"source": [
"//example 10.4\n",
"clc; funcprot(0);\n",
"// Initialization of Variable\n",
"omega1=0.002;\n",
"mstdot=52;\n",
"madot=90;\n",
"omega2=omega1+mstdot/60/madot;\n",
"disp(omega2,'humidity ratio is ');\n",
"clear()"
   ]
   }
,
{
		   "cell_type": "markdown",
		   "metadata": {},
		   "source": [
			"## Example 10.5: 5.sce"
		   ]
		  },
  {
"cell_type": "code",
	   "execution_count": null,
	   "metadata": {
	    "collapsed": true
	   },
	   "outputs": [],
"source": [
"//example 10.5\n",
"clc; funcprot(0);\n",
"// Initialization of Variable\n",
"T1=100;\n",
"T2=70;\n",
"cpa=0.24;\n",
"omega1=0.0045;//humidity\n",
"hg1=1105;\n",
"hg2=38.1;\n",
"hg2=1092;\n",
"hf=38.1;\n",
"p2=14.696;//lb/in^2\n",
"omega2=(cpa*(T1-T2)+omega1*(hg1-hf))/(hg2-hf);\n",
"mwdot=352.1*60*(omega2-omega1);\n",
"disp(mwdot,'mass flow rate in lb/h');\n",
"pv2=omega2*p2/(omega2+0.622);\n",
"phi2=pv2/0.36332;\n",
"disp(phi2*100,'relative humidity in %')\n",
"clear()"
   ]
   }
,
{
		   "cell_type": "markdown",
		   "metadata": {},
		   "source": [
			"## Example 10.6: 6.sce"
		   ]
		  },
  {
"cell_type": "code",
	   "execution_count": null,
	   "metadata": {
	    "collapsed": true
	   },
	   "outputs": [],
"source": [
"//example 10.6\n",
"clc; funcprot(0);\n",
"// Initialization of Variable\n",
"omega1=0.002;\n",
"omega2=0.0094;\n",
"ma1dot=180.0;\n",
"ma2dot=497.0;\n",
"omega3=(omega1*ma1dot+omega2*ma2dot)/(ma1dot+ma2dot);\n",
"disp(omega3,'relative humidity');\n",
"k1=10;//(ha+whv)1\n",
"k2=47.8;//(ha+whv)2\n",
"k3=(ma1dot*k1+ma2dot*k2)/(ma1dot+ma2dot)\n",
"disp(k3,'(ha+whv)3 in kJ/kg');\n",
"disp(19,'temperature by inspection in degreeC')\n",
"clear()"
   ]
   }
,
{
		   "cell_type": "markdown",
		   "metadata": {},
		   "source": [
			"## Example 10.7: 7.sce"
		   ]
		  },
  {
"cell_type": "code",
	   "execution_count": null,
	   "metadata": {
	    "collapsed": true
	   },
	   "outputs": [],
"source": [
"//example 10.7\n",
"clc; funcprot(0);\n",
"// Initialization of Variable\n",
"m1dot=4.5e7;\n",
"hf1=159.21;\n",
"hf2=125.79;\n",
"ha4=308.2;\n",
"ha3=298.2;\n",
"w4=0.0327;//humidity\n",
"hg4=2565.3;\n",
"hg3=2547.2;\n",
"w3=0.0068;//humidity\n",
"hf5=83.96;\n",
"madot=m1dot*(hf1-hf2)/(ha4-ha3+w4*hg4-w3*hg3-(w4-w3)*hf5);\n",
"m5dot=madot*(w4-w3);\n",
"disp(m5dot,'mass flow rate in kg/h');\n",
"clear()"
   ]
   }
],
"metadata": {
		  "kernelspec": {
		   "display_name": "Scilab",
		   "language": "scilab",
		   "name": "scilab"
		  },
		  "language_info": {
		   "file_extension": ".sce",
		   "help_links": [
			{
			 "text": "MetaKernel Magics",
			 "url": "https://github.com/calysto/metakernel/blob/master/metakernel/magics/README.md"
			}
		   ],
		   "mimetype": "text/x-octave",
		   "name": "scilab",
		   "version": "0.7.1"
		  }
		 },
		 "nbformat": 4,
		 "nbformat_minor": 0
}
