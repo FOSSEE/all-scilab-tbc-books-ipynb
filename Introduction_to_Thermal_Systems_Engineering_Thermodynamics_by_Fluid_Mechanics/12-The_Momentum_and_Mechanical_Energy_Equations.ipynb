{
"cells": [
 {
		   "cell_type": "markdown",
	   "metadata": {},
	   "source": [
       "# Chapter 12: The Momentum and Mechanical Energy Equations"
	   ]
	},
{
		   "cell_type": "markdown",
		   "metadata": {},
		   "source": [
			"## Example 12.1: 1.sce"
		   ]
		  },
  {
"cell_type": "code",
	   "execution_count": null,
	   "metadata": {
	    "collapsed": true
	   },
	   "outputs": [],
"source": [
"//example 12.1\n",
"clc; funcprot(0);\n",
"// Initialization of Variable\n",
"//for a sample value of theta=45degrees\n",
"pi=3.14;\n",
"rho=1.94;\n",
"A=0.06;//area\n",
"V=10.0;//velocity\n",
"theta=pi*45/180;\n",
"Fax=-rho*A*V^2*(1-cos(theta));\n",
"disp(Fax,'resultant force in x direction in lbf');\n",
"Fay=rho*A*V^2*sin(theta);\n",
"disp(Fay,'resultant force in y direction in lbf');\n",
"clear()"
   ]
   }
,
{
		   "cell_type": "markdown",
		   "metadata": {},
		   "source": [
			"## Example 12.2: 2.sce"
		   ]
		  },
  {
"cell_type": "code",
	   "execution_count": null,
	   "metadata": {
	    "collapsed": true
	   },
	   "outputs": [],
"source": [
"//example 12.2\n",
"clc; funcprot(0);\n",
"// Initialization of Variable\n",
"rho=1.94;\n",
"A=0.1;\n",
"V=50;\n",
"p1=30;//pressure\n",
"p2=24;//pressure\n",
"mdot=rho*A*V;\n",
"Fay=-2*mdot*V-(p1+p2)*144*A;\n",
"disp(Fay,'resultant force in y direction in lbf');\n",
"disp('resultant force in -ve y direction')\n",
"clear()"
   ]
   }
,
{
		   "cell_type": "markdown",
		   "metadata": {},
		   "source": [
			"## Example 12.3: 3.sce"
		   ]
		  },
  {
"cell_type": "code",
	   "execution_count": null,
	   "metadata": {
	    "collapsed": true
	   },
	   "outputs": [],
"source": [
"//example 12.3\n",
"clc; funcprot(0);\n",
"// Initialization of Variable\n",
"pi=3.14;\n",
"rho=999.0;\n",
"Q=0.6/1000;\n",
"A1=pi*0.016^2/4;\n",
"A2=pi*0.005^2/4;\n",
"p1=464*1000;\n",
"p2=0;\n",
"Ww=0.03;\n",
"Wn=1;\n",
"mdot=rho*Q;\n",
"V1=Q/A1;\n",
"V2=Q/A2;\n",
"Fa=mdot*(V1-V2)+Wn+Ww+p1*A1;\n",
"disp(Fa,'Force in N');\n",
"clear()"
   ]
   }
,
{
		   "cell_type": "markdown",
		   "metadata": {},
		   "source": [
			"## Example 12.5: 5.sce"
		   ]
		  },
  {
"cell_type": "code",
	   "execution_count": null,
	   "metadata": {
	    "collapsed": true
	   },
	   "outputs": [],
"source": [
"//example 12.5\n",
"clc; funcprot(0);\n",
"// Initialization of Variable\n",
"k=3.0;//p1/gamma\n",
"k2=0.5;//p2/gamma\n",
"z1=0;\n",
"z2=2;\n",
"hl=k-k2-z2+z1;\n",
"disp(hl,'head loss in terms of height of water')\n",
"clear()"
   ]
   }
,
{
		   "cell_type": "markdown",
		   "metadata": {},
		   "source": [
			"## Example 12.6: 6.sce"
		   ]
		  },
  {
"cell_type": "code",
	   "execution_count": null,
	   "metadata": {
	    "collapsed": true
	   },
	   "outputs": [],
"source": [
"//example 12.6\n",
"clc; funcprot(0);\n",
"// Initialization of Variable\n",
"z1=100;\n",
"V2=6;\n",
"g=9.81;\n",
"gamm=9.8*1000;//density\n",
"Q=4.72;//flow rate\n",
"ht=z1-V2^2/2/g;\n",
"Wtdot=gamm*Q*ht/1000;\n",
"disp(Wtdot,'power output in kW');\n",
"clear()"
   ]
   }
,
{
		   "cell_type": "markdown",
		   "metadata": {},
		   "source": [
			"## Example 12.7: 7.sce"
		   ]
		  },
  {
"cell_type": "code",
	   "execution_count": null,
	   "metadata": {
	    "collapsed": true
	   },
	   "outputs": [],
"source": [
"//example 12.7\n",
"clc; funcprot(0);\n",
"// Initialization of Variable\n",
"Wpdot=10*550;\n",
"gamm=62.4;//density\n",
"Q=2;//flow rate\n",
"hp=Wpdot/gamm/Q;\n",
"hl=-30+hp;\n",
"disp(hl,'head loss in ft');\n",
"Wdot=gamm*Q*hl/550;\n",
"disp(Wdot,'power output in hp');\n",
"clear()"
   ]
   }
,
{
		   "cell_type": "markdown",
		   "metadata": {},
		   "source": [
			"## Example 12.8: 8.sce"
		   ]
		  },
  {
"cell_type": "code",
	   "execution_count": null,
	   "metadata": {
	    "collapsed": true
	   },
	   "outputs": [],
"source": [
"//example 12.8\n",
"clc; funcprot(0);\n",
"// Initialization of Variable\n",
"k=1.4;\n",
"p0=1*10^6;\n",
"p2=7.84*10^5;\n",
"k=1.4;\n",
"R=8314;//gas constant\n",
"T2=336;//temperature\n",
"M2=(2/(k-1)*((p0/p2)^((k-1)/k)-1))^0.5;\n",
"disp(M2,'the exit mach no is');\n",
"V2=M2*sqroot(k*R/28.97*T2);\n",
"mdot=p2*V2/1000/R/T2*28.97;\n",
"disp(mdot,'mass flow rate in kg/s');\n",
"clear()"
   ]
   }
,
{
		   "cell_type": "markdown",
		   "metadata": {},
		   "source": [
			"## Example 12.9: 9.sce"
		   ]
		  },
  {
"cell_type": "code",
	   "execution_count": null,
	   "metadata": {
	    "collapsed": true
	   },
	   "outputs": [],
"source": [
"//example 12.9\n",
"clc; funcprot(0);\n",
"// Initialization of Variable\n",
"k1=0.88;//p2/poy;\n",
"k2=0.628;//poy/pox\n",
"pox=100;//pressure\n",
"R=1545;\n",
"T2=494;\n",
"k=1.4;\n",
"M2=0.24;\n",
"A=2.4;\n",
"V2=M2*sqroot(k*R/28.97*T2*32.2);\n",
"mdot=95.9*A*V2/T2/R*28.97;\n",
"disp(mdot,'mass flow rate in lb/s');\n",
"p2=k1*k2*pox;\n",
"disp(p2,'pressure in lbf/in^2')\n",
"clear()"
   ]
   }
],
"metadata": {
		  "kernelspec": {
		   "display_name": "Scilab",
		   "language": "scilab",
		   "name": "scilab"
		  },
		  "language_info": {
		   "file_extension": ".sce",
		   "help_links": [
			{
			 "text": "MetaKernel Magics",
			 "url": "https://github.com/calysto/metakernel/blob/master/metakernel/magics/README.md"
			}
		   ],
		   "mimetype": "text/x-octave",
		   "name": "scilab",
		   "version": "0.7.1"
		  }
		 },
		 "nbformat": 4,
		 "nbformat_minor": 0
}
