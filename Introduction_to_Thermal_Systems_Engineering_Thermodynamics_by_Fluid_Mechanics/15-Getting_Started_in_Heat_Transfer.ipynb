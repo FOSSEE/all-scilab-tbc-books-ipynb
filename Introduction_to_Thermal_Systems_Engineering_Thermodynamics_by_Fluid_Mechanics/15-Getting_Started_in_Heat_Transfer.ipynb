{
"cells": [
 {
		   "cell_type": "markdown",
	   "metadata": {},
	   "source": [
       "# Chapter 15: Getting Started in Heat Transfer"
	   ]
	},
{
		   "cell_type": "markdown",
		   "metadata": {},
		   "source": [
			"## Example 15.1: 1.sce"
		   ]
		  },
  {
"cell_type": "code",
	   "execution_count": null,
	   "metadata": {
	    "collapsed": true
	   },
	   "outputs": [],
"source": [
"//example 15.1\n",
"clc; funcprot(0);\n",
"// Initialization of Variable\n",
"k=1.7;\n",
"delT=250;\n",
"L=0.15;\n",
"H=0.5;\n",
"W=1.2;\n",
"qx=k*delT/L;\n",
"qx=H*W*qx;\n",
"disp(qx,'heat flux in W');\n",
"clear()"
   ]
   }
,
{
		   "cell_type": "markdown",
		   "metadata": {},
		   "source": [
			"## Example 15.2: 2.sce"
		   ]
		  },
  {
"cell_type": "code",
	   "execution_count": null,
	   "metadata": {
	    "collapsed": true
	   },
	   "outputs": [],
"source": [
"//example 15.2\n",
"clc; funcprot(0);\n",
"// Initialization of Variable\n",
"Ts=473;\n",
"sigma=5.67e-8;\n",
"Tsur=298;\n",
"h=15.0;\n",
"pi=3.14;\n",
"D=0.07;\n",
"epsilon=0.8;//emmisivity\n",
"E=epsilon*sigma*Ts^4;\n",
"G=sigma*Tsur^4;\n",
"disp(G,'irradiation in W/m^2');\n",
"q=h*pi*D*(Ts-Tsur)+epsilon*pi*D*sigma*(Ts^4-Tsur^4);\n",
"disp(q,'heat transfer per unit length in W/m');\n",
"clear()"
   ]
   }
,
{
		   "cell_type": "markdown",
		   "metadata": {},
		   "source": [
			"## Example 15.5: 5.sce"
		   ]
		  },
  {
"cell_type": "code",
	   "execution_count": null,
	   "metadata": {
	    "collapsed": true
	   },
	   "outputs": [],
"source": [
"//example 15.5\n",
"clc; funcprot(0);\n",
"// Initialization of Variable\n",
"k=1.2;\n",
"epsilon=0.8;//emmisivity\n",
"h=20;\n",
"Ts=373;\n",
"Tsur=298;\n",
"sigma=5.67e-8;\n",
"L=.15;//length\n",
"a=h*(Ts-Tsur)+epsilon*sigma*(Ts^4-Tsur^4);\n",
"T1=Ts+L/k*a;\n",
"disp(T1,'inner wall temperature in K');\n",
"disp(T1-273,'inner wall temperature in K')\n",
"clear()"
   ]
   }
,
{
		   "cell_type": "markdown",
		   "metadata": {},
		   "source": [
			"## Example 15.6: 6.sce"
		   ]
		  },
  {
"cell_type": "code",
	   "execution_count": null,
	   "metadata": {
	    "collapsed": true
	   },
	   "outputs": [],
"source": [
"//example 15.6\n",
"clc; funcprot(0);\n",
"// Initialization of Variable\n",
"//solving for Ts\n",
"Tinfinity=293;\n",
"Tsurr=303;\n",
"epsilon=0.5;//emmisivity\n",
"alpha=0.8;\n",
"G=2000;\n",
"h=15;\n",
"sigma=5.67e-8;\n",
"deff('y=f(x)','y=alpha*G-h*(x-Tinfinity)-epsilon*sigma*(x^4-Tsurr^4)');\n",
"[x]=fsolve(307,f);\n",
"disp(x,'temperature in K');\n",
"disp(x-273,'temperature in degree C');\n",
"clear()"
   ]
   }
],
"metadata": {
		  "kernelspec": {
		   "display_name": "Scilab",
		   "language": "scilab",
		   "name": "scilab"
		  },
		  "language_info": {
		   "file_extension": ".sce",
		   "help_links": [
			{
			 "text": "MetaKernel Magics",
			 "url": "https://github.com/calysto/metakernel/blob/master/metakernel/magics/README.md"
			}
		   ],
		   "mimetype": "text/x-octave",
		   "name": "scilab",
		   "version": "0.7.1"
		  }
		 },
		 "nbformat": 4,
		 "nbformat_minor": 0
}
