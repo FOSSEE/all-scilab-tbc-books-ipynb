{
"cells": [
 {
		   "cell_type": "markdown",
	   "metadata": {},
	   "source": [
       "# Chapter 8: Vapor Power and Refrigeration Sysytem"
	   ]
	},
{
		   "cell_type": "markdown",
		   "metadata": {},
		   "source": [
			"## Example 8.1: 1.sce"
		   ]
		  },
  {
"cell_type": "code",
	   "execution_count": null,
	   "metadata": {
	    "collapsed": true
	   },
	   "outputs": [],
"source": [
"//example 8.1\n",
"clc; funcprot(0);\n",
"// Initialization of Variable\n",
"h1=2758.0;\n",
"h2=1794.8;\n",
"h3=173.88;\n",
"h4=h3+1.0084/1000*(8-0.008)*1000;\n",
"neta=(h1-h2-h4+h3)/(h1-h4);\n",
"disp(neta*100,'thermal efficiency in %');\n",
"bwr=(h4-h3)/(h1-h2);\n",
"disp(bwr*100,'back work ratio in %');\n",
"mdot=100*1000*3600/(h1-h2-h4+h3);\n",
"disp(mdot,'mass flow rate in kg/h');\n",
"Qindot=mdot*(h1-h4)/3600/1000;\n",
"disp(Qindot,'energy inflow rate in MW');\n",
"Qoutdot=mdot*(h2-h3)/3600/1000;\n",
"disp(Qoutdot,'energy outflow rate in MW');\n",
"disp(Qoutdot/Qindot*100,'ratio of energy outflow/inflow in %');\n",
"mcwdot=mdot*(h2-h3)/(146.68-62.99);\n",
"disp(mcwdot,'mass flow rate in kg/h');\n",
"clear()"
   ]
   }
,
{
		   "cell_type": "markdown",
		   "metadata": {},
		   "source": [
			"## Example 8.2: 2.sce"
		   ]
		  },
  {
"cell_type": "code",
	   "execution_count": null,
	   "metadata": {
	    "collapsed": true
	   },
	   "outputs": [],
"source": [
"//example 8.2\n",
"clc; funcprot(0);\n",
"// Initialization of Variable\n",
"h1=2758.0;\n",
"h2=1939.3;\n",
"h3=173.88;\n",
"h4=h3+8.06/0.85;\n",
"neta=(h1-h2-h4+h3)/(h1-h4);\n",
"disp(neta*100,'thermal efficiency in %');\n",
"mdot=100*1000*3600/(h1-h2-h4+h3);\n",
"disp(mdot,'mass flow rate in kg/h');\n",
"Qindot=mdot*(h1-h4)/3600/1000;\n",
"disp(Qindot,'energy inflow rate in MW');\n",
"Qoutdot=mdot*(h2-h3)/3600/1000;\n",
"disp(Qoutdot,'energy outflow rate in MW');\n",
"mcwdot=mdot*(h2-h3)/(146.68-62.99);\n",
"disp(mcwdot,'mass flow rate in kg/h');\n",
"clear()"
   ]
   }
,
{
		   "cell_type": "markdown",
		   "metadata": {},
		   "source": [
			"## Example 8.3: 3.sce"
		   ]
		  },
  {
"cell_type": "code",
	   "execution_count": null,
	   "metadata": {
	    "collapsed": true
	   },
	   "outputs": [],
"source": [
"//example 8.3\n",
"clc; funcprot(0);\n",
"// Initialization of Variable\n",
"h1=3348.4;\n",
"h2=2741.8;\n",
"h3=3353.3;\n",
"h4=2428.5;\n",
"h6=181.94;\n",
"h5=173.88;\n",
"neta=(h1-h2-h4+h3-h6+h5)/(h1-h6+h3-h2);\n",
"disp(neta*100,'thermal efficiency in %');\n",
"mdot=100*1000*3600/(h1-h2-h4+h3-h6+h5);\n",
"disp(mdot,'mass flow rate in kg/h');\n",
"Qoutdot=mdot*(h4-h5)/3600/1000;\n",
"disp(Qoutdot,'energy outflow rate in MW');\n",
"//part2\n",
"h2=2832.8;\n",
"h4=2567.2;\n",
"neta=(h1-h2-h4+h3-h6+h5)/(h1-h6+h3-h2);\n",
"disp(neta*100,'thermal efficiency in %');\n",
"clear()"
   ]
   }
,
{
		   "cell_type": "markdown",
		   "metadata": {},
		   "source": [
			"## Example 8.4: 4.sce"
		   ]
		  },
  {
"cell_type": "code",
	   "execution_count": null,
	   "metadata": {
	    "collapsed": true
	   },
	   "outputs": [],
"source": [
"//example 8.4\n",
"clc; funcprot(0);\n",
"// Initialization of Variable\n",
"h1=3348.4;\n",
"h7=705.3;\n",
"h6=697.22;\n",
"h5=174.6;\n",
"h4=173.88;\n",
"h2=2832.8;\n",
"h3=2249.3;\n",
"k1=h1-h2+0.8034*(h2-h3);//Wt/m1\n",
"k2=h7-h6+0.8034*(h5-h4);//Wp/m1\n",
"k3=h1-h7;//Qin/m1\n",
"neta=(k1-k2)/k3;\n",
"disp(neta*100,'thermal efficiency in %');\n",
"m1dot=100*1000*3600/(k1-k2);\n",
"disp(m1dot,'mass flow rate in kg/h');\n",
"clear()"
   ]
   }
,
{
		   "cell_type": "markdown",
		   "metadata": {},
		   "source": [
			"## Example 8.5: 5.sce"
		   ]
		  },
  {
"cell_type": "code",
	   "execution_count": null,
	   "metadata": {
	    "collapsed": true
	   },
	   "outputs": [],
"source": [
"//example 8.5\n",
"clc; funcprot(0);\n",
"// Initialization of Variable\n",
"mdot=0.08;\n",
"h2s=264.7;\n",
"h1=247.23;\n",
"h4=85.75;\n",
"Th=299.0;\n",
"Wcdot=mdot*(h2s-h1);\n",
"disp(Wcdot,'work input in kW');\n",
"Qindot=mdot*(h1-h4)*60.0/211;\n",
"disp(Qindot,'refrigration capacity in ton');\n",
"Beta=(h1-h4)/(h2s-h1);\n",
"disp(Beta,'coefficient of performance');\n",
"Bmax=273/(Th-273);\n",
"disp(Bmax,'maximum coefficient of performance');\n",
"clear()"
   ]
   }
,
{
		   "cell_type": "markdown",
		   "metadata": {},
		   "source": [
			"## Example 8.6: 6.sce"
		   ]
		  },
  {
"cell_type": "code",
	   "execution_count": null,
	   "metadata": {
	    "collapsed": true
	   },
	   "outputs": [],
"source": [
"//example 8.6\n",
"clc; funcprot(0);\n",
"// Initialization of Variable\n",
"h2s=272.39;\n",
"h1=241.35;\n",
"mdot=0.08;\n",
"h4=99.56;\n",
"Wcdot=mdot*(h2s-h1);\n",
"disp(Wcdot,'work input in kW');\n",
"Qindot=mdot*(h1-h4)*60.0/211;\n",
"disp(Qindot,'refrigration capacity in ton');\n",
"Beta=(h1-h4)/(h2s-h1);\n",
"disp(Beta,'coefficient of performance');\n",
"clear()"
   ]
   }
,
{
		   "cell_type": "markdown",
		   "metadata": {},
		   "source": [
			"## Example 8.7: 7.sce"
		   ]
		  },
  {
"cell_type": "code",
	   "execution_count": null,
	   "metadata": {
	    "collapsed": true
	   },
	   "outputs": [],
"source": [
"//example 8.7\n",
"clc; funcprot(0);\n",
"// Initialization of Variable\n",
"h1=241.35;\n",
"h2s=272.39;\n",
"nc=0.8;//efficiency\n",
"h4=91.49;\n",
"h2=(h2s-h1)/nc+h1;\n",
"mdot=0.08;\n",
"Wcdot=mdot*(h2-h1);\n",
"disp(Wcdot,'work input in kW');\n",
"Qindot=mdot*(h1-h4)*60.0/211;\n",
"disp(Qindot,'refrigration capacity in ton');\n",
"Beta=(h1-h4)/(h2-h1);\n",
"disp(Beta,'coefficient of performance');\n",
"clear()"
   ]
   }
],
"metadata": {
		  "kernelspec": {
		   "display_name": "Scilab",
		   "language": "scilab",
		   "name": "scilab"
		  },
		  "language_info": {
		   "file_extension": ".sce",
		   "help_links": [
			{
			 "text": "MetaKernel Magics",
			 "url": "https://github.com/calysto/metakernel/blob/master/metakernel/magics/README.md"
			}
		   ],
		   "mimetype": "text/x-octave",
		   "name": "scilab",
		   "version": "0.7.1"
		  }
		 },
		 "nbformat": 4,
		 "nbformat_minor": 0
}
