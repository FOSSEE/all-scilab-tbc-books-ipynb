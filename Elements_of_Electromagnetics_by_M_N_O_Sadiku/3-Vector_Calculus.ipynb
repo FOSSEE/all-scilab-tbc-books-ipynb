{
"cells": [
 {
		   "cell_type": "markdown",
	   "metadata": {},
	   "source": [
       "# Chapter 3: Vector Calculus"
	   ]
	},
{
		   "cell_type": "markdown",
		   "metadata": {},
		   "source": [
			"## Example 3.1: Distace_between_points.sce"
		   ]
		  },
  {
"cell_type": "code",
	   "execution_count": null,
	   "metadata": {
	    "collapsed": true
	   },
	   "outputs": [],
"source": [
"clear;\n",
"clc;\n",
"B1=[0,5,0],B2=[5,%pi/2,0],C1=[0 5 10],C2=[5 %pi/2 0],D1=[5 0 10],D2=[5,0,10],p=5;\n",
"BC=integrate('1','Z',0,10);\n",
"disp(BC);   //as dl will be along dz\n",
"CD=integrate('5','Q',0,%pi/2);\n",
"disp(CD);   //dl will be along d(phi)"
   ]
   }
,
{
		   "cell_type": "markdown",
		   "metadata": {},
		   "source": [
			"## Example 3.2: Circulation_of_a_vector.sce"
		   ]
		  },
  {
"cell_type": "code",
	   "execution_count": null,
	   "metadata": {
	    "collapsed": true
	   },
	   "outputs": [],
"source": [
"clear;\n",
"clc;\n",
"C1=integrate('x^2','x',1,0);//for y=0=z\n",
"C2=0;// as (az.ay)=0\n",
"C3=integrate('x^2 -1','x',0,1);\n",
"C4=integrate('-y-y^2','y',1,0);\n",
"C=C1+C2+C3+C4;\n",
"disp(C);"
   ]
   }
,
{
		   "cell_type": "markdown",
		   "metadata": {},
		   "source": [
			"## Example 3.9: Stroke_Theorem.sce"
		   ]
		  },
  {
"cell_type": "code",
	   "execution_count": null,
	   "metadata": {
	    "collapsed": true
	   },
	   "outputs": [],
"source": [
"clear;\n",
"clc;\n",
"ab=integrate('2*sin(P)','P',%pi/3,%pi/6);\n",
"bc=(3^.5 /2)*integrate('p','p',2,5);\n",
"Cd=integrate('5*sin(P)','P',%pi/6,%pi/3);\n",
"da=.5*integrate('p','p',5,2);\n",
"C1=ab+bc+Cd+da;\n",
"disp(C1, 'C1=');\n",
"C2=integrate('sin(Q)','Q',%pi/6,%pi/3)*integrate('(1+p)','p',2,5);\n",
"disp(C2,'C2=');\n",
"disp('Since C1=C2 hence stroke theorem is proved');\n",
""
   ]
   }
],
"metadata": {
		  "kernelspec": {
		   "display_name": "Scilab",
		   "language": "scilab",
		   "name": "scilab"
		  },
		  "language_info": {
		   "file_extension": ".sce",
		   "help_links": [
			{
			 "text": "MetaKernel Magics",
			 "url": "https://github.com/calysto/metakernel/blob/master/metakernel/magics/README.md"
			}
		   ],
		   "mimetype": "text/x-octave",
		   "name": "scilab",
		   "version": "0.7.1"
		  }
		 },
		 "nbformat": 4,
		 "nbformat_minor": 0
}
