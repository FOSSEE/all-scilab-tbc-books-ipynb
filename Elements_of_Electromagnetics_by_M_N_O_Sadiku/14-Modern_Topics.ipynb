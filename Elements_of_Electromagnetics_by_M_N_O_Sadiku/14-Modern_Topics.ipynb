{
"cells": [
 {
		   "cell_type": "markdown",
	   "metadata": {},
	   "source": [
       "# Chapter 14: Modern Topics"
	   ]
	},
{
		   "cell_type": "markdown",
		   "metadata": {},
		   "source": [
			"## Example 14.1: Formulae_based_questio.sce"
		   ]
		  },
  {
"cell_type": "code",
	   "execution_count": null,
	   "metadata": {
	    "collapsed": true
	   },
	   "outputs": [],
"source": [
"clear;\n",
"clc;\n",
"S11=.85*(cosd(-30)+%i*sind(-30));\n",
"S12=.07*(cosd(56)+%i*sind(56));\n",
"S21=1.68*(cosd(120)+%i*sind(120));\n",
"S22=.85*(cosd(-40)+%i*sind(-40));\n",
"Zl=75,Zo=75;\n",
"Tl=(Zl-Zo)/(Zl+Zo);\n",
"Ti=S11+ (S12*S21*Tl)/(1-S22*Tl);\n",
"disp(Ti,'Input reflection coefficient=')"
   ]
   }
,
{
		   "cell_type": "markdown",
		   "metadata": {},
		   "source": [
			"## Example 14.2: Optical_fibre.sce"
		   ]
		  },
  {
"cell_type": "code",
	   "execution_count": null,
	   "metadata": {
	    "collapsed": true
	   },
	   "outputs": [],
"source": [
"clear;\n",
"clc;\n",
"format('v',6)\n",
"d=80*(10)^-6;\n",
"n1=1.62,NA=.21,L=8*(10)^-7 ;\n",
"P=asind(NA);\n",
"disp(P,'Acceptance angle');\n",
"n2=sqrt(n1^2 - NA^2);\n",
"disp(n2,'Refractive index');\n",
"V=(%pi*d/L)*sqrt(n1^2 - n2^2);\n",
"disp(V,'No of modes');"
   ]
   }
,
{
		   "cell_type": "markdown",
		   "metadata": {},
		   "source": [
			"## Example 14.3: Optical_fibre.sce"
		   ]
		  },
  {
"cell_type": "code",
	   "execution_count": null,
	   "metadata": {
	    "collapsed": true
	   },
	   "outputs": [],
"source": [
"clear;\n",
"clc;\n",
"a=.25;\n",
"P=1-.4;\n",
"l=(10/a)*log10(1/P);\n",
"disp(l,'Distance travelled in Km');\n",
"\n",
""
   ]
   }
],
"metadata": {
		  "kernelspec": {
		   "display_name": "Scilab",
		   "language": "scilab",
		   "name": "scilab"
		  },
		  "language_info": {
		   "file_extension": ".sce",
		   "help_links": [
			{
			 "text": "MetaKernel Magics",
			 "url": "https://github.com/calysto/metakernel/blob/master/metakernel/magics/README.md"
			}
		   ],
		   "mimetype": "text/x-octave",
		   "name": "scilab",
		   "version": "0.7.1"
		  }
		 },
		 "nbformat": 4,
		 "nbformat_minor": 0
}
