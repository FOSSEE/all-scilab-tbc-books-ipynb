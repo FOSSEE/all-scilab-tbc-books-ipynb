{
"cells": [
 {
		   "cell_type": "markdown",
	   "metadata": {},
	   "source": [
       "# Chapter 10: Electromagnetic wave propagation"
	   ]
	},
{
		   "cell_type": "markdown",
		   "metadata": {},
		   "source": [
			"## Example 10.10: Reflection_of_plane_wave.sce"
		   ]
		  },
  {
"cell_type": "code",
	   "execution_count": null,
	   "metadata": {
	    "collapsed": true
	   },
	   "outputs": [],
"source": [
"clear;\n",
"clc;\n",
"kx=0,ky=.866,kz=.5,Eo=10^-9 /(36*%pi),Uo=4*%pi*10^-7;\n",
"k=sqrt(kx*kx+ky*ky+kz*kz);\n",
"w=k/(sqrt(Uo*Eo));\n",
"disp(w*10^-6,'w im Mrad/sec');\n",
"l=2*%pi/k;\n",
"disp(l,'lamda = ')"
   ]
   }
,
{
		   "cell_type": "markdown",
		   "metadata": {},
		   "source": [
			"## Example 10.1: Wave_equtio.sce"
		   ]
		  },
  {
"cell_type": "code",
	   "execution_count": null,
	   "metadata": {
	    "collapsed": true
	   },
	   "outputs": [],
"source": [
"clear;\n",
"clc;\n",
"format('v',6);\n",
"disp('Direction of wave propagation is -ax');\n",
"w=10^8,c=3*10^8;\n",
"B=w/c;\n",
"disp(B,'Value of beta=');\n",
"T=2*%pi/w;\n",
"disp(T/2*10^9,'Time taken to travel half of wave length in nS= ');\n",
"t=0\n",
"x=-2*%pi:%pi/16:2*%pi;\n",
"Ey=50*cos(10^8 *t +B*x);\n",
"subplot(2,2,1)\n",
"plot(x,Ey);\n",
"t=T/4;\n",
"Ey=50*cos(10^8 *t +B*x);\n",
"subplot(2,2,2)\n",
"plot(x,Ey);\n",
"t=T/2;\n",
"Ey=50*cos(10^8 *t +B*x);\n",
"subplot(2,2,3)\n",
"plot(x,Ey);"
   ]
   }
,
{
		   "cell_type": "markdown",
		   "metadata": {},
		   "source": [
			"## Example 10.2: Waves_in_dielectrics.sce"
		   ]
		  },
  {
"cell_type": "code",
	   "execution_count": null,
	   "metadata": {
	    "collapsed": true
	   },
	   "outputs": [],
"source": [
"clear;\n",
"clc;\n",
"Ho=10,n=200*%e^(%i*%pi/6),P=atan(3^.5),b=.5,e=10^-9 /(36*%pi);\n",
"Eo=n*Ho;\n",
"disp('a=w*sqrt(u*e/2*(1+(c/(w*e)^2)^.5)-1)');\n",
"disp('b=w*sqrt(u*e/2*(1+(c/(w*e)^2)^.5)+1)');\n",
"a=b*((sqrt(((1+(tan(P))^2)^.5)-1))/(sqrt(((1+(tan(P))^2)^.5)+1)));\n",
"disp(a,'Value of alpha=');\n",
"disp(1/a,'Skin depth = ')"
   ]
   }
,
{
		   "cell_type": "markdown",
		   "metadata": {},
		   "source": [
			"## Example 10.3: Waves_in_dielectrics.sce"
		   ]
		  },
  {
"cell_type": "code",
	   "execution_count": null,
	   "metadata": {
	    "collapsed": true
	   },
	   "outputs": [],
"source": [
"clear;\n",
"clc;\n",
"B=1,n=60*%pi,Ur=1,Eo=10^-9 /(36*%pi),Uo=4*%pi*10^-7;\n",
"Er=Uo*Ur/(n^2 *Eo);\n",
"disp(Er,'Er =');\n",
"w=B/sqrt(Eo*Er*Uo*Ur);\n",
"disp(w*10^-6, 'w in Mrad/sec');"
   ]
   }
,
{
		   "cell_type": "markdown",
		   "metadata": {},
		   "source": [
			"## Example 10.4: Waves_in_dielectrics.sce"
		   ]
		  },
  {
"cell_type": "code",
	   "execution_count": null,
	   "metadata": {
	    "collapsed": true
	   },
	   "outputs": [],
"source": [
"clear;\n",
"clc;\n",
"c=3,w=10^8,Ur=20,Eo=10^-9 /(36*%pi),Er=1,Uo=4*%pi*10^-7;\n",
"a=sqrt(Uo*Ur*w*c/2);\n",
"disp(a,'alpha = beta =');//as c/w*E>>1"
   ]
   }
,
{
		   "cell_type": "markdown",
		   "metadata": {},
		   "source": [
			"## Example 10.6: Waves_in_dielectrics.sce"
		   ]
		  },
  {
"cell_type": "code",
	   "execution_count": null,
	   "metadata": {
	    "collapsed": true
	   },
	   "outputs": [],
"source": [
"clear;\n",
"clc;\n",
"a=2*10^-3,b=6*10^-3,t=10^-3,l=2,c=5.8*10^7;\n",
"Ri=l/(c*%pi*a*a);\n",
"Ro=l/(c*%pi*((b+t)^2-b^2));\n",
"Rdc=Ro+Ri;\n",
"disp(Rdc*10^3,'Resistance in mOhm');"
   ]
   }
,
{
		   "cell_type": "markdown",
		   "metadata": {},
		   "source": [
			"## Example 10.7: Power.sce"
		   ]
		  },
  {
"cell_type": "code",
	   "execution_count": null,
	   "metadata": {
	    "collapsed": true
	   },
	   "outputs": [],
"source": [
"clear;\n",
"clc;\n",
"a=0,b=.8,Eo=10^-9 /(36*%pi),Uo=4*%pi*10^-7,Ur=1,w=2*%pi*10^7;\n",
"Er=b^2/(Uo*Eo*w*w);\n",
"disp(Er);\n",
"n=sqrt(Uo/(Eo*Er));\n",
"disp(n);"
   ]
   }
],
"metadata": {
		  "kernelspec": {
		   "display_name": "Scilab",
		   "language": "scilab",
		   "name": "scilab"
		  },
		  "language_info": {
		   "file_extension": ".sce",
		   "help_links": [
			{
			 "text": "MetaKernel Magics",
			 "url": "https://github.com/calysto/metakernel/blob/master/metakernel/magics/README.md"
			}
		   ],
		   "mimetype": "text/x-octave",
		   "name": "scilab",
		   "version": "0.7.1"
		  }
		 },
		 "nbformat": 4,
		 "nbformat_minor": 0
}
