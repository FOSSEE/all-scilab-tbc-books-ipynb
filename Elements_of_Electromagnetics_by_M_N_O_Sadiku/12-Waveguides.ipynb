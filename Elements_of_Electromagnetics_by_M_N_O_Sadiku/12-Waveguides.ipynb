{
"cells": [
 {
		   "cell_type": "markdown",
	   "metadata": {},
	   "source": [
       "# Chapter 12: Waveguides"
	   ]
	},
{
		   "cell_type": "markdown",
		   "metadata": {},
		   "source": [
			"## Example 12.1: Transverse_Modes.sce"
		   ]
		  },
  {
"cell_type": "code",
	   "execution_count": null,
	   "metadata": {
	    "collapsed": true
	   },
	   "outputs": [],
"source": [
"clear;\n",
"clc;\n",
"a=2.5*10^-2, b=1*10^-2,c=0, Ur=1,Er=4,C=3*10^8;\n",
"fc=0,m=0,n=0;\n",
"while(fc*10^-9<15.1)\n",
"fc=(C/(4*a))*sqrt(m^2 + (a*n/b)^2);\n",
"if ((fc*10^-9) < 15.1) then\n",
"n=n+1;\n",
"else disp(n-1,'Max value of n is ='); end\n",
"end \n",
"fc=0,m=0,n=0;\n",
"while(fc*10^-9<15.1)\n",
"fc=(C/(4*a))*sqrt(m^2 + (a*n/b)^2);\n",
"if ((fc*10^-9) < 15.1) then\n",
"m=m+1;\n",
"else disp(m-1,'Max value of m is ='); end\n",
"end \n",
"function[p]= modes(m,n);\n",
"p=(C/(4*a))*sqrt(m^2 + (a*n/b)^2);\n",
"if ((p*10^-9) < 15.1) then\n",
"disp([m n],'Transmission mode is possible'); else p=0;end\n",
"endfunction\n",
"for i=1:1:5, for j=1:1:2,modes(i,j);end;\n",
"end\n",
"    \n",
"\n",
"\n",
"\n",
"\n",
""
   ]
   }
,
{
		   "cell_type": "markdown",
		   "metadata": {},
		   "source": [
			"## Example 12.3: Transverse_Modes.sce"
		   ]
		  },
  {
"cell_type": "code",
	   "execution_count": null,
	   "metadata": {
	    "collapsed": true
	   },
	   "outputs": [],
"source": [
"clear;\n",
"clc;\n",
"format('v',7);\n",
"a=1.5*10^-2,b=.8*10^-2,c=0,Uo=4*%pi*10^-7,Ur=1,Eo=10^-9/(36*%pi),Er=4,C=3*10^8,w=%pi*10^11,m=1,n=3;\n",
"u=C/2;\n",
"f=w/(2*%pi);\n",
"fc=u*((m*m)/(a*a) + (n*n)/(b*b) )^.5/2;\n",
"disp(fc*10^-9,'Cutoff frequency = ');\n",
"B=w*sqrt(Uo*Ur*Eo*Er)*sqrt(1-(fc/f)^2);\n",
"disp(B,'Phase constant = ');\n",
"disp(%i*B,'Propagation constant = ');\n",
"n=377/sqrt(Er)*sqrt(1-(fc/f)^2);\n",
"disp(n,'Intrinsic wave impedence = ');"
   ]
   }
,
{
		   "cell_type": "markdown",
		   "metadata": {},
		   "source": [
			"## Example 12.4: Wave_propagation_in_guide.sce"
		   ]
		  },
  {
"cell_type": "code",
	   "execution_count": null,
	   "metadata": {
	    "collapsed": true
	   },
	   "outputs": [],
"source": [
"clear;\n",
"clc;\n",
"a=8.636*10^-2,b=4.318*10^-2,f=4*10^9;\n",
"u=3*10^8;\n",
"fc=u/(2*a);\n",
"disp(fc*10^-9,'Cut off frquency = ');\n",
"if(f>fc) then disp('As f>fc so TE10 mode will propagate')\n",
"else disp('It will not propagate') \n",
"end\n",
"Up=u/sqrt(1-(fc/f)^2);\n",
"disp(Up*10^-6,'Phase velocity in Mm/sec = ');\n",
"Ug=u*u/Up;\n",
"disp(Ug*10^-6,'Group velocity in Mm/sec = ');"
   ]
   }
,
{
		   "cell_type": "markdown",
		   "metadata": {},
		   "source": [
			"## Example 12.5: Power_Transmission.sce"
		   ]
		  },
  {
"cell_type": "code",
	   "execution_count": null,
	   "metadata": {
	    "collapsed": true
	   },
	   "outputs": [],
"source": [
"clear;\n",
"clc;\n",
"f=10*10^9,a=4*10^-2,b=2*10^-2,u=3*10^8,Pavg=2*10^-3;\n",
"fc=u/(2*a);\n",
"n=377/sqrt(1-(fc/f)^2);\n",
"E=sqrt(4*n*Pavg/(a*b));\n",
"disp(E,'Peak value of Electric field = ');"
   ]
   }
,
{
		   "cell_type": "markdown",
		   "metadata": {},
		   "source": [
			"## Example 12.6: Power_Transmission.sce"
		   ]
		  },
  {
"cell_type": "code",
	   "execution_count": null,
	   "metadata": {
	    "collapsed": true
	   },
	   "outputs": [],
"source": [
"clear;\n",
"clc;\n",
"cc=5.8*10^7, f=4.8*10^9,c=10^-17,Uo=4*%pi*10^-7,Eo=10^-9/(36*%pi),Er=2.55,z=60*10^-2,l=4.2*10^-2,b=2.6*10^-2,P=1.2*10^3;\n",
"n=377/sqrt(Er);\n",
"u=3*10^8 /sqrt(Er);\n",
"fc=u/(2*l);\n",
"ad=c*n/(2*sqrt(1-(fc/f^2)));\n",
"Rs=sqrt(%pi*f*Uo/cc);\n",
"ac=2*Rs*(.5+(b/l)*(fc/f)^2)/(b*n*sqrt(1-(fc/f)^2));\n",
"a=ac;\n",
"Pd=P*(%e^(2*a*z) -1);\n",
"disp(Pd,'Power dissipiated = ');"
   ]
   }
,
{
		   "cell_type": "markdown",
		   "metadata": {},
		   "source": [
			"## Example 12.8: Resonator.sce"
		   ]
		  },
  {
"cell_type": "code",
	   "execution_count": null,
	   "metadata": {
	    "collapsed": true
	   },
	   "outputs": [],
"source": [
"clear;\n",
"clc;\n",
"a=5*10^-2,b=4*10^-2,c=10*10^-2,C=5.8*10^7,Uo=4*%pi*10^-7;\n",
"f101=3.335*10^9;\n",
"d=sqrt(1/(%pi*f101*Uo*C));\n",
"Q=(a*a+c*c)*a*b*c/(d*(2*b*(a^3 + c^3)+a*c*(a*a+c*c)));\n",
"disp(Q,'Quality factor of TE101 = ');"
   ]
   }
],
"metadata": {
		  "kernelspec": {
		   "display_name": "Scilab",
		   "language": "scilab",
		   "name": "scilab"
		  },
		  "language_info": {
		   "file_extension": ".sce",
		   "help_links": [
			{
			 "text": "MetaKernel Magics",
			 "url": "https://github.com/calysto/metakernel/blob/master/metakernel/magics/README.md"
			}
		   ],
		   "mimetype": "text/x-octave",
		   "name": "scilab",
		   "version": "0.7.1"
		  }
		 },
		 "nbformat": 4,
		 "nbformat_minor": 0
}
