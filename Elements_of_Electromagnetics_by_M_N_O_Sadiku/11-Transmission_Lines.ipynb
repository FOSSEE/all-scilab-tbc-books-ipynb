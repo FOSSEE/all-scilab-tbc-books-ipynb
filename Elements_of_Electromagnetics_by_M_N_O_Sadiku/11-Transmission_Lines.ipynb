{
"cells": [
 {
		   "cell_type": "markdown",
	   "metadata": {},
	   "source": [
       "# Chapter 11: Transmission Lines"
	   ]
	},
{
		   "cell_type": "markdown",
		   "metadata": {},
		   "source": [
			"## Example 11.10: Microstrip_transmission_line.sce"
		   ]
		  },
  {
"cell_type": "code",
	   "execution_count": null,
	   "metadata": {
	    "collapsed": true
	   },
	   "outputs": [],
"source": [
"clear;\n",
"clc;\n",
"format('v',6);\n",
"Er=3.8, c=3*10^8;\n",
"r=4.5;//ratio w/h\n",
"Eeff= ((Er+1)/2)+ ((Er-1)/(2*(1+12/r)^.5));\n",
"disp(Eeff, 'The effective relative permittivity = ');\n",
"Zo=(120*%pi)/((r+1.393+ (.667*log(r+1.444)))*((Eeff)^.5));\n",
"disp(Zo, 'Character impedence of line');\n",
"f=10^10;\n",
"l=c/(f*sqrt(Eeff));\n",
"disp(l*1000, 'The wavelength of line at 10 GHz');"
   ]
   }
,
{
		   "cell_type": "markdown",
		   "metadata": {},
		   "source": [
			"## Example 11.11: Microstrip_transmission_line.sce"
		   ]
		  },
  {
"cell_type": "code",
	   "execution_count": null,
	   "metadata": {
	    "collapsed": true
	   },
	   "outputs": [],
"source": [
"clear;\n",
"clc;\n",
"h=1, w=.8, Er=6.6, P= atan(.0001), c= 5.8*10^7,f=10^10,mu=4*%pi*10^(-7),C=3*10^8;\n",
"r=w/h;\n",
"Ee=((Er+1)/2)+ ((Er-1)/(2*(1+12/r)^.5));\n",
"Zo=(120*%pi)/((r+1.393+ (.667*log(r+1.444)))*((Ee)^.5));\n",
"Rs=((%pi*f*mu)/c)^.5;\n",
"ac=8.686*Rs/(w*10^-3*Zo);\n",
"disp(ac,'Conduction Attenuation Constant = ');\n",
"l=C/(f*(Ee)^.5);\n",
"disp(l);\n",
"ad=27.3*(Ee-1)*Er*tan(P)/((Er-1)*Ee*l);\n",
"disp(ad,'Dielectric Attenuation Constant =');"
   ]
   }
,
{
		   "cell_type": "markdown",
		   "metadata": {},
		   "source": [
			"## Example 11.1: Inductance.sce"
		   ]
		  },
  {
"cell_type": "code",
	   "execution_count": null,
	   "metadata": {
	    "collapsed": true
	   },
	   "outputs": [],
"source": [
"clear;\n",
"clc;\n",
"format('v',6);\n",
"R=0,G=0,a=0,Ro=70,B=3,f=100*10^6;\n",
"w=2*%pi*f;\n",
"C=B/(w*Ro);\n",
"disp(C*10^12,'Capacitance per meter of line in pF')\n",
"L=Ro*Ro*C;\n",
"disp(L*10^9,'Inductance per meter in nHz')"
   ]
   }
,
{
		   "cell_type": "markdown",
		   "metadata": {},
		   "source": [
			"## Example 11.2: Finding_various_parameters.sce"
		   ]
		  },
  {
"cell_type": "code",
	   "execution_count": null,
	   "metadata": {
	    "collapsed": true
	   },
	   "outputs": [],
"source": [
"clear;\n",
"clc;\n",
"Zo=60,a=20*10^-3,u=.6*3*10^8, f=100*10^6;\n",
"R=a*Zo,disp(R,'R=');\n",
"L=Zo/u,disp(L*10^9,'L in nH=');\n",
"G=a*a/R,disp(G*10^6,'G in micro S per meter =');\n",
"C=1/(u*Zo),disp(C*10^12,'C in pF =');\n",
"l=u/f;disp(l,'l=');"
   ]
   }
,
{
		   "cell_type": "markdown",
		   "metadata": {},
		   "source": [
			"## Example 11.3: Calculative.sce"
		   ]
		  },
  {
"cell_type": "code",
	   "execution_count": null,
	   "metadata": {
	    "collapsed": true
	   },
	   "outputs": [],
"source": [
"clear;\n",
"clc;\n",
"format('v',6);\n",
"w=10^6,B=1,a=8,Vg=10;\n",
"Zo=60+40*%i,Zg=40,Zl=20+50*%i;\n",
"a=(a/8.686);;//Since 1Np=8.686 dB\n",
"Y=a+B*%i;\n",
"Yl=2*Y;\n",
"h=tanh(Yl);\n",
"Zin=Zo*(Zl+Zo*tanh(Yl))/(Zo+Zl*tanh(Yl));\n",
"disp(Zin,'The input impdence =');\n",
"Io=Vg/(Zin+Zg);//at  z=0\n",
"disp(Io*1000,'Sending end current in mA =');\n",
"Vo=Zin*Io;\n",
"Vop =(Vo+Zo*Io)/2;\n",
"Vom =(Vo-Zo*Io)/2;\n",
"Im= ((Vop * %e^-Y)/Zo)- ((Vom * %e^Y)/Zo);\n",
"disp(Im*1000, 'Current at middle line in mA= ');"
   ]
   }
,
{
		   "cell_type": "markdown",
		   "metadata": {},
		   "source": [
			"## Example 11.4: Impedance.sce"
		   ]
		  },
  {
"cell_type": "code",
	   "execution_count": null,
	   "metadata": {
	    "collapsed": true
	   },
	   "outputs": [],
"source": [
"clear;\n",
"clc;\n",
"format('v',6);\n",
"l=30,Zo=50,f=2*10^6,Zl=60+40*%i,u=.6*3*10^8;\n",
"w=2*%pi*f;\n",
"T=(Zl-Zo)/(Zl+Zo);\n",
"disp(T,'Reflection coefficient  =');\n",
"s=(1+abs(T))/(1-abs(T));\n",
"disp(s,'Standing wave ratio =');\n",
"B=w/u;disp(B*l);\n",
"Zin=Zo*(Zl+Zo*tan(B*l)*%i)/(Zo+Zl*tan(B*l)*%i);\n",
"disp(Zin);"
   ]
   }
,
{
		   "cell_type": "markdown",
		   "metadata": {},
		   "source": [
			"## Example 11.5: Smith_chart_problem.sce"
		   ]
		  },
  {
"cell_type": "code",
	   "execution_count": null,
	   "metadata": {
	    "collapsed": true
	   },
	   "outputs": [],
"source": [
"clear;\n",
"clc;\n",
"format('v',6);\n",
"Zl=100+150*%i;\n",
"Zo=75;\n",
"zl=Zl/Zo;\n",
"T=(Zl-Zo)/(Zl+Zo);\n",
"disp(T,'T =');\n",
"s=(1+abs(T))/(1-abs(T));\n",
"disp(s,'s =')\n",
"format('v',5);\n",
"Yl=1/Zl;\n",
"disp(Yl*1000,'Load admittance in mS');\n",
"B=2*%pi,l=.4;\n",
"Zin=Zo*(Zl+Zo*tan(B*l)*%i)/(Zo+Zl*tan(B*l)*%i);\n",
"format('v',6);\n",
"disp(Zin,'Zin at .4 l from load')//for .4l\n",
"B=2*%pi,l=.6;\n",
"Zin=Zo*(Zl+Zo*tan(B*l)*%i)/(Zo+Zl*tan(B*l)*%i);\n",
"format('v',6);\n",
"disp(Zin,'Zin at .6 l from load')//for .6l\n",
"\n",
""
   ]
   }
,
{
		   "cell_type": "markdown",
		   "metadata": {},
		   "source": [
			"## Example 11.6: Application_of_transmission_lines.sce"
		   ]
		  },
  {
"cell_type": "code",
	   "execution_count": null,
	   "metadata": {
	    "collapsed": true
	   },
	   "outputs": [],
"source": [
"clear;\n",
"clc;\n",
"s=2, l1=11,l2=19,ma=24,mi=16,u=3*10^8,Zo=50;\n",
"l=(l2-l1)*2;\n",
"disp(l,'Lamda =');\n",
"f=u/l;\n",
"disp(f*10^-6,'Frequency im MHz =');\n",
"L=(24-19)/l;//Let us assume load is at 24cm\n",
"zl=1.4+.75*%i; //by smith chart\n",
"Zl=Zo*zl;\n",
"disp(Zl,'Zl =')"
   ]
   }
,
{
		   "cell_type": "markdown",
		   "metadata": {},
		   "source": [
			"## Example 11.7: Application_of_transmission_lines.sce"
		   ]
		  },
  {
"cell_type": "code",
	   "execution_count": null,
	   "metadata": {
	    "collapsed": true
	   },
	   "outputs": [],
"source": [
"clear;\n",
"clc;\n",
"format('v',6);\n",
"Zo=100, Zl=40+30*%i;\n",
"Yo=1/Zo;\n",
"yl=Zo/Zl;\n",
"ys1=1.04*%i, ys2=-1.04*%i; //By smith chart\n",
"Ys1=Yo*ys1, Ys2=Yo*ys2;\n",
"disp([Ys1*1000 Ys2*1000],'Possible values of sub admittance in mS =');\n",
"la=.5 - (62-(-39))/720 ;disp(la, 'distance between load and antenna at A devided by Lamda');\n",
"lb= (62-39)/720;disp(lb, 'distance between load and antenna at B devided by Lamda');//With the help of figure\n",
"da=88/720, db= 272/720;\n",
"format('v',7);\n",
"disp(da,db,'Sub length devided by Lamda');"
   ]
   }
,
{
		   "cell_type": "markdown",
		   "metadata": {},
		   "source": [
			"## Example 11.8: Transient_of_transmission_lines.sce"
		   ]
		  },
  {
"cell_type": "code",
	   "execution_count": null,
	   "metadata": {
	    "collapsed": true
	   },
	   "outputs": [],
"source": [
"clear;\n",
"clc;\n",
"Zg=100,Zo=50,Zl=200,u=3*10^8,l=100,Vg=12;\n",
"Tg=(Zg-Zo)/(Zg+Zo);\n",
"Tl=(Zl-Zo)/(Zl+Zo);\n",
"t1=l/u;"
   ]
   }
],
"metadata": {
		  "kernelspec": {
		   "display_name": "Scilab",
		   "language": "scilab",
		   "name": "scilab"
		  },
		  "language_info": {
		   "file_extension": ".sce",
		   "help_links": [
			{
			 "text": "MetaKernel Magics",
			 "url": "https://github.com/calysto/metakernel/blob/master/metakernel/magics/README.md"
			}
		   ],
		   "mimetype": "text/x-octave",
		   "name": "scilab",
		   "version": "0.7.1"
		  }
		 },
		 "nbformat": 4,
		 "nbformat_minor": 0
}
