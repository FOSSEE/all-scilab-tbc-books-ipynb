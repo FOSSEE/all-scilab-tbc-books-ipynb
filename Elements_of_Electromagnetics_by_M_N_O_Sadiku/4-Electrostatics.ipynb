{
"cells": [
 {
		   "cell_type": "markdown",
	   "metadata": {},
	   "source": [
       "# Chapter 4: Electrostatics"
	   ]
	},
{
		   "cell_type": "markdown",
		   "metadata": {},
		   "source": [
			"## Example 4.10: Potential.sce"
		   ]
		  },
  {
"cell_type": "code",
	   "execution_count": null,
	   "metadata": {
	    "collapsed": true
	   },
	   "outputs": [],
"source": [
"clear;\n",
"clc;\n",
"format('v',6);\n",
"Q1=-4;\n",
"Q2=5;\n",
"R1=[1 0 1]-[2 -1 3];\n",
"R2=[1 0 1]-[0 4 -2];\n",
"e=10^-9/(36*%pi);\n",
"mod_R1=(R1(1,1)^2+R1(1,2)^2+R1(1,3)^2)^.5;\n",
"mod_R2=(R2(1,1)^2+R2(1,2)^2+R2(1,3)^2)^.5;\n",
"C0=0;\n",
"V=10^-6*(([Q1/mod_R1]+[Q2/mod_R2])/(4*%pi*e))+C0;\n",
"disp(V*10^-3,'V(1,0,1)(in kV)=');"
   ]
   }
,
{
		   "cell_type": "markdown",
		   "metadata": {},
		   "source": [
			"## Example 4.12: Relationship_between_E_and_V.sce"
		   ]
		  },
  {
"cell_type": "code",
	   "execution_count": null,
	   "metadata": {
	    "collapsed": true
	   },
	   "outputs": [],
"source": [
"clear;\n",
"clc;\n",
"q=10*10^-6;\n",
"function[V]=pot(r,P,Q);\n",
"V=10*sin(P)*cos(Q)/r^2;\n",
"endfunction\n",
"Va=pot(1,%pi/6,2*%pi/3);\n",
"Vb=pot(4,%pi/2,%pi/3);\n",
"W=q*(Vb-Va);\n",
"disp(W*10^6,'Work done in uJoule');"
   ]
   }
,
{
		   "cell_type": "markdown",
		   "metadata": {},
		   "source": [
			"## Example 4.13: Dipole.sce"
		   ]
		  },
  {
"cell_type": "code",
	   "execution_count": null,
	   "metadata": {
	    "collapsed": true
	   },
	   "outputs": [],
"source": [
"clear;\n",
"clc;\n",
"p1=-5*10^-9, p2=9*10^-9;\n",
"r1=2,r2=-3,e=10^-9/(36*%pi);\n",
"V=(1/(4*%pi*e))*((p1*abs(r1)/r1^3)+(p2*abs(r2)/r2^3));\n",
"disp(V);"
   ]
   }
,
{
		   "cell_type": "markdown",
		   "metadata": {},
		   "source": [
			"## Example 4.14: Energy_Density.sce"
		   ]
		  },
  {
"cell_type": "code",
	   "execution_count": null,
	   "metadata": {
	    "collapsed": true
	   },
	   "outputs": [],
"source": [
"clear;\n",
"clc;\n",
"format('v',6);\n",
"Q1=-1*10^-9 ,Q2=4*10^-9,Q3=3*10^-9,e=10^-9/(36*%pi);\n",
"V1=(1/(4*%pi*e) * (Q2+Q3)),V2=(1/(4*%pi*e)*(Q1+Q3/(2^.5)) ),V3=(1/(4*%pi*e) * (Q1+Q2/(2^.5)));\n",
"W=.5*((V1*Q1)+(V2*Q2)+(V3*Q3));\n",
"disp(W*10^9,'Energy in nJ');"
   ]
   }
,
{
		   "cell_type": "markdown",
		   "metadata": {},
		   "source": [
			"## Example 4.1: Coulomb_Law.sce"
		   ]
		  },
  {
"cell_type": "code",
	   "execution_count": null,
	   "metadata": {
	    "collapsed": true
	   },
	   "outputs": [],
"source": [
"clear;\n",
"clc;\n",
"format('v',6);\n",
"Q1=1;\n",
"Q2=-2;\n",
"Q=10*10^-9;\n",
"P1=[0 3 1]-[3 2 -1];\n",
"P2=[0 3 1]-[-1 -1 4];\n",
"e=10^-9/(36*%pi);\n",
"det1=(P1(1,1)^2+P1(1,2)^2+P1(1,3)^2)^.5;\n",
"det2=(P2(1,1)^2+P2(1,2)^2+P2(1,3)^2)^.5;\n",
"F=[[(Q*Q1)*(P1)]/(4*%pi*e*(det1)^3)]+[[(Q*Q2)*(P2)]/(4*%pi*e*(det2)^3)];\n",
"E=[(10^-6)*(F/Q)];\n",
"disp(F,'F(in mN)=');\n",
"disp(E,'At that point E(in kV)=');"
   ]
   }
,
{
		   "cell_type": "markdown",
		   "metadata": {},
		   "source": [
			"## Example 4.6: Electric_Field.sce"
		   ]
		  },
  {
"cell_type": "code",
	   "execution_count": null,
	   "metadata": {
	    "collapsed": true
	   },
	   "outputs": [],
"source": [
"clear;\n",
"clc;\n",
"format('v',6);\n",
"p1=10*10^-9;\n",
"p2=15*10^-9;\n",
"pl=10*%pi*10^-9;\n",
"e=(10^-9)/(36*%pi);\n",
"E1=(p1/(2*e))*[-1 0 0];\n",
"E2=(p2/(2*e))*[0 1 0];\n",
"R=[1 0 -3];\n",
"p=(R(1,1)^2+R(1,2)^2+R(1,3)^2);\n",
"a=R/p;\n",
"E3=(pl/(2*%pi*e))*a;\n",
"E=E1+E2+E3;\n",
"disp(E,'E(in V) at (1,1,-1)=');"
   ]
   }
,
{
		   "cell_type": "markdown",
		   "metadata": {},
		   "source": [
			"## Example 4.7: Electric_Flux.sce"
		   ]
		  },
  {
"cell_type": "code",
	   "execution_count": null,
	   "metadata": {
	    "collapsed": true
	   },
	   "outputs": [],
"source": [
"clear;\n",
"clc;\n",
"format('v',12);\n",
"e=10^-9;\n",
"Q=-5*%pi*10^-3;\n",
"pl=3*%pi*10^-3;\n",
"r=[4 0 3];\n",
"p=(r(1,1)^2+r(1,2)^2+r(1,3)^2)^.5;\n",
"r1=[4,0,0];\n",
"R=r-r1;\n",
"mod_R=(R(1,1)^2+R(1,2)^2+R(1,3)^2)^.5;\n",
"Dq=(Q*R)/(4*%pi*mod_R^3);\n",
"ap=r/p;\n",
"Dl=(pl/(2*%pi*p))*ap;\n",
"D=Dq+Dl;\n",
"disp(D*10^6,'Flux density D(in microC) due to a point charge and a infinite line charge');"
   ]
   }
,
{
		   "cell_type": "markdown",
		   "metadata": {},
		   "source": [
			"## Example 4.8: Guass_Law.sce"
		   ]
		  },
  {
"cell_type": "code",
	   "execution_count": null,
	   "metadata": {
	    "collapsed": true
	   },
	   "outputs": [],
"source": [
"clear;\n",
"clc;\n",
"r1=0,r2=1,z1=-2,z2=2,q1=0,q2=2*%pi;\n",
"Q=integrate('p^2','p',r1,r2)*integrate('(cos(Q)^2)','Q',q1,q2)*integrate('1','z',z1,z2);\n",
"disp(Q,'Total charge is =');"
   ]
   }
],
"metadata": {
		  "kernelspec": {
		   "display_name": "Scilab",
		   "language": "scilab",
		   "name": "scilab"
		  },
		  "language_info": {
		   "file_extension": ".sce",
		   "help_links": [
			{
			 "text": "MetaKernel Magics",
			 "url": "https://github.com/calysto/metakernel/blob/master/metakernel/magics/README.md"
			}
		   ],
		   "mimetype": "text/x-octave",
		   "name": "scilab",
		   "version": "0.7.1"
		  }
		 },
		 "nbformat": 4,
		 "nbformat_minor": 0
}
