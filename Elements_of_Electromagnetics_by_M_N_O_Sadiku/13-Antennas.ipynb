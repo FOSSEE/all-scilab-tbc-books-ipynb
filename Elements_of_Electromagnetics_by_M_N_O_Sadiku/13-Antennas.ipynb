{
"cells": [
 {
		   "cell_type": "markdown",
	   "metadata": {},
	   "source": [
       "# Chapter 13: Antennas"
	   ]
	},
{
		   "cell_type": "markdown",
		   "metadata": {},
		   "source": [
			"## Example 13.10: Radar_Equtio.sce"
		   ]
		  },
  {
"cell_type": "code",
	   "execution_count": null,
	   "metadata": {
	    "collapsed": true
	   },
	   "outputs": [],
"source": [
"clear;\n",
"clc;\n",
"c=3*(10)^8, f=3*(10)^9,Aet=9,r1=1.852*(10)^5,r2=4*r1,r3=5.556*10^5,Pr=200*(10)^3,a=20;\n",
"l=c/f;\n",
"Gdt=4*%pi*Aet/(l*l);\n",
"P1=Gdt*Pr/(4*%pi*r1*r1);\n",
"P2=Gdt*Pr/(4*%pi*r2*r2);\n",
"disp(P1*1000,'Signal power density at 100nmile in mWatt');\n",
"disp(P2*1000,'Signal power density at 400nmile in mWatt');\n",
"Pr=Aet*a*Gdt*Pr/(4*%pi*r3*r3)^2;\n",
"disp(Pr*10^12,'Power of reflected signal in picoWatt');\n",
""
   ]
   }
,
{
		   "cell_type": "markdown",
		   "metadata": {},
		   "source": [
			"## Example 13.1: Dipoles.sce"
		   ]
		  },
  {
"cell_type": "code",
	   "execution_count": null,
	   "metadata": {
	    "collapsed": true
	   },
	   "outputs": [],
"source": [
"clear;\n",
"clc;\n",
"format('v',5);\n",
"function[P,I]=powerhert(H,P,r,B,dl)\n",
"I=H*4*r*%pi/((B*(dl))*sin(P));    \n",
"P=40*%pi*%pi*I*I*dl*dl;\n",
"disp(P*1000,'Power transmit by Hertizian dipole in mWatt');\n",
"endfunction\n",
"powerhert((5*(10)^-6),%pi/2,2000,(2*%pi),1/25);\n",
"function[P,I]=powerhw(H,P,r)\n",
"I=H*2*r*%pi*sin(P)/(cos((%pi/2)*cos(P)));R=73;    \n",
"P=(I*I*R)/2;\n",
"disp(P*1000,'Power transmit by Half wave dipole in mWatt');\n",
"endfunction\n",
"powerhw((5*(10)^-6),%pi/2,2000);\n",
"function[P,I]=powerqw(H,P,r)\n",
"I=H*2*r*%pi*sin(P)/(cos((%pi/2)*cos(P)));R=36.56;    \n",
"P=(I*I*R)/2;format('v',4);\n",
"disp(P*1000,'Power transmit by Quarterwave monopole in mWatt');\n",
"endfunction\n",
"powerqw((5*(10)^-6),%pi/2,2000);\n",
"function[P,I]=powersingloop(H,r,k);R=192.3;\n",
"I=H*r/(%pi*%pi*10*k*k);\n",
"P=(I*I*R)/2;\n",
"disp(P*1000,'Power transmit by 10 turn loop antena in mWatt');\n",
"endfunction\n",
"powersingloop((5*(10)^-6),2000,1/20);\n",
"\n",
"\n",
"\n",
""
   ]
   }
,
{
		   "cell_type": "markdown",
		   "metadata": {},
		   "source": [
			"## Example 13.2: Dipoles.sce"
		   ]
		  },
  {
"cell_type": "code",
	   "execution_count": null,
	   "metadata": {
	    "collapsed": true
	   },
	   "outputs": [],
"source": [
"clear;\n",
"clc;\n",
"format('v',6);\n",
"c=3*10^8;\n",
"f=50*10^6;\n",
"disp(c/(2*f),'Length of halfdipole in meter');\n",
"function[P,I]=curpow(E,P,r)\n",
"n=120*%pi; R=73;\n",
"I=E*2*r*%pi*sin(P)/(n*(cos((%pi/2)*cos(P))));   \n",
"P=(I*I*R)/2;\n",
"disp(I*1000,'Current fed to antenna in mA');\n",
"disp(P*1000,'Power radiated by Antenna in mWatt');\n",
"endfunction\n",
"curpow((10*(10)^-6),%pi/2,500*10^3);\n",
"Zl=73+42.5*%i,Zo=75;\n",
"T=(Zl-Zo)/(Zl+Zo);\n",
"s=(1+abs(T))/(1-abs(T));\n",
"disp(s,'Standing wave ratio');"
   ]
   }
,
{
		   "cell_type": "markdown",
		   "metadata": {},
		   "source": [
			"## Example 13.3: Antennas_Chracteristics.sce"
		   ]
		  },
  {
"cell_type": "code",
	   "execution_count": null,
	   "metadata": {
	    "collapsed": true
	   },
	   "outputs": [],
"source": [
"clear;\n",
"clc;\n",
"G=(integrate('(sin(P))^3','P',0,%pi))*integrate('1','Q',0,2*%pi)\n",
"Gd=4*%pi/G;\n",
"disp(Gd)"
   ]
   }
,
{
		   "cell_type": "markdown",
		   "metadata": {},
		   "source": [
			"## Example 13.4: Antennas_Chracteristics.sce"
		   ]
		  },
  {
"cell_type": "code",
	   "execution_count": null,
	   "metadata": {
	    "collapsed": true
	   },
	   "outputs": [],
"source": [
"clear;\n",
"clc;\n",
"format('v',7);\n",
"G=5;\n",
"r=10*10^3;\n",
"P=20*10^3;\n",
"n=120*%pi;\n",
"Gd=10^(G/10);\n",
"E=sqrt(n*Gd*P/(2*%pi*r*r));\n",
"disp(E,'Electric field intensity at 10 km =');"
   ]
   }
,
{
		   "cell_type": "markdown",
		   "metadata": {},
		   "source": [
			"## Example 13.5: Antennas_Chracteristics.sce"
		   ]
		  },
  {
"cell_type": "code",
	   "execution_count": null,
	   "metadata": {
	    "collapsed": true
	   },
	   "outputs": [],
"source": [
"clear;\n",
"clc;\n",
"Umax=2;\n",
"Uavg=(1/(4*%pi))*2*integrate('(sin (P))^2','P',0,%pi)*integrate('(sin (Q))^3','Q',0,%pi);\n",
"D=Umax/Uavg;\n",
"disp(D,'Directivity of antenna');"
   ]
   }
,
{
		   "cell_type": "markdown",
		   "metadata": {},
		   "source": [
			"## Example 13.8: Friis_Equatio.sce"
		   ]
		  },
  {
"cell_type": "code",
	   "execution_count": null,
	   "metadata": {
	    "collapsed": true
	   },
	   "outputs": [],
"source": [
"clear;\n",
"clc;\n",
"c=3*10^8,f=30*10^6,E=2*10^-3;\n",
"l=c/f;\n",
"n=120*%pi,R=73;\n",
"format('v',5);\n",
"Gdmax=n/(%pi*R);\n",
"format('v',6);\n",
"Amax=(l^2 /(4*%pi))*Gdmax;\n",
"disp(Amax,'Maximum effective area');\n",
"Pr=(E*E*Amax)/(2*n);\n",
"disp(Pr*(10^9),'Power rerceived in nWatt')"
   ]
   }
,
{
		   "cell_type": "markdown",
		   "metadata": {},
		   "source": [
			"## Example 13.9: Friis_Equatio.sce"
		   ]
		  },
  {
"cell_type": "code",
	   "execution_count": null,
	   "metadata": {
	    "collapsed": true
	   },
	   "outputs": [],
"source": [
"clear;\n",
"clc;\n",
"Gt=25,Gr=18,r=200,Pr=5*10^-3 ;\n",
"Gdt=10^(Gt/10),Gdr=10^(Gr/10);\n",
"Pt=Pr*(4*%pi*r)^2 /(Gdr*Gdt);\n",
"disp(Pt,'Minimum power received in Watt =');"
   ]
   }
],
"metadata": {
		  "kernelspec": {
		   "display_name": "Scilab",
		   "language": "scilab",
		   "name": "scilab"
		  },
		  "language_info": {
		   "file_extension": ".sce",
		   "help_links": [
			{
			 "text": "MetaKernel Magics",
			 "url": "https://github.com/calysto/metakernel/blob/master/metakernel/magics/README.md"
			}
		   ],
		   "mimetype": "text/x-octave",
		   "name": "scilab",
		   "version": "0.7.1"
		  }
		 },
		 "nbformat": 4,
		 "nbformat_minor": 0
}
