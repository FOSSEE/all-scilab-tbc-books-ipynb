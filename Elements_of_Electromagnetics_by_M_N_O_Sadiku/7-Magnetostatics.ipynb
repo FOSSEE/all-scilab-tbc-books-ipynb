{
"cells": [
 {
		   "cell_type": "markdown",
	   "metadata": {},
	   "source": [
       "# Chapter 7: Magnetostatics"
	   ]
	},
{
		   "cell_type": "markdown",
		   "metadata": {},
		   "source": [
			"## Example 7.1: Biot_Savart_Law.sce"
		   ]
		  },
  {
"cell_type": "code",
	   "execution_count": null,
	   "metadata": {
	    "collapsed": true
	   },
	   "outputs": [],
"source": [
"clear;\n",
"clc;\n",
"a1=acos(0),a2=acos(2/29^.5),p=5,I=10;\n",
"H=I/(4*%pi*p)*(cos(a1)-cos(a2));\n",
"disp(H*1000,'H at (0,0,5) in mA ');"
   ]
   }
,
{
		   "cell_type": "markdown",
		   "metadata": {},
		   "source": [
			"## Example 7.2: Biot_Savart_Law.sce"
		   ]
		  },
  {
"cell_type": "code",
	   "execution_count": null,
	   "metadata": {
	    "collapsed": true
	   },
	   "outputs": [],
"source": [
"clear;\n",
"clc;\n",
"a1=acos(0),a2=acos(1),p=5,I=3;\n",
"Hz=I/(4*%pi*p)*(cos(a2)-cos(a1))*[.8 .6 0];\n",
"a2=acos(1),a1=acos(.6),p=4,I=3;\n",
"Hx=I/(4*%pi*p)*(cos(a2)-cos(a1))*[0 0 1];\n",
"H=Hx+Hz;\n",
"disp(H*1000,'H at (0,0,5) in mA ');"
   ]
   }
,
{
		   "cell_type": "markdown",
		   "metadata": {},
		   "source": [
			"## Example 7.5: MF_due_to_infinite_long_sheet.sce"
		   ]
		  },
  {
"cell_type": "code",
	   "execution_count": null,
	   "metadata": {
	    "collapsed": true
	   },
	   "outputs": [],
"source": [
"clear;\n",
"clc;\n",
"i0=-10,i4=10;\n",
"H0=.5*i0*-1;// in the positive Y direction\n",
"H4=.5*i4*-1*-1;//in the positive Y direction\n",
"H=H0+H4;\n",
"disp(H, 'H at (1,1,1) =')\n",
"H0=.5*i0*-1;//in the positive Y direction\n",
"H4=.5*i4*-1;//in the negative Y direction\n",
"H=H0+H4;\n",
"disp(H,'H at (0,-3,10 =)');"
   ]
   }
,
{
		   "cell_type": "markdown",
		   "metadata": {},
		   "source": [
			"## Example 7.7: Magnetic_vector_potential.sce"
		   ]
		  },
  {
"cell_type": "code",
	   "execution_count": null,
	   "metadata": {
	    "collapsed": true
	   },
	   "outputs": [],
"source": [
"clear;\n",
"clc;\n",
"disp('Vector potential A=-p^2/4');\n",
"Q=%pi/2,p1=1,p2=2,z1=0,z2=5\n",
"Y=.5*integrate('p','p',p1,p2)*integrate('1','z',z1,z2);\n",
"disp(Y,'Total magnetic flux= ')"
   ]
   }
],
"metadata": {
		  "kernelspec": {
		   "display_name": "Scilab",
		   "language": "scilab",
		   "name": "scilab"
		  },
		  "language_info": {
		   "file_extension": ".sce",
		   "help_links": [
			{
			 "text": "MetaKernel Magics",
			 "url": "https://github.com/calysto/metakernel/blob/master/metakernel/magics/README.md"
			}
		   ],
		   "mimetype": "text/x-octave",
		   "name": "scilab",
		   "version": "0.7.1"
		  }
		 },
		 "nbformat": 4,
		 "nbformat_minor": 0
}
