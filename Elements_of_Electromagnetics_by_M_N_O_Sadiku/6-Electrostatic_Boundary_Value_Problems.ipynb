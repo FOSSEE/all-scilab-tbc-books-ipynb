{
"cells": [
 {
		   "cell_type": "markdown",
	   "metadata": {},
	   "source": [
       "# Chapter 6: Electrostatic Boundary Value Problems"
	   ]
	},
{
		   "cell_type": "markdown",
		   "metadata": {},
		   "source": [
			"## Example 6.12: Capacitance.sce"
		   ]
		  },
  {
"cell_type": "code",
	   "execution_count": null,
	   "metadata": {
	    "collapsed": true
	   },
	   "outputs": [],
"source": [
"clear;\n",
"clc;\n",
"Eo=10^-9 /(36*%pi),Er1=4,Er2=6,d=5*10^-3,S=30*10^-4;\n",
"C1=Eo*Er1*S*2/d;\n",
"C2=Eo*Er2*S*2/d;\n",
"C=C1*C2/(C1+C2);//Since they are in series\n",
"disp(C*10^12,'Capacitance of capacitor in figure a in pF =');\n",
"C1=Eo*Er1*S/(2*d);\n",
"C2=Eo*Er2*S/(2*d);\n",
"C=C1+C2;\n",
"disp(C*10^12,'Capacitance of capacitor in figure b in pF = ')"
   ]
   }
],
"metadata": {
		  "kernelspec": {
		   "display_name": "Scilab",
		   "language": "scilab",
		   "name": "scilab"
		  },
		  "language_info": {
		   "file_extension": ".sce",
		   "help_links": [
			{
			 "text": "MetaKernel Magics",
			 "url": "https://github.com/calysto/metakernel/blob/master/metakernel/magics/README.md"
			}
		   ],
		   "mimetype": "text/x-octave",
		   "name": "scilab",
		   "version": "0.7.1"
		  }
		 },
		 "nbformat": 4,
		 "nbformat_minor": 0
}
