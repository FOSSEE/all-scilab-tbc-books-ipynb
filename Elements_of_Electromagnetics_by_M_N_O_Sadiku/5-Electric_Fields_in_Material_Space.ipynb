{
"cells": [
 {
		   "cell_type": "markdown",
	   "metadata": {},
	   "source": [
       "# Chapter 5: Electric Fields in Material Space"
	   ]
	},
{
		   "cell_type": "markdown",
		   "metadata": {},
		   "source": [
			"## Example 5.10: Boundary_Conditions.sce"
		   ]
		  },
  {
"cell_type": "code",
	   "execution_count": null,
	   "metadata": {
	    "collapsed": true
	   },
	   "outputs": [],
"source": [
"clear;\n",
"clc;\n",
"format('v',12);\n",
"disp(0,'Point(3,-2,2) is in conductor region hence E=D=');\n",
"ps=2;\n",
"Dn=ps;\n",
"D=[0 Dn 0];\n",
"e=(10^-9)/(36*%pi);\n",
"er=2;\n",
"E=D/(e*er);\n",
"disp(D,'D=');\n",
"disp(E,'E=');"
   ]
   }
,
{
		   "cell_type": "markdown",
		   "metadata": {},
		   "source": [
			"## Example 5.1: Current_through_conductors.sce"
		   ]
		  },
  {
"cell_type": "code",
	   "execution_count": null,
	   "metadata": {
	    "collapsed": true
	   },
	   "outputs": [],
"source": [
"clear;\n",
"clc;\n",
"r=.2;\n",
"disp('J=1/r3(2cosP ar + sinP a)')\n",
"I=(2/r)*integrate('sin(P)*cos(P)','P',0,%pi/2)*integrate('1','Q',0,2*%pi);\n",
"disp(I,'Current passing through Hemispherical shell');\n",
"I=(2/r)*integrate('sin(P)*cos(P)','P',0,%pi,10^-10)*integrate('1','Q',0,2*%pi);\n",
"disp(I,' Current through spherical shell= ');"
   ]
   }
,
{
		   "cell_type": "markdown",
		   "metadata": {},
		   "source": [
			"## Example 5.2: Charge_Transport.sce"
		   ]
		  },
  {
"cell_type": "code",
	   "execution_count": null,
	   "metadata": {
	    "collapsed": true
	   },
	   "outputs": [],
"source": [
"clear;\n",
"clc;\n",
"format('v',12);\n",
"ps=10^-7;\n",
"u=2;\n",
"w=0.1;\n",
"t=5;\n",
"I=ps*u*w;\n",
"Q=I*t*10^9;\n",
"disp(Q,'charge(in nC) collected in 5 sec=');"
   ]
   }
,
{
		   "cell_type": "markdown",
		   "metadata": {},
		   "source": [
			"## Example 5.3: Charge_Transport.sce"
		   ]
		  },
  {
"cell_type": "code",
	   "execution_count": null,
	   "metadata": {
	    "collapsed": true
	   },
	   "outputs": [],
"source": [
"clear;\n",
"clc;\n",
"format('v',12);\n",
"n=10^29;\n",
"e=-1.6*10^-19;\n",
"pv=n*e;\n",
"disp(pv*10^-6,'(a) pv(in MC/m3)=');\n",
"sigma=5*10^7;\n",
"E=10^-2;\n",
"J=sigma*E;\n",
"disp(J*10^-3,'(b) J(in kA/m2)=');\n",
"S=(%pi*10^-6)/4;\n",
"I=J*S;\n",
"format('v',6);\n",
"disp(I,'(c) I(in A)=');\n",
"u=J/pv;\n",
"format('v',12);\n",
"disp(u,'(d) u(in m/s)=');"
   ]
   }
,
{
		   "cell_type": "markdown",
		   "metadata": {},
		   "source": [
			"## Example 5.4: Conductor.sce"
		   ]
		  },
  {
"cell_type": "code",
	   "execution_count": null,
	   "metadata": {
	    "collapsed": true
	   },
	   "outputs": [],
"source": [
"clear;\n",
"clc;\n",
"format('v',6);\n",
"l=4;\n",
"d=3;\n",
"r=0.5;\n",
"S=(d^2-(%pi*r^2))*10^-4;\n",
"sigma=5*10^6;\n",
"R=(l*10^6)/(sigma*S);\n",
"disp(R,'R(in microohm)=');        "
   ]
   }
,
{
		   "cell_type": "markdown",
		   "metadata": {},
		   "source": [
			"## Example 5.6: Dielectric.sce"
		   ]
		  },
  {
"cell_type": "code",
	   "execution_count": null,
	   "metadata": {
	    "collapsed": true
	   },
	   "outputs": [],
"source": [
"clear;\n",
"clc;\n",
"format('v',6);\n",
"e0=10^-9/(36*%pi);\n",
"er=2.55;\n",
"E=10^4;\n",
"d=1.5*10^-3;\n",
"D=e0*er*E*10^9;\n",
"disp(D,'D(in nC/m^2)=');\n",
"xe=1.55;\n",
"P=xe*e0*E*10^9;\n",
"disp(P,'P(in nC/m^2)=');\n",
"ps=D;\n",
"disp(ps,'ps(in nC/m^2)=');\n",
"pps=P;\n",
"disp(pps,'pps(in nC/m^2)=');\n",
"V=E*d;\n",
"disp(V,'V(in V)=');"
   ]
   }
,
{
		   "cell_type": "markdown",
		   "metadata": {},
		   "source": [
			"## Example 5.7: Dielectric.sce"
		   ]
		  },
  {
"cell_type": "code",
	   "execution_count": null,
	   "metadata": {
	    "collapsed": true
	   },
	   "outputs": [],
"source": [
"clear;\n",
"clc;\n",
"format('v',6);\n",
"Q=2*10^-12;\n",
"e0=(10^-9)/(36*%pi);\n",
"er=5.7;\n",
"xr=er-1;\n",
"r=10^-1;\n",
"E=Q*10^12/(4*%pi*e0*er*r^2);\n",
"P=xr*e0*E;\n",
"pps=P*1;\n",
"disp(pps,'(a) pps(in pC/m^2)=');\n",
"Q1=-4*10^-12;\n",
"F=(Q*Q1)*10^12/(4*%pi*e0*er*r^2);\n",
"disp(F,'(b) F(in pN)(in the direction of ar)=');"
   ]
   }
,
{
		   "cell_type": "markdown",
		   "metadata": {},
		   "source": [
			"## Example 5.9: Boundary_Conditions.sce"
		   ]
		  },
  {
"cell_type": "code",
	   "execution_count": null,
	   "metadata": {
	    "collapsed": true
	   },
	   "outputs": [],
"source": [
"clear;\n",
"clc;\n",
"format('v',6);\n",
"an=[0 0 1];\n",
"E1=[5 -2 3];\n",
"er1=4;\n",
"er2=3;\n",
"e=(10^-9)/(36*%pi);\n",
"e1n=E1*an';\n",
"E1n=[0 0 e1n];\n",
"E2n=[0 0 E1n*[0;0;1]];\n",
"E1t=E1-E1n;\n",
"E2t=E1t;\n",
"E2n=(er1*E1n)/er2;\n",
"E2=E2t+E2n;\n",
"disp(E2,'E2=');\n",
"theta1=atand(((E1t(1,1)^2+E1t(1,2)^2+E1t(1,3)^2)^0.5)/e1n);\n",
"alpha1=90-theta1;\n",
"disp(alpha1,'Angle of E1 with interface=');\n",
"alpha2=90-atand(((E2t(1,1)^2+E2t(1,2)^2+E2t(1,3)^2)^0.5)/((E2n(1,1)^2+E2n(1,2)^2+E2n(1,3)^2)^0.5));\n",
"disp(alpha2,'Angle of E2 with interface=');\n",
"wE1=0.5*er1*e*10^12*(E1(1,1)^2+E1(1,2)^2+E1(1,3)^2);\n",
"wE2=0.5*er2*e*10^12*(E2(1,1)^2+E2(1,2)^2+E2(1,3)^2);\n",
"disp(wE1,'Energy densities are wE1(in uJ)=');\n",
"disp(wE2,'                     wE2(in uJ)=');\n",
"We=wE2*integrate('1','x',2,4)*integrate('1','y',3,5)*integrate('1','z',-6,-4)*10^-3;\n",
"disp(We,'We(in mJ)=');"
   ]
   }
],
"metadata": {
		  "kernelspec": {
		   "display_name": "Scilab",
		   "language": "scilab",
		   "name": "scilab"
		  },
		  "language_info": {
		   "file_extension": ".sce",
		   "help_links": [
			{
			 "text": "MetaKernel Magics",
			 "url": "https://github.com/calysto/metakernel/blob/master/metakernel/magics/README.md"
			}
		   ],
		   "mimetype": "text/x-octave",
		   "name": "scilab",
		   "version": "0.7.1"
		  }
		 },
		 "nbformat": 4,
		 "nbformat_minor": 0
}
