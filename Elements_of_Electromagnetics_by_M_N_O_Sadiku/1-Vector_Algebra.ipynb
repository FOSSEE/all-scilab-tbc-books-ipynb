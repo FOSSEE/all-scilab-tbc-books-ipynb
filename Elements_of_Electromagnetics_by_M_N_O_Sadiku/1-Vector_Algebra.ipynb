{
"cells": [
 {
		   "cell_type": "markdown",
	   "metadata": {},
	   "source": [
       "# Chapter 1: Vector Algebra"
	   ]
	},
{
		   "cell_type": "markdown",
		   "metadata": {},
		   "source": [
			"## Example 1.1: Component_and_Magnitude_of_Vector.sce"
		   ]
		  },
  {
"cell_type": "code",
	   "execution_count": null,
	   "metadata": {
	    "collapsed": true
	   },
	   "outputs": [],
"source": [
"clear;\n",
"clc;\n",
"format('v',6)\n",
"A=[10,-4,6];\n",
"B=[2,1,0];\n",
"disp(A(1,2),'Component of A along ay : ')\n",
"P=3*A-B;\n",
"disp((P(1,1)^2+P(1,2)^2+P(1,3)^2)^0.5,'magnitude is :')\n",
"C=A+2*B;\n",
"det_C=(C(1,1)^2+C(1,2)^2+C(1,3)^2)^0.5;\n",
"format('v',7)\n",
"ac=C/det_C;\n",
"disp(ac,'Unit Vector along C is :')"
   ]
   }
,
{
		   "cell_type": "markdown",
		   "metadata": {},
		   "source": [
			"## Example 1.2: Distance_between_points.sce"
		   ]
		  },
  {
"cell_type": "code",
	   "execution_count": null,
	   "metadata": {
	    "collapsed": true
	   },
	   "outputs": [],
"source": [
"clear;\n",
"clc;\n",
"format('v',6);\n",
"P=[0,2,4];\n",
"Q=[-3,1,5];\n",
"origin=[0,0,0];\n",
"rp=P-origin;\n",
"disp(rp,'Position Vector of P is :')\n",
"rpq=Q-P;\n",
"disp(rpq,'Position Vector from P to Q is :')\n",
"det_rpq=(rpq(1,1)^2+rpq(1,2)^2+rpq(1,3)^2)^0.5;\n",
"disp(det_rpq,'distance between P and Q is :')\n",
"A=10*rpq/det_rpq;\n",
"disp([A;-A],'Vectors parallel to PQ with magnitude of 10 :')"
   ]
   }
,
{
		   "cell_type": "markdown",
		   "metadata": {},
		   "source": [
			"## Example 1.3: Relative_Velocity.sce"
		   ]
		  },
  {
"cell_type": "code",
	   "execution_count": null,
	   "metadata": {
	    "collapsed": true
	   },
	   "outputs": [],
"source": [
"format ('v',6);\n",
"vb= [10*cos(%pi/4), -10*sin(%pi/4)]\n",
"vm= [-2*cos(%pi/4), -2*sin(%pi/4)]\n",
"vmg= vb+vm;\n",
"disp (vmg, 'Velocity of man with respect to ground:')\n",
"mod_vmg=(vmg(1,1)^2+vmg(1,2)^2)^.5;\n",
"dir= atand(vmg(1,2)/vmg(1,1))\n",
"disp( mod_vmg,'Absolute velocity of man is:' )\n",
"disp (dir,'Angle with east in radian:')"
   ]
   }
,
{
		   "cell_type": "markdown",
		   "metadata": {},
		   "source": [
			"## Example 1.4: Angle_between_vectors.sce"
		   ]
		  },
  {
"cell_type": "code",
	   "execution_count": null,
	   "metadata": {
	    "collapsed": true
	   },
	   "outputs": [],
"source": [
"clear;\n",
"clc;\n",
"A=[3,4,1];\n",
"B=[0,2,-5];\n",
"det_A=(A(1,1)^2+A(1,2)^2+A(1,3)^2)^0.5;\n",
"det_B=(B(1,1)^2+B(1,2)^2+B(1,3)^2)^0.5;\n",
"theta=acosd((sum(A.*B))/(det_A*det_B));\n",
"disp(theta,'Angle between A and B is :')"
   ]
   }
,
{
		   "cell_type": "markdown",
		   "metadata": {},
		   "source": [
			"## Example 1.5: Cross_Product.sce"
		   ]
		  },
  {
"cell_type": "code",
	   "execution_count": null,
	   "metadata": {
	    "collapsed": true
	   },
	   "outputs": [],
"source": [
"clear;\n",
"clc;\n",
"format('v',7);\n",
"P=[2,0,-1];\n",
"Q=[2,-1,2];\n",
"R=[2,-3,1];\n",
"S=P+Q;\n",
"T=P-Q;\n",
"U1=S(1,2)*T(1,3)-S(1,3)*T(1,2);\n",
"U2=S(1,3)*T(1,1)-S(1,1)*T(1,3);\n",
"U3=S(1,1)*T(1,2)-S(1,2)*T(1,1);\n",
"U=[U1 U2 U3];\n",
"disp(U,'(P+Q)*(P-Q)=')\n",
"V1=R(1,2)*P(1,3)-R(1,3)*P(1,2);\n",
"V2=R(1,3)*P(1,1)-R(1,1)*P(1,3);\n",
"V3=R(1,1)*P(1,2)-R(1,2)*P(1,1);\n",
"V=[V1 V2 V3];\n",
"X=(Q(1,1)*V(1,1)+Q(1,2)*V(1,2)+Q(1,3)*V(1,3));\n",
"disp(X,'Q.R*P')\n",
"W1=Q(1,2)*R(1,3)-Q(1,3)*R(1,2);\n",
"W2=Q(1,3)*R(1,1)-Q(1,1)*R(1,3);\n",
"W3=Q(1,1)*R(1,2)-Q(1,2)*R(1,1);\n",
"W=[W1 W2 W3];\n",
"Y=(W(1,1)*P(1,1)+W(1,2)*P(1,2)+W(1,3)*P(1,3));\n",
"disp(Y,'P.Q*R')\n",
"det_W=(W(1,1)^2+W(1,2)^2+W(1,3)^2)^.5;\n",
"det_Q=(Q(1,1)^2+Q(1,2)^2+Q(1,3)^2)^.5;\n",
"det_R=(R(1,1)^2+R(1,2)^2+R(1,3)^2)^.5\n",
"sineoftheta=(det_W/(det_Q*det_R));\n",
"disp(sineoftheta,'sin of theta=')\n",
"Z1=P(1,2)*W(1,3)-P(1,3)*W(1,2);\n",
"Z2=P(1,3)*W(1,1)-P(1,1)*W(1,3);\n",
"Z3=P(1,1)*W(1,2)-P(1,2)*W(1,1);\n",
"Z=[Z1 Z2 Z3];\n",
"disp(Z,'P* Q*R=')\n",
"disp(W/det_W,'Unit Vector Perpendicular to Q & R')\n",
"q=Q/det_Q;\n",
"C=(P(1,1)*q(1,1)+P(1,2)*q(1,2)+P(1,3)*q(1,3));\n",
"disp(C*q,'Component of P along Q');"
   ]
   }
,
{
		   "cell_type": "markdown",
		   "metadata": {},
		   "source": [
			"## Example 1.7: Cross_Product.sce"
		   ]
		  },
  {
"cell_type": "code",
	   "execution_count": null,
	   "metadata": {
	    "collapsed": true
	   },
	   "outputs": [],
"source": [
"clear;\n",
"clc;\n",
"format('v',6);\n",
"P1=[5 2 -4];\n",
"P2=[1 1 2];\n",
"P3=[-3 0 8];\n",
"P4=[3 -1 0]\n",
"R1=P1-P2;\n",
"R2=P1-P3;\n",
"R3=P2-P3;\n",
"R4=P1-P4;\n",
"U1=R1(1,2)*R2(1,3)-R1(1,3)*R2(1,2);\n",
"U2=R1(1,3)*R2(1,1)-R1(1,1)*R2(1,3);\n",
"U3=R1(1,1)*R2(1,2)-R1(1,2)*R2(1,1);\n",
"U=[U1 U2 U3];\n",
"disp(U)\n",
"disp('Since U is Zero so P1,P2,P3 are in straight line')\n",
"det_R1=(R1(1,1)^2+R1(1,2)^2+R1(1,3)^2)^.5;\n",
"V1=R4(1,2)*R1(1,3)-R4(1,3)*R1(1,2);\n",
"V2=R4(1,3)*R1(1,1)-R4(1,1)*R1(1,3);\n",
"V3=R4(1,1)*R1(1,2)-R4(1,2)*R1(1,1);\n",
"V=[V1 V2 V3];\n",
"det_V=(V(1,1)^2+V(1,2)^2+V(1,3)^2)^.5;\n",
"det_R1=(R1(1,1)^2+R1(1,2)^2+R1(1,3)^2)^.5;\n",
"disp((det_V/det_R1),'Shortest Distance')"
   ]
   }
],
"metadata": {
		  "kernelspec": {
		   "display_name": "Scilab",
		   "language": "scilab",
		   "name": "scilab"
		  },
		  "language_info": {
		   "file_extension": ".sce",
		   "help_links": [
			{
			 "text": "MetaKernel Magics",
			 "url": "https://github.com/calysto/metakernel/blob/master/metakernel/magics/README.md"
			}
		   ],
		   "mimetype": "text/x-octave",
		   "name": "scilab",
		   "version": "0.7.1"
		  }
		 },
		 "nbformat": 4,
		 "nbformat_minor": 0
}
