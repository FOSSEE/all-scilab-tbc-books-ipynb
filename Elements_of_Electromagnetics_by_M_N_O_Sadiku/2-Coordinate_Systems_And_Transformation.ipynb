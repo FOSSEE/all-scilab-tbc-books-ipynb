{
"cells": [
 {
		   "cell_type": "markdown",
	   "metadata": {},
	   "source": [
       "# Chapter 2: Coordinate Systems And Transformation"
	   ]
	},
{
		   "cell_type": "markdown",
		   "metadata": {},
		   "source": [
			"## Example 2.1: Change_of_coordinate_system.sce"
		   ]
		  },
  {
"cell_type": "code",
	   "execution_count": null,
	   "metadata": {
	    "collapsed": true
	   },
	   "outputs": [],
"source": [
"clear;\n",
"clc;\n",
"format('v',7);\n",
"x=-2;y=6;z=3;\n",
"r=(x^2+y^2)^.5;\n",
"B=atand(y/x);\n",
"R=sqrt(x^2+y^2+z^2);\n",
"X=atand(r/z);\n",
"disp([r B z ],'Cylindrical acordinate of P:');\n",
"disp([R X B],'Spherical Cordinate of P:');\n",
"A=[cosd(B) sind(B) 0;-sind(B) cosd(B) 0;0 0 1]*[y;x+z;0];\n",
"disp (A,'A in cylindrical cordinates')"
   ]
   }
,
{
		   "cell_type": "markdown",
		   "metadata": {},
		   "source": [
			"## Example 2.2: Spherical_to_cylindrical_and_Cartesian.sce"
		   ]
		  },
  {
"cell_type": "code",
	   "execution_count": null,
	   "metadata": {
	    "collapsed": true
	   },
	   "outputs": [],
"source": [
"clear;\n",
"clc;\n",
"format('v',6);\n",
"function [X,Y,Z]=sptocart(x,y,z);\n",
"R=sqrt(x^2+y^2+z^2);r=sqrt(x^2+y^2);\n",
"P=asin(r/R);Q=acos(x/r);\n",
"X=(10/R)*sin(P)*cos(Q)+R*(cos(P))^2 *cos(Q)-sin(Q);\n",
"Y=(10/R)*sin(P)*sin(Q)+R*(cos(P))^2 *sin(Q)+cos(Q);\n",
"Z=(10/R)*cos(P)-R*cos(P)*sin(P);\n",
"disp([X Y Z],'B in cartesian cordinate')\n",
"endfunction\n",
"sptocart(-3,4,0);\n",
"function [r,p,z]=sptocylin(r1,p1,z1);\n",
"R=sqrt(r1^2+z1^2);\n",
"P=acos(z1/R);\n",
"r=(10/R)*sin(P)+R*(cos(P))^2 ;\n",
"p=1;\n",
"z=(10/R)*cos(P)-R*cos(P)*sin(P);\n",
"disp([r p z],'B in cylindrical cordinates');\n",
"endfunction\n",
"sptocylin(5,%pi/2,-2);\n",
""
   ]
   }
,
{
		   "cell_type": "markdown",
		   "metadata": {},
		   "source": [
			"## Example 2.3: Angle_between_vector_and_surfaces.sce"
		   ]
		  },
  {
"cell_type": "code",
	   "execution_count": null,
	   "metadata": {
	    "collapsed": true
	   },
	   "outputs": [],
"source": [
"clear;\n",
"clc;\n",
"E=[-5 10 3];ModE=sqrt((-5)^2+10^2+3^2);\n",
"F=[1 2 -6];\n",
"P=[5,%pi/2,3];\n",
"G1=E(1,2)*F(1,3)-E(1,3)*F(1,2);\n",
"G2=E(1,3)*F(1,1)-E(1,1)*F(1,3);\n",
"G3=E(1,1)*F(1,2)-E(1,2)*F(1,1);\n",
"G=[G1 G2 G3];\n",
"disp(sqrt(G1^2+G2^2+G3^2),'Mod of (E*F)');\n",
"ay=[sin(%pi/2) cos(%pi/2) 0];\n",
"Ey=(E(1,1)*ay(1,1)+E(1,2)*ay(1,2)+E(1,3)*ay(1,3));\n",
"disp(Ey,'Component of E parallel to x=2 & z=3');\n",
"P=acosd(3/ModE);\n",
"disp(90-P,'Angle which make E wid Z=3');"
   ]
   }
,
{
		   "cell_type": "markdown",
		   "metadata": {},
		   "source": [
			"## Example 2.4: Different_Components_of_a_Vector.sce"
		   ]
		  },
  {
"cell_type": "code",
	   "execution_count": null,
	   "metadata": {
	    "collapsed": true
	   },
	   "outputs": [],
"source": [
"clear;\n",
"clc;\n",
"format('v',6)\n",
"function [R,P,Q]=Posvec(r,p,q);\n",
"R=r*sind(q);P=-sind(p)*cosd(q)/r;Q=r*r;\n",
"D=[R P Q];\n",
"disp(D,'D at P');\n",
"Dn=[r*sind(q) 0 0];\n",
"Dt=D-Dn;\n",
"disp(Dt, 'Tangential component of D at P');\n",
"endfunction\n",
"Posvec(10,150,330);\n",
"D=[-5 .043 100];\n",
"a=[0 1 0];\n",
"U1=D(1,2)*a(1,3)-D(1,3)*a(1,2);\n",
"U2=D(1,3)*a(1,1)-D(1,1)*a(1,3);\n",
"U3=D(1,1)*a(1,2)-D(1,2)*a(1,1);\n",
"U=[U1 U2 U3];\n",
"det_U=sqrt(U1^2+U2^2+U3^2);\n",
"format('v',7);\n",
"disp(U/det_U,'Unit vector P perpendicular to D');"
   ]
   }
],
"metadata": {
		  "kernelspec": {
		   "display_name": "Scilab",
		   "language": "scilab",
		   "name": "scilab"
		  },
		  "language_info": {
		   "file_extension": ".sce",
		   "help_links": [
			{
			 "text": "MetaKernel Magics",
			 "url": "https://github.com/calysto/metakernel/blob/master/metakernel/magics/README.md"
			}
		   ],
		   "mimetype": "text/x-octave",
		   "name": "scilab",
		   "version": "0.7.1"
		  }
		 },
		 "nbformat": 4,
		 "nbformat_minor": 0
}
