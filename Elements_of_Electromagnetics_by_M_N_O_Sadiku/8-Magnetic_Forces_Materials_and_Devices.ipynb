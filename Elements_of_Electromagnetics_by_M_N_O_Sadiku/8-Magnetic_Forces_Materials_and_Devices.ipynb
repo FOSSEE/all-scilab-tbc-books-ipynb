{
"cells": [
 {
		   "cell_type": "markdown",
	   "metadata": {},
	   "source": [
       "# Chapter 8: Magnetic Forces Materials and Devices"
	   ]
	},
{
		   "cell_type": "markdown",
		   "metadata": {},
		   "source": [
			"## Example 8.14: Magnetic_Circuit.sce"
		   ]
		  },
  {
"cell_type": "code",
	   "execution_count": null,
	   "metadata": {
	    "collapsed": true
	   },
	   "outputs": [],
"source": [
"clear;\n",
"clc;\n",
"p=10*10^-2 ,a=1*10^-2 ,Ur=1000, Uo=4*%pi*10^-7,n=200,phi=.5*10^-3;\n",
"U=Uo*Ur;\n",
"I=phi*2*%pi*p/(Uo*Ur*n*%pi*a*a);\n",
"disp(I);"
   ]
   }
,
{
		   "cell_type": "markdown",
		   "metadata": {},
		   "source": [
			"## Example 8.15: Magnetic_Circuit.sce"
		   ]
		  },
  {
"cell_type": "code",
	   "execution_count": null,
	   "metadata": {
	    "collapsed": true
	   },
	   "outputs": [],
"source": [
"clear;\n",
"clc;\n",
"Uo=4*%pi*10^-7,Ur=50,l1=30*10^-2,s=10*10^-4,l3=9*10^-2,la=1*10^-2,B=1.5,N=400;\n",
"R1=l1/(Uo*Ur*s);R2=R1;\n",
"R3=l3/(Uo*Ur*s);\n",
"Ra=la/(Uo*s);\n",
"R=R1*R2/(R1+R2);\n",
"Req=R3+Ra+R;\n",
"I=B*s*Req/N;\n",
"disp(I,'Required current= ');"
   ]
   }
,
{
		   "cell_type": "markdown",
		   "metadata": {},
		   "source": [
			"## Example 8.16: Magnetic_Circuit.sce"
		   ]
		  },
  {
"cell_type": "code",
	   "execution_count": null,
	   "metadata": {
	    "collapsed": true
	   },
	   "outputs": [],
"source": [
"clear;\n",
"clc;\n",
"m=400,g=9.8,Ur=3000, Uo=4*%pi*10^-7,S=40*10^-4,la=1*10^-4,li=50*10^-2,I=1;\n",
"B=sqrt(m*g*Uo/S);\n",
"Ra=2*la/(Uo*S);\n",
"Ri=li/(Uo*Ur*S);\n",
"N=(Ra+Ri)/(Ra*Uo)*B*la;\n",
"disp(N,'No of turns= ');"
   ]
   }
,
{
		   "cell_type": "markdown",
		   "metadata": {},
		   "source": [
			"## Example 8.1: Forces.sce"
		   ]
		  },
  {
"cell_type": "code",
	   "execution_count": null,
	   "metadata": {
	    "collapsed": true
	   },
	   "outputs": [],
"source": [
"clear;\n",
"clc;\n",
"m=2,q=3,v=[4 0 3],E=[12 10 0],t=1;\n",
"disp(q*E/m,'Acceleration ofthe particle= ');\n",
"u=[22 15 3];\n",
"modofu=sqrt(22*22+15*15+3*3);\n",
"KE=.5*m*(modofu)^2;\n",
"disp(KE, 'Kinetic energy= ')"
   ]
   }
,
{
		   "cell_type": "markdown",
		   "metadata": {},
		   "source": [
			"## Example 8.8: Boundary_Condition.sce"
		   ]
		  },
  {
"cell_type": "code",
	   "execution_count": null,
	   "metadata": {
	    "collapsed": true
	   },
	   "outputs": [],
"source": [
"clear;\n",
"clc;\n",
"format('v',6);\n",
"H1=[-2 6 4],Uo=4*%pi*10^-7,Ur=5;\n",
"U1=Uo*Ur;\n",
"M1=(Ur-1)*H1;\n",
"disp(M1,'M = ');\n",
"B1=U1*H1;\n",
"disp(B1*10^6,'B in uW/m^2');"
   ]
   }
],
"metadata": {
		  "kernelspec": {
		   "display_name": "Scilab",
		   "language": "scilab",
		   "name": "scilab"
		  },
		  "language_info": {
		   "file_extension": ".sce",
		   "help_links": [
			{
			 "text": "MetaKernel Magics",
			 "url": "https://github.com/calysto/metakernel/blob/master/metakernel/magics/README.md"
			}
		   ],
		   "mimetype": "text/x-octave",
		   "name": "scilab",
		   "version": "0.7.1"
		  }
		 },
		 "nbformat": 4,
		 "nbformat_minor": 0
}
