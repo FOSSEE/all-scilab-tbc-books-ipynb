{
"cells": [
 {
		   "cell_type": "markdown",
	   "metadata": {},
	   "source": [
       "# Chapter 6: Relativistic Kinematics and Paradoxes in Relativity"
	   ]
	},
{
		   "cell_type": "markdown",
		   "metadata": {},
		   "source": [
			"## Example 6.10: EX6_10.sce"
		   ]
		  },
  {
"cell_type": "code",
	   "execution_count": null,
	   "metadata": {
	    "collapsed": true
	   },
	   "outputs": [],
"source": [
"clc\n",
"//Given that\n",
"c = 3e8 // speed of light in m/s\n",
"m_0 = 1 // atomic mass in amu\n",
"m = 3 * m_0 // relativistic mass\n",
"// sample problem 10 page No. 225\n",
"printf('\n \n\n # Problem 10 # \n')\n",
"printf('\n Standard formula used  l = l_o * sqrt ( 1- (v/c)^2)')\n",
"v = c * sqrt(1- (m_0 / m)^2) // calculation of Velocity of particle\n",
"printf ('\n Velocity of particle is %f c.', v / c )"
   ]
   }
,
{
		   "cell_type": "markdown",
		   "metadata": {},
		   "source": [
			"## Example 6.11: EX6_11.sce"
		   ]
		  },
  {
"cell_type": "code",
	   "execution_count": null,
	   "metadata": {
	    "collapsed": true
	   },
	   "outputs": [],
"source": [
"clc\n",
"//Given that\n",
"mass_ratio = 0.5 // Ratio of rest mass and relativistic mass  \n",
"c = 3e8 // speed of light in m/s\n",
"// sample problem 11 page No. 225\n",
"printf('\n # Problem 11 # \n')\n",
"printf('\n Standard formula used \n m = m_o / sqrt ( 1- (v/c)^2)\n')\n",
"v = c * sqrt(1- mass_ratio^2) // calculation of Velocity of particle\n",
"printf ('\n Velocity of particle is %f c.', v / c )\n",
""
   ]
   }
,
{
		   "cell_type": "markdown",
		   "metadata": {},
		   "source": [
			"## Example 6.12_1: Determination_of_relativistic_mass_velocity_observed_by_one_mass_for_other.sce"
		   ]
		  },
  {
"cell_type": "code",
	   "execution_count": null,
	   "metadata": {
	    "collapsed": true
	   },
	   "outputs": [],
"source": [
"clc\n",
"//Given that\n",
"c = 3e8 // speed of light in m/s\n",
"u_x_ = -2e8 // velocity of first photon in ground frame in m/s\n",
"v = -2e8 // velocity of second photon in ground frame in m/s\n",
"m_0 = 3e-25\n",
"// sample problem 12 page No. 226\n",
"printf('\n \n\n # Problem 12a # \n')\n",
"printf('\n Standard formula used \n u_x = (u_x_ + v) / (1 + v * u_x_ / c^2)')\n",
"u_x = (u_x_ + v) / (1 + v * u_x_ / c^2) // calculation of Velocity of photon with respect to another\n",
"m = m_0 / sqrt(1 - (u_x / c)^2) // calculation of Relativistic mass of particle with respect to another\n",
"printf ('\n Velocity of photon with respect to another is %e m/s.',u_x)\n",
"printf ('\n Relativistic mass of particle with respect to another is %e kg.',m)"
   ]
   }
,
{
		   "cell_type": "markdown",
		   "metadata": {},
		   "source": [
			"## Example 6.12_2: Determination_of_relativistic_mass_observed_by_one_mass_for_other.sce"
		   ]
		  },
  {
"cell_type": "code",
	   "execution_count": null,
	   "metadata": {
	    "collapsed": true
	   },
	   "outputs": [],
"source": [
"clc\n",
"//Given that \n",
"c = 3e8 // speed of light in m/s\n",
"ratio = 1.95e+03 // Ratio of relativistic mass and rest mass\n",
"// sample problem 14b page No. 227\n",
"printf('\n \n\n # Problem 14b # \n')\n",
"printf('\n Standard formula used \n m = m_o/ sqrt ( 1- (v/c)^2)')\n",
"ratio_1 = 1 /(2* ratio^2)    // calculation of ratio of velocity to velocity of light for	\n",
"printf ('\n Ratio of velocity to velocity of light for particle is 1 -  %e .', ratio_1 )\n",
"\n",
""
   ]
   }
,
{
		   "cell_type": "markdown",
		   "metadata": {},
		   "source": [
			"## Example 6.13: EX6_13.sce"
		   ]
		  },
  {
"cell_type": "code",
	   "execution_count": null,
	   "metadata": {
	    "collapsed": true
	   },
	   "outputs": [],
"source": [
"clc\n",
"//Given that\n",
"c = 3e8 // speed of light in m/s\n",
"u = 0.9*c // velocity of first particle with respect to other in m/s\n",
"density1 = 19.3e-3 // density of gold in rest frame\n",
"// sample problem 13 page No. 226\n",
"printf('\n \n\n # Problem 13 # \n')\n",
"printf('\n Standard formula used \n m = m_o/ sqrt ( 1- (v/c)^2) \n and \n l = l_o* sqrt ( 1- (v/c)^2) ')\n",
"mass_ratio = sqrt (1 - (u/c)^2) // calculation of ratio of relativistic mass\n",
"volume_ratio = 1 / sqrt (1 - (u/ c)^2) // calculation of ratio of relativistic volume\n",
"density2 = density1 * (volume_ratio /mass_ratio ) //calculation of ratio of relativistic density\n",
"printf ('\n Relativistic density of rod in moving frame is %e.',density2)"
   ]
   }
,
{
		   "cell_type": "markdown",
		   "metadata": {},
		   "source": [
			"## Example 6.14_1: Determination_of_ratio_of_relativistic_mass_to_rest_mass.sce"
		   ]
		  },
  {
"cell_type": "code",
	   "execution_count": null,
	   "metadata": {
	    "collapsed": true
	   },
	   "outputs": [],
"source": [
"clc\n",
"//Given that\n",
"E = 1e9 // energy of electron in eV  \n",
"c = 3e8 // speed of light in m/s\n",
"m_0 = 9.1e-31 // mass of electron in kg\n",
"// sample problem 14 page No. 227\n",
"printf('\n \n\n # Problem 14a # \n')\n",
"printf('\n Standard formula used  \n E = m*c^2')\n",
"m = E / c^2 * 1.6e-19      // calculation of relativistic mass of particle\n",
"ratio = m / m_0// calculation of Ratio of relativistic mass and rest mass of particle\n",
"printf ('\n Ratio of relativistic mass and rest mass  of particle is %e.',ratio )\n",
"\n",
""
   ]
   }
,
{
		   "cell_type": "markdown",
		   "metadata": {},
		   "source": [
			"## Example 6.14_2: Determination_of_ratio_of_velocity_of_electron_with_respect_to_speed_of_light.sce"
		   ]
		  },
  {
"cell_type": "code",
	   "execution_count": null,
	   "metadata": {
	    "collapsed": true
	   },
	   "outputs": [],
"source": [
"clc\n",
"//Given that \n",
"c = 3e8 // speed of light in m/s\n",
"ratio = 1.95e+03 // Ratio of relativistic mass and rest mass\n",
"// sample problem 14b page No. 227\n",
"printf('\n \n\n # Problem 14b # \n')\n",
"printf('\n Standard formula used \n m = m_o/ sqrt ( 1- (v/c)^2)')\n",
"ratio_1 = 1 /(2* ratio^2)    // calculation of ratio of velocity to velocity of light for	\n",
"printf ('\n Ratio of velocity to velocity of light for particle is 1 -  %e .', ratio_1 )\n",
"\n",
""
   ]
   }
,
{
		   "cell_type": "markdown",
		   "metadata": {},
		   "source": [
			"## Example 6.14_3: Determination_of_ratio_of_their_energy_to_rest_mass_energy.sce"
		   ]
		  },
  {
"cell_type": "code",
	   "execution_count": null,
	   "metadata": {
	    "collapsed": true
	   },
	   "outputs": [],
"source": [
"clc\n",
"//Given that \n",
"m = 9e-31 // mass in kg\n",
"E = 1e9 // Energy of accelerated electron in eV\n",
"c = 3e8 // speed of light in m/s\n",
"// sample problem 14c page No. 227\n",
"printf('\n \n\n # Problem 14c # \n')\n",
"printf('\n Standard formula used \n E = m*c^2')\n",
"E_0 = m * c^2// calculation of rest mass energy\n",
"ratio = E / E_0 *1.6e-19// calculation of Ratio of energy to rest mass energy\n",
"printf ('\n Ratio of energy to rest mass energy is %e.',ratio )"
   ]
   }
,
{
		   "cell_type": "markdown",
		   "metadata": {},
		   "source": [
			"## Example 6.15: EX6_15.sce"
		   ]
		  },
  {
"cell_type": "code",
	   "execution_count": null,
	   "metadata": {
	    "collapsed": true
	   },
	   "outputs": [],
"source": [
"clc\n",
"//Given that \n",
"c = 3e8 // speed of light in m/s\n",
"v = 0.6 * c // velocity of rod wrt laboratory\n",
"l_ = 1 // length of rod measured by observer in lab\n",
"// sample problem 15 page No. 228\n",
"printf('\n \n\n # Problem 15 # \n')\n",
"printf('\n Standard formula used \n l = l_o* sqrt ( 1- (v/c)^2)')\n",
"l = l_ / sqrt (1 - (v / c)^2)  // calculation of Proper length of rod  \n",
"printf ('\n Proper length of rod  is %f m.',l )\n",
""
   ]
   }
,
{
		   "cell_type": "markdown",
		   "metadata": {},
		   "source": [
			"## Example 6.16: Determination_of_mean_life_of_meson_traveling_with_velocity.sce"
		   ]
		  },
  {
"cell_type": "code",
	   "execution_count": null,
	   "metadata": {
	    "collapsed": true
	   },
	   "outputs": [],
"source": [
"clc\n",
"//Given that \n",
"c = 3e8 // speed of light in m/s\n",
"v = 0.9 * c // velocity of rod wrt laboratory\n",
"proper_time = 2.5e-8 // proper mean life time of mesons\n",
"// sample problem 16 page No. 228\n",
"printf('\n \n\n # Problem 16 # \n')\n",
"printf('\n Standard formula used \n t = t_o /sqrt ( 1- (v/c)^2)')\n",
"t = proper_time / sqrt (1 - (v / c)^2) // calculation of New mean life time\n",
"printf ('\n New mean life time is %e s.',t )"
   ]
   }
,
{
		   "cell_type": "markdown",
		   "metadata": {},
		   "source": [
			"## Example 6.17: Determination_of_velocity_of_electron_having_relativistic_energy_of_1MeV.sce"
		   ]
		  },
  {
"cell_type": "code",
	   "execution_count": null,
	   "metadata": {
	    "collapsed": true
	   },
	   "outputs": [],
"source": [
"clc\n",
"//Given that\n",
"E = 1 // energy of electron in MeV  \n",
"c = 3e8 // speed of light in m/s\n",
"m_0 = 9e-31 // rest mass of electron\n",
"// sample problem 17 page No. 229\n",
"printf('\n \n\n # Problem 17 # \n')\n",
"printf('\n Standard formula used \n m = m_o* sqrt ( 1- (v/c)^2) \n and \n E=m*c^2')\n",
"m = E * 1.6e-13 / c^2// calculation of mass of electron\n",
"v = c * sqrt(1 - (m_0 / m)^2) // calculation of Velocity of electron\n",
"printf ('\n Velocity of electron is %e m/s.',v )"
   ]
   }
,
{
		   "cell_type": "markdown",
		   "metadata": {},
		   "source": [
			"## Example 6.19: Calculation_of_distance_travelled_by_meson.sce"
		   ]
		  },
  {
"cell_type": "code",
	   "execution_count": null,
	   "metadata": {
	    "collapsed": true
	   },
	   "outputs": [],
"source": [
"clc\n",
"//Given that \n",
"c = 3e8 // speed of light in m/s\n",
"v = 0.99 * c  // velocity of particle\n",
"proper_time = 2.2e-6 // proper mean life time of mesons\n",
"// sample problem 19 page No. 230\n",
"printf('\n \n\n # Problem 19 # \n')\n",
"printf('\n Standard formula used \n t = t_o /sqrt ( 1- (v/c)^2)')\n",
"t = proper_time / sqrt (1 - (v / c)^2) // calculation of time period\n",
"d = v *t// calculation of Distance travelled by particle\n",
"printf ('\n Distance traveled by particle is %e m.',d )"
   ]
   }
,
{
		   "cell_type": "markdown",
		   "metadata": {},
		   "source": [
			"## Example 6.1: EX6_1.sce"
		   ]
		  },
  {
"cell_type": "code",
	   "execution_count": null,
	   "metadata": {
	    "collapsed": true
	   },
	   "outputs": [],
"source": [
"clc\n",
"//Given that\n",
"c = 3e8 // speed of light in m/s\n",
"v = 0.8* c // velocity of rod\n",
"l1 = 1 // let \n",
"theta = 60 // anlge between length of rod and speed in degree\n",
"//Sample Problem 1 page No. 221\n",
"printf('\n # Problem 1 # \n')\n",
"l_x = l1 * cos(theta * %pi /180) * sqrt (1-(v /c)^2)\n",
"l_y = l1 * sin(theta * %pi /180)\n",
"l2 = sqrt (l_x^2 + l_y^2)\n",
"per_contrtaction = (l1 - l2) / l1 *100\n",
"angle = atan (l_y/l_x)\n",
"printf ('Percentage contraction in rod is %f and apparant orientation is %f',per_contrtaction,tan (angle) )"
   ]
   }
,
{
		   "cell_type": "markdown",
		   "metadata": {},
		   "source": [
			"## Example 6.20: Determination_of_speed_if_mass_is_increased_by_1_percet.sce"
		   ]
		  },
  {
"cell_type": "code",
	   "execution_count": null,
	   "metadata": {
	    "collapsed": true
	   },
	   "outputs": [],
"source": [
"clc\n",
"//Given that \n",
"c = 3e8 // speed of light in m/s\n",
"m = 1 // let \n",
"m_change = 1 // change in mass in percentage by increasing velocity\n",
"// sample problem 20 page No. 230\n",
"printf('\n \n\n # Problem 20 # \n')\n",
"printf('\n Standard formula used \n m = m_o* sqrt ( 1- (v/c)^2) ')\n",
"v = c * sqrt (1 - (m / (m + m_change/100))^2) // calculation of Velocity required to increase mass by one percent\n",
"printf ( '\n Velocity required to increase mass by one perfect is %e m/s.', v)"
   ]
   }
,
{
		   "cell_type": "markdown",
		   "metadata": {},
		   "source": [
			"## Example 6.21: Determination_of_speed_if_mass_is_increased_by_2000_times.sce"
		   ]
		  },
  {
"cell_type": "code",
	   "execution_count": null,
	   "metadata": {
	    "collapsed": true
	   },
	   "outputs": [],
"source": [
"clc\n",
"//Given that \n",
"c = 3e8 // speed of light in m/s\n",
"m_ratio = 2000 // ratio of rest mass and relativistic mass\n",
"// sample problem 21 page No. 231\n",
"printf('\n \n\n # Problem 21 # \n')\n",
"printf('\n Standard formula used \n m = m_o* sqrt ( 1- (v/c)^2) ')\n",
"v = c * sqrt (1 - (1/m_ratio)^2) // calculation of Velocity required to increase mass by 2000 times\n",
"	\n",
"printf( '\n Velocity required to increase mass by 2000 times is %e - %f m/s.',c, (c -v))"
   ]
   }
,
{
		   "cell_type": "markdown",
		   "metadata": {},
		   "source": [
			"## Example 6.22: Determination_of_energy_of_each_particle_produced_in_pair_production_by_photon.sce"
		   ]
		  },
  {
"cell_type": "code",
	   "execution_count": null,
	   "metadata": {
	    "collapsed": true
	   },
	   "outputs": [],
"source": [
"clc\n",
"//Given that \n",
"h = 6.63e-34 // plank's constant\n",
"c = 3e8 // speed of light in m/s\n",
"lambda = 5e-4 // wavelength of photon in angstrom\n",
"e_rest_mass = 0.511 // rest mass of electron in Mev/c^2\n",
"p_rest_mass = 0.511 // rest mass of electron in Mev/c^2\n",
"// sample problem 22 page No. 230\n",
"printf('\n \n\n # Problem 22 # \n')\n",
"printf('\n Standard formula used \n E_total = E_rest + E_kinetic')\n",
"k = (((h * c  / (lambda * 1.6e-23 ))  - (e_rest_mass + p_rest_mass))) /2 // calculation of Energy of each particle\n",
"printf( '\n Energy of each particle is  %f MeV.', k )    \n",
""
   ]
   }
,
{
		   "cell_type": "markdown",
		   "metadata": {},
		   "source": [
			"## Example 6.23: Determination_of_threshold_wavelength_for_proton_antiproton_pair_production.sce"
		   ]
		  },
  {
"cell_type": "code",
	   "execution_count": null,
	   "metadata": {
	    "collapsed": true
	   },
	   "outputs": [],
"source": [
"clc\n",
"//Given that \n",
"h = 6.63e-34 // plank's constant\n",
"c = 3e8 // speed of light in m/s\n",
"p_rest_mass = 938 // rest mass of proton in Mev/\n",
"ap_rest_mass = 938 // rest mass of antiproton in Mev\n",
"// sample problem 23 page No. 232\n",
"printf('\n \n\n # Problem 23 # \n')\n",
"printf('\n Standard formula used \n E = h* c / lambda')\n",
"lambda = h * c / ((p_rest_mass + ap_rest_mass) * 1.6e-19) // calculation of  Threshold wavelength for proton - antiproton production\n",
"printf( '\n Threshold wavelength for proton - antiproton production is  %f angstrom.', lambda / 1e-10)\n",
""
   ]
   }
,
{
		   "cell_type": "markdown",
		   "metadata": {},
		   "source": [
			"## Example 6.24: Determination_of_momentum_of_proton_having_kinetic_energy_1Bev.sce"
		   ]
		  },
  {
"cell_type": "code",
	   "execution_count": null,
	   "metadata": {
	    "collapsed": true
	   },
	   "outputs": [],
"source": [
"clc\n",
"//Given that\n",
"c = 3e8 // speed of light in m/s\n",
"p_rest_mass = 0.938 // rest mass energy of proton in BeV\n",
"KE = 1 // kinetic energy of proton in BeV\n",
"// sample problem 24 page No. 232\n",
"printf('\n \n\n # Problem 24 # \n')\n",
"printf('\n Standard formula used E^2 = p^2*c^2 + m_o^2*c^4*')\n",
"E = KE + p_rest_mass// calculation of energy of particle\n",
"p = (sqrt (E^2 *1e6 - (p_rest_mass * 1e3)^2)) *(1.6e-19)*(1e9) / c// calculation of Momentum of photon\n",
"printf( '\n Momentum of photon is %e kg m/s.', p)\n",
"\n",
""
   ]
   }
,
{
		   "cell_type": "markdown",
		   "metadata": {},
		   "source": [
			"## Example 6.26: Determination_of_speed_of_meson.sce"
		   ]
		  },
  {
"cell_type": "code",
	   "execution_count": null,
	   "metadata": {
	    "collapsed": true
	   },
	   "outputs": [],
"source": [
"clc\n",
"//Given that \n",
"c = 3e8 // speed of light in m/s\n",
"t = 8e-6 // mean life of meson \n",
"l = 10 // distance of meson from earth surface\n",
"// sample problem 26 page No. 228\n",
"printf('\n \n\n # Problem 26 # \n')\n",
"printf('\n Standard formula used \n l = l_o* sqrt ( 1- (v/c)^2)')\n",
"v = l*1e3/ sqrt( t^2 +(l * 1e3 /c)^2) // calculation of relative speed of meson with respect to\n",
"printf ('\n Relative speed of meson with respect to earth  is %f c .',v/c )"
   ]
   }
,
{
		   "cell_type": "markdown",
		   "metadata": {},
		   "source": [
			"## Example 6.27: Calculation_of_kinetic_energy_of_a_proton_with_velocity.sce"
		   ]
		  },
  {
"cell_type": "code",
	   "execution_count": null,
	   "metadata": {
	    "collapsed": true
	   },
	   "outputs": [],
"source": [
"clc\n",
"//Given that \n",
"c = 3e8 // speed of light in m/s\n",
"v = 0.8 *c // velocity of rod in m/s\n",
"m_0 = 1.673e-27 // rest mass of proton in kg\n",
"// sample problem 27 page No. 228\n",
"printf('\n \n\n # Problem 27 # \n')\n",
"printf('\n Standard formula used \n E_total = KE + E_mass')\n",
"K_E = m_0 * c^2 *(1/sqrt(1-(v/c)^2) - 1) / 1.6e-13 // calculation of Kinetic energy of proton\n",
"printf ('\n Kinetic energy of proton is %dMeV.', K_E )\n",
""
   ]
   }
,
{
		   "cell_type": "markdown",
		   "metadata": {},
		   "source": [
			"## Example 6.2: EX6_2.sce"
		   ]
		  },
  {
"cell_type": "code",
	   "execution_count": null,
	   "metadata": {
	    "collapsed": true
	   },
	   "outputs": [],
"source": [
"clc\n",
"//Given that\n",
"c = 3e8 // speed of light in m/s\n",
"u_x_ = -3e8 // velocity of first photon in ground frame in m/s\n",
"v = -3e8 // velocity of second photon in ground frame in m/s\n",
"// sample problem 2 page No. 222\n",
"printf('\n \n\n # Problem 2 # \n')\n",
"printf('\n Standard formula used is  u_x = (u_x_ + v) / (1 + v * u_x_ / c^2) ')\n",
"u_x = (u_x_ + v) / (1 + v * u_x_ / c^2) // calculation of Velocity of photon with respect to another\n",
"printf ('\n Velocity of photon with respect to another is %d * c \n Thus photons are approaching each other.',u_x / c)"
   ]
   }
,
{
		   "cell_type": "markdown",
		   "metadata": {},
		   "source": [
			"## Example 6.3: EX6_3.sce"
		   ]
		  },
  {
"cell_type": "code",
	   "execution_count": null,
	   "metadata": {
	    "collapsed": true
	   },
	   "outputs": [],
"source": [
"clc\n",
"//Given that\n",
"c = 3e8 // speed of light in m/s\n",
"u_x_ = -0.9 * c // velocity of first spaceship in ground frame in m/s\n",
"v = -0.9 *c // velocity of second spaceship in ground frame in m/s\n",
"// sample problem 3 page No. 222\n",
"printf('\n \n\n # Problem 3 # \n')\n",
"printf('\n Standard formula used is  u_x = (u_x_ + v) / (1 + v * u_x_ / c^2) ')\n",
"u_x = (u_x_ + v) / (1 + v * u_x_ / c^2) // calculation of Velocity of photon\n",
"printf ('\n Velocity of photon with respect to another is %f c.', u_x / c)\n",
""
   ]
   }
,
{
		   "cell_type": "markdown",
		   "metadata": {},
		   "source": [
			"## Example 6.4: Determination_of_mass_consumed_to_obtain_energy.sce"
		   ]
		  },
  {
"cell_type": "code",
	   "execution_count": null,
	   "metadata": {
	    "collapsed": true
	   },
	   "outputs": [],
"source": [
"clc\n",
"//Given that\n",
"E = 7.5e11 // Energy in kWh\n",
"c = 3e8 // speed of light in m/s\n",
"// sample problem 4 page No. 223\n",
"printf('\n \n\n # Problem 4 # \n')\n",
"printf('\n Standard formula used \n E = m*c^2')\n",
"m = (E *3.6e6) / c^2// calculation of Amount of mass consumed\n",
"\n",
"printf ('\n Amount of mass consumed is %d kg.', m)\n",
""
   ]
   }
,
{
		   "cell_type": "markdown",
		   "metadata": {},
		   "source": [
			"## Example 6.5: Determination_of_energy_that_can_be_produced_by_consumption_of_4_kg_of_mass.sce"
		   ]
		  },
  {
"cell_type": "code",
	   "execution_count": null,
	   "metadata": {
	    "collapsed": true
	   },
	   "outputs": [],
"source": [
"clc\n",
"//Given that\n",
"m = 4 // mass of substance consumed fully in kg\n",
"c = 3e8 // speed of light in m/s\n",
"// sample problem 5 page No. 223\n",
"printf('\n \n\n # Problem 5 # \n')\n",
"printf('\n Standard formula used \n E = m*c^2')\n",
"E = m * c^2// calculation of Amount of energy produced\n",
"printf ('\n Amount of energy produced is %e J.', E)\n",
"\n",
""
   ]
   }
,
{
		   "cell_type": "markdown",
		   "metadata": {},
		   "source": [
			"## Example 6.6: Calculation_of_relativistic_mass.sce"
		   ]
		  },
  {
"cell_type": "code",
	   "execution_count": null,
	   "metadata": {
	    "collapsed": true
	   },
	   "outputs": [],
"source": [
"clc\n",
"//Given that\n",
"m_0 = 1e-24 // mass of moving particle in kg\n",
"v = 1.8e8 // speed of particle in m/s\n",
"c = 3e8 // speed of light in m/s\n",
"// sample problem 6 page No. 223\n",
"printf('\n \n\n # Problem 6 # \n')\n",
"printf('\n Standard formula used \n m = m_o/ sqrt ( 1- (v/c)^2)')\n",
"m = m_0 / sqrt(1 - (v / c)^2) // calculation of Relativistic mass of particle\n",
"printf ('\n Relativistic mass of particle is %e kg.', m)\n",
""
   ]
   }
,
{
		   "cell_type": "markdown",
		   "metadata": {},
		   "source": [
			"## Example 6.7: Determination_of_ratio_of_rest_mass_and_relativistic_mass_of_a_moving_particle.sce"
		   ]
		  },
  {
"cell_type": "code",
	   "execution_count": null,
	   "metadata": {
	    "collapsed": true
	   },
	   "outputs": [],
"source": [
"clc\n",
"//Given that\n",
"c = 3e8 // speed of light in m/s\n",
"v = 0.5 * c // speed of particle in m/s\n",
"// sample problem 7 page No. 223\n",
"printf('\n \n\n # Problem 7 # \n')\n",
"printf('\n Standard formula used \n m = m_o/sqrt ( 1- (v/c)^2)')\n",
"ratio = sqrt(1- (v /c)^2) // calculation of Ratio of rest mass and relativistic mass of particle\n",
"printf ('\n Ratio of rest mass and relativistic mass of particle is %f.', ratio)\n",
""
   ]
   }
,
{
		   "cell_type": "markdown",
		   "metadata": {},
		   "source": [
			"## Example 6.8_1: EX6_8_1.sce"
		   ]
		  },
  {
"cell_type": "code",
	   "execution_count": null,
	   "metadata": {
	    "collapsed": true
	   },
	   "outputs": [],
"source": [
"clc\n",
"//Given that\n",
"ratio = 0.5 // Ratio of lengths of spaceship\n",
"c = 3e8 // speed of light in m/s\n",
"// sample problem 8a page No. 224\n",
"printf('\n \n\n # Problem 8a # \n')\n",
"printf('\n Standard formula used \n l = l_o* sqrt ( 1- (v/c)^2)')\n",
"v = c * sqrt(1 - ratio^2) // calculation of Speed of spaceship\n",
"printf ('\n Speed of spaceship is %e m/s.',v)\n",
""
   ]
   }
,
{
		   "cell_type": "markdown",
		   "metadata": {},
		   "source": [
			"## Example 6.8_2: Determination_of_time_dilation_if_observed_length_is_half_of_original_length.sce"
		   ]
		  },
  {
"cell_type": "code",
	   "execution_count": null,
	   "metadata": {
	    "collapsed": true
	   },
	   "outputs": [],
"source": [
"clc\n",
"//Given that\n",
"c = 3e8 // speed of light in m/s\n",
"v = 2.598e8 // speed of spaceship\n",
"t_0 = 1 // time in second\n",
"// sample problem 8b page No. 224\n",
"printf('\n \n\n # Problem 8b # \n')\n",
"printf('\n Standard formula used \n t= t_o/ sqrt ( 1- (v/c)^2)')\n",
"t = t_0 / sqrt(1 - (v ^2 / c ^2) ) // calculation of Time corresponding to 1 sec\n",
"printf ('\n Time corresponding to 1 sec is %d sec.',ceil (t) )"
   ]
   }
,
{
		   "cell_type": "markdown",
		   "metadata": {},
		   "source": [
			"## Example 6.9: Calculation_of_mean_life_of_meson_moving_with_velocity.sce"
		   ]
		  },
  {
"cell_type": "code",
	   "execution_count": null,
	   "metadata": {
	    "collapsed": true
	   },
	   "outputs": [],
"source": [
"\n",
"clc\n",
"//Given that\n",
"c = 3e8 // speed of light in m/s\n",
"v = 2.4e8 // speed of meson\n",
"t_0 = 2e-8 // lifetime of meson in second\n",
"// sample problem 9 page No. 224\n",
"printf('\n \n\n # Problem 9 # \n')\n",
"printf('\n Standard formula used ')\n",
"t = t_0 / sqrt(1 - (v  / c )^2 ) // calculation of Lifetime of meson\n",
"printf ('\n Lifetime of meson is %e sec.', t )"
   ]
   }
],
"metadata": {
		  "kernelspec": {
		   "display_name": "Scilab",
		   "language": "scilab",
		   "name": "scilab"
		  },
		  "language_info": {
		   "file_extension": ".sce",
		   "help_links": [
			{
			 "text": "MetaKernel Magics",
			 "url": "https://github.com/calysto/metakernel/blob/master/metakernel/magics/README.md"
			}
		   ],
		   "mimetype": "text/x-octave",
		   "name": "scilab",
		   "version": "0.7.1"
		  }
		 },
		 "nbformat": 4,
		 "nbformat_minor": 0
}
