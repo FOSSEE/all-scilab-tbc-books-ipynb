{
"cells": [
 {
		   "cell_type": "markdown",
	   "metadata": {},
	   "source": [
       "# Chapter 9: Stars and their Classification"
	   ]
	},
{
		   "cell_type": "markdown",
		   "metadata": {},
		   "source": [
			"## Example 9.1: Calculation_of_change_in_brightness_of_a_nova_in_2_days.sce"
		   ]
		  },
  {
"cell_type": "code",
	   "execution_count": null,
	   "metadata": {
	    "collapsed": true
	   },
	   "outputs": [],
"source": [
"clc\n",
"//Given that\n",
"m_i = 15 // initial magnitude of supernova\n",
"m_f = 2 // final magnitude of supernova\n",
"// sample problem 1 page No. 332\n",
"printf('\n # Problem 1 # \n')\n",
"\n",
"printf('Standard formula used \n\t M = m - 2.5log(L/L_0) ')\n",
"del_m = m_i - m_f // calculation of change in magnitude\n",
"brightness_ratio = 100^(del_m/5)  // calculation of increment in brightness ratio.\n",
"printf ('\n In two days novas brightness is increased by %d times nearly', ceil(brightness_ratio / 10000)*10000 )"
   ]
   }
,
{
		   "cell_type": "markdown",
		   "metadata": {},
		   "source": [
			"## Example 9.2_1: Calculation_of_change_in_magnitude_if_brightness_get_doubled.sce"
		   ]
		  },
  {
"cell_type": "code",
	   "execution_count": null,
	   "metadata": {
	    "collapsed": true
	   },
	   "outputs": [],
"source": [
"clc\n",
"//Given that\n",
"b_ratio = 2 // ratio of light output in a period \n",
"// sample problem 2a page No. 333\n",
"printf('\n # Problem 2a # \n')\n",
"\n",
"printf('Standard formula used \n\t M = m - 2.5log(L/L_0) ')\n",
"del_m = 2.5 * log10(b_ratio) // calulation of change in magnitude\n",
"printf ('\n Change in magnitude is %f times', del_m )"
   ]
   }
,
{
		   "cell_type": "markdown",
		   "metadata": {},
		   "source": [
			"## Example 9.2_2: Comparison_of_absolute_brightness_of_Capella_and_sun.sce"
		   ]
		  },
  {
"cell_type": "code",
	   "execution_count": null,
	   "metadata": {
	    "collapsed": true
	   },
	   "outputs": [],
"source": [
"clc\n",
"// given that\n",
"m_capella = 0.05 // magnitude of brightness of capella at 14 parsecs\n",
"m_sun = 4.8 // absolute magnitude of brightness of sun\n",
"d = 14 // distance of capella in parsecs\n",
"D = 10 // distance of capella considerd for observation\n",
"// sample problem 2b page No. 333\n",
"printf('\n # Problem 2a # \n')\n",
"\n",
"printf('Standard formula used \n\t M = m - 2.5log(L/L_0) ')\n",
"M_capella = m_capella - 5*log10(d/D) // calculation of absolute magnitude of brightness at distance of 10 parsecs\n",
"del_m = m_sun - M_capella // difference between absolute magnitude of sun and capella\n",
"ratio = 10^(del_m/2.5) \n",
"printf ('\n Capella is  %f times brighter than sun.', ratio )"
   ]
   }
],
"metadata": {
		  "kernelspec": {
		   "display_name": "Scilab",
		   "language": "scilab",
		   "name": "scilab"
		  },
		  "language_info": {
		   "file_extension": ".sce",
		   "help_links": [
			{
			 "text": "MetaKernel Magics",
			 "url": "https://github.com/calysto/metakernel/blob/master/metakernel/magics/README.md"
			}
		   ],
		   "mimetype": "text/x-octave",
		   "name": "scilab",
		   "version": "0.7.1"
		  }
		 },
		 "nbformat": 4,
		 "nbformat_minor": 0
}
