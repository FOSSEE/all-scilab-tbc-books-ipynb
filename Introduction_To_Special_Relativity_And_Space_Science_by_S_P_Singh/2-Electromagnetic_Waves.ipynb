{
"cells": [
 {
		   "cell_type": "markdown",
	   "metadata": {},
	   "source": [
       "# Chapter 2: Electromagnetic Waves"
	   ]
	},
{
		   "cell_type": "markdown",
		   "metadata": {},
		   "source": [
			"## Example 2.10: Determination_of_charge_inside_sphere_with_the_help_of_electric_field.sce"
		   ]
		  },
  {
"cell_type": "code",
	   "execution_count": null,
	   "metadata": {
	    "collapsed": true
	   },
	   "outputs": [],
"source": [
"clc\n",
"// Given That\n",
"A = 200 // magnitude of electric field in V/m^2\n",
"epsilon_0 = 8.85e-12 // permittivity of free space\n",
"a = 20 // radius of sphere in cm\n",
"//Sample Problem 10Page No. 84\n",
"printf('\n # Problem 10 # \n ')\n",
"q = 4*%pi * epsilon_0*A*(a*1e-2)^3  //calculation of Charge contained in sphere\n",
" printf('Charge contained in sphere is  %e C. \n', q) \n",
"\n",
""
   ]
   }
,
{
		   "cell_type": "markdown",
		   "metadata": {},
		   "source": [
			"## Example 2.11: Calculation_of_induced_emf_current_due_to_changing_area_and.sce"
		   ]
		  },
  {
"cell_type": "code",
	   "execution_count": null,
	   "metadata": {
	    "collapsed": true
	   },
	   "outputs": [],
"source": [
"clc\n",
"// Given That\n",
"B = 0.2 //  magnetic field in T\n",
"del_r = 1 // rate of change of decrement in loop radius in cm/s\n",
"r =  20 // radius of frame in cm\n",
"R = 10 // resistance of frame in m ohm\n",
"//Sample Problem 11 Page No. 84\n",
"printf('\n # Problem 11 # \n ')\n",
"e =  2* %pi * B *r *1e-2* del_r*1e-2 // magnitude of emf induced in coil\n",
"i = (e) / (R*1e-3) //calculation of Current induced due to changing magnetic field\n",
" printf('Current induced due to changing magnetic field is %f A \n', i)\n",
"\n",
"\n",
""
   ]
   }
,
{
		   "cell_type": "markdown",
		   "metadata": {},
		   "source": [
			"## Example 2.12: Calculation_of_induced_current_due_to_changing_magnetic_field.sce"
		   ]
		  },
  {
"cell_type": "code",
	   "execution_count": null,
	   "metadata": {
	    "collapsed": true
	   },
	   "outputs": [],
"source": [
"clc\n",
"// Given That\n",
"phi = 0.02 // rate of change of magnetic field in T/s\n",
"r =  2 // radius of frame in cm\n",
"R = 2 // resistance of frame in m ohm\n",
"//Sample Problem 12 Page No. 85\n",
"printf('\n # Problem 12 # \n ')\n",
"a = %pi * (r*1e-2)^2\n",
"e =  a * phi // magnitude of emf  induced in coil\n",
"i = (e) / (R*1e-3) \n",
" printf('Current induced due to changing magnetic field is %f mA \n', i*1000) \n",
""
   ]
   }
,
{
		   "cell_type": "markdown",
		   "metadata": {},
		   "source": [
			"## Example 2.13: Calculation_of_poynting_vector_at_the_surface_of_sun.sce"
		   ]
		  },
  {
"cell_type": "code",
	   "execution_count": null,
	   "metadata": {
	    "collapsed": true
	   },
	   "outputs": [],
"source": [
"clc\n",
"// Given That\n",
"r = 7e8 // radius sun in meter\n",
"power_sun = 3.8e26// power radiated by sun in W\n",
"//Sample Problem 13 Page No. 86\n",
"printf('\n # Problem 13 # \n ')\n",
"s = power_sun /(4 * %pi * (r^2)) //calculation of Pressure applied by sun radiations on earth\n",
" printf('Pressure applied by sun radiations on earth is %e W/m^2 \n', s)\n",
"\n",
""
   ]
   }
,
{
		   "cell_type": "markdown",
		   "metadata": {},
		   "source": [
			"## Example 2.14: Calculation_of_amplitude_of_electric_and_magnetic_fields_of_solar_radiation.sce"
		   ]
		  },
  {
"cell_type": "code",
	   "execution_count": null,
	   "metadata": {
	    "collapsed": true
	   },
	   "outputs": [],
"source": [
"clc\n",
"// Given That\n",
"solar_const = 2 // energy received by earth from sun in Cal/min cm2\n",
"mu_not = 1.2566e-6 // universal constant\n",
"epsilon_not = 8.85e-12 // universal constant\n",
"//Sample Problem 14 Page No. 86\n",
"printf('\n # Problem 14 # \n ')\n",
"ratio = sqrt(mu_not / epsilon_not) // constant\n",
"E = sqrt (ratio *4.2 * solar_const / 6e-3) \n",
"E_not = E * sqrt(2) //calculation of Amplitude of electric  vectors\n",
"H_not = E_not / ratio//calculation of Amplitude of magnetic vectors\n",
" printf('Amplitude of electrical and magnetic vectors are given as %f V/m and %f A/m',E_not,H_not)"
   ]
   }
,
{
		   "cell_type": "markdown",
		   "metadata": {},
		   "source": [
			"## Example 2.15: Calculation_of_average_value_of_intensity_of_electric_field_radiation.sce"
		   ]
		  },
  {
"cell_type": "code",
	   "execution_count": null,
	   "metadata": {
	    "collapsed": true
	   },
	   "outputs": [],
"source": [
"clc\n",
"// Given That\n",
"r = 1 // distance from lamp in meter\n",
"power = 100// power radiated by lamp in W\n",
"mu_not = 1.2566e-6 // universal constant\n",
"epsilon_not = 8.85e-12 // universal constant\n",
"//Sample Problem 15 Page No. 87\n",
"printf('\n # Problem 15 # \n ')\n",
"s = power /(4 * %pi * (r^2)) //calculation of intensity at a distance\n",
"ratio = sqrt(mu_not / epsilon_not) //calculation of a constant\n",
"E = sqrt (ratio * s) //calculation of Average value of intensity of electric field\n",
" printf('Average value of intensity of electric field is %f V/m \n', E)\n",
"\n",
""
   ]
   }
,
{
		   "cell_type": "markdown",
		   "metadata": {},
		   "source": [
			"## Example 2.2: Calculation_of_energy_stored_in_cylinder_and_wave_Intensity.sce"
		   ]
		  },
  {
"cell_type": "code",
	   "execution_count": null,
	   "metadata": {
	    "collapsed": true
	   },
	   "outputs": [],
"source": [
"clc\n",
"// Given That\n",
"E_0 = 50 // magnitude of electric field  in N/C\n",
"l = 100 // radius of cylinder in cm\n",
"a = 5 // area of cross section in cm^2\n",
"c = 3e8 // speed of light in m/s\n",
"epsilon_0 = 8.85e-12 // permittivity of free space\n",
"//Sample Problem 2 Page No. 79\n",
"printf('\n # Problem 2  # \n ')\n",
"v = a*1e-4 *l*1e-2//calculation of volume of cylinder\n",
"u = (1/2)*epsilon_0*E_0^2//calculation of energy intensity\n",
"U = v*u//calculation of Energy contained in cylinder\n",
"I = u*c//calculation of Intensity of wave\n",
" printf('Energy contained in cylinder is %eJ \n', U) \n",
"printf('Intensity of wave is %fW/m^2', I)\n",
""
   ]
   }
,
{
		   "cell_type": "markdown",
		   "metadata": {},
		   "source": [
			"## Example 2.3: Determination_of_amplitude_of_electric_field.sce"
		   ]
		  },
  {
"cell_type": "code",
	   "execution_count": null,
	   "metadata": {
	    "collapsed": true
	   },
	   "outputs": [],
"source": [
"clc\n",
"// Given That\n",
"I = 2.4 // intensity of radiation in Watt per meter square\n",
"epsilon_0 = 8.85e-12\n",
"c = 3e8\n",
"//Sample Problem 3 Page No. 80\n",
"printf('\n # Problem 3 # \n ')\n",
"E = sqrt ((2* I)/ (c * epsilon_0)) // calculation of amplitude of electric field is\n",
"printf('Amplitude of electric field is %f N/C \n', E)\n",
""
   ]
   }
,
{
		   "cell_type": "markdown",
		   "metadata": {},
		   "source": [
			"## Example 2.4: Calculation_of_energy_stored_in_a_length_of_laser_beam.sce"
		   ]
		  },
  {
"cell_type": "code",
	   "execution_count": null,
	   "metadata": {
	    "collapsed": true
	   },
	   "outputs": [],
"source": [
"clc\n",
"// Given That\n",
"l = 75 // length of laser beam in cm\n",
"power = 6e-3 // power of beam in mW\n",
"c = 3e8\n",
"//Sample Problem 4 Page No. 80\n",
"printf('\n # Problem 4 # \n ')\n",
"t = l / ( c * 100) //calculation of time taken to cover distance\n",
"U =  power/1000 * t//calculation of Energy stored in given length\n",
" printf('Energy stored in given length is %e J \n', U)"
   ]
   }
,
{
		   "cell_type": "markdown",
		   "metadata": {},
		   "source": [
			"## Example 2.6: Calculation_of_maximum_Electric_and_magnetic_force_on_an_electron_due_to_EM_wave.sce"
		   ]
		  },
  {
"cell_type": "code",
	   "execution_count": null,
	   "metadata": {
	    "collapsed": true
	   },
	   "outputs": [],
"source": [
"clc\n",
"// Given That\n",
"E_0 = 300 // maximum electric field in electromagnetic wave in w/m\n",
"v = 2e8 // speed of moving electron in m/s along y - axis\n",
"c = 3e8 // speed of light in m/s\n",
"q = 1.6e-19 // charge on electron in coulomb\n",
"//Sample Problem 6 Page No. 81\n",
"printf ('\n # Problem 6 # \n ')\n",
"B_0  = E_0 / c // calculation of magnitude of maximum magnetic field\n",
"F_e = q*E_0 // calculation of electromagnetic force on electron in N\n",
"F_b = q*v*B_0 // calculation of magnetic force on electron in N\n",
" printf ('The maximum electric force on electron is  %e N along y -axis \n', F_e) \n",
" printf('The maximum magnetic force on electron is  %e N along z - axis\n', F_b)\n",
""
   ]
   }
,
{
		   "cell_type": "markdown",
		   "metadata": {},
		   "source": [
			"## Example 2.7: Calculation_of_average_solar_energy_flux_and_pressure_applied_by_it_on_earth.sce"
		   ]
		  },
  {
"cell_type": "code",
	   "execution_count": null,
	   "metadata": {
	    "collapsed": true
	   },
	   "outputs": [],
"source": [
"clc\n",
"// Given That\n",
"d = 1.5e11 // separation between earth and sun in meter\n",
"power_sun = 3.8e26// power radiated by sun in W\n",
"c = 3e8\n",
"//Sample Problem 7 Page No. 82\n",
"printf('\n # Problem 7 # \n ')\n",
"s = power_sun /(4 * %pi * (d^2)) //calculation of Energy received per unit surface area per unit time\n",
"p =  s / c // calculation of Pressure applied by sun radiations on earth\n",
"printf('Energy received per unit surface area per unit time is %f', s)\n",
" printf('\n Pressure applied by sun radiations on earth is %e N/m^2 \n', p)\n",
"\n",
" \n",
""
   ]
   }
,
{
		   "cell_type": "markdown",
		   "metadata": {},
		   "source": [
			"## Example 2.8: Calculation_of_electric_flux_through_plane_square_due_to_uniform_electric_field.sce"
		   ]
		  },
  {
"cell_type": "code",
	   "execution_count": null,
	   "metadata": {
	    "collapsed": true
	   },
	   "outputs": [],
"source": [
"clc\n",
"// Given That\n",
"E = 100 // magnitude of electric field perpendicular to X axis in N/C\n",
"r = 10 // radius of circle in cm\n",
"//Sample Problem 8 Page No. 83\n",
"printf('\n # Problem 8  # \n ')\n",
"ds = (r*1e-2)^2 //calculation of area of coil\n",
"phi = E*ds //calculation of Flux through coil\n",
"  printf('Flux through coil is  %d Nm/C \n', phi)\n",
""
   ]
   }
,
{
		   "cell_type": "markdown",
		   "metadata": {},
		   "source": [
			"## Example 2.9: EX2_9.sce"
		   ]
		  },
  {
"cell_type": "code",
	   "execution_count": null,
	   "metadata": {
	    "collapsed": true
	   },
	   "outputs": [],
"source": [
"clc\n",
"// Given That\n",
"sigma = 2e-6 // surface charge density in c/m^2 on XY plane\n",
"theta = 60 // angle between normal and X axis on degree\n",
"r = 10 // radius of circle in cm\n",
"epsilon_0 = 8.85e-12 // permitivity of free space\n",
"//Sample Problem 9 Page No. 84\n",
"printf('\n # Problem 9  # \n ')\n",
"printf('standard formula used \n phi = sigma*A*cos(theta)/(2*epsilon_0) \n\n')\n",
"phi = sigma* %pi*(r*1e-2)^2 * cos (theta*%pi/180) / (2*epsilon_0) //calculation of Flux through coil\n",
" printf('Flux through coil is  %e Nm^2/C. \n', phi)"
   ]
   }
],
"metadata": {
		  "kernelspec": {
		   "display_name": "Scilab",
		   "language": "scilab",
		   "name": "scilab"
		  },
		  "language_info": {
		   "file_extension": ".sce",
		   "help_links": [
			{
			 "text": "MetaKernel Magics",
			 "url": "https://github.com/calysto/metakernel/blob/master/metakernel/magics/README.md"
			}
		   ],
		   "mimetype": "text/x-octave",
		   "name": "scilab",
		   "version": "0.7.1"
		  }
		 },
		 "nbformat": 4,
		 "nbformat_minor": 0
}
