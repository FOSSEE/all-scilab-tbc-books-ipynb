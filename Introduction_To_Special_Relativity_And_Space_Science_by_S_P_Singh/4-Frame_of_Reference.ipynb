{
"cells": [
 {
		   "cell_type": "markdown",
	   "metadata": {},
	   "source": [
       "# Chapter 4: Frame of Reference"
	   ]
	},
{
		   "cell_type": "markdown",
		   "metadata": {},
		   "source": [
			"## Example 4.1: Calculation_of_magnitude_of_force_vector_and_it_angle_with_axes.sce"
		   ]
		  },
  {
"cell_type": "code",
	   "execution_count": null,
	   "metadata": {
	    "collapsed": true
	   },
	   "outputs": [],
"source": [
"clc\n",
"//Given that\n",
"F = [2.5,4.5,-5] // F is a force vector act through origin\n",
"// sample Problem 1  Page No. 176\n",
"printf('\n\n\n # Problem 1 # \n')\n",
"F_magnitude = sqrt ( 2.5^2 + 4.5^2 + (-5)^2)\n",
"theta_x = (180 / %pi ) * acos ( 2.5 / F_magnitude)\n",
"theta_y = (180 / %pi ) * acos ( 4.5 / F_magnitude)\n",
"theta_z = (180 / %pi ) * acos ( -5 / F_magnitude)\n",
"printf (' \n Magnitude of force F is %f N', F_magnitude)\n",
"printf(' \n Angle made with X - axis is %f degree', theta_x)\n",
"printf(' \n Angle made with Y - axis is %f degree' ,theta_y)\n",
"printf(' \n Angle made with Z - axis is %f degree', theta_z)"
   ]
   }
,
{
		   "cell_type": "markdown",
		   "metadata": {},
		   "source": [
			"## Example 4.2_1: To_determine_directional_cosines_of_force_vector.sce"
		   ]
		  },
  {
"cell_type": "code",
	   "execution_count": null,
	   "metadata": {
	    "collapsed": true
	   },
	   "outputs": [],
"source": [
"clc\n",
"//Given that\n",
"r = [2,2,2*sqrt(2)]\n",
"\n",
"// sample Problem 2a  Page No. 176\n",
"printf('\n \n\n # Problem 2a # \n')\n",
"r_magnitude = sqrt ( 2^2 + 2^2 + (2*sqrt(2))^2)\n",
"cos_x =  ( 2 / r_magnitude)\n",
"cos_y = ( 2 / r_magnitude)\n",
"cos_z = ( 2.8284 / r_magnitude)\n",
"printf(' \n Directional cosine in X - axis is %f ', cos_x)\n",
"printf(' \n Directional cosine in Y - axis is %f ' ,cos_y)\n",
"printf(' \n Directional cosine in Z - axis is %f ', cos_z)\n",
""
   ]
   }
,
{
		   "cell_type": "markdown",
		   "metadata": {},
		   "source": [
			"## Example 4.2_2: To_determine_projection_of_a_vector_in_xz_and_yz_planes.sce"
		   ]
		  },
  {
"cell_type": "code",
	   "execution_count": null,
	   "metadata": {
	    "collapsed": true
	   },
	   "outputs": [],
"source": [
"clc\n",
"//Given that\n",
"r_xz = [2,2.8282]\n",
"// sample Problem 2b  Page No. 176\n",
"printf('\n \n\n # Problem 2b # \n')\n",
"r_xz = sqrt (2^2 + (2.8282)^2)\n",
"r_yz = sqrt (2^2 + (2.8282)^2)\n",
"printf (' \n Projection of vector r in xz plane is %f', r_xz)\n",
"printf (' \n projection of vector r in yz plane is %f', r_yz)\n",
""
   ]
   }
,
{
		   "cell_type": "markdown",
		   "metadata": {},
		   "source": [
			"## Example 4.3: Determination_of_work_done_by_three_forces.sce"
		   ]
		  },
  {
"cell_type": "code",
	   "execution_count": null,
	   "metadata": {
	    "collapsed": true
	   },
	   "outputs": [],
"source": [
"clc\n",
"//Given that\n",
"d1 = [5,-5,-4] // initial coordinate point of vector d\n",
"d2 = [6,2,-2] // final coordinate point of vector d\n",
"F1 = [10,-1,10] // first force acting on particle\n",
"F2 = [4,5,6] // second  force acting on particle\n",
"F3 = [-2,1,-9]  // third force acting on particle\n",
"\n",
"\n",
"// sample Problem 3  Page No. 177\n",
"printf('\n \n\n # Problem 3 # \n')\n",
"d = d2 - d1 // d is vector of displacement\n",
"F = F1 + F2 + F3 // F is resultant of all the force\n",
"printf('Standard formula used is W = F*d \n ')\n",
"W = F * d'\n",
"printf(' \n Total work done  is %d units ', W)"
   ]
   }
,
{
		   "cell_type": "markdown",
		   "metadata": {},
		   "source": [
			"## Example 4.4: Determination_of_vector_to_make_airplane_landing_in_time.sce"
		   ]
		  },
  {
"cell_type": "code",
	   "execution_count": null,
	   "metadata": {
	    "collapsed": true
	   },
	   "outputs": [],
"source": [
"clc\n",
"//Given that\n",
"v_w_x = 40 * cos(45 * %pi / 180) // x component of wind blow in miles/h\n",
"v_w_y = 40 * sin(45 * %pi /180) // y component of wind blow in miles/h\n",
"r_x = 200 // distance  of destination point in x direction in miles\n",
"r_y = 0 // distance  of destination point in y direction in miles\n",
"t = 40 // time taken by aeroplane to reach destination in minutes\n",
"// sample Problem 4  Page No. 177\n",
"printf('\n # Problem 4 # \n')\n",
"printf('Standard formula used is V = V1 + V2 + .....+ V_n \n ')\n",
"v_x = (r_x)/t *60 // x - component of velocity  required to reach destination in time in miles/h\n",
"v_y = r_y /t *60 // x - component of velocity  required to reach destination in time in miles/h \n",
"v_p_x = v_x - v_w_x // x component of aeroplane velocity in miles/h\n",
"v_p_y = v_y - v_w_y // y component of aeroplane velocity in miles/h\n",
"printf(' \n Vector of velocity of pilot with respect to moving air is %f i %fj miles/h \n where i and j stands for east and north respectively ', v_p_x,v_p_y)\n",
""
   ]
   }
,
{
		   "cell_type": "markdown",
		   "metadata": {},
		   "source": [
			"## Example 4.5: Determination_of_difference_in_acceleration_due_to_gravity_at_pole_and_equator.sce"
		   ]
		  },
  {
"cell_type": "code",
	   "execution_count": null,
	   "metadata": {
	    "collapsed": true
	   },
	   "outputs": [],
"source": [
"clc\n",
"//Given that\n",
"R_e = 6.4e6 // radius of earth in m\n",
"T = 8.64e4 // time period of one rotation of earth\n",
"theta_pole = 90 // angle between pole and rotational axis \n",
"theta_equator = 0 // angle between equator and rotational axis \n",
"g_pole = 9.8 // gravitational acceleration at pole in m/s^2\n",
"// sample Problem 5 Page No. 178\n",
"printf ('\n \n\n # Problem 5 # \n')\n",
"printf('Standard formula used is g1 = g - R_e*f^2*(cos(theta))^2 \n ')\n",
"f = 2 * %pi / T // rotational frequency of earth\n",
" g_equator = g_pole -  R_e * f^2\n",
" del_g = g_pole - g_equator\n",
"printf(' \n Difference in gravitational acceleration at pole and equator is %e m/s^2 ', del_g)\n",
""
   ]
   }
,
{
		   "cell_type": "markdown",
		   "metadata": {},
		   "source": [
			"## Example 4.6: EX4_6.sce"
		   ]
		  },
  {
"cell_type": "code",
	   "execution_count": null,
	   "metadata": {
	    "collapsed": true
	   },
	   "outputs": [],
"source": [
"clc\n",
"//Given that\n",
"R_e = 6.4e6 // radius of earth in m\n",
"theta_pole = 90 // angle between pole and rotational axis \n",
"theta_equator = 0 // angle between equator and rotational axis \n",
"g_pole = 10 // gravitational acceleration at pole in m/s^2\n",
"g_equator = 0 // gravitational acceleration at equator in m/s^2\n",
"// sample Problem 6 Page No. 178\n",
"printf ('\n \n\n # Problem 6 # \n')\n",
"printf('Standard formula used is g1 = g - R_e*f^2*(cos(theta))^2 \n ')\n",
" f = sqrt (g_pole / R_e)\n",
" T = 2 * %pi / f / 3.6e3\n",
" printf('Angular velocity of Earth will be %e rad/s \n Time period would be %f hours',f,T)\n",
""
   ]
   }
,
{
		   "cell_type": "markdown",
		   "metadata": {},
		   "source": [
			"## Example 4.7: EX4_7.sce"
		   ]
		  },
  {
"cell_type": "code",
	   "execution_count": null,
	   "metadata": {
	    "collapsed": true
	   },
	   "outputs": [],
"source": [
"clc\n",
"//Given that\n",
"g_pole = 9.8 // gravitational acceleration at pole\n",
"m = 1 // mass of substance in kg\n",
"R_e = 6.4e6 // radius of earth in m\n",
"// sample Problem 7  Page No. 179\n",
"printf('\n  # Problem 7 # \n')\n",
"printf('Standard formula used is \n coriolis force = -2*m*f x v\n \n')\n",
" g_equator = 0.75 *g_pole // gravitational acceleration at equator in m/s^2\n",
"  f = sqrt ((g_pole - g_equator)/ R_e)\n",
" printf ('Angular velocity of Earth will be %e rad/s .\n ',f)\n",
""
   ]
   }
,
{
		   "cell_type": "markdown",
		   "metadata": {},
		   "source": [
			"## Example 4.8: Determination_of_magnitude_and_direction_of_Carioles_force_acting_on_mass.sce"
		   ]
		  },
  {
"cell_type": "code",
	   "execution_count": null,
	   "metadata": {
	    "collapsed": true
	   },
	   "outputs": [],
"source": [
"clc\n",
"//Given that\n",
"m = 1 // mass of particle in kg\n",
"theta = 30 // latitude position in degree\n",
"v = 0.5 // velocity of particle in km/s in north direction\n",
"\n",
"\n",
"// sample Problem 8  Page No. 180\n",
"printf('\n # Problem 8 # \n')\n",
"printf('Standard formula used is coriolis Force = 2*mass*angular velocity X velocity ')\n",
"f_x = -2*m*2*%pi * v*1000*(-1)*sin(theta*%pi/180)/86400 // coriolis force in east direction\n",
"f_z = -2*m*2*%pi * v*1000*cos(theta*%pi/180)/86400 // coriolis force in verticle direction\n",
"F = sqrt(f_x^2+f_z^2)\n",
"alpha = -atan(f_z/f_x) *180 /%pi\n",
"printf(' \n Magnitude and direction  of coriolis force on particle are \n %e N and %d degree with east respectively',F,alpha)\n",
""
   ]
   }
],
"metadata": {
		  "kernelspec": {
		   "display_name": "Scilab",
		   "language": "scilab",
		   "name": "scilab"
		  },
		  "language_info": {
		   "file_extension": ".sce",
		   "help_links": [
			{
			 "text": "MetaKernel Magics",
			 "url": "https://github.com/calysto/metakernel/blob/master/metakernel/magics/README.md"
			}
		   ],
		   "mimetype": "text/x-octave",
		   "name": "scilab",
		   "version": "0.7.1"
		  }
		 },
		 "nbformat": 4,
		 "nbformat_minor": 0
}
