{
"cells": [
 {
		   "cell_type": "markdown",
	   "metadata": {},
	   "source": [
       "# Chapter 1: Interference Diffraction and Polarization"
	   ]
	},
{
		   "cell_type": "markdown",
		   "metadata": {},
		   "source": [
			"## Example 1.10: EX1_10.sce"
		   ]
		  },
  {
"cell_type": "code",
	   "execution_count": null,
	   "metadata": {
	    "collapsed": true
	   },
	   "outputs": [],
"source": [
"clc\n",
"//Given that\n",
"t = 5e-5 // thickness of soap film in cm \n",
"theta = 35 // angle of view in degree\n",
"mu = 1.33 // refractive index of soap film \n",
"// sample problem 10 page No. 50\n",
"printf('\n # Problem 10 # \n')\n",
"a = 0\n",
"printf('Standard formula used \n\t 2*mu*t*cos(r) = n*lambda ')\n",
"r = asin (sin(theta * %pi /180) / mu)\n",
"for n = 1:3\n",
"    lambda = 2 * mu * t * cos(r) / n\n",
"    if lambda > t then\n",
"        a = a + 1\n",
"    end\n",
"end\n",
"printf (' \n\n The lowest order n = %d will be absent in visible region.',a)"
   ]
   }
,
{
		   "cell_type": "markdown",
		   "metadata": {},
		   "source": [
			"## Example 1.11: Determination_of_wavelength_of_light_in_biprism_experiment.sce"
		   ]
		  },
  {
"cell_type": "code",
	   "execution_count": null,
	   "metadata": {
	    "collapsed": true
	   },
	   "outputs": [],
"source": [
"clc\n",
"//Given that\n",
"D=120// separation between source and screen in cm\n",
"d=0.00075// separation between sources in cm \n",
"l=1.888// transverse distance moved by eyepiece in cm\n",
"N=25// order of fringe\n",
"//Sample Problem 11 Page No. 50\n",
"printf('\n # Problem 11 # \n')\n",
"printf(' \n Standard formula used \n beta=lambda*D/d \n')\n",
"lambda=d*l/(D*N)*1e10\n",
"printf('\n Wavelength of light used is %d Angstrom.', lambda)"
   ]
   }
,
{
		   "cell_type": "markdown",
		   "metadata": {},
		   "source": [
			"## Example 1.12: Determination_of_wavelength_of_light_in_Newtons_ring_experiment.sce"
		   ]
		  },
  {
"cell_type": "code",
	   "execution_count": null,
	   "metadata": {
	    "collapsed": true
	   },
	   "outputs": [],
"source": [
"clc\n",
"//Given that\n",
"D15=0.59// diameter of 15th newton’s ring in cm\n",
"D5=0.336// diameter of 5th newton’s ring in cm\n",
"R=100// radius of Plano convex lens in cm\n",
"//Sample Problem 12 Page No. 51\n",
"printf('\n # Problem 12 # \n')\n",
"p=15-5\n",
"printf(' \n Standard formula used \n D_a^2 – D_b^2 = 4*p*R*lambda \n')\n",
"\n",
"lambda=(D15^2 - D5^2)/(4*p*R)*1e8\n",
"printf('\n Wavelength of light used is %d Angstrom.', lambda)"
   ]
   }
,
{
		   "cell_type": "markdown",
		   "metadata": {},
		   "source": [
			"## Example 1.13: Calculation_of_refractive_index_of_air.sce"
		   ]
		  },
  {
"cell_type": "code",
	   "execution_count": null,
	   "metadata": {
	    "collapsed": true
	   },
	   "outputs": [],
"source": [
"clc\n",
"//Given\n",
"t=40// length of tube in cm\n",
"lambda=5e-5// wavelength of incident light in cm \n",
"n=150// order of fringe\n",
"//Sample Problem 13 Page No. 52\n",
"printf('\n # Problem 13 # \n')\n",
"printf(' \n Standard formula used \n   (mu – 1 )*t = n* lambda \n')\n",
"t=n*lambda/t+1\n",
"printf('\n Refractive index of oil film is %f  .', t)\n",
"\n",
"\n",
""
   ]
   }
,
{
		   "cell_type": "markdown",
		   "metadata": {},
		   "source": [
			"## Example 1.14: Calculation_of_thickness_of_air_film.sce"
		   ]
		  },
  {
"cell_type": "code",
	   "execution_count": null,
	   "metadata": {
	    "collapsed": true
	   },
	   "outputs": [],
"source": [
"clc\n",
"//Given\n",
"no_fringe = 250 // Number of fringes observed through telescope\n",
"lambda1 = 4e-5// wavelength of incident light in cm \n",
"lambda2 = 6.5e-5 // wavelength of incident light in cm \n",
"\n",
"//Sample Problem 14 Page No. 52\n",
"printf('\n # Problem 14 # \n')\n",
"printf(' \n Standard formula used \n  2*t = p*lambda')\n",
"p =  no_fringe * lambda1 / (lambda2- lambda1)\n",
"t = p * lambda2 / 2\n",
"printf('\n Thickness  of air film  is %f cm.  ', t)\n",
"\n",
"\n",
"\n",
""
   ]
   }
,
{
		   "cell_type": "markdown",
		   "metadata": {},
		   "source": [
			"## Example 1.15: Calculation_of_thickness_of_oil_film.sce"
		   ]
		  },
  {
"cell_type": "code",
	   "execution_count": null,
	   "metadata": {
	    "collapsed": true
	   },
	   "outputs": [],
"source": [
"clc\n",
"//Given\n",
"mu_oil=1.3// refractive index of oil\n",
"mu_glass=1.5//refractive index of glass\n",
"lambda1=5e-7// wavelength of incident light in cm \n",
"lambda2=7e-7// wavelength of incident light in cm \n",
"\n",
"//Sample Problem 15 Page No. 52\n",
"printf('\n # Problem 15 # \n')\n",
"printf(' \n Standard formula used \n   2*mu*t*cos r = (p +0.5)*lambda \n')\n",
"p= ((lambda2+lambda1)/ (lambda2-lambda1))/2\n",
"t= ((p+0.5)*lambda1)/ (2*mu_oil)*1e10\n",
"printf('\n Thickness of oil film  is %d Angstrom.  ',ceil(t))\n",
"\n",
"\n",
""
   ]
   }
,
{
		   "cell_type": "markdown",
		   "metadata": {},
		   "source": [
			"## Example 1.16: Determination_of_diameter_fourth_bright_ring_in_Newtons_ring_experiment.sce"
		   ]
		  },
  {
"cell_type": "code",
	   "execution_count": null,
	   "metadata": {
	    "collapsed": true
	   },
	   "outputs": [],
"source": [
"clc\n",
"//Given\n",
"lambda=5.6e-5// wavelength of incident light in cm \n",
"f=4//focal length in meter\n",
"mu=1.5// refractive index of glass\\n",
"n=4// order of fringe\n",
"//Sample Problem 16 Page No. 53\n",
"printf ('\n # Problem 16 # \n')\n",
"printf(' \n Standard formula used \n   D_n= sqrt(2*(2*n-1)*lambda*R \n')\n",
"R= (mu-1)*2*f\n",
"D_4=sqrt (2*(2*n-1)*lambda*R*100)\n",
"printf('Diameter of 4th bright fringe is %f cm.',D_4)\n",
""
   ]
   }
,
{
		   "cell_type": "markdown",
		   "metadata": {},
		   "source": [
			"## Example 1.17: EX1_17.sce"
		   ]
		  },
  {
"cell_type": "code",
	   "execution_count": null,
	   "metadata": {
	    "collapsed": true
	   },
	   "outputs": [],
"source": [
"clc\n",
"//Given\n",
"D_5=0.336// diameter of fifth ring in cm\n",
"D_15=0.59// diameter of fifteenth ring in cm\n",
"lambda=5.893e-5// wavelength of incident light in cm \n",
"p=10\n",
"//Sample Problem 17 Page No. 53\n",
"printf('\n # Problem 17 # \n')\n",
"printf(' \n Standard formula used \n   D_(n+p) ^2 – D_n^2 = 4*p*R*lambda \n')\n",
"r= ((D_15^2-D_5^2)/ (4*p*lambda))\n",
"printf('\n  Radius of curvature of Plano-convex lens is %f cm. ',r)"
   ]
   }
,
{
		   "cell_type": "markdown",
		   "metadata": {},
		   "source": [
			"## Example 1.18_1: EX1_18_1.sce"
		   ]
		  },
  {
"cell_type": "code",
	   "execution_count": null,
	   "metadata": {
	    "collapsed": true
	   },
	   "outputs": [],
"source": [
"clc\n",
"//Given\n",
"D_10=0.5// diameter of 10th dark ring\n",
"lambda=5.9e-5// wavelength of incident light in cm \n",
"n=10// order of ring \n",
"//Sample Problem 18a Page No. 54\n",
"printf('\n # Problem 18a # \n')\n",
"printf(' \n Standard formula used \n   r_n^2 = n*lambda*R \n')\n",
"r=D_10/2\n",
"R=r^2/ (n*lambda)/1000\n",
"printf('Radius of curvature is %f m.\n ',R)\n",
""
   ]
   }
,
{
		   "cell_type": "markdown",
		   "metadata": {},
		   "source": [
			"## Example 1.18_2: Determination_of_thickness_of_air_film_in_Newtons_ring_experiment.sce"
		   ]
		  },
  {
"cell_type": "code",
	   "execution_count": null,
	   "metadata": {
	    "collapsed": true
	   },
	   "outputs": [],
"source": [
"clc\n",
"//Given\n",
"lambda=5.9e-5// wavelength of incident light in cm \n",
"n=10// order of ring \n",
"//Sample Problem 18b Page No. 54\n",
"printf('\n # Problem 18b # \n')\n",
"printf(' \n Standard formula used \n   2t = n*lambda \n')\n",
"t=n*lambda/200\n",
"printf(' Thickness of air film is %e m.\n ',t)\n",
""
   ]
   }
,
{
		   "cell_type": "markdown",
		   "metadata": {},
		   "source": [
			"## Example 1.19: EX1_19.sce"
		   ]
		  },
  {
"cell_type": "code",
	   "execution_count": null,
	   "metadata": {
	    "collapsed": true
	   },
	   "outputs": [],
"source": [
"clc\n",
"//Given\n",
"mu=4/3\n",
"D_10=0.6// diameter of tenth ring in cm\n",
"lambda=6.0e-5// wavelength of incident light in cm \n",
"n=10// order of ring \n",
"\n",
"//Sample Problem 19 Page No. 54\n",
"printf('\n # Problem 19 # \n')\n",
"printf(' \n Standard formula used \n   D_n^2 = 4*n*lambda*R/mu \n')\n",
"R= (mu*D_10^2/ (4*n*lambda))\n",
"\n",
"printf(' Radius of curvature of lens is %d cm.\n ',ceil(R))\n",
"\n",
"\n",
""
   ]
   }
,
{
		   "cell_type": "markdown",
		   "metadata": {},
		   "source": [
			"## Example 1.1: Determination_of_slit_separation_in_Young_double_slit_experiment.sce"
		   ]
		  },
  {
"cell_type": "code",
	   "execution_count": null,
	   "metadata": {
	    "collapsed": true
	   },
	   "outputs": [],
"source": [
"clc //Given that\n",
"Beta=0.10//fringe width in cm\n",
"D=200// separation between source and screen in cm\n",
"lambda=0.00055// wavelength of incident light in cm \n",
"//Sample Problem 1 Page No. 46\n",
"printf ('\n # Problem 1 # \n')\n",
"d= (D*lambda)/ (10*Beta)\n",
"printf (' \n Standard formula used \n  beta= lambda*D/d \n')\n",
"\n",
"printf ('\n Separation between sources is %f cm. \n',d)\n",
"\n",
""
   ]
   }
,
{
		   "cell_type": "markdown",
		   "metadata": {},
		   "source": [
			"## Example 1.20: Determination_of_wavelength_of_light_using_grating.sce"
		   ]
		  },
  {
"cell_type": "code",
	   "execution_count": null,
	   "metadata": {
	    "collapsed": true
	   },
	   "outputs": [],
"source": [
"clc\n",
"//Given\n",
"grating_element=6000// lines per centimeter\n",
"theta=30// angle of second order spectral line in degree \n",
"n=2// order\n",
"\n",
"//Sample Problem 20 Page No. 54\n",
"printf('\n # Problem 20 # \n')\n",
"printf(' \n Standard formula used \n   n*lambda= (a+b)*sin(theta) \n')\n",
"\n",
"lambda=sin(theta*%pi/180)/(grating_element*n)\n",
"printf(' Wavelength is %e cm.\n',lambda)\n",
""
   ]
   }
,
{
		   "cell_type": "markdown",
		   "metadata": {},
		   "source": [
			"## Example 1.21: Determination_of_highest_order_which_can_be_seen_by_a_grating.sce"
		   ]
		  },
  {
"cell_type": "code",
	   "execution_count": null,
	   "metadata": {
	    "collapsed": true
	   },
	   "outputs": [],
"source": [
"clc\n",
"//GivenS\n",
"lambda=6.2e-5// wavelength of monochromatic light in cm\n",
"grating_element= 1/5000// lines per centimeter\n",
"theta=90// angle of second order spectral line in degree \n",
"\n",
"//Sample Problem 21 Page No. 55\n",
"printf('\n # Problem 21 # \n')\n",
"printf(' \n Standard formula used \n   n*lambda= (a+b)*sin(theta)  \n')\n",
"n=grating_element/lambda\n",
"printf(' Maximum order n = %d may be seen in between the given wavelength spectrum.\n ',n)\n",
""
   ]
   }
,
{
		   "cell_type": "markdown",
		   "metadata": {},
		   "source": [
			"## Example 1.22: Determination_of_dispersive_power_grating_in_third_order_spectrum.sce"
		   ]
		  },
  {
"cell_type": "code",
	   "execution_count": null,
	   "metadata": {
	    "collapsed": true
	   },
	   "outputs": [],
"source": [
"clc\n",
"//Given\n",
"lambda=5.5e-5// wavelength of monochromatic light in cm\n",
"grating_element=1/4000// lines per centimeter\n",
"n=3// order of spectrum\n",
"\n",
"//Sample Problem 22 Page No. 55\n",
"printf('\n # Problem 22 # \n')\n",
"printf(' \n Standard formula used \n   n*lambda= (a+b)*sin(theta)\n')\n",
"sin_theta=n*lambda/grating_element\n",
"cos_theta=sqrt(1-sin_theta^2)\n",
"disp_pow=n/ (grating_element*cos_theta)\n",
"printf (' Dispersive power   is %d. \n ',disp_pow)\n",
""
   ]
   }
,
{
		   "cell_type": "markdown",
		   "metadata": {},
		   "source": [
			"## Example 1.23_1: EX1_23_1.sce"
		   ]
		  },
  {
"cell_type": "code",
	   "execution_count": null,
	   "metadata": {
	    "collapsed": true
	   },
	   "outputs": [],
"source": [
"clc\n",
"// Given That\n",
"lambda1=5.89e-5// wavelength in cm\n",
"lambda2=5.896e-5//wavelength in cm\n",
"n=1// for second order spectrum\n",
"t = 2 // width of detraction grating\n",
"grating_element = 425 // no. of lines per cm\n",
"//Sample Problem 23a Page No. 56\n",
"\n",
"printf('\n # Problem 23a # \n')\n",
"printf(' \n Standard formula used \n   lambda / d_lambda = n*N \n')\n",
"total_line = t * grating_element\n",
"printf('\n Total number of lines on diffraction grating is %d \n  So',total_line)\n",
"N=lambda1/ (lambda2-lambda1)/n\n",
"if (N > total_line) then\n",
"printf ('\n  Lines will not be resolved in %d order .',n)\n",
"printf('\nas %d  lines are required  for diffraction ', N)\n",
"else printf('\nas %d  lines are required  for diffraction are.  ', N)\n",
"    printf ('  Lines will be resolved in %d order', n)\n",
"end\n",
"\n",
""
   ]
   }
,
{
		   "cell_type": "markdown",
		   "metadata": {},
		   "source": [
			"## Example 1.23_2: EX1_23_2.sce"
		   ]
		  },
  {
"cell_type": "code",
	   "execution_count": null,
	   "metadata": {
	    "collapsed": true
	   },
	   "outputs": [],
"source": [
"clc\n",
"// Given That\n",
"lambda1=5.89e-5// wavelength in cm\n",
"lambda2=5.896e-5//wavelength in cm\n",
"n=2// for second order spectrum\n",
"t = 2 // width of diffraction grating \n",
"grating_element = 425 // no. of lines per cm\n",
"//Sample Problem 23b Page No. 56\n",
"\n",
"printf('\n # Problem 23b # \n')\n",
"printf(' \n Standard formula used \n   lambda / d_lambda = n*N \n')\n",
"total_line = t * grating_element\n",
"printf('\n Total number of lines on diffraction grating %d \n \n So',total_line)\n",
"N=lambda1/ (lambda2-lambda1)/n\n",
"if (N > total_line) then\n",
"printf ('\n  ,Lines will not be resolved in %d order.',n)\n",
"printf('\nas %d  lines are required  for diffraction are  ', N)\n",
"else printf ('  Lines will be resolved in %d order', n)\n",
"    printf('\nas %d  lines are required  for diffraction are . ', N)\n",
"end\n",
""
   ]
   }
,
{
		   "cell_type": "markdown",
		   "metadata": {},
		   "source": [
			"## Example 1.24: EX1_24.sce"
		   ]
		  },
  {
"cell_type": "code",
	   "execution_count": null,
	   "metadata": {
	    "collapsed": true
	   },
	   "outputs": [],
"source": [
"clc\n",
"// Given That\n",
"lambda1=5.89e-5// wavelength in cm\n",
"lambda2=5.896e-5//wavelength in cm\n",
"t=2.5// width of grating in cm\n",
"n=2// for second order spectrum\n",
"//Sample Problem 24 Page No. 56\n",
"\n",
"printf('\n # Problem 24 # \n')\n",
"printf(' \n Standard formula used \n   lambda / d_lambda = n*N \n')\n",
"N=lambda1/ (lambda2-lambda1)/n\n",
"grating_element=N/t\n",
"printf(' Minimum number of lines required is %f .\n ',grating_element)\n",
""
   ]
   }
,
{
		   "cell_type": "markdown",
		   "metadata": {},
		   "source": [
			"## Example 1.25: EX1_25.sce"
		   ]
		  },
  {
"cell_type": "code",
	   "execution_count": null,
	   "metadata": {
	    "collapsed": true
	   },
	   "outputs": [],
"source": [
"clc\n",
"// Given That\n",
"a=12e-5// slit width in cm\n",
"lambda1=5.89e-5// wavelength in cm\n",
"lambda2=5.896e-5//wavelength in cm\n",
"n=2// for second order spectrum\n",
"//Sample Problem 25 Page No. 56\n",
"printf('\n # Problem 25 # \n')\n",
"printf(' \n Standard formula used \n   lambda / d_lambda = n*N \n\n')\n",
"d_lambda = lambda2-lambda1\n",
"grating_element= lambda1/ (d_lambda*n)\n",
"\n",
"printf(' Minimum number of lines required is %d . \n ', ceil(grating_element))"
   ]
   }
,
{
		   "cell_type": "markdown",
		   "metadata": {},
		   "source": [
			"## Example 1.26: EX1_26.sce"
		   ]
		  },
  {
"cell_type": "code",
	   "execution_count": null,
	   "metadata": {
	    "collapsed": true
	   },
	   "outputs": [],
"source": [
"clc\n",
"// Given That\n",
"a = 12e-5 // slit width in cm\n",
"lambda = 6e-5 // wavelength in cm\n",
"//Sample Problem 26 Page No. 57\n",
"printf('\n # Problem 26 # \n')\n",
"printf(' \n Standard formula used \n   a*sin(theta ) = lambda \n')\n",
"theta = asin((lambda / a))\n",
"printf(' Half angular width of central bright maxima is %d degree .', ceil (theta * 180 / %pi) )\n",
""
   ]
   }
,
{
		   "cell_type": "markdown",
		   "metadata": {},
		   "source": [
			"## Example 1.27: Calculation_of_resolving_power_of_grating_in_first_order.sce"
		   ]
		  },
  {
"cell_type": "code",
	   "execution_count": null,
	   "metadata": {
	    "collapsed": true
	   },
	   "outputs": [],
"source": [
"clc\n",
"// Given That\n",
"lambda1 = 5.9e-5 // wavelength in cm\n",
"lambda2 = 5.896e-5 //wavelength in cm\n",
"lambda = 5.89e-5 // wavelength in cm\n",
"grating_element = 4000 // lines per cm\n",
"t = 4 // width of grating in  cm\n",
"n = 1 // for first order spectrum\n",
"//Sample Problem 27 Page No. 58\n",
"printf('\n # Problem 27 # \n')\n",
"printf(' \n Standard formula used \n   lambda / d_lambda = n*N”)\n')\n",
"\n",
"N = t * grating_element\n",
" Resolv_pow = lambda /(lambda2 - lambda)\n",
" N = Resolv_pow / n\n",
" \n",
" if (grating_element > N  )  then \n",
"     printf('Grating will well resolve two spectral lines. \n') \n",
"     end\n",
""
   ]
   }
,
{
		   "cell_type": "markdown",
		   "metadata": {},
		   "source": [
			"## Example 1.28: Calculation_of_distance_between_centre_and_first_fringe.sce"
		   ]
		  },
  {
"cell_type": "code",
	   "execution_count": null,
	   "metadata": {
	    "collapsed": true
	   },
	   "outputs": [],
"source": [
"clc\n",
"// Given That\n",
"aperture=6.4e-3// linear aperture in cm\n",
"lambda=6.24e-5// wavelength in cm\n",
"f=50// separation between lens and screen in cm\n",
"n=1// for first order spectrum\n",
"//Sample Problem 28 Page No. 58\n",
"printf('\n # Problem 28 # \n')\n",
"printf(' \n Standard formula used \n   a*sin(theta ) = lambda \n')\n",
"sin_theta=n*lambda/aperture\n",
"d=f*sin_theta\n",
"printf('\n Distance between the center and the first fringe is %f cm.\n',ceil(d*100)/100)"
   ]
   }
,
{
		   "cell_type": "markdown",
		   "metadata": {},
		   "source": [
			"## Example 1.29: Comparison_of_intensities_of_ordinary_and_extra_ordinary_light.sce"
		   ]
		  },
  {
"cell_type": "code",
	   "execution_count": null,
	   "metadata": {
	    "collapsed": true
	   },
	   "outputs": [],
"source": [
"clc\n",
"// Given That\n",
"theta = 60 // angle between plane of vibration of incident beam with optic axis\n",
"\n",
"//Sample Problem 29 Page No. 859\n",
"printf('\n # Problem 29 # \n ')\n",
"printf('Standard formula used is \n I = A^2*cos^2(theta) \n')\n",
"ratio = (tan(theta*%pi /180))^2    // ratio of extraordinary and aordinary intensites\n",
"printf('Ratio of extraordinary and ordinary intensites is %f .', ratio)\n",
""
   ]
   }
,
{
		   "cell_type": "markdown",
		   "metadata": {},
		   "source": [
			"## Example 1.2: Determination_of_wavelength_of_light_in_Youngs_double_slit_experiment.sce"
		   ]
		  },
  {
"cell_type": "code",
	   "execution_count": null,
	   "metadata": {
	    "collapsed": true
	   },
	   "outputs": [],
"source": [
"clc\n",
"//Given that\n",
"D=80// separation between source and screen in cm\n",
"d=0.18// separation between sources in cm \n",
"n=4// order of fringe\n",
"x_n=1.08// distance from central bright fringe in cm\n",
"//Sample Problem 2 Page No. 47\n",
"printf('\n # Problem 2 # \n')    \n",
"printf(' \n Standard formula used \n   x_n= n*lambda*D/d \n')\n",
"\n",
"lambda=d*x_n/(D*n)*1e7\n",
"printf('\n Wavelength of light used is %d Angstrom.', lambda)\n",
"\n",
""
   ]
   }
,
{
		   "cell_type": "markdown",
		   "metadata": {},
		   "source": [
			"## Example 1.30: Calculation_of_thickness_of_half_wave_plate.sce"
		   ]
		  },
  {
"cell_type": "code",
	   "execution_count": null,
	   "metadata": {
	    "collapsed": true
	   },
	   "outputs": [],
"source": [
"clc\n",
"// Given That\n",
"mu_e = 1.553 // refractive index of quartz plate for extra ordinary light\n",
"mu_o = 1.544 // refractive index of quartz plate for ordinary light\n",
"lambda = 5.89e-5 // wavelength of light in Angstrom.\n",
"//Sample Problem 30 Page No. 859\n",
"printf('\n # Problem 30 # \n ')\n",
"printf('Standard formula used is \n lambda= 2t(mu_e-mu_o) \n')\n",
"t = lambda / (2 * (mu_e - mu_o))\n",
"printf('Thickness of half wave plate of quartz is %e cm.', t)\n",
""
   ]
   }
,
{
		   "cell_type": "markdown",
		   "metadata": {},
		   "source": [
			"## Example 1.31: Determination_of_least_thickness_to_get_a_plane_polarized_light.sce"
		   ]
		  },
  {
"cell_type": "code",
	   "execution_count": null,
	   "metadata": {
	    "collapsed": true
	   },
	   "outputs": [],
"source": [
"clc\n",
"// Given That\n",
"lambda=5e-5// wavelength in cm\n",
"mu_e=1.5533// refractive index for extraordinary light\n",
"mu_o=1.5422// refractive index for ordinary light\n",
"//Sample Problem 31 Page No. 59\n",
"printf ('\n # Problem 31 # \n ')\n",
"printf (' \n Standard formula used \n   lambda= 2t (mu_e-mu_o)\n')\n",
"t=lambda/ (2*(mu_e-mu_o)) // calculation of Thickness of half wave plate of quartz\n",
"printf ('Thickness of half wave plate of quartz is %e cm', t)\n",
"\n",
""
   ]
   }
,
{
		   "cell_type": "markdown",
		   "metadata": {},
		   "source": [
			"## Example 1.32: Calculation_of_difference_between_refractive_indices.sce"
		   ]
		  },
  {
"cell_type": "code",
	   "execution_count": null,
	   "metadata": {
	    "collapsed": true
	   },
	   "outputs": [],
"source": [
"clc\n",
"// Given That\n",
"lambda=5.89e-5// wavelength in cm\n",
"rotation=(%pi/18)// rotation of plane of polarization in degree per cm\n",
"\n",
"//Sample Problem 32 Page No. 60\n",
"printf('\n # Problem 32 # \n ')\n",
"printf(' \n Standard formula used \n   delta=pi*d*del_mu/lambda \n')\n",
"del_mu=rotation*lambda/ (%pi)\n",
"printf('Difference in refractive indices of substance is %e .\n',del_mu)\n",
""
   ]
   }
,
{
		   "cell_type": "markdown",
		   "metadata": {},
		   "source": [
			"## Example 1.33: Determination_of_specific_rotation_of_sugar_solution.sce"
		   ]
		  },
  {
"cell_type": "code",
	   "execution_count": null,
	   "metadata": {
	    "collapsed": true
	   },
	   "outputs": [],
"source": [
"clc\n",
"// Given That\n",
"rotation=13.2// in degree\n",
"conc=0.1// gram per cubic cm\n",
"l=2// length of tube in dm\n",
"//Sample Problem 33 Page No. 60\n",
"printf('\n # Problem 33 # \n ')\n",
"printf(' \n Standard formula used \n   delta=pi*d*del_mu/lambda \n')\n",
"s= (rotation*(%pi/180))/ (l*conc)\n",
"specific_rotation=s*180/%pi\n",
"printf('Specific rotation of sample is %d degree. \n',specific_rotation)\n",
"\n",
"\n",
""
   ]
   }
,
{
		   "cell_type": "markdown",
		   "metadata": {},
		   "source": [
			"## Example 1.3: Determination_of_wavelength_of_light_in_biprism_experiment.sce"
		   ]
		  },
  {
"cell_type": "code",
	   "execution_count": null,
	   "metadata": {
	    "collapsed": true
	   },
	   "outputs": [],
"source": [
"clc\n",
"//Given that\n",
"beta=0.0320//fringe width in cm\n",
"D=100// separation between source and screen in cm\n",
"d=0.184// separation between sources in cm \n",
"//Sample Problem 3 Page No. 47\n",
"printf ('\n # Problem 3 # \n')\n",
"printf(' \n Standard formula used   beta=lambda*D/d \n')\n",
"\n",
"lambda=d*beta/D*1e8\n",
"printf('\n Wavelength of light used is %d Angstrom.',lambda)\n",
"\n",
""
   ]
   }
,
{
		   "cell_type": "markdown",
		   "metadata": {},
		   "source": [
			"## Example 1.4: Determination_of_wavelength_of_light_in_biprism_experiment.sce"
		   ]
		  },
  {
"cell_type": "code",
	   "execution_count": null,
	   "metadata": {
	    "collapsed": true
	   },
	   "outputs": [],
"source": [
"clc\n",
"//Given that\n",
"beta=0.02//fringe width in cm\n",
"D=100// separation between source and screen in cm\n",
"u=30// separation between slit and convex lens in cm\n",
"I=0.7// separation between two images of slits on screen in cm\n",
"//Sample Problem4 Page No. 47\n",
"printf('\n # Problem 4 # \n')\n",
"printf(' \n Standard formula used \n beta=lambda*D/d \n')\n",
"\n",
"v=100-u\n",
"O=I*u/v\n",
"d=O\n",
"lambda=d*beta/D*1e8\n",
"printf('\n Wavelength of light used is %d Angstrom.', lambda)\n",
"\n",
""
   ]
   }
,
{
		   "cell_type": "markdown",
		   "metadata": {},
		   "source": [
			"## Example 1.5: Determination_of_wavelength_of_light_in_biprism_experiment.sce"
		   ]
		  },
  {
"cell_type": "code",
	   "execution_count": null,
	   "metadata": {
	    "collapsed": true
	   },
	   "outputs": [],
"source": [
"clc\n",
"//Given that\n",
"x_n=1.88// fringe separation of nth fringe from central fringe in cm \n",
"N=20// order of fringe\n",
"beta=0.02//fringe width in cm\n",
"D=120// separation between source and eyepiece in cm\n",
"d=0.076// separation between sources in cm \n",
"//Sample Problem 5 Page No. 47\n",
"printf ('\n # Problem 5 # \n')\n",
"printf (' \n Standard formula used \n   beta= lambda*D/d \n')\n",
"beta=x_n/N // calculation of angle formed\n",
"lambda=d*beta/D*1e8 // calculation of Wavelength of light\n",
"printf ('\n Wavelength of light used is %d Angstrom.', lambda)"
   ]
   }
,
{
		   "cell_type": "markdown",
		   "metadata": {},
		   "source": [
			"## Example 1.6: Determination_of_fringe_width_in_biprism_experiment.sce"
		   ]
		  },
  {
"cell_type": "code",
	   "execution_count": null,
	   "metadata": {
	    "collapsed": true
	   },
	   "outputs": [],
"source": [
"clc\n",
"//Given that\n",
"mu = 1.5 // refractive index of plane glass prism\n",
"theta = %pi / 180 // angle of prism\n",
"y1 = 10 // separation between slit and biprism in cm \n",
"y2 = 100 //separation sbetween biprism and screen in cm \n",
"lambda = 0.00005893// wavelength of incident light in cm \n",
"//Sample Problem 6 Page No. 48\n",
"printf('\n # Problem 6 # \n')\n",
"printf('\n Standard formula used \n Beta = (D * lambda) / d')\n",
"d = 2 * ( mu -1) * theta * y1\n",
"D =  y1 + y2\n",
"Beta = (D * lambda) / d\n",
"printf('\n Fringe width observed at distance 1 meter  is %f m', Beta)\n",
""
   ]
   }
,
{
		   "cell_type": "markdown",
		   "metadata": {},
		   "source": [
			"## Example 1.7: Calculation_of_angle_at_vertex_of_biprism.sce"
		   ]
		  },
  {
"cell_type": "code",
	   "execution_count": null,
	   "metadata": {
	    "collapsed": true
	   },
	   "outputs": [],
"source": [
"clc\n",
"//Given that\n",
"mu=1.52// refractive index of plane glass prism\n",
"theta=%pi/180// angle of prism\n",
"y1=25// separation between slit and biprism in cm \n",
"y2=175//separation between biprism and screen in cm \n",
"lambda=0.000055// wavelength of incident light in cm \n",
"beta=0.02//fringe width in cm\n",
"//Sample Problem 7 Page No. 49\n",
"printf('\n # Problem 7 # \n')\n",
"printf(' \n Standard formula used \n   beta= lambda*D/d. \n')\n",
"D=y1+y2\n",
"d= (D*lambda)/beta\n",
"theta=d/(2*(mu-1)*y1)\n",
"vertex_angle=180-(2*theta*180/%pi)\n",
"printf('\n Vertex angle of biprism   is %f degree.',vertex_angle)\n",
""
   ]
   }
,
{
		   "cell_type": "markdown",
		   "metadata": {},
		   "source": [
			"## Example 1.8: EX1_8.sce"
		   ]
		  },
  {
"cell_type": "code",
	   "execution_count": null,
	   "metadata": {
	    "collapsed": true
	   },
	   "outputs": [],
"source": [
"clc\n",
"//Given that\n",
"mu=1.60// refractive index of plane glass prism\n",
"lambda=0.0000589// wavelength of incident light in cm \n",
"N=15// order of fringe\n",
"//Sample Problem 8 Page No. 49\n",
"printf('\n # Problem 8 # \n')\n",
"printf(' \n Standard formula used \n   del_x = D/2d *(mu-1)*t \n')\n",
"t=N*lambda/(mu-1)\n",
"printf('\n Thickness of sheet is %e cm.', t)\n",
""
   ]
   }
,
{
		   "cell_type": "markdown",
		   "metadata": {},
		   "source": [
			"## Example 1.9: EX1_9.sce"
		   ]
		  },
  {
"cell_type": "code",
	   "execution_count": null,
	   "metadata": {
	    "collapsed": true
	   },
	   "outputs": [],
"source": [
"clc\n",
"//Given that\n",
"t=0.00035// thickness of glass sheet in cm\n",
"lambda=0.000055// wavelength of incident light in cm \n",
"N=4// order of fringe\n",
"//Sample Problem 9 Page No. 50\n",
"printf('\n # Problem 9 # \n')\n",
"printf(' \n Standard formula used \n   (mu – 1 )*t = n* lambda \n')\n",
"mu=N*lambda/t+1\n",
"printf('\n Refractive index of sheet is %f .', mu)"
   ]
   }
],
"metadata": {
		  "kernelspec": {
		   "display_name": "Scilab",
		   "language": "scilab",
		   "name": "scilab"
		  },
		  "language_info": {
		   "file_extension": ".sce",
		   "help_links": [
			{
			 "text": "MetaKernel Magics",
			 "url": "https://github.com/calysto/metakernel/blob/master/metakernel/magics/README.md"
			}
		   ],
		   "mimetype": "text/x-octave",
		   "name": "scilab",
		   "version": "0.7.1"
		  }
		 },
		 "nbformat": 4,
		 "nbformat_minor": 0
}
