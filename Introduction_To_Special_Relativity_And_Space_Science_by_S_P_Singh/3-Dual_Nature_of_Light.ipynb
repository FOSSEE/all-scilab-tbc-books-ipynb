{
"cells": [
 {
		   "cell_type": "markdown",
	   "metadata": {},
	   "source": [
       "# Chapter 3: Dual Nature of Light"
	   ]
	},
{
		   "cell_type": "markdown",
		   "metadata": {},
		   "source": [
			"## Example 3.10_1: Calculation_of_Inter_atomic_separation.sce"
		   ]
		  },
  {
"cell_type": "code",
	   "execution_count": null,
	   "metadata": {
	    "collapsed": true
	   },
	   "outputs": [],
"source": [
"clc\n",
"//Given that\n",
"lambda = 0.52 // wavelength in angstrom\n",
"theta = 5 // in degree\n",
"n = 1 // order of brags reflection\n",
"//Sample Problem 10 a  Page No. 139\n",
"printf('\n\n\n # Problem 10 a # \n')\n",
"printf('\n Standard formula Used \n 2 * d * sin(theta) = n * lambda ')\n",
"d = n * lambda / (2 * sin (theta * %pi / 180))\n",
"//calculation of separation between adjacent layers of crystals\n",
"printf ('\n Separation between adjacent layers of crystals is %f angstrom. ', d)"
   ]
   }
,
{
		   "cell_type": "markdown",
		   "metadata": {},
		   "source": [
			"## Example 3.10_2: Calculation_of_angle_for_secondary_maxima.sce"
		   ]
		  },
  {
"cell_type": "code",
	   "execution_count": null,
	   "metadata": {
	    "collapsed": true
	   },
	   "outputs": [],
"source": [
"clc\n",
"//Given that\n",
"n = 2 // order \n",
"lambda = 5.2e-11 // wavelength in Angstrom \n",
"d = 2.98e-10 // interatomic separation in Angstrom\n",
"//Sample Problem 10b page No. 139\n",
"printf('\n\n\n # Problem 10b # \n')\n",
"printf('\n Standard formula Used \n 2 * d * sin(theta) = n * lambda ')\n",
"theta_rad = asin ( (n * lambda) / ( 2 * d)) //calculation of angle for secondary maxima in radian\n",
"theta_deg = theta_rad * 180 / %pi //calculation of angle for secondary maxima in degree\n",
"printf ('\n Angle for secondary maxima is  %d. ', theta_deg )\n",
""
   ]
   }
,
{
		   "cell_type": "markdown",
		   "metadata": {},
		   "source": [
			"## Example 3.11: Calculation_of_X_ray_frequency_after_scattering_through_90_degree.sce"
		   ]
		  },
  {
"cell_type": "code",
	   "execution_count": null,
	   "metadata": {
	    "collapsed": true
	   },
	   "outputs": [],
"source": [
"clc\n",
"//Given that\n",
"nu = 3.2e19 // frequency in hartz\n",
"theta = 90 // angle of scattered photon in degree\n",
"m_e = 9.1e-31 // mass of electron in Kg\n",
"c = 3e8 // speed of light in m/s\n",
"h = 6.626e-34 // plank's constant\n",
"//Sample Problem 11  Page No. 140\n",
"printf('\n \n\n# Problem 11 # \n')\n",
"printf('\n Standard formula Used \n delta_lambda = h * (1 - cos (theta )) / ( m_e * c)')\n",
"lambda = c / nu//calculation of incident wavelength\n",
"lambda_shift = h *(1 - cos(theta * %pi / 180))/ ( m_e * c) //calculation of shift in wavelength\n",
"lambda1 = lambda + lambda_shift//calculation of wavelength of scattered photon\n",
"nu1 = c / lambda1//calculation of Frequency after scattering  \n",
"printf ('\n Frequency after scattering  is %e Hz. ', nu1)"
   ]
   }
,
{
		   "cell_type": "markdown",
		   "metadata": {},
		   "source": [
			"## Example 3.12: EX3_12.sce"
		   ]
		  },
  {
"cell_type": "code",
	   "execution_count": null,
	   "metadata": {
	    "collapsed": true
	   },
	   "outputs": [],
"source": [
"clc\n",
"//Given that\n",
"r = 1e-14 // radius of nucleus of atom in meter\n",
"h = 6.626e-34 // Plank's constant\n",
"//Sample Problem 12 page No. 140\n",
"printf('\n\n\n # Problem 12 # \n')\n",
"printf('\n Standard formula Used \n delta_p * delta_x >= h /(2*pi)')\n",
"del_x = 2 * r //calculation of Uncertainty in position\n",
"del_p = h / (2 * %pi * del_x) //calculation of Uncertainty in momentum\n",
"printf ('\n Uncertainty in momentum is %e Kg-m/s. ', del_p )\n",
""
   ]
   }
,
{
		   "cell_type": "markdown",
		   "metadata": {},
		   "source": [
			"## Example 3.13: Calculation_of_uncertainty_in_position_of_a_moving_electron.sce"
		   ]
		  },
  {
"cell_type": "code",
	   "execution_count": null,
	   "metadata": {
	    "collapsed": true
	   },
	   "outputs": [],
"source": [
"clc\n",
"//Given that\n",
"v = 300 // speed of electron in m/s\n",
"accuracy = 1e-4 // accuracy in speed\n",
"h = 6.6e-34 // Plank's constant\n",
"m_e = 9.1e-31 // mass of electron in Kg\n",
"//Sample Problem 13 page No. 140\n",
"printf('\n\n\n # Problem 13 # \n')\n",
"printf('\n Standard formula Used \n delta_p * delta_x >= h /(2*pi)')\n",
"del_p =  accuracy * m_e * v  //calculation of Uncertainty in  momentum\n",
"del_x = h / (4 * %pi * del_p)  //calculation of Uncertainty in position\n",
"printf ('\n Uncertainty in position of electron is %f mm. ', del_x*1000 )\n",
"\n",
""
   ]
   }
,
{
		   "cell_type": "markdown",
		   "metadata": {},
		   "source": [
			"## Example 3.14: Calculation_of_wavelength_of_first_spectral_line_of_Lyman_series.sce"
		   ]
		  },
  {
"cell_type": "code",
	   "execution_count": null,
	   "metadata": {
	    "collapsed": true
	   },
	   "outputs": [],
"source": [
"clc\n",
"//Given that\n",
"lambda1 = 6560 // wavelength in Angstrom\n",
"n1 = 1 // transition state no\n",
"n2 = 2 // transition state no\n",
"n3 = 3 // transition state no.\n",
"//Sample Problem 14 page No. 141\n",
"printf('\n\n\n # Problem 14 # \n')\n",
"printf('\n Standard formula Used \n\n For Balmer Series \n 1/lambda =  R*(1-(1/n)^2) \n\n For Lyman series \n 1/lambda =  R*((1/2)^2 -(1/n)^2)')\n",
"lambda2 = (n2^2 * n1^2) *(n3^2 - n2^2) /( (n2^2 - n1^2) * (n3^2 * n2^2)) * lambda1  //calculation of Wavelength of first line of Lyman series\n",
"printf ('\n \nWavelength of first line of Lyman series is %f Angstrom. ', lambda2 )"
   ]
   }
,
{
		   "cell_type": "markdown",
		   "metadata": {},
		   "source": [
			"## Example 3.15: Calculation_of_zero_energy_of_a_linear_harmonic_oscillator.sce"
		   ]
		  },
  {
"cell_type": "code",
	   "execution_count": null,
	   "metadata": {
	    "collapsed": true
	   },
	   "outputs": [],
"source": [
"clc\n",
"//Given that\n",
"m = 2e-3 // mass of linear harmonic oscillator in kg\n",
"k = 100 // spring constant in N/m\n",
"h = 6.6e-34 // Plank's constant \n",
"//Sample Problem 15 page No. 142\n",
"printf('\n\n\n # Problem 15 # \n')\n",
"printf('\n Standard formula Used \n f =  sqrt(k / m ) \n U = 1/2* h * nu ')\n",
" nu = sqrt(k / m ) / (2 * %pi) //calculation of frequency of linear harmonic oscillator\n",
"U = 1/2* h * nu //calculation of Zero point energy of a linear harmonic oscillator  \n",
"printf ('\n Zero point energy of a linear harmonic oscillator  is %e J.', U )\n",
""
   ]
   }
,
{
		   "cell_type": "markdown",
		   "metadata": {},
		   "source": [
			"## Example 3.16_1: Calculation_of_wavelength_of_first_spectral_line_of_Lyman_series.sce"
		   ]
		  },
  {
"cell_type": "code",
	   "execution_count": null,
	   "metadata": {
	    "collapsed": true
	   },
	   "outputs": [],
"source": [
"clc\n",
"//Given that\n",
"R = 1.097 // Rydberg’s constant\n",
"n1 = 1 // transition state no\n",
"n2 = 2 // transition state no\n",
"//Sample Problem 16a page No. 142\n",
"printf('\n\n\n # Problem 16a # \n')\n",
"printf ('\n Standard formula Used \n For Lyman series 1/lambda = R*((1/2) ^2 - (1/n) ^2)')\n",
"nu1 = R * (n2^2 - n1^2) / (n1^2 * n2^2) //calculation of frequency of first line of Lyman series\n",
"lambda1 = 1/ nu1//calculation of Wavelength of first line of Lyman series\n",
"printf ('\n Wavelength of first line of Lyman series is %f Angstrom. ', lambda1 *1000)"
   ]
   }
,
{
		   "cell_type": "markdown",
		   "metadata": {},
		   "source": [
			"## Example 3.16_2: Calculation_of_wavelength_of_second_spectral_line_of_Lyman_series.sce"
		   ]
		  },
  {
"cell_type": "code",
	   "execution_count": null,
	   "metadata": {
	    "collapsed": true
	   },
	   "outputs": [],
"source": [
"clc\n",
"//Given that\n",
"R = 1.097 // Rydberg’s constant\n",
"n1 = 1 // transition state no\n",
"n2 = 3 // transition state no\n",
"//Sample Problem 16b page No. 142\n",
"printf('\n\n\n # Problem 16b # \n')\n",
"printf('\n Standard formula Used \n For Lyman series 1/lambda =  R*((1/2)^2 -(1/n)^2)')\n",
"nu1 = R * (n2^2 - n1^2) / (n1^2 * n2^2) //calculation of frequency of first line of Lyman series\n",
"lambda1 = 1/ nu1 //calculation of Wavelength of first line of Lyman series\n",
"printf ('\n Wavelength of second line of Lyman series is %d Angstrom. ', lambda1 *1000 )"
   ]
   }
,
{
		   "cell_type": "markdown",
		   "metadata": {},
		   "source": [
			"## Example 3.17: EX3_17.sce"
		   ]
		  },
  {
"cell_type": "code",
	   "execution_count": null,
	   "metadata": {
	    "collapsed": true
	   },
	   "outputs": [],
"source": [
"clc\n",
"//Given that\n",
"lambda1 = 4700 // wavelength in Angstrom\n",
"lambda2 = 1.4e-5//wavelength in cm \n",
"temp1 = 6174 // temperature of a black of in kelvin\n",
"//Sample Problem 17 page No. 143\n",
"printf('\n\n\n # Problem 17 # \n')\n",
"printf('\n Standard formula Used \n lambda * T = constant')\n",
"temp2 = lambda1 * temp1 / (lambda2 * 1e8) //calculation of temperature\n",
"printf ('\n Blackbody will emit  wavelength 1.4e-5 cm at %d K.',  temp2 )"
   ]
   }
,
{
		   "cell_type": "markdown",
		   "metadata": {},
		   "source": [
			"## Example 3.19_1: Calculation_of_Compton_shift_for_90_degree_scattering.sce"
		   ]
		  },
  {
"cell_type": "code",
	   "execution_count": null,
	   "metadata": {
	    "collapsed": true
	   },
	   "outputs": [],
"source": [
"clc\n",
"//Given that\n",
"lambda = 1 // wavelength in Angstrom\n",
"theta = 90 // angle of scattered photon in degree\n",
"m_e = 9.11e-31 // mass of electron in Kg\n",
"c = 3e8 // speed of light in m/s\n",
"h = 6.63e-34 // plank's constant\n",
"//Sample Problem 19a page No. 144\n",
"printf('\n\n\n # Problem 19a # \n')\n",
"printf('\n Standard formula Used \n delta_lambda = h * (1 - cos (theta )) / ( m_e * c)')\n",
"lambda_shift = h *(1 - cos(theta * %pi / 180))/ ( m_e * c) //calculation of Change in frequency  \n",
"printf ('\n Change in frequency  is %f Hz. ', lambda_shift * 1e10)\n",
"\n",
""
   ]
   }
,
{
		   "cell_type": "markdown",
		   "metadata": {},
		   "source": [
			"## Example 3.19_2: EX3_19_2.sce"
		   ]
		  },
  {
"cell_type": "code",
	   "execution_count": null,
	   "metadata": {
	    "collapsed": true
	   },
	   "outputs": [],
"source": [
"clc\n",
"//Given that\n",
"lambda1 = 1 // wavelength in Angstrom\n",
"lambda2 = 1.0243 // wavelength in Angstrom\n",
"c = 3e8 // speed of light in m/s\n",
"h = 6.63e-34 // plank's constant\n",
"//Sample Problem 19b page No. 144\n",
"printf('\n\n\n # Problem 19b # \n')\n",
"printf('\n Standard formula Used \n E= h *(nu1 – nu2)')\n",
"K = h * c * (( lambda2 - lambda1 )/ (lambda1 * lambda2 )) *(10e9 / 1.6e-19)   //calculation of Kinetic energy imparted to recoiling\n",
"printf ('\n Kinetic energy imparted to recoiling electron is %d eV.', K)"
   ]
   }
,
{
		   "cell_type": "markdown",
		   "metadata": {},
		   "source": [
			"## Example 3.1: Calculation_of_velocity_of_ejected_photoelectrons.sce"
		   ]
		  },
  {
"cell_type": "code",
	   "execution_count": null,
	   "metadata": {
	    "collapsed": true
	   },
	   "outputs": [],
"source": [
"clc\n",
"//Given that\n",
"h = 6.6e-34 // plank's constant\n",
"nu = 2e15 // frequency in Hz\n",
"phi = 6.72e-19\n",
"m = 9e-31\n",
"//Sample Problem 1 Page No. 135\n",
"printf('\n\n\n # Problem 1 # \n')\n",
"printf('Standard formula Used \n ( 1/2)*m*v^2 = h*nu - phi')\n",
"v = sqrt ((h * nu)/ m ) //calculation of maximum velocity of photoelectron\n",
"printf('\n Maximum velocity of photoelectron can be %e  m/s.. ', v)"
   ]
   }
,
{
		   "cell_type": "markdown",
		   "metadata": {},
		   "source": [
			"## Example 3.20: Calculation_of_final_wavelength_of_scattered_photon_in_Compton_shift.sce"
		   ]
		  },
  {
"cell_type": "code",
	   "execution_count": null,
	   "metadata": {
	    "collapsed": true
	   },
	   "outputs": [],
"source": [
"clc\n",
"//Given that\n",
"theta = 90 // angle of scattered photon in degree\n",
"E_rest = 938.3 // rest mass energy of a proton in MeV\n",
"E = 12// energy of scattered proton in Mev\n",
"c = 3e8 // speed of light in m/s\n",
"h = 6.63e-34 // plank's constant\n",
"//Sample Problem 20 page No. 145\n",
"printf('\n\n\n # Problem 20 # \n')\n",
"printf('\n Standard formula Used \n delta_lambda = h * (1 - cos (theta )) / ( m_e * c)')\n",
"lambda = h * c / ( E * 1.6e-13) //calculation of incident wavelength\n",
"lambda1 = lambda + h * c / (E_rest * 1.6e-13)    //calculation of wavelength of scattered photon\n",
"printf ('\n wavelength of scattered photon is  %e Angstrom. ', lambda1 * 1e10)\n",
"\n",
""
   ]
   }
,
{
		   "cell_type": "markdown",
		   "metadata": {},
		   "source": [
			"## Example 3.21: Calculation_of_atomic_number_of_unknown_substance_by_Mosleys_law.sce"
		   ]
		  },
  {
"cell_type": "code",
	   "execution_count": null,
	   "metadata": {
	    "collapsed": true
	   },
	   "outputs": [],
"source": [
"clc\n",
"//Given that\n",
"lambda1 = 1.321 // wavelength of L- alpha line for platinum\n",
"lambda2 = 4.174 // wavelength of l - alpha line of unknown substance \n",
"z1= 78// atomic number of platinum\n",
"c = 3e8 // speed of light in m/s\n",
"b = 7.4 // constant  for L - alpha line\n",
"//Sample Problem 21 page No. 146\n",
"printf('\n\n\n # Problem 21 # \n')\n",
"printf('\n Standard formula Used \n sqrt(nu1)= a*(Z-b)')\n",
"z2 = b + (z1 - b) * sqrt(lambda1 / lambda2) //calculation of the unknown substance has atomic number\n",
"printf ('\n The unknown substance has atomic number %d. ', z2)\n",
"\n",
""
   ]
   }
,
{
		   "cell_type": "markdown",
		   "metadata": {},
		   "source": [
			"## Example 3.22: Calculation_of_zero_point_energy_in_box_of_length_of_1_angstrom.sce"
		   ]
		  },
  {
"cell_type": "code",
	   "execution_count": null,
	   "metadata": {
	    "collapsed": true
	   },
	   "outputs": [],
"source": [
"clc\n",
"//Given that\n",
"h = 6.6e-34 // plank's constant\n",
"m_e = 9.1e-31 // mass of electron in kg\n",
"L = 1e-10 // length of box of particle in m\n",
"//Sample Problem 22 page No. 146\n",
"printf('\n # Problem 22 # \n')\n",
"printf('\n Standard formula Used \n E= h^2 * (n_x^2+n_y^2+n_z^2) / (8*m*L^2)')\n",
"sum = 0 \n",
"n_y = 1\n",
"    for n_x = 1:3\n",
"        \n",
"            for n_z = 1:2\n",
"                sum = n_x+n_y+n_z\n",
"                if sum<6 then\n",
"                     E = h^2 * (n_x^2+n_y^2+n_z^2)/ (1.6e-19*8*m_e*L^2) // calculation of energy\n",
"                printf('\n \n E%d%d%d is  %f eV. ',n_x,n_y,n_z,E)\n",
"                end\n",
"               \n",
"                \n",
"            \n",
"        end\n",
"    end\n",
""
   ]
   }
,
{
		   "cell_type": "markdown",
		   "metadata": {},
		   "source": [
			"## Example 3.2: Calculation_of_energy_of_ejected_photoelectrons.sce"
		   ]
		  },
  {
"cell_type": "code",
	   "execution_count": null,
	   "metadata": {
	    "collapsed": true
	   },
	   "outputs": [],
"source": [
"clc\n",
"//Given that\n",
"h = 6.6e-34 // plank's constant\n",
"lambda_threshold = 2.4e-7 // threshold wavelength in cm\n",
"lambda = 2e-7 // wavelength of irradicated light in photo emmission\n",
"c = 3e8\n",
"//Sample Problem 2 Page No. 135\n",
"printf('\n # Problem 2 # \n')\n",
"printf('\n Standard formula Used \n E = h * (nu1 – nu2)')\n",
"E = h * c * ((lambda_threshold - lambda)/(lambda *lambda_threshold))/1.6e-19 // calculation of nergy of photoelectrons\n",
"printf('\n Energy of photoelectrons emitted is %f  eV', E)"
   ]
   }
,
{
		   "cell_type": "markdown",
		   "metadata": {},
		   "source": [
			"## Example 3.3: Determination_of_shortest_wavelength_emitted_in_X_ray_operation.sce"
		   ]
		  },
  {
"cell_type": "code",
	   "execution_count": null,
	   "metadata": {
	    "collapsed": true
	   },
	   "outputs": [],
"source": [
"clc\n",
"//Given that\n",
"applied_voltage = 4e4 // in volt\n",
"h = 6.624e-34 // plank's constant\n",
"c = 3e8 // speed of light\n",
"e = 1.6e-19 // charge on electron\n",
"//Sample Problem 3 Page No. 136\n",
"printf('\n\n\n # Problem 3 # \n')\n",
"printf('\n Standard formula Used \n E = h*c/lambda')\n",
"lambda = h * c / ( e * applied_voltage) *1e10 //calculation of Shortest wavelength emitted\n",
"printf('\n Shortest wavelength emitted is %f Angstrom.', lambda)"
   ]
   }
,
{
		   "cell_type": "markdown",
		   "metadata": {},
		   "source": [
			"## Example 3.4: Calculation_of_velocity_of_a_moving_electrons.sce"
		   ]
		  },
  {
"cell_type": "code",
	   "execution_count": null,
	   "metadata": {
	    "collapsed": true
	   },
	   "outputs": [],
"source": [
"clc\n",
"//Given that\n",
"E = 1e3 // energy of moving electron in eV\n",
"h = 6.624e-34 // plank's constant\n",
"c = 3e8 // speed of light\n",
"e = 1.6e-19 // charge on electron\n",
"m_e = 9.1e-31\n",
"//Sample Problem 4 Page No. 136\n",
"printf('\n\n\n # Problem 4 # \n')\n",
"printf('\n Standard formula Used \n E =(1/2)*m *v^2')\n",
"v = sqrt(2 * E * 1.6e-19/ m_e) //calculation of Velocity of moving electron\n",
"printf('\n Velocity of moving electron is %e  m/s.', v)\n",
""
   ]
   }
,
{
		   "cell_type": "markdown",
		   "metadata": {},
		   "source": [
			"## Example 3.5: Determination_of_threshold_wavelength_for_photoemission.sce"
		   ]
		  },
  {
"cell_type": "code",
	   "execution_count": null,
	   "metadata": {
	    "collapsed": true
	   },
	   "outputs": [],
"source": [
"clc\n",
"//Given that\n",
"phi = 6 // work function in eV\n",
"h = 6.624e-34 // plank's constant\n",
"c = 3e8 // speed of light\n",
"e = 1.6e-19 // charge on electron\n",
"m_e = 9.1e-31\n",
"//Sample Problem 5 Page No. 137\n",
"printf('\n\n\n # Problem 5 # \n')\n",
"printf('\n Standard formula Used \n phi = h * nu')\n",
"lambda = h * c / (phi * e) * 1e10//calculation of Longest wavelength to eject electron\n",
"printf('\n Longest wavelength to eject electron is %d  Angstroms. ', lambda)\n",
""
   ]
   }
,
{
		   "cell_type": "markdown",
		   "metadata": {},
		   "source": [
			"## Example 3.6: Determination_of_Compton_shift_of_X_ray_photon.sce"
		   ]
		  },
  {
"cell_type": "code",
	   "execution_count": null,
	   "metadata": {
	    "collapsed": true
	   },
	   "outputs": [],
"source": [
"clc\n",
"//Given that\n",
"theta = %pi/2 // scattering angle of photon\n",
"h = 6.624e-34 // plank's constant\n",
"c = 3e8 // speed of light\n",
"e = 1.6e-19 // charge on electron in coloumb\n",
"m_e = 9.1e-31 // mass of electron in kg\n",
"//Sample Problem 6 Page No. 137\n",
"printf('\n\n\n # Problem 6 # \n')\n",
"printf('\n Standard formula Used \n delta_lambda = h * (1 - cos (theta )) / ( m_e * c)')\n",
"delta_lambda = h * (1 - cos (theta )) /( m_e * c) //calculation of Change in wavelength of electron\n",
"printf('\n Change in wavelength of electron is %f  Angstrom. ', delta_lambda*1e10)"
   ]
   }
,
{
		   "cell_type": "markdown",
		   "metadata": {},
		   "source": [
			"## Example 3.7: Calculation_of_de_Broglie_wavelength_of_moving_particle.sce"
		   ]
		  },
  {
"cell_type": "code",
	   "execution_count": null,
	   "metadata": {
	    "collapsed": true
	   },
	   "outputs": [],
"source": [
"clc\n",
"//Given that\n",
"angle = %pi/2 // scattering angle of photon\n",
"h = 6.624e-34 // plank's constant\n",
"v = 2e6 // speed of particle\n",
"e = 1.6e-19 // charge on electron\n",
"m = 1e-3 // mass of particle in kg\n",
"//Sample Problem 7 Page No. 137\n",
"printf('\n\n\n # Problem 7 # \n')\n",
"printf('\n Standard formula Used \n lambda = h / (m * v)')\n",
"lambda = h / (m * v) //calculation of de Broglie wavelength of particle\n",
"printf('\n de Broglie wavelength of particle is %e  m.', lambda)\n",
"printf('\n Here the de Broglie wavelength is too small to be detected. This wavelength is far smaller than the wavelength of X ray.\n Hence diffraction experiment with such a stream of particle will not be successful.')\n",
""
   ]
   }
,
{
		   "cell_type": "markdown",
		   "metadata": {},
		   "source": [
			"## Example 3.8_1: EX3_8_1.sce"
		   ]
		  },
  {
"cell_type": "code",
	   "execution_count": null,
	   "metadata": {
	    "collapsed": true
	   },
	   "outputs": [],
"source": [
"clc\n",
"//Given that\n",
"lambda = 4.3e-7 // wavelength of light in meter\n",
"phi_Ni = 5 // work function of nickel in eV\n",
"h = 6.624e-34 // plank's constant\n",
"c = 3e8 // speed of light\n",
"m_e = 9.1e-31 // mass of electron in kg\n",
"//Sample Problem 8a Page No. 138\n",
"printf('\n\n\n # Problem 8a # \n')\n",
"lambda_threshold = h * c / (phi_Ni*1e-19) //calculation of longest wavelength required\n",
"if (lambda_threshold < lambda) then\n",
"    printf('\n As the threshold wavelength is less than wavelength of incident radiation \n So electron will not be ejected \n')\n",
"else \n",
"    v = sqrt((2* h * c *(lambda - lambda_threshold)) / (m * lambda_threshold * lambda ))) //calculation of ejected velocity Electron\n",
"    printf('\n As the threshold wavelength is greater than wavelength of incident radiation So electron will be ejected with velocity %e. ',v)\n",
"end\n",
""
   ]
   }
,
{
		   "cell_type": "markdown",
		   "metadata": {},
		   "source": [
			"## Example 3.8_2: EX3_8_2.sce"
		   ]
		  },
  {
"cell_type": "code",
	   "execution_count": null,
	   "metadata": {
	    "collapsed": true
	   },
	   "outputs": [],
"source": [
"clc\n",
"//Given that\n",
"lambda = 4.3e-7 // wavelength of light in meter\n",
"phi_K = 2.3 // work function of nickel in eV\n",
"h = 6.624e-34 // plank's constant\n",
"c = 3e8 // speed of light\n",
"m_e = 9.1e-31 // mass of electron in kg\n",
"//Sample Problem 8b Page No. 138\n",
"printf('\n\n\n # Problem 8b # \n')\n",
"lambda_threshold = h * c / (phi_K *1.6e-19) //calculation of longest wavelength required\n",
"if (lambda_threshold < lambda) then\n",
"    printf('As the threshold wavelength is less than wavelength of incident radiation Solectron will not be ejected \n')\n",
"else \n",
"    v = sqrt((2* h * c *( lambda_threshold - lambda)) / (m_e * lambda_threshold * lambda )) //calculation of ejected velocity Electron\n",
"    printf('\n As the threshold wavelength is greater than wavelength of incident radiation So \n electron will be ejected with velocity %e m/s. ',v)\n",
"end"
   ]
   }
,
{
		   "cell_type": "markdown",
		   "metadata": {},
		   "source": [
			"## Example 3.9: EX3_9.sce"
		   ]
		  },
  {
"cell_type": "code",
	   "execution_count": null,
	   "metadata": {
	    "collapsed": true
	   },
	   "outputs": [],
"source": [
"clc\n",
"//Given that\n",
"d = 3.04 // inter layer separation in Angstrom\n",
"theta = 14.7 // in degree\n",
"n = 2 // order of brags reflection\n",
"//Sample Problem  Page No. 139\n",
"printf('\n\n\n # Problem 9 # \n')\n",
"printf('\n Standard formula Used \n 2 * d * sin(theta) = n * lambda')\n",
"lambda = 2 * d * sin( theta * (%pi /180))/ n   //calculation of wavelength making second order Braggs reflection\n",
"printf ( ' \n Second order brags reflection occurs at %f degree for the wavelength %f Angstrom\n' , theta , lambda)\n",
"\n",
""
   ]
   }
],
"metadata": {
		  "kernelspec": {
		   "display_name": "Scilab",
		   "language": "scilab",
		   "name": "scilab"
		  },
		  "language_info": {
		   "file_extension": ".sce",
		   "help_links": [
			{
			 "text": "MetaKernel Magics",
			 "url": "https://github.com/calysto/metakernel/blob/master/metakernel/magics/README.md"
			}
		   ],
		   "mimetype": "text/x-octave",
		   "name": "scilab",
		   "version": "0.7.1"
		  }
		 },
		 "nbformat": 4,
		 "nbformat_minor": 0
}
