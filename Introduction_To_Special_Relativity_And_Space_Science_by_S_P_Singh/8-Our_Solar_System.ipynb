{
"cells": [
 {
		   "cell_type": "markdown",
	   "metadata": {},
	   "source": [
       "# Chapter 8: Our Solar System"
	   ]
	},
{
		   "cell_type": "markdown",
		   "metadata": {},
		   "source": [
			"## Example 8.10: Determination_of_velocity_to_be_given_to_mass_to_achieve_a_particular_height.sce"
		   ]
		  },
  {
"cell_type": "code",
	   "execution_count": null,
	   "metadata": {
	    "collapsed": true
	   },
	   "outputs": [],
"source": [
"clc\n",
"//Given that\n",
"R_e = 6.4e6 // radius of Earth in km\n",
"M_e = 6e24 // mass of Earth in kg\n",
"G = 6.67e-11 // universal gravitational constant\n",
"// sample problem 10 page No. 303\n",
"printf('\n\n\n # Problem 10 # \n')\n",
"\n",
"printf('Standard formula used U_f - U_i = 1/2 * m *(u^2 - v^2)\n ')\n",
"h = 10 * R_e\n",
"v = sqrt (2 *h * G * M_e / (R_e * h))  // calculation of velocity required by mass to reach given height\n",
"printf ('\n Velocity required by mass is %e m/s.',v)\n",
""
   ]
   }
,
{
		   "cell_type": "markdown",
		   "metadata": {},
		   "source": [
			"## Example 8.11: Comparison_of_time_period_and_speed_of_two_planets.sce"
		   ]
		  },
  {
"cell_type": "code",
	   "execution_count": null,
	   "metadata": {
	    "collapsed": true
	   },
	   "outputs": [],
"source": [
"clc\n",
"//Given that\n",
"r1 = 1e12 // distance of first planet from Sun in m\n",
"r2 = 1e13 //distance of first planet from Sun in m \n",
"// sample problem 11 page No. 304\n",
"printf('\n\n\n # Problem 11 # \n')\n",
"\n",
"printf('Standard formula used T^2 = k* r^3')\n",
"printf ('\n Standers formula used v = 2 * pi * r / T')\n",
"r_ratio = r1 / r2 // r_ratio is ratio of distances from Sun\n",
"T_ratio = r_ratio^(3/2) //calculation of Ratio of time period\n",
"v_ratio = r_ratio / T_ratio // calculation of ratio of speed\n",
"\n",
"printf (' \n Ratio of time period is %f and ratio of speed is %f .', T_ratio, v_ratio)\n",
""
   ]
   }
,
{
		   "cell_type": "markdown",
		   "metadata": {},
		   "source": [
			"## Example 8.12: Estimation_of_separation_of_Saturn_from_Sun.sce"
		   ]
		  },
  {
"cell_type": "code",
	   "execution_count": null,
	   "metadata": {
	    "collapsed": true
	   },
	   "outputs": [],
"source": [
"clc\n",
"//Given that\n",
"r1 = 1.5e8 // distance of Earth from Sun in km\n",
"t1 = 1 // let \n",
"// sample problem 12 page No. 305\n",
"printf ('\n\n\n # Problem 12 # \n')\n",
"\n",
"printf ('\n Standard formula used T^2 = k* r^3')\n",
"t2 = 29.5 * t1// calculation of time period of Saturn\n",
"r2 = r1 * (t2 / t1) ^ (2/3) //calculation of distance of stern from Sun\n",
"\n",
"printf (' \n Distance of Saturn from Sun is %e km .', r2)\n",
""
   ]
   }
,
{
		   "cell_type": "markdown",
		   "metadata": {},
		   "source": [
			"## Example 8.13: Determination_of_speed_of_a_satellite_at_perigee_and_apogee.sce"
		   ]
		  },
  {
"cell_type": "code",
	   "execution_count": null,
	   "metadata": {
	    "collapsed": true
	   },
	   "outputs": [],
"source": [
"clc\n",
"//Given that\n",
"r_peri = 360 // distance of perigee of satellite from Earth surface in km\n",
"r_apo = 2500 // distance of apogee of satellite from Earth surface in km\n",
"R_e = 6400 // radius of Earth in km\n",
"v_p = 30000 // speed of satellite at apogee position in km/h\n",
"// sample problem 13 page No. 305\n",
"printf ('\n\n\n # Problem 13 # \n')\n",
"\n",
"printf ('\n Standard formula used v * r = k ')\n",
"r_p = r_peri + R_e // calculation of distance of perigee\n",
"r_a = r_apo + R_e// calculation of distance of apogee\n",
"\n",
"v_a = v_p * r_p / r_a // calculation of speed at apogee\n",
"printf (' \n Speed at perigee is %d km/h and at apogee is %f km/h .',v_p, v_a)"
   ]
   }
,
{
		   "cell_type": "markdown",
		   "metadata": {},
		   "source": [
			"## Example 8.14: EX8_14.sce"
		   ]
		  },
  {
"cell_type": "code",
	   "execution_count": null,
	   "metadata": {
	    "collapsed": true
	   },
	   "outputs": [],
"source": [
"clc\n",
"//Given that\n",
"h = 600 // distance of satellite from surface of Earth in km\n",
"R_e = 6400 // radius of Earth in km\n",
"m_s = 100  // mass of satellite in kg\n",
"g = 10 // gravitational acceleration in m/s2 \n",
"v_y = 2500 // upward velocity of launched satellite\n",
"// sample problem 14 page No. 306\n",
"printf('\n\n\n # Problem 14 # \n')\n",
"\n",
"printf('\n Standard formula used 1/2 *(m_s * v ^2 / r) = g * R_E^2 * m /R_e^2 ')\n",
"r = R_e + h// calculation of effective height of satellite\n",
"\n",
"v = sqrt (g * (R_e * 1e3)^2 / (r * 1e3)) // calculation of orbital velocity of satellite\n",
"\n",
"P_x = m_s * v// calculation of momentum in x direction\n",
"P_y = m_s * v_y// calculation of momentum in y direction\n",
"U = sqrt(P_x^2 + P_y^2 ) // calculation of magnitude of impulse required\n",
"\n",
"theta = (180 / %pi) * atan (P_y / P_x ) // calculation of direction of impulse required\n",
"printf ('\n Magnitude and direction of impulse required are respectively %ekgm/s and %f degree.',U , theta)"
   ]
   }
,
{
		   "cell_type": "markdown",
		   "metadata": {},
		   "source": [
			"## Example 8.15_1: Calculation_of_loss_of_mass_in_the_formation_of_1_atom_of_hydrogen.sce"
		   ]
		  },
  {
"cell_type": "code",
	   "execution_count": null,
	   "metadata": {
	    "collapsed": true
	   },
	   "outputs": [],
"source": [
"clc\n",
"\n",
"//Given that\n",
"b_e = 13.6 // Binding energy of electron to proton in eV\n",
"c= 3e8 // speed of light in m/s\n",
"// sample problem 15a page No. 306\n",
"printf('\n\n\n # Problem 15a # \n')\n",
"printf('\n Standard formula used E = m*c^2')\n",
"del_m = b_e * (1.6e-19) / c^2 * 1000 \n",
"printf ('\n Loss in mass during formation of 1 atom of hydrogen is %e g.', del_m)"
   ]
   }
,
{
		   "cell_type": "markdown",
		   "metadata": {},
		   "source": [
			"## Example 8.15_2: Calculation_of_binding_energy_of_deuteron.sce"
		   ]
		  },
  {
"cell_type": "code",
	   "execution_count": null,
	   "metadata": {
	    "collapsed": true
	   },
	   "outputs": [],
"source": [
"clc\n",
"//Given that\n",
"M_p = 1.6725e-24 // mass of proton in g\n",
"M_n = 1.6748e-24 // mass of neutron in g\n",
"M_d = 3.3433e-24 // mass of deuteron in g\n",
"c= 3e8 // speed of light in m/s\n",
"// sample problem 15b page No. 306\n",
"printf('\n\n\n # Problem 15b # \n')\n",
"\n",
"printf('\n Standard formula used E = m*c^2')\n",
"del_m = M_p + M_n - M_d // calculation of Loss in mass during formation of 1 atom of hydrogen\n",
"\n",
"b_e = (del_m / 1000) * c^2 / (1.6e-19 * 1e6) // calculation of Binding energy of deuteron\n",
"\n",
"printf ('\n Binding energy of deuteron is %f MeV.', b_e)\n",
""
   ]
   }
,
{
		   "cell_type": "markdown",
		   "metadata": {},
		   "source": [
			"## Example 8.4_1: Comparison_of_speeds_of_two_satellites.sce"
		   ]
		  },
  {
"cell_type": "code",
	   "execution_count": null,
	   "metadata": {
	    "collapsed": true
	   },
	   "outputs": [],
"source": [
"clc\n",
"//Given that\n",
"t1 = 1 // time period of satellite s1 in hours\n",
"t2 = 8 // time period of satellite s2 in hour\n",
"r1 = 1.2e4 // radius of orbit of satellite s1 in km\n",
"\n",
"// sample problem 4a page No. 300\n",
"printf('\n\n\n # Problem 4a # \n')\n",
"\n",
"printf('Standard formula r2/r1 = (t2/t1)^(2/3)')\n",
"r2 = r1 * (t2/t1)^(2/3) // calculation of radius of orbit of satellite s2 in km\n",
"v1 = 2 * %pi * r1 / t1  // calculation of speed of satellite s1 in km/h\n",
"v2 = 2 * %pi * r2 / t2  // calculation of speed of satellite s2 in km/h\n",
"del_v = v2 - v1 // calculation of relative speed of satellites in km/h\n",
"\n",
"printf (' \n Relative speed of satellite s2 wrt satellite s1 is %e km/h.', del_v)"
   ]
   }
,
{
		   "cell_type": "markdown",
		   "metadata": {},
		   "source": [
			"## Example 8.4_2: Comparison_of_angular_speeds_of_two_satellites.sce"
		   ]
		  },
  {
"cell_type": "code",
	   "execution_count": null,
	   "metadata": {
	    "collapsed": true
	   },
	   "outputs": [],
"source": [
"clc\n",
"//Given that\n",
"t1 = 1 // time period of satellite s1 in hour\n",
"t2 = 8 // time period of satellite s2 in hour\n",
"r1 = 1.2e4 // radius of orbit of satellite s1 in km\n",
"\n",
"// sample problem 4b page No. 300\n",
"printf('\n\n\n # Problem 4b # \n')\n",
"\n",
"printf('Standard formula r2/r1 = (t2/t1)^(2/3)')\n",
"r2 = r1 * (t2/t1)^(2/3) // calculation of radius of orbit of satellite s2 in km\n",
"v1 = 2 * %pi * r1 / t1 // calculation of speed of satellite s1 in km/h\n",
"v2 = 2 * %pi * r2 / t2 // calculation of speed of satellite s2 in km/h\n",
"del_v = v2 - v1 // calculation of relative speed of satellites in km/h\n",
"del_r = r2 - r1 // calculation of closest distance between satellite s1 and s2 \n",
"v_angular = del_v / del_r // calculation of angular speed in rad/h\n",
"printf (' \n Relative angular speed of satellite s2 for satellite s1 is %e rad/h.', v_angular)\n",
""
   ]
   }
,
{
		   "cell_type": "markdown",
		   "metadata": {},
		   "source": [
			"## Example 8.5: Calculation_of_orbital_velocity_and_period_of_revolution_of_satellite.sce"
		   ]
		  },
  {
"cell_type": "code",
	   "execution_count": null,
	   "metadata": {
	    "collapsed": true
	   },
	   "outputs": [],
"source": [
"clc\n",
"//Given that\n",
"h = 2620 // distance of satellite from surface of Earth in km\n",
"R_e = 6400 // radius of Earth in km\n",
"M_e = 6e24 // mass of Earth in kg\n",
"G = 6.67e-11 // universal gravitational constant \n",
"\n",
"// sample problem 5 page No. 300\n",
"printf('\n\n\n # Problem 5 # \n')\n",
"\n",
"printf('Standard formula used \n\t v_o = sqrt(G*M_e/r) \n ')\n",
"printf('\n \t T = 2 * pi * r / v_o \n ')\n",
"r = R_e + h\n",
"v_o = sqrt(G * M_e / (r * 1e3))\n",
"T = 2 * %pi * r*1000 / (v_o*3600)\n",
"printf ('\n Orbital velocity of satellite is %f km/s \n period of revolution is %f h.',v_o / 1000, T)"
   ]
   }
,
{
		   "cell_type": "markdown",
		   "metadata": {},
		   "source": [
			"## Example 8.6: Calculation_of_orbital_velocity_and_period_of_revolution_of_satellite.sce"
		   ]
		  },
  {
"cell_type": "code",
	   "execution_count": null,
	   "metadata": {
	    "collapsed": true
	   },
	   "outputs": [],
"source": [
"clc\n",
"//Given that\n",
"h = 3e5 // distance of satellite from surface of Earth in m\n",
"R_e = 6.38e6 // radius of Earth in km\n",
"M_e = 6e24 // mass of Earth in kg\n",
"g = 9.8 // gravitational acceleration in m/s2 \n",
"\n",
"// sample problem 6 page No. 301\n",
"printf('\n\n\n # Problem 6 # \n')\n",
"\n",
"printf('Standard formula used v_o = sqrt(G*M_e/r) \n ')\n",
"printf('Standard formula used T = 2 * pi * r / v_o \n ')\n",
"r = R_e + h// calculation of effective distance between Earth and satellite\n",
"\n",
"G = g * R_e^2 / M_e// calculation of gravitational constant \n",
"v_o = sqrt(G * M_e / r) / 1000// calculation of orbital velocity of satellite\n",
"T = 2 * %pi * r / (v_o * 1000) / 3.6e3 // calculation of period of revolution of satellite\n",
"\n",
"printf ('\n Orbital velocity of satellite is %f km/s \n  period of revolution is %f h.',v_o, T)"
   ]
   }
,
{
		   "cell_type": "markdown",
		   "metadata": {},
		   "source": [
			"## Example 8.7: Estimation_of_mass_of_Earth.sce"
		   ]
		  },
  {
"cell_type": "code",
	   "execution_count": null,
	   "metadata": {
	    "collapsed": true
	   },
	   "outputs": [],
"source": [
"clc\n",
"//Given that\n",
"t = 27.3 // period of lunar orbit around Earth in days\n",
"r = 3.9e5 // distance of satellite from  Earth in km\n",
"G = 6.67e-11 // universal gravitational constant \n",
"// sample problem 7 page No. 301\n",
"printf('\n # Problem 7 # \n')\n",
"printf('Standard formula used \n T = 2 * pi * sqrt ((r^3)/G*M_e) \n ')\n",
"T = t * 24 * 60 * 60// calculation of time in seconds\n",
"M_e = 4 * %pi^2 * (r * 1000)^3 / (G * T^2) // calculation of mass of Earth\n",
"printf ('\n Estimated mass of Earth is %e kg.', M_e)"
   ]
   }
,
{
		   "cell_type": "markdown",
		   "metadata": {},
		   "source": [
			"## Example 8.8: Estimation_of_mass_of_sun.sce"
		   ]
		  },
  {
"cell_type": "code",
	   "execution_count": null,
	   "metadata": {
	    "collapsed": true
	   },
	   "outputs": [],
"source": [
"clc\n",
"//Given that\n",
"t = 1 // period of  Earth's revolution around Sun in years\n",
"r = 1.5e8 // distance between Sun and Earth in km\n",
"G = 6.67e-11 // Universal gravitational constant\n",
"// sample problem 8 page No. 302\n",
"printf('\n\n\n # Problem 8 # \n')\n",
"printf('Standard formula used T = 2 * pi * sqrt ((r^3)/G*M_e) \n ')\n",
"T = t * 24 * 60 * 60 *356// calculation of time period in seconds\n",
"M_s = 4 * %pi^2 * (r * 1000)^3 / (G * T^2) // calculation of mass of Sun\n",
"printf ('\n Estimated mass of Sun is %e kg.', M_s)\n",
"\n",
""
   ]
   }
,
{
		   "cell_type": "markdown",
		   "metadata": {},
		   "source": [
			"## Example 8.9: Determination_of_height_achieved_by_Rocket.sce"
		   ]
		  },
  {
"cell_type": "code",
	   "execution_count": null,
	   "metadata": {
	    "collapsed": true
	   },
	   "outputs": [],
"source": [
"clc\n",
"//Given that\n",
"R_e = 6.4e6 // radius of Earth in km\n",
"M_e = 6e24 // mass of Earth in kg\n",
"G = 6.67e-11 // universal gravitational constant\n",
"u = 6e3 // initial speed of rocket in m/s\n",
"	\n",
"// sample problem 9 page No. 302\n",
"printf('\n\n\n # Problem 9 # \n')\n",
"\n",
"printf('Standard formula used U_f - U_i = 1/2 * m *(u^2 - v^2)\n ')\n",
"h = ((R_e * 1e3)^2 * u^2) / (2 * G * M_e - R_e * u^2) / 1000    // calculation of Height reached by rocket before returning to Earth\n",
"\n",
"printf ('\n Height reached by rocket before returning is %e km.',h)"
   ]
   }
],
"metadata": {
		  "kernelspec": {
		   "display_name": "Scilab",
		   "language": "scilab",
		   "name": "scilab"
		  },
		  "language_info": {
		   "file_extension": ".sce",
		   "help_links": [
			{
			 "text": "MetaKernel Magics",
			 "url": "https://github.com/calysto/metakernel/blob/master/metakernel/magics/README.md"
			}
		   ],
		   "mimetype": "text/x-octave",
		   "name": "scilab",
		   "version": "0.7.1"
		  }
		 },
		 "nbformat": 4,
		 "nbformat_minor": 0
}
