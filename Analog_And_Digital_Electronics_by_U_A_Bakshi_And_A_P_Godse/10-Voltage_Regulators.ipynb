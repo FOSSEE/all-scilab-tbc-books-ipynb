{
"cells": [
 {
		   "cell_type": "markdown",
	   "metadata": {},
	   "source": [
       "# Chapter 10: Voltage Regulators"
	   ]
	},
{
		   "cell_type": "markdown",
		   "metadata": {},
		   "source": [
			"## Example 10.1: find_line_and_load_regulation_and_ripple_refection.sce"
		   ]
		  },
  {
"cell_type": "code",
	   "execution_count": null,
	   "metadata": {
	    "collapsed": true
	   },
	   "outputs": [],
"source": [
"//Example 10.1\n",
"clc\n",
"disp('Z_Z = 7 ohm,  R3 = 330 ohm,  V_0 = 4.7 V,  V_in = 15 V')\n",
"disp('The specified change in V_in is 10%,')\n",
"vin=0.1*15\n",
"format(4)\n",
"disp(vin,'Therefore,  deltaV_in(in V) = 10% of V_in =')\n",
"vo=(1.5*7)/330\n",
"format(8)\n",
"disp(vo,'Therefore,  deltaV_0(in V) = deltaV_in*Z_Z / R3 =')\n",
"lr=0.03181*100/4.7\n",
"format(6)\n",
"disp(lr,'Therefore,  Line regulation(in percentage) = deltaV_0*100 / V_0 =')\n",
"disp('For  I_L(max) = 50 mA,')\n",
"dvo=(20*7*50*10^-3)/330\n",
"format(8)\n",
"disp(dvo,'Therefore,  deltaV_0(in V) = I_L(max)*R_S*Z_Z / R3 =')\n",
"lr=0.02121*100/4.7\n",
"format(7)\n",
"disp(lr,'Therefore,  Line regulation(in precentage) = deltaV_0*100 / V_0 =')\n",
"disp('Now    V_R(out) = V_R(in)*Z_Z / R3')\n",
"zz=7/330\n",
"format(8)\n",
"disp(zz,'Therefore,  V_R(out)/V_R(in) = Z_Z/R3 =')\n",
"rr=20*log10(0.02121)\n",
"format(6)\n",
"disp(rr,'Therefore,  RR(in dB) = 20*log(0.02121) = ')"
   ]
   }
,
{
		   "cell_type": "markdown",
		   "metadata": {},
		   "source": [
			"## Example 10.2: design_op_amp_series_voltage_regulator.sce"
		   ]
		  },
  {
"cell_type": "code",
	   "execution_count": null,
	   "metadata": {
	    "collapsed": true
	   },
	   "outputs": [],
"source": [
"//Example 10.4\n",
"clc\n",
"disp('R1 = 5 k-ohm,  R2 = 10 k-ohm')\n",
"disp('The IC is 7808 i.e. V_reg = +8 V')\n",
"vt=8*(3)\n",
"format(3)\n",
"disp(vt,'Therefore,  V_out(in V) = V_reg*[1 + R2/R1] =')\n",
"disp('Now  R2 = 1 k-ohm then,')\n",
"vo=8*(1+(1/5))\n",
"format(4)\n",
"disp(vo,'V_out(in V) = 8*[1 + 1/5] =')\n",
"disp('Thus the V_out can be varied from 9.6 V to 24 V, by varing R2 from 1 k-ohm to 10 k-ohm.')"
   ]
   }
,
{
		   "cell_type": "markdown",
		   "metadata": {},
		   "source": [
			"## Example 10.4: calculate_output_voltage.sce"
		   ]
		  },
  {
"cell_type": "code",
	   "execution_count": null,
	   "metadata": {
	    "collapsed": true
	   },
	   "outputs": [],
"source": [
"//Example 10.4\n",
"clc\n",
"disp('R1 = 5 k-ohm,    R2 = 10 k-ohm')\n",
"disp('The IC is 7808 i.e. V_reg = +8 V')\n",
"vo=8*3\n",
"format(3)\n",
"disp(vo,'Therefore,  V_out(in V) = V_reg*[1 + R2/R1] =')\n",
"disp('Now  R2 = 1 k-ohm then,')\n",
"vou=8*(1+(1/5))\n",
"format(4)\n",
"disp(vou,'V_out(in V) =')\n",
"disp('Thus the V_out can be varied from 9.6 V to 24 V, by varing R2 from 1 k-ohm to 10 k-ohm')"
   ]
   }
,
{
		   "cell_type": "markdown",
		   "metadata": {},
		   "source": [
			"## Example 10.7: determine_regulated_output_voltage.sce"
		   ]
		  },
  {
"cell_type": "code",
	   "execution_count": null,
	   "metadata": {
	    "collapsed": true
	   },
	   "outputs": [],
"source": [
"//Example 10.7\n",
"clc\n",
"disp('The resistance used are,')\n",
"disp('  R1 = 220 ohm  and  R2 = 1.5 k-ohm')\n",
"disp('while for LM 317,  I_ADJ = 100 uA')\n",
"disp('Therefore,  V_0 = 1.25*[1+R2/R1] + I_ADJ*R2')\n",
"vo=(1.25*(1+((1.5*10^3)/220)))+(100*1.5*10^-3)\n",
"format(5)\n",
"disp(vo,'Therefore,  V_0(in V) =')"
   ]
   }
,
{
		   "cell_type": "markdown",
		   "metadata": {},
		   "source": [
			"## Example 10.8: find_the_range.sce"
		   ]
		  },
  {
"cell_type": "code",
	   "execution_count": null,
	   "metadata": {
	    "collapsed": true
	   },
	   "outputs": [],
"source": [
"//Example 10.8\n",
"clc\n",
"disp('For LM 317, the current I_ADJ = 100 uA')\n",
"disp('When R2 is maximum i.e. R2 = 0 then,')\n",
"disp('  V_0 = 1.25*[1+R2/R1] + I_ADJ*R2 = 1.25 V')\n",
"disp('When R2 is maximum, i.e. R2 = 10 k-ohm then')\n",
"vo=(1.25*(1+((10*10^3)/820)))+(100*10*10^-3)\n",
"format(6)\n",
"disp(vo,'  V_0(in V) = ')\n",
"disp('Thus the output voltage can be varied in the range 1.25 V to 17.49 V')"
   ]
   }
],
"metadata": {
		  "kernelspec": {
		   "display_name": "Scilab",
		   "language": "scilab",
		   "name": "scilab"
		  },
		  "language_info": {
		   "file_extension": ".sce",
		   "help_links": [
			{
			 "text": "MetaKernel Magics",
			 "url": "https://github.com/calysto/metakernel/blob/master/metakernel/magics/README.md"
			}
		   ],
		   "mimetype": "text/x-octave",
		   "name": "scilab",
		   "version": "0.7.1"
		  }
		 },
		 "nbformat": 4,
		 "nbformat_minor": 0
}
