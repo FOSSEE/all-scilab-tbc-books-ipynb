{
"cells": [
 {
		   "cell_type": "markdown",
	   "metadata": {},
	   "source": [
       "# Chapter 8: Counters"
	   ]
	},
{
		   "cell_type": "markdown",
		   "metadata": {},
		   "source": [
			"## Example 8.10: design_a_divide_by_128_counter.sce"
		   ]
		  },
  {
"cell_type": "code",
	   "execution_count": null,
	   "metadata": {
	    "collapsed": true
	   },
	   "outputs": [],
"source": [
"//Example 8.10\n",
"clc\n",
"disp('Since 128 = 16 x 8, a divide-by-16 counter followed by a divide-by-8 counter will become a divide-by-128 counter. IC 7493 is a 4-bit binary counter (i.e. mod-16 or divide-by-16), therefore, two IC packages will be required.')\n",
"disp('The circuit diagram is as shown in fig.8.18.')"
   ]
   }
,
{
		   "cell_type": "markdown",
		   "metadata": {},
		   "source": [
			"## Example 8.11: design_divide_by_78_counter.sce"
		   ]
		  },
  {
"cell_type": "code",
	   "execution_count": null,
	   "metadata": {
	    "collapsed": true
	   },
	   "outputs": [],
"source": [
"//Example 8.11\n",
"clc\n",
"disp('Since 78 = 13 x 6, we have to use 7493 as mod-a3 and 7492 as mod-6 counters. For the mod-13 counter QD, QC and QA outputs of 7493 ans ANDed and used to clear the count when the count reaches 1101. For the mod-6 counter, clock is applied to B input of 7492.')\n",
"disp('  The circuit diagram is as shown in the fig. 8.19')"
   ]
   }
,
{
		   "cell_type": "markdown",
		   "metadata": {},
		   "source": [
			"## Example 8.12: design_divide_by_6_counter.sce"
		   ]
		  },
  {
"cell_type": "code",
	   "execution_count": null,
	   "metadata": {
	    "collapsed": true
	   },
	   "outputs": [],
"source": [
"//Example 8.12\n",
"clc\n",
"disp('The fig.8.20 shows divided-by-6 (MOD 6) counter using 7493. As shown in the fig.8.20, the clock is applied to inout B of IC 7493 and the output count sequenceis taken from QD, QC and QB. As soon as count is 110, i.e. QD and QC = 1, the internal NAND gate output goes low and it resets the counter.')"
   ]
   }
,
{
		   "cell_type": "markdown",
		   "metadata": {},
		   "source": [
			"## Example 8.13: find_fmax.sce"
		   ]
		  },
  {
"cell_type": "code",
	   "execution_count": null,
	   "metadata": {
	    "collapsed": true
	   },
	   "outputs": [],
"source": [
"//Example 8.13\n",
"clc\n",
"disp('For a synchronous counter the total delay that must be allowed between input clock pulses is equal to flip-flop t_pd + AND gate t_pd. Thus T_clock >= 50 + 20 = 70 ns and so the counter has')\n",
"fm=(1/(70*10^-9))*10^-6\n",
"format(5)\n",
"disp(fm,'  f_max(in MHz) =')\n",
"disp('We know that MOD-16 ripple counter used four flip-flops. With flip-flop t_pd = 50 ns, the f_max for ripple counter can be given as,')\n",
"fma=(1/(4*(50*10^-9)))*10^-6\n",
"format(3)\n",
"disp(fma,'  f_max(ripple)(in MHz) =')"
   ]
   }
,
{
		   "cell_type": "markdown",
		   "metadata": {},
		   "source": [
			"## Example 8.14: determine_states.sce"
		   ]
		  },
  {
"cell_type": "code",
	   "execution_count": null,
	   "metadata": {
	    "collapsed": true
	   },
	   "outputs": [],
"source": [
"//Example 8.14\n",
"clc\n",
"disp('IC 74191 is a 4-bit counter. Thus it is MOD-16 counter. However, we require MOD-11 counter. The difference between 16 and 11 is 5. Hence 5 steps must be skipped from the full modulus sequence. This can be achieved by presetting counter to value 5. Each time when counter recycles it starts counting from 5 upto 16 on each full cycle. Therefore, each full cycle of the counter consists of 11 states.')"
   ]
   }
,
{
		   "cell_type": "markdown",
		   "metadata": {},
		   "source": [
			"## Example 8.15: design_MOD_10_counter.sce"
		   ]
		  },
  {
"cell_type": "code",
	   "execution_count": null,
	   "metadata": {
	    "collapsed": true
	   },
	   "outputs": [],
"source": [
"//Example 8.15\n",
"clc\n",
"disp('IC 74191 is a 4-bit counter. Thus it is MOD-16 counter. However, we require MOD-10 counter. The difference between 16 and 10 is 6. Hence 6 steps must be skipped from the full modulus sequence. This can be achieved by presetting counter to value 6. Each time when counter recycles it starts counting from 6 upto 16 on each full cycle. Therefore, each full cycle of the counter consists of 10 states.')"
   ]
   }
,
{
		   "cell_type": "markdown",
		   "metadata": {},
		   "source": [
			"## Example 8.16: design_down_counter.sce"
		   ]
		  },
  {
"cell_type": "code",
	   "execution_count": null,
	   "metadata": {
	    "collapsed": true
	   },
	   "outputs": [],
"source": [
"//Example 8.16\n",
"clc\n",
"disp('The fig 8.36 shows the connections for 74LS191 to get desire operation. We can design the combinational circuit for such counter from the truth table shown below.')\n",
"disp('')\n",
"disp('Q3  Q2  Q1  Q0    Y')\n",
"disp('0   0   0   0     0')\n",
"disp('0   0   0   1     0')\n",
"disp('0   0   1   0     0')\n",
"disp('0   0   1   1     1')\n",
"disp('0   1   0   0     1')\n",
"disp('0   1   0   1     1')\n",
"disp('0   1   1   0     1')\n",
"disp('0   1   1   1     1')\n",
"disp('1   0   0   0     1')\n",
"disp('1   0   0   1     1')\n",
"disp('1   0   1   0     1')\n",
"disp('1   0   1   1     1')\n",
"disp('1   1   0   0     1')\n",
"disp('1   1   0   1     1')\n",
"disp('1   1   1   0     0')\n",
"disp('1   1   1   1     0')\n",
"disp('')\n",
"disp('K=map simplification')\n",
"disp('         Q1''Q0''  Q1''Q0  Q1Q0  Q1Q0''')\n",
"disp('Q3''Q2''     0       0      1     0')\n",
"disp('Q3''Q2      1       1      1     1')\n",
"disp('Q3Q2       1       1      0     0')\n",
"disp('Q3Q2''      1       1      1     1')\n",
"disp('')\n",
"disp('Therefore,  PL'' = Y = Q3''Q1Q0 + Q3''Q2 + Q3Q1'' + Q3Q2''')\n",
"disp('After switch ON, if the counter output is other than 1101 through 0011, the PL'' goes low and count 1101 is loaded in the counter. The counter is then decremented on the occurrence of clock pulses. When counter reaches 0010, the PL'' again goes low and count 1101 is loaded in the counter')"
   ]
   }
,
{
		   "cell_type": "markdown",
		   "metadata": {},
		   "source": [
			"## Example 8.17: design_programmable_frequency_divider.sce"
		   ]
		  },
  {
"cell_type": "code",
	   "execution_count": null,
	   "metadata": {
	    "collapsed": true
	   },
	   "outputs": [],
"source": [
"//Example 8.17\n",
"clc\n",
"disp('The IC 74191 is a 4-bit binary counter, therefore f_out = f_CLK / 16 in up and down counter mode. If f_CLK = 500 Hz and f_out = 50 Hz we need mod 10 (500/50) counter. The fig. 8.39 shows the mod-10 counter using IC 74191')"
   ]
   }
,
{
		   "cell_type": "markdown",
		   "metadata": {},
		   "source": [
			"## Example 8.18: design_a_counter.sce"
		   ]
		  },
  {
"cell_type": "code",
	   "execution_count": null,
	   "metadata": {
	    "collapsed": true
	   },
	   "outputs": [],
"source": [
"//Example 8.18\n",
"clc\n",
"disp('The fig shows the connections for 74LS191 to get desire operation. We can design the combinational circuit for such counter from the truth table shown below.')\n",
"disp('')\n",
"disp('Q3  Q2  Q1  Q0    Y')\n",
"disp('0   0   0   0     0')\n",
"disp('0   0   0   1     0')\n",
"disp('0   0   1   0     0')\n",
"disp('0   0   1   1     1')\n",
"disp('0   1   0   0     1')\n",
"disp('0   1   0   1     1')\n",
"disp('0   1   1   0     1')\n",
"disp('0   1   1   1     1')\n",
"disp('1   0   0   0     1')\n",
"disp('1   0   0   1     1')\n",
"disp('1   0   1   0     1')\n",
"disp('1   0   1   1     1')\n",
"disp('1   1   0   0     1')\n",
"disp('1   1   0   1     1')\n",
"disp('1   1   1   0     1')\n",
"disp('1   1   1   1     0')\n",
"disp('')\n",
"disp('K=map simplification')\n",
"disp('         Q1''Q0''  Q1''Q0  Q1Q0  Q1Q0''')\n",
"disp('Q3''Q2''     0       0      1     0')\n",
"disp('Q3''Q2      1       1      1     1')\n",
"disp('Q3Q2       1       1      0     1')\n",
"disp('Q3Q2''      1       1      1     1')\n",
"disp('')\n",
"disp('Therefore,  PL'' = Y = Q3''Q1Q0 + Q3''Q2 + Q3Q1'' + Q3Q2'' + Q2Q1Q0''')\n",
"disp('After switch ON, if the counter output is other than 1110 through 0011, the PL'' goes low and count 1110 is loaded in the counter. The counter is then decremented on the occurrence of clock pulses. When counter reaches 0010, the PL'' again goes low and count 1110 is loaded in the counter')"
   ]
   }
,
{
		   "cell_type": "markdown",
		   "metadata": {},
		   "source": [
			"## Example 8.19: programmable_frequency_divider.sce"
		   ]
		  },
  {
"cell_type": "code",
	   "execution_count": null,
	   "metadata": {
	    "collapsed": true
	   },
	   "outputs": [],
"source": [
"//Example 8.19\n",
"clc\n",
"disp('IC 74191 is a 4-bit binary counter. Thus it divides the input frequency by 16. However, we can design MOD-N counter using IC 74191. For MOD-N counter the output frequency will be f_out = f_in / N. Thus by changing N we can change the output frequency. The fig.8.40 shows the programmable frequncy divider using IC 74191.')"
   ]
   }
,
{
		   "cell_type": "markdown",
		   "metadata": {},
		   "source": [
			"## Example 8.1: count_after_12_pulse.sce"
		   ]
		  },
  {
"cell_type": "code",
	   "execution_count": null,
	   "metadata": {
	    "collapsed": true
	   },
	   "outputs": [],
"source": [
"//Example 8.1\n",
"clc\n",
"disp('After 12 pulses, the count will be (1100)_2, i.e. 12 in decimal.')"
   ]
   }
,
{
		   "cell_type": "markdown",
		   "metadata": {},
		   "source": [
			"## Example 8.20: design_divide_by_2_and_divide_by_5_counter.sce"
		   ]
		  },
  {
"cell_type": "code",
	   "execution_count": null,
	   "metadata": {
	    "collapsed": true
	   },
	   "outputs": [],
"source": [
"//Example 8.20\n",
"clc\n",
"disp('Fig. 8.41 shows Dividing-by-2 for up counting')\n",
"disp('Divide-by-2 is a mod-2 counter. Since, after preset above counter goes through 2 states 1110 and 1111, it is a mod-2 counter. Thus, above circuit is a divide-by-2 counter for up counting mode.')\n",
"disp('')\n",
"disp('Divide-by-5 for down counting mode:')\n",
"disp('')\n",
"disp('Q3  Q2  Q1  Q0    Y')\n",
"disp('0   0   0   0     0')\n",
"disp('0   0   0   1     0')\n",
"disp('0   0   1   0     0')\n",
"disp('0   0   1   1     0')\n",
"disp('0   1   0   0     0')\n",
"disp('0   1   0   1     0')\n",
"disp('0   1   1   0     0')\n",
"disp('0   1   1   1     0')\n",
"disp('1   0   0   0     0')\n",
"disp('1   0   0   1     0')\n",
"disp('1   0   1   0     0')\n",
"disp('1   0   1   1     1')\n",
"disp('1   1   0   0     1')\n",
"disp('1   1   0   1     1')\n",
"disp('1   1   1   0     1')\n",
"disp('1   1   1   1     1')\n",
"disp('')\n",
"disp('K=map simplification')\n",
"disp('         Q1''Q0''  Q1''Q0  Q1Q0  Q1Q0''')\n",
"disp('Q3''Q2''     0       0      0     0')\n",
"disp('Q3''Q2      0       0      0     0')\n",
"disp('Q3Q2       1       1      1     1')\n",
"disp('Q3Q2''      0       0      1     0')\n",
"disp('')\n",
"disp('Therefore,  Y = Q3Q2 + Q3Q1Q0')"
   ]
   }
,
{
		   "cell_type": "markdown",
		   "metadata": {},
		   "source": [
			"## Example 8.21: design_mod_9_counter.sce"
		   ]
		  },
  {
"cell_type": "code",
	   "execution_count": null,
	   "metadata": {
	    "collapsed": true
	   },
	   "outputs": [],
"source": [
"//Example 8.21\n",
"clc\n",
"disp('IC 74191 is a 4-bit counter. Thus it is MOD-16 counter. However, we require MOD-9 counter. The difference between 16 and 9 is 7. Hence 7 steps must be skipped from the full modulus sequence. This can be achieved by presetting counter to value 7. Each time when counter recycles it starts counting from 7 upto 16 on each full cycle. Therefore, each full cycle of the counter consists of 9 states.')"
   ]
   }
,
{
		   "cell_type": "markdown",
		   "metadata": {},
		   "source": [
			"## Example 8.22: determine_MOD_number_and_counter_range.sce"
		   ]
		  },
  {
"cell_type": "code",
	   "execution_count": null,
	   "metadata": {
	    "collapsed": true
	   },
	   "outputs": [],
"source": [
"//Example 8.22\n",
"clc\n",
"disp('Clock frequency = 256 kHz')\n",
"disp('Output frequency = 2 kHz')\n",
"format(4)\n",
"mn=256/2\n",
"disp(mn,'Therefore,  Mod number = n =')\n",
"disp('Therefore,  Counter is MOD-128 counter')\n",
"disp('Mod-128 counter can count the numbers from 0 to 127.')"
   ]
   }
,
{
		   "cell_type": "markdown",
		   "metadata": {},
		   "source": [
			"## Example 8.23: design_a_divide_by_20_counter.sce"
		   ]
		  },
  {
"cell_type": "code",
	   "execution_count": null,
	   "metadata": {
	    "collapsed": true
	   },
	   "outputs": [],
"source": [
"//Example 8.23\n",
"clc\n",
"disp('Internal structure of 7490 ripple counter IC is as shown in fig. 8.50')\n",
"disp('')\n",
"disp('We know that, one IC can work as mod-10 (BCD) counter. Therefore, we need two ICs. The counter will go through states 0-19 and should be reset on state 20. i.e.')\n",
"disp('         QD  QC  QB  QA       QD  QC  QB  QA')\n",
"disp('         0   0   1   0        0   0   0   0')\n",
"disp('            7490(2)              7490(1)')\n",
"disp('')\n",
"disp('The diagram of divide-by-20 counter using IC 7490 is as shown in fig.8.51')"
   ]
   }
,
{
		   "cell_type": "markdown",
		   "metadata": {},
		   "source": [
			"## Example 8.24: design_divide_by_96_counter.sce"
		   ]
		  },
  {
"cell_type": "code",
	   "execution_count": null,
	   "metadata": {
	    "collapsed": true
	   },
	   "outputs": [],
"source": [
"//Example 8.24\n",
"clc\n",
"disp('IC 7490 is a decade counter. When two such ICs are cascaded, it becomes a divide-by-100 counter. To get a divide-by-96 counter, the counter is reset as soon as it becomes 1001 0110. The diagram is shown in fig.8.52.')"
   ]
   }
,
{
		   "cell_type": "markdown",
		   "metadata": {},
		   "source": [
			"## Example 8.25: design_divide_by_93_counter.sce"
		   ]
		  },
  {
"cell_type": "code",
	   "execution_count": null,
	   "metadata": {
	    "collapsed": true
	   },
	   "outputs": [],
"source": [
"//Example 8.25.\n",
"clc\n",
"disp('IC 7490 is a decade counter. Whentwo such ICs are cascaded, it becomes a divide-by-100 counter. To get a divide-by-93 counter, the counter is reset as soon as ot becomes 1001 0011. The diagram is as shown in fig.8.53')"
   ]
   }
,
{
		   "cell_type": "markdown",
		   "metadata": {},
		   "source": [
			"## Example 8.26: design_divide_by_78_counter.sce"
		   ]
		  },
  {
"cell_type": "code",
	   "execution_count": null,
	   "metadata": {
	    "collapsed": true
	   },
	   "outputs": [],
"source": [
"//Example 8.26\n",
"clc\n",
"disp('IC 7490 is a decade counter. When two such ICs are cascaded, it becomes a divide-by-100 counter. To get a divide by 78 or MOD-78 counter, the counter is reset as soon as ot becomes 0111 1000 as shown in fig.8.54')"
   ]
   }
,
{
		   "cell_type": "markdown",
		   "metadata": {},
		   "source": [
			"## Example 8.28: 7490_IC.sce"
		   ]
		  },
  {
"cell_type": "code",
	   "execution_count": null,
	   "metadata": {
	    "collapsed": true
	   },
	   "outputs": [],
"source": [
"//Example 8.28\n",
"clc\n",
"disp('If the QD output is connected to A input of 7490 IC and, input clock is applied to B input divide by ten square wave is obtained at output QA.')\n",
"disp('Clock        Outputs')\n",
"disp('          QA  QD  QC  QB')\n",
"disp('  0       L   L   L   L')\n",
"disp('  1       L   L   L   H')\n",
"disp('  2       L   L   H   L')\n",
"disp('  3       L   L   H   H')\n",
"disp('  4       L   H   L   L')\n",
"disp('  5       H   L   L   L')\n",
"disp('  6       H   L   L   H')\n",
"disp('  7       H   L   H   L')\n",
"disp('  8       H   L   H   H')\n",
"disp('  9       H   H   L   L')"
   ]
   }
,
{
		   "cell_type": "markdown",
		   "metadata": {},
		   "source": [
			"## Example 8.2: count_in_binary.sce"
		   ]
		  },
  {
"cell_type": "code",
	   "execution_count": null,
	   "metadata": {
	    "collapsed": true
	   },
	   "outputs": [],
"source": [
"//Example 8.2\n",
"clc\n",
"a=dec2bin(144)\n",
"disp(a,'decimal (144) =')\n",
"disp('Since counter is a 5-bit counter, it resets after 2^5 = 32 clock pulses.')\n",
"disp('Dividing 144 by 32 we get quotient 2 and remainder 6')\n",
"disp('Therefore, counter resets four times and then it counts remaining 16 clock pulses. Thus, the count will be binary (110000), i.e., 16 in decimal')"
   ]
   }
,
{
		   "cell_type": "markdown",
		   "metadata": {},
		   "source": [
			"## Example 8.30: sketch_output_waveforms_of_counter.sce"
		   ]
		  },
  {
"cell_type": "code",
	   "execution_count": null,
	   "metadata": {
	    "collapsed": true
	   },
	   "outputs": [],
"source": [
"//example 10.9\n",
"\n",
"clc;\n",
"clear;\n",
"close;\n",
"c = [0 1 0 1 0 1 0 1 0 1 0 1 0 1 0 1 0 1 0 1 0 1 0 1 0]; //taking the values for a mod -6 counter \n",
"q = [0 0 1 1 0 0 1 1 0 0 1 1 0 0 1 1 0 0 1 1 0 0 1 1 0];\n",
"a = [0 0 0 0 1 1 1 1 0 0 0 0 0 0 0 0 1 1 1 1 0 0 0 0 0];\n",
"b = [0 0 0 0 0 0 0 0 1 1 1 1 0 0 0 0 0 0 0 0 1 1 1 1 0];\n",
"y1=q;\n",
"y2=a;\n",
"y3=b;\n",
"y11p=1;\n",
"y22p=1;\n",
"y33p=1;\n",
"y44p=1;\n",
"cp=1;\n",
"yf1p=1;\n",
"for i=1:25    // making arrays to draw the output \n",
"    if y1(i)==1 then\n",
"        for o=1:100\n",
"        y11(y11p)=1;\n",
"        y11p=y11p+1;\n",
"        end\n",
"    else\n",
"        for o=1:100\n",
"        y11(y11p)=0;\n",
"        y11p=y11p+1;\n",
"        end\n",
"\n",
"end\n",
"if y2(i)==1 then\n",
"        for o=1:100\n",
"        y21(y22p)=1;\n",
"        y22p=y22p+1;\n",
"        end\n",
"    else\n",
"        for o=1:100\n",
"        y21(y22p)=0;\n",
"        y22p=y22p+1;\n",
"        end\n",
"\n",
"end\n",
"if y3(i)==1 then\n",
"        for o=1:100\n",
"        y31(y33p)=1;\n",
"        y33p=y33p+1;\n",
"        end\n",
"    else\n",
"        for o=1:100\n",
"        y31(y33p)=0;\n",
"        y33p=y33p+1;\n",
"        end\n",
"\n",
"end\n",
"if c(i)==1 then\n",
"        for o=1:100\n",
"        c1(cp)=1;\n",
"        cp=cp+1;\n",
"        end\n",
"    else\n",
"        for o=1:100\n",
"        c1(cp)=0;\n",
"        cp=cp+1;\n",
"        end\n",
"end\n",
"\n",
"end\n",
"z=[2 2];   \n",
"subplot(4,1,1); //ploting the out put \n",
"title('Timing Diagram');\n",
"plot(c1);\n",
"plot(z);\n",
"ylabel('QA');\n",
"subplot(4,1,2);\n",
"plot(y11);\n",
"ylabel('QB');\n",
"plot(z);\n",
"subplot(4,1,3);\n",
"plot(y21);\n",
"ylabel('QC');\n",
"plot(z);\n",
"subplot(4,1,4);\n",
"plot(z);\n",
"ylabel('QD');\n",
"plot(y31);\n",
"disp('The counter goes through states 0000 (Decimal 0) to 1011 (Decimal 11), i.e., through 12 states. Thus it is a MOD-12 counter.')"
   ]
   }
,
{
		   "cell_type": "markdown",
		   "metadata": {},
		   "source": [
			"## Example 8.31: explain_operation_of_circuit.sce"
		   ]
		  },
  {
"cell_type": "code",
	   "execution_count": null,
	   "metadata": {
	    "collapsed": true
	   },
	   "outputs": [],
"source": [
"//Example 8.31\n",
"clc\n",
"disp('The fig. 8.63 shows the cascaded connection of 4-bit binary counters. Let us see the circuit operation. The counter IC1 operates as a counter for countion in the UP direction since CLEAR = LOAD = 1. When the count reaches the maximum value (1111) its RC (Ripple Carry Output) goes HIGH which makes P and T (Enable) inputs of IC2 HIGH for one clock cycle advancing its output by 1 and making Q outputs of IC1, 0 at the next clock cycle. After this clock cycle P = T = 0 for IC2 and IC1 will go on counting the pulses. When the outputs of IC1 and IC2 both reach the maximum count, RC outputs of both of these ICs will go HIGH. This will make P = T of IC3 HIGH and therefore, in the next clock cycle IC3 count will be incremented and simultaneously IC1 and IC2 will be cleared. This way the counting will continue.')"
   ]
   }
,
{
		   "cell_type": "markdown",
		   "metadata": {},
		   "source": [
			"## Example 8.32: design_divide_by_40000_counter.sce"
		   ]
		  },
  {
"cell_type": "code",
	   "execution_count": null,
	   "metadata": {
	    "collapsed": true
	   },
	   "outputs": [],
"source": [
"//Example 8.32\n",
"clc\n",
"disp('Cascading four 74161 (each 4-bit) counters we get 16 (4 x 4) bit counter as shown in fig 8.63.')\n",
"disp('Therefore, we get 2^16 = 65,536 modulus counter')\n",
"disp('However, we require divide-by-40,000 counter. The difference between 65,536 and 40,000 is 25,536, which is the number of states those must be skipped from the full modulus sequence. This can be achieved by presetting the counting from 25,536 upto 65,536 on each ful cycle. Therefore, each full cycle of the counter consists of 40,000 states.')"
   ]
   }
,
{
		   "cell_type": "markdown",
		   "metadata": {},
		   "source": [
			"## Example 8.33: design_modulo_11_counter.sce"
		   ]
		  },
  {
"cell_type": "code",
	   "execution_count": null,
	   "metadata": {
	    "collapsed": true
	   },
	   "outputs": [],
"source": [
"//Example 8.33\n",
"clc\n",
"disp('Although the 74X163 is a modulo-16 counter, it can be made to count in a modulus less than 16 by using the CLR'' or LD'' input to shorten the normal counting sequence. The fig.8.69 shows circuit connections for modulo-11 counter. Here, load input is activated upon activation of RCO (ripple-carry-output). Since load input is adjusted to state 5, counter counts from 5 to 15 and then starts at 5 again, for a total of 11 states per counting cycle.')\n",
"disp('')\n",
"disp('We can also design modulo-11 counter using CLR'' input as shown in fig.8.70. here, NAND gate is used to detect state 10 and force the next state to 0. A 2-input gate is used to detect state 10 (binary 1010) by connecting Q1 and Q3 to the inputs of the NAND gate.')"
   ]
   }
,
{
		   "cell_type": "markdown",
		   "metadata": {},
		   "source": [
			"## Example 8.34: design_excess_3_decimal_counter.sce"
		   ]
		  },
  {
"cell_type": "code",
	   "execution_count": null,
	   "metadata": {
	    "collapsed": true
	   },
	   "outputs": [],
"source": [
"//Example 8.34\n",
"clc\n",
"disp('An excess-3 decimal counter should start counting from count 3 (binary 0011) and count upto count 12 (binary 1100). Starting count is adjusted by loading 0011 at load inputs. To recycle count from 1100 to 0011, Q3 and Q2 output are connected as inputs for 2-input NAND gate. Thus, NAND gate detects state 1100 and forces 0011 to be loaded as the next state.')"
   ]
   }
,
{
		   "cell_type": "markdown",
		   "metadata": {},
		   "source": [
			"## Example 8.35: modulus_greater_than_16.sce"
		   ]
		  },
  {
"cell_type": "code",
	   "execution_count": null,
	   "metadata": {
	    "collapsed": true
	   },
	   "outputs": [],
"source": [
"//Example 8.35\n",
"clc\n",
"disp('A binary counter with a modulus greater than 16 can be built by cascading 74X163s. When counters are cascaded, CLK, CLR'' and LD'' of all the 74X163s are connected in parallel, so that all of them count or are cleared or loaded at the same time. The RCO signal drives the ENT input of the next counter. The fig.8.73 shows modulo-60 counter. To have a modulo 60 count we need at least 6-bit counter, thus two 74X163s are cascaded. Counter is designed to count from 196 to 255. The MAXCNT signal detects the state 255 and stops the counter util GO'' is asserted. When GO'' is asserted the counter is reloaded with 196 (binary 1100 0100) and counts upto 255. To enable counting, CNTEN is connected to the ENP inputs in parallel. A NAND gate assets RELOAD'' to get back to state 196 only if GO'' is asserted and the counter is in state 255.')"
   ]
   }
,
{
		   "cell_type": "markdown",
		   "metadata": {},
		   "source": [
			"## Example 8.36: modulo_8_counter.sce"
		   ]
		  },
  {
"cell_type": "code",
	   "execution_count": null,
	   "metadata": {
	    "collapsed": true
	   },
	   "outputs": [],
"source": [
"//Example 8.36\n",
"clc\n",
"disp('A binary counter may be combined with a decoder to obtain a set of 1-out-of-M coded signals, where one signal is asserted in each count state. This is useful when counters are used to control a set of devices, where a different devices is enabled in each counter state.')\n",
"disp('The fig.8.74 shows how a 74X163 connected as a modulo-8 counter can be combined with a 74X138 3-8 decoder to provide eight signals, each one representing a counter state.')"
   ]
   }
,
{
		   "cell_type": "markdown",
		   "metadata": {},
		   "source": [
			"## Example 8.37: synchronous_decade_counter.sce"
		   ]
		  },
  {
"cell_type": "code",
	   "execution_count": null,
	   "metadata": {
	    "collapsed": true
	   },
	   "outputs": [],
"source": [
"//Example 8.37\n",
"clc\n",
"disp('Excitation table')\n",
"disp('Present State             Next State               Flip-flop Inputs')\n",
"disp('QD  QC  QB  QA    Q_D+1  Q_C+1  Q_B+1  Q_A+1    JK_D  JK_C  JK_B  JK_A')\n",
"disp('0   0   0   0       0      0      0      1       0     0     0     1')\n",
"disp('0   0   0   1       0      0      1      0       0     0     1     1')\n",
"disp('0   0   1   0       0      0      1      1       0     0     0     1')\n",
"disp('0   0   1   1       0      1      0      0       0     1     1     1')\n",
"disp('0   1   0   0       0      1      0      1       0     0     0     1')\n",
"disp('0   1   0   1       0      1      1      0       0     0     1     1')\n",
"disp('0   1   1   0       0      1      1      1       0     0     0     1')\n",
"disp('0   1   1   1       1      0      0      0       1     1     1     1')\n",
"disp('1   0   0   0       1      0      0      1       0     0     0     1')\n",
"disp('1   0   0   1       0      0      0      0       1     0     0     1')\n",
"disp('1   0   1   0       X      X      X      X       X     X     X     1')\n",
"disp('1   0   1   1       X      X      X      X       X     X     X     1')\n",
"disp('1   1   0   0       X      X      X      X       X     X     X     X')\n",
"disp('1   1   0   1       X      X      X      X       X     X     X     X')\n",
"disp('1   1   1   0       X      X      X      X       X     X     X     X')\n",
"disp('1   1   1   1       X      X      X      X       X     X     X     X')\n",
"disp('')\n",
"disp('K-map Simplification')\n",
"disp('                  For JK_D')\n",
"disp('         QB''QA''  QB''QA  QBQA  QBQA''')\n",
"disp('QD''QC''     0       0      0     0')\n",
"disp('QD''QC      0       0      1     0')\n",
"disp('QDQC       X       X      X     X')\n",
"disp('QDQC''      0       1      X     X')\n",
"disp('JK_D = QA QD + QA QB QC')\n",
"disp('')\n",
"disp('                  For JK_C')\n",
"disp('         QB''QA''  QB''QA  QBQA  QBQA''')\n",
"disp('QD''QC''     0       0      1     0')\n",
"disp('QD''QC      0       0      1     0')\n",
"disp('QDQC       X       X      X     X')\n",
"disp('QDQC''      0       0      X     X')\n",
"disp('JK_C = QA QB')\n",
"disp('')\n",
"disp('                  For JK_B')\n",
"disp('         QB''QA''  QB''QA  QBQA  QBQA''')\n",
"disp('QD''QC''     0       1      1     0')\n",
"disp('QD''QC      0       1      1     0')\n",
"disp('QDQC       X       X      X     X')\n",
"disp('QDQC''      0       0      X     X')\n",
"disp('JK_B = QA QD''')\n",
"disp('')\n",
"disp('                  For JK_A')\n",
"disp('         QB''QA''  QB''QA  QBQA  QBQA''')\n",
"disp('QD''QC''     1       1      1     1')\n",
"disp('QD''QC      1       1      1     1')\n",
"disp('QDQC       X       X      X     X')\n",
"disp('QDQC''      1       1      X     X')\n",
"disp('JK_A = 1')\n",
"disp('')\n",
"disp('Fig shows the logic diagram for the synchronous decade counter using JK flip-flop')"
   ]
   }
,
{
		   "cell_type": "markdown",
		   "metadata": {},
		   "source": [
			"## Example 8.38: flip_flops.sce"
		   ]
		  },
  {
"cell_type": "code",
	   "execution_count": null,
	   "metadata": {
	    "collapsed": true
	   },
	   "outputs": [],
"source": [
"//Example 8.38\n",
"clc\n",
"disp('Excitation table')\n",
"disp(' Input       Present State         Next State         Flip-flop Inputs')\n",
"disp('UP/DOWN''      QC  QB  QA       Q_C+1  Q_B+1  Q_A+1    JK_C  JK_B  JK_A')\n",
"disp('  UD')\n",
"disp('  0            0   0   0          1      1      1       1     1     1')\n",
"disp('  0            0   0   1          0      0      0       0     0     1')\n",
"disp('  0            0   1   0          0      0      1       0     1     1')\n",
"disp('  0            0   1   1          0      1      0       0     0     1')\n",
"disp('  0            1   0   0          0      1      1       1     1     1')\n",
"disp('  0            1   0   1          1      0      0       0     0     1')\n",
"disp('  0            1   1   0          1      0      1       0     1     1')\n",
"disp('  0            1   1   1          1      1      0       0     0     1')\n",
"disp('  1            0   0   0          0      0      1       0     0     1')\n",
"disp('  1            0   0   1          0      1      0       0     1     1')\n",
"disp('  1            0   1   0          0      1      1       0     0     1')\n",
"disp('  1            0   1   1          1      0      0       1     1     1')\n",
"disp('  1            1   0   0          1      0      1       0     0     1')\n",
"disp('  1            1   0   1          1      1      0       0     1     1')\n",
"disp('  1            1   1   0          1      1      1       0     0     1')\n",
"disp('  1            1   1   1          0      0      0       1     1     1')\n",
"disp('')\n",
"disp('K-map Simplification')\n",
"disp('                  For JK_C')\n",
"disp('         QB''QA''  QB''QA  QBQA  QBQA''')\n",
"disp('QD''QC''     1       0      0     0')\n",
"disp('QD''QC      1       0      0     0')\n",
"disp('QDQC       0       0      1     0')\n",
"disp('QDQC''      0       0      1     0')\n",
"disp('JK_C =UD'' QB'' QB'' + UD QB QA')\n",
"disp('')\n",
"disp('                  For JK_B')\n",
"disp('         QB''QA''  QB''QA  QBQA  QBQA''')\n",
"disp('QD''QC''     1       0      0     1')\n",
"disp('QD''QC      1       0      0     1')\n",
"disp('QDQC       0       1      1     0')\n",
"disp('QDQC''      0       1      1     0')\n",
"disp('TB =UD'' QA'' + UD QA')\n",
"disp('')\n",
"disp('                  For JK_A')\n",
"disp('         QB''QA''  QB''QA  QBQA  QBQA''')\n",
"disp('QD''QC''     1       1      1     1')\n",
"disp('QD''QC      1       1      1     1')\n",
"disp('QDQC       1       1      1     1')\n",
"disp('QDQC''      1       1      1     1')\n",
"disp('TA = 1')\n",
"disp('')"
   ]
   }
,
{
		   "cell_type": "markdown",
		   "metadata": {},
		   "source": [
			"## Example 8.39: design_mod_5_synchronous_counter.sce"
		   ]
		  },
  {
"cell_type": "code",
	   "execution_count": null,
	   "metadata": {
	    "collapsed": true
	   },
	   "outputs": [],
"source": [
"//Example 8.39\n",
"clc\n",
"disp('For mod-5 counter we require 3 flip-flops.')\n",
"disp('Excitation table')\n",
"disp('             Present State         Next State         Flip-flop Inputs')\n",
"disp('               QC  QB  QA       Q_A+1  Q_B+1  Q_C+1    T_A   T_B   T_C')\n",
"disp('  0            0   0   0          0      0      1       0     0     1')\n",
"disp('  1            0   0   1          0      1      0       0     1     1')\n",
"disp('  2            0   1   0          0      1      1       0     0     1')\n",
"disp('  3            0   1   1          1      0      0       1     1     1')\n",
"disp('  4            1   0   0          0      0      0       1     0     0')\n",
"disp('')\n",
"disp('K-map Simplification')\n",
"disp('         QB''QC''  QB''QC  QBQC  QBQC''')\n",
"disp('QA''         0       0      1     0')\n",
"disp('QA          1       X      X     X')\n",
"disp('T_A = QA + QB QC')\n",
"disp('')\n",
"disp('         QB''QC''  QB''QC  QBQC  QBQC''')\n",
"disp('QA''         0       1      1     0')\n",
"disp('QA          0       X      X     X')\n",
"disp('T_B = QC')\n",
"disp('')\n",
"disp('         QB''QC''  QB''QC  QBQC  QBQC''')\n",
"disp('QA''         1       1      1     1')\n",
"disp('QA          0       X      X     X')\n",
"disp('T_C = QA''')\n",
"disp('')"
   ]
   }
,
{
		   "cell_type": "markdown",
		   "metadata": {},
		   "source": [
			"## Example 8.40: design_MOD_4_down_counter.sce"
		   ]
		  },
  {
"cell_type": "code",
	   "execution_count": null,
	   "metadata": {
	    "collapsed": true
	   },
	   "outputs": [],
"source": [
"//Example 8.40\n",
"clc\n",
"disp('Excitation table')\n",
"disp('Present State       Next State         Flip-flop Inputs')\n",
"disp('   QC  QB            A+    B+       J_A   K_A   J_B   K_B')\n",
"disp('   0   0             1     1         1     X     1     X')\n",
"disp('   0   1             0     0         0     X     X     1')\n",
"disp('   1   0             0     1         X     1     1     X')\n",
"disp('   1   1             1     0         X     0     X     1')\n",
"disp('')\n",
"disp('K-map Simplification')\n",
"disp('  For J_A')\n",
"disp('     B''   B')\n",
"disp('A''   1    0')\n",
"disp('A    X    X')\n",
"disp('J_A = B''')\n",
"disp('')\n",
"disp('  For K_A')\n",
"disp('     B''   B')\n",
"disp('A''   X    X')\n",
"disp('A    1    0')\n",
"disp('K_A = B''')\n",
"disp('')\n",
"disp('  For J_B')\n",
"disp('     B''   B')\n",
"disp('A''   1    X')\n",
"disp('A    1    X')\n",
"disp('J_B = 1')\n",
"disp('')\n",
"disp('  For K_B')\n",
"disp('     B''   B')\n",
"disp('A''   X    1')\n",
"disp('A    X    1')\n",
"disp('K_B = 1')\n",
"disp('')"
   ]
   }
,
{
		   "cell_type": "markdown",
		   "metadata": {},
		   "source": [
			"## Example 8.41: design_MOD_12_synchronous_counter.sce"
		   ]
		  },
  {
"cell_type": "code",
	   "execution_count": null,
	   "metadata": {
	    "collapsed": true
	   },
	   "outputs": [],
"source": [
"//Example 8.41\n",
"clc\n",
"disp('Mod-12 synchronous counter using D flip-flop :')\n",
"disp('Let    Number of flip-flop required = n')\n",
"disp('                               2^n >= 12')\n",
"disp('                                  n = 4')\n",
"disp('Excitation table')\n",
"disp('Present State             Next State        ')\n",
"disp('QD  QC  QB  QA    Q_D+1  Q_C+1  Q_B+1  Q_A+1')\n",
"disp('0   0   0   0       0      0      0      1')\n",
"disp('0   0   0   1       0      0      1      0')\n",
"disp('0   0   1   0       0      0      1      1')\n",
"disp('0   0   1   1       0      1      0      0')\n",
"disp('0   1   0   0       0      1      0      1')\n",
"disp('0   1   0   1       0      1      1      0')\n",
"disp('0   1   1   0       0      1      1      1')\n",
"disp('0   1   1   1       1      0      0      0')\n",
"disp('1   0   0   0       1      0      0      1')\n",
"disp('1   0   0   1       1      0      1      0')\n",
"disp('1   0   1   0       1      0      1      1')\n",
"disp('1   0   1   1       0      0      0      0')\n",
"disp('')\n",
"disp('K-map Simplification')\n",
"disp('                  For D_A')\n",
"disp('         QB''QA''  QB''QA  QBQA  QBQA''')\n",
"disp('QD''QC''     1       0      0     1')\n",
"disp('QD''QC      1       0      0     1')\n",
"disp('QDQC       X       X      X     X')\n",
"disp('QDQC''      1       0      0     1')\n",
"disp('D_A = QA''')\n",
"disp('')\n",
"disp('                  For D_B')\n",
"disp('         QB''QA''  QB''QA  QBQA  QBQA''')\n",
"disp('QD''QC''     0       1      0     1')\n",
"disp('QD''QC      0       1      0     1')\n",
"disp('QDQC       X       X      X     X')\n",
"disp('QDQC''      0       1      0     1')\n",
"disp('D_B = QB'' QaA + QA'' QB')\n",
"disp('    = QA XOR QB')\n",
"disp('')\n",
"disp('                  For D_C')\n",
"disp('         QB''QA''  QB''QA  QBQA  QBQA''')\n",
"disp('QD''QC''     0       0      1     0')\n",
"disp('QD''QC      1       1      0     1')\n",
"disp('QDQC       X       X      X     X')\n",
"disp('QDQC''      0       0      0     0')\n",
"disp('D_C = QC QB'' + QC QA'' + QD'' QC'' QB QA')\n",
"disp('')\n",
"disp('                  For D_D')\n",
"disp('         QB''QA''  QB''QA  QBQA  QBQA''')\n",
"disp('QD''QC''     0       0      0     0')\n",
"disp('QD''QC      0       0      1     0')\n",
"disp('QDQC       X       X      X     X')\n",
"disp('QDQC''      1       1      0     1')\n",
"disp('D_D = QD QB'' + QC QB QA + QD QA''')"
   ]
   }
,
{
		   "cell_type": "markdown",
		   "metadata": {},
		   "source": [
			"## Example 8.42: design_4_bit_4_state_ring_counter.sce"
		   ]
		  },
  {
"cell_type": "code",
	   "execution_count": null,
	   "metadata": {
	    "collapsed": true
	   },
	   "outputs": [],
"source": [
"//Example 8.42\n",
"clc\n",
"disp('The fig.8.99 shows the circuit diagram for a 4-bit, 4-state ring counter with a single circulating 1. Here, 74X194 universal shift register is connected so that it normally preforms a left-shift. However, when RESET is asserted it loads 0001. Once RESET is negated, the 74194 shifts left on each clock pulse. The D_SL serial input is connected to the leftmost output (Q3 : MSB), so the next states are 0010, 0100, 1000, 0001, 0010, ..... Thus the counter counter visits four unique states before repeating.')"
   ]
   }
,
{
		   "cell_type": "markdown",
		   "metadata": {},
		   "source": [
			"## Example 8.44: design_4_bit_8_state_johnson_counter.sce"
		   ]
		  },
  {
"cell_type": "code",
	   "execution_count": null,
	   "metadata": {
	    "collapsed": true
	   },
	   "outputs": [],
"source": [
"//Example 8.44\n",
"clc\n",
"disp('Johnson counter is basically a twisted ring counter. The fig.8.104(a) shows the basic circuit for a Johnson counter. The table shows the states of a 4-bit Johnson counter.')\n",
"disp('')\n",
"disp('States of 4-bit Johnson counter')\n",
"disp('State name    Q3  Q2  Q1  Q0')\n",
"disp('    S1        0   0   0   0')\n",
"disp('    S2        0   0   0   1')\n",
"disp('    S3        0   0   1   1')\n",
"disp('    S4        0   1   1   1')\n",
"disp('    S5        1   1   1   1')\n",
"disp('    S6        1   1   1   0')\n",
"disp('    S7        1   1   0   0')\n",
"disp('    S8        1   0   0   0')\n",
"disp('')\n",
"disp('This counter can be modified to have self correcting Johnson counter as shown in fig.8.104(c). Here, the connections are made such that circuit oads 0001 as the next state whenever the current state is 0XX0.')"
   ]
   }
,
{
		   "cell_type": "markdown",
		   "metadata": {},
		   "source": [
			"## Example 8.45: johnson_counter.sce"
		   ]
		  },
  {
"cell_type": "code",
	   "execution_count": null,
	   "metadata": {
	    "collapsed": true
	   },
	   "outputs": [],
"source": [
"//Example 8.45\n",
"clc\n",
"disp('Johnson counter will produce a modulus of 2xn where n is the number of stages (i.e. flip-flops) in the counter. Therefore, Mod 10 requires 5 flip-flops and Mod 16 requires 8 flip-flops.')"
   ]
   }
,
{
		   "cell_type": "markdown",
		   "metadata": {},
		   "source": [
			"## Example 8.4: draw_logic_diagram.sce"
		   ]
		  },
  {
"cell_type": "code",
	   "execution_count": null,
	   "metadata": {
	    "collapsed": true
	   },
	   "outputs": [],
"source": [
"//Example 8.4\n",
"clc\n",
"disp('When flip-flops are negatively edge triggered, the Q output of previous stage is connected to the clock input of the next stage. Fig. 8.5 shows 3-stage asynchronous counter with negative edge triggered flip-flops.')"
   ]
   }
,
{
		   "cell_type": "markdown",
		   "metadata": {},
		   "source": [
			"## Example 8.5: output_frequency.sce"
		   ]
		  },
  {
"cell_type": "code",
	   "execution_count": null,
	   "metadata": {
	    "collapsed": true
	   },
	   "outputs": [],
"source": [
"//example 8.5\n",
"clc\n",
"of=50/14\n",
"format(5)\n",
"disp(of,'Output frequency = 50 kHz / 14 =')"
   ]
   }
,
{
		   "cell_type": "markdown",
		   "metadata": {},
		   "source": [
			"## Example 8.6: maximum_operating_frequency.sce"
		   ]
		  },
  {
"cell_type": "code",
	   "execution_count": null,
	   "metadata": {
	    "collapsed": true
	   },
	   "outputs": [],
"source": [
"//Example 8.6\n",
"clc\n",
"disp('We know that MOD-32 uses five flip-flops. With t_pd = 50 ns, the f_max for ripple counter can be given as,')\n",
"fm=(1/(250*10^-9))*10^-6\n",
"disp(fm,'f_max(ripple) = ')"
   ]
   }
,
{
		   "cell_type": "markdown",
		   "metadata": {},
		   "source": [
			"## Example 8.8: design_4_bit_up_down_ripple_counter.sce"
		   ]
		  },
  {
"cell_type": "code",
	   "execution_count": null,
	   "metadata": {
	    "collapsed": true
	   },
	   "outputs": [],
"source": [
"//Example 8.8\n",
"clc\n",
"disp('The 4-bit counter needs four flip-flops. The circuit for 4-bit up/down ripple counter is similar to 3-bit up/down ripple counter except that 4-bit counter has one more flip-flop and its clock driving circuiting.')\n",
"disp('  The fig. 8.14 shows the 4-bit up/down ripple counter.')"
   ]
   }
,
{
		   "cell_type": "markdown",
		   "metadata": {},
		   "source": [
			"## Example 8.9: design_divide_by_9_counter.sce"
		   ]
		  },
  {
"cell_type": "code",
	   "execution_count": null,
	   "metadata": {
	    "collapsed": true
	   },
	   "outputs": [],
"source": [
"//Example 8.9\n",
"clc\n",
"disp('Internal structure of 7492 is as shown in fig.8.16.')\n",
"disp('')\n",
"disp('The circuit diagram for divide-by-9 counter is as shown in fig.8.17.')"
   ]
   }
],
"metadata": {
		  "kernelspec": {
		   "display_name": "Scilab",
		   "language": "scilab",
		   "name": "scilab"
		  },
		  "language_info": {
		   "file_extension": ".sce",
		   "help_links": [
			{
			 "text": "MetaKernel Magics",
			 "url": "https://github.com/calysto/metakernel/blob/master/metakernel/magics/README.md"
			}
		   ],
		   "mimetype": "text/x-octave",
		   "name": "scilab",
		   "version": "0.7.1"
		  }
		 },
		 "nbformat": 4,
		 "nbformat_minor": 0
}
