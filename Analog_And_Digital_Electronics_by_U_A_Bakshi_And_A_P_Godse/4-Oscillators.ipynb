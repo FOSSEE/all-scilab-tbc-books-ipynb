{
"cells": [
 {
		   "cell_type": "markdown",
	   "metadata": {},
	   "source": [
       "# Chapter 4: Oscillators"
	   ]
	},
{
		   "cell_type": "markdown",
		   "metadata": {},
		   "source": [
			"## Example 4.10: series_and_parallel_resonant_freqency.sce"
		   ]
		  },
  {
"cell_type": "code",
	   "execution_count": null,
	   "metadata": {
	    "collapsed": true
	   },
	   "outputs": [],
"source": [
"//Example 4.10\n",
"clc\n",
"fs=(1/(2*%pi*sqrt(0.4*0.085*10^-12)))*10^-6  // in MHz\n",
"format(6)\n",
"disp(fs,'(i)  f_s(in MHz) = 1 / 2*pi*sqrt(L*C) =')\n",
"ceq=0.085/1.085  // in pF\n",
"disp(ceq,'(ii)  C_eq(in pF) = C*C_M / C+C_M =')\n",
"fp=(1/(2*%pi*sqrt(0.4*0.078*10^-12)))*10^-6  // in MHz  (the answer in textbook is wrong)\n",
"disp(fp,'Therefore,  f_p(in MHz) = 1 / 2*pi*sqrt(L*C_eq) =')\n",
"inc=((0.899-0.856)/0.856)*100  // in percentage\n",
"disp(inc,'(iii)  %increase =')\n",
"q=(2*%pi*0.4*0.856*10^6)/(5*10^3)\n",
"format(8)\n",
"disp(q,'(iv)  Q = omega_s*L / R = 2*pi*f_s*L / R =')"
   ]
   }
,
{
		   "cell_type": "markdown",
		   "metadata": {},
		   "source": [
			"## Example 4.11: series_and_parallel_resonant_freqency.sce"
		   ]
		  },
  {
"cell_type": "code",
	   "execution_count": null,
	   "metadata": {
	    "collapsed": true
	   },
	   "outputs": [],
"source": [
"//Example 4.11\n",
"clc\n",
"disp('    C_M = 2 pF')\n",
"fs=(1/(2*%pi*sqrt(2*0.01*10^-12)))*10^-6  // in MHz\n",
"format(6)\n",
"disp(fs,'Now  f_s(in MHz) = 1 / 2*pi*sqrt(L*C) =')\n",
"ceq=(2*0.01*10^-24)/(2.01*10^-12)  // in F\n",
"format(9)\n",
"disp(ceq,'  C_eq(in F) = C_M*C / C_M+C =')\n",
"fp=(1/(2*%pi*sqrt(2*9.95*10^-15)))*10^-6  // in MHz\n",
"format(6)\n",
"disp(fp,'  f_p = 1 / 2*pi*sqrt(L*C_eq) =')\n",
"disp('So f_sand f_p values are almost same.')"
   ]
   }
,
{
		   "cell_type": "markdown",
		   "metadata": {},
		   "source": [
			"## Example 4.12: Varify_Barkhausen_criterion_and_find_frequency_of_oscillation.sce"
		   ]
		  },
  {
"cell_type": "code",
	   "execution_count": null,
	   "metadata": {
	    "collapsed": true
	   },
	   "outputs": [],
"source": [
"//example 4.12.\n",
"clc\n",
"disp('From the given information we can write,')\n",
"disp('    A = -16*10^6/j*omega  and  beta = 10^3/[2*10^3+j*omega]^2')\n",
"disp('To verify the Barkhausen condition means to verify whether |A*beta| = 1 at a frequency for which A*beta = 0 degree. Let us express, A*beta in its rectangluar form.')\n",
"disp('  A*beta = -16*10^6*10^3 / j*omega*[2*10^3+j*omega]^2 = -16*10^9 / j*omega*[4*10^6+4*10^3*j*omega+(j*omega)^2]')\n",
"disp('         = -16*10^9 / j*omega*[4*10^6+4*10^3*j*omega-omega^2]      as j*2 = -1')\n",
"disp('         = -16*10^9 / 4*10^6*j*omega+4*10^3*j^2*omega^2-j*omega^3]')\n",
"disp('         = -16*10^9 / j*omega*[4*10^6-omega^2]-[omega^2*4*10^3]')\n",
"disp('Rationalising the denominator function we get,')\n",
"disp('  A*beta = -16*10^9[-omega^2*4*10^3 - j*omega*[4*10^6-omega^2]] / [-[omega^2*4*10^3]-j*omega*[4*10^6-omega^2]]*[-omega^2*4*10^3 - j*omega*[4*10^6-omega^2]]')\n",
"disp('Using (a-b)(a+b) = a^2 - b^2 in the denominator,')\n",
"disp('  A*beta = 16*10^9[omega^2*4*10^3+j*omega*[4*10^6-omega^2]] / [-omega^2*4*10^3]^2 - [j*omega*[4*10^6-omega^2]^2')\n",
"disp('  A*beta = 16*10^9[omega^2*4*10^3+j*omega*[4*10^6-omega^2]] / 16*10^6*omega^4 + omega^2(4*10^6-omega^2)^2')\n",
"disp('Now to have A*beta = 0 degree, the imaginary part of A*beta must be zero. This is possible when,')\n",
"disp('Therefore,  omega*(4*10^6 - omega^2) = 0')\n",
"disp('Therefore,  omega = 0  or  4*10^6 - omega^2 = 0')\n",
"disp('Therefore,  omega^2 = 4*10^6          Neglecting zero value of frequency')\n",
"disp('Therefore,  omega = 2*10^3 rad/sec')\n",
"disp('At this frequency |A*beta| can be obtained as,')\n",
"disp('  |A*beta| = 16*10^9[4*10^3*omega^2] / 16*10^6*omega^4+omega^2[4*10^6-omega^2]^2       at omega = 2*10^3')\n",
"ab=(2.56*10^20)/(2.56*10^20)\n",
"disp(ab,'  |A*beta| =')\n",
"disp('Therefore,  At omega = 2*10^3 rad/sec, A*beta = 0 degree as imaginary part is zero while |A*beta| = 1. Thus Barkhausen Criterion is satisfied.')\n",
"disp('The frequency at which circuit will oscillate is the value of omega for which |A*beta|  = 1 and A*beta = 0 degree at the same time')\n",
"disp('i.e.      omega = 2*10^3  rad/sec')\n",
"disp('But       omega = 2*pi*f')\n",
"f=(2*10^3)/(2*%pi)  // in Hz\n",
"format(9)\n",
"disp(f,'Therefore,  f(in Hz) = omega / 2pi =')"
   ]
   }
,
{
		   "cell_type": "markdown",
		   "metadata": {},
		   "source": [
			"## Example 4.13: minimum_and_maximum_values_of_R2.sce"
		   ]
		  },
  {
"cell_type": "code",
	   "execution_count": null,
	   "metadata": {
	    "collapsed": true
	   },
	   "outputs": [],
"source": [
"//Example 4.13\n",
"clc\n",
"disp('The frequency of the oscillator is given by,')\n",
"disp('  f = 1 / 2*pi*sqrt(R1*R2*C1*C2)')\n",
"disp('For  f = 20 kHz,')\n",
"r2=(1/(4*(%pi^2)*((20*10^3)^2)*(10*10^3)*((0.001*10^-6)^2)))*10^-3\n",
"format(5)\n",
"disp(r2,'Therefore,  R2(in k-ohm) =')\n",
"disp('For  f = 70 kHz,')\n",
"r2=(1/(4*(%pi^2)*((70*10^3)^2)*(10*10^3)*((0.001*10^-6)^2)))*10^-3\n",
"format(6)\n",
"disp(r2,'Therefore,  R2(in k-ohm) =')\n",
"disp('So minimum value of R2 is 0.517 k-ohm while the maximum value of R2 is 6.33 k-ohm')"
   ]
   }
,
{
		   "cell_type": "markdown",
		   "metadata": {},
		   "source": [
			"## Example 4.14: frequency_of_oscillation_and_minimum_hfe.sce"
		   ]
		  },
  {
"cell_type": "code",
	   "execution_count": null,
	   "metadata": {
	    "collapsed": true
	   },
	   "outputs": [],
"source": [
"//Example 4.14.\n",
"clc\n",
"disp('R = 6 k-ohm,  C = 1500 pF,  R_C = 18 k-ohm')\n",
"k=18/6\n",
"disp(k,'Now    K = R_C / R =')\n",
"disp('Therefore,  f = 1 / 2*pi*R*C*sqrt(6+4K)')\n",
"f=(1/(2*%pi*(6*10^3)*(1500*10^-12)*sqrt(6+12)))*10^-3  // in kHZ\n",
"format(6)\n",
"disp(f,'  f(in kHz) =')\n",
"hfe=(4*3)+23+(29/3)\n",
"disp(hfe,'  (h_fe)min = 4K + 23 + 29/K =')"
   ]
   }
,
{
		   "cell_type": "markdown",
		   "metadata": {},
		   "source": [
			"## Example 4.15: range_of_frequency_of_oscillation.sce"
		   ]
		  },
  {
"cell_type": "code",
	   "execution_count": null,
	   "metadata": {
	    "collapsed": true
	   },
	   "outputs": [],
"source": [
"//Example 4.15.\n",
"clc\n",
"format(6)\n",
"disp('For a Wien bridge oscillator,')\n",
"disp('  f = 1 / 2*pi*R*C')\n",
"fm=(1/(2*%pi*(100*10^3)*(50*10^-12)))*10^-3  // in kHz\n",
"disp(fm,'Therefore,  f_max(in kHz) =')\n",
"fmi=(1/(2*%pi*(100*10^3)*(500*10^-12)))*10^-3\n",
"disp(fmi,'and  f_min(in kHz) =')\n",
"fn=31.83+50\n",
"disp(fn,'Now  f_new(in kHz) = f_max + 50*10^3 =')\n",
"disp('The corresponding R = R'' with an additional resistance R_x in parallel')\n",
"disp('Therefore,  f = 1 / 2*pi*R''*C')\n",
"r=(1/(2*%pi*(50*10^-12)*(81.83*10^3)))*10^-3  // in k-ohm\n",
"disp(r,'Therefore,  R''(in k-ohm) =')\n",
"rx=1/((1/38.89)-(1/100))  // in k-ohm\n",
"disp('Therefore,  R'' = R*R_x / R+R_x')\n",
"disp(rx,'Therefore,  R_x(in k-ohm) =               in parallel with 100 k-ohm')"
   ]
   }
,
{
		   "cell_type": "markdown",
		   "metadata": {},
		   "source": [
			"## Example 4.16: frequency_of_oscillation.sce"
		   ]
		  },
  {
"cell_type": "code",
	   "execution_count": null,
	   "metadata": {
	    "collapsed": true
	   },
	   "outputs": [],
"source": [
"//Example 4.16.\n",
"clc\n",
"format(6)\n",
"disp('For a Hartley oscillator the frequency is given by,')\n",
"disp('  f = 1 / 2*pi*sqrt(L_eq*C)        where L_eq = L1+L2')\n",
"leq=20+5  // in mH\n",
"disp(leq,'Therefore,  L__eq(in mH) = 20+5 =')\n",
"f=(1/(2*%pi*sqrt(25*500*10^-15)))*10^-3  // in kHz\n",
"disp(f,'Therefore,  f(in kHz) =')"
   ]
   }
,
{
		   "cell_type": "markdown",
		   "metadata": {},
		   "source": [
			"## Example 4.17: gain_of_the_transistor.sce"
		   ]
		  },
  {
"cell_type": "code",
	   "execution_count": null,
	   "metadata": {
	    "collapsed": true
	   },
	   "outputs": [],
"source": [
"//Example 14.7\n",
"clc\n",
"disp('For a Hartley oscillator,')\n",
"disp('  f = 1 / 2*pi*sqrt(L_eq*C)        where L_eq = L1 + L2 + 2M')\n",
"leq=(1/(4*(%pi^2)*((168*10^3)^2)*(50*10^-12)))*10^3  // in mH\n",
"format(6)\n",
"disp(leq,'Therefore,  L_eq(in mH) =')\n",
"l2=((17.95*10^-3)-(15*10^-3)-(5*10^-6))*10^3  // in mH\n",
"disp(l2,'Therefore,  L2(in mH) =')\n",
"hfe=((15*10^-3)+(5*10^-6))/((2.945*10^-3)+(5*10^-6))\n",
"format(5)\n",
"disp(hfe,'Now    h_fe = L1+M / L2+M =')"
   ]
   }
,
{
		   "cell_type": "markdown",
		   "metadata": {},
		   "source": [
			"## Example 4.18: new_frequency_and_inductance.sce"
		   ]
		  },
  {
"cell_type": "code",
	   "execution_count": null,
	   "metadata": {
	    "collapsed": true
	   },
	   "outputs": [],
"source": [
"//Example 4.18\n",
"clc\n",
"disp('For a Colpitts oscillator,')\n",
"disp('  f = 1 / 2*pi*sqrt(L*C_eq)')\n",
"disp('where  C_eq = C1*C2 / C1+C2  but C1 = C2 = 0.001 uF')\n",
"ceq=((0.001*10^-6)^2)/(2*(0.001*10^-6))  // in F\n",
"format(7)\n",
"disp(ceq,'Therefore,  C_eq(in F) =')\n",
"disp('  L = 5*10^-6 H')\n",
"f=(1/(2*%pi*sqrt(25*10^-16)))*10^-6  // in MHz\n",
"format(6)\n",
"disp(f,'Therefore,  f(in MHz) =')\n",
"disp('Now L is doubled i.e. 10 uH')\n",
"f1=(1/(2*%pi*sqrt(50*10^-16)))*10^-6  // in MHz\n",
"format(5)\n",
"disp(f1,'Therefore,  f(in MHz) =')\n",
"nf= 2*3.183\n",
"format(6)\n",
"disp(nf,'New frequency(in MHz) = 2*3.183 =')\n",
"l=(1/(4*(%pi^2)*((6.366*10^6)^2)*(5*10^-10)))*10^6  // in uH\n",
"format(5)\n",
"disp(l,'Therefore,  L(in uH) =')"
   ]
   }
,
{
		   "cell_type": "markdown",
		   "metadata": {},
		   "source": [
			"## Example 4.19: new_frequency_of_oscillation.sce"
		   ]
		  },
  {
"cell_type": "code",
	   "execution_count": null,
	   "metadata": {
	    "collapsed": true
	   },
	   "outputs": [],
"source": [
"//Example 4.19\n",
"clc\n",
"disp('For a Clapp oscillator,')\n",
"disp('  f = 1 / 2*pi*sqrt(L*C3)')\n",
"disp('where    C3 = 63 pF')\n",
"f=(1/(2*%pi*sqrt(315*10^-18)))*10^-6  // in MHz\n",
"format(6)\n",
"disp(f,'Therefore,  f(in MHz) =')"
   ]
   }
,
{
		   "cell_type": "markdown",
		   "metadata": {},
		   "source": [
			"## Example 4.1: C_and_hfe.sce"
		   ]
		  },
  {
"cell_type": "code",
	   "execution_count": null,
	   "metadata": {
	    "collapsed": true
	   },
	   "outputs": [],
"source": [
"//Example 4.1\n",
"clc\n",
"disp('Refering to equation(1),')\n",
"ri=(25*57*1.8)/((57*1.8)+(25*1.8)+(25*57))  // in k-ohm\n",
"format(6)\n",
"disp(ri,'  R''_i(in k-ohm) = R1 || R2 || h_ie =')\n",
"disp('Now  R''_i + R3 = R')\n",
"r3=7.1-1.631  // in k-ohm\n",
"format(5)\n",
"disp(r3,'Therefore,  R3(in k-ohm) = R - R''_i =')\n",
"k=20/7.1\n",
"format(6)\n",
"disp(k,'  K = R_C / R =')\n",
"disp('Now  f = 1 / 2*pi*R*C*sqrt(6+4K)')\n",
"c=(1/(sqrt(6+(4*2.816))*2*%pi*7.1*10*10^6))*10^12  // in pF\n",
"format(8)\n",
"disp(c,'Therefore,  C(in pF) =')\n",
"disp('  h_fe >= 4K + 23 + 29/K')\n",
"hfe=(4*2.816)+23+(29/2.816)\n",
"format(7)\n",
"disp(hfe,'  h_fe >=')"
   ]
   }
,
{
		   "cell_type": "markdown",
		   "metadata": {},
		   "source": [
			"## Example 4.20: R_and_hfe.sce"
		   ]
		  },
  {
"cell_type": "code",
	   "execution_count": null,
	   "metadata": {
	    "collapsed": true
	   },
	   "outputs": [],
"source": [
"//Example 4.20\n",
"clc\n",
"disp('Refering to equation(1) of section 4.5.3, the input impedance is given by,')\n",
"disp('R''_i = R1 || R2 || h_ie')\n",
"disp('Now  R1 = 25 k-ohm,  R2 = 47 k-ohm,  and  h_ie = 2 k-ohm')\n",
"format(7)\n",
"ri=(25*47*2)/((47*2)+(25*2)+(25*47))  // in k-ohm\n",
"disp(ri,'Therefore,  R''_i(in k-ohm) =')\n",
"disp('  K = R_C / R')\n",
"disp('Now  R_C = 10 k-ohm        ...given')\n",
"disp('Now  f = 1 / 2*pi*R*C*sqrt(6+4K)')\n",
"disp('Therefore,  R*sqrt(6+4K) = 31830.989')\n",
"disp('Now  K = R_C / R = 10*10^3 / R')\n",
"disp('Therefore,  R*sqrt(6+(40*10*10^3/R)) = 31830.989')\n",
"disp('Therefore,  R^2*(6+(40*10*10^3/R)) = (31830.989)^2')\n",
"R=poly(0,'R')\n",
"p1=6*R^2+(40*10^3)*R-(31830.989)^2\n",
"t1=roots(p1)\n",
"ans1=t1(1)\n",
"format(6)\n",
"disp((-ans1)*10^-3,'Therefore,  R(in k-ohm)=            Neglecting negative value')\n",
"k=10/16.74\n",
"format(7)\n",
"disp(k,'Therefore,  K = R_C / R =')\n",
"disp('Therefore,  h_fe >= 4K + 23 + 29/K')\n",
"hfe=(4*0.5973)+23+(29/0.5973)\n",
"format(6)\n",
"disp(hfe,'  h_fe >=')"
   ]
   }
,
{
		   "cell_type": "markdown",
		   "metadata": {},
		   "source": [
			"## Example 4.21: component_values_of_wien_bridge.sce"
		   ]
		  },
  {
"cell_type": "code",
	   "execution_count": null,
	   "metadata": {
	    "collapsed": true
	   },
	   "outputs": [],
"source": [
"//Example 4.21\n",
"clc\n",
"disp('The frequency is given by,')\n",
"disp('  f = 1 / 2*pi*R*C')\n",
"disp('Let the resistance value to be selected as,')\n",
"disp('  R1 = R2 = R = 50 k-ohm')\n",
"disp('  f = 1 / 2*pi*50*10^3*C')\n",
"f=(1/(2*%pi*(50*10^3)*100))*10^9  // in nF\n",
"format(6)\n",
"disp(f,'  f(in nF) =')\n",
"disp('and  f_max = 1 / 2*pi*50*10^3*C')\n",
"c=(1/(2*%pi*(50*10^3)*(10*10^3)))*10^9  // in pF\n",
"disp(c,'  C(in nF) =')\n",
"disp('Thus to vary the frequency from 100 Hz to 10 kHz, the capacitor range should be selected as 0.318 nF to 31.83 nF')\n",
"disp('Similarly keeping the capacitor value constant, the range of the resistance values can be obtained.')"
   ]
   }
,
{
		   "cell_type": "markdown",
		   "metadata": {},
		   "source": [
			"## Example 4.22: values_of_C2_and_new_frequency_of_oscillation.sce"
		   ]
		  },
  {
"cell_type": "code",
	   "execution_count": null,
	   "metadata": {
	    "collapsed": true
	   },
	   "outputs": [],
"source": [
"//Example 4.22\n",
"clc\n",
"disp('  f = 2.5 MHz,  L = 10 uH,  C1 = 0.02 uF')\n",
"disp('For Colpitts oscillator, the frequency is given by,')\n",
"disp('  f = 1 / 2pi*sqrt(L*C_eq)')\n",
"ceq=(1/(4*(%pi^2)*((2.5*10^6)^2)*(10*10^-6)))*10^12  // in pF\n",
"format(8)\n",
"disp(ceq,'Therefore,  C_eq(in pF) =')\n",
"disp('(i)But    C_eq = C1*C2 / C1+C2')\n",
"c2=((0.02*10^-6)/49.348)*10^9  // in nF\n",
"format(7)\n",
"disp(c2,'Therefore,  C2(in nF) =')  // answer in textbook is wrong\n",
"disp('(ii)    L = 2*10 = 20 uH')\n",
"disp('and  C_eq = 405.284 pF')\n",
"f=(1/(2*%pi*sqrt(20*405.284*10^-18)))*10^-6  // in MHz\n",
"disp(f,'  f(in MHz) = 1 / 2*pi*sqrt(L*C_eq) =')"
   ]
   }
,
{
		   "cell_type": "markdown",
		   "metadata": {},
		   "source": [
			"## Example 4.23: series_and_parallel_resonant_freqency_and_Qfactor.sce"
		   ]
		  },
  {
"cell_type": "code",
	   "execution_count": null,
	   "metadata": {
	    "collapsed": true
	   },
	   "outputs": [],
"source": [
"//Example 4.23.\n",
"clc\n",
"f=(1/(2*%pi*sqrt(0.33*0.065*10^-12)))*10^-6  // in MHz\n",
"format(6)\n",
"disp(f,'(i)  f(in MHz) = 1 / 2*pi*sqrt(L*C) =')\n",
"ceq=0.065/1.065  // in pF\n",
"disp(ceq,'(ii)  C_eq(in pF) = C*C_M / C+C_M =')\n",
"fp=(1/(2*%pi*sqrt(0.33*0.061*10^-12)))*10^-6  // in MHz\n",
"disp(fp,'(i)  f_p(in MHz) = 1 / 2*pi*sqrt(L*C_eq) =')\n",
"pi=((1.121-1.087)/1.087)*100  // in percentage\n",
"disp(pi,'(iii)  % increase =')\n",
"q=(2*%pi*1.087*0.33*10^6)/(5.5*10^3)\n",
"format(8)\n",
"disp(q,'(iv)  Q = omega_x*L / R = 2*pi*f_s*L / R =')"
   ]
   }
,
{
		   "cell_type": "markdown",
		   "metadata": {},
		   "source": [
			"## Example 4.24: change_in_frequency_and_trimmer_capacitance.sce"
		   ]
		  },
  {
"cell_type": "code",
	   "execution_count": null,
	   "metadata": {
	    "collapsed": true
	   },
	   "outputs": [],
"source": [
"//Examle 4.24\n",
"clc\n",
"disp('(i)  Assume one perticular coupling direction for which,')\n",
"disp('  L_eq = L1 + L2 + 2M = 0.25 mH')\n",
"format(8)\n",
"f=(1/(2*%pi*sqrt(0.25*100*10^-15)))*10^-6  // in MHz\n",
"disp(f,'Therefore,  f(in MHz) = 1 / 2*pi*sqrt(L_eq*C) =')\n",
"disp('Let the direction of coupling is reversed,')\n",
"disp('  L_eq = L1 + L2 - 2M = 0.15 mH')\n",
"fd=(1/(2*%pi*sqrt(0.15*100*10^-15)))*10^-6  // in MHz\n",
"format(7)\n",
"disp(fd,'Therefore,  f''(in MHz) = 1 / 2*pi*sqrt(L_eq*C) =')\n",
"pc=((1.2994-1.00658)/1.00658)*100  // in percentage\n",
"format(6)\n",
"disp(pc,'Therefore,  % change = f''-f/f * 100 =')\n",
"disp('(ii)  Let us assume direction of coupling such that,')\n",
"disp('  L_eq = L1 + L2 + 2M = 0.25 mH')\n",
"disp('   C_t = Trim capacitor = 100 pF')\n",
"disp('Therefore,  C_eq = C*C_t / C+C_t = 50 pF')\n",
"f1=(1/(2*%pi*sqrt(0.25*50*10^-15)))*10^-6  // in MHz\n",
"format(7)\n",
"disp(f1,'Therefore,  f = 1 / 2*pi*sqrt(L_eq*C_eq) =')\n",
"disp('If now direction of coupling is reversed,')\n",
"disp('  L_eq = L1 + L2 - 2M = 0.15 mH')\n",
"f2=(1/(2*%pi*sqrt(0.15*50*10^-15)))*10^-6  // in MHz\n",
"format(8)\n",
"disp(f2,'Therefore,  f'' = 1 / 2*pi*sqrt(L_eq*C_eq) =')\n",
"pc1=((1.83776-1.4235)/1.4235)*100\n",
"format(7)\n",
"disp(pc1,'Therefore,  % change = f''-f/f * 100 =')"
   ]
   }
,
{
		   "cell_type": "markdown",
		   "metadata": {},
		   "source": [
			"## Example 4.25: design_RC_phase_shift_oscillator.sce"
		   ]
		  },
  {
"cell_type": "code",
	   "execution_count": null,
	   "metadata": {
	    "collapsed": true
	   },
	   "outputs": [],
"source": [
"//Example 4.25\n",
"clc\n",
"disp('For RC phase shhift oscillator,')\n",
"disp('  h_fe = 4K + 23 + 29/K           ...given h_fe = 150')\n",
"disp('Therefore,  150 = 4K + 23 + 29/K')\n",
"disp('Therefore,  4K^2 - 127K + 29 = 0')\n",
"K=poly(0,'K')\n",
"p1=4*K^2-127*K+29\n",
"t1=roots(p1)\n",
"format(6)\n",
"disp(t1,'Therefore, K =')\n",
"disp('  f = 1 / 2*pi*R*C*sqrt(6+4K)        ...given f = 5 kHz')\n",
"disp('Therefore,Choose    C = 100 pF')\n",
"r=(1/(2*%pi*(1000*10^-12)*(5*10^3)*sqrt(6+(4*0.23))))*10^-3  // in k-ohm\n",
"format(3)\n",
"disp(r,'Therefore,  R(in k-ohm) =')\n",
"disp('  K = R_C / R  i.e.  R_C = KR = 2.7 k-ohm')\n",
"disp('Neglecting effect of biasing resistances assuming them to be large and selecting transistor with h_ie = 2 k-ohm')\n",
"disp('  R''_i = h_ie = 2 k-ohm')\n",
"disp('Therefore,Last resistance in phase network')\n",
"r3=12-2\n",
"disp(r3,'  R3 = R - R''_i =')\n",
"disp('Using the back to back connected zener diodes of 9.3 V (Vz) each at the output of emitter follower and using this at the output of the oscillator, the output amplitude can be controlled to 10 V i.e. 20 V peak to peak. The zener diode 9.3V and forward biased diode of 0.7 V gives total 10 V')\n",
"disp('The designed circuit is shown in fig.4.49')"
   ]
   }
,
{
		   "cell_type": "markdown",
		   "metadata": {},
		   "source": [
			"## Example 4.26: range_of_capacitor.sce"
		   ]
		  },
  {
"cell_type": "code",
	   "execution_count": null,
	   "metadata": {
	    "collapsed": true
	   },
	   "outputs": [],
"source": [
"//Example 4.26\n",
"clc\n",
"disp('  L1 = 20 uH,  L2 = 2 mH')\n",
"leq=((20*10^-6)+(2*10^-3))*10^3  // in mH\n",
"format(7)\n",
"disp(leq,'Therefore,  L_eq(in mH) = L1 + L2 =')\n",
"disp('  For f = f_max = 2.5 MHz')\n",
"disp('  f = 1 / 2*pi*sqrt(C*L_eq)')\n",
"c=(1/(4*(%pi^2)*((2.5*10^6)^2)*(2.002*10^-3)))*10^12  // in pF\n",
"format(7)\n",
"disp(c,'Therefore,  C(in pF) =')\n",
"disp('  For f = f_min = 1 MHz')\n",
"disp('  f = 1 / 2*pi*sqrt(C*L_eq)')\n",
"c1=(1/(4*(%pi^2)*((1*10^6)^2)*(2.002*10^-3)))*10^12  // in pF\n",
"format(8)\n",
"disp(c1,'Therefore,  C(in pF) =')\n",
"disp('Thus C must be varied from 2.0244 pF to 12.6525 pF')"
   ]
   }
,
{
		   "cell_type": "markdown",
		   "metadata": {},
		   "source": [
			"## Example 4.27: change_in_frequency_of_oscillation.sce"
		   ]
		  },
  {
"cell_type": "code",
	   "execution_count": null,
	   "metadata": {
	    "collapsed": true
	   },
	   "outputs": [],
"source": [
"//Example 4.27\n",
"clc\n",
"ceq=((0.02*12*10^-24)/(12.02*10^-12))*10^12  // in pF\n",
"format(8)\n",
"disp(ceq,'  C_eq(in pF) = C1*C2 / C1+C2 =')\n",
"fs=(1/(2*%pi*sqrt(50*0.02*10^-15)))*10^-6  // in MHz\n",
"format(7)\n",
"disp(fs,'Therefore,  f_s(in MHz) = 1 / 2*pi*sqrt(L*C1) =')\n",
"fp=(1/(2*%pi*sqrt(50*0.01996*10^-15)))*10^-6  // in MHz\n",
"format(7)\n",
"disp(fp,'Therefore,  f_p(in MHz) = 1 / 2*pi*sqrt(L*C_eq) =')\n",
"disp('Let C_s = 5 pF connected across the crystal')\n",
"c2=12+5\n",
"disp(c2,'Therefore,  C''2(in pF) = C2 + C_x =')\n",
"format(10)\n",
"ceq1=0.019976\n",
"disp(ceq1,'Therefore,  C''_eq(in pF) = C1*C''2 / C1+C''2 =')\n",
"fp1=5.03588\n",
"disp(fp1,'Therefore,  f''_p(in MHz) = 1 / 2*pi*sqrt(L*C_eq) =')\n",
"disp('New C_x = 6 pF is connected then,')\n",
"c21=12+6\n",
"disp(c21,'  C''''2(in pF) = C2 + C_x =')\n",
"ceq2=0.0199778\n",
"disp(ceq2,'Therefore,  C''''_eq(in pF) = C1*C''''2 / C1+C''''2 =')\n",
"fp2=5.035716\n",
"disp(fp2,'Therefore,  f''''_p(in MHz) = 1 / 2*pi*sqrt(L*C''''_eq) =')\n",
"c=(5.03588-5.035716)*10^6\n",
"disp(c,'Therefore,  Change(in Hz) = f''_p - f''''_p =')"
   ]
   }
,
{
		   "cell_type": "markdown",
		   "metadata": {},
		   "source": [
			"## Example 4.2: frequency_of_oscillation.sce"
		   ]
		  },
  {
"cell_type": "code",
	   "execution_count": null,
	   "metadata": {
	    "collapsed": true
	   },
	   "outputs": [],
"source": [
"//Example 4.2\n",
"clc\n",
"disp('The given values are, R = 4.7 k-ohm and C = 0.47 uF')\n",
"f=1/(2*%pi*sqrt(6)*(4.7*10^3)*(0.47*10^-6))  // in Hz\n",
"format(7)\n",
"disp(f,'  f(in Hz) = 1 / 2*pi*sqrt(6)*R*C =')"
   ]
   }
,
{
		   "cell_type": "markdown",
		   "metadata": {},
		   "source": [
			"## Example 4.3: R_and_C.sce"
		   ]
		  },
  {
"cell_type": "code",
	   "execution_count": null,
	   "metadata": {
	    "collapsed": true
	   },
	   "outputs": [],
"source": [
"//Example 4.3\n",
"clc\n",
"disp('f = 1 kHz')\n",
"disp('Now  f = 1 / 2*pi*sqrt(6)*R*C')\n",
"disp('Choose  C = 0.1 uF')\n",
"r=1/(sqrt(6)*2*%pi*0.1*1*10^-3)  // in ohm\n",
"format(8)\n",
"disp(r,'Therefore,  R(in ohm) = ')\n",
"disp('Choose  R = 680 ohm    standard value')"
   ]
   }
,
{
		   "cell_type": "markdown",
		   "metadata": {},
		   "source": [
			"## Example 4.4: C_and_RD.sce"
		   ]
		  },
  {
"cell_type": "code",
	   "execution_count": null,
	   "metadata": {
	    "collapsed": true
	   },
	   "outputs": [],
"source": [
"//Example 4.4\n",
"clc\n",
"disp('Using the expression for the frequency')\n",
"disp('Now,  f = 1 / 2*pi*R*C*sqrt(6)')\n",
"f=(1/(sqrt(6)*2*%pi*9.7*5*10^6))*10^9  // in nF\n",
"format(5)\n",
"disp(f,'Therefore,  C(in nF) =')\n",
"disp('Now using the equation(27)')\n",
"disp('  |A| = g_m * R_L')\n",
"disp('Therefore,  |A| >= 29')\n",
"disp('Therefore,  g_m * R_L >= 29')\n",
"rl=(29/(5000*10^-6))*10^-3  // in k-ohm\n",
"format(4)\n",
"disp(rl,'Therefore,  R_L(in k-ohm) >= 29 / g_m =')\n",
"disp('  R_L = R_D*r_d / R_D+r_d')\n",
"rd=(40)/4.8823\n",
"format(5)\n",
"disp(rd,'  Therefore,  R_D(in k-ohm) = ')\n",
"disp('While for minimum value of R_L = 5.8 k-ohm')\n",
"disp('                           R_D = 6.78 k-ohm')"
   ]
   }
,
{
		   "cell_type": "markdown",
		   "metadata": {},
		   "source": [
			"## Example 4.5: minimum_and_maximum_R2.sce"
		   ]
		  },
  {
"cell_type": "code",
	   "execution_count": null,
	   "metadata": {
	    "collapsed": true
	   },
	   "outputs": [],
"source": [
"//Example 4.5\n",
"clc\n",
"disp('The frequency of the oscillator is given by,')\n",
"disp('  f = 1 / 2*pi*sqrt(R1*R2*C1*C2)')\n",
"disp('For    f = 10 kHz,')\n",
"r2=(1/(4*(%pi^2)*(100*10^6)*(10*10^3)*(0.001*10^-12)))  // in k-ohm\n",
"format(6)\n",
"disp(r2,'Therefore,  R2(in k-ohm) =')\n",
"disp('For    f = 50 kHz,')\n",
"r2=(1/(4*(%pi^2)*(2500*10^6)*(10*10^3)*(0.001*10^-12)))  // in k-ohm\n",
"format(6)\n",
"disp(r2,'Therefore,  R2(in k-ohm) =')\n",
"disp('So minimum value of R2 is 1.013 k-ohm while the maximum value of R2 is 25.33 k-ohm')"
   ]
   }
,
{
		   "cell_type": "markdown",
		   "metadata": {},
		   "source": [
			"## Example 4.6: range_over_capacitor_is_varied.sce"
		   ]
		  },
  {
"cell_type": "code",
	   "execution_count": null,
	   "metadata": {
	    "collapsed": true
	   },
	   "outputs": [],
"source": [
"//Example 4.6\n",
"clc\n",
"disp('The frequency is given by,')\n",
"disp('  f = 1 / 2*pi*sqrt(C*L_eq)')\n",
"leq=(2*10^-3)+(20*10^-6)\n",
"format(8)\n",
"disp(leq,'where  L_eq = L1 + L2 =')\n",
"disp('For  f = f_max = 2050 kHz')\n",
"format(5)\n",
"c=(1/(4*(%pi^2)*((2050*10^3)^2)*0.00202))*10^12  // in pF\n",
"disp(c,'Therefore,  C(in pF) =')\n",
"disp('For  f = f_min = 950 kHz')\n",
"c=(1/(4*(%pi^2)*((950*10^3)^2)*0.00202))*10^12  // in pF\n",
"format(6)\n",
"disp(c,'Therefore,  C(in pF) =')\n",
"disp('Hence C must be varied from 2.98 pF to 13.89 pF, to get the required frequency variation.')"
   ]
   }
,
{
		   "cell_type": "markdown",
		   "metadata": {},
		   "source": [
			"## Example 4.7: frequency_of_oscillation.sce"
		   ]
		  },
  {
"cell_type": "code",
	   "execution_count": null,
	   "metadata": {
	    "collapsed": true
	   },
	   "outputs": [],
"source": [
"//Example 4.7\n",
"clc\n",
"disp('The given values are,')\n",
"disp('  L1 = 0.5 mH,  L2 = 1 mH,  C = 0.2 uF')\n",
"disp('Now  f = 1 / 2*pi*sqrt(C*L_eq)')\n",
"leq=0.5+1  // in mH\n",
"disp(leq,'and  L_eq(in mH) = L1 + L2 =')\n",
"f=(1/(2*%pi*sqrt(1.5*0.2*10^-9)))*10^-3  // in kHz\n",
"format(5)\n",
"disp(f,'Therefore,  f(in kHz) =')"
   ]
   }
,
{
		   "cell_type": "markdown",
		   "metadata": {},
		   "source": [
			"## Example 4.8: frequency_of_oscillation.sce"
		   ]
		  },
  {
"cell_type": "code",
	   "execution_count": null,
	   "metadata": {
	    "collapsed": true
	   },
	   "outputs": [],
"source": [
"//Example 4.8\n",
"clc\n",
"disp('The equivalent capacitance is given by,')\n",
"ceq=(150*1.5*10^-21)/((150*10^-12)+(1.5*10^-9))  // in F\n",
"format(12)\n",
"disp(ceq,'  C_eq(in F) = C1*C2 / C1+C2 =')\n",
"disp('Now,  f = 1 / 2*pi*sqrt(L*C_eq)')\n",
"f=(1/(2*%pi*sqrt(50*136.363*10^-18)))*10^-6  // in MHz\n",
"format(6)\n",
"disp(f,'  f(in MHz) =')"
   ]
   }
,
{
		   "cell_type": "markdown",
		   "metadata": {},
		   "source": [
			"## Example 4.9: calculate_C.sce"
		   ]
		  },
  {
"cell_type": "code",
	   "execution_count": null,
	   "metadata": {
	    "collapsed": true
	   },
	   "outputs": [],
"source": [
"//Example 4.9\n",
"clc\n",
"disp('The given values are,')\n",
"disp('   L = 100 uH,   C1 = C2 = C   and   f = 500 kHz')\n",
"disp('Now,    f = 1 / 2*pi*sqrt(L*C_eq)')\n",
"ceq=1/(4*(%pi^2)*(100*10^-6)*((500*10^3)^2))  // in F\n",
"format(11)\n",
"disp(ceq,'Therefore, C_eq(in F) =')\n",
"disp('but    C_eq = C1*C2 / C1+C2    and C1 = C2 = C')\n",
"disp('Therefore,  C_eq = C / 2')\n",
"c=1.0132*2\n",
"format(6)\n",
"disp(c,'Therefore,  C(in nF) =')"
   ]
   }
],
"metadata": {
		  "kernelspec": {
		   "display_name": "Scilab",
		   "language": "scilab",
		   "name": "scilab"
		  },
		  "language_info": {
		   "file_extension": ".sce",
		   "help_links": [
			{
			 "text": "MetaKernel Magics",
			 "url": "https://github.com/calysto/metakernel/blob/master/metakernel/magics/README.md"
			}
		   ],
		   "mimetype": "text/x-octave",
		   "name": "scilab",
		   "version": "0.7.1"
		  }
		 },
		 "nbformat": 4,
		 "nbformat_minor": 0
}
