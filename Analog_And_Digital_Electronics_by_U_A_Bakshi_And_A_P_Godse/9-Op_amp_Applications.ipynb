{
"cells": [
 {
		   "cell_type": "markdown",
	   "metadata": {},
	   "source": [
       "# Chapter 9: Op amp Applications"
	   ]
	},
{
		   "cell_type": "markdown",
		   "metadata": {},
		   "source": [
			"## Example 9.10: calculate_trip_point_and_hysteresis.sce"
		   ]
		  },
  {
"cell_type": "code",
	   "execution_count": null,
	   "metadata": {
	    "collapsed": true
	   },
	   "outputs": [],
"source": [
"//Example 9.10\n",
"clc\n",
"disp('From fig 9.45,  R1 = 68 k-ohm,  R2 = 1.5 k-ohm  and  V_sat = 13.5 V')\n",
"vut=(1.5/(1.5+68))*13.5\n",
"format(7)\n",
"disp(vut,'V_UT(in V) = R2/R1+R2 * V_sat =')\n",
"vlt=(-1.5/(1.5+68))*13.5\n",
"disp(vlt,'V_LT(in V) = -R2/R1+R2 * V_sat =')\n",
"h=2*0.2913\n",
"disp(h,'Therefore,  H(in V) = V_UT - V_LT =')\n",
"disp('Now    H = (2*R2 / R1+R2) * V_sat')\n",
"disp('For minimum H, R2 must be minimum and R1 must be maximum')\n",
"r2min=((1.5)-(0.05*1.5))\n",
"format(6)\n",
"disp(r2min,'Therefore,  R2_min(in k-ohm) = R2 - 5%*R2 =')\n",
"r2max=((68)+(0.05*68))\n",
"disp(r2max,'Therefore,  R1_max(in k-ohm) = R1 + 5%*R1 =')\n",
"hm=((2*1.425)/(71.4+1.425))*13.5\n",
"disp(hm,'Therefore,  H_min(in V) =')"
   ]
   }
,
{
		   "cell_type": "markdown",
		   "metadata": {},
		   "source": [
			"## Example 9.11: design_schmitt_trigger.sce"
		   ]
		  },
  {
"cell_type": "code",
	   "execution_count": null,
	   "metadata": {
	    "collapsed": true
	   },
	   "outputs": [],
"source": [
"//Example 9.11\n",
"clc\n",
"disp('Choose op-amp LM318 with V_sat as +- 13.5 V with supply voltage +- 15 V')\n",
"disp('  V_UT = + 5 V')\n",
"disp('Now  V_UT = (R2 / R1+R2)*V_sat')\n",
"disp('Therefore,  5 = (R2 / R1+R2)*13.5')\n",
"disp('Therefore,  R1 + R2 = 2.7*R2')\n",
"disp('Therefore,  R1 = 1.7*R2')\n",
"disp('Choose  R2 = 10 k-ohm')\n",
"r1=1.7*10\n",
"disp(r1,'Therefore,  R1(in k-ohm) =')\n",
"disp('The designed circuit is shown in fig.9.46')"
   ]
   }
,
{
		   "cell_type": "markdown",
		   "metadata": {},
		   "source": [
			"## Example 9.12: design_op_amp_schmitt_trigger.sce"
		   ]
		  },
  {
"cell_type": "code",
	   "execution_count": null,
	   "metadata": {
	    "collapsed": true
	   },
	   "outputs": [],
"source": [
"//Example 9.12\n",
"clc\n",
"disp('For the Schmitt trigger')\n",
"disp('V_UT = 2 V,    V_LT = -4 V,    +-V_sat = +-10 V')\n",
"disp('For unequal UTP and LTP values, a modified circuit is required as shown in the fig.9.52.')\n",
"disp('The voltage V1 decides the UTP and LTP levels. Applying KVL to the output circuit and neglecting op-amp input current we can write,')\n",
"disp('-IR2 - IR1 - x + V0 = 0')\n",
"disp('Therefore,  I = V0-x / R1+R2')\n",
"disp('And  V1 = IR1 + x')\n",
"disp('Therefore,  V1 = (V0-x/R1+R2)*R1 + x')\n",
"disp('For    +V_sat = 10 V,')\n",
"disp('V1 = V_UT = 2 V,')\n",
"disp('V0 = 10 V')\n",
"disp('Therefore,  2 = (10-x/R1+R2)*R1 + x      (1)')\n",
"disp('For -V_sat = -10 V,')\n",
"disp('V1 = V_LT = -4 V,')\n",
"disp('V0 = -10 V')\n",
"disp('Therefore,  -4 = (-10-x/R1+R2)*R1 + x     (2)')\n",
"disp('Subtracting equations (2) and (1),')\n",
"disp('Therefore,  6 = 20*R1 / R1+R2')\n",
"disp('Therefore,  R1+R2 = 3.333*R1')\n",
"disp('Therefore,  R2 = 2.333*R1      (3)')\n",
"disp('Substituting (3) in equation (1)')\n",
"disp('2 = ((10-x)*R1 / 3.333*R1) + x')\n",
"disp('Therefore,  2.333*x = -3.3334')\n",
"x=-3.3334/2.333\n",
"format(7)\n",
"disp(x,'Therefore,  x =')\n",
"disp('So actually polarity of the voltage source ''x'' must be opposite to what is assumed earlier as shown in fig.9.52.')\n",
"disp('Choose    R1 = 1 k-ohm    hence  R2 = 2.333 k-ohm')\n",
"disp('Therefore,  R_comp = R1 || R2 = 0.7 k-ohm')\n",
"disp('Now as long as V_in is less than V_UT, the output is at +V_sat = 10 V and when V_in > V_UT, the output switches from +V_sat to -V_sat. While as long as V_in > V_LT, the output is at -V_sat = -10 V and when V_in < V_LT, the output switches from -V_sat to +V_sat.')"
   ]
   }
,
{
		   "cell_type": "markdown",
		   "metadata": {},
		   "source": [
			"## Example 9.13: VUT_and_VLT_and_frequency_of_oscillation.sce"
		   ]
		  },
  {
"cell_type": "code",
	   "execution_count": null,
	   "metadata": {
	    "collapsed": true
	   },
	   "outputs": [],
"source": [
"//Example 9.13\n",
"clc\n",
"disp('(a) We know that,')\n",
"vut=(86*15)/(86+100)\n",
"format(5)\n",
"disp(vut,'  V_UT(in V) = R1*+V_sat / R1+R2 =')\n",
"vlt=(86*-15)/(86+100)\n",
"disp('(b) We know that,')\n",
"disp(vlt,'  V_LT(in V) = R1*-V_sat / R1+R2 =')\n",
"disp('(c) We know that,')\n",
"f0=1/0.02\n",
"disp(f0,' f0(in Hz) = 1 / 2*Rf*C_in*[+V_sat-V_LT/+V_sat-V_UT] =')"
   ]
   }
,
{
		   "cell_type": "markdown",
		   "metadata": {},
		   "source": [
			"## Example 9.17: design_op_amp_circuit.sce"
		   ]
		  },
  {
"cell_type": "code",
	   "execution_count": null,
	   "metadata": {
	    "collapsed": true
	   },
	   "outputs": [],
"source": [
"//Example 9.17\n",
"clc\n",
"disp('The monostable multivibrator using op-amp produces the pulse waveform. The pulse width is given by,')\n",
"disp('  T = RC*ln[1+V_D1/V_sat / 1-beta]')\n",
"disp('where  V_D1 = 0.7 V,  +v_sat = +-12 V for op-amp 741')\n",
"disp('beta = R2 / R1+R2 = 0.5  with R1 = R2')\n",
"t=1/(2*10^3)\n",
"format(6)\n",
"disp(t,'T(in sec) = 1/f')\n",
"disp('Choose  C = 0.1 uF')\n",
"disp('Therefore,  5*10^-4 = R*0.1*10^-6*ln[1+(0.7/12)/1-0.5]')\n",
"disp('Therefore,  R = 6.7 k-ohm')\n",
"disp('Choose  R1 = R2 = 10 k-ohm')\n",
"disp('The designed circuit is shown in fig.9.63')"
   ]
   }
,
{
		   "cell_type": "markdown",
		   "metadata": {},
		   "source": [
			"## Example 9.18: design_monostable_using_IC_555.sce"
		   ]
		  },
  {
"cell_type": "code",
	   "execution_count": null,
	   "metadata": {
	    "collapsed": true
	   },
	   "outputs": [],
"source": [
"//Example 9.18\n",
"clc\n",
"disp('The required pulse width is,')\n",
"disp('  W = 10 ms')\n",
"disp('The pulse width is given by,')\n",
"disp('  W = 1.1*R*C')\n",
"disp('Therefore,  10*10^-3 = 1.1*R*C')\n",
"disp('Therefore,  RC = 9.0909*10^-3')\n",
"disp('Choose  C = 0.1 uF')\n",
"disp('Therefore,  R = 90.909 k-ohm ~ 91 k-ohm')\n",
"disp('The designed circuit is shown in fig.9.78')"
   ]
   }
,
{
		   "cell_type": "markdown",
		   "metadata": {},
		   "source": [
			"## Example 9.19: design_a_timer.sce"
		   ]
		  },
  {
"cell_type": "code",
	   "execution_count": null,
	   "metadata": {
	    "collapsed": true
	   },
	   "outputs": [],
"source": [
"//Example 9.19\n",
"clc\n",
"disp('Fig. 9.79 shows monostable circuit used to drive the relay.')\n",
"disp('This relay should be energized for 5 second to hold heater ''ON'' for 5 seconds. Thus, T_ON for monostable is 5 seconds.')\n",
"disp('We know that the pulse width is given by,')\n",
"disp('            W = 1.1 RC')\n",
"disp('Therefore,  5 = 1.1 RC')\n",
"disp('Now, there are two unknowns. In this case, we have to select value for capacitor and with the selected value we have to find the value of resistance from the formula.')\n",
"disp('Therefore,  If capacitor value is 10 uF')\n",
"disp('then    5 = 1.1*R*10 uF')\n",
"r=(5/(1.1*10*10^-6))*10^-3\n",
"format(7)\n",
"disp(r,'Therefore,  R(in k-ohm) =')\n",
"disp('The calculated value is not standard value, but we can adjust this value by connecting variable resistance i.e. potentiometer.')"
   ]
   }
,
{
		   "cell_type": "markdown",
		   "metadata": {},
		   "source": [
			"## Example 9.1: output_voltage.sce"
		   ]
		  },
  {
"cell_type": "code",
	   "execution_count": null,
	   "metadata": {
	    "collapsed": true
	   },
	   "outputs": [],
"source": [
"//Example 9.1\n",
"clc\n",
"disp('The differential amplifier is represented as shown in fig. 9.5.')\n",
"disp('(i)  CMRR = 100')\n",
"vd=300-240\n",
"disp(vd,'    Vd(in uV) = V1 - V2 = ')\n",
"vc=(300+240)/2\n",
"disp(vc,'    Vc(in uV) = V1+V2 / 2 =')\n",
"disp('CMRR = Ad / Ac')\n",
"ac=5000/100\n",
"disp(ac,'Therefore, Ac =')\n",
"format(6)\n",
"vo=((5000*60)+(50*270))*10^-3\n",
"disp(vo,'Therefore, Vo(in mV) = Ad*Vd + Ac*Vc =')\n",
"disp('(ii)  CMRR = 10^5')\n",
"ac=5000/(10^5)\n",
"disp(ac,'Therefore, Ac = Ad / CMRR =')\n",
"vo=((5000*60)+(0.05*270))*10^-3\n",
"format(9)\n",
"disp(vo,'Therefore, Vo(in mV) = Ad*Vd + Ac*Vc =')\n",
"disp('Ideally Ac must be zero and output should be only Ad*Vd which is 5000*60*10^-6 i.e. 300 mV. It can be seen that higher the value of CMRR, the output is almost proportional to the difference voltage Vd, rejecting the common mode signal. So ideal value of CMRR for a differential amplifier is infinity.')"
   ]
   }
,
{
		   "cell_type": "markdown",
		   "metadata": {},
		   "source": [
			"## Example 9.20: draw_timer_using_IC_555.sce"
		   ]
		  },
  {
"cell_type": "code",
	   "execution_count": null,
	   "metadata": {
	    "collapsed": true
	   },
	   "outputs": [],
"source": [
"//Example 9.20\n",
"clc\n",
"disp('The requirement is that the door must be open for 15 sec after receiving a trigger signal and then gets shut door automatically. This requires IC 555 in a monostable mode with a pulse width of 15 sec.')\n",
"disp('Therefore,  W = 15 sec')\n",
"disp('Now         W = 1.1 RC')\n",
"disp('Therefore, 15 = 1.1 RC')\n",
"disp('Choose      C = 100 uF')\n",
"r=(15/(1.1*100*10^-6))*10^-3\n",
"format(8)\n",
"disp(r,'Therefore,  R(in k-ohm) =')\n",
"disp('The designed circuit is shown in the fig. 9.80')\n",
"disp('The supply voltage 10 or 15 V has no effect on the operation of the circuit or the values of R and C selected.')"
   ]
   }
,
{
		   "cell_type": "markdown",
		   "metadata": {},
		   "source": [
			"## Example 9.21: frequency_of_output_and_duty_cycle.sce"
		   ]
		  },
  {
"cell_type": "code",
	   "execution_count": null,
	   "metadata": {
	    "collapsed": true
	   },
	   "outputs": [],
"source": [
"///Example 9.21\n",
"clc\n",
"disp('The frequency of output is given by,')\n",
"f=(1.44/(12*0.01*10^-3))*10^-3\n",
"format(3)\n",
"disp(f,'  f(in kHz) = 1.44 / (R_A+2*R_B)*C =')\n",
"disp('The duty cycle is given by,')\n",
"d=8/12\n",
"format(7)\n",
"disp(d,'  D = R_A+R_B / R_A+2*R_B =')\n",
"disp('Thus the duty cycle 66.67%')"
   ]
   }
,
{
		   "cell_type": "markdown",
		   "metadata": {},
		   "source": [
			"## Example 9.26: design_astable_multivibrator.sce"
		   ]
		  },
  {
"cell_type": "code",
	   "execution_count": null,
	   "metadata": {
	    "collapsed": true
	   },
	   "outputs": [],
"source": [
"//Example 9.26\n",
"clc\n",
"disp('f = 1 kHz')\n",
"disp('D = 75% = 0.75')\n",
"disp('Now  f = 1.44 / (R_A+2*R_B)*C')\n",
"disp('Therefore,  1*10^3 = 1.44 / (R_A+2*R_B)*C')\n",
"disp('Therefore,  (R_A+2*R_B)*C = 1.44*10^-3      ....(1)')\n",
"disp('Therefore, while  %D = ((R_A+R_B)/(R_A+2*R_B))*100')\n",
"disp('Therefore,  0.75 = R_A+R_B / R_A+2*R_B')\n",
"disp('Therefore,  R_A+2*R_B = (R_A+R_B)/0.75')\n",
"disp('Therefore,  R_A+2*R_B = 1.33*(R_A+R_B)')\n",
"disp('Therefore,  0.66*R_B = 0.33*R_A')\n",
"disp('Therefore,  R_B = 0.5*R_A                   ....(2)')\n",
"disp('Choose  C = 0.1 uF')\n",
"disp('Substituting in (1),')\n",
"disp('(R_A+2*R_B)*0.1*10^-6 = 1.44*10^-3')\n",
"disp('Therefore,  R_A+2*R_B = 14400               ....(3)')\n",
"disp('Substituting (2) in (3),')\n",
"disp('R_A + 2(0.5*R_A) = 14400')\n",
"ra=(14400/2)*10^-3\n",
"format(4)\n",
"disp(ra,'Therefore,  R_A(in k-ohm) =')\n",
"rb=0.5*7.2\n",
"disp(rb,'Therefore,  R_B(in k-ohm) =')\n",
"disp('and  C = 0.1 uF')\n",
"disp('Hence the circuit diagram is as shown in fig.9.100')"
   ]
   }
,
{
		   "cell_type": "markdown",
		   "metadata": {},
		   "source": [
			"## Example 9.27: design_astable_multivibrator.sce"
		   ]
		  },
  {
"cell_type": "code",
	   "execution_count": null,
	   "metadata": {
	    "collapsed": true
	   },
	   "outputs": [],
"source": [
"//Example 9.27\n",
"clc\n",
"disp('T_ON = 0.6 ms,  T = 1 ms')\n",
"d=0.6*100\n",
"disp(d,'Therefore,  D(in percentage) = t_ON / T =')\n",
"disp('Now  D = R_A+R_B / R_A+2*R_B = 0.6')\n",
"disp('Therefore,  R_A+R_B = 0.6*R_A + 1.2*R_B')\n",
"disp('Therefore,  0.4*R_B = 0.2*R_B')\n",
"disp('Therefore,  R_B = 2*R_A      ....(1)')\n",
"disp('        f = 1.44 / (R_A+2*R_B)*C = 1/T = 1000')\n",
"disp('Choose  C = 0.1 uF')\n",
"disp('Therefore,  R_A+2*R_B = 14400')\n",
"disp('Using (1),    5*R_A = 14400')\n",
"ra=(14400/5)*10^-3\n",
"format(5)\n",
"disp(ra,'Therefore,    R_A(in k-ohm) =')\n",
"rb=2.88*2\n",
"disp(rb,'  R_B(in k-ohm) =')\n",
"disp('The circuit is shown in the fig.9.101')"
   ]
   }
,
{
		   "cell_type": "markdown",
		   "metadata": {},
		   "source": [
			"## Example 9.28: design_astable_mode_to_generate_square_wave.sce"
		   ]
		  },
  {
"cell_type": "code",
	   "execution_count": null,
	   "metadata": {
	    "collapsed": true
	   },
	   "outputs": [],
"source": [
"//Example 9.28\n",
"clc\n",
"disp('T_ON = T_OFF = 0.5 ms')\n",
"disp('Therefore,  T = T_ON + T_OFF = 1 ms')\n",
"disp('i.e.    f = 1/T = 1 kHz')\n",
"disp('Now  T_d = T_OFF = 0.69*R_B*C')\n",
"disp('Choose    C = 0.1 uF')\n",
"rb=((0.5*10^-3)/(0.69*0.1*10^-6))*10^-3\n",
"format(6)\n",
"disp(rb,'Therefore,  R_B(in k-ohm) =')\n",
"disp('Now duty cycle is 50% so  R_A = R_B = 7.246 k-ohm')\n",
"disp('Practically a modified circuit is required for 50% duty cycle where diode is connected across R_B and charging takes place through R_A and diode. And R_B must be equal to sum of R_A and diode forward resistance. So to have perfect square wave, R_A is kept variable i.e. pot of say 10 k-ohm in this case. It is then adjusted to obtain precise square wave. The resistance required in series with LED to be connected is,')\n",
"disp('R = V_0-V_LED / I_LED')\n",
"disp('Assuming  V_LED = 0.7 V')\n",
"r=(5-0.7)/(50*10^-3)\n",
"format(3)\n",
"disp(r,'Current limiting  R(ohm) = ')\n",
"disp('The voltage of R is')\n",
"disp('P = (50*10^-3)^2 * 100')\n",
"p = ((50*10^-3)^2)*100\n",
"disp(p,'P(in W) =')\n",
"disp('Both resistors R can be of 1/4 W')\n",
"disp('The required circuit is shown in the fig.9.102')"
   ]
   }
,
{
		   "cell_type": "markdown",
		   "metadata": {},
		   "source": [
			"## Example 9.32: define_resolution.sce"
		   ]
		  },
  {
"cell_type": "code",
	   "execution_count": null,
	   "metadata": {
	    "collapsed": true
	   },
	   "outputs": [],
"source": [
"//Example 9.32\n",
"clc\n",
"disp('For the given DAC,')\n",
"disp('  n = Number of bits = 8')\n",
"disp('(i) Resolution = 2^n = 2^8 = 256')\n",
"disp('i.e. the output voltage can have 256 different values including zero.')\n",
"disp('(ii)  V_0FS = Full scale output voltage')\n",
"disp('            = 2.55 V')\n",
"disp('Therefore,  Resolution = V_0FS / 2^n - 1 = 2.55 / 2^8 - 1 = 10mV / 1LSB')\n",
"disp('Thus an input change of 1LSB causes the output to change by 10mV')"
   ]
   }
,
{
		   "cell_type": "markdown",
		   "metadata": {},
		   "source": [
			"## Example 9.33: output_voltage.sce"
		   ]
		  },
  {
"cell_type": "code",
	   "execution_count": null,
	   "metadata": {
	    "collapsed": true
	   },
	   "outputs": [],
"source": [
"//Example 9.33\n",
"clc\n",
"disp('For given DAC,')\n",
"disp(' n = 4')\n",
"disp('Therefore,  V_0FS = 15 V')\n",
"disp('Therefore,  Resolution = V_0FS / 2^n - 1 = 1V / LSB')\n",
"disp('Therefore,  V0 = Resolution * D')\n",
"disp('Now  D = Decimal of 0110 = 6')\n",
"disp('Therefore,  V0 = 1V / LSB * 6 = 6 V')"
   ]
   }
,
{
		   "cell_type": "markdown",
		   "metadata": {},
		   "source": [
			"## Example 9.34: find_VoFS.sce"
		   ]
		  },
  {
"cell_type": "code",
	   "execution_count": null,
	   "metadata": {
	    "collapsed": true
	   },
	   "outputs": [],
"source": [
"//Example 9.34\n",
"clc\n",
"disp('Resolution = V_0FS / 2^n - 1')\n",
"disp('Therefore,  20 = V_0FS / 2^n - 1')\n",
"disp('Therefore,  V_0FS = 5.1 V')\n",
"disp('  D = Equivalent of 10000000 = 128')\n",
"disp('Therefore,  V0 = Resolution * D = 20 * 128 = 2.56 V')"
   ]
   }
,
{
		   "cell_type": "markdown",
		   "metadata": {},
		   "source": [
			"## Example 9.35: find_out_stepsize_and_analog_output.sce"
		   ]
		  },
  {
"cell_type": "code",
	   "execution_count": null,
	   "metadata": {
	    "collapsed": true
	   },
	   "outputs": [],
"source": [
"//Example 9.35\n",
"clc\n",
"disp('For given DAC,  n = 4,  V_0FS = +5 V')\n",
"disp('Resolution = V_0FS / 2^n - 1 = 1/3 V/LSB')\n",
"disp('Therefore,  V0 = Resolution * D')\n",
"disp('For  D = Decimal od 10000 = 8')\n",
"disp('  V0 = 1/3 * 8 = 2.6667 V')\n",
"disp('For  D = Decimal of 1111 = 15')\n",
"disp('  V0 = 1/3 * 15 = 5 V')"
   ]
   }
,
{
		   "cell_type": "markdown",
		   "metadata": {},
		   "source": [
			"## Example 9.36: find_output_voltage.sce"
		   ]
		  },
  {
"cell_type": "code",
	   "execution_count": null,
	   "metadata": {
	    "collapsed": true
	   },
	   "outputs": [],
"source": [
"//Example 9.36\n",
"clc\n",
"disp('For 12-bit DAC, step size is 8 mV')\n",
"v=(8*10^-3)*((2^12)-1)\n",
"format(6)\n",
"disp(v,'  V_0FS = 8 mV * 2^12 - 1 =')\n",
"r=((8*10^-3)/32.76)*100\n",
"format(8)\n",
"disp(r,'% Resolution = 8mV/32.76V * 100 =')\n",
"q=(8*10^-3)*1389\n",
"format(7)\n",
"disp(q,'The output voltage for the input 010101101101 is = 8mV * 1389 =')"
   ]
   }
,
{
		   "cell_type": "markdown",
		   "metadata": {},
		   "source": [
			"## Example 9.38: find_resolution_and_digital_output.sce"
		   ]
		  },
  {
"cell_type": "code",
	   "execution_count": null,
	   "metadata": {
	    "collapsed": true
	   },
	   "outputs": [],
"source": [
"//Example 9.38.\n",
"clc\n",
"disp('(a) From equation(1) we have,')\n",
"r=2^8\n",
"format(4)\n",
"disp(r,'Resolution = 2^8 =')\n",
"disp('and from equation(2) we have,')\n",
"disp('Resolution = 5.1V/(2^8 - 1) = 20 mV/LSB')\n",
"disp('Therefore, we can say that to change output by 1 LSB we have to change input by 20 mV')\n",
"disp('(b) For 1.28 V analog input, digital output can be calculated as,')\n",
"d=1.28/(20*10^-3)\n",
"format(3)\n",
"disp(d,'D (in LSBs) = 1.28V / 20 mV/LSB =')\n",
"disp('The binary equivalent of 64 is 0100 0000')"
   ]
   }
,
{
		   "cell_type": "markdown",
		   "metadata": {},
		   "source": [
			"## Example 9.39: calculate_quantizing_error.sce"
		   ]
		  },
  {
"cell_type": "code",
	   "execution_count": null,
	   "metadata": {
	    "collapsed": true
	   },
	   "outputs": [],
"source": [
"//Example 9.39\n",
"clc\n",
"disp('From equation(3) we get')\n",
"qe=(4.095/(4095*2))*10^3\n",
"format(4)\n",
"disp(qe,'Q_E(in mV) = 4.095 / (4096-1)*2 =')"
   ]
   }
,
{
		   "cell_type": "markdown",
		   "metadata": {},
		   "source": [
			"## Example 9.3: input_bias_current.sce"
		   ]
		  },
  {
"cell_type": "code",
	   "execution_count": null,
	   "metadata": {
	    "collapsed": true
	   },
	   "outputs": [],
"source": [
"//Example 9.3\n",
"clc\n",
"disp('I_iOS = 20 nA,  I_b = 60 nA')\n",
"disp('Now  I_iOS = I_b1 - I_b2 = 20')\n",
"disp('     I_b = I_b1+I_b2 / 2 = 60')\n",
"disp('Therefore,  I_b1 + I_b2 = 120')\n",
"disp('Therefore,  2*I_b1 = 140')\n",
"disp('Therefore,  I_b1 = 70 nA,  I_b2 = 50 nA')"
   ]
   }
,
{
		   "cell_type": "markdown",
		   "metadata": {},
		   "source": [
			"## Example 9.40: dual_scope_ADC.sce"
		   ]
		  },
  {
"cell_type": "code",
	   "execution_count": null,
	   "metadata": {
	    "collapsed": true
	   },
	   "outputs": [],
"source": [
"//Example 9.40\n",
"clc\n",
"disp('We know that,')\n",
"disp('t2 = (V1/VR)*t1')\n",
"t2=83.33\n",
"format(6)\n",
"disp(t2,'(i) t2(in ms) = (100/100)*83.33 =')\n",
"disp('(ii) V1 = 200 mV')\n",
"t2=83.33*2\n",
"disp(t2,'Therefore, t2(in ms) = (200/100)*83.33 =')"
   ]
   }
,
{
		   "cell_type": "markdown",
		   "metadata": {},
		   "source": [
			"## Example 9.41: find_digital_output_of_ADC.sce"
		   ]
		  },
  {
"cell_type": "code",
	   "execution_count": null,
	   "metadata": {
	    "collapsed": true
	   },
	   "outputs": [],
"source": [
"//Example 8.41\n",
"clc\n",
"disp('The digital output is given as,')\n",
"disp('Digital output = (Counts/Second)*t1*(V_i/V_R)')\n",
"disp('Now  Clock frequency = 12 kHz')\n",
"disp('                i.e. = 12000 counts/second')\n",
"d=12000*83.33*(100/100)*10^-3\n",
"format(5)\n",
"disp(d,'Therefore,  Digital output(in counts) = 12000*83.33*(100/100)*10^-3 =')"
   ]
   }
,
{
		   "cell_type": "markdown",
		   "metadata": {},
		   "source": [
			"## Example 9.42: find_conversion_time.sce"
		   ]
		  },
  {
"cell_type": "code",
	   "execution_count": null,
	   "metadata": {
	    "collapsed": true
	   },
	   "outputs": [],
"source": [
"//Example 9.42.\n",
"clc\n",
"disp('            f = 1 MHz')\n",
"disp('Therefore,  T = 1/f = 1 / 1*10^6 = 1 usec')\n",
"disp('            n = 8')\n",
"tc=1*(8+1)\n",
"format(2)\n",
"disp(tc,'Therefore,  T_C(in usec) = T*(n+1) =')"
   ]
   }
,
{
		   "cell_type": "markdown",
		   "metadata": {},
		   "source": [
			"## Example 9.43: find_maximum_frequency_of_input_sine_wave.sce"
		   ]
		  },
  {
"cell_type": "code",
	   "execution_count": null,
	   "metadata": {
	    "collapsed": true
	   },
	   "outputs": [],
"source": [
"//Example 9.43\n",
"clc\n",
"disp('The maximum frequency is given by,')\n",
"f=1/(2*%pi*(9*10^-6)*2^8)\n",
"format(6)\n",
"disp(f,'f_max(in Hz) = 1 / 2*pi*(T_C)*2^n =')"
   ]
   }
,
{
		   "cell_type": "markdown",
		   "metadata": {},
		   "source": [
			"## Example 9.4: design_inverting_schmitt_trigger.sce"
		   ]
		  },
  {
"cell_type": "code",
	   "execution_count": null,
	   "metadata": {
	    "collapsed": true
	   },
	   "outputs": [],
"source": [
"//Example 9.4\n",
"clc\n",
"disp('V_UT = +4 V,  V_LT = -4 V,  Supply = +- 15 V')\n",
"disp('+- V_sat = 0.9 x [Supply] = +- 13.5 V = Vo')\n",
"disp('For op-amp 741,  I_B(max) = 500 nA')\n",
"disp('Therefore,  I2 = 100I_B(max) = 50 uA')\n",
"r2=(4/(50*10^-6))*10^-3\n",
"disp(r2,'Therefore,  R2(in k-ohm) = V_UT / I2 =')\n",
"i2=(4/(82*10^3))*10^6\n",
"format(6)\n",
"disp(i2,'Recalculating I2,  I2 = V_UT / R2 =')\n",
"r1=((13.5-4)/(48.78*10^-6))*10^-3\n",
"format(7)\n",
"disp(r1,'Therefore,  R1 = Vo-V_UT / I2 = +V_sat-V_UT / I2 =')\n",
"disp('The designed circuit is shown in fig')"
   ]
   }
,
{
		   "cell_type": "markdown",
		   "metadata": {},
		   "source": [
			"## Example 9.5: threshold_voltage.sce"
		   ]
		  },
  {
"cell_type": "code",
	   "execution_count": null,
	   "metadata": {
	    "collapsed": true
	   },
	   "outputs": [],
"source": [
"//Example 9.5\n",
"clc\n",
"disp('V_CC = +15 V')\n",
"vsat=0.9*15\n",
"format(5)\n",
"disp(vsat,'Therefore,  V_sat(in V) = 0.9 V_CC =')\n",
"disp('  R1 = 51 k-ohm,  R2 = 120 ohm')\n",
"vut=(13.5*120)/((51*10^3)+120)\n",
"format(8)\n",
"disp(vut,'V_UT(in V) = +V_sat*R2 / R1+R2 =')\n",
"vlt=(-13.5*120)/((51*10^3)+120)\n",
"disp(vlt,'V_LT(in V) = -V_sat*R2 / R1+R2 =')\n",
"h=(0.03169*2)*10^3\n",
"format(6)\n",
"disp(h,'H(in mV) = V_UT - V_LT =')"
   ]
   }
,
{
		   "cell_type": "markdown",
		   "metadata": {},
		   "source": [
			"## Example 9.6: tripping_voltage.sce"
		   ]
		  },
  {
"cell_type": "code",
	   "execution_count": null,
	   "metadata": {
	    "collapsed": true
	   },
	   "outputs": [],
"source": [
"//Example 9.6\n",
"clc\n",
"disp('As input is applied to the non-inverting terminal, the circuit is non-inverting Schmitt trigger.')\n",
"disp('  R1 = 100 k-ohm,  R2 = 1 k-ohm')\n",
"vut=13.5*(1/100)\n",
"format(6)\n",
"disp(vut,'Therefore,  V_UT(in V) = +V_sat * R2/R1 =')\n",
"vlt=-13.5*(1/100)\n",
"disp(vlt,'Therefore,  V_LT(in V) = -V_sat * R2/R1 =')"
   ]
   }
,
{
		   "cell_type": "markdown",
		   "metadata": {},
		   "source": [
			"## Example 9.8: time_duratio.sce"
		   ]
		  },
  {
"cell_type": "code",
	   "execution_count": null,
	   "metadata": {
	    "collapsed": true
	   },
	   "outputs": [],
"source": [
"//Example 9.8\n",
"clc\n",
"disp('LTP = -1.5 V  and  H = 2 V')\n",
"disp('Now         H = UTP - LTP')\n",
"disp('Therefore,  2 = UTP - (-1.5)')\n",
"disp('Therefore,  UTP = 0.5 V')\n",
"disp('In the fig.9.47, the angle theta can be obtained from equation of sine wave. Sine wave is represented as,')\n",
"disp('V_in = V_p*sin(pi+thata)    when  pi < omega*t < 2pi')\n",
"disp('At LTP,    -1.5 = 5*sin(pi+theta)')\n",
"disp('                = - 5*sin(theta)')\n",
"disp('Therefore,  sin(theta) = 0.3')\n",
"t=asind(0.3)\n",
"format(6)\n",
"disp(t,'Therefore,  theta(in degree) =')\n",
"disp('The time period of sine wave is,')\n",
"T=1\n",
"disp(T,'    T(in ms) = 1/f =')\n",
"disp('At UTP,    0.5 = V_p*sin(theta)')\n",
"disp('Therefore, 0.5 = 5 * sin(theta)')\n",
"disp('Therefore, sin(theta) = 0.1')\n",
"t=asind(0.1)\n",
"disp(t,'Therefore, theta(in degree) =')\n",
"disp('The time T1 for output is from 5.739 degree to (180 degree + 17.45 degree)')\n",
"t1=197.45-5.739\n",
"format(7)\n",
"disp(t1,'Therefore,  T1(in degree) =')\n",
"T1=(191.71/360)\n",
"disp(T1,'i.e.  T1(ms) =')\n",
"t2=1-0.5325\n",
"disp(t2,'and    T2(in ms) = T - T1 =')"
   ]
   }
,
{
		   "cell_type": "markdown",
		   "metadata": {},
		   "source": [
			"## Example 9.9: calculate_R1_and_R2.sce"
		   ]
		  },
  {
"cell_type": "code",
	   "execution_count": null,
	   "metadata": {
	    "collapsed": true
	   },
	   "outputs": [],
"source": [
"//Example 9.9\n",
"clc\n",
"disp('Given  +V_sat = 12 V,    -V_sat = -12 V,    V_H = 6 V')\n",
"disp('We know that hysteresis width is given as')\n",
"disp('  V_H = (R2/R1+R2)[+V_sat-V_sat]')\n",
"disp('Therefore,  R2 / R1+R2 = V_H / +V_sat-V_sat')\n",
"r=6/(24)\n",
"disp(r,'Therefore,  R2 / R1+R2 =')\n",
"disp('Therefore,  R2 = 0.25R1 + 0.25R2')\n",
"disp('Therefore,  0.75R2 = 0.25R1')\n",
"r2=0.25/0.75\n",
"format(7)\n",
"disp(r2,'Therefore,  R2 / R1 =')\n",
"disp('Assuming  R2 = 10 k-ohm')\n",
"r1=(10000/0.3333)*10^-3\n",
"format(3)\n",
"disp(r1,'  R1(in k-ohm) =')"
   ]
   }
],
"metadata": {
		  "kernelspec": {
		   "display_name": "Scilab",
		   "language": "scilab",
		   "name": "scilab"
		  },
		  "language_info": {
		   "file_extension": ".sce",
		   "help_links": [
			{
			 "text": "MetaKernel Magics",
			 "url": "https://github.com/calysto/metakernel/blob/master/metakernel/magics/README.md"
			}
		   ],
		   "mimetype": "text/x-octave",
		   "name": "scilab",
		   "version": "0.7.1"
		  }
		 },
		 "nbformat": 4,
		 "nbformat_minor": 0
}
