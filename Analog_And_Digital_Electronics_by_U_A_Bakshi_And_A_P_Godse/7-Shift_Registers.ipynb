{
"cells": [
 {
		   "cell_type": "markdown",
	   "metadata": {},
	   "source": [
       "# Chapter 7: Shift Registers"
	   ]
	},
{
		   "cell_type": "markdown",
		   "metadata": {},
		   "source": [
			"## Example 7.1: determine_number_of_flip_flops_needed.sce"
		   ]
		  },
  {
"cell_type": "code",
	   "execution_count": null,
	   "metadata": {
	    "collapsed": true
	   },
	   "outputs": [],
"source": [
"//Example 7.1\n",
"clc\n",
"disp('(i) A 6-bit binary number requires register with 6 flip-flops.')\n",
"disp('')\n",
"disp('(ii) (32)_10 = (100000)_2. The number of bits required to represent 32 in binary are six, therefore, 6 flip-flops are needed to construct a register capable od storing 32 decimal.')\n",
"disp('')\n",
"disp('(iii) (F)_16 = (1111)_2. The number of bits required to represent (F)_16 in binary are four, therefore four flip-flops are needed to construct a register capable of storing (F)_16')\n",
"disp('')\n",
"disp('(iv) (10)_8 = (1000)_2. The number of bits required to represent (10)_8 in binary are four, therefore, four flip-flops are needed to construct a register capable of storing (10)_8.')"
   ]
   }
],
"metadata": {
		  "kernelspec": {
		   "display_name": "Scilab",
		   "language": "scilab",
		   "name": "scilab"
		  },
		  "language_info": {
		   "file_extension": ".sce",
		   "help_links": [
			{
			 "text": "MetaKernel Magics",
			 "url": "https://github.com/calysto/metakernel/blob/master/metakernel/magics/README.md"
			}
		   ],
		   "mimetype": "text/x-octave",
		   "name": "scilab",
		   "version": "0.7.1"
		  }
		 },
		 "nbformat": 4,
		 "nbformat_minor": 0
}
