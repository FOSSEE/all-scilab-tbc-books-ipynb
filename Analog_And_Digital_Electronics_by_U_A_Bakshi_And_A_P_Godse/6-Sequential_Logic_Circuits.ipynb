{
"cells": [
 {
		   "cell_type": "markdown",
	   "metadata": {},
	   "source": [
       "# Chapter 6: Sequential Logic Circuits"
	   ]
	},
{
		   "cell_type": "markdown",
		   "metadata": {},
		   "source": [
			"## Example 6.4: analyze_the_circuit.sce"
		   ]
		  },
  {
"cell_type": "code",
	   "execution_count": null,
	   "metadata": {
	    "collapsed": true
	   },
	   "outputs": [],
"source": [
"//Example 6.4\n",
"clc\n",
"disp('To analyze the circuit means to drive the truth table for it.')\n",
"disp('We have,  D = Input XOR Q_n')\n",
"disp('')\n",
"disp('CLK    Input    Q_n    D = input XOR Q_n    Q_n+1')\n",
"disp('down     0       0              0              0')\n",
"disp('down     0       1              1              1')\n",
"disp('down     1       0              1              1')\n",
"disp('down     1       1              0              0')\n",
"disp('')\n",
"disp('In the circuit fig. 6.53, output does not change when input is 0 and it toggles when input is 1. This is the characteristics of T flip-flop. Hence, the given circui is T flip-flop constructed using D flip-flop.')"
   ]
   }
],
"metadata": {
		  "kernelspec": {
		   "display_name": "Scilab",
		   "language": "scilab",
		   "name": "scilab"
		  },
		  "language_info": {
		   "file_extension": ".sce",
		   "help_links": [
			{
			 "text": "MetaKernel Magics",
			 "url": "https://github.com/calysto/metakernel/blob/master/metakernel/magics/README.md"
			}
		   ],
		   "mimetype": "text/x-octave",
		   "name": "scilab",
		   "version": "0.7.1"
		  }
		 },
		 "nbformat": 4,
		 "nbformat_minor": 0
}
