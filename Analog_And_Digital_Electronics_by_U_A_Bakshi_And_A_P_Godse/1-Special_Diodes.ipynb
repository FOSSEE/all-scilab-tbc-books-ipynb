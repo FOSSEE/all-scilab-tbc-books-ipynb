{
"cells": [
 {
		   "cell_type": "markdown",
	   "metadata": {},
	   "source": [
       "# Chapter 1: Special Diodes"
	   ]
	},
{
		   "cell_type": "markdown",
		   "metadata": {},
		   "source": [
			"## Example 1.1: current_through_LED.sce"
		   ]
		  },
  {
"cell_type": "code",
	   "execution_count": null,
	   "metadata": {
	    "collapsed": true
	   },
	   "outputs": [],
"source": [
"//Example 1.1\n",
"clc\n",
"format(5)\n",
"disp('Assume the drop across the LED as 2 V.')\n",
"disp('Therefore,    VD = 2 V')\n",
"disp('From fig.1.11,  RS = 2.2 k-ohm and VS = 15 V')\n",
"is=(15-2)/(2.2)  // in mA\n",
"disp(is,'Therefore,    IS(mA) = VS-VD / RS =')"
   ]
   }
,
{
		   "cell_type": "markdown",
		   "metadata": {},
		   "source": [
			"## Example 1.2: transition_capacitance_and_constant_K.sce"
		   ]
		  },
  {
"cell_type": "code",
	   "execution_count": null,
	   "metadata": {
	    "collapsed": true
	   },
	   "outputs": [],
"source": [
"//Example 1.2\n",
"clc\n",
"disp('The transistor capacitance is given by,')\n",
"disp('  CT = C(0) / [1+|VR/VJ|^n]')\n",
"disp('Now  C(0) = 80pF, n = 1/3 as diffused junction')\n",
"disp('     VR = 4.2 V,  VJ = 0.7 V')\n",
"ct=((80*10^-12)/((1+(4.2/0.7))^(1/3)))*10^12  // in pF\n",
"format(6)\n",
"disp(ct,'Therefore,  CT(pF) = ')\n",
"disp('the transistor capacitance is also given by,')\n",
"disp('  CT = K / [VR+VJ]^n')\n",
"format(10)\n",
"k=(41.82*10^-12)*((4.2+0.7)^(1/3))\n",
"disp(k,'Therefore,  K = ')"
   ]
   }
],
"metadata": {
		  "kernelspec": {
		   "display_name": "Scilab",
		   "language": "scilab",
		   "name": "scilab"
		  },
		  "language_info": {
		   "file_extension": ".sce",
		   "help_links": [
			{
			 "text": "MetaKernel Magics",
			 "url": "https://github.com/calysto/metakernel/blob/master/metakernel/magics/README.md"
			}
		   ],
		   "mimetype": "text/x-octave",
		   "name": "scilab",
		   "version": "0.7.1"
		  }
		 },
		 "nbformat": 4,
		 "nbformat_minor": 0
}
