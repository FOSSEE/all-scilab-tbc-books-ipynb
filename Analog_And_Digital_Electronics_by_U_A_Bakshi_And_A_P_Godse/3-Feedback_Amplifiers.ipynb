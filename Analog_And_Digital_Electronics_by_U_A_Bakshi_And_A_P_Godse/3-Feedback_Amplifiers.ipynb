{
"cells": [
 {
		   "cell_type": "markdown",
	   "metadata": {},
	   "source": [
       "# Chapter 3: Feedback Amplifiers"
	   ]
	},
{
		   "cell_type": "markdown",
		   "metadata": {},
		   "source": [
			"## Example 3.10: Avf_and_Rif_and_Rof.sce"
		   ]
		  },
  {
"cell_type": "code",
	   "execution_count": null,
	   "metadata": {
	    "collapsed": true
	   },
	   "outputs": [],
"source": [
"//Example 3.10\n",
"disp('Step 1: Identify topology')\n",
"disp('  By shorting output voltage (Vo = 0), feedback voltage Vf becomes zero and hence it is voltage sampling. The feedback voltage is applied in series with the input voltage hence the topology is voltage series feedback.')\n",
"disp('')\n",
"disp('Step 2 and Step 3: Find input and output circuit.')\n",
"disp('  To find input circuit, set Vo = 0. This places the parallel combination of resistor 10 K and 300 ohm at first source. To find output circuit, set Ii = 0. This places the resistor 10K and 300 ohm in series across the output. The resultant circuit is shown in fig.3.54.')\n",
"disp('')\n",
"disp('Step 4: Replace FET with its equivalent circuit as shown in fig.3.55.')\n",
"disp('')\n",
"disp('Step 5: Find open loop transfer gain.')\n",
"disp('  Av = Vo / Vs = A_v1 * A_v2')\n",
"disp('  A_v2 = -u*R_L2 / R_L2+r_d')\n",
"rl2=(10.3*22)/(10.3+22)  // in k-ohm\n",
"format(3)\n",
"disp(rl2,'where  R_L2(in k-ohm) =')\n",
"av2=(-50*7)/17\n",
"format(6)\n",
"disp(av2,'  A_v2 =')\n",
"disp('  A_v1 = u*R_Deff / r_d+R_Deff+(1+u)*R_seff')\n",
"rdeff=(22*1000)/(22+1000)  // in k-ohm\n",
"disp(rdeff,'  R_Deff(in k-ohm) = R_D || R_G2 =')\n",
"disp('  R_seff = 330 || 10K')\n",
"av1=(-50*21.53)/(10+21.53+(51*((0.33*10)/(10+0.33))))\n",
"disp(av1,'Therefore,  A_v1 =')\n",
"av=-20.59*-22.51\n",
"disp(av,'  Overall Av = A_v1 * A_v2 =')\n",
"disp('')\n",
"disp('Step 6: Calculate beta')\n",
"beta=330/(330+10000)\n",
"format(7)\n",
"disp(beta,'  beta = Vf / Vo = Rs / Rs+Rf =')\n",
"disp('')\n",
"disp('step 7: Calculate D, A_vf, R_if, R''_of')\n",
"d=1+(0.0319*463.5)\n",
"disp(d,'  D = 1 + Av*beta =')\n",
"avf=463.5/15.785\n",
"format(6)\n",
"disp(avf,'  A_vf = Av / D =')\n",
"disp('Ri = R_G = 1 M-ohm')\n",
"rif=15.785\n",
"format(7)\n",
"disp(rif,'  R_if(in k-ohm) = Ri * D =')\n",
"ro=(10*7)/(10+7)  // in k-ohm\n",
"format(6)\n",
"disp(ro,'  R''o(in k-ohm) = rd || R_L2 =')\n",
"rof=(4.118*10^3)/15.785  // in ohm\n",
"format(4)\n",
"disp(rof,'  R''_of(in ohm) = R''o / D =')"
   ]
   }
,
{
		   "cell_type": "markdown",
		   "metadata": {},
		   "source": [
			"## Example 3.11: voltage_gain_and_input_and_output_resistance.sce"
		   ]
		  },
  {
"cell_type": "code",
	   "execution_count": null,
	   "metadata": {
	    "collapsed": true
	   },
	   "outputs": [],
"source": [
"//Example 3.11\n",
"clc\n",
"disp('Step 1: Identify topology')\n",
"disp('  The feedback voltage is applied across the resistance R_e1 and it is in series with input signal. Hence feedback is voltage series feedback.')\n",
"disp('')\n",
"disp('step 2 and Step 3: Find input and output circuit.')\n",
"disp('  To find input circuit, set Vo = 0 (connecting C2 to ground), which gives parllel combination of Re with Rf at E1. To find output ciruit, set Ii = 0 (opening the input node E1 at emitter of Q1), which gives series combination od Rf and R_e1 across the output. The resultant circuit is shown in fig.3.57')\n",
"disp('')\n",
"disp('Step 4: Find open loop voltage gain (Av)')\n",
"rl2=(4.7*3.42)/(4.7+3.42)  // in k-ohm\n",
"format(5)\n",
"disp(rl2,'  R_L2(in k-ohm) = R_c2 || (Rs+R) =')\n",
"disp('  A_i2 = -hfe = -50')\n",
"disp('R_i2 = hie = 1000 ohm = 1 k-ohm')\n",
"av2=-50*1.98\n",
"format(3)\n",
"disp(av2,'  A_v2 = A_i2*R_L2 / R_i2 =')\n",
"disp('  A_i1 = -hfe = -50')\n",
"format(7)\n",
"rl1=((10*100*22*1)/((100*22)+(10*22)+(10*100)+(10*100*22)))*10^3  // in ohm\n",
"disp(rl1,'  R_L1(in ohm) = R_c1 || R3 || R4 || R_i2 =')\n",
"disp('  R_i1 = h_ie + (1+h_fe)*R_e1eff')\n",
"re1=1+(51*((3.3*0.12)/(3.42)))  // in k-ohm\n",
"format(4)\n",
"disp(re1,'where  R_e1eff(in k-ohm) = Rs || R =')\n",
"av1=(-50*865.46)/6900\n",
"format(5)\n",
"disp(av1,'  A_v1 = A_i1*R_L1 / R_i1 =')\n",
"disp('The overall voltage gain,')\n",
"av=-6.27*-99\n",
"format(7)\n",
"disp(av,'  Av = A_v1 * A_v2 =')\n",
"disp('')\n",
"disp('Step 5: Calculate beta')\n",
"beta=120/(120+3300)\n",
"format(6)\n",
"disp(beta,'  beta = Vf / Vo = Rs / Rs+R =')\n",
"disp('')\n",
"disp('Step 6: Calculate D, A_vf, R_if, R_of and R''_of')\n",
"d=1+(0.035*620.73)\n",
"format(7)\n",
"disp(d,'  D = 1 + Av*beta =')\n",
"avf=620.73/22.725\n",
"format(5)\n",
"disp(avf,'  A_vf = Av / D =')\n",
"rif=6.9*22.725  // in k-ohm\n",
"format(6)\n",
"disp(rif,'  R_if(in k-ohm) = R_i1 * D =')\n",
"disp('  R_of = Ro / D = infinity')\n",
"rof=(1.98*10^3)/22.725  // in ohm\n",
"disp(rof,'  R''_of(in ohm) = R''o / D = R_L2 / D =')"
   ]
   }
,
{
		   "cell_type": "markdown",
		   "metadata": {},
		   "source": [
			"## Example 3.12: Ai_and_beta_and_Aif.sce"
		   ]
		  },
  {
"cell_type": "code",
	   "execution_count": null,
	   "metadata": {
	    "collapsed": true
	   },
	   "outputs": [],
"source": [
"//Example 3.12\n",
"clc\n",
"disp('Step 1: Identify topology')\n",
"disp('  The feebdack is given from emitter of Q2 to the base of Q2. If Io = 0 then feedback current through 5 K register is zero, hence it is current sampling. As feedback signal is mixed in shunt with input, the amplifier is current shunt feedback amplifier.')\n",
"disp('')\n",
"disp('Step 2 and Step 3: Find input and output ')\n",
"disp('  The input circuit of the amplifier without feedback is obtained by opening the output loop at the emitter of Q2(Io = 0). This places R''(5 K) in series with Re from base to emitter of Q1. The output circuit is found by shorting the input node, i.e. making Vi = 0. This places R'' (5 K) in parallel with Re. The resultant equivalent circuit is shown in fig.3.59 ')\n",
"disp('')\n",
"disp('Step 4: Find open circuit transfer gain.')\n",
"disp('  A_I = Io / Is = -Ic/I_b2 * I_b2/I_c1 * I_c1/I_b1 * I_b1/Is')\n",
"disp('We know that  -I_c2 / I_b2 = A_i2 = -hfe = -50 and')\n",
"disp('  -I_c1 / I_b1 = A_i1 = -hfe = 50')\n",
"disp('  I_c1 / I_b1 = 50')\n",
"disp('Looking at fig.3.59 we can write,')\n",
"disp('  I_b2 / I_c1 = -R_c1 / R_c1+R_i2 ')\n",
"ri2=1.5+(51*((5*0.5)/(5.5)))  // in k-ohm\n",
"format(8)\n",
"disp(ri2,'where  R_i2(in k-ohm) = h_ie + (1+h_fe)*(R_e2||R'') =')\n",
"x1=-2/(2+24.6818)\n",
"disp(x1,'  I_b2 / I_c1 =')\n",
"disp('  I_b1 / Is = R / R+R_i1    where R = Rs||(R''+R_e2) ')\n",
"r=((1*5.5)/(1+5.5))*10^3  // in ohm\n",
"format(9)\n",
"disp(r,'Therefore,  R(in ohm) =')\n",
"disp('and  R_i1 = h_ie + (1+h_fe)*R_e1 = 16.8 k-ohm')\n",
"x1=846.1538/(846.1538+(16.8*10^3))\n",
"format(8)\n",
"disp(x1,'Therefore,  I_b1 / Is =')\n",
"ai=50*0.07495*50*0.04795\n",
"format(7)\n",
"disp(ai,'  A_I =')\n",
"disp('')\n",
"disp('Step 5: Calculate beta')\n",
"beta=500/(500+(5*10^3))\n",
"disp(beta,'  beta = If / Io = R_e2 / R_e2|R'' =')\n",
"disp('')\n",
"disp('Step 6: Calculate D, A_If')\n",
"d=1+(0.0909*8.9848)\n",
"disp(d,'  D = 1 + A_I*beta =')\n",
"aif=8.9848/1.8168\n",
"disp(aif,'  A_If = A_I / D =')"
   ]
   }
,
{
		   "cell_type": "markdown",
		   "metadata": {},
		   "source": [
			"## Example 3.13: beta_and_Av_and_Avf_and_Rif_and_Rof.sce"
		   ]
		  },
  {
"cell_type": "code",
	   "execution_count": null,
	   "metadata": {
	    "collapsed": true
	   },
	   "outputs": [],
"source": [
"//Example 3.13\n",
"clc\n",
"disp('Step 1: Identify topology')\n",
"disp('  The feedback voltage is applied across R1(150 ohm), which is in series with input signal. Hence feedback is voltage series feedback.')\n",
"disp('')\n",
"disp('Step 2 and Step 3: Find input and output circuit')\n",
"disp('  To find input circuit, set Vo = 0, which gives parallel combination of R1 with R2 at E1 as shown in the fig.3.61. To find output circuit, set Ii = 0 by opening the input node, E1 at emitter of Q1, which gives the series combination of R2 and R1 across the output. The resultant circuit is shown in fig.3.61.')\n",
"disp('')\n",
"disp('Step 4: Find the open loop voltage gain (Av)')\n",
"rl2=(4.7*15.15)/(4.7+15.15)  // in k-ohm\n",
"format(5)\n",
"disp(rl2,'  RL2(in k-ohm) =')\n",
"disp('Since  hoe = hre = 0, we can use approximate analysis.')\n",
"disp('  A_i2 = -h_fe = -500')\n",
"disp('  R_i2 = h_ie = 1100 ohm')\n",
"av2=(-500*3.59*10^3)/1100\n",
"disp(av2,'  A_v2 = A_i2*R_L2 / R_i2 =')\n",
"rl1=((10*47*33*1.1)/((47*33*1.1)+(10*33*1.1)+(10*47*1.1)+(10*47*33)))*10^3  // in ohm\n",
"disp(rl1,'  R_L1(in ohm) = 10K || 47K || 33K || R_i2 =')\n",
"disp('  A_i1 = -h_fe = -500')\n",
"ri1=1.1+(501*((0.15*15)/(0.15+15)))  // in k-ohm\n",
"disp(ri1,'  R_i1(in k-ohm) = h_ie + (1+h_fe)*Re =')\n",
"av1=(-500*942)/(75.5*10^3)\n",
"format(6)\n",
"disp(av1,'  A_v1 = A_i1*R_L1 / R_i1 =')\n",
"av=-6.238*-1632\n",
"disp(av,'  Av = A_v1 * A_v2 =')\n",
"disp('')\n",
"disp('Step 5: Calculate beta and D')\n",
"beta=150/(150+15000)\n",
"format(7)\n",
"disp(beta,'  beta = R1 / R1+R2 =')\n",
"d=1+(10180*0.0099)\n",
"format(8)\n",
"disp(d,'  D = 1 + A*beta =')\n",
"disp('')\n",
"disp('Step 6: Calculate A_vf, R_of and R_if')\n",
"avf=10180/101.782\n",
"format(4)\n",
"disp(avf,'  A_vf = Av / D =')\n",
"rif=75.5*101.782*10^-3  // in M-ohm\n",
"format(6)\n",
"disp(rif,'  R_if(in M-ohm) = R_i1 * D =')\n",
"rof=(3.59*10^3)/101.782\n",
"disp(rof,'  R_of(in ohm) = Ro / D = R_L2 / D =')"
   ]
   }
,
{
		   "cell_type": "markdown",
		   "metadata": {},
		   "source": [
			"## Example 3.14: gain_and_new_bandwidth.sce"
		   ]
		  },
  {
"cell_type": "code",
	   "execution_count": null,
	   "metadata": {
	    "collapsed": true
	   },
	   "outputs": [],
"source": [
"//Example 3.14\n",
"clc\n",
"disp('Given:  A_vmid = 500, f_L = 100 kHz, f_H = 20 kHz and beta = 0.01')\n",
"avf=500/(1+(0.01*500))\n",
"format(6)\n",
"disp(avf,'  A_vf = A_vmid / 1+beta*A_vmid =')\n",
"flf=100/(1+(0.01*500))  // in Hz\n",
"disp(flf,'  f_Lf(in Hz) = f_L / 1+beta*A_vmid =')\n",
"fhf=20*(1+(0.01*500))  // in kHz\n",
"disp(fhf,'  f_Hf(in kHZ) = f_H * (1 + beta*A_vmid) =')\n",
"bw=120-0.01667  // in kHZ\n",
"format(9)\n",
"disp(bw,'  BW_f(in kHz) = f_Hf - f_Lf =')"
   ]
   }
,
{
		   "cell_type": "markdown",
		   "metadata": {},
		   "source": [
			"## Example 3.15: show_voltage_gain_with_feedback.sce"
		   ]
		  },
  {
"cell_type": "code",
	   "execution_count": null,
	   "metadata": {
	    "collapsed": true
	   },
	   "outputs": [],
"source": [
"//Example 3.15\n",
"clc\n",
"disp('Step 1: Identify topology')\n",
"disp('  By shorting output(Vo = 0), feedback voltage does not become zero. By opening the output loop feedback becomes zero and hence it is current sampling. The feedback is applied in series with the input signal, hence topology used is current series feedback.')\n",
"disp('')\n",
"disp('Step 2 and Step 3: Find input and output circuit.')\n",
"disp('  To find input circuit, set Io = 0. This places Re in series with input. To find output circuit Ii = 0. This places Re in output side. The resultant circuit is shown in fig.3.63.')\n",
"disp('')\n",
"disp('Step 4: Replace transistor with its h-parameter equivalent as shown in fig.3.64.')\n",
"disp('')\n",
"disp('Step 5: Find open loop transfer gain.')\n",
"disp('  From quation(5) of section 3.9.1 we have')\n",
"disp('  A_vf = Io*R_L / Vs = G_Mf * R_L')\n",
"disp('       = -h_fe*R_L / R''s+h_ie+(1+h_fe)*Re')\n",
"disp('Here  R''s = Rs || R1 || R2')\n",
"disp('           = Rs || Rb         because R_b = R1 || R2')\n",
"disp('Therefore,  Vo / Vs = Vo/Vi * Vi/Vs')\n",
"disp('where       Vi / Vs = Rb / Rs+Rb')\n",
"disp('Therefore,  Vo / Vs = (-h_fe*R_L / R''s+h_ie+(1+h_fe)*Re) * (Rb / Rs+Rb)')\n",
"disp('Dividing both numerator and denominator by Rs+Rb we get,')\n",
"disp('  A_vf = Vo / Vs = [-h_fe*Rc*(Rb/Rb+Rs)] / R''s+h_ie+(1+h_fe)*Re    because RL = Rc')\n",
"disp('       = -h_fe*Rc*[1/1+(Rs/Rb)] / R''s+h_ie+(1+h_fe)*Re')"
   ]
   }
,
{
		   "cell_type": "markdown",
		   "metadata": {},
		   "source": [
			"## Example 3.16: GMf_and_Rif_and_Rof.sce"
		   ]
		  },
  {
"cell_type": "code",
	   "execution_count": null,
	   "metadata": {
	    "collapsed": true
	   },
	   "outputs": [],
"source": [
"//Example 3.16\n",
"clc\n",
"disp('Refer example 3.15')\n",
"disp('  A_vf = -h_fe*Rc*[1/1+(Rs/Rb)] / R''s+h_ie+(1+h_fe)*Re     where R''s = Rs||R1||R2')\n",
"avf=(-50*(1.8*10^3)*[1/(1+(1000/4272))])/(810+1000+((1+50)*1000))\n",
"format(5)\n",
"disp(avf,'  A_vf =')\n",
"gmf=-1.38/(1.8*10^3)\n",
"format(9)\n",
"disp(gmf,'  G_Mf = A_vf / R_L =')\n",
"disp('  beta = Vf / Io = Ie*Re / Io = -Io*Re / Io = -Re = -1 K')\n",
"disp('  G_Mf = G_M / 1+beta*G_M')\n",
"gm=1/((1/(-7.66*10^-4))+1000)\n",
"format(10)\n",
"disp(gm,'Therefore,  G_M =')\n",
"d=1+(-1000*-3.2735*10^-3)\n",
"format(7)\n",
"disp(d,'  D = 1 + G_M*beta =')\n",
"ri=(1+1.36)  // in k-ohm\n",
"format(5)\n",
"disp(ri,'  R_i(in k-ohm) = Rs+(h_ie+Re) || R_D =')\n",
"rif=2.36*4.2735  // in k-ohm\n",
"format(3)\n",
"disp(rif,'  R_if(in k-ohm) = R_i * D =')\n",
"disp('  R_o = infinity')\n",
"disp('  R_of = R_o * D = infinity')\n",
"disp('  R''_of = R_of || R_L = R_L = 1.8 k-ohm')"
   ]
   }
,
{
		   "cell_type": "markdown",
		   "metadata": {},
		   "source": [
			"## Example 3.17: feedback_factor_and_Rif_and_Rof.sce"
		   ]
		  },
  {
"cell_type": "code",
	   "execution_count": null,
	   "metadata": {
	    "collapsed": true
	   },
	   "outputs": [],
"source": [
"//Example 3.17\n",
"clc\n",
"disp('Refer example 3.15')\n",
"disp('  A_vf = -h_fe*Rc*[1/1+(Rs/Rb)] / R''s+h_ie+(1+h_fe)*Re     where R''s = Rs||R1||R2')\n",
"avf=(-50*(4*10^3)*[1/(1+(1000/9000))])/(900+1000+((1+150)*1000))\n",
"format(6)\n",
"disp(avf,'  A_vf =')\n",
"gmf=-1.177/(4*10^3)\n",
"format(9)\n",
"disp(gmf,'  G_Mf = A_vf / R_L =')\n",
"disp('  beta = Vf / Io = Ie*Re / Io = -Io*Re / Io = -Re = -1 K')\n",
"disp('  G_Mf = G_M / 1+beta*G_M')\n",
"gm=1/((1/(-2.943*10^-4))+1000)\n",
"format(9)\n",
"disp(gm,'Therefore,  G_M =')\n",
"d=1+(-1000*-4.17*10^-4)\n",
"format(6)\n",
"disp(d,'  D = 1 + G_M*beta =')\n",
"ri=1+((2*9)/(2+9))  // in k-ohm\n",
"disp(ri,'  R_i(in k-ohm) = Rs+(h_ie+Re) || R_D =')\n",
"rif=2.636*1.417  // in k-ohm\n",
"format(6)\n",
"disp(rif,'  R_if(in k-ohm) = R_i * D =')\n",
"disp('  R_o = infinity')\n",
"disp('  R_of = R_o * D = infinity')\n",
"disp('  R''_of = R_of || R_L = R_L = 4 k-ohm')"
   ]
   }
,
{
		   "cell_type": "markdown",
		   "metadata": {},
		   "source": [
			"## Example 3.18: gain_with_feedback_and_new_bandwidth.sce"
		   ]
		  },
  {
"cell_type": "code",
	   "execution_count": null,
	   "metadata": {
	    "collapsed": true
	   },
	   "outputs": [],
"source": [
"//Example 3.18.\n",
"clc\n",
"disp('Given: A_v mid = 40, f_L = 100 Hz, f_H = 15 kHz and beta = 0.01')\n",
"avf=400/(1+(0.01*400))\n",
"format(3)\n",
"disp(avf,'  A_vf = A_v mid / 1+beta*A_v mid =')\n",
"flf=100/(1+(0.01*400))\n",
"disp(flf,'  f_Lf = f_L / 1+beta*A_v mid =')\n",
"fhf=(15)*(1+(0.01*400))  // in kHz\n",
"disp(fhf,'  f_Hf(in kHz) = f_H * (1+beta*A_v mid) =')\n",
"bw=75-0.02  // in kHz\n",
"format(6)\n",
"disp(bw,'  BW_f(in kHz) = f_Hf - f_Lf =')"
   ]
   }
,
{
		   "cell_type": "markdown",
		   "metadata": {},
		   "source": [
			"## Example 3.19: overall_voltage_gain_and_bandwidth.sce"
		   ]
		  },
  {
"cell_type": "code",
	   "execution_count": null,
	   "metadata": {
	    "collapsed": true
	   },
	   "outputs": [],
"source": [
"//Example 3.19\n",
"clc\n",
"disp('Given: Av = 10, BW = 1*10^3, n =3')\n",
"disp('(i) Overall voltage gain')\n",
"disp('The gain of cascaded amplifier without feedback = 10*10*10 = 1000')\n",
"avf=1000/(1+(0.1*1000))\n",
"format(4)\n",
"disp(avf,'A_vf = Av / 1+Av*beta =')\n",
"disp('(ii) Bandwidth of cascaded stage')\n",
"disp('Bandwidth of cascaded amplifier without feedback')\n",
"bw=((1*10^6)*sqrt((2^(1/3))-1))*10^-3  // in kHz\n",
"format(7)\n",
"disp(bw,'  BW(cascade)(in kHz) = BW*sqrt(2^(1/n) - 1) =')\n",
"bwf=(509.82*10^3*(1+(0.1*1000)))*10^-6  // in MHz\n",
"format(6)\n",
"disp(bwf,'  BW_f(in MHz) = BW * (1 + beta*A_v mid) =')"
   ]
   }
,
{
		   "cell_type": "markdown",
		   "metadata": {},
		   "source": [
			"## Example 3.1: gain_fL_and_fH.sce"
		   ]
		  },
  {
"cell_type": "code",
	   "execution_count": null,
	   "metadata": {
	    "collapsed": true
	   },
	   "outputs": [],
"source": [
"//Example 3.1\n",
"clc\n",
"disp('(a) Gain with feedback')\n",
"format(5)\n",
"av=1000/(1+(0.05*1000))\n",
"disp(av,'        AV_mid = Av_mid / 1+beta*Av_mid =')\n",
"flf=50/(1+(0.05*1000))  // in Hz\n",
"disp(flf,'(b)      f_Lf(in Hz) = f_L / 1+beta*Av_mid =')\n",
"fhf=((50*10^3)*(1+(0.05*1000)))*10^-6  // in MHz\n",
"disp(fhf,'(c)      f_Hf(in MHz) = f_H * (1+beta*Av_mid) =')"
   ]
   }
,
{
		   "cell_type": "markdown",
		   "metadata": {},
		   "source": [
			"## Example 3.2: Vo_and_second_harmonic_distortion_with_feedback.sce"
		   ]
		  },
  {
"cell_type": "code",
	   "execution_count": null,
	   "metadata": {
	    "collapsed": true
	   },
	   "outputs": [],
"source": [
"//Example 3.2\n",
"clc\n",
"disp('(a) beta:        -40 = 20*log[1+beta*A]')\n",
"disp('Therefore,  1+beta*A = 100')\n",
"b=99/1000\n",
"format(6)\n",
"disp(b,'Therefore,      beta =')\n",
"disp('Gain of the amplifier with feedback is given as')\n",
"avf=1000/100\n",
"disp(avf,'      A_Vf = A_V / 1+beta*A_V =')\n",
"disp('(b) To maintain output power 10 W, we should maintain output voltage constant and to maintain output constant with feedback gain required Vs is')\n",
"vsf=10*100*10^-3  // in V\n",
"disp(vsf,'      V_sf(in V) = Vs * 100 =')\n",
"disp('(c) Second harmonic distortion is reduced by factor 1 + beta*A')\n",
"d2f=(0.1/100)*100 // in percentage\n",
"disp(d2f,'      D_2f(in percentage) = D_2 / 1+beta*A =')"
   ]
   }
,
{
		   "cell_type": "markdown",
		   "metadata": {},
		   "source": [
			"## Example 3.3: beta_and_Af.sce"
		   ]
		  },
  {
"cell_type": "code",
	   "execution_count": null,
	   "metadata": {
	    "collapsed": true
	   },
	   "outputs": [],
"source": [
"//Example 3.3\n",
"clc\n",
"disp('(a) We know that')\n",
"disp('              dAf/Af = 0.1/1+beta*A * dA/A')\n",
"disp('Therefore,  1+beta*A = 37.5')\n",
"b=(36.5/2000)*100 // in percentage\n",
"format(6)\n",
"disp(b,'Therefore,  beta(in percentage) =')\n",
"af=2000/(1+(0.01825*2000))\n",
"disp(af,'(b)     Af = A / 1+beta*A =')"
   ]
   }
,
{
		   "cell_type": "markdown",
		   "metadata": {},
		   "source": [
			"## Example 3.4: beta_and_Av_and_Avf_and_Rif_and_Rof.sce"
		   ]
		  },
  {
"cell_type": "code",
	   "execution_count": null,
	   "metadata": {
	    "collapsed": true
	   },
	   "outputs": [],
"source": [
"//Example 3.4\n",
"clc\n",
"disp('Step 1: Identity topology')\n",
"disp('  The feedback voltage is applied across the resistance R_e1 and it is in series with input signal. Hence feedback is voltage series feedback.')\n",
"disp('')\n",
"disp('Step 2 and Step 3: Find input and output circuit.')\n",
"disp('  To find input circuit, set Vo = 0 (connecting C2 to ground), which gives parallel combination of Re with Rf at E1. To find output circuit, set Ii = 0 (opening the input node E1 at emitter of Q1), which gives series combination of Rf and Re1 across the output. The resultant circuit is shown in Fig.3.32')\n",
"disp('')\n",
"disp('Step 4: Find open loop voltage gain(A_v)')\n",
"format(5)\n",
"rl2=(4.7*10.1)/(4.7+10.1) // in k-ohm\n",
"disp(rl2,'  R_L2(in k-ohm) = R_c2 || (R_e1+Rf) =')\n",
"disp('  A_i2 = -hfe = -100')\n",
"disp('  R_i2 = hie = 1100 ohm')\n",
"format(7)\n",
"av2=(-100*3.21*10^3)/1100\n",
"disp(av2,'  A_v2 = A_i2*R_L2 / R_i2 =')\n",
"disp('  A_i1 = -hfe = -100')\n",
"format(5)\n",
"rl1=(22*220*22*1.100)/((220*22*1.100)+(22*22*1.100)+(22*220*1.100)+(22*220*22))  // in ohm\n",
"disp(rl1*10^3,'  R_L1(in ohm) = R_c1 || R3 || R4 || R_i2 =')\n",
"ri1=1.1+(101*((0.1*10)/(0.1+10)))  // in k-ohm\n",
"format(5)\n",
"disp(ri1,'  R_i1(in k-ohm) = hie + (1+hfe)*R_e1eff =             where Re1eff = (R_e1 || Rf)')\n",
"av1=(-100*995)/(11.099*10^3)\n",
"disp(av1,'Therefore,  A_v1 = A_i1*RL1 / Ri1 =')\n",
"disp('The overall voltage gain without feedback is given as,')\n",
"av=-291.82*-8.96\n",
"format(7)\n",
"disp(av,'  Av = A_v1 * A_v2 =')\n",
"disp('The overall voltage gain taking Rs in account is given as,')\n",
"aV=(2614.7*11.099*10^3)/((11.099*10^3)+100)\n",
"format(8)\n",
"disp(aV,'  Av = Vo / Vs = Av*R_i1 / R_i1+Rs =')\n",
"disp('')\n",
"disp('Step 5: Calculate beta')\n",
"disp('Looking at Fig.3.33.')\n",
"beta=100/(100+(10*10^3))\n",
"format(7)\n",
"disp(beta,'  beta = Vf / Vo =')\n",
"d=1+(0.0099*2591.35)\n",
"format(6)\n",
"disp(d,'  D = 1 + beta*Av =')\n",
"avf=2591.35/26.65\n",
"disp(avf,'  A_vf = Av/D =')\n",
"rif=26.65*11.099  // in k-ohm\n",
"format(8)\n",
"disp(rif,'  R_if(in k-ohm) = R_i1 * D =')\n",
"riff=(295.788*220*22)/((220*22)+(295.788*22)+(295.788*220))  // in k-ohm\n",
"format(6)\n",
"disp(riff,'  R''_if(in k-ohm) = R_if || R1 || R2 =')\n",
"disp('  R_of = Ro / D = infinity / D = infinity')\n",
"disp('Therefore,  R''_of = R''_o / D          where R''_o = R_L2')\n",
"roff=(3.21*10^3)/26.65  // in omh\n",
"format(7)\n",
"disp(roff,'Therefore,  R''_of(in ohm) = ')"
   ]
   }
,
{
		   "cell_type": "markdown",
		   "metadata": {},
		   "source": [
			"## Example 3.5: Avf_and_Rif_and_Rof.sce"
		   ]
		  },
  {
"cell_type": "code",
	   "execution_count": null,
	   "metadata": {
	    "collapsed": true
	   },
	   "outputs": [],
"source": [
"//Example 3.5\n",
"clc\n",
"disp('Step 1: Identity topology')\n",
"disp('  The feedback voltage is applied across R1 (100 ohm), which is in series with input signal. Hence feedback is voltage series feedback.')\n",
"disp('')\n",
"disp('Step 2 and Step 3: Find input and output circuit')\n",
"disp('  To find input circuit, set Vo = 0, which gives parallel combination of R1 with R2 at E1 as shown in the fig.3.45. To find output circuit, set Ii = 0 by opening the input node, E1 at emitter of Q1, which gives the series combination of R2 and R1 across the output. The resultant circuit is shown in fig.3.45')\n",
"disp('')\n",
"disp('Step 4: Find the open loop voltage gain (Av)')\n",
"rl2=(4.7*4.8)/(4.7+4.8)  // in k-ohm\n",
"format(5)\n",
"disp(rl2,'  R_L2(in k-ohm) =')\n",
"disp('Since  h_oe = h_re = 0 we can use approximate analysis')\n",
"disp('  A_i2 = -hfe = -50')\n",
"disp('  R_i2 = hie = 1.1 k-ohm')\n",
"av2=(-50*2.37)/1.1\n",
"format(7)\n",
"disp(av2,'  A_v2 = A_i2*R_L2 / R_i2 =')\n",
"rl1=(10*47*33*1.1)/((47*33*1.1)+(10*33*1.1)+(10*47*1.1)+(10*47*33))  // in ohm\n",
"format(5)\n",
"disp(rl1*10^3,'  R_L1(in ohm) =')\n",
"disp('  A_i1 = -hfe = -50')\n",
"ri1=1.1+(51*((0.1*4.7)/(4.8)))  // in k-ohm\n",
"format(6)\n",
"disp(ri1,'  R_i1(in k-ohm) = hie + (1+hfe)*Re =')\n",
"av1=(-50*942)/(6.093*10^3)\n",
"format(5)\n",
"disp(av1,'  A_v1 = A_i1*R_L1 / R_i1 =')\n",
"av=-7.73*-107.73\n",
"format(7)\n",
"disp(av,'Therefore,  A_v = A_v1 * A_v2 =')\n",
"disp('')\n",
"disp('Step 5: Calculate beta and D')\n",
"disp('  beta = R1 / R1+R2 = 1/48')\n",
"d=1+(832.75/48)  // in ohm\n",
"format(6)\n",
"disp(d,'  D(in ohm) = 1 + A*beta =')\n",
"disp('')\n",
"disp('Step 5: Calculate A_vf, R_of and R_if')\n",
"avf=832.75/18.35\n",
"disp(avf,'  A_vf = A_v / D =')\n",
"rif=6.093*18.35  // in k-ohm\n",
"disp(rif,'  R_if(in k-ohm) = R_i1 * D =')\n",
"rof=(2.37*10^3)/18.35  // in ohm\n",
"format(7)\n",
"disp(rof,'  R_of(in ohm) = R_o / D =')"
   ]
   }
,
{
		   "cell_type": "markdown",
		   "metadata": {},
		   "source": [
			"## Example 3.6: Avf_and_Rif_and_Rof.sce"
		   ]
		  },
  {
"cell_type": "code",
	   "execution_count": null,
	   "metadata": {
	    "collapsed": true
	   },
	   "outputs": [],
"source": [
"//Example 3.6\n",
"clc\n",
"disp('Step 1: Identify topology')\n",
"disp('  The feedback voltage is applied across R_e1 = 1.5 k-ohm, which is in series with input signal. Hence feedback is voltage series feedback')\n",
"disp('')\n",
"disp('Step 2 and step 3: Find input and output circuit')\n",
"disp('  To find input circuit, set Vo = 0, which gives parallel combination of R_e1 with R_f at E1 as shown in fig.3.47. To find ouput circuit, set I_i = 0 by opening the input node, E1 at emitter of Q1, which gives the series combination of R_f and R_e1 across the output. The resultant circuit is shown in fig.3.47')\n",
"disp('')\n",
"disp('Step 4: Find the open loop voltage gain (Av)')\n",
"rl2=(2.2*57.5)/(2.2+57.5)  // in k-ohm\n",
"format(6)\n",
"disp(rl2,'  R_L2(in k-ohm) = R_c2 || (Rf + R_e1) =')\n",
"disp('Since hoe*R_L2 = 10^-6*2.119 k-ohm = 0.002119 is less than 0.1 we use approximate analysis.')\n",
"disp('  A_i2 = -h_fe = -200')\n",
"disp('  R_i2 = hie = 2 k-ohm')\n",
"av2=(-200*2.119)/2\n",
"disp(av2,'  A_v2 = A_i2*R_L2 / R_i2 =')\n",
"rl1=(120*2)/(122)  // in k-ohm\n",
"disp(rl1,'  R_L1(in k-ohm) = R_C1 || R_i2 =')\n",
"disp('Since hoe*R_L1 = 10^-6*1.967 = 0.001967 is less than 0.1 we use approximate analysis.')\n",
"disp('  A_i1 = -hfe = -200')\n",
"ri1=2+(201*((1.5*56)/(57.5)))  // in k-ohm\n",
"format(7)\n",
"disp(ri1,'  R_i1(in k-ohm) = hie + (1+hfe)*Re =')\n",
"av1=(-200*1.967)/295.63\n",
"format(5)\n",
"disp(av1,'Therefore,  A_v1 = A_i1*R_L1 / R_i1 =')\n",
"disp('The overall gain without feedback is')\n",
"av=-1.33*-211.9\n",
"format(7)\n",
"disp(av,'  Av = A_v1 * A_v2 =')\n",
"disp('')\n",
"disp('Step 5: Calculate beta')\n",
"beta=1.5/57.5\n",
"format(6)\n",
"disp(beta,'  beta = Vf / Vo =')\n",
"disp('')\n",
"disp('Step 6: calculate D, A_vf, R_if, R_of')\n",
"d=1+(0.026*281.82)\n",
"disp(d,'  D = 1 + Av*beta =')\n",
"avf=281.82/8.327\n",
"disp(avf,'Therefore,  A_vf = Av / D =')\n",
"ri=(295.63*150)/(295.63+150)  // in k-ohm\n",
"format(5)\n",
"disp(ri,'  Ri(in k-ohm) = R_i1 || R =')\n",
"rif=99.5*8.327  // in k-ohm\n",
"format(7)\n",
"disp(rif,'  R_if(in k-ohm) = Ri *D =')\n",
"disp('  Ro = 1/hoe = 1 M-ohm')\n",
"rof=((1*10^6)/8.327)*10^-3  // in k-ohm\n",
"format(4)\n",
"disp(rof,'  R_of(in k-ohm) = Ro / D =')\n",
"ro=(1000*2.119)/(2.119+1000)  // in k-ohm\n",
"format(7)\n",
"disp(ro,'  R''o(in k-ohm) = Ro || R_c2 || (Rf+R_e1) = Ro || R_L2 =')\n",
"rof=(2.1145*10^3)/8.327  // in ohm\n",
"format(4)\n",
"disp(rof,'  R''_of(in ohm) = R''o / D =')"
   ]
   }
,
{
		   "cell_type": "markdown",
		   "metadata": {},
		   "source": [
			"## Example 3.7: D_and_Avf_and_Rif_and_Rof.sce"
		   ]
		  },
  {
"cell_type": "code",
	   "execution_count": null,
	   "metadata": {
	    "collapsed": true
	   },
	   "outputs": [],
"source": [
"//Example 3.7\n",
"clc\n",
"disp('Step 1: Identity topology')\n",
"disp('  By shorting output voltage (Vo = 0), feedback voltage Vf becomes zero and hence it is voltage sampling. The feedback voltage is aaplied in series with input voltage hence the topology is voltage series feedback.')\n",
"disp('')\n",
"disp('Step 2 and Step 3: Find input and output circuit.')\n",
"disp('  To find input circuit, set Vo = 0. This places the parallel combination of resistor 10 K and 200 ohm at first source. To find output circuit, set Ii = 0. This places the resistor 10 K and 200 ohm in series across the output. The resultant circuit is shown in fig.3.50.')\n",
"disp('')\n",
"disp('Step 4: Replace FET with its equivalent circuit as shown in fig.3.51')\n",
"disp('')\n",
"disp('Step 5: Find open loop transfer gain.')\n",
"disp('  Av = Vo / Vs = A_v1*A_v2')\n",
"disp('  A_v2 = -u*R_L2 / R_L2+r_d')\n",
"rl2=(10.2*47)/(10.2+47)  // in k-ohm\n",
"format(5)\n",
"disp(rl2,'where  R_L2(in k-ohm) =')\n",
"av2=(-40*8.38)/(8.38+10)\n",
"format(7)\n",
"disp(av2,'Therefore,  A_v2 =')\n",
"disp('  A_v1 = u*R_Deff / r_d+R_Deff+(1+u)*R_seff')\n",
"rdeff=(47*1000)/(47+1000)  // in k-ohm\n",
"format(6)\n",
"disp(rdeff,'where  R_Deff(in k-ohm) = R_D || R_G2 =')\n",
"disp('  R_seff = 200 || 10 K')\n",
"av1=(-40*44.98*10^3)/((10*10^3)+(44.89*10^3)+(41*((10*0.2)/(10.2))))\n",
"disp(av1,'  A_v1 =')   // answer in textbook is wrong\n",
"oav=-28.59*-18.237\n",
"format(7)\n",
"disp(oav,'Therefore,  Overall Av =')\n",
"disp('')\n",
"disp('Step 6: Calculate beta')\n",
"beta=200/(10.2*10^3)\n",
"disp(beta,'  beta = Vf / Vo =')\n",
"disp('')\n",
"disp('Step 7: Calculate D, A_vf, R_if, R''_of')\n",
"d=1+(0.0196*521.39)\n",
"format(6)\n",
"disp(d,'  D = 1 + Av*beta =')\n",
"avf=521.39/11.22\n",
"disp(avf,'  A_vf = Av / D =')\n",
"disp('  Ri = R_G = 1 M-ohm')\n",
"rif=11.22\n",
"disp(rif,'  R_if(in M-ohm) = Ri * D =')\n",
"disp('  Ro = r_d = 10 k-ohm')\n",
"ro=(10*8.38)/(18.38)  // in k-ohm\n",
"disp(ro,'  R''o(in k-ohm) = r_d || R_L2 =')\n",
"rof=(4.559*10^3)/11.22  // in ohm\n",
"format(4)\n",
"disp(rof,'  R''_of(in ohm) = R''o / D =')"
   ]
   }
,
{
		   "cell_type": "markdown",
		   "metadata": {},
		   "source": [
			"## Example 3.8: voltage_gai.sce"
		   ]
		  },
  {
"cell_type": "code",
	   "execution_count": null,
	   "metadata": {
	    "collapsed": true
	   },
	   "outputs": [],
"source": [
"//Example 3.8\n",
"clc\n",
"disp('Here, output voltage is sampled and fed in series with the input signal. Hence the topology is voltage series feedback.')\n",
"disp('  The open loop voltage gain for one stage is given as,')\n",
"disp('    Av = -gm*R_eq')\n",
"req=(8*40*1000)/((40*1000)+(8*1000)+(8*40))  // in k-ohm\n",
"format(5)\n",
"disp(req,'  R_eq(in k-ohm) = r_d || R_d || (R_i1+R_2) =')\n",
"av=-5*6.62\n",
"format(6)\n",
"disp(av,'  Av =')\n",
"avm=-33.11^3\n",
"disp(avm,'Av = Overall voltage gain = |A_vmid|^3 =')  // answer in textbook is wrong\n",
"beta=50/(10^6)\n",
"format(7)\n",
"disp(beta,'  beta = Vf / Vo = -R_1 / R_g = -R_1 / R_1+R_2 =')\n",
"d=1+((-5*10^-5)*-36306)\n",
"format(6)\n",
"disp(d,'  D = 1 + |Av|*beta =')\n",
"avf=-36306/2.8153\n",
"disp(avf,'  A_vf = Av / D =')"
   ]
   }
,
{
		   "cell_type": "markdown",
		   "metadata": {},
		   "source": [
			"## Example 3.9: Avf.sce"
		   ]
		  },
  {
"cell_type": "code",
	   "execution_count": null,
	   "metadata": {
	    "collapsed": true
	   },
	   "outputs": [],
"source": [
"//Example 3.9\n",
"clc\n",
"disp('Here, output terminals are B and ground, thus the forward gain is the gain of Q1 and it is,')\n",
"disp('  A_BN = -33.11')\n",
"disp('However, Q2 and Q3 must be considered as a part of feedback loop')\n",
"disp('Here  beta_BN = V_f / V_B = V_f/V_o * V_o/V_C * V_C/V_B')\n",
"disp('where V_B and V_C are voltages at point B and C, respectively.')\n",
"disp('Therefore,  beta_BN = V_f/V_o * A_v3 * A_v2         because V_o/V_C = A_v3 and V_C/V_B = A_v2')\n",
"bbn=-(5*10^-5)*(33.11^2)\n",
"format(7)\n",
"disp(bbn,'Therefore,  beta_BN = -R1/R_g * A_v3 * A_v2 =')\n",
"disp('Note that the loop gain - beta_BN * A_BN = A^3_Vo * R1/Rg = -1.815 = -A*beta')\n",
"disp('It should be clear tht regardless ofwhere the output terminals are taken, the loop gain is unchanged.')\n",
"avf=-33.11/2.815\n",
"format(6)\n",
"disp(avf,'Therefore,  A_vf = A_BN / 1+A*beta =')"
   ]
   }
],
"metadata": {
		  "kernelspec": {
		   "display_name": "Scilab",
		   "language": "scilab",
		   "name": "scilab"
		  },
		  "language_info": {
		   "file_extension": ".sce",
		   "help_links": [
			{
			 "text": "MetaKernel Magics",
			 "url": "https://github.com/calysto/metakernel/blob/master/metakernel/magics/README.md"
			}
		   ],
		   "mimetype": "text/x-octave",
		   "name": "scilab",
		   "version": "0.7.1"
		  }
		 },
		 "nbformat": 4,
		 "nbformat_minor": 0
}
