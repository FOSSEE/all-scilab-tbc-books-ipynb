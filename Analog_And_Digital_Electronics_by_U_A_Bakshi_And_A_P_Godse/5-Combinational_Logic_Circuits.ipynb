{
"cells": [
 {
		   "cell_type": "markdown",
	   "metadata": {},
	   "source": [
       "# Chapter 5: Combinational Logic Circuits"
	   ]
	},
{
		   "cell_type": "markdown",
		   "metadata": {},
		   "source": [
			"## Example 5.10: implement_boolean_function_using_4to1_multiplexer.sce"
		   ]
		  },
  {
"cell_type": "code",
	   "execution_count": null,
	   "metadata": {
	    "collapsed": true
	   },
	   "outputs": [],
"source": [
"//Example 5.10\n",
"clc\n",
"disp('Fig. 5.23 shows the implementation of function with 4 to 1 multiplexer. Two of the variables, B and C, are applied to the selection lines. B is connected to S1 and C is connected to S0. The inputs for multiplexer are derived from the implementation table.')\n",
"disp('Truth table')\n",
"disp('Minterm    A  B  C    F')\n",
"disp('   0       0  0  0    0')\n",
"disp('   1       0  0  1    1')\n",
"disp('   2       0  1  0    0')\n",
"disp('   3       0  1  1    1')\n",
"disp('   4       1  0  0    0')\n",
"disp('   5       1  0  1    1')\n",
"disp('   6       1  1  0    1')\n",
"disp('   7       1  1  1    0')\n",
"disp('')\n",
"disp('Implementation table')\n",
"disp('     D0  D1  D2  D3')\n",
"disp('A''   0   1   2   3   Row 1')\n",
"disp('A    4   5   6   7   Row 2')\n",
"disp('     0   1   A   A''')\n",
"disp('')\n",
"disp('As shown in fig. 5.23(c) the implementation table is nothing but the list of the inputs of the miltiplexers and under them list of all the minterms in two rows. The first row lists all those minterms where A is complemented, and the second row lists all the minterms with A uncomplemented. The minterms given in the function are circled and then each column is inserted separately as follows.')\n",
"disp('1. If the two minterms in a column are not circled, O is applied to the corresponding multiplexer input (see column 1).')\n",
"disp('2. If the two minterms in a column are circled, 1 is applied to the corresponding multiplexer input (see column 2).')\n",
"disp('3. If the minterm in the second row is circled and minterms in the first row is not circled, A is applied to the corresponding multiplexer input (see column 3).')\n",
"disp('4. If the minterm in the first row is circled and minterm in the second row is not circled, A'' is applied to the corresponding multiplexer input (see column 4).')"
   ]
   }
,
{
		   "cell_type": "markdown",
		   "metadata": {},
		   "source": [
			"## Example 5.11: implement_boolean_function_using_8to1_MUX.sce"
		   ]
		  },
  {
"cell_type": "code",
	   "execution_count": null,
	   "metadata": {
	    "collapsed": true
	   },
	   "outputs": [],
"source": [
"//Example 5.11\n",
"clc\n",
"disp('Fig 5.25 shows the implementation of given Booolean function with 8:1 miltiplexer.')\n",
"disp('Implementation table')\n",
"disp('     D0  D1  D2  D3  D4  D5  D6  D7')\n",
"disp('A''   0   1   2   3   4   5   6   7')\n",
"disp('A    8   9   10  11  12  13  14  15')\n",
"disp('     1   1   0   A''  A''  0   0   A')"
   ]
   }
,
{
		   "cell_type": "markdown",
		   "metadata": {},
		   "source": [
			"## Example 5.12: implement_boolean_function_using_4to1_MUX.sce"
		   ]
		  },
  {
"cell_type": "code",
	   "execution_count": null,
	   "metadata": {
	    "collapsed": true
	   },
	   "outputs": [],
"source": [
"//Example 5.12\n",
"clc\n",
"disp('The function has four variables. To implement this function we require 8 : 1 multiplexer. i.e., two 4 : 1 multiplexers. We have already seen how to construct 8 : 1 multiplexer using two 4 : 1 multiplexers. The same concept is used here to implement given Boolean function.')\n",
"disp('')\n",
"disp('Implementation table')\n",
"disp('     D0  D1  D2  D3  D4  D5  D6  D7')\n",
"disp('A''   0   1   2   3   4   5   6   7')\n",
"disp('A    8   9   10  11  12  13  14  15')\n",
"disp('     A''  1   A''  0   1   0   1   0')"
   ]
   }
,
{
		   "cell_type": "markdown",
		   "metadata": {},
		   "source": [
			"## Example 5.13: implement_boolean_function_using_8to1_MUX.sce"
		   ]
		  },
  {
"cell_type": "code",
	   "execution_count": null,
	   "metadata": {
	    "collapsed": true
	   },
	   "outputs": [],
"source": [
"//Example 5.13\n",
"clc\n",
"disp('The given Boolean expression is not in standard SOP form. Let us first convert this in standard form.')\n",
"disp('  F(A, B, C, D) = A''BD''(C+C'') + ACD(B+B'') + B''CD(A+A'') + A''C''D(B+B'')')\n",
"disp('                = A''BCD'' + A''BC''D'' + ABCD + AB''CD + AB''CD + A''B''CD + A''BC''D + A''B''C''D')\n",
"disp('                = A''BCD'' + A''BC''D'' + ABCD + AB''CD + A''B''CD + A''BC''D + A''B''C''D')\n",
"disp('')\n",
"disp('The truth table for this standard SOP form can be given as')\n",
"disp('  No.  Minterms    A  B  C  D  Y')\n",
"disp('  0                0  0  0  0  0')\n",
"disp('  1    A''B''C''D     0  0  0  1  1')\n",
"disp('  2                0  0  1  0  0')\n",
"disp('  3    A''B''CD      0  0  1  1  1')\n",
"disp('  4    A''BC''D''     0  1  0  0  1')\n",
"disp('  5    A''BC''D      0  1  0  1  1')\n",
"disp('  6    A''BCD''      0  1  1  0  1')\n",
"disp('  7                0  1  1  1  0')\n",
"disp('  8                1  0  0  0  0')\n",
"disp('  9                1  0  0  1  0')\n",
"disp('  10               1  0  1  0  0')\n",
"disp('  11    AB''CD      1  0  1  1  1')\n",
"disp('  12               1  1  0  0  0')\n",
"disp('  13               1  1  0  1  0')\n",
"disp('  14               1  1  1  0  0')\n",
"disp('  15    ABCD       1  1  1  1  1')\n",
"disp('')\n",
"disp('From the truth table Boolean function can be implemented using 8 : 1 multiplexer as follows :')\n",
"disp('Implementation table :')\n",
"disp('      D0  D1  D2  D3  D4  D5  D6  D7')\n",
"disp('A''    0   1   2   3   4   5   6   7')\n",
"disp('A     8   9   10  11  12  13  14  15')\n",
"disp('      0   A''  0   1   A''  A''  A''  A')"
   ]
   }
,
{
		   "cell_type": "markdown",
		   "metadata": {},
		   "source": [
			"## Example 5.14: implement_boolean_function_using_8to1_MUX.sce"
		   ]
		  },
  {
"cell_type": "code",
	   "execution_count": null,
	   "metadata": {
	    "collapsed": true
	   },
	   "outputs": [],
"source": [
"//Example 5.14.\n",
"clc\n",
"disp('Here, instead of minterms, maxterms are specified. Thus, we have to circle maxterms which are not included in the Boolean function. Fig. 5.28 shows the implementation of Boolean function with 8 : 1 multiplexer.')\n",
"disp('')\n",
"disp('Implementation table :')\n",
"disp('      D0  D1  D2  D3  D4  D5  D6  D7')\n",
"disp('A''    0   1   2   3   4   5   6   7')\n",
"disp('A     8   9   10  11  12  13  14  15')\n",
"disp('      0   A''  A''  A   A''  A   0   1')"
   ]
   }
,
{
		   "cell_type": "markdown",
		   "metadata": {},
		   "source": [
			"## Example 5.15: implement_boolean_function_using_8to1_MUX.sce"
		   ]
		  },
  {
"cell_type": "code",
	   "execution_count": null,
	   "metadata": {
	    "collapsed": true
	   },
	   "outputs": [],
"source": [
"//Example 5.15\n",
"clc\n",
"disp('In the given Boolean function three don''t care conditions are also specified. We know that don..t care conditions can be treated as either 0s or 1s. Fig. 5.29 shows the implementation of given Boolean function using 8 : 1 multiplexer.')\n",
"disp('')\n",
"disp('Implementation table :')\n",
"disp('      D0  D1  D2  D3  D4  D5  D6  D7')\n",
"disp('A''    0   1   2   3   4   5   6   7')\n",
"disp('A     8   9   10  11  12  13  14  15')\n",
"disp('      1   0   1   1   A   A   1   0')\n",
"disp('')\n",
"disp('In this example,  by taking don''t care conditions 8 and 14 we have eliminated A'' term and hence the inverter.')"
   ]
   }
,
{
		   "cell_type": "markdown",
		   "metadata": {},
		   "source": [
			"## Example 5.16: determine_boolean_expression.sce"
		   ]
		  },
  {
"cell_type": "code",
	   "execution_count": null,
	   "metadata": {
	    "collapsed": true
	   },
	   "outputs": [],
"source": [
"//Example 15.6\n",
"clc\n",
"disp('    D''   D')\n",
"disp('D   0    1')\n",
"disp('0   2    3')\n",
"disp('0   4    5')\n",
"disp('1   6    7')\n",
"disp('D   8    9')\n",
"disp('1   10   11')\n",
"disp('D''  12   13')\n",
"disp('0   14   15')\n",
"disp('')\n",
"disp('Here, implementation table is listed for least significant bit i.e. D. The first column list all minterms with D is complementated and the second column lists all the minterms with D uncomplemented, as shown in fig. 5.30(a). Then according to data inputs given to the multiplexer minterms are circled applying following rules.')\n",
"disp('1. If multiplexer input is 0, don''t circle any minterm in the corresponding row.')\n",
"disp('2. If multiplexer input 1, circle both the minterms in the corresponding row.')\n",
"disp('3. If multiplexer input is D, circle the minterm belongs to cloumn D in the corresponding row.')\n",
"disp('4. If multiplexer input is D'', circle the minterm belongs to column D'' in the corresponding row.')\n",
"disp('This is illustrated in fig. 5.30(b). Now circled minterms can be written to get Boolean expression as follows :')\n",
"disp('  Y = A''B''C''D + A''BCD'' + A''BCD + AB''C''D + AB''CD'' + AB''CD + ABC''D''')"
   ]
   }
,
{
		   "cell_type": "markdown",
		   "metadata": {},
		   "source": [
			"## Example 5.17: realize_using_4_to_1_MUX.sce"
		   ]
		  },
  {
"cell_type": "code",
	   "execution_count": null,
	   "metadata": {
	    "collapsed": true
	   },
	   "outputs": [],
"source": [
"//Example 5.17\n",
"clc\n",
"disp('        D0  D1  D2  D3')\n",
"disp('w''x''    0   1   2   3')\n",
"disp('w''x     4   5   6   7')\n",
"disp('wx''     8   9   10  11')\n",
"disp('wx      12  13  14  15')\n",
"disp('')\n",
"disp('D0 = w''x + wx'' = w XOR x')\n",
"disp('D1 = w''x'' + wx'' = x''')\n",
"disp('D2 = w''x + wx'' = w XOR x')\n",
"disp('D3 = w''x + wx'' + wx = x + wx'' = w + x')"
   ]
   }
,
{
		   "cell_type": "markdown",
		   "metadata": {},
		   "source": [
			"## Example 5.18: design_1_to_8_DEMUX.sce"
		   ]
		  },
  {
"cell_type": "code",
	   "execution_count": null,
	   "metadata": {
	    "collapsed": true
	   },
	   "outputs": [],
"source": [
"//Example 5.18\n",
"clc\n",
"disp('The cascading of demultiplexers is similar to the cascading of decoder. Fig. 5.33 shows cascading of two 1 : 4 demultiplexers to form 1 : 8 demultiplexer.')"
   ]
   }
,
{
		   "cell_type": "markdown",
		   "metadata": {},
		   "source": [
			"## Example 5.19: implement_full_subtractor.sce"
		   ]
		  },
  {
"cell_type": "code",
	   "execution_count": null,
	   "metadata": {
	    "collapsed": true
	   },
	   "outputs": [],
"source": [
"//Example 5.19\n",
"clc\n",
"disp('Let us see the truth table of full subtractor.')\n",
"disp('  A  B  Bin  D  Bout')\n",
"disp('  0  0   0   0   0')\n",
"disp('  0  0   1   1   1')\n",
"disp('  0  1   0   1   1')\n",
"disp('  0  1   1   0   1')\n",
"disp('  1  0   0   1   0')\n",
"disp('  1  0   1   0   0')\n",
"disp('  1  1   0   0   0')\n",
"disp('  1  1   1   1   1')\n",
"disp('')\n",
"disp('For full subtractor difference D function can be written as D = f(A, B, C) = summation m(1, 2, 4, 7) and Bout function can be written as')\n",
"disp('    Bout = F(A, B, C) = summation m(1, 2, 3, 7)')\n",
"disp('With Din input 1, demultiplexer gives minterms at the output so by logically ORing required minterms we can implement Boolean functions for full subtractor. Fig. 5.34 shows the implementation of full subtractor using demultiplexer.')"
   ]
   }
,
{
		   "cell_type": "markdown",
		   "metadata": {},
		   "source": [
			"## Example 5.1: design_a_combinational_logic_circuit.sce"
		   ]
		  },
  {
"cell_type": "code",
	   "execution_count": null,
	   "metadata": {
	    "collapsed": true
	   },
	   "outputs": [],
"source": [
"//Example 5.1\n",
"clc\n",
"disp('Given problem specific that there are three input variables and one output variable. We assign  A, B and C letter symbols to three input variables and assign Y letter symbol to one output variable. The relationship between input variables and output variable can be tabulated as shown in truth table 5.1')\n",
"disp('  A    B    C    Y')\n",
"disp('  0    0    0    0')\n",
"disp('  0    0    1    0')\n",
"disp('  0    1    0    0')\n",
"disp('  0    1    1    1')\n",
"disp('  1    0    0    0')\n",
"disp('  1    0    1    1')\n",
"disp('  1    1    0    1')\n",
"disp('  1    1    1    1')\n",
"disp('Now we obtain the simplified Boolean expression for output variable Y using K-map simplification.')\n",
"disp('    BC    BC''      B''C''      B''C')\n",
"disp('A   0      0        1         0')\n",
"disp('A''  0      1        1         1')\n",
"disp('  Y = AC + BC + AB')"
   ]
   }
,
{
		   "cell_type": "markdown",
		   "metadata": {},
		   "source": [
			"## Example 5.20: construst_1_to_32_DEMUX.sce"
		   ]
		  },
  {
"cell_type": "code",
	   "execution_count": null,
	   "metadata": {
	    "collapsed": true
	   },
	   "outputs": [],
"source": [
"//Exmaple 5.20\n",
"clc\n",
"disp('The fig. 5.37 shows the implementation of 1 to 32 demultiplexer using two 74X154 ICs. Here, the most significant bit of select signal (A4) is used to enable either upper 1 to 16 demultiplexer or lower 1 to 16 demultiplexer. The data input and other select signals are connected parallel to both the demultiplexer ICs. When A4 = 0, upper demultiplexer is enabled and the data input is routed to the output corresponds to the status of A0 A1 A2 and A3 lines. When A4 = 1, lower miltiplexer is enabled and the data input is routed to the output corresponds to the status of A0 A1 A2 and A3 lines.')"
   ]
   }
,
{
		   "cell_type": "markdown",
		   "metadata": {},
		   "source": [
			"## Example 5.21: design_3_to_8_decoder.sce"
		   ]
		  },
  {
"cell_type": "code",
	   "execution_count": null,
	   "metadata": {
	    "collapsed": true
	   },
	   "outputs": [],
"source": [
"//Example 5.21\n",
"clc\n",
"disp('Fig. 5.40 shows 3 to 8 line decoder. Here, 3 inputs are decoded into eight outputs, each output represent one of the minterms of the 3 input variables. The three inverters provide the complement of the inputs, and each one of the eight AND gates generates one of the minterms. Enable input is provided to activate decoded output based on data inputs A, B and C. The table shows the truth table for 3 to 8 decoder.')\n",
"disp('')\n",
"disp('Truth table for a 3 to 8 decoder')\n",
"disp('   Inputs    |             Outputs')\n",
"disp('EN  A  B  C  |  Y7  Y6  Y5  Y4  Y3  Y2  Y1  Y0')\n",
"disp('0   X  X  X  |  0   0   0   0   0   0   0   0')\n",
"disp('1   0  0  0  |  0   0   0   0   0   0   0   1')\n",
"disp('1   0  0  1  |  0   0   0   0   0   0   1   0')\n",
"disp('1   0  1  0  |  0   0   0   0   0   1   0   0')\n",
"disp('1   0  1  1  |  0   0   0   0   1   0   0   0')\n",
"disp('1   1  0  0  |  0   0   0   1   0   0   0   0')\n",
"disp('1   1  0  1  |  0   0   1   0   0   0   0   0')\n",
"disp('1   1  1  0  |  0   1   0   0   0   0   0   0')\n",
"disp('1   1  1  1  |  1   0   0   0   0   0   0   0')"
   ]
   }
,
{
		   "cell_type": "markdown",
		   "metadata": {},
		   "source": [
			"## Example 5.22: design_5_to_32_decoder.sce"
		   ]
		  },
  {
"cell_type": "code",
	   "execution_count": null,
	   "metadata": {
	    "collapsed": true
	   },
	   "outputs": [],
"source": [
"//Example 5.22\n",
"clc\n",
"disp('The Fig. 5.45 shows the construction of 5 to 32 decoder using four 74LS138s and half 74LS139. The half section of 74LS139 IC used as a 2 to 4 decoder to decode the two higher order inputs, D and E. The four outputs of this decoder are used to enable one of the four 3 to 8 decoders. The three lower inputs A, B and C are connected in  parallel to four 3 to 8 decoders. This means that the same output pin of each of the four 3 to 8 decoders is selected but only one is enable. The remaining enables signals of four 3 to 8 decoders ICs are connected in parallel to construct enable signals for 5 to 32 decoder.')"
   ]
   }
,
{
		   "cell_type": "markdown",
		   "metadata": {},
		   "source": [
			"## Example 5.23: design_4_line_to_16_line_decoder.sce"
		   ]
		  },
  {
"cell_type": "code",
	   "execution_count": null,
	   "metadata": {
	    "collapsed": true
	   },
	   "outputs": [],
"source": [
"//Example 5.23\n",
"clc\n",
"disp('4 line to 16 line decoder using 1 line to 4 line decoder')\n",
"disp('As shown in fig. 5.46 five numbers of 2 : 4 decoder are required to design 4 : 16 decoder. Decoder 1 is used to enable one of the decoder 2, 3, 4 and 5. Inputs of first decoder are the A and B MSB inputs of 4 : 16 decoder. The inputs of decoder are connected together forming C and D LSB inputs of 4 : 16 decoder.')"
   ]
   }
,
{
		   "cell_type": "markdown",
		   "metadata": {},
		   "source": [
			"## Example 5.24: implement_using_74LS138.sce"
		   ]
		  },
  {
"cell_type": "code",
	   "execution_count": null,
	   "metadata": {
	    "collapsed": true
	   },
	   "outputs": [],
"source": [
"//Example 5.24\n",
"clc\n",
"disp('In this example, we use IC 74LS138, 3 : 8 decoder to implement multiple output function. The outputs of 74LS138 are active low, therefore, SOP function (function F1) can be implemented using NAND gate and POS function (function F2) can be implemented using AND gate, as shown in fig.5.50')"
   ]
   }
,
{
		   "cell_type": "markdown",
		   "metadata": {},
		   "source": [
			"## Example 5.25: implement_full_substractor.sce"
		   ]
		  },
  {
"cell_type": "code",
	   "execution_count": null,
	   "metadata": {
	    "collapsed": true
	   },
	   "outputs": [],
"source": [
"//Example 5.25\n",
"clc\n",
"disp('The truth table for full subtractor is as shown below')\n",
"disp('')\n",
"disp(' Inputs      Outputs')\n",
"disp('A  B  Bin    D  Bout')\n",
"disp('0  0   0     0   0')\n",
"disp('0  0   1     1   1')\n",
"disp('0  1   0     1   1')\n",
"disp('0  1   1     0   1')\n",
"disp('1  0   0     1   0')\n",
"disp('1  0   1     0   0')\n",
"disp('1  1   0     0   0')\n",
"disp('1  1   1     1   1')\n",
"disp('')\n",
"disp('Implementation of full subtractor using 3 : 8 decoder is shown in fig. 5.51')"
   ]
   }
,
{
		   "cell_type": "markdown",
		   "metadata": {},
		   "source": [
			"## Example 5.26: implement_gray_to_binary_code_converter.sce"
		   ]
		  },
  {
"cell_type": "code",
	   "execution_count": null,
	   "metadata": {
	    "collapsed": true
	   },
	   "outputs": [],
"source": [
"//Example 5.26\n",
"clc\n",
"disp('The truth table for 3-bit binary to gray code converter is as shown below')\n",
"disp('')\n",
"disp('A  B  C    G2  G1  G0')\n",
"disp('0  0  0    0   0   0')\n",
"disp('0  0  1    0   0   1')\n",
"disp('0  1  0    0   1   1')\n",
"disp('0  1  1    0   1   0')\n",
"disp('1  0  0    1   1   0')\n",
"disp('1  0  1    1   1   1')\n",
"disp('1  1  0    1   0   1')\n",
"disp('1  1  1    1   0   0')\n",
"disp('')\n",
"disp('The fig. 5.52 shows the implementation of 3-bit binary to gray code converter using 3:8 decoder. As outputs of 74138 are active low we have to use NAND gate instead of OR gate. The active low output from the decoder forces output(s) of connected NAND gate(s) to become HIGH, thus implementing the function.')"
   ]
   }
,
{
		   "cell_type": "markdown",
		   "metadata": {},
		   "source": [
			"## Example 5.27: design_2_bit_comparator.sce"
		   ]
		  },
  {
"cell_type": "code",
	   "execution_count": null,
	   "metadata": {
	    "collapsed": true
	   },
	   "outputs": [],
"source": [
"//Example 5.27\n",
"clc\n",
"disp('')\n",
"disp('A1  A0  B1  B0    A>B  A=B  A<B')\n",
"disp('0   0   0   0      0    0    0')\n",
"disp('0   0   0   1      0    0    1')\n",
"disp('0   0   1   0      0    0    1')\n",
"disp('0   0   1   1      0    0    1')\n",
"disp('0   1   0   0      1    0    0')\n",
"disp('0   1   0   1      0    1    0')\n",
"disp('0   1   1   0      0    0    1')\n",
"disp('0   1   1   1      0    0    1')\n",
"disp('1   0   0   0      1    0    0')\n",
"disp('1   0   0   1      1    0    0')\n",
"disp('1   0   1   0      0    1    0')\n",
"disp('1   0   1   1      0    0    1')\n",
"disp('1   1   0   0      1    0    0')\n",
"disp('1   1   0   1      1    0    0')\n",
"disp('1   1   1   0      1    0    0')\n",
"disp('1   1   1   1      0    1    0')"
   ]
   }
,
{
		   "cell_type": "markdown",
		   "metadata": {},
		   "source": [
			"## Example 5.28: design_full_adder_circuit.sce"
		   ]
		  },
  {
"cell_type": "code",
	   "execution_count": null,
	   "metadata": {
	    "collapsed": true
	   },
	   "outputs": [],
"source": [
"//Example 5.28\n",
"clc\n",
"disp('Truth table for full adder is as shown below.')\n",
"disp('  Inputs       Outputs')\n",
"disp('A  B  Cin    Carry  Sum')\n",
"disp('0  0   0       0     0')\n",
"disp('0  0   1       0     1')\n",
"disp('0  1   0       0     1')\n",
"disp('0  1   1       1     0')\n",
"disp('1  0   0       0     1')\n",
"disp('1  0   1       1     0')\n",
"disp('1  1   0       1     0')\n",
"disp('1  1   1       1     1')"
   ]
   }
,
{
		   "cell_type": "markdown",
		   "metadata": {},
		   "source": [
			"## Example 5.29: implement_BCD_to_7_segment_decoder.sce"
		   ]
		  },
  {
"cell_type": "code",
	   "execution_count": null,
	   "metadata": {
	    "collapsed": true
	   },
	   "outputs": [],
"source": [
"//Example 5.29\n",
"clc\n",
"disp('BCD-to-common anode 7-segment decoder')\n",
"disp('Digit    A  B  C  D    a  b  c  d  e  f  g')\n",
"disp('  0      0  0  0  0    0  0  0  0  0  0  1')\n",
"disp('  1      0  0  0  1    1  0  0  1  1  1  1')\n",
"disp('  2      0  0  1  0    0  0  1  0  0  1  0')\n",
"disp('  3      0  0  1  1    0  0  0  0  1  1  0')\n",
"disp('  4      0  1  0  0    1  0  0  0  1  1  0')\n",
"disp('  5      0  1  0  1    0  1  0  0  1  0  0')\n",
"disp('  6      0  1  1  0    0  1  0  0  0  0  0')\n",
"disp('  7      0  1  1  1    0  0  0  1  1  1  1')\n",
"disp('  8      1  0  0  0    0  0  0  0  0  0  0')\n",
"disp('  9      1  0  0  1    0  0  0  0  1  0  0')"
   ]
   }
,
{
		   "cell_type": "markdown",
		   "metadata": {},
		   "source": [
			"## Example 5.2: design_a_circuit_with_control_line_C_and_data_lines.sce"
		   ]
		  },
  {
"cell_type": "code",
	   "execution_count": null,
	   "metadata": {
	    "collapsed": true
	   },
	   "outputs": [],
"source": [
"//Example 5.2\n",
"clc\n",
"disp('The truth table for the given problem is as shown below.')\n",
"disp('  C    D3    D2    D1    Output')\n",
"disp('  0    x     x     x        0')\n",
"disp('  0    0     0     0        0')\n",
"disp('  0    0     0     1        1')\n",
"disp('  0    0     1     0        1')\n",
"disp('  0    1     0     0        1')\n",
"disp('')\n",
"disp('K-map simplification')\n",
"disp('        D1''D2''     D1''D2     D1D2     D1D2''')\n",
"disp('C''D3''     0          0        0        0')\n",
"disp('C''D3      0          0        0        0')\n",
"disp('CD3       1          X        X        X')\n",
"disp('CD3''      0          1        X        1')\n",
"disp('')\n",
"disp('Therefore,    Y = CD3 + CD2 + CD1')"
   ]
   }
,
{
		   "cell_type": "markdown",
		   "metadata": {},
		   "source": [
			"## Example 5.31: implement_32_input_to_5_output_encoder.sce"
		   ]
		  },
  {
"cell_type": "code",
	   "execution_count": null,
	   "metadata": {
	    "collapsed": true
	   },
	   "outputs": [],
"source": [
"//Example 5.31\n",
"clc\n",
"disp('Fig.5.75 shows how four 74LS148 can be connected to accept 32 inputs and produce a 5-bit encoded output, A0 - A4. EO'' signal is connected to the EI'' input of the next lower priority encoder and EI'' input of the highest priority encoder is grounded. Therefore, at any time only one encoder is enabled. Since, the A2 - A0 outputs of at the most one 74LS148 will be enabled at a time, the outputs of the individual 74LS148s can be ORed to produce A2 - A0. Likewise, the individual GS'' outputs can be combined in a 4 to 2 encoder to produce A4 and A3. The GS output for 32-bit encoder is producedby ORing GS'' outputs of all encoders. ')"
   ]
   }
,
{
		   "cell_type": "markdown",
		   "metadata": {},
		   "source": [
			"## Example 5.3: design_combinational_circuit.sce"
		   ]
		  },
  {
"cell_type": "code",
	   "execution_count": null,
	   "metadata": {
	    "collapsed": true
	   },
	   "outputs": [],
"source": [
"//Example 5.3\n",
"clc\n",
"disp('Truth table')\n",
"disp('      Input                    Output')\n",
"disp('  Decimal Digit        Digit 1        Digit 0')\n",
"disp('   A  B  C  D      Y7  Y6  Y5  Y4  Y3  Y2  Y1  Y0')\n",
"disp('   0  0  0  0      0   0   0   0   0   0   0   0')\n",
"disp('   0  0  0  1      0   0   0   0   0   1   0   1')\n",
"disp('   0  0  1  0      0   0   0   1   0   0   0   0')\n",
"disp('   0  0  1  1      0   0   0   1   0   1   0   1')\n",
"disp('   0  1  0  0      0   0   1   0   0   0   0   0')\n",
"disp('   0  1  0  1      0   0   1   0   0   1   0   1')\n",
"disp('   0  1  1  0      0   0   1   1   0   0   0   0')\n",
"disp('   0  1  1  1      0   0   1   1   0   1   0   1')\n",
"disp('   1  0  0  0      0   1   0   0   0   0   0   0')\n",
"disp('   1  0  0  1      0   1   0   0   0   1   0   1')\n",
"disp('')\n",
"disp('Here  Y0 = D,  Y1 = 0,  Y2 = D,  Y3 = 0,  Y4 = C,  Y5 = B,  Y6 = A and Y7 = 0. Therefore, the given circuit can be obtained from the input lines without using any logic gates')"
   ]
   }
,
{
		   "cell_type": "markdown",
		   "metadata": {},
		   "source": [
			"## Example 5.4: design_logic_circuit.sce"
		   ]
		  },
  {
"cell_type": "code",
	   "execution_count": null,
	   "metadata": {
	    "collapsed": true
	   },
	   "outputs": [],
"source": [
"//Example 5.4\n",
"clc\n",
"disp('Let us consider D for Door, I for ignition, L for Light. Then conditions to activate the alarm are:')\n",
"disp('1. The headlights are ON while the ignition is OFF.')\n",
"disp('   i.e. L = 1, I = 0 and D may be anything.')\n",
"disp('2. The ddor is open while the ignition is ON')\n",
"disp('   i.e. D = 1, I = 1, L may be anything.')\n",
"disp('Also alarm will sound if logic circuit output is zero.')\n",
"disp('Therefore, output for above condition is zero and for rest of the condition it is 1 which is summarized in the following table.')\n",
"disp('  D    I    L    Y')\n",
"disp('  0    0    0    1')\n",
"disp('  X    0    1    0')\n",
"disp('  0    1    0    1')\n",
"disp('  0    1    1    1')\n",
"disp('  1    0    0    1')\n",
"disp('  1    1    X    0')\n",
"disp('Therefore, K-map for logic circuit.')\n",
"disp('      I''L''    I''L    IL    IL''')\n",
"disp('D''     1       0     1      1')\n",
"disp('D      1       0     0      0')\n",
"disp('  Output = Y = I''L'' + D''I')\n",
"disp('As AND-OR logic can be directly replaced by NAND-NAND, logic circuit using only NAND gates is as shown in fig.5.9 and fig.5.10')"
   ]
   }
,
{
		   "cell_type": "markdown",
		   "metadata": {},
		   "source": [
			"## Example 5.5: design_circuit_to_detect_invalid_BCD_number.sce"
		   ]
		  },
  {
"cell_type": "code",
	   "execution_count": null,
	   "metadata": {
	    "collapsed": true
	   },
	   "outputs": [],
"source": [
"//Example 5.5\n",
"clc\n",
"disp('Truth table')\n",
"disp('  Dec    A  B  C  D    Output Y')\n",
"disp('   0     0  0  0  0       0')\n",
"disp('   1     0  0  0  1       0')\n",
"disp('   2     0  0  1  0       0')\n",
"disp('   3     0  0  1  1       0')\n",
"disp('   4     0  1  0  0       0')\n",
"disp('   5     0  1  0  1       0')\n",
"disp('   6     0  1  1  0       0')\n",
"disp('   7     0  1  1  1       0')\n",
"disp('   8     1  0  0  0       0')\n",
"disp('   9     1  0  0  1       0')\n",
"disp('  10     1  0  1  0       1')\n",
"disp('  11     1  0  1  1       1')\n",
"disp('  12     1  1  0  0       1')\n",
"disp('  13     1  1  0  1       1')\n",
"disp('  14     1  1  1  0       1')\n",
"disp('  15     1  1  1  1       1')\n",
"disp('')\n",
"disp('K-map simplification')\n",
"disp('        C''D''       C''D       CD       CD''')\n",
"disp('A''B''     0          0        0        0')\n",
"disp('A''B      0          0        0        0')\n",
"disp('AB       1          1        1        1')\n",
"disp('AB''      0          0        1        1')\n",
"disp('  Y = AB + AC')"
   ]
   }
,
{
		   "cell_type": "markdown",
		   "metadata": {},
		   "source": [
			"## Example 5.6: design_two_level_combinational_circuit.sce"
		   ]
		  },
  {
"cell_type": "code",
	   "execution_count": null,
	   "metadata": {
	    "collapsed": true
	   },
	   "outputs": [],
"source": [
"//Example 5.6\n",
"clc\n",
"disp('   Input 1 -> Pressure in fuel tank')\n",
"disp('   Input 2 -> Pressure in oxidizer tank')\n",
"disp('   Input = 1 Indicates pressure is equal to or above the required minimum')\n",
"disp('         = 0 Otherwise')\n",
"disp('   Input 3 -> From timer')\n",
"disp('if input 3 = 1 Indicates that there are less than or exactly 10 minutes for lift off')\n",
"disp('           = 0 Otherwise')\n",
"disp('     Output -> Panel light, if light goes on then')\n",
"disp('     Output = 1')\n",
"disp('else Output = 0')\n",
"disp('')\n",
"disp('Truth table')\n",
"disp('Let input 1 = A,  input 2 = B,  input 3 = C.')\n",
"disp('    Inputs      Output')\n",
"disp('  A    B    C     Y')\n",
"disp('  0    0    0     1')\n",
"disp('  0    0    1     0')\n",
"disp('  0    1    0     1')\n",
"disp('  0    1    1     0')\n",
"disp('  1    0    0     1')\n",
"disp('  1    0    1     0')\n",
"disp('  1    1    0     0')\n",
"disp('  1    1    1     1')\n",
"disp('')\n",
"disp('K-map simplification')\n",
"disp('      B''C''      B''C    BC     BC''')\n",
"disp('A''     1         0     0      1')\n",
"disp('A      1         0     1      0')\n",
"disp('  Y = ABC + A''B''C'' + B''C''')\n",
"disp('    = ABC + C''(B''+A''B)')\n",
"disp('    = ABC + C''(B''+A'')          [A''+A''B = A + B]')\n",
"disp('    = ABC + C''(A''B'')')\n",
"disp('    = A''B'' XOR C''')"
   ]
   }
,
{
		   "cell_type": "markdown",
		   "metadata": {},
		   "source": [
			"## Example 5.7: design_32_to_1_multiplexer.sce"
		   ]
		  },
  {
"cell_type": "code",
	   "execution_count": null,
	   "metadata": {
	    "collapsed": true
	   },
	   "outputs": [],
"source": [
"//Example 5.7\n",
"clc\n",
"disp('Fig. 5.20 shows a 32 to 1 multiplexer using 74LS150 ICs.')"
   ]
   }
,
{
		   "cell_type": "markdown",
		   "metadata": {},
		   "source": [
			"## Example 5.8: design_a_32_to_1_multiplexer.sce"
		   ]
		  },
  {
"cell_type": "code",
	   "execution_count": null,
	   "metadata": {
	    "collapsed": true
	   },
	   "outputs": [],
"source": [
"//Example 5.8\n",
"clc\n",
"disp('Fig. 5.21 shows a 32 to 1 multiplexer using four 8 to 1 multiplxeres and 2 to 4 decoder..')"
   ]
   }
,
{
		   "cell_type": "markdown",
		   "metadata": {},
		   "source": [
			"## Example 5.9: implement_boolean_function_using_8to1_multiplexer.sce"
		   ]
		  },
  {
"cell_type": "code",
	   "execution_count": null,
	   "metadata": {
	    "collapsed": true
	   },
	   "outputs": [],
"source": [
"//Example 5.9\n",
"clc\n",
"disp('The function can be implemented with a 8 to 1 multiplexer, as shown in fig. 5.22. Three variables A, B and C are applied to the select lines. The minterms to be included (1, 3, 5 and 6) are chosen by making their corresponding input lines equal to 1. Mintems 0, 2, 4 and 7 are not included by making their input lines equal to 0.')"
   ]
   }
],
"metadata": {
		  "kernelspec": {
		   "display_name": "Scilab",
		   "language": "scilab",
		   "name": "scilab"
		  },
		  "language_info": {
		   "file_extension": ".sce",
		   "help_links": [
			{
			 "text": "MetaKernel Magics",
			 "url": "https://github.com/calysto/metakernel/blob/master/metakernel/magics/README.md"
			}
		   ],
		   "mimetype": "text/x-octave",
		   "name": "scilab",
		   "version": "0.7.1"
		  }
		 },
		 "nbformat": 4,
		 "nbformat_minor": 0
}
