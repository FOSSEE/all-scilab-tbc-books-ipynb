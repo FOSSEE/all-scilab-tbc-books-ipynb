{
"cells": [
 {
		   "cell_type": "markdown",
	   "metadata": {},
	   "source": [
       "# Chapter 2: Frequency Response"
	   ]
	},
{
		   "cell_type": "markdown",
		   "metadata": {},
		   "source": [
			"## Example 2.1: maximum_voltage_gai.sce"
		   ]
		  },
  {
"cell_type": "code",
	   "execution_count": null,
	   "metadata": {
	    "collapsed": true
	   },
	   "outputs": [],
"source": [
"//Example 2.1\n",
"clc\n",
"format(7)\n",
"disp('We know that maximam voltage gain of voltage amplifier is given as')\n",
"mv=200*sqrt(2)\n",
"disp(mv,'Therefore,  Maximum voltage gain = Gain at cut-off x sqrt(2) =')"
   ]
   }
,
{
		   "cell_type": "markdown",
		   "metadata": {},
		   "source": [
			"## Example 2.2: gain_of_the_amplifier.sce"
		   ]
		  },
  {
"cell_type": "code",
	   "execution_count": null,
	   "metadata": {
	    "collapsed": true
	   },
	   "outputs": [],
"source": [
"//Example 2.2\n",
"clc\n",
"format(6)\n",
"disp('We know that,')\n",
"a=100/sqrt(1+((1000/20)^2))\n",
"disp(a,'Below midband :       A = A_mid / sqrt(1+(f1/f)^2) =')"
   ]
   }
,
{
		   "cell_type": "markdown",
		   "metadata": {},
		   "source": [
			"## Example 2.3: gain_of_an_amplifier.sce"
		   ]
		  },
  {
"cell_type": "code",
	   "execution_count": null,
	   "metadata": {
	    "collapsed": true
	   },
	   "outputs": [],
"source": [
"//Example 2.3\n",
"clc\n",
"format(7)\n",
"a=200*sqrt(2)\n",
"disp(a,'We know that     A_mid = 3dB gain x sqrt(2) =')\n",
"am=282.84/(sqrt(1+(((10/2)^2))))\n",
"format(6)\n",
"disp(am,'Above midband :       A = A_mid / sqrt(1+(f1/f)^2) =')  // answer in textbook is wrong"
   ]
   }
,
{
		   "cell_type": "markdown",
		   "metadata": {},
		   "source": [
			"## Example 2.4: low_frequency_response_of_the_amplifier.sce"
		   ]
		  },
  {
"cell_type": "code",
	   "execution_count": null,
	   "metadata": {
	    "collapsed": true
	   },
	   "outputs": [],
"source": [
"//Example 2.4\n",
"clc\n",
"format(6)\n",
"disp('It is necessary to analyze each network to determine the critical frequency of the amplifier')\n",
"disp('(a) Input RC network')\n",
"fc1=1/(2*%pi*[680+1031.7]*(0.1*10^-6))\n",
"disp(fc1,'       f_c(input)(in Hz) = 1 / 2*pi*[RS+(R1||R2||hie)]C1 =')  // in Hz\n",
"disp('(b) Output RC network')\n",
"format(7)\n",
"fc2=1/(2*%pi*((2.2+10)*10^3)*(0.1*10^-6))\n",
"disp(fc2,'       f_c(output)(in Hz) = 1 / 2*pi*(RC+RL)*C2 =')  // in Hz\n",
"disp('(c) Bypass RC network')\n",
"rth=((68*22*0.680)/((22*0.680)+(68*0.680)+(68*22)))*10^3\n",
"disp(rth,'R_th(in ohm) = R1 || R2 || RS =')\n",
"format(6)\n",
"fc3=1/(2*%pi*17.23*10*10^-6)\n",
"disp(fc3,'       f_c(bypass)(in Hz) = 1 / 2*pi*[(R_th+hie/beta)||RE]*CE')\n",
"disp('We have calculated all the three critical frequencies :')\n",
"disp('(a) fc(input) = 929.8 Hz')\n",
"disp('(b) fc(output) = 130.45 Hz')\n",
"disp('(c) fc(bypass) = 923.7 Hz')"
   ]
   }
,
{
		   "cell_type": "markdown",
		   "metadata": {},
		   "source": [
			"## Example 2.5: low_frequency_response_of_the_FET_amplifier.sce"
		   ]
		  },
  {
"cell_type": "code",
	   "execution_count": null,
	   "metadata": {
	    "collapsed": true
	   },
	   "outputs": [],
"source": [
"//Example 2.5\n",
"clc\n",
"disp('It is necessary to analyze each network to determine the critical frequency of the amplifier')\n",
"disp('(a) Input RC Network')\n",
"disp('       fc = 1 / 2*pi*R_in*C1')\n",
"format(6)\n",
"rin=(100*100)/(100+100)\n",
"disp(rin,'where  R_in(in M-ohm) = RG || R_in(gate) = RG || |VGS/IGSS| =')\n",
"format(5)\n",
"fc1=1/(2*%pi*50*10^6*0.001*10^-6)\n",
"disp(fc1,'Therefore,  fc(in Hz) =')\n",
"disp('(b) Output RC Network')\n",
"format(6)\n",
"fc2=1/(2*%pi*(24.2*10^3)*(1*10^-6))\n",
"disp(fc2,'       fc(in Hz) = 1 / 2*pi*(RD+RL)*C2 =')\n",
"disp('We have calculated two critical frequencies')\n",
"disp('(a) fc(input) = 3.18 Hz')\n",
"disp('(b) fc(output) = 6.577 Hz')"
   ]
   }
,
{
		   "cell_type": "markdown",
		   "metadata": {},
		   "source": [
			"## Example 2.6: high_frequency_response_of_the_amplifier.sce"
		   ]
		  },
  {
"cell_type": "code",
	   "execution_count": null,
	   "metadata": {
	    "collapsed": true
	   },
	   "outputs": [],
"source": [
"//Example 2.6\n",
"clc\n",
"disp('Before calculating critical frequencies it is necessary to calculate mid frequency gain of the given circuit. This is required tocalculate C_in(miller) and C_out(miller)')\n",
"disp('       Av = -hfe*Ro / Ri')\n",
"disp('where  Ri = hie || R1 || R2')\n",
"disp('and    Ro = RC || RL')\n",
"format(6)\n",
"av=(-100*1.8)/1.032\n",
"disp(av,'Therefore,  Av = -hfe(RC||RL) / hie||R1||R2 =')\n",
"disp('Negative sign indicates 180 degree shift between input and output')\n",
"format(7)\n",
"cin=(4*(174.4+1))*10^-3  // in nF\n",
"disp(cin,'    C_in(miller)(in nF) = C_bc*(Av+1) =')\n",
"cout=(4*175.4)/(174.4)  // in pF\n",
"format(4)\n",
"disp(cout,'    C_out(miller)(in pF) = C_bc*(Av+1) / Av =')\n",
"disp('We now analyze input and output network for critical frequency.')\n",
"format(8)\n",
"fci=(1/(2*%pi*410*0.7216*10^-9))*10^-3  // in kHz\n",
"disp(fci,'    f_c(input)(in kHz) = 1 / 2*pi*(Rs||R1||R2||hie)*(C_be+C_in(miller)) =')\n",
"format(5)\n",
"fco=(1/(2*%pi*((22*10^6)/(12.2*10^3))*(4*10^-12)))*10^-6  // in MHz\n",
"disp(fco,'    f_c(output)(in MHz) = 1 / 2*pi*(RC||RL)*C_out(miller) =')\n",
"disp('We have calculated both the critical frequencies')\n",
"disp('(a) f_c(input) = 537.947 kHz')\n",
"disp('(b) f_c(output) = 22.1 MHz')"
   ]
   }
,
{
		   "cell_type": "markdown",
		   "metadata": {},
		   "source": [
			"## Example 2.7: high_frequency_response_of_the_amplifier.sce"
		   ]
		  },
  {
"cell_type": "code",
	   "execution_count": null,
	   "metadata": {
	    "collapsed": true
	   },
	   "outputs": [],
"source": [
"//Example 2.7\n",
"clc\n",
"disp('Before calculating critical frequencies it is necessary to calculate mid frequency gain of the given amplifier circuit. This is required to calculate C_in(miller) and C_out(miller)')\n",
"disp('      Av = -gm * RD')\n",
"disp('Here, RD should br replaced by RD || RL')\n",
"av=-6*2\n",
"disp(av,'Therefore,    Av = -gm*(RD||RL) =')\n",
"cin=2*(12+1)  // in pF\n",
"disp(cin,'C_in(miller)(in pF) = C_gd*(Av+1) = C_rss*(Av+1) =')\n",
"format(6)\n",
"cout=(2*13)/12  // in pF\n",
"disp(cout,'C_out(miller)(in pF) = C_gd*(Av+1) / Av = ')\n",
"disp('G_gs = C_iss - C_rss = 4 pF')\n",
"disp('We know analyze input and output network for critical frequency')\n",
"disp('    f_c(input) = 1 / 2*pi*RS*CT')\n",
"disp('               = 1 / 2*pi*RS*[C_gs+C_in(miller)]')\n",
"format(4)\n",
"fc1=(1/(2*%pi*100*30*10^-12))*10^-6  // in MHz\n",
"disp(fc1,'    f_c(input)(in MHz)= ')\n",
"fc2=(1/(2*%pi*((48.4*10^6)/(24.2*10^3))*(2.166*10^-12)))*10^-6  // in MHz\n",
"format(6)\n",
"disp(fc2,'    f_c(output)(in MHz) = 1 / 2*pi*(RD||RL)*C_out(miller) =')\n",
"disp('We have calculated both the critical frequencies :')\n",
"disp('(a) f_c(input) = 53 MHz')\n",
"disp('(b) f_c(output) = 36.74 MHz')"
   ]
   }
],
"metadata": {
		  "kernelspec": {
		   "display_name": "Scilab",
		   "language": "scilab",
		   "name": "scilab"
		  },
		  "language_info": {
		   "file_extension": ".sce",
		   "help_links": [
			{
			 "text": "MetaKernel Magics",
			 "url": "https://github.com/calysto/metakernel/blob/master/metakernel/magics/README.md"
			}
		   ],
		   "mimetype": "text/x-octave",
		   "name": "scilab",
		   "version": "0.7.1"
		  }
		 },
		 "nbformat": 4,
		 "nbformat_minor": 0
}
