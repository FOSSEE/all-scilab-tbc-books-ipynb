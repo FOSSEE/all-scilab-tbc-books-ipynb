{
"cells": [
 {
		   "cell_type": "markdown",
	   "metadata": {},
	   "source": [
       "# Chapter 13: Heat Transfer between Fluidized Beds and Surfaces"
	   ]
	},
{
		   "cell_type": "markdown",
		   "metadata": {},
		   "source": [
			"## Example 13.1: h_on_a_Horizontal_Tube_Bank.sce"
		   ]
		  },
  {
"cell_type": "code",
	   "execution_count": null,
	   "metadata": {
	    "collapsed": true
	   },
	   "outputs": [],
"source": [
"//Kunii D., Levenspiel O., 1991. Fluidization Engineering(II Edition). Butterworth-Heinemann, MA, pp 491\n",
"\n",
"//Chapter-13, Example 1, Page 331\n",
"//Title: h on a Horizontal Tube Bank\n",
"//==========================================================================================================\n",
"\n",
"clear\n",
"clc\n",
"\n",
"//INPUT\n",
"dp=57;//Particle size in micrometer\n",
"rhos=940;//Density of solids in kg/m^3\n",
"Cps=828;//Specific heat capacity of the solid in J/kg K\n",
"ks=0.20;//Thermal conductivity of solids in W/m k\n",
"kg=0.035;//Thermal concuctivity of gas in W/m k\n",
"umf=0.006;//Velocity at minimum fluidization condition in m/s\n",
"ephsilonmf=0.476;//Void fraction at minimum fluidization condition\n",
"do1=0.0254;//Outside diameter of tube in m\n",
"L=1;\n",
"uo=[0.05;0.1;0.2;0.35];//Superficial gas velocity in m/s\n",
"nw=[2;3.1;3.4;3.5];//Bubble frequency in s^-1\n",
"g=9.81;//Acceleration due to gravity in square m/s^2\n",
"\n",
"\n",
"//CALCULATION\n",
"dte=4*do1*L/2*L;//Hydraulic diameter from Eqn.(6.13)\n",
"db=(1+1.5)*0.5*dte;//Rise velocity of the bubble\n",
"ubr=0.711*(g*db)^0.5;//Rise velocity of bubble from Eqn.(6.7)\n",
"phib=0.19;//From Fig.(15) for ks/kg=5.7\n",
"ke=ephsilonmf*kg+(1-ephsilonmf)*ks*[1/((phib*(ks/kg))+(2/3))];//Effective thermal conductivity of bed from Eqn.(3) \n",
"n=length(uo);\n",
"i=1;\n",
"while i<=n\n",
"    ub(i)=uo(i)-umf+ubr;//Velocity of bubbles in bubbling beds in Eqn.(6.8)\n",
"    delta(i)=uo(i)/ub(i);//Fraction of bed in bubbles from Eqn.(6.29)\n",
"    h(i)=1.13*[ke*rhos*(1-ephsilonmf)*Cps*nw(i)*(1-delta(i))]^0.5;//Heat transfer coefficinet from Eqn.(18)\n",
"    i=i+1;\n",
"end    \n",
"\n",
"//OUTPUT\n",
"printf('\nSuperficial gas velocity(m/s)');\n",
"printf('\tHeat transfer coefficient(W/m^2 k)');\n",
"i=1;\n",
"while i<=n\n",
"    mprintf('\n%f',uo(i));\n",
"    mprintf('\t\t\t%f',h(i));\n",
"    i=i+1;\n",
"end\n",
"\n",
"//====================================END OF PROGRAM ======================================================"
   ]
   }
,
{
		   "cell_type": "markdown",
		   "metadata": {},
		   "source": [
			"## Example 13.2: Effect_of_Gas_Properties_on_h.sce"
		   ]
		  },
  {
"cell_type": "code",
	   "execution_count": null,
	   "metadata": {
	    "collapsed": true
	   },
	   "outputs": [],
"source": [
"//Kunii D., Levenspiel O., 1991. Fluidization Engineering(II Edition). Butterworth-Heinemann, MA, pp 491\n",
"\n",
"//Chapter-13, Example 2, Page 332\n",
"//Title: Effect of Gas Properties on h\n",
"//==========================================================================================================\n",
"\n",
"clear\n",
"clc\n",
"\n",
"//INPUT\n",
"dp=80;//Particle size in micrometer\n",
"rhos=2550;//Density of solids in kg/m^3\n",
"Cps=756;//Specific heat capacity of the solid in J/kg K\n",
"ks=1.21;//Thermal conductivity of solids in W/m k\n",
"kg=[0.005;0.02;0.2];//Thermal concuctivity of gas in W/m k\n",
"ephsilonmf=0.476;//Void fraction at minimum fluidization condition\n",
"\n",
"//CALCULATION\n",
"delta=0.5*(0.1+0.3);//For a gently fluidized bed\n",
"nw=3;//Bubble frequency in s^-1 from Fig.(5.12) at about 30cm above the distributor\n",
"n=length(kg);\n",
"i=1;\n",
"while i<=n\n",
"    x(i)=ks/kg(i);//To find different values of ks/kg\n",
"    i=i+1;\n",
"end\n",
"phib=[0.08;0.10;0.20];//From Fig.(15) for different values of ks/kg\n",
"i=1;\n",
"while i<=n\n",
"    ke(i)=ephsilonmf*kg(i)+(1-ephsilonmf)*ks*[1/((phib(i)*(ks/kg(i)))+(2/3))];//Effective thermal conductivity of bed from Eqn.(3)\n",
"    h1(i)=1.13*[ke(i)*rhos*(1-ephsilonmf)*Cps*nw*(1-delta)]^0.5;//Heat transfer coefficinet from Eqn.(18)\n",
"    i=i+1;\n",
"end\n",
"\n",
"//OUTPUT\n",
"printf('\nThermal conductivity of Gas(W/m K))');\n",
"printf('\tMax. heat transfer coefficient(W/m^2 k)');\n",
"i=1;\n",
"while i<=n\n",
"    mprintf('\n%f',kg(i));\n",
"    mprintf('\t\t\t\t%f',h1(i));\n",
"    i=i+1;\n",
"end\n",
"\n",
"//====================================END OF PROGRAM ======================================================"
   ]
   }
,
{
		   "cell_type": "markdown",
		   "metadata": {},
		   "source": [
			"## Example 13.3: Effect_of_Particle_Size_on_h.sce"
		   ]
		  },
  {
"cell_type": "code",
	   "execution_count": null,
	   "metadata": {
	    "collapsed": true
	   },
	   "outputs": [],
"source": [
"//Kunii D., Levenspiel O., 1991. Fluidization Engineering(II Edition). Butterworth-Heinemann, MA, pp 491\n",
"\n",
"//Chapter-13, Example 3, Page 332\n",
"//Title: Effect of Particle Size on h\n",
"//==========================================================================================================\n",
"\n",
"clear\n",
"clc\n",
"\n",
"//INPUT\n",
"rhos=2700;//Density of solids in kg/m^3\n",
"Cps=755;//Specific heat capacity of the solid in J/kg K\n",
"ks=1.2;//Thermal conductivity of solids in W/m k\n",
"kg=0.028;//Thermal concuctivity of gas in W/m k\n",
"ephsilonmf=0.476;//Void fraction at minimum fluidization condition\n",
"dp1=10E-3;//Particle size for which h=hmax in m\n",
"hmax=250;//Max. heat transfer coefficient in W/m^2 K \n",
"nw=5;//Bubble frequency in s^-1\n",
"delta=0.1;//Fraction of bed in bubbles\n",
"deltaw=0.1;//Fraction of bed in bubbles in wall region\n",
"dp=2E-3;//Diameter of particle in m\n",
"\n",
"//CALCULATION\n",
"x=ks/kg;\n",
"phib=0.11;\n",
"phiw=0.17;\n",
"ke=ephsilonmf*kg+(1-ephsilonmf)*ks*[1/((phib*(ks/kg))+(2/3))];//Effective thermal conductivity of bed from Eqn.(3)\n",
"hpacket=1.13*[ke*rhos*(1-ephsilonmf)*Cps*nw/(1-deltaw)]^0.5;//Heat transfer coefficient for the packet of emulsion from Eqn.(11)\n",
"ephsilonw=ephsilonmf;//Void fraction in the wall region\n",
"kew=ephsilonw*kg+(1-ephsilonw)*ks*[(phiw*(ks/kg)+(1/3))^-1];//Effective thermal conductivity in the wall region with stagnant gas from Eqn.(4)\n",
"y=(2*kew/dp1)+(hmax*hpacket)/(((1-deltaw)*hpacket)-hmax);//Calculating the term alphaw*Cpg*rhog*uo from Eqn.(16) by rearranging it\n",
"h=(1-deltaw)/((2*kew/dp+y*(dp/dp1)^0.5)^-1+hpacket^-1);//Heat transfer coeeficient from Eqn.(11) by using the value of y \n",
"\n",
"//OUTPUT\n",
"mprintf('\nThe heat transfer coefficient for paricle size of %fm = %fW/m^2 K',dp,h);\n",
"\n",
"//====================================END OF PROGRAM ======================================================"
   ]
   }
,
{
		   "cell_type": "markdown",
		   "metadata": {},
		   "source": [
			"## Example 13.4: Freeboard_Heat_Exchange.sce"
		   ]
		  },
  {
"cell_type": "code",
	   "execution_count": null,
	   "metadata": {
	    "collapsed": true
	   },
	   "outputs": [],
"source": [
"//Kunii D., Levenspiel O., 1991. Fluidization Engineering(II Edition). Butterworth-Heinemann, MA, pp 491\n",
"\n",
"//Chapter-13, Example 4, Page 334\n",
"//Title: Freeboard Heat Exchange\n",
"//==========================================================================================================\n",
"\n",
"clear\n",
"clc\n",
"\n",
"//INPUT\n",
"Hf=4;//Height of freeboard in m\n",
"uo=2.4;//Superficial gas velocity in m/s\n",
"ho=350;//Heat transfer coefficient at the bottom of freeboard region in W/m^2 K\n",
"hg=20;//Heat transfer coefficient in equivalent gas stream, but free of solids in W/m^2 K\n",
"\n",
"//CALCULATION\n",
"zf=[0;0.5;1;1.5;2;2.5;3;3.5;Hf];//Height above the top of the dense bubbling fluidized bed\n",
"hr=0;//Assuming heat transfer due to radiation is negligible\n",
"a=1.5/uo;//Since decay coefficient from Fig.(7.12), a*uo=1.5s^-1 \n",
"n=length(zf);\n",
"i=1;\n",
"while i<=n\n",
"    h(i)=(hr+hg)+(ho-hr-hg)*exp(-a*zf(i)/2);//Heat transfer coefficient from Eqn.(24) for zf=Hf\n",
"    i=i+1;\n",
"end    \n",
"hbar=(hr+hg)+2*(ho-hr-hg)*(1-exp(-a*Hf/2))/(a*Hf);//Mean heat transfer coefficient for the 4-m high freeboard from Eqn.(26)\n",
"\n",
"//OUTPUT\n",
"printf('\nThe required relationship is h(W/m^2 K) vs. zf(m) as in Fig.(9a)');\n",
"printf('\nHeight above the dense bubbling fluidized bed(m))');\n",
"printf('\tHeat transfer coefficient(W/m^2 k)');\n",
"i=1;\n",
"while i<=n\n",
"    mprintf('\n%f',zf(i));\n",
"    mprintf('\t\t\t\t\t\t%f',h(i));\n",
"    i=i+1;\n",
"end\n",
"mprintf('\n\nThe mean heat transfer coefficient for the 4-m high freeboard =%fW/m^2 K',hbar);\n",
"\n",
"//====================================END OF PROGRAM ======================================================"
   ]
   }
],
"metadata": {
		  "kernelspec": {
		   "display_name": "Scilab",
		   "language": "scilab",
		   "name": "scilab"
		  },
		  "language_info": {
		   "file_extension": ".sce",
		   "help_links": [
			{
			 "text": "MetaKernel Magics",
			 "url": "https://github.com/calysto/metakernel/blob/master/metakernel/magics/README.md"
			}
		   ],
		   "mimetype": "text/x-octave",
		   "name": "scilab",
		   "version": "0.7.1"
		  }
		 },
		 "nbformat": 4,
		 "nbformat_minor": 0
}
