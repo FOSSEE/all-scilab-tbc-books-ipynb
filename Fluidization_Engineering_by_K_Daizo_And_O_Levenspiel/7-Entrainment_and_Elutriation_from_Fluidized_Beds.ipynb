{
"cells": [
 {
		   "cell_type": "markdown",
	   "metadata": {},
	   "source": [
       "# Chapter 7: Entrainment and Elutriation from Fluidized Beds"
	   ]
	},
{
		   "cell_type": "markdown",
		   "metadata": {},
		   "source": [
			"## Example 7.1: Entrainment_from_fine_particle_beds_with_high_freeboard.sce"
		   ]
		  },
  {
"cell_type": "code",
	   "execution_count": null,
	   "metadata": {
	    "collapsed": true
	   },
	   "outputs": [],
"source": [
"//Kunii D., Levenspiel O., 1991. Fluidization Engineering(II Edition). Butterworth-Heinemann, MA, pp 491\n",
"\n",
"//Chapter-7, Example 1, Page 179\n",
"//Title: Entrainment from Fine Particle Beds with High Freeboard\n",
"//==========================================================================================================\n",
"clear\n",
"clc\n",
"\n",
"//INPUT\n",
"rhog=5.51;//Density of gas in kg/m^3\n",
"rhos=1200;//Density of solid in kg/m^3\n",
"dpbar=130;//Average size of particles in micrometer\n",
"uo=0.61;//Superficial gas velocity in m/s\n",
"g=9.80;//Acceleration due to gravity in m/s^2\n",
"\n",
"//CALCULATION\n",
"//Assuming that freeboard in higher than TDH, computation of entrainment rate by Zenz & Weil's method\n",
"x=(uo^2)/(g*(dpbar*10^-6)*rhos^2);//Calculation of value of x-axis for Fig.(6), page 175\n",
"y=1.2;// Value of y-axis from Fig.(6)\n",
"Gsstar=y*rhog*uo;//Computation of rate of entrainment\n",
"\n",
"//OUTPUT\n",
"mprintf('\nRate of entrainment=%fkg/m^2s',Gsstar);\n",
"\n",
"//====================================END OF PROGRAM ======================================================"
   ]
   }
,
{
		   "cell_type": "markdown",
		   "metadata": {},
		   "source": [
			"## Example 7.2: Entrainment_from_large_particle_beds_with_high_freeboard.sce"
		   ]
		  },
  {
"cell_type": "code",
	   "execution_count": null,
	   "metadata": {
	    "collapsed": true
	   },
	   "outputs": [],
"source": [
"//Kunii D., Levenspiel O., 1991. Fluidization Engineering(II Edition). Butterworth-Heinemann, MA, pp 491\n",
"\n",
"//Chapter-7, Example 2, Page 180\n",
"//Title: Entrainment from Large Particle Beds with High Freeboard\n",
"//==========================================================================================================\n",
"clear\n",
"clc\n",
"\n",
"//INPUT\n",
"x=0.2;//Fraction of fines in the bed\n",
"Gsstar=4.033320//Rate of entrainment in kg/m^2s(from Exa.1)\n",
"\n",
"//CALCULATION\n",
"Gsstar1=x*Gsstar;//Rate of entrainment by Eqn.(3)\n",
"\n",
"//OUTPUT\n",
"mprintf('\nRate of entrainment=%fkg/m^2s',Gsstar1);\n",
"\n",
"//====================================END OF PROGRAM ===================================================="
   ]
   }
,
{
		   "cell_type": "markdown",
		   "metadata": {},
		   "source": [
			"## Example 7.3: Entrainment_from_beds_with_a_wide_size_distribution_of_solids.sce"
		   ]
		  },
  {
"cell_type": "code",
	   "execution_count": null,
	   "metadata": {
	    "collapsed": true
	   },
	   "outputs": [],
"source": [
"//Kunii D., Levenspiel O., 1991. Fluidization Engineering(II Edition). Butterworth-Heinemann, MA, pp 491\n",
"\n",
"//Chapter-7, Example 3, Page 181\n",
"//Title: Entrainment from Beds with a Wide Size Distribution of Solids\n",
"//==========================================================================================================\n",
"clear\n",
"clc\n",
"\n",
"//INPUT\n",
"rhog=5.51;//Density of gas in kg/m^3\n",
"rhos=1200;//Density of solid in kg/m^3\n",
"uo=0.61;//Superficial gas velocity in m/s\n",
"g=9.80;//Acceleration due to gravity in m/s^2\n",
"dp=[10;30;50;70;90;110;130];//Diameter of particle in micrometer\n",
"p=[0;0.0110;0.0179;0.0130;0.0058;0.0020;0];\n",
"pi=3.142857;\n",
"dt=6;\n",
"\n",
"//CALCULATION\n",
"n=length(dp);\n",
"i=1;\n",
"while i<=n\n",
"    x(i)=(uo^2)/(g*(dp(i)*10^-6)*rhos^2);//Computation of value of x-axis for Fig.(6), page 175)\n",
"    i=i+1;\n",
"end\n",
"y=[40;12;6;3.2;2.;1.3;1];//Value of y-axis corresponding to each value of x-axis\n",
"y1 = y .* p;\n",
"i=1;\n",
"k=0;\n",
"while i<n\n",
"    y1(i)=(y(i)*p(i));\n",
"    k=k+((0.5)*(dp(i+1)-dp(i))*(y1(i+1)+y1(i)));//Integration using Trapezoidal rule\n",
"    i=i+1;\n",
"end\n",
"rhosbar=k*rhog;//Computation of solid loading\n",
"te=(pi/4)*(dt^2)*rhosbar*uo;//Computation of total entrainment\n",
"\n",
"//OUTPUT\n",
"mprintf('\nSolid loading =%fkg/m^3',rhosbar);\n",
"mprintf('\nTotal Entrainment =%fkg/s',te);\n",
"\n",
"//====================================END OF PROGRAM ======================================================"
   ]
   }
,
{
		   "cell_type": "markdown",
		   "metadata": {},
		   "source": [
			"## Example 7.4: kstar_from_steady_state_experiments.sce"
		   ]
		  },
  {
"cell_type": "code",
	   "execution_count": null,
	   "metadata": {
	    "collapsed": true
	   },
	   "outputs": [],
"source": [
"//Kunii D., Levenspiel O., 1991. Fluidization Engineering(II Edition). Butterworth-Heinemann, MA, pp 491\n",
"\n",
"//Chapter-7, Example 4, Page 181\n",
"//Title: k* from Steady State Experiments\n",
"//==========================================================================================================\n",
"clear\n",
"clc\n",
"\n",
"//INPUT\n",
"dp=[40;60;80;100;120];//Diameter of particle in micrometer\n",
"uo=0.381;//Superficial gas velocity in m/s\n",
"\n",
"//CALCULATION\n",
"Gs=0.9;//Rate of entrainment in kg/m^2 s from Fig.3(a)\n",
"pb=(1/100)*[0.45;1.00;1.25;1.00;0.60];//Size distribution for bed particles from Fig.3(b)\n",
"pe=(1/100)*[1.20;2.00;1.25;0.45;0.10];//Size distribution for entrained particles from Fig.3(b)\n",
"n=length(dp);\n",
"i=1;\n",
"while i<=n\n",
"    ki(i)=(Gs*pe(i))/pb(i);//Calculation of ki* using Eqn.(13)\n",
"    i=i+1;\n",
"end\n",
"\n",
"//OUTPUT\n",
"printf('\ndpi(micrometer)');\n",
"printf('\t100pb(dpi)(micrometer^-1)');\n",
"printf('\t100pe(dpi)(micrometer^-1)');\n",
"printf('\tki*(kg/m^2 s)');\n",
"j=1;\n",
"while j<=n\n",
"    mprintf('\n%f',dp(j));\n",
"    mprintf('\t%f',100*pb(j));\n",
"    mprintf('\t\t\t%f',100*pe(j));\n",
"    mprintf('\t\t\t%f',ki(j));    \n",
"    j=j+1;\n",
"end\n",
"\n",
"//====================================END OF PROGRAM ======================================================"
   ]
   }
,
{
		   "cell_type": "markdown",
		   "metadata": {},
		   "source": [
			"## Example 7.5: Comparing_predictions_for_kstar.sce"
		   ]
		  },
  {
"cell_type": "code",
	   "execution_count": null,
	   "metadata": {
	    "collapsed": true
	   },
	   "outputs": [],
"source": [
"//Kunii D., Levenspiel O., 1991. Fluidization Engineering(II Edition). Butterworth-Heinemann, MA, pp 491\n",
"\n",
"//Chapter-7, Example 5, Page 181\n",
"//Title: Comparing Predictions for k*\n",
"//==========================================================================================================\n",
"clear\n",
"clc\n",
"\n",
"//INPUT\n",
"rhog=1.217;//Density of gas in kg/m^3\n",
"myu=1.8E-5;//Viscosity of gas in kg/m s\n",
"umf=0.11;//Velocity at minimum fluidization condition in m/s\n",
"rhos=2000;//Density of solid in kg/m^3\n",
"uo=1.0;//Superficial gas velocity in m/s\n",
"g=9.80;//Acceleration due to gravity in m/s^2\n",
"dp=[30;40;50;60;80;100;120];//Diameter of particle in micrometer\n",
"uti=[0.066;0.115;0.175;0.240;0.385;0.555;1.0];//Terminal velocity of particles in m/s\n",
"\n",
"//CALCULATION\n",
"n=length(dp);\n",
"i=1;\n",
"while i<=n\n",
"    //Using Yagi & Aochi's correlation\n",
"    Ret(i)=(rhog*(uti(i))*dp(i)*10^-6)/myu;\n",
"    kistar1(i)=((myu*((uo-uti(i))^2))/(g*(dp(i)*10^-6)^2))*(0.0015*(Ret(i)^0.5)+(0.01*(Ret(i)^1.2)));\n",
"    //Using Wen & Hasinger's correlation\n",
"    kistar2(i)=(((1.52E-5)*((uo-uti(i))^2)*rhog)/(g*dp(i)*10^-6)^0.5)*(Ret(i)^0.725)*((rhos-rhog)/rhog)^1.15;\n",
"    //Using Merrick & Highley's correlation\n",
"    kistar3(i)=uo*rhog*(0.0001+130*exp(-10.4*((uti(i)/uo)^0.5)*((umf/(uo-umf))^0.25)));\n",
"    //Using Geldart's correlation\n",
"    kistar4(i)=23.7*uo*rhog*exp(-5.4*(uti(i)/uo));\n",
"    //Using Zenz & Weil's procedure\n",
"    x1(i)=(uo^2)/(g*(dp(i)*10^-6)*rhos^2);//Computation of value of x-axis for Fig.(6), page 175)\n",
"    y1=[12.2;8.6;6.4;4.9;2.75;1.8;1.2];//Value of y-axis corresponding to each value of x-axis\n",
"    kistar5(i)=y1(i)*rhog*uo;\n",
"    //Using Gugnoni & Zenz's procedure\n",
"    x2(i)=(uo-uti(i))/((g*dp(i)*10^-6)^0.5);//Computation of value of x-axis for Fig.(6), page 175)\n",
"    y=[5.8;5.4;3.2;2.8;1.3;0.6;0];//Value of y-axis corresponding to each value of x-axis\n",
"    kistar6(i)=y(i)*rhog*uo;\n",
"    i=i+1;\n",
"end\n",
"\n",
"i=1;\n",
"printf('dp(micrometer)');\n",
"printf('\tYagi & Aochi');\n",
"printf('\tWen & Hashinger');\n",
"printf('\t\tMerrick & Highley');\n",
"printf('\tGeldart et al.');\n",
"printf('\t\tZenz & Well');\n",
"printf('\t\tGugnoni & Zenz');\n",
"while i<=n\n",
"    mprintf('\n%f',dp(i));\n",
"    mprintf('\t%f',kistar1(i));  \n",
"    mprintf('\t%f',kistar2(i));\n",
"    mprintf('\t\t%f',kistar3(i));\n",
"    mprintf('\t\t%f',kistar4(i));\n",
"    mprintf('\t\t%f',kistar5(i));\n",
"    mprintf('\t\t%f',kistar6(i));\n",
"    i=i+1;\n",
"end    \n",
"\n",
"//Note: There is huge deviation of the calculated answer and the answer given in the textbook for the correlation of Merrick & Highley.  There is a contradiction in the correlation used in the problem and the one given in page 179. \n",
"//We tried to retrieve the original paper i.e. D.Merrick and J.Highley, AICHE J., 6, 220(1960). But the effort was not fruitful.\n",
"\n",
"//====================================END OF PROGRAM ===================================================="
   ]
   }
,
{
		   "cell_type": "markdown",
		   "metadata": {},
		   "source": [
			"## Example 7.6: Entrainment_from_a_short_vessel.sce"
		   ]
		  },
  {
"cell_type": "code",
	   "execution_count": null,
	   "metadata": {
	    "collapsed": true
	   },
	   "outputs": [],
"source": [
"//Kunii D., Levenspiel O., 1991. Fluidization Engineering(II Edition). Butterworth-Heinemann, MA, pp 491\n",
"\n",
"//Chapter-7, Example 6, Page 190\n",
"//Title: Entrainment from a Short Vessel Ht<TDH\n",
"//==========================================================================================================\n",
"clear\n",
"clc\n",
"\n",
"//INPUT\n",
"dpbar=60;//Average size of particles in micrometer\n",
"rhog=1.3;//Density of gas in kg/m^3\n",
"rhos=1500;//Density of solid in kg/m^3\n",
"umf=0.003;//Velocity at minimum fluidization condition in m/s\n",
"uo=0.503;//Superficial gas velocity in m/s\n",
"g=9.80;//Acceleration due to gravity in m/s^2\n",
"Hf=2;//Height at which the cyclone inlet is to be located in m\n",
"\n",
"//CALCULATION\n",
"y=(uo^2)/(g*(dpbar*10^-3)*rhos^2);//Calculation of value of y-axis for Fig.(6), page 175\n",
"x=1;//Value of x-axis from Fig.(6), page 175\n",
"Gsstar=x*rhog*uo;//Computation of rate of entrainment\n",
"Gsuo=5.0;//Ejection rate pf particles in kg/m^2 s from Fig.(11), page 188\n",
"a=0.72/uo;//From Fig.(12), page 189\n",
"Gs=Gsstar+(Gsuo-Gsstar)*exp(-a*Hf);\n",
"p=((Gs-Gsstar)/Gsstar)*100;\n",
"\n",
"//OUTPUT\n",
"mprintf('\nRate of entrainment from short bed=%fkg/m^2s',Gs);\n",
"mprintf('\nThis entrainment is %f percent higher than it would be if the gas exit were at the TDH',p);\n",
"\n",
"//====================================END OF PROGRAM ===================================================="
   ]
   }
],
"metadata": {
		  "kernelspec": {
		   "display_name": "Scilab",
		   "language": "scilab",
		   "name": "scilab"
		  },
		  "language_info": {
		   "file_extension": ".sce",
		   "help_links": [
			{
			 "text": "MetaKernel Magics",
			 "url": "https://github.com/calysto/metakernel/blob/master/metakernel/magics/README.md"
			}
		   ],
		   "mimetype": "text/x-octave",
		   "name": "scilab",
		   "version": "0.7.1"
		  }
		 },
		 "nbformat": 4,
		 "nbformat_minor": 0
}
