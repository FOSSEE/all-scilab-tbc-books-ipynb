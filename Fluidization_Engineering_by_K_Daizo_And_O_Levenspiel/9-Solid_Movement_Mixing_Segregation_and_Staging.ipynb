{
"cells": [
 {
		   "cell_type": "markdown",
	   "metadata": {},
	   "source": [
       "# Chapter 9: Solid Movement Mixing Segregation and Staging"
	   ]
	},
{
		   "cell_type": "markdown",
		   "metadata": {},
		   "source": [
			"## Example 9.1: Vertical_Movement_of_Solids.sce"
		   ]
		  },
  {
"cell_type": "code",
	   "execution_count": null,
	   "metadata": {
	    "collapsed": true
	   },
	   "outputs": [],
"source": [
"//Kunii D., Levenspiel O., 1991. Fluidization Engineering(II Edition). Butterworth-Heinemann, MA, pp 491\n",
"\n",
"//Chapter-9, Example 1, Page 218\n",
"//Title: Vertical Movement of Solids\n",
"//==========================================================================================================\n",
"\n",
"clear\n",
"clc\n",
"\n",
"//INPUT\n",
"umf=0.015;//Velocity at minimum fluidization condition in m/s\n",
"ephsilonmf=0.5;//Void fraction at minimum fluidization condition\n",
"uo=0.1;//Superficial gas velocity in m/s\n",
"delta=0.2;//Bed fraction in bubbles\n",
"db=0.06;//Equilibrium bubble size in m\n",
"dt=[0.1;0.3;0.6;1.5];//Various vessel sizes in m\n",
"ub=[0.4;0.75;0.85;1.1];//Bubble velocity in m/s\n",
"Dsv=[0.03;0.11;0.14;0.23];//Reported values of vertical dispersion coefficient\n",
"\n",
"//CALCULATION\n",
"n=length(ub);\n",
"i=1;\n",
"fw1=2;//Wake fraction from Hamilton et al.\n",
"fw2=0.32;//Wake fraction from Fig.(5.8)\n",
"fw=(fw1+fw2)*0.5;//Average value of wake fraction\n",
"while i<=n\n",
"    Dsv1(i)=12*((uo*100)^0.5)*((dt(i)*100)^0.9);//Vertical distribution coefficient from Eqn.(3)\n",
"    Dsv2(i)=(fw^2*ephsilonmf*delta*db*ub(i)^2)/(3*umf);//Vertical distribution coefficient from Eqn.(12)\n",
"    i=i+1;\n",
"end\n",
"\n",
"//OUTPUT\n",
"printf('\n\t\tVertical dispersion coefficient(m^2/s)');\n",
"printf('\nVessel Size(m)');\n",
"printf('\tFrom Experiment');\n",
"printf('\tFrom Eqn.(3)');\n",
"printf('\tFrom Eqn.(12)');\n",
"i=1;\n",
"while i<=n\n",
"    mprintf('\n%f',dt(i));\n",
"    mprintf('\t%f',Dsv(i));\n",
"    mprintf('\t%f',Dsv1(i)/10^4);\n",
"    mprintf('\t%f',Dsv2(i));\n",
"    i=i+1;   \n",
"end\n",
"\n",
"//====================================END OF PROGRAM ======================================================"
   ]
   }
,
{
		   "cell_type": "markdown",
		   "metadata": {},
		   "source": [
			"## Example 9.2: Horizontal_Drift_Of_Solids.sce"
		   ]
		  },
  {
"cell_type": "code",
	   "execution_count": null,
	   "metadata": {
	    "collapsed": true
	   },
	   "outputs": [],
"source": [
"//Kunii D., Levenspiel O., 1991. Fluidization Engineering(II Edition). Butterworth-Heinemann, MA, pp 491\n",
"\n",
"//Chapter-9, Example 2, Page 222\n",
"//Title: Horizontal Drift Of Solids\n",
"//==========================================================================================================\n",
"\n",
"clear\n",
"clc\n",
"\n",
"//INPUT\n",
"Lmf=0.83;//Length of bed at minimum fluidization condition in m\n",
"dp=450;//Average particle size in micrometer\n",
"ephsilonmf=0.42;//Void fraction at minimum fluidization condition\n",
"umf=0.17;//Velocity at minimum fluidization condition in m/s\n",
"uo=[0.37;0.47;0.57;0.67];//Superficial gas velocity in m/s\n",
"Dsh=[0.0012;0.0018;0.0021;0.0025];//Horizontal Drift Coefficient from Experiment in m^2/s\n",
"db=[0.10;0.14];//Equilibrium bubble size in m\n",
"g=9.81;//Acceleration due to gravity in m/s^2\n",
"\n",
"\n",
"//CALCULATION\n",
"n=length(uo);\n",
"m=length(db);\n",
"j=1;\n",
"i=1;\n",
"k=1;\n",
"alpha=0.77;//Since we are not dealing with Geldart A or AB solids\n",
"uf=umf/ephsilonmf;\n",
"for j = 1:m\n",
"        for i = 1:n\n",
"            ubr(k)=0.711*(db(j)*g)^0.5;//Rise velocity of a single bubble in m/s\n",
"            ub(k)=uo(i)-umf+ubr(k);//Rise velocity of bubbles in a bubbling bed\n",
"            delta(k)=(uo(i)-umf)/(ub(k)+umf);//Bed fraction in bubbles\n",
"            if ubr(i)>uf then Dshc(k)=(3/16)*(delta(k)/(1-delta(k)))*((alpha^2*db(j)*ubr(k)*[(((ubr(k)+2*uf)/(ubr(k)-uf))^(1/3))-1]));//Horizontal Distribution coeff. from Eqn.(14)\n",
"            else Dsh(k)=(3/16)*(delta/(1-delta))*(alpha^2*umf*db/ephsilonmf);//Horizontal Distribution coeff. from Eqn.(15)\n",
"            end\n",
"            Dshc(k)=(3/16)*(delta(k)/(1-delta(k)))*((alpha^2*db(j)*ubr(k)*[(((ubr(k)+2*uf)/(ubr(k)-uf))^(1/3))-1]));//Horizontal Distribution coeff. from Eqn.(14)\n",
"            i=i+1;\n",
"            k=k+1;\n",
"        end\n",
"    i=1;\n",
"    j=j+1;\n",
"end\n",
"\n",
"//OUTPUT\n",
"i=1;\n",
"j=1;\n",
"k=1;\n",
"while k<=m*n\n",
"    mprintf('\nSnce we do not have ub=%fm/s>>uf=%fm/s we use Eqn.(14).',ub(k),uf)\n",
"    printf('\nGas Velocity(m/s)');\n",
"    printf('\tHorizontal Drift Coefficient Calculated(m^2/s)');\n",
"    printf('\tHorizontal Drift Coefficient from Experiment(m^2/s)');\n",
"    while j<=m\n",
"        mprintf('\ndb=%fm',db(j));\n",
"        while i<=n\n",
"            mprintf('\n%f',uo(i));\n",
"            mprintf('\t\t%f',Dshc(k));\n",
"            mprintf('\t\t\t\t\t%f',Dsh(i));\n",
"            i=i+1;   \n",
"            k=k+1;\n",
"        end\n",
"    i=1;\n",
"    j=j+1;\n",
"    end\n",
"end    \n",
"\n",
"//====================================END OF PROGRAM ======================================================"
   ]
   }
,
{
		   "cell_type": "markdown",
		   "metadata": {},
		   "source": [
			"## Example 9.3: Design_of_Baffle_Plates.sce"
		   ]
		  },
  {
"cell_type": "code",
	   "execution_count": null,
	   "metadata": {
	    "collapsed": true
	   },
	   "outputs": [],
"source": [
"//Kunii D., Levenspiel O., 1991. Fluidization Engineering(II Edition). Butterworth-Heinemann, MA, pp 491\n",
"\n",
"//Chapter-9, Example 3, Page 232\n",
"//Title: Design of Baffle Plates\n",
"//==========================================================================================================\n",
"\n",
"clear\n",
"clc\n",
"\n",
"//INPUT\n",
"Gsup=1.5;//Solid interchange rate in kg/m^2plate s\n",
"dor=19.1;//Orifice diameter in mm\n",
"dp=210;//Particle size in micrometer\n",
"uo=0.4;//Superficial gas velocity in m/s\n",
"fopen=[0.12;0.17;0.26];//Open area fraction \n",
"pi=3.14;\n",
"\n",
"//CALCULATION\n",
"n=length(fopen);\n",
"i=1;\n",
"while i<=n\n",
"    uor(i)=uo/fopen(i);//Gas velocity through the orifice\n",
"    ls1(i)=Gsup/fopen(i);//Flux of solids through the holes\n",
"    i=i+1;\n",
"end\n",
"ls2=[12;20;25];//Flux of solids through holes from Fig.13(c) for different uor values\n",
"fopen1=0.12;//Open area fraction which gives reasonable fit\n",
"lor=sqrt(((pi/4)*dor^2)/fopen1);//Orifice spacing\n",
"\n",
"//OUTPUT\n",
"printf('\nfopen');\n",
"printf('\t\tuor(m/s)');\n",
"printf('\tls from Eqn.(18)');\n",
"printf('\tls from Fig.13(c)');\n",
"i=1;\n",
"while i<=n\n",
"    mprintf('\n%f',fopen(i));\n",
"    mprintf('\t%f',uor(i));\n",
"    mprintf('\t%f',ls1(i));\n",
"    mprintf('\t\t%f',ls2(i));\n",
"    i=i+1;   \n",
"end\n",
"mprintf('\n\nFor square pitch, the orifice spacing should be %fmm',lor);\n",
"\n",
"//====================================END OF PROGRAM ======================================================"
   ]
   }
],
"metadata": {
		  "kernelspec": {
		   "display_name": "Scilab",
		   "language": "scilab",
		   "name": "scilab"
		  },
		  "language_info": {
		   "file_extension": ".sce",
		   "help_links": [
			{
			 "text": "MetaKernel Magics",
			 "url": "https://github.com/calysto/metakernel/blob/master/metakernel/magics/README.md"
			}
		   ],
		   "mimetype": "text/x-octave",
		   "name": "scilab",
		   "version": "0.7.1"
		  }
		 },
		 "nbformat": 4,
		 "nbformat_minor": 0
}
