{
"cells": [
 {
		   "cell_type": "markdown",
	   "metadata": {},
	   "source": [
       "# Chapter 5: Bubbles in Dense Beds"
	   ]
	},
{
		   "cell_type": "markdown",
		   "metadata": {},
		   "source": [
			"## Example 5.1: Characteristics_of_a_Singe_Bubble.sce"
		   ]
		  },
  {
"cell_type": "code",
	   "execution_count": null,
	   "metadata": {
	    "collapsed": true
	   },
	   "outputs": [],
"source": [
"//Kunii D., Levenspiel O., 1991. Fluidization Engineering(II Edition). Butterworth-Heinemann, MA, pp 491\n",
"\n",
"//Chapter-5, Example 1, Page 126\n",
"//Title: Charactersitics of a Single Bubble\n",
"//==========================================================================================================\n",
"clear\n",
"clc\n",
"\n",
"//INPUT\n",
"dt=60;//ID of tube in cm \n",
"dp=300;//Size of particles of bed in micrometers\n",
"umf=3;//Velocity at minimum fluidization condition in cm/s\n",
"ephsilonmf=0.5;//Void fraction of bed at minimum fluidization condition\n",
"db=5;//Diameter of bubble in cm\n",
"g=980;//Acceleration due to gravity in cm/s^2\n",
"\n",
"//CALCULATION\n",
"//Computation of rise velocity of bubble\n",
"if (db/dt)<0.125    then ubr=(0.711*((g*db)^0.5));//Rise velocity by Eqn.(3)\n",
"elseif (db/dt)<0.6  then ubr=(0.711*((g*db)^0.5))*1.2*exp(-1.49*(db/dt));//Rise velocity by Eqn.(4)   \n",
"end\n",
"\n",
"//Computation of cloud thickness\n",
"Rb=db/2;//Radius of bubble\n",
"uf=umf/ephsilonmf;//Velocity of emulsion gas\n",
"Rc=Rb*((ubr+(2*uf))/(ubr-uf))^(1/3);//Radius of cloud by Eqn.(6)\n",
"\n",
"//OUTPUT\n",
"mprintf('\nThe rise velocity of the bubble=%fcm/s',ubr);\n",
"mprintf('\nThe cloud thickness=%fcm',Rc-Rb);\n",
"mprintf('\nFrom Fig.8(page 124)comparing fw vs dp, for dp = %f micrometer, wake fraction = 0.24',dp);\n",
"\n",
"//====================================END OF PROGRAM ======================================================"
   ]
   }
,
{
		   "cell_type": "markdown",
		   "metadata": {},
		   "source": [
			"## Example 5.2: Initial_Bubble_Size_at_a_Distributor.sce"
		   ]
		  },
  {
"cell_type": "code",
	   "execution_count": null,
	   "metadata": {
	    "collapsed": true
	   },
	   "outputs": [],
"source": [
"//Kunii D., Levenspiel O., 1991. Fluidization Engineering(II Edition). Butterworth-Heinemann, MA, pp 491\n",
"\n",
"//Chapter-5, Example 2, Page 132\n",
"//Title: Initial Bubble Size at a Distributor\n",
"//==========================================================================================================\n",
"clear\n",
"clc\n",
"\n",
"//INPUT\n",
"uo=15;//Superificial gas velocity in cm/s\n",
"umf=1;////Velocity at minimum fluidization condition in cm/s\n",
"lor=2;//Pitch of perforated plate in cm\n",
"g=980;//Acceleration due to gravity in cm/s^2\n",
"//CALCULATION\n",
"//Case(a) For porous plate\n",
"dbo1=(2.78/g)*(uo-umf)^2;//Initial bubble size using Eqn.(19)\n",
"\n",
"//Case(b) For Perforated plate\n",
"Nor=(2/sqrt(3))*(1/lor)^2;//Number of orifices in cm^-2\n",
"dbo2=(1.30/(g^0.2))*((uo-umf)/Nor)^0.4;//Initial bubble size using Eqn.(15) assuming inital bubble size is smaller than hole spacing\n",
"\n",
"//OUTPUT\n",
"printf('\nCase(a) For porous plate');\n",
"printf('\n\tInitial bubble size=%fcm',dbo1);\n",
"printf('\nCase(b) For Perforated plate');\n",
"printf('\n\tInitial bubble size=%fcm',dbo2);\n",
"printf('\n\tSince %f<%f, the equation used is correct.',dbo2,lor);\n",
"\n",
"//====================================END OF PROGRAM ======================================================"
   ]
   }
],
"metadata": {
		  "kernelspec": {
		   "display_name": "Scilab",
		   "language": "scilab",
		   "name": "scilab"
		  },
		  "language_info": {
		   "file_extension": ".sce",
		   "help_links": [
			{
			 "text": "MetaKernel Magics",
			 "url": "https://github.com/calysto/metakernel/blob/master/metakernel/magics/README.md"
			}
		   ],
		   "mimetype": "text/x-octave",
		   "name": "scilab",
		   "version": "0.7.1"
		  }
		 },
		 "nbformat": 4,
		 "nbformat_minor": 0
}
