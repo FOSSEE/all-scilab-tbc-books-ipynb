{
"cells": [
 {
		   "cell_type": "markdown",
	   "metadata": {},
	   "source": [
       "# Chapter 11: Particle to Gas Mass and Heat Transfer"
	   ]
	},
{
		   "cell_type": "markdown",
		   "metadata": {},
		   "source": [
			"## Example 11.1: Fitting_Reported_Mass_Transfer_Data_with_the_Bubbling_Bed_Model.sce"
		   ]
		  },
  {
"cell_type": "code",
	   "execution_count": null,
	   "metadata": {
	    "collapsed": true
	   },
	   "outputs": [],
"source": [
"//Kunii D., Levenspiel O., 1991. Fluidization Engineering(II Edition). Butterworth-Heinemann, MA, pp 491\n",
"\n",
"//Chapter-11, Example 1, Page 265\n",
"//Title: Fitting Reported Mass Transfer Data with the Bubbling Bed Model\n",
"//==========================================================================================================\n",
"\n",
"clear\n",
"clc\n",
"\n",
"//INPUT\n",
"db=0.37;//Equilibrium bubble size in cm\n",
"dp=0.028;//Particle size in cm\n",
"rhos=1.06;//Density of solids in g/cc\n",
"ephsilonmf=0.5;//Void fraction at minimum fluidization condition\n",
"phis=0.4;//Sphericity of solids\n",
"gammab=0.005;//Ratio of volume of dispersed solids to that of bubble phase\n",
"rhog=1.18E-3;//Density of air in g/cc\n",
"myu=1.8E-4;//Viscosity of gas in g/cm s\n",
"D=0.065;//Diffusion coefficient of gas in cm^2/s\n",
"Sc=2.35;//Schmidt number\n",
"etad=1;//Adsorption efficiency factor\n",
"y=1;\n",
"umf=1.21;//Velocity at minimum fluidization condition in cm/s\n",
"ut=69;//Terminal velocity in cm/s\n",
"g=980;//Acceleration due to gravity in square cm/s^2\n",
"uo=[10;20;30;40;50];//Superficial gas velocity in cm/s\n",
"\n",
"//CALCULATION\n",
"n=length(uo);\n",
"i=1;\n",
"Rept=(dp*ut*rhog)/myu;\n",
"Shstar=2+(0.6*(Rept^0.5)*(Sc^(1/3)));//Sherwood no. from Eqn.(1)\n",
"Kbc=4.5*(umf/db)+5.85*((D^0.5*g^0.25)/db^(5/4));//Gas interchange coefficient between bubble and cloud from Eqn.(10.27)\n",
"ubr=0.711*(g*db)^0.5;//Rise velocity of the bubble\n",
"while i<=n\n",
"    x(i)=(uo(i)-umf)/(ubr*(1-ephsilonmf));//The term delta/(1-epshilonf) after simplification\n",
"    Shbed(i)=x(i)*[(gammab*Shstar*etad)+((phis*dp^2*y)/(6*D))*Kbc];//Sherwood no. from Eqn.(11)\n",
"    Rep(i)=(dp*uo(i)*rhog)/myu;//Reynolds of the particle\n",
"    i=i+1;\n",
"end\n",
"\n",
"//OUTPUT\n",
"printf('\nThe desired result is the relationship between Shbed and Rep  The points gives a straight line of the form y=mx+c');\n",
"printf('\nRep');\n",
"printf('\t\tShbed');\n",
"i=1;\n",
"while i<=n\n",
"    printf('\n%f',Rep(i));\n",
"    printf('\t%f',Shbed(i));\n",
"    i=i+1;\n",
"end\n",
"plot(Rep,Shbed);\n",
"xlabel('Rep');\n",
"ylabel('Shbed');\n",
"\n",
"//====================================END OF PROGRAM ======================================================"
   ]
   }
,
{
		   "cell_type": "markdown",
		   "metadata": {},
		   "source": [
			"## Example 11.2: The_Effect_of_m_on_Bubble_Emulsion_Interchange.sce"
		   ]
		  },
  {
"cell_type": "code",
	   "execution_count": null,
	   "metadata": {
	    "collapsed": true
	   },
	   "outputs": [],
"source": [
"//Kunii D., Levenspiel O., 1991. Fluidization Engineering(II Edition). Butterworth-Heinemann, MA, pp 491\n",
"\n",
"//Chapter-11, Example 2, Page 267\n",
"//Title: The Effect of m on Bubble-Emulsion Interchange\n",
"//==========================================================================================================\n",
"\n",
"clear\n",
"clc\n",
"\n",
"//INPUT\n",
"umf=0.12;//Velocity at minimum fluidization condition in cm/s\n",
"uo=40;//Superficial gas velocity in cm/s\n",
"ub=120;//Velocity of the bubble in cm/s\n",
"D=0.7;//Diffusion coefficient of gas in cm^2/s\n",
"abkbe1=1;//Bubble-emuslion interchange coefficient for non absorbing particles(m=0)\n",
"abkbe2=18;//Bubble-emuslion interchange coefficient for highly absorbing particles(m=infinity)\n",
"g=980;//Acceleration due to gravity in square cm/s^2\n",
"\n",
"//CALCULATION\n",
"//For non absorbing particles m=0,etad=0\n",
"Kbc=(ub/uo)*(abkbe1);\n",
"dbguess=2;//Guess value of db\n",
"function[fn]=solver_func(db)//Function defined for solving the system\n",
"    fn=abkbe1-(uo/ub)*(4.5*(umf/db)+5.85*(D^0.5*g^0.25)/(db^(5/4)));//Eqn.(10.27)\n",
"endfunction\n",
"[d]=fsolve(dbguess,solver_func,1E-6);//Using inbuilt function fsolve for solving Eqn.(10.27) for db\n",
"//For highly absorbing particles m=infinity, etad=1\n",
"M=abkbe2-(uo/ub)*Kbc;\n",
"//For intermediate condition\n",
"alpha=100;\n",
"m=10;\n",
"etad=1/(1+(alpha/m));//Fitted adsorption efficiency factor from Eqn.(23)\n",
"abkbe3=M*etad+(uo/ub)*Kbc;\n",
"\n",
"//OUTPUT\n",
"mprintf('\nFor non absorbing particles:\n\tDiameter of bubble=%fcm\n\tBubble-cloud interchange coefficient=%fs^-1',d,Kbc);\n",
"mprintf('\nFor highly absorbing partilces:\n\tM=%f',M);\n",
"mprintf('\nFor intermediate condition:\n\tFitted adsorption efficiency factor:%f\n\tBubble-emuslion interchange coefficient:%fs^-1',etad,abkbe3);\n",
"\n",
"//====================================END OF PROGRAM ======================================================"
   ]
   }
,
{
		   "cell_type": "markdown",
		   "metadata": {},
		   "source": [
			"## Example 11.3: Fitting_Reported_Heat_Transfer_Data_with_the_Bubbling_Bed_Model.sce"
		   ]
		  },
  {
"cell_type": "code",
	   "execution_count": null,
	   "metadata": {
	    "collapsed": true
	   },
	   "outputs": [],
"source": [
"//Kunii D., Levenspiel O., 1991. Fluidization Engineering(II Edition). Butterworth-Heinemann, MA, pp 491\n",
"\n",
"//Chapter-11, Example 3, Page 273\n",
"//Title: Fitting Reported Heat Transfer Data with the Bubbling Bed Model\n",
"//==========================================================================================================\n",
"\n",
"clear\n",
"clc\n",
"\n",
"//INPUT\n",
"rhos=1.3;//Density of solids in g/cc\n",
"phis=0.806;//Sphericity of solids\n",
"gammab=0.001;//Ratio of volume of dispersed solids to that of bubble phase\n",
"rhog=1.18E-3;//Density of air in g/cc\n",
"Pr=0.69;//Prandtl number\n",
"myu=1.8E-4;//Viscosity of gas in g/cm s\n",
"Cpg=1.00;//Specific heat capacity of gas in J/g K\n",
"ephsilonmf=0.45;//Void fraction at minimum fluidization condition\n",
"kg=2.61E-4;//Thermal concuctivity of gas in W/cm k\n",
"dp=0.036;//Particle size in cm\n",
"umf=6.5;//Velocity at minimum fluidization condition in cm/s\n",
"ut=150;//Terminal velocity in cm/s\n",
"db=0.4;//Equilibrium bubble size in cm\n",
"etah=1;//Efficiency of heat transfer\n",
"uo=[10;20;30;40;50];//Superficial gas velocity in cm/s\n",
"g=980;//Acceleration due to gravity in square cm/s^2\n",
"\n",
"//CALCULATION\n",
"Nustar=2+[((dp*ut*rhog)/myu)^0.5*Pr^(1/3)];//Nusselt no. from Eqn.(25)\n",
"Hbc=4.5*(umf*rhog*Cpg/db)+5.85*((kg*rhog*Cpg)^0.5*g^0.25/db^(5/4));//Total heat interchange across the bubble-cloud boundary from Eqn.(32)\n",
"ubr=0.711*(g*db)^0.5;//Rise velocity of the bubble from Eqn.(6.7)\n",
"n=length(uo);\n",
"i=1;\n",
"while i<=n\n",
"    x(i)=(uo(i)-umf)/(ubr*(1-ephsilonmf));//The term delta/(1-epshilonf) after simplification\n",
"    Nubed(i)=x(i)*[gammab*Nustar*etah+(phis*dp^2/(6*kg))*Hbc];//Nusselt no. from Eqn.(36)\n",
"    Rep(i)=(dp*uo(i)*rhog)/myu;//Reynolds of the particle\n",
"    i=i+1;\n",
"end\n",
"\n",
"//OUTPUT\n",
"printf('\nThe desired result is the relationship between Nubed and Rep which is in the form of a straight line y=mx+c');\n",
"printf('\nRep');\n",
"printf('\t\tNubed');\n",
"i=1;\n",
"while i<=n\n",
"    printf('\n%f',Rep(i));\n",
"    printf('\t%f',Nubed(i));\n",
"    i=i+1;\n",
"end\n",
"plot(Rep,Nubed);\n",
"xlabel('Rep');\n",
"ylabel('Nubed');\n",
" \n",
"//====================================END OF PROGRAM ======================================================"
   ]
   }
,
{
		   "cell_type": "markdown",
		   "metadata": {},
		   "source": [
			"## Example 11.4: Heating_a_Particle_in_a_Fluidized_Bed.sce"
		   ]
		  },
  {
"cell_type": "code",
	   "execution_count": null,
	   "metadata": {
	    "collapsed": true
	   },
	   "outputs": [],
"source": [
"//Kunii D., Levenspiel O., 1991. Fluidization Engineering(II Edition). Butterworth-Heinemann, MA, pp 491\n",
"\n",
"//Chapter-11, Example 4, Page 274\n",
"//Title: Heating a Particle in a Fluidized Bed\n",
"//==========================================================================================================\n",
"\n",
"clear\n",
"clc\n",
"\n",
"//INPUT\n",
"rhog=1.2;//Density of air in kg/m^3\n",
"myu=1.8E-5;//Viscosity of gas in kg/m s\n",
"kg=2.6E-2;//Thermal concuctivity of gas in W/m k\n",
"dp=1E-4;//Particle size in m\n",
"rhos=8920;//Density of solids in kg/m^3\n",
"Cps=390;//Specific heat capacity of the solid in J/kg K\n",
"ephsilonf=0.5;//Void fraction of the fluidized bed\n",
"umf=0.1;//Velocity at minimum fluidization condition in m/s\n",
"uo=0.1;//Superficial gas velocity in m/s\n",
"pi=3.14\n",
"\n",
"//CALCULATION\n",
"to=0;//Initial temperature of the bed\n",
"T=100;//Temperature of the bed\n",
"t=0.99*T;//Particle temperature i.e. when it approaches 1% of the bed temperature\n",
"mp=(pi/6)*dp^3*rhos;//Mass of the particle\n",
"A=pi*dp^2;//Surface area of the particle\n",
"Rep=(dp*uo*rhog)/myu;//Reynold's no. of the particle\n",
"Nubed=0.0178;//Nusselt no. from Fig.(6)\n",
"hbed1=(Nubed*kg)/dp;//Heat transfer coefficient of the bed\n",
"t1=(mp*Cps/(hbed1*A))*log((T-to)/(T-t));//Time needed for the particle approach 1 percentage of the bed temperature in case(a)\n",
"hbed2=140*hbed1;//Since from Fig.(6) Nup is 140 times Nubed\n",
"t2=(mp*Cps/(hbed2*A))*log((T-to)/(T-t));//Time needed for the particle approach 1 percentage of the bed temperature in case(b)\n",
"\n",
"//OUTPUT\n",
"printf('\nCase(a):Using the whole bed coefficient from Fig.(6)');\n",
"mprintf('\n\tTime needed for the particle approach 1 percentage of the bed temperature is %fs',t1);\n",
"printf('\nCase(b):Uisng the single-particle coefficient of Eqn.(25),also shown in Fig.(6)');\n",
"mprintf('\n\tTime needed for the particle approach 1 percentage of the bed temperature is %fs',t2);\n",
"\n",
"//====================================END OF PROGRAM ======================================================"
   ]
   }
],
"metadata": {
		  "kernelspec": {
		   "display_name": "Scilab",
		   "language": "scilab",
		   "name": "scilab"
		  },
		  "language_info": {
		   "file_extension": ".sce",
		   "help_links": [
			{
			 "text": "MetaKernel Magics",
			 "url": "https://github.com/calysto/metakernel/blob/master/metakernel/magics/README.md"
			}
		   ],
		   "mimetype": "text/x-octave",
		   "name": "scilab",
		   "version": "0.7.1"
		  }
		 },
		 "nbformat": 4,
		 "nbformat_minor": 0
}
