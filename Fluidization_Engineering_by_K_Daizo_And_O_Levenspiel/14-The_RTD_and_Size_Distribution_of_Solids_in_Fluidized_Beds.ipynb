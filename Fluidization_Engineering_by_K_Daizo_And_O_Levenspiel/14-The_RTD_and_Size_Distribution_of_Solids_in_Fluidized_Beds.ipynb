{
"cells": [
 {
		   "cell_type": "markdown",
	   "metadata": {},
	   "source": [
       "# Chapter 14: The RTD and Size Distribution of Solids in Fluidized Beds"
	   ]
	},
{
		   "cell_type": "markdown",
		   "metadata": {},
		   "source": [
			"## Example 14.1: Flow_with_Elutriatio.sce"
		   ]
		  },
  {
"cell_type": "code",
	   "execution_count": null,
	   "metadata": {
	    "collapsed": true
	   },
	   "outputs": [],
"source": [
"//Kunii D., Levenspiel O., 1991. Fluidization Engineering(II Edition). Butterworth-Heinemann, MA, pp 491\n",
"\n",
"//Chapter-14, Example 1, Page 343\n",
"//Title: Flow with Elutriation\n",
"//==========================================================================================================\n",
"\n",
"clear\n",
"clc\n",
"\n",
"//INPUT\n",
"Fo=2.7;//Feed rate in kg/min\n",
"Fof=0.9;//Feed rate of fines in feed in kg/min\n",
"Foc=1.8;//Feed rate of coarse in feed in kg/min\n",
"W=17;//Bed weight in kg\n",
"kf=0.8;//Elutriation of fines in min^-1\n",
"kc=0.0125;//Elutriation of coarse in min^-1\n",
"\n",
"//CALCULATION\n",
"F1guess=1;//Guess value of F1\n",
"function[fn]=solver_func(F1)//Function defined for solving the system\n",
"    fn=F1-(Fof/(1+(W/F1)*kf))-(Foc/(1+(W/F1)*kc));//Eqn.(17)\n",
"endfunction\n",
"[F1]=fsolve(F1guess,solver_func,1E-6);//Inbuilt function fsolve to solve for F1\n",
"F1f=Fof/(1+(W/F1)*kf);//Flow rate of fines in entrained streams from Eqn.(16)\n",
"F1c=Foc/(1+(W/F1)*kc);//Flow rate of coarse in entrained streams from Eqn.(16)\n",
"F2f=Fof-F1f;//Flow rate of fines in overflow streams from Eqn.(9)\n",
"F2c=Foc-F1c;//Flow rate of coarse in overflow streams from Eqn.(9)\n",
"tbarf=1/((F1/W)+kf);//Mean residence time of fines from Eqn.(12)\n",
"tbarc=1/((F1/W)+kc);//Mean residence time of coarse from Eqn.(12)\n",
"\n",
"//OUTPUT\n",
"mprintf('\nFlow rate in entrained stream:\n\tFines:%fkg/min\n\tCoarse:%fkg/min',F1f,F1c);\n",
"mprintf('\nFlow rate in overflow stream:\n\tFines:%fkg/min\n\tCoarse:%fkg/min',F2f,F2c);\n",
"mprintf('\nMean residence time:\n\tFines:%fmins\n\tCoarse:%fmins',tbarf,tbarc);\n",
"\n",
"//====================================END OF PROGRAM ======================================================"
   ]
   }
,
{
		   "cell_type": "markdown",
		   "metadata": {},
		   "source": [
			"## Example 14.2: Flow_with_Elutriation_and_Change_in_Density_of_Solids.sce"
		   ]
		  },
  {
"cell_type": "code",
	   "execution_count": null,
	   "metadata": {
	    "collapsed": true
	   },
	   "outputs": [],
"source": [
"//Kunii D., Levenspiel O., 1991. Fluidization Engineering(II Edition). Butterworth-Heinemann, MA, pp 491\n",
"\n",
"//Chapter-14, Example 2, Page 344\n",
"//Title: Flow with Elutriation and Change in Density of Solids\n",
"//==========================================================================================================\n",
"\n",
"clear\n",
"clc\n",
"\n",
"//INPUT\n",
"dt=4;//Diameter of reactor in m\n",
"ephsilonm=0.4;//Void fraction of static bed\n",
"rhos=2500;//Density of solid in the bed in kg/m^3\n",
"Lm=1.2;//Height of static bed in m\n",
"Fo=3000;//Feed rate in kg/hr\n",
"beta1=1.2;//Increase in density of solids\n",
"dp=[3;4;5;6;7;8;9;10;11;12;3;14;16;18;20;22;24;26;28;30]*10^-2;//Size of particles in mm\n",
"po=[0;0.3;0.8;1.3;1.9;2.6;3.5;4.4;5.7;6.7;7.5;7.8;7.5;6.3;5.0;3.6;2.4;1.3;0.5;0];//Size distribution of solids in mm^-1\n",
"k=[0;10;9.75;9.5;8.75;7.5;6.0;4.38;2.62;1.20;0.325;0;0;0;0;0;0;0;0;0]*10^-4;//Elutriation constant in s^-1\n",
"pi=3.14;\n",
"\n",
"//CALCULATION\n",
"W=(pi/4*dt^2)*Lm*(1-ephsilonm)*rhos;//Weight of solids in bed\n",
"n=length(dp);\n",
"i=1;\n",
"F1guess=1000;//Guess value for F1\n",
"F1c=2510:10:2700;\n",
"while i<=n\n",
"    function[fn]=solver_func(F1)//Function defined for solving the system\n",
"        if k(i)==0  then    x(i)=0; break \n",
"                    else    x(i)=(po(i)/(W*k(i)/F1))*log(1+(W*k(i)/F1));         \n",
"        end\n",
"    fn=F1/(Lm*Fo)-x(i);\n",
"    endfunction\n",
"    [F1(i)]=fsolve(F1guess,solver_func,1E-6);//Using inbuilt function fsolve for solving Eqn.(20) for F1\n",
"    c(i)=F1c(i)/(Lm*Fo);\n",
"    if F1(i)==0 then a(i)=0;\n",
"    else     a(i)=(po(i)/(W*k(i)/F1(i)))*log(1+(W*k(i)/F1(i)));\n",
"    end    \n",
"    i=i+1;\n",
"end\n",
"plot(F1,a,F1,c);\n",
"xtitle('F1 vs a,c','F1','a,c');\n",
"F1n=2500;//The point were both the curves meet\n",
"F2=beta1*Fo-F1n;//Flow rate of the second leaving stream\n",
"j=1;\n",
"m=length(dp);\n",
"while j<=m\n",
"    p1(j)=(1/F1n)*((Fo*po(j))/(1+(W/F1n)*k(j)));//Size distribution of stream 1 in mm^-1 from Eqn.(16)\n",
"    p2(j)=k(j)*W*p1(j)/F2;//Size distribution of stream 2 in mm^-1 from Eqn.(7)\n",
"    if p1(j)==0 & p2(j)==0 then tbar(j)=0;\n",
"    else  if  p1(j)==0 then tbar(j)=(W*p1(j))/(F2*p2(j));\n",
"        else if  p2(j)==0 then tbar(j)=(W*p1(j))/(F1n*p1(j));\n",
"            else tbar(j)=(W*p1(j))/(F1n*p1(j)+F2*p2(j));//Average time in hr from Eqn.(11)\n",
"            end\n",
"        end\n",
"    end\n",
"    j=j+1;\n",
"end\n",
"\n",
"//OUTPUT\n",
"printf('\nFlow rate of stream 1:%fkg/hr',F1n);\n",
"printf('\nFlow rate of stream 2:%fkg/hr',F2);\n",
"j=1;\n",
"mprintf('\ntbar(hr)');\n",
"while j<=m\n",
"    mprintf('\n%f',tbar(j));\n",
"    j=j+1;\n",
"end\n",
"\n",
"//====================================END OF PROGRAM ======================================================\n",
"//DISCLAIMER: The value obtained for tbar is deviating highly form the one given in textbook. However, the value obtained by manual calculation is close to the   ones obtained from the program."
   ]
   }
,
{
		   "cell_type": "markdown",
		   "metadata": {},
		   "source": [
			"## Example 14.3: Single_Size_Feed_of_Shrinking_Particles.sce"
		   ]
		  },
  {
"cell_type": "code",
	   "execution_count": null,
	   "metadata": {
	    "collapsed": true
	   },
	   "outputs": [],
"source": [
"//Kunii D., Levenspiel O., 1991. Fluidization Engineering(II Edition). Butterworth-Heinemann, MA, pp 491\n",
"\n",
"//Chapter-14, Example 3, Page 351\n",
"//Title: Single-Size Feed of Shrinking Particles\n",
"//==========================================================================================================\n",
"\n",
"clear\n",
"clc\n",
"\n",
"//INPUT\n",
"dp=1;//Particle size in mm\n",
"Fo=10;//Feed rate in kg/min\n",
"k=0.1;//Particle shrinkage rate in mm/min\n",
"\n",
"//CALCULATION\n",
"R=k/2;//Particle shrinkage rate in terms of radius\n",
"W=(Fo*dp/2)/(4*R);//Bed weight from Eqn.(42)\n",
"\n",
"//OUTPUT\n",
"printf('\nWeight of bed:%fkg',W);\n",
"\n",
"//====================================END OF PROGRAM ======================================================"
   ]
   }
,
{
		   "cell_type": "markdown",
		   "metadata": {},
		   "source": [
			"## Example 14.4: Wide_Size_Distribution_of_Shrinking_Particle.sce"
		   ]
		  },
  {
"cell_type": "code",
	   "execution_count": null,
	   "metadata": {
	    "collapsed": true
	   },
	   "outputs": [],
"source": [
"//Kunii D., Levenspiel O., 1991. Fluidization Engineering(II Edition). Butterworth-Heinemann, MA, pp 491\n",
"\n",
"//Chapter-14, Example 4, Page 352\n",
"//Title: Wide Size Distribution of Shrinking Particle\n",
"//==========================================================================================================\n",
"\n",
"clear\n",
"clc\n",
"\n",
"//INPUT\n",
"dpi=[1.05;0.95;0.85;0.75;0.65;0.55;0.45;0.35;0.25;0.15;0.05];//Mean size in mm\n",
"Fo=[0;0.5;3.5;8.8;13.5;17.0;18.2;17.0;13.5;7.3;0]*10^-2;//Feed rate in kg/s\n",
"k=[0;0;0;0;0;0;0;0;2.0;12.5;62.5]*10^-5;//Elutriation constant in s^-1\n",
"R=-1.58*10^-5;//Rate of particle shrinkage in mm/s\n",
"deldpi=0.1;//Size intervals in mm\n",
"\n",
"//CALCULATION\n",
"n=length(dpi);\n",
"m=2;//Starting with the largest value size interval that contains solids\n",
"W(m-1)=0;\n",
"while m<=n\n",
"    W(m)=(Fo(m)-R*W(m-1)/deldpi)/(k(m)-R/deldpi-3*R/dpi(m));//From Eqn.(33)\n",
"    m=m+1;\n",
"end\n",
"Wt=sum(W);//Total sum\n",
"\n",
"//OUTPUT\n",
"printf('\nTotal mass in the bed:%fkg',Wt);\n",
"\n",
"//====================================END OF PROGRAM ======================================================"
   ]
   }
,
{
		   "cell_type": "markdown",
		   "metadata": {},
		   "source": [
			"## Example 14.5: Elutriation_and_Attrition_of_Catalyst.sce"
		   ]
		  },
  {
"cell_type": "code",
	   "execution_count": null,
	   "metadata": {
	    "collapsed": true
	   },
	   "outputs": [],
"source": [
"//Kunii D., Levenspiel O., 1991. Fluidization Engineering(II Edition). Butterworth-Heinemann, MA, pp 491\n",
"\n",
"//Chapter-14, Example 5, Page 353\n",
"//Title: Elutriation and Attrition of Catalyst\n",
"//==========================================================================================================\n",
"\n",
"clear\n",
"clc\n",
"\n",
"//INPUT\n",
"dpi=[0.17;0.15;0.13;0.11;0.09;0.07;0.05;0.03;0.01];//Mean size of particles in mm\n",
"a=[0;0.95;2.45;5.2;10.1;23.2;35.65;20.0;2.45]*10^-2;//Feed composition Fo(dpi)/Fo\n",
"y=[0;0;0;0;0;0;0.625;10.225;159.25]*10^-6;//Elutriation and cyclone efficiency k(dpi)(1-eta(dpi))\n",
"F=0.01;//Rate at which solids are withdrawn in kg/s\n",
"W=40000;//Weight of bed in kg\n",
"dp1=0.11//Initial size in mm\n",
"dp2=0.085;//Size after shrinking in mm\n",
"dpmin=0.01;//Minimum size in mm\n",
"deldpi=2*10^-2;//Size inerval in mm\n",
"t=20.8;//Time in days\n",
"si=1;\n",
"\n",
"//CALCULATION\n",
"kdash=log((dp1-dpmin)/(dp2-dpmin))/(t*24*3600);//Rate of particle shrinkage from Eqn.(24)\n",
"n=length(dpi);\n",
"m=2;\n",
"Fo=0.05;//Initial value of Fo\n",
"F1(m-1)=0;\n",
"s=0;\n",
"c=0;\n",
"t=1E-6;\n",
"while m<=n\n",
"    R(m)=-kdash*(dpi(m)-dpmin);//Rate of size change\n",
"    x(m)=(a(m)*Fo-W*R(m-1)*F1(m-1)/deldpi)/(F+(W*y(m))-(W*R(m)/deldpi)-3*W*R(m)/dpi(m));//Eqn.(34)\n",
"    F1(m)=x(m)*F;\n",
"    c=c+x(m);\n",
"    m=m+1;\n",
"    if abs(c-1)<t then break\n",
"    end\n",
"    Fo=Fo+0.0001;//Incrementing Fo\n",
"end  \n",
"\n",
"//OUTPUT\n",
"mprintf('\nFeed rate with deldpi=%fmm is %fg/hr',deldpi,Fo);\n",
"i=1;\n",
"mprintf('\nBed composition');\n",
"while i<=n\n",
"    printf('\n%f',x(i)*100);\n",
"    i=i+1;\n",
"end\n",
"\n",
"//====================================END OF PROGRAM ======================================================"
   ]
   }
],
"metadata": {
		  "kernelspec": {
		   "display_name": "Scilab",
		   "language": "scilab",
		   "name": "scilab"
		  },
		  "language_info": {
		   "file_extension": ".sce",
		   "help_links": [
			{
			 "text": "MetaKernel Magics",
			 "url": "https://github.com/calysto/metakernel/blob/master/metakernel/magics/README.md"
			}
		   ],
		   "mimetype": "text/x-octave",
		   "name": "scilab",
		   "version": "0.7.1"
		  }
		 },
		 "nbformat": 4,
		 "nbformat_minor": 0
}
