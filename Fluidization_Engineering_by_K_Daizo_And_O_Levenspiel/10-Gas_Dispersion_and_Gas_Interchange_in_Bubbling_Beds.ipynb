{
"cells": [
 {
		   "cell_type": "markdown",
	   "metadata": {},
	   "source": [
       "# Chapter 10: Gas Dispersion and Gas Interchange in Bubbling Beds"
	   ]
	},
{
		   "cell_type": "markdown",
		   "metadata": {},
		   "source": [
			"## Example 10.1: Estimate_Interchange_Coefficients_in_Bubbling_Beds.sce"
		   ]
		  },
  {
"cell_type": "code",
	   "execution_count": null,
	   "metadata": {
	    "collapsed": true
	   },
	   "outputs": [],
"source": [
"//Kunii D., Levenspiel O., 1991. Fluidization Engineering(II Edition). Butterworth-Heinemann, MA, pp 491\n",
"\n",
"//Chapter-10, Example 1, Page 253\n",
"//Title: Estimate Interchange Coefficients in Bubbling Beds\n",
"//==========================================================================================================\n",
"\n",
"clear\n",
"clc\n",
"\n",
"//INPUT\n",
"umf=[0.01;0.045];//Velocity at minimum fluidization condition in m/s\n",
"ephsilonmf=[0.5;0.5];//Void fraction at minimum fluidization condition\n",
"D=[2E-5;7E-5];//Diffusion coefficient of gas in m^2/s\n",
"g=9.81;//Acceleration due to gravity in m/s^2\n",
"\n",
"//CALCULATION\n",
"db=[5;10;15;20];\n",
"n=length(umf);\n",
"m=length(db)'\n",
"for i = 1:n\n",
"    for j = 1:m\n",
"            Kbc(i,j)=4.5*(umf(i)/db(j))+5.85*((D(i)^0.5*g^0.25)/db(j)^(5/4));//Gas interchange coefficient between bubble and cloud from Eqn.(27)\n",
"            Kce(i,j)=6.77*((D(i)*ephsilonmf(i)*0.711*(g*db(j))^0.5)/db(j)^3)^0.5;//Gas interchange coefficient between emulsion and cloud from Eqn.(34)\n",
"            Kbe(i,j)=(Kbc(i,j)*Kce(i,j))/(Kbc(i,j)+Kce(i,j));//Gas interchange coefficient between bubble and emulsion from Eqn.(14)\n",
"    end;\n",
"end\n",
"\n",
"//OUTPUT\n",
"i=1;\n",
"j=1;\n",
"k=1;\n",
"while k<=m*n\n",
"    printf('\n\t\tKbc for fine particles and He');\n",
"    printf('\tKbc for coarse particles and ozone');\n",
"    printf('\tKbe for fine particles and He');\n",
"    printf('\tKbe for coarse particles and ozone');\n",
"    while j<=m\n",
"        mprintf('\ndb=%fm',db(j)*10^-2);\n",
"        while i<=n\n",
"            mprintf('\t%f',Kbc(k));\n",
"            mprintf('\t\t\t%f',Kbe(k));\n",
"            i=i+1;   \n",
"            k=k+1;\n",
"            printf('\t\t\t');\n",
"        end\n",
"    i=1;\n",
"    j=j+1;\n",
"    end\n",
"end\n",
"Kbe=Kbe';\n",
"Kbc=Kbc';\n",
"plot2d('ll',db,[Kbc Kbe]);\n",
"xtitle('Plot of Kbc,Kbe vs db','db',['Kbc','Kbe']);\n",
"printf('\nComparing the points with the plot of Kbc,Kbe vs db in Fig.(12), we can conlcude the following:');\n",
"printf('\nKbc for fine particles and helium: line 2 in Fig.(12)');\n",
"printf('\nKbc for coarser particles and ozone: line 3 in Fig.(12)');\n",
"printf('\nKbe for fine particles and helium: line 4 in Fig.(12)');\n",
"printf('\nKbe for coarser particles and ozone: line 5 in Fig.(12)');\n",
"\n",
"//====================================END OF PROGRAM ======================================================"
   ]
   }
,
{
		   "cell_type": "markdown",
		   "metadata": {},
		   "source": [
			"## Example 10.2: Compare_the_Relative_Importance_of_Kbc_and_Kce.sce"
		   ]
		  },
  {
"cell_type": "code",
	   "execution_count": null,
	   "metadata": {
	    "collapsed": true
	   },
	   "outputs": [],
"source": [
"//Kunii D., Levenspiel O., 1991. Fluidization Engineering(II Edition). Butterworth-Heinemann, MA, pp 491\n",
"\n",
"//Chapter-10, Example 2, Page 254\n",
"//Title: Compare the Relative Importance of Kbc and Kce\n",
"//==========================================================================================================\n",
"\n",
"clear\n",
"clc\n",
"\n",
"//INPUT\n",
"D=0.69;//Diffusion coefficient of gas in cm^2/s\n",
"umf=1.0;//Velocity at minimum fluidization condition in cm/s\n",
"ephsilonmf=0.5;//Void fraction at minimum fluidization condition\n",
"db=[5;15];//Equilibrium bubble size in cm\n",
"g=980;//Acceleration due to gravity in cm/s^2\n",
"\n",
"//CALCULATION\n",
"n=length(db);\n",
"i=1;\n",
"while i<=n\n",
"    Kbc(i)=4.5*(umf/db(i))+5.85*((D^0.5*g^0.25)/db(i)^(5/4));//Gas interchange coefficient between bubble and cloud from Eqn.(27)\n",
"    Kce(i)=6.77*((D*ephsilonmf*0.711*(g*db(i))^0.5)/db(i)^3)^0.5;//Gas interchange coefficient between emulsion and cloud from Eqn.(34)\n",
"    Kbe(i)=(Kbc(i)*Kce(i))/(Kbc(i)+Kce(i));//Gas interchange coefficient between bubble and emulsion from Eqn.(14)\n",
"    e(i)=(Kce(i)-Kbe(i))/Kbe(i);//Error when minor resistance is ignored\n",
"    i=i+1;\n",
"end\n",
"\n",
"//OUTPUT\n",
"printf('\ndb(cm)');\n",
"printf('\t\tCalculated Kbc');\n",
"printf('\tCalculated Kce');\n",
"printf('\t\tKbe from Eqn.(14)');\n",
"printf('\tErron when minor resistance is ignored (in percentage)');\n",
"i=1;\n",
"while i<=n\n",
"    mprintf('\n%f',db(i));\n",
"    mprintf('\t%f',Kbc(i));\n",
"    mprintf('\t%f',Kce(i));\n",
"    mprintf('\t\t%f',Kbe(i));\n",
"    mprintf('\t\t%f',e(i)*100);\n",
"    i=i+1;   \n",
"end\n",
"\n",
"//====================================END OF PROGRAM ======================================================"
   ]
   }
,
{
		   "cell_type": "markdown",
		   "metadata": {},
		   "source": [
			"## Example 10.3: Compare_Interchange_Rates_for_Adsorbed_and_Nonadsorbed_Gases.sce"
		   ]
		  },
  {
"cell_type": "code",
	   "execution_count": null,
	   "metadata": {
	    "collapsed": true
	   },
	   "outputs": [],
"source": [
"//Kunii D., Levenspiel O., 1991. Fluidization Engineering(II Edition). Butterworth-Heinemann, MA, pp 491\n",
"\n",
"//Chapter-10, Example 3, Page 255\n",
"//Title: Compare Interchange Rates for Adsorbed and Nonadsorbed Gases\n",
"//==========================================================================================================\n",
"\n",
"clear\n",
"clc\n",
"\n",
"//INPUT\n",
"Kbe=[0.028;0.05];//Reported range for gas interchange coefficient between bubble and emulsion\n",
"uo=0.30;//Superficial gas velocity in m/s\n",
"db=0.13;//Equilibrium bubble size in m\n",
"m=7;\n",
"ephsilonmf=0.5;//Void fraction at minimum fluidization condition\n",
"umf=0.0018;//Velocity at minimum fluidization condition in m/s\n",
"D=[9E-6;22E-6];//Diffusion coefficient of gas in m^2/s\n",
"g=9.81;//Acceleration due to gravity in m/s^2\n",
"\n",
"//CALCULATION\n",
"n=length(Kbe);\n",
"i=1;\n",
"while i<=n\n",
"    Kbem(i)=(6/db)*Kbe(i);//Gas interchange coefficient between bubble and emulsion from Eqn.(19)\n",
"    Kbc(i)=4.5*(umf/db)+5.85*((D(i)^0.5*g^0.25)/db^(5/4));//Gas interchange coefficient between bubble and cloud from Eqn.(27)\n",
"    Kce(i)=6.77*((D(i)*ephsilonmf*0.711*(g*db)^0.5)/db^3)^0.5;//Gas interchange coefficient between emulsion and cloud from Eqn.(34)\n",
"    Kbe(i)=(Kbc(i)*Kce(i))/(Kbc(i)+Kce(i));//Gas interchange coefficient between bubble and emulsion from Eqn.(14)\n",
"    c(i)=(Kbem(i)/Kbe(i));\n",
"    i=i+1;\n",
"end\n",
"\n",
"//OUTPUT\n",
"printf('\nKbe from Eqn.(19)');\n",
"printf('\tKbc from Eqn.(27)');\n",
"printf('\tKce from Eqn.(34)');\n",
"printf('\tKbe from Eqn.(14)');\n",
"printf('\tComparison of Kbe from Eqn.(19) and that from Eqn.(14)');\n",
"i=1;\n",
"while i<=n\n",
"    mprintf('\n%f',Kbem(i));\n",
"    mprintf('\t\t%f',Kbc(i));\n",
"    mprintf('\t\t%f',Kce(i));\n",
"    mprintf('\t\t%f',Kbe(i));\n",
"    mprintf('\t\t%f',c(i));\n",
"    i=i+1;   \n",
"end\n",
"\n",
"//====================================END OF PROGRAM ======================================================"
   ]
   }
],
"metadata": {
		  "kernelspec": {
		   "display_name": "Scilab",
		   "language": "scilab",
		   "name": "scilab"
		  },
		  "language_info": {
		   "file_extension": ".sce",
		   "help_links": [
			{
			 "text": "MetaKernel Magics",
			 "url": "https://github.com/calysto/metakernel/blob/master/metakernel/magics/README.md"
			}
		   ],
		   "mimetype": "text/x-octave",
		   "name": "scilab",
		   "version": "0.7.1"
		  }
		 },
		 "nbformat": 4,
		 "nbformat_minor": 0
}
