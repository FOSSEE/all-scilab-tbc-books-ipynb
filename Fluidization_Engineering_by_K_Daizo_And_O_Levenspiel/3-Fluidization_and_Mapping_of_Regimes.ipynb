{
"cells": [
 {
		   "cell_type": "markdown",
	   "metadata": {},
	   "source": [
       "# Chapter 3: Fluidization and Mapping of Regimes"
	   ]
	},
{
		   "cell_type": "markdown",
		   "metadata": {},
		   "source": [
			"## Example 3.1: Size_Measure_of_Nonuniform_Solids.sce"
		   ]
		  },
  {
"cell_type": "code",
	   "execution_count": null,
	   "metadata": {
	    "collapsed": true
	   },
	   "outputs": [],
"source": [
"//Kunii D., Levenspiel O., 1991. Fluidization Engineering(II Edition). Butterworth-Heinemann, MA, pp 491\n",
"\n",
"//Chapter-3, Example 1, Page 68\n",
"//Title: Size Measure of Nonuniform Solids\n",
"//==========================================================================================================\n",
"clear\n",
"clc\n",
"\n",
"//INPUT\n",
"weight = [0;60;150;270;330;360];// Weight in grams for the oversized particles\n",
"psize = [50;75;100;125;150;175];//PSD in micrometers\n",
"\n",
"//CALCULATION\n",
"len = length(psize); // To obtain the size of input array\n",
"// Computation of sauter mean diameter for the given PSD\n",
"i = 1;\n",
"while i<len\n",
"        dpi(i)=(psize(i,:)+ psize(i+1,:))/2;\n",
"        weightf(i)=(weight(i+1)-weight(i))/weight(6);    \n",
"        dp(i)=weightf(i)/dpi(i);    \n",
"        i=i+1;\n",
"end                     \n",
"dpbar=1/sum(dp);//Calculation of average particle daimeter Eq.(15)\n",
"\n",
"//OUTPUT\n",
"mprintf('\n The Sauter mean diameter of the material with the given particle size distribution = %f micrometer',dpbar);\n",
"\n",
"//====================================END OF PROGRAM ======================================================"
   ]
   }
,
{
		   "cell_type": "markdown",
		   "metadata": {},
		   "source": [
			"## Example 3.2: Estimation_of_Minimum_Fluidizing_Velocity.sce"
		   ]
		  },
  {
"cell_type": "code",
	   "execution_count": null,
	   "metadata": {
	    "collapsed": true
	   },
	   "outputs": [],
"source": [
"//Kunii D., Levenspiel O., 1991. Fluidization Engineering(II Edition). Butterworth-Heinemann, MA, pp 491\n",
"\n",
"//Chapter-3, Example 2, Page 76\n",
"//Title: Estimation of Minimum fluidizing velocity\n",
"//==========================================================================================================\n",
"clear\n",
"clc\n",
"\n",
"//INPUT\n",
"ephsilon=0.55;//Void fraction of bed\n",
"rhog=0.0012;//Density of gas in g/cc\n",
"myu=.00018;//Viscosity of gas in g/cm s\n",
"dpbar=0.016;//Mean diameter of solids in centimeter\n",
"phis=0.67;//Sphericity of solids\n",
"rhos=2.6;//Density of solids in g/cc\n",
"g=980;//Acceleration due to gravity in square cm/s^2\n",
"\n",
"//CALCULATION\n",
"//Computation of umf using the simplified equation for small particles\n",
"umf=((dpbar^2)*(rhos-rhog)*g*(ephsilon^3)*(phis^2))/(150*myu*(1-ephsilon));//Simplified equation to calculate minimum fluidizing velocity for small particles Eq.(21)\n",
"Re=(dpbar*umf*rhog)/myu;//To calculate Reynolds number for particle\n",
"\n",
"//Computation of umf if neither void fraction of bed nor sphericity is known\n",
"c1=28.7; c2=0.0494;//Value of constants from Table 4, page 70\n",
"umf1=(myu/(dpbar*rhog))*(((c1^2)+((c2*(dpbar^3)*rhog*(rhos-rhog)*g)/(myu^2)))^0.5-c1);//Equation to calculate minimum fluidizing velocity for coarse particles Eq.(25)\n",
"err=((umf-umf1)/umf)*100;//Calculation of error from experimental value\n",
"\n",
"//OUTPUT\n",
"if Re<20 then \n",
"    mprintf('\nThe particle Reynolds no = %f',Re)\n",
"    printf('\nThe simplified equation used for calculating minimum fluidizing velocity is valid.');\n",
"end\n",
"mprintf('\nThe minimum fluidizing velocity by simplified equation for small particles = %fcm/s',umf);\n",
"mprintf('\nThe minimum fluidizing velocity by equation for coarse partilces = %fcm/s',umf1);\n",
"mprintf('\nThis value is %f percent below the experimentally reported value.',err);\n",
"\n",
"//====================================END OF PROGRAM ======================================================"
   ]
   }
,
{
		   "cell_type": "markdown",
		   "metadata": {},
		   "source": [
			"## Example 3.3: Estimation_of_Terminal_Velocity_of_Falling_Particles.sce"
		   ]
		  },
  {
"cell_type": "code",
	   "execution_count": null,
	   "metadata": {
	    "collapsed": true
	   },
	   "outputs": [],
"source": [
"//Kunii D., Levenspiel O., 1991. Fluidization Engineering(II Edition). Butterworth-Heinemann, MA, pp 491\n",
"\n",
"//Chapter-3, Example 3, Page 82\n",
"//Title: Estimation of terminal velocity of falling particles\n",
"//==========================================================================================================\n",
"clear\n",
"clc\n",
"\n",
"//INPUT\n",
"rhog=1.2e-3;//Density of air in g/cc\n",
"myu=1.8e-4//Viscosity of air in g/cm s\n",
"dpbar=0.016//Mean diameter of solids in centimeter\n",
"phis=0.67;//Sphericity of solids\n",
"rhos=2.6;//Density of solids in g/cc\n",
"g=980//Acceleration due to gravity in square cm/s^2\n",
"\n",
"//CALCULATION\n",
"dpstar=dpbar*((rhog*(rhos-rhog)*g)/myu^2)^(1/3);//Calculation of dimensionless particle size Eq.(31)\n",
"utstar=((18/(dpstar^2))+(2.335-(1.744*phis))/(dpstar^0.5))^-1;//Calculation of dimensionless gas velocity Eq.(33)\n",
"ut=utstar*((myu*(rhos-rhog)*g)/rhog^2)^(1/3);//Calculation of terminal velocity of falling particles Eq.(32)\n",
"\n",
"\n",
"//OUTPUT\n",
"mprintf('\nThe dimensionless particle size = %f', dpstar);\n",
"mprintf('\nThe dimensionless gas velocity = %f', utstar);\n",
"mprintf('\nThe terminal velocity of falling particles = %fcm/s', ut);\n",
"\n",
"//====================================END OF PROGRAM ======================================================"
   ]
   }
,
{
		   "cell_type": "markdown",
		   "metadata": {},
		   "source": [
			"## Example 3.4: Prediction_of_Flow_Regimes.sce"
		   ]
		  },
  {
"cell_type": "code",
	   "execution_count": null,
	   "metadata": {
	    "collapsed": true
	   },
	   "outputs": [],
"source": [
"//Kunii D., Levenspiel O., 1991. Fluidization Engineering(II Edition). Butterworth-Heinemann, MA, pp 491\n",
"\n",
"//Chapter-3, Example 4, Page 91\n",
"//Title: Prediction of flow regime\n",
"//==========================================================================================================\n",
"clear\n",
"clc\n",
"\n",
"//INPUT\n",
"rhos=1.5;//Density of Solid in g/cc\n",
"uo1=40; uo2=80;//Superficial gas velocity in cm/s\n",
"dp1=0.006; dp2=0.045;//Particle size in centimeter\n",
"rhog1=1.5E-3; rhog2=1E-3; //Density of gas in g/cc\n",
"myu1=2E-4; myu2=2.5E-4;//Viscosity of air in g/cm s\n",
"g=980;//Acceleration due to gravity in square cm/s^2\n",
"\n",
"//CALCULATION\n",
"//for smaller particles\n",
"dpstar1=dp1*((rhog1*(rhos-rhog1)*g)/myu1^2)^(1/3);//Calculation of dimensionless particle diamter Eq.(31)\n",
"uostar1=uo1*((rhog1^2)/((myu1)*(rhos-rhog1)*g))^(1/3);\n",
"uostar2=uo2*((rhog1^2)/((myu1)*(rhos-rhog1)*g))^(1/3);//Calculation of dimensionless superficial gas velocity Eq.(32)\n",
"\n",
"//for larger particles \n",
"dpstar2=dp2*((rhog2*(rhos-rhog2)*g)/myu2^2)^(1/3);//Calculation of dimensionless particle diamter Eq.(31)\n",
"uostar3=uo1*((rhog2^2)/((myu2)*(rhos-rhog2)*g))^(1/3);\n",
"uostar4=uo2*((rhog2^2)/((myu2)*(rhos-rhog2)*g))^(1/3);//Calculation of dimensionless superficial gas velocity Eq.(32)\n",
"\n",
"\n",
"//OUTPUT\n",
"printf('\nFor particle of size %f centimeter',dp1);\n",
"mprintf('\nThe dimensionless particle diameter = %f',dpstar1);\n",
"mprintf('\nThe dimensionless superficial gas velocity = %fcm/s(for superficial gas velocity of %fcm/s)',uostar1,uo1);\n",
"mprintf('\nThe dimensionless superficial gas velocity = %fcm/s(for superficial gas velocity of %fcm/s)',uostar2,uo2);\n",
"mprintf('\n\nFrom Fig.16(page 89)comparing u*=%f vs dp*=%f',uostar1,dpstar1);\n",
"mprintf('\nFor Superficial gas velocity =%f \nMode of Fluidization:Onset of turbulent fluidization in an ordinary bubbling bed',uo1);\n",
"mprintf('\nFrom Fig.16(page 89)comparing u* =%f vs dp* =%f',uostar2,dpstar1);\n",
"mprintf('\nFor Superficial gas velocity =%f \nMode of Fluidization:Fast fluidization(requires a circulating solid system)',uo2);\n",
"printf('\n\nFor particle of size %f centimeter',dp2)\n",
"mprintf('\nThe dimensionless particle diameter = %f',dpstar2);\n",
"mprintf('\nThe dimensionless superficial gas velocity = %fcm/s(for superficial gas velocity of %fcm/s)',uostar3,uo1);\n",
"mprintf('\nThe dimensionless superficial gas velocity = %fcm/s(for superficial gas velocity of %fcm/s)',uostar4,uo2);\n",
"mprintf('\n\nFrom Fig.16(page 89)comparing u*=%f vs dp*=%f',uostar3,dpstar2);\n",
"mprintf('\nFor Superficial gas velocity =%f \nMode of Fluidization:Bublling Fluidization',uo1);\n",
"mprintf('\nFrom Fig.16(page 89)comparing u* =%f vs dp* =%f',uostar4,dpstar2);\n",
"mprintf('\nFor Superficial gas velocity =%f \nMode of Fluidization:Bubbling Fluidization',uo2);\n",
"\n",
"//====================================END OF PROGRAM ======================================================"
   ]
   }
],
"metadata": {
		  "kernelspec": {
		   "display_name": "Scilab",
		   "language": "scilab",
		   "name": "scilab"
		  },
		  "language_info": {
		   "file_extension": ".sce",
		   "help_links": [
			{
			 "text": "MetaKernel Magics",
			 "url": "https://github.com/calysto/metakernel/blob/master/metakernel/magics/README.md"
			}
		   ],
		   "mimetype": "text/x-octave",
		   "name": "scilab",
		   "version": "0.7.1"
		  }
		 },
		 "nbformat": 4,
		 "nbformat_minor": 0
}
