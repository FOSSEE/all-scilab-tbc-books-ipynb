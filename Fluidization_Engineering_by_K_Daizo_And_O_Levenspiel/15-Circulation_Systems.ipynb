{
"cells": [
 {
		   "cell_type": "markdown",
	   "metadata": {},
	   "source": [
       "# Chapter 15: Circulation Systems"
	   ]
	},
{
		   "cell_type": "markdown",
		   "metadata": {},
		   "source": [
			"## Example 15.1: Circulation_Rate_when_Deactivation_Controls.sce"
		   ]
		  },
  {
"cell_type": "code",
	   "execution_count": null,
	   "metadata": {
	    "collapsed": true
	   },
	   "outputs": [],
"source": [
"//Kunii D., Levenspiel O., 1991. Fluidization Engineering(II Edition). Butterworth-Heinemann, MA, pp 491\n",
"\n",
"//Chapter-15, Example 1, Page 369\n",
"//Title: Circulation Rate when Deactivation Controls\n",
"//==========================================================================================================\n",
"\n",
"clear\n",
"clc\n",
"\n",
"//INPUT\n",
"thalf=1;//Half life of catalyst in s\n",
"F=960;//Feed rate of oil in tons/day\n",
"W=50;//Weight of the bed in tons\n",
"a=0.5;//Activity after time equal to half life\n",
"abar=0.01;//Average activity of the catalyst\n",
"\n",
"//CALCULATION\n",
"Ka=-log(a)/thalf;//Rate constant is s^-1, assuming I order kinetics from Eqn.(12)\n",
"Fs=Ka*W*abar/(1-abar);//Circulation rate of solids from Eqn.(16)\n",
"x=(Fs*60*60*24)/F;//Circulation rate per feed of oil\n",
"\n",
"//OUTPUT\n",
"mprintf('\nSolid recirculation per feed of oil =%ftons of solid circulated/ton feed oil',x);\n",
"\n",
"//====================================END OF PROGRAM ======================================================"
   ]
   }
,
{
		   "cell_type": "markdown",
		   "metadata": {},
		   "source": [
			"## Example 15.2: Circulation_Rate_when_Heat_Duty_Controls.sce"
		   ]
		  },
  {
"cell_type": "code",
	   "execution_count": null,
	   "metadata": {
	    "collapsed": true
	   },
	   "outputs": [],
"source": [
"//Kunii D., Levenspiel O., 1991. Fluidization Engineering(II Edition). Butterworth-Heinemann, MA, pp 491\n",
"\n",
"//Chapter-15, Example 2, Page 370\n",
"//Title: Circulation Rate when Heat Duty Controls\n",
"//==========================================================================================================\n",
"\n",
"clear\n",
"clc\n",
"\n",
"//INPUT\n",
"deltaHr1=1260;//Enthalpy change during endothermic reaction in kJ/kg\n",
"deltaHr2=-33900;//Enthal[y change during exothermic reaction in kJ/kg\n",
"H1=703;//Enthalpy of feed oil in kJ/kg\n",
"T1=260;//Temperature of feed oil in degree celcius\n",
"H3=1419;//Enthalpy of cracked product in kJ/kg\n",
"T3=500;//Temperature of cracked product in degree celcius\n",
"Ta=20;//Temperature of entering air in degree celcius\n",
"Cpa=1.09;//Specific heat of entering air in kJ/kg K\n",
"Cpf=1.05;//Specific heat of flue gases in kJ/kg K\n",
"Cps=1.01;//Specific heat of solids in kJ/kg K\n",
"Cpv=3.01;//Specific heat of vaporized feed in kJ/kg K\n",
"T4=[520;540;560;580;600;620;640;660];//Temperature of flue gas in degree celcius\n",
"V=22.4;//Volume of 1 mole of Carbon dioxide gas in N-m^3\n",
"M=12;//Molecular weight of carbon in kg\n",
"rho=1.293;//Density of carbon dioxide gas in kg/N-m^3\n",
"xa=0.21;//Mass fraction of oxygen in air\n",
"betac=0.07;//Mass fraction of carbon\n",
"\n",
"//CALCULATION\n",
"n=length(T4);\n",
"i=1;\n",
"\n",
"x2min=betac*(V*rho/(M*xa));//Minimum amount of air required for complete combustion\n",
"while i<=n\n",
"    x1(i)=(deltaHr1+0.93*H3-H1)/(Cps*(T4(i)-T3));//Fs/F1 by simplifying the overall energy balance\n",
"    x2(i)=[(0.07*(-deltaHr2)-(deltaHr1+0.93*H3-H1))/(Cpf*(T4(i)-Ta))]-0.07;//F2/F1 by simplifying the energy balance for regenerator\n",
"    if x2(i)>x2min then excess_air(i)=(x2(i)-x2min)/x2min; //Excess air used\n",
"    else excess_air(i)=0;\n",
"    end\n",
"    i=i+1;\n",
"end\n",
"\n",
"//OUTPUT    \n",
"printf('\nT4(degree celcius)');\n",
"printf('\tFs/F1');\n",
"printf('\t\tF2/F1');\n",
"printf('\t\tExcess air(percentage)');\n",
"i=1;\n",
"while i<=n\n",
"    mprintf('\n%f',T4(i));\n",
"    mprintf('\t\t%f',x1(i));\n",
"    mprintf('\t%f',x2(i));\n",
"    mprintf('\t%f',excess_air(i)*100);\n",
"    i=i+1;\n",
"end\n",
"\n",
"//Disclaimer: The values of F2/F1 obtained by manual calculation has close correspondance to the ones obtained as the output, whereas it deviates largely from the values given in textbook.\n",
"\n",
"//====================================END OF PROGRAM ======================================================"
   ]
   }
,
{
		   "cell_type": "markdown",
		   "metadata": {},
		   "source": [
			"## Example 15.3: Aeration_of_Fine_Particle_Downcomer.sce"
		   ]
		  },
  {
"cell_type": "code",
	   "execution_count": null,
	   "metadata": {
	    "collapsed": true
	   },
	   "outputs": [],
"source": [
"//Kunii D., Levenspiel O., 1991. Fluidization Engineering(II Edition). Butterworth-Heinemann, MA, pp 491\n",
"\n",
"//Chapter-15, Example 3, Page 379\n",
"//Title: Aeration of Fine Particle Downcomer\n",
"//==========================================================================================================\n",
"\n",
"clear\n",
"clc\n",
"\n",
"//INPUT\n",
"Fs=100;//Solid flowrate in kg/s\n",
"ephsilon1=0.55;\n",
"ephsilon2=0.5;\n",
"p1=120;//Pressure at upper level in kPa\n",
"rhos=1000;//Density of solid in kg/m^3\n",
"rhog=1;//Density of gas in kg/m^3\n",
"gc=1;//Conversion factor\n",
"g=9.81;//Acceleration due to gravity in m/s^2\n",
"di=0.34;//Diameter of downcomer in m\n",
"pi=3.14;\n",
"\n",
"//CALCULATION\n",
"x=(ephsilon1/ephsilon2)*((1-ephsilon2)/(1-ephsilon1));//To find pressure at lower level using Eqn.(30)\n",
"p2=x*p1;//Pressure at lower level using Eqn.(30)\n",
"deltap=p2-p1;\n",
"ephsilonbar=0.5*(ephsilon1+ephsilon2);\n",
"deltah=(deltap*10^3*gc)/(rhos*(1-ephsilonbar)*g);//Static head height from Eqn.(28)\n",
"At=0.25*pi*di^2;//Area of downcomer\n",
"Gs=Fs/At;//Flux of solids in downcomer\n",
"Gg=Gs*(ephsilon1/(1-ephsilon1))*(rhog/rhos)*(x-1);//Required gas aeration rate from Eqn.(31)\n",
"Fg=Gg*At;//Flow rate of gas required\n",
"\n",
"//OUTPUT\n",
"mprintf('\nThe required flow rate of gas required for location of %fm below downcomer is %fkg/s',deltah,Fg);\n",
"\n",
"//====================================END OF PROGRAM ======================================================"
   ]
   }
,
{
		   "cell_type": "markdown",
		   "metadata": {},
		   "source": [
			"## Example 15.4: Circulation_in_Side_by_Side_Beds.sce"
		   ]
		  },
  {
"cell_type": "code",
	   "execution_count": null,
	   "metadata": {
	    "collapsed": true
	   },
	   "outputs": [],
"source": [
"//Kunii D., Levenspiel O., 1991. Fluidization Engineering(II Edition). Butterworth-Heinemann, MA, pp 491\n",
"\n",
"//Chapter-15, Example 4, Page 380\n",
"//Title: Circulation in Side-by-Side Beds\n",
"//==========================================================================================================\n",
"\n",
"clear\n",
"clc\n",
"\n",
"//INPUT\n",
"Fs=600;//Solid circulation rate in kg/s\n",
"dpbar=60;//Mean size of solids in micrometer\n",
"pA=120;//Pressure in vessel A in kPa\n",
"pB=180;//Pressure in vessel B in kPa\n",
"LfA=8;//Bed height in vessel A in m\n",
"LfB=8;//Bed height in vessel B i m\n",
"//Bulk densities in kg/m^3\n",
"rho12=100;\n",
"rho34=400;\n",
"rho45=550;\n",
"rho67=200;\n",
"rho78=200;\n",
"rho910=400;\n",
"rho1011=400;\n",
"rho1112=550;\n",
"rho13=100;\n",
"deltapdA=7;//Pressure drop across the distributor in regenerator in kPa\n",
"deltapdB=8;//Pressure drop across the distributor in reactor in kPa\n",
"deltap12=(9+4);//Friction loss and pressure difference required to accelerate the solids in transfer lines in kPa\n",
"deltap78=(15+3);//Friction loss and pressure difference required to accelerate the solids in transfer lines in kPa\n",
"deltap45=20;//Friction loss across the reactor's stripper downcomer in kPa\n",
"deltap1112=4;//Friction loss across the regenerator's downcomer in kPa\n",
"deltapvA=5;//Pressure drop assigned for the control valve in regenerator in kPa\n",
"deltapvB=15;//Pressure drop assigned for the control valve in reactor in kPa\n",
"deltah12=15;//Height of the riser in m\n",
"deltah86=30;//Height of the riser in m\n",
"deltah1011=7;//Height difference h10-h11 in m\n",
"g=9.81;//Acceleration due to gravity in m/s^2\n",
"gc=1;//Conversion factor\n",
"pi=3.14;\n",
"\n",
"//CALCULATION\n",
"Gs=900;//From Fig.(8), to find dt\n",
"dt=sqrt((4/pi)*Fs/Gs);//Diameter of the downcomer\n",
"//Height of downcomer A from Eqn.(7)\n",
"deltahA=(1/(rho1112*g))*[(pB-pA)*gc*(10^3)+(deltap12+deltapdB+deltap1112+deltapvA)*gc*10^3-rho12*g*(-deltah12)-rho34*g*(-LfB)-rho1011*g*deltah1011];\n",
"//Height of downcomer B from Eqn.(8)\n",
"deltahB=(1/(rho45*g))*[-(pB-pA)*gc*10^3+(deltap45+deltapvB+deltap78+deltapdA)*gc*10^3+rho78*g*deltah86+rho910*g*LfA];\n",
"\n",
"//OUTPUT\n",
"printf('\nHeight of downcomer for:');\n",
"mprintf('\n\tRegenerator:%fm',deltahA);\n",
"mprintf('\n\tReactor:%fm',deltahB);\n",
"\n",
"//====================================END OF PROGRAM ======================================================"
   ]
   }
,
{
		   "cell_type": "markdown",
		   "metadata": {},
		   "source": [
			"## Example 15.5: Steam_Seal_of_a_Coarse_Particle_Downcomer.sce"
		   ]
		  },
  {
"cell_type": "code",
	   "execution_count": null,
	   "metadata": {
	    "collapsed": true
	   },
	   "outputs": [],
"source": [
"//Kunii D., Levenspiel O., 1991. Fluidization Engineering(II Edition). Butterworth-Heinemann, MA, pp 491\n",
"\n",
"//Chapter-15, Example 5, Page 381\n",
"//Title: Steam Seal of a Coarse Particle Downcomer\n",
"//==========================================================================================================\n",
"\n",
"clear\n",
"clc\n",
"\n",
"//INPUT\n",
"dp=10^-3;//Particle diameter in m\n",
"dt=0.8;//Diameter of reactor in m\n",
"us=0.15;//Descend velocityo of solids in m/s\n",
"L=15;//Length of downcomer\n",
"deltap1=300;//Pressure in lower vessel in kPa\n",
"deltap2=240;//Pressure in upper vessel in kPa\n",
"phis=0.8;//Sphericity of solids\n",
"ephsilonm=0.45;//Void fraction of bed\n",
"myu=4E-5;//Viscosity of gas in kg/m s\n",
"rhogl=2;//Density of gas in lower vessel in kg/m^3\n",
"rhogu=1.6;//Density of gas in upper vessel in kg/m^3\n",
"rhogbar=0.5*(rhogl+rhogu);//Average density in kg/m^3\n",
"gc=1;//Conversion factor\n",
"\n",
"//CALCULATION\n",
"//(a)Without steam seal\n",
"deltapfr=(deltap1-deltap2)*10^3;//Frictional pressure drop between two levels in Pa\n",
"deluguess=50;//Guess value of deltau\n",
"function[fn]=solver_func(delu)//Function defined for solving the system\n",
"    fn=(deltapfr*gc/L)-(150*(1-ephsilonm)^2*myu*delu/(ephsilonm^2*(phis*dp)^2))-(1.75*(1-ephsilonm)*rhogbar*delu^2/(ephsilonm*phis*dp));\n",
"endfunction\n",
"[delu]=fsolve(deluguess,solver_func,1E-6);//Using inbuilt function fsolve for solving Eqn.(25) for deltau\n",
"uo=(delu-us)*ephsilonm;//Superficial gas velocity\n",
"Fg=rhogbar*uo*(pi/4)*dt^2;//Flow rate of gs up the tube\n",
"\n",
"//(c)With steam seal\n",
"//For section 1 to 3\n",
"L1=10;\n",
"deluguess1=50;//Guess value of deltau\n",
"function[fn]=solver_func1(delu1)//Function defined for solving the system\n",
"    fn=(deltapfr*gc/L1)-(150*(1-ephsilonm)^2*myu*delu1/(ephsilonm^2*(phis*dp)^2))-(1.75*(1-ephsilonm)*rhogbar*delu1^2/(ephsilonm*phis*dp));\n",
"endfunction\n",
"[delu1]=fsolve(deluguess1,solver_func1,1E-6);//Using inbuilt function fsolve for solving Eqn.(25) for deltau\n",
"uou=(delu1-us)*ephsilonm;//Upward superficial gas velocity\n",
"Fgu=rhogbar*uou*(pi/4)*dt^2;//Upward flow rate of gs up the tube\n",
"//For section 3 to 2\n",
"ugd=0.15;//Downward velocity of gas\n",
"uod=ugd*ephsilonm;//Downward superficial gas velocity\n",
"Fgd=rhogbar*uod*(pi/4)*dt^2;//Downward flow rate of gas up the tube\n",
"Fgt=Fgu+Fgd;//Total flow rate of gas\n",
"\n",
"//OUTPUT\n",
"printf('\nWithout steam seal');\n",
"printf('\n\tFlow rate of gas up the tube:%fkg/s',Fg);\n",
"printf('\nWith steam seal');\n",
"printf('\n\tTotal flow rate of gas:%fkg/s',Fgt);\n",
"\n",
"//====================================END OF PROGRAM ======================================================"
   ]
   }
],
"metadata": {
		  "kernelspec": {
		   "display_name": "Scilab",
		   "language": "scilab",
		   "name": "scilab"
		  },
		  "language_info": {
		   "file_extension": ".sce",
		   "help_links": [
			{
			 "text": "MetaKernel Magics",
			 "url": "https://github.com/calysto/metakernel/blob/master/metakernel/magics/README.md"
			}
		   ],
		   "mimetype": "text/x-octave",
		   "name": "scilab",
		   "version": "0.7.1"
		  }
		 },
		 "nbformat": 4,
		 "nbformat_minor": 0
}
