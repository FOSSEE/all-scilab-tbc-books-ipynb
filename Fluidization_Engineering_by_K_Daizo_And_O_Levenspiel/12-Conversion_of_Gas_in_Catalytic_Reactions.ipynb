{
"cells": [
 {
		   "cell_type": "markdown",
	   "metadata": {},
	   "source": [
       "# Chapter 12: Conversion of Gas in Catalytic Reactions"
	   ]
	},
{
		   "cell_type": "markdown",
		   "metadata": {},
		   "source": [
			"## Example 12.1: Fine_Particle_Geldart_A_Bubbling_Bed_Reactor.sce"
		   ]
		  },
  {
"cell_type": "code",
	   "execution_count": null,
	   "metadata": {
	    "collapsed": true
	   },
	   "outputs": [],
"source": [
"//Kunii D., Levenspiel O., 1991. Fluidization Engineering(II Edition). Butterworth-Heinemann, MA, pp 491\n",
"\n",
"//Chapter-12, Example 1, Page 293\n",
"//Title: Fine Particle (Geldart A) Bubbling Bed Reactor\n",
"//==========================================================================================================\n",
"\n",
"clear\n",
"clc\n",
"\n",
"//INPUT\n",
"Kr=10;//rate constant in m^3 gas/m^3 cat s\n",
"D=2E-5;//Diffusion coefficient of gas in m^2/s\n",
"dpbar=68;//Average partilce size in micrometers\n",
"ephsilonm=0.5;//Void fraction of fixed bed\n",
"gammab=0.005;//Ratio of volume of dispersed solids to that of bubble phase\n",
"ephsilonmf=0.55;//Void fraction at minimum fluidization condition\n",
"umf=0.006;//Velocity at minimum fluidization condition in m/s\n",
"db=0.04;//Equilibrium bubble size in m\n",
"Lm=0.7;//Length of the bed in m\n",
"uo=0.1;//Superficial gas velocity in m/s\n",
"dbed=0.26;//Diameter of the bed in m\n",
"g=9.81;//Acceleration due to gravity in square m/s^2\n",
"\n",
"//CALCULATION\n",
"ubr=0.711*(g*db)^0.5;//Rise velocity of bubble from Eqn.(6.7)\n",
"ub=uo-umf+ubr;//Velocity of bubbles in bubbling beds in Eqn.(6.8)\n",
"Kbc=4.5*(umf/db)+5.85*((D^0.5*g^0.25)/db^(5/4));//Gas interchange coefficient between bubble and cloud from Eqn.(10.27)\n",
"Kce=6.77*((D*ephsilonmf*0.711*(g*db)^0.5)/db^3)^0.5;//Gas interchange coefficient between emulsion and cloud from Eqn.(10.34)\n",
"delta=uo/ub;//Fraction of bed in bubbles from Eqn.(6.29)\n",
"fw=0.6;//Wake volume to bubble volume from Fig.(5.8)\n",
"gammac=(1-ephsilonmf)*((3/(ubr*ephsilonmf/umf-1))+fw);//Volume of solids in cloud to that of the bubble from Eqn.(6.36)\n",
"gammae=((1-ephsilonmf)*((1-delta)/delta))-gammab-gammac;//Volume of solids in emulsion to that of the bubble from Eqn.(6.35)\n",
"ephsilonf=1-(1-delta)*(1-ephsilonmf);//Void fraction of fixed bed from Eqn.(6.20)\n",
"Lf=(1-ephsilonm)*Lm/(1-ephsilonf);//Length of fixed bed from Eqn.(6.19)\n",
"Krtou=Kr*Lm*(1-ephsilonm)/uo;//Dimensionless reaction rate group from Eqn.(5)\n",
"Kf=gammab*Kr+1/((1/Kbc)+(1/(gammac*Kr+1/((1/Kce)+(1/(gammae*Kr))))));//Raction rate for fluidized bed from Eqn.(14)\n",
"XA=1-exp(-1*Kf*Lf/ub);//Conversion from Eqn.(16)\n",
"\n",
"//OUTPUT\n",
"mprintf('\nThe dimnesionless reaction rate group: %f',Krtou);\n",
"mprintf('\nThe reaction rate for fluidized bed: %fs^-1',Kf);\n",
"mprintf('\nConversion: %f',XA);\n",
"\n",
"//====================================END OF PROGRAM ======================================================"
   ]
   }
,
{
		   "cell_type": "markdown",
		   "metadata": {},
		   "source": [
			"## Example 12.2: Commercial_Sized_Phthalic_Anhydride_Reactor.sce"
		   ]
		  },
  {
"cell_type": "code",
	   "execution_count": null,
	   "metadata": {
	    "collapsed": true
	   },
	   "outputs": [],
"source": [
"//Kunii D., Levenspiel O., 1991. Fluidization Engineering(II Edition). Butterworth-Heinemann, MA, pp 491\n",
"\n",
"//Chapter-12, Example 2, Page 298\n",
"//Title: Commercial-Sized Phthalic Anhydride Reactor\n",
"//==========================================================================================================\n",
"\n",
"clear\n",
"clc\n",
"\n",
"//INPUT\n",
"umf=0.005;//Velocity at minimum fluidization condition in m/s\n",
"ephsilonm=0.52;//Void fraction of fixed bed\n",
"ephsilonmf=0.57;//Void fraction at minimum fluidization condition\n",
"DA=8.1E-6;//Diffusion coefficient of gas in m^2/s\n",
"DR=8.4E-6;//Diffusion coefficient of gas in m^2/s\n",
"Lm=5;//Length of the bed in m\n",
"dte=1;//Diameter of tube in m\n",
"Kr1=1.5;//rate constant in m^3 gas/m^3 cat s\n",
"Kr3=0.01;//rate constant in m^3 gas/m^3 cat s\n",
"gammab=0.005;//Ratio of volume of dispersed solids to that of bubble phase\n",
"uo=0.45;//Superficial gas velocity in m/s\n",
"db=0.05;//Equilibrium bubble size in m from Fig.(6.8)\n",
"ub=1.5;//Velocity of bubbles in bubbling bed in m/s from Fig.(6.11(a))\n",
"g=9.81;//Acceleration due to gravity in square m/s^2\n",
"\n",
"//CALCULATION\n",
"ubr=0.711*(g*db)^0.5;//Rise velocity of bubble from Eqn.(6.7)\n",
"KbcA=4.5*(umf/db)+5.85*((DA^0.5*g^0.25)/db^(5/4));//Gas interchange coefficient between bubble and cloud from Eqn.(10.27)\n",
"KceA=6.77*((DA*ephsilonmf*0.711*(g*db)^0.5)/db^3)^0.5;//Gas interchange coefficient between emulsion and cloud from Eqn.(10.34)\n",
"KbcR=4.5*(umf/db)+5.85*((DR^0.5*g^0.25)/db^(5/4));//Gas interchange coefficient between bubble and cloud from Eqn.(10.27)\n",
"KceR=6.77*((DR*ephsilonmf*0.711*(g*db)^0.5)/db^3)^0.5;//Gas interchange coefficient between emulsion and cloud from Eqn.(10.34)\n",
"delta=uo/ub;//Fraction of bed in bubbles from Eqn.(6.29)\n",
"fw=0.6;//Wake volume to bubble volume from Fig.(5.8)\n",
"gammac=(1-ephsilonmf)*((3/(ubr*ephsilonmf/umf-1))+fw);//Volume of solids in cloud to that of the bubble from Eqn.(6.36)\n",
"gammae=((1-ephsilonmf)*((1-delta)/delta))-gammab-gammac;//Volume of solids in emulsion to that of the bubble from Eqn.(6.35)\n",
"ephsilonf=1-(1-delta)*(1-ephsilonmf);//Void fraction of fixed bed from Eqn.(6.20)\n",
"Lf=(1-ephsilonm)*Lm/(1-ephsilonf);//Length of fixed bed from Eqn.(6.19)\n",
"Krtou=Kr1*Lm*(1-ephsilonm)/uo;//Dimensionless reaction rate group from Eqn.(5)\n",
"Kr12=Kr1;//Since the reactions are a special case of Denbigh scheme\n",
"Kr34=Kr3;\n",
"Kf1=(gammab*Kr12+1/((1/KbcA)+(1/(gammac*Kr12+1/((1/KceA)+(1/(gammae*Kr12)))))))*(delta/(1-ephsilonf));//Rate of reaction 1 for fluidized bed from Eqn.(14)\n",
"Kf3=(gammab*Kr34+1/((1/KbcR)+(1/(gammac*Kr34+1/((1/KceR)+(1/(gammae*Kr34)))))))*(delta/(1-ephsilonf));//Rate of reaction 2 for fluidized bed from Eqn.(14)\n",
"Kf12=Kf1;\n",
"Kf34=Kf3;\n",
"KfA=[[KbcR*KceA/gammac^2+(Kr12+KceA/gammac+KceA/gammae)*(Kr34+KceR/gammac+KceR/gammae)]*delta*KbcA*Kr12*Kr34/(1-ephsilonf)]/[[(Kr12+KbcA/gammac)*(Kr12+KceA/gammae)+Kr12*KceA/gammac]*[(Kr34+KbcR/gammac)*(Kr34+KceR/gammae)+Kr34*KceR/gammac]];//Rate of raection with respect to A from Eqn.(35)\n",
"KfAR=Kr1/Kr12*Kf12-KfA;//Rate of reaction from Eqn.(34)\n",
"tou=Lf*(1-ephsilonf)/uo;//Residence time from Eqn.(5)\n",
"XA=1-exp(-Kf1*tou);//Conversion of A from Eqn.(26)\n",
"XR=1-((KfAR/(Kf12-Kf34))*[exp(-Kf34*tou)-exp(-Kf12*tou)]);//Conversion of R from Eqn.(27)\n",
"SR=(1-XR)/XA;//Selectivity of R\n",
"\n",
"//OUTPUT\n",
"\n",
"mprintf('\nRate of reaction 1 for fluidized bed:%f',Kf1);\n",
"mprintf('\nRate of reaction 2 for fluidized bed:%f',Kf3);\n",
"mprintf('\nRate of reaction 1 with respect to A:%f',KfA);\n",
"mprintf('\nThe Conversion of Napthalene:%f percentage',XA*100);\n",
"mprintf('\nThe selectivity of Phthalic anhydride:%f percentage',SR*100);\n",
"\n",
"//====================================END OF PROGRAM ======================================================"
   ]
   }
,
{
		   "cell_type": "markdown",
		   "metadata": {},
		   "source": [
			"## Example 12.3: Bubbling_Bed_Reactor_for_Intermediate_Sized_Reactor.sce"
		   ]
		  },
  {
"cell_type": "code",
	   "execution_count": null,
	   "metadata": {
	    "collapsed": true
	   },
	   "outputs": [],
"source": [
"//Kunii D., Levenspiel O., 1991. Fluidization Engineering(II Edition). Butterworth-Heinemann, MA, pp 491\n",
"\n",
"//Chapter-12, Example 3, Page 302\n",
"//Title: Bubbling Bed Reactor for Intermediate Sized Reactor\n",
"//==========================================================================================================\n",
"\n",
"clear\n",
"clc\n",
"\n",
"//INPUT\n",
"Kr=3;//rate constant in m^3 gas/m^3 cat s\n",
"db=0.12;//Equilibrium bubble size in m\n",
"D=9E-5;//Diffusion coefficient of gas in m^2/s\n",
"dpbar=68;//Average partilce size in micrometers\n",
"ephsilonm=0.42;//Void fraction of fixed bed\n",
"uo=0.4;//Superficial gas velocity in m/s\n",
"Lm=0.8;//Length of the bed in m\n",
"ephsilonmf=0.45;//Void fraction at minimum fluidization condition\n",
"umf=0.21;//Velocity at minimum fluidization condition in m/s\n",
"gammab=0;//Ratio of volume of dispersed solids to that of bubble phase\n",
"g=9.81;//Acceleration due to gravity in square m/s^2\n",
"\n",
"//CALCULATION\n",
"ubr=0.711*(g*db)^0.5;//Rise velocity of bubble from Eqn.(6.7)\n",
"ub=uo-umf+ubr;//Velocity of bubbles in bubbling beds in Eqn.(6.8)\n",
"ubstar=ub+3*umf;//Rise velocity of the bubble gas from Eqn.(45)\n",
"delta=(uo-umf)/(ub+umf);//Fraction of bed in bubbles from Eqn.(6.46)\n",
"Kbe=4.5*(umf/db);//Interchange coefficient between bubble and emulsion from Eqn.(47)\n",
"Lf=Lm*(1-ephsilonm)/((1-delta)*(1-ephsilonmf));//Length of fixed bed\n",
"phi=[(Kr/Kbe)^2*{(1-ephsilonmf)-gammab*(umf/ubstar)}^2+((delta/(1-delta))+umf/ubstar)^2+2*(Kr/Kbe)*{(1-ephsilonmf)-gammab*(umf/ubstar)}*((delta/(1-delta))-umf/ubstar)]^0.5;//From Eqn.(52)\n",
"q1=0.5*Kr/umf*{(1-ephsilonmf)+gammab*(umf/ubstar)}+0.5*Kbe/umf*{((delta/(1-delta))+umf/ubstar)-phi};//From Eqn.(50)\n",
"q2=0.5*Kr/umf*{(1-ephsilonmf)+gammab*(umf/ubstar)}+0.5*Kbe/umf*{((delta/(1-delta))+umf/ubstar)+phi};//From Eqn.(50)\n",
"si1=0.5-0.5*((1-delta)/delta)*[umf/ubstar-Kr/Kbe*{(1-ephsilonmf)-gammab*(umf/ubstar)}-phi];//From Eqn.(51)\n",
"si2=0.5-0.5*((1-delta)/delta)*[umf/ubstar-Kr/Kbe*{(1-ephsilonmf)-gammab*(umf/ubstar)}+phi];//From Eqn.(51)\n",
"XA=1-(delta/(1-delta))*(1/(uo*phi))*[(1-si2)*{si1*delta*ubstar+(1-delta)*umf}*exp(-q1*Lf)+(si1-1)*{si2*delta*ubstar+(1-delta)*umf}*exp(-q2*Lf)];//Conversion from Eqn.(49)\n",
"Krtou=Kr*Lm*(1-ephsilonm)/uo;//Dimensionless reaction rate group from Eqn.(5)\n",
"\n",
"//OUTPUT\n",
"mprintf('\nCOmparing the values of 1-XA = %f and Krtou = %f with Fig.(6), we can conlcude that this operating condition is shown as point A in Fig.(3)',1-XA,Krtou);\n",
"printf('\nLine 2 gives the locus of conversions for different values of the reaction rate group for this fluidized contacting');\n",
"\n",
"//====================================END OF PROGRAM ======================================================"
   ]
   }
,
{
		   "cell_type": "markdown",
		   "metadata": {},
		   "source": [
			"## Example 12.4: Reaction_in_the_Slow_Bubble_Regime.sce"
		   ]
		  },
  {
"cell_type": "code",
	   "execution_count": null,
	   "metadata": {
	    "collapsed": true
	   },
	   "outputs": [],
"source": [
"//Kunii D., Levenspiel O., 1991. Fluidization Engineering(II Edition). Butterworth-Heinemann, MA, pp 491\n",
"\n",
"//Chapter-12, Example 4, Page 305\n",
"//Title: Reaction in the Slow Bubble Regime\n",
"//==========================================================================================================\n",
"\n",
"clear\n",
"clc\n",
"\n",
"//INPUT\n",
"uo=0.25;//Superficial gas velocity in m/s\n",
"db=0.025;//Equilibrium bubble size in m\n",
"Kr=1.5;//rate constant in m^3 gas/m^3 cat s\n",
"umf=0.21;//Velocity at minimum fluidization condition in m/s\n",
"Lm=0.8;//Length of the bed in m\n",
"ephsilonm=0.42;//Void fraction of fixed bed\n",
"g=9.81;//Acceleration due to gravity in square m/s^2\n",
"\n",
"//CALCULATION\n",
"ubr=0.711*(g*db)^0.5;//Rise velocity of bubble from Eqn.(6.7)\n",
"ub=uo-umf+ubr;//Velocity of bubbles in bubbling beds in Eqn.(6.8)\n",
"delta=(uo-umf)/(ub+2*umf);//Fraction of bed in bubbles from Eqn.(55) since ub/umf<<1 \n",
"XA=1-exp(-Kr*Lm*((1-ephsilonm)/uo)*(umf/uo)*(1-delta));//Conversion from Eqn.(57)\n",
"Krtou=Kr*Lm*(1-ephsilonm)/uo;//Dimensionless reaction rate group from Eqn.(5)\n",
"\n",
"\n",
"//OUTPUT\n",
"mprintf('\nComparing the values of 1-XA = %f and Krtou = %f with Fig.(6), we can conlcude that this operating condition is shown as point B in Fig.(3)',1-XA,Krtou);\n",
"printf('\nLine 3 gives the locus of conversions for different values of the reaction rate group for this fluidized contacting');\n",
"\n",
"//====================================END OF PROGRAM ======================================================"
   ]
   }
,
{
		   "cell_type": "markdown",
		   "metadata": {},
		   "source": [
			"## Example 12.5: Conversion_in_the_Freeboard_of_a_Reactor.sce"
		   ]
		  },
  {
"cell_type": "code",
	   "execution_count": null,
	   "metadata": {
	    "collapsed": true
	   },
	   "outputs": [],
"source": [
"//Kunii D., Levenspiel O., 1991. Fluidization Engineering(II Edition). Butterworth-Heinemann, MA, pp 491\n",
"\n",
"//Chapter-12, Example 5, Page 307\n",
"//Title: Conversion in the Freeboard of a Reactor\n",
"//==========================================================================================================\n",
"\n",
"clear\n",
"clc\n",
"\n",
"//INPUT\n",
"uo=0.3;//Superficial gas velocity in m/s\n",
"Lf=1.1;//Length of fixed bed in m\n",
"Hf=1.2;//Length of freeboard in m\n",
"db=0.04;//Equilibrium bubble size in m\n",
"umf=0.006;//Velocity at minimum fluidization condition in m/s\n",
"ephsilonmf=0.55;//Void fraction at minimum fluidization condition\n",
"gammab=0.005;//Ratio of volume of dispersed solids to that of bubble phase\n",
"Kr=10;//rate constant in m^3 gas/m^3 cat s\n",
"D=2E-5;//Diffusion coefficient of gas in m^2/s\n",
"g=9.81;//Acceleration due to gravity in square m/s^2\n",
"\n",
"//CALCULATION\n",
"ubr=0.711*(g*db)^0.5;//Rise velocity of bubble from Eqn.(6.7)\n",
"ub=uo-umf+ubr;//Velocity of bubbles in bubbling beds in Eqn.(6.8)\n",
"Kbc=4.5*(umf/db)+5.85*((D^0.5*g^0.25)/db^(5/4));//Gas interchange coefficient between bubble and cloud from Eqn.(10.27)\n",
"Kce=6.77*((D*ephsilonmf*0.711*(g*db)^0.5)/db^3)^0.5;//Gas interchange coefficient between emulsion and cloud from Eqn.(10.34)\n",
"delta=uo/ub;//Fraction of bed in bubbles from Eqn.(6.29)\n",
"ephsilonf=1-(1-delta)*(1-ephsilonmf);//Void fraction of fixed bed from Eqn.(6.20)\n",
"fw=0.6;//Wake volume to bubble volume from Fig.(5.8)\n",
"gammac=(1-ephsilonmf)*((3/(ubr*ephsilonmf/umf-1))+fw);//Volume of solids in cloud to that of the bubble from Eqn.(6.36)\n",
"gammae=((1-ephsilonmf)*((1-delta)/delta))-gammab-gammac;//Volume of solids in emulsion to that of the bubble from Eqn.(6.35)\n",
"Kf=(gammab*Kr)+1/((1/Kbc)+(1/(gammac*Kr+1/((1/Kce)+(1/(gammae*Kr))))));//Raction rate for fluidized bed from Eqn.(14)\n",
"XA=1-exp(-1*Kf*Lf/ub);//Conversion at the top of dense bed from Eqn.(16)\n",
"etabed=(Kf*delta)/(Kr*(1-ephsilonf));//Reactor efficiency from Eqn.(22)\n",
"a=0.6/uo//Since uoa = 0.6s^-1 from Fig.(5)\n",
"adash=6.62;//From Fig.(5)\n",
"XA1=1-1/(exp(((1-ephsilonf)*Kr/(uo*a))*[(1-exp(-a*Hf))-((1-etabed)/(1+(adash/a)))*(1-exp(-(a+adash)*Hf))]));//Conversion from Eqn.(64)\n",
"XA2=1-(1-XA1)*(1-XA);//Conversion at the exit from Eqn.(64)\n",
"\n",
"//OUTPUT\n",
"printf('\nThe conversion:');\n",
"mprintf('\n\tAt the top pf the dense bed: %f percentage',XA*100);\n",
"mprintf('\n\tAt the reactor exit: %f percentage',XA2*100);\n",
"\n",
"//Disclaimer: The value of kf deviate from the one given in textbook, where as it is close to the value obtained by manual calculation. \n",
"//====================================END OF PROGRAM ======================================================"
   ]
   }
],
"metadata": {
		  "kernelspec": {
		   "display_name": "Scilab",
		   "language": "scilab",
		   "name": "scilab"
		  },
		  "language_info": {
		   "file_extension": ".sce",
		   "help_links": [
			{
			 "text": "MetaKernel Magics",
			 "url": "https://github.com/calysto/metakernel/blob/master/metakernel/magics/README.md"
			}
		   ],
		   "mimetype": "text/x-octave",
		   "name": "scilab",
		   "version": "0.7.1"
		  }
		 },
		 "nbformat": 4,
		 "nbformat_minor": 0
}
