{
"cells": [
 {
		   "cell_type": "markdown",
	   "metadata": {},
	   "source": [
       "# Chapter 1: Basic concepts"
	   ]
	},
{
		   "cell_type": "markdown",
		   "metadata": {},
		   "source": [
			"## Example 1.10: example.sce"
		   ]
		  },
  {
"cell_type": "code",
	   "execution_count": null,
	   "metadata": {
	    "collapsed": true
	   },
	   "outputs": [],
"source": [
"clear;\n",
"clc;\n",
"printf('\n Example 1.10');\n",
"// function to sum a list of numbers.\n",
"function[]=add()\n",
"    printf('\n no. in the list are');\n",
"    disp(a);\n",
"    x=sum(a);\n",
"    printf('\n Result=%d',x);\n",
"    funcprot(0);\n",
"    endfunction\n",
"    //calling routine.\n",
"    a=[2 5 6 7 9 1 6 3 7 45]\n",
"    add()"
   ]
   }
,
{
		   "cell_type": "markdown",
		   "metadata": {},
		   "source": [
			"## Example 1.11: example.sce"
		   ]
		  },
  {
"cell_type": "code",
	   "execution_count": null,
	   "metadata": {
	    "collapsed": true
	   },
	   "outputs": [],
"source": [
"clear;\n",
"clc;\n",
"printf('\n Example 1.11');\n",
"// Matrix addition.\n",
"a=[1 2 3;4 5 6];\n",
"b=[7 8 9;10 11 12];\n",
"x=matrix(a,3,2);........//no. of rows=3,no. of col. =2.\n",
"y=matrix(b,3,2);........//no, of rows=3,no. of col.=2.\n",
"printf('matrix x=');\n",
"disp(x);\n",
"printf('matrix y=');\n",
"disp(y);\n",
"[p,q]=size(x);\n",
"i=1;\n",
"j=1;\n",
"for i=1:p\n",
"    for j=1:q\n",
"        z(i,j)=x(i,j)+y(i,j);..........//summing two matrices\n",
"    end\n",
"end\n",
"printf('\n Resultant matrix after addition =');\n",
"disp(z);.............//displayin sum of two matrices."
   ]
   }
,
{
		   "cell_type": "markdown",
		   "metadata": {},
		   "source": [
			"## Example 1.12: example.sce"
		   ]
		  },
  {
"cell_type": "code",
	   "execution_count": null,
	   "metadata": {
	    "collapsed": true
	   },
	   "outputs": [],
"source": [
"clear;\n",
"clc;\n",
"printf('Example 1.12');\n",
"//[BIG 'oh']f(n)=O(g(n)). (big oh notation).\n",
"printf('\n \n 3n+2=O(n) as 3n+2<=4n for all n>=2.');\n",
"printf('\n \n 3n+3=O(n) as 3n+3<=4n for all n>=3.');............// O(n) is called linear.\n",
"printf('\n \n 3n+2=O(n) as 100n+6<=101n for all n>=10.');\n",
"printf('\n \n 10n^2+4n+2=O(n^2) as 10n^2+4n+2<=11n^2 for n>=5.');..........//O(n^2) is called quadratic.\n",
"printf('\n \n 1000n^2+100n-6=O(n^2) as 1000n^2+100n-6<=1001n^2 for n>=100.');\n",
"printf('\n \n 6*2^n+n^2<=7*2^n for n>=4');\n",
"printf('\n \n 3n+3=O(n^2) as 3n+3<=3n^2 for n>=2');\n",
"printf('\n \n 10n^2+4n+2=O(n^4) as 10n^2+4n+2<=10n^4 for n>=2.');\n",
"printf('\n \n 3n+2 is not O(1) as 3n+2 is less than or equal to c for any constant c and all n,n>=n0.');............// O(1) means computing time is constant.\n",
"printf('\n \n 10n^2+4n+2 is not O(n)');"
   ]
   }
,
{
		   "cell_type": "markdown",
		   "metadata": {},
		   "source": [
			"## Example 1.13: example.sce"
		   ]
		  },
  {
"cell_type": "code",
	   "execution_count": null,
	   "metadata": {
	    "collapsed": true
	   },
	   "outputs": [],
"source": [
"clear;\n",
"clc;\n",
"printf('\n Example 1.13');\n",
"printf('\n \n [Omega]f(n)=omega(g(n))');\n",
"printf('\n \n 3n+2=omega(n) as 3n+2>=3n for n>=1');\n",
"printf('\n \n 3n+3=omega(n) as 3n+3>=3n for n>=1');\n",
"printf('\n \n 100n+6=omega(n) as 100n+6>=100n for n>=1');\n",
"printf('\n \n 10n^2+4n+2=omega(n^2) as 10n^2+4n+2>=n^2 for n>=1');\n",
"printf('\n \n 6*2^n+n^2=omega(n) as 6*2^n+n^2>=2^n for n>=1');\n",
"printf('\n \n 3n+3=omega(1) ');\n",
"printf(' \n \n \t [Omega]f(n)=omega(1)');"
   ]
   }
,
{
		   "cell_type": "markdown",
		   "metadata": {},
		   "source": [
			"## Example 1.14: example.sce"
		   ]
		  },
  {
"cell_type": "code",
	   "execution_count": null,
	   "metadata": {
	    "collapsed": true
	   },
	   "outputs": [],
"source": [
"clear;\n",
"clc;\n",
"printf('\n Example 1.14');\n",
"printf('\n \n [Theta]f(n)=theta(g(n))');\n",
"printf('\n \n 3n+2=theta(n) as 3n+2>=3n for al  n>=2');\n",
"printf('\n \n 3n+3=theta(n)');\n",
"printf('\n \n 10n^2+4n+2=theta(n^2)');\n",
"printf('\n \n 6*2^n+n^2=theta(2^n)');\n",
"printf('\n \n 3n+2 is not theta(1) ');\n",
"printf('\n \n 3n+3 is not theta(n^2) \n');\n",
"printf('\n \n The Theta notation is more precise than both big oh and omega notaion');"
   ]
   }
,
{
		   "cell_type": "markdown",
		   "metadata": {},
		   "source": [
			"## Example 1.15: example.sce"
		   ]
		  },
  {
"cell_type": "code",
	   "execution_count": null,
	   "metadata": {
	    "collapsed": true
	   },
	   "outputs": [],
"source": [
"clear;\n",
"clc;\n",
"printf('\n \t Example 1.15');\n",
"// how various functions grow with n, plotting of various functions is being shown.\n",
"// like function 2^n grows very rapidly with n. and utility of programs with exponential complexity is limited to small n ( typically n<=40).\n",
"n=[ 1 2 3 4 5 6];.......// takin value of n from 1 to 10 to observe the variation in various functions.\n",
"plot(log (n));\n",
"plot(2^n);\n",
"plot(n);\n",
"plot(n^2);\n",
"xtitle('Plot of function values','n -->','f -->');\n",
"printf(' \n \n X - axis is represented by values of n and Y-axis if represented by f');"
   ]
   }
,
{
		   "cell_type": "markdown",
		   "metadata": {},
		   "source": [
			"## Example 1.1: example.sce"
		   ]
		  },
  {
"cell_type": "code",
	   "execution_count": null,
	   "metadata": {
	    "collapsed": true
	   },
	   "outputs": [],
"source": [
"//to do sorting of nos. contained in a list\n",
"function[]=sorting(a)\n",
"    i=1;\n",
"    [j,k]=size(a);\n",
"    j=i;\n",
"    for i=1:k-1\n",
"        for j=i:k\n",
"            if a(i)>a(j) then\n",
"            z=a(i);\n",
"            a(i)=a(j);\n",
"            a(j)=z;\n",
"        end\n",
"    end\n",
"end\n",
"for i=1:k\n",
"    disp(a(i));\n",
"end\n",
"\n",
"funcprot(0);\n",
"endfunction\n",
"    //callin routine\n",
"    a=[5 7 45 23 78]\n",
"    sort=sorting(a)"
   ]
   }
,
{
		   "cell_type": "markdown",
		   "metadata": {},
		   "source": [
			"## Example 1.2: example.sce"
		   ]
		  },
  {
"cell_type": "code",
	   "execution_count": null,
	   "metadata": {
	    "collapsed": true
	   },
	   "outputs": [],
"source": [
"// to do binary search..\n",
"function[]=search(a)\n",
"    i=1;\n",
"    [j,k]=size(a);\n",
"            for i=1:k\n",
"                if z==a(i) then\n",
"                    printf('\nFOUND and index no. is=%d\t',i);\n",
"                end\n",
"            end\n",
"        funcprot(0);\n",
"endfunction\n",
"//callin routine\n",
"a=[5 7 45 28 99]\n",
"z=45\n",
"binary=search(a)"
   ]
   }
,
{
		   "cell_type": "markdown",
		   "metadata": {},
		   "source": [
			"## Example 1.3: example.sce"
		   ]
		  },
  {
"cell_type": "code",
	   "execution_count": null,
	   "metadata": {
	    "collapsed": true
	   },
	   "outputs": [],
"source": [
"// to do binary search..\n",
"function[]=search(a)\n",
"    i=1;\n",
"    [j,k]=size(a);\n",
"            for i=1:k\n",
"                if x==a(i) then\n",
"                    printf('\nFOUND and index no. is=%d\t',i);\n",
"                end\n",
"            end\n",
"        funcprot(0);\n",
"endfunction\n",
"//callin routine\n",
"a=[5 7 45 28 99]\n",
"x=45\n",
"binary=search(a)"
   ]
   }
,
{
		   "cell_type": "markdown",
		   "metadata": {},
		   "source": [
			"## Example 1.4: example.sce"
		   ]
		  },
  {
"cell_type": "code",
	   "execution_count": null,
	   "metadata": {
	    "collapsed": true
	   },
	   "outputs": [],
"source": [
"// example 1.4\n",
"// permutation of a string or character array...\n",
"clear;\n",
"clc;\n",
"x=['a' 'b' 'c' 'd']\n",
"printf('\npossible permutation of given string are\n');\n",
"y=perms(x);\n",
"disp(y);\n",
""
   ]
   }
,
{
		   "cell_type": "markdown",
		   "metadata": {},
		   "source": [
			"## Example 1.5: example.sce"
		   ]
		  },
  {
"cell_type": "code",
	   "execution_count": null,
	   "metadata": {
	    "collapsed": true
	   },
	   "outputs": [],
"source": [
"//     example 1.5\n",
"//   ADT(Abstract Data type) defination of natural number.\n",
" function[]=ADT(x)\n",
"     printf('ADT natural no. is ');\n",
" printf('\nOBJECTS: an ordered subrange of the integers starting at zero and ');\n",
"     printf('ending at the maximun integer (INT_MAX) on the computer');\n",
"    INT_MAX=32767;\n",
"    if x==0                 //NaturalNumberZero()\n",
"        printf('\n',0);\n",
"        end\n",
"        if x==INT_MAX then     //NaturalNumberSuccessor(x)\n",
"            printf('\nans. is=%d',x);\n",
"        else \n",
"            printf('\nans. is=%d',x+1);\n",
"        end \n",
"    endfunction\n",
"    //callin routine\n",
"    x=56\n",
"    y=ADT(x);"
   ]
   }
,
{
		   "cell_type": "markdown",
		   "metadata": {},
		   "source": [
			"## Example 1.6: example.sce"
		   ]
		  },
  {
"cell_type": "code",
	   "execution_count": null,
	   "metadata": {
	    "collapsed": true
	   },
	   "outputs": [],
"source": [
"//function abc accepting only three simple variables given the function has \n",
" //only fixed sace requirement..\n",
" function[]=abc(a,b,c)\n",
"     x= a+b+c*c+(a+b-c)/(a+b)+4.00;\n",
"     disp(x);\n",
"     funcprot(0);\n",
" endfunction\n",
" ....//calling routine\n",
" a=[1],b=[2],c=[3]\n",
" abc(a,b,c)"
   ]
   }
,
{
		   "cell_type": "markdown",
		   "metadata": {},
		   "source": [
			"## Example 1.7: example.sce"
		   ]
		  },
  {
"cell_type": "code",
	   "execution_count": null,
	   "metadata": {
	    "collapsed": true
	   },
	   "outputs": [],
"source": [
"// To add a list of no. using array.\n",
"function[]=add(a)\n",
"    result=sum(a);\n",
"\n",
"    printf('addition of no. on the list is=%d',result);\n",
"    funcprot(0);\n",
"endfunction\n",
"//calling routine\n",
"a=[5 2 7 8 9 4 6]\n",
"r=add(a)"
   ]
   }
,
{
		   "cell_type": "markdown",
		   "metadata": {},
		   "source": [
			"## Example 1.8: example.sce"
		   ]
		  },
  {
"cell_type": "code",
	   "execution_count": null,
	   "metadata": {
	    "collapsed": true
	   },
	   "outputs": [],
"source": [
"clear;\n",
"clc;\n",
"printf('\n Example 1.8');\n",
"a=[2;5;4;64;78]\n",
"i=1;\n",
"x=1;............//initialising sum equals to one.\n",
"c=1;..............// initialising count equals to one.\n",
"while i<6\n",
"    c=c+a(i);........//sum\n",
"    x=x+1;...............////step count\n",
"    i=i+1;\n",
"end\n",
"printf('\n no. in the list are a=')\n",
"printf('\n %d',a);\n",
"printf('\n sum is=%d',(c-1));\n",
"printf('\n count is=%d',(x-1));"
   ]
   }
,
{
		   "cell_type": "markdown",
		   "metadata": {},
		   "source": [
			"## Example 1.9: example.sce"
		   ]
		  },
  {
"cell_type": "code",
	   "execution_count": null,
	   "metadata": {
	    "collapsed": true
	   },
	   "outputs": [],
"source": [
"clear;\n",
"clc;\n",
"printf('\n Example 1.9');\n",
"a=[1 2 3;4 5 6];\n",
"b=[7 8 9;10 11 12];\n",
"x=matrix(a,3,2);........//no. of rows=3,no. of col. =2.\n",
"y=matrix(b,3,2);........//no, of rows=3,no. of col.=2.\n",
"printf('matrix x=');\n",
"disp(x);\n",
"printf('matrix y=');\n",
"disp(y);\n",
"[p,q]=size(x);\n",
"i=1;\n",
"j=1;\n",
"c=1;\n",
"for i=1:p\n",
"    for j=1:q\n",
"        z(i,j)=x(i,j)+y(i,j);..........//summing two matrices\n",
"        c=c+1;...........//step count\n",
"    end\n",
"end\n",
"printf('\n Resultant matrix after addition =');\n",
"disp(z);.............//displayin sum of two matrices.\n",
"printf('\n step count is=%d',(c-1));"
   ]
   }
],
"metadata": {
		  "kernelspec": {
		   "display_name": "Scilab",
		   "language": "scilab",
		   "name": "scilab"
		  },
		  "language_info": {
		   "file_extension": ".sce",
		   "help_links": [
			{
			 "text": "MetaKernel Magics",
			 "url": "https://github.com/calysto/metakernel/blob/master/metakernel/magics/README.md"
			}
		   ],
		   "mimetype": "text/x-octave",
		   "name": "scilab",
		   "version": "0.7.1"
		  }
		 },
		 "nbformat": 4,
		 "nbformat_minor": 0
}
