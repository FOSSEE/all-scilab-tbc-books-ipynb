{
"cells": [
 {
		   "cell_type": "markdown",
	   "metadata": {},
	   "source": [
       "# Chapter 2: Arrays and Structures"
	   ]
	},
{
		   "cell_type": "markdown",
		   "metadata": {},
		   "source": [
			"## Example 2.1: example.sce"
		   ]
		  },
  {
"cell_type": "code",
	   "execution_count": null,
	   "metadata": {
	    "collapsed": true
	   },
	   "outputs": [],
"source": [
"clear;\n",
"clc;\n",
"printf('\n example 2.1');\n",
"// printing out values of the array .\n",
"a=[31 40 57 46 97 84];\n",
"printf('\nvalues are :\n');\n",
"disp(a);"
   ]
   }
,
{
		   "cell_type": "markdown",
		   "metadata": {},
		   "source": [
			"## Example 2.2: example.sce"
		   ]
		  },
  {
"cell_type": "code",
	   "execution_count": null,
	   "metadata": {
	    "collapsed": true
	   },
	   "outputs": [],
"source": [
"clear;\n",
"clc;\n",
"printf('\n Example 2.2\n');\n",
"// String insertion.\n",
"s='auto';...............//1st string or character array.\n",
"x='mobile';...............//2nd string or character array.\n",
"z=s+x;..........//concatenation of 2 strings.\n",
"printf('\tstring s=');\n",
"disp(s);\n",
"printf('\tstring x=');\n",
"disp(x);\n",
"printf('\tconcatenated string z=');\n",
"disp(z);........//dispalying concatenated string."
   ]
   }
,
{
		   "cell_type": "markdown",
		   "metadata": {},
		   "source": [
			"## Example 2.3: example.sce"
		   ]
		  },
  {
"cell_type": "code",
	   "execution_count": null,
	   "metadata": {
	    "collapsed": true
	   },
	   "outputs": [],
"source": [
"clear;\n",
"clc;\n",
"printf('\nExample 2.3\n');\n",
"// comparision of 2 strings.\n",
"a='hakunah';..........//string 1.\n",
"b='matata';.............//string 2.\n",
"disp(' a & b respectively are =');\n",
"disp(a);\n",
"disp(b);\n",
"disp('comparing strings');\n",
"z=strcmp(a,b);.........//comparision of 2 strings.\n",
"if(z==0)\n",
"    printf('\nMATCHED\n');.......// if strings matched strcmp returns 0.\n",
"else\n",
"    printf('\nNOT MATCHED\n');.........// if string doesn't matched strcmp returns -1.\n",
"    end\n",
"     q='akash';\n",
"     w='akash';\n",
"     disp('q & w respectively are=');\n",
"     disp(q);\n",
"     disp(w);\n",
"     disp('comparing strings');\n",
"     x=strcmp(q,w);\n",
"     if(x==0)\n",
"    printf('\nMATCHED\n');.......// if strings matched strcmp returns 0.\n",
"else\n",
"    printf('\nNOT MATCHED\n');.........// if string doesn't matched strcmp returns -1.\n",
"    end"
   ]
   }
],
"metadata": {
		  "kernelspec": {
		   "display_name": "Scilab",
		   "language": "scilab",
		   "name": "scilab"
		  },
		  "language_info": {
		   "file_extension": ".sce",
		   "help_links": [
			{
			 "text": "MetaKernel Magics",
			 "url": "https://github.com/calysto/metakernel/blob/master/metakernel/magics/README.md"
			}
		   ],
		   "mimetype": "text/x-octave",
		   "name": "scilab",
		   "version": "0.7.1"
		  }
		 },
		 "nbformat": 4,
		 "nbformat_minor": 0
}
