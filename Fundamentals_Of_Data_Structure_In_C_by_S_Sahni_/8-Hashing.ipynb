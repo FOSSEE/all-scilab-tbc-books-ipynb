{
"cells": [
 {
		   "cell_type": "markdown",
	   "metadata": {},
	   "source": [
       "# Chapter 8: Hashing"
	   ]
	},
{
		   "cell_type": "markdown",
		   "metadata": {},
		   "source": [
			"## Example 8.1: example.sce"
		   ]
		  },
  {
"cell_type": "code",
	   "execution_count": null,
	   "metadata": {
	    "collapsed": true
	   },
	   "outputs": [],
"source": [
"clear;\n",
"clc;\n",
"disp('Example 8.1');\n",
"k=12320324111220;\n",
"p1=123;\n",
"p2=203;\n",
"p3=241;......//key k partitioned into parts that are 3 decimal long.\n",
"p4=112;\n",
"p5=20;\n",
"///.....using shift folding...\n",
"//....partitions are added to get the hash address.\n",
"z=p1+p2+p3+p4+p5;\n",
"disp(z);\n",
"//when folding at the boundaries is used,we reverse p2 and p4.\n",
" p2=302;\n",
" p4=211;\n",
" x=p1+p2+p3+p4+p5;\n",
" disp(x);"
   ]
   }
,
{
		   "cell_type": "markdown",
		   "metadata": {},
		   "source": [
			"## Example 8.2: example.sce"
		   ]
		  },
  {
"cell_type": "code",
	   "execution_count": null,
	   "metadata": {
	    "collapsed": true
	   },
	   "outputs": [],
"source": [
"clear;\n",
"clc;\n",
"disp('Example 8.2');\n",
"function[]=stringtoint()\n",
"    num= ascii('scilab');\n",
"    disp('displayin ascii codes of alphabets=');\n",
"    disp(num);\n",
"    // converting strings into unique non-negative integer and suming these unique integers.\n",
"    z=sum(num);\n",
"    disp('displayin sum of these integers');\n",
"    disp(z);\n",
"endfunction\n",
"stringtoint()"
   ]
   }
],
"metadata": {
		  "kernelspec": {
		   "display_name": "Scilab",
		   "language": "scilab",
		   "name": "scilab"
		  },
		  "language_info": {
		   "file_extension": ".sce",
		   "help_links": [
			{
			 "text": "MetaKernel Magics",
			 "url": "https://github.com/calysto/metakernel/blob/master/metakernel/magics/README.md"
			}
		   ],
		   "mimetype": "text/x-octave",
		   "name": "scilab",
		   "version": "0.7.1"
		  }
		 },
		 "nbformat": 4,
		 "nbformat_minor": 0
}
