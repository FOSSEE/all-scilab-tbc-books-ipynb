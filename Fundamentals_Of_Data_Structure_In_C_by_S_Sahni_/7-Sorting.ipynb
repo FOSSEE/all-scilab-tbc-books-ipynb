{
"cells": [
 {
		   "cell_type": "markdown",
	   "metadata": {},
	   "source": [
       "# Chapter 7: Sorting"
	   ]
	},
{
		   "cell_type": "markdown",
		   "metadata": {},
		   "source": [
			"## Example 7.1: example.sce"
		   ]
		  },
  {
"cell_type": "code",
	   "execution_count": null,
	   "metadata": {
	    "collapsed": true
	   },
	   "outputs": [],
"source": [
"clear;\n",
"clc;\n",
"disp('Example 7.1');\n",
"funcprot(0);\n",
"function[a1]=insertion(a,n)\n",
"  for k=1:n\n",
"    y=a(k);\n",
"    i=k;\n",
"    while(i>=1)\n",
"      if(y<a(i))\n",
"        a(i+1)=a(i);\n",
"        a(i)=y;\n",
"      end\n",
"      i=i-1;\n",
"    end\n",
"  end\n",
"  a1=a;\n",
"  disp(a1,'Sorted array is:');\n",
"endfunction\n",
"//Calling Routine:\n",
"a=[5 4 3 2 1]       // worst-case behaviour of insertion sort.\n",
"disp(a,'Given Array');\n",
"a1=insertion(a,5) "
   ]
   }
,
{
		   "cell_type": "markdown",
		   "metadata": {},
		   "source": [
			"## Example 7.2: example.sce"
		   ]
		  },
  {
"cell_type": "code",
	   "execution_count": null,
	   "metadata": {
	    "collapsed": true
	   },
	   "outputs": [],
"source": [
"clear;\n",
"clc;\n",
"disp('Example 7.2');\n",
"funcprot(0);\n",
"function[a1]=insertion(a,n)\n",
"  for k=1:n\n",
"    y=a(k);\n",
"    i=k;\n",
"    while(i>=1)\n",
"      if(y<a(i))\n",
"        a(i+1)=a(i);\n",
"        a(i)=y;\n",
"      end\n",
"      i=i-1;\n",
"    end\n",
"  end\n",
"  a1=a;\n",
"  disp(a1,'Sorted array is:');\n",
"endfunction\n",
"//Calling Routine:\n",
"a=[2 3 4 5 1]\n",
"disp(a,'Given Array');\n",
"a1=insertion(a,5) "
   ]
   }
,
{
		   "cell_type": "markdown",
		   "metadata": {},
		   "source": [
			"## Example 7.3: example.sce"
		   ]
		  },
  {
"cell_type": "code",
	   "execution_count": null,
	   "metadata": {
	    "collapsed": true
	   },
	   "outputs": [],
"source": [
"clear;\n",
"clc;\n",
"disp('Example 7.3');\n",
"funcprot(0);\n",
"function[a1]=quick(a);\n",
"  a=gsort(a);//IN BUILT QUICK SORT FUNCTION\n",
"  n=length(a);\n",
"  a1=[];\n",
"  for i=1:n\n",
"    a1=[a1(:,:) a(n+1-i)];\n",
"  end\n",
"  disp(a1,'Sorted array is:');\n",
"endfunction\n",
"//Calling Routine:\n",
"a=[26 5 37 1 61 11 59 15 48 19]\n",
"disp(a,'Given Array');\n",
"a1=quick(a)"
   ]
   }
,
{
		   "cell_type": "markdown",
		   "metadata": {},
		   "source": [
			"## Example 7.4: example.sce"
		   ]
		  },
  {
"cell_type": "code",
	   "execution_count": null,
	   "metadata": {
	    "collapsed": true
	   },
	   "outputs": [],
"source": [
"clear;\n",
"clc;\n",
"disp('Example 7.4');\n",
"function[a1]=insertion(a,n)\n",
"  for k=1:n\n",
"    y=a(k);\n",
"    i=k;\n",
"    while(i>=1)\n",
"      if(y<a(i))\n",
"        a(i+1)=a(i);\n",
"        a(i)=y;\n",
"      end\n",
"      i=i-1;\n",
"    end\n",
"  end\n",
"  a1=a;\n",
"  disp(a1,'Sorted array is:');\n",
"endfunction\n",
"//Calling Routine:\n",
"a=[3 1 2]\n",
"disp(a,'Given Array');\n",
"a1=insertion(a,3) "
   ]
   }
,
{
		   "cell_type": "markdown",
		   "metadata": {},
		   "source": [
			"## Example 7.5: example.sce"
		   ]
		  },
  {
"cell_type": "code",
	   "execution_count": null,
	   "metadata": {
	    "collapsed": true
	   },
	   "outputs": [],
"source": [
"clear;\n",
"clc;\n",
"disp('Example 7.5');\n",
"funcprot(0);\n",
"function[a1]=mergesort(a,p,r)\n",
"  if(p<r)\n",
"    q=int((p+r)/2);\n",
"    a=mergesort(a,p,q);\n",
"    a=mergesort(a,q+1,r);\n",
"    a=merge(a,p,q,r);\n",
"  else\n",
"    a1=a;\n",
"    return;\n",
"  end\n",
"  a1=a;\n",
"endfunction\n",
"function[a1]=merge(a,p,q,r)\n",
"  n1=q-p+1;\n",
"  n2=r-q;\n",
"  left=zeros(n1+1);\n",
"  right=zeros(n2+1);\n",
"  for i=1:n1\n",
"    left(i)=a(p+i-1);\n",
"  end\n",
"  for i1=1:n2\n",
"      right(i1)=a(q+i1);\n",
"  end\n",
"  left(n1+1)=999999999;\n",
"  right(n2+1)=999999999;\n",
"  i=1;\n",
"  j=1;\n",
"  k=p;\n",
"  for  k=p:r\n",
"    if(left(i)<=right(j))\n",
"      a(k)=left(i);\n",
"      i=i+1;\n",
"    else\n",
"      a(k)=right(j);\n",
"      j=j+1;\n",
"    end\n",
"  end\n",
"  a1=a;\n",
"endfunction\n",
"//Calling Routine:\n",
"a=[26 5 77 1 61 11 59 15 48 19]\n",
"disp(a,'Given Array');\n",
"a1=mergesort(a,1,10)\n",
"disp(a1,'Sorted array is:');"
   ]
   }
,
{
		   "cell_type": "markdown",
		   "metadata": {},
		   "source": [
			"## Example 7.6: example.sce"
		   ]
		  },
  {
"cell_type": "code",
	   "execution_count": null,
	   "metadata": {
	    "collapsed": true
	   },
	   "outputs": [],
"source": [
"clear;\n",
"clc;\n",
"disp('Example 7.7');\n",
"function[a1]=shell(a,n,incr,nic)\n",
"  for i=1:nic\n",
"    span=incr(i);\n",
"    for j=span+1:n\n",
"      y=a(j);\n",
"      k=j-span;\n",
"      while(k>=1&y<a(k))\n",
"          a(k+span)=a(k);\n",
"        k=k-span;\n",
"      end\n",
"      a(k+span)=y;\n",
"    end\n",
"  end\n",
"  a1=a;\n",
"  disp(a1,'Sorted array is:');\n",
"endfunction\n",
"//Calling Routine:\n",
"a=[23 21 232 121 2324 1222433 1212]\n",
"disp(a,'Given Array');\n",
"incr=[5 3 1]//must always end with 1\n",
"a1=shell(a,7,incr,3)"
   ]
   }
,
{
		   "cell_type": "markdown",
		   "metadata": {},
		   "source": [
			"## Example 7.7: example.sce"
		   ]
		  },
  {
"cell_type": "code",
	   "execution_count": null,
	   "metadata": {
	    "collapsed": true
	   },
	   "outputs": [],
"source": [
"clear;\n",
"clc;\n",
"disp('Example 7.7');\n",
"function[a1]=shell(a,n,incr,nic)\n",
"  for i=1:nic\n",
"    span=incr(i);\n",
"    for j=span+1:n\n",
"      y=a(j);\n",
"      k=j-span;\n",
"      while(k>=1&y<a(k))\n",
"          a(k+span)=a(k);\n",
"        k=k-span;\n",
"      end\n",
"      a(k+span)=y;\n",
"    end\n",
"  end\n",
"  a1=a;\n",
"  disp(a1,'Sorted array is:');\n",
"endfunction\n",
"//Calling Routine:\n",
"a=[23 21 232 121 2324 1222433 1212]\n",
"disp(a,'Given Array');\n",
"incr=[5 3 1]//must always end with 1\n",
"a1=shell(a,7,incr,3)"
   ]
   }
,
{
		   "cell_type": "markdown",
		   "metadata": {},
		   "source": [
			"## Example 7.8: example.sce"
		   ]
		  },
  {
"cell_type": "code",
	   "execution_count": null,
	   "metadata": {
	    "collapsed": true
	   },
	   "outputs": [],
"source": [
"clear;\n",
"clc;\n",
"function[]=sortedsearch(a,n,ele)\n",
"  if(a(1)>ele|a(n)<ele)\n",
"    disp('NOT IN THE LIST');\n",
"  else\n",
"    i=1;\n",
"    j=0;\n",
"    for i=1:n\n",
"      if(a(i)==ele)\n",
"        printf('FOUND %d AT %d',ele,i);\n",
"        j=1;\n",
"      else\n",
"        if(a(i)>ele)\n",
"          break;\n",
"        end\n",
"      end\n",
"    end\n",
"    if(j==0)\n",
"      disp('%d NOT FOUND',ele);\n",
"    end\n",
"  end\n",
"endfunction\n",
"//Calling Routine:\n",
"a=[2 22 23 33 121 222 233]//a should be  sorted\n",
"disp(a,'Given array');\n",
"sortedsearch(a,7,23)"
   ]
   }
],
"metadata": {
		  "kernelspec": {
		   "display_name": "Scilab",
		   "language": "scilab",
		   "name": "scilab"
		  },
		  "language_info": {
		   "file_extension": ".sce",
		   "help_links": [
			{
			 "text": "MetaKernel Magics",
			 "url": "https://github.com/calysto/metakernel/blob/master/metakernel/magics/README.md"
			}
		   ],
		   "mimetype": "text/x-octave",
		   "name": "scilab",
		   "version": "0.7.1"
		  }
		 },
		 "nbformat": 4,
		 "nbformat_minor": 0
}
