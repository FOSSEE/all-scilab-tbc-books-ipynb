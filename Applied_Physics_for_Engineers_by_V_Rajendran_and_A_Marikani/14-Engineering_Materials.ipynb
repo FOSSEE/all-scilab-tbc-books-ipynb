{
"cells": [
 {
		   "cell_type": "markdown",
	   "metadata": {},
	   "source": [
       "# Chapter 14: Engineering Materials"
	   ]
	},
{
		   "cell_type": "markdown",
		   "metadata": {},
		   "source": [
			"## Example 14.1: Lorentz_number.sce"
		   ]
		  },
  {
"cell_type": "code",
	   "execution_count": null,
	   "metadata": {
	    "collapsed": true
	   },
	   "outputs": [],
"source": [
"clc\n",
"clear\n",
"s=5.87*10^7//Electrical conductivity of Cu in ohm^-1.m^-1\n",
"K=390//Thermal conductivity of Cu in W/m.K\n",
"T=(20+273)//Temperature in K\n",
"\n",
"//Calculations\n",
"L=(K/(s*T))/10^-8//Lorentz number in W.ohm/K^2\n",
"\n",
"//Calculations\n",
"printf('Lorentz number is %3.3f*10^-8 W.ohm/K^2',L)"
   ]
   }
,
{
		   "cell_type": "markdown",
		   "metadata": {},
		   "source": [
			"## Example 14.2: Electrical_conductivity.sce"
		   ]
		  },
  {
"cell_type": "code",
	   "execution_count": null,
	   "metadata": {
	    "collapsed": true
	   },
	   "outputs": [],
"source": [
"clc\n",
"clear\n",
"//Input data\n",
"t=10^-14//Relaxation time in s\n",
"T=300//Temperature in K\n",
"n=6*10^28//Electron concentration in m^-3\n",
"e=1.6*10^-19//Electron charge in Columbs\n",
"m=9.1*10^-31//Mass of electron in kg\n",
"kB=1.38*10^-23//Boltzmann constant in J/K\n",
"\n",
"//Calculations\n",
"s=((n*e^2*t)/m)/10^7//Electrical conductivity in ohm^-1.m^-1 *10^7\n",
"K=((n*3.14^2*kB^2*T*t)/(3*m))//Thermal conductivity in W/m.K\n",
"L=(K/(s*10^7*T))/10^-8//Lorentz number in W.ohm/K^2 *10^-8\n",
"\n",
"//Output\n",
"printf('Electrical conductivity is %3.4f*10^7 ohm^-1.m^-1 \n Thermal conductivity is %3.4f W/m.K \n Lorentz number is %3.4f*10^-8 W.ohm/K^2',s,K,L)"
   ]
   }
,
{
		   "cell_type": "markdown",
		   "metadata": {},
		   "source": [
			"## Example 14.3: Electrical_conductivity.sce"
		   ]
		  },
  {
"cell_type": "code",
	   "execution_count": null,
	   "metadata": {
	    "collapsed": true
	   },
	   "outputs": [],
"source": [
"clc\n",
"clear\n",
"//Input data\n",
"d=8900//Density of copper in kg/m^3\n",
"a=63.5//Atomic weight of Cu\n",
"t=10^-14//Relaxation time in s\n",
"A=6.023*10^26//Avagadro number per mole\n",
"e=1.6*10^-19//Electron charge in Columbs\n",
"m=9.1*10^-31//Mass of electron in kg\n",
"\n",
"//Calculations\n",
"n=(A*d)/a//Concentration of free electrons in m^-3\n",
"s=((n*e^2*t)/m)/10^7//Electrical conductivity in ohm^-1.m^-1 *10^7\n",
"\n",
"//Output\n",
"printf('The electrical conductivity is %3.4f*10^7 ohm^-1.m^-1',s)"
   ]
   }
,
{
		   "cell_type": "markdown",
		   "metadata": {},
		   "source": [
			"## Example 14.4: Relaxation_time.sce"
		   ]
		  },
  {
"cell_type": "code",
	   "execution_count": null,
	   "metadata": {
	    "collapsed": true
	   },
	   "outputs": [],
"source": [
"clc\n",
"clear\n",
"//Input data\n",
"r=1.54*10^-8//Resistivity in ohm.m\n",
"Ef=5.5//Fermi energy in eV\n",
"n=5.8*10^28//Concentration of electrons in m^-3\n",
"E=100//Electric field applied n V/m\n",
"e=1.6*10^-19//Electron charge in Columbs\n",
"m=9.1*10^-31//Mass of electron in kg\n",
"\n",
"//Calculations\n",
"t=(m/(r*n*e^2))/10^-14//Relaxation time in s*10^-14\n",
"u=((e*t*10^-14)/m)/10^-3//Mobility of the electron in m^2.V^-1.s^-1*10^-3\n",
"v=(e*t*10^-14*E)/m//Drift velocity in m/s\n",
"vf=(sqrt((2*Ef*e)/m))/10^6//Fermi velocity in m/s*10^6\n",
"l=(vf*10^6*t*10^-14)/10^-8//Mean free path in m*10^-8\n",
"\n",
"//Output\n",
"printf('The relaxation time of electrons is %3.2f*10^-14 s \n The mobility of the electrons is %3.2f*10^-3 m^2.V^-1.s^-1 \n The drift velocity of electrons is %3.3f m/s \n The fermi velocity of electrons is %3.2f*10^6 m/s \n The mean free path is %3.2f*10^-8 m',t,u,v,vf,l)"
   ]
   }
,
{
		   "cell_type": "markdown",
		   "metadata": {},
		   "source": [
			"## Example 14.5: Energy_stored_in_the_capacitor.sce"
		   ]
		  },
  {
"cell_type": "code",
	   "execution_count": null,
	   "metadata": {
	    "collapsed": true
	   },
	   "outputs": [],
"source": [
"clc\n",
"clear\n",
"//Input data\n",
"C=(2*10^-6)//Capacitance in F\n",
"er=80//Permitivity of the dielectric \n",
"V=1000//Applied voltage in V\n",
"\n",
"//Calculations\n",
"E1=(1/2)*C*V^2//Energy stored in the capacitor in Joule\n",
"Co=C/er//Capacitance of the capacitor when the dielectric is removed in F\n",
"E2=(1/2)*Co*V^2//Energy stored in the capacitor with vacuum as dielectric in J\n",
"E=E1-E2//Energy stored in the capacitor in polarizing the dielectric in J\n",
"\n",
"//Output\n",
"printf('Energy stored in the capacitor is %i J \n The energy stored in the capacitor in polarizing the capacitor is %3.4f J',E1,E)"
   ]
   }
,
{
		   "cell_type": "markdown",
		   "metadata": {},
		   "source": [
			"## Example 14.6: Ratio_of_internal_field_to_applied_field.sce"
		   ]
		  },
  {
"cell_type": "code",
	   "execution_count": null,
	   "metadata": {
	    "collapsed": true
	   },
	   "outputs": [],
"source": [
"clc\n",
"clear\n",
"//Input data\n",
"N=5*10^28//Number of atoms present per m^3\n",
"a=2*10^-40//polarizability in F.m^2\n",
"eo=8.854*10^-12//permittivity of free space in F/m\n",
"\n",
"//Calculations\n",
"E=1/(1-((N*a)/(3*eo)))//Ratio of the internal field to the applied field \n",
"\n",
"//Output\n",
"printf('Ratio of the internal field to the applied field is %3.4f',E)"
   ]
   }
,
{
		   "cell_type": "markdown",
		   "metadata": {},
		   "source": [
			"## Example 14.7: Magnetizing_force.sce"
		   ]
		  },
  {
"cell_type": "code",
	   "execution_count": null,
	   "metadata": {
	    "collapsed": true
	   },
	   "outputs": [],
"source": [
"clc\n",
"clear\n",
"//Input data\n",
"M=2300//Magnetization in A/m\n",
"B=0.00314//Flux density in Wb/m^2\n",
"uo=(4*3.14)*10^-7//Permeability of free space in H/m\n",
"\n",
"//Calculations\n",
"H=(B/uo)-M//Magnetizing force in A/m\n",
"ur=(M/H)+1//Relative permeability\n",
"\n",
"//Output\n",
"printf('The magnetizing force is %3.0f A/m \n The relative permeability is %3.1f',H,ur)"
   ]
   }
,
{
		   "cell_type": "markdown",
		   "metadata": {},
		   "source": [
			"## Example 14.8: Magnetization.sce"
		   ]
		  },
  {
"cell_type": "code",
	   "execution_count": null,
	   "metadata": {
	    "collapsed": true
	   },
	   "outputs": [],
"source": [
"clc\n",
"clear\n",
"//Input data\n",
"H=10^4//Magnetic field intensity in A/m\n",
"s=3.7*10^-3//Susceptibility\n",
"uo=(4*3.14)*10^-7//Permeability of free space in H/m\n",
"\n",
"//Calculations\n",
"M=s*H//Magnetization n A/m. The textbook answer is given as 370 A/m which is wrong.\n",
"B=(uo*(M+H))/10^-2//Flux density in Wb/m^2 *10^-2\n",
"\n",
"//Output\n",
"printf('Magnetization in the material is %3.0f A/m \n The flux density in the material is %3.5f*10^-2 Wb/m^2',M,B)"
   ]
   }
,
{
		   "cell_type": "markdown",
		   "metadata": {},
		   "source": [
			"## Example 14.9: Average_Magnetization.sce"
		   ]
		  },
  {
"cell_type": "code",
	   "execution_count": null,
	   "metadata": {
	    "collapsed": true
	   },
	   "outputs": [],
"source": [
"clc\n",
"clear\n",
"//Input data\n",
"a=2.5*10^-10//Interatomic spacing in m\n",
"M=(1.8*10^6)//Magnetization in Wb/m^2\n",
"n=2//Number of atoms per unit cell in bcc crystal\n",
"e=1.6*10^-19//Electron charge in Columbs\n",
"m=9.1*10^-31//Mass of electron in kg\n",
"h=6.625*10^-34//Plancks constant in J.s\n",
"\n",
"//Calculations\n",
"N=(n/a^3)//Number of atoms present per unit volume in m^-3\n",
"m1=(M/N)//Total magnetization produced per atom in A/m^2\n",
"b=(e*h)/(4*3.14*m)//Bohr magnetron\n",
"M1=(m1/b)//Magnetization produced per atom in Bohr magnetron\n",
"\n",
"//Output\n",
"printf('The average magnetization contributed per atom is %3.6f Bohr magneton',M1)"
   ]
   }
],
"metadata": {
		  "kernelspec": {
		   "display_name": "Scilab",
		   "language": "scilab",
		   "name": "scilab"
		  },
		  "language_info": {
		   "file_extension": ".sce",
		   "help_links": [
			{
			 "text": "MetaKernel Magics",
			 "url": "https://github.com/calysto/metakernel/blob/master/metakernel/magics/README.md"
			}
		   ],
		   "mimetype": "text/x-octave",
		   "name": "scilab",
		   "version": "0.7.1"
		  }
		 },
		 "nbformat": 4,
		 "nbformat_minor": 0
}
