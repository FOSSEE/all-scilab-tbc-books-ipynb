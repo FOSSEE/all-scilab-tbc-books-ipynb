{
"cells": [
 {
		   "cell_type": "markdown",
	   "metadata": {},
	   "source": [
       "# Chapter 16: Thermal Physics"
	   ]
	},
{
		   "cell_type": "markdown",
		   "metadata": {},
		   "source": [
			"## Example 16.1: Temperature_of_the_body.sce"
		   ]
		  },
  {
"cell_type": "code",
	   "execution_count": null,
	   "metadata": {
	    "collapsed": true
	   },
	   "outputs": [],
"source": [
"clc\n",
"clear\n",
"//Input data\n",
"T1=(75+273)//Initial temperature in K\n",
"T2=(60+273)//Final temperature in K\n",
"T0=(30+273)//Surrounding temperature in K\n",
"t1=(5*60)//Time taken by the liquid to cool from 75 degrees C to 60 degrees C\n",
"\n",
"//Calculations\n",
"T3=(T2-T0)^2/(T1-T0)+T0//The temperature of the body after the next 5 minutes in K\n",
"\n",
"//Output\n",
"printf('The temperature of the body after the next 5 minutes is %3.0f K',T3)"
   ]
   }
,
{
		   "cell_type": "markdown",
		   "metadata": {},
		   "source": [
			"## Example 16.2: Specific_heat.sce"
		   ]
		  },
  {
"cell_type": "code",
	   "execution_count": null,
	   "metadata": {
	    "collapsed": true
	   },
	   "outputs": [],
"source": [
"clc\n",
"clear\n",
"//Input data\n",
"T1=(50+273)//Initial temperature of the liquid in K\n",
"M1=0.1//Mass of water in kg\n",
"T2=(40+273)//Final temperature of the liquid in K\n",
"t1=(5*60)//Time taken by the water to cool from 50 degrees C to 40 degrees C\n",
"M2=0.085//Mass of the liquid in kg\n",
"M=0.1//Mass of the calorimeter in kg\n",
"t2=(2*60)//Time taken by the liquid to cool from 50 degrees C to 40 degrees C\n",
"S=385//Specific heat of the calorimeter in J/kg.K\n",
"S1=4190//Specific heat of the water in J/kg.K\n",
"\n",
"//Calculations\n",
"S2=(((M1*S1+M*S)*(t2/t1))-(M*S))/M2//Specific heat of the liquid in J/kg.K\n",
"\n",
"//Output\n",
"printf('Specific heat of the liquid is %3.0f J/kg.K',S2)"
   ]
   }
,
{
		   "cell_type": "markdown",
		   "metadata": {},
		   "source": [
			"## Example 16.3: Efficiency.sce"
		   ]
		  },
  {
"cell_type": "code",
	   "execution_count": null,
	   "metadata": {
	    "collapsed": true
	   },
	   "outputs": [],
"source": [
"clc\n",
"clear\n",
"//Input data\n",
"C=(11.4*10^6)//Calorific value of 1 kg of petrol in Calorie/kg\n",
"t=25//Total petrol consumed in kg\n",
"P=99.75//Power output in kW\n",
"\n",
"//Calculations\n",
"C1=(t*C)//Calorific value of 25 kg of petrol in Calorie\n",
"E=(C1*4.2)//Energy consumed by the engine in one hour in J/hour\n",
"E1=(E/3600)//Energy consumed by the engine in one second in J/s\n",
"n=((P*1000)/E1)*100//Efficiency in percent\n",
"\n",
"//Output\n",
"printf('The efficiency of the engine is %i percent',n)"
   ]
   }
,
{
		   "cell_type": "markdown",
		   "metadata": {},
		   "source": [
			"## Example 16.4: Change_in_temperature.sce"
		   ]
		  },
  {
"cell_type": "code",
	   "execution_count": null,
	   "metadata": {
	    "collapsed": true
	   },
	   "outputs": [],
"source": [
"clc\n",
"clear\n",
"//Input data\n",
"h=60//Height of the Niagra falls in m\n",
"S=4190//Specific of water in J/kg.K\n",
"\n",
"//Calculations\n",
"dt=(h*9.8)/S//The temperature difference in K\n",
"\n",
"//Output\n",
"printf('The temperature difference is %3.5f K',dt)"
   ]
   }
,
{
		   "cell_type": "markdown",
		   "metadata": {},
		   "source": [
			"## Example 16.5: Temperature_of_source.sce"
		   ]
		  },
  {
"cell_type": "code",
	   "execution_count": null,
	   "metadata": {
	    "collapsed": true
	   },
	   "outputs": [],
"source": [
"clc\n",
"clear\n",
"//Input data\n",
"n=(1/6)//Efficiency\n",
"T=82//Temperature to which the sink is reduced in K\n",
"//Solving two equations\n",
"//5T1=6T2\n",
"//2T1=3T2-246\n",
"A=[5 -6\n",
"   2 -3]//Coefficient matrix\n",
"B=[0\n",
"   -246]//Constant matrix\n",
"X=inv(A)*B//Variable matrix\n",
"\n",
"//Output\n",
"printf('The temperature of the source is %3.0f K \n The temperature of the sink is %3.0f K',X(1),X(2))"
   ]
   }
,
{
		   "cell_type": "markdown",
		   "metadata": {},
		   "source": [
			"## Example 16.6: Heat_supplied.sce"
		   ]
		  },
  {
"cell_type": "code",
	   "execution_count": null,
	   "metadata": {
	    "collapsed": true
	   },
	   "outputs": [],
"source": [
"clc\n",
"clear\n",
"//Input data\n",
"T=[7+273 27+273]//Temperatures between the refrigerator is working in K\n",
"W=250//Work done in J\n",
"\n",
"//Calulations\n",
"Q2=(W/(T(2)-T(1)))*T(1)//Quantity of heat removed per second in J/s\n",
"Qx=(Q2*3600)/10^7//Quantity of heat removed per hour in J/h*10^7\n",
"\n",
"//Output\n",
"printf('Quantity of heat removed per hour by the refrigerator is %3.2f*10^7 J/h',Qx)"
   ]
   }
],
"metadata": {
		  "kernelspec": {
		   "display_name": "Scilab",
		   "language": "scilab",
		   "name": "scilab"
		  },
		  "language_info": {
		   "file_extension": ".sce",
		   "help_links": [
			{
			 "text": "MetaKernel Magics",
			 "url": "https://github.com/calysto/metakernel/blob/master/metakernel/magics/README.md"
			}
		   ],
		   "mimetype": "text/x-octave",
		   "name": "scilab",
		   "version": "0.7.1"
		  }
		 },
		 "nbformat": 4,
		 "nbformat_minor": 0
}
