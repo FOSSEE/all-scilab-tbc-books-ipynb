{
"cells": [
 {
		   "cell_type": "markdown",
	   "metadata": {},
	   "source": [
       "# Chapter 7: Acoustics"
	   ]
	},
{
		   "cell_type": "markdown",
		   "metadata": {},
		   "source": [
			"## Example 7.10: Intensity_level_of_jet_plane.sce"
		   ]
		  },
  {
"cell_type": "code",
	   "execution_count": null,
	   "metadata": {
	    "collapsed": true
	   },
	   "outputs": [],
"source": [
"clc\n",
"clear\n",
"//Input data\n",
"I2=100//Sound intensity in W/m^2\n",
"\n",
"//Calculations\n",
"b=10*log10(I2/10^-12)//Relative intensity in dB\n",
"\n",
"//Output\n",
"printf('The intensity level of the jet plane is %3.0f dB',b)"
   ]
   }
,
{
		   "cell_type": "markdown",
		   "metadata": {},
		   "source": [
			"## Example 7.1: Intensity_level.sce"
		   ]
		  },
  {
"cell_type": "code",
	   "execution_count": null,
	   "metadata": {
	    "collapsed": true
	   },
	   "outputs": [],
"source": [
"clc\n",
"clear\n",
"//Input data\n",
"I=0.1//Intensity of sound produced by thunder in W/m^2\n",
"\n",
"//Calculations\n",
"b=10*log10(I/10^-12)//Relative intensity in dB\n",
"\n",
"//Output\n",
"printf('The intensity level is %3.0f dB',b)"
   ]
   }
,
{
		   "cell_type": "markdown",
		   "metadata": {},
		   "source": [
			"## Example 7.2: Relative_sound_intensity.sce"
		   ]
		  },
  {
"cell_type": "code",
	   "execution_count": null,
	   "metadata": {
	    "collapsed": true
	   },
	   "outputs": [],
"source": [
"clc\n",
"clear\n",
"//Input data\n",
"I=(10^-4)//Intensity of sound in the street in W/m^2\n",
"\n",
"//Calculations\n",
"b=10*log10(I/10^-12)//Relative intensity in dB\n",
"\n",
"//Output\n",
"printf('The relative sound intensity is %3.0f dB',b)"
   ]
   }
,
{
		   "cell_type": "markdown",
		   "metadata": {},
		   "source": [
			"## Example 7.3: Acoustic_intensity.sce"
		   ]
		  },
  {
"cell_type": "code",
	   "execution_count": null,
	   "metadata": {
	    "collapsed": true
	   },
	   "outputs": [],
"source": [
"clc\n",
"clear\n",
"//Input data\n",
"I=2//Sound intensity is doubled or Intensity ratio\n",
"\n",
"//Calculations\n",
"b=10*log10(I)//Relative intensity in dB\n",
"\n",
"//Output\n",
"printf('Increase in the acoustic intensity level is %3.2f dB',b)"
   ]
   }
,
{
		   "cell_type": "markdown",
		   "metadata": {},
		   "source": [
			"## Example 7.4: Intensity_level_of_sound.sce"
		   ]
		  },
  {
"cell_type": "code",
	   "execution_count": null,
	   "metadata": {
	    "collapsed": true
	   },
	   "outputs": [],
"source": [
"clc\n",
"clear\n",
"//Input data\n",
"P=3.14//Power radiated in W\n",
"r=10//Distance (radius) in m\n",
"I=[100,1,10^-12]//Reference intensities in W/m^2\n",
"\n",
"//Calculations\n",
"Is=P/(4*3.14*r^2)//Intensity of sound in W/m^2\n",
"b1=10*log10(Is/I(1))//Relative intensity in dB\n",
"b2=10*log10(Is/I(2))//Relative intensity in dB\n",
"b3=10*log10(Is/I(3))//Relative intensity in dB\n",
"\n",
"//Output\n",
"printf('The intensity level of a sound with reference to \n (i) %i W/m^2 = %3.4f dB \n (ii) %i W/m^2 = %3.4f dB \n (iii) 10^-12 W/m^2 = %3.3f dB',I(1),b1,I(2),b2,b3)"
   ]
   }
,
{
		   "cell_type": "markdown",
		   "metadata": {},
		   "source": [
			"## Example 7.5: Intensity_level.sce"
		   ]
		  },
  {
"cell_type": "code",
	   "execution_count": null,
	   "metadata": {
	    "collapsed": true
	   },
	   "outputs": [],
"source": [
"clc\n",
"clear\n",
"//Input data\n",
"P=1.5//The acoustic power produced by the loudspeaker in J/s\n",
"r=20//Distance in m\n",
"\n",
"//Calculations\n",
"I=(P/(4*3.14*r^2))//Intensity of the sound produced by the loudspeaker in W/m^2\n",
"b=10*log10(I/10^-12)//Intensity level in dB\n",
"\n",
"//Output\n",
"printf('The intensity level at a distance of %i m is %3.1f dB',r,b)"
   ]
   }
,
{
		   "cell_type": "markdown",
		   "metadata": {},
		   "source": [
			"## Example 7.6: Intensity_level.sce"
		   ]
		  },
  {
"cell_type": "code",
	   "execution_count": null,
	   "metadata": {
	    "collapsed": true
	   },
	   "outputs": [],
"source": [
"clc\n",
"clear\n",
"//Input data\n",
"b1=80//Intensity levelof the sound produced by the electric generator in dB\n",
"b2=70//Intensity level of the room in dB\n",
"\n",
"//Calculations\n",
"I2=10^(b1/10)*10^-12//Intensity of the sound produced by the electric generator in W/m^2\n",
"I4=10^(b2/10)*10^-12//Intensity of the sound existing in the room in W/m^2\n",
"I=I2+I4//Total sound intensity when the generator is operating in W/m^2\n",
"b=10*log10(I/10^-12)//Relative intensity in dB\n",
"\n",
"//Output\n",
"printf('The resultant intensity level of the sound is %3.3f dB',b)\n",
""
   ]
   }
,
{
		   "cell_type": "markdown",
		   "metadata": {},
		   "source": [
			"## Example 7.7: Reverberation_time.sce"
		   ]
		  },
  {
"cell_type": "code",
	   "execution_count": null,
	   "metadata": {
	    "collapsed": true
	   },
	   "outputs": [],
"source": [
"clc\n",
"clear\n",
"//Input data\n",
"v=1500//Volume of hall in m^3\n",
"A1=100//Absorption of the sound by the hall in m^2 O.W.U or sabines\n",
"A2=100//Absorption of the sound by the audience in m^2 O.W.U or sabines\n",
"\n",
"//Calculations\n",
"A=A1+A2//Total absorption of sound in sabines\n",
"t1=(0.16*v)/A1//Reverberation time of the hall when the room is empty in s\n",
"t2=(0.16*v)/A//Reverberation time of the hall when the room is filled with audience in s\n",
"t=t1-t2//Change in reverberation time in s\n",
"\n",
"//Output\n",
"printf('When the hall is filled with audience, the reverberation time is reduced to %3.1f s',t)"
   ]
   }
,
{
		   "cell_type": "markdown",
		   "metadata": {},
		   "source": [
			"## Example 7.8: Average_absorption_coefficient.sce"
		   ]
		  },
  {
"cell_type": "code",
	   "execution_count": null,
	   "metadata": {
	    "collapsed": true
	   },
	   "outputs": [],
"source": [
"clc\n",
"clear\n",
"//Input data\n",
"v=1000//Volume of the hall in m^3\n",
"T=2//Reverberation time in s\n",
"s=350//Area of the sound absorbing surface in m^2\n",
"\n",
"//Calculations\n",
"a=(0.16*v)/(T*s)//The average absorption coefficient \n",
"\n",
"//Output\n",
"printf('The average absorption coefficient of the room is %3.4f',a)"
   ]
   }
,
{
		   "cell_type": "markdown",
		   "metadata": {},
		   "source": [
			"## Example 7.9: Reverberation_time.sce"
		   ]
		  },
  {
"cell_type": "code",
	   "execution_count": null,
	   "metadata": {
	    "collapsed": true
	   },
	   "outputs": [],
"source": [
"clc\n",
"clear\n",
"//Input data\n",
"v=2400//Volume of the hall in m^3\n",
"s=600//Seating capacity of the hall\n",
"a=[500,600,500,20,400,200]//Area or number for plaster ceiling, plaster walls, wood floor, wood doors, seats cushion, seats cane in m^2 for arae\n",
"c=[0.02,0.03,0.06,0.06,0.01,0.01]//Coefficient of absorption for plaster ceiling, plaster walls, wood floor, wood doors, seats cushion, seats cane sabine/ chair\n",
"am=0.45//Absorption of each member of the audience in sabine\n",
"//Calculations\n",
"T1=a(1)*c(1)+a(2)*c(2)+a(3)*c(3)+a(4)*c(4)+a(5)*c(5)+a(6)*c(6)//Total absorption when the hall is empty in sabine\n",
"t1=(0.16*v)/T1//Reverberation time in s\n",
"T2=a(1)*c(1)+a(2)*c(2)+a(3)*c(3)+a(4)*c(4)+a(5)*am+a(6)*am//Total absorption when the hall is occupied with audience \n",
"t2=(0.16*v)/T2//Reverberation time in s\n",
"\n",
"//Output\n",
"printf('The reverberation time of the hall \n (i) when it is empty = %3.3f s \n (ii) when filled with audience = %3.2f s',t1,t2)"
   ]
   }
],
"metadata": {
		  "kernelspec": {
		   "display_name": "Scilab",
		   "language": "scilab",
		   "name": "scilab"
		  },
		  "language_info": {
		   "file_extension": ".sce",
		   "help_links": [
			{
			 "text": "MetaKernel Magics",
			 "url": "https://github.com/calysto/metakernel/blob/master/metakernel/magics/README.md"
			}
		   ],
		   "mimetype": "text/x-octave",
		   "name": "scilab",
		   "version": "0.7.1"
		  }
		 },
		 "nbformat": 4,
		 "nbformat_minor": 0
}
