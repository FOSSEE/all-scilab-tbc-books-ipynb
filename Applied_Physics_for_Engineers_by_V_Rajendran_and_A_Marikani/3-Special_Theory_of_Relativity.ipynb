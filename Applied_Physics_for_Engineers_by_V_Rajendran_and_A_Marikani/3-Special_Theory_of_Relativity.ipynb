{
"cells": [
 {
		   "cell_type": "markdown",
	   "metadata": {},
	   "source": [
       "# Chapter 3: Special Theory of Relativity"
	   ]
	},
{
		   "cell_type": "markdown",
		   "metadata": {},
		   "source": [
			"## Example 3.10: Speed_of_electro.sce"
		   ]
		  },
  {
"cell_type": "code",
	   "execution_count": null,
	   "metadata": {
	    "collapsed": true
	   },
	   "outputs": [],
"source": [
"clc\n",
"clear\n",
"//Input data\n",
"E=2*10^6*1.6*10^-19//Energy of the electron in J\n",
"c=3*10^8//Velocity of light in m/s\n",
"mo=9.1*10^-31//Mass of the electron in kg\n",
"\n",
"//Calculations\n",
"m=(E/c^2)+mo//Mass in kg. In textbook, the answer is wrong. The correct answer is 44.65*10^-31 kg\n",
"v=(c*sqrt(1-(mo/m)^2))/10^8//Velocity of the particle in m/s\n",
"\n",
"//Output\n",
"printf('Velocity of the particle is %3.3f*10^8 m/s',v)\n",
""
   ]
   }
,
{
		   "cell_type": "markdown",
		   "metadata": {},
		   "source": [
			"## Example 3.1: Relative_Speed.sce"
		   ]
		  },
  {
"cell_type": "code",
	   "execution_count": null,
	   "metadata": {
	    "collapsed": true
	   },
	   "outputs": [],
"source": [
"\n",
"clc\n",
"clear\n",
"\n",
"//INPUT DATA\n",
"u=3.5*10^2;//Speed of the cyclist in m/s\n",
"v=2*10^3;//Speed of the train in m/s\n",
"c=3*10^8;//Speed of light in m/s\n",
"\n",
"//CALCULATIONS\n",
"U=((u+v)/(1+((u*v)/c^2)))/1000//Relative speed in km/s\n",
"\n",
"//OUTPUT\n",
"mprintf('The relative speed is %3.2f*10^3 m/s',U)"
   ]
   }
,
{
		   "cell_type": "markdown",
		   "metadata": {},
		   "source": [
			"## Example 3.2: Mass_of_Object.sce"
		   ]
		  },
  {
"cell_type": "code",
	   "execution_count": null,
	   "metadata": {
	    "collapsed": true
	   },
	   "outputs": [],
"source": [
"\n",
"clc\n",
"clear\n",
"\n",
"//INPUT DATA\n",
"c=3*10^8;//Speed of light in m/s\n",
"\n",
"//CALCULATIONS\n",
"v=((sqrt(3)*c)/2)/10^8//Speed in m/s\n",
"\n",
"//OUTPUT\n",
"mprintf('The mass of the object is double its mass at rest, when its speed is %3.3f*10^8 m/s',v)"
   ]
   }
,
{
		   "cell_type": "markdown",
		   "metadata": {},
		   "source": [
			"## Example 3.3: Mass_of_electro.sce"
		   ]
		  },
  {
"cell_type": "code",
	   "execution_count": null,
	   "metadata": {
	    "collapsed": true
	   },
	   "outputs": [],
"source": [
"\n",
"clc\n",
"clear\n",
"\n",
"//INPUT\n",
"E=1*1.6*10^-16;//Kinetic energy of electron in J\n",
"m=9.1*10^-31;//Mass of electron in Kg\n",
"c=3*10^8;//Speed of light in m/s\n",
"\n",
"//CALCULATIONS\n",
"v=sqrt((2*E)/m)//Velocity of the electron in m/s\n",
"M=(m/sqrt(1-(v^2/c^2)))/10^-31//Mass of the electron in kg\n",
"\n",
"//OUTPUT\n",
"mprintf('Mass of electron having energy 1 keV is %5.4f*10^-31 kg',M)"
   ]
   }
,
{
		   "cell_type": "markdown",
		   "metadata": {},
		   "source": [
			"## Example 3.4: Time_Interval.sce"
		   ]
		  },
  {
"cell_type": "code",
	   "execution_count": null,
	   "metadata": {
	    "collapsed": true
	   },
	   "outputs": [],
"source": [
"\n",
"clc\n",
"clear\n",
"\n",
"//INPUT\n",
"v=3*10^7;//Speed of the spaceship in m/s\n",
"t=1;//Time interval between the signals in s\n",
"c=3*10^8;//Speed of light in m/s\n",
"\n",
"//CALCULATIONS\n",
"T=t/sqrt(1-(v^2/c^2))//Time interval between sucessive signals in s\n",
"\n",
"//OUTPUT\n",
"mprintf('The time interval between sucessive signals as seen from the control room is %3.3f s',T)"
   ]
   }
,
{
		   "cell_type": "markdown",
		   "metadata": {},
		   "source": [
			"## Example 3.5: Speed_of_rocket.sce"
		   ]
		  },
  {
"cell_type": "code",
	   "execution_count": null,
	   "metadata": {
	    "collapsed": true
	   },
	   "outputs": [],
"source": [
"\n",
"clc\n",
"clear\n",
"\n",
"//INPUT\n",
"T=2;//Time on earth in years\n",
"t=1;//Time on satilite in years\n",
"c=3*10^8;//Speed of light in  m/s\n",
"\n",
"//CALCULATIONS\n",
"v=c*sqrt(1-(t^2/T^2))/10^8//Velocity in m/s\n",
"\n",
"//OUTPUT\n",
"mprintf('The speed of the rocket is %5.3f*10^8 m/s',v )"
   ]
   }
,
{
		   "cell_type": "markdown",
		   "metadata": {},
		   "source": [
			"## Example 3.6: Properties.sce"
		   ]
		  },
  {
"cell_type": "code",
	   "execution_count": null,
	   "metadata": {
	    "collapsed": true
	   },
	   "outputs": [],
"source": [
"\n",
"clc\n",
"clear\n",
"\n",
"//INPUT\n",
"t=2*10^-6;//The life time of micro mesons in s\n",
"v=2.994*10^8;//Speed of micro mesons in m s^-1\n",
"c=3*10^8;//Speed of light in m s^-1\n",
"\n",
"//CALCULATIONS\n",
"T=(t/sqrt(1-(v^2/c^2)))/10^-5//Life time of micro mesons in s\n",
"D=v*T*10^-5//Distance travelled by micro mesons in one life time in m\n",
"d=v*t//Distance travelled by the micro mesons if there is no relativistic effect in m\n",
"\n",
"//OUTPUT\n",
"mprintf('The mean life time of micro mesons  is %f*10^-5 s \n',T)\n",
"mprintf('The distance traveled by micro mesons is %3.1f m \n',D)\n",
"mprintf('The distance traveled if there is no relativistic effect is %3.1f m \n',d)"
   ]
   }
,
{
		   "cell_type": "markdown",
		   "metadata": {},
		   "source": [
			"## Example 3.8: Contracted_length.sce"
		   ]
		  },
  {
"cell_type": "code",
	   "execution_count": null,
	   "metadata": {
	    "collapsed": true
	   },
	   "outputs": [],
"source": [
"\n",
"clc\n",
"clear\n",
"\n",
"//INPUT\n",
"L=1.2;//Length of the satillite in m\n",
"v=0.98*3*10^8;//Speed of the satillite in m/s\n",
"c=3*10^8;//Speed of light in m s^-1\n",
"\n",
"//CALCULATIONS\n",
"l=L*sqrt(1-(v^2/c^2))//The contracted length in m\n",
"\n",
"//OUTPUT\n",
"mprintf('The contracted length is %3.4f m',l)"
   ]
   }
,
{
		   "cell_type": "markdown",
		   "metadata": {},
		   "source": [
			"## Example 3.9: Relativistic_mass.sce"
		   ]
		  },
  {
"cell_type": "code",
	   "execution_count": null,
	   "metadata": {
	    "collapsed": true
	   },
	   "outputs": [],
"source": [
"clc\n",
"clear\n",
"//Input data\n",
"v=0.9//Velocity of the particle is 0.9c\n",
"\n",
"//Calculations\n",
"x=1/sqrt(1-v^2)//x value for obtaining mass\n",
"E=(x-1)//E value for obtaining energy \n",
"\n",
"//Output\n",
"printf('The relativistic mass of the particle is %3.3f mo \n The kinetic energy of the particle is %3.3f mo.c^2',x,E)"
   ]
   }
],
"metadata": {
		  "kernelspec": {
		   "display_name": "Scilab",
		   "language": "scilab",
		   "name": "scilab"
		  },
		  "language_info": {
		   "file_extension": ".sce",
		   "help_links": [
			{
			 "text": "MetaKernel Magics",
			 "url": "https://github.com/calysto/metakernel/blob/master/metakernel/magics/README.md"
			}
		   ],
		   "mimetype": "text/x-octave",
		   "name": "scilab",
		   "version": "0.7.1"
		  }
		 },
		 "nbformat": 4,
		 "nbformat_minor": 0
}
