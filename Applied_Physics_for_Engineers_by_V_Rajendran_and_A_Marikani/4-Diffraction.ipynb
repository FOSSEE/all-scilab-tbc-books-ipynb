{
"cells": [
 {
		   "cell_type": "markdown",
	   "metadata": {},
	   "source": [
       "# Chapter 4: Diffraction"
	   ]
	},
{
		   "cell_type": "markdown",
		   "metadata": {},
		   "source": [
			"## Example 4.1: Angular_Seperation.sce"
		   ]
		  },
  {
"cell_type": "code",
	   "execution_count": null,
	   "metadata": {
	    "collapsed": true
	   },
	   "outputs": [],
"source": [
"clc\n",
"clear\n",
"n=15000//Number of lines per inch\n",
"w=[5890,5896]//Wavelengths of the two sodium lines in Amgstrongs\n",
"n1=1//Order of diffraction\n",
"\n",
"//Calculations\n",
"N=(n/2.54)*100//Number of lines present per meter \n",
"q1=asind(N*n1*w(1)*10^-10)//Angle of diffraction for D1 line in degrees\n",
"q2=asind(N*n1*w(2)*10^-10)//Angle of diffraction for D2 line in degrees\n",
"q=q2-q1//The angular seperation in degrees\n",
"x=(q*60)//The angular seperation in minutes\n",
"y=(x-int(x))*60//For output\n",
"\n",
"//Output\n",
"printf('The angular seperation is %i minute %3.2f seconds',x,y)"
   ]
   }
,
{
		   "cell_type": "markdown",
		   "metadata": {},
		   "source": [
			"## Example 4.2: Minimum_number_of_lines.sce"
		   ]
		  },
  {
"cell_type": "code",
	   "execution_count": null,
	   "metadata": {
	    "collapsed": true
	   },
	   "outputs": [],
"source": [
"clc\n",
"clear\n",
"//Input data\n",
"n=1//Order of diffraction\n",
"w=[5890,5896]//Wavelengths of the two sodium lines in angstroms\n",
"\n",
"//Calculations\n",
"N=(w(1)*10^-10)/((w(2)-w(1))*10^-10*n)//Minimum number of lines in a grating which will just resolve in the first order\n",
"\n",
"//Output\n",
"printf('Minimum number of lines in a grating which will just resolve in the first order is %3.0f',N)"
   ]
   }
,
{
		   "cell_type": "markdown",
		   "metadata": {},
		   "source": [
			"## Example 4.3: Third_order.sce"
		   ]
		  },
  {
"cell_type": "code",
	   "execution_count": null,
	   "metadata": {
	    "collapsed": true
	   },
	   "outputs": [],
"source": [
"clc\n",
"clear\n",
"//Input data\n",
"ab=(15*10^-6)//Grating constant in m\n",
"w=(2.4*10^-6)//Wavelength in m\n",
"n=3//Order of diffraction\n",
"\n",
"//Calculations\n",
"q=asind((n*w)/ab)//Angle at which third order is obtained\n",
"qx=(q-int(q))*60//For output\n",
"qy=(qx-int(qx))*60//For output\n",
"\n",
"//Output\n",
"printf('Third order is obtained at %i degrees %3.0f minutes %3.2f seconds',q,qx,qy)"
   ]
   }
,
{
		   "cell_type": "markdown",
		   "metadata": {},
		   "source": [
			"## Example 4.4: Seperation_of_two_lines.sce"
		   ]
		  },
  {
"cell_type": "code",
	   "execution_count": null,
	   "metadata": {
	    "collapsed": true
	   },
	   "outputs": [],
"source": [
"clc\n",
"clear\n",
"//Input data\n",
"w=[5000,5100]//Wavelengths of light in Armstrongs\n",
"N=6000//Number of lines drawn on the grating per cm\n",
"n=1//Order of diffraction\n",
"F=1//Focal length of the lens in m\n",
"\n",
"//Calculations\n",
"q1=asind(N*100*n*w(1)*10^-10)//Angle of diffraction for D1 line in degrees\n",
"q2=asind(N*100*n*w(2)*10^-10)//Angle of diffraction for D1 line in degrees\n",
"x=F*(tand(q2)-tand(q1))*1000//Seperation of the two lines in mm\n",
"\n",
"//Output\n",
"printf('Seperation of two lines in the first order spectrum is %3.1f mm',x)\n",
""
   ]
   }
,
{
		   "cell_type": "markdown",
		   "metadata": {},
		   "source": [
			"## Example 4.5: Dispersive_power.sce"
		   ]
		  },
  {
"cell_type": "code",
	   "execution_count": null,
	   "metadata": {
	    "collapsed": true
	   },
	   "outputs": [],
"source": [
"clc\n",
"clear\n",
"//Input data\n",
"N=(5.9*10^5)//Number of lines drawn on the grating in lines/m\n",
"n=2//Order of diffraction\n",
"l=(6000*10^-10)//Wavelength of light used in m\n",
"\n",
"//Calculations\n",
"q=asind(N*n*l)//Angle of diffraction in degrees\n",
"cosq=cosd(q)//Cosine of angle of diffraction\n",
"P=((n*N)/cosq)/10^6//Dispersive power* 10^6\n",
"\n",
"//Output\n",
"printf('The dispersive power of the grating in the second order is %3.2f *10^6',P )"
   ]
   }
,
{
		   "cell_type": "markdown",
		   "metadata": {},
		   "source": [
			"## Example 4.6: Angular_Seperation.sce"
		   ]
		  },
  {
"cell_type": "code",
	   "execution_count": null,
	   "metadata": {
	    "collapsed": true
	   },
	   "outputs": [],
"source": [
"clc\n",
"clear\n",
"//Input data\n",
"N=14438//Number of lines per inch\n",
"n=3//Order of diffraction\n",
"w=(4200*10^-10)//Wavelength of light used in m\n",
"\n",
"//Calculations\n",
"x=(N/2.54)*100//Number of lines per m\n",
"dq=((n*x*10^-10)/sqrt(1-(x^2*n^2*w^2)))*(180/3.14)//Angular seperation in degrees. In textbook, it is given wrong as 0.14 degrees\n",
"\n",
"//Output\n",
"printf('The angular seperation is %3.3f degrees',dq)"
   ]
   }
,
{
		   "cell_type": "markdown",
		   "metadata": {},
		   "source": [
			"## Example 4.7: Diffractio.sce"
		   ]
		  },
  {
"cell_type": "code",
	   "execution_count": null,
	   "metadata": {
	    "collapsed": true
	   },
	   "outputs": [],
"source": [
"clc\n",
"clear\n",
"//Input data\n",
"N=5000//Number of lines drawn on the grating per m\n",
"w=(5890*10^-10)//Wavelength of the light used in m\n",
"\n",
"//Calculations\n",
"n=(1/(w*N*100))//Order of spectrum\n",
"x=ceil(n)//Rounding off to next integer\n",
"\n",
"//Output\n",
"printf('Since n < %i, it is not possible to observe the fourth or higher order of diffraction',x)"
   ]
   }
],
"metadata": {
		  "kernelspec": {
		   "display_name": "Scilab",
		   "language": "scilab",
		   "name": "scilab"
		  },
		  "language_info": {
		   "file_extension": ".sce",
		   "help_links": [
			{
			 "text": "MetaKernel Magics",
			 "url": "https://github.com/calysto/metakernel/blob/master/metakernel/magics/README.md"
			}
		   ],
		   "mimetype": "text/x-octave",
		   "name": "scilab",
		   "version": "0.7.1"
		  }
		 },
		 "nbformat": 4,
		 "nbformat_minor": 0
}
