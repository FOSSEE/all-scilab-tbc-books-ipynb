{
"cells": [
 {
		   "cell_type": "markdown",
	   "metadata": {},
	   "source": [
       "# Chapter 9: Atomic Physics"
	   ]
	},
{
		   "cell_type": "markdown",
		   "metadata": {},
		   "source": [
			"## Example 9.1: de_Broglie_wavelength.sce"
		   ]
		  },
  {
"cell_type": "code",
	   "execution_count": null,
	   "metadata": {
	    "collapsed": true
	   },
	   "outputs": [],
"source": [
"clc\n",
"clear\n",
"//Input data\n",
"V=150//Potential difference in V\n",
"h=(6.625*10^-34)//Plancks constant in Js\n",
"m=(9.1*10^-31)//Mass of the electron in kg\n",
"e=(1.6*10^-19)//Charge of the electron in coloumbs\n",
"\n",
"//Calculations\n",
"l=(h/sqrt(2*m*e*V))/10^-10//de Broglie wavelength of the electron in m*10^-10\n",
"\n",
"//Output\n",
"printf('The de Broglie wavelength of an electron is %3.4f *10^-10 m',l)"
   ]
   }
,
{
		   "cell_type": "markdown",
		   "metadata": {},
		   "source": [
			"## Example 9.2: de_Broglie_wavelength.sce"
		   ]
		  },
  {
"cell_type": "code",
	   "execution_count": null,
	   "metadata": {
	    "collapsed": true
	   },
	   "outputs": [],
"source": [
"clc\n",
"clear\n",
"//Input data\n",
"E=0.025//Energy of the electron in MeV\n",
"e=(1.6*10^-19)//Charge of the electron in coloumbs\n",
"h=(6.625*10^-34)//Plancks constant in Js\n",
"m=(9.1*10^-31)//Mass of the electron in kg\n",
"\n",
"//Calculations\n",
"E1=E*e*10^6//Energy of the electron in J\n",
"v=sqrt((2*E1)/m)//Velocity of the electron in m/s\n",
"l=(h/(m*v))/10^-10//de Broglie wavelength in angstroms\n",
"\n",
"//Output\n",
"printf('The de Broglie wavelength is %3.4f angstroms',l)"
   ]
   }
,
{
		   "cell_type": "markdown",
		   "metadata": {},
		   "source": [
			"## Example 9.3: de_Broglie_wavelength.sce"
		   ]
		  },
  {
"cell_type": "code",
	   "execution_count": null,
	   "metadata": {
	    "collapsed": true
	   },
	   "outputs": [],
"source": [
"clc\n",
"clear\n",
"//Input data\n",
"E=1//Energy of the electron in MeV\n",
"e=(1.6*10^-19)//Charge of the electron in coloumbs\n",
"h=(6.625*10^-34)//Plancks constant in Js\n",
"m=(9.1*10^-31)//Mass of the electron in kg\n",
"\n",
"//Calculations\n",
"E1=E*e*10^6//Energy of the electron in J\n",
"v=sqrt((2*E1)/m)//Velocity of the electron in m/s\n",
"l=(h/(m*v))/10^-10//de Broglie wavelength in angstroms\n",
"\n",
"//Output\n",
"printf('The de Broglie wavelength is %3.5f angstroms',l)"
   ]
   }
,
{
		   "cell_type": "markdown",
		   "metadata": {},
		   "source": [
			"## Example 9.4: Velocity_and_wavelength.sce"
		   ]
		  },
  {
"cell_type": "code",
	   "execution_count": null,
	   "metadata": {
	    "collapsed": true
	   },
	   "outputs": [],
"source": [
"clc\n",
"clear\n",
"//Input data\n",
"V=100//Potential difference in V\n",
"e=(1.6*10^-19)//Charge of the electron in coloumbs\n",
"h=(6.625*10^-34)//Plancks constant in Js\n",
"m=(9.1*10^-31)//Mass of the electron in kg\n",
"c=(3*10^8)//Velocity of light in m/s\n",
"\n",
"//Calculations\n",
"v=sqrt((2*e*V)/m)/10^6//Velocity of the electron in m/s*10^6\n",
"u=(c^2/(v*10^6))/10^10//Phase velocity of the electron in m/s *10^10\n",
"l=(h/(m*(v*10^6)))/10^-10//de Broglie wavelength in angstroms\n",
"p=(m*(v*10^6))/10^-24//Momemtum of the electron in kg.m/s *10^-24\n",
"V1=(1/(l*10^-10))/10^9//Wave number of the electron wave in m^-1\n",
"\n",
"//Output\n",
"printf('(i) Velocity of the electron is %3.5f*10^6 m/s \n (ii) Phase velocity of the electron is %3.4f*10^10 m/s  \n (iii) de Broglie wavelength is %3.5f angstroms \n (iv) Momemtum of the electron is %3.6f *10^-24 kg.m/s \n (v) Wave number of the electron wave is %3.6f *10^9 m^-1',v,u,l,p,V1)"
   ]
   }
,
{
		   "cell_type": "markdown",
		   "metadata": {},
		   "source": [
			"## Example 9.5: Uncertainity_in_momentum.sce"
		   ]
		  },
  {
"cell_type": "code",
	   "execution_count": null,
	   "metadata": {
	    "collapsed": true
	   },
	   "outputs": [],
"source": [
"clc\n",
"clear\n",
"//Input data\n",
"r=10^-14//Radius of the nucleus in m\n",
"m=(1.67*10^-27)//Mass of the proton in kg\n",
"h=(6.625*10^-34)//Plancks constant in Js\n",
"\n",
"//Calculations\n",
"x=6.24150934*10^12//1 Joule  in MeV\n",
"dp=(h/(2*3.14*r))/10^-20//The uncertainity in the momentum of the proton in kg m/s *10^-20\n",
"ke=((dp*10^-20)^2/(2*m))*x//Minimum kinetic energy of the proton in MeV\n",
"\n",
"//Output\n",
"printf('The uncertainity in the momentum of the proton is %3.3f*10^-20 kg m/s \n Minimum kinetic energy of the proton is %3.3f MeV',dp,ke)\n",
""
   ]
   }
,
{
		   "cell_type": "markdown",
		   "metadata": {},
		   "source": [
			"## Example 9.6: Uncertainity_in_momentum.sce"
		   ]
		  },
  {
"cell_type": "code",
	   "execution_count": null,
	   "metadata": {
	    "collapsed": true
	   },
	   "outputs": [],
"source": [
"clc\n",
"clear\n",
"//Input data\n",
"dx=(0.1*10^-10)//The uncertainity in the position of the electron in m\n",
"h=(6.625*10^-34)//Plancks constant in Js\n",
"\n",
"//Calculations\n",
"dp=(h/(2*3.14*dx))/10^-23//The uncertainity in the momentum of the electron located in kg m/s*10^-23\n",
"\n",
"//Output\n",
"printf('The uncertainity in the momentum of the electron located is %3.3f*10^-23 kg m/s',dp)"
   ]
   }
,
{
		   "cell_type": "markdown",
		   "metadata": {},
		   "source": [
			"## Example 9.7: Energy.sce"
		   ]
		  },
  {
"cell_type": "code",
	   "execution_count": null,
	   "metadata": {
	    "collapsed": true
	   },
	   "outputs": [],
"source": [
"clc\n",
"clear\n",
"//Input data\n",
"a=(1*10^-10)//Width of the potential well in m\n",
"m=(9.1*10^-31)//Mass of the electron in kg\n",
"h=(6.625*10^-34)//Plancks constant in Js\n",
"\n",
"//Calculations\n",
"x=6.24150934*10^18//1 Joule in eV\n",
"E1=((h^2*1^2)/(8*m*a^2))*x//The energy of the first excited state in eV\n",
"E2=((h^2*2^2)/(8*m*a^2))*x//The energy of the second excited state in eV\n",
"E3=((h^2*3^2)/(8*m*a^2))*x//The energy of the third excited state in eV\n",
"\n",
"//Output\n",
"printf('The energy of the first excited state is %3.3f eV \n The energy of the second excited state is %3.3f eV \n The energy of the third excited state is %3.3f eV',E1,E2,E3)"
   ]
   }
],
"metadata": {
		  "kernelspec": {
		   "display_name": "Scilab",
		   "language": "scilab",
		   "name": "scilab"
		  },
		  "language_info": {
		   "file_extension": ".sce",
		   "help_links": [
			{
			 "text": "MetaKernel Magics",
			 "url": "https://github.com/calysto/metakernel/blob/master/metakernel/magics/README.md"
			}
		   ],
		   "mimetype": "text/x-octave",
		   "name": "scilab",
		   "version": "0.7.1"
		  }
		 },
		 "nbformat": 4,
		 "nbformat_minor": 0
}
