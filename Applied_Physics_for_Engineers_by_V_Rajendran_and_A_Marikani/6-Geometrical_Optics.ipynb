{
"cells": [
 {
		   "cell_type": "markdown",
	   "metadata": {},
	   "source": [
       "# Chapter 6: Geometrical Optics"
	   ]
	},
{
		   "cell_type": "markdown",
		   "metadata": {},
		   "source": [
			"## Example 6.1: Focal_length.sce"
		   ]
		  },
  {
"cell_type": "code",
	   "execution_count": null,
	   "metadata": {
	    "collapsed": true
	   },
	   "outputs": [],
"source": [
"clc\n",
"clear\n",
"//Input data\n",
"f=1.5//Focal length of an achromatic combination of two lenses in contact in m\n",
"dp=[0.018,0.027]//Dispersive power of the materials of the lenses\n",
"\n",
"//Calculations\n",
"f12=(dp(1)/dp(2))//Ratio of dispersive powers\n",
"f1=(1-(1/f))*f//Focal length of the first lens in m\n",
"f2=(f1/-f12)//Focal length of the second lens in m\n",
"\n",
"//Output\n",
"printf('Focal length of the first lens is %3.1f m (convex lens) \n Focal length of the second lens is %3.2f m (concave lens)',f1,f2)"
   ]
   }
,
{
		   "cell_type": "markdown",
		   "metadata": {},
		   "source": [
			"## Example 6.2: Longitudinal_Chromatic_aberration.sce"
		   ]
		  },
  {
"cell_type": "code",
	   "execution_count": null,
	   "metadata": {
	    "collapsed": true
	   },
	   "outputs": [],
"source": [
"clc\n",
"clear\n",
"//Input data\n",
"r=[0.1,0.4]//Radii of curvature in m\n",
"u=[1.5230,1.5145]//Refractive indices of the lens for violet and red light respectively\n",
"\n",
"//Calculations\n",
"fr=1/((u(2)-1)*((1/r(1))-(1/r(2))))//Focal length of the lens for red light in m\n",
"fv=1/((u(1)-1)*((1/r(1))-(1/r(2))))//Focal length of the lens for violet light in m\n",
"f=fr-fv//Longitudinal chromatic aberration in m\n",
"\n",
"//Output\n",
"printf('Longitudinal chromatic aberration for an object at infinity is %3.4f m',f)"
   ]
   }
,
{
		   "cell_type": "markdown",
		   "metadata": {},
		   "source": [
			"## Example 6.3: Dispersive_power.sce"
		   ]
		  },
  {
"cell_type": "code",
	   "execution_count": null,
	   "metadata": {
	    "collapsed": true
	   },
	   "outputs": [],
"source": [
"clc\n",
"clear\n",
"//Input data\n",
"C=[1.5145,1.5170,1.5230]//Refractive index of the crown glass for C,D and F line respectively\n",
"F=[1.6444,1.6520,1.6637]//Refractive index of the flint glass for C,D and F line respectively\n",
"\n",
"//Calculations\n",
"w1=(C(3)-C(1))/(C(2)-1)//Dispersive power of the first lens \n",
"w2=(F(3)-F(1))/(F(2)-1)//Dispersive power of the second lens \n",
"\n",
"//Output\n",
"printf('The dispersive power for crown glass is %3.4f \n The dispersive power for the flint glass is %3.5f',w1,w2)"
   ]
   }
,
{
		   "cell_type": "markdown",
		   "metadata": {},
		   "source": [
			"## Example 6.4: Time_of_exposure.sce"
		   ]
		  },
  {
"cell_type": "code",
	   "execution_count": null,
	   "metadata": {
	    "collapsed": true
	   },
	   "outputs": [],
"source": [
"clc\n",
"clear\n",
"//Input data\n",
"t1=30//Exposure time in s\n",
"d1=5.6//Lens aperture \n",
"d2=8//Lens aperture\n",
"\n",
"//Calculations\n",
"f=1/2//The squares of the f-number are in the ratio 1:2\n",
"t2=(1/f)*t1//Exposure time in s\n",
"\n",
"//Output\n",
"printf('The time of exposure is %3.0f s when the print is made with a lens aperture of %i',t2,d2)"
   ]
   }
],
"metadata": {
		  "kernelspec": {
		   "display_name": "Scilab",
		   "language": "scilab",
		   "name": "scilab"
		  },
		  "language_info": {
		   "file_extension": ".sce",
		   "help_links": [
			{
			 "text": "MetaKernel Magics",
			 "url": "https://github.com/calysto/metakernel/blob/master/metakernel/magics/README.md"
			}
		   ],
		   "mimetype": "text/x-octave",
		   "name": "scilab",
		   "version": "0.7.1"
		  }
		 },
		 "nbformat": 4,
		 "nbformat_minor": 0
}
