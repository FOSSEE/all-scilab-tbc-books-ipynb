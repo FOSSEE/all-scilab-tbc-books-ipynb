{
"cells": [
 {
		   "cell_type": "markdown",
	   "metadata": {},
	   "source": [
       "# Chapter 12: Quantum Theory of Radiation and Photoelectric Effect"
	   ]
	},
{
		   "cell_type": "markdown",
		   "metadata": {},
		   "source": [
			"## Example 12.10: Threshold_frequency.sce"
		   ]
		  },
  {
"cell_type": "code",
	   "execution_count": null,
	   "metadata": {
	    "collapsed": true
	   },
	   "outputs": [],
"source": [
"clc\n",
"clear\n",
"//Input data\n",
"W=2.4//Work function in eV\n",
"l=6000*10^-10//Wavelength of the light in m\n",
"h=6.625*10^-34//Plancks constant in J.s\n",
"c=3*10^8//Velocity of light in m/s\n",
"e=1.6*10^-19//Charge of electron in Columbs\n",
"\n",
"//Calculations\n",
"vo=((W*e)/h)/10^14//Threshold frequency in Hz*10^14\n",
"v=(c/l)/10^14//Frequency of incident light in Hz*10^14\n",
"\n",
"//Output\n",
"printf('Threshold frequency is %3.3f*10^14 Hz and Frequency of incident light is %i*10^14 Hz \n Since v<vo the photoelectric effect is not possible',vo,v)"
   ]
   }
,
{
		   "cell_type": "markdown",
		   "metadata": {},
		   "source": [
			"## Example 12.11: Kinetic_Energy.sce"
		   ]
		  },
  {
"cell_type": "code",
	   "execution_count": null,
	   "metadata": {
	    "collapsed": true
	   },
	   "outputs": [],
"source": [
"clc\n",
"clear\n",
"//Input data\n",
"l=2500*10^-10//Wavelength of light used in m\n",
"W=4.2//Workfunction of aluminium in eV\n",
"h=6.625*10^-34//Plancks constant in J.s\n",
"c=3*10^8//Velocity of light in m/s\n",
"e=1.6*10^-19//Charge of electron in Columbs\n",
"\n",
"//Calculations\n",
"KE=((h*c/l)-(W*e))/10^-19//Kinetic energy of the photoelectron in J*10^-19\n",
"Vs=(KE*10^-19/e)//Stopping potential in V\n",
"\n",
"//Output\n",
"printf('The K.E of the fastest moving electron is %3.2f*10^-19 J \n The stopping potential is %3.5f V',KE,Vs)"
   ]
   }
,
{
		   "cell_type": "markdown",
		   "metadata": {},
		   "source": [
			"## Example 12.1: Wavelength.sce"
		   ]
		  },
  {
"cell_type": "code",
	   "execution_count": null,
	   "metadata": {
	    "collapsed": true
	   },
	   "outputs": [],
"source": [
"clc\n",
"clear\n",
"//Input data\n",
"E=10//Energy of the photon in eV\n",
"h=6.625*10^-34//Plancks constant in J.s\n",
"c=3*10^8//Velocity of light in m/s\n",
"e=1.6*10^-19//Charge of electron in Columbs\n",
"\n",
"//Calculations\n",
"l=((h*c)/(E*e))/10^-10//Wavelength of the photon in angstroms\n",
"\n",
"//Output\n",
"printf('The wavelength of the photon is %3.0f angstroms',l)"
   ]
   }
,
{
		   "cell_type": "markdown",
		   "metadata": {},
		   "source": [
			"## Example 12.2: Momentum_of_photons.sce"
		   ]
		  },
  {
"cell_type": "code",
	   "execution_count": null,
	   "metadata": {
	    "collapsed": true
	   },
	   "outputs": [],
"source": [
"clc\n",
"clear\n",
"//Input data\n",
"E=3//Energy of photon in eV\n",
"c=3*10^8//Velocity of light in m/s\n",
"e=1.6*10^-19//Charge of electron in Columbs\n",
"\n",
"//Calculations\n",
"p=((E*e)/c)/10^-27//The momentum of the photon in kg.m/s\n",
"\n",
"//Output\n",
"printf('The momentum of the photon is %3.1f*10^-27 kg.m/s',p)"
   ]
   }
,
{
		   "cell_type": "markdown",
		   "metadata": {},
		   "source": [
			"## Example 12.3: Number_of_photons.sce"
		   ]
		  },
  {
"cell_type": "code",
	   "execution_count": null,
	   "metadata": {
	    "collapsed": true
	   },
	   "outputs": [],
"source": [
"clc\n",
"clear\n",
"//Input data\n",
"l=6*10^-7//Wavelength of the photon in m\n",
"P=2//Power of lamp in W\n",
"h=6.625*10^-34//Plancks constant in J.s\n",
"c=3*10^8//Velocity of light in m/s\n",
"\n",
"//Calculations\n",
"E=((h*c)/l)/10^-19//Energy of photon in J*10^-19\n",
"n=(P/(E*10^-19))/10^18//The number of photons emitted per second*10^18\n",
"\n",
"//Output\n",
"printf('The number of photons emitted per second is %3.4f*10^18',n)"
   ]
   }
,
{
		   "cell_type": "markdown",
		   "metadata": {},
		   "source": [
			"## Example 12.4: Number_of_photons.sce"
		   ]
		  },
  {
"cell_type": "code",
	   "execution_count": null,
	   "metadata": {
	    "collapsed": true
	   },
	   "outputs": [],
"source": [
"clc\n",
"clear\n",
"//Input data\n",
"l=1*10^-10//Wavelength of the x-ray in m\n",
"P=1*1000//Output power in W\n",
"h=6.625*10^-34//Plancks constant in J.s\n",
"c=3*10^8//Velocity of light in m/s\n",
"\n",
"//Calculations\n",
"E=((h*c)/l)/10^-15//Energy of the photon in J*10^-15\n",
"n=(P/(E*10^-15))/10^17//The number of photons emitted per second*10^17\n",
"\n",
"//Output\n",
"printf('The number of photons emitted per second is %3.4f*10^17',n)"
   ]
   }
,
{
		   "cell_type": "markdown",
		   "metadata": {},
		   "source": [
			"## Example 12.5: Threshold_Wavelength.sce"
		   ]
		  },
  {
"cell_type": "code",
	   "execution_count": null,
	   "metadata": {
	    "collapsed": true
	   },
	   "outputs": [],
"source": [
"clc\n",
"clear\n",
"//Input data\n",
"W=2.2//Work function of sodium in eV\n",
"h=6.625*10^-34//Plancks constant in J.s\n",
"c=3*10^8//Velocity of light in m/s\n",
"e=1.6*10^-19//Charge of electron in Columbs\n",
"\n",
"//Calculations\n",
"v=(W*e)/h//Frequency in Hz\n",
"l=(c/v)/10^-10//The threshold wavelength in angstroms\n",
"\n",
"//Output\n",
"printf('The threshold wavelength of the metal is %3.0f angstroms',l)"
   ]
   }
,
{
		   "cell_type": "markdown",
		   "metadata": {},
		   "source": [
			"## Example 12.6: Kinetic_Energy.sce"
		   ]
		  },
  {
"cell_type": "code",
	   "execution_count": null,
	   "metadata": {
	    "collapsed": true
	   },
	   "outputs": [],
"source": [
"clc\n",
"clear\n",
"//Input data\n",
"W=3.6//Work function of zinc in eV\n",
"l=2000*10^-10//Wavelength of light used in m\n",
"h=6.625*10^-34//Plancks constant in J.s\n",
"c=3*10^8//Velocity of light in m/s\n",
"e=1.6*10^-19//Charge of electron in Columbs\n",
"m=9.1*10^-31//Mass of the electron in kg\n",
"\n",
"//Calculations\n",
"lo=((h*c)/(W*e))//Threshold wavelength of zinc in m\n",
"KE=((h*c*(lo-l))/(lo*l*e))//Kinetic energy of the photoelectrons in eV\n",
"v=(sqrt((2*KE*e)/m))/10^5//Velocity of photoelectrons in m/s*10^5\n",
"\n",
"//Output\n",
"printf('The kinetic energy of the photoelectrons emitted is %3.2f eV \n The velocity of the ejected photoelectrons is %3.2f*10^5 m/s',KE,v)"
   ]
   }
,
{
		   "cell_type": "markdown",
		   "metadata": {},
		   "source": [
			"## Example 12.7: Photoelectric_work_function.sce"
		   ]
		  },
  {
"cell_type": "code",
	   "execution_count": null,
	   "metadata": {
	    "collapsed": true
	   },
	   "outputs": [],
"source": [
"clc\n",
"clear\n",
"//Input data\n",
"lo=3200*10^-10//Threshold wavelength in m\n",
"h=6.625*10^-34//Plancks constant in J.s\n",
"c=3*10^8//Velocity of light in m/s\n",
"e=1.6*10^-19//Charge of electron in Columbs\n",
"\n",
"//Calculations\n",
"W=((h*c)/(lo*e))//Work function of platinum in eV\n",
"\n",
"//Output\n",
"printf('The photoelectric workfunction for platinum is %3.4f eV',W)"
   ]
   }
,
{
		   "cell_type": "markdown",
		   "metadata": {},
		   "source": [
			"## Example 12.8: Energy_of_photoelectrons.sce"
		   ]
		  },
  {
"cell_type": "code",
	   "execution_count": null,
	   "metadata": {
	    "collapsed": true
	   },
	   "outputs": [],
"source": [
"clc\n",
"clear\n",
"//Input data\n",
"lo=6000*10^-10//Threshold wavelength in m\n",
"l=3600*10^-10//Wavelength of the light used in m\n",
"h=6.625*10^-34//Plancks constant in J.s\n",
"c=3*10^8//Velocity of light in m/s\n",
"e=1.6*10^-19//Charge of electron in Columbs\n",
"\n",
"//Calculations\n",
"E=(h*c*((1/l)-(1/lo)))/e//Energy of the photoelectrons emitted in eV\n",
"\n",
"//Output\n",
"printf('Energy of the photoelectrons emitted is %3.2f eV',E)"
   ]
   }
,
{
		   "cell_type": "markdown",
		   "metadata": {},
		   "source": [
			"## Example 12.9: Stopping_Potential.sce"
		   ]
		  },
  {
"cell_type": "code",
	   "execution_count": null,
	   "metadata": {
	    "collapsed": true
	   },
	   "outputs": [],
"source": [
"clc\n",
"clear\n",
"//Input data\n",
"W=1.9//Work function in eV\n",
"E=3//Energy of the emitted photons in eV\n",
"\n",
"//Calculations\n",
"V=(E-W)//Stopping potential in V\n",
"\n",
"//Output\n",
"printf('The stopping potential is %3.1f V',V)"
   ]
   }
],
"metadata": {
		  "kernelspec": {
		   "display_name": "Scilab",
		   "language": "scilab",
		   "name": "scilab"
		  },
		  "language_info": {
		   "file_extension": ".sce",
		   "help_links": [
			{
			 "text": "MetaKernel Magics",
			 "url": "https://github.com/calysto/metakernel/blob/master/metakernel/magics/README.md"
			}
		   ],
		   "mimetype": "text/x-octave",
		   "name": "scilab",
		   "version": "0.7.1"
		  }
		 },
		 "nbformat": 4,
		 "nbformat_minor": 0
}
