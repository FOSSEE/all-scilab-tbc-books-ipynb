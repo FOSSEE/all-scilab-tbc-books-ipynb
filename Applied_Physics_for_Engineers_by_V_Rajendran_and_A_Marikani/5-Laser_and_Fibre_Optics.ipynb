{
"cells": [
 {
		   "cell_type": "markdown",
	   "metadata": {},
	   "source": [
       "# Chapter 5: Laser and Fibre Optics"
	   ]
	},
{
		   "cell_type": "markdown",
		   "metadata": {},
		   "source": [
			"## Example 5.1: Energy.sce"
		   ]
		  },
  {
"cell_type": "code",
	   "execution_count": null,
	   "metadata": {
	    "collapsed": true
	   },
	   "outputs": [],
"source": [
"clc\n",
"clear\n",
"//Input data\n",
"l=(5900*10^-10)//Wavelength of sodium D line in m\n",
"h=6.625*10^-34//Plancks constant in J.s\n",
"e=(1.602*10^-19)//Charge of electrons in Columbs\n",
"c=(3*10^8)//Velocity of light in m/s\n",
"\n",
"//Calculations\n",
"E=((h*c)/l)/e//Energy emitted in eV\n",
"\n",
"//Output\n",
"printf('The energy of the first excited state is %3.1f eV',E)"
   ]
   }
,
{
		   "cell_type": "markdown",
		   "metadata": {},
		   "source": [
			"## Example 5.2: Ratio_of_atoms.sce"
		   ]
		  },
  {
"cell_type": "code",
	   "execution_count": null,
	   "metadata": {
	    "collapsed": true
	   },
	   "outputs": [],
"source": [
"clc\n",
"clear\n",
"//Input data\n",
"T=250+273//Temperature in K\n",
"l=(5900*10^-10)//Wavelength of sodium D line in m\n",
"h=6.625*10^-34//Plancks constant in J.s\n",
"e=(1.602*10^-19)//Charge of electrons in Columbs\n",
"c=(3*10^8)//Velocity of light in m/s\n",
"k=(1.38*10^-23)//Boltzmann constant in J/K\n",
"\n",
"//Calculations\n",
"N=exp((-h*c)/(k*T*l))/10^-21//The ratio between the atoms in the first excited state and the ground state *10^-21\n",
"\n",
"//Output\n",
"printf('The ratio between the atoms in the first excited state and the ground state is %3.3f*10^-21',N)"
   ]
   }
,
{
		   "cell_type": "markdown",
		   "metadata": {},
		   "source": [
			"## Example 5.3: Ratio_of_emissio.sce"
		   ]
		  },
  {
"cell_type": "code",
	   "execution_count": null,
	   "metadata": {
	    "collapsed": true
	   },
	   "outputs": [],
"source": [
"clc\n",
"clear\n",
"//Input data\n",
"T=250+273//Temperature in K\n",
"l=(5900*10^-10)//Wavelength of sodium D line in m\n",
"h=6.625*10^-34//Plancks constant in J.s\n",
"e=(1.602*10^-19)//Charge of electrons in Columbs\n",
"c=(3*10^8)//Velocity of light in m/s\n",
"k=(1.38*10^-23)//Boltzmann constant in J/K\n",
"\n",
"//Calculations\n",
"N=(1/(exp((h*c)/(k*T*l))-1))/10^-21//The ratio between the stimulated emission and the spontaneous emission *10^-21\n",
"\n",
"//Output\n",
"printf('The ratio between the stimulated emission and the spontaneous emission is %3.5f*10^-21',N)"
   ]
   }
,
{
		   "cell_type": "markdown",
		   "metadata": {},
		   "source": [
			"## Example 5.4: Difference_in_states.sce"
		   ]
		  },
  {
"cell_type": "code",
	   "execution_count": null,
	   "metadata": {
	    "collapsed": true
	   },
	   "outputs": [],
"source": [
"clc\n",
"clear\n",
"//Input data\n",
"no=1.76//Refractive index of the ruby rod\n",
"vo=4.3*10^14//Frequency in Hz\n",
"dvo=1.5*10^11//The doppler broadening in Hz\n",
"t21=4.3*10^-3//Lifetime of spontantaneous emission in s\n",
"tp=6*10^-9//Lifetime of photon in s\n",
"c=(3*10^8)//Velocity of light in m/s\n",
"\n",
"//Calculations\n",
"dN=((4*3.14^2*vo^2*no^3*t21*dvo)/(c^3*tp))/10^23//The difference between the population of the excited state and the ground state in m^-3\n",
"\n",
"//Output\n",
"printf('The difference between the population of the excited state and the ground state is %3.3f*10^23 m^-3',dN)"
   ]
   }
,
{
		   "cell_type": "markdown",
		   "metadata": {},
		   "source": [
			"## Example 5.5: Ratio_of_emissio.sce"
		   ]
		  },
  {
"cell_type": "code",
	   "execution_count": null,
	   "metadata": {
	    "collapsed": true
	   },
	   "outputs": [],
"source": [
"clc\n",
"clear\n",
"//Input data\n",
"l=5000*10^-10//Wavelength of the incident light in m\n",
"T=300//Temperature in K\n",
"h=6.625*10^-34//Plancks constant in J.s\n",
"e=(1.602*10^-19)//Charge of electrons in Columbs\n",
"c=(3*10^8)//Velocity of light in m/s\n",
"k=(1.38*10^-23)//Boltzmann constant in J/K\n",
"\n",
"//Calculations\n",
"v=(c/l)//Frequency of the incident light in Hz\n",
"N=(1/(exp((h*c)/(k*T*l))-1))/10^-42//The ratio between the stimulated emission and the spontaneous emission*10^-42\n",
"\n",
"//Output\n",
"printf('The ratio of stimulated emission to the spontaneous emission is %3.4f*10^-42 \n This shows that the spontantaneous emission is more predominant than that of the stimulated emission. For stimulating emission, N2>>N1 should exist.\n  Therefore, there is no amplification possibility. \n But, subsequent development in maintaining population inversion by pumping the atoms from lower level to higher level optically or electronically led to the discovery of lasers.',N)"
   ]
   }
,
{
		   "cell_type": "markdown",
		   "metadata": {},
		   "source": [
			"## Example 5.6: Number_of_photons.sce"
		   ]
		  },
  {
"cell_type": "code",
	   "execution_count": null,
	   "metadata": {
	    "collapsed": true
	   },
	   "outputs": [],
"source": [
"clc\n",
"clear\n",
"//Input data\n",
"l=632.8*10^-9//Wavelength of the laser beam in m\n",
"P=2.3*10^-3//Power output in W\n",
"c=(3*10^8)//Velocity of light in m/s\n",
"h=6.625*10^-34//Plancks constant in J.s\n",
"\n",
"//Calculations\n",
"f=(c/l)//Frequency of the photon emitted by the laser beam in Hz\n",
"E=h*f//Energy of a photon in J\n",
"n=((P*60)/E)/10^17//The number of photons emitted *10^17\n",
"\n",
"//Output\n",
"printf('The number of photons emitted is %3.4f*10^17 photons/minute',n)"
   ]
   }
,
{
		   "cell_type": "markdown",
		   "metadata": {},
		   "source": [
			"## Example 5.7: Properties.sce"
		   ]
		  },
  {
"cell_type": "code",
	   "execution_count": null,
	   "metadata": {
	    "collapsed": true
	   },
	   "outputs": [],
"source": [
"clc\n",
"clear\n",
"//Input data\n",
"NA=0.16//Numerical aperture of the fibre\n",
"n1=1.45//Refractive index of the core \n",
"d=(90*10^-6)//Diameter of the core in m\n",
"l=0.9*10^-6//Wavelength in m\n",
"\n",
"//Calculations\n",
"n2=sqrt(n1^2-NA^2)//Refractive index of the cladding\n",
"q=asind(NA)//Acceptance angle in degrees\n",
"qx=(q-int(q))*60//For output\n",
"qy=(qx-int(qx))*60//For output\n",
"N=(4.9*((d*NA)/l)^2)//Number of modes propagating through the fibre\n",
"n=(int(N)/2)//The number of modes propagating through graded fibre\n",
"\n",
"//Output\n",
"printf('Refractive index of the cladding is %3.3f \n Acceptance angle of the fibre is %3.0f degrees %3.0f minutes %3.2f seconds \n Number of modes propagating through the fibre is %3.1f \n The number of modes propagating through graded fibre is %3.0f',n2,q,qx,qy,N,n)"
   ]
   }
,
{
		   "cell_type": "markdown",
		   "metadata": {},
		   "source": [
			"## Example 5.8: Number_of_modes.sce"
		   ]
		  },
  {
"cell_type": "code",
	   "execution_count": null,
	   "metadata": {
	    "collapsed": true
	   },
	   "outputs": [],
"source": [
"clc\n",
"clear\n",
"//Input data\n",
"l=1*10^-6//Wavelength of light used in m\n",
"n1=1.45//Refractive index of the core\n",
"n2=1.448//Refractive index of the cladding\n",
"d=6*10^-6//Diamter of the core in m\n",
"\n",
"//Calculations\n",
"NA=sqrt(n1^2-n2^2)//Numerical aperture\n",
"N=4.9*(d*NA/l)^2//Number of modes propagating through the fibre\n",
"\n",
"//Output\n",
"printf('The number of modes that can be allowed through the fibre is %i. \n It is a single-mode fibre',N)"
   ]
   }
],
"metadata": {
		  "kernelspec": {
		   "display_name": "Scilab",
		   "language": "scilab",
		   "name": "scilab"
		  },
		  "language_info": {
		   "file_extension": ".sce",
		   "help_links": [
			{
			 "text": "MetaKernel Magics",
			 "url": "https://github.com/calysto/metakernel/blob/master/metakernel/magics/README.md"
			}
		   ],
		   "mimetype": "text/x-octave",
		   "name": "scilab",
		   "version": "0.7.1"
		  }
		 },
		 "nbformat": 4,
		 "nbformat_minor": 0
}
