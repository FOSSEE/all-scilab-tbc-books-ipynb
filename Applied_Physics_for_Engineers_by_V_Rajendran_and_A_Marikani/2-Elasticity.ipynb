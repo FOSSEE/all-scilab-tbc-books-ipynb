{
"cells": [
 {
		   "cell_type": "markdown",
	   "metadata": {},
	   "source": [
       "# Chapter 2: Elasticity"
	   ]
	},
{
		   "cell_type": "markdown",
		   "metadata": {},
		   "source": [
			"## Example 2.10: Change_in_Volume.sce"
		   ]
		  },
  {
"cell_type": "code",
	   "execution_count": null,
	   "metadata": {
	    "collapsed": true
	   },
	   "outputs": [],
"source": [
"clc\n",
"clear\n",
"//Input data\n",
"p=(1.01*10^5)//Standard atmospheric pressure in N/m^2\n",
"K=(16*10^10)//Bulk modulus in N/m^2\n",
"dp=(p-10^2)//Change in pressure in N/m^2\n",
"\n",
"//Calculations\n",
"dvv=(dp/K)//Change in volume to initial volume\n",
"fv=(dvv/10^-7)//Fractional change in the volume *10^-7\n",
"\n",
"//Output\n",
"printf('The change in volume of steel bar is %3.1f*10^-7 *V m^3',fv)"
   ]
   }
,
{
		   "cell_type": "markdown",
		   "metadata": {},
		   "source": [
			"## Example 2.1: Youngs_Modulus.sce"
		   ]
		  },
  {
"cell_type": "code",
	   "execution_count": null,
	   "metadata": {
	    "collapsed": true
	   },
	   "outputs": [],
"source": [
"clc\n",
"clear\n",
"//Input data\n",
"l=3//Length of the wire in m\n",
"A=(6.25*10^-5)//Area in m^2\n",
"dl=(3*10^-3)//Increase in length in m\n",
"F=(1.2*10^3)//Tension in N\n",
"\n",
"//Calculations\n",
"Y=((F*l)/(A*dl))/10^10//Young's modulus in N/m^2 *10^10\n",
"\n",
"//Output\n",
"printf('Youngs modulus of the wire is %3.2f *10^10 N/m^2',Y)"
   ]
   }
,
{
		   "cell_type": "markdown",
		   "metadata": {},
		   "source": [
			"## Example 2.2: Increase_in_length.sce"
		   ]
		  },
  {
"cell_type": "code",
	   "execution_count": null,
	   "metadata": {
	    "collapsed": true
	   },
	   "outputs": [],
"source": [
"clc\n",
"clear\n",
"//Input data\n",
"l=2.75//Length of steel wire in m\n",
"d=(1*10^-3)//Diameter of the wire in m\n",
"M=1//Applied load in kg\n",
"Y=(2*10^11)//Youngs modulus in N/m^2\n",
"\n",
"//Calculations\n",
"T=(M*9.8)//Tension in N\n",
"dl=((T*l)/(3.14*(d/2)^2*Y))/10^-4//Increase in length in m *10^-4\n",
"\n",
"//Output\n",
"printf('The increase in length of wire is %3.5f *10^-4 m',dl)"
   ]
   }
,
{
		   "cell_type": "markdown",
		   "metadata": {},
		   "source": [
			"## Example 2.3: Shearing_Stress.sce"
		   ]
		  },
  {
"cell_type": "code",
	   "execution_count": null,
	   "metadata": {
	    "collapsed": true
	   },
	   "outputs": [],
"source": [
"clc\n",
"clear\n",
"//Input data\n",
"d=[6,6,2]//Dimensions of the rectangular solid in cm\n",
"F=0.3//Force applied in N\n",
"d1=5//Displacement relative to the lower surface in mm\n",
"\n",
"//Calculations\n",
"s=(F/(d(1)*d(2)*10^-4))//Shear stress in N/m^2\n",
"q=(d1*10^-3)/(d(3)*10^-2)//Shear strain\n",
"rm=(s/q)//Rigidity modulus in N/m^2\n",
"\n",
"//Output\n",
"printf('Shearing stress is %3.2f N/m^2 \n Shear strain is %3.2f \n Rigidity modulus is %3.2f N/m^2',s,q,rm)"
   ]
   }
,
{
		   "cell_type": "markdown",
		   "metadata": {},
		   "source": [
			"## Example 2.4: Shearing_Force.sce"
		   ]
		  },
  {
"cell_type": "code",
	   "execution_count": null,
	   "metadata": {
	    "collapsed": true
	   },
	   "outputs": [],
"source": [
"clc\n",
"clear\n",
"//Input data\n",
"d=1.5//Distortion in the block in cm\n",
"t=30//Thickness of the block in cm\n",
"A=12//Surface area of the block in m^2\n",
"s=(2.5*10^10)//Shear modulus of aluminium in N/m^2\n",
"\n",
"//Calculations\n",
"F=((s*A*10^-4*d*10^-2)/(t*10^-2))/10^6//Shearing force in N\n",
"\n",
"//Output\n",
"printf('Shearing force is %3.1f *10^6 N',F)"
   ]
   }
,
{
		   "cell_type": "markdown",
		   "metadata": {},
		   "source": [
			"## Example 2.6: Poissions_ratio.sce"
		   ]
		  },
  {
"cell_type": "code",
	   "execution_count": null,
	   "metadata": {
	    "collapsed": true
	   },
	   "outputs": [],
"source": [
"clc\n",
"clear\n",
"//Input data\n",
"Y=(7.25*10^10)//Youngs modulus of silver in N/m^2\n",
"K=(11*10^10)//Bulk modulus of silver in N/m^2\n",
"\n",
"//Calculations\n",
"s=(3*K-Y)/(6*K)//Poissons ratio\n",
"\n",
"//Output\n",
"printf('Poissons ratio for silver is %3.2f',s)"
   ]
   }
,
{
		   "cell_type": "markdown",
		   "metadata": {},
		   "source": [
			"## Example 2.7: Lateral_Compressio.sce"
		   ]
		  },
  {
"cell_type": "code",
	   "execution_count": null,
	   "metadata": {
	    "collapsed": true
	   },
	   "outputs": [],
"source": [
"clc\n",
"clear\n",
"//Input data\n",
"l=3//Length of the wire in m\n",
"Y=(12.5*10^10)//Youngs modulus in N/m^2\n",
"d=1//diameter of the wire in mm\n",
"M=10//load applied in kg\n",
"p=0.26//Poissons ratio\n",
"\n",
"//Calculations\n",
"dl=(M*9.8*l)/(3.14*(d/2)^2*10^-6*Y)//Increase in length in m\n",
"sl=(p*dl)/l//Lateral strain\n",
"dd=(sl*d*10^-3)//Decrease in diameter in m\n",
"E=dl/10^-3//Extensio produced in m*10^-3\n",
"lc=dd/10^-7//Lateral compression in m*10^-7\n",
"\n",
"//Output\n",
"printf('Extension produced is %3.2f *10^-3 m \n Lateral compression produced is %3.3f *10^-7 m',E,lc)\n",
""
   ]
   }
,
{
		   "cell_type": "markdown",
		   "metadata": {},
		   "source": [
			"## Example 2.8: Couple_to_be_applied.sce"
		   ]
		  },
  {
"cell_type": "code",
	   "execution_count": null,
	   "metadata": {
	    "collapsed": true
	   },
	   "outputs": [],
"source": [
"clc\n",
"clear\n",
"//Input data\n",
"l=1//Length of wire in m\n",
"d=0.001//diameter of the wire in m\n",
"q=(90*3.14)/180//Twist angle in radians\n",
"r=(2.8*10^10)//Rigidity modulus in N/m^2\n",
"\n",
"//Calculations\n",
"C=((3.14^2*r*(d/2)^4)/(4*l))/10^-3//Couple to be applied in N.m\n",
"\n",
"//Output\n",
"printf('The couple to be applied is %3.4f *10^-3 N.m',C)"
   ]
   }
,
{
		   "cell_type": "markdown",
		   "metadata": {},
		   "source": [
			"## Example 2.9: Poissions_ratio.sce"
		   ]
		  },
  {
"cell_type": "code",
	   "execution_count": null,
	   "metadata": {
	    "collapsed": true
	   },
	   "outputs": [],
"source": [
"clc\n",
"clear\n",
"d=(0.82*10^-3)//Diameter of the wire in m\n",
"dl=(1*10^-3)//Length of elongation produced in m\n",
"F=(0.33*9.8)//Force in N\n",
"q=1//Angular twist in radians\n",
"T=(10*10^-5)//Torque in N\n",
"n=(2.2529*10^9)//Rigidity modulus in N/m^2\n",
"\n",
"//Calculations\n",
"Y=(F/(3.14*(d/2)^2*dl))//youngs modulus *L in N/m^2\n",
"s=(Y/(2*n))-1//Poissons ratio\n",
"\n",
"//Output\n",
"printf('Poissons ratio is %3.4f',s)"
   ]
   }
],
"metadata": {
		  "kernelspec": {
		   "display_name": "Scilab",
		   "language": "scilab",
		   "name": "scilab"
		  },
		  "language_info": {
		   "file_extension": ".sce",
		   "help_links": [
			{
			 "text": "MetaKernel Magics",
			 "url": "https://github.com/calysto/metakernel/blob/master/metakernel/magics/README.md"
			}
		   ],
		   "mimetype": "text/x-octave",
		   "name": "scilab",
		   "version": "0.7.1"
		  }
		 },
		 "nbformat": 4,
		 "nbformat_minor": 0
}
