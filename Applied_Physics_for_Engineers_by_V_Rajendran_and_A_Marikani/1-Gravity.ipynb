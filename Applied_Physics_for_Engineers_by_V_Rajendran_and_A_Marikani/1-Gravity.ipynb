{
"cells": [
 {
		   "cell_type": "markdown",
	   "metadata": {},
	   "source": [
       "# Chapter 1: Gravity"
	   ]
	},
{
		   "cell_type": "markdown",
		   "metadata": {},
		   "source": [
			"## Example 1.1: Time_Period.sce"
		   ]
		  },
  {
"cell_type": "code",
	   "execution_count": null,
	   "metadata": {
	    "collapsed": true
	   },
	   "outputs": [],
"source": [
"\n",
"clc\n",
"clear\n",
"\n",
"//INPUT DATA\n",
"L=1;//Length of the bar in m\n",
"l=0.25;//Length of the pemdulum in m\n",
"\n",
"//CALCULATIONS\n",
"k=sqrt((L^2)/12);//Radius of gyration m\n",
"T=sqrt(((k^2/l)+l)/9.8)*2*3.14;//Time period of pendulum in s\n",
"\n",
"//OUTPUT\n",
"mprintf('Time period of the pendulum is %3.3f sec',T)"
   ]
   }
,
{
		   "cell_type": "markdown",
		   "metadata": {},
		   "source": [
			"## Example 1.2: Acceleration_due_to_gravity.sce"
		   ]
		  },
  {
"cell_type": "code",
	   "execution_count": null,
	   "metadata": {
	    "collapsed": true
	   },
	   "outputs": [],
"source": [
"\n",
"clc\n",
"clear\n",
"\n",
"//INPUT DATA\n",
"T=2.223;//Time taken for 1 oscillation in sec\n",
"L=1.228;//Length of the pendulum in m\n",
"\n",
"//CALCULATIONS\n",
"g=((4*3.14^2*L)/(T^2));//Acceleration due to gravity in m.s^-2\n",
"\n",
"//OUTPUT\n",
"mprintf('The acceleration due to gravity is %3.2f m s^-2',g)"
   ]
   }
,
{
		   "cell_type": "markdown",
		   "metadata": {},
		   "source": [
			"## Example 1.3: Time_Period_and_distance.sce"
		   ]
		  },
  {
"cell_type": "code",
	   "execution_count": null,
	   "metadata": {
	    "collapsed": true
	   },
	   "outputs": [],
"source": [
"\n",
"clc\n",
"clear\n",
"\n",
"//INPUT DATA\n",
"l=1.2;//Length of of bar in m\n",
"\n",
"//CALCULATIONS\n",
"k=sqrt(l^2/12);//Radius of gyration in m\n",
"T=sqrt(((k^2/(l/2))+(l/2))/9.8)*2*3.14;//Time period of the pendulum in s\n",
"L=((9.8*T^2)/(4*3.14^2));//Length in m\n",
"D=L-(l/2);//Another point where pendulum has same timeperiod in m\n",
"\n",
"//OUTPUT\n",
"mprintf('The time period of pendulum is %3.3f s\nDistance of another point from centre of gravity on bar with same time period is %3.1f m',T,D)\n",
""
   ]
   }
,
{
		   "cell_type": "markdown",
		   "metadata": {},
		   "source": [
			"## Example 1.4: Time_Period.sce"
		   ]
		  },
  {
"cell_type": "code",
	   "execution_count": null,
	   "metadata": {
	    "collapsed": true
	   },
	   "outputs": [],
"source": [
"\n",
"clc\n",
"clear\n",
"\n",
"//INPUT DATA\n",
"L=1;//Length of pendulum in m\n",
"B=0.05;//Width of pendulum in m\n",
"\n",
"//CALCULATIONS\n",
"k=sqrt((L^2+B^2)/12);//Radius of gyration in m\n",
"D=((L/2)-k)*100;//distance of point of minimum time period from one end in cm\n",
"\n",
"//OUTPUT\n",
"mprintf('The minimum time period is obtained at %3.2f cm',D)"
   ]
   }
],
"metadata": {
		  "kernelspec": {
		   "display_name": "Scilab",
		   "language": "scilab",
		   "name": "scilab"
		  },
		  "language_info": {
		   "file_extension": ".sce",
		   "help_links": [
			{
			 "text": "MetaKernel Magics",
			 "url": "https://github.com/calysto/metakernel/blob/master/metakernel/magics/README.md"
			}
		   ],
		   "mimetype": "text/x-octave",
		   "name": "scilab",
		   "version": "0.7.1"
		  }
		 },
		 "nbformat": 4,
		 "nbformat_minor": 0
}
