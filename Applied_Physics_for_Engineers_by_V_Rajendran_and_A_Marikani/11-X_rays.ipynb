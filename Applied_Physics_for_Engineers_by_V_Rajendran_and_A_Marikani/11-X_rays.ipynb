{
"cells": [
 {
		   "cell_type": "markdown",
	   "metadata": {},
	   "source": [
       "# Chapter 11: X rays"
	   ]
	},
{
		   "cell_type": "markdown",
		   "metadata": {},
		   "source": [
			"## Example 11.1: Shortest_wavelength.sce"
		   ]
		  },
  {
"cell_type": "code",
	   "execution_count": null,
	   "metadata": {
	    "collapsed": true
	   },
	   "outputs": [],
"source": [
"clc\n",
"clear\n",
"//Input data\n",
"h=6.625*10^-34//Plancks constant in J.s\n",
"e=(1.6*10^-19)//Charge of the electron in C\n",
"c=(3*10^8)//Velocity of light in m/s\n",
"V=(10*10^3)//Potential difference applied in V\n",
"\n",
"//Calculations\n",
"lmin=(12400/V)//The wavelength of X-rays emitted in angstroms\n",
"v=(c/(lmin*10^-10))/10^18//Frequency of the X-ray beam emitted in Hz*10^18\n",
"\n",
"//Output\n",
"printf('The shortest wavelength of X-rays produced by an X-ray tube is %3.2f angstroms \n The frequency of the X-ray beam emitted is %3.3f*10^18 Hz',lmin,v)"
   ]
   }
,
{
		   "cell_type": "markdown",
		   "metadata": {},
		   "source": [
			"## Example 11.2: Number_of_electrons.sce"
		   ]
		  },
  {
"cell_type": "code",
	   "execution_count": null,
	   "metadata": {
	    "collapsed": true
	   },
	   "outputs": [],
"source": [
"clc\n",
"clear\n",
"//Input data\n",
"V=10*1000//Potential difference applied in V\n",
"I=2*10^-3//Current in A\n",
"e=(1.6*10^-19)//Charge of the electron in C\n",
"m=9.1*10^-31//Mass of the electron in kg\n",
"\n",
"//Calculations\n",
"n=(I/e)/10^16//Number of electrons striking the target per second *10^16\n",
"v=sqrt((2*e*V)/m)/10^7//Velocity of the electron in m/s*10^7\n",
"lmin=12400/V//Wavelength of the X-rays in angstroms\n",
"\n",
"//Output\n",
"printf('Number of electrons striking the target per second is %3.2f*10^16 \n Velocity of the electron is %3.2f*10^7 m/s \n Wavelength of the X-rays is %3.2f angstroms',n,v,lmin)"
   ]
   }
,
{
		   "cell_type": "markdown",
		   "metadata": {},
		   "source": [
			"## Example 11.3: wavelength.sce"
		   ]
		  },
  {
"cell_type": "code",
	   "execution_count": null,
	   "metadata": {
	    "collapsed": true
	   },
	   "outputs": [],
"source": [
"\n",
"clc\n",
"clear\n",
"//Input data\n",
"d=5.6534*10^-10//Interplanar spacing in m\n",
"q1=13.666//Glacing angle in degrees\n",
"n1=1//Order of diffraction\n",
"n2=2//Order of diffraction\n",
"\n",
"//Calculations\n",
"l=((2*d*sind(q1))/n1)/10^-10//Wavelength in m*10^-10\n",
"q2=asind((n2*l*10^-10)/(2*d))//Angle for the second order in degrees\n",
"qzx=(q2-(int(q2)))*60//For output\n",
"qzy=(qzx-(int(qzx)))*60//For output\n",
"\n",
"//Output\n",
"printf('(a) The wavelength of the X-rays is %3.3f*10^-10 m \n (b) The angle for the second order Bragg reflection is %3.0f degrees %3.0f minutes %3.2f seconds',l,q2,qzx,qzy)"
   ]
   }
,
{
		   "cell_type": "markdown",
		   "metadata": {},
		   "source": [
			"## Example 11.4: Grating_spacing.sce"
		   ]
		  },
  {
"cell_type": "code",
	   "execution_count": null,
	   "metadata": {
	    "collapsed": true
	   },
	   "outputs": [],
"source": [
"\n",
"clc\n",
"clear\n",
"//Input data\n",
"V=24800//Potential difference applied in V\n",
"n=1//Order of diffraction\n",
"l=1.54*10^-10//Wavelength of X-ray beam in m\n",
"q=15.8//Glancing angle in degrees\n",
"\n",
"//Calculations\n",
"d=((n*l)/(2*sind(q)))/10^-10//Interplanar spacing in m\n",
"lmin=12400/V//Minimum wavelength of X-rays emitted in angstroms\n",
"q=asind((n*lmin*10^-10)/(2*d*10^-10))//Glancing angle for minimum wavelength in degrees\n",
"qx=(q-int(q))*60//For output\n",
"qy=(qx-int(qx))*60//For output\n",
"\n",
"//Output\n",
"printf('The grating spaing for NaCl crystal is %3.3f angstroms \n Glancing angle for minimum wavelength is %3.0f degrees %3.0f minutes %3.0f seconds',d,q,qx,qy)"
   ]
   }
,
{
		   "cell_type": "markdown",
		   "metadata": {},
		   "source": [
			"## Example 11.5: wavelength.sce"
		   ]
		  },
  {
"cell_type": "code",
	   "execution_count": null,
	   "metadata": {
	    "collapsed": true
	   },
	   "outputs": [],
"source": [
"clc\n",
"clear\n",
"//Input data\n",
"l=0.7078//Wavelength of X-rays in m\n",
"ZMo=42//Atomic number of molybdenum \n",
"ZCd=48//Atomic number of cadmium\n",
"\n",
"//Calculations\n",
"lCd=(l)*((ZMo-1)^2/(ZCd-1)^2)//Wavelength of Cadmium radiation in angstroms\n",
"\n",
"//Output\n",
"printf('The wavelength of cadmium radiation is %3.4f angstroms',lCd)"
   ]
   }
,
{
		   "cell_type": "markdown",
		   "metadata": {},
		   "source": [
			"## Example 11.6: Compton_Shift.sce"
		   ]
		  },
  {
"cell_type": "code",
	   "execution_count": null,
	   "metadata": {
	    "collapsed": true
	   },
	   "outputs": [],
"source": [
"clc\n",
"clear\n",
"//Input data\n",
"q=60//Angle of scattering in degrees\n",
"l=1.24//Wavelength of X-rays in angstroms\n",
"m=9.1*10^-31//Mass of the electron in kg\n",
"h=6.625*10^-34//Plancks constant in J.s\n",
"c=(3*10^8)//Velocity of light in m/s\n",
"\n",
"//Calculations\n",
"dl=((h*(1-cosd(q)))/(m*c))/10^-10//The Compton angle in degrees\n",
"\n",
"//Output\n",
"printf('The Compton shift is %3.3f angstroms',dl)"
   ]
   }
,
{
		   "cell_type": "markdown",
		   "metadata": {},
		   "source": [
			"## Example 11.7: wavelength_and_energy.sce"
		   ]
		  },
  {
"cell_type": "code",
	   "execution_count": null,
	   "metadata": {
	    "collapsed": true
	   },
	   "outputs": [],
"source": [
"clc\n",
"clear\n",
"//Input data\n",
"l=0.112*10^-9//Wavelength of X-rays in m\n",
"q=90//Angle of scattering in degrees\n",
"m=9.1*10^-31//Mass of the electron in kg\n",
"h=6.625*10^-34//Plancks constant in J.s\n",
"c=(3*10^8)//Velocity of light in m/s\n",
"\n",
"//Calculations\n",
"dl=((h*(1-cosd(q)))/(m*c))/10^-10//The Compton angle in degrees\n",
"l1=(dl+(l/10^-10))//Wavelength of the X-rays scattered at an agle of 90 degrees in angstroms\n",
"dE=((h*c*((1/l)-(1/(l1*10^-10)))))/10^-17//The energy of the recoiling electron in J*10^-17\n",
"\n",
"//Output\n",
"printf('(a) Wavelength of the X-rays scattered at an agle of 90 degrees with respect to the original direction is %3.3f angstroms \n (b) The energy of the scattering electron after the collision is %3.2f*10^-17 J',l1,dE)"
   ]
   }
],
"metadata": {
		  "kernelspec": {
		   "display_name": "Scilab",
		   "language": "scilab",
		   "name": "scilab"
		  },
		  "language_info": {
		   "file_extension": ".sce",
		   "help_links": [
			{
			 "text": "MetaKernel Magics",
			 "url": "https://github.com/calysto/metakernel/blob/master/metakernel/magics/README.md"
			}
		   ],
		   "mimetype": "text/x-octave",
		   "name": "scilab",
		   "version": "0.7.1"
		  }
		 },
		 "nbformat": 4,
		 "nbformat_minor": 0
}
