{
"cells": [
 {
		   "cell_type": "markdown",
	   "metadata": {},
	   "source": [
       "# Chapter 10: Nuclear Physics"
	   ]
	},
{
		   "cell_type": "markdown",
		   "metadata": {},
		   "source": [
			"## Example 10.1: Energy_released.sce"
		   ]
		  },
  {
"cell_type": "code",
	   "execution_count": null,
	   "metadata": {
	    "collapsed": true
	   },
	   "outputs": [],
"source": [
"clc\n",
"clear\n",
"//Input data\n",
"mU235=235.044//Mass of U235 in a.m.u\n",
"mXe135=134.907//Mass of Xe135 in a.m.u\n",
"mMo98=97.906//Mass of Mo98 in a.m.u\n",
"mn=1.008665//Mass of neutron in a.m.u\n",
"\n",
"//Calculations\n",
"LHS=mU235+mn//The total mass of the reactants in a.m.u\n",
"RHS=mMo98+mXe135+3*mn//The total mass of the products in a.m.u\n",
"md=LHS-RHS//Mass defect in a.m.u\n",
"E=(md*934.18)//Energy released in MeV\n",
"\n",
"//Output\n",
"printf('The energy released in the nuclear fission reaction is %3i MeV',E)"
   ]
   }
,
{
		   "cell_type": "markdown",
		   "metadata": {},
		   "source": [
			"## Example 10.2: Energy_released.sce"
		   ]
		  },
  {
"cell_type": "code",
	   "execution_count": null,
	   "metadata": {
	    "collapsed": true
	   },
	   "outputs": [],
"source": [
"clc\n",
"clear\n",
"//Input data\n",
"E=200//Energy released in the fission of U235 in MeV\n",
"e=1.6*10^-19//Charge of electron in Coulumb\n",
"A=6.023*10^23//Avagadros number \n",
"a=235//U235\n",
"\n",
"//Calculations\n",
"x=(A/a)//Number of atoms in 1 gram of U235\n",
"E=((x*E*e*10^6)/(3.6*10^6))/10^4//Energy released by 1 gm of U235 in kWh\n",
"\n",
"//Output\n",
"printf('Energy released by 1 gm of U235 is %3.2f*10^4 kWh',E)"
   ]
   }
,
{
		   "cell_type": "markdown",
		   "metadata": {},
		   "source": [
			"## Example 10.3: Number_of_nuclei.sce"
		   ]
		  },
  {
"cell_type": "code",
	   "execution_count": null,
	   "metadata": {
	    "collapsed": true
	   },
	   "outputs": [],
"source": [
"clc\n",
"clear\n",
"//Input data\n",
"Ef=200//Energy released per fission in MeV\n",
"Er=32*10^6//Energy produced by the reactor in W\n",
"e=1.6*10^-19//Charge of electron in Coulumb\n",
"\n",
"//Calculations\n",
"n=(Er/(Ef*10^6*e))/10^18//Number of U235 nuclei needed to produce an energy of 32*10^6 J/s *10^18\n",
"\n",
"//Output\n",
"printf('%3.0f*10^18 U235 nuclei are needed to produce an energy of 32*10^6 J/s',n)"
   ]
   }
,
{
		   "cell_type": "markdown",
		   "metadata": {},
		   "source": [
			"## Example 10.4: Reactor_consumption.sce"
		   ]
		  },
  {
"cell_type": "code",
	   "execution_count": null,
	   "metadata": {
	    "collapsed": true
	   },
	   "outputs": [],
"source": [
"clc\n",
"clear\n",
"//Input data\n",
"E=100*10^3//Energy produced by the reactor in W\n",
"e=1.6*10^-19//Charge of electron in Coulumb\n",
"A=6.023*10^23//Avagadros number \n",
"a=235//U235\n",
"\n",
"//Calculations\n",
"Er=200//Let the energy released per fission be 200 MeV,\n",
"n=(E/(Er*10^6*e))//The number of U235 nuclei needed to produce 100kW of energy\n",
"m=((a*n)/(A*1000))/10^-9//Mass of 'n' atoms of U235\n",
"\n",
"//Output\n",
"printf('The reactor consumes %3.5f*10^-9 kg of U235 in one second',m)"
   ]
   }
,
{
		   "cell_type": "markdown",
		   "metadata": {},
		   "source": [
			"## Example 10.5: Amount_of_fuel.sce"
		   ]
		  },
  {
"cell_type": "code",
	   "execution_count": null,
	   "metadata": {
	    "collapsed": true
	   },
	   "outputs": [],
"source": [
"clc\n",
"clear\n",
"//Input data\n",
"n=30//Efficiency of the reactor in percent\n",
"Ef=200//Energy released per fission in MeV\n",
"E=200//Energy needed to the city in MW\n",
"e=1.6*10^-19//Charge of electron in Coulumb\n",
"A=6.023*10^23//Avagadros number \n",
"a=235//U235\n",
"\n",
"//Calculations\n",
"E1=E*10^6//Energy required to the city in J/s\n",
"E2=E1*24*60*60//Energy required to the city for one day in J\n",
"I=(E2/n)*100//Useful input in J\n",
"Ef2=(Ef*10^6*e)//Energy released per fission in J\n",
"n=(I/Ef2)//Number of nucei required to produce 'I' J of energy \n",
"m=((a*n)/(A*1000))//Mass of 'n' atoms of U235 in kg\n",
"\n",
"//Output\n",
"printf('The amount of fuel required for one day operation of he reactor is %3.4f kg',m)"
   ]
   }
,
{
		   "cell_type": "markdown",
		   "metadata": {},
		   "source": [
			"## Example 10.6: Reactor_consumption.sce"
		   ]
		  },
  {
"cell_type": "code",
	   "execution_count": null,
	   "metadata": {
	    "collapsed": true
	   },
	   "outputs": [],
"source": [
"clc\n",
"clear\n",
"//Input data\n",
"mH=2.01478//Mass of Hydrogen (1H2) in a.m.u\n",
"mHe=4.00388//Mass of Helium (He4) in a.m.u\n",
"n=20//Efficiency in percent\n",
"O=10000//Output of the reactor in kW\n",
"e=1.6*10^-19//Charge of electron in Coulumb\n",
"A=6.023*10^23//Avagadros number \n",
"\n",
"//Calculations\n",
"md=(2*mH-mHe)//Mass defect in a.m.u\n",
"E=(md*931.48)//Energy released in MeV\n",
"O1=(O*1000)//Output of the reactor in J/s\n",
"E1=(O1*24*60*60)//Energy released by the reactor in one day in J\n",
"I=(E1/n)*100//Useful input in J\n",
"N=(I*2/(E*10^6*e))//Number of deuterons required to release an energy of 'I' J\n",
"m=((2*N)/A)//Mass of 'N' atoms of 1H2 in gm\n",
"\n",
"//Output\n",
"printf('The reactor consumes %3.3f*10^-3 kg of deuteron in one day',m)\n",
""
   ]
   }
,
{
		   "cell_type": "markdown",
		   "metadata": {},
		   "source": [
			"## Example 10.7: Total_energy_released.sce"
		   ]
		  },
  {
"cell_type": "code",
	   "execution_count": null,
	   "metadata": {
	    "collapsed": true
	   },
	   "outputs": [],
"source": [
"clc\n",
"clear\n",
"//Input data\n",
"mH1=1.007825//Mass of 1H1 in a.m.u\n",
"mH2=2.014102//Mass of 1H2 in a.m.u\n",
"mHe3=3.01603//Mass of 2He3 in a.m.u\n",
"mHe4=4.002603//Mass of 2He4 in a.m.u\n",
"\n",
"//Calculations\n",
"//For Eq.(i)\n",
"md1=(2*mH1)-mH2//Mass defect in a.m.u. Mass defect in the textbook is wrong since 2*1.007825 is taken as 2.014650 instead of 2.015650\n",
"E1=md1*931.48//Energy released in MeV\n",
"\n",
"//For Eq.(ii)\n",
"md2=(mH1+mH2)-mHe3//Mass defect in a.m.u\n",
"E2=md2*931.48//Energy released in MeV\n",
"\n",
"//For Eq.(iii)\n",
"md3=(2*mHe3-mHe4-2*mH1)//Mass defect in a.m.u. Mass defect in the textbook is wrong since 2*1.007825 is taken as 2.014650 instead of 2.015650\n",
"E3=md3*931.48//Energy released in MeV\n",
"\n",
"E=(E1+E2+E3)//Total energy released in the above reactions in MeV\n",
"\n",
"//Output\n",
"printf('Total energy released in the above reactions is %3.4f MeV',E)"
   ]
   }
],
"metadata": {
		  "kernelspec": {
		   "display_name": "Scilab",
		   "language": "scilab",
		   "name": "scilab"
		  },
		  "language_info": {
		   "file_extension": ".sce",
		   "help_links": [
			{
			 "text": "MetaKernel Magics",
			 "url": "https://github.com/calysto/metakernel/blob/master/metakernel/magics/README.md"
			}
		   ],
		   "mimetype": "text/x-octave",
		   "name": "scilab",
		   "version": "0.7.1"
		  }
		 },
		 "nbformat": 4,
		 "nbformat_minor": 0
}
