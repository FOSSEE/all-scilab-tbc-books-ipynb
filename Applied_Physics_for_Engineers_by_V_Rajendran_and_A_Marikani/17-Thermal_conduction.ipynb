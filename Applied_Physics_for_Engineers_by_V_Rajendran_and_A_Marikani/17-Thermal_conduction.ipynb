{
"cells": [
 {
		   "cell_type": "markdown",
	   "metadata": {},
	   "source": [
       "# Chapter 17: Thermal conduction"
	   ]
	},
{
		   "cell_type": "markdown",
		   "metadata": {},
		   "source": [
			"## Example 17.1: Thermal_conductivity.sce"
		   ]
		  },
  {
"cell_type": "code",
	   "execution_count": null,
	   "metadata": {
	    "collapsed": true
	   },
	   "outputs": [],
"source": [
"clc\n",
"clear\n",
"//Input data\n",
"m=0.8//Mass of the slab in kg\n",
"l=(9.648*10^-3)//Thickness of slab in m\n",
"d=(1.464*10^-3)//Thickness of the cardboard in m\n",
"r=(5.752*10^-2)//Radius of the slab in m\n",
"S=385//Specific heat of slab in J/kg.K\n",
"T2=363.5//Steady temperature of the slab in K\n",
"T1=372//Steady temperature of the steam chamber in K\n",
"dTt=(10/300)//Rate of cooling in K/s\n",
"\n",
"//Calculations\n",
"K=(m*S*dTt*((r+2*l)/(2*r+2*l)))*(d/(3.14*r^2))*(1/(T1-T2))//Thermal conductivity of the cardboard in W/m.K\n",
"\n",
"//Output\n",
"printf('Thermal conductivity of the cardboard is %3.4f W/m.K',K)"
   ]
   }
,
{
		   "cell_type": "markdown",
		   "metadata": {},
		   "source": [
			"## Example 17.2: Thermal_conductivity.sce"
		   ]
		  },
  {
"cell_type": "code",
	   "execution_count": null,
	   "metadata": {
	    "collapsed": true
	   },
	   "outputs": [],
"source": [
"clc\n",
"clear\n",
"//Input data\n",
"L2=0.032//Length of the wax melted portion in the iron rod in m\n",
"L1=0.08//Length of the wax melted portion in the copper rod in m\n",
"K1=385//Thermal conductivity of copper in W/m.K\n",
"\n",
"//Calculations\n",
"K2=(K1*L2^2)/L1^2//Thermal conductivity of iron in W/m.K\n",
"\n",
"//Output\n",
"printf('Thermal conductivity of iron is %3.1f W/m.K',K2)"
   ]
   }
,
{
		   "cell_type": "markdown",
		   "metadata": {},
		   "source": [
			"## Example 17.3: Energy.sce"
		   ]
		  },
  {
"cell_type": "code",
	   "execution_count": null,
	   "metadata": {
	    "collapsed": true
	   },
	   "outputs": [],
"source": [
"clc\n",
"clear\n",
"//Input data\n",
"d=0.2//Length of iron rod in m\n",
"A=0.685*10^-4//Area of cross-section in m^2\n",
"T1=100+273//Temperature of the hot end in K\n",
"T2=30+273//Temperature of the other end in K\n",
"K=62//Thermal conductivity of iron in W/m.K\n",
"t=10*60//Time in sec\n",
"\n",
"//Calculations\n",
"Q=(K*A*(T1-T2)*t)/d//Quantity of heat conducted in J\n",
"\n",
"//Output\n",
"printf('The iron rod conducts %3.2f J of energy in 10 minutes',Q)"
   ]
   }
,
{
		   "cell_type": "markdown",
		   "metadata": {},
		   "source": [
			"## Example 17.4: Thermal_conductivity.sce"
		   ]
		  },
  {
"cell_type": "code",
	   "execution_count": null,
	   "metadata": {
	    "collapsed": true
	   },
	   "outputs": [],
"source": [
"clc\n",
"clear\n",
"//Input data\n",
"m=1//Mass of water collected in kg\n",
"r=0.02//Radius of bar in m\n",
"d=0.05//Distance between the thermometers in m\n",
"T1=80+273//Temperature of the thermometer 1 in K\n",
"T2=70+273//Temperature of the thermometer 2 in K\n",
"T3=30+273//Temperature of water at the inlet in K\n",
"T4=40+273//Temperature of water at the outlet in K\n",
"t=(7*60)//Time of flow in s\n",
"S=4190//Specific heat of water in J/kg.K\n",
"\n",
"//Calculations\n",
"K=(m*d*(T4-T3)*S)/(3.14*r^2*t*(T1-T2))//Thermal conductivity of the metal in W/m.K\n",
"\n",
"//Output\n",
"printf('Thermal conductivity of the metal is %3.2f W/m.K',K)"
   ]
   }
,
{
		   "cell_type": "markdown",
		   "metadata": {},
		   "source": [
			"## Example 17.5: Time_take.sce"
		   ]
		  },
  {
"cell_type": "code",
	   "execution_count": null,
	   "metadata": {
	    "collapsed": true
	   },
	   "outputs": [],
"source": [
"clc\n",
"clear\n",
"//Input data\n",
"x=6//Thickness of the ice layer in cm\n",
"x1=(x+0.2)//Increase in thickness in cm\n",
"K=2.1//Thermal conductivity of ice in W/m.K\n",
"L=3.36*10^5//Latent heat of ice in J/kg\n",
"d=910//Density of ice at 0 degree C in kg/m^3\n",
"T=-(273-((20+273)))//Change of temperature in K\n",
"\n",
"//Calculations\n",
"t=(d*L*(x1^2-x^2)*10^-4)/(2*K*T)//Time taken by ice to increase its thickness in sec\n",
"\n",
"//Output\n",
"printf('Time taken by ice to increase its thickness from %i cm to %3.1f cm is %3.2f sec',x,x1,t)"
   ]
   }
,
{
		   "cell_type": "markdown",
		   "metadata": {},
		   "source": [
			"## Example 17.6: Temperature_at_interface.sce"
		   ]
		  },
  {
"cell_type": "code",
	   "execution_count": null,
	   "metadata": {
	    "collapsed": true
	   },
	   "outputs": [],
"source": [
"clc\n",
"clear\n",
"//Input data\n",
"d1=0.04//Thickness of first layer in m\n",
"d2=0.02//Thickness of second layer in m\n",
"K1=226.8//Thermal conductivity of the first layer in W/m.K\n",
"K2=151.2//Thermal conductivity of the second layer in W/m.K\n",
"T1=100+273//Temperature of first layer in K\n",
"T2=0+273//Temperature of second layer in K\n",
"\n",
"//Calculations\n",
"T=((((K1*T1)/d1)-((K2*T2)/d2))/((K1/d1)+(K2/d2)))//The temperature at the interface in K. The formula and calculation is made wrong in the textbook.\n",
"\n",
"//Output\n",
"printf('The temperature at the interface is %3.3f K',T)"
   ]
   }
,
{
		   "cell_type": "markdown",
		   "metadata": {},
		   "source": [
			"## Example 17.7: Thermal_gradient.sce"
		   ]
		  },
  {
"cell_type": "code",
	   "execution_count": null,
	   "metadata": {
	    "collapsed": true
	   },
	   "outputs": [],
"source": [
"clc\n",
"clear\n",
"//Input data\n",
"K1=0.168//Thermal conductivity of the briks in W/m.K\n",
"K2=0.042//Thermal conductivity of cork in W/m.K\n",
"d1=0.08//Thickness of the brick in m\n",
"d2=0.04//Thickness of the cork in m\n",
"T1=20+273//Outer temperature in K\n",
"T2=10+273//Inner temperature in K\n",
"\n",
"//Calculations\n",
"T=((d2*K1*T1+d1*T2*K2)/(d1*K2+d2*K1))//The temperature of the interface in K\n",
"dT=(T1-T)//Difference in temperature in the bricks in K\n",
"tg=(dT/d1)//Temperature gradient in the bricks in K/m\n",
"tc=(T-T2)/d2//Temperature gradient in the cork in K/m\n",
"\n",
"//Output\n",
"printf('Temperature gradient in the bricks is %3.2f K/m \n Temperature gradient in the cork is %3.2f K/m',tg,tc)"
   ]
   }
],
"metadata": {
		  "kernelspec": {
		   "display_name": "Scilab",
		   "language": "scilab",
		   "name": "scilab"
		  },
		  "language_info": {
		   "file_extension": ".sce",
		   "help_links": [
			{
			 "text": "MetaKernel Magics",
			 "url": "https://github.com/calysto/metakernel/blob/master/metakernel/magics/README.md"
			}
		   ],
		   "mimetype": "text/x-octave",
		   "name": "scilab",
		   "version": "0.7.1"
		  }
		 },
		 "nbformat": 4,
		 "nbformat_minor": 0
}
