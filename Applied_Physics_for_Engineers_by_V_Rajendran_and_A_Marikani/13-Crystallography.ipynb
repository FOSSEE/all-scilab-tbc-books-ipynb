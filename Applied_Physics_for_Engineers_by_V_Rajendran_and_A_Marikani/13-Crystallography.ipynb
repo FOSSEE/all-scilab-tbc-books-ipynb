{
"cells": [
 {
		   "cell_type": "markdown",
	   "metadata": {},
	   "source": [
       "# Chapter 13: Crystallography"
	   ]
	},
{
		   "cell_type": "markdown",
		   "metadata": {},
		   "source": [
			"## Example 13.2: Lattice_constant.sce"
		   ]
		  },
  {
"cell_type": "code",
	   "execution_count": null,
	   "metadata": {
	    "collapsed": true
	   },
	   "outputs": [],
"source": [
"clc\n",
"clear\n",
"//Input data\n",
"d=9.6*10^2//Density of sodium in kg/m^3\n",
"a=23//Atomic weight of sodium \n",
"n=2//Number of atoms present in one unit cell in bcc crystal\n",
"x=6.023*10^26//Avagadro constant per kg mole\n",
"\n",
"//Calculations\n",
"m=(n*a)/x//Mass of one unit cell in kg\n",
"a1=(m/d)^(1/3)/10^-10//Lattice constant of sodium angstroms\n",
"\n",
"//Output\n",
"printf('The lattice constant for sodium crystal is %3.1f angstroms',a1)"
   ]
   }
,
{
		   "cell_type": "markdown",
		   "metadata": {},
		   "source": [
			"## Example 13.3: Avagadro_Constant.sce"
		   ]
		  },
  {
"cell_type": "code",
	   "execution_count": null,
	   "metadata": {
	    "collapsed": true
	   },
	   "outputs": [],
"source": [
"clc\n",
"clear\n",
"//Input data\n",
"d=4*10^3//Density of CsCl in kg/m^3\n",
"a1=132.9//Atomic weight of Cs\n",
"a2=35.5//Atomic weight of Cl\n",
"a=(4.12*10^-10)//Lattice constant in m\n",
"\n",
"//Calculations\n",
"m=(d*a^3)//Mass of the CsCl unit cell in kg\n",
"N=((a1+a2)/m)/10^26//Avagadro number in 10^26 per kg mole\n",
"\n",
"//Output\n",
"printf('The value of the Avagadro constant is %3.4f*10^26 per kg mole',N)"
   ]
   }
,
{
		   "cell_type": "markdown",
		   "metadata": {},
		   "source": [
			"## Example 13.5: Miller_Indices.sce"
		   ]
		  },
  {
"cell_type": "code",
	   "execution_count": null,
	   "metadata": {
	    "collapsed": true
	   },
	   "outputs": [],
"source": [
"clc\n",
"clear\n",
"//Input data\n",
"x=2//Lattice plane cut intercepts of length 2a\n",
"y=3//Lattice plane cut intercepts of length 3b\n",
"z=4//Lattice plane cut intercepts of length 4c\n",
"\n",
"//Calculations\n",
"x1=1/x//Inverse of coefficients\n",
"y1=1/y//Inverse of coefficients\n",
"z1=1/z//Inverse of coefficients\n",
"LCM=12//L.C.M of x,y,z\n",
"x2=(x1*LCM)//Multiplying the fractions by LCM\n",
"y2=(y1*LCM)//Multiplying the fractions by LCM\n",
"z2=(z1*LCM)//Multiplying the fractions by LCM\n",
"\n",
"//Output\n",
"printf('The miller indices of the plane is (%i %i %i)',x2,y2,z2)"
   ]
   }
,
{
		   "cell_type": "markdown",
		   "metadata": {},
		   "source": [
			"## Example 13.6: Length_of_intercepts.sce"
		   ]
		  },
  {
"cell_type": "code",
	   "execution_count": null,
	   "metadata": {
	    "collapsed": true
	   },
	   "outputs": [],
"source": [
"clc\n",
"clear\n",
"//Input data\n",
"p=[1.2,1.8,2]//Primitives of the crystal in angstroms\n",
"m=[2,3,1]//Miller indices of the plane\n",
"x=1.2//Intercept made by the plane along the X-axis\n",
"\n",
"//Calculations\n",
"mx1=1/m(1)//Inverse of the miller indices\n",
"mx2=1/m(2)//Inverse of the miller indices\n",
"mx3=1/m(3)//Inverse of the miller indices\n",
"my1=mx1*6//Multiplying with the L.C.M\n",
"my2=mx2*6//Multiplying with the L.C.M\n",
"my3=mx3*6//Multiplying with the L.C.M\n",
"x1=my1*p(1)//Multiplying with the primitives of the crystal\n",
"x2=my2*p(2)//Multiplying with the primitives of the crystal\n",
"x3=my3*p(3)//Multiplying with the primitives of the crystal\n",
"l2=(x*x2)/x1//Length of intercept along Y axis\n",
"l3=(x*x3)/x1//Length of intercept along Z axis\n",
"\n",
"//Output\n",
"printf('The length of the intercepts made by the plane along Y and Z axes are %3.1f angstroms and %i angstroms',l2,l3)\n",
""
   ]
   }
,
{
		   "cell_type": "markdown",
		   "metadata": {},
		   "source": [
			"## Example 13.7: intercepts.sce"
		   ]
		  },
  {
"cell_type": "code",
	   "execution_count": null,
	   "metadata": {
	    "collapsed": true
	   },
	   "outputs": [],
"source": [
"clc\n",
"clear\n",
"//Input data\n",
"m=[1,1,0]//Miller indices of the plane\n",
"\n",
"//Calculations\n",
"x=1/m(1)//Inverse of the miller indices\n",
"y=1/m(2)//Inverse of the miller indices\n",
"z=%inf//Inverse of the miller indices, since 1/0 is infinity\n",
"\n",
"//Output\n",
"disp('The intercepts made by the given plane along the Z axis is infinity. It means that the plane is parallel to the Z axis')"
   ]
   }
,
{
		   "cell_type": "markdown",
		   "metadata": {},
		   "source": [
			"## Example 13.8: Lattice_spacing.sce"
		   ]
		  },
  {
"cell_type": "code",
	   "execution_count": null,
	   "metadata": {
	    "collapsed": true
	   },
	   "outputs": [],
"source": [
"clc\n",
"clear\n",
"//Input data\n",
"a=4.12*10^-10//Lattice constant in m\n",
"p1=[1,1,1]//Miller indices of the plane 1\n",
"p2=[1,1,2]//Miller indices of the plane 2\n",
"p3=[1,2,3]//Miller indices of the plane 3\n",
"\n",
"//Calculations\n",
"d11=(a/sqrt(p1(1)^2+p1(2)^2+p1(3)^2))/10^-10//The lattice spacing for the plane in m*10^-10\n",
"d12=(a/sqrt(p2(1)^2+p2(2)^2+p2(3)^2))/10^-10//The lattice spacing for the plane in m*10^-10\n",
"d13=(a/sqrt(p3(1)^2+p3(2)^2+p3(3)^2))/10^-10//The lattice spacing for the plane in m*10^-10\n",
"\n",
"//Output\n",
"printf('The lattice spacing for the planes (%i %i %i) is %3.4f*10^-10 m \n The lattice spacing for the planes (%i %i %i) is %3.4f*10^-10 m \n The lattice spacing for the planes (%i %i %i) is %3.4f*10^-10 m',p1(1),p1(2),p1(3),d11,p2(1),p2(2),p2(3),d12,p3(1),p3(2),p3(3),d13)"
   ]
   }
,
{
		   "cell_type": "markdown",
		   "metadata": {},
		   "source": [
			"## Example 13.9: Seperation_between_planes.sce"
		   ]
		  },
  {
"cell_type": "code",
	   "execution_count": null,
	   "metadata": {
	    "collapsed": true
	   },
	   "outputs": [],
"source": [
"clc\n",
"clear\n",
"p1=[1,0,0]//Miller indices of the plane 1\n",
"p2=[1,1,0]//Miller indices of the plane 2\n",
"p3=[1,1,1]//Miller indices of the plane 3\n",
"\n",
"d11=(1/sqrt(p1(1)^2+p1(2)^2+p1(3)^2))//The lattice spacing for the plane in m* a\n",
"d12=(1/sqrt(p2(1)^2+p2(2)^2+p2(3)^2))//The lattice spacing for the plane in m* a\n",
"d13=(1/sqrt(p3(1)^2+p3(2)^2+p3(3)^2))//The lattice spacing for the plane in m* a\n",
"\n",
"//Output\n",
"printf('The seperation between the successive plane (%i %i %i), (%i %i %i) and (%i %i %i) are in the ratio of %3.0f : %3.2f : %3.2f',p1(1),p1(2),p1(3),p2(1),p2(2),p2(3),p3(1),p3(2),p3(3),d11,d12,d13)"
   ]
   }
],
"metadata": {
		  "kernelspec": {
		   "display_name": "Scilab",
		   "language": "scilab",
		   "name": "scilab"
		  },
		  "language_info": {
		   "file_extension": ".sce",
		   "help_links": [
			{
			 "text": "MetaKernel Magics",
			 "url": "https://github.com/calysto/metakernel/blob/master/metakernel/magics/README.md"
			}
		   ],
		   "mimetype": "text/x-octave",
		   "name": "scilab",
		   "version": "0.7.1"
		  }
		 },
		 "nbformat": 4,
		 "nbformat_minor": 0
}
