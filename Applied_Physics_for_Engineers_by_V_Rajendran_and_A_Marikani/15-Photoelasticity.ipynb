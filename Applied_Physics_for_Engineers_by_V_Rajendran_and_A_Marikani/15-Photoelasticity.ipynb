{
"cells": [
 {
		   "cell_type": "markdown",
	   "metadata": {},
	   "source": [
       "# Chapter 15: Photoelasticity"
	   ]
	},
{
		   "cell_type": "markdown",
		   "metadata": {},
		   "source": [
			"## Example 15.1: Difference_between_refractive_indices.sce"
		   ]
		  },
  {
"cell_type": "code",
	   "execution_count": null,
	   "metadata": {
	    "collapsed": true
	   },
	   "outputs": [],
"source": [
"clc\n",
"clear\n",
"//Input data\n",
"d=10*10^8//Difference between the principal stress in N/m^2\n",
"c=(1*10^-12)//Stress-optic coefficient in m^2/N\n",
"\n",
"//Calculations\n",
"N=(c*d)//Difference between the refractive indices\n",
"\n",
"//Output\n",
"printf('The difference between the refractive indices along the principal stresses is %3.3f',N)"
   ]
   }
,
{
		   "cell_type": "markdown",
		   "metadata": {},
		   "source": [
			"## Example 15.2: Maximum_shearing_stress.sce"
		   ]
		  },
  {
"cell_type": "code",
	   "execution_count": null,
	   "metadata": {
	    "collapsed": true
	   },
	   "outputs": [],
"source": [
"clc\n",
"clear\n",
"//Input data\n",
"s1=(405*10^6)//Principal stress in N/m^2\n",
"s2=(-105*10^6)//Principal stress in N/m^2\n",
"\n",
"//Calculations\n",
"tmax=((s1-s2)/2)/10^6//Maximum shearing stress in N/m^2 *10^6\n",
"\n",
"//Output\n",
"printf('The maximum shearing stress is %3.0f*10^6 N/m^2',tmax)"
   ]
   }
],
"metadata": {
		  "kernelspec": {
		   "display_name": "Scilab",
		   "language": "scilab",
		   "name": "scilab"
		  },
		  "language_info": {
		   "file_extension": ".sce",
		   "help_links": [
			{
			 "text": "MetaKernel Magics",
			 "url": "https://github.com/calysto/metakernel/blob/master/metakernel/magics/README.md"
			}
		   ],
		   "mimetype": "text/x-octave",
		   "name": "scilab",
		   "version": "0.7.1"
		  }
		 },
		 "nbformat": 4,
		 "nbformat_minor": 0
}
