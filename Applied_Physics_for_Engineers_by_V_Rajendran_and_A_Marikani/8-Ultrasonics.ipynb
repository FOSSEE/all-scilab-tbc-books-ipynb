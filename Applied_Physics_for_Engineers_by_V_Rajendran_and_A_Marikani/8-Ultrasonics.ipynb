{
"cells": [
 {
		   "cell_type": "markdown",
	   "metadata": {},
	   "source": [
       "# Chapter 8: Ultrasonics"
	   ]
	},
{
		   "cell_type": "markdown",
		   "metadata": {},
		   "source": [
			"## Example 8.1: Fundamental_frequency.sce"
		   ]
		  },
  {
"cell_type": "code",
	   "execution_count": null,
	   "metadata": {
	    "collapsed": true
	   },
	   "outputs": [],
"source": [
"clc\n",
"clear\n",
"t=(1*10^-3)//Thickness of the crystal in m\n",
"d=2650//Density of quartz in kg/m^3\n",
"Y=(7.9*10^10)//Youngs modulus of quartz in N/m^2\n",
"\n",
"//Calculations\n",
"f=((1/(2*t))*sqrt(Y/d))/10^6//Fundamental frequency of the quartz crystal in Hz *10^6\n",
"\n",
"//Output\n",
"printf('Fundamental frequency of the quartz crystal is %3.3f *10^6 Hz',f)"
   ]
   }
,
{
		   "cell_type": "markdown",
		   "metadata": {},
		   "source": [
			"## Example 8.2: Fundamental_frequency.sce"
		   ]
		  },
  {
"cell_type": "code",
	   "execution_count": null,
	   "metadata": {
	    "collapsed": true
	   },
	   "outputs": [],
"source": [
"clc\n",
"clear\n",
"//Input data\n",
"t=0.005//Length of the crystal in m\n",
"Y=(7.9*10^10)//Youngs modulus in N/m^2\n",
"d=2650//Density in kgm^3\n",
"\n",
"//Calculations\n",
"f1=((1/(2*t))*sqrt(Y/d))/10^5//Fundamental vibration in Hz *10^5\n",
"f2=2*f1/10//Frequency of first overcome in Hz *10^6 \n",
"\n",
"//Output\n",
"printf('The frequency of the fundamental note is %3.2f *10^5 Hz \n The first overtone emitted by a piezoelectric crystal is %3.3f *10^6 Hz',f1,f2)"
   ]
   }
,
{
		   "cell_type": "markdown",
		   "metadata": {},
		   "source": [
			"## Example 8.3: Thickness.sce"
		   ]
		  },
  {
"cell_type": "code",
	   "execution_count": null,
	   "metadata": {
	    "collapsed": true
	   },
	   "outputs": [],
"source": [
"clc\n",
"clear\n",
"//Input data\n",
"v=5000//Velocity of sound in steel in m/s\n",
"f=(50*10^3)//Difference between two adjacent frequencies in Hz\n",
"\n",
"//Calculations\n",
"d=(v/(2*f))//Thickness of the plate in m\n",
"\n",
"//Output\n",
"printf('The thickness of the steel plate is %3.2f m',d)"
   ]
   }
,
{
		   "cell_type": "markdown",
		   "metadata": {},
		   "source": [
			"## Example 8.4: Youngs_Modulus.sce"
		   ]
		  },
  {
"cell_type": "code",
	   "execution_count": null,
	   "metadata": {
	    "collapsed": true
	   },
	   "outputs": [],
"source": [
"clc\n",
"clear\n",
"//Input data\n",
"//f=(2.87*10^3)/t The fundamental frequency in terms of thickness\n",
"x=(2.87*10^3)//x value from function\n",
"d=2660//Density in kg/m^3\n",
"f=1200//Frequency of vibration in kHz\n",
"\n",
"//Calculations\n",
"Y=(2*2*x^2*d)/10^10//Youngs modulus in N/m^2*10^10\n",
"t=((1/(2*f*1000))*sqrt((Y*10^10)/d))/10^-3//Thickness in m*10^-3\n",
"\n",
"//Output\n",
"printf('Youngs modulus of the quartz crystal is %3.2f *10^10 N/m^2 \n The thickness of the crystal is %3.2f *10^-3 m',Y,t) "
   ]
   }
],
"metadata": {
		  "kernelspec": {
		   "display_name": "Scilab",
		   "language": "scilab",
		   "name": "scilab"
		  },
		  "language_info": {
		   "file_extension": ".sce",
		   "help_links": [
			{
			 "text": "MetaKernel Magics",
			 "url": "https://github.com/calysto/metakernel/blob/master/metakernel/magics/README.md"
			}
		   ],
		   "mimetype": "text/x-octave",
		   "name": "scilab",
		   "version": "0.7.1"
		  }
		 },
		 "nbformat": 4,
		 "nbformat_minor": 0
}
