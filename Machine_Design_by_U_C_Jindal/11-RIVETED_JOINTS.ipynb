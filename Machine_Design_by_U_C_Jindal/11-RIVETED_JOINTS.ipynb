{
"cells": [
 {
		   "cell_type": "markdown",
	   "metadata": {},
	   "source": [
       "# Chapter 11: RIVETED JOINTS"
	   ]
	},
{
		   "cell_type": "markdown",
		   "metadata": {},
		   "source": [
			"## Example 11.1: RJ1.sce"
		   ]
		  },
  {
"cell_type": "code",
	   "execution_count": null,
	   "metadata": {
	    "collapsed": true
	   },
	   "outputs": [],
"source": [
"// sum 11-1\n",
"clc;\n",
"clear;\n",
"t=20;\n",
"p=100;\n",
"d=25;\n",
"sigt=40;\n",
"P=(p-d)*t*sigt;\n",
"Ts=(4*P)/(%pi*d^2);\n",
"sigb=P/(d*t);\n",
"\n",
"  // printing data in scilab o/p window\n",
"  printf('P is %0.0f N     ',P);\n",
"  printf('\n Ts is %0.2f MPa     ',Ts);\n",
"  printf('\n sigb is %0.0f MPa     ',sigb);"
   ]
   }
,
{
		   "cell_type": "markdown",
		   "metadata": {},
		   "source": [
			"## Example 11.2: RJ2.sce"
		   ]
		  },
  {
"cell_type": "code",
	   "execution_count": null,
	   "metadata": {
	    "collapsed": true
	   },
	   "outputs": [],
"source": [
"// sum 11-2\n",
"clc;\n",
"clear;\n",
"t=22;\n",
"t1=5*t/8;\n",
"d=30;\n",
"p=100;\n",
"sigt=75;\n",
"P=(p-d)*t*sigt;\n",
"Ts=(2*P)/(%pi*d^2);\n",
"sigb=P/(d*t);\n",
"P=P*10^-3\n",
"  // printing data in scilab o/p window\n",
"  printf('P is %0.1f kN     ',P);\n",
"  printf('\n Ts is %0.1f MPa     ',Ts);\n",
"  printf('\n sigb is %0.0f N/mm^2     ',sigb);"
   ]
   }
,
{
		   "cell_type": "markdown",
		   "metadata": {},
		   "source": [
			"## Example 11.3: RJ3.sce"
		   ]
		  },
  {
"cell_type": "code",
	   "execution_count": null,
	   "metadata": {
	    "collapsed": true
	   },
	   "outputs": [],
"source": [
"//sum 11-3\n",
"clc;\n",
"clear;\n",
"t=15;\n",
"t1=5*t/8;\n",
"d=25;\n",
"n=2;\n",
"Ta=80;\n",
"sigta=100;\n",
"sigba=120;\n",
"Ps=n*1.875*%pi*d^2*Ta/4;\n",
"Pb=n*d*t*sigba;\n",
"p=Pb/(t*Ta)+d;\n",
"Pp=p*t*Ta;\n",
"n=Pb/Pp;\n",
"\n",
"\n",
"  // printing data in scilab o/p window\n",
"  printf('p is %0.0f mm     ',p);\n",
"  printf('\n n is %0.2f      ',n);\n",
" "
   ]
   }
,
{
		   "cell_type": "markdown",
		   "metadata": {},
		   "source": [
			"## Example 11.4: RJ4.sce"
		   ]
		  },
  {
"cell_type": "code",
	   "execution_count": null,
	   "metadata": {
	    "collapsed": true
	   },
	   "outputs": [],
"source": [
"// sum 11-4\n",
"clc;\n",
"clear;\n",
"b=200;\n",
"t=16;\n",
"d=6*sqrt(t);\n",
"sigta=80;\n",
"Ta=60;\n",
"sigba=100;\n",
"Pt=(b-d)*t*sigta;\n",
"Ps=1.875*%pi*d^2*Ta/4;\n",
"Pb=d*t*sigba;\n",
"n1=Pt/Pb;\n",
"n1=6;\n",
"Pt2=((b-(2*d))*t*sigta)+Pb;\n",
"Pt3=((b-(3*d))*t*sigta)+(3*Pb);\n",
"Pp=b*t*sigta;\n",
"n2=Pt/Pp;\n",
"n2=n2*100;\n",
"\n",
"  // printing data in scilab o/p window\n",
"  printf('d is %0.0f mm     ',d);\n",
"  printf('\n n1 is %0.0f      ',n1);\n",
"  printf('\n Pt is %0.0f N      ',Pt);\n",
"  printf('\n Pt2 is %0.0f N     ',Pt2);\n",
"  printf('\n Pt3 is %0.0f N     ',Pt3);\n",
"  printf('\n n2 is %0.0f      ',n2);\n",
"  \n",
"  //Answer to strength of rivet in bearing 'Pb' is calculated incorrectly in the book, hence Pt2,Pt3 is calculated subsequently incorrect."
   ]
   }
,
{
		   "cell_type": "markdown",
		   "metadata": {},
		   "source": [
			"## Example 11.5: RJ5.sce"
		   ]
		  },
  {
"cell_type": "code",
	   "execution_count": null,
	   "metadata": {
	    "collapsed": true
	   },
	   "outputs": [],
"source": [
"// sum 11-5\n",
"clc;\n",
"clear;\n",
"a=50;\n",
"b=75;\n",
"P=36*10^3;\n",
"d=24;\n",
"Ta=60;\n",
"n=9;\n",
"A=%pi*d^2/4;\n",
"Td=P/(n*A);\n",
"theta=atan(b/a);\n",
"Ts=54.64;\n",
"r2=90.184;\n",
"e=A*29575.7/P;\n",
"\n",
"  // printing data in scilab o/p window\n",
"  printf(' e is %0.1f mm     ',e);"
   ]
   }
,
{
		   "cell_type": "markdown",
		   "metadata": {},
		   "source": [
			"## Example 11.6: RJ6.sce"
		   ]
		  },
  {
"cell_type": "code",
	   "execution_count": null,
	   "metadata": {
	    "collapsed": true
	   },
	   "outputs": [],
"source": [
"// sum 11-6\n",
"clc;\n",
"clear;\n",
"P=12*10^3;\n",
"Tmax=100;\n",
"n=6;\n",
"e=50+50+(5/2);\n",
"T=P*e;\n",
"Td=P/n;\n",
"ra=125;\n",
"k=T/((2*125^2)+(2*75^2)+(2*25^2));\n",
"Tr=(k*ra)+Td;\n",
"A=Tr/Tmax;\n",
"d=sqrt(A*4/%pi);\n",
"d=12;\n",
"\n",
"  // printing data in scilab o/p window\n",
"  printf(' d is %0.0f mm     ',d);"
   ]
   }
,
{
		   "cell_type": "markdown",
		   "metadata": {},
		   "source": [
			"## Example 11.7: RJ7.sce"
		   ]
		  },
  {
"cell_type": "code",
	   "execution_count": null,
	   "metadata": {
	    "collapsed": true
	   },
	   "outputs": [],
"source": [
"// sum 11-7\n",
"clc;\n",
"clear;\n",
"t=15;\n",
"d=6*sqrt(t);\n",
"d=24;\n",
"sigta=75;\n",
"sigba=105;\n",
"Ta=60;\n",
"n=4;\n",
"Pt=n*%pi*d^2*Ta/4;\n",
"x=d*t*sigta;\n",
"y=2*t*sigta;\n",
"p=(Pt+x)/y;\n",
"p=60;\n",
"C=4.17;\n",
"pmax=(C*t)+41.28;\n",
"Pt1=(y*p)-x;\n",
"Ps=n*%pi*d^2*Ta/4;\n",
"Pb=n*d*t*sigba;\n",
"S=2*p*t*sigta;\n",
"n=Pt1/S;\n",
"n=n*100;\n",
"\n",
"  // printing data in scilab o/p window\n",
"  printf(' n is %0.0f      ',n);\n",
"  "
   ]
   }
,
{
		   "cell_type": "markdown",
		   "metadata": {},
		   "source": [
			"## Example 11.8: RJ8.sce"
		   ]
		  },
  {
"cell_type": "code",
	   "execution_count": null,
	   "metadata": {
	    "collapsed": true
	   },
	   "outputs": [],
"source": [
"// sum 11-8\n",
"clc;\n",
"clear;\n",
"D=1500;\n",
"p=2;\n",
"nt=0.75;\n",
"sigut=420;\n",
"FOS=5;\n",
"sigta=sigut/FOS;\n",
"t=p*D/(2*sigta*nt);\n",
"t=24;\n",
"d=6*sqrt(t);\n",
"d=30;\n",
"Ta=330/5;\n",
"sigba=640/5;\n",
"Ps=2*1.875*%pi*(d^2)*Ta/4;\n",
"p=(Ps/(t*sigta))+d;\n",
"p=117;\n",
"t1=5*t/8;\n",
"Pt=(p-d)*t*sigta;\n",
"Pp=p*t*sigta;\n",
"Pb=2*d*t*sigba;\n",
"n=Ps/Pb;\n",
"n=n*100;\n",
"\n",
"  // printing data in scilab o/p window\n",
"  printf(' n is %0.0f      ',n);"
   ]
   }
,
{
		   "cell_type": "markdown",
		   "metadata": {},
		   "source": [
			"## Example 11.9: RJ9.sce"
		   ]
		  },
  {
"cell_type": "code",
	   "execution_count": null,
	   "metadata": {
	    "collapsed": true
	   },
	   "outputs": [],
"source": [
"// sum 11-9\n",
"clc;\n",
"clear;\n",
"D=1200;\n",
"p=2.5;\n",
"sigba=110;\n",
"Pa=%pi*D^2*p/4;\n",
"nt=0.8;\n",
"sigta=80;\n",
"t=p*D/(2*sigta*nt);\n",
"t=24;\n",
"d=6*sqrt(t);\n",
"d=30;\n",
"Ta=55;\n",
"Ps=%pi*(d^2)*Ta/4;\n",
"Np=Pa/Ps;\n",
"Np=74;\n",
"nr=Np/2;\n",
"p=%pi*(D+t)/nr;\n",
"pb=2*d;\n",
"m=1.5*d;\n",
"Pt=(p-d)*t*sigta;\n",
"Ps=2*Ps;\n",
"Pb=2*d*t*sigba;\n",
"Pp=p*t*sigta;\n",
"n=Ps/Pp;\n",
"n=n*100;\n",
"\n",
"  // printing data in scilab o/p window\n",
"  printf(' n is %0.0f      ',n);"
   ]
   }
],
"metadata": {
		  "kernelspec": {
		   "display_name": "Scilab",
		   "language": "scilab",
		   "name": "scilab"
		  },
		  "language_info": {
		   "file_extension": ".sce",
		   "help_links": [
			{
			 "text": "MetaKernel Magics",
			 "url": "https://github.com/calysto/metakernel/blob/master/metakernel/magics/README.md"
			}
		   ],
		   "mimetype": "text/x-octave",
		   "name": "scilab",
		   "version": "0.7.1"
		  }
		 },
		 "nbformat": 4,
		 "nbformat_minor": 0
}
