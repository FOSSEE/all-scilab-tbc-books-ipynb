{
"cells": [
 {
		   "cell_type": "markdown",
	   "metadata": {},
	   "source": [
       "# Chapter 18: ROLLING BEARINGS"
	   ]
	},
{
		   "cell_type": "markdown",
		   "metadata": {},
		   "source": [
			"## Example 18.10: RB10.sce"
		   ]
		  },
  {
"cell_type": "code",
	   "execution_count": null,
	   "metadata": {
	    "collapsed": true
	   },
	   "outputs": [],
"source": [
"// sum 18-10\n",
"clc;\n",
"clear;\n",
"Co=695;\n",
"C=1430;\n",
"Pa1=200;\n",
"Pr1=600;\n",
"x=Pa1/Co;\n",
"y=Pa1/Pr1;\n",
"e=0.37+((0.44-0.37)*0.038/0.28);\n",
"X=1;\n",
"Y=0;\n",
"P1=600;\n",
"Pa2=120;\n",
"Pr2=300;\n",
"X=0.56;\n",
"Y=1.2-(0.2*0.042/0.12);\n",
"P2=(X*Pr2)+(Y*Pa2);\n",
"N1=1440;\n",
"N2=720;\n",
"t1=2/3;\n",
"t2=1/3;\n",
"n1=N1*t1;\n",
"n2=N2*t2;\n",
"N=(n1+n2);\n",
"Pe=(((n1*P1^3)+(n2*P2^3))/N)^(1/3);\n",
"L=(C/Pe)^3;\n",
"Lh=L*10^6/(N*60);\n",
"\n",
"  // printing data in scilab o/p window\n",
"  printf('Lh is %0.2f hrs    ',Lh);\n",
"  \n",
"  //The difference in the value of Lh is due to rounding-off of value of Pe"
   ]
   }
,
{
		   "cell_type": "markdown",
		   "metadata": {},
		   "source": [
			"## Example 18.1: RB1.sce"
		   ]
		  },
  {
"cell_type": "code",
	   "execution_count": null,
	   "metadata": {
	    "collapsed": true
	   },
	   "outputs": [],
"source": [
"// sum 18-1\n",
"clc;\n",
"clear;\n",
"Pr=16*10^3;\n",
"u=0.0011;\n",
"F=u*Pr;\n",
"r=20*10^-3;\n",
"//Let frictional moment be M\n",
"M=F*r;\n",
"N=1440;\n",
"w=2*%pi*N/60;\n",
"Pf=M*w;\n",
"\n",
"  // printing data in scilab o/p window\n",
"  printf('Pf is %0.2f W    ',Pf);"
   ]
   }
,
{
		   "cell_type": "markdown",
		   "metadata": {},
		   "source": [
			"## Example 18.2: RB2.sce"
		   ]
		  },
  {
"cell_type": "code",
	   "execution_count": null,
	   "metadata": {
	    "collapsed": true
	   },
	   "outputs": [],
"source": [
"// sum 18-2\n",
"clc;\n",
"clear;\n",
"C=5590;\n",
"Ca=2500;\n",
"Pa=625;\n",
"Pr=1250;\n",
"V=1;\n",
"X=0.56;\n",
"Y=1.2;\n",
"P1=(X*V*Pr)+(Y*Pa);\n",
"L1=(C/P1)^3;\n",
"V=1.2;\n",
"P2=(X*V*Pr)+(Y*Pa);\n",
"L2=(C/P2)^3;\n",
"\n",
"  // printing data in scilab o/p window\n",
"  printf('L1 is %0.1f million revolutions    ',L1);\n",
"  printf('\n L2 is %0.2f million revoltions    ',L2);"
   ]
   }
,
{
		   "cell_type": "markdown",
		   "metadata": {},
		   "source": [
			"## Example 18.4: RB4.sce"
		   ]
		  },
  {
"cell_type": "code",
	   "execution_count": null,
	   "metadata": {
	    "collapsed": true
	   },
	   "outputs": [],
"source": [
"// sum 18-4\n",
"clc;\n",
"clear;\n",
"P=20*10^3;\n",
"Co=22400;\n",
"C=41000;\n",
"Ln=(C/P)^3;\n",
"Lh=Ln*10^6/(720*60);\n",
"\n",
"  // printing data in scilab o/p window\n",
"  printf('Lh is %0.3f hrs    ',Lh);"
   ]
   }
,
{
		   "cell_type": "markdown",
		   "metadata": {},
		   "source": [
			"## Example 18.5: RB5.sce"
		   ]
		  },
  {
"cell_type": "code",
	   "execution_count": null,
	   "metadata": {
	    "collapsed": true
	   },
	   "outputs": [],
"source": [
"// sum 18-5\n",
"clc;\n",
"clear;\n",
"R1x=120;\n",
"R1y=250;\n",
"R2x=300;\n",
"R2y=400;\n",
"Lh=8000;\n",
"N=720;\n",
"Ln=Lh*60*N*10^-6;\n",
"R1=sqrt(R1x^2+R1y^2);\n",
"R2=sqrt(R2x^2+R2y^2);\n",
"//Let load factor be Ks\n",
"Ks=1.5;\n",
"P1=R1*Ks;\n",
"P2=R2*Ks;\n",
"C1=P1*(Ln^(1/3));\n",
"C2=P2*(Ln^(1/3));\n",
"//let designation,d,D,B,C at bearing B1 be De1,d1,D1,B1,C1\n",
"d1=25;\n",
"D1=37;\n",
"B1=7;\n",
"C1=3120;\n",
"De1=61805;\n",
"//let designation,d,D,B,C at bearing B2 be De2,d2,D2,B2,C2\n",
"d2=25;\n",
"D2=47;\n",
"B2=8;\n",
"C2=7620;\n",
"De2=16005;\n",
"\n",
"  // printing data in scilab o/p window\n",
"  printf('Designation of Bearing B1 is %0.0f     ',De1);\n",
"  printf('\n d1 is %0.0f mm    ',d1);\n",
"  printf('\n D1 is %0.0f mm    ',D1);\n",
"  printf('\n B1 is %0.0f mm    ',B1);\n",
"  printf('\n C1 is %0.0f N    ',C1);\n",
"  printf('\n Designation of Bearing B2 is %0.0f     ',De2);\n",
"  printf('\n d2 is %0.0f mm    ',d2);\n",
"  printf('\n D2 is %0.0f mm    ',D2);\n",
"  printf('\n B2 is %0.0f mm    ',B2);\n",
"  printf('\n C2 is %0.0f N    ',C2);\n",
"  \n",
"  disp('Bearing 61805 at B1 and 16005 at B2 can be installed.')"
   ]
   }
,
{
		   "cell_type": "markdown",
		   "metadata": {},
		   "source": [
			"## Example 18.6: RB6.sce"
		   ]
		  },
  {
"cell_type": "code",
	   "execution_count": null,
	   "metadata": {
	    "collapsed": true
	   },
	   "outputs": [],
"source": [
"// sum 18-6\n",
"clc;\n",
"clear;\n",
"P=7500;\n",
"N=1440;\n",
"w=2*%pi*N/60;\n",
"T=P/w;\n",
"r=0.2;\n",
"//Let T1-T2=t\n",
"t=T/r;\n",
"T2=t/2.5;\n",
"T1=3.5*T2;\n",
"R=0.125;\n",
"Ft=T/R;\n",
"Fr=Ft*tan(20*%pi/180);\n",
"// RD & RA are reaction forces calculated in vertical and horizontal directions from FBD by force equilibrium\n",
"RDv=186.5;\n",
"RAv=236.2;\n",
"RDh=36.2;\n",
"RAh=108.56;\n",
"RA=sqrt(RAv^2+RAh^2);\n",
"RD=sqrt(RDv^2+RDh^2);\n",
"Ks=1.4;\n",
"P1=RA*Ks;\n",
"P2=RD*Ks;\n",
"//let designation,d,D,B,C at bearing B1 be De1,d1,C1\n",
"d1=25;\n",
"C1=3120;\n",
"De1=61805;\n",
"//let designation,d,D,B,C at bearing B2 be De2,d2,C2\n",
"d2=25;\n",
"C2=2700;\n",
"De2=61804;\n",
"L1=(C1/P1)^3;\n",
"Lh1=L1*10^6/(720*60);\n",
"L2=(C2/P2)^3;\n",
"Lh2=L2*10^6/(720*60);\n",
"\n",
"  // printing data in scilab o/p window\n",
"  printf('Lh1 is %0.0f hrs    ',Lh1);\n",
"  printf('\n Lh2 is %0.0f hrs    ',Lh2);\n",
"  \n",
"  //Incorrect value of P2 is taken in the book while calculating L2."
   ]
   }
,
{
		   "cell_type": "markdown",
		   "metadata": {},
		   "source": [
			"## Example 18.7: RB7.sce"
		   ]
		  },
  {
"cell_type": "code",
	   "execution_count": null,
	   "metadata": {
	    "collapsed": true
	   },
	   "outputs": [],
"source": [
"// sum 18-7\n",
"clc;\n",
"clear;\n",
"P=3500;\n",
"Lh=6000;\n",
"N=1400;\n",
"R98=0.98;\n",
"R90=0.9;\n",
"L98=Lh*60*N/10^6;\n",
"x=(log(1/R98)/log(1/R90))^(1/1.17);\n",
"L90=L98/x;\n",
"C=P*L90^(1/3);\n",
"\n",
"  // printing data in scilab o/p window\n",
"  printf('C is %0.0f N    ',C);\n",
"  \n",
"  //The difference in the value of C is due to rounding-off of value of L."
   ]
   }
,
{
		   "cell_type": "markdown",
		   "metadata": {},
		   "source": [
			"## Example 18.8: RB8.sce"
		   ]
		  },
  {
"cell_type": "code",
	   "execution_count": null,
	   "metadata": {
	    "collapsed": true
	   },
	   "outputs": [],
"source": [
"// sum 18-8\n",
"clc;\n",
"clear;\n",
"n=3;\n",
"P=3;\n",
"//Let Reliability of system be R\n",
"R=0.83;\n",
"L94=6;\n",
"R94=(R)^(1/n);\n",
"x=(log(1/R94)/log(1/0.90))^(1/1.17);\n",
"L90=L94/x;\n",
"C=P*L90^(1/3);\n",
"\n",
"  // printing data in scilab o/p window\n",
"  printf('C is %0.3f kN    ',C);\n",
"  \n",
"  //The difference in the value of C is due to rounding-off of value of L."
   ]
   }
,
{
		   "cell_type": "markdown",
		   "metadata": {},
		   "source": [
			"## Example 18.9: RB9.sce"
		   ]
		  },
  {
"cell_type": "code",
	   "execution_count": null,
	   "metadata": {
	    "collapsed": true
	   },
	   "outputs": [],
"source": [
"// sum 18-9\n",
"clc;\n",
"clear;\n",
"P1=3000;\n",
"P2=4000;\n",
"P3=5000;\n",
"N1=1440;\n",
"N2=1080;\n",
"N3=720;\n",
"t1=1/4;\n",
"t2=1/2;\n",
"t3=1/4;\n",
"n1=N1*t1;\n",
"n2=N2*t2;\n",
"n3=N3*t3;\n",
"N=(n1+n2+n3);\n",
"Pe=(((n1*P1^3)+(n2*P2^3)+(n3*P3^3))/N)^(1/3);\n",
"Lh=10*10^3;\n",
"L=Lh*60*N/10^6;\n",
"C=Pe*L^(1/3);\n",
"\n",
"  // printing data in scilab o/p window\n",
"  printf('C is %0.0f N    ',C);\n",
"  \n",
"  //The difference in the value of C is due to rounding-off of value of Pe"
   ]
   }
],
"metadata": {
		  "kernelspec": {
		   "display_name": "Scilab",
		   "language": "scilab",
		   "name": "scilab"
		  },
		  "language_info": {
		   "file_extension": ".sce",
		   "help_links": [
			{
			 "text": "MetaKernel Magics",
			 "url": "https://github.com/calysto/metakernel/blob/master/metakernel/magics/README.md"
			}
		   ],
		   "mimetype": "text/x-octave",
		   "name": "scilab",
		   "version": "0.7.1"
		  }
		 },
		 "nbformat": 4,
		 "nbformat_minor": 0
}
