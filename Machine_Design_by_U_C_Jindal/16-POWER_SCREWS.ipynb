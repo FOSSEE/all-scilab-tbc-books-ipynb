{
"cells": [
 {
		   "cell_type": "markdown",
	   "metadata": {},
	   "source": [
       "# Chapter 16: POWER SCREWS"
	   ]
	},
{
		   "cell_type": "markdown",
		   "metadata": {},
		   "source": [
			"## Example 16.1: PS1.sce"
		   ]
		  },
  {
"cell_type": "code",
	   "execution_count": null,
	   "metadata": {
	    "collapsed": true
	   },
	   "outputs": [],
"source": [
"// sum 16-1\n",
"clc;\n",
"clear;\n",
"d=30;\n",
"W=20*10^3;\n",
"r1=8;\n",
"r2=16;\n",
"p=6;\n",
"u1=0.2;\n",
"u2=0.15;\n",
"dm=d-(p/2);\n",
"alpha=atan(p/(%pi*dm));\n",
"phi=atan(u1);\n",
"rm=(r1+r2)/2;\n",
"Ttr=W*((dm*tan(alpha+phi)/2)+(u2*rm));\n",
"Ttr=Ttr*10^-3;\n",
"\n",
"  // printing data in scilab o/p window\n",
"  printf('Ttr is %0.3f Nm     ',Ttr);\n",
"  \n",
"  //The answer to Ttr is slightly different than in the book due to rounding-off of values."
   ]
   }
,
{
		   "cell_type": "markdown",
		   "metadata": {},
		   "source": [
			"## Example 16.2: PS2.sce"
		   ]
		  },
  {
"cell_type": "code",
	   "execution_count": null,
	   "metadata": {
	    "collapsed": true
	   },
	   "outputs": [],
"source": [
"// sum 16-2\n",
"clc;\n",
"clear;\n",
"d=50;\n",
"W=20*10^3;\n",
"r1=10;\n",
"r2=30;\n",
"p=7;\n",
"u1=0.12/cosd(15);\n",
"u2=0.15;\n",
"dm=d-(p/2);\n",
"alpha=atan(3*p/(%pi*dm));\n",
"phi=atan(u1);\n",
"rm=(r1+r2)/2;\n",
"Tr=W*((dm*tan(alpha+phi)/2)+(u2*rm));\n",
"Tr=Tr*10^-3;\n",
"Te=W*((dm*tan(phi-alpha)/2)+(u2*rm));\n",
"Te=Te*10^-3;\n",
"n=dm/2*tan(alpha)/(dm*tan(alpha+phi)/2+(u2*rm));\n",
"L=0.30;\n",
"Ph=Tr/L;\n",
"\n",
"  // printing data in scilab o/p window\n",
"  printf('Tr is %0.2f Nm     ',Tr);\n",
"  printf('\n Te is %0.3f Nm     ',Te);\n",
"  printf('\n n is %0.4f      ',n);\n",
"  printf('\n Ph is %0.2f N     ',Ph);\n",
"  \n",
"  //The answers to Tr, Te and Ph is slightly different than in the book due to rounding-off of values.\n",
"\n",
""
   ]
   }
,
{
		   "cell_type": "markdown",
		   "metadata": {},
		   "source": [
			"## Example 16.3: PS3.sce"
		   ]
		  },
  {
"cell_type": "code",
	   "execution_count": null,
	   "metadata": {
	    "collapsed": true
	   },
	   "outputs": [],
"source": [
"// sum 16-3\n",
"clc;\n",
"clear;\n",
"d=30;\n",
"W=5*10^3;\n",
"p=5;\n",
"rm=45/2;\n",
"u1=0.15/cosd(14.5);\n",
"u2=0.15;\n",
"dm=d-(p/2);\n",
"alpha=atan(p/(%pi*dm));\n",
"phi=atan(u1);\n",
"Tr1=W*((dm*tan(alpha+phi)/2)+(u2*rm));\n",
"Tr1=Tr1*10^-3;\n",
"n1=dm/2*tan(alpha)/(dm*tan(alpha+phi)/2+(u2*rm));\n",
"T1=W*((dm*tan(phi-alpha)/2)+(u2*rm));\n",
"T1=T1*10^-3;\n",
"n2=dm/2*tan(alpha)/(dm*tan(phi-alpha)/2+(u2*rm));\n",
"u2=0.02;\n",
"Tr2=W*((dm*tan(alpha+phi)/2)+(u2*rm));\n",
"Tr2=Tr2*10^-3;\n",
"n3=dm/2*tan(alpha)/(dm*tan(alpha+phi)/2+(u2*rm));\n",
"Te=W*((dm*tan(phi-alpha)/2)+(u2*rm));\n",
"Te=Te*10^-3;\n",
"n4=dm/2*tan(alpha)/(dm*tan(phi-alpha)/2+(u2*rm));\n",
"\n",
"  // printing data in scilab o/p window\n",
"  printf('Tr1 is %0.3f Nm     ',Tr1);\n",
"  printf('\n n1 is %0.4f      ',n1);\n",
"  printf('\n T1 is %0.3f Nm     ',T1);\n",
"  printf('\n n2 is %0.4f      ',n2);\n",
"  printf('\n Tr2 is %0.3f Nm     ',Tr2);\n",
"  printf('\n n3 is %0.4f      ',n3);\n",
"  printf('\n Te is %0.3f Nm     ',Te);\n",
"  printf('\n n4 is %0.4f      ',n4);\n",
"  \n",
"  //The answer to T1 is misprinted in the book."
   ]
   }
,
{
		   "cell_type": "markdown",
		   "metadata": {},
		   "source": [
			"## Example 16.4: PS4.sce"
		   ]
		  },
  {
"cell_type": "code",
	   "execution_count": null,
	   "metadata": {
	    "collapsed": true
	   },
	   "outputs": [],
"source": [
"// sum 16-4\n",
"clc;\n",
"clear;\n",
"d=28;\n",
"P=300;\n",
"L=180;\n",
"p=8;\n",
"r1=16;\n",
"r2=46;\n",
"rm=(r1+r2)/2;\n",
"u1=0.12;\n",
"u2=0.15;\n",
"dm=d-(p/2);\n",
"alpha=atan(p/(%pi*dm));\n",
"phi=atan(u1);\n",
"T=P*L;\n",
"F=T/((dm*tan(alpha+phi)/2)+(u2*rm));\n",
"F=F*10^-3;\n",
"\n",
"  // printing data in scilab o/p window\n",
"  printf('F is %0.3f kN     ',F);"
   ]
   }
,
{
		   "cell_type": "markdown",
		   "metadata": {},
		   "source": [
			"## Example 16.5: PS5.sce"
		   ]
		  },
  {
"cell_type": "code",
	   "execution_count": null,
	   "metadata": {
	    "collapsed": true
	   },
	   "outputs": [],
"source": [
"// sum 16-5\n",
"clc;\n",
"clear;\n",
"d=25;\n",
"p=8;\n",
"F=392.4;\n",
"L=250;\n",
"l=p*2;\n",
"u=0.14;\n",
"dm=d-(p/2);\n",
"alpha=atan(l/(%pi*dm));\n",
"phi=atan(u);\n",
"T=dm*tan(alpha+phi)/2;\n",
"M=F*L;\n",
"P=M/T*10^-3;\n",
"\n",
"  // printing data in scilab o/p window\n",
"  printf('P is %0.1f kN     ',P);"
   ]
   }
,
{
		   "cell_type": "markdown",
		   "metadata": {},
		   "source": [
			"## Example 16.6: PS6.sce"
		   ]
		  },
  {
"cell_type": "code",
	   "execution_count": null,
	   "metadata": {
	    "collapsed": true
	   },
	   "outputs": [],
"source": [
"// sum 16-6\n",
"clc;\n",
"clear;\n",
"d=52;\n",
"W=2.2*10^3;\n",
"p=8;\n",
"r1=15;\n",
"r2=30;\n",
"rm=(r1+r2)/2;\n",
"u1=0.15/cosd(14.5);\n",
"dm=d-(p/2);\n",
"alpha=atan(p/(%pi*dm));\n",
"phi=atan(u1);\n",
"Ts=W*dm*tan(alpha+phi)/2;\n",
"u2=0.12;\n",
"Tc=u2*W*rm;\n",
"T=10^-3*(Ts+Tc);\n",
"N=40;\n",
"w=2*%pi*N/60;\n",
"P=T*w*10^-3;\n",
"To=W*dm/2*tan(alpha);\n",
"n=To/(T*10^3);\n",
"\n",
"  // printing data in scilab o/p window\n",
"  printf('P is %0.2f KW     ',P);\n",
"  printf('\n n is %0.4f      ',n);"
   ]
   }
,
{
		   "cell_type": "markdown",
		   "metadata": {},
		   "source": [
			"## Example 16.7: PS7.sce"
		   ]
		  },
  {
"cell_type": "code",
	   "execution_count": null,
	   "metadata": {
	    "collapsed": true
	   },
	   "outputs": [],
"source": [
"// sum 16-7\n",
"clc;\n",
"clear;\n",
"alpha=atan(2*0.2/(%pi*0.9));\n",
"u1=0.15;\n",
"phi=atan(u1);\n",
"P=200;\n",
"L=250;\n",
"Tt=P*L;\n",
"W=10*10^3;\n",
"u2=0.15;\n",
"x=Tt/W;\n",
"d=x/0.1716;\n",
"d=30;\n",
"p=6;\n",
"dr=0.8*d;\n",
"d=24;\n",
"p=5;\n",
"dr=d-p;\n",
"dm=d-(p/2);\n",
"\n",
"  // printing data in scilab o/p window\n",
"  printf('d is %0.0f mm     ',d);\n",
"  printf('\n p is %0.0f mm     ',p);"
   ]
   }
,
{
		   "cell_type": "markdown",
		   "metadata": {},
		   "source": [
			"## Example 16.8: PS8.sce"
		   ]
		  },
  {
"cell_type": "code",
	   "execution_count": null,
	   "metadata": {
	    "collapsed": true
	   },
	   "outputs": [],
"source": [
"// sum 16-8\n",
"clc;\n",
"clear;\n",
"FOS=3;\n",
"sigut=380;\n",
"Ta=0.577*sigut/FOS;\n",
"d=25;\n",
"Tus=460;\n",
"Ps=%pi*d*Tus;\n",
"siga=127;\n",
"dr=sqrt(Ps*4/(%pi*siga));\n",
"d=30;\n",
"p=6;\n",
"dr=d-p;\n",
"dm=d-(p/2);\n",
"u1=0.15;\n",
"alpha=atan(p*2/(%pi*dm));\n",
"phi=atan(u1);\n",
"T=Ps*dm*tan(alpha+phi)/2;\n",
"T1=16*T/(%pi*dr^3);\n",
"sigc=4*Ps/(%pi*dr^2);\n",
"sigmax=sigc/2+sqrt((sigc/2^2)+(T1^2));\n",
"Tmax=sqrt((sigc/2^2)+(T1^2));\n",
"n=tan(alpha)/tan(alpha+phi);\n",
"Uo=Ps/2;\n",
"Ui=Uo/n;\n",
"wav=%pi/2;\n",
"wmax=2*wav;\n",
"I=Ui*2/wmax^2;\n",
"k=0.4;\n",
"Ir=0.9*I*10^-3;\n",
"m=Ir/k^2;\n",
"R=0.4;\n",
"rho=7200;\n",
"a=sqrt(m/(2*%pi*R*rho));\n",
"T=T*10^-3;\n",
"\n",
"  // printing data in scilab o/p window\n",
"  printf('T is %0.3f Nm     ',T);\n",
"  printf('\n n is %0.4f      ',n);\n",
"  printf('\n a is %0.5f mm      ',a);\n",
"  \n",
"  //The difference in the answers of T is due to rounding-off of values.\n",
"\n",
""
   ]
   }
],
"metadata": {
		  "kernelspec": {
		   "display_name": "Scilab",
		   "language": "scilab",
		   "name": "scilab"
		  },
		  "language_info": {
		   "file_extension": ".sce",
		   "help_links": [
			{
			 "text": "MetaKernel Magics",
			 "url": "https://github.com/calysto/metakernel/blob/master/metakernel/magics/README.md"
			}
		   ],
		   "mimetype": "text/x-octave",
		   "name": "scilab",
		   "version": "0.7.1"
		  }
		 },
		 "nbformat": 4,
		 "nbformat_minor": 0
}
