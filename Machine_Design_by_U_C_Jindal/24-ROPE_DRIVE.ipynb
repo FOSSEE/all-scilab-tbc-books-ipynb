{
"cells": [
 {
		   "cell_type": "markdown",
	   "metadata": {},
	   "source": [
       "# Chapter 24: ROPE DRIVE"
	   ]
	},
{
		   "cell_type": "markdown",
		   "metadata": {},
		   "source": [
			"## Example 24.1: RD1.sce"
		   ]
		  },
  {
"cell_type": "code",
	   "execution_count": null,
	   "metadata": {
	    "collapsed": true
	   },
	   "outputs": [],
"source": [
"// sum 24-1\n",
"clc;\n",
"clear;\n",
"P=150000;\n",
"m=0.4;\n",
"D=1.8;\n",
"d=0.6;\n",
"C=4.2;\n",
"V=15;\n",
"Fc=m*V^2;\n",
"BL=44.81*10^3;\n",
"FOS=35;\n",
"F1=BL/FOS;\n",
"theta=%pi-(2*asin((D-d)/(2*C)));\n",
"beta=22.5*%pi/180;\n",
"u=0.13;\n",
"x=u*theta/sin(beta);\n",
"F2=(F1-Fc)/exp(x);\n",
"n=P/((F1-F2)*V);\n",
"n=13;\n",
"\n",
"  // printing data in scilab o/p window\n",
"  printf('n is %0.0f    ',n);"
   ]
   }
,
{
		   "cell_type": "markdown",
		   "metadata": {},
		   "source": [
			"## Example 24.2: RD2.sce"
		   ]
		  },
  {
"cell_type": "code",
	   "execution_count": null,
	   "metadata": {
	    "collapsed": true
	   },
	   "outputs": [],
"source": [
"// sum 24-2\n",
"clc;\n",
"clear;\n",
"W=1000;\n",
"m=0.498;\n",
"BL=78;\n",
"d=12;\n",
"Am=0.39*d^2;\n",
"dw=sqrt(Am*4/(6*19*%pi));\n",
"Ew=74.4*10^3;\n",
"Ds=56*d;\n",
"sigb=Ew*dw/Ds;\n",
"Wb=sigb*%pi*(d^2)/4*10^-3;\n",
"l=20;\n",
"Ws=m*l;\n",
"a=1.2;\n",
"Wa=a*(W/2+Ws)*10^-3;\n",
"//Let the static load be Ps\n",
"Ps=(W/2+Ws)*9.81*10^-3;\n",
"//let the effective load  be Peff\n",
"Peff=Ps+Wb+Wa;\n",
"FOS1=BL/Peff;\n",
"FOS2=BL/(5+0.612);\n",
"\n",
"  // printing data in scilab o/p window\n",
"  printf('annual FOS is %0.2f    ',FOS1);\n",
"  printf('\n FOS neglecting bending load is %0.1f    ',FOS2);"
   ]
   }
,
{
		   "cell_type": "markdown",
		   "metadata": {},
		   "source": [
			"## Example 24.3: RD3.sce"
		   ]
		  },
  {
"cell_type": "code",
	   "execution_count": null,
	   "metadata": {
	    "collapsed": true
	   },
	   "outputs": [],
"source": [
"// sum 24-3\n",
"clc;\n",
"clear;\n",
"d=12;\n",
"sigut=1960;\n",
"Pb=0.0025*sigut;\n",
"Ds=480;\n",
"F=Pb*d*Ds/2;\n",
"W=F*2*10^-3;\n",
"\n",
"  // printing data in scilab o/p window\n",
"  printf('W is %0.3f kN   ',W);"
   ]
   }
,
{
		   "cell_type": "markdown",
		   "metadata": {},
		   "source": [
			"## Example 24.4: RD4.sce"
		   ]
		  },
  {
"cell_type": "code",
	   "execution_count": null,
	   "metadata": {
	    "collapsed": true
	   },
	   "outputs": [],
"source": [
"// sum 24-4\n",
"clc;\n",
"clear;\n",
"sigut=1770;\n",
"Pb=0.0018*sigut;\n",
"W=4000;\n",
"a=2.5/2;\n",
"Ws=90*0.5;\n",
"Wa=(W+Ws)*a/9.81;\n",
"Weff=W+Wa;\n",
"d=sqrt(Weff*2/(23*Pb));\n",
"d=12;\n",
"\n",
"  // printing data in scilab o/p window\n",
"  printf('d is %0.0f mm   ',d);"
   ]
   }
],
"metadata": {
		  "kernelspec": {
		   "display_name": "Scilab",
		   "language": "scilab",
		   "name": "scilab"
		  },
		  "language_info": {
		   "file_extension": ".sce",
		   "help_links": [
			{
			 "text": "MetaKernel Magics",
			 "url": "https://github.com/calysto/metakernel/blob/master/metakernel/magics/README.md"
			}
		   ],
		   "mimetype": "text/x-octave",
		   "name": "scilab",
		   "version": "0.7.1"
		  }
		 },
		 "nbformat": 4,
		 "nbformat_minor": 0
}
