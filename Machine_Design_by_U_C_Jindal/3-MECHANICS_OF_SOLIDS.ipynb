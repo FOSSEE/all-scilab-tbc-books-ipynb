{
"cells": [
 {
		   "cell_type": "markdown",
	   "metadata": {},
	   "source": [
       "# Chapter 3: MECHANICS OF SOLIDS"
	   ]
	},
{
		   "cell_type": "markdown",
		   "metadata": {},
		   "source": [
			"## Example 3.10: MS10.sce"
		   ]
		  },
  {
"cell_type": "code",
	   "execution_count": null,
	   "metadata": {
	    "collapsed": true
	   },
	   "outputs": [],
"source": [
"// sum 3-10\n",
"clc;\n",
"clear;\n",
"G=38*10^3;\n",
"d=10;\n",
"P=5*10^3;\n",
"A=%pi*d^2/4;\n",
"sig=P/A;\n",
"deld=0.0002;\n",
"//Let the lateral strain be E1\n",
"E1=deld/d;\n",
"v=2*deld*G/(sig-(2*deld*G));\n",
"E=2*G*(1+v)*10^-3;\n",
"\n",
"  // printing data in scilab o/p window\n",
"  printf('v is %0.4f     ',v);\n",
"  printf('\n E is %0.3f kN/mm^2     ',E);"
   ]
   }
,
{
		   "cell_type": "markdown",
		   "metadata": {},
		   "source": [
			"## Example 3.11: MS11.sce"
		   ]
		  },
  {
"cell_type": "code",
	   "execution_count": null,
	   "metadata": {
	    "collapsed": true
	   },
	   "outputs": [],
"source": [
"// sum 3-11\n",
"clc;\n",
"clear;\n",
"D=1500;\n",
"p=1.2;\n",
"sigt=100;\n",
"sigc=p*D/2;\n",
"siga=p*D/4;\n",
"P=sigc*2*10^3;\n",
"n=0.75;\n",
"t=sigc/(n*sigt);\n",
"\n",
"  // printing data in scilab o/p window\n",
"  printf('t is %0.1f mm    ',t);"
   ]
   }
,
{
		   "cell_type": "markdown",
		   "metadata": {},
		   "source": [
			"## Example 3.12: MS12.sce"
		   ]
		  },
  {
"cell_type": "code",
	   "execution_count": null,
	   "metadata": {
	    "collapsed": true
	   },
	   "outputs": [],
"source": [
"// sum 3-12\n",
"clc;\n",
"clear;\n",
"D=50;\n",
"t=1.25;\n",
"d=0.5;\n",
"n=1/d;\n",
"p=1.5;\n",
"siga=p*D/(4*t);\n",
"sigc=20.27;\n",
"sigw=sigc/0.31416;\n",
"\n",
"  // printing data in scilab o/p window\n",
"  printf('sigw is %0.2f N/mm^2    ',sigw);"
   ]
   }
,
{
		   "cell_type": "markdown",
		   "metadata": {},
		   "source": [
			"## Example 3.13: MS13.sce"
		   ]
		  },
  {
"cell_type": "code",
	   "execution_count": null,
	   "metadata": {
	    "collapsed": true
	   },
	   "outputs": [],
"source": [
"// sum 3-13\n",
"clc;\n",
"clear;\n",
"R1=50;\n",
"p=75;\n",
"pmax=125;\n",
"R2=sqrt((pmax+p)*R1^2/(pmax-p));\n",
"t=R2-R1;\n",
"\n",
"  // printing data in scilab o/p window\n",
"  printf('t is %0.1f mm    ',t);"
   ]
   }
,
{
		   "cell_type": "markdown",
		   "metadata": {},
		   "source": [
			"## Example 3.14: MS14.sce"
		   ]
		  },
  {
"cell_type": "code",
	   "execution_count": null,
	   "metadata": {
	    "collapsed": true
	   },
	   "outputs": [],
"source": [
"// sum 3-14\n",
"clc;\n",
"clear;\n",
"R1=40;\n",
"R2=60;\n",
"B=50;\n",
"E=210*10^3;\n",
"e=41*10^-6;\n",
"sig=2*R1^2/(R2^2-R1^2);\n",
"p=E*e/sig;\n",
"Fr=p*2*%pi*R1*B;\n",
"u=0.2;\n",
"Fa=u*Fr*10^-3;\n",
"\n",
"  // printing data in scilab o/p window\n",
"  printf('Fa is %0.2f kN    ',Fa);"
   ]
   }
,
{
		   "cell_type": "markdown",
		   "metadata": {},
		   "source": [
			"## Example 3.15: MS15.sce"
		   ]
		  },
  {
"cell_type": "code",
	   "execution_count": null,
	   "metadata": {
	    "collapsed": true
	   },
	   "outputs": [],
"source": [
"// sum 3-15\n",
"clc;\n",
"clear;\n",
"a1=10*1.5;\n",
"x1=15-0.75;\n",
"a2=1.5*(15-1.5);\n",
"x2=(15-1.5)/2;\n",
"y1=((a1*x1)+(a2*x2))/(a1+a2);\n",
"y2=a1-y1;\n",
"Ixx=(10*1.5^3)/12+(10*1.5*(5.06-1.5/2)^2)+(1.5*13.5^3/12)+(1.5*13.5*(9.94-6.75)^2);\n",
"Z1=Ixx/y1;\n",
"Z2=Ixx/y2;\n",
"L=3;\n",
"sigc=50;\n",
"W=sigc*Z1/L*10^-3;\n",
"\n",
"  // printing data in scilab o/p window\n",
"  printf('W is %0.3f kN    ',W);"
   ]
   }
,
{
		   "cell_type": "markdown",
		   "metadata": {},
		   "source": [
			"## Example 3.16: MS16.sce"
		   ]
		  },
  {
"cell_type": "code",
	   "execution_count": null,
	   "metadata": {
	    "collapsed": true
	   },
	   "outputs": [],
"source": [
"// sum 3-16\n",
"clc;\n",
"clear;\n",
"D=22;\n",
"d=20;\n",
"r=1;\n",
"K=2.2;\n",
"sigmax=130;\n",
"sigmax=sigmax/K;\n",
"Z=%pi*d^3/32;\n",
"M=sigmax*Z*10^-3;\n",
"\n",
"  // printing data in scilab o/p window\n",
"  printf('M is %0.3f Nm    ',M);"
   ]
   }
,
{
		   "cell_type": "markdown",
		   "metadata": {},
		   "source": [
			"## Example 3.17: MS17.sce"
		   ]
		  },
  {
"cell_type": "code",
	   "execution_count": null,
	   "metadata": {
	    "collapsed": true
	   },
	   "outputs": [],
"source": [
"// sum 3-17\n",
"clc;\n",
"clear;\n",
"A=(12*2)+(12*2)+(30-4);\n",
"B=sqrt(A/2);\n",
"D=2*B;\n",
"B1=12;\n",
"D1=30;\n",
"d=26;\n",
"b=1;\n",
"Z1=((B1*D1^3)-((B1-b)*d^3))/(B1*D1/2);\n",
"Zr=B*D^2/6;\n",
"//Let the ratio of both the sections be x\n",
"x=Z1/Zr;\n",
"M=30*10^6;\n",
"sigmax=M/(Z1*10^3);\n",
"\n",
"  // printing data in scilab o/p window\n",
"  printf('Z1/Zr is %0.2f     ',x);\n",
"  printf('\n sigmax is %0.2f N/mm^2    ',sigmax);"
   ]
   }
,
{
		   "cell_type": "markdown",
		   "metadata": {},
		   "source": [
			"## Example 3.18: MS18.sce"
		   ]
		  },
  {
"cell_type": "code",
	   "execution_count": null,
	   "metadata": {
	    "collapsed": true
	   },
	   "outputs": [],
"source": [
"// sum 3-18\n",
"clc;\n",
"clear;\n",
"//Tmax=F/(I*b)*[B*t(d/2+t/2)+(b*d*d/8)];\n",
"//T1=F/(I*b)*[B*t*(d+t)/2];\n",
"//Tmean=T1+2/3*(Tmax-T1);\n",
"//T=Tmax-Tmean;\n",
"//T=F*d^2/(24*I);\n",
"disp('Difference between maximum and mean shear stresses in the web is ,T=F*d^2/(24*I)');"
   ]
   }
,
{
		   "cell_type": "markdown",
		   "metadata": {},
		   "source": [
			"## Example 3.19: MS19.sce"
		   ]
		  },
  {
"cell_type": "code",
	   "execution_count": null,
	   "metadata": {
	    "collapsed": true
	   },
	   "outputs": [],
"source": [
"// sum 3-19\n",
"clc;\n",
"clear;\n",
"x1=((13*3*1.5)+(2*15*8))/(39+30);\n",
"x2=13-x1;\n",
"A=30+39;\n",
"E=2*10^7;\n",
"Iyy=995.66;\n",
"e=54.32;\n",
"x=x2-3;\n",
"sigb=e*x/Iyy;\n",
"sigd=1/69;\n",
"sigr=sigd+sigb;\n",
"//Let the strain be E1\n",
"E1=800*10^-6;\n",
"P=E1*E/sigr;\n",
"P=P*10^-3;\n",
"\n",
"  // printing data in scilab o/p window\n",
"  printf('P is %0.2f kN    ',P);"
   ]
   }
,
{
		   "cell_type": "markdown",
		   "metadata": {},
		   "source": [
			"## Example 3.1: MS1.sce"
		   ]
		  },
  {
"cell_type": "code",
	   "execution_count": null,
	   "metadata": {
	    "collapsed": true
	   },
	   "outputs": [],
"source": [
"// sum 3-1\n",
"clc;\n",
"clear;\n",
"d=10;\n",
"l=1500;\n",
"m=12;\n",
"h=50;\n",
"E=210*10^3;\n",
"sigut=450;\n",
"A=%pi*d^2/4;\n",
"W=m*9.81;\n",
"sigi=W/A*(1+sqrt(1+(2*E*A*h)/(W*l)));\n",
"deli=sigi*l/E;\n",
"siggradual=W/A;\n",
"sigsudden=2*siggradual;\n",
"\n",
"  // printing data in scilab o/p window\n",
"  printf('sigi is %f N/mm^2     ',sigi);\n",
"  printf('\n deli is %f mm     ',deli);\n",
"  printf('\n siggradual is %f N/mm^2     ',siggradual);\n",
"\n",
"// The difference in the answer of sigi and siggradual is due to round-off errors."
   ]
   }
,
{
		   "cell_type": "markdown",
		   "metadata": {},
		   "source": [
			"## Example 3.20: MS20.sce"
		   ]
		  },
  {
"cell_type": "code",
	   "execution_count": null,
	   "metadata": {
	    "collapsed": true
	   },
	   "outputs": [],
"source": [
"// sum 3-20\n",
"clc;\n",
"clear;\n",
"H=20;\n",
"D=5;\n",
"d=3;\n",
"rho=21;\n",
"sigd=rho*H;\n",
"p=2;\n",
"A=D*H;\n",
"P=p*A;\n",
"M=P*H/2;\n",
"Z=%pi*(D^4-d^4)/(32*D);\n",
"sigb=M/Z;\n",
"sigmax=420+sigb;\n",
"sigmin=420-sigb;\n",
"\n",
"  // printing data in scilab o/p window\n",
"  printf('sigmax is %0.2f kN/m^2    ',sigmax);\n",
"  printf('\n sigmin is %0.2f kN/m^2    ',sigmin);"
   ]
   }
,
{
		   "cell_type": "markdown",
		   "metadata": {},
		   "source": [
			"## Example 3.21: MS21.sce"
		   ]
		  },
  {
"cell_type": "code",
	   "execution_count": null,
	   "metadata": {
	    "collapsed": true
	   },
	   "outputs": [],
"source": [
"// sum 3-21\n",
"clc;\n",
"clear;\n",
"D=30;\n",
"R=15;\n",
"T=0.56*10^6;\n",
"G=82*10^3;\n",
"J=%pi*R^4/2;\n",
"T1=T*R/J;\n",
"l=1000;\n",
"theta=T*l/(G*J)*180/%pi;\n",
"r=10;\n",
"Tr=T1*r/R;\n",
"\n",
"  // printing data in scilab o/p window\n",
"  printf('T1 is %0.2f N/mm^2    ',T1);\n",
"  printf('\n theta is %0.2f deg    ',theta);\n",
"  printf('\n Tr is %0.2f N/mm^2    ',Tr);"
   ]
   }
,
{
		   "cell_type": "markdown",
		   "metadata": {},
		   "source": [
			"## Example 3.22: MS22.sce"
		   ]
		  },
  {
"cell_type": "code",
	   "execution_count": null,
	   "metadata": {
	    "collapsed": true
	   },
	   "outputs": [],
"source": [
"// sum 3-22\n",
"clc;\n",
"clear;\n",
"T=8*10^3;\n",
"d=80;\n",
"D=110;\n",
"l=2000;\n",
"Gst=80*10^3;\n",
"Gcop=Gst/2;\n",
"Js=%pi*d^4/32;\n",
"Jc=%pi*(D^4-d^4)/32;\n",
"//Ts=0.777*Tc\n",
"Tc=T/1.777*10^3;\n",
"Ts=0.777*Tc;\n",
"Ts1=Ts/Js*d/2;\n",
"Tc1=Tc/Jc*D/2;\n",
"//Let tl be Angular twist per unit length\n",
"tl=Ts*10^3/(Js*Gst)*180/%pi;\n",
"// Let the maximum stress developed when the Torque is acting in the centre of the shaft be Ts2 & Tc2 resp. for steel and copper\n",
"Ts2=Ts1/2;\n",
"Tc2=Tc1/2;\n",
"\n",
"  // printing data in scilab o/p window\n",
"  printf('Ts1 is %0.3f N/mm^2    ',Ts1);\n",
"  printf('\n Tc1 is %0.1f N/mm^2    ',Tc1);\n",
"  printf('\n theta/length is %0.3f deg/m    ',tl);\n",
"  printf('\n Ts2 is %0.3f N/mm^2    ',Ts2);\n",
"  printf('\n Tc2 is %0.2f N/mm^2    ',Tc2);"
   ]
   }
,
{
		   "cell_type": "markdown",
		   "metadata": {},
		   "source": [
			"## Example 3.23: MS23.sce"
		   ]
		  },
  {
"cell_type": "code",
	   "execution_count": null,
	   "metadata": {
	    "collapsed": true
	   },
	   "outputs": [],
"source": [
"// sum 3-23\n",
"clc;\n",
"clear;\n",
"D=100;\n",
"d=75;\n",
"r=6;\n",
"K=1.45;\n",
"P=20*746;\n",
"N=400;\n",
"w=2*%pi*N/60;\n",
"T=P/w;\n",
"Ts=16*T*10^3/(%pi*d^3);\n",
"Tmax=K*Ts;\n",
"\n",
"  // printing data in scilab o/p window\n",
"  printf('Tmax is %0.3f MPa    ',Tmax);"
   ]
   }
,
{
		   "cell_type": "markdown",
		   "metadata": {},
		   "source": [
			"## Example 3.24: MS24.sce"
		   ]
		  },
  {
"cell_type": "code",
	   "execution_count": null,
	   "metadata": {
	    "collapsed": true
	   },
	   "outputs": [],
"source": [
"// sum 3-24\n",
"clc;\n",
"clear;\n",
"G=84*10^3;\n",
"T=28*10^3;\n",
"l=1000;\n",
"theta=%pi/180;\n",
"J=T*l/(G*theta);\n",
"d=(J*32/%pi)^(1/4);\n",
"\n",
"  // printing data in scilab o/p window\n",
"  printf('d is %0.1f mm    ',d);"
   ]
   }
,
{
		   "cell_type": "markdown",
		   "metadata": {},
		   "source": [
			"## Example 3.25: MS25.sce"
		   ]
		  },
  {
"cell_type": "code",
	   "execution_count": null,
	   "metadata": {
	    "collapsed": true
	   },
	   "outputs": [],
"source": [
"// sum 3-25\n",
"clc;\n",
"clear;\n",
"P=2*10^6;\n",
"N=200;\n",
"w=2*%pi*N/60;\n",
"Tm=P/w;\n",
"W=5*10^3*9.81;\n",
"l=1800;\n",
"Mmax=W*l/4;\n",
"Tmax=1.8*Tm*10^3;\n",
"Me=(Mmax+sqrt(Mmax^2+Tmax^2))/2;\n",
"Te=sqrt(Mmax^2+Tmax^2);\n",
"sig=60;\n",
"Ts=40;\n",
"d1=(32*Me/(%pi*sig))^(1/3);\n",
"d2=(16*Te/(%pi*Ts))^(1/3);\n",
"\n",
"  // printing data in scilab o/p window\n",
"  printf('d is %0.1f mm    ',d2);"
   ]
   }
,
{
		   "cell_type": "markdown",
		   "metadata": {},
		   "source": [
			"## Example 3.26: MS26.sce"
		   ]
		  },
  {
"cell_type": "code",
	   "execution_count": null,
	   "metadata": {
	    "collapsed": true
	   },
	   "outputs": [],
"source": [
"// sum 3-26\n",
"clc;\n",
"clear;\n",
"Q=4*10^3;\n",
"P=8*10^3;\n",
"sig=P;\n",
"T=Q;\n",
"p1=(sig/2+sqrt((sig/2)^2+T^2));\n",
"p2=(sig/2-sqrt((sig/2)^2+T^2));\n",
"sigyp=285;\n",
"FOS=3;\n",
"siga=sigyp/3;\n",
"A1=p1/siga;\n",
"d1=sqrt(4*A1/%pi);\n",
"A2=(p1-p2)*2/(siga*2);\n",
"d2=sqrt(4*A2/%pi);\n",
"v=0.3;\n",
"A3=sqrt(p1^2+p2^2-(2*v*p1*p2))/siga;\n",
"d3=sqrt(4*A3/%pi);\n",
"\n",
"  // printing data in scilab o/p window\n",
"  printf('d1 is %0.2f mm    ',d1);\n",
"  printf('\n d2 is %0.1f mm    ',d2);\n",
"  printf('\n d3 is %0.2f mm    ',d3);"
   ]
   }
,
{
		   "cell_type": "markdown",
		   "metadata": {},
		   "source": [
			"## Example 3.27: MS27.sce"
		   ]
		  },
  {
"cell_type": "code",
	   "execution_count": null,
	   "metadata": {
	    "collapsed": true
	   },
	   "outputs": [],
"source": [
"// sum 3-27\n",
"clc;\n",
"clear;\n",
"sigx=-105;\n",
"Txy=105;\n",
"sigy=270;\n",
"p1=(sigx/2+sqrt((sigx/2)^2+Txy^2));\n",
"p2=(sigx/2-sqrt((sigx/2)^2+Txy^2));\n",
"p3=0;\n",
"Tmax=(p1-p2)/2;\n",
"siga=sigy/2;\n",
"if (Tmax<=siga) then\n",
"    printf('The component is safe')\n",
"end\n",
"\n",
"  // printing data in scilab o/p window\n",
"  printf('\n Tmax is %0.1f MPa    ',Tmax);"
   ]
   }
,
{
		   "cell_type": "markdown",
		   "metadata": {},
		   "source": [
			"## Example 3.28: MS28.sce"
		   ]
		  },
  {
"cell_type": "code",
	   "execution_count": null,
	   "metadata": {
	    "collapsed": true
	   },
	   "outputs": [],
"source": [
"// sum 3-28\n",
"clc;\n",
"clear;\n",
"rho=0.0078*9.81*10^-6;\n",
"sigc=150;\n",
"g=9.81;\n",
"V=sqrt(sigc*g/rho)*10^-3;\n",
"R=1;\n",
"w=V/R;\n",
"N=w*60/(2*%pi);\n",
"\n",
"  // printing data in scilab o/p window\n",
"  printf('N is %0.3f rpm    ',N);"
   ]
   }
,
{
		   "cell_type": "markdown",
		   "metadata": {},
		   "source": [
			"## Example 3.29: MS29.sce"
		   ]
		  },
  {
"cell_type": "code",
	   "execution_count": null,
	   "metadata": {
	    "collapsed": true
	   },
	   "outputs": [],
"source": [
"// sum 3-29\n",
"clc;\n",
"clear;\n",
"R1=50;\n",
"R2=200;\n",
"N=6*10^3;\n",
"w=2*%pi*N/60;\n",
"v=0.28;\n",
"rho=7800*10^-9;\n",
"g=9810;\n",
"k1=(3+v)/8;\n",
"k2=(1+(3*v))/8;\n",
"W=rho*9.81;\n",
"x=k1*w^2*W*(R1^2+R2^2)/g;\n",
"y=k1*w^2*W*(R1*R2)^2/g;\n",
"y1=k1*w^2*W/g;\n",
"z=k2*w^2*W/g;\n",
"r=sqrt(R1*R2);\n",
"sigrmax=x-(y/r^2)-(r^2*y1);\n",
"r=50:200\n",
"n=length(r);\n",
"for i=1:n\n",
"    sigr(i)=x-(y/r(i)^2)-(r(i)^2*y1)\n",
"end\n",
"\n",
"for j=1:n\n",
"    sigc(j)=x+(y/r(j)^2)-(r(j)^2*z)\n",
"end\n",
"\n",
"plot (r,sigr);\n",
"plot (r,sigc);\n",
"xtitle('','r mm');\n",
"ylabel('stress  N/mm^2');\n",
"xgrid(2);\n",
"\n",
"  // printing data in scilab o/p window\n",
"  printf('sigrmax is %0.1f MPa  ',sigrmax);"
   ]
   }
,
{
		   "cell_type": "markdown",
		   "metadata": {},
		   "source": [
			"## Example 3.2: MS2.sce"
		   ]
		  },
  {
"cell_type": "code",
	   "execution_count": null,
	   "metadata": {
	    "collapsed": true
	   },
	   "outputs": [],
"source": [
"// sum 3-2\n",
"clc;\n",
"clear;\n",
"d=5;\n",
"A=%pi*d^2/4;\n",
"l=100*10^3;\n",
"W=600;\n",
"E=210*10^3;\n",
"w=0.0784*10^-3;\n",
"del1=W*l/(A*E);\n",
"del2=w*l^2/(2*E);\n",
"del=del1+del2;\n",
"\n",
"  // printing data in scilab o/p window\n",
"  printf('del is %f mm     ',del);"
   ]
   }
,
{
		   "cell_type": "markdown",
		   "metadata": {},
		   "source": [
			"## Example 3.30: MS30.sce"
		   ]
		  },
  {
"cell_type": "code",
	   "execution_count": null,
	   "metadata": {
	    "collapsed": true
	   },
	   "outputs": [],
"source": [
"// sum 3-30\n",
"clc;\n",
"clear;\n",
"r=500;\n",
"to=15;\n",
"N=3500;\n",
"w=2*%pi*N/60;\n",
"sig=80;\n",
"w1=0.07644*10^-3;\n",
"g=9810;\n",
"a=w1*w^2*r^2/(2*sig*g);\n",
"t=to*exp(-a);\n",
"\n",
"  // printing data in scilab o/p window\n",
"  printf('t is %0.3f mm  ',t);"
   ]
   }
,
{
		   "cell_type": "markdown",
		   "metadata": {},
		   "source": [
			"## Example 3.31: MS31.sce"
		   ]
		  },
  {
"cell_type": "code",
	   "execution_count": null,
	   "metadata": {
	    "collapsed": true
	   },
	   "outputs": [],
"source": [
"// sum 3-31\n",
"clc;\n",
"clear;\n",
"M=60*10^3;\n",
"y1=((5*1*2.5)+(6*1*5.5))/(5+6);\n",
"y2=6-y1;\n",
"R=12;\n",
"R1=R-y2;\n",
"R1=10.136\n",
"R2=11.136;\n",
"R3=R1+6;\n",
"B=6;\n",
"b=1;\n",
"A=(B*b)+((B-1)*b);\n",
"//Let x= h^2/R^2\n",
"x=R/A*((B*log(R2/R1))+(b*log(R3/R2)))-1;\n",
"x=1/x;\n",
"//Let Maximum compressive stress at B be sigB\n",
"sigB=M/(A*R)*(1+(x*y1/(R+y1)))*10^-2;\n",
"//Let Maximum tensile stress at A be sigA\n",
"sigA=M/(A*R)*((y2*x/(R-y2))-1)*10^-2;\n",
"// printing data in scilab o/p window\n",
"  printf('sigB is %0.1f MPa     ',sigB);\n",
"  printf('\n sigA is %0.0f MPa     ',sigA);\n",
"  \n",
"  //The answer to R^2/h^2 is calculated incorrectly in the book."
   ]
   }
,
{
		   "cell_type": "markdown",
		   "metadata": {},
		   "source": [
			"## Example 3.32: MS32.sce"
		   ]
		  },
  {
"cell_type": "code",
	   "execution_count": null,
	   "metadata": {
	    "collapsed": true
	   },
	   "outputs": [],
"source": [
"// sum 3-32\n",
"clc;\n",
"clear;\n",
"R1=24;\n",
"R2=30;\n",
"R3=50;\n",
"R4=54;\n",
"F=200;\n",
"y1=((16*4*2)+(2*20*14*4)+(24*6*27))/((16*4)+(2*20*4)+(24*6));\n",
"y2=30-y1;\n",
"R=24+y2;\n",
"A=(24*6)+(2*4*20)+(4*16);\n",
"//Let x= h^2/R^2\n",
"x=R/A*((24*log(R2/R1))+(2*4*log(R3/R2))+(16*log(R4/R3)))-1;\n",
"x=1/x;\n",
"M=F*(60+R);\n",
"sigd=F/A;\n",
"//Let bending stress at a be sigA\n",
"sigA=M/(A*R)*((y2*x/(R-y2))-1);\n",
"//Let bending stress at b be sigB\n",
"sigB=M/(A*R)*(1+(x*y1/(R+y1)));\n",
"//Let resultant at a be Ra\n",
"Ra=(sigA+sigd)*10;\n",
"//Let resultant at b be Rb\n",
"Rb=(sigB-sigd)*10;\n",
"// printing data in scilab o/p window\n",
"  printf('Ra is %0.2f N/mm^2     ',Ra);\n",
"  printf('\n Rb is %0.2f N/mm^2      ',Rb);\n",
"\n",
"//The difference in the answers are due to rounding-off of values."
   ]
   }
,
{
		   "cell_type": "markdown",
		   "metadata": {},
		   "source": [
			"## Example 3.33: MS33.sce"
		   ]
		  },
  {
"cell_type": "code",
	   "execution_count": null,
	   "metadata": {
	    "collapsed": true
	   },
	   "outputs": [],
"source": [
"// sum 3-33\n",
"clc;\n",
"clear;\n",
"F=50;\n",
"B1=4;\n",
"B2=8;\n",
"D=12;\n",
"y1=D/3*(B1+(2*B2))/(B1+B2);\n",
"y2=12-y1;\n",
"R=6+y2;\n",
"A=(B1+B2)/2*D;\n",
"//Let x= h^2/R^2\n",
"a=(B1+((B2-B1)*(y1+R)/D))*log((R+y1)/(R-y2))\n",
"x=R/(A)*(a -(B2-B1));\n",
"x=x-1;\n",
"x=1/x;\n",
"KG=y2+8;\n",
"M=F*KG;\n",
"sigd=F/A;\n",
"//Let bending stress at a be sigA\n",
"sigA=M/(A*R)*(1+(x*y1/(R+y1)));\n",
"//Let bending stress at b be sigB\n",
"sigB=M/(A*R)*((y2*x/(R-y2))-1);\n",
"sigA=(sigA-sigd)*10;\n",
"sigB=(sigB+sigd)*10;\n",
"// printing data in scilab o/p window\n",
"  printf('sigA is %0.2f MPa     ',sigA);\n",
"  printf('\n sigB is %0.2f MPa     ',sigB);\n",
"  \n",
"  //The difference in the answers are due to rounding-off of values.\n",
""
   ]
   }
,
{
		   "cell_type": "markdown",
		   "metadata": {},
		   "source": [
			"## Example 3.3: MS3.sce"
		   ]
		  },
  {
"cell_type": "code",
	   "execution_count": null,
	   "metadata": {
	    "collapsed": true
	   },
	   "outputs": [],
"source": [
"// sum 3-3\n",
"clc;\n",
"clear;\n",
"m=25;\n",
"v=3;\n",
"E=210*10^3;\n",
"KE=0.5*m*v^2;\n",
"d=30;\n",
"L=2000;\n",
"A=%pi*d^2/4;\n",
"U=A*L/(2*E);\n",
"del=4*10^-5*A;\n",
"W=A*del;\n",
"sigi=sqrt(KE*10^3/(W+U));\n",
"\n",
"  // printing data in scilab o/p window\n",
"  printf('del is %f N/mm^2     ',sigi);"
   ]
   }
,
{
		   "cell_type": "markdown",
		   "metadata": {},
		   "source": [
			"## Example 3.4: MS4.sce"
		   ]
		  },
  {
"cell_type": "code",
	   "execution_count": null,
	   "metadata": {
	    "collapsed": true
	   },
	   "outputs": [],
"source": [
"// sum 3-4\n",
"clc;\n",
"clear;\n",
"P=40*10^3;\n",
"A=60*18;\n",
"sig=P/A;\n",
"r1=12;\n",
"b1=60;\n",
"SCF1=1.7;\n",
"sigmax1=sig*SCF1;\n",
"r2=24;\n",
"b2=60;\n",
"SCF2=1.5;\n",
"sigmax2=sig*SCF2;\n",
"\n",
"  // printing data in scilab o/p window\n",
"  printf('sigmax1 is %f N/mm^2     ',sigmax1);\n",
"  printf('\n sigmax2 is %f N/mm^2     ',sigmax2);"
   ]
   }
,
{
		   "cell_type": "markdown",
		   "metadata": {},
		   "source": [
			"## Example 3.5: MS5.sce"
		   ]
		  },
  {
"cell_type": "code",
	   "execution_count": null,
	   "metadata": {
	    "collapsed": true
	   },
	   "outputs": [],
"source": [
"// sum 3-5\n",
"clc;\n",
"clear;\n",
"p=2.4;\n",
"//Let axial movement of nut be La\n",
"La=p*45/360;\n",
"d=20;\n",
"D=30;\n",
"L=500;\n",
"d1=18;\n",
"As=%pi*d1^2/4;\n",
"Ac=%pi*(D^2-d^2)/4;\n",
"sigt=120/(3.543);\n",
"sigb=1.543*sigt;\n",
"\n",
"  // printing data in scilab o/p window\n",
"  printf('sigt is %f N/mm^2     ',sigt);\n",
"  printf('\n sigb is %f N/mm^2     ',sigb);"
   ]
   }
,
{
		   "cell_type": "markdown",
		   "metadata": {},
		   "source": [
			"## Example 3.6: MS6.sce"
		   ]
		  },
  {
"cell_type": "code",
	   "execution_count": null,
	   "metadata": {
	    "collapsed": true
	   },
	   "outputs": [],
"source": [
"// sum 3-6\n",
"clc;\n",
"clear;\n",
"delT=100;\n",
"ab=18*10^-6;\n",
"aa=23*10^-6;\n",
"delta=(360*ab*delT)+(450*aa*delT);\n",
"lc=delta-0.6;\n",
"Ea=70*10^3;\n",
"Eb=105*10^3;\n",
"Aa=1600;\n",
"Ab=1300;\n",
"P=lc/((360/(Ab*Eb))+(450/(Aa*Ea)));\n",
"P=P*10^-3;\n",
"//Let the change in length be delL\n",
"delL=(aa*450*delT)-(P*10^3*450/(Aa*Ea));\n",
"\n",
"  // printing data in scilab o/p window\n",
"  printf('P is %f kN     ',P);\n",
"  printf('\n delL is %f mm     ',delL);\n",
"  \n",
" // The difference in the answer of delL is due to round-off errors."
   ]
   }
,
{
		   "cell_type": "markdown",
		   "metadata": {},
		   "source": [
			"## Example 3.7: MS7.sce"
		   ]
		  },
  {
"cell_type": "code",
	   "execution_count": null,
	   "metadata": {
	    "collapsed": true
	   },
	   "outputs": [],
"source": [
"// sum 3-7\n",
"clc;\n",
"clear;\n",
"a=23*10^-6;\n",
"E=70*10^3;\n",
"l=750;\n",
"sig=35;\n",
"delT=((sig*l/E)+0.8)/(l*a);\n",
"\n",
"  // printing data in scilab o/p window\n",
"  printf('delT is %f degC     ',delT);"
   ]
   }
,
{
		   "cell_type": "markdown",
		   "metadata": {},
		   "source": [
			"## Example 3.8: MS8.sce"
		   ]
		  },
  {
"cell_type": "code",
	   "execution_count": null,
	   "metadata": {
	    "collapsed": true
	   },
	   "outputs": [],
"source": [
"// sum 3-8\n",
"clc;\n",
"clear;\n",
"OA=60;\n",
"AB=30;\n",
"OC=-20;\n",
"CD=-30;\n",
"theta=30;\n",
"angBEK=2*theta;\n",
"OM=14;\n",
"KM=49.5;\n",
"p1=70;\n",
"p2=-30;\n",
"angBEH=-37;\n",
"angBEI=143;\n",
"theta1=angBEH/2;\n",
"theta2=angBEI/2;\n",
"Tmax=50;\n",
"angBEL=53;\n",
"angBEN=233;\n",
"theta3=angBEL/2;\n",
"theta4=angBEN/2;\n",
"// printing data in scilab o/p window\n",
"  printf('Stress on plane AB is %f MPa     ',OM);\n",
"  printf('\n Stress on plane AB is %f MPa     ',KM);\n",
"  printf('\n Principal stress p1 is %f MPa     ',p1);\n",
"  printf('\n Principal stress p2 is %f MPa     ',p2);\n",
"  printf('\n Principal angle theta1 is %f deg     ',theta1);\n",
"  printf('\n Principal angle theta2 is %f deg     ',theta2);\n",
"  printf('\n Maximum shear stress is %f MPa     ',Tmax);\n",
"  printf('\n Direction of plane theta3 is %f deg     ',theta3);\n",
"  printf('\n Direction of plane theta4 is %f deg     ',theta4);\n",
"\n",
"//The answers in the book are written in form of degrees and minutes.\n",
"\n",
"\n",
"\n",
"\n",
""
   ]
   }
,
{
		   "cell_type": "markdown",
		   "metadata": {},
		   "source": [
			"## Example 3.9: MS9.sce"
		   ]
		  },
  {
"cell_type": "code",
	   "execution_count": null,
	   "metadata": {
	    "collapsed": true
	   },
	   "outputs": [],
"source": [
"// sum 3-9\n",
"clc;\n",
"clear;\n",
"E=200*10^3;\n",
"v=0.29;\n",
"E1=720*10^-6;\n",
"E2=560*10^-6;\n",
"p1=121.76;\n",
"p2=-76.69;\n",
"\n",
"  // printing data in scilab o/p window\n",
"  printf('p1 is %f MN/mm^2     ',p1);\n",
"  printf('\n p2 is %f MN/mm^2     ',p2);"
   ]
   }
],
"metadata": {
		  "kernelspec": {
		   "display_name": "Scilab",
		   "language": "scilab",
		   "name": "scilab"
		  },
		  "language_info": {
		   "file_extension": ".sce",
		   "help_links": [
			{
			 "text": "MetaKernel Magics",
			 "url": "https://github.com/calysto/metakernel/blob/master/metakernel/magics/README.md"
			}
		   ],
		   "mimetype": "text/x-octave",
		   "name": "scilab",
		   "version": "0.7.1"
		  }
		 },
		 "nbformat": 4,
		 "nbformat_minor": 0
}
