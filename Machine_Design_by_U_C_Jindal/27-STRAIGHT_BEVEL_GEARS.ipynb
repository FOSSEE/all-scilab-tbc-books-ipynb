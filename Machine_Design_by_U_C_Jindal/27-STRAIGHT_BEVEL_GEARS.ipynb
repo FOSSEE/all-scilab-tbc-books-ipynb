{
"cells": [
 {
		   "cell_type": "markdown",
	   "metadata": {},
	   "source": [
       "# Chapter 27: STRAIGHT BEVEL GEARS"
	   ]
	},
{
		   "cell_type": "markdown",
		   "metadata": {},
		   "source": [
			"## Example 27.1: SBG1.sce"
		   ]
		  },
  {
"cell_type": "code",
	   "execution_count": null,
	   "metadata": {
	    "collapsed": true
	   },
	   "outputs": [],
"source": [
"// sum 27-1\n",
"clc;\n",
"clear;\n",
"P=8000;\n",
"N1=400;\n",
"N2=200;\n",
"i=N1/N2; //i=Zg/Zp=dg/dp\n",
"gamma1=atan(1/i);\n",
"gamma2=90-gamma1;\n",
"rp=200;\n",
"R=rp/sin(gamma1);\n",
"b=0.2*R;\n",
"rm1=rp-(b*sin(gamma1)/2);\n",
"Pt=P*1000*60/(2*%pi*N1*rm1);\n",
"alpha=20*%pi/180;\n",
"Ps=Pt*tan(alpha);\n",
"Pr=Ps*cos(gamma1);\n",
"Pa=Ps*sin(gamma1);\n",
"\n",
"  // printing data in scilab o/p window\n",
"  printf('Pt is %0.0f N  ',Pt);\n",
"  printf('\n Ps is %0.2f N  ',Ps);\n",
"  printf('\n Pr is %0.2f N  ',Pr);\n",
"  printf('\n Pa  is %0.2f N  ',Pa);\n",
"\n",
"//The difference in the values is due to rounding-off of the values."
   ]
   }
,
{
		   "cell_type": "markdown",
		   "metadata": {},
		   "source": [
			"## Example 27.2: SBG2.sce"
		   ]
		  },
  {
"cell_type": "code",
	   "execution_count": null,
	   "metadata": {
	    "collapsed": true
	   },
	   "outputs": [],
"source": [
"// sum 27-2\n",
"clc;\n",
"clear;\n",
"alpha=20*%pi/180;\n",
"Zp=20;\n",
"Zg=36;\n",
"m=4;\n",
"sigut=600;\n",
"b=25;\n",
"dp=m*Zp;\n",
"rp=dp/2;\n",
"dg=m*Zg;\n",
"rg=dg/2;\n",
"gamma1=atan(rp/rg);\n",
"Zpv=Zp/cos(gamma1);\n",
"Y=0.33+0.003*0.88;\n",
"sigb=sigut/3;\n",
"Sb=m*b*sigb*Y;\n",
"\n",
"  // printing data in scilab o/p window\n",
"  printf('Zpv is %0.2f   ',Zpv);\n",
"  printf('\n Sb is %0.0f N  ',Sb);"
   ]
   }
,
{
		   "cell_type": "markdown",
		   "metadata": {},
		   "source": [
			"## Example 27.3: SBG3.sce"
		   ]
		  },
  {
"cell_type": "code",
	   "execution_count": null,
	   "metadata": {
	    "collapsed": true
	   },
	   "outputs": [],
"source": [
"// sum 27-3\n",
"clc;\n",
"clear;\n",
"m=6;\n",
"Zp=30;\n",
"Zg=45;\n",
"dp=m*Zp;\n",
"rp=dp/2;\n",
"dg=m*Zg;\n",
"rg=dg/2;\n",
"R=sqrt(rg^2+rp^2);\n",
"gamma1=180/%pi*asin(rp/R);\n",
"gamma2=(90-gamma1);\n",
"ha=6;\n",
"hf=1.25*ha;\n",
"phi=180/%pi*atan(ha/R);\n",
"beta=180/%pi*atan(hf/R);\n",
"//let Face Cone Angle be FCA\n",
"FCA=(gamma1+phi);\n",
"//Let Root cone angle be RCA\n",
"RCA=(gamma1-beta);\n",
"\n",
"  // printing data in scilab o/p window\n",
"  printf(' gamma1 is %0.1f deg  ',gamma1);\n",
"  printf('\n gamma2 is %0.1f deg  ',gamma2);\n",
"  printf('\n R  is %0.2f mm  ',R);\n",
"  printf('\n FCA  is %0.3f deg  ',FCA);\n",
"  printf('\n RCA  is %0.2f deg  ',RCA);"
   ]
   }
,
{
		   "cell_type": "markdown",
		   "metadata": {},
		   "source": [
			"## Example 27.4: SBG4.sce"
		   ]
		  },
  {
"cell_type": "code",
	   "execution_count": null,
	   "metadata": {
	    "collapsed": true
	   },
	   "outputs": [],
"source": [
"// sum 27-4\n",
"clc;\n",
"clear;\n",
"alpha=20*%pi/180;\n",
"Zp=25;\n",
"Zg=40;\n",
"m=5;\n",
"b=30;\n",
"BHN=400;\n",
"dp=m*Zp;\n",
"rp=dp/2;\n",
"dg=m*Zg;\n",
"rg=dg/2;\n",
"gamma1=atan(rp/rg);\n",
"gamma1=180/%pi*gamma1;\n",
"gamma2=(90-gamma1);\n",
"a=cosd(gamma2);\n",
"Zp1=Zp/cos(gamma1);\n",
"Zg1=Zg/a;\n",
"Q=(2*Zg1)/(Zp1+Zg1);\n",
"K=0.16*(BHN/100)^2;\n",
"Sw=0.75*b*dp*Q*K/cosd(gamma1);\n",
"\n",
"  // printing data in scilab o/p window\n",
"  printf('Sw is %0.1f N  ',Sw);\n",
"  \n",
"  //The difference in the value of Sw is due to rounding-off of the value of Q.\n",
""
   ]
   }
,
{
		   "cell_type": "markdown",
		   "metadata": {},
		   "source": [
			"## Example 27.5: SBG5.sce"
		   ]
		  },
  {
"cell_type": "code",
	   "execution_count": null,
	   "metadata": {
	    "collapsed": true
	   },
	   "outputs": [],
"source": [
"// sum 27-5\n",
"clc;\n",
"clear;\n",
"Zp=20;\n",
"Zg=36;\n",
"m=4;\n",
"b=25;\n",
"BHN=360;\n",
"Np=750;\n",
"FOS=1.75;\n",
"dp=m*Zp;\n",
"rp=dp/2;\n",
"dg=m*Zg;\n",
"rg=dg/2;\n",
"gamma1=atan(dp/dg);\n",
"gamma1=180/%pi*gamma1;\n",
"gamma2=(90-gamma1);\n",
"a=cosd(gamma2);\n",
"Zp1=Zp/cosd(gamma1);\n",
"Zg1=Zg/a;\n",
"Q=(2*Zg1)/(Zp1+Zg1);\n",
"K=0.16*(BHN/100)^2;\n",
"R=sqrt(rp^2+rg^2);\n",
"Y=0.33+0.003*0.86;\n",
"sigut=600;\n",
"sigb=sigut/3;\n",
"Sb=m*b*Y*sigb*(1-(b/R));\n",
"Sw=0.75*b*dp*Q*K/cosd(gamma1);\n",
"\n",
"  // printing data in scilab o/p window\n",
"  printf('Sb is %0.0f N   ',Sb);\n",
"  printf('\n Sw is %0.1f N  ',Sw);\n",
"\n",
"//The answwer to Sb is calculated incorrectly in the book."
   ]
   }
,
{
		   "cell_type": "markdown",
		   "metadata": {},
		   "source": [
			"## Example 27.6: SBG6.sce"
		   ]
		  },
  {
"cell_type": "code",
	   "execution_count": null,
	   "metadata": {
	    "collapsed": true
	   },
	   "outputs": [],
"source": [
"// sum 27-6\n",
"clc;\n",
"clear;\n",
"Dp=300;\n",
"rp=150;\n",
"//Let the angular velocity ratio be i\n",
"i=2/3;\n",
"rg=rp/i;\n",
"Dg=2*rg;\n",
"R=sqrt(rp^2+rg^2);\n",
"P=15000;\n",
"N=300;\n",
"Cs=1.5;\n",
"FOS=2;\n",
"sigb=100;\n",
"gamma1=atan(Dp/Dg);\n",
"gamma1=180/%pi*gamma1;\n",
"gamma2=(90-gamma1);\n",
"v=2*%pi*N*rp/(60*1000);\n",
"Cv=5.6/(5.6+sqrt(v));\n",
"Pt=P/v;\n",
"Peff=Pt*Cs/Cv;\n",
"Sb=Peff*FOS;\n",
"b=R/4;\n",
"//let x=m*Y\n",
"x=Sb/(b*sigb*(1-(b/R)));\n",
"m=6;\n",
"\n",
"  // printing data in scilab o/p window\n",
"  printf('m*Y is %0.3f mm^2  ',x);\n",
"  printf('\n m is %0.0f mm  ',m);"
   ]
   }
,
{
		   "cell_type": "markdown",
		   "metadata": {},
		   "source": [
			"## Example 27.7: SBG7.sce"
		   ]
		  },
  {
"cell_type": "code",
	   "execution_count": null,
	   "metadata": {
	    "collapsed": true
	   },
	   "outputs": [],
"source": [
"// sum 27-7\n",
"clc;\n",
"clear;\n",
"Zp=24;\n",
"Zg=36;\n",
"N=1400;\n",
"P=11600;\n",
"Cs=1.4;\n",
"FOS=2;\n",
"sigut=600;\n",
"sigb=sigut/3;\n",
"gamma1=atan(Zp/Zg);\n",
"gamma1=180/%pi*gamma1;\n",
"gamma2=(90-gamma1);\n",
"a=cosd(gamma2);\n",
"Zp1=Zp/cosd(gamma1);\n",
"Zg1=Zg/a;\n",
"Q=(2*Zg1)/(Zp1+Zg1);\n",
"v=1.76;\n",
"Pt=P/v;\n",
"Cv=5.6/(5.6+sqrt(v));\n",
"Peff=Pt*Cs/Cv;\n",
"x=Peff*FOS;\n",
"Y=0.352+(0.003*0.85);\n",
"y=2*sigb*Y*(1-(6/21.63));\n",
"m=sqrt(x/y);\n",
"// Design is safe for m=4\n",
"m=4;\n",
"b=6*m;\n",
"dp=24*m;\n",
"rp=48;\n",
"dp=dp/cosd(gamma1);\n",
"v=2*%pi*N*rp/(60*1000);\n",
"Cv=5.6/(5.6+sqrt(v));\n",
"Sb=y*m^2;\n",
"//Sw=Sb;\n",
"K=Sb/(0.75*b*dp*Q);\n",
"BHN=sqrt(K/0.16)*100;\n",
"\n",
"  // printing data in scilab o/p window\n",
"  printf('m is %0.0f mm  ',m);\n",
"  printf('\n BHN is %0.0f   ',BHN);\n",
"  \n",
"  //The answwer to BHN is calculated incorrectly in the book."
   ]
   }
,
{
		   "cell_type": "markdown",
		   "metadata": {},
		   "source": [
			"## Example 27.8: SBG8.sce"
		   ]
		  },
  {
"cell_type": "code",
	   "execution_count": null,
	   "metadata": {
	    "collapsed": true
	   },
	   "outputs": [],
"source": [
"// sum 27-8\n",
"clc;\n",
"clear;\n",
"Zp=40;\n",
"Zg=60;\n",
"P=3500;\n",
"N=600;\n",
"Cs=1.5;\n",
"sigb=55;\n",
"gamma1=atan(Zp/Zg);\n",
"gamma1=180/%pi*gamma1;\n",
"gamma2=(90-gamma1);\n",
"a=cosd(gamma2);\n",
"Zp1=Zp/cosd(gamma1);\n",
"Zg1=Zg/a;\n",
"Q=(2*Zg1)/(Zp1+Zg1);\n",
"// Design is safe for m=6\n",
"m=6;\n",
"b=6*m;\n",
"dp=Zp*m;\n",
"rp=dp/2;\n",
"dg=Zg*m;\n",
"rg=dg/2;\n",
"R=sqrt(rp^2+rg^2);\n",
"\n",
"  // printing data in scilab o/p window\n",
"  printf('m is %0.0f mm  ',m);\n",
"  printf('\n b is %0.0f mm  ',b);\n",
"  printf('\n R is %0.0f mm  ',R);"
   ]
   }
],
"metadata": {
		  "kernelspec": {
		   "display_name": "Scilab",
		   "language": "scilab",
		   "name": "scilab"
		  },
		  "language_info": {
		   "file_extension": ".sce",
		   "help_links": [
			{
			 "text": "MetaKernel Magics",
			 "url": "https://github.com/calysto/metakernel/blob/master/metakernel/magics/README.md"
			}
		   ],
		   "mimetype": "text/x-octave",
		   "name": "scilab",
		   "version": "0.7.1"
		  }
		 },
		 "nbformat": 4,
		 "nbformat_minor": 0
}
