{
"cells": [
 {
		   "cell_type": "markdown",
	   "metadata": {},
	   "source": [
       "# Chapter 26: HELICAL GEARS"
	   ]
	},
{
		   "cell_type": "markdown",
		   "metadata": {},
		   "source": [
			"## Example 26.1: HG1.sce"
		   ]
		  },
  {
"cell_type": "code",
	   "execution_count": null,
	   "metadata": {
	    "collapsed": true
	   },
	   "outputs": [],
"source": [
"// sum 26-1\n",
"clc;\n",
"clear;\n",
"Zp=20;\n",
"Zg=50;\n",
"alphan=20*%pi/180;\n",
"phi=15*%pi/180;\n",
"mn=4;\n",
"m=mn/cos(phi);\n",
"alpha=180/%pi*atan(tan(alphan)/(cos(phi)));\n",
"dp=Zp*m;\n",
"dg=Zg*m;\n",
"ha=4;\n",
"hd=1.25*mn;\n",
"//Let addendum circle dia of pinion be Pa\n",
"Pa=dp+(2*mn);\n",
"//Let dedendum circle dia of pinion be Pd\n",
"Pd=dp-(2.5*mn);\n",
"//Let addendum circle dia of gear be Ga\n",
"Ga=dg+(2*mn);\n",
"//Let dedendum circle dia of gear be Gd\n",
"Gd=dg-(2.5*mn);\n",
"b=%pi*mn/sin(phi);\n",
"\n",
"  // printing data in scilab o/p window\n",
"  printf('m is %0.2f mm  ',m);\n",
"  printf('\n alpha is %0.3f deg  ',alpha);\n",
"  printf('\n Pa is %0.1f mm   ',Pa);\n",
"  printf('\n Pd is %0.1f mm   ',Pd);\n",
"  printf('\n Ga is %0.0f mm   ',Ga);\n",
"  printf('\n Gd is %0.0f mm   ',Gd);\n",
"  printf('\n b is %0.2f mm   ',b);"
   ]
   }
,
{
		   "cell_type": "markdown",
		   "metadata": {},
		   "source": [
			"## Example 26.2: HG2.sce"
		   ]
		  },
  {
"cell_type": "code",
	   "execution_count": null,
	   "metadata": {
	    "collapsed": true
	   },
	   "outputs": [],
"source": [
"// sum 26-2\n",
"clc;\n",
"clear;\n",
"P=5000;\n",
"Zp=25;\n",
"Zg=50;\n",
"mn=4;\n",
"alphan=20*%pi/180;\n",
"phi=20*%pi/180;\n",
"N=1200;\n",
"m=mn/cos(phi);\n",
"dp=Zp*m;\n",
"dg=Zg*m;\n",
"v=2*%pi*N*dp/(60*2*1000);\n",
"Pt=P/v;\n",
"Pa=Pt*tan(phi);\n",
"Pr=Pt*tan(alphan)/cos(phi);\n",
"\n",
"  // printing data in scilab o/p window\n",
"  printf('Pt is %0.2f N   ',Pt);\n",
"  printf('\n Pa is %0.1f N  ',Pa);\n",
"  printf('\n Pr is %0.2f N  ',Pr);"
   ]
   }
,
{
		   "cell_type": "markdown",
		   "metadata": {},
		   "source": [
			"## Example 26.3: HG3.sce"
		   ]
		  },
  {
"cell_type": "code",
	   "execution_count": null,
	   "metadata": {
	    "collapsed": true
	   },
	   "outputs": [],
"source": [
"// sum 26-3\n",
"clc;\n",
"clear;\n",
"Zp=24;\n",
"Zg=72;\n",
"alphan=20*%pi/180;\n",
"phi=24*%pi/180;\n",
"N=720;\n",
"mn=5;\n",
"b=50;\n",
"sigut=600;\n",
"BHN=360;\n",
"Cs=1.4;\n",
"FOS=2;\n",
"sigb=sigut/3;\n",
"dp=mn*Zp/cos(phi);\n",
"Zp=Zp/(cos(phi))^3;\n",
"Zg=Zg/(cos(phi))^3;\n",
"Y=0.358+((0.364-0.358)*1.48/2);\n",
"Sb=b*mn*sigb*Y;\n",
"Q=(2*Zg)/(Zp+Zg);\n",
"K=0.16*(BHN/100)^2;\n",
"Sw=b*dp*Q*K/(cos(phi)^2);\n",
"v=2*%pi*N*dp/(60*2*1000);\n",
"Cv=5.6/(5.6+sqrt(v));\n",
"Peff=Sb/FOS;\n",
"Pt=Peff*Cv/Cs;\n",
"P=Pt*v;\n",
"P=P*10^-3;\n",
"\n",
"  // printing data in scilab o/p window\n",
"  printf('P is %0.3f kW   ',P);\n",
"\n",
"//The difference in the value is due to rounding-off of the values."
   ]
   }
,
{
		   "cell_type": "markdown",
		   "metadata": {},
		   "source": [
			"## Example 26.4: HG4.sce"
		   ]
		  },
  {
"cell_type": "code",
	   "execution_count": null,
	   "metadata": {
	    "collapsed": true
	   },
	   "outputs": [],
"source": [
"// sum 26-4\n",
"clc;\n",
"clear;\n",
"Zp=25;\n",
"Zg=100;\n",
"P=5000;\n",
"N=2000;\n",
"alphan=20*%pi/180;\n",
"phi=15*%pi/180;\n",
"sigut=660;\n",
"Cs=1.5;\n",
"FOS=1.8;\n",
"v=10;\n",
"Zp1=Zp/(cos(phi))^3;\n",
"Zg1=Zg/(cos(phi))^3;\n",
"Y=0.348+(0.74*0.004);\n",
"sigb=sigut/3;\n",
"Cv=5.6/(5.6+sqrt(v));\n",
"//Sb=FOS*Peff\n",
"mn=FOS*P*Cs*60*1000*2*cos(phi)/(2*%pi*N*Cv*Zp*12*sigb*Y);\n",
"mn=mn^(1/3);\n",
"mn=2.5;\n",
"dp=mn*Zp/cos(phi);\n",
"Q=(2*Zg)/(Zp+Zg);\n",
"b=12*mn;\n",
"Sb=12*sigb*Y;\n",
"K=Sb*(cos(phi)^2)/(dp*Q*b);\n",
"BHN=sqrt(K/0.16)*100;\n",
"dg=mn*Zg/cos(phi);\n",
"phip=mn+(0.25*sqrt(dp));\n",
"ep=16+(1.25*phip);\n",
"phig=mn+(0.25*sqrt(dg));\n",
"eg=16+(1.25*phig);\n",
"e=ep+eg;\n",
"e=e*10^-3;\n",
"r1=dp/2;\n",
"r2=dg/2;\n",
"Pd=e*N*Zp1*b*r1*r2/(2530*sqrt(r1^2+r2^2));\n",
"v=2*%pi*N*dp/(60*2*1000);\n",
"//Let tangential component be TC\n",
"TC=(Cs*1845/mn)+(Pd*cos(alphan)*cos(phi));\n",
"\n",
"Sb=b*mn*sigb*Y;\n",
"\n",
"  // printing data in scilab o/p window\n",
"  printf('mn is %0.1f mm   ',mn);\n",
"  printf('\n TC is %0.0f N  ',TC);\n",
"  printf('\n Sb is %0.1f N  ',Sb);\n",
"  \n",
"  //The difference in the value  of Sb is due to rounding-off of t"
   ]
   }
],
"metadata": {
		  "kernelspec": {
		   "display_name": "Scilab",
		   "language": "scilab",
		   "name": "scilab"
		  },
		  "language_info": {
		   "file_extension": ".sce",
		   "help_links": [
			{
			 "text": "MetaKernel Magics",
			 "url": "https://github.com/calysto/metakernel/blob/master/metakernel/magics/README.md"
			}
		   ],
		   "mimetype": "text/x-octave",
		   "name": "scilab",
		   "version": "0.7.1"
		  }
		 },
		 "nbformat": 4,
		 "nbformat_minor": 0
}
