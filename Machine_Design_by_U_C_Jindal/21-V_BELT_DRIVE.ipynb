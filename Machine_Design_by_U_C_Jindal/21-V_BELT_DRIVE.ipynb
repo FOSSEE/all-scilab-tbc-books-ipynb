{
"cells": [
 {
		   "cell_type": "markdown",
	   "metadata": {},
	   "source": [
       "# Chapter 21: V BELT DRIVE"
	   ]
	},
{
		   "cell_type": "markdown",
		   "metadata": {},
		   "source": [
			"## Example 21.1: VBELT1.sce"
		   ]
		  },
  {
"cell_type": "code",
	   "execution_count": null,
	   "metadata": {
	    "collapsed": true
	   },
	   "outputs": [],
"source": [
"// sum 21-1\n",
"clc;\n",
"clear;\n",
"P1=12*10^3;\n",
"d=0.3;\n",
"D=0.9;\n",
"C=0.9;\n",
"A=230*10^-6;\n",
"//density is rho\n",
"rho=1100;\n",
"N=1500;\n",
"//Maximum stress is sig\n",
"sig=2.1*10^6;\n",
"//semi groove angle is b\n",
"b=20*%pi/180;\n",
"u=0.22;\n",
"m=rho*A;\n",
"v=2*%pi*N*d/(60*2);\n",
"Tc=m*v^2;\n",
"T1=A*sig;\n",
"//wrap angle is thetaA\n",
"ang=(D-d)/(2*C);\n",
"thetaA=%pi/180*(180-(2*asind(ang)));\n",
"thetaB=((2*%pi)-thetaA);\n",
"x=u*thetaB;\n",
"T2=Tc+((T1-Tc)/exp(x));\n",
"P2=(T1-T2)*v;\n",
"n=P1/P2;\n",
"n=3; //(rounding off to nearest whole number)\n",
"\n",
"  // printing data in scilab o/p window\n",
"  printf('Tc is %0.1f N ',Tc);\n",
"  printf('\n T1 is %0.0f N ',T1);\n",
"  printf('\n T2 is %0.1f N ',T2);\n",
"  printf('\n P2 is %0.0f W ',P2);\n",
"  printf('\n n is %0.0f ',n);\n",
"  \n",
"  "
   ]
   }
,
{
		   "cell_type": "markdown",
		   "metadata": {},
		   "source": [
			"## Example 21.2: VBELT2.sce"
		   ]
		  },
  {
"cell_type": "code",
	   "execution_count": null,
	   "metadata": {
	    "collapsed": true
	   },
	   "outputs": [],
"source": [
"// sum 21-2\n",
"clc;\n",
"clear;\n",
"D=0.6;\n",
"d=0.3;\n",
"C=0.9;\n",
"m=0.193;\n",
"n=2;\n",
"N=1500;\n",
"u=0.3;\n",
"v=2*%pi*N/60*d/2;\n",
"P=150*10^3;\n",
"Tc=m*v^2;\n",
"//let T1-T2=T\n",
"T=P/(n*v);\n",
"thetaA=%pi/180*(180-(2*asind((D-d)/(2*C))));\n",
"thetaB=((2*%pi)-thetaA);\n",
"//Groove angle=b\n",
"b=17.5*%pi/180;\n",
"x=u*thetaA/sin(b);\n",
"y=exp(x);\n",
"c=(Tc*(1-y));\n",
"T2=(T+(Tc*(1-y)))/(y-1);\n",
"//T2=(T-y)/Tc;\n",
"T1=T+Tc;\n",
"Lp=2*sqrt((C^2)-((D-d)/2)^2)+(thetaA*d/2)+(thetaB*D/2);\n",
"v=sqrt(T/(3*m));\n",
"\n",
"  // printing data in scilab o/p window\n",
"  printf('Tc is %0.2f N ',Tc);\n",
"  printf('\n T1 is %0.0f N ',T1);\n",
"  printf('\n T2 is %0.2f N ',T2);\n",
"  printf('\n Lp is %0.3f m ',Lp);\n",
"  printf('\n v is %0.2f m/s ',v);\n",
"  printf('\nThe designation of the belt is B-3251-45 ');\n",
"  \n",
"  //The difference in values of T1 and T2 is due to rounding-off of values."
   ]
   }
,
{
		   "cell_type": "markdown",
		   "metadata": {},
		   "source": [
			"## Example 21.3: VBELT3.sce"
		   ]
		  },
  {
"cell_type": "code",
	   "execution_count": null,
	   "metadata": {
	    "collapsed": true
	   },
	   "outputs": [],
"source": [
"// sum 21-3\n",
"clc;\n",
"clear;\n",
"C=1;\n",
"m=0.35;\n",
"d=0.25;\n",
"P=22*10^3;\n",
"//Let the smaller pulley dia be n\n",
"//Let the larger pulley dia be N\n",
"n=1000;\n",
"N=400;\n",
"D=d*n/N;\n",
"v=2*%pi*n*d/(60*2);\n",
"Tc=m*v^2;\n",
"topwidth=22;\n",
"h=14;\n",
"bottomwidth=topwidth-(2*h*tand(20));\n",
"A=(topwidth+bottomwidth)/2*h;\n",
"//let allowable tension be Ta\n",
"Ta=2.2;\n",
"T1=A*Ta;\n",
"u=0.28;\n",
"thetaA=%pi/180*(180-(2*asind((D-d)/(2*C))));\n",
"thetaB=((2*%pi)-thetaA);\n",
"//Groove angle=b=19\n",
"b=19*%pi/180;\n",
"x=u*thetaA/sin(b);\n",
"T2=Tc+((T1-Tc)/exp(x));\n",
"n=P/((T1-T2)*v);\n",
"Lp=2*sqrt((C^2)-((D-d)/2)^2)+(thetaA*d/2)+(thetaB*D/2);\n",
"\n",
"  // printing data in scilab o/p window\n",
"  printf('Tc is %0.2f N ',Tc);\n",
"  printf('\n T1 is %0.1f N ',T1);\n",
"  printf('\n T2 is %0.1f N ',T2);\n",
"  printf('\n n is %0.1f ',n);\n",
"  printf('\n Lp is %0.3f m ',Lp);\n",
"  printf('\nThe designation of the belt is C-3414-47 ');\n",
"  \n",
" // difference in value of Lp is due to rounding-off the values of thetaA and thetaB."
   ]
   }
,
{
		   "cell_type": "markdown",
		   "metadata": {},
		   "source": [
			"## Example 21.4: VBELT4.sce"
		   ]
		  },
  {
"cell_type": "code",
	   "execution_count": null,
	   "metadata": {
	    "collapsed": true
	   },
	   "outputs": [],
"source": [
"// sum 21-4\n",
"clc;\n",
"clear;\n",
"P=12*10^3;\n",
"Ks=1.1;\n",
"Pd=12*10^3*Ks;\n",
"N=1440;\n",
"B=17;\n",
"t=11;\n",
"d=200;\n",
"i=3;\n",
"D=i*d;\n",
"C=1000;\n",
"// since angle of contact theta is very small\n",
"theta=(D-d)/C;\n",
"theta=theta*180/%pi;\n",
"Kc=0.8;\n",
"Lp=(2*C)+(%pi/2*(D+d))+(((D-d)^2)/(4*C));\n",
"Li=Lp-45;\n",
"Ki=1.1;\n",
"//let number of v-belts required = n\n",
"//let the KW rating be KWR\n",
"KWR=5.23;\n",
"n=(P*Ks)/(KWR*Ks*Ki*10^3);\n",
"n=3;\n",
"\n",
"  // printing data in scilab o/p window\n",
"  printf('D is %0.1f mm ',D);\n",
"  printf('\n C is %0.1f mm ',C);\n",
"  printf('\n n is %0.3f ',n);\n",
"  printf('\n Li is %0.0f mm ',Li)"
   ]
   }
,
{
		   "cell_type": "markdown",
		   "metadata": {},
		   "source": [
			"## Example 21.5: VBELT5.sce"
		   ]
		  },
  {
"cell_type": "code",
	   "execution_count": null,
	   "metadata": {
	    "collapsed": true
	   },
	   "outputs": [],
"source": [
"// sum 21-5\n",
"clc;\n",
"clear;\n",
"N=800;\n",
"P=20;\n",
"i=2.5;\n",
"Ks=1.5; //(from table for 3-5 hrs/day)\n",
"Pd=P*Ks;\n",
"d=250;\n",
"D=i*d;\n",
"C=1.6*D;\n",
"Lp=(2*C)+(%pi*(D+d)/2)+((D-d)^2)/(4*C);\n",
"Li=Lp+74;\n",
"Listd=3454;\n",
"Lp=Listd+74;\n",
"p=[1 -1.0768 0.0175];\n",
"\n",
"function r= myroots (p)\n",
"    \n",
"a= coeff (p ,0);\n",
"b= coeff (p ,1);\n",
"c= coeff (p ,2);\n",
"r(1)=( -b+ sqrt (b^2 -4*a*c ))/(2* a);\n",
"r(2)=( -b- sqrt (b^2 -4*a*c ))/(2* a);\n",
"endfunction\n",
"z=roots(p);\n",
"KW=9.4;\n",
"Kc=0.795;\n",
"K1=1;\n",
"n=Pd/(KW*Kc*K1);\n",
"\n",
"\n",
"  // printing data in scilab o/p window\n",
"  printf('C is %0.4f m ',z);\n",
"  printf('\n Pd is %0.0f KW ',Pd);\n",
"  printf('\n n is %0.2f KW ',n);\n",
"  \n",
"  "
   ]
   }
],
"metadata": {
		  "kernelspec": {
		   "display_name": "Scilab",
		   "language": "scilab",
		   "name": "scilab"
		  },
		  "language_info": {
		   "file_extension": ".sce",
		   "help_links": [
			{
			 "text": "MetaKernel Magics",
			 "url": "https://github.com/calysto/metakernel/blob/master/metakernel/magics/README.md"
			}
		   ],
		   "mimetype": "text/x-octave",
		   "name": "scilab",
		   "version": "0.7.1"
		  }
		 },
		 "nbformat": 4,
		 "nbformat_minor": 0
}
