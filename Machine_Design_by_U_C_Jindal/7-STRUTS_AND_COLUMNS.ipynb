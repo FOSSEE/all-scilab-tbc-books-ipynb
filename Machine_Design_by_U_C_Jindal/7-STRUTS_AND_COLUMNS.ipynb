{
"cells": [
 {
		   "cell_type": "markdown",
	   "metadata": {},
	   "source": [
       "# Chapter 7: STRUTS AND COLUMNS"
	   ]
	},
{
		   "cell_type": "markdown",
		   "metadata": {},
		   "source": [
			"## Example 7.1: SC1.sce"
		   ]
		  },
  {
"cell_type": "code",
	   "execution_count": null,
	   "metadata": {
	    "collapsed": true
	   },
	   "outputs": [],
"source": [
"// sum 7-1\n",
"clc;\n",
"clear;\n",
"sigc=550;\n",
"FOS=4;\n",
"sigw=sigc/FOS;\n",
"l=4000;\n",
"le=l/2;\n",
"A=%pi*(1-0.7^2)/4;\n",
"K=(1+0.7^2)/16;\n",
"Pr=800*10^3;\n",
"a=1/1600;\n",
"D=130; //Rounding off to nearest whole number\n",
"d=D*0.7;\n",
"\n",
"  // printing data in scilab o/p window\n",
"  printf('D is %0.1f mm     ',D);\n",
"  printf('\n d is %0.1f mm     ',d);"
   ]
   }
,
{
		   "cell_type": "markdown",
		   "metadata": {},
		   "source": [
			"## Example 7.2: SC2.sce"
		   ]
		  },
  {
"cell_type": "code",
	   "execution_count": null,
	   "metadata": {
	    "collapsed": true
	   },
	   "outputs": [],
"source": [
"// sum 7-2\n",
"clc;\n",
"clear;\n",
"l=500;\n",
"E=70*10^3;\n",
"P=20*10^3;\n",
"FOS=2;\n",
"d=P*2*12*4*l^2/((%pi)^2*E);\n",
"d=(sqrt(8)*d)^0.25;\n",
"b=d/sqrt(8);\n",
"\n",
"  // printing data in scilab o/p window\n",
"  printf('d is %0.2f mm     ',d);\n",
"  printf('\n b is %0.2f mm     ',b);"
   ]
   }
,
{
		   "cell_type": "markdown",
		   "metadata": {},
		   "source": [
			"## Example 7.3: SC3.sce"
		   ]
		  },
  {
"cell_type": "code",
	   "execution_count": null,
	   "metadata": {
	    "collapsed": true
	   },
	   "outputs": [],
"source": [
"// sum 7-3\n",
"clc;\n",
"clear;\n",
"Ixx=(2*1696.6)+115.4;\n",
"Iyy=1696.6+(2*115.4)+(2*25.27*10.27^2);\n",
"A=3*25.27;\n",
"Kmin=sqrt(Ixx/75.81);\n",
"L=600;\n",
"k=L/Kmin;\n",
"sigc=110;\n",
"c=1/200;\n",
"sigw=sigc*(1-(c*k));\n",
"Pw=sigw*A;\n",
"a=1/7500;\n",
"sigc1=320;\n",
"Pr=(sigc1*A)/(1+(a*(L/Kmin)^2));\n",
"FOS=Pr/Pw;\n",
"\n",
"  // printing data in scilab o/p window\n",
"  printf('FOS is %0.2f      ',FOS);"
   ]
   }
,
{
		   "cell_type": "markdown",
		   "metadata": {},
		   "source": [
			"## Example 7.4: SC4.sce"
		   ]
		  },
  {
"cell_type": "code",
	   "execution_count": null,
	   "metadata": {
	    "collapsed": true
	   },
	   "outputs": [],
"source": [
"// sum 7-4\n",
"clc;\n",
"clear;\n",
"Iyy=193.4+(2*1.2*1.5^3/12);\n",
"E=200*10^3;\n",
"l=500;\n",
"Pe=(%pi^2)*E*Iyy*10^5/(l^2);\n",
"A=35.53+(2*1.2*15);\n",
"sige=Pe/7530;\n",
"k=sqrt(Iyy/A);\n",
"xc=75;\n",
"sig=80;\n",
"sigo=20.875;\n",
"A=A*100;\n",
"P=sigo*A;\n",
"P=P*10^-3;\n",
"\n",
"  // printing data in scilab o/p window\n",
"  printf('P is %0.1f kN     ',P);\n",
"  \n",
"  //The difference in the value of P is due to rounding-off the digits."
   ]
   }
,
{
		   "cell_type": "markdown",
		   "metadata": {},
		   "source": [
			"## Example 7.5: SC5.sce"
		   ]
		  },
  {
"cell_type": "code",
	   "execution_count": null,
	   "metadata": {
	    "collapsed": true
	   },
	   "outputs": [],
"source": [
"// sum 7-5\n",
"clc;\n",
"clear;\n",
"sigc=330;\n",
"a=1/7500;\n",
"t=4;\n",
"A=14.5*t^2;\n",
"l=300;\n",
"Kx=sqrt(1.4626*t^2);\n",
"Pr=sigc*A/(1+(a*(l/Kx)^2));\n",
"FOS=2;\n",
"P=Pr/FOS*10^-3;\n",
"\n",
"  // printing data in scilab o/p window\n",
"  printf('P is %0.4f KN     ',P);"
   ]
   }
,
{
		   "cell_type": "markdown",
		   "metadata": {},
		   "source": [
			"## Example 7.6: SC6.sce"
		   ]
		  },
  {
"cell_type": "code",
	   "execution_count": null,
	   "metadata": {
	    "collapsed": true
	   },
	   "outputs": [],
"source": [
"// sum 7-6\n",
"clc;\n",
"clear;\n",
"P=1500;\n",
"FOS=2;\n",
"Pd=FOS*P;\n",
"l=280;\n",
"E=207*10^3;\n",
"I=Pd*l^2/(%pi^2*E);\n",
"D=(64*I/(%pi*(1-0.8^4)))^(1/4);\n",
"D=8;\n",
"d=6.4;\n",
"\n",
"  // printing data in scilab o/p window\n",
"  printf('D is %0.1f mm     ',D);\n",
"  printf('\n d is %0.1f mm     ',d);"
   ]
   }
,
{
		   "cell_type": "markdown",
		   "metadata": {},
		   "source": [
			"## Example 7.7: SC7.sce"
		   ]
		  },
  {
"cell_type": "code",
	   "execution_count": null,
	   "metadata": {
	    "collapsed": true
	   },
	   "outputs": [],
"source": [
"// sum 7-7\n",
"clc;\n",
"clear;\n",
"D=500;\n",
"p=0.3;\n",
"E=208*10^3;\n",
"sigc=320;\n",
"a=1/7500;\n",
"l=2000;\n",
"le=l/2;\n",
"W=%pi*D^2*p/4;\n",
"FOS=4;\n",
"Wd=W*FOS;\n",
"I=Wd*l^2/(%pi^2*E);\n",
"d=(64*I/%pi)^(1/4);\n",
"A=%pi*d^2/4;\n",
"k=d/4;\n",
"d=45; //Rounding off to nearest whole number\n",
"\n",
"  // printing data in scilab o/p window\n",
"  printf('d is %0.1f mm     ',d);"
   ]
   }
],
"metadata": {
		  "kernelspec": {
		   "display_name": "Scilab",
		   "language": "scilab",
		   "name": "scilab"
		  },
		  "language_info": {
		   "file_extension": ".sce",
		   "help_links": [
			{
			 "text": "MetaKernel Magics",
			 "url": "https://github.com/calysto/metakernel/blob/master/metakernel/magics/README.md"
			}
		   ],
		   "mimetype": "text/x-octave",
		   "name": "scilab",
		   "version": "0.7.1"
		  }
		 },
		 "nbformat": 4,
		 "nbformat_minor": 0
}
