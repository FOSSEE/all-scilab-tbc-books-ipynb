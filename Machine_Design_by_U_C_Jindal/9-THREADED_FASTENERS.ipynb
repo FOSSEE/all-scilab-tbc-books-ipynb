{
"cells": [
 {
		   "cell_type": "markdown",
	   "metadata": {},
	   "source": [
       "# Chapter 9: THREADED FASTENERS"
	   ]
	},
{
		   "cell_type": "markdown",
		   "metadata": {},
		   "source": [
			"## Example 9.10: TF10.sce"
		   ]
		  },
  {
"cell_type": "code",
	   "execution_count": null,
	   "metadata": {
	    "collapsed": true
	   },
	   "outputs": [],
"source": [
"// sum 9-10\n",
"clc;\n",
"clear;\n",
"Pi=10*10^3;\n",
"sigyp=420;\n",
"FOS=2;\n",
"sige=sigyp/FOS;\n",
"K1=0.85;\n",
"K2=0.74;\n",
"K4=0.868;\n",
"SCF=2.4;\n",
"K3=1/SCF;\n",
"sige=sige*K1*K2*K3*K4;\n",
"Pe=10*10^3/3;\n",
"Pmax=Pi+Pe;\n",
"Pmin=Pi;\n",
"Pa=(Pmax-Pmin)/2;\n",
"Pm=(Pmax+Pmin)/2;\n",
"theta=atan(Pa/Pm);\n",
"siga=21.132;\n",
"At=Pa/siga;\n",
"At=84.2;\n",
"\n",
"  // printing data in scilab o/p window\n",
"  printf('At is %0.1f mm^2      ',At);\n",
"  disp('M12 coarse-pitch bolt with 1.75 mm pitch is used');"
   ]
   }
,
{
		   "cell_type": "markdown",
		   "metadata": {},
		   "source": [
			"## Example 9.11: TF11.sce"
		   ]
		  },
  {
"cell_type": "code",
	   "execution_count": null,
	   "metadata": {
	    "collapsed": true
	   },
	   "outputs": [],
"source": [
"// sum 9-11\n",
"clc;\n",
"clear;\n",
"Pi=15;\n",
"Pmax=15+3.75;\n",
"Pmin=15+1.25;\n",
"Pa=(Pmax-Pmin)/2;\n",
"Pm=(Pmax+Pmin)/2;\n",
"K1=0.85;\n",
"K2=0.7;\n",
"K4=0.897;\n",
"SCF=2.4;\n",
"K3=1/SCF;\n",
"sige=900/4*K1*K2*K3*K4;\n",
"siga=28.115;\n",
"At=Pa*10^3/siga;\n",
"At=58;\n",
"\n",
"  // printing data in scilab o/p window\n",
"  printf('At is %0.0f mm^2      ',At);"
   ]
   }
,
{
		   "cell_type": "markdown",
		   "metadata": {},
		   "source": [
			"## Example 9.1: TF1.sce"
		   ]
		  },
  {
"cell_type": "code",
	   "execution_count": null,
	   "metadata": {
	    "collapsed": true
	   },
	   "outputs": [],
"source": [
"// sum 9-1\n",
"clc;\n",
"clear;\n",
"p1=2;\n",
"d=16;\n",
"dt1=d-(0.93825*p1);\n",
"At1=%pi*dt1^2/4;\n",
"p2=1.5;\n",
"d=16;\n",
"dt2=d-(0.93825*p2);\n",
"At2=%pi*dt2^2/4;\n",
"\n",
"  // printing data in scilab o/p window\n",
"  printf('At1 is %0.1f mm^2     ',At1);\n",
"  printf('\n At2 is %0.1f mm^2     ',At2);"
   ]
   }
,
{
		   "cell_type": "markdown",
		   "metadata": {},
		   "source": [
			"## Example 9.2: TF2.sce"
		   ]
		  },
  {
"cell_type": "code",
	   "execution_count": null,
	   "metadata": {
	    "collapsed": true
	   },
	   "outputs": [],
"source": [
"// sum 9-2\n",
"clc;\n",
"clear;\n",
"W=20*10^3;\n",
"n=4;\n",
"//Let the load on each bolt be W1\n",
"W1=W/n;\n",
"At=W1/80;\n",
"\n",
"  // printing data in scilab o/p window\n",
"  printf('At is %0.1f mm^2     ',At);"
   ]
   }
,
{
		   "cell_type": "markdown",
		   "metadata": {},
		   "source": [
			"## Example 9.3: TF3.sce"
		   ]
		  },
  {
"cell_type": "code",
	   "execution_count": null,
	   "metadata": {
	    "collapsed": true
	   },
	   "outputs": [],
"source": [
"// sum 9-3\n",
"clc;\n",
"clear;\n",
"d=18;\n",
"p=2.5;\n",
"dr=d-(1.2268*p);\n",
"dm=(d+dr)/2;\n",
"alpha=atan(p/(%pi*dm));\n",
"theta=%pi*30/180;\n",
"u1=0.15;\n",
"u2=0.13;\n",
"x=(tan(alpha)+(u1/cos(theta)))/(1-(tan(alpha)*u1/cos(theta)));\n",
"K=dm*x/(2*d)+(0.625*u2);\n",
"\n",
"  // printing data in scilab o/p window\n",
"  printf('K is %0.5f      ',K);"
   ]
   }
,
{
		   "cell_type": "markdown",
		   "metadata": {},
		   "source": [
			"## Example 9.4: TF4.sce"
		   ]
		  },
  {
"cell_type": "code",
	   "execution_count": null,
	   "metadata": {
	    "collapsed": true
	   },
	   "outputs": [],
"source": [
"// sum 9-4\n",
"clc;\n",
"clear;\n",
"d=20;\n",
"t=4;\n",
"Lg=84;\n",
"Ad=%pi*d^2/4;\n",
"Eb=205*10^3;\n",
"Ed=105*10^3;\n",
"kb=Ad*Eb/Lg;\n",
"lg=80;\n",
"x=5*(lg+(0.5*d))/(lg+(2.5*d));\n",
"kp=%pi*Ed*d/(2*log(x));\n",
"At=245;\n",
"sigb=105;\n",
"Pe=20*10^3;\n",
"Pb=Pe*kb/(kb+kp);\n",
"sigad=Pb/At;\n",
"finalst=sigb+sigad;\n",
"\n",
"  // printing data in scilab o/p window\n",
"  printf('final stress is %0.2f N/mm^2      ',finalst);"
   ]
   }
,
{
		   "cell_type": "markdown",
		   "metadata": {},
		   "source": [
			"## Example 9.5: TF5.sce"
		   ]
		  },
  {
"cell_type": "code",
	   "execution_count": null,
	   "metadata": {
	    "collapsed": true
	   },
	   "outputs": [],
"source": [
"// sum 9-5\n",
"clc;\n",
"clear;\n",
"Eb=207*10^3;\n",
"Ec=105*10^3;\n",
"sigp=650;\n",
"At=115;\n",
"Pi=0.75*sigp*At;\n",
"F=sigp*At;\n",
"//Let the additional load Fadd\n",
"Padd=F-Pi;\n",
"d=14;\n",
"Ad=%pi*d^2/4;\n",
"Lg=63;\n",
"kb=Ad*Eb/Lg;\n",
"lg=60;\n",
"x=5*(lg+(0.5*d))/(lg+(2.5*d));\n",
"km=%pi*Ec*d/(2*log(x));\n",
"C=kb/(kb+km);\n",
"Pe=Padd/C;\n",
"K=0.2;\n",
"Ti=Pi*K*d*10^-3;\n",
"\n",
"  // printing data in scilab o/p window\n",
"  printf('Ti is %0.2f Nm      ',Ti);"
   ]
   }
,
{
		   "cell_type": "markdown",
		   "metadata": {},
		   "source": [
			"## Example 9.6: TF6.sce"
		   ]
		  },
  {
"cell_type": "code",
	   "execution_count": null,
	   "metadata": {
	    "collapsed": true
	   },
	   "outputs": [],
"source": [
"// sum 9-6\n",
"clc;\n",
"clear;\n",
"d=20;\n",
"sigp=600;\n",
"At=245;\n",
"Pi=120*10^3;\n",
"Pe=30*10^3;\n",
"C=0.35;\n",
"Pb=C*Pe;\n",
"P=Pi+Pb;\n",
"sigi=Pi/At;\n",
"sigf=P/At;\n",
"K=0.18;\n",
"T=K*d*Pi*10^-3;\n",
"E1=sigi/sigp;\n",
"E2=sigf/sigp;\n",
"\n",
"  // printing data in scilab o/p window\n",
"  printf('sigi is %0.1f MPa     ',sigi);\n",
"  printf('\n sigi is %0.2f MPa     ',sigf);\n",
"  printf('\n T is %0.0f Nm     ',T);\n",
"  printf('\n E1 is %0.3f      ',E1);\n",
"  printf('\n E2 is %0.3f      ',E2);\n",
"  \n",
"  //Value upto tenthth place is considered in the book for value of final stress in bolt, 'sigf'"
   ]
   }
,
{
		   "cell_type": "markdown",
		   "metadata": {},
		   "source": [
			"## Example 9.7: TF7.sce"
		   ]
		  },
  {
"cell_type": "code",
	   "execution_count": null,
	   "metadata": {
	    "collapsed": true
	   },
	   "outputs": [],
"source": [
"// sum 9-7\n",
"// The sum sequence is numbered incorrectly in the book, from this sum ownwards.\n",
"clc;\n",
"clear;\n",
"p=2;\n",
"d=16;\n",
"dt=d-(0.938*p);\n",
"At=%pi*dt^2/4;\n",
"r=60*sqrt(2);\n",
"Td=1/(4*At);\n",
"Ta=120;\n",
"T=8.722*10^-3;\n",
"P=Ta/T*10^-3;\n",
"\n",
"  // printing data in scilab o/p window\n",
"  printf('P is %0.3f kN      ',P);\n",
"  \n",
"  //Value upto hundredth place is considered in the book for value of permissible load, 'P'"
   ]
   }
,
{
		   "cell_type": "markdown",
		   "metadata": {},
		   "source": [
			"## Example 9.8: TF8.sce"
		   ]
		  },
  {
"cell_type": "code",
	   "execution_count": null,
	   "metadata": {
	    "collapsed": true
	   },
	   "outputs": [],
"source": [
"// sum 9-8\n",
"clc;\n",
"clear;\n",
"sigyp=460;\n",
"FOS=2;\n",
"Ts=0.577*sigyp/FOS;\n",
"At=245;\n",
"r=100;\n",
"P=Ts*At/1.453*10^-3;\n",
"// Open prob9p8.txt file\n",
"fid = mopen('prob9p8.txt', 'w');\n",
"// error message\n",
"  if (fid == -1)\n",
"    error('cannot open file for writing');\n",
"  end\n",
"  \n",
" mfprintf(fid, 'Problem 9.8 Solution: \nThe eccentric load is %f N       ',P);\n",
" \n",
"  mclose(fid);\n",
"  // printing data in scilab o/p window\n",
"  printf('P is %0.3f kN      ',P);\n",
"  \n",
"  //Value of thousandth place of eccentric load, 'P' is misprinted in the book. "
   ]
   }
,
{
		   "cell_type": "markdown",
		   "metadata": {},
		   "source": [
			"## Example 9.9: TF9.sce"
		   ]
		  },
  {
"cell_type": "code",
	   "execution_count": null,
	   "metadata": {
	    "collapsed": true
	   },
	   "outputs": [],
"source": [
"// sum 9-9\n",
"clc;\n",
"clear;\n",
"P=4*10^3;\n",
"e=200;\n",
"l1=150;\n",
"l2=550;\n",
"sigyp=420;\n",
"FOS=3;\n",
"siga=sigyp/3;\n",
"M=P*e;\n",
"At=12.5;\n",
"At=14.2;\n",
"\n",
"  // printing data in scilab o/p window\n",
"  printf('At is %0.1f mm^2      ',At);"
   ]
   }
],
"metadata": {
		  "kernelspec": {
		   "display_name": "Scilab",
		   "language": "scilab",
		   "name": "scilab"
		  },
		  "language_info": {
		   "file_extension": ".sce",
		   "help_links": [
			{
			 "text": "MetaKernel Magics",
			 "url": "https://github.com/calysto/metakernel/blob/master/metakernel/magics/README.md"
			}
		   ],
		   "mimetype": "text/x-octave",
		   "name": "scilab",
		   "version": "0.7.1"
		  }
		 },
		 "nbformat": 4,
		 "nbformat_minor": 0
}
