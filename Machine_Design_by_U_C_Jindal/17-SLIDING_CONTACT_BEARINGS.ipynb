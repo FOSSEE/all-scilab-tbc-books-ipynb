{
"cells": [
 {
		   "cell_type": "markdown",
	   "metadata": {},
	   "source": [
       "# Chapter 17: SLIDING CONTACT BEARINGS"
	   ]
	},
{
		   "cell_type": "markdown",
		   "metadata": {},
		   "source": [
			"## Example 17.1: SCB1.sce"
		   ]
		  },
  {
"cell_type": "code",
	   "execution_count": null,
	   "metadata": {
	    "collapsed": true
	   },
	   "outputs": [],
"source": [
"// sum 17-1\n",
"clc;\n",
"clear;\n",
"Ta=22;\n",
"u=7/10^9;\n",
"nj=20;\n",
"r=25;\n",
"l=2*r;\n",
"Ao=30000;\n",
"Uo=15.3/10^3;\n",
"c=0.025;\n",
"//specific weight of the material is rho\n",
"rho=8.46*(10^-6);\n",
"Cp=179.8;\n",
"Tf=Ta+(16*%pi^3*u*nj^2*l*r^3/(Uo*Ao*c));\n",
"// avg mean film temperature is Tav\n",
"Tav=(Tf-Ta)/2;\n",
"x= l*c*rho*%pi*r*nj*Cp*10^3;\n",
"y=Ao*Tav*Uo;\n",
"delT=y/x;\n",
"\n",
"  // printing data in scilab o/p window\n",
"  printf('Tav is %0.2f degC ',Tav);\n",
"  printf('\n delT is %0.1f degC ',delT);"
   ]
   }
,
{
		   "cell_type": "markdown",
		   "metadata": {},
		   "source": [
			"## Example 17.2: SCB2.sce"
		   ]
		  },
  {
"cell_type": "code",
	   "execution_count": null,
	   "metadata": {
	    "collapsed": true
	   },
	   "outputs": [],
"source": [
"// sum 17-2\n",
"clc;\n",
"clear;\n",
"l=60;\n",
"d=60;\n",
"r=d/2;\n",
"ho=0.008;\n",
"c=0.04;\n",
"S=0.0446;\n",
"nj=1260/60;\n",
"W=6000;\n",
"p=W/(l*d);\n",
"u=S*(c/r)^2*p/nj;\n",
"u=u*10^9;\n",
"\n",
"  // printing data in scilab o/p window\n",
"  printf('u is %0.3f cP ',u);"
   ]
   }
,
{
		   "cell_type": "markdown",
		   "metadata": {},
		   "source": [
			"## Example 17.3: SCB3.sce"
		   ]
		  },
  {
"cell_type": "code",
	   "execution_count": null,
	   "metadata": {
	    "collapsed": true
	   },
	   "outputs": [],
"source": [
"// sum 17-3\n",
"clc;\n",
"clear;\n",
"d=60;\n",
"r=30;\n",
"l=60;\n",
"c=0.8*10^-3*r;\n",
"ho=0.2*c;\n",
"W=21000/2;\n",
"p=W/(l*d);\n",
"S=0.0446;\n",
"nj=1440/60;\n",
"u=S*(c/r)^2*p/nj;\n",
"u=u*10^9;\n",
"// since Q/(r*nj*l)=4.62\n",
"Q=4.62*r*c*nj*l;\n",
"Q=Q*60/10^6;\n",
"\n",
"  // printing data in scilab o/p window\n",
"  printf('u is %0.3f cP ',u);\n",
"  printf('\n Q is %0.4f lpm ',Q);"
   ]
   }
,
{
		   "cell_type": "markdown",
		   "metadata": {},
		   "source": [
			"## Example 17.4: SCB4.sce"
		   ]
		  },
  {
"cell_type": "code",
	   "execution_count": null,
	   "metadata": {
	    "collapsed": true
	   },
	   "outputs": [],
"source": [
"// sum 17-4\n",
"clc;\n",
"clear;\n",
"l=60;\n",
"d=60;\n",
"r=d/2;\n",
"W=3000;\n",
"p=W/(l*d);\n",
"u=30*10^-9;\n",
"c=0.06;\n",
"nj=1440/60;\n",
"S=(r/c)^2*u*nj/p;\n",
"//For ratio l/d=1, values of different parameters are given in matrix A corresponding to S\n",
"A=[1 0.264 0.6 5.79 3.99\n",
"   1 0.121 0.4 3.22 4.33];\n",
"//let ho/c=x\n",
"x=(A(1,3))-((A(1,3)-(A(2,3)))*((A(1,2))-S)/((A(1,2))-(A(2,2))));\n",
"//let y= (r/c)*f=CFV\n",
"y=(A(1,4))-((A(1,4)-(A(2,4)))*((A(1,2))-S)/((A(1,2))-(A(2,2))));\n",
"//let z=Q/(r*c*nj*l)=FV\n",
"z=(A(1,5))-((A(1,5)-(A(2,5)))*((A(1,2))-S)/((A(1,2))-(A(2,2))));\n",
"f=y*c/r;\n",
"ho=x*c;\n",
"Q=z*r*c*nj*l;\n",
"Q=Q*60/10^6;\n",
"delT=8.3*p*y/z;\n",
"//let power lost in friction be Pf\n",
"Pf=2*%pi*nj*f*W*r/10^6;\n",
"\n",
"  // printing data in scilab o/p window\n",
"  printf('f is %0.5f  ',f);\n",
"  printf('\n ho is %0.3f mm ',ho);\n",
"  printf('\n Q is %0.3f lpm ',Q);\n",
"  printf('\n delT is %0.1f degC ',delT);\n",
"  printf('\n Pf is %0.4f KW ',Pf);"
   ]
   }
,
{
		   "cell_type": "markdown",
		   "metadata": {},
		   "source": [
			"## Example 17.5: SCB5.sce"
		   ]
		  },
  {
"cell_type": "code",
	   "execution_count": null,
	   "metadata": {
	    "collapsed": true
	   },
	   "outputs": [],
"source": [
"// sum 17-5\n",
"clc;\n",
"clear;\n",
"W=22000;\n",
"nj=960/60;\n",
"p=2.4;\n",
"u=20*10^-9;\n",
"d=sqrt(W/p);\n",
"d=96;\n",
"r=d/2;\n",
"l=d;\n",
"S=0.0446;\n",
"pact=W/(l*d);\n",
"//x=r/c;\n",
"x=sqrt(S*pact/(u*nj));\n",
"c=r/x;\n",
"ho=0.2*c;\n",
"Q=r*c*nj*l*4.62;\n",
"Q=Q*60/10^6;\n",
"\n",
"  // printing data in scilab o/p window\n",
"  printf('d is %0.0f mm ',d);\n",
"  printf('\n l is %0.0f mm ',l);\n",
"  printf('\n ho is %0.4f mm ',ho);\n",
"  printf('\n Q is %0.3f lpm ',Q);\n",
"  \n",
"  //The difference in answer to Q is due to rounding -off the value of c."
   ]
   }
,
{
		   "cell_type": "markdown",
		   "metadata": {},
		   "source": [
			"## Example 17.6: SCB6.sce"
		   ]
		  },
  {
"cell_type": "code",
	   "execution_count": null,
	   "metadata": {
	    "collapsed": true
	   },
	   "outputs": [],
"source": [
"// sum 17-6\n",
"clc;\n",
"clear;\n",
"W=400*10^3;\n",
"Ro=200;\n",
"Ri=160;\n",
"ho=0.1;\n",
"t=150;\n",
"// specific gravity is rho\n",
"rho=0.86;\n",
"pi=2*W*log(Ro/Ri)/(%pi*(Ro^2-Ri^2));\n",
"zk=(0.22*t)-(180/t);\n",
"z=rho*zk;\n",
"u=z/(10^9);\n",
"Q=%pi*pi*ho^3/(6*u*log(Ro/Ri));\n",
"Q=Q*60/10^6;\n",
"\n",
"  // printing data in scilab o/p window\n",
"  printf('pi is %0.3f MPa ',pi);\n",
"  printf('\n Q is %0.2f lpm ',Q);\n",
"  \n",
"  //The difference in answer to Q is due to rounding -off of values."
   ]
   }
,
{
		   "cell_type": "markdown",
		   "metadata": {},
		   "source": [
			"## Example 17.7: SCB7.sce"
		   ]
		  },
  {
"cell_type": "code",
	   "execution_count": null,
	   "metadata": {
	    "collapsed": true
	   },
	   "outputs": [],
"source": [
"//sum 17-7\n",
"clc;\n",
"clear;\n",
"//let number of pads be n\n",
"n=4;\n",
"W=100*10^3;\n",
"Ro=125;\n",
"Ri=50;\n",
"t=200;\n",
"ho=0.15;\n",
"pi=2*W*log(Ro/Ri)/(%pi*(Ro^2-Ri^2));\n",
"zk=(0.22*t)-(180/t);\n",
"// specific gravity is rho\n",
"rho=0.86;\n",
"z=rho*zk;\n",
"u=z/(10^9);\n",
"Q=%pi*pi*ho^3/(6*u*log(Ro/Ri));\n",
"Q=Q*60/10^6;\n",
"\n",
"  // printing data in scilab o/p window\n",
"  printf('pi is %0.2f MPa ',pi);\n",
"  printf('\n Q is %0.3f lpm ',Q);"
   ]
   }
],
"metadata": {
		  "kernelspec": {
		   "display_name": "Scilab",
		   "language": "scilab",
		   "name": "scilab"
		  },
		  "language_info": {
		   "file_extension": ".sce",
		   "help_links": [
			{
			 "text": "MetaKernel Magics",
			 "url": "https://github.com/calysto/metakernel/blob/master/metakernel/magics/README.md"
			}
		   ],
		   "mimetype": "text/x-octave",
		   "name": "scilab",
		   "version": "0.7.1"
		  }
		 },
		 "nbformat": 4,
		 "nbformat_minor": 0
}
