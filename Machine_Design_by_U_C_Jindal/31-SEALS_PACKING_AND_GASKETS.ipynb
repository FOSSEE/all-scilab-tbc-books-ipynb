{
"cells": [
 {
		   "cell_type": "markdown",
	   "metadata": {},
	   "source": [
       "# Chapter 31: SEALS PACKING AND GASKETS"
	   ]
	},
{
		   "cell_type": "markdown",
		   "metadata": {},
		   "source": [
			"## Example 31.1: SPG1.sce"
		   ]
		  },
  {
"cell_type": "code",
	   "execution_count": null,
	   "metadata": {
	    "collapsed": true
	   },
	   "outputs": [],
"source": [
"// sum 31-1\n",
"clc;\n",
"clear;\n",
"d=18;\n",
"lg=25+25;\n",
"Eb=210*10^3;\n",
"Ecl=90*10^3;\n",
"A=%pi*d^2/4;\n",
"kb=A*Eb/lg;\n",
"x=(5*(lg+(0.5*d))/(lg+(2.5*d)));\n",
"km=%pi*Ecl*d/(2*log(x));\n",
"C=kb/(kb+km);\n",
"sigp=600;\n",
"At=192;\n",
"Pi=0.75*sigp*At;\n",
"F=200;\n",
"C=0.322;\n",
"Pb=F*C*10^3;\n",
"FOS=2;\n",
"W=At*sigp;\n",
"N=Pb*FOS/(W-Pi);\n",
"\n",
"  // printing data in scilab o/p window\n",
"  printf('N is %0.2f      ',N);"
   ]
   }
,
{
		   "cell_type": "markdown",
		   "metadata": {},
		   "source": [
			"## Example 31.2: SPG2.sce"
		   ]
		  },
  {
"cell_type": "code",
	   "execution_count": null,
	   "metadata": {
	    "collapsed": true
	   },
	   "outputs": [],
"source": [
"// sum 31-2\n",
"clc;\n",
"clear;\n",
"d=16;\n",
"D=1.5*d;\n",
"t=20;\n",
"tg=4;\n",
"//Let Gasket diameter in compression zone be d1\n",
"d1=D+(2*t)+tg;\n",
"lg=40;\n",
"E=207*10^3;\n",
"kb=%pi*d^2*E/(lg*4);\n",
"Ecl=90*10^3;\n",
"x=(5*(lg+(0.5*d))/(lg+(2.5*d)));\n",
"kp=%pi*Ecl*d/(2*log(x));\n",
"Ag=%pi*(d1^2-d^2)/4;\n",
"Eg=480;\n",
"kg=Ag*Eg/tg;\n",
"km=kg*kp/(kg+kp);\n",
"C=kb/(kb+km);\n",
"At=157;\n",
"sigp=600;\n",
"Pi=0.75*At*sigp/2;\n",
"FOS=2;\n",
"Pf=At*sigp/FOS;\n",
"W=Pf-Pi;\n",
"P=W/C;\n",
"N=5;\n",
"F=P*N;\n",
"p=F*4/(%pi*120^2);\n",
"\n",
"  // printing data in scilab o/p window\n",
"  printf('p is %0.3f N/mm^2     ',p);"
   ]
   }
,
{
		   "cell_type": "markdown",
		   "metadata": {},
		   "source": [
			"## Example 31.3: SPG3.sce"
		   ]
		  },
  {
"cell_type": "code",
	   "execution_count": null,
	   "metadata": {
	    "collapsed": true
	   },
	   "outputs": [],
"source": [
"// sum 31-3\n",
"clc;\n",
"clear;\n",
"sigp=600;\n",
"FOS=3;\n",
"siga=sigp/FOS;\n",
"d=16;\n",
"D=1.5*d+60;\n",
"//Let Gasket diameter in compression zone be d1\n",
"d1=(300-160)/2;\n",
"//Let compressive stress in gasket for leak proof joint be sigl\n",
"sigl=12;\n",
"At=[1 157; 2 192; 3 245]\n",
"d=[1 16; 2 18; 3 20]\n",
"\n",
"n=3;\n",
"for (i=1:n)\n",
"    Pi(i,2)=At(i,2)*d(i,2)\n",
"    Pc(i,2)=3*%pi*(d1^2-d(i,2)^2)\n",
"    if (Pi(i,2)>=Pc(i,2)) then\n",
"    printf('The Design is safe')\n",
"end\n",
"end\n",
"\n",
"\n",
"\n",
"  // printing data in scilab o/p window\n",
"  printf('d is %0.0f mm     ',d(i,2));"
   ]
   }
],
"metadata": {
		  "kernelspec": {
		   "display_name": "Scilab",
		   "language": "scilab",
		   "name": "scilab"
		  },
		  "language_info": {
		   "file_extension": ".sce",
		   "help_links": [
			{
			 "text": "MetaKernel Magics",
			 "url": "https://github.com/calysto/metakernel/blob/master/metakernel/magics/README.md"
			}
		   ],
		   "mimetype": "text/x-octave",
		   "name": "scilab",
		   "version": "0.7.1"
		  }
		 },
		 "nbformat": 4,
		 "nbformat_minor": 0
}
