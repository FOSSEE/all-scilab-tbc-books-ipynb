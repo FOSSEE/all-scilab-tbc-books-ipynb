{
"cells": [
 {
		   "cell_type": "markdown",
	   "metadata": {},
	   "source": [
       "# Chapter 28: WORM AND WORM WHEEL SET"
	   ]
	},
{
		   "cell_type": "markdown",
		   "metadata": {},
		   "source": [
			"## Example 28.1: WWS1.sce"
		   ]
		  },
  {
"cell_type": "code",
	   "execution_count": null,
	   "metadata": {
	    "collapsed": true
	   },
	   "outputs": [],
"source": [
"// sum 28-1\n",
"clc;\n",
"clear;\n",
"Z1=1;\n",
"Z2=30;\n",
"q=10;\n",
"m=5;\n",
"d=q*m;\n",
"D=m*Z2;\n",
"//let the speed reduction ratio be G\n",
"G=Z2/Z1;\n",
"CD=(d+D)/2;\n",
"\n",
"  // printing data in scilab o/p window\n",
"  printf('G is %0.0f   ',G);\n",
"  printf('\n CD is %0.0f mm  ',CD);\n",
"  printf('\n d  is %0.0f mm  ',d);\n",
"  printf('\n D  is %0.0f mm  ',D);"
   ]
   }
,
{
		   "cell_type": "markdown",
		   "metadata": {},
		   "source": [
			"## Example 28.2: WWS2.sce"
		   ]
		  },
  {
"cell_type": "code",
	   "execution_count": null,
	   "metadata": {
	    "collapsed": true
	   },
	   "outputs": [],
"source": [
"// sum 28-2\n",
"clc;\n",
"clear;\n",
"Z1=1;\n",
"Z2=52;\n",
"q=10;\n",
"m=8;\n",
"i=Z2/Z1;\n",
"CD=((m*q)+(m*Z2))/2;\n",
"lambda=atan(Z1/q);\n",
"d=q*m;\n",
"da=m*(q+2);\n",
"df=m*(q+2-(4.4*cos(lambda)));\n",
"pa=m*%pi;\n",
"D=m*Z2;\n",
"Da=m*(Z2+(4*cos(lambda))-2);\n",
"Df=m*(Z2-2-(0.4*cos(lambda)));\n",
"\n",
"  // printing data in scilab o/p window\n",
"  printf(' i is %0.0f   ',i);\n",
"  printf('\n CD is %0.0f mm  ',CD);\n",
"  printf('\n pa is %0.2f mm  ',pa);\n",
"  printf('\n da is %0.0f mm  ',da);\n",
"  printf('\n df is %0.3f mm  ',df);\n",
"  printf('\n Da is %0.3f mm  ',Da);\n",
"  printf('\n Df is %0.3f mm  ',Df);"
   ]
   }
,
{
		   "cell_type": "markdown",
		   "metadata": {},
		   "source": [
			"## Example 28.3: WWS3.sce"
		   ]
		  },
  {
"cell_type": "code",
	   "execution_count": null,
	   "metadata": {
	    "collapsed": true
	   },
	   "outputs": [],
"source": [
"// sum 28-3\n",
"clc;\n",
"clear;\n",
"Z1=2;\n",
"Z2=60;\n",
"q=10;\n",
"m=5;\n",
"P=6000;\n",
"N=1440;\n",
"u=0.08;\n",
"alpha=20*%pi/180;\n",
"lambda=atan(Z1/q);\n",
"d=m*q;\n",
"w=2*%pi*N/60;\n",
"T=P/w;\n",
"Ptw=T*10^3/(d/2);\n",
"a=cos(alpha);\n",
"b=cos(lambda);\n",
"x=sin(alpha);\n",
"y=sin(lambda);\n",
"Paw=Ptw*(((a*b)-(u*y))/((a*y)+(u*b)));\n",
"Prw=Ptw*y/((a*y)+(u*b));\n",
"//Paw=Ptw*((cos(alpha)*cos(lambda))-(u*sin(lambda)))/((cos(alpha)*sin(lambda))+(u*cos(lambda)));\n",
"//Prw=Ptw*((sin(alpha))/((cos(alpha)*sin(lambda))+(u*cos(lambda))));\n",
"\n",
"  // printing data in scilab o/p window\n",
"  printf('Ptw=Pag is %0.1f N  ',Ptw);\n",
"  printf('\n Paw=Ptg is %0.0f N  ',Paw);\n",
"  printf('\n Prw=Prg  is %0.0f N  ',Prw);\n",
"  \n",
"//The difference in the value is due to rounding-off the values."
   ]
   }
,
{
		   "cell_type": "markdown",
		   "metadata": {},
		   "source": [
			"## Example 28.4: WWS4.sce"
		   ]
		  },
  {
"cell_type": "code",
	   "execution_count": null,
	   "metadata": {
	    "collapsed": true
	   },
	   "outputs": [],
"source": [
"// sum 28-4\n",
"clc;\n",
"clear;\n",
"Z1=2;\n",
"Z2=40;\n",
"q=8;\n",
"m=5;\n",
"d=q*m;\n",
"P=1.2;\n",
"lambda=atan(Z1/q);\n",
"N=1000;\n",
"Vt=2*%pi*N*20/(60*1000);\n",
"Vs=Vt/cos(lambda);\n",
"u=0.032;\n",
"alpha=20*%pi/180;\n",
"x=cos(alpha);\n",
"y=tan(lambda);\n",
"z=(cos(lambda))/sin(lambda);\n",
"n=(x-(u*y))/(x+(u*z));\n",
"//Let power output be Po\n",
"Po=P*n;\n",
"//Let power lost in friction be Pf\n",
"Pf=P-Po;\n",
"\n",
"  // printing data in scilab o/p window\n",
"  printf('P is %0.1f kW  ',P);\n",
"  printf('\n Po is %0.3f kW  ',Po);\n",
"  printf('\n Pf is %0.3f kW  ',Pf);\n",
"  "
   ]
   }
,
{
		   "cell_type": "markdown",
		   "metadata": {},
		   "source": [
			"## Example 28.5: WWS5.sce"
		   ]
		  },
  {
"cell_type": "code",
	   "execution_count": null,
	   "metadata": {
	    "collapsed": true
	   },
	   "outputs": [],
"source": [
"// sum 28-5\n",
"clc;\n",
"clear;\n",
"Z1=2;\n",
"Z2=54;\n",
"q=10;\n",
"m=8;\n",
"P=4000;\n",
"A=1.8;\n",
"K=16;\n",
"N=1000;\n",
"u=0.028;\n",
"lambda=atan(Z1/q);\n",
"alpha=20*%pi/180;\n",
"d=m*q;\n",
"Vt=2*%pi*N*d/(2*60*1000);\n",
"Vs=Vt/cos(lambda);\n",
"x=cos(alpha);\n",
"y=tan(lambda);\n",
"z=(cos(lambda))/sin(lambda);\n",
"n=(x-(u*y))/(x+(u*z));\n",
"delT=P*(1-n)/(K*A);\n",
"\n",
"  // printing data in scilab o/p window\n",
"  printf('n is %0.3f   ',n);\n",
"  printf('\n delT is %0.2f deg  ',delT);"
   ]
   }
,
{
		   "cell_type": "markdown",
		   "metadata": {},
		   "source": [
			"## Example 28.6: WWS6.sce"
		   ]
		  },
  {
"cell_type": "code",
	   "execution_count": null,
	   "metadata": {
	    "collapsed": true
	   },
	   "outputs": [],
"source": [
"//sum 28-6\n",
"clc;\n",
"clear;\n",
"Z1=1;\n",
"Z2=30;\n",
"q=10;\n",
"m=6;\n",
"//Let the ultimate strength of gear is sigut\n",
"//Let the allowable strenth of wheel is sigb\n",
"sigut=450;\n",
"sigb=84;\n",
"N=1200;\n",
"n=N/Z2;\n",
"alpha=20*%pi/180;\n",
"d=m*q;\n",
"D=Z2*m;\n",
"b=3*d/4;\n",
"V=2*%pi*n*D/(2*60*1000);\n",
"Cv=6/(6+V);\n",
"y=0.154-(0.912/Z2);\n",
"Y=%pi*y;\n",
"Sb=sigb*b*Cv*m*Y;\n",
"K=0.415;\n",
"Sw=b*D*K;\n",
"\n",
"  // printing data in scilab o/p window\n",
"  printf('Sb is %0.0f N  ',Sb);\n",
"  printf('\n Sw is %0.0f N  ',Sw);\n",
"\n",
"//The difference in the value of Sb is due to rounding-off the values."
   ]
   }
],
"metadata": {
		  "kernelspec": {
		   "display_name": "Scilab",
		   "language": "scilab",
		   "name": "scilab"
		  },
		  "language_info": {
		   "file_extension": ".sce",
		   "help_links": [
			{
			 "text": "MetaKernel Magics",
			 "url": "https://github.com/calysto/metakernel/blob/master/metakernel/magics/README.md"
			}
		   ],
		   "mimetype": "text/x-octave",
		   "name": "scilab",
		   "version": "0.7.1"
		  }
		 },
		 "nbformat": 4,
		 "nbformat_minor": 0
}
