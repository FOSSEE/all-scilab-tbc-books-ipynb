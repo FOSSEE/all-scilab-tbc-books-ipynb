{
"cells": [
 {
		   "cell_type": "markdown",
	   "metadata": {},
	   "source": [
       "# Chapter 25: GEARS"
	   ]
	},
{
		   "cell_type": "markdown",
		   "metadata": {},
		   "source": [
			"## Example 25.1: G1.sce"
		   ]
		  },
  {
"cell_type": "code",
	   "execution_count": null,
	   "metadata": {
	    "collapsed": true
	   },
	   "outputs": [],
"source": [
"// sum 25-1\n",
"clc;\n",
"clear;\n",
"Zp=25;\n",
"Zg=60;\n",
"m=5;\n",
"dp=m*Zp;\n",
"dg=m*Zg;\n",
"CD=(dp+dg)/2;\n",
"ha=m;\n",
"hf=1.25*m;\n",
"c=hf-ha;\n",
"r=0.4*m;\n",
"\n",
"  // printing data in scilab o/p window\n",
"  printf('dp is %0.0f mm  ',dp);\n",
"  printf('\n dg is %0.0f mm  ',dg);\n",
"  printf('\n CD is %0.1f mm   ',CD);\n",
"  printf('\n ha is %0.0f mm   ',ha);\n",
"  printf('\n hf is %0.2f mm   ',hf);\n",
"  printf('\n c is %0.2f mm   ',c);\n",
"  printf('\n r is %0.0f mm   ',r);"
   ]
   }
,
{
		   "cell_type": "markdown",
		   "metadata": {},
		   "source": [
			"## Example 25.2: G2.sce"
		   ]
		  },
  {
"cell_type": "code",
	   "execution_count": null,
	   "metadata": {
	    "collapsed": true
	   },
	   "outputs": [],
"source": [
"// sum 25-2\n",
"clc;\n",
"clear;\n",
"N=800;\n",
"P=6000;\n",
"n=200;\n",
"Cs=1.4;\n",
"sigb=150;\n",
"FOS=2;\n",
"Zp=18;\n",
"Zg=Zp*N/n;\n",
"Y=%pi*(0.154-(0.912/Zp));\n",
"p=[1 0 -9.5846 -38.135];\n",
"\n",
"function r= myroots (p)\n",
"    \n",
"a= coeff (p ,0);\n",
"b= coeff (p ,1);\n",
"c= coeff (p ,2);\n",
"d= coeff (p, 3);\n",
"r(1)=( -b+ sqrt (b^2 -4*a*c ))/(2* a);\n",
"r(2)=( -b- sqrt (b^2 -4*a*c ))/(2* a);\n",
"endfunction\n",
"m=roots(p);\n",
"m=4.5;\n",
"dp=m*Zp;\n",
"dg=m*Zg;\n",
"// printing data in scilab o/p window\n",
"  printf('dp is %0.0f mm  ',dp);\n",
"  printf('\n dg is %0.0f mm  ',dg);"
   ]
   }
,
{
		   "cell_type": "markdown",
		   "metadata": {},
		   "source": [
			"## Example 25.3: G3.sce"
		   ]
		  },
  {
"cell_type": "code",
	   "execution_count": null,
	   "metadata": {
	    "collapsed": true
	   },
	   "outputs": [],
"source": [
"// sum 25-3\n",
"clc;\n",
"clear;\n",
"Zp=30;\n",
"N=1000;\n",
"Zg=75;\n",
"m=5;\n",
"b=60;\n",
"sigut=450;\n",
"BHN=350;\n",
"Cs=1.5;\n",
"FOS=2;\n",
"dp=m*Zp;\n",
"dg=m*Zg;\n",
"v=2*%pi*N*dp/(60*1000*2);\n",
"Cv=3/(3+v);\n",
"sigb=450/3;\n",
"Y=0.358;\n",
"Sb=m*b*sigb*Y;\n",
"Q=(2*Zg)/(Zp+Zg);\n",
"K=0.16*(BHN/100)^2;\n",
"Sw=b*dp*Q*K;\n",
"Pt=Sb*Cv/(Cs*FOS);\n",
"P=Pt*v;\n",
"P=P*10^-3;\n",
"\n",
"  // printing data in scilab o/p window\n",
"  printf('Sb is %0.0f N   ',Sb);\n",
"  printf('\n Sw is %0.0f N  ',Sw);\n",
"  printf('\n P is %0.3f kW  ',P);\n",
"\n",
"//The difference in the value of Sw is due to rounding-off of the value of Q."
   ]
   }
,
{
		   "cell_type": "markdown",
		   "metadata": {},
		   "source": [
			"## Example 25.4: G4.sce"
		   ]
		  },
  {
"cell_type": "code",
	   "execution_count": null,
	   "metadata": {
	    "collapsed": true
	   },
	   "outputs": [],
"source": [
"// sum 25-4\n",
"clc;\n",
"clear;\n",
"n=240;\n",
"P=8000;\n",
"N=1200;\n",
"CD=300;\n",
"Cs=1.5;\n",
"alpha=20*%pi/180;\n",
"G=N/n;\n",
"dp=CD*2/6;\n",
"dg=5*dp;\n",
"v=2*%pi*N*dp/(60*1000*2);\n",
"Cv=3/(3+v);\n",
"Pt=P/v;\n",
"Peff=Pt*Cs/Cv;\n",
"m=4;\n",
"b=10*m;\n",
"FOS=2;\n",
"Sb=Peff*FOS;\n",
"sigut=600;\n",
"sigb=sigut/3;\n",
"Zp=dp/m;\n",
"Zg=dg/m;\n",
"Q=(2*Zg)/(Zp+Zg);\n",
"K=Sb/(b*dp*Q);\n",
"BHN=sqrt(K/0.16)*100;\n",
"BHN=333;\n",
"\n",
"  // printing data in scilab o/p window\n",
"  printf('BHN is %0.0f    ',BHN);"
   ]
   }
,
{
		   "cell_type": "markdown",
		   "metadata": {},
		   "source": [
			"## Example 25.5: G5.sce"
		   ]
		  },
  {
"cell_type": "code",
	   "execution_count": null,
	   "metadata": {
	    "collapsed": true
	   },
	   "outputs": [],
"source": [
"// sum 25-5\n",
"clc;\n",
"clear;\n",
"alpha=20*%pi/180;\n",
"N=800;\n",
"P=6000;\n",
"sigut=450;\n",
"i=5;\n",
"Cs=1.3;\n",
"v=3.6;\n",
"FOS=2;\n",
"Pt=P/v;\n",
"Cv=3/(3+v);\n",
"sigb=sigut/3;\n",
"dp=3.6*1000*2*60/(2*%pi*N);\n",
"dp=86;\n",
"Sb=Pt*Cs/Cv*FOS;\n",
"//Let x be m^2*Y\n",
"x=Sb/(10*sigb);\n",
"m=5;\n",
"Zp=18;\n",
"dp=m*Zp;\n",
"Zg=i*Zp;\n",
"dg=m*Zg;\n",
"b=10*m;\n",
"phip=m+(0.25*sqrt(dp));\n",
"ep=32+(2.5*phip);\n",
"phig=m+(0.25*sqrt(dg));\n",
"eg=32+(2.5*phig);\n",
"e=ep+eg;\n",
"e=e*10^-3;\n",
"Ps=Cs*Pt;\n",
"r1=dp/2;\n",
"r2=dg/2;\n",
"Pd=e*N*Zp*b*r1*r2/(2530*sqrt(r1^2+r2^2));\n",
"Q=(2*Zg)/(Zp+Zg);\n",
"K=Sb/(b*dp*Q);\n",
"BHN=sqrt(K/0.16)*100;\n",
"\n",
"  // printing data in scilab o/p window\n",
"  printf('Ps is %0.2f N   ',Ps);\n",
"  printf('\n Pd is %0.1f N   ',Pd);\n",
"  printf('\n BHN is %0.0f   ',BHN);"
   ]
   }
,
{
		   "cell_type": "markdown",
		   "metadata": {},
		   "source": [
			"## Example 25.6: G6.sce"
		   ]
		  },
  {
"cell_type": "code",
	   "execution_count": null,
	   "metadata": {
	    "collapsed": true
	   },
	   "outputs": [],
"source": [
"// sum 25-4\n",
"clc;\n",
"clear;\n",
"P=9000;\n",
"N=900;\n",
"n=150;\n",
"sigut=750;\n",
"BHN=300;\n",
"Cs=1.5;\n",
"FOS=2;\n",
"i=N/n;\n",
"x=sqrt(i);\n",
"Zp=18;\n",
"Zg=x*Zp;\n",
"Zg=44;\n",
"//Let actual speed reduction be xa\n",
"xa=Zg/Zp;\n",
"n1=N/xa^2;\n",
"T1=P*60/(2*%pi*N);\n",
"i2=N/xa;\n",
"T2=N/i2*T1;\n",
"m=6;\n",
"dp=Zp*m;\n",
"dg=m*Zg;\n",
"phip=m+(0.25*sqrt(dp));\n",
"ep=16+(1.25*phip);\n",
"phig=m+(0.25*sqrt(dg));\n",
"eg=16+(1.25*phig);\n",
"e=ep+eg;\n",
"e=e*10^-3;\n",
"Pt=26000;\n",
"Ps=Cs*Pt;\n",
"r1=dp/2;\n",
"r2=dg/2;\n",
"b=10*m;\n",
"Pd=e*i2*Zp*b*r1*r2/(2530*sqrt(r1^2+r2^2));\n",
"Q=(2*Zg)/(Zp+Zg);\n",
"sigb=sigut/3;\n",
"Y=0.308;\n",
"\n",
"Sb=b*m*sigb*Y;\n",
"K=0.16*(BHN/100)^2;\n",
"Sw=b*dp*K*Q;\n",
"\n",
"  // printing data in scilab o/p window\n",
"  printf('m is %0.0f mm   ',m);\n",
"  printf('\n Pd is %0.3f N   ',Pd);\n",
"  printf('\n Sw is %0.0f N   ',Sw);\n",
"  \n",
"  //The difference in the values is due to rounding-off of the values."
   ]
   }
],
"metadata": {
		  "kernelspec": {
		   "display_name": "Scilab",
		   "language": "scilab",
		   "name": "scilab"
		  },
		  "language_info": {
		   "file_extension": ".sce",
		   "help_links": [
			{
			 "text": "MetaKernel Magics",
			 "url": "https://github.com/calysto/metakernel/blob/master/metakernel/magics/README.md"
			}
		   ],
		   "mimetype": "text/x-octave",
		   "name": "scilab",
		   "version": "0.7.1"
		  }
		 },
		 "nbformat": 4,
		 "nbformat_minor": 0
}
