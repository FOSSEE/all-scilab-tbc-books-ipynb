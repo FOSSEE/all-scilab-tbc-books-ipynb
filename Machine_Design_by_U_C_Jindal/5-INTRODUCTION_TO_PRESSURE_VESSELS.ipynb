{
"cells": [
 {
		   "cell_type": "markdown",
	   "metadata": {},
	   "source": [
       "# Chapter 5: INTRODUCTION TO PRESSURE VESSELS"
	   ]
	},
{
		   "cell_type": "markdown",
		   "metadata": {},
		   "source": [
			"## Example 5.1: IPV5_1.sce"
		   ]
		  },
  {
"cell_type": "code",
	   "execution_count": null,
	   "metadata": {
	    "collapsed": true
	   },
	   "outputs": [],
"source": [
"// sum 5-1\n",
"clc;\n",
"clear;\n",
"p=2;\n",
"Rm=220;\n",
"//tensile hoop or circumferential stress= sigt\n",
"sigr=-2;\n",
"//sigt=(p*Rm)/t;\n",
"Sa=230/2;\n",
"//t1=thickness according to maximum principal stress theory\n",
"//t2=thickness according to maximum shear stress theory\n",
"t1=(p*Rm)/Sa;\n",
"t2=(p*Rm)/(Sa+sigr);\n",
"\n",
"  // printing data in scilab o/p window\n",
"  printf('t1 is %0.2f mm ',t1);\n",
"  printf('\n t2 is %0.3f mm ',t2);"
   ]
   }
,
{
		   "cell_type": "markdown",
		   "metadata": {},
		   "source": [
			"## Example 5.2: IPV5_2.sce"
		   ]
		  },
  {
"cell_type": "code",
	   "execution_count": null,
	   "metadata": {
	    "collapsed": true
	   },
	   "outputs": [],
"source": [
"// sum 5-2\n",
"clc;\n",
"clear;\n",
"//Elastic limit=sige\n",
"sige=310;\n",
"//inside diameter=di\n",
"di=300;\n",
"p=1.8;\n",
"FOS=2;\n",
"//design stress=sigd;\n",
"sigd=sige/2;\n",
"c=0.162;\n",
"d=380;\n",
"//cover plate thickness=t;\n",
"t=d*sqrt(c*p/sigd);\n",
"t=17;\n",
"M=di*p*t/4;\n",
"\n",
"z=(1/6)*1*t^2;\n",
"//bending stress=sigb;\n",
"sigb=M/z;\n",
"\n",
"  // printing data in scilab o/p window\n",
"  printf('t is %0.1fmm ',t);\n",
"  printf('\n M is %0.1fmm ',M);\n",
"  printf('\n sigb is %0.1fmm ',sigb);\n",
"  if (sigb<=sigd) then\n",
"    disp ('sigb is below allowable sigd.')\n",
"end"
   ]
   }
,
{
		   "cell_type": "markdown",
		   "metadata": {},
		   "source": [
			"## Example 5.3: IPV5_3.sce"
		   ]
		  },
  {
"cell_type": "code",
	   "execution_count": null,
	   "metadata": {
	    "collapsed": true
	   },
	   "outputs": [],
"source": [
"// sum 5-3\n",
"clc;\n",
"clear;\n",
"sige=220;\n",
"v=0.29;\n",
"Ri=175;\n",
"FOS=3;\n",
"Sa=sige/3;\n",
"p=10;\n",
"//t1=thickness according to maximum principal stress theory\n",
"//t2=thickness according to maximum shear stress theory\n",
"x=Sa+(p*(1-(2*v)));\n",
"y=Sa-(p*(1+v));\n",
"t1=(sqrt(x/y)-1)*Ri;\n",
"t1=24;\n",
"//t1=((sqrt((Sa+(p*(1-(2*v)))))/(Sa-(p*(1+v))))-1)*Ri;\n",
"t2=Ri*((sqrt(Sa/(Sa-(2*p))))-1);\n",
"\n",
"  // printing data in scilab o/p window\n",
"  printf('t1 is %0.1fmm ',t1);\n",
"  printf('\n t2 is %0.3fmm ',t2);\n",
"  \n",
"  //The answer to t2 is not calculated in the book."
   ]
   }
,
{
		   "cell_type": "markdown",
		   "metadata": {},
		   "source": [
			"## Example 5.4: IPV5_4.sce"
		   ]
		  },
  {
"cell_type": "code",
	   "execution_count": null,
	   "metadata": {
	    "collapsed": true
	   },
	   "outputs": [],
"source": [
"// sum 5-4\n",
"clc;\n",
"clear;\n",
"p=16;\n",
"Ri=250;\n",
"//Yield strength =sigy;\n",
"sigy=330;\n",
"v=0.3;\n",
"FOS=3;\n",
"Sa=sigy/3;\n",
"t=Ri*((sqrt(Sa/(Sa-(2*p))))-1);\n",
"t=50;\n",
"  // printing data in scilab o/p window\n",
"   printf('t is %0.1fmm ',t);"
   ]
   }
,
{
		   "cell_type": "markdown",
		   "metadata": {},
		   "source": [
			"## Example 5.5: IPV5_5.sce"
		   ]
		  },
  {
"cell_type": "code",
	   "execution_count": null,
	   "metadata": {
	    "collapsed": true
	   },
	   "outputs": [],
"source": [
"// sum 5-5\n",
"clc;\n",
"clear;\n",
"d=15;\n",
"Eg=480;\n",
"t=3;\n",
"//flange thickness=ft;\n",
"ft=12;\n",
"A=%pi*d^2/4;\n",
"l=d+t+(ft/2);\n",
"E=210;\n",
"kb=A*E/l;\n",
"//effective area of gasket=Ag;\n",
"Ag=%pi*(((ft+t+d)^2)-(d^2))/4;\n",
"kg=Ag*Eg/t;\n",
"// printing data in scilab o/p window\n",
"   printf('kb is %0.3f N/mm ',kb);\n",
"kb=kb*10^-3;\n",
"kg=kg*10^-3;\n",
"if (kb<=kg) then\n",
"    printf('\n The combines stiffness of bolt and gasket is %0.3f kN/mm',kg)\n",
"end\n",
"\n",
"//The difference in the value of kb is due to rounding-off the value of A \n",
"   \n",
"   "
   ]
   }
],
"metadata": {
		  "kernelspec": {
		   "display_name": "Scilab",
		   "language": "scilab",
		   "name": "scilab"
		  },
		  "language_info": {
		   "file_extension": ".sce",
		   "help_links": [
			{
			 "text": "MetaKernel Magics",
			 "url": "https://github.com/calysto/metakernel/blob/master/metakernel/magics/README.md"
			}
		   ],
		   "mimetype": "text/x-octave",
		   "name": "scilab",
		   "version": "0.7.1"
		  }
		 },
		 "nbformat": 4,
		 "nbformat_minor": 0
}
