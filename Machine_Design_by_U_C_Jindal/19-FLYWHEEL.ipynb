{
"cells": [
 {
		   "cell_type": "markdown",
	   "metadata": {},
	   "source": [
       "# Chapter 19: FLYWHEEL"
	   ]
	},
{
		   "cell_type": "markdown",
		   "metadata": {},
		   "source": [
			"## Example 19.1: F1.sce"
		   ]
		  },
  {
"cell_type": "code",
	   "execution_count": null,
	   "metadata": {
	    "collapsed": true
	   },
	   "outputs": [],
"source": [
"// sum 19-1\n",
"clc;\n",
"clear;\n",
"R=1200;\n",
"b=300;\n",
"t=150;\n",
"N=500;\n",
"m=7100*10^-9*b*t;\n",
"Ar=b*t;\n",
"Aa=Ar/4;\n",
"C=(20280/t^2)+0.957+(Ar/Aa);\n",
"w=2*%pi*N/60;\n",
"V=w*R*10^-3;\n",
"siga=2*10^3*m*V^2/(C*Aa*3);\n",
"theta=30*%pi/180;\n",
"alpha=30*%pi/180;\n",
"x1=10^3*m*(V^2)/(b*t);\n",
"y1=cos(theta)/(3*C*sin(alpha));\n",
"z1=2000*R*10^-3/(C*t)*((1/alpha)-(cos(theta)/sin(alpha)));\n",
"sigrr1=x1*(1-y1+z1);\n",
"theta=0*%pi/180;\n",
"x2=10^3*m*(V^2)/(b*t);\n",
"y2=cos(theta)/(3*C*sin(alpha));\n",
"z2=2000*R*10^-3/(C*t)*((1/alpha)-(cos(theta)/sin(alpha)));\n",
"sigrr2=x2*(1-y2-z2);\n",
"\n",
"  // printing data in scilab o/p window\n",
"  printf('axial stress is %0.2f MPa    ',siga);\n",
"  printf('\n tensile stress for theta=30deg is %0.1f MPa    ',sigrr1);\n",
"  printf('\n tensile stress for theta=0deg is %0.2f MPa    ',sigrr2);\n",
"  \n",
"  //The difference in the value of sigrr1 and sigrr2 is due to rounding-off of values."
   ]
   }
,
{
		   "cell_type": "markdown",
		   "metadata": {},
		   "source": [
			"## Example 19.2: F2.sce"
		   ]
		  },
  {
"cell_type": "code",
	   "execution_count": null,
	   "metadata": {
	    "collapsed": true
	   },
	   "outputs": [],
"source": [
"// sum 19-2\n",
"clc;\n",
"clear;\n",
"N=350;\n",
"theta1=asin(sqrt((3-0.6)/4));\n",
"theta1=theta1*180/%pi;\n",
"theta2=(180)-theta1;\n",
"//Ti=16000+6000*sind(3*theta);\n",
"//To=16000+3600*sind(theta);\n",
"a=-3600*(cosd(theta2)-cosd(theta1));\n",
"b=2000*(cosd(3*theta2)-cosd(3*theta1));\n",
"c=a+b;\n",
"delU=c;\n",
"Ks=0.05;\n",
"w=2*%pi*N/60;\n",
"I=delU/(Ks*w^2);\n",
"V=25;\n",
"Ir=I*0.95;\n",
"R=V/w;\n",
"Mr=Ir/R^2;\n",
"rho=7150;\n",
"t=sqrt(Mr*(10^6)/(2*%pi*R*2*rho));\n",
"b=2*t;\n",
"\n",
"  // printing data in scilab o/p window\n",
"  printf('t is %0.2f mm    ',t);\n",
"  printf('\n b is %0.2f mm    ',b);\n",
"  printf('\n R is %0.3f m    ',R);"
   ]
   }
,
{
		   "cell_type": "markdown",
		   "metadata": {},
		   "source": [
			"## Example 19.3: F3.sce"
		   ]
		  },
  {
"cell_type": "code",
	   "execution_count": null,
	   "metadata": {
	    "collapsed": true
	   },
	   "outputs": [],
"source": [
"// sum 19-3\n",
"clc;\n",
"clear;\n",
"N=300;\n",
"Ks=0.03;\n",
"rho=7150;\n",
"Kr=0.9;\n",
"w=2*%pi*N/60;\n",
"WD=(300*2*%pi)+(4*%pi*200/4);\n",
"Tm=400;\n",
"delU=%pi*200/16;\n",
"Ir=Kr*delU/(w^2*Ks);\n",
"R=Ir/(rho*1.5*0.1*0.1*2*%pi);\n",
"R=R^(1/5);\n",
"t=0.1*R*1000;\n",
"b=1.5*t;\n",
"\n",
"  // printing data in scilab o/p window\n",
"  printf('t is %0.2f mm    ',t);\n",
"  printf('\n b is %0.2f mm    ',b);\n",
"  printf('\n R is %0.4f m    ',R);"
   ]
   }
,
{
		   "cell_type": "markdown",
		   "metadata": {},
		   "source": [
			"## Example 19.4: F4.sce"
		   ]
		  },
  {
"cell_type": "code",
	   "execution_count": null,
	   "metadata": {
	    "collapsed": true
	   },
	   "outputs": [],
"source": [
"//sum 19-4\n",
"clc;\n",
"clear;\n",
"d=20;\n",
"t=12;\n",
"Tus=450;\n",
"Pmax=%pi*d*t*Tus;\n",
"WD=Pmax*t/2*10^-3;\n",
"n=0.95;\n",
"Wi=WD/n;\n",
"delU=5*Wi/6;\n",
"N=300;\n",
"w=2*%pi*N/60;\n",
"Ks=0.2;\n",
"I=delU/(Ks*w^2);\n",
"Ir=I*0.9;\n",
"R=0.5;\n",
"m=Ir/R^2;\n",
"rho=7150;\n",
"t=sqrt(m*10^6/(rho*2*%pi*R*2));\n",
"b=2*t;\n",
"\n",
"  // printing data in scilab o/p window\n",
"  printf('t is %0.1f mm    ',t);\n",
"  printf('\n b is %0.1f mm    ',b);\n",
"  printf('\n R is %0.1f m    ',R);"
   ]
   }
,
{
		   "cell_type": "markdown",
		   "metadata": {},
		   "source": [
			"## Example 19.5: F5.sce"
		   ]
		  },
  {
"cell_type": "code",
	   "execution_count": null,
	   "metadata": {
	    "collapsed": true
	   },
	   "outputs": [],
"source": [
"// sum 19-5\n",
"clc;\n",
"clear;\n",
"U=(500*2*%pi)+(3*%pi*500/2);\n",
"Tm=U/(2*%pi);\n",
"delU=2.25*%pi*125/2;\n",
"Ks=0.1;\n",
"N=250;\n",
"w=2*%pi*N/60;\n",
"I=delU/(Ks*w^2);\n",
"t=0.03;\n",
"rho=7800;\n",
"R=(I*2/(%pi*rho*t))^(1/4);\n",
"V=R*w;\n",
"v=0.3;\n",
"sigmax=rho*V^2*(3+v)/8*10^-6;\n",
"\n",
"  // printing data in scilab o/p window\n",
"  printf('R is %0.3f m    ',R);\n",
"  printf('\n sigmax is %0.2f MPa    ',sigmax);\n",
"  "
   ]
   }
,
{
		   "cell_type": "markdown",
		   "metadata": {},
		   "source": [
			"## Example 19.6: F6.sce"
		   ]
		  },
  {
"cell_type": "code",
	   "execution_count": null,
	   "metadata": {
	    "collapsed": true
	   },
	   "outputs": [],
"source": [
"// sum 19-6\n",
"clc;\n",
"clear;\n",
"N=1.5*8*60;\n",
"l=200;\n",
"t=1.5/2;\n",
"W=350*10^3;\n",
"WD=0.15*l*W*10^-6;\n",
"n=0.9; //since frictional effect is 10%, effciency of system is 90%\n",
"Wi=WD/n;\n",
"L=400;\n",
"delU=(L-(0.15*l))/(L)*10^3*Wi;\n",
"Ks=0.12;\n",
"w=2*%pi*N/60;\n",
"I=delU/(Ks*w^2);\n",
"Ir=I*0.9;\n",
"R=0.7;\n",
"m=Ir/R^2;\n",
"rho=7150;\n",
"t=sqrt(m*10^6/(rho*2*%pi*R*1.5));\n",
"b=1.5*t;\n",
"\n",
"  // printing data in scilab o/p window\n",
"  printf('t is %0.1f mm    ',t);\n",
"  printf('\n b is %0.1f mm    ',b);"
   ]
   }
,
{
		   "cell_type": "markdown",
		   "metadata": {},
		   "source": [
			"## Example 19.7: F7.sce"
		   ]
		  },
  {
"cell_type": "code",
	   "execution_count": null,
	   "metadata": {
	    "collapsed": true
	   },
	   "outputs": [],
"source": [
"// sum 19-7\n",
"clc;\n",
"clear;\n",
"N=144;\n",
"//Let n be no. of punches/ min\n",
"n=8;\n",
"//Let t be timr for 1 punch\n",
"t=60/n;\n",
"theta=N/60*2*%pi*0.6;\n",
"T=2.1;\n",
"U=T*theta;\n",
"//Let U1 be revolution of crankshaft in t sec\n",
"U1=t*N/60*2*%pi;\n",
"delU=(U1-theta)/U1*U*10^3;\n",
"w=2*%pi*1440/60;\n",
"Ks=0.1;\n",
"I=delU/(Ks*w^2);\n",
"Ir=I*0.9;\n",
"rho=7100;\n",
"\n",
"R=Ir/(rho*0.2*0.1*2*%pi);\n",
"R=R^(1/5);\n",
"t=0.1*R*1000;\n",
"b=0.2*R*10^3;\n",
"t=40;\n",
"b=80;\n",
"R=400;\n",
"// printing data in scilab o/p window\n",
"  printf('t is %0.0f mm    ',t);\n",
"  printf('\n b is %0.0f mm    ',b);\n",
"  printf('\n R is %0.0f mm    ',R);"
   ]
   }
],
"metadata": {
		  "kernelspec": {
		   "display_name": "Scilab",
		   "language": "scilab",
		   "name": "scilab"
		  },
		  "language_info": {
		   "file_extension": ".sce",
		   "help_links": [
			{
			 "text": "MetaKernel Magics",
			 "url": "https://github.com/calysto/metakernel/blob/master/metakernel/magics/README.md"
			}
		   ],
		   "mimetype": "text/x-octave",
		   "name": "scilab",
		   "version": "0.7.1"
		  }
		 },
		 "nbformat": 4,
		 "nbformat_minor": 0
}
