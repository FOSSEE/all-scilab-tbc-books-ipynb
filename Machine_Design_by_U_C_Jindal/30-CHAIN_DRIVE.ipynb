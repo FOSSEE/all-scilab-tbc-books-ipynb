{
"cells": [
 {
		   "cell_type": "markdown",
	   "metadata": {},
	   "source": [
       "# Chapter 30: CHAIN DRIVE"
	   ]
	},
{
		   "cell_type": "markdown",
		   "metadata": {},
		   "source": [
			"## Example 30.1: CD1.sce"
		   ]
		  },
  {
"cell_type": "code",
	   "execution_count": null,
	   "metadata": {
	    "collapsed": true
	   },
	   "outputs": [],
"source": [
"// sum 30-1\n",
"clc;\n",
"clear;\n",
"n1=17;\n",
"n2=51;\n",
"C=300;\n",
"p=9.52;\n",
"Ln=(2*C/p)+((n1+n2)/2)+((((n2-n1)/(2*%pi))^2)*(p/C));\n",
"x=(Ln-((n2+n1)/(2)))^2;\n",
"y=8*(((n2-n1)/(2*%pi))^2);\n",
"z=Ln-((n1+n2)/2);\n",
"C=(p/4)*(z+(sqrt(x-y)))\n",
"  // printing data in scilab o/p window\n",
"  printf('C is %0.2f mm ',C);\n",
"  "
   ]
   }
,
{
		   "cell_type": "markdown",
		   "metadata": {},
		   "source": [
			"## Example 30.2: CD2.sce"
		   ]
		  },
  {
"cell_type": "code",
	   "execution_count": null,
	   "metadata": {
	    "collapsed": true
	   },
	   "outputs": [],
"source": [
"// sum 30-2\n",
"clc;\n",
"clear;\n",
"G=4;\n",
"n1=17;\n",
"n2=n1*G;\n",
"N1=2300;\n",
"Kc=1.2; //from table 30-2\n",
"p=12.7; //fom table 30-1\n",
"D1=p*n1;\n",
"D2=p*n2;\n",
"phi=2*10.6;\n",
"x=tan(phi/2); //phi/2 = 10.6deg, from table 30-3\n",
"Da1=(p/x)+(0.6*p);\n",
"Da2=(p/x*4)+(0.6*p);\n",
"Cmin=Kc*((Da1+Da2)/2);\n",
"Ln1=(2*Cmin/p)+((n1+n2)/2)+((((n2-n1)/(2*%pi))^2)*(p/Cmin));\n",
"Ln1=80;\n",
"  // printing data in scilab o/p window\n",
"  printf('Ln is %0.0f  ',Ln1);"
   ]
   }
,
{
		   "cell_type": "markdown",
		   "metadata": {},
		   "source": [
			"## Example 30.3: CD3.sce"
		   ]
		  },
  {
"cell_type": "code",
	   "execution_count": null,
	   "metadata": {
	    "collapsed": true
	   },
	   "outputs": [],
"source": [
"// sum 30-3\n",
"clc;\n",
"clear;\n",
"N1=1000;\n",
"N2=500;\n",
"P=2.03*10^3; //from table 30-8\n",
"K1=1.26;\n",
"Ks=1;\n",
"//let Pc be the power transmitting capacity of the chain\n",
"Pc=P*K1/Ks;\n",
"p=9.52;\n",
"n1=21;\n",
"n2=42;\n",
"V=n1*p*N1/(60*10^3);\n",
"//Let the chain tension be T\n",
"T=Pc/V;\n",
"//Let the breaking load be BL\n",
"BL=10700;\n",
"FOS=BL/T;\n",
"C=50*p;\n",
"Ln=(2*C/p)+((n1+n2)/2)+((((n2-n1)/(2*%pi))^2)*(p/C));\n",
"L=Ln*p;\n",
"Pc=Pc*10^-3;\n",
"\n",
"  // printing data in scilab o/p window\n",
"  printf('Pc is %0.2f KW  ',Pc);\n",
"  printf('\n V is %0.3f m/s  ',V);\n",
"  printf('\n T is %0.1f N  ',T);\n",
"  printf('\n FOS is %0.2f   ',FOS);\n",
"  printf('\n L is %0.2f mm  ',L);\n",
"\n",
"//The difference in the value of L and T is due to rounding-off the values."
   ]
   }
,
{
		   "cell_type": "markdown",
		   "metadata": {},
		   "source": [
			"## Example 30.4: CD4.sce"
		   ]
		  },
  {
"cell_type": "code",
	   "execution_count": null,
	   "metadata": {
	    "collapsed": true
	   },
	   "outputs": [],
"source": [
"// sum 30-5\n",
"clc;\n",
"clear;\n",
"G=2;\n",
"P=5000;\n",
"Ks=1.7;\n",
"Pd=P*Ks;\n",
"K2=1.7;\n",
"p=15.88;\n",
"n1=17;\n",
"n2=n1*G;\n",
"D1=n1*p;\n",
"D2=n2*p;\n",
"C=40*p;\n",
"Ln=(2*C/p)+((n1+n2)/2)+((((n2-n1)/(2*%pi))^2)*(p/C));\n",
"L=Ln*p;\n",
"\n",
"  // printing data in scilab o/p window\n",
"  printf('L is %0.2f mm  ',L);\n",
"//The difference in the value of L is due to rounding-off the values."
   ]
   }
],
"metadata": {
		  "kernelspec": {
		   "display_name": "Scilab",
		   "language": "scilab",
		   "name": "scilab"
		  },
		  "language_info": {
		   "file_extension": ".sce",
		   "help_links": [
			{
			 "text": "MetaKernel Magics",
			 "url": "https://github.com/calysto/metakernel/blob/master/metakernel/magics/README.md"
			}
		   ],
		   "mimetype": "text/x-octave",
		   "name": "scilab",
		   "version": "0.7.1"
		  }
		 },
		 "nbformat": 4,
		 "nbformat_minor": 0
}
