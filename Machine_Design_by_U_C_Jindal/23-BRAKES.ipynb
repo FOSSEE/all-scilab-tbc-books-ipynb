{
"cells": [
 {
		   "cell_type": "markdown",
	   "metadata": {},
	   "source": [
       "# Chapter 23: BRAKES"
	   ]
	},
{
		   "cell_type": "markdown",
		   "metadata": {},
		   "source": [
			"## Example 23.1: B23_1.sce"
		   ]
		  },
  {
"cell_type": "code",
	   "execution_count": null,
	   "metadata": {
	    "collapsed": true
	   },
	   "outputs": [],
"source": [
"// sum 23-1\n",
"clc;\n",
"clear;\n",
"W=20e3;\n",
"m=W/9.81;\n",
"//diameter of brake drum\n",
"Db=0.6;\n",
"p=1;\n",
"Vi=1;\n",
"Vf=0;\n",
"D=1;\n",
"R=0.5;\n",
"wi=Vi/R;\n",
"wf=0;\n",
"w=1;\n",
"Vav=0.5;\n",
"S=2;\n",
"t=S/Vav;\n",
"//angle turned by by hoist drum=theta\n",
"theta=0.5*wi*t;\n",
"K.E=0.5*m*Vi^2;\n",
"P.E=2*W;\n",
"T.E=K.E+P.E;\n",
"T=T.E/theta;\n",
"P=wi*T*10^-3;\n",
"Rb=Db/2;\n",
"Ft=0.5*T*p/Rb;\n",
"u=0.35;\n",
"N=Ft/u;\n",
"//contact area of brake lining=A\n",
"A=N/p;\n",
"b=0.3*Db;\n",
"L=A*10^-6/(b);\n",
"//angle subtended at brake drum centre=theta2\n",
"theta2=2*(asin(L/Db));\n",
"theta2=theta2*180/%pi; // converting radian to degree\n",
"\n",
"  // printing data in scilab o/p window\n",
"  printf('T is %0.1f Nm ',T);\n",
"  printf('\n P is %0.4f kW ',P);\n",
"  printf('\n b is %0.2f m ',b);\n",
"  printf('\n L is %0.3f m ',L);\n",
"  printf('\n theta2 is %0.0f deg ',theta2);\n",
" \n",
"\n",
"\n",
""
   ]
   }
,
{
		   "cell_type": "markdown",
		   "metadata": {},
		   "source": [
			"## Example 23.2: B23_2.sce"
		   ]
		  },
  {
"cell_type": "code",
	   "execution_count": null,
	   "metadata": {
	    "collapsed": true
	   },
	   "outputs": [],
"source": [
"// sum 23-2\n",
"clc;\n",
"clear;\n",
"b=80;\n",
"t=2;\n",
"theta=225*%pi/180;\n",
"u=0.22;\n",
"//F1/F2=e^(u*theta)\n",
"//let F1/F2=x;\n",
"x=exp(u*theta);\n",
"//maximum tensile stress in steel tape is siga\n",
"siga=60;\n",
"A=b*t;\n",
"F1=siga*A;\n",
"F2=F1/x;\n",
"r=0.2;\n",
"T=(F1-F2)*r;\n",
"OA=30;\n",
"OB=100;\n",
"OC=350;\n",
"P=((F2*OB)+(F1*OA))/OC;\n",
"OA=F2*OB/F1;\n",
"\n",
"  // printing data in scilab o/p window\n",
"  printf('F1 is %0.0f N ',F1);\n",
"  printf('\n F2 is %0.1f N ',F2);\n",
"  printf('\n T is %0.2f Nm ',T);\n",
"  printf('\n OA is %0.2f mm ',OA);\n",
"  "
   ]
   }
,
{
		   "cell_type": "markdown",
		   "metadata": {},
		   "source": [
			"## Example 23.3: B23_3.sce"
		   ]
		  },
  {
"cell_type": "code",
	   "execution_count": null,
	   "metadata": {
	    "collapsed": true
	   },
	   "outputs": [],
"source": [
"// sum 23-3\n",
"clc;\n",
"clear;\n",
"theta=%pi/3;\n",
"r=160;\n",
"u=0.3;\n",
"pmax=0.9;\n",
"b=40;\n",
"R=(4*r*sin(theta))/((2*theta)+sin(2*theta));\n",
"//frictional torque is T\n",
"T=2*u*pmax*b*(r^2)*sin(theta);\n",
"T=2*T*10^-3;\n",
"Rx=0.5*pmax*b*r*((2*theta)+(sin(2*theta)))*10^-3;\n",
"Ry=u*Rx;\n",
"\n",
"  // printing data in scilab o/p window\n",
"  printf('T is %0.2f Nmm ',T);\n",
"  printf('\n R is %0.3f mm ',R);\n",
"  printf('\n Rx is %0.3f kN ',Rx);\n",
"  printf('\n Ry is %0.2f kN ',Ry);"
   ]
   }
,
{
		   "cell_type": "markdown",
		   "metadata": {},
		   "source": [
			"## Example 23.4: B23_4.sce"
		   ]
		  },
  {
"cell_type": "code",
	   "execution_count": null,
	   "metadata": {
	    "collapsed": true
	   },
	   "outputs": [],
"source": [
"// sum 23-4\n",
"clc;\n",
"clear;\n",
"d=320;\n",
"r=d/2;\n",
"b=50;\n",
"u=0.3;\n",
"pmax=1;\n",
"c=115*2;\n",
"// From to fig. 23-9, distance OA=R is calculated.\n",
"R=sqrt(115^2+66.4^2);\n",
"C=115*2;\n",
"theta1=0;\n",
"theta2=120*%pi/180;\n",
"theta0=120*%pi/180;\n",
"thetamax=%pi/2;\n",
"Tr=u*pmax*b*r^2*(cos(theta1)-cos(theta2))/sin(thetamax)*10^-3;\n",
"//the notation 'r' is used for moments of right hand shoe, similarly 'l' for the left shoe.\n",
"Mfr=u*pmax*b*r*(4*r*(cos(theta1)-cos(theta2))+(R*(cos(2*theta1)-cos(2*theta2))))/(4*sin(thetamax))*10^-3;\n",
"Mpr=pmax*b*r*R*((2*theta0)-(sin(2*theta2)-(sin(theta1))))/(4*sin(thetamax))*10^-3;\n",
"F=(Mpr-Mfr)/c*10^3;\n",
"//Mpl+Mfl=F*c;\n",
"x=F*c*10^-3;\n",
"y=(Mpr/pmax)+(Mfr/pmax);\n",
"pmax2=x/y;\n",
"Tl=pmax2*Tr;\n",
"Mpl=pmax2*Mpr;\n",
"Mfl=pmax2*Mfr;\n",
"T=Tl+Tr;\n",
"\n",
"  // printing data in scilab o/p window\n",
"  printf('Tr is %0.0f Nm ',Tr);\n",
"  printf('\n Mf is %0.2f Nm ',Mfr);\n",
"  printf('\n Mp is %0.2f Nm ',Mpr);\n",
"  printf('\n Tl is %0.1f Nm ',Tl); \n",
"  printf('\n Mfl is %0.2f Nm ',Mfl);\n",
"  printf('\n Mpl is %0.2f Nm ',Mpl);\n",
"  printf('\n F is %0.1f N ',F);\n",
"  printf('\n T is %0.1f Nm ',T);\n",
"  \n",
"  //The difference in the answers are due to rounding-off of values.\n",
"  \n",
"  "
   ]
   }
,
{
		   "cell_type": "markdown",
		   "metadata": {},
		   "source": [
			"## Example 23.5: B23_5.sce"
		   ]
		  },
  {
"cell_type": "code",
	   "execution_count": null,
	   "metadata": {
	    "collapsed": true
	   },
	   "outputs": [],
"source": [
"// sum 23-5\n",
"clc;\n",
"clear;\n",
"m=1100;\n",
"V=65*5/18;\n",
"t=4;\n",
"r=0.22;\n",
"mb=12;\n",
"C=460;\n",
"S=0.5*V*t;\n",
"//Total kinetic energy TE=K.E(vehicle)+K.E(rotating parts).\n",
"TE=((0.5*m*(V^2))+(0.1*0.5*m*(V^2)));\n",
"E=TE/4;\n",
"w=V/r;\n",
"theta=S/r;\n",
"T=E/theta;\n",
"delT=E/(mb*C);\n",
"\n",
"  // printing data in scilab o/p window\n",
"  printf('S is %0.2f m ',S);\n",
"  printf('\n E is %0.2f Nm ',E);\n",
"  printf('\n T is %0.2f Nm ',T);\n",
"  printf('\n delT is %0.2f ',delT);\n",
"  \n",
"//The difference in the answers are due to rounding-off of values."
   ]
   }
,
{
		   "cell_type": "markdown",
		   "metadata": {},
		   "source": [
			"## Example 23.6: B23_6.sce"
		   ]
		  },
  {
"cell_type": "code",
	   "execution_count": null,
	   "metadata": {
	    "collapsed": true
	   },
	   "outputs": [],
"source": [
"// sum 23-6\n",
"clc;\n",
"clear;\n",
"T=35000;\n",
"u=0.4;\n",
"p=0.7;\n",
"r=200;\n",
"N=T/(u*r)\n",
"b=sqrt(N/p);\n",
"l=b;\n",
"//2theta = theta2\n",
"theta2=2*asin(l/(2*r));\n",
"F=u*N;\n",
"P=((250*N)-(u*N*80))/550;\n",
"Ry=N-P;\n",
"Rx=u*N;\n",
"R=sqrt(Rx^2+Ry^2);\n",
"w=2*%pi*100/60;\n",
"// Rate of heat generated is Q\n",
"Q=u*N*w*r/1000;\n",
"\n",
"  // printing data in scilab o/p window\n",
"  printf('N is %0.1f N ',N);\n",
"  printf('\n b is %0.0f mm ',b);\n",
"  printf('\n P is %0.1f N ',P);\n",
"  printf('\n R is %0.2f N ',R);\n",
"  printf('\n Q is %0.2f J/s ',Q);\n",
"\n",
"//The answer to Rate of heat generated 'Q' is calculated incorrectly in the book."
   ]
   }
,
{
		   "cell_type": "markdown",
		   "metadata": {},
		   "source": [
			"## Example 23.7: B23_7.sce"
		   ]
		  },
  {
"cell_type": "code",
	   "execution_count": null,
	   "metadata": {
	    "collapsed": true
	   },
	   "outputs": [],
"source": [
"// sum 23-7\n",
"clc;\n",
"clear;\n",
"Vi=20*5/18;\n",
"Vf=0;\n",
"m=80;\n",
"pmax=1;\n",
"u=0.1;\n",
"S=50;\n",
"KE=0.5*m*Vi^2;\n",
"N=KE/(u*S*2);\n",
"t=sqrt(N/(pmax*3));\n",
"b=3*t;\n",
"\n",
"  // printing data in scilab o/p window\n",
"  printf('KE is %0.1f Nm ',KE);\n",
"  printf('\n N is %0.2f N ',N);\n",
"  printf('\n t is %0.1f mm ',t);\n",
"  printf('\n b is %0.1f mm ',b);\n",
"\n",
"//The difference in the answers are due to rounding-off of values."
   ]
   }
],
"metadata": {
		  "kernelspec": {
		   "display_name": "Scilab",
		   "language": "scilab",
		   "name": "scilab"
		  },
		  "language_info": {
		   "file_extension": ".sce",
		   "help_links": [
			{
			 "text": "MetaKernel Magics",
			 "url": "https://github.com/calysto/metakernel/blob/master/metakernel/magics/README.md"
			}
		   ],
		   "mimetype": "text/x-octave",
		   "name": "scilab",
		   "version": "0.7.1"
		  }
		 },
		 "nbformat": 4,
		 "nbformat_minor": 0
}
