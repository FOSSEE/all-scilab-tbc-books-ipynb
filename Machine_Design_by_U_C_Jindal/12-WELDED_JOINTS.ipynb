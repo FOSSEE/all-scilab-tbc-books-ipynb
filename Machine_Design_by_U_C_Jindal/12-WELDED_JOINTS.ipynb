{
"cells": [
 {
		   "cell_type": "markdown",
	   "metadata": {},
	   "source": [
       "# Chapter 12: WELDED JOINTS"
	   ]
	},
{
		   "cell_type": "markdown",
		   "metadata": {},
		   "source": [
			"## Example 12.10: WJ10.sce"
		   ]
		  },
  {
"cell_type": "code",
	   "execution_count": null,
	   "metadata": {
	    "collapsed": true
	   },
	   "outputs": [],
"source": [
"// sum 12-10\n",
"clc;\n",
"clear;\n",
"P=300*10^3;\n",
"l=500;\n",
"A=2*l;\n",
"Td=P/A;\n",
"T=(350-250)*P;\n",
"IG=(l^3*2/12)+(l*2*5^2);\n",
"r=sqrt(250^2+5^2);\n",
"Ts=T*r/IG;\n",
"Ts=Ts+Td;\n",
"Ta=110;\n",
"t=Ts/Ta;\n",
"h=t/0.707;\n",
"h=9;\n",
"\n",
"  // printing data in scilab o/p window\n",
"  printf('h is %0.0f mm     ',h);"
   ]
   }
,
{
		   "cell_type": "markdown",
		   "metadata": {},
		   "source": [
			"## Example 12.11: WJ11.sce"
		   ]
		  },
  {
"cell_type": "code",
	   "execution_count": null,
	   "metadata": {
	    "collapsed": true
	   },
	   "outputs": [],
"source": [
"// sum 12-11\n",
"clc;\n",
"clear;\n",
"t=30;\n",
"sigut=417;\n",
"sige=sigut/2;\n",
"Ka=0.5;\n",
"Kb=0.85;\n",
"Kc=0.897;\n",
"SCF=1.2;\n",
"Kd=1/SCF;\n",
"FOS=1.5;\n",
"sige1=sige*Ka*Kb*Kc*Kd/FOS;\n",
"Pa=60*10^3;\n",
"l=Pa/(sige1*t);\n",
"\n",
"  // printing data in scilab o/p window\n",
"  printf('l is %0.1f mm     ',l);"
   ]
   }
,
{
		   "cell_type": "markdown",
		   "metadata": {},
		   "source": [
			"## Example 12.1: WJ1.sce"
		   ]
		  },
  {
"cell_type": "code",
	   "execution_count": null,
	   "metadata": {
	    "collapsed": true
	   },
	   "outputs": [],
"source": [
"// sum 12-1\n",
"clc;\n",
"clear;\n",
"h=8;\n",
"F=100*10^3;\n",
"t=0.707*h;\n",
"A=4*60*t;\n",
"T=F/A;\n",
"\n",
"  // printing data in scilab o/p window\n",
"  printf('T is %0.1f MPa     ',T);"
   ]
   }
,
{
		   "cell_type": "markdown",
		   "metadata": {},
		   "source": [
			"## Example 12.2: WJ2.sce"
		   ]
		  },
  {
"cell_type": "code",
	   "execution_count": null,
	   "metadata": {
	    "collapsed": true
	   },
	   "outputs": [],
"source": [
"// sum 12-2\n",
"clc;\n",
"clear;\n",
"FOS=3;\n",
"Ta=95/FOS;\n",
"P=350*10^3;\n",
"h=12.5;\n",
"t=0.707*h;\n",
"l=P/(2*t*Ta);\n",
"\n",
"  // printing data in scilab o/p window\n",
"  printf('l is %0.0f mm     ',l);"
   ]
   }
,
{
		   "cell_type": "markdown",
		   "metadata": {},
		   "source": [
			"## Example 12.3: WJ3.sce"
		   ]
		  },
  {
"cell_type": "code",
	   "execution_count": null,
	   "metadata": {
	    "collapsed": true
	   },
	   "outputs": [],
"source": [
"// sum 12-3\n",
"clc;\n",
"clear;\n",
"h=12;\n",
"t=0.707*h;\n",
"l=60;\n",
"Ta=80;\n",
"P=2*l*t*Ta;\n",
"P=P*10^-3;\n",
"\n",
"  // printing data in scilab o/p window\n",
"  printf('P is %0.3f kN     ',P);"
   ]
   }
,
{
		   "cell_type": "markdown",
		   "metadata": {},
		   "source": [
			"## Example 12.4: WJ4.sce"
		   ]
		  },
  {
"cell_type": "code",
	   "execution_count": null,
	   "metadata": {
	    "collapsed": true
	   },
	   "outputs": [],
"source": [
"// sum 12-4\n",
"clc;\n",
"clear;\n",
"P=6*10^3;\n",
"e=150+(100/2);\n",
"T=P*e;\n",
"A=200;\n",
"Td=P/A;\n",
"r=sqrt(2*50^2);\n",
"Ixx=2*(100*50^2);\n",
"Iyy=2*100^3/12;\n",
"IG=Ixx+Iyy;\n",
"Ts=r*T/IG;\n",
"Tmax=sqrt((Ts*sind(45))^2+(Td+(Ts*cosd(45)))^2);\n",
"Ta=80;\n",
"t=Tmax/Ta;\n",
"h=sqrt(2)*t;\n",
"h=3;\n",
"  // printing data in scilab o/p window\n",
"  printf('h is %0.0f mm     ',h);"
   ]
   }
,
{
		   "cell_type": "markdown",
		   "metadata": {},
		   "source": [
			"## Example 12.5: WJ5.sce"
		   ]
		  },
  {
"cell_type": "code",
	   "execution_count": null,
	   "metadata": {
	    "collapsed": true
	   },
	   "outputs": [],
"source": [
"// sum 12-5\n",
"clc;\n",
"clear;\n",
"h=10;\n",
"t=10/sqrt(2);\n",
"Ta=80;\n",
"x=((50*25)+(50*0))/(50+50);\n",
"y=x;\n",
"ra=sqrt(x^2+37.5^2);\n",
"Ixx=(7.07*50^3/12)+(50*7.07*(12.5^2))+(50*7.07*12.5^2);\n",
"IG=2*Ixx;\n",
"e=100+(50-12.5);\n",
"Tr=16.09*10^-3;\n",
"P=Ta/Tr;\n",
"P=P*10^-3;\n",
"\n",
"  // printing data in scilab o/p window\n",
"  printf('P is %0.3f KN     ',P);"
   ]
   }
,
{
		   "cell_type": "markdown",
		   "metadata": {},
		   "source": [
			"## Example 12.6: WJ6.sce"
		   ]
		  },
  {
"cell_type": "code",
	   "execution_count": null,
	   "metadata": {
	    "collapsed": true
	   },
	   "outputs": [],
"source": [
"// sum 12-6\n",
"clc;\n",
"clear;\n",
"P=16*10^3;\n",
"l=300;\n",
"r=50;\n",
"M=P*l;\n",
"A=2*%pi*r;\n",
"Ixx=%pi*r^3;\n",
"sigb=M*r/Ixx;\n",
"Td=P/A;\n",
"Tmax=sqrt((sigb/2)^2+(Td^2));\n",
"Ta=90;\n",
"t=Tmax/Ta;\n",
"h=sqrt(2)*t;\n",
"h=5;\n",
"  // printing data in scilab o/p window\n",
"  printf('h is %0.0f mm     ',h);"
   ]
   }
,
{
		   "cell_type": "markdown",
		   "metadata": {},
		   "source": [
			"## Example 12.7: WJ7.sce"
		   ]
		  },
  {
"cell_type": "code",
	   "execution_count": null,
	   "metadata": {
	    "collapsed": true
	   },
	   "outputs": [],
"source": [
"// sum 12-7\n",
"clc;\n",
"clear;\n",
"sigut=415;\n",
"sige=sigut/3;\n",
"Ka=0.5;\n",
"Kb=0.85;\n",
"Kc=0.897;\n",
"SCF=1.5;\n",
"Kd=1/SCF;\n",
"FOS=2;\n",
"sige1=sige*Ka*Kb*Kc*Kd/FOS;\n",
"Pa=50*10^3;\n",
"h=10;\n",
"t=0.707*h;\n",
"l=Pa/(2*sige1*t);\n",
"\n",
"  // printing data in scilab o/p window\n",
"  printf('l is %0.0f mm     ',l);"
   ]
   }
,
{
		   "cell_type": "markdown",
		   "metadata": {},
		   "source": [
			"## Example 12.8: WJ8.sce"
		   ]
		  },
  {
"cell_type": "code",
	   "execution_count": null,
	   "metadata": {
	    "collapsed": true
	   },
	   "outputs": [],
"source": [
"// sum 12-8\n",
"clc;\n",
"clear;\n",
"l=300;\n",
"P=30*10^3;\n",
"T=P/(2*l);\n",
"Ta=124;\n",
"t1=T/Ta;\n",
"h1=sqrt(2)*t1;\n",
"M=P*l;\n",
"Ixx=2*100*110^2;\n",
"sigb=M/Ixx*110;\n",
"//Let the allowable bending stress is Tab\n",
"Tab=200;\n",
"t2=sigb/Tab;\n",
"h2=t2/0.707;\n",
"h2=3;\n",
"\n",
"  // printing data in scilab o/p window\n",
"  printf('h is %0.0f mm     ',h2);"
   ]
   }
,
{
		   "cell_type": "markdown",
		   "metadata": {},
		   "source": [
			"## Example 12.9: WJ9.sce"
		   ]
		  },
  {
"cell_type": "code",
	   "execution_count": null,
	   "metadata": {
	    "collapsed": true
	   },
	   "outputs": [],
"source": [
"// sum 12-9\n",
"clc;\n",
"clear;\n",
"Ta=60;\n",
"l1=60;\n",
"l2=40;\n",
"P1=Ta*0.707*l1;\n",
"P2=Ta*0.707*l2;\n",
"P=80*10^3;\n",
"h=P/(P1+P2);\n",
"h=20;\n",
"a=(P2*100)/(P1+P2);\n",
"\n",
"  // printing data in scilab o/p window\n",
"  printf('h is %0.0f mm     ',h);\n",
"  printf('\n a is %0.0f mm     ',a);"
   ]
   }
],
"metadata": {
		  "kernelspec": {
		   "display_name": "Scilab",
		   "language": "scilab",
		   "name": "scilab"
		  },
		  "language_info": {
		   "file_extension": ".sce",
		   "help_links": [
			{
			 "text": "MetaKernel Magics",
			 "url": "https://github.com/calysto/metakernel/blob/master/metakernel/magics/README.md"
			}
		   ],
		   "mimetype": "text/x-octave",
		   "name": "scilab",
		   "version": "0.7.1"
		  }
		 },
		 "nbformat": 4,
		 "nbformat_minor": 0
}
