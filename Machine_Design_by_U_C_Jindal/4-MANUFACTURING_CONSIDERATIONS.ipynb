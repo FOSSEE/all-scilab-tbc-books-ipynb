{
"cells": [
 {
		   "cell_type": "markdown",
	   "metadata": {},
	   "source": [
       "# Chapter 4: MANUFACTURING CONSIDERATIONS"
	   ]
	},
{
		   "cell_type": "markdown",
		   "metadata": {},
		   "source": [
			"## Example 4.1: MF1.sce"
		   ]
		  },
  {
"cell_type": "code",
	   "execution_count": null,
	   "metadata": {
	    "collapsed": true
	   },
	   "outputs": [],
"source": [
"// sum 4-1\n",
"clc;\n",
"clear;\n",
"d=70;\n",
"dmin=50;\n",
"dmax=80;\n",
"D=sqrt(dmin*dmax);\n",
"D=63;\n",
"i=0.458*(D^(1/3))+(0.001*D);\n",
"\n",
"//standard tolerance for H8 is ST1\n",
"ST1=25*i;\n",
"ST1=ST1*10^-3;\n",
"//standard tolerance of shaft for grade g7 is ST2\n",
"ST2=16*i;\n",
"ST2=ST2*10^-3;\n",
"es=-(2.5*(D^0.333));\n",
"es=es*10^-3;\n",
"ei=es-ST2;\n",
"//Lower limit for hole is LLH\n",
"//Upper limit for hole is ULH\n",
"//Upper limit for shaft is ULS\n",
"//Lower limit for shaft is LLS\n",
"LLH=d;\n",
"ULH=LLH+ST1;\n",
"ULS=LLH+es;\n",
"LLS=ULS-ST2;\n",
"//Maximum clearance is Cmax\n",
"//minimum clearance is Cmin\n",
"Cmax=ULH-LLS;\n",
"Cmin=LLH-ULS;\n",
"\n",
"  // printing data in scilab o/p window\n",
"  printf('LLH is %0.1f mm ',LLH);\n",
"  printf('\n ULH is %0.3f mm ',ULH);\n",
"  printf('\n ULS is %0.2f mm ',ULS);\n",
"  printf('\n LLS is %0.2f mm ',LLS);\n",
"  printf('\n Cmax is %0.3f mm ',Cmax);\n",
"  printf('\n Cmin is %0.3f mm ',Cmin);\n",
" "
   ]
   }
,
{
		   "cell_type": "markdown",
		   "metadata": {},
		   "source": [
			"## Example 4.2: MF2.sce"
		   ]
		  },
  {
"cell_type": "code",
	   "execution_count": null,
	   "metadata": {
	    "collapsed": true
	   },
	   "outputs": [],
"source": [
"// sum 4-2\n",
"clc;\n",
"clear;\n",
"d=25;\n",
"//Lower limit for hole is LLH\n",
"//Upper limit for hole is ULH\n",
"//Upper limit for shaft is ULS\n",
"//Lower limit for shaft is LLS\n",
"ULH=d+0.021;\n",
"LLH=d+0;\n",
"ULS=d+0.041;\n",
"LLS=d+0.028;\n",
"//Maximum interference is Cmax\n",
"//minimum interference is Cmin\n",
"Cmax=ULS-LLH;\n",
"Cmin=LLS-ULH;\n",
"\n",
"  // printing data in scilab o/p window\n",
"  printf('Cmax is %0.3f mm ',Cmax);\n",
"  printf('\n Cmin is %0.3f mm ',Cmin);"
   ]
   }
,
{
		   "cell_type": "markdown",
		   "metadata": {},
		   "source": [
			"## Example 4.3: MF3.sce"
		   ]
		  },
  {
"cell_type": "code",
	   "execution_count": null,
	   "metadata": {
	    "collapsed": true
	   },
	   "outputs": [],
"source": [
"// sum 4-3\n",
"clc;\n",
"clear;\n",
"d=50;\n",
"Es=0.039;\n",
"Ei=0;\n",
"es=-9*10^-3;\n",
"ei=-34*10^-3;\n",
"//Shaft dia is D\n",
"D=d+es;\n",
"//Lower limit for hole is LLH\n",
"//Upper limit for hole is ULH\n",
"//Upper limit for shaft is ULS\n",
"//Lower limit for shaft is LLS\n",
"ULH=d+Es;\n",
"LLH=d+Ei;\n",
"ULS=d+es;\n",
"LLS=d+ei;\n",
"//Maximum interference is Cmax\n",
"//minimum interference is Cmin\n",
"Cmax=ULH-LLS;\n",
"Cmin=LLH-ULS;\n",
"\n",
"  // printing data in scilab o/p window\n",
"  printf('ULH is %0.3f mm ',ULH);\n",
"  printf('\n LLH is %0.3f mm ',LLH);\n",
"  printf('\n ULS is %0.3f mm ',ULS);\n",
"  printf('\n LLS is %0.3f mm ',LLS);\n",
"  printf('\n Cmax is %0.3f mm ',Cmax);\n",
"  printf('\n Cmin is %0.3f mm ',Cmin);\n",
"  disp('Therefore, H8g7 is easy running fit');"
   ]
   }
,
{
		   "cell_type": "markdown",
		   "metadata": {},
		   "source": [
			"## Example 4.4: MF4.sce"
		   ]
		  },
  {
"cell_type": "code",
	   "execution_count": null,
	   "metadata": {
	    "collapsed": true
	   },
	   "outputs": [],
"source": [
"// sum 4-3\n",
"clc;\n",
"clear;\n",
"d=30;\n",
"Es=0.025;\n",
"Ei=0;\n",
"es=11*10^-3;\n",
"ei=-5*10^-3;\n",
"//Shaft dia is D\n",
"D=d+es;\n",
"//Lower limit for hole is LLH\n",
"//Upper limit for hole is ULH\n",
"//Upper limit for shaft is ULS\n",
"//Lower limit for shaft is LLS\n",
"ULH=d+Es;\n",
"LLH=d+Ei;\n",
"ULS=d+es;\n",
"LLS=d+ei;\n",
"//Maximum interference is Cmax\n",
"//minimum interference is Cmin\n",
"Cmax=ULH-LLS;\n",
"Cmin=ULS-LLH;;\n",
"\n",
"  // printing data in scilab o/p window\n",
"  printf('ULH is %0.3f mm ',ULH);\n",
"  printf('\n LLH is %0.3f mm ',LLH);\n",
"  printf('\n ULS is %0.3f mm ',ULS);\n",
"  printf('\n LLS is %0.3f mm ',LLS);\n",
"  printf('\n Cmax is %0.3f mm ',Cmax);\n",
"  printf('\n Cmin is %0.3f mm ',Cmin);"
   ]
   }
],
"metadata": {
		  "kernelspec": {
		   "display_name": "Scilab",
		   "language": "scilab",
		   "name": "scilab"
		  },
		  "language_info": {
		   "file_extension": ".sce",
		   "help_links": [
			{
			 "text": "MetaKernel Magics",
			 "url": "https://github.com/calysto/metakernel/blob/master/metakernel/magics/README.md"
			}
		   ],
		   "mimetype": "text/x-octave",
		   "name": "scilab",
		   "version": "0.7.1"
		  }
		 },
		 "nbformat": 4,
		 "nbformat_minor": 0
}
