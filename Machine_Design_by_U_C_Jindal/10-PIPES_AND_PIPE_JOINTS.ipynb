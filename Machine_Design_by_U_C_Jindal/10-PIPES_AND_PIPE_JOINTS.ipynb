{
"cells": [
 {
		   "cell_type": "markdown",
	   "metadata": {},
	   "source": [
       "# Chapter 10: PIPES AND PIPE JOINTS"
	   ]
	},
{
		   "cell_type": "markdown",
		   "metadata": {},
		   "source": [
			"## Example 10.1: PPJ1.sce"
		   ]
		  },
  {
"cell_type": "code",
	   "execution_count": null,
	   "metadata": {
	    "collapsed": true
	   },
	   "outputs": [],
"source": [
"// sum 10-1\n",
"clc;\n",
"clear;\n",
"sigta=140/2;\n",
"nt=0.75;\n",
"//Let the flow rate be Q\n",
"Q=0.25;\n",
"v=1.2;\n",
"D=1.13*sqrt(Q/v);\n",
"D=520;\n",
"p=0.7;\n",
"C=9;\n",
"t=(p*D)/(2*sigta*nt)+C;\n",
"\n",
"  // printing data in scilab o/p window\n",
"  printf(' t is %0.1f mm     ',t);"
   ]
   }
,
{
		   "cell_type": "markdown",
		   "metadata": {},
		   "source": [
			"## Example 10.2: PPJ2.sce"
		   ]
		  },
  {
"cell_type": "code",
	   "execution_count": null,
	   "metadata": {
	    "collapsed": true
	   },
	   "outputs": [],
"source": [
"// sum 10-2\n",
"clc;\n",
"clear;\n",
"p=3*8;\n",
"sigta=60;\n",
"d=150;\n",
"t=d/2*sqrt(((sigta+p)/(sigta-p))-1);\n",
"t=75*sqrt((84/36)-1);\n",
"t=40;\n",
"do=d+(2*t);\n",
"D=d+(2*t)+20;\n",
"w=10;\n",
"Ds=d+(2*w);\n",
"P=%pi*(Ds^2)*8/4;\n",
"sigp=310;\n",
"FOS=4;\n",
"sigb=77.5;\n",
"At=P/(sigb*2);\n",
"At=1300;\n",
"D=250;\n",
"db=45;\n",
"b=D;\n",
"a=1.8*b;\n",
"CD=D+(2*db*1.2);\n",
"sigp=310;\n",
"Pr=0.75*sigp*At;\n",
"Pr=Pr*10^-3;\n",
"t=40;\n",
"D1=d+(2*t)+20;\n",
"D2=D1+(4.6*31);\n",
"CD=D2-((3*t)+20);\n",
"\n",
"  // printing data in scilab o/p window\n",
"  printf('Pr is %0.2f kN     ',Pr);\n",
"  printf('\n D1 is %0.0f mm     ',D1);\n",
"  printf('\n D2 is %0.1f mm     ',D2);\n",
"  printf('\n CD is %0.1f mm     ',CD);"
   ]
   }
,
{
		   "cell_type": "markdown",
		   "metadata": {},
		   "source": [
			"## Example 10.3: PPJ3.sce"
		   ]
		  },
  {
"cell_type": "code",
	   "execution_count": null,
	   "metadata": {
	    "collapsed": true
	   },
	   "outputs": [],
"source": [
"// sum 10-3\n",
"clc;\n",
"clear;\n",
"p=14;\n",
"d=50;\n",
"sigyp=270;\n",
"FOS=3;\n",
"sigta=sigyp/FOS;\n",
"pt=2*p;\n",
"t=d/2*sqrt(((sigta+pt)/(sigta-pt))-1);\n",
"t=10;\n",
"D1=d+(2*t);\n",
"Ds=D1+20;\n",
"P=%pi*(Ds^2)*p/4;\n",
"sigba=380/4;\n",
"At=P/(4*sigba);\n",
"At=245;\n",
"db=20;\n",
"Dd=70+(2*20)+5;\n",
"R=db+2.5;\n",
"B=(Dd/sqrt(2))+(2*(db+2.5));\n",
"B=127;\n",
"Y=Dd/(2*sqrt(2));\n",
"Rm=34.12;\n",
"M=(P*Y/2)+(P*Rm/%pi);\n",
"sigfa=250/5;\n",
"b=127/70;\n",
"Z=b/6;\n",
"tf=sqrt(M/(sigfa*Z));\n",
"tf=44;\n",
"\n",
"  // printing data in scilab o/p window\n",
"  printf('d is %0.0f mm     ',d);\n",
"  printf('\n t is %0.0f mm     ',t);\n",
"  printf('\n B is %0.0f mm     ',B);\n",
"  printf('\n R is %0.1f mm     ',R);\n",
"  printf('\n Y is %0.2f mm     ',Y);\n",
"  printf('\n tf is %0.0f mm     ',tf);"
   ]
   }
,
{
		   "cell_type": "markdown",
		   "metadata": {},
		   "source": [
			"## Example 10.4: PPJ4.sce"
		   ]
		  },
  {
"cell_type": "code",
	   "execution_count": null,
	   "metadata": {
	    "collapsed": true
	   },
	   "outputs": [],
"source": [
"// sum 10-4\n",
"clc;\n",
"clear;\n",
"p=1.25;\n",
"D=200;\n",
"nt=0.75;\n",
"C=9;\n",
"sigta=20;\n",
"t=(p*D)/(2*sigta*nt)+C;\n",
"t=18;\n",
"D1=D+(2*t);\n",
"dr=D1+10;\n",
"sigp=310;\n",
"sigba=sigp/4;\n",
"db=16;\n",
"Db=dr+32+5;\n",
"Do=Db+(2*db);\n",
"P=%pi*(251+db)^2*1.25/4;\n",
"n=6;\n",
"Y=(Db-dr)/2;\n",
"M=P/n*Y;\n",
"Z=dr*tand(30)/6;\n",
"tf=sqrt(M/(sigta*Z));\n",
"tf=22;\n",
"Deff=dr+db+5;\n",
"\n",
"  // printing data in scilab o/p window\n",
"  printf('D is %0.0f mm     ',D);\n",
"  printf('\n t is %0.0f mm     ',t);\n",
"  printf('\n Y is %0.1f mm     ',Y);\n",
"  printf('\n tf is %0.0f mm     ',tf);\n",
"  printf('\n Deff is %0.0f mm     ',Deff);"
   ]
   }
],
"metadata": {
		  "kernelspec": {
		   "display_name": "Scilab",
		   "language": "scilab",
		   "name": "scilab"
		  },
		  "language_info": {
		   "file_extension": ".sce",
		   "help_links": [
			{
			 "text": "MetaKernel Magics",
			 "url": "https://github.com/calysto/metakernel/blob/master/metakernel/magics/README.md"
			}
		   ],
		   "mimetype": "text/x-octave",
		   "name": "scilab",
		   "version": "0.7.1"
		  }
		 },
		 "nbformat": 4,
		 "nbformat_minor": 0
}
