{
"cells": [
 {
		   "cell_type": "markdown",
	   "metadata": {},
	   "source": [
       "# Chapter 14: KEYS AND COUPLINGS"
	   ]
	},
{
		   "cell_type": "markdown",
		   "metadata": {},
		   "source": [
			"## Example 14.1: KC1.sce"
		   ]
		  },
  {
"cell_type": "code",
	   "execution_count": null,
	   "metadata": {
	    "collapsed": true
	   },
	   "outputs": [],
"source": [
"// sum 14-1\n",
"clc;\n",
"clear;\n",
"d=40;\n",
"r=d/2;\n",
"P=6*10^3;\n",
"N=350;\n",
"sigyt=380;\n",
"A=%pi*12^2/2;\n",
"theta=%pi-(2*atan(4/12));\n",
"alpha=180-(theta*%pi/180);\n",
"l=2*12*cosd(19.5);\n",
"A1=l*4/2;\n",
"Abcd=(A*141/180)-A1;\n",
"A2=A-Abcd;\n",
"A3=8*l;\n",
"w=2*%pi*N/60;\n",
"T=P/w;\n",
"Pt=T*10^3/r;\n",
"sigb=Pt/A2;\n",
"//Let shear stress developed in key Tk\n",
"Tk=Pt/A3;\n",
"FOS1=sigyt/sigb;\n",
"FOS2=0.577*sigyt/Tk;\n",
"\n",
"  // printing data in scilab o/p window\n",
"  printf('FOS1 is %0.3f     ',FOS1);\n",
"  printf('\n FOS2 is %0.2f     ',FOS2);"
   ]
   }
,
{
		   "cell_type": "markdown",
		   "metadata": {},
		   "source": [
			"## Example 14.2: KC2.sce"
		   ]
		  },
  {
"cell_type": "code",
	   "execution_count": null,
	   "metadata": {
	    "collapsed": true
	   },
	   "outputs": [],
"source": [
"// sum 14-2\n",
"clc;\n",
"clear;\n",
"n=12;\n",
"phi=360*%pi/(180*12*2);\n",
"R1=45/2;\n",
"R2=50/2;\n",
"l=60;\n",
"Rm=(R1+R2)/2;\n",
"p=6.5;\n",
"Pn=(R2-R1)*l*p;\n",
"T=Pn*Rm;\n",
"T=T*n;\n",
"N=400;\n",
"w=2*%pi*N/60;\n",
"P=T*w;\n",
"A=(%pi*R1*l)/n;\n",
"Ts=Pn/A;\n",
"Ah=(%pi*R2*l)/n;\n",
"Th=Pn/Ah;\n",
"\n",
"  // printing data in scilab o/p window\n",
"  printf('Ts is %0.2f N/mm^2     ',Ts);\n",
"  printf('\n Th is %0.2f N/mm^2    ',Th);"
   ]
   }
,
{
		   "cell_type": "markdown",
		   "metadata": {},
		   "source": [
			"## Example 14.3: KC3.sce"
		   ]
		  },
  {
"cell_type": "code",
	   "execution_count": null,
	   "metadata": {
	    "collapsed": true
	   },
	   "outputs": [],
"source": [
"// sum 14-3\n",
"clc;\n",
"clear;\n",
"N=360;\n",
"w=2*%pi*N/60;\n",
"sigyt=380;\n",
"r=25;\n",
"P=40*10^3;\n",
"FOS=3;\n",
"T=P/w;\n",
"Pt=T*10^3/(2*r);\n",
"siga=380/3;\n",
"Ta=0.577*380/3;\n",
"l1=Pt/(sqrt(2)*12*Ta);\n",
"l2=Pt*sqrt(2)/(siga*12);\n",
"\n",
"  // printing data in scilab o/p window\n",
"  printf('l1 is %0.0f mm     ',l1);\n",
"  printf('\n l2 is %0.2f mm     ',l2);"
   ]
   }
,
{
		   "cell_type": "markdown",
		   "metadata": {},
		   "source": [
			"## Example 14.4: KC4.sce"
		   ]
		  },
  {
"cell_type": "code",
	   "execution_count": null,
	   "metadata": {
	    "collapsed": true
	   },
	   "outputs": [],
"source": [
"// sum 14-4\n",
"clc;\n",
"clear;\n",
"N=300;\n",
"w=2*%pi*N/60;\n",
"P=12*10^3;\n",
"Ks=1.25;\n",
"Pd=P*Ks;\n",
"T=Pd/w;\n",
"Tas=50;\n",
"d=16*T*10^3/(%pi*Tas);\n",
"d=d^(1/3);\n",
"d=40;\n",
"Ts=10;\n",
"d1=(2*d)+13;\n",
"x=(d1^4-d^4)/d1;\n",
"//Let the shear stress in the key be Tsh\n",
"Tsh=T*10^3*16/(%pi*x);\n",
"l=3.5*d;\n",
"Ft=T*2*10^3/d;\n",
"l1=70;\n",
"sigak=50;\n",
"b=Ft/(l1*sigak);\n",
"t=2*Ft/(100*l1);\n",
"\n",
"  // printing data in scilab o/p window\n",
"  printf('d is %0.0f mm     ',d);\n",
"  printf('\n Tsh is %0.2f MPa     ',Tsh);\n",
"  printf('\n b is %0.0f mm     ',b);\n",
"  printf('\n t is %0.0f mm     ',t);"
   ]
   }
,
{
		   "cell_type": "markdown",
		   "metadata": {},
		   "source": [
			"## Example 14.5: KC5.sce"
		   ]
		  },
  {
"cell_type": "code",
	   "execution_count": null,
	   "metadata": {
	    "collapsed": true
	   },
	   "outputs": [],
"source": [
"// sum 14-5\n",
"clc;\n",
"clear;\n",
"P=36*10^3;\n",
"N=200;\n",
"w=2*%pi*N/60;\n",
"T=P/w;\n",
"Tas=45;\n",
"d=16*T*10^3/(%pi*Tas);\n",
"d=d^(1/3);\n",
"d=60;\n",
"d1=(2*d)+13;\n",
"l=3.5*d;\n",
"Ftk=T*2/d;\n",
"lk=l/2;\n",
"Tak=40;\n",
"sigack=90;\n",
"b=Ftk*10^3/(lk*Tak);\n",
"t=2*Ftk*10^3/(sigack*lk);\n",
"n=4;\n",
"sigatb=60;\n",
"u=0.25;\n",
"dr=16*T*10^3/(u*%pi^2*sigatb*n*d);\n",
"dr=sqrt(dr);\n",
"\n",
"  // printing data in scilab o/p window\n",
"  printf('d is %0.0f mm     ',d);\n",
"  printf('\n b is %0.1f mm     ',b);\n",
"  printf('\n t is %0.0f mm     ',t);\n",
"  printf('\n dr is %0.3f mm     ',dr);"
   ]
   }
,
{
		   "cell_type": "markdown",
		   "metadata": {},
		   "source": [
			"## Example 14.6: KC6.sce"
		   ]
		  },
  {
"cell_type": "code",
	   "execution_count": null,
	   "metadata": {
	    "collapsed": true
	   },
	   "outputs": [],
"source": [
"// sum 14-5\n",
"clc;\n",
"clear;\n",
"P=16*10^3;\n",
"N=1000;\n",
"w=2*%pi*N/60;\n",
"T=P/w;\n",
"Ks=1.4;\n",
"Td=T*Ks;\n",
"Tas=40;\n",
"d=16*T*10^3/(%pi*Tas);\n",
"d=d^(1/3);\n",
"d=32;\n",
"d1=2*d;\n",
"l=1.5*d;\n",
"ds=1.5*d;\n",
"Tak=40;\n",
"sigack=70;\n",
"Ftk=Td*2/d;\n",
"b=Ftk*10^3/(l*Tak);\n",
"t=2*Ftk*10^3/(sigack*l);\n",
"Taf=10;\n",
"tf=Td*10^3*2/(%pi*Taf*d1^2);\n",
"Ftb=Td*10^3/(1.5*d*4);\n",
"Tab=40;\n",
"db=sqrt(Ftb*4/(Tab*%pi));\n",
"D=4*d;\n",
"trp=d/6;\n",
"Ftb1=Td*10^3/(45*4);\n",
"db1=sqrt(Ftb1*4/(Tab*%pi));\n",
"\n",
"  // printing data in scilab o/p window\n",
"  printf('d is %0.0f mm     ',d);\n",
"  printf('\n b is %0.0f mm     ',b);\n",
"  printf('\n t is %0.0f mm     ',t);\n",
"  printf('\n db is %0.2f mm     ',db);\n",
"  printf('\n db1 is %0.2f mm     ',db1);\n",
"  \n",
"  //The answer to Key thickness 't' is calculated incorrectly in the book."
   ]
   }
,
{
		   "cell_type": "markdown",
		   "metadata": {},
		   "source": [
			"## Example 14.7: KC7.sce"
		   ]
		  },
  {
"cell_type": "code",
	   "execution_count": null,
	   "metadata": {
	    "collapsed": true
	   },
	   "outputs": [],
"source": [
"// sum 14-5\n",
"clc;\n",
"clear;\n",
"P=30*10^3;\n",
"N=1440;\n",
"w=2*%pi*N/60;\n",
"T=P/w;\n",
"d=36;\n",
"d1=30;\n",
"d2=2*d;\n",
"d3=d1*2;\n",
"l=1.5*d;\n",
"Dp=3.5*d;\n",
"n=6;\n",
"Ft=(2*T)/(Dp*n);\n",
"p=0.5;\n",
"A=Ft/p;\n",
"Lf=d;\n",
"dp=A/Lf;\n",
"M=Ft*10^3*(5+(Lf/2));\n",
"db=(32*M/(%pi*40))^(1/3);\n",
"db=15;\n",
"T=(4*526)/(%pi*db^2);\n",
"sigb=32*M/(%pi*db^3);\n",
"sigmax=(sigb/2)+sqrt(((sigb/2)^2)+(T^2));\n",
"b=d/4;\n",
"t=6;\n",
"Lf=36;\n",
"La=10;\n",
"Do=126+30+(2*(5+1))+(2*6);\n",
"\n",
"  // printing data in scilab o/p window\n",
"  printf('sigmax is %0.2f MPa     ',sigmax);\n",
"  printf('\n b is %0.0f mm     ',b);\n",
"  printf('\n t is %0.0f mm     ',t);\n",
"  printf('\n Lf is %0.0f mm     ',Lf);\n",
"  printf('\n Do is %0.0f mm     ',Do);"
   ]
   }
],
"metadata": {
		  "kernelspec": {
		   "display_name": "Scilab",
		   "language": "scilab",
		   "name": "scilab"
		  },
		  "language_info": {
		   "file_extension": ".sce",
		   "help_links": [
			{
			 "text": "MetaKernel Magics",
			 "url": "https://github.com/calysto/metakernel/blob/master/metakernel/magics/README.md"
			}
		   ],
		   "mimetype": "text/x-octave",
		   "name": "scilab",
		   "version": "0.7.1"
		  }
		 },
		 "nbformat": 4,
		 "nbformat_minor": 0
}
