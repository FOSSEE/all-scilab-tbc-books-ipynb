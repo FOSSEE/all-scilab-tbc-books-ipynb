{
"cells": [
 {
		   "cell_type": "markdown",
	   "metadata": {},
	   "source": [
       "# Chapter 22: FRICTION CLUTCHES"
	   ]
	},
{
		   "cell_type": "markdown",
		   "metadata": {},
		   "source": [
			"## Example 22.10: FC2210.sce"
		   ]
		  },
  {
"cell_type": "code",
	   "execution_count": null,
	   "metadata": {
	    "collapsed": true
	   },
	   "outputs": [],
"source": [
"// 22-10\n",
"clc;\n",
"clear;\n",
"w2=2*%pi*1400/60;\n",
"w1=0.8*w2;\n",
"P=40*10^3;\n",
"T=P/w2;\n",
"n=4;\n",
"T1=T/4;\n",
"R=0.16;//Inner radius of drum\n",
"r=0.13;//radial distance of each shoe from axis of rotation\n",
"u=0.22;//coefficient of friction\n",
"x=u*r*R*((w2^2)-(w1^2))\n",
"m =T1/x;\n",
"l=R*%pi/3;\n",
"N=T1/(R*u);\n",
"p=1*10^5;\n",
"b=N/(p*l)*10^3;\n",
"\n",
"  // printing data in scilab o/p window\n",
"printf('\nThe full speed is %0.1f rad/sec',w2);\n",
"printf('\nThe engagement speed is %0.2f rad/sec',w1);\n",
"printf('\nThe number of shoes is %0.0f ',n);\n",
"printf('\nThe Torque is %0.1f Nm',T);\n",
"printf('\nThe Torque per shoe is %0.1f Nm',T1);\n",
"printf('\nThe mass per shoe is %0.2f kg',m);\n",
"printf('\nThe length of friction lining is %0.5f m',l);\n",
"printf('\nThe width is %0.1f mm',b);"
   ]
   }
,
{
		   "cell_type": "markdown",
		   "metadata": {},
		   "source": [
			"## Example 22.1: FC221.sce"
		   ]
		  },
  {
"cell_type": "code",
	   "execution_count": null,
	   "metadata": {
	    "collapsed": true
	   },
	   "outputs": [],
"source": [
"// 22-1\n",
"clc;\n",
"clear;\n",
"u=0.28 //(coefficient of friction)\n",
"N=300 //(Engine rpm)\n",
"I=7.2 \n",
"Pmax= 0.1; \n",
"R1=70;\n",
"R2=110;\n",
"n=2; //(Both sides of the plate are effective)\n",
"//Using Uniform Wear Theory\n",
"//Axial Force W\n",
"W=n*%pi*Pmax*R1*(R2-R1);\n",
"//Frictional Torque Tf\n",
"Tf=u*W*(R1+R2)/2*(10^-3);\n",
"w=2*%pi*N/60;\n",
"//Power P\n",
"P=Tf*w;\n",
"//Torque = Mass moment of inertia*angular acceleration\n",
"a=Tf/I;\n",
"t=w/a; \n",
"//Angle turned by driving shaft theta1 through which slipping takes place\n",
"theta1=w*t;\n",
"//angle turned by driven shaft theta2\n",
"theta2=a*(t^2)/2;\n",
"E=Tf*(theta1-theta2);\n",
"\n",
"  // printing data in scilab o/p window\n",
"printf('\nThe force is %0.1f N',W);\n",
"printf('\nThe Torque is %0.2f Nm',Tf);\n",
"printf('\nThe Power is %0.0f W',P);\n",
"printf('\nThe angular acceleration is %0.2f rad/sec^2',a);\n",
"printf('\nThe time taken is %0.1f sec',t);\n",
"printf('\nThe energy is %0.2f Nm',E);\n",
"\n",
"//The difference in the answer of energy 'E' is due to rounding-off of values.\n",
"\n",
"\n",
"\n",
"\n",
"\n",
""
   ]
   }
,
{
		   "cell_type": "markdown",
		   "metadata": {},
		   "source": [
			"## Example 22.2: FC222.sce"
		   ]
		  },
  {
"cell_type": "code",
	   "execution_count": null,
	   "metadata": {
	    "collapsed": true
	   },
	   "outputs": [],
"source": [
"// 22-2\n",
"clc;\n",
"clear;\n",
"//Power P\n",
"P=80*10^3; //(Watt)\n",
"N=3000; //(Engine rpm)\n",
"w=2*%pi*3*10^3/60\n",
"Tf=8*10^4/w;\n",
"Rm=100;//(mm)\n",
"p=0.2 //N/mm^2\n",
"u=0.22 \n",
"// let width b= (R1-R2). \n",
"//Axial force W=2*pi*Rm*b*p\n",
"//Torque T=u*W*Rm\n",
"b=Tf/(u*2*%pi*(Rm^2)*p);\n",
"b=50; \n",
"R2=Rm+b;\n",
"R1=Rm-b;\n",
"Di=2*R1; //inner diameter\n",
"W=2*%pi*Rm*b*p;\n",
"n=8; //n is number of springs\n",
"//Axial force per spring W1\n",
"W1=W/n;\n",
"W1=W1+15;\n",
"//axial deflection del\n",
"del=10; \n",
"//stiffness k\n",
"k=W1/del;\n",
"// Spring index C\n",
"C=6;\n",
"//number of coils n1\n",
"n1=6; //Assumption\n",
"d=k*n*n1*(C^3)/(80*10^3);\n",
"d=11; // Rounding off to nearest standard value\n",
"D=C*d;\n",
"clearance=2;\n",
"FL=((n1+2)*d)+(2*del)+clearance; // two end coils, therefore (2*del)\n",
"\n",
"  // printing data in scilab o/p window\n",
"\n",
"printf('\nThe Torque is %0.2f Nm',Tf);\n",
"printf('\nThe width is %0.0f mm',b);\n",
"printf('\nThe force is %0.0f N',W);\n",
"printf('\nThe Axial force per spring is %0.0f N',W1);\n",
"printf('\nThe Spring stiffness is %0.0f N/mm',k);\n",
"printf('\nThe Spring wire diameter is %0.0f mm',d);\n",
"printf('\nThe Mean coil diameter is %0.0f mm',D);\n",
"printf('\nThe Free length is %0.0f mm',FL);\n",
""
   ]
   }
,
{
		   "cell_type": "markdown",
		   "metadata": {},
		   "source": [
			"## Example 22.3: FC223.sce"
		   ]
		  },
  {
"cell_type": "code",
	   "execution_count": null,
	   "metadata": {
	    "collapsed": true
	   },
	   "outputs": [],
"source": [
"// 22-3\n",
"clc;\n",
"clear;\n",
"//Power P\n",
"P=40*10^3 //Watt\n",
"n1=100; //rpm\n",
"n2=400; //rpm\n",
"//Speed factor Ks\n",
"Ks=0.9+0.001*n2;\n",
"//Clutch power Pc\n",
"Pc=P*n2/(n1*Ks)*10^-3;\n",
"\n",
"  // printing data in scilab o/p window\n",
"printf('\nThe Speed factor is %0.1f ',Ks);\n",
"printf('\nThe clutch poweris %0.0f KW',Pc);"
   ]
   }
,
{
		   "cell_type": "markdown",
		   "metadata": {},
		   "source": [
			"## Example 22.4: FC224.sce"
		   ]
		  },
  {
"cell_type": "code",
	   "execution_count": null,
	   "metadata": {
	    "collapsed": true
	   },
	   "outputs": [],
"source": [
"//22-4\n",
"clc;\n",
"clear;\n",
"// plot Torque vs Ro/Ri\n",
"//x=Ro/Ri\n",
"//According to Uniform Wear theory\n",
"x=[0 0.2 0.4 0.577 0.6 0.8 1.0];\n",
"n=length(x);\n",
"for i=1:n\n",
"    Tf(i)=(x(i)-(x(i)^3));\n",
"end\n",
"plot (x,Tf);\n",
"xtitle('','Ro/Ri');\n",
"ylabel('Tf');\n",
"xgrid(2);"
   ]
   }
,
{
		   "cell_type": "markdown",
		   "metadata": {},
		   "source": [
			"## Example 22.5: FC225.sce"
		   ]
		  },
  {
"cell_type": "code",
	   "execution_count": null,
	   "metadata": {
	    "collapsed": true
	   },
	   "outputs": [],
"source": [
"// 22-5\n",
"clc;\n",
"clear;\n",
"n1=4;\n",
"n2=3;\n",
"n=(n1+n2-1);\n",
"R2=80;\n",
"R1=50;\n",
"//According to Uniform Pressure Theory\n",
"//W=p*pi*((R2^2)-(R1^2)) T=n*2*u*W*((R2^3)-(R1^3))/(((R2^2)-(R1^2))*3)\n",
"P=15*10^3;\n",
"N=1400;\n",
"u=0.25;\n",
"w=2*%pi*N/60;\n",
"T=P/w;\n",
"W=T*3*((R2^2)-(R1^2))/(n*2*u*((R2^3)-(R1^3)))*10^3;\n",
"p=W/(%pi*((R2^2)-(R1^2)));\n",
"\n",
"  // printing data in scilab o/p window\n",
"printf('\nThe angular speed is %0.2f rad/sec',w);\n",
"printf('\nThe Torque is %0.3f Nm',T);\n",
"printf('\nThe uniform pressure is %0.3f N/mm^2',p);\n",
"printf('\nThe Force is %0.1f N',W);\n",
"\n",
"\n",
"\n",
""
   ]
   }
,
{
		   "cell_type": "markdown",
		   "metadata": {},
		   "source": [
			"## Example 22.6: FC226.sce"
		   ]
		  },
  {
"cell_type": "code",
	   "execution_count": null,
	   "metadata": {
	    "collapsed": true
	   },
	   "outputs": [],
"source": [
"//FRICTION CLUTCHES\n",
"// PAGE 584, 22-6\n",
"clc;\n",
"P=5*10^3;\n",
"N=1000;\n",
"w=2*%pi*N/60;\n",
"Rm=50;\n",
"pm=0.3;\n",
"Tf=P/w;\n",
"u=0.1;\n",
"R2=50*2/(0.6+1);\n",
"R1=0.6*R2;\n",
"//According to uniform Wear theory\n",
"W=pm*Rm*(R2-R1)*2*%pi;\n",
"n=Tf*(10^3)/(u*W*Rm);\n",
"pmax=pm*Rm/R1;\n",
"\n",
"  // printing data in scilab o/p window\n",
"printf('\nThe angular speed is %0.2f rad/sec',w);\n",
"printf('\nThe Torque is %0.3f Nm',Tf);\n",
"printf('\nThe Inner radius is %0.1f mm',R1);\n",
"printf('\nThe Outer radius is %0.1f mm',R2);\n",
"printf('\nThe number of contacting surfaces is %0.0f ',n);\n",
"printf('\nThe max. pressure is %0.1f N/mm^2',pmax);"
   ]
   }
,
{
		   "cell_type": "markdown",
		   "metadata": {},
		   "source": [
			"## Example 22.7: FC227.sce"
		   ]
		  },
  {
"cell_type": "code",
	   "execution_count": null,
	   "metadata": {
	    "collapsed": true
	   },
	   "outputs": [],
"source": [
"// 22-7\n",
"clc;\n",
"clear;\n",
"P=12*10^3;\n",
"N=750 //Speed=N\n",
"w=2*%pi*N/60;\n",
"Tf=P/w;\n",
"p1=0.12;\n",
"a=12.5;//Semi-cone angle\n",
"u=0.3;\n",
"k=u*0.18246*1.121/0.21644;\n",
"R1=(Tf*(10^3)/k)^(1/3);\n",
"R2=R1*1.242;\n",
"Rm=1.121*R1;\n",
"W=2*%pi*p1*R1*(R2-R1);\n",
"\n",
"  // printing data in scilab o/p window\n",
"printf('\nThe angular speed is %0.2f rad/sec',w);\n",
"printf('\nThe Torque is %0.1f Nm',Tf);\n",
"printf('\nThe Inner radius is %0.1f mm',R1);\n",
"printf('\nThe Outer radius is %0.1f mm',R2);\n",
"printf('\nThe mean radius is %0.2f mm',Rm);\n",
"printf('\nThe axial force is %0.0f N',W);\n",
"\n",
"//The difference in the answer is due to rounding-off of values."
   ]
   }
,
{
		   "cell_type": "markdown",
		   "metadata": {},
		   "source": [
			"## Example 22.8: FC228.sce"
		   ]
		  },
  {
"cell_type": "code",
	   "execution_count": null,
	   "metadata": {
	    "collapsed": true
	   },
	   "outputs": [],
"source": [
"//22-8\n",
"clc;\n",
"clear;\n",
"//semi-cone angle is given as 15 degree\n",
"k=sin(15*%pi/180);\n",
"u=0.3;\n",
"W=300;\n",
"Rm=90/2;\n",
"Tf=u*W*Rm/k;\n",
"Tf=Tf*(10^-3);\n",
"I=0.4;\n",
"a=Tf/I;\n",
"N=1440;\n",
"w=2*%pi*N/60;\n",
"t=w/a;\n",
"//During Slipping\n",
"theta1=w*t;\n",
"theta2=theta1/2;\n",
"U=Tf*(theta1-theta2);\n",
"\n",
"  // printing data in scilab o/p window\n",
"printf('\nThe Torque is %0.3f Nm',Tf);\n",
"printf('\nThe angular acceleration is %0.3f rad/sec^2',a);\n",
"printf('\nThe angular speed is %0.1f rad/sec',w);\n",
"printf('\nThe time taken is %0.2f sec',t);\n",
"printf('\nThe Energy lost in friction is %0.0f Nm',U);"
   ]
   }
,
{
		   "cell_type": "markdown",
		   "metadata": {},
		   "source": [
			"## Example 22.9: FC229.sce"
		   ]
		  },
  {
"cell_type": "code",
	   "execution_count": null,
	   "metadata": {
	    "collapsed": true
	   },
	   "outputs": [],
"source": [
"// 22-9\n",
"clc;\n",
"clear;\n",
"P=15*10^3;\n",
"Ka=1.25;\n",
"N=1500;\n",
"w=2*%pi*N/60;\n",
"Tf=P/w;\n",
"d=(Tf*16/(50*%pi))^(1/3);\n",
"d=25;\n",
"Rm=5*d;\n",
"Pav=0.12;\n",
"u=0.22;\n",
"b=Tf/(%pi*u*Pav*(Rm^2));\n",
"b=40;\n",
"R1=Rm-(b*sin(15*%pi/180)/2);\n",
"R2=Rm+(b*sin(15*%pi/180)/2);\n",
"\n",
"  // printing data in scilab o/p window\n",
"printf('\nThe Torque is %0.2f Nm',Tf);\n",
"printf('\nThe shaft diameter is %0.0f mm',d);\n",
"printf('\nThe width is %0.0f mm',b);\n",
"printf('\nThe Inner radius is %0.1f mm',R1);\n",
"printf('\nThe Outer radius is %0.1f mm',R2);"
   ]
   }
],
"metadata": {
		  "kernelspec": {
		   "display_name": "Scilab",
		   "language": "scilab",
		   "name": "scilab"
		  },
		  "language_info": {
		   "file_extension": ".sce",
		   "help_links": [
			{
			 "text": "MetaKernel Magics",
			 "url": "https://github.com/calysto/metakernel/blob/master/metakernel/magics/README.md"
			}
		   ],
		   "mimetype": "text/x-octave",
		   "name": "scilab",
		   "version": "0.7.1"
		  }
		 },
		 "nbformat": 4,
		 "nbformat_minor": 0
}
