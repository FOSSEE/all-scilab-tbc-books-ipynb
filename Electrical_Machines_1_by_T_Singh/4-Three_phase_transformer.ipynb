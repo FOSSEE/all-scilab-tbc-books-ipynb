{
"cells": [
 {
		   "cell_type": "markdown",
	   "metadata": {},
	   "source": [
       "# Chapter 4: Three phase transformer"
	   ]
	},
{
		   "cell_type": "markdown",
		   "metadata": {},
		   "source": [
			"## Example 4.1: EX4_1.sce"
		   ]
		  },
  {
"cell_type": "code",
	   "execution_count": null,
	   "metadata": {
	    "collapsed": true
	   },
	   "outputs": [],
"source": [
"//Caption:Determines the turns per phase for the HV and LV winding of the 3 phase transformer.\n",
"//Exam:4.1\n",
"clc;\n",
"clear;\n",
"close;\n",
"F_max=0.024;//Maximum flux (in weber)\n",
"f=50;//Supply frequency(in Hz)\n",
"E_1p=11000;//Primary phase voltage(in Volts)\n",
"N_1=ceil(E_1p/(4.44*F_max*f));//Turns per phase on primary\n",
"disp(N_1,'turns per phase for the H.V. winding of the 3 phase transformer=');\n",
"E_2l=400;//Secondary line voltage(in Volts)\n",
"E_2p=E_2l/(3)^(1/2);//Secondary phase voltage(in Volts)\n",
"N_2=ceil(E_2p/(4.44*F_max*f));//turns per phase for the L.V. winding of the 3 phase transformer\n",
"disp(N_2,'turns per phase for the L.V. winding of the 3 phase transformer=');"
   ]
   }
,
{
		   "cell_type": "markdown",
		   "metadata": {},
		   "source": [
			"## Example 4.2: EX4_2.sce"
		   ]
		  },
  {
"cell_type": "code",
	   "execution_count": null,
	   "metadata": {
	    "collapsed": true
	   },
	   "outputs": [],
"source": [
"//Caption:In a three phase transformer Calculate the secondary line voltage at no load when windings star delta connected and delta star connected.\n",
"//Exam:4.2\n",
"clc;\n",
"clear;\n",
"close;\n",
"//when windings are star delta connected\n",
"V=3300;//the supply voltage(in Volts)\n",
"V_l1=V;//Primary line voltage in star delta conection\n",
"N_1=420;//turns on the primary side of the transformer\n",
"N_2=36;//turns on the secondary side of the transformer\n",
"V_p1=V_l1/(3)^(1/2);//Primary phase voltage in star delta connection\n",
"V_p2=V_p1*(N_2/N_1);//Secondary phase voltage in star delta connection\n",
"V_l2=V_p2;//Secondary line voltage when windings are star delta connected(in Volts)\n",
"disp(V_l2,'Secondary line voltage when windings are star delta connected(in Volts)=');\n",
"//when windings are delta star connected\n",
"V_P1=V;//Primary phase voltage(in Volts)\n",
"V_L1=V_P1;//Primary line voltage in delta star connection\n",
"V_P2=V_P1*(N_2/N_1);//Secondary phase voltage in delta star connection\n",
"V_L2=V_P2*(3)^(1/2);//Secondary line voltage when windings are delta star connected(in Volts)=;\n",
"disp(V_L2,'Secondary line voltage when windings are delta star connected(in Volts)=');"
   ]
   }
,
{
		   "cell_type": "markdown",
		   "metadata": {},
		   "source": [
			"## Example 4.3: EX4_3.sce"
		   ]
		  },
  {
"cell_type": "code",
	   "execution_count": null,
	   "metadata": {
	    "collapsed": true
	   },
	   "outputs": [],
"source": [
"//Caption:Find the secondary no load voltage and primary secondary currents in a 3 phase transformer\n",
"//Exam:4.3\n",
"clc;\n",
"clear;\n",
"close;\n",
"V_l=11000;//Input voltage(in Volts)\n",
"V_1ph=V_l/(3)^(1/2);//Phase voltage\n",
"KVA=50*10^(3);//\n",
"//KVA=((3)^(1/2))*V_l*I_l\n",
"I_1l=KVA/(((3)^(1/2))*V_l);//Line current\n",
"I_1ph=I_1l;//Star system value of phase current\n",
"disp(I_1ph,'Value of primary phase and line current(in Amp)=');\n",
"N_1=1000;//Primary turns\n",
"N_2=90;//Secondary turns\n",
"V_2ph=(N_2/N_1)*V_1ph;//secondary phase voltage(in Volts)\n",
"//V_2ph=V_2l delta system\n",
"disp(V_2ph,'Value of secondary phase and line voltage(in Volts)=');\n",
"I_2ph=(N_1/N_2)*I_1ph;//secondary phase current(in Amp)\n",
"disp(I_2ph,'Value of secondary phase current(in Amp) =');\n",
"I_2l=I_2ph*3^(1/2);//secondary line current(in Amp)\n",
"disp(I_2l,'Value of secondary line current(in Amp) =');"
   ]
   }
],
"metadata": {
		  "kernelspec": {
		   "display_name": "Scilab",
		   "language": "scilab",
		   "name": "scilab"
		  },
		  "language_info": {
		   "file_extension": ".sce",
		   "help_links": [
			{
			 "text": "MetaKernel Magics",
			 "url": "https://github.com/calysto/metakernel/blob/master/metakernel/magics/README.md"
			}
		   ],
		   "mimetype": "text/x-octave",
		   "name": "scilab",
		   "version": "0.7.1"
		  }
		 },
		 "nbformat": 4,
		 "nbformat_minor": 0
}
