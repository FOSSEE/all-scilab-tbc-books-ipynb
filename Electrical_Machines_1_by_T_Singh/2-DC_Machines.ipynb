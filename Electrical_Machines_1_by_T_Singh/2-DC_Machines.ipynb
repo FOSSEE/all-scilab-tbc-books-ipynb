{
"cells": [
 {
		   "cell_type": "markdown",
	   "metadata": {},
	   "source": [
       "# Chapter 2: DC Machines"
	   ]
	},
{
		   "cell_type": "markdown",
		   "metadata": {},
		   "source": [
			"## Example 2.10: Calculate_the_increase_of_main_field_flux_in_percentage.sce"
		   ]
		  },
  {
"cell_type": "code",
	   "execution_count": null,
	   "metadata": {
	    "collapsed": true
	   },
	   "outputs": [],
"source": [
"//Caption:Calculate the increase of main field flux in percentage\n",
"//Exam:2.10\n",
"clc;\n",
"clear;\n",
"close;\n",
"N_1=750;//speed of dc machine(in rpm)\n",
"E_1=220;//induced emf in dc machine when running at N_1\n",
"N_2=700;//speed of dc machine second time (in rpm)\n",
"E_2=250;//induced emf in dc machine when running at N_2\n",
"F=E_2*N_1/(E_1*N_2);\n",
"Inc=(F-1);\n",
"disp(Inc*100,'increase in main field flux of the dc machine=');"
   ]
   }
,
{
		   "cell_type": "markdown",
		   "metadata": {},
		   "source": [
			"## Example 2.11: EX2_11.sce"
		   ]
		  },
  {
"cell_type": "code",
	   "execution_count": null,
	   "metadata": {
	    "collapsed": true
	   },
	   "outputs": [],
"source": [
"//caption: a)find the emf generated in a 6 pole machine  b)find speed at which machine generated 550 V emf\n",
"//Exam:2.11\n",
"clc;\n",
"clear;\n",
"close;\n",
"F_1=0.06;//Flux per pole(in Wb)\n",
"N_1=250;//speed of the rotor(in rpm)\n",
"A=2;//number of parllel (paths armature wave wound)\n",
"P=6;//poles in machine\n",
"Z=664;//total conductor in machine\n",
"E_g=P*F_1*N_1*Z/(60*A);//emf generated\n",
"disp(E_g,'emf generated in machine(in Volts)=');\n",
"E_2=550;//new emf generating machine(in V)\n",
"F_2=0.058;//flux per pole (in Wb) for generating E_2\n",
"N_2=60*E_2*A/(P*F_2*Z);//new speed at which machine generating E_2(in rpm)\n",
"disp(N_2,'new speed of the rotor(in rpm)=');"
   ]
   }
,
{
		   "cell_type": "markdown",
		   "metadata": {},
		   "source": [
			"## Example 2.12: determine_the_value_of_torque.sce"
		   ]
		  },
  {
"cell_type": "code",
	   "execution_count": null,
	   "metadata": {
	    "collapsed": true
	   },
	   "outputs": [],
"source": [
"//Caption :determine the value of torque in Nw-m\n",
"//Exam:2.12\n",
"clc;\n",
"clear;\n",
"close;\n",
"F=24;//flux per pole (in m Wb)\n",
"F_1=F*10^-3;//flux per pole (in Wb)\n",
"Z=760;//number of conductors in armature\n",
"P=4;//number of pole\n",
"A=2;//number of parallel paths\n",
"I_a=50;//armature cuurrent(in Amp)\n",
"T_a=0.159*F_1*Z*P*I_a/A;//torque develope(in Nw-m)\n",
"disp(T_a,'torque developed in machine(in Nw-m)=');"
   ]
   }
,
{
		   "cell_type": "markdown",
		   "metadata": {},
		   "source": [
			"## Example 2.13: calculate_the_total_torque.sce"
		   ]
		  },
  {
"cell_type": "code",
	   "execution_count": null,
	   "metadata": {
	    "collapsed": true
	   },
	   "outputs": [],
"source": [
"//Caption: calculate the total torque in Nw-m\n",
"//Exam:2.14\n",
"clc;\n",
"clear;\n",
"close;\n",
"P=6;//poles \n",
"A=P;//number of parallel paths\n",
"S=60;//slots in motor\n",
"C_s=12;//conductor per slot\n",
"Z=S*C_s;//total conductor in machine\n",
"I_a=50;//armature current(in Amp)\n",
"F_1=20//flux per pole(in m Wb)\n",
"F_2=F_1*10^-3;//flux per pole)(in Wb)\n",
"T=0.15924*F_2*Z*P*I_a/A;//total torque (in Nw-m)\n",
"disp(T,'total torque by motor (in Nw-m)=');"
   ]
   }
,
{
		   "cell_type": "markdown",
		   "metadata": {},
		   "source": [
			"## Example 2.14: Calculate_the_drop_in_speed_when_motor_takes_51_Amp.sce"
		   ]
		  },
  {
"cell_type": "code",
	   "execution_count": null,
	   "metadata": {
	    "collapsed": true
	   },
	   "outputs": [],
"source": [
"//Caption:Calculate the drop in speed when motor takes 51 Amp\n",
"//Exam2.13\n",
"clc;\n",
"clear;\n",
"close;\n",
"V=220;//supply voltage(in V)\n",
"R_sh=220;//shunt field resistance(in Ohm)\n",
"R_a=0.2;//armature resistance(in Ohm)\n",
"I_sh=V/R_sh;//shunt field current(in Amp)\n",
"N_1=1200;//starting speed of the motor(in rpm)\n",
"I_1=5.4;//at N_1 speed current in motor(in Amp)\n",
"I_a1=I_1-I_sh;//armature current at speed N_1(in Amp)\n",
"E_b1=V-I_a1*R_a;//emf induced due to I_a1(in V)\n",
"I_2=51;//new current which motor taking(in Amp)\n",
"I_a2=I_2-I_sh;//armature current at I_2(in Amp)\n",
"E_b2=V-I_a2*R_a;//emf induced due to I_a2(in V)\n",
"N_2=E_b2*N_1/E_b1;//speed of the motor when taking I_2 current(in rpm)\n",
"N_r=ceil(N_1-N_2);//reduction in speed(in rpm)\n",
"disp(N_r,'reduction in speed(in rpm)=');"
   ]
   }
,
{
		   "cell_type": "markdown",
		   "metadata": {},
		   "source": [
			"## Example 2.15: EX2_15.sce"
		   ]
		  },
  {
"cell_type": "code",
	   "execution_count": null,
	   "metadata": {
	    "collapsed": true
	   },
	   "outputs": [],
"source": [
"//Caption:In a dc machine Calculate (a)induced emf  (b)Electro magnetic torque (c)armature copper loss \n",
"//Exam:2.15\n",
"clc;\n",
"clear;\n",
"close;\n",
"V=220;//voltage at the armature of dc motor\n",
"I_a=15;//current through armature(in Amp)\n",
"R_a=1;//armature resistance(in Ohm)\n",
"w=100;//speed of the machine(in radian/sec)\n",
"E=V-I_a*R_a;//induced emf(in V)\n",
"disp(E,'induced emf (in V)=');\n",
"T=E*I_a/w;//electro magnentic torque developed(in Nw-m)\n",
"disp(T,'electro magnentic torque developed(in Nw-m)=');\n",
"L=(I_a^2)*R_a;//Armature copper loss(in Watt)\n",
"disp(L,'Armature copper loss(in Watt)=');"
   ]
   }
,
{
		   "cell_type": "markdown",
		   "metadata": {},
		   "source": [
			"## Example 2.16: Calculate_the_electro_magnetic_torque.sce"
		   ]
		  },
  {
"cell_type": "code",
	   "execution_count": null,
	   "metadata": {
	    "collapsed": true
	   },
	   "outputs": [],
"source": [
"//Caption:Calculate the electro magnetic torque\n",
"//Exam:2.16\n",
"clc;\n",
"clear;\n",
"close;\n",
"E=250;//emf induced in dc machine(in V)\n",
"I_a=20;//current flowing through the armature(in Amp)\n",
"N=1500;//speed(in rpm)\n",
"T_e=0.1591*E*I_a*60/N;//torque developed in machine(in Nw-m)\n",
"disp(T_e,'electro magnetic torque developed in dc machine(in Nw-m)=');"
   ]
   }
,
{
		   "cell_type": "markdown",
		   "metadata": {},
		   "source": [
			"## Example 2.17: calculate_the_gross_torque_in_dc_machine.sce"
		   ]
		  },
  {
"cell_type": "code",
	   "execution_count": null,
	   "metadata": {
	    "collapsed": true
	   },
	   "outputs": [],
"source": [
"//Caption:calculate the gross torque in dc machine\n",
"//Exam:2.17\n",
"clc;\n",
"clear;\n",
"close;\n",
"P=4;//number of poles \n",
"Z=1600;//number of armature conductor\n",
"F=0.027;//flux per pole(in Wb)\n",
"A=2;//number of parallel paths (wave wound)\n",
"I=75;//current in machine(in Amp)\n",
"N=1000;//speed of the motor(in rpm)\n",
"T=0.1591*P*F*Z*I/A;//torque generate in machine(in Nw-m)\n",
"disp(T,'Torque generated in machine (in Nw-m)=');"
   ]
   }
,
{
		   "cell_type": "markdown",
		   "metadata": {},
		   "source": [
			"## Example 2.18: Calculate_the_value_of_back_emf.sce"
		   ]
		  },
  {
"cell_type": "code",
	   "execution_count": null,
	   "metadata": {
	    "collapsed": true
	   },
	   "outputs": [],
"source": [
"//Caption:Calculate the value of back emf\n",
"//Exam:2.18\n",
"clc;\n",
"clear;\n",
"close;\n",
"V=230;//applied voltage (in V)\n",
"R_a=0.1;//armature resistance(in Ohm)\n",
"I_a=60;//armature current (in Amp)\n",
"E_b=V-I_a*R_a;//back emf(in Volts)\n",
"disp(E_b,'back emf produced by machine in (in V)=');"
   ]
   }
,
{
		   "cell_type": "markdown",
		   "metadata": {},
		   "source": [
			"## Example 2.19: find_the_change_in_back_emf_from_no_load_to_load.sce"
		   ]
		  },
  {
"cell_type": "code",
	   "execution_count": null,
	   "metadata": {
	    "collapsed": true
	   },
	   "outputs": [],
"source": [
"//Capyion:find the change in back emf from no load to load\n",
"//Exam:2.19\n",
"clc;\n",
"clear;\n",
"close;\n",
"V=220;//given voltage to machine(in V)\n",
"R_a=0.5;//armature circuit resistance(in ohm)\n",
"I_1=25;//full load armature current(in Amp)\n",
"I_2=5;//no load armature current(in Amp)\n",
"E_1=V-I_1*R_a;//back emf at full load(in V)\n",
"E_2=V-I_2*R_a;//back emf at no load(in V)\n",
"E=E_2-E_1;//change in back emf no load to load\n",
"disp(E,'change in back emf from no load to load(in Volts)=');"
   ]
   }
,
{
		   "cell_type": "markdown",
		   "metadata": {},
		   "source": [
			"## Example 2.20: Determine_the_back_emf_in_dc_shunt_motor.sce"
		   ]
		  },
  {
"cell_type": "code",
	   "execution_count": null,
	   "metadata": {
	    "collapsed": true
	   },
	   "outputs": [],
"source": [
"//Caption: Determine the back emf in dc shunt motor\n",
"//Exam:2.20\n",
"clc;\n",
"clear;\n",
"close;\n",
"V=220;//voltage(in V)\n",
"R_a=0.7;//Armature resistance(in Ohm)\n",
"R_f=200;//field resistant(in Ohm)\n",
"P_1=8*10^3;//motor output power(in Watt)\n",
"P_2=8*10^3/0.8;//motor input power(in Watt)\n",
"I_m=P_2/V;//motor input current(in Amp)\n",
"I_sh=V/R_f;//shunt field current (in Amp)\n",
"I_a=I_m-I_sh;//Armature current(in Amp)\n",
"E_b=V-I_a*R_a;//Back emf (in V)\n",
"disp(E_b,'Back emf produced in motor(in Volts)=');"
   ]
   }
,
{
		   "cell_type": "markdown",
		   "metadata": {},
		   "source": [
			"## Example 2.21: EX2_21.sce"
		   ]
		  },
  {
"cell_type": "code",
	   "execution_count": null,
	   "metadata": {
	    "collapsed": true
	   },
	   "outputs": [],
"source": [
"//Caption :Determine the total armature power developed when working as a)Generator b)motor\n",
"//Exam:21\n",
"clc;\n",
"clear;\n",
"close;\n",
"P=25*10^3;//output generator power(in Watt)\n",
"V=250;//output generator voltage(in V)\n",
"R_f=125;//field resistance(in Ohm)\n",
"R_a=0.05;//armature resistance(in Ohm)\n",
"I_sh=V/R_f;//shunt field current(in Amp)\n",
"//IN case of generator\n",
"I_o=P/V;//output generator current(in Amp)\n",
"I_a1=I_o+I_sh;//armature current for a generator(in Amp)\n",
"E_a1=250+I_a1*R_a;//generated emf in armature(in V)\n",
"P_a1=E_a1*I_a1;//generated power in armature when working as a generator(in Watt)\n",
"P_g=P_a1*10^-3;//generated power in armature when working as a generator(in kW)\n",
"disp(P_g,'power developed in armature when working as a generator(in KW)=');\n",
"//IN case of motor\n",
"I_in=P/V;//motor input current(in Amp)\n",
"I_a2=I_in-I_sh;//armature current for a motor(in Amp)\n",
"E_a2=250-I_a2*R_a;//generated emf in armature when working as a motor(in V)\n",
"P_a2=E_a2*I_a2;//generated power in armature when working as a motor(in Watt)\n",
"P_m=P_a2*10^-3;//generated power in armature when working as a motor(in KW)\n",
"disp(P_m,'power developed in armature when working as a motor(in KW)=');"
   ]
   }
,
{
		   "cell_type": "markdown",
		   "metadata": {},
		   "source": [
			"## Example 2.22: EX2_22.sce"
		   ]
		  },
  {
"cell_type": "code",
	   "execution_count": null,
	   "metadata": {
	    "collapsed": true
	   },
	   "outputs": [],
"source": [
"//Caption :Calculated power developed in armature when machine running as (a)Generator (b)Motor\n",
"//Exam:2.22\n",
"clc;\n",
"clear;\n",
"close;\n",
"V=250;//line voltage(in V)\n",
"R_sh=125;//shunt field resistance(in Ohm)\n",
"I_sh=V/R_sh;//shunt field current(in Amp)\n",
"I_l=80;//line current(in Amp)\n",
"R_a=0.1;//armature resistance(in Ohm)\n",
"//As A Generator\n",
"I_a1=I_l+I_sh;//armature current in generator(in Amp)\n",
"E_g=V+I_a1*R_a;//generated emf(in V)\n",
"P_1=E_g*I_a1*10^-3;//power developed in armature (in KW)\n",
"disp(P_1,'power developed in armature when machine running as a generator(in KW)=');\n",
"//As A Motor\n",
"I_a2=I_l-I_sh;//armature current in motor(in Amp)\n",
"E_b=V-I_a2*R_a;//back emf in motor(in V)\n",
"P_2=E_b*I_a2*10^-3;//power developed in armature (in KW)\n",
"disp(P_2,'power developed in armature when machine running as a Motor(in KW)=');"
   ]
   }
,
{
		   "cell_type": "markdown",
		   "metadata": {},
		   "source": [
			"## Example 2.23: Calculated_speed_of_the_motor_when_the_current_is_10_Amp.sce"
		   ]
		  },
  {
"cell_type": "code",
	   "execution_count": null,
	   "metadata": {
	    "collapsed": true
	   },
	   "outputs": [],
"source": [
"//Caption:Calculated speed of the motor when the current is 10 Amp\n",
"//Exam:2.23\n",
"clc;\n",
"clear;\n",
"close;\n",
"V=230;//supply voltage(in V)\n",
"R_a=0.8;//armature resistance(in Ohm)\n",
"R_f=0.8//field resistance(in Ohm)\n",
"I_1=20;//dc motor taking current from supply(in Amp)\n",
"E_1=V-R_a*I_1;//emf generated due to I_1(in V)\n",
"N_1=600;//speed of the motor due to I_1\n",
"I_2=10;//current(in Amp) at which speed of the motor need to calculate\n",
"E_2=V-R_a*I_2;//emf generated due to I_2(in Volts)\n",
"N_2=E_2*I_1*N_1/(E_1*I_2);//speed of the motor when machine drawing 10(in Amp) current\n",
"disp(N_2,'speed of the motor when machine drawing 10 Amp current(in rpm)=');"
   ]
   }
,
{
		   "cell_type": "markdown",
		   "metadata": {},
		   "source": [
			"## Example 2.24: Percentage_change_in_speed_of_a_dc_motor.sce"
		   ]
		  },
  {
"cell_type": "code",
	   "execution_count": null,
	   "metadata": {
	    "collapsed": true
	   },
	   "outputs": [],
"source": [
"//Caption:Percentage change in speed of a d.c. motor\n",
"//Exam:2.24\n",
"clc;\n",
"clear;\n",
"close;\n",
"V=240;//supply voltage(in V)\n",
"R_a=0.5;//armature resistance(in Ohm)\n",
"I_1=100;//armature current (in Amp)\n",
"I_2=50;//changed armature current(in Amp)\n",
"E_1=V-R_a*I_1;//induced emf(in V)\n",
"E_2=V-R_a*I_2;//changed induced emf due to I_2\n",
"//flux per pole is constant\n",
"N_r=E_2/E_1;//ratio of speed in machine due to voltage change\n",
"N_rp=(N_r-1)*100;//Percentage change in speed of  d.c. motor\n",
"disp(N_rp,'Percentage change in speed of  d.c. motor==');"
   ]
   }
,
{
		   "cell_type": "markdown",
		   "metadata": {},
		   "source": [
			"## Example 2.25: EX2_25.sce"
		   ]
		  },
  {
"cell_type": "code",
	   "execution_count": null,
	   "metadata": {
	    "collapsed": true
	   },
	   "outputs": [],
"source": [
"//Caption:Find the speed at which motor will run when connected in series with a 4 Ohm resistance\n",
"//Exam:2.25\n",
"clc;\n",
"clear;\n",
"close;\n",
"V=200;//supply voltage (in V)\n",
"R_m=1;//motor resistance b/w terminals(in Ohm)\n",
"I_1=15;//motor input current(in Amp)\n",
"N_1=800;//speed of the motor (in rpm)\n",
"E_1=V-(I_1*R_m);//back emf developed(in V)\n",
"R=4;//resistance connected in series with motor (in Ohm)\n",
"I_2=I_1;//when resistance of 4 Ohm connected in series with the motor ,motor input current is same\n",
"E_2=V-I_2*(R_m+R);//back emf developed when R connected in series with motor(in V)\n",
"N_2=E_2*N_1/E_1;//speed of the motor when it connected in series with a 4 Ohm resistance(in rpm)\n",
"disp(N_2,'speed of the motor when it connected in series with a 4 Ohm resistance(in rpm)=');"
   ]
   }
,
{
		   "cell_type": "markdown",
		   "metadata": {},
		   "source": [
			"## Example 2.26: EX2_26.sce"
		   ]
		  },
  {
"cell_type": "code",
	   "execution_count": null,
	   "metadata": {
	    "collapsed": true
	   },
	   "outputs": [],
"source": [
"//Caption:Determine the speed when armature current is 75 Amp and the excitation is increased by 15 %\n",
"//Exam:2.26\n",
"clc;\n",
"clear;\n",
"close;\n",
"V=220;//supply voltage(in V)\n",
"R_a=0.03;//armature resistance(in Ohm)\n",
"R_se=0.07;//field resistance(in Ohm)\n",
"I_a1=40;//armature current in first case(in Amp)\n",
"N_1=900;//motor running speed at 40 Amp armature current(in rpm)\n",
"E_1=V-I_a1*(R_a+R_se);//induced emf due to 40 Amp armature current (in V)\n",
"I_a2=75;//armature current in second case(in Amp)\n",
"E_2=V-I_a2*(R_a+R_se);//induced emf due to 75 Amp armature current (in V)\n",
"//Flux is F_1 when I_a1 and F_2 when I_a2. F_2=1.15*F_1 because Excitation is increased by 15% so F=(F_1/F_2)\n",
"F=1.15;//Ratio of F_2/F_1\n",
"N_2=ceil(N_1*E_2/(F*E_1));//motor speed when armature current is 75 Amp and the excitation is increased by 15 %(in rpm)\n",
"disp(N_2,'motor speed when armature current is 75 Amp and the excitation is increased by 15 %(in rpm)=');"
   ]
   }
,
{
		   "cell_type": "markdown",
		   "metadata": {},
		   "source": [
			"## Example 2.27: Calculate_HP_is_being_transmitted_by_the_shaft_of_motor.sce"
		   ]
		  },
  {
"cell_type": "code",
	   "execution_count": null,
	   "metadata": {
	    "collapsed": true
	   },
	   "outputs": [],
"source": [
"//Caption:Calculate H.P. is being transmitted by the shaft of motor\n",
"//Exam:2.27\n",
"clc;\n",
"clear;\n",
"close;\n",
"V=220;//supply voltage(in V)\n",
"N=900;//running speed of a shunt motor(in rpm)\n",
"T=1000;//torque exerted by motor (in Nw-m)\n",
"w=2*3.14159*N/60;//angular speed(in rad/sec)\n",
"P=w*T;//power transmitted (in Watt)\n",
"H_p=P/735.5;//power transmitted in H.P.(metric)\n",
"disp(H_p,'power transmitted by the shaft of motor(in H.P.(metric))=');"
   ]
   }
,
{
		   "cell_type": "markdown",
		   "metadata": {},
		   "source": [
			"## Example 2.28: Calculate_the_torque.sce"
		   ]
		  },
  {
"cell_type": "code",
	   "execution_count": null,
	   "metadata": {
	    "collapsed": true
	   },
	   "outputs": [],
"source": [
"//Caption:Calculate the torque\n",
"//Exam:2.28\n",
"clc;\n",
"clear;\n",
"close;\n",
"P_1=70;//power transmitted by the shaft of a motor in H.P(metric)\n",
"P_2=P_1*735.5;//power (in Watts)\n",
"N=500;//speed of the motor(in rpm)\n",
"w=2*3.1416*N/60;//angular speed (in radian/sec)\n",
"T=P_2/w;//torque in motor (in Nw-m)\n",
"disp(T,'torque in motor (in Nw-m)=');"
   ]
   }
,
{
		   "cell_type": "markdown",
		   "metadata": {},
		   "source": [
			"## Example 2.29: Find_the_speed_when_the_armature_takes_70_Amp.sce"
		   ]
		  },
  {
"cell_type": "code",
	   "execution_count": null,
	   "metadata": {
	    "collapsed": true
	   },
	   "outputs": [],
"source": [
"//Caption:Find the speed when the armature takes 70 Amp \n",
"//Exam:2.29\n",
"clc;\n",
"clear;\n",
"close;\n",
"V=400;//voltage for a shunt motor (in V)\n",
"R_a=0.2;//armature resistance(in Ohm)\n",
"I_a1=100;//starting armature current(in Amp)\n",
"N_1=1000;//speed of the motor when I_a1 armature current flows in armature\n",
"E_1=V-I_a1*R_a;//emf induced at I_a1 armature current (in V)\n",
"I_a2=70;//changed armature current(in Amp)\n",
"E_2=V-I_a2*R_a;//emf induced for I_a2 current(in V)\n",
"//flux is constant\n",
"N_2=ceil(E_2*N_1/E_1);//speed of the motor when 70 Amp current flowing through armature\n",
"disp(N_2,'speed of the motor when 70 Amp current flowing through armature(in rpm)=');"
   ]
   }
,
{
		   "cell_type": "markdown",
		   "metadata": {},
		   "source": [
			"## Example 2.30: EX2_30.sce"
		   ]
		  },
  {
"cell_type": "code",
	   "execution_count": null,
	   "metadata": {
	    "collapsed": true
	   },
	   "outputs": [],
"source": [
"//Caption:resistance required to be connected in series to reduced speed of machine to 800 rpm (in Ohm)\n",
"//Exam:2.30\n",
"clc;\n",
"clear;\n",
"close;\n",
"V=400;//voltage applied across the motor(in V)\n",
"R_sh=100;//shunt resistance of motor(in Ohm)\n",
"I=70;//total current flowing through motor(in Amp)\n",
"I_sh=V/R_sh;//current flowing through the shunt resistance(in Amp)\n",
"I_a1=I-I_sh;//current flowing through the armature(in Amp)\n",
"R_a1=0.03;//resistance of armature(in Ohm)\n",
"R_se=0.5;//series resistance with armature(in Ohm)\n",
"R_a=R_a1+R_se;//total resistance in armature circuit(in Ohm)\n",
"E_1=V-I_a1*R_a;//emf induced due to this R_a resistance(in V) \n",
"N_1=900;//given speed of the motor(in r.p.m.)\n",
"N_2=800;//desired speed of the motor(in r.p.m.)\n",
"E_2=E_1*(N_2/N_1);//emf induced due to armature resistance when motor spped is 800(in V)\n",
"R_a2=(400-E_2)/66;//resistance required to be connected in series(in Ohm)\n",
"disp(R_a2,'net resistance of armature which reduce speed of the machine to 800 rpm (in Ohm)=');\n",
"R=R_a2-R_a1;//additional resistance required to be connected in series to reduced speed of machine to 800 rpm (in Ohm)\n",
"disp(R,'additional resistance required to be connected in series to reduced speed of machine to 800 rpm (in Ohm)==');"
   ]
   }
,
{
		   "cell_type": "markdown",
		   "metadata": {},
		   "source": [
			"## Example 2.31: Motor_speed_at_full_load.sce"
		   ]
		  },
  {
"cell_type": "code",
	   "execution_count": null,
	   "metadata": {
	    "collapsed": true
	   },
	   "outputs": [],
"source": [
"//Caption:Motor speed at full load\n",
"//Exam:2.31\n",
"clc;\n",
"clear;\n",
"close;\n",
"V=230;//supply voltage\n",
"I_a1=2;//no load current(in Amp)\n",
"N_1=1500;//speed of the motor at no load\n",
"R_a=0.3;//Armature resistance(in Ohm)\n",
"I_a2=50;//full load current(in Amp)\n",
"E_1=V-I_a1*R_a;//emf generated at no load\n",
"E_2=V-I_a2*R_a;//emf generated at full load\n",
"N_2=(E_2/E_1)*N_1;//full load speed (flux assumed constant)\n",
"disp(ceil(N_2),'D.c. motor speed at full load when flux assumed constant(In rpm)=');"
   ]
   }
,
{
		   "cell_type": "markdown",
		   "metadata": {},
		   "source": [
			"## Example 2.32: EX2_32.sce"
		   ]
		  },
  {
"cell_type": "code",
	   "execution_count": null,
	   "metadata": {
	    "collapsed": true
	   },
	   "outputs": [],
"source": [
"//Caption:calculate the speed of a d.c. shunt generator when it running as d.c. motor and taking 50 KW power at 250 volt\n",
"//Exam:2.32\n",
"clc;\n",
"clear;\n",
"close;\n",
"//calculation when machine is running as generator\n",
"V=250;//applied voltage to d.c. shunt generator\n",
"P_1=50000;//power delivers by d.c. shunt generator at V_1\n",
"N_1=400;//generator running at V_1 ,P_1\n",
"R_a=0.02;//armature resistance(in Ohm)\n",
"R_sh=50;//field resistance(in Ohm)\n",
"I_l=P_1/V;//load current(in Amp)\n",
"I_sh=V/R_sh;//field current(in Amp)\n",
"I_a1=I_l+I_sh;//armature current when machine working as a generator(in Amp)\n",
"C_d=1;//contact drop (in volt per brush)\n",
"E_1=V+I_a1*R_a+2*C_d;//induced emf by machine when working as a generator(in V)\n",
"//calculation when machine is running as motor\n",
"I_a2=I_l-I_sh//armature current when machine working as a motor(in Amp)\n",
"E_2=V-I_a2*R_a-2*C_d;//induced emf by machine when working as a motor(in V)\n",
"N_2=(E_2/E_1)*N_1;//speed of the machine when running as shunt motor(in r.p.m.)\n",
"disp(N_2,'speed of the machine when running as shunt motor and taking 50 KW power at 250 volt(in r.p.m.)=');"
   ]
   }
,
{
		   "cell_type": "markdown",
		   "metadata": {},
		   "source": [
			"## Example 2.33: EX2_33.sce"
		   ]
		  },
  {
"cell_type": "code",
	   "execution_count": null,
	   "metadata": {
	    "collapsed": true
	   },
	   "outputs": [],
"source": [
"//Caption:Calculate the value of resistance to be connected in series with the armature to reduce the speed to 750 r.p.m.\n",
"//Exam:2.33\n",
"clc;\n",
"clear;\n",
"close;\n",
"V=220;//applied voltage to shunt motor(in V)\n",
"I_a1=40;//armature current in first case(in Amp)\n",
"R_a=0.5;//armature circuit resistance(in Ohm)\n",
"N_1=900;//speed of the motor at I_a1 (in rpm)\n",
"E_b1=V-I_a1*R_a;//emf generated in armature circuit due to I_a1(in V)\n",
"N_2=750;//desired motor speed (in rpm)\n",
"I_a2=30;//armature current in case of N_2 motor speed(in Amp)\n",
"E_b2=(N_2/N_1)*E_b1;//emf generated in second case when motor speed is N_2\n",
"//R resistance added in series with the armature circuit to reduced the speed of motor \n",
"R=(205-E_b2)/30;//resistance added in series with the armature circuit to reduced the speed of motor\n",
"disp(R,'resistance added in series with the armature circuit to reduced the speed of motor(in Ohm)=');"
   ]
   }
,
{
		   "cell_type": "markdown",
		   "metadata": {},
		   "source": [
			"## Example 2.34: EX2_34.sce"
		   ]
		  },
  {
"cell_type": "code",
	   "execution_count": null,
	   "metadata": {
	    "collapsed": true
	   },
	   "outputs": [],
"source": [
"//Caption:what resistance should be placed in series with armature to reduced the speed of the motor to 700 rpm\n",
"//Exam:2.34\n",
"clc;\n",
"clear;\n",
"close;\n",
"V=220;//applied voltage to shunt motor(in V)\n",
"R_a=0.3;//armature circuit resistance(in Ohm)\n",
"I_a=15;//armature current(in Amp)\n",
"E_b1=V-I_a*R_a;//emf generated in armature circuit(in V)\n",
"N_1=1000;//motor speed when E_b1 generated(in rpm) \n",
"N_2=700;//desired motor speed (in rpm)\n",
"E_b2=(N_2/N_1)*E_b1;//emf generated in second case when motor speed is N_2\n",
"R=(215.5-E_b2)/15;//resistance added in series with the armature circuit to reduced the speed of motor (in Ohm)\n",
"disp(R,'resistance added in series with the armature circuit to reduced the speed of motor (in Ohm)=');"
   ]
   }
,
{
		   "cell_type": "markdown",
		   "metadata": {},
		   "source": [
			"## Example 2.35: EX2_35.sce"
		   ]
		  },
  {
"cell_type": "code",
	   "execution_count": null,
	   "metadata": {
	    "collapsed": true
	   },
	   "outputs": [],
"source": [
"//Caption:In a shunt motor find the resistance required in series with the armature circuit to reduce the speed of motor by 50 percent\n",
"//Exam:2.35\n",
"clc;\n",
"clear;\n",
"close;\n",
"I_a1=40;//Armature current(in Amp)\n",
"R_a=0.6;//Armature circuit resistance(in Ohm)\n",
"//T_1/T_2=I_a1/I_a2 \n",
"//T_1=T_2\n",
"V=220;\n",
"I_a2=I_a1;//current when speed reduced 50%\n",
"E_b1=V-(R_a*I_a1);//emf induced in circuit\n",
"N_r=0.5;//Ratio of speed (N_2/N_1)\n",
"//E_b2=V-I_a2*R\n",
"//R is a total armature resistance in the second case\n",
"//N_2/N_1=E_b2/E_b1\n",
"//N_r=(V-I_a2*R)/E_b1\n",
"R=(V-(N_r*E_b1))/I_a2;//the resistance required in series with the armature circuit to reduce the speed of motor 50%\n",
"disp(R,'the resistance required in series with the armature circuit to reduce the speed of motor by 50%(in Ohm)=');"
   ]
   }
,
{
		   "cell_type": "markdown",
		   "metadata": {},
		   "source": [
			"## Example 2.36: Calculate_the_induced_emf_in_a_DC_machine_for_speed_of_600_rpm.sce"
		   ]
		  },
  {
"cell_type": "code",
	   "execution_count": null,
	   "metadata": {
	    "collapsed": true
	   },
	   "outputs": [],
"source": [
"//Caption:Calculate the induced emf in a D.C. machine for speed of 600 rpm \n",
"//Exam:2.36\n",
"clc;\n",
"clear;\n",
"close;\n",
"//assuming the flux is constant\n",
"N_1=500;//primary speed of the motor(in rpm)\n",
"E_1=180;//induced emf in d.c. machine when running at N_1 (in V)\n",
"N_2=600;//secondary speed of the motor (in rpm)\n",
"E_2=(N_2/N_1)*E_1;//induced emf in d.c. machine when running at N_2 (in V)\n",
"disp(E_2,'the emf induced in a D.C. machine when machine running at 600 rpm speed(in V)=');"
   ]
   }
,
{
		   "cell_type": "markdown",
		   "metadata": {},
		   "source": [
			"## Example 2.37: EX2_37.sce"
		   ]
		  },
  {
"cell_type": "code",
	   "execution_count": null,
	   "metadata": {
	    "collapsed": true
	   },
	   "outputs": [],
"source": [
"//Caption:In a dc machine calculate speed at which the induced emf will be 250 Volts and also calculate the increase in main flux of field in percentage for induced emf of 250 Volts and speed 700 rpm\n",
"//Exam:2.37\n",
"clc;\n",
"clear;\n",
"close;\n",
"E_1=220;//Primary emf(in Volts)\n",
"N_1=750;//Speed of the machine at 220 Volts\n",
"E_2=250;//Secondary emf(in Volts)\n",
"N_2=(E_2/E_1)*N_1;//Speed of the machine at which emf will be 250 Volts\n",
"disp(N_2,'Speed of the machine at which emf will be 250 Volts=');\n",
"N_3=700;//Speed of the machine when main field flux increase\n",
"E_3=250;//induced emf when flux increase(in Volts)\n",
"F_x=(E_3/E_2)*(N_2/N_3);//Ratio of flux when speed is N_3 and N_2\n",
"F=(F_x-1)*100;//Percentage change in flux for induced emf of 250 Volts and speed 700 rpm(in %)\n",
"disp(F,'Percentage change in flux when induced emf 250 Volts and speed 700 rpm(in %)=');"
   ]
   }
,
{
		   "cell_type": "markdown",
		   "metadata": {},
		   "source": [
			"## Example 2.38: Calculate_induced_emf_when_running_at_speed_of_1380_rpm.sce"
		   ]
		  },
  {
"cell_type": "code",
	   "execution_count": null,
	   "metadata": {
	    "collapsed": true
	   },
	   "outputs": [],
"source": [
"//Caption:Calculate induced emf when running at speed of 1380 rpm.\n",
"//Exam:2.38\n",
"clc;\n",
"clear;\n",
"close;\n",
"P=4;//Poles in d.c. machine\n",
"Z=594;//number of conductor in d.c. machine\n",
"F=0.0075;//flux per pole(in Wb)\n",
"N=1380;//speed of the motor\n",
"A=2;//number of parallel paths \n",
"E=P*F*N*Z/(60*A);//emf generated in machine when running at speed of 1380 rpm.\n",
"disp(ceil(E),'emf generated in machine when running at speed of 1380 rpm.(in V)=');"
   ]
   }
,
{
		   "cell_type": "markdown",
		   "metadata": {},
		   "source": [
			"## Example 2.39: Calculate_the_speed_and_calculate_the_electro_magnetic_torque.sce"
		   ]
		  },
  {
"cell_type": "code",
	   "execution_count": null,
	   "metadata": {
	    "collapsed": true
	   },
	   "outputs": [],
"source": [
"//Caption:Calculate the speed and calculate the electro magnetic torque.\n",
"//Exam:2.39\n",
"clc;\n",
"clear;\n",
"close;\n",
"V_1=230;//supply voltage(in V)\n",
"I_a1=100;//motor taking current from supply(in Amp)\n",
"N_1=600;//speed of the motor when I_a1 current taking from supply(in rpm)\n",
"R_a=0.12;//resistance of armature circuit(in Ohm)\n",
"R_f=0.03;//resistance of series winding(in Ohm)\n",
"R=R_a+R_f;//total resistance(in Ohm)\n",
"I_a2=50;//desired current of the motor\n",
"E_1=V_1-I_a1*R;//emf induced when current I_a1 flowing\n",
"E_2=V_1-I_a2*R;//emf induced when current I_a2 flowing\n",
"N_2=(E_2/E_1)*(I_a1/I_a2)*N_1;//speed of the motor when 50 Amp current taking from supply(in rpm)\n",
"disp(N_2,'speed of the motor when 50 Amp current taking from supply(in rpm)=');\n",
"T_1=E_1*I_a1*60/(2*3.14*N_1);//electro-magnetic torque generated when motor running at 600 rpm(in Nw-m)\n",
"disp(T_1,'electro-magnetic torque generatedwhen motor running at 600 rpm(in Nw-m)');\n",
"T_2=E_2*I_a2*60/(2*3.14*N_2);//electro-magnetic torque generated in second case(in Nw-m)\n",
"disp(T_2,'electro-magnetic torque generated in second case(in Nw-m)');"
   ]
   }
,
{
		   "cell_type": "markdown",
		   "metadata": {},
		   "source": [
			"## Example 2.3: Find_the_current_per_path_of_armature.sce"
		   ]
		  },
  {
"cell_type": "code",
	   "execution_count": null,
	   "metadata": {
	    "collapsed": true
	   },
	   "outputs": [],
"source": [
"//Caption:Find the current per path of armature\n",
"//Exam:2.3\n",
"clc;\n",
"clear;\n",
"close;\n",
"I_a=200;//rated armature current(in Amp)\n",
"P=12;//number of poles in machine\n",
"A_1=2;//number of parallel paths with wave winding\n",
"A_2=P;//number of parallel paths with lap winding\n",
"I_1=I_a/A_1;//current per path in case of wave winding(in Amp)\n",
"disp(I_1,'current per path in case of wave winding(in Amp)=');\n",
"I_2=I_a/A_2;//current per path in case of lap winding(in Amp)\n",
"disp(I_2,'current per path in case of lap winding(in Amp)=');"
   ]
   }
,
{
		   "cell_type": "markdown",
		   "metadata": {},
		   "source": [
			"## Example 2.40: EX2_40.sce"
		   ]
		  },
  {
"cell_type": "code",
	   "execution_count": null,
	   "metadata": {
	    "collapsed": true
	   },
	   "outputs": [],
"source": [
"//Caption:What resistance must be inserted in series with the armature to reduce the speed to 500 rpm\n",
"//Exam:2.40\n",
"clc;\n",
"clear;\n",
"close;\n",
"V=250;//applied voltage to a shunt motor(in V)\n",
"I_a=20;//armature current(in Amp)\n",
"R_a=0.5;//armature resistance(in Ohm)\n",
"N_1=1000;//speed of the motor due to these readings(in rpm)\n",
"E_1=V-I_a*R_a;//emf induced in machine(in V)\n",
"N_2=500;//desired speed of the motor(in rpm)\n",
"E_2=(N_2/N_1)*E_1;//emf in case of motor speed N_2\n",
"//R_1 additional resistance added to reduce the speed to 500 rpm\n",
"R_1=(V-E_2)/I_a-R_a;//resistance applied in series with armature to reduce the speed to 500 rpm\n",
"disp(R_1,'resistance applied in series with armature to reduce the speed to 500 rpm(in Ohm)=');"
   ]
   }
,
{
		   "cell_type": "markdown",
		   "metadata": {},
		   "source": [
			"## Example 2.41: Determine_the_torque_in_Kgm_and_HP_and_efficiency_of_the_motor.sce"
		   ]
		  },
  {
"cell_type": "code",
	   "execution_count": null,
	   "metadata": {
	    "collapsed": true
	   },
	   "outputs": [],
"source": [
"//Caption:Determine the torque in Kgm.,H.P. & efficiency of the motor.\n",
"//Exam:2.41\n",
"clc;\n",
"clear;\n",
"close;\n",
"W_1=75;//load on one side of the brake(in Kg)\n",
"W_2=5;//load on other side of the brake(in Kg)\n",
"W=W_1-W_2;//effective force(in Kg)\n",
"R=1;//radius of the brake pulley (in m)\n",
"T=W*R;//torque(in Kg-m)\n",
"N=1200;//speed of the small shunt motor(in rpm)\n",
"H=(2*3.14)*(N*T)/33000;//torque in H.P.\n",
"disp(H,'torque (in H.P.)=');\n",
"H_P=735.5;//value of one H.P.\n",
"O_p=H*H_P;//output power(in Watt)\n",
"I_c=80;//input current(in Amp)\n",
"V=250;//input voltage(in V)\n",
"I_p=I_c*V;//input power(in Watt)\n",
"E=(O_p/I_p)*100;//efficiency of the motor\n",
"disp(E,'efficiency of the motor(in %)=');"
   ]
   }
,
{
		   "cell_type": "markdown",
		   "metadata": {},
		   "source": [
			"## Example 2.42: Determine_the_torque_in_Kgm_and_output_in_Watts_and_efficiency_of_the_motor.sce"
		   ]
		  },
  {
"cell_type": "code",
	   "execution_count": null,
	   "metadata": {
	    "collapsed": true
	   },
	   "outputs": [],
"source": [
"//Caption:Determine the torque in Kgm.,output in Watts & efficiency of the motor.\n",
"//Exam:2.42\n",
"clc;\n",
"clear;\n",
"close;\n",
"W_1=40;//load on one side of the brake(in Kg)\n",
"W_2=5;//load on other side of the brake(in Kg)\n",
"W=W_1-W_2;//effective force(in Kg)\n",
"R=0.5;//radius of the brake pulley (in m)\n",
"T=W*R;//torque(in Kg-m)\n",
"N=1500;//speed of the small shunt motor(in rpm)\n",
"O=(2*3.14)*(N*T)/60;//output (in Kg-m/sec)\n",
"O_p=O*9.81;//output (in watts)\n",
"disp(ceil(O_p),'output (in watts)');\n",
"I_c=80;//input current(in Amp)\n",
"V=400;//input voltage(in V)\n",
"I_p=I_c*V;//input power(in Watt)\n",
"E=(O_p/I_p)*100;//efficiency of the motor\n",
"disp(E,'efficiency of the motor(in %)=');"
   ]
   }
,
{
		   "cell_type": "markdown",
		   "metadata": {},
		   "source": [
			"## Example 2.43: Calculate_the_efficiency_of_the_motor.sce"
		   ]
		  },
  {
"cell_type": "code",
	   "execution_count": null,
	   "metadata": {
	    "collapsed": true
	   },
	   "outputs": [],
"source": [
"//Caption:Calculate the efficiency of the motor\n",
"//Exam:2.43\n",
"clc;\n",
"clear;\n",
"close;\n",
"W=10;//Spring reading (in Kg)\n",
"R=0.8;//brake arm length (in m)\n",
"T=W*R;//torque (in kg-m)\n",
"N=1200;//speed of the small shunt motor(in rpm)\n",
"O=(2*3.14)*(N*T)/60;//output (in Kg-m/sec)\n",
"O_p=O*9.81;//output (in watts)\n",
"V=250;//input voltage(in V)\n",
"I=50;//input current(in Amp)\n",
"I_p=V*I;//input power(in watts)\n",
"E=(O_p/I_p)*100;//efficiency of the motor\n",
"disp(E,'efficiency of the motor(in %)=');"
   ]
   }
,
{
		   "cell_type": "markdown",
		   "metadata": {},
		   "source": [
			"## Example 2.44: EX2_44.sce"
		   ]
		  },
  {
"cell_type": "code",
	   "execution_count": null,
	   "metadata": {
	    "collapsed": true
	   },
	   "outputs": [],
"source": [
"//Caption:Estimate the output and efficiency of a shunt motor when the input current is 20Amp and 100Amp\n",
"//Exam:2.44\n",
"clc;\n",
"clear;\n",
"close;\n",
"V=500;//applied voltage(in V)\n",
"R_sh=500;//field resistance (in Ohm)\n",
"R_a=0.2;//armature resistance(in Ohm)\n",
"I_o=4;//no load current (in Amp)\n",
"I_sh=V/R_sh;//field current(in Amp)\n",
"I_a=I_o-I_sh;//armature current(in Amp)\n",
"L_cf=V*I_sh;//copper losses in field(in watts)\n",
"L_ca=(I_a^2)*R_a;//copper losses in armature(in watts)\n",
"L_tc=L_cf+L_ca;//total copper losses\n",
"L_t=V*I_o;//input power to motor on no load(in watts)\n",
"L_m=L_t-L_tc;//iron & mechanical losses(in watts)\n",
"L_c=L_m+L_cf;//constant losses(in watts)\n",
"//(a) when input current is 20 Amp\n",
"I_l1=20;//input current(in Amp)\n",
"I_a1=I_l1-I_sh;//armature current when I_l1 input current(in Amp)\n",
"L_ca1=(I_a1^2)*R_a;//copper losses in armature when I_l1 input current(in watts)\n",
"L_T1=L_c+L_ca1;//total losses at this load(in watts)\n",
"I_p=V*I_l1;//input power(in watts)\n",
"O_p1=I_p-L_T1;//output power when input current is 20 Amp(in watts)\n",
"disp(O_p1,'output power when input current is 20 Amp(in watts)=');\n",
"E_1=(O_p1/I_p)*100;//efficiency of the shunt motor when input current is 20 Amp\n",
"disp(E_1,'efficiency of the shunt motor when input current is 20 Amp(in %)=');\n",
"//(b) when input current is 100 Amp\n",
"I_l2=100;//input current(in Amp)\n",
"I_a2=I_l2-I_sh;//armature current when I_l2 input current(in Amp)\n",
"L_ca2=(I_a2^2)*R_a;//copper losses in armature when I_l2 input current(in watts)\n",
"L_T2=L_c+L_ca2;//total losses at this load(in watts)\n",
"I_p=V*I_l2;//input power(in watts)\n",
"O_p2=I_p-L_T2;//output power when input current is 100 Amp(in watts)\n",
"disp(O_p2,'output power when input current is 100 Amp(in watts)=');\n",
"E_2=(O_p2/I_p)*100;//efficiency of the shunt motor when input current is 100 Amp\n",
"disp(E_2,'efficiency of the shunt motor when input current is 100 Amp(in %)=');"
   ]
   }
,
{
		   "cell_type": "markdown",
		   "metadata": {},
		   "source": [
			"## Example 2.45: EX2_45.sce"
		   ]
		  },
  {
"cell_type": "code",
	   "execution_count": null,
	   "metadata": {
	    "collapsed": true
	   },
	   "outputs": [],
"source": [
"//Caption:Calculate the motor output, H.P. and efficiency when the total current taken from the mains is 35 Amp\n",
"//Exam:2.45\n",
"clc;\n",
"clear;\n",
"close;\n",
"V=230;//applied voltage(in V)\n",
"R_sh=230;//field resistance (in Ohm)\n",
"R_a=0.3;//armature resistance(in Ohm)\n",
"I_o=2.5;//no load current (in Amp)\n",
"I_sh=V/R_sh;//field current(in Amp)\n",
"I_a=I_o-I_sh;//armature current(in Amp)\n",
"L_cf=V*I_sh;//copper losses in field(in watts)\n",
"L_ca=(I_a^2)*R_a;//copper losses in armature(in watts)\n",
"L_tc=L_cf+L_ca;//total copper losses\n",
"L_t=V*I_o;//input power to motor on no load(in watts)\n",
"L_m=L_t-L_tc;//iron & mechanical losses(in watts)\n",
"L_c=L_m+L_cf;//constant losses(in watts)\n",
"// when input current is 35 Amp(On load condition)\n",
"I_l=35;//input current(in Amp)\n",
"I_a1=I_l-I_sh;//armature current when I_l input current(in Amp)\n",
"L_ca1=(I_a1^2)*R_a;//copper losses in armature when I_l input current(in watts)\n",
"L_T1=L_c+L_ca1;//total losses at this load(in watts)\n",
"I_p=V*I_l;//input power(in watts)\n",
"O_p=I_p-L_T1;//output power(in watts)\n",
"disp(O_p,'output power of motor(in watts)=');\n",
"H.p=O_p/746;//the shunt motor H.P\n",
"disp(H.p,'the shunt motor H.P.=');\n",
"E_1=(O_p/I_p)*100;//efficiency of the shunt motor when input current is 35 Amp\n",
"disp(E_1,'efficiency of the shunt motor when input current is 35 Amp(in %)=');"
   ]
   }
,
{
		   "cell_type": "markdown",
		   "metadata": {},
		   "source": [
			"## Example 2.46: Calculate_the_full_load_motor_output_and_its_efficiency.sce"
		   ]
		  },
  {
"cell_type": "code",
	   "execution_count": null,
	   "metadata": {
	    "collapsed": true
	   },
	   "outputs": [],
"source": [
"//Caption:Calculate the full load motor output and its efficiency\n",
"//Exam:2.46\n",
"clc;\n",
"clear;\n",
"close;\n",
"V=500;//applied voltage(in V)\n",
"R_sh=250;//field resistance (in Ohm)\n",
"R_a=0.2;//resistance of armature including brushes(in Ohm)\n",
"I_o=5;//no load current (in Amp)\n",
"I_sh=V/R_sh;//shunt field current(in Amp)\n",
"I_a=I_o-I_sh;//armature current(in Amp)\n",
"L_a=(I_a^2)*R_a;//armature brush drop(in watts)\n",
"L_t=V*I_o;//input to motor on no load(in watts)\n",
"L_c=L_t-L_a;//constant losses(in watts)\n",
"//On full load condition\n",
"I_l=52;//input current(in Amp)\n",
"I_a1=I_l-I_sh;//armature current when I_l1 input current(in Amp)\n",
"L_a1=(I_a1^2)*R_a;//losses in armature when I_l1 input current(in watts)\n",
"L_T1=L_c+L_a1;//total losses at this load(in watts)\n",
"I_p=V*I_l;//input power(in watts)\n",
"O_p=I_p-L_T1;//output power(in watts)\n",
"disp(O_p,'output of the motor(in watts)=');\n",
"H.p=O_p/735.5;//the shunt motor H.P\n",
"disp(H.p,'the shunt motor H.P.=');\n",
"E_1=(O_p/I_p)*100;//efficiency of the full load shunt motor when input current is 52 Amp\n",
"disp(E_1,'efficiency of the full load shunt motor when input current is 52 Amp(in %)=');"
   ]
   }
,
{
		   "cell_type": "markdown",
		   "metadata": {},
		   "source": [
			"## Example 2.47: Determine_the_input_in_Watts_and_efficiency_of_the_generator.sce"
		   ]
		  },
  {
"cell_type": "code",
	   "execution_count": null,
	   "metadata": {
	    "collapsed": true
	   },
	   "outputs": [],
"source": [
"//Caption:Determine the input in Watts & efficiency of the generator\n",
"//Exam:2.47\n",
"clc;\n",
"clear;\n",
"close;\n",
"O_p=50;//output of a machine (in KW)\n",
"O_p1=50*(10)^3;//output (in watts)\n",
"L_i=4000;//internal losses(in watts)\n",
"I_p=O_p1+L_i;//input(in watts)\n",
"disp(I_p,'input(in watts)=');\n",
"E=(O_p1/I_p)*100;//efficiency of the generator\n",
"disp(E,'efficiency of the generator(in %)=');"
   ]
   }
,
{
		   "cell_type": "markdown",
		   "metadata": {},
		   "source": [
			"## Example 2.48: Determine_the_internal_losses_and_torque_and_efficiency_of_the_motor.sce"
		   ]
		  },
  {
"cell_type": "code",
	   "execution_count": null,
	   "metadata": {
	    "collapsed": true
	   },
	   "outputs": [],
"source": [
"//Caption:Determine the internal losses,torque & efficiency of the motor\n",
"//Exam:2.48\n",
"clc;\n",
"clear;\n",
"close;\n",
"V=240;//supply voltage(in V)\n",
"I=80;//motor taking current(in Amp)\n",
"H.p=20;//motor giving H.P.\n",
"I_p=V*I;//input (in watts)\n",
"O_p=H.p*735.5;//output (in watts)\n",
"L_i=I_p-O_p;//internal losses(in watts)\n",
"disp(L_i,'internal losses in motor(in watts)=');\n",
"N=1300;//motor speed (in rpm)\n",
"T=O_p*60/(2*3.14*N);//torque generated in motor(in Nw-m)\n",
"disp(T,'torque generated in motor(in Nw-m)=');\n",
"E=(O_p/I_p)*100;//efficiency of the motor\n",
"disp(E,'efficiency of the motor(in %)=');"
   ]
   }
,
{
		   "cell_type": "markdown",
		   "metadata": {},
		   "source": [
			"## Example 2.49: Find_the_copper_losses_iron_and_friction_losses_and_commerical_efficiency.sce"
		   ]
		  },
  {
"cell_type": "code",
	   "execution_count": null,
	   "metadata": {
	    "collapsed": true
	   },
	   "outputs": [],
"source": [
"//Caption:Find the copper losses,iron& friction losses and commerical efficiency.\n",
"//Exam:2.49\n",
"clc;\n",
"clear;\n",
"close;\n",
"V=250;//supply voltage(in V)\n",
"R_sh=100;//shunt field resistance(in Ohm)\n",
"R_a=0.1;//armature resistance(in Ohm)\n",
"I_sh=V/R_sh;//field current(in Amp)\n",
"I_l=197.5;//motor taking current(in Amp)\n",
"I_a=I_l+I_sh;//Armature current(in Amp)\n",
"E=V+I_a*R_a;//E.M.F generated(in V)\n",
"H.p=80;//motor giving H.P.\n",
"P_m=H.p*735.5;//mechanical power input (in watts)\n",
"P_a=E*I_a;//electrical power developed in armature(in watts)\n",
"L_i=P_m-P_a;//iron & friction losses(in watts)\n",
"disp(L_i,'iron & friction losses in motor(in watts)=');\n",
"O_p=V*I_l;//electrical power output\n",
"L_c=P_a-O_p;//copper losses(in watts)\n",
"disp(L_c,'copper losses in a shunt generator(in watts)=');\n",
"L_t=L_i+L_c;//Total losses(in Watts)\n",
"I_p=O_p+L_t;//Input(in Watts)\n",
"E_f=(O_p/I_p)*100;//Commerical efficiency\n",
"disp(E_f,'commerical efficiency(in %)=');"
   ]
   }
,
{
		   "cell_type": "markdown",
		   "metadata": {},
		   "source": [
			"## Example 2.4: Calculate_the_induced_emf_in_machine.sce"
		   ]
		  },
  {
"cell_type": "code",
	   "execution_count": null,
	   "metadata": {
	    "collapsed": true
	   },
	   "outputs": [],
"source": [
"//Caption:Calculate the induced emf in machine \n",
"//Exam:2.4\n",
"clc;\n",
"clear;\n",
"close;\n",
"N_1=500;//starting speed of machine(in rpm)\n",
"E_1=200;//emf of the machine at N_1 (in V)\n",
"N_2=600;//new speed of machine(in rpm)\n",
"E_2=E_1*N_2/N_1;//emf of the machine atN_2 (in V)\n",
"disp(E_2,'induced emf while the machine is running at 600 rpm(in V)=');"
   ]
   }
,
{
		   "cell_type": "markdown",
		   "metadata": {},
		   "source": [
			"## Example 2.50: Determine_Copper_losses_and_total_losses_and_Output_and_BHP.sce"
		   ]
		  },
  {
"cell_type": "code",
	   "execution_count": null,
	   "metadata": {
	    "collapsed": true
	   },
	   "outputs": [],
"source": [
"//Caption:Determine Copper losses and total losses and Output and BHP of the motor and efficiency of the motor\n",
"//Exam:2.50\n",
"clc;\n",
"clear;\n",
"close;\n",
"V=230;//supply voltage(in V)\n",
"I_l=200;//line current(in Amp)\n",
"I_p=V*I_l;//input power (in watts)\n",
"R_sh=50;//shunt field resistance(in Ohm)\n",
"R_a=0.04;//armature resistance (in ohm)\n",
"I_sh=V/R_sh;//shunt field currrent(in Amp)\n",
"I_a=I_l-I_sh;//armature current(in Amp)\n",
"L_cf=V*I_sh;//copper losses in the field(in watts)\n",
"L_ca=(I_a^2)*R_a;//copper loses in armature(in watts)\n",
"L_ct=L_cf+L_ca;//Total copper losses(in watts)\n",
"disp(L_ct,'copper losses of the motor(in watts)=');\n",
"L_s=1500;//Stray losses (in watts)\n",
"L_t=L_ct+L_s;//total losses(in watts)\n",
"disp(L_t,'total losses of the motor(in watts)=');\n",
"O_p=I_p-L_t;//output of the motor(in watts)\n",
"disp(O_p,'Output of the motor(in watts)=');\n",
"B.h.p=O_p/735.5;//B.H.P. of the motor (in H.P.)\n",
"disp(B.h.p,'B.H.P. of the motor (in H.P.)=');\n",
"E=(O_p/I_p)*100;//efficiency of the motor(in %)\n",
"disp(E,'efficiency of the motor(in %)=');"
   ]
   }
,
{
		   "cell_type": "markdown",
		   "metadata": {},
		   "source": [
			"## Example 2.51: Calculate_the_speed_and_BHP_of_the_motor.sce"
		   ]
		  },
  {
"cell_type": "code",
	   "execution_count": null,
	   "metadata": {
	    "collapsed": true
	   },
	   "outputs": [],
"source": [
"//Caption:Calculate the speed and BHP of the motor\n",
"//Exam:2.51\n",
"clc;\n",
"clear;\n",
"close;\n",
"V=250;//applied emf(in V)\n",
"R_sh=0.05;//field resistance (in Ohm)\n",
"R_a=0.1;//armature resistance(in Ohm)\n",
"I=80;//motor current(in Amp)\n",
"A_s=240;//armature slots \n",
"C_s=4;//number of conductor per slot\n",
"Z=A_s*C_s;//total number of conductor\n",
"E_b=V-I*(R_a+R_sh);//Back emf(in V)\n",
"A=2;//number of parallel paths for wave wound\n",
"P=6;//poles\n",
"F=1.75;//flux per pole (in megalines)\n",
"F_1=1.75*10^-2;//flux per pole (in Wb)\n",
"N=E_b*60*A/(F_1*Z*P);//speed of the motor (in rpm)\n",
"disp(N,'speed of the motor (in rpm)=');\n",
"I_p=V*I;//input to the motor(in watts)\n",
"L_c=(I^2)*(R_a+R_sh);//copper losses(in watts)\n",
"L_i=900;//iron and friction losses(in watts)\n",
"L_t=L_c+L_i;//total losses(in watts)\n",
"O_p=I_p-L_t;//output(in watts)\n",
"B.H.P=O_p/746;//B.H.P. of the motor\n",
"disp(B.H.P,'B.H.P. of the motor(in H.P)=');"
   ]
   }
,
{
		   "cell_type": "markdown",
		   "metadata": {},
		   "source": [
			"## Example 2.5: calculate_the_generated_emf.sce"
		   ]
		  },
  {
"cell_type": "code",
	   "execution_count": null,
	   "metadata": {
	    "collapsed": true
	   },
	   "outputs": [],
"source": [
"//Caption:calculate the generated emf\n",
"//Exam:2.5\n",
"clc;\n",
"clear;\n",
"close;\n",
"S_1=80;//Number of armature slots \n",
"S_2=6;//Number of conductor per slot\n",
"Z=S_1*S_2;//Number of armature conductors\n",
"F=50;//Flux per pole(in mWb)\n",
"F_1=F*10^-3;//(in Wb)\n",
"P=6;//Number of poles\n",
"A=P;//Number of parallel paths\n",
"N=1200;//armature speed(in rpm)\n",
"E_g=F_1*Z*N*P/(60*A);//EMF generated in 6 pole lap wound dc generator (in Volts)\n",
"disp(E_g,'EMF generated in 6 pole lap wound dc generator (in Volts)=');"
   ]
   }
,
{
		   "cell_type": "markdown",
		   "metadata": {},
		   "source": [
			"## Example 2.6: Calculate_the_voltage_generated_in_4_pole_generator.sce"
		   ]
		  },
  {
"cell_type": "code",
	   "execution_count": null,
	   "metadata": {
	    "collapsed": true
	   },
	   "outputs": [],
"source": [
"//Caption:Calculate the voltage generated in 4 pole generator\n",
"//Exam:2.6\n",
"clc;\n",
"clear;\n",
"close;\n",
"S_1=51;//Number of slots \n",
"S_2=20;//Number of conductor per slot\n",
"Z=S_1*S_2;//number of armature conductors\n",
"F=7;//flux per pole(in mWb) \n",
"F_1=F*10^-3;//flux per pole(in Wb)\n",
"P=4;//Number of poles\n",
"A=2;//Number of parallel paths (armature is wave wound)\n",
"N=1500;//speed of the machine(in rpm)\n",
"E_g=F_1*Z*N*P/(60*A);//generated emf\n",
"disp(E_g,'voltage generated in machine (in Volts)=');"
   ]
   }
,
{
		   "cell_type": "markdown",
		   "metadata": {},
		   "source": [
			"## Example 2.7: Find_out_the_speed_for_6_pole_machine.sce"
		   ]
		  },
  {
"cell_type": "code",
	   "execution_count": null,
	   "metadata": {
	    "collapsed": true
	   },
	   "outputs": [],
"source": [
"//Caption:Find out the speed for 6 pole machine \n",
"//Exam:2.7\n",
"clc;\n",
"clear;\n",
"close;\n",
"F=60;//flux per pole(in m Wb)\n",
"F_1=F*10^-3;//flux per pole(in Wb)\n",
"Z=480;//Number of armature conductors\n",
"P=6;//Number of poles\n",
"A=2;//Number of parallel paths(Armature wave wound)\n",
"E_g=320;//generated emf (in V)\n",
"N=E_g*60*A/(F_1*Z*P);//speed(in rpm)\n",
"disp(N,'speed of the machine (in rpm)=');"
   ]
   }
,
{
		   "cell_type": "markdown",
		   "metadata": {},
		   "source": [
			"## Example 2.8: EX2_8.sce"
		   ]
		  },
  {
"cell_type": "code",
	   "execution_count": null,
	   "metadata": {
	    "collapsed": true
	   },
	   "outputs": [],
"source": [
"//Caption:calculate the suitable number of conductor per slot hence determine the actual value of flux\n",
"//Exam:2.8\n",
"clc;\n",
"clear;\n",
"close;\n",
"F_1=0.05;//flux per pole(in Wb )\n",
"N=350;//speed(in rpm)\n",
"P=8;//no of poles\n",
"A=P;//no of parallel path\n",
"E_g=240;//voltage generated (in V)\n",
"Z_1=E_g*60*A/(F_1*N*P);//total no of armature conductor required\n",
"C_s=ceil(Z_1/120);//number of conductor per slot\n",
"disp(C_s,'number of conductor per slot=');\n",
"A_s=120;//armature slots \n",
"Z_2=A_s*C_s;//total conductors in armature slot\n",
"F_2=E_g*60*A/(N*Z_2*P);//Actual value of flux(in Wb)\n",
"disp(F_2,'Actual value of flux(in Wb)=');"
   ]
   }
,
{
		   "cell_type": "markdown",
		   "metadata": {},
		   "source": [
			"## Example 2.9: Calculate_the_emf_if_the_speed_is_1500_rpm.sce"
		   ]
		  },
  {
"cell_type": "code",
	   "execution_count": null,
	   "metadata": {
	    "collapsed": true
	   },
	   "outputs": [],
"source": [
"//Caption:Calculate the emf if the speed is 1500 rpm\n",
"//Exam:2.9\n",
"clc;\n",
"clear;\n",
"close;\n",
"P=8;//Number of poles\n",
"F=2;//flux per pole (in mWb)\n",
"F_1=2*10^-2;//flux per pole (in Wb)\n",
"Z=960;//number of conductor\n",
"A=P;//Number of parallel paths(lap winding)\n",
"N=1500;//speed (in rpm)\n",
"E_g=P*F*Z*N/(60*A);//emf generated (in Volts)\n",
"disp(E_g,'emf generated (in Volts)=');"
   ]
   }
],
"metadata": {
		  "kernelspec": {
		   "display_name": "Scilab",
		   "language": "scilab",
		   "name": "scilab"
		  },
		  "language_info": {
		   "file_extension": ".sce",
		   "help_links": [
			{
			 "text": "MetaKernel Magics",
			 "url": "https://github.com/calysto/metakernel/blob/master/metakernel/magics/README.md"
			}
		   ],
		   "mimetype": "text/x-octave",
		   "name": "scilab",
		   "version": "0.7.1"
		  }
		 },
		 "nbformat": 4,
		 "nbformat_minor": 0
}
