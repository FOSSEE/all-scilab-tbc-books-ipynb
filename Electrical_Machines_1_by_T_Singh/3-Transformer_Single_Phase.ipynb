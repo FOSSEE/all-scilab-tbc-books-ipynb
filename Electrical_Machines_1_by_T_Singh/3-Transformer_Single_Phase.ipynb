{
"cells": [
 {
		   "cell_type": "markdown",
	   "metadata": {},
	   "source": [
       "# Chapter 3: Transformer Single Phase"
	   ]
	},
{
		   "cell_type": "markdown",
		   "metadata": {},
		   "source": [
			"## Example 3.10: EX3_10.sce"
		   ]
		  },
  {
"cell_type": "code",
	   "execution_count": null,
	   "metadata": {
	    "collapsed": true
	   },
	   "outputs": [],
"source": [
"//Caption:In a single phase transformer primary side is open , Find (a)core loss, (b)loss component of current ,(c)Magnetising current.\n",
"//Exam:3.10\n",
"clc;\n",
"clear;\n",
"close;\n",
"O_p=50;//output (in KVA)\n",
"V_2=230;//Secondary voltage(in Volts)\n",
"P=187;//meter's power reading (in watt)\n",
"I_w=P/V_2;//Loss component of current(in Amp)\n",
"I_o=6.5;//meter's current reading (in Amp)\n",
"I_m=((I_o)^2-(I_w)^2);//Magnetising current(in Amp)\n",
"P=V_2*I_w;//Core loss(in watt)\n",
"disp(P,'Core loss(in watt)=');\n",
"disp(I_w,'Loss component of current(in Amp)=');\n",
"disp(I_m,'Magnetising current(in Amp)=');"
   ]
   }
,
{
		   "cell_type": "markdown",
		   "metadata": {},
		   "source": [
			"## Example 3.11: EX3_11.sce"
		   ]
		  },
  {
"cell_type": "code",
	   "execution_count": null,
	   "metadata": {
	    "collapsed": true
	   },
	   "outputs": [],
"source": [
"//Caption:In a transformer Calculate (a)Magnetising component of no load current (b)the iron loss (c)the maximum value of flux in the core.\n",
"//Exam:3.11\n",
"clc;\n",
"clear;\n",
"close;\n",
"V_1=460;//supply voltage(in Volts)\n",
"I_o=15;//No load current (in Amp)\n",
"p=acosd(0.2);//power angle(when power factor is 0.2)\n",
"n=sind(p);\n",
"I_m=I_o*n;//Magnetising component of no load current \n",
"disp(I_m,'Magnetising component of no load current (in Amp)=');\n",
"L_ir=V_1*I_o*cosd(p)/1000;//the iron loss in transformer(in kWatt)\n",
"disp(L_ir,'the iron loss in transformer(in kWatt)=');\n",
"E_1=V_1;//at no load condition\n",
"N_1=550;//primary winding\n",
"f=50;//supply frequency (in Hz)\n",
"F_m=E_1/(4.44*N_1*f);//the maximum value of flux in the core(in Wb)\n",
"disp(F_m,'the maximum value of flux in the core(in Wb)=');"
   ]
   }
,
{
		   "cell_type": "markdown",
		   "metadata": {},
		   "source": [
			"## Example 3.12: EX3_12.sce"
		   ]
		  },
  {
"cell_type": "code",
	   "execution_count": null,
	   "metadata": {
	    "collapsed": true
	   },
	   "outputs": [],
"source": [
"//Caption:In a single phase transformer, Find (a)The magnetising current (b)The iron loss current \n",
"//Exam:3.12\n",
"clc;\n",
"clear;\n",
"close;\n",
"p=acosd(0.22);//power angle(when power factor is 0.22)\n",
"I_o=0.3;//no load current(in Amp)\n",
"I_m=I_o*sind(p);//Magnetising current(in Amp)\n",
"disp(I_m,'Magnetising current(in Amp)=');\n",
"I_w=I_o*cosd(p);//Iron loss current (in Amp)\n",
"disp(I_w,'Iron loss current (in Amp)=');"
   ]
   }
,
{
		   "cell_type": "markdown",
		   "metadata": {},
		   "source": [
			"## Example 3.13: Find_the_active_and_reactive_components_of_a_single_phase_transformer.sce"
		   ]
		  },
  {
"cell_type": "code",
	   "execution_count": null,
	   "metadata": {
	    "collapsed": true
	   },
	   "outputs": [],
"source": [
"//Caption:Find the active and reactive components of a single phase transformer.\n",
"//Exam:3.14\n",
"clc;\n",
"clear;\n",
"close;\n",
"V_1=440;//supply Voltage(in Volts)\n",
"p=acosd(0.3);//power angle when power factor is 0.3\n",
"P_o=80;//power input to the hv winding(in Watt)\n",
"I_o=P_o/(V_1*cosd(p));//No load current (in Amp)\n",
"I_w=I_o*cosd(p);//Active component of no  load current (in Amp)\n",
"disp(I_w,'Active component of no load current (in Amp)=');\n",
"I_m=I_o*sind(p);//Reactive component of no load current (in Amp)\n",
"disp(I_m,'Reactive component of no load current (in Amp)=');"
   ]
   }
,
{
		   "cell_type": "markdown",
		   "metadata": {},
		   "source": [
			"## Example 3.14: In_a_single_phase_transformer_Calculate_the_current_taken_by_the_primary_winding.sce"
		   ]
		  },
  {
"cell_type": "code",
	   "execution_count": null,
	   "metadata": {
	    "collapsed": true
	   },
	   "outputs": [],
"source": [
"//Caption:In a single phase transformer Calculate the current taken by the primary winding.\n",
"//Exam:3.14\n",
"clc;\n",
"clear;\n",
"close;\n",
"V_1=6600;//Primary voltage(in Volts)\n",
"V_2=400;//Secondary voltage(in Volts)\n",
"I_o=0.7;//NO load current(in Amp)\n",
"p_o=0.24;//No load power factor\n",
"q_o=acosd(p_o);//power angle when no load power factor is 0.24\n",
"I_2=100;//Secondary current(in Amp)\n",
"p_2=0.8;//Secondary power factor\n",
"q_2=acosd(p_2);//power angle when secondary power factor is 0.8\n",
"K=V_2/V_1;//ratio of primary to secondary voltage\n",
"I_1=K*I_2;//primary current(in Amp)\n",
"Q=q_o-q_2;//resultant power angle\n",
"I=((I_o)^2 + (I_1)^2+2*I_o*I_1*cosd(Q))^(1/2);//Resultant current taken by the primary(in Amp)\n",
"disp(I,'Resultant current taken by the primary(in Amp)=');"
   ]
   }
,
{
		   "cell_type": "markdown",
		   "metadata": {},
		   "source": [
			"## Example 3.15: In_a_single_phase_transformer_Calculate_the_current_taken_by_the_primary_winding.sce"
		   ]
		  },
  {
"cell_type": "code",
	   "execution_count": null,
	   "metadata": {
	    "collapsed": true
	   },
	   "outputs": [],
"source": [
"//Caption:In a single phase transformer Calculate the current taken by the primary winding.\n",
"//Exam:3.15\n",
"clc;\n",
"clear;\n",
"close;\n",
"V_1=440;//Primary voltage(in Volts)\n",
"V_2=110;//Secondary voltage(in Volts)\n",
"I_o=5;//NO load current(in Amp)\n",
"p_o=0.2;//No load power factor\n",
"q_o=acosd(p_o);//power angle when no load power factor is 0.24\n",
"I_2=120;//Secondary current(in Amp)\n",
"p_2=0.8;//Secondary power factor\n",
"q_2=acosd(p_2);//power angle when secondary power factor is 0.8\n",
"K=V_2/V_1;//ratio of primary to secondary voltage\n",
"I_1=K*I_2;//primary current(in Amp)\n",
"Q=q_o-q_2;//resultant power angle\n",
"I=((I_o)^2 + (I_1)^2+2*I_o*I_1*cosd(Q))^(1/2);//Resultant current taken by the primary(in Amp)\n",
"disp(I,'Resultant current taken by the primary(in Amp)=');"
   ]
   }
,
{
		   "cell_type": "markdown",
		   "metadata": {},
		   "source": [
			"## Example 3.16: EX3_16.sce"
		   ]
		  },
  {
"cell_type": "code",
	   "execution_count": null,
	   "metadata": {
	    "collapsed": true
	   },
	   "outputs": [],
"source": [
"//Caption:In a single phase transformer Calculate Equivalent resistance as referred to primary and Equivalent resistance as referred to secondary and Equivalent reactance as referred to both primary and secondary also find Equivalent impedence as referred to both primary and secondary.\n",
"//Exam:3.16\n",
"clc;\n",
"clear;\n",
"close;\n",
"V_1=4400;//Primary voltage (in Volts)\n",
"V_2=220;//Secondary voltage (in Volts)\n",
"R_1=3.45;//Primary resistance (in Ohm)\n",
"X_1=5.2;//Primary reactances (in Ohm)\n",
"R_2=0.009;//secondary resistance (in Ohm)\n",
"X_2=0.015;//secondary reactance (in Ohm)\n",
"K=V_2/V_1;//voltage ratio\n",
"R_o1=R_1+(R_2/K^2);//Equivalent resistance as referred to primary(in Ohm)\n",
"disp(R_o1,'Equivalent resistance as referred to primary(in Ohm)=');\n",
"R_o2=R_2+(R_1*K^2);//Equivalent resistance as referred to secondary(in Ohm)\n",
"disp(R_o2,'Equivalent resistance as referred to secondary(in Ohm)=');\n",
"X_o1=X_1+(X_2/K^2);//Equivalent reactance as referred to primary(in Ohm)\n",
"disp(X_o1,'Equivalent reactance as referred to primary(in Ohm)=');\n",
"X_o2=X_2+X_1*(K^2);//Equivalent reactance as referred to secondary(in Ohm)\n",
"disp(X_o2,'Equivalent reactance as referred to secondary(in Ohm)=');\n",
"Z_o1=((R_o1)^2 + (X_o1)^2)^(1/2);//Equivalent impedence as referred to primary(in Ohm)\n",
"disp(Z_o1,'Equivalent impedence as referred to primary(in Ohm)=');\n",
"Z_o2=((R_o2)^2 + (X_o2)^2)^(1/2);//Equivalent impedence as referred to secondary(in Ohm)\n",
"disp(Z_o2,'Equivalent impedence as referred to secondary(in Ohm)=');"
   ]
   }
,
{
		   "cell_type": "markdown",
		   "metadata": {},
		   "source": [
			"## Example 3.17: EX3_17.sce"
		   ]
		  },
  {
"cell_type": "code",
	   "execution_count": null,
	   "metadata": {
	    "collapsed": true
	   },
	   "outputs": [],
"source": [
"//Caption:In a single phase transformer Calculate the secondary terminal voltage at full load.\n",
"//Exam:3.17\n",
"clc;\n",
"clear;\n",
"close;\n",
"V_1=2000;//Primary voltage at no load or full load(in Volts)\n",
"V_2=400;//Secondary voltage at no load (in Volts)\n",
"K=V_2/V_1;//Ratio of transformation\n",
"R_1=5;//Primary resistance(in Ohm)\n",
"R_2=0.2;//Secondary resistance(in Ohm)\n",
"X_1=12;//Primary reactance(in Ohm)\n",
"X_2=0.48;//Secondary reactance(in Ohm)\n",
"R_o2=R_2 + (K^2)*R_1;//Equivalent resistance as referred to secondary(in Ohm)\n",
"X_o2=X_2 + (K^2)*X_1;//Equivalent reactance as referred to secondary(in Ohm)\n",
"O_p=10;//Rated output(i KVA)\n",
"I_2=O_p*1000/V_2;//Full load secondary current(in Amp)\n",
"p=0.8;//power factor\n",
"a=acosd(p);//power angle\n",
"V_d=I_2*R_o2*cosd(a) + I_2*X_o2*sind(a);//Voltage drop (in Volts)\n",
"V=V_2-V_d;//Secondary terminal voltage at full load (in Volts)\n",
"disp(V,'Secondary terminal voltage at full load (in Volts)=');"
   ]
   }
,
{
		   "cell_type": "markdown",
		   "metadata": {},
		   "source": [
			"## Example 3.18: EX3_18.sce"
		   ]
		  },
  {
"cell_type": "code",
	   "execution_count": null,
	   "metadata": {
	    "collapsed": true
	   },
	   "outputs": [],
"source": [
"//Caption:In a single phase transformer Calculate the secondary terminal voltage at full load.\n",
"//Exam:3.18\n",
"clc;\n",
"clear;\n",
"close;\n",
"V_1=11000;//Primary voltage at no load or full load(in Volts)\n",
"V_2=400;//Secondary voltage at no load (in Volts)\n",
"K=V_2/V_1;//Ratio of transformation\n",
"R_1=4;//Primary resistance(in Ohm)\n",
"R_2=0.2;//Secondary resistance(in Ohm)\n",
"X_1=10;//Primary reactance(in Ohm)\n",
"X_2=0.4;//Secondary reactance(in Ohm)\n",
"R_o2=R_2 + (K^2)*R_1;//Equivalent resistance as referred to secondary(in Ohm)\n",
"X_o2=X_2 + (K^2)*X_1;//Equivalent reactance as referred to secondary(in Ohm)\n",
"O_p=10;//Rated output(in KVA)\n",
"I_2=O_p*1000/V_2;//Full load secondary current(in Amp)\n",
"Z_o2=((R_o2)^2 +(X_o2)^2)^(1/2);//Equivalent impedance as referred to secondary(in Ohm)\n",
"V=V_2-I_2*Z_o2;//Secondary terminal voltage at full load (in Volts)\n",
"disp(V,'Secondary terminal voltage at full load (in Volts)=');"
   ]
   }
,
{
		   "cell_type": "markdown",
		   "metadata": {},
		   "source": [
			"## Example 3.19: EX3_19.sce"
		   ]
		  },
  {
"cell_type": "code",
	   "execution_count": null,
	   "metadata": {
	    "collapsed": true
	   },
	   "outputs": [],
"source": [
"//Caption:In a single phase transformer Determine equivalent resistance referred to secondary side and equivalent reactance referred to secondary side\n",
"//Exam:3.19\n",
"clc;\n",
"clear;\n",
"close;\n",
"V_1=2000;//Primary voltage at no load or full load(in Volts)\n",
"V_2=400;//Secondary voltage at no load (in Volts)\n",
"K=V_2/V_1;//Ratio of transformation\n",
"R_1=5.2;//Primary resistance(in Ohm)\n",
"R_2=0.2;//Secondary resistance(in Ohm)\n",
"X_1=12.5;//Primary reactance(in Ohm)\n",
"X_2=0.5;//Secondary reactance(in Ohm)\n",
"R_o2=R_2 + (K^2)*R_1;//Equivalent resistance as referred to secondary(in Ohm)\n",
"disp(R_o2,'Equivalent resistance as referred to secondary(in Ohm)=');\n",
"X_o2=X_2 + (K^2)*X_1;//Equivalent reactance as referred to secondary(in Ohm)\n",
"disp(X_o2,'Equivalent reactance as referred to secondary(in Ohm)=');"
   ]
   }
,
{
		   "cell_type": "markdown",
		   "metadata": {},
		   "source": [
			"## Example 3.1: EX3_1.sce"
		   ]
		  },
  {
"cell_type": "code",
	   "execution_count": null,
	   "metadata": {
	    "collapsed": true
	   },
	   "outputs": [],
"source": [
"//Caption:Calculate the number of turns on both primary and secondary winding in a single phase transformer\n",
"//Exam:3.1\n",
"clc;\n",
"clear;\n",
"close;\n",
"E_1=500;//primary induced emf(in Volts)\n",
"E_2=250;//secondary induced emf(in Volts)\n",
"F=50;//supply frequency(in Hz)\n",
"B_max=1.2;//maximum flux density(in T)\n",
"a=0.009;//cross sectional area(in square meter)\n",
"F_x=B_max*a;//maximum value of flux(in Wb)\n",
"N_1=ceil(E_1/(4.44*F*F_x));//number of primary turns\n",
"disp(N_1,'number of primary turns in transformer=');\n",
"N_2=ceil(E_2/(4.44*F*F_x));//number of secondary turns\n",
"disp(N_2,'number of secondary turns in transformer=');"
   ]
   }
,
{
		   "cell_type": "markdown",
		   "metadata": {},
		   "source": [
			"## Example 3.20: EX3_20.sce"
		   ]
		  },
  {
"cell_type": "code",
	   "execution_count": null,
	   "metadata": {
	    "collapsed": true
	   },
	   "outputs": [],
"source": [
"//Caption:Determine equivalent resistance and reactance of primary referred to secondary and total resistance and reactance referred to secondary and equivalent resistance and reactance of secondary referred to primary and total resistance and reactance of secondary referred to primary.\n",
"//Exam:3.20\n",
"clc;\n",
"clear;\n",
"close;\n",
"V_1=2000;//Primary voltage at no load or full load(in Volts)\n",
"V_2=200;//Secondary voltage at no load (in Volts)\n",
"K=V_2/V_1;//Ratio of transformation\n",
"R_1=2;//Primary resistance(in Ohm)\n",
"R_2=0.025;//Secondary resistance(in Ohm)\n",
"X_1=4;//Primary reactance(in Ohm)\n",
"X_2=0.04;//Secondary reactance(in Ohm)\n",
"R_eq12=(K^2)*R_1;//equivalent resistance of primary referred to secondary(in Ohm)\n",
"disp(R_eq12,'equivalent resistance of primary referred to secondary(in Ohm)=');\n",
"X_eq12=(K^2)*X_1;//equivalent reactance of primary referred to secondary(in Ohm)\n",
"disp(X_eq12,'equivalent reactance of primary referred to secondary(in Ohm)=');\n",
"R_e2=(K^2)*R_1 + R_2;//total resistance of primary referred to secondary(in Ohm)\n",
"disp(R_e2,'total resistance of primary referred to secondary(in Ohm)=');\n",
"X_e2=(K^2)*X_1 + X_2;//total reactance of primary referred to secondary(in Ohm)\n",
"disp(X_e2,'total reactance of primary referred to secondary(in Ohm)=');\n",
"R_eq21=R_2/(K^2);//equivalent resistance of secondary referred to primar(in Ohm)\n",
"disp(R_eq21,'equivalent resistance of secondary referred to primar(in Ohm)=');\n",
"X_eq21=X_2/(K^2);//equivalent reactance of secondary referred to primar(in Ohm)\n",
"disp(X_eq21,'equivalent reactance of secondary referred to primar(in Ohm)=');\n",
"R_e1=R_1 + R_2/(K^2);//total resistance of secondary referred to primary(in Ohm)\n",
"disp(R_e1,'total resistance of secondary referred to primary(in Ohm)=');\n",
"X_e1=X_1 + X_2/(K^2);//total reactance of secondary referred to primary(in Ohm)\n",
"disp(X_e1,'total reactance of secondary referred to primary(in Ohm)=');"
   ]
   }
,
{
		   "cell_type": "markdown",
		   "metadata": {},
		   "source": [
			"## Example 3.21: EX3_21.sce"
		   ]
		  },
  {
"cell_type": "code",
	   "execution_count": null,
	   "metadata": {
	    "collapsed": true
	   },
	   "outputs": [],
"source": [
"//Caption:Determine Primary resistance referred to secondary and secondary resistance referred to primary and total resistance of transformer referred to primary.\n",
"//Exam:3.21\n",
"clc;\n",
"clear;\n",
"close;\n",
"V_1=2000;//Primary voltage at no load or full load(in Volts)\n",
"V_2=220;//Secondary voltage at no load (in Volts)\n",
"R_1=1.06;//Primary resistance(in Ohm)\n",
"R_2=0.013;//Secondary resistance(in Ohm)\n",
"K=V_2/V_1;//Ratio of transformation\n",
"R_eq1=(K^2)*R_1;//Primary resistance referred to secondary(in Ohm)\n",
"disp(R_eq1,'Primary resistance referred to secondary(in Ohm)=');\n",
"R_eq2=R_2/(K^2);//secondary resistance referred to primary(in Ohm)\n",
"disp(R_eq2,'secondary resistance referred to primary(in Ohm)=');\n",
"R_e1=R_1 + R_eq2;//total resistance of transformer referred to primary(in Ohm)\n",
"disp(R_e1,'total resistance of transformer referred to primary(in Ohm)=');"
   ]
   }
,
{
		   "cell_type": "markdown",
		   "metadata": {},
		   "source": [
			"## Example 3.22: EX3_22.sce"
		   ]
		  },
  {
"cell_type": "code",
	   "execution_count": null,
	   "metadata": {
	    "collapsed": true
	   },
	   "outputs": [],
"source": [
"//Caption:In a single phase transformer Find Full load regulation at a power factor (a) 0.8 lagging (b) unity (c) 0.8 leading.\n",
"//Exam:3.22\n",
"clc;\n",
"clear;\n",
"close;\n",
"V_1=6600;//Primary voltage (in Volts)\n",
"V_2=250;//Secondary voltage (in Volts)\n",
"K=V_2/V_1;//Ratio of transformation\n",
"R_1=10;//Primary resistance (in Ohm)\n",
"R_2=0.02;//Secondary resistance (in Ohm)\n",
"X_o1=35;//Total leakage reactance referred to the primary winding(in Ohm)\n",
"R_o2=R_2 + R_1*(K^2);//Equivalent resistance reffered to the secondary(in Ohm)\n",
"X_o2=X_o1*(K^2);//Equivalent reactance reffered to the secondary(in Ohm)\n",
"O_p=40;//Rated output (in KVA)\n",
"I_2=O_p*1000/250;//Secondary current(in Amp)\n",
"P_1=0.8;//Power factor\n",
"q=acosd(P_1);\n",
"V_r1=((I_2*R_o2*cosd(q) + I_2*X_o2*sind(q))/V_2)*100;//Voltage regulation at 0.8 lagging power factor(in %)\n",
"disp(V_r1,'Voltage regulation at 0.8 lagging power factor(in %)=');\n",
"V_r0=(I_2*R_o2/V_2)*100;//Voltage regulation at unity power factor(in %)\n",
"disp(V_r0,'Voltage regulation at unity power factor(in %)=');\n",
"V_r2=((I_2*R_o2*cosd(q) - I_2*X_o2*sind(q))/V_2)*100;//Voltage regulation at 0.8 leading power factor(in %)\n",
"disp(V_r2,'Voltage regulation at 0.8 leading power factor(in %)=');"
   ]
   }
,
{
		   "cell_type": "markdown",
		   "metadata": {},
		   "source": [
			"## Example 3.23: Calculate_the_regulation_of_transformer.sce"
		   ]
		  },
  {
"cell_type": "code",
	   "execution_count": null,
	   "metadata": {
	    "collapsed": true
	   },
	   "outputs": [],
"source": [
"//Caption:Calculate the regulation of transformer\n",
"//Exam:3.23\n",
"clc;\n",
"clear;\n",
"close;\n",
"//(I_2*R_a2/E_2)*100=1\n",
"Rs_d=1;//Percentage resistive drop\n",
"//(I_2*X_a2/E_2)*100=5\n",
"Re_d=5;//Percentage reactive drop\n",
"//power factor=cosd(q1)=0.8 (lagging)\n",
"q1=acosd(0.8);\n",
"//Voltage regulation= ((I_2*R_a2*cosd(q1)+I_2*X_a2*sind(q1))/100)*100\n",
"//V_r=(I_2*R_a2/E_2)*100*cosd(q1)+(I_2*X_a2/E_2)*100*sind(q1)\n",
"V_r1=Rs_d*cosd(q1)+Re_d*sind(q1);//Voltage regulation when power factor is 0.8 lagging\n",
"disp(V_r1,'Voltage regulation when power factor is 0.8 lagging(in %)=');\n",
"q2=-acosd(0.8);\n",
"//V_r2=(I_2*R_a2/E_2)*100*cosd(q2)+(I_2*X_a2/E_2)*100*sind(q2);//Voltage regulation when power factor is 0.8 leading\n",
"V_r2=Rs_d*cosd(q2)+Re_d*sind(q2);//Voltage regulation when power factor is 0.8 leading\n",
"disp(V_r2,'Voltage regulation when power factor is 0.8 leading(in %)')"
   ]
   }
,
{
		   "cell_type": "markdown",
		   "metadata": {},
		   "source": [
			"## Example 3.25: EX3_25.sce"
		   ]
		  },
  {
"cell_type": "code",
	   "execution_count": null,
	   "metadata": {
	    "collapsed": true
	   },
	   "outputs": [],
"source": [
"//Caption:In a single phase transformer Calculate the efficiency at unity power at Full load and Half load.\n",
"//Exam:3.25\n",
"clc;\n",
"clear;\n",
"close;\n",
"P_c=400;//Full load copper loss(in Watts)\n",
"P_C=P_c/1000;//Full load copper loss(in KW)\n",
"P_i=350;//Full load iron loss(in Watts)\n",
"P_I=P_i/1000;//Full load iron loss(in KW)\n",
"P_f=1;//Power factor\n",
"KVA=25;//Rating of the transformer\n",
"O_p=KVA*P_f;//Output at full load condition(in KW)\n",
"L_1=P_C+P_I;//Losses at full load condition(in KW)\n",
"I_p=O_p+L_1;//Input at full load condition(in KW)\n",
"E_fL=(O_p/I_p)*100;//Efficiency in full load condition\n",
"disp(E_fL,'Efficiency of the tranformer at full load condition(in %)=');\n",
"//At half load condition\n",
"O_P=(1/2)*KVA*P_f;//Output of the transformer at half load condition\n",
"L_2=((1/2)^2)*P_C+P_I;//Losses at half load condition(in KW)\n",
"I_P=O_P+L_2;//Input at half load condition\n",
"E_hL=(O_P/I_P)*100;//Efficiency of the transformer at half load condition(in %)\n",
"disp(E_hL,'Efficiency of the transformer at half load condition(in %)=');"
   ]
   }
,
{
		   "cell_type": "markdown",
		   "metadata": {},
		   "source": [
			"## Example 3.26: EX3_26.sce"
		   ]
		  },
  {
"cell_type": "code",
	   "execution_count": null,
	   "metadata": {
	    "collapsed": true
	   },
	   "outputs": [],
"source": [
"//Caption:Calculate the single phase transformer efficiency for 75% of the full load output at power factor unity and 0.8 lagging.\n",
"//Exam:3.26\n",
"clc;\n",
"clear;\n",
"close;\n",
"P_i=1.5;//Core loss(in KW)\n",
"P_c=4.5;//Full load copper loss(in KW)\n",
"P_C=((3/4)^2)*P_c;//Copper loss at 75% of full load(in KW)\n",
"P_t=P_i+P_C;//Total loss at 75% of full load output(in KW)\n",
"KVA=300;//Rating of the transformer(in KVA)\n",
"P_f1=1;//power factor value when it is unity\n",
"P_f2=0.8;//power factor value when it is 0.8 lagging\n",
"O_p1=0.75*KVA*P_f1;//Output at 75% of full load and at unity power factor(in KW)\n",
"E_f1=(O_p1/(O_p1+P_t))*100;//Efficiency of the transformer for 75% of full load output at power factor unity(in %)\n",
"disp(E_f1,'Efficiency of the transformer for 75% of full load output at power factor unity(in %)=');\n",
"O_p2=0.75*KVA*P_f2;//Output at 75% of full load and at 0.8 lagging power factor(in KW)\n",
"E_f2=(O_p2/(O_p2+P_t))*100;//Efficiency of the transformer for 75% of full load output at power factor 0.8 lagging(in %)\n",
"disp(E_f2,'Efficiency of the transformer for 75% of full load output at power factor 0.8 lagging(in %)=');"
   ]
   }
,
{
		   "cell_type": "markdown",
		   "metadata": {},
		   "source": [
			"## Example 3.27: EX3_27.sce"
		   ]
		  },
  {
"cell_type": "code",
	   "execution_count": null,
	   "metadata": {
	    "collapsed": true
	   },
	   "outputs": [],
"source": [
"//Caption:In a single phase transformer Calculate (a)The efficiency at full load, unity power factor. (b)The efficiency at full load, 0.8 lagging power factor. (c)The efficiency at full load, 0.8 leading power factor.\n",
"//Exam:3.27\n",
"clc;\n",
"clear;\n",
"close;\n",
"P_f1=1;//power factor unity\n",
"P_f2=0.8;//power factor 0.8 lagging or leading\n",
"KVA=25;//Rating of the transformer(in KVA)\n",
"O_p1=KVA*P_f1;//Output at unity power factor(in KW)\n",
"P_c=400;//copper losses(in Watt)\n",
"P_C=P_c/1000;//copper losses(in KW)\n",
"P_i=320;//iron losses(in Watt)\n",
"P_I=P_i/1000;//iron losses(in KW)\n",
"P_T=P_I+P_C;//total losses(in KW)\n",
"I_p1=O_p1+P_T;//Input (in KW)\n",
"E_f1=(O_p1/I_p1)*100;//Efficiency of the transformer at full load and unity power factor(in %)\n",
"disp(E_f1,'Efficiency of the transformer at full load and unity power factor(in %)=');\n",
"O_p2=KVA*P_f2;//output at 0.8 lagging power factor(in KW)\n",
"I_p2=O_p2+P_T;//input incase of 0.8 power factor(in KW)\n",
"E_f2=(O_p2/I_p2)*100;//Efficiency of the transformer at full load and 0.8 lagging power factor(in %)\n",
"disp(E_f2,'Efficiency of the transformer at full load and 0.8 lagging power factor(in %)=');\n",
"E_f3=E_f2;//At 0.8 leading power factor. since there is no change in input and output, so efficiency is unchanged\n",
"disp(E_f3,'At 0.8 leading power factor. since there is no change in input and output, so efficiency is unchanged(in %)=');"
   ]
   }
,
{
		   "cell_type": "markdown",
		   "metadata": {},
		   "source": [
			"## Example 3.28: Calculate_the_efficiency_of_the_transformer_on_Half_load_and_Full_load.sce"
		   ]
		  },
  {
"cell_type": "code",
	   "execution_count": null,
	   "metadata": {
	    "collapsed": true
	   },
	   "outputs": [],
"source": [
"//Caption:Calculate the efficiency of the transformer on Half load and Full load.\n",
"//Exam:3.28\n",
"clc;\n",
"clear;\n",
"close;\n",
"KVA=100;//rating of the(in KVA)\n",
"P_f=0.8;//power factor\n",
"O_p=(1/2)*KVA*P_f;//Output at half load(in KW)\n",
"P_i=700;//iron loss (in Watt)\n",
"P_i1=P_i/1000;//iron loss at half and full load(in KW)\n",
"P_c=400;//copper losses (in Watt)\n",
"P_c1=((1/2)^2)*P_c/1000;//copper losses at half load condition (in KW)\n",
"P_t=P_c1+P_i1;//Total losses in half load condition(in KW)\n",
"E_f=(O_p/(O_p+P_t))*100;//Efficiency of the transformer on half load in percentage\n",
"disp(E_f,'Efficiency of the transformer on half load (in %)=');\n",
"O_P=KVA*P_f;//Output in case of full load(in KW)\n",
"P_c2=P_c/1000;//Copper losss at full load condition(in KW)\n",
"P_T=P_c2+P_i1;//Total losses in full load condition(in KW)\n",
"E_F=(O_P/(O_P+P_T))*100;//Efficiency of the transformer on full load condition in percentage\n",
"disp(E_F,'Efficiency of the transformer on full load condition (in %)=');"
   ]
   }
,
{
		   "cell_type": "markdown",
		   "metadata": {},
		   "source": [
			"## Example 3.29: EX3_29.sce"
		   ]
		  },
  {
"cell_type": "code",
	   "execution_count": null,
	   "metadata": {
	    "collapsed": true
	   },
	   "outputs": [],
"source": [
"//Caption:In a single phase transformer Calculate the efficiency at full load unity power factor and At half full load 0.8 power factor lag also determine the load for maximum efficiency\n",
"//Exam:3.29\n",
"clc;\n",
"clear;\n",
"close;\n",
"KVA=25;//Rating of the transformer(in KVA)\n",
"P_c=400;//Full load copper loss(in Watt)\n",
"P_c1=P_c/1000;//Full load copper loss(in KW)\n",
"P_i=350;//Iron loss(in Watt)\n",
"P_i1=P_i/1000;//Iron loss (in KW)\n",
"P_f=1;//Power factor unity\n",
"P_f1=0.8;//Power factor 0.8 lagging\n",
"O_p1=KVA*P_f;//Output at full load and unity power factor(in KW)\n",
"P_t1=P_c1+P_i1;//Total losses at full load and unity power factor(in KW)\n",
"I_p1=O_p1+P_t1;//Input at full load and unity power factor(in KW)\n",
"E_f1=(O_p1/I_p1)*100;//Efficiency of the transformer at full load and unity power factor(in KW)\n",
"disp(E_f1,'Efficiency of the transformer at full load and unity power factor(in KW)=');\n",
"O_p2=(1/2)*KVA*P_f1;//Output At half full load, 0.8 power factor lag.(in KW)\n",
"P_c2=((1/2)^2)*P_c1;//Copper loss At half full load, 0.8 power factor lag.(in KW)\n",
"P_t2=P_c2+P_i1;//Total loss At half full load, 0.8 power factor lag.(in KW)\n",
"I_p2=O_p2+P_t2;//Input At half full load, 0.8 power factor lag.(in KW)\n",
"E_f2=(O_p2/I_p2)*100;//Efficiency of the transformer at half full load and 0.8 lagging power factor(in KW)\n",
"disp(E_f2,'Efficiency of the transformer at half full load and 0.8 lagging power factor(in KW)=');\n",
"//Maximum efficiency occurs when Copper loss = Iron loss,let the maximum efficiency occcur at x times full load\n",
"x=(P_i/P_c)^(1/2);\n",
"L=x*KVA;//load in KVA corresponding to maximum efficiency\n",
"disp(L,'the load for maximum efficiency(in KVA)=');"
   ]
   }
,
{
		   "cell_type": "markdown",
		   "metadata": {},
		   "source": [
			"## Example 3.2: EX3_2.sce"
		   ]
		  },
  {
"cell_type": "code",
	   "execution_count": null,
	   "metadata": {
	    "collapsed": true
	   },
	   "outputs": [],
"source": [
"//Caption:In a loss less transformer calculate (a)Number of turns on high voltage side (b)The primary current (c)The secondary current\n",
"//Exam:3.2\n",
"clc;\n",
"clear;\n",
"close;\n",
"V_1=110;//primary voltage(in Volts)\n",
"V_2=220;//secondary voltage(in Volts)\n",
"N_1=130;//low voltage side turns\n",
"N_2=N_1*V_2/V_1;//high voltage side turns\n",
"disp(N_2,'Number of turns on high voltage side=');\n",
"O_p=1;//Output of the transformer in KVA\n",
"I_2=O_p*1000/V_2;//Secondary current(in Amp)\n",
"I_1=O_p*1000/V_1;//Primary current(in Amp)\n",
"disp(I_1,'Primary current(in Amp)=');\n",
"disp(I_2,'Secondary current(in Amp)=');"
   ]
   }
,
{
		   "cell_type": "markdown",
		   "metadata": {},
		   "source": [
			"## Example 3.30: EX3_30.sce"
		   ]
		  },
  {
"cell_type": "code",
	   "execution_count": null,
	   "metadata": {
	    "collapsed": true
	   },
	   "outputs": [],
"source": [
"//Caption:In a single phase transformer Calculate the efficiency of full load current (a)at unity power factor (b)at a power factor of 0.8 ,also calculate the load at which the maximum efficiency occurs and what is it's value.\n",
"//Exam:3.30\n",
"clc;\n",
"clear;\n",
"close;\n",
"KVA=50;//Rating of the transformer(in KVA)\n",
"V_1=6600;//Primary voltage(in Volt)\n",
"V_2=200;//Secondary voltage(in VOlt)\n",
"I_1=KVA*1000/6600;//Full load primary current(in Amp)\n",
"P_f1=1;//power factor at unity\n",
"P_f2=0.8;//Power factor at 0.8\n",
"O_p1=KVA*P_f1;//Output at unity power factor(in KW)\n",
"P_i=650;//Iron loss(in Watt)\n",
"P_i1=P_i/1000;//Iron loss (in KW)\n",
"P_c=885;//Copper loss(in Watt)\n",
"P_c1=P_c/1000;//Copper loss(in KW)\n",
"I_p1=O_p1+P_c1+P_i1;//Input at unity power factor(in KW)\n",
"E_f1=(O_p1/I_p1)*100;//Efficiency of the transformer at unity power factor\n",
"disp(E_f1,'Efficiency of the transformer at unity power factor(in %)=');\n",
"O_p2=KVA*P_f2;//Output at 0.8 power factor(in KW) \n",
"//Maximum efficiency occurs when Copper loss = Iron loss,let the maximum efficiency occcur at x times full load\n",
"x=(P_i1/P_c1)^(1/2);\n",
"disp(x,'the maximum efficiency occurs at the full load of=');\n",
"O_P=x*KVA*P_f2;//Output at maximum efficiency(in KW)\n",
"E_F=(O_P/(O_P+P_i1+P_c1))*100;//Maximum Efficiency of the transformer at 0.8 power factor\n",
"disp(E_F,'Maximum Efficiency of the transformer(in %)=');"
   ]
   }
,
{
		   "cell_type": "markdown",
		   "metadata": {},
		   "source": [
			"## Example 3.31: EX3_31.sce"
		   ]
		  },
  {
"cell_type": "code",
	   "execution_count": null,
	   "metadata": {
	    "collapsed": true
	   },
	   "outputs": [],
"source": [
"//Caption:In the single phase transformer,find the ratio of iron and copper loss such that maximum efficiency occurs at 75% of full load.\n",
"//Exam:3.31\n",
"clc;\n",
"clear;\n",
"close;\n",
"x=75/100;//the value of load which is 75% of full load\n",
"P_r=x^2;//Ratio of the iron loss and copper loss for maximum efficiency\n",
"disp(P_r,'Ratio of the iron and copper loss for the maximum efficiency=');"
   ]
   }
,
{
		   "cell_type": "markdown",
		   "metadata": {},
		   "source": [
			"## Example 3.32: EX3_32.sce"
		   ]
		  },
  {
"cell_type": "code",
	   "execution_count": null,
	   "metadata": {
	    "collapsed": true
	   },
	   "outputs": [],
"source": [
"//Caption:In a single phase transformer Calculate the iron losses and the full load copper losses.\n",
"//Exam:3.32\n",
"clc;\n",
"clear;\n",
"close;\n",
"KVA=400;//Rating of the transformer(in KVA)\n",
"E_f1=0.9877;//Transformer efficiency when delivering full load at 0.8 power factor\n",
"P_f1=0.8;//power factor at full load\n",
"P_f2=1;//power factor at half load\n",
"O_p1=KVA*P_f1;//Output on full load when power factor is 0.8(in KW)\n",
"I_p1=(O_p1/E_f1);//Input on full load when power factor is 0.8(in KW)\n",
"P_t1=I_p1-O_p1;//Total losses on full load when power factor is 0.8(in KW)\n",
"O_p2=(1/2)*KVA*P_f2;//Output at half load when power factor is 1\n",
"E_f2=0.9913;//Transformer efficiency when delivering half load at 1 power factor\n",
"I_p2=O_p2/E_f2;//Input at half load when power factor is 1\n",
"P_t2=I_p2-O_p2//Total losses at half load when power factor is 1\n",
"//P_t1=P_c+P_i\n",
"//P_t2=(1/4)P_c+P_i\n",
"P_c=(4/3)*(P_t1-P_t2);//Full load and copper losses\n",
"P_i=(1/3)*(4*P_t2-P_t1);//iron losses\n",
"disp(P_c,'full load and copper losses(in KW)=');\n",
"disp(P_i,'iron loss(in KW)=');"
   ]
   }
,
{
		   "cell_type": "markdown",
		   "metadata": {},
		   "source": [
			"## Example 3.33: In_a_transformer_find_all_day_efficiency.sce"
		   ]
		  },
  {
"cell_type": "code",
	   "execution_count": null,
	   "metadata": {
	    "collapsed": true
	   },
	   "outputs": [],
"source": [
"//Caption:In a transformer find all day efficiency\n",
"//Exam:3.33\n",
"clc;\n",
"clear;\n",
"close;\n",
"KVA=15;//Rating of the transformer(in KVA)\n",
"E_f=0.98;//Efficiency of the transformer\n",
"P_F=1;//for unity power factor\n",
"O_P=KVA*P_F;//Output of the transformer at unity power factor(in KW)\n",
"I_P=O_P/E_f;//Input to the transformer(in KW)\n",
"P_T=I_P-O_P;//Total losses(in KW)\n",
"//At Maximum efficiency\n",
"P_C=P_T/2;//copper loss for maximum efficiency(in KW)\n",
"P_I=P_C;//iron losss at maximum efficiency copper loss=iron loss\n",
"L_1=2;//load for 12 hours (in KW)\n",
"L_2=12;//load for 6 hours (in KW)\n",
"L_3=18;//load for next 6 hours (in KW)\n",
"P_f1=0.5;//Power factor at L_1 load\n",
"P_f2=0.8;//Power factor at L_2 load\n",
"P_f3=0.9;//Power factor at L_3 load\n",
"T_1=12;//Time when L_1 working(in hours)\n",
"T_2=6;//Time when L_2 working(in hours)\n",
"T_3=6;//Time when L_3 working(in hours)\n",
"O_p1=L_1*T_1+L_2*T_2+L_3*T_3;//All day output(in KWh)\n",
"P_i1=P_I*24;//Iron losses for 24 hours(in KWh)\n",
"P_c1=T_1*P_C*((L_1/P_f1)/KVA)^2+T_2*P_C*((L_2/P_f2)/KVA)^2+T_3*P_C*((L_3/P_f3)/KVA)^2;//Copper loss for 24 hours(in KWh)\n",
"P_t=P_c1+P_i1;//Total losses of transformer for 24 hours(in KWh)\n",
"I_p1=O_p1+P_t;//All day input(in KWh)\n",
"E_f1=(O_p1/I_p1)*100;//All day efficiency of transformer\n",
"disp(ceil(E_f1),'All day efficiency of transformer(in %)=');"
   ]
   }
,
{
		   "cell_type": "markdown",
		   "metadata": {},
		   "source": [
			"## Example 3.34: In_a_transformer_find_all_day_efficiency.sce"
		   ]
		  },
  {
"cell_type": "code",
	   "execution_count": null,
	   "metadata": {
	    "collapsed": true
	   },
	   "outputs": [],
"source": [
"//Caption:In a transformer find all day efficiency\n",
"//Exam:3.34\n",
"clc;\n",
"clear;\n",
"close;\n",
"KVA=1500;//Rating of the transformer(in KVA)\n",
"P_C=4.5;//copper loss for maximum efficiency(in KW)\n",
"P_I=3.2;//iron losss at maximum efficiency copper loss=iron loss\n",
"L_1=1200;//load for 6 hours (in KW)\n",
"L_2=900;//load for next 10 hours (in KW)\n",
"L_3=300;//load for next 4 hours (in KW)\n",
"L_4=0;//load for next 4 hours (in KW)\n",
"P_f1=0.8;//Power factor at L_1 load\n",
"P_f2=0.75;//Power factor at L_2 load\n",
"P_f3=0.8;//Power factor at L_3 load\n",
"P_f4=0;//Power factor at L_4 load\n",
"T_1=6;//Number of hours when L_1 working(in hours)\n",
"T_2=10;//Number of hours when L_2 working(in hours)\n",
"T_3=4;//Number of hours when L_3 working(in hours)\n",
"T_4=4;//Number of hours when L_4 working(in hours)\n",
"O_p1=L_1*T_1+L_2*T_2+L_3*T_3;//All day output(in KWh)\n",
"P_i1=P_I*24;//Iron losses for 24 hours(in KWh)\n",
"P_c1=T_1*P_C*((L_1/P_f1)/KVA)^2+T_2*P_C*((L_2/P_f2)/KVA)^2+T_3*P_C*((L_3/P_f3)/KVA)^2;//Copper loss for 24 hours(in KWh)\n",
"P_t=P_c1+P_i1;//Total losses of transformer for 24 hours(in KWh)\n",
"I_p1=O_p1+P_t;//All day input(in KWh)\n",
"E_f1=(O_p1/I_p1)*100;//All day efficiency of transformer\n",
"disp((E_f1),'All day efficiency of transformer(in %)=');"
   ]
   }
,
{
		   "cell_type": "markdown",
		   "metadata": {},
		   "source": [
			"## Example 3.35: In_a_transformer_find_all_day_efficiency.sce"
		   ]
		  },
  {
"cell_type": "code",
	   "execution_count": null,
	   "metadata": {
	    "collapsed": true
	   },
	   "outputs": [],
"source": [
"//Caption:In a transformer find all day efficiency\n",
"//Exam:3.35\n",
"clc;\n",
"clear;\n",
"close;\n",
"KVA=15;//Rating of the transformer(in KVA)\n",
"P_c=0.35;//Full load copper loss (in KW)\n",
"P_i=0.25;//iron losss \n",
"P_I=P_i*24;//Iron loss per day\n",
"L_1=1/4;//load for 9 hours of full load\n",
"L_2=1;//load for 7 hours of full load\n",
"L_3=3/4;//load for next 6 hours of full load\n",
"P_f1=0.6;//Power factor at L_1 load\n",
"P_f2=0.8;//Power factor at L_2 load\n",
"P_f3=1;//Power factor at L_3 load\n",
"T_1=9;//Time when L_1 working(in hours)\n",
"T_2=7;//Time when L_2 working(in hours)\n",
"T_3=6;//Time when L_3 working(in hours)\n",
"P_c1=((1/4)^2)*P_c;//Copper loss at 1/4 load\n",
"P_C1=9*P_c1;//Copper loss for 9 hours at 1/4 load\n",
"P_c2=P_c;//Copper loss at full load\n",
"P_C2=7*P_c2;//Copper loss for 7 hours at full load\n",
"P_c3=((3/4)^2)*P_c;//Copper loss at 3/4 load\n",
"P_C3=6*P_c3;//Copper loss for 6 hours at 3/4 load\n",
"P_C=P_C1+P_C2+P_C3;//Copper loss per day(in KW)\n",
"P_T=P_C+P_I;//Iron loss per day(in KW)\n",
"O_P=L_1*KVA*P_f1*T_1+L_2*KVA*P_f2*T_2+L_3*KVA*P_f3*T_3;//Total output per day(in KWh)\n",
"I_P=O_P+P_T;//Total input(in KWh)\n",
"E_F=(O_P/I_P)*100;//All day efficiency(in %)\n",
"disp(E_F,'All day efficiency(in %)=');"
   ]
   }
,
{
		   "cell_type": "markdown",
		   "metadata": {},
		   "source": [
			"## Example 3.36: EX3_36.sce"
		   ]
		  },
  {
"cell_type": "code",
	   "execution_count": null,
	   "metadata": {
	    "collapsed": true
	   },
	   "outputs": [],
"source": [
"//Caption:Calculate the economy of copper in auto transformer and current distribution in primary\n",
"//Exam:3.36\n",
"clc;\n",
"clear;\n",
"close;\n",
"V_1=500;//Primary voltage\n",
"V_2=400;//Secondary voltage\n",
"I_2=100;//Secondary voltage\n",
"I_1=V_2*I_2/V_1;//Primary current\n",
"disp(I_1,'Current in primary winding(in Amp)=')\n",
"K=V_2/V_1;//Transformer ratio\n",
"S=K*100;//Saving (in %)\n",
"disp(S,'Economy of copper(in %)=')"
   ]
   }
,
{
		   "cell_type": "markdown",
		   "metadata": {},
		   "source": [
			"## Example 3.37: EX3_37.sce"
		   ]
		  },
  {
"cell_type": "code",
	   "execution_count": null,
	   "metadata": {
	    "collapsed": true
	   },
	   "outputs": [],
"source": [
"//Caption:In a auto transformer determine Transformation ratio secondary current primary current and number of turns across secondary if total number of turns is 250.\n",
"//Exam:3.37\n",
"clc;\n",
"clear;\n",
"close;\n",
"V_1=250;//Primary voltage(in Voltage)\n",
"V_2=125;//Secondary voltage(in Voltage)\n",
"K=V_2/V_1;//Transformation ratio\n",
"N_1=250;//Primary turns\n",
"disp(K,'Transformation ratio=')\n",
"P_f=1;//Unity power factor\n",
"L=5;//Value of load(in KW)\n",
"I_2=L*1000/(V_2*P_f);//Secondary current(in Amp)\n",
"disp(I_2,'Secondary current(in Amp)=');\n",
"I_1=K*I_2;//Primary current(in Amp)\n",
"disp(I_1,'Primary current(in Amp)=');\n",
"N_2=K*N_1;//Secondary turns\n",
"disp(N_2,'number of turns across secondary winding=');"
   ]
   }
,
{
		   "cell_type": "markdown",
		   "metadata": {},
		   "source": [
			"## Example 3.38: EX3_38.sce"
		   ]
		  },
  {
"cell_type": "code",
	   "execution_count": null,
	   "metadata": {
	    "collapsed": true
	   },
	   "outputs": [],
"source": [
"//Caption:In an auto transformer determine current in different section and KVA output and power transferred inductively and power transferred conductively from input to output and saving in copper\n",
"//Exam:3.38\n",
"clc;\n",
"clear;\n",
"close;\n",
"KVA=10;\n",
"V_1=2400;//Voltage in first winding\n",
"V_2=240;//Voltage in second winding\n",
"I_1=KVA*1000/V_1;//Current rating of 2400 Volts winding\n",
"I_2=KVA*1000/V_2;//Current rating of 240 Volts winding\n",
"I_l=I_1+I_2;//Total load current\n",
"disp(I_1,'Current rating of 2400 Volts winding(in Amp)=');\n",
"disp(I_2,'Current rating of 240 Volts winding(in Amp)=');\n",
"disp(I_l,'Total load current(in Amp)=');\n",
"KVA_r=V_1*I_l/1000;//KVA output rating\n",
"disp(KVA_r,'KVA output rating(in KVA)=');\n",
"P_i=V_1*I_1;//power transferred inductively\n",
"P_c=V_1*I_2;//power transferred conductively\n",
"disp(P_i,'power transferred inductively(in VA)=');\n",
"disp(P_c,'power transferred conductively(in VA)=');\n",
"N_1=2640;//Number Primary winding in case of two winding transformer\n",
"N_2=2400;//Number Secondary winding in case of two winding transformer\n",
"K=N_1/N_2;//Transformer ratio\n",
"Saving=(1/K)*100;//Saving in copper\n",
"disp(Saving,'Saving in copper(in %)=');"
   ]
   }
,
{
		   "cell_type": "markdown",
		   "metadata": {},
		   "source": [
			"## Example 3.39: EX3_39.sce"
		   ]
		  },
  {
"cell_type": "code",
	   "execution_count": null,
	   "metadata": {
	    "collapsed": true
	   },
	   "outputs": [],
"source": [
"//Caption:In a transformer calculate Power output and power transformed and power conducted\n",
"//Exam:3.39\n",
"clc;\n",
"clear;\n",
"close;\n",
"KVA=25;\n",
"V_s=2200;//Source voltage\n",
"V_1=2200;//Voltage in first winding\n",
"V_2=220;//Voltage in second winding\n",
"I_1=KVA*1000/V_1;//Current rating of 2200 V winding\n",
"I_2=KVA*1000/V_2;//Current rating of 220 V winding\n",
"V_o=V_1+V_2;//Output voltage\n",
"I_l=I_1+I_2;//Input line current\n",
"I_o=I_2;//Output current of auto transformer\n",
"KVA_r=V_o*I_2/1000;//KVA rating\n",
"P_f1=0.8;//\n",
"P_o=KVA*P_f1;//Power output at full load and 0.8 power factor\n",
"KVA_t=V_1*I_1/1000;//KVA transformed \n",
"disp(KVA_t,'KVA transformed(in KVA)=');\n",
"P_t=KVA_t*P_f1;//Power transformed(in KW)\n",
"disp(P_t,'Power transformed(in KW)=');\n",
"KVA_c=V_s*I_o/1000;//KVA conducted(in KVA)\n",
"P_c=KVA_c*P_f1;//Power conducted(in KW)\n",
"disp(P_c,'Power conducted(in KW)=');\n",
"//E_f=Output/(Output+Losses)\n",
"//Losses=((1/E_f)-1)*Output\n",
"E_f=0.9;//Efficiency of the two winding transformer\n",
"P_f2=0.85;//New power factor of the two einding transformer\n",
"O_p1=KVA_t*1000*P_f2;//Output of the two winding transformer\n",
"L=((1/E_f)-1)*O_p1;//losses in a 2-winding transformer\n",
"//Losses in auto transformer=losses in 2-winding transformer\n",
"O_P=KVA_r*1000*P_f2;//output of the auto transformer\n",
"E_F=(O_P/(O_P+L))*100;//Efficiency of the auto transformer(in %)\n",
"disp(E_F,'Efficiency of the auto transformer(in %)=');"
   ]
   }
,
{
		   "cell_type": "markdown",
		   "metadata": {},
		   "source": [
			"## Example 3.3: Calculate_the_secondary_voltage_and_the_volts_per_turn.sce"
		   ]
		  },
  {
"cell_type": "code",
	   "execution_count": null,
	   "metadata": {
	    "collapsed": true
	   },
	   "outputs": [],
"source": [
"//Caption:Calculate the secondary voltage and the volts per turn\n",
"//Exam:3.3\n",
"clc;\n",
"clear;\n",
"close;\n",
"N_1=800;//Primary turns in a transformer\n",
"N_2=200;//Secondary turns in a transformer\n",
"V_1=100;//Primary voltage\n",
"V_2=V_1*(N_2/N_1);//Secondary voltage\n",
"disp(V_2,'Secondary voltage (in Volts)=');\n",
"V_n=V_1/N_1;//Volts per turn\n",
"disp(V_n,'Volts per turn=');"
   ]
   }
,
{
		   "cell_type": "markdown",
		   "metadata": {},
		   "source": [
			"## Example 3.4: Calculate_the_primary_current_in_a_single_phase_transformer.sce"
		   ]
		  },
  {
"cell_type": "code",
	   "execution_count": null,
	   "metadata": {
	    "collapsed": true
	   },
	   "outputs": [],
"source": [
"//Caption:Calculate the primary current in a single phase transformer\n",
"//Exam:3.4\n",
"clc;\n",
"clear;\n",
"close;\n",
"V_1=230;//Primary voltage(in Volts)\n",
"V_2=460;//Secondary voltage(in Volts)\n",
"I_2=10;//secondary current(in Amp)\n",
"I_1=I_2*(V_2/V_1);//Primary current(in Amp)\n",
"disp(I_1,'Primary current (in Amp)=');"
   ]
   }
,
{
		   "cell_type": "markdown",
		   "metadata": {},
		   "source": [
			"## Example 3.5: EX3_5.sce"
		   ]
		  },
  {
"cell_type": "code",
	   "execution_count": null,
	   "metadata": {
	    "collapsed": true
	   },
	   "outputs": [],
"source": [
"//Caption:Calculate (a)the approximate values of the primary and secondary currents (b)the approimate number of primary turns\n",
"//Exam:3.5\n",
"clc;\n",
"clear;\n",
"close;\n",
"V_1=6600;//Primary voltage(in Volts)\n",
"V_2=400;//Secondary voltage(in Volts)\n",
"N_2=100;//secondary turns\n",
"O_p=200;//output of a transformer in KVA\n",
"I_1=O_p*1000/V_1;//Full load primary current(in Amp)\n",
"disp(I_1,'Full load primary current(in Amp)=');\n",
"I_2=O_p*1000/V_2;//Full load secondary current(in Amp)\n",
"disp(I_2,'Full load secondary current(in Amp)=');\n",
"N_1=N_2*(V_1/V_2);//Number of primary turns\n",
"disp(N_1,'Number of primary turns=');"
   ]
   }
,
{
		   "cell_type": "markdown",
		   "metadata": {},
		   "source": [
			"## Example 3.6: Find_voltage_in_secondary_terminal.sce"
		   ]
		  },
  {
"cell_type": "code",
	   "execution_count": null,
	   "metadata": {
	    "collapsed": true
	   },
	   "outputs": [],
"source": [
"//Caption:Find voltage in secondary terminal\n",
"//Exam:3.6\n",
"clc;\n",
"clear;\n",
"close;\n",
"V_1=100;//Primary voltage(in Volts)\n",
"N_1=20;//Number of primary turns\n",
"N_2=40;//Number of secondary turns\n",
"V_2=(N_2/N_1)*V_1;//voltage of the secondary terminal(in Volts)\n",
"disp(V_2,'voltage of the secondary terminal(in Volts)=');"
   ]
   }
,
{
		   "cell_type": "markdown",
		   "metadata": {},
		   "source": [
			"## Example 3.7: Calculate_the_rms_value_of_the_induced_emf_in_the_secondary_coil.sce"
		   ]
		  },
  {
"cell_type": "code",
	   "execution_count": null,
	   "metadata": {
	    "collapsed": true
	   },
	   "outputs": [],
"source": [
"//Caption:Calculate the r.m.s value of the induced emf in the secondary coil.\n",
"//Exam:3.7\n",
"clc;\n",
"clear;\n",
"close;\n",
"F_x=0.02;//Maximum value of flux(in Wb)\n",
"N_2=55;//Number of secondary turns\n",
"F=50;//Supply frequency(in Hz)\n",
"E_2=4.44*F*F_x*N_2;//r.m.s value of induced emf in the secondary (in Volts)\n",
"disp(E_2,'r.m.s value of induced emf in the secondary (in Volts)=');"
   ]
   }
,
{
		   "cell_type": "markdown",
		   "metadata": {},
		   "source": [
			"## Example 3.8: EX3_8.sce"
		   ]
		  },
  {
"cell_type": "code",
	   "execution_count": null,
	   "metadata": {
	    "collapsed": true
	   },
	   "outputs": [],
"source": [
"//Caption:In single phase transformer Calculate (a)The maximum flux density in the core and (b)induced emf in the secondary\n",
"//Exam:3.8\n",
"clc;\n",
"clear;\n",
"close;\n",
"N_1=80;//Primary turns\n",
"N_2=240;//secondary turns\n",
"f=50;//Supply frequency(in Hz)\n",
"E_1=240;//Supply voltage(in Volts)\n",
"F_max=E_1/(4.44*f*N_1);//Maximum value of the flux in the core\n",
"a=200;//Cross sectional area of core(in cm^2)\n",
"A=a*10^-4;//Cross sectional area of core(in m^2)\n",
"B_max=F_max/A;//Peak value of flux density in the core(in T)\n",
"disp(B_max,'Peak value of flux density in the core(in T)=');\n",
"E_2=E_1*(N_2/N_1);//Induced emf in the secondary winding(in Volts)\n",
"disp(E_2,'Induced emf in the secondary winding(in Volts)=');"
   ]
   }
,
{
		   "cell_type": "markdown",
		   "metadata": {},
		   "source": [
			"## Example 3.9: EX3_9.sce"
		   ]
		  },
  {
"cell_type": "code",
	   "execution_count": null,
	   "metadata": {
	    "collapsed": true
	   },
	   "outputs": [],
"source": [
"//Caption:Calculate (a)Primary and secondary currents on full load (b)the maximum value of flux (c)the number of primary turns.\n",
"//Exam:3.9\n",
"clc;\n",
"clear;\n",
"close;\n",
"O_p=200;//Rated output (in KVA)\n",
"V_1=3300;//Primary voltage (in Volts)\n",
"V_2=240;//Secondary voltage (in Volts)\n",
"N_2=100;//Secondary turns\n",
"f=50;//supply frequency(in Hz)\n",
"I_1=O_p*1000/V_1;//Primary current(in Amp)\n",
"disp(I_1,'Primary current on full load (in Amp)=');\n",
"I_2=O_p*1000/V_2;//secondary current(in Amp)\n",
"disp(I_2,'secondary current on full load (in Amp)=');\n",
"F_x=V_2/(4.44*f*N_2);//Maximum value of flux(in Wb)\n",
"disp(F_x,'Maximum value of flux(in Wb)=');\n",
"N_1=N_2*(V_1/V_2);//Primary turns\n",
"disp(N_1,'Primary turns=');"
   ]
   }
],
"metadata": {
		  "kernelspec": {
		   "display_name": "Scilab",
		   "language": "scilab",
		   "name": "scilab"
		  },
		  "language_info": {
		   "file_extension": ".sce",
		   "help_links": [
			{
			 "text": "MetaKernel Magics",
			 "url": "https://github.com/calysto/metakernel/blob/master/metakernel/magics/README.md"
			}
		   ],
		   "mimetype": "text/x-octave",
		   "name": "scilab",
		   "version": "0.7.1"
		  }
		 },
		 "nbformat": 4,
		 "nbformat_minor": 0
}
