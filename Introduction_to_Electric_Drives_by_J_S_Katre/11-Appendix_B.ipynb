{
"cells": [
 {
		   "cell_type": "markdown",
	   "metadata": {},
	   "source": [
       "# Chapter 11: Appendix B"
	   ]
	},
{
		   "cell_type": "markdown",
		   "metadata": {},
		   "source": [
			"## Example 2.b: power_absorbed.sce"
		   ]
		  },
  {
"cell_type": "code",
	   "execution_count": null,
	   "metadata": {
	    "collapsed": true
	   },
	   "outputs": [],
"source": [
"// Example 2(b): power absorbed\n",
"clc;\n",
"clear;\n",
"close;\n",
"vsrms=230;//volts\n",
"vm=(sqrt(2)*vsrms)/2;//volts\n",
"alpha=[45:90];//degree\n",
"x=[(45*(%pi/180));(90*(%pi/180))]\n",
"for i=1:2\n",
"    vldc(i)=(vm/%pi)*(1+cosd(alpha(i)));//\n",
"    vlms(i)=vm*((1/%pi)*(%pi-x(i)+(sin(2*x(i)))/2))^(1/2);//\n",
"    r1=100;//ohm\n",
"end\n",
"r1=100;//OHM\n",
"pl1=((vlms(1))^2)/r1//W\n",
"pl2=((vlms(2))^2)/r1;//W\n",
"disp(pl1,'power aborbed is,(W)=')\n",
"disp(pl2,'power aborbed is,(W)=')"
   ]
   }
,
{
		   "cell_type": "markdown",
		   "metadata": {},
		   "source": [
			"## Example 5.b: speed_slip_and_torque.sce"
		   ]
		  },
  {
"cell_type": "code",
	   "execution_count": null,
	   "metadata": {
	    "collapsed": true
	   },
	   "outputs": [],
"source": [
"// Example 5(b): power absorbed\n",
"clc;\n",
"clear;\n",
"close;\n",
"v=400;//V\n",
"po=15;//kW\n",
"nfx=1440;//rpm\n",
"f=50;//Hz\n",
"z2=0.4+%i*1.6;//ohm\n",
"p=4;//\n",
"x=120;//Hz\n",
"ns=((x*f)/p);//rpm\n",
"s=((ns-nfx)/ns);//slip\n",
"ns1=(x*x)/p;//rpm\n",
"nfl1=(1-s)*ns1;//rpm\n",
"disp(nfl1,'full load speed is ,(rpm)=')\n",
"sm=real(z2)/imag(z2);//slip\n",
"disp(sm,'slip is,=')\n",
"tfy=((po*10^3)/(2*%pi*(nfl1/60)));//N-m\n",
"a=sm;//\n",
"tm=((a^2+s^2)/(2*a*s))*tfy;//N-m\n",
"disp(tm,'maximum torque is,(N-m)=')"
   ]
   }
],
"metadata": {
		  "kernelspec": {
		   "display_name": "Scilab",
		   "language": "scilab",
		   "name": "scilab"
		  },
		  "language_info": {
		   "file_extension": ".sce",
		   "help_links": [
			{
			 "text": "MetaKernel Magics",
			 "url": "https://github.com/calysto/metakernel/blob/master/metakernel/magics/README.md"
			}
		   ],
		   "mimetype": "text/x-octave",
		   "name": "scilab",
		   "version": "0.7.1"
		  }
		 },
		 "nbformat": 4,
		 "nbformat_minor": 0
}
