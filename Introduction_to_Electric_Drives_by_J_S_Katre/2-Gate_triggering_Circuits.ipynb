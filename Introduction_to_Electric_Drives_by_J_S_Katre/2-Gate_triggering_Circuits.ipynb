{
"cells": [
 {
		   "cell_type": "markdown",
	   "metadata": {},
	   "source": [
       "# Chapter 2: Gate triggering Circuits"
	   ]
	},
{
		   "cell_type": "markdown",
		   "metadata": {},
		   "source": [
			"## Example 2.6_1: design_the_triggering_circuit.sce"
		   ]
		  },
  {
"cell_type": "code",
	   "execution_count": null,
	   "metadata": {
	    "collapsed": true
	   },
	   "outputs": [],
"source": [
"//Example 2.6.1;//design\n",
"clc;\n",
"clear;\n",
"close;\n",
"//given data :\n",
"format('v',7)\n",
"c1=0.1;//in micro farads\n",
"vbb=30;//in volts\n",
"n=0.51;//\n",
"ip=10;//in micro amperes\n",
"vv=3.5;//in volts\n",
"iv=10;//in mA\n",
"f=50;//in Hz\n",
"w=50;//eifth in micro seconds\n",
"vd=0.7;//in volts\n",
"vp=n*vbb+vd;//in volts\n",
"vc=vp;//in volts\n",
"x=log(vv/(vp-vd));//\n",
"r1=-(w*10^-6/(c1*10^-6*x));//\n",
"T=(1/(f))*10^3;//in ms\n",
"t1=T-(w*10^-3);// in ms\n",
"r=((t1*10^-3)/(c1*10^-6*log(1/(1-n))));//\n",
"r2=(10^4/(n*vbb));//in ohms\n",
"disp(round(r1),'resistance R1 in ohm is')\n",
"disp(r*10^-3,'resistance R in kilo ohm is')\n",
"disp(r2,'resistance R2 in ohm is')"
   ]
   }
,
{
		   "cell_type": "markdown",
		   "metadata": {},
		   "source": [
			"## Example 2.7_10: desig.sce"
		   ]
		  },
  {
"cell_type": "code",
	   "execution_count": null,
	   "metadata": {
	    "collapsed": true
	   },
	   "outputs": [],
"source": [
"//Example 2.7.10;//design\n",
"clc;\n",
"clear;\n",
"close;\n",
"//given data :\n",
"format('v',6)\n",
"vs=20;//in volts\n",
"c1=0.1;//in micro farads\n",
"vv=2.5;//in volts\n",
"n=0.66;//\n",
"ip=10;//in micro amperes\n",
"iv=10;//in mA\n",
"f=1;//in KHz\n",
"tg=40;//in micro seconds\n",
"vd=0.8;//in volts\n",
"vp=(n*vs+vd);//in volts\n",
"r1=((tg*10^-6/(c1*10^-6)));// in ohms\n",
"r=((1)/(f*10^3*c1*10^-6*log(1/(1-n))))*10^-3;//in killo ohms\n",
"rmin=(vs-vv)/iv;//minimum resistance in killo ohms\n",
"rmax=(vs-vp)/ip;//maxium resistance in killo ohms\n",
"r2=10^4/(n*vs);//in ohms\n",
"disp(vp,'Vp in volts is')\n",
"disp(r1,'R1 in ohm is')\n",
"disp(r,'R in kilo ohm is')\n",
"disp(rmin,'minimum resistance in kilo ohm is')\n",
"disp(rmax*10^3,'maximum resistance in kilo ohm is')\n",
"disp(round(r2),'R2 in ohm is')"
   ]
   }
,
{
		   "cell_type": "markdown",
		   "metadata": {},
		   "source": [
			"## Example 2.7_11: trigger_angle.sce"
		   ]
		  },
  {
"cell_type": "code",
	   "execution_count": null,
	   "metadata": {
	    "collapsed": true
	   },
	   "outputs": [],
"source": [
"//Example 2.7.11;//trigger angle\n",
"clc;\n",
"clear;\n",
"close;\n",
"//given data :\n",
"format('v',5)\n",
"vm=120*sqrt(2);//in volts\n",
"vrb=0.7;//in volts\n",
"rb=500;//in ohms\n",
"rl=1000;//in ohms\n",
"rmin=1000;//in ohms\n",
"r=4000;//in ohms\n",
"alpha=asind((0.7*(rl+rmin+r+rb))/(rb*vm));//in degree\n",
"disp(alpha,'triggering angle in degree is')"
   ]
   }
,
{
		   "cell_type": "markdown",
		   "metadata": {},
		   "source": [
			"## Example 2.7_12: pulse_width.sce"
		   ]
		  },
  {
"cell_type": "code",
	   "execution_count": null,
	   "metadata": {
	    "collapsed": true
	   },
	   "outputs": [],
"source": [
"//Example 2.7.12;//pulse width\n",
"clc;\n",
"clear;\n",
"close;\n",
"//given data :\n",
"format('v',5)\n",
"v=200;//in volts\n",
"il=100;//latch current in mA\n",
"l=0.2;//inductance in henry\n",
"dit=v/l;//in amp/sec\n",
"dt=(il*10^-3)/dit;//in seconds\n",
"disp('part (a)')\n",
"disp(dt*10^6,'minimum pulse width required to turn on the SCR is in micro seconds')\n",
"r=20;//in ohms\n",
"x=(il*10^-3*r)/v;//\n",
"t=(log(1-x))*(-l/r);//\n",
"disp('part (b)')\n",
"disp(round(t*10^6),'minimum pulse width in micro seconds is')\n",
"//part b answer is calculated wrong in the textbook"
   ]
   }
,
{
		   "cell_type": "markdown",
		   "metadata": {},
		   "source": [
			"## Example 2.7_13: design_the_triggering_circuit.sce"
		   ]
		  },
  {
"cell_type": "code",
	   "execution_count": null,
	   "metadata": {
	    "collapsed": true
	   },
	   "outputs": [],
"source": [
"//Example 2.7.13;//design\n",
"clc;\n",
"clear;\n",
"close;\n",
"format('v',6)\n",
"vs=30;//in volts\n",
"n=0.51;//\n",
"vd=0.7;//in volts\n",
"vp=(n*vs+vd);//in volts\n",
"c=0.1;//in micro farads\n",
"vv=3.5;//in volts\n",
"x=log(vv/(vp-vd));//\n",
"t2=50;//in micro seconds\n",
"r3=-((t2*10^-6)/(x*c*10^-6));//in ohms\n",
"f=50;//in Hz\n",
"t=(1/f)*10^3;//in ms\n",
"t1=(t-(t2*10^-6));//inms\n",
"x1=log(1-((vp-vv)/(vs)));//\n",
"y1=(-t1*10^-3)/(c*10^-6);//\n",
"r1=y1/x1;//in ohms\n",
"r2=(10^4)/(n*vs);//in ohms\n",
"disp(r1*10^-3,'R1 in ohm is')\n",
"disp(r2,'R2 in ohm is')\n",
"disp(round(r3),'R3 in ohm is')\n",
"disp(c,'capaictance in micro Farad is')\n",
"//R3 is wrong in the textbook"
   ]
   }
,
{
		   "cell_type": "markdown",
		   "metadata": {},
		   "source": [
			"## Example 2.7_1: load_current.sce"
		   ]
		  },
  {
"cell_type": "code",
	   "execution_count": null,
	   "metadata": {
	    "collapsed": true
	   },
	   "outputs": [],
"source": [
"//Example 2.7.1;//current\n",
"clc;\n",
"clear;\n",
"close;\n",
"//given data :\n",
"format('v',3)\n",
"v=100;//in volts\n",
"r=20;//in ohms\n",
"t=50;//in micro seconds\n",
"l=0.5;//in henry\n",
"il=(v/r)*(1-exp(-t*10^-6*(r/l)));//\n",
"disp('load current in (mA) '+string(il*10^3)+'')"
   ]
   }
,
{
		   "cell_type": "markdown",
		   "metadata": {},
		   "source": [
			"## Example 2.7_2: minimum_width_of_gate_pulse.sce"
		   ]
		  },
  {
"cell_type": "code",
	   "execution_count": null,
	   "metadata": {
	    "collapsed": true
	   },
	   "outputs": [],
"source": [
"//Example 2.7.2;//MINIMUM WIDTH\n",
"clc;\n",
"clear;\n",
"close;\n",
"//given data :\n",
"format('v',7)\n",
"v=100;//in volts\n",
"r=20;//in ohms\n",
"l=0.5;//in henry\n",
"il=50;//in mA\n",
"t1=log(1-((il*10^-3)/(v/r)))/(-(r/l));//\n",
"disp(t1*10^6,'minimum pulse width in micro seconds is')"
   ]
   }
,
{
		   "cell_type": "markdown",
		   "metadata": {},
		   "source": [
			"## Example 2.7_3: minimum_width_of_gate_pulse.sce"
		   ]
		  },
  {
"cell_type": "code",
	   "execution_count": null,
	   "metadata": {
	    "collapsed": true
	   },
	   "outputs": [],
"source": [
"//Example 2.7.3;//MINIMUM WIDTH\n",
"clc;\n",
"clear;\n",
"close;\n",
"//given data :\n",
"format('v',7)\n",
"v=207;//in volts\n",
"r=10;//in ohms\n",
"l=1;//in henry\n",
"il=100;//in mA\n",
"t1=log(1-((il*10^-3)/(v/r)))/(-(r/l));//\n",
"disp(t1*10^6,'minimum pulse width in micro seconds is')"
   ]
   }
,
{
		   "cell_type": "markdown",
		   "metadata": {},
		   "source": [
			"## Example 2.7_4: resistance_and_duty_cycle.sce"
		   ]
		  },
  {
"cell_type": "code",
	   "execution_count": null,
	   "metadata": {
	    "collapsed": true
	   },
	   "outputs": [],
"source": [
"//Example 2.7.4;//resistance and duty cycle\n",
"clc;\n",
"clear;\n",
"close;\n",
"//given data :\n",
"format('v',7)\n",
"vr=15;//in volts\n",
"t=20;//in micro seconds\n",
"pd=0.3;//power dissipation in watts\n",
"Ig=poly(0,'Ig');\n",
"p=-5+Ig+10*Ig^2;//\n",
"x=roots(p);//\n",
"rg=(vr-(1+10*x(2,1)))/(x(2,1));//resistance in ohms\n",
"disp('part (a)')\n",
"disp(rg,'resistance Rg in ohm is')\n",
"pgm=5;//peak power in watts\n",
"d=(pd/pgm)*100;//duty cycle \n",
"disp('part (b)')\n",
"disp(d,'duty cycle in percentage is')\n",
"tt=(t)/(d/100);//in micro seconds\n",
"f=(1/(tt*10^-3));//triggering frequency in kHz\n",
"disp('part (c)')\n",
"disp(f,'triggering frequency in kHz is')"
   ]
   }
,
{
		   "cell_type": "markdown",
		   "metadata": {},
		   "source": [
			"## Example 2.7_5: gate_source_resistance.sce"
		   ]
		  },
  {
"cell_type": "code",
	   "execution_count": null,
	   "metadata": {
	    "collapsed": true
	   },
	   "outputs": [],
"source": [
"//Example 2.7.5;//resistance\n",
"clc;\n",
"clear;\n",
"close;\n",
"//given data :\n",
"format('v',4)\n",
"vg=15;//in volys\n",
"vgk=0.7;//in volts\n",
"pg=0.5;// in watts\n",
"ig=pg/vgk;//in amperes\n",
"rg=(vg-vgk)/ig;//in ohms\n",
"disp(rg,'gate source resistance in ohm ')"
   ]
   }
,
{
		   "cell_type": "markdown",
		   "metadata": {},
		   "source": [
			"## Example 2.7_6: resistance_and_frequency.sce"
		   ]
		  },
  {
"cell_type": "code",
	   "execution_count": null,
	   "metadata": {
	    "collapsed": true
	   },
	   "outputs": [],
"source": [
"//Example 2.7.6;//resistance ,frequency\n",
"clc;\n",
"clear;\n",
"close;\n",
"//given data :\n",
"format('v',6)\n",
"li=3.7;//leakage current in mA\n",
"c1=0.1;//in micro farads\n",
"vp=16;//in volts\n",
"vv=1;//in volts\n",
"n=0.7;//\n",
"ip=0.7;//in milli amperes\n",
"iv=6;//in mA\n",
"f=1000;//in Hz\n",
"rb1=5.5;//in killo ohms\n",
"t=(1/f)*10^3;//in ms\n",
"tg=50;//in micro seconds\n",
"r2=((tg*10^-6/(c1*10^-6)));// in ohms\n",
"r1=500 ;//in ohms assume\n",
"vs=(r1+(rb1*10^3)+r2)*(li*10^-3);//in volts\n",
"r=((t*10^-3)/(c1*10^-6*log(1/(1-n))))*10^-3;//in killo ohms\n",
"rmin=(vs-vv)/iv;//minimum resistance in killo ohms\n",
"rmax=(vs-vp)/ip;//maxium resistance in killo ohms\n",
"fmin=(1/(rmax*10^3*c1*10^-6*log(1/(1-n))));//minimum frequency in Hz\n",
"fmax=(1/(rmin*10^3*c1*10^-6*log(1/(1-n))))*10^-3;//minimum frequency in Hz\n",
"disp(vs,'Voltage is ,(V)=')\n",
"disp(r,'charging resistance in kilo ohm is')\n",
"disp(rmin,'minimum resistance in kilo ohm is')\n",
"disp(rmax,'maximum resistance in kilo ohm is')\n",
"disp(fmin,'minimum frequency is Hz is')\n",
"disp(fmax,'maximum frequency in kHz is')\n",
"//mimimum frequency is calculated wrong in the textbook\n",
""
   ]
   }
,
{
		   "cell_type": "markdown",
		   "metadata": {},
		   "source": [
			"## Example 2.7_7: resistance.sce"
		   ]
		  },
  {
"cell_type": "code",
	   "execution_count": null,
	   "metadata": {
	    "collapsed": true
	   },
	   "outputs": [],
"source": [
"//Example 2.7.7;//resistance\n",
"clc;\n",
"clear;\n",
"close;\n",
"//given data :\n",
"format('v',4)\n",
"il=50;//in mA\n",
"pw=50;//pulse width in micro seconds\n",
"i=10;//in mA\n",
"v=100;//in volts\n",
"if1=50;//in mA\n",
"rmax=(v/(if1-i));//maximum resistance in killo ohms\n",
"disp(rmax,'maximum resistance in kilo ohm is')"
   ]
   }
,
{
		   "cell_type": "markdown",
		   "metadata": {},
		   "source": [
			"## Example 2.7_8: resistance_and_gate_power_dissipation_and_frequency.sce"
		   ]
		  },
  {
"cell_type": "code",
	   "execution_count": null,
	   "metadata": {
	    "collapsed": true
	   },
	   "outputs": [],
"source": [
"//Example 2.7.8;//resistance and gate power dissipation and frequency\n",
"clc;\n",
"clear;\n",
"close;\n",
"//given data :\n",
"format('v',7)\n",
"g=16;//in volts/ampere\n",
"vr=15;//in volts\n",
"t=4;//in micro seconds\n",
"ig=500;//in mA\n",
"rg=(vr/(ig*10^-3))-g;//resistance in ohms\n",
"disp('part (a)')\n",
"disp(rg,'resistance in series with SCR gate in ohm is')\n",
"ig=500;//in mA\n",
"rg=(vr/(ig*10^-3))-g;//resistance in ohms\n",
"pg=(ig*10^-3)^2*(g);//\n",
"disp('part (b)')\n",
"disp(pg,'gate power dissipation in Watt is')\n",
"ogv=0.3;//in watts\n",
"d=(ogv/pg)*100;//\n",
"t1=(t)/(d/100);//in micro seconds\n",
"f1=(1/(t1*10^-3));//frequency in kHz \n",
"disp('part (c)')\n",
"disp(f1,'triggering frequency in kHz is')"
   ]
   }
,
{
		   "cell_type": "markdown",
		   "metadata": {},
		   "source": [
			"## Example 2.7_9: series_resistance.sce"
		   ]
		  },
  {
"cell_type": "code",
	   "execution_count": null,
	   "metadata": {
	    "collapsed": true
	   },
	   "outputs": [],
"source": [
"//Example 2.7.9;//series resistance and power dissipation\n",
"clc;\n",
"clear;\n",
"close;\n",
"//given data :\n",
"format('v',7)\n",
"vr=12;//in volts\n",
"t=50;//in micro seconds\n",
"d=0.2;//duty cycle\n",
"pd=5;//power dissipation in watts\n",
"Ig=poly(0,'Ig');\n",
"p=-5+1.5*Ig+8*Ig^2;//\n",
"x=roots(p);//\n",
"rg=(vr-(1.5+8*x(2,1)))/(x(2,1));//resistance in ohms\n",
"pg=d*pd;//average power loss in watts\n",
"disp(round(rg),'resistance Rg in ohm is')\n",
"disp(pg,'average power loss in Watt is')"
   ]
   }
],
"metadata": {
		  "kernelspec": {
		   "display_name": "Scilab",
		   "language": "scilab",
		   "name": "scilab"
		  },
		  "language_info": {
		   "file_extension": ".sce",
		   "help_links": [
			{
			 "text": "MetaKernel Magics",
			 "url": "https://github.com/calysto/metakernel/blob/master/metakernel/magics/README.md"
			}
		   ],
		   "mimetype": "text/x-octave",
		   "name": "scilab",
		   "version": "0.7.1"
		  }
		 },
		 "nbformat": 4,
		 "nbformat_minor": 0
}
