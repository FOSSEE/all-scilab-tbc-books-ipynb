{
"cells": [
 {
		   "cell_type": "markdown",
	   "metadata": {},
	   "source": [
       "# Chapter 10: Control of AC drivers"
	   ]
	},
{
		   "cell_type": "markdown",
		   "metadata": {},
		   "source": [
			"## Example 10.15_1: slip_the_air_gap_power_and_efficiency.sce"
		   ]
		  },
  {
"cell_type": "code",
	   "execution_count": null,
	   "metadata": {
	    "collapsed": true
	   },
	   "outputs": [],
"source": [
"//Example 10.15.1: slip,the air gap power and  efficiency\n",
"clc;\n",
"clear;\n",
"close;\n",
"format('v',6)\n",
"//given data :\n",
"w=100;// in rad/sec\n",
"F1=50;//in Hz\n",
"P=4;\n",
"Ns=(120*F1)/P;\n",
"ws=2*%pi*(Ns/60);\n",
"s=((ws-w)/ws);\n",
"disp('part (1)')\n",
"disp('slip is '+string(s)+' or '+string(s*100)+' % ')\n",
"disp('part (2)')\n",
"T=100;// in N-M\n",
"w=100;// in rad/sec\n",
"Pag=ws*T;\n",
"P_slip=s*Pag;\n",
"P_mech=(1-s)*Pag;\n",
"disp(Pag,'(a)the air gap power,pag(W) = ')\n",
"disp(P_slip,'(b)slip power(W) =')\n",
"disp(P_mech,'(c)Mech o/p power,P_mech(W) = ')\n",
"//air gap power is calculated wrong in the textbook\n",
"disp('part (3)')\n",
"eta=(P_mech/Pag);\n",
"disp('efficiency of the rotor circuit is '+string(eta)+' or '+string(eta*100)+' % ')"
   ]
   }
,
{
		   "cell_type": "markdown",
		   "metadata": {},
		   "source": [
			"## Example 10.15_2: Supply_voltage_per_phase_slip_slip_frequency_slip_and_rotor_los.sce"
		   ]
		  },
  {
"cell_type": "code",
	   "execution_count": null,
	   "metadata": {
	    "collapsed": true
	   },
	   "outputs": [],
"source": [
"//Example 10.15.2 :Supply voltage per phase,slip,slip frequency ,slip and rotor loss\n",
"clc;\n",
"clear;\n",
"close;\n",
"//given data :\n",
"format('v',6)\n",
"V_rms=240;// in volts\n",
"F1=50;//in Hz\n",
"Vs_rms=240/2;\n",
"disp('part (1)')\n",
"disp(Vs_rms,'supply voltage (V) = ')\n",
"disp('part (2)')\n",
"N=1440;// in rpm\n",
"P=4;// pole\n",
"Ns=(120*F1)/4;\n",
"S=((Ns-N)/Ns);\n",
"disp('slip is '+string(S)+' or '+string(S*100)+' % ')\n",
"disp('part (3)')\n",
"S_frequency=S*F1;\n",
"disp(S_frequency,'slip frequency(Hz) = ')\n",
"disp('part (4)')\n",
"f=2;//Hz\n",
"f1=25;//Hz\n",
"s=(f/f1);//\n",
"disp('slip is '+string(s)+' or '+string(s*100)+' % ')\n",
"disp('part (5)')\n",
"F2=25;//in Hz\n",
"S1=(S_frequency/F2);\n",
"rotor_loss=S1/(1-S1);\n",
"disp(rotor_loss ,'Rotor loss(%) = ')"
   ]
   }
,
{
		   "cell_type": "markdown",
		   "metadata": {},
		   "source": [
			"## Example 10.15_6: supply_voltage_slip_slip_frequency_and_percentage_rotor_loss.sce"
		   ]
		  },
  {
"cell_type": "code",
	   "execution_count": null,
	   "metadata": {
	    "collapsed": true
	   },
	   "outputs": [],
"source": [
"//Example 10.15.6: supply voltage per phase , slip ,slip frequency and percentage rotor loss\n",
"clc;\n",
"clear;\n",
"close;\n",
"Ns1=750;//\n",
"V_rms=240;// in volts\n",
"f2=25;//Hz\n",
"F1=50;//in Hz\n",
"Vs_rms=240/2;\n",
"N=1440;// in rpm\n",
"P=4;// pole\n",
"Ns=(120*F1)/4;\n",
"S=((Ns-N)/Ns);\n",
"S_frequency=S*F1;\n",
"fs12=S_frequency/4;//\n",
"S1=fs12/f2;\n",
"rotor_loss=S1/(1-S1);\n",
"n=Ns1-((S1*Ns1));//\n",
"disp(Vs_rms,'supply voltage (V) = ')\n",
"disp(S1*100,'slip,S(%) = ')\n",
"disp(S_frequency,'slip frequency at 50Hz (Hz) = ')\n",
"disp(fs12,'slip frequency at 25Hz (Hz) = ')\n",
"disp(rotor_loss ,'Rotor loss(%) = ')\n",
"disp(n,'speed in rpm is')"
   ]
   }
],
"metadata": {
		  "kernelspec": {
		   "display_name": "Scilab",
		   "language": "scilab",
		   "name": "scilab"
		  },
		  "language_info": {
		   "file_extension": ".sce",
		   "help_links": [
			{
			 "text": "MetaKernel Magics",
			 "url": "https://github.com/calysto/metakernel/blob/master/metakernel/magics/README.md"
			}
		   ],
		   "mimetype": "text/x-octave",
		   "name": "scilab",
		   "version": "0.7.1"
		  }
		 },
		 "nbformat": 4,
		 "nbformat_minor": 0
}
