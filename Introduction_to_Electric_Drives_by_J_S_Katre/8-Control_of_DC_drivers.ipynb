{
"cells": [
 {
		   "cell_type": "markdown",
	   "metadata": {},
	   "source": [
       "# Chapter 8: Control of DC drivers"
	   ]
	},
{
		   "cell_type": "markdown",
		   "metadata": {},
		   "source": [
			"## Example 8.12_1: back_emf_Required_armature_voltage_and_Rated_armatuer_current.sce"
		   ]
		  },
  {
"cell_type": "code",
	   "execution_count": null,
	   "metadata": {
	    "collapsed": true
	   },
	   "outputs": [],
"source": [
"//Example 8.12.1: back emf ,Required armature voltage and Rated armatuer current\n",
"clc;\n",
"clear;\n",
"close;\n",
"//given data :\n",
"format('v',7)\n",
"TL=45;// in N-M\n",
"N=1200;//in rpm\n",
"Rf=147;//in ohm\n",
"Ra=25;// in ohm\n",
"Kv=0.7032;\n",
"w=(2*%pi*N)/60;\n",
"Vf=220;//in volts\n",
"Kt=Kv;\n",
"If=Vf/Rf;\n",
"T=TL;\n",
"Ia=T/(Kt*If);\n",
"Eg=Kv*w*If;\n",
"disp('part (a)')\n",
"disp(Eg,'Back emf,Eg(Volts) = ')\n",
"disp('part (b)')\n",
"Ea=(Ia*(Ra/100))+Eg;\n",
"disp(Ea,'Required armature voltage,Ea(volts) = ')\n",
"disp('part (c)')\n",
"rac=11191.4/Vf;//\n",
"disp(rac,'rated armature current in amperes is')"
   ]
   }
,
{
		   "cell_type": "markdown",
		   "metadata": {},
		   "source": [
			"## Example 8.12_2: the_field_current_Evaluation_of_alfa_Evaluation_of_power_factor.sce"
		   ]
		  },
  {
"cell_type": "code",
	   "execution_count": null,
	   "metadata": {
	    "collapsed": true
	   },
	   "outputs": [],
"source": [
"//Example 8.12.2: the field current,Evaluation of alfa,Evaluation of power factor\n",
"clc;\n",
"clear;\n",
"close;\n",
"//given data :\n",
"format('v',7)\n",
"TL=50;// in N-M\n",
"N=1000;//in rpm\n",
"Rf=150;//in ohm\n",
"Ra=.25;// in ohm\n",
"Kv=0.7032;\n",
"alfa=0;\n",
"Vm=230;// in volts\n",
"Ef=((Vm*sqrt(2))/%pi)*(1+cosd(alfa));\n",
"If=Ef/Rf;\n",
"disp('part (a)')\n",
"disp(If,'Field current,If(A) = ')\n",
"disp('part (b)')\n",
"w=(2*%pi*N)/60;\n",
"Ia=TL/(Kv*If);\n",
"Eg=Kv*w*If;\n",
"Ea=Eg+(Ra*Ia);\n",
"alfa_a=acosd(((Ea*%pi)/(Vm*sqrt(2)))-1);\n",
"disp(alfa_a,'angle in degree')\n",
"disp('part (c)')\n",
"Ismax=Ia*((180-alfa_a)/180)^(1/2);//in amperes\n",
"PF=((Ea*Ia)/(Vm*Ismax));//lagging\n",
"disp(PF,'power factor (lagging) is')"
   ]
   }
,
{
		   "cell_type": "markdown",
		   "metadata": {},
		   "source": [
			"## Example 8.12_3: torque.sce"
		   ]
		  },
  {
"cell_type": "code",
	   "execution_count": null,
	   "metadata": {
	    "collapsed": true
	   },
	   "outputs": [],
"source": [
"//Example 8.12.3: torque  \n",
"clc;\n",
"clear;\n",
"close;\n",
"format('v',7)\n",
"//given data :\n",
"Ia=50;// in A\n",
"Rf=150;//in ohm\n",
"Ra=.25;// in ohm\n",
"Kv=1.4;// in V/A-rad/sec\n",
"alfa_f=0;\n",
"alfa_a=45;// in degree\n",
"Vm=230*sqrt(2);// in volts\n",
"Vs=230;// in volts\n",
"Ef=((2*Vm)/%pi)*(cosd(alfa_f));\n",
"If=Ef/Rf;\n",
"T=Kv*Ia*If;\n",
"disp('part (a)')\n",
"disp(T,'Torque developed by the motor,T(N/m) = ')\n",
"Ea=((2*Vm)/%pi)*(cosd(alfa_a));\n",
"Eg=Ea-(Ia*Ra);\n",
"w=Eg/(Kv*If);\n",
"N=(w/(2*%pi))*60;\n",
"disp('part (b)')\n",
"disp(N,'Speed,N(rpm) = ')\n",
"disp('part (c)')\n",
"Ea=Eg+(Ra*Ia);\n",
"alfa_a=acosd(((Ea*%pi)/(Vm*sqrt(2)))-1);\n",
"Ismax=Ia*((180-alfa_a)/180)^(1/2);//in amperes\n",
"PF=((Ea*Ia)/(Vm*Ismax));//lagging\n",
"disp(PF,'power factor (lagging) is')\n",
"//supply power factor is calculated wrong in the textbook"
   ]
   }
,
{
		   "cell_type": "markdown",
		   "metadata": {},
		   "source": [
			"## Example 8.12_4: Motor_torque.sce"
		   ]
		  },
  {
"cell_type": "code",
	   "execution_count": null,
	   "metadata": {
	    "collapsed": true
	   },
	   "outputs": [],
"source": [
"//Example 8.12.4: Motor torque\n",
"clc;\n",
"clear;\n",
"close;\n",
"format('v',7)\n",
"//given data :\n",
"Vs_rms=230;// in volts\n",
"N=1200;// in rpm\n",
"Ia=40;// in A\n",
"Ra=0.25;//in ohm\n",
"Ka_fi1=0.182;// in V/rpm\n",
"Ka_fi=(0.182*60)/(2*%pi);\n",
"alfa_a=30;\n",
"T=Ka_fi*Ia;\n",
"disp('part (a)')\n",
"disp(T,'Motor torque,T(N-m) = ')\n",
"disp('part (b)')\n",
"Ea=((2*sqrt(2)*Vs_rms)/%pi)*(cosd(alfa_a));\n",
"N=(Ea-(Ra*Ia))/Ka_fi1;\n",
"disp(N,'Speed of the motor,N(rpm) = ')\n",
"disp('part (c)')\n",
"Is_rms=Ia;\n",
"PF=(Ea*Ia)/(Vs_rms*Is_rms);\n",
"disp(PF,'Power factor,PF(lagging) = ')"
   ]
   }
,
{
		   "cell_type": "markdown",
		   "metadata": {},
		   "source": [
			"## Example 8.12_6: draw_characterstics.sce"
		   ]
		  },
  {
"cell_type": "code",
	   "execution_count": null,
	   "metadata": {
	    "collapsed": true
	   },
	   "outputs": [],
"source": [
"//Example 8.12.6;Torque speed charaterstics\n",
"clc;\n",
"clear;\n",
"close;\n",
"format('v',7)\n",
"//given data :\n",
"v=230;//in volts\n",
"vm=sqrt(2)*v;//in clts\n",
"Ka=1;\n",
"QR=1;//\n",
"ra=0.05;//\n",
"alpha=30;//in degree\n",
"y=(60/(2*%pi));//\n",
"z=((vm/%pi)*(1+cosd(alpha)));//\n",
"x=(ra/(0.5)^2)\n",
"for i=1:8\n",
"    wm(i)= (z-(i)*x)*y;//\n",
"end\n",
"wm=[(y*z);wm(1);wm(2);wm(3);wm(4);wm(5);wm(6);wm(7);wm(8)]\n",
"disp(wm,'varoius values of speed in RPM is')\n",
"T=[0;1;2;3;4;5;6;7;8];\n",
"plot2d(T,wm)\n",
"xlabel('Torque ,N-m')\n",
"ylabel('Speed (rpm)  for alpha=30 degree')"
   ]
   }
,
{
		   "cell_type": "markdown",
		   "metadata": {},
		   "source": [
			"## Example 8.18_1: No_load_speed_firing_angle_Power_Factor_and_speed_regulation.sce"
		   ]
		  },
  {
"cell_type": "code",
	   "execution_count": null,
	   "metadata": {
	    "collapsed": true
	   },
	   "outputs": [],
"source": [
"//Example 8.18.1: No load speed ,firing angle ,Power Factor and speed regulation\n",
"clc;\n",
"clear;\n",
"close;\n",
"format('v',6)\n",
"//given data :\n",
"Ra=0.075;//in ohm\n",
"alfa1=0;// in degree\n",
"alfa2=30;// in degree\n",
"VL_rms=480;// in volts\n",
"Ka_fi=0.3;// in V/rms\n",
"Vs_rms=round(VL_rms/sqrt(3));\n",
"Vm=sqrt(2)*Vs_rms;\n",
"Ea=round((3*sqrt(3)*Vm*cosd (alfa1))/%pi);\n",
"Ea1=((3*sqrt(3)*Vm*cosd(alfa2))/%pi);\n",
"Ia=(10/100)*160;// in A\n",
"N_0=(Ea-Ia*Ra)/Ka_fi;\n",
"N_30=(Ea1-Ia*Ra)/Ka_fi;\n",
"disp('part (a)')\n",
"disp(N_0,'No load speed at alfa=0 degree,(rpm) = ')\n",
"disp(N_30,'No load speed at alfa=30 degree,(rpm) = ')\n",
"disp('part (b)')\n",
"Ia=160;// in A\n",
"N=1800;// in rpm\n",
"Eg=540;// in volts\n",
"Ea=(Eg+(Ia*Ra));\n",
"alfa=(acosd((Ea*%pi)/(3*sqrt(3)*Vm)));\n",
"disp(alfa,'the firng angel,alfa(degree) = ')\n",
"disp('part (c)')\n",
"Is_rms=sqrt(2/3)*Ia;\n",
"Sva=3*Vs_rms*Is_rms;\n",
"PF=(Ea*Ia)/(Sva);\n",
"disp(PF,'Power Factor,PF(lagging) = ')\n",
"disp('part (d)')\n",
"Ra=0.075;//in ohm\n",
"Ia=160;// in A\n",
"Ia1=16;// in A\n",
"Eg=540;// in volts\n",
"Ka_fi=0.3;// in V/rms\n",
"N=1800;// in rpm\n",
"Ea=(Eg+(Ia*Ra));\n",
"Eg1=Ea-(Ia1*Ra);\n",
"N_0=Eg1/Ka_fi;\n",
"SR=((N_0-N)/N)*100;\n",
"disp(SR,'Speed Regulation,SR(%) = ')"
   ]
   }
,
{
		   "cell_type": "markdown",
		   "metadata": {},
		   "source": [
			"## Example 8.18_2: Delay_Angel_of_Armature_No_load_speed_and_speed_regulation.sce"
		   ]
		  },
  {
"cell_type": "code",
	   "execution_count": null,
	   "metadata": {
	    "collapsed": true
	   },
	   "outputs": [],
"source": [
"//Example 8.18.2: Delay Angel of Armature,No load speed and speed regulation\n",
"clc;\n",
"clear;\n",
"close;\n",
"//given data :\n",
"format('v',5)\n",
"VL_rms=208;// in volts\n",
"Kv=1.2;// in V/A-rad/sec\n",
"Vs_rms=round(VL_rms/sqrt(3));\n",
"Vm=sqrt(2)*Vs_rms;\n",
"Rf=240; // in ohm\n",
"Ra=0.25;// in ohm\n",
"alfa_f=0;// in degree\n",
"V=280;// in volts\n",
"Twenty_HP=20*746;//in watt\n",
"Ia=Twenty_HP/V\n",
"Ef=round((3*sqrt(3)*Vm*cosd (alfa_f))/%pi);\n",
"N=1800;\n",
"w=(N*2*%pi)/60;\n",
"If=Ef/Rf;\n",
"Eg=Kv*w*If;\n",
"Ea=round(Eg+(Ia*Ra));\n",
"alfa_a=(acosd((Ea*%pi)/(3*sqrt(3)*Vm)));\n",
"disp('part (a)')\n",
"disp(alfa_a,'Delay Angel Of Armature,alfa_a(degree) = ')\n",
"disp('part (b)')\n",
"Ia1=(Ia*10)/100\n",
"Eg_noL=Ea-(Ia1*Ra);\n",
"w_0=(Eg_noL/(1.2*1.17));// rad/sec\n",
"N_0=(w_0*60)/(2*%pi);\n",
"disp(N_0,'NO load speed at alfa|_a,(rpm) = ')\n",
"// no load speed is calculated wrong in textbook\n",
"disp('part (c)')\n",
"SR=((N_0-N)/N)*100;\n",
"disp(SR,'Speed Regulation,SR(%) = ')\n",
"// speed regulation is calculated wrong in the textbook"
   ]
   }
,
{
		   "cell_type": "markdown",
		   "metadata": {},
		   "source": [
			"## Example 8.18_3: alphas_speed_and_delay_angle.sce"
		   ]
		  },
  {
"cell_type": "code",
	   "execution_count": null,
	   "metadata": {
	    "collapsed": true
	   },
	   "outputs": [],
"source": [
"//Example 8.18.3: alphas,speed and delay angle\n",
"clc;\n",
"clear;\n",
"close;\n",
"//given data :\n",
"format('v',7)\n",
"v1=208;//\n",
"vsrms=v1/sqrt(3);//\n",
"n=1000;//rpm\n",
"w=n*(%pi/30);//in rad/s\n",
"ang=0;//\n",
"ef=((3*sqrt(3)*sqrt(2)*vsrms*cosd(ang))/%pi);//in volts\n",
"rf=140;//in ohms\n",
"If=ef/rf;//in amperes\n",
"t=120;//N-m\n",
" kv=1.2;//\n",
"ia=(t)/(kv*If);//in amperes\n",
"eg=kv*If*w;//in volts\n",
"ra=0.25;//in ohms\n",
"ea=eg+(ia*ra);//\n",
"alpha=acosd((ea*%pi)/(3*sqrt(3)*sqrt(2)*vsrms))\n",
"disp('part (a)')\n",
"disp(round(alpha),'alpha in degree is')\n",
"disp('part (b)')\n",
"rf=140;//in ohms\n",
"If=ea/rf;//in amperes\n",
"t=120;//N-m\n",
" kv=1.2;//\n",
"ia=(t)/(kv*If);//in amperes\n",
"ra=0.25;//in ohms\n",
"eg=ea-(ia*ra);//\n",
"w=(eg/(kv*If));//in rad/s\n",
"N=w*(30/%pi);//rpm\n",
"disp(N,'speed in rpm is')\n",
"//speed is calculated wrong in the textbook\n",
"disp('part (c)')\n",
"n1=1000;//rpm\n",
"w=n1*(%pi/30);//in rad/s\n",
"v1=208;//\n",
"vsrms=v1/sqrt(3);//\n",
"w1=(1800*(%pi/30));//\n",
"n=1800;//rpm\n",
"ang=0;//\n",
"T=120;//n-m\n",
"alphas=0;//\n",
"ang=0;//\n",
"ea=((3*sqrt(3)*sqrt(2)*vsrms*cosd(ang))/%pi);//in volts\n",
"rf=140;//in ohms\n",
"If=ea/rf;//in amperes\n",
"t=120;//N-m\n",
" kv=1.2;//\n",
"ia=(t)/(kv*If);//in amperes\n",
"ra=0.25;//in ohms\n",
"eg=ea-(ia*ra);//\n",
"if1=eg/(kv*w1);//in amperese\n",
"ef1=if1*rf;//in volts\n",
"alphaf=acosd((ef1*%pi)/(3*sqrt(3)*120*sqrt(2)));\n",
"disp(alphaf,'delay angle in degree is')"
   ]
   }
,
{
		   "cell_type": "markdown",
		   "metadata": {},
		   "source": [
			"## Example 8.19_1: Firing_angle_to_keep_the_motor_current_and_Power_fed_back.sce"
		   ]
		  },
  {
"cell_type": "code",
	   "execution_count": null,
	   "metadata": {
	    "collapsed": true
	   },
	   "outputs": [],
"source": [
"//Example 8.19.1: Firing angle to keep the motor current and Power fed back \n",
"clc;\n",
"clear;\n",
"close;\n",
"//given data :\n",
"format('v',7)\n",
"Vs_rms=260;// in volts\n",
"Ia=40;// in A\n",
"Eg=192;//in volts\n",
"kv=0.182;// in V/rpm\n",
"Ra=0.3;// in ohm\n",
"Ea=Eg+(Ia*Ra);\n",
"alfa_a=acosd((Ea*%pi)/(2*Vs_rms*sqrt(2)));\n",
"disp('part (a)')\n",
"disp(alfa_a,'Firing angle to keep motor current,alfa_a(degree) = ')\n",
"Ea1=-Eg+(Ia*Ra);\n",
"alfa_b=acosd((Ea1*%pi)/(2*Vs_rms*sqrt(2)));\n",
"disp(alfa_b,'Firing angle ,alfa_a(degree) =')\n",
"disp('part (b)')\n",
"Ia=40;// in A\n",
"Eg=192;//in volts\n",
"Ra=0.3;// in ohm\n",
"Ea=-Eg+(Ia*Ra);\n",
"P=abs(Ea)*Ia;\n",
"disp(P,'Power fed back,P(Watt) = ')"
   ]
   }
,
{
		   "cell_type": "markdown",
		   "metadata": {},
		   "source": [
			"## Example 8.19_2: EX8_19_2.sce"
		   ]
		  },
  {
"cell_type": "code",
	   "execution_count": null,
	   "metadata": {
	    "collapsed": true
	   },
	   "outputs": [],
"source": [
"//Example 8.19.2 Average armature voltage ,back emf ,speed of the motor , motor torque and supply power factor\n",
"clc;\n",
"clear;\n",
"close;\n",
"format('v',5)\n",
"//given data :\n",
"Vm=230;// in volts\n",
"Ia=40;// in A\n",
"Ra=0.5;// in ohm\n",
"Ka_fi=0.2;// in V/rpm\n",
"alfa=30;\n",
"Ea=(Vm*sqrt(2)*(1+cosd(alfa)))/%pi;\n",
"disp('part (a)')\n",
"disp(Ea,'Average armature current,Ea(volts) = ')\n",
"disp('part (b)')\n",
"Eb=Ea-(Ia*Ra);\n",
"disp(Eb,'Back emf,Eb(volts) = ')\n",
"disp('part (c)')\n",
"N=Eb/Ka_fi;\n",
"disp(round(N),'Speed of the motor,N(rpm) = ')\n",
"disp('part (d)')\n",
"Ka_fi1=(Ka_fi*60)/(2*%pi);\n",
"T=Ka_fi1*Ia;\n",
"disp(T,'Torque,T(N/m) = ')\n",
"disp('part (e)')\n",
"alfa=%pi/6;\n",
"PF=(2*sqrt(2)*cos(alfa/2)^2)/(sqrt(%pi*(%pi-alfa)));\n",
"disp(PF,'power factor (lagging) is')"
   ]
   }
,
{
		   "cell_type": "markdown",
		   "metadata": {},
		   "source": [
			"## Example 8.19_3: torque_developed_speed_and_input_power_factor.sce"
		   ]
		  },
  {
"cell_type": "code",
	   "execution_count": null,
	   "metadata": {
	    "collapsed": true
	   },
	   "outputs": [],
"source": [
"//Example 8.19.3: torque developed,speed and input power factor\n",
"clc;\n",
"clear;\n",
"close;\n",
"//given data :\n",
"format('v',7)\n",
"v=208;//in volts\n",
"f=50;//in Hz\n",
"ra=0.5;//in ohms\n",
"rf=345;//in ohms\n",
"kv=0.71;//in V/A-rad/sec\n",
"alpha=45;//in degree\n",
"ia=55;//in amperes\n",
"If=((2*sqrt(2)*v*cosd(0))/(%pi*rf));//in amperes\n",
"t=kv*If*ia;//in  N/m\n",
"disp('part (a)')\n",
"disp(t,'torque in N/m is')\n",
"disp('part (b)')\n",
"eb=((2*sqrt(2)*v*cosd(alpha))/%pi)-(ia*ra);//in volts\n",
"w=eb/(kv*If);//in rad/sec\n",
"N=w/(2*%pi);//rps\n",
"disp(N*60,'speed in rpm')\n",
"//speed is calculated wrong in the textbook\n",
"disp('part (c)')\n",
"ea=132.4;//in volts\n",
"ef=187.3;//in volts\n",
"pi=(ea*ia)+(ef*If);//in watts\n",
"Isrms=sqrt((ia)^2+(If)^2);//in amperes\n",
"va1=Isrms*v;//in VA\n",
"Pf=pi/va1;//\n",
"disp(Pf,'power factor (lagging) is')"
   ]
   }
,
{
		   "cell_type": "markdown",
		   "metadata": {},
		   "source": [
			"## Example 8.19_4: EX8_19_4.sce"
		   ]
		  },
  {
"cell_type": "code",
	   "execution_count": null,
	   "metadata": {
	    "collapsed": true
	   },
	   "outputs": [],
"source": [
"//Example 8.19.4:develepoed back emf,required armature voltage and firing angle and rated armature current\n",
"clc;\n",
"clear;\n",
"close;\n",
"//given data :\n",
"format('v',6)\n",
"hp=20;//\n",
"v=230;//volts\n",
"n=1000;//rpm\n",
"lt=50;//load torque in N-m\n",
"s=1000;//speed in rpm\n",
"ra=0.2;//in ohms\n",
"rf=150;//in ohms\n",
"la=10;//in mH\n",
"kv=0.7;//\n",
"vf=(2*sqrt(2)*v)/(%pi);//\n",
"If=vf/rf;//in amperes\n",
"ia=(lt/(kv*If));//in amperes\n",
"eg=((kv*2*%pi*n*If))/(60);//in volts\n",
"disp('part (a)')\n",
"disp(eg,'back emf in volts is')\n",
"disp('part (b)')\n",
"ea=eg+(ia*ra);//in volts\n",
"alpha=acosd((ea*%pi)/(2*sqrt(2)*v));//\n",
"disp(ea,'armature voltage in volts is')\n",
"disp(alpha,'firing angle in degree is')\n",
"disp('part (c)')\n",
"ea1=220;//in volts\n",
"ha20=746*20;//\n",
"iar=(ha20/ea1);//in amperes\n",
"disp(iar,'rated armature current in amperes is')"
   ]
   }
,
{
		   "cell_type": "markdown",
		   "metadata": {},
		   "source": [
			"## Example 8.21_1: average_armature_current.sce"
		   ]
		  },
  {
"cell_type": "code",
	   "execution_count": null,
	   "metadata": {
	    "collapsed": true
	   },
	   "outputs": [],
"source": [
"//Example 8.21.1 : Average armature current\n",
"clc;\n",
"clear;\n",
"close;\n",
"//given data :\n",
"V=200;// in volts\n",
"D=50/100;// duty cycle\n",
"VL_dc=V*D;\n",
"Eb=75;// in volts\n",
"Ra=1;// in ohm\n",
"Ia=(VL_dc-Eb)/Ra;\n",
"disp(Ia,'Average armature current,Ia(A) = ')"
   ]
   }
],
"metadata": {
		  "kernelspec": {
		   "display_name": "Scilab",
		   "language": "scilab",
		   "name": "scilab"
		  },
		  "language_info": {
		   "file_extension": ".sce",
		   "help_links": [
			{
			 "text": "MetaKernel Magics",
			 "url": "https://github.com/calysto/metakernel/blob/master/metakernel/magics/README.md"
			}
		   ],
		   "mimetype": "text/x-octave",
		   "name": "scilab",
		   "version": "0.7.1"
		  }
		 },
		 "nbformat": 4,
		 "nbformat_minor": 0
}
