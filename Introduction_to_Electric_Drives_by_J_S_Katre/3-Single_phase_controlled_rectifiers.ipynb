{
"cells": [
 {
		   "cell_type": "markdown",
	   "metadata": {},
	   "source": [
       "# Chapter 3: Single phase controlled rectifiers"
	   ]
	},
{
		   "cell_type": "markdown",
		   "metadata": {},
		   "source": [
			"## Example 3.3_1: EX3_3_1.sce"
		   ]
		  },
  {
"cell_type": "code",
	   "execution_count": null,
	   "metadata": {
	    "collapsed": true
	   },
	   "outputs": [],
"source": [
"// Example 3.3.1: form factor,ripple factor ,transformation utilization factor and peak inverse voltage\n",
"clc;\n",
"clear;\n",
"close;\n",
"Vm=1;//assume\n",
"R=1;//assume\n",
"t=%pi/3:%pi;\n",
"Vldc= ((Vm/(2*%pi))*intsplin(t,sin(t)));//\n",
"Vlms=sqrt((Vm^2/(2*%pi))*intsplin(t,(sin(t))^2));//\n",
"ff=Vlms/Vldc;\n",
"disp('part (a)')\n",
"disp('form factor is '+string(ff)+' or '+string(ff*100)+' percentage')\n",
"//form factor is calculated wrong in the textbook\n",
"disp('part (b)')\n",
"rf=sqrt(ff^2-1);//\n",
"disp('ripple factor is '+string(rf)+ ' or '+string(rf*100)+' percentage')\n",
"//ripple factor is calculated wrong in the textbook\n",
"Vs=Vm/(sqrt(2));//rms secondary voltage\n",
"Is=Vlms/R;//\n",
"TUF=((Vldc^2)/R)/(Vs*Is);//\n",
"disp('part (c)')\n",
"disp('transformation utilization factor is '+string(TUF)+ ' or '+string(TUF*100)+' percentage')\n",
"//transformation utilization factor is calculated wrong in the textbook\n",
"R=1;//assume\n",
"Vm=1;//assume\n",
"disp('part (d)')\n",
"disp('PIV=Vm')"
   ]
   }
,
{
		   "cell_type": "markdown",
		   "metadata": {},
		   "source": [
			"## Example 3.4_1: plot_the_variatio.sce"
		   ]
		  },
  {
"cell_type": "code",
	   "execution_count": null,
	   "metadata": {
	    "collapsed": true
	   },
	   "outputs": [],
"source": [
"// Example 3.4.1: plot the variation\n",
"clc;\n",
"clear;\n",
"close;\n",
"vsrms=230;//volts\n",
"vm=sqrt(2)*vsrms;//volts\n",
"alpha=[0;30;60;90;120;150;180];//degree\n",
"x=[0;(30*(%pi/180));(60*(%pi/180));(90*(%pi/180));(120*(%pi/180));(150*(%pi/180));(180*(%pi/180))]\n",
"for i=1:7\n",
"    vldc(i)=(vm/%pi)*(1+cosd(alpha(i)));//\n",
"    vlms(i)=vsrms*((1/%pi)*(%pi-x(i)+(sin(2*x(i)))/2))^(1/2);//\n",
"end\n",
"subplot(1,2,1)\n",
"xlabel('alpha');//\n",
"ylabel('Vldc');//\n",
"xtitle('(a) Variation of average load voltage')\n",
"plot(alpha,vldc);//\n",
"subplot(1,2,2)\n",
"xlabel('alpha');//\n",
"ylabel('Vlrms');//\n",
"xtitle('(b) Variation of RMS load voltage')\n",
"plot(alpha,vlms);//"
   ]
   }
,
{
		   "cell_type": "markdown",
		   "metadata": {},
		   "source": [
			"## Example 3.4_5: delay_angle_average_output_current_average_and_rms_thyristor_current.sce"
		   ]
		  },
  {
"cell_type": "code",
	   "execution_count": null,
	   "metadata": {
	    "collapsed": true
	   },
	   "outputs": [],
"source": [
"// Example 3.4.5: delay angle,rms , averae output current ,average and rms thyristor current\n",
"clc;\n",
"clear;\n",
"close;\n",
"format('v',5)\n",
"Vrms=120;//RMS VOLTAGE \n",
"R=10;//in ohms\n",
"Vldc= (0.25*(2*sqrt(2)*Vrms))/%pi;//in volts\n",
"csd= (Vldc*%pi)/(sqrt(2)*Vrms);//\n",
"alpha= acosd(csd-1);//\n",
"disp('part (a)')\n",
"disp(alpha,'delay angle in degree is')\n",
"Vrms=120;//RMS VOLTAGE \n",
"Vm=sqrt(2)*Vrms;//assume\n",
"t=2*%pi/3:%pi;\n",
"Vlms=((Vm/(sqrt(2)))*(((1/%pi)*((%pi-(2*%pi)/3)+sind((4*%pi)/6))))^(1/2));\n",
"Vldc= (0.25*(2*sqrt(2)*Vrms))/%pi;//in volts\n",
"Ildc=Vldc/R;//average load current in ampere\n",
"Ilms=Vlms/R;// rms load current in ampere\n",
"disp('part (b)')\n",
"disp(Ilms,'rms load current in amperes')\n",
"disp(Ildc,'average load current in amperes')\n",
"//rms load current is calculated  wrong in the textbook\n",
"Im=Vm/R;//\n",
"Ith=((Im/(2*%pi))*intsplin(t,sin(t)));//in amperes\n",
"Ithrms=sqrt((Im^2/(2*%pi))*intsplin(t,(sin(t))^2));//in amperes\n",
"disp('part (c)')\n",
"disp(Ith,'average thyristor current in amperes is')\n",
"disp(Ithrms,'rms thyristor current in amperes is')\n",
"//average and rms thyrister current is calculated wrong in the textbook\n",
""
   ]
   }
,
{
		   "cell_type": "markdown",
		   "metadata": {},
		   "source": [
			"## Example 3.6_1: EX3_6_1.sce"
		   ]
		  },
  {
"cell_type": "code",
	   "execution_count": null,
	   "metadata": {
	    "collapsed": true
	   },
	   "outputs": [],
"source": [
"// Example 3.6.1: average load voltage,rms load voltage,average and rms load currents ,form factor and ripple factor\n",
"clc;\n",
"clear;\n",
"close;\n",
"format('v',7)\n",
"R=10;//IN OHMS\n",
"r=10;//IN OHMS\n",
"Vi=230;//in volts\n",
"alpha=60;//fiirng angle in degree \n",
"Vm=Vi*sqrt(2);//in voltas\n",
"Vldc=((Vm)/%pi)*(1+cosd(alpha));//average load voltgae\n",
"disp('part (a)')\n",
"disp(Vldc,'average load voltage in volts')\n",
"disp('part (b)')\n",
"r=10;//IN OHMS\n",
"Vi=230;//in volts\n",
"alpha=60;//fiirng angle in degree \n",
"Vm=Vi*sqrt(2);//in voltas\n",
"Vlms=((Vm/(sqrt(2)))*(((%pi-%pi/3)+(sind(2*%pi/3))/2)/%pi)^(1/2));//\n",
"disp(Vlms,'rms load voltage in volts')\n",
"//rms voltage is calculated wrong in the textbook\n",
"disp('part (c)')\n",
"Ildc=Vldc/R;// in amperes\n",
"Irms=Vlms/R;// in amperes\n",
"disp(Irms,'rms load current in ampere')\n",
"disp(Ildc,'average load current in ampere')\n",
"//rms load current is wrong in the textbook\n",
"disp('part (d)')\n",
"ff=Vlms/Vldc;\n",
"disp('form factor is '+string(ff)+' or '+string(ff*100)+' %')\n",
"rf=sqrt(ff^2-1);//\n",
"disp('ripple factor is '+string(rf)+ ' or '+string(rf*100)+' %')\n",
"//form factor and ripple factor is calculated wrong in the textbook"
   ]
   }
,
{
		   "cell_type": "markdown",
		   "metadata": {},
		   "source": [
			"## Example 3.7_1: device_rating.sce"
		   ]
		  },
  {
"cell_type": "code",
	   "execution_count": null,
	   "metadata": {
	    "collapsed": true
	   },
	   "outputs": [],
"source": [
"// Example 3.7.1:device ratings\n",
"clc;\n",
"clear;\n",
"close;\n",
"Io=25;//in amperes\n",
"Vsrms=120;// in colts\n",
"Vm=sqrt(2)*Vsrms;// in volts\n",
"for i= 1:5\n",
"    alpha=[0;60;90;135;180]\n",
"    Vldc(i)=((Vm)/%pi)*(1+cosd(alpha(i,1)));//\n",
"    disp(round((Vldc(i))),'mean voltage in volts is at angle '+string(alpha(i,1))+' degree')\n",
"end\n",
"PIV=Vm;//peak inverse voltage\n",
"Iascr=Io/2;//scr average currentin ampere\n",
"Iadod=Io;//average diode current in amperes\n",
"Ipscr=Iascr;//peak current rating for SCR in amperes\n",
"Ipdod=Iadod;//peak current rating for diode in amperes\n",
"disp(Iascr,'scr average current in amperes')\n",
"disp(Iadod,'average diode current in amperes')\n",
"disp(Ipscr,'peak current rating for SCR in amperes')\n",
"disp(Ipdod,'peak current rating for diode in amperes')"
   ]
   }
,
{
		   "cell_type": "markdown",
		   "metadata": {},
		   "source": [
			"## Example 3.7_2: Vldc_Vn_Vlrms_HF_DF_and_PF.sce"
		   ]
		  },
  {
"cell_type": "code",
	   "execution_count": null,
	   "metadata": {
	    "collapsed": true
	   },
	   "outputs": [],
"source": [
"// Example 3.7.2:Vldc,Vn,Vlrms,HF,DF and PF\n",
"clc;\n",
"clear;\n",
"close;\n",
"format('v',7)\n",
"Vsrms=120;//in volts\n",
"alpha=%pi/2;//\n",
"vm=sqrt(2)*Vsrms;//\n",
"vldc=((sqrt(2)*Vsrms)/(%pi))*(1+cos(alpha));//in volts\n",
"vldcm=(2*vm)/(%pi);//in volts\n",
"vn=vldc/vldcm;//normalised average output voltage in volts\n",
"x=((1/%pi)*((%pi-alpha)+(sin((2*alpha)))/2))^(1/2);//\n",
"vlrms=((vm/sqrt(2))*x);//RMS load voltage in volts\n",
"Io=1;//assume\n",
"Isrms=Io*(1-(alpha/%pi))^(1/2);//in amperes\n",
"Is1rms=((2*sqrt(2))*Io*cos(alpha/2))/(%pi);//in amperes\n",
"HF=((Isrms/Is1rms)^2-1)^(1/2);//Harmonic Fator is\n",
"DF=cos(alpha/2);//Displacement factor\n",
"PF=(Is1rms/Isrms)*(DF);//power factor\n",
"disp(round(vldc),'average output voltage (Vldc)in volts is')\n",
"disp(vn,'Normalised average output voltage (Vn) in volts is')\n",
"disp(vlrms,'RMS load voltage (Vlrms) in volts is')\n",
"disp(HF*100,'Harmonic factor (HF) in percentage is')\n",
"disp(DF*100,'Displacement factor (DF) in percentage is')\n",
"disp(PF,'power factor (PF) lagging is')"
   ]
   }
,
{
		   "cell_type": "markdown",
		   "metadata": {},
		   "source": [
			"## Example 3.7_3: amlitude_of_first_four_harmonic_components.sce"
		   ]
		  },
  {
"cell_type": "code",
	   "execution_count": null,
	   "metadata": {
	    "collapsed": true
	   },
	   "outputs": [],
"source": [
"// Example 3.7.3:amlitude of first four harmonic components\n",
"clc;\n",
"clear;\n",
"close;\n",
"format('v',7)\n",
"io=1;//assume\n",
"alpha=%pi/2;//\n",
"n=[0;0;(1/(%pi*3));0;(1/(%pi*5));0;(1/(%pi*7));0;(1/(%pi*9))];//\n",
"for i= [3;5;7;9]\n",
"    m(i)=((2*sqrt(2))*cos(((i)*alpha)/2));\n",
"end\n",
"x=[0;0;m(3)*n(3);0;m(5)*n(5);0;m(7)*n(7);0;m(9)*n(9)];//\n",
"for i=[3;5;7;9]\n",
"    disp('RMS value of '+string(i)+' harmonic is I'+string((i))+'  = '+string(x(i))+'Io ')\n",
"end"
   ]
   }
,
{
		   "cell_type": "markdown",
		   "metadata": {},
		   "source": [
			"## Example 3.7_4: Vldc_FPF_and_PF.sce"
		   ]
		  },
  {
"cell_type": "code",
	   "execution_count": null,
	   "metadata": {
	    "collapsed": true
	   },
	   "outputs": [],
"source": [
"// Example 3.7.4:Vldc,FPF and PF\n",
"clc;\n",
"clear;\n",
"close;\n",
"format('v',4)\n",
"disp('part (a)')\n",
"vm=1;//assume\n",
"alpha=[0;30;60;90;120;150;180];//in degree\n",
"for i=1:7\n",
"    vldc(i)=(vm/%pi)*(1+cosd(alpha(i)));//\n",
"    disp('average load voltage (Vldc) for angle '+string(alpha(i))+' degree is Vm*'+string(vldc(i))+' ')\n",
"end\n",
"subplot (2,2,1)\n",
"plot2d(alpha,vldc);//\n",
"xlabel('alpha(degrees)')\n",
"ylabel('average voltage (Vldc)')\n",
"xtitle('(a) Variation of Vldc Vs alpha')\n",
"disp('part (b)')\n",
"format('v',6)\n",
"vm=1;//assume\n",
"alpha=[0;30;60;90;120;150;180];//in degree\n",
"for i=1:7\n",
"     FPF(i)=cosd((alpha(i))/2)\n",
"     disp('displavefactor or fundamental power factor (FPF) for fringle angle '+string(alpha(i))+' degree is '+string(FPF(i))+' ')\n",
"end\n",
"subplot (2,2,2)\n",
"plot2d(alpha,FPF);//\n",
"xlabel('alpha(degrees)')\n",
"ylabel('FPF')\n",
"xtitle('(b) Variation of FPF Vs alpha')\n",
"disp('part (c)')\n",
"vm=1;//assume\n",
"alpha1=[0;30;60;90;120;150;180];//\n",
"alpha=[0;%pi/6;%pi/3;%pi/2;(2*%pi)/3;(5*%pi)/6;%pi];//in degree\n",
"for i=1:6           \n",
"    \n",
"     PF(i)=(sqrt(2)*(1+cos(alpha(i))))/sqrt((%pi)*(%pi-alpha(i))) ;\n",
"     PF(7)=0;//\n",
"     disp('displavefactor or fundamental power factor (FPF) for fringle angle '+string(alpha1(i))+' degree is '+string(PF(i))+' ')\n",
"end\n",
"subplot (2,2,3)\n",
"plot2d(alpha1,PF);//\n",
"xlabel('alpha(degrees)')\n",
"ylabel('FPF')\n",
"xtitle('(c) Variation of PF Vs alpha')"
   ]
   }
,
{
		   "cell_type": "markdown",
		   "metadata": {},
		   "source": [
			"## Example 3.7_5: alpha.sce"
		   ]
		  },
  {
"cell_type": "code",
	   "execution_count": null,
	   "metadata": {
	    "collapsed": true
	   },
	   "outputs": [],
"source": [
"// Example 3.7.5;alpha\n",
"clc;\n",
"clear;\n",
"close;\n",
"format('v',4)\n",
"disp('part (a)')\n",
"vc=135;//in volts\n",
"vs=220;//in vlts\n",
"rl=0.5;//in ohms\n",
"io=10;//in ampeeres\n",
"vm=sqrt(2)*vs;//\n",
"vldc=io*rl+vc;//\n",
"alpha=acosd((vldc*%pi)/(2*vm));//\n",
"disp('alpha is in degree '+string(alpha)+' ')\n",
"disp('part (b)')\n",
"vc=145;//in volts\n",
"vs=220;//in vlts\n",
"rl=0.5;//in ohms\n",
"io=10;//in ampeeres\n",
"vm=sqrt(2)*vs;//\n",
"vldc=io*rl-vc;//\n",
"alpha=acosd((vldc*%pi)/(2*vm));//\n",
"disp('alpha  in degree '+string(alpha)+' ')"
   ]
   }
,
{
		   "cell_type": "markdown",
		   "metadata": {},
		   "source": [
			"## Example 3.7_6: EX3_7_6.sce"
		   ]
		  },
  {
"cell_type": "code",
	   "execution_count": null,
	   "metadata": {
	    "collapsed": true
	   },
	   "outputs": [],
"source": [
"// Example 3.7.6:average output voltage,supply rms current ,supply fundamental current current,displacement factor,supply factor and supply harmonic factor\n",
"clc;\n",
"clear;\n",
"close;\n",
"format('v',6)\n",
"Vsrms=220;//in volts\n",
"alpha=%pi/3;//\n",
"vm=sqrt(2)*Vsrms;//\n",
"vldc=((2*vm)/(%pi))*(cos(alpha));//in volts\n",
"vldcm=(2*vm)/(%pi);//in volts\n",
"vn=vldc/vldcm;//normalised average output voltage in volts\n",
"x=((1/%pi)*((%pi-alpha)+(sin((2*alpha)))/2))^(1/2);//\n",
"vlrms=((vm/sqrt(2))*x);//RMS load voltage in volts\n",
"Io=1;//assume\n",
"Isrms=Io*(1-(alpha/%pi))^(1/2);//in amperes\n",
"Is1rms=((2*sqrt(2))*Io*cos(alpha/2))/(%pi);//in amperes\n",
"HF=((Isrms/Is1rms)^2-1)^(1/2);//Harmonic Fator is\n",
"DF=cos(alpha/2);//Displacement factor\n",
"PF=(Is1rms/Isrms)*(DF);//power factor\n",
"disp('part (a)')\n",
"disp(round(vldc),'average output voltage (Vldc)in volts is')\n",
"disp('part (b)')\n",
"disp('due to exact 50% duty cycle the rms value of supply current Isrms=Io')\n",
"Io=1;//assume\n",
"Isrms=Io;//in amperes\n",
"Is1rms=((2*sqrt(2))*Io)/(%pi);//in amperes\n",
"disp('part (c)')\n",
"disp('supply fundamental current is '+string(Is1rms)+' Io ')\n",
"disp('part (d)')\n",
"DF=cos(alpha);//\n",
"disp(DF,'displacement factor is')\n",
"disp('part (a)')\n",
"SPF=Is1rms*DF;//\n",
"disp(SPF,'supply power factor is (lagging)')\n",
"disp('part (f)')\n",
"HF=(((Isrms/Is1rms)^2)-1)^(1/2);//\n",
"disp(HF*100,'supply harmonic factor in percentage is')"
   ]
   }
,
{
		   "cell_type": "markdown",
		   "metadata": {},
		   "source": [
			"## Example 3.7_7: amplitude_of_the_first_three_lower_order_harmonics.sce"
		   ]
		  },
  {
"cell_type": "code",
	   "execution_count": null,
	   "metadata": {
	    "collapsed": true
	   },
	   "outputs": [],
"source": [
"// Example 3.7.7:amlitude of first three harmonic components\n",
"clc;\n",
"clear;\n",
"close;\n",
"format('v',6)\n",
"io=1;//assume\n",
"n=[0;0;3*%pi;0;5*%pi;0;%pi*7]\n",
"for i= [3;5;7]\n",
"    m(i)=((2*sqrt(2))*io);\n",
"end\n",
"x=[0;0;m(3)/n(3);0;m(5)/n(5);0;m(7)/n(7);];//\n",
"for i=[3;5;7]\n",
"    disp('RMS value of '+string(i)+' harmonic is I'+string((i))+'  = '+string(x(i))+'Io ')\n",
"end"
   ]
   }
],
"metadata": {
		  "kernelspec": {
		   "display_name": "Scilab",
		   "language": "scilab",
		   "name": "scilab"
		  },
		  "language_info": {
		   "file_extension": ".sce",
		   "help_links": [
			{
			 "text": "MetaKernel Magics",
			 "url": "https://github.com/calysto/metakernel/blob/master/metakernel/magics/README.md"
			}
		   ],
		   "mimetype": "text/x-octave",
		   "name": "scilab",
		   "version": "0.7.1"
		  }
		 },
		 "nbformat": 4,
		 "nbformat_minor": 0
}
