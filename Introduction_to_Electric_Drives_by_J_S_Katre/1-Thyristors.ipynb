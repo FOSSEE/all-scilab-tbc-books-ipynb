{
"cells": [
 {
		   "cell_type": "markdown",
	   "metadata": {},
	   "source": [
       "# Chapter 1: Thyristors"
	   ]
	},
{
		   "cell_type": "markdown",
		   "metadata": {},
		   "source": [
			"## Example 1.11_1: peak_reverse_recovery_current.sce"
		   ]
		  },
  {
"cell_type": "code",
	   "execution_count": null,
	   "metadata": {
	    "collapsed": true
	   },
	   "outputs": [],
"source": [
"//Example 1.11.1: peak reverse recovery current\n",
"clc;\n",
"clear;\n",
"close;\n",
"//given data :\n",
"itt=10;// time in micro seconds\n",
"qtt=150;//charge in micro colums\n",
"prrc=((2*qtt)/itt);//peak reverse recovery current in amperes\n",
"disp(prrc,'peak reverse recovery current in amperes')"
   ]
   }
,
{
		   "cell_type": "markdown",
		   "metadata": {},
		   "source": [
			"## Example 1.18_1: voltage.sce"
		   ]
		  },
  {
"cell_type": "code",
	   "execution_count": null,
	   "metadata": {
	    "collapsed": true
	   },
	   "outputs": [],
"source": [
"//Example 1.18.1: voltage of the capacitor\n",
"clc;\n",
"clear;\n",
"close;\n",
"format('v',7)\n",
"r=10;//in ohms\n",
"l=10;///inductance in mH\n",
"c=10;//capacitance in micro farads\n",
"v=100;//in volts\n",
"t=((%pi)/(sqrt((1/(l*10^-3*c*10^-6))-(r^2/(4*(l*10^-3)^2)))));// time in seconds\n",
"vc= v*(1-cosd(t/(sqrt(l*10^-3*c*10^-6))));//in volts\n",
"disp(vc,'the capacitor voltage in volts is')\n",
"//answer is wrong in the textbook"
   ]
   }
,
{
		   "cell_type": "markdown",
		   "metadata": {},
		   "source": [
			"## Example 1.18_2: voltage_of_the_capacitor.sce"
		   ]
		  },
  {
"cell_type": "code",
	   "execution_count": null,
	   "metadata": {
	    "collapsed": true
	   },
	   "outputs": [],
"source": [
"//Example 1.18.2: voltage of the capacitor\n",
"clc;\n",
"clear;\n",
"close;\n",
"format('v',7)\n",
"r=15;//in ohms\n",
"l=12;///inductance in mH\n",
"c=8;//capacitance in micro farads\n",
"v=100;//in volts\n",
"t=((%pi)/(sqrt((1/(l*10^-3*c*10^-6))-(r^2/(4*(l*10^-3)^2)))));// time in seconds\n",
"vc= v*(1-cosd(t/(sqrt(l*10^-3*c*10^-6))));//in volts\n",
"disp(vc,'the capacitor voltage in volts is')\n",
"//this question is not solved in the textbook"
   ]
   }
,
{
		   "cell_type": "markdown",
		   "metadata": {},
		   "source": [
			"## Example 1.20_1: turn_off_time.sce"
		   ]
		  },
  {
"cell_type": "code",
	   "execution_count": null,
	   "metadata": {
	    "collapsed": true
	   },
	   "outputs": [],
"source": [
"//Example 1.20.1: Turn Off Time\n",
"clc;\n",
"clear;\n",
"close;\n",
"//given data :\n",
"format('v',6)\n",
"Vs=200;//in volts\n",
"R1=10;// in ohm\n",
"R2=R1;\n",
"C=5;// in micro-farad\n",
"Tc=(R1*C)/1.44;\n",
"disp(Tc,'The Circuit Turn Off Time,Tc(micro-sec) = ')"
   ]
   }
,
{
		   "cell_type": "markdown",
		   "metadata": {},
		   "source": [
			"## Example 1.20_2: state_thyristor_current_and_circuit_turn_off_time.sce"
		   ]
		  },
  {
"cell_type": "code",
	   "execution_count": null,
	   "metadata": {
	    "collapsed": true
	   },
	   "outputs": [],
"source": [
"//Example 1.20.2: Peak Current and turn off time\n",
"clc;\n",
"clear;\n",
"close;\n",
"format('v',6)\n",
"//given data :\n",
"Vs=200;//in volts\n",
"R1=10;// in ohm\n",
"R2=R1;\n",
"Vc=200;//in volts\n",
"C=10;// in micro-farad\n",
"I1=Vs/R1;\n",
"I2=(Vs+Vc)/R2;\n",
"It1=I1+I2;\n",
"disp(It1,'Peak Current,It1(A) = ')\n",
"Tc=(R1*C)/1.44;\n",
"disp(Tc,'The Circuit Turn Off Time,Tc(micro-sec) = ')"
   ]
   }
,
{
		   "cell_type": "markdown",
		   "metadata": {},
		   "source": [
			"## Example 1.21_1: inductance_and_capacitance.sce"
		   ]
		  },
  {
"cell_type": "code",
	   "execution_count": null,
	   "metadata": {
	    "collapsed": true
	   },
	   "outputs": [],
"source": [
"//Example 1.21.1: L and C\n",
"clc;\n",
"clear;\n",
"close;\n",
"//given data :\n",
"V=100;// in volts\n",
"Irm=40;// in A\n",
"tq=40;// in micro-sec\n",
"Del_t=(50/100)*tq;// in micro-sec\n",
"C=(Irm*(tq+Del_t))/V;\n",
"disp(C,'capacitance,C(micro-farad) = ')\n",
"L_min=(V/Irm)^2*C;\n",
"disp(L_min,'minimum inductance,L_min(micro-Henry) = ')\n",
"T=2.5;// assume one cycle period in ms\n",
"L_max=((0.01*(T*10^-3)^2)/(%pi^2*C*10^-6))*10^6;\n",
"disp(L_max,'Maximum inductance,L_max(micro-Henry) = ')"
   ]
   }
],
"metadata": {
		  "kernelspec": {
		   "display_name": "Scilab",
		   "language": "scilab",
		   "name": "scilab"
		  },
		  "language_info": {
		   "file_extension": ".sce",
		   "help_links": [
			{
			 "text": "MetaKernel Magics",
			 "url": "https://github.com/calysto/metakernel/blob/master/metakernel/magics/README.md"
			}
		   ],
		   "mimetype": "text/x-octave",
		   "name": "scilab",
		   "version": "0.7.1"
		  }
		 },
		 "nbformat": 4,
		 "nbformat_minor": 0
}
