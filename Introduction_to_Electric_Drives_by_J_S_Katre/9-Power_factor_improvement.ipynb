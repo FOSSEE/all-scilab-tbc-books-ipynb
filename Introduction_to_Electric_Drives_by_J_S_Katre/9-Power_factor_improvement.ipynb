{
"cells": [
 {
		   "cell_type": "markdown",
	   "metadata": {},
	   "source": [
       "# Chapter 9: Power factor improvement"
	   ]
	},
{
		   "cell_type": "markdown",
		   "metadata": {},
		   "source": [
			"## Example 9.4_3: plot_the_variatio.sce"
		   ]
		  },
  {
"cell_type": "code",
	   "execution_count": null,
	   "metadata": {
	    "collapsed": true
	   },
	   "outputs": [],
"source": [
"//Example 9.4.3:plot the varaition of average load voltage with firing angle\n",
"clc;\n",
"clear;\n",
"close;\n",
"alpha=[0;30;60;90];//firing angle in degree\n",
"for i=1:4\n",
"    ea(i)=(2/%pi)*cosd(alpha(i));//V\n",
"end\n",
"plot2d(alpha,ea);//\n",
"ylabel('Average load voltage(in terms of Vm)')\n",
"xlabel('Firing angle (alpha)')\n",
"xtitle('Variation of Ea Vs alpha for SAC')"
   ]
   }
,
{
		   "cell_type": "markdown",
		   "metadata": {},
		   "source": [
			"## Example 9.5_1: ISrms_I1rms_FPF_PF_and_HF.sce"
		   ]
		  },
  {
"cell_type": "code",
	   "execution_count": null,
	   "metadata": {
	    "collapsed": true
	   },
	   "outputs": [],
"source": [
"//Example 9.5.1; IS_rms, I1_rms, FPF, PF and HF\n",
"clc;\n",
"clear;\n",
"close;\n",
"format('v',7)\n",
"//given data :\n",
"Vm=230;// in volts\n",
"Ia=12;// in A\n",
"pi=180;\n",
"Av=200;// average load voltage in volts\n",
"alfa=acosd(((Av*%pi)/(Vm*sqrt(2)))-1);\n",
"Is_rms=Ia*sqrt((pi-alfa)/pi);\n",
"disp( '(a)for PAC')\n",
"disp(Is_rms,'(1) Is_rms(A) = ')\n",
"I1_rms=((2*sqrt(2))/%pi)*Ia*cosd(alfa/2);\n",
"disp(I1_rms,'(2) I1_rms(A) = ')\n",
"fi=alfa/2;\n",
"FPF=cosd(fi);\n",
"disp(FPF,'(3) FPF(lag) = ')\n",
"CDF=I1_rms/Is_rms;\n",
"disp(CDF,'(4) CDF = ')\n",
"PF=CDF*FPF;\n",
"disp(PF,'(4) PF (lag)= ')\n",
"HF=sqrt((1/CDF^2)-1);\n",
"disp(HF,'(5) HF = ')\n",
"Vm=230;// in volts\n",
"Ia=12;// in A\n",
"pi=180;\n",
"Av=200;// average load voltage in volts\n",
"alfa=acosd(((Av*%pi)/(2*Vm*sqrt(2))));\n",
"Is_rms=Ia*sqrt((pi-(2*alfa))/pi);\n",
"disp( '(b)for SAC')\n",
"disp(Is_rms,'(1) Is_rms(A) = ')\n",
"I1_rms=((2*sqrt(2))/%pi)*Ia*cosd(alfa);\n",
"disp(I1_rms,'(2) I1_rms(A) = ')\n",
"fi=0;\n",
"FPF=cosd(fi);\n",
"disp(FPF,'(3) FPF = ')\n",
"CDF=I1_rms/Is_rms;\n",
"disp(CDF,'(4) CDF = ')\n",
"//in book CDF is mentioned as DF which is wrongly mentioned\n",
"PF=CDF*FPF;\n",
"disp(PF,'(4) PF (lagging)= ')\n",
"HF=(sqrt((1/CDF^2)-1))*100;\n",
"disp(HF,'(5) HF (%) = ')"
   ]
   }
,
{
		   "cell_type": "markdown",
		   "metadata": {},
		   "source": [
			"## Example 9.5_2: parameters_amd_average_voltage.sce"
		   ]
		  },
  {
"cell_type": "code",
	   "execution_count": null,
	   "metadata": {
	    "collapsed": true
	   },
	   "outputs": [],
"source": [
"//Example 9.5.2;average voltage \n",
"clc;\n",
"clear;\n",
"close;\n",
"format('v',7)\n",
"a1=30;//in degree\n",
"a2=75;//in degree\n",
"b1=60;//in degree\n",
"ia=10;//in amperes\n",
"vsrms=230;//in volts\n",
"b3=180-a1;//\n",
"a3=180-b1;//\n",
"b2=180-a2;//\n",
"alfa=0;//\n",
"vldc=((vsrms*sqrt(2))/%pi)*(cosd(a1)-cosd(b1)+cosd(a2)-cosd(b2)+cosd(a3)-cosd(b3));//\n",
"disp(vldc,'average voltage in volts is')\n",
"Is_rms=ia*((1/180)*(b1-a1+b2-a2+b3-a3))^(1/2);//\n",
"disp(Is_rms,' Is_rms(A) = ')\n",
"I1_rms=((sqrt(2)*ia)/(%pi))*(cosd(a1)-cosd(b1)+cosd(a2)-cosd(b2)+cosd(a3)-cosd(b3));//\n",
"disp(I1_rms,' I1_rms(A) = ')\n",
"fi=alfa;\n",
"FPF=cosd(fi);\n",
"disp(FPF,'FPF = ')\n",
"DF=I1_rms/Is_rms;\n",
"disp(DF,' DF = ')\n",
"PF=DF*FPF;\n",
"disp(PF,' PF(lag)= ')\n",
"HF=sqrt((1/DF^2)-1);\n",
"disp(HF*100,' HF(%) = ')"
   ]
   }
,
{
		   "cell_type": "markdown",
		   "metadata": {},
		   "source": [
			"## Example 9.5_3: parameters.sce"
		   ]
		  },
  {
"cell_type": "code",
	   "execution_count": null,
	   "metadata": {
	    "collapsed": true
	   },
	   "outputs": [],
"source": [
"//Example 9.5.3: IS_rms, I1_rms, PF and HF\n",
"clc;\n",
"clear;\n",
"close;\n",
"//given data :\n",
"Vm=230;// in volts\n",
"Ia=10;// in A\n",
"alpha=%pi/6;//degree\n",
"ea=((2*Vm*sqrt(2))/%pi)*cos(alpha);//\n",
"disp(ea,'average output voltage is,(V)=')\n",
"isrms=Ia*(1-(2*alpha)/%pi)^(1/2);//\n",
"disp(isrms,'rms value of supply current is,(A)=')\n",
"I1rms=((2*sqrt(2)*Ia*cos(alpha))/%pi);//\n",
"disp(I1rms,'rms value of fundamental component of supply current is,(A)=')\n",
"hf=((isrms/I1rms)^2-1)^(1/2);//\n",
"disp(hf*100,'HF of supply current is,(%)=')\n",
"PF=((sqrt(2))*(1+cos(alpha)))/((%pi*(%pi-alpha))^(1/2));//\n",
"disp(PF,'PF (lagging)of supply current is,(%)=')"
   ]
   }
],
"metadata": {
		  "kernelspec": {
		   "display_name": "Scilab",
		   "language": "scilab",
		   "name": "scilab"
		  },
		  "language_info": {
		   "file_extension": ".sce",
		   "help_links": [
			{
			 "text": "MetaKernel Magics",
			 "url": "https://github.com/calysto/metakernel/blob/master/metakernel/magics/README.md"
			}
		   ],
		   "mimetype": "text/x-octave",
		   "name": "scilab",
		   "version": "0.7.1"
		  }
		 },
		 "nbformat": 4,
		 "nbformat_minor": 0
}
