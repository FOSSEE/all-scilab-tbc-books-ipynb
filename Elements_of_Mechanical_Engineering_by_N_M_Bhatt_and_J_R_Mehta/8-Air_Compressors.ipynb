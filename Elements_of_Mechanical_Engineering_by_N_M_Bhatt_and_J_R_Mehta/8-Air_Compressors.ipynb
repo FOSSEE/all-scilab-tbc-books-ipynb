{
"cells": [
 {
		   "cell_type": "markdown",
	   "metadata": {},
	   "source": [
       "# Chapter 8: Air Compressors"
	   ]
	},
{
		   "cell_type": "markdown",
		   "metadata": {},
		   "source": [
			"## Example 8.10_1: Example_10.sce"
		   ]
		  },
  {
"cell_type": "code",
	   "execution_count": null,
	   "metadata": {
	    "collapsed": true
	   },
	   "outputs": [],
"source": [
"clc\n",
"clear\n",
"\n",
"IP=15;\n",
"n=1.2;\n",
"P1=100;\n",
"P2=700;\n",
"x=[(P2/P1)^((n-1)/n)]-1;\n",
"V1N=[IP*(n-1)*60]/[n*P1*x*2];\n",
"LN=150/2;\n",
"D2=V1N*4/[(22/7)*LN];\n",
"D=D2^0.5;\n",
"L=D*1.5;\n",
"printf('D= %2.0f mm',D*1000);\n",
"printf('\n');\n",
"printf('L= %2.0f mm',L*1000);\n",
"printf('\n');"
   ]
   }
,
{
		   "cell_type": "markdown",
		   "metadata": {},
		   "source": [
			"## Example 8.11_1: Example_11.sce"
		   ]
		  },
  {
"cell_type": "code",
	   "execution_count": null,
	   "metadata": {
	    "collapsed": true
	   },
	   "outputs": [],
"source": [
"clc\n",
"clear\n",
"\n",
"P1=1;\n",
"P2=16;\n",
"n=1.3;\n",
"LN=100;\n",
"N=350;\n",
"IP=30;\n",
"Ev=0.95;\n",
"\n",
"L=LN/N;\n",
"x=[((P2/P1)^((n-1)/n))-1];\n",
"V14=[IP*(n-1)*60]/[n*P1*100*x*N];\n",
"Vs=V14/Ev;\n",
"D2=Vs*4/[(22/7)*L];\n",
"D=D2^0.5;\n",
"printf('D= %2.0f mm',D*1000);\n",
"printf('\n');\n",
"printf('L= %2.0f mm',L*1000);\n",
"printf('\n');"
   ]
   }
,
{
		   "cell_type": "markdown",
		   "metadata": {},
		   "source": [
			"## Example 8.1_1: Example_1.sce"
		   ]
		  },
  {
"cell_type": "code",
	   "execution_count": null,
	   "metadata": {
	    "collapsed": true
	   },
	   "outputs": [],
"source": [
"clc\n",
"clear\n",
"P1=100;\n",
"T1=300;\n",
"P2=650;\n",
"n=1.25;\n",
"r=0.05;\n",
"Ev=1-[r*(((P2/P1)^(1/n))-1)];\n",
"printf('Volumetric Efficiency= %2.2f Percent',Ev*100);\n",
"printf('\n');"
   ]
   }
,
{
		   "cell_type": "markdown",
		   "metadata": {},
		   "source": [
			"## Example 8.12_1: Example_12.sce"
		   ]
		  },
  {
"cell_type": "code",
	   "execution_count": null,
	   "metadata": {
	    "collapsed": true
	   },
	   "outputs": [],
"source": [
"clc\n",
"clear\n",
"\n",
"D=0.2;\n",
"L=0.3;\n",
"Vs=(22/7)*(1/4)*D*D*L;\n",
"Vc=0.04*Vs;\n",
"\n",
"V3=Vc;\n",
"P2=9;\n",
"P1=1;\n",
"n=1.3;\n",
"V4=V3*[(P2/P1)^(1/n)];\n",
"V1=Vs+Vc;\n",
"W=[n/(n-1)]*[P1*100]*[V1-V4]*[((P2/P1)^((n-1)/n))-1];\n",
"R=0.287;\n",
"T1=15+273;\n",
"Md=[P1*(V1-V4)*100]/[R*T1];\n",
"Wpkg=W/Md;\n",
"printf('Word done per kg: %3.2f kJ/kg of air',Wpkg);\n",
"printf('\n');\n",
"\n",
"T2=T1*[(P2/P1)^((n-1)/n)];\n",
"G=1.4;\n",
"Q=[(G-n)/(G-1)]*[(R*(T1-T2))/(n-1)];\n",
"printf('Heat Transfereed: %3.2f kJ/kg',Q);\n",
"printf('\n');\n",
"\n",
"Pm=W/Vs;\n",
"printf('Mean Effective Pressure: %3.2f kPa',Pm);\n",
"printf('\n');\n",
"\n",
"Mac=V1/(V1-V4);\n",
"printf('Mass of air compressed to delivered: %3.2f ',Mac);\n",
"printf('\n');\n",
"\n",
"Tf=T1;\n",
"Pf=101.325;\n",
"Vf=[P1*100*(V1-V4)*Tf]/[Pf*T1];\n",
"RPM=500;\n",
"Vf=Vf*RPM;\n",
"printf('FAD at standard condition: %3.2f m^3/min',Vf);\n",
"printf('\n');\n",
"\n",
"IP=[W*RPM]/60;\n",
"Etrans=0.92;\n",
"Emech=0.85;\n",
"Emotor=0.75;\n",
"MP=IP/[Etrans*Emech*Emotor];\n",
"printf('Motor Power: %3.2f kW',MP);\n",
"printf('\n');\n",
"\n",
"MAC=Md*RPM;\n",
"printf('Mass of air compressed: %3.2f kg/min',MAC);\n",
"printf('\n');\n",
"\n",
"ACC=MAC*Mac;\n",
"printf('Air compressed in cylinder: %3.2f kg/min',ACC);\n",
"printf('\n');\n",
"\n",
"printf('End Temperature: %3.2f K',T2);\n",
"printf('\n');"
   ]
   }
,
{
		   "cell_type": "markdown",
		   "metadata": {},
		   "source": [
			"## Example 8.13_1: Example_13.sce"
		   ]
		  },
  {
"cell_type": "code",
	   "execution_count": null,
	   "metadata": {
	    "collapsed": true
	   },
	   "outputs": [],
"source": [
"clc\n",
"clear\n",
"\n",
"Vs=0.015;\n",
"Vc=0.06*Vs;\n",
"V3=Vc;\n",
"n=1.3;\n",
"P2=10;\n",
"P1=1;\n",
"N=280;\n",
"\n",
"V4=V3*[(P2/P1)^(1/n)];\n",
"printf('V4: %3.4f m^3/cycle',V4);\n",
"printf('\n');\n",
"printf('V3: %3.4f m^3/cycle',V3);\n",
"printf('\n');\n",
"\n",
"V1=Vs+Vc;\n",
"printf('V1: %3.4f m^3/cycle',V1);\n",
"printf('\n');\n",
"\n",
"V14=V1-V4;      //Suction Volume\n",
"V2=V1*[(P1/P2)^(1/n)];\n",
"IP=[n/(n-1)]*[P1*100*(V14)]*[((P2/P1)^((n-1)/n))-1]*[N/60];\n",
"printf('IP: %3.0f kW',IP);\n",
"printf('\n');\n",
""
   ]
   }
,
{
		   "cell_type": "markdown",
		   "metadata": {},
		   "source": [
			"## Example 8.14_1: Example_14.sce"
		   ]
		  },
  {
"cell_type": "code",
	   "execution_count": null,
	   "metadata": {
	    "collapsed": true
	   },
	   "outputs": [],
"source": [
"clc\n",
"clear\n",
"\n",
"P2=6;\n",
"P1=0.96;\n",
"n=1.3;\n",
"CV=0.04;\n",
"\n",
"Ev=[1-[CV*[((P2/P1)^(1/n))-1]]]*100;\n",
"printf('Clearance Volumetric Efficiency: %3.1f Percent',Ev);\n",
"printf('\n');\n",
"\n",
"D=0.09;\n",
"L=0.1;\n",
"Vs=(22/7)*(1/4)*(D*D*L);\n",
"Vc=0.04*Vs;\n",
"V4=Vc*[(P2/P1)^(1/n)];\n",
"V1=Vc+Vs;\n",
"EDV=V1-V4;\n",
"printf('Effective Displacement Volume: %3.5f m^3',EDV);\n",
"printf('\n');\n",
"\n",
"T1=313;\n",
"Tf=293;\n",
"Pf=1;\n",
"Vf=[(P1*(EDV)*Tf)]/[T1*Pf];\n",
"N=410;\n",
"FAD=Vf*N*2*60;\n",
"printf('Free air delivered: %3.2f m^3',FAD);\n",
"printf('\n');\n",
"\n",
"W=[n/(n-1)]*[P1*100*(V1-V4)]*[((P2/P1)^((n-1)/n))-1];\n",
"IP=W*2*N/60;\n",
"printf('Indicated Power: %3.2f kW',IP);\n",
"printf('\n');"
   ]
   }
,
{
		   "cell_type": "markdown",
		   "metadata": {},
		   "source": [
			"## Example 8.15_1: Example_15.sce"
		   ]
		  },
  {
"cell_type": "code",
	   "execution_count": null,
	   "metadata": {
	    "collapsed": true
	   },
	   "outputs": [],
"source": [
"clc\n",
"clear\n",
"\n",
"P1=1;\n",
"P2=5;\n",
"T1=27+273;\n",
"m=1;\n",
"R=0.287;\n",
"\n",
"W1=m*R*T1*(log(P2/P1));\n",
"printf('Work in isothermal process: %3.1f kJ',W1);\n",
"printf('\n');\n",
"\n",
"G=1.4;\n",
"W2=[G/(G-1)]*[m*R*T1]*[((P2/P1)^((G-1)/G))-1];\n",
"printf('Work in isentropic process: %3.0f kJ',W2);\n",
"printf('\n');\n",
"\n",
"n=1.25;\n",
"W3=[n/(n-1)]*[m*R*T1]*[((P2/P1)^((n-1)/n))-1];\n",
"printf('Work in polytropic process: %3.1f kJ',W3);\n",
"printf('\n');"
   ]
   }
,
{
		   "cell_type": "markdown",
		   "metadata": {},
		   "source": [
			"## Example 8.16_1: Example_16.sce"
		   ]
		  },
  {
"cell_type": "code",
	   "execution_count": null,
	   "metadata": {
	    "collapsed": true
	   },
	   "outputs": [],
"source": [
"clc\n",
"clear\n",
"\n",
"IP=41;\n",
"P1=1;\n",
"T1=17+273;\n",
"P2=7;\n",
"N=100;\n",
"n=1.2;\n",
"\n",
"L=150/[2*N];\n",
"V1=(22/7)*(1/4)*(L);        //Along with D^2\n",
"W=[n/(n-1)]*[P1*100*V1]*[((P2/P1)^((n-1)/n))-1];\n",
"D2=[IP*60]/[W*2*N];\n",
"D=sqrt(D2);\n",
"printf('D: %3.3f m',D);\n",
"printf('\n');"
   ]
   }
,
{
		   "cell_type": "markdown",
		   "metadata": {},
		   "source": [
			"## Example 8.17_1: Example_17.sce"
		   ]
		  },
  {
"cell_type": "code",
	   "execution_count": null,
	   "metadata": {
	    "collapsed": true
	   },
	   "outputs": [],
"source": [
"clc\n",
"clear\n",
"\n",
"D=0.15;\n",
"L=0.2;\n",
"P1=1;\n",
"T1=17+273;\n",
"P2=7;\n",
"N=100;\n",
"R=0.287;\n",
"V1=(22/7)*(1/4)*D*D*L;\n",
"m=[P1*100*V1]/[R*T1];\n",
"Mpm=m*N;\n",
"n=1.25;\n",
"\n",
"IP=[n/(n-1)]*[P1*100*V1]*[((P2/P1)^((n-1)/n))-1]*[N/60];\n",
"printf('Mass/min: %3.1f Mpm',Mpm);\n",
"printf('\n');\n",
"\n",
"printf('Indicated Power: %3.1f kW',IP);\n",
"printf('\n');\n",
"\n",
"T2=T1*[(P2/P1)^((n-1)/n)];\n",
"printf('T2: %3.1f K',T2);\n",
"printf('\n');"
   ]
   }
,
{
		   "cell_type": "markdown",
		   "metadata": {},
		   "source": [
			"## Example 8.18_1: Example_18.sce"
		   ]
		  },
  {
"cell_type": "code",
	   "execution_count": null,
	   "metadata": {
	    "collapsed": true
	   },
	   "outputs": [],
"source": [
"clc\n",
"clear\n",
"\n",
"D=0.15;\n",
"N=100;\n",
"L=0.2;\n",
"P1=1;\n",
"T1=27+273;\n",
"P2=6;\n",
"n=1.25;\n",
"\n",
"Vs=(22/7)*(1/4)*D*D*L;\n",
"Vc=0.05*Vs;\n",
"V1=Vs+Vc;\n",
"V4=Vc*[(P2/P1)^(1/n)];\n",
"\n",
"IP=[n/(n-1)]*[P1*100*(V1-V4)]*[((P2/P1)^((n-1)/n))-1];\n",
"IPf=IP**(N/60)\n",
"printf('IP: %3.2f kJ',IPf);\n",
"printf('\n');\n",
"\n",
"Pm=IP/Vs;\n",
"printf('Mean Effective Pressure: %3.2f kN/m^2',Pm);\n",
"printf('\n');"
   ]
   }
,
{
		   "cell_type": "markdown",
		   "metadata": {},
		   "source": [
			"## Example 8.19_1: Example_19.sce"
		   ]
		  },
  {
"cell_type": "code",
	   "execution_count": null,
	   "metadata": {
	    "collapsed": true
	   },
	   "outputs": [],
"source": [
"clc\n",
"clear\n",
"\n",
"n=1.2;\n",
"m=5;\n",
"R=0.287;\n",
"T2=107+273;\n",
"T1=27+273;\n",
"IP=[n/(n-1)]*[m/60]*[R*(T2-T1)];\n",
"printf('Air Power: %3.2f kW',IP);\n",
"printf('\n');\n",
"\n",
"BP=14;\n",
"Em=IP*100/BP;\n",
"printf('Mechanical Efficiency: %3.0f Percent',Em);\n",
"printf('\n');"
   ]
   }
,
{
		   "cell_type": "markdown",
		   "metadata": {},
		   "source": [
			"## Example 8.20_1: Example_20.sce"
		   ]
		  },
  {
"cell_type": "code",
	   "execution_count": null,
	   "metadata": {
	    "collapsed": true
	   },
	   "outputs": [],
"source": [
"clc\n",
"clear\n",
"\n",
"V1=50;\n",
"P1=1;\n",
"P2=5.5;\n",
"n=1.3;\n",
"Em=0.82;\n",
"\n",
"IP=[n/(n-1)]*[P1*100*V1]*[((P2/P1)^((n-1)/n))-1]*[1/60];\n",
"BP=IP/Em;\n",
"\n",
"printf('IP: %3.1f kW',IP);\n",
"printf('\n');\n",
"printf('BP: %3.1f kW',BP);\n",
"printf('\n');\n",
"\n",
"IsoP=P1*100*V1*[log(P2/P1)]*(100/60);\n",
"Eo=IsoP/BP;\n",
"printf('Isothermal Efficiecy: %3.1f Percent',Eo);\n",
"printf('\n');"
   ]
   }
,
{
		   "cell_type": "markdown",
		   "metadata": {},
		   "source": [
			"## Example 8.21_1: Example_21.sce"
		   ]
		  },
  {
"cell_type": "code",
	   "execution_count": null,
	   "metadata": {
	    "collapsed": true
	   },
	   "outputs": [],
"source": [
"clc\n",
"clear\n",
"\n",
"P1=1;\n",
"P2=5.5;\n",
"T1=27+273;\n",
"Pa=1.01325;\n",
"Ta=17+273;\n",
"C=0.06;\n",
"n=1.3;\n",
"\n",
"Ev=[(P1*Ta)/(Pa*T1)]*[1+C-(C*((P2/P1)^(1/n)))];\n",
"printf('Volumetric Efficiency: %3.0f Percent',Ev*100);\n",
"printf('\n');"
   ]
   }
,
{
		   "cell_type": "markdown",
		   "metadata": {},
		   "source": [
			"## Example 8.2_1: Example_2.sce"
		   ]
		  },
  {
"cell_type": "code",
	   "execution_count": null,
	   "metadata": {
	    "collapsed": true
	   },
	   "outputs": [],
"source": [
"clc\n",
"clear\n",
"\n",
"D=0.24;\n",
"LN=5/6;\n",
"P1=100;\n",
"P2=1000;\n",
"n=1.35;\n",
"\n",
"A=(22/7)*(1/4)*D*D;\n",
"\n",
"IP=[n/(n-1)]*[P1*A*LN]*[((P2/P1)^((n-1)/n))-1];\n",
"printf('Indicated Power= %2.2f kW',IP);\n",
"printf('\n');"
   ]
   }
,
{
		   "cell_type": "markdown",
		   "metadata": {},
		   "source": [
			"## Example 8.22_1: Example_22.sce"
		   ]
		  },
  {
"cell_type": "code",
	   "execution_count": null,
	   "metadata": {
	    "collapsed": true
	   },
	   "outputs": [],
"source": [
"clc\n",
"clear\n",
"\n",
"V14=7.5;\n",
"P1=1;\n",
"T1=27+273;\n",
"P2=5.5;\n",
"n=1.3;\n",
"C=0.06;\n",
"\n",
"T2=T1*[(P2/P1)^((n-1)/n)];\n",
"printf('T2: %3.1f K',T2);\n",
"printf('\n');\n",
"\n",
"Ev=1+C-[C*((P2/P1)^((1/n)))];\n",
"printf('Vol Eff: %3.1f Percent',Ev*100);\n",
"printf('\n');\n",
"\n",
"AP=[n/(n-1)]*[P1*100*V14/60]*[((P2/P1)^((n-1)/n))-1];\n",
"printf('Air Power: %3.1f kW',AP);\n",
"printf('\n');\n",
"\n",
"Em=0.9;\n",
"BP=AP/Em;\n",
"printf('BP: %3.1f kW',BP);\n",
"printf('\n');\n",
"\n",
"Emot=0.96;\n",
"EMC=BP/Emot;\n",
"printf('Electric Motor Capacity: %3.1f kW',EMC);\n",
"printf('\n');"
   ]
   }
,
{
		   "cell_type": "markdown",
		   "metadata": {},
		   "source": [
			"## Example 8.23_1: Example_23.sce"
		   ]
		  },
  {
"cell_type": "code",
	   "execution_count": null,
	   "metadata": {
	    "collapsed": true
	   },
	   "outputs": [],
"source": [
"clc\n",
"clear\n",
"\n",
"V1=5;\n",
"P1=1;\n",
"P2=5;\n",
"n=1.25;\n",
"Em=0.9;\n",
"IP=[n/(n-1)]*[P1*100*V1/60]*[((P2/P1)^((n-1)/n))-1];\n",
"SP=IP/Em;\n",
"printf('Shaft Power: %3.1f kW',SP);\n",
"printf('\n');\n",
"\n",
"IsoP=P1*100*V1*(log(P2/P1))*(1/60);\n",
"Eo=IsoP/SP;\n",
"printf('Overall Efficiency: %3.0f Percent',Eo*100);\n",
"printf('\n');"
   ]
   }
,
{
		   "cell_type": "markdown",
		   "metadata": {},
		   "source": [
			"## Example 8.24_1: Example_24.sce"
		   ]
		  },
  {
"cell_type": "code",
	   "execution_count": null,
	   "metadata": {
	    "collapsed": true
	   },
	   "outputs": [],
"source": [
"clc\n",
"clear\n",
"\n",
"V1=25;\n",
"P1=1;\n",
"P2=7;\n",
"N=460;\n",
"Em=0.8;\n",
"Ev=0.76;\n",
"Ei=0.81;\n",
"\n",
"IsoP=P1*100*V1*(log(P2/P1));\n",
"IndP=IsoP/Ei;\n",
"Vs=V1/Ev;\n",
"Pm=IndP/Vs;\n",
"BP=IndP/(3600*Em);\n",
"\n",
"printf('Mean Effective Pressure: %3.2f bar',Pm/100);\n",
"printf('\n');\n",
"\n",
"printf('BP: %3.2f kW',BP);\n",
"printf('\n');"
   ]
   }
,
{
		   "cell_type": "markdown",
		   "metadata": {},
		   "source": [
			"## Example 8.25_1: Example_25.sce"
		   ]
		  },
  {
"cell_type": "code",
	   "execution_count": null,
	   "metadata": {
	    "collapsed": true
	   },
	   "outputs": [],
"source": [
"clc\n",
"clear\n",
"\n",
"Va=3;\n",
"Pa=1;\n",
"Ta=17+273;\n",
"P2=8.2;\n",
"N=300;\n",
"n=1.35\n",
"LD=1.2;\n",
"Em=0.9;\n",
"C=0.05;\n",
"\n",
"P1=Pa-0.05;\n",
"T1=Ta+10;\n",
"V14=[Pa*Va*T1]/[P1*Ta];\n",
"\n",
"IP=[n/(n-1)]*[P1*100*V14/60]*[((P2/P1)^((n-1)/n))-1];\n",
"BP=IP/Em;\n",
"printf('BP: %3.1f kW',BP);\n",
"printf('\n');\n",
"\n",
"Ev=1+C-[C*((P2/P1)^(1/n))];\n",
"printf('Volumetric Efficiency: %3.1f Percent',Ev*100);\n",
"printf('\n');\n",
"\n",
"Vs=(22/7)*(1/4)*LD;\n",
"VsMin=Vs*2*N;\n",
"D3=V14/[VsMin*Ev];\n",
"D=D3^(1/3);\n",
"printf('Cylinder Diameter: %3.0f mm',D*1000);\n",
"printf('\n');"
   ]
   }
,
{
		   "cell_type": "markdown",
		   "metadata": {},
		   "source": [
			"## Example 8.26_1: Example_26.sce"
		   ]
		  },
  {
"cell_type": "code",
	   "execution_count": null,
	   "metadata": {
	    "collapsed": true
	   },
	   "outputs": [],
"source": [
"clc\n",
"clear\n",
"\n",
"V1=1;\n",
"P1=1.013;\n",
"T1=15+273;\n",
"P2=7;\n",
"R=0.287;\n",
"n=1.35;\n",
"\n",
"m=[P1*100*V1]/[R*T1];\n",
"printf('Mass of air per minute: %3.1f kg',m);\n",
"printf('\n');\n",
"\n",
"T2=T1*[((P2/P1)^((n-1)/n))];\n",
"printf('T2: %3.1f K',T2);\n",
"printf('\n');\n",
"\n",
"IP=[n/(n-1)]*[P1*100*V1/60]*[((P2/P1)^((n-1)/n))-1];\n",
"printf('IP: %3.1f kW',IP);\n",
"printf('\n');\n",
"\n",
"IsoP=P1*100*V1*(1/60)*log(P2/P1);\n",
"Ei=IsoP/IP;\n",
"printf('Isothermal Efficiency: %3.0f Percent',Ei*100);\n",
"printf('\n');"
   ]
   }
,
{
		   "cell_type": "markdown",
		   "metadata": {},
		   "source": [
			"## Example 8.27_1: Example_27.sce"
		   ]
		  },
  {
"cell_type": "code",
	   "execution_count": null,
	   "metadata": {
	    "collapsed": true
	   },
	   "outputs": [],
"source": [
"clc\n",
"clear\n",
"\n",
"P1=1.013;\n",
"T1=15+273;\n",
"P2=7;\n",
"FAD=0.3;\n",
"G=1.4;\n",
"\n",
"IP=[G/(G-1)]*[P1*100*FAD/60]*[((P2/P1)^((G-1)/G))-1];\n",
"printf('For Isentropic process \n');\n",
"printf('IP: %3.1f kW',IP);\n",
"printf('\n');\n",
"\n",
"T2=T1*[(P2/P1)^((G-1)/G)];\n",
"printf('T2: %3.0f K',T2);\n",
"printf('\n');\n",
"\n",
"printf('For Reversible Isothermal process \n');\n",
"IP=P1*100*FAD*(1/60)*[log(P2/P1)];\n",
"printf('IP: %3.3f kW',IP);\n",
"printf('\n');\n",
"\n",
"T2=T1;\n",
"printf('T2: %3.0f K',T2);\n",
"printf('\n');\n",
"\n",
"printf('For Polytropic process \n');\n",
"n=1.25\n",
"IP=[n/(n-1)]*[P1*100*FAD/60]*[((P2/P1)^((n-1)/n))-1];\n",
"printf('IP: %3.3f kW',IP);\n",
"printf('\n');\n",
"\n",
"T2=T1*[(P2/P1)^((n-1)/n)];\n",
"printf('T2: %3.2f K',T2);\n",
"printf('\n');"
   ]
   }
,
{
		   "cell_type": "markdown",
		   "metadata": {},
		   "source": [
			"## Example 8.28_1: Example_28.sce"
		   ]
		  },
  {
"cell_type": "code",
	   "execution_count": null,
	   "metadata": {
	    "collapsed": true
	   },
	   "outputs": [],
"source": [
"clc\n",
"clear\n",
"\n",
"V1=94;\n",
"P1=1;\n",
"T1=25+273;\n",
"P2=9;\n",
"\n",
"printf('For isothermal process \n');\n",
"T2=T1;\n",
"printf('T2: %3.0f K',T2);\n",
"printf('\n');\n",
"\n",
"P=P1*100*V1*log(P2/P1);\n",
"printf('Power required: %3.0f kW',P/60);\n",
"printf('\n');\n",
"\n",
"Q=P;\n",
"printf('Heat Rejected: %3.0f KW',Q/60);\n",
"printf('\n');\n",
"\n",
"printf('\n For adiabatic process \n');\n",
"G=1.4;\n",
"T2=T1*[(P2/P1)^((G-1)/G)];\n",
"printf('T2: %3.0f K',T2);\n",
"printf('\n');\n",
"\n",
"P=[G/(G-1)]*[P1*100*V1/60]*[((P2/P1)^((G-1)/G))-1];\n",
"printf('Power required: %3.0f kW',P);\n",
"printf('\n');\n",
"\n",
"Q=0;\n",
"printf('Heat Rejected: %3.0f kW',Q);\n",
"printf('\n');\n",
"\n",
"printf('\n For adiabatic process \n');\n",
"n=1.25;\n",
"T2=T1*[(P2/P1)^((n-1)/n)];\n",
"printf('T2: %3.0f K',T2);\n",
"printf('\n');\n",
"\n",
"P=[n/(n-1)]*[P1*100*V1/60]*[((P2/P1)^((n-1)/n))-1];\n",
"printf('Power required: %3.0f kW',P);\n",
"printf('\n');\n",
"\n",
"R=0.287;\n",
"Cp=1.005;\n",
"\n",
"m=[P1*100*V1]/[R*T1];\n",
"H=m*(1/60)*Cp*(T2-T1);\n",
"Q=H-P;\n",
"printf('Heat Rejected: %3.0f kW',Q);\n",
"printf('\n');"
   ]
   }
,
{
		   "cell_type": "markdown",
		   "metadata": {},
		   "source": [
			"## Example 8.29_1: Example_29.sce"
		   ]
		  },
  {
"cell_type": "code",
	   "execution_count": null,
	   "metadata": {
	    "collapsed": true
	   },
	   "outputs": [],
"source": [
"clc\n",
"clear\n",
"\n",
"P1=1;\n",
"P2=12;\n",
"n=1.3;\n",
"N=350;\n",
"L=180/(2*N);\n",
"IP=30;\n",
"Ev=0.92;\n",
"\n",
"W=[n/(n-1)]*[P1*100]*[((P2/P1)^((n-1)/n))-1];   //with (V1-V4)\n",
"V14=[IP*60]/[N*W];\n",
"Vs=V14/Ev;\n",
"D2=Vs*4/[(22/7)*L];\n",
"D=sqrt(D2);\n",
"printf('D: %3.3f m',D);\n",
"printf('\n');\n",
"printf('L: %3.3f m',L);\n",
"printf('\n');"
   ]
   }
,
{
		   "cell_type": "markdown",
		   "metadata": {},
		   "source": [
			"## Example 8.30_1: Example_30.sce"
		   ]
		  },
  {
"cell_type": "code",
	   "execution_count": null,
	   "metadata": {
	    "collapsed": true
	   },
	   "outputs": [],
"source": [
"clc\n",
"clear\n",
"\n",
"m=1;\n",
"P1=1;\n",
"P2=5;\n",
"T1=27+273;\n",
"n=1.25;\n",
"R=0.287;\n",
"\n",
"W=m*R*T1*log(P2/P1);\n",
"printf('Work Done for Isothermal Process: %3.2f kJ/kg \n\n',W);\n",
"printf('\n');\n",
"\n",
"G=1.4;\n",
"W=[G/(G-1)]*[m*R*T1]*[((P2/P1)^((G-1)/G))-1];\n",
"printf('Work Done for Isentropic Process: %3.2f kJ/kg \n\n',W);\n",
"printf('\n');\n",
"\n",
"W=[n/(n-1)]*[m*R*T1]*[((P2/P1)^((n-1)/n))-1];\n",
"printf('Work Done for Polytropic Process: %3.2f kJ/kg \n\n',W);\n",
"printf('\n');"
   ]
   }
,
{
		   "cell_type": "markdown",
		   "metadata": {},
		   "source": [
			"## Example 8.31_1: Example_31.sce"
		   ]
		  },
  {
"cell_type": "code",
	   "execution_count": null,
	   "metadata": {
	    "collapsed": true
	   },
	   "outputs": [],
"source": [
"clc\n",
"clear\n",
"\n",
"D=0.15;\n",
"L=0.3;\n",
"P1=1;\n",
"T1=27+273;\n",
"P2=8;\n",
"N=120;\n",
"G=1.4;\n",
"R=0.287;\n",
"Vs=(22/7)*(1/4)*D*D*L;\n",
"\n",
"m=[P1*100*Vs]/[R*T1];\n",
"printf('Mass of air compressed per cycle: %3.4f kJ/cycle ',m);\n",
"printf('\n');\n",
"\n",
"W=[G/(G-1)]*[P1*100*Vs]*[((P2/P1)^((G-1)/G))-1];\n",
"printf('Work required per cycle: %3.3f kJ/cycle ',W);\n",
"printf('\n');\n",
"\n",
"P=(W*N)/60;\n",
"printf('Power required to drive compressor: %3.2f kJ/cycle ',P);\n",
"printf('\n');"
   ]
   }
,
{
		   "cell_type": "markdown",
		   "metadata": {},
		   "source": [
			"## Example 8.3_1: Example_3.sce"
		   ]
		  },
  {
"cell_type": "code",
	   "execution_count": null,
	   "metadata": {
	    "collapsed": true
	   },
	   "outputs": [],
"source": [
"clc\n",
"clear\n",
"\n",
"N=300;\n",
"D=0.2;\n",
"L=0.24;\n",
"P1=1.01325;\n",
"P2=8*1.01325;\n",
"n=1.35;\n",
"Et=0.96;\n",
"Em=0.85;\n",
"Vs=(22/7)*(1/4)*D*D*L;\n",
"\n",
"IP=[n/(n-1)]*[P1*Vs]*[N/60]*[((P2/P1)^((n-1)/n))-1];\n",
"printf('Indicated Power= %2.1f kW',IP*100);\n",
"printf('\n');\n",
"\n",
"BP=IP/(Et*Em);\n",
"printf('Brake Power= %2.1f kW',BP*100);\n",
"printf('\n');"
   ]
   }
,
{
		   "cell_type": "markdown",
		   "metadata": {},
		   "source": [
			"## Example 8.4_1: Example_4.sce"
		   ]
		  },
  {
"cell_type": "code",
	   "execution_count": null,
	   "metadata": {
	    "collapsed": true
	   },
	   "outputs": [],
"source": [
"clc\n",
"clear\n",
"\n",
"n=1.35;\n",
"P1=1.013;\n",
"V1=1/60;\n",
"P2=7;\n",
"Et=0.85;\n",
"Em=0.9;\n",
"\n",
"IP=[n/(n-1)]*[P1*100*V1]*[((P2/P1)^((n-1)/n))-1];\n",
"printf('Indicated Power= %2.1f kW',IP);\n",
"printf('\n');\n",
"\n",
"BP=IP/(Et*Em);\n",
"printf('Brake Power= %2.1f kW',BP);\n",
"printf('\n');"
   ]
   }
,
{
		   "cell_type": "markdown",
		   "metadata": {},
		   "source": [
			"## Example 8.5_1: Example_5.sce"
		   ]
		  },
  {
"cell_type": "code",
	   "execution_count": null,
	   "metadata": {
	    "collapsed": true
	   },
	   "outputs": [],
"source": [
"clc\n",
"clear\n",
"\n",
"n=1.2;\n",
"P1=1;\n",
"P2=6;\n",
"Vs=1.5/60;\n",
"\n",
"IP=[n/(n-1)]*[P1*100*Vs]*[((P2/P1)^((n-1)/n))-1];\n",
"printf('Indicated Power= %2.1f kW',IP);\n",
"printf('\n');\n",
"MP=6.55;\n",
"Em=IP/MP;\n",
"printf('Mechanical Efficiency= %2.1f Percent',Em*100);\n",
"printf('\n');"
   ]
   }
,
{
		   "cell_type": "markdown",
		   "metadata": {},
		   "source": [
			"## Example 8.6_1: Example_6.sce"
		   ]
		  },
  {
"cell_type": "code",
	   "execution_count": null,
	   "metadata": {
	    "collapsed": true
	   },
	   "outputs": [],
"source": [
"clc\n",
"clear\n",
"\n",
"N=300;\n",
"V14=14/(2*N);\n",
"Vs=0.023/(1.05-0.22);\n",
"n=1.3;\n",
"P1=1.013;\n",
"P2=7;\n",
"IP=[n/(n-1)]*[P1*100*V14]*[((P2/P1)^((n-1)/n))-1]*[2*N/60];\n",
"printf('Indicated Power= %2.1f kW',IP);\n",
"printf('\n');\n",
"\n",
"T1=288;\n",
"T2=T1*[(P2/P1)^((n-1)/n)];\n",
"printf('Delivery Temperature= %2.0f K',T2);\n",
"printf('\n');\n",
"\n",
"printf('Swept Volume= %2.4f m^3',Vs);\n",
"printf('\n');"
   ]
   }
,
{
		   "cell_type": "markdown",
		   "metadata": {},
		   "source": [
			"## Example 8.7_1: Example_7.sce"
		   ]
		  },
  {
"cell_type": "code",
	   "execution_count": null,
	   "metadata": {
	    "collapsed": true
	   },
	   "outputs": [],
"source": [
"clc\n",
"clear\n",
"\n",
"P1=1;\n",
"P2=10;\n",
"Vs=0.015;\n",
"FAD=3;\n",
"Vc=Vs*0.06;\n",
"n=1.3;\n",
"T1=20+273;\n",
"\n",
"IP=[n/(n-1)]*[P1*100*3]*[((P2/P1)^((n-1)/n))-1];\n",
"printf('Indicated Power= %2.1f kW',IP/60);\n",
"printf('\n');\n",
"\n",
"V4=Vc*[(P2/P1)^(1/n)];\n",
"V1=Vs+Vc;\n",
"V14=0.0107;\n",
"RS=3/V14;\n",
"printf('Rotation Speed= %2.0f RPM',RS);\n",
"printf('\n');\n",
"Tf=288;\n",
"Pf=101.325;\n",
"Vf=[P1*100*(FAD)*Tf]/[T1*Pf];\n",
"printf('Vf= %2.4f m^3/min',Vf);\n",
"printf('\n');\n",
"\n",
"Mcd=V1/(V14);\n",
"printf('Mcd= %2.1f ',Mcd);\n",
"printf('\n');"
   ]
   }
,
{
		   "cell_type": "markdown",
		   "metadata": {},
		   "source": [
			"## Example 8.8_1: Example_8.sce"
		   ]
		  },
  {
"cell_type": "code",
	   "execution_count": null,
	   "metadata": {
	    "collapsed": true
	   },
	   "outputs": [],
"source": [
"clc\n",
"clear\n",
"\n",
"P1=1;\n",
"P2=10;\n",
"Vs=0.014;\n",
"n=1.3;\n",
"V1=3;\n",
"FAD=3;\n",
"\n",
"W=[n/(n-1)]*[P1*100*V1/60]*[((P2/P1)^((n-1)/n))-1];\n",
"printf('Power required= %2.1f kW',W);\n",
"printf('\n');\n",
"\n",
"RPM=FAD/Vs;\n",
"printf('Rotational Speed= %2.0f rpm',RPM);\n",
"printf('\n');"
   ]
   }
,
{
		   "cell_type": "markdown",
		   "metadata": {},
		   "source": [
			"## Example 8.9_1: Example_9.sce"
		   ]
		  },
  {
"cell_type": "code",
	   "execution_count": null,
	   "metadata": {
	    "collapsed": true
	   },
	   "outputs": [],
"source": [
"clc\n",
"clear\n",
"\n",
"Vs=5.665/600;\n",
"Vc=0.04*Vs;\n",
"V3=Vc;\n",
"n=1.3;\n",
"P3=5.6;\n",
"P2=0.97;\n",
"V4=V3*[(P3/P2)^(1/n)];\n",
"V1=Vs+Vc;\n",
"Vd=V1-V4;\n",
"T1=300;\n",
"Tf=288;\n",
"P1=0.96;\n",
"Pf=1.01325;\n",
"Vf=[Tf*P1*Vd]/[Pf*T1];\n",
"Mcd=V1/(Vd);\n",
"printf('Vf= %2.4f m^3/cycle',Vf);\n",
"printf('\n');\n",
"printf('Mc/Md= %2.2f ',Mcd);\n",
"printf('\n');\n",
"\n",
"N=600;\n",
"W=[n/(n-1)]*[P1*100*Vd]*[((P3/P1)^((n-1)/n))-1];\n",
"IP=W*N/60;\n",
"printf('Indicated Power= %2.2f kW',IP);\n",
"printf('\n');"
   ]
   }
],
"metadata": {
		  "kernelspec": {
		   "display_name": "Scilab",
		   "language": "scilab",
		   "name": "scilab"
		  },
		  "language_info": {
		   "file_extension": ".sce",
		   "help_links": [
			{
			 "text": "MetaKernel Magics",
			 "url": "https://github.com/calysto/metakernel/blob/master/metakernel/magics/README.md"
			}
		   ],
		   "mimetype": "text/x-octave",
		   "name": "scilab",
		   "version": "0.7.1"
		  }
		 },
		 "nbformat": 4,
		 "nbformat_minor": 0
}
