{
"cells": [
 {
		   "cell_type": "markdown",
	   "metadata": {},
	   "source": [
       "# Chapter 6: Heat Engines"
	   ]
	},
{
		   "cell_type": "markdown",
		   "metadata": {},
		   "source": [
			"## Example 6.10_1: Example_10.sce"
		   ]
		  },
  {
"cell_type": "code",
	   "execution_count": null,
	   "metadata": {
	    "collapsed": true
	   },
	   "outputs": [],
"source": [
"clc\n",
"clear\n",
"\n",
"T3=1350+273;        //in K\n",
"T1=30+273;          //in K\n",
"Qs=750;         //in kJ/kg\n",
"Cv=0.718;\n",
"G=1.4;\n",
"\n",
"//For Process 2-3\n",
"T2=T3-(Qs/Cv);\n",
"r=(T2/T1)^(1/(G-1));\n",
"printf('The compression Ratio is %3.2f ',r);\n",
"printf('\n');\n",
"\n",
"Eff=100*(1-(1/(r^(G-1))));\n",
"printf('The Efficiency is %3.1f Percent',Eff);\n",
"printf('\n');\n",
"\n",
"W=Eff*Qs/100;\n",
"printf('The Work Output is %3.0f kJ/kg',W);\n",
"printf('\n');\n",
"\n",
"P21=(r^G);\n",
"P32=T3/T2;\n",
"P31=P21*P32;\n",
"printf('Ratio of maximum to minimum pressure is %3.2f ',P31);\n",
"printf('\n');"
   ]
   }
,
{
		   "cell_type": "markdown",
		   "metadata": {},
		   "source": [
			"## Example 6.11_1: Example_11.sce"
		   ]
		  },
  {
"cell_type": "code",
	   "execution_count": null,
	   "metadata": {
	    "collapsed": true
	   },
	   "outputs": [],
"source": [
"clc\n",
"clear\n",
"\n",
"Vs=500;         //in cm^3\n",
"Vc=55;          //in cm^3\n",
"T1=30+273;      //in K\n",
"P1=1;           //in bar\n",
"T3=1450+273;        //in K\n",
"G=1.4;\n",
"R=0.287;\n",
"Cv=0.718;\n",
"r=(Vs+Vc)/Vc;\n",
"Eff=100*(1-(1/(r^(G-1))));\n",
"printf('The standard air Efficiency is %3.2f Percent',Eff);\n",
"printf('\n');\n",
"\n",
"T2=T1*(r^(G-1));\n",
"Qs=Cv*(T3-T2);\n",
"W=Eff*Qs;\n",
"\n",
"V1=Vc+Vs;\n",
"m=(P1*100*V1*(10^-6))/(R*T1);\n",
"Pm=(W*m)/(100*(Vs*(10^-6)));\n",
"printf('The Mean Effective Pressure is %3.1f kPa',Pm);\n",
"printf('\n');"
   ]
   }
,
{
		   "cell_type": "markdown",
		   "metadata": {},
		   "source": [
			"## Example 6.1_1: Example_1.sce"
		   ]
		  },
  {
"cell_type": "code",
	   "execution_count": null,
	   "metadata": {
	    "collapsed": true
	   },
	   "outputs": [],
"source": [
"clc\n",
"clear\n",
"m=1;        //in kg\n",
"R=0.287;    //Universal Gas Constant\n",
"r=7;        //Compression Ratio\n",
"P1=1;       //in bar\n",
"T1=24+273;  //in K\n",
"T3=2000;    //in K\n",
"G=1.4;      //Gamma\n",
"ASE=(1-(1/(r)^(G-1)))*100;\n",
"printf('Air Standard Efficiency is %3.1f Percent',ASE);\n",
"printf('\n');\n",
"P2=P1*(r)^G;\n",
"printf('Pressure at end of Compression is %3.2f Bar',P2);\n",
"printf('\n');\n",
"T2=T1*((r)^(G-1));\n",
"printf('Temperature at end of Compression is %3.2f K',T2);\n",
"printf('\n');\n",
"Cv=0.718;\n",
"Q=Cv*(T3-T2);\n",
"printf('Heat Supplied is %3.2f kJ/kg',Q);\n",
"printf('\n');\n",
"W=ASE*Q/100;\n",
"V1=(m*R*T1)/(P1*100);\n",
"V2=V1/r;\n",
"V=V1-V2;\n",
"Pm=W/V;\n",
"printf('Mean Effective Pressure is %3.2f kPa',Pm);\n",
"printf('\n');"
   ]
   }
,
{
		   "cell_type": "markdown",
		   "metadata": {},
		   "source": [
			"## Example 6.12_1: Example_12.sce"
		   ]
		  },
  {
"cell_type": "code",
	   "execution_count": null,
	   "metadata": {
	    "collapsed": true
	   },
	   "outputs": [],
"source": [
"clc\n",
"clear\n",
"\n",
"r=6;        //Compression Ratio\n",
"T1=20+273;  //in K\n",
"G=1.4;\n",
"Cv=0.718;\n",
"Qs=1900;\n",
"Eff=100*(1-(1/(r^(G-1))));\n",
"printf('The Efficiency is %3.2f Percent',Eff);\n",
"printf('\n');\n",
"\n",
"T2=T1*(r^(G-1));\n",
"printf('The value of T2 is %3.0f K',T2);\n",
"printf('\n');\n",
"\n",
"T3=(Qs/Cv)+T2;\n",
"printf('The value of T3 is %3.0f K',T3);\n",
"printf('\n');\n",
"\n",
"T4=T3/(r^(G-1));\n",
"printf('The value of T4 is %3.0f K',T4);\n",
"printf('\n');\n",
"\n",
"W=Qs*Eff/100;\n",
"printf('The Work Output is %3.0f kJ/kg',W);\n",
"printf('\n');"
   ]
   }
,
{
		   "cell_type": "markdown",
		   "metadata": {},
		   "source": [
			"## Example 6.13_1: Example_13.sce"
		   ]
		  },
  {
"cell_type": "code",
	   "execution_count": null,
	   "metadata": {
	    "collapsed": true
	   },
	   "outputs": [],
"source": [
"clc\n",
"clear\n",
"\n",
"D=0.1;      //Diameter\n",
"L=0.12;     //Length\n",
"V=(22/7)*(1/4)*D*D*L;\n",
"T1=19+273;\n",
"r=6.5;      //Compression ratio\n",
"P1=1;       //in bar\n",
"G=1.4;      //Gamma\n",
"Vs=9.425*(10^-4);\n",
"Vc=Vs/(r-1);\n",
"V1=Vc+Vs;\n",
"printf('V1= %3.5f m^3',V1);\n",
"printf('\n');\n",
"\n",
"V2=Vc;\n",
"V3=Vc;\n",
"P2=P1*(r^G);\n",
"printf('P2= %3.1f bar',P2);\n",
"printf('\n');\n",
"\n",
"T2=T1*(r^(G-1));\n",
"printf('T2= %3.1f K',T2);\n",
"printf('\n');\n",
"\n",
"//For process 2-3\n",
"Qs=1900;\n",
"Cv=0.718;\n",
"T3=(Qs/Cv)+T2;\n",
"printf('T3= %3.1f K',T3);\n",
"printf('\n');\n",
"\n",
"P3=P2*(T3/T2);\n",
"printf('P3= %3.1f bar',P3);\n",
"printf('\n');\n",
"\n",
"//For process 4-1\n",
"V4=V1;\n",
"P4=P3*((V3/V4)^G);\n",
"printf('P4= %3.1f bar',P4);\n",
"printf('\n');\n",
"\n",
"T4=T1*(P4/P1);\n",
"printf('T4= %3.1f K',T4);\n",
"printf('\n');\n",
"\n",
"Eff=100*(1-(1/(r^(G-1))));\n",
"printf('Efficiency= %3.1f Percent',Eff);\n",
"printf('\n');\n",
"\n",
"R=0.287;\n",
"m=(P1*100*V1)/(R*T1);\n",
"Pm=(Eff*Qs*m)/(10000*Vs);\n",
"printf('Mean Effective Pressure= %3.1f bar',Pm);\n",
"printf('\n');"
   ]
   }
,
{
		   "cell_type": "markdown",
		   "metadata": {},
		   "source": [
			"## Example 6.14_1: Example_14.sce"
		   ]
		  },
  {
"cell_type": "code",
	   "execution_count": null,
	   "metadata": {
	    "collapsed": true
	   },
	   "outputs": [],
"source": [
"clc\n",
"clear\n",
"\n",
"P1=1;       //in bar\n",
"T1=20+273;      //in K\n",
"P2=39;      //in bar\n",
"P3=P2;\n",
"T3=1100+273;        //in K\n",
"G=1.4;\n",
"\n",
"//For reversible Adiabatic Process 1-2\n",
"T2=T1*((P2/P1)^((G-1)/G));\n",
"r=(P2/P1)^(1/G);\n",
"\n",
"Z=T3/T2;\n",
"\n",
"Eff=100*(1-((1/(r^(G-1)))*(1/G)*((Z^G)-1)/(Z-1)));\n",
"printf('Efficiency: %2.2f Percent',Eff);\n",
"printf('\n');"
   ]
   }
,
{
		   "cell_type": "markdown",
		   "metadata": {},
		   "source": [
			"## Example 6.15_1: Example_15.sce"
		   ]
		  },
  {
"cell_type": "code",
	   "execution_count": null,
	   "metadata": {
	    "collapsed": true
	   },
	   "outputs": [],
"source": [
"clc\n",
"clear\n",
"\n",
"r=16;       //Compression Ratio\n",
"D=0.21;     //Diameter\n",
"L=0.3;      //Length\n",
"P1=1;       //in bar\n",
"G=1.4;\n",
"T1=17+273;  //in K\n",
"Z=[0.1*(r-1)+1];\n",
"Vs=(22/7)*(1/4)*D*D*L;\n",
"Vc=Vs/15;\n",
"V2=Vc;\n",
"printf('Vc= V2= %2.6f m^3',Vc);\n",
"printf('\n');\n",
"V1=Vc+Vs;\n",
"printf('V1= %2.4f m^3',V1);\n",
"printf('\n');\n",
"V3=(0.1*(Vs))+(V2);\n",
"printf('V3= %2.4f m^3',V3);\n",
"printf('\n');\n",
"\n",
"//For Process 1-2\n",
"P2=r^G;\n",
"printf('P2= %2.1f bar',P2);\n",
"printf('\n');\n",
"\n",
"T2=T1*(r^(G-1));\n",
"printf('T2= %2.1f K',T2);\n",
"printf('\n');\n",
"\n",
"T3=Z*T2;\n",
"printf('T3= %2.1f K',T3);\n",
"printf('\n');\n",
"\n",
"P3=P2;\n",
"P4=P3*((V3/V1)^G);\n",
"printf('P4= %2.1f bar',P4);\n",
"printf('\n');\n",
"\n",
"T4=T3*((V3/V1)^(G-1));\n",
"printf('T4= %2.1f K',T4);\n",
"printf('\n');\n",
"\n",
"Cv=0.718;\n",
"Cp=1.005;\n",
"\n",
"Eff=100*(1-((Cv*(T4-T1))/(Cp*(T3-T2))));\n",
"printf('Efficiency: %2.1f Percent',Eff);\n",
"printf('\n');\n",
"\n",
"R=0.287;\n",
"m=(P1*100*V1)/(R*T1);\n",
"Pm=(m*((Cp*(T3-T2))-(Cv*(T4-T1))))/(Vs);\n",
"printf('Mean Effective Pressure= %2.1f kPa',Pm);\n",
"printf('\n');\n",
"\n",
"N=300;          //Cycles per minute\n",
"W=10.41;\n",
"EP=W*(N/60);\n",
"printf('Engine Power= %2.2f kW',EP);\n",
"printf('\n');"
   ]
   }
,
{
		   "cell_type": "markdown",
		   "metadata": {},
		   "source": [
			"## Example 6.16_1: Example_16.sce"
		   ]
		  },
  {
"cell_type": "code",
	   "execution_count": null,
	   "metadata": {
	    "collapsed": true
	   },
	   "outputs": [],
"source": [
"clc\n",
"clear\n",
"\n",
"r=19;       //Compression Ratio\n",
"P1=1;       //in bar\n",
"T1=17+273;  //in K\n",
"Qs=730;     //in kJ/cycle\n",
"G=1.4;\n",
"\n",
"//For process 1-2\n",
"m=1;        //in kg\n",
"R=0.287;    //Universal Gas Constant\n",
"V1=(m*R*T1)/(P1*100);\n",
"printf('V1= %2.4f m^3/kg',V1);\n",
"printf('\n');\n",
"\n",
"V2=V1/r;\n",
"printf('V2= %2.4f m^3/kg',V2);\n",
"printf('\n');\n",
"\n",
"P2=P1*(r^G);\n",
"printf('P2= %2.1f bar',P2);\n",
"printf('\n');\n",
"\n",
"T2=T1*(r^(G-1));\n",
"printf('T2= %2.1f K',T2);\n",
"printf('\n');\n",
"\n",
"//For Process 2-3\n",
"Cv=0.718;\n",
"T3=(Qs/(Cv*m))+T2;\n",
"printf('T3= %2.1f K',T3);\n",
"printf('\n');\n",
"\n",
"P3=P2;\n",
"printf('P3= %2.1f bar',P3);\n",
"printf('\n');\n",
"\n",
"//As pressure is constant\n",
"V3=(T3/T2)*V2;\n",
"printf('V3= %2.4f m^3/kg',V3);\n",
"printf('\n');\n",
"\n",
"//For process 3-4\n",
"V4=V1;\n",
"T4=T3*((V3/V4)^(G-1));\n",
"printf('T4= %2.1f K',T4);\n",
"printf('\n');\n",
"\n",
"P4=P3*((V3/V4)^G);\n",
"printf('P4= %2.2f bar',P4);\n",
"printf('\n');\n",
"\n",
"Cp=1.005;\n",
"\n",
"W=((Cp)*(T3-T2))-((Cv*(T4-T1)));\n",
"printf('Work Done= %2.1f kJ/kg',W);\n",
"printf('\n');\n",
"\n",
"Eff=100*(W/(Cp*(T3-T2)));\n",
"printf('Efficiency= %2.2f Percent',Eff);\n",
"printf('\n');\n",
"\n",
"Pm=W/(V1-V2);\n",
"printf('Mean Effective Pressure= %2.2f kPa',Pm);\n",
"printf('\n');"
   ]
   }
,
{
		   "cell_type": "markdown",
		   "metadata": {},
		   "source": [
			"## Example 6.17_1: Example_17.sce"
		   ]
		  },
  {
"cell_type": "code",
	   "execution_count": null,
	   "metadata": {
	    "collapsed": true
	   },
	   "outputs": [],
"source": [
"clc\n",
"clear\n",
"\n",
"r=19;       //Compression Ratio\n",
"Re=9.1;     //Expansion Ratio\n",
"Z=r/Re;\n",
"G=1.4;\n",
"Eff=100*(1-((1/(r^(G-1)))*(1/G)*((Z^G)-1)/(Z-1)));\n",
"printf('Efficiency: %2.2f Percent',Eff);\n",
"printf('\n');"
   ]
   }
,
{
		   "cell_type": "markdown",
		   "metadata": {},
		   "source": [
			"## Example 6.18_1: Example_18.sce"
		   ]
		  },
  {
"cell_type": "code",
	   "execution_count": null,
	   "metadata": {
	    "collapsed": true
	   },
	   "outputs": [],
"source": [
"clc\n",
"clear\n",
"\n",
"D=16;       //in cm\n",
"L=24;       //in cm\n",
"Vc=340;\n",
"V2=Vc;\n",
"G=1.4;\n",
"\n",
"Vs=(22/7)*(1/4)*D*D*L;\n",
"V1=Vs+Vc;\n",
"r=V1/V2;\n",
"\n",
"//Cut-off is 6% of the stroke\n",
"Co1=0.06;\n",
"\n",
"V3=(Co1*(V1-V2))+V2;\n",
"Z=V3/V2;\n",
"x=(Z^G)-1;\n",
"y=(r^(G-1))*(G)*(Z-1);\n",
"Eff1=100*(1-((x)/(y)));\n",
"\n",
"\n",
"\n",
"//Cut-off is 10% of the stroke\n",
"Co2=0.10;\n",
"\n",
"V3=(Co2*(V1-V2))+V2;\n",
"Z=V3/V2;\n",
"x=(Z^G)-1;\n",
"y=(r^(G-1))*(G)*(Z-1);\n",
"Eff2=100*(1-((x)/(y)));\n",
"\n",
"Loss=((Eff1-Eff2)*100)/Eff1;\n",
"\n",
"printf('Loss: %2.2f Percent',r);\n",
"printf('\n');"
   ]
   }
,
{
		   "cell_type": "markdown",
		   "metadata": {},
		   "source": [
			"## Example 6.20_1: Example_20.sce"
		   ]
		  },
  {
"cell_type": "code",
	   "execution_count": null,
	   "metadata": {
	    "collapsed": true
	   },
	   "outputs": [],
"source": [
"clc\n",
"clear\n",
"\n",
"T3=1000+273;        //in K\n",
"T1=27+273;          //in K\n",
"G=1.25;\n",
"\n",
"r=(T3/T1)^G;\n",
"printf('Compression Ratio: %2.1f ',r);\n",
"printf('\n');\n",
"\n",
"T2=sqrt(T1*T3);\n",
"T4=T2;\n",
"printf('T2=T4= %2.0f K',T2);\n",
"printf('\n');\n",
"\n",
"Cv=0.718;\n",
"W=Cv*[(sqrt(T3))-(sqrt(T1))]^2;\n",
"printf('Maximum Work Done: %2.0f kJ/kg',W);\n",
"printf('\n');"
   ]
   }
,
{
		   "cell_type": "markdown",
		   "metadata": {},
		   "source": [
			"## Example 6.21_1: Example_21.sce"
		   ]
		  },
  {
"cell_type": "code",
	   "execution_count": null,
	   "metadata": {
	    "collapsed": true
	   },
	   "outputs": [],
"source": [
"clc\n",
"clear\n",
"\n",
"r=6;        //Compression Ratio\n",
"G=1.4;\n",
"\n",
"Eff=100*(1-(1/(r^(G-1))));\n",
"printf('Efficiency: %2.2f Percent',Eff);\n",
"printf('\n');\n",
"\n",
"m=1;            //in kg\n",
"R=0.287;        //Universal Gas Constant\n",
"T1=27+273;      //in K\n",
"P1=1;        //in bar\n",
"\n",
"V1=(m*R*T1)/(P1*100);\n",
"V2=V1/r;\n",
"Vc=V2;\n",
"Vs=V1-Vc;\n",
"\n",
"T2=T1*(r^(G-1));\n",
"Cv=0.718;\n",
"Qs=1046;\n",
"T3=(Qs/Cv)+T2;\n",
"T4=T3/(r^(G-1));\n",
"W=Qs-(Cv*(T4-T1));\n",
"Pm=W/Vs;\n",
"printf('Effective Mean Pressure: %2.2f kPa',Pm);\n",
"printf('\n');"
   ]
   }
,
{
		   "cell_type": "markdown",
		   "metadata": {},
		   "source": [
			"## Example 6.2_1: Example_2.sce"
		   ]
		  },
  {
"cell_type": "code",
	   "execution_count": null,
	   "metadata": {
	    "collapsed": true
	   },
	   "outputs": [],
"source": [
"clc\n",
"clear\n",
"\n",
"T1=323;         //in K\n",
"T2=673;         //in K\n",
"G=1.4;\n",
"\n",
"r_G=T2/T1;\n",
"r=(r_G)^(1/(G-1));\n",
"printf('Compression Ratio is %2.2f ',r);\n",
"printf('\n');\n",
"\n",
"Eff=100*(1-(1/(r^(G-1))));\n",
"printf('Air Standard Efficiency is %2.0f Percent ',Eff);\n",
"printf('\n');"
   ]
   }
,
{
		   "cell_type": "markdown",
		   "metadata": {},
		   "source": [
			"## Example 6.22_1: Example_22.sce"
		   ]
		  },
  {
"cell_type": "code",
	   "execution_count": null,
	   "metadata": {
	    "collapsed": true
	   },
	   "outputs": [],
"source": [
"clc\n",
"clear\n",
"\n",
"T1=87+273;      //in K\n",
"r=14;       //Compression Ratio\n",
"T3=1795+273;        //in K\n",
"T4=677+273;     //in K\n",
"G=1.4;\n",
"T2=T1*(r^(G-1));\n",
"printf('T2= %2.1f K',T2);\n",
"printf('\n');\n",
"\n",
"Cp=1.005;\n",
"Cv=0.718;\n",
"W=[Cp*(T3-T2)]-[Cv*(T4-T1)];\n",
"Qs=Cp*(T3-T2);\n",
"Eff=(W*100)/Qs;\n",
"printf('Efficiency: %2.1f Percent',Eff);\n",
"printf('\n');"
   ]
   }
,
{
		   "cell_type": "markdown",
		   "metadata": {},
		   "source": [
			"## Example 6.23_1: Example_23.sce"
		   ]
		  },
  {
"cell_type": "code",
	   "execution_count": null,
	   "metadata": {
	    "collapsed": true
	   },
	   "outputs": [],
"source": [
"clc\n",
"clear\n",
"\n",
"r=16;       //Compression Ratio\n",
"P1=1;       //in bar\n",
"T1=20+273;      //in K\n",
"T3=1431+273;        //in K\n",
"G=1.4;\n",
"T2=T1*[r^(G-1)];\n",
"m=1;\n",
"R=0.287;\n",
"V1=(m*R*T1)/(P1*100);\n",
"V2=V1/r;\n",
"\n",
"//For Constant Pressure Process 2-3\n",
"V3=V2*(T3/T2);\n",
"Z=V3/V2;\n",
"Eff=100*(1-((1/(r^(G-1)))*(1/G)*((Z^G)-1)/(Z-1)));\n",
"printf('Efficiency is %2.1f Percent',Eff);\n",
"printf('\n');\n",
"\n",
"Cp=1.005;\n",
"Qs=Cp*(T3-T2);\n",
"W=Qs*Eff/100;\n",
"Vs=V1-V2;\n",
"Pm=W/Vs;\n",
"printf('Effective Mean Pressure %2.1f kPa',Pm);\n",
"printf('\n');"
   ]
   }
,
{
		   "cell_type": "markdown",
		   "metadata": {},
		   "source": [
			"## Example 6.24_1: Example_24.sce"
		   ]
		  },
  {
"cell_type": "code",
	   "execution_count": null,
	   "metadata": {
	    "collapsed": true
	   },
	   "outputs": [],
"source": [
"clc\n",
"clear\n",
"\n",
"r=8;\n",
"T1=310;     //in K\n",
"T3=1600;        //in K\n",
"G=1.4;\n",
"Cv=0.717;\n",
"\n",
"//For process 1-2\n",
"T2=T1*(r^(G-1));\n",
"\n",
"//Now Heat Supplied\n",
"Qs=Cv*(T3-T2);\n",
"printf('Heat Supplied= %2.1f kJ/kg',Qs);\n",
"printf('\n');\n",
"\n",
"//Efficiency of Cycle\n",
"Eff=100*[1-(1/(r^(G-1)))];\n",
"printf('Efficiency is %2.1f Percent',Eff);\n",
"printf('\n');"
   ]
   }
,
{
		   "cell_type": "markdown",
		   "metadata": {},
		   "source": [
			"## Example 6.25_1: Example_25.sce"
		   ]
		  },
  {
"cell_type": "code",
	   "execution_count": null,
	   "metadata": {
	    "collapsed": true
	   },
	   "outputs": [],
"source": [
"clc\n",
"clear\n",
"\n",
"r=15;       //Compression Ratio\n",
"P1=100;     //in kPa\n",
"T1=27+273;\n",
"Cp=1.006;\n",
"Cv=0.717;\n",
"G=1.4;\n",
"\n",
"//Cut off takes place at 12% of Working Stroke\n",
"T2=T1*(r^(G-1));\n",
"printf('T2= %2.1f K',T2);\n",
"printf('\n');\n",
"\n",
"P2=P1*(r^G);\n",
"printf('P2= %2.1f kPa',P2);\n",
"printf('\n');\n",
"\n",
"Z=(0.12*(r-1))+1;\n",
"Eff=100*(1-((1/(r^(G-1)))*(1/G)*((Z^G)-1)/(Z-1)));\n",
"printf('Efficiency is %2.1f Percent',Eff);\n",
"printf('\n');"
   ]
   }
,
{
		   "cell_type": "markdown",
		   "metadata": {},
		   "source": [
			"## Example 6.26_1: Example_26.sce"
		   ]
		  },
  {
"cell_type": "code",
	   "execution_count": null,
	   "metadata": {
	    "collapsed": true
	   },
	   "outputs": [],
"source": [
"clc\n",
"clear\n",
"\n",
"T1=288;     //in K\n",
"T3=1673;        //in K\n",
"Qs=800;     //in kJ/kg\n",
"G=1.4;\n",
"Cv=0.718;\n",
"R=0.287;\n",
"P1=1;\n",
"\n",
"Cp=Cv*G;\n",
"T2=T3-(Qs/Cp);\n",
"\n",
"x=T2/T1;\n",
"r=x^(1/(G-1));\n",
"printf('Compression Ratio %2.1f ',r);\n",
"printf('\n');\n",
"\n",
"Eff=100*[1-(1/(r^(G-1)))];\n",
"printf('Efficiency is %2.1f Percent',Eff);\n",
"printf('\n');\n",
"\n",
"P3=r*T3*P1/T1;\n",
"printf('P3= %2.1f bar',P3);\n",
"printf('\n');"
   ]
   }
,
{
		   "cell_type": "markdown",
		   "metadata": {},
		   "source": [
			"## Example 6.27_1: Example_27.sce"
		   ]
		  },
  {
"cell_type": "code",
	   "execution_count": null,
	   "metadata": {
	    "collapsed": true
	   },
	   "outputs": [],
"source": [
"clc\n",
"clear\n",
"\n",
"T2=293;     //in K\n",
"Eff=0.7;\n",
"T1=T2/(1-Eff);\n",
"printf('T1= %2.1f K',T1);\n",
"printf('\n');"
   ]
   }
,
{
		   "cell_type": "markdown",
		   "metadata": {},
		   "source": [
			"## Example 6.28_1: Example_28.sce"
		   ]
		  },
  {
"cell_type": "code",
	   "execution_count": null,
	   "metadata": {
	    "collapsed": true
	   },
	   "outputs": [],
"source": [
"clc\n",
"clear\n",
"\n",
"T1=330;     //in K\n",
"T2=876;     //in K\n",
"T3=2223;        //in K\n",
"T4=1143;        //in K\n",
"P1=1;       //in bar\n",
"G=1.4;\n",
"\n",
"Cv=0.718;\n",
"Cp=1.005;\n",
"Eff=100*[1-((Cv*(T4-T1))/(Cp*(T3-T2)))];\n",
"printf('Efficiency is %2.1f Percent',Eff);\n",
"printf('\n');\n",
"\n",
"//For Process 1-2\n",
"P2=P1*[(T2/T1)^(G/(G-1))];\n",
"printf('Maximum Pressure %2.1f bar',P2);\n",
"printf('\n');"
   ]
   }
,
{
		   "cell_type": "markdown",
		   "metadata": {},
		   "source": [
			"## Example 6.29_1: Example_29.sce"
		   ]
		  },
  {
"cell_type": "code",
	   "execution_count": null,
	   "metadata": {
	    "collapsed": true
	   },
	   "outputs": [],
"source": [
"clc\n",
"clear\n",
"\n",
"T1=25+273;      //in K\n",
"T3=1500+273;        //in K\n",
"Qa=900;     //in kJ/kg\n",
"Cv=0.718;\n",
"G=1.4;\n",
"\n",
"T2=T3-(Qa/Cv);\n",
"r=(T2/T1)^(1/(G-1));\n",
"printf('Compression Ratio is %2.1f ',r);\n",
"printf('\n');\n",
"\n",
"Eff=100*[1-(1/(r^(G-1)))];\n",
"printf('Efficiency is %2.1f Percent',Eff);\n",
"printf('\n');\n",
"\n",
"Px=r^G;     //Max Pressure\n",
"Py=T3/T2;       //1/Min Pressure\n",
"P=Px*Py;\n",
"printf('Pressure Ratio %2.1f ',P);\n",
"printf('\n');"
   ]
   }
,
{
		   "cell_type": "markdown",
		   "metadata": {},
		   "source": [
			"## Example 6.30_1: Example_30.sce"
		   ]
		  },
  {
"cell_type": "code",
	   "execution_count": null,
	   "metadata": {
	    "collapsed": true
	   },
	   "outputs": [],
"source": [
"clc\n",
"clear\n",
"\n",
"P1=1;       //in bar\n",
"T1=15+273;      //in K\n",
"P2=15;      //in bar\n",
"P3=40;      //in bar\n",
"G=1.4;\n",
"Cv=0.718;\n",
"\n",
"r=(P2/P1)^(1/G);\n",
"printf('Compression Ratio is %2.1f ',r);\n",
"printf('\n');\n",
"\n",
"Eff=100*[1-(1/r^(G-1))];\n",
"printf('Efficiency is %2.1f Percent',Eff);\n",
"printf('\n');\n",
"T2=T1*(r^(G-1));\n",
"T3=T2*(P3/P2);\n",
"T4=T3/(r^(G-1));\n",
"W=Cv*[T3-T2+(T1-T4)];\n",
"\n",
"R=0.287;\n",
"V1=(R*T1)/P1;\n",
"V2=V1/r;\n",
"\n",
"Pm=W/(V1-V2);\n",
"printf('Mean Effective Pressure %2.1f bar',Pm);\n",
"printf('\n');"
   ]
   }
,
{
		   "cell_type": "markdown",
		   "metadata": {},
		   "source": [
			"## Example 6.31_1: Example_31.sce"
		   ]
		  },
  {
"cell_type": "code",
	   "execution_count": null,
	   "metadata": {
	    "collapsed": true
	   },
	   "outputs": [],
"source": [
"clc\n",
"clear\n",
"\n",
"P2=44;      //in bar\n",
"P3=P2;\n",
"T3=1600+273;        //in K\n",
"P1=1;       //in bar\n",
"T1=27+273;      //in K\n",
"G=1.4;\n",
"\n",
"T2=T1*[(P2/P1)^((G-1)/G)];\n",
"R=0.287;\n",
"\n",
"V1=(R*T1)/(P1*100);\n",
"\n",
"\n",
"r=(P2/P1)^(1/G);\n",
"Z=T3/T2;\n",
"Eff=100*(1-((1/(r^(G-1)))*(1/G)*((Z^G)-1)/(Z-1)));\n",
"printf('Efficiency is %2.1f Percent',Eff);\n",
"printf('\n');"
   ]
   }
,
{
		   "cell_type": "markdown",
		   "metadata": {},
		   "source": [
			"## Example 6.3_1: Example_3.sce"
		   ]
		  },
  {
"cell_type": "code",
	   "execution_count": null,
	   "metadata": {
	    "collapsed": true
	   },
	   "outputs": [],
"source": [
"clc\n",
"clear\n",
"\n",
"P1=97;          //in kPa\n",
"T1=323;         //in K\n",
"r=5;            //Compression Ratio\n",
"Q=930;          //in kJ/kg\n",
"G=1.4;\n",
"Cv=0.718;\n",
"T2=T1*(r^(G-1));\n",
"T3=(Q/Cv)+T2;\n",
"printf('Maximum Temperature Attained is %2.2f K',T3);\n",
"printf('\n');\n",
"\n",
"Eff=100*(1-(1/(r)^(G-1)));\n",
"printf('Thermal Efficiency of cycle is %2.1f Percent',Eff);\n",
"printf('\n');\n",
"\n",
"W=Eff*Q/100;\n",
"printf('Work Done is %2.2f kJ/kg',W);\n",
"printf('\n');"
   ]
   }
,
{
		   "cell_type": "markdown",
		   "metadata": {},
		   "source": [
			"## Example 6.32_1: Example_32.sce"
		   ]
		  },
  {
"cell_type": "code",
	   "execution_count": null,
	   "metadata": {
	    "collapsed": true
	   },
	   "outputs": [],
"source": [
"clc\n",
"clear\n",
"\n",
"r=16;       //Compression Ratio\n",
"P1=1;       //in bar\n",
"T1=20+273;\n",
"T3=1431+273;        //in K\n",
"G=1.4;\n",
"\n",
"T2=T1*(r^(G-1));\n",
"Z=T3/T2;\n",
"T4=(Z^G)*T1;\n",
"Eff=100*[1-((T4-T1)/(G*(T3-T2)))];\n",
"printf('Efficiency is %2.1f Percent',Eff);\n",
"printf('\n');\n",
"\n",
"Cp=1.005;\n",
"Qs=Cp*(T3-T2);\n",
"W=Eff*(Qs/100);\n",
"R=0.287;\n",
"V1=(R*T1)/(P1*100);\n",
"V2=V1/r;\n",
"V=V1-V2;\n",
"\n",
"Pm=W/(V);\n",
"printf('Mean Effective Pressure %2.1f kPa',Pm);\n",
"printf('\n');"
   ]
   }
,
{
		   "cell_type": "markdown",
		   "metadata": {},
		   "source": [
			"## Example 6.33_1: Example_33.sce"
		   ]
		  },
  {
"cell_type": "code",
	   "execution_count": null,
	   "metadata": {
	    "collapsed": true
	   },
	   "outputs": [],
"source": [
"clc\n",
"clear\n",
"\n",
"P1=1;       //in bar\n",
"T1=15+273;      //in K\n",
"P2=15;      //in bar\n",
"P3=40;      //in bar\n",
"G=1.4;\n",
"\n",
"r=(P2/P1)^(1/G);\n",
"Eff=100*[1-(1/(r^(G-1)))];\n",
"printf('Efficiency is %2.1f Percent',Eff);\n",
"printf('\n');\n",
"\n",
"T2=T1*[(P2/P1)^((G-1)/G)];\n",
"T3=T2*(P3/P2);\n",
"Cv=0.718;\n",
"\n",
"Qs=Cv*(T3-T2);\n",
"W=Eff*Qs;\n",
"R=0.287;\n",
"\n",
"V1=(R*T1)/(P1*100);\n",
"V2=V1/r;\n",
"\n",
"Vs=V1-V2;\n",
"Pm=W/(Vs*100);\n",
"\n",
"printf('Mean Effective Pressure is %2.1f kPa',Pm);\n",
"printf('\n');"
   ]
   }
,
{
		   "cell_type": "markdown",
		   "metadata": {},
		   "source": [
			"## Example 6.4_1: Example_4.sce"
		   ]
		  },
  {
"cell_type": "code",
	   "execution_count": null,
	   "metadata": {
	    "collapsed": true
	   },
	   "outputs": [],
"source": [
"clc\n",
"clear\n",
"\n",
"T1=57+273;          //in K\n",
"T2=603+273;         //in K\n",
"T3=1950+273;        //in K\n",
"T4=870+273;         //in K\n",
"G=1.4;\n",
"P1=1;               //in bar\n",
"Cp=1.005;\n",
"Cv=0.718;\n",
"\n",
"P2=P1*((T2/T1)^((G)/(G-1)));\n",
"printf('Maximum Pressure attained is %2.1f bar',P2);\n",
"printf('\n');\n",
"\n",
"Qs=Cp*(T3-T2);           //Heat Supplied\n",
"Qr=Cv*(T4-T1);          //Heat Rejected\n",
"Eff=100*(1-(Qr/Qs));\n",
"printf('Efficiency is %2.0f Percent',Eff);\n",
"printf('\n');"
   ]
   }
,
{
		   "cell_type": "markdown",
		   "metadata": {},
		   "source": [
			"## Example 6.5_1: Example_5.sce"
		   ]
		  },
  {
"cell_type": "code",
	   "execution_count": null,
	   "metadata": {
	    "collapsed": true
	   },
	   "outputs": [],
"source": [
"clc\n",
"clear\n",
"\n",
"V2=0.2;         //in cm^3\n",
"V3=V2;\n",
"Vc=V2;\n",
"\n",
"Vs=1.2;         //in cm^3\n",
"V1=V2+Vs;\n",
"G=1.4;\n",
"\n",
"r=(V1/V2);\n",
"Eff=100*(1-(1/(r^(G-1))));\n",
"printf('Efficiency of Engine is %2.0f Percent',Eff);\n",
"printf('\n');"
   ]
   }
,
{
		   "cell_type": "markdown",
		   "metadata": {},
		   "source": [
			"## Example 6.6_1: Example_6.sce"
		   ]
		  },
  {
"cell_type": "code",
	   "execution_count": null,
	   "metadata": {
	    "collapsed": true
	   },
	   "outputs": [],
"source": [
"clc\n",
"clear\n",
"\n",
"rc=14;          //Adiabatic Compression Ratio\n",
"ra=8;           //Adiabatic Expansion Ratio\n",
"G=1.4;\n",
"Z=rc/ra;        //Cutoff Ratio\n",
"\n",
"//It is a diesel Cycle\n",
"Eff=100*(1-((1/(rc^(G-1)))*(1/G)*((Z^G)-1)/(Z-1)));\n",
"printf('Efficiency is %2.1f Percent',Eff);\n",
"printf('\n');"
   ]
   }
,
{
		   "cell_type": "markdown",
		   "metadata": {},
		   "source": [
			"## Example 6.7_1: Example_7.sce"
		   ]
		  },
  {
"cell_type": "code",
	   "execution_count": null,
	   "metadata": {
	    "collapsed": true
	   },
	   "outputs": [],
"source": [
"clc\n",
"clear\n",
"\n",
"Eff=0.6;        //Efficiency\n",
"T2=283;         //in K\n",
"T1=T2/(1-Eff);\n",
"printf('Initial Temperature is %2.1f K',T1);\n",
"printf('\n');"
   ]
   }
,
{
		   "cell_type": "markdown",
		   "metadata": {},
		   "source": [
			"## Example 6.8_1: Example_8.sce"
		   ]
		  },
  {
"cell_type": "code",
	   "execution_count": null,
	   "metadata": {
	    "collapsed": true
	   },
	   "outputs": [],
"source": [
"clc\n",
"clear\n",
"\n",
"D=10;       //Diameter in cm\n",
"L=15;       //Length in cm\n",
"Vs=(22/7)*(1/4)*D*D*L;      //in cm^3\n",
"Vc=250;     //in cm^3\n",
"V2=Vc;\n",
"V1=Vs+Vc;\n",
"r=V1/V2;\n",
"G=1.4;\n",
"\n",
"Eff=100*(1-(1/(r^(G-1))));\n",
"printf('Efficiency is %2.1f Percent',Eff);\n",
"printf('\n');"
   ]
   }
,
{
		   "cell_type": "markdown",
		   "metadata": {},
		   "source": [
			"## Example 6.9_1: Example_9.sce"
		   ]
		  },
  {
"cell_type": "code",
	   "execution_count": null,
	   "metadata": {
	    "collapsed": true
	   },
	   "outputs": [],
"source": [
"clc\n",
"clear\n",
"\n",
"T3=15+273;      //in K\n",
"T4=T3;\n",
"P3=1.1;     //in bar\n",
"P4=4;       //in bar\n",
"P1=12;      //in bar\n",
"N=150;      //in rpm\n",
"G=1.4;\n",
"\n",
"T1=T4*((P1/P4)^((G-1)/G));\n",
"Eff=100*(1-(T4/T1));\n",
"printf('The Efficiency is %3.2f Percent',Eff);\n",
"printf('\n');\n",
"\n",
"r=P4/P3;\n",
"R=0.287;\n",
"m=1;\n",
"\n",
"W=m*R*(T1-T3)*(log(r));\n",
"P=W*(N/60);\n",
"printf('The Power is %3.1f kW',P);\n",
"printf('\n');"
   ]
   }
],
"metadata": {
		  "kernelspec": {
		   "display_name": "Scilab",
		   "language": "scilab",
		   "name": "scilab"
		  },
		  "language_info": {
		   "file_extension": ".sce",
		   "help_links": [
			{
			 "text": "MetaKernel Magics",
			 "url": "https://github.com/calysto/metakernel/blob/master/metakernel/magics/README.md"
			}
		   ],
		   "mimetype": "text/x-octave",
		   "name": "scilab",
		   "version": "0.7.1"
		  }
		 },
		 "nbformat": 4,
		 "nbformat_minor": 0
}
