{
"cells": [
 {
		   "cell_type": "markdown",
	   "metadata": {},
	   "source": [
       "# Chapter 7: Internal Combustion Engines"
	   ]
	},
{
		   "cell_type": "markdown",
		   "metadata": {},
		   "source": [
			"## Example 7.10_1: Example_10.sce"
		   ]
		  },
  {
"cell_type": "code",
	   "execution_count": null,
	   "metadata": {
	    "collapsed": true
	   },
	   "outputs": [],
"source": [
"clc\n",
"clear\n",
"\n",
"D=16;\n",
"L=19;\n",
"Vc=700;\n",
"Pm=5;\n",
"N=1000;\n",
"Eith=0.32;\n",
"Vs=(22/7)*D*D*L*(1/4);\n",
"Vc=700;\n",
"G=1.4;\n",
"r=(Vs+Vc)/Vc;\n",
"Ea=[1-(1/(r^(G-1)))];\n",
"Er=Eith/Ea;\n",
"printf('Relative Efficiency= %3.2f Percent',Er*100);\n",
"printf('\n');\n",
"\n",
"IP=(Pm*100*Vs*(10^-6)*N)/60;\n",
"printf('IP= %3.2f KW',IP);\n",
"printf('\n');"
   ]
   }
,
{
		   "cell_type": "markdown",
		   "metadata": {},
		   "source": [
			"## Example 7.11_1: Example_11.sce"
		   ]
		  },
  {
"cell_type": "code",
	   "execution_count": null,
	   "metadata": {
	    "collapsed": true
	   },
	   "outputs": [],
"source": [
"clc\n",
"clear\n",
"\n",
"T=50;\n",
"Vst=870;\n",
"N=300;\n",
"Pm=10;\n",
"n=N/2;\n",
"\n",
"BP=(2*(22/7)*N*T)/(60*1000);\n",
"IP=(Pm*100*Vst*(10^-6)*N)/(60*2);\n",
"Em=BP/IP;\n",
"printf('Mechanical Efficiency= %3.2f Percent',Em*100);\n",
"printf('\n');"
   ]
   }
,
{
		   "cell_type": "markdown",
		   "metadata": {},
		   "source": [
			"## Example 7.1_1: Example_1.sce"
		   ]
		  },
  {
"cell_type": "code",
	   "execution_count": null,
	   "metadata": {
	    "collapsed": true
	   },
	   "outputs": [],
"source": [
"clc\n",
"clear\n",
"Vs=0.01;      //in m^3\n",
"Pm=600;     //in kPa\n",
"N=300;      //in rpm\n",
"n=N/2;\n",
"IP=(Vs*Pm*n)/60;\n",
"printf('Indicated Power= %2.0f kW',IP);\n",
"printf('\n');"
   ]
   }
,
{
		   "cell_type": "markdown",
		   "metadata": {},
		   "source": [
			"## Example 7.12_1: Example_12.sce"
		   ]
		  },
  {
"cell_type": "code",
	   "execution_count": null,
	   "metadata": {
	    "collapsed": true
	   },
	   "outputs": [],
"source": [
"clc\n",
"clear\n",
"\n",
"Pm=7;\n",
"A=(22/7)*(1/4)*((0.15/1.25)^2);\n",
"n=900;\n",
"L=0.15;\n",
"N=2\n",
"IP=(Pm*100*A*L*n*N)/(60*2);\n",
"printf('IP= %3.2f kW',IP);\n",
"printf('\n');"
   ]
   }
,
{
		   "cell_type": "markdown",
		   "metadata": {},
		   "source": [
			"## Example 7.13_1: Example_13.sce"
		   ]
		  },
  {
"cell_type": "code",
	   "execution_count": null,
	   "metadata": {
	    "collapsed": true
	   },
	   "outputs": [],
"source": [
"clc\n",
"clear\n",
"\n",
"N=900;\n",
"D=0.1;\n",
"L=0.14;\n",
"Mf=2.1;\n",
"CV=42000;\n",
"Pm=7.5;\n",
"Vc=0.15;\n",
"G=1.4;\n",
"A=(22/7)*(1/4)*D*D;\n",
"IP=(Pm*100*A*L*N*2)/(60*2);\n",
"Eith=(IP*3600)/(Mf*CV);\n",
"printf('Eith= %3.1f Percent',Eith*100);\n",
"printf('\n');\n",
"\n",
"r=(1+0.15)/(0.15);\n",
"Ea=1-[1/(r^(G-1))];\n",
"Er=Eith/Ea;\n",
"printf('Relative Efficiency= %3.2f Percent',Er*100);\n",
"printf('\n');"
   ]
   }
,
{
		   "cell_type": "markdown",
		   "metadata": {},
		   "source": [
			"## Example 7.14_1: Example_14.sce"
		   ]
		  },
  {
"cell_type": "code",
	   "execution_count": null,
	   "metadata": {
	    "collapsed": true
	   },
	   "outputs": [],
"source": [
"clc\n",
"clear\n",
"\n",
"NOC=6;\n",
"N=820;\n",
"n=N/2;\n",
"IP=90;\n",
"LD=1.4;\n",
"Pbm=5;\n",
"Em=0.79;\n",
"BP=IP*Em;\n",
"D=[[IP*60*2]/[Pbm*100*(22/7)*(1/4)*LD*N*NOC]]^(1/3);\n",
"printf('D= %3.0f mm',D*1000);\n",
"printf('\n');\n",
"L=LD*D;\n",
"printf('L= %3.0f mm',L*1000);\n",
"printf('\n');"
   ]
   }
,
{
		   "cell_type": "markdown",
		   "metadata": {},
		   "source": [
			"## Example 7.15_1: Example_15.sce"
		   ]
		  },
  {
"cell_type": "code",
	   "execution_count": null,
	   "metadata": {
	    "collapsed": true
	   },
	   "outputs": [],
"source": [
"clc\n",
"clear\n",
"\n",
"NOC=4;\n",
"N=2500;\n",
"n=N/2;\n",
"BP=200;\n",
"LD=1.2;\n",
"Pm=10;\n",
"Em=0.81;\n",
"Mf=65;\n",
"CV=42000;\n",
"IP=BP/Em;\n",
"D=[[IP*60*2*4]/[Pm*100*(22/7)*(1.2*(N)*NOC)]]^(1/3);\n",
"printf('D= %3.0f mm',D*1000);\n",
"printf('\n');\n",
"\n",
"L=LD*D;\n",
"printf('L= %3.0f mm',L*1000);\n",
"printf('\n');\n",
"\n",
"Eith=(IP*3600)/(Mf*CV);\n",
"printf('Eith= %3.2f Percent',Eith*100);\n",
"printf('\n');\n",
"\n",
"Ebth=Eith*Em;\n",
"printf('Ebth= %3.2f Percent',Ebth*100);\n",
"printf('\n');"
   ]
   }
,
{
		   "cell_type": "markdown",
		   "metadata": {},
		   "source": [
			"## Example 7.16_1: Example_16.sce"
		   ]
		  },
  {
"cell_type": "code",
	   "execution_count": null,
	   "metadata": {
	    "collapsed": true
	   },
	   "outputs": [],
"source": [
"clc\n",
"clear\n",
"\n",
"IP=42;\n",
"FP=7;\n",
"ES=1800;\n",
"\n",
"BP=IP-FP;\n",
"\n",
"Em=BP/IP;\n",
"printf('Mechanical Efficiency= %3.0f Percent',Em*100);\n",
"printf('\n');\n",
"\n",
"BSFC=0.3;\n",
"CV=43000;\n",
"\n",
"Ebth=3600/(BSFC*CV);\n",
"printf('Brake Thermal Efficiency= %3.0f Percent',Ebth*100);\n",
"printf('\n');\n",
"\n",
"Eith=Ebth/Em;\n",
"printf('Indicated Thermal Efficiency= %3.0f Percent',Eith*100);\n",
"printf('\n');"
   ]
   }
,
{
		   "cell_type": "markdown",
		   "metadata": {},
		   "source": [
			"## Example 7.17_1: Example_17.sce"
		   ]
		  },
  {
"cell_type": "code",
	   "execution_count": null,
	   "metadata": {
	    "collapsed": true
	   },
	   "outputs": [],
"source": [
"clc\n",
"clear\n",
"\n",
"D=0.3;\n",
"L=0.45;\n",
"N=300;\n",
"Pimep=6;\n",
"F=1.5;\n",
"Reff=(180+4)/2;\n",
"\n",
"IP=(Pimep*100*L*(22/7)*(1/4)*(D*D)*N)/(2*60);\n",
"printf('Indicated Power= %3.2f kW',IP);\n",
"printf('\n');\n",
"\n",
"BP=(2*(22/7)*N*F*Reff)/6000;\n",
"printf('Brake Power= %3.2f kW',BP);\n",
"printf('\n');\n",
"\n",
"Em=BP/IP;\n",
"printf('Mechanical Efficiency= %3.2f Percent',Em*100);\n",
"printf('\n');"
   ]
   }
,
{
		   "cell_type": "markdown",
		   "metadata": {},
		   "source": [
			"## Example 7.18_1: Example_18.sce"
		   ]
		  },
  {
"cell_type": "code",
	   "execution_count": null,
	   "metadata": {
	    "collapsed": true
	   },
	   "outputs": [],
"source": [
"clc\n",
"clear\n",
"\n",
"D=0.27;\n",
"L=0.38;\n",
"Pmep=6;\n",
"N=250;\n",
"F=1000;\n",
"Reff=0.75;\n",
"Mf=10;\n",
"CV=44400;\n",
"\n",
"BP=(2*(22/7)*N*(F*Reff))/60;\n",
"printf('Brake Power= %3.2f kW',BP/1000);\n",
"printf('\n');\n",
"\n",
"A=(22/7)*(1/4)*(D*D);\n",
"IP=[Pmep*100*L*A*N]/(2*60);\n",
"printf('Indicated Power= %3.2f kW',IP);\n",
"printf('\n');\n",
"\n",
"Em=BP/(IP*1000);\n",
"printf('Mechanical Efficiency= %3.2f Percent',Em*100);\n",
"printf('\n');\n",
"\n",
"Eith=(IP*3600)/(Mf*CV);\n",
"printf('Indicated Thermal Power= %3.2f Percent',Eith*100);\n",
"printf('\n');"
   ]
   }
,
{
		   "cell_type": "markdown",
		   "metadata": {},
		   "source": [
			"## Example 7.19_1: Example_19.sce"
		   ]
		  },
  {
"cell_type": "code",
	   "execution_count": null,
	   "metadata": {
	    "collapsed": true
	   },
	   "outputs": [],
"source": [
"clc\n",
"clear\n",
"\n",
"NOC=6;\n",
"IP=89.5;\n",
"N=800;\n",
"LD=1.25;\n",
"Em=0.8;\n",
"Pbemp=5;\n",
"Em=0.8;\n",
"Pimep=Pbemp/0.8;\n",
"\n",
"D3=(IP*2*60*4)/(Pimep*100*LD*(22/7)*N*NOC);\n",
"D=D3^(1/3);\n",
"L=LD*D;\n",
"printf('L= %3.0f mm',L*1000);\n",
"printf('\n');\n",
"printf('D= %3.0f mm',D*1000);\n",
"printf('\n');"
   ]
   }
,
{
		   "cell_type": "markdown",
		   "metadata": {},
		   "source": [
			"## Example 7.20_1: Example_20.sce"
		   ]
		  },
  {
"cell_type": "code",
	   "execution_count": null,
	   "metadata": {
	    "collapsed": true
	   },
	   "outputs": [],
"source": [
"clc\n",
"clear\n",
"\n",
"D=0.25;\n",
"L=0.4;\n",
"Pm=6.5;\n",
"N=250;\n",
"W=1080;\n",
"Ddrum=1.5;\n",
"Mf=10;\n",
"CV=44300;\n",
"\n",
"A=(22/7)*(1/4)*D*D;\n",
"IP=(Pm*100*A*L*N)/(60*2);\n",
"printf('Indicated Power= %3.2f kW',IP);\n",
"printf('\n');\n",
"\n",
"Reff=Ddrum/2;\n",
"W=1.08;\n",
"\n",
"BP=[2*(22/7)*N*W*Reff]/60;\n",
"printf('Brake Power= %3.2f kW',BP);\n",
"printf('\n');\n",
"\n",
"Em=BP/IP;\n",
"Eith=(IP*3600)/(Mf*CV);\n",
"printf('Em= %3.2f Percent',Em*100);\n",
"printf('\n');\n",
"printf('Eith= %3.2f Percent',Eith*100);\n",
"printf('\n');\n",
""
   ]
   }
,
{
		   "cell_type": "markdown",
		   "metadata": {},
		   "source": [
			"## Example 7.21_1: Example_21.sce"
		   ]
		  },
  {
"cell_type": "code",
	   "execution_count": null,
	   "metadata": {
	    "collapsed": true
	   },
	   "outputs": [],
"source": [
"clc\n",
"clear\n",
"\n",
"W=50;\n",
"S=7;\n",
"D=1.25;\n",
"N=450;\n",
"Mf=4;\n",
"CV=43000;\n",
"Em=0.7;\n",
"Reff=9.81*(D/2);\n",
"\n",
"BP=[2*(22/7)*N*(W-S)*Reff]/(60*1000);\n",
"Ebth=(BP*3600)/(Mf*CV);\n",
"printf('Ebth= %3.2f Percent',Ebth*100);\n",
"printf('\n');\n",
"\n",
"Eith=Ebth/Em;\n",
"printf('Eith= %3.2f Percent',Eith*100);\n",
"printf('\n');"
   ]
   }
,
{
		   "cell_type": "markdown",
		   "metadata": {},
		   "source": [
			"## Example 7.2_1: Example_2.sce"
		   ]
		  },
  {
"cell_type": "code",
	   "execution_count": null,
	   "metadata": {
	    "collapsed": true
	   },
	   "outputs": [],
"source": [
"clc\n",
"clear\n",
"\n",
"n=6;        //Number of Cylinders\n",
"IP=90;      //Indicated Power in kW\n",
"Eff=0.85;       //Mechanical Efficiency\n",
"Pmb=5;      //in bar\n",
"LD=1.5;\n",
"Pm=Pmb/Eff;\n",
"N=800;\n",
"nx=N/2;\n",
"\n",
"//Length=1.5*D\n",
"D=[[IP*60*4]/[Pm*100*(22/7)*LD*nx*n]]^(1/3);\n",
"printf('D= %3.4f mm',D*100);\n",
"printf('\n');\n",
"L=D*LD;\n",
"printf('L= %3.4f mm',L*100);\n",
"printf('\n');"
   ]
   }
,
{
		   "cell_type": "markdown",
		   "metadata": {},
		   "source": [
			"## Example 7.22_1: Example_22.sce"
		   ]
		  },
  {
"cell_type": "code",
	   "execution_count": null,
	   "metadata": {
	    "collapsed": true
	   },
	   "outputs": [],
"source": [
"clc\n",
"clear\n",
"\n",
"T=640;\n",
"D=0.21;\n",
"N=350;\n",
"L=0.28;\n",
"Pm=5.6;\n",
"Mf=8.16;\n",
"CV=42705;\n",
"\n",
"BP=[2*(22/7)*N*T]/60000;\n",
"printf('Brake Power= %3.2f kW',BP/1000);\n",
"printf('\n');\n",
"\n",
"A=(22/7)*(1/4)*D*D;\n",
"IP=(Pm*100*A*L*N)/60;\n",
"\n",
"Em=BP/IP;\n",
"printf('Em= %3.2f Percent',Em*100);\n",
"printf('\n');\n",
"\n",
"Eith=(IP*3600)/(Mf*CV);\n",
"printf('Eith= %3.2f Percent',Eith*100);\n",
"printf('\n');\n",
"\n",
"Ebth=(BP*3600)/(Mf*CV);\n",
"printf('Ebth= %3.2f Percent',Ebth*100);\n",
"printf('\n');\n",
"\n",
"BSFC=Mf/BP;\n",
"printf('BSFC= %3.2f kg/kWh',BSFC);\n",
"printf('\n');"
   ]
   }
,
{
		   "cell_type": "markdown",
		   "metadata": {},
		   "source": [
			"## Example 7.23_1: Example_23.sce"
		   ]
		  },
  {
"cell_type": "code",
	   "execution_count": null,
	   "metadata": {
	    "collapsed": true
	   },
	   "outputs": [],
"source": [
"clc\n",
"clear\n",
"\n",
"IP=37;\n",
"FP=6;\n",
"BSFC=0.28;\n",
"CV=44300;\n",
"\n",
"BP=IP-FP;\n",
"Em=(IP-FP)/IP;\n",
"printf('Em= %3.2f Percent',Em*100);\n",
"printf('\n');\n",
"\n",
"Mf=BSFC*BP;\n",
"Ebth=(BP*3600)/(Mf*CV);\n",
"printf('Ebth= %3.2f Percent',Ebth*100);\n",
"printf('\n');\n",
"\n",
"Eith=Ebth/Em;\n",
"printf('Eith= %3.2f Percent',Eith*100);\n",
"printf('\n');"
   ]
   }
,
{
		   "cell_type": "markdown",
		   "metadata": {},
		   "source": [
			"## Example 7.24_1: Example_24.sce"
		   ]
		  },
  {
"cell_type": "code",
	   "execution_count": null,
	   "metadata": {
	    "collapsed": true
	   },
	   "outputs": [],
"source": [
"clc\n",
"clear\n",
"\n",
"D=0.1;\n",
"L=0.125;\n",
"Pm=2.6;\n",
"W=60;\n",
"S=19;\n",
"Reff=0.4;\n",
"r=6;\n",
"Mf=1;\n",
"CV=42000;\n",
"N=2000;\n",
"\n",
"A=(22/7)*(1/4)*D*D;\n",
"\n",
"IP=(Pm*100*A*L*N)/(60*2);\n",
"printf('indicated Power= %3.2f kW',IP);\n",
"printf('\n');\n",
"\n",
"BP=(2*(22/7)*N*(W-S)*Reff)/60000;\n",
"printf('Brake Power= %3.2f kW',BP);\n",
"printf('\n');\n",
"\n",
"Em=BP/IP;\n",
"printf('Em= %3.2f Percent',Em*100);\n",
"printf('\n');\n",
"\n",
"Ebth=(BP*3600)/(Mf*CV);\n",
"printf('Ebth= %3.2f Percent',Ebth*100);\n",
"printf('\n');\n",
"\n",
"Eith=Ebth/Em;\n",
"printf('Eith= %3.2f Percent',Eith*100);\n",
"printf('\n');\n",
"\n",
"G=1.4;\n",
"Ea=1-[1/(r^(G-1))];\n",
"printf('Ea= %3.2f Percent',Ea*100);\n",
"printf('\n');\n",
"\n",
"Er=Ebth/Ea;\n",
"printf('Er= %3.2f Percent',Er*100);\n",
"printf('\n');"
   ]
   }
,
{
		   "cell_type": "markdown",
		   "metadata": {},
		   "source": [
			"## Example 7.25_1: Example_25.sce"
		   ]
		  },
  {
"cell_type": "code",
	   "execution_count": null,
	   "metadata": {
	    "collapsed": true
	   },
	   "outputs": [],
"source": [
"clc\n",
"clear\n",
"\n",
"IP=30;\n",
"N=2500;\n",
"Pm=800;\n",
"Em=0.8;\n",
"LD=1.5;\n",
"Ebth=0.28;\n",
"CV=44000;\n",
"\n",
"BP=IP*Em;\n",
"printf('Brake Power= %3.2f kW',BP);\n",
"printf('\n');\n",
"\n",
"Mf=(BP/(Ebth*CV));\n",
"printf('Mass Flow Rate= %3.2f kg/hr',Mf*3600);\n",
"printf('\n');"
   ]
   }
,
{
		   "cell_type": "markdown",
		   "metadata": {},
		   "source": [
			"## Example 7.3_1: Example_3.sce"
		   ]
		  },
  {
"cell_type": "code",
	   "execution_count": null,
	   "metadata": {
	    "collapsed": true
	   },
	   "outputs": [],
"source": [
"clc\n",
"clear\n",
"\n",
"BP=22;      //Brake Power\n",
"Eff=0.85;       //Mechanical Efficiency\n",
"IP=BP/Eff;\n",
"mf=6.5;\n",
"CV=30000;       //Calorific Value\n",
"Ebth=BP/((mf/3600)*CV);\n",
"printf('Brake Thermal Eff= %3.1f Percent',Ebth*100);\n",
"printf('\n');\n",
"\n",
"Eith=IP/((mf/3600)*CV);\n",
"printf('Indicated Thermal Eff= %3.1f Percent',Eith*100);\n",
"printf('\n');\n",
"\n",
"BSFC=mf/BP;\n",
"printf('BSFC= %3.1f kg/kWh',BSFC);\n",
"printf('\n');"
   ]
   }
,
{
		   "cell_type": "markdown",
		   "metadata": {},
		   "source": [
			"## Example 7.4_1: Example_4.sce"
		   ]
		  },
  {
"cell_type": "code",
	   "execution_count": null,
	   "metadata": {
	    "collapsed": true
	   },
	   "outputs": [],
"source": [
"clc\n",
"clear\n",
"\n",
"BP=185;     //Brake Power\n",
"Eff=0.75;\n",
"IP=BP/Eff;\n",
"LD=1.5;\n",
"N=35;\n",
"n=N/2;\n",
"nx=4;\n",
"Pm=830;     //in kPa\n",
"D=[[IP*4]/[Pm*(22/7)*LD*nx*n]]^(1/3);\n",
"printf('D= %3.0f mm',D*1000);\n",
"printf('\n');\n",
"L=D*LD;\n",
"printf('L= %3.0f mm',L*1000);\n",
"printf('\n');"
   ]
   }
,
{
		   "cell_type": "markdown",
		   "metadata": {},
		   "source": [
			"## Example 7.5_1: Example_5.sce"
		   ]
		  },
  {
"cell_type": "code",
	   "execution_count": null,
	   "metadata": {
	    "collapsed": true
	   },
	   "outputs": [],
"source": [
"clc\n",
"clear\n",
"\n",
"Vc=5*(10^-4);\n",
"D=0.15;\n",
"L=0.2;\n",
"Vs=(22/7)*D*D*L*(1/4);\n",
"r=(Vc+Vs)/Vc;\n",
"G=1.4;\n",
"Ea=[1-(1/(r^(G-1)))];\n",
"Eith=0.3;\n",
"Erel=Eith/Ea;\n",
"printf('Erel= %3.2f Percent',Erel*100);\n",
"printf('\n');\n",
"\n",
"Pm=500;     //in kPa\n",
"n=1000/2;\n",
"IP=(Pm*Vs*n)/60;\n",
"printf('IP= %3.2f kW',IP);\n",
"printf('\n');"
   ]
   }
,
{
		   "cell_type": "markdown",
		   "metadata": {},
		   "source": [
			"## Example 7.6_1: Internal_Combustion_Engines.sce"
		   ]
		  },
  {
"cell_type": "code",
	   "execution_count": null,
	   "metadata": {
	    "collapsed": true
	   },
	   "outputs": [],
"source": [
"clc\n",
"clear\n",
"\n",
"Pm=600;\n",
"A=(22/7)*(1/4)*0.11*0.11*0.14;\n",
"n=1000;\n",
"IP=(Pm*A*n)/60;\n",
"Em=0.8;\n",
"BP=Em*IP;\n",
"printf('BP= %3.2f kW',BP);\n",
"printf('\n');"
   ]
   }
,
{
		   "cell_type": "markdown",
		   "metadata": {},
		   "source": [
			"## Example 7.7_1: Example_7.sce"
		   ]
		  },
  {
"cell_type": "code",
	   "execution_count": null,
	   "metadata": {
	    "collapsed": true
	   },
	   "outputs": [],
"source": [
"clc\n",
"clear\n",
"\n",
"r=6;\n",
"G=1.4;\n",
"Ea=100*[1-(1/(r^(G-1)))];\n",
"Ebt=Ea/2;\n",
"CV=41500;\n",
"BP=15;\n",
"Mf=BP/(CV*(Ebt/100));\n",
"printf('Mf= %3.2f kg/hr',Mf*3600);\n",
"printf('\n');"
   ]
   }
,
{
		   "cell_type": "markdown",
		   "metadata": {},
		   "source": [
			"## Example 7.8_1: Example_8.sce"
		   ]
		  },
  {
"cell_type": "code",
	   "execution_count": null,
	   "metadata": {
	    "collapsed": true
	   },
	   "outputs": [],
"source": [
"clc\n",
"clear\n",
"\n",
"n=4;\n",
";\n",
"\n",
"DL=1.2;\n",
"BP=32;\n",
"N=2500;\n",
"Pm=9;\n",
"Em=0.86;\n",
"Mf=9;\n",
"CV=43000;\n",
"\n",
"IP=BP/Em;\n",
"D=[[IP*60*4]/[Pm*100*(22/7)*DL*N*n]]^(1/3);\n",
"printf('D= %3.0f mm',D*1000);\n",
"printf('\n');\n",
"\n",
"L=DL*D;\n",
"printf('L= %3.0f mm',L*1000);\n",
"printf('\n');\n",
"\n",
"Ebth=BP/(Mf*CV/3600);\n",
"printf('Ebth= %3.2f Percent',Ebth*100);\n",
"printf('\n');\n",
"\n",
"Eith=Ebth/Em;\n",
"printf('Eith= %3.2f Percent',Eith*100);\n",
"printf('\n');\n",
""
   ]
   }
,
{
		   "cell_type": "markdown",
		   "metadata": {},
		   "source": [
			"## Example 7.9_1: Example_9.sce"
		   ]
		  },
  {
"cell_type": "code",
	   "execution_count": null,
	   "metadata": {
	    "collapsed": true
	   },
	   "outputs": [],
"source": [
"clc\n",
"clear\n",
"\n",
"Eith=0.29;\n",
"Em=0.77;\n",
"BP=5.5;\n",
"SG=0.87;\n",
"CV=43000;\n",
"Ebth=Em*Eith;\n",
"Mf=(BP*3600)/(Ebth*CV);\n",
"D=SG*1000;\n",
"Mff=(Mf*1000)/D\n",
"printf('Mf= %3.2f litre/hr',Mff);\n",
"printf('\n');"
   ]
   }
],
"metadata": {
		  "kernelspec": {
		   "display_name": "Scilab",
		   "language": "scilab",
		   "name": "scilab"
		  },
		  "language_info": {
		   "file_extension": ".sce",
		   "help_links": [
			{
			 "text": "MetaKernel Magics",
			 "url": "https://github.com/calysto/metakernel/blob/master/metakernel/magics/README.md"
			}
		   ],
		   "mimetype": "text/x-octave",
		   "name": "scilab",
		   "version": "0.7.1"
		  }
		 },
		 "nbformat": 4,
		 "nbformat_minor": 0
}
