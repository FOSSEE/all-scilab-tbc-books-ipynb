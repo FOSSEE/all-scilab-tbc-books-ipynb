{
"cells": [
 {
		   "cell_type": "markdown",
	   "metadata": {},
	   "source": [
       "# Chapter 13: Transmission of Motion and Power"
	   ]
	},
{
		   "cell_type": "markdown",
		   "metadata": {},
		   "source": [
			"## Example 13.1_1: Example_1.sce"
		   ]
		  },
  {
"cell_type": "code",
	   "execution_count": null,
	   "metadata": {
	    "collapsed": true
	   },
	   "outputs": [],
"source": [
"clc\n",
"clear\n",
"N1=250;\n",
"D1=53;\n",
"D2=32;\n",
"N2=N1*(D1/D2);\n",
"printf('Speed of shaft: %2.2f RPM',N2);\n",
"printf('\n');"
   ]
   }
,
{
		   "cell_type": "markdown",
		   "metadata": {},
		   "source": [
			"## Example 13.2_1: Example_2.sce"
		   ]
		  },
  {
"cell_type": "code",
	   "execution_count": null,
	   "metadata": {
	    "collapsed": true
	   },
	   "outputs": [],
"source": [
"clc\n",
"clear\n",
"\n",
"D1=600;\n",
"D2=300;\n",
"N1=100;\n",
"VR=D1/D2;\n",
"N2=VR*N1;\n",
"\n",
"printf('Case One \n');\n",
"printf('Velocity Ratio= %2.2f',VR);\n",
"printf('\n');\n",
"printf('Speed of driven shaft= %2.2f RPM',N2);\n",
"printf('\n\n');\n",
"\n",
"printf('Case Two \n');\n",
"VR=(D1+5)/(D2+5);\n",
"N2=VR*N1;\n",
"printf('Velocity Ratio= %2.2f',VR);\n",
"printf('\n');\n",
"printf('Speed of driven shaft= %2.2f RPM',N2);\n",
"printf('\n\n');\n",
"\n",
"printf('Case Three \n');\n",
"S=4;\n",
"VR=[(D1+5)/(D2+5)]*[(100-S)/100];\n",
"N2=VR*N1;\n",
"printf('Velocity Ratio= %2.2f',VR);\n",
"printf('\n');\n",
"printf('Speed of driven shaft= %2.2f RPM',N2);\n",
"printf('\n\n');"
   ]
   }
,
{
		   "cell_type": "markdown",
		   "metadata": {},
		   "source": [
			"## Example 13.3_1: Example_3.sce"
		   ]
		  },
  {
"cell_type": "code",
	   "execution_count": null,
	   "metadata": {
	    "collapsed": true
	   },
	   "outputs": [],
"source": [
"clc\n",
"clear\n",
"\n",
"D1=0.3;\n",
"D2=0.2;\n",
"C=3;\n",
"\n",
"L1=[(22/7)*(1/2)*(D1+D2)]+[((D1+D2)^2)/(4*C)]+(2*C);\n",
"L2=[(22/7)*(1/2)*(D1+D2)]+[((D1-D2)^2)/(4*C)]+(2*C);\n",
"\n",
"L=L2-L1;\n",
"printf('The belt length is to be reduced by %2.4f mm',(0-L)*1000);\n",
"printf('\n');"
   ]
   }
,
{
		   "cell_type": "markdown",
		   "metadata": {},
		   "source": [
			"## Example 13.4_1: Example_4.sce"
		   ]
		  },
  {
"cell_type": "code",
	   "execution_count": null,
	   "metadata": {
	    "collapsed": true
	   },
	   "outputs": [],
"source": [
"clc\n",
"clear\n",
"\n",
"D=1;\n",
"P=5000;\n",
"N=250;\n",
"Mew=0.25;\n",
"PP=20;\n",
"Theta=170*(22/7)*(1/180);\n",
"V=((22/7)*D*N)/60;\n",
"\n",
"T12=exp(Mew*Theta)-1;\n",
"T2=(P/(V*T12));\n",
"T1=(T12+1)*T2;\n",
"W=T1/PP;\n",
"\n",
"printf('Width of belt= %2.2f mm',W);\n",
"printf('\n');"
   ]
   }
,
{
		   "cell_type": "markdown",
		   "metadata": {},
		   "source": [
			"## Example 13.5_1: Example_5.sce"
		   ]
		  },
  {
"cell_type": "code",
	   "execution_count": null,
	   "metadata": {
	    "collapsed": true
	   },
	   "outputs": [],
"source": [
"clc\n",
"clear\n",
"\n",
"N1=1000;\n",
"Z1=30;\n",
"Z2=45;\n",
"Z3=75;\n",
"\n",
"N13=Z3/Z1;\n",
"N3=N1/N13;\n",
"\n",
"printf('Velocity Ratio of gear train= %2.1f ',N13);\n",
"printf('\n');\n",
"printf('N3= %2.1f RPM',N3);\n",
"printf('\n');"
   ]
   }
,
{
		   "cell_type": "markdown",
		   "metadata": {},
		   "source": [
			"## Example 13.6_1: Example_6.sce"
		   ]
		  },
  {
"cell_type": "code",
	   "execution_count": null,
	   "metadata": {
	    "collapsed": true
	   },
	   "outputs": [],
"source": [
"clc\n",
"clear\n",
"\n",
"Na=600;\n",
"Za=25;\n",
"Zb=50;\n",
"Zc=20;\n",
"Zd=40;\n",
"Nad=(Zb/Za)*(Zd/Zc);\n",
"Nd=Na/Nad;\n",
"\n",
"printf('Speed of Output Shaft= %2.1f RPM',Nd);\n",
"printf('\n');"
   ]
   }
],
"metadata": {
		  "kernelspec": {
		   "display_name": "Scilab",
		   "language": "scilab",
		   "name": "scilab"
		  },
		  "language_info": {
		   "file_extension": ".sce",
		   "help_links": [
			{
			 "text": "MetaKernel Magics",
			 "url": "https://github.com/calysto/metakernel/blob/master/metakernel/magics/README.md"
			}
		   ],
		   "mimetype": "text/x-octave",
		   "name": "scilab",
		   "version": "0.7.1"
		  }
		 },
		 "nbformat": 4,
		 "nbformat_minor": 0
}
