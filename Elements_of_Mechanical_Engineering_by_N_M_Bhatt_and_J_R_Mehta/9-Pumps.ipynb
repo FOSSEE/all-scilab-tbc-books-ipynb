{
"cells": [
 {
		   "cell_type": "markdown",
	   "metadata": {},
	   "source": [
       "# Chapter 9: Pumps"
	   ]
	},
{
		   "cell_type": "markdown",
		   "metadata": {},
		   "source": [
			"## Example 9.1_1: Example_1.sce"
		   ]
		  },
  {
"cell_type": "code",
	   "execution_count": null,
	   "metadata": {
	    "collapsed": true
	   },
	   "outputs": [],
"source": [
"clc\n",
"clear\n",
"D=0.3;\n",
"L=0.6;\n",
"N=60;\n",
"Hs=5;\n",
"Hd=10;\n",
"Ep=0.8;\n",
"Qa=0.075;\n",
"A=(22/7)*(1/4)*D*D;\n",
"Rho=1000;\n",
"g=9.81;\n",
"F1=Rho*g*Hs*A;\n",
"F2=Rho*g*Hd*A;\n",
"TF=F1+F2;\n",
"printf('Total Force Required: %2.2f kN',TF/1000);\n",
"printf('\n');\n",
"Q=(2*L*A*N)/60;\n",
"Qa=0.075;\n",
"Slip=(Q-Qa)/Q;\n",
"printf('Percentage Slip: %2.2f Percent',Slip*100);\n",
"printf('\n');\n",
"Cd=Qa/Q;\n",
"P=(Rho*g*Qa*(Hs+Hd))/Ep;\n",
"printf('Power input: %2.2f kW',P/1000);\n",
"printf('\n');"
   ]
   }
,
{
		   "cell_type": "markdown",
		   "metadata": {},
		   "source": [
			"## Example 9.2_1: Example_2.sce"
		   ]
		  },
  {
"cell_type": "code",
	   "execution_count": null,
	   "metadata": {
	    "collapsed": true
	   },
	   "outputs": [],
"source": [
"clc\n",
"clear\n",
"\n",
"Qa=0.025;\n",
"Hm=20;\n",
"L=0.4;\n",
"D=0.3;\n",
"\n",
"A=(22/7)*(1/4)*D*D;\n",
"Slip=0.02;\n",
"Q=25/[1000*(1-Slip)];\n",
"\n",
"N=(Q*60)/(L*A);\n",
"\n",
"printf('Speed of Pump: %2.2f RPM',N);\n",
"printf('\n');"
   ]
   }
,
{
		   "cell_type": "markdown",
		   "metadata": {},
		   "source": [
			"## Example 9.3_1: Example_3.sce"
		   ]
		  },
  {
"cell_type": "code",
	   "execution_count": null,
	   "metadata": {
	    "collapsed": true
	   },
	   "outputs": [],
"source": [
"clc\n",
"clear\n",
"\n",
"Hs=32;\n",
"N=1450;\n",
"Eff=0.85;\n",
"Q=0.05;\n",
"Hfs=1;\n",
"Hfd=6;\n",
"Hm=Hs+Hfd+Hfs;\n",
"Rho=1000;\n",
"g=9.81;\n",
"\n",
"P=[Rho*g*Q*Hm]/Eff;\n",
"printf('Power Consumed: %2.2f kW',P/1000);\n",
"printf('\n');"
   ]
   }
,
{
		   "cell_type": "markdown",
		   "metadata": {},
		   "source": [
			"## Example 9.4_1: Example_4.sce"
		   ]
		  },
  {
"cell_type": "code",
	   "execution_count": null,
	   "metadata": {
	    "collapsed": true
	   },
	   "outputs": [],
"source": [
"clc\n",
"clear\n",
"\n",
"Pm=25;\n",
"Em=0.9;\n",
"Q=0.063;\n",
"Hs=4;\n",
"Hd=25;\n",
"Rho=1000;\n",
"Hm=Hs+Hd;\n",
"g=9.81;\n",
"\n",
"Ph=Rho*g*Q*Hm/1000;\n",
"Ps=Em*Pm;\n",
"Ep=Ph/Ps;\n",
"\n",
"printf('Efficiency of Pump: %2.2f Percent',Ep*100);\n",
"printf('\n');"
   ]
   }
],
"metadata": {
		  "kernelspec": {
		   "display_name": "Scilab",
		   "language": "scilab",
		   "name": "scilab"
		  },
		  "language_info": {
		   "file_extension": ".sce",
		   "help_links": [
			{
			 "text": "MetaKernel Magics",
			 "url": "https://github.com/calysto/metakernel/blob/master/metakernel/magics/README.md"
			}
		   ],
		   "mimetype": "text/x-octave",
		   "name": "scilab",
		   "version": "0.7.1"
		  }
		 },
		 "nbformat": 4,
		 "nbformat_minor": 0
}
