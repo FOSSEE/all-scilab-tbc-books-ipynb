{
"cells": [
 {
		   "cell_type": "markdown",
	   "metadata": {},
	   "source": [
       "# Chapter 5: Steam Boilers"
	   ]
	},
{
		   "cell_type": "markdown",
		   "metadata": {},
		   "source": [
			"## Example 5.10_1: Example_10.sce"
		   ]
		  },
  {
"cell_type": "code",
	   "execution_count": null,
	   "metadata": {
	    "collapsed": true
	   },
	   "outputs": [],
"source": [
"clc\n",
"clear\n",
"\n",
"//At 10 bar pressure\n",
"Tsat=179.9;\n",
"Tsup=250;\n",
"Cps=2.1;                //in kJ/kg K\n",
"\n",
"Hg=2778.1;              //in kJ/kg\n",
"Ms=10;                  //in kg/kg of coal\n",
"Hsup=Hg+(Cps*(Tsup-Tsat));\n",
"\n",
"Hfw=155;\n",
"Me=(Ms*(Hsup-Hfw))/2257;\n",
"\n",
"FOE=Me/Ms;          //Factor of Evaporation\n",
"BP=(Me*370)/21.296;\n",
"printf('Equivalent Evaporation: %3.1f kg/kg of coal',Me);\n",
"printf('\n');\n",
"printf('Boiler Power: %3.1f kW',BP);\n",
"printf('\n');"
   ]
   }
,
{
		   "cell_type": "markdown",
		   "metadata": {},
		   "source": [
			"## Example 5.11_1: Example_11.sce"
		   ]
		  },
  {
"cell_type": "code",
	   "execution_count": null,
	   "metadata": {
	    "collapsed": true
	   },
	   "outputs": [],
"source": [
"clc\n",
"clear\n",
"\n",
"Ma=1100;            //in kg/hr\n",
"CV=33000;               //in kJ/kg\n",
"Tfw=46;             //in C\n",
"P=10;           //in bar\n",
"x=0.9;          //Dryness Fraction\n",
"Eff=0.81;           //Efficiency\n",
"\n",
"Hf=762.8;\n",
"Hfg=2015.3;\n",
"H=Hf+(x*Hfg);\n",
"Hfw=192.6;\n",
"\n",
"Mf=(Ma*(H-Hfw))/(CV*Eff);\n",
"printf('Amount of Coal Consumed per hour: %3.1f kg',Mf);\n",
"printf('\n');"
   ]
   }
,
{
		   "cell_type": "markdown",
		   "metadata": {},
		   "source": [
			"## Example 5.1_1: Example_1.sce"
		   ]
		  },
  {
"cell_type": "code",
	   "execution_count": null,
	   "metadata": {
	    "collapsed": true
	   },
	   "outputs": [],
"source": [
"clc\n",
"clear\n",
"Mf=1300;                //in kg\n",
"Ma=13000;               //in kg\n",
"P=7;                    //in bar\n",
"Cpw=4.187;              //in kJ/kg K\n",
"CV=30000;               //in kJ/kg\n",
"x=0.95;                 //Dryness Fraction\n",
"Tfw=40;                 //in C\n",
"Hfw=Tfw*Cpw;\n",
"//At 7 bar\n",
"Hf=697.2;               //in kJ/kg\n",
"Hfg=2066.3;             //in kJ/kg\n",
"H=Hf+(x*Hfg);\n",
"Ms=Ma/Mf;\n",
"Me=(Ms*(H-Hfw))/(2257);\n",
"printf('Equivalent evaporation: %3.2f kg/kg of coal',Me);\n",
"printf('\n');\n",
"Eff=100*(Ma*(H-Hfw))/(Mf*CV);\n",
"printf('Boiler Efficiency: %3.1f Percent',Eff);\n",
"printf('\n');"
   ]
   }
,
{
		   "cell_type": "markdown",
		   "metadata": {},
		   "source": [
			"## Example 5.12_1: Example_12.sce"
		   ]
		  },
  {
"cell_type": "code",
	   "execution_count": null,
	   "metadata": {
	    "collapsed": true
	   },
	   "outputs": [],
"source": [
"clc\n",
"clear\n",
"\n",
"Ms=7.3;             //kg/kg of fuel\n",
"Tfw=46;             //in C\n",
"P=10;               //in bar\n",
"FOE=1.17;           //Factor of Evaporation\n",
"Eff=0.79;\n",
"Me=FOE*Ms;\n",
"printf('Equivalent Evaporation: %3.2f kg/kg of coal',Me);\n",
"printf('\n');\n",
"\n",
"Hfw=192.6;              //in kJ/kg\n",
"Hg=2778.1;              //in kJ/kg\n",
"Tsat=179.9;             //in C\n",
"Cps=2.1;                //in kJ/kg K\n",
"H=(2257*FOE)+Hfw;\n",
"Tsup=((H-Hg)/Cps)+Tsat;\n",
"printf('Temperature of Superheated Steam: %3.1f C',Tsup);\n",
"printf('\n');\n",
"\n",
"CV=(Ms*(H-Hfw))/Eff;\n",
"printf('Calorific Value: %3.1f kJ/kg',CV);\n",
"printf('\n');"
   ]
   }
,
{
		   "cell_type": "markdown",
		   "metadata": {},
		   "source": [
			"## Example 5.13_1: Example_13.sce"
		   ]
		  },
  {
"cell_type": "code",
	   "execution_count": null,
	   "metadata": {
	    "collapsed": true
	   },
	   "outputs": [],
"source": [
"clc\n",
"clear\n",
"\n",
"Ma=18000;           //in kg/hr\n",
"P=10;               //in bar\n",
"x=0.97;             //Dryness Fraction\n",
"Tfw=40;             //in C\n",
"Mf=2050;            //in kg/hr\n",
"CV=28000;           //kJ/kg\n",
"\n",
"//At 10 bar\n",
"Hf1=762.8;\n",
"Hfg1=2015.3;\n",
"H=Hf1+(x*Hfg1);\n",
"\n",
"Hfw=167.6;\n",
"\n",
"Eff=(Ma*100*(H-Hfw))/(Mf*CV);\n",
"printf('Boiler efficiency: %3.2f Percent',Eff);\n",
"printf('\n');\n",
"\n",
"EA=((Ma/Mf)*(H-Hfw))/2257;\n",
"printf('Equivalent Evaporation: %3.2f kg/kg of coal',EA);\n",
"printf('\n');"
   ]
   }
,
{
		   "cell_type": "markdown",
		   "metadata": {},
		   "source": [
			"## Example 5.14_1: Example_14.sce"
		   ]
		  },
  {
"cell_type": "code",
	   "execution_count": null,
	   "metadata": {
	    "collapsed": true
	   },
	   "outputs": [],
"source": [
"clc\n",
"clear\n",
"\n",
"Ma=18000;           //in kg/hr\n",
"P=12;           //in bar\n",
"x=0.97;         //Dryness Fraction\n",
"CV=27400;       //in kJ/kg\n",
"Mf=2050;            //in kg>hr\n",
"\n",
"Qs=Mf*CV;\n",
"printf('Heat Supplied per hour: %3.1f kJ/hr',Qs);\n",
"printf('\n');\n",
"\n",
"//At 12 bar \n",
"Hf=798.6;           //in kJ/kg\n",
"Hfg=1986.2;         //in kJ/kg\n",
"H1=Hf+(x*Hfg);\n",
"\n",
"//At 105 C\n",
"Hfw=438.9;          //in kJ/kg\n",
"Eff=(Ma*100*(H1-Hfw))/Qs;\n",
"printf('Thermal Efficiency: %3.2f Percent',Eff);\n",
"printf('\n');\n",
"\n",
"Ms=Ma/Mf;\n",
"printf('Factor of Evaporation: %3.2f ',Ms);\n",
"printf('\n');"
   ]
   }
,
{
		   "cell_type": "markdown",
		   "metadata": {},
		   "source": [
			"## Example 5.15_1: Example_15.sce"
		   ]
		  },
  {
"cell_type": "code",
	   "execution_count": null,
	   "metadata": {
	    "collapsed": true
	   },
	   "outputs": [],
"source": [
"clc\n",
"clear\n",
"\n",
"Ms=7.5;         //kg/kg of coal\n",
"P=11;           //in bar\n",
"Tf=70;          //in C\n",
"Eff=0.75;       //Efficiency\n",
"FOE=1.15;       //Factor of Evaporation\n",
"Cps=2.1;        //in kJ/kg K\n",
"Hfw=293;        //in kJ/kg\n",
"H=(FOE*2257)+Hfw;\n",
"\n",
"//At 11 bar\n",
"Hg=2781.7;      //in kJ/kg\n",
"Tsat=184.1;     //in C\n",
"Tsup=((H-Hg)/Cps)+Tsat;\n",
"DOS=Tsup-Tsat;      //Degree of Superheat\n",
"printf('Degree of Superheat: %3.1f C',DOS);\n",
"printf('\n');\n",
"\n",
"Me=(Ms*(H-Hfw))/2257;\n",
"printf('Equivalent evaporation: %3.2f kg/kg of coal',Me);\n",
"printf('\n');\n",
"\n",
"CV=(Ms*(H-Hfw))/Eff;\n",
"printf('Calorific value of Boiler: %3.2f kJ/kg ',CV);\n",
"printf('\n');"
   ]
   }
,
{
		   "cell_type": "markdown",
		   "metadata": {},
		   "source": [
			"## Example 5.16_1: Example_16.sce"
		   ]
		  },
  {
"cell_type": "code",
	   "execution_count": null,
	   "metadata": {
	    "collapsed": true
	   },
	   "outputs": [],
"source": [
"clc\n",
"clear\n",
"\n",
"Ma=17000;       //in kg/hr\n",
"P=14;           //in bar\n",
"x=0.95;         //Dryness Fraction\n",
"Tfw=102;            //in C\n",
"Mf=2050;            //in kg/hr\n",
"CV=27400;       //Calorific Value\n",
"HS=Mf*CV;\n",
"printf('Heat Supplied per hour: %3.2f kJ',HS);\n",
"printf('\n');\n",
"\n",
"Hf=830.3;           //in kJ/kg\n",
"Hfg=1959.7;         //in kJ/kg\n",
"Hfw=427.5;          //in kJ/kg\n",
"\n",
"H=Hf+(x*Hfg);\n",
"Eff=(Ma*100*(H-Hfw))/(Mf*CV);\n",
"printf('Efficiency of Boiler: %3.2f Percent',Eff);\n",
"printf('\n');\n",
"\n",
"Ms=Ma/Mf;\n",
"Me=(Ms*(H-Hfw))/2257;\n",
"printf('Equivalent evaporation: %3.2f kg/kg of coal',Me);\n",
"printf('\n');"
   ]
   }
,
{
		   "cell_type": "markdown",
		   "metadata": {},
		   "source": [
			"## Example 5.17_1: Example_17.sce"
		   ]
		  },
  {
"cell_type": "code",
	   "execution_count": null,
	   "metadata": {
	    "collapsed": true
	   },
	   "outputs": [],
"source": [
"clc\n",
"clear\n",
"\n",
"Ma=1800;        //kg/hr\n",
"P=12;           //in bar\n",
"x=0.97;         //Dryness Fraction\n",
"Tfw=105;        //in C\n",
"Mf=2050;        //in kg/hr\n",
"CV=27400;       //in kJ/kg\n",
"\n",
"Q=Mf*CV;\n",
"printf('Heat Supplied: %3.2f kJ',Q);\n",
"printf('\n');\n",
"\n",
"//At 12 bar pressure\n",
"Hf=798.6;           //in kJ/kg\n",
"Hfg=1986.2;         //in kJ/kg\n",
"H=Hf+(x*Hfg);\n",
"Hfw=4.187*Tfw;\n",
"\n",
"Me=(Ma*(H-Hfw))/(2257*Mf);\n",
"printf('Equivalent Evaporation: %3.2f kg/kg of coal',Me);\n",
"printf('\n');\n",
"\n",
"Eff=(Ma*100*(H-Hfw))/(CV*Mf);\n",
"printf('Efficiency of boiler: %3.2f Percent',Eff);\n",
"printf('\n');"
   ]
   }
,
{
		   "cell_type": "markdown",
		   "metadata": {},
		   "source": [
			"## Example 5.18_1: Example_18.sce"
		   ]
		  },
  {
"cell_type": "code",
	   "execution_count": null,
	   "metadata": {
	    "collapsed": true
	   },
	   "outputs": [],
"source": [
"clc\n",
"clear\n",
"\n",
"Me=10;      //kg/kg\n",
"CV=34000        //kJ/kg\n",
"\n",
"x=Me*2257;\n",
"\n",
"Eff=100*x/CV;\n",
"printf('Efficiency of Boiler: %3.2f Percent',Eff);\n",
"printf('\n');"
   ]
   }
,
{
		   "cell_type": "markdown",
		   "metadata": {},
		   "source": [
			"## Example 5.19_1: Example_19.sce"
		   ]
		  },
  {
"cell_type": "code",
	   "execution_count": null,
	   "metadata": {
	    "collapsed": true
	   },
	   "outputs": [],
"source": [
"clc\n",
"clear\n",
"\n",
"Ma=5500;        //kg/hr\n",
"P=1;            //bar\n",
"x=0.94;         //Dryness Fraction\n",
"Tfw=40;         //in C\n",
"Mf=600;         //kg/hr\n",
"CV=32000;       //kJ/kg\n",
"Hfw=Tfw*4.187;\n",
"\n",
"//At 1 bar pressure\n",
"Hf=417.5;       //kJ/kg\n",
"Hfg=2258;       //kJ/kg\n",
"H=Hf+(x*Hfg);\n",
"Ms=Ma/Mf;\n",
"\n",
"Me=(Ms*(H-Hfw))/2257;\n",
"printf('Equivalent Evaporation: %3.3f kg/kg of coal',Me);\n",
"printf('\n');\n",
"\n",
"Eff=(Ms*100*(H-Hfw))/CV;\n",
"printf('Efficiency: %3.2f percent',Eff);\n",
"printf('\n');"
   ]
   }
,
{
		   "cell_type": "markdown",
		   "metadata": {},
		   "source": [
			"## Example 5.2_1: Example_2.sce"
		   ]
		  },
  {
"cell_type": "code",
	   "execution_count": null,
	   "metadata": {
	    "collapsed": true
	   },
	   "outputs": [],
"source": [
"clc\n",
"clear\n",
"\n",
"Ma=5400;                //in kg/hr\n",
"Tfw=42;                 //in C\n",
"P=7.6;                  //in bar\n",
"Mf=670;                 //in kg/hr\n",
"x=0.98;                 //Dryness Fraction\n",
"CV=31000;               //kJ/kg\n",
"Ms=Ma/Mf;\n",
"Hf=175.81;              //in kJ/kg\n",
"Hfw=Hf;\n",
"\n",
"//Now at 7.6 bar pressure\n",
"Hf=711.8;               //in kJ/kg\n",
"Hfg=2055.2;             //in kJ/kg\n",
"\n",
"H=Hf+(x*Hfg);\n",
"Eff=100*(Ma*(H-Hfw))/(Mf*CV);\n",
"printf('Boiler Efficiency %3.1f percent',Eff);\n",
"printf('\n');\n",
"\n",
"Me=(Ms*(H-Hfw))/(2257);\n",
"printf('Equivalent evaporation: %3.2f kg/kg of coal',Me);\n",
"printf('\n');"
   ]
   }
,
{
		   "cell_type": "markdown",
		   "metadata": {},
		   "source": [
			"## Example 5.3_1: Example_3.sce"
		   ]
		  },
  {
"cell_type": "code",
	   "execution_count": null,
	   "metadata": {
	    "collapsed": true
	   },
	   "outputs": [],
"source": [
"clc\n",
"clear\n",
"\n",
"P=12;                   //in bar\n",
"CV=34000;               //in kJ/kg\n",
"T=250;                  //in C\n",
"Ms=10;                  //in kg/kg of coal\n",
"Tfw=36;                 //in C\n",
"Hfw=150.74;             //in kJ/kg\n",
"Hg=2784.8;              //in kJ/kg\n",
"Tsup=T;\n",
"Tsat=188;               //in C\n",
"Cps=2.1;                //in kJ/kg K\n",
"H=Hg+(Cps*(Tsup-Tsat));\n",
"\n",
"Me=(Ms*(H-Hfw))/2257;\n",
"printf('Equivalent evaporation: %3.2f kg/kg of coal',Me);\n",
"printf('\n');\n",
"\n",
"Eff=(Me*250)/21.296;\n",
"printf('Boiler Power: %3.2f kW',Eff);\n",
"printf('\n');"
   ]
   }
,
{
		   "cell_type": "markdown",
		   "metadata": {},
		   "source": [
			"## Example 5.4_1: Example_4.sce"
		   ]
		  },
  {
"cell_type": "code",
	   "execution_count": null,
	   "metadata": {
	    "collapsed": true
	   },
	   "outputs": [],
"source": [
"clc\n",
"clear\n",
"\n",
"Ma=35500;           //kg of steam\n",
"Mf=3460;\n",
"CV=39500;\n",
"Ms=Ma/Mf;\n",
"\n",
"\n",
"Hfw2=313.9;             //in kJ/kg\n",
"Hfw1=71.4;              //in kJ/kg\n",
"\n",
"Q=Ma*(Hfw2-Hfw1);           //Heat added in economizer\n",
"H=2915.0;           //in kJ/kg\n",
"\n",
"Me=(Ms*(H-Hfw2))/2257;\n",
"printf('Equivalent evaporation: %3.2f kg/kg of Oil',Me);\n",
"printf('\n');\n",
"\n",
"Eff1=(Ma*100*(H-Hfw2))/(Mf*CV);\n",
"printf('Thermal Efficiency of boiler: %3.1f Percent',Eff1);\n",
"printf('\n');\n",
"\n",
"Eff2=(Ma*100*(H-Hfw1))/(Mf*CV);\n",
"printf('Thermal Efficiency of Boiler plant: %3.1f Percent',Eff2);\n",
"printf('\n');\n",
"\n",
"HU=860875000/(Mf*CV);\n",
"printf('Heat Utilized by Economizer: %3.1f Percent',HU);\n",
"printf('\n');"
   ]
   }
,
{
		   "cell_type": "markdown",
		   "metadata": {},
		   "source": [
			"## Example 5.5_1: Example_5.sce"
		   ]
		  },
  {
"cell_type": "code",
	   "execution_count": null,
	   "metadata": {
	    "collapsed": true
	   },
	   "outputs": [],
"source": [
"clc\n",
"clear\n",
"\n",
"Ma=10000;           //in kg/hr\n",
"P=7;                //in bar\n",
"\n",
"Tfw=40;             //in C\n",
"Hfw=167.6;          //in kJ/kg\n",
"H=2763.5;           //in kJ/kg\n",
"\n",
"Q=Ma*(H-Hfw)/60;            //Heat per minute\n",
"SA=Q/2720;                  //Heating surface area required\n",
"printf('Heating surface area required: %3.1f m^2',SA);\n",
"printf('\n');\n",
"\n",
"GA=SA/25;\n",
"printf('Grate area required: %3.1f m^2',GA);\n",
"printf('\n');"
   ]
   }
,
{
		   "cell_type": "markdown",
		   "metadata": {},
		   "source": [
			"## Example 5.6_1: Example_6.sce"
		   ]
		  },
  {
"cell_type": "code",
	   "execution_count": null,
	   "metadata": {
	    "collapsed": true
	   },
	   "outputs": [],
"source": [
"clc\n",
"clear\n",
"\n",
"Ma=2400;            //in kg\n",
"Mf=240;             //in kg\n",
"P=12;               //in bar\n",
"CV=33500;           //in kJ/kg\n",
"Tfw=120;            //in C\n",
"Cpw=4.187;\n",
"Hfw=Cpw*Tfw;\n",
"H=2784.8;           //in kJ/kg\n",
"Mfa=Mf-(0.1*Mf);\n",
"Eff=(Ma*100*(H-Hfw))/(Mfa*CV);\n",
"printf('Thermal Efficiency: %3.1f percent',Eff);\n",
"printf('\n');\n",
"\n",
"Eff1=(Ma*100*(H-Hfw))/(Mf*CV);\n",
"printf('Thermal Efficiency of boiler and grate: %3.1f percent',Eff1);\n",
"printf('\n');"
   ]
   }
,
{
		   "cell_type": "markdown",
		   "metadata": {},
		   "source": [
			"## Example 5.7_1: Example_7.sce"
		   ]
		  },
  {
"cell_type": "code",
	   "execution_count": null,
	   "metadata": {
	    "collapsed": true
	   },
	   "outputs": [],
"source": [
"clc\n",
"clear\n",
"\n",
"Mf=255;         //in kg\n",
"x=0.94;         //Dryness Fraction\n",
"CV=30100;       //in kJ/kg\n",
"P=11.5;         //in bar\n",
"Ma=2100;        //in kg\n",
"Tfw=25;         //in C\n",
"Ms=Ma/Mf;\n",
"\n",
"Hfw=104.9;          //in kJ/kg\n",
"Hf=790.1;           //in kJ/kg\n",
"Hfg=1993.2;         //in kJ/kg\n",
"H=Hf+(x*Hfg);\n",
"\n",
"Me=(Ms*(H-Hfw))/2257;\n",
"Eff=(Ma*100*(H-Hfw))/(Mf*CV);\n",
"printf('Equivalent Evaporation: %3.2f kg/kg of coal \n',Me)\n",
"printf('Thermal Efficiency: %3.1f percent',Eff);\n",
"printf('\n');"
   ]
   }
,
{
		   "cell_type": "markdown",
		   "metadata": {},
		   "source": [
			"## Example 5.8_1: Example_8.sce"
		   ]
		  },
  {
"cell_type": "code",
	   "execution_count": null,
	   "metadata": {
	    "collapsed": true
	   },
	   "outputs": [],
"source": [
"clc\n",
"clear\n",
"\n",
"Hf=762.8;               //in kJ/kg\n",
"Hfg=2015.3;             //in kJ/kg\n",
"x=0.95;                 //Dryness Fraction\n",
"Ma=1000;\n",
"Eff=0.75;\n",
"CV=31000;\n",
"\n",
"H=Hf+(x*Hfg);\n",
"Cpw=4.187;\n",
"T=50;\n",
"\n",
"Hfw=Cpw*T;\n",
"Q=Ma*(H-Hfw);\n",
"\n",
"Mf=Q/(Eff*CV);\n",
"y=Mf/0.9;\n",
"\n",
"Eff1=(Q*100)/(y*CV);\n",
"printf('Efficiency of Boiler and grate: %3.1f percent',Eff1);\n",
"printf('\n');"
   ]
   }
,
{
		   "cell_type": "markdown",
		   "metadata": {},
		   "source": [
			"## Example 5.9_1: Example_9.sce"
		   ]
		  },
  {
"cell_type": "code",
	   "execution_count": null,
	   "metadata": {
	    "collapsed": true
	   },
	   "outputs": [],
"source": [
"clc\n",
"clear\n",
"\n",
"//At 10 bar\n",
"Hg=2778.1;              //in kJ/kg\n",
"Cp=2.1;                 //in kJ/kg K\n",
"T=50;\n",
"CV=30000;           //in kJ/kg\n",
"\n",
"H=Hg+(Cp*T);\n",
"C=4.187;\n",
"Tf=30;\n",
"Hfw=C*Tf;\n",
"\n",
"Ms=800/100;\n",
"\n",
"Me=(Ms*(H-Hfw))/2257;\n",
"printf('Equivalent Evaporation: %3.2f kg/kg of coal',Me);\n",
"printf('\n');\n",
"\n",
"Eff=(Ms*100*(H-Hfw))/CV;\n",
"printf('Efficiency of Boiler and grate: %3.1f percent',Eff);\n",
"printf('\n');"
   ]
   }
],
"metadata": {
		  "kernelspec": {
		   "display_name": "Scilab",
		   "language": "scilab",
		   "name": "scilab"
		  },
		  "language_info": {
		   "file_extension": ".sce",
		   "help_links": [
			{
			 "text": "MetaKernel Magics",
			 "url": "https://github.com/calysto/metakernel/blob/master/metakernel/magics/README.md"
			}
		   ],
		   "mimetype": "text/x-octave",
		   "name": "scilab",
		   "version": "0.7.1"
		  }
		 },
		 "nbformat": 4,
		 "nbformat_minor": 0
}
