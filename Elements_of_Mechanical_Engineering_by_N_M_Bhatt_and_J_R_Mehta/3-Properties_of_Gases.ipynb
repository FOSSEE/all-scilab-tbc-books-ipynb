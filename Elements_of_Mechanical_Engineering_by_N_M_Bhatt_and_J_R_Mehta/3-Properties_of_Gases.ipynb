{
"cells": [
 {
		   "cell_type": "markdown",
	   "metadata": {},
	   "source": [
       "# Chapter 3: Properties of Gases"
	   ]
	},
{
		   "cell_type": "markdown",
		   "metadata": {},
		   "source": [
			"## Example 3.1_1: Example1.sce"
		   ]
		  },
  {
"cell_type": "code",
	   "execution_count": null,
	   "metadata": {
	    "collapsed": true
	   },
	   "outputs": [],
"source": [
"clc\n",
"clear\n",
"//Declaring Values\n",
"V=3;        //Volume in m^3\n",
"P1=2500;      //Pressure in kilobar\n",
"P2=1500;\n",
"T2=21+273;  //Temperature in Kelvin\n",
"T1=(T2*P1)/P2;\n",
"Cp=1.005;\n",
"Cv=0.718;\n",
"R=Cp-Cv;            //Universal Gas Constant\n",
"m=(P1*V)/(R*T1);        //Calculating mass\n",
"H=m*Cp*(T2-T1);\n",
"U=m*Cv*(T2-T1);\n",
"Q=U;        //Since Constant Volume Process: Work Done=0\n",
"//Displaying Results\n",
"printf('Change in Enthalpy: %5.2f kJ',H);\n",
"printf('\n');\n",
"printf('Change in Internal Energy: %5.2f kJ',U);\n",
"printf('\n');\n",
"printf('Heat Transfer: %4.2f kJ',Q);\n",
"printf('\n')\n",
"printf('As Answer is negative, system rejects heat');"
   ]
   }
,
{
		   "cell_type": "markdown",
		   "metadata": {},
		   "source": [
			"## Example 3.13_1: Example13.sce"
		   ]
		  },
  {
"cell_type": "code",
	   "execution_count": null,
	   "metadata": {
	    "collapsed": true
	   },
	   "outputs": [],
"source": [
"clc\n",
"clear\n",
"\n",
"//Inputs\n",
"//The Values in the program are as follows:\n",
"//Temperature in Celcius converted to Kelvin(by adding 273)\n",
"//Pressure in bar converted to kPa (by multiplying 100)\n",
"//Volume in m^3\n",
"//Value of R,Cp and Cv in kJ/kg K\n",
"m=1;\n",
"P2=25;\n",
"P1=1;\n",
"pV=260;\n",
"T1=17+273;\n",
"T2=T1;\n",
"V1=(pV*T1)/(P1*100000);\n",
"printf('As process is Isothermal, Initial and Final Temperatures are same \n');\n",
"printf('The Final Temperature: %3.0f K',T1);\n",
"printf('\n');\n",
"V2=(pV*T2)/(P2*100000);\n",
"printf('The Final Volume: %3.5f m^3',V2);\n",
"printf('\n');\n",
"CR=P2/P1;\n",
"printf('The Compression Ratio: %3.0f ',CR);\n",
"printf('\n');\n",
"printf('Change in Enthalpy is zero as it is Isothermal process \n');\n",
"W=P1*100*V1*(log(P1/P2));\n",
"printf('Work Done is: %3.1f kJ',W);\n",
"printf('\n');"
   ]
   }
,
{
		   "cell_type": "markdown",
		   "metadata": {},
		   "source": [
			"## Example 3.14_1: Example14.sce"
		   ]
		  },
  {
"cell_type": "code",
	   "execution_count": null,
	   "metadata": {
	    "collapsed": true
	   },
	   "outputs": [],
"source": [
"clc\n",
"clear\n",
"\n",
"//Inputs\n",
"//The Values in the program are as follows:\n",
"//Temperature in Celcius converted to Kelvin(by adding 273)\n",
"//Pressure in bar converted to kPa (by multiplying 100)\n",
"//Volume in m^3\n",
"//Value of R,Cp and Cv in kJ/kg K\n",
"P2=6;\n",
"Cp=1.75;\n",
"P1=1;\n",
"n=1.3;\n",
"T1=30+273;\n",
"M=30;\n",
"m=2;\n",
"Ro=8314.4;\n",
"R=(Ro/M)/1000;\n",
"printf('The Gas Constant: %3.3f kJ/kg K', R);\n",
"printf('\n');\n",
"Cv=Cp-R;\n",
"G=Cp/Cv;\n",
"printf('The value of Gamma: %1.2f ',G);\n",
"printf('\n');\n",
"T2=(T1)*((P2/P1)^((n-1)/n));\n",
"printf('Final Temperature: %3.2f K',T2);\n",
"printf('\n');\n",
"W=(m*R*(T1-T2))/(n-1);\n",
"printf('The work done on the gas: %3.2f kJ',W);\n",
"printf('\n');\n",
"Q=((G-n)/(G-1))*W;\n",
"printf('The Heat Transfer is %3.2f kJ',Q);\n",
"printf('\n');\n",
"U=m*Cv*(T2-T1);\n",
"printf('The change in Internal Energy is %3.2f kJ',U);\n",
"printf('\n');"
   ]
   }
,
{
		   "cell_type": "markdown",
		   "metadata": {},
		   "source": [
			"## Example 3.15_1: Example15.sce"
		   ]
		  },
  {
"cell_type": "code",
	   "execution_count": null,
	   "metadata": {
	    "collapsed": true
	   },
	   "outputs": [],
"source": [
"clc\n",
"clear\n",
"\n",
"//Inputs\n",
"//The Values in the program are as follows:\n",
"//Temperature in Celcius converted to Kelvin(by adding 273)\n",
"//Pressure in bar converted to kPa (by multiplying 100)\n",
"//Volume in m^3\n",
"//Value of R,Cp and Cv in kJ/kg K\n",
"P1=350;\n",
"P2=130;\n",
"R=0.287;\n",
"T1=450;\n",
"G=1.4;\n",
"m=1;\n",
"T2=T1*((P2/P1)^((G-1)/G));\n",
"W=(m*R*(T1-T2))/(G-1);\n",
"printf('Amount of External Work done: %3.2f kJ/kg',W);\n",
"printf('\n');\n",
"U=-W;\n",
"printf('Change in Internal Energy: %3.2f kJ/kg',U);\n",
"printf('\n');"
   ]
   }
,
{
		   "cell_type": "markdown",
		   "metadata": {},
		   "source": [
			"## Example 3.16_1: Example16.sce"
		   ]
		  },
  {
"cell_type": "code",
	   "execution_count": null,
	   "metadata": {
	    "collapsed": true
	   },
	   "outputs": [],
"source": [
"clc\n",
"clear\n",
"//Inputs\n",
"//The Values in the program are as follows:\n",
"//Temperature in Celcius converted to Kelvin(by adding 273)\n",
"//Pressure in bar converted to kPa (by multiplying 100)\n",
"//Volume in m^3\n",
"//Value of R,Cp and Cv in kJ/kg K\n",
"P1=1.5;\n",
"V1=0.1;\n",
"V2=0.04;\n",
"P2=7.5;\n",
"T1=30+273;\n",
"//Using ideal gas equation\n",
"T2=(P2*V2*T1)/(P1*V1);\n",
"printf('The Value of Temperature of gas: %3.0f K',T2);"
   ]
   }
,
{
		   "cell_type": "markdown",
		   "metadata": {},
		   "source": [
			"## Example 3.17_1: Example17.sce"
		   ]
		  },
  {
"cell_type": "code",
	   "execution_count": null,
	   "metadata": {
	    "collapsed": true
	   },
	   "outputs": [],
"source": [
"clc\n",
"clear\n",
"\n",
"//Inputs\n",
"//The Values in the program are as follows:\n",
"//Temperature in Celcius converted to Kelvin(by adding 273)\n",
"//Pressure in bar converted to kPa (by multiplying 100)\n",
"//Volume in m^3\n",
"//Value of R,Cp and Cv in kJ/kg K\n",
"P1=1.5;\n",
"V1=3;\n",
"T1=27+273;\n",
"P2=30;\n",
"T2=60+273;\n",
"R=0.287;\n",
"\n",
"m1=(P1*100*V1)/(R*T1);\n",
"m2=(P2*100*V1)/(R*T2);\n",
"\n",
"m=m2-m1;\n",
"printf('The mass pumped: %2.2f kg',m);\n",
"printf('\n');\n",
"V=(m*R*(17+273))/(1*100);\n",
"\n",
"printf('Volume: %2.2f m^3',V);\n",
"printf('\n');\n",
"\n",
"T3=27+273;\n",
"P3=(T3*P2)/T2;\n",
"\n",
"printf('Final air pressure in the vessel: %2.2f bar',P3);\n",
"printf('\n');"
   ]
   }
,
{
		   "cell_type": "markdown",
		   "metadata": {},
		   "source": [
			"## Example 3.18_1: Example18.sce"
		   ]
		  },
  {
"cell_type": "code",
	   "execution_count": null,
	   "metadata": {
	    "collapsed": true
	   },
	   "outputs": [],
"source": [
"clc\n",
"clear\n",
"//Inputs\n",
"//The Values in the program are as follows:\n",
"//Temperature in Celcius converted to Kelvin(by adding 273)\n",
"//Pressure in bar converted to kPa (by multiplying 100)\n",
"//Volume in m^3\n",
"//Value of R,Cp and Cv in kJ/kg K\n",
"V1=1.5;\n",
"m=2;\n",
"T1=27+273;\n",
"T2=207+273;\n",
"V2=V1;\n",
"M=28;\n",
"Ro=8.314;\n",
"R=Ro/M;\n",
"P1=(m*R*T1)/V1;\n",
"printf('The initial pressure of gas: %3.3f bar',P1/100);\n",
"printf('\n');\n",
"P2=(P1*T2)/T1;\n",
"printf('The final pressure of gas: %3.3f bar',P2/100);\n",
"printf('\n');"
   ]
   }
,
{
		   "cell_type": "markdown",
		   "metadata": {},
		   "source": [
			"## Example 3.19_1: Example19.sce"
		   ]
		  },
  {
"cell_type": "code",
	   "execution_count": null,
	   "metadata": {
	    "collapsed": true
	   },
	   "outputs": [],
"source": [
"clc\n",
"clear\n",
"\n",
"//Inputs\n",
"//The Values in the program are as follows:\n",
"//Temperature in Celcius converted to Kelvin(by adding 273)\n",
"//Pressure in bar converted to kPa (by multiplying 100)\n",
"//Volume in m^3\n",
"//Value of R,Cp and Cv in kJ/kg K\n",
"T1=27+273;\n",
"V1=0.06;\n",
"P1=150;\n",
"Ro=8.314;\n",
"M=28;\n",
"\n",
"R=Ro/M;\n",
"m=(P1*100*V1)/(R*T1);\n",
"printf('Mass of gas at design condition: %2.1f kg',m);\n",
"printf('\n');\n",
"\n",
"P2=170;\n",
"T2=(T1*P2)/P1;\n",
"printf('Fusible plug should melt at: %3.0f K',T2);\n",
"printf('\n');"
   ]
   }
,
{
		   "cell_type": "markdown",
		   "metadata": {},
		   "source": [
			"## Example 3.20_1: Example20.sce"
		   ]
		  },
  {
"cell_type": "code",
	   "execution_count": null,
	   "metadata": {
	    "collapsed": true
	   },
	   "outputs": [],
"source": [
"clc\n",
"clear\n",
"\n",
"//Inputs\n",
"//The Values in the program are as follows:\n",
"//Temperature in Celcius converted to Kelvin(by adding 273)\n",
"//Pressure in bar converted to kPa (by multiplying 100)\n",
"//Volume in m^3\n",
"//Value of R,Cp and Cv in kJ/kg K\n",
"P1=7;\n",
"m=3.7;\n",
"V1=1.5;\n",
"P2=1.4;\n",
"V2=4.5;\n",
"U=648;\n",
"Cv=1.05;\n",
"\n",
"RT1=(P1*100*V1)/(m);\n",
"RT2=(P2*100*V2)/(m);\n",
"\n",
"RT=RT1-RT2;\n",
"T=(U)/(m*Cv);\n",
"R=(RT/T)\n",
"printf('The value of R: %1.3f kJ/kg K',R);\n",
"printf('\n');\n",
"\n",
"Cp=Cv+R;\n",
"H=m*Cp*(-T);\n",
"printf('The change in enthalpy is: %4.2f kJ',H);\n",
"printf('\n');\n",
"\n",
"T1=RT1/R;\n",
"T2=RT2/R;\n",
"\n",
"printf('Initial Temperature: %3.2f K \n',T1);\n",
"printf('Final Temperature: %3.2f K \n',T2);"
   ]
   }
,
{
		   "cell_type": "markdown",
		   "metadata": {},
		   "source": [
			"## Example 3.21_1: Example21.sce"
		   ]
		  },
  {
"cell_type": "code",
	   "execution_count": null,
	   "metadata": {
	    "collapsed": true
	   },
	   "outputs": [],
"source": [
"clc\n",
"clear\n",
"//Inputs\n",
"//The Values in the program are as follows:\n",
"//Temperature in Celcius converted to Kelvin(by adding 273)\n",
"//Pressure in bar converted to kPa (by multiplying 100)\n",
"//Volume in m^3\n",
"//Value of R,Cp and Cv in kJ/kg K\n",
"V=1.6;\n",
"P=1;\n",
"m=2;\n",
"T=17+273;\n",
"G=1.4;\n",
"R=(P*100*V)/(m*T);\n",
"Cv=(R)/(G-1);\n",
"printf('The Value of Cv: %1.2f kJ/kg K',Cv);\n",
"printf('\n');\n",
"Cp=Cv+R;\n",
"printf('The Value of Cp: %1.3f kJ/kg K',Cp);\n",
"printf('\n')"
   ]
   }
,
{
		   "cell_type": "markdown",
		   "metadata": {},
		   "source": [
			"## Example 3.2_1: Example2.sce"
		   ]
		  },
  {
"cell_type": "code",
	   "execution_count": null,
	   "metadata": {
	    "collapsed": true
	   },
	   "outputs": [],
"source": [
"clc\n",
"clear\n",
"//Inputs\n",
"m=1;        //Mass in kg\n",
"P1=7;        //Pressure in bar\n",
"T1=90+273;  //Temperature in K\n",
"P2=1.4;\n",
"R=0.287;\n",
"G=1.4;      //Gamma for air\n",
"//Calculations according to data required\n",
"x=P2/P1;\n",
"y=0.1/1.1;\n",
"z=x^y;\n",
"T2=T1*z;        //calculating T2\n",
"printf('Final Temperature is: %3.1f K',T2);\n",
"printf('\n');\n",
"W=(m*R*(T1-T2))/(1.1-1);\n",
"printf('Work Done is: %3.1f kJ',W);\n",
"printf('\n');\n",
"Cv=(R)/(G-1);\n",
"Cp=R+Cv;\n",
"CI=m*Cv*(T2-T1);\n",
"printf('Change in Internal Energy is: %3.2f kJ',CI);\n",
"printf('\n');\n",
"Q=CI+W;\n",
"printf('Heat Transfer is: %3.2f kJ',Q);\n",
"printf('\n');"
   ]
   }
,
{
		   "cell_type": "markdown",
		   "metadata": {},
		   "source": [
			"## Example 3.22_1: Example22.sce"
		   ]
		  },
  {
"cell_type": "code",
	   "execution_count": null,
	   "metadata": {
	    "collapsed": true
	   },
	   "outputs": [],
"source": [
"clc\n",
"clear\n",
"\n",
"//Inputs\n",
"//The Values in the program are as follows:\n",
"//Temperature in Celcius converted to Kelvin(by adding 273)\n",
"//Pressure in bar converted to kPa (by multiplying 100)\n",
"//Volume in m^3\n",
"//Value of R,Cp and Cv in kJ/kg K\n",
"V1=0.091;\n",
"P1=2.73;\n",
"T1=187+273;\n",
"T2=27+273;\n",
"Cp=1.005;\n",
"Cv=0.718;\n",
"\n",
"R=Cp-Cv;\n",
"\n",
"m=(P1*100*V1)/(R*T1);\n",
"Q=m*Cp*(T2-T1);\n",
"printf('The Value of heat transferred: %1.2f kJ',Q);\n",
"printf('\n')\n",
"\n",
"V2=(T2*V1)/T1;\n",
"W=P1*100*(V2-V1);\n",
"printf('The Value of Work done: %1.2f kJ',W);\n",
"printf('\n')"
   ]
   }
,
{
		   "cell_type": "markdown",
		   "metadata": {},
		   "source": [
			"## Example 3.23_1: Example23.sce"
		   ]
		  },
  {
"cell_type": "code",
	   "execution_count": null,
	   "metadata": {
	    "collapsed": true
	   },
	   "outputs": [],
"source": [
"clc\n",
"clear\n",
"\n",
"//Inputs\n",
"//The Values in the program are as follows:\n",
"//Temperature in Celcius converted to Kelvin(by adding 273)\n",
"//Pressure in bar converted to kPa (by multiplying 100)\n",
"//Volume in m^3\n",
"//Value of R,Cp and Cv in kJ/kg K\n",
"m=28;\n",
"V1=3;\n",
"T1=100+273;\n",
"T2=37+273;\n",
"G=1.4;\n",
"Ro=8.314;\n",
"\n",
"v=V1/m;\n",
"R=Ro/m;\n",
"\n",
"P1=(m*R*T1)/V1;\n",
"\n",
"printf('The Specific Volume: %1.3f m^3/kg',v);\n",
"printf('\n')\n",
"\n",
"printf('The Initial Pressure: %1.2f kPa',P1);\n",
"printf('\n')\n",
"\n",
"P2=(P1*T2)/T1;\n",
"printf('The Final Pressure: %1.2f kPa',P2);\n",
"printf('\n')\n",
"\n",
"Cv=(R)/(G-1);\n",
"Cp=Cv*G;\n",
"U=m*Cv*(T2-T1);\n",
"H=m*Cp*(T2-T1);\n",
"\n",
"printf('Change in Internal Energy: %1.2f kJ',U);\n",
"printf('\n');\n",
"\n",
"\n",
"printf('Change in Heat energy: %1.2f kJ',H);\n",
"printf('\n')"
   ]
   }
,
{
		   "cell_type": "markdown",
		   "metadata": {},
		   "source": [
			"## Example 3.24_1: Example24.sce"
		   ]
		  },
  {
"cell_type": "code",
	   "execution_count": null,
	   "metadata": {
	    "collapsed": true
	   },
	   "outputs": [],
"source": [
"clc\n",
"clear\n",
"\n",
"//Inputs\n",
"//The Values in the program are as follows:\n",
"//Temperature in Celcius converted to Kelvin(by adding 273)\n",
"//Pressure in bar converted to kPa (by multiplying 100)\n",
"//Volume in m^3\n",
"//Value of R,Cp and Cv in kJ/kg K\n",
"V1=3;\n",
"V1=V1*100;      //In kPa\n",
"P1=2;\n",
"T1=73+273;\n",
"P2=7;\n",
"R=0.287;\n",
"Cv=0.718;\n",
"Cp=1.005;\n",
"\n",
"m=(P1*V1)/(R*T1);\n",
"T2=(P2*T1)/P1;\n",
"\n",
"U=m*Cv*(T2-T1);\n",
"H=m*Cp*(T2-T1);\n",
"\n",
"printf('Change in Internal Energy: %1.2f kJ',U);\n",
"printf('\n');\n",
"\n",
"printf('Change in heat Energy: %1.2f kJ',H);\n",
"printf('\n')"
   ]
   }
,
{
		   "cell_type": "markdown",
		   "metadata": {},
		   "source": [
			"## Example 3.25_1: Example25.sce"
		   ]
		  },
  {
"cell_type": "code",
	   "execution_count": null,
	   "metadata": {
	    "collapsed": true
	   },
	   "outputs": [],
"source": [
"clc\n",
"clear\n",
"\n",
"//Inputs\n",
"//The Values in the program are as follows:\n",
"//Temperature in Celcius converted to Kelvin(by adding 273)\n",
"//Pressure in bar converted to kPa (by multiplying 100)\n",
"//Volume in m^3\n",
"//Value of R,Cp and Cv in kJ/kg K\n",
"m=1;\n",
"T1=27+273;\n",
"T2=197+273;\n",
"V1=2.1;\n",
"R=0.287;\n",
"Cp=1.005;\n",
"\n",
"W=m*R*(T2-T1);\n",
"printf('Work Done: %1.2f kJ',W);\n",
"printf('\n');\n",
"\n",
"Q=m*Cp*(T2-T1);\n",
"U=Q-W;\n",
"\n",
"printf('Change in Heat Energy: %1.2f kJ',Q);\n",
"printf('\n');\n",
"printf('Change in Internal Energy: %1.2f kJ',U);\n",
"printf('\n');\n",
"\n",
"P=(m*R*T1)/(V1);\n",
"V2=(V1*T2)/(T1);\n",
"printf('Pressure: %1.2f kPa',P);\n",
"printf('\n');\n",
"printf('Final Volume: %1.1f m^3',V2);\n",
"printf('\n');"
   ]
   }
,
{
		   "cell_type": "markdown",
		   "metadata": {},
		   "source": [
			"## Example 3.26_1: Example26.sce"
		   ]
		  },
  {
"cell_type": "code",
	   "execution_count": null,
	   "metadata": {
	    "collapsed": true
	   },
	   "outputs": [],
"source": [
"clc\n",
"clear\n",
"\n",
"//Inputs\n",
"//The Values in the program are as follows:\n",
"//Temperature in Celcius converted to Kelvin(by adding 273)\n",
"//Pressure in bar converted to kPa (by multiplying 100)\n",
"//Volume in m^3\n",
"//Value of R,Cp and Cv in kJ/kg K\n",
"V1=0.5;\n",
"P1=0.3;\n",
"V2=0.1;\n",
"P2=(P1*V1)/(V2);\n",
"printf('Final Pressure: %1.2f bar',P2);\n",
"printf('\n');\n",
"\n",
"W=(P1*100*V1)*(log(V2/V1));\n",
"printf('Work Done: %1.2f kJ',W);\n",
"printf('\n');\n",
"\n",
"printf('Change in Internal Energy: 0 kJ as it is Isothermal Process');\n",
"printf('\n');\n",
"\n",
"printf('Change in Heat Energy: %1.2f kJ',W);\n",
"printf('\n');"
   ]
   }
,
{
		   "cell_type": "markdown",
		   "metadata": {},
		   "source": [
			"## Example 3.27_1: Example27.sce"
		   ]
		  },
  {
"cell_type": "code",
	   "execution_count": null,
	   "metadata": {
	    "collapsed": true
	   },
	   "outputs": [],
"source": [
"clc\n",
"clear\n",
"\n",
"//Inputs\n",
"//The Values in the program are as follows:\n",
"//Temperature in Celcius converted to Kelvin(by adding 273)\n",
"//Pressure in bar converted to kPa (by multiplying 100)\n",
"//Volume in m^3\n",
"//Value of R,Cp and Cv in kJ/kg K\n",
"m=0.19;\n",
"P1=1;\n",
"V1=0.16;\n",
"T1=17+273;\n",
"P2=4.1;\n",
"V2=0.046;\n",
"Ro=8.314;\n",
"\n",
"R=(P1*100*V1)/(m*T1);\n",
"printf('Gas Constant: %1.2f kJ/kg K',R);\n",
"printf('\n');\n",
"\n",
"M=Ro/R;\n",
"printf('Molecular Mass: %1.2f kg/kg mole',M);\n",
"printf('\n');\n",
"\n",
"G=(log(P1/P2))/(log(V2/V1));\n",
"printf('Ratio of Specific Heats: %1.2f ',G);\n",
"printf('\n');\n",
"\n",
"Cv=(R)/(G-1);\n",
"printf('Value of Cv: %1.2f kJ/kg K',Cv);\n",
"printf('\n');\n",
"\n",
"Cp=G*Cv;\n",
"printf('Value of Cp: %1.2f kJ/kg K',Cp);\n",
"printf('\n');\n",
"\n",
"T2=(P2*100*V2)/(m*R);\n",
"U=m*Cv*(T2-T1);\n",
"printf('Change in Internal Energy: %1.2f kJ',U);\n",
"printf('\n');\n",
"\n",
"H=m*Cp*(T2-T1);\n",
"printf('Heat Transfer: %1.2f kJ',H);\n",
"printf('\n');\n",
"\n",
"W=((P1*100*V1)-(P2*100*V2))/(G-1);\n",
"printf('Work Done: %1.2f kJ',W);\n",
"printf('\n');"
   ]
   }
,
{
		   "cell_type": "markdown",
		   "metadata": {},
		   "source": [
			"## Example 3.28_1: Example28.sce"
		   ]
		  },
  {
"cell_type": "code",
	   "execution_count": null,
	   "metadata": {
	    "collapsed": true
	   },
	   "outputs": [],
"source": [
"clc\n",
"clear\n",
"\n",
"//Inputs\n",
"//The Values in the program are as follows:\n",
"//Temperature in Celcius converted to Kelvin(by adding 273)\n",
"//Pressure in bar converted to kPa (by multiplying 100)\n",
"//Volume in m^3\n",
"//Value of R,Cp and Cv in kJ/kg K\n",
"V1=0.19;\n",
"P1=5;\n",
"T1=190+273;\n",
"P2=1;\n",
"H=100;\n",
"G=1.4;\n",
"R=0.287;\n",
"Cp=1.005;\n",
"\n",
"V2=V1*((P1/P2)^(1/G));\n",
"W=((P1*100*V1)-(P2*100*V2))/(G-1);\n",
"m=(P1*100*V1)/(R*T1);\n",
"T2=T1*((P2/P1)^((G-1)/G))\n",
"x=H/(m*Cp);\n",
"T3=x+T2;\n",
"\n",
"V3=(V2*T3)/T2;\n",
"Wo=P2*100*(V3-V2);\n",
"Wf=W+Wo;\n",
"printf('Total Work Done: %1.2f kJ',Wf);\n",
"printf('\n');\n",
"\n",
""
   ]
   }
,
{
		   "cell_type": "markdown",
		   "metadata": {},
		   "source": [
			"## Example 3.29_1: Example29.sce"
		   ]
		  },
  {
"cell_type": "code",
	   "execution_count": null,
	   "metadata": {
	    "collapsed": true
	   },
	   "outputs": [],
"source": [
"clc\n",
"clear\n",
"\n",
"//Inputs\n",
"//The Values in the program are as follows:\n",
"//Temperature in Celcius converted to Kelvin(by adding 273)\n",
"//Pressure in bar converted to kPa (by multiplying 100)\n",
"//Volume in m^3\n",
"//Value of R,Cp and Cv in kJ/kg K\n",
"V1=0.1;\n",
"V3=V1;\n",
"P1=10;\n",
"T1=200+273;\n",
"P2=3;\n",
"R=0.287;\n",
"G=1.4;\n",
"Cv=0.718;\n",
"\n",
"m=(P1*100*V1)/(R*T1);\n",
"T2=T1*((P2/P1)^((G-1)/G));\n",
"V2=V1*((P1/P2)^((1)/G));\n",
"T3=T2;\n",
"P3=(P2*V2)/V3;\n",
"printf('Pressure after Isothermal Compression: %1.2f bar',P3);\n",
"printf('\n');\n",
"printf('Temperature after isothermal compression: %1.2f K',T2);\n",
"printf('\n');\n",
"\n",
"W1=((P1*100*V1)-(P2*100*V2))/(G-1);\n",
"printf('Work Developed during adiabatic expansion: %2.0f kJ',W1);\n",
"printf('\n');\n",
"\n",
"W2=(P2*100*V2)*log(V3/V2);\n",
"printf('Work of Compression: %1.2f kJ',W2);\n",
"printf('\n');\n",
"\n",
"Q=m*Cv*(T1-T3);\n",
"printf('Heat supplied in 3rd Process: %1.2f kJ',Q);\n",
"printf('\n');\n",
"\n",
"U=m*Cv*(T2-T1);\n",
"printf('Change in Internal Energy: %1.2f kJ',U);\n",
"printf('\n');\n",
""
   ]
   }
,
{
		   "cell_type": "markdown",
		   "metadata": {},
		   "source": [
			"## Example 3.30_1: Example30.sce"
		   ]
		  },
  {
"cell_type": "code",
	   "execution_count": null,
	   "metadata": {
	    "collapsed": true
	   },
	   "outputs": [],
"source": [
"clc\n",
"clear\n",
"\n",
"//Inputs\n",
"V1=0.028;\n",
"P1=1;\n",
"T1=27+273;\n",
"n=1.3;\n",
"V2=0.0046;\n",
"T3=T1;\n",
"\n",
"T2=T1*((V1/V2)^(n-1));\n",
"printf('Temperature after compression: %1.2f K',T2);\n",
"printf('\n');\n",
"\n",
"P2=P1*((V1/V2)^n);\n",
"W=((P1*100*V1)-(P2*100*V2))/(n-1);\n",
"printf('Work Done: %1.2f kJ',W);\n",
"printf('\n');\n",
"\n",
"P3=(T3*P2)/T2;\n",
"printf('Final Pressure: %1.2f bar',P3);\n",
"printf('\n');\n",
"\n",
"\n",
""
   ]
   }
,
{
		   "cell_type": "markdown",
		   "metadata": {},
		   "source": [
			"## Example 3.31_1: Example31.sce"
		   ]
		  },
  {
"cell_type": "code",
	   "execution_count": null,
	   "metadata": {
	    "collapsed": true
	   },
	   "outputs": [],
"source": [
"clc\n",
"clear\n",
"\n",
"//Inputs\n",
"//The Values in the program are as follows:\n",
"//Temperature in Celcius converted to Kelvin(by adding 273)\n",
"//Pressure in bar converted to kPa (by multiplying 100)\n",
"//Volume in m^3\n",
"//Value of R,Cp and Cv in kJ/kg K\n",
"V1=0.15;\n",
"P1=900;\n",
"T1=300+273;\n",
"T3=T1;\n",
"V2=3*V1;\n",
"R=0.287;\n",
"Cp=1.005;\n",
"G=1.4;\n",
"n=1.5;\n",
"Cv=0.718;\n",
"\n",
"//Calculations\n",
"m=(P1*V1)/(R*T1);\n",
"T2=(V2*T1)/V1;\n",
"Q1=m*Cp*(T2-T1);\n",
"printf('Heat Received: %3.2f kJ',Q1);\n",
"printf('\n');\n",
"\n",
"Q2=(m*Cv)*((n-G)/(n-1))*(T3-T2);\n",
"Q3=m*R*T3*(log(1/27));\n",
"Qr=0-(Q2+Q3);\n",
"printf('Heat Rejected: %3.2f kJ',Qr);\n",
"printf('\n');\n",
"\n",
"Eff=(1-(Qr/Q1))*100;\n",
"printf('Efficiency: %3.2f percent',Eff);\n",
"printf('\n');"
   ]
   }
,
{
		   "cell_type": "markdown",
		   "metadata": {},
		   "source": [
			"## Example 3.3_1: Example3.sce"
		   ]
		  },
  {
"cell_type": "code",
	   "execution_count": null,
	   "metadata": {
	    "collapsed": true
	   },
	   "outputs": [],
"source": [
"clear\n",
"clc\n",
"P1=2.75*100;        //Pressure in kPa\n",
"V1=0.09         //Volume in m^3\n",
"T1=185+273;     //Temperature in Kelvin\n",
"T2=15+273;\n",
"R=0.29;\n",
"Cp=1.005;\n",
"Cv=0.715;\n",
"m=(P1*V1)/(R*T1);\n",
"V2=(T2/T1)*V1;\n",
"W=P1*(V2-V1);\n",
"printf('The Work Done: %2.3f kJ',W);\n",
"printf('\n');\n",
"Q=m*Cp*(T2-T1);\n",
"printf('The Heat Transfer: %2.3f kJ',Q);\n",
"printf('\n');\n",
"U=Q-W;\n",
"printf('The change in Internal Energy: %2.3f kJ',U);\n",
"printf('\n');"
   ]
   }
,
{
		   "cell_type": "markdown",
		   "metadata": {},
		   "source": [
			"## Example 3.32_1: Example32.sce"
		   ]
		  },
  {
"cell_type": "code",
	   "execution_count": null,
	   "metadata": {
	    "collapsed": true
	   },
	   "outputs": [],
"source": [
"clc\n",
"clear\n",
"\n",
"//Inputs\n",
"//The Values in the program are as follows:\n",
"//Temperature in Celcius converted to Kelvin(by adding 273)\n",
"//Pressure in bar converted to kPa (by multiplying 100)\n",
"//Volume in m^3\n",
"//Value of R,Cp and Cv in kJ/kg K\n",
"M=27;\n",
"P1=1;\n",
"T1=60+273;\n",
"n=1.3;\n",
"Cvm=21;\n",
"Ro=8.314;\n",
"R=Ro/M;\n",
"\n",
"//Calculations\n",
"V1=(R*T1)/(P1*100);\n",
"V2=V1/12;\n",
"x=V1/V2;\n",
"P2=P1*(x^n);\n",
"W=((P1*100*V1)-(P2*100*V2))/(n-1);\n",
"printf('Work Done: %3.2f kJ/kg',W);\n",
"printf('\n');\n",
"\n",
"Cv=Cvm/M;\n",
"Cp=Cv+R;\n",
"G=Cp/Cv;\n",
"\n",
"Q=((G-n)/(G-1))*W;\n",
"printf('Heat Transfer during the process: %3.2f kJ/kg',Q);\n",
"printf('\n');"
   ]
   }
,
{
		   "cell_type": "markdown",
		   "metadata": {},
		   "source": [
			"## Example 3.33_1: Example33.sce"
		   ]
		  },
  {
"cell_type": "code",
	   "execution_count": null,
	   "metadata": {
	    "collapsed": true
	   },
	   "outputs": [],
"source": [
"clc\n",
"clear\n",
"\n",
"//Inputs\n",
"//The Values in the program are as follows:\n",
"//Temperature in Celcius converted to Kelvin(by adding 273)\n",
"//Pressure in bar converted to kPa (by multiplying 100)\n",
"//Volume in m^3\n",
"//Value of R,Cp and Cv in kJ/kg K\n",
"D=0.550;\n",
"L=0.740;\n",
"r=12;\n",
"P1=100;\n",
"T1=27+273;\n",
"n=1.32;\n",
"R=0.287;\n",
"G=1.4;\n",
"V=((22/7)/4)*D*D*L;\n",
"V2=V/11;\n",
"V1=V2+V;\n",
"P2=P1*((r)^n);\n",
"T2=T1*((r)^(n-1));\n",
"printf('The Pressure at end of Compression: %3.3f kPa',P2);\n",
"printf('\n');\n",
"printf('The Temperature at end of Compression: %3.3f K',T2);\n",
"printf('\n');\n",
"m=(P1*V1)/(R*T1);\n",
"printf('The Mass in the cylinder: %3.3f kg',m);\n",
"printf('\n');\n",
"W=((P1*V1)-(P2*V2))/(n-1);\n",
"printf('The Work Done: %3.3f kJ',W);\n",
"printf('\n');\n",
"Q=((G-n)/(G-1))*W;\n",
"printf('The Heat Transfer: %3.3f kJ',Q);\n",
"printf('\n');"
   ]
   }
,
{
		   "cell_type": "markdown",
		   "metadata": {},
		   "source": [
			"## Example 3.34_1: Example34.sce"
		   ]
		  },
  {
"cell_type": "code",
	   "execution_count": null,
	   "metadata": {
	    "collapsed": true
	   },
	   "outputs": [],
"source": [
"clc\n",
"clear\n",
"\n",
"//Inputs\n",
"//The Values in the program are as follows:\n",
"//Temperature in Celcius converted to Kelvin(by adding 273)\n",
"//Pressure in bar converted to kPa (by multiplying 100)\n",
"//Volume in m^3\n",
"//Value of R,Cp and Cv in kJ/kg K\n",
"m=1;\n",
"P1=10;\n",
"T1=337+273;\n",
"P2=1;\n",
"V=6;\n",
"R=0.287;\n",
"G=1.4;\n",
"x=log(P2/P1);\n",
"y=log(1/V);\n",
"n=x/y;\n",
"printf('The Value of n: %3.3f ',n);\n",
"printf('\n');\n",
"V1=(m*R*T1)/(P1*100);\n",
"V2=V1*6;\n",
"W=((P1*100*V1)-(P2*100*V2))/(n-1);\n",
"printf('The Work Done: %3.1f kJ',W);\n",
"printf('\n');\n",
"Q=((G-n)/(G-1))*W;\n",
"printf('The Heat Transfer: %3.2f kJ',Q);\n",
"printf('\n');"
   ]
   }
,
{
		   "cell_type": "markdown",
		   "metadata": {},
		   "source": [
			"## Example 3.37_1: Example37.sce"
		   ]
		  },
  {
"cell_type": "code",
	   "execution_count": null,
	   "metadata": {
	    "collapsed": true
	   },
	   "outputs": [],
"source": [
"clc\n",
"clear\n",
"\n",
"//Inputs\n",
"//The Values in the program are as follows:\n",
"//Temperature in Celcius converted to Kelvin(by adding 273)\n",
"//Pressure in bar converted to kPa (by multiplying 100)\n",
"//Volume in m^3\n",
"//Value of R,Cp and Cv in kJ/kg K\n",
"T1=430;\n",
"T2=289.25;\n",
"P2=100;\n",
"P1=400;\n",
"G=1.4;\n",
"V1=0.2;\n",
"R=287;\n",
"Q=60;\n",
"Cp=1.005;\n",
"T2=T1*((P2/P1)^((G-1)/G));\n",
"V2=V1*((P1/P2)^(1/G));\n",
"m=(P1*1000*V1)/(R*T1);\n",
"W1=(m*(R/1000)*(T1-T2))/(G-1);\n",
"T3=(Q/(m*Cp))+T2;\n",
"V3=(V2*T3)/T2;\n",
"W2=P2*(V3-V2);\n",
"W=W1+W2;\n",
"printf('The Net Work Done: %3.3f kJ',W);\n",
"printf('\n');\n",
"n=((m*(R/1000)*(T1-T3))/W)+1;\n",
"printf('The value of n: %3.2f ',n);\n",
"printf('\n');"
   ]
   }
,
{
		   "cell_type": "markdown",
		   "metadata": {},
		   "source": [
			"## Example 3.38_1: Example38.sce"
		   ]
		  },
  {
"cell_type": "code",
	   "execution_count": null,
	   "metadata": {
	    "collapsed": true
	   },
	   "outputs": [],
"source": [
"clc\n",
"clear\n",
"\n",
"//Inputs\n",
"//The Values in the program are as follows:\n",
"//Temperature in Celcius converted to Kelvin(by adding 273)\n",
"//Pressure in bar converted to kPa (by multiplying 100)\n",
"//Volume in m^3\n",
"//Value of R,Cp and Cv in kJ/kg Km=1;\n",
"P1=6;\n",
"V1=0.01;\n",
"V2=0.05;\n",
"P2=2;\n",
"W1=(((P1+P2)/2)*100)*(V2-V1);\n",
"printf('The Work done for first cycle: %3.1f kJ',W1);\n",
"printf('\n');\n",
"P3=P2;\n",
"V3=(P1*V1)/P3;\n",
"W2=P2*100*(V3-V2);\n",
"printf('The Work done for second cycle: %3.1f kJ',W2);\n",
"printf('\n');\n",
"W3=(P3*100*V3)*(log(V1/V3));\n",
"printf('The Work done for third cycle: %3.2f kJ',W3);\n",
"printf('\n');\n",
"W=W1+W2+W3;\n",
"printf('The net Work done: %3.2f kJ',W);\n",
"printf('\n');\n",
"Q=W;                //As process is cyclic\n",
"printf('The Heat Transfer: %3.2f kJ',Q);\n",
"printf('\n');"
   ]
   }
,
{
		   "cell_type": "markdown",
		   "metadata": {},
		   "source": [
			"## Example 3.39_1: Example39.sce"
		   ]
		  },
  {
"cell_type": "code",
	   "execution_count": null,
	   "metadata": {
	    "collapsed": true
	   },
	   "outputs": [],
"source": [
"clc\n",
"clear\n",
"\n",
"//Inputs\n",
"//The Values in the program are as follows:\n",
"//Temperature in Celcius converted to Kelvin(by adding 273)\n",
"//Pressure in bar converted to kPa (by multiplying 100)\n",
"//Volume in m^3\n",
"//Value of R,Cp and Cv in kJ/kg K\n",
"V1=0.6;\n",
"P1=1;\n",
"T1=90+273;\n",
"V2=0.18;\n",
"P2=5;\n",
"R=0.287;\n",
"G=1.4;\n",
"\n",
"m=(P1*100*V1)/(R*T1);\n",
"printf('The mass of Gas: %3.4f kg',m);\n",
"printf('\n');\n",
"n=(log(P2/P1))/(log(V1/V2));\n",
"printf('The value of n: %3.3f ',n);\n",
"printf('\n');\n",
"Cv=R/(G-1);\n",
"T2=((P2*V2)/(P1*V1))*T1;\n",
"U=m*Cv*(T2-T1);\n",
"printf('The change in Internal Energy: %3.3f kJ',U);\n",
"printf('\n');"
   ]
   }
,
{
		   "cell_type": "markdown",
		   "metadata": {},
		   "source": [
			"## Example 3.40_1: Example40.sce"
		   ]
		  },
  {
"cell_type": "code",
	   "execution_count": null,
	   "metadata": {
	    "collapsed": true
	   },
	   "outputs": [],
"source": [
"clc\n",
"clear\n",
"\n",
"//Inputs\n",
"//The Values in the program are as follows:\n",
"//Temperature in Celcius converted to Kelvin(by adding 273)\n",
"//Pressure in bar converted to kPa (by multiplying 100)\n",
"//Volume in m^3\n",
"//Value of R,Cp and Cv in kJ/kg K\n",
"R=0.29;\n",
"Cp=1.005;\n",
"P1=2.75;\n",
"P2=P1;\n",
"V1=0.09;\n",
"T1=185+273;\n",
"T2=15+273;\n",
"\n",
"//Calculations\n",
"V2=(V1*T2)/T1;\n",
"m=(P1*100*V1)/(R*T1);\n",
"Q=m*Cp*(T2-T1);\n",
"printf('The Heat Transfer: %3.3f kJ',Q);\n",
"printf('\n');\n",
"W=P1*100*(V2-V1);\n",
"printf('The Work done: %3.3f kJ',W);\n",
"printf('\n');"
   ]
   }
,
{
		   "cell_type": "markdown",
		   "metadata": {},
		   "source": [
			"## Example 3.41_1: Example41.sce"
		   ]
		  },
  {
"cell_type": "code",
	   "execution_count": null,
	   "metadata": {
	    "collapsed": true
	   },
	   "outputs": [],
"source": [
"clc\n",
"clear\n",
"\n",
"//Inputs\n",
"//The Values in the program are as follows:\n",
"//Temperature in Celcius converted to Kelvin(by adding 273)\n",
"//Pressure in bar converted to kPa (by multiplying 100)\n",
"//Volume in m^3\n",
"//Value of R,Cp and Cv in kJ/kg K\n",
"T1=25+273;\n",
"T2=145+273;\n",
"m=2;\n",
"R=267;\n",
"G=1.4;\n",
"Cv=R/(G-1);\n",
"printf('The value of Cv: %3.1f J/kg K',Cv);\n",
"printf('\n');\n",
"Cp=G*Cv;\n",
"printf('The value of Cp: %3.1f J/kg K',Cp);\n",
"printf('\n');\n",
"U=m*Cv*(T2-T1)*(1/1000);\n",
"printf('The change in Internal Energy: %3.1f kJ',U);\n",
"printf('\n');\n",
"H=m*Cp*(T2-T1)*(1/1000);\n",
"printf('The Heat Transfer: %3.1f kJ',H);\n",
"printf('\n');"
   ]
   }
,
{
		   "cell_type": "markdown",
		   "metadata": {},
		   "source": [
			"## Example 3.4_1: Example4.sce"
		   ]
		  },
  {
"cell_type": "code",
	   "execution_count": null,
	   "metadata": {
	    "collapsed": true
	   },
	   "outputs": [],
"source": [
"clc\n",
"clear\n",
"//Inputs\n",
"//The Values in the program are as follows:\n",
"//Temperature in Celcius converted to Kelvin(by adding 273)\n",
"//Pressure in bar converted to kPa (by multiplying 100)\n",
"//Volume in m^3\n",
"//Value of R,Cp and Cv in kJ/kg K\n",
"m=0.67;\n",
"P1=14;\n",
"T1=290+273;\n",
"R=287;\n",
"V1=(m*R*T1)/(14*(10^5));\n",
"printf('The Volume: %2.3f kJ',V1);\n",
"printf('\n');\n",
"V2=4*V1;\n",
"printf('The Final Volume: %2.3f kJ',V2);\n",
"printf('\n');\n",
"x=V1/V2;\n",
"y=x^1.3;\n",
"P2=P1*y;\n",
"printf('The Final Pressure: %2.3f bar',P2);\n",
"printf('\n');\n",
"x=V1/V2;\n",
"y=x^0.3;\n",
"T2=T1*y;\n",
"printf('The Final Temperature: %2.3f K',T2);\n",
"printf('\n');"
   ]
   }
,
{
		   "cell_type": "markdown",
		   "metadata": {},
		   "source": [
			"## Example 3.42_1: Example42.sce"
		   ]
		  },
  {
"cell_type": "code",
	   "execution_count": null,
	   "metadata": {
	    "collapsed": true
	   },
	   "outputs": [],
"source": [
"clc\n",
"clear\n",
"\n",
"//Inputs\n",
"//The Values in the program are as follows:\n",
"//Temperature in Celcius converted to Kelvin(by adding 273)\n",
"//Pressure in bar converted to kPa (by multiplying 100)\n",
"//Volume in m^3\n",
"//Value of R,Cp and Cv in kJ/kg K\n",
"D=1;\n",
"h=4;\n",
"P1=100;\n",
"T1=27+273;\n",
"P2=125;\n",
"Cp=14.307;\n",
"Cv=10.183;\n",
"V1=(22/7)*(1/4)*(D*D*h);\n",
"R=Cp-Cv;\n",
"m=(P1*V1)/(R*T1);\n",
"T2=(P2*T1)/P1;\n",
"Q=m*Cv*(T2-T1);\n",
"printf('The Heat Transfer: %3.0f kJ',Q);\n",
"printf('\n');"
   ]
   }
,
{
		   "cell_type": "markdown",
		   "metadata": {},
		   "source": [
			"## Example 3.43_1: Example43.sce"
		   ]
		  },
  {
"cell_type": "code",
	   "execution_count": null,
	   "metadata": {
	    "collapsed": true
	   },
	   "outputs": [],
"source": [
"clc\n",
"clear\n",
"\n",
"//Inputs\n",
"//The Values in the program are as follows:\n",
"//Temperature in Celcius converted to Kelvin(by adding 273)\n",
"//Pressure in bar converted to kPa (by multiplying 100)\n",
"//Volume in m^3\n",
"//Value of R,Cp and Cv in kJ/kg K\n",
"V1=0.15;\n",
"V2=3*V1;\n",
"P1=900;\n",
"P2=P1;\n",
"T1=300+273;\n",
"T3=T1;\n",
"n=1.5;\n",
"G=1.4;\n",
"R=0.287;\n",
"Cp=1.005;\n",
"m=(P1*V1)/(R*T1);\n",
"T2=(T1*V2)/V1;\n",
"Q1=m*Cp*(T2-T1);\n",
"W1=m*R*(T2-T3)/(n-1);\n",
"Q2=(G-n)*W1/(G-1);\n",
"P3=P2*((T3/T2)^(G/(G-1)));\n",
"Q3=m*R*T1*log(P3/P1);\n",
"H_rec=Q1;\n",
"printf('The Heat received: %3.1f kJ',H_rec);\n",
"printf('\n');\n",
"H_rej=0-(Q2+Q3);\n",
"printf('The Heat Rejected: %3.1f kJ',H_rej);\n",
"printf('\n');\n",
"eff=100*(1-(H_rej/H_rec));\n",
"printf('Efficiency: %3.2f percent',eff);\n",
"printf('\n');"
   ]
   }
,
{
		   "cell_type": "markdown",
		   "metadata": {},
		   "source": [
			"## Example 3.44_1: Example44.sce"
		   ]
		  },
  {
"cell_type": "code",
	   "execution_count": null,
	   "metadata": {
	    "collapsed": true
	   },
	   "outputs": [],
"source": [
"clc\n",
"clear\n",
"\n",
"//Inputs\n",
"//The Values in the program are as follows:\n",
"//Temperature in Celcius converted to Kelvin(by adding 273)\n",
"//Pressure in bar converted to kPa (by multiplying 100)\n",
"//Volume in m^3\n",
"//Value of R,Cp and Cv in kJ/kg Km=1;\n",
"V1=0.15;\n",
"P1=1;\n",
"V2=0.05;\n",
"G=1.4;\n",
"\n",
"//Calculations\n",
"P2=(V1*P1)/V2;\n",
"W_it=P1*100*V1*log(P1/P2);\n",
"printf('Work done in Isothermal process: %2.2f kJ',W_it);\n",
"printf('\n');\n",
"P2=P1*((V1/V2)^G);\n",
"W_ad=((P1*100*V1)-(P2*100*V2))/(G-1);\n",
"printf('Work done in Adiabatic process: %2.2f kJ',W_ad);\n",
"printf('\n');"
   ]
   }
,
{
		   "cell_type": "markdown",
		   "metadata": {},
		   "source": [
			"## Example 3.45_1: Example45.sce"
		   ]
		  },
  {
"cell_type": "code",
	   "execution_count": null,
	   "metadata": {
	    "collapsed": true
	   },
	   "outputs": [],
"source": [
"clc\n",
"clear\n",
"\n",
"//Inputs\n",
"//The Values in the program are as follows:\n",
"//Temperature in Celcius converted to Kelvin(by adding 273)\n",
"//Pressure in bar converted to kPa (by multiplying 100)\n",
"//Volume in m^3\n",
"//Value of R,Cp and Cv in kJ/kg K\n",
"m=1;\n",
"Cp=1.005;\n",
"P1=100;\n",
"T1=17+273;\n",
"T2=T1;\n",
"P2=2500;\n",
"printf('Final Temperature: %2.2f K',T2);\n",
"printf('\n');\n",
"\n",
"V1=(260*T1)/(P1*1000);\n",
"V2=(P1*V1)/P2;\n",
"printf('Final Volume: %2.5f m^3',V2);\n",
"printf('\n');\n",
"n=P2/P1;\n",
"printf('Compression ratio: %2.0f ',n);\n",
"printf('\n');\n",
"H=m*Cp*(T2-T1);\n",
"printf('Change in Enthalpy: %2.2f kJ',H);\n",
"printf('\n');\n",
"W=P1*V1*log(P1/P2);\n",
"printf('Work done: %2.2f kJ/kg',W);\n",
"printf('\n');"
   ]
   }
,
{
		   "cell_type": "markdown",
		   "metadata": {},
		   "source": [
			"## Example 3.46_1: Example46.sce"
		   ]
		  },
  {
"cell_type": "code",
	   "execution_count": null,
	   "metadata": {
	    "collapsed": true
	   },
	   "outputs": [],
"source": [
"clc\n",
"clear\n",
"\n",
"//Inputs\n",
"//The Values in the program are as follows:\n",
"//Temperature in Celcius converted to Kelvin(by adding 273)\n",
"//Pressure in bar converted to kPa (by multiplying 100)\n",
"//Volume in m^3\n",
"//Value of R,Cp and Cv in kJ/kg K\n",
"P1=150;\n",
"T1=17+273;\n",
"P2=750;\n",
"n=1.3;\n",
"m=1;\n",
"R=0.287;\n",
"Cp=1.001;\n",
"\n",
"//Calculations\n",
"T2=T1*((P2/P1)^((n-1)/n));\n",
"printf('The final temperature: %2.1f K',T2);\n",
"printf('\n');\n",
"W=m*R*(T1-T2)/(n-1);\n",
"printf('Work done: %2.2f kJ/kg',W);\n",
"printf('\n');\n",
"Cv=Cp-R;\n",
"U=m*Cv*(T2-T1);\n",
"printf('Change in internal energy: %2.2f kJ/kg',U);\n",
"printf('\n');\n",
"G=Cp/Cv;\n",
"Q=((G-n)/(G-1))*W;\n",
"printf('Amount of heat transfer: %2.2f kJ/kg',Q);\n",
"printf('\n');\n",
"H=m*Cp*(T2-T1);\n",
"printf('Change in enthalpy: %2.2f kJ/kg',H);\n",
"printf('\n');"
   ]
   }
,
{
		   "cell_type": "markdown",
		   "metadata": {},
		   "source": [
			"## Example 3.5_1: Example5.sce"
		   ]
		  },
  {
"cell_type": "code",
	   "execution_count": null,
	   "metadata": {
	    "collapsed": true
	   },
	   "outputs": [],
"source": [
"clc\n",
"clear\n",
"//Inputs\n",
"//The Values in the program are as follows:\n",
"//Temperature in Celcius converted to Kelvin(by adding 273)\n",
"//Pressure in bar converted to kPa (by multiplying 100)\n",
"//Volume in m^3\n",
"//Value of R,Cp and Cv in kJ/kg K\n",
"P1=510;\n",
"V1=0.142;\n",
"P2=170;\n",
"V2=0.275;\n",
"H=-65;\n",
"Cv=0.718;\n",
"X=(P2*V2)-(P1*V1);\n",
"U=H-X;\n",
"printf('The Change in Internal Energy: %2.2f kJ',U);\n",
"printf('\n');\n",
"G=H/U;\n",
"Cp=G*Cv;\n",
"R=Cp-Cv;\n",
"printf('The Value of R: %2.3f kJ/kg K',R);\n",
"printf('\n');"
   ]
   }
,
{
		   "cell_type": "markdown",
		   "metadata": {},
		   "source": [
			"## Example 3.6_1: Example6.sce"
		   ]
		  },
  {
"cell_type": "code",
	   "execution_count": null,
	   "metadata": {
	    "collapsed": true
	   },
	   "outputs": [],
"source": [
"clc\n",
"clear\n",
"//Inputs\n",
"//The Values in the program are as follows:\n",
"//Temperature in Celcius converted to Kelvin(by adding 273)\n",
"//Pressure in bar converted to kPa (by multiplying 100)\n",
"//Volume in m^3\n",
"//Value of R,Cp and Cv in kJ/kg K\n",
"P1=25;\n",
"T1=27+273;\n",
"P2=5;\n",
"T2=20+273;\n",
"V1=0.7;\n",
"Et=1.43;\n",
"Pn=101.325;\n",
"Tn=273;\n",
"//Calculations\n",
"R=(Pn)/(Et*Tn);\n",
"m1=(Pn*V1)/(R*Tn);\n",
"V2=(m1*R*T1)/(P1*100);\n",
"m2=(P2*100*V2)/(R*T2);\n",
"mf=m1-m2;\n",
"printf('The mass of Oxygen used: %3.3f kg',mf);\n",
"printf('\n');"
   ]
   }
,
{
		   "cell_type": "markdown",
		   "metadata": {},
		   "source": [
			"## Example 3.7_1: Example7.sce"
		   ]
		  },
  {
"cell_type": "code",
	   "execution_count": null,
	   "metadata": {
	    "collapsed": true
	   },
	   "outputs": [],
"source": [
"clc\n",
"clear\n",
"\n",
"//Inputs\n",
"//The Values in the program are as follows:\n",
"//Temperature in Celcius converted to Kelvin(by adding 273)\n",
"//Pressure in bar converted to kPa (by multiplying 100)\n",
"//Volume in m^3\n",
"//Value of R,Cp and Cv in kJ/kg K\n",
"n=1.3;\n",
"m=1;\n",
"T1=300;\n",
"T2=200;\n",
"W=90;\n",
"Ro=8.3143;\n",
"R=((n-m)*W)/((T1-T2)*m);\n",
"M=Ro/R;\n",
"printf('The molecular mass of gas is: %3.1f kg/kg mole',M);\n",
"printf('\n');"
   ]
   }
,
{
		   "cell_type": "markdown",
		   "metadata": {},
		   "source": [
			"## Example 3.8_1: Example8.sce"
		   ]
		  },
  {
"cell_type": "code",
	   "execution_count": null,
	   "metadata": {
	    "collapsed": true
	   },
	   "outputs": [],
"source": [
"clc\n",
"clear\n",
"\n",
"//Inputs\n",
"//The Values in the program are as follows:\n",
"//Temperature in Celcius converted to Kelvin(by adding 273)\n",
"//Pressure in bar converted to kPa (by multiplying 100)\n",
"//Volume in m^3\n",
"//Value of R,Cp and Cv in kJ/kg K\n",
"m=0.18;\n",
"V1=0.15;\n",
"T1=15+273;\n",
"P1=100;\n",
"V2=0.056;\n",
"P2=400;\n",
"R=(P1*V1)/(m*T1);\n",
"printf('The Gas Constant: %3.3f kJ/kg K',R);\n",
"printf('\n');\n",
"M=8.3141/R;\n",
"printf('The Molecular Mass of Gas: %3.2f kg/kg mole',M);\n",
"printf('\n');\n",
"x=log(P2/P1);\n",
"y=log(V2/V1);\n",
"G=-(x/y);\n",
"Cv=R/(G-1);\n",
"printf('The Cv: %3.2f kJ/kg K',Cv);\n",
"printf('\n');\n",
"Cp=Cv+R;\n",
"printf('The Cp: %3.2f kJ/kg K',Cp);\n",
"printf('\n');\n",
"x=(G-1)/G;\n",
"y=P2/P1;\n",
"z=y^x;\n",
"T2=T1*z;\n",
"U=m*Cv*(T2-T1);\n",
"printf('The change in Internal Energy: %3.2f kJ',U);\n",
"printf('\n');"
   ]
   }
,
{
		   "cell_type": "markdown",
		   "metadata": {},
		   "source": [
			"## Example 3.9_1: Example9.sce"
		   ]
		  },
  {
"cell_type": "code",
	   "execution_count": null,
	   "metadata": {
	    "collapsed": true
	   },
	   "outputs": [],
"source": [
"clc\n",
"clear\n",
"\n",
"//Inputs\n",
"//The Values in the program are as follows:\n",
"//Temperature in Celcius converted to Kelvin(by adding 273)\n",
"//Pressure in bar converted to kPa (by multiplying 100)\n",
"//Volume in m^3\n",
"//Value of R,Cp and Cv in kJ/kg K\n",
"P1=100;\n",
"V1=0.25;\n",
"T1=100+273;\n",
"V2=0.05;\n",
"P2=750;\n",
"G=1.4;\n",
"R=0.298;\n",
"n=(log(P2/P1))/(log(V1/V2));\n",
"printf('The Index n: %1.2f ',n);\n",
"printf('\n');\n",
"T2=T1*((P2/P1)^((n-1)/n));\n",
"Cv=R/(G-1);\n",
"Cp=R+Cv;\n",
"m=(P1*V1)/(R*T1);\n",
"W=(m*R*(T1-T2))/(n-1);\n",
"Q=((G-n)/(G-1))*W;\n",
"printf('The Heat change: %2.2f kJ',Q);\n",
"printf('\n');\n",
"U=m*Cv*(T2-T1);\n",
"printf('The change in Internal Energy: %2.2f kJ',U);\n",
"printf('\n');\n",
" "
   ]
   }
],
"metadata": {
		  "kernelspec": {
		   "display_name": "Scilab",
		   "language": "scilab",
		   "name": "scilab"
		  },
		  "language_info": {
		   "file_extension": ".sce",
		   "help_links": [
			{
			 "text": "MetaKernel Magics",
			 "url": "https://github.com/calysto/metakernel/blob/master/metakernel/magics/README.md"
			}
		   ],
		   "mimetype": "text/x-octave",
		   "name": "scilab",
		   "version": "0.7.1"
		  }
		 },
		 "nbformat": 4,
		 "nbformat_minor": 0
}
