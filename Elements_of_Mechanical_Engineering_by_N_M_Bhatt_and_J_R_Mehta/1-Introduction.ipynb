{
"cells": [
 {
		   "cell_type": "markdown",
	   "metadata": {},
	   "source": [
       "# Chapter 1: Introduction"
	   ]
	},
{
		   "cell_type": "markdown",
		   "metadata": {},
		   "source": [
			"## Example 1.1_1: Example1.sce"
		   ]
		  },
  {
"cell_type": "code",
	   "execution_count": null,
	   "metadata": {
	    "collapsed": true
	   },
	   "outputs": [],
"source": [
"clc\n",
"clear\n",
"//Solving the problem\n",
"Q=84-8.4-21+4.2;\n",
"printf('The Net Work Done= %2.1f kJ',Q);     //Displaying result"
   ]
   }
,
{
		   "cell_type": "markdown",
		   "metadata": {},
		   "source": [
			"## Example 1.1_2: Example2.sce"
		   ]
		  },
  {
"cell_type": "code",
	   "execution_count": null,
	   "metadata": {
	    "collapsed": true
	   },
	   "outputs": [],
"source": [
"clc\n",
"clear\n",
"//Declaring values\n",
"Q=-700;\n",
"W=-3000;\n",
"m=5;\n",
"U=Q-W;\n",
"Us=U/m;\n",
"printf('Change in Specific Energy= %3.0f J/kg',Us);     //displaying result"
   ]
   }
,
{
		   "cell_type": "markdown",
		   "metadata": {},
		   "source": [
			"## Example 1.1_3: Example3.sce"
		   ]
		  },
  {
"cell_type": "code",
	   "execution_count": null,
	   "metadata": {
	    "collapsed": true
	   },
	   "outputs": [],
"source": [
"clc\n",
"clear\n",
"//Declaring values\n",
"Q=50;\n",
"W=40;\n",
"U=Q-W;\n",
"printf('Change in Internal Energy= %2.0f kJ',U);"
   ]
   }
,
{
		   "cell_type": "markdown",
		   "metadata": {},
		   "source": [
			"## Example 1.1_4: Example4.sce"
		   ]
		  },
  {
"cell_type": "code",
	   "execution_count": null,
	   "metadata": {
	    "collapsed": true
	   },
	   "outputs": [],
"source": [
"clc\n",
"clear\n",
"m=3000;     //mass in kg\n",
"P=736;      //Power in kW\n",
"t=5*3600;   //Time in seconds\n",
"HV=27170    //Heating value in kJ/kg\n",
"E=P/((m/t)*HV);\n",
"Eff=E*100;\n",
"printf('Thermal Efficiency= %2.2f percent',Eff);"
   ]
   }
,
{
		   "cell_type": "markdown",
		   "metadata": {},
		   "source": [
			"## Example 1.1_5: Example5.sce"
		   ]
		  },
  {
"cell_type": "code",
	   "execution_count": null,
	   "metadata": {
	    "collapsed": true
	   },
	   "outputs": [],
"source": [
"clc\n",
"clear\n",
"U=22;       //Internal Energy in kJ/s\n",
"P2=0.95*1000;   //Pressure in kPa\n",
"V2=0.09;        //Volume in m^3/s;\n",
"P1=0.5*1000;\n",
"V1=0.15;\n",
"X=(P2*V2)-(P1*V1);\n",
"H=U+X;\n",
"printf('Change in Enthalpy: %2.1f kJ/s',H);"
   ]
   }
,
{
		   "cell_type": "markdown",
		   "metadata": {},
		   "source": [
			"## Example 1.1_6: Example6.sce"
		   ]
		  },
  {
"cell_type": "code",
	   "execution_count": null,
	   "metadata": {
	    "collapsed": true
	   },
	   "outputs": [],
"source": [
"clc\n",
"clear\n",
"Th=0.22;        //Thermal Efficiency\n",
"Hr=1260;        //Heat Rejected in MJ/hr\n",
"CV=42;          //Calorific Value of Coal\n",
"X=1-Th;\n",
"HI=Hr/X;        //Heat Input in MJ/hr\n",
"O=((HI-Hr)*1000)/3600;        //Output\n",
"Mf=HI/CV;       //Mass of Fuel Used\n",
"printf('Power Output is %2.2f kW',O);\n",
"printf('\n');\n",
"printf('Mass of Fuel used per hour: %2.1f kg/hr',Mf);"
   ]
   }
,
{
		   "cell_type": "markdown",
		   "metadata": {},
		   "source": [
			"## Example 1.1_7: Example7.sce"
		   ]
		  },
  {
"cell_type": "code",
	   "execution_count": null,
	   "metadata": {
	    "collapsed": true
	   },
	   "outputs": [],
"source": [
"clc\n",
"clear\n",
"m=2;        //mass in kg\n",
"T1=30+273;  //Temperature in K\n",
"T2=60+273;  \n",
"Cp=4.187;\n",
"T=T2/T1;\n",
"X=double(log(T));\n",
"S=m*Cp*X;\n",
"printf('Entropy Change of Water: %1.4f kJ/K',S);"
   ]
   }
,
{
		   "cell_type": "markdown",
		   "metadata": {},
		   "source": [
			"## Example 1.1_8: Example8.sce"
		   ]
		  },
  {
"cell_type": "code",
	   "execution_count": null,
	   "metadata": {
	    "collapsed": true
	   },
	   "outputs": [],
"source": [
"clc\n",
"clear\n",
"//Declaring Values\n",
"m=600;          //Mass in kg\n",
"z=50000;        //Distance in meters\n",
"V=2500000;      //Velocity in m/hr\n",
"g=7.9;          //Gravitational Field in m/s^2\n",
"Vel=V/3600;\n",
"KE=(0.5*m*Vel*Vel)/1000000;   //Kinetic Energy in MJ\n",
"PE=(m*g*z)/1000000;                   //Potential Energy in MJ\n",
"//Displaying Results\n",
"printf('The Kinetic Energy is %3.2f MJ',KE);\n",
"printf('\n')\n",
"printf('The Potential Energy is %3.2f MJ',PE);"
   ]
   }
],
"metadata": {
		  "kernelspec": {
		   "display_name": "Scilab",
		   "language": "scilab",
		   "name": "scilab"
		  },
		  "language_info": {
		   "file_extension": ".sce",
		   "help_links": [
			{
			 "text": "MetaKernel Magics",
			 "url": "https://github.com/calysto/metakernel/blob/master/metakernel/magics/README.md"
			}
		   ],
		   "mimetype": "text/x-octave",
		   "name": "scilab",
		   "version": "0.7.1"
		  }
		 },
		 "nbformat": 4,
		 "nbformat_minor": 0
}
