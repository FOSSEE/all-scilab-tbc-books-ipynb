{
"cells": [
 {
		   "cell_type": "markdown",
	   "metadata": {},
	   "source": [
       "# Chapter 10: Effects of Finite Word Length in Digital Filters"
	   ]
	},
{
		   "cell_type": "markdown",
		   "metadata": {},
		   "source": [
			"## Example 10.2: Output_Quantisation_Noise.sce"
		   ]
		  },
  {
"cell_type": "code",
	   "execution_count": null,
	   "metadata": {
	    "collapsed": true
	   },
	   "outputs": [],
"source": [
"//Example 10.2\n",
"\n",
"clc;clear;close;\n",
"z=poly(0,'z');\n",
"H=0.5*z/(z-0.5);\n",
"B=8; \n",
"pn=2^(-2*B)/12;          //Noise power\n",
"X=H*horner(H,1/z)/z;\n",
"r=roots(denom(X));\n",
"rl=length(r);\n",
"rc=coeff(denom(X))\n",
"q1=[];q2=[];\n",
"for n=1:rl                //Loop to separate poles inside the unit circle\n",
"    if (abs(r(n))<1) then\n",
"        q1=[q1 r(n)];\n",
"    else\n",
"        q2=[q2 r(n)];\n",
"    end\n",
"end\n",
"P=numer(X)/rc(length(rc));\n",
"Q1=poly(q1,'z');\n",
"Q2=poly(q2,'z');\n",
"I=residu(P,Q1,Q2);        //Residue Calculation\n",
"po=pn*I;                  //Output Noise power\n",
"disp(pn,'Input Noise power');\n",
"disp(po,'Output Noise power');"
   ]
   }
,
{
		   "cell_type": "markdown",
		   "metadata": {},
		   "source": [
			"## Example 10.3: Deadband_Interval.sce"
		   ]
		  },
  {
"cell_type": "code",
	   "execution_count": null,
	   "metadata": {
	    "collapsed": true
	   },
	   "outputs": [],
"source": [
"//Example 10.3\n",
"\n",
"clc; clear;\n",
"//y(n)=0.9y(n-1)+x(n)\n",
"//Input x(n)=0\n",
"n=-1;y=12;        //Initial Condition y(-1)=12\n",
"flag=1;\n",
"while n<8\n",
"    n=n+1;\n",
"    y=[y 0.9*y(n+1)];\n",
"    yr=round(y);\n",
"end\n",
"disp(n,'n=');\n",
"disp(y,'y(n)-exact');\n",
"disp(yr,'y(n)-rounded');\n",
"disp([-yr(n+2) yr(n+2)],'Deadband interval ')"
   ]
   }
,
{
		   "cell_type": "markdown",
		   "metadata": {},
		   "source": [
			"## Example 10.4: Deadband_Interval.sce"
		   ]
		  },
  {
"cell_type": "code",
	   "execution_count": null,
	   "metadata": {
	    "collapsed": true
	   },
	   "outputs": [],
"source": [
"//Example 10.4\n",
"\n",
"clc; clear;\n",
"//y(n)=0.9y(n-1)+x(n)\n",
"a=0.9;\n",
"l=ceil(0.5/(1-abs(a)));\n",
"disp([-l l],'Deadband interval ')"
   ]
   }
,
{
		   "cell_type": "markdown",
		   "metadata": {},
		   "source": [
			"## Example 10.5: Output_Quantisation_Noise_for_Cascade_realisation.sce"
		   ]
		  },
  {
"cell_type": "code",
	   "execution_count": null,
	   "metadata": {
	    "collapsed": true
	   },
	   "outputs": [],
"source": [
"//Example 10.5\n",
"\n",
"clc;clear;close;\n",
"x=poly(0,'x');        //x=2^-2B\n",
"z=poly(0,'z');\n",
"H1=1/(1-0.9/z);\n",
"H2=1/(1-0.8/z);\n",
"H=H1*H2; \n",
"pn=x/12;                  //Input Noise power\n",
"\n",
"//Calculation of output noise for H1(z)\n",
"X1=H*horner(H,1/z)/z;\n",
"r1=roots(denom(X1));\n",
"rc1=coeff(denom(X1));\n",
"q1=[];s1=[];\n",
"for n=1:length(r1)                //Loop to separate poles inside the unit circle\n",
"    if (abs(r1(n))<1) then\n",
"        q1=[q1 r1(n)];\n",
"    else\n",
"        s1=[s1 r1(n)];\n",
"    end\n",
"end\n",
"P1=numer(X1)/rc1(length(rc1));\n",
"Q1=poly(q1,'z');\n",
"S1=poly(s1,'z');\n",
"I1=abs(residu(P1,Q1,S1));        //Residue Calculation\n",
"po1=pn*I1;                  //Output Noise power\n",
"\n",
"//Calculation of output noise for H2(z)\n",
"X2=H2*horner(H2,1/z)/z;\n",
"r2=roots(denom(X2));\n",
"rc2=coeff(denom(X2));\n",
"q2=[];s2=[];\n",
"for n=1:length(r2)                //Loop to separate poles inside the unit circle\n",
"    if (abs(r2(n))<1) then\n",
"        q2=[q2 r2(n)];\n",
"    else    \n",
"        s2=[s2 r2(n)];\n",
"    end\n",
"end\n",
"P2=numer(X2)/rc2(length(rc2));\n",
"Q2=poly(q2,'z');\n",
"S2=poly(s2,'z');\n",
"I2=abs(residu(P2,Q2,S2));        //Residue Calculation\n",
"po2=pn*I2;                          //Output Noise power\n",
"\n",
"po=po1+po2;\n",
"disp(pn,'Input Noise power');\n",
"disp(I1,'I1=');disp(I2,'I2=');\n",
"disp(po1,'Output Noise power for H1(z)');\n",
"disp(po2,'Output Noise power for H2(z)');\n",
"disp(po,'Total Output Noise power');"
   ]
   }
],
"metadata": {
		  "kernelspec": {
		   "display_name": "Scilab",
		   "language": "scilab",
		   "name": "scilab"
		  },
		  "language_info": {
		   "file_extension": ".sce",
		   "help_links": [
			{
			 "text": "MetaKernel Magics",
			 "url": "https://github.com/calysto/metakernel/blob/master/metakernel/magics/README.md"
			}
		   ],
		   "mimetype": "text/x-octave",
		   "name": "scilab",
		   "version": "0.7.1"
		  }
		 },
		 "nbformat": 4,
		 "nbformat_minor": 0
}
