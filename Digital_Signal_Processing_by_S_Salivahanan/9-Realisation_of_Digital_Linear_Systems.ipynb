{
"cells": [
 {
		   "cell_type": "markdown",
	   "metadata": {},
	   "source": [
       "# Chapter 9: Realisation of Digital Linear Systems"
	   ]
	},
{
		   "cell_type": "markdown",
		   "metadata": {},
		   "source": [
			"## Example 9.4: Cascade_Realisatio.sce"
		   ]
		  },
  {
"cell_type": "code",
	   "execution_count": null,
	   "metadata": {
	    "collapsed": true
	   },
	   "outputs": [],
"source": [
"//Example 9.4\n",
"clc;clear;close;\n",
"z=poly(0,'z');\n",
"Hz=2*(z+2)/(z*(z-0.1)*(z+0.5)*(z+0.4));\n",
"H=dscr(Hz);\n",
"disp(Hz,'System Function H(z)=');\n",
"disp(H,'System Function for cascade realisation Hk(z)=');"
   ]
   }
,
{
		   "cell_type": "markdown",
		   "metadata": {},
		   "source": [
			"## Example 9.5_a: Parallel_Realisatio.sce"
		   ]
		  },
  {
"cell_type": "code",
	   "execution_count": null,
	   "metadata": {
	    "collapsed": true
	   },
	   "outputs": [],
"source": [
"//Example 9.5.a\n",
"clc;clear;close;\n",
"z=poly(0,'z');\n",
"s=poly(0,'s');\n",
"Hz=3*(2*z^2+5*z+4)/(2*z+1)/(z+2);\n",
"H=pfss(Hz/z);\n",
"for k=1:length(H)\n",
"    H(k)=clean(H(k));\n",
"    H1(k)=z*horner(H(k),z);\n",
"end\n",
"disp(Hz,'System Function H(z)=');\n",
"disp(H1,'System Function for parallel realisation Hk(z)=');"
   ]
   }
,
{
		   "cell_type": "markdown",
		   "metadata": {},
		   "source": [
			"## Example 9.5_b: Parallel_Realisatio.sce"
		   ]
		  },
  {
"cell_type": "code",
	   "execution_count": null,
	   "metadata": {
	    "collapsed": true
	   },
	   "outputs": [],
"source": [
"//Example 9.5.b\n",
"clc;clear;close;\n",
"z=poly(0,'z');\n",
"s=poly(0,'s');\n",
"Hz=3*z*(5*z-2)/(z+1/2)/(3*z-1);\n",
"H=pfss(Hz/z);\n",
"for k=1:length(H)\n",
"    H(k)=clean(H(k));\n",
"    H1(k)=z*horner(H(k),z);\n",
"end\n",
"disp(Hz,'System Function H(z)=');\n",
"disp(H1,'System Function for parallel realisation Hk(z)=');"
   ]
   }
],
"metadata": {
		  "kernelspec": {
		   "display_name": "Scilab",
		   "language": "scilab",
		   "name": "scilab"
		  },
		  "language_info": {
		   "file_extension": ".sce",
		   "help_links": [
			{
			 "text": "MetaKernel Magics",
			 "url": "https://github.com/calysto/metakernel/blob/master/metakernel/magics/README.md"
			}
		   ],
		   "mimetype": "text/x-octave",
		   "name": "scilab",
		   "version": "0.7.1"
		  }
		 },
		 "nbformat": 4,
		 "nbformat_minor": 0
}
