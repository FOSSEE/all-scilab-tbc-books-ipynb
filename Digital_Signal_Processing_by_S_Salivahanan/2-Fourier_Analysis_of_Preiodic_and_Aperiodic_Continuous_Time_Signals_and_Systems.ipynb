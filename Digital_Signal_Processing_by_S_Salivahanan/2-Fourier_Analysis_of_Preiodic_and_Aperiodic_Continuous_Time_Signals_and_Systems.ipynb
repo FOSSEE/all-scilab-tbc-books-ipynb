{
"cells": [
 {
		   "cell_type": "markdown",
	   "metadata": {},
	   "source": [
       "# Chapter 2: Fourier Analysis of Preiodic and Aperiodic Continuous Time Signals and Systems"
	   ]
	},
{
		   "cell_type": "markdown",
		   "metadata": {},
		   "source": [
			"## Example 2.1: Fourier_Series_of_Periodic_Square_Wave.sce"
		   ]
		  },
  {
"cell_type": "code",
	   "execution_count": null,
	   "metadata": {
	    "collapsed": true
	   },
	   "outputs": [],
"source": [
"//Example 2.1\n",
"\n",
"clc;clear;close;\n",
"A=1;T=2;\n",
"w0=2*%pi/T;\n",
"\n",
"//Calculation of trignometric fourier series co-efficients\n",
"a0=A/T*(integrate('-1','t',-T/2,-T/4)+integrate('+1','t',-T/4,T/4)+integrate('-1','t',T/4,T/2));\n",
"for n=1:10;\n",
"a(1,n)=2*A/T*(integrate('-cos(n*w0*t)','t',-T/2,-T/4)+integrate('+cos(n*w0*t)','t',-T/4,T/4)+integrate('-cos(n*w0*t)','t',T/4,T/2));\n",
"b(1,n)=2*A/T*(integrate('-sin(n*w0*t)','t',-T/2,-T/4)+integrate('+sin(n*w0*t)','t',-T/4,T/4)+integrate('-sin(n*w0*t)','t',T/4,T/2));\n",
"end\n",
"\n",
"//Displaying fourier coefficients\n",
"disp(T,'fundamental period T= ',A,'Assumption: Amplitude A= ');\n",
"disp('Tignometric fourier series co-efficients:');\n",
"disp(a0,'a0= ');disp(a,'an= ');disp(b,'bn= ');\n",
"\n",
"x=[-A*ones(1,25) A*ones(1,50) -A*ones(1,25)]    //Function for ploting purpose\n",
"t=-T/2:0.01*T:T/2-0.01;\n",
"subplot(311);plot(t,x);\n",
"title('x(t)');xlabel('time t');\n",
"subplot(312);plot2d3(a);\n",
"title('Coefficients an');xlabel('n');\n",
"subplot(313);plot2d3(b);\n",
"title('Coefficients bn');xlabel('n');"
   ]
   }
,
{
		   "cell_type": "markdown",
		   "metadata": {},
		   "source": [
			"## Example 2.2: Fourier_Series_of_Periodic_Rectangular_Wave.sce"
		   ]
		  },
  {
"cell_type": "code",
	   "execution_count": null,
	   "metadata": {
	    "collapsed": true
	   },
	   "outputs": [],
"source": [
"//Example 2.2\n",
"\n",
"clc;clear;close;\n",
"A=1;T=2;\n",
"w0=2*%pi/T;\n",
"\n",
"//Calculation of trignometric fourier series co-efficients\n",
"a0=A/T*integrate('1','t',-T/4,T/4);\n",
"for n=1:10;\n",
"a(1,n)=2*A/T*integrate('cos(n*w0*t)','t',-T/4,T/4);\n",
"b(1,n)=2*A/T*integrate('sin(n*w0*t)','t',-T/4,T/4);\n",
"end\n",
"\n",
"//Displaying fourier coefficients\n",
"disp(T,'fundamental period T= ',A,'Assumption: Amplitude A= ');\n",
"disp('Tignometric fourier series co-efficients:');\n",
"disp(a0,'a0= ');disp(a,'an= ');disp(b,'bn= ');\n",
"\n",
"x=[zeros(1,25) A*ones(1,50) zeros(1,25)];\n",
"t=-T/2:0.01*T:T/2-0.01;\n",
"subplot(311);plot(t,x);\n",
"title('x(t)');xlabel('time t');\n",
"subplot(312);plot2d3(a);\n",
"title('Coefficients an');xlabel('n');\n",
"subplot(313);plot2d3(b);\n",
"title('Coefficients bn');xlabel('n');"
   ]
   }
,
{
		   "cell_type": "markdown",
		   "metadata": {},
		   "source": [
			"## Example 2.3: Fourier_Series_of_Periodic_Half_Wave_Rectified_Sine_Wave.sce"
		   ]
		  },
  {
"cell_type": "code",
	   "execution_count": null,
	   "metadata": {
	    "collapsed": true
	   },
	   "outputs": [],
"source": [
"//Example 2.3\n",
"\n",
"clc;clear;close;\n",
"A=1;T=2;\n",
"w0=2*%pi/T;\n",
"\n",
"//Calculation of trignometric fourier series co-efficients\n",
"a0=A/T*integrate('sin(w0*t)','t',0,T/2);\n",
"for n=1:10;\n",
"a(1,n)=2*A/T*integrate('sin(w0*t)*cos(n*w0*t)','t',0,T/2);\n",
"b(1,n)=2*A/T*integrate('sin(w0*t)*sin(n*w0*t)','t',0,T/2);\n",
"end\n",
"\n",
"//Displaying fourier coefficients\n",
"disp(T,'fundamental period T= ',A,'Assumption: Amplitude A= ');\n",
"disp('Tignometric fourier series co-efficients:');\n",
"disp(a0,'a0= ');disp(a,'an= ');disp(b,'bn= ');\n",
"\n",
"t=0:0.01*T:T/2;\n",
"x=[A*sin(w0*t) zeros(1,50)];\n",
"t=0:0.01*T:T;\n",
"subplot(311);plot(t,x);\n",
"title('x(t)');xlabel('time t');\n",
"subplot(312);plot2d3(a);\n",
"title('Coefficients an');xlabel('n');\n",
"subplot(313);plot2d3(b);\n",
"title('Coefficients bn');xlabel('n');"
   ]
   }
,
{
		   "cell_type": "markdown",
		   "metadata": {},
		   "source": [
			"## Example 2.4: Fourier_Series_of_Periodic_Triangular_Wave.sce"
		   ]
		  },
  {
"cell_type": "code",
	   "execution_count": null,
	   "metadata": {
	    "collapsed": true
	   },
	   "outputs": [],
"source": [
"//Example 2.4\n",
"\n",
"clc;clear;close;\n",
"A=1;T=2;\n",
"w0=2*%pi/T;\n",
"\n",
"//Calculation of trignometric fourier series co-efficients\n",
"a0=4*A/T*(integrate('t-0.5*T','t',-T/2,-T/4)+integrate('t','t',-T/4,T/4)+integrate('-t+0.5*T','t',T/4,T/2));\n",
"for n=1:10;\n",
"a(1,n)=2*4*A/T*(integrate('(t-0.5*T)*cos(n*w0*t)','t',-T/2,-T/4)+integrate('t*cos(n*w0*t)','t',-T/4,T/4)+integrate('(-t+0.5*T)*cos(n*w0*t)','t',T/4,T/2));\n",
"b(1,n)=2*4*A/T*(integrate('(t-0.5*T)*sin(n*w0*t)','t',-T/2,-T/4)+integrate('t*sin(n*w0*t)','t',-T/4,T/4)+integrate('(-t+0.5*T)*sin(n*w0*t)','t',T/4,T/2));\n",
"end\n",
"\n",
"//Displaying fourier coefficients\n",
"disp(T,'fundamental period T= ',A,'Assumption: Amplitude A= ');\n",
"disp('Tignometric fourier series co-efficients:');\n",
"disp(a0,'a0= ');disp(a,'an= ');disp(b,'bn= ');\n",
"\n",
"t=-T/2:0.01*T:T/2;\n",
"x=[-4*A/T*t(1:25)-2*A 4*A/T*t(26:75) -4*A/T*t(76:101)+2*A];\n",
"subplot(311);plot(t,x);\n",
"title('x(t)');xlabel('time t');\n",
"subplot(312);plot2d3(a);\n",
"title('Coefficients an');xlabel('n');\n",
"subplot(313);plot2d3(b);\n",
"title('Coefficients bn');xlabel('n');"
   ]
   }
,
{
		   "cell_type": "markdown",
		   "metadata": {},
		   "source": [
			"## Example 2.5: Fourier_Series_of_Periodic_Rectangular_Pulse.sce"
		   ]
		  },
  {
"cell_type": "code",
	   "execution_count": null,
	   "metadata": {
	    "collapsed": true
	   },
	   "outputs": [],
"source": [
"//Example 2.5\n",
"\n",
"clc;clear;close;\n",
"A=1;T=2;d=0.1;\n",
"w0=2*%pi/T;\n",
"\n",
"//Calculation of trignometric fourier series co-efficients\n",
"a0=A/T*integrate('1','t',-T/4,T/4);\n",
"for n=1:10;\n",
"a(1,n)=2*A/T*integrate('cos(n*w0*t)','t',-d/2,d/2);\n",
"b(1,n)=2*A/T*integrate('sin(n*w0*t)','t',-d/2,d/2);\n",
"end\n",
"\n",
"//Displaying fourier coefficients\n",
"disp(d,'pulse width d= ',T,'fundamental period T= ',A,'Assumption: Amplitude A= ');\n",
"disp('Tignometric fourier series co-efficients:');\n",
"disp(a0,'a0= ');disp(a,'an= ');disp(b,'bn= ');\n",
"\n",
"n=round(50*d/T);                                //Variable used for plotting pulses accurately\n",
"x=[zeros(1,50-n) A*ones(1,2*n+1) zeros(1,50-n)]\n",
"t=-T/2:0.01*T:T/2;\n",
"subplot(311);plot(t,x);\n",
"title('x(t)');xlabel('time t');\n",
"subplot(312);plot2d3(a);\n",
"title('Coefficients an');xlabel('n');\n",
"subplot(313);plot2d3(b);\n",
"title('Coefficients bn');xlabel('n');"
   ]
   }
,
{
		   "cell_type": "markdown",
		   "metadata": {},
		   "source": [
			"## Example 2.6: Fourier_Series_of_Square_Wave.sce"
		   ]
		  },
  {
"cell_type": "code",
	   "execution_count": null,
	   "metadata": {
	    "collapsed": true
	   },
	   "outputs": [],
"source": [
"//Example 2.6\n",
"\n",
"clc;clear;close;\n",
"A=1;T=2;\n",
"w0=2*%pi/T;\n",
"\n",
"//Calculation of trignometric fourier series co-efficients\n",
"a0=A/T*(integrate('-1','t',-T/2,0)+integrate('+1','t',0,T/2));\n",
"for n=1:10\n",
"a(1,n)=2*A/T*(integrate('-cos(n*w0*t)','t',-T/2,0)+integrate('+cos(n*w0*t)','t',0,T/2));\n",
"b(1,n)=2*A/T*(integrate('-sin(n*w0*t)','t',-T/2,0)+integrate('+sin(n*w0*t)','t',0,T/2));\n",
"end\n",
"a=clean(a);b=clean(b);            //Function used to round small entities to zero\n",
"\n",
"//Calculation of exponential fourier series co-efficients\n",
"function y=f(t),y=complex(cos(n*w0*t),-sin(n*w0*t)),endfunction;\n",
"for n=-10:10\n",
"c(1,n+11)=A/T*(-1*intc(-T/2,0,f)+intc(0,T/2,f));\n",
"end\n",
"c=clean(c);                      //Function used to round small entities to zero\n",
"\n",
"//Calculation of trignometric fourier series co-efficients from exponential fourie series coefficients\n",
"a01=c(1);\n",
"a1=2*real(c(12:21));\n",
"b1=-2*imag(c(12:21));\n",
"\n",
"//Displaying fourier coefficients\n",
"disp(T,'fundamental period T= ',A,'Assumption: Amplitude A= ');\n",
"disp('Tignometric fourier series co-efficients:');\n",
"disp(a0,'a0= ');disp(a,'an= ');disp(b,'bn= ');\n",
"disp('Exponential fourier series co-efficients');\n",
"disp(c(11),'c0= ');disp(c(12:21),'cn= ');disp(c(10:-1:1),'c-n= ');\n",
"disp('Trignometric fourier series co-efficients from exponential coefficients:');\n",
"disp(a01,'a0= ');disp(a1,'an= ');disp(b1,'bn= ');\n",
"disp('The co-effifcients obtained are same by both methods')\n",
"\n",
"x=[-A*ones(1,50) A*ones(1,51)];\n",
"t=-T/2:0.01*T:T/2;\n",
"n=-10:10;\n",
"subplot(311);plot(t,x);\n",
"title('x(t)');xlabel('time t');\n",
"subplot(312);plot2d3(a);\n",
"title('Coefficients an');xlabel('n');\n",
"subplot(313);plot2d3(b);\n",
"title('Coefficients bn');xlabel('n');\n",
"figure;\n",
"subplot(311);plot(t,x);\n",
"title('x(t)');xlabel('time t');\n",
"subplot(312);plot2d3(n,abs(c));\n",
"title('Magnitude of Coefficients |c|');xlabel('n');\n",
"subplot(313);plot2d3(n,atan(c));\n",
"title('Phase of Coefficients /_c');xlabel('n');"
   ]
   }
,
{
		   "cell_type": "markdown",
		   "metadata": {},
		   "source": [
			"## Example 2.8: Complex_fourier_series_representation.sce"
		   ]
		  },
  {
"cell_type": "code",
	   "execution_count": null,
	   "metadata": {
	    "collapsed": true
	   },
	   "outputs": [],
"source": [
"//Example 2.8\n",
"\n",
"clc;clear;close;\n",
"t=poly(0,'t');\n",
"//cn=3/(4+(n*%pi)^2)\n",
"Pt=0.669;        //Total energy\n",
"Preq=0.999*Pt;    //Required energy\n",
"c0=3/(4+(0*%pi)^2);\n",
"disp(c0,'c0=');\n",
"P=(abs(c0))^2;\n",
"c=[];n=0;\n",
"while P<Preq\n",
"   n=n+1;\n",
"   c(n)=3/(4+(n*%pi)^2);\n",
"   disp(c(n),'cn=',n,'n=');\n",
"   P=P+2*(abs(c(n)))^2;\n",
"end\n",
"disp(Pt,'Total power Pt=');\n",
"disp(Preq,'99.9% of total power Preqd=');\n",
"disp(n,'To iclude 99.9% of energy, we need to retain n terms where n=');"
   ]
   }
],
"metadata": {
		  "kernelspec": {
		   "display_name": "Scilab",
		   "language": "scilab",
		   "name": "scilab"
		  },
		  "language_info": {
		   "file_extension": ".sce",
		   "help_links": [
			{
			 "text": "MetaKernel Magics",
			 "url": "https://github.com/calysto/metakernel/blob/master/metakernel/magics/README.md"
			}
		   ],
		   "mimetype": "text/x-octave",
		   "name": "scilab",
		   "version": "0.7.1"
		  }
		 },
		 "nbformat": 4,
		 "nbformat_minor": 0
}
