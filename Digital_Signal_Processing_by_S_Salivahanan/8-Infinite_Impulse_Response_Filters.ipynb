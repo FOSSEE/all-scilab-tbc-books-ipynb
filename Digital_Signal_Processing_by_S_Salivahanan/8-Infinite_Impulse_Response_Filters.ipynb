{
"cells": [
 {
		   "cell_type": "markdown",
	   "metadata": {},
	   "source": [
       "# Chapter 8: Infinite Impulse Response Filters"
	   ]
	},
{
		   "cell_type": "markdown",
		   "metadata": {},
		   "source": [
			"## Example 8.10: IIR_filter_Design_by_Bilinear_Transformation_method.sce"
		   ]
		  },
  {
"cell_type": "code",
	   "execution_count": null,
	   "metadata": {
	    "collapsed": true
	   },
	   "outputs": [],
"source": [
"//Example 8.10\n",
"clc;clear;close;\n",
"s=poly(0,'s');\n",
"z=poly(0,'z');\n",
"T=0.1;\n",
"Hs=1/(s+1)^2;\n",
"Hz=ss2tf(cls2dls(tf2ss(Hs),T));\n",
"disp('Using Bilinear Transformation:');\n",
"disp(Hs,'H(s)=');\n",
"disp(Hz,'H(z)=');"
   ]
   }
,
{
		   "cell_type": "markdown",
		   "metadata": {},
		   "source": [
			"## Example 8.11: Butterworth_Filter_using_Impulse_Invariant_transformation.sce"
		   ]
		  },
  {
"cell_type": "code",
	   "execution_count": null,
	   "metadata": {
	    "collapsed": true
	   },
	   "outputs": [],
"source": [
"//Example 8.11\n",
"clc;clear;close;\n",
"rp=0.707                       //passband ripple\n",
"rs=0.2                        //stopband ripple\n",
"wp=%pi/2;                     //passband frequency\n",
"ws=3*%pi/4;                   //stopband frequency\n",
"T=1;\n",
"fp=wp/T;\n",
"fs=ws/T;\n",
"s=poly(0,'s');\n",
"z=poly(0,'z');\n",
"hs=1;\n",
"//Calculating the order of filter\n",
"num=log((rs^-2 -1)/(rp^-2 -1));\n",
"den=2*log(fs/fp);\n",
"N=ceil(num/den);\n",
"\n",
"//Calculation of cut-off frequency\n",
"fc=fp/(rp^-2 -1)^(0.5/N);\n",
"\n",
"//Calculating filter response\n",
"if modulo(N,2)==1 then\n",
"    b=-2*sin(%pi/(2*N));\n",
"    hs=hs*fc/(s+fc);\n",
"end\n",
"for k=1:N/2\n",
"    b=2*sin((2*k-1)*%pi/(2*N));\n",
"    hs=hs*fc^2/(s^2+b*fc*s+fc^2);\n",
"end\n",
"hs=clean(hs);\n",
"sys=syslin('c',hs);                \n",
"hz=horner(ss2tf(dscr(sys,T)),1/z);        //converting H(s) to H(z)\n",
"\n",
"//Displaying filter response\n",
"[hzm,fr]=frmag(hz,256);\n",
"disp(hz,'Filter Transfer function: ');\n",
"plot(fr,hzm);\n",
"title('Lowpass Butterworth Filter Response');ylabel('Amplitude-->');xlabel('Normalised frequency f/fs-->');"
   ]
   }
,
{
		   "cell_type": "markdown",
		   "metadata": {},
		   "source": [
			"## Example 8.12: Butterworth_Filter_using_Bilinear_transformation.sce"
		   ]
		  },
  {
"cell_type": "code",
	   "execution_count": null,
	   "metadata": {
	    "collapsed": true
	   },
	   "outputs": [],
"source": [
"//Example 8.12\n",
"clc;clear;close;\n",
"rp=0.9                        //passband ripple\n",
"rs=0.2                        //stopband ripple\n",
"wp=%pi/2;                     //passband frequency\n",
"ws=3*%pi/4;                   //stopband frequency\n",
"T=1;\n",
"fp=2/T*tan(wp/2);\n",
"fs=2/T*tan(ws/2);\n",
"s=poly(0,'s');\n",
"z=poly(0,'z');\n",
"hs=1;\n",
"//Calculating the order of filter\n",
"num=log((rs^-2 -1)/(rp^-2 -1));\n",
"den=2*log(fs/fp);\n",
"N=ceil(num/den);\n",
"\n",
"//Calculation of cut-off frequency\n",
"fc=fp/(rp^-2 -1)^(0.5/N);\n",
"\n",
"//Calculating filter response\n",
"if modulo(N,2)==1 then\n",
"    hs=hs*fc/(s+fc);\n",
"end\n",
"for k=1:N/2\n",
"    b=2*sin((2*k-1)*%pi/(2*N));\n",
"    hs=hs*fc^2/(s^2+b*fc*s+fc^2);\n",
"end\n",
"hs=clean(hs);\n",
"sys=syslin('c',hs);             \n",
"hz=ss2tf(cls2dls(tf2ss(sys),T));        //converting H(s) to H(z)\n",
"\n",
"//Displaying filter response\n",
"[hzm,fr]=frmag(hz,256);\n",
"disp(hz,'Filter Transfer function: ');\n",
"plot(fr,hzm);\n",
"title('Lowpass Butterworth Filter Response');ylabel('Amplitude-->');xlabel('Normalised frequency f/fs-->');"
   ]
   }
,
{
		   "cell_type": "markdown",
		   "metadata": {},
		   "source": [
			"## Example 8.14: Filter_transformation.sce"
		   ]
		  },
  {
"cell_type": "code",
	   "execution_count": null,
	   "metadata": {
	    "collapsed": true
	   },
	   "outputs": [],
"source": [
"//Example 8.14\n",
"clc;clear;close;\n",
"s=poly(0,'s');\n",
"fc=1;              //Assumed cut off frequency\n",
"Q=10;f0=2;        //Given data\n",
"Hs=1/(s^2+2*s+1);\n",
"l=fc*(s^2+f0^2)/(s*f0/Q);\n",
"Hs1=horner(Hs,l);\n",
"disp(Hs,'Low pass filter H(s)=');\n",
"disp(Hs1,'Band pass filterH(s)=');"
   ]
   }
,
{
		   "cell_type": "markdown",
		   "metadata": {},
		   "source": [
			"## Example 8.15: Filter_transformation.sce"
		   ]
		  },
  {
"cell_type": "code",
	   "execution_count": null,
	   "metadata": {
	    "collapsed": true
	   },
	   "outputs": [],
"source": [
"//Example 8.15\n",
"clc;clear;close;\n",
"s=poly(0,'s');\n",
"fc=1;              //Assumed cut off frequency of low pass filter\n",
"f0=5;             //Assumed cut off frequency of high pass filter\n",
"Hs=fc/(s+fc);\n",
"Hs1=horner(Hs,fc*f0/s);\n",
"disp(Hs,'H(s)=',fc,'Low pass filter with fc=');\n",
"disp(Hs1,'H(s)=',f0,'High pass filter with fc=');"
   ]
   }
,
{
		   "cell_type": "markdown",
		   "metadata": {},
		   "source": [
			"## Example 8.1: IIR_filter_Design_byBackward_Difference_For_Derivative_method.sce"
		   ]
		  },
  {
"cell_type": "code",
	   "execution_count": null,
	   "metadata": {
	    "collapsed": true
	   },
	   "outputs": [],
"source": [
"//Example 8.1\n",
"clc;clear;close;\n",
"s=poly(0,'s');\n",
"z=poly(0,'z');\n",
"T=1;\n",
"Hs=1/(s+2);\n",
"Hz=horner(Hs,(1-1/z)/T);\n",
"disp('Using Backward difference formula for derivative:')\n",
"disp(Hs,'H(s)=');\n",
"disp(Hz,'H(z)=');"
   ]
   }
,
{
		   "cell_type": "markdown",
		   "metadata": {},
		   "source": [
			"## Example 8.2: IIR_filter_Design_byBackward_Difference_For_Derivative_method.sce"
		   ]
		  },
  {
"cell_type": "code",
	   "execution_count": null,
	   "metadata": {
	    "collapsed": true
	   },
	   "outputs": [],
"source": [
"//Example 8.2\n",
"clc;clear;close;\n",
"s=poly(0,'s');\n",
"z=poly(0,'z');\n",
"T=1;\n",
"Hs=1/(s^2+16);\n",
"Hz=horner(Hs,(1-1/z)/T);\n",
"disp('Using Backward difference formula for derivative:')\n",
"disp(Hs,'H(s)=');\n",
"disp(Hz,'H(z)=');"
   ]
   }
,
{
		   "cell_type": "markdown",
		   "metadata": {},
		   "source": [
			"## Example 8.3: IIR_filter_Design_byBackward_Difference_For_Derivative_method.sce"
		   ]
		  },
  {
"cell_type": "code",
	   "execution_count": null,
	   "metadata": {
	    "collapsed": true
	   },
	   "outputs": [],
"source": [
"//Example 8.3\n",
"clc;clear;close;\n",
"s=poly(0,'s');\n",
"z=poly(0,'z');\n",
"T=1;\n",
"Hs=1/((s+0.1)^2+9);\n",
"Hz=horner(Hs,(1-1/z)/T);\n",
"disp('Using Backward difference formula for derivative:')\n",
"disp(Hs,'H(s)=');\n",
"disp(Hz,'H(z)=');"
   ]
   }
,
{
		   "cell_type": "markdown",
		   "metadata": {},
		   "source": [
			"## Example 8.4: IIR_filter_Design_by_Impulse_Invariant_method.sce"
		   ]
		  },
  {
"cell_type": "code",
	   "execution_count": null,
	   "metadata": {
	    "collapsed": true
	   },
	   "outputs": [],
"source": [
"//Example 8.4\n",
"clc;clear;close;\n",
"s=poly(0,'s');\n",
"z=poly(0,'z');\n",
"T=1;\n",
"Hs=(s+0.2)/((s+0.2)^2+9);\n",
"Hz=horner(Hs,(1-1/z)/T);\n",
"disp('Using Impulse Invariant Technique:')\n",
"disp(Hs,'H(s)=');\n",
"disp(Hz,'H(z)=');"
   ]
   }
,
{
		   "cell_type": "markdown",
		   "metadata": {},
		   "source": [
			"## Example 8.5: IIR_filter_Design_by_Impulse_Invariant_method.sce"
		   ]
		  },
  {
"cell_type": "code",
	   "execution_count": null,
	   "metadata": {
	    "collapsed": true
	   },
	   "outputs": [],
"source": [
"//Example 8.5\n",
"clc;clear;close;\n",
"s=poly(0,'s');\n",
"z=poly(0,'z');\n",
"T=1;\n",
"Hs=1/(s+1)/(s+2);\n",
"Hz=horner(Hs,(1-1/z)/T);\n",
"disp('Using Impulse Invariant Technique:')\n",
"disp(Hs,'H(s)=');\n",
"disp(Hz,'H(z)=');"
   ]
   }
,
{
		   "cell_type": "markdown",
		   "metadata": {},
		   "source": [
			"## Example 8.6: IIR_filter_Design_by_Impulse_Invariant_method.sce"
		   ]
		  },
  {
"cell_type": "code",
	   "execution_count": null,
	   "metadata": {
	    "collapsed": true
	   },
	   "outputs": [],
"source": [
"//Example 8.6\n",
"clc;clear;close;\n",
"s=poly(0,'s');\n",
"z=poly(0,'z');\n",
"T=1;\n",
"Hs=1/(s+0.5)/(s^2+0.5*s+2);\n",
"Hz=horner(Hs,(1-1/z)/T);\n",
"disp('Using Impulse Invariant Technique:')\n",
"disp(Hs,'H(s)=');\n",
"disp(Hz,'H(z)=');"
   ]
   }
,
{
		   "cell_type": "markdown",
		   "metadata": {},
		   "source": [
			"## Example 8.7: IIR_filter_Design_by_Bilinear_Transformation_method.sce"
		   ]
		  },
  {
"cell_type": "code",
	   "execution_count": null,
	   "metadata": {
	    "collapsed": true
	   },
	   "outputs": [],
"source": [
"//Example 8.7\n",
"clc;clear;close;\n",
"s=poly(0,'s');\n",
"z=poly(0,'z');\n",
"T=0.276;\n",
"Hs=(s+0.1)/((s+0.1)^2+9);\n",
"Hz=ss2tf(cls2dls(tf2ss(Hs),T));\n",
"disp('Using Bilinear Transformation:');\n",
"disp(Hs,'H(s)=');\n",
"disp(Hz,'H(z)=');"
   ]
   }
,
{
		   "cell_type": "markdown",
		   "metadata": {},
		   "source": [
			"## Example 8.8: IIR_filter_Design_by_Bilinear_Transformation_method.sce"
		   ]
		  },
  {
"cell_type": "code",
	   "execution_count": null,
	   "metadata": {
	    "collapsed": true
	   },
	   "outputs": [],
"source": [
"//Example 8.8\n",
"clc;clear;close;\n",
"s=poly(0,'s');\n",
"z=poly(0,'z');\n",
"T=0.1;\n",
"Hs=2/(s+1)/(s+2);\n",
"Hz=ss2tf(cls2dls(tf2ss(Hs),T));\n",
"disp(Hs,'H(s)=');\n",
"disp(Hz,'H(z)=');"
   ]
   }
,
{
		   "cell_type": "markdown",
		   "metadata": {},
		   "source": [
			"## Example 8.9: IIR_filter_Design_by_Bilinear_Transformation_method.sce"
		   ]
		  },
  {
"cell_type": "code",
	   "execution_count": null,
	   "metadata": {
	    "collapsed": true
	   },
	   "outputs": [],
"source": [
"//Example 8.9\n",
"clc;clear;close;\n",
"s=poly(0,'s');\n",
"z=poly(0,'z');\n",
"T=0.1;\n",
"wr=0.25*%pi;        //Given cut off frequency\n",
"fc=2/T*tan(wr/2);\n",
"Hs=fc/(s+fc);\n",
"Hz=ss2tf(cls2dls(tf2ss(Hs),T));\n",
"disp('Using Bilinear Transformation:');\n",
"disp(Hs,'H(s)=');\n",
"disp(Hz,'H(z)=');"
   ]
   }
],
"metadata": {
		  "kernelspec": {
		   "display_name": "Scilab",
		   "language": "scilab",
		   "name": "scilab"
		  },
		  "language_info": {
		   "file_extension": ".sce",
		   "help_links": [
			{
			 "text": "MetaKernel Magics",
			 "url": "https://github.com/calysto/metakernel/blob/master/metakernel/magics/README.md"
			}
		   ],
		   "mimetype": "text/x-octave",
		   "name": "scilab",
		   "version": "0.7.1"
		  }
		 },
		 "nbformat": 4,
		 "nbformat_minor": 0
}
