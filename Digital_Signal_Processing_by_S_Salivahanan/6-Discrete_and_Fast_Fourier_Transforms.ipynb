{
"cells": [
 {
		   "cell_type": "markdown",
	   "metadata": {},
	   "source": [
       "# Chapter 6: Discrete and Fast Fourier Transforms"
	   ]
	},
{
		   "cell_type": "markdown",
		   "metadata": {},
		   "source": [
			"## Example 6.10: DFT.sce"
		   ]
		  },
  {
"cell_type": "code",
	   "execution_count": null,
	   "metadata": {
	    "collapsed": true
	   },
	   "outputs": [],
"source": [
"//Example 6.10\n",
"\n",
"clc;clear;close;\n",
"x=[1 1 2 2 3 3];\n",
"//Calculation of DFT\n",
"X=dft(x,-1);\n",
"X=clean(X);\n",
"disp(x,'Given Sequence is x(n): ');\n",
"disp(X,'DFT of the Sequence is X(k): ');\n",
"subplot(3,1,1);\n",
"plot2d3(x);\n",
"title('Given Seqence x[n]:');ylabel('Amplitude-->');xlabel('n-->');\n",
"subplot(3,1,2);\n",
"plot2d3(abs(X));\n",
"title('Magnitude Spectrum |X(k)|');xlabel('k-->');\n",
"subplot(3,1,3);\n",
"plot2d3(atan(X));\n",
"title('Phase Spectrum /_X(k)');xlabel('k-->');\n",
""
   ]
   }
,
{
		   "cell_type": "markdown",
		   "metadata": {},
		   "source": [
			"## Example 6.11: DFT.sce"
		   ]
		  },
  {
"cell_type": "code",
	   "execution_count": null,
	   "metadata": {
	    "collapsed": true
	   },
	   "outputs": [],
"source": [
"//Example 6.11\n",
"\n",
"clc;clear;close;\n",
"N=8;A=1/4;\n",
"n=0:N-1;\n",
"x=A^n;\n",
"//Calculation of DFT\n",
"X=dft(x,-1);\n",
"X=clean(X);\n",
"disp(x,'Given Sequence is x(n): ');\n",
"disp(N,'N=')\n",
"disp(X,'N-point DFT of the Sequence is X(k): ');"
   ]
   }
,
{
		   "cell_type": "markdown",
		   "metadata": {},
		   "source": [
			"## Example 6.12: DFT.sce"
		   ]
		  },
  {
"cell_type": "code",
	   "execution_count": null,
	   "metadata": {
	    "collapsed": true
	   },
	   "outputs": [],
"source": [
"//Example 6.12\n",
"\n",
"clc;clear;close;\n",
"N=4;\n",
"n=0:N-1;\n",
"x=cos(%pi/4*n);\n",
"//Calculation of DFT\n",
"X=dft(x,-1);\n",
"X=clean(X);\n",
"disp(x,'Given Sequence is x(n): ');\n",
"disp(X,'DFT of the Sequence is X(k): ');"
   ]
   }
,
{
		   "cell_type": "markdown",
		   "metadata": {},
		   "source": [
			"## Example 6.13: Inverse_DFT.sce"
		   ]
		  },
  {
"cell_type": "code",
	   "execution_count": null,
	   "metadata": {
	    "collapsed": true
	   },
	   "outputs": [],
"source": [
"//Example 6.13\n",
"clc;clear;close;\n",
"X=[1 2 3 4];\n",
"//Calculation of IDFT\n",
"x=dft(X,1);\n",
"x=clean(x);\n",
"disp(X,'DFT of the Sequence is X(k): ');\n",
"disp(x,'Sequence is x(n): ');"
   ]
   }
,
{
		   "cell_type": "markdown",
		   "metadata": {},
		   "source": [
			"## Example 6.14: Inverse_DFT.sce"
		   ]
		  },
  {
"cell_type": "code",
	   "execution_count": null,
	   "metadata": {
	    "collapsed": true
	   },
	   "outputs": [],
"source": [
"//Example 6.14\n",
"clc;clear;close;\n",
"X=[3 2+%i 1 2-%i];\n",
"//Calculation of IDFT\n",
"x=dft(X,1);\n",
"x=clean(x);\n",
"disp(X,'DFT of the Sequence is X(k): ');\n",
"disp(x,'Sequence is x(n): ');"
   ]
   }
,
{
		   "cell_type": "markdown",
		   "metadata": {},
		   "source": [
			"## Example 6.15: DIT_FFT.sce"
		   ]
		  },
  {
"cell_type": "code",
	   "execution_count": null,
	   "metadata": {
	    "collapsed": true
	   },
	   "outputs": [],
"source": [
"//Example 6.15\n",
"\n",
"clc;clear;\n",
"x=[1 2 3 4 4  3 2 1];\n",
"X=clean(fft(x));\n",
"disp(x,'x(n)=');\n",
"disp(X,'X(k)=');"
   ]
   }
,
{
		   "cell_type": "markdown",
		   "metadata": {},
		   "source": [
			"## Example 6.16: DIT_FFT.sce"
		   ]
		  },
  {
"cell_type": "code",
	   "execution_count": null,
	   "metadata": {
	    "collapsed": true
	   },
	   "outputs": [],
"source": [
"//Example 6.16\n",
"\n",
"clc;clear;\n",
"x=[0 1 2 3 4 5 6 7];\n",
"X=clean(fft(x));\n",
"disp(x,'x(n)=');\n",
"disp(X,'X(k)=');"
   ]
   }
,
{
		   "cell_type": "markdown",
		   "metadata": {},
		   "source": [
			"## Example 6.17: DIT_FFT.sce"
		   ]
		  },
  {
"cell_type": "code",
	   "execution_count": null,
	   "metadata": {
	    "collapsed": true
	   },
	   "outputs": [],
"source": [
"//Example 6.17\n",
"\n",
"clc;clear;\n",
"n=0:7;\n",
"x=2^n;\n",
"X=clean(fft(x));\n",
"disp(x,'x(n)=');\n",
"disp(X,'X(k)=');"
   ]
   }
,
{
		   "cell_type": "markdown",
		   "metadata": {},
		   "source": [
			"## Example 6.18: DIT_FFT.sce"
		   ]
		  },
  {
"cell_type": "code",
	   "execution_count": null,
	   "metadata": {
	    "collapsed": true
	   },
	   "outputs": [],
"source": [
"//Example 6.18\n",
"\n",
"clc;clear;\n",
"x=[0 1 2 3];\n",
"X=clean(fft(x));\n",
"disp(x,'x(n)=');\n",
"disp(X,'X(k)=');"
   ]
   }
,
{
		   "cell_type": "markdown",
		   "metadata": {},
		   "source": [
			"## Example 6.19: DIF_FFT.sce"
		   ]
		  },
  {
"cell_type": "code",
	   "execution_count": null,
	   "metadata": {
	    "collapsed": true
	   },
	   "outputs": [],
"source": [
"//Example 6.19\n",
"\n",
"clc;clear;\n",
"x=[1 2 3 4 4  3 2 1];\n",
"X=clean(fft(x));\n",
"disp(x,'x(n)=');\n",
"disp(X,'X(k)=');"
   ]
   }
,
{
		   "cell_type": "markdown",
		   "metadata": {},
		   "source": [
			"## Example 6.1: Linear_and_Circular_convolution.sce"
		   ]
		  },
  {
"cell_type": "code",
	   "execution_count": null,
	   "metadata": {
	    "collapsed": true
	   },
	   "outputs": [],
"source": [
"//Example 6.1\n",
"clc;clear;close;\n",
"x1=[1 1 2 2];\n",
"x2=[1 2 3 4];\n",
"ylength=length(x1);\n",
"//Calculation of linear convolution\n",
"z=convol(x1,x2);\n",
"//Calculation of circular convolution\n",
"for n=1:ylength\n",
"    y(n)=0;\n",
"    for k=1:ylength,\n",
"        l=n-k+1;\n",
"        if l <= 0 then\n",
"            l=l+ylength;\n",
"        end\n",
"     y(n)=y(n)+(x1(k)*x2(l));\n",
"     end\n",
"end\n",
"//Calculation of circular convolution using DFT and IDFT\n",
"X1=dft(x1,-1);\n",
"X2=dft(x2,-1);\n",
"Y1=X1.*X2;\n",
"y1=dft(Y1,1);\n",
"y1=clean(y1);\n",
"disp(z,'Linear Convolution sequence is z(n): ');\n",
"disp(y,'Circular Convolution sequence is y(n): ');\n",
"disp(y1,'Circular Convolution sequence calculated using DFT-IDFT method is y(n): ');"
   ]
   }
,
{
		   "cell_type": "markdown",
		   "metadata": {},
		   "source": [
			"## Example 6.20: DIF_FFT.sce"
		   ]
		  },
  {
"cell_type": "code",
	   "execution_count": null,
	   "metadata": {
	    "collapsed": true
	   },
	   "outputs": [],
"source": [
"//Example 6.20\n",
"\n",
"clc;clear;\n",
"n=0:7;\n",
"x=2^n;\n",
"X=clean(fft(x));\n",
"disp(x,'x(n)=');\n",
"disp(X,'X(k)=');"
   ]
   }
,
{
		   "cell_type": "markdown",
		   "metadata": {},
		   "source": [
			"## Example 6.21: DIF_FFT.sce"
		   ]
		  },
  {
"cell_type": "code",
	   "execution_count": null,
	   "metadata": {
	    "collapsed": true
	   },
	   "outputs": [],
"source": [
"//Example 6.21\n",
"\n",
"clc;clear;\n",
"n=0:7;\n",
"x=n+1;\n",
"X=clean(fft(x));\n",
"disp(x,'x(n)=');\n",
"disp(X,'X(k)=');"
   ]
   }
,
{
		   "cell_type": "markdown",
		   "metadata": {},
		   "source": [
			"## Example 6.22: DIF_FFT.sce"
		   ]
		  },
  {
"cell_type": "code",
	   "execution_count": null,
	   "metadata": {
	    "collapsed": true
	   },
	   "outputs": [],
"source": [
"//Example 6.21\n",
"\n",
"clc;clear;\n",
"n=0:3;\n",
"x=cos(n*%pi/2);\n",
"X=clean(fft(x));\n",
"disp(x,'x(n)=');\n",
"disp(X,'X(k)=');"
   ]
   }
,
{
		   "cell_type": "markdown",
		   "metadata": {},
		   "source": [
			"## Example 6.23: IFFT.sce"
		   ]
		  },
  {
"cell_type": "code",
	   "execution_count": null,
	   "metadata": {
	    "collapsed": true
	   },
	   "outputs": [],
"source": [
"//Example 6.23\n",
"\n",
"clc;clear;\n",
"X=[6 -2+2*%i -2 -2-2*%i];\n",
"x=clean(ifft(X));\n",
"disp(X,'X(k)=');\n",
"disp(x,'x(n)=');"
   ]
   }
,
{
		   "cell_type": "markdown",
		   "metadata": {},
		   "source": [
			"## Example 6.24: IFFT.sce"
		   ]
		  },
  {
"cell_type": "code",
	   "execution_count": null,
	   "metadata": {
	    "collapsed": true
	   },
	   "outputs": [],
"source": [
"//Example 6.24\n",
"\n",
"clc;clear;\n",
"X=[20 -5.828-2.414*%i 0 -0.172-0.414*%i 0 -0.172+0.414*%i 0 -5.828+2.414*%i];\n",
"x=round(clean(ifft(X)));\n",
"disp(X,'X(k)=');\n",
"disp(x,'x(n)=');"
   ]
   }
,
{
		   "cell_type": "markdown",
		   "metadata": {},
		   "source": [
			"## Example 6.25: IFFT.sce"
		   ]
		  },
  {
"cell_type": "code",
	   "execution_count": null,
	   "metadata": {
	    "collapsed": true
	   },
	   "outputs": [],
"source": [
"//Example 6.25\n",
"\n",
"clc;clear;\n",
"X=[255 48.63+166.05*%i -51+102*%i -78.63+46.05*%i -85 -78.63-46.05*%i -51-102*%i 48.63-166.05*%i];\n",
"x=round(clean(ifft(X)));\n",
"disp(X,'X(k)=');\n",
"disp(x,'x(n)=');"
   ]
   }
,
{
		   "cell_type": "markdown",
		   "metadata": {},
		   "source": [
			"## Example 6.26: IFFT.sce"
		   ]
		  },
  {
"cell_type": "code",
	   "execution_count": null,
	   "metadata": {
	    "collapsed": true
	   },
	   "outputs": [],
"source": [
"//Example 6.26\n",
"\n",
"clc;clear;\n",
"X=[36 -4+9.656*%i -4+4*%i -4+1.656*%i -4 -4-1.656*%i -4-4*%i -4-9.656*%i ];\n",
"x=round(clean(ifft(X)));\n",
"disp(X,'X(k)=');\n",
"disp(x,'x(n)=');"
   ]
   }
,
{
		   "cell_type": "markdown",
		   "metadata": {},
		   "source": [
			"## Example 6.27: IFFT.sce"
		   ]
		  },
  {
"cell_type": "code",
	   "execution_count": null,
	   "metadata": {
	    "collapsed": true
	   },
	   "outputs": [],
"source": [
"//Example 6.27\n",
"\n",
"clc;clear;\n",
"t=0:0.0025:0.0175;\n",
"f=50;\n",
"x=sin(2*%pi*f*t);\n",
"X=clean(fft(x));\n",
"disp(x,'x(n)=');\n",
"disp(X,'X(k)=');"
   ]
   }
,
{
		   "cell_type": "markdown",
		   "metadata": {},
		   "source": [
			"## Example 6.2: FIR_filter_response.sce"
		   ]
		  },
  {
"cell_type": "code",
	   "execution_count": null,
	   "metadata": {
	    "collapsed": true
	   },
	   "outputs": [],
"source": [
"//Example 6.2\n",
"\n",
"clc;clear;close;\n",
"x=[1 2];\n",
"h=[1 2 4];\n",
"\n",
"//Calculation of linear convolution\n",
"y=convol(x,h);\n",
"disp(x,'Input Sequence is x(n): ');\n",
"disp(h,'Impulse respnose of FIR filter h(n): ');\n",
"disp(y,'Output sequence is y(n): ');\n",
"subplot(3,1,1);\n",
"plot2d3(x);\n",
"title('Input Seqence x[n]:');ylabel('Amplitude-->');xlabel('n-->')\n",
"subplot(3,1,2);\n",
"plot2d3(h);\n",
"title('Impulse Response h[n]:');ylabel('Amplitude-->');xlabel('n-->')\n",
"subplot(3,1,3);\n",
"plot2d3(y);\n",
"title('Output Seqence y[n]=x[n]*h[n] :');ylabel('Amplitude-->');xlabel('n-->')\n",
""
   ]
   }
,
{
		   "cell_type": "markdown",
		   "metadata": {},
		   "source": [
			"## Example 6.34: Overlap_Add_Convolution.sce"
		   ]
		  },
  {
"cell_type": "code",
	   "execution_count": null,
	   "metadata": {
	    "collapsed": true
	   },
	   "outputs": [],
"source": [
"//Example 6.34\n",
"\n",
"clc;clear;close;\n",
"h=[2 2 1];\n",
"x=[3 0 -2 0 2 1 0 -2 -1 0];\n",
"M=length(h);                //length of impulse response\n",
"L=2^M;                      //length of FFT/IFFT operation\n",
"N=L-M+1;\n",
"xl=length(x);\n",
"K=ceil(xl/N);                //number of iterations\n",
"h=[h zeros(1,L-M)];\n",
"x=[x x(1:K*N-xl)];\n",
"H=fft(h);\n",
"y=zeros(1,M-1);\n",
"for k=0:K-1\n",
"    xk=[x(k*N+1:(k+1)*N) zeros(1,M-1)];\n",
"    Xk=fft(xk);\n",
"    Yk=H.*Xk;\n",
"    yk=ifft(Yk);\n",
"    yk=clean(yk);\n",
"    y=[y(1:k*N) y(k*N+1:k*N+M-1)+yk(1:M-1) yk(M:L)];\n",
"    disp(k+1,'Segment =');\n",
"    disp(xk,'xk(n)=');\n",
"    disp(yk,'yk(n)=');\n",
"end\n",
"y=y(1:xl+M-1);\n",
"disp(y,'Output Sequence is y(n): ');"
   ]
   }
,
{
		   "cell_type": "markdown",
		   "metadata": {},
		   "source": [
			"## Example 6.35: Overlap_Save_Convolution.sce"
		   ]
		  },
  {
"cell_type": "code",
	   "execution_count": null,
	   "metadata": {
	    "collapsed": true
	   },
	   "outputs": [],
"source": [
"//Example 6.35\n",
"\n",
"clc;clear;close;\n",
"h=[2 2 1];\n",
"x=[3 0 -2 0 2 1 0 -2 -1 0];\n",
"M=length(h);                //length of impulse response\n",
"L=2^M;              //length of FFT/IFFT operation\n",
"N=L-M+1;\n",
"xl=length(x);\n",
"K=ceil(xl/N);       //number of iterations\n",
"h=[h zeros(1,L-M)];\n",
"x=[zeros(1,M-1) x x(1:K*N-xl)];\n",
"H=fft(h);\n",
"for k=0:K-1\n",
"    xk=x(k*N+1:(k+1)*N+M-1);\n",
"    Xk=fft(xk);\n",
"    Yk=H.*Xk;\n",
"    yk=ifft(Yk);\n",
"    yk=clean(yk);\n",
"    y=[y(1:k*N) yk(M:L)];\n",
"    disp(k+1,'Segment =');\n",
"    disp(xk,'xk(n)=');\n",
"    disp(yk,'yk(n)=');\n",
"end\n",
"disp(y,'Output Sequence is y(n): ');"
   ]
   }
,
{
		   "cell_type": "markdown",
		   "metadata": {},
		   "source": [
			"## Example 6.36: Cross_Correlatio.sce"
		   ]
		  },
  {
"cell_type": "code",
	   "execution_count": null,
	   "metadata": {
	    "collapsed": true
	   },
	   "outputs": [],
"source": [
"//Example 6.36\n",
"\n",
"clc;clear;close;\n",
"x=[1 0 0 1];\n",
"h=[4 3 2 1];\n",
"ylength=length(x)+length(h)-1;\n",
"xlength=length(x);\n",
"x=[zeros(1,length(h)-1) x zeros(1,length(h)-1)];\n",
"y=0;\n",
"//Calculation of cross correlation\n",
"for n=1:ylength;\n",
"    y(n)=x*[zeros(1,n-1) h zeros(1,ylength-n)]';           //this instruction performs cross correlation of x & h\n",
"end                                 \n",
"\n",
"disp(x,'First Sequence is x(n): ');\n",
"disp(h,'Second Sequence is h(n): ');\n",
"disp(y,'Correlation Sequence y[n] is');\n",
"figure;\n",
"subplot(3,1,1);\n",
"plot2d3(x);\n",
"title('First Seqence x[n]:');ylabel('Amplitude-->');xlabel('n-->')\n",
"subplot(3,1,2);\n",
"plot2d3(h);\n",
"title('Second Seqence h[n]:');ylabel('Amplitude-->');xlabel('n-->')\n",
"subplot(3,1,3);\n",
"plot2d3(y);\n",
"title('Correlation Seqence y[n]:');ylabel('Amplitude-->');xlabel('n-->')\n",
""
   ]
   }
,
{
		   "cell_type": "markdown",
		   "metadata": {},
		   "source": [
			"## Example 6.37: Circular_Correlatio.sce"
		   ]
		  },
  {
"cell_type": "code",
	   "execution_count": null,
	   "metadata": {
	    "collapsed": true
	   },
	   "outputs": [],
"source": [
"//Example 6.37\n",
"\n",
"clc;clear;close;\n",
"x=[1 0 0 1];\n",
"h=[4 3 2 1];\n",
"ylength=length(x);\n",
"y=0;\n",
"//Calculation of circular correlation\n",
"for n=1:ylength,\n",
"    y(n)=0;\n",
"    for k=1:ylength,\n",
"        l=k-n+1;\n",
"        if l <= 0 then\n",
"            l=l+ylength;\n",
"        end\n",
"     y(n)=y(n)+(x(k)*h(l));\n",
"     end\n",
"     y(n)=y(n)/4;\n",
"end\n",
"\n",
"disp(x,'First Sequence is x(n): ');\n",
"disp(h,'Second Sequence is h(n): ');\n",
"disp(y,'Correlation Sequence y[n] is');\n",
"figure;\n",
"subplot(3,1,1);\n",
"plot2d3(x);\n",
"title('First Seqence x[n]:');ylabel('Amplitude-->');xlabel('n-->')\n",
"subplot(3,1,2);\n",
"plot2d3(h);\n",
"title('Second Seqence h[n]:');ylabel('Amplitude-->');xlabel('n-->')\n",
"subplot(3,1,3);\n",
"plot2d3(y);\n",
"title('Correlation Seqence y[n]:');ylabel('Amplitude-->');xlabel('n-->')\n",
""
   ]
   }
,
{
		   "cell_type": "markdown",
		   "metadata": {},
		   "source": [
			"## Example 6.3: Convolution.sce"
		   ]
		  },
  {
"cell_type": "code",
	   "execution_count": null,
	   "metadata": {
	    "collapsed": true
	   },
	   "outputs": [],
"source": [
"//Example 6.3\n",
"\n",
"clc;clear;close;\n",
"x=[1 1 1];\n",
"h=[1 1 1];\n",
"\n",
"//Calculation of linear convolution\n",
"y=convol(x,h);\n",
"disp(x,'First Sequence is x(n): ');\n",
"disp(h,'Second Sequence is h(n): ');\n",
"disp(y,'Output sequence is y(n): ');\n",
"subplot(3,1,1);\n",
"plot2d3(x);\n",
"title('First Seqence x[n]:');ylabel('Amplitude-->');xlabel('n-->')\n",
"subplot(3,1,2);\n",
"plot2d3(h);\n",
"title('Second Seqence h[n]:');ylabel('Amplitude-->');xlabel('n-->')\n",
"subplot(3,1,3);\n",
"plot2d3(y);\n",
"title('Convolution Seqence y[n]=x[n]*h[n] :');ylabel('Amplitude-->');xlabel('n-->')\n",
""
   ]
   }
,
{
		   "cell_type": "markdown",
		   "metadata": {},
		   "source": [
			"## Example 6.4: Convolution.sce"
		   ]
		  },
  {
"cell_type": "code",
	   "execution_count": null,
	   "metadata": {
	    "collapsed": true
	   },
	   "outputs": [],
"source": [
"//Example 6.4\n",
"\n",
"clc;clear;close;\n",
"a=0.5;\n",
"n=1:50;\n",
"x=ones(1,50);\n",
"h=a^n;\n",
"\n",
"//Calculation of linear convolution\n",
"for i=1:50\n",
"    y(1,i)=sum(h(1:i));\n",
"end\n",
"disp('First Sequence is x(n)=u(n) ');\n",
"disp(a,'Second Sequence is h(n)=a^n*u(n) where a= ');\n",
"disp(y,'Output sequence is y(n): ');\n",
"subplot(3,1,1);\n",
"plot2d3(x);\n",
"title('First Seqence x[n]:');ylabel('Amplitude-->');xlabel('n-->')\n",
"subplot(3,1,2);\n",
"plot2d3(h);\n",
"title('Second Seqence h[n]:');ylabel('Amplitude-->');xlabel('n-->')\n",
"subplot(3,1,3);\n",
"plot2d3(y);\n",
"title('Convolution Seqence y[n]=x[n]*h[n] :');ylabel('Amplitude-->');xlabel('n-->')\n",
""
   ]
   }
,
{
		   "cell_type": "markdown",
		   "metadata": {},
		   "source": [
			"## Example 6.5: Convolution.sce"
		   ]
		  },
  {
"cell_type": "code",
	   "execution_count": null,
	   "metadata": {
	    "collapsed": true
	   },
	   "outputs": [],
"source": [
"//Example 6.5\n",
"clc;clear;close;\n",
"x=[1 2 3];xmin=0;nx=xmin:length(x)+xmin-1;\n",
"h=[1 2 -2 -1];hmin=-1;nh=length(h)+hmin-1;\n",
"\n",
"//Calculation of linear convolution\n",
"y=convol(x,h);\n",
"ymin=xmin+hmin;ny=ymin:length(y)+ymin-1;\n",
"\n",
"disp(x,'First Sequence is x(n): ');\n",
"disp(h,'Second Sequence is h(n): ');\n",
"disp(y,'Output sequence is y(n): ');\n",
"subplot(3,1,1);\n",
"plot2d3(nx,x);\n",
"title('First Seqence x[n]:');ylabel('Amplitude-->');xlabel('n-->')\n",
"subplot(3,1,2);\n",
"plot2d3(nh,h);\n",
"title('Second Seqence h[n]:');ylabel('Amplitude-->');xlabel('n-->')\n",
"subplot(3,1,3);\n",
"plot2d3(ny,y);\n",
"title('Convolution Seqence y[n]=x[n]*h[n] :');ylabel('Amplitude-->');xlabel('n-->')\n",
""
   ]
   }
,
{
		   "cell_type": "markdown",
		   "metadata": {},
		   "source": [
			"## Example 6.6: Convolution.sce"
		   ]
		  },
  {
"cell_type": "code",
	   "execution_count": null,
	   "metadata": {
	    "collapsed": true
	   },
	   "outputs": [],
"source": [
"//Example 6.6\n",
"\n",
"clc;clear;close;\n",
"x=[1 1 0 1 1];xmin=-2;nx=xmin:length(x)+xmin-1;\n",
"h=[1 -2 -3 4];hmin=-3;nh=length(h)+hmin-1;\n",
"\n",
"//Calculation of linear convolution\n",
"y=convol(x,h);\n",
"ymin=xmin+hmin;ny=ymin:length(y)+ymin-1;\n",
"\n",
"disp(x,'First Sequence is x(n): ');\n",
"disp(h,'Second Sequence is h(n): ');\n",
"disp(y,'Output sequence is y(n): ');\n",
"subplot(3,1,1);\n",
"plot2d3(nx,x);\n",
"title('First Seqence x[n]:');ylabel('Amplitude-->');xlabel('n-->')\n",
"subplot(3,1,2);\n",
"plot2d3(nh,h);\n",
"title('Second Seqence h[n]:');ylabel('Amplitude-->');xlabel('n-->')\n",
"subplot(3,1,3);\n",
"plot2d3(ny,y);\n",
"title('Convolution Seqence y[n]=x[n]*h[n] :');ylabel('Amplitude-->');xlabel('n-->')\n",
""
   ]
   }
,
{
		   "cell_type": "markdown",
		   "metadata": {},
		   "source": [
			"## Example 6.8: DFT.sce"
		   ]
		  },
  {
"cell_type": "code",
	   "execution_count": null,
	   "metadata": {
	    "collapsed": true
	   },
	   "outputs": [],
"source": [
"//Example 6.8\n",
"\n",
"clc;clear;close;\n",
"L=3;A=1/4;\n",
"x=A*ones(1,L);\n",
"//Calculation of DFT\n",
"X=dft(x,-1);\n",
"X=clean(X);\n",
"disp(x,'Given Sequence is x(n): ');\n",
"disp(X,'DFT of the Sequence is X(k): ');"
   ]
   }
,
{
		   "cell_type": "markdown",
		   "metadata": {},
		   "source": [
			"## Example 6.9: DFT.sce"
		   ]
		  },
  {
"cell_type": "code",
	   "execution_count": null,
	   "metadata": {
	    "collapsed": true
	   },
	   "outputs": [],
"source": [
"//Example 6.9\n",
"\n",
"clc;clear;close;\n",
"L=3;A=1/5;\n",
"n=-1:1;\n",
"x=A*ones(1,L);\n",
"//Calculation of DFT\n",
"X=dft(x,-1);\n",
"X=clean(X);\n",
"disp(x,'Given Sequence is x(n): ');\n",
"disp(X,'DFT of the Sequence is X(k): ');"
   ]
   }
],
"metadata": {
		  "kernelspec": {
		   "display_name": "Scilab",
		   "language": "scilab",
		   "name": "scilab"
		  },
		  "language_info": {
		   "file_extension": ".sce",
		   "help_links": [
			{
			 "text": "MetaKernel Magics",
			 "url": "https://github.com/calysto/metakernel/blob/master/metakernel/magics/README.md"
			}
		   ],
		   "mimetype": "text/x-octave",
		   "name": "scilab",
		   "version": "0.7.1"
		  }
		 },
		 "nbformat": 4,
		 "nbformat_minor": 0
}
