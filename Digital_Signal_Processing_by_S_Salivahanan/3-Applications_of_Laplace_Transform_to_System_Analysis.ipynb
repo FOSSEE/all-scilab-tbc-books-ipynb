{
"cells": [
 {
		   "cell_type": "markdown",
	   "metadata": {},
	   "source": [
       "# Chapter 3: Applications of Laplace Transform to System Analysis"
	   ]
	},
{
		   "cell_type": "markdown",
		   "metadata": {},
		   "source": [
			"## Example 3.10: Poles_and_Zeros.sce"
		   ]
		  },
  {
"cell_type": "code",
	   "execution_count": null,
	   "metadata": {
	    "collapsed": true
	   },
	   "outputs": [],
"source": [
"//Example 3.10\n",
"\n",
"clc;clear;close;\n",
"s=poly(0,'s');\n",
"I=3*s/(s+2)/(s+4);\n",
"disp(I,'Given Transfer Function:');\n",
"zero=roots(numer(I));\n",
"pole=roots(denom(I));\n",
"disp(zero,'Zeros of transfer function: ');\n",
"disp(pole,'Poles of transfer function: ');\n",
"plzr(I);"
   ]
   }
,
{
		   "cell_type": "markdown",
		   "metadata": {},
		   "source": [
			"## Example 3.11: Poles_and_zeros.sce"
		   ]
		  },
  {
"cell_type": "code",
	   "execution_count": null,
	   "metadata": {
	    "collapsed": true
	   },
	   "outputs": [],
"source": [
"//Example 3.11\n",
"\n",
"clc;clear;close;\n",
"s=poly(0,'s');\n",
"F=4*(s+1)*(s+3)/(s+2)/(s+4);\n",
"disp(F,'Given Transfer Function:');\n",
"zero=roots(numer(F));\n",
"pole=roots(denom(F));\n",
"disp(zero,'Zeros of transfer function: ');\n",
"disp(pole,'Poles of transfer function: ');\n",
"plzr(F);"
   ]
   }
,
{
		   "cell_type": "markdown",
		   "metadata": {},
		   "source": [
			"## Example 3.12: Poles_and_zeros.sce"
		   ]
		  },
  {
"cell_type": "code",
	   "execution_count": null,
	   "metadata": {
	    "collapsed": true
	   },
	   "outputs": [],
"source": [
"//Example 3.12\n",
"\n",
"clc;clear;close;\n",
"s=poly(0,'s');\n",
"F=10*s/(s^2+2*s+2);\n",
"disp(F,'Given Transfer Function:');\n",
"zero=roots(numer(F));\n",
"pole=roots(denom(F));\n",
"disp(zero,'Zeros of transfer function: ');\n",
"disp(pole,'Poles of transfer function: ');\n",
"plzr(F);"
   ]
   }
],
"metadata": {
		  "kernelspec": {
		   "display_name": "Scilab",
		   "language": "scilab",
		   "name": "scilab"
		  },
		  "language_info": {
		   "file_extension": ".sce",
		   "help_links": [
			{
			 "text": "MetaKernel Magics",
			 "url": "https://github.com/calysto/metakernel/blob/master/metakernel/magics/README.md"
			}
		   ],
		   "mimetype": "text/x-octave",
		   "name": "scilab",
		   "version": "0.7.1"
		  }
		 },
		 "nbformat": 4,
		 "nbformat_minor": 0
}
