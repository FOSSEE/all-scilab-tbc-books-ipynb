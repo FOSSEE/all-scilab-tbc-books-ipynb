{
"cells": [
 {
		   "cell_type": "markdown",
	   "metadata": {},
	   "source": [
       "# Chapter 1: Classifications of signals and systems"
	   ]
	},
{
		   "cell_type": "markdown",
		   "metadata": {},
		   "source": [
			"## Example 1.2_a: Rectangular_wave.sce"
		   ]
		  },
  {
"cell_type": "code",
	   "execution_count": null,
	   "metadata": {
	    "collapsed": true
	   },
	   "outputs": [],
"source": [
"//Example 1.2 (a)\n",
"clc;clear;\n",
"t=-5:0.01:5;\n",
"x=1*(abs(2*t+3)<0.5);\n",
"plot(t,x);\n",
"title('x(t)=rect(2t+3)');"
   ]
   }
,
{
		   "cell_type": "markdown",
		   "metadata": {},
		   "source": [
			"## Example 1.2_b: Rectangular_wave.sce"
		   ]
		  },
  {
"cell_type": "code",
	   "execution_count": null,
	   "metadata": {
	    "collapsed": true
	   },
	   "outputs": [],
"source": [
"//Example 1.2 (b)\n",
"clc;clear;\n",
"t=-5:0.01:5;\n",
"x=2*(abs(t-1/4)<0.5);\n",
"plot(t,x);\n",
"title('x(t)=2*rect(t-1/4)');"
   ]
   }
,
{
		   "cell_type": "markdown",
		   "metadata": {},
		   "source": [
			"## Example 1.2_c: Cosine_wave.sce"
		   ]
		  },
  {
"cell_type": "code",
	   "execution_count": null,
	   "metadata": {
	    "collapsed": true
	   },
	   "outputs": [],
"source": [
"//Example 1.2 (c)\n",
"clc;clear;\n",
"pi=22/7;\n",
"t=-5:0.01:5;\n",
"x=cos(2*pi*t-50*pi);\n",
"plot(t,x);\n",
"title('x(t)=cos(2*pi*t-*pi)');"
   ]
   }
,
{
		   "cell_type": "markdown",
		   "metadata": {},
		   "source": [
			"## Example 1.2_d: Ramp_wave.sce"
		   ]
		  },
  {
"cell_type": "code",
	   "execution_count": null,
	   "metadata": {
	    "collapsed": true
	   },
	   "outputs": [],
"source": [
"//Example 1.2 (d)\n",
"\n",
"clc;clear;\n",
"t=-5:0.01:5;\n",
"x=-0.5*(t-4);\n",
"plot(t,x);\n",
"title('x(t)=r(-0.5t+2)');\n",
"zoom_rect([-5 0 5 5]);"
   ]
   }
],
"metadata": {
		  "kernelspec": {
		   "display_name": "Scilab",
		   "language": "scilab",
		   "name": "scilab"
		  },
		  "language_info": {
		   "file_extension": ".sce",
		   "help_links": [
			{
			 "text": "MetaKernel Magics",
			 "url": "https://github.com/calysto/metakernel/blob/master/metakernel/magics/README.md"
			}
		   ],
		   "mimetype": "text/x-octave",
		   "name": "scilab",
		   "version": "0.7.1"
		  }
		 },
		 "nbformat": 4,
		 "nbformat_minor": 0
}
