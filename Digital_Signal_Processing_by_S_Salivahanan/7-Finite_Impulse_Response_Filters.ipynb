{
"cells": [
 {
		   "cell_type": "markdown",
	   "metadata": {},
	   "source": [
       "# Chapter 7: Finite Impulse Response Filters"
	   ]
	},
{
		   "cell_type": "markdown",
		   "metadata": {},
		   "source": [
			"## Example 7.3: Low_pass_filter_using_fourier_series_method.sce"
		   ]
		  },
  {
"cell_type": "code",
	   "execution_count": null,
	   "metadata": {
	    "collapsed": true
	   },
	   "outputs": [],
"source": [
"//Example 7.3\n",
"\n",
"clc;clear;close;\n",
"fp=2000;        //passband frequency\n",
"F=9600;         //sampling frequancy\n",
"\n",
"//Calculation of filter co-efficients\n",
"a0=1/F*integrate('1','t',-fp,fp);\n",
"for n=1:10;\n",
"a(1,n)=2/F*integrate('cos(2*%pi*n*f/F)','f',-fp,fp);\n",
"end\n",
"h=[a(:,$:-1:1)/2 a0 a/2];\n",
"\n",
"//Displaying filter co-efficients\n",
"disp(F,'Sampling frequency F= ',fp,'Assumption: Passband frequency fp= ');\n",
"disp('Filter co-efficients:');\n",
"disp(a0,'h(0)= ');disp(a/2,'h(n)=h(-n)=');\n",
"\n",
"n=-10:10;\n",
"plot2d3(n,h);\n",
"title('Filter transfer function h(n)');xlabel('n-->');"
   ]
   }
,
{
		   "cell_type": "markdown",
		   "metadata": {},
		   "source": [
			"## Example 7.4: Low_pass_filter_using_Type_1_frequency_sampling_technique.sce"
		   ]
		  },
  {
"cell_type": "code",
	   "execution_count": null,
	   "metadata": {
	    "collapsed": true
	   },
	   "outputs": [],
"source": [
"//Example 7.4\n",
"\n",
"clc;clear;close;\n",
"M=7;w=2*%pi/M;\n",
"\n",
"//Calculation of filter co-efficients\n",
"k=[0 1 6];\n",
"for n=0:M-1\n",
"    h(n+1)=sum(exp(-%i*3*w*k).*exp(%i*w*k*n))/M;\n",
"end\n",
"h=clean(h);\n",
"\n",
"//Displaying filter co-efficients\n",
"disp(M,'Filter Order M= ');\n",
"disp('Filter co-efficients:');\n",
"disp(h,'h(n)= ');\n",
"\n",
"plot2d3(h);\n",
"title('Filter transfer function h(n)');xlabel('n-->');"
   ]
   }
],
"metadata": {
		  "kernelspec": {
		   "display_name": "Scilab",
		   "language": "scilab",
		   "name": "scilab"
		  },
		  "language_info": {
		   "file_extension": ".sce",
		   "help_links": [
			{
			 "text": "MetaKernel Magics",
			 "url": "https://github.com/calysto/metakernel/blob/master/metakernel/magics/README.md"
			}
		   ],
		   "mimetype": "text/x-octave",
		   "name": "scilab",
		   "version": "0.7.1"
		  }
		 },
		 "nbformat": 4,
		 "nbformat_minor": 0
}
