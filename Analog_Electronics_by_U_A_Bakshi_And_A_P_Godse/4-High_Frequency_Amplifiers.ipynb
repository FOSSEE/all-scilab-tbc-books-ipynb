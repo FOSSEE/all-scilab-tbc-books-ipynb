{
"cells": [
 {
		   "cell_type": "markdown",
	   "metadata": {},
	   "source": [
       "# Chapter 4: High Frequency Amplifiers"
	   ]
	},
{
		   "cell_type": "markdown",
		   "metadata": {},
		   "source": [
			"## Example 4.10: find_gain.sce"
		   ]
		  },
  {
"cell_type": "code",
	   "execution_count": null,
	   "metadata": {
	    "collapsed": true
	   },
	   "outputs": [],
"source": [
"//example4.10\n",
"clc\n",
"disp('a) The 3dB frequency for circuit gain and voltage gain is given as,')\n",
"disp('(f_H)=1/(2*pi*R_eq*C_eq)')\n",
"r=(200*1000)/(200+1000)\n",
"disp(r,'where R_eq(in ohm)=(R_s+r_bb'')parallel to r+b''e =')\n",
"c=(100*10^-12)+((1+50)*3*10^-12)\n",
"format(10)\n",
"disp(c,'and  C_eq(in F)=(C_b''e)+(1+(g_m*R_L)*C_b''c)= ')\n",
"f=1/((2*%pi*166.67*253*10^-12))\n",
"disp(f,'f_H(in Hz)= ')\n",
"disp('b)Voltage gain is given as,')\n",
"a=(-50*1)\n",
"disp(a,'A=(-g_m*R_L)=')"
   ]
   }
,
{
		   "cell_type": "markdown",
		   "metadata": {},
		   "source": [
			"## Example 4.12: find_resistance.sce"
		   ]
		  },
  {
"cell_type": "code",
	   "execution_count": null,
	   "metadata": {
	    "collapsed": true
	   },
	   "outputs": [],
"source": [
"//example4.12\n",
"clc\n",
"disp('f_H=1/(2*pi*R_eq*C_eq)')\n",
"disp('and f_H''=2(f_H)')\n",
"disp('1/(2*pi*R_eq*C_eq) = 2/(2*pi*R_eq*C_eq)')\n",
"disp('R_eq'' = R_eq/2')\n",
"disp('R_eq=(r_b''e)parallel to (r_bb''+R_s)')\n",
"disp('= (r_b''e)=1000 ohm')\n",
"disp('Therefore  R_eq'' =500 ohm')\n",
"disp('Therefore  500=((r_b''e)*(r_bb''+R_s))/((r_b''e)+(r_bb'')+R_s)')\n",
"disp(' = 1000(100+R_s)/(1000+100+R_s)')\n",
"r=(4.5*10^5)/500\n",
"disp(r,'R_s(in ohms)= ')"
   ]
   }
,
{
		   "cell_type": "markdown",
		   "metadata": {},
		   "source": [
			"## Example 4.16: mid_frequency_voltage_gain_and_fb_and_fT.sce"
		   ]
		  },
  {
"cell_type": "code",
	   "execution_count": null,
	   "metadata": {
	    "collapsed": true
	   },
	   "outputs": [],
"source": [
"//Example 4.16\n",
"clc\n",
"disp('Hybrid-pi Equivalent is as shown in fig.4.29')\n",
"disp('(i) Mid frequency voltage gain :')\n",
"disp('V_o / V_s = -h_fe*R_L / R_s+h_ie')\n",
"hie=(100+1000)*10^-3\n",
"format(4)\n",
"disp(hie,'h_ie(in k-ohm) = r_bb'' + r_b''e =')\n",
"hfe=0.2*1000\n",
"disp(hfe,'h_fe = g_m * r_b''e =')\n",
"vo=-200/2\n",
"disp(vo,'Therefore,  V_o / V_s =')\n",
"fb=(1/(2*%pi*1000*(204*10^-12)))*10^-3\n",
"format(7)\n",
"disp(fb,'(ii) f_beta(in kHz) = 1 / 2*pi*r_b''e*(C_e+C_C) =')\n",
"format(4)\n",
"disp(fb,'f_beta(in kHz) = ')\n",
"ft=(200*780)*10^-3\n",
"disp(ft,'(iii) f_T(in kHz) = h_fe * f_beta =')"
   ]
   }
,
{
		   "cell_type": "markdown",
		   "metadata": {},
		   "source": [
			"## Example 4.17: source_resistance_and_Rs_and_midband_voltage_gain.sce"
		   ]
		  },
  {
"cell_type": "code",
	   "execution_count": null,
	   "metadata": {
	    "collapsed": true
	   },
	   "outputs": [],
"source": [
"//Example 4.17\n",
"clc\n",
"disp('(i) We know that,')\n",
"disp('  f_H = 1 / 2*pi*R_eq*C_eq')\n",
"disp('where  R_eq = (R_s+r_bb'')*r_b''e / R_s+r_bb''+r_b''e')\n",
"disp('and  C_eq = C_e + C_C*[1+g_m*R_L]')\n",
"rbe=100/100\n",
"format(2)\n",
"disp(rbe,'  r_b''e(in k-ohm) = h_fo / g_m = ')\n",
"disp('C_eq = C_e + C_C*[1+g_m*R_L] = C_e + C_C[1+100*10^-3*500]')\n",
"disp('     = C_e + 51 pF')\n",
"ce=((100*10^-3)/(2*%pi*(400*10^6)))*10^12\n",
"format(6)\n",
"disp(ce,'C_e(in pF) = g_m / 2*pi*f_T =')\n",
"ceq=39.79+51\n",
"disp(ceq,'Therefore,  C_eq(in pF) =')\n",
"req=1/(2*%pi*5*90.79*10^-6)\n",
"disp(req,'R_eq(in ohm) = 1 / 2*pi*f_H*C_eq =')\n",
"disp('Therefore, 350.6 = (R_s+100)*1000 / R_s+1100')\n",
"rs=(285.66*10^3)/649.4\n",
"format(7)\n",
"disp(rs,'Therefore,  R_s(in ohm) =')\n",
"disp('(ii) The mid-band voltage gain V_o/V_s is given as')\n",
"disp('  V_o/V_s = -h_fe*R_L / R_s+h_ie')\n",
"hie=(100+1000)*10^-3\n",
"format(4)\n",
"disp(hie,'where  h_ie(in K) = r_bb'' + r_b''e =')\n",
"vo=(-100*500)/(439.88+1100)\n",
"format(6)\n",
"disp(vo,'Therefore,  V_o/V_s =')"
   ]
   }
,
{
		   "cell_type": "markdown",
		   "metadata": {},
		   "source": [
			"## Example 4.1: gm_and_rbe_and_Ce_and_omegaB.sce"
		   ]
		  },
  {
"cell_type": "code",
	   "execution_count": null,
	   "metadata": {
	    "collapsed": true
	   },
	   "outputs": [],
"source": [
"//Example 4.1\n",
"clc\n",
"gm=(1/26)*10^3\n",
"format(6)\n",
"disp(gm,'(i) g_m(in mA/V) = I_C / V_T =')\n",
"rbe=200/(38.46)\n",
"format(5)\n",
"disp(rbe,'(ii) r_b''e(in k-ohm) = h_fe / g_m =')\n",
"cc=((38.46*10^-3)/(500*10^6))*10^12\n",
"format(6)\n",
"disp(cc,'(iii) (C_e + C_C)(in pF) = g_m / 2*pi*f_T = g_m / omega_T =')\n",
"cbe=76.92-3\n",
"disp(cbe,'Therefore,  C_b''e(in pF) = C_e =')\n",
"disp('(iv) We know that,')\n",
"disp('f_T = h_fe*f_beta')\n",
"disp('Therefore,  2*pi*f_T = h_fe*2*pi*f_beta')\n",
"disp('omega_T = h_fe*omega_beta')\n",
"ob=((500*10^6)/200)*10^-3\n",
"format(5)\n",
"disp(ob,'omega_beta(in rad/sec) = omega_T / h_fe =')"
   ]
   }
,
{
		   "cell_type": "markdown",
		   "metadata": {},
		   "source": [
			"## Example 4.20: voltage_gai.sce"
		   ]
		  },
  {
"cell_type": "code",
	   "execution_count": null,
	   "metadata": {
	    "collapsed": true
	   },
	   "outputs": [],
"source": [
"//Example 4.20\n",
"clc\n",
"disp('Assume that the output time-constant is negligible as compared to the time consedtant. When this is the case')\n",
"disp('A_vs = V_o/V_s = -g_m*R''_L*G''_s / G''_s+g_b''e+sC')\n",
"gs=6.66*10^-3\n",
"format(8)\n",
"disp(gs,'where  G''_s = 1 / (R_s||R_b)+r_bb'' =')\n",
"gbe=1/1000\n",
"format(6)\n",
"disp(gbe,'g_b''e = 1 / r_b''e =')\n",
"rl=(0.5/1.5)*10^3\n",
"format(7)\n",
"disp(rl,'R''_L(in ohm) = R_L || R_C =')\n",
"disp('  sC = admittance of C')\n",
"c=100+(3*(1+(50*333.33*10^-3)))\n",
"format(4)\n",
"disp(c,'where  C = C_e + C_C*(1+g_m*R''_L) =')\n",
"disp('At 10 kHz,')\n",
"sc=2*%pi*10*153*10^-9\n",
"format(8)\n",
"disp(sc,'sC = 2*pi*f*C =')\n",
"disp('Therefore, At 10kHz signal frequency')\n",
"avs=(-50*333.33*6.66*10^-6)/((6.66*10^-3)+(10^-3)+(9.613*10^-6))\n",
"format(6)\n",
"disp(avs,'A_vs = V_o / V_s =')"
   ]
   }
,
{
		   "cell_type": "markdown",
		   "metadata": {},
		   "source": [
			"## Example 4.2: fT_and_hfe_and_Ai.sce"
		   ]
		  },
  {
"cell_type": "code",
	   "execution_count": null,
	   "metadata": {
	    "collapsed": true
	   },
	   "outputs": [],
"source": [
"//Example 4.2\n",
"clc\n",
"ft=25*2\n",
"format(3)\n",
"disp(ft,'(i) f_T(in MHz) = |A_i|*f =')\n",
"hfe=50000/200\n",
"format(4)\n",
"disp(hfe,'(ii) h_fe(in kHz) = f_T / f_beta =')\n",
"disp('(iii) |A_i| = h_fe / sqrt(1+((f/f_beta)^2)) =')\n",
"disp('At  f = 10 MHz')\n",
"ai=250/sqrt(1+(((10*10^6)/(200*10^3))^2))\n",
"format(2)\n",
"disp(ai,'|A_i| =')\n",
"disp('At  f = 100 MHz')\n",
"ai=250/sqrt(1+(((100*10^6)/(200*10^3))^2))\n",
"format(4)\n",
"disp(ai,'|A_i| =')"
   ]
   }
],
"metadata": {
		  "kernelspec": {
		   "display_name": "Scilab",
		   "language": "scilab",
		   "name": "scilab"
		  },
		  "language_info": {
		   "file_extension": ".sce",
		   "help_links": [
			{
			 "text": "MetaKernel Magics",
			 "url": "https://github.com/calysto/metakernel/blob/master/metakernel/magics/README.md"
			}
		   ],
		   "mimetype": "text/x-octave",
		   "name": "scilab",
		   "version": "0.7.1"
		  }
		 },
		 "nbformat": 4,
		 "nbformat_minor": 0
}
