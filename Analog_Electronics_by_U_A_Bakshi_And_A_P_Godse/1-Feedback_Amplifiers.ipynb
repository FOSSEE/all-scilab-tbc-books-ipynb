{
"cells": [
 {
		   "cell_type": "markdown",
	   "metadata": {},
	   "source": [
       "# Chapter 1: Feedback Amplifiers"
	   ]
	},
{
		   "cell_type": "markdown",
		   "metadata": {},
		   "source": [
			"## Example 1.10: amplifier_without_feedback.sce"
		   ]
		  },
  {
"cell_type": "code",
	   "execution_count": null,
	   "metadata": {
	    "collapsed": true
	   },
	   "outputs": [],
"source": [
"//Example 1.10\n",
"clc\n",
"disp('The voltage gain of amplifier can be given as')\n",
"av=36/0.028\n",
"format(7)\n",
"disp(av,'A_v = Vo/V_in =')\n",
"disp('(i)  beta = 0.012')\n",
"disp('Therefore,  The gain of the amplifier with feedback is given as')\n",
"af=1285.7/(1+(1285.7*0.012))\n",
"format(6)\n",
"disp(af,'A_f = A_v / 1+A_v*beta =')\n",
"disp('The output voltage with feedback is given as')\n",
"vo=78.26*0.028\n",
"disp(vo,'Vo(in V) = A_f * V_in =')\n",
"vin=7*0.028\n",
"disp('(ii) If the output remains constant at 36V, then the distortion produced within the active devices of the amplifier is unchanged. However, since the distortion at the output is less than in part (i) by a factor of 7, it follows that the feedback now increased by 7 and hence, the voltage gain decreased by 7. Thus, the input signal required to produce the same output (as in part(i)) without feedback must be:')\n",
"disp(vin,'V_in(in V) =')"
   ]
   }
,
{
		   "cell_type": "markdown",
		   "metadata": {},
		   "source": [
			"## Example 1.11: gain_with_feedback.sce"
		   ]
		  },
  {
"cell_type": "code",
	   "execution_count": null,
	   "metadata": {
	    "collapsed": true
	   },
	   "outputs": [],
"source": [
"//Example 1.11\n",
"clc\n",
"disp('(i) The gain of the amplifier is given as')\n",
"disp('60 dB = 20 log(Vo/V_s)')\n",
"disp('Therefore,  A_v = Vo/V_s = 1000')\n",
"disp('beta = 1/20 = 0.05')\n",
"disp('Therefore,  The gain of amplifier with feedback is')\n",
"avf=1000/(1+(1000*0.05))\n",
"format(5)\n",
"disp(avf,'A_vf = A_v / 1+A_v*beta =')\n",
"disp('(ii) The gain of the amplifier is directly proportional to the g_m. Therefore, the gain of the amplifier without feedback changes as same amount as g_m changes')\n",
"disp('Therefore,  A_v = A_v +- 0.5*A_v = 1000 +- 500')\n",
"disp('The gain of the amplifier with feedback is now given as')\n",
"avf1=1500/(1+(1500*0.05))\n",
"avf2=500/(1+(500*0.05))\n",
"format(6)\n",
"disp(avf1,avf2,'A_vf = A_v / 1+A_v*beta =')"
   ]
   }
,
{
		   "cell_type": "markdown",
		   "metadata": {},
		   "source": [
			"## Example 1.12: single_stage_RC_coupled_amplifier.sce"
		   ]
		  },
  {
"cell_type": "code",
	   "execution_count": null,
	   "metadata": {
	    "collapsed": true
	   },
	   "outputs": [],
"source": [
"//Example 1.12\n",
"clc\n",
"disp('A_v = 1000 and beta = 0.1')\n",
"fh=1+(0.1*1000)\n",
"format(4)\n",
"disp(fh,'(i) f_Hf/f_H = 1 + beta*A_v =')\n",
"fl=1/(1+(0.1*1000))\n",
"format(7)\n",
"disp(fl,'and  f_Lf/f_L = 1 / 1+beta*A_v =')\n",
"disp('(ii) With f_L = 20 Hz and f_H = 50 kHz')\n",
"fll=20*0.0099\n",
"format(6)\n",
"disp(fll,'f_Lf(in Hz) =')\n",
"fhh=(50*101)*10^-3\n",
"format(5)\n",
"disp(fhh,'f_Hf(in MHz) =')"
   ]
   }
,
{
		   "cell_type": "markdown",
		   "metadata": {},
		   "source": [
			"## Example 1.13: feedback_ratio_and_input_voltage.sce"
		   ]
		  },
  {
"cell_type": "code",
	   "execution_count": null,
	   "metadata": {
	    "collapsed": true
	   },
	   "outputs": [],
"source": [
"//Example 1.13\n",
"clc\n",
"disp('The voltage gain of the amplifier is given as')\n",
"av=50/0.2\n",
"format(4)\n",
"disp(av,'A_v = Vo/V_in =')\n",
"disp('We know that,')\n",
"b=((0.06/0.01)-1)/250\n",
"format(5)\n",
"disp(b,'B_2f = B_2 / 1+A_v*beta =')\n",
"disp('Therefore,  feedback ratio, beta =')\n",
"avf=250/(1+(250*0.02))\n",
"format(6)\n",
"disp(avf,'A_vf = A_v / 1+A_v*beta =')\n",
"vin=50/41.66\n",
"format(4)\n",
"disp('To produce output voltage of 50 V V_in must be')\n",
"disp(vin,'V_in = 50/A_vf =')"
   ]
   }
,
{
		   "cell_type": "markdown",
		   "metadata": {},
		   "source": [
			"## Example 1.14: Av_and_beta_of_amplifier.sce"
		   ]
		  },
  {
"cell_type": "code",
	   "execution_count": null,
	   "metadata": {
	    "collapsed": true
	   },
	   "outputs": [],
"source": [
"//Example 1.14\n",
"clc\n",
"disp('Given A_vf = 120')\n",
"disp('A_v = Vo/V_s = Vo/60mV')\n",
"disp('and  A_vf = Vo/0.5')\n",
"vo=0.5*120\n",
"format(3)\n",
"disp(vo,'Therefore,  Vo(in V) =')\n",
"disp('with  Vo = 60 V we have,')\n",
"av=60/(60*10^-3)\n",
"format(5)\n",
"disp(av,'A_v =')\n",
"b=((1000/120)-1)/1000\n",
"format(8)\n",
"disp('We know that,')\n",
"disp('A_vf = A_v / 1+A_v*beta')\n",
"disp(b,'Therefore,  beta =')"
   ]
   }
,
{
		   "cell_type": "markdown",
		   "metadata": {},
		   "source": [
			"## Example 1.15: determine_Avf.sce"
		   ]
		  },
  {
"cell_type": "code",
	   "execution_count": null,
	   "metadata": {
	    "collapsed": true
	   },
	   "outputs": [],
"source": [
"//Example 1.15\n",
"clc\n",
"disp('Step 1: Identify topology')\n",
"disp('  By shorting output(Vo = 0), feedback voltage V_f becomes zero, hence it is a voltage sampling. Since feedback is mixed in series with input the topology is voltage series feedback amplifier')\n",
"disp('')\n",
"disp('Step 2 and Step 3: Find input and output circuit.')\n",
"disp('  To find input circuit, set Vo = 0. This places the parallel combination of resistors 3.3K and 3.3K at the first emitter. To find output circuit, set Ii = 0. This places resistors 3.3K and 3.3K in series across the output. The resultant circuit is shown in fig 1.48')\n",
"disp('')\n",
"disp('Step 4: Replace transistor with its h-parameter equivalent as shown in fig.1.49')\n",
"disp('')\n",
"disp('Step 5: Find open loop transfer gain.')\n",
"disp('A_v = A_v1*A_v2')\n",
"disp('    = V_i2/V_i1 * Vo/V_i2')\n",
"disp('    = Vo/V_i2 = -h_fe*R_L2 / R_i2')\n",
"rl2=3.3+3.3\n",
"format(4)\n",
"disp(rl2,'where  R_L2(in k-ohm) =')\n",
"disp('and  R_i2 = h_ie = 2 K')\n",
"voi=(-50*6.6)/2\n",
"disp(voi,'Therefore,  A_v2 = Vo/V_i2 =')\n",
"disp('V_i2/V_i1 = -h_fe*R_L1 / R_i1')\n",
"rl1=((51*2)/(53))\n",
"format(5)\n",
"disp(rl1,'where  R_L1(in k-ohm) =')\n",
"disp('and  R_i = [h_ie + (1+h_fe)(3.3K||3.3K)]')\n",
"ri=2+(51*1.65)\n",
"format(6)\n",
"disp(ri,'Therefore,  R_i1(in k-ohm) = ')\n",
"vi21=(-50*1.92)/(86.15)\n",
"format(6)\n",
"disp(vi21,'Therefore,  A_v1 = V_i2/V_i1 =')\n",
"av=-165*-1.114\n",
"format(7)\n",
"disp(av,'Therefore,  A_v =')\n",
"disp('')\n",
"disp('Step 6: Calculate beta')\n",
"be=3.3/6.6\n",
"format(4)\n",
"disp(be,'beta = V_f/Vo =')\n",
"disp('We know that,  D = 1 + beta*A_v =')\n",
"avf=183.86/92.93\n",
"format(6)\n",
"disp(avf,'A_vf = A_v/D =')"
   ]
   }
,
{
		   "cell_type": "markdown",
		   "metadata": {},
		   "source": [
			"## Example 1.16: Avf_and_Rif.sce"
		   ]
		  },
  {
"cell_type": "code",
	   "execution_count": null,
	   "metadata": {
	    "collapsed": true
	   },
	   "outputs": [],
"source": [
"//Example 1.16\n",
"clc\n",
"disp('Step 1: Identify topology')\n",
"disp('  By shorting output(Vo = 0), feedback voltage V_f becomes zero.The feedback is mixed in series feedback.')\n",
"disp('')\n",
"disp('Step 2 and Step 3: Find input and output circuit.')\n",
"disp('  To find input circuit, set Vo = 0. This places the parallel combination of resistors 10K and 1K at the first emitter. To find output circuit, set Ii = 0. This places resistors 10K and 1K in series across the output. The resultant circuit is shown in fig 1.51.')\n",
"disp('')\n",
"disp('Step 4: Replace transistor with its h-parameter equivalent as shown in fig.1.52.')\n",
"disp('')\n",
"disp('Step 5: Find open loop transfer gain.')\n",
"disp('A_v = A_v1*A_v2')\n",
"disp('    = V_i2/V_i1 * Vo/V_i2')\n",
"disp('Vo/V_i2 = -h_fe*R_L2 / R_i2')\n",
"rl2=(5.1*11)/(16.1)\n",
"format(6)\n",
"disp(rl2,'where  R_L2(in k-ohm) =')\n",
"disp('and  R_i2 = h_ic = 1.1 K')\n",
"voi=(-50*3.484)/1.1\n",
"format(7)\n",
"disp(voi,'Therefore,  Vo/V_i2 =')\n",
"disp('V_i2/V_i1 = -h_fe*R_L1 / R_i1')\n",
"rl1=((1.1*1)/(2.1))*10^3\n",
"format(6)\n",
"disp(rl1,'where  R_L1(in ohm) =')  //answer in text book is wrong\n",
"disp('and  R_i = 82K || [h_ie + (1+h_fe)(1K||10K)]')\n",
"ri=((82*47.459)/(82+47.459))\n",
"format(3)\n",
"disp(ri,'Therefore,  R_i(in k-ohm) = ')\n",
"vi21=(-50*523.8)/(30*10^3)\n",
"format(6)\n",
"disp(vi21,'Therefore,  V_i2/V_i1 =')\n",
"av=-158.36*-0.888\n",
"format(7)\n",
"disp(av,'Therefore,  A_v =')\n",
"disp('')\n",
"disp('Step 6: Calculate beta')\n",
"be=1/10\n",
"format(4)\n",
"disp(be,'beta = V_f/Vo =')\n",
"disp('')\n",
"disp('Step 7: Calculate A_vf, R_if and R''_of')\n",
"d=1+(0.1*140.62)\n",
"format(7)\n",
"disp(d,'D = 1 + beta*A_v =')\n",
"avf=140.62/15.062\n",
"format(6)\n",
"disp(avf,'A_vf = A/D =')\n",
"rif=30*15.062\n",
"format(7)\n",
"disp(rif,'R_if(in k-ohm) = R_i*D =')\n",
"disp('R''_o = R_L2 = 3.484 k-ohm')\n",
"rof=(3.484*10^3)/15.062\n",
"disp(rof,'R''_of(in ohm) = R''_o/D =')"
   ]
   }
,
{
		   "cell_type": "markdown",
		   "metadata": {},
		   "source": [
			"## Example 1.17: D_and_Avf_anf_Rif_and_Rof.sce"
		   ]
		  },
  {
"cell_type": "code",
	   "execution_count": null,
	   "metadata": {
	    "collapsed": true
	   },
	   "outputs": [],
"source": [
"//Example 1.17\n",
"disp('Step 1: Identify topology')\n",
"disp('  By shorting output voltage (Vo = 0), feedback voltage Vf becomes zero and hence it is voltage sampling. The feedback voltage is applied in series with the input voltage hence the topology is voltage series feedback.')\n",
"disp('')\n",
"disp('Step 2 and Step 3: Find input and output circuit.')\n",
"disp('  To find input circuit, set Vo = 0. This places the parallel combination of resistor 10 K and 200 ohm at first source. To find output circuit, set Ii = 0. This places the resistor 10K and 200 ohm in series across the output. The resultant circuit is shown in fig 1.54.')\n",
"disp('')\n",
"disp('Step 4: Replace FET with its equivalent circuit as shown in fig.1.55.')\n",
"disp('')\n",
"disp('Step 5: Find open loop transfer gain.')\n",
"disp('  Av = Vo / Vs = A_v1 * A_v2')\n",
"disp('  A_v2 = -u*R_L2 / R_L2+r_d')\n",
"rl2=(10.2*47)/(10.2+47)  // in k-ohm\n",
"format(5)\n",
"disp(rl2,'where  R_L2(in k-ohm) =')\n",
"av2=(-40*8.38)/18.38\n",
"format(7)\n",
"disp(av2,'  A_v2 =')\n",
"disp('  A_v1 = u*R_Deff / r_d+R_Deff+(1+u)*R_seff')\n",
"rdeff=(47*1000)/(47+1000)  // in k-ohm\n",
"format(6)\n",
"disp(rdeff,'  R_Deff(in k-ohm) = R_D || R_G2 =')\n",
"av1=(-40*44.98)/(10+44.89+(41*((0.2*10)/(10+0.2))))\n",
"disp(av1,'Therefore,  A_v1 =')\n",
"av=-28.59*-18.237\n",
"format(7)\n",
"disp(av,'Therefore,  Av = A_v1 * A_v2 =')\n",
"disp('')\n",
"disp('Step 6: Calculate beta')\n",
"beta=200/(10000)\n",
"format(5)\n",
"disp(beta,'  beta = Vf / Vo =')\n",
"disp('')\n",
"disp('step 7: Calculate D, A_vf, R_if, R''_of')\n",
"d=1+(0.02*521.39)\n",
"format(8)\n",
"disp(d,'  D = 1 + Av*beta =')\n",
"avf=521.39/11.4278\n",
"format(6)\n",
"disp(avf,'  A_vf = Av / D =')\n",
"disp('Ri = R_G = 1 M-ohm')\n",
"rif=11.4278\n",
"format(8)\n",
"disp(rif,'  R_if(in M-ohm) = Ri * D =')\n",
"ro=10  // in k-ohm\n",
"format(3)\n",
"disp(ro,'  R''o(in k-ohm) = rd =')\n",
"rof=(10*10^3)/11.4278  // in ohm\n",
"format(4)\n",
"disp(rof,'  R''_of(in ohm) = R''o / D =')\n",
"rod=(10*8.38)/18.38\n",
"format(6)\n",
"disp(rod,'R''_o(in k-ohm) =')\n",
"rofd=(4.559*10^3)/11.4278\n",
"format(4)\n",
"disp(rofd,'Therefore,  R''_of(in ohm) = R''_o/D =')"
   ]
   }
,
{
		   "cell_type": "markdown",
		   "metadata": {},
		   "source": [
			"## Example 1.18: voltage_gain_including_feeback.sce"
		   ]
		  },
  {
"cell_type": "code",
	   "execution_count": null,
	   "metadata": {
	    "collapsed": true
	   },
	   "outputs": [],
"source": [
"//Example 1.18\n",
"clc\n",
"disp('Here, output voltage is sampled and fed in series with the input signal. Hence the topology is voltage series feedback.')\n",
"disp('  The open loop voltage gain for one stage is given as,')\n",
"disp('    Av = -gm*R_eq')\n",
"req=(8*40*1000)/((40*1000)+(8*1000)+(8*40))  // in k-ohm\n",
"format(5)\n",
"disp(req,'  R_eq(in k-ohm) = r_d || R_d || (R_i1+R_2) =')\n",
"av=-5*6.62\n",
"format(6)\n",
"disp(av,'  Av =')\n",
"avm=-33.11^3\n",
"disp(avm,'Av = Overall voltage gain = |A_vmid|^3 =')  // answer in textbook is wrong\n",
"beta=50/(10^6)\n",
"format(7)\n",
"disp(beta,'  beta = Vf / Vo = -R_1 / R_g = -R_1 / R_1+R_2 =')\n",
"d=1+((-5*10^-5)*-36306)\n",
"format(6)\n",
"disp(d,'  D = 1 + |Av|*beta =')\n",
"avf=-36306/2.8153\n",
"disp(avf,'  A_vf = Av / D =')"
   ]
   }
,
{
		   "cell_type": "markdown",
		   "metadata": {},
		   "source": [
			"## Example 1.19: Avf.sce"
		   ]
		  },
  {
"cell_type": "code",
	   "execution_count": null,
	   "metadata": {
	    "collapsed": true
	   },
	   "outputs": [],
"source": [
"//Example 1.19\n",
"clc\n",
"disp('Here, output terminals are B and ground, thus the forward gain is the gain of Q1 and it is,')\n",
"disp('  A_v= -33.11')\n",
"disp('Here  beta = V_f / V_B = V_f/V_o * V_o/V_C * V_C/V_B')\n",
"disp('where V_B and V_C are voltages at point B and C, respectively.')\n",
"disp('Therefore,  beta_BN = V_f/V_o * A_v3 * A_v2         because V_o/V_C = A_v3 and V_C/V_B = A_v2')\n",
"bbn=(5*10^-5)*(33.11^2)\n",
"format(7)\n",
"disp(bbn,'Therefore,  beta= ')\n",
"avf=-33.11/2.815\n",
"format(6)\n",
"disp(avf,'Therefore,  |A_vf| = A_vf / 1+|A_f|*beta =')"
   ]
   }
,
{
		   "cell_type": "markdown",
		   "metadata": {},
		   "source": [
			"## Example 1.1: transistor_in_the_feedback_amplifier.sce"
		   ]
		  },
  {
"cell_type": "code",
	   "execution_count": null,
	   "metadata": {
	    "collapsed": true
	   },
	   "outputs": [],
"source": [
"//Example 1.1\n",
"clc\n",
"disp('Step 1: Identity topology')\n",
"disp('  The feedback voltage is applied across the resistance R_e1 and it is in series with input signal. Hence feedback is voltage series feedback.')\n",
"disp('')\n",
"disp('Step 2 and Step 3: Find input and output circuit.')\n",
"disp('  To find input circuit, set Vo = 0 (connecting C2 to ground), which gives parallel combination of Re with Rf at E1. To find output circuit, set Ii = 0 (opening the input node E1 at emitter of Q1), which gives series combination of Rf and Re1 across the output. The resultant circuit is shown in Fig.1.32')\n",
"disp('')\n",
"disp('Step 4: Find open loop voltage gain(A_v)')\n",
"format(5)\n",
"rl2=(4.7*10.1)/(4.7+10.1) // in k-ohm\n",
"disp(rl2,'  R_L2(in k-ohm) = R_c2 || (R_e1+Rf) =')\n",
"disp('  A_i2 = -hfe = -100')\n",
"disp('  R_i2 = hie = 1100 ohm')\n",
"format(7)\n",
"av2=(-100*3.21*10^3)/1100\n",
"disp(av2,'  A_v2 = A_i2*R_L2 / R_i2 =')\n",
"disp('  A_i1 = -hfe = -100')\n",
"format(5)\n",
"rl1=(22*220*22*1.100)/((220*22*1.100)+(22*22*1.100)+(22*220*1.100)+(22*220*22))  // in ohm\n",
"disp(rl1*10^3,'  R_L1(in ohm) = R_c1 || R3 || R4 || R_i2 =')\n",
"ri1=1.1+(101*((0.1*10)/(0.1+10)))  // in k-ohm\n",
"format(5)\n",
"disp(ri1,'  R_i1(in k-ohm) = hie + (1+hfe)*R_e1eff =             where Re1eff = (R_e1 || Rf)')\n",
"av1=(-100*995)/(11.099*10^3)\n",
"disp(av1,'Therefore,  A_v1 = A_i1*RL1 / Ri1 =')\n",
"disp('The overall voltage gain without feedback is given as,')\n",
"av=-291.82*-8.96\n",
"format(7)\n",
"disp(av,'  Av = A_v1 * A_v2 =')\n",
"disp('The overall voltage gain taking Rs in account is given as,')\n",
"aV=(2614.7*11.099*10^3)/((11.099*10^3)+100)\n",
"format(8)\n",
"disp(aV,'  Av = Vo / Vs = Av*R_i1 / R_i1+Rs =')\n",
"disp('')\n",
"disp('Step 5: Calculate beta')\n",
"disp('Looking at Fig.1.33.')\n",
"beta=100/(100+(10*10^3))\n",
"format(7)\n",
"disp(beta,'  beta = Vf / Vo =')\n",
"d=1+(0.0099*2591.35)\n",
"format(6)\n",
"disp(d,'  D = 1 + beta*Av =')\n",
"avf=2591.35/26.65\n",
"disp(avf,'  A_vf = Av/D =')\n",
"rif=26.65*11.099  // in k-ohm\n",
"format(8)\n",
"disp(rif,'  R_if(in k-ohm) = R_i1 * D =')\n",
"riff=(295.788*220*22)/((220*22)+(295.788*22)+(295.788*220))  // in k-ohm\n",
"format(6)\n",
"disp(riff,'  R''_if(in k-ohm) = R_if || R1 || R2 =')\n",
"disp('  R_of = Ro / D = infinity / D = infinity')\n",
"disp('Therefore,  R''_of = R''_o / D          where R''_o = R_L2')\n",
"roff=(3.21*10^3)/26.65  // in omh\n",
"format(7)\n",
"disp(roff,'Therefore,  R''_of(in ohm) = ')"
   ]
   }
,
{
		   "cell_type": "markdown",
		   "metadata": {},
		   "source": [
			"## Example 1.20: voltage_gain_with_feedback.sce"
		   ]
		  },
  {
"cell_type": "code",
	   "execution_count": null,
	   "metadata": {
	    "collapsed": true
	   },
	   "outputs": [],
"source": [
"//Example 1.20\n",
"clc\n",
"disp('Step 1: Identify topology')\n",
"disp('  By shorting output(Vo = 0), feedback voltage does not become zero. By opening the output loop feedback becomes zero and hence it is current sampling. The feedback is applied in series with the input signal, hence topology used is current series feedback.')\n",
"disp('')\n",
"disp('Step 2 and Step 3: Find input and output circuit.')\n",
"disp('  To find input circuit, set Io = 0. This places Re in series with input. To find output circuit Ii = 0. This places Re in output side. The resultant circuit is shown in fig.1.58.')\n",
"disp('')\n",
"disp('Step 4: Replace transistor with its h-parameter equivalent as shown in fig 1.59.')\n",
"disp('')\n",
"disp('Step 5: Find open loop transfer gain.')\n",
"disp('  From quation(13) of section 1.12 we have')\n",
"disp('  A_vf = Io*R_L / Vs = G_Mf * R_L')\n",
"disp('       = -h_fe*R_L / R''s+h_ie+(1+h_fe)*Re')\n",
"disp('Here  R''s = Rs || R1 || R2')\n",
"disp('           = Rs || Rb         because R_b = R1 || R2')\n",
"disp('Therefore,  Vo / Vs = Vo/Vi * Vi/Vs')\n",
"disp('where       Vi / Vs = Rb / Rs+Rb')\n",
"disp('Therefore,  Vo / Vs = (-h_fe*R_L / R''s+h_ie+(1+h_fe)*Re) * (Rb / Rs+Rb)')\n",
"disp('Dividing both numerator and denominator by Rs+Rb we get,')\n",
"disp('  A_vf = Vo / Vs = [-h_fe*Rc*(Rb/Rb+Rs)] / R''s+h_ie+(1+h_fe)*Re    because RL = Rc')\n",
"disp('       = -h_fe*Rc*[1/1+(Rs/Rb)] / R''s+h_ie+(1+h_fe)*Re')"
   ]
   }
,
{
		   "cell_type": "markdown",
		   "metadata": {},
		   "source": [
			"## Example 1.21: Rif_and_Aif_and_Avf.sce"
		   ]
		  },
  {
"cell_type": "code",
	   "execution_count": null,
	   "metadata": {
	    "collapsed": true
	   },
	   "outputs": [],
"source": [
"//Example 1.21\n",
"clc\n",
"disp('Step 1: Identify topology')\n",
"disp('Making output voltage zero(Vo = 0); feedback does not become zero and hence it is not voltage sampling. By opening the output loop feedback becomes zero and hence it is a current sampling. As I_i = I_s-I_f, the feedback current appears in shunt with the input signl and hence the topology is current shunt feedback')\n",
"disp('')\n",
"disp('Step 2 and Step 3: Find input and output circuit')\n",
"disp('To find input circuit, set Vo = 0. This gives series combination of 20K and 1K across the input of the first transistor. To find output circuit, set V_i= 0. This gives parallel combination of 20K and 1K at emitter of the second transistor.The resultant circuit is shown in fig 1.61')\n",
"disp('')\n",
"disp('Step 4: Find open circuit current gain')\n",
"disp('A_I = Io/I_s = -I_c2/I_s = -I_c2/I_b2 * I_b2/I_c1 * I_c1/I_b1 * I_b1/I_s')\n",
"disp('-I_c2/I_b2 = -h_fe = -100')\n",
"disp('I_b2/I_c1 = -R_c1 / R_i2+R_c1')\n",
"ri2=2+(101*(20/21))\n",
"format(6)\n",
"disp(ri2,'where  R_i2(in k-ohm) = h_ie + (1+h_fe)R_e =')\n",
"ibc=(-12)/(98.19+12)\n",
"format(6)\n",
"disp(ibc,'Therefore,  I_b2/I_c1 =')\n",
"disp('I_c1/I_b1 = h_fe = 100')\n",
"ibs=(21/22)/(2+(21/22))\n",
"disp(ibs,'I_b1/I_s =')\n",
"ai=100*0.109*0.323*100\n",
"format(4)\n",
"disp(ai,'Therefore,  A_I =')\n",
"disp('')\n",
"disp('Step 5: Calculate beta')\n",
"b=4/(24)\n",
"format(7)\n",
"disp(b,'beta = I_f/Io = R_e2/R_e2+R'' =')\n",
"disp('')\n",
"d=1+(0.1667*352)\n",
"format(6)\n",
"disp(d,'Therefore,  D = 1 + beta*A_I =')\n",
"aif=352/59.67\n",
"format(5)\n",
"disp(aif,'A_if = A_I/D =')\n",
"ri=((1*21*2)/((21*2)+(1*2)+(21*1)))*10^3\n",
"format(4)\n",
"disp(ri,'R_i(in ohm) =')\n",
"rif=646/59.67\n",
"format(6)\n",
"disp(rif,'R_if(in ohm) = R_i/D =')\n",
"disp('Ro = infinity')\n",
"disp('Therefore,  R_of = infinity    because h_oe = 0')\n",
"disp('R''_o = Ro || R_c2 = 4 k-ohm')\n",
"disp('R''_of = R''_o = 4 k-ohm')\n",
"avf=(5.9*4)\n",
"disp(avf,'A_vf = A_If*R_L/R_s =')"
   ]
   }
,
{
		   "cell_type": "markdown",
		   "metadata": {},
		   "source": [
			"## Example 1.22: Avf_and_Rif_and_Rof.sce"
		   ]
		  },
  {
"cell_type": "code",
	   "execution_count": null,
	   "metadata": {
	    "collapsed": true
	   },
	   "outputs": [],
"source": [
"//Example 1.22\n",
"clc\n",
"disp('Step 1: Identify topology')\n",
"disp('Vo = 0, does not make feedback zero, but Io = 0 makes feedback to become zero and hence it is current sampling. The feedback is fed in shunt with the input signal, hence topology is current shunt feedback')\n",
"disp('')\n",
"disp('Step 2 and Step 3: Find input and output circuit')\n",
"disp('To find input circuit, set Vo = 0. This gives series combination of R_e2 and 10K across the input. To find output circuit, set V1= 0. This gives parallel combination of R_e2 and 10K at E2.The resultant circuit is shown in fig 1.63')\n",
"disp('')\n",
"disp('Step 4: Replace transistor with its h-parameter equivalent as shown in fig 1.64')\n",
"disp('')\n",
"disp('Step 5 : Find open loop current gain')\n",
"disp('A_I = Io/I_s = -I_c/I_s = -I_o/I_b2 * I_b2/I_c1 * I_c1/I_b1 * I_b1/I_s')\n",
"disp('Io/I_b2 = -h_fe = -100')\n",
"disp('I_c2/I_b2 * I_b1/I_e1 = -h_ie*R_c1 / R_i2+R_c2         because I_b2/I_c1 = R_c1/R_c1+R_i2')\n",
"ri2=1+(101*(10/11))\n",
"format(7)\n",
"disp(ri2,'where  R_i2(in k-ohm) = h_ie + (1+h_fe)(1K||10K) =')\n",
"ibb=(-100*2.2)/(92.818+2.2)\n",
"format(6)\n",
"disp(ibb,'Therefore,  I_b1/I_s =')\n",
"ibs=(11/12)/(1+(11/12))\n",
"disp(ibs,'I_b1/I_s =')\n",
"ai=100*2.315*0.478\n",
"disp(ai,'A_I =')\n",
"disp('Step 6: Calculate beta')\n",
"b=1/(11)\n",
"format(5)\n",
"disp(b,'beta = R_e2/R_e2+R'' =')\n",
"disp('')\n",
"disp('Step 6: Calculate D,A_If, A_vf, R_if, R_of')\n",
"d=1+(0.09*110.7)\n",
"format(7)\n",
"disp(d,'D = 1 + beta*A_I =')  //answer in textbook is wrong\n",
"aif=110.7/11.063\n",
"format(3)\n",
"disp(aif,'A_if = A_I/D =')\n",
"ri=((1*11*1)/((11*1)+(1*1)+(11*1)))*10^3\n",
"format(4)\n",
"disp(ri,'R_i(in ohm) =')\n",
"rif=478/11.063\n",
"format(6)\n",
"disp(rif,'R_if(in ohm) = R_i/D =')\n",
"disp('Ro = infinity')\n",
"disp('Therefore,  R_of = Ro*D = infinity    because h_oe = 0')\n",
"disp('R''_o = 2.2 k-ohm')\n",
"disp('R''_of = R''_o = 2.2 k-ohm')"
   ]
   }
,
{
		   "cell_type": "markdown",
		   "metadata": {},
		   "source": [
			"## Example 1.23: Rmf_and_Aof_and_Rif_and_Rof.sce"
		   ]
		  },
  {
"cell_type": "code",
	   "execution_count": null,
	   "metadata": {
	    "collapsed": true
	   },
	   "outputs": [],
"source": [
"//Example 1.23\n",
"clc\n",
"disp('Step 1: Identify topology')\n",
"disp('Here output voltage is sampled and fed in shunt with the input siganl such that, I_s-I_f = I_i, hence topology is voltage shunt feedback')\n",
"disp('')\n",
"disp('Step 2 and Step 3: Find input and output circuit')\n",
"disp('To find input circuit, set Vo = 0. This places resistor R across the input. To find output circuit, set V_i = 0. This places resistor R across output. The resultant circuit is shown in fig 1.69')\n",
"disp('')\n",
"disp('Step 4: Replace transistor with its h-parameter equivalent circuits as shown in fig 1.67')\n",
"disp('')\n",
"disp('Step 5 : Find open loop transresistance')\n",
"disp('R_M = Vo/I_s = R_c*Io/I_s = -R_c*I_c/I_s')\n",
"disp('    = R_c * -I_c/I_b * I_b/I_s')\n",
"icb=(-100*82)/94\n",
"format(6)\n",
"disp(icb,'-I_c/I_b = -h_fe*R / R+R_c =')\n",
"disp('I_b/I_s = Ro||R / R_s||(R+R_i1)')\n",
"ri1=1.1+(101*820*10^-3)\n",
"disp(ri1,'R_i1(in k-ohm) = h_ie + (1+h_fe)R_e =')\n",
"ibs=(82/83)/(83.92+(82/83))\n",
"format(7)\n",
"disp(ibs,'Therefore,  I_b/I_s =')\n",
"rm=-87.23*12*0.0116\n",
"format(7)\n",
"disp(rm,'Therefore,  R_M(in k-ohm) = Vo/I_s =')\n",
"disp('')\n",
"disp('Step 6: Calculate beta')\n",
"b=-1/(82*10^3)\n",
"format(10)\n",
"disp('beta = I_f/Io = V_i-Vo/Vo*R =')\n",
"disp(b,'     = -1/R =            because (Vo > V_i)')\n",
"disp('')\n",
"disp('Step 7: Calculate D, R_Mf, A_vf, R_if, R''_of')\n",
"d=1+(-1.22*-12.142*10^-2)\n",
"format(6)\n",
"disp(d,'D = 1 + beta*R_M =')\n",
"rmf=-12.142/1.148\n",
"format(6)\n",
"disp(rmf,'R_Mf(in k-ohm) = R_M/D =')\n",
"avf=-10.57\n",
"disp('A_vf = V0/V_s = Vo/I_s*R_s =')\n",
"disp(avf,'     = R_Mf/R_s =          because R_Mf = Vo/I_s')\n",
"ri=((1*82*83.92)/((82*83.92)+(1*83.92)+(82*1)))\n",
"disp(ri,'R_i(in k-ohm) = R_s || R_i1 || R =')\n",
"rif=(0.976*10^3)/1.148\n",
"format(4)\n",
"disp(rif,'R_if(in ohm) = R_i/D =')\n",
"disp('Ro = infinity')\n",
"disp('Therefore,  R_of = infinity/D = infinity      because h_oe = 0')\n",
"ro=(12*82)/(94)\n",
"format(7)\n",
"disp(ro,'R''_o(in k-ohm) = R || R_c =')\n",
"rof=(10.468)/1.148\n",
"format(6)\n",
"disp(rof,'R''_of(in k-ohm) = R''_o/D =')"
   ]
   }
,
{
		   "cell_type": "markdown",
		   "metadata": {},
		   "source": [
			"## Example 1.24: Avf_and_Rif_and_Rof.sce"
		   ]
		  },
  {
"cell_type": "code",
	   "execution_count": null,
	   "metadata": {
	    "collapsed": true
	   },
	   "outputs": [],
"source": [
"//Example 1.24\n",
"clc\n",
"disp('Step 1: Identify topology')\n",
"disp('Here output voltage is sampled and fed in shunt with the input siganl such that, I_s-I_f = I_i, hence topology is voltage shunt feedback')\n",
"disp('')\n",
"disp('Step 2 and Step 3: Find input and output circuit')\n",
"disp('To find input circuit, set Vo = 0. This places resistor R across the input. To find output circuit, set V_i = 0. This places resistor R across output. The resultant circuit is shown in fig 1.69. The circuit shows voltage source replaced by current source')\n",
"disp('')\n",
"disp('Step 4: Replace transistor with their h-parameter equivalent circuits as shown in fig 1.70')\n",
"disp('')\n",
"disp('Step 5 : Find open loop transfer gain')\n",
"disp('R_M = Vo/I_s = R_c2*Io/I_s')\n",
"disp('    = R_c2 * Io/I_b2 * I_b2/I_e1 * I_e1/I_b1 * I_b1/I_s')\n",
"iob=(-100*2.2)/7.3\n",
"format(7)\n",
"disp(iob,'Io/I_b2 = -h_ie*R / R+R_c2 =')\n",
"iobe=(101*1.1)/3.1\n",
"format(6)\n",
"disp(iobe,'I_b2/I_e2 * I_e1/I_b1 = -h_ie*R / R+R_c2 =')\n",
"disp('I_b1/I_s = R_s||R / (R_s||R)+R_i1')\n",
"ri1=2+(101*1.1)\n",
"disp(ri1,'where  R_i1(in k-ohm) = h_ie + (1+h_fe)R_e =')\n",
"ibs=(2.2/3.2)/((2.2/3.2)+(113.1))\n",
"format(8)\n",
"disp(ibs,'I_b1/I_s =')\n",
"rm=5.1*-30.137*35.84*6.04*10^-3\n",
"format(7)\n",
"disp(rm,'Therefore,  R_M(in k-ohm) =')\n",
"disp('')\n",
"disp('Step 6: Calculate beta')\n",
"b=-1/(2.2*10^3)\n",
"format(10)\n",
"disp('beta = I_f/Io = V_i-Vo/Vo*R =')\n",
"disp(b,'     = -1/R =            because (Vo > V_i)')\n",
"disp('')\n",
"disp('Step 7: Calculate D, R_Mf, A_vf, R_if, R''_of')\n",
"d=1+(4.545*33.539*10^-1)\n",
"format(7)\n",
"disp(d,'D = 1 + beta*R_M =')\n",
"rmf=-33.539/16.245\n",
"format(6)\n",
"disp(rmf,'R_Mf(in k-ohm) = R_M/D =')\n",
"avf=-2.065\n",
"disp(avf,'A_vf = V0/V_s = Vo/I_s*R_s =')\n",
"ri=((1*113.1*2.2)/((113.1*2.2)+(1*113.1)+(2.2*1)))*10^3\n",
"format(4)\n",
"disp(ri,'R_i(in ohm) = R_s || R_i1 || R =')  //answer in textbook wrong\n",
"rif=(683)/16.245\n",
"format(3)\n",
"disp(rif,'R_if(in ohm) = R_i/D =')\n",
"disp('Ro = infinity')\n",
"disp('Therefore,  R_of = infinity/D = infinity')\n",
"ro=(2.2*5.1)/(7.3)\n",
"format(6)\n",
"disp(ro,'R''_o(in k-ohm) = R || R_c2 =')\n",
"rof=(1.537*10^3)/16.245\n",
"disp(rof,'R''_of(in ohm) = R''_o/D =')"
   ]
   }
,
{
		   "cell_type": "markdown",
		   "metadata": {},
		   "source": [
			"## Example 1.25: D_and_Rmf_and_Avf_and_Rif_and_Rof.sce"
		   ]
		  },
  {
"cell_type": "code",
	   "execution_count": null,
	   "metadata": {
	    "collapsed": true
	   },
	   "outputs": [],
"source": [
"//Example 1.25\n",
"clc\n",
"disp('Step 1: Identify topology')\n",
"disp('By making Vo = 0, feedback current becomes zero. Hence it is a voltage sampling. The feedback is fed in shunt with the input signal and thus the topology is voltage shunt feedback')\n",
"disp('')\n",
"disp('Step 2 and Step 3: Find input and output circuit')\n",
"disp('To find input circuit, set Vo = 0. This places resistor R across the input. To find output circuit, set V_i = 0. This places resistor R across output. The resultant circuit is shown in fig 1.72')\n",
"disp('')\n",
"disp('Step 4: Replace FET with its equivalent circuit as shown in fig 1.73')\n",
"disp('')\n",
"disp('Step 5 : Find open loop transresistance')\n",
"disp('R_M = Vo/I_s = -g_m*V_gs*R_eff/I_s')\n",
"reff=(40*200*10)/((200*10)+(400)+(40*200))\n",
"format(5)\n",
"disp(reff,'where  R_eff(in k-ohm) = r_d || R || R_D =')\n",
"disp('and  V_gs = I_s*R_i = I_s * R_s||1M||R')\n",
"disp('          = I_s * 10K||1M||200K')\n",
"disp('          = 9.43*10^3 I_s')\n",
"rm=-2.5*9.43*7.69\n",
"format(7)\n",
"disp(rm,'R_M(in k-ohm) =')\n",
"disp('')\n",
"disp('Step 6: Calculate beta')\n",
"b=-1/(200*10^3)\n",
"format(7)\n",
"disp('beta = I_f/Io = V_i-Vo/Vo*R =')\n",
"disp(b,'     = -1/R =            because (Vo > V_i)')\n",
"disp('')\n",
"disp('Step 7: Calculate D, R_Mf, A_vf, R_of, R''_of')\n",
"d=1+(5*181.29*10^-3)\n",
"format(4)\n",
"disp(d,'D = 1 + beta*R_M =')\n",
"rmf=-181.29/1.9\n",
"format(7)\n",
"disp(rmf,'R_Mf(in k-ohm) = R_M/D =')\n",
"avf=-95.415/10\n",
"format(7)\n",
"disp(avf,'A_vf = V0/V_s = Vo/I_s*R_s = R_Mf/R_s =')\n",
"ri=(10*1000*200)/((1000*200)+(10*200)+(1000*10))\n",
"format(5)\n",
"disp(ri,'R_i(in k-ohm) = R_s || M || R =')\n",
"rif=(9.43)/1.9\n",
"format(6)\n",
"disp(rif,'R_if(in k-ohm) = R_i/D =')\n",
"ro=(40*200*10)/((200*10)+(400)+(40*200))\n",
"format(5)\n",
"disp(ro,'R''_o(in k-ohm) = r_eff = r_d || R || R_D =')\n",
"rof=(7.69/1.9)\n",
"format(2)\n",
"disp(rof,'R''_of(in k-ohm) = R''_o/D =')"
   ]
   }
,
{
		   "cell_type": "markdown",
		   "metadata": {},
		   "source": [
			"## Example 1.26: Aof_and_Rif_and_Rof.sce"
		   ]
		  },
  {
"cell_type": "code",
	   "execution_count": null,
	   "metadata": {
	    "collapsed": true
	   },
	   "outputs": [],
"source": [
"//Example 1.26\n",
"clc\n",
"disp('Step 1: Identify topology')\n",
"disp('The feedback voltage is applied across the resistance R_e1 and it is in series with input signal. Hence feedback is voltage series feedback')\n",
"disp('')\n",
"disp('Step 2 and Step 3: Find input and output circuit')\n",
"disp('To find input circuit, set Vo = 0, which gives parallel combination of R_e1 with R_f at E1 as shown in fig 1.75. To find output circuit, set I_i = 0 opening the input node E1 at emitter of Q1, which gives series combination of R_f and R_e1 across the output. The resultant circuit is shown in fig 1.75')\n",
"disp('')\n",
"disp('Step 4: Find open loop voltage gain (A_v)')\n",
"rl2=(2.2*52.5)/54.7\n",
"format(5)\n",
"disp(rl2,'R_L2(in k-ohm) = R_c2 || (R_f+R_e1) =')\n",
"disp('A_i2 = -h_fe = -50')\n",
"disp('R_i2 = h_ie = 1.2 k-ohm')\n",
"av2=(-50*2.11)/1.2\n",
"format(6)\n",
"disp(av2,'A_v2 = A_i2*R_L2 / R_i2 =')\n",
"rl1=(100*1.2)/101.2\n",
"disp(rl1,'R_L1(in k-ohm) = R_c1 || R_i2 =')\n",
"disp('A_i1 = -h_fe = -50')\n",
"ri2=1.2+(51*(51*1.5/52.5))\n",
"format(6)\n",
"disp(ri2,'R_i1(in k-ohm) = h_ie + (1+h_fe)R_e =')\n",
"av1=(-50*1.185)/75.51\n",
"disp(av1,'Therefore,  A_v1 = A_i1*R_L1 / R_i1 =')\n",
"disp('The overall gain without feedback is given as')\n",
"av=-0.784*-87.91\n",
"disp(av,'A_v = A_v1*A_v2 =')\n",
"disp('')\n",
"disp('Step 5: Calculate beta')\n",
"b=1.5/52.5\n",
"format(7)\n",
"disp(b,'beta = V_f/Vo =')\n",
"disp('')\n",
"disp('Step 6: Calculate D,A_vf, R_if, R_of')\n",
"d=1+(0.0285*68.92)\n",
"format(6)\n",
"disp(d,'D = 1 + beta*A_v =')\n",
"avf=68.92/2.964\n",
"disp(avf,'A_vf = A_v/D =')\n",
"ri=(75.51*200.1485)/(200.1485+75.51)\n",
"disp(ri,'R_i(in k-ohm) = R || R_i1 =')\n",
"rif=54.82*2.964\n",
"format(7)\n",
"disp(rif,'R_if(in k-ohm) = R_i/D =')\n",
"disp('Ro = infinity    because h_oe = 0')\n",
"disp('R''_o = Ro || R_c2 || (R_f+R_e1) = Ro || R_L2 = infinity || 2.11 K = 2.11 K')\n",
"rof=(2.11*10^3)/2.964\n",
"format(4)\n",
"disp(rof,'R''_of(in ohm) = R''_o/D =')"
   ]
   }
,
{
		   "cell_type": "markdown",
		   "metadata": {},
		   "source": [
			"## Example 1.27: Aif_and_Avf_and_Rif_and_Rof_and_Ai.sce"
		   ]
		  },
  {
"cell_type": "code",
	   "execution_count": null,
	   "metadata": {
	    "collapsed": true
	   },
	   "outputs": [],
"source": [
"//Example 1.27\n",
"clc\n",
"disp('Step 1: Identity topology')\n",
"disp('The feedback is given from emitter of Q2 to the base of Q2. If Io=0 then feedback current through 5K register is zero, hence it is current sampling. As feedback signal is mixed in shunt with input, the amplifier is current shunt feedback amplifier')\n",
"disp('')\n",
"disp('Step 2 and Step 3: Find input and output circuit')\n",
"disp('The input circuit of the amplifier without feedback is obatined by opening the output loop at the emitter of Q2(Io = 0). This places R''(5K) in series with R_s from base to emitter of Q1. The output circuit is found by shorting the input node, i.e. making V1=0. This places R''(5K) in parallel with R_e. The resultant equivalent circuit is shown in fig 1.78')\n",
"disp('Step 4: Find open circuit transfer gain')\n",
"disp('A_I = Io/I_s = -I_c/I_s = -I_c2/I_b2 * I_b2/I_c1 * I_c1/I_b1 * I_b1/I_s')\n",
"disp('We know that  -I_c2/I_b2 = A_i2 = -h_fe = -50 and')\n",
"disp('-I_c/I_b1 = A_i1 = -h_fe = -50')\n",
"disp('Therefore,  I_c1/I_b1 = 50')\n",
"disp('Looking at fig 1.77 we can write')\n",
"disp('I_b2/I_c1 = -R_c1/R_c1+R_i2')\n",
"ri2=1.5+(51*(5*0.6/5.6))\n",
"format(6)\n",
"disp(ri2,'R_i2(in k-ohm) = h_ie + (1+h_fe)(R_e2||R'') =')\n",
"ibc=-2/30.82\n",
"format(7)\n",
"disp(ibc,'Therefore,  I_b2/I_c1 =')\n",
"disp('Looking at fig 1.78 we can write')\n",
"disp('I_b1/I_s = R/R+R_i1')\n",
"r=(5.6*10^3)/6.6\n",
"format(4)\n",
"disp(r,'where  R(in ohm) = R3 || (R''+R_e) =')\n",
"ri1=1.5+20.4\n",
"format(5)\n",
"disp(ri1,'and  R_i1(in k-ohm) = h_ie + (1+h_fe)R_e1 =')\n",
"ib1=0.848/22.748\n",
"format(7)\n",
"disp(ib1,'Therefore,  I_b1/I_s =')\n",
"disp('Substituting the numerical values obtained in equations of A_I we get,')\n",
"ai=50*0.0649*50*0.0372\n",
"format(2)\n",
"disp(ai,'A_I =')\n",
"disp('')\n",
"disp('Step 5: Calculate beta')\n",
"b=0.6/5.6\n",
"format(6)\n",
"disp(b,'beta = I_f/Io = R_e2 / R_e2+R'' =')\n",
"disp('')\n",
"disp('Step 6: Calculate D,A_If, A_vI, R_sf, R_of')\n",
"d=1+(0.107*6)\n",
"format(6)\n",
"disp(d,'D = 1 + beta*A_I =')\n",
"aif=6/1.642\n",
"disp(aif,'A_if = A_I/D =')\n",
"avf=(3.654*12)/1\n",
"format(7)\n",
"disp(avf,'A_vf = Vo/V_s = -I_c2/I_s * R_c2/R_s = A_if*R_c2 / R_s =')\n",
"ri1=(848*21900)/(21900+848)\n",
"disp(ri1,'R_i1(in ohm) = R || R_i1 =')\n",
"rif=816.38/1.642\n",
"format(6)\n",
"disp(rif,'R_if(in ohm) = R_i/D =')\n",
"disp('Ro = infinity    because h_oe = 0')\n",
"disp('Therefore,  R_of = Ro*D = infinity')\n",
"disp('R''_o = Ro || R_c2 = infinity || 12 K = 12 K')\n",
"disp('R''_of = R''_o * 1+beta*A_i/1+beta*A1 = R''_o = R_c2 = 12K')"
   ]
   }
,
{
		   "cell_type": "markdown",
		   "metadata": {},
		   "source": [
			"## Example 1.28: Avf_and_Rif_and_Rof.sce"
		   ]
		  },
  {
"cell_type": "code",
	   "execution_count": null,
	   "metadata": {
	    "collapsed": true
	   },
	   "outputs": [],
"source": [
"//Example 1.28\n",
"clc\n",
"disp('Step 1: Identify topology')\n",
"disp('  The feedback voltage is applied across R_e1 = 1.5 k-ohm, which is in series with input signal. Hence feedback is voltage series feedback')\n",
"disp('')\n",
"disp('Step 2 and step 3: Find input and output circuit')\n",
"disp('  To find input circuit, set Vo = 0, which gives parallel combination of R_e1 with R_f at E1 as shown in fig.1.80. To find ouput circuit, set I_i = 0 by opening the input node, E1 at emitter of Q1, which gives the series combination of R_f and R_e1 across the output. The resultant circuit is shown in fig.1.80')\n",
"disp('')\n",
"disp('Step 4: Find the open loop voltage gain (Av)')\n",
"rl2=(2.2*57.5)/(2.2+57.5)  // in k-ohm\n",
"format(6)\n",
"disp(rl2,'  R_L2(in k-ohm) = R_c2 || (Rf + R_e1) =')\n",
"disp('Since hoe*R_L2 = 10^-6*2.119 k-ohm = 0.002119 is less than 0.1 we use approximate analysis.')\n",
"disp('  A_i2 = -h_fe = -200')\n",
"disp('  R_i2 = hie = 2 k-ohm')\n",
"av2=(-200*2.119)/2\n",
"disp(av2,'  A_v2 = A_i2*R_L2 / R_i2 =')\n",
"rl1=(120*2)/(122)  // in k-ohm\n",
"disp(rl1,'  R_L1(in k-ohm) = R_C1 || R_i2 =')\n",
"disp('Since hoe*R_L1 = 10^-6*1.967 = 0.001967 is less than 0.1 we use approximate analysis.')\n",
"disp('  A_i1 = -hfe = -200')\n",
"ri1=2+(201*((1.5*56)/(57.5)))  // in k-ohm\n",
"format(7)\n",
"disp(ri1,'  R_i1(in k-ohm) = hie + (1+hfe)*Re =')\n",
"av1=(-200*1.967)/295.63\n",
"format(5)\n",
"disp(av1,'Therefore,  A_v1 = A_i1*R_L1 / R_i1 =')\n",
"disp('The overall gain without feedback is')\n",
"av=-1.33*-211.9\n",
"format(7)\n",
"disp(av,'  Av = A_v1 * A_v2 =')\n",
"disp('')\n",
"disp('Step 5: Calculate beta')\n",
"beta=1.5/57.5\n",
"format(6)\n",
"disp(beta,'  beta = Vf / Vo =')\n",
"disp('')\n",
"disp('Step 6: calculate D, A_vf, R_if, R_of')\n",
"d=1+(0.026*281.82)\n",
"disp(d,'  D = 1 + Av*beta =')\n",
"avf=281.82/8.327\n",
"disp(avf,'Therefore,  A_vf = Av / D =')\n",
"ri=(295.63*150)/(295.63+150)  // in k-ohm\n",
"format(5)\n",
"disp(ri,'  Ri(in k-ohm) = R_i1 || R =')\n",
"rif=99.5*8.327  // in k-ohm\n",
"format(7)\n",
"disp(rif,'  R_if(in k-ohm) = Ri *D =')\n",
"disp('  Ro = 1/hoe = 1 M-ohm')\n",
"rof=((1*10^6)/8.327)*10^-3  // in k-ohm\n",
"format(4)\n",
"disp(rof,'  R_of(in k-ohm) = Ro / D =')\n",
"ro=(1000*2.119)/(2.119+1000)  // in k-ohm\n",
"format(7)\n",
"disp(ro,'  R''o(in k-ohm) = Ro || R_c2 || (Rf+R_e1) = Ro || R_L2 =')\n",
"rof=(2.1145*10^3)/8.327  // in ohm\n",
"format(4)\n",
"disp(rof,'  R''_of(in ohm) = R''o / D =')"
   ]
   }
,
{
		   "cell_type": "markdown",
		   "metadata": {},
		   "source": [
			"## Example 1.29: Avf_and_Rif_and_Rof.sce"
		   ]
		  },
  {
"cell_type": "code",
	   "execution_count": null,
	   "metadata": {
	    "collapsed": true
	   },
	   "outputs": [],
"source": [
"//Example 1.29\n",
"clc\n",
"disp('Fig 1.83 shows current shunt feedback amplifier open circuit transfer gain')\n",
"disp('A_I = -I_c2/I_s = -I_c2/I_b2 * I_b2/I_c1 * I_c1/I_b1 * I_b1/I_s')\n",
"disp('I_c2/I_b2 = A_i2 = -h_fe = -100')\n",
"disp('-I_c1/I_b1 = 100')\n",
"ri2=1+(101*(1/10.1))\n",
"format(3)\n",
"disp(ri2,'R_i2(in k-ohm) = h_ie + (1+h_fe)(R_e2||R'') =')\n",
"ibc=-2.2/14.2\n",
"format(6)\n",
"disp(ibc,'I_b2/I_c1 = -R_c1 / R_c1+(R_i2+R_b2) =')\n",
"disp('I_b1/I_s = R/R+h_ie')\n",
"r=(10.1*10^3)/11.1\n",
"disp(r,'R(in ohm) = R_s || (R''+R_e) =')\n",
"ibs=0.9099/1.9099\n",
"disp(ibs,'Therefore,  I''_b/I_s =')\n",
"ai=100*0.155*100*0.476\n",
"disp(ai,'Therefore,  A_I =')\n",
"disp('Calculate of beta:')\n",
"disp('I_f = -I_o*R_e2 / R_e2+R''')\n",
"disp('beta = I_f/Io = R_e2/R_e2+R'' = 100/100+10K')\n",
"d=1+(9.9*737.8*10^-3)\n",
"format(4)\n",
"disp(d,'D = 1 + beta*A_I =')\n",
"disp('A_if = A_I/D = 88.89')\n",
"avf=88.89*2.2\n",
"format(8)\n",
"disp(avf,'A_vf = Vo/V_s = -I_c2/I_s * R_c2/R_s = A_if*R_c2 / R_s =')\n",
"ri1=(909.9*1000)/1909.9\n",
"format(4)\n",
"disp(ri1,'R_i1(in ohm) = R || h_ie =')\n",
"rif=476/8.3\n",
"format(6)\n",
"disp(rif,'R_if(in ohm) = R_i/D =')\n",
"disp('R_of = R_c2 = 2.2 k-ohm')"
   ]
   }
,
{
		   "cell_type": "markdown",
		   "metadata": {},
		   "source": [
			"## Example 1.2: closed_loop_gain_with_negative_feedback.sce"
		   ]
		  },
  {
"cell_type": "code",
	   "execution_count": null,
	   "metadata": {
	    "collapsed": true
	   },
	   "outputs": [],
"source": [
"//Example 1.2\n",
"clc\n",
"avf=600/(1+(600*0.01))\n",
"format(7)\n",
"disp(avf,'A_vf = A / 1+A*beta =')"
   ]
   }
,
{
		   "cell_type": "markdown",
		   "metadata": {},
		   "source": [
			"## Example 1.30: voltage_gain_and_feedback_voltage_and_output_voltage.sce"
		   ]
		  },
  {
"cell_type": "code",
	   "execution_count": null,
	   "metadata": {
	    "collapsed": true
	   },
	   "outputs": [],
"source": [
"//Example 1.30\n",
"clc\n",
"disp('(i) Voltage gain with feedback  A_f = A_v/D')\n",
"d=1+(0.02*100)\n",
"format(2)\n",
"disp(d,'Where,  D = 1 + beta*A_v =')\n",
"avf=100/3\n",
"format(6)\n",
"disp(avf,'Therefore,  A_vf =')\n",
"vf=0.02*33.33*40\n",
"disp(vf,'(ii) Feedback voltage  V_f(in mV) = beta*Vo = beta*A_vf*V_i =')\n",
"vo=33.33*40*10^-3\n",
"disp(vo,'(iii) Output voltage  Vo(in V) = A_vi*V_i =')"
   ]
   }
,
{
		   "cell_type": "markdown",
		   "metadata": {},
		   "source": [
			"## Example 1.31: voltage_gain_and_input_and_output_impedance.sce"
		   ]
		  },
  {
"cell_type": "code",
	   "execution_count": null,
	   "metadata": {
	    "collapsed": true
	   },
	   "outputs": [],
"source": [
"//Example 1.31\n",
"disp('For beta = -0.01,  D = 1+beta*A_v = 11')\n",
"avf=-100/11\n",
"format(5)\n",
"disp(avf,'(i) Voltage gain  A_vf = A_v/D =')\n",
"rif=10*11\n",
"disp(rif,'(ii) Input impedance  R_if(in k-ohm) = R_i*D =')\n",
"rof=20/11\n",
"disp(rof,'(iii) Output impedance  R_of(in k-ohm) = Ro/D =')\n",
"disp('For beta = -0.01,  D = 1+beta*A_v = 51')\n",
"avf=-100/51\n",
"disp(avf,'(i) Voltage gain  A_vf = A_v/D =')\n",
"rif=10*51\n",
"disp(rif,'(ii) Input impedance  R_if(in k-ohm) = R_i*D =')\n",
"rof=20/51\n",
"format(6)\n",
"disp(rof,'(iii) Output impedance  R_of(in k-ohm) = Ro/D =')"
   ]
   }
,
{
		   "cell_type": "markdown",
		   "metadata": {},
		   "source": [
			"## Example 1.32: voltage.sce"
		   ]
		  },
  {
"cell_type": "code",
	   "execution_count": null,
	   "metadata": {
	    "collapsed": true
	   },
	   "outputs": [],
"source": [
"\n",
"//Example 1.32\n",
"clc\n",
"disp('Voltage series feedback is the most commonly used feedback arrangement in cascaded amplifier. Voltage series feedback increases input resistance and decreases output resistance. Increase in input resistance reduces the loading effect of previous stage and decreses in output resistance reduces the loading effect of amplifier itself for driving the next stage.')"
   ]
   }
,
{
		   "cell_type": "markdown",
		   "metadata": {},
		   "source": [
			"## Example 1.33: feedback_factor.sce"
		   ]
		  },
  {
"cell_type": "code",
	   "execution_count": null,
	   "metadata": {
	    "collapsed": true
	   },
	   "outputs": [],
"source": [
"//Example 1.33\n",
"clc\n",
"disp('We know that,')\n",
"disp('A_vf = A_v / 1+beta*A_v')\n",
"disp('Therefore,  A_vf + beta*A_v*A_vf = A_v')\n",
"b=20/2400\n",
"format(8)\n",
"disp(b,'Therefore,  beta = A_v-A_vf / A_v*A_vf =')"
   ]
   }
,
{
		   "cell_type": "markdown",
		   "metadata": {},
		   "source": [
			"## Example 1.34: gain_with_feedback_and_new_bandwidth.sce"
		   ]
		  },
  {
"cell_type": "code",
	   "execution_count": null,
	   "metadata": {
	    "collapsed": true
	   },
	   "outputs": [],
"source": [
"//Example 1.34\n",
"clc\n",
"disp('Given: A_v mid = 40, f_L = 100 Hz, f_H = 15 kHz and beta = 0.01')\n",
"avf=400/(1+(0.01*400))\n",
"format(3)\n",
"disp(avf,'(i) A_vf = A_v mid / 1+beta*A_v mid =')\n",
"flf=100/(1+(0.01*400))\n",
"disp(flf,'(ii) f_Lf = f_L / 1+beta*A_v mid =')\n",
"fhf=(15)*(1+(0.01*400))  // in kHz\n",
"disp(fhf,'(iii) f_Hf(in kHz) = f_H * (1+beta*A_v mid) =')\n",
"bw=75-0.02  // in kHz\n",
"format(6)\n",
"disp(bw,'(iv) New Bandwidth(in kHz) = f_Hf - f_Lf =')"
   ]
   }
,
{
		   "cell_type": "markdown",
		   "metadata": {},
		   "source": [
			"## Example 1.3: open_and_closed_loop_gain.sce"
		   ]
		  },
  {
"cell_type": "code",
	   "execution_count": null,
	   "metadata": {
	    "collapsed": true
	   },
	   "outputs": [],
"source": [
"//Example 1.3\n",
"clc\n",
"disp('Given: beta = 0.04,  Distortion with feedback = 3%,  Distortion without feedback = 15%')\n",
"d=15/3\n",
"format(2)\n",
"disp(d,'Therefore,  D =')\n",
"disp('where  D = 1 + A*beta = 5')\n",
"a=4/0.04\n",
"format(4)\n",
"disp(a,'Therefore,  A =')"
   ]
   }
,
{
		   "cell_type": "markdown",
		   "metadata": {},
		   "source": [
			"## Example 1.4: gain_with_feedback.sce"
		   ]
		  },
  {
"cell_type": "code",
	   "execution_count": null,
	   "metadata": {
	    "collapsed": true
	   },
	   "outputs": [],
"source": [
"//Example 1.4\n",
"clc\n",
"disp('(a) Gain with feedback')\n",
"format(5)\n",
"av=1000/(1+(0.05*1000))\n",
"disp(av,'        AV_mid = Av_mid / 1+beta*Av_mid =')\n",
"flf=50/(1+(0.05*1000))  // in Hz\n",
"disp(flf,'(b)      f_Lf(in Hz) = f_L / 1+beta*Av_mid =')\n",
"fhf=((50*10^3)*(1+(0.05*1000)))*10^-6  // in MHz\n",
"disp(fhf,'(c)      f_Hf(in MHz) = f_H * (1+beta*Av_mid) =')"
   ]
   }
,
{
		   "cell_type": "markdown",
		   "metadata": {},
		   "source": [
			"## Example 1.5: input_signal_and_second_harmonic_distortion_with_feedback.sce"
		   ]
		  },
  {
"cell_type": "code",
	   "execution_count": null,
	   "metadata": {
	    "collapsed": true
	   },
	   "outputs": [],
"source": [
"//Example 1.5\n",
"clc\n",
"disp('(a) beta:        -40 = 20*log[1+beta*A]')\n",
"disp('Therefore,  1+beta*A = 100')\n",
"b=99/1000\n",
"format(6)\n",
"disp(b,'Therefore,      beta =')\n",
"disp('Gain of the amplifier with feedback is given as')\n",
"avf=1000/100\n",
"disp(avf,'      A_Vf = A_V / 1+beta*A_V =')\n",
"disp('(b) To maintain output power 10 W, we should maintain output voltage constant and to maintain output constant with feedback gain required Vs is')\n",
"vsf=10*100*10^-3  // in V\n",
"disp(vsf,'      V_sf(in V) = Vs * 100 =')\n",
"disp('(c) Second harmonic distortion is reduced by factor 1 + beta*A')\n",
"d2f=(0.1/100)*100 // in percentage\n",
"disp(d2f,'      D_2f(in percentage) = D_2 / 1+beta*A =')"
   ]
   }
,
{
		   "cell_type": "markdown",
		   "metadata": {},
		   "source": [
			"## Example 1.6: beta_and_Af.sce"
		   ]
		  },
  {
"cell_type": "code",
	   "execution_count": null,
	   "metadata": {
	    "collapsed": true
	   },
	   "outputs": [],
"source": [
"//Example 1.6\n",
"clc\n",
"disp('(a) We know that')\n",
"disp('              dAf/Af = 0.1/1+beta*A * dA/A')\n",
"disp('Therefore,  1+beta*A = 37.5')\n",
"b=(36.5/2000)*100 // in percentage\n",
"format(6)\n",
"disp(b,'Therefore,  beta(in percentage) =')\n",
"af=2000/(1+(0.01825*2000))\n",
"disp(af,'(b)     Af = A / 1+beta*A =')"
   ]
   }
,
{
		   "cell_type": "markdown",
		   "metadata": {},
		   "source": [
			"## Example 1.7: amount_of_feedback.sce"
		   ]
		  },
  {
"cell_type": "code",
	   "execution_count": null,
	   "metadata": {
	    "collapsed": true
	   },
	   "outputs": [],
"source": [
"//Example 1.7\n",
"clc\n",
"disp('The voltage gain of the amplifier with feedback is given as,')\n",
"disp('A_vf = A / 1+A*beta  where  beta = 0.1 and A = 100')\n",
"avf=100/(1+(100*0.1))\n",
"format(5)\n",
"disp(avf,'Therefore,  A_vf =')\n",
"disp('The bandwidth of an amplifier with feedback is given by,')\n",
"disp('B_wf = (1+A_mid*beta)f_H - f_L/(1+A_mid*beta)')\n",
"disp('Assuming f_H >> f_L we have')\n",
"disp('B_w = f_H  and  B_wf = (1+A_mid*beta)B_w')\n",
"bwf=(1+(100*0.1))*300\n",
"disp(bwf,'Therefore,  B_wf(in kHz) =')\n",
"disp('The gain bandwidth product before feedback can be given as')\n",
"gbp=100*300*10^3\n",
"format(7)\n",
"disp(gbp,'Gain bandwidth product = A_v*B_w =')\n",
"gbpf=9.09*3300*10^3\n",
"disp(gbpf,'Gain bandwidth product after feedback= A_vf*B_wf =')\n",
"disp('If bandwidth is to be limited to 800 kHz we have f_Hf = 800 kHz assuming f_Hf >> f_Lf')\n",
"disp('We know that')\n",
"disp('B_wf = (1+A_vmid*beta)*f_H')\n",
"b=((8/3)-1)/100\n",
"format(8)\n",
"disp(b,'Therefore,  beta =')"
   ]
   }
,
{
		   "cell_type": "markdown",
		   "metadata": {},
		   "source": [
			"## Example 1.8: A1_and_A2.sce"
		   ]
		  },
  {
"cell_type": "code",
	   "execution_count": null,
	   "metadata": {
	    "collapsed": true
	   },
	   "outputs": [],
"source": [
"//Example 1.8\n",
"clc\n",
"disp('For the above circuit voltage gain with feedback is given as')\n",
"disp('A_f = A1[A2/1+A2*B2] / 1+A1[A2/1+A2B2]B1')\n",
"disp('(i)  deltaA_f = | A1[A2/1+A2*B2]/1+A1[A2/1+A2B2]B1 - |A1-deltaA_i|[A2/1+A2*B2]/1+|A1-deltaA_i|[A2/1+A2B2]B1 |')\n",
"disp('(ii)  deltaA_f = | A1[A2/1+A2*B2]/1+A1[A2/1+A2B2]B1 - A1[|A2-deltaA2|/1+|A2-deltaA2|*B2]/1+A1[|A2-deltaA2|/1+|A2-deltaA2|B2]B1 |')"
   ]
   }
,
{
		   "cell_type": "markdown",
		   "metadata": {},
		   "source": [
			"## Example 1.9: voltage_gain_and_input_and_output_impedance.sce"
		   ]
		  },
  {
"cell_type": "code",
	   "execution_count": null,
	   "metadata": {
	    "collapsed": true
	   },
	   "outputs": [],
"source": [
"//Example 1.9\n",
"clc\n",
"disp('The voltage gain with feedback can be given as')\n",
"avf=4000/(1+(4000*0.05))\n",
"format(5)\n",
"disp(avf,'A_vf = A_v / 1+A_v*beta =')\n",
"disp('In a voltage series feedback input resistance with feedback is given as')\n",
"rif=2*(1+(0.05*4000))\n",
"disp(rif,'R_if(in k-ohm) = R_i(1+beta*A_v) =')\n",
"rof=(60*10^3)/(1+(0.05*4000))\n",
"format(6)\n",
"disp('In a voltage series feedback output resistance with feedback is given as')\n",
"disp(rof,'R_of(in ohm) = Ro / 1+beta*A_v =')"
   ]
   }
],
"metadata": {
		  "kernelspec": {
		   "display_name": "Scilab",
		   "language": "scilab",
		   "name": "scilab"
		  },
		  "language_info": {
		   "file_extension": ".sce",
		   "help_links": [
			{
			 "text": "MetaKernel Magics",
			 "url": "https://github.com/calysto/metakernel/blob/master/metakernel/magics/README.md"
			}
		   ],
		   "mimetype": "text/x-octave",
		   "name": "scilab",
		   "version": "0.7.1"
		  }
		 },
		 "nbformat": 4,
		 "nbformat_minor": 0
}
