{
"cells": [
 {
		   "cell_type": "markdown",
	   "metadata": {},
	   "source": [
       "# Chapter 5: Tuned Amplifier"
	   ]
	},
{
		   "cell_type": "markdown",
		   "metadata": {},
		   "source": [
			"## Example 5.10: find_BW.sce"
		   ]
		  },
  {
"cell_type": "code",
	   "execution_count": null,
	   "metadata": {
	    "collapsed": true
	   },
	   "outputs": [],
"source": [
"//example5.10\n",
"clc\n",
"disp('i) f_r=Resonant frequency')\n",
"f=1/((2*%pi)*sqrt(0.0004*2500*10^-12))\n",
"format(9)\n",
"disp(f,'= 1/(2*pi*sqrt(L*C))= ')\n",
"disp('ii) Tuned circuit dynamic resistance=R_p=L/CR')\n",
"r=(80*10^6)/2500\n",
"disp(r,'= (400 microH)/(2500pF)*(5ohm)= ')\n",
"disp('iii) Gain at resonance=A_v=(-g_m*R_L)=(-g_m*R_p)')\n",
"a=-6*32\n",
"disp(a,' = 6mA/V * 32kohm = ')\n",
"disp('iv) The signal bandwidth =BW=(f_r)/Q')\n",
"q=(2*%pi*0.159*400)/5\n",
"format(6)\n",
"disp(q,'Q=(omega_r*L)/R= ')\n",
"b=159000/79.92\n",
"format(7)\n",
"disp(b,'BW(in Hz)=(f_r)/Q= ')"
   ]
   }
,
{
		   "cell_type": "markdown",
		   "metadata": {},
		   "source": [
			"## Example 5.11: resonant_frequency_and_omega.sce"
		   ]
		  },
  {
"cell_type": "code",
	   "execution_count": null,
	   "metadata": {
	    "collapsed": true
	   },
	   "outputs": [],
"source": [
"//Example 5.11\n",
"clc\n",
"disp('(i)  R_L = r_d || R_p')\n",
"disp('R_p = Tank circuit impedance at resonance = L / CR')\n",
"disp('f_r = 1 / 2*pi*sqrt(L*C)')\n",
"c=(1/(4*%pi^2*200*1.59^2*10^6))*10^12\n",
"format(3)\n",
"disp(c,'Therefore,  C(in pF) = 1 / 4*pi^2*f_r^2*L =')\n",
"disp('Q = omega_r*L / R = 2*pi*f_r*L / R')\n",
"r=(2*%pi*200*1.59)/50\n",
"disp(r,'Therefore,  R(in ohm) = 2*pi*f_r*L / Q =')\n",
"rf=((200*10^-6)/(50*40*10^-12))*10^-3\n",
"format(4)\n",
"disp(rf,'R_F(in k-ohm) = L / C*R =')\n",
"rl=(500*100)/600\n",
"format(6)\n",
"disp(rl,'R_L(in k-ohm) = r_d*R_p / r_d+R_p =')\n",
"av=5*83.33\n",
"format(7)\n",
"disp(av,'A_v = -g_m*R_L =        at resonance frequency omega_r')\n",
"disp('(ii) At  f = f_r+10 kHz = 1.6 MHz')\n",
"disp('|A_v / A_v(at resonance)| = 1 / sqrt(1+(f/f_r)^2)')\n",
"ava=416.67/sqrt(1+((1.6/1.59)^2))\n",
"format(6)\n",
"disp(ava,'Therefore,  |A_v| = |A_v(at resonance| / sqrt(1+(f/f_r)^2) =')"
   ]
   }
,
{
		   "cell_type": "markdown",
		   "metadata": {},
		   "source": [
			"## Example 5.12: resonant_frequency_and_tank_circuit_impedance.sce"
		   ]
		  },
  {
"cell_type": "code",
	   "execution_count": null,
	   "metadata": {
	    "collapsed": true
	   },
	   "outputs": [],
"source": [
"//Example 5.12\n",
"clc\n",
"fr=1/(2*%pi*sqrt(100*1000*10^-18))\n",
"format(8)\n",
"disp(fr,'(i) Resonant frequency f_r(in kHz) = 1 / 2*pi*sqrt(L*C) =')\n",
"disp('(ii) Tank circuit impedance at resonance can be given as')\n",
"rp=((100*10^6)/5000)*10^-3\n",
"disp(rp,'R_P(in k-ohm) = L / C*R =')\n",
"av=(-5*10^-3)*((500*20*10^3)/(520))\n",
"format(6)\n",
"disp(av,'(iii)  A_v = -g_m*R_L = -g_m*(r_d||R_P) =')\n",
"bw=(5/(2*%pi*100*10^-6))*10^-3\n",
"disp('(iv)  BW = f_r/Q')\n",
"disp('      BW = f_r*R / omega_r*L    Therefore, Q = omega_r*L / R')\n",
"disp(bw,'      BW(in kHz) = R / 2*pi*L =')"
   ]
   }
,
{
		   "cell_type": "markdown",
		   "metadata": {},
		   "source": [
			"## Example 5.13: tank_circuit_elements.sce"
		   ]
		  },
  {
"cell_type": "code",
	   "execution_count": null,
	   "metadata": {
	    "collapsed": true
	   },
	   "outputs": [],
"source": [
"//Example 5.13\n",
"clc\n",
"disp('BW = f_r / Q')\n",
"q=10700/200\n",
"format(5)\n",
"disp(q,'Therefore,  Q = f_r / BW =')\n",
"disp('Q = omega_r*L / R = 2*pi*f_r*L / R')\n",
"lr=53.5/(2*%pi*10.7*10^6)\n",
"format(9)\n",
"disp(lr,'Therefore,  L/R = Q / 2*pi*f_r =')\n",
"disp('|A_v| = g_m*R_L = 30')\n",
"rl=(30/5)\n",
"disp(rl,'Therefore,  R_L(in k-ohm) = (r_d || R_p) =')\n",
"disp('Therefore,  R_p = 6383 ohm')\n",
"disp('We know that')\n",
"disp('R_p = L/C*R')\n",
"c=((795*10^-9)/6383)*10^12\n",
"format(6)\n",
"disp(c,'Therefore,  C(in pF) =')\n",
"disp('We know that')\n",
"l=(1/(4*%pi^2*((10.7*10^6)^2)*124.5*10^-12))*10^6\n",
"disp('f_r = 1 / 2*pi*sqrt(L*C)')\n",
"format(6)\n",
"disp(l,'Therefore,  L(in uH) =')\n",
"disp('We have')\n",
"disp('R_p = L / C*R')\n",
"r=(1.777*10^-6)/(6383*124.5*10^-12)\n",
"disp(r,'Therefore,  R(in ohm) = L / C*R_p =')\n",
"disp('Therefore, elements of tank circuit are:')\n",
"disp('L = 1.777 uH,  C = 124.5 pF  and  R = 2.236 ohm')"
   ]
   }
,
{
		   "cell_type": "markdown",
		   "metadata": {},
		   "source": [
			"## Example 5.1: Rs_and_Rp_of_inductor.sce"
		   ]
		  },
  {
"cell_type": "code",
	   "execution_count": null,
	   "metadata": {
	    "collapsed": true
	   },
	   "outputs": [],
"source": [
"//Example 5.1\n",
"clc\n",
"rp=2*%pi*10^6*250*300*10^-9\n",
"format(7)\n",
"disp(rp,'R_p(in k-ohm) = omega_0 * L * Q =')\n",
"rs=(2*%pi*250)/300\n",
"format(6)\n",
"disp(rs,'R_s(in ohm) = omega_0*L / Q =')"
   ]
   }
,
{
		   "cell_type": "markdown",
		   "metadata": {},
		   "source": [
			"## Example 5.2: design_single_tuned_amplifier.sce"
		   ]
		  },
  {
"cell_type": "code",
	   "execution_count": null,
	   "metadata": {
	    "collapsed": true
	   },
	   "outputs": [],
"source": [
"//Example 5.2\n",
"clc\n",
"disp('From equation 9 we have')\n",
"disp('  BW = 1 / 2*pi*R*C')\n",
"rc=1/(2*%pi*10*10^3)\n",
"format(12)\n",
"disp(rc,'Therefore,  R*C = 1 / 2*pi*BW =')\n",
"disp('From equation 3 we have')\n",
"disp('  R = r_i || R_p || r_b''e')\n",
"disp('where  r_i = 4 k-ohm')\n",
"rbe=100/0.04\n",
"disp(rbe,'r_b''e(in ohm) = h_fe / g_m =')\n",
"disp('R_p = Q_c * omega_0 * L = Q_c / omega_0*C')\n",
"disp('Therefore,  R = 4*10^3 || 2500 || Q_c/omega_0*C')\n",
"disp('C = 1 / 2*pi*10*10^3*R')\n",
"disp('Therefore,  C = 1 / 2*pi*10*10^3*[4*10^3 || 2500 || Q_c/2*pi*500*10^3*C]')\n",
"disp('The typical range for Q_c is 10 to 150. However, we have to assume Q such that value of C_p should be positive. Let us assume Q = 100')\n",
"disp('Therefore,  C = 1 / 2*pi*10*10^3*[1538.5 || 1/2*pi*5000*C]')\n",
"disp('              = 1 / 2*pi*10*10^3*[1 / 1/1538.5+2*pi*5000*C]')\n",
"disp('Solving for C we get')\n",
"disp('  C = 0.02 uF')\n",
"disp('We have')\n",
"disp('  C = C'' + C_b''e + (1+g_m*R_L)*C_b''e')\n",
"disp('Therefore,  C'' = C - [C_b''e + (1+g_m*R_L)*C_b''e]')\n",
"c=((0.02*10^-6)-[(1000*10^-12)+((1+(0.04*510))*100*10^-12)])*10^6\n",
"format(8)\n",
"disp(c,'Therefore,  C''(in uF) =')\n",
"disp('We have,')\n",
"disp('omega_0^2 = 1 / L*C')\n",
"l=(1/(((2*%pi*500*10^3)^2)*(0.02*10^-6)))*10^6\n",
"format(2)\n",
"disp(l,'Therefore,  L(in uH) = 1 / omega_0^2*C =')\n",
"disp('From equation 2 we have,')\n",
"rp=2*%pi*500*5*100*10^-3\n",
"format(5)\n",
"disp(rp,'R_p(in ohm) = omega*L*Q_c =')\n",
"r=(4000*1570*2500)/((1570*2500)+(4000*2500)+(4000*1570))\n",
"format(4)\n",
"disp(r,'Therefore,  R(in ohm) = r_i || R_p || r_b''e =')\n",
"disp('We have mid frequency gain as')\n",
"av=-0.04*777\n",
"disp(av,'A_v(max) = -g_m*R =')"
   ]
   }
,
{
		   "cell_type": "markdown",
		   "metadata": {},
		   "source": [
			"## Example 5.3: bandwidth_for_four_stages.sce"
		   ]
		  },
  {
"cell_type": "code",
	   "execution_count": null,
	   "metadata": {
	    "collapsed": true
	   },
	   "outputs": [],
"source": [
"//Example 5.3\n",
"clc\n",
"disp('(i) We know that,')\n",
"bw=((20*10^3)*sqrt(((2)^(1/3))-1))*10^-3\n",
"format(7)\n",
"disp(bw,'BW_n(in kHz) = BW_1 * sqrt(2^1/n - 1) =')\n",
"bw1=((20*10^3)*sqrt(((2)^(1/4))-1))*10^-3\n",
"format(4)\n",
"disp(bw1,'(ii) BW_n(in kHz) = BW_1 * sqrt(2^1/n - 1) =')"
   ]
   }
,
{
		   "cell_type": "markdown",
		   "metadata": {},
		   "source": [
			"## Example 5.6: find_frequency.sce"
		   ]
		  },
  {
"cell_type": "code",
	   "execution_count": null,
	   "metadata": {
	    "collapsed": true
	   },
	   "outputs": [],
"source": [
"//example5.6\n",
"clc\n",
"disp('a) We have,')\n",
"disp('A_vmid=(-g_m*R)= -15')\n",
"r=15/(5*10^-3)\n",
"disp(r,'Therefore R(in ohms)=(-15)/(-5*10^-3)= ')\n",
"disp('b) The Miller effect capacitance is given by ')\n",
"disp('C_d(in F)=C_gs+(1+g_m*R)*(C_g*d)')\n",
"c=(10^-12)+((1+15)*(3*10^-12))\n",
"format(8)\n",
"disp(c,' = (1*10^-12)+(1+15)*(3*10^-12)=')\n",
"disp('c) The limit frequency of the uncompemsated amplifier is ')\n",
"f=1/(2*%pi*49*3*10^-9)\n",
"format(9)\n",
"disp(f,'f2(in Hz)=1/(2*pi*C_d*R)= ')\n",
"l=0.414*((3*10^3)^2)*(49*10^-12)\n",
"format(12)\n",
"disp(l,'d) L(in H)=q*C_d*R^2= ')\n",
"disp('e) Possible extension of frequency range')\n",
"e=1.72*1.08*10^6\n",
"disp(e,'f''2(in Hz)=1.72*f2= ')"
   ]
   }
,
{
		   "cell_type": "markdown",
		   "metadata": {},
		   "source": [
			"## Example 5.8: resonant_frequency_and_impedance_and_voltage_gain.sce"
		   ]
		  },
  {
"cell_type": "code",
	   "execution_count": null,
	   "metadata": {
	    "collapsed": true
	   },
	   "outputs": [],
"source": [
"//Example 5.8\n",
"clc\n",
"disp('(i) Resonant frequency:')\n",
"fr=(1/(2*%pi*sqrt(20*500*10^-18)))*10^-6\n",
"format(5)\n",
"disp(fr,'f_r(MHz) = 1 / 2*pi*sqrt(LC) =')\n",
"disp('(ii) We know that')\n",
"disp('Q_r = R_p / omega_r*L')\n",
"rp=30*2*%pi*1.59*20\n",
"format(5)\n",
"disp(rp,'Therefore,  Impedance of tuned circuit R_p = Q_r * omega_r * L =')\n",
"disp('(iii) Voltage gain of stage A_v,')\n",
"av=(-50*((5994*1500)/(5994+1500)))/200\n",
"format(4)\n",
"disp(av,'A_v = A_I*R''_L / R''_i =')"
   ]
   }
],
"metadata": {
		  "kernelspec": {
		   "display_name": "Scilab",
		   "language": "scilab",
		   "name": "scilab"
		  },
		  "language_info": {
		   "file_extension": ".sce",
		   "help_links": [
			{
			 "text": "MetaKernel Magics",
			 "url": "https://github.com/calysto/metakernel/blob/master/metakernel/magics/README.md"
			}
		   ],
		   "mimetype": "text/x-octave",
		   "name": "scilab",
		   "version": "0.7.1"
		  }
		 },
		 "nbformat": 4,
		 "nbformat_minor": 0
}
