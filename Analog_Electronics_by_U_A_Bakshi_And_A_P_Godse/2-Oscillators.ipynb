{
"cells": [
 {
		   "cell_type": "markdown",
	   "metadata": {},
	   "source": [
       "# Chapter 2: Oscillators"
	   ]
	},
{
		   "cell_type": "markdown",
		   "metadata": {},
		   "source": [
			"## Example 2.10: range_of_C.sce"
		   ]
		  },
  {
"cell_type": "code",
	   "execution_count": null,
	   "metadata": {
	    "collapsed": true
	   },
	   "outputs": [],
"source": [
"//Example 2.10\n",
"clc\n",
"disp('L1 = 20 uH,  L2 = 2 mH')\n",
"leq=(20*10^-6)+(2*10^-3)\n",
"format(10)\n",
"disp(leq,'Therefore,  L_eq(in H) = L1 + L2 =')\n",
"disp('For f = f_max = 2.5 MHz')\n",
"disp('f = 1 / 2*pi*sqrt(C*L_eq)')\n",
"c=(1/(((2*%pi*2.5*10^6)^2)*(2.002*10^-3)))*10^12\n",
"format(7)\n",
"disp(c,'Therefore,  C(in pF) =')\n",
"disp('For f = f_min = 1 MHz')\n",
"c=(1/(((2*%pi*1*10^6)^2)*(2.002*10^-3)))*10^12\n",
"format(8)\n",
"disp(c,'Therefore,  C(in pF) =')\n",
"disp('This C must be varied from 2.0244 pF to 12.6525 pF')"
   ]
   }
,
{
		   "cell_type": "markdown",
		   "metadata": {},
		   "source": [
			"## Example 2.11: frequency_of_oscillations.sce"
		   ]
		  },
  {
"cell_type": "code",
	   "execution_count": null,
	   "metadata": {
	    "collapsed": true
	   },
	   "outputs": [],
"source": [
"//Example 2.11\n",
"clc\n",
"disp('The equivalent capacitance is given by,')\n",
"ceq=(150*1.5*10^-21)/((150*10^-12)+(1.5*10^-9))  // in F\n",
"format(12)\n",
"disp(ceq,'  C_eq(in F) = C1*C2 / C1+C2 =')\n",
"disp('Now,  f = 1 / 2*pi*sqrt(L*C_eq)')\n",
"f=(1/(2*%pi*sqrt(50*136.363*10^-18)))*10^-6  // in MHz\n",
"format(6)\n",
"disp(f,'  f(in MHz) =')"
   ]
   }
,
{
		   "cell_type": "markdown",
		   "metadata": {},
		   "source": [
			"## Example 2.12: value_of_C.sce"
		   ]
		  },
  {
"cell_type": "code",
	   "execution_count": null,
	   "metadata": {
	    "collapsed": true
	   },
	   "outputs": [],
"source": [
"//Example 2.12\n",
"clc\n",
"disp('The given values are,')\n",
"disp('   L = 100 uH,   C1 = C2 = C   and   f = 500 kHz')\n",
"disp('Now,    f = 1 / 2*pi*sqrt(L*C_eq)')\n",
"ceq=1/(4*(%pi^2)*(100*10^-6)*((500*10^3)^2))  // in F\n",
"format(11)\n",
"disp(ceq,'Therefore, C_eq(in F) =')\n",
"disp('but    C_eq = C1*C2 / C1+C2    and C1 = C2 = C')\n",
"disp('Therefore,  C_eq = C / 2')\n",
"c=1.0132*2\n",
"format(6)\n",
"disp(c,'Therefore,  C(in nF) =')"
   ]
   }
,
{
		   "cell_type": "markdown",
		   "metadata": {},
		   "source": [
			"## Example 2.13: value_of_inductor.sce"
		   ]
		  },
  {
"cell_type": "code",
	   "execution_count": null,
	   "metadata": {
	    "collapsed": true
	   },
	   "outputs": [],
"source": [
"//Example 2.13\n",
"clc\n",
"disp('Given, C1 = 100 pF,  C2 = 50 pF,  f = 10 MHz,  L = ?')\n",
"ceq=(5000*10^-24)/(150*10^-12)\n",
"format(10)\n",
"disp(ceq,'C_eq(in F) = C1*C2 / C1+C2 = ')\n",
"disp('f = 1 / 2*pi*sqrt(L*C_eq)')\n",
"l=(1/(4*(%pi^2)*(33.33*10^-12)*((10*10^6)^2)))*10^6  // in F\n",
"format(4)\n",
"disp(l,'Therefore, L(in uH) =')"
   ]
   }
,
{
		   "cell_type": "markdown",
		   "metadata": {},
		   "source": [
			"## Example 2.14: range_of_tuning_capacitor.sce"
		   ]
		  },
  {
"cell_type": "code",
	   "execution_count": null,
	   "metadata": {
	    "collapsed": true
	   },
	   "outputs": [],
"source": [
"//Example 2.14\n",
"clc\n",
"disp('For a tuned collector oscillator,')\n",
"disp('f_r = 1 / 2*pi*sqrt(L*C)')\n",
"disp('where  L = 30 uH  and f_r to be varied 300 kHz to 1.5 MHz')\n",
"disp('For  f_r = 300 kHz')\n",
"c1=(1/(4*(%pi^2)*(30*10^-6)*((300*10^3)^2)))*10^9  // in nF\n",
"format(7)\n",
"disp(c1,'Therefore, C1(in nF) =')\n",
"disp('For  f_r = 1.5 MHz')\n",
"c2=(1/(4*(%pi^2)*(30*10^-6)*((1.5*10^6)^2)))*10^12  // in pF\n",
"format(8)\n",
"disp(c2,'Therefore, C2(in pF) =')\n",
"disp('Hence C must be varied over 375.264 pF to 9.3816 nF, to achieve frequency variations')"
   ]
   }
,
{
		   "cell_type": "markdown",
		   "metadata": {},
		   "source": [
			"## Example 2.15: series_and_parallel_resonant_frequency.sce"
		   ]
		  },
  {
"cell_type": "code",
	   "execution_count": null,
	   "metadata": {
	    "collapsed": true
	   },
	   "outputs": [],
"source": [
"//Example 2.15\n",
"clc\n",
"fs=(1/(2*%pi*sqrt(0.4*0.085*10^-12)))*10^-6  // in MHz\n",
"format(6)\n",
"disp(fs,'(i)  f_s(in MHz) = 1 / 2*pi*sqrt(L*C) =')\n",
"ceq=0.085/1.085  // in pF\n",
"disp(ceq,'(ii)  C_eq(in pF) = C*C_M / C+C_M =')\n",
"fp=(1/(2*%pi*sqrt(0.4*0.078*10^-12)))*10^-6  // in MHz  (the answer in textbook is wrong)\n",
"disp(fp,'Therefore,  f_p(in MHz) = 1 / 2*pi*sqrt(L*C_eq) =')\n",
"inc=((0.899-0.856)/0.856)*100  // in percentage\n",
"disp(inc,'(iii)  %increase =')\n",
"q=(2*%pi*0.4*0.856*10^6)/(5*10^3)\n",
"format(8)\n",
"disp(q,'(iv)  Q = omega_s*L / R = 2*pi*f_s*L / R =')"
   ]
   }
,
{
		   "cell_type": "markdown",
		   "metadata": {},
		   "source": [
			"## Example 2.16: series_and_parallel_resonating_frequency.sce"
		   ]
		  },
  {
"cell_type": "code",
	   "execution_count": null,
	   "metadata": {
	    "collapsed": true
	   },
	   "outputs": [],
"source": [
"//Example 2.16\n",
"clc\n",
"disp('    C_M = 2 pF')\n",
"fs=(1/(2*%pi*sqrt(2*0.01*10^-12)))*10^-6  // in MHz\n",
"format(6)\n",
"disp(fs,'Now  f_s(in MHz) = 1 / 2*pi*sqrt(L*C) =')\n",
"ceq=(2*0.01*10^-24)/(2.01*10^-12)  // in F\n",
"format(9)\n",
"disp(ceq,'  C_eq(in F) = C_M*C / C_M+C =')\n",
"fp=(1/(2*%pi*sqrt(2*9.95*10^-15)))*10^-6  // in MHz\n",
"format(6)\n",
"disp(fp,'  f_p = 1 / 2*pi*sqrt(L*C_eq) =')\n",
"disp('So f_s and f_p values are almost same.')"
   ]
   }
,
{
		   "cell_type": "markdown",
		   "metadata": {},
		   "source": [
			"## Example 2.17: frequency_of_oscillations_and_min_value_of_hfe.sce"
		   ]
		  },
  {
"cell_type": "code",
	   "execution_count": null,
	   "metadata": {
	    "collapsed": true
	   },
	   "outputs": [],
"source": [
"//Example 2.17\n",
"clc\n",
"disp('R = 6 k-ohm,  C = 1500 pF,  R_C = 18 k-ohm')\n",
"k=18/6\n",
"disp(k,'Now    K = R_C / R =')\n",
"disp('Therefore,  f = 1 / 2*pi*R*C*sqrt(6+4K)')\n",
"f=(1/(2*%pi*(6*10^3)*(1500*10^-12)*sqrt(6+12)))*10^-3  // in kHZ\n",
"format(6)\n",
"disp(f,'  f(in kHz) =')\n",
"hfe=(4*3)+23+(29/3)\n",
"disp(hfe,'  (h_fe)min = 4K + 23 + 29/K =')"
   ]
   }
,
{
		   "cell_type": "markdown",
		   "metadata": {},
		   "source": [
			"## Example 2.18: R_and_hfe.sce"
		   ]
		  },
  {
"cell_type": "code",
	   "execution_count": null,
	   "metadata": {
	    "collapsed": true
	   },
	   "outputs": [],
"source": [
"//Example 2.18\n",
"clc\n",
"disp('Refering to equation(1) of section 4.5.3, the input impedance is given by,')\n",
"disp('R''_i = R1 || R2 || h_ie')\n",
"disp('Now  R1 = 25 k-ohm,  R2 = 47 k-ohm,  and  h_ie = 2 k-ohm')\n",
"format(7)\n",
"ri=(25*47*2)/((47*2)+(25*2)+(25*47))  // in k-ohm\n",
"disp(ri,'Therefore,  R''_i(in k-ohm) =')\n",
"disp('  K = R_C / R')\n",
"disp('Now  R_C = 10 k-ohm        ...given')\n",
"disp('Now  f = 1 / 2*pi*R*C*sqrt(6+4K)')\n",
"disp('Therefore,  R*sqrt(6+4K) = 31830.989')\n",
"disp('Now  K = R_C / R = 10*10^3 / R')\n",
"disp('Therefore,  R*sqrt(6+(40*10*10^3/R)) = 31830.989')\n",
"disp('Therefore,  R^2*(6+(40*10*10^3/R)) = (31830.989)^2')\n",
"R=poly(0,'R')\n",
"p1=6*R^2+(40*10^3)*R-(31830.989)^2\n",
"t1=roots(p1)\n",
"ans1=t1(1)\n",
"format(6)\n",
"disp((-ans1)*10^-3,'Therefore,  R(in k-ohm)=            Neglecting negative value')\n",
"k=10/16.74\n",
"format(7)\n",
"disp(k,'Therefore,  K = R_C / R =')\n",
"disp('Therefore,  h_fe >= 4K + 23 + 29/K')\n",
"hfe=(4*0.5973)+23+(29/0.5973)\n",
"format(6)\n",
"disp(hfe,'  h_fe >=')"
   ]
   }
,
{
		   "cell_type": "markdown",
		   "metadata": {},
		   "source": [
			"## Example 2.19: change_in_frequency_of_oscillations.sce"
		   ]
		  },
  {
"cell_type": "code",
	   "execution_count": null,
	   "metadata": {
	    "collapsed": true
	   },
	   "outputs": [],
"source": [
"//Example 2.19\n",
"clc\n",
"ceq=((0.02*12*10^-24)/(12.02*10^-12))*10^12  // in pF\n",
"format(8)\n",
"disp(ceq,'  C_eq(in pF) = C1*C2 / C1+C2 =')\n",
"fs=(1/(2*%pi*sqrt(50*0.02*10^-15)))*10^-6  // in MHz\n",
"format(7)\n",
"disp(fs,'Therefore,  f_s(in MHz) = 1 / 2*pi*sqrt(L*C1) =')\n",
"fp=(1/(2*%pi*sqrt(50*0.01996*10^-15)))*10^-6  // in MHz\n",
"format(7)\n",
"disp(fp,'Therefore,  f_p(in MHz) = 1 / 2*pi*sqrt(L*C_eq) =')\n",
"disp('Let C_s = 5 pF connected across the crystal')\n",
"c2=12+5\n",
"disp(c2,'Therefore,  C''2(in pF) = C2 + C_x =')\n",
"format(10)\n",
"ceq1=0.019976\n",
"disp(ceq1,'Therefore,  C''_eq(in pF) = C1*C''2 / C1+C''2 =')\n",
"fp1=5.03588\n",
"disp(fp1,'Therefore,  f''_p(in MHz) = 1 / 2*pi*sqrt(L*C_eq) =')\n",
"disp('New C_x = 6 pF is connected then,')\n",
"c21=12+6\n",
"disp(c21,'  C''''2(in pF) = C2 + C_x =')\n",
"ceq2=0.0199778\n",
"disp(ceq2,'Therefore,  C''''_eq(in pF) = C1*C''''2 / C1+C''''2 =')\n",
"fp2=5.035716\n",
"disp(fp2,'Therefore,  f''''_p(in MHz) = 1 / 2*pi*sqrt(L*C''''_eq) =')\n",
"c=(5.03588-5.035716)*10^6\n",
"disp(c,'Therefore,  Change(in Hz) = f''_p - f''''_p =')"
   ]
   }
,
{
		   "cell_type": "markdown",
		   "metadata": {},
		   "source": [
			"## Example 2.1: verify_barkhausen_criterion.sce"
		   ]
		  },
  {
"cell_type": "code",
	   "execution_count": null,
	   "metadata": {
	    "collapsed": true
	   },
	   "outputs": [],
"source": [
"//example 2.1\n",
"clc\n",
"disp('From the given information we can write,')\n",
"disp('    A = -16*10^6/j*omega  and  beta = 10^3/[2*10^3+j*omega]^2')\n",
"disp('To verify the Barkhausen condition means to verify whether |A*beta| = 1 at a frequency for which A*beta = 0 degree. Let us express, A*beta in its rectangluar form.')\n",
"disp('  A*beta = -16*10^6*10^3 / j*omega*[2*10^3+j*omega]^2 = -16*10^9 / j*omega*[4*10^6+4*10^3*j*omega+(j*omega)^2]')\n",
"disp('         = -16*10^9 / j*omega*[4*10^6+4*10^3*j*omega-omega^2]      as j*2 = -1')\n",
"disp('         = -16*10^9 / 4*10^6*j*omega+4*10^3*j^2*omega^2-j*omega^3]')\n",
"disp('         = -16*10^9 / j*omega*[4*10^6-omega^2]-[omega^2*4*10^3]')\n",
"disp('Rationalising the denominator function we get,')\n",
"disp('  A*beta = -16*10^9[-omega^2*4*10^3 - j*omega*[4*10^6-omega^2]] / [-[omega^2*4*10^3]-j*omega*[4*10^6-omega^2]]*[-omega^2*4*10^3 - j*omega*[4*10^6-omega^2]]')\n",
"disp('Using (a-b)(a+b) = a^2 - b^2 in the denominator,')\n",
"disp('  A*beta = 16*10^9[omega^2*4*10^3+j*omega*[4*10^6-omega^2]] / [-omega^2*4*10^3]^2 - [j*omega*[4*10^6-omega^2]^2')\n",
"disp('  A*beta = 16*10^9[omega^2*4*10^3+j*omega*[4*10^6-omega^2]] / 16*10^6*omega^4 + omega^2(4*10^6-omega^2)^2')\n",
"disp('Now to have A*beta = 0 degree, the imaginary part of A*beta must be zero. This is possible when,')\n",
"disp('Therefore,  omega*(4*10^6 - omega^2) = 0')\n",
"disp('Therefore,  omega = 0  or  4*10^6 - omega^2 = 0')\n",
"disp('Therefore,  omega^2 = 4*10^6          Neglecting zero value of frequency')\n",
"disp('Therefore,  omega = 2*10^3 rad/sec')\n",
"disp('At this frequency |A*beta| can be obtained as,')\n",
"disp('  |A*beta| = 16*10^9[4*10^3*omega^2] / 16*10^6*omega^4+omega^2[4*10^6-omega^2]^2       at omega = 2*10^3')\n",
"ab=(2.56*10^20)/(2.56*10^20)\n",
"disp(ab,'  |A*beta| =')\n",
"disp('Therefore,  At omega = 2*10^3 rad/sec, A*beta = 0 degree as imaginary part is zero while |A*beta| = 1. Thus Barkhausen Criterion is satisfied.')\n",
"disp('The frequency at which circuit will oscillate is the value of omega for which |A*beta|  = 1 and A*beta = 0 degree at the same time')\n",
"disp('i.e.      omega = 2*10^3  rad/sec')\n",
"disp('But       omega = 2*pi*f')\n",
"f=(2*10^3)/(2*%pi)  // in Hz\n",
"format(9)\n",
"disp(f,'Therefore,  f(in Hz) = omega / 2pi =')"
   ]
   }
,
{
		   "cell_type": "markdown",
		   "metadata": {},
		   "source": [
			"## Example 2.20: C_and_hfe.sce"
		   ]
		  },
  {
"cell_type": "code",
	   "execution_count": null,
	   "metadata": {
	    "collapsed": true
	   },
	   "outputs": [],
"source": [
"//Example 2.20\n",
"clc\n",
"ri=(22*68*2)/((68*2)+(22*2)+(22*68))\n",
"format(7)\n",
"disp(ri,'R''_i(in k-ohm) = R1 || R2 || h_fe =')  //answer in textbook is wrong\n",
"disp('Now  R''_i + R3 = R')\n",
"r3=6.8-1.8243\n",
"disp(r3,'Therefore,  R3(in k-ohm) = R - R''_i =')\n",
"k=20/6.8\n",
"disp(k,'K = R_C / R =')\n",
"disp('Therefore,  f = 1 / 2*pi*RC*sqrt(6+4K)')\n",
"c=(1/(2*%pi*6.8*50*sqrt(6+(4*2.9411))*10^6))*10^12\n",
"format(8)\n",
"disp(c,'Therefore,  C(in pF) =')\n",
"hfe=(4*2.9411)+23+(29/2.9411)\n",
"disp(hfe,'And  h_fe >= 4 K + 23 + 29/K >=')"
   ]
   }
,
{
		   "cell_type": "markdown",
		   "metadata": {},
		   "source": [
			"## Example 2.21: min_and_max_value_of_R2.sce"
		   ]
		  },
  {
"cell_type": "code",
	   "execution_count": null,
	   "metadata": {
	    "collapsed": true
	   },
	   "outputs": [],
"source": [
"//Example 2.21\n",
"clc\n",
"disp('The frequency of the oscillator is given by,')\n",
"disp('  f = 1 / 2*pi*sqrt(R1*R2*C1*C2)')\n",
"disp('For  f = 20 kHz,')\n",
"r2=(1/(4*(%pi^2)*((20*10^3)^2)*(10*10^3)*((0.001*10^-6)^2)))*10^-3\n",
"format(5)\n",
"disp(r2,'Therefore,  R2(in k-ohm) =')\n",
"disp('For  f = 70 kHz,')\n",
"r2=(1/(4*(%pi^2)*((70*10^3)^2)*(10*10^3)*((0.001*10^-6)^2)))*10^-3\n",
"format(6)\n",
"disp(r2,'Therefore,  R2(in k-ohm) =')\n",
"disp('So minimum value of R2 is 0.517 k-ohm while the maximum value of R2 is 6.33 k-ohm')"
   ]
   }
,
{
		   "cell_type": "markdown",
		   "metadata": {},
		   "source": [
			"## Example 2.22: gain_of_the_transistor.sce"
		   ]
		  },
  {
"cell_type": "code",
	   "execution_count": null,
	   "metadata": {
	    "collapsed": true
	   },
	   "outputs": [],
"source": [
"//Example 2.22\n",
"clc\n",
"disp('For a Hartley oscillator,')\n",
"disp('  f = 1 / 2*pi*sqrt(L_eq*C)        where L_eq = L1 + L2 + 2M')\n",
"leq=(1/(4*(%pi^2)*((168*10^3)^2)*(50*10^-12)))*10^3  // in mH\n",
"format(6)\n",
"disp(leq,'Therefore,  L_eq(in mH) =')\n",
"l2=((17.95*10^-3)-(15*10^-3)-(5*10^-6))*10^3  // in mH\n",
"disp(l2,'Therefore,  L2(in mH) =')\n",
"hfe=((15*10^-3)+(5*10^-6))/((2.945*10^-3)+(5*10^-6))\n",
"format(5)\n",
"disp(hfe,'Now    h_fe = L1+M / L2+M =')"
   ]
   }
,
{
		   "cell_type": "markdown",
		   "metadata": {},
		   "source": [
			"## Example 2.24: percentage_change_in_frequency.sce"
		   ]
		  },
  {
"cell_type": "code",
	   "execution_count": null,
	   "metadata": {
	    "collapsed": true
	   },
	   "outputs": [],
"source": [
"//Example 2.24\n",
"clc\n",
"disp('(i)  Assume one perticular coupling direction for which,')\n",
"disp('  L_eq = L1 + L2 + 2M = 0.25 mH')\n",
"format(8)\n",
"f=(1/(2*%pi*sqrt(0.25*100*10^-15)))*10^-6  // in MHz\n",
"disp(f,'Therefore,  f(in MHz) = 1 / 2*pi*sqrt(L_eq*C) =')\n",
"disp('Let the direction of coupling is reversed,')\n",
"disp('  L_eq = L1 + L2 - 2M = 0.15 mH')\n",
"fd=(1/(2*%pi*sqrt(0.15*100*10^-15)))*10^-6  // in MHz\n",
"format(7)\n",
"disp(fd,'Therefore,  f''(in MHz) = 1 / 2*pi*sqrt(L_eq*C) =')\n",
"pc=((1.2994-1.00658)/1.00658)*100  // in percentage\n",
"format(6)\n",
"disp(pc,'Therefore,  % change = f''-f/f * 100 =')\n",
"disp('(ii)  Let us assume direction of coupling such that,')\n",
"disp('  L_eq = L1 + L2 + 2M = 0.25 mH')\n",
"disp('   C_t = Trim capacitor = 100 pF')\n",
"disp('Therefore,  C_eq = C*C_t / C+C_t = 50 pF')\n",
"f1=(1/(2*%pi*sqrt(0.25*50*10^-15)))*10^-6  // in MHz\n",
"format(7)\n",
"disp(f1,'Therefore,  f = 1 / 2*pi*sqrt(L_eq*C_eq) =')\n",
"disp('If now direction of coupling is reversed,')\n",
"disp('  L_eq = L1 + L2 - 2M = 0.15 mH')\n",
"f2=(1/(2*%pi*sqrt(0.15*50*10^-15)))*10^-6  // in MHz\n",
"format(8)\n",
"disp(f2,'Therefore,  f'' = 1 / 2*pi*sqrt(L_eq*C_eq) =')\n",
"pc1=((1.83776-1.4235)/1.4235)*100\n",
"format(7)\n",
"disp(pc1,'Therefore,  % change = f''-f/f * 100 =')"
   ]
   }
,
{
		   "cell_type": "markdown",
		   "metadata": {},
		   "source": [
			"## Example 2.25: design_a_RC_phase_shift_oscillator.sce"
		   ]
		  },
  {
"cell_type": "code",
	   "execution_count": null,
	   "metadata": {
	    "collapsed": true
	   },
	   "outputs": [],
"source": [
"//Example 2.25\n",
"clc\n",
"disp('For RC phase shhift oscillator,')\n",
"disp('  h_fe = 4K + 23 + 29/K           ...given h_fe = 150')\n",
"disp('Therefore,  150 = 4K + 23 + 29/K')\n",
"disp('Therefore,  4K^2 - 127K + 29 = 0')\n",
"K=poly(0,'K')\n",
"p1=4*K^2-127*K+29\n",
"t1=roots(p1)\n",
"format(6)\n",
"disp(t1,'Therefore, K =')\n",
"disp('  f = 1 / 2*pi*R*C*sqrt(6+4K)        ...given f = 5 kHz')\n",
"disp('Therefore,Choose    C = 100 pF')\n",
"r=(1/(2*%pi*(1000*10^-12)*(5*10^3)*sqrt(6+(4*0.23))))*10^-3  // in k-ohm\n",
"format(3)\n",
"disp(r,'Therefore,  R(in k-ohm) =')\n",
"disp('  K = R_C / R  i.e.  R_C = KR = 2.7 k-ohm')\n",
"disp('Neglecting effect of biasing resistances assuming them to be large and selecting transistor with h_ie = 2 k-ohm')\n",
"disp('  R''_i = h_ie = 2 k-ohm')\n",
"disp('Therefore,Last resistance in phase network')\n",
"r3=12-2\n",
"disp(r3,'  R3 = R - R''_i =')\n",
"disp('Using the back to back connected zener diodes of 9.3 V (Vz) each at the output of emitter follower and using this at the output of the oscillator, the output amplitude can be controlled to 10 V i.e. 20 V peak to peak. The zener diode 9.3V and forward biased diode of 0.7 V gives total 10 V')\n",
"disp('The designed circuit is shown in fig.2.58')"
   ]
   }
,
{
		   "cell_type": "markdown",
		   "metadata": {},
		   "source": [
			"## Example 2.26: frequency_of_oscillations_and_feedback_voltage_and_C1.sce"
		   ]
		  },
  {
"cell_type": "code",
	   "execution_count": null,
	   "metadata": {
	    "collapsed": true
	   },
	   "outputs": [],
"source": [
"//Example 2.26\n",
"clc\n",
"disp('(1) f = 1 / 2*pi*sqrt(L*C_eq)')\n",
"ceq=(100*500)/600\n",
"format(7)\n",
"disp(ceq,'Where  C_eq(in pF) = C1*C2 / C1+C2 =')\n",
"f=(1/(2*%pi*sqrt(40*83.333*10^-15)))*10^-3\n",
"format(8)\n",
"disp(f,'f(in kHz) =')\n",
"disp('(2) The input voltage is not required for the oscillator. The feedback voltage, which is the part of the output voltage is enough to drive the oscillator')\n",
"disp('V0 = 10 V')\n",
"disp('For Colpitts oscillator, gain = C2 / C1')\n",
"gain=500/100\n",
"disp(gain,'Therefore,  Gain =')\n",
"fv=10/5\n",
"disp(fv,'Therefore,  Feedback voltage(in V) = V0 / Gain =')\n",
"disp('(3) Minimum gain = C2/C1 = 5')\n",
"disp('h_fe(min) = C2/C1 = 5')\n",
"disp('(4) Gain = 10 = C2/C1')\n",
"c1=500/10\n",
"disp(c1,'Therefore,  C1(in pF) =')\n",
"disp('(5) For C1 = 50 pF  and  C2 = 500 pF')\n",
"ceq=(50*500)/550\n",
"format(8)\n",
"disp(ceq,'Where  C_eq(in pF) = C1*C2 / C1+C2 =')\n",
"f=(1/(2*%pi*sqrt(40*45.4545*10^-15)))*10^-3\n",
"disp(f,'f(in kHz) = 1 / 2*pi*sqrt(L*C_eq) =')"
   ]
   }
,
{
		   "cell_type": "markdown",
		   "metadata": {},
		   "source": [
			"## Example 2.27: design_colpitts_oscillator.sce"
		   ]
		  },
  {
"cell_type": "code",
	   "execution_count": null,
	   "metadata": {
	    "collapsed": true
	   },
	   "outputs": [],
"source": [
"//Example 2.27\n",
"clc\n",
"disp('The frequency required is, f = 1 MHz and for FET, u = 20')\n",
"disp('Now  u = C2/C1  for oscillations')\n",
"disp('Therefore,  20 = C2/C1')\n",
"disp('Therefore,  C2 = 20*C1       ....(1)')\n",
"disp('Let  C1 = 0.01 uF  hence  C2 = 0.2 uF')\n",
"ceq=((0.01*0.2)/(0.21))*10^3\n",
"format(7)\n",
"disp(ceq,'Therefore,  C_eq(in nF) = C1*C2 / C1+C2 =')\n",
"disp('Now  f = 1 / 2*pi*sqrt(L*C_eq)')\n",
"l=(1/(((2*%pi*1*10^6)^2)*(9.5238*10^-9)))*10^6\n",
"format(5)\n",
"disp(l,'Therefore,  L(in uH) =')\n",
"disp('The baising resistances can be selected as,')\n",
"disp('R1 = 12 M-ohm  and  R2 = 8 M-ohm')\n",
"disp('These resistances must be large')\n",
"disp('The designed circuit is shown in the fig 2.59')"
   ]
   }
,
{
		   "cell_type": "markdown",
		   "metadata": {},
		   "source": [
			"## Example 2.28: frequency_of_oscillations.sce"
		   ]
		  },
  {
"cell_type": "code",
	   "execution_count": null,
	   "metadata": {
	    "collapsed": true
	   },
	   "outputs": [],
"source": [
"//Example 2.28\n",
"clc\n",
"leq=500+5000+600\n",
"format(5)\n",
"disp(leq,'L_eq(in uH) = L1 + L2 + 2M =')\n",
"f=(1/(2*%pi*sqrt(150*6100*10^-18)))*10^-3\n",
"format(9)\n",
"disp(f,'f(in kHz) = 1 / 2*pi*sqrt(C*L_eq) =')"
   ]
   }
,
{
		   "cell_type": "markdown",
		   "metadata": {},
		   "source": [
			"## Example 2.29: resonating_frequencies.sce"
		   ]
		  },
  {
"cell_type": "code",
	   "execution_count": null,
	   "metadata": {
	    "collapsed": true
	   },
	   "outputs": [],
"source": [
"//Example 2.29\n",
"clc\n",
"disp('L_s = 0.8 H,  C_s = 0.08 pF,  R_s = 5 k-ohm,  C_M = 1 pF')\n",
"fs=(1/(2*%pi*sqrt(0.8*0.08*10^-12)))*10^-3\n",
"format(9)\n",
"disp(fs,'f_s(in kHz) = 1 / 2*pi*sqrt(C_s*L_s) =')\n",
"ceq=(0.08*10^-12)/1.08\n",
"format(11)\n",
"disp(ceq,'C_eq(in F) = C_M*C_s / C_M+C_s =')\n",
"fp=(1/(2*%pi*sqrt(0.8*7.4074*10^-14)))*10^-3\n",
"format(9)\n",
"disp(fp,'Therefore,  f_p(in kHz) = 1 / 2*pi*sqrt(C*L_eq) =')"
   ]
   }
,
{
		   "cell_type": "markdown",
		   "metadata": {},
		   "source": [
			"## Example 2.2: C_and_hfe.sce"
		   ]
		  },
  {
"cell_type": "code",
	   "execution_count": null,
	   "metadata": {
	    "collapsed": true
	   },
	   "outputs": [],
"source": [
"//Example 2.2\n",
"clc\n",
"disp('Refering to equation(1),')\n",
"ri=(25*57*1.8)/((57*1.8)+(25*1.8)+(25*57))  // in k-ohm\n",
"format(6)\n",
"disp(ri,'  R''_i(in k-ohm) = R1 || R2 || h_ie =')\n",
"disp('Now  R''_i + R3 = R')\n",
"r3=7.1-1.631  // in k-ohm\n",
"format(5)\n",
"disp(r3,'Therefore,  R3(in k-ohm) = R - R''_i =')\n",
"k=20/7.1\n",
"format(6)\n",
"disp(k,'  K = R_C / R =')\n",
"disp('Now  f = 1 / 2*pi*R*C*sqrt(6+4K)')\n",
"c=(1/(sqrt(6+(4*2.816))*2*%pi*7.1*10*10^6))*10^12  // in pF\n",
"format(8)\n",
"disp(c,'Therefore,  C(in pF) =')\n",
"disp('  h_fe >= 4K + 23 + 29/K')\n",
"hfe=(4*2.816)+23+(29/2.816)\n",
"format(7)\n",
"disp(hfe,'  h_fe >=')"
   ]
   }
,
{
		   "cell_type": "markdown",
		   "metadata": {},
		   "source": [
			"## Example 2.31: determine_percentage.sce"
		   ]
		  },
  {
"cell_type": "code",
	   "execution_count": null,
	   "metadata": {
	    "collapsed": true
	   },
	   "outputs": [],
"source": [
"//Example 2.31\n",
"clc\n",
"disp('The series and parallel resonating frequencies are,')\n",
"disp('f_s = 1 / 2*pi*sqrt(C*L)  while  f_p = 1 / 2*pi*sqrt(L*C_eq)')\n",
"disp('f_p/f_s = 1/2*pi*sqrt(L*C_eq) * 2*pi*sqrt(LC) = sqrt(c/C_eq) but C_eq = C*C_M/C+C_M')\n",
"fp=sqrt(1+(0.04/2))\n",
"format(8)\n",
"disp(fp,'f_p/f_s = sqrt(C/(C*C_M/C+C_M)) = sqrt(C*(C+C_M)/C*C_M) = sqrt(1+(C/C_M)) =')\n",
"disp('f_p = 1.00995*f_s')\n",
"inc=0.00995*100\n",
"disp(inc,'Therefore,  %increase = (1.00995*f_s-f_s / f_s)*100 =')"
   ]
   }
,
{
		   "cell_type": "markdown",
		   "metadata": {},
		   "source": [
			"## Example 2.32: operating_frequency_and_feedback_fraction.sce"
		   ]
		  },
  {
"cell_type": "code",
	   "execution_count": null,
	   "metadata": {
	    "collapsed": true
	   },
	   "outputs": [],
"source": [
"//Example 2.32\n",
"clc\n",
"disp('C = 20 pF,  L2 = 1000 uH,  L1 = 100 uH,  M = 20 uH')\n",
"leq=100+1000+40\n",
"format(5)\n",
"disp(leq,'Therefore,  L_eq(in uH) = L1 + L2 + 2M =')\n",
"f=(1/(2*%pi*sqrt(1140*20*10^-18)))*10^-6\n",
"format(6)\n",
"disp(f,'Therefore,  f(in MHz) = 1 / 2*pi*sqrt(L_eq*C) =')\n",
"disp('The feedback fraction beta is given by,')\n",
"b=100/1100\n",
"format(7)\n",
"disp(b,'beta = V_f/V0 = X_L1 / X_L1+X_L2 = L1 / L1+L2 =')\n",
"disp('It is a Hartley oscillator')"
   ]
   }
,
{
		   "cell_type": "markdown",
		   "metadata": {},
		   "source": [
			"## Example 2.33: value_of_C_and_RD.sce"
		   ]
		  },
  {
"cell_type": "code",
	   "execution_count": null,
	   "metadata": {
	    "collapsed": true
	   },
	   "outputs": [],
"source": [
"//Example 2.33\n",
"clc\n",
"disp('Using the expression of the frequency,')\n",
"disp('f = 1 / 2*pi*RC*sqrt(6)')\n",
"c=(1/(2*%pi*10*sqrt(6)*10^6))*10^9\n",
"format(7)\n",
"disp(c,'Therefore,  C(in nF) =')\n",
"disp('For FET phase shift oscillator,')\n",
"disp('|A| = g_m*R_L  and  |A| >= 29')\n",
"rl=(29/5000)*10^3\n",
"format(4)\n",
"disp(rl,'Therefore,  g_m*R_L >= 29  i.e.  R_L(in k-ohm) >=')\n",
"disp('With R_L = 5.8 k-ohm,')\n",
"disp('R_L = R_D*r_d / R_D+r_d')\n",
"rd=40/5.8965\n",
"format(7)\n",
"disp(rd,'Therefore,  R_D(in k-ohm) =')"
   ]
   }
,
{
		   "cell_type": "markdown",
		   "metadata": {},
		   "source": [
			"## Example 2.34: value_of_inductance.sce"
		   ]
		  },
  {
"cell_type": "code",
	   "execution_count": null,
	   "metadata": {
	    "collapsed": true
	   },
	   "outputs": [],
"source": [
"//Example 2.34\n",
"clc\n",
"disp('The name of the oscillator is Pierce oscillator')\n",
"disp('C1 = 1000 pF,  C2 = 100 pF,  f_s = 1 MHz')\n",
"ceq=(1000*100*10^-12)/1100\n",
"format(11)\n",
"disp(ceq,'C_eq(in F) = C1*C2 / C1+C2 =')\n",
"disp('At resonance, X_L  = X_Ceq  i.e.  2*pi*f*L = 1 / 2*pi*f*C_eq')\n",
"l=(1/(((2*%pi*10^6)^2)*(90.909*10^-12)))*10^6\n",
"format(4)\n",
"disp(l,'Therefore,  L(in uH) = 1/(2*pi*f)^2*C_eq =')\n",
"disp('The fig 2.61(a) shows the electrical equivalent of the crystal')\n",
"disp('At series resonance,')\n",
"disp('X_L = X_C for crystal')\n",
"disp('Therefore,  C = 90.909 pF for crystal')\n",
"disp('The mounting capacitance is about 1 to 2 pF')"
   ]
   }
,
{
		   "cell_type": "markdown",
		   "metadata": {},
		   "source": [
			"## Example 2.36: design_phase_shift_oscillator.sce"
		   ]
		  },
  {
"cell_type": "code",
	   "execution_count": null,
	   "metadata": {
	    "collapsed": true
	   },
	   "outputs": [],
"source": [
"//Example 2.36\n",
"clc\n",
"disp('f = 2 kHz')\n",
"disp('f = 1/ 2*pi*R*c*sqrt(6)              ...For phase shift oscillator')\n",
"disp('Choose  C = 1 nF')\n",
"r=(1/(2*%pi*2*sqrt(6)*10^-6))*10^-3\n",
"format(7)\n",
"disp(r,'Therefore,  r(in k-ohm) =')\n",
"disp('Select FET with g_m = 5000 us and r_d = 50 k-ohm')\n",
"disp('For phase shift oscillator, |A| >= 29 and |A| = g_m*R_L')\n",
"disp('Therefore,  g_m*R_L >= 29')\n",
"rl=(29/(5000*10^-6))*10^-3\n",
"disp(rl,'i.e.  R_L(in k-ohm) >= 29/g_m >=')\n",
"disp('Select  R_L = 6.8 k-ohm')\n",
"disp('But  R_L = R_D*r_d / R_D+r_d')\n",
"rd=7.87\n",
"disp(rd,'Therefore,  R_D(in k-ohm) =')"
   ]
   }
,
{
		   "cell_type": "markdown",
		   "metadata": {},
		   "source": [
			"## Example 2.3: frequency_of_oscillations.sce"
		   ]
		  },
  {
"cell_type": "code",
	   "execution_count": null,
	   "metadata": {
	    "collapsed": true
	   },
	   "outputs": [],
"source": [
"//Example 2.3\n",
"clc\n",
"disp('The given values are, R = 4.7 k-ohm and C = 0.47 uF')\n",
"f=1/(2*%pi*sqrt(6)*(4.7*10^3)*(0.47*10^-6))  // in Hz\n",
"format(7)\n",
"disp(f,'  f(in Hz) = 1 / 2*pi*sqrt(6)*R*C =')"
   ]
   }
,
{
		   "cell_type": "markdown",
		   "metadata": {},
		   "source": [
			"## Example 2.4: R_and_C.sce"
		   ]
		  },
  {
"cell_type": "code",
	   "execution_count": null,
	   "metadata": {
	    "collapsed": true
	   },
	   "outputs": [],
"source": [
"//Example 2.4\n",
"clc\n",
"disp('f = 1 kHz')\n",
"disp('Now  f = 1 / 2*pi*sqrt(6)*R*C')\n",
"disp('Choose  C = 0.1 uF')\n",
"r=1/(sqrt(6)*2*%pi*0.1*1*10^-3)  // in ohm\n",
"format(8)\n",
"disp(r,'Therefore,  R(in ohm) = ')\n",
"disp('Choose  R = 680 ohm    standard value')"
   ]
   }
,
{
		   "cell_type": "markdown",
		   "metadata": {},
		   "source": [
			"## Example 2.5: C_and_RD.sce"
		   ]
		  },
  {
"cell_type": "code",
	   "execution_count": null,
	   "metadata": {
	    "collapsed": true
	   },
	   "outputs": [],
"source": [
"//Example 2.5\n",
"clc\n",
"disp('Using the expression for the frequency')\n",
"disp('Now,  f = 1 / 2*pi*R*C*sqrt(6)')\n",
"f=(1/(sqrt(6)*2*%pi*9.7*5*10^6))*10^9  // in nF\n",
"format(5)\n",
"disp(f,'Therefore,  C(in nF) =')\n",
"disp('Now using the equation(27)')\n",
"disp('  |A| = g_m * R_L')\n",
"disp('Therefore,  |A| >= 29')\n",
"disp('Therefore,  g_m * R_L >= 29')\n",
"rl=(29/(5000*10^-6))*10^-3  // in k-ohm\n",
"format(4)\n",
"disp(rl,'Therefore,  R_L(in k-ohm) >= 29 / g_m =')\n",
"disp('  R_L = R_D*r_d / R_D+r_d')\n",
"rd=(40)/4.8823\n",
"format(5)\n",
"disp(rd,'  Therefore,  R_D(in k-ohm) = ')\n",
"disp('While for minimum value of R_L = 5.8 k-ohm')\n",
"disp('                           R_D = 6.78 k-ohm')"
   ]
   }
,
{
		   "cell_type": "markdown",
		   "metadata": {},
		   "source": [
			"## Example 2.6: frequency_of_oscillator.sce"
		   ]
		  },
  {
"cell_type": "code",
	   "execution_count": null,
	   "metadata": {
	    "collapsed": true
	   },
	   "outputs": [],
"source": [
"//exmaple 2.6\n",
"clc\n",
"disp('The circuit is Wien bridge oscillator using op-amp. The gain of the op-amp is')\n",
"a=1+3\n",
"disp(a,'A = 1 + R3/R4 =')\n",
"disp('So  A > 3')\n",
"disp('This satisfies the required oscillating condition. The feedback is given to non-inverting terminal ensuring the zero phase shift. Hence the circuit will work as the oscillator.')\n",
"f=1/(2*%pi*5.1*0.001)\n",
"format(8)\n",
"disp(f,'f(in kHz) = 1 / 2*pi*R*C =')\n",
"disp('This will be the frequency of oscillations')"
   ]
   }
,
{
		   "cell_type": "markdown",
		   "metadata": {},
		   "source": [
			"## Example 2.7: min_and_max_R2.sce"
		   ]
		  },
  {
"cell_type": "code",
	   "execution_count": null,
	   "metadata": {
	    "collapsed": true
	   },
	   "outputs": [],
"source": [
"//Example 2.7\n",
"clc\n",
"disp('The frequency of the oscillator is given by,')\n",
"disp('  f = 1 / 2*pi*sqrt(R1*R2*C1*C2)')\n",
"disp('For    f = 10 kHz,')\n",
"r2=(1/(4*(%pi^2)*(100*10^6)*(10*10^3)*(0.001*10^-12)))  // in k-ohm\n",
"format(6)\n",
"disp(r2,'Therefore,  R2(in k-ohm) =')\n",
"disp('For    f = 50 kHz,')\n",
"r2=(1/(4*(%pi^2)*(2500*10^6)*(10*10^3)*(0.001*10^-12)))  // in k-ohm\n",
"format(6)\n",
"disp(r2,'Therefore,  R2(in k-ohm) =')\n",
"disp('So minimum value of R2 is 1.013 k-ohm while the maximum value of R2 is 25.33 k-ohm')"
   ]
   }
,
{
		   "cell_type": "markdown",
		   "metadata": {},
		   "source": [
			"## Example 2.8: range_over_which_capacitor_is_varied.sce"
		   ]
		  },
  {
"cell_type": "code",
	   "execution_count": null,
	   "metadata": {
	    "collapsed": true
	   },
	   "outputs": [],
"source": [
"//Example 2.8\n",
"clc\n",
"disp('The frequency is given by,')\n",
"disp('  f = 1 / 2*pi*sqrt(C*L_eq)')\n",
"leq=(2*10^-3)+(20*10^-6)\n",
"format(8)\n",
"disp(leq,'where  L_eq(in kHz) = L1 + L2 =')\n",
"disp('For  f = f_max = 2050 kHz')\n",
"format(5)\n",
"c=(1/(4*(%pi^2)*((2050*10^3)^2)*0.00202))*10^12  // in pF\n",
"disp(c,'Therefore,  C(in pF) =')\n",
"disp('For  f = f_min = 950 kHz')\n",
"c=(1/(4*(%pi^2)*((950*10^3)^2)*0.00202))*10^12  // in pF\n",
"format(6)\n",
"disp(c,'Therefore,  C(in pF) =')\n",
"disp('Hence C must be varied from 2.98 pF to 13.89 pF, to get the required frequency variation.')"
   ]
   }
,
{
		   "cell_type": "markdown",
		   "metadata": {},
		   "source": [
			"## Example 2.9: frequency_of_oscillations.sce"
		   ]
		  },
  {
"cell_type": "code",
	   "execution_count": null,
	   "metadata": {
	    "collapsed": true
	   },
	   "outputs": [],
"source": [
"//Example 2.9\n",
"clc\n",
"disp('The given values are,')\n",
"disp('  L1 = 0.5 mH,  L2 = 1 mH,  C = 0.2 uF')\n",
"disp('Now  f = 1 / 2*pi*sqrt(C*L_eq)')\n",
"leq=0.5+1  // in mH\n",
"disp(leq,'and  L_eq(in mH) = L1 + L2 =')\n",
"f=(1/(2*%pi*sqrt(1.5*0.2*10^-9)))*10^-3  // in kHz\n",
"format(5)\n",
"disp(f,'Therefore,  f(in kHz) =')"
   ]
   }
],
"metadata": {
		  "kernelspec": {
		   "display_name": "Scilab",
		   "language": "scilab",
		   "name": "scilab"
		  },
		  "language_info": {
		   "file_extension": ".sce",
		   "help_links": [
			{
			 "text": "MetaKernel Magics",
			 "url": "https://github.com/calysto/metakernel/blob/master/metakernel/magics/README.md"
			}
		   ],
		   "mimetype": "text/x-octave",
		   "name": "scilab",
		   "version": "0.7.1"
		  }
		 },
		 "nbformat": 4,
		 "nbformat_minor": 0
}
