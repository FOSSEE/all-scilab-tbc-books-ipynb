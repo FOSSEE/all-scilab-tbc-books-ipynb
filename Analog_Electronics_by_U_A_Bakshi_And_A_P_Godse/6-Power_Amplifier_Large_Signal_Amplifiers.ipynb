{
"cells": [
 {
		   "cell_type": "markdown",
	   "metadata": {},
	   "source": [
       "# Chapter 6: Power Amplifier Large Signal Amplifiers"
	   ]
	},
{
		   "cell_type": "markdown",
		   "metadata": {},
		   "source": [
			"## Example 6.12: Pac_and_PD_and_efficiency.sce"
		   ]
		  },
  {
"cell_type": "code",
	   "execution_count": null,
	   "metadata": {
	    "collapsed": true
	   },
	   "outputs": [],
"source": [
"//Example 6.12\n",
"clc\n",
"disp('R_L = 8 ohm, V_CC = +-12 V hence dual supply version')\n",
"pac=0.5*(12^2/8)\n",
"format(2)\n",
"disp(pac,'(1)  (P_ac)_max(in W) = 1/2 * V_CC^2/R_L =')\n",
"disp('(2)  P_DC = V_CC*I_DC  but I_DC = 2*I_m / pi')\n",
"disp('          = V_CC * (2*I_m/pi)')\n",
"disp('Now  R_L = V_m/I_m i.e. I_m = V_m/R_L and V_m = V_CC')\n",
"pdc=(12^2*2)/(8*%pi)\n",
"format(8)\n",
"disp(pdc,'Therefore,  P_DC(in W) = V_CC * 2 * V_CC/R_L * 1/pi =')\n",
"pdt=11.4591-9\n",
"disp(pdt,'Therefore,  Total P_D(in W) = P_DC - P_ac =')\n",
"pd=2.4591/2\n",
"format(7)\n",
"disp(pd,'Therefore,  P_D per transistor(in W) =')\n",
"n=900/11.4591\n",
"format(5)\n",
"disp(n,'(3)  %eta(in percentage) = P_ac/P_DC * 100 =')"
   ]
   }
,
{
		   "cell_type": "markdown",
		   "metadata": {},
		   "source": [
			"## Example 6.13: find_dc_power_developed.sce"
		   ]
		  },
  {
"cell_type": "code",
	   "execution_count": null,
	   "metadata": {
	    "collapsed": true
	   },
	   "outputs": [],
"source": [
"//example6.13\n",
"clc\n",
"disp('V_CC=10V ,R_L=5 ohm')\n",
"p=100/10\n",
"disp(p,'i) (P_ac)_max[in W]= (V_CC^2)/(2*R_L)=(10^2)/(2*5)=')\n",
"disp('ii) To decide Power rating of transistors means to find (P_D)_max')\n",
"v=(2*10)/(%pi)\n",
"disp(v,'V_m(in V)=')\n",
"disp('Now, R_L=(V_m)/(I_m)')\n",
"i=6.3662/5 \n",
"disp(i,'Therefore (I_m)[in A]=')\n",
"disp('Therefore (P_DC)=(V_CC)*(I_DC)=(V_CC)*(2*I_m)/pi    (I_DC)=(2*I_m)/pi')\n",
"p=(10*2*1.2732)/(%pi)\n",
"disp(p,' =(10*2*1.2732)/(pi) =')\n",
"p=(6.3662*1.2732)/2\n",
"disp(p,'and  (P_ac)[in W]=(V_m*I_m)/2=')\n",
"p=8.1056-4.5027\n",
"disp(p,'(P_D)_max[in W]= (P_DC)-(P_ac)=')\n",
"p=4.0528/2\n",
"disp(p,'Therefore P_D rating fora each transistor =(P_D)_max/2=')\n",
"disp('iii) For (P_ac)_max, V_m=V_CC=10 V')\n",
"i=10/5\n",
"disp(i,'I_m(in A)=(V_m)/R_L=')\n",
"p=(10*2*2)/%pi\n",
"disp(p,'P_DC(in W)=')"
   ]
   }
,
{
		   "cell_type": "markdown",
		   "metadata": {},
		   "source": [
			"## Example 6.15: power_dissipated.sce"
		   ]
		  },
  {
"cell_type": "code",
	   "execution_count": null,
	   "metadata": {
	    "collapsed": true
	   },
	   "outputs": [],
"source": [
"//Example 6.15\n",
"clc\n",
"disp('V_CC = 20 V,  R_L = 4 ohm')\n",
"vm=(2*20)/%pi\n",
"format(8)\n",
"disp(vm,'For (P_d)max,  V_m(in V) = 2/pi * V_CC = ')\n",
"disp('R_L = V_m / I_m')\n",
"im=12.7324/4\n",
"format(6)\n",
"disp(im,'Therefore,  I_m(in A) = V_m / R_L =')\n",
"idc=(2*3.183)/%pi\n",
"format(7)\n",
"disp(idc,'Therefore,  I_dc(in A) = 2*I_m / pi =')\n",
"pac=(0.5*12.7324^2)/4\n",
"format(8)\n",
"disp(pac,'Therefore,  P_ac(in W) = 1/2 * V_m^2/R_L =')\n",
"pdc=20*2.0254\n",
"format(7)\n",
"disp(pdc,'and  P_dc(in W) = V_CC * I_DC =')\n",
"pdm=40.508-20.2542\n",
"format(8)\n",
"disp(pdm,'Therefore,  Total (P_d)max(in W) = P_dc - P_ac =')\n",
"pdma=20.2538/2\n",
"disp(pdma,'Therefore,  (P_d)max(in W) per transistor =')"
   ]
   }
,
{
		   "cell_type": "markdown",
		   "metadata": {},
		   "source": [
			"## Example 6.16: find_turns_ratio.sce"
		   ]
		  },
  {
"cell_type": "code",
	   "execution_count": null,
	   "metadata": {
	    "collapsed": true
	   },
	   "outputs": [],
"source": [
"//example6.16\n",
"clc\n",
"disp('For a given transistor,')\n",
"disp('Maximum collector current =I_cm =1A')\n",
"disp('Maximum power dissipation =P_d=10W')\n",
"disp('Maximum V_CEO =40V')\n",
"disp('For maximum output power,')\n",
"disp('I_cm=2*I_CQ')\n",
"i=1/2\n",
"disp(i,'I_CQ=1/2=')\n",
"disp('and V_CEO=2*V_CC')\n",
"v=40/2\n",
"disp(v,'V_CC(in V)=V_CEO/2=')\n",
"disp('and  V_cc=V_m=20V for (P_ac)_max')\n",
"disp('(P_ac)_max=(V_cc^2)/(2*R_L)')\n",
"disp('R''_L=(V_m)/I_m and I_m=I_CQ=0.5 A')\n",
"r=20/0.5\n",
"disp(r,'R''_L(in ohm)=')\n",
"p=(20^2)/80\n",
"disp(p,'(P_ac)_max(in W)=(20^2)/(2*40)=')\n",
"disp('Now, R''_L=R_L/n^2')\n",
"n=sqrt(0.0625)\n",
"disp(n,'n=N2/N1=')\n",
"n=1/0.25\n",
"disp(n,'Therefore N1/N2=1/n=')\n",
"disp('Hence the turns ratio of output transformer is 4:1')"
   ]
   }
,
{
		   "cell_type": "markdown",
		   "metadata": {},
		   "source": [
			"## Example 6.19: find_efficiency.sce"
		   ]
		  },
  {
"cell_type": "code",
	   "execution_count": null,
	   "metadata": {
	    "collapsed": true
	   },
	   "outputs": [],
"source": [
"//example6.19\n",
"clc\n",
"disp('Using equation (2) from section 6.7, we can determine I_BQ.')\n",
"i=(18-0.7)/(1.2*10^3)\n",
"format(10)\n",
"disp(i,'I_BQ(in A)=')\n",
"i=40*14.4167\n",
"format(7)\n",
"disp(i,'Now (I_CQ)[in mA]=(beta*I_BQ)=')\n",
"v=18-(576.67*16*10^-3)\n",
"disp(v,'And (V_CEQ)[in V]=(V_CC)-(I_CQ*R_L)=')\n",
"p=18*576.67\n",
"disp(p,'So  P_dc(in W)=(V_CC)*(I_CQ)=')\n",
"disp('This is the input power.')\n",
"disp('Now input a.c. voltage causes a base current of 5mA rms')\n",
"disp('Therefore (I_b)_rms=5 mA')\n",
"i=40*5\n",
"disp(i,'Therefore i_c_rms(in mA)=40*5=')\n",
"disp('This is nothing but the output collector current,rms value I_rms')\n",
"disp('Therefore I_rms = 200mA')\n",
"disp('Using equation (13) from section 6.8, we can write,')\n",
"p=16*(200*10^-3)^2\n",
"disp(p,'P_ac(in W)=(I_rms^2)^R_L=')\n",
"disp('This is the power delivered to the load.')\n",
"disp('Hence the efficiency of the amplifier is,')\n",
"n=(64000*10^-3)/10.38\n",
"disp(n,'%eta=(P_ac*100)/P_dc= ')"
   ]
   }
,
{
		   "cell_type": "markdown",
		   "metadata": {},
		   "source": [
			"## Example 6.1: ICQ_and_VCEQ_and_PDC_and_Pac_and_efficency.sce"
		   ]
		  },
  {
"cell_type": "code",
	   "execution_count": null,
	   "metadata": {
	    "collapsed": true
	   },
	   "outputs": [],
"source": [
"//Example 6.1\n",
"clc\n",
"ibq=(20-0.7)/1.5\n",
"format(6)\n",
"disp(ibq,'(i) I_BQ(in mA) = V_CC-V_BE / R_B =')\n",
"icq=50*12.87\n",
"format(7)\n",
"disp(icq,'I_CQ(in mA) = beta * I_BQ =')\n",
"disp('(ii) V_CC = I_CQ*R_L + V_CEQ')\n",
"vceq=20-(643.5*16*10^-3)\n",
"format(5)\n",
"disp(vceq,'Therefore,  V_CEQ(in V) = V_CC - I_CQ*R_L =')\n",
"format(6)\n",
"pdc=20*643.5*10^-3\n",
"disp(pdc,'(iii) P_DC(in W) = V_CC * I_CQ =')\n",
"disp('(iv) P_ac Peak current i_b = 9 mA')\n",
"ic=50*9\n",
"format(4)\n",
"disp(ic,'i_c(in mA) = beta * i_b =')\n",
"icm=450/sqrt(2)\n",
"format(8)\n",
"disp(icm,'Therefore,  i_c(rms) = I_rms(in mA) = i_c(peak) / sqrt(2) =')\n",
"pac=318.19^2*16*10^-6\n",
"format(7)\n",
"disp(pac,'Therefore,  P_ac(in W) = (I_rms)^2 * R_L =')\n",
"n=(1.619*100)/12.87\n",
"disp(n,'(v) Efficiency eta(in percentage) = P_ac/P_DC * 100 =')"
   ]
   }
,
{
		   "cell_type": "markdown",
		   "metadata": {},
		   "source": [
			"## Example 6.20: base_current_and_power_delivered_and_efficiency.sce"
		   ]
		  },
  {
"cell_type": "code",
	   "execution_count": null,
	   "metadata": {
	    "collapsed": true
	   },
	   "outputs": [],
"source": [
"//Example 6.20\n",
"clc\n",
"disp('V_CC = 20 V,  R_L = 20 ohm, turns ratio 1.58:1')\n",
"n=1/1.58\n",
"format(7)\n",
"disp(n,'  n = 1/1.58 = ')\n",
"rl=20/0.6329^2\n",
"disp(rl,'Therefore,  R''_L(in ohm) = R_L / n^2 =')\n",
"disp('(i) For maximum possible peak to peak output voltage, the power output is also maximum possible. For this condition the slope of the a.c. load line can be expressed as')\n",
"disp('R''_L = V_m/I_m = V_CC/I_CQ')\n",
"icq=20/49.928\n",
"format(4)\n",
"disp(icq,'Therefore,  I_CQ(in A) =')\n",
"ibq=0.4/40\n",
"format(5)\n",
"disp(ibq,'Therefore,  I_BQ(in A) = I_CQ/beta =')\n",
"disp('This is the required value of the base current')\n",
"disp('(ii)  P_ac = I_Irms^2 * R''_L')\n",
"disp('But for maximum power output condition,')\n",
"irms=0.4/sqrt(2)\n",
"format(8)\n",
"disp(irms,'I_Irms(in A) = I_Im/sqrt(2) = I_CQ/sqrt(2) =')\n",
"pac=49.928*0.2828^2\n",
"format(2)\n",
"disp(pac,'Therefore,  P_ac(in W) =')\n",
"disp('(iii)  %eta = P_ac/P_DC * 100')\n",
"pdc=20*0.4\n",
"disp(pdc,'Now  P_DC(in W) = V_CC * I_CQ =')\n",
"eta=400/8\n",
"format(3)\n",
"disp(eta,'%eta(in percentage) =')"
   ]
   }
,
{
		   "cell_type": "markdown",
		   "metadata": {},
		   "source": [
			"## Example 6.21: value_of_Vcc.sce"
		   ]
		  },
  {
"cell_type": "code",
	   "execution_count": null,
	   "metadata": {
	    "collapsed": true
	   },
	   "outputs": [],
"source": [
"//Example 6.21\n",
"clc\n",
"disp('R_L = 8 ohm,  P_ac(max) = 40 W')\n",
"disp('2*N1 = 160,  N2 = 40')\n",
"disp('N1 = 80')\n",
"n=40/80\n",
"format(4)\n",
"disp(n,'n = N2/N1 =')\n",
"rl=8/0.5^2\n",
"disp(rl,'Therefore,  R''_L(in ohm) = R_L / n^2 =')\n",
"disp('Under maximum condition, V_CC = V_m')\n",
"disp('Therefore,  P_ac(max) = 1/2 * V_CC^2/R''_L')\n",
"vcc=sqrt(40*2*32)\n",
"format(6)\n",
"disp(vcc,'Therefore,  V_CC(in V) =')\n",
"disp('This is the required value of V_CC')"
   ]
   }
,
{
		   "cell_type": "markdown",
		   "metadata": {},
		   "source": [
			"## Example 6.22: input_and_output_power_and_efficiency.sce"
		   ]
		  },
  {
"cell_type": "code",
	   "execution_count": null,
	   "metadata": {
	    "collapsed": true
	   },
	   "outputs": [],
"source": [
"//Example 6.22\n",
"clc\n",
"disp('For a common collector configuration the voltage gain is 1')\n",
"disp('Therefore,  V_in(peak) = V_out(peak) = 20 V')\n",
"disp('i.e.  V_m = 20 V')\n",
"disp('Now  V_m/I_m = R_L')\n",
"im=20/16\n",
"format(5)\n",
"disp(im,'Therefore,  I_m(in A) = V_m/R_L =')\n",
"disp('while  V_CC = 25 V')\n",
"pdc=(2*25*1.25)/%pi\n",
"format(8)\n",
"disp(pdc,'Now  P_DC(in W) = 2*V_CC*I_m / pi =')\n",
"pac=(20*1.25)/2\n",
"format(5)\n",
"disp(pac,'P_ac(in W) = V_m*I_m / 2 =')\n",
"eta=1250/19.8943\n",
"format(7)\n",
"disp(eta,'Therefore,  %eta(in percentage) = P_ac*100 / P_DC =')"
   ]
   }
,
{
		   "cell_type": "markdown",
		   "metadata": {},
		   "source": [
			"## Example 6.26: total_harmonic_distortion.sce"
		   ]
		  },
  {
"cell_type": "code",
	   "execution_count": null,
	   "metadata": {
	    "collapsed": true
	   },
	   "outputs": [],
"source": [
"//Example 6.26\n",
"clc\n",
"disp('(i) As single transistor is used, even harmonic components will not get eliminated')\n",
"d2=1000/120\n",
"d3=400/120\n",
"d4=200/120\n",
"d5=100/120\n",
"format(5)\n",
"disp(d2,'  D2(in percentage) = |B2| / |B1| =')\n",
"disp(d3,'  D3(in percentage) = |B3| / |B1| =')\n",
"format(6)\n",
"disp(d4,'  D4(in percentage) = |B4| / |B1| =')\n",
"disp(d5,'  D5(in percentage) = |B5| / |B1| =')\n",
"disp('The total harmonic distortion is,')\n",
"disp('%D = sqrt(D2^2 + D3^2 + D4^2 + D5^2) * 100')\n",
"d=sqrt((0.0833^2)+(0.0333^2)+(0.01667^2)+(0.00833^2))*100\n",
"format(7)\n",
"disp(d,'Therefore,  %D(in percentage) =')\n",
"disp('(ii) When identical second transistor is used, then all even harmonics get eliminated. So only D3 and D5 will present')\n",
"dp=sqrt((0.033^2)+(0.00833^2))*100\n",
"disp(dp,'Therefore,  %D(in percentage) = sqrt(D3^2 + D5^2)*100 =')"
   ]
   }
,
{
		   "cell_type": "markdown",
		   "metadata": {},
		   "source": [
			"## Example 6.27: find_min_breakdown_voltage.sce"
		   ]
		  },
  {
"cell_type": "code",
	   "execution_count": null,
	   "metadata": {
	    "collapsed": true
	   },
	   "outputs": [],
"source": [
"//example6.27\n",
"clc\n",
"disp('From the fig 6.50 we can write,')\n",
"disp('V_CC=20V and R_L=12 ohm')\n",
"disp('i) The maximum ac power that can be delivered to the load is,')\n",
"p=(20^2)/24\n",
"disp(p,'(P_ac)_max[in W]= ')\n",
"disp('Let new power delivered to load be (P_ac)''.')\n",
"disp('The corresponding new supply voltage be (V''_cc)')\n",
"disp('(P_ac)''[in W]=1.36(P_ac)_max     ..36% more')\n",
"p=1.36*16.67\n",
"disp(p,'= 1.36*16.67=')\n",
"disp('And (P_ac)''=(V''_cc^2)/R_L')\n",
"disp('Therefore 22.67=(V''_cc^2)/(2*12)')\n",
"v=sqrt(544.1088)\n",
"disp(v,'V''_cc(in V)=')\n",
"disp('Hence the percentage increase in supply voltage is,')\n",
"p=(23.326-20)/0.2\n",
"disp(p,'= ((V''_cc-V_cc)*100)/V_cc= ')\n",
"disp('The mimimum breakdown voltage per transistor this condition is,')\n",
"v=2*23.326\n",
"disp(v,'=2*V''_cc=2*23.326=')"
   ]
   }
,
{
		   "cell_type": "markdown",
		   "metadata": {},
		   "source": [
			"## Example 6.2: reflected_load_impedance.sce"
		   ]
		  },
  {
"cell_type": "code",
	   "execution_count": null,
	   "metadata": {
	    "collapsed": true
	   },
	   "outputs": [],
"source": [
"//Example 6.2\n",
"clc\n",
"disp('R_L = 4 ohm,  N1 = 200,  N2 = 20')\n",
"n=20/200\n",
"format(4)\n",
"disp(n,'Therefore,  n = N2 / N1 =')\n",
"rl=4/(0.1^2)\n",
"disp(rl,'Therefore,  R''_L(in ohm) = R1 / n^2 =')\n",
"disp('As N2 < N1, the transformer is step down and hence R''_L > R_L, as the primary winding is high voltage winding.')"
   ]
   }
,
{
		   "cell_type": "markdown",
		   "metadata": {},
		   "source": [
			"## Example 6.30: find_efficiency.sce"
		   ]
		  },
  {
"cell_type": "code",
	   "execution_count": null,
	   "metadata": {
	    "collapsed": true
	   },
	   "outputs": [],
"source": [
"//example6.30\n",
"disp('The circuit used for providing proper biasing is self bias, for which the various currents can be shown in the fig 6.52')\n",
"disp('Applying KVL to base emiter loop,')\n",
"disp('(-V_BE)-(I_E*R_E)+(I*R2)=0')\n",
"disp('Theredfore (I*100)-(1+beta)*I_B*10=V_BE')\n",
"disp('100I-210(I_B)=0.5     ..(1)')\n",
"disp('Applying KVL through R1 and R2,')\n",
"disp('(-R1(I+I_B))-(R2*I)+V_cc=0')\n",
"disp('-1000(I+I_B)-100I=-V_cc')\n",
"disp('1100I+1000(I_B)=25    ..(2)')\n",
"disp('Multiplying equation (1) by 11 and subtracting from equation (2) we get,')\n",
"disp('3310(I_B)=19.5')\n",
"i=19.5/3310\n",
"disp(i,'Therefore I_B(in A)=')\n",
"format(8)\n",
"disp('Thereofore I_C=(beta*I_B)=117.82 mA=I_CQ')\n",
"disp('Now n=N2/N1=1/8')\n",
"r=5*(8^2)\n",
"disp('Therefore (R''_L)=(R_L)/(n^2)=')\n",
"disp('i) For maximum power delivered to load,')\n",
"disp('V_1m=V_CEQ')\n",
"disp('Apply KVL to collector-emitter loop,')\n",
"disp('(-10I_C)-(V_CEQ)-(10*I_E)+V_CC=0')\n",
"v=25-(20*(117.82*10^-3))\n",
"format(7)\n",
"disp(v,'V_CEQ=V_cc-20*I_C     ...I_C=I_E')\n",
"p=(22.643^2)/640\n",
"disp(p,'(P_ac)_pri[in W]=(V_CEQ^2)/(2*R''_L)=')\n",
"p=0.9*0.8011\n",
"disp(p,'(P_ac)_max[in W]=0.9*0.8011=')\n",
"disp('This is maximum power delivered to the load.')\n",
"p=25*117.82*10^-3\n",
"format(7)\n",
"disp('ii) Now (P_DC)[in W]=V_CC*I_CQ=')\n",
"n=(0.721*100)/2.9455\n",
"format(6)\n",
"disp(n,'%eta=(P_ac*100)/(P_dc)=')"
   ]
   }
,
{
		   "cell_type": "markdown",
		   "metadata": {},
		   "source": [
			"## Example 6.32: find_R.sce"
		   ]
		  },
  {
"cell_type": "code",
	   "execution_count": null,
	   "metadata": {
	    "collapsed": true
	   },
	   "outputs": [],
"source": [
"//example6.32\n",
"clc\n",
"disp('When no signal is applied, current drawn is')\n",
"disp('I_CQ =200mA from V_cc= 10V')\n",
"p=10*200*10^-3\n",
"disp('P_DC(in W)=V_CC*I_CQ=')\n",
"disp('For maximum power output,')\n",
"disp('V_1m=V_cc=10V and I_1m=I_CQ=200mA')\n",
"p=2/2\n",
"disp(p,'P_ac(in W)=(V_1rms*I_1rms)=(V_1m*I_1m)/2=(10*200*10^-3)/2=')\n",
"disp('i) P_ac(max)=Maximum output power =1W')\n",
"n=100/2\n",
"disp(n,'ii) %eta=(P_ac*100)/(P_DC)=')\n",
"disp('P_d(max)=V_cc*I_CQ= 2W')\n",
"disp('The power dissipation rating of the transistor must be higher than 2W')\n",
"r=10/(200^10^-3)\n",
"disp(r,'Now  R''_L(in ohm)=(V_1m)/(I_1m)=')\n",
"n=1/5\n",
"disp(n,'Now R_L=2 ohm and n =N2/N1=1/5=')\n",
"r=2/(0.2^2)\n",
"disp(r,'R''_L(in ohm)=(R_L)/n^2=')\n",
"disp('As R''_L required matches with the R''_L of the circuit, impedance matching is perfect')"
   ]
   }
,
{
		   "cell_type": "markdown",
		   "metadata": {},
		   "source": [
			"## Example 6.33: distortion_factor.sce"
		   ]
		  },
  {
"cell_type": "code",
	   "execution_count": null,
	   "metadata": {
	    "collapsed": true
	   },
	   "outputs": [],
"source": [
"//Example 6.33\n",
"clc\n",
"disp('B1 = 5*10^-2,  B2 = 10^-4,  B3 = 3*10^-6')\n",
"disp('These are the amplitudes of various frequency components')\n",
"d2=10^-4/(50*10^-2)\n",
"d3=(3*10^-6)/(50*10^-2)\n",
"d=sqrt((2*10^-4)^2+(6*10^-6)^2)*100\n",
"format(7)\n",
"disp(d2,'Therefore,  D2 = |B2|/|B1| =')\n",
"disp(d3,'Therefore,  D2 = |B3|/|B1| =')\n",
"format(5)\n",
"disp(d,'Therefore,  %D(in percentage) = sqrt(D2^2 + D3^2)*100 =')"
   ]
   }
,
{
		   "cell_type": "markdown",
		   "metadata": {},
		   "source": [
			"## Example 6.34: power_transfer.sce"
		   ]
		  },
  {
"cell_type": "code",
	   "execution_count": null,
	   "metadata": {
	    "collapsed": true
	   },
	   "outputs": [],
"source": [
"//Example 6.34\n",
"clc\n",
"disp('V_CC = 12 V,  I_PP = 100 mA,  R_L = 5 ohm')\n",
"disp('Therefore,  I_m = I_PP/2 = 50 mA')\n",
"pac=((2500*10^-6)*5)/2\n",
"format(8)\n",
"disp(pac,'(i)  P_ac(in W) = I_m^2*R_L / 2 =')\n",
"disp('(ii)  P_ac(max) = 1/2 * V_CC^2/R_L')\n",
"disp('But  P_ac = V_m*I_m/2 and V_m = V_CC for maximum power')\n",
"rl=12^2/0.6\n",
"format(4)\n",
"disp(rl,'Therefore,  R''_L(in ohm) = ')\n",
"disp('But  R''_L = R_L/n^2  i.e. 240 = 5/n^2')\n",
"disp('Therefore,  n^2 = 0.02083  i.e. n = 0.1443 = N2/N1')\n",
"disp('Therefore,  N1/N2 = 6.928 : 1')"
   ]
   }
,
{
		   "cell_type": "markdown",
		   "metadata": {},
		   "source": [
			"## Example 6.35: output_and_input_power_and_collector_efficiency_and_power_dissipated.sce"
		   ]
		  },
  {
"cell_type": "code",
	   "execution_count": null,
	   "metadata": {
	    "collapsed": true
	   },
	   "outputs": [],
"source": [
"//Example 6.35\n",
"clc\n",
"disp('I_CQ = 250 mA,  V_CEQ = 8 V')\n",
"disp('V_max = 15 V,  V_min = 1 V,  I_max = 450 mA,  I_min = 40 mA')\n",
"ipp=450-40\n",
"disp(ipp,'Therefore,  I_pp(in mA) = I_max - I_min =')\n",
"vpp=15-1\n",
"disp(vpp,'Therefore,  V_pp(in V) = V_max - V_min =')\n",
"vm=14/2\n",
"disp(vm,'Therefore,  V_m(in V) = V_pp/2 =')\n",
"im=410/2\n",
"disp(im,'Therefore,  I_m(in mA) = I_pp/2 =')\n",
"pac=(7*205*10^-3)/2\n",
"pdc=250*8*10^-3\n",
"n=71.75/2\n",
"pd=2-0.7175\n",
"format(7)\n",
"disp(pac,'(i)  P_ac(in W) = V_m*I_m/2 =                 ...output power')\n",
"disp(pdc,'(ii)  P_DC(in W) = I_CQ*V_CEQ =               ...input power')\n",
"disp(n,'(iii)  %eta(in %) = P_ac/P_DC * 100 =           ...efficiency')\n",
"disp(pd,'(iv)  P_d(in W) = P_DC - P_ac =                ...power dissipation')"
   ]
   }
,
{
		   "cell_type": "markdown",
		   "metadata": {},
		   "source": [
			"## Example 6.3: turns_ratio.sce"
		   ]
		  },
  {
"cell_type": "code",
	   "execution_count": null,
	   "metadata": {
	    "collapsed": true
	   },
	   "outputs": [],
"source": [
"//Example 6.3\n",
"clc\n",
"disp('R_L = 8 ohm, R''_L = 648 ohm')\n",
"disp('Now  R''_L = R_L / n^2')\n",
"n=8/648\n",
"format(8)\n",
"disp(n,'Therefore,  n^2 = R_L / R''_L =')\n",
"disp('Therefore,  n = 0.1111 = Turn ratio')\n",
"disp('But,  n = N2 / N1 = 0.1111')\n",
"disp('Therefore,  N1/N2 = 9')\n",
"disp('Generally the turns ratio is specified as Ni/N2 : 1 i.e. for this transformer it is 9:1')"
   ]
   }
,
{
		   "cell_type": "markdown",
		   "metadata": {},
		   "source": [
			"## Example 6.4: find_power_dissipation.sce"
		   ]
		  },
  {
"cell_type": "code",
	   "execution_count": null,
	   "metadata": {
	    "collapsed": true
	   },
	   "outputs": [],
"source": [
"//example6.4\n",
"clc\n",
"disp('R_L=8ohm, I_CQ=140 mA, V_CC=10V')\n",
"disp('P_ac= 0.48 W')\n",
"disp('The turns ratio are specified as N1/N2:1 i.e 3:1')\n",
"disp('Therefore N1/N2=3')\n",
"n=1/3\n",
"disp(n,'n=N2/N1=1/3=')\n",
"r=8/(0.333)^2\n",
"disp(r,'Therefore R''_L=R_L/n^2=')\n",
"disp('1. As the transformer is ideal, whatever is the power delivered to the load,same is the power developed across primary.')\n",
"disp('Therefore P_ac(across primary)=0.48W')\n",
"disp('2. Using equation (9),')\n",
"disp('we get, P_ac=(V_1rms^2)/(R''_L)')\n",
"disp('Therefore 0.48=(V_1rms^2)/72')\n",
"v=sqrt(34.56)\n",
"disp(v,'Therefore V_1rms(in V)=')\n",
"disp('But rms value of the load voltage is V_2rms')\n",
"disp('So (V1_rms)/(V2_rms)=N1/N2=3/1')\n",
"v=5.8787/3\n",
"disp(v,'Therefore (V2_rms)(in V)=(V1_rms)/3=')\n",
"disp('This is the rms value of the load voltage.')\n",
"disp('3. The rms value of the primary voltage is (V1_rms) as calculated above.')\n",
"disp('Therefore (V1_rms)=5.8787 V')\n",
"disp('4. The power delivered to the load = (I_2rms^2)*R_L       ..Refer equation 13.')\n",
"disp('0.48=(I_2rms^2)*8')\n",
"i=sqrt(0.06)\n",
"disp(i,'(I_2rms)[in A]=')\n",
"disp('This is the rms value of the load current as the resistance value used is R_L and not R''_L')\n",
"disp('5. The rms values of primary and secondary are related through the transformation ratio.')\n",
"disp('Therefore (I_1rms)/(I_2rms)=N2/N1=n=0.333')\n",
"i=0.2449*0.333\n",
"disp(i,'Thererfore (I_1rms)[in A]=0.2449*0.333= ')\n",
"disp('6. The dc power input is,')\n",
"p=140*10^-2\n",
"disp(p,'P_DC(in W)=(V_CC)*(I_CQ)=')\n",
"n=(0.48*100)/1.4\n",
"disp(n,'7. %eta=(P_ac *100)/(P_dc)=')\n",
"d=1.4-0.48\n",
"disp(d,'P_d(in W)=')\n",
"disp('This is the power dissipation.')"
   ]
   }
,
{
		   "cell_type": "markdown",
		   "metadata": {},
		   "source": [
			"## Example 6.6: second_harmonic_distortion.sce"
		   ]
		  },
  {
"cell_type": "code",
	   "execution_count": null,
	   "metadata": {
	    "collapsed": true
	   },
	   "outputs": [],
"source": [
"//Example 6.6\n",
"clc\n",
"disp('R_L = 4 k-ohm,  (P_ac)_D = 0.85 W')\n",
"disp('The current without signal is I_CQ = 31 mA')\n",
"disp('The current with signal is I_CQ + B0 = 34 mA')\n",
"disp('The increase is due to harmonic content in the signal')\n",
"disp('Therefore,  B0 = 34 - 31 = 3 mA')\n",
"disp('But,  B2 = B0 = 3 mA')\n",
"disp('Now  (P_ac)_D = P_ac * [1+D2^2]      ... Assuming only second harmonic')\n",
"disp('Therefore,  (P_ac)_D = 1/2*B1^2*R_L * [1 + B2^2/B1^2]')\n",
"disp('Therefore,  (P_ac)_D = 1/2*B1^2*R_L + 1/2*B2^2*R_L')\n",
"disp('0.85 = 1/2*B1^2*(4*10^3) + 1/2*(9*10^-6)*(4*10^3)')\n",
"disp('Therefore,  B1 = 20.396 mA')\n",
"d2=300/20.396\n",
"format(7)\n",
"disp(d2,'Therefore,  D2(in percentage) = |B2|/|B1| * 100 =')"
   ]
   }
,
{
		   "cell_type": "markdown",
		   "metadata": {},
		   "source": [
			"## Example 6.7: class_B_amplifier.sce"
		   ]
		  },
  {
"cell_type": "code",
	   "execution_count": null,
	   "metadata": {
	    "collapsed": true
	   },
	   "outputs": [],
"source": [
"//Example 6.7\n",
"clc\n",
"disp('The maximum power dissipation occurs when the value of V_m is')\n",
"disp('V_m = 2/pi * V_CC')\n",
"disp('Now  P_ac = V_m*I_m / 2')\n",
"disp('So at the time of maximum power dissipation, it is')\n",
"disp('P_ac = 2/pi * V_CC*I_m/2 = V_CC*I_m / pi')\n",
"disp('Now  P_DC = 2/pi * V_CC * I_m')\n",
"disp('Hence,  %eta = P_ac/P_DC * 100 = (V_CC*I_m/pi)/(2*V_CC*I_m/pi)*100 = 50%')\n",
"disp('Thus efficiency is just 50% when the power dissipation is maximum. While the maximum effiency of the class B operation is 78.5%')"
   ]
   }
,
{
		   "cell_type": "markdown",
		   "metadata": {},
		   "source": [
			"## Example 6.8: max_power_output_and_max_power_dissipation_and_max_base_and_collector_current.sce"
		   ]
		  },
  {
"cell_type": "code",
	   "execution_count": null,
	   "metadata": {
	    "collapsed": true
	   },
	   "outputs": [],
"source": [
"//Example 6.8\n",
"clc\n",
"disp('R_L = 12 ohm,  n = N2/N1 = 1/3 = 0.333, eta_trans = 78.5%')\n",
"rl=12/(0.333^2)\n",
"format(4)\n",
"disp(rl,'Therefore,  R''_L = R_L / n^2 =')\n",
"pac=(0.5*20^2)/108\n",
"format(7)\n",
"disp('(i) For P_max, V_m = V_CC')\n",
"disp(pac,'Threfore,  (P_ac)_max(in W) = 1/2 * V_CC^2/R''_L =')\n",
"disp('But  eta_trans = 78.5%')\n",
"pl=0.785*1.8518\n",
"disp(pl,'Therefore,  P_L(in W) = eta_trans * (P_ac)_max =')\n",
"vm=(2*20)/%pi\n",
"format(8)\n",
"disp(vm,'(ii) Condition for (P_d)_max is V_m(in V) = 2*V_CC/pi =')\n",
"pd=(2*20^2)/(108*%pi^2)\n",
"format(7)\n",
"disp(pd,'Therefore,  (P_d)_max(in W) = 2*V_CC^2 / pi^2*R''_L =')\n",
"pdm=0.7505/2\n",
"disp(pdm,'Therefore,  (P_d)_max(in W) per transistor =')\n",
"disp('(iii) (P_ac)_max = V_rms * I_rms = V_m/sqrt(2) * I_m/sqrt(2) = V_m*I_m / 2  and  V_m = V_CC')\n",
"disp('Therefore,  1.8518 = 20*I_m / 2')\n",
"im=(2*1.8518)/20\n",
"disp(im,'Therefore,  I_m(in A) = (I_c)_max =')\n",
"ibm=(0.1851/25)*10^3\n",
"disp(ibm,'and  (i_b)_max(in mA) = (i_c))max / h_fe =')"
   ]
   }
,
{
		   "cell_type": "markdown",
		   "metadata": {},
		   "source": [
			"## Example 6.9: find_power_developed.sce"
		   ]
		  },
  {
"cell_type": "code",
	   "execution_count": null,
	   "metadata": {
	    "collapsed": true
	   },
	   "outputs": [],
"source": [
"//example6.9\n",
"clc\n",
"disp('R_L=16 ohm, V_CC=25 V')\n",
"disp('Now 2N1=200, N2=50')\n",
"n=200/2\n",
"disp(n,'Therefore N1=')\n",
"n=50/100\n",
"disp(n,'Therefore n=N2/N1=')\n",
"r=16/(0.5^2)\n",
"disp(r,'Therefore R''_L =(R_L)/(n^2)=')\n",
"disp('For maximum power output, V_m=V_CC')\n",
"p=(25^2)/(2*64)\n",
"disp(p,'i) (P_ac)_max [in W]=(V_CC^2)/(2*R_L)=')\n",
"disp('ii) (P_dc)=(2*V_CC*I_m)/pi')\n",
"disp('Now  (V_m)/(I_m)=(R''_L)')\n",
"disp('and V_m=V_CC')\n",
"i=25/64\n",
"disp(i,'Therefore (I_m)=(V_CC)/(R''_L)=')\n",
"p=(2*25*0.3906)/(%pi)\n",
"disp(p,'Therefore (P_DC)[in W]=')\n",
"n=(4.8848*100)/6.2169\n",
"disp(n,'iii) %eta=(P_ac*100)/(P_DC)=')\n",
"p=(2*4.8828)/(%pi^2)\n",
"disp(p,'iv) (P_d)_max[in W]=(2*(P_ac)_max)/(pi^2)=')"
   ]
   }
],
"metadata": {
		  "kernelspec": {
		   "display_name": "Scilab",
		   "language": "scilab",
		   "name": "scilab"
		  },
		  "language_info": {
		   "file_extension": ".sce",
		   "help_links": [
			{
			 "text": "MetaKernel Magics",
			 "url": "https://github.com/calysto/metakernel/blob/master/metakernel/magics/README.md"
			}
		   ],
		   "mimetype": "text/x-octave",
		   "name": "scilab",
		   "version": "0.7.1"
		  }
		 },
		 "nbformat": 4,
		 "nbformat_minor": 0
}
