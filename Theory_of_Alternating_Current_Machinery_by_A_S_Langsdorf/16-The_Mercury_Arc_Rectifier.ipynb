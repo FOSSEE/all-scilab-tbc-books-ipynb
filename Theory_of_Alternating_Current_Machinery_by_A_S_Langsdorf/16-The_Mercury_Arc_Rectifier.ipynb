{
"cells": [
 {
		   "cell_type": "markdown",
	   "metadata": {},
	   "source": [
       "# Chapter 16: The Mercury Arc Rectifier"
	   ]
	},
{
		   "cell_type": "markdown",
		   "metadata": {},
		   "source": [
			"## Example 16.9_617: Effect_of_phase_control.sce"
		   ]
		  },
  {
"cell_type": "code",
	   "execution_count": null,
	   "metadata": {
	    "collapsed": true
	   },
	   "outputs": [],
"source": [
"// Example16_9_pg617.sce\n",
"// Effect of phase control\n",
"// Theory of Alternating Current Machinery by Alexander Langsdorf\n",
"// First Edition 1999, Thirty Second reprint\n",
"// Tata McGraw Hill Publishing Company\n",
"// Example in Page 617\n",
"clear; clc; close;\n",
"// Given data\n",
"phi = 20;\n",
"alpha1 = 30;\n",
"alpha2 = 0;\n",
"// Calculations\n",
"ans1 = (cos(phi*%pi/(180*2))*cos(phi*%pi/(180*2) + alpha1*%pi/180)*100);\n",
"ans2 = round(cos(phi*%pi/(180*2))*cos(phi*%pi/(180*2) + alpha2*%pi/180)*100);\n",
"Effect = (ans1/ans2)*100;\n",
"printf('\n\nEffect of phase control here is to reduce the dc voltage to %0.2f %% of the value it would have in the absence of phase control\n', Effect);\n",
"// Result\n",
"// Effect of phase control here is to reduce the dc voltage to 77.77 % of the value it would have in the absence of phase control"
   ]
   }
],
"metadata": {
		  "kernelspec": {
		   "display_name": "Scilab",
		   "language": "scilab",
		   "name": "scilab"
		  },
		  "language_info": {
		   "file_extension": ".sce",
		   "help_links": [
			{
			 "text": "MetaKernel Magics",
			 "url": "https://github.com/calysto/metakernel/blob/master/metakernel/magics/README.md"
			}
		   ],
		   "mimetype": "text/x-octave",
		   "name": "scilab",
		   "version": "0.7.1"
		  }
		 },
		 "nbformat": 4,
		 "nbformat_minor": 0
}
