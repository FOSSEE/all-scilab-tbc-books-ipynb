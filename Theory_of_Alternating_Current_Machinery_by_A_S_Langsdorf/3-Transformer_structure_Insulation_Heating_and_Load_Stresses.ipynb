{
"cells": [
 {
		   "cell_type": "markdown",
	   "metadata": {},
	   "source": [
       "# Chapter 3: Transformer structure Insulation Heating and Load Stresses"
	   ]
	},
{
		   "cell_type": "markdown",
		   "metadata": {},
		   "source": [
			"## Example 3.16_161: To_find_radial_force_due_to_current.sce"
		   ]
		  },
  {
"cell_type": "code",
	   "execution_count": null,
	   "metadata": {
	    "collapsed": true
	   },
	   "outputs": [],
"source": [
"// Example3_16_pg161.sce\n",
"// To find radial force due to current\n",
"// Theory of Alternating Current Machinery by Alexander Langsdorf\n",
"// First Edition 1999, Thirty Second reprint\n",
"// Tata McGraw Hill Publishing Company\n",
"// Example in Page 161\n",
"clear; clc; close;\n",
"// Given data\n",
"va = 200e+3;  // Volt Amperes of transformer, VA\n",
"v1 = 11000; // Voltage in volts\n",
"v2 = 2300; // Voltage in volts\n",
"T = 46.3; // Mean length of the turn, inches\n",
"n = 455; // Number of turns\n",
"I = 1320; // Current in Amperes\n",
"l = 35; // length in inches\n",
"k = 1.8;\n",
"zeq_ht = 8.33;\n",
"// Calculations\n",
"F_av = (0.45/1e+7)*((T*n^2*I^2)/(k*l));\n",
"printf('\n The radial force due to the current of %d Amps for given data is %d lb\n', I, round(F_av));\n",
"// Result\n",
"//  The radial force due to the current of 1320 Amps for given data is 11930 lb"
   ]
   }
],
"metadata": {
		  "kernelspec": {
		   "display_name": "Scilab",
		   "language": "scilab",
		   "name": "scilab"
		  },
		  "language_info": {
		   "file_extension": ".sce",
		   "help_links": [
			{
			 "text": "MetaKernel Magics",
			 "url": "https://github.com/calysto/metakernel/blob/master/metakernel/magics/README.md"
			}
		   ],
		   "mimetype": "text/x-octave",
		   "name": "scilab",
		   "version": "0.7.1"
		  }
		 },
		 "nbformat": 4,
		 "nbformat_minor": 0
}
