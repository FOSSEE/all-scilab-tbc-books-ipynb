{
"cells": [
 {
		   "cell_type": "markdown",
	   "metadata": {},
	   "source": [
       "# Chapter 10: The Synchronous Generator"
	   ]
	},
{
		   "cell_type": "markdown",
		   "metadata": {},
		   "source": [
			"## Example 10.10_413: Regulation_by_emf_method.sce"
		   ]
		  },
  {
"cell_type": "code",
	   "execution_count": null,
	   "metadata": {
	    "collapsed": true
	   },
	   "outputs": [],
"source": [
"// Example10_10_pg413.sce\n",
"// Regulation by emf method\n",
"// Theory of Alternating Current Machinery by Alexander Langsdorf\n",
"// First Edition 1999, Thirty Second reprint\n",
"// Tata McGraw Hill Publishing Company\n",
"// Example in Page 413\n",
"clear; clc; close;\n",
"// Given data\n",
"va = 2500e+3; //Volt-Ampere rating of the transformer, VA\n",
"vll = 6600; // Line to Line voltage in volts\n",
"r = 0.073; // Resistance in Ohms\n",
"pf1 = 0.8;\n",
"phase = 3;\n",
"vref = 3640; // Reference for voltage in volts\n",
"iref = 340; // Reference for current in Amperes\n",
"// Calculations\n",
"z_s = vref/iref;\n",
"x_s = sqrt(z_s^2 - r^2);\n",
"disp('By Referring to Fig. 10-19');\n",
"phi = acos(pf1);\n",
"V = vll / sqrt(3);\n",
"I = round(va / (phase*V)) ;\n",
"V_vec = V*(cos(phi) +%i*sin(phi));\n",
"E = V_vec + I*(r + %i*x_s);\n",
"E_mag = sqrt(real(E)^2 + imag(E)^2);\n",
"Regulation = ((E_mag - V)/V)*100;\n",
"printf(' Regulation is found to be %.2f %%',Regulation);\n",
"// Result\n",
"// By Referring to Fig. 10-19   \n",
"// Regulation is found to be 45.73 % "
   ]
   }
,
{
		   "cell_type": "markdown",
		   "metadata": {},
		   "source": [
			"## Example 10.12_416: Regulation_by_mmf_method.sce"
		   ]
		  },
  {
"cell_type": "code",
	   "execution_count": null,
	   "metadata": {
	    "collapsed": true
	   },
	   "outputs": [],
"source": [
"// Example10_12_pg416.sce\n",
"// Regulation by mmf method\n",
"// Theory of Alternating Current Machinery by Alexander Langsdorf\n",
"// First Edition 1999, Thirty Second reprint\n",
"// Tata McGraw Hill Publishing Company\n",
"// Example in Page 416\n",
"clear; clc; close;\n",
"// Given data\n",
"va = 2500e+3; // Volt Ampere rating of the transformer, VA\n",
"vll = 6600; // Line to Line voltage, Volts\n",
"r = 0.073; // Resistance in Ohms\n",
"x = 0.87; // Reactance in Ohms\n",
"pf1 = 0.8;\n",
"phase = 3;\n",
"// Calculations \n",
"phi = acos(pf1);\n",
"V = vll / sqrt(3);\n",
"I = round(va / (phase*V)) ;\n",
"IR_a = I*r;\n",
"IX_a = I*x;\n",
"V_vec = V*(cos(phi) +%i*sin(phi));\n",
"E = V_vec + IR_a;\n",
"E_mag = sqrt(real(E)^2 + imag(E)^2);\n",
"F_r1_mag = 16500;\n",
"cos_alpha = (real(E)/E_mag);\n",
"sin_alpha = (imag(E)/E_mag);\n",
"alpha = acos(cos_alpha);\n",
"F_r1 = F_r1_mag*(cos(%pi/2 + alpha) + %i*sin(%pi/2 + alpha));\n",
"A_plus_Ax = 10000;\n",
"F = F_r1 - (A_plus_Ax);\n",
"F_mag = sqrt(real(F)^2 + imag(F)^2);\n",
"printf('\n Magnitude of F is %0.2f amp-turns per pole', F_mag);\n",
"disp('This magnitude of F corresponds to Open-circuit voltage of 4330 Volts');\n",
"oc_volt = 4330;\n",
"regulation = ((oc_volt - V)/V)*100;\n",
"printf('\nRegulation is found to be %0.1f %% \n', regulation);\n",
"// Result\n",
"//  Magnitude of F is 23866.02 amp-turns per pole \n",
"// This magnitude of F corresponds to Open-circuit voltage of 4330 Volts   \n",
"//\n",
"// Regulation is found to be 13.6 % "
   ]
   }
,
{
		   "cell_type": "markdown",
		   "metadata": {},
		   "source": [
			"## Example 10.9_407: To_find_the_field_excitation_required.sce"
		   ]
		  },
  {
"cell_type": "code",
	   "execution_count": null,
	   "metadata": {
	    "collapsed": true
	   },
	   "outputs": [],
"source": [
"// Example10_9_pg407.sce\n",
"// To find the field excitation required\n",
"// Theory of Alternating Current Machinery by Alexander Langsdorf\n",
"// First Edition 1999, Thirty Second reprint\n",
"// Tata McGraw Hill Publishing Company\n",
"// Example in Page 407\n",
"clear; clc; close;\n",
"// Given data\n",
"va = 2500e+3; // Volt Ampere rating of machine, VA\n",
"vll = 6600; // Line to Line voltage in volts\n",
"N = 3000; // Number of turns\n",
"f = 50; // Frequency in Hz\n",
"slots = 60;\n",
"n = 4;\n",
"poles =2;\n",
"r = 0.073;\n",
"x = 0.87;\n",
"pf1 = 0.8;\n",
"pf2 = 1;\n",
"pf3 = 0;\n",
"phase = 3;\n",
"// Calculations \n",
"// For 80% power factor\n",
"phi = acos(pf1);\n",
"V = vll / sqrt(3);\n",
"I = round(va / (phase*V)) ;\n",
"IR_a = I*r;\n",
"IX_a = I*x;\n",
"V_vec = V*(cos(phi) +%i*sin(phi));\n",
"E = V_vec + I*(r + %i*x);\n",
"E_mag = sqrt(real(E)^2 + imag(E)^2);\n",
"conductors = slots * n;\n",
"turns = conductors/2;\n",
"N_p = turns / (poles * phase);\n",
"q = slots / (poles * phase);\n",
"gama = 360 / slots;\n",
"gama = gama*%pi/2;\n",
"k_b1 = (sin(q*gama/2))/(q*sin(gama/2));\n",
"k_p1 = 1;\n",
"A = (2*sqrt(2)/%pi)*phase*k_b1*k_p1*N_p*I;\n",
"cos_alpha = (real(E)/E_mag);\n",
"sin_alpha = (imag(E)/E_mag);\n",
"alpha = acos(cos_alpha);\n",
"F_r_mag = 17500;\n",
"F_r = F_r_mag*(cos(alpha + %pi/2) + %i*sin(alpha + %pi/2));\n",
"F = F_r - A;\n",
"F_mag = sqrt(real(F)^2 + imag(F)^2);\n",
"disp('The open-circuit voltage corresponding to this excitation, determined from Fig. 10-12, is 4450 volts;');\n",
"oc_volt = 4450;\n",
"regulation80 = ((oc_volt - V)/V)*100;\n",
"printf('\n\nThe regulation for 80%% power factor is %0.1f %% ', regulation80);\n",
"// For power factor 1.0\n",
"phi = acos(pf2);\n",
"V_vec = V*(cos(phi) +%i*sin(phi));\n",
"E = V_vec + I*(r + %i*x);\n",
"E_mag = sqrt(real(E)^2 + imag(E)^2);\n",
"cos_alpha = (real(E)/E_mag);\n",
"sin_alpha = (imag(E)/E_mag);\n",
"alpha = acos(cos_alpha);\n",
"F_r_mag = 16500;\n",
"F_r = F_r_mag*(cos(alpha + %pi/2) + %i*sin(alpha + %pi/2));\n",
"F = F_r - A;\n",
"F_mag = sqrt(real(F)^2 + imag(F)^2);\n",
"disp('The open-circuit voltage corresponding to this excitation, determined from Fig. 10-12, is 4150 volts;');\n",
"oc_volt = 4150;\n",
"regulation100 = ((oc_volt - V)/V)*100;\n",
"printf('\n\nThe regulation for 100%% power factor is %0.1f %% ', regulation100);\n",
"// For power factor 0\n",
"phi = acos(pf3);\n",
"E = V + I*(x);\n",
"F_r_mag = 18000;\n",
"F_r = F_r_mag + 11300;\n",
"printf('\nThe value F_R corresponding to Fig 10-12 is %d Volts\n', F_r);\n",
"disp('The open-circuit voltage corresponding to this excitation, determined from Fig. 10-12, is 4500 volts;');\n",
"oc_volt = 4500;\n",
"regulation0 = ((oc_volt - V)/V)*100;\n",
"printf('\nThe regulation for 0%% power factor is %0.1f %% \n', regulation0);\n",
"// Result\n",
"//  The open-circuit voltage corresponding to this excitation, determined from Fig. 10-12, is 4450 volts;       \n",
"//\n",
"// The regulation for 80% power factor is 16.8 %  \n",
"// The open-circuit voltage corresponding to this excitation, determined from Fig. 10-12, is 4150 volts;\n",
"//\n",
"// The regulation for 100% power factor is 8.9 % \n",
"// The value F_R corresponding to Fig 10-12 is 29300 Volts\n",
"//  \n",
"// The open-circuit voltage corresponding to this excitation, determined from Fig. 10-12, is 4500 volts;\n",
"//\n",
"// The regulation for 0% power factor is 18.1 % "
   ]
   }
],
"metadata": {
		  "kernelspec": {
		   "display_name": "Scilab",
		   "language": "scilab",
		   "name": "scilab"
		  },
		  "language_info": {
		   "file_extension": ".sce",
		   "help_links": [
			{
			 "text": "MetaKernel Magics",
			 "url": "https://github.com/calysto/metakernel/blob/master/metakernel/magics/README.md"
			}
		   ],
		   "mimetype": "text/x-octave",
		   "name": "scilab",
		   "version": "0.7.1"
		  }
		 },
		 "nbformat": 4,
		 "nbformat_minor": 0
}
