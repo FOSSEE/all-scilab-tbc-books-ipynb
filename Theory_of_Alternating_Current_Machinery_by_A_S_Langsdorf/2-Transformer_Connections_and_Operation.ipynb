{
"cells": [
 {
		   "cell_type": "markdown",
	   "metadata": {},
	   "source": [
       "# Chapter 2: Transformer Connections and Operation"
	   ]
	},
{
		   "cell_type": "markdown",
		   "metadata": {},
		   "source": [
			"## Example 2.22_111: Conductively_and_Inductively_transferred_power.sce"
		   ]
		  },
  {
"cell_type": "code",
	   "execution_count": null,
	   "metadata": {
	    "collapsed": true
	   },
	   "outputs": [],
"source": [
"// Example2_22_pg111.sce\n",
"// Conductively and Inductively transferred power\n",
"// Theory of Alternating Current Machinery by Alexander Langsdorf\n",
"// First Edition 1999, Thirty Second reprint\n",
"// Tata McGraw Hill Publishing Company\n",
"// Example in Page 111\n",
"clear; clc; close;\n",
"// Given data\n",
"// Transformer data\n",
"va = 10e+3; // VA rating of Transformer, VA\n",
"v1 = 2300; // Voltage in volts\n",
"v2 = 230; // Voltage in volts\n",
"disp('Referring to Fig 2.57, we have');\n",
"// Calculations\n",
"V_1 = v1 + v2; // Voltage in volts\n",
"I_1 = va/v2; // Voltage in volts\n",
"I_3 = va/v1; // Voltage in volts\n",
"I_2 = I_1 + I_3; // Current in Amperes\n",
"a = V_1 / v1;\n",
"P = V_1 * I_1; // Power in watts\n",
"P_i = P * (a - 1)/a; // Power in watts\n",
"P_c = round(P/a); // Power in watts\n",
"printf('\n\nTotal volt-amperes supplied from the source is = %d VA \nVolt-Amperes supplied inductively is = %d VA\nPower supplied conductively is %d VA\n', P, P_i, P_c);\n",
"// Result\n",
"//  Referring to Fig 2.57, we have   \n",
"// \n",
"// \n",
"// Total volt-amperes supplied from the source is = 110000 VA \n",
"// Volt-Amperes supplied inductively is = 10000 VA\n",
"// Power supplied conductively is 100000 VA"
   ]
   }
,
{
		   "cell_type": "markdown",
		   "metadata": {},
		   "source": [
			"## Example 2.29_130: Positive_and_negative_sequence_voltages.sce"
		   ]
		  },
  {
"cell_type": "code",
	   "execution_count": null,
	   "metadata": {
	    "collapsed": true
	   },
	   "outputs": [],
"source": [
"// Example2_29_pg130.sce\n",
"// Positive and negative sequence voltages\n",
"// Theory of Alternating Current Machinery by Alexander Langsdorf\n",
"// First Edition 1999, Thirty Second reprint\n",
"// Tata McGraw Hill Publishing Company\n",
"// Example in Page 130\n",
"clear; clc; close;\n",
"// Given data\n",
"V_1 = 1000 + %i*50;\n",
"V_2 = -800 + %i*100;\n",
"V_3 = -200 - %i*150;\n",
"a = cos(2*%pi/3) + %i*sin(2*%pi/3);\n",
"// Calculations\n",
"disp('According to Equations 2-88 and 2-89 in page 130');\n",
"V_1p = (V_1 + V_2*a + V_3*a^2)/3;\n",
"V_1n = (V_1 + V_2*a^(-1) + V_3*a^(-2))/3;\n",
"printf('\n\nPositive sequence voltage is = %0.4f /_ %0.2f Volts \nNegative sequence voltage is = %0.4f /_ %0.2f Volts\n', abs(V_1p),atan(imag(V_1p)/real(V_1p))*180/%pi, abs(V_1n),atan(imag(V_1n)/real(V_1n))*180/%pi);\n",
"// Result\n",
"//  According to Equations 2-88 and 2-89 in page 130   \n",
"//\n",
"//\n",
"// Positive sequence voltage is = 452.7740 /_ -19.11 Volts \n",
"// Negative sequence voltage is = 605.5265 /_ 19.11 Volts"
   ]
   }
,
{
		   "cell_type": "markdown",
		   "metadata": {},
		   "source": [
			"## Example 2.29_131: Positive_Negative_and_Zero_sequence_voltages.sce"
		   ]
		  },
  {
"cell_type": "code",
	   "execution_count": null,
	   "metadata": {
	    "collapsed": true
	   },
	   "outputs": [],
"source": [
"// Example2_29_pg131.sce\n",
"// Positive Negative and Zero sequence voltages\n",
"// Theory of Alternating Current Machinery by Alexander Langsdorf\n",
"// First Edition 1999, Thirty Second reprint\n",
"// Tata McGraw Hill Publishing Company\n",
"// Example in Page 131\n",
"clear; clc; close;\n",
"// Given data\n",
"V_1 = 1000 + 50*%i;\n",
"V_2 = -800 + 100*%i;\n",
"V_3 = -1100 - 270*%i;\n",
"a = cos(2*%pi/3) + %i*sin(2*%pi/3);\n",
"// Calculations\n",
"disp('According to Equations 2-90, 2-88 and 2-89');\n",
"V_0 = (V_1 + V_2 + V_3)/3;\n",
"V_1p = (V_1 + V_2*a + V_3*a^2)/3;\n",
"V_1n = (V_1 + V_2*a^(-1) + V_3*a^(-2))/3;\n",
"printf('\n\nZero sequence voltage is = %0.4f /_ %0.2f Volts \nPositive sequence voltage is = %0.4f /_ %0.2f Volts \nNegative sequence voltage is = %0.4f /_ %0.2f Volts\n',abs(V_0),atan(imag(V_0)/real(V_0))*180/%pi, abs(V_1p),atan(imag(V_1p)/real(V_1p))*180/%pi, abs(V_1n),atan(imag(V_1n)/real(V_1n))*180/%pi);\n",
"// Result\n",
"//  According to Equations 2-90, 2-88 and 2-89   \n",
"//\n",
"//\n",
"// Zero sequence voltage is = 302.6549 /_ 7.59 Volts \n",
"// Positive sequence voltage is = 558.9050 /_ 13.62 Volts \n",
"// Negative sequence voltage is = 757.9524 /_ -3.15 Volts"
   ]
   }
,
{
		   "cell_type": "markdown",
		   "metadata": {},
		   "source": [
			"## Example 2.3_69: To_find_primary_voltage_and_current_supplied.sce"
		   ]
		  },
  {
"cell_type": "code",
	   "execution_count": null,
	   "metadata": {
	    "collapsed": true
	   },
	   "outputs": [],
"source": [
"// Example2_3_pg69.sce\n",
"// To find primary voltage and current supplied\n",
"// Theory of Alternating Current Machinery by Alexander Langsdorf\n",
"// First Edition 1999, Thirty Second reprint\n",
"// Tata McGraw Hill Publishing Company\n",
"// Example in Page 69\n",
"clear; clc; close;\n",
"// Given data\n",
"// Transformer A data\n",
"va_A = 100e+3; // VA rating of Transformer\n",
"v1_A = 4600; // Voltage in volts\n",
"v2_A = 230; // Voltage in volts\n",
"x_A = 0.027; // Reactance in Ohms\n",
"r_A = 0.008; // Resistance in Ohms\n",
"// Transformer B data\n",
"va_B = 200e+3; // VA rating of Transformer\n",
"v1_B = 4610; // Voltage in volts\n",
"v2_B = 225; // Voltage in volts\n",
"x_B = 0.013; // Reactance in ohms\n",
"r_B = 0.003; // Resistance in ohms\n",
"// Common Data\n",
"P_load = 150e+3; // Power in Watts\n",
"pf = +0.85; // + denotes lagging power factor\n",
"vg = 225; // Voltage in volts\n",
"// Calculations\n",
"// Transformer A\n",
"a_1 = v1_A / v2_A;\n",
"z_1 = r_A + x_A*%i;\n",
"y_1 = 1 / z_1;\n",
"y_1_HVside = y_1 / a_1;\n",
"// Transformer B\n",
"a_2 = v1_B / v2_B;\n",
"z_2 = r_B + x_B*%i;\n",
"y_2 = 1 / z_2;\n",
"y_2_HVside = y_2 / a_2;\n",
"y_K = y_1 + y_2;\n",
"y_K_HVside = y_1_HVside + y_2_HVside;\n",
"// To find the current\n",
"I = P_load / (vg * pf) ;\n",
"V2_vec = vg;\n",
"theta = acos(0.85);\n",
"I_vec = I*(cos(theta) - sin(theta)*%i); // - sign indicates I lags V\n",
"V1_vec = ((V2_vec * y_K) + I_vec) / (y_K_HVside) ;\n",
"I1_vec = (I_vec + V1_vec*((y_K / a_1) - y_K_HVside)) / (z_1 * y_K );\n",
"I2_vec = I_vec - I1_vec;\n",
"printf(' Primary Voltage of transformer = %f /_ %f Volts\n', abs(V1_vec), (atan((imag(V1_vec))/(real(V1_vec))))*180/%pi);\n",
"printf(' Current Supplied by transformer A = %f /_ %f Volts\n', abs(I1_vec), (atan((imag(I1_vec))/(real(I1_vec))))*180/%pi);\n",
"printf(' Current Supplied by transformer B = %f /_ %f Volts\n', abs(I2_vec), (atan((imag(I2_vec))/(real(I2_vec))))*180/%pi);\n",
"// Result\n",
"// Primary Voltage of transformer = 4678.867698 /_ 1.211839 Volts \n",
"// Current Supplied by transformer A = 361.324403 /_ -44.400715 Volts\n",
"// Current Supplied by transformer B = 438.858386 /_ -21.431553 Volts"
   ]
   }
,
{
		   "cell_type": "markdown",
		   "metadata": {},
		   "source": [
			"## Example 2.6_76: To_find_branch_currents_and_voltages.sce"
		   ]
		  },
  {
"cell_type": "code",
	   "execution_count": null,
	   "metadata": {
	    "collapsed": true
	   },
	   "outputs": [],
"source": [
"// Example2_6_pg76.sce\n",
"// To find branch currents and voltages\n",
"// Theory of Alternating Current Machinery by Alexander Langsdorf\n",
"// First Edition 1999, Thirty Second reprint\n",
"// Tata McGraw Hill Publishing Company\n",
"// Example in Page 76\n",
"clear; clc; close;\n",
"// Given data\n",
"// Transformer data\n",
"va = 100e+3; // VA rating of Transformer\n",
"v1 = 11500; // Voltage in volts\n",
"v2 = 230; // Voltage in volts\n",
"f = 60; // Frequency in Hz\n",
"OC_pow = 560; // Power in watts\n",
"pf = +0.155;\n",
"sc_volt = 217.5; // Volts\n",
"sc_curr = 8.7; // Amperes\n",
"sc_pow = 1135; // Power in watts\n",
"ll_volt = 15000; // Line to line voltage\n",
"z_1 = 0.6; // Impedance\n",
"pf2 = +0.866;\n",
"pf3 = -0.5;\n",
"// Calculations\n",
"power_factor = sc_pow / (sc_volt * sc_curr) ;\n",
"theta_e = acos(power_factor);\n",
"transformation_ratio = v1 / v2 ;\n",
"// HT values\n",
"z = sc_volt / sc_curr;\n",
"r = z*cos(theta_e);\n",
"x = z*sin(theta_e);\n",
"// LT values\n",
"z_lt = z/(transformation_ratio^2) ;\n",
"r_lt = r/(transformation_ratio^2) ;\n",
"x_lt = x/(transformation_ratio^2) ;\n",
"zz = r_lt + %i*x_lt ;\n",
"// Referring to figure 2.16(b) in page 77\n",
"z1 = z_1 + zz ;\n",
"z_2 = z_1*(pf2 + %i*abs(pf3));\n",
"z2 = z_2 + zz;\n",
"z_3 = z_1*(abs(pf3) - %i*pf2);\n",
"z3 = z_3 + zz;\n",
"disp('z1 = ')\n",
"disp(z1);\n",
"disp('z2 = ')\n",
"disp(z2);\n",
"disp('z3 = ')\n",
"disp(z3);\n",
"disp('By referring to Figure 2.16(b) in page 77, E_A, E_B, E_C can be written in terms of the unknowns x and y.');\n",
"printf('\nE_A = -(x - 150) + j(259.8 - y) \nE_B = -x - jy \nE_C = (300 - x) - jy');\n",
"printf('\n\nI_A = E_A / z1 \nI_B = E_B / z2 \nI_C = E_C / z3 \n');\n",
"printf('\nI_A = -1.649x -0.0218y +253.01 + j(425.14 -1.649y +0.0218x) \nI_B = -1.415x -0.829y + j(0.829x - 1.415y) \nI_C = -0.860x +1.439y +258 + j(-1.439x -0.860y +431.7)\n');\n",
"// I_A + I_B + I_C = 0;\n",
"disp('On simplification and by separating the real and imaginary parts, we get two equations consisting of x and y as variables as shown');\n",
"printf('\n -3.924x +0.588y +511.01 = 0\n -0.588x -3.924y +856.84 = 0\n');\n",
"function y = ff(x);\n",
"  y(1) = -3.924*x(1)+0.588*x(2)+511.01;\n",
"  y(2) = -0.588*x(1)-3.924*x(2)+856.84;\n",
"endfunction\n",
"answer = fsolve([100;100],ff);\n",
"// Answers given in prob is supposed to have some mistake in values of x and y\n",
"x = answer([1]);\n",
"y = answer([2]);\n",
"E_A = -(x - 150) + %i*(259.8 - y) ;\n",
"E_B = -x - %i*y ;\n",
"E_C = (300 - x) - %i*y;\n",
"I_A = E_A / z1 ;\n",
"I_B = E_B / z2 ;\n",
"I_C = E_C / z3 ;\n",
"printf('\n\nI_A = %0.2f /_ %0.2f Amps', abs(I_A), atan(imag(I_A)/real(I_A))*180/%pi);\n",
"printf('\n\nI_B = %0.2f /_ %0.2f Amps', abs(I_B), atan(imag(I_B)/real(I_B))*180/%pi);\n",
"printf('\n\nI_C = %0.2f /_ %0.2f Amps', abs(I_C), atan(imag(I_C)/real(I_C))*180/%pi);\n",
"printf('\n\nE_A = %0.2f /_ %0.2f Volts', abs(E_A), atan(imag(E_A)/real(E_A))*180/%pi);\n",
"printf('\n\nE_B = %0.2f /_ %0.2f Volts', abs(E_B), atan(imag(E_B)/real(E_B))*180/%pi);\n",
"printf('\n\nE_C = %0.2f /_ %0.2f Volts', abs(E_C), atan(imag(E_C)/real(E_C))*180/%pi);\n",
"// Result\n",
"// z1 =    \n",
"// \n",
"//    0.6059982 + 0.0080014i  \n",
"// \n",
"// z2 =    \n",
"// \n",
"//    0.5255982 + 0.3080014i  \n",
"// \n",
"// z3 =    \n",
"// \n",
"//    0.3059982 - 0.5115986i  \n",
"// \n",
"// By referring to Figure 2.16(b) in page 77, E_A, E_B, E_C can be written in terms of the unknowns x and y.\n",
"// E_A = -(x - 150) + j(259.8 - y) \n",
"// E_B = -x - jy \n",
"// E_C = (300 - x) - jy\n",
"//\n",
"// I_A = E_A / z1 \n",
"// I_B = E_B / z2 \n",
"// I_C = E_C / z3 \n",
"//\n",
"// I_A = -1.649x -0.0218y +253.01 + j(425.14 -1.649y +0.0218x) \n",
"// I_B = -1.415x -0.829y + j(0.829x - 1.415y) \n",
"// I_C = -0.860x +1.439y +258 + j(-1.439x -0.860y +431.7)\n",
"// \n",
"// On simplification and by separating the real and imaginary parts, we get two equations consisting of x and y as variables as shown\n",
"//\n",
"// -3.924x +0.588y +511.01 = 0\n",
"// -0.588x -3.924y +856.84 = 0\n",
"//\n",
"//\n",
"// I_A = 108.89 /_ -82.59 Amps\n",
"//\n",
"// I_B = 412.73 /_ 20.30 Amps\n",
"//\n",
"// I_C = 402.59 /_ 4.99 Amps\n",
"// \n",
"// E_A = 65.99 /_ -81.84 Volts\n",
"// \n",
"// E_B = 251.44 /_ 50.67 Volts\n",
"//\n",
"// E_C = 240.00 /_ -54.13 Volts"
   ]
   }
],
"metadata": {
		  "kernelspec": {
		   "display_name": "Scilab",
		   "language": "scilab",
		   "name": "scilab"
		  },
		  "language_info": {
		   "file_extension": ".sce",
		   "help_links": [
			{
			 "text": "MetaKernel Magics",
			 "url": "https://github.com/calysto/metakernel/blob/master/metakernel/magics/README.md"
			}
		   ],
		   "mimetype": "text/x-octave",
		   "name": "scilab",
		   "version": "0.7.1"
		  }
		 },
		 "nbformat": 4,
		 "nbformat_minor": 0
}
