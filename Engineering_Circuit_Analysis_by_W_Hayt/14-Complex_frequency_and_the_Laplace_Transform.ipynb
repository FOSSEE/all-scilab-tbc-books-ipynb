{
"cells": [
 {
		   "cell_type": "markdown",
	   "metadata": {},
	   "source": [
       "# Chapter 14: Complex frequency and the Laplace Transform"
	   ]
	},
{
		   "cell_type": "markdown",
		   "metadata": {},
		   "source": [
			"## Example 14.10: The_time_shift_theorem.sce"
		   ]
		  },
  {
"cell_type": "code",
	   "execution_count": null,
	   "metadata": {
	    "collapsed": true
	   },
	   "outputs": [],
"source": [
"clc\n",
"//Example 14.10\n",
"//Install Symbolic toolbox\n",
"//Determine the transform of rectangular pulse\n",
"syms t s\n",
"v=integ(exp(-s*t),t,2,%inf)-integ(exp(-s*t),t,5,%inf)\n",
"disp(v,'V(s)=')"
   ]
   }
,
{
		   "cell_type": "markdown",
		   "metadata": {},
		   "source": [
			"## Example 14.11: The_Initial_and_Final_value_theorems.sce"
		   ]
		  },
  {
"cell_type": "code",
	   "execution_count": null,
	   "metadata": {
	    "collapsed": true
	   },
	   "outputs": [],
"source": [
"clc\n",
"//Example 14.11\n",
"//Install Symbolic toolbox\n",
"//Calculate f(inf)\n",
"syms s t ;\n",
"disp('Given function is f(t)=1-exp(-a*t)')\n",
"u=laplace(1)\n",
"v=laplace(exp(-2*t))\n",
"F=u-v\n",
"x=s*F\n",
"//From final value theorem\n",
"y=limit(x,s,0)\n",
"disp(y,'f(inf)=')\n",
""
   ]
   }
,
{
		   "cell_type": "markdown",
		   "metadata": {},
		   "source": [
			"## Example 14.2: Definition_of_the_Laplace_Transform.sce"
		   ]
		  },
  {
"cell_type": "code",
	   "execution_count": null,
	   "metadata": {
	    "collapsed": true
	   },
	   "outputs": [],
"source": [
"//Example 14.2\n",
"//Install Symbolic toolbox\n",
"//Find the Laplace transform\n",
"syms t s\n",
"clc\n",
"z=integ(2*exp(-s*t),t,3,%inf)\n",
"//The second term will result in zero\n",
"disp(z,'F(s)=')"
   ]
   }
,
{
		   "cell_type": "markdown",
		   "metadata": {},
		   "source": [
			"## Example 14.3: Inverse_Transform_Techniques.sce"
		   ]
		  },
  {
"cell_type": "code",
	   "execution_count": null,
	   "metadata": {
	    "collapsed": true
	   },
	   "outputs": [],
"source": [
"clc\n",
"//Example 14.3\n",
"//Install Symbolic toolbox\n",
"//Find the Inverse Laplace transform\n",
"syms s\n",
"a=7/s\n",
"b=31/(s+17)\n",
"x=ilaplace(a)\n",
"y=ilaplace(b)\n",
"g=x-y\n",
"disp(g,'g(t)=')"
   ]
   }
,
{
		   "cell_type": "markdown",
		   "metadata": {},
		   "source": [
			"## Example 14.4: Inverse_Transform_Techniques.sce"
		   ]
		  },
  {
"cell_type": "code",
	   "execution_count": null,
	   "metadata": {
	    "collapsed": true
	   },
	   "outputs": [],
"source": [
"clc\n",
"//Example 14.4\n",
"//Install Symbolic toolbox\n",
"//Find the Inverse Laplace transform\n",
"syms s t\n",
"a=2\n",
"b=4/s\n",
"x=ilaplace(b)\n",
"//Inverse laplace transform of a constant is\n",
"disp('inverse laplace(2)=2*delta(t)')\n",
"disp('Answer is')\n",
"disp(x+'2*delta(t)')"
   ]
   }
,
{
		   "cell_type": "markdown",
		   "metadata": {},
		   "source": [
			"## Example 14.5: Inverse_Transform_Techniques.sce"
		   ]
		  },
  {
"cell_type": "code",
	   "execution_count": null,
	   "metadata": {
	    "collapsed": true
	   },
	   "outputs": [],
"source": [
"clc\n",
"//Example 14.5\n",
"//Install Symbolic toolbox\n",
"//Find the Inverse Laplace transform\n",
"syms s\n",
"s=%s;\n",
"P =(7*s+5)/(s^2+s);\n",
"Pp=pfss (P)\n",
"p1=ilaplace (Pp(1))\n",
"p2=ilaplace (Pp(2))\n",
"p=p1+p2\n",
"disp(p,'p(t)=');"
   ]
   }
,
{
		   "cell_type": "markdown",
		   "metadata": {},
		   "source": [
			"## Example 14.6: Inverse_Transform_Techniques.sce"
		   ]
		  },
  {
"cell_type": "code",
	   "execution_count": null,
	   "metadata": {
	    "collapsed": true
	   },
	   "outputs": [],
"source": [
"clc\n",
"//Example 14.6\n",
"//Install Symbolic toolbox\n",
"//Find the Inverse Laplace transform\n",
"syms s\n",
"s=%s;\n",
"V =2/(s^3+12*s^2+36*s);\n",
"Vp=pfss (V)\n",
"v1=ilaplace (Vp(1))\n",
"v2=ilaplace (Vp(2))\n",
"v=v1+v2\n",
"disp(v,'v(t)=');"
   ]
   }
,
{
		   "cell_type": "markdown",
		   "metadata": {},
		   "source": [
			"## Example 14.7: Basic_Theorems_for_the_Laplace_Transform.sce"
		   ]
		  },
  {
"cell_type": "code",
	   "execution_count": null,
	   "metadata": {
	    "collapsed": true
	   },
	   "outputs": [],
"source": [
"clc\n",
"//Example 14.7\n",
"//Install Symbolic toolbox\n",
"//Find the current through 5 ohm resistor\n",
"syms s\n",
"s=%s\n",
"//From figure 14.3\n",
"//Writing the KVL equation and taking the Laplace transform\n",
"I=1.5/(s*(s+2))+5/(s+2)\n",
"I1=1.5/(s*(s+2))\n",
"I2=5/(s+2)\n",
"I1p=pfss(I1)\n",
"i1=ilaplace(I1p(1))\n",
"i2=ilaplace(I1p(2)+I2)\n",
"i=i1+i2\n",
"disp(i,'i(t)=')"
   ]
   }
,
{
		   "cell_type": "markdown",
		   "metadata": {},
		   "source": [
			"## Example 14.8: Basic_Theorems_for_the_Laplace_Transform.sce"
		   ]
		  },
  {
"cell_type": "code",
	   "execution_count": null,
	   "metadata": {
	    "collapsed": true
	   },
	   "outputs": [],
"source": [
"clc\n",
"//Example 14.8\n",
"//Install Symbolic toolbox\n",
"//Find the current for t>0\n",
"syms s\n",
"s=%s\n",
"//From figure 14.5\n",
"//Writing the KVL equation and taking the Laplace transform\n",
"I=-2/(s+4)\n",
"i=ilaplace(I)\n",
"disp(i,'i(t)=')"
   ]
   }
,
{
		   "cell_type": "markdown",
		   "metadata": {},
		   "source": [
			"## Example 14.9: Basic_Theorems_for_the_Laplace_Transform.sce"
		   ]
		  },
  {
"cell_type": "code",
	   "execution_count": null,
	   "metadata": {
	    "collapsed": true
	   },
	   "outputs": [],
"source": [
"clc\n",
"//Example 14.9\n",
"//Install Symbolic toolbox\n",
"//Find the voltage v(t)\n",
"syms s\n",
"s=%s\n",
"//From figure 14.6\n",
"//Writing the KCL equation and taking the Laplace transform\n",
"V=4/(s*(s+4))+9/(s+4)\n",
"V1=4/(s*(s+4))\n",
"V2=9/(s+4)\n",
"V1p=pfss(V1)\n",
"v1=ilaplace(V1p(1))\n",
"v2=ilaplace(V1p(2)+V2)\n",
"v=v1+v2\n",
"disp(v,'v(t)=')"
   ]
   }
],
"metadata": {
		  "kernelspec": {
		   "display_name": "Scilab",
		   "language": "scilab",
		   "name": "scilab"
		  },
		  "language_info": {
		   "file_extension": ".sce",
		   "help_links": [
			{
			 "text": "MetaKernel Magics",
			 "url": "https://github.com/calysto/metakernel/blob/master/metakernel/magics/README.md"
			}
		   ],
		   "mimetype": "text/x-octave",
		   "name": "scilab",
		   "version": "0.7.1"
		  }
		 },
		 "nbformat": 4,
		 "nbformat_minor": 0
}
