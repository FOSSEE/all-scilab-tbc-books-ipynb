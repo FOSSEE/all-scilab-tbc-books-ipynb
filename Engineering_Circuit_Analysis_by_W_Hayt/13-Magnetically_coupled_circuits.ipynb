{
"cells": [
 {
		   "cell_type": "markdown",
	   "metadata": {},
	   "source": [
       "# Chapter 13: Magnetically coupled circuits"
	   ]
	},
{
		   "cell_type": "markdown",
		   "metadata": {},
		   "source": [
			"## Example 13.2: Mutual_Inductance.sce"
		   ]
		  },
  {
"cell_type": "code",
	   "execution_count": null,
	   "metadata": {
	    "collapsed": true
	   },
	   "outputs": [],
"source": [
"clc\n",
"//Example 13.2\n",
"disp('Given')\n",
"disp('Input voltage is 10V')\n",
"Viamp=10\n",
"//From figure 13.7\n",
"//Writing the left mesh equations\n",
"disp('(1+10i)*I1-90i*I2=10')\n",
"//Writing the right mesh equations \n",
"disp('(400+1000i)*I2-90i*I1=0')\n",
"i=%i\n",
"A=[1+10*i -90*i;-90*i 400+1000*i]\n",
"i2mat=[1+10*i 10; -90*i 0] \n",
"//Find i2 \n",
"i2=det(i2mat)/det(A)\n",
"[mag Theta]=polar(i2)\n",
"Theta=(Theta*180)/%pi\n",
"//The value of resistor is 400 ohm\n",
"R=400;\n",
"//Let V=V2/V1\n",
"Vamp=R*mag/Viamp\n",
"printf('Ratio of output voltage to input is %3.2f with angle %3.2f degrees',Vamp,Theta);"
   ]
   }
,
{
		   "cell_type": "markdown",
		   "metadata": {},
		   "source": [
			"## Example 13.4: Energy_considerations.sce"
		   ]
		  },
  {
"cell_type": "code",
	   "execution_count": null,
	   "metadata": {
	    "collapsed": true
	   },
	   "outputs": [],
"source": [
"clc\n",
"//Example 13.4\n",
"disp('Given')\n",
"disp('L1=0.4H L2=2.5H k=0.6 i1=4i2=20*cos(500t-20)mA')\n",
"L1=0.4;L2=2.5;k=0.6;\n",
"disp('a)')\n",
"t=0;\n",
"i2=5*cos(500*t-(20*%pi)/180)\n",
"printf('i2(0)=%3.2f mA \n',i2)\n",
"disp('b)')\n",
"M=k*sqrt(L1*L2)\n",
"//v1(t)=L1*d/dt(i1)+M*d/dt(i2)\n",
"v1=-L1*20*500*10^-3*sin(500*t-(20*%pi)/180)-M*5*500*10^-3*sin(500*t-(20*%pi)/180)\n",
"printf('v1(0)=%3.2f V \n',v1)\n",
"disp('c')\n",
"//The total energy can be found as\n",
"w=(L1*(4*i2)^2)/2+ (L2*(i2)^2)/2+M*(4*i2)*(i2)\n",
"printf('w=%3.2f uJ \n',w)\n",
""
   ]
   }
,
{
		   "cell_type": "markdown",
		   "metadata": {},
		   "source": [
			"## Example 13.5: T_and_PI_equivalent_networks.sce"
		   ]
		  },
  {
"cell_type": "code",
	   "execution_count": null,
	   "metadata": {
	    "collapsed": true
	   },
	   "outputs": [],
"source": [
"clc\n",
"//Example 13.5\n",
"printf('Given')\n",
"disp('L1=30 mH L2=60 mH M=40 mH')\n",
"L1=30*10^-3; L2=60*10^-3; M=40*10^-3;\n",
"//The equivalent T network is \n",
"UL=L1-M\n",
"UR=L2-M\n",
"CS=M\n",
"printf('The T network has \n')\n",
"printf('%d mH in the upper left arm\n',UL*10^3)\n",
"printf('%3.0f mH in the upper right arm\n',UR*10^3)\n",
"printf('%d mH in the center stem\n',CS*10^3)"
   ]
   }
,
{
		   "cell_type": "markdown",
		   "metadata": {},
		   "source": [
			"## Example 13.6: T_and_PI_equivalent_networks.sce"
		   ]
		  },
  {
"cell_type": "code",
	   "execution_count": null,
	   "metadata": {
	    "collapsed": true
	   },
	   "outputs": [],
"source": [
"clc\n",
"//Example 13.6\n",
"printf('Given')\n",
"disp('L1=30 mH L2=60 mH M=40 mH')\n",
"L1=30*10^-3; L2=60*10^-3; M=40*10^-3;\n",
"//Let X=L1*L2-M^2\n",
"X=L1*L2-M^2\n",
"//The equivalent PI network is \n",
"LA=X/(L2-M)\n",
"LB=X/M\n",
"LC=X/(L1-M)\n",
"printf('The PI network has \n')\n",
"printf('LA=%3.0f mH\n',LA*10^3)\n",
"printf('LB=%3.0f mH \n',LB*10^3)\n",
"printf('LC=%3.0f mH\n',LC*10^3)"
   ]
   }
,
{
		   "cell_type": "markdown",
		   "metadata": {},
		   "source": [
			"## Example 13.8: Equivalent_Circuits.sce"
		   ]
		  },
  {
"cell_type": "code",
	   "execution_count": null,
	   "metadata": {
	    "collapsed": true
	   },
	   "outputs": [],
"source": [
"clc\n",
"//Example 13.8\n",
"disp('Given')\n",
"disp('Vin=50V Zg=100 ohm')\n",
"Vin=50;Zg=100;\n",
"//From figure 13.32\n",
"disp('When the secondary circuit and ideal transformer is replaced by a Thevenin equivalent then the primary circuit sees a 100 ohm impedance')\n",
"//The turns ratio is a\n",
"a=10;\n",
"disp('We place the secondary circuit and ideal transformer by a Thevenin equivalent circuit')\n",
"Vth=-a*Vin\n",
"Zth=(-a)^2*Zg\n",
"printf('The secondary circuit has voltage source %d V rms with %d kohm resistance in series with it along with %d kohm load resistance',Vth,Zth*10^-3,10)"
   ]
   }
],
"metadata": {
		  "kernelspec": {
		   "display_name": "Scilab",
		   "language": "scilab",
		   "name": "scilab"
		  },
		  "language_info": {
		   "file_extension": ".sce",
		   "help_links": [
			{
			 "text": "MetaKernel Magics",
			 "url": "https://github.com/calysto/metakernel/blob/master/metakernel/magics/README.md"
			}
		   ],
		   "mimetype": "text/x-octave",
		   "name": "scilab",
		   "version": "0.7.1"
		  }
		 },
		 "nbformat": 4,
		 "nbformat_minor": 0
}
