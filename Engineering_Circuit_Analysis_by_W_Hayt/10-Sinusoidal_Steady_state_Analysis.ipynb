{
"cells": [
 {
		   "cell_type": "markdown",
	   "metadata": {},
	   "source": [
       "# Chapter 10: Sinusoidal Steady state Analysis"
	   ]
	},
{
		   "cell_type": "markdown",
		   "metadata": {},
		   "source": [
			"## Example 10.4: The_Inductor.sce"
		   ]
		  },
  {
"cell_type": "code",
	   "execution_count": null,
	   "metadata": {
	    "collapsed": true
	   },
	   "outputs": [],
"source": [
"clc\n",
"//Example 10.4\n",
"//Determine phasor current and time-domain current\n",
"printf('Given')\n",
"disp('Voltage is 8(-50 deg),Frequency is 100rad/s,Inductance is 4H')\n",
"L=4;\n",
"w=100;\n",
"Vamp=8;Vang=-50;\n",
"//Let current be I\n",
"Iamp=Vamp/(w*L)\n",
"Iang=-90+Vang\n",
"printf('I=%3.2f(%d deg) A \n',Iamp,Iang)\n",
"//In time domain\n",
"printf('i(t)=%3.2f *cos(%d*t%d) A',Iamp,w,Iang);"
   ]
   }
],
"metadata": {
		  "kernelspec": {
		   "display_name": "Scilab",
		   "language": "scilab",
		   "name": "scilab"
		  },
		  "language_info": {
		   "file_extension": ".sce",
		   "help_links": [
			{
			 "text": "MetaKernel Magics",
			 "url": "https://github.com/calysto/metakernel/blob/master/metakernel/magics/README.md"
			}
		   ],
		   "mimetype": "text/x-octave",
		   "name": "scilab",
		   "version": "0.7.1"
		  }
		 },
		 "nbformat": 4,
		 "nbformat_minor": 0
}
