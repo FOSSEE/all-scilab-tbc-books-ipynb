{
"cells": [
 {
		   "cell_type": "markdown",
	   "metadata": {},
	   "source": [
       "# Chapter 12: Polyphase Circuits"
	   ]
	},
{
		   "cell_type": "markdown",
		   "metadata": {},
		   "source": [
			"## Example 12.2: Three_phase_Wye_connection.sce"
		   ]
		  },
  {
"cell_type": "code",
	   "execution_count": null,
	   "metadata": {
	    "collapsed": true
	   },
	   "outputs": [],
"source": [
"clc\n",
"//Example 12.2\n",
"//Calculate total power dissipated\n",
"disp('Given')\n",
"disp('Van=200 with angle 0 degree and Zp=100with angle 60 degree')\n",
"Zpamp=100;Zpang=60\n",
"//Since one of the phase voltage is given, we need to find other phase voltages\n",
"Vanamp=200;Vbnamp=200 ; Vcnamp=200;\n",
"Vanang=0;Vbnang=-120;Vcnang=-240;\n",
"disp('The phase voltages are')\n",
"printf('Van=%d /_%d deg V\tVbn=%d /_%d deg V\tVcn=%d /_%d deg V\t',Vanamp,Vanang,Vbnamp,Vbnang,Vcnamp,Vcnang)\n",
"\n",
"//Now we will find line voltages\n",
"//Let line voltage be Vline\n",
"Vline=200*sqrt(3)\n",
"//By constructing a phasor diagram\n",
"disp('The line voltages are')\n",
"printf('\n Vab=%d /_%d deg V\tVbc=%d /_%d deg V\tVca=%d /_%d deg V\t',Vline,30,Vline,-90,Vline,-210)\n",
"\n",
"//Let the line current be IaA\n",
"IaAamp=Vanamp/Zpamp\n",
"IaAang=Vanang-Zpang\n",
"//Since the given system is a balanced three phase system\n",
"//From phasor diagram as shown in figure 12.16\n",
"disp('The line currents are')\n",
"printf('\n IaA=%d /_%d deg V\tIbB=%d /_%d deg V\tIcC=%d /_%d deg V\t',IaAamp,IaAang,IaAamp,IaAang-120,IaAamp,IaAang-240)\n",
"//Let power absorbeed by phase A is PAN\n",
"PAN=Vanamp*IaAamp*cos(((Vanang+IaAang)*%pi)/180)\n",
"printf('\n Total average power = %d W',3*PAN)"
   ]
   }
,
{
		   "cell_type": "markdown",
		   "metadata": {},
		   "source": [
			"## Example 12.3: Three_phase_Wye_connection.sce"
		   ]
		  },
  {
"cell_type": "code",
	   "execution_count": null,
	   "metadata": {
	    "collapsed": true
	   },
	   "outputs": [],
"source": [
"clc\n",
"//Example 12.3\n",
"//Calculate the line current and phase impedance\n",
"disp('Given')\n",
"disp('Line voltage = 300V, Power factor=0.8(lead), Phase power = 1200W')\n",
"Vline=300;pf=0.8;PW=1200;\n",
"Vp=Vline/sqrt(3)\n",
"PerPhpower=PW/3;\n",
"//Line current can be found as\n",
"IL=PerPhpower/(pf*Vp)\n",
"printf('Line current= %3.2f A \n',IL)\n",
"//Let Zp be the phase impedance\n",
"Zpmag=Vp/IL\n",
"//Sice power factor is 'leading'\n",
"Zpang=-(acos(0.8)*180)/%pi\n",
"printf('Phase impedance = %d/_%3.2f deg ohm',Zpmag,Zpang);"
   ]
   }
,
{
		   "cell_type": "markdown",
		   "metadata": {},
		   "source": [
			"## Example 12.4: Three_phase_Wye_connection.sce"
		   ]
		  },
  {
"cell_type": "code",
	   "execution_count": null,
	   "metadata": {
	    "collapsed": true
	   },
	   "outputs": [],
"source": [
"clc\n",
"//Example 12.4\n",
"//Calculate the line current\n",
"//Continuing from example 12.3\n",
"Vp=300/sqrt(3);\n",
"IL=2.89;pf=0.8\n",
"disp('A balanced 600W lighting load is added in parallel with the existing load')\n",
"disp('600W if balanced then 200W will be consumed by each phase')\n",
"Vpadd=200;\n",
"//From figure 12.17\n",
"I1=Vpadd/Vp\n",
"disp('Load current is unchanged')\n",
"I2mag=IL\n",
"I2ph=(acos(pf)*180)/%pi\n",
"x=I2mag * cos (( I2ph * %pi ) /180) ;\n",
"y=I2mag * sin (( I2ph * %pi ) /180) ;\n",
"z= complex (x,y)\n",
"disp(z)\n",
"ILnew=I1+z\n",
"[ILmag ILph]=polar(ILnew)\n",
"printf('Line current=%3.2f /_%3.2f deg A \n ',ILmag,ILph*(180/%pi));"
   ]
   }
,
{
		   "cell_type": "markdown",
		   "metadata": {},
		   "source": [
			"## Example 12.5: The_Delta_connection.sce"
		   ]
		  },
  {
"cell_type": "code",
	   "execution_count": null,
	   "metadata": {
	    "collapsed": true
	   },
	   "outputs": [],
"source": [
"clc\n",
"//Example 12.5\n",
"//Calculate amplitude of line current\n",
"disp('Given')\n",
"disp('Line voltage = 300V, Power factor=0.8(lag), Phase power = 1200W')\n",
"Vline=300;pf=0.8;PW=1200;\n",
"disp('1200W will be consumed as 400W in each phase')\n",
"Vp=400\n",
"//Phase current be Ip\n",
"Ip=Vp/(Vline*pf)\n",
"//Let amplitude of line current be IL\n",
"IL=Ip*sqrt(3)\n",
"printf('Line current=%3.2f A \n',IL)\n",
"//Let Zp be the phase impedance\n",
"Zpmag=Vline/Ip\n",
"//Sice power factor is 'lagging'\n",
"Zpang=(acos(0.8)*180)/%pi\n",
"printf('Phase impedance = %d(%3.2f deg)ohm',Zpmag,Zpang);"
   ]
   }
,
{
		   "cell_type": "markdown",
		   "metadata": {},
		   "source": [
			"## Example 12.6: The_Delta_connection.sce"
		   ]
		  },
  {
"cell_type": "code",
	   "execution_count": null,
	   "metadata": {
	    "collapsed": true
	   },
	   "outputs": [],
"source": [
"clc\n",
"//Example 12.6\n",
"//Calculate amplitude of line current\n",
"disp('Given')\n",
"disp('Line voltage = 300V, Power factor=0.8(lag), Phase power = 1200W')\n",
"Vline=300;pf=0.8;PW=1200;\n",
"Vph=Vline/sqrt(3)\n",
"disp('1200W will be consumed as 400W in each phase')\n",
"Vp=400\n",
"//Let phase current be Ip\n",
"Ip=Vp/(Vph*pf)\n",
"printf('Phase current=%3.2f A \n',Ip)\n",
"//Let Zp be the phase impedance\n",
"Zpmag=Vph/Ip\n",
"//Sice power factor is 'lagging'\n",
"Zpang=(acos(0.8)*180)/%pi\n",
"printf('Phase impedance = %d(%3.2f deg)ohm\n',Zpmag,Zpang);\n",
"//PW=sqrt(3)*VL*IL*pf\n",
"IL=PW/(sqrt(3)*Vline*pf)\n",
"printf('Line current=%3.2f A \n',IL)"
   ]
   }
,
{
		   "cell_type": "markdown",
		   "metadata": {},
		   "source": [
			"## Example 12.7: Power_measurement_in_three_phase_systems.sce"
		   ]
		  },
  {
"cell_type": "code",
	   "execution_count": null,
	   "metadata": {
	    "collapsed": true
	   },
	   "outputs": [],
"source": [
"clc\n",
"//Example 12.7\n",
"//Determine wattmeter reading and total power drawn by the load\n",
"disp('Given')\n",
"disp('Vab=230(0 deg)V')\n",
"Vline=230\n",
"//Since positive phase sequence is used\n",
"disp('The line voltages are')\n",
"printf('\n Vab=%d (%d deg)V\tVbc=%d (%d deg) V\tVca=%d (%d deg)V\t',Vline,0,Vline,-120,Vline,120)\n",
"Vacamp=Vline;\n",
"Vacang=-60;\n",
"Vbcamp=Vline;\n",
"Vbcang=-120;\n",
"//Now we will evaluate phase current\n",
"//Let IaA be the phase current\n",
"Vanamp=Vline/sqrt(3)\n",
"Vanph=-30\n",
"//From figure 12.28\n",
"Zph=4+%i*15\n",
"[Zphmag Zphang]=polar(Zph)\n",
"IaAamp=Vanamp/Zphmag\n",
"IaAang=Vanph-(Zphang*180)/%pi\n",
"IbBang=IaAang+240\n",
"printf('\nIaA=%3.2f(%3.2f deg)A\n',IaAamp,IaAang);\n",
"//Power rating of each wattmeter is now calculated\n",
"//Power measured by wattmeter #1\n",
"P1=Vline*IaAamp*cos(((Vacang-IaAang)*%pi)/180)\n",
"printf('P1=%d W \n',P1)\n",
"//Power measured by wattmeter #2\n",
"P2=Vline*IaAamp*cos(((Vbcang-IbBang)*%pi)/180)\n",
"printf('P2=%3.2f W \n',P2)\n",
"//Net power be P\n",
"P=P1+P2\n",
"printf('P=%3.2f W \n',P)"
   ]
   }
],
"metadata": {
		  "kernelspec": {
		   "display_name": "Scilab",
		   "language": "scilab",
		   "name": "scilab"
		  },
		  "language_info": {
		   "file_extension": ".sce",
		   "help_links": [
			{
			 "text": "MetaKernel Magics",
			 "url": "https://github.com/calysto/metakernel/blob/master/metakernel/magics/README.md"
			}
		   ],
		   "mimetype": "text/x-octave",
		   "name": "scilab",
		   "version": "0.7.1"
		  }
		 },
		 "nbformat": 4,
		 "nbformat_minor": 0
}
