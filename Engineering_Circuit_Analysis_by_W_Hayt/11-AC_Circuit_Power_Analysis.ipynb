{
"cells": [
 {
		   "cell_type": "markdown",
	   "metadata": {},
	   "source": [
       "# Chapter 11: AC Circuit Power Analysis"
	   ]
	},
{
		   "cell_type": "markdown",
		   "metadata": {},
		   "source": [
			"## Example 11.1: Instantaneous_Power.sce"
		   ]
		  },
  {
"cell_type": "code",
	   "execution_count": null,
	   "metadata": {
	    "collapsed": true
	   },
	   "outputs": [],
"source": [
"clc\n",
"//Example 11.1\n",
"//Calculate the powerr absorbed by capacitor and resistor\n",
"printf('Given')\n",
"disp('Capacitor 5uF, Resistor 200 ohm, Voltage source is 40+60*u(t)')\n",
"C=5*10^-6;R=200;\n",
"//For t<0 the value of u(t) is zero hence at t=0- the value of voltage is 40V\n",
"//For t=0+ the voltage is 100V \n",
"//At t=0+ the capacitor cannot charge instantaneously hence resistor voltage is 60V\n",
"disp('For t=0+')\n",
"VR=60;\n",
"i0=VR/R\n",
"T=R*C\n",
"t=1.2*10^-3\n",
"disp('The value of current is i(t)=i0*exp(-t/T)')\n",
"ival=i0*exp(-t/T)\n",
"printf('Value of resistor current at 1.2ms=%3.2f mA \n',ival*10^3)\n",
"//Let PR be the power absorbed by the resistor\n",
"PR=ival^2*R\n",
"printf('Value of resistive power at 1.2ms=%3.2f W \n',PR)\n",
"//Out of the 100V available at t>0 the voltage across the capacitor is\n",
"disp('vC(t)=100-60*exp(-t/T)')\n",
"vCval=100-60*exp(-t/T)\n",
"printf('Value of capacitor voltage at 1.2ms=%3.2f V \n',vCval)\n",
"//Let PC be the power absorbed by the capacitor\n",
"PC=ival*vCval\n",
"printf('Value of capacitive power at 1.2ms=%3.2f W \n',PC)"
   ]
   }
,
{
		   "cell_type": "markdown",
		   "metadata": {},
		   "source": [
			"## Example 11.2: Average_Power.sce"
		   ]
		  },
  {
"cell_type": "code",
	   "execution_count": null,
	   "metadata": {
	    "collapsed": true
	   },
	   "outputs": [],
"source": [
"clc\n",
"//Example 11.2\n",
"//Calculate the average power \n",
"printf('Given')\n",
"disp('v=4*cos(%pi/6*t), V=4(0 deg), Z=2(60 deg)')\n",
"Vamp=4;Vang=0;Zamp=2;Zang=60;\n",
"//Let I be the phasor current\n",
"Iamp=Vamp/Zamp\n",
"Iang=Vang-Zang\n",
"P=0.5*Vamp*Zamp*cos((Zang*%pi)/180)\n",
"printf('P=%d W \n',P);\n",
"t=-1:1:15\n",
"t1=-3:1:12\n",
"v=Vamp*cos(%pi/6*t)\n",
"//i=2*cos((%pi/6)*t-(%pi/3))\n",
"i=Iamp*cos(%pi/6*t+((Iang*%pi)/180))\n",
"figure\n",
"a= gca ();\n",
"plot (t,v,t,i)\n",
"xtitle ('v,i vs t' ,'t' ,'v,i');\n",
"a. thickness = 2;\n",
"//Instantaneous power p=v*i\n",
"//On solving\n",
"p=2+4*cos(%pi/3*t+((Iang*%pi)/180))\n",
"figure\n",
"a= gca ();\n",
"plot (t,p)\n",
"xtitle ('p vs t' ,'t' ,'p');\n",
"a. thickness = 2;"
   ]
   }
,
{
		   "cell_type": "markdown",
		   "metadata": {},
		   "source": [
			"## Example 11.3: Average_Power.sce"
		   ]
		  },
  {
"cell_type": "code",
	   "execution_count": null,
	   "metadata": {
	    "collapsed": true
	   },
	   "outputs": [],
"source": [
"clc\n",
"//Example 11.3\n",
"//Calculate the Average Power\n",
"printf('Given')\n",
"disp('ZL=8-i*11 ohm, I=5(20 deg)A')\n",
"R=8;Iamp=5;\n",
"//We need to calculate the average power\n",
"//In the calculation of average power the resistance part of impedace only occurs\n",
"//Let P be the average power\n",
"P=0.5*Iamp^2*R\n",
"printf('Average Power=%d W \n',P)"
   ]
   }
,
{
		   "cell_type": "markdown",
		   "metadata": {},
		   "source": [
			"## Example 11.4: Average_Power.sce"
		   ]
		  },
  {
"cell_type": "code",
	   "execution_count": null,
	   "metadata": {
	    "collapsed": true
	   },
	   "outputs": [],
"source": [
"clc\n",
"//Example 11.4\n",
"//Calculate the Average power absorbed and average power supplied by source\n",
"//From figure 11.6\n",
"//By applying mesh analysis\n",
"I1mag=11.18;I1ang=-63.43;I2mag=7.071;I2ang=-45;R=2;Vleft=20;Vright=10;\n",
"//Current through 2 ohm resistor\n",
"printf('I1-I2=%d(%d ang) A \n',5,-90)\n",
"//Average power absorbed by resistor\n",
"PR=0.5*5^2*R\n",
"printf('Average power absorbed by resistor=%d W \n',PR)\n",
"//Power supplied by left source\n",
"Pleft=0.5*Vleft*I1mag*cos(0-I1ang*%pi/180)\n",
"//Power supplied by right source\n",
"Pright=0.5*Vright*I2mag*cos(0+I2ang*%pi/180)\n",
"printf('Power supplied by sources \t Pleft=%d W \t Pright=%3.1f W',Pleft,Pright);\n",
"\n",
"\n",
"\n",
"\n",
""
   ]
   }
,
{
		   "cell_type": "markdown",
		   "metadata": {},
		   "source": [
			"## Example 11.6: Average_Power_for_Non_periodic_Functions.sce"
		   ]
		  },
  {
"cell_type": "code",
	   "execution_count": null,
	   "metadata": {
	    "collapsed": true
	   },
	   "outputs": [],
"source": [
"clc\n",
"//Example 11.6\n",
"//Calculate the Average power\n",
"printf('Given')\n",
"disp('Resistor value is 4 ohm, i1=2*cos(10t)-3*cos(20t) A')\n",
"R=4;im1=2;im2=-3;\n",
"//Let P be the average power delievered\n",
"P=0.5*im1^2*R+0.5*im2^2*R\n",
"printf('Average power=%d W',P)"
   ]
   }
,
{
		   "cell_type": "markdown",
		   "metadata": {},
		   "source": [
			"## Example 11.7: Average_Power_for_Non_periodic_Functions.sce"
		   ]
		  },
  {
"cell_type": "code",
	   "execution_count": null,
	   "metadata": {
	    "collapsed": true
	   },
	   "outputs": [],
"source": [
"clc\n",
"//Example 11.7\n",
"//Calculate the Average power\n",
"printf('Given')\n",
"disp('Resistor value is 4 ohm, i2=2*cos(10t)-3*cos(10t) A')\n",
"disp('On solving we get i2=-cos(10t)')\n",
"R=4;im=-1\n",
"//Let P be the average power delievered\n",
"P=0.5*im^2*R\n",
"printf('Average power=%d W',P)"
   ]
   }
,
{
		   "cell_type": "markdown",
		   "metadata": {},
		   "source": [
			"## Example 11.8: Apparent_Power_and_Power_factor.sce"
		   ]
		  },
  {
"cell_type": "code",
	   "execution_count": null,
	   "metadata": {
	    "collapsed": true
	   },
	   "outputs": [],
"source": [
"clc\n",
"//Example 11.8\n",
"//Calculate average power, power supplied by source and the power factor\n",
"printf('Given')\n",
"disp('Voltage source is 60 V,Load values are 2-i ohm and 1+5i ohm')\n",
"Vamp=60;Vang=0;\n",
"//Let Z be the cobined resistance\n",
"Z=2-%i+1+5*%i\n",
"[Zmag Zph]=polar(Z)\n",
"Isamp=Vamp/Zmag;\n",
"Isang=Vang-Zph;\n",
"printf('Ieff=%3.0f A rms and angle of Is is %3.2f degree\n',Isamp,(Isang*180)/%pi);\n",
"//Let Pupper be the power delievered to the upper load\n",
"Rtop=2;\n",
"Pupper=Isamp^2*Rtop\n",
"printf('Average Power delievered to the top load=%3.0f W \n',Pupper)\n",
"//Let Plower be the power delievered to the lower load\n",
"Rright=1;\n",
"Plower=Isamp^2*Rright\n",
"printf('Average Power delievered to the right load=%3.0f W \n',Plower)\n",
"//Let Papp be the apparent power\n",
"Papp=Vamp*Isamp\n",
"printf('Apparent Power =%3.0f VA \n',Papp)\n",
"//Let pf be the power factor\n",
"pf=(Pupper+Plower)/Papp\n",
"printf('power factor=%3.1f lag \n',pf)"
   ]
   }
,
{
		   "cell_type": "markdown",
		   "metadata": {},
		   "source": [
			"## Example 11.9: Complex_Power.sce"
		   ]
		  },
  {
"cell_type": "code",
	   "execution_count": null,
	   "metadata": {
	    "collapsed": true
	   },
	   "outputs": [],
"source": [
"clc\n",
"//Example 11.9\n",
"printf('Given')\n",
"disp('Power of induction motor=50kW ,power factor is 0.8 lag,Source voltage is 230V')\n",
"disp('The wish of the consumer is to raise the power factor to 0.95 lag')\n",
"//Let S1 be the complex power supplied to the indiction motor\n",
"V=230;Pmag=50*10^3;pf=0.8;\n",
"Pang=(acos(pf)*180)/%pi\n",
"S1mag=Pmag/pf\n",
"S1ph=Pang\n",
"x=S1mag * cos (( Pang * %pi ) /180) ;\n",
"y=S1mag * sin (( Pang * %pi ) /180) ;\n",
"z= complex (x,y)\n",
"disp(z ,'S1=')\n",
"//To achieve a power factor of 0.95\n",
"pf1=0.95\n",
"//Now the total complex power be S\n",
"P1ang=(acos(pf1)*180)/%pi\n",
"Smag=Pmag/pf1\n",
"Sph=P1ang\n",
"a=Smag * cos (( P1ang * %pi ) /180) ;\n",
"b=Smag * sin (( P1ang * %pi ) /180) ;\n",
"c= complex (a,b)\n",
"disp(c,'S=')\n",
"//Let S2 be the complex power drawn by the corrective load\n",
"S2=c-z\n",
"disp(S2,'S2=')\n",
"disp('Let a phase angle of voltage source selected be 0 degree')\n",
"//Let I2 be the current\n",
"I2=-S2/V\n",
"//Let Z2 be the impedance of corrective load\n",
"Z2=V/I2\n",
"disp(Z2,'Z2=')\n",
""
   ]
   }
],
"metadata": {
		  "kernelspec": {
		   "display_name": "Scilab",
		   "language": "scilab",
		   "name": "scilab"
		  },
		  "language_info": {
		   "file_extension": ".sce",
		   "help_links": [
			{
			 "text": "MetaKernel Magics",
			 "url": "https://github.com/calysto/metakernel/blob/master/metakernel/magics/README.md"
			}
		   ],
		   "mimetype": "text/x-octave",
		   "name": "scilab",
		   "version": "0.7.1"
		  }
		 },
		 "nbformat": 4,
		 "nbformat_minor": 0
}
