{
"cells": [
 {
		   "cell_type": "markdown",
	   "metadata": {},
	   "source": [
       "# Chapter 6: Network Theorems and useful Circuit Analysis Techniques"
	   ]
	},
{
		   "cell_type": "markdown",
		   "metadata": {},
		   "source": [
			"## Example 6.10: The_Superposition_principle.sce"
		   ]
		  },
  {
"cell_type": "code",
	   "execution_count": null,
	   "metadata": {
	    "collapsed": true
	   },
	   "outputs": [],
"source": [
"clc\n",
"//Example 6.10\n",
"//Calculate the voltage across 20 ohm capacitor\n",
"//Consider the circuit to be solved by superposition principle\n",
"disp('Consider the current source 2(90 deg)only')\n",
"//From figure 6.32\n",
"//Let I1 be the current through -i*4 capacitive reactance\n",
"Imag=2;Iph=90;\n",
"i=%i\n",
"x=Imag * cos (( Iph * %pi ) /180) ;\n",
"y=Imag * sin (( Iph * %pi ) /180) ;\n",
"I= complex (x,y)\n",
"I1=(I*(i*15))/(i*5+i*15-i*4)\n",
"//Let V20 be the voltage across -i*4 capacitive reactance\n",
"V200=(-i*4)*I1\n",
"printf('V20=%3.2fV \n',V200)\n",
"disp('Consider the 20 V voltage source only')\n",
"V=20;\n",
"//From figure 6.35\n",
"//let V201 be the voltage across -i*5 capacitive reactance\n",
"V201=-V\n",
"printf('V201=%d V \n',V201)\n",
"disp('Consider the current source 1(90 deg)only')\n",
"I1mag=1;I1ang=90;\n",
"//From figure 6.37\n",
"//Let V202 be the voltage across -i*5 capacitive reactance\n",
"V202=(-i*5)*I1mag*i\n",
"printf('V202=%3.2fV \n',V202)\n",
"//Let V20 be the voltage across -i*20 capacitive reactance\n",
"V20=V200+V201+V202\n",
"printf('\n V20=%3.2fV \n',V20)"
   ]
   }
,
{
		   "cell_type": "markdown",
		   "metadata": {},
		   "source": [
			"## Example 6.17: Reciprocity_Theorem.sce"
		   ]
		  },
  {
"cell_type": "code",
	   "execution_count": null,
	   "metadata": {
	    "collapsed": true
	   },
	   "outputs": [],
"source": [
"clc\n",
"//Example 6.17\n",
"//Verification of Reciprocity theorem\n",
"I=20\n",
"//From figure 6.59\n",
"disp('The current divides between the two parallel impedances')\n",
"//Let I2 be the current through i5 ohm \n",
"I2=(20*%i*(10+%i*5))/(10+%i*5+%i*5-%i*2)\n",
"//Let Vx be the voltage across -i2 ohm capacitive reactance\n",
"Vx=I2*(-%i*2)\n",
"[Vxmag Vxang]=polar(Vx)\n",
"printf('Vx=%3.2f(%3.2f deg)V \n',Vxmag,(Vxang*180)/%pi)\n",
"//To verify Reciprocity theorem remove the current source and place it parallel with -i2 ohm capacitive reactance\n",
"//From figure 6.60\n",
"//Let I2 be the current flowing through resistor of 10 ohm\n",
"I2=(20*%i*(-%i*2))/(10+%i*5+%i*5-%i*2)\n",
"//let Vx1 be the deired output voltage across 10 ohm resistor and i5 inductive reactance\n",
"Vx1=I2*(10+%i*5)\n",
"[Vx1mag Vx1ang]=polar(Vx1)\n",
"printf('Vx1=%3.2f(%3.2f deg)V \n',Vx1mag,(Vx1ang*180)/%pi)\n",
"//Comparing the values of Vx and Vx1\n",
"disp('Vx=Vx1')\n",
"disp('Hence Reciprocity theorem is verified')"
   ]
   }
,
{
		   "cell_type": "markdown",
		   "metadata": {},
		   "source": [
			"## Example 6.18: Reciprocity_Theorem.sce"
		   ]
		  },
  {
"cell_type": "code",
	   "execution_count": null,
	   "metadata": {
	    "collapsed": true
	   },
	   "outputs": [],
"source": [
"clc\n",
"//Example 6.18\n",
"//Verification of Reciprocity theorem\n",
"I=10\n",
"//From figure 6.61\n",
"disp('The current divides between the two parallel impedances')\n",
"//Let I2 be the current through 4 ohm \n",
"I2=(10*5)/(4-%i*4+5)\n",
"//Let Vx be the voltage across -i4 ohm capacitive reactance\n",
"Vx=I2*(-%i*4)\n",
"[Vxmag Vxang]=polar(Vx)\n",
"printf('Vx=%3.2f(%3.2f deg)V \n',Vxmag,(Vxang*180)/%pi)\n",
"//To verify Reciprocity theorem remove the current source and place it parallel with -i4 ohm capacitive reactance\n",
"//From figure 6.62\n",
"//Let I1 be the current flowing through resistor of 5 ohm\n",
"I1=(10*(-%i*4))/(5+4-%i*4)\n",
"//let Vx1 be the deired output voltage across 5 ohm resistor\n",
"Vx1=I1*5\n",
"[Vx1mag Vx1ang]=polar(Vx1)\n",
"printf('Vx1=%3.2f(%3.2f deg)V \n',Vx1mag,(Vx1ang*180)/%pi)\n",
"//Comparing the values of Vx and Vx1\n",
"disp('Vx=Vx1')\n",
"disp('Hence Reciprocity theorem is verified')"
   ]
   }
,
{
		   "cell_type": "markdown",
		   "metadata": {},
		   "source": [
			"## Example 6.19: Millman_Theorem.sce"
		   ]
		  },
  {
"cell_type": "code",
	   "execution_count": null,
	   "metadata": {
	    "collapsed": true
	   },
	   "outputs": [],
"source": [
"clc\n",
"//Example 6.19\n",
"//Calculate total current through load\n",
"//On applying source transformation \n",
"//From figure 6.65\n",
"i=%i\n",
"V1=10;V2mag=5;V2ph=90;V3mag=14.4;V3ph=225;\n",
"x=V2mag * cos (( V2ph * %pi ) /180) ;\n",
"y=V2mag * sin (( V2ph * %pi ) /180) ;\n",
"V2= complex (x,y)\n",
"a=V3mag * cos (( V3ph * %pi ) /180) ;\n",
"b=V3mag * sin (( V3ph * %pi ) /180) ;\n",
"V3= complex (a,b)\n",
"G1=1/2;G2=1/(2+i*3);G3=1/(2-i*2);\n",
"//By applying Millman Theorem\n",
"disp('V=((V1*G1)+(V2*G2)+(V3*G3))/(G1+G2+G3)')\n",
"V=((V1*G1)+(V2*G2)+(V3*G3))/(G1+G2+G3)\n",
"[Vmag Vang]=polar(V)\n",
"R=1/(G1+G2+G3)\n",
"printf('V=%3.2f(%3.2f deg)V',Vmag,(Vang*180)/%pi)\n",
"disp(R,'R=')\n",
"//Consider the resultant circuit from figure 6.66\n",
"disp('Let the total current through 3+i4 be I')\n",
"//Applying KVL to the circuit\n",
"I=V/(3+i*4+R)\n",
"[Imag Iang]=polar(I)\n",
"printf('I=%3.2f(%3.2f deg)V',Imag,(Iang*180)/%pi)\n",
""
   ]
   }
,
{
		   "cell_type": "markdown",
		   "metadata": {},
		   "source": [
			"## Example 6.22: Tellegen_Theorem.sce"
		   ]
		  },
  {
"cell_type": "code",
	   "execution_count": null,
	   "metadata": {
	    "collapsed": true
	   },
	   "outputs": [],
"source": [
"clc\n",
"//Example 6.22\n",
"//Writing KVL for the circuit\n",
"disp('10*i=30')\n",
"//On solving\n",
"i=3;R=10;V1=25;V2=5;\n",
"printf('Power absorbed by 10 ohm resistor is %d W \n',i^2*R)\n",
"printf('Power delivered by 25 V source is %d W \n',V1*i)\n",
"printf('Power delivered by 5 V source is %d W \n',V2*i)\n",
"//Let P be the total power\n",
"P=i^2*R-(V1*i+V2*i)\n",
"if P==0 then\n",
"    disp('Tellegen theorem is valid')\n",
"else\n",
"    disp('Tellegen theorem is not valid')\n",
"end"
   ]
   }
],
"metadata": {
		  "kernelspec": {
		   "display_name": "Scilab",
		   "language": "scilab",
		   "name": "scilab"
		  },
		  "language_info": {
		   "file_extension": ".sce",
		   "help_links": [
			{
			 "text": "MetaKernel Magics",
			 "url": "https://github.com/calysto/metakernel/blob/master/metakernel/magics/README.md"
			}
		   ],
		   "mimetype": "text/x-octave",
		   "name": "scilab",
		   "version": "0.7.1"
		  }
		 },
		 "nbformat": 4,
		 "nbformat_minor": 0
}
