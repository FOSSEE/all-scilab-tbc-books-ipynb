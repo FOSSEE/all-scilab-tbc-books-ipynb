{
"cells": [
 {
		   "cell_type": "markdown",
	   "metadata": {},
	   "source": [
       "# Chapter 15: Circuit Analysis in the s domain"
	   ]
	},
{
		   "cell_type": "markdown",
		   "metadata": {},
		   "source": [
			"## Example 15.10: Convolution_and_Laplace_Transform.sce"
		   ]
		  },
  {
"cell_type": "code",
	   "execution_count": null,
	   "metadata": {
	    "collapsed": true
	   },
	   "outputs": [],
"source": [
"clc\n",
"//Example 15.10\n",
"//Since the input function is given the Laplace transform is found\n",
"syms s t\n",
"s=%s\n",
"vin=6*exp(-t)\n",
"Vin=laplace(vin)\n",
"//Connecting the impulse voltage pulse to the circuit and converting to s-domain\n",
"//If vin=delta(t)..the impulse source\n",
"V0=2/((2/s)+2)\n",
"//As source voltage is 1V\n",
"H=V0\n",
"V=Vin*H\n",
"Vp=pfss ((6*s)/(s+1)^2)\n",
"Vp1=ilaplace(Vp(1))\n",
"v0=Vp1\n",
"disp(v0,'v0(t)=')"
   ]
   }
,
{
		   "cell_type": "markdown",
		   "metadata": {},
		   "source": [
			"## Example 15.1: Modeling_Inductors_in_the_s_domain.sce"
		   ]
		  },
  {
"cell_type": "code",
	   "execution_count": null,
	   "metadata": {
	    "collapsed": true
	   },
	   "outputs": [],
"source": [
"clc\n",
"//Example 15.1\n",
"//Install Symbolic toolbox\n",
"//Calculate the voltage\n",
"//From figure 15.3\n",
"//Writing the KVL equation for the voltage and taking the Laplace transform\n",
"syms s\n",
"s=%s\n",
"disp('V=(2*s*(s+9.5)/((s+8)*(s+0.5)))-2')\n",
"//On solving\n",
"V=(2*s-8)/((s+8)*(s+0.5))\n",
"Vp=pfss (V)\n",
"Vp1=ilaplace(Vp(1))\n",
"Vp2=ilaplace(Vp(2))\n",
"v=Vp1+Vp2\n",
"disp(v,'v(t)=')\n",
"\n",
"\n",
"\n",
""
   ]
   }
,
{
		   "cell_type": "markdown",
		   "metadata": {},
		   "source": [
			"## Example 15.2: Modeling_capacitors_in_the_s_domain.sce"
		   ]
		  },
  {
"cell_type": "code",
	   "execution_count": null,
	   "metadata": {
	    "collapsed": true
	   },
	   "outputs": [],
"source": [
"clc\n",
"//Example 15.2\n",
"//Install Symbolic toolbox\n",
"//Calculate the voltage\n",
"//Selecting the current based model\n",
"//From figure 15.6(b)\n",
"//Writing the KCL equation for the voltage and taking the Laplace transform\n",
"syms s\n",
"s=%s\n",
"Vc=-2*(s-3)/(s*(s+2/3))\n",
"Vcp=pfss (Vc)\n",
"Vcp1=ilaplace(Vcp(1))\n",
"Vcp2=ilaplace(Vcp(2))\n",
"vc=Vcp1+Vcp2\n",
"disp(vc,'vc=')"
   ]
   }
,
{
		   "cell_type": "markdown",
		   "metadata": {},
		   "source": [
			"## Example 15.4: Nodal_and_Mesh_analysis_in_s_domain.sce"
		   ]
		  },
  {
"cell_type": "code",
	   "execution_count": null,
	   "metadata": {
	    "collapsed": true
	   },
	   "outputs": [],
"source": [
"clc\n",
"//Example 15.4\n",
"//Install Symbolic toolbox\n",
"//Calculate the voltage\n",
"//From figure 15.9\n",
"//Applying nodal equation and solving for vx\n",
"syms s\n",
"s=%s\n",
"Vx=(10*s^2+4)/(s*(2*s^2+4*s+1))\n",
"Vxp=pfss (Vx)\n",
"Vxp1= ilaplace (Vxp(1))\n",
"Vxp2= ilaplace (Vxp(2))\n",
"vx=Vxp1+Vxp2\n",
"disp(vx,'vx=')"
   ]
   }
,
{
		   "cell_type": "markdown",
		   "metadata": {},
		   "source": [
			"## Example 15.6: Additional_circuit_analysis_techniques.sce"
		   ]
		  },
  {
"cell_type": "code",
	   "execution_count": null,
	   "metadata": {
	    "collapsed": true
	   },
	   "outputs": [],
"source": [
"clc\n",
"//Example 15.6\n",
"//Install Symbolic toolbox\n",
"//Calculate the voltage\n",
"//Performing source transformatiom on the s-domain circuit\n",
"//Solving for V(s)\n",
"syms s\n",
"s=%s\n",
"V=(180*s^4)/((s^2+9)*(90*s^3+18*s^2+40*s+4))\n",
"Vp=pfss (V)\n",
"Vp1=ilaplace(Vp(1))\n",
"Vp2=ilaplace(Vp(2))\n",
"Vp3=ilaplace(Vp(3))\n",
"v=Vp1+Vp2+Vp3\n",
"disp(v,'v(t)=')"
   ]
   }
,
{
		   "cell_type": "markdown",
		   "metadata": {},
		   "source": [
			"## Example 15.9: Convolution_and_Laplace_Transform.sce"
		   ]
		  },
  {
"cell_type": "code",
	   "execution_count": null,
	   "metadata": {
	    "collapsed": true
	   },
	   "outputs": [],
"source": [
"clc\n",
"//Example 15.9\n",
"//Install Symbolic toolbox\n",
"//Find the inverse Laplace transform\n",
"syms s\n",
"s=%s\n",
"//Let a=1 and b=3\n",
"a=1;b=3;\n",
"V=1/((s+a)*(s+b))\n",
"Vp=pfss (V)\n",
"Vp1=ilaplace(Vp(1))\n",
"Vp2=ilaplace(Vp(2))\n",
"v=Vp1+Vp2\n",
"disp(v,'v(t)=')"
   ]
   }
],
"metadata": {
		  "kernelspec": {
		   "display_name": "Scilab",
		   "language": "scilab",
		   "name": "scilab"
		  },
		  "language_info": {
		   "file_extension": ".sce",
		   "help_links": [
			{
			 "text": "MetaKernel Magics",
			 "url": "https://github.com/calysto/metakernel/blob/master/metakernel/magics/README.md"
			}
		   ],
		   "mimetype": "text/x-octave",
		   "name": "scilab",
		   "version": "0.7.1"
		  }
		 },
		 "nbformat": 4,
		 "nbformat_minor": 0
}
