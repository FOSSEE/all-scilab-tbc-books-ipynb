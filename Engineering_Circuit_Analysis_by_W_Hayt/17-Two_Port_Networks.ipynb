{
"cells": [
 {
		   "cell_type": "markdown",
	   "metadata": {},
	   "source": [
       "# Chapter 17: Two Port Networks"
	   ]
	},
{
		   "cell_type": "markdown",
		   "metadata": {},
		   "source": [
			"## Example 17.10: Transmission_parameters.sce"
		   ]
		  },
  {
"cell_type": "code",
	   "execution_count": null,
	   "metadata": {
	    "collapsed": true
	   },
	   "outputs": [],
"source": [
"clc\n",
"//Example 17.10\n",
"//From figure 17.32\n",
"disp('Consider Network A')\n",
"//Writing the mesh equations \n",
"disp('V1=12*I1+10*I2')\n",
"disp('V2=10*I1+14*I2')\n",
"//Arranging in the standard form \n",
"//V1=t11*V2-t12*I2\n",
"//I1=t21*V2-t22*I2\n",
"//Therefore t parameters of Network A is\n",
"t11A=1.2;t12A=6.8;t21A=0.1;t22A=1.4;\n",
"disp('Consider Network B')\n",
"//Writing the mesh equations \n",
"disp('V1=24*I1+20*I2')\n",
"disp('V2=20*I1+28*I2')\n",
"//Arranging in the standard form \n",
"//V1=t11*V2-t12*I2\n",
"//I1=t21*V2-t22*I2\n",
"//Therefore t parameters of Network B is\n",
"t11B=1.2;t12B=13.6;t21B=0.05;t22B=1.4;\n",
"tA=[1.2 6.8;0.1 1.4]\n",
"tB=[1.2 13.6;0.05 1.4]\n",
"disp('t parameters of cascaded network is t=tA*tB')\n",
"t=tA*tB\n",
"disp(t)"
   ]
   }
,
{
		   "cell_type": "markdown",
		   "metadata": {},
		   "source": [
			"## Example 17.1: One_port_networks.sce"
		   ]
		  },
  {
"cell_type": "code",
	   "execution_count": null,
	   "metadata": {
	    "collapsed": true
	   },
	   "outputs": [],
"source": [
"//Example 17.1\n",
"clc\n",
"//From figure 17.3\n",
"disp('The mesh equations are')\n",
"disp('V1=10*I1-10*I2')\n",
"disp('0=-10*I1+17*I2-2*I3-5*I4')\n",
"disp('0=-2*I2+7*I3-I4')\n",
"disp('0=-5*I2-I3+26*I4')\n",
"//We need to find input impedance\n",
"disp('Zin=delz/del11')\n",
"//In matrix form\n",
"A=[10 -10 0 0 ;-10 17 -2 -5; 0 -2 7 -1;0 -5 -1 26]\n",
"delz=det(A)\n",
"printf('\n delz=%f ohm^4',delz);\n",
"//Eliminating first row and first column to find del11\n",
"B=[17 -2 -5;-2 7 -1;-5 -1 26]\n",
"del11=det(B)\n",
"printf('\n del11=%f ohm^3',del11);\n",
"Zin=delz/del11\n",
"printf('\n Zin=%f ohm',Zin);"
   ]
   }
,
{
		   "cell_type": "markdown",
		   "metadata": {},
		   "source": [
			"## Example 17.2: One_port_networks.sce"
		   ]
		  },
  {
"cell_type": "code",
	   "execution_count": null,
	   "metadata": {
	    "collapsed": true
	   },
	   "outputs": [],
"source": [
"//Example 17.2\n",
"clc\n",
"//From figure 17.5\n",
"disp('The mesh equations are')\n",
"disp('V1=10*I1-10*I2')\n",
"disp('0=-10*I1+17*I2-2*I3-5*I4')\n",
"disp('0=-2*I2+7*I3-I4')\n",
"disp('0=-0.5*I3+1.5*I4')\n",
"//We need to find input impedance\n",
"disp('Zin=delz/del11')\n",
"//In matrix form\n",
"A=[10 -10 0 0 ;-10 17 -2 -5; 0 -2 7 -1;0 0 -0.5 1.5]\n",
"delz=det(A)\n",
"printf('\n delz=%f ohm^3',delz);\n",
"//Eliminating first row and first column to find del11\n",
"B=[17 -2 -5;-2 7 -1;0 -0.5 1.5]\n",
"del11=det(B)\n",
"printf('\n del11=%f ohm^2',del11);\n",
"Zin=delz/del11\n",
"printf('\n Zin=%f ohm',Zin);"
   ]
   }
,
{
		   "cell_type": "markdown",
		   "metadata": {},
		   "source": [
			"## Example 17.3: One_port_networks.sce"
		   ]
		  },
  {
"cell_type": "code",
	   "execution_count": null,
	   "metadata": {
	    "collapsed": true
	   },
	   "outputs": [],
"source": [
"//Example 17.3\n",
"clc\n",
"//From figure 17.7\n",
"disp('The nodal equations are')\n",
"disp('I1=0.35*V1-0.2*V2-0.05*V3')\n",
"disp('I2=-0.2*V1+1.7*V2-1*V3')\n",
"disp('I3=-0.05*V1-1*V2+1.3*I3')\n",
"//We need to find input impedance\n",
"disp('Yin=dely/del11')\n",
"disp('Zin=1/Yin')\n",
"//In matrix form\n",
"A=[0.35 -0.2 -0.05;-0.2 1.7 -1;-0.05 -1 1.3]\n",
"dely=det(A)\n",
"printf('\n dely=%f S^3',dely);\n",
"//Eliminating first row and first column to find del11\n",
"B=[1.7 -1;-1 1.3]\n",
"del11=det(B)\n",
"printf('\n del11=%f S^2',del11);\n",
"Yin=dely/del11\n",
"printf('\n Yin=%f S',Yin);\n",
"Zin=1/Yin\n",
"printf('\n Zin=%f ohm',Zin);"
   ]
   }
,
{
		   "cell_type": "markdown",
		   "metadata": {},
		   "source": [
			"## Example 17.7: Some_equivalent_networks.sce"
		   ]
		  },
  {
"cell_type": "code",
	   "execution_count": null,
	   "metadata": {
	    "collapsed": true
	   },
	   "outputs": [],
"source": [
"clc\n",
"//Example 17.7\n",
"//From figure 17.16\n",
"disp('Given a linear model of a transistor we need not explicitly find the aadmittance parameters ')\n",
"disp('-y12 corresponds to admittance of 2k ohm resistor')\n",
"disp('y11+y12 corresponds to admittance of 500 ohm resistor')\n",
"disp('y21-y12 correponds to gain of dependent voltage source')\n",
"disp('y22+y12 corresponds to admittance of 10k ohm resistor')\n",
"//Writing down in equation form\n",
"y12=-1/2000\n",
"y11=1/500-y12\n",
"y21=0.0395+y12\n",
"y22=1/10000-y12\n",
"printf('\n y11= %3.2f mS \n y12= %3.2f mS \n y21= %3.2f mS \n y22= %3.2f mS',y11*10^3,y12*10^3,y21*10^3,y22*10^3);"
   ]
   }
,
{
		   "cell_type": "markdown",
		   "metadata": {},
		   "source": [
			"## Example 17.8: Impedance_parameters.sce"
		   ]
		  },
  {
"cell_type": "code",
	   "execution_count": null,
	   "metadata": {
	    "collapsed": true
	   },
	   "outputs": [],
"source": [
"clc\n",
"//Example 17.8\n",
"disp('Given')\n",
"disp('Z=[10^3 10;-10^6 10^4 ]')\n",
"z11=10^3 ; z12=10;z21=-10^6;z22=10^4 \n",
"//Using the given matrix we can write the mesh equations as\n",
"disp('V1=10^3*I1+10*I2')\n",
"disp('V2=-10^6*I1+10^4*I2')\n",
"//The input to an two port network is an ideal sinusoidal voltage source in series with 500 ohm\n",
"//Mathematically\n",
"disp('The characterizing equations are')\n",
"disp('Vs=500*I1+V1')\n",
"//The output to an two port network is a 10k ohm resistor\n",
"//Mathematically\n",
"disp('V2=-10^4*I2')\n",
"Zg=500;\n",
"//Expressing V1,V2,I1,I2 in terms of Vs\n",
"V1=0.75*Vs\n",
"I1=Vs/2000\n",
"V2=-250*Vs\n",
"I2=Vs/40\n",
"disp('Voltage gain Gv=V2/V1')\n",
"Gv=V2/V1\n",
"disp(Gv,'Gv=')\n",
"disp('Current gain Gi=I2/I1')\n",
"Gi=I2/I1\n",
"disp(Gi,'Gi=')\n",
"disp('Power gain Gp=Real[-0.5*V2*I2*]/Real[0..5*V1*I1*]')\n",
"Gp=(-0.5*V2*I2)/(0.5*V1*I1)\n",
"disp(Gp,'Gp=')\n",
"disp('Input impedance is Zin=V1/I1')\n",
"Zin=V1/I1\n",
"printf('\n Zin= %d ohm',Zin)\n",
"disp('Output impedance is Zout=z22-((z12*z21)/(z11+Zg))')\n",
"Zout=z22-((z12*z21)/(z11+Zg))\n",
"printf('\n Zout= %3.2f kohm',Zout*10^-3)\n",
""
   ]
   }
,
{
		   "cell_type": "markdown",
		   "metadata": {},
		   "source": [
			"## Example 17.9: Hybrid_parameters.sce"
		   ]
		  },
  {
"cell_type": "code",
	   "execution_count": null,
	   "metadata": {
	    "collapsed": true
	   },
	   "outputs": [],
"source": [
"clc\n",
"//Example 17.9\n",
"//From figure 17.27\n",
"//Writing the mesh equations \n",
"disp('V1=5*I1+4*I2')\n",
"disp('V2=4*I1+10*I2')\n",
"//Arranging in the standard form \n",
"//V1=h11*I1+h12*V2\n",
"//I2=h21*I1+h22*V2\n",
"//Therefore h parameters are\n",
"h11=3.4;h12=0.4;h21=-0.4;h22=0.1;\n",
"h=[h11 h12;h21 h22]\n",
"disp(h)"
   ]
   }
],
"metadata": {
		  "kernelspec": {
		   "display_name": "Scilab",
		   "language": "scilab",
		   "name": "scilab"
		  },
		  "language_info": {
		   "file_extension": ".sce",
		   "help_links": [
			{
			 "text": "MetaKernel Magics",
			 "url": "https://github.com/calysto/metakernel/blob/master/metakernel/magics/README.md"
			}
		   ],
		   "mimetype": "text/x-octave",
		   "name": "scilab",
		   "version": "0.7.1"
		  }
		 },
		 "nbformat": 4,
		 "nbformat_minor": 0
}
