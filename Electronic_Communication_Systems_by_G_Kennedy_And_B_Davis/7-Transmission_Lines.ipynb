{
"cells": [
 {
		   "cell_type": "markdown",
	   "metadata": {},
	   "source": [
       "# Chapter 7: Transmission Lines"
	   ]
	},
{
		   "cell_type": "markdown",
		   "metadata": {},
		   "source": [
			"## Example 7.1: Inductance_and_outer_conductor_diameter.sci"
		   ]
		  },
  {
"cell_type": "code",
	   "execution_count": null,
	   "metadata": {
	    "collapsed": true
	   },
	   "outputs": [],
"source": [
"//Determine inductance per meter and outer conductor diameter\n",
"\n",
"Z0 = 75;\n",
"C = 69e-12;\n",
"k = 2.23;\n",
"d = 0.584;\n",
"\n",
"L = Z0^2*C;\n",
"D = d * 10^(Z0/(138/sqrt(k)));\n",
"\n",
"disp(L, 'Inductance per meter (in H/m)')\n",
"disp(D, 'Outer conductor diameter (in mm)')"
   ]
   }
,
{
		   "cell_type": "markdown",
		   "metadata": {},
		   "source": [
			"## Example 7.2: Minimum_value_of_characteristic_impediance.sci"
		   ]
		  },
  {
"cell_type": "code",
	   "execution_count": null,
	   "metadata": {
	    "collapsed": true
	   },
	   "outputs": [],
"source": [
"//Determine the minimum value that the characteristic impediance of an air-dielectric parallel-wire line\n",
"\n",
"Zmin = 276*log10(2*1);\n",
"\n",
"disp(Zmin, 'Min. value that char. impd. of an air-dielectric parallel-wire line is (in ohms)')"
   ]
   }
,
{
		   "cell_type": "markdown",
		   "metadata": {},
		   "source": [
			"## Example 7.3: Outer_conductor_diameter.sci"
		   ]
		  },
  {
"cell_type": "code",
	   "execution_count": null,
	   "metadata": {
	    "collapsed": true
	   },
	   "outputs": [],
"source": [
"//Determine the outer conductor diameter of a coaxial cable\n",
"\n",
"Z0 = 2000;\n",
"k = 2.56;\n",
"d = 0.025;\n",
"\n",
"\n",
"D = d * 10^(Z0/(138/sqrt(k)));\n",
"D1 = D/1e+6;\n",
"D2 = D1/9.44e+12;\n",
"\n",
"disp(D2, 'Outer conductor diameter is (in light years)')"
   ]
   }
,
{
		   "cell_type": "markdown",
		   "metadata": {},
		   "source": [
			"## Example 7.4: Charactericstic_impediance.sci"
		   ]
		  },
  {
"cell_type": "code",
	   "execution_count": null,
	   "metadata": {
	    "collapsed": true
	   },
	   "outputs": [],
"source": [
"//Determine the charactericstic impediance of the quarter-wave transfomer\n",
"\n",
"Z0 = 200;\n",
"Zl = 300;\n",
"\n",
"Z01 = sqrt(Z0*Zl);\n",
"\n",
"disp(Z01, 'Charactericstic impediance of the quarter-wave transfomer is (in ohms)')"
   ]
   }
,
{
		   "cell_type": "markdown",
		   "metadata": {},
		   "source": [
			"## Example 7.5: Reactance_and_characteristic_impedance.sci"
		   ]
		  },
  {
"cell_type": "code",
	   "execution_count": null,
	   "metadata": {
	    "collapsed": true
	   },
	   "outputs": [],
"source": [
"//Determine reactance of the stub and the characteristic impedance of the quater-wave transformer, both connected directly to the load\n",
"\n",
"Z0 = 300;\n",
"Zl = 200 + 75*%i;\n",
"Bstub = 1.64e-3;\n",
"\n",
"Yl = 1/Zl;\n",
"X = -1/Bstub;\n",
"Gl = 4.38e-3;\n",
"Rl = 1/Gl;\n",
"\n",
"Z01= sqrt(Z0*Rl);\n",
"\n",
"disp(X, 'Reactance of quarter-wave transformer is (in ohms)')\n",
"disp(Z01, 'Char. imp. of quarter-wave transformer (in ohms)')"
   ]
   }
],
"metadata": {
		  "kernelspec": {
		   "display_name": "Scilab",
		   "language": "scilab",
		   "name": "scilab"
		  },
		  "language_info": {
		   "file_extension": ".sce",
		   "help_links": [
			{
			 "text": "MetaKernel Magics",
			 "url": "https://github.com/calysto/metakernel/blob/master/metakernel/magics/README.md"
			}
		   ],
		   "mimetype": "text/x-octave",
		   "name": "scilab",
		   "version": "0.7.1"
		  }
		 },
		 "nbformat": 4,
		 "nbformat_minor": 0
}
