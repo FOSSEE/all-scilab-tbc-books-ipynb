{
"cells": [
 {
		   "cell_type": "markdown",
	   "metadata": {},
	   "source": [
       "# Chapter 3: Amplitude Modulation"
	   ]
	},
{
		   "cell_type": "markdown",
		   "metadata": {},
		   "source": [
			"## Example 3.1: Frequency_range_by_sidebands.sci"
		   ]
		  },
  {
"cell_type": "code",
	   "execution_count": null,
	   "metadata": {
	    "collapsed": true
	   },
	   "outputs": [],
"source": [
"//Determine frequency range occupied by the sidebands\n",
"\n",
"L = 50e-6;\n",
"C = 1e-9;\n",
"\n",
"f = 1/(2*%pi*sqrt(L*C));\n",
"\n",
"f1 = f-10000;\n",
"f2 = f+10000;\n",
"\n",
"disp(f, 'Frequency range occupied by the sidebands is (in Hz)')\n",
"disp(f1, 'Frequency range extending from ')\n",
"disp(' Hz ', f2, 'to' )"
   ]
   }
,
{
		   "cell_type": "markdown",
		   "metadata": {},
		   "source": [
			"## Example 3.2: Total_power_in_modulated_wave.sci"
		   ]
		  },
  {
"cell_type": "code",
	   "execution_count": null,
	   "metadata": {
	    "collapsed": true
	   },
	   "outputs": [],
"source": [
"//Calculate total power in the modulated wave\n",
"\n",
"Pc = 400;\n",
"m = .75;\n",
"\n",
"Pt = Pc*(1+(m^2/2));\n",
"\n",
"disp(Pt, 'Total power in modulated power is (in W)')"
   ]
   }
,
{
		   "cell_type": "markdown",
		   "metadata": {},
		   "source": [
			"## Example 3.3: Carrier_power.sci"
		   ]
		  },
  {
"cell_type": "code",
	   "execution_count": null,
	   "metadata": {
	    "collapsed": true
	   },
	   "outputs": [],
"source": [
"//Determine carrier power\n",
"\n",
"Pt = 10;\n",
"m = .60;\n",
"\n",
"Pc = Pt/(1+(m^2/2));\n",
"\n",
"disp(Pc, 'Carrier power is (in kW)')"
   ]
   }
,
{
		   "cell_type": "markdown",
		   "metadata": {},
		   "source": [
			"## Example 3.4: Antenna_current.sci"
		   ]
		  },
  {
"cell_type": "code",
	   "execution_count": null,
	   "metadata": {
	    "collapsed": true
	   },
	   "outputs": [],
"source": [
"//Determine antenna current when percent of modulation changes to 0.8\n",
"\n",
"It = 8.93;\n",
"Ic = 8;\n",
"\n",
"m = sqrt(2*((It/Ic)^2 - 1));\n",
"\n",
"m1 = .8;\n",
"It1 = Ic*sqrt(1 + (m1^2/2))\n",
"\n",
"disp(It1, 'Antenna current when percent of modulation changes to 0.8 is (in A)')\n",
""
   ]
   }
,
{
		   "cell_type": "markdown",
		   "metadata": {},
		   "source": [
			"## Example 3.5: Total_radiated_power.sci"
		   ]
		  },
  {
"cell_type": "code",
	   "execution_count": null,
	   "metadata": {
	    "collapsed": true
	   },
	   "outputs": [],
"source": [
"//Determine total radiated power\n",
"\n",
"Pt = 10.125;\n",
"Pc = 9;\n",
"\n",
"m1 = sqrt(2*((Pt/Pc) - 1));\n",
"\n",
"m2 = .40;\n",
"mt = sqrt(m1^2 + m2^2);\n",
"\n",
"Pt1 = Pc*(1+(mt^2/2));\n",
"\n",
"disp(Pt1, 'Total radiated power is (in kW)')\n",
""
   ]
   }
,
{
		   "cell_type": "markdown",
		   "metadata": {},
		   "source": [
			"## Example 3.6: Modulation_index.sci"
		   ]
		  },
  {
"cell_type": "code",
	   "execution_count": null,
	   "metadata": {
	    "collapsed": true
	   },
	   "outputs": [],
"source": [
"//Determine modulation index due to this second wave\n",
"\n",
"It1 = 11;\n",
"m1 = .40;\n",
"It2 = 12;\n",
"\n",
"Ic = It1/sqrt(1+(m1^2/2));\n",
"mt = sqrt(2*( (It2/Ic)^2 - 1 ));\n",
"\n",
"m = sqrt(mt^2 - m1^2);\n",
"\n",
"disp(m, 'Modulation index due to second wave is')"
   ]
   }
],
"metadata": {
		  "kernelspec": {
		   "display_name": "Scilab",
		   "language": "scilab",
		   "name": "scilab"
		  },
		  "language_info": {
		   "file_extension": ".sce",
		   "help_links": [
			{
			 "text": "MetaKernel Magics",
			 "url": "https://github.com/calysto/metakernel/blob/master/metakernel/magics/README.md"
			}
		   ],
		   "mimetype": "text/x-octave",
		   "name": "scilab",
		   "version": "0.7.1"
		  }
		 },
		 "nbformat": 4,
		 "nbformat_minor": 0
}
