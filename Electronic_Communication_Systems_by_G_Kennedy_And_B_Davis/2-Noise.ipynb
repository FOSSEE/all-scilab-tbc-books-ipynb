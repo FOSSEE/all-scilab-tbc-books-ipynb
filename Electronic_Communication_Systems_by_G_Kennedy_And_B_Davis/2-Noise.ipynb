{
"cells": [
 {
		   "cell_type": "markdown",
	   "metadata": {},
	   "source": [
       "# Chapter 2: Noise"
	   ]
	},
{
		   "cell_type": "markdown",
		   "metadata": {},
		   "source": [
			"## Example 2.1: RMS_noise_voltage.sci"
		   ]
		  },
  {
"cell_type": "code",
	   "execution_count": null,
	   "metadata": {
	    "collapsed": true
	   },
	   "outputs": [],
"source": [
"//Determine RMS noise voltage\n",
"\n",
"f1 = 18e+6;\n",
"f2 = 20e+6;\n",
"R = 10e+3;\n",
"T = 27;\n",
"k = 1.38e-23;\n",
"\n",
"df = f2-f1;\n",
"T = T + 273;\n",
"\n",
"Vn = sqrt(4*k*T*df*R);\n",
"\n",
"disp(Vn, 'RMS noise voltage is (in V)')"
   ]
   }
,
{
		   "cell_type": "markdown",
		   "metadata": {},
		   "source": [
			"## Example 2.2: Noise_voltage.sci"
		   ]
		  },
  {
"cell_type": "code",
	   "execution_count": null,
	   "metadata": {
	    "collapsed": true
	   },
	   "outputs": [],
"source": [
"//Determine noise voltage\n",
"\n",
"f = 6e+6;\n",
"R1 = 200;\n",
"R2 = 300;\n",
"T = 17;\n",
"\n",
"R = R1 + R2;\n",
"k = 1.38e-23;\n",
"T = T + 273;\n",
"\n",
"Vn = sqrt(4*k*T*f*R);\n",
"\n",
"disp(Vn, 'Noise voltage is (in V)')"
   ]
   }
,
{
		   "cell_type": "markdown",
		   "metadata": {},
		   "source": [
			"## Example 2.3: Input_noise_resistance.sci"
		   ]
		  },
  {
"cell_type": "code",
	   "execution_count": null,
	   "metadata": {
	    "collapsed": true
	   },
	   "outputs": [],
"source": [
"//Determine Input-noise Resistance\n",
"\n",
"R1 = 600 + 1600;\n",
"R2 = (27e+3*81e+3) / (27e+3+81e+3) + 10e+3;\n",
"R3 = 1e+6;\n",
"\n",
"A1 = 10;\n",
"A2 = 25;\n",
"\n",
"Req = R1 + R2/A1^2 + R3/(A1^2 * A2^2);\n",
"\n",
"disp(Req, 'Input-noise Resistance is (in ohms)')"
   ]
   }
,
{
		   "cell_type": "markdown",
		   "metadata": {},
		   "source": [
			"## Example 2.4: Noise_figure_of_amplifier.sci"
		   ]
		  },
  {
"cell_type": "code",
	   "execution_count": null,
	   "metadata": {
	    "collapsed": true
	   },
	   "outputs": [],
"source": [
"//Determine noise figure of the amplifier of previous example\n",
"\n",
"Ro = 50;\n",
"Req = 2518;\n",
"Rt = 600;\n",
"\n",
"Req1 = Req - Rt \n",
"\n",
"F = 1 + (Req1/Ro);\n",
"F1 =  10*log10(F);\n",
"\n",
"disp(F, 'Noise Figure of amplifier is (in W)')\n",
"disp(F1, 'Noise Figure of amplifier is (in dB)')\n",
""
   ]
   }
],
"metadata": {
		  "kernelspec": {
		   "display_name": "Scilab",
		   "language": "scilab",
		   "name": "scilab"
		  },
		  "language_info": {
		   "file_extension": ".sce",
		   "help_links": [
			{
			 "text": "MetaKernel Magics",
			 "url": "https://github.com/calysto/metakernel/blob/master/metakernel/magics/README.md"
			}
		   ],
		   "mimetype": "text/x-octave",
		   "name": "scilab",
		   "version": "0.7.1"
		  }
		 },
		 "nbformat": 4,
		 "nbformat_minor": 0
}
