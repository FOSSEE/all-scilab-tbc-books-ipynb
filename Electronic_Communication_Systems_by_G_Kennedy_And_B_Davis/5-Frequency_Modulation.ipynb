{
"cells": [
 {
		   "cell_type": "markdown",
	   "metadata": {},
	   "source": [
       "# Chapter 5: Frequency Modulation"
	   ]
	},
{
		   "cell_type": "markdown",
		   "metadata": {},
		   "source": [
			"## Example 5.1: Modulation_index.sci"
		   ]
		  },
  {
"cell_type": "code",
	   "execution_count": null,
	   "metadata": {
	    "collapsed": true
	   },
	   "outputs": [],
"source": [
"//Determine modulation index in each case\n",
"\n",
"de1 = 4.8;\n",
"V = 2.4e+3;\n",
"fm1 = 0.5;\n",
"fm2 = 0.2;\n",
"\n",
"Vm1 = 7.2;\n",
"de2 = 2*Vm1;\n",
"\n",
"Vm2 = 10;\n",
"de3 = 2*Vm2;\n",
"\n",
"mf1 = de1/fm1;\n",
"mf2 = de2/fm1;\n",
"mf3 = de3/fm2;\n",
"\n",
"disp(de2, 'Deviation when AF voltage id incresed to 7.2 V (in kHz)')\n",
"disp(de3, 'Deviation when AF voltage id incresed to 10 V (in kHz)')\n",
"disp(mf1, 'Modulation index in case 1')\n",
"disp(mf2, 'Modulation index in case 2')\n",
"disp(mf3, 'Modulation index in case 3')"
   ]
   }
,
{
		   "cell_type": "markdown",
		   "metadata": {},
		   "source": [
			"## Example 5.2: Carrier_and_modulating_frequencies.sci"
		   ]
		  },
  {
"cell_type": "code",
	   "execution_count": null,
	   "metadata": {
	    "collapsed": true
	   },
	   "outputs": [],
"source": [
"//Find carrier and modulating frequencies, modulation index and max. deviation of FM wave. Also find power dissipated in FM wave\n",
"\n",
"wc = 6e+8;\n",
"wm = 1250;\n",
"%pi;\n",
"mf = 5;\n",
"Vrms = 12/sqrt(2);\n",
"R = 10;\n",
"\n",
"fc = wc/(2*%pi);\n",
"fm = wm/(2*%pi);\n",
"del = mf*fm;\n",
"P = (Vrms)^2/R;\n",
"\n",
"disp(fc, 'Carrier Frequency (in Hz)')\n",
"disp(fm, 'Modulation Frequency (in Hz)')\n",
"disp(mf, 'Moduation Index')\n",
"disp(del, 'Max. Deviation (in Hz)')\n",
"disp(P, 'Power dissipated in FM wave (in W)');"
   ]
   }
,
{
		   "cell_type": "markdown",
		   "metadata": {},
		   "source": [
			"## Example 5.3: Bandwidth.sci"
		   ]
		  },
  {
"cell_type": "code",
	   "execution_count": null,
	   "metadata": {
	    "collapsed": true
	   },
	   "outputs": [],
"source": [
"//Determine bandwidth requirement for an FM signal\n",
"\n",
"del = 10;\n",
"fm = 2;\n",
"fms = 8;\n",
"\n",
"mf = del/fm;\n",
"bw = fm*fms*2;\n",
"\n",
"disp(bw, 'Bandwidth requirement for an FM signal (in Khz) ');"
   ]
   }
,
{
		   "cell_type": "markdown",
		   "metadata": {},
		   "source": [
			"## Example 5.4: Equation_of_modulated_wave.sci"
		   ]
		  },
  {
"cell_type": "code",
	   "execution_count": null,
	   "metadata": {
	    "collapsed": true
	   },
	   "outputs": [],
"source": [
"//Write equation of modulated wave for (a) FM  (b) PM and when modulating frequency is changed to 2Khz \n",
"\n",
"fc = 25e+6;\n",
"fm = 400;\n",
"del = 1e+4;\n",
"\n",
"wc = 2*%pi*fc;\n",
"wm = 2*%pi*fm;\n",
"\n",
"mf = del/fm;\n",
"\n",
"disp(wc, ' Equation of modulated wave in FM for case (a) is V =  4sin(  ')\n",
"disp(mf,' t +  ')\n",
"disp(wm, 'sin ')\n",
"disp('t (FM)')\n",
"\n",
"disp(wc, ' Equation of modulated wave in PM for case (b) is V =  4sin(  ')\n",
"disp(mf,' t +  ')\n",
"disp(wm, 'sin ')\n",
"disp('t (PM)')\n",
"\n",
"disp(wc, ' Equation of modulated wave in FM for case (c) is V =  4sin(  ')\n",
"\n",
"disp(5*wm, 't + 5sin ')\n",
"disp('t (FM)')\n",
"\n",
"disp(wc, ' Equation of modulated wave in PM for case (d) is V =  4sin(  ')\n",
"disp(mf,' t +  ')\n",
"disp(5*wm, 'sin ')\n",
"disp('t (PM)')"
   ]
   }
,
{
		   "cell_type": "markdown",
		   "metadata": {},
		   "source": [
			"## Example 5.5: Capacity_reactance.sci"
		   ]
		  },
  {
"cell_type": "code",
	   "execution_count": null,
	   "metadata": {
	    "collapsed": true
	   },
	   "outputs": [],
"source": [
"//Determine value of capacity reactance obtainable from a reactance FET\n",
"\n",
"n = 9;\n",
"gm = 12e-3;\n",
"\n",
"Xceq = n/gm;\n",
"\n",
"disp(Xceq, 'Value of capacity reactance is (in ohms)');"
   ]
   }
,
{
		   "cell_type": "markdown",
		   "metadata": {},
		   "source": [
			"## Example 5.6: Total_frequency_variation.sci"
		   ]
		  },
  {
"cell_type": "code",
	   "execution_count": null,
	   "metadata": {
	    "collapsed": true
	   },
	   "outputs": [],
"source": [
"//Determine total frequency variation when the transconductance of the FET is varied from zero to maximum by the modulating voltage\n",
"\n",
"gm = 9e-3;\n",
"fn = 8*5e+7;\n",
"f = 50e+6;\n",
"C = 50e-12;\n",
"\n",
"Cx = gm/(2*%pi*fn);\n",
"\n",
"F = sqrt(1 + (Cx/C));\n",
"\n",
"del = (0.0352*f)/2.0352;\n",
"totaldel = 2*del;\n",
"\n",
"disp(totaldel, 'Total frequency variation is (in Hz)')"
   ]
   }
,
{
		   "cell_type": "markdown",
		   "metadata": {},
		   "source": [
			"## Example 5.7: RMS_value_of_modulating_voltage.sci"
		   ]
		  },
  {
"cell_type": "code",
	   "execution_count": null,
	   "metadata": {
	    "collapsed": true
	   },
	   "outputs": [],
"source": [
"//Determine (a) The rms value of the required modulating voltage (b) The value of the fixed capacitance and inductance of the oscillator tuned circuit across which the reactance modulator is connected\n",
"\n",
"Vgsmin = -2;\n",
"Vgsmax = -0.5;\n",
"Vm =  Vgsmax - Vgsmin;\n",
"\n",
"Gmmin = 3.2e-4;\n",
"Gmmax = 8.3e-4;\n",
"f = 8.8e+7;\n",
"del = 75e+3;\n",
"\n",
"Vrms = Vm/(2*sqrt(2));\n",
"\n",
"Cn = Gmmin/(2*%pi*f);\n",
"Cx = (Cn*Gmmax)/Gmmin;\n",
"\n",
"C = ( ((Cx - Cn)*f)/(4*del) - Cn);\n",
"\n",
"L = 1/(4*%pi^2*f^2*C);\n",
"\n",
"\n",
"disp(Vrms, '(A) RMS value of the required modulating voltage (in V)')\n",
"disp(C, 'Value of the fixed capacitance (in F)')\n",
"disp(L, 'Value of the fixed inductance (in H)')"
   ]
   }
],
"metadata": {
		  "kernelspec": {
		   "display_name": "Scilab",
		   "language": "scilab",
		   "name": "scilab"
		  },
		  "language_info": {
		   "file_extension": ".sce",
		   "help_links": [
			{
			 "text": "MetaKernel Magics",
			 "url": "https://github.com/calysto/metakernel/blob/master/metakernel/magics/README.md"
			}
		   ],
		   "mimetype": "text/x-octave",
		   "name": "scilab",
		   "version": "0.7.1"
		  }
		 },
		 "nbformat": 4,
		 "nbformat_minor": 0
}
