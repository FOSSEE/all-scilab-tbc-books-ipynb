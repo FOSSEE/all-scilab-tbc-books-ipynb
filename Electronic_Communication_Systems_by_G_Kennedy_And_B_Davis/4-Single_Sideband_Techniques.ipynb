{
"cells": [
 {
		   "cell_type": "markdown",
	   "metadata": {},
	   "source": [
       "# Chapter 4: Single Sideband Techniques"
	   ]
	},
{
		   "cell_type": "markdown",
		   "metadata": {},
		   "source": [
			"## Example 4.1: Power_savings.sci"
		   ]
		  },
  {
"cell_type": "code",
	   "execution_count": null,
	   "metadata": {
	    "collapsed": true
	   },
	   "outputs": [],
"source": [
"//Calculate percentage power savings when carrier and one of the sidebands are suppressed in a AM wave modulated to a depth of (a) 100% (b) 50%\n",
"\n",
"\n",
"Pc = 10;\n",
"m1 = 1;\n",
"m2 = .5;\n",
"\n",
"Pt1 = Pc*(1+(m1^2/2));\n",
"Psb1 = Pc*(m1^2/4);\n",
"s1 = (Pt1 - Psb1)/Pt1;\n",
"s1a = s1 * 100;\n",
"\n",
"Pt2 = Pc*(1+(m2^2/2));\n",
"Psb2 = Pc*(m2^2/4);\n",
"s2 = (Pt2 - Psb2)/Pt2;\n",
"s2a = s2 * 100;\n",
"\n",
"disp(s1a, 'Power savings when modulation index is 100%')\n",
"disp(s2a, 'Power savings when modulation index is 50%')"
   ]
   }
,
{
		   "cell_type": "markdown",
		   "metadata": {},
		   "source": [
			"## Example 4.2: Frequency.sci"
		   ]
		  },
  {
"cell_type": "code",
	   "execution_count": null,
	   "metadata": {
	    "collapsed": true
	   },
	   "outputs": [],
"source": [
"//Determine frequency present in the unwanted lower sideband\n",
"\n",
"x = 2*(%pi/180);\n",
"\n",
"a = 1/sin(x);\n",
"\n",
"p = 20*log10(a);\n",
"\n",
"disp(p, 'Frequency present in the unwanted lower sideband is (in dB)')"
   ]
   }
],
"metadata": {
		  "kernelspec": {
		   "display_name": "Scilab",
		   "language": "scilab",
		   "name": "scilab"
		  },
		  "language_info": {
		   "file_extension": ".sce",
		   "help_links": [
			{
			 "text": "MetaKernel Magics",
			 "url": "https://github.com/calysto/metakernel/blob/master/metakernel/magics/README.md"
			}
		   ],
		   "mimetype": "text/x-octave",
		   "name": "scilab",
		   "version": "0.7.1"
		  }
		 },
		 "nbformat": 4,
		 "nbformat_minor": 0
}
