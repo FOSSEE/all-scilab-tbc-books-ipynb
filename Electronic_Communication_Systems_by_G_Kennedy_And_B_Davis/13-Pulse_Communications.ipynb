{
"cells": [
 {
		   "cell_type": "markdown",
	   "metadata": {},
	   "source": [
       "# Chapter 13: Pulse Communications"
	   ]
	},
{
		   "cell_type": "markdown",
		   "metadata": {},
		   "source": [
			"## Example 13.1: Capacity_of_4_Khz_telephone_channel.sci"
		   ]
		  },
  {
"cell_type": "code",
	   "execution_count": null,
	   "metadata": {
	    "collapsed": true
	   },
	   "outputs": [],
"source": [
"//Determine the capacity of a standard 4-Khz telephone channel\n",
"\n",
"SNR = 10^(32/10);\n",
"df = 3400-300;\n",
"\n",
"C = df*log2(1 + SNR);\n",
"\n",
"disp(C, 'capacity of a standard 4-Khz telephone channel is (in bits/sec)')"
   ]
   }
,
{
		   "cell_type": "markdown",
		   "metadata": {},
		   "source": [
			"## Example 13.2: Information_carrying_capacity.sci"
		   ]
		  },
  {
"cell_type": "code",
	   "execution_count": null,
	   "metadata": {
	    "collapsed": true
	   },
	   "outputs": [],
"source": [
"//Determine (a) the information-carrying capacity (b) the capacity of the channel if its bandwidth is doubled, while the transmitted signal power remains constant\n",
"\n",
"SNR = 10^(28/10);\n",
"BW1 = 4000;\n",
"BW2 = 8000;\n",
"\n",
"C1 = BW1*log2(1+SNR);\n",
"C2 = BW2*log2(1+(SNR/2));\n",
"\n",
"C = C2/C1;\n",
"\n",
"disp(C1, 'Information-carrying capacity is (in bits/sec)');\n",
"disp(C2, 'Capacity of the channel if its bandwidth is doubled is (in bits/sec)');"
   ]
   }
],
"metadata": {
		  "kernelspec": {
		   "display_name": "Scilab",
		   "language": "scilab",
		   "name": "scilab"
		  },
		  "language_info": {
		   "file_extension": ".sce",
		   "help_links": [
			{
			 "text": "MetaKernel Magics",
			 "url": "https://github.com/calysto/metakernel/blob/master/metakernel/magics/README.md"
			}
		   ],
		   "mimetype": "text/x-octave",
		   "name": "scilab",
		   "version": "0.7.1"
		  }
		 },
		 "nbformat": 4,
		 "nbformat_minor": 0
}
