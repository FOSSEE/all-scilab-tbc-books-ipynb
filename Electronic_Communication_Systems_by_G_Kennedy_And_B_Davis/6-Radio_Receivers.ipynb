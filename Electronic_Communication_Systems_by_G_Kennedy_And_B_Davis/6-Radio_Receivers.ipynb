{
"cells": [
 {
		   "cell_type": "markdown",
	   "metadata": {},
	   "source": [
       "# Chapter 6: Radio Receivers"
	   ]
	},
{
		   "cell_type": "markdown",
		   "metadata": {},
		   "source": [
			"## Example 6.1: Image_frequency_and_Rejection_ratio.sci"
		   ]
		  },
  {
"cell_type": "code",
	   "execution_count": null,
	   "metadata": {
	    "collapsed": true
	   },
	   "outputs": [],
"source": [
"//Determine (a) Image frequency and its rejection ratio at 1000 kHz (b) Image frequency and its rejection ratio at 25 Mhz\n",
"\n",
"fa = 1000 + 2*455;\n",
"rho_a = fa/1000 - 1000/fa;\n",
"alpha_a = sqrt(1 + 100^2 * rho_a^2);\n",
"\n",
"fb = 25 + 2*0.455;\n",
"rho_b = fb/25 - 25/fb;\n",
"alpha_b = sqrt(1 + 100^2 * rho_b^2);\n",
"\n",
"disp(rho_a, 'Image frequency at 1000 kHz (in Hz)')\n",
"disp(alpha_a, 'Rejection Ratio at 1000 kHz')\n",
"\n",
"disp(rho_b, 'Image frequency at 25 MHz (in Hz)')\n",
"disp(alpha_b, 'Rejection Ratio at 25 MHz')"
   ]
   }
,
{
		   "cell_type": "markdown",
		   "metadata": {},
		   "source": [
			"## Example 6.2: Loaded_Q_and_intermediate_frequency.sci"
		   ]
		  },
  {
"cell_type": "code",
	   "execution_count": null,
	   "metadata": {
	    "collapsed": true
	   },
	   "outputs": [],
"source": [
"//Determine (a) Loaded Q which an RF amplifier for this receiver would have to have (b) new intermediate frequency that would be needed (if there is to be no RF amplifier)\n",
"\n",
"//Page 127\n",
"\n",
"alpha_a = 138.6;\n",
"alpha_b = 7.22;\n",
"rho_b = 0.0715\n",
"fa = 25;\n",
"\n",
"alpha = alpha_a/alpha_b;\n",
"q = sqrt((alpha^2 - 1))/rho_b;\n",
"f1 = ((1.91*fa) - fa)/2;\n",
"\n",
"disp(q, 'Loaded Q which an RF amplifier ')\n",
"disp(q/2 , 'Geometric Mean of Loaded Q which an RF amplifier ')\n",
"\n",
"disp(f1, 'new intermediate frequency that would be needed (in MHz)')"
   ]
   }
,
{
		   "cell_type": "markdown",
		   "metadata": {},
		   "source": [
			"## Example 6.3: Maximum_modulation_index.sci"
		   ]
		  },
  {
"cell_type": "code",
	   "execution_count": null,
	   "metadata": {
	    "collapsed": true
	   },
	   "outputs": [],
"source": [
"//Determine maximum modulation index\n",
"\n",
"R1 = 110;\n",
"R2 = 220;\n",
"R3 = 470;\n",
"R4 = 1000;\n",
"\n",
"Rc = R1 + R2;\n",
"Zm = ( (R2*R3*R4)/((R2*R3) + (R3*R4) + (R4*R2)) + 110);\n",
"\n",
"Mmax = Zm/Rc;\n",
"Mmax1 = Mmax*100;\n",
"\n",
"disp(Mmax1, 'Maximum modulation index (in %)')"
   ]
   }
],
"metadata": {
		  "kernelspec": {
		   "display_name": "Scilab",
		   "language": "scilab",
		   "name": "scilab"
		  },
		  "language_info": {
		   "file_extension": ".sce",
		   "help_links": [
			{
			 "text": "MetaKernel Magics",
			 "url": "https://github.com/calysto/metakernel/blob/master/metakernel/magics/README.md"
			}
		   ],
		   "mimetype": "text/x-octave",
		   "name": "scilab",
		   "version": "0.7.1"
		  }
		 },
		 "nbformat": 4,
		 "nbformat_minor": 0
}
