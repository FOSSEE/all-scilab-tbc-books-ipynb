{
"cells": [
 {
		   "cell_type": "markdown",
	   "metadata": {},
	   "source": [
       "# Chapter 9: Antennas"
	   ]
	},
{
		   "cell_type": "markdown",
		   "metadata": {},
		   "source": [
			"## Example 9.1: Length_of_antenna.sci"
		   ]
		  },
  {
"cell_type": "code",
	   "execution_count": null,
	   "metadata": {
	    "collapsed": true
	   },
	   "outputs": [],
"source": [
"//Determine the length of an antenna\n",
"\n",
"v = 3e+8;\n",
"vf = 0.95;\n",
"f = 5e+5;\n",
"\n",
"L = (v*vf)/f;\n",
"L1 = L*3.9;\n",
"\n",
"disp(L, 'Length of an antenna is (in m)')\n",
"disp(L1, 'Length of an antenna is (in feet)')"
   ]
   }
,
{
		   "cell_type": "markdown",
		   "metadata": {},
		   "source": [
			"## Example 9.2: Power_delivered_to_isotropic_antenna.sci"
		   ]
		  },
  {
"cell_type": "code",
	   "execution_count": null,
	   "metadata": {
	    "collapsed": true
	   },
	   "outputs": [],
"source": [
"//Determine how much power must be delivered to the isotropic antenna\n",
"\n",
"A = 2.15;\n",
"P1 = 1000;\n",
"\n",
"P2 = P1*10^(0.1*A);\n",
"\n",
"disp(P2, 'Power must be delivered to the isotropic antenna is (in W)')"
   ]
   }
,
{
		   "cell_type": "markdown",
		   "metadata": {},
		   "source": [
			"## Example 9.3: ERP.sci"
		   ]
		  },
  {
"cell_type": "code",
	   "execution_count": null,
	   "metadata": {
	    "collapsed": true
	   },
	   "outputs": [],
"source": [
"//Determine the ERP\n",
"P0 = 500;\n",
"Fgain = 2;\n",
"\n",
"erp = P0*(Fgain^2);\n",
"\n",
"disp(erp, 'Erp (in W)')\n",
"\n",
"\n",
"\n",
"\n",
"\n",
""
   ]
   }
,
{
		   "cell_type": "markdown",
		   "metadata": {},
		   "source": [
			"## Example 9.4: Beamwidth.sci"
		   ]
		  },
  {
"cell_type": "code",
	   "execution_count": null,
	   "metadata": {
	    "collapsed": true
	   },
	   "outputs": [],
"source": [
"//Determine the beamwidth between nulls of a 2-m paraboloid reflector\n",
"\n",
"D = 2;\n",
"lambda = 0.05;\n",
"\n",
"Phi0 = 2*70*(lambda/D);\n",
"\n",
"disp(Phi0, 'Beamwidth between nulls of a 2-m paraboloid reflector (in degres)')"
   ]
   }
,
{
		   "cell_type": "markdown",
		   "metadata": {},
		   "source": [
			"## Example 9.5: Gain_of_antenna.sci"
		   ]
		  },
  {
"cell_type": "code",
	   "execution_count": null,
	   "metadata": {
	    "collapsed": true
	   },
	   "outputs": [],
"source": [
"//Determine the gain of the antenna in previous example\n",
"\n",
"D = 200;\n",
"lambda = 5;\n",
"\n",
"Ap = 6*((D/lambda)^2);\n",
"\n",
"disp(Ap , 'Gain of the antenna is (in W)')"
   ]
   }
],
"metadata": {
		  "kernelspec": {
		   "display_name": "Scilab",
		   "language": "scilab",
		   "name": "scilab"
		  },
		  "language_info": {
		   "file_extension": ".sce",
		   "help_links": [
			{
			 "text": "MetaKernel Magics",
			 "url": "https://github.com/calysto/metakernel/blob/master/metakernel/magics/README.md"
			}
		   ],
		   "mimetype": "text/x-octave",
		   "name": "scilab",
		   "version": "0.7.1"
		  }
		 },
		 "nbformat": 4,
		 "nbformat_minor": 0
}
