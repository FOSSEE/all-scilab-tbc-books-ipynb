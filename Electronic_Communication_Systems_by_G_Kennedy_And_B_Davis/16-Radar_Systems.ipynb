{
"cells": [
 {
		   "cell_type": "markdown",
	   "metadata": {},
	   "source": [
       "# Chapter 16: Radar Systems"
	   ]
	},
{
		   "cell_type": "markdown",
		   "metadata": {},
		   "source": [
			"## Example 16.1: Duty_cycle_of_radar.sci"
		   ]
		  },
  {
"cell_type": "code",
	   "execution_count": null,
	   "metadata": {
	    "collapsed": true
	   },
	   "outputs": [],
"source": [
"//Determine the duty cycle of a radar\n",
"\n",
"PW = 3e-6;\n",
"PRT = 6e-3;\n",
"\n",
"Duty = PW/PRT;\n",
"\n",
"disp(Duty, 'Duty cycle of a radar is')"
   ]
   }
,
{
		   "cell_type": "markdown",
		   "metadata": {},
		   "source": [
			"## Example 16.2: Average_power.sci"
		   ]
		  },
  {
"cell_type": "code",
	   "execution_count": null,
	   "metadata": {
	    "collapsed": true
	   },
	   "outputs": [],
"source": [
"//Determine the average power\n",
"\n",
"PeakP = 100e+3;\n",
"Duty = 5e-4;\n",
"\n",
"AvgP = PeakP * Duty;\n",
"\n",
"disp(AvgP, 'Average power is (in W)')"
   ]
   }
,
{
		   "cell_type": "markdown",
		   "metadata": {},
		   "source": [
			"## Example 16.3: Minimum_receivable_signal.sci"
		   ]
		  },
  {
"cell_type": "code",
	   "execution_count": null,
	   "metadata": {
	    "collapsed": true
	   },
	   "outputs": [],
"source": [
"//Determine the minimum receivable signal in a radar receiver\n",
"\n",
"F = 10^(9/10);\n",
"k = 1.38e-23;\n",
"T0 = 290;\n",
"dF = 1.5e+6;\n",
"\n",
"Pmin = k*T0*dF*(F-1);\n",
"\n",
"disp(Pmin, 'Minimum receivable signal in a radar receiver is (in W)') "
   ]
   }
,
{
		   "cell_type": "markdown",
		   "metadata": {},
		   "source": [
			"## Example 16.4: Maximum_range_of_radar.sci"
		   ]
		  },
  {
"cell_type": "code",
	   "execution_count": null,
	   "metadata": {
	    "collapsed": true
	   },
	   "outputs": [],
"source": [
"//Determine the maximum range of a radar system\n",
"\n",
"P1 = 5e+5;\n",
"A0 = 5;\n",
"S = 20;\n",
"lambda = 0.03;\n",
"Pmin = 1e-13;\n",
"\n",
"Rmax = sqrt(sqrt((P1*A0^2*S)/(4*%pi*lambda^2*Pmin)));\n",
"Rmax1 = Rmax/1000;\n",
"\n",
"disp(Rmax1, 'Maximum range of a radar system is (in Km)')"
   ]
   }
,
{
		   "cell_type": "markdown",
		   "metadata": {},
		   "source": [
			"## Example 16.5: Peak_transmitted_pulse_power.sci"
		   ]
		  },
  {
"cell_type": "code",
	   "execution_count": null,
	   "metadata": {
	    "collapsed": true
	   },
	   "outputs": [],
"source": [
"//Determine the peak transmitted pulse power\n",
"\n",
"dF = 5e+5;\n",
"lambda = 3.75e-2;\n",
"F = 3;\n",
"D = 1;\n",
"S = 5;\n",
"\n",
"Pt = (dF*lambda^2*(F-1))/(256*D^4*S);\n",
"\n",
"disp(Pt, 'Peak transmitted pulse power is (in W)')"
   ]
   }
,
{
		   "cell_type": "markdown",
		   "metadata": {},
		   "source": [
			"## Example 16.6: Maximum_range_of_deep_space_radar.sci"
		   ]
		  },
  {
"cell_type": "code",
	   "execution_count": null,
	   "metadata": {
	    "collapsed": true
	   },
	   "outputs": [],
"source": [
"//Determine the maximum range of a deep-space radar\n",
"\n",
"lambda1 = 30/2.5;\n",
"lambda = lambda1/100;\n",
"Pt = 2.5e+7;\n",
"D = 64;\n",
"S = 1;\n",
"dF = 5e+3;\n",
"F = 1.1;\n",
"\n",
"Rmax = 48*sqrt(sqrt(((Pt*D^4*S)/(dF*lambda^2*(F-1)))));\n",
"\n",
"disp(Rmax, 'Maximum range of a deep-space radar is (in Km)') "
   ]
   }
,
{
		   "cell_type": "markdown",
		   "metadata": {},
		   "source": [
			"## Example 16.7: Lowest_three_blind_speeds_of_radar.sci"
		   ]
		  },
  {
"cell_type": "code",
	   "execution_count": null,
	   "metadata": {
	    "collapsed": true
	   },
	   "outputs": [],
"source": [
"//Determine the lowest three blind speeds of this radar\n",
"\n",
"vc = 3e+8;\n",
"f = 5e+9;\n",
"PRF = 800;\n",
"n = 1;\n",
"\n",
"lambda = vc/f;\n",
"\n",
"vb = PRF*n*lambda;\n",
"vb1 = vb*60*60*1e-3;\n",
"vb2 = vb1*2;\n",
"vb3 = vb1*3;\n",
"\n",
"disp(vb3, vb2, vb1,  'The lowest three blind speeds of this radar are (in Km/h)')"
   ]
   }
,
{
		   "cell_type": "markdown",
		   "metadata": {},
		   "source": [
			"## Example 16.8: Maximum_active_tracking_range.sci"
		   ]
		  },
  {
"cell_type": "code",
	   "execution_count": null,
	   "metadata": {
	    "collapsed": true
	   },
	   "outputs": [],
"source": [
"//Determine the maximum active tracking range of a deep space radar\n",
"\n",
"A0t = 2.09e+3;\n",
"PtT = 5e+5;\n",
"A0b = 5.1e-1;\n",
"\n",
"lambda = 0.12;\n",
"k = 1.38e-23;\n",
"T0 = 2.9e+2;;\n",
"dF = 5e+3;\n",
"Fb = 20; \n",
"\n",
"RmaxT = sqrt((A0t*PtT*A0b)/(lambda^2*k*T0*dF*(Fb-1)));\n",
"\n",
"\n",
"A0b = 5.1e-3;\n",
"Ptb = 50;\n",
"A0t = 2.09e+3;\n",
"\n",
"lambda = 0.12;\n",
"k = 1.38e-23;\n",
"T0 = 2.9e+2;;\n",
"dF = 5e+3;\n",
"Ft = 1.1; \n",
"\n",
"RmaxR = sqrt((A0b*Ptb*A0t)/(lambda^2*k*T0*dF*(Ft-1)));\n",
"\n",
"\n",
"disp(RmaxT, 'Active tracking range of a deep space radar is (in m)')\n",
"disp(RmaxR, 'Active tracking range of a deep space radar is (in m)')\n",
"disp(RmaxR, 'Maximum Active tracking range of a deep space radar is (in m)')"
   ]
   }
,
{
		   "cell_type": "markdown",
		   "metadata": {},
		   "source": [
			"## Example 16.9: Doppler_frequency.sci"
		   ]
		  },
  {
"cell_type": "code",
	   "execution_count": null,
	   "metadata": {
	    "collapsed": true
	   },
	   "outputs": [],
"source": [
"//Determine the Doppler frequency seen by a stationary radar\n",
"\n",
"vc = 3e+8;\n",
"f = 5e+9;\n",
"\n",
"\n",
"lambda = vc/f;\n",
"vr = 100e+3/(60*60);\n",
"\n",
"fd = (2*vr)/lambda;\n",
"\n",
"disp(fd, 'Doppler frequency is (in Hz)')"
   ]
   }
],
"metadata": {
		  "kernelspec": {
		   "display_name": "Scilab",
		   "language": "scilab",
		   "name": "scilab"
		  },
		  "language_info": {
		   "file_extension": ".sce",
		   "help_links": [
			{
			 "text": "MetaKernel Magics",
			 "url": "https://github.com/calysto/metakernel/blob/master/metakernel/magics/README.md"
			}
		   ],
		   "mimetype": "text/x-octave",
		   "name": "scilab",
		   "version": "0.7.1"
		  }
		 },
		 "nbformat": 4,
		 "nbformat_minor": 0
}
