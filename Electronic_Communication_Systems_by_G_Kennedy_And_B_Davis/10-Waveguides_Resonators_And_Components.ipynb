{
"cells": [
 {
		   "cell_type": "markdown",
	   "metadata": {},
	   "source": [
       "# Chapter 10: Waveguides Resonators And Components"
	   ]
	},
{
		   "cell_type": "markdown",
		   "metadata": {},
		   "source": [
			"## Example 10.10: Ratio_of_cross_sectio.sci"
		   ]
		  },
  {
"cell_type": "code",
	   "execution_count": null,
	   "metadata": {
	    "collapsed": true
	   },
	   "outputs": [],
"source": [
"//Determine the ratio of the cross section of a circular waveguide to that of a rectangle\n",
"\n",
"r = 1;\n",
"kr = 1.84;\n",
"\n",
"\n",
"lambda0 = (2*%pi*r)/kr;\n",
"a = (3.41*r)/2;\n",
"b = a/2;\n",
"\n",
"Ac = %pi*(r)^2;\n",
"Ar = a*b;\n",
"\n",
"R = Ac/Ar;\n",
"\n",
"disp(R, 'Ratio of the cross section of a circular waveguide to that of a reactangle')"
   ]
   }
,
{
		   "cell_type": "markdown",
		   "metadata": {},
		   "source": [
			"## Example 10.11: Voltage_attenuation.sci"
		   ]
		  },
  {
"cell_type": "code",
	   "execution_count": null,
	   "metadata": {
	    "collapsed": true
	   },
	   "outputs": [],
"source": [
"//Determine the voltage attenuation provided by a 25 cm length of waveguide\n",
"\n",
"a = 1;\n",
"m = 1;\n",
"vc = 3e+10;\n",
"f = 1e+9;\n",
"A = 25\n",
"L0 = 2;\n",
"\n",
"lambda0 = (2*a)/m;\n",
"lambda = vc/f;\n",
"\n",
"lambdaDB = 54.5*(A/L0);\n",
"\n",
"disp(lambdaDB, 'Volatage attenuation is (in dB)')"
   ]
   }
,
{
		   "cell_type": "markdown",
		   "metadata": {},
		   "source": [
			"## Example 10.1: Cutoff_frequency_of_dominant_mode.sci"
		   ]
		  },
  {
"cell_type": "code",
	   "execution_count": null,
	   "metadata": {
	    "collapsed": true
	   },
	   "outputs": [],
"source": [
"//Determine the cutoff frequency of the dominant mode\n",
"\n",
"m = 1;\n",
"n = 0;\n",
"a = 0.051;\n",
"b = 0.024;\n",
"\n",
"fc = (1.5e+8)*sqrt((m/a)^2 + (n/b)^2);\n",
"\n",
"disp(fc, 'Cutoff Frequency of the dominant mode is (in Hz)')"
   ]
   }
,
{
		   "cell_type": "markdown",
		   "metadata": {},
		   "source": [
			"## Example 10.2: Lowest_frequency.sci"
		   ]
		  },
  {
"cell_type": "code",
	   "execution_count": null,
	   "metadata": {
	    "collapsed": true
	   },
	   "outputs": [],
"source": [
"//Determine the lowest frequency and also the mode closest to the dominant mode for the waveguide in previous example\n",
"\n",
"m1 = 0;\n",
"n1 = 1;\n",
"a1 = 0.051;\n",
"b1 = 0.024;\n",
"\n",
"fc1 = (1.5e+8)*sqrt((m1/a1)^2 + (n1/b1)^2);\n",
"\n",
"disp(fc1, 'Cutoff Frequency of the TE10 mode is (in Hz)')\n",
"\n",
"\n",
"\n",
"m2 = 2;\n",
"n2 = 0;\n",
"a2 = 0.051;\n",
"b2 = 0.024;\n",
"\n",
"fc2 = (1.5e+8)*sqrt((m2/a2)^2 + (n2/b2)^2);\n",
"\n",
"disp(fc2, 'Cutoff Frequency of the TE20 mode is (in Hz)')\n",
"\n",
"\n",
"\n",
"m3 = 0;\n",
"n3 = 2;\n",
"a3 = 0.051;\n",
"b3 = 0.024;\n",
"\n",
"fc3 = (1.5e+8)*sqrt((m3/a3)^2 + (n3/b3)^2);\n",
"\n",
"disp(fc1, 'Cutoff Frequency of the TE02 mode is (in Hz)')"
   ]
   }
,
{
		   "cell_type": "markdown",
		   "metadata": {},
		   "source": [
			"## Example 10.3: Cutoff_wavelength_for_dominant_mode.sci"
		   ]
		  },
  {
"cell_type": "code",
	   "execution_count": null,
	   "metadata": {
	    "collapsed": true
	   },
	   "outputs": [],
"source": [
"//Determine (a) The cutoff wavelength for the dominant mode (b) The wavelength in a waveguide, also for the dominant mode (c) The corresponding ground and phase velocities\n",
"\n",
"a = 3;\n",
"m = 1;\n",
"vc = 3e+10;\n",
"f = 6e+9;\n",
"\n",
"lambda0 = (2*a)/m;\n",
"lambda = vc/f;\n",
"\n",
"rho = sqrt(1 - (lambda/lambda0)^2);\n",
"\n",
"lambdap = lambda/rho;\n",
"\n",
"vg = vc*rho;\n",
"vp = vc/rho;\n",
"\n",
"disp(lambda0, 'Cutoff wavelength for the dominant mode is (in cm) ')\n",
"disp(lambdap, 'Wavelength in a waveguide for the dominant mode (in cm) ')\n",
"disp(vg, 'Group Velocities (in m/s) ')\n",
"disp(vp, 'Phase Velocities (in m/s) ')"
   ]
   }
,
{
		   "cell_type": "markdown",
		   "metadata": {},
		   "source": [
			"## Example 10.4: Greatest_number_of_half_waves.sci"
		   ]
		  },
  {
"cell_type": "code",
	   "execution_count": null,
	   "metadata": {
	    "collapsed": true
	   },
	   "outputs": [],
"source": [
"//Determine the greatest number of half-waves of electric intensity which it will be possible to establish between the two walls and also determine the guide wavelength for this mode of propagation\n",
"vc = 3e+10;\n",
"f = 10e+9;\n",
"d = 6;\n",
"m1 = 1;\n",
"m2 = 2;\n",
"m3 = 3;\n",
"m4 = 4;\n",
"\n",
"lambda = vc/f;\n",
"\n",
"lambda01 = (2*d)/m1;\n",
"lambda02 = (2*d)/m2;\n",
"lambda03 = (2*d)/m3;\n",
"lambda04 = (2*d)/m4;\n",
"\n",
"lambdap = lambda/sqrt(1 - (lambda/lambda03)^2);\n",
"\n",
"disp(lambda, 'Wave which will propagate in the WG (in cm)');\n",
"disp(lambda01, 'This mode will propagate (in cm)')\n",
"disp(lambda02, 'This mode will propagate (in cm)')\n",
"disp(lambda03, 'This mode will propagate (in cm)')\n",
"disp(lambda04, 'This mode will not propagate (in cm)')\n",
"disp(lambdap, 'Guide wavelength for this mode of propagation (in cm)')"
   ]
   }
,
{
		   "cell_type": "markdown",
		   "metadata": {},
		   "source": [
			"## Example 10.5: Formula_for_cutoff_wavelength.sci"
		   ]
		  },
  {
"cell_type": "code",
	   "execution_count": null,
	   "metadata": {
	    "collapsed": true
	   },
	   "outputs": [],
"source": [
"//Determine the formula for the cutoff wavelength in a standard rectangular waveguide for the TM11 mode\n",
"\n",
"m = 1;\n",
"n = 1;\n",
"a = 1;\n",
"b = a/2;\n",
"\n",
"lambda0 = 2/sqrt((m/a)^2 + (n/b)^2);\n",
"\n",
"disp('*a', lambda0, 'Formula for the cutoff wavelength in a standard rectangular waveguide for the TM11 mode',)"
   ]
   }
,
{
		   "cell_type": "markdown",
		   "metadata": {},
		   "source": [
			"## Example 10.6: Characteristic_wave_impediance.sci"
		   ]
		  },
  {
"cell_type": "code",
	   "execution_count": null,
	   "metadata": {
	    "collapsed": true
	   },
	   "outputs": [],
"source": [
"//Determine the characteristic wave impediance for the data of Example 10.3 and 10.4\n",
"\n",
"L = 120*%pi;\n",
"rho1 = 0.553;\n",
"rho2 = 0.661;\n",
"\n",
"Z0a = L/rho1;\n",
"Z0b = L/rho2;\n",
"\n",
"disp(Z0a, 'Char. Wave impediance for the data for Ex 10.3 (in ohms)')\n",
"disp(Z0b, 'Char. Wave impediance for the data for Ex 10.4 (in ohms)')\n",
"\n",
""
   ]
   }
,
{
		   "cell_type": "markdown",
		   "metadata": {},
		   "source": [
			"## Example 10.7: Various_parameters_for_TE10_and_TM11.sci"
		   ]
		  },
  {
"cell_type": "code",
	   "execution_count": null,
	   "metadata": {
	    "collapsed": true
	   },
	   "outputs": [],
"source": [
"//Determine the cut-off wavelength, the guide wavelength, the group and phase velocities and the char. wave impediance for (a) the TE10 mode and (b) the TM11 mode\n",
"\n",
"vc = 3e+10;\n",
"f = 9e+9;\n",
"a = 4.5;\n",
"b = 3;\n",
"m = 1;\n",
"n = 1;\n",
"L = 120*%pi;\n",
"\n",
"lambda = vc/f;\n",
"lambda0 = (2*a)/m;\n",
"rho = sqrt(1 - (lambda/lambda0)^2);\n",
"lambdap = lambda/rho;\n",
"vga = vc*rho;\n",
"vpa = vc/rho;\n",
"Z0 = L/rho;\n",
"\n",
"lambda0b = 2/sqrt((m/a)^2 + (n/b)^2);\n",
"rhob = sqrt(1 - (lambda/lambda0b)^2);\n",
"lambdapb = lambda/rhob;\n",
"vgb = vc*rhob;\n",
"vpb = vc/rhob;\n",
"Z0b = L*rhob;\n",
"\n",
"disp(lambda0, 'Cut-off wavelength for TE10 mode (in cm)')\n",
"disp(lambdap, 'Guide wavelength for TE10 mode (in cm)')\n",
"disp(vga, 'Group Velocitiy for TE10 mode (in m/s)')\n",
"disp(vpa, 'Phase Velocitiy for TE10 mode (in m/s)')\n",
"disp(Z0, 'Char. Impediance for TE10 mode (in ohms)')\n",
"\n",
"disp(lambda0b, 'Cut-off wavelength for TM11 mode (in cm)')\n",
"disp(lambdapb, 'Guide wavelength for TM11 mode (in cm)')\n",
"disp(vgb, 'Group Velocitiy for TM11 mode (in m/s)')\n",
"disp(vpb, 'Phase Velocitiy for TM11 mode (in m/s)')\n",
"disp(Z0b, 'Char. Impediance for TM11 mode (in ohms)')"
   ]
   }
,
{
		   "cell_type": "markdown",
		   "metadata": {},
		   "source": [
			"## Example 10.8: Frequency.sci"
		   ]
		  },
  {
"cell_type": "code",
	   "execution_count": null,
	   "metadata": {
	    "collapsed": true
	   },
	   "outputs": [],
"source": [
"//Determine the frequency\n",
"a = 3;\n",
"m = 1;\n",
"vc = 3e+10;\n",
"L = 120*%pi;\n",
"Z0 = 500;\n",
"\n",
"lambda0 = (2*a)/m;\n",
"lambda = lambda0*sqrt(1 - (L/Z0)^2);\n",
"f = vc/lambda;\n",
"\n",
"disp(f, 'Frequency is (in Hz)')"
   ]
   }
,
{
		   "cell_type": "markdown",
		   "metadata": {},
		   "source": [
			"## Example 10.9: Various_parameters_of_circular_waveguide.sci"
		   ]
		  },
  {
"cell_type": "code",
	   "execution_count": null,
	   "metadata": {
	    "collapsed": true
	   },
	   "outputs": [],
"source": [
"//Determine the cutoff wavelength, the guide wavelength and the char. wave impediance of a circular waveguide\n",
"\n",
"vc = 3e+10;\n",
"f = 10e+9;\n",
"r = 2;\n",
"kr = 1.84;\n",
"L = 120*%pi;\n",
"\n",
"lambda = vc/f;\n",
"lambda0 = (2*%pi*r)/kr;\n",
"lambdap = lambda/sqrt(1 - (lambda/lambda0)^2);\n",
"Z0 = L/sqrt(1 - (lambda/lambda0)^2);\n",
"\n",
"disp(lambda0 , 'Cutoff wavelength (in cm)')\n",
"disp(lambdap , 'Guide wavelength (in cm)')\n",
"disp(Z0, 'Char. wave impediance (in ohms)')"
   ]
   }
],
"metadata": {
		  "kernelspec": {
		   "display_name": "Scilab",
		   "language": "scilab",
		   "name": "scilab"
		  },
		  "language_info": {
		   "file_extension": ".sce",
		   "help_links": [
			{
			 "text": "MetaKernel Magics",
			 "url": "https://github.com/calysto/metakernel/blob/master/metakernel/magics/README.md"
			}
		   ],
		   "mimetype": "text/x-octave",
		   "name": "scilab",
		   "version": "0.7.1"
		  }
		 },
		 "nbformat": 4,
		 "nbformat_minor": 0
}
