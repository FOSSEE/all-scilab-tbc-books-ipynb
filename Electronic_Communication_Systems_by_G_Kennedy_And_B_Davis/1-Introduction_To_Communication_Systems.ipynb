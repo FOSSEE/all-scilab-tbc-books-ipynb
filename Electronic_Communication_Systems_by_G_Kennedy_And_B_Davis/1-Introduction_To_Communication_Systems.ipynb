{
"cells": [
 {
		   "cell_type": "markdown",
	   "metadata": {},
	   "source": [
       "# Chapter 1: Introduction To Communication Systems"
	   ]
	},
{
		   "cell_type": "markdown",
		   "metadata": {},
		   "source": [
			"## Example 1.1: Fourier_series.sci"
		   ]
		  },
  {
"cell_type": "code",
	   "execution_count": null,
	   "metadata": {
	    "collapsed": true
	   },
	   "outputs": [],
"source": [
"//Determine the first four terms in the Fourier series for a rectangular waveform\n",
"\n",
"f = 1e+3;\n",
"T = 1/f;\n",
"pw = 500e-6;\n",
"A = 10;\n",
"p = pw/T;\n",
"ft1 = (A*p);\n",
"ft2 = ( (2*A*p) * sin(%pi*p)/(%pi*p) * cos(2e+3*%pi*p) );\n",
"ft3 = ( (2*A*p) * sin(%pi)/(%pi) * cos(4e+3*%pi*p) );\n",
"ft4 = ( (2*A*p) * sin(1.5*%pi)/(1.5*%pi) * cos(6e+3*%pi*p) );\n",
"\n",
"disp(ft1, ' Fourier transform 1st = ')\n",
"disp(ft2, ' Fourier transform 2nd = ')\n",
"disp(ft3, ' Fourier transform 3rd = ')\n",
"disp(ft4, ' Fourier transform 4th = ')\n",
"\n",
"//For Plotting graph\n",
"\n",
"xset('window',1);\n",
"xtitle('Sine in radians','X axis','Y axis');\n",
"x=linspace(0,2*%pi,50);\n",
"y=sin(x);\n",
"plot(x,y);"
   ]
   }
,
{
		   "cell_type": "markdown",
		   "metadata": {},
		   "source": [
			"## Example 1.2: Evaluate_a_single_pulse.sci"
		   ]
		  },
  {
"cell_type": "code",
	   "execution_count": null,
	   "metadata": {
	    "collapsed": true
	   },
	   "outputs": [],
"source": [
"//Evaluate a single pulse \n",
"\n",
"A = 8e-3;\n",
"f = 0.5e+3;\n",
"\n",
"w = 2*%pi*f;\n",
"pw = 1/f;\n",
"w = 2*%pi/pw;\n",
"\n",
"MV = A/pw;   // Maximum voltage\n",
"\n",
"disp(MV, 'Maximum voltage(in V)')\n",
"\n",
"//For plotting graph\n",
"xset('window',2);\n",
"xtitle('Figure 1.7','X axis','Y axis');\n",
"x=linspace(0.1,6*%pi/(pw),50000);\n",
"y=(MV*pw*sin(pw)*x)/(pw*x);\n",
"plot(x,y);\n",
"\n",
"//As the values on both x and y axis very small, so plot in this example is not able to shown the variation"
   ]
   }
],
"metadata": {
		  "kernelspec": {
		   "display_name": "Scilab",
		   "language": "scilab",
		   "name": "scilab"
		  },
		  "language_info": {
		   "file_extension": ".sce",
		   "help_links": [
			{
			 "text": "MetaKernel Magics",
			 "url": "https://github.com/calysto/metakernel/blob/master/metakernel/magics/README.md"
			}
		   ],
		   "mimetype": "text/x-octave",
		   "name": "scilab",
		   "version": "0.7.1"
		  }
		 },
		 "nbformat": 4,
		 "nbformat_minor": 0
}
