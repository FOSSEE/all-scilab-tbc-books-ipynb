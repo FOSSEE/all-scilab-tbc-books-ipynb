{
"cells": [
 {
		   "cell_type": "markdown",
	   "metadata": {},
	   "source": [
       "# Chapter 8: Steady State Nonisothermal Reactor Design"
	   ]
	},
{
		   "cell_type": "markdown",
		   "metadata": {},
		   "source": [
			"## Example 8.10: clear.sce"
		   ]
		  },
  {
"cell_type": "code",
	   "execution_count": null,
	   "metadata": {
	    "collapsed": true
	   },
	   "outputs": [],
"source": [
"//clear//\n",
"clc\n",
"clear\n",
"//eY(2)ec('8.6data.sci');\n",
"W = 0:1:28.58;\n",
"W0=0;\n",
"function w=f(W,Y)\n",
"  w =zeros(3,1);\n",
"  \n",
"  \n",
"fao=.188\n",
"visc=.090\n",
"Ta=1264.67\n",
"deltah=-42471-1.563*(Y(3)-1260)+.00136*(Y(3)**2-1260**2)-(2.459*10**(-7))*(Y(3)**3-1260**3);\n",
"summ= 57.23+.014 * Y(3)-1.94 *10**(-6.)*Y(3)**2\n",
"dcp=-1.5625+2.72*10**(-3)*Y(3)-7.38*10**(-7)*Y(3)**2\n",
"k=360D*exp(-176008/Y(3)-(110.1*log(Y(3)))+912.8)\n",
"thetaso=0;\n",
"Po=2\n",
"Pao=.22\n",
"thetao=.91\n",
"eps=-.055\n",
"R=1.987;\n",
"Kp=exp(42311/R/Y(3)-11.24);\n",
"if(Y(2)< =.05)\n",
"  \n",
"  ra=(-k*(.848-.012/(Kp**2)));\n",
"else\n",
"  ra=(-k*(1-Y(2))/(thetaso+Y(2)))**.5*(Y(1)/Po*Pao*((thetao-.5*Y(2))/((1+eps*Y(2)))-((thetaso+Y(2))/(1-Y(2)))**2/(Kp**2)));\n",
"end\n",
"\n",
"w(1)=(-1.12*10**(-8)*(1-.055*Y(2))*Y(3))*(5500*visc+2288)/Y(1) ;\n",
"w(2)=-(ra)/fao ;\n",
"w(3)=(5.11*(Ta-Y(3))+(-ra)*(-deltah) )/(fao*(summ+Y(2)*dcp)) \n",
"endfunction\n",
"\n",
"X=ode([2;0;1400],W0,W,f);\n",
"\n",
"plot2d(W,X(1,:)); \n",
"plot2d(W,X(3,:)); "
   ]
   }
,
{
		   "cell_type": "markdown",
		   "metadata": {},
		   "source": [
			"## Example 8.11: clear.sce"
		   ]
		  },
  {
"cell_type": "code",
	   "execution_count": null,
	   "metadata": {
	    "collapsed": true
	   },
	   "outputs": [],
"source": [
"//clear//\n",
"clc\n",
"clear\n",
"exec('8__11.sci');\n",
"V = 0:.01:1;\n",
"\n",
"function w=f(V,Y)\n",
" \n",
" w =zeros(4,1);\n",
"\n",
"k1a=10*exp(4000*((1/300)-(1/Y(4))));\n",
"k2a=.09*exp(9000*((1/300)-(1/Y(4))))\n",
"\n",
"Ft=Y(1)+Y(2)+Y(3);\n",
"\n",
"Ca=Cto*(Y(1)/Ft)*(To/Y(4))\n",
"Cb=Cto*(Y(2)/Ft)*(To/Y(4))\n",
"Cc=Cto*(Y(3)/Ft)*(To/Y(4))\n",
"r1a=-k1a*Ca;\n",
"r2a=-k2a*Ca^2;\n",
"\n",
"w(1)=r1a+r2a;\n",
"w(2)=-r1a;\n",
"\n",
"w(3)=-r2a/2;\n",
"w(4)=(4000*(373-Y(4))+(-r1a)*20000+(-r2a)*60000)/(90*Y(1)+90*Y(2)+180*Y(3));\n",
"endfunction\n",
"\n",
"x=ode([100;0;0;423],V0,V,f);\n",
"\n",
"scf(1)\n",
"plot2d(V,x(4,:)); \n",
"\n",
"xtitle( 'Figure E8-11.1', 'V', 'T' ) ;\n",
"\n",
"scf(2)\n",
"\n",
"l1=x(1,: )'\n",
"l2=x(2,: )'\n",
"l3=x(3,: )'\n",
"plot2d(V',[l1 l2 l3]); \n",
"\n",
"xtitle( 'Figure E8-11.2', 'V', 'Fa,Fb,Fc' ) ;\n",
"legend(['Fa';'Fb';'Fc']);"
   ]
   }
,
{
		   "cell_type": "markdown",
		   "metadata": {},
		   "source": [
			"## Example 8.12: clear.sce"
		   ]
		  },
  {
"cell_type": "code",
	   "execution_count": null,
	   "metadata": {
	    "collapsed": true
	   },
	   "outputs": [],
"source": [
"//clear//\n",
"clc\n",
"clear\n",
"exec('8.12data.sci');\n",
"t=1:10:250;\n",
"for i=1:length(t)\n",
"T(i)=2*t(i)+283;\n",
"\n",
"k2(i)=4.58*exp((E2/1.987)*((1/500)-(1/T(i))))\n",
"k1(i)=3.3*exp((E1/1.987)*((1/300)-(1/T(i))))\n",
"Ca(i)=Cao/(1+tau*k1(i))\n",
"kappa=UA/(vo*Cao)/Cp\n",
"G(i)=-(tau*k1(i)/(1+k1(i)*tau))*DH1-(k1(i)*tau*k2(i)*tau*DH2/((1+tau*k1(i)) *(1+tau*k2(i))));\n",
"Tc=(To+kappa*Ta)/(1+kappa);\n",
"Cb(i)=tau*k1(i)*Ca(i)/(1+k2(i)*tau);\n",
"R(i)=Cp*(1+kappa)*(T(i)-Tc);\n",
"Cc=Cao-Ca(i)-Cb(i);\n",
"F(i)=G(i)-R(i);\n",
"end\n",
"plot(T',[G R])\n",
"\n",
"xtitle( 'Figure E8-12.1', 'T (K)', 'G(T),R(T)' ) ;\n",
"legend(['G(T)';'R(T)']);"
   ]
   }
,
{
		   "cell_type": "markdown",
		   "metadata": {},
		   "source": [
			"## Example 8.3: clear.sce"
		   ]
		  },
  {
"cell_type": "code",
	   "execution_count": null,
	   "metadata": {
	    "collapsed": true
	   },
	   "outputs": [],
"source": [
"//clear//\n",
"clc\n",
"clear\n",
"exec('8.3data.sci');\n",
"deltaHRx0 = 2*H0NH3-3*H0H2-HN2;\n",
"deltaCp = 2*CpNH3-3*CpH2-CpN2;\n",
"deltaHRx = deltaHRx0+deltaCp*(T-TR);\n",
"disp('The heat of reaction on the basis on the moles of H2 reacted is =')\n",
"disp((1/3)*deltaHRx*4.184)\n",
"disp('J at 423 K')"
   ]
   }
,
{
		   "cell_type": "markdown",
		   "metadata": {},
		   "source": [
			"## Example 8.4: clear.sce"
		   ]
		  },
  {
"cell_type": "code",
	   "execution_count": null,
	   "metadata": {
	    "collapsed": true
	   },
	   "outputs": [],
"source": [
"//clear//\n",
"clc\n",
"clear\n",
"exec('8.4data.sci');\n",
"HRx0 = H0C-H0B-H0A;\n",
"deltaCp = CpC-CpB-CpA;\n",
"deltaHRx0 = HRx0+deltaCp*(TR-TR);\n",
"v0 = vA0+vB0+VM0;\n",
"tau = V/v0;\n",
"CA0 = FA0/v0;\n",
"phiM0 = FM0/FA0;\n",
"phiB0 = FB0/FA0;\n",
"Cpi = CpA+phiB0*CpB+phiM0*CpM;\n",
"\n",
"for i =1:length(T)\n",
"XEB(i) = -Cpi*(T(i)-Ti0)/(deltaHRx0+deltaCp*(T(i)-TR));\n",
"XMB(i) = tau*A*exp(-E/(R*T(i)))/(1+tau*A*exp(-E/(R*T(i))));\n",
"end\n",
"\n",
"\n",
"\n",
"plot2d(T',[XEB XMB]); \n",
"\n",
"xtitle( 'Figure E8-4.2', 'T(oR)', 'Conversion, X' ) ;\n",
"legend(['XEB';'XMB']);"
   ]
   }
,
{
		   "cell_type": "markdown",
		   "metadata": {},
		   "source": [
			"## Example 8.6: clear.sce"
		   ]
		  },
  {
"cell_type": "code",
	   "execution_count": null,
	   "metadata": {
	    "collapsed": true
	   },
	   "outputs": [],
"source": [
"//clear//\n",
"clc\n",
"clear\n",
"exec('8.6data.sci');\n",
" V = 0:.1:3.6;\n",
"function w=f(V,X)\n",
" \n",
" w =zeros(1,1);\n",
"T =330+43.3*X;\n",
"k=31.1*exp(7906*(T-360)/(T*360));\n",
"Kc = 3.03*exp(-830.3*((T-360)/(T*360)));\n",
"Xe = Kc/(1+Kc);\n",
"ra = -k*Ca0*(1-(1+(1/Kc))*X);\n",
" w(1)= -ra/Fa0;\n",
" rate = -ra;\n",
"endfunction\n",
"\n",
"x=ode([0],V0,V,f);\n",
"\n",
"for i =1:length(x)\n",
"  T(1,i) =330+43.3*x(1,i)\n",
"  \n",
"  k(1,i)=31.1*exp(7906*(T(1,i)-360)/(T(1,i)*360));\n",
"  Kc(1,i) = 3.03*exp(-830.3*((T(1,i)-360)/(T(1,i)*360)));\n",
"  \n",
"  ra(1,i) = k(1,i)*Ca0*(1-(1+(1/Kc(1,i)))*x(1,i));\n",
"end\n",
"scf(1)\n",
"plot2d(V,x(1,:)); \n",
"\n",
"xtitle( 'Figure E8-6.1a', 'V(m^3)', 'X' ) ;\n",
"scf(2)\n",
"plot2d(V,T(1,:)); \n",
"\n",
"xtitle( 'Figure E8-6.1b', 'V(m^3)', 'T (K)' ) ;\n",
"\n",
"scf(3)\n",
"plot2d(V,ra); \n",
"\n",
"xtitle( 'Figure E8-6.1c', 'V(m^3)', '-ra (kmol/m^3hr)' ) ;\n",
"\n",
""
   ]
   }
,
{
		   "cell_type": "markdown",
		   "metadata": {},
		   "source": [
			"## Example 8.7: clear.sce"
		   ]
		  },
  {
"cell_type": "code",
	   "execution_count": null,
	   "metadata": {
	    "collapsed": true
	   },
	   "outputs": [],
"source": [
"//clear//\n",
"clc\n",
"clear\n",
"exec('8.8data.sci');\n",
"for i = 1:length(T)\n",
"  Xe(i) = 100000*exp(-33.78*(T(i)-298)/(T(i)))/(1+ 100000*exp(-33.78*(T(i)-298)/T(i)));\n",
"  XEB(i) = (2.5e-3)*(T(i)-300);\n",
"end\n",
"plot2d(T,[Xe XEB])\n",
"\n",
"xtitle( 'Figure E8-8.1', 'T', 'X' ) ;\n",
"legend(['Xe';'XEB']);"
   ]
   }
,
{
		   "cell_type": "markdown",
		   "metadata": {},
		   "source": [
			"## Example 8.9: clear.sce"
		   ]
		  },
  {
"cell_type": "code",
	   "execution_count": null,
	   "metadata": {
	    "collapsed": true
	   },
	   "outputs": [],
"source": [
"//clear//\n",
"clc\n",
"clear\n",
"//eY(2)ec('8.6data.sci');\n",
"W = 0:1:28.58;\n",
"W0=0;\n",
"function w=f(W,Y)\n",
"  w =zeros(3,1);\n",
"  \n",
"  \n",
"fao=.188\n",
"visc=.090\n",
"Ta=1264.67\n",
"deltah=-42471-1.563*(Y(3)-1260)+.00136*(Y(3)**2-1260**2)-(2.459*10**(-7))*(Y(3)**3-1260**3);\n",
"summ= 57.23+.014 * Y(3)-1.94 *10**(-6.)*Y(3)**2\n",
"dcp=-1.5625+2.72*10**(-3)*Y(3)-7.38*10**(-7)*Y(3)**2\n",
"k=360D*exp(-176008/Y(3)-(110.1*log(Y(3)))+912.8)\n",
"thetaso=0;\n",
"Po=2\n",
"Pao=.22\n",
"thetao=.91\n",
"eps=-.055\n",
"R=1.987;\n",
"Kp=exp(42311/R/Y(3)-11.24);\n",
"if(Y(2)< =.05)\n",
"  \n",
"  ra=(-k*(.848-.012/(Kp**2)));\n",
"else\n",
"  ra=(-k*(1-Y(2))/(thetaso+Y(2)))**.5*(Y(1)/Po*Pao*((thetao-.5*Y(2))/((1+eps*Y(2)))-((thetaso+Y(2))/(1-Y(2)))**2/(Kp**2)));\n",
"end\n",
"\n",
"w(1)=(-1.12*10**(-8)*(1-.055*Y(2))*Y(3))*(5500*visc+2288)/Y(1) ;\n",
"w(2)=-(ra)/fao ;\n",
"w(3)=(5.11*(Ta-Y(3))+(-ra)*(-deltah) )/(fao*(summ+Y(2)*dcp)) \n",
"endfunction\n",
"\n",
"X=ode([2;0;1400],W0,W,f);\n",
"\n",
"plot2d(W,X(1,:)); \n",
"plot2d(W,X(3,:)); "
   ]
   }
],
"metadata": {
		  "kernelspec": {
		   "display_name": "Scilab",
		   "language": "scilab",
		   "name": "scilab"
		  },
		  "language_info": {
		   "file_extension": ".sce",
		   "help_links": [
			{
			 "text": "MetaKernel Magics",
			 "url": "https://github.com/calysto/metakernel/blob/master/metakernel/magics/README.md"
			}
		   ],
		   "mimetype": "text/x-octave",
		   "name": "scilab",
		   "version": "0.7.1"
		  }
		 },
		 "nbformat": 4,
		 "nbformat_minor": 0
}
