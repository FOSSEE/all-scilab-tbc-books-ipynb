{
"cells": [
 {
		   "cell_type": "markdown",
	   "metadata": {},
	   "source": [
       "# Chapter 5: Collection and Analysis of Rate Data"
	   ]
	},
{
		   "cell_type": "markdown",
		   "metadata": {},
		   "source": [
			"## Example 5.1: clear.sce"
		   ]
		  },
  {
"cell_type": "code",
	   "execution_count": null,
	   "metadata": {
	    "collapsed": true
	   },
	   "outputs": [],
"source": [
"//clear//\n",
"p = [ 1.44 .95 .74]';\n",
"dt = 2.5\n",
"t = [0 2.5 5]';\n",
"dp(1) =( 3*p(1)+4p(2)-p(3))/(2*dt);\n",
"for i=2:n1\n",
" dp p(i+3"
   ]
   }
,
{
		   "cell_type": "markdown",
		   "metadata": {},
		   "source": [
			"## Example 5.2: clear.sce"
		   ]
		  },
  {
"cell_type": "code",
	   "execution_count": null,
	   "metadata": {
	    "collapsed": true
	   },
	   "outputs": [],
"source": [
"//clear//\n",
"clc\n",
"clear\n",
"exec('5.2data.sci');\n",
" for i =1:length(t)\n",
"g(i) =log(2*P0/(3*P0-P(i)));\n",
"end\n",
"plot2d(t,g); \n",
"\n",
"xtitle( 'Figure E4-11.2 Plot of processed data', 't (min)', '2PTo/3PTo-PT' ) ;"
   ]
   }
,
{
		   "cell_type": "markdown",
		   "metadata": {},
		   "source": [
			"## Example 5.3: clear.sce"
		   ]
		  },
  {
"cell_type": "code",
	   "execution_count": null,
	   "metadata": {
	    "collapsed": true
	   },
	   "outputs": [],
"source": [
"//Clear//\n",
"clc\n",
"clear\n",
"exec('5.3data.sci');\n",
"\n",
"x=log(CHCl);\n",
"y=log(-rHCl);\n",
"plot2d(x,y); \n",
"\n",
"xtitle( 'Figure E5-3.2 ', 'CHCl (g mol/ liter)', 'rHCl0 (g mol / cm^2.s)' ) ;"
   ]
   }
,
{
		   "cell_type": "markdown",
		   "metadata": {},
		   "source": [
			"## Example 5.4: clear.sce"
		   ]
		  },
  {
"cell_type": "code",
	   "execution_count": null,
	   "metadata": {
	    "collapsed": true
	   },
	   "outputs": [],
"source": [
"//Clear//\n",
"clc\n",
"clear\n",
"exec('5.4data.sci');\n",
"\n",
"rCH4 = (v0/W)*CCH4;x\n",
"x=log(PCO);\n",
"y = log(rCH4)\n",
"alpha= (y(3)-y(2))/(x(3)-x(2));\n",
"//plot2d(x,y)\n",
"disp('alpha')\n",
"disp(alpha)"
   ]
   }
],
"metadata": {
		  "kernelspec": {
		   "display_name": "Scilab",
		   "language": "scilab",
		   "name": "scilab"
		  },
		  "language_info": {
		   "file_extension": ".sce",
		   "help_links": [
			{
			 "text": "MetaKernel Magics",
			 "url": "https://github.com/calysto/metakernel/blob/master/metakernel/magics/README.md"
			}
		   ],
		   "mimetype": "text/x-octave",
		   "name": "scilab",
		   "version": "0.7.1"
		  }
		 },
		 "nbformat": 4,
		 "nbformat_minor": 0
}
