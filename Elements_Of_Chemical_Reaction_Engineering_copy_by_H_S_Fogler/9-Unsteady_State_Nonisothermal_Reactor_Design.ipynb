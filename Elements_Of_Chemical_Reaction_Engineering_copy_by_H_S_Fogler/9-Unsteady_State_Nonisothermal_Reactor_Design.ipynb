{
"cells": [
 {
		   "cell_type": "markdown",
	   "metadata": {},
	   "source": [
       "# Chapter 9: Unsteady State Nonisothermal Reactor Design"
	   ]
	},
{
		   "cell_type": "markdown",
		   "metadata": {},
		   "source": [
			"## Example 9.1: clear.sce"
		   ]
		  },
  {
"cell_type": "code",
	   "execution_count": null,
	   "metadata": {
	    "collapsed": true
	   },
	   "outputs": [],
"source": [
"//clear//\n",
"clc\n",
"clear\n",
"exec('9.1data.sci');\n",
" t = 0:10:1500;\n",
"function w=f(t,x)\n",
" \n",
" w =zeros(1,1);\n",
"\n",
"t1=535+90.45*x\n",
"k= .000273*exp(16306*((1/535)-(1/t1)));\n",
"w(1)=k*(1-x) \n",
"endfunction\n",
"\n",
"X=ode([0],t0,t,f);\n",
"T=535+90.45*X;\n",
"scf(1)\n",
"plot2d(t,T); \n",
"\n",
"xtitle( 'Figure E9-1.1', 't (Seconds)', 'T (oR)' ) ;\n",
"\n",
"scf(2)\n",
"plot2d(t,X); \n",
"\n",
"xtitle( 'Figure E9-1.1', 't (Seconds)', 'X' ) ;\n",
"\n",
"\n",
""
   ]
   }
,
{
		   "cell_type": "markdown",
		   "metadata": {},
		   "source": [
			"## Example 9.2: clear.sce"
		   ]
		  },
  {
"cell_type": "code",
	   "execution_count": null,
	   "metadata": {
	    "collapsed": true
	   },
	   "outputs": [],
"source": [
"//clear//\n",
"clc\n",
"clear\n",
"//this code is only for Part C\n",
"exec('9.2data.sci');\n",
" t = 55:1:121;\n",
"function w=f(t,Y)\n",
" \n",
" w =zeros(2,1);\n",
"\n",
"\n",
"\n",
"k=.00017*exp(11273/(1.987)*(1/461-1/Y(1)))\n",
"Qr=UA*(Y(1) -298)\n",
"Theata=Nbo/Nao\n",
"ra=-k*(Nao**2)*(1-Y(2))*(Theata-2*Y(2))/(U**2)\n",
"rate=-ra\n",
"Qg=ra*U*(dH)\n",
"w(1)=(Qg-Qr)/NCp\n",
"w(2)=(-ra)*U/Nao\n",
"endfunction\n",
"\n",
"x=ode([467.992;0.0423],t0,t,f);\n",
"\n",
"\n",
"plot2d(t,x(1,:)); \n",
"\n",
"xtitle( 'Figure E9-2.2', 't ', 'T (oC)' ) ;\n",
"\n",
""
   ]
   }
,
{
		   "cell_type": "markdown",
		   "metadata": {},
		   "source": [
			"## Example 9.3: clear.sce"
		   ]
		  },
  {
"cell_type": "code",
	   "execution_count": null,
	   "metadata": {
	    "collapsed": true
	   },
	   "outputs": [],
"source": [
"//clear//\n",
"clc\n",
"clear\n",
"exec('9.3data.sci');\n",
"t = 0:1:360;\n",
"\n",
"function w=f(t,Y)\n",
" \n",
" w =zeros(5,1);\n",
"\n",
"k=.39175*exp(5472.7*((1/273)-(1/Y(4))));\n",
"Cd=Y(3);\n",
"\n",
"Kc=10^(3885.44/Y(4))\n",
"V=Vi+v0*t;\n",
"Fb0=Cb0*v0;\n",
"ra=-k*((Y(1)*Y(2))-((Y(3)*Cd)/Kc));\n",
"Na=V*Y(1)\n",
"Nb=V*Y(2)\n",
"Nc=V*Y(3)\n",
"rb=ra\n",
"rc=-ra\n",
"Nd=V*Cd\n",
"rate=-ra\n",
"NCp=cp*(Nb+Nc+Nd+Y(5))+cpa*Na;\n",
"w(1)=ra-(v0*Y(1))/V;\n",
"w(2) =rb+(v0*(Cb0-Y(2))/V);\n",
"w(3) =rc- (Y(3)*v0)/V;\n",
"w(4)= (UA*(Ta-Y(4))-Fb0*cp*(1+55)*(Y(4)-T0)+ra*V*dh)/NCp\n",
"w(5) =v0*Cw0\n",
"endfunction\n",
"\n",
"x=ode([5;0.0001;00.0001;300;6.14],t0,t,f);\n",
"scf(1)\n",
"plot2d(t,x(4,:));\n",
"\n",
"xtitle( 'Figure E9-3.1', 't', 'T' ) ;\n",
"\n",
"scf(2)\n",
"l1=x(1,: )'\n",
"l2=x(2,: )'\n",
"l3=x(3,: )'\n",
"plot2d(t',[l1 l2 l3]); \n",
"\n",
"xtitle( 'Figure E9-3.2', 't', 'Ca,Cb,Cc' ) ;\n",
"legend(['Ca';'Cb';'Cc']);\n",
"\n",
""
   ]
   }
,
{
		   "cell_type": "markdown",
		   "metadata": {},
		   "source": [
			"## Example 9.4: clear.sce"
		   ]
		  },
  {
"cell_type": "code",
	   "execution_count": null,
	   "metadata": {
	    "collapsed": true
	   },
	   "outputs": [],
"source": [
"//clear//\n",
"clc\n",
"clear\n",
"//exec('9.3data.sci');\n",
"t = 0:.0001:4;\n",
"t0=0;\n",
"function w=f(t,Y)\n",
" \n",
" w =zeros(5,1);\n",
"\n",
"Fa0=80;\n",
"T0=75;\n",
"V=(1/7.484)*500;\n",
"UA=16000;\n",
"Ta1=60;\n",
"k=16.96e12*exp(-32400/1.987/(Y(5)+460));\n",
"Fb0=1000;\n",
"Fm0=100;\n",
"mc=1000;\n",
"ra=-k*Y(1);\n",
"rb=-k*Y(1);\n",
"rc=k*Y(1) ;\n",
"Nm=Y(4)*V;\n",
"Na=Y(1)*V;\n",
"Nb=Y(2)*V;\n",
"Nc=Y(3)*V;\n",
"ThetaCp=35+(Fb0/Fa0)*18+(Fm0/Fa0)*19.5;\n",
"v0=(Fa0/0.923)+(Fb0/3.45)+(Fm0/1.54);\n",
"Ta2=Y(5)- (Y(5)-Ta1)*exp (-UA/(18*mc));\n",
"Ca0=Fa0/v0\n",
"Cb0=Fb0/v0\n",
"Cm0=Fm0/v0\n",
"Q=mc*18*(Ta1-Ta2);\n",
"tau=V/v0;\n",
"NCp=Na*35+Nb*18+Nc*46+Nm*13.5;\n",
"w(1)=(1/tau)*(Ca0-Y(1))+ra;\n",
"w(2)=(1/tau)*(Cb0-Y(2))+rb;\n",
"w(3)=(1/tau)*(-Y(3))+rc;\n",
"w(4) =(1/tau)*(Cm0-Y(4));\n",
"w(5) = (Q-Fa0*ThetaCp*(Y(5)-T0)+(-36000)*ra*V)/NCp;\n",
"endfunction\n",
"\n",
"x=ode([0;3.45;0;0;75],t0,t,f);\n",
"scf(1)\n",
"plot2d(t,x(1,:)); \n",
"\n",
"xtitle( 'Figure E9-4.1', 't', 'Ca' ) ;\n",
"\n",
"scf(2)\n",
"plot2d(t,x(5,:)); \n",
"\n",
"xtitle( 'Figure E9-4.2', 't', 'T' ) ;\n",
"scf(3)\n",
"plot2d(x(5,:),x(1,:));\n",
" \n",
"xtitle( 'Figure E9-4.3', 'T', 'Ca' ) ;\n",
"\n",
"\n",
"\n",
""
   ]
   }
,
{
		   "cell_type": "markdown",
		   "metadata": {},
		   "source": [
			"## Example 9.8: clear.sce"
		   ]
		  },
  {
"cell_type": "code",
	   "execution_count": null,
	   "metadata": {
	    "collapsed": true
	   },
	   "outputs": [],
"source": [
"//clear//\n",
"clc\n",
"clear\n",
"exec('9.8data.sci');\n",
"t = 0:.01:1.5;\n",
"\n",
"function w=f(t,Y)\n",
" \n",
" w =zeros(4,1);\n",
"\n",
"k1a=1.25*exp((9500/1.987)*((1/320)-(1/Y(4))));\n",
"k2b=0.08*exp((7000/1.987)*((1/290)-(1/Y(4))));\n",
"ra=-k1a*Y(1);\n",
"V=100+vo*t;\n",
"rc=3*k2b*Y(2);\n",
"rb=k1a*(Y(1)/2)-k2b*Y(2);\n",
"w(1)=ra+(Cao-Y(1))*vo/V;\n",
"w(2)=rb-Y(2)*vo/V;\n",
"w(3)=rc-Y(3)*vo/V; w(4)=(35000*(298-Y(4))-Cao*vo*30*(Y(4)-305)+((-6500)*(-k1a*Y(1))+(8000)*(-k2b*Y(2)))*V)/((Y(1)*30+Y(2)*60+Y(3)*20)*V+100*35);\n",
"endfunction\n",
"\n",
"x=ode([1;0;0;290],t0,t,f);\n",
"\n",
"\n",
"scf(1)\n",
"l1=x(1,: )'\n",
"l2=x(2,: )'\n",
"l3=x(3,: )'\n",
"plot2d(t',[l1 l2 l3]); \n",
"\n",
"xtitle( 'Figure E9-8.1', 't', 'Ca,Cb,Cc' ) ;\n",
"legend(['Ca';'Cb';'Cc']);\n",
"\n",
"scf(2)\n",
"plot2d(t,x(4,:)); \n",
"\n",
"xtitle( 'Figure E9-8.2', 't', 'T' ) ;\n",
"\n",
"\n",
""
   ]
   }
],
"metadata": {
		  "kernelspec": {
		   "display_name": "Scilab",
		   "language": "scilab",
		   "name": "scilab"
		  },
		  "language_info": {
		   "file_extension": ".sce",
		   "help_links": [
			{
			 "text": "MetaKernel Magics",
			 "url": "https://github.com/calysto/metakernel/blob/master/metakernel/magics/README.md"
			}
		   ],
		   "mimetype": "text/x-octave",
		   "name": "scilab",
		   "version": "0.7.1"
		  }
		 },
		 "nbformat": 4,
		 "nbformat_minor": 0
}
