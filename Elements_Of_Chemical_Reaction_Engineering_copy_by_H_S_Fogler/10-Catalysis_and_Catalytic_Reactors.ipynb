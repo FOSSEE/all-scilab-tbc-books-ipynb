{
"cells": [
 {
		   "cell_type": "markdown",
	   "metadata": {},
	   "source": [
       "# Chapter 10: Catalysis and Catalytic Reactors"
	   ]
	},
{
		   "cell_type": "markdown",
		   "metadata": {},
		   "source": [
			"## Example 10.3: clear.sce"
		   ]
		  },
  {
"cell_type": "code",
	   "execution_count": null,
	   "metadata": {
	    "collapsed": true
	   },
	   "outputs": [],
"source": [
"//clear//\n",
"clc\n",
"clear\n",
"exec('10.3data.sci');\n",
"w = 0:10:10000;\n",
"\n",
"function W=f(w,x)\n",
" \n",
" W =zeros(1,1);\n",
"\n",
"pt0=.3*Po;\n",
"y=(1-alpha*w)^.5;\n",
"ph=pt0*(1.5-x)*y;\n",
"pt=pt0*(1-x)*y;\n",
"pb=2*pt0*x*y;\n",
"rt=-k*kt*ph*pt/(1+kb*pb+kt*pt);\n",
"rate=-rt;\n",
"W(1)=-rt/ftO; \n",
"endfunction\n",
"pt0=.3*Po;\n",
"X=ode([0],w0,w,f);\n",
"\n",
"\n",
"for i =1:length(X)\n",
"  y(1,i)=(1-alpha*w(1,i))^.5;\n",
"ph(1,i)=pt0*(1.5-X(1,i))*y(1,i);\n",
"pt(1,i)=pt0*(1-X(1,i))*y(1,i);\n",
"pb(1,i)=2*pt0*X(1,i)*y(1,i)\n",
"end\n",
"\n",
"m1 = X';\n",
"m2=y';\n",
"scf(1)\n",
"plot2d(w',[m1 m2]); \n",
"\n",
"xtitle( 'Figure E10-3.1', 'w', 'x,y' ) ;\n",
"legend(['x';'y']);\n",
"\n",
"scf(2)\n",
"l1=ph'\n",
"l2=pt'\n",
"l3=pb'\n",
"plot2d(w',[l1 l2 l3]); \n",
"\n",
"xtitle( 'Figure E10-3.2', 'w', 'ph,pt,pb' ) ;\n",
"legend(['ph';'pt';'pb']);\n",
"\n",
"\n",
"\n",
""
   ]
   }
,
{
		   "cell_type": "markdown",
		   "metadata": {},
		   "source": [
			"## Example 10.5: clear.sce"
		   ]
		  },
  {
"cell_type": "code",
	   "execution_count": null,
	   "metadata": {
	    "collapsed": true
	   },
	   "outputs": [],
"source": [
"//clear//\n",
"clc\n",
"clear\n",
"exec('10.5data.sci');\n",
"t = 0:.01:.5;\n",
"\n",
"function w=f(t,Y)\n",
" \n",
" w =zeros(2,1);\n",
"\n",
"\n",
"ya0=Ca0/Ct0;\n",
"X=1-(1+ya0)/(1+Y(2)/Ct0)*Y(2)/Ca0;\n",
"w(1)=-kd*Y(1)*Y(2);\n",
"w(2) = (Ca0/tau)-((1+ya0)/(1+(Y(2)/Ct0))+tau*Y(1)*k)*Y(2)/tau;\n",
"endfunction\n",
"\n",
"x=ode([1;.8],t0,t,f);\n",
"Ca0=.8;\n",
"Ct0=1\n",
"ya0=Ca0/Ct0;\n",
"for i=1:length(t)\n",
"  X1(i)=1-(1+ya0)/(1+x(2,i)/Ct0)*x(2,i)/Ca0;\n",
"  end\n",
"\n",
"\n",
"l1=x(1,: )'\n",
"l2=x(2,: )'\n",
"l3=X1;\n",
"plot2d(t',[l1 l2 l3]); \n",
"\n",
"xtitle( 'Figure E10-5.1', 't', 'a,Ca,X' ) ;\n",
"legend(['a';'Ca';'X']);\n",
"\n",
"\n",
"\n",
"\n",
""
   ]
   }
,
{
		   "cell_type": "markdown",
		   "metadata": {},
		   "source": [
			"## Example 10.7: clear.sce"
		   ]
		  },
  {
"cell_type": "code",
	   "execution_count": null,
	   "metadata": {
	    "collapsed": true
	   },
	   "outputs": [],
"source": [
"//clear//\n",
"clc\n",
"clear\n",
"exec('10.7data.sci');\n",
"z = 0:.1:10;\n",
"z0=0;\n",
"function w=f(z,X)\n",
" \n",
" w =zeros(1,1);\n",
"\n",
"\n",
"U=Uo*(1+eps*X)\n",
"Pa=Pao*(1-X)/(1+eps*X)\n",
"Pb=Pao*X/(1+eps*X)\n",
"vo=Uo*3.1416*D*D/4\n",
"Ca0=Pao/R/T\n",
"Kca=Ka*R*T\n",
"Pc=Pb\n",
"a=1/(1+A*(z/U)**0.5)\n",
"raprime=a*(-kprime*Pa/(1+ Ka*Pa+Kb*Pb+Kc*Pc))\n",
"ra=rho*raprime;\n",
"w(1)=-ra/U/Ca0\n",
"endfunction\n",
"\n",
"x=ode([0],z0,z,f);\n",
"for i=1:length(z)\n",
"U(1,i)=Uo*(1+eps*x(1,i))\n",
"a(1,i)=1/(1+A*(z(1,i)/U(1,i))**0.5)\n",
"end\n",
"\n",
"\n",
"l1=x(1,: )'\n",
"l2=a(1,: )'\n",
"\n",
"plot2d(z',[l1 l2]); \n",
"\n",
"xtitle( 'Figure E10-7.1', 'z', 'X,a' ) ;\n",
"legend(['X';'a']);\n",
"\n",
"\n",
"\n",
""
   ]
   }
,
{
		   "cell_type": "markdown",
		   "metadata": {},
		   "source": [
			"## Example 13.8: clear.sci"
		   ]
		  },
  {
"cell_type": "code",
	   "execution_count": null,
	   "metadata": {
	    "collapsed": true
	   },
	   "outputs": [],
"source": [
"k=0.1\n",
"cao=8;\n",
"z0=0;"
   ]
   }
],
"metadata": {
		  "kernelspec": {
		   "display_name": "Scilab",
		   "language": "scilab",
		   "name": "scilab"
		  },
		  "language_info": {
		   "file_extension": ".sce",
		   "help_links": [
			{
			 "text": "MetaKernel Magics",
			 "url": "https://github.com/calysto/metakernel/blob/master/metakernel/magics/README.md"
			}
		   ],
		   "mimetype": "text/x-octave",
		   "name": "scilab",
		   "version": "0.7.1"
		  }
		 },
		 "nbformat": 4,
		 "nbformat_minor": 0
}
