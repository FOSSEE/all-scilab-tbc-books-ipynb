{
"cells": [
 {
		   "cell_type": "markdown",
	   "metadata": {},
	   "source": [
       "# Chapter 6: Multiple Reactions"
	   ]
	},
{
		   "cell_type": "markdown",
		   "metadata": {},
		   "source": [
			"## Example 6.6: clear.sce"
		   ]
		  },
  {
"cell_type": "code",
	   "execution_count": null,
	   "metadata": {
	    "collapsed": true
	   },
	   "outputs": [],
"source": [
"//Clear//\n",
"clc\n",
"clear\n",
"exec('6.6data.sci');\n",
" t = 0:.01:.5;\n",
"function w=f(t,c)\n",
" \n",
" w =zeros(3,1);\n",
"\n",
"r1 = -k1*c(2)*c(1)^.5;\n",
"r2 = -k2*c(3)*c(1)^.5;\n",
" w(1)= r1+r2;\n",
" w(2) = r1;\n",
" w(3) = -r1+r2;\n",
" \n",
"endfunction\n",
"\n",
"x=ode([.021;.0105;0],t0,t,f);\n",
"\n",
"l1=x(1,: )'\n",
"l2=x(2,: )'\n",
"l3=x(3,: )'\n",
"\n",
"plot2d(t',[l1 l2 l3]); \n",
"\n",
"xtitle( 'Figure E6-6.1', 'Tau (hr)', 'Concentration (lb mol/ft^3' ) ;\n",
"legend(['CH';'CM';'CX']);\n",
""
   ]
   }
,
{
		   "cell_type": "markdown",
		   "metadata": {},
		   "source": [
			"## Example 6.8: clear.sce"
		   ]
		  },
  {
"cell_type": "code",
	   "execution_count": null,
	   "metadata": {
	    "collapsed": true
	   },
	   "outputs": [],
"source": [
"//clear//\n",
"clc\n",
"clear\n",
"exec('6.8data.sci');\n",
" v = 0:.1:10;\n",
"function w =FF(v,f)\n",
"\n",
" w =zeros(6,1);\n",
" ft = f(1)+f(2)+f(2)+f(4)+f(5)+f(6);\n",
" r1a = -5*8*(f(1)/ft)*(f(2)/ft)^2;\n",
" r2a = -2*4*(f(1)/ft)*(f(2)/ft);\n",
" r4c = -5*3.175*(f(3)/ft)*(f(1)/ft)^(2/3);\n",
" r3b = -10*8*((f(3)/ft)^2)*(f(2)/ft);\n",
" Ca =2*f(1)/ft;\n",
" Cb =2*f(2)/ft;\n",
" Cc =2*f(3)/ft;\n",
" Cd =2*f(4)/ft;\n",
" Ce =2*f(5)/ft;\n",
" Cf =2*f(6)/ft;\n",
"w(1)= 1.25*r1a+.75*r2a+r3b;\n",
" w(2) = r1a+r2a+2*r4c/3;\n",
" w(3) = -r1a+2*r3b+r4c;\n",
" w(4) =-1.5*r1a-1.5*r2a-r4c;\n",
" w(5) =.5*r2a-5*r4c/6;\n",
" w(6) = -2*r3b;\n",
" \n",
"endfunction\n",
"\n",
"x=ode([9;9;0;0;0;0],v0,v,FF);\n",
"\n",
"plot2d(v,x(1,:)/10,rect=[1,0,10,1.5]); //B\n",
"plot2d(v,x(2,:)/10,rect=[1,0,10,1.5]); //A\n",
"plot2d(v,x(3,:)/10,rect=[1,0,10,1.5]); //C\n",
"plot2d(v,x(4,:)/10,rect=[1,0,10,1.5]);\n",
"plot2d(v,x(5,:)/10,rect=[1,0,10,1.5]);\n",
"plot2d(v,x(6,:)/10,rect=[1,0,10,1.5]);\n",
"xtitle('FigureE');\n",
"legend (['B';'A';'C';'D';'E';'F']);\n",
"\n",
""
   ]
   }
],
"metadata": {
		  "kernelspec": {
		   "display_name": "Scilab",
		   "language": "scilab",
		   "name": "scilab"
		  },
		  "language_info": {
		   "file_extension": ".sce",
		   "help_links": [
			{
			 "text": "MetaKernel Magics",
			 "url": "https://github.com/calysto/metakernel/blob/master/metakernel/magics/README.md"
			}
		   ],
		   "mimetype": "text/x-octave",
		   "name": "scilab",
		   "version": "0.7.1"
		  }
		 },
		 "nbformat": 4,
		 "nbformat_minor": 0
}
