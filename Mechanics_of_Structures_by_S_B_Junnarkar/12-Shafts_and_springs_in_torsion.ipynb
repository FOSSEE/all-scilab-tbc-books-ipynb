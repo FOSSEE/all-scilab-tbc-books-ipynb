{
"cells": [
 {
		   "cell_type": "markdown",
	   "metadata": {},
	   "source": [
       "# Chapter 12: Shafts and springs in torsion"
	   ]
	},
{
		   "cell_type": "markdown",
		   "metadata": {},
		   "source": [
			"## Example 12.10: Chapter_12_example_10.sce"
		   ]
		  },
  {
"cell_type": "code",
	   "execution_count": null,
	   "metadata": {
	    "collapsed": true
	   },
	   "outputs": [],
"source": [
"clear;\n",
"clc;\n",
"HP = 80;\n",
"RPM = 120;\n",
"b = 10;// feet\n",
"h = 3;// feet\n",
"F = 8000;// lb-wt\n",
"m = 4;\n",
"T = HP*33000*12/(2*%pi*RPM*2240);// ton-inches\n",
"M = F*h*(b-h)*12/(b*2240);// ton-inches\n",
"//(i) The major principal stress f1 is given by\n",
"f1 = 6;// tons/in^2\n",
"d1 = ((M+sqrt(M^2 + T^2))*16/(%pi*f1))^(1/3);// inches\n",
"\n",
"//(ii) If f_s_dash is the maximum intensity of shear stress\n",
"f_s_dash = 3;// tons/in^2\n",
"d2 = (sqrt(M^2 + T^2) * 16/(%pi*f_s_dash))^(1/3);// inches\n",
"\n",
"//(iii) If e is the major principal strain\n",
"Ee = 6;// tons/in^2\n",
"d3 = (((1-(1/m))*M + (1+(1/m))*sqrt(M^2 + T^2))*16/(%pi*Ee))^(1/3);// inches\n",
"\n",
"//(iv) If f is the direct stress which, acting alone will produce the same maximum strain energy \n",
"f = 6;// tons/in^2\n",
"d4 = ((sqrt(4*M^2 + 2*(m+1)*(T^2)/m))*16/(%pi*f))^(1/3);// inches\n",
"printf('The diameter of the shaft in different cases will be, (i) d = %.3f inches\n                                                      (ii) d = %.3f inches\n                                                      (iii) d = %.3f inches\n                                                       (iv) d = %.3f inches',d1,d2,d3,d4);\n",
"//there are round-off errors in the answers given in textbook."
   ]
   }
,
{
		   "cell_type": "markdown",
		   "metadata": {},
		   "source": [
			"## Example 12.11: Chapter_12_example_11.sce"
		   ]
		  },
  {
"cell_type": "code",
	   "execution_count": null,
	   "metadata": {
	    "collapsed": true
	   },
	   "outputs": [],
"source": [
"clear;\n",
"clc;\n",
"D = 12;// inches\n",
"d = 6;// inches\n",
"HP = 2400;\n",
"RPM = 80;\n",
"M = 40;// ton-feet\n",
"P = 25;// tons\n",
"PR = 0.3;//poisson's ratio\n",
"A = 0.25*%pi*(D^2 - d^2);// in^2\n",
"Z = (%pi/32)*(D^4 - d^4)/D;// in^3\n",
"J = (%pi/16)*(D^4 - d^4)/D;// in^3\n",
"p_0 = P/A ;// ton/in^2\n",
"p_b = M*12/Z ;// tons/in^2\n",
"f_b = p_0 + p_b;//tons/in^2\n",
"f_s = HP*33000*12/(2*%pi*RPM*2240*J);// tons/in^2\n",
"theta = 0.5*atan(2*f_s/f_b);// radians\n",
"theta1 = theta*180/%pi;// degrees\n",
"theta2 = theta1+90;//degrees\n",
"f_1 = 0.5*f_b + sqrt(f_s^2 + 0.25*f_b^2);//tons/in^2\n",
"f_2 = 0.5*f_b - sqrt(f_s^2 + 0.25*f_b^2);//tons/in^2\n",
"f = sqrt(0.25*f_b^2 + f_s^2);// tons/in^2\n",
"Ee = f_1 - PR*f_2;// tons/in^2\n",
"printf('The maximum principal stresse are f_1 = %.3f tons/in^2.,compressive \n      f_2 = %.3f tons/in^2., tensile',f_1,-f_2);\n",
"printf('\n theta1 = %.1f degrees\n theta2 = %.1f degrees',theta1,theta2);\n",
"printf('\n The maximum shear intensity = %.3f tons/in^2',f);\n",
"printf('\n Maximum strain is, Ee = %.3f tons/in^2',Ee);\n",
"\n",
"//there are minute errors in the answers given in textbook."
   ]
   }
,
{
		   "cell_type": "markdown",
		   "metadata": {},
		   "source": [
			"## Example 12.12: Chapter_12_example_12.sce"
		   ]
		  },
  {
"cell_type": "code",
	   "execution_count": null,
	   "metadata": {
	    "collapsed": true
	   },
	   "outputs": [],
"source": [
"clear;\n",
"clc;\n",
"RPM = 180;\n",
"P = 10;// tons\n",
"v = 25;// feet per minute\n",
"n = 64/100;// efficiency of the crane\n",
"f = 5500;// lb/in^2\n",
"l = 10;// feet\n",
"N = 12*10^6;// lb/in^2\n",
"W = P*v*2240/n;// ft-lbs\n",
"T = W*12/(2*%pi*RPM);// lb-inches\n",
"s = (T/(0.208*f))^(1/3);// inches\n",
"theta = 7.11*T*l*12*180/(%pi*N*s^4);// degrees\n",
"printf('The size of the shaft is s = %.3f inches',s);\n",
"printf('\n The angle of the twist in the shaft for a length of %d feet, theta = %.3f degrees',l,theta);\n",
"//there is a round-off error in the answer given in textbook."
   ]
   }
,
{
		   "cell_type": "markdown",
		   "metadata": {},
		   "source": [
			"## Example 12.13: Chapter_12_example_13.sce"
		   ]
		  },
  {
"cell_type": "code",
	   "execution_count": null,
	   "metadata": {
	    "collapsed": true
	   },
	   "outputs": [],
"source": [
"clear;\n",
"clc;\n",
"d = 3/8;// inches\n",
"n = 12;//no. of complete turns\n",
"D = 4;// inches\n",
"W = 50;// lb-wt\n",
"N = 12*10^6;// lb/in^2\n",
"T = W*0.5*D;// lb-inches\n",
"f_s = T*16/(%pi*d^3);//lb/in^2\n",
"delta = 64*W*(D^3 /8)*n/(N*d^4);// inches\n",
"E = 0.5*W*delta;// inch-lbs\n",
"printf('Shear stress induced is f_s = %d lb/in^2',f_s);\n",
"printf('\n Deflection under the pull is delta = %.3f inches',delta);\n",
"printf('\n Energy stored = %.3f lb-inches',E);\n",
"\n",
"//there is a minute error in the answer given in textbook."
   ]
   }
,
{
		   "cell_type": "markdown",
		   "metadata": {},
		   "source": [
			"## Example 12.14: Chapter_12_example_14.sce"
		   ]
		  },
  {
"cell_type": "code",
	   "execution_count": null,
	   "metadata": {
	    "collapsed": true
	   },
	   "outputs": [],
"source": [
"clear;\n",
"clc;\n",
"W = 2;// tons\n",
"v = 4;// miles per hour\n",
"n = 18;// no. of coils\n",
"delta = 9;// inches\n",
"N = 6000;// tons/in^2\n",
"d = 1;// inch\n",
"D = 8;// inches\n",
"KE = 12*(W*(v*44/30)^2)/(2*32);// inch-tons\n",
"P = (delta*N*d^4)/(64*n*(0.5*D)^3);// tons\n",
"E = 0.5*P*delta;// inch-tons\n",
"m = KE/E ;// no. of springs required\n",
"printf('The number of springs required m = %d',round(m));"
   ]
   }
,
{
		   "cell_type": "markdown",
		   "metadata": {},
		   "source": [
			"## Example 12.15: Chapter_12_example_15.sce"
		   ]
		  },
  {
"cell_type": "code",
	   "execution_count": null,
	   "metadata": {
	    "collapsed": true
	   },
	   "outputs": [],
"source": [
"clear;\n",
"clc;\n",
"W = 5;// cwt\n",
"n = 18;// no. of coils\n",
"delta = 9;// inches\n",
"d = 1;// inch\n",
"D = 8;// inches\n",
"N = 6000;// tons/in^2\n",
"P = (delta*N*d^4)/(64*n*(0.5*D)^3);// tons\n",
"h = (0.5*P*delta*20/W)-delta;// inches\n",
"printf('The height of drop h = %.3f inches',h);"
   ]
   }
,
{
		   "cell_type": "markdown",
		   "metadata": {},
		   "source": [
			"## Example 12.16: Chapter_12_example_16.sce"
		   ]
		  },
  {
"cell_type": "code",
	   "execution_count": null,
	   "metadata": {
	    "collapsed": true
	   },
	   "outputs": [],
"source": [
"clear;\n",
"clc;\n",
"s = 1/4;// inch\n",
"n = 12;// no. of coils\n",
"D = 3;// inches\n",
"f_s = 45000;// lb/in^2\n",
"N = 12*10^6;// lb/in^2\n",
"T = 0.208*f_s*s^3;// lb-inches\n",
"W = T/(0.5*D);// lb-wt\n",
"theta = 7.11*T*%pi*D*12/(N*s^4);//rdaians\n",
"delta = 0.5*D*theta;// inches\n",
"printf('Maximum possible axial load is W = %.1f lb-wt',W);\n",
"printf('\n Deflection, delta = %.3f inches',delta);\n",
"\n",
"//there is a minute error in the answer given in textbook."
   ]
   }
,
{
		   "cell_type": "markdown",
		   "metadata": {},
		   "source": [
			"## Example 12.17: Chapter_12_example_17.sce"
		   ]
		  },
  {
"cell_type": "code",
	   "execution_count": null,
	   "metadata": {
	    "collapsed": true
	   },
	   "outputs": [],
"source": [
"clear;\n",
"clc;\n",
"d = 3/8;// inches\n",
"n = 12;//no. of complete turns\n",
"D = 4;// inches\n",
"W = 50;// lb-wt\n",
"N = 12*10^6;// lb/in^2\n",
"E = 30*10^6;// lb/in^2\n",
"M = 75;// lb-inches\n",
"I = (%pi/64)*d^4;// in^4\n",
"Z = 2*I/d;// in^3\n",
"f = M/Z ;// lb/in^2\n",
"phi = M*%pi*D*12/(E*I);// radians\n",
"n_ = (phi/(2*%pi)) + n;// increase in no. of turns\n",
"printf('The bending stress is f = %d lb/in^2',f);\n",
"printf('\n n_new = %.5f turns',n_);\n",
"\n",
"//there are minute errors in the answers given in textbook."
   ]
   }
,
{
		   "cell_type": "markdown",
		   "metadata": {},
		   "source": [
			"## Example 12.18: Chapter_12_example_18.sce"
		   ]
		  },
  {
"cell_type": "code",
	   "execution_count": null,
	   "metadata": {
	    "collapsed": true
	   },
	   "outputs": [],
"source": [
"clear;\n",
"clc;\n",
"d = 3/8;// inches\n",
"n = 12;//no. of complete turns\n",
"D = 4;// inches\n",
"W = 50;// lb-wt\n",
"N = 12*10^6;// lb/in^2\n",
"alpha = 15*%pi/180;// degrees\n",
"E = 30*10^6;// lb/in^2\n",
"T = W*0.5*D*cos(alpha);// lb-inches\n",
"M = W*0.5*D*sin(alpha);// lb-inches\n",
"J = %pi*d^4 /32;// in^4\n",
"I = %pi*d^4 /64;// in^4\n",
"delta = 64*W*((D/2)^3)*n*sec(alpha)*((cos(alpha)^2)/N + (2*sin(alpha)^2)/E)/d^4 ;// inches\n",
"f = 32*W*0.5*D*sin(alpha)/(%pi*d^3) ;// lb/in^2\n",
"f_s = T*16/(%pi*d^3);// lb/in^2\n",
"f_1 = 0.5*f + sqrt(f_s^2 + 0.25*f^2);// lb/in^2\n",
"f_2 = 0.5*f - sqrt(f_s^2 + 0.25*f^2);// lb/in^2\n",
"f_s_dash = sqrt(f_s^2 + 0.25*f^2);// lb/in^2\n",
"printf('Deflection, delta = %.3f inches',delta);\n",
"printf('\n f = %d lb/in^2\n f_s = %d lb/in^2',f,f_s);\n",
"printf('\n The maximum intensity of shear stress = %d lb/in^2',f_s_dash);\n",
"\n",
"//there are calculation errors in the answers given in textbook"
   ]
   }
,
{
		   "cell_type": "markdown",
		   "metadata": {},
		   "source": [
			"## Example 12.19: Chapter_12_example_19.sce"
		   ]
		  },
  {
"cell_type": "code",
	   "execution_count": null,
	   "metadata": {
	    "collapsed": true
	   },
	   "outputs": [],
"source": [
"clear;\n",
"clc;\n",
"d = 3/8;// inches\n",
"n = 12;//no. of complete turns\n",
"D = 4;// inches\n",
"M = 75;// lb-inches\n",
"N = 12*10^6;// lb/in^2\n",
"alpha = 15*%pi/180;// degrees\n",
"E = 30*10^6;// lb/in^2\n",
"phi_dash = (64/d^4)*M*0.5*D*n*sec(alpha)*((2*(cos(alpha))^2)/E + ((sin(alpha))^2)/N);// radians\n",
"DELTA = 64*M*((0.5*D)^2)*n*sin(alpha)*((1/N) - (2/E))/d^4;// inches\n",
"printf('Angle of rotation phi_dash = %.4f radians or %.2f degrees',phi_dash,phi_dash*180/%pi);\n",
"printf('\n The axial deflection = %.4f inches',DELTA);\n",
""
   ]
   }
,
{
		   "cell_type": "markdown",
		   "metadata": {},
		   "source": [
			"## Example 12.1: Chapter_12_example_1.sce"
		   ]
		  },
  {
"cell_type": "code",
	   "execution_count": null,
	   "metadata": {
	    "collapsed": true
	   },
	   "outputs": [],
"source": [
"clear;\n",
"clc;\n",
"d = 3;//inches\n",
"HP = 120;//horse power\n",
"RPM = 180;\n",
"l = 25;//feet\n",
"N = 12*10^6;// lb/in^2\n",
"T = 33000*HP/(2*%pi*RPM);//  lb-feet\n",
"f_s = 16*T*12/(%pi*d^3);// lb/in^2\n",
"theta = f_s*l*12/(0.5*d*N);// radian\n",
"printf('The maximum intensity of shear stress induced is f_s = %.d lb/in^2',f_s);\n",
"printf('\n The angle of twist in degrees is theta = %.2f',theta*180/%pi);\n",
"//there is a minute error in the answer given in textbook."
   ]
   }
,
{
		   "cell_type": "markdown",
		   "metadata": {},
		   "source": [
			"## Example 12.2: Chapter_12_example_2.sce"
		   ]
		  },
  {
"cell_type": "code",
	   "execution_count": null,
	   "metadata": {
	    "collapsed": true
	   },
	   "outputs": [],
"source": [
"clear;\n",
"clc;\n",
"D = 2;// inches\n",
"N = 150;// RPM\n",
"f_s = 9000;// lb/in^2\n",
"M_r = f_s*(%pi/16)*D^3;// lb-inches\n",
"HP = M_r*2*%pi*N/(12*33000);//\n",
"printf('H.P transmitted is %.2f',HP);"
   ]
   }
,
{
		   "cell_type": "markdown",
		   "metadata": {},
		   "source": [
			"## Example 12.3: Chapter_12_example_3.sce"
		   ]
		  },
  {
"cell_type": "code",
	   "execution_count": null,
	   "metadata": {
	    "collapsed": true
	   },
	   "outputs": [],
"source": [
"clear;\n",
"clc;\n",
"HP = 80;\n",
"N = 200;// RPM\n",
"m = 30/100;\n",
"f = 12000;// lb/in^2\n",
"T = HP*33000/(2*%pi*N);// lb-feet\n",
"T_max = (1+m)*T;// lb-feet\n",
"D = (T_max*12*16/(%pi*f))^(1/3);// inches\n",
"printf('Suitable diameter is D = %.3f inches',D);\n",
"\n",
"//the answer is approximated in the textbook."
   ]
   }
,
{
		   "cell_type": "markdown",
		   "metadata": {},
		   "source": [
			"## Example 12.4: Chapter_12_example_4.sce"
		   ]
		  },
  {
"cell_type": "code",
	   "execution_count": null,
	   "metadata": {
	    "collapsed": true
	   },
	   "outputs": [],
"source": [
"clear;\n",
"clc;\n",
"HP = 750;\n",
"N = 90;// RPM\n",
"m = 40/100;\n",
"f = 12000;// lb/in^2\n",
"t = 1;// inch\n",
"T = HP*33000/(2*%pi*N);// lb-inches\n",
"T_max = (1+m)*T;// lb-inches\n",
"//On solving (4*t)D^3 - (6*t^2)D^2 +(4*t^3 -(16*M/f*%pi))D -t^4 = 0, we get D\n",
"D = 7.6;//inches\n",
"d = D - 2;//inches\n",
"printf('A shaft % d inches external diameter and %d inches internal diameter will be satisfactory.',round(D),round(d));\n",
""
   ]
   }
,
{
		   "cell_type": "markdown",
		   "metadata": {},
		   "source": [
			"## Example 12.5: Chapter_12_example_5.sce"
		   ]
		  },
  {
"cell_type": "code",
	   "execution_count": null,
	   "metadata": {
	    "collapsed": true
	   },
	   "outputs": [],
"source": [
"clear;\n",
"clc;\n",
"RPM = 180;// RPM\n",
"HP = 130;\n",
"f = 9000;// lb/in^2\n",
"alpha = 1;//degree\n",
"l = 10;// feet\n",
"N = 6000;// tons/in^2\n",
"T = 33000*HP/(2*%pi*RPM);// lb-feet\n",
"D1 = (16*T*12/(f*%pi))^(1/3);// inches\n",
"D2 = (T*12*l*12*32*alpha*180/(%pi*N*%pi*2240))^(1/4);// inches\n",
"if D1 > D2 then\n",
"    printf('D = %d inches will be suitable for the shaft',round(D1));\n",
"else\n",
"    printf('D = %d inches will be suitable for the shaft',round(D2));\n",
"end"
   ]
   }
,
{
		   "cell_type": "markdown",
		   "metadata": {},
		   "source": [
			"## Example 12.6: Chapter_12_example_6.sce"
		   ]
		  },
  {
"cell_type": "code",
	   "execution_count": null,
	   "metadata": {
	    "collapsed": true
	   },
	   "outputs": [],
"source": [
"clear;\n",
"clc;\n",
"HP = 3000;\n",
"RPM = 60;\n",
"f = 12000;//lb/in^2\n",
"rho = 480;//lb. per sq. foot\n",
"k = 3/4;// k = d/D \n",
"T = HP*33000*12/(2*%pi*RPM);// lb-inches\n",
"D1 = (T*16/(f*%pi))^(1/3);//inches\n",
"D2 = (T/((1+k^2)*(1-k^2)*%pi*f/16))^(1/3);//inches\n",
"d = k*D2;// inches\n",
"w1 = 0.25*%pi*D1^2 *rho/144 ;// lb-wt\n",
"w2 = 0.25*%pi*(D2+d)*(D2-d)*rho/144 ;// lb-wt\n",
"w = w1-w2;// lb-wt\n",
"n = (w/w1)*100;\n",
"printf('The saving in weight per foot run is w = %d lb-wt',w);\n",
"printf('\n Percentage saving is %.2f',n);\n",
"\n",
"//there is a minute error in the answer given in textbook."
   ]
   }
,
{
		   "cell_type": "markdown",
		   "metadata": {},
		   "source": [
			"## Example 12.7: Chapter_12_example_7.sce"
		   ]
		  },
  {
"cell_type": "code",
	   "execution_count": null,
	   "metadata": {
	    "collapsed": true
	   },
	   "outputs": [],
"source": [
"clear;\n",
"clc;\n",
"l1 = 3;// feet\n",
"d1 = 1;// feet\n",
"l2 = 9;// feet\n",
"M = 200;// lb-wt\n",
"l = 9;// inches\n",
"N = 12*10^6;// lb/in^2\n",
"k = l2/l1;\n",
"T1 = M/(1+k);// lb-feet\n",
"T2 = k*T1;// lb-feet\n",
"f_s = T2*12/(%pi/16);// lb/in^2\n",
"theta = f_s*l/(0.5*d1*N);// radians\n",
"printf('T1 = %d lb-feet\n T2 = %d lb-feet',T1,T2);\n",
"printf('\n f_s = %d lb/in^2',f_s);\n",
"printf('\n theta = %.5f radian\n       = %.4f degrees',theta,theta*180/%pi);\n",
"//there is a minute error in the answer given in twxtbook"
   ]
   }
,
{
		   "cell_type": "markdown",
		   "metadata": {},
		   "source": [
			"## Example 12.8: Chapter_12_example_8.sce"
		   ]
		  },
  {
"cell_type": "code",
	   "execution_count": null,
	   "metadata": {
	    "collapsed": true
	   },
	   "outputs": [],
"source": [
"clear;\n",
"clc;\n",
"D = 5;// inches\n",
"HP = 120;\n",
"RPM = 150;\n",
"b = 5;// inches\n",
"h = 1;//inch\n",
"n = 6;// no. of bolts\n",
"d = 3/4;// inches\n",
"T = HP*33000*12/(2*%pi*RPM);// lb-inches\n",
"f_s = T*16/(%pi*27);\n",
"f_k = T/(b*h*2*d);\n",
"f_b = T/(n*0.25*%pi*d^2 * b);// lb-inches\n",
"printf('f_s = %d lb/in^2\n f_k = %d lb/in^2\n f_b = %d lb/in^2',f_s,f_k,f_b);\n",
"//there are errors given in the answers given in the textbook"
   ]
   }
,
{
		   "cell_type": "markdown",
		   "metadata": {},
		   "source": [
			"## Example 12.9: Chapter_12_example_9.sce"
		   ]
		  },
  {
"cell_type": "code",
	   "execution_count": null,
	   "metadata": {
	    "collapsed": true
	   },
	   "outputs": [],
"source": [
"clear;\n",
"clc;\n",
"d = 4;//inches\n",
"T = 30;// ton-inches\n",
"M = 20;//ton-inches\n",
"m = 1/0.3;\n",
"f_s = 16*T/(%pi*d^3);// tons/in^2\n",
"f_b = 32*M/(%pi*d^3);// tons/in^2\n",
"theta = 0.5*atan(T/M);// radians\n",
"theta1 = theta*180/%pi;\n",
"theta2 = theta1+90;\n",
"f1 = 0.5*f_b + sqrt(f_s^2 + 0.25*f_b^2);// tons/in^2\n",
"f2 = 0.5*f_b - sqrt(f_s^2 + 0.25*f_b^2);// tons/in^2\n",
"Ee = f1 - (f2/m);// tons/in^2\n",
"f = sqrt(f1^2 + f2^2 - 2*f1*f2/m);// tons/in^2\n",
"printf('Maximum strain is Ee = %.3f tons/in^2',Ee);\n",
"printf('\n Maximum strain energy is f = %.3f tons/in^2',f);"
   ]
   }
],
"metadata": {
		  "kernelspec": {
		   "display_name": "Scilab",
		   "language": "scilab",
		   "name": "scilab"
		  },
		  "language_info": {
		   "file_extension": ".sce",
		   "help_links": [
			{
			 "text": "MetaKernel Magics",
			 "url": "https://github.com/calysto/metakernel/blob/master/metakernel/magics/README.md"
			}
		   ],
		   "mimetype": "text/x-octave",
		   "name": "scilab",
		   "version": "0.7.1"
		  }
		 },
		 "nbformat": 4,
		 "nbformat_minor": 0
}
