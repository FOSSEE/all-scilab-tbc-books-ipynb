{
"cells": [
 {
		   "cell_type": "markdown",
	   "metadata": {},
	   "source": [
       "# Chapter 9: Columns and struts of uniform section"
	   ]
	},
{
		   "cell_type": "markdown",
		   "metadata": {},
		   "source": [
			"## Example 9.10: Chapter_9_example_10.sce"
		   ]
		  },
  {
"cell_type": "code",
	   "execution_count": null,
	   "metadata": {
	    "collapsed": true
	   },
	   "outputs": [],
"source": [
"clear;\n",
"clc;\n",
"e = 7/4;// inches\n",
"E = 13000;// tons/in^2\n",
"p = 5;// tons/in^2\n",
"y_c = 6;// inches\n",
"l = 20;// feet\n",
"A = 38.38;// in^2\n",
"k = sqrt(11.78);// inches\n",
"I = 11.78;// in^4\n",
"p_e = (%pi)^2 *E*k^2 /(l*12)^2;// tons/in^2\n",
"//from Perry's formula\n",
"p_0 = 0.5*((p_e*1.2*e*y_c/k^2)+p_e+p)-sqrt((0.5*((p_e*1.2*e*y_c/k^2)+p_e+p))^2 - p_e*p);// tons/in^2\n",
"P = p_0*A;// tons\n",
"printf('The safe load, P = %.2f tons',P);\n",
"\n",
"//there is a minute calculation error in the answer given in text book"
   ]
   }
,
{
		   "cell_type": "markdown",
		   "metadata": {},
		   "source": [
			"## Example 9.11: Chapter_9_example_11.sce"
		   ]
		  },
  {
"cell_type": "code",
	   "execution_count": null,
	   "metadata": {
	    "collapsed": true
	   },
	   "outputs": [],
"source": [
"clear;\n",
"clc;\n",
"b1 = 10;// inches\n",
"d1 = 6;// inches\n",
"b2 = 12;// inches\n",
"d2 = 1/2;// inches\n",
"l = 16;// feet\n",
"A_s = 11.77;// in^2\n",
"I_xxs = 204.80;// in^4\n",
"I_yys = 21.76;// in^4\n",
"A = A_s + 2*b2*d2;// in^2\n",
"I_yy = I_yys + 2*(1/12)*d2*b2^3;// in^4\n",
"k = sqrt(I_yy/A);// inches\n",
"//from the Perry-Robertson formula\n",
"n = 0.003*l*12/k;\n",
"p_e = 13000*%pi^2/((l*12)/k)^2 ;// tons/in^2\n",
"f = 18;// tons/in^2\n",
"x = 0.5*(f+p_e*(1+n));\n",
"p_0 = x - sqrt(x^2 - f*p_e);// tons/in^2\n",
"P = p_0*A;// tons\n",
"P_safe = P/2.36;// tons\n",
"printf('The safe load, P = %.1f tons',P_safe);\n",
"\n",
"//there is a minute calculation error in the answer given in text book"
   ]
   }
,
{
		   "cell_type": "markdown",
		   "metadata": {},
		   "source": [
			"## Example 9.1: Chapter_9_example_1.sce"
		   ]
		  },
  {
"cell_type": "code",
	   "execution_count": null,
	   "metadata": {
	    "collapsed": true
	   },
	   "outputs": [],
"source": [
"clear;\n",
"clc;\n",
"// n =l/k\n",
"n1 = 40;\n",
"n2 = 60;\n",
"n3 = 80;\n",
"n4 = 100;\n",
"n5 = 120;\n",
"n6 = 140;\n",
"n7 = 160;\n",
"n8 = 180;\n",
"n9 = 200;\n",
"E = 13000;// tons/in^2\n",
"//m = P/A\n",
"m1 = 4*%pi^2 *E/n1^2;// tons per sq. inch\n",
"m2 = 4*%pi^2 *E/n2^2;// tons per sq. inch\n",
"m3 = 4*%pi^2 *E/n3^2;// tons per sq. inch\n",
"m4 = 4*%pi^2 *E/n4^2;// tons per sq. inch\n",
"m5 = 4*%pi^2 *E/n5^2;// tons per sq. inch\n",
"m6 = 4*%pi^2 *E/n6^2;// tons per sq. inch\n",
"m7 = 4*%pi^2 *E/n7^2;// tons per sq. inch\n",
"m8 = 4*%pi^2 *E/n8^2;// tons per sq. inch\n",
"m9 = 4*%pi^2 *E/n9^2;// tons per sq. inch\n",
"printf('l/k : %d    %d    %d    %d    %d    %d    %d    %d    %d\n P/A: %d   %.1f  %.1f  %.2f  %.2f  %.1f  %.2f  %.2f  %.2f',n1,n2,n3,n4,n5,n6,n7,n8,n9,m1,m2,m3,m4,m5,m6,m7,m8,m9);\n",
"//there is a minute error in the answer given in text book"
   ]
   }
,
{
		   "cell_type": "markdown",
		   "metadata": {},
		   "source": [
			"## Example 9.2: Chapter_9_example_2.sce"
		   ]
		  },
  {
"cell_type": "code",
	   "execution_count": null,
	   "metadata": {
	    "collapsed": true
	   },
	   "outputs": [],
"source": [
"clear;\n",
"clc;\n",
"d = 1;// inches\n",
"t = 1/8;// inches\n",
"l = 10;// feet\n",
"E = 13500;// tons/in^2\n",
"D = d+2*t;// inches\n",
"I = (%pi/64)*(D^4 - d^4);// in^4\n",
"P = 20.25*E*I/(12*l)^2 ;// tons\n",
"printf('The collapsing load, P = %.2f tons',P);"
   ]
   }
,
{
		   "cell_type": "markdown",
		   "metadata": {},
		   "source": [
			"## Example 9.3: Chapter_9_example_3.sce"
		   ]
		  },
  {
"cell_type": "code",
	   "execution_count": null,
	   "metadata": {
	    "collapsed": true
	   },
	   "outputs": [],
"source": [
"clear;\n",
"clc;\n",
"b = 10;// inches\n",
"d = 6;//inches\n",
"l = 15;// feet\n",
"A = 11.77;// in^2\n",
"I_xx = 204.80;// in^4\n",
"I_yy = 21.76;// in^4\n",
"f_c = 21;// tons/in^2\n",
"a = 1/7500;\n",
"n = 3;//factor of safety\n",
"k = sqrt(I_yy/A);// radius of gyration\n",
"P = f_c*A/(1+(a/2)*(l*12/k)^2);// tons\n",
"P_s = P/n;// safe load\n",
"printf('The safe axial load = %.3f tons',P_s);\n",
"\n",
"//there is a minute calculation error in the answer given in text book"
   ]
   }
,
{
		   "cell_type": "markdown",
		   "metadata": {},
		   "source": [
			"## Example 9.4: Chapter_9_example_4.sce"
		   ]
		  },
  {
"cell_type": "code",
	   "execution_count": null,
	   "metadata": {
	    "collapsed": true
	   },
	   "outputs": [],
"source": [
"clear;\n",
"clc;\n",
"l = 16;// feet\n",
"F = 30;// tons\n",
"n = 8;// factor of safety\n",
"k = 0.8;//k = d/D\n",
"f_c = 36;// tons/in^2\n",
"a = 1/1600;\n",
"r = 0.25*%pi*(1-k^2);//r = A/D^2\n",
"P = n*F;// tons\n",
"D1 = sqrt(P/(f_c*r*2) +sqrt((P/(f_c*r))*((a/4)*(l*12)^2)/((1+k^2)/16) + (P/(f_c*r*2))^2));// inches\n",
"D = round(D1);// inches\n",
"d = k*D;// inches\n",
"t = (D-d)/2;// inches\n",
"printf('The internal diameter d = %.1f inches',d);\n",
"printf('\n The thickness of the metal will be %.2f inches',t);\n",
"// the answer is correct only, but it is approximated in the text book"
   ]
   }
,
{
		   "cell_type": "markdown",
		   "metadata": {},
		   "source": [
			"## Example 9.5: Chapter_9_example_5.sce"
		   ]
		  },
  {
"cell_type": "code",
	   "execution_count": null,
	   "metadata": {
	    "collapsed": true
	   },
	   "outputs": [],
"source": [
"clear;\n",
"clc;\n",
"l = 5;// feet\n",
"b = 5/2;// inches\n",
"d = 5/2;// inches\n",
"h = 1/4;// inches\n",
"n = 3;// factor of safety\n",
"A = 1.19;// in^2\n",
"k = 0.49;// minimum radius of gyration\n",
"f_c = 21;// lb/in^2\n",
"a = 1/7500;\n",
"P = f_c*A/(1+(a/2)*((l*12)^2)/k^2);// tons\n",
"P_safe = P/n;// tons\n",
"printf('The safe axial load = %.2f tons',P_safe);"
   ]
   }
,
{
		   "cell_type": "markdown",
		   "metadata": {},
		   "source": [
			"## Example 9.6: Chapter_9_example_6.sce"
		   ]
		  },
  {
"cell_type": "code",
	   "execution_count": null,
	   "metadata": {
	    "collapsed": true
	   },
	   "outputs": [],
"source": [
"clear;\n",
"clc;\n",
"b1 = 10;// inches\n",
"d1 = 7/2;// inches\n",
"r = 9/2;// inches\n",
"b2 = 12;// inches\n",
"d2 = 1/2;// inches\n",
"l = 20;// feet\n",
"n = 4;// factor of safety\n",
"A_s = 7.19;// in^2\n",
"I_xx1 = 109.42;// in^4\n",
"I_yy1 = 7.42;// in^4\n",
"d = 0.97;// inches\n",
"f_c = 21;// lb/in^2\n",
"a = 1/7500;\n",
"A = 2*A_s + 4*b2*d2;// in^2\n",
"I_xx = 2*I_xx1 + 2*((1/12)*b2*(2*d2)^3 + b2*(r+2*d2)^2);// in^4\n",
"I_yy = 2*(1/12)*(2*d2)*b2^3 + 2*(I_yy1 + A_s*(0.5*r+d)^2);// in^4\n",
"k = sqrt(min(I_xx,I_yy)/A);// minimum radius of gyration\n",
"P = f_c*A/(1+ a*((l*12)^2/k^2));// tons\n",
"P_safe = P/n;// tons\n",
"printf('The safe axial load = %d tons',round(P_safe));"
   ]
   }
,
{
		   "cell_type": "markdown",
		   "metadata": {},
		   "source": [
			"## Example 9.7: Chapter_9_example_7.sce"
		   ]
		  },
  {
"cell_type": "code",
	   "execution_count": null,
	   "metadata": {
	    "collapsed": true
	   },
	   "outputs": [],
"source": [
"clear;\n",
"clc;\n",
"m = 4;// no. of angles\n",
"b = 7/2;// inches\n",
"d = 7/2;// inches\n",
"h = 3/8;// inches\n",
"s = 18;// inches\n",
"l = 30;// feet\n",
"n = 3;// factor of safety\n",
"A = 2.49;// in^2\n",
"J = 1;// inches\n",
"I_xxs = 2.80;// in^4\n",
"I_yys = I_xxs;// in^4\n",
"//from the chapter V. \n",
"I = 648.64;// in^4\n",
"k = sqrt(65.2);// in^2\n",
"f_c = 21;// lb/in^2\n",
"a = 1/7500;\n",
"P = m*f_c*A/(1+a*((l*12)^2)/k^2);// tons\n",
"P_safe = P/n;// tons\n",
"printf('The safe axial load = %.1f tons',P_safe);"
   ]
   }
,
{
		   "cell_type": "markdown",
		   "metadata": {},
		   "source": [
			"## Example 9.8: Chapter_9_example_8.sce"
		   ]
		  },
  {
"cell_type": "code",
	   "execution_count": null,
	   "metadata": {
	    "collapsed": true
	   },
	   "outputs": [],
"source": [
"clear;\n",
"clc;\n",
"D = 7;// inches\n",
"t = 3/4;// inches\n",
"l = 16;// feet\n",
"P = 12;// tons\n",
"e = 3/4;// inches\n",
"E = 6000;// tons/in^2\n",
"d = D-2*t;// inches\n",
"A = 0.25*%pi*(D^2 - d^2);// in^2\n",
"I = (%pi/64)*(D^4 - d^4);// in^4\n",
"p_0 = P/A;// tons/in^2\n",
"Z = 2*I/D;// in^3\n",
"M = P*e*sec(0.25*l*12*sqrt(P/(E*I)));// ton-inches\n",
"p_b = M/Z;// tons/in^2\n",
"p_max = p_0+p_b;// tons/in^2\n",
"p_min = p_0-p_b;// tons/in^2\n",
"//if tension is just on the point being induced in the section, p_b = p_0\n",
"e = p_0*t*Z/M;// inches\n",
"printf('Stress intensities, p_max = %.3f tons/in^2.,compressive\n    p_min = %.3f tons/in^2., compressive',p_max,p_min);\n",
"printf('\n Maximum possible eccentricity, e = %.2f inches',e);"
   ]
   }
,
{
		   "cell_type": "markdown",
		   "metadata": {},
		   "source": [
			"## Example 9.9: Chapter_9_example_9.sce"
		   ]
		  },
  {
"cell_type": "code",
	   "execution_count": null,
	   "metadata": {
	    "collapsed": true
	   },
	   "outputs": [],
"source": [
"clear;\n",
"clc;\n",
"P = 80;// tons\n",
"p_max = 5;// tons/in^2\n",
"E = 13000;// tons/in^2\n",
"A = 38.38;// in^2\n",
"I_yy = 451.94;// in^4\n",
"y_c = 6;// inches\n",
"l = 20;// inches\n",
"k = sqrt(I_yy/A);// inches\n",
"Z_yy = I_yy/y_c;// in^3\n",
"p_0 = P/A;// tons/in^2\n",
"p_b = p_max-p_0;// tons/in^2\n",
"M_max = p_b*Z_yy;// ton-inches\n",
"e = M_max/(P*sec(0.5*l*12*sqrt(P/(E*I_yy))));//inches\n",
"printf('The maximum possible eccentricity, e = %.2f inches',e);"
   ]
   }
],
"metadata": {
		  "kernelspec": {
		   "display_name": "Scilab",
		   "language": "scilab",
		   "name": "scilab"
		  },
		  "language_info": {
		   "file_extension": ".sce",
		   "help_links": [
			{
			 "text": "MetaKernel Magics",
			 "url": "https://github.com/calysto/metakernel/blob/master/metakernel/magics/README.md"
			}
		   ],
		   "mimetype": "text/x-octave",
		   "name": "scilab",
		   "version": "0.7.1"
		  }
		 },
		 "nbformat": 4,
		 "nbformat_minor": 0
}
