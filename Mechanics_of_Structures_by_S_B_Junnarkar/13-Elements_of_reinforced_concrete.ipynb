{
"cells": [
 {
		   "cell_type": "markdown",
	   "metadata": {},
	   "source": [
       "# Chapter 13: Elements of reinforced concrete"
	   ]
	},
{
		   "cell_type": "markdown",
		   "metadata": {},
		   "source": [
			"## Example 13.1: Chapter_13_example_1.sce"
		   ]
		  },
  {
"cell_type": "code",
	   "execution_count": null,
	   "metadata": {
	    "collapsed": true
	   },
	   "outputs": [],
"source": [
"clear;\n",
"clc;\n",
"b = 10;//inches\n",
"d = 1;//inches\n",
"h = 20;//inches\n",
"r = 2;//inches\n",
"M_r = 500000;//lb-inches\n",
"m = 15;\n",
"A_r = 4*0.25*%pi*d^2;//in^2\n",
"h_eff = h-r;//inches\n",
"K = m*A_r/(b*h_eff);//inches\n",
"n1 = sqrt((K)^2+(2*K))-K;\n",
"n = n1*h_eff;//inches\n",
"a = h_eff-(n/3);//inches\n",
"c = 2*M_r/(b*n*a);//lb/in^2\n",
"t = (h_eff-n)*m*c/n;//lb/in^2\n",
"printf('The stress induced in the concrete and steel, t = %d lb/in^2',t);\n",
"//there is a minute error in the answer given in textbook."
   ]
   }
,
{
		   "cell_type": "markdown",
		   "metadata": {},
		   "source": [
			"## Example 13.2: Chapter_13_example_2.sce"
		   ]
		  },
  {
"cell_type": "code",
	   "execution_count": null,
	   "metadata": {
	    "collapsed": true
	   },
	   "outputs": [],
"source": [
"clear;\n",
"clc;\n",
"b = 8;//inches\n",
"d = 7/8;//inches\n",
"h = 18;//inches\n",
"r = 2;//inches\n",
"c = 750;//lb/in^2\n",
"t_limit = 18000;//lb/in^2\n",
"m = 8;\n",
"h_eff = 16;//inches\n",
"m = 18;\n",
"A_t = 3*0.25*%pi*d^2;//in^2\n",
"K = m*A_t/(b*h_eff);//inches\n",
"n1 = sqrt((K)^2+(2*K))-K;\n",
"n = n1*h_eff;//inches\n",
"a = h_eff - (n/3);//inches\n",
"t = m*c*(h_eff-n)/n;//lb/in^2\n",
"\n",
"if t<t_limit then\n",
"    t = t;\n",
"else\n",
"    t = t_limit;\n",
"end\n",
"\n",
"M_r = t*A_t*a;// lb/inches\n",
"W = M_r*8/(12*h_eff);//lb-wt\n",
"printf('The distance of the N.A from the top edge, n = %.3f inches.',n);\n",
"printf('\n The safe moment of inertia is, t = %d lb/in^2.',t);\n",
"printf('\n Unifromly distributed load over the beam, W = %d lb-wt. or %d lb. per foot run',W,W/16.011);\n",
"\n",
"//there are calculation errors given in the answer in textbook."
   ]
   }
,
{
		   "cell_type": "markdown",
		   "metadata": {},
		   "source": [
			"## Example 13.3: Chapter_13_example_3.sce"
		   ]
		  },
  {
"cell_type": "code",
	   "execution_count": null,
	   "metadata": {
	    "collapsed": true
	   },
	   "outputs": [],
"source": [
"clear;\n",
"clc;\n",
"function Z = quadratic(d,M_c,c_limit,b)\n",
"    n = poly(0,'n');\n",
"    p = n^2-(d*3)*n + M_c*3/(0.5*c_limit*b);\n",
"    Z = roots(p);\n",
"endfunction\n",
"b = 12;//inches\n",
"h = 22;//inches\n",
"r = 2;//inches\n",
"W = 1500;//lb per foot run\n",
"d = h-r;//feet\n",
"l = 20;//inches\n",
"c_limit = 700;// lb/in^2\n",
"m = 15;\n",
"M_c = W*20*l*b/8;// lb-inches\n",
"Z = quadratic(d,M_c,c_limit,b);\n",
"n = round(Z(2));\n",
"t = m*c_limit*(d-n)/n;// lb/in62\n",
"A_t = 0.5*c_limit*b*n/t;// in^2\n",
"printf('Area of steel reinforcement required is, A_t = %d in^2',A_t);\n",
"printf('\n Corresponding stress in steel is, t = %d lb/in^2',t);"
   ]
   }
,
{
		   "cell_type": "markdown",
		   "metadata": {},
		   "source": [
			"## Example 13.4: Chapter_13_example_4.sce"
		   ]
		  },
  {
"cell_type": "code",
	   "execution_count": null,
	   "metadata": {
	    "collapsed": true
	   },
	   "outputs": [],
"source": [
"clear;\n",
"clc;\n",
"m = 15;\n",
"t = 18000;// lb/in^2\n",
"c = 700;// lb/in^2\n",
"b = 12;;// inches\n",
"M = 900000;//bending moment lb/inches\n",
"k1 = 1/((t/(m*c))+1);//k = n/d\n",
"k2 = 1-k1/3;//k2 = a/d\n",
"p = 0.5*c*k1/(t);\n",
"d = sqrt(M/(0.5*c*b*k1*k2));//inches\n",
"A_t = p*b*d;// sq.inches\n",
"A_t_previous = 0.25*%pi*(7/8)^2;//section area with diameter 7/8 inches\n",
"n = A_t/A_t_previous;\n",
"printf('Effective deapth is d = %.2f inches',d);\n",
"printf('\n A_t = %.3f sq.inches',A_t);"
   ]
   }
,
{
		   "cell_type": "markdown",
		   "metadata": {},
		   "source": [
			"## Example 13.5: Chapter_13_example_5.sce"
		   ]
		  },
  {
"cell_type": "code",
	   "execution_count": null,
	   "metadata": {
	    "collapsed": true
	   },
	   "outputs": [],
"source": [
"clear;\n",
"clc;\n",
"l = 20;//feet\n",
"W = 500;// lb per foot run\n",
"c = 750;// lb/in^2\n",
"t = 18000;// lb/in^2\n",
"m = 15;\n",
"BM_max = W*l*l*12/8 ;// lb-inches\n",
"//by making the effective deapth d twice the width b\n",
"d = (BM_max/(126*0.5))^(1/3);//inches\n",
"b = 0.5*d;//inches\n",
"//necessary reinforcement is 0.8% of concrete section\n",
"A_t = 0.008*b*d;// in^2\n",
"printf('d = %.2f inches\n b = %.2f inches',d,b);\n",
"printf('\n A_t = %.3f in^2',A_t);\n",
""
   ]
   }
,
{
		   "cell_type": "markdown",
		   "metadata": {},
		   "source": [
			"## Example 13.6: Chapter_13_example_6.sce"
		   ]
		  },
  {
"cell_type": "code",
	   "execution_count": null,
	   "metadata": {
	    "collapsed": true
	   },
	   "outputs": [],
"source": [
"clear;\n",
"clc;\n",
"W = 180;// lb per sq.foot\n",
"l = 10;// feet\n",
"b = 12;//inches\n",
"c = 750;// lb/in^2\n",
"m = 15;\n",
"M = W*l*l*12/8;//lb-inches\n",
"d_new = sqrt(M/(126*b));//inches\n",
"A_t = 0.8*b*d_new/100;//in^2\n",
"//using 3/8 inch rods \n",
"d1 = 3/8;//inches\n",
"A1 = 0.25*%pi*(d1)^2;//in^2 \n",
"r1 = A1*b/A_t;//inch\n",
"//using 1/2 inch rods \n",
"d2 = 1/2;//inches\n",
"A2 = 0.25*%pi*(d2)^2;//in^2 \n",
"r2 = A2*b/A_t;//inches\n",
"printf('d = %.3f inches',d_new);\n",
"printf('\n A_t = %.3f in^2',A_t);\n",
"printf('\n Using %.3f inch rods, spacing centre to centre will be %.2f inches',d1,r1);\n",
"printf('\n Using %.2f inch rods, spacing centre to centre will be %.1f inches',d2,r2);\n",
"//there are round-off errors in the answer given in textbook"
   ]
   }
,
{
		   "cell_type": "markdown",
		   "metadata": {},
		   "source": [
			"## Example 13.7: Chapter_13_example_7.sce"
		   ]
		  },
  {
"cell_type": "code",
	   "execution_count": null,
	   "metadata": {
	    "collapsed": true
	   },
	   "outputs": [],
"source": [
"clear;\n",
"clc;\n",
"l = 12;//feet\n",
"w = 150;// lb per sq.foot\n",
"//Live load\n",
"LL = w*l;//lb-wt\n",
"//Dead Load assuming the slab thickness to be 6 inches\n",
"t = 6;//inches\n",
"DL = t*l*12;//lb-wt\n",
"//total load\n",
"W = LL+DL;//lb-wt\n",
"M = W*l*12/10;//lb-inches\n",
"d = sqrt(M/(12*126));\n",
"printf('d = %.3f inches',d);\n",
"//With about an  inch to cover the slab will be 6 inch thick\n",
"A_t = 0.8*l*d/100;// in^2\n",
"//using 1/2 inch rods \n",
"d1 = 1/2;//inches\n",
"A1 = 0.25*%pi*(d1)^2;//in^2 \n",
"r1 = A1*l/A_t;//inches\n",
"printf('\n Per foot width of slab, A_t = %.4f in^2',A_t);\n",
"printf('\n Using %.2f inch rods, spacing centre to centre will be %.3f inches',d1,r1);\n",
"//there are minute calculation errors in the answer given in textbook."
   ]
   }
],
"metadata": {
		  "kernelspec": {
		   "display_name": "Scilab",
		   "language": "scilab",
		   "name": "scilab"
		  },
		  "language_info": {
		   "file_extension": ".sce",
		   "help_links": [
			{
			 "text": "MetaKernel Magics",
			 "url": "https://github.com/calysto/metakernel/blob/master/metakernel/magics/README.md"
			}
		   ],
		   "mimetype": "text/x-octave",
		   "name": "scilab",
		   "version": "0.7.1"
		  }
		 },
		 "nbformat": 4,
		 "nbformat_minor": 0
}
