{
"cells": [
 {
		   "cell_type": "markdown",
	   "metadata": {},
	   "source": [
       "# Chapter 3: Impact or shock loading "
	   ]
	},
{
		   "cell_type": "markdown",
		   "metadata": {},
		   "source": [
			"## Example 3.1: Chapter_3_example_1.sce"
		   ]
		  },
  {
"cell_type": "code",
	   "execution_count": null,
	   "metadata": {
	    "collapsed": true
	   },
	   "outputs": [],
"source": [
"clear;\n",
"clc;\n",
"d = 3/2;//inches\n",
"l = 10;;//feet\n",
"P = 8;//tons\n",
"E = 13500;//tons/in^2\n",
"A = 0.25*%pi*d^2;//in^2\n",
"p = 2*P/A;// tons/in^2\n",
"e = p/E;\n",
"del_l = e*l*12;//inches\n",
"W = P*del_l;//inch-ton\n",
"printf('The maximum instantaneous stress produced is, p = %.2f tons/in^2',p);\n",
"printf('\n The corresponding strain is e = %.6f \n  del_l = %.2f inches',e,del_l);\n",
"printf('\n The work done on the rod and stored by it is %.2f inch-ton.',W);\n",
"\n",
"//there is an error in the answer given in text book"
   ]
   }
,
{
		   "cell_type": "markdown",
		   "metadata": {},
		   "source": [
			"## Example 3.2: Chapter_3_example_2.sce"
		   ]
		  },
  {
"cell_type": "code",
	   "execution_count": null,
	   "metadata": {
	    "collapsed": true
	   },
	   "outputs": [],
"source": [
"clear;\n",
"clc;\n",
"l = 6;//feet\n",
"d = 1;//inches\n",
"h = 4;//inches\n",
"E = 30*10^6;//lb/in^2\n",
"A = 0.25*%pi*d^2;//in^2\n",
"P = 50;//lb\n",
"p = (P/A)+sqrt((P^2/A^2)+(2*E*P*h)/(A*l*12));\n",
"e = p/E;\n",
"del_l = e*l*12//inches\n",
"printf('Maximum instantaneous stress produced is p = %d lb/in^2',p);\n",
"printf('\n Maximum instantaneous extension produced is del_l = %.3f lb/in^2',del_l);\n",
"\n",
"//there is an error in the answer given in text book"
   ]
   }
,
{
		   "cell_type": "markdown",
		   "metadata": {},
		   "source": [
			"## Example 3.3: Chapter_3_example_3.sce"
		   ]
		  },
  {
"cell_type": "code",
	   "execution_count": null,
	   "metadata": {
	    "collapsed": true
	   },
	   "outputs": [],
"source": [
"clear;\n",
"clc;\n",
"l = 10;//feet\n",
"d = 5/4;//inches\n",
"p = 8;//tons/in^2\n",
"E = 13000;//tons/in^2\n",
"A = 0.25*%pi*d^2;//in^2\n",
"e = p/E;\n",
"del_l = e*l*12;//inches\n",
"W = 0.5*p^2*A*l*12/E;// inch-ton\n",
"h = W*10-del_l;//inches\n",
"printf('Instantaneous elongation is del_l = %.3f inches',del_l);\n",
"printf('\n Height of the drop is h = %.2f inches',h);"
   ]
   }
,
{
		   "cell_type": "markdown",
		   "metadata": {},
		   "source": [
			"## Example 3.4: Chapter_3_example_4.sce"
		   ]
		  },
  {
"cell_type": "code",
	   "execution_count": null,
	   "metadata": {
	    "collapsed": true
	   },
	   "outputs": [],
"source": [
"clear;\n",
"clc;\n",
"w = 4;//tons\n",
"v = 2;//miles per hour\n",
"l = 150;//feet\n",
"d = 3/2;//inches\n",
"E = 13000;// tons/in^2\n",
"g = 32;// ft/sec^2\n",
"A = 0.25*%pi*d^2;// in^2\n",
"KE = w*(v*17.6)^2/(2*g*12);// inch-tons\n",
"p = sqrt(KE*(2*E)/(A*l*12));// tons/in^2\n",
"del_l = p*l*12/E;// inches\n",
"printf('Maximum instantaneous stress produced is p = %.2f tons/in^2',p);\n",
"printf('\n Maximum instantaneous extension produced is del_l = %d inch',del_l);"
   ]
   }
,
{
		   "cell_type": "markdown",
		   "metadata": {},
		   "source": [
			"## Example 3.5: Chapter_3_example_5.sce"
		   ]
		  },
  {
"cell_type": "code",
	   "execution_count": null,
	   "metadata": {
	    "collapsed": true
	   },
	   "outputs": [],
"source": [
"clear;\n",
"clc;\n",
"d = 2;//inches\n",
"l = 8;//feet\n",
"U = 50;// ft-lbs\n",
"E = 28*10^6;// lb/in^2\n",
"V = 0.25*%pi*d^2*l*12;// in^3\n",
"p = sqrt(2*U*12*E/V);// lb/in^2\n",
"e = p/E;\n",
"del_l = e*l*12;// inches\n",
"printf('Maximum instantaneous stress produced is p = %d lb/in^2',p);\n",
"printf('\n Maximum instantaneous extension produced is del_l = %.4f inches',del_l);\n",
"//there is an error in the answer given in text book"
   ]
   }
,
{
		   "cell_type": "markdown",
		   "metadata": {},
		   "source": [
			"## Example 3.6: Chapter_3_example_6.sce"
		   ]
		  },
  {
"cell_type": "code",
	   "execution_count": null,
	   "metadata": {
	    "collapsed": true
	   },
	   "outputs": [],
"source": [
"clear;\n",
"clc;\n",
"l = 12;//feet\n",
"d1_A = 1;//inch\n",
"d2_A = 2;//inches\n",
"l1_A = 4;//inches\n",
"l2_A = 8;//inches\n",
"d1_B = 1;//inch\n",
"d2_B = 2;//inches\n",
"l1_B = 8;//inches\n",
"l2_B = 4;//inches\n",
"p_A = 15/2;// tons/in^2\n",
"p_B = sqrt((2/3)*p_A^2);// tons/in^2\n",
"r1 = (9*%pi/8)/(3*%pi/4);//ratio of energies if both bars are allowed to reach the proof stress\n",
"V_A  = 0.25*%pi*d1_A^2*l1_A+ 0.25*%pi*d2_A^2*l2_A;// in^3\n",
"V_B  = 0.25*%pi*d1_B^2*l1_B+ 0.25*%pi*d2_B^2*l2_B;// in^3\n",
"r2 = ((3/16)*p_B^2)/((1/12)*p_B^2);//ratio of enrgies\n",
"printf('Maximum instantaneous stress produced is p_B = %.2f tons/in^2',p_B);\n",
"printf('\n Ratio of energies stored if both bars are allowed to reach the proof stress is r1 = %.2f ',r1);\n",
"printf('\n Ratio of energies stored at the same stress per unit volume, is r2 = %.2f ',r2);"
   ]
   }
],
"metadata": {
		  "kernelspec": {
		   "display_name": "Scilab",
		   "language": "scilab",
		   "name": "scilab"
		  },
		  "language_info": {
		   "file_extension": ".sce",
		   "help_links": [
			{
			 "text": "MetaKernel Magics",
			 "url": "https://github.com/calysto/metakernel/blob/master/metakernel/magics/README.md"
			}
		   ],
		   "mimetype": "text/x-octave",
		   "name": "scilab",
		   "version": "0.7.1"
		  }
		 },
		 "nbformat": 4,
		 "nbformat_minor": 0
}
