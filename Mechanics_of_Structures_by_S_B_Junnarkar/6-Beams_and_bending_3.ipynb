{
"cells": [
 {
		   "cell_type": "markdown",
	   "metadata": {},
	   "source": [
       "# Chapter 6: Beams and bending 3"
	   ]
	},
{
		   "cell_type": "markdown",
		   "metadata": {},
		   "source": [
			"## Example 6.10: Chapter_6_example_10.sce"
		   ]
		  },
  {
"cell_type": "code",
	   "execution_count": null,
	   "metadata": {
	    "collapsed": true
	   },
	   "outputs": [],
"source": [
"clear;\n",
"clc;\n",
"b = 18;// inches\n",
"d = 6;// inches\n",
"l = 16;// feet\n",
"W = 2;// tons\n",
"h = 1/2;// inches\n",
"I_xx = 841.76;// in^4\n",
"E = 13000;// tons/in^2\n",
"P = W + sqrt(2*W*h*48*E*I_xx/(l*12)^3 + 2*W);// tons\n",
"M_max = P*l*12/4;// ton-inches\n",
"Z = 2*I_xx/b ;// in^3\n",
"f = M_max/Z ;// tons/in^2\n",
"delta = P*(l*12)^3 /(48*E*I_xx);// inches\n",
"printf('The maximum instantaneous deflection delta = %.4f inches\n  and stress induced, f = %.3f tons/in^2',delta,f);\n",
"//there is an error in the answer given in text book"
   ]
   }
,
{
		   "cell_type": "markdown",
		   "metadata": {},
		   "source": [
			"## Example 6.11: Chapter_6_example_11.sce"
		   ]
		  },
  {
"cell_type": "code",
	   "execution_count": null,
	   "metadata": {
	    "collapsed": true
	   },
	   "outputs": [],
"source": [
"clear;\n",
"clc;\n",
"l = 3;// feet\n",
"b = 3;// inches\n",
"t = 3/8;// inches\n",
"W = 1500;// lb.\n",
"f = 12;// tons/in^2\n",
"E = 30*10^6;// tons/in^2\n",
"M_max = W*l*12/4 ;// lb-inches\n",
"M_r = f*(1/6)*b*t^2 *2240;// lb-inches\n",
"n = M_max/M_r ;// no. of plates\n",
"n = round(n+1);\n",
"f = M_max/(n*(1/6)*b*t^2);// lb/in^2\n",
"R = E/(2*f/t) ;// inches\n",
"delta = (l*12)^2 /(8*R);// inches\n",
"printf('Number of plates required, n = %d',n);\n",
"printf('\n The central deflection, delta = %.4f inch.',delta);\n",
"printf('\n The initial radius to which the plates must be bent, R = %.3f inches',R);"
   ]
   }
,
{
		   "cell_type": "markdown",
		   "metadata": {},
		   "source": [
			"## Example 6.1: Chapter_6_example_1.sce"
		   ]
		  },
  {
"cell_type": "code",
	   "execution_count": null,
	   "metadata": {
	    "collapsed": true
	   },
	   "outputs": [],
"source": [
"clear;\n",
"clc;\n",
"l = 5;// feet\n",
"W = 150;// lb\n",
"w = 120;// lb. per foot run\n",
"l1 = 3;// feet\n",
"b = 3;// inches\n",
"d = 6;// inches\n",
"E = 1.5*10^6;// lb/in^2\n",
"I = (1/12)*b*d^3;// in^4\n",
"y_B1 = (W*l^3)/(3*E*I);// feet\n",
"y_B2 = (w*l1*l1^3)/(8*E*I) + (l-l1)*(w*l1*l1^2)/(6*E*I);// feet\n",
"y_B = (12^3)*(y_B1+y_B2);// inches\n",
"printf('The deflection at the free end = %.4f inches',y_B);"
   ]
   }
,
{
		   "cell_type": "markdown",
		   "metadata": {},
		   "source": [
			"## Example 6.3: Chapter_6_example_3.sce"
		   ]
		  },
  {
"cell_type": "code",
	   "execution_count": null,
	   "metadata": {
	    "collapsed": true
	   },
	   "outputs": [],
"source": [
"clear;\n",
"clc;\n",
"b = 4;// inches\n",
"d = 9;// inches\n",
"l = 12;// feet\n",
"y_c = 1/4;// inches\n",
"E = 1.5*10^6;// lb/in^2\n",
"I = (1/12)*b*d^3;// in^4\n",
"W = y_c*384*E*I/(5*12^3*l^3);// inches\n",
"printf('Uniform distributed load, the beam should carry is, W = %d lb-wt',W);\n",
"\n",
"//there is an error in the answer given in text book"
   ]
   }
,
{
		   "cell_type": "markdown",
		   "metadata": {},
		   "source": [
			"## Example 6.4: Chapter_6_example_4.sce"
		   ]
		  },
  {
"cell_type": "code",
	   "execution_count": null,
	   "metadata": {
	    "collapsed": true
	   },
	   "outputs": [],
"source": [
"clear;\n",
"clc;\n",
"d = 6;// feet\n",
"l = 60;// feet\n",
"f = 15/2;// tons/in^2\n",
"E = 13000;// tons/in^2\n",
"k1 = 2*f/(12*d);// k1 = M_r/I \n",
"k2 = k1/(l*12/8);//k2 = W/I\n",
"y_c = (5/384)*k2*l^3 *12^3 /E;// inches\n",
"//If the giredr is of constant deapth and uniform strength, it bends to an arc of a circle of radius R \n",
"R = E*d*12/(2*f);// inches\n",
"delta = (l*12)^2 /(8*R);// inches\n",
"printf('The deflection for a uniformly distributed load on it is,delta = %.2f inches',delta);"
   ]
   }
,
{
		   "cell_type": "markdown",
		   "metadata": {},
		   "source": [
			"## Example 6.5: Chapter_6_example_5.sce"
		   ]
		  },
  {
"cell_type": "code",
	   "execution_count": null,
	   "metadata": {
	    "collapsed": true
	   },
	   "outputs": [],
"source": [
"clear;\n",
"clc;\n",
"f = 8;//tons/in^2\n",
"E = 12800;// tons/in^2\n",
"k1 = 1/480;//central deflection = k = delta/l\n",
"k2 = (5/24)*(f/E)/k1 ;//k2 = d/l =  deapth to span ratio\n",
"printf('The ratio of deapth to span, d/l = %f ',k2);"
   ]
   }
,
{
		   "cell_type": "markdown",
		   "metadata": {},
		   "source": [
			"## Example 6.6: Chapter_6_example_6.sce"
		   ]
		  },
  {
"cell_type": "code",
	   "execution_count": null,
	   "metadata": {
	    "collapsed": true
	   },
	   "outputs": [],
"source": [
"clear;\n",
"clc;\n",
"w = 550;// lb. per foot run\n",
"f = 1000;// lb/in^2\n",
"l = 20;// feet\n",
"d_limit = 15;// inches\n",
"E = 1.5*10^6;// lb/in^2\n",
"//central ddeflection\n",
"delta = (1/2);// inches\n",
"d = (5/24)*(f/E)*20*12/(1/(2*20*12));// inches\n",
"M = w*l*l*12/8;// lb-inches\n",
"b = M/(f*(1/6)*d^2);// inches\n",
"printf('A section with d = %d inches, b = %d inches will do.',round(d),round(b));\n",
"f1 = (1/(2*20*12))*(d_limit/(l*12))*E/(5/24);// lb/in^2\n",
"b = M/(f1*(1/6)*d_limit^2);// inches\n",
"printf('\n If the deapth of section is limited to %d inches, then \n f = %.1f lb/in^2\n b = %.1f inches',d_limit,f1,b);\n",
"\n",
"//tha answer is correct only, but it is approximated in the text book."
   ]
   }
,
{
		   "cell_type": "markdown",
		   "metadata": {},
		   "source": [
			"## Example 6.7: Chapter_6_example_7.sce"
		   ]
		  },
  {
"cell_type": "code",
	   "execution_count": null,
	   "metadata": {
	    "collapsed": true
	   },
	   "outputs": [],
"source": [
"clear;\n",
"clc;\n",
"l = 20;// feet\n",
"b = 4;// feet\n",
"W = 5;// tons\n",
"d = 12;// inches\n",
"h = 5;// inches\n",
"I_xx = 220;// in^4\n",
"E = 13000;// tons/in^2\n",
"a = l-b;// feet\n",
"//for maximum deflection\n",
"x = sqrt((a^2 + 2*a*b)/3);// feet\n",
"y_max = x*12^3 *((a^2 + 2*a*b) - x^2)/(6*E*I_xx);// inches\n",
"//for deflection at the centre\n",
"x1 = 0.5*l;// inches\n",
"y_x1 = x1*12^3 *((a^2 + 2*a*b) - x1^2)/(6*E*I_xx);// inches\n",
"printf('The position of maximum deflection occurs at x = %.2f feet\n The maximum deflection is, y_max = %.4f inches',x,y_max);\n",
"printf('\n The deflection at the centre, y_%d = %.4f inches',x1,y_x1);"
   ]
   }
,
{
		   "cell_type": "markdown",
		   "metadata": {},
		   "source": [
			"## Example 6.8: Chapter_6_example_8.sce"
		   ]
		  },
  {
"cell_type": "code",
	   "execution_count": null,
	   "metadata": {
	    "collapsed": true
	   },
	   "outputs": [],
"source": [
"clear;\n",
"clc;\n",
"d = 12;// inches\n",
"h = 5;// inches\n",
"l = 20;// feet\n",
"E = 13000; //tons/in^2\n",
"I_xx = 220;// in^4\n",
"W = 4;// tons\n",
"W1 = 3;// tons\n",
"a = 15;// feet\n",
"b = l-a;// feet\n",
"a1 = 16;// feet \n",
"b1 = l-a1;// feet\n",
"K1 = (-2*W1*b1*l)/(W1*b1-W*b);\n",
"K2 = (W*b*a^2 + 2*a*W*b^2 + 2*W1*b1*l^2 - W1*b1*a1^2 -2*W1*a1*b1^2 +W1*b1*l^2)/(3*(W1*b1 - W*b));\n",
"x = -0.5*K1 + sqrt(-K2 + 0.25*K1^2);// feet\n",
"x1 = l-x;// feet\n",
"y_max = W*b*x*1728*(a^2 +2*a*b -x^2)/(6*E*I_xx*l) + W1*b1*x1*1728*(a1^2 +2*a1*b1 -x1^2)/(6*E*I_xx*l);// inches\n",
"printf('The position of the maximum deflection is, x = %.2f feet.',x);\n",
"printf('\n And the maximum deflection is, y_max = %.4f inches.',y_max);"
   ]
   }
,
{
		   "cell_type": "markdown",
		   "metadata": {},
		   "source": [
			"## Example 6.9: Chapter_6_example_9.sce"
		   ]
		  },
  {
"cell_type": "code",
	   "execution_count": null,
	   "metadata": {
	    "collapsed": true
	   },
	   "outputs": [],
"source": [
"clear;\n",
"clc;\n",
"b = 18;// inches\n",
"d = 7;// inches\n",
"w1 = 1;// ton per foot run\n",
"w2 = 3;// ton per foot run\n",
"I_xx = 1149;// in^4\n",
"E = 13000;// tons/in^2\n",
"R_A = 0.5*b + (b/3);// tons\n",
"R_B = 0.5*b + (2*b/3);// tons\n",
"//integrating M = E*I*y'', to get E*I*y' and making y' = 0;, we get maximu deflection\n",
"x = 9.18;// by trial and error method\n",
"y_derivative = -R_A*0.5*x^3 + x^4 /6 +0.5*(2/3)*(1/b)*(1/4)*x^5 + 469.8;\n",
"y = -R_A*0.5*x^3 /3 + x^4 /24 +0.5*(2/3)*(1/b)*(1/(4*5))*x^5 + 469.8*x;\n",
"y_max = y;// inches\n",
"printf('The position of maximum deflection from the end A, x = %.2f inches and \n  Maximum deflection, y_max = %.4f inches',x,y_max*12^3 /(E*I_xx));"
   ]
   }
],
"metadata": {
		  "kernelspec": {
		   "display_name": "Scilab",
		   "language": "scilab",
		   "name": "scilab"
		  },
		  "language_info": {
		   "file_extension": ".sce",
		   "help_links": [
			{
			 "text": "MetaKernel Magics",
			 "url": "https://github.com/calysto/metakernel/blob/master/metakernel/magics/README.md"
			}
		   ],
		   "mimetype": "text/x-octave",
		   "name": "scilab",
		   "version": "0.7.1"
		  }
		 },
		 "nbformat": 4,
		 "nbformat_minor": 0
}
