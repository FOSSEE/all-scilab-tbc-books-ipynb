{
"cells": [
 {
		   "cell_type": "markdown",
	   "metadata": {},
	   "source": [
       "# Chapter 1: Simple stresses and strains"
	   ]
	},
{
		   "cell_type": "markdown",
		   "metadata": {},
		   "source": [
			"## Example 1.10: Chapter_1_example_10.sce"
		   ]
		  },
  {
"cell_type": "code",
	   "execution_count": null,
	   "metadata": {
	    "collapsed": true
	   },
	   "outputs": [],
"source": [
"clear ;\n",
"clc ;\n",
"a = 12;//length of each side in inches\n",
"d = 9/8;//diameter of each reinforced bar in inches\n",
"r = 3;//distance of centre from the edges in inches\n",
"p_c = 600;//in lb/in^2\n",
"n = 18;//modular ration E_s/E_c\n",
"A_s = 4*0.25*%pi*d^2;//in in^2\n",
"A_c = a^2 - A_s;//in in^2\n",
"p_s = n*p_c;//in lb/in^2\n",
"P = p_s*A_s+p_c*A_c;//safe central load in lb-wt\n",
"printf('Safe central load = %d lb-wt',P);\n",
"printf('\n Of this, the reinforcing bars carry %d lb-wt',p_s*A_s);\n",
"\n",
"//there is an error in the answer given in textbook."
   ]
   }
,
{
		   "cell_type": "markdown",
		   "metadata": {},
		   "source": [
			"## Example 1.11: Chapter_1_example_11.sce"
		   ]
		  },
  {
"cell_type": "code",
	   "execution_count": null,
	   "metadata": {
	    "collapsed": true
	   },
	   "outputs": [],
"source": [
"clear ;\n",
"clc ;\n",
"l = 8;//length in feet\n",
"d = 0.5;//diameter in inches\n",
"r = 30;//distance between two rods in inches\n",
"P = 2000;//load in lb-wt\n",
"E_s = 30*10^6;//modulus of elsticity of steel rod\n",
"E_b = 16*10^6;//modulus of elsticity of brass rod\n",
"A_s = 0.25*%pi*d^2;//section area in in^2\n",
"p_b = P/(A_s*(1+(E_s/E_b)));\n",
"p_s = (P/A_s) - p_b ;\n",
"P_b = A_s*p_b;\n",
"P_s = A_s*p_s;\n",
"printf('P_s = %.1f lb/in^2\n and P_b = %.1f lb/in^2',P_s,P_b);\n",
"x = r*P_b/P ;//\n",
"printf('\n  x = %.2f inches',x);"
   ]
   }
,
{
		   "cell_type": "markdown",
		   "metadata": {},
		   "source": [
			"## Example 1.12: Chapter_1_example_12.sce"
		   ]
		  },
  {
"cell_type": "code",
	   "execution_count": null,
	   "metadata": {
	    "collapsed": true
	   },
	   "outputs": [],
"source": [
"clear ;\n",
"clc ; \n",
"alpha = 0.0000062 ;//co-efficient of the expansion in 'per F'\n",
"t = 100;//in F\n",
"d = 3/4;//in inches\n",
"del = 0.02;//in inches\n",
"l = 15;//in ft\n",
"E = 13000;//in tons/in^2\n",
"e = alpha*t - (del/(l*12));\n",
"p = E*e;//in tons/in^2\n",
"A = 0.25*%pi*d^2;//in in^2\n",
"P = p*A ;//in tons\n",
"printf('Tensile strain imposed by end-grips,e = %.5f',e);\n",
"printf('\n p = %.2f tons/in^2\n P = %.2f tons',p,P);"
   ]
   }
,
{
		   "cell_type": "markdown",
		   "metadata": {},
		   "source": [
			"## Example 1.13: Chapter_1_example_13.sce"
		   ]
		  },
  {
"cell_type": "code",
	   "execution_count": null,
	   "metadata": {
	    "collapsed": true
	   },
	   "outputs": [],
"source": [
"clear;\n",
"clc;\n",
"d = 1;//diameter of steel bar in inches\n",
"d1 = 3/2;//external diameter of brass tube in inches\n",
"d2 = 1;//internal diameter of brass tube in inches\n",
"t = 100;//in F\n",
"alpha_s = 0.0000062;//alpha of steel in 'per F'\n",
"alpha_b = 0.000010;//alpha of brass in 'per F'\n",
"E_s = 30*10^6;//in lb/in^2\n",
"E_b = 14*10^6;//in lb/in^2\n",
"A_s = 0.25*%pi*d^2;//section area of steel bar in in^2\n",
"A_b = 0.25*%pi*(d1^2-d2^2);//section area of brass tube in in^2\n",
"p_b = t*(alpha_b-alpha_s)*E_s/((A_b/A_s)+(E_s/E_b));\n",
"p_s = (A_b/A_s)*p_b;\n",
"printf('The stresses induced in each metal are, p_b = %d lb/in^2\n       p_s = %d lb/in^2',p_b,p_s);"
   ]
   }
,
{
		   "cell_type": "markdown",
		   "metadata": {},
		   "source": [
			"## Example 1.14: Chapter_1_example_14.sce"
		   ]
		  },
  {
"cell_type": "code",
	   "execution_count": null,
	   "metadata": {
	    "collapsed": true
	   },
	   "outputs": [],
"source": [
"clear;\n",
"clc;\n",
"D = 4;//diameter of the wheel in ft\n",
"p = 6 ;//hoop stress in tons/in^2\n",
"alpha = 0.0000062;//in 'per F' \n",
"E = 13000;//in tons/in^2\n",
"d = (1/(1+(p/E)))*D*12;//internal diameter in inches\n",
"t = (D*12-d)/(d*alpha);\n",
"printf('The least temperature the tube must be heated is, t = %.1f F',t);"
   ]
   }
,
{
		   "cell_type": "markdown",
		   "metadata": {},
		   "source": [
			"## Example 1.15: Chapter_1_example_15.sce"
		   ]
		  },
  {
"cell_type": "code",
	   "execution_count": null,
	   "metadata": {
	    "collapsed": true
	   },
	   "outputs": [],
"source": [
"clear;\n",
"clc;\n",
"p = 8;//normal stress intensity in tons/in^2\n",
"theta = 35*%pi/180;//inclination of the section in degrees\n",
"P = p*cos(theta);//resultant stress intensity in tons/in^2\n",
"p_n = P*cos(theta);//normal stress intensity in tons/in^2\n",
"p_t = P*sin(theta);//tangential stress intensity in tons/in^2\n",
"p_max = 0.5*p;//maximum possible shear in tons/in^2\n",
"angle = 45;//inclination of these planes in degrees\n",
"printf('Resultant stress intensity = %.2f tons/in^2',P);\n",
"printf('\n normal stress intensity = %.2f tons/in^2',p_n);\n",
"printf('\n tangential stress intensity = %.2f tons/in^2',p_t);\n",
"printf('\n The maximum possible shear on any plane is %d tons/in^2',p_max);\n",
"printf('\n and these planes are inclined at %d degrees to the normal section.',angle);"
   ]
   }
,
{
		   "cell_type": "markdown",
		   "metadata": {},
		   "source": [
			"## Example 1.16: Chapter_1_example_16.sce"
		   ]
		  },
  {
"cell_type": "code",
	   "execution_count": null,
	   "metadata": {
	    "collapsed": true
	   },
	   "outputs": [],
"source": [
"clear;\n",
"clc;\n",
"d = 9/8;//diameter of the steel bar in inches\n",
"P = 6;//tensile load in tons\n",
"del_l = 0.0036 ;//extension of length inches\n",
"l = 8;//gauge length in inches\n",
"del_d = 0.00015;//change in diameter in inches\n",
"A = 0.25*%pi*d^2;//section area in in^2\n",
"p = P/A;//stress in tons/in^2\n",
"e = del_l/l;//strain\n",
"E = p/e;//modulus of elasticity in tons/in^2\n",
"LS = del_d/d;//lateral strain \n",
"PR = LS/e;//poisson's ratio \n",
"N = E/(2*(1+PR));//rigidity modulus in tons/in^2\n",
"K = E/(3*(1-2*PR));//bulk modulus in tons/in^2\n",
"printf('Poisson ratio 1/m = %.4f',PR);\n",
"printf('\n  E = %d tons/in^2',E);\n",
"printf('\n  N = %d tons/in^2',N);\n",
"printf('\n  K = %d tons/in^2',K);\n",
"\n",
"//there is an error in the answer given in textbook."
   ]
   }
,
{
		   "cell_type": "markdown",
		   "metadata": {},
		   "source": [
			"## Example 1.17: Chapter_1_example_17.sce"
		   ]
		  },
  {
"cell_type": "code",
	   "execution_count": null,
	   "metadata": {
	    "collapsed": true
	   },
	   "outputs": [],
"source": [
"clear;\n",
"clc;\n",
"N = 2640;//rigidity modulus in tons/in^2\n",
"d = 3/8;//diameter of the rod in inches\n",
"P = 1/2;//axial pull in tons\n",
"del_d = 0.000078;//change in diameter in inches\n",
"A = 0.25*%pi*d^2;//section area in in^2\n",
"p = P/A ;//stress tons/in^2\n",
"LS = del_d/d;//lateral strain\n",
"m = p/(LS*2*N) - 1;\n",
"E = 2*N*(1 + 1/m);//modulus of elasticity in ton/in^2\n",
"PR = 1/m;//poisson's ratio \n",
"printf('Poisson ratio 1/m = %.3f',PR);\n",
"printf('\n    E = %d ton/in^2',E);\n",
"\n",
"//there is an error in the answer given in textbook."
   ]
   }
,
{
		   "cell_type": "markdown",
		   "metadata": {},
		   "source": [
			"## Example 1.1: Chapter_1_example_1.sce"
		   ]
		  },
  {
"cell_type": "code",
	   "execution_count": null,
	   "metadata": {
	    "collapsed": true
	   },
	   "outputs": [],
"source": [
"clear all;\n",
"clc;\n",
"P = 5.5 ;//Axial pull in tons\n",
"E = 13000 ;//modulus of elasticity tons/in^2\n",
"l = 120 ;//length in inches\n",
"A = %pi/4 ;//Area of resisting section in^2\n",
"p = P/A ;//Intensity of stress in tons/in^2\n",
"e = p/E ;//strain\n",
"delta_l =  l*e;//elongation of the bar in inches\n",
"printf('The elongation of the bar is %.4f inch',delta_l);"
   ]
   }
,
{
		   "cell_type": "markdown",
		   "metadata": {},
		   "source": [
			"## Example 1.2: Chapter_1_example_2.sce"
		   ]
		  },
  {
"cell_type": "code",
	   "execution_count": null,
	   "metadata": {
	    "collapsed": true
	   },
	   "outputs": [],
"source": [
"clear all;\n",
"clc;\n",
"s_p = 200;//steam pressure in lb/in^2\n",
"l = 4;//length in inches\n",
"b = 4;//breadth in inches\n",
"p = 14000;//permissible streaa in lb/in^2\n",
"P = s_p*l*b;//Pull on each bolt in lb-wt\n",
"A = P/p ;//necessary area of bolt-section\n",
"d = sqrt(4*A/%pi) ;//minimum diameter in inches\n",
"printf('The minimum diameter d of each stay bolt = %0.2f inch',d);"
   ]
   }
,
{
		   "cell_type": "markdown",
		   "metadata": {},
		   "source": [
			"## Example 1.3: Chapter_1_example_3.sce"
		   ]
		  },
  {
"cell_type": "code",
	   "execution_count": null,
	   "metadata": {
	    "collapsed": true
	   },
	   "outputs": [],
"source": [
"clear all;\n",
"clc;\n",
"D = 8;//external diameter in inches \n",
"d = 6;//internal diameter in inches\n",
"sigma = 36;//ultimate stress in tons/in^2\n",
"n = 6;//safety factor\n",
"A = 0.25*%pi*(D^2 - d^2);//Area of section in in^2\n",
"P =  sigma*A; //crushing load for the column in tons \n",
"P_safe = P/n ;//safe load in tons\n",
"printf('Safe load = %d tons',P_safe); \n",
"//there is an error in the answer given in textbook."
   ]
   }
,
{
		   "cell_type": "markdown",
		   "metadata": {},
		   "source": [
			"## Example 1.4: Chapter_1_example_4.sce"
		   ]
		  },
  {
"cell_type": "code",
	   "execution_count": null,
	   "metadata": {
	    "collapsed": true
	   },
	   "outputs": [],
"source": [
"clear all;\n",
"clc;\n",
"sigma = 20;//ultimate sheat stress in tons/in^2\n",
"d = 1/2;//diameter of the hole in inches\n",
"t = 3/8;//thickness of the plate in inches\n",
"A = 0.25*%pi*d^2;//area of the cross-section of the punch in^2\n",
"P = %pi*d*t*sigma;//necessary force in tons\n",
"sigma_comp = P/A;//compressive stress on the punch\n",
"printf('The compressive stress of the punch = %d tons/in^2',sigma_comp);\n",
"//there is an error in the answer given in textbook."
   ]
   }
,
{
		   "cell_type": "markdown",
		   "metadata": {},
		   "source": [
			"## Example 1.5: Chapter_1_example_5.sce"
		   ]
		  },
  {
"cell_type": "code",
	   "execution_count": null,
	   "metadata": {
	    "collapsed": true
	   },
	   "outputs": [],
"source": [
"clear all;\n",
"clc;\n",
"b = 8;//width in inches\n",
"t = 3/8;//thickness in inches\n",
"l = 20;//length in feets\n",
"P = 22;//pull in tons\n",
"E = 13500;//modulus of elasticity in tons/in^2\n",
"sigma = 0.3;//poisson/s ratio\n",
"A = b*t;//in in^2\n",
"V = l*A*12;//in cub.inch\n",
"p = P/A;//in tons/in^2\n",
"e = p/E;\n",
"delta_l = e*l*12;//stretch of the bar in inches\n",
"Lateral_strain = e*sigma ;//lateral strain\n",
"del_b = b*Lateral_strain;//in inches\n",
"del_t = t*Lateral_strain;//in inches\n",
"k = e*(1-2*sigma);//(del_V)/(V)\n",
"del_V = k*V;//change in volume in cub.inch\n",
"printf('The change in volume is %.3f cub.inch',del_V);"
   ]
   }
,
{
		   "cell_type": "markdown",
		   "metadata": {},
		   "source": [
			"## Example 1.6: Chapter_1_example_6.sce"
		   ]
		  },
  {
"cell_type": "code",
	   "execution_count": null,
	   "metadata": {
	    "collapsed": true
	   },
	   "outputs": [],
"source": [
"clear all;\n",
"clc;\n",
"d = 7/8;//diameter of the bar in inches\n",
"l = 10;//length in feets\n",
"P = 6;;//axial pull in tons\n",
"E = 13000;//modulus of elsticity in tons/in^2\n",
"m = 4;\n",
"A = 0.25*%pi*d^2;//in in^2\n",
"V = 0.25*%pi*d^2*l*12;//volume in cub.inches\n",
"p = P/A;//in tons/in^2\n",
"e = p/E;\n",
"del_l = e*l*12;//stretchof the bar in inches\n",
"Lateral_strain = e/m ;//lateral strain\n",
"del_d = Lateral_strain*d;//Contraction in diameter in inches\n",
"printf('The Contraction in diameter is %f inches',del_d);\n",
"k = e*(1-2/m);//(del_V)/(V)\n",
"del_V = k*V;//change in volume in cub.inch\n",
"printf('\n The change in volume is %.4f cub. inch',del_V);\n",
"W = 0.5*P*del_l;;//work done in stretching the bar in in-ton\n",
"printf('\n The work done in stretching the bar is %.4f in-ton',W);\n",
"//there is an error in the answer given in textbook."
   ]
   }
,
{
		   "cell_type": "markdown",
		   "metadata": {},
		   "source": [
			"## Example 1.7: Chapter_1_example_7.sce"
		   ]
		  },
  {
"cell_type": "code",
	   "execution_count": null,
	   "metadata": {
	    "collapsed": true
	   },
	   "outputs": [],
"source": [
"clear all;\n",
"clc;\n",
"L = 24;//length of the bar in ft\n",
"d1 = 9/8;//diameter of the bar in inches\n",
"l1 = 6;//in ft\n",
"d2 = 1;//in inches\n",
"l2 = 12;//in ft\n",
"d3 = 5/4;//in inches\n",
"l3 = L-l1-l2;//in ft\n",
"P = 10000;//axial compression in lb-wt\n",
"E = 28*10^6;//modulus of elasticity in lb/in^2\n",
"A1 = 0.25*%pi*d1^2;//in in^2\n",
"A2 = 0.25*%pi*d2^2;//in in^2\n",
"A3 = 0.25*%pi*d3^2;//in in^2\n",
"p1 = P/A1 ;//in lb/in^2\n",
"e1 = p1/E;\n",
"p2 = P/A2 ;//in lb/in^2\n",
"e2 = p2/E;\n",
"p3 = P/A3 ;//in lb/in^2\n",
"e3 = p3/E;\n",
"del_l1 = e1*l1*12;//in inches\n",
"del_l2 = e2*l2*12;//in inches\n",
"del_l3 = e3*l3*12;//in inches\n",
"del_l = del_l1+del_l2+del_l3;//total change in length in ft\n",
"W = 0.5*P*del_l/12;//energy stored in the bar in ft-lbs\n",
"printf('Total change in length of the bar is %.3f inches',del_l);\n",
"printf('\n The energy stored in the bar is %.1f ft-lbs',W);\n",
"//there is an error in the answer given in textbook."
   ]
   }
,
{
		   "cell_type": "markdown",
		   "metadata": {},
		   "source": [
			"## Example 1.8: Chapter_1_example_8.sce"
		   ]
		  },
  {
"cell_type": "code",
	   "execution_count": null,
	   "metadata": {
	    "collapsed": true
	   },
	   "outputs": [],
"source": [
"clear all;\n",
"clc;\n",
"P = 1200;//axial pull in lb-wt\n",
"d1 = 1;//diameter of one end in inches\n",
"d2 = 0.5;//diameter of other end in inches\n",
"l = 10;//length of the rod in inches\n",
"E = 14*10^6;//modulus of elsticity in lb/in^2\n",
"del_l = 4*P*l/(%pi*E*d1*d2);//change in length in inches \n",
"printf('The change in length of the rod is %.4f inches',del_l);"
   ]
   }
,
{
		   "cell_type": "markdown",
		   "metadata": {},
		   "source": [
			"## Example 1.9: Chapter_1_example_9.sce"
		   ]
		  },
  {
"cell_type": "code",
	   "execution_count": null,
	   "metadata": {
	    "collapsed": true
	   },
	   "outputs": [],
"source": [
"clear ;\n",
"clc ;\n",
"d = 1;//diameter of the steel bar in inches\n",
"l = 12;//length of the steel bar in inches\n",
"d1 = 3/2;//external diameter in inches\n",
"d2 = 1;//internal diameter in inches\n",
"P = 5;//axial pull in tons\n",
"E_s = 30*10^6;//modulus of elasticity of steel in lb/in^2\n",
"E_b = 14*10^6;//modulus of elasticity of brass in lb/in^2\n",
"A_s = 0.25*%pi*d^2;//area of the steel section in in^2\n",
"A_b = 0.25*%pi*(d1^2-d2^2);//area of the brass section in in^2\n",
"P_b = (P/((E_s/E_b)*A_s+A_b))*A_b;//load resisted by the brass tube in tons\n",
"P_s = P-P_b;//bal;ance load resisted by the steel tube\n",
"e = (P_b/A_b)*2240/E_b ;//strain\n",
"printf('The strain e = %.4f',e);\n",
"del_l = e*l ;//extension of the bar in inches\n",
"printf('\n The extension of the bar = %.4f inches',del_l);\n",
"W = 0.5*P*del_l;//work done in stretching in inch-ton\n",
"printf('\n The work done in stretching is %.3f inch-ton',W);"
   ]
   }
],
"metadata": {
		  "kernelspec": {
		   "display_name": "Scilab",
		   "language": "scilab",
		   "name": "scilab"
		  },
		  "language_info": {
		   "file_extension": ".sce",
		   "help_links": [
			{
			 "text": "MetaKernel Magics",
			 "url": "https://github.com/calysto/metakernel/blob/master/metakernel/magics/README.md"
			}
		   ],
		   "mimetype": "text/x-octave",
		   "name": "scilab",
		   "version": "0.7.1"
		  }
		 },
		 "nbformat": 4,
		 "nbformat_minor": 0
}
