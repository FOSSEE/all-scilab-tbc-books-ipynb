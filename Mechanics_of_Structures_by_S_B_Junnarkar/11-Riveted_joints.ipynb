{
"cells": [
 {
		   "cell_type": "markdown",
	   "metadata": {},
	   "source": [
       "# Chapter 11: Riveted joints"
	   ]
	},
{
		   "cell_type": "markdown",
		   "metadata": {},
		   "source": [
			"## Example 11.10: Chapter_11_example_10.sce"
		   ]
		  },
  {
"cell_type": "code",
	   "execution_count": null,
	   "metadata": {
	    "collapsed": true
	   },
	   "outputs": [],
"source": [
"clear;\n",
"clc;\n",
"P = 2.4;// tons\n",
"e = 18;// inches\n",
"n = 8;//no. of rivets\n",
"d = 7/8;// inches\n",
"h = 4;// inches\n",
"M = P*e;// ton-inches\n",
"d1 = 2;// \n",
"d2 = 6;//\n",
"square_r_sum = h*((0.5*h)^2 + d2^2) + h*((0.5*h)^2 + d1^2);//\n",
"r = sqrt(40);\n",
"F = M*r/square_r_sum;// tons\n",
"theta = atan(d2/d1)//radians\n",
"theta1 = theta*180/%pi// degrees\n",
"V = (P/n) + F*cos(theta);// tons\n",
"H = F*sin(theta);// tons\n",
"R = sqrt(V^2 + H^2);// tons\n",
"f_s = R/(0.25*%pi*d^2);// tons/in^2\n",
"printf('The maximum shear intensity induced at any rivet is \n   f_s = %.2f tons/in^2',f_s);"
   ]
   }
,
{
		   "cell_type": "markdown",
		   "metadata": {},
		   "source": [
			"## Example 11.1: Chapter_11_example_1.sce"
		   ]
		  },
  {
"cell_type": "code",
	   "execution_count": null,
	   "metadata": {
	    "collapsed": true
	   },
	   "outputs": [],
"source": [
"clear;\n",
"clc;\n",
"t = 5/8;// inch\n",
"d = 1;// inch\n",
"p = 4;// inches\n",
"f_t = 28; //tons/in^2\n",
"f_s = 20; //tons/in^2\n",
"f_b = 40; //tons/in^2\n",
"P_t = (p-d)*t*f_t;// tons\n",
"P_s = 2*2*0.25*%pi*d^2 *f_s;// tons\n",
"P_b = 2*d*t*f_b;//tons\n",
"P = p*t*f_t;// tons\n",
"n = min(P_t,P_s,P_b)/P ;// efficiency\n",
"printf('The efficiency of the joint = %.3f or %.1f percentage',n,n*100);"
   ]
   }
,
{
		   "cell_type": "markdown",
		   "metadata": {},
		   "source": [
			"## Example 11.2: Chapter_11_example_2.sce"
		   ]
		  },
  {
"cell_type": "code",
	   "execution_count": null,
	   "metadata": {
	    "collapsed": true
	   },
	   "outputs": [],
"source": [
"clear;\n",
"clc;\n",
"t = 1/2;// inches\n",
"d1= 7/8;// inches\n",
"p1 = 5/2;// inches\n",
"d2= 9/8;// inches\n",
"p2 = 7/2;// inches\n",
"f_t = 8;// tons/in^2\n",
"f_s = 6;// tons/in^2\n",
"f_b = 10;// tons/in^2\n",
"\n",
"P_t1 = (p1-d1)*t*f_t;// tons\n",
"P_s1 = 0.25*%pi*d1^2 *f_s;// tons\n",
"P_b1 = d1*t*f_b;//tons\n",
"P1 = p1*t*f_t;// tons\n",
"n1 = min(P_t1,P_s1,P_b1)/P1 ;// efficiency\n",
"printf('The efficiency of first joint = %.2f = %d percentage',n1,n1*100);\n",
"\n",
"P_t2 = (p2-d2)*t*f_t;// tons\n",
"P_s2 = 0.25*%pi*d2^2 *f_s;// tons\n",
"P_b2 = d2*t*f_b;//tons\n",
"P2 = p2*t*f_t;// tons\n",
"n2 = min(P_t2,P_s2,P_b2)/P2 ;// efficiency\n",
"printf('\n The efficiency of second joint = %.3f = %.1f percentage\n',n2,n2*100);\n",
"\n",
"if n2 > n1 then\n",
"    printf(' The second joint, with its higher efficiency, is stronger');\n",
"else\n",
"    printf(' The first joint, with its higher efficiency, is stronger');\n",
"end"
   ]
   }
,
{
		   "cell_type": "markdown",
		   "metadata": {},
		   "source": [
			"## Example 11.3: Chapter_11_example_3.sce"
		   ]
		  },
  {
"cell_type": "code",
	   "execution_count": null,
	   "metadata": {
	    "collapsed": true
	   },
	   "outputs": [],
"source": [
"clear;\n",
"clc;\n",
"t = 3/8;// inches\n",
"p2 = 7/2;// inches\n",
"f_t = 11/2;// tons/in^2\n",
"f_s = 5;// tons/in^2\n",
"f_b = 12;// tons/in^2\n",
"d = 1.2*sqrt(t);// inches\n",
"//d = 0.735, say 0.75 inches\n",
"d = 0.75;// inches\n",
"P_s = 0.25*%pi*d^2 *f_s;// tons\n",
"P_b = d*t*f_b;//tons\n",
"P_t_limit = P_s;//tons\n",
"p_limit = P_s/(t*f_t) + d;// inches\n",
"//p_limit = 1.763, take p = 1.75\n",
"p = 1.75;// inches\n",
"n = (p-d)/p;// efficiency\n",
"printf('The efficiency of the joint = %.1f percentage',n*100);"
   ]
   }
,
{
		   "cell_type": "markdown",
		   "metadata": {},
		   "source": [
			"## Example 11.4: Chapter_11_example_4.sce"
		   ]
		  },
  {
"cell_type": "code",
	   "execution_count": null,
	   "metadata": {
	    "collapsed": true
	   },
	   "outputs": [],
"source": [
"clear;\n",
"clc;\n",
"d = 7/8;// inches\n",
"t = 1/2;// inches   \n",
"f_t = 6;// tons/in^2\n",
"f_s = 5;// tons/in^2\n",
"f_b = 10;// tons/in^2\n",
"p_s = 2*0.25*%pi*d^2*f_s;// tons\n",
"P_b = d*t*f_b;// tons\n",
"p_t_limit = 2*P_b/3 + d;// inches\n",
"n = (p_t_limit-d)/p_t_limit;// efficiency\n",
"printf('Pitch, p = %.3f inches',p_t_limit);\n",
"printf('\n Efficiency = %.3f or %d percentage',n,n*100);\n",
"\n",
"//the answer is approximated in the textbook."
   ]
   }
,
{
		   "cell_type": "markdown",
		   "metadata": {},
		   "source": [
			"## Example 11.5: Chapter_11_example_5.sce"
		   ]
		  },
  {
"cell_type": "code",
	   "execution_count": null,
	   "metadata": {
	    "collapsed": true
	   },
	   "outputs": [],
"source": [
"clear;\n",
"clc;\n",
"d = 6;// feet\n",
"p = 180;// lb/in^2\n",
"f = 6;// tons\n",
"n = 70/100;// efficiency\n",
"d1 = 1;// inches\n",
"f_s = 5;// tons/in^2\n",
"f_b = 10;// tons/in^2\n",
"t = p*d/(2*f*n);// inches\n",
"// t = 0.6889 inches, say 0.75 inches\n",
"t = 0.75;//inches\n",
"P_s = 2*0.25*%pi*d1^2*f_s;// tons\n",
"P_b = d1*t*f_b;// tons\n",
"p_limit = 2*P_b/(t*f) + d1;// inches\n",
"//p_limit = 4.33 inches, make it 4 inches\n",
"p = round(p_limit);// inches\n",
"n1 = (p-d1)/p;// efficiency\n",
"printf('Pitch = %.2f inches, make it %d inches.',p_limit,p);\n",
"printf('\n The efficiency of the joint will be %d percentage aganist the assumed value of %d percentage.',n1*100,n*100);"
   ]
   }
,
{
		   "cell_type": "markdown",
		   "metadata": {},
		   "source": [
			"## Example 11.6: Chapter_11_example_6.sce"
		   ]
		  },
  {
"cell_type": "code",
	   "execution_count": null,
	   "metadata": {
	    "collapsed": true
	   },
	   "outputs": [],
"source": [
"clear;\n",
"clc;\n",
"t = 1/2;// inches\n",
"a = 1/2;// inches\n",
"P = 42;// tons\n",
"d = 3/4;// inches\n",
"f_t = 7.5;// tons/in^2\n",
"f_s = 6;// tons/in^2\n",
"f_b = 12;// tons/in^2\n",
"P_s = 2*0.25*%pi*d^2 *f_s;// tons\n",
"P_b = d*t*f_b;// tons\n",
"n = P/min(P_s,P_b);\n",
"n = round(n+1);\n",
"b1 = P/(t*f_t) + d;// inches\n",
"b = round(b1);\n",
"e = (b-d)/b;// efficiency\n",
"f_s = (P/n)/(2*0.25*%pi*d^2) ;// tons/in^2\n",
"f_b = (P/n)/(d*t);// tons/in^2\n",
"f1 = P/(a*(b-d));// tons/in^2\n",
"f2 = (P-(P/n))/((b-2*d)*t);// tons/in^2\n",
"f3 = (P-(3*P/n))/((b-3*d)*t);// tons/in^2\n",
"f4 = (P-(6*P/n))/((b-4*d)*t);// tons/in^2\n",
"printf('The number of rivets required, n = %d',n);\n",
"printf('\n The width of the flat required, b = %.2f inches, say %d inches',b1,b);\n",
"printf('\n The efficiency of the joint = %.2f percentage',e*100);\n",
"printf('\n The actual stresses induce in the rivet are, f_s = %.2f tons/in^2\n            f_b = %.2f tons/in^2',f_s,f_b);\n",
"printf('\n The tensile stress at section 11, f1 = %.3f rons/in^2',f1);\n",
"printf('\n The tensile stress at section 22, f2 = %.3f rons/in^2',f2);\n",
"printf('\n The tensile stress at section 33, f3 = %.3f rons/in^2',f3);\n",
"printf('\n The tensile stress at section 44, f4 = %.3f rons/in^2',f4);"
   ]
   }
,
{
		   "cell_type": "markdown",
		   "metadata": {},
		   "source": [
			"## Example 11.7: Chapter_11_example_7.sce"
		   ]
		  },
  {
"cell_type": "code",
	   "execution_count": null,
	   "metadata": {
	    "collapsed": true
	   },
	   "outputs": [],
"source": [
"clear;\n",
"clc;\n",
"b = 9;// inches\n",
"t = 3/4;// inches\n",
"f_t = 8;// tons/in^2\n",
"f_s = 5;// tons/in^2\n",
"f_b = 10;// tons/in^2\n",
"d = 7/8;// inches\n",
"P = (b-d)*t*f_t;// tons\n",
"P_s = 2*0.25*%pi*d^2 *f_s;// tons\n",
"P_b = d*t*f_b;// tons\n",
"n = P/min(P_s,P_b);\n",
"e = (b-d)/b;// efficiency\n",
"P1 = f_t*(b-d)*t;// tons\n",
"P2 = f_t*(b-2*d)*t+P_s;// tons\n",
"P3 = f_t*(b-3*d)*t+3*P_s;// tons\n",
"P4 = f_t*(b-3*d)*t+6*P_s;// tons\n",
"printf('The number of rivets required, n = %d',round(n+1));\n",
"printf('\n The efficiency of the joint = %.1f percentage',e*100);\n",
"printf('\n The pull at section 11, P1 = %.2f rons/in^2',P1);\n",
"printf('\n The pull at section 22, P2 = %.1f rons/in^2',P2);\n",
"printf('\n The pull at section 33, P3 = %.2f rons/in^2',P3);\n",
"printf('\n The pull at section 44, P4 = %.2f rons/in^2',P4);\n",
"if P1 == min(P1,P2,P3,P4) then\n",
"    printf('\n The maximum possible pull which the flat will safely transmit is P1 = %.2f tons/in^2 at section 11',P1);\n",
"elseif P2 == min(P1,P2,P3,P4) then\n",
"    printf('\n The maximum possible pull which the flat will safely transmit is P2 = %.1f tons/in^2 at section 22',P2); \n",
"elseif P3 == min(P1,P2,P3,P4) then \n",
"    printf('\n The maximum possible pull which the flat will safely transmit is P3 = %.2f tons/in^2 at section 33',P3);\n",
"else\n",
"    printf('\n The maximum possible pull which the flat will safely transmit is P4 = %.2f tons/in^2 at section 44',P4);   \n",
"end\n",
"\n",
"//there is a minute error in the answer given textbook."
   ]
   }
,
{
		   "cell_type": "markdown",
		   "metadata": {},
		   "source": [
			"## Example 11.8: Chapter_11_example_8.sce"
		   ]
		  },
  {
"cell_type": "code",
	   "execution_count": null,
	   "metadata": {
	    "collapsed": true
	   },
	   "outputs": [],
"source": [
"clear;\n",
"clc;\n",
"P = 150;; //tons\n",
"t = 3/4;// inches\n",
"d = 1;// inches\n",
"f_s = 6;// tons/in^2\n",
"f_b = 12;// tons/in^2\n",
"P_s = 0.25*%pi*d^2 *f_s;// tons\n",
"P_b = t*d*f_b;// tons\n",
"n = P/min(P_s,P_b);// no. of rivets required\n",
"printf('The number of rivets required, n = %.2f, say %d',n,round(n));"
   ]
   }
,
{
		   "cell_type": "markdown",
		   "metadata": {},
		   "source": [
			"## Example 11.9: Chapter_11_example_9.sce"
		   ]
		  },
  {
"cell_type": "code",
	   "execution_count": null,
	   "metadata": {
	    "collapsed": true
	   },
	   "outputs": [],
"source": [
"clear;\n",
"clc;\n",
"l = 50;// feet\n",
"b = 4;// feet\n",
"P = 3;// tons per foot run\n",
"t = 1/2;// inches\n",
"b1 = 4;// inches\n",
"d1 = 4;// inches\n",
"h1 = 1/2;// inches\n",
"d = 7/8;// inches\n",
"f_s = 6;// tons/in^2\n",
"f_b = 12;// tons/in^2\n",
"P_s = 2*0.25*%pi*d^2 *f_s;// tons\n",
"P_b = t*d*f_b;// tons\n",
"R = P_b;// tons\n",
"F = l*P*2/d1;// tons\n",
"p_min = R*(l-0.5*b1)/F ;// inches\n",
"printf('The minimum pitch required is p = %.2f inches, say %d inches',p_min,p_min);"
   ]
   }
],
"metadata": {
		  "kernelspec": {
		   "display_name": "Scilab",
		   "language": "scilab",
		   "name": "scilab"
		  },
		  "language_info": {
		   "file_extension": ".sce",
		   "help_links": [
			{
			 "text": "MetaKernel Magics",
			 "url": "https://github.com/calysto/metakernel/blob/master/metakernel/magics/README.md"
			}
		   ],
		   "mimetype": "text/x-octave",
		   "name": "scilab",
		   "version": "0.7.1"
		  }
		 },
		 "nbformat": 4,
		 "nbformat_minor": 0
}
