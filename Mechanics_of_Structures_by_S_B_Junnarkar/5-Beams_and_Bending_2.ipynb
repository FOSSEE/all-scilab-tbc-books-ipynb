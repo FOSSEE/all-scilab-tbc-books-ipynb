{
"cells": [
 {
		   "cell_type": "markdown",
	   "metadata": {},
	   "source": [
       "# Chapter 5: Beams and Bending 2"
	   ]
	},
{
		   "cell_type": "markdown",
		   "metadata": {},
		   "source": [
			"## Example 5.11: Chapter_5_example_11.sce"
		   ]
		  },
  {
"cell_type": "code",
	   "execution_count": null,
	   "metadata": {
	    "collapsed": true
	   },
	   "outputs": [],
"source": [
"clear;\n",
"clc;\n",
"b = 6;// inches\n",
"d = 12;// inches\n",
"t1 = 7/8;// inch\n",
"t2 = 1/2;// inch\n",
"I_xx = (1/12)*(b*d^3 - (b-t2)*(d-2*t1)^3);// in^4\n",
"Z1 = I_xx/b;// in ^3\n",
"A = 2*b*t1 + 0.5*(d-2*t1);// in^2\n",
"b = sqrt(A/2);// inches\n",
"d = 2*b;// inches\n",
"Z2 = (1/6)*b*d^2;// in^3\n",
"k = Z1/Z2 ;\n",
"printf('The ratio of strengths Z1/Z2 = %.2f ',k);\n",
"\n",
"//there is an error in the answer given in text book"
   ]
   }
,
{
		   "cell_type": "markdown",
		   "metadata": {},
		   "source": [
			"## Example 5.12: Chapter_5_example_12.sce"
		   ]
		  },
  {
"cell_type": "code",
	   "execution_count": null,
	   "metadata": {
	    "collapsed": true
	   },
	   "outputs": [],
"source": [
"clear;\n",
"clc;\n",
"A = 15.625;// in^2\n",
"Z1 = 61.75;// in^3\n",
"Z2 = 14.63;// in^3\n",
"d = sqrt(4*A/%pi);// inches\n",
"Z3 = (%pi/32)*d^3;// in^3\n",
"R1 = Z1/Z3;\n",
"R2 = Z2/Z3;\n",
"printf('If the strength of the solid circular section is taken as unity,\n that of the rectangular section is %.2f and of the I-section it is %.2f.',R2,R1);"
   ]
   }
,
{
		   "cell_type": "markdown",
		   "metadata": {},
		   "source": [
			"## Example 5.13: Chapter_5_example_13.sce"
		   ]
		  },
  {
"cell_type": "code",
	   "execution_count": null,
	   "metadata": {
	    "collapsed": true
	   },
	   "outputs": [],
"source": [
"clear;\n",
"clc;\n",
"D = 8;// inches\n",
"B = 3;// inches\n",
"t1 = 1/2;// inch\n",
"t2 = 3/8;// inch\n",
"b = B-t2;// inches\n",
"d = D-2*t1;// inches\n",
"a1 = t1*B;// in^2\n",
"x1 = 0.5*B;// inches\n",
"a2 = t2*(D-2*t1);// in^2\n",
"x2 = 0.5*t2;// inches\n",
"a3 = B*t1;// in^2\n",
"x3 = 0.5*B;// inches\n",
"a = a1+a2+a3;// in^2\n",
"P = (a1*x1+a2*x2+a3*x3)/(a1+a2+a3);// inches\n",
"I_xx = (1/12)*(B*D^3 - b*d^3);// in^4\n",
"I_AB = (1/3)*t1*B^3 + (1/3)*d*t2^3 + (1/3)*t1*B^3;// in^4\n",
"I_yy = I_AB - a*P^2;// in^4\n",
"printf('Position of the c.g of the section P = %.3f inches',P);\n",
"printf('\n I_xx = %.2f in^4\n I_yy = %.3f in^4',I_xx,I_yy);\n",
"//there is an error in the answer given in text book"
   ]
   }
,
{
		   "cell_type": "markdown",
		   "metadata": {},
		   "source": [
			"## Example 5.14: Chapter_5_example_14.sce"
		   ]
		  },
  {
"cell_type": "code",
	   "execution_count": null,
	   "metadata": {
	    "collapsed": true
	   },
	   "outputs": [],
"source": [
"clear;\n",
"clc;\n",
"b = 6;// inches\n",
"d = 4;// inches\n",
"t = 5/8;// inch\n",
"a1 = d*t;// in^2\n",
"y1 = d/2;// inches\n",
"a2 = (b-t)*t;// in^2\n",
"y2 = t/2;// inch\n",
"a = a1+a2;// in^2\n",
"J = (a1*y1+a2*y2)/(a1+a2);// inches\n",
"I_AB = (1/3)*t*d^3 + (1/3)*(b-t)*t^3;// in^4\n",
"I_xx = I_AB - a*J^2;// in^4\n",
"I_yy = (1/12)*t*b^3 + (1/12)*(d-t)*t^3;// in^4\n",
"printf('The position of the c.g is J = %.2f inches',J);\n",
"printf('\n I_xx = %.2f in^4\n I_yy = %.2f in^4',I_xx,I_yy);\n",
"\n",
"\n",
"//14(a)\n",
"H = 18;// feet\n",
"l = 10;// feet\n",
"w = 3/2;// cwt/ per .sq. foot\n",
"y_c = 2.97;// inches\n",
"y_t = 1.03;// inches\n",
"W = (3/40)*(w*l);// tons\n",
"BM_max = W*l*12/8;// ton-inches\n",
"M_r = BM_max;// ton-inches\n",
"f_c = M_r*y_c/I_xx ;// tons/in^2\n",
"f_t = M_r*y_t/I_xx ;// tons/in^2\n",
"printf('\n\n Maximum stresses induced are f_c = %.2f tons/in^2\n f_t = %.2f tons/in^2',f_c,f_t);"
   ]
   }
,
{
		   "cell_type": "markdown",
		   "metadata": {},
		   "source": [
			"## Example 5.15: Chapter_5_example_15.sce"
		   ]
		  },
  {
"cell_type": "code",
	   "execution_count": null,
	   "metadata": {
	    "collapsed": true
	   },
	   "outputs": [],
"source": [
"clear;\n",
"clc;\n",
"b = 5;// inches\n",
"d = 4;// inches\n",
"t = 1/2;// inches\n",
"a1 = b*t;// in^2\n",
"x1 = t/2;// inches\n",
"y1 = b/2;// inches\n",
"a2 = (d-t)*t;// in^2\n",
"y2 = t/2;// inch\n",
"x2 = t + 0.5*(d-t);// inches\n",
"x_bar = (a1*x1+a2*x2)/(a1+a2);// inches\n",
"y_bar = (a1*y1+a2*y2)/(a1+a2);// inches\n",
"I_AB = (1/3)*t*b^3 + (1/3)*(d-t)*t^3;// in^4\n",
"I_xx = I_AB - (a1+a2)*y_bar^2;// in^4\n",
"I_yy = (1/3)*t*d^3 + (1/3)*(b-t)*t^3 - (a1+a2)*x_bar^2;// in^4\n",
"printf('The position of c.g is x_bar = %.3f inches, y_bar = %.2f inches',x_bar,y_bar);\n",
"printf('\n I_xx = %.3f in^4\n I_yy = %.2f in^4',I_xx,I_yy);\n",
"\n",
"\n",
"\n",
"//Example 15(a)\n",
"l = 12;// feet\n",
"y_c = y_bar;//inches\n",
"y_t = b - y_c;//inches\n",
"f_t_max = 7;// tons/in^2\n",
"f_c = y_c*f_t_max/y_t;// tons/in^2\n",
"M_r = f_t_max*I_xx/y_t;// ton-inches\n",
"W = M_r/(l*12/8);// tons\n",
"printf('\n \n Total uniformly distribute load over the span is W = %.2f tons',W);\n",
""
   ]
   }
,
{
		   "cell_type": "markdown",
		   "metadata": {},
		   "source": [
			"## Example 5.16: Chapter_5_example_16.sce"
		   ]
		  },
  {
"cell_type": "code",
	   "execution_count": null,
	   "metadata": {
	    "collapsed": true
	   },
	   "outputs": [],
"source": [
"clear;\n",
"clc;\n",
"b1 = 6;//inches\n",
"d1 = 1;//inch\n",
"b2 = 9;//inches\n",
"d2 = 1;//inch\n",
"b3 = 10;//inches\n",
"d3 = 2;//inch\n",
"a1 = b3*d3;// in^2\n",
"y1 = d3/2;// inches\n",
"a2 = b2*d2;// in^2\n",
"y2 = d3 + b2/2;// inches\n",
"a3 = b1*d1;// in^2\n",
"y3 = b2+d3+d1/2;// inches\n",
"y_bar = (a1*y1+a2*y2+a3*y3)/(a1+a2+a3);//inches\n",
"I_AB = (1/3)*b3*d3^3 + (1/12)*d2*b2^3 +b2*(d3+b2/2)^2 + (1/12)*b1*d1^3 + b1*(b2+d3+d1/2)^2;// in^4\n",
"I_xx = I_AB - (a1+a2+a3)*y_bar^2;// in^4\n",
"I_yy = (1/12)*(d3*b3^3 + b2*d2^3 +d1*b1^3);// in^4\n",
"printf('The c.g of the section is y_bar = %.3f inches',y_bar);\n",
"printf('\n I_xx = %.2f in^4\n I_yy = %.2f in^4',I_xx,I_yy);\n",
"\n",
"//Example 16(a)\n",
"l = 20;// feet\n",
"y_t = y_bar;// inches\n",
"y_c = d1+b2+d3-y_t;// inches\n",
"f_t = 1.5;// tons/in^2\n",
"f_c = y_c*f_t/y_t;// tons/in^2\n",
"M_r = f_c*I_xx/y_c;// ton-inches\n",
"W = M_r*8/(l*12);// tons\n",
"w = W/l;// ton per foot run\n",
"printf('\n\n  Load required is w = %.2f ton per foot run',w);"
   ]
   }
,
{
		   "cell_type": "markdown",
		   "metadata": {},
		   "source": [
			"## Example 5.17: Chapter_5_example_17.sce"
		   ]
		  },
  {
"cell_type": "code",
	   "execution_count": null,
	   "metadata": {
	    "collapsed": true
	   },
	   "outputs": [],
"source": [
"clear;\n",
"clc;\n",
"b = 12;// inches\n",
"d = 6;// inches\n",
"h = 14;// inches\n",
"t = 1/2;// inch\n",
"A = 12.94;// in^2\n",
"//section moment of inertia\n",
"I_xx_s = 315.3;// in^4\n",
"I_yy_s = 22.27;// in^4\n",
"\n",
"I_xx = 2*I_xx_s + 2*((1/12)*h*(2*t)^3 + h*2*t*(d+t)^2);// in^4\n",
"I_yy = 2*(I_yy_s + A*(d/2)^2) + 2*((1/12)*2*t*h^3);// in^4\n",
"printf('I_xx = %.2f in^4\n I_yy = %.2f in^4',I_xx,I_yy);"
   ]
   }
,
{
		   "cell_type": "markdown",
		   "metadata": {},
		   "source": [
			"## Example 5.18: Chapter_5_example_18.sce"
		   ]
		  },
  {
"cell_type": "code",
	   "execution_count": null,
	   "metadata": {
	    "collapsed": true
	   },
	   "outputs": [],
"source": [
"clear;\n",
"clc;\n",
"b = 15;// inches\n",
"d = 15/2;// inches\n",
"h = 16;// inches\n",
"t = 1/2;// inch\n",
"P = 0.935;// inches\n",
"A = 12.33;// in^2\n",
"//section moment of inertia\n",
"I_xx_s = 377;// in^4\n",
"I_yy_s = 14.55;// in^4\n",
"\n",
"I_xx = 2*I_xx_s + 2*((1/12)*h*(2*t)^3 + h*2*t*(d+t)^2);// in^4\n",
"I_yy = 2*(I_yy_s + A*(d/2 + P)^2) + 2*((1/12)*2*t*h^3);// in^4\n",
"printf('I_xx = %.2f in^4\n I_yy = %.2f in^4',I_xx,I_yy);"
   ]
   }
,
{
		   "cell_type": "markdown",
		   "metadata": {},
		   "source": [
			"## Example 5.19: Chapter_5_example_19.sce"
		   ]
		  },
  {
"cell_type": "code",
	   "execution_count": null,
	   "metadata": {
	    "collapsed": true
	   },
	   "outputs": [],
"source": [
"clear;\n",
"clc;\n",
"b1 = 16;// inches\n",
"d1 = 6;// inches\n",
"b2 = 9;// inches\n",
"d2 = 7;// inches\n",
"A = 14.71;// in^2\n",
"I_xx1 = 618.09;// in^4\n",
"I_yy1 = 22.47;// in^4\n",
"I_xx2 = 208.13;// in^4\n",
"I_yy2 = 40.17;// in^4\n",
"I_xx = I_xx1 + 2*I_yy2;// in^4\n",
"I_yy = I_yy1 + 2*(I_xx2 + A*(b2/2 + 0.5*0.4)^2);// in^4\n",
"k_xx = sqrt(I_xx/(3*A));// inches\n",
"k_yy = sqrt(I_yy/(3*A));// inches\n",
"printf('I_xx = %.2f in^4\n I_yy = %.2f in^4\n k_xx = %.2f inches\n k_yy = %.2f inches',I_xx,I_yy,k_xx,k_yy);"
   ]
   }
,
{
		   "cell_type": "markdown",
		   "metadata": {},
		   "source": [
			"## Example 5.1: Chapter_5_example_1.sce"
		   ]
		  },
  {
"cell_type": "code",
	   "execution_count": null,
	   "metadata": {
	    "collapsed": true
	   },
	   "outputs": [],
"source": [
"clear;\n",
"clc;\n",
"b = 6;// inches \n",
"t = 1/2;// inch\n",
"R = 40;// feet\n",
"E = 13000;// tons/in^2\n",
"y = t/2;// inch\n",
"f = (E/(R*12))*(y);// tons/in^2\n",
"printf('The maximum intensity of stress induced is f = %.2f tons/in^2',f);"
   ]
   }
,
{
		   "cell_type": "markdown",
		   "metadata": {},
		   "source": [
			"## Example 5.20: Chapter_5_example_20.sce"
		   ]
		  },
  {
"cell_type": "code",
	   "execution_count": null,
	   "metadata": {
	    "collapsed": true
	   },
	   "outputs": [],
"source": [
"clear;\n",
"clc;\n",
"b1 = 7/2;// inches\n",
"d1 = 7/2;// inches\n",
"t1 = 3/8;// inches\n",
"l = 18;// inches\n",
"I_xx1 = 2.80;// in^4\n",
"I_yy1 = 2.80;// in^4\n",
"J = 1;// inch\n",
"A = 2.49;// in^2\n",
"I_xx = 4*(I_xx1 + A*(l/2 - J)^2);// in^4\n",
"k_xx = sqrt(I_xx/(4*A));// inches\n",
"printf('I_xx = %.2f in^4\n k_xx = %.1f inches',I_xx,k_xx);"
   ]
   }
,
{
		   "cell_type": "markdown",
		   "metadata": {},
		   "source": [
			"## Example 5.21: Chapter_5_example_21.sce"
		   ]
		  },
  {
"cell_type": "code",
	   "execution_count": null,
	   "metadata": {
	    "collapsed": true
	   },
	   "outputs": [],
"source": [
"clear;\n",
"clc;\n",
"b1 = 12;// inches\n",
"d1 = 4;// inches\n",
"A = 9.21;// in^2\n",
"I_xx1 = 200.1;// in^4\n",
"P = 1.055;// inches\n",
"I_yy1 = 12.12;// in^4\n",
"I_xx = 2*I_xx1;\n",
"//for equal strength I_xx = I_yy\n",
"x = 2*(sqrt(((I_xx/2)-I_yy1)/A) - P);// in^4\n",
"printf('x = %.2f inches',x);\n",
"\n",
"//answer is corrct only, but it is approximated in the text book."
   ]
   }
,
{
		   "cell_type": "markdown",
		   "metadata": {},
		   "source": [
			"## Example 5.22: Chapter_5_example_22.sce"
		   ]
		  },
  {
"cell_type": "code",
	   "execution_count": null,
	   "metadata": {
	    "collapsed": true
	   },
	   "outputs": [],
"source": [
"clear;\n",
"clc;\n",
"d =10;// inches\n",
"b = 8;// inches\n",
"t1 = 1;// inch\n",
"t2 = 0.6;// inch\n",
"I = (1/12)*(b*d^3 - (b-t2)*b^3);// in^4\n",
"//(i) Resistance to  M\n",
"R1 = integrate('(t2/I)*y^2','y',-4,4);\n",
"//(ii) Resistance to F\n",
"R2 = integrate('(4/I)*(25-y^2)','y',4,5);\n",
"printf('The moment of resistance offered by the flanges is %.3fM. The flanges take up %.1f percentage of the B.M.,\n the web resisting only %.1f percentage of the B.M',1-R1,(1-R1)*100,R1*100);\n",
"printf('\n The shear borne by the web is %.4fF. The web thus takes up %.2f percentage of the shear force.,\n the flanges resisting only %.2f percentage of the shear force',(1-2*R2),(1-2*R2)*100,2*R2*100);"
   ]
   }
,
{
		   "cell_type": "markdown",
		   "metadata": {},
		   "source": [
			"## Example 5.23: Chapter_5_example_23.sce"
		   ]
		  },
  {
"cell_type": "code",
	   "execution_count": null,
	   "metadata": {
	    "collapsed": true
	   },
	   "outputs": [],
"source": [
"clear;\n",
"clc;\n",
"b = 14;// inches\n",
"d = 6;// inches\n",
"t1 = 0.7;// inch\n",
"t2 = 0.4;// inch\n",
"F = 20;// tons\n",
"I = (1/12)*(d*b^3 - (d-t2)*(b-2*t1)^3);// in^4\n",
"q = F*t1*0.5*(0.5*b + (0.5*b-t1))/I;// ton/in^2\n",
"q_max = (F/(I*t2))*(d*t1*0.5*(0.5*b + (0.5*b-t1)) + t2*(0.5*b-t1)*(0.5*b-t1)*0.5);// tons/in^2\n",
"printf('The maximum intensity of shear stress is q_max = %.2f tons/in^2',q_max);"
   ]
   }
,
{
		   "cell_type": "markdown",
		   "metadata": {},
		   "source": [
			"## Example 5.24: Chapter_5_example_24.sce"
		   ]
		  },
  {
"cell_type": "code",
	   "execution_count": null,
	   "metadata": {
	    "collapsed": true
	   },
	   "outputs": [],
"source": [
"clear;\n",
"clc;\n",
"b = 4;// inches\n",
"d = 13/2;// inches\n",
"t = 1/2;// inch\n",
"a = 4;// inches\n",
"F = 10;// tons\n",
"a1 = b*t;// in^2\n",
"y1 = t/2;// inch\n",
"a2 = (d-t)*t;// in^2\n",
"y2 = t+0.5*(d-t);// inches\n",
"y_bar = (a1*y1+a2*y2)/(a1+a2);// inches\n",
"I_AB = (1/3)*b*t^3 + (1/12)*t*(d-t)^3 + (b-2*t)*(b-t)^2;// in^4\n",
"I_xx = I_AB - (a1+a2)*y_bar^2;// in^4\n",
"q = (F/(b*I_xx))*b*t*(y_bar-0.5*t);// ton/in^2\n",
"q_max = (F/(t*I_xx))*(b*t*(y_bar-0.5*t) + 0.5*t*(y_bar-t)*(y_bar-t));// tons/in^2\n",
"printf('The maximum intensity of shear stress at the N.A is q_max = %.2f tons/in^2',q_max);"
   ]
   }
,
{
		   "cell_type": "markdown",
		   "metadata": {},
		   "source": [
			"## Example 5.25: Chapter_5_example_25.sce"
		   ]
		  },
  {
"cell_type": "code",
	   "execution_count": null,
	   "metadata": {
	    "collapsed": true
	   },
	   "outputs": [],
"source": [
"clear;\n",
"clc;\n",
"function [p1, p2,theta] = func(p,q)\n",
"    p1 = 0.5*p + sqrt(q^2 + 0.25*p^2);\n",
"    p2 = 0.5*p - sqrt(q^2 + 0.25*p^2);\n",
"    theta = 0.5*atan(2*q/p) * 180/%pi;\n",
"endfunction\n",
"b = 5;// inches\n",
"d = 12;// inches\n",
"F = 4800 ;// lb-wt\n",
"M = 192000;// lb-inches\n",
"I = (1/12)*b*d^3;// in^4\n",
"\n",
"//At 6 inches above the N.A\n",
"p6 = M*6/I ; // lb/in^2\n",
"q6 = 0;\n",
"[p1_6,p2_6,theta6] = func(p6,q6);\n",
"\n",
"//At 4 inches above the N.A\n",
"p4 = M*4/I;// lb/in^2\n",
"q4 = (F/(I*b))*b*(0.5*d-4)*b;\n",
"[p1_4,p2_4,theta4] = func(p4,q4);\n",
"\n",
"//At 2 inches above the N.A\n",
"p2 = M*2/I;// lb/in^2\n",
"q2 = (F/(I*b))*b*(0.5*d-2)*4;\n",
"[p1_2,p2_2,theta2] = func(p2,q2);\n",
"\n",
"//At the N.A\n",
"p = 0;//\n",
"q = F*b*0.5^3*d^2/(I*b);// lb/in^2\n",
"p1 = q;// lb/in^2\n",
"p2 = -q;// lb/in^2\n",
"\n",
"printf('At 6 inches above the N.A, p1 = %d lb/in^2., compressive, and p2 = %d ',p1_6,p2_6);\n",
"printf('\n At 4 inches above the N.A, p1 = %.1f lb/in^2., compressive, and p2 = %.2f lb/in^2 .,tensile\n theta1 = %.2f degrees \n theta2 = %.2f degrees',p1_4,-p2_4,theta4,theta4+90);\n",
"printf('\n At 2 inches above the N.A, p1 = %.2f lb/in^2., compressive, and p2 = %.2f lb/in^2.,tensile\n theta1 = %.2f degrees \n theta2 = %.2f degrees',p1_2,-p2_2,theta2,theta2+90);\n",
"printf('\n At the N.A, p1 = %d lb/in^2., compressive, and p2 = %d.,tensile ',p1,-p2);\n",
"\n",
"//there is an error in the answer given in text book"
   ]
   }
,
{
		   "cell_type": "markdown",
		   "metadata": {},
		   "source": [
			"## Example 5.26: Chapter_5_example_26.sce"
		   ]
		  },
  {
"cell_type": "code",
	   "execution_count": null,
	   "metadata": {
	    "collapsed": true
	   },
	   "outputs": [],
"source": [
"clear;\n",
"clc;\n",
"b = 10;// inches\n",
"d = 8;// inches\n",
"t1 = 1;// inch\n",
"t2 = 0.6;// inch\n",
"M = 500;// ton-inches\n",
"F = 25;// tons\n",
"I = (1/12)*(d*b^3 - (d-t2)*d^3);// in^4\n",
"\n",
"//At the top\n",
"p = M*b/(2*I);// tons/in^2\n",
"q = 0;\n",
"p1 = p;// tons/in^2\n",
"p2 = 0;\n",
"printf('At the top, principal stresses are \n p1 = %.2f tons/in^2\n p2 = %d tons/in^2',p1,p2);\n",
"\n",
"//In the web, 4 inches from the N.A\n",
"p = M*d/(2*I);// tons/in^2\n",
"q = F*d*t1*0.5*(d+t1)/(I*t2);// tons/in^2\n",
"theta = 0.5*atan(2*q/p);\n",
"theta1 = theta*180/%pi;\n",
"theta2 = theta1+90;\n",
"p1 = 0.5*p + sqrt(q^2 + 0.25*p^2);// tons/in^2\n",
"p2 = 0.5*p - sqrt(q^2 + 0.25*p^2);// tons/in^2\n",
"printf('\n In the web, 4 inches from the N.A.:\n The principal stresse are p1 = %.2f tons/in^2.,compressive\n p2 = %.2f tons/in^2.,tensile\n theta1 = %.1f degrees\n theta2 = %.1f degrees',p1,-p2,theta1,theta2);\n",
"\n",
"//At the N.A\n",
"p = 0;\n",
"q = (F/(I*t2))*(d*t1*0.5*(d+t1) + t2*0.5*d*2*t1);\n",
"p1 = q;// tons/in^2\n",
"p2 = -q;//tons/in^2\n",
"printf('\n The principal stresse across the diagonal are %.2f tons/in^2., compressive on one plane and %.2f tons/in^2., tensile on the other.',q,q);\n",
"\n",
"//there is an error in the answer given in text book"
   ]
   }
,
{
		   "cell_type": "markdown",
		   "metadata": {},
		   "source": [
			"## Example 5.27: Chapter_5_example_27.sce"
		   ]
		  },
  {
"cell_type": "code",
	   "execution_count": null,
	   "metadata": {
	    "collapsed": true
	   },
	   "outputs": [],
"source": [
"clear;\n",
"clc;\n",
"W = 10;// tons\n",
"l = 16;// feet\n",
"f = 15/2;// tons/in^2\n",
"//section modulus required\n",
"SM = W*l*12/(8*f);// in^3\n",
"//for this section modulus \n",
"l1 = 12;// inches\n",
"b1 = 5;// inches\n",
"t1 = 0.55;// inches\n",
"t2 = 0.35;// inches\n",
"I_xx = 220;// in^4\n",
"F_max = 5;// tons\n",
"q_max = (F_max/(I_xx*t2))*(F_max*t1*(0.5*l1-0.5*t1) + t2*0.5*(0.5*l1-t1)^2);// tons/in^2\n",
"printf('The maximum intensity of shear stress is q_max = %.2f tons/in^2',q_max);"
   ]
   }
,
{
		   "cell_type": "markdown",
		   "metadata": {},
		   "source": [
			"## Example 5.28: Chapter_5_example_28.sce"
		   ]
		  },
  {
"cell_type": "code",
	   "execution_count": null,
	   "metadata": {
	    "collapsed": true
	   },
	   "outputs": [],
"source": [
"clear;\n",
"clc;\n",
"b = 9/2;// inches\n",
"D = 12;// inches\n",
"d = 10;// inches\n",
"t = 1/2;// inches\n",
"f_w = 1000;// lb/in^2\n",
"m = 18;//m = E_s/E_w\n",
"f_t = m*d*f_w/D ;// lb/in^2\n",
"M_w = f_w*(1/6)*2*b*D^2;// lb-inches\n",
"M_s = f_t*(1/6)*t*d^2;// lb-inches\n",
"M = M_w + M_s;// lb-inches\n",
"printf('Skin stresse in steel plate is, M_s = %d lb-inches\n The total moment of resistance is M = %d lb-inches',M_s,M);"
   ]
   }
,
{
		   "cell_type": "markdown",
		   "metadata": {},
		   "source": [
			"## Example 5.2: Chapter_5_example_2.sce"
		   ]
		  },
  {
"cell_type": "code",
	   "execution_count": null,
	   "metadata": {
	    "collapsed": true
	   },
	   "outputs": [],
"source": [
"clear;\n",
"clc;\n",
"d = 14;// inches\n",
"I = 442.57;//inch units\n",
"f = 8;// tons/in^2\n",
"E = 13000;// tons/in^2\n",
"R = E*d/(2*f);// inches\n",
"M_r = f*(I/(d/2));// ton-inches\n",
"printf('The radius to which it should be bent is R = % d inches or %.1f feet',R,R/12);\n",
"printf('\n The moment of resistance is M_r = %.1f ton-inches',M_r);"
   ]
   }
,
{
		   "cell_type": "markdown",
		   "metadata": {},
		   "source": [
			"## Example 5.3: Chapter_5_example_3.sce"
		   ]
		  },
  {
"cell_type": "code",
	   "execution_count": null,
	   "metadata": {
	    "collapsed": true
	   },
	   "outputs": [],
"source": [
"clear;\n",
"clc;\n",
"d = 16;// inches\n",
"I = 618;// inch units\n",
"l = 24;// feet\n",
"f = 15/2;// tons/in^2\n",
"Z = I/(d/2);// inch-units\n",
"M_r = f*Z;// ton-inches\n",
"//If the load is uniformly spread over its span,BM  = W*l/8\n",
"W1 = 8*M_r/(12*l);//tons\n",
"//If the load is concentrated at the centre,BM  = W*l/4\n",
"W2 = 4*M_r/(12*l);//tons\n",
"printf('If the load is uniformly spread over its span, then W is given by \n W = %.1f tons\n   = %.3f ton per foot run',W1,W1/l);\n",
"printf('\n If the load is concentrated at the centre, then W is given by\n W = %.2f tons',W2);"
   ]
   }
,
{
		   "cell_type": "markdown",
		   "metadata": {},
		   "source": [
			"## Example 5.4: Chapter_5_example_4.sce"
		   ]
		  },
  {
"cell_type": "code",
	   "execution_count": null,
	   "metadata": {
	    "collapsed": true
	   },
	   "outputs": [],
"source": [
"clear;\n",
"clc;\n",
"d = 20;// inches\n",
"I = 1673;// inch units\n",
"W = 3/4;// ton per foot run\n",
"f = 8;// tons/in^2\n",
"Z = I/(d/2);// inch-units\n",
"M_r = f*Z;// ton-inches\n",
"l = sqrt(M_r*32/(3*12));//feet\n",
"printf('The maximum permissible span for this beam is l = %.2f feet',l);"
   ]
   }
,
{
		   "cell_type": "markdown",
		   "metadata": {},
		   "source": [
			"## Example 5.5: Chapter_5_example_5.sce"
		   ]
		  },
  {
"cell_type": "code",
	   "execution_count": null,
	   "metadata": {
	    "collapsed": true
	   },
	   "outputs": [],
"source": [
"clear;\n",
"clc;\n",
"function [M,f]=func(W,l,d,b,Z)\n",
"    M = 0.5*W*d - (W/l)*d*b;\n",
"    f = M*12/Z;\n",
"endfunction\n",
"b = 6;// inches\n",
"d = 12;// inches\n",
"l = 16;// feet\n",
"W = 6000;// lb-wt\n",
"Z = (1/6)*b*d^2;\n",
"d1 = 2;// feet\n",
"d2 = 4;// feet\n",
"d3 = 6;// feet\n",
"d4 = 8;// feet\n",
"b1 = 1// feet\n",
"b2 = 2;// feet\n",
"b3 = 3;// feet\n",
"b4 = 4;// feet\n",
"[M2,f2] = func(W,l,d1,b1,Z);\n",
"[M4,f4] = func(W,l,d2,b2,Z);\n",
"[M6,f6] = func(W,l,d3,b3,Z);\n",
"[M8,f8] = func(W,l,d4,b4,Z);\n",
"printf('At %d feet,M2 = %d lb-feet and f2 = %.1f lb/in^2\n At %d feet,M4 = %d lb-feet and f4 = %d lb/in^2 \n At %d feet,M4 = %d lb-feet and f6 = %.1f lb/in^2\n At %d feet,M4 = %d lb-feet and f8 = %d lb/in^2\n',d1,M2,f2,d2,M4,f4,d3,M6,f6,d4,M8,f8);\n",
""
   ]
   }
,
{
		   "cell_type": "markdown",
		   "metadata": {},
		   "source": [
			"## Example 5.6: Chapter_5_example_6.sce"
		   ]
		  },
  {
"cell_type": "code",
	   "execution_count": null,
	   "metadata": {
	    "collapsed": true
	   },
	   "outputs": [],
"source": [
"clear;\n",
"clc;\n",
"w = 160;// lb. per sq. foot\n",
"b = 3;// inches\n",
"d = 9;// inches\n",
"l = 15;// feet\n",
"f = 1200;// lb. per sq. inch\n",
"Z = (1/6)*b*d^2;// in^3\n",
"M_r = f*Z;// lb-inches\n",
"x = M_r/(w*l^2*12/8);// feet\n",
"printf('x = %.1f feet',x);\n",
"\n",
"//The answer is correct only, but it is approximated in the text book"
   ]
   }
,
{
		   "cell_type": "markdown",
		   "metadata": {},
		   "source": [
			"## Example 5.7: Chapter_5_example_7.sce"
		   ]
		  },
  {
"cell_type": "code",
	   "execution_count": null,
	   "metadata": {
	    "collapsed": true
	   },
	   "outputs": [],
"source": [
"clear;\n",
"clc;\n",
"l = 20;// feet\n",
"b = 9;// inches\n",
"h = 10;// feet\n",
"w = 120;// lb. per cub. foot\n",
"f = 1100;// lb/in^2\n",
"W = w*(3/4)*l*h;// lb-wt\n",
"BM_max = W*l*12/8;// lb-inches\n",
"//assumnig d = 2b\n",
"b = (6*BM_max/(f*4))^(1/3);// inches\n",
"d = 2*b;// inches\n",
"printf('b = %.2f inches\n d = %.2f inches',b,d);\n",
"printf('\n A section %d X %d will therfore do.',b,d);"
   ]
   }
,
{
		   "cell_type": "markdown",
		   "metadata": {},
		   "source": [
			"## Example 5.8: Chapter_5_example_8.sce"
		   ]
		  },
  {
"cell_type": "code",
	   "execution_count": null,
	   "metadata": {
	    "collapsed": true
	   },
	   "outputs": [],
"source": [
"clear;\n",
"clc;\n",
"B = 5;// inches\n",
"D = 12;// inches\n",
"t1 = 0.55;// inches\n",
"t2 = 0.35;// inches\n",
"f = 15/2;// tons/in^2\n",
"l = 16;// feet\n",
"b = B-t2;// inches\n",
"d = D-2*t1;// inches\n",
"I_xx = (B*D^3 - b*d^3)/12;// in^4\n",
"Z = I_xx/6;// in^3\n",
"M_r = f*Z;// ton-inches\n",
"W = M_r/(l*12/8);// tons\n",
"w = W/l;// ton per foot run\n",
"printf('W = %.2f tons\n w = %.2f ton per foot run',W,w);"
   ]
   }
,
{
		   "cell_type": "markdown",
		   "metadata": {},
		   "source": [
			"## Example 5.9: Chapter_5_example_9.sce"
		   ]
		  },
  {
"cell_type": "code",
	   "execution_count": null,
	   "metadata": {
	    "collapsed": true
	   },
	   "outputs": [],
"source": [
"clear;\n",
"clc;\n",
"D = 19.5;// inches\n",
"d = 18;// inches\n",
"l = 30;// feet\n",
"t1 = 3/4;// inch\n",
"rho1 = 450;// lb. per cub. foot\n",
"rho2 = 62.5;// lb. per cub. foot\n",
"A = 0.25*%pi*(D^2 - d^2);// sq. in\n",
"DW = rho1*l*A/144;// lb-wt\n",
"WW = rho2*0.25*%pi*(D-d)^2*l;// lb-wt\n",
"W = DW+WW;// lb-wt\n",
"BM_max = W*l*0.0004467202*12/8;// ton-inches\n",
"I_xx = (%pi/64)*(D^4 - d^4);// in^4\n",
"Z_xx = I_xx/(0.5*d+t1);// ton/in^2\n",
"f = BM_max/Z_xx;// ton/in^2\n",
"printf('The maximum stress f = %.3f ton/in^2',f);\n",
"\n",
"//there is an error in the answer given in text book"
   ]
   }
],
"metadata": {
		  "kernelspec": {
		   "display_name": "Scilab",
		   "language": "scilab",
		   "name": "scilab"
		  },
		  "language_info": {
		   "file_extension": ".sce",
		   "help_links": [
			{
			 "text": "MetaKernel Magics",
			 "url": "https://github.com/calysto/metakernel/blob/master/metakernel/magics/README.md"
			}
		   ],
		   "mimetype": "text/x-octave",
		   "name": "scilab",
		   "version": "0.7.1"
		  }
		 },
		 "nbformat": 4,
		 "nbformat_minor": 0
}
