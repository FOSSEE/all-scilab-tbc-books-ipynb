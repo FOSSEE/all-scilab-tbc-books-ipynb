{
"cells": [
 {
		   "cell_type": "markdown",
	   "metadata": {},
	   "source": [
       "# Chapter 10: Radial pressure cylindrical and spherical shells"
	   ]
	},
{
		   "cell_type": "markdown",
		   "metadata": {},
		   "source": [
			"## Example 10.10: Chapter_10_example_10.sce"
		   ]
		  },
  {
"cell_type": "code",
	   "execution_count": null,
	   "metadata": {
	    "collapsed": true
	   },
	   "outputs": [],
"source": [
"clear;\n",
"clc;\n",
"d = 9;// inches\n",
"p = 5000/2240;// lb/in^2\n",
"f = 8;// tons/in^2\n",
"PR = 0.3;// Poisson's ratio\n",
"//(i) Maximum principal stress hypothesis:\n",
"k_limit1 = sqrt((f + p)/(f - p));//k_limit = r1/r2\n",
"r_limit1 = k_limit1*0.5*d;//inches\n",
"printf('The outer radius in case(i), r2 = %.3f inches',r_limit1);\n",
"//(ii) Maximum principal strain:\n",
"k_limit2 = sqrt(((f/p - PR)+1)/(f/p - PR -1));\n",
"r_limit2 = k_limit2*0.5*d;// inches\n",
"printf('\n The outer radius in case(ii), r2 = %.3f inches',r_limit2);\n",
"//(iii) Maximum shear stress:\n",
"k_limit3 = sqrt(f/(2*p) /((f/(2*p)) - 1));\n",
"r_limit3 = k_limit3*0.5*d;// inches\n",
"printf('\n The outer radius in case(iii), r2 = %.3f inches',r_limit3);\n",
"//(iv) Maximum strain energy\n",
"K1 = (f^2 /p^2)/(2*((f^2 /(2*p^2)) - (1+PR)));\n",
"K2 = K1^2;\n",
"K3 = ((f^2 /(2*p^2)) - (1-PR))/((f^2 /(2*p^2)) - (1+PR));\n",
"k_limit4 = sqrt(K1+sqrt(K2-K3));\n",
"r_limit4 = k_limit4*0.5*d;// inches\n",
"printf('\n The outer radius in case(iv), r2 = %.3f inches',r_limit4);\n",
"\n",
"//there are calculation errors in the answer given in text book"
   ]
   }
,
{
		   "cell_type": "markdown",
		   "metadata": {},
		   "source": [
			"## Example 10.11: Chapter_10_example_11.sce"
		   ]
		  },
  {
"cell_type": "code",
	   "execution_count": null,
	   "metadata": {
	    "collapsed": true
	   },
	   "outputs": [],
"source": [
"clear;\n",
"clc;\n",
"r1 = 0.5*6;// inches\n",
"r2 = 0.5*12;// inches\n",
"r3 = 0.5*10;// inches\n",
"p = 1500;// lb/in^2\n",
"p_f = 12000;// lb/in^2\n",
"//Initially, for the inner tube\n",
"b = -p/((1/r1^2) - (1/r3^2));\n",
"a = b/r1^2;\n",
"f_3 = (b/r1^2) +a;// lb/in^2\n",
"f_5 = (b/r3^2) +a;// lb/in^2\n",
"//for the outer tube\n",
"b1 = p/((1/r3^2)-(1/r2^2));\n",
"a1 = b1/r2^2;\n",
"f1_5 = (b1/r3^2)+a1;// lb/in^2\n",
"f1_6 = (b1/r2^2)+a1;// lb/in^2\n",
"//When the fluid pressure of 12000 lb/in^2, is admitted into the compound tube\n",
"B = p_f/((1/r1^2)-(1/r2^2));\n",
"A = B/(r2^2);\n",
"f_3_ = (B/r1^2)+A;// lb/in^2\n",
"f_5_ = (B/r3^2)+A;// lb/in^2\n",
"f_6_ = (B/r2^2)+A;// lb/in^2\n",
"printf('The hoop stresse are');\n",
"printf('\n at x = 3 inches,x = 5 inches initially on inner tube are %.1f lb/in^2.., compressive,  %.1f lb/in^2..,compressive respectively',-f_3,-f_5);\n",
"printf('\n at x = 5 inches,x = 6 inches initially on outer tube are %.1f lb/in^2.., tensile,  %.1f lb/in^2..,tensile respectively',f1_5,f1_6);\n",
"printf('\n at x = 3 inches,x = 5 inches and x = 6 inches due to fluid pressure are %d lb/in^2.., tensile,  %d lb/in^2..,tensile, and %d lb/in^2..,tensile respectively',f_3_,f_5_,f_6_')\n",
"printf('\n at x = 3 inches,x = 5 inches finally on inner tube are %.1f lb/in^2.., tensile,  %.1f lb/in^2..,tensile respectively',f_3_+f_3,f_5_+f_5);\n",
"printf('\n at x = 5 inches,x = 6 inches finally on outer tube are %d lb/in^2.., tensile,  %d lb/in^2.., tensile respectively',f1_5+f_5_,f1_6+f_6_);"
   ]
   }
,
{
		   "cell_type": "markdown",
		   "metadata": {},
		   "source": [
			"## Example 10.12: Chapter_10_example_12.sce"
		   ]
		  },
  {
"cell_type": "code",
	   "execution_count": null,
	   "metadata": {
	    "collapsed": true
	   },
	   "outputs": [],
"source": [
"clear;\n",
"clc;\n",
"p = 1500;// lb/in^2\n",
"E = 30*10^6;// lb/in^2\n",
"f1_5 = 8318;// lb/in^2\n",
"f2_5 = 3187.5;// lb/in^2\n",
"alpha = 0.0000062;// per F\n",
"r3 = 6;// inches\n",
"del_r3 = r3*(f1_5+f2_5)/E;// inches\n",
"t = ((f1_5+f2_5)/E)/(alpha);// inches\n",
"printf('The minimum temperature to which outer tube should be heated before it can be slipped on, t = %.2f F',t);"
   ]
   }
,
{
		   "cell_type": "markdown",
		   "metadata": {},
		   "source": [
			"## Example 10.13: Chapter_10_example_13.sce"
		   ]
		  },
  {
"cell_type": "code",
	   "execution_count": null,
	   "metadata": {
	    "collapsed": true
	   },
	   "outputs": [],
"source": [
"clear;\n",
"clc;\n",
"r1 = 0.5*9;// inches\n",
"r2 = 0.5*3;// inches\n",
"r3 = 0.5*6;// inches\n",
"del_r3 = 0.5*0.003;// inches\n",
"E = 13000;// tons/in^2\n",
"k1 = r1/r3;\n",
"k2 = r2/r3;\n",
"a1 = (del_r3/r3)*E/((k1^2 +1)- (k2^2 +1)*(k1^2 -1)/(k2^2 -1));\n",
"a = a1*(k1^2 -1)/(k2^2 -1);\n",
"b1 = a1*r1^2;\n",
"b = a*r2^2;\n",
"p_ = (b/r3^2) -a;// tons/in^2\n",
"// for the inner tube\n",
"f_x1 = (b/r2^2) +a;// tons/in^2\n",
"f_x2 = (b/r3^2) +a;// tons/in^2\n",
"// for the outer tube\n",
"f_x3 = (b1/r3^2) +a1;// tons/in^2\n",
"f_x4 = (b1/r1^2) +a1;// tons/in^2\n",
"printf('The hoop stresses are as under:');\n",
"printf('\n For the inner tube, at x = 1/5 inches, f = %.2f tons/in^2., compressive\n   at x = 3 inches, f = %.2f tons/in^2.,compressive',-f_x1,-f_x2);\n",
"printf('\n For the outer tube, at x = 3 inches, f = %.2f tons/in^2., tensile\n   at x = 4.5 inches, f = %.2f tons/in^2.,tensile',f_x3,f_x4);"
   ]
   }
,
{
		   "cell_type": "markdown",
		   "metadata": {},
		   "source": [
			"## Example 10.14: Chapter_10_example_14.sce"
		   ]
		  },
  {
"cell_type": "code",
	   "execution_count": null,
	   "metadata": {
	    "collapsed": true
	   },
	   "outputs": [],
"source": [
"clear;\n",
"clc;\n",
"r1 = 0.5*5;// inches\n",
"p = 5000;// lb/in^2\n",
"f = 5;// tons/in^2\n",
"b = (f + p/2240)/((1/r1^3) + (2/r1^3));\n",
"a = f - (b/r1^3);\n",
"//external diameter\n",
"r = (2*b/a)^(1/3);// inches\n",
"t = r - r1;// inches\n",
"printf('The thickness of the shell required, t = %.3f inches',t);\n",
"\n",
"//the answer is approximated in the text book"
   ]
   }
,
{
		   "cell_type": "markdown",
		   "metadata": {},
		   "source": [
			"## Example 10.1: Chapter_10_example_1.sce"
		   ]
		  },
  {
"cell_type": "code",
	   "execution_count": null,
	   "metadata": {
	    "collapsed": true
	   },
	   "outputs": [],
"source": [
"clear;\n",
"clc;\n",
"d = 2;// feet\n",
"p = 250;// lb/in^2\n",
"f = 12000;// lb/in^2\n",
"t_limit = p*d*12/(2*f) ;// inches\n",
"printf('The necessary thickness of metal for seamless pipe is %.2f inches',t_limit);"
   ]
   }
,
{
		   "cell_type": "markdown",
		   "metadata": {},
		   "source": [
			"## Example 10.2: Chapter_10_example_2.sce"
		   ]
		  },
  {
"cell_type": "code",
	   "execution_count": null,
	   "metadata": {
	    "collapsed": true
	   },
	   "outputs": [],
"source": [
"clear;\n",
"clc;\n",
"l = 8;//feet\n",
"d = 3;// feet\n",
"t = 1/2;// inches\n",
"p = 200;// lb/in^2\n",
"E = 30*10^6;// lb/in^2\n",
"PR = 0.3;// poisson's ratio\n",
"f1 = p*d*12/(2*t);// lb/in^2\n",
"f2 = p*d*12/(4*t);// lb/in^2\n",
"f_s = 0.5*(f1-f2);// lb/in^2\n",
"e1 = (f1/E)-(PR*f2/E);// lb/in^2\n",
"e2 = (f2/E)-(PR*f1/E);// lb/in^2\n",
"del_d = e1*d*12;// inches\n",
"del_l = e2*l*12;// inches\n",
"del_V = (e2+2*e1)*0.25*%pi*(12*d)^2 * l*12;// cub. inches\n",
"printf('Maximum intensity of shear stress induced = %d lb/in^2',f_s);\n",
"printf('\n del_d = %.6f inches\n del_l = %.6f inches\n del_V = %.1f cub. inches',del_d,del_l,del_V);"
   ]
   }
,
{
		   "cell_type": "markdown",
		   "metadata": {},
		   "source": [
			"## Example 10.3: Chapter_10_example_3.sce"
		   ]
		  },
  {
"cell_type": "code",
	   "execution_count": null,
	   "metadata": {
	    "collapsed": true
	   },
	   "outputs": [],
"source": [
"clear;\n",
"clc;\n",
"d = 30;// inches\n",
"H = 300;// feet\n",
"w = 62.5;\n",
"f = 2800;\n",
"//intensity of water pressur\n",
"p = w*H/144;// lb/in^2\n",
"t_limit = p*d/(2*f);// inches\n",
"printf('Thickness of metal required is %.4f inches',t_limit);\n",
"\n",
"//the answer is correct only, but it is approximated in the text book."
   ]
   }
,
{
		   "cell_type": "markdown",
		   "metadata": {},
		   "source": [
			"## Example 10.4: Chapter_10_example_4.sce"
		   ]
		  },
  {
"cell_type": "code",
	   "execution_count": null,
	   "metadata": {
	    "collapsed": true
	   },
	   "outputs": [],
"source": [
"clear;\n",
"clc;\n",
"d = 78;// inches\n",
"t = 3/4;// inches\n",
"n1 = 70/100;// efficiency of the longitudinal riveted joint\n",
"f = 6;// tons/in^2\n",
"n2 = 60/100;// efficiency of the circumferential riveted joint\n",
"p = f*2240/(d/(2*t*n1));//lb/in^2\n",
"p = round(p-1);\n",
"f1 = p*d/(2*t);// lb/in^2\n",
"f2 = p*d/(4*t*n2);// lb/in^2\n",
"printf('The permissible steam pressure, p = %d lb/in^2',p);\n",
"printf('\n The circumferential stress, f1 = %d lb/in^2 = %.2f tons/in^2',f1,f1/2240);\n",
"printf('\n The longitudinal stress, f2 = %d lb/in^2 = %.2f tons/in^2',f2,f2/2240);"
   ]
   }
,
{
		   "cell_type": "markdown",
		   "metadata": {},
		   "source": [
			"## Example 10.5: Chapter_10_example_5.sce"
		   ]
		  },
  {
"cell_type": "code",
	   "execution_count": null,
	   "metadata": {
	    "collapsed": true
	   },
	   "outputs": [],
"source": [
"clear;\n",
"clc;\n",
"d = 4;// feet\n",
"p = 200;// lb/in^2\n",
"f = 15000;// lb/in^2\n",
"n = 0.7;// efficiency\n",
"t_limit = p*d*12/(4*f*n);// inches\n",
"printf('The thickness of the plate required = %.2f inches',t_limit);\n",
"\n",
"//the answer is correct only, but it is approximated in the text book."
   ]
   }
,
{
		   "cell_type": "markdown",
		   "metadata": {},
		   "source": [
			"## Example 10.6: Chapter_10_example_6.sce"
		   ]
		  },
  {
"cell_type": "code",
	   "execution_count": null,
	   "metadata": {
	    "collapsed": true
	   },
	   "outputs": [],
"source": [
"clear;\n",
"clc;\n",
"d = 3;// feet\n",
"t = 1/4;// inches\n",
"del_V = 9;// cub. inches\n",
"E = 30*10^6;// lb/in^2\n",
"PR = 0.3;// poisson's ratio\n",
"V = (%pi/6)*(12*d)^3;// in^3\n",
"k = del_V/V;\n",
"f = k*E/(3*(1-PR));// lb/in^2\n",
"p = 4*f*t/(12*d);// lb/in^2\n",
"printf('The pressure exerted by fluid on the shell, p = %d lb/in^2',p);\n",
"\n",
"//there is a minute calculation error in the answer given in text book"
   ]
   }
,
{
		   "cell_type": "markdown",
		   "metadata": {},
		   "source": [
			"## Example 10.7: Chapter_10_example_7.sce"
		   ]
		  },
  {
"cell_type": "code",
	   "execution_count": null,
	   "metadata": {
	    "collapsed": true
	   },
	   "outputs": [],
"source": [
"clear;\n",
"clc;\n",
"d = 12;// feet\n",
"t = 1/2;// inches\n",
"d1 = 1/4;// inches\n",
"p = 500;// lb/in^2\n",
"E_c = 6000;// tons/in^2\n",
"PR = 0.3;// Poisson's ratio\n",
"E_s = 13000;// tons/in^2\n",
"f_t = 8000;// lb/in^2\n",
"l = 8;\n",
"P_c = l*(%pi/64)*f_t;// lb-wt\n",
"f_c = P_c/(2*t);// lb/in^2\n",
"//bursting force per inch unit length\n",
"f_b = p*d;// lb-wt\n",
"f_p = (f_b + (l*0.049*PR*p*d/(4*t))*(E_s/E_c))/(1 + (l*0.049)*E_s/E_c);// lb/in^2 \n",
"f_w = (f_p - PR*p*d/(4*t))*E_s/E_c;// lb/in^2\n",
"printf('                  Pipe                         Steel-wire');\n",
"printf('\n Initually,    %d lb/in^2.,compr.          %d lb/in^2., tensile',f_c,f_t);\n",
"printf('\n Due to p,     %d lb/in^2.,tensile.        %d lb/in^2., tensile',f_p,f_w);\n",
"printf('\n Finally,      %d lb/in^2.,tensile.        %d lb/in^2., tensile',f_p-f_c,f_w+f_t);\n",
"\n",
"//there is a calculation error in the answer given in text book"
   ]
   }
,
{
		   "cell_type": "markdown",
		   "metadata": {},
		   "source": [
			"## Example 10.8: Chapter_10_example_8.sce"
		   ]
		  },
  {
"cell_type": "code",
	   "execution_count": null,
	   "metadata": {
	    "collapsed": true
	   },
	   "outputs": [],
"source": [
"clear;\n",
"clc;\n",
"d = 12;// inches\n",
"t = 3;// inches\n",
"p_x1 = 900;// lb/in^2\n",
"x1 = 0.5*d;// inches\n",
"p_x2 = 0;\n",
"x2 = 0.5*d+t;// inches\n",
"//from Lame's formulae\n",
"b = (p_x1-p_x2)/((1/x1^2)-(1/x2^2));\n",
"a = (b/x1^2)- p_x1;\n",
"f_x1 = (b/x1^2)+a;// lb/in^2\n",
"f_x2 = (b/x2^2)+a;// lb/in^2\n",
"printf('The maximum and minimum intensities of circumferential stresses are: f_6 = %d lb/in^2.,tensile\n   f_9 = %d lb/in^2., tensile',f_x1,f_x2);"
   ]
   }
,
{
		   "cell_type": "markdown",
		   "metadata": {},
		   "source": [
			"## Example 10.9: Chapter_10_example_9.sce"
		   ]
		  },
  {
"cell_type": "code",
	   "execution_count": null,
	   "metadata": {
	    "collapsed": true
	   },
	   "outputs": [],
"source": [
"clear;\n",
"clc;\n",
"d = 5;// inches\n",
"p = 3;// tons/in^2\n",
"f = 8;// tons/in^2\n",
"x = 0.5*d;// inches\n",
"b = (p+f)/(2/x^2);\n",
"a = f-(b/x^2); \n",
"r = sqrt(b/a);//outer radius\n",
"t = r-0.5*d;//thickness\n",
"D = 2*t+d;//outer diameter\n",
"printf('The thickness of metal necessary, t = %.3f inches',t);\n",
"printf('\n the outer diameter will be, D = %.1f inches',D);\n",
"\n",
"//the answer is correct, but it is approximated in the text book."
   ]
   }
],
"metadata": {
		  "kernelspec": {
		   "display_name": "Scilab",
		   "language": "scilab",
		   "name": "scilab"
		  },
		  "language_info": {
		   "file_extension": ".sce",
		   "help_links": [
			{
			 "text": "MetaKernel Magics",
			 "url": "https://github.com/calysto/metakernel/blob/master/metakernel/magics/README.md"
			}
		   ],
		   "mimetype": "text/x-octave",
		   "name": "scilab",
		   "version": "0.7.1"
		  }
		 },
		 "nbformat": 4,
		 "nbformat_minor": 0
}
