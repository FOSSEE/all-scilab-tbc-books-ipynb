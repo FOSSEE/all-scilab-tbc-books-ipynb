{
"cells": [
 {
		   "cell_type": "markdown",
	   "metadata": {},
	   "source": [
       "# Chapter 2: Principal planes and principal stresses"
	   ]
	},
{
		   "cell_type": "markdown",
		   "metadata": {},
		   "source": [
			"## Example 2.1: Chapter_2_example_1.sce"
		   ]
		  },
  {
"cell_type": "code",
	   "execution_count": null,
	   "metadata": {
	    "collapsed": true
	   },
	   "outputs": [],
"source": [
"clear;\n",
"clc;\n",
"p_1 = 5;//principal stress in tons/in^2\n",
"p_2 = 5/2;//principal stress in tons/in^2\n",
"theta = 50*%pi/180;//angle in degrees\n",
"p_n = p_1*cos(theta)^2+p_2*sin(theta)^2;//normal stress intensity\n",
"p_t = (p_1-p_2)*sin(theta)*cos(theta);//tangential stress intensity\n",
"p = sqrt((p_1*cos(theta))^2+(p_2*sin(theta))^2);//resultant intensity of stress\n",
"alpha = atan((p_2*sin(theta))/(p_1*cos(theta)));//in radians\n",
"alpha = alpha*180/%pi;//in degrees\n",
"printf('Normal stress intensity p_n = %.2f tons/in^2',p_n);\n",
"printf('\n Tangential stress intensity p_t = %.2f tons/in^2',p_t);\n",
"printf('\n Resultant stress intensity p = %.2f tons/in^2',p);\n",
"printf('\n angle alpha p_n = %.2f degrees',alpha);\n",
"\n",
"//there is an error in the answer given in text book"
   ]
   }
,
{
		   "cell_type": "markdown",
		   "metadata": {},
		   "source": [
			"## Example 2.3: Chapter_2_example_3.sce"
		   ]
		  },
  {
"cell_type": "code",
	   "execution_count": null,
	   "metadata": {
	    "collapsed": true
	   },
	   "outputs": [],
"source": [
"clear;\n",
"clc;\n",
"d = 3/4 ;//inches\n",
"P = 2;//tons\n",
"Q = 0.5;//tons\n",
"m = 4;\n",
"A = 0.25*%pi*d^2;//in^2\n",
"p = P/A ;//tons/in^2\n",
"q = Q/A;//tons/in^2\n",
"theta = 0.5*atan(2*q/p);//radians\n",
"theta1 = theta*180/%pi;//degrees\n",
"theta2 = theta1+90;//degrees\n",
"printf('The inclination of principal planes to the axis of the bolt will be %.2f degress and %.2f degrees respectively',theta1,180-theta2);\n",
"printf('\n The inclination of maximum shear planes to the axis of the bolt will be %.2f degress and %.2f degrees respectively',theta1+45,180-theta2-45);\n",
"p_1 = 0.5*p+sqrt(0.25*p^2+q^2);//tons/in^2\n",
"p_2 = 0.5*p-sqrt(0.25*p^2+q^2);//tons/in^2\n",
"p_max = 0.5*(p_1-p_2);//tons/in^2\n",
"p_s = p_1-(p_2/m);//tons/in^2 \n",
"printf('\n The principal stresse are given by p_1 = %.2f tons/in^2.,tensile\n  p_2 = %.2f tons/in^2\n  p_2 = %.2f tons/in^2 .,compressive',p_1,p_2,-p_2);\n",
"printf('\n Maximum shear stress is p_max = %.2f tons/in^2',p_max);\n",
"printf('\n The stress which acting alone will produce the same maximum strain is given by, %.2f tons/in^2',p_s);\n",
"\n",
"//there is an error in the answer given in text book"
   ]
   }
,
{
		   "cell_type": "markdown",
		   "metadata": {},
		   "source": [
			"## Example 2.4: Chapter_2_example_4.sce"
		   ]
		  },
  {
"cell_type": "code",
	   "execution_count": null,
	   "metadata": {
	    "collapsed": true
	   },
	   "outputs": [],
"source": [
"clear;\n",
"clc;\n",
"q = 2;//tons/in^2\n",
"p = 5;//tons/in^2\n",
"p_dash = 2;//tons/in^2\n",
"theta = 0.5*atan(2*q/(p-p_dash));//radians\n",
"theta1 = theta*180/%pi;//degrees\n",
"theta2 = theta1+90;//degrees\n",
"p_1 = 0.5*(p+p_dash)+sqrt(q^2 + 0.25*(p-p_dash)^2);//tons/in^2\n",
"p_2 = 0.5*(p+p_dash)-sqrt(q^2 + 0.25*(p-p_dash)^2);//tons/in^2\n",
"q_max = 0.5*(p_1-p_2);//tons/in^2\n",
"printf('The principal stresses are p_1 = %d tons/in^2 .,tensile\n  p_2 = %d tons/in^2., tensile',p_1,p_2);\n",
"printf('\n The maximum shear stress is %.1f tons/in^2., the planes offering it being inclined at %.2f degrees and %.2f degrees \n to the plane having the normal stress intensity of %d tons/in^2.',q_max,theta1+45,theta2+45,p);\n",
"//there is an error in the answer given in text book"
   ]
   }
,
{
		   "cell_type": "markdown",
		   "metadata": {},
		   "source": [
			"## Example 2.5: Chapter_2_example_5.sce"
		   ]
		  },
  {
"cell_type": "code",
	   "execution_count": null,
	   "metadata": {
	    "collapsed": true
	   },
	   "outputs": [],
"source": [
"clear;\n",
"clc;\n",
"p_res = 6;//tons/in^2\n",
"p_dash = 4;//tons/in^2\n",
"theta = 30*%pi/180;//degrees\n",
"p_n = 4;//tons/in^2\n",
"p = p_res*cos(theta);//tons/in^2\n",
"q = p_res*sin(theta);//tons/in^2\n",
"L = 2*q/(p-p_dash);\n",
"theta = 0.5*atan(2*q/(p-p_dash));\n",
"theta1 = theta*180/%pi;//degrees\n",
"theta2 = theta1+90;//degrees\n",
"p_1 = 0.5*(p+p_dash)+sqrt(q^2 + 0.25*(p-p_dash)^2);//tons/in^2\n",
"p_2 = 0.5*(p+p_dash)-sqrt(q^2 + 0.25*(p-p_dash)^2);//tons/in^2\n",
"p_max = 0.5*(p_1-p_2);//tons/in^2\n",
"printf('Theta1 = %.2f degrees and Theta2 = %.2f degrees',theta1,theta2);\n",
"printf('\n p_1 = %.2f tons/in^2.,tensile\n p_2 = %.2f tons/in^2.,tensile',p_1,p_2);\n",
"printf('\n The maximum shear intensity will be %.2f tons/in^2 across the planes of maximum shear.',p_max);"
   ]
   }
,
{
		   "cell_type": "markdown",
		   "metadata": {},
		   "source": [
			"## Example 2.6: Chapter_2_example_6.sce"
		   ]
		  },
  {
"cell_type": "code",
	   "execution_count": null,
	   "metadata": {
	    "collapsed": true
	   },
	   "outputs": [],
"source": [
"clear;\n",
"clc;\n",
"p_1 = 7;//tons/in^2\n",
"p_2 = 4;//tons/in^2\n",
"p_3 = 3;//tons/in^2\n",
"m = 4;\n",
"E = 13000;//tons/in^2\n",
"e_1 = (p_1/E)+(p_2/(m*E))-(p_3/(m*E));\n",
"e_2 = (p_2/E)+(p_1/(m*E))+(p_3/(m*E));\n",
"e_3 = (p_3/E)-(p_1/(m*E))+(p_2/(m*E));\n",
"printf('e_1 = %.6f,  tensile\n e_2 = %.4f, compressive\n e_3 = %.6f, tensile',e_1,e_2,e_3);"
   ]
   }
,
{
		   "cell_type": "markdown",
		   "metadata": {},
		   "source": [
			"## Example 2.7: Chapter_2_example_7.sce"
		   ]
		  },
  {
"cell_type": "code",
	   "execution_count": null,
	   "metadata": {
	    "collapsed": true
	   },
	   "outputs": [],
"source": [
"clear;\n",
"clc;\n",
"a = 2;//inches\n",
"l = 6;//inches\n",
"E = 13000;//tons/In^2\n",
"m = 1/0.3;\n",
"P = 20;//tons\n",
"p_1 = P/a^2;//tons/in^2\n",
"p_2 = p_1/(2*(m-1));//tons/in^2\n",
"e_1 = (5-0.6*p_2)/E;//tons/in^2\n",
"del_l = e_1*l;//inches\n",
"printf('The contraction in the length del_l = %.5f inches',del_l);"
   ]
   }
],
"metadata": {
		  "kernelspec": {
		   "display_name": "Scilab",
		   "language": "scilab",
		   "name": "scilab"
		  },
		  "language_info": {
		   "file_extension": ".sce",
		   "help_links": [
			{
			 "text": "MetaKernel Magics",
			 "url": "https://github.com/calysto/metakernel/blob/master/metakernel/magics/README.md"
			}
		   ],
		   "mimetype": "text/x-octave",
		   "name": "scilab",
		   "version": "0.7.1"
		  }
		 },
		 "nbformat": 4,
		 "nbformat_minor": 0
}
