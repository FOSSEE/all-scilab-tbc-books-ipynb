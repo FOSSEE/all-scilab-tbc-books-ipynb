{
"cells": [
 {
		   "cell_type": "markdown",
	   "metadata": {},
	   "source": [
       "# Chapter 8: Direct and bending stresses"
	   ]
	},
{
		   "cell_type": "markdown",
		   "metadata": {},
		   "source": [
			"## Example 8.10: Chapter_8_example_10.sce"
		   ]
		  },
  {
"cell_type": "code",
	   "execution_count": null,
	   "metadata": {
	    "collapsed": true
	   },
	   "outputs": [],
"source": [
"clear;\n",
"clc;\n",
"h = 20;// feet\n",
"b = 4;// feet\n",
"d = 12;// feet\n",
"h1 = 18;// feet\n",
"//density of masonary\n",
"rho_m = 140;// lb-ft^3\n",
"//density of water\n",
"rho_w = 62.5;// lb-ft^3\n",
"W = rho_m*0.5*(b+d)*h;// lb-wt\n",
"//to locate its line of action divide the dam section into a rectangle and a triangle \n",
"x1 = b/2;//feet\n",
"a1 = b*h;// sq. feet\n",
"a2 = 0.5*(d-b)*h;// sq. feet\n",
"x2 = b+((d-b)/3);// feet\n",
"x_bar = (a1*x1+a2*x2)/(a1+a2);// feet\n",
"P = rho_w*h1^2/2;// lb-wt\n",
"z = x_bar + (h1/3)*(P/W);// feet\n",
"e = z - d/2;// feet\n",
"p_0 = W/d;// lb/ft^2\n",
"M = W*e;// lb-feet\n",
"Z = 1*d^2*1/6;// ft^3\n",
"p_b = M/Z;// lb-ft^2\n",
"p_max = p_0 + p_b;// lb-ft^2\n",
"p_min = p_0 - p_b;// lb-ft^2\n",
"printf('p_max = %.1f lb/ft^2., compressive at B.\n p_min = %.1f lb/ft^2., compressive at A.',p_max,p_min);\n",
"\n",
"//there is an error in the answer given in text book"
   ]
   }
,
{
		   "cell_type": "markdown",
		   "metadata": {},
		   "source": [
			"## Example 8.1: Chapter_8_example_1.sce"
		   ]
		  },
  {
"cell_type": "code",
	   "execution_count": null,
	   "metadata": {
	    "collapsed": true
	   },
	   "outputs": [],
"source": [
"clear;\n",
"clc;\n",
"d = 6;//inches\n",
"b = 3/4;//inch\n",
"P = 18;//tons\n",
"e = 1/8;//inch\n",
"A = b*d;//sq.in\n",
"M = P*e;//ton-in\n",
"Z = (1/6)*b*d^2;//in^3\n",
"p_0 = P/A;// tons/in^2\n",
"p_b = M/Z;// ton/in^2\n",
"p_max = p_0+p_b;// tons/in^2\n",
"p_min = p_0-p_b;// tons/in^2\n",
"printf('p_max = %.1f tons/in^2.,tensile\n p_min = %.1f tons/in^2.,tensile',p_max,p_min);"
   ]
   }
,
{
		   "cell_type": "markdown",
		   "metadata": {},
		   "source": [
			"## Example 8.2: Chapter_8_example_2.sce"
		   ]
		  },
  {
"cell_type": "code",
	   "execution_count": null,
	   "metadata": {
	    "collapsed": true
	   },
	   "outputs": [],
"source": [
"clear;\n",
"clc;\n",
"d1 = 12;//inches\n",
"t = 1;//inch\n",
"d2 = d1-2*t;//inches\n",
"P = 5;//tons\n",
"e = 12;//inch\n",
"A = 0.25*%pi*(d1^2-d2^2);//sq.in\n",
"M = P*e;//ton-in\n",
"Z = %pi*(d1^4-d2^4)/(32*d1);//in^3\n",
"p_0 = P/A;// tons/in^2\n",
"p_b = M/Z;// ton/in^2\n",
"p_max = p_0+p_b;// tons/in^2\n",
"p_min = p_0-p_b;// tons/in^2\n",
"printf('p_max = %.4f ton/in^2.,cmopressive\n p_min = %.4f ton/in^2.,\n i.e., %.4f ton/in^2., tensile',p_max,p_min,-p_min);"
   ]
   }
,
{
		   "cell_type": "markdown",
		   "metadata": {},
		   "source": [
			"## Example 8.3: Chapter_8_example_3.sce"
		   ]
		  },
  {
"cell_type": "code",
	   "execution_count": null,
	   "metadata": {
	    "collapsed": true
	   },
	   "outputs": [],
"source": [
"clear;\n",
"clc;\n",
"l = 6;//inches\n",
"b = 4;//inches\n",
"d = 1/2;//inch\n",
"P = 10;//tons\n",
"r = 1.5;//inches\n",
"A = 4.771;// in^2\n",
"J = 0.968;// inches\n",
"I_xx = 6.07;// in^4\n",
"I_yy = 8.64;// in^4\n",
"e = r-J;// inches\n",
"M = P*e;// ton-inches\n",
"y_t = J;//inches \n",
"y_c = b-y_t;//inches\n",
"//compressive\n",
"p_c = M*y_c/I_xx;// tons/in^2\n",
"//tensile\n",
"p_t = M*y_t/I_xx;// tons/in^2\n",
"//compressive\n",
"p_0 = P/A ;// tons/in^2\n",
"p_max = p_0+p_c;// tons/in^2\n",
"p_min = p_0-p_t;// tons/in^2\n",
"printf('p_max = %.3f tons/in^2.,compressive\n p_min = %.3f tons/in^2.,compressive',p_max,p_min);"
   ]
   }
,
{
		   "cell_type": "markdown",
		   "metadata": {},
		   "source": [
			"## Example 8.4: Chapter_8_example_4.sce"
		   ]
		  },
  {
"cell_type": "code",
	   "execution_count": null,
	   "metadata": {
	    "collapsed": true
	   },
	   "outputs": [],
"source": [
"clear;\n",
"clc;\n",
"b = 5;//inches\n",
"t = 1/2;//inch\n",
"P = 12;//tons\n",
"d = 1/2;//inch\n",
"r = 3/2;//inch\n",
"A = (b-d)*t;// in^2\n",
"p_0 = P/A;// tons/in^2\n",
"a1 = b*d;// in^2\n",
"x1 = 0;\n",
"a2 = d*t;// in^2\n",
"x2 = -3/2;\n",
"e = (a1*x1-a2*x2)/(a1-a2);//inches\n",
"M = P*e;// ton-inches\n",
"y_c = a1-e;// inches\n",
"y_t = a1+e;// inches\n",
"I_yy = (t*b^3)/12 - ((t*d^3)/12 + 0.5*d*r^2);// in^4\n",
"I_GG = I_yy - (a1-a2)*(e^2);// in^4\n",
"p_c = M*y_c/I_GG;// tons/in^2\n",
"p_t = M*y_t/I_GG;// tons/in^2\n",
"p_max = p_0 + p_t;// tons/in^2\n",
"p_min = p_0 - p_c;// tons/in^2\n",
"printf('p_max = %.1f tons/in^2., tensile\n p_min = %.2f tons/in^2., tensile',p_max,p_min);"
   ]
   }
,
{
		   "cell_type": "markdown",
		   "metadata": {},
		   "source": [
			"## Example 8.5: Chapter_8_example_5.sce"
		   ]
		  },
  {
"cell_type": "code",
	   "execution_count": null,
	   "metadata": {
	    "collapsed": true
	   },
	   "outputs": [],
"source": [
"clear;\n",
"clc;\n",
"h = 20;// feet\n",
"b = 12;// feet\n",
"d = 4;// feet\n",
"p = 30;// lb. per sq.foot\n",
"rho = 140;// lb. per cubic foot\n",
"p_0 = rho*h;// lb-ft^2\n",
"P = p*b*h;// lb-wt\n",
"M = P*h/2;//lb-ft\n",
"Z = b*d^2/6;// ft^3\n",
"p_b = M/Z;// lb/ft^2\n",
"p_max = p_0 + p_b;// lb/ft^2\n",
"p_min = p_0 - p_b;// lb/ft^2\n",
"printf('p_max = %d lb/ft^2., compressive\n p_min = %d lb/ft^2., compressive',p_max,p_min);"
   ]
   }
,
{
		   "cell_type": "markdown",
		   "metadata": {},
		   "source": [
			"## Example 8.6: Chapter_8_example_6.sce"
		   ]
		  },
  {
"cell_type": "code",
	   "execution_count": null,
	   "metadata": {
	    "collapsed": true
	   },
	   "outputs": [],
"source": [
"clear;\n",
"clc;\n",
"h = 80;// feet\n",
"p = 28;// lb. per sq.foot\n",
"rho = 126;// lb. per cubic foot\n",
"p_0 = rho*h/2240;// tons-ft^2\n",
"p_max = 7;// tons/ft^2\n",
"d = 4;// feet\n",
"p_b = p_max - p_0;// tons/ft^2\n",
"D = sqrt(3*p*h^2 /(2*p_b*2240) +sqrt(d^4 + (3*p*h^2 /(2*p_b*2240))^2));// feet\n",
"t = 0.5*(D-d);// feet\n",
"printf('The necessary thickness is, t = %d feet',round(t));"
   ]
   }
,
{
		   "cell_type": "markdown",
		   "metadata": {},
		   "source": [
			"## Example 8.7: Chapter_8_example_7.sce"
		   ]
		  },
  {
"cell_type": "code",
	   "execution_count": null,
	   "metadata": {
	    "collapsed": true
	   },
	   "outputs": [],
"source": [
"clear;\n",
"clc;\n",
"h = 60;//feet\n",
"rho = 130;// lb. per cubic foot\n",
"D = 12;//feet\n",
"d = 5;//feet\n",
"P_h = 24;// lb. per sq. foot\n",
"p_0 = rho*h;// lb-ft^2\n",
"P = P_h*D*h;// lb-wt\n",
"M = P*h/2;// lb-feet\n",
"Z = %pi*(D^4 - d^4)/(32*D);//lb-ft^3\n",
"p_b = M/Z;// lb/ft^2\n",
"p_max = p_0 + p_b;// lb/ft^2\n",
"p_min = p_0 - p_b;// lb/ft^2\n",
"printf('p_max = %d lb/ft^2., compressive\n p_min = %d lb/ft^2., compressive',p_max,p_min);\n",
"\n",
"//there is an error in the answer given in text book"
   ]
   }
,
{
		   "cell_type": "markdown",
		   "metadata": {},
		   "source": [
			"## Example 8.8: Chapter_8_example_8.sce"
		   ]
		  },
  {
"cell_type": "code",
	   "execution_count": null,
	   "metadata": {
	    "collapsed": true
	   },
	   "outputs": [],
"source": [
"clear;\n",
"clc;\n",
"h = 120;// feet\n",
"d = 5;// feet\n",
"h1 = 49;// feet\n",
"p = 42;// lb. per square foot\n",
"c = 0.6;\n",
"//p = k*sqrt(x)\n",
"k = p/sqrt(h1);\n",
"M = integrate('18*x^(3/2)','x',0,120);\n",
"printf('Bending moment at the foot of the chimney is, M = %d lb-ft',M);\n",
"//there is an error in the answer given in text book"
   ]
   }
,
{
		   "cell_type": "markdown",
		   "metadata": {},
		   "source": [
			"## Example 8.9: Chapter_8_example_9.sce"
		   ]
		  },
  {
"cell_type": "code",
	   "execution_count": null,
	   "metadata": {
	    "collapsed": true
	   },
	   "outputs": [],
"source": [
"clear;\n",
"clc;\n",
"h = 100;// feet\n",
"d = 4;// feet\n",
"p = 50;// lb. per square foot\n",
"c = 2/3;\n",
"M = integrate('(100*x/3)*(10-(6*x/100))','x',0,100);\n",
"printf('Bending moment at the foot of the chimney is, M = %d lb-feet',M);"
   ]
   }
],
"metadata": {
		  "kernelspec": {
		   "display_name": "Scilab",
		   "language": "scilab",
		   "name": "scilab"
		  },
		  "language_info": {
		   "file_extension": ".sce",
		   "help_links": [
			{
			 "text": "MetaKernel Magics",
			 "url": "https://github.com/calysto/metakernel/blob/master/metakernel/magics/README.md"
			}
		   ],
		   "mimetype": "text/x-octave",
		   "name": "scilab",
		   "version": "0.7.1"
		  }
		 },
		 "nbformat": 4,
		 "nbformat_minor": 0
}
