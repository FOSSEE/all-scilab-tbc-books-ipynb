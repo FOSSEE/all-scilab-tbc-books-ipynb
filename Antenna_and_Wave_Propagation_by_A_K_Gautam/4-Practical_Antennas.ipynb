{
"cells": [
 {
		   "cell_type": "markdown",
	   "metadata": {},
	   "source": [
       "# Chapter 4: Practical Antennas"
	   ]
	},
{
		   "cell_type": "markdown",
		   "metadata": {},
		   "source": [
			"## Example 4.10: Calculate_the_peak_value_of_the_magnetic_field_intensity_H_of_the_RF_wave.sce"
		   ]
		  },
  {
"cell_type": "code",
	   "execution_count": null,
	   "metadata": {
	    "collapsed": true
	   },
	   "outputs": [],
"source": [
"//Ex:4.10\n",
"clc;\n",
"clear;\n",
"close;\n",
"N=10;// number of turns\n",
"A=1;// area in m^2\n",
"f=1*10^6;// frequency in Hz\n",
"V=100*10^-6;// in volt\n",
"x=1;// the value of cos(Angle)\n",
"u=4*%pi*10^-7;\n",
"H=(sqrt(2)*V)/(2*%pi*f*u*A*N);// peak value of the magnetic field intensity H \n",
"printf('The peak value of the magnetic field intensity H  = %f uA/m', H*10^6);"
   ]
   }
,
{
		   "cell_type": "markdown",
		   "metadata": {},
		   "source": [
			"## Example 4.11: Calculate_the_radiation_resistance.sce"
		   ]
		  },
  {
"cell_type": "code",
	   "execution_count": null,
	   "metadata": {
	    "collapsed": true
	   },
	   "outputs": [],
"source": [
"//Ex:4.11\n",
"clc;\n",
"clear;\n",
"close;\n",
"printf('A=pi*a^2=pi(y/25)^2=pi*y^2/625');\n",
"printf('\n Rr=31171.2*(A/y^2)^2');\n",
"printf('\n and finally, Rr=(31171.2*pi^2)/(625^2)');\n",
"Rr=(31171.2*%pi^2)/(625^2);// radiation resistance for single turn\n",
"N2=82;\n",
"Rr1=Rr*N2;// radiation resistance for turn loop\n",
"printf('\n The radiation resistance for single turn = %f ohm', Rr);\n",
"printf('\n The radiation resistance for turn loop = %f ohm', Rr1);\n",
"printf('\n The answer is wronge in the given textbook');"
   ]
   }
,
{
		   "cell_type": "markdown",
		   "metadata": {},
		   "source": [
			"## Example 4.12: Estimate_the_diameter_of_the_mouth_and_the_half_power_beam_width_of_the_antenna.sce"
		   ]
		  },
  {
"cell_type": "code",
	   "execution_count": null,
	   "metadata": {
	    "collapsed": true
	   },
	   "outputs": [],
"source": [
"//Ex:4.12\n",
"clc;\n",
"clear;\n",
"close;\n",
"y=0.1;// wavelength in m\n",
"GP=1000;// power gain\n",
"D=y*(sqrt(GP/6));// diameter of the mouth in m\n",
"printf('The diameter of the mouth = %f meter', D);"
   ]
   }
,
{
		   "cell_type": "markdown",
		   "metadata": {},
		   "source": [
			"## Example 4.13: Find_the_terminal_resistance_of_complementary_slot.sce"
		   ]
		  },
  {
"cell_type": "code",
	   "execution_count": null,
	   "metadata": {
	    "collapsed": true
	   },
	   "outputs": [],
"source": [
"//Ex:4.13\n",
"clc;\n",
"clear;\n",
"close;\n",
"Zs=35476/710;// terminal resistance in ohm\n",
"L_D=28;// the ratio of L to D\n",
"L=0.925;// length in m in terms of wavelength y\n",
"D=L/L_D;// diameter in m in terms of wavelength y\n",
"W=2*D;// width in m in terms of wavelength y\n",
"printf('The terminal resistance = %f ohm', Zs);\n",
"printf('\n The diameter in m in terms of wavelength = %f*y meter', D);\n",
"printf('\n The width in m in terms of wavelength = %f*y meter', W);"
   ]
   }
,
{
		   "cell_type": "markdown",
		   "metadata": {},
		   "source": [
			"## Example 4.14: EX4_14.sce"
		   ]
		  },
  {
"cell_type": "code",
	   "execution_count": null,
	   "metadata": {
	    "collapsed": true
	   },
	   "outputs": [],
"source": [
"//Ex:4.14\n",
"clc;\n",
"clear;\n",
"close;\n",
"f=3*10^3;// frequency in MHz\n",
"y=300/f;// wavelength in m\n",
"BW=10;// beamwidth in degree\n",
"D=140*y/BW;// diameter of a paraboidal reflector antenna in m\n",
"printf('The diameter of a paraboidal reflector antenna = %f meter', D);"
   ]
   }
,
{
		   "cell_type": "markdown",
		   "metadata": {},
		   "source": [
			"## Example 4.15: Calculate_the_antenna_gain_in_dB.sce"
		   ]
		  },
  {
"cell_type": "code",
	   "execution_count": null,
	   "metadata": {
	    "collapsed": true
	   },
	   "outputs": [],
"source": [
"//Ex:4.15\n",
"clc;\n",
"clear;\n",
"close;\n",
"D=20;// diameter in m\n",
"r=10;// radius in m\n",
"f=6*10^3;// frequency in MHz\n",
"y=300/f;// wavelength in m\n",
"K=0.54;// illumination efficiency\n",
"A=%pi*r^2;// area in m^2\n",
"G=(4*%pi*K*A)/y^2;// antenna gain\n",
"G1=10*log(G)/log(10);// antenna gain in dB\n",
"printf('The antenna gain = %f dB', G1);"
   ]
   }
,
{
		   "cell_type": "markdown",
		   "metadata": {},
		   "source": [
			"## Example 4.16: Determine_the_gain_beamwidth_and_capture_area_for_a_parabolic_antenna.sce"
		   ]
		  },
  {
"cell_type": "code",
	   "execution_count": null,
	   "metadata": {
	    "collapsed": true
	   },
	   "outputs": [],
"source": [
"//Ex:4.16\n",
"clc;\n",
"clear;\n",
"close;\n",
"f=10*10^3;// frequency in MHz\n",
"y=300/f;// wavelength in m\n",
"D=10;// diameter in m\n",
"Gp=6*(D/y)^2;// gain of a parabolic antenna\n",
"BW=140*y/D;// beamwidth in degree\n",
"Dr=6*Gp;// directivity\n",
"A=(Dr*y^2)/(4*%pi);// capture area in m^2\n",
"printf('The gain of a parabolic antenna = %f', Gp);\n",
"printf('\n The beamwidth = %f degree', BW);\n",
"printf('\n The capture area in m^2 of a parabolic antenna = %f meter^2', A);"
   ]
   }
,
{
		   "cell_type": "markdown",
		   "metadata": {},
		   "source": [
			"## Example 4.17: Calculate_the_gain_of_the_horn_antenna.sce"
		   ]
		  },
  {
"cell_type": "code",
	   "execution_count": null,
	   "metadata": {
	    "collapsed": true
	   },
	   "outputs": [],
"source": [
"//Ex:4.17\n",
"clc;\n",
"clear;\n",
"close;\n",
"r=0.45;// distance in m\n",
"f=10*10^3;// frequenc in MHz\n",
"y=300/f;// wavelength in m\n",
"Wtr=8.9;\n",
"wtr=10^(Wtr/10); \n",
"wrt=1/wtr;\n",
"D=(4*%pi*r/y)*(sqrt(wrt));// gain of the horn antenna\n",
"d=10*log(D)/log(10);// gain of the horn antenna in dB\n",
"printf('The gain of the horn antenna = %f dB', d);"
   ]
   }
,
{
		   "cell_type": "markdown",
		   "metadata": {},
		   "source": [
			"## Example 4.18: Estimate_the_diameter_of_the_paraboloidal_reflector.sce"
		   ]
		  },
  {
"cell_type": "code",
	   "execution_count": null,
	   "metadata": {
	    "collapsed": true
	   },
	   "outputs": [],
"source": [
"//Ex:4.18\n",
"clc;\n",
"clear;\n",
"close;\n",
"BW=15;// beamwidth in degree\n",
"f=1.5*10^3;// frequenc in MHz\n",
"y=300/f;// wavelength in m\n",
"D=(140*y)/(BW);// diameter of the paraboloidal reflector in m\n",
"printf('The diameter of the paraboloidal reflector = %f meter', D);"
   ]
   }
,
{
		   "cell_type": "markdown",
		   "metadata": {},
		   "source": [
			"## Example 4.19: Estimate_the_diameter_and_effective_aperture.sce"
		   ]
		  },
  {
"cell_type": "code",
	   "execution_count": null,
	   "metadata": {
	    "collapsed": true
	   },
	   "outputs": [],
"source": [
"//Ex:4.19\n",
"clc;\n",
"clear;\n",
"close;\n",
"BW=15;// beamwidth in degree\n",
"f=3*10^3;// frequenc in MHz\n",
"y=300/f;// wavelength in m\n",
"D=(140*y)/(BW);// diameter of the paraboloidal reflector in m\n",
"printf('The diameter of the paraboloidal reflector = %f meter', D);"
   ]
   }
,
{
		   "cell_type": "markdown",
		   "metadata": {},
		   "source": [
			"## Example 4.1: Design_a_log_periodic_antenna_for_a_broadcast_band.sce"
		   ]
		  },
  {
"cell_type": "code",
	   "execution_count": null,
	   "metadata": {
	    "collapsed": true
	   },
	   "outputs": [],
"source": [
"//Ex:4.1\n",
"clc;\n",
"clear;\n",
"close;\n",
"c=3*10^8;// the speed of light in m/s\n",
"f=88*10^6;// frequency in Hz\n",
"r=0.95;// in m\n",
"y=c/f;// wavelength in m\n",
"l1=y/2; \n",
"l2=r*l1; \n",
"l3=r*l2; \n",
"l4=r*l3; \n",
"l5=r*l4; \n",
"d1=0.08*y; \n",
"d2=r*d1; \n",
"d3=r*d2; \n",
"d4=r*d3;\n",
"d=d1+d2+d3+d4;// overall length of the antenna support boom in m\n",
"printf('The wavelength = %f meter', y);\n",
"printf('\n The overall length of the antenna support boom = %f meter', d);"
   ]
   }
,
{
		   "cell_type": "markdown",
		   "metadata": {},
		   "source": [
			"## Example 4.20: Estimate_the_diameter_of_the_mouth_and_the_half_power_beamwidth.sce"
		   ]
		  },
  {
"cell_type": "code",
	   "execution_count": null,
	   "metadata": {
	    "collapsed": true
	   },
	   "outputs": [],
"source": [
"//Ex:4.20\n",
"clc;\n",
"clear;\n",
"close;\n",
"y=0.1;// wavelength in m\n",
"GP=1000;// power gain\n",
"D=y*(sqrt(GP/6));// diameter of the mouth in m\n",
"HPBW=(70*y)/D;// half power beamwidth in degree\n",
"printf('The diameter of the mouth = %f meter', D);\n",
"printf('\n The half power beamwidth of the antenna = %f degree', HPBW);"
   ]
   }
,
{
		   "cell_type": "markdown",
		   "metadata": {},
		   "source": [
			"## Example 4.21: What_is_the_directivities_of_these_two_antennas.sce"
		   ]
		  },
  {
"cell_type": "code",
	   "execution_count": null,
	   "metadata": {
	    "collapsed": true
	   },
	   "outputs": [],
"source": [
"//Ex:4.21\n",
"clc;\n",
"clear;\n",
"close;\n",
"r=5000;// in m\n",
"F=1.9;// propagation factor\n",
"f=150;// frequenc in MHz\n",
"y=300/f;// wavelength in m\n",
"wr=2*10^-3;// receiving power in watt\n",
"wt=25;// transmitting power in watt\n",
"D=(4*%pi*r/(2*F))*(sqrt(wr/wt));// directivities of these antenna\n",
"printf('The directivity of antenna = %f', D);"
   ]
   }
,
{
		   "cell_type": "markdown",
		   "metadata": {},
		   "source": [
			"## Example 4.22: Calculate_the_directivity_in_dB.sce"
		   ]
		  },
  {
"cell_type": "code",
	   "execution_count": null,
	   "metadata": {
	    "collapsed": true
	   },
	   "outputs": [],
"source": [
"//Ex:4.22\n",
"clc;\n",
"clear;\n",
"close;\n",
"a=15*%pi/180;// angle in radian\n",
"N=35;// number of turns\n",
"s_c=tan(a);// the ratio of s to c and c=y\n",
"D=(15*N*s_c);// directivity of 35 turn helix\n",
"d=10*log(D)/log(10);// directivities of 35 turn helix in dB\n",
"printf('The directivity of 35 turn helix = %f dB', d);"
   ]
   }
,
{
		   "cell_type": "markdown",
		   "metadata": {},
		   "source": [
			"## Example 4.23: Find_out_the_length_and_width_and_half_flare_angles.sce"
		   ]
		  },
  {
"cell_type": "code",
	   "execution_count": null,
	   "metadata": {
	    "collapsed": true
	   },
	   "outputs": [],
"source": [
"//Ex:4.23\n",
"clc;\n",
"clear;\n",
"close;\n",
"// dl=0.23y, value of dl in E-plane\n",
"// dL=0.375y, value of dl in H-plane\n",
"// h=15y, height in terms of wavelength y\n",
"// L=h^2/8*dl in  E-plane\n",
"// L=(15*y)^2/8*0.2y=225y^2/1.6y;=140.625y\n",
"printf('The value of length L in terms of wavelength y=140.625y');\n",
"// OE=atan(h/2L)=atan(15y/2*140.625y)=atan(15/2*140.625)\n",
"OE=(atan(15/(2*140.625))*180/%pi);// half flare angle in E-plane in degree\n",
"// OH=acos(L/(L+dL))=acos(140.625y/(140.625y+0.375y))=acos(140.625/(140.625+.375))\n",
"OH=(acos(140.625/(140.625+0.375))*(180/%pi));// half flare angle in H-plane in degree\n",
"//w=2*L*tan(OH)=2*140.625y*tan(4.18)=20.56y, width interms of wavelength y\n",
"printf('\n The half flare angle in E-plane = %f degree', OE);\n",
"printf('\n The half flare angle in H-plane = %f degree', OH);\n",
"printf('\n The width interms of wavelength y= 20.56y');"
   ]
   }
,
{
		   "cell_type": "markdown",
		   "metadata": {},
		   "source": [
			"## Example 4.24: Calculate_the_angular_aperture_for_paraboloidal_reflector_antenna.sce"
		   ]
		  },
  {
"cell_type": "code",
	   "execution_count": null,
	   "metadata": {
	    "collapsed": true
	   },
	   "outputs": [],
"source": [
"//Ex:4.24\n",
"clc;\n",
"clear;\n",
"close;\n",
"D=20;// diameter of the reflector mouth in m\n",
"// As we know, f=(D/4)*cot(x/2)\n",
"// f/D=0.25*cot(x/2)\n",
"f_d1=0.30;// ratio of f to D or aperture number\n",
"f_d2=0.55;// aperture number\n",
"f_d3=0.80;// aperture number\n",
"// 0.30=0.25*cot(x/2)\n",
"// tan(x/2)=0.25/0.30\n",
"x1=2*(atan(0.25/f_d1))*(180/%pi);\n",
"x2=2*(atan(0.25/f_d2))*(180/%pi);\n",
"x3=2*(atan(0.25/f_d3))*(180/%pi);\n",
"Aa1=2*x1;// angular aperture in degree\n",
"Aa2=2*x2;// angular aperture in degree\n",
"Aa3=2*x3;// angular aperture in degree\n",
"f1=f_d1*D;// position of focal point for aperture number 0.30\n",
"f2=f_d2*D;// position of focal point for aperture number 0.30\n",
"f3=f_d3*D;// position of focal point for aperture number 0.30\n",
"printf('The angular aperture for aperture number 0.30 = %f degree', Aa1);\n",
"printf('\n The angular aperture for aperture number 0.55 = %f degree', Aa2);\n",
"printf('\n The angular aperture for aperture number 0.80 = %f degree', Aa3);\n",
"printf('\n The position of focal point for aperture number 0.30 = %f meter', f1);\n",
"printf('\n The position of focal point for aperture number 0.55 = %f meter', f2);\n",
"printf('\n The position of focal point for aperture number 0.80 = %f meter', f3);"
   ]
   }
,
{
		   "cell_type": "markdown",
		   "metadata": {},
		   "source": [
			"## Example 4.25: Calculate_the_peak_value_of_the_magnetic_field_intensity_H_of_the_radio_wave.sce"
		   ]
		  },
  {
"cell_type": "code",
	   "execution_count": null,
	   "metadata": {
	    "collapsed": true
	   },
	   "outputs": [],
"source": [
"//Ex:4.25\n",
"clc;\n",
"clear;\n",
"close;\n",
"N=15;// number of turns\n",
"A=1;// area in m^2\n",
"f=10*10^6;// frequency in Hz\n",
"Vrms=200*10^-6;// e.m.f in volt\n",
"x=1;// the value of cosine angle\n",
"u=4*%pi*10^-7;\n",
"H=(Vrms*sqrt(2))/(2*%pi*f*u*A*N);// peak value of the magnetic field intensity\n",
"printf('The peak value of the magnetic field intensity = %f uA/m', H*10^6);"
   ]
   }
,
{
		   "cell_type": "markdown",
		   "metadata": {},
		   "source": [
			"## Example 4.26: Calculate_the_input_voltage_to_the_receiver.sce"
		   ]
		  },
  {
"cell_type": "code",
	   "execution_count": null,
	   "metadata": {
	    "collapsed": true
	   },
	   "outputs": [],
"source": [
"//Ex:4.26\n",
"clc;\n",
"clear;\n",
"close;\n",
"N=500;// number of turns\n",
"A=1;// area in m^2\n",
"f=10;// frequency in MHz\n",
"y=300/f;// wavelength in m\n",
"x=60*%pi/180;// angle in radians\n",
"Erms=20*10^-6;// field strength in volt\n",
"Vrms=(2*%pi*Erms*A*N*cos(x))/y;// e.m.f in volt\n",
"Q=150;// quality factor\n",
"Vr=Vrms*Q;// voltage to the receiver in volt\n",
"printf('The voltage to the receiver = %d mV', Vr*10^3);"
   ]
   }
,
{
		   "cell_type": "markdown",
		   "metadata": {},
		   "source": [
			"## Example 4.27: Estimate_the_voltage_across_the_capacitor.sce"
		   ]
		  },
  {
"cell_type": "code",
	   "execution_count": null,
	   "metadata": {
	    "collapsed": true
	   },
	   "outputs": [],
"source": [
"//Ex:4.27\n",
"clc;\n",
"clear;\n",
"close;\n",
"N=10;// number of turns\n",
"r=0.4;// radius in m\n",
"E=200*10^-6;// E-field in V/m\n",
"L=50*10^-6;// inductance in Henry\n",
"R=2;// resistance in ohm\n",
"f=1.5;// frequency in MHz\n",
"f1=1.5*10^6;// frequency in Hz\n",
"y=300/f;// wavelength in m\n",
"A=%pi*r^2;// area in m^2\n",
"Vrms=(2*%pi*E*A*N)/y;// e.m.f in volt\n",
"Q=(2*%pi*f1*L)/R;// \n",
"Vc=Vrms*Q;// voltage across the capacitor in volt\n",
"printf('The voltage across the capacitor = %f mV', Vc*1000);"
   ]
   }
,
{
		   "cell_type": "markdown",
		   "metadata": {},
		   "source": [
			"## Example 4.28: Calculate_the_max_emf_in_the_loop.sce"
		   ]
		  },
  {
"cell_type": "code",
	   "execution_count": null,
	   "metadata": {
	    "collapsed": true
	   },
	   "outputs": [],
"source": [
"//Ex:4.28\n",
"clc;\n",
"clear;\n",
"close;\n",
"A=5;// area in m^2\n",
"w=25*10^-3;// power in watt\n",
"f=15;// frequency in MHz\n",
"y=300/f;// wavelength in m\n",
"Rr=31171*(A/y^2)^2;// radiation resistance in ohm\n",
"V=sqrt(w*4*Rr);// max emf in volts\n",
"printf('The max emf = %f Volts', V);"
   ]
   }
,
{
		   "cell_type": "markdown",
		   "metadata": {},
		   "source": [
			"## Example 4.29: Calculate_the_beamwidth_between_first_null_and_what_will_be_its_gain_in_dB.sce"
		   ]
		  },
  {
"cell_type": "code",
	   "execution_count": null,
	   "metadata": {
	    "collapsed": true
	   },
	   "outputs": [],
"source": [
"//Ex:4.29\n",
"clc;\n",
"clear;\n",
"close;\n",
"f=10*1000;// frequency in MHz\n",
"y=300/f;// wavelength in m\n",
"D=5;// in m\n",
"BW=(140*y)/D;// beamwidth in degree\n",
"Gp=6*(D/y)^2;// gain\n",
"Gp1=10*log(Gp)/log(10);// gain in dB \n",
"printf('The beamwidth = %f degree', BW);\n",
"printf('\n The gain in dB = %f dB', Gp1);"
   ]
   }
,
{
		   "cell_type": "markdown",
		   "metadata": {},
		   "source": [
			"## Example 4.2: Find_the_dimenssions_of_a_three_element.sce"
		   ]
		  },
  {
"cell_type": "code",
	   "execution_count": null,
	   "metadata": {
	    "collapsed": true
	   },
	   "outputs": [],
"source": [
"//Ex:4.2\n",
"clc;\n",
"clear;\n",
"close;\n",
"c=3*10^8;// the speed of light in m/s\n",
"f=100*10^6;// frequency in Hz\n",
"y=c/f;// wavelength in m\n",
"de=y/2;// drive element in m\n",
"Rf=de+(de*5/100);// reflector in m\n",
"Df=de-(de*5/100);// director in m\n",
"sp=0.2*y;// spacing between the elements in m\n",
"printf('The wavelength = %d meter', y);\n",
"printf('\n The drive element = %f meter', de);\n",
"printf('\n The reflector = %f meter', Rf);\n",
"printf('\n The director = %f meter', Df);\n",
"printf('\n The spacing between the elements = %f meter', sp);"
   ]
   }
,
{
		   "cell_type": "markdown",
		   "metadata": {},
		   "source": [
			"## Example 4.30: What_should_be_minimum_distance_between_primary_and_secondary_antenna.sce"
		   ]
		  },
  {
"cell_type": "code",
	   "execution_count": null,
	   "metadata": {
	    "collapsed": true
	   },
	   "outputs": [],
"source": [
"//Ex:4.30\n",
"clc;\n",
"clear;\n",
"close;\n",
"f=5000;// frequency in MHz\n",
"y=300/f;// wavelength in m\n",
"d=30*0.3048;// aperture dimension in m\n",
"r=(2*d^2)/y;// min distance in m\n",
"printf('The min distance = %f meter', r);"
   ]
   }
,
{
		   "cell_type": "markdown",
		   "metadata": {},
		   "source": [
			"## Example 4.31: Calculate_the_directivity_in_dB.sce"
		   ]
		  },
  {
"cell_type": "code",
	   "execution_count": null,
	   "metadata": {
	    "collapsed": true
	   },
	   "outputs": [],
"source": [
"//Ex:4.31\n",
"clc;\n",
"clear;\n",
"close;\n",
"a=14*%pi/180;// angle in radian\n",
"N=25;// number of turns\n",
"s_c=tan(a);// the ratio of s to c and c=y\n",
"D=(15*N*s_c);// directivity of 35 turn helix\n",
"d=10*log(D)/log(10);// directivities of 35 turn helix in dB\n",
"printf('The directivity of 35 turn helix = %f dB', d);"
   ]
   }
,
{
		   "cell_type": "markdown",
		   "metadata": {},
		   "source": [
			"## Example 4.32: Find_the_received_power.sce"
		   ]
		  },
  {
"cell_type": "code",
	   "execution_count": null,
	   "metadata": {
	    "collapsed": true
	   },
	   "outputs": [],
"source": [
"//Ex:4.32\n",
"clc;\n",
"clear;\n",
"close;\n",
"wt=1;// transmitted power\n",
"Gt=10^4;// transmitter gain\n",
"Gr=10^4;// receiver gain\n",
"f=10000;// frequency in MHz\n",
"r=30000;// range of the link in m\n",
"y=300/f;// wavelength in m\n",
"wr=wt*Gt*Gr*(y/(4*%pi*r))^2;// received power in Watt;\n",
"printf('The received power = %f uW', wr*10^6);"
   ]
   }
,
{
		   "cell_type": "markdown",
		   "metadata": {},
		   "source": [
			"## Example 4.33: Find_the_dimensions_of_three_element.sce"
		   ]
		  },
  {
"cell_type": "code",
	   "execution_count": null,
	   "metadata": {
	    "collapsed": true
	   },
	   "outputs": [],
"source": [
"//Ex:4.33\n",
"clc;\n",
"clear;\n",
"close;\n",
"f=100;// frequency in MHz\n",
"y=300/f;// wavelength in m\n",
"dr=y/2;// the driven element in m\n",
"Rf=dr+(5*dr/100);// reflective in m\n",
"Df=dr-(5*dr/100);// deflective in m\n",
"Sp=0.2*y;// the spacing between terminal\n",
"printf('The reflective = %f m', Rf);\n",
"printf('\n The director = %f m', Df);\n",
"printf('\n The spacing between terminal = %f m', Sp);"
   ]
   }
,
{
		   "cell_type": "markdown",
		   "metadata": {},
		   "source": [
			"## Example 4.34: How_large_is_the_dish_diameter.sce"
		   ]
		  },
  {
"cell_type": "code",
	   "execution_count": null,
	   "metadata": {
	    "collapsed": true
	   },
	   "outputs": [],
"source": [
"//Ex:4.34\n",
"clc;\n",
"clear;\n",
"close;\n",
"G=80;// gain in dB\n",
"G1=10^(G/10);// gain\n",
"f=300;// frequency in MHz\n",
"y=300/f;// wavelength in m\n",
"D=sqrt(G1/6)*y;// the dish parameter in m\n",
"printf('The dish parameter = %f m', D);"
   ]
   }
,
{
		   "cell_type": "markdown",
		   "metadata": {},
		   "source": [
			"## Example 4.35: What_is_the_change_in_gain_and_beamwidth.sce"
		   ]
		  },
  {
"cell_type": "code",
	   "execution_count": null,
	   "metadata": {
	    "collapsed": true
	   },
	   "outputs": [],
"source": [
"//Ex:4.35\n",
"clc;\n",
"clear;\n",
"close;\n",
"printf('new diameter=2D ');\n",
"printf('\n Gain=2*2=3 times compared to D');\n",
"printf('\n the increase in gain is 4 times or 6 dB');\n",
"printf('\n Bw varies inverse of D');\n",
"printf('\n Bw is half of previous value');"
   ]
   }
,
{
		   "cell_type": "markdown",
		   "metadata": {},
		   "source": [
			"## Example 4.36: Calculate_the_beamwidth_and_gain_as_a_power_ratio_in_dB.sce"
		   ]
		  },
  {
"cell_type": "code",
	   "execution_count": null,
	   "metadata": {
	    "collapsed": true
	   },
	   "outputs": [],
"source": [
"//Ex:4.36\n",
"clc;\n",
"clear;\n",
"close;\n",
"f=5000;// frequency in MHz\n",
"y=300/f;// wavelength in m\n",
"h=9/100;// height in m\n",
"w=8/100;//  width in m\n",
"D=(7.5*h*w)/y^2;// beamwidth in degree\n",
"Ap=(4.5*h*w)/y^2;\n",
"Ap1=10*log(Ap)/log(10);// gain as a power ratio in dB\n",
"printf('The beamwidth = %f degree', D);\n",
"printf('\n The gain as a power ratio in dB = %f dB', Ap1);"
   ]
   }
,
{
		   "cell_type": "markdown",
		   "metadata": {},
		   "source": [
			"## Example 4.37: Calculate_the_gain_of_the_horn_antenna.sce"
		   ]
		  },
  {
"cell_type": "code",
	   "execution_count": null,
	   "metadata": {
	    "collapsed": true
	   },
	   "outputs": [],
"source": [
"//Ex:4.37\n",
"clc;\n",
"clear;\n",
"close;\n",
"r=0.35;// distance in m\n",
"f=9*10^3;// frequenc in MHz\n",
"y=300/f;// wavelength in m\n",
"Wtr=8.9;\n",
"wtr=10^(Wtr/10); \n",
"wrt=1/wtr;\n",
"D=(4*%pi*r/y)*(sqrt(wrt));// gain of the horn antenna\n",
"d=10*log(D)/log(10);// gain of the horn antenna in dB\n",
"y1=10;// in m\n",
"Gp=1000;\n",
"D=sqrt((Gp*y1^2)/6);// diameter in m\n",
"HPBW=(58*y1)/D;// the half power band width in degree\n",
"printf('The gain of the horn antenna = %f dB', d);\n",
"printf('\n The half power band width = %f degree', HPBW);"
   ]
   }
,
{
		   "cell_type": "markdown",
		   "metadata": {},
		   "source": [
			"## Example 4.38: Define_folde_dipole_antenna_and_drive_its_input_impedance.sce"
		   ]
		  },
  {
"cell_type": "code",
	   "execution_count": null,
	   "metadata": {
	    "collapsed": true
	   },
	   "outputs": [],
"source": [
"//Ex:4.38\n",
"clc;\n",
"clear;\n",
"close;\n",
"// Equation of Input impedence- Let V be the emf applied at the end of terminals. This is being divided equally in each dipole. Hence voltage in each dipole V/2 as shown and by nodal analysis\n",
"// V/2=I1.z11+I2z.12\n",
"// where I1, I2 are the currents flowing at terminals of dipole no. 1 and 2 and z11 & z12 are self impedance between dipole 1 & 2 respectively\n",
"// But, I1=I2\n",
"// Then, V/2=I1(z11+z12)\n",
"// The two dipole in system are very close to each other. The spacing between two dipoles is of the order of y/100, i.e., z11=z12\n",
"// Then, V/2=I1*(2z11)\n",
"// z=V/I1 then, z=4*z11,      z11=73 for a dipole\n",
"z11=73;// for a dipole\n",
"z=4*z11;// input impedance in ohm\n",
"printf('The input impedance = %d ohm', z);"
   ]
   }
,
{
		   "cell_type": "markdown",
		   "metadata": {},
		   "source": [
			"## Example 4.39: Calculate_the_capture_area_of_antenna.sce"
		   ]
		  },
  {
"cell_type": "code",
	   "execution_count": null,
	   "metadata": {
	    "collapsed": true
	   },
	   "outputs": [],
"source": [
"//Ex:4.39\n",
"clc;\n",
"clear;\n",
"close;\n",
"G=75;// gain in dB\n",
"G1=10^(G/10);// gain\n",
"f=15000;// frequency in MHz\n",
"y=300/f;// wavelength in m\n",
"ca=(G1*y^2)/(4*%pi);// the capture area in m^2\n",
"D=sqrt(G1/6)*y;// the dish parameter in m\n",
"BWFN=(140*y)/D;// 3-dB beamwidth\n",
"printf('The capture area = %f m^2', ca);\n",
"printf('\n The 3-dB beamwidth = %f degree', BWFN);"
   ]
   }
,
{
		   "cell_type": "markdown",
		   "metadata": {},
		   "source": [
			"## Example 4.3: What_is_the_gain_in_dB_and_the_beam_width_of_a_helical_antenna.sce"
		   ]
		  },
  {
"cell_type": "code",
	   "execution_count": null,
	   "metadata": {
	    "collapsed": true
	   },
	   "outputs": [],
"source": [
"//Ex:4.3\n",
"clc;\n",
"clear;\n",
"close;\n",
"y=3;// wavelength in m\n",
"d=1;// in m\n",
"N=10;// no. of turns\n",
"s=0.75;// in m\n",
"Gp=15*(%pi^2*(1/y)^2*(10*(s/y)));// power gain\n",
"GdB=10*log(Gp)/log(10);// power gain in dB\n",
"Bw=52/(%pi*(1/y)*sqrt(10*(s/y)));// beamwidth in degree\n",
"BW=70/20;// beamwidth when d=20*y(wavelength)\n",
"printf('The power gain = %f dB', GdB);\n",
"printf('\n The beamwidth = %f degree', Bw);\n",
"printf('\n The beamwidth when d is 20*y = %f degree', BW);"
   ]
   }
,
{
		   "cell_type": "markdown",
		   "metadata": {},
		   "source": [
			"## Example 4.40: What_is_the_antenna_gain_in_decibels.sce"
		   ]
		  },
  {
"cell_type": "code",
	   "execution_count": null,
	   "metadata": {
	    "collapsed": true
	   },
	   "outputs": [],
"source": [
"//Ex:4.40\n",
"clc;\n",
"clear;\n",
"close;\n",
"f=6000;// frequency in MHz\n",
"y=300/f;// wavelength in m\n",
"A=%pi*100*0.54;// aperture area in m^2\n",
"G=(4*%pi*A)/y^2;// gain of the reflector antenna\n",
"G1=10*log(G)/log(10);// gain of the reflector antenna in dB\n",
"printf('The gain of the reflector antenna = %f dB', G1);"
   ]
   }
,
{
		   "cell_type": "markdown",
		   "metadata": {},
		   "source": [
			"## Example 4.41: What_is_the_corresponding_value_of_illumination_efficiency.sce"
		   ]
		  },
  {
"cell_type": "code",
	   "execution_count": null,
	   "metadata": {
	    "collapsed": true
	   },
	   "outputs": [],
"source": [
"//Ex:4.41\n",
"clc;\n",
"clear;\n",
"close;\n",
"// G=4*piAn/y^2=7.4ab/y^2', where y is wavelength\n",
"n=7.4/(4*%pi);// illumination efficiency\n",
"printf('The illumination efficiency = %f%%', n*100);"
   ]
   }
,
{
		   "cell_type": "markdown",
		   "metadata": {},
		   "source": [
			"## Example 4.42: What_is_its_gai.sce"
		   ]
		  },
  {
"cell_type": "code",
	   "execution_count": null,
	   "metadata": {
	    "collapsed": true
	   },
	   "outputs": [],
"source": [
"//Ex:4.42\n",
"clc;\n",
"clear;\n",
"close;\n",
"D=10;// beam width\n",
"y=30.54;// wavelength in cm\n",
"X=(58*y)/D;// 3-dB beam width\n",
"Ar=(%pi*X^2)/4;// area of the cross section in m^2\n",
"G=(4*%pi*Ar)/y^2;// the gain for y=30.54 cm\n",
"G1=10*log(G)/log(10);// the gain for y=30.54 cm in dB\n",
"y1=3.054;// wavelength in cm\n",
"X1=(58*y1)/D;// 3-dB beam width\n",
"Ar1=(%pi*X1^2)/4;// area of the cross section in m^2\n",
"G2=(4*%pi*Ar1)/y1^2;// the gain for y=3.054 cm\n",
"G3=10*log(G2)/log(10);// the gain for y=3.054 cm in dB\n",
"printf('The gain for y=30.54 cm = %f dB', G1);\n",
"printf('\n The gain for y=3.054 cm = %f dB', G3);"
   ]
   }
,
{
		   "cell_type": "markdown",
		   "metadata": {},
		   "source": [
			"## Example 4.43: Calculate_the_power_gain_and_half_power_point_beam_width.sce"
		   ]
		  },
  {
"cell_type": "code",
	   "execution_count": null,
	   "metadata": {
	    "collapsed": true
	   },
	   "outputs": [],
"source": [
"//Ex:4.43\n",
"clc;\n",
"clear;\n",
"close;\n",
"f=8*10^3;// frequency in MHz\n",
"y=300/f;// wavelength in m\n",
"BW=6;// beamwidth in degree\n",
"D=(70*y)/BW;// in m\n",
"hpbw=(58*y)/D;// the half power point beam width in degree\n",
"Ap=(6*D^2)/y^2;// power gain\n",
"Ap1=10*log(Ap)/log(10);// power gain in dB\n",
"printf('The half power point beam width = %f degree', hpbw);\n",
"printf('\n The power gain = %f', Ap);\n",
"printf('\n The power gain in dB = %f dB', Ap1);"
   ]
   }
,
{
		   "cell_type": "markdown",
		   "metadata": {},
		   "source": [
			"## Example 4.44: Calculate_the_diameter_of_antenna_and_half_power_point_beam_width.sce"
		   ]
		  },
  {
"cell_type": "code",
	   "execution_count": null,
	   "metadata": {
	    "collapsed": true
	   },
	   "outputs": [],
"source": [
"//Ex:4.44\n",
"clc;\n",
"clear;\n",
"close;\n",
"f=3*10^3;// frequency in MHz\n",
"y=300/f;// wavelength in m\n",
"Ap=26;// power gain in dB\n",
"Ap1=10^(Ap/10);// power gain\n",
"D=sqrt((Ap1*y^2)/6);// diameter of antenna in m\n",
"hpbw=(58*y)/D;// the half power point beam width in degree\n",
"printf('The diameter of antenna = %f cm', D*100);\n",
"printf('\n The half power point beam width = %f degree', hpbw);"
   ]
   }
,
{
		   "cell_type": "markdown",
		   "metadata": {},
		   "source": [
			"## Example 4.45: Calculate_the_directivity_and_power_gain_as_a_ratio_and_in_dB.sce"
		   ]
		  },
  {
"cell_type": "code",
	   "execution_count": null,
	   "metadata": {
	    "collapsed": true
	   },
	   "outputs": [],
"source": [
"//Ex:4.45\n",
"clc;\n",
"clear;\n",
"close;\n",
"f=8*10^3;// frequency in MHz\n",
"y=300/f;// wavelength in m\n",
"A=8*4/100^2;// Area in m^2\n",
"D=(7.5*A)/y^2;// directivity of the horn antenna\n",
"Ap=(4.5*A)/y^2;// power gain\n",
"Ap1=10*log(Ap)/log(10);// power gain in dB\n",
"printf('The directivity of the horn antenna = %f degree', D);\n",
"printf('\n The power gain = %f', Ap);\n",
"printf('\n The power gain in dB = %f dB', Ap1);"
   ]
   }
,
{
		   "cell_type": "markdown",
		   "metadata": {},
		   "source": [
			"## Example 4.46: Calculate_the_aperture_height.sce"
		   ]
		  },
  {
"cell_type": "code",
	   "execution_count": null,
	   "metadata": {
	    "collapsed": true
	   },
	   "outputs": [],
"source": [
"//Ex:4.46\n",
"clc;\n",
"clear;\n",
"close;\n",
"f=4*10^3;// frequency in MHz\n",
"y=300/f;// wavelength in m\n",
"w=10/100;// width in m\n",
"Ap=25;// power gain in dB\n",
"Ap1=10^(Ap/10);// power gain\n",
"h=(Ap1*y^2)/(4.5*w);// aperture height in m\n",
"printf('The aperture height in m = %f m', h);\n",
"printf('\n The aperture height in cm = %f cm', h*100);"
   ]
   }
,
{
		   "cell_type": "markdown",
		   "metadata": {},
		   "source": [
			"## Example 4.47: Determine_the_dimensions_of_the_horn_mouth_and_the_directive_gain.sce"
		   ]
		  },
  {
"cell_type": "code",
	   "execution_count": null,
	   "metadata": {
	    "collapsed": true
	   },
	   "outputs": [],
"source": [
"//Ex:4.47\n",
"clc;\n",
"clear;\n",
"close;\n",
"Y1=10;// the half power beam width in E-plane in degree\n",
"Y2=10;// the half power beam width in H-plane in degree\n",
"// Y1=51y/b, where y= wavelength \n",
"// b=51y/10=5.1y\n",
"// Y2=67y/a, then a=67y/10=6.7y\n",
"// the directive gain, G=4.5*l*h/y^2=4.5*6.7y*5.1y/y^2=4.5*6.7*5.1\n",
"G=4.5*6.7*5.1;// the directive gain over the y/2 antenna\n",
"G1=10*log(G)/log(10);// the directive gain over the y/2 antenna in dB\n",
"printf('The dimension of the horn mouth, a=6.7*y, where y is wavelength in m');\n",
"printf('\n The dimension of the horn mouth, b=5.1*y, where y is wavelength in m');\n",
"printf('\n The directive gain over the y/2 antenna = %f', G);\n",
"printf('\n The directive gain over the y/2 antenna in dB = %f dB', G1);"
   ]
   }
,
{
		   "cell_type": "markdown",
		   "metadata": {},
		   "source": [
			"## Example 4.48: Calculate_the_gain_of_the_transmitting_antenna.sce"
		   ]
		  },
  {
"cell_type": "code",
	   "execution_count": null,
	   "metadata": {
	    "collapsed": true
	   },
	   "outputs": [],
"source": [
"//Ex:4.48\n",
"clc;\n",
"clear;\n",
"close;\n",
"f=9*10^3;// frequency in MHz\n",
"y=300/f;// wavelength in m\n",
"Pr=5.4*10^-3;// received power in watt\n",
"Pt=20;// transmitted power in watt\n",
"Gr=15;// receiver gain in dB\n",
"Gr1=10^(Gr/10);// receiver gain\n",
"d=10;// distance in m\n",
"Gt=(Pr*(4*%pi*d)^2)/(Pt*Gr1*(y^2));// transmitter antenna gain\n",
"Gt1=10*log(Gt)/log(10);// transmitter antenna gain in dB\n",
"printf('The transmitter antenna gain = %f', Gt);\n",
"printf('\n The transmitter antenna gain in dB = %f dB', Gt1);"
   ]
   }
,
{
		   "cell_type": "markdown",
		   "metadata": {},
		   "source": [
			"## Example 4.49: Calculate_the_gain_and_half_power_beam_widths.sce"
		   ]
		  },
  {
"cell_type": "code",
	   "execution_count": null,
	   "metadata": {
	    "collapsed": true
	   },
	   "outputs": [],
"source": [
"//Ex:4.49\n",
"clc;\n",
"clear;\n",
"close;\n",
"f=10*10^3;// frequency in MHz\n",
"y=300/f;// wavelength in m\n",
"a=5.2/100;// height in m\n",
"b=3.8/100;// width in m\n",
"A=a*b;// area in m^2\n",
"G=(4*%pi*A)/y^2;// the gain of the horn\n",
"G1=10*log(G)/log(10);// the gain of the horn in dB\n",
"he=(51*y)/b;// the half power point beam width in E-plane in degree\n",
"hh=(67*y)/a;// the half power point beam width in H-plane in degree\n",
"printf('The gain of the horn = %f', G);\n",
"printf('\n The the gain of the horn in dB = %f dB', G1);\n",
"printf('\n The half power point beam width in E-plane = %f degree', he);\n",
"printf('\n The half power point beam width in H-plane = %f degree', hh);"
   ]
   }
,
{
		   "cell_type": "markdown",
		   "metadata": {},
		   "source": [
			"## Example 4.4: How_large_is_the_dish_diameter.sce"
		   ]
		  },
  {
"cell_type": "code",
	   "execution_count": null,
	   "metadata": {
	    "collapsed": true
	   },
	   "outputs": [],
"source": [
"//Ex:4.4\n",
"clc;\n",
"clear;\n",
"close;\n",
"f=300*10^6;// frequency in Hz\n",
"c=3*10^8;// the speed of light in m/s\n",
"y=c/f;// wavelength in m\n",
"GdB=60;// gain in dB\n",
"G=10^(GdB/10);// gain\n",
"D=sqrt(G/6)*y;// diameter in m\n",
"D1=3.28*D;// diameter in m\n",
"printf('The dish diameter = %d meter', D);\n",
"printf('\n The dish diameter = %d ft.', D1);"
   ]
   }
,
{
		   "cell_type": "markdown",
		   "metadata": {},
		   "source": [
			"## Example 4.50: Calculate_the_HPBW_and_directivity.sce"
		   ]
		  },
  {
"cell_type": "code",
	   "execution_count": null,
	   "metadata": {
	    "collapsed": true
	   },
	   "outputs": [],
"source": [
"//Ex:4.50\n",
"clc;\n",
"clear;\n",
"close;\n",
"N=30;// number of turns\n",
"// Diameter, d=y/3, where, y= wavelength\n",
"// spacing, S=y/5\n",
"// hpbw=52/((pi*d/y)*sqrt(NS/y))=52/((pi*y/3y)*sqrt(30y/5y))\n",
"hpbw=53*3/(%pi*sqrt(30/5));// half power point beam width in degree\n",
"// the directivity, D=15*NS*(pi*d)^2/y^3=((15*30*y)/(5y^3))*(pi*y/3)^2\n",
"D=15*30*%pi^2/(5*3^2);// the directivity\n",
"D1=10*log(D)/log(10);// the directivity in dB\n",
"printf('The half power point beam width = %f degree', hpbw);\n",
"printf('\n The directivity = %f', D);\n",
"printf('\n The directivity in dB= %f dB', D1);"
   ]
   }
,
{
		   "cell_type": "markdown",
		   "metadata": {},
		   "source": [
			"## Example 4.51: EX4_51.sce"
		   ]
		  },
  {
"cell_type": "code",
	   "execution_count": null,
	   "metadata": {
	    "collapsed": true
	   },
	   "outputs": [],
"source": [
"//Ex:4.51\n",
"clc;\n",
"clear;\n",
"close;\n",
"f=1.7*10^3;// frequency in MHz\n",
"y=300/f;// wavelength in m\n",
"D=4.84/100;// diameter in m\n",
"a=11.7*%pi/180;// angle in radian\n",
"C=%pi*D;// circumference of the helix in m\n",
"S=C*tan(a);// in m\n",
"L=78.7/100;// length in m\n",
"N=L/S;// the number of turns\n",
"Dr=(15*N*S*(%pi*D)^2)/y^3;// the directivity of the antenna\n",
"Dr1=10*log(Dr/10);// the directivity of the antenna in dB\n",
"h_3dB=52/((%pi*D/y)*sqrt(N*S/y));// half power point beam width in degree\n",
"Ar=(2*N+1)/(2*N);// the axial ratio\n",
"printf('The number of turns = %f', N);\n",
"printf('\n The directivity of the antenna = %f', Dr);\n",
"printf('\n The directivity of the antenna in dB = %f dB', Dr1);\n",
"printf('\n The half power point beam width in degree = %f degree', h_3dB);\n",
"printf('\n The axial ratio = %f', Ar);"
   ]
   }
,
{
		   "cell_type": "markdown",
		   "metadata": {},
		   "source": [
			"## Example 4.5: What_is_the_change_in_gain_and_beam_width.sce"
		   ]
		  },
  {
"cell_type": "code",
	   "execution_count": null,
	   "metadata": {
	    "collapsed": true
	   },
	   "outputs": [],
"source": [
"//Ex:4.5\n",
"clc;\n",
"clear;\n",
"close;\n",
"printf('By the formula, gain increases with the square of D, so new diameter =2D will have gain 2*2=4 compared to diameter D. The increase in gain is 4 times or 6dB.');\n",
"printf('\n Similarly, the beamwidth varies with the inverse of D, so the new D causes beamwidth to one half its previous value ');"
   ]
   }
,
{
		   "cell_type": "markdown",
		   "metadata": {},
		   "source": [
			"## Example 4.6: what_is_the_change_in_gain.sce"
		   ]
		  },
  {
"cell_type": "code",
	   "execution_count": null,
	   "metadata": {
	    "collapsed": true
	   },
	   "outputs": [],
"source": [
"//Ex:4.6\n",
"clc;\n",
"clear;\n",
"close;\n",
"printf('The formula for the gain shows that it is proportional to 1/y^3, a new y(wavelength) is half of the previous value will therefore increase the gain by');\n",
"printf('\n 1/(1/2)^3=8 times ')"
   ]
   }
,
{
		   "cell_type": "markdown",
		   "metadata": {},
		   "source": [
			"## Example 4.7: Calculate_the_beamwidth_and_gain_as_a_power_ratio_and_in_dB.sce"
		   ]
		  },
  {
"cell_type": "code",
	   "execution_count": null,
	   "metadata": {
	    "collapsed": true
	   },
	   "outputs": [],
"source": [
"//Ex:4.7\n",
"clc;\n",
"clear;\n",
"close;\n",
"Vc=3*10^10;// the speed of light in m/cm\n",
"f=5*10^9;// frequency in Hz\n",
"y=Vc/f;// wavelength in cm\n",
"hw=9*8;// aperture dimensions in cm\n",
"D=(7.5*hw)/y^2;// beamwidth in degree\n",
"Ap=(4.5*hw)/y^2;\n",
"G=10*log(Ap)/log(10);// gain as a power ratio and in dB\n",
"printf('The beamwidth = %d degree', D);\n",
"printf('\n The gain as a power ratio and in dB = %f dB', G);"
   ]
   }
,
{
		   "cell_type": "markdown",
		   "metadata": {},
		   "source": [
			"## Example 4.8: What_are_the_dimensions_of_the_elements.sce"
		   ]
		  },
  {
"cell_type": "code",
	   "execution_count": null,
	   "metadata": {
	    "collapsed": true
	   },
	   "outputs": [],
"source": [
"//Ex:4.8\n",
"clc;\n",
"clear;\n",
"close;\n",
"Vc=3*10^8;// the speed of light in m/cm\n",
"f=100*10^6;// frequency in Hz\n",
"y=Vc/f;// wavelength in cm\n",
"de=(y/2)+(y/2)*(5/100);// driven element length in m\n",
"l1=(y/2)-(y/2)*(5/100);// first director length in m\n",
"l2=l1-(l1*5/100);// second director length in m\n",
"l3=l2-(l2*5/100);// third director length in m\n",
"l_s=0.2*y*4;// support boom length in m\n",
"L_s=l_s*3.28;// support boom length in ft.\n",
"printf('The first director length = %f meter', l1);\n",
"printf('\n The second director length = %f meter', l2);\n",
"printf('\n The third director length = %f meter', l3);\n",
"printf('\n The support boom length in m = %f meter', l_s);\n",
"printf('\n The support boom length in ft. = %d ft.', L_s)"
   ]
   }
,
{
		   "cell_type": "markdown",
		   "metadata": {},
		   "source": [
			"## Example 4.9: Calculate_the_power_gain_of_an_optimum_horn_antenna.sce"
		   ]
		  },
  {
"cell_type": "code",
	   "execution_count": null,
	   "metadata": {
	    "collapsed": true
	   },
	   "outputs": [],
"source": [
"//Ex:4.9\n",
"clc;\n",
"clear;\n",
"close;\n",
"printf('Aperture=10y*10y');\n",
"printf('\n then, G=(4.5*10y*10y)/(y^2)');\n",
"printf('\n and finally, G=4.5*100');\n",
"G=4.5*100;// power gain of optimum horn antenna\n",
"printf('\n The power gain of optimum horn antenna = %d', G);"
   ]
   }
],
"metadata": {
		  "kernelspec": {
		   "display_name": "Scilab",
		   "language": "scilab",
		   "name": "scilab"
		  },
		  "language_info": {
		   "file_extension": ".sce",
		   "help_links": [
			{
			 "text": "MetaKernel Magics",
			 "url": "https://github.com/calysto/metakernel/blob/master/metakernel/magics/README.md"
			}
		   ],
		   "mimetype": "text/x-octave",
		   "name": "scilab",
		   "version": "0.7.1"
		  }
		 },
		 "nbformat": 4,
		 "nbformat_minor": 0
}
