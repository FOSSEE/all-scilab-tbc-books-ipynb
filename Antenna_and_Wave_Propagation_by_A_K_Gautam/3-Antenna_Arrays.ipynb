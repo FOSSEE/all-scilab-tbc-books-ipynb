{
"cells": [
 {
		   "cell_type": "markdown",
	   "metadata": {},
	   "source": [
       "# Chapter 3: Antenna Arrays"
	   ]
	},
{
		   "cell_type": "markdown",
		   "metadata": {},
		   "source": [
			"## Example 3.10: Calculate_the_Dolph_Tchebysceff_distribution_which_yield_the_optimum_pattern.sce"
		   ]
		  },
  {
"cell_type": "code",
	   "execution_count": null,
	   "metadata": {
	    "collapsed": true
	   },
	   "outputs": [],
"source": [
"//Ex:3.10\n",
"clc;\n",
"clear;\n",
"close;\n",
"xnp=35;// beam width in degree\n",
"xnp1=(xnp/2)*(%pi/180);// half beam width in degree\n",
"// T(m-1)(x)=0 or T(8-1)(x)=0, or T(7)(x)=0\n",
"// cos((m-1)*acos(x))=0\n",
"// (8-1)*acos(x)=cos(2k-1)*(%pi/2)\n",
"// acos(x)=(2k-1)*pi/14\n",
"// for  first nulls , k=1\n",
"// acos(x)=pi/14;\n",
"x=cos(%pi/14);\n",
"// but z=x/xo=cos(p/2)\n",
"// p=Bd*sin(xnp1)\n",
"// p/2=Bd*sin(xnp1)/2\n",
"// x/xo=cos(Bd*sin(xnp1)/2)\n",
"// and Bd*sin(a)=(2*%pi/y)*(y/2)*(1/2)*sin(xnp1)\n",
"// and Bd*sin(xnp1)=90*sin(xnp1)\n",
"xo=x/(cos((90*sin(xnp1)*(%pi/180))));\n",
"// aoz+a1(4z^3-3z)+a2(16z^5-20z^3+5z)+a3(64z^7-112z^5+56z^3-7z)=64x^7-112x^5+56x^3-7x, where z=(x/xo)\n",
"// Then on putting z=(x/xo), we get\n",
"// ao(x/xo)+a1(4(x/xo)^3-3(x/xo))+a2(16(x/xo)^5-20(x/xo)^3+5(x/xo))+a3(64(x/xo)^7-112(x/xo)^5+56(x/xo)^3-7(x/xo))=64x^7-112x^5+56x^3-7x\n",
"// on comparing the terms, we get ao=3.339,a1=2.919,a2=2.191,a3=1.886\n",
"ao=3.339; \n",
"a1=2.919;\n",
"a2=2.191;\n",
"a3=1.886;\n",
"a33=a3/a3;// the ratio of the a3 to a3\n",
"a23=a2/a3;// the ratio of the a2 to a3\n",
"a13=a1/a3;// the ratio of the a1 to a3\n",
"ao3=ao/a3;// the ratio of the ao to a3\n",
"printf('The value of the parameter xo = %f', xo);\n",
"printf('\n The value of the amplitude parameter ao= %f', ao);\n",
"printf('\n The value of the amplitude parameter a1= %f', a1);\n",
"printf('\n The value of the amplitude parameter a2= %f', a2);\n",
"printf('\n The value of the amplitude parameter a3= %f', a3);\n",
"printf('\n The value of the relative amplitude parameter a33= %f', a33);\n",
"printf('\n The value of the relative amplitude parameter a23= %f', a23);\n",
"printf('\n The value of the relative amplitude parameter a13= %f', a13);\n",
"printf('\n The value of the relative amplitude parameter ao3= %f', ao3);\n",
"printf('\n The five element array is shown in figure in the given textbook')"
   ]
   }
,
{
		   "cell_type": "markdown",
		   "metadata": {},
		   "source": [
			"## Example 3.11: Design_an_array_that_will_produce_approximately_a_pattern_of_the_given_figure.sce"
		   ]
		  },
  {
"cell_type": "code",
	   "execution_count": null,
	   "metadata": {
	    "collapsed": true
	   },
	   "outputs": [],
"source": [
"//Ex:3.11\n",
"clc;\n",
"clear;\n",
"close;\n",
"// The given pattern is defined as\n",
"// f(x)=1,   0<x<pi/3\n",
"// f(x)=0,   pi/3<x<2*pi/3\n",
"// f(x)=1,   2*pi/3<x<pi\n",
"// It will, of course, by symmetrical about the line of the array x=0. If the spacing is closer to be y/2, then p=pi*cos(x)+a\n",
"// f(p)=1,     pi+a > p > pi/2+a\n",
"// f(p)=0,     pi/2+a > p > -pi/2+a\n",
"// f(p)=1,     -pi/2+a > p > -pi+a\n",
"// choosing a=-pi for an end fire array results in the function shown in figure in the given text book. The fourier series expansion for this function is\n",
"// F(p)=(1/2)+((2/pi)*sigma(1/k*sin(k*pi/2)*cos(kp))), k varies from 1 to infinite\n",
"// Therefore the coefficient\n",
"// ao=1/2\n",
"// ak=(1/pi*k)*(sin(pi*k/2))\n",
"// bk=0, k not equal to 0\n",
"// The pattern obtained using the value of m=4 is given as\n",
"// mode(E)= (1/pi)*(-(1/3)*z^-3)+z^-1+pi/2+z-(1/3)*z^3\n",
"printf('The fire element array having the current ratios indicated and an overall length of three wavelength (the apparent spacing between elements is one half wavelength, but four of the elements are missing). The pattern produced by this array is shown in figure in the given textbook')"
   ]
   }
,
{
		   "cell_type": "markdown",
		   "metadata": {},
		   "source": [
			"## Example 3.12: Prove_that_the_directivity_of_an_end_fire_array.sce"
		   ]
		  },
  {
"cell_type": "code",
	   "execution_count": null,
	   "metadata": {
	    "collapsed": true
	   },
	   "outputs": [],
"source": [
"//Ex:3.12\n",
"clc;\n",
"clear;\n",
"close;\n",
"// D=4*%pi*E(x,y)max/(double integration of (f(x,y)*sin(x)) with limit from 0 to 2*pi & other from 0 to pi)\n",
"// E(x)=Eo*(sin(n*si/2))/sin(si/2)=E(x)=(sin(2*si/2))/sin(si/2)=E(x)=(sin(si))/sin(si/2),    for=Eo=1, n=2\n",
"// E(x)=2*cos(si/2)\n",
"// (E(x))^2=2*(1+cos(si))\n",
"// si=Bd*cos(x)+a, and a=-Bd\n",
"// then,  si=Bd*cos(x)-Bd\n",
"A=2*(1+cos(0));// the value of (E(x))^2max\n",
"// Now on putting the value of (E(x))^2max and (E(x))^2, we get\n",
"// D=4*pi*4/(2*pi)*integrate('2(1+cos(y)*sin(x))','x',0,pi)\n",
"// then D=4/(integrate('(1+cos(y)*sin(x))','x',0,pi))\n",
"// D=4/(integrate('sin(x)+cos(y)*sin(x)','x',0,pi))\n",
"// On solving this, we get,\n",
"// D=4/(2+sin(2Bd)/Bd)=2/(1+sin(2Bd)/2Bd)\n",
"printf('The directivity of an end fire array, D=2/(1+sin(2Bd)/2Bd)');"
   ]
   }
,
{
		   "cell_type": "markdown",
		   "metadata": {},
		   "source": [
			"## Example 3.13: Prove_that_directivity_for_a_broadside_array_of_two_identical_isotropic.sce"
		   ]
		  },
  {
"cell_type": "code",
	   "execution_count": null,
	   "metadata": {
	    "collapsed": true
	   },
	   "outputs": [],
"source": [
"//Ex:3.13\n",
"clc;\n",
"clear;\n",
"close;\n",
"// D=4*%pi*E(x,y)max/(double integration of (f(x,y)*sin(x)) with limit from 0 to 2*pi & other from 0 to pi)\n",
"// E(x)=Eo*(sin(n*si/2))/sin(si/2)=E(x)=(sin(2*si/2))/sin(si/2)=E(x)=(sin(si))/sin(si/2),    for=Eo=1, n=2\n",
"// E(x)=2*cos(si/2)\n",
"// (E(x))^2=2*(1+cos(si))\n",
"// si=Bd*cos(x)+a, and a=-Bd\n",
"// then,  si=Bd*cos(x)-Bd\n",
"A=2*(1+cos(0));// the value of (E(x))^2max\n",
"// Now on putting the value of (E(x))^2max and (E(x))^2, we get\n",
"// D=4*pi*4/(2*pi)*integrate('2(1+cos(y)*sin(x))','x',0,pi)\n",
"// then D=4*pi*4/(integrate('(1+cos(y)*sin(x))','x',0,pi))\n",
"// D=4*pi*4/(integrate('(1+cos(y)*sin(x))','x',0,pi))\n",
"// D=4*pi*4/(integrate('sin(x)+cos(y)*sin(x)','x',0,pi))\n",
"// On solving this, we get, D=4*pi*4/(2*pi(2+2.sin(Bd)/Bd))=4/2*(1+sin(Bd)/Bd)\n",
"// and finally, D=2/(1+sin(Bd)/Bd)\n",
"printf('The directivity for a broadeside array, D=2/(1+sin(Bd)/Bd)');"
   ]
   }
,
{
		   "cell_type": "markdown",
		   "metadata": {},
		   "source": [
			"## Example 3.14: Calculate_the_Dolph_Tchebyscheff_distribution_which_yield_the_optimum_pattern.sce"
		   ]
		  },
  {
"cell_type": "code",
	   "execution_count": null,
	   "metadata": {
	    "collapsed": true
	   },
	   "outputs": [],
"source": [
"//Ex:3.14\n",
"clc;\n",
"clear;\n",
"close;\n",
"xnp=45;// beam width in degree\n",
"xnp1=(xnp/2)*(%pi/180);// half beam width in degree\n",
"// T(n-1)(x)=0 or T(8-1)(x)=0, or T(7)(x)=0\n",
"// cos((m-1)*acos(x))=0\n",
"// (8-1)*acos(x)=cos(2k-1)*(%pi/2)\n",
"// acos(x)=(2k-1)*pi/14\n",
"// for  first nulls , k=1\n",
"// acos(x)=pi/14;\n",
"x=cos(%pi/14);\n",
"// but z=x/xo=cos(p/2)\n",
"// p=Bd*sin(xnp1)\n",
"// p/2=Bd*sin(xnp1)/2\n",
"// x/xo=cos(Bd*sin(xnp1)/2)\n",
"// and Bd*sin(a)=(2*%pi/y)*(y/2)*(1/2)*sin(xnp1)\n",
"// and Bd*sin(xnp1)=90*sin(xnp1)\n",
"xo=x/(cos((90*sin(xnp1)*(%pi/180))));\n",
"// aoz+a1(4z^3-3z)+a^2(16z^5-20z^3+5z)+a^3(64z^7-112z^5+56z^3-7z)=64x^7-112x^5+56x^3-7x, where z=(x/xo)\n",
"// Then on putting z=(x/xo), we get\n",
"// ao(x/xo)+a1(4(x/xo)^3-3(x/xo))+a^2(16(x/xo)^5-20(x/xo)^3+5(x/xo))+a^3(64(x/xo)^7-112(x/xo)^5+56(x/xo)^3-7(x/xo))=64x^7-112x^5+56x^3-7x\n",
"// on comparing the terms, we get ao=12.3858,a1=10.0506,a2=6.4106,a3=3.223\n",
"ao=12.3858; \n",
"a1=10.0506;\n",
"a2=6.4106;\n",
"a3=3.223;\n",
"a33=a3/a3;// the ratio of the a3 to a3\n",
"a23=a2/a3;// the ratio of the a2 to a3\n",
"a13=a1/a3;// the ratio of the a1 to a3\n",
"ao3=ao/a3;// the ratio of the ao to a3\n",
"printf('The value of the parameter xo = %f', xo);\n",
"printf('\n The value of the current amplitude parameter ao= %f', ao);\n",
"printf('\n The value of the current amplitude parameter a1= %f', a1);\n",
"printf('\n The value of the current amplitude parameter a2= %f', a2);\n",
"printf('\n The value of the current amplitude parameter a2= %f', a3);\n",
"printf('\n The value of the relative amplitude parameter a33= %f', a33);\n",
"printf('\n The value of the relative amplitude parameter a23= %f', a23);\n",
"printf('\n The value of the relative amplitude parameter a13= %f', a13);\n",
"printf('\n The value of the relative amplitude parameter ao3= %f', ao3);\n",
"printf('\n The five element array is shown in figure in the given textbook')"
   ]
   }
,
{
		   "cell_type": "markdown",
		   "metadata": {},
		   "source": [
			"## Example 3.15: EX3_15.sce"
		   ]
		  },
  {
"cell_type": "code",
	   "execution_count": null,
	   "metadata": {
	    "collapsed": true
	   },
	   "outputs": [],
"source": [
"//Ex:3.15\n",
"clc;\n",
"clear;\n",
"close;\n",
"dB=40;\n",
"n=8;// five element array\n",
"r1=10^(dB/20);// because dB=20log(r1)\n",
"r=floor(r1);\n",
"// Tchebyscheff polynomial of degree (n-1)=8-1=4\n",
"// T7(xo)=r\n",
"// 64xo^7-112xo^5+56xo^3-7xo=r\n",
"// then using ulternate formula, we get the value of xo\n",
"m=7;// degree of the equation\n",
"a=sqrt(r^2-1);\n",
"A=(r+a)^(1/m);\n",
"B=(r-a)^(1/m);\n",
"xo1=.5*(A+B);\n",
"xo=1.3244;// approx. value of xo1\n",
"// Thus Et, i.e., E8 from the equation\n",
"// E8=aoz+a1(4z^3-3z)+a^2(16z^5-20z^3+5z)+a^3(64z^7-112z^5+56z^3-7z)=64x^7-112x^5+56x^3-7x, where z=(x/xo)\n",
"// Then on putting z=(x/xo), we get\n",
"// ao(x/xo)+a1(4(x/xo)^3-3(x/xo))+a^2(16(x/xo)^5-20(x/xo)^3+5(x/xo))+a^3(64(x/xo)^7-112(x/xo)^5+56(x/xo)^3-7(x/xo))=64x^7-112x^5+56x^3-7x\n",
"// Now equating terms, we have\n",
"a3=xo^7;\n",
"a2=7*a3-7*xo^5;\n",
"a1=14*xo^3+5*a2-14*a3;\n",
"ao=-7*xo+3*a1-5*a2+7*a3;\n",
"a33=a3/a3;// the ratio of the a3 to a3\n",
"a23=a2/a3;// the ratio of the a2 to a3\n",
"a13=a1/a3;// the ratio of the a1 to a3\n",
"ao3=ao/a3;// the ratio of the ao to a3\n",
"R=r/sqrt(2);\n",
"// Y=acos(R/sqrt(2))= log(R+sqrt(R^2-1))\n",
"Y=(1/7)*log(R+sqrt(R^2-1))/log(10);\n",
"// cosh(Y/4)=cosh(1.19/4)=cosh(0.2975)\n",
"// because cosh(x)= 1+(x^2/2)+(x^4/24)+.....\n",
"// cosh(0.3072)=1+(0.3072^2/2)+(0.3072^4/24)\n",
"K=1+(0.3072^2/2)+(0.3072^4/24);\n",
"// HPBW= 2*asin((y/180*d)*acos(1/x0*cosh(Y/4)))\n",
"// HPBW= 2*asin((y*4/180*3y)*acos(1/x0*cosh(0.3072)))\n",
"// HPBW= 2*asin((4/3*180)*acos(1/x0*K))\n",
"HPBW=2*(asin((4/540)*(acos(K/xo))*(180/%pi)))*180/%pi;// half power bandwidth in degree\n",
"printf('The value of the parameter r= %d', r);\n",
"printf('\n The value of the parameter xo= %f', xo);\n",
"printf('\n The value of the current amplitude parameter ao= %f', ao);\n",
"printf('\n The value of the current amplitude parameter a1= %f', a1);\n",
"printf('\n The value of the current amplitude parameter a2= %f', a2);\n",
"printf('\n The value of the current amplitude parameter a3= %f', a3);\n",
"printf('\n The value of the relative amplitude parameter a33= %f', a33);\n",
"printf('\n The value of the relative amplitude parameter a23= %f', a23);\n",
"printf('\n The value of the relative amplitude parameter a13= %f', a13);\n",
"printf('\n The value of the relative amplitude parameter ao3= %f', ao3);\n",
"printf('\n The half power bandwidth= %f degree', HPBW);\n",
"printf('\n The five element array is shown in figure in the given textbook')"
   ]
   }
,
{
		   "cell_type": "markdown",
		   "metadata": {},
		   "source": [
			"## Example 3.16: Find_the_directivity_of_linear_broad_side.sce"
		   ]
		  },
  {
"cell_type": "code",
	   "execution_count": null,
	   "metadata": {
	    "collapsed": true
	   },
	   "outputs": [],
"source": [
"//Ex:3.16\n",
"clc;\n",
"clear;\n",
"close;\n",
"n=10;// number of isotropic elements\n",
"// d=y/4\n",
"// Do=2n*(d/y)\n",
"// Do=2n*(y/4y)=2n(1/4)\n",
"Do=2*n*(1/4);\n",
"D0=10*log(Do)/log(10);// Directivity in db\n",
"printf('the Directivity = %f dB', D0);"
   ]
   }
,
{
		   "cell_type": "markdown",
		   "metadata": {},
		   "source": [
			"## Example 3.17: Find_the_directivity_of_linear_end_fire.sce"
		   ]
		  },
  {
"cell_type": "code",
	   "execution_count": null,
	   "metadata": {
	    "collapsed": true
	   },
	   "outputs": [],
"source": [
"//Ex:3.17\n",
"clc;\n",
"clear;\n",
"close;\n",
"n=10;// number of isotropic elements\n",
"// d=y/4\n",
"// Do=4n*(d/y)\n",
"// Do=4n*(y/4y)=2n(1/4)\n",
"Do=4*n*(1/4);\n",
"D0=10*log(Do)/log(10);// Directivity in db\n",
"printf('the Directivity = %d dB', D0);"
   ]
   }
,
{
		   "cell_type": "markdown",
		   "metadata": {},
		   "source": [
			"## Example 3.18: Find_the_directivity_of_a_linear_end_fire.sce"
		   ]
		  },
  {
"cell_type": "code",
	   "execution_count": null,
	   "metadata": {
	    "collapsed": true
	   },
	   "outputs": [],
"source": [
"//Ex:3.18\n",
"clc;\n",
"clear;\n",
"close;\n",
"n=10;// number of isotropic elements\n",
"// d=y/4\n",
"// Do=1.789(4n*(d/y))\n",
"// Do=1.789(4n*(y/4y)=2n(1/4))\n",
"Do=1.789*(4*n*(1/4));\n",
"D0=10*log(Do)/log(10);// Directivity in db\n",
"printf('the Directivity = %f dB', D0);"
   ]
   }
,
{
		   "cell_type": "markdown",
		   "metadata": {},
		   "source": [
			"## Example 3.19: Define_antenna_gain_and_directivity.sce"
		   ]
		  },
  {
"cell_type": "code",
	   "execution_count": null,
	   "metadata": {
	    "collapsed": true
	   },
	   "outputs": [],
"source": [
"//Ex:3.19\n",
"clc;\n",
"clear;\n",
"close;\n",
"printf('Gain: gain is define as the ratio of max radiation. Intensity in a given direction  to the max radiation intensity from the reference antenna produced in the same direction with same power input.');\n",
"printf('\n Gain=max radiation intensity from test antenna/max radiation intensity from reference antenna with same power input ');\n",
"printf('\n Directivity: The max directivity gain is called as directivity of an antenna. We can defined directivity of antenna as follows. It is the ratio of max radiotion intensity to  its average raiotion intensity.');\n",
"printf('\n directivity= max radiation intensity from test antenna/average radiation intensity of test antenna');"
   ]
   }
,
{
		   "cell_type": "markdown",
		   "metadata": {},
		   "source": [
			"## Example 3.1: EX3_1.sce"
		   ]
		  },
  {
"cell_type": "code",
	   "execution_count": null,
	   "metadata": {
	    "collapsed": true
	   },
	   "outputs": [],
"source": [
"//Ex:3.1\n",
"clc;\n",
"clear;\n",
"close;\n",
"// the path difference, x=dcos(a)\n",
"// therefore, phase difference , w=(2*%pi/y)*dcos(a)=Bdcos(a)\n",
"// from the geometry of the figure in the far field r>>d\n",
"// r1=r+x=r+dcos(a)\n",
"// r2=r-x=r-dcos(a)\n",
"// Hence, Et=I1exp^(-jB(r+dcos(a)))+I2exp^(-jB(r-dcos(a)))\n",
"// Et=exp^(-jBr)(I1exp^(-jBdcos(a))+I2exp^(-jBdcos(a)))\n",
"// case (a): in case I, we have I1=I2=I\n",
"// Hence, Et=Iexp^(-jBr)*(exp^(-jBdcos(a))+exp^(-jBdcos(a)))=2exp^(-jBr)*cos(Bdcos(a))\n",
"// Et will be max when cos(Bdcos(a)) will be max. therefore\n",
"// cos(Bd*cos(a))=1\n",
"// Bd*cos(a)=0\n",
"// a_max=n*%pi/2, where n=1,2,3,........\n",
"// hence , for the half power point a_HPPD\n",
"// cos(Bd*cos(a))=1/(sqrt(2))\n",
"// Bd*cos(a)=%pi/4\n",
"// cos(a_HPPD)=%pi/4Bd= %pi/(4*2%pi*0.75y/y)=1/6\n",
"// a_HPPD=acos(1/6)\n",
"a_HPPD=(acos(1/6)*180/%pi);// the half power point in degree\n",
"a_m=2*a_HPPD;// the half power beam width in degree\n",
"// In case I1=I and I2=Iexp^(j540)=Iexp^(j180)=-I\n",
"// therefore, Et2=Iexp^(-jBr)*(exp^(-jBdcos(a))+exp^(-jBdcos(a)))\n",
"// =2j*I*exp^(-jBd)*sin(Bdcos(a))\n",
"// The max value of sin(Bdcos(a)) is at a=%pi. When\n",
"// sin(Bd*cos(a))=sin(Bd*cos(%pi))=sin(-Bd)=sin(-2*%pi*3y/(y*4))=sin(-3%Pi/2)=1\n",
"// Hence at the half power point a_HPPD2\n",
"// sin(Bd*cos(a))=1/(sqrt(2))\n",
"// Bd*cos(a_HPPD2)=%pi/4\n",
"// cos(a_HPPD2)=%pi/(4*2%pi*0.75y/y)=1/6\n",
"a_HPPD2=(acos(1/6)*180/%pi);// the half power point in degree\n",
"a_m2=2*a_HPPD2;// the half power beam width in degree\n",
"printf('The half power beam width for broad side array = %f degree', a_m);\n",
"printf('\n The half power beam width for end fire array = %f degree', a_m2);"
   ]
   }
,
{
		   "cell_type": "markdown",
		   "metadata": {},
		   "source": [
			"## Example 3.20: EX3_20.sce"
		   ]
		  },
  {
"cell_type": "code",
	   "execution_count": null,
	   "metadata": {
	    "collapsed": true
	   },
	   "outputs": [],
"source": [
"//Ex:3.20\n",
"clc;\n",
"clear;\n",
"close;\n",
"D=30;// directive gain\n",
"l=D/4;\n",
"// array length L=l*y, where y is wavelength\n",
"y=1.5;//\n",
"Bw=114.6*sqrt(2/(5*y));// beamwidth of the major lobe in degree\n",
"// for Broadside case\n",
"// L=(D/2)*y=(30/2)*y=15y=array length\n",
"y1=15/4;\n",
"BWFN=114.6/(4*y1);// beamwidth for a broadside array in degree\n",
"printf('The array length = %f*y, where y is wavelength', l);\n",
"printf('\n The beamwidth of the major lobe = %f degree', Bw);\n",
"printf('\n The beamwidth for a broadside array = %f degree', BWFN);"
   ]
   }
,
{
		   "cell_type": "markdown",
		   "metadata": {},
		   "source": [
			"## Example 3.21: Derive_the_expression_for_beam_width.sce"
		   ]
		  },
  {
"cell_type": "code",
	   "execution_count": null,
	   "metadata": {
	    "collapsed": true
	   },
	   "outputs": [],
"source": [
"//Ex:3.21\n",
"clc;\n",
"clear;\n",
"close;\n",
"// For N array elements\n",
"// Etr/Eo=sin(ny/2)/sin(y/2), where y=Bdcos(x)+dl=Bdcos(x), because dl=0\n",
"// The null in the pattern occur when, ny/2=k*%pi\n",
"// (nBdcos(x))/2=%pi, for the first nulls\n",
"// or     cos(x)=2*%pi/(nBd)=2*%pi/(n*(2*%pi/L)*(L/4))=(4/n)\n",
"// In the broadeside array main beam is directed in x=90 degree. Therefore half beam width will be\n",
"// a=90-x1\n",
"// or x1=90-a\n",
"// Thus  cos(x1)=cos(90-a)=sin(a)\n",
"// or sin(a)=(4/n)\n",
"// Now the beam width for n elements array will be 2a=2.asin(4/n)\n",
"// Thus\n",
"BW1=2*(asin(4/5)*180/%pi);// Bandwidth for n=5\n",
"BW2=2*(asin(4/6)*180/%pi);// Bandwidth for n=6\n",
"BW3=2*(asin(4/7)*180/%pi);// Bandwidth for n=7\n",
"BW4=2*(asin(4/8)*180/%pi);// Bandwidth for n=8\n",
"BW5=2*(asin(4/9)*180/%pi);// Bandwidth for n=9\n",
"BW6=2*(asin(4/10)*180/%pi);// Bandwidth for n=10\n",
"printf('The Bandwidth for n=5 = %f degree', BW1);\n",
"printf('\n TheBandwidth for n=6 = %f degree', BW2);\n",
"printf('\n The Bandwidth for n=7 = %f degree', BW3);\n",
"printf('\n The Bandwidth for n=8 = %f degree', BW4);\n",
"printf('\n The Bandwidth for n=9 = %f degree', BW5);\n",
"printf('\n The Bandwidth for n=10 = %f degree', BW6);"
   ]
   }
,
{
		   "cell_type": "markdown",
		   "metadata": {},
		   "source": [
			"## Example 3.22: Find_the_FNBW_and_HPBW_for_a_broad_side_linear_array.sce"
		   ]
		  },
  {
"cell_type": "code",
	   "execution_count": null,
	   "metadata": {
	    "collapsed": true
	   },
	   "outputs": [],
"source": [
"//Ex:3.22\n",
"clc;\n",
"clear;\n",
"close;\n",
"n=20;\n",
"// d=y/2, where y is wavelength\n",
"// FNBW=2y/nd, then\n",
"// FNBW=2y/(n*y/2)=4/n radian\n",
"FNBW=4/n;// beam width for broad side array in radian\n",
"Fnbw=(180*FNBW)/%pi;// beam width for broad side array in degree\n",
"HPBW=Fnbw/2;// the half power beam width for broad side array in degree\n",
"// d1=y/4, for end fire array\n",
"// then FNBW1=2*sqrt(2y/nd1)\n",
"// FNBW1=2*sqrt(2y/(n*y/4))=2*sqrt(8/n)\n",
"FNBW1=2*sqrt(8/n);// beam width for end fire array in radian\n",
"Fnbw1=(180*FNBW1)/%pi;// beam width for end fire array in degree\n",
"HPBW1=(2/3)*Fnbw1;// the half power beam width for end fire array in degree\n",
"printf('The beamwidth for a broad side array = %f degree', Fnbw);\n",
"printf('\n The half power beam width for broad side array = %f degree', HPBW);\n",
"printf('\n The beam width for end fire array = %f degree', Fnbw1);\n",
"printf('\n The half power beam width for end fire array = %f degree', HPBW1);"
   ]
   }
,
{
		   "cell_type": "markdown",
		   "metadata": {},
		   "source": [
			"## Example 3.23: Find_the_location_of_the_first_nulls_on_a_either_side_of_beam_center.sce"
		   ]
		  },
  {
"cell_type": "code",
	   "execution_count": null,
	   "metadata": {
	    "collapsed": true
	   },
	   "outputs": [],
"source": [
"//Ex:3.23\n",
"clc;\n",
"clear;\n",
"close;\n",
"n=80;\n",
"// sinx=y/(nd)\n",
"// sinx=y/(n*y/2)=2/n\n",
"sinx=2/n;\n",
"x=asin(sinx)*(180/%pi);// in degree\n",
"dx=2*x;// the first nulls beam width in degree\n",
"printf('The first nulls beam width = %f degree',dx);"
   ]
   }
,
{
		   "cell_type": "markdown",
		   "metadata": {},
		   "source": [
			"## Example 3.24: Calculate_the_radiated_power_and_also_FNBW_of_the_array.sce"
		   ]
		  },
  {
"cell_type": "code",
	   "execution_count": null,
	   "metadata": {
	    "collapsed": true
	   },
	   "outputs": [],
"source": [
"//Ex:3.24\n",
"clc;\n",
"clear;\n",
"close;\n",
"f=300*10^6;// frequency in Hz\n",
"c=3*10^10;// the speed of light in cm/sec\n",
"y=c/f;// wavelength in cm\n",
"d=y/2;// in cm\n",
"n=4;\n",
"I=0.5;// element current in amp\n",
"Rr=73;// resistence in ohm\n",
"Prad=n*Rr*I^2;// radiated power in watt\n",
"// sinx=y/(nd)\n",
"// sinx=y/(n*y/2)=2/n\n",
"sinx=2/n;\n",
"x=asin(sinx)*(180/%pi);// in degree\n",
"dx=2*x;// the FNBW of the array in degree\n",
"printf('The radiated power = %d watt',Prad);\n",
"printf('\n The FNBW of the array = %d degree',dx);"
   ]
   }
,
{
		   "cell_type": "markdown",
		   "metadata": {},
		   "source": [
			"## Example 3.25: EX3_25.sce"
		   ]
		  },
  {
"cell_type": "code",
	   "execution_count": null,
	   "metadata": {
	    "collapsed": true
	   },
	   "outputs": [],
"source": [
"//Ex:3.25\n",
"clc;\n",
"clear;\n",
"close;\n",
"D=30;// directive gain\n",
"// D=4L/y=4Nd/y, where L=Nd\n",
"// then 30=4L/y\n",
"// L=7.5y\n",
"L=30/4;\n",
"// FNBW=2*sqrt(2y/Nd)=2*sqrt(2y/7.5y)\n",
"// =2*sqrt(2/7.5)\n",
"FNBW=2*sqrt(2/7.5);// FNBW for end fire array in radian\n",
"Fnbw=FNBW*180/%pi;// FNBW for end fire array in degree\n",
"// FNBW1=2y/Nd=2y/7.5y=2/7.5\n",
"FNBW1=2/7.5;// FNBW for broad side array in radian\n",
"Fnbw1=FNBW1*180/%pi;// FNBW for broad side array in degree\n",
"printf('The array length= %f*y, where y is wavelength', L);\n",
"printf('\n The FNBW for end fire array = %f degree', Fnbw);\n",
"printf('\n The FNBW for broad side array = %f degree', Fnbw1);"
   ]
   }
,
{
		   "cell_type": "markdown",
		   "metadata": {},
		   "source": [
			"## Example 3.2: EX3_2.sce"
		   ]
		  },
  {
"cell_type": "code",
	   "execution_count": null,
	   "metadata": {
	    "collapsed": true
	   },
	   "outputs": [],
"source": [
"//Ex:3.2\n",
"clc;\n",
"clear;\n",
"close;\n",
"// The phase difference w=Bd*cos(a)=(2%pi/y)*(y/4)*cos(a)=(%pi/2)*cos(a)\n",
"// Therefore, Et=Io(exp^(-j(%pi/2*cos(a)+k))+1+exp^(j(%pi/2*cos(a)+infinite)))=Eo(1+2*cos(%pi/2*cos(a+k)))\n",
"// the null appear, when, 1+2*cos((%pi/2)*cos(a_n)+k), a_n is equal to 33.56\n",
"// therefore , 1+2*cos((%pi/2)*cos(33.56)+k)=0\n",
"// cos((%pi/2)*cos(33.56)+k)=-1/2\n",
"// (%pi/2)*cos(33.56)+k= 2%pi/3\n",
"// k=(2%pi/3)-((%pi/2)*cos(33.56))\n",
"k=(2*%pi/3)-((%pi/2)*cos(33.56*%pi/180));// progressive phase shift in radian\n",
"k1=k*180/%pi;// progressive phase shift in degree\n",
"// The position of main beam a_m occurs when\n",
"// ((%pi/2)*cos(a_m))+B=0\n",
"// cos(a_m)= -B*2/%pi=-(%pi/4)*(2/%pi)=-1/2\n",
"a_m=(acos(-1/2)*180/%pi);// the position of main beam width in degree\n",
"printf('The progressive phase shift = %d degree', k1);\n",
"printf('\n The position of main beam width in degree = %d degree', a_m);"
   ]
   }
,
{
		   "cell_type": "markdown",
		   "metadata": {},
		   "source": [
			"## Example 3.3: Discuss_the_radiation_pattern_of_a_linear_array.sce"
		   ]
		  },
  {
"cell_type": "code",
	   "execution_count": null,
	   "metadata": {
	    "collapsed": true
	   },
	   "outputs": [],
"source": [
"//Ex:3.3\n",
"clc;\n",
"clear;\n",
"close;\n",
"// The phase difference, w=Bd*cos(a)+k\n",
"// In this case, d=y/2, k=0, therefore\n",
"// w= (2%pi/y)*(y/2)*cos(a)+0= %pi*cos(a)\n",
"// The total far field at distance point P is given by\n",
"// Et=Eo(exp^(-jw)+2+exp^(jw))=Eo*(2+2*cos(w))=2*Eo(1+cos(%pi*cos(a)))\n",
"// Maximum value mode of Et=4*Eo\n",
"// so the normal value Enor=Et/(mode of Et)=(1+cos(%pi*cos(a)))/2\n",
"// For the max value (1+cos(%pi*cos(a))) should be max , therefore \n",
"// 1+cos(%pi*cos(a))=1\n",
"// cos(%pi*cos(a))=0\n",
"// %pi*cos(a)=%pi/2( in both sign plus & minuse)\n",
"a_m1=(acos(1/2))*(180/%pi);// when take + sign, angle will be in degree\n",
"a_m2=(acos(-1/2))*(180/%pi);//when take - sign, angle will be in degree\n",
"// For the max value (1+cos(%pi*cos(a))) should be max , therefore \n",
"// 1+cos(%pi*cos(a))=0\n",
"// cos(%pi*cos(a))=-1\n",
"// %pi*cos(a)=%pi( in both sign plus & minuse)\n",
"a_m3=(acos(1))*(180/%pi);// when take + sign, angle will be in degree\n",
"a_m4=(acos(-1))*(180/%pi);//when take - sign, angle will be in degree\n",
"// for HPPD (1+cos(%pi*cos(a))) should be 1/sqrt(2)\n",
"// 1+cos(%pi*cos(a))=1/sqrt(2)\n",
"// cos(%pi*cos(a))=(1/sqrt(2))-1=-0.293\n",
"// %pi*cos(a)=107 degree   ( in both sign plus & minuse)\n",
"// cos(a_HPPD)=0.595  ( in both sign plus & minuse)\n",
"a_HPPD1=(acos(0.595))*(180/%pi);// when take + sign, the value of a_HPPD in degree\n",
"a_HPPD2=(acos(-0.595))*(180/%pi);// when take - sign, the value of a_HPPD in degree\n",
"printf('when take + sign, angle for maxima = %d degree', a_m1);\n",
"printf('\n when take - sign, angle for maxima= %d degree', a_m2);\n",
"printf('\n when take + sign, angle for minima= %d degree', a_m3);\n",
"printf('\n when take - sign, angle for minima= %d degree', a_m4);\n",
"printf('\n when take + sign, the value of HPPD= %d degree', a_HPPD1);\n",
"printf('\n when take - sign, the value of HPPD= %d degree', a_HPPD2);\n",
"printf('\n The Radiation pattern of the 3-element is shown in figure in the given text book');"
   ]
   }
,
{
		   "cell_type": "markdown",
		   "metadata": {},
		   "source": [
			"## Example 3.4: Design_a_eight_element_broad_side_array.sce"
		   ]
		  },
  {
"cell_type": "code",
	   "execution_count": null,
	   "metadata": {
	    "collapsed": true
	   },
	   "outputs": [],
"source": [
"//Ex:3.4\n",
"clc;\n",
"clear;\n",
"close;\n",
"dB=26;\n",
"n=8;// eight element array\n",
"r1=10^(dB/20);// because dB=20log(r)\n",
"r=ceil(r1);// round off value of r1\n",
"// Tchebyscheff polynomial of degree (n-1)=8-1=7\n",
"// T7(xo)=r\n",
"// 64Xo^7-112xo^5+56xo^3-7xo=20\n",
"// then using ulternate formula, we get the value of xo\n",
"m=n-1;// degree of the equation\n",
"a=sqrt(r^2-1);\n",
"A=(r+a)^(1/m);\n",
"B=(r-a)^(1/m);\n",
"xo1=.5*(A+B);\n",
"xo=1.15;// approx. value of xo1\n",
"// eight element array is shown in figure in the given textbook\n",
"// Thus Et, i.e., E8 from the equation\n",
"// E8=aoz+a1(4z^3-3z)+a2(16z^5-20z^3+5z)+a3(64z^7-112z^5+56z^3-7z)=64x^7-112x^5+56x^3-7x, where z=(x/xo)\n",
"// Then on putting z=(x/xo), we get\n",
"// ao(x/xo)+a1(4(x/xo)^3-3(x/xo))+a^2(16(x/xo)^5-20(x/xo)^3+5(x/xo))+a^3(64(x/xo)^7-112(x/xo)^5+56(x/xo)^3-7(x/xo))=64x^7-112x^5+56x^3-7x\n",
"// Now equating terms, we have\n",
"a3=xo^7;\n",
"a2=(112*a3-112*xo^5)/16;\n",
"a1=14*xo^3+5*a2-14*a3;\n",
"ao=3*a1-5*a2+7*a3-7*xo;\n",
"// Therefore the relative amplitude of the array are\n",
"a33=a3/a3;// the ratio of the a3 to a3\n",
"a23=a2/a3;// the ratio of the a2 to a3\n",
"a13=a1/a3;// the ratio of the a1 to a3\n",
"ao3=ao/a3;// the ratio of the ao to a3\n",
"printf('The value of the parameter r= %d', r);\n",
"printf('\n The value of the parameter xo= %f', xo);\n",
"printf('\n The value of the current amplitude parameter ao= %f', ao);\n",
"printf('\n The value of the current amplitude parameter a1= %f', a1);\n",
"printf('\n The value of the current amplitude parameter a2= %f', a2);\n",
"printf('\n The value of the current amplitude parameter a3= %f', a3);\n",
"printf('\n The value of the relative amplitude parameter a33= %f', a33);\n",
"printf('\n The value of the relative amplitude parameter a23= %f', a23);\n",
"printf('\n The value of the relative amplitude parameter a13= %f', a13);\n",
"printf('\n The value of the relative amplitude parameter ao3= %f', ao3);\n",
"printf('\n The five element array is shown in figure in the given textbook')"
   ]
   }
,
{
		   "cell_type": "markdown",
		   "metadata": {},
		   "source": [
			"## Example 3.5: Design_a_five_element_broad_side_array_which_has_the_optimum_pattern.sce"
		   ]
		  },
  {
"cell_type": "code",
	   "execution_count": null,
	   "metadata": {
	    "collapsed": true
	   },
	   "outputs": [],
"source": [
"//Ex:3.5\n",
"clc;\n",
"clear;\n",
"close;\n",
"dB=20;\n",
"n=5;// five element array\n",
"r=10^(dB/20);// because dB=20log(r)\n",
"// Tchebyscheff polynomial of degree (n-1)=5-1=4\n",
"// T4(xo)=r\n",
"// 8xo^4-8xo^2+1=10\n",
"// then using ulternate formula, we get the value of xo\n",
"m=4;// degree of the equation\n",
"a=sqrt(r^2-1);\n",
"A=(r+a)^(1/m);\n",
"B=(r-a)^(1/m);\n",
"xo=.5*(A+B);\n",
"// five element array is shown in figure in the given textbook\n",
"// Thus Et, i.e., E5 from the equation\n",
"// E5=aoz+a1(2z^2-1)+a2(8z^4-8z^2+1), where z=(x/xo)\n",
"// E5=T4(xo)\n",
"// ao(x/xo)+a1(2(x/xo)^2-1)+a2(8(x/xo)^4-8(x/xo)^2+1)=8x^4-8x^2+1\n",
"// Now equating terms, we have\n",
"// a2(x/xo)^4=x^4\n",
"a2=xo^4;\n",
"// a1*2(x/xo)^2-a2*8(x/xo)^2=-8x^2\n",
"a1=4*a2-4*xo^2;\n",
"// ao-a1+a2=1\n",
"ao=1+a1-a2;\n",
"// Therefore the relative amplitude of the array are\n",
"a11=a1/a1;// the ratio of the a1 to a1\n",
"a12=a1/a2;// the ratio of the a1 to a2\n",
"a02=2*ao/a2;// the ratio of the 2ao to a2\n",
"printf('The value of the parameter r= %d', r);\n",
"printf('\n The value of the parameter xo= %f', xo);\n",
"printf('\n The value of the current amplitude parameter 2*ao= %f', 2*ao);\n",
"printf('\n The value of the current amplitude parameter a1= %f', a1);\n",
"printf('\n The value of the current amplitude parameter a2= %f', a2);\n",
"printf('\n The value of the relative amplitude parameter a11= %f', a11);\n",
"printf('\n The value of the relative amplitude parameter a12= %f', a12);\n",
"printf('\n The value of the relative amplitude parameter a02= %f', a02);\n",
"printf('\n The five element array is shown in figure in the given textbook')"
   ]
   }
,
{
		   "cell_type": "markdown",
		   "metadata": {},
		   "source": [
			"## Example 3.6: Design_a_four_element_broad_side_array.sce"
		   ]
		  },
  {
"cell_type": "code",
	   "execution_count": null,
	   "metadata": {
	    "collapsed": true
	   },
	   "outputs": [],
"source": [
"//Ex:3.6\n",
"clc;\n",
"clear;\n",
"close;\n",
"dB=18;\n",
"n=4;// five element array\n",
"r1=10^(dB/20);// because dB=20log(r1)\n",
"r=ceil(r1);\n",
"// Tchebyscheff polynomial of degree (n-1)=4-1=4\n",
"// T3(xo)=r\n",
"// 4xo^3-3xo=8\n",
"// then using ulternate formula, we get the value of xo\n",
"m=3;// degree of the equation\n",
"a=sqrt(r^2-1);\n",
"A=(r+a)^(1/m);\n",
"B=(r-a)^(1/m);\n",
"xo1=.5*(A+B);\n",
"xo=1.46;// approx. value of xo1 is 1.46 because xo1=1.456957\n",
"// four element array is shown in figure in the given textbook\n",
"// Thus Et, i.e., E4 from the equation\n",
"// E4=aoz+a1(4z^3-3z), where z=(x/xo)\n",
"// E4=T3(xo)\n",
"// ao(x/xo)+a1(4(x/xo)^3-3(x/xo))=4x^3-3x\n",
"// Now equating terms, we have\n",
"// 4a1(x/xo)=4x^3\n",
"a1=xo^3;\n",
"// ao-3a1=-3a1\n",
"ao=3*a1-3*xo;\n",
"// Therefore the relative amplitude of the array are\n",
"a11=a1/a1;// the ratio of the a1 to a1\n",
"ao1=ao/a1;// the ratio of the ao to a1\n",
"printf('The value of the parameter r= %d', r);\n",
"printf('\n The value of the parameter xo= %f', xo);\n",
"printf('\n The value of the current amplitude parameter ao= %f', ao);\n",
"printf('\n The value of the current amplitude parameter a1= %f', a1);\n",
"printf('\n The value of the relative amplitude parameter a11= %f', a11);\n",
"printf('\n The value of the relative amplitude parameter ao1= %f', ao1);\n",
"printf('\n The five element array is shown in figure in the given textbook')"
   ]
   }
,
{
		   "cell_type": "markdown",
		   "metadata": {},
		   "source": [
			"## Example 3.7: EX3_7.sce"
		   ]
		  },
  {
"cell_type": "code",
	   "execution_count": null,
	   "metadata": {
	    "collapsed": true
	   },
	   "outputs": [],
"source": [
"//Ex:3.7\n",
"clc;\n",
"clear;\n",
"close;\n",
"dB=21;\n",
"n=5;// five element array\n",
"r1=10^(dB/20);// because dB=20log(r1)\n",
"r=floor(r1);\n",
"// Tchebyscheff polynomial of degree (n-1)=5-1=4\n",
"// T4(xo)=r\n",
"// 8xo^4-8xo^2+1=20\n",
"// then using ulternate formula, we get the value of xo\n",
"m=4;// degree of the equation\n",
"a=sqrt(r^2-1);\n",
"A=(r+a)^(1/m);\n",
"B=(r-a)^(1/m);\n",
"xo1=.5*(A+B);\n",
"xo=1.3132;// approx. value of xo1 is 1.3132 because xo1=1.313295\n",
"// Thus Et, i.e., E5 from the equation\n",
"// E5=aoz+a1(2z^2-1)+a2(8z^4-8z^2+1), where z=(x/xo)\n",
"// E5=T4(xo)\n",
"// ao(x/xo)+a1(2(x/xo)^2-1)+a2(8(x/xo)^4-8(x/xo)^2+1)=8x^4-8x^2+1\n",
"// Now equating terms, we have\n",
"// a2(x/xo)^4=x^4\n",
"a2=xo^4;\n",
"// a1*2(x/xo)^2-8(x/xo)^2*a2=-8x^2\n",
"// a1-4a2=-4x^2\n",
"a1=4*a2-4*xo^2\n",
"// ao-a1+a2=1\n",
"ao=a1-a2+1;\n",
"a22=a2/a2;// the ratio of the a2 to a2\n",
"a12=a1/a2;// the ratio of the a1 to a2\n",
"ao2=2*ao/a2;// the ratio of the 2ao to a2\n",
"R=r/sqrt(2);\n",
"// Y=acos(R/sqrt(2))= log(R+sqrt(R^2-1))\n",
"Y=log(R+sqrt(R^2-1))/log(10);\n",
"// cosh(Y/4)=cosh(1.19/4)=cosh(0.2975)\n",
"// because cosh(x)= 1+(x^2/2)+(x^4/24)+.....\n",
"// cosh(0.2975)=1+(0.2975^2/2)+(0.2975^4/24)\n",
"A=1+(0.2975^2/2)+(0.2975^4/24);\n",
"// HPBW= 2*asin((y/180*d)*acos(1/x0*cosh(Y/4)))\n",
"// HPBW= 2*asin((y*2/180*y)*acos(1/x0*cosh(0.2975)))\n",
"// HPBW= 2*asin((2/180)*acos(1/x0*A))\n",
"HPBW=2*(asin((2/180)*(acos(A/xo))*(180/%pi)))*180/%pi;// half power bandwidth in degree\n",
"printf('The value of the parameter r= %d', r);\n",
"printf('\n The value of the parameter xo= %f', xo);\n",
"printf('\n The value of the current amplitude parameter ao= %f', ao);\n",
"printf('\n The value of the current amplitude parameter a1= %f', a1);\n",
"printf('\n The value of the current amplitude parameter a2= %f', a2);\n",
"printf('\n The value of the relative amplitude parameter a22= %f', a22);\n",
"printf('\n The value of the relative amplitude parameter a12= %f', a12);\n",
"printf('\n The value of the relative amplitude parameter ao2= %f', ao2);\n",
"printf('\n The half power bandwidth= %f degree', HPBW);\n",
"printf('\n The five element array is shown in figure in the given textbook')"
   ]
   }
,
{
		   "cell_type": "markdown",
		   "metadata": {},
		   "source": [
			"## Example 3.8: Design_an_array_to_yield_an_optimum_pattern.sce"
		   ]
		  },
  {
"cell_type": "code",
	   "execution_count": null,
	   "metadata": {
	    "collapsed": true
	   },
	   "outputs": [],
"source": [
"//Ex:3.8\n",
"clc;\n",
"clear;\n",
"close;\n",
"m=5;// number of elements\n",
"xn=45/2;// mean beamwidth in degree\n",
"xn1=xn*%pi/180;// mean beamwidth in radian\n",
"x=cos((180/(2*(m-1)))*(%pi/180));\n",
"a=sin(xn1);\n",
"p=cos(90*a*(%pi/180));\n",
"xo=x/p;\n",
"// E5=aoz+a1(2z^2-1)+a2(8z^4-8z^2+1), where z=(x/xo)\n",
"// E5=T4(xo)\n",
"// ao(x/xo)+a1(2(x/xo)^2-1)+a2(8(x/xo)^4-8(x/xo)^2+1)=8x^4-8x^2+1\n",
"// Now equating terms, we have\n",
"// a2(x/xo)^4=x^4\n",
"a2=xo^4;\n",
"// a1*2(x/xo)^2-8(x/xo)^2*a2=-8x^2\n",
"// a1-4a2=-4x^2\n",
"a1=4*a2-4*xo^2\n",
"// ao-a1+a2=1\n",
"ao=a1-a2+1;\n",
"a22=a2/a2;// the ratio of the a2 to a2\n",
"a12=a1/a2;// the ratio of the a1 to a2\n",
"ao2=2*ao/a2;// the ratio of the 2ao to a2\n",
"printf('The value of the parameter xo = %f um', xo);\n",
"printf('\n The value of the current amplitude parameter ao= %f', ao);\n",
"printf('\n The value of the current amplitude parameter a1= %f', a1);\n",
"printf('\n The value of the current amplitude parameter a2= %f', a2);\n",
"printf('\n The value of the relative amplitude parameter a22= %f', a22);\n",
"printf('\n The value of the relative amplitude parameter a12= %f', a12);\n",
"printf('\n The value of the relative amplitude parameter ao2= %f', ao2);\n",
"printf('\n The five element array is shown in figure in the given textbook')"
   ]
   }
,
{
		   "cell_type": "markdown",
		   "metadata": {},
		   "source": [
			"## Example 3.9: Calculate_the_directivity_of_a_given_linear_broad_side.sce"
		   ]
		  },
  {
"cell_type": "code",
	   "execution_count": null,
	   "metadata": {
	    "collapsed": true
	   },
	   "outputs": [],
"source": [
"//Ex:3.9\n",
"clc;\n",
"clear;\n",
"close;\n",
"n=20;// number of isotropic array\n",
"// d=y/8, where y is wavelength\n",
"// then, D=2n(d/y)=2n((y/8)(1/y))=2n(1/8)\n",
"D=2*n*(1/8);// directivity of a linear broad-side array\n",
"printf('The directivity of a linear broad-side array = %d dimensionless', D);"
   ]
   }
],
"metadata": {
		  "kernelspec": {
		   "display_name": "Scilab",
		   "language": "scilab",
		   "name": "scilab"
		  },
		  "language_info": {
		   "file_extension": ".sce",
		   "help_links": [
			{
			 "text": "MetaKernel Magics",
			 "url": "https://github.com/calysto/metakernel/blob/master/metakernel/magics/README.md"
			}
		   ],
		   "mimetype": "text/x-octave",
		   "name": "scilab",
		   "version": "0.7.1"
		  }
		 },
		 "nbformat": 4,
		 "nbformat_minor": 0
}
