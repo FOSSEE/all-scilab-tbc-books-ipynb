{
"cells": [
 {
		   "cell_type": "markdown",
	   "metadata": {},
	   "source": [
       "# Chapter 2: Antenna Terminology"
	   ]
	},
{
		   "cell_type": "markdown",
		   "metadata": {},
		   "source": [
			"## Example 2.10: How_much_power_does_a_fifty_ohms_antenna_radiate_when_fed_a_current_five_amp.sce"
		   ]
		  },
  {
"cell_type": "code",
	   "execution_count": null,
	   "metadata": {
	    "collapsed": true
	   },
	   "outputs": [],
"source": [
"//Ex:2.10\n",
"clc;\n",
"clear;\n",
"close;\n",
"Irms=5;// current in Amp\n",
"Rr=50;// radiation resistance in m\n",
"W=Irms^2*Rr;// power in Watts\n",
"printf('The power = %d Watts', W);"
   ]
   }
,
{
		   "cell_type": "markdown",
		   "metadata": {},
		   "source": [
			"## Example 2.11: Calculate_the_radiation_resistance.sce"
		   ]
		  },
  {
"cell_type": "code",
	   "execution_count": null,
	   "metadata": {
	    "collapsed": true
	   },
	   "outputs": [],
"source": [
"//Ex:2.11\n",
"clc;\n",
"clear;\n",
"close;\n",
"G=20;// Power Gain\n",
"D=22;// directivity\n",
"n=G/D;// effeciency\n",
"Rl=10;// loss-resistance in ohm\n",
"Rr=(n*Rl)/(1-n);// radiation resistance in ohm\n",
"printf('The radiation resistance = %f ohm', Rr);"
   ]
   }
,
{
		   "cell_type": "markdown",
		   "metadata": {},
		   "source": [
			"## Example 2.12: Calculate_the_front_to_back_ratio_of_an_antenna_in_dB.sce"
		   ]
		  },
  {
"cell_type": "code",
	   "execution_count": null,
	   "metadata": {
	    "collapsed": true
	   },
	   "outputs": [],
"source": [
"//Ex:2.12\n",
"clc;\n",
"clear;\n",
"close;\n",
"P1=3000;// in Watts\n",
"P2=500;// in Watts\n",
"Gdb=10*log(P1/P2)/log(10);// front to back ratio of an antenna in dB\n",
"printf('The front to back ratio of an antenna = %f dB', Gdb);"
   ]
   }
,
{
		   "cell_type": "markdown",
		   "metadata": {},
		   "source": [
			"## Example 2.13: Find_the_received_power.sce"
		   ]
		  },
  {
"cell_type": "code",
	   "execution_count": null,
	   "metadata": {
	    "collapsed": true
	   },
	   "outputs": [],
"source": [
"//Ex:2.13\n",
"clc;\n",
"clear;\n",
"close;\n",
"G=40;// power gain in dB\n",
"Gt=40;// power gain in dB\n",
"Gr=40;// power gain in dB\n",
"G1=10^(G/10);// power gain\n",
"Gt1=10^(Gt/10);// power gain\n",
"Gr1=10^(Gr/10);// power gain\n",
"f=10*10^3;// frequency in MHz\n",
"y=300/f;// wavelength in m\n",
"Wt=1;// Transmitter in Watts\n",
"r=30*10^3;// range of link in m\n",
"Wr=(Wt*G1^2*y^2)/(4*%pi*r)^2;// receive power in Watts\n",
"printf('The receive power = %f*10^-6 Watts', Wr*10^6);"
   ]
   }
,
{
		   "cell_type": "markdown",
		   "metadata": {},
		   "source": [
			"## Example 2.14: How_much_is_the_new_signal_picked_up_by_the_receiving_station.sce"
		   ]
		  },
  {
"cell_type": "code",
	   "execution_count": null,
	   "metadata": {
	    "collapsed": true
	   },
	   "outputs": [],
"source": [
"//Ex:2.14\n",
"clc;\n",
"clear;\n",
"close;\n",
"V2=50;// in micro volt\n",
"G=5;// voltage gain in dB\n",
"G1=10^(G/20);// voltage gain\n",
"V1=V2*G1;// signal at receiving station in volt\n",
"printf('The signal at receiving station = %f micro volts', V1);"
   ]
   }
,
{
		   "cell_type": "markdown",
		   "metadata": {},
		   "source": [
			"## Example 2.15: Calculate_the_power_gai.sce"
		   ]
		  },
  {
"cell_type": "code",
	   "execution_count": null,
	   "metadata": {
	    "collapsed": true
	   },
	   "outputs": [],
"source": [
"//Ex:2.15\n",
"clc;\n",
"clear;\n",
"close;\n",
"Pi=400*10^-3;// input power to reference Antenna\n",
"Pt=100*10^-3;// input power to test antenna\n",
"Gdb=10*log(Pi/Pt)/log(10);// power gain in dB\n",
"printf('The power gain = %f dB', Gdb);"
   ]
   }
,
{
		   "cell_type": "markdown",
		   "metadata": {},
		   "source": [
			"## Example 2.16: Calculate_the_approximate_gain_and_beamwidth_of_a_paraboloidal_reflector_antenna.sce"
		   ]
		  },
  {
"cell_type": "code",
	   "execution_count": null,
	   "metadata": {
	    "collapsed": true
	   },
	   "outputs": [],
"source": [
"//Ex:2.16\n",
"clc;\n",
"clear;\n",
"close;\n",
"D=20;// directivity\n",
"A=%pi*(D/2)^2;\n",
"f=4*10^3;// frequency in MHz\n",
"y=300/f;// wavelength in meter\n",
"n=0.55;// effeciency\n",
"G=(4*%pi*n*A)/y^2;// gain\n",
"Gdb=10*log(G)/log(10);// gain in dB\n",
"B_W=(70*y/D);// beamwidth of a paraboloidal reflector antenna\n",
"printf('The gain = %f dB', Gdb);\n",
"printf('\n The beamwidth of a paraboloidal reflector antenna = %f degree', B_W);"
   ]
   }
,
{
		   "cell_type": "markdown",
		   "metadata": {},
		   "source": [
			"## Example 2.17: Find_out_the_quality_factor_Q_of_an_antenna.sce"
		   ]
		  },
  {
"cell_type": "code",
	   "execution_count": null,
	   "metadata": {
	    "collapsed": true
	   },
	   "outputs": [],
"source": [
"//Ex:2.17\n",
"clc;\n",
"clear;\n",
"close;\n",
"df=0.600;// bandwidth in MHz\n",
"fr=30;// frequency in MHz\n",
"Q=fr/df;// quality factor\n",
"printf('The quality factor = %d', Q);"
   ]
   }
,
{
		   "cell_type": "markdown",
		   "metadata": {},
		   "source": [
			"## Example 2.18: Calculate_the_bandwidth_of_an_antennas.sce"
		   ]
		  },
  {
"cell_type": "code",
	   "execution_count": null,
	   "metadata": {
	    "collapsed": true
	   },
	   "outputs": [],
"source": [
"//Ex:2.18\n",
"clc;\n",
"clear;\n",
"close;\n",
"fr=110*10^6;// frequency in Hz\n",
"Q=70;// quality factor\n",
"df=fr/Q;// bandwidth in MHz\n",
"printf('The bandwidth= %f MHz', df/10^6);\n",
"printf('\n The answer is wrong in the textbook');"
   ]
   }
,
{
		   "cell_type": "markdown",
		   "metadata": {},
		   "source": [
			"## Example 2.19: Calculate_the_directivity_of_isotropic_antenna.sce"
		   ]
		  },
  {
"cell_type": "code",
	   "execution_count": null,
	   "metadata": {
	    "collapsed": true
	   },
	   "outputs": [],
"source": [
"//Ex:2.19\n",
"clc;\n",
"clear;\n",
"close;\n",
"A=4*%pi;// for isotropic antenna\n",
"D=4*%pi/A;// directivity\n",
"printf('The directivity= %d', D);"
   ]
   }
,
{
		   "cell_type": "markdown",
		   "metadata": {},
		   "source": [
			"## Example 2.1: What_is_the_wavelength.sce"
		   ]
		  },
  {
"cell_type": "code",
	   "execution_count": null,
	   "metadata": {
	    "collapsed": true
	   },
	   "outputs": [],
"source": [
"//Ex:2.1\n",
"clc;\n",
"clear;\n",
"close;\n",
"c=3*10^8;// the speed of light in m/s\n",
"f=1000000;// frequency in Hz\n",
"y=c/f;// wavelength in m\n",
"printf('The wavelength = %d meter', y);"
   ]
   }
,
{
		   "cell_type": "markdown",
		   "metadata": {},
		   "source": [
			"## Example 2.20: Calculate_the_max_effective_aperture_of_a_microwave_antenna.sce"
		   ]
		  },
  {
"cell_type": "code",
	   "execution_count": null,
	   "metadata": {
	    "collapsed": true
	   },
	   "outputs": [],
"source": [
"//Ex:2.20\n",
"clc;\n",
"clear;\n",
"close;\n",
"D=900;// directivity\n",
"// Aem=(D.y^2)/(4*%pi), where y= Wavelength\n",
"Aem=(D/(4*%pi));// max effective aperture\n",
"printf('The max effective aperture= %f*y^2, where y= wavelength', Aem);"
   ]
   }
,
{
		   "cell_type": "markdown",
		   "metadata": {},
		   "source": [
			"## Example 2.21: Find_the_equivalent_temperature.sce"
		   ]
		  },
  {
"cell_type": "code",
	   "execution_count": null,
	   "metadata": {
	    "collapsed": true
	   },
	   "outputs": [],
"source": [
"//Ex:2.21\n",
"clc;\n",
"clear;\n",
"close;\n",
"FdB=0.2;// noise figure in dB\n",
"F=10^(FdB/10);// noise figure\n",
"To=290;// temperature in k\n",
"Te=(F-1)*To;// equivalent temperature in k\n",
"printf('The equivalent temperature= %f k', Te);\n",
"printf('\n The answer is wrong in the textbook');"
   ]
   }
,
{
		   "cell_type": "markdown",
		   "metadata": {},
		   "source": [
			"## Example 2.22: Find_the_noise_factor.sce"
		   ]
		  },
  {
"cell_type": "code",
	   "execution_count": null,
	   "metadata": {
	    "collapsed": true
	   },
	   "outputs": [],
"source": [
"//Ex:2.22\n",
"clc;\n",
"clear;\n",
"close;\n",
"Te=20;// equivalent temperature in k\n",
"To=290;// temperature in k\n",
"F=1+Te/To;// noise figure\n",
"printf('The noise figure = %f', F);"
   ]
   }
,
{
		   "cell_type": "markdown",
		   "metadata": {},
		   "source": [
			"## Example 2.23: what_is_the_effective_noise_temperature.sce"
		   ]
		  },
  {
"cell_type": "code",
	   "execution_count": null,
	   "metadata": {
	    "collapsed": true
	   },
	   "outputs": [],
"source": [
"//Ex:2.23\n",
"clc;\n",
"clear;\n",
"close;\n",
"FdB=1.1;// noise figure in dB\n",
"F=10^(FdB/10);// noise figure\n",
"To=290;// temperature in k\n",
"Te=(F-1)*To;// equivalent temperature in k\n",
"printf('The equivalent temperature= %f k', Te);"
   ]
   }
,
{
		   "cell_type": "markdown",
		   "metadata": {},
		   "source": [
			"## Example 2.24: EX2_24.sce"
		   ]
		  },
  {
"cell_type": "code",
	   "execution_count": null,
	   "metadata": {
	    "collapsed": true
	   },
	   "outputs": [],
"source": [
"//Ex:2.24\n",
"clc;\n",
"clear;\n",
"close;\n",
"Ta=15;// effective temperature in k\n",
"Tn=20;// effective noise temperature in k\n",
"B=4*10^6;// noise bandwidth in Hz\n",
"k=1.38*10^-23;// boltzmann's constant\n",
"Ps_Bn=k*(Ta+Tn);// noise power per unit bandwidth in Watts/Hz\n",
"Ps=Ps_Bn*B;// the total available noise power in Watts\n",
"printf('The noise power per unit bandwidth= %f*10^-23 Watts/Hz', Ps_Bn*10^23);\n",
"printf('\n The total available noise power= %f*10^-17 Watts', Ps*10^17);"
   ]
   }
,
{
		   "cell_type": "markdown",
		   "metadata": {},
		   "source": [
			"## Example 2.25: How_much_is_the_new_signal_picked_up_by_the_receiving_station.sce"
		   ]
		  },
  {
"cell_type": "code",
	   "execution_count": null,
	   "metadata": {
	    "collapsed": true
	   },
	   "outputs": [],
"source": [
"//Ex:2.25\n",
"clc;\n",
"clear;\n",
"close;\n",
"V2=50;// in u volt\n",
"G=5;// voltage gain in dB\n",
"G1=10^(G/20);// voltage gain\n",
"V1=V2*G1;// signal at receiving station in volt\n",
"printf('The signal at receiving station = %f u-volts', V1);"
   ]
   }
,
{
		   "cell_type": "markdown",
		   "metadata": {},
		   "source": [
			"## Example 2.26: Calculate_the_max_effective_aperture_of_an_antenna.sce"
		   ]
		  },
  {
"cell_type": "code",
	   "execution_count": null,
	   "metadata": {
	    "collapsed": true
	   },
	   "outputs": [],
"source": [
"//Ex:2.26\n",
"clc;\n",
"clear;\n",
"close;\n",
"y=5;// wavelength in m\n",
"D=75;// directivity\n",
"Aem=(D*y^2)/(4*%pi);// max efeective aperture in m^2\n",
"printf('The max efeective aperture = %f m^2', Aem);"
   ]
   }
,
{
		   "cell_type": "markdown",
		   "metadata": {},
		   "source": [
			"## Example 2.27: Find_the_equivalent_temperature.sce"
		   ]
		  },
  {
"cell_type": "code",
	   "execution_count": null,
	   "metadata": {
	    "collapsed": true
	   },
	   "outputs": [],
"source": [
"//Ex:2.27\n",
"clc;\n",
"clear;\n",
"close;\n",
"FdB=0.5;// noise figure in dB\n",
"F=10^(FdB/10);// noise figure\n",
"To=290;// temperature in k\n",
"Te=(F-1)*To;// equivalent temperature in k\n",
"printf('The equivalent temperature= %f k', Te);"
   ]
   }
,
{
		   "cell_type": "markdown",
		   "metadata": {},
		   "source": [
			"## Example 2.28: Find_the_noise_factor.sce"
		   ]
		  },
  {
"cell_type": "code",
	   "execution_count": null,
	   "metadata": {
	    "collapsed": true
	   },
	   "outputs": [],
"source": [
"//Ex:2.28\n",
"clc;\n",
"clear;\n",
"close;\n",
"Te=40;// equivalent temperature in k\n",
"To=290;// temperature in k\n",
"F=1+Te/To;// noise figure\n",
"printf('The noise figure = %f', F);"
   ]
   }
,
{
		   "cell_type": "markdown",
		   "metadata": {},
		   "source": [
			"## Example 2.29: What_is_the_effective_noise_temperature.sce"
		   ]
		  },
  {
"cell_type": "code",
	   "execution_count": null,
	   "metadata": {
	    "collapsed": true
	   },
	   "outputs": [],
"source": [
"//Ex:2.29\n",
"clc;\n",
"clear;\n",
"close;\n",
"FdB=1.5;// noise figure in dB\n",
"F=10^(FdB/10);// noise figure\n",
"To=290;// temperature in k\n",
"Te=(F-1)*To;// equivalent temperature in k\n",
"printf('The equivalent temperature= %f k', Te);"
   ]
   }
,
{
		   "cell_type": "markdown",
		   "metadata": {},
		   "source": [
			"## Example 2.2: What_is_the_actual_velocity_of_EM_energy.sce"
		   ]
		  },
  {
"cell_type": "code",
	   "execution_count": null,
	   "metadata": {
	    "collapsed": true
	   },
	   "outputs": [],
"source": [
"//Ex:2.2\n",
"clc;\n",
"clear;\n",
"close;\n",
"c=3*10^8;// the speed of light in m/s\n",
"f=0.75;// propagation fector\n",
"v=c*f;// actual veloity in m/s\n",
"printf('The actual veloity = %f*10^8 meter/sec', v/10^8);"
   ]
   }
,
{
		   "cell_type": "markdown",
		   "metadata": {},
		   "source": [
			"## Example 2.30: EX2_30.sce"
		   ]
		  },
  {
"cell_type": "code",
	   "execution_count": null,
	   "metadata": {
	    "collapsed": true
	   },
	   "outputs": [],
"source": [
"//Ex:2.30\n",
"clc;\n",
"clear;\n",
"close;\n",
"Ta=25;// effective temperature in k\n",
"Tn=45;// effective noise temperature in k\n",
"B=7*10^6;// noise bandwidth in Hz\n",
"k=1.38*10^-23;// boltzmann's constant\n",
"Ps_Bn=k*(Ta+Tn);// noise power per unit bandwidth in Watts/Hz\n",
"Ps=Ps_Bn*B;// the total available noise power in Watts\n",
"printf('The noise power per unit bandwidth= %f*10^-23 Watts/Hz', Ps_Bn*10^23);\n",
"printf('\n The total available noise power= %f*10^-17 Watts', Ps*10^17);"
   ]
   }
,
{
		   "cell_type": "markdown",
		   "metadata": {},
		   "source": [
			"## Example 2.31: Calculate_the_gain_and_beam_width_of_the_antenna.sce"
		   ]
		  },
  {
"cell_type": "code",
	   "execution_count": null,
	   "metadata": {
	    "collapsed": true
	   },
	   "outputs": [],
"source": [
"//Ex:2.31\n",
"clc;\n",
"clear;\n",
"close;\n",
"f=7.375*10^3;// frequency in MHz\n",
"y=300/f;// wavelength in m\n",
"D=2.7;// directivity\n",
"Ae=%pi*(D/2)^2*0.65;// effective aperture\n",
"G=(4*%pi/y^2)*Ae;// gain \n",
"BW=70*y/D;// Beamwidth in A\n",
"printf('The gain = %f ', G);\n",
"printf('\n The Beamwidth = %f A', BW);"
   ]
   }
,
{
		   "cell_type": "markdown",
		   "metadata": {},
		   "source": [
			"## Example 2.32: How_much_is_the_new_signal_picked_up_by_the_receiving_station.sce"
		   ]
		  },
  {
"cell_type": "code",
	   "execution_count": null,
	   "metadata": {
	    "collapsed": true
	   },
	   "outputs": [],
"source": [
"//Ex:2.32\n",
"clc;\n",
"clear;\n",
"close;\n",
"V2=60;// in u volt\n",
"G=15;// voltage gain in dB\n",
"G1=10^(G/20);// voltage gain\n",
"V1=V2*G1;// signal at receiving station in volt\n",
"printf('The signal at receiving station = %f u-volts', V1);"
   ]
   }
,
{
		   "cell_type": "markdown",
		   "metadata": {},
		   "source": [
			"## Example 2.33: Calculate_the_radiation_resistance.sce"
		   ]
		  },
  {
"cell_type": "code",
	   "execution_count": null,
	   "metadata": {
	    "collapsed": true
	   },
	   "outputs": [],
"source": [
"//Ex:2.33\n",
"clc;\n",
"clear;\n",
"close;\n",
"G=30;// Power Gain\n",
"D=42;// directivity\n",
"n=G/D;// effeciency\n",
"Rl=25;// loss-resistance in ohm\n",
"Rr=(n*Rl)/(1-n);// radiation resistance in ohm\n",
"printf('The radiation resistance = %f ohm', Rr);"
   ]
   }
,
{
		   "cell_type": "markdown",
		   "metadata": {},
		   "source": [
			"## Example 2.34: Determine_the_total_radited_power.sce"
		   ]
		  },
  {
"cell_type": "code",
	   "execution_count": null,
	   "metadata": {
	    "collapsed": true
	   },
	   "outputs": [],
"source": [
"//Ex:2.34\n",
"clc;\n",
"clear;\n",
"close;\n",
"// For a closed surface, a sphere of radius r is choosen. To find the total radiated power, the radiated component of the power density is integrated over its surface. therefore,\n",
"// Wt=double integration of (ar.Ao.(sin(x)/r^2))*(ar.r^2.sin(x)) with limits from 0 to 2*pi and from 0 to pi, and on integration we get , pi^2*Ao watts\n",
"printf('The total radiated power= pi^2*Ao watts');"
   ]
   }
,
{
		   "cell_type": "markdown",
		   "metadata": {},
		   "source": [
			"## Example 2.35: EX2_35.sce"
		   ]
		  },
  {
"cell_type": "code",
	   "execution_count": null,
	   "metadata": {
	    "collapsed": true
	   },
	   "outputs": [],
"source": [
"//Ex:2.35\n",
"clc;\n",
"clear;\n",
"close;\n",
"// The max radiation is directed along x=pi/2. Therefore, Ymax=Ao\n",
"// radiation intensity in example 2.34 is , Wt=pi^2*Ao\n",
"// then, max directivity, Do=4*pi*Ymax/Wt=4*pi*Ao/pi^2*Ao=4/pi\n",
"Do=4/%pi;// the max directivity\n",
"// since the radiation intensity is only a function of angle x, the directivity as a function of the directional angles is represented by, D=Do*sin(x)\n",
"printf('The max directivity = %f', Do);\n",
"printf('\n The directivity as a function of the directional angles is represented by, D=Do*sin(x), where Do is the max value of directivity');"
   ]
   }
,
{
		   "cell_type": "markdown",
		   "metadata": {},
		   "source": [
			"## Example 2.36: EX2_36.sce"
		   ]
		  },
  {
"cell_type": "code",
	   "execution_count": null,
	   "metadata": {
	    "collapsed": true
	   },
	   "outputs": [],
"source": [
"//Ex:2.36\n",
"clc;\n",
"clear;\n",
"close;\n",
"// The radiation intensity is given by, F=r^2*Wr=Ao*(sin(x))^2\n",
"// The max radiation is directed along x=pi/2. therefore, Ymax=Ao\n",
"// the total radiated power is given by,Wt= Ao(8*pi/3)\n",
"// then the max directivity is equal to\n",
"// Do=4*pi*Ymax/Wt=4*pi*Ao/(8*pi*Ao/3)=3/2\n",
"Do=3/2;// the max directivity\n",
"printf('The max directivity = %f', Do);\n",
"printf('\n The directivity as a function of the directional angles is represented by, D=1.5*(sin(x))^2');"
   ]
   }
,
{
		   "cell_type": "markdown",
		   "metadata": {},
		   "source": [
			"## Example 2.37: Show_the_max_effective_aperture_of_a_short_dipole_antenna.sce"
		   ]
		  },
  {
"cell_type": "code",
	   "execution_count": null,
	   "metadata": {
	    "collapsed": true
	   },
	   "outputs": [],
"source": [
"//Ex:2.37\n",
"clc;\n",
"clear;\n",
"close;\n",
"// It is assume that\n",
"// 1. short dipole is coincide with x-axis\n",
"// 2. Plane polarized wave in travelling along y-axis and including current along the x-axis of antenna which constant throughout the length of the dipole and in the same phase\n",
"// 3. Length of the short dipole is small in comparison to wavelength i.e. dl<<y\n",
"// 4. Antenna losses are zero.\n",
"// i.e.,     RL=Rr+Rl\n",
"// or        RL=Rr,       Rl=0\n",
"// As we know max-effective aperture is given by\n",
"// (Ae)max=V^2/(4*pi*P*Rr)\n",
"// where, V=induced voltage, P=poynting vector, Rr=radiation resistance\n",
"// As we here, V=E*dl, P=E^2/n W/m^2, where, n=intrinsic impedence of free space and E=Electric field intensity\n",
"// the radiation Resistance of short dipole antenna is given by\n",
"// Rr=80*pi^2*(dl/y)^2 in ohm\n",
"// then (Ae)max=(E*dl)^2/(4*(E^2/n)*(80*pi^2)*(dl/y)^2)\n",
"//       (Ae)max=(n*y^2)/(80*pi^2*4)=(120*pi*y^2)/(320*pi^2)\n",
"//              =(3*y^2)/(8*pi)=0.119*y^2\n",
"printf('The maximum effective aperture of a short dipole antenna, (Ae)max=0.119*y^2, where y is wavelength');"
   ]
   }
,
{
		   "cell_type": "markdown",
		   "metadata": {},
		   "source": [
			"## Example 2.38: EX2_38.sce"
		   ]
		  },
  {
"cell_type": "code",
	   "execution_count": null,
	   "metadata": {
	    "collapsed": true
	   },
	   "outputs": [],
"source": [
"//Ex:2.38\n",
"clc;\n",
"clear;\n",
"close;\n",
"// Power at point P, i.e.,distance r meters\n",
"// w=wt/4*pi*r^2\n",
"// here, wt=PG\n",
"// now, w=EH and E/H=n then w=E^2/n where n=120*pi\n",
"// E^2=wn=(wt/4*pi*r^2)n=(PG/4*pi*r^2)n=120*pi*PG/4*pi*r^2=30*PG/r^2\n",
"printf('The field strength is, E=sqrt(30*P*G)/r^2 V/m');"
   ]
   }
,
{
		   "cell_type": "markdown",
		   "metadata": {},
		   "source": [
			"## Example 2.39: Define_effective_aperture_and_scattering_aperture.sce"
		   ]
		  },
  {
"cell_type": "code",
	   "execution_count": null,
	   "metadata": {
	    "collapsed": true
	   },
	   "outputs": [],
"source": [
"//Ex:2.39\n",
"clc;\n",
"clear;\n",
"close;\n",
"printf('Effective aperture and scattering aperture- Resides effective aperture, there are other aperture also like scattering aperture (As) and loss aperture (Al). Corresponding to considerable losses in radiation or re-radiation Resistance (Rr) and antenna losses resistance (Rl) respectively and accordingly they are called as scattering apertures.');\n",
"// The scattering aperture, As=((Irms)^2*Rr)/P\n",
"printf('The scattering aperture, As=(V^2*Rr)/((RL+RA)^2+(XL+XA)^2)*P) ');"
   ]
   }
,
{
		   "cell_type": "markdown",
		   "metadata": {},
		   "source": [
			"## Example 2.3: What_is_the_wavelength_in_vaccum_and_in_air.sce"
		   ]
		  },
  {
"cell_type": "code",
	   "execution_count": null,
	   "metadata": {
	    "collapsed": true
	   },
	   "outputs": [],
"source": [
"//Ex:2.3\n",
"clc;\n",
"clear;\n",
"close;\n",
"c=3*10^8;// the speed of light in m/s\n",
"f=60*1000000;// frequency in Hz\n",
"y=c/f;// wavelength in vaccum in m\n",
"y1=y*0.98;// wavelength in air in m\n",
"printf('The wavelength in vaccum = %d meter', y);\n",
"printf('\n The wavelength in air = %f meter', y1);"
   ]
   }
,
{
		   "cell_type": "markdown",
		   "metadata": {},
		   "source": [
			"## Example 2.40: Calculate_the_power_density_and_magnetic_and_electric_field_strength.sce"
		   ]
		  },
  {
"cell_type": "code",
	   "execution_count": null,
	   "metadata": {
	    "collapsed": true
	   },
	   "outputs": [],
"source": [
"//Ex:2.40\n",
"clc;\n",
"clear;\n",
"close;\n",
"Irms=4;// rms current in Amp\n",
"Rr=70;// radiation resistance in ohm\n",
"Pmax=(sqrt(2)*Irms)^2*Rr;// max power in Watts\n",
"Pav=Pmax/2;// average power in Watts\n",
"d=60*10^3;// distance in m\n",
"Pd=(Pav*1.6)/(4*%pi*d^2);// power density\n",
"n=120*%pi;// efficiency\n",
"E=sqrt(n*Pd);// electric field in V/m\n",
"H=E/n;// magnetic field A/m\n",
"printf('The power density = %f micro Watt/m^2', Pd*10^6);\n",
"printf('\n The electric field = %f mV/m', E);\n",
"printf('\n The magnetic field = %f*10^-5 AT/m ', H*10^5);"
   ]
   }
,
{
		   "cell_type": "markdown",
		   "metadata": {},
		   "source": [
			"## Example 2.41: Calculate_the_antenna_gain.sce"
		   ]
		  },
  {
"cell_type": "code",
	   "execution_count": null,
	   "metadata": {
	    "collapsed": true
	   },
	   "outputs": [],
"source": [
"//Ex:2.41\n",
"clc;\n",
"clear;\n",
"close;\n",
"Pt=120;// transmitting power in Watt\n",
"Pd=160*10^-6;// power density in W/cm^2\n",
"d=10*100;// distance in cm\n",
"Gt=(Pd*4*%pi*d^2)/Pt;// the antenna gain\n",
"printf('The antenna gain = %f ', Gt);"
   ]
   }
,
{
		   "cell_type": "markdown",
		   "metadata": {},
		   "source": [
			"## Example 2.42: Calculate_the_effective_aperture_and_what_will_the_power_received.sce"
		   ]
		  },
  {
"cell_type": "code",
	   "execution_count": null,
	   "metadata": {
	    "collapsed": true
	   },
	   "outputs": [],
"source": [
"//Ex:2.42\n",
"clc;\n",
"clear;\n",
"close;\n",
"f=1.2*10^9;// freqyency in Hz\n",
"c=3*10^8;// the speed of light in m/s\n",
"y=c/f;// wavelength in m\n",
"D=1.5;// directivity\n",
"Ae=(D*y^2)/(4*%pi);// effective aperture area\n",
"Pd=2*10^-3;// power density in W/m^2\n",
"Pr=Pd*Ae;// power received in Watts\n",
"printf('The power received = %f*10^-6 Watts', Pr*10^6);"
   ]
   }
,
{
		   "cell_type": "markdown",
		   "metadata": {},
		   "source": [
			"## Example 2.43: EX2_43.sce"
		   ]
		  },
  {
"cell_type": "code",
	   "execution_count": null,
	   "metadata": {
	    "collapsed": true
	   },
	   "outputs": [],
"source": [
"//Ex:2.43\n",
"clc;\n",
"clear;\n",
"close;\n",
"Rl=1.5;// loss resistance in ohm\n",
"// Rr=80*pi^2*(l/y)^2=(80*pi^2*(y/15)^2)/y^2=80*pi^2/225\n",
"Rr=80*%pi^2/225;// the radiation resistance of the antenna in ohm\n",
"n=Rr/(Rr+Rl);// the efficiency factor\n",
"// the effective aperture of the antenna is given by\n",
"// Ae=V^2/4*S*Rr\n",
"// max emf induced, V=E*l volt\n",
"// Poynting vector, S=E^2/zo W/m^2, where zo=120*pi ohm\n",
"// Ae=(E*l)^2/(4*(E^2/zo)*Rr)=l^2*zo/(4*Rr), l=y/15\n",
"// Ae=((y/15)^2*120*pi)/(4*3.5)=0.1196*y^2\n",
"// the directivity, D=4*pi*Ae/y^2=(4*pi/y^2)*0.1196*y^2\n",
"D=4*%pi*0.1196;// the directivity\n",
"G=n*D;// the gain of the dipole\n",
"Rt=Rr+Rl;// the terminal resistance in ohm\n",
"x=4*%pi/D;// the beam solid angle in sreradian\n",
"printf('The radiation resistance of the anteenna = %f ohm', Rr);\n",
"printf('\n The effective aperture, Ae=0.1196*y^2, where y is wavelength');\n",
"printf('\n The directivity = %f', D);\n",
"printf('\n The gain of the dipole = %f', G);\n",
"printf('\n The terminal resistance = %d ohm', Rt);\n",
"printf('\n The beam solid angle = %f sreradian', x);\n",
""
   ]
   }
,
{
		   "cell_type": "markdown",
		   "metadata": {},
		   "source": [
			"## Example 2.44: Find_the_beam_width.sce"
		   ]
		  },
  {
"cell_type": "code",
	   "execution_count": null,
	   "metadata": {
	    "collapsed": true
	   },
	   "outputs": [],
"source": [
"//Ex:2.44\n",
"clc;\n",
"clear;\n",
"close;\n",
"GdB=44;// gain in dB\n",
"G=10^(44/10);// gain\n",
"XB=(4*%pi)/G;// beam solid angle in sreradian\n",
"X3dB=sqrt(4/%pi)*sqrt(XB);// beam width in radian\n",
"X3dB1=X3dB*180/%pi;// beam width in degree\n",
"printf('The beam width = %f degree', X3dB1);"
   ]
   }
,
{
		   "cell_type": "markdown",
		   "metadata": {},
		   "source": [
			"## Example 2.45: what_is_the_size_of_spot_illuminated_by_the_antenna.sce"
		   ]
		  },
  {
"cell_type": "code",
	   "execution_count": null,
	   "metadata": {
	    "collapsed": true
	   },
	   "outputs": [],
"source": [
"//Ex:2.45\n",
"clc;\n",
"clear;\n",
"close;\n",
"X3dB=0.1;// beam width in degree\n",
"X3dB1=X3dB*%pi/180;// beam width in radian\n",
"XB=(%pi/4)*(X3dB1^2);// beam solid angle\n",
"r=36000*1000;// distance from earth surface in m\n",
"A=XB*r^2;// area of spot in m^2\n",
"printf('The area of spot = %f*10^9 m^2', A/10^9);"
   ]
   }
,
{
		   "cell_type": "markdown",
		   "metadata": {},
		   "source": [
			"## Example 2.46: Find_the_power_density.sce"
		   ]
		  },
  {
"cell_type": "code",
	   "execution_count": null,
	   "metadata": {
	    "collapsed": true
	   },
	   "outputs": [],
"source": [
"//Ex:2.46\n",
"clc;\n",
"clear;\n",
"close;\n",
"Gt=36;// the antenna gain in dB\n",
"Gt1=10^3.6;// the antenna gain\n",
"Pt=5*10^3;// transmitting power in Watt\n",
"R=25*10^3;// distance in m\n",
"Pd=(Pt*Gt1)/(4*%pi*R^2);// power density in W/cm^2\n",
"printf('The power density = %f*10^-3 W/m^2 ', Pd*1000);"
   ]
   }
,
{
		   "cell_type": "markdown",
		   "metadata": {},
		   "source": [
			"## Example 2.47: Find_the_max_radiated_electric_field_and_what_is_the_max_power_density.sce"
		   ]
		  },
  {
"cell_type": "code",
	   "execution_count": null,
	   "metadata": {
	    "collapsed": true
	   },
	   "outputs": [],
"source": [
"//Ex:2.47\n",
"clc;\n",
"clear;\n",
"close;\n",
"l=1.2/100;// length in m\n",
"Im=2.8;// peak current in Amp\n",
"f=1*10^9;// frequency in Hz\n",
"c=3*10^8;// the speed of light in m/s\n",
"y=c/f;// wavelength in m\n",
"x=90;// angle in degree\n",
"x1=x*%pi/180;// angle in radian\n",
"r=10;// in m\n",
"n=120*%pi;// efficiency\n",
"Emax=(n*Im*l*sin(x1))/(2*r*y);// max radiated electric field in V/m^2\n",
"Pmax=Emax^2/n;// max power density in W/m^2\n",
"printf('The max radiated electric field = %f V/m', Emax);\n",
"printf('\n The max power density = %f W/m', Pmax);"
   ]
   }
,
{
		   "cell_type": "markdown",
		   "metadata": {},
		   "source": [
			"## Example 2.48: EX2_48.sce"
		   ]
		  },
  {
"cell_type": "code",
	   "execution_count": null,
	   "metadata": {
	    "collapsed": true
	   },
	   "outputs": [],
"source": [
"//Ex:2.48\n",
"clc;\n",
"clear;\n",
"close;\n",
"E=10;// peak electric field in V/m\n",
"n=120*%pi;// efficiency\n",
"H=E/n;// peak magnetic field At/m\n",
"Ppeak=E*H;// peak poynting vector in W/m^2\n",
"Pav=(E^2)/(2*n);// average poynting vector in W/m^2\n",
"printf('The peak magnetic field = %f At/m', H);\n",
"printf('\n The peak poynting vector = %f W/m^2', Ppeak);\n",
"printf('\n The average poynting vector = %f W/m^2', Pav);"
   ]
   }
,
{
		   "cell_type": "markdown",
		   "metadata": {},
		   "source": [
			"## Example 2.49: Find_the_magnitude_of_magnetic_and_electric_fields.sce"
		   ]
		  },
  {
"cell_type": "code",
	   "execution_count": null,
	   "metadata": {
	    "collapsed": true
	   },
	   "outputs": [],
"source": [
"//Ex:2.49\n",
"clc;\n",
"clear;\n",
"close;\n",
"Pav=100;// power density in W/m^2\n",
"E=8.85*10^-12;\n",
"V=3*10^8;// velocity in m/s\n",
"Eo=sqrt((2*Pav)/(E*V));// peak value of electric field in V/m\n",
"n=120*%pi;// efficiency\n",
"H=Eo/n;// magnetic field in AT/m\n",
"printf('The peak value of electric field = %f V/m', Eo);\n",
"printf('\n The magnetic field = %f AT/m', H);"
   ]
   }
,
{
		   "cell_type": "markdown",
		   "metadata": {},
		   "source": [
			"## Example 2.4: What_is_the_directicity.sce"
		   ]
		  },
  {
"cell_type": "code",
	   "execution_count": null,
	   "metadata": {
	    "collapsed": true
	   },
	   "outputs": [],
"source": [
"//Ex:2.4\n",
"clc;\n",
"clear;\n",
"close;\n",
"Rr=80;// radiation resistance in ohm\n",
"Rl=10;// loss-resistance in ohm\n",
"n=Rr/(Rr+Rl);// effeciency\n",
"G=20;// Power Gain\n",
"D=G/n;// directivity\n",
"printf('The directivity = %f', D);"
   ]
   }
,
{
		   "cell_type": "markdown",
		   "metadata": {},
		   "source": [
			"## Example 2.50: EX2_50.sce"
		   ]
		  },
  {
"cell_type": "code",
	   "execution_count": null,
	   "metadata": {
	    "collapsed": true
	   },
	   "outputs": [],
"source": [
"//Ex:2.50\n",
"clc;\n",
"clear;\n",
"close;\n",
"R=3.8*10^5;// earth moon distance in km\n",
"R1=3.8*10^5*10^3;// earth moon distance in m\n",
"Pt=1;// transmitter power in Watts\n",
"Pd=Pt/(4*%pi*R^2);// power density at earth in W/m^2\n",
"n=120*%pi;// efficiency\n",
"pn=5.513*10^-13;// multiplication of P(poynting vector) and n(efficiency)\n",
"E=sqrt(2*Pd*n);// electric field in V/m\n",
"Erms=E/sqrt(2);// rms value of E\n",
"Hrms=Erms/n;// rms value of H\n",
"c=3*10^8;// the speed of light in m/s\n",
"t=R1/c;// time taken by the signal to reach earth\n",
"printf('The power density at earth = %f*10^-13 W/m^2', Pd*10^13);\n",
"printf('\n The rms value of E = %f*10^-5 V/m', Erms*10^5);\n",
"printf('\n The rms value of H = %f*10^-8 AT/m', Hrms*10^8);\n",
"printf('\n The time taken by the signal to reach earth = %f sec', t);"
   ]
   }
,
{
		   "cell_type": "markdown",
		   "metadata": {},
		   "source": [
			"## Example 2.5: Calculate_the_radiation_resistance.sce"
		   ]
		  },
  {
"cell_type": "code",
	   "execution_count": null,
	   "metadata": {
	    "collapsed": true
	   },
	   "outputs": [],
"source": [
"//Ex:2.5\n",
"clc;\n",
"clear;\n",
"close;\n",
"dl_y=1/20;// the ratio of dl to y(wavelength)\n",
"Rr=80*(%pi^2)*(dl_y)^2;// radiation resistance in ohm\n",
"printf('The radiation resistance = %f ohm', Rr);"
   ]
   }
,
{
		   "cell_type": "markdown",
		   "metadata": {},
		   "source": [
			"## Example 2.6: Find_the_max_directivity_and_compare_it_with_its_exact_value.sce"
		   ]
		  },
  {
"cell_type": "code",
	   "execution_count": null,
	   "metadata": {
	    "collapsed": true
	   },
	   "outputs": [],
"source": [
"//Ex:2.6\n",
"clc;\n",
"clear;\n",
"close;\n",
"x1r=2*%pi/3;// in radian\n",
"x2r=2*%pi/3;// in radian\n",
"D=4*%pi/(x1r)^2;//  the max directivity\n",
"// Now, let us find the exact value of the max directivity and compare the result\n",
"// y=Bo.cos(x)\n",
"// ymax=Bo\n",
"// Prad=integration of (Bo.cos(x).sin(x)) with limit 0 to 2*pi\n",
"P=integrate('sin(2*x)','x',0,2*3.14);\n",
"// Prad=%pi*Bo*integration of (Bo.cos(x).sin(x)) with limit 0 to 2*pi\n",
"// then we get Prad=%pi*Bo\n",
"// Do=(4*pi*ymax)/Prad=4*pi*Bo/%pi*Bo\n",
"Do=4;// exact value of the max directivity\n",
"printf('The max directivity = %f (dimensionless)', D);\n",
"printf('\n The exact value of the max directivity = %d (dimensionless)', Do);\n",
"printf('\n The exact max directivity is 4 and its approx. value is 2.84. Better approximations can be obtained if the patterns have much narrower beamwidths.');"
   ]
   }
,
{
		   "cell_type": "markdown",
		   "metadata": {},
		   "source": [
			"## Example 2.7: What_is_the_bandwidth_and_also_bandwidth_ratio.sce"
		   ]
		  },
  {
"cell_type": "code",
	   "execution_count": null,
	   "metadata": {
	    "collapsed": true
	   },
	   "outputs": [],
"source": [
"//Ex:2.7\n",
"clc;\n",
"clear;\n",
"close;\n",
"fc=220;// center frequency in Hz\n",
"f3db=190;// 3 db frequency in Hz\n",
"f3db1=240;// 3 db frequency in Hz\n",
"Bl=(fc-f3db)/fc;// lower band width\n",
"Bu=(f3db1-fc)/fc;// upper band width\n",
"R=f3db1/f3db;// max to min ratio\n",
"printf('The lower band width = %f %%', Bl*100);\n",
"printf('\n The upper band width = %f %%', Bu*100);\n",
"printf('\n The max to min ratio = %f to 1 ', R);"
   ]
   }
,
{
		   "cell_type": "markdown",
		   "metadata": {},
		   "source": [
			"## Example 2.8: Calculate_the_max_effective_aperture_of_an_antenna.sce"
		   ]
		  },
  {
"cell_type": "code",
	   "execution_count": null,
	   "metadata": {
	    "collapsed": true
	   },
	   "outputs": [],
"source": [
"//Ex:2.8\n",
"clc;\n",
"clear;\n",
"close;\n",
"y=2;// wavelength in m\n",
"D=100;// directivity\n",
"Aem=(D*y^2)/(4*%pi);// max efeective aperture in m^2\n",
"printf('The max efeective aperture = %f m^2', Aem);"
   ]
   }
,
{
		   "cell_type": "markdown",
		   "metadata": {},
		   "source": [
			"## Example 2.9: Find_out_the_radiation_resistance.sce"
		   ]
		  },
  {
"cell_type": "code",
	   "execution_count": null,
	   "metadata": {
	    "collapsed": true
	   },
	   "outputs": [],
"source": [
"//Ex:2.9\n",
"clc;\n",
"clear;\n",
"close;\n",
"dl_y=1/8;// the ratio of dl to y(wavelength)\n",
"Rr=80*(%pi^2)*(dl_y)^2;// radiation resistance in ohm\n",
"printf('The radiation resistance = %f ohm', Rr);"
   ]
   }
],
"metadata": {
		  "kernelspec": {
		   "display_name": "Scilab",
		   "language": "scilab",
		   "name": "scilab"
		  },
		  "language_info": {
		   "file_extension": ".sce",
		   "help_links": [
			{
			 "text": "MetaKernel Magics",
			 "url": "https://github.com/calysto/metakernel/blob/master/metakernel/magics/README.md"
			}
		   ],
		   "mimetype": "text/x-octave",
		   "name": "scilab",
		   "version": "0.7.1"
		  }
		 },
		 "nbformat": 4,
		 "nbformat_minor": 0
}
