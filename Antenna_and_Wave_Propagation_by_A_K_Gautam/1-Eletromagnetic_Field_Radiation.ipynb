{
"cells": [
 {
		   "cell_type": "markdown",
	   "metadata": {},
	   "source": [
       "# Chapter 1: Eletromagnetic Field Radiation"
	   ]
	},
{
		   "cell_type": "markdown",
		   "metadata": {},
		   "source": [
			"## Example 1.10: Find_the_field_strength_and_the_power_radiated.sce"
		   ]
		  },
  {
"cell_type": "code",
	   "execution_count": null,
	   "metadata": {
	    "collapsed": true
	   },
	   "outputs": [],
"source": [
"//Ex:1.10\n",
"clc;\n",
"clear;\n",
"close;\n",
"le=100;// effective height of antenna in m\n",
"Irms=100;// current in Amp\n",
"f=0.300;// frequency in MHz\n",
"r=10*1000;// distance in m\n",
"y=300/f;// in m\n",
"Erms=(120*%pi*Irms*le)/(y*r);// strength of electric field in V/m\n",
"Rr=160*(%pi^2)*(le/y)^2;// radiation resistance in ohm\n",
"W=Irms^2*Rr;// radiated power in Watt\n",
"printf('The strength of electric field = %f mV/m', Erms*1000);\n",
"printf('\n The radiated power = %f KW', W/1000);"
   ]
   }
,
{
		   "cell_type": "markdown",
		   "metadata": {},
		   "source": [
			"## Example 1.11: Calculate_the_power_radiated.sce"
		   ]
		  },
  {
"cell_type": "code",
	   "execution_count": null,
	   "metadata": {
	    "collapsed": true
	   },
	   "outputs": [],
"source": [
"//Ex:1.11\n",
"clc;\n",
"clear;\n",
"close;\n",
"le=10;// effective height of antenna in m\n",
"Irms=50;// current in Amp\n",
"f=0.600;// frequency in MHz\n",
"y=300/f;// in m\n",
"Rr=160*(%pi^2)*(le/y)^2;// radiation resistance in ohm\n",
"W=Irms^2*Rr;// radiated power in Watt\n",
"printf('The radiated power = %f KW', W/1000);"
   ]
   }
,
{
		   "cell_type": "markdown",
		   "metadata": {},
		   "source": [
			"## Example 1.12: Calculate_the_radiation_resistance_of_current_elements.sce"
		   ]
		  },
  {
"cell_type": "code",
	   "execution_count": null,
	   "metadata": {
	    "collapsed": true
	   },
	   "outputs": [],
"source": [
"//Ex:1.12\n",
"clc;\n",
"clear;\n",
"close;\n",
"// dl=y/50\n",
"// then dl/y=((y/50)/y=1/50)\n",
"dl_y=1/50;// the value of dl/y\n",
"Rr=80*%pi^2*(dl_y^2);// Radiation resistance in ohm\n",
"printf('The radiation resistance = %f ohm', Rr);"
   ]
   }
,
{
		   "cell_type": "markdown",
		   "metadata": {},
		   "source": [
			"## Example 1.13: Calculate_the_power_radiated_and_what_is_its_radiation_resistance.sce"
		   ]
		  },
  {
"cell_type": "code",
	   "execution_count": null,
	   "metadata": {
	    "collapsed": true
	   },
	   "outputs": [],
"source": [
"//Ex:1.13\n",
"clc;\n",
"clear;\n",
"close;\n",
"// Prad=n(pi/3)*(Io*dl/y)^2, where n=120pi & y is wavelength\n",
"// Prad=120*pi*(pi/3)*(100*y/16*y)\n",
"Prad=120*3.14*(3.14/3)*(100/16)^2;// power radiated in Watts\n",
"// Rr=80*pi*(y/16y)^2\n",
"Rr=80*3.14^2*(1/16)^2;// the radiation resistance in ohm\n",
"printf('The power radiated = %f watts', Prad);\n",
"printf('\n The radiation resistance = %f ohm', Rr);"
   ]
   }
,
{
		   "cell_type": "markdown",
		   "metadata": {},
		   "source": [
			"## Example 1.14: what_is_the_electric_field.sce"
		   ]
		  },
  {
"cell_type": "code",
	   "execution_count": null,
	   "metadata": {
	    "collapsed": true
	   },
	   "outputs": [],
"source": [
"//Ex:1.14\n",
"clc;\n",
"clear;\n",
"close;\n",
"r=5*1000;// distance in m\n",
"r1=10*1000;// distance in m\n",
"W=1;\n",
"Erms=(sqrt(90*W))/r;// electric field strength at a distanve 5 km\n",
"Erms1=(sqrt(90*W))/r1;// electric field strength at a distanve 10 km\n",
"E_E1=Erms/Erms1;// the ratio of electric field strengths\n",
"Erms=10;// electric field strength in mV/m\n",
"Erms2=Erms/E_E1;// electric field strength in mV/m at a distance of 10 km\n",
"printf('The electric field strength in mV/m at a distance of 10 km = %d mV/m', Erms2);"
   ]
   }
,
{
		   "cell_type": "markdown",
		   "metadata": {},
		   "source": [
			"## Example 1.15: EX1_15.sce"
		   ]
		  },
  {
"cell_type": "code",
	   "execution_count": null,
	   "metadata": {
	    "collapsed": true
	   },
	   "outputs": [],
"source": [
"//Ex:1.15\n",
"clc;\n",
"clear;\n",
"close;\n",
"Irms=10;// rms value of current in amp\n",
"// Erms=(120*pi*Irms*le)/y*r, where y= wavelength\n",
"// Erms=(120*pi*10*(3y/2))/y*r=1200*pi*3/2*r=1800*pi/r V/m\n",
"// now, Erms1=120*pi*Irms1*5y/(8*y*r)=75*pi*Irms1/r\n",
"// now equate these two Erms, we have\n",
"// 1800*pi/r=75*pi*Irms1/r i.e., Irms1=1800/75\n",
"Irms1=1800/75;// antenna current in amp\n",
"printf('The antenna current = %d amp', Irms1);"
   ]
   }
,
{
		   "cell_type": "markdown",
		   "metadata": {},
		   "source": [
			"## Example 1.16: Determine_the_field_strength_of_the_radiated_field_produced.sce"
		   ]
		  },
  {
"cell_type": "code",
	   "execution_count": null,
	   "metadata": {
	    "collapsed": true
	   },
	   "outputs": [],
"source": [
"//Ex:1.16\n",
"clc;\n",
"clear;\n",
"close;\n",
"r=1000;// distance in m\n",
"l=1;// length in m\n",
"Irms=5;// current in Amp\n",
"f=1;// frequency in MHz\n",
"y=300/f;// Wavelength in m\n",
"le=(2/%pi)*l;// effective length in m\n",
"Erms=(120*%pi*le*Irms)/(y*r);// field strength in V/m\n",
"printf('The field strength = %d mV/m', Erms*1000);"
   ]
   }
,
{
		   "cell_type": "markdown",
		   "metadata": {},
		   "source": [
			"## Example 1.17: Calculate_the_effective_height_of_the_antenna_in_meters.sce"
		   ]
		  },
  {
"cell_type": "code",
	   "execution_count": null,
	   "metadata": {
	    "collapsed": true
	   },
	   "outputs": [],
"source": [
"//Ex:1.17\n",
"clc;\n",
"clear;\n",
"close;\n",
"r=100;// distance in m\n",
"Irms=32;// current in Amp\n",
"y=300*1000;// Wavelength in m\n",
"Erms=9*10^-3;// field strength in V/m\n",
"le=(Erms*y*r)/(120*3.14*Irms);// effective height of antenna in m\n",
"printf('The effective height of antenna = %f m', le);"
   ]
   }
,
{
		   "cell_type": "markdown",
		   "metadata": {},
		   "source": [
			"## Example 1.18: Calculate_the_radiation_resistance.sce"
		   ]
		  },
  {
"cell_type": "code",
	   "execution_count": null,
	   "metadata": {
	    "collapsed": true
	   },
	   "outputs": [],
"source": [
"//Ex:1.18\n",
"clc;\n",
"clear;\n",
"close;\n",
"I=10;// current in Amp\n",
"Wt=(10*I)^2/30;// power in Watt\n",
"Rt=Wt/I^2;// Radiation resistance in ohm\n",
"printf('The Radiation resistance = %f ohm', Rt);"
   ]
   }
,
{
		   "cell_type": "markdown",
		   "metadata": {},
		   "source": [
			"## Example 1.19: Find_the_radiation_resistance_and_power_radiated_and_also_antenna_efficiency.sce"
		   ]
		  },
  {
"cell_type": "code",
	   "execution_count": null,
	   "metadata": {
	    "collapsed": true
	   },
	   "outputs": [],
"source": [
"//Ex:1.19\n",
"clc;\n",
"clear;\n",
"close;\n",
"le=61.4;// effective height in m\n",
"Irms=50;// current in amp\n",
"y=625;// wavelength in m\n",
"Rr=160*(%pi*le)^2/(y^2);// Radiation resistance of an antenna in ohm\n",
"W=(Irms^2)*Rr;// power radiated in Watt\n",
"Rt=50;// total antenna resistance in ohm\n",
"n=Rr/Rt;// efficiency\n",
"printf('The Radiation resistance of an antenna = %f ohm', Rr);\n",
"printf('\n The power radiated = %f KW', W/1000);\n",
"printf('\n The efficiency = %f %%', n*100);"
   ]
   }
,
{
		   "cell_type": "markdown",
		   "metadata": {},
		   "source": [
			"## Example 1.1: What_is_the_strength_of_a_magnetic_field_H_in_free_space.sce"
		   ]
		  },
  {
"cell_type": "code",
	   "execution_count": null,
	   "metadata": {
	    "collapsed": true
	   },
	   "outputs": [],
"source": [
"//Ex:1.1\n",
"clc;\n",
"clear;\n",
"close;\n",
"E=2;// electriv field strength in V/m\n",
"n=120*%pi;\n",
"H=E/n;// strength of a magnetic field H\n",
"printf('The strength of a magnetic field H = %f mA/meter', H*10^3);"
   ]
   }
,
{
		   "cell_type": "markdown",
		   "metadata": {},
		   "source": [
			"## Example 1.20: What_is_the_power_radiated.sce"
		   ]
		  },
  {
"cell_type": "code",
	   "execution_count": null,
	   "metadata": {
	    "collapsed": true
	   },
	   "outputs": [],
"source": [
"//Ex:1.20\n",
"clc;\n",
"clear;\n",
"close;\n",
"le=49.12;// effective height in m\n",
"Irms=220;// current in amp\n",
"f=37.5;// frequency in KHz\n",
"f1=f/1000;// frequency in MHz\n",
"y=300/f1;// wavelength in m\n",
"Rr=160*(%pi^2)*(le/y)^2;// Radiation resistance in ohm\n",
"W=Irms^2*Rr;//  power radiated in watts\n",
"printf('The power radiated = %f kW', W/1000);"
   ]
   }
,
{
		   "cell_type": "markdown",
		   "metadata": {},
		   "source": [
			"## Example 1.21: Find_out_the_field_strength.sce"
		   ]
		  },
  {
"cell_type": "code",
	   "execution_count": null,
	   "metadata": {
	    "collapsed": true
	   },
	   "outputs": [],
"source": [
"//Ex:1.21\n",
"clc;\n",
"clear;\n",
"close;\n",
"W=35*10^3;// power in Watts\n",
"r=60*10^3;// in m\n",
"Erms=(sqrt(90*W))/r;// field strength in mV/m\n",
"printf('The field strength = %f mV/m', Erms*1000);"
   ]
   }
,
{
		   "cell_type": "markdown",
		   "metadata": {},
		   "source": [
			"## Example 1.22: At_what_distance_from_a_sixty_cycle_circuit_is_the_radiation_field_approximately.sce"
		   ]
		  },
  {
"cell_type": "code",
	   "execution_count": null,
	   "metadata": {
	    "collapsed": true
	   },
	   "outputs": [],
"source": [
"//Ex:1.22\n",
"clc;\n",
"clear;\n",
"close;\n",
"f=60*10^-6;// frequency in MHz\n",
"y=300/f;// wavelength in m\n",
"r=y/(2*3.14);// distance in m\n",
"printf('The distance = %f*10^6 m', r/10^6);"
   ]
   }
,
{
		   "cell_type": "markdown",
		   "metadata": {},
		   "source": [
			"## Example 1.23: Find_out_the_field_strength.sce"
		   ]
		  },
  {
"cell_type": "code",
	   "execution_count": null,
	   "metadata": {
	    "collapsed": true
	   },
	   "outputs": [],
"source": [
"//Ex:1.23\n",
"clc;\n",
"clear;\n",
"close;\n",
"W=1*10^3;// power in Watts\n",
"r=10^3;// in m\n",
"Erms=(sqrt(30*W))/r;// field strength in mV/m\n",
"printf('The field strength = %f mV/m', Erms*1000);"
   ]
   }
,
{
		   "cell_type": "markdown",
		   "metadata": {},
		   "source": [
			"## Example 1.24: Find_the_velocity_of_a_plane_wave_in_a_loss_less_medium.sce"
		   ]
		  },
  {
"cell_type": "code",
	   "execution_count": null,
	   "metadata": {
	    "collapsed": true
	   },
	   "outputs": [],
"source": [
"//Ex:1.24\n",
"clc;\n",
"clear;\n",
"close;\n",
"Er=15;// relative permittivity\n",
"ur=5;// relative mobility\n",
"B=1/sqrt(Er*ur);\n",
"A=3*10^8;// the value of 1/sqrt(Eo*uo)\n",
"V=A*B;// velocity of propagation in volt\n",
"printf('The field strength = %f*10^7 m/s', V/10^7);"
   ]
   }
,
{
		   "cell_type": "markdown",
		   "metadata": {},
		   "source": [
			"## Example 1.25: What_is_the_strength_of_a_magnetic_field_H_in_free_space.sce"
		   ]
		  },
  {
"cell_type": "code",
	   "execution_count": null,
	   "metadata": {
	    "collapsed": true
	   },
	   "outputs": [],
"source": [
"//Ex:1.25\n",
"clc;\n",
"clear;\n",
"close;\n",
"E=6;// electric field strength in V/m\n",
"n=120*%pi;// efficiency\n",
"H=E/n;// magnetic field strength in Amp/m\n",
"printf('The magnetic field strength = %f mA/m', H*1000);"
   ]
   }
,
{
		   "cell_type": "markdown",
		   "metadata": {},
		   "source": [
			"## Example 1.26: Calculate_the_field_strength_at_a_distance_of_twenty_five_km.sce"
		   ]
		  },
  {
"cell_type": "code",
	   "execution_count": null,
	   "metadata": {
	    "collapsed": true
	   },
	   "outputs": [],
"source": [
"//Ex:1.26\n",
"clc;\n",
"clear;\n",
"close;\n",
"l=70;// antenna height in m\n",
"le=2*l/%pi;// effective length in m\n",
"Irms=25;// current in amp\n",
"f=10;// frequency in MHz\n",
"y=300/f;// wavelength in m\n",
"r=25*10^3;// distance in m\n",
"Erms=(120*%pi*le*Irms)/(y*r);// field strength in mV/m\n",
"printf('The field strength = %d mV/m', Erms*10^3);"
   ]
   }
,
{
		   "cell_type": "markdown",
		   "metadata": {},
		   "source": [
			"## Example 1.27: Calculate_the_radiation_resistance.sce"
		   ]
		  },
  {
"cell_type": "code",
	   "execution_count": null,
	   "metadata": {
	    "collapsed": true
	   },
	   "outputs": [],
"source": [
"//Ex:1.27\n",
"clc;\n",
"clear;\n",
"close;\n",
"le=50;// effective height of antenna in m\n",
"f=10;// frequency in MHz\n",
"y=300/f;// wavelength in m\n",
"Rr=160*(%pi^2)*(le/y)^2;// Radiation resistance in ohm\n",
"printf('The Radiation resistance = %f k-ohm', Rr/1000);"
   ]
   }
,
{
		   "cell_type": "markdown",
		   "metadata": {},
		   "source": [
			"## Example 1.28: Derive_an_expression_for_the_gain_of_a_half_wave_antenna.sce"
		   ]
		  },
  {
"cell_type": "code",
	   "execution_count": null,
	   "metadata": {
	    "collapsed": true
	   },
	   "outputs": [],
"source": [
"//Ex:1.28\n",
"clc;\n",
"clear;\n",
"close;\n",
"// G=Pr/pi\n",
"// G=Pr/(Wi/4*%pi*r^2)\n",
"// G=4*%pi*r^2*Pr/Wi\n",
"// Pr=(30*Irms^2/%pi*r^2)*((cos(%pi/2*(cos(x))))^2/(sin(x)^2)\n",
"// this is max when x=90 degree\n",
"// then Pr=(30*Irms^2/(%pi*r^2))\n",
"// Wi=73.14*Irms^2\n",
"// then G=(4*%pi*r^2*30*Irms^2)/(73.14*Irms^2*%pi*r^2)\n",
"// G=120/73.14\n",
"G=120/73.14;// Gain\n",
"g=10*log(G)/log(10);// Gain in dB\n",
"printf('The Gain = %f dB', g);"
   ]
   }
,
{
		   "cell_type": "markdown",
		   "metadata": {},
		   "source": [
			"## Example 1.29: EX1_29.sce"
		   ]
		  },
  {
"cell_type": "code",
	   "execution_count": null,
	   "metadata": {
	    "collapsed": true
	   },
	   "outputs": [],
"source": [
"//Ex:1.29\n",
"clc;\n",
"clear;\n",
"close;\n",
"Irms=15;// current in Amp\n",
"// Erms=(120*%pi*Irms*le)/(y*r)\n",
"// here Irms=15 amp and le=3y/2\n",
"// then\n",
"// Erms=(120*%pi*15*3y/2)/(y*r)\n",
"// Erms=2700*%pi/r\n",
"// Now, le=7y, then\n",
"// Erms1=(120*%pi*Irms1*7y)/(y*r)\n",
"// Erms1=105*%pi/r\n",
"// and Erms=Erms1\n",
"// 2700*%pi/r=105*%pi*Irms1/r\n",
"// Irms1=2700/105\n",
"Irms1=2700/105;// current in Amp\n",
"printf('The current = %f Amp', Irms1);"
   ]
   }
,
{
		   "cell_type": "markdown",
		   "metadata": {},
		   "source": [
			"## Example 1.2: Find_out_the_field_strength.sce"
		   ]
		  },
  {
"cell_type": "code",
	   "execution_count": null,
	   "metadata": {
	    "collapsed": true
	   },
	   "outputs": [],
"source": [
"//Ex:1.2\n",
"clc;\n",
"clear;\n",
"close;\n",
"W=625*10^3;// power in W\n",
"r=30*10^3;// in m\n",
"Erms=(sqrt(90*W))/r;// the field strength in V/m\n",
"printf('The field strength = %d mV/meter', Erms*10^3);"
   ]
   }
,
{
		   "cell_type": "markdown",
		   "metadata": {},
		   "source": [
			"## Example 1.30: Find_the_average_energy_density.sce"
		   ]
		  },
  {
"cell_type": "code",
	   "execution_count": null,
	   "metadata": {
	    "collapsed": true
	   },
	   "outputs": [],
"source": [
"//Ex:1.30\n",
"clc;\n",
"clear;\n",
"close;\n",
"Pr=15;// poynting vector in W/m^2\n",
"v=3*10^8;// average velocity ( the speed of light)\n",
"dav=Pr/v;// average energy density in W S/m^3 or J/m^3\n",
"dav1=dav*10^9;// average energy density in nJ/m^3\n",
"printf('The average energy density = %d nJ/m^3', dav1);"
   ]
   }
,
{
		   "cell_type": "markdown",
		   "metadata": {},
		   "source": [
			"## Example 1.31: Determine_the_radiation_resistance.sce"
		   ]
		  },
  {
"cell_type": "code",
	   "execution_count": null,
	   "metadata": {
	    "collapsed": true
	   },
	   "outputs": [],
"source": [
"//Ex:1.31\n",
"clc;\n",
"clear;\n",
"close;\n",
"le_y=1/10;// the ratio of le to y\n",
"Rr=160*(%pi^2)*(le_y)^2;// radiation resistance in ohm\n",
"printf('The radiation resistance = %f ohm', Rr);"
   ]
   }
,
{
		   "cell_type": "markdown",
		   "metadata": {},
		   "source": [
			"## Example 1.32: EX1_32.sce"
		   ]
		  },
  {
"cell_type": "code",
	   "execution_count": null,
	   "metadata": {
	    "collapsed": true
	   },
	   "outputs": [],
"source": [
"//Ex:1.32\n",
"clc;\n",
"clear;\n",
"close;\n",
"r=15*10^3;// distance in m\n",
"r1=25*10^3;// distance in m\n",
"Erms_Erms1=r1/r;// the ratio of Erms to Erms1\n",
"Erms=25;// mV/m;// electric field strength in mV/m\n",
"Erms1=Erms/Erms_Erms1;// electric field strength in mV/m at a point 25 away in the same direction\n",
"printf('The electric field strength = %d mV/meter', Erms1);"
   ]
   }
,
{
		   "cell_type": "markdown",
		   "metadata": {},
		   "source": [
			"## Example 1.33: EX1_33.sce"
		   ]
		  },
  {
"cell_type": "code",
	   "execution_count": null,
	   "metadata": {
	    "collapsed": true
	   },
	   "outputs": [],
"source": [
"//Ex:1.33\n",
"clc;\n",
"clear;\n",
"close;\n",
"f=20*10^6;// frequency in Hz\n",
"P=10;// poynting vector in W/m^2\n",
"u=4;// relative mobility\n",
"Er=5;// relative permeability\n",
"c=3*10^8;// the speed of light= 1/sqrt(uo*Eo)\n",
"V=c/sqrt(u*Er);// the velocity of propagation in m/s\n",
"y=V/f;// wavelength in m\n",
"E=sqrt(P*120*%pi*sqrt(4/5));// electric field in V/m\n",
"Erms=sqrt(E^2/sqrt(2));// rms electric field\n",
"E=sqrt(2)*Erms;// electric field\n",
"n=E^2/P;// impedance of the medium in ohm\n",
"printf('The velocity of propagation = %f*10^8 m/s', V/10^8);\n",
"printf('\n The wavelength = %f m', y);\n",
"printf('\n The impedance of the medium = %f ohm', n);\n",
"printf('\n The rms electric field = %f V/m', Erms);"
   ]
   }
,
{
		   "cell_type": "markdown",
		   "metadata": {},
		   "source": [
			"## Example 1.34: EX1_34.sce"
		   ]
		  },
  {
"cell_type": "code",
	   "execution_count": null,
	   "metadata": {
	    "collapsed": true
	   },
	   "outputs": [],
"source": [
"//Ex:1.34\n",
"clc;\n",
"clear;\n",
"close;\n",
"// 3*(1/r^2)=w/(r*c)\n",
"// 3/r=(2*%pi*f/c)\n",
"// r=(1/(2*%pi))*3\n",
"r=(1/(2*%pi))*3;// distance in terms of y(wavelength)\n",
"r1=(1/(2*%pi))*50;// distance in terms of y(wavelength)\n",
"printf('The distance when component of M-field three times the induction field = %f*y', r);\n",
"printf('\n The distance when component of M-field 50 times the induction field= %f*y', r1);"
   ]
   }
,
{
		   "cell_type": "markdown",
		   "metadata": {},
		   "source": [
			"## Example 1.35: Find_out_the_field_strength.sce"
		   ]
		  },
  {
"cell_type": "code",
	   "execution_count": null,
	   "metadata": {
	    "collapsed": true
	   },
	   "outputs": [],
"source": [
"//Ex:1.35\n",
"clc;\n",
"clear;\n",
"close;\n",
"W=50*1000;// radiated power in W\n",
"r=90*1000;// distance in m\n",
"Erms=(sqrt(90*W))/r;// strength of electric field in V/m\n",
"printf('The strength of electric field = %f mV/m', Erms*1000);"
   ]
   }
,
{
		   "cell_type": "markdown",
		   "metadata": {},
		   "source": [
			"## Example 1.36: Find_the_velocity_of_a_plane_wave_in_a_loss_less_medium.sce"
		   ]
		  },
  {
"cell_type": "code",
	   "execution_count": null,
	   "metadata": {
	    "collapsed": true
	   },
	   "outputs": [],
"source": [
"//Ex:1.36\n",
"clc;\n",
"clear;\n",
"close;\n",
"c=3*10^8;// the speed of light in m/s\n",
"ur=1;// relative permittivity\n",
"Er=4;// relative permeability\n",
"vp=c/sqrt(ur*Er);// velocity of a plane wave\n",
"printf('The velocity of a plane wave = %f*10^8 m/s', vp/10^8);"
   ]
   }
,
{
		   "cell_type": "markdown",
		   "metadata": {},
		   "source": [
			"## Example 1.37: EX1_37.sce"
		   ]
		  },
  {
"cell_type": "code",
	   "execution_count": null,
	   "metadata": {
	    "collapsed": true
	   },
	   "outputs": [],
"source": [
"//Ex:1.37\n",
"clc;\n",
"clear;\n",
"close;\n",
"Irms=15;// current in Amp\n",
"// Erms=(120*%pi*Irms*le)/(y*r)\n",
"// here Irms=15 amp and le=7y/2\n",
"// then\n",
"// Erms=(120*%pi*15*7y/2)/(y*r)\n",
"// Erms=6300*%pi/r\n",
"// Now, le=7y, then\n",
"// Erms1=(120*%pi*Irms1*7y)/(y*r)\n",
"// Erms1=105*%pi/r\n",
"// and Erms=Erms1\n",
"// 6300*%pi/r=105*%pi*Irms1/r\n",
"// Irms1=6300/105\n",
"Irms1=6300/105;// current in Amp\n",
"printf('The current = %d Amp', Irms1);"
   ]
   }
,
{
		   "cell_type": "markdown",
		   "metadata": {},
		   "source": [
			"## Example 1.38: Determine_the_radiation_resistance.sce"
		   ]
		  },
  {
"cell_type": "code",
	   "execution_count": null,
	   "metadata": {
	    "collapsed": true
	   },
	   "outputs": [],
"source": [
"//Ex:1.38\n",
"clc;\n",
"clear;\n",
"close;\n",
"le_y=1/150;// the ratio of le to y\n",
"Rr=16*(%pi^2)*(le_y)^2;// radiation resistance in ohm\n",
"printf('The radiation resistance = %f*10^-3 ohm', Rr*1000);"
   ]
   }
,
{
		   "cell_type": "markdown",
		   "metadata": {},
		   "source": [
			"## Example 1.39: What_is_the_radiation_resistance_of_an_antenna.sce"
		   ]
		  },
  {
"cell_type": "code",
	   "execution_count": null,
	   "metadata": {
	    "collapsed": true
	   },
	   "outputs": [],
"source": [
"//Ex:1.39\n",
"clc;\n",
"clear;\n",
"close;\n",
"Pr=10*10^3;// power in Watts\n",
"I=18;// current in Amp\n",
"R=Pr/I^2;// radiation resistance of an antenna in ohm\n",
"printf('The radiation resistance of an antenna = %f ohm', R);"
   ]
   }
,
{
		   "cell_type": "markdown",
		   "metadata": {},
		   "source": [
			"## Example 1.3: Calculate_the_radiation_resistance.sce"
		   ]
		  },
  {
"cell_type": "code",
	   "execution_count": null,
	   "metadata": {
	    "collapsed": true
	   },
	   "outputs": [],
"source": [
"//Ex:1.3\n",
"clc;\n",
"clear;\n",
"close;\n",
"f=10;// frequency in MHz\n",
"le=60;// height of antenna in m\n",
"y=300/f;// wavelength in m\n",
"Rr=(160*%pi^2*le^2)/y^2;// radiation resistance in ohm\n",
"printf('The radiation resistance = %f K-ohm', Rr/1000);"
   ]
   }
,
{
		   "cell_type": "markdown",
		   "metadata": {},
		   "source": [
			"## Example 1.40: What_is_the_bandwidth.sce"
		   ]
		  },
  {
"cell_type": "code",
	   "execution_count": null,
	   "metadata": {
	    "collapsed": true
	   },
	   "outputs": [],
"source": [
"//Ex:1.40\n",
"clc;\n",
"clear;\n",
"close;\n",
"fo=25*10^6;// frequency in Hz\n",
"Q=40;\n",
"B_W=fo/Q;// bandwidth in Hz\n",
"printf('The bandwidth = %d KHz', B_W/1000);"
   ]
   }
,
{
		   "cell_type": "markdown",
		   "metadata": {},
		   "source": [
			"## Example 1.41: EX1_41.sce"
		   ]
		  },
  {
"cell_type": "code",
	   "execution_count": null,
	   "metadata": {
	    "collapsed": true
	   },
	   "outputs": [],
"source": [
"//Ex:1.41\n",
"clc;\n",
"clear;\n",
"close;\n",
"Rl=1.5;// loss resistance in ohm\n",
"le_y=1/50;// the ratio of le to y\n",
"Rr=80*(%pi^2)*(le_y)^2;// radiation resistance in ohm\n",
"Rt=Rl+Rr;// total resistance in ohm\n",
"n=Rr/Rt;// effeciency\n",
"printf('The effeciency = %f %%', n*100);"
   ]
   }
,
{
		   "cell_type": "markdown",
		   "metadata": {},
		   "source": [
			"## Example 1.42: EX1_42.sce"
		   ]
		  },
  {
"cell_type": "code",
	   "execution_count": null,
	   "metadata": {
	    "collapsed": true
	   },
	   "outputs": [],
"source": [
"//Ex:1.42\n",
"clc;\n",
"clear;\n",
"close;\n",
"// 100*(1/r^2)=w/(r*c)\n",
"// 100/r=(2*%pi*f/c)\n",
"// r=(1/(2*%pi))*100\n",
"r=(1/(2*%pi))*100;// distance in terms of y(wavelength)\n",
"printf('The distance when component of M-field three times the induction field = %f*y', r);"
   ]
   }
,
{
		   "cell_type": "markdown",
		   "metadata": {},
		   "source": [
			"## Example 1.43: Define_retarded_vector_potential.sce"
		   ]
		  },
  {
"cell_type": "code",
	   "execution_count": null,
	   "metadata": {
	    "collapsed": true
	   },
	   "outputs": [],
"source": [
"//Ex:1.43\n",
"clc;\n",
"clear;\n",
"close;\n",
"printf('Retarded vector potential- The vector potential expression represents the super positions of various current elements I.dl, at a distant point P at a distance of r. If these are simply added up, it means an assumption is made that these field effects which are super imposed at time t, all started from the current elements of the same value of current and even though they have travelled different. Varying distances in other words finite time of propagation has been ignored which is not correct. This would have been correct provided the velocity of propagation would have been infinite which is actually not.');\n",
"printf('\n If the expression for vector potential in Integrated it follows thet potential due to various current element are added up let us suppose that current (I) is istantaneous current (I) in the element be Sinusoidal function of time as');\n",
"printf('\n I=Im.sin(wt), where Im= max current');\n",
"printf('\n I=Instantaneous current');\n",
"printf('\n w=2hf, angular frequency');"
   ]
   }
,
{
		   "cell_type": "markdown",
		   "metadata": {},
		   "source": [
			"## Example 1.44: What_is_the_power_radiated_and_what_is_the_efficiency_of_the_antenna.sce"
		   ]
		  },
  {
"cell_type": "code",
	   "execution_count": null,
	   "metadata": {
	    "collapsed": true
	   },
	   "outputs": [],
"source": [
"//Ex:1.44\n",
"clc;\n",
"clear;\n",
"close;\n",
"c=3*10^8;// the speed of light in m/s\n",
"Irms=450;// current in Amp\n",
"dl=100;// effective length in m\n",
"f=40*10^3;// frequency in Hz\n",
"y=c/f;// wavelength in m\n",
"w=80*%pi^2*Irms^2*(dl/y)^2;// power radiated in Watts\n",
"Rr=0.14;// radiation resistance in ohm\n",
"Rt=1.12;// total resistance in ohm\n",
"n=Rr/Rt;// effeciency\n",
"printf('The power radiated = %f kW', w/1000);\n",
"printf('\n The effeciency = %f %%', n*100);"
   ]
   }
,
{
		   "cell_type": "markdown",
		   "metadata": {},
		   "source": [
			"## Example 1.45: EX1_45.sce"
		   ]
		  },
  {
"cell_type": "code",
	   "execution_count": null,
	   "metadata": {
	    "collapsed": true
	   },
	   "outputs": [],
"source": [
"//Ex:1.45\n",
"clc;\n",
"clear;\n",
"close;\n",
"le=69.96;// effective length in m\n",
"Irms=50;// current in Amp\n",
"Rt=50;// total resistance in ohm\n",
"c=3*10^8;// the speed of light in m/s\n",
"f=0.480*10^6;// frequency in Hz\n",
"y=c/f;// wavelength in m\n",
"Rr=160*%pi^2*(le/y)^2;// radiation resistance in ohm\n",
"w=Irms^2*Rr;// power radiated in Watts\n",
"n=Rr/Rt;// effeciency\n",
"printf('The radiation resistance = %f ohm', Rr);\n",
"printf('\n The power radiated = %f kW', w/1000);\n",
"printf('\n The effeciency = %f %%', n*100);"
   ]
   }
,
{
		   "cell_type": "markdown",
		   "metadata": {},
		   "source": [
			"## Example 1.46: Find_the_radiation_resistance_and_efficiency.sce"
		   ]
		  },
  {
"cell_type": "code",
	   "execution_count": null,
	   "metadata": {
	    "collapsed": true
	   },
	   "outputs": [],
"source": [
"//Ex:1.46\n",
"clc;\n",
"clear;\n",
"close;\n",
"Rl=1.5;// loss resistance in ohm\n",
"dl_y=1/15;// the ratio of dl to y(wavelength)\n",
"Rr=80*(%pi^2)*(dl_y)^2;// radiation resistance in ohm\n",
"Rt=Rl+Rr;// total resistance in ohm\n",
"n=Rr/Rt;// effeciency\n",
"printf('The radiation resistance = %f ohm', Rr);\n",
"printf('\n The effeciency = %d %%', n*100);"
   ]
   }
,
{
		   "cell_type": "markdown",
		   "metadata": {},
		   "source": [
			"## Example 1.47: What_is_the_power_radiated.sce"
		   ]
		  },
  {
"cell_type": "code",
	   "execution_count": null,
	   "metadata": {
	    "collapsed": true
	   },
	   "outputs": [],
"source": [
"//Ex:1.47\n",
"clc;\n",
"clear;\n",
"close;\n",
"I=10;// peak current in Amp\n",
"Irms=I/sqrt(2);// rms current in Amp\n",
"A=80*Irms^2;\n",
"printf('The the value of A = %f', A);\n",
"printf('\n power radiated=4000(pi*dl)^2/y^2');\n",
"printf('\n Where, y=wavelength & pi=3.14');"
   ]
   }
,
{
		   "cell_type": "markdown",
		   "metadata": {},
		   "source": [
			"## Example 1.48: What_is_the_strength_of_magnetic_field_H_in_free_space.sce"
		   ]
		  },
  {
"cell_type": "code",
	   "execution_count": null,
	   "metadata": {
	    "collapsed": true
	   },
	   "outputs": [],
"source": [
"//Ex:1.48\n",
"clc;\n",
"clear;\n",
"close;\n",
"E=60;// electric field strength in V/m\n",
"n=120*%pi;// efficiency\n",
"H=E/n;// magnetic field strength in Amp/m\n",
"printf('The magnetic field strength = %f A/m', H);"
   ]
   }
,
{
		   "cell_type": "markdown",
		   "metadata": {},
		   "source": [
			"## Example 1.49: EX1_49.sce"
		   ]
		  },
  {
"cell_type": "code",
	   "execution_count": null,
	   "metadata": {
	    "collapsed": true
	   },
	   "outputs": [],
"source": [
"//Ex:1.49\n",
"clc;\n",
"clear;\n",
"close;\n",
"c=3*10^8;// speed of the light in m/s\n",
"f=10*10^6;// frequency in Hz\n",
"y=c/f;// wavelength in m\n",
"I=1;// current in amp\n",
"l=1;// length in m\n",
"r=500*10^3;// distance in m\n",
"n=120*%pi;\n",
"Ex=(n*I*l*sin(%pi/2))/(2*r*y);// the magnitude of electric field in uV/m\n",
"Hx=(I*l*sin(%pi/2))/(2*r*y);// the magnitude of magnetic field in AT/m\n",
"Pm=(80*%pi^2*I^2*l^2)/(y^2);// the maximum power radiated in watts\n",
"Pav=(1/2)*Pm;// the average power radiated in watts\n",
"Rr=80*%pi^2*(l/y)^2;// the radiation resistance in ohm\n",
"printf('The magnitude of electric field = %f uV/m', Ex*10^6);\n",
"printf('\n The magnitude of magnetic field = %f*10^-8 AT/m', Hx*10^8);\n",
"printf('\n The maximum power radiated = %f watts', Pm);\n",
"printf('\n The average power radiated = %f watts', Pav);\n",
"printf('\n The radiation resistance = %f ohm', Rr);"
   ]
   }
,
{
		   "cell_type": "markdown",
		   "metadata": {},
		   "source": [
			"## Example 1.4: What_is_the_power_radiated_and_also_what_is_the_efficiency_of_the_antenna.sce"
		   ]
		  },
  {
"cell_type": "code",
	   "execution_count": null,
	   "metadata": {
	    "collapsed": true
	   },
	   "outputs": [],
"source": [
"//Ex:1.4\n",
"clc;\n",
"clear;\n",
"close;\n",
"f=40000;// frequency in Hz\n",
"f1=0.040;// frequency in MHz\n",
"le=100;// height of antenna in m\n",
"Irms=450;// current in Amp\n",
"Rt=1.12;// total resistance in ohm\n",
"y=300/f1;// wavelength in m\n",
"Rr=(160*%pi^2*le^2)/y^2;// radiation resistance in ohm\n",
"W=Irms^2*Rr;// power radiated in Watts\n",
"n=Rr/Rt;// efficiency of the antenna\n",
"printf('The power radiated = %f KW', W/1000);\n",
"printf('\n The efficiency of the antenna = %f %%', n*100);"
   ]
   }
,
{
		   "cell_type": "markdown",
		   "metadata": {},
		   "source": [
			"## Example 1.50: EX1_50.sce"
		   ]
		  },
  {
"cell_type": "code",
	   "execution_count": null,
	   "metadata": {
	    "collapsed": true
	   },
	   "outputs": [],
"source": [
"//Ex:1.50\n",
"clc;\n",
"clear;\n",
"close;\n",
"V=5*10^-3;// rms value in volt\n",
"r=3*10^3;// in meter\n",
"Rr=73;// the radiation resistance in ohm\n",
"// The electric field in the far region may be given by\n",
"// Ex=(60.pi.Im.sin(x)/y.r)*e^(-jko.r)*integrate('(cos(koz)*e^(jko.z.cos(x))),'z',-y/4,y/4) \n",
"// Ex=(60.pi.Im.sin(x)/y.r)*e^(-jko.r)*integrate('(2.cos(ko)(cos(ko.z).cos(x)+j.sin(ko.z).cos(x))','z',0,y/4)\n",
"// Ex=(60.pi.Im.sin(x)/y.r)*e^(-jko.r)*integrate('(2.cos(ko.z).cos(ko.z.cos(x)))','z',0,y/4)\n",
"// on integrating, we get,\n",
"// Ex=(60*Im/r)*(cos(pi/2.cos(x))/sin(x))\n",
"Emax=V*sqrt(2);// the peak value of field in V/m\n",
"// on putting x=90 degree in Ex=(60*Im/r)*(cos(pi/2.cos(x))/sin(x)), we get\n",
"// Emax=60*Im/r, then\n",
"Im=Emax*r/60;// max current in amp\n",
"Pav=(Im^2/2)*(Rr);// the average power in watts\n",
"printf('The expression of total electric field amplidude, Ex=(60*Im/r)*(cos(pi/2.cos(x))/sin(x))')\n",
"printf('\n The value of the average power= %f watts', Pav);"
   ]
   }
,
{
		   "cell_type": "markdown",
		   "metadata": {},
		   "source": [
			"## Example 1.51: EX1_51.sce"
		   ]
		  },
  {
"cell_type": "code",
	   "execution_count": null,
	   "metadata": {
	    "collapsed": true
	   },
	   "outputs": [],
"source": [
"//Ex:1.51\n",
"clc;\n",
"clear;\n",
"close;\n",
"I=4;// peak current in Amp\n",
"Irms=I/sqrt(2);// rms current in Amp\n",
"Rr=18;// radiation resistance in ohm\n",
"Pr=Irms^2*Rr;// power radiated in Watts\n",
"Rl=(0.1*Rr)/0.9;// loss resistance in ohm\n",
"Pl=Irms^2*Rl;// ohmic loss in Watt\n",
"printf('The power radiated = %f Watts', Pr);\n",
"printf('\n The loss resistance = %d ohm', Rl);\n",
"printf('\n The ohmic loss = %f watts', Pl);"
   ]
   }
,
{
		   "cell_type": "markdown",
		   "metadata": {},
		   "source": [
			"## Example 1.5: How_much_power_will_an_antenna_having_a_radiation_rasistance_of_fifty_ohms.sce"
		   ]
		  },
  {
"cell_type": "code",
	   "execution_count": null,
	   "metadata": {
	    "collapsed": true
	   },
	   "outputs": [],
"source": [
"//Ex:1.5\n",
"clc;\n",
"clear;\n",
"close;\n",
"I=20;// current in amp\n",
"Rr=50;// radiation resistance in ohm\n",
"Wr=I^2*Rr;// radiated power in W\n",
"printf('The radiated power = %d W', Wr);"
   ]
   }
,
{
		   "cell_type": "markdown",
		   "metadata": {},
		   "source": [
			"## Example 1.6: What_is_the_radiation_resistance_of_an_antenna.sce"
		   ]
		  },
  {
"cell_type": "code",
	   "execution_count": null,
	   "metadata": {
	    "collapsed": true
	   },
	   "outputs": [],
"source": [
"//Ex:1.6\n",
"clc;\n",
"clear;\n",
"close;\n",
"I=15;// current in amp\n",
"W=5000;// radiated power in W\n",
"Rr=W/I^2;// radiation resistance in ohm\n",
"printf('The radiation resistance = %f ohm', Rr);"
   ]
   }
,
{
		   "cell_type": "markdown",
		   "metadata": {},
		   "source": [
			"## Example 1.7: How_much_current_flows_into_the_antenna.sce"
		   ]
		  },
  {
"cell_type": "code",
	   "execution_count": null,
	   "metadata": {
	    "collapsed": true
	   },
	   "outputs": [],
"source": [
"//Ex:1.7\n",
"clc;\n",
"clear;\n",
"close;\n",
"W=10*1000;// radiated power in W\n",
"Rr=75;// radiation resistance in ohm\n",
"I=sqrt(W/Rr);// current in amp\n",
"printf('The current = %f Amp', I);"
   ]
   }
,
{
		   "cell_type": "markdown",
		   "metadata": {},
		   "source": [
			"## Example 1.8: Calculate_the_strength_of_electric_field.sce"
		   ]
		  },
  {
"cell_type": "code",
	   "execution_count": null,
	   "metadata": {
	    "collapsed": true
	   },
	   "outputs": [],
"source": [
"//Ex:1.8\n",
"clc;\n",
"clear;\n",
"close;\n",
"W=100*1000;// radiated power in W\n",
"r=100*1000;// distance in m\n",
"Erms=(sqrt(90*W))/r;// strength of electric field in V/m\n",
"printf('The strength of electric field = %f V/m', Erms);"
   ]
   }
,
{
		   "cell_type": "markdown",
		   "metadata": {},
		   "source": [
			"## Example 1.9: Estimate_the_effective_height_of_the_antenna.sce"
		   ]
		  },
  {
"cell_type": "code",
	   "execution_count": null,
	   "metadata": {
	    "collapsed": true
	   },
	   "outputs": [],
"source": [
"//Ex:1.9\n",
"clc;\n",
"clear;\n",
"close;\n",
"Irms=25;// current in Amp\n",
"f=0.150;// frequency in MHz\n",
"y=2000;\n",
"Erms=1.5*10^-3;// strength of electric field in V/m\n",
"r=25*1000;// distance in m\n",
"le=(Erms*y*r)/(60*%pi*Irms);// effective height of antenna in m\n",
"printf('The effective height of antenna = %f m', le);"
   ]
   }
],
"metadata": {
		  "kernelspec": {
		   "display_name": "Scilab",
		   "language": "scilab",
		   "name": "scilab"
		  },
		  "language_info": {
		   "file_extension": ".sce",
		   "help_links": [
			{
			 "text": "MetaKernel Magics",
			 "url": "https://github.com/calysto/metakernel/blob/master/metakernel/magics/README.md"
			}
		   ],
		   "mimetype": "text/x-octave",
		   "name": "scilab",
		   "version": "0.7.1"
		  }
		 },
		 "nbformat": 4,
		 "nbformat_minor": 0
}
