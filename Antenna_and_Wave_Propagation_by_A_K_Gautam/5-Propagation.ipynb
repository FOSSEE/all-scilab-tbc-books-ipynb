{
"cells": [
 {
		   "cell_type": "markdown",
	   "metadata": {},
	   "source": [
       "# Chapter 5: Propagation"
	   ]
	},
{
		   "cell_type": "markdown",
		   "metadata": {},
		   "source": [
			"## Example 5.10: At_what_frequency_a_wave_must_propagate_for_the_D_region.sce"
		   ]
		  },
  {
"cell_type": "code",
	   "execution_count": null,
	   "metadata": {
	    "collapsed": true
	   },
	   "outputs": [],
"source": [
"//Ex:5.10\n",
"clc;\n",
"clear;\n",
"close;\n",
"u=0.5;// refractive index\n",
"N=400;// electron/cc\n",
"f=sqrt(81*N/(1-u^2));// frequency in KHz\n",
"printf('The frequency = %f KHz', f);"
   ]
   }
,
{
		   "cell_type": "markdown",
		   "metadata": {},
		   "source": [
			"## Example 5.11: What_will_be_the_range_for_which_the_MUF_is_twelve_MHz.sce"
		   ]
		  },
  {
"cell_type": "code",
	   "execution_count": null,
	   "metadata": {
	    "collapsed": true
	   },
	   "outputs": [],
"source": [
"//Ex:5.11\n",
"clc;\n",
"clear;\n",
"close;\n",
"u=0.75;// refractive index\n",
"f=10*10^6;// frequency in Hz\n",
"fmuf=12*10^6;// frequency in Hz\n",
"h=350;// height in km\n",
"Nmax=((1-u^2)*f^2)/81;\n",
"fc=9*sqrt(Nmax);// frequency in Hz\n",
"Ds=(2*h)*(sqrt((fmuf/fc)^2-1));// range in km\n",
"printf('The range = %f km', Ds);\n",
"printf('\n The ans is wronge in the given textbook');"
   ]
   }
,
{
		   "cell_type": "markdown",
		   "metadata": {},
		   "source": [
			"## Example 5.12: What_is_the_max_distance_and_the_radio_horizon_in_this_case.sce"
		   ]
		  },
  {
"cell_type": "code",
	   "execution_count": null,
	   "metadata": {
	    "collapsed": true
	   },
	   "outputs": [],
"source": [
"//Ex:5.12\n",
"clc;\n",
"clear;\n",
"close;\n",
"ht=256;// transmeter height in m\n",
"hr=25;// receiver height in m\n",
"d=4.12*(sqrt(ht)+sqrt(hr));// in km\n",
"Rh=4.12*(sqrt(ht));/// radio horizon in km\n",
"printf('The radio horizon = %f km', Rh);"
   ]
   }
,
{
		   "cell_type": "markdown",
		   "metadata": {},
		   "source": [
			"## Example 5.13: What_is_the_critical_frequency_for_the_reflection_at_vertical_incidence.sce"
		   ]
		  },
  {
"cell_type": "code",
	   "execution_count": null,
	   "metadata": {
	    "collapsed": true
	   },
	   "outputs": [],
"source": [
"//Ex:5.13\n",
"clc;\n",
"clear;\n",
"close;\n",
"Nm=2.58*10^6/10^6;// electron density in m^-3\n",
"fc=9*sqrt(Nm);// critical frequency in MHz\n",
"printf('The critical frequency = %f MHz', fc);"
   ]
   }
,
{
		   "cell_type": "markdown",
		   "metadata": {},
		   "source": [
			"## Example 5.14: Find_the_basic_path_loss.sce"
		   ]
		  },
  {
"cell_type": "code",
	   "execution_count": null,
	   "metadata": {
	    "collapsed": true
	   },
	   "outputs": [],
"source": [
"//Ex:5.14\n",
"clc;\n",
"clear;\n",
"close;\n",
"f=4000;// frequency in MHz\n",
"d=384000;// distance in km\n",
"Lp=32.45+20*log(f)/log(10)+20*log(d)/log(10);// path loss in dB\n",
"printf('The path loss = %f dB', Lp);"
   ]
   }
,
{
		   "cell_type": "markdown",
		   "metadata": {},
		   "source": [
			"## Example 5.15: Find_the_field_strength_at_a_distance_of_twenty_km.sce"
		   ]
		  },
  {
"cell_type": "code",
	   "execution_count": null,
	   "metadata": {
	    "collapsed": true
	   },
	   "outputs": [],
"source": [
"//Ex:5.15\n",
"clc;\n",
"clear;\n",
"close;\n",
"p=150;// power in kW\n",
"d=20;// distance in km\n",
"Eo=(300*sqrt(p))/d;// field strength mV/m\n",
"printf('The field strength = %f mV/m', Eo);"
   ]
   }
,
{
		   "cell_type": "markdown",
		   "metadata": {},
		   "source": [
			"## Example 5.16: Determine_the_ground_range_for_which_this_frequency_is_the_MUF.sce"
		   ]
		  },
  {
"cell_type": "code",
	   "execution_count": null,
	   "metadata": {
	    "collapsed": true
	   },
	   "outputs": [],
"source": [
"//Ex:5.16\n",
"clc;\n",
"clear;\n",
"close;\n",
"u=0.9;// refractive index\n",
"f=10*10^6;// frequency in Hz\n",
"h=400;// height in km\n",
"Nmax=((1-0.81)*f^2)/81;\n",
"fmuf=10*10^6;// in Hz\n",
"fc=9*sqrt(Nmax);// frequency in Hz\n",
"R=6370;// in km\n",
"d=1651.76;\n",
"D=2*(h+(d^2/(8*R)))*(sqrt((fmuf/fc)^2-1));// skip distance in km\n",
"printf('The skip distance = %f km', D);"
   ]
   }
,
{
		   "cell_type": "markdown",
		   "metadata": {},
		   "source": [
			"## Example 5.17: Determine_the_transmitter_power_required.sce"
		   ]
		  },
  {
"cell_type": "code",
	   "execution_count": null,
	   "metadata": {
	    "collapsed": true
	   },
	   "outputs": [],
"source": [
"//Ex:5.17\n",
"clc;\n",
"clear;\n",
"close;\n",
"f=1690*1000;// frequency in Hz\n",
"d=16*1000;// distance in m\n",
"E=15;// dielectric constant\n",
"k=5*10^-5;// conductivity in ohms/cm\n",
"Eg=0.5*10^-3;// V/m\n",
"c=3*10^8;// the speed of ligth in m/s\n",
"y=c/f;// wavelength in m\n",
"// tan(b)=(E+1)/x=(E+1)/(1.8*10^12*k/f=f*(E+1))/(1.8*10^12*k)\n",
"// then b=atan(f*(E+1))/(1.8*10^12*k))\n",
"x=1.8*10^12*k/f;\n",
"b=(atan((f*(E+1))/(k*1.8*10^12)))*(180/3.14);// in degree\n",
"p=((%pi*d)/(x*y))*cos(b*%pi/180);\n",
"p1=5.1;// approx. value of p \n",
"A=(2+0.3*p1)/(2+p1+0.6*p1^2);\n",
"A1=0.15\n",
"ps=(Eg*d)/(300*A1);\n",
"P=ps^2;// transmitter power in KW\n",
"P1=P*1000;// transmitter power in watts\n",
"printf('The transmitter power = %f watts', P1);\n",
"printf('\n since antenna efficiency is 50 percent, the transmitter must deliver 31.6049*2=63.2098 watts to the antenna.');"
   ]
   }
,
{
		   "cell_type": "markdown",
		   "metadata": {},
		   "source": [
			"## Example 5.18: Determine_the_strength_of_its_ground_wave.sce"
		   ]
		  },
  {
"cell_type": "code",
	   "execution_count": null,
	   "metadata": {
	    "collapsed": true
	   },
	   "outputs": [],
"source": [
"//Ex:5.18\n",
"clc;\n",
"clear;\n",
"close;\n",
"f=900*1000;// frequency in Hz\n",
"c=10^-4;// conductivity in mhos/cm\n",
"p=10;// power in kw\n",
"d=100*1000;// distance in m\n",
"d1=100;// distance in km\n",
"Er=20;// relative dielectric constant\n",
"y=3*10^8/f;// wavelength in m\n",
"w=2*%pi*f;\n",
"Eo=(10^-9)/(36*%pi);\n",
"x=c/(w*Eo);\n",
"b=(atan((Er+1)/x))*180/3.14;// in degree\n",
"P=(%pi*d*cos(b*%pi/180))/(x*y);\n",
"A1=(2+0.3*P)/(2+P+0.6*P^2);\n",
"// tower efficiency is 80% so effective power is 10/.80=12.5kW=Pef\n",
"Pef=12.5;// effective power in kW\n",
"Eg=(1.1*300*A1*sqrt(Pef))/d1;// strength of ground wave in mV/meter\n",
"printf('The strength of ground wave= %f mV/meter', Eg);"
   ]
   }
,
{
		   "cell_type": "markdown",
		   "metadata": {},
		   "source": [
			"## Example 5.19: Calculate_the_transmission_path_distance_for_an_ionospheric_transmission.sce"
		   ]
		  },
  {
"cell_type": "code",
	   "execution_count": null,
	   "metadata": {
	    "collapsed": true
	   },
	   "outputs": [],
"source": [
"//Ex:5.19\n",
"clc;\n",
"clear;\n",
"close;\n",
"h=200;// height in km\n",
"B=20;// angle of elevation in degree\n",
"B1=B*3.14/180;// angle of elevation in radians\n",
"R=6370;// radius of earth in km\n",
"D=2*h/tan(B1);// in km\n",
"D1=2*R*((3.14/2)-(B1)-asin((R*cos(B1))/(R+h)));// transmission-path distance in km\n",
"printf('The transmission-path distance= %f km', D1);"
   ]
   }
,
{
		   "cell_type": "markdown",
		   "metadata": {},
		   "source": [
			"## Example 5.1: EX5_1.sce"
		   ]
		  },
  {
"cell_type": "code",
	   "execution_count": null,
	   "metadata": {
	    "collapsed": true
	   },
	   "outputs": [],
"source": [
"//Ex:5.1\n",
"clc;\n",
"clear;\n",
"close;\n",
"ht=100;// transmitter height in m\n",
"hr=9;// receiver height in m\n",
"D=3550*(sqrt(ht)+sqrt(hr));// distance to horizon in m\n",
"f=60;// frequency in MHz\n",
"y=300/f;// wavelength in m\n",
"p=10*1000;// power in watt\n",
"d=10*1000;// distance in m\n",
"h=5;\n",
"Et=(88*sqrt(p)*hr*ht)/(h*d^2);// the field strength in V/m\n",
"et=10^-3;// field strength in V/m\n",
"d2=(88*sqrt(p)*hr*ht)/(h*et);\n",
"d1=sqrt(d2);// distance at which the field strength reuces to 1 mV/meter\n",
"printf('The field strength = %f mV/m', Et*1000);\n",
"printf('\n The distance at which the field strength reuces to 1 mV/meter = %f*10^3 meter', d1/1000);"
   ]
   }
,
{
		   "cell_type": "markdown",
		   "metadata": {},
		   "source": [
			"## Example 5.20: Find_the_effective_area.sce"
		   ]
		  },
  {
"cell_type": "code",
	   "execution_count": null,
	   "metadata": {
	    "collapsed": true
	   },
	   "outputs": [],
"source": [
"//Ex:5.20\n",
"clc;\n",
"clear;\n",
"close;\n",
"d=10*1000;// distance in m\n",
"wt=500;// transmeter power in Watt\n",
"wr=2*10^-6;// receiver power in Watt\n",
"Gt=10;// antenna gain\n",
"Ae=(wr*4*%pi*d^2)/(wt*Gt);// effective area in m^2\n",
"printf('The effective area = %f m^2', Ae);"
   ]
   }
,
{
		   "cell_type": "markdown",
		   "metadata": {},
		   "source": [
			"## Example 5.21: Calculate_the_open_circuit_voltage.sce"
		   ]
		  },
  {
"cell_type": "code",
	   "execution_count": null,
	   "metadata": {
	    "collapsed": true
	   },
	   "outputs": [],
"source": [
"//Ex:5.21\n",
"clc;\n",
"clear;\n",
"close;\n",
"f=150;// frequency in MHz\n",
"y=300/f;// in m\n",
"wt=10;// transmeter power in Watt\n",
"Gt=1.641;// antenna gain\n",
"d=50*10^3;// in m\n",
"E=sqrt(30*wt*Gt)/d;// electric field strength in V/m\n",
"Voc=E*y/%pi;// open circuit voltage in mV\n",
"printf('The open circuit voltage = %f mV', Voc*1000);"
   ]
   }
,
{
		   "cell_type": "markdown",
		   "metadata": {},
		   "source": [
			"## Example 5.22: Calculate_the_field_strength_at_a_receiving_antenna.sce"
		   ]
		  },
  {
"cell_type": "code",
	   "execution_count": null,
	   "metadata": {
	    "collapsed": true
	   },
	   "outputs": [],
"source": [
"//Ex:5.22\n",
"clc;\n",
"clear;\n",
"close;\n",
"f=150;// frequency in MHz\n",
"y=300/f;// wavelength in m\n",
"ht=20;// transmeter height in km\n",
"hr=2;// receiver height in km\n",
"d=40*10^3;// distance in m\n",
"p=100;// power in watt\n",
"Er=(88*sqrt(p)*ht*hr)/(y*d^2);// field strength in uV/m\n",
"printf('The field strength = %d uV/m', Er*10^6);"
   ]
   }
,
{
		   "cell_type": "markdown",
		   "metadata": {},
		   "source": [
			"## Example 5.23: Calculate_the_the_attenuation.sce"
		   ]
		  },
  {
"cell_type": "code",
	   "execution_count": null,
	   "metadata": {
	    "collapsed": true
	   },
	   "outputs": [],
"source": [
"//Ex:5.23\n",
"clc;\n",
"clear;\n",
"close;\n",
"Gt=20;// transmeter gain in dB\n",
"Gr=20;// receiver gain in dB\n",
"d=40;// distance in km\n",
"f=600;// frequency in MHz\n",
"Ls=32.45+20*log(f)/log(10)+20*log(d)/log(10);// loss in dB\n",
"at=Gt+Gr-Ls;// attenuation in dB\n",
"printf('The attenuation = %f dB', at);\n",
"printf('\n Negative sign shown attenuation');"
   ]
   }
,
{
		   "cell_type": "markdown",
		   "metadata": {},
		   "source": [
			"## Example 5.24: EX5_24.sce"
		   ]
		  },
  {
"cell_type": "code",
	   "execution_count": null,
	   "metadata": {
	    "collapsed": true
	   },
	   "outputs": [],
"source": [
"//Ex:5.24\n",
"clc;\n",
"clear;\n",
"close;\n",
"R=6370;// radius of earth in km\n",
"hm=400;// height of the ionospheric layer in km\n",
"d=2*R*(acos(R/(R+hm)));// max range in a single hop transmission in km\n",
"printf('The max range in a single hop transmission = %f km', d);"
   ]
   }
,
{
		   "cell_type": "markdown",
		   "metadata": {},
		   "source": [
			"## Example 5.25: Calculate_the_max_range_obtainable_in_single_hop_transmission_utilizing_E_layer.sce"
		   ]
		  },
  {
"cell_type": "code",
	   "execution_count": null,
	   "metadata": {
	    "collapsed": true
	   },
	   "outputs": [],
"source": [
"//Ex:5.25\n",
"clc;\n",
"clear;\n",
"close;\n",
"R=6370;// radius of earth in km\n",
"hm=140;// height of the ionospheric layer in km\n",
"d=2*R*(acos(R/(R+hm)));// max range in a single hop transmission in km\n",
"printf('The max range in a single hop transmission = %f km', d);"
   ]
   }
,
{
		   "cell_type": "markdown",
		   "metadata": {},
		   "source": [
			"## Example 5.26: Calculate_the_max_range_obtainable_in_single_hop_transmission_utilizing_D_layer.sce"
		   ]
		  },
  {
"cell_type": "code",
	   "execution_count": null,
	   "metadata": {
	    "collapsed": true
	   },
	   "outputs": [],
"source": [
"//Ex:5.26\n",
"clc;\n",
"clear;\n",
"close;\n",
"R=6370;// radius of earth in km\n",
"hm=90;// height of the ionospheric layer in km\n",
"d=2*R*(acos(R/(R+hm)));// max range in a single hop transmission in km\n",
"printf('The max range in a single hop transmission = %f km', d);"
   ]
   }
,
{
		   "cell_type": "markdown",
		   "metadata": {},
		   "source": [
			"## Example 5.27: Find_the_virtual_heightof_the_reflected_layer.sce"
		   ]
		  },
  {
"cell_type": "code",
	   "execution_count": null,
	   "metadata": {
	    "collapsed": true
	   },
	   "outputs": [],
"source": [
"//Ex:5.27\n",
"clc;\n",
"clear;\n",
"close;\n",
"T=5/1000;// period in sec\n",
"c=3*10^8;// the speed of the light in m/s\n",
"h=c*T/2;// virtual height in m\n",
"printf('The virtual height = %f km', h/1000);"
   ]
   }
,
{
		   "cell_type": "markdown",
		   "metadata": {},
		   "source": [
			"## Example 5.28: Calculate_the_max_line_of_sight_range_and_the_field_strength_and_also_distance.sce"
		   ]
		  },
  {
"cell_type": "code",
	   "execution_count": null,
	   "metadata": {
	    "collapsed": true
	   },
	   "outputs": [],
"source": [
"//Ex:5.28\n",
"clc;\n",
"clear;\n",
"close;\n",
"ht=120;// transmeter height in m\n",
"hr=16;// receiver height in m\n",
"Los=4.12*(sqrt(ht)+sqrt(hr));// line of sight range in km\n",
"f=50;// frequency in MHz\n",
"y=300/f;// wavelength in m\n",
"d=12*10^3;// distance in m\n",
"p=15000;// power in watt\n",
"Er=(88*sqrt(p)*ht*hr)/(y*d^2);// field strength in v/m\n",
"Er1=1/1000;// field strength in V/m\n",
"d1=sqrt((88*sqrt(p)*ht*hr)/(y*Er1));// distance in km\n",
"printf('The line of sight range = %f km', Los);\n",
"printf('\n The field strength = %f mV/m', Er*1000);\n",
"printf('\n The distance = %d km', d1);"
   ]
   }
,
{
		   "cell_type": "markdown",
		   "metadata": {},
		   "source": [
			"## Example 5.29: Calculate_the_power_density_reating_the_moon_surface.sce"
		   ]
		  },
  {
"cell_type": "code",
	   "execution_count": null,
	   "metadata": {
	    "collapsed": true
	   },
	   "outputs": [],
"source": [
"//Ex:5.29\n",
"clc;\n",
"clear;\n",
"close;\n",
"wt=10*10^6;// power in Watt\n",
"Gt=65;// antenna gain in dB\n",
"Gt1=10^(Gt/10);// antenna gain\n",
"d=4000000*100;// distance in m\n",
"Pd=(wt*Gt1)/(4*%pi*d^2);// power density in uW\n",
"printf('The power density = %f uW', Pd*10^6);"
   ]
   }
,
{
		   "cell_type": "markdown",
		   "metadata": {},
		   "source": [
			"## Example 5.2: Calculate_the_field_strength.sce"
		   ]
		  },
  {
"cell_type": "code",
	   "execution_count": null,
	   "metadata": {
	    "collapsed": true
	   },
	   "outputs": [],
"source": [
"//Ex:5.2\n",
"clc;\n",
"clear;\n",
"close;\n",
"p=100;// power in kW\n",
"d=10;// distance in km\n",
"Eo=(300*sqrt(p))/d;/// the field strength in mV/m\n",
"printf('The field strength = %d mV/m', Eo);"
   ]
   }
,
{
		   "cell_type": "markdown",
		   "metadata": {},
		   "source": [
			"## Example 5.30: What_is_the_max_disance_along_the_surface_of_the_earth.sce"
		   ]
		  },
  {
"cell_type": "code",
	   "execution_count": null,
	   "metadata": {
	    "collapsed": true
	   },
	   "outputs": [],
"source": [
"//Ex:5.30\n",
"clc;\n",
"clear;\n",
"close;\n",
"ht=4000;// transmeter height in m\n",
"hr=7000;// receiver height in m\n",
"Los=4.12*(sqrt(ht)+sqrt(hr));// line of sight range in km\n",
"printf('The line of sight range = %f km', Los);"
   ]
   }
,
{
		   "cell_type": "markdown",
		   "metadata": {},
		   "source": [
			"## Example 5.31: What_will_be_the_range_for_which_the_MUF_is_twenty_MHz.sce"
		   ]
		  },
  {
"cell_type": "code",
	   "execution_count": null,
	   "metadata": {
	    "collapsed": true
	   },
	   "outputs": [],
"source": [
"//Ex:5.31\n",
"clc;\n",
"clear;\n",
"close;\n",
"u=0.8;// refractive index\n",
"f=15*10^6;// frequency in Hz\n",
"fmuf=20*10^6;// MUF in Hz\n",
"h=350;// height in km\n",
"Nmax=((1-u^2)*f^2)/81;\n",
"fc=9*sqrt(Nmax);// frequency in Hz\n",
"Ds=(2*h)*(sqrt((fmuf/fc)^2-1));// range in km\n",
"printf('The range = %f km', Ds);"
   ]
   }
,
{
		   "cell_type": "markdown",
		   "metadata": {},
		   "source": [
			"## Example 5.32: Calculate_the_power_received_by_an_antenna.sce"
		   ]
		  },
  {
"cell_type": "code",
	   "execution_count": null,
	   "metadata": {
	    "collapsed": true
	   },
	   "outputs": [],
"source": [
"//Ex:5.32\n",
"clc;\n",
"clear;\n",
"close;\n",
"wt=35;// transmeter power in Watt\n",
"wt1=10*log(wt)/log(10);// transmeter power in dB\n",
"Gt=40;// transmeter gain in dB\n",
"Gr=40;// receiver gain in dB\n",
"d=150;// distance in km\n",
"y=6/100;// wavelength in m\n",
"f=300/y;// frequency in MHz\n",
"Ls=32.45+20*log(f)/log(10)+20*log(d)/log(10);// loss in dB\n",
"wr=wt1+Gt+Gr-Ls;// receive power in dB\n",
"WR=10^(wr/10);// receive power in watt\n",
"printf('The receive power = %f dB', wr);\n",
"printf('\n The receive power = %f uW', WR*10^6);"
   ]
   }
,
{
		   "cell_type": "markdown",
		   "metadata": {},
		   "source": [
			"## Example 5.33: What_is_the_max_power_received_by_the_receiver.sce"
		   ]
		  },
  {
"cell_type": "code",
	   "execution_count": null,
	   "metadata": {
	    "collapsed": true
	   },
	   "outputs": [],
"source": [
"//Ex:5.33\n",
"clc;\n",
"clear;\n",
"close;\n",
"wt=2*10^3;// transmeter power in Watt\n",
"Gt=1.64;// directivity of transmeter\n",
"Gr=1.64;// directivity of receiver\n",
"d=200*10^3;// distance in m\n",
"f=150;// frequency in MHz\n",
"y=300/f;// wavelength in m\n",
"wr=(wt*Gt*Gr)*(y/(4*%pi*d))^2;// max received power in Watt\n",
"printf('The max received power = %f*10^-9 Watts', wr*10^9);"
   ]
   }
,
{
		   "cell_type": "markdown",
		   "metadata": {},
		   "source": [
			"## Example 5.34: Calculate_the_MUF_for_the_given_path.sce"
		   ]
		  },
  {
"cell_type": "code",
	   "execution_count": null,
	   "metadata": {
	    "collapsed": true
	   },
	   "outputs": [],
"source": [
"//Ex:5.34\n",
"clc;\n",
"clear;\n",
"close;\n",
"D=400;// depth in km\n",
"h=300;// height in km \n",
"f=5;// critical frequency in MHz\n",
"fmuf=f*sqrt(1+(D/(2*h))^2);// MUF in MHz\n",
"printf('The MUF in MHz = %d MHz', fmuf);"
   ]
   }
,
{
		   "cell_type": "markdown",
		   "metadata": {},
		   "source": [
			"## Example 5.35: EX5_35.sce"
		   ]
		  },
  {
"cell_type": "code",
	   "execution_count": null,
	   "metadata": {
	    "collapsed": true
	   },
	   "outputs": [],
"source": [
"//Ex:5.35\n",
"clc;\n",
"clear;\n",
"close;\n",
"u=0.6;// refractive index\n",
"N=4.23*10^4;// electron/m^3\n",
"f=sqrt(81*N/(1-u^2));// frequency in Hz\n",
"printf('The frequency = %f Hz', f);"
   ]
   }
,
{
		   "cell_type": "markdown",
		   "metadata": {},
		   "source": [
			"## Example 5.36: Determine_the_ground_range_for_which_this_frequency_is_MUF.sce"
		   ]
		  },
  {
"cell_type": "code",
	   "execution_count": null,
	   "metadata": {
	    "collapsed": true
	   },
	   "outputs": [],
"source": [
"//Ex:5.36\n",
"clc;\n",
"clear;\n",
"close;\n",
"h=300;// height in km\n",
"fmuh=15*10^6;// in Hz\n",
"// we know that u=sqrt(1-81N/f^2)\n",
"u=0.8;// refractive index\n",
"//then 0.8^2=1-81N/f^2');\n",
"// fc=9*sqrt(Nmax)\n",
"// 0.36=fc^2/fmuh^2\n",
"fc=sqrt(0.36*fmuh^2);// in Hz\n",
"fc1=fc/10^6;// cut off frequancy in MHz\n",
"printf('The cut off frequancy, fc= %d MHz', fc1);\n",
"// skip distance D=2*(h+D^2/8R^2)*sqrt((fmuh/fc)^2-1)\n",
"// D=2*(300+D^2/8*6370)*sqrt((15/9)^2-1)\n",
"// D^2-19.11*10^3D+15.29*10^16=0\n",
"// after solve this equation, we get D=18.27*10^6 meter\n",
"D=18.27*10^3;// skip distance in meter\n",
"printf('\n The skip distance = %f*10^3 meter', D/10^3);"
   ]
   }
,
{
		   "cell_type": "markdown",
		   "metadata": {},
		   "source": [
			"## Example 5.37: At_what_frequency_a_wave_must_propogate_for_the_D_regions.sce"
		   ]
		  },
  {
"cell_type": "code",
	   "execution_count": null,
	   "metadata": {
	    "collapsed": true
	   },
	   "outputs": [],
"source": [
"//Ex:5.37\n",
"clc;\n",
"clear;\n",
"close;\n",
"u=0.6;// refractive index\n",
"N=500;// electron/cc\n",
"f=sqrt(81*N/(1-u^2));// frequency in KHz\n",
"printf('The frequency = %f KHz', f);"
   ]
   }
,
{
		   "cell_type": "markdown",
		   "metadata": {},
		   "source": [
			"## Example 5.38: Find_the_received_power.sce"
		   ]
		  },
  {
"cell_type": "code",
	   "execution_count": null,
	   "metadata": {
	    "collapsed": true
	   },
	   "outputs": [],
"source": [
"//Ex:5.38\n",
"clc;\n",
"clear;\n",
"close;\n",
"u=0.5;// refractive index\n",
"N=500;// electron/cc\n",
"f=sqrt(81*N/(1-u^2));// frequency in KHz\n",
"printf('The frequency = %f Hz', f);"
   ]
   }
,
{
		   "cell_type": "markdown",
		   "metadata": {},
		   "source": [
			"## Example 5.39: Explain_the_Directivity_polarization_and_virtual_height.sce"
		   ]
		  },
  {
"cell_type": "code",
	   "execution_count": null,
	   "metadata": {
	    "collapsed": true
	   },
	   "outputs": [],
"source": [
"//Ex:5.39\n",
"clc;\n",
"clear;\n",
"close;\n",
"printf('Directivity: The max directive gain is called directivity of an antenna.');\n",
"printf('\n Directivity= max radiation intensity of test antenna/average radiation intensity of test antenna ');\n",
"printf('\n Polarization: Polarization of an antenna means the direction of electric field of the electromagnetic wave being radiated by the transmitting syatem.');\n",
"printf('\n Virtual Height: Virtual height of an ionospheric layer may be defined as the height to which short pulse of energy sent vertically upward and travelling with speed of light would reach taking the same ways travel time as does the actual pulse reflected from the layer.');\n",
"printf('\n Practically the virtual height is alway greater than actual height');"
   ]
   }
,
{
		   "cell_type": "markdown",
		   "metadata": {},
		   "source": [
			"## Example 5.3: What_will_be_the_range_for_which_the_MUF_is_ten_MHz.sce"
		   ]
		  },
  {
"cell_type": "code",
	   "execution_count": null,
	   "metadata": {
	    "collapsed": true
	   },
	   "outputs": [],
"source": [
"//Ex:5.3\n",
"clc;\n",
"clear;\n",
"close;\n",
"u=0.9;// refractive index\n",
"f=10*10^6;// frequency in Hz\n",
"h=400;// height in km\n",
"Nmax=((1-0.81)*f^2)/81;\n",
"fc=9*sqrt(Nmax);// frequency in Hz\n",
"Ds=(2*h)*(sqrt((f/fc)^2-1));// range in km\n",
"printf('The range = %f km', Ds);"
   ]
   }
,
{
		   "cell_type": "markdown",
		   "metadata": {},
		   "source": [
			"## Example 5.40: Calculate_the_LOS_range_and_field_strength.sce"
		   ]
		  },
  {
"cell_type": "code",
	   "execution_count": null,
	   "metadata": {
	    "collapsed": true
	   },
	   "outputs": [],
"source": [
"//Ex:5.40\n",
"clc;\n",
"clear;\n",
"close;\n",
"ht=120;// height of transmitting antenna in m\n",
"hr=16;// height of receiving antenna in m\n",
"d=4.12*(sqrt(ht)+sqrt(hr));// line of sight range in km\n",
"p=15*1000;// power in watts\n",
"f=50;// frequency in MHz\n",
"y=300/f;// wavelenght in m\n",
"r=12*1000;// distance in m\n",
"E=(88*sqrt(p)*ht*hr)/(y*r^2);// field strength at a receiving antenna\n",
"printf('The line of sight range = %f km', d);\n",
"printf('\n The field strength at a receiving antenna = %f mV', E*1000);"
   ]
   }
,
{
		   "cell_type": "markdown",
		   "metadata": {},
		   "source": [
			"## Example 5.41: Find_the_field_strenght.sce"
		   ]
		  },
  {
"cell_type": "code",
	   "execution_count": null,
	   "metadata": {
	    "collapsed": true
	   },
	   "outputs": [],
"source": [
"//Ex:5.41\n",
"clc;\n",
"clear;\n",
"close;\n",
"f=500/1000;// frequency in MHz\n",
"A=1;// area in m^2\n",
"y=300/f;// wavelength in m\n",
"Vrms=2/1000;// potential difference in Volt\n",
"N=10;// no. of turns\n",
"Erms=(Vrms*y)/(2*%pi*A*N);// field strength in v/m\n",
"printf('The field strength = %f mV/m', Erms*1000);"
   ]
   }
,
{
		   "cell_type": "markdown",
		   "metadata": {},
		   "source": [
			"## Example 5.42: What_is_standing_wave_ratio_and_explain_how_it_is_measured_experimentally.sce"
		   ]
		  },
  {
"cell_type": "code",
	   "execution_count": null,
	   "metadata": {
	    "collapsed": true
	   },
	   "outputs": [],
"source": [
"//Ex:5.42\n",
"clc;\n",
"clear;\n",
"close;\n",
"printf('SWR may be defined as ratio of max to min current on voltage on a line having standing waves. ');\n",
"printf('\n VSWR=Vmax/Vmin');\n",
"printf('\n S=Vmax/Vmin=Imax/Imin');\n",
"printf('\n The SWR is a measure of mismatch between load of transmission line and is first and foremost quantity calculated for a particular load. Its value is always greater than unity when termination is not correct. But when termination is correct, its value is equal to unity, if termination is perfectly matched.');"
   ]
   }
,
{
		   "cell_type": "markdown",
		   "metadata": {},
		   "source": [
			"## Example 5.43: Calculate_the_value_of_the_frequency.sce"
		   ]
		  },
  {
"cell_type": "code",
	   "execution_count": null,
	   "metadata": {
	    "collapsed": true
	   },
	   "outputs": [],
"source": [
"//Ex:5.43\n",
"clc;\n",
"clear;\n",
"close;\n",
"u=0.5;// refractive index\n",
"N=3.25*10^4;// electron/m^3\n",
"f=sqrt(81*N/(1-u^2));// frequency in Hz\n",
"printf('The frequency = %f KHz', f/1000);"
   ]
   }
,
{
		   "cell_type": "markdown",
		   "metadata": {},
		   "source": [
			"## Example 5.44: EX5_44.sce"
		   ]
		  },
  {
"cell_type": "code",
	   "execution_count": null,
	   "metadata": {
	    "collapsed": true
	   },
	   "outputs": [],
"source": [
"//Ex:5.44\n",
"clc;\n",
"clear;\n",
"close;\n",
"printf('Effect of Earth Magnetic Field on Refractive Index of the Ionosphere: The theory which deals with the propagation of Radio wave through Ionosphere in presence of earth magnetic field is known as Magneto-Ionic-theory. ');\n",
"printf('\n The phenomenon of propagation of radio waves through Ionosphere in the presence of earth magnetic field is changed.');\n",
"printf('\n because is the presence of earth magnetic field, the formula of refractive Index u is changed,');\n",
"printf('\n u=sqrt(1-81N/f^2)');\n",
"printf('\n i.e.,');\n",
"printf('\n u^2=sqrt(1-(2/(2a-(yt^2/a-1)+sqrt(yt^2/(a-1)^2+4yL^2))))');\n",
"printf('\n where');\n",
"printf('\n   a=(EoMw^2)/(Ne^2)=d^2/dc^2');\n",
"printf('\n   yt=aBt.e/wm');\n",
"printf('\n   yL=aBL.e/wm and y=sqrt(yt^2+yL^2)');\n",
"printf('\n   BL=component of earth magnetic field intensity B along the direction of propagation.');\n",
"printf('\n   Bt=component of earth magnetic field intensity traverse to the direction of propagation.');\n",
"printf('\n   B=uo.H');\n",
"printf('\n   M=mass of electron=9.1*10^-31 kg');\n",
"printf('\n   e=charge of electron=1.6*10^-19c');\n",
"printf('\n   w=2*3.14*d=angular frequency');\n",
"printf('\n   N=electron density');\n",
"printf('\n   Eo=dielectric constant=8.854*10^-12 F/M');\n",
"printf('\n   u=refractive index of Ionosphere.');"
   ]
   }
,
{
		   "cell_type": "markdown",
		   "metadata": {},
		   "source": [
			"## Example 5.45: EX5_45.sce"
		   ]
		  },
  {
"cell_type": "code",
	   "execution_count": null,
	   "metadata": {
	    "collapsed": true
	   },
	   "outputs": [],
"source": [
"//Ex:5.45\n",
"clc;\n",
"clear;\n",
"close;\n",
"u=0.5;// refractive index\n",
"N=400;// electron/cc\n",
"f=sqrt(81*N/(1-u^2));// frequency in Hz\n",
"N1=1.24*10^6;// in per cm^3\n",
"fc=9*sqrt(N1);// critical frequency in Hz\n",
"printf('The frequency = %f KHz', f/1000);\n",
"printf('\n The critical frequency = %d KHz', fc/1000);"
   ]
   }
,
{
		   "cell_type": "markdown",
		   "metadata": {},
		   "source": [
			"## Example 5.46: Find_the_skip_distance.sce"
		   ]
		  },
  {
"cell_type": "code",
	   "execution_count": null,
	   "metadata": {
	    "collapsed": true
	   },
	   "outputs": [],
"source": [
"//Ex:5.46\n",
"clc;\n",
"clear;\n",
"close;\n",
"h=300;// height in km\n",
"fmuh=15*10^6;// in Hz\n",
"// we know that u=sqrt(1-81N/f^2)\n",
"u=0.8;// refractive index\n",
"//then 0.8^2=1-81N/f^2');\n",
"// fc=9*sqrt(Nmax)\n",
"// 0.36=fc^2/fmuh^2\n",
"fc=sqrt(0.36*fmuh^2);// in Hz\n",
"fc1=fc/10^6;// cut off frequancy in MHz\n",
"printf('The cut off frequancy, fc= %d MHz', fc1);\n",
"// skip distance D=2*(h+D^2/8R^2)*sqrt((fmuh/fc)^2-1)\n",
"// D=2*(300+D^2/8*6370)*sqrt((15/9)^2-1)\n",
"// D^2-19.11*10^3D+15.29*10^16=0\n",
"// after solve this equation, we get D=18.27*10^6 meter\n",
"D=18.27*10^6;// skip distance in meter\n",
"printf('\n The skip distance = %f*10^6 meter', D/10^6);"
   ]
   }
,
{
		   "cell_type": "markdown",
		   "metadata": {},
		   "source": [
			"## Example 5.47: What_is_the_max_power_thet_can_be_received.sce"
		   ]
		  },
  {
"cell_type": "code",
	   "execution_count": null,
	   "metadata": {
	    "collapsed": true
	   },
	   "outputs": [],
"source": [
"//Ex:5.47\n",
"clc;\n",
"clear;\n",
"close;\n",
"Gt=25;// transmitter gain in dB\n",
"gt=10^(Gt/10);// transmitter gain\n",
"Gr=30;// receiver gain in dB\n",
"gr=10^(Gr/10);// receiver gain\n",
"f=1.5*1000;// frequency in MHz\n",
"R=1.5*1000;// distance in m\n",
"y=300/f;// wavelength in m\n",
"pt=200;// transmitted power in watt\n",
"pr=(pt*gt*gr)*(y/(4*%pi*R))^2;// received power in watt\n",
"printf('The received power = %f mW', pr*1000);"
   ]
   }
,
{
		   "cell_type": "markdown",
		   "metadata": {},
		   "source": [
			"## Example 5.48: Find_the_max_range_of_the_radar_and_also_the_max_range_when_frequency_is_doubled.sce"
		   ]
		  },
  {
"cell_type": "code",
	   "execution_count": null,
	   "metadata": {
	    "collapsed": true
	   },
	   "outputs": [],
"source": [
"//Ex:5.48\n",
"clc;\n",
"clear;\n",
"close;\n",
"A=12.5;// cross section area of the target in m^2\n",
"pr=10^-13;// max received power in Watt\n",
"Gr=2000;// receiver gain\n",
"Gt=2000;// transmitter gain\n",
"y=16/100;// wavelength in m\n",
"pt=250*10^3;// transmitted power in Watts\n",
"Rmax=((pt*Gt^2*y^2*A)/((4*%pi)^3*pr))^(1/4);// max range in m\n",
"Rmax2=sqrt(2)*Rmax;// max range in m\n",
"printf('The max range Rmax1 = %f km', Rmax/1000);\n",
"printf('\n The max range Rmax2 = %f km', Rmax2/1000);"
   ]
   }
,
{
		   "cell_type": "markdown",
		   "metadata": {},
		   "source": [
			"## Example 5.49: Find_the_max_allowable_distance_between_the_two_antennas.sce"
		   ]
		  },
  {
"cell_type": "code",
	   "execution_count": null,
	   "metadata": {
	    "collapsed": true
	   },
	   "outputs": [],
"source": [
"//Ex:5.49\n",
"clc;\n",
"clear;\n",
"close;\n",
"f=30;// frequency in MHz\n",
"y=300/f;// wavelength in m\n",
"l=y/2;// in m\n",
"I=10;// current in amp\n",
"Gt=1.5;// gain\n",
"Gr=1.5;// gain\n",
"Pr=10^-3;// receiver power in Watts\n",
"Ptmax=(80*%pi^2*I^2*l^2)/y^2;// max transmitter power in watts\n",
"Ptav=Ptmax/2;// average power in Watts\n",
"d=(Ptav*Gt*Gr*y^2)/(16*%pi*%pi*Pr);// max allowable distance in m\n",
"printf('The max allowable distance = %f km', d/1000);\n",
"printf('\n The answer is wronge in the textbook');"
   ]
   }
,
{
		   "cell_type": "markdown",
		   "metadata": {},
		   "source": [
			"## Example 5.4: Calculate_the_max_electron_concentrations_of_the_layers.sce"
		   ]
		  },
  {
"cell_type": "code",
	   "execution_count": null,
	   "metadata": {
	    "collapsed": true
	   },
	   "outputs": [],
"source": [
"//Ex:5.4\n",
"clc;\n",
"clear;\n",
"close;\n",
"fc1=2.5*10^6;// critical frequency in Hz of E layer\n",
"fc2=8.4*10^6;// critical frequency in Hz of F layer\n",
"Nmax1=fc1^2/81;// maximum electron concentration of E layer \n",
"Nmax2=fc2^2/81;// maximum electron concentration of F layer \n",
"printf('The maximum electron concentration of E layer = %f*10^11 per cubic meter', Nmax1/10^11);\n",
"printf('\n The maximum electron concentration of F layer = %f*10^11 per cubic meter', Nmax2/10^11);"
   ]
   }
,
{
		   "cell_type": "markdown",
		   "metadata": {},
		   "source": [
			"## Example 5.50: What_is_the_voltage_available_at_the_terminals.sce"
		   ]
		  },
  {
"cell_type": "code",
	   "execution_count": null,
	   "metadata": {
	    "collapsed": true
	   },
	   "outputs": [],
"source": [
"//Ex:5.50\n",
"clc;\n",
"clear;\n",
"close;\n",
"f=2*10^9;// frequency in Hz\n",
"c=3*10^8;// speed of light in m/s\n",
"R1=50;// lengt in km\n",
"R=50*1000;// lengt in meter\n",
"y=c/f;// wavelength in m\n",
"GT=20;// gain in db\n",
"GR=20;// gain in db\n",
"Gt=10^(GT/10);// gain\n",
"Gr=10^(GR/10);// gain\n",
"pt=1;// power in watt\n",
"pr=(pt*Gt*Gr)*(y/(4*%pi*R))^2;// the received power in watt\n",
"V=sqrt(pr*R1);// voltage available at the terminals in micro volt\n",
"printf('voltage available at the terminals in micro volt = %f uV', V*10^6);"
   ]
   }
,
{
		   "cell_type": "markdown",
		   "metadata": {},
		   "source": [
			"## Example 5.51: What_transmitter_power_is_required_for_a_received_signal.sce"
		   ]
		  },
  {
"cell_type": "code",
	   "execution_count": null,
	   "metadata": {
	    "collapsed": true
	   },
	   "outputs": [],
"source": [
"//Ex:5.51\n",
"clc;\n",
"clear;\n",
"close;\n",
"f=4*10^9;// frequency in Hz\n",
"c=3*10^8;// speed of light in m/s\n",
"y=c/f;// wavelength in m\n",
"D=1.22;// in meter\n",
"A=(%pi*D*D)/4;// area in m^2\n",
"d=96*1000;// in m\n",
"Pr=(10^-3)*(10^(-90/10));// received power in watt\n",
"//the received power is given by\n",
"//Pr=Pt*Gt*Gr*(y/4*%pi*d)\n",
"//antennas are symmetrical, Gt=Gr=G\n",
"//Pr/Pt=G^2*(y/4*%pi*d)^2\n",
"// =A^2/(y*d)^2\n",
"// then\n",
"//Pt=Pr*(y*d/A)^2\n",
"Pt=Pr*(y*d/A)^2;// the transmitted power in watts\n",
"printf('the transmitted power = %f micro watt', Pt*10^6);"
   ]
   }
,
{
		   "cell_type": "markdown",
		   "metadata": {},
		   "source": [
			"## Example 5.5: What_is_the_critical_frequency_for_the_reflection_at_vertical_incidence.sce"
		   ]
		  },
  {
"cell_type": "code",
	   "execution_count": null,
	   "metadata": {
	    "collapsed": true
	   },
	   "outputs": [],
"source": [
"//Ex:5.5\n",
"clc;\n",
"clear;\n",
"close;\n",
"Nm=1.24*10^6/10^6;// electron density in per m^3\n",
"fc=9*sqrt(Nm);// critical frequency in MHz\n",
"printf('The critical frequency = %f MHz', fc);"
   ]
   }
,
{
		   "cell_type": "markdown",
		   "metadata": {},
		   "source": [
			"## Example 5.6: What_is_the_max_distance_and_what_is_the_radio_horizon_in_this_case.sce"
		   ]
		  },
  {
"cell_type": "code",
	   "execution_count": null,
	   "metadata": {
	    "collapsed": true
	   },
	   "outputs": [],
"source": [
"//Ex:5.6\n",
"clc;\n",
"clear;\n",
"close;\n",
"ht=169;// transmeter height in m\n",
"hr=16;// receiver height in m\n",
"d=4.12*(sqrt(ht)+sqrt(hr));// in km\n",
"Rh=4.12*(sqrt(ht));/// radio horizon in km\n",
"printf('The radio horizon = %f km', Rh);"
   ]
   }
,
{
		   "cell_type": "markdown",
		   "metadata": {},
		   "source": [
			"## Example 5.7: Find_the_basic_path_loss.sce"
		   ]
		  },
  {
"cell_type": "code",
	   "execution_count": null,
	   "metadata": {
	    "collapsed": true
	   },
	   "outputs": [],
"source": [
"//Ex:5.7\n",
"clc;\n",
"clear;\n",
"close;\n",
"f=3000;// frequency in MHz\n",
"d=384000;// distance in km\n",
"Lp=32.45+20*log(f)/log(10)+20*log(d)/log(10);// path loss in dB\n",
"printf('The path loss = %f dB', Lp);"
   ]
   }
,
{
		   "cell_type": "markdown",
		   "metadata": {},
		   "source": [
			"## Example 5.8: Find_the_max_range_of_a_tropospheric_transmission.sce"
		   ]
		  },
  {
"cell_type": "code",
	   "execution_count": null,
	   "metadata": {
	    "collapsed": true
	   },
	   "outputs": [],
"source": [
"//Ex:5.8\n",
"clc;\n",
"clear;\n",
"close;\n",
"ht=100;// transmeter height in m\n",
"hr=50;// receiver height in m\n",
"d=1.4142*(sqrt(ht)+sqrt(hr));// max range in miles\n",
"printf('The max range = %f miles', d);"
   ]
   }
,
{
		   "cell_type": "markdown",
		   "metadata": {},
		   "source": [
			"## Example 5.9: Find_the_range_of_LOS_system.sce"
		   ]
		  },
  {
"cell_type": "code",
	   "execution_count": null,
	   "metadata": {
	    "collapsed": true
	   },
	   "outputs": [],
"source": [
"//Ex:5.9\n",
"clc;\n",
"clear;\n",
"close;\n",
"ht=100;// transmeter height in m\n",
"hr=10;// receiver height in m\n",
"d=4.12*(sqrt(ht)+sqrt(hr));// line of sight range in km\n",
"printf('The line of sight range = %f km', d);"
   ]
   }
],
"metadata": {
		  "kernelspec": {
		   "display_name": "Scilab",
		   "language": "scilab",
		   "name": "scilab"
		  },
		  "language_info": {
		   "file_extension": ".sce",
		   "help_links": [
			{
			 "text": "MetaKernel Magics",
			 "url": "https://github.com/calysto/metakernel/blob/master/metakernel/magics/README.md"
			}
		   ],
		   "mimetype": "text/x-octave",
		   "name": "scilab",
		   "version": "0.7.1"
		  }
		 },
		 "nbformat": 4,
		 "nbformat_minor": 0
}
