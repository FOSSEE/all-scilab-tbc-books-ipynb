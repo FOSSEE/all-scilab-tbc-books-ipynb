{
"cells": [
 {
		   "cell_type": "markdown",
	   "metadata": {},
	   "source": [
       "# Chapter 2: Number Systems"
	   ]
	},
{
		   "cell_type": "markdown",
		   "metadata": {},
		   "source": [
			"## Example 2.10: Subtract_one_from_100.sce"
		   ]
		  },
  {
"cell_type": "code",
	   "execution_count": null,
	   "metadata": {
	    "collapsed": true
	   },
	   "outputs": [],
"source": [
"//Example 2-10//\n",
"//Binary Subtraction//\n",
"clc\n",
"//clears the console//\n",
"clear\n",
"//clears all existing variables//\n",
"x=bin2dec('100')\n",
"y=bin2dec('1')\n",
"//binary to decimal conversion//\n",
"z=x-y\n",
"//subtraction//\n",
"a=dec2bin(z)\n",
"//decimal to binary conversion//\n",
"disp('subtraction of two binary numbers is:')\n",
"disp(a)\n",
"//answer in binary form//"
   ]
   }
,
{
		   "cell_type": "markdown",
		   "metadata": {},
		   "source": [
			"## Example 2.11: Multiply_1011_by_101.sce"
		   ]
		  },
  {
"cell_type": "code",
	   "execution_count": null,
	   "metadata": {
	    "collapsed": true
	   },
	   "outputs": [],
"source": [
"//Example 2-11//\n",
"//Binary multiplication//\n",
"clc\n",
"//clears the console//\n",
"clear\n",
"//clears all existing variables//\n",
"x=bin2dec('1011')\n",
"y=bin2dec('101')\n",
"//binary to decimal conversion//\n",
"z=x*y;\n",
"//multiplication//\n",
"a=dec2bin(z)\n",
"//decimal to binary conversion//\n",
"disp(' multiplication of two binary numbers is: ')\n",
"disp(a)\n",
"//answer in binary form//"
   ]
   }
,
{
		   "cell_type": "markdown",
		   "metadata": {},
		   "source": [
			"## Example 2.12: Multiply_11010_by_11011.sce"
		   ]
		  },
  {
"cell_type": "code",
	   "execution_count": null,
	   "metadata": {
	    "collapsed": true
	   },
	   "outputs": [],
"source": [
"//Example 2-12//\n",
"//Binary multiplication//\n",
"clc\n",
"//clears the console//\n",
"clear\n",
"//clears all existing variables//\n",
"x=bin2dec('11010')\n",
"y=bin2dec('11011')\n",
"//binary to decimal conversion//\n",
"z=x*y;\n",
"//multiplication//\n",
"a=dec2bin(z)\n",
"//decimal to binary conversion//\n",
"disp(' multiplication of two binary numbers is: ')\n",
"disp(a)\n",
"//answer in binary form//"
   ]
   }
,
{
		   "cell_type": "markdown",
		   "metadata": {},
		   "source": [
			"## Example 2.13: Divide_110110_by_101.sce"
		   ]
		  },
  {
"cell_type": "code",
	   "execution_count": null,
	   "metadata": {
	    "collapsed": true
	   },
	   "outputs": [],
"source": [
"//Example 2-13//\n",
"//Binary Division//\n",
"x=bin2dec('110110')\n",
"y=bin2dec('101')\n",
"r=modulo(x,y)\n",
"//finding the remainder//\n",
"z=x/y\n",
"q=floor(z)\n",
"//finding the quotient//\n",
"quo=dec2bin(q)\n",
"rem=dec2bin(r)\n",
"//decimal to binary conversions//\n",
"disp('the quotient is :')\n",
"disp(quo)\n",
"disp('the remainder is : ')\n",
"disp(rem)\n",
"//answers in binary form//"
   ]
   }
,
{
		   "cell_type": "markdown",
		   "metadata": {},
		   "source": [
			"## Example 2.14: Convert_1010111010_to_hexadecimal.sce"
		   ]
		  },
  {
"cell_type": "code",
	   "execution_count": null,
	   "metadata": {
	    "collapsed": true
	   },
	   "outputs": [],
"source": [
"//Example 2-14//\n",
"//binary to hexadecimal conversion//\n",
"x=bin2dec('1010111010')\n",
"//decimal equivalent of the binary number//\n",
"a=dec2hex(x)\n",
"//Hex equivalent of the decimal number//\n",
"disp(a)\n",
"//answer in hexadecimal form//"
   ]
   }
,
{
		   "cell_type": "markdown",
		   "metadata": {},
		   "source": [
			"## Example 2.15: Convert_11011110101110_to_hexadecimal.sce"
		   ]
		  },
  {
"cell_type": "code",
	   "execution_count": null,
	   "metadata": {
	    "collapsed": true
	   },
	   "outputs": [],
"source": [
"//Example 2-15//\n",
"//binary to hexadecimal conversion//\n",
"x=bin2dec('11011110101110')\n",
"//decimal equivalent of the binary number//\n",
"a=dec2hex(x)\n",
"//Hex equivalent of the decimal number//\n",
"disp(a)\n",
"//answer in hexadecimal form//"
   ]
   }
,
{
		   "cell_type": "markdown",
		   "metadata": {},
		   "source": [
			"## Example 2.16: Convert_4A8C_to_binary.sce"
		   ]
		  },
  {
"cell_type": "code",
	   "execution_count": null,
	   "metadata": {
	    "collapsed": true
	   },
	   "outputs": [],
"source": [
"//Example 2-16//\n",
"//Hexadecimal to binary conversion//\n",
"x=hex2dec('4A8C')\n",
"//decimal conversion of the hexadecimal number//\n",
"a=dec2bin(x)\n",
"//Binary equivalent of the decimal number//\n",
"disp(a)\n",
"//answer in binary form//"
   ]
   }
,
{
		   "cell_type": "markdown",
		   "metadata": {},
		   "source": [
			"## Example 2.17: Convert_FACE_to_binary.sce"
		   ]
		  },
  {
"cell_type": "code",
	   "execution_count": null,
	   "metadata": {
	    "collapsed": true
	   },
	   "outputs": [],
"source": [
"//Example 2-17//\n",
"//Hexadecimal to binary conversion//\n",
"x=hex2dec('FACE')\n",
"//decimal conversion of the hexadecimal number//\n",
"a=dec2bin(x)\n",
"//Binary equivalent of the decimal number//\n",
"disp(a)\n",
"//answer in binary form//"
   ]
   }
,
{
		   "cell_type": "markdown",
		   "metadata": {},
		   "source": [
			"## Example 2.18: Convert_2C9_to_decimal.sce"
		   ]
		  },
  {
"cell_type": "code",
	   "execution_count": null,
	   "metadata": {
	    "collapsed": true
	   },
	   "outputs": [],
"source": [
"//Example 2-18//\n",
"//Hexadecimal to decimal conversion//\n",
"a=hex2dec('2C9')\n",
"//decimal equivalent of the hexadecimal number//\n",
"disp(a)\n",
"//answer in decimal form//"
   ]
   }
,
{
		   "cell_type": "markdown",
		   "metadata": {},
		   "source": [
			"## Example 2.19: Convert_EB4A_to_decimal.sce"
		   ]
		  },
  {
"cell_type": "code",
	   "execution_count": null,
	   "metadata": {
	    "collapsed": true
	   },
	   "outputs": [],
"source": [
"//Example 2-19//\n",
"//Hexadecimal to decimal conversion//\n",
"a=hex2dec('EB4A')\n",
"//decimal equivalent of the hexadecimal number//\n",
"disp(a)\n",
"//answer in decimal form//"
   ]
   }
,
{
		   "cell_type": "markdown",
		   "metadata": {},
		   "source": [
			"## Example 2.1: Convert_10111_to_decimal.sce"
		   ]
		  },
  {
"cell_type": "code",
	   "execution_count": null,
	   "metadata": {
	    "collapsed": true
	   },
	   "outputs": [],
"source": [
"//Example 2-1//\n",
"//Binary to Decimal Conversion//\n",
"a=bin2dec('10111')\n",
"//Decimal equivalent of the binary number//\n",
"disp(a)\n",
"//answer in decimal form//"
   ]
   }
,
{
		   "cell_type": "markdown",
		   "metadata": {},
		   "source": [
			"## Example 2.20: Convert_423_to_hexadecimal.sce"
		   ]
		  },
  {
"cell_type": "code",
	   "execution_count": null,
	   "metadata": {
	    "collapsed": true
	   },
	   "outputs": [],
"source": [
"//Example 2-20//\n",
"//Decimal to hexadecimal conversion//\n",
"a=dec2hex(423)\n",
"//hexadecimal equivalent of the decimal number//\n",
"disp(a)\n",
"//answer in hexadecimal form//"
   ]
   }
,
{
		   "cell_type": "markdown",
		   "metadata": {},
		   "source": [
			"## Example 2.21: Convert_72905_to_hexadecimal.sce"
		   ]
		  },
  {
"cell_type": "code",
	   "execution_count": null,
	   "metadata": {
	    "collapsed": true
	   },
	   "outputs": [],
"source": [
"//Example 2-21//\n",
"//Decimal to hexadecimal conversion//\n",
"a=dec2hex(72905)\n",
"//hexadecimal equivalent of the decimal number//\n",
"disp(a)\n",
"//answer in hexadecimal form//"
   ]
   }
,
{
		   "cell_type": "markdown",
		   "metadata": {},
		   "source": [
			"## Example 2.22: Add_1A8_and_67B.sce"
		   ]
		  },
  {
"cell_type": "code",
	   "execution_count": null,
	   "metadata": {
	    "collapsed": true
	   },
	   "outputs": [],
"source": [
"//Example 2-22//\n",
"//Hexadecimal addition//\n",
"clc\n",
"//clears the console//\n",
"clear\n",
"//clears all existing variables//\n",
"x=hex2dec('1A8')\n",
"y=hex2dec('67B')\n",
"//Decimal conversion of the hexadecimal numbers//\n",
"z=x+y\n",
"//addition//\n",
"a=dec2hex(z)\n",
"//decimal to hexadecimal conversion//\n",
"disp(' addition of the 2 hexadecimal numbers is ')\n",
"disp(a)\n",
"//answer in hexadecimal form//"
   ]
   }
,
{
		   "cell_type": "markdown",
		   "metadata": {},
		   "source": [
			"## Example 2.23: Add_ACEF1_and_16B7D.sce"
		   ]
		  },
  {
"cell_type": "code",
	   "execution_count": null,
	   "metadata": {
	    "collapsed": true
	   },
	   "outputs": [],
"source": [
"//Example 2-23//\n",
"//Hexadecimal addition//\n",
"clc\n",
"//clears the console//\n",
"clear\n",
"//clears all existing variables//\n",
"x=hex2dec('ACEF1')\n",
"y=hex2dec('16B7D')\n",
"//Decimal conversion of the hexadecimal numbers//\n",
"z=x+y\n",
"//addition//\n",
"a=dec2hex(z)\n",
"//decimal to hexadecimal conversion//\n",
"disp(' addition of the 2 hexadecimal numbers is ')\n",
"disp(a)\n",
"//answer in hexadecimal form//"
   ]
   }
,
{
		   "cell_type": "markdown",
		   "metadata": {},
		   "source": [
			"## Example 2.24: Subtract_3A8_from_1273.sce"
		   ]
		  },
  {
"cell_type": "code",
	   "execution_count": null,
	   "metadata": {
	    "collapsed": true
	   },
	   "outputs": [],
"source": [
"//Example 2-24//\n",
"//Hexadecimal Subtraction//\n",
"clc\n",
"//clears the console//\n",
"clear\n",
"//clears all existing variables//\n",
"x=hex2dec('1273')\n",
"y=hex2dec('3A8')\n",
"//Decimal conversion of the hexadecimal numbers//\n",
"z=x-y\n",
"//addition//\n",
"a=dec2hex(z)\n",
"//decimal to hexadecimal conversion//\n",
"disp(' addition of the 2 hexadecimal numbers is ')\n",
"disp(a)\n",
"//answer in hexadecimal form//"
   ]
   }
,
{
		   "cell_type": "markdown",
		   "metadata": {},
		   "source": [
			"## Example 2.25: Multiply_1A3_by_89.sce"
		   ]
		  },
  {
"cell_type": "code",
	   "execution_count": null,
	   "metadata": {
	    "collapsed": true
	   },
	   "outputs": [],
"source": [
"//Example 6-25//\n",
"//Solve multiple output equation using mapping//\n",
"clc\n",
"//clears the window//\n",
"clear\n",
"//clears all existing variables//\n",
"x=hex2dec('1A3')\n",
"y=hex2dec('89')\n",
"//Decimal conversion of the hexadecimal numbers//\n",
"z=x*y\n",
"//multiplication//\n",
"a=dec2hex(z)\n",
"//decimal to hexadecimal conversion//\n",
"disp(' multiplication of the 2 hexadecimal numbers is ')\n",
"disp(a)\n",
"//answer in hexadecimal form//"
   ]
   }
,
{
		   "cell_type": "markdown",
		   "metadata": {},
		   "source": [
			"## Example 2.26: Divide_1EC87_by_A5.sce"
		   ]
		  },
  {
"cell_type": "code",
	   "execution_count": null,
	   "metadata": {
	    "collapsed": true
	   },
	   "outputs": [],
"source": [
"//Example 2-26//\n",
"//Hexadecimal Division//\n",
"x=hex2dec('1EC87')\n",
"y=hex2dec('A5')\n",
"r=modulo(x,y)\n",
"//finding the remainder//\n",
"z=x/y\n",
"q=floor(z)\n",
"//finding the quotient//\n",
"quo=dec2hex(q)\n",
"rem=dec2hex(r)\n",
"//decimal to binary conversions//\n",
"disp('the quotient is :')\n",
"disp(quo)\n",
"disp('the remainder is : ')\n",
"disp(rem)\n",
"//answers in binary form//"
   ]
   }
,
{
		   "cell_type": "markdown",
		   "metadata": {},
		   "source": [
			"## Example 2.27: Convert_11111011110101_to_octal.sce"
		   ]
		  },
  {
"cell_type": "code",
	   "execution_count": null,
	   "metadata": {
	    "collapsed": true
	   },
	   "outputs": [],
"source": [
"//Example 2-27//\n",
"//Binary to octal conversion//\n",
"x=bin2dec('11111011110101')\n",
"//decimal equivalent of the binary number//\n",
"a=dec2oct(x)\n",
"//octal equivalent of the decimal number//\n",
"disp(a)\n",
"//answer in octal form//"
   ]
   }
,
{
		   "cell_type": "markdown",
		   "metadata": {},
		   "source": [
			"## Example 2.28: Convert_1011110100011000111_to_octal.sce"
		   ]
		  },
  {
"cell_type": "code",
	   "execution_count": null,
	   "metadata": {
	    "collapsed": true
	   },
	   "outputs": [],
"source": [
"//Example 2-28//\n",
"//Binary to octal conversion//\n",
"x=bin2dec('1011110100011000111')\n",
"//decimal equivalent of the binary number//\n",
"a=dec2oct(x)\n",
"//octal equivalent of the decimal number//\n",
"disp(a)\n",
"//answer in octal form//"
   ]
   }
,
{
		   "cell_type": "markdown",
		   "metadata": {},
		   "source": [
			"## Example 2.29: Convert_octal_number_3674_to_binary.sce"
		   ]
		  },
  {
"cell_type": "code",
	   "execution_count": null,
	   "metadata": {
	    "collapsed": true
	   },
	   "outputs": [],
"source": [
"//Example 2-29//\n",
"//octal to binary conversion//\n",
"x=oct2dec('3674')\n",
"//decimal equivalent of the octal number//\n",
"a=dec2bin(x)\n",
"//binary equivalent of the decimal number//\n",
"disp(a)\n",
"//answer in binary form//"
   ]
   }
,
{
		   "cell_type": "markdown",
		   "metadata": {},
		   "source": [
			"## Example 2.2: Convert_1011101001_to_decimal.sce"
		   ]
		  },
  {
"cell_type": "code",
	   "execution_count": null,
	   "metadata": {
	    "collapsed": true
	   },
	   "outputs": [],
"source": [
"//Example 2-2//\n",
"//Binary to Decimal Conversion//\n",
"a=bin2dec('1011101001')\n",
"//Decimal equivalent of the binary number//\n",
"disp(a)\n",
"//answer in decimal form//"
   ]
   }
,
{
		   "cell_type": "markdown",
		   "metadata": {},
		   "source": [
			"## Example 2.30: Minus_5_in_twos_complement_form.sce"
		   ]
		  },
  {
"cell_type": "code",
	   "execution_count": null,
	   "metadata": {
	    "collapsed": true
	   },
	   "outputs": [],
"source": [
"//Example 2-30//\n",
"// -5 in two’s complement form//\n",
"clc\n",
"//clears the console//\n",
"clear\n",
"//clears all existing variables//\n",
"x=2^8\n",
"//Smallest nine bit number//\n",
"y=5\n",
"z=x-y\n",
"//subtraction//\n",
"a=dec2bin(z)\n",
"//binary conversion of the decimal number//\n",
"disp(' -5 in two’s complement form is ')\n",
"disp(a)\n",
"//answer in binary form//"
   ]
   }
,
{
		   "cell_type": "markdown",
		   "metadata": {},
		   "source": [
			"## Example 2.31: 12_bit_twos_complement.sce"
		   ]
		  },
  {
"cell_type": "code",
	   "execution_count": null,
	   "metadata": {
	    "collapsed": true
	   },
	   "outputs": [],
"source": [
"//Example 2-31//\n",
"// -4,-15,-17 in two’s complement form//\n",
"clc\n",
"//clears the console//\n",
"clear\n",
"//clears all existing variables//\n",
"x=2^12\n",
"//Smallest nine bit number//\n",
"p=4\n",
"q=15\n",
"r=17\n",
"u=x-p\n",
"v=x-q\n",
"w=x-r\n",
"//subtraction//\n",
"a=dec2bin(u)\n",
"b=dec2bin(v)\n",
"c=dec2bin(w)\n",
"//binary conversion of the decimal number//\n",
"disp(' -4 in two’s complement form is ')\n",
"disp(a)\n",
"disp(' -15 in two’s complement form is ')\n",
"disp(b)\n",
"disp(' -17 in two’s complement form is ')\n",
"disp(c)\n",
"//answers in binary form//"
   ]
   }
,
{
		   "cell_type": "markdown",
		   "metadata": {},
		   "source": [
			"## Example 2.32: 16_bit_twos_complement.sce"
		   ]
		  },
  {
"cell_type": "code",
	   "execution_count": null,
	   "metadata": {
	    "collapsed": true
	   },
	   "outputs": [],
"source": [
"//Example 2-32//\n",
"// -16000 in two’s complement form//\n",
"clc\n",
"//clears the console//\n",
"clear\n",
"//clears all existing variables//\n",
"x=2^16\n",
"//Smallest nine bit number//\n",
"y=16000\n",
"z=x-y\n",
"//subtraction//\n",
"a=dec2bin(z)\n",
"//binary conversion of the decimal number//\n",
"disp(' -16000 in two’s complement form is ')\n",
"disp(a)\n",
"//answer in binary form//"
   ]
   }
,
{
		   "cell_type": "markdown",
		   "metadata": {},
		   "source": [
			"## Example 2.33: Twos_complement_of_minus4_second_method.sce"
		   ]
		  },
  {
"cell_type": "code",
	   "execution_count": null,
	   "metadata": {
	    "collapsed": true
	   },
	   "outputs": [],
"source": [
"//Example 2-33//\n",
"// -4 in two’s complement form by second method//\n",
"clc\n",
"//clears the window//\n",
"clear\n",
"//clears all existing variables//\n",
"x=bitcmp(4,8)\n",
"//complement of the decimal number 4(8 bit representation)//\n",
"y=1\n",
"z=x+y\n",
"//1 is added to the complement//\n",
"a=dec2bin(z)\n",
"//binary conversion of the decimal number//\n",
"disp(' -4 in two’s complement form is: ')\n",
"disp(a)\n",
"//result is displayed//"
   ]
   }
,
{
		   "cell_type": "markdown",
		   "metadata": {},
		   "source": [
			"## Example 2.34: Twos_complement_of_minus17_second_method.sce"
		   ]
		  },
  {
"cell_type": "code",
	   "execution_count": null,
	   "metadata": {
	    "collapsed": true
	   },
	   "outputs": [],
"source": [
"//Example 2-34//\n",
"// -17 in two’s complement form by second method//\n",
"clc\n",
"//clears the window//\n",
"clear\n",
"//clears all existing variables//\n",
"x=bitcmp(17,8)\n",
"//complement of the decimal number 17(8 bit representation)//\n",
"y=1\n",
"z=x+y\n",
"//1 is added to the complement//\n",
"a=dec2bin(z)\n",
"//binary conversion of the decimal number//\n",
"disp(' -17 in two’s complement form is: ')\n",
"disp(a)\n",
"//result is displayed//"
   ]
   }
,
{
		   "cell_type": "markdown",
		   "metadata": {},
		   "source": [
			"## Example 2.35: Twos_complement_of_minus4_third_method.sce"
		   ]
		  },
  {
"cell_type": "code",
	   "execution_count": null,
	   "metadata": {
	    "collapsed": true
	   },
	   "outputs": [],
"source": [
"//Example 2-35//\n",
"//-4 in two's complement by third method//\n",
"clc\n",
"//clears the console//\n",
"clear\n",
"//clears all existing variables//\n",
"a=00000100\n",
"c=0\n",
"z=0\n",
"for i=1: 8\n",
"    x(i)=modulo(a,10)\n",
"    a=a/10\n",
"    a=floor(a)\n",
"end    \n",
"for i=1: 8\n",
"    if c>1 then\n",
"       break \n",
"    end\n",
"    if x(i)==1 then\n",
"        for k=i+1: 8\n",
"        x(k)=bitcmp(x(k),1)\n",
"        c=c+1 \n",
"        end\n",
"    end\n",
"end\n",
"for i=1: 8\n",
"    z=z+x(i)*10^(i-1)\n",
"end \n",
"disp('-4 in twos complement is :')\n",
"disp(z)\n",
"//answer is displayed//  "
   ]
   }
,
{
		   "cell_type": "markdown",
		   "metadata": {},
		   "source": [
			"## Example 2.36: Twos_complement_of_minus17_third_method.sce"
		   ]
		  },
  {
"cell_type": "code",
	   "execution_count": null,
	   "metadata": {
	    "collapsed": true
	   },
	   "outputs": [],
"source": [
"//Example 2-36//\n",
"//-17 in two's complement by third method//\n",
"clc\n",
"//clears the console//\n",
"clear\n",
"//clears all existing variables//\n",
"a=00010001\n",
"c=0\n",
"z=0\n",
"for i=1: 8\n",
"    x(i)=modulo(a,10)\n",
"    a=a/10\n",
"    a=floor(a)\n",
"end    \n",
"for i=1: 8\n",
"    if c>1 then\n",
"       break \n",
"    end\n",
"    if x(i)==1 then\n",
"        for k=i+1: 8\n",
"        x(k)=bitcmp(x(k),1)\n",
"        c=c+1 \n",
"        end\n",
"    end\n",
"end\n",
"for i=1: 8\n",
"    z=z+x(i)*10^(i-1)\n",
"end\n",
"disp('-17 in twos complement is :') \n",
"disp(z)      \n",
"//answer is displayed//"
   ]
   }
,
{
		   "cell_type": "markdown",
		   "metadata": {},
		   "source": [
			"## Example 2.37: Negative_decimal_number_represented_by_10011011.sce"
		   ]
		  },
  {
"cell_type": "code",
	   "execution_count": null,
	   "metadata": {
	    "collapsed": true
	   },
	   "outputs": [],
"source": [
"//Example 2-37//\n",
"// negative decimal representation of 10011011//\n",
"clc\n",
"//clears the window//\n",
"clear\n",
"//clears all existing variables//\n",
"b=bin2dec('10011011')\n",
"x=bitcmp(b,8)\n",
"//complement of the decimal number 17(8 bit representation)//\n",
"y=1\n",
"z=x+y\n",
"//1 is added to the complement//\n",
"a=dec2bin(z)\n",
"//binary conversion of the decimal number//\n",
"z=z*(-1)\n",
"disp(' the negative value that 10011011 represents is: ')\n",
"disp(z)\n",
"//result is displayed//"
   ]
   }
,
{
		   "cell_type": "markdown",
		   "metadata": {},
		   "source": [
			"## Example 2.38: Add_minus_17_to_minus_30.sce"
		   ]
		  },
  {
"cell_type": "code",
	   "execution_count": null,
	   "metadata": {
	    "collapsed": true
	   },
	   "outputs": [],
"source": [
"//Example 2-38//\n",
"//add -17 to -30//\n",
"clc\n",
"//clears the console//\n",
"clear\n",
"//clears all exisiting variables//\n",
"x=bitcmp(17,8)\n",
"y=bitcmp(30,8)\n",
"//complement of the decimal numbers 17 and 30//\n",
"z=1\n",
"u=x+z\n",
"v=y+z\n",
"//1 is added to the complements//\n",
"w=u+v\n",
"a=dec2bin(w) \n",
"//binary conversion of the decimal number//\n",
"disp('binary form of number obtained by adding -17 to -30')\n",
"disp(a)\n",
"//result is displayed//\n",
"disp(' the msb is discarded,so eight bit representation is the answer in binary form ')\n",
"a=dec2bin(w-(2^8))\n",
"disp(a)\n",
"//final result is displayed//"
   ]
   }
,
{
		   "cell_type": "markdown",
		   "metadata": {},
		   "source": [
			"## Example 2.39: Add_minus_20_to_26.sce"
		   ]
		  },
  {
"cell_type": "code",
	   "execution_count": null,
	   "metadata": {
	    "collapsed": true
	   },
	   "outputs": [],
"source": [
"//Example 2-39//\n",
"//add -20 to 26//\n",
"clc\n",
"//clears the console//\n",
"clear\n",
"//clears all existing variables//\n",
"x=bitcmp(20,8)\n",
"//finds complement of 29//\n",
"y=1  \n",
"u=x+y\n",
"//1 is added to the complement//\n",
"v=26\n",
"w=u+v\n",
"a=dec2bin(w)\n",
"//binary conversion of the decimal number//\n",
"disp(' binary form of the number obtained by adding -20 to 26 ')\n",
"disp(a)\n",
"//result is displayed//\n",
"disp(' the msb is discarded,so eight bit representation is the answer in binary form ') \n",
"a=dec2bin(w-(2^8))\n",
"disp(a)\n",
"//final result is displayed//"
   ]
   }
,
{
		   "cell_type": "markdown",
		   "metadata": {},
		   "source": [
			"## Example 2.3: Convert_110111_to_decimal.sce"
		   ]
		  },
  {
"cell_type": "code",
	   "execution_count": null,
	   "metadata": {
	    "collapsed": true
	   },
	   "outputs": [],
"source": [
"//Example 2-3//\n",
"//Binary to Decimal Conversion//\n",
"a=bin2dec('110111')\n",
"//Decimal equivalent of the binary number//\n",
"disp(a)\n",
"//answer in decimal form//"
   ]
   }
,
{
		   "cell_type": "markdown",
		   "metadata": {},
		   "source": [
			"## Example 2.40: Add_minus_29_to_14.sce"
		   ]
		  },
  {
"cell_type": "code",
	   "execution_count": null,
	   "metadata": {
	    "collapsed": true
	   },
	   "outputs": [],
"source": [
"//Example 2-40//\n",
"//add -29 to 14//\n",
"clc\n",
"//clears the console//\n",
"clear\n",
"//clears all existing variables//\n",
"x=bitcmp(29,8)\n",
"//finds complement of 29//\n",
"y=1  \n",
"u=x+y\n",
"//1 is added to the complement//\n",
"v=14\n",
"w=u+v\n",
"a=dec2bin(w)\n",
"//binary conversion of the decimal number//\n",
"disp(' binary form of the number obtained by adding -29 to 14 ')\n",
"disp(a)\n",
"//result is displayed//"
   ]
   }
,
{
		   "cell_type": "markdown",
		   "metadata": {},
		   "source": [
			"## Example 2.41: Ones_complement_of_minus_13.sce"
		   ]
		  },
  {
"cell_type": "code",
	   "execution_count": null,
	   "metadata": {
	    "collapsed": true
	   },
	   "outputs": [],
"source": [
"//Example 2-41//\n",
"//one's complement form of -13//\n",
"clc\n",
"//clears the window//\n",
"clear\n",
"//clears all existing variables//\n",
"x=bitcmp(13,8)\n",
"//complement of 13//\n",
"a=dec2bin(x)\n",
"//binary conversion of the decimal number//\n",
"disp(' ones complement form of -13 ')\n",
"disp(a)\n",
"//result is displayed//"
   ]
   }
,
{
		   "cell_type": "markdown",
		   "metadata": {},
		   "source": [
			"## Example 2.42: Ones_complement_of_minus_13_second_method.sce"
		   ]
		  },
  {
"cell_type": "code",
	   "execution_count": null,
	   "metadata": {
	    "collapsed": true
	   },
	   "outputs": [],
"source": [
"//Example 2-42//\n",
"//ones complement of -13 by 2nd method//\n",
"clc\n",
"//clears the window//\n",
"clear\n",
"//clears all existing variables//\n",
"a=bitcmp(0,8)\n",
"//decimal equivalent of 11111111//\n",
"b=13\n",
"c=a-b\n",
"//subtracting 13 from decimal equivalent of 11111111//\n",
"z=dec2bin(c)\n",
"disp('ones complement of -13 is:')\n",
"disp(z)\n",
"//result is displayed//"
   ]
   }
,
{
		   "cell_type": "markdown",
		   "metadata": {},
		   "source": [
			"## Example 2.43: Ones_complement_addition_using_4_bits.sce"
		   ]
		  },
  {
"cell_type": "code",
	   "execution_count": null,
	   "metadata": {
	    "collapsed": true
	   },
	   "outputs": [],
"source": [
"//Example 2-43//\n",
"//add -3 to -2 in one's complement using 4 bits//\n",
"clc\n",
"//clears the window//\n",
"clear\n",
"//clears all the existing variables//\n",
"x=bitcmp(3,4)\n",
"y=bitcmp(2,4)\n",
"//complement of the decimal number 2//\n",
"z=x+y+1\n",
"//carry is added//\n",
"a=dec2bin(z)\n",
"//binary conversion//\n",
"disp('binary form of the number obtained by adding -3 to -2')\n",
"disp(a)\n",
"//result is displayed//\n",
"disp('msb is discarded,4 bit representation is the answer in binary form') \n",
"a=dec2bin(z-(2^4))\n",
"disp(a)\n",
"//Final result is displayed//"
   ]
   }
,
{
		   "cell_type": "markdown",
		   "metadata": {},
		   "source": [
			"## Example 2.44: Ones_complement_addition_using_4_bits.sce"
		   ]
		  },
  {
"cell_type": "code",
	   "execution_count": null,
	   "metadata": {
	    "collapsed": true
	   },
	   "outputs": [],
"source": [
"//Example 2-44//\n",
"//add -3 to 2 in one's complement using 4 bits//\n",
"clc\n",
"//clears the window//\n",
"clear\n",
"//clears all the existing variables//\n",
"x=2\n",
"y=bitcmp(3,4)\n",
"//complement of the decimal number 2//\n",
"z=x+y\n",
"a=dec2bin(z)\n",
"//binary conversion//\n",
"disp('binary form of the number obtained by adding -3 to 2')\n",
"disp(a)\n",
"//result is displayed//"
   ]
   }
,
{
		   "cell_type": "markdown",
		   "metadata": {},
		   "source": [
			"## Example 2.45: Ones_complement_addition_using_8_bits.sce"
		   ]
		  },
  {
"cell_type": "code",
	   "execution_count": null,
	   "metadata": {
	    "collapsed": true
	   },
	   "outputs": [],
"source": [
"//Example 2-45//\n",
"//add 3 to -2 in one's complement using 8 bits//\n",
"clc\n",
"//clears the window//\n",
"clear\n",
"//clears all the existing variables//\n",
"x=3\n",
"y=bitcmp(2,8)\n",
"//complement of the decimal number 2//\n",
"z=x+y+1\n",
"//carry is added//\n",
"a=dec2bin(z)\n",
"//binary conversion//\n",
"disp('binary form of the number obtained by adding 3 to -2')\n",
"disp(a)\n",
"//result is displayed//\n",
"disp('msb is discarded,8 bit representation is the answer in binary form') \n",
"a=dec2bin(z-(2^8))\n",
"disp(a)\n",
"//Final result is displayed//"
   ]
   }
,
{
		   "cell_type": "markdown",
		   "metadata": {},
		   "source": [
			"## Example 2.46: Convert_1101_point_000101_to_decimal.sce"
		   ]
		  },
  {
"cell_type": "code",
	   "execution_count": null,
	   "metadata": {
	    "collapsed": true
	   },
	   "outputs": [],
"source": [
"//Example 2-46//\n",
"//Conversion to decimal//\n",
"clc\n",
"//clears the console//\n",
"clear\n",
"//clears all existing variables//\n",
"p=1\n",
"q=1\n",
"z=0\n",
"b=0\n",
"w=0\n",
"f=0\n",
"//initialising//\n",
"//bin=input (enter the binary number to be converted to its decimal form)//\n",
"//accepting the input from the user//\n",
"bin=1101.000101\n",
"d=modulo(bin,1)\n",
"//separating the decimal part from the integer part//\n",
"d=d*10^10\n",
"a=floor(bin)\n",
"//removing the decimal part//\n",
"while(a>0)\n",
"//loop to enter the binary bits of the integer part into a matrix//\n",
"r=modulo(a,10)\n",
"b(1,q)=r\n",
"a=a/10\n",
"a=floor(a)\n",
"q=q+1\n",
"end\n",
"for m=1: q-1\n",
"//multiplying each bit of the integer part with its corresponding positional value and adding//\n",
"c=m-1\n",
"f=f+b(1,m)*(2^c)\n",
"end\n",
"while(d>0)\n",
"//loop to take the bits of the decimal part into a matrix//\n",
"e=modulo(d,2)\n",
"w(1,p)=e\n",
"d=d/10\n",
"d=floor(d)\n",
"p=p+1\n",
"end\n",
"for n=1: p-1\n",
"//multiplying each bit with its corresponding positional value and adding//\n",
"z=z+w(1,n)*(0.5)^(11-n)\n",
"end\n",
"z=z*10000\n",
"z=round(z)\n",
"//rounding off to 4 decimal places//\n",
"z=z/10000\n",
"x=f+z\n",
"disp('the decimal equivalent of the binary number is :')     \n",
"disp(x)\n",
"//result is displayed//"
   ]
   }
,
{
		   "cell_type": "markdown",
		   "metadata": {},
		   "source": [
			"## Example 2.47: Convert_point_375_to_binary.sce"
		   ]
		  },
  {
"cell_type": "code",
	   "execution_count": null,
	   "metadata": {
	    "collapsed": true
	   },
	   "outputs": [],
"source": [
"//Example 2-47//\n",
"//Conversion of decimal to binary//\n",
"clc\n",
"//clears the console//\n",
"clear\n",
"//clears all existing variables//\n",
"q=0\n",
"b=0\n",
"s=0\n",
"//initialising//\n",
"//a=input(enter the decimal number to be converted to its binary form)\n",
"//taking input from the user//\n",
"a=0.375\n",
"d=modulo(a,1)\n",
"//separating the decimal part from the integer//\n",
"a=floor(a)\n",
"//removing the decimal part//\n",
"while(a>0)\n",
"//integer part converted to equivalent binary form//  \n",
"x=modulo(a,2)\n",
"b=b+(10^q)*x\n",
"a=a/2\n",
"a=floor(a)\n",
"q=q+1\n",
"end\n",
"for i=1: 10\n",
"//taking values after the decimal part and converting to equivalent binary form//\n",
"d=d*2\n",
"q=floor(d)\n",
"s=s+q/(10^i)\n",
"if d>=1 then\n",
"    d=d-1\n",
"end\n",
"end\n",
"k=b+s\n",
"disp('the decimal number in binary form is :')\n",
"disp(k)\n",
"//result is displayed//"
   ]
   }
,
{
		   "cell_type": "markdown",
		   "metadata": {},
		   "source": [
			"## Example 2.48: Convert_point_54545_to_binary.sce"
		   ]
		  },
  {
"cell_type": "code",
	   "execution_count": null,
	   "metadata": {
	    "collapsed": true
	   },
	   "outputs": [],
"source": [
"//Example 2-48//\n",
"//Conversion of decimal to binary//\n",
"clc\n",
"//clears the console//\n",
"clear\n",
"//clears all existing variables//\n",
"q=0\n",
"b=0\n",
"s=0\n",
"//initialising//\n",
"//a=input(enter the decimal number to be converted to its binary form)\n",
"//taking input from the user//\n",
"a=0.54545\n",
"d=modulo(a,1)\n",
"//separating the decimal part from the integer//\n",
"a=floor(a)\n",
"//removing the decimal part//\n",
"while(a>0)\n",
"//integer part converted to equivalent binary form//  \n",
"x=modulo(a,2)\n",
"b=b+(10^q)*x\n",
"a=a/2\n",
"a=floor(a)\n",
"q=q+1\n",
"end\n",
"for i=1: 10\n",
"//taking values after the decimal part and converting to equivalent binary form//\n",
"d=d*2\n",
"q=floor(d)\n",
"s=s+q/(10^i)\n",
"if d>=1 then\n",
"    d=d-1\n",
"end\n",
"end\n",
"k=b+s\n",
"disp('the decimal number in binary form is :')\n",
"disp(k)\n",
"//result is displayed//"
   ]
   }
,
{
		   "cell_type": "markdown",
		   "metadata": {},
		   "source": [
			"## Example 2.49: Convert_38_point_21_to_binary.sce"
		   ]
		  },
  {
"cell_type": "code",
	   "execution_count": null,
	   "metadata": {
	    "collapsed": true
	   },
	   "outputs": [],
"source": [
"//Example 2-49//\n",
"//Conversion of decimal to binary//\n",
"clc\n",
"//clears the console//\n",
"clear\n",
"//clears all existing variables//\n",
"q=0\n",
"b=0\n",
"s=0\n",
"//initialising//\n",
"//a=input(enter the decimal number to be converted to its binary form)\n",
"//taking input from the user//\n",
"a=38.21\n",
"d=modulo(a,1)\n",
"//separating the decimal part from the integer//\n",
"a=floor(a)\n",
"//removing the decimal part//\n",
"while(a>0)\n",
"//integer part converted to equivalent binary form//  \n",
"x=modulo(a,2)\n",
"b=b+(10^q)*x\n",
"a=a/2\n",
"a=floor(a)\n",
"q=q+1\n",
"end\n",
"for i=1: 10\n",
"//taking values after the decimal part and converting to equivalent binary form//\n",
"d=d*2\n",
"q=floor(d)\n",
"s=s+q/(10^i)\n",
"if d>=1 then\n",
"    d=d-1\n",
"end\n",
"end\n",
"k=b+s\n",
"disp('the integer part of the binary form is :')\n",
"disp(b)\n",
"disp('the fractional part of the binary form is:')\n",
"disp(s)\n",
"//result is displayed//"
   ]
   }
,
{
		   "cell_type": "markdown",
		   "metadata": {},
		   "source": [
			"## Example 2.4: Convert_43_to_binary.sce"
		   ]
		  },
  {
"cell_type": "code",
	   "execution_count": null,
	   "metadata": {
	    "collapsed": true
	   },
	   "outputs": [],
"source": [
"//Example 2-4//\n",
"//Decimal to binary conversion//\n",
"a=dec2bin(43)\n",
"//Binary equivalent of the decimal number//\n",
"disp(a)\n",
"//answer in binary form//"
   ]
   }
,
{
		   "cell_type": "markdown",
		   "metadata": {},
		   "source": [
			"## Example 2.50: Binary_addition.sce"
		   ]
		  },
  {
"cell_type": "code",
	   "execution_count": null,
	   "metadata": {
	    "collapsed": true
	   },
	   "outputs": [],
"source": [
"//Example 2-50//\n",
"//addition of binary numbers//\n",
"//this program requires functions binary2decimal.sci and decimal2binary.sci//\n",
"clc\n",
"//clears the window//\n",
"clear\n",
"//clears all existing variables//\n",
"function x=binary2decimal(bin)\n",
"p=1\n",
"q=1\n",
"z=0\n",
"b=0\n",
"w=0\n",
"f=0\n",
"//initialising//\n",
"d=modulo(bin,1)\n",
"//separating the decimal part from the integer part//\n",
"d=d*10^10\n",
"a=floor(bin)\n",
"//removing the decimal part//\n",
"while(a>0)\n",
"//loop to enter the binary bits of the integer part into a matrix//\n",
"r=modulo(a,10)\n",
"b(1,q)=r\n",
"a=a/10\n",
"a=floor(a)\n",
"q=q+1\n",
"end\n",
"for m=1: q-1\n",
"//multiplying each bit of the integer part with its corresponding positional value and adding//\n",
"c=m-1\n",
"f=f+b(1,m)*(2^c)\n",
"end\n",
"while(d>0)\n",
"//loop to take the bits of the decimal part into a matrix//\n",
"e=modulo(d,2)\n",
"w(1,p)=e\n",
"d=d/10\n",
"d=floor(d)\n",
"p=p+1\n",
"end\n",
"for n=1: p-1\n",
"//multiplying each bit with its corresponding positional value and adding//\n",
"z=z+w(1,n)*(0.5)^(11-n)\n",
"end\n",
"z=z*10000\n",
"z=round(z)\n",
"//rounding off to 4 decimal places//\n",
"z=z/10000\n",
"x=f+z\n",
"endfunction\n",
"function y=decimal2binary(a)\n",
"q=0\n",
"b=0\n",
"s=0\n",
"//initialising//\n",
"d=modulo(a,1)\n",
"//separating the decimal part from the integer//\n",
"a=floor(a)\n",
"//removing the decimal part//\n",
"while(a>0)\n",
"//integer part converted to equivalent binary form//  \n",
"x=modulo(a,2)\n",
"b=b+(10^q)*x\n",
"a=a/2\n",
"a=floor(a)\n",
"q=q+1\n",
"end\n",
"for i=1: 10\n",
"//taking values after the decimal part and converting to equivalent binary form//\n",
"d=d*2\n",
"q=floor(d)\n",
"s=s+q/(10^i)\n",
"if d>=1 then\n",
"    d=d-1\n",
"end\n",
"end\n",
"y=b+s\n",
"endfunction\n",
"x=binary2decimal(11.011)\n",
"y=binary2decimal(10.001)\n",
"z=x+y\n",
"a=decimal2binary(z)\n",
"disp('the addition of the binary numbers is :')\n",
"disp(a)\n",
"//result is displayed//"
   ]
   }
,
{
		   "cell_type": "markdown",
		   "metadata": {},
		   "source": [
			"## Example 2.51: Binary_mutiplication.sce"
		   ]
		  },
  {
"cell_type": "code",
	   "execution_count": null,
	   "metadata": {
	    "collapsed": true
	   },
	   "outputs": [],
"source": [
"//Example 2-51//\n",
"//multiplication of binary numbers//\n",
"//this program requires functions binary2decimal.sci and decimal2binary.sci//\n",
"clc\n",
"//clears the window//\n",
"clear\n",
"//clears all existing variables//\n",
"function x=binary2decimal(bin)\n",
"p=1\n",
"q=1\n",
"z=0\n",
"b=0\n",
"w=0\n",
"f=0\n",
"//initialising//\n",
"d=modulo(bin,1)\n",
"//separating the decimal part from the integer part//\n",
"d=d*10^10\n",
"a=floor(bin)\n",
"//removing the decimal part//\n",
"while(a>0)\n",
"//loop to enter the binary bits of the integer part into a matrix//\n",
"r=modulo(a,10)\n",
"b(1,q)=r\n",
"a=a/10\n",
"a=floor(a)\n",
"q=q+1\n",
"end\n",
"for m=1: q-1\n",
"//multiplying each bit of the integer part with its corresponding positional value and adding//\n",
"c=m-1\n",
"f=f+b(1,m)*(2^c)\n",
"end\n",
"while(d>0)\n",
"//loop to take the bits of the decimal part into a matrix//\n",
"e=modulo(d,2)\n",
"w(1,p)=e\n",
"d=d/10\n",
"d=floor(d)\n",
"p=p+1\n",
"end\n",
"for n=1: p-1\n",
"//multiplying each bit with its corresponding positional value and adding//\n",
"z=z+w(1,n)*(0.5)^(11-n)\n",
"end\n",
"z=z*10000\n",
"z=round(z)\n",
"//rounding off to 4 decimal places//\n",
"z=z/10000\n",
"x=f+z\n",
"endfunction\n",
"function y=decimal2binary(a)\n",
"q=0\n",
"b=0\n",
"s=0\n",
"//initialising//\n",
"d=modulo(a,1)\n",
"//separating the decimal part from the integer//\n",
"a=floor(a)\n",
"//removing the decimal part//\n",
"while(a>0)\n",
"//integer part converted to equivalent binary form//  \n",
"x=modulo(a,2)\n",
"b=b+(10^q)*x\n",
"a=a/2\n",
"a=floor(a)\n",
"q=q+1\n",
"end\n",
"for i=1: 10\n",
"//taking values after the decimal part and converting to equivalent binary form//\n",
"d=d*2\n",
"q=floor(d)\n",
"s=s+q/(10^i)\n",
"if d>=1 then\n",
"    d=d-1\n",
"end\n",
"end\n",
"y=b+s\n",
"endfunction\n",
"x=binary2decimal(10.001)\n",
"y=binary2decimal(0.11)\n",
"z=x*y\n",
"a=decimal2binary(z)\n",
"disp('the multiplication of the binary numbers is :')\n",
"disp(a)\n",
"//result is displayed//\n",
""
   ]
   }
,
{
		   "cell_type": "markdown",
		   "metadata": {},
		   "source": [
			"## Example 2.5: Convert_200_to_binary.sce"
		   ]
		  },
  {
"cell_type": "code",
	   "execution_count": null,
	   "metadata": {
	    "collapsed": true
	   },
	   "outputs": [],
"source": [
"//Example 2-5//\n",
"//Decimal to binary conversion//\n",
"a=dec2bin(200)\n",
"//Binary equivalent of the decimal number//\n",
"disp(a)\n",
"//answer in binary form//"
   ]
   }
,
{
		   "cell_type": "markdown",
		   "metadata": {},
		   "source": [
			"## Example 2.6: Convert_43_to_binary.sce"
		   ]
		  },
  {
"cell_type": "code",
	   "execution_count": null,
	   "metadata": {
	    "collapsed": true
	   },
	   "outputs": [],
"source": [
"//Example 2-6//\n",
"//Decimal to binary conversion//\n",
"a=dec2bin(43)\n",
"//Binary equivalent of the decimal number//\n",
"disp(a)\n",
"//answer in binary form//"
   ]
   }
,
{
		   "cell_type": "markdown",
		   "metadata": {},
		   "source": [
			"## Example 2.7: Convert_200_to_binary.sce"
		   ]
		  },
  {
"cell_type": "code",
	   "execution_count": null,
	   "metadata": {
	    "collapsed": true
	   },
	   "outputs": [],
"source": [
"//Example 2-7//\n",
"//Decimal to binary conversion//\n",
"a=dec2bin(200)\n",
"//Binary equivalent of the decimal number//\n",
"disp(a)\n",
"//answer in binary form//"
   ]
   }
,
{
		   "cell_type": "markdown",
		   "metadata": {},
		   "source": [
			"## Example 2.8: Add_1011_and_110.sce"
		   ]
		  },
  {
"cell_type": "code",
	   "execution_count": null,
	   "metadata": {
	    "collapsed": true
	   },
	   "outputs": [],
"source": [
"//Example 2-8//\n",
"//Binary addition//\n",
"clc\n",
"//clears the console//\n",
"clear\n",
"//clears the already existing variables//\n",
"x=bin2dec('1011')\n",
"y=bin2dec('110')\n",
"//binary to decimal conversion//\n",
"z=x+y\n",
"//addition//\n",
"a=dec2bin(z)\n",
"//decimal to binary conversion//\n",
"disp(' addition of the 2 binary numbers is: ')\n",
"disp(a)\n",
"//answer in binary form//"
   ]
   }
,
{
		   "cell_type": "markdown",
		   "metadata": {},
		   "source": [
			"## Example 2.9: Add_11110_and_11.sce"
		   ]
		  },
  {
"cell_type": "code",
	   "execution_count": null,
	   "metadata": {
	    "collapsed": true
	   },
	   "outputs": [],
"source": [
"//Example 2-9//\n",
"//Binary addition//\n",
"clc\n",
"//clears the console//\n",
"clear\n",
"//clears the already existing variables//\n",
"x=bin2dec('11110')\n",
"y=bin2dec('11')\n",
"//binary to decimal conversion//\n",
"z=x+y\n",
"//addition//\n",
"a=dec2bin(z)\n",
"//decimal to binary conversion//\n",
"disp(' addition of the 2 binary numbers is: ')\n",
"disp(a)\n",
"//answer in binary form//"
   ]
   }
],
"metadata": {
		  "kernelspec": {
		   "display_name": "Scilab",
		   "language": "scilab",
		   "name": "scilab"
		  },
		  "language_info": {
		   "file_extension": ".sce",
		   "help_links": [
			{
			 "text": "MetaKernel Magics",
			 "url": "https://github.com/calysto/metakernel/blob/master/metakernel/magics/README.md"
			}
		   ],
		   "mimetype": "text/x-octave",
		   "name": "scilab",
		   "version": "0.7.1"
		  }
		 },
		 "nbformat": 4,
		 "nbformat_minor": 0
}
