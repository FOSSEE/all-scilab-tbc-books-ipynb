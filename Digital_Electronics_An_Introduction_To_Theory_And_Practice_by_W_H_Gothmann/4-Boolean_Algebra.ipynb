{
"cells": [
 {
		   "cell_type": "markdown",
	   "metadata": {},
	   "source": [
       "# Chapter 4: Boolean Algebra"
	   ]
	},
{
		   "cell_type": "markdown",
		   "metadata": {},
		   "source": [
			"## Example 4.1: Demorganize_a_function.sce"
		   ]
		  },
  {
"cell_type": "code",
	   "execution_count": null,
	   "metadata": {
	    "collapsed": true
	   },
	   "outputs": [],
"source": [
"//Example 4-1//\n",
"//demorganize function//\n",
"clc\n",
"//clears the console//\n",
"clear\n",
"//clears all existing variables//\n",
"//the given function is as follows//\n",
"disp('Given function- (AB''+C)'' ')\n",
"disp('now demorganizing the function')\n",
"disp('complement function')\n",
"disp(' AB''+C ')\n",
"disp('changing operators')\n",
"disp(' (A+B'')(C) ')\n",
"disp('complement variables')\n",
"disp(' (A''+B)(C'') ')\n",
"//final answer displayed after simplification//"
   ]
   }
,
{
		   "cell_type": "markdown",
		   "metadata": {},
		   "source": [
			"## Example 4.2: Reduce_an_expression.sce"
		   ]
		  },
  {
"cell_type": "code",
	   "execution_count": null,
	   "metadata": {
	    "collapsed": true
	   },
	   "outputs": [],
"source": [
"//Example 4-2//\n",
"//Reducing an expression//\n",
"clc\n",
"//clears the console//\n",
"clear\n",
"//clears all existing variables//\n",
"//the given expression is as follows//\n",
"disp(' Given Expression- A+B(C+(DE)'')'' ')\n",
"disp('applying DeMorgan theorem')\n",
"disp(' reduced expression: ')\n",
"disp(' A+B(C+D''+E'')'' ')\n",
"disp('Applying DeMorgan theorem again')\n",
"disp(' A+B(C''DE) ')\n",
"disp(' Therefore final reduced expression is : ')\n",
"disp(' A+BC''DE ')\n",
"//final expression displayed//"
   ]
   }
,
{
		   "cell_type": "markdown",
		   "metadata": {},
		   "source": [
			"## Example 4.3: Reduce_an_expression.sce"
		   ]
		  },
  {
"cell_type": "code",
	   "execution_count": null,
	   "metadata": {
	    "collapsed": true
	   },
	   "outputs": [],
"source": [
"//Example 4-3//\n",
"//Reducing a given expression//\n",
"clc\n",
"//clears the console//\n",
"clear\n",
"//clears all existing variables//\n",
"//the given expression is as follows//\n",
"disp(' Given Expression- ((AB)''+A''+AB)'' ')\n",
"disp('applying DeMorgan Theorem')\n",
"disp(' reduced expression ')\n",
"disp(' (A''+B''+A''+AB)'' ')\n",
"disp('as A+A=A')\n",
"disp(' (A''+B''+AB)'' ')\n",
"//By law 20//\n",
"disp(' (A''+B''+A)'' ')\n",
"disp('rearranging')\n",
"disp(' (A+A''+B'')'' ')\n",
"//by law 13//\n",
"disp(' (1+B'')'' ')\n",
"//by law 11//\n",
"disp(' 1'' ')\n",
"disp(' 0 ')\n",
"//final reduced expression is displayed/"
   ]
   }
,
{
		   "cell_type": "markdown",
		   "metadata": {},
		   "source": [
			"## Example 4.4: Reduce_a_boolean_expression.sce"
		   ]
		  },
  {
"cell_type": "code",
	   "execution_count": null,
	   "metadata": {
	    "collapsed": true
	   },
	   "outputs": [],
"source": [
"//Example 4-4//\n",
"//Reducing a given expression//\n",
"clc\n",
"//clears the window//\n",
"clear\n",
"//clears all existing variables//\n",
"//the given expression is as follows//\n",
"disp(' Given Expression- AB+(AC)''+AB''C(AB+C) ')\n",
"disp('Multiplying')\n",
"disp(' AB+(AC)''+AABB''C+AB''CC ')\n",
"//using laws 18,6,8,9//\n",
"disp(' AB+(AC)''+AB''C ')\n",
"disp('applying DeMorgan theorem')\n",
"disp(' AB+A''+C''+AB''C ')\n",
"disp('rearrange')\n",
"disp(' AB+C''+A''+AB''C ')\n",
"//reduce using law 20//\n",
"disp(' AB+C''+A''+B''C ')\n",
"disp('rearranging again')\n",
"disp(' A''+AB+C''+B''C ')\n",
"//reduce using law 20//\n",
"disp(' A''+B+C''+B'' ')\n",
"//using laws 11 and 13//\n",
"disp(' 1 ')\n",
"//final reduced expression is displayed//"
   ]
   }
,
{
		   "cell_type": "markdown",
		   "metadata": {},
		   "source": [
			"## Example 4.5: Reduce_a_Boolean_expression.sce"
		   ]
		  },
  {
"cell_type": "code",
	   "execution_count": null,
	   "metadata": {
	    "collapsed": true
	   },
	   "outputs": [],
"source": [
"//Example 4-5//\n",
"//Reduce a given expression//\n",
"clc\n",
"//clears the window//\n",
"clear\n",
"//clears all existing variables//\n",
"//the given expression is as follows//\n",
"disp(' Given Expression- ((AB''+ABC)''+A(B+AB''))'' ')\n",
"disp('factorise')\n",
"disp(' ((A(B''+BC))''+A(B+AB''))'' ')\n",
"//reduce using laws 18 and 20//\n",
"disp(' ((A(B''+C))''+A(B+A))'' ')\n",
"disp('multiply')\n",
"disp(' ((AB''+AC)''+AA+AB)'' ')\n",
"//reduce using laws 7,8,11,18//\n",
"disp(' ((AB''+AC)''+A)'' ')\n",
"disp('demorganize')\n",
"disp(' ((A''+B)(A''+C'')+A)'' ')\n",
"disp('multiply')\n",
"disp(' (A''A''+A''C''+A''B+BC''+A)'' ')\n",
"//Reduce using laws 18,8//\n",
"disp(' (A''(1+C''+B)+BC''+A)'' ')\n",
"//reduce using law 18,7,11//\n",
"disp(' 1'' ')\n",
"disp(' 0 ')\n",
"//final reduced expression is displayed//"
   ]
   }
],
"metadata": {
		  "kernelspec": {
		   "display_name": "Scilab",
		   "language": "scilab",
		   "name": "scilab"
		  },
		  "language_info": {
		   "file_extension": ".sce",
		   "help_links": [
			{
			 "text": "MetaKernel Magics",
			 "url": "https://github.com/calysto/metakernel/blob/master/metakernel/magics/README.md"
			}
		   ],
		   "mimetype": "text/x-octave",
		   "name": "scilab",
		   "version": "0.7.1"
		  }
		 },
		 "nbformat": 4,
		 "nbformat_minor": 0
}
