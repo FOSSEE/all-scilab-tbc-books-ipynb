{
"cells": [
 {
		   "cell_type": "markdown",
	   "metadata": {},
	   "source": [
       "# Chapter 6: Combinational Logic"
	   ]
	},
{
		   "cell_type": "markdown",
		   "metadata": {},
		   "source": [
			"## Example 6.10: 4_variable_mapping.sce"
		   ]
		  },
  {
"cell_type": "code",
	   "execution_count": null,
	   "metadata": {
	    "collapsed": true
	   },
	   "outputs": [],
"source": [
"//Example 6-10//\n",
"//Map L=W''X''YZ+WX''YZ''+WX''Y''Z''+W''XYZ//\n",
"clc\n",
"//clears the console//\n",
"clear\n",
"//clears all existing variables//\n",
"//Mapping the expression//\n",
"disp('       C''D'' C''D CD CD'' ')\n",
"disp('A''B''   0     0    1  0 ')\n",
"disp('AB''     0     0    1  0 ')\n",
"disp('AB       0     0    0  0 ')\n",
"disp('AB''     1     0    0  1 ')\n",
"disp(' From the map, high outputs for 3,7,8,10 ')\n",
"a=[0 0 1 1 ; 0 1 1 1 ; 1 0 0 0 ; 1 0 1 0]\n",
"disp(a)\n",
"for i=1: 4\n",
"    if a(i,1)==1 then\n",
"       b(i,1)='W'\n",
"   else\n",
"       b(i,1)='W'''\n",
"    end\n",
"    if a(i,2)==1 then\n",
"       b(i,2)='X'\n",
"   else\n",
"       b(i,2)='X'''\n",
"    end\n",
"     if a(i,3)==1 then\n",
"       b(i,3)='Y'\n",
"   else\n",
"       b(i,3)='Y'''\n",
"    end\n",
"    if a(i,4)==1 then\n",
"       b(i,4)='Z'\n",
"   else\n",
"       b(i,4)=' Z'''\n",
"    end\n",
"end\n",
"disp(' evaluating expression from truth table and map ')\n",
"l=strcat([ b(1,1),b(1,2),b(1,3),b(1,4)])\n",
"m=strcat([ b(2,1),b(2,2),b(2,3),b(2,4)])\n",
"n=strcat([ b(3,1),b(3,2),b(3,3),b(3,4)])\n",
"o=strcat([ b(4,1),b(4,2),b(4,3),b(4,4)])\n",
"x=strcat([l'+',m'+',n'+',o ])\n",
"disp(x)\n",
"//Expression is displayed//"
   ]
   }
,
{
		   "cell_type": "markdown",
		   "metadata": {},
		   "source": [
			"## Example 6.11: Reduce_an_expression_by_Kmap.sce"
		   ]
		  },
  {
"cell_type": "code",
	   "execution_count": null,
	   "metadata": {
	    "collapsed": true
	   },
	   "outputs": [],
"source": [
"//Example 6-11//\n",
"//reduce expression using k-map//\n",
"clc\n",
"//clears the window//\n",
"clear\n",
"//clears all existing variables//\n",
"//Mapping the expression//\n",
"disp('       C''D'' C''D CD CD'' ')\n",
"disp('A''B''   1     1    1  1 ')\n",
"disp('AB''     0     0    1  1 ')\n",
"disp('AB       0     1    1  0 ')\n",
"disp('AB''     0     0    0  0 ')\n",
"disp(' From the map, high outputs for 0,1,2,3,6,7,13,15 ')\n",
"//given logic equation//\n",
"a=[0 0 0 0;0 0 0 1;0 0 1 0;0 0 1 1 ;0 1 1 0;0 1 1 1;1 1 0 1;1 1 1 1]\n",
"disp(a)\n",
"for i=1: 8\n",
"    if a(i,1)==1 then\n",
"       b(i,1)='A'\n",
"   else\n",
"       b(i,1)='A'''\n",
"    end\n",
"    if a(i,2)==1 then\n",
"       b(i,2)='B'\n",
"   else\n",
"       b(i,2)='B'''\n",
"    end\n",
"     if a(i,3)==1 then\n",
"       b(i,3)='C'\n",
"   else\n",
"       b(i,3)='C'''\n",
"    end\n",
"    if a(i,4)==1 then\n",
"       b(i,4)='D'\n",
"   else\n",
"       b(i,4)=' D'''\n",
"    end\n",
"end\n",
"disp(' evaluating expression from truth table and map ')\n",
"x1=strcat([ b(1,1),b(1,2),b(1,3),b(1,4) ])\n",
"x2=strcat([ b(2,1),b(2,2),b(2,3),b(2,4) ])\n",
"x3=strcat([ b(3,1),b(3,2),b(3,3),b(3,4) ])\n",
"x4=strcat([ b(4,1),b(4,2),b(4,3),b(4,4) ])\n",
"x5=strcat([ b(5,1),b(5,2),b(5,3),b(5,4) ])\n",
"x6=strcat([ b(6,1),b(6,2),b(6,3),b(6,4) ])\n",
"x7=strcat([ b(7,1),b(7,2),b(7,3),b(7,4) ])\n",
"x8=strcat([ b(8,1),b(8,2),b(8,3),b(8,4) ])\n",
"x=([x1'+',x2'+',x3'+',x4'+',x5'+',x6'+',x7'+',x8 ])\n",
"disp(x)\n",
"//Expression is displayed//\n",
"disp('now reducing expression using boolean algebra')\n",
"disp('A''B''+A''C+ABD')\n",
""
   ]
   }
,
{
		   "cell_type": "markdown",
		   "metadata": {},
		   "source": [
			"## Example 6.12: Reduce_an_expression_using_Kmap.sce"
		   ]
		  },
  {
"cell_type": "code",
	   "execution_count": null,
	   "metadata": {
	    "collapsed": true
	   },
	   "outputs": [],
"source": [
"//Example 6-12//\n",
"//reduce expression using k-map//\n",
"clc\n",
"//clears the window//\n",
"clear\n",
"//clears all existing variables//\n",
"//Mapping the expression//\n",
"disp('       C''D'' C''D CD CD'' ')\n",
"disp('A''B''   0     0    1  1 ')\n",
"disp('AB''     0     1    1  0 ')\n",
"disp('AB       1     1    1  1 ')\n",
"disp('AB''     0     1    1  0 ')\n",
"disp(' From the map, high outputs for 2,3,5,7,9,11,12,13,14,15 ')\n",
"//given logic equation//\n",
"a=[0 0 1 0;0 0 1 1;0 1 0 1;0 1 1 1 ;1 0 0 1;1 0 1 1;1 1 0 0;1 1 0 1;1 1 1 0;1 1 1 1]\n",
"disp(a)\n",
"for i=1: 10\n",
"    if a(i,1)==1 then\n",
"       b(i,1)='A'\n",
"   else\n",
"       b(i,1)='A'''\n",
"    end\n",
"    if a(i,2)==1 then\n",
"       b(i,2)='B'\n",
"   else\n",
"       b(i,2)='B'''\n",
"    end\n",
"     if a(i,3)==1 then\n",
"       b(i,3)='C'\n",
"   else\n",
"       b(i,3)='C'''\n",
"    end\n",
"    if a(i,4)==1 then\n",
"       b(i,4)='D'\n",
"   else\n",
"       b(i,4)=' D'''\n",
"    end\n",
"end\n",
"disp(' evaluating expression from truth table and map ')\n",
"x1=strcat([ b(1,1),b(1,2),b(1,3),b(1,4) ])\n",
"x2=strcat([ b(2,1),b(2,2),b(2,3),b(2,4) ])\n",
"x3=strcat([ b(3,1),b(3,2),b(3,3),b(3,4) ])\n",
"x4=strcat([ b(4,1),b(4,2),b(4,3),b(4,4) ])\n",
"x5=strcat([ b(5,1),b(5,2),b(5,3),b(5,4) ])\n",
"x6=strcat([ b(6,1),b(6,2),b(6,3),b(6,4) ])\n",
"x7=strcat([ b(7,1),b(7,2),b(7,3),b(7,4) ])\n",
"x8=strcat([ b(8,1),b(8,2),b(8,3),b(8,4) ])\n",
"x9=strcat([ b(9,1),b(9,2),b(9,3),b(9,4) ])\n",
"x10=strcat([ b(10,1),b(10,2),b(10,3),b(10,4) ])\n",
"x=([x1'+',x2'+',x3'+',x4'+',x5'+',x6'+',x7'+',x8'+',x9'+',x10 ])\n",
"disp(x)\n",
"//Expression is displayed//\n",
"disp('now reducing expression using boolean algebra')\n",
"disp('A''B''C+BD+AB+AD')\n",
"\n",
""
   ]
   }
,
{
		   "cell_type": "markdown",
		   "metadata": {},
		   "source": [
			"## Example 6.13: Reduce_expression_by_kmap.sce"
		   ]
		  },
  {
"cell_type": "code",
	   "execution_count": null,
	   "metadata": {
	    "collapsed": true
	   },
	   "outputs": [],
"source": [
"//Example 6-13//\n",
"//reduce expression using k-map//\n",
"clc\n",
"//clears the console//\n",
"clear\n",
"//clears all existing variables//\n",
"//Mapping the expression//\n",
"disp('    B''C'' B''C BC BC'' ')\n",
"disp('A''   1     0    1  1 ')\n",
"disp('A     1     1    1  0 ')\n",
"disp(' From the map, high outputs for 0,2,3,4,5 and 7 ')\n",
"a=[0 0 0 ; 0 1 0 ; 0 1 1 ; 1 0 0 ; 1 0 1 ;1 1 1]\n",
"disp(a)\n",
"for i=1: 6\n",
"    if a(i,1)==1 then\n",
"       b(i,1)='A'\n",
"   else\n",
"       b(i,1)='A'''\n",
"    end\n",
"    if a(i,2)==1 then\n",
"       b(i,2)='B'\n",
"   else\n",
"       b(i,2)='B'''\n",
"    end\n",
"     if a(i,3)==1 then\n",
"       b(i,3)='C'\n",
"   else\n",
"       b(i,3)='C'''\n",
"    end\n",
"end\n",
"disp(' evaluating expression from truth table and map ')\n",
"x1=strcat([ b(1,1),b(1,2),b(1,3) ])\n",
"x2=strcat([ b(2,1),b(2,2),b(2,3) ])\n",
"x3=strcat([ b(3,1),b(3,2),b(3,3) ])\n",
"x4=strcat([ b(4,1),b(4,2),b(4,3) ])\n",
"x5=strcat([ b(5,1),b(5,2),b(5,3) ])\n",
"x6=strcat([ b(6,1),b(6,2),b(6,3) ])\n",
"x=([x1'+',x2'+',x3'+',x4'+',x5'+',x6])\n",
"disp(x)\n",
"//Expression is displayed//\n",
"disp('applying laws of boolean algebra')\n",
"disp('AC+A''B+B''C''')"
   ]
   }
,
{
		   "cell_type": "markdown",
		   "metadata": {},
		   "source": [
			"## Example 6.14_a: Inputs_Required.sce"
		   ]
		  },
  {
"cell_type": "code",
	   "execution_count": null,
	   "metadata": {
	    "collapsed": true
	   },
	   "outputs": [],
"source": [
"//example 6-14a//\n",
"//Number of inputs required//\n",
"clc\n",
"//clears the window//\n",
"clear\n",
"//clears all existing variables//\n",
"disp(' W=AB''D+ACD''+EF ')\n",
"disp('count AND inputs')\n",
"disp('3+3+2=8')\n",
"disp('count OR inputs')\n",
"disp('1+1+1=3')\n",
"disp('therefore total inputs=11')\n",
"//result is displayed//"
   ]
   }
,
{
		   "cell_type": "markdown",
		   "metadata": {},
		   "source": [
			"## Example 6.14_b: Inputs_required.sce"
		   ]
		  },
  {
"cell_type": "code",
	   "execution_count": null,
	   "metadata": {
	    "collapsed": true
	   },
	   "outputs": [],
"source": [
"//example 6-14b//\n",
"//Number of inputs required//\n",
"clc\n",
"//clears the window//\n",
"clear\n",
"//clears all existing variables//\n",
"disp(' X=LM+N''PQ+LM''PQ'' ')\n",
"disp('count AND inputs')\n",
"disp('2+3+4=9')\n",
"disp('count OR inputs')\n",
"disp('1+1+1=3')\n",
"disp('therefore total inputs=12')\n",
"//result is displayed//"
   ]
   }
,
{
		   "cell_type": "markdown",
		   "metadata": {},
		   "source": [
			"## Example 6.14_c: Inputs_required.sce"
		   ]
		  },
  {
"cell_type": "code",
	   "execution_count": null,
	   "metadata": {
	    "collapsed": true
	   },
	   "outputs": [],
"source": [
"//example 6-14c//\n",
"//Number of inputs required//\n",
"clc\n",
"//clears the window//\n",
"clear\n",
"//clears all existing variables//\n",
"disp(' Y=ST''U''V+STO''V+UV''+SUV+TU''V'' ')\n",
"disp('count AND inputs')\n",
"disp('4+4+2+3+3=16')\n",
"disp('count OR inputs')\n",
"disp('1+1+1+1+1=5')\n",
"disp('therefore total inputs=21')\n",
"//result is displayed//"
   ]
   }
,
{
		   "cell_type": "markdown",
		   "metadata": {},
		   "source": [
			"## Example 6.14_d: Inputs_required.sce"
		   ]
		  },
  {
"cell_type": "code",
	   "execution_count": null,
	   "metadata": {
	    "collapsed": true
	   },
	   "outputs": [],
"source": [
"//example 6-14d//\n",
"//Number of inputs required//\n",
"clc\n",
"//clears the window//\n",
"clear\n",
"//clears all existing variables//\n",
"disp(' (A+B''+C)(A''+D)(B+D'') ')\n",
"disp('count OR inputs')\n",
"disp('3+2+2=7')\n",
"disp('count AND inputs')\n",
"disp('1+1+1=3')\n",
"disp('therefore total inputs=10')\n",
"//result is displayed//"
   ]
   }
,
{
		   "cell_type": "markdown",
		   "metadata": {},
		   "source": [
			"## Example 6.15: Minimise_expression_using_mapping.sce"
		   ]
		  },
  {
"cell_type": "code",
	   "execution_count": null,
	   "metadata": {
	    "collapsed": true
	   },
	   "outputs": [],
"source": [
"//Example 6-15//\n",
"//Mapping an equation//\n",
"clc\n",
"//clears the console//\n",
"clear\n",
"//clears all existing variables//\n",
"//Mapping the expression//\n",
"disp('Z=m(2,3,6,7,9,10,12,13,14,16,18,22,26,28,29,30)')\n",
"disp('               A''                            A          ')\n",
"disp('       D''E'' D''E DE DE''            D''E'' D''E DE DE''')\n",
"disp('B''C''   0     0    1  1                1     0   0  1   ')\n",
"disp('BC''     0     0    1  1                0     0   0  1   ')\n",
"disp('BC       1     1    0  1                1     1   0  1   ')\n",
"disp('BC''     0     1    0  1                0     0   0  1   ')\n",
"disp(' From the map, high outputs for 2,3,6,7,9,10,12,13,14,16,18,22,26,28,29,30 ')\n",
"//Therefore the kmap is displayed//\n",
"a=[0 0 0 1 0;0 0 0 1 1;0 0 1 1 0;0 0 1 1 1;0 1 0 0 1;0 1 0 1 0;0 1 1 0 0;0 1 1 0 1;0 1 1 1 0;1 0 0 0 0;1 0 0 1 0;1 0 1 1 0;1 1 0 1 0;1 1 1 0 0;1 1 1 0 1;1 1 1 1 0]\n",
"disp(a)\n",
"for i=1: 16\n",
"    if a(i,1)==1 then\n",
"       b(i,1)='A'\n",
"   else\n",
"       b(i,1)='A'''\n",
"    end\n",
"    if a(i,2)==1 then\n",
"       b(i,2)='B'\n",
"   else\n",
"       b(i,2)='B'''\n",
"    end\n",
"     if a(i,3)==1 then\n",
"       b(i,3)='C'\n",
"   else\n",
"       b(i,3)='C'''\n",
"    end\n",
"    if a(i,4)==1 then\n",
"       b(i,4)='D'\n",
"   else\n",
"       b(i,4)=' D'''\n",
"    end\n",
"     if a(i,5)==1 then\n",
"       b(i,5)='E'\n",
"   else\n",
"       b(i,5)=' E'''\n",
"    end\n",
"end\n",
"disp(' evaluating expression from truth table and map ')\n",
"x1=strcat([ b(1,1),b(1,2),b(1,3),b(1,4),b(1,5) ])\n",
"x2=strcat([ b(2,1),b(2,2),b(2,3),b(2,4),b(2,5) ])\n",
"x3=strcat([ b(3,1),b(3,2),b(3,3),b(3,4),b(3,5) ])\n",
"x4=strcat([ b(4,1),b(4,2),b(4,3),b(4,4),b(4,5) ])\n",
"x5=strcat([ b(5,1),b(5,2),b(5,3),b(5,4),b(5,5) ])\n",
"x6=strcat([ b(6,1),b(6,2),b(6,3),b(6,4),b(6,5) ])\n",
"x7=strcat([ b(7,1),b(7,2),b(7,3),b(7,4),b(7,5) ])\n",
"x8=strcat([ b(8,1),b(8,2),b(8,3),b(8,4),b(8,5) ])\n",
"x9=strcat([ b(9,1),b(9,2),b(9,3),b(9,4),b(9,5) ])\n",
"x10=strcat([ b(10,1),b(10,2),b(10,3),b(10,4),b(10,5) ])\n",
"x11=strcat([ b(11,1),b(11,2),b(11,3),b(11,4),b(11,5) ])\n",
"x12=strcat([ b(12,1),b(12,2),b(12,3),b(12,4),b(12,5) ])\n",
"x13=strcat([ b(13,1),b(13,2),b(13,3),b(13,4),b(13,5) ])\n",
"x14=strcat([ b(14,1),b(14,2),b(14,3),b(14,4),b(14,5) ])\n",
"x15=strcat([ b(15,1),b(15,2),b(15,3),b(15,4),b(15,5) ])\n",
"x16=strcat([ b(16,1),b(16,2),b(16,3),b(16,4),b(16,5) ])\n",
"x=([x1'+',x2'+',x3'+',x4'+',x5'+',x6'+',x7'+',x8'+',x9'+',x10'+',x11'+',x12'+',x13'+',x14'+',x15'+',x16 ])\n",
"disp(x)\n",
"disp('Reduced expression')\n",
"disp('A''BD''E+AB''C''E''+A''B''D+BCD''+DE''')\n",
"//Expression is displayed//"
   ]
   }
,
{
		   "cell_type": "markdown",
		   "metadata": {},
		   "source": [
			"## Example 6.16: Reduce_using_mapping.sce"
		   ]
		  },
  {
"cell_type": "code",
	   "execution_count": null,
	   "metadata": {
	    "collapsed": true
	   },
	   "outputs": [],
"source": [
"//Example 6-16//\n",
"//Reduce using mapping//\n",
"clc\n",
"//clears the console//\n",
"clear\n",
"//clears all existing variables//\n",
"//Mapping the expression//\n",
"disp('Y=m(0,2,4,8,10,13,15,16,18,20,23,24,26,32,34,40,42,45,47,48,50,56,57,58,60,61)')\n",
"disp('                   B''                            B          ')\n",
"disp('           E''F'' E''F EF EF''            E''F'' E''F EF EF''')\n",
"disp('    C''D''   1     0    0  1                1     0   0  1   ')\n",
"disp('A'' CD''     1     0    0  0                1     0   1  0   ')\n",
"disp('    CD       0     1    1  0                0     0   0  0   ')\n",
"disp('    CD''     1     0    0  1                1     0   0  1   ')\n",
"disp('                                                             ')\n",
"disp('    C''D''   1     0    0  1                1     0   0  1   ')\n",
"disp('A   CD''     0     0    0  0                0     0   0  0   ')\n",
"disp('    CD       0     1    1  0                1     1   0  0   ')\n",
"disp('    CD''     1     0    0  1                1     1   0  1   ')\n",
"disp(' From the map, high outputs for 0,2,4,8,10,13,15,16,18,20,23,24,26,32,34,40,42,45,47,48,50,56,57,58,60,61 ')\n",
"//Therefore the kmap is displayed//\n",
"a=[0 0 0 0 0 0;0 0 0 0 1 0;0 0 0 1 0 0;0 0 1 0 0 0;0 0 1 0 1 0;0 0 1 1 0 1;0 0 1 1 1 1;0 1 0 0 0 0;0 1 0 0 1 0;0 1 0 1 0 0;0 1 0 1 1 1;0 1 1 0 0 0;0 1 1 0 1 0;1 0 0 0 0 0;1 0 0 0 1 0;1 0 1 0 0 0;1 0 1 0 1 0;1 0 1 1 0 1;1 0 1 1 1 1;1 1 0 0 0 0;1 1 0 0 1 0;1 1 1 0 0 0;1 1 1 0 0 1;1 1 1 0 1 0;1 1 1 1 0 0;1 1 1 1 0 1  ]\n",
"for i=1: 26\n",
"    if a(i,1)==1 then\n",
"       b(i,1)='A'\n",
"   else\n",
"       b(i,1)='A'''\n",
"    end\n",
"    if a(i,2)==1 then\n",
"       b(i,2)='B'\n",
"   else\n",
"       b(i,2)='B'''\n",
"    end\n",
"     if a(i,3)==1 then\n",
"       b(i,3)='C'\n",
"   else\n",
"       b(i,3)='C'''\n",
"    end\n",
"    if a(i,4)==1 then\n",
"       b(i,4)='D'\n",
"   else\n",
"       b(i,4)=' D'''\n",
"    end\n",
"     if a(i,5)==1 then\n",
"       b(i,5)='E'\n",
"   else\n",
"       b(i,5)=' E'''\n",
"    end\n",
"    if a(i,6)==1 then\n",
"       b(i,6)='F'\n",
"   else\n",
"       b(i,6)=' F'''\n",
"    end\n",
"end\n",
"disp(' evaluating expression from truth table and map ')\n",
"x1=strcat([ b(1,1),b(1,2),b(1,3),b(1,4),b(1,5),b(1,6) ])\n",
"x2=strcat([ b(2,1),b(2,2),b(2,3),b(2,4),b(2,5),b(2,6) ])\n",
"x3=strcat([ b(3,1),b(3,2),b(3,3),b(3,4),b(3,5),b(3,6) ])\n",
"x4=strcat([ b(4,1),b(4,2),b(4,3),b(4,4),b(4,5),b(4,6) ])\n",
"x5=strcat([ b(5,1),b(5,2),b(5,3),b(5,4),b(5,5),b(5,6) ])\n",
"x6=strcat([ b(6,1),b(6,2),b(6,3),b(6,4),b(6,5),b(6,6) ])\n",
"x7=strcat([ b(7,1),b(7,2),b(7,3),b(7,4),b(7,5),b(7,6) ])\n",
"x8=strcat([ b(8,1),b(8,2),b(8,3),b(8,4),b(8,5),b(8,6) ])\n",
"x9=strcat([ b(9,1),b(9,2),b(9,3),b(9,4),b(9,5),b(9,6) ])\n",
"x10=strcat([ b(10,1),b(10,2),b(10,3),b(10,4),b(10,5),b(10,6) ])\n",
"x11=strcat([ b(11,1),b(11,2),b(11,3),b(11,4),b(11,5),b(11,6) ])\n",
"x12=strcat([ b(12,1),b(12,2),b(12,3),b(12,4),b(12,5),b(12,6) ])\n",
"x13=strcat([ b(13,1),b(13,2),b(13,3),b(13,4),b(13,5),b(13,6) ])\n",
"x14=strcat([ b(14,1),b(14,2),b(14,3),b(14,4),b(14,5),b(14,6) ])\n",
"x15=strcat([ b(15,1),b(15,2),b(15,3),b(15,4),b(15,5),b(15,6) ])\n",
"x16=strcat([ b(16,1),b(16,2),b(16,3),b(16,4),b(16,5),b(16,6) ])\n",
"x17=strcat([ b(17,1),b(17,2),b(17,3),b(17,4),b(17,5),b(17,6) ])\n",
"x18=strcat([ b(18,1),b(18,2),b(18,3),b(18,4),b(18,5),b(18,6) ])\n",
"x19=strcat([ b(19,1),b(19,2),b(19,3),b(19,4),b(19,5),b(19,6) ])\n",
"x20=strcat([ b(20,1),b(20,2),b(20,3),b(20,4),b(20,5),b(20,6) ])\n",
"x21=strcat([ b(21,1),b(21,2),b(21,3),b(21,4),b(21,5),b(21,6) ])\n",
"x22=strcat([ b(22,1),b(22,2),b(22,3),b(22,4),b(22,5),b(22,6) ])\n",
"x23=strcat([ b(23,1),b(23,2),b(23,3),b(23,4),b(23,5),b(23,6) ])\n",
"x24=strcat([ b(24,1),b(24,2),b(24,3),b(24,4),b(24,5),b(24,6) ])\n",
"x25=strcat([ b(25,1),b(25,2),b(25,3),b(25,4),b(25,5),b(25,6) ])\n",
"x26=strcat([ b(26,1),b(26,2),b(26,3),b(26,4),b(26,5),b(26,6) ])\n",
"x=([x1'+',x2'+',x3'+',x4'+',x5'+',x6'+',x7'+',x8'+',x9'+',x10'+',x11'+',x12'+',x13'+',x14'+',x15'+',x16'+',x17'+',x18'+',x19'+',x20'+',x21'+',x22'+',x23'+',x24'+',x25'+',x26 ])\n",
"disp(x)\n",
"disp('Reduced expression')\n",
"disp('A''BC''DEF+A''C''E''F''+B''CDF+ABCE''+D''F''')\n",
"//Expression is displayed//\n",
"\n",
""
   ]
   }
,
{
		   "cell_type": "markdown",
		   "metadata": {},
		   "source": [
			"## Example 6.17: Kmap_POS_SOP.sce"
		   ]
		  },
  {
"cell_type": "code",
	   "execution_count": null,
	   "metadata": {
	    "collapsed": true
	   },
	   "outputs": [],
"source": [
"\n",
"//Example 6-17//\n",
"//reduce expression using k-map by both POS and SOP//\n",
"clc\n",
"//clears the window//\n",
"clear\n",
"//clears all existing variables//\n",
"//Mapping the expression//\n",
"disp('       C''D'' C''D CD CD'' ')\n",
"disp('A''B''   1     1    1  0 ')\n",
"disp('AB''     0     0    1  1 ')\n",
"disp('AB       0     1    1  0 ')\n",
"disp('AB''     1     1    0  0 ')\n",
"disp(' From the map, high outputs for 0,1,3,6,7,8,9,13,15 ')\n",
"disp(' From the map, low outputs for 2,4,5,10,11,12,14 ')\n",
"//given logic equation//\n",
"a=[0 0 0 0;0 0 0 1;0 0 1 1 ;0 1 1 0;0 1 1 1;1 0 0 0 ;1 0 0 1;1 1 0 1;1 1 1 1]\n",
"disp(a)\n",
"c=[0 0 1 0;0 1 0 0;0 1 0 1;1 0 1 0;1 0 1 1;1 1 0 0;1 1 1 0]\n",
"disp(c)\n",
"for i=1: 9\n",
"    if a(i,1)==1 then\n",
"       b(i,1)='A'\n",
"   else\n",
"       b(i,1)='A'''\n",
"    end\n",
"    if a(i,2)==1 then\n",
"       b(i,2)='B'\n",
"   else\n",
"       b(i,2)='B'''\n",
"    end\n",
"     if a(i,3)==1 then\n",
"       b(i,3)='C'\n",
"   else\n",
"       b(i,3)='C'''\n",
"    end\n",
"    if a(i,4)==1 then\n",
"       b(i,4)='D'\n",
"   else\n",
"       b(i,4)=' D'''\n",
"    end\n",
"end\n",
"for i=1: 7\n",
"    if c(i,1)==1 then\n",
"       d(i,1)='A'''\n",
"   else\n",
"       d(i,1)='A'\n",
"    end\n",
"    if c(i,2)==1 then\n",
"       d(i,2)='B'''\n",
"   else\n",
"       d(i,2)='B'\n",
"    end\n",
"     if c(i,3)==1 then\n",
"       d(i,3)='C'''\n",
"   else\n",
"       d(i,3)='C'\n",
"    end\n",
"    if c(i,4)==1 then\n",
"       d(i,4)='D'''\n",
"   else\n",
"       d(i,4)=' D '\n",
"    end\n",
"end\n",
"disp(' evaluating expression(minterms)from truth table and map ')\n",
"x1=strcat([ b(1,1),b(1,2),b(1,3),b(1,4) ])\n",
"x2=strcat([ b(2,1),b(2,2),b(2,3),b(2,4) ])\n",
"x3=strcat([ b(3,1),b(3,2),b(3,3),b(3,4) ])\n",
"x4=strcat([ b(4,1),b(4,2),b(4,3),b(4,4) ])\n",
"x5=strcat([ b(5,1),b(5,2),b(5,3),b(5,4) ])\n",
"x6=strcat([ b(6,1),b(6,2),b(6,3),b(6,4) ])\n",
"x7=strcat([ b(7,1),b(7,2),b(7,3),b(7,4) ])\n",
"x8=strcat([ b(8,1),b(8,2),b(8,3),b(8,4) ])\n",
"x9=strcat([ b(9,1),b(9,2),b(9,3),b(9,4) ])\n",
"x=([x1'+',x2'+',x3'+',x4'+',x5'+',x6'+',x7'+',x8'+',x9 ])\n",
"disp(x)\n",
"disp(' evaluating expression(maxterms)from truth table and map ')\n",
"disp(' (A+B+C''+D).(A+B''+C+D).(A+B''+C+D'').(A''+B+C''+D).(A''+B+C''+D'').(A''+B''+C+D).(A''+B''+C''+D) ')\n",
"//Expression is displayed//\n",
"disp('now reducing expression using boolean algebra')\n",
"disp('SOP- B''C''+A''B''D+A''BC+ABD      ie 15 inputs')\n",
"disp('POS- (B+C''+D)(A''+B''+D)(A+B''+C)(A''+B+C'')   ie 16 inputs')\n",
"disp('Therefore SOP form is less expensive')"
   ]
   }
,
{
		   "cell_type": "markdown",
		   "metadata": {},
		   "source": [
			"## Example 6.18: Minimise_expression.sce"
		   ]
		  },
  {
"cell_type": "code",
	   "execution_count": null,
	   "metadata": {
	    "collapsed": true
	   },
	   "outputs": [],
"source": [
"//Example 6-18//\n",
"//Minimise an expression//\n",
"clc\n",
"//clears the console//\n",
"clear\n",
"//clears all existing variables//\n",
"//Mapping the expression//\n",
"disp('Y=m(2,3,4,5,6,7,12,13,14,15,18,19,20,21,22,23,28,29,30,31)')\n",
"disp('               A''                            A          ')\n",
"disp('       D''E'' D''E DE DE''            D''E'' D''E DE DE''')\n",
"disp('B''C''   0     0    1  1                0     0   1  1   ')\n",
"disp('BC''     1     1    1  1                1     1   1  1   ')\n",
"disp('BC       1     1    1  1                1     1   1  1   ')\n",
"disp('BC''     0     0    0  0                0     0   0  0   ')\n",
"disp(' From the map, high outputs for 2,3,4,5,6,7,12,13,14,15,18,19,20,21,22,23,28,29,30,31')\n",
"//Therefore the kmap is displayed//\n",
"disp('Therefore the minimum expression is:')\n",
"disp('Y=C+B''D')\n",
"//result is displayed//"
   ]
   }
,
{
		   "cell_type": "markdown",
		   "metadata": {},
		   "source": [
			"## Example 6.19: Reduce_kmap_by_POS.sce"
		   ]
		  },
  {
"cell_type": "code",
	   "execution_count": null,
	   "metadata": {
	    "collapsed": true
	   },
	   "outputs": [],
"source": [
"\n",
"//Example 6-19//\n",
"//reduce expression using k-map by finding POS//\n",
"clc\n",
"//clears the window//\n",
"clear\n",
"//clears all existing variables//\n",
"//Mapping the expression//\n",
"disp('       C''D'' C''D CD CD'' ')\n",
"disp('A''B''   0     0    0  1 ')\n",
"disp('AB''     1     0    0  0 ')\n",
"disp('AB       1     1    0  0 ')\n",
"disp('AB''     1     1    1  0 ')\n",
"disp(' From the map, low outputs for 0,1,3,5,6,7,10,14,15')\n",
"//given logic equation//\n",
"c=[0 0 0 0;0 0 0 1;0 0 1 1;0 1 0 1;0 1 1 0;0 1 1 1;1 0 1 0;1 1 1 0;1 1 1 1]\n",
"disp(c)\n",
"for i=1: 9\n",
"    if c(i,1)==1 then\n",
"       d(i,1)='A'''\n",
"   else\n",
"       d(i,1)='A'\n",
"    end\n",
"    if c(i,2)==1 then\n",
"       d(i,2)='B'''\n",
"   else\n",
"       d(i,2)='B'\n",
"    end\n",
"     if c(i,3)==1 then\n",
"       d(i,3)='C'''\n",
"   else\n",
"       d(i,3)='C'\n",
"    end\n",
"    if c(i,4)==1 then\n",
"       d(i,4)='D'''\n",
"   else\n",
"       d(i,4)=' D '\n",
"    end\n",
"end\n",
"disp(' evaluating expression from truth table and map')\n",
"l=strcat([ d(1,1),d(1,2),d(1,3),d(1,4)])\n",
"m=strcat([ d(2,1),d(2,2),d(2,3),d(2,4)])\n",
"n=strcat([ d(3,1),d(3,2),d(3,3),d(3,4)])\n",
"o=strcat([ d(4,1),d(4,2),d(4,3),d(4,4)])\n",
"x=strcat([l'+',m'+',n'+',o ])\n",
"disp('the sum of product expression is:')\n",
"disp(x)\n",
"disp('Reading the SOP form')\n",
"disp(' A''B''CD''+BC''D''+AB''D+AC'' ')\n",
"//Expression is displayed//\n",
"disp('now reducing expression using boolean algebra from POS')\n",
"disp(' (A+B+C)(A''+C''+D)(A+D'')(B''+C'') ')\n",
"disp('POS has 14 inputs,SOP has 16 inputs')\n",
"disp('Therefore,POS form is less expensive')"
   ]
   }
,
{
		   "cell_type": "markdown",
		   "metadata": {},
		   "source": [
			"## Example 6.1: Convert_A_plus_B_to_minterms.sce"
		   ]
		  },
  {
"cell_type": "code",
	   "execution_count": null,
	   "metadata": {
	    "collapsed": true
	   },
	   "outputs": [],
"source": [
"//Example 6-1//\n",
"//convert A+B to minterms//\n",
"clc\n",
"//clears the console//\n",
"clear\n",
"//clears all existing variables//\n",
"//conversion to minterms//\n",
"disp(' Given expression- A+B  ')\n",
"disp(' on solving ')\n",
"disp(' A(B+B'')+B(A+A'') ')\n",
"disp('multiplying')\n",
"disp(' AB+AB''+AB+A''B  ')\n",
"disp('we know A+A=A')\n",
"disp(' AB+AB''+A''B  ')\n",
"//final result is displayed//"
   ]
   }
,
{
		   "cell_type": "markdown",
		   "metadata": {},
		   "source": [
			"## Example 6.20: Find_minimum_of_expression.sce"
		   ]
		  },
  {
"cell_type": "code",
	   "execution_count": null,
	   "metadata": {
	    "collapsed": true
	   },
	   "outputs": [],
"source": [
"//Example 6-20//\n",
"//Find minimum of expression//\n",
"clc\n",
"//clears the console//\n",
"clear\n",
"//clears all existing variables//\n",
"//Mapping the expression//\n",
"disp('Y=M(0,1,9,10,11,13,14,15,16,17,22,23,26,27)')\n",
"disp('               A''                            A          ')\n",
"disp('       D''E'' D''E DE DE''            D''E'' D''E DE DE''')\n",
"disp('B''C''   0     0    1  1                0     0   1  1   ')\n",
"disp('BC''     1     1    1  1                1     1   0  0   ')\n",
"disp('BC       1     0    0  0                1     1   1  1   ')\n",
"disp('BC''     1     0    0  0                1     1   0  0   ')\n",
"disp(' From the map, high outputs for 0,1,9,10,11,13,14,15,16,17,22,23,26,27 ')\n",
"//Therefore the kmap is displayed//\n",
"disp('The SOP of expression is:')\n",
"disp('Y=B''C''D+A''B''C+ABC+BD''E''+ACD''+ABD''')\n",
"disp('24 inputs')\n",
"disp('The POS of expression is:')\n",
"disp('Y=(B+C+D)(B''+C+D'')(A''+B+C+D)(A+B''+E'')(A+B''+D'')')\n",
"disp('21 inputs')\n",
"disp('Therefore POS form is the minimum expression')\n",
"//result is displayed//"
   ]
   }
,
{
		   "cell_type": "markdown",
		   "metadata": {},
		   "source": [
			"## Example 6.24: Multiple_output_equation_using_mapping.sce"
		   ]
		  },
  {
"cell_type": "code",
	   "execution_count": null,
	   "metadata": {
	    "collapsed": true
	   },
	   "outputs": [],
"source": [
"//Example 6-24//\n",
"//Solve multiple output equation using mapping//\n",
"clc\n",
"//clears the window//\n",
"clear\n",
"//clears all existing variables//\n",
"disp('f1=Sigma m(0,1,2,4,6,7,10,14,15)')\n",
"//First function is displayed//\n",
"disp('f2=Sigma m(3,4,5,9,10,11,14) ')\n",
"//Second function is displayed//\n",
"disp('f1.f2=Sigma m(4,10,14)')\n",
"//Taking the common entries//\n",
"disp('Mapping for f1.f2')\n",
"disp('       C''D'' C''D CD CD'' ')\n",
"disp('A''B''   0     0    0  0 ')\n",
"disp('AB''     1     0    0  0 ')\n",
"disp('AB       0     0    0  1 ')\n",
"disp('AB''     0     0    0  1 ')\n",
"disp(' From the map, high outputs for 4,10,14')\n",
"//given logic equation//\n",
"a=[0 1 0 0;1 0 1 0;1 1 1 0]\n",
"disp(a)\n",
"for i=1: 3\n",
"    if a(i,1)==1 then\n",
"       b(i,1)='A'\n",
"   else\n",
"       b(i,1)='A'''\n",
"    end\n",
"    if a(i,2)==1 then\n",
"       b(i,2)='B'\n",
"   else\n",
"       b(i,2)='B'''\n",
"    end\n",
"     if a(i,3)==1 then\n",
"       b(i,3)='C'\n",
"   else\n",
"       b(i,3)='C'''\n",
"    end\n",
"    if a(i,4)==1 then\n",
"       b(i,4)='D'\n",
"   else\n",
"       b(i,4)=' D'' '\n",
"    end\n",
"end\n",
"disp(' evaluating expression from truth table and map ')\n",
"l=strcat([ b(1,1),b(1,2),b(1,3),b(1,4)])\n",
"m=strcat([ b(2,1),b(2,2),b(2,3),b(2,4)])\n",
"n=strcat([ b(3,1),b(3,2),b(3,3),b(3,4)])\n",
"x=strcat([l'+',m'+',n])\n",
"disp(x)\n",
"//Expression is displayed//\n",
"disp('now reducing expression using boolean algebra')\n",
"disp('ACD''+A''BC''D''')"
   ]
   }
,
{
		   "cell_type": "markdown",
		   "metadata": {},
		   "source": [
			"## Example 6.25: Multiple_output_equation_using_mapping.sce"
		   ]
		  },
  {
"cell_type": "code",
	   "execution_count": null,
	   "metadata": {
	    "collapsed": true
	   },
	   "outputs": [],
"source": [
"//Example 6-25//\n",
"//Solve multiple output equation using mapping//\n",
"clc\n",
"//clears the window//\n",
"clear\n",
"//clears all existing variables//\n",
"disp('f1=Sigma m(2,3,7,10,11,14)+d(1,5,15)')\n",
"//First function is displayed//\n",
"disp('f2=Sigma m(0,1,4,7,13,15)+d(5,8,15) ')\n",
"//Second function is displayed//\n",
"disp('f1.f2=Sigma m(1,7,14)+d(5,15)')\n",
"//Taking the common entries//\n",
"disp('Mapping for f1.f2')\n",
"disp('       C''D'' C''D CD CD'' ')\n",
"disp('A''B''   0     1    0  0 ')\n",
"disp('AB''     0     X    1  0 ')\n",
"disp('AB       0     0    X  1 ')\n",
"disp('AB''     0     0    0  0 ')\n",
"disp(' From the map, high outputs for 1,7,14 and dont cares for 5,15')\n",
"//given logic equation//\n",
"a=[0 0 0 1;0 1 0 1;0 1 1 1;1 1 1 0;1 1 1 1]\n",
"disp(a)\n",
"for i=1: 5\n",
"    if a(i,1)==1 then\n",
"       b(i,1)='A'\n",
"   else\n",
"       b(i,1)='A'''\n",
"    end\n",
"    if a(i,2)==1 then\n",
"       b(i,2)='B'\n",
"   else\n",
"       b(i,2)='B'''\n",
"    end\n",
"     if a(i,3)==1 then\n",
"       b(i,3)='C'\n",
"   else\n",
"       b(i,3)='C'''\n",
"    end\n",
"    if a(i,4)==1 then\n",
"       b(i,4)='D'\n",
"   else\n",
"       b(i,4)=' D'' '\n",
"    end\n",
"end\n",
"disp(' evaluating expression from truth table and map ')\n",
"l=strcat([ b(1,1),b(1,2),b(1,3),b(1,4)])\n",
"m=strcat([ b(2,1),b(2,2),b(2,3),b(2,4)])\n",
"n=strcat([ b(3,1),b(3,2),b(3,3),b(3,4)])\n",
"o=strcat([ b(4,1),b(4,2),b(4,3),b(4,4)])\n",
"p=strcat([ b(5,1),b(5,2),b(5,3),b(5,4)])\n",
"x=strcat([l'+',m'+',n'+',o'+',p ])\n",
"disp(x)\n",
"//Expression is displayed//\n",
"disp('now reducing expression using boolean algebra')\n",
"disp('ABC+A''C''D+A''BD')\n",
""
   ]
   }
,
{
		   "cell_type": "markdown",
		   "metadata": {},
		   "source": [
			"## Example 6.26: Reduce_by_variable_mapping.sce"
		   ]
		  },
  {
"cell_type": "code",
	   "execution_count": null,
	   "metadata": {
	    "collapsed": true
	   },
	   "outputs": [],
"source": [
"//Example 6-26//\n",
"//Reduce by Variable Mapping//\n",
"clc\n",
"//clears the console//\n",
"clear\n",
"//clears all existing variables//\n",
"disp('M=A''B''CD''+A''B''CD+AB''CD''+AB''CD+A''BCD+A''BC''D''+ABC''D+ABC''D''')\n",
"disp('Converting the 4 variable minterms to 3 variable minterms')\n",
"disp(' M=m1D''+m1D+m5D''+m5D+m3D+m3D''+m6D+m6D''+m2D''')\n",
"disp('using D+D''=1')\n",
"disp('Result M= B''C+A''CD+BC''D''+ABC''')\n",
"//final expression is displayed//"
   ]
   }
,
{
		   "cell_type": "markdown",
		   "metadata": {},
		   "source": [
			"## Example 6.27: Reduce_by_variable_mapping.sce"
		   ]
		  },
  {
"cell_type": "code",
	   "execution_count": null,
	   "metadata": {
	    "collapsed": true
	   },
	   "outputs": [],
"source": [
"//Example 6-27//\n",
"//Reduce by Variable Mapping//\n",
"clc\n",
"//clears the console//\n",
"clear\n",
"//clears all existing variables//\n",
"disp('Z=A''B''CDE+A''BC''DE''+A''BCD+AB''CD''F+ABC''D''+ABCD''')\n",
"disp('Converting the 6 variable minterms to 4 variable minterms')\n",
"disp('m7-E+E'';m14-F+F''')\n",
"disp('Result Z= A''CDE+A''BDE''+ABD''+ACD''F')\n",
"//final expression is displayed//"
   ]
   }
,
{
		   "cell_type": "markdown",
		   "metadata": {},
		   "source": [
			"## Example 6.28: Solve_using_3_variable_mapping.sce"
		   ]
		  },
  {
"cell_type": "code",
	   "execution_count": null,
	   "metadata": {
	    "collapsed": true
	   },
	   "outputs": [],
"source": [
"//Example 6-28//\n",
"//Solve using 3 Variable Mapping//\n",
"clc\n",
"//clears the console//\n",
"clear\n",
"//clears all existing variables//\n",
"disp('W=Dm2+m6+Dm5+d(m1+D''m7)')\n",
"disp('Dm5 combined with XDm1 ')\n",
"disp('Dm2 combined with Dm6')\n",
"disp('D''m6 combined either with Dm6 or XD''m7')\n",
"disp('Result W=B''CD+ABD''+BC''D ')\n",
"//final expression is displayed//"
   ]
   }
,
{
		   "cell_type": "markdown",
		   "metadata": {},
		   "source": [
			"## Example 6.29: Reduce_by_mapping.sce"
		   ]
		  },
  {
"cell_type": "code",
	   "execution_count": null,
	   "metadata": {
	    "collapsed": true
	   },
	   "outputs": [],
"source": [
"//Example 6-29//\n",
"//Reduce by Mapping//\n",
"clc\n",
"//clears the console//\n",
"clear\n",
"//clears all existing variables//\n",
"disp('R=m0+(E+G)m2+E''m5+Gm10+Fm13+m14+m15+d(m1+Em4+F''m8+F''m9)')\n",
"disp('Converting the 7 variable minterms to 4 variable minterms')\n",
"disp('Em2 covers Em0')\n",
"disp('E''m0 combines with m1')\n",
"disp('Result R=A''B''D''E+A''B''C''+B''CD''G+ABDF+ABC ')\n",
"//final expression is displayed//\n",
""
   ]
   }
,
{
		   "cell_type": "markdown",
		   "metadata": {},
		   "source": [
			"## Example 6.2: Find_minterms_for_A_plus_BC.sce"
		   ]
		  },
  {
"cell_type": "code",
	   "execution_count": null,
	   "metadata": {
	    "collapsed": true
	   },
	   "outputs": [],
"source": [
"//Example 6-2//\n",
"//find minterms for A+BC//\n",
"clc\n",
"//clears the console//\n",
"clear\n",
"//clears all existing variables//\n",
"//conversion to minterms//\n",
"disp('Given expression- A+BC ')\n",
"disp(' on solving ')\n",
"disp(' A(B+B'')(C+C'')+BC(A+A'')  ')\n",
"disp(' (AB+AB'')(C+C'')+BCA+BCA''  ')\n",
"disp('multiplying')\n",
"disp(' C''AB+AB''C+AB''C+AB''C''+BCA+BCA'' ')\n",
"//final result is displayed//"
   ]
   }
,
{
		   "cell_type": "markdown",
		   "metadata": {},
		   "source": [
			"## Example 6.30: Reducing_expression_by_Kmap.sce"
		   ]
		  },
  {
"cell_type": "code",
	   "execution_count": null,
	   "metadata": {
	    "collapsed": true
	   },
	   "outputs": [],
"source": [
"//Example 6-30//\n",
"//reduce expression using k-map//\n",
"clc\n",
"//clears the window//\n",
"clear\n",
"//clears all existing variables//\n",
"//Mapping the expression//\n",
"disp('       C''D'' C''D CD CD'' ')\n",
"disp('A''B''   1     0    1  1 ')\n",
"disp('AB''     0     0    1  1 ')\n",
"disp('AB       0     1    0  0 ')\n",
"disp('AB''     1     1    0  1 ')\n",
"disp(' From the map, high outputs for 0,2,3,6,7,8,9,10,13 ')\n",
"//given logic equation//\n",
"a=[0 0 0 0;0 0 1 0;0 0 1 1 ;0 1 1 0;0 1 1 1;1 0 0 0 ;1 0 0 1;1 0 1 0;1 1 0 1]\n",
"disp(a)\n",
"for i=1: 9\n",
"    if a(i,1)==1 then\n",
"       b(i,1)='A'\n",
"   else\n",
"       b(i,1)='A'''\n",
"    end\n",
"    if a(i,2)==1 then\n",
"       b(i,2)='B'\n",
"   else\n",
"       b(i,2)='B'''\n",
"    end\n",
"     if a(i,3)==1 then\n",
"       b(i,3)='C'\n",
"   else\n",
"       b(i,3)='C'''\n",
"    end\n",
"    if a(i,4)==1 then\n",
"       b(i,4)='D'\n",
"   else\n",
"       b(i,4)=' D'''\n",
"    end\n",
"end\n",
"disp(' evaluating expression from truth table and map ')\n",
"x1=strcat([ b(1,1),b(1,2),b(1,3),b(1,4) ])\n",
"x2=strcat([ b(2,1),b(2,2),b(2,3),b(2,4) ])\n",
"x3=strcat([ b(3,1),b(3,2),b(3,3),b(3,4) ])\n",
"x4=strcat([ b(4,1),b(4,2),b(4,3),b(4,4) ])\n",
"x5=strcat([ b(5,1),b(5,2),b(5,3),b(5,4) ])\n",
"x6=strcat([ b(6,1),b(6,2),b(6,3),b(6,4) ])\n",
"x7=strcat([ b(7,1),b(7,2),b(7,3),b(7,4) ])\n",
"x8=strcat([ b(8,1),b(8,2),b(8,3),b(8,4) ])\n",
"x9=strcat([ b(9,1),b(9,2),b(9,3),b(9,4) ])\n",
"x=([x1'+',x2'+',x3'+',x4'+',x5'+',x6'+',x7'+',x8'+',x9 ])\n",
"disp(x)\n",
"//Expression is displayed//\n",
"disp('now reducing expression using boolean algebra')\n",
"disp('B''D''+A''C+AC''D')"
   ]
   }
,
{
		   "cell_type": "markdown",
		   "metadata": {},
		   "source": [
			"## Example 6.3: Find_minterms_for_AB_plus_ACD.sce"
		   ]
		  },
  {
"cell_type": "code",
	   "execution_count": null,
	   "metadata": {
	    "collapsed": true
	   },
	   "outputs": [],
"source": [
"//Example 6-3//\n",
"//find minterms for AB+ACD//\n",
"clc\n",
"//clears the window//\n",
"clear\n",
"//clears all existing variables//\n",
"//conversion to minterms//\n",
"disp(' Given expression- AB+ACD ')\n",
"disp(' on solving ')\n",
"disp(' AB(C+C'')(D+D'')+ACD(B+B'') ')\n",
"disp('multiplying')\n",
"disp(' ABCD+ABC''D''+ABC''D+ABCD''+AB''CD+ABCD  ')\n",
"disp('we know A+A=A')\n",
"disp(' ABC''D''+ABC''D+ABCD''+AB''CD+ABCD  ')\n",
"//result is displayed//"
   ]
   }
,
{
		   "cell_type": "markdown",
		   "metadata": {},
		   "source": [
			"## Example 6.4: Minterm_designation.sce"
		   ]
		  },
  {
"cell_type": "code",
	   "execution_count": null,
	   "metadata": {
	    "collapsed": true
	   },
	   "outputs": [],
"source": [
"//Example 6-4//\n",
"//minterm designation of AB''C''D''//\n",
"clc\n",
"//clears the window//\n",
"clear\n",
"//clears all existing variables//\n",
"disp('copy original term')\n",
"disp(' AB''C''D''  ')\n",
"disp(' substitute ones for nonbarred letters and zeroes for barred letters ')\n",
"disp('after substitution')\n",
"disp(' 1000 ')\n",
"a=bin2dec('1000')\n",
"disp('the decimal equivalent of 1000 is:')\n",
"disp(a)\n",
"disp(' Therefore decimal subscript of m is 8 ')\n",
"disp(' AB''C''D'' = m8  ')\n",
"//result is displayed//"
   ]
   }
,
{
		   "cell_type": "markdown",
		   "metadata": {},
		   "source": [
			"## Example 6.5: Minterm_designation.sce"
		   ]
		  },
  {
"cell_type": "code",
	   "execution_count": null,
	   "metadata": {
	    "collapsed": true
	   },
	   "outputs": [],
"source": [
"//Example 6-5//\n",
"//minterm designation of W''X''YZ''//\n",
"clc\n",
"//clears the window//\n",
"clear\n",
"//clears all existing variables//\n",
"disp('copy original term')\n",
"disp(' W''X''YZ''  ')\n",
"disp(' substitute ones for nonbarred letters and zeroes for barred letters ')\n",
"disp('after substitution')\n",
"disp(' 0010 ')\n",
"a=bin2dec('0010')\n",
"disp('therefore the decimal equivalent of 0010 is:')\n",
"disp(a)\n",
"disp(' Therefore decimal subscript of m is 2 ')\n",
"disp(' W''X''YZ'' = m2  ')\n",
"//result is displayed//"
   ]
   }
,
{
		   "cell_type": "markdown",
		   "metadata": {},
		   "source": [
			"## Example 6.6: 2_variable_mapping.sce"
		   ]
		  },
  {
"cell_type": "code",
	   "execution_count": null,
	   "metadata": {
	    "collapsed": true
	   },
	   "outputs": [],
"source": [
"//Example 6-6//\n",
"//map C=A''B''+AB''//\n",
"clc\n",
"//clears the console//\n",
"clear\n",
"//clears all existing variables//\n",
"//Mapping the expression//\n",
"disp('    B'' B ')\n",
"disp('A'' 1   0 ')\n",
"disp('A   1   0  ')\n",
"disp(' From the map, high outputs for 0 and 2 ')\n",
"a=[0 0 ; 1 0]\n",
"disp(a)\n",
"for i=1: 2\n",
"    if a(i,1)==1 then\n",
"       b(i,1)='A'\n",
"   else\n",
"       b(i,1)='A'''\n",
"    end\n",
"    if a(i,2)==1 then\n",
"       b(i,2)='B'\n",
"   else\n",
"       b(i,2)='B'''\n",
"    end\n",
"end\n",
"m=strcat([b(1,1),b(1,2)])\n",
"n=strcat([b(2,1),b(2,2)])\n",
"disp(' evaluating expression from truth table and map ')\n",
"x=strcat([m'+',n]);\n",
"disp(x)\n",
"//Expression is displayed//"
   ]
   }
,
{
		   "cell_type": "markdown",
		   "metadata": {},
		   "source": [
			"## Example 6.7: 3_variable_mapping.sce"
		   ]
		  },
  {
"cell_type": "code",
	   "execution_count": null,
	   "metadata": {
	    "collapsed": true
	   },
	   "outputs": [],
"source": [
"//Example 6-7//\n",
"//Map X=ABC+AB''C+AB''C''//\n",
"clc\n",
"//clears the console//\n",
"clear\n",
"//clears all existing variables//\n",
"//Mapping the expression//\n",
"disp('    B''C'' B''C BC BC'' ')\n",
"disp('A''   0     0    0  0 ')\n",
"disp('A     1     1    1  0 ')\n",
"disp(' From the map, high outputs for 4,5 and 7 ')\n",
"a=[1 0 0 ; 1 0 1 ; 1 1 1]\n",
"disp(a)\n",
"for i=1: 3\n",
"    if a(i,1)==1 then\n",
"       b(i,1)='A'\n",
"   else\n",
"       b(i,1)='A'''\n",
"    end\n",
"    if a(i,2)==1 then\n",
"       b(i,2)='B'\n",
"   else\n",
"       b(i,2)='B'''\n",
"    end\n",
"     if a(i,3)==1 then\n",
"       b(i,3)='C'\n",
"   else\n",
"       b(i,3)='C'''\n",
"    end\n",
"end\n",
"disp(' evaluating expression from truth table and map ')\n",
"l=strcat([ b(1,1),b(1,2),b(1,3)])\n",
"m=strcat([ b(2,1),b(2,2),b(2,3)])\n",
"n=strcat([ b(3,1),b(3,2),b(3,3)])\n",
"x=strcat([l'+',m'+',n ])\n",
"disp(x)\n",
"//Expression is displayed//"
   ]
   }
,
{
		   "cell_type": "markdown",
		   "metadata": {},
		   "source": [
			"## Example 6.8: Mapping_an_expression.sce"
		   ]
		  },
  {
"cell_type": "code",
	   "execution_count": null,
	   "metadata": {
	    "collapsed": true
	   },
	   "outputs": [],
"source": [
"//Example 6-8//\n",
"//Mapping an equation//\n",
"clc\n",
"//clears the console//\n",
"clear\n",
"//clears all existing variables//\n",
"//Mapping the expression//\n",
"disp('Z=m(9,20,21,29,30,31)')\n",
"disp('               A''                            A          ')\n",
"disp('       D''E'' D''E DE DE''            D''E'' D''E DE DE''')\n",
"disp('B''C''   0     0    0  0                0     0   0  0   ')\n",
"disp('BC''     0     0    0  0                1     1   0  0   ')\n",
"disp('BC       0     0    0  0                0     1   1  1   ')\n",
"disp('BC''     0     1    0  0                0     0   0  0   ')\n",
"disp(' From the map, high outputs for 9,20,21,29,30,31')\n",
"//Therefore the kmap is displayed//"
   ]
   }
,
{
		   "cell_type": "markdown",
		   "metadata": {},
		   "source": [
			"## Example 6.9: Mapping_an_expression.sce"
		   ]
		  },
  {
"cell_type": "code",
	   "execution_count": null,
	   "metadata": {
	    "collapsed": true
	   },
	   "outputs": [],
"source": [
"//Example 6-8//\n",
"//Mapping an equation//\n",
"clc\n",
"//clears the console//\n",
"clear\n",
"//clears all existing variables//\n",
"//Mapping the expression//\n",
"disp('Z=m(0,1,3,5,7,10,11,21,22,23,24,26,30,32,34,35,40,41,46,47,50,51,52,60,61)')\n",
"disp('                   B''                            B          ')\n",
"disp('           E''F'' E''F EF EF''            E''F'' E''F EF EF''')\n",
"disp('    C''D''   1     1    1  0                0     0   0  0   ')\n",
"disp('A'' CD''     0     1    1  0                0     1   1  1   ')\n",
"disp('    CD       0     0    0  0                0     0   0  1   ')\n",
"disp('    CD''     0     0    1  1                1     0   0  1   ')\n",
"disp('                                                             ')\n",
"disp('    C''D''   1     0    1  1                0     0   1  1   ')\n",
"disp('A   CD''     0     0    0  0                1     0   0  0   ')\n",
"disp('    CD       0     0    1  1                1     1   0  0   ')\n",
"disp('    CD''     1     1    0  0                0     0   0  0   ')\n",
"disp(' From the map, high outputs for 0,1,3,5,7,10,11,21,22,23,24,26,30,32,34,35,40,41,46,47,50,51,52,60,61 ')\n",
"//Therefore the kmap is displayed//"
   ]
   }
],
"metadata": {
		  "kernelspec": {
		   "display_name": "Scilab",
		   "language": "scilab",
		   "name": "scilab"
		  },
		  "language_info": {
		   "file_extension": ".sce",
		   "help_links": [
			{
			 "text": "MetaKernel Magics",
			 "url": "https://github.com/calysto/metakernel/blob/master/metakernel/magics/README.md"
			}
		   ],
		   "mimetype": "text/x-octave",
		   "name": "scilab",
		   "version": "0.7.1"
		  }
		 },
		 "nbformat": 4,
		 "nbformat_minor": 0
}
