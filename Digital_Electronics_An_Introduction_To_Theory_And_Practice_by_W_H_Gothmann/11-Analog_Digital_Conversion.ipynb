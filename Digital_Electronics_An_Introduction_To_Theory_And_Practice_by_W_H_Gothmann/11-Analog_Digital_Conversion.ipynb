{
"cells": [
 {
		   "cell_type": "markdown",
	   "metadata": {},
	   "source": [
       "# Chapter 11: Analog Digital Conversion"
	   ]
	},
{
		   "cell_type": "markdown",
		   "metadata": {},
		   "source": [
			"## Example 11.1: Percentage_resolution_of_5bit_DA_converter.sce"
		   ]
		  },
  {
"cell_type": "code",
	   "execution_count": null,
	   "metadata": {
	    "collapsed": true
	   },
	   "outputs": [],
"source": [
"//Example 11-1//\n",
"// % Resolution of a five bit D/A converter//\n",
"clc\n",
"//clears the console//\n",
"clear\n",
"//clears all existing variables//\n",
"n=5\n",
"//here n is the number of bits//\n",
"disp('Max number that can be represented using 5 bits is the binary number 11111 ie 31 in decimal form ')\n",
"pres=(1/((2^n)-1))*100\n",
"//pres denotes the percent resolution//\n",
"disp(' Therefore the percent resolution of the 5 bit D/A converter is : ')\n",
"disp(pres)\n",
"//answer is displayed//"
   ]
   }
,
{
		   "cell_type": "markdown",
		   "metadata": {},
		   "source": [
			"## Example 11.2: 6_bit_analog_to_digital_converter.sce"
		   ]
		  },
  {
"cell_type": "code",
	   "execution_count": null,
	   "metadata": {
	    "collapsed": true
	   },
	   "outputs": [],
"source": [
"//Example 11-2//\n",
"clc\n",
"//clears the console//\n",
"clear\n",
"//clears all existing variables//\n",
"n=6\n",
"mpsv=20\n",
"//n denotes the number of bits,mpsv denotes the max. precision supply voltage//\n",
"disp('Each bit represents 1/(2^6)-1 of the total 20V ')\n",
"E1=(1/63)*20\n",
"//given a binary number 100110 whose voltage value is to be found//\n",
"a=100110\n",
"b=bin2dec('100110')\n",
"E2=(b/((2^6)-1))*20\n",
"disp('The voltage change that each LSB represents is: ')\n",
"disp(E1)\n",
"disp('The voltage that the binary number 100110 represents is: ')\n",
"disp(E2)\n",
"//answers are displayed//"
   ]
   }
,
{
		   "cell_type": "markdown",
		   "metadata": {},
		   "source": [
			"## Example 11.3: Compute_the_gain_of_an_Opamp.sce"
		   ]
		  },
  {
"cell_type": "code",
	   "execution_count": null,
	   "metadata": {
	    "collapsed": true
	   },
	   "outputs": [],
"source": [
"//Example 11-3//\n",
"//compute gain of an op-amp//\n",
"clc\n",
"//clears the console//\n",
"clear\n",
"//clears all existing variables//\n",
"Rf=40\n",
"Rs=5\n",
"Ein=3.2\n",
"//Given the resistance values in kilo ohms and the input voltage in volts//\n",
"Av=Rf/Rs\n",
"//Av denotes the gain of the op-amp//\n",
"Eo=Av*Ein\n",
"//Eo denotes the output voltage//\n",
"disp('The voltage gain of the given op-amp is: ')\n",
"disp(Av)\n",
"disp('The output voltage of the opamp in volts is: ')\n",
"disp(Eo)\n",
"//results are displayed//"
   ]
   }
,
{
		   "cell_type": "markdown",
		   "metadata": {},
		   "source": [
			"## Example 11.4: Compute_the_output_voltage.sce"
		   ]
		  },
  {
"cell_type": "code",
	   "execution_count": null,
	   "metadata": {
	    "collapsed": true
	   },
	   "outputs": [],
"source": [
"//Example 11-4//\n",
"//compute output voltage for circuit in fig 11-12//\n",
"clc\n",
"//clears the window//\n",
"clear\n",
"//clears all existing varibles//\n",
"R1=10\n",
"R2=10\n",
"R3=10\n",
"Rf=10\n",
"E1=3\n",
"E2=-2\n",
"E3=-4\n",
"//Given all the resistance values in kilo ohms and the voltages in volts at the inputs//\n",
"disp('the current throught resistor R1 in milli amps is: ')\n",
"I1=E1/R1\n",
"disp(I1)\n",
"disp('the current throught resistor R2 in milli amps is: ')\n",
"I2=E2/R2\n",
"disp(I2)\n",
"disp('the current throught resistor R3 in milli amps is: ')\n",
"I3=E3/R3\n",
"disp(I3)\n",
"Eo=-(I1+I2+I3)*Rf\n",
"//Eo denotes the output voltage//\n",
"disp('The output voltage in volts of the circuit is: ')\n",
"disp(Eo)\n",
"//answer is displayed//"
   ]
   }
,
{
		   "cell_type": "markdown",
		   "metadata": {},
		   "source": [
			"## Example 11.5: Compute_output_voltage.sce"
		   ]
		  },
  {
"cell_type": "code",
	   "execution_count": null,
	   "metadata": {
	    "collapsed": true
	   },
	   "outputs": [],
"source": [
"//Example 11-5//\n",
"//compute output voltage for the circuit in fig. 11-13//\n",
"clc\n",
"//clears the console//\n",
"clear\n",
"//clears all existing variables//\n",
"disp('switch configuration ABCD is 0110 ')\n",
"E=8\n",
"RA=1\n",
"RB=2\n",
"RC=4\n",
"RD=8\n",
"Rf=1\n",
"//Given all the resistance values in kilo ohms and the common voltage E in volts//\n",
"disp('the current throught resistor RA in milli amps is: ')\n",
"IA=0\n",
"//switch A is open//\n",
"disp(IA)\n",
"disp('the current throught resistor RB in milli amps is: ')\n",
"IB=E/RB\n",
"disp(IB)\n",
"disp('the current throught resistor RC in milli amps is: ')\n",
"IC=E/RC\n",
"disp(IC)\n",
"disp('the current throught resistor RD in milli amps is: ')\n",
"ID=0\n",
"//switch D is open//\n",
"disp(ID)\n",
"Itot=IA+IB+IC+ID\n",
"//total current is denoted by Itot//\n",
"If=Itot\n",
"Eo=If*Rf\n",
"Eo=Eo*(-1)\n",
"//Eo denotes output voltage//\n",
"disp('Output voltage of the circuit in volts is: ')\n",
"disp(Eo)\n",
"//result is displayed//"
   ]
   }
,
{
		   "cell_type": "markdown",
		   "metadata": {},
		   "source": [
			"## Example 11.6: Resolution_and_Percent_resolution_12bit_DAconverter.sce"
		   ]
		  },
  {
"cell_type": "code",
	   "execution_count": null,
	   "metadata": {
	    "collapsed": true
	   },
	   "outputs": [],
"source": [
"//Example 11-6//\n",
"//resolution and percent resolution of a 12 bit D/A converter,output varies from -50 to 50//\n",
"clc\n",
"//clears the window//\n",
"clear\n",
"//clears all existing variables//\n",
"E=50-(-50)\n",
"n=12\n",
"//given the voltage range E in volts and the number of bits n//\n",
"disp('12 bit converter can have (2^12)-1 non zero states ')\n",
"Res=E/((2^n)-1)\n",
"Pres=1/((2^n)-1)*(100)\n",
"disp('the resolution in volts is : ')\n",
"disp(Res)\n",
"disp('the percent resolution is : ')\n",
"disp(Pres)\n",
"//answers are displayed//"
   ]
   }
,
{
		   "cell_type": "markdown",
		   "metadata": {},
		   "source": [
			"## Example 11.7: Resolution_and_Percent_resolution_10bit_ADconverter.sce"
		   ]
		  },
  {
"cell_type": "code",
	   "execution_count": null,
	   "metadata": {
	    "collapsed": true
	   },
	   "outputs": [],
"source": [
"//Example 11-7//\n",
"//resolution and percent resolution of a 10 bit D/A converter,input voltage varies from -10 to 10//\n",
"clc\n",
"//clears the window//\n",
"clear\n",
"//clears all existing variables//\n",
"E=10-(-10)\n",
"n=10\n",
"//given the voltage range E in volts and the number of bits n//\n",
"disp('10 bit converter can have (2^10)-1 non zero states ')\n",
"Res=E/((2^n)-1)\n",
"Pres=1/((2^n)-1)*(100)\n",
"disp('the resolution in millivolts is : ')\n",
"disp(Res*1000)\n",
"disp('the percent resolution is : ')\n",
"disp(Pres)\n",
"//answers are displayed//"
   ]
   }
],
"metadata": {
		  "kernelspec": {
		   "display_name": "Scilab",
		   "language": "scilab",
		   "name": "scilab"
		  },
		  "language_info": {
		   "file_extension": ".sce",
		   "help_links": [
			{
			 "text": "MetaKernel Magics",
			 "url": "https://github.com/calysto/metakernel/blob/master/metakernel/magics/README.md"
			}
		   ],
		   "mimetype": "text/x-octave",
		   "name": "scilab",
		   "version": "0.7.1"
		  }
		 },
		 "nbformat": 4,
		 "nbformat_minor": 0
}
