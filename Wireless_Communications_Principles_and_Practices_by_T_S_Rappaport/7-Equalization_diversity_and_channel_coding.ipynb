{
"cells": [
 {
		   "cell_type": "markdown",
	   "metadata": {},
	   "source": [
       "# Chapter 7: Equalization diversity and channel coding"
	   ]
	},
{
		   "cell_type": "markdown",
		   "metadata": {},
		   "source": [
			"## Example 7.3: EX7_3.sce"
		   ]
		  },
  {
"cell_type": "code",
	   "execution_count": null,
	   "metadata": {
	    "collapsed": true
	   },
	   "outputs": [],
"source": [
"// Example no 7.3\n",
"// To determine a)the maximum Doppler shift b)the coherence time of the channel c)the maximum number of symbolsthat could be transmitted\n",
"// Page no. 373\n",
"\n",
"clc;\n",
"clear all;\n",
"\n",
"//Given data\n",
"f=900*10^6;                                                  // Carrier frequency in Hz\n",
"c=3*10^8;                                                    // Speed of ligth in air (m/s)\n",
"v=80;                                                        // Velocity of mobile in km/hr\n",
"v=v*(5/18);                                                  // Velocity of mobile in m/s\n",
"lambda=c/f;                                                  // Carrier wavelength in meter\n",
"\n",
"// a)To determine the maximum Doppler shift\n",
"fd=v/lambda;                                                 // The maximum Doppler shift in Hz\n",
"\n",
"// b)To determine the coherence time of the channel\n",
"Tc=sqrt(9/(16*%pi*fd^2));                                   // The coherence time of the channel\n",
"// Answer is varrying due to round-off error\n",
"\n",
"// c)To determine the maximum number of symbols that could be transmitted with symbol rate 24.3 ksymbols/sec\n",
"Rs=24.3*10^3;                                              // Symbol rate in symbols/sec\n",
"Nb=Tc*Rs;                                                  // The maximum number of transmitted symbols\n",
"\n",
"// Displaying the result in command window\n",
"printf('\n The maximum Doppler shift = %0.2f Hz',fd);\n",
"printf('\n The coherence time of the channel = %0.2f ms',Tc*10^3);\n",
"printf('\n The maximum number of symbols that could be transmitted with symbol rate 24.3 ksymbols/sec = %0.0f symbols',Nb);"
   ]
   }
,
{
		   "cell_type": "markdown",
		   "metadata": {},
		   "source": [
			"## Example 7.4: To_determine_probability_that_the_SNR_will_drop_below_threshold_SNR.sce"
		   ]
		  },
  {
"cell_type": "code",
	   "execution_count": null,
	   "metadata": {
	    "collapsed": true
	   },
	   "outputs": [],
"source": [
"// Example no 7.4\n",
"// To determine probability that the SNR will drop below threshold SNR\n",
"// Page no. 383\n",
"\n",
"clc;\n",
"clear all;\n",
"\n",
"// Given data\n",
"M1=4;                                     // Number of branch diversity\n",
"M2=1;                                     // Number of branch diversity\n",
"gamm=10;                                  // Specified SNR threshold in dB\n",
"gamm=10^(gamm/10);                        // Specified SNR threshold\n",
"Gamma=20;                                 // Average SNR in dB\n",
"Gamma=10^(Gamma/10);                      // Average SNR\n",
"\n",
"// Probability that the SNR will drop below 10dB when 4 branch diversity is used\n",
"P4=(1-exp(-gamm/Gamma))^M1;              // Probability that the SNR will drop below 10dB\n",
"\n",
"// Probability that the SNR will drop below 10dB when single branch diversity is used\n",
"P1=(1-exp(-gamm/Gamma))^M2;              // Probability that the SNR will drop below 10dB\n",
"\n",
"// Displaying the result in command window\n",
"printf('\n Probability that the SNR will drop below 10dB when 4 branch diversity is used = %0.6f',P4);\n",
"printf('\n Probability that the SNR will drop below 10dB when single branch diversity is used = %0.3f',P1);\n",
"printf('\n \n From above results, it is observed that without diversity the SNR drops below the specified threshold with a probability that is three orders of magnitude greater \n than if four branch diversity is used.')"
   ]
   }
],
"metadata": {
		  "kernelspec": {
		   "display_name": "Scilab",
		   "language": "scilab",
		   "name": "scilab"
		  },
		  "language_info": {
		   "file_extension": ".sce",
		   "help_links": [
			{
			 "text": "MetaKernel Magics",
			 "url": "https://github.com/calysto/metakernel/blob/master/metakernel/magics/README.md"
			}
		   ],
		   "mimetype": "text/x-octave",
		   "name": "scilab",
		   "version": "0.7.1"
		  }
		 },
		 "nbformat": 4,
		 "nbformat_minor": 0
}
