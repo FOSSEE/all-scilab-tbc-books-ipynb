{
"cells": [
 {
		   "cell_type": "markdown",
	   "metadata": {},
	   "source": [
       "# Chapter 2: Appendix B Noise figure calculations for link budgets"
	   ]
	},
{
		   "cell_type": "markdown",
		   "metadata": {},
		   "source": [
			"## Example 2.1: To_determine_SNR_at_the_detector_output_stage.sce"
		   ]
		  },
  {
"cell_type": "code",
	   "execution_count": null,
	   "metadata": {
	    "collapsed": true
	   },
	   "outputs": [],
"source": [
"// Example no B.1\n",
"// To determine SNR at the detector output stage\n",
"// Page no. 613\n",
"\n",
"clc;\n",
"clear all;\n",
"\n",
"// Given data\n",
"SNRin=20;                                         // SNR at the receiver antenna input terminal in dB\n",
"F=6;                                              // Noise figure in dB\n",
"\n",
"// SNR at the detector output stage\n",
"SNRout=SNRin-F;                                  // SNR at the detector output stage in dB\n",
"\n",
"// Displaying the result in command window\n",
"printf('\n SNR at the detector output stage = %0.0f dB',SNRout);"
   ]
   }
,
{
		   "cell_type": "markdown",
		   "metadata": {},
		   "source": [
			"## Example 2.2: To_compute_noise_figure_of_mobile_receiver_system.sce"
		   ]
		  },
  {
"cell_type": "code",
	   "execution_count": null,
	   "metadata": {
	    "collapsed": true
	   },
	   "outputs": [],
"source": [
"//Example no B.2\n",
"//To compute noise figure of mobile receiver system\n",
"//Page no. 613\n",
"\n",
"clc;\n",
"clear all;\n",
"\n",
"//Given data\n",
"F1=3;                                       //Coaxial cable loss in dB\n",
"F1=10^(F1/10);                              //Coaxial cable loss\n",
"F2=6;                                       //Noise figure of phone in dB\n",
"F2=10^(F2/10);                              //Noise figure of phone\n",
"\n",
"Fsys=F1+((F2-1)/0.5);                       //Noise figure of mobile receiver system\n",
"Fsys=10*log10(Fsys);                        //Noise figure of mobile receiver system in dB\n",
"\n",
"// Displaying the result in command window\n",
"printf('\n Noise figure of mobile receiver system = %0.0f dB',Fsys);"
   ]
   }
,
{
		   "cell_type": "markdown",
		   "metadata": {},
		   "source": [
			"## Example 2.3: To_determine_average_output_thermal_noise_power.sce"
		   ]
		  },
  {
"cell_type": "code",
	   "execution_count": null,
	   "metadata": {
	    "collapsed": true
	   },
	   "outputs": [],
"source": [
"// Example no B.3\n",
"// To determine average output thermal noise power\n",
"// Page no. 614\n",
"\n",
"clc;\n",
"clear all;\n",
"\n",
"// Given data\n",
"T0=300;                                                                   // Ambient room temperature in K\n",
"Fsys=8;                                                                   // Noise figure of the system\n",
"Tant=290;                                                                 // Effective temperature of antenna in K\n",
"K=1.38*10^-23;                                                            // Boltzmann's constant in J/K\n",
"B=30000;                                                                  // Effective bandwidth in Hz\n",
"\n",
"Te=(Fsys-1)*T0;                                                           // Effective noise temperature in K\n",
"Ttotal=Tant+Te;                                                           // Overall system noise temperature in K\n",
"\n",
"// To determine average output thermal noise power\n",
"Pn=(1+(Ttotal/T0))*K*T0*B;                                                // Average output thermal noise power in W\n",
"Pn=10*log10(Pn/(10^-3));                                                  // Average output thermal noise power in dBm\n",
"\n",
"// Displaying the result in command window\n",
"printf('\n Average output thermal noise power = %0.1f dBm',Pn);\n",
""
   ]
   }
,
{
		   "cell_type": "markdown",
		   "metadata": {},
		   "source": [
			"## Example 2.4: To_determine_average_signal_strength_at_the_antenna_terminal.sce"
		   ]
		  },
  {
"cell_type": "code",
	   "execution_count": null,
	   "metadata": {
	    "collapsed": true
	   },
	   "outputs": [],
"source": [
"// Example no B.4\n",
"// To determine average signal strength at the antenna terminal \n",
"// Page no. 614\n",
"\n",
"clc;\n",
"clear all;\n",
"\n",
"// Given data\n",
"Pn=-119.5;                                                           // Average output thermal noise power in dBm\n",
"SNR=30;                                                              // SNR at the receiver output in dB\n",
"\n",
"// To determine average signal strength at the antenna terminal to provide 30dB SNR\n",
"Ps=SNR+Pn;                                                           // Average signal strength at the antenna terminal\n",
"\n",
"// Displaying the result in command window\n",
"printf('\n Average signal strength at the antenna terminal to provide 30dB SNR = %0.1f dBm',Ps);\n",
"\n",
""
   ]
   }
],
"metadata": {
		  "kernelspec": {
		   "display_name": "Scilab",
		   "language": "scilab",
		   "name": "scilab"
		  },
		  "language_info": {
		   "file_extension": ".sce",
		   "help_links": [
			{
			 "text": "MetaKernel Magics",
			 "url": "https://github.com/calysto/metakernel/blob/master/metakernel/magics/README.md"
			}
		   ],
		   "mimetype": "text/x-octave",
		   "name": "scilab",
		   "version": "0.7.1"
		  }
		 },
		 "nbformat": 4,
		 "nbformat_minor": 0
}
