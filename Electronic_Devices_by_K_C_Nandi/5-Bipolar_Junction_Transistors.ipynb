{
"cells": [
 {
		   "cell_type": "markdown",
	   "metadata": {},
	   "source": [
       "# Chapter 5: Bipolar Junction Transistors"
	   ]
	},
{
		   "cell_type": "markdown",
		   "metadata": {},
		   "source": [
			"## Example 5.10_1a: Base_and_emitter_current.sce"
		   ]
		  },
  {
"cell_type": "code",
	   "execution_count": null,
	   "metadata": {
	    "collapsed": true
	   },
	   "outputs": [],
"source": [
"// Exa 5.10.1(a)\n",
"clc;\n",
"clear;\n",
"close;\n",
"// Given data\n",
"beta_dc = 90;\n",
"I_C = 15;// in mA\n",
"I_C = I_C * 10^-3;// in A\n",
"I_B = I_C/beta_dc;// in A\n",
"disp(I_B*10^6,'The base current in µA is');\n",
"I_E = I_C + I_B;// in A\n",
"I_E = I_E * 10^3;// in mA\n",
"disp(I_E,'The Emitter current in mA is');\n",
"alpha_dc = beta_dc/(1+beta_dc);\n",
"disp(alpha_dc,'The value of alpha_dc is');"
   ]
   }
,
{
		   "cell_type": "markdown",
		   "metadata": {},
		   "source": [
			"## Example 5.10_1: Emitter_current.sce"
		   ]
		  },
  {
"cell_type": "code",
	   "execution_count": null,
	   "metadata": {
	    "collapsed": true
	   },
	   "outputs": [],
"source": [
"// Exa 5.10.1\n",
"clc;\n",
"clear;\n",
"close;\n",
"// Given data\n",
"bita = 50;\n",
"I_B= 20;// in µA\n",
"I_B=I_B*10^-6;// in A\n",
"I_C= bita*I_B;// in A\n",
"I_E= I_C+I_B;// in A\n",
"I_E = I_E * 10^3;// in mA\n",
"disp(I_E,'The Emitter current in mA is');"
   ]
   }
,
{
		   "cell_type": "markdown",
		   "metadata": {},
		   "source": [
			"## Example 5.10_3: Change_in_base_current.sce"
		   ]
		  },
  {
"cell_type": "code",
	   "execution_count": null,
	   "metadata": {
	    "collapsed": true
	   },
	   "outputs": [],
"source": [
"// Exa 5.10.3\n",
"clc;\n",
"clear;\n",
"close;\n",
"// Given data\n",
"del_ic = 1.8;// in mA\n",
"del_ie = 1.89;// in mA\n",
"alpha = del_ic / del_ie;\n",
"bita = alpha/(1 - alpha);\n",
"del_ib = del_ic/bita;// in mA\n",
"del_ib = del_ib * 10^3;// in µA\n",
"disp(del_ib,'The change in I_B in µA is'); \n",
""
   ]
   }
,
{
		   "cell_type": "markdown",
		   "metadata": {},
		   "source": [
			"## Example 5.10_4: Transistor_current.sce"
		   ]
		  },
  {
"cell_type": "code",
	   "execution_count": null,
	   "metadata": {
	    "collapsed": true
	   },
	   "outputs": [],
"source": [
"//Exa 5.10.4\n",
"clc;\n",
"clear;\n",
"close;\n",
"// Given data\n",
"V_CC = 10;// in V\n",
"R_C = 3;// in k Ω\n",
"R_C= R_C*10^3;// in Ω\n",
"bita = 100;\n",
"I_CO = 20;// in nA\n",
"I_CO = I_CO * 10^-9;// in A\n",
"V_BB = 5;// in V\n",
"R_B = 200;// in kΩ\n",
"R_B= R_B*10^3;// in Ω\n",
"V_BE = 0.7;// in V\n",
"// Applying KVL to the base circuit, V_BB= I_B*R_B+V_BE\n",
"I_B = (V_BB - V_BE)/R_B;// in A\n",
"disp(I_B*10^6,'The base current in µA is');\n",
"I_C = (bita * I_B) + I_CO;// in A\n",
"disp(I_C*10^3,'The collector current in mA is');\n",
"I_E = I_C + I_B;// in A\n",
"disp(I_E*10^3,'Emitter current in mA is');\n",
"V_CE = V_CC - (I_C * R_C);// in V\n",
"disp(V_CE,'Collector emitter voltage in V is');\n",
""
   ]
   }
,
{
		   "cell_type": "markdown",
		   "metadata": {},
		   "source": [
			"## Example 5.10_5: Collector_current.sce"
		   ]
		  },
  {
"cell_type": "code",
	   "execution_count": null,
	   "metadata": {
	    "collapsed": true
	   },
	   "outputs": [],
"source": [
"//Exa 5.10.5\n",
"clc;\n",
"clear;\n",
"close;\n",
"// Given data\n",
"bita = 100;\n",
"I_CBO = 4;// in µA\n",
"I_B = 40;// in µA\n",
"I_C = (bita * I_B) + ((1+bita) * I_CBO);// in µA\n",
"I_C = I_C * 10^-3;// in msA\n",
"disp(I_C,'The collector current in mA is');"
   ]
   }
,
{
		   "cell_type": "markdown",
		   "metadata": {},
		   "source": [
			"## Example 5.10_6: Current_gain.sce"
		   ]
		  },
  {
"cell_type": "code",
	   "execution_count": null,
	   "metadata": {
	    "collapsed": true
	   },
	   "outputs": [],
"source": [
"// Exa 5.10.6\n",
"clc;\n",
"clear;\n",
"close;\n",
"// Given data\n",
"del_IC = 1 * 10^-3;// in A\n",
"del_IB = 10 * 10^-6;// in A\n",
"CurrentGain= del_IC/del_IB;\n",
"disp(CurrentGain,'The current gain is');\n",
"del_IC= del_IC*10^3;// in mA\n",
"del_IB= del_IB*10^6;// in µA\n",
"I_B=0:0.1:50;// in µA\n",
"I_C= I_B/del_IB+del_IC;// in mA\n",
"plot(I_B,I_C)\n",
"xlabel('Base current in µA');\n",
"ylabel('Collector current in mA')\n",
"title('Transfer Characteristics ')\n",
"disp('Transfer Characteristics is shown in figure')"
   ]
   }
,
{
		   "cell_type": "markdown",
		   "metadata": {},
		   "source": [
			"## Example 5.10_7: Value_of_alphaDC_and_bitaDC.sce"
		   ]
		  },
  {
"cell_type": "code",
	   "execution_count": null,
	   "metadata": {
	    "collapsed": true
	   },
	   "outputs": [],
"source": [
"//Exa 5.10.7\n",
"clc;\n",
"clear;\n",
"close;\n",
"//Given data\n",
"I_CEo = 21;// in µA\n",
"I_CBO = 1.1;// in µA\n",
"beta_dc = (I_CEo/I_CBO) - 1;\n",
"disp(beta_dc,'Value of beta_dc is');\n",
"alpha_dc = beta_dc/(1 + beta_dc);\n",
"disp(alpha_dc,'The value of alpha_dc is');"
   ]
   }
,
{
		   "cell_type": "markdown",
		   "metadata": {},
		   "source": [
			"## Example 5.13_10: Minimum_value_of_RC_required.sce"
		   ]
		  },
  {
"cell_type": "code",
	   "execution_count": null,
	   "metadata": {
	    "collapsed": true
	   },
	   "outputs": [],
"source": [
"// Exa 5.13.10\n",
"clc;\n",
"clear;\n",
"close;\n",
"// Given data\n",
"V_ECsat= 0.2;// in V\n",
"V_CC= 10;// in V\n",
"V_EBsat= 0.8;// in V\n",
"\n",
"// Part (i)\n",
"bita= 100;\n",
"R_B= 220;// in kΩ\n",
"// Applying KVL to collector circuit, V_CC= V_EC+ICRC\n",
"ICRC= V_CC-V_ECsat;// in V\n",
"// Applying KVL to input loop, V_CC= V_EBsat+I_B*R_B        (i)\n",
"I_B= (V_CC-V_EBsat)/R_B;// in mA\n",
"I_C= bita*I_B;// in mA\n",
"R_Cmin= ICRC/I_C;// in kΩ\n",
"disp(R_Cmin,'The minimum value of R_C in kΩ is :  ')\n",
"// Part (ii)\n",
"R_C= 1.2;// in kΩ\n",
"I_Csat= ICRC/R_C;// in mA\n",
"I_B= I_Csat/bita;// in mA\n",
"// From eq (i)\n",
"R_B= (V_CC-V_EBsat)/I_B;// in kΩ\n",
"disp(R_B,'The maximum value of R_B in kΩ is : ')\n",
""
   ]
   }
,
{
		   "cell_type": "markdown",
		   "metadata": {},
		   "source": [
			"## Example 5.13_11: Value_of_RE.sce"
		   ]
		  },
  {
"cell_type": "code",
	   "execution_count": null,
	   "metadata": {
	    "collapsed": true
	   },
	   "outputs": [],
"source": [
"//Exa 5.13.11\n",
"clc;\n",
"clear;\n",
"close;\n",
"// Given data\n",
"bita= 100;\n",
"V_BEsat= 0.8;// in V\n",
"V_CEsat= 0.2;// in V\n",
"V_BEact= 0.7;// in V\n",
"V_CC = 10;// in V\n",
"R_E = 1;// in kΩ\n",
"R_C = 2;// in kΩ\n",
"R_B= 100;// in kΩ\n",
"bita=100;\n",
"alpha= bita/(1+bita);\n",
"// Applying KVL to collector circuit\n",
"// V_CC= I_Csat*R_C +V_CE +R_E*I_E\n",
"// but I_E= alpha*I_Csat\n",
"I_Csat= (V_CC-V_CEsat)/(R_C+R_E*alpha);// in mA\n",
"I_Bmin= I_Csat/bita;// in mA\n",
"// Applying KVL to base loop\n",
"// V_CC= I_B*R_B +V_BEsat +I_E*R_E\n",
"// but I_E= I_Csat+I_B\n",
"I_B= (V_CC-V_BEsat-I_Csat*R_E)/(R_B+R_E);// in mA\n",
"disp(I_B*10^3,'The value of I_B in µA is : ')\n",
"disp(I_Bmin*10^3,'The minimum value of I_B in µA is : ')\n",
"if I_B>I_Bmin then\n",
"    disp('Since the value of I_B is greater than the value of I_Bmin, ')\n",
"    disp('Hence the transistor is in saturation .')\n",
"end\n",
"I_E= (1+bita)*I_Bmin;// in mA\n",
"R_E= (V_CC-V_BEact-I_Bmin*R_B)/I_E;// in kΩ\n",
"disp(R_E,'The value of R_E in kΩ is : ')\n",
"disp('So R_E should be greater than this value in order to bring the transistor just out of saturation ')\n",
""
   ]
   }
,
{
		   "cell_type": "markdown",
		   "metadata": {},
		   "source": [
			"## Example 5.13_12: Collector_voltage_and_minimum_value_of_bita.sce"
		   ]
		  },
  {
"cell_type": "code",
	   "execution_count": null,
	   "metadata": {
	    "collapsed": true
	   },
	   "outputs": [],
"source": [
"// Exa 5.13.12\n",
"clc;\n",
"clear;\n",
"close;\n",
"// Given data\n",
"V_CC = 9;// in V\n",
"V_BE = 0.8;// in V\n",
"V_CE = 0.2;// in V\n",
"R_B = 50;// in kΩ\n",
"R_C=2;// in kΩ\n",
"R_E = 1;// in kΩ\n",
"bita=70;\n",
"// Applying KVL to input loop, V_CC= I_B*R_B +V_BE +I_E*R_E\n",
"// V_CC- V_BE= (R_B+R_E)*I_B + R_E*I_C          (i)\n",
"// Applying KVL to output loop, V_CC= R_C*I_C +V_CE +I_C*R_E +I_B*R_E\n",
"//I_B = ((V_CC- V_CE)-(R_C+R_E)*I_C)/R_E         (ii)\n",
"// From eq (i) and (ii)\n",
"I_C= ( (V_CC- V_BE)-(R_B+R_E)* (V_CC- V_CE)/R_E)/(1-(R_B+R_E)*(R_C+R_E));// in mA\n",
"I_B = ((V_CC- V_CE)-(R_C+R_E)*I_C)/R_E// in mA\n",
"I_Bmin= I_C/bita;// in mA\n",
"if I_B>I_Bmin then\n",
"    disp('Since the value of I_B ('+string(I_B)+' mA) is greater than the value of I_Bmin ('+string(I_Bmin)+' mA)')\n",
"    disp('So the transistor is in saturation ')\n",
"end\n",
"V_C= V_CC-I_C*R_C;// in V\n",
"disp(V_C,'The value of collector voltage in volts is : ')\n",
"bita= I_C/I_B;\n",
"disp(bita,'The minimum value of bita that will change the state of the trasistor is : ')"
   ]
   }
,
{
		   "cell_type": "markdown",
		   "metadata": {},
		   "source": [
			"## Example 5.13_1: Value_of_alphaDC_and_emitter_current.sce"
		   ]
		  },
  {
"cell_type": "code",
	   "execution_count": null,
	   "metadata": {
	    "collapsed": true
	   },
	   "outputs": [],
"source": [
"// Exa 5.13.1\n",
"clc;\n",
"clear;\n",
"close;\n",
"// Given data\n",
"I_CBO = 3;//in µA\n",
"I_CBO= I_CBO*10^-3;// in mA \n",
"I_C= 15;// in mA\n",
"// But it is given that I_C= 99.5% of I_E, SO\n",
"I_E= I_C/99.5*100;// in mA\n",
"alpha_dc= I_C/I_E;\n",
"disp(alpha_dc,'The value of alpha_dc is : ')\n",
"disp(I_E,'The value of I_E in mA is : ')"
   ]
   }
,
{
		   "cell_type": "markdown",
		   "metadata": {},
		   "source": [
			"## Example 5.13_2: Base_and_emitter_current.sce"
		   ]
		  },
  {
"cell_type": "code",
	   "execution_count": null,
	   "metadata": {
	    "collapsed": true
	   },
	   "outputs": [],
"source": [
"//Exa 5.13.2\n",
"clc;\n",
"clear;\n",
"close;\n",
"//Given data\n",
"alpha_dc = 0.99;\n",
"I_CBO = 10;// in µA\n",
"I_CBO= I_CBO*10^-6;// in A\n",
"I_E = 10;// in mA\n",
"I_E= I_E*10^-3;// in A\n",
"I_C = (alpha_dc * I_E) + I_CBO;// in A\n",
"disp(I_C*10^3,'The value of I_C in mA is');\n",
"I_B = I_E - I_C;// in A\n",
"I_B = I_B * 10^6;// in µA\n",
"disp(I_B,'The value of I_B in µA is');"
   ]
   }
,
{
		   "cell_type": "markdown",
		   "metadata": {},
		   "source": [
			"## Example 5.13_3: Base_current.sce"
		   ]
		  },
  {
"cell_type": "code",
	   "execution_count": null,
	   "metadata": {
	    "collapsed": true
	   },
	   "outputs": [],
"source": [
"// Exa 5.13.3\n",
"clc;\n",
"clear;\n",
"close;\n",
"// Given data\n",
"alpha_dc = 0.99;\n",
"I_C = 6;// in mA\n",
"I_C= I_C*10^-3;// in A\n",
"I_CBO = 15;// in µA\n",
"I_CBO= I_CBO*10^-6;// in A\n",
"I_E = (I_C - I_CBO)/alpha_dc;// in A\n",
"I_B = I_E - I_C;// in A \n",
"disp(I_B*10^6,'The value of I_B in µA is');"
   ]
   }
,
{
		   "cell_type": "markdown",
		   "metadata": {},
		   "source": [
			"## Example 5.13_5: Emitter_current.sce"
		   ]
		  },
  {
"cell_type": "code",
	   "execution_count": null,
	   "metadata": {
	    "collapsed": true
	   },
	   "outputs": [],
"source": [
"//Exa 5.13.5\n",
"clc;\n",
"clear;\n",
"close;\n",
"// Given data\n",
"alpha_dc = 0.98;\n",
"I_CBO = 12;// in µA\n",
"I_CBO = I_CBO * 10^-6;// in A\n",
"I_B = 120;// in µA\n",
"I_B = I_B * 10^-6;// in A\n",
"beta_dc = alpha_dc/(1-alpha_dc);\n",
"I_E = ((1 + beta_dc) * I_B) + ((1 + beta_dc) * I_CBO);//in A\n",
"I_E = I_E * 10^3;// in mA\n",
"disp(I_E,'The value of I_E in mA is');"
   ]
   }
,
{
		   "cell_type": "markdown",
		   "metadata": {},
		   "source": [
			"## Example 5.13_6: Region_of_operation_of_Si_transistor.sce"
		   ]
		  },
  {
"cell_type": "code",
	   "execution_count": null,
	   "metadata": {
	    "collapsed": true
	   },
	   "outputs": [],
"source": [
"//Exa 5.13.6\n",
"clc;\n",
"clear;\n",
"close;\n",
"// Given data\n",
"bita= 100;\n",
"V_BEsat= 0.8;// in V\n",
"V_CEsat= 0.2;// in V\n",
"V_BEact= 0.7;// in V\n",
"V_CC = 10;// in V\n",
"V_BB=5;// in V\n",
"R_E = 2;// in kΩ\n",
"R_C = 3;// in kΩ\n",
"R_B= 50;// in kΩ\n",
"// Applying KVL to collector loop\n",
"// V_CC= I_Csat*R_C +V_CEsat +I_E*R_E and I_E= I_Csat+I_B, So\n",
"//I_B= ((V_CC-V_CEsat)-(R_C+R_E)*I_Csat)/R_E;           (i)\n",
"// Applying KVL to base loop\n",
"// V_BB-I_B*R_B -V_BEsat-I_E*R_E =0 and I_E= I_Csat+I_B, So\n",
"//V_BB-V_BEsat= R_E*I_Csat + (R_B+R_E)*I_B              (ii)\n",
"// From eq (i) and (ii)\n",
"I_B = ((V_BB-V_BEsat)*5- (V_CC-V_CEsat)*2) / ((R_B+R_E)*5 - R_E*2) ;// in mA\n",
"I_Csat= ((V_CC-V_CEsat)-R_E*I_B)/(R_C+R_E);// in mA\n",
"I_Bmin= I_Csat/bita;// in mA\n",
"if I_B<I_Bmin then\n",
"    disp('Since the value of I_B ('+string(I_B*10^3)+'µA) is less than the value of I_Bmin ('+string(I_Bmin*10^3)+'µA)');\n",
"    disp('So the transistor is not in the saturation region. But it is conducting hence it can not be in cutoff.')\n",
"    disp('Therefore the transistor is in the active region')\n",
"end"
   ]
   }
,
{
		   "cell_type": "markdown",
		   "metadata": {},
		   "source": [
			"## Example 5.13_7: Value_of_IB_IC_and_VCE.sce"
		   ]
		  },
  {
"cell_type": "code",
	   "execution_count": null,
	   "metadata": {
	    "collapsed": true
	   },
	   "outputs": [],
"source": [
"//Exa 5.13.7\n",
"clc;\n",
"clear;\n",
"close;\n",
"// Given data\n",
"bita= 100;\n",
"V_BEsat= 0.8;// in V\n",
"V_CEsat= 0.2;// in V\n",
"V_BEact= 0.7;// in V\n",
"V_CC = 10;// in V\n",
"V_BB=5;// in V\n",
"R_E = 2;// in kΩ\n",
"R_C = 3;// in kΩ\n",
"R_B= 50;// in kΩ\n",
"// Applying KVL to input loop\n",
"// V_BB= I_B*R_B+(1+bita)*I_B*R_E+V_BEact or \n",
"I_B= (V_BB-V_BEact)/(R_B+(1+bita)*R_E);// in mA\n",
"I_C= bita*I_B;// in mA\n",
"// Applying KVL to collector circuit\n",
"// V_CC= I_Csat*R_C +V_CEsat +(I_C+I_B)*R_E\n",
"V_CEact= V_CC-I_B*R_E-I_C*(R_C+R_E);// in V\n",
"disp(I_B*10^3,'The value of I_B in µA is : ')\n",
"disp(I_C,'The value of I_C in mA is : ')\n",
"disp(V_CEact,'The value of V_CE in volts is : ')"
   ]
   }
,
{
		   "cell_type": "markdown",
		   "metadata": {},
		   "source": [
			"## Example 5.13_8: Region_of_operation.sce"
		   ]
		  },
  {
"cell_type": "code",
	   "execution_count": null,
	   "metadata": {
	    "collapsed": true
	   },
	   "outputs": [],
"source": [
"//Exa 5.13.8\n",
"clc;\n",
"clear;\n",
"close;\n",
"//Given data\n",
"bita = 100;\n",
"V_CEsat = 0.2;// in V\n",
"R_B = 150;// in kohm\n",
"R_C = 2;// in kohm\n",
"V_CC  = 10;// in V\n",
"V_BEsat = 0.8;// in V\n",
"I_B = (V_CC - V_BEsat)/R_B;// in mA\n",
"I_C = (V_CC - V_CEsat)/R_C;// in mA\n",
"I_Bmin = I_C/bita;// in mA\n",
"if I_B>I_Bmin then\n",
"    disp('Since the value of I_B ('+string(I_B*10^3)+'µA) is greater than the value of I_Bmin ('+string(I_Bmin*10^3)+'µA)');\n",
"    disp('So the transistor is in the saturation region.')\n",
"end"
   ]
   }
,
{
		   "cell_type": "markdown",
		   "metadata": {},
		   "source": [
			"## Example 5.13_9: Value_of_VBB.sce"
		   ]
		  },
  {
"cell_type": "code",
	   "execution_count": null,
	   "metadata": {
	    "collapsed": true
	   },
	   "outputs": [],
"source": [
"//Exa 5.13.9\n",
"clc;\n",
"clear;\n",
"close;\n",
"//Given data\n",
"bita = 100;\n",
"V_CE = 0.2;//in V\n",
"V_BE = 0.8;// in V\n",
"R_C= 500;// in Ω\n",
"R_B= 44*10^3;// in Ω\n",
"R_E= 1*10^3;// in Ω\n",
"V_CC= 15;// in V\n",
"V_GE= -15;// in V\n",
"// Applying KVL to collector circuit\n",
"// V_CC-V_GE - I_Csat*R_C-V_CE-I_E*R_E=0, but I_Csat= bita*I_Bmin and I_E= 1+bita\n",
"I_Bmin= (V_CC-V_GE-V_CE)/(R_C*bita+(1+bita)*R_E);// in A\n",
"// Applying KVL to the base emitter circuit\n",
"// V_BB-I_Bmin*R_B-V_BE-I_E*R_E + V_CC=0\n",
"V_BB= I_Bmin*R_B + V_BE + (1+bita)*I_Bmin*R_E-V_CC;// in V\n",
"disp(I_Bmin*10^3,'The value of I_B(min) in mA is : ')\n",
"disp(V_BB,'The value of V_BB in volts is : ')"
   ]
   }
,
{
		   "cell_type": "markdown",
		   "metadata": {},
		   "source": [
			"## Example 5.21_1: Inductor_circuit.sce"
		   ]
		  },
  {
"cell_type": "code",
	   "execution_count": null,
	   "metadata": {
	    "collapsed": true
	   },
	   "outputs": [],
"source": [
"// Exa 5.21.1\n",
"clc;\n",
"clear;\n",
"close;\n",
"// Given data\n",
"O_V = 5;// output voltage in V\n",
"V_D = 1.5;//voltage drop in V\n",
"R = (O_V - V_D)/O_V;\n",
"R = R * 10^3;// in ohm\n",
"disp(R,'The resistance value in Ω is');\n",
"disp('As this is not standard value, use R=680 Ω which is a standard value')"
   ]
   }
,
{
		   "cell_type": "markdown",
		   "metadata": {},
		   "source": [
			"## Example 5.8_1: Value_of_collector_current_and_VCB.sce"
		   ]
		  },
  {
"cell_type": "code",
	   "execution_count": null,
	   "metadata": {
	    "collapsed": true
	   },
	   "outputs": [],
"source": [
"// Exa 5.8.1\n",
"clc;\n",
"clear;\n",
"close;\n",
"// Given data\n",
"V_EE = 8;// in V\n",
"V_BE = 0.7;// in V\n",
"R_E = 1.5;// in k ohm\n",
"I_E = (V_EE - V_BE)/R_E;// in mA\n",
"I_C = I_E;// in mA\n",
"disp(I_C,'The value of I_C in mA is');\n",
"V_CC = 18;// in V\n",
"R_C = 1.2;// in kΩ\n",
"V_CB = V_CC - (I_C * R_C);// in V\n",
"disp(V_CB,'The value of V_CB in V is');"
   ]
   }
,
{
		   "cell_type": "markdown",
		   "metadata": {},
		   "source": [
			"## Example 5.8_2: Base_current.sce"
		   ]
		  },
  {
"cell_type": "code",
	   "execution_count": null,
	   "metadata": {
	    "collapsed": true
	   },
	   "outputs": [],
"source": [
"// Exa 5.8.2\n",
"clc;\n",
"clear;\n",
"close;\n",
"// Given data\n",
"alpha = 0.9;\n",
"I_E = 1;// mA\n",
"I_C = alpha * I_E;// in mA\n",
"I_B = I_E - I_C;// in mA\n",
"disp(I_B,'The value of base current in mA is');"
   ]
   }
],
"metadata": {
		  "kernelspec": {
		   "display_name": "Scilab",
		   "language": "scilab",
		   "name": "scilab"
		  },
		  "language_info": {
		   "file_extension": ".sce",
		   "help_links": [
			{
			 "text": "MetaKernel Magics",
			 "url": "https://github.com/calysto/metakernel/blob/master/metakernel/magics/README.md"
			}
		   ],
		   "mimetype": "text/x-octave",
		   "name": "scilab",
		   "version": "0.7.1"
		  }
		 },
		 "nbformat": 4,
		 "nbformat_minor": 0
}
