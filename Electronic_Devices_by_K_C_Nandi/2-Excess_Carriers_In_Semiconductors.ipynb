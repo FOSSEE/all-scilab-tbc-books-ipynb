{
"cells": [
 {
		   "cell_type": "markdown",
	   "metadata": {},
	   "source": [
       "# Chapter 2: Excess Carriers In Semiconductors"
	   ]
	},
{
		   "cell_type": "markdown",
		   "metadata": {},
		   "source": [
			"## Example 2.21_10: Ratio_of_donot_atoms_to_Si_atoms.sce"
		   ]
		  },
  {
"cell_type": "code",
	   "execution_count": null,
	   "metadata": {
	    "collapsed": true
	   },
	   "outputs": [],
"source": [
"// Exa 2.21.10\n",
"clc;\n",
"clear;\n",
"close;\n",
"// Given data\n",
"Rho = 9.6 * 10^-2;// in ohm-m\n",
"Sigma_n = 1/Rho;// in (ohm-m)^-1\n",
"q = 1.6 * 10^-19;// in C\n",
"Mu_n = 1300 * 10^-4;// in m^2/v-s\n",
"N_D = Sigma_n / (Mu_n * q);// in atoms/m^3\n",
"A_D = N_D;// Atom density in atoms/cm^3\n",
"A_D = A_D * 10^6;// atoms/m^3\n",
"R_si = N_D/A_D;// ratio\n",
"disp(R_si,'the ratio of donor atom to silicon atom is');\n",
"\n",
"// Note: In the book the wrong value of N_D (5*10^22) is putted to evaluate the value of Atom Density (A_D) whereas the value of N_D is calculated as 5*10^20.\n",
"//          So the answer in the book is wrong"
   ]
   }
,
{
		   "cell_type": "markdown",
		   "metadata": {},
		   "source": [
			"## Example 2.21_11: Equilibrium_electron_and_hole_densities.sce"
		   ]
		  },
  {
"cell_type": "code",
	   "execution_count": null,
	   "metadata": {
	    "collapsed": true
	   },
	   "outputs": [],
"source": [
"// Exa 2.21.11\n",
"clc;\n",
"clear;\n",
"close;\n",
"// Given data\n",
"n_i = 1.5 * 10^10;// in per cm^3\n",
"n_n = 2.25 * 10^15;// in per cm^3\n",
"p_n = (n_i)^2/n_n;// in per cm^3\n",
"disp(p_n,'The equilibrium electron per cm^3 is');\n",
"h_n = n_n;// in cm^3\n",
"disp(h_n,'Hole densities in per cm^3 is');"
   ]
   }
,
{
		   "cell_type": "markdown",
		   "metadata": {},
		   "source": [
			"## Example 2.21_12: Carrier_concentration.sce"
		   ]
		  },
  {
"cell_type": "code",
	   "execution_count": null,
	   "metadata": {
	    "collapsed": true
	   },
	   "outputs": [],
"source": [
"// Exa 2.21.12\n",
"clc;\n",
"clear;\n",
"close;\n",
"// Given data\n",
"N_A = 2 * 10^16;// in atoms/cm^3\n",
"N_D = 10^16;// in atoms/cm^3\n",
"C_c = N_A-N_D;// C_c stands for Carrier concentration in /cm^3\n",
"disp(C_c,'Carrier concentration per cm^3 is');"
   ]
   }
,
{
		   "cell_type": "markdown",
		   "metadata": {},
		   "source": [
			"## Example 2.21_13: Generation_rate_due_to_irradiation.sce"
		   ]
		  },
  {
"cell_type": "code",
	   "execution_count": null,
	   "metadata": {
	    "collapsed": true
	   },
	   "outputs": [],
"source": [
"// Exa 2.21.13\n",
"clc;\n",
"clear;\n",
"close;\n",
"// Given data\n",
"del_n = 10^15;// in cm^3\n",
"Torque_p = 10 * 10^-6;// in sec\n",
"R_g = del_n/Torque_p;// in hole pairs/sec/cm^3\n",
"disp(R_g,'The rate of generation of minority carrier in electron hole pairs/sec/cm^3 is ');"
   ]
   }
,
{
		   "cell_type": "markdown",
		   "metadata": {},
		   "source": [
			"## Example 2.21_14: Mobility_of_minority_charge_carrier.sce"
		   ]
		  },
  {
"cell_type": "code",
	   "execution_count": null,
	   "metadata": {
	    "collapsed": true
	   },
	   "outputs": [],
"source": [
"// Exa 2.21.14\n",
"clc;\n",
"clear;\n",
"close;\n",
"// Given data\n",
"v = 1/(20 * 10^-6);// in cm/sec\n",
"E = 10;// in V/cm\n",
"Mu= v/E;// in cm^2/V-sec\n",
"disp(Mu,'The mobility of minority charge carrier in cm^2/V-sec is ');"
   ]
   }
,
{
		   "cell_type": "markdown",
		   "metadata": {},
		   "source": [
			"## Example 2.21_15: Hole_and_electron_diffusion_current.sce"
		   ]
		  },
  {
"cell_type": "code",
	   "execution_count": null,
	   "metadata": {
	    "collapsed": true
	   },
	   "outputs": [],
"source": [
"// Exa 2.21.15\n",
"clc;\n",
"clear;\n",
"close;\n",
"// Given data\n",
"q = 1.6 * 10^-19;// in C\n",
"N_D = 4.5 * 10^15;// in /cm^3\n",
"del_p = 10^21;\n",
"e=10;// in cm\n",
"A = 1;// in mm^2\n",
"A = A * 10^-14;// cm^2\n",
"l = 10;// in cm\n",
"Torque_p = 1;// in microsec\n",
"Torque_p = Torque_p * 10^-6;// in sec\n",
"Torque_n = 1;// in microsec\n",
"Torque_n = Torque_n * 10^-6;// in  sec\n",
"n_i = 1.5 * 10^10;// in /cm^3\n",
"D_n = 30;// in cm^2/sec\n",
"D_p = 12;// in cm^2/sec\n",
"n_o = N_D;// in /cm^3\n",
"p_o = (n_i)^2/n_o;// in /cm^3\n",
"disp(p_o,'Hole concentration at thermal equilibrium per cm^3 is');\n",
"l_n = sqrt(D_n * Torque_n);// in cm\n",
"disp(l_n,'Diffusion length of electron in cm is');\n",
"l_p = sqrt(D_p * Torque_p);// in cm\n",
"disp(l_p,'Diffusion length of holes in cm is');\n",
"x=34.6*10^-4;// in cm\n",
"dpBYdx = del_p *e;// in cm^4\n",
"disp(dpBYdx,'Concentration gradient of holes at distance in cm^4 is');\n",
"e1 = 1.88 * 10^1;// in cm\n",
"dnBYdx = del_p * e1;// in cm^4 check this also...........................\n",
"disp(dnBYdx,'Concentration gradient of electrons in per cm^4 is');\n",
"J_P = -(q) * D_p * dpBYdx;// in A/cm^2\n",
"disp(J_P,'Current density of holes due to diffusion in A/cm^2 is');\n",
"J_n = q * D_n * dnBYdx;// in A/cm^2\n",
"disp(J_n,'Current density of electrons due to diffusion in A/cm^2 is');"
   ]
   }
,
{
		   "cell_type": "markdown",
		   "metadata": {},
		   "source": [
			"## Example 2.21_16: Energy_band_gap_of_semiconductor_material_used.sce"
		   ]
		  },
  {
"cell_type": "code",
	   "execution_count": null,
	   "metadata": {
	    "collapsed": true
	   },
	   "outputs": [],
"source": [
"// Exa 2.21.16\n",
"clc;\n",
"clear;\n",
"close;\n",
"// Given data\n",
"e= 1.6*10^-19;// electron charge in C\n",
"h = 6.626 * 10^-34;// in J-s\n",
"h= h/e;// in eV\n",
"c = 3 * 10^8;// in m/s\n",
"lembda = 5490 * 10^-10;// in m\n",
"f = c/lembda;\n",
"E = h * f;// in eV\n",
"disp(E,'The energy band gap of the semiconductor material in eV is');"
   ]
   }
,
{
		   "cell_type": "markdown",
		   "metadata": {},
		   "source": [
			"## Example 2.21_17: Current_density.sce"
		   ]
		  },
  {
"cell_type": "code",
	   "execution_count": null,
	   "metadata": {
	    "collapsed": true
	   },
	   "outputs": [],
"source": [
"// Exa 2.21.17\n",
"clc;\n",
"clear;\n",
"close;\n",
"// Given data\n",
"y2 = 6 * 10^16;// in /cm^3\n",
"y1 = 10^17;// in /cm^3\n",
"x2 = 2;// in µm\n",
"x1 = 0;// in µm\n",
"D_n = 35;// in cm^2/sec\n",
"q = 1.6 *10^-19;// in C\n",
"dnBYdx = (y2 - y1)/((x2-x1) * 10^-4);\n",
"J_n = q * D_n * dnBYdx;// in A/cm^2\n",
"disp(J_n,'The current density in silicon in A/cm^2 is');"
   ]
   }
,
{
		   "cell_type": "markdown",
		   "metadata": {},
		   "source": [
			"## Example 2.21_18: Resistance_of_the_bar.sce"
		   ]
		  },
  {
"cell_type": "code",
	   "execution_count": null,
	   "metadata": {
	    "collapsed": true
	   },
	   "outputs": [],
"source": [
"// Exa 2.21.18\n",
"clc;\n",
"clear;\n",
"close;\n",
"// Given data\n",
"q = 1.6 * 10^-19;// in C\n",
"n_n = 5 * 10^20;// in /m^3\n",
"n_n = n_n * 10^-6;// in cm^3\n",
"Mu_n = 0.13;// in m^2/V-sec\n",
"Mu_n = Mu_n * 10^4;// in cm^2/V-sec\n",
"Sigma_n = q * n_n * Mu_n;// in (ohm-cm)^-1\n",
"Rho = 1/Sigma_n;// in Ω-cm\n",
"l = 0.1;// in cm\n",
"A = 100;// µm^2\n",
"A = A * 10^-8;// in cm^2\n",
"R = Rho * (l/A);// in Ohm\n",
"R=round(R*10^-6);// in MΩ\n",
"disp(R,'The resistance of the bar in MΩ is'); "
   ]
   }
,
{
		   "cell_type": "markdown",
		   "metadata": {},
		   "source": [
			"## Example 2.21_19: Depletion_width.sce"
		   ]
		  },
  {
"cell_type": "code",
	   "execution_count": null,
	   "metadata": {
	    "collapsed": true
	   },
	   "outputs": [],
"source": [
"// Exa 2.21.19\n",
"clc;\n",
"clear;\n",
"close;\n",
"// Given data\n",
"t_d = 3;// total depletion in µm\n",
"D = t_d/9;// in µm\n",
"disp(D,'Depletion width in µm is');"
   ]
   }
,
{
		   "cell_type": "markdown",
		   "metadata": {},
		   "source": [
			"## Example 2.21_1: Hole_concentration_at_equilibrium.sce"
		   ]
		  },
  {
"cell_type": "code",
	   "execution_count": null,
	   "metadata": {
	    "collapsed": true
	   },
	   "outputs": [],
"source": [
"// Exa 2.21.1\n",
"clc;\n",
"clear;\n",
"close;\n",
"// Given data\n",
"N_d = 10^17;// atoms/cm^3\n",
"n_i = 1.5 * 10^10;// in /cm^3\n",
"n_o = 10^17;// in cm^3\n",
"// p_o * n_o = (n_i)^2\n",
"p_o = (n_i)^2 / n_o;//in holes/cm^3\n",
"disp(p_o,'The holes concentration at equilibrium in holes/cm^3 is');"
   ]
   }
,
{
		   "cell_type": "markdown",
		   "metadata": {},
		   "source": [
			"## Example 2.21_20: Majority_carrier_density.sce"
		   ]
		  },
  {
"cell_type": "code",
	   "execution_count": null,
	   "metadata": {
	    "collapsed": true
	   },
	   "outputs": [],
"source": [
"// Exa 2.21.20\n",
"clc;\n",
"clear;\n",
"close;\n",
"// Given data\n",
"n_i = 1.5 * 10^16;// in /m^3\n",
"n_n = 5 * 10^20;// in /m^3\n",
"p_n = (n_i)^2/n_n;// in /m^3\n",
"disp(p_n,'The majority carrier density per m^3 is');"
   ]
   }
,
{
		   "cell_type": "markdown",
		   "metadata": {},
		   "source": [
			"## Example 2.21_21: Collector_current_density.sce"
		   ]
		  },
  {
"cell_type": "code",
	   "execution_count": null,
	   "metadata": {
	    "collapsed": true
	   },
	   "outputs": [],
"source": [
"// Exa 2.21.21\n",
"clc;\n",
"clear;\n",
"close;\n",
"// Given data\n",
"D_n = 25;// in cm^2/sec\n",
"q = 1.6 * 10^-19;// in C\n",
"y2 = 10^14;// in /cm^3\n",
"y1 = 0;// in /cm^3\n",
"x2 = 0;//in  µm\n",
"x1 = 0.5;// in µm\n",
"x1 = x1 * 10^-4;// in cm\n",
"dnBYdx = abs((y2-y1)/(x2-x1));// in /cm^4 \n",
"J_n = q * D_n * (dnBYdx);// in /cm^4\n",
"J_n = J_n * 10^-1;// in A/cm^2\n",
"disp(J_n,'the collector current density in A/cm^2 is');\n",
"\n",
"// Note: In the book, the calculated value of dn by dx (2*10^19) is wrong. Correct value is 2*10^18 so the answer in the book is wrong."
   ]
   }
,
{
		   "cell_type": "markdown",
		   "metadata": {},
		   "source": [
			"## Example 2.21_22: Band_gap.sce"
		   ]
		  },
  {
"cell_type": "code",
	   "execution_count": null,
	   "metadata": {
	    "collapsed": true
	   },
	   "outputs": [],
"source": [
"//Exa 2.21.22\n",
"clc;\n",
"clear;\n",
"close;\n",
"// Given data\n",
"h = 6.64 * 10^-34;// in J-s\n",
"e= 1.6*10^-19;// electron charge in C\n",
"c= 3 * 10^8;// in m/s\n",
"lembda = 0.87;// in µm\n",
"lembda = lembda * 10^-6;// in m\n",
"E_g = (h * c)/lembda;// in J-s\n",
"E_g= E_g/e;// in eV\n",
"disp(E_g,'The band gap of the material in eV is');"
   ]
   }
,
{
		   "cell_type": "markdown",
		   "metadata": {},
		   "source": [
			"## Example 2.21_23: Rate_of_excess_thermal_energy.sce"
		   ]
		  },
  {
"cell_type": "code",
	   "execution_count": null,
	   "metadata": {
	    "collapsed": true
	   },
	   "outputs": [],
"source": [
"// Exa 2.21.23\n",
"clc;\n",
"clear;\n",
"close;\n",
"// Given data\n",
"I_o = 10;// in mW\n",
"e = 1.6 * 10^-19;// in J/eV\n",
"hv = 2;// in eV\n",
"hv1=1.43;// in eV\n",
"alpha = 5 * 10^4;// in cm^-1\n",
"l = 46;// in µm\n",
"l = l * 10^-6;// in m\n",
"I_t = round(I_o * exp(-(alpha) * l));// in mW\n",
"AbsorbedPower= I_o-I_t;// in mW\n",
"AbsorbedPower=AbsorbedPower*10^-3;// in W or J/s\n",
"disp(AbsorbedPower,'The absorbed power in watt or J/s is');\n",
"F= (hv-hv1)/hv;// fraction of each photon energy unit\n",
"EnergyConToHeat= AbsorbedPower*F;// in J/s\n",
"disp(EnergyConToHeat,'The amount of energy converted to heat per second in J/s is : ')\n",
"A= AbsorbedPower/(e*hv1);\n",
"disp(A,'the number of photon per sec given off from recombination events in photons/s is');"
   ]
   }
,
{
		   "cell_type": "markdown",
		   "metadata": {},
		   "source": [
			"## Example 2.21_24: Hole_current.sce"
		   ]
		  },
  {
"cell_type": "code",
	   "execution_count": null,
	   "metadata": {
	    "collapsed": true
	   },
	   "outputs": [],
"source": [
"// Exa 2.21.24\n",
"clc;\n",
"clear;\n",
"close;\n",
"// Given data\n",
"format('v',13)\n",
"Mu_p = 500;// in cm^2/v-s\n",
"kT = 0.0259;\n",
"Toh_p = 10^-10;// in sec\n",
"p_o = 10^17;// in cm^-3\n",
"q= 1.6*10^-19;// in C\n",
"A=0.5;// in square meter\n",
"del_p = 5 * 10^16;// in cm^-3\n",
"n_i= 1.5*10^10;// in cm^-3    \n",
"D_p = kT * Mu_p;// in cm/s\n",
"L_p = sqrt(D_p * Toh_p);// in cm\n",
"x = 10^-5;// in cm\n",
"p = p_o+del_p* %e^(x/L_p);// in cm^-3\n",
"// p= n_i*%e^(Eip)/kT where Eip=E_i-F_p\n",
"Eip= log(p/n_i)*kT;// in eV\n",
"Ecp= 1.1/2-Eip;// value of E_c-E_p in eV\n",
"Ip= q*A*D_p/L_p*del_p*%e^(x/L_p);// in A\n",
"disp(Ip,'The hole current in A is : ')\n",
"Qp= q*A*del_p*L_p;// in C\n",
"disp(Qp,'The value of Qp in C is : ')\n",
"\n",
"// Note: There is a calculation error to evalaute the value of hole current but they putted correct value of it to evaluate the value of Qp.\n",
"//          Hence the value of hole current in the book is wrong"
   ]
   }
,
{
		   "cell_type": "markdown",
		   "metadata": {},
		   "source": [
			"## Example 2.21_25: Hole_current.sce"
		   ]
		  },
  {
"cell_type": "code",
	   "execution_count": null,
	   "metadata": {
	    "collapsed": true
	   },
	   "outputs": [],
"source": [
"// Exa 2.21.25\n",
"clc;\n",
"clear;\n",
"close;\n",
"// Given data\n",
"format('v',13)\n",
"KT = 0.0259;\n",
"A = 0.5;// in cm^2\n",
"Toh_p = 10^-10;// in sec\n",
"p_o = 10^17;// in per cm^3\n",
"del_p = 5 * 10^16;// in per cm^3\n",
"x = 10^-5;// in cm\n",
"Mu_p = 500;// in cm^2/V-S\n",
"q = 1.6 * 10^-19;// in C\n",
"D_p = KT * Mu_p;// in cm/s\n",
"L_p = sqrt(D_p * Toh_p);// in cm\n",
"p = p_o * del_p * (%e^(x/L_p));// in per cm^3\n",
"I_p =q * A * (D_p/L_p) * del_p * (%e^(x/L_p));// in A\n",
"disp(I_p,'The hole current in A is');\n",
"Q_p = q * A * del_p * L_p;// in C \n",
"disp(Q_p,'The hole charge in C is');\n",
"\n",
"// Note: There is a calculation error to evalaute the value of hole current but they putted correct value of it to evaluate the value of Qp.\n",
"//          Hence the value of hole current in the book is wrong"
   ]
   }
,
{
		   "cell_type": "markdown",
		   "metadata": {},
		   "source": [
			"## Example 2.21_3: Fermi_level.sce"
		   ]
		  },
  {
"cell_type": "code",
	   "execution_count": null,
	   "metadata": {
	    "collapsed": true
	   },
	   "outputs": [],
"source": [
"// Exa 2.21.3\n",
"clc;\n",
"clear;\n",
"close;\n",
"// Given data\n",
"n_i = 1.5 * 10 ^10;// in /cm^3 for silicon\n",
"N_d = 10^17;// in atoms/cm^3\n",
"n_o = 10^17;// electrons/cm^3\n",
"KT = 0.0259;\n",
"// E_r - E_i = KT * log(n_o/n_i)\n",
"del_E = KT * log(n_o/n_i);// in eV\n",
"disp('The energy band for this type material is Ei + '+string(del_E)+' eV');"
   ]
   }
,
{
		   "cell_type": "markdown",
		   "metadata": {},
		   "source": [
			"## Example 2.21_4: Diffusion_coefficients_of_electrons.sce"
		   ]
		  },
  {
"cell_type": "code",
	   "execution_count": null,
	   "metadata": {
	    "collapsed": true
	   },
	   "outputs": [],
"source": [
"// Exa 2.21.4\n",
"clc;\n",
"clear;\n",
"close;\n",
"// Given data\n",
"K = 1.38 * 10^-23;// in J/K\n",
"T = 27;// in degree\n",
"T = T + 273;// in K\n",
"e = 1.6 * 10^-19;// in C\n",
"Mu_e = 0.17;// in m^2/v-s\n",
"Mu_e1 = 0.025;// in m^2/v-s\n",
"D_n = ((K * T)/e) * Mu_e;// in m^2/s\n",
"disp(D_n,'The diffusion coefficient of electrons in m^2/s is');\n",
"D_p = ((K * T)/e) * Mu_e1;// in m^2/s\n",
"disp(D_p,'The diffusion coefficient of  holes in m^2/s is ');"
   ]
   }
,
{
		   "cell_type": "markdown",
		   "metadata": {},
		   "source": [
			"## Example 2.21_5: Diffusion_length.sce"
		   ]
		  },
  {
"cell_type": "code",
	   "execution_count": null,
	   "metadata": {
	    "collapsed": true
	   },
	   "outputs": [],
"source": [
"// Exa 2.21.5\n",
"clc;\n",
"clear;\n",
"close;\n",
"// Given data\n",
"Mu_n = 0.15;// in m^2/v-s\n",
"K = 1.38 * 10^-23; // in J/K\n",
"T = 300;// in K\n",
"del_n = 10^20;// in per m^3\n",
"Toh_n = 10^-7;// in s\n",
"e = 1.6 * 10^-19;// in C\n",
"D_n = Mu_n * ((K * T)/e);// in m^2/s\n",
"disp(D_n,'The diffusion coefficient in m^2/s is');\n",
"L_n = sqrt(D_n * Toh_n);// in m \n",
"disp(L_n,'The Diffusion length in m is');\n",
"J_n = (e * D_n * del_n)/L_n;// in A/m^2\n",
"disp(J_n,'The diffusion current density in A/m^2 is'); \n",
"// Note : The value of diffusion coefficient in the book is wrong.\n",
"\n",
""
   ]
   }
,
{
		   "cell_type": "markdown",
		   "metadata": {},
		   "source": [
			"## Example 2.21_6: Concentration_of_holes_and_electrons.sce"
		   ]
		  },
  {
"cell_type": "code",
	   "execution_count": null,
	   "metadata": {
	    "collapsed": true
	   },
	   "outputs": [],
"source": [
"// Exa 2.21.6\n",
"clc;\n",
"clear;\n",
"close;\n",
"// Given data\n",
"Sigma = 0.1;// in (ohm-m)^-1\n",
"Mu_n = 1300;\n",
"n_i = 1.5 * 10^10;\n",
"q = 1.6 * 10^-19;// in C\n",
"n_n = Sigma/(Mu_n * q);// in electrons/cm^3\n",
"disp(n_n*10^6,'The concentration of electrons per m^3 is');\n",
"p_n = (n_i)^2/n_n;// in per cm^3\n",
"p_n = p_n * 10^6;// in perm^3\n",
"disp(p_n,'The concentration of holes per m^3 is');"
   ]
   }
,
{
		   "cell_type": "markdown",
		   "metadata": {},
		   "source": [
			"## Example 2.21_7: Electron_transit_time.sce"
		   ]
		  },
  {
"cell_type": "code",
	   "execution_count": null,
	   "metadata": {
	    "collapsed": true
	   },
	   "outputs": [],
"source": [
"// Exa 2.21.7\n",
"clc;\n",
"clear;\n",
"close;\n",
"// Given data\n",
"Mu_e = 0.13;// in m^2/v-s\n",
"Mu_h = 0.05;// in m^2/v-s\n",
"Toh_h = 10^-6;// in s\n",
"L = 100;// in µm\n",
"L = L * 10^-6;// in m\n",
"V = 2;// in V\n",
"t_n =L^2/(Mu_e * V);// in s\n",
"disp(t_n,'Electron transit time in seconds is');\n",
"p_g = (Toh_h/t_n) * (1 + Mu_h/Mu_e);//photo conductor gain \n",
"disp(p_g,'Photo conductor gain is');\n",
"\n",
"// Note: There is a calculation error to evaluate the value of t_n. So the answer in the book is wrong"
   ]
   }
,
{
		   "cell_type": "markdown",
		   "metadata": {},
		   "source": [
			"## Example 2.21_8: Resistivity_of_intrinsic_Ge.sce"
		   ]
		  },
  {
"cell_type": "code",
	   "execution_count": null,
	   "metadata": {
	    "collapsed": true
	   },
	   "outputs": [],
"source": [
"// Exa 2.21.8\n",
"clc;\n",
"clear;\n",
"close;\n",
"//Given data\n",
"n_i = 2.5 * 10^13;\n",
"Mu_n = 3800;\n",
"Mu_p = 1800;\n",
"q = 1.6 * 10^-19;// in C\n",
"Sigma = n_i * (Mu_n + Mu_p) * q;// in (ohm-cm)^-1\n",
"Rho = 1/Sigma;// in ohm-cm\n",
"Rho= round(Rho);\n",
"disp(Rho,'The resistivity of intrinsic germanium in ohm-cm is');\n",
"N_D = 4.4 * 10^22/(1*10^8);// in atoms/cm^3\n",
"Sigma_n = N_D * Mu_n * q;// in (ohm-cm)^-1\n",
"Rho_n = 1/Sigma_n;// in ohm-cm\n",
"disp(Rho_n,'If a donor type impurity is added to the extent of 1 atom per 10^8 Ge atoms, then the resistivity drops in ohm-cm is');"
   ]
   }
,
{
		   "cell_type": "markdown",
		   "metadata": {},
		   "source": [
			"## Example 2.21_9: Hole_and_electron_concentration.sce"
		   ]
		  },
  {
"cell_type": "code",
	   "execution_count": null,
	   "metadata": {
	    "collapsed": true
	   },
	   "outputs": [],
"source": [
"// Exa 2.21.9\n",
"clc;\n",
"clear;\n",
"close;\n",
"// Given data\n",
"n_i = 10^16;// in /m3\n",
"N_D = 10^22;// in /m^3\n",
"n = N_D;// in /m^3\n",
"disp(n,'Electron concentration per m^3 is');\n",
"p = (n_i)^2/n;// in /m^3\n",
"disp(p,'Hole concentration per m^3 is');"
   ]
   }
],
"metadata": {
		  "kernelspec": {
		   "display_name": "Scilab",
		   "language": "scilab",
		   "name": "scilab"
		  },
		  "language_info": {
		   "file_extension": ".sce",
		   "help_links": [
			{
			 "text": "MetaKernel Magics",
			 "url": "https://github.com/calysto/metakernel/blob/master/metakernel/magics/README.md"
			}
		   ],
		   "mimetype": "text/x-octave",
		   "name": "scilab",
		   "version": "0.7.1"
		  }
		 },
		 "nbformat": 4,
		 "nbformat_minor": 0
}
