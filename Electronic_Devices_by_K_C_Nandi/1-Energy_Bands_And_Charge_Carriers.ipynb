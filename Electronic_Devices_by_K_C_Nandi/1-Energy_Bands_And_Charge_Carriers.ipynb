{
"cells": [
 {
		   "cell_type": "markdown",
	   "metadata": {},
	   "source": [
       "# Chapter 1: Energy Bands And Charge Carriers"
	   ]
	},
{
		   "cell_type": "markdown",
		   "metadata": {},
		   "source": [
			"## Example 1.18_1: Position_of_Fermi_level.sce"
		   ]
		  },
  {
"cell_type": "code",
	   "execution_count": null,
	   "metadata": {
	    "collapsed": true
	   },
	   "outputs": [],
"source": [
"//Exa 1.18.1\n",
"clc;\n",
"clear;\n",
"close;\n",
"// Given data\n",
"del_E = 0.3;// in eV\n",
"T1 = 300;// in K\n",
"T2 = 330;// in K\n",
"// del_E = K * T1 * log(N/N_c) where del_E= E_C-E_F\n",
"// del_E1 = K * T2 * log(N/N_c) where del_E1= E_C-E_F at T= 330 °K\n",
"del_E1 = del_E*(T2/T1);// in eV \n",
"disp('The Fermi level will be '+string(del_E1)+' eV below the conduction band')"
   ]
   }
,
{
		   "cell_type": "markdown",
		   "metadata": {},
		   "source": [
			"## Example 1.18_2: Probability.sce"
		   ]
		  },
  {
"cell_type": "code",
	   "execution_count": null,
	   "metadata": {
	    "collapsed": true
	   },
	   "outputs": [],
"source": [
"//Exa 1.18.2\n",
"clc;\n",
"clear;\n",
"close;\n",
"// Given data\n",
"N_c = 2.8 * 10^19;// in cm^-3\n",
"del_E = 0.25;// fermi energy in eV\n",
"KT = 0.0259;\n",
"f_F = exp(-(del_E)/KT);\n",
"disp(f_F,'The probbaility in the condition band is occupied by an electron is ');\n",
"n_o = N_c * exp(-(del_E)/KT);// in cm^-3\n",
"disp(n_o,'The thermal equilibrium electron concentration in cm^-3 is');\n",
""
   ]
   }
,
{
		   "cell_type": "markdown",
		   "metadata": {},
		   "source": [
			"## Example 1.18_3: Thermal_equilibrium_hole_concentration.sce"
		   ]
		  },
  {
"cell_type": "code",
	   "execution_count": null,
	   "metadata": {
	    "collapsed": true
	   },
	   "outputs": [],
"source": [
"//Exa1.18.3\n",
"clc;\n",
"clear;\n",
"close;\n",
"// Given data\n",
"T1 = 300;// in K\n",
"T2 = 400;// in K\n",
"del_E = 0.27;// Fermi level in eV\n",
"KT = (0.0259) * (T2/T1);// in eV\n",
"N_v = 1.04 * 10^19;// in cm^-3\n",
"N_v = N_v * (T2/T1)^(3/2);// in cm^-3 \n",
"p_o = N_v * exp(-(del_E)/KT);// in per cm^3\n",
"disp(p_o,'The thermal equilibrium hole concentration in per cm^3 is');"
   ]
   }
,
{
		   "cell_type": "markdown",
		   "metadata": {},
		   "source": [
			"## Example 1.21_1: Conductivity_of_pure_Si.sce"
		   ]
		  },
  {
"cell_type": "code",
	   "execution_count": null,
	   "metadata": {
	    "collapsed": true
	   },
	   "outputs": [],
"source": [
"// Exa 1.21.1\n",
"clc;\n",
"clear;\n",
"close;\n",
"// Given data\n",
"Mu_e = 1500;// in cm^2/volt sec\n",
"Mu_h = 500;// in cm^2/volt sec\n",
"n_i = 1.6 * 10^10;// in per cm^3\n",
"e = 1.6 * 10^-19;// in C\n",
"Sigma = n_i * (Mu_e + Mu_h) * e;// in mho/cm\n",
"disp(Sigma,'The conductivity of pure semiconductor in mho/cm is');"
   ]
   }
,
{
		   "cell_type": "markdown",
		   "metadata": {},
		   "source": [
			"## Example 1.21_2: Number_of_donar_atoms.sce"
		   ]
		  },
  {
"cell_type": "code",
	   "execution_count": null,
	   "metadata": {
	    "collapsed": true
	   },
	   "outputs": [],
"source": [
"// Exa 1.21.2\n",
"clc;\n",
"clear;\n",
"close;\n",
"// Given data\n",
"Rho = 10;// in Ω-cm\n",
"Mu_d = 500;// in cm^2/v.s.\n",
"e = 1.6*10^-19;\n",
"n_d = 1/(Rho * e * Mu_d);// in per cm^3\n",
"disp(n_d,'The number of donor atom must be added to achieve in per cm^3 is ');"
   ]
   }
,
{
		   "cell_type": "markdown",
		   "metadata": {},
		   "source": [
			"## Example 1.21_3: Conductivity_of_speciman.sce"
		   ]
		  },
  {
"cell_type": "code",
	   "execution_count": null,
	   "metadata": {
	    "collapsed": true
	   },
	   "outputs": [],
"source": [
"//Exa 1.21.3\n",
"clc;\n",
"clear;\n",
"close;\n",
"//Given data\n",
"AvagadroNumber = 6.02 * 10^23;// in atoms/gm.mole\n",
"at_Ge = 72.6;// atom weight of Ge\n",
"e = 1.6 * 10^-19;// in C\n",
"D_Ge = 5.32;// density of Ge in gm/c.c\n",
"Mu = 3800;// in cm^2/v.s.\n",
"C_Ge = (AvagadroNumber/at_Ge) * D_Ge;// concentration of Ge atoms in per cm^3\n",
"n_d = C_Ge/10^8;// in per cc\n",
"Sigma = n_d * Mu * e;// in mho/cm\n",
"disp(Sigma,'The conductivity in mho/cm is');"
   ]
   }
,
{
		   "cell_type": "markdown",
		   "metadata": {},
		   "source": [
			"## Example 1.21_4: Mobility_of_electrons_in_Ge.sce"
		   ]
		  },
  {
"cell_type": "code",
	   "execution_count": null,
	   "metadata": {
	    "collapsed": true
	   },
	   "outputs": [],
"source": [
"// Exa1.21.4\n",
"clc;\n",
"clear;\n",
"close;\n",
"// Given data\n",
"Rho = 0.3623 * 10^-3;// in Ohm m\n",
"Sigma = 1/Rho;//in mho/m\n",
"D = 4.42 * 10^28;// Ge density in atom/m^3\n",
"n_d = D / 10^6;// in atom/m^3\n",
"e = 1.6 * 10^-19;// in C\n",
"Mu = Sigma/(n_d * e);// in m^2/V.sec\n",
"disp(Mu,'The mobility of electron in germanium in m^2/V.sec is');"
   ]
   }
,
{
		   "cell_type": "markdown",
		   "metadata": {},
		   "source": [
			"## Example 1.21_5: Density_and_mobility_of_holes.sce"
		   ]
		  },
  {
"cell_type": "code",
	   "execution_count": null,
	   "metadata": {
	    "collapsed": true
	   },
	   "outputs": [],
"source": [
"//Exa 1.21.5\n",
"clc;\n",
"clear;\n",
"close;\n",
"// Given data\n",
"AvagadroNumber = 6.025 * 10^26;// in kg.Mole\n",
"W = 72.59;// atomic weight of Ge\n",
"D = 5.36 * 10^3;//density of Ge in kg/m^3\n",
"Rho = 0.42;// resistivity in Ohm m\n",
"e = 1.6 * 10^-19;// in C\n",
"Sigma = 1/Rho;// in mho/m\n",
"n = (AvagadroNumber/W) * D;// number of Ge atoms present per unit volume\n",
"// Holes per unit volume, H = n*10^-6%\n",
"H= n*10^-8;\n",
"a=H;\n",
"// Formula sigma= a*e*Mu_h\n",
"Mu_h = Sigma/(a * e);// in m^2/V.sec\n",
"disp(Mu_h,'Mobility of holes in m^2/V.sec is');"
   ]
   }
,
{
		   "cell_type": "markdown",
		   "metadata": {},
		   "source": [
			"## Example 1.21_6: Current_produced.sce"
		   ]
		  },
  {
"cell_type": "code",
	   "execution_count": null,
	   "metadata": {
	    "collapsed": true
	   },
	   "outputs": [],
"source": [
"//Exa 1.21.6\n",
"clc;\n",
"clear;\n",
"close;\n",
"// Given data\n",
"e = 1.6 * 10^-19;// in C\n",
"n_i = 2 * 10^19;// in /m^3\n",
"Mu_e = 0.36;// in m^2/v.s\n",
"Mu_h = 0.17;// in m^2/v.s\n",
"A = 1 * 10^-4;// in  m^2\n",
"V = 2;//in volts\n",
"l = 0.3;// in mm\n",
"l = l * 10^-3;// in m\n",
"E=V/l;// in volt/m\n",
"Sigma = n_i * e * (Mu_e + Mu_h);// in mho/m\n",
"// J = I/A = Sigma * E\n",
"I= Sigma*E*A;\n",
"disp(I,'The current produced in a small germanium plate in amp is');\n",
"\n",
" "
   ]
   }
,
{
		   "cell_type": "markdown",
		   "metadata": {},
		   "source": [
			"## Example 1.21_7: Resitivity_of_doped_Ge_atoms.sce"
		   ]
		  },
  {
"cell_type": "code",
	   "execution_count": null,
	   "metadata": {
	    "collapsed": true
	   },
	   "outputs": [],
"source": [
"// Exa 1.21.7\n",
"clc;\n",
"clear;\n",
"close;\n",
"// Given data\n",
"D = 4.2 * 10^28;//density of Ge atoms in atoms/m^3\n",
"N_d = D / 10^6;// in atoms/m^3\n",
"e = 1.6 * 10^-19;// in C\n",
"Mu_e = 0.36;// in m^2/vs\n",
"Sigma_n = N_d *  e * Mu_e;// in mho/m\n",
"Rho_n = 1/Sigma_n;// in ohm m\n",
"disp(Rho_n,'The resistivity of drop Ge in ohm m is ');"
   ]
   }
,
{
		   "cell_type": "markdown",
		   "metadata": {},
		   "source": [
			"## Example 1.21_8: Current_produced_in_Ge_sample.sce"
		   ]
		  },
  {
"cell_type": "code",
	   "execution_count": null,
	   "metadata": {
	    "collapsed": true
	   },
	   "outputs": [],
"source": [
"// Exa 1.21.8\n",
"clc;\n",
"clear;\n",
"close;\n",
"// given data\n",
"e = 1.6 * 10^-19;// in C\n",
"n_i = 1 * 10^19;// in per m^3\n",
"Mu_e = 0.36;// in m^2/volt.sec\n",
"Mu_h = 0.17;// in m^2/volt.sec \n",
"A = 2;// in cm^2\n",
"A = A * 10^-4;// im m^2\n",
"t = 0.1;// in mm\n",
"t = t * 10^-3;// in m\n",
"V = 4;// in volts\n",
"Sigma_i = n_i * e * (Mu_e + Mu_h);// in mho/m\n",
"J = Sigma_i * (V/t);// in Amp/m^2\n",
"I = J * A;// in Amp\n",
"disp(I,'The current produced in a Ge sample in Amp is');"
   ]
   }
,
{
		   "cell_type": "markdown",
		   "metadata": {},
		   "source": [
			"## Example 1.21_9: Conductivity_of_pure_Si.sce"
		   ]
		  },
  {
"cell_type": "code",
	   "execution_count": null,
	   "metadata": {
	    "collapsed": true
	   },
	   "outputs": [],
"source": [
"//Exa 1.21.9\n",
"clc;\n",
"clear;\n",
"close;\n",
"// Given data\n",
"e = 1.6 * 10^-19;// in C\n",
"Mu_h = 500;// in cm^2/V.s.\n",
"Mu_e = 1500;// in cm^2/V.s.\n",
"n_i = 1.6 * 10^10;// in per cm^3\n",
"Sigma_i = n_i * e * ( Mu_h + Mu_e);// in mho/cm\n",
"disp(Sigma_i,'Conductivity of pure silicon at room temperature in mho/cm is');"
   ]
   }
,
{
		   "cell_type": "markdown",
		   "metadata": {},
		   "source": [
			"## Example 1.23_10: Required_doping_concentration.sce"
		   ]
		  },
  {
"cell_type": "code",
	   "execution_count": null,
	   "metadata": {
	    "collapsed": true
	   },
	   "outputs": [],
"source": [
"//Exa 1.23.10\n",
"clc;\n",
"clear;\n",
"close;\n",
"//Given data\n",
"N_c = 2.8 * 10^19;\n",
"N_V = 1.04 *10^19;\n",
"T1 = 550;// in K\n",
"T2 = 300;// in K\n",
"E_g = 1.12;\n",
"KT = (0.0259) ;\n",
"n_i = sqrt(N_c *N_V *(T1/T2)^3* exp(-(E_g)/KT*T2/T1));// in cm^-3\n",
"// n_o = N_d/2 + sqrt((N_d/2)^2 + (n_i)^2)\n",
"// 1.05*N_d -N_d/2= sqrt((N_d/2)^2 + (n_i)^2)\n",
"N_d=sqrt((n_i)^2/((0.55)^2-1/4));\n",
"disp(N_d,'Minimum donor concentration required in cm^-3 is'); \n",
""
   ]
   }
,
{
		   "cell_type": "markdown",
		   "metadata": {},
		   "source": [
			"## Example 1.23_11: Quasi_Fermi_energy_levels.sce"
		   ]
		  },
  {
"cell_type": "code",
	   "execution_count": null,
	   "metadata": {
	    "collapsed": true
	   },
	   "outputs": [],
"source": [
"//Exa 1.23.11\n",
"clc;\n",
"clear;\n",
"close;\n",
"//Given data\n",
"T = 300;// in K\n",
"n_o = 10^15;// in cm^-3\n",
"n_i = 10^10;// in cm^-3\n",
"p_o = 10^5;// in cm^-3\n",
"del_n = 10^13;// in cm^-3\n",
"del_p = del_n;// in cm^-3\n",
"KT = 0.0259;// in eV\n",
"delta_E1= KT*log(n_o/n_i);// value of E_F-E_Fi in eV\n",
"delta_E2= KT*log((n_o+del_n)/n_i);// value of E_Fn-E_Fi in eV\n",
"delta_E3= KT*log((p_o+del_p)/n_i);// value of E_Fi-E_Fp in eV\n",
"disp(delta_E1,'The Fermi level for thermal equillibrium in eV is : ')\n",
"disp(delta_E2,'The quase-Fermi level for electrons in non equillibrium in eV is : ')\n",
"disp(delta_E3,'The quasi-Fermi level for holes in non equillibrium in eV is : ')\n",
"disp('The quasi-Fermi level for electrons is above E_Fi ')\n",
"disp('While the quasi-Fermi level for holes is below E_Fi')"
   ]
   }
,
{
		   "cell_type": "markdown",
		   "metadata": {},
		   "source": [
			"## Example 1.23_12: Equilibrium_hole_concentration.sce"
		   ]
		  },
  {
"cell_type": "code",
	   "execution_count": null,
	   "metadata": {
	    "collapsed": true
	   },
	   "outputs": [],
"source": [
"// Exa 1.23.12\n",
"clc;\n",
"clear;\n",
"close;\n",
"//Given data\n",
"n_i = 1.5 * 10^10;\n",
"n_o = 10^17;\n",
"KT = 0.0259;\n",
"P_o = (n_i)^2/n_o;// in cm^-3\n",
"del_E = KT * log(n_o/n_i);// in eV\n",
"disp(del_E,'equilibrium hole concentration in eV is');"
   ]
   }
,
{
		   "cell_type": "markdown",
		   "metadata": {},
		   "source": [
			"## Example 1.23_13: Current.sce"
		   ]
		  },
  {
"cell_type": "code",
	   "execution_count": null,
	   "metadata": {
	    "collapsed": true
	   },
	   "outputs": [],
"source": [
"//exa 1.23.13\n",
"clc;\n",
"clear;\n",
"close;\n",
"//Given data\n",
"Mu_n = 700;//in cm^2/v-s\n",
"n_o = 10^17;// in /cm^3\n",
"q = 1.6 * 10^-19;// in C\n",
"l = 0.1;// in cm\n",
"A = 10^-6;\n",
"V = 10;// in V\n",
"Sigma = q * Mu_n * n_o;// in (ohm cm)^-1\n",
"Rho = 1/Sigma;//in ohm cm \n",
"R = Rho * (l/A);// in ohm\n",
"I = V/R;// in A\n",
"disp(I*10^3,'The current in mA is');\n",
""
   ]
   }
,
{
		   "cell_type": "markdown",
		   "metadata": {},
		   "source": [
			"## Example 1.23_1: Hall_voltage_produced.sce"
		   ]
		  },
  {
"cell_type": "code",
	   "execution_count": null,
	   "metadata": {
	    "collapsed": true
	   },
	   "outputs": [],
"source": [
"//Exa 1.23.1\n",
"clc;\n",
"clear;\n",
"close;\n",
"//Given data\n",
"l= 0.50*10^-2;// width of ribbon in m\n",
"d= 0.10*10^-3;// thickness of ribbon in m\n",
"A= l*d;// area of ribbon in m^2\n",
"B = 0.8;// in Tesla\n",
"D = 10.5;//density in gm/cc\n",
"I = 2;// in amp\n",
"q = 1.6 * 10^-19;// in C\n",
"n=6*10^28;// number of elec. per m^3\n",
"V_H = ( I * B * d)/(n * q * A);// in volts\n",
"disp(V_H,'The hall Voltage produced in volts is');\n",
""
   ]
   }
,
{
		   "cell_type": "markdown",
		   "metadata": {},
		   "source": [
			"## Example 1.23_2: Hall_coefficient_and_mobility_of_electrons.sce"
		   ]
		  },
  {
"cell_type": "code",
	   "execution_count": null,
	   "metadata": {
	    "collapsed": true
	   },
	   "outputs": [],
"source": [
"//Exa 1.23.2\n",
"clc;\n",
"clear;\n",
"close;\n",
"// Given data\n",
"l = 1;// in m\n",
"d = 1;// in cm\n",
"d = d * 10^-2;// in m\n",
"W = 1;// in mm\n",
"W = W * 10^-3;// in m\n",
"A = d * W;// in m^2\n",
"I= 1;// in Amp\n",
"B = 1;// Tesla\n",
"V_H = 0.074 * 10^-6;// in Volts\n",
"Sigma = 5.8 * 10^7;// in mho/m\n",
"R_H = (V_H * A)/(B*I*d);// in m^3/c\n",
"disp(R_H,'The hall coefficient in m^3/c is');\n",
"Mu = Sigma * R_H;// in m^2/volt.sec\n",
"disp(Mu,'The mobility  of electrons in copper in m^2/volt-sec is ');"
   ]
   }
,
{
		   "cell_type": "markdown",
		   "metadata": {},
		   "source": [
			"## Example 1.23_3: Concentration_of_holes_in_Si_crystals.sce"
		   ]
		  },
  {
"cell_type": "code",
	   "execution_count": null,
	   "metadata": {
	    "collapsed": true
	   },
	   "outputs": [],
"source": [
"//Exa1.23.3\n",
"clc;\n",
"clear;\n",
"close;\n",
"// Given data\n",
"n_i = 1.4 * 10^18;// in /m^3\n",
"n_D = 1.4 * 10^24;// in /m^3\n",
"n=n_D;// in /m^3\n",
"p = n_i^2/n;// in /m^3\n",
"R = n/p;\n",
"disp(R,'The ratio of electrons to hole concentration is');"
   ]
   }
,
{
		   "cell_type": "markdown",
		   "metadata": {},
		   "source": [
			"## Example 1.23_4: Hall_angle.sce"
		   ]
		  },
  {
"cell_type": "code",
	   "execution_count": null,
	   "metadata": {
	    "collapsed": true
	   },
	   "outputs": [],
"source": [
"//Exa 1.23.4\n",
"clc;\n",
"clear;\n",
"close;\n",
"// Given data\n",
"B = 0.48;// in wb/m^2\n",
"R_H = 3.55 * 10^-4;// in m^3/c\n",
"Rho = 0.00912;// in ohm-m\n",
"Sigma = 1/Rho;// in (ohm-m)^-1\n",
"theta_H = atand( Sigma * B * R_H);// in degree\n",
"disp(theta_H,'The hall angle for a hall coefficient in degree is');"
   ]
   }
,
{
		   "cell_type": "markdown",
		   "metadata": {},
		   "source": [
			"## Example 1.23_5: Mobility_and_density_of_charge_carriers.sce"
		   ]
		  },
  {
"cell_type": "code",
	   "execution_count": null,
	   "metadata": {
	    "collapsed": true
	   },
	   "outputs": [],
"source": [
"//Exa 1.23.5\n",
"clc;\n",
"clear;\n",
"close;\n",
"//Given data\n",
"R = 9 * 10^-3;// in ohm-m\n",
"R_H = 3.6 * 10^-4;// in m^3\n",
"e = 1.6 * 10^-19;// in C\n",
"Sigma = 1/R;// in (ohm-m)^-1\n",
"Rho = 1/R_H;// in coulomb/m^3\n",
"n = Rho/e;// in /m^3\n",
"disp(n,'Density of charge carriers in per m^3 is');\n",
"Mu = Sigma * R_H;// in m^2/v-s\n",
"disp(Mu,'Mobility of charge carriers in m^2/V-s is');\n",
""
   ]
   }
,
{
		   "cell_type": "markdown",
		   "metadata": {},
		   "source": [
			"## Example 1.23_6: Current_density_in_speciman.sce"
		   ]
		  },
  {
"cell_type": "code",
	   "execution_count": null,
	   "metadata": {
	    "collapsed": true
	   },
	   "outputs": [],
"source": [
"//Exa 1.23.6\n",
"clc;\n",
"clear;\n",
"close;\n",
"// Given data\n",
"e = 1.6 * 10^-19;// in C\n",
"R_H = 0.0145;// in m^3/coulomb\n",
"Mu_e = 0.36;// in m^2/v-s\n",
"E = 100;// in V/m\n",
"n = 1/(e * R_H);// in /m^3\n",
"J = n * e * Mu_e * E;// in A/m^2\n",
"disp(J,'The current density of specimen in A/m^2 is');"
   ]
   }
,
{
		   "cell_type": "markdown",
		   "metadata": {},
		   "source": [
			"## Example 1.23_7: Relaxation_time.sce"
		   ]
		  },
  {
"cell_type": "code",
	   "execution_count": null,
	   "metadata": {
	    "collapsed": true
	   },
	   "outputs": [],
"source": [
"//Exa 1.23.7\n",
"clc;\n",
"clear;\n",
"close;\n",
"//Given data\n",
"Mu_e = 7.04 * 10^-3;// in m^2/v-s\n",
"m = 9.1 * 10^-31;\n",
"E_F = 5.5;// in eV\n",
"n = 5.8 * 10^28;\n",
"e = 1.6 * 10^-19;// in C\n",
"Torque = (Mu_e/e) * m;// in sec\n",
"disp(Torque,'Relaxation Time in sec is ');\n",
"Rho = 1 /(n * e * Mu_e);// in ohm-m\n",
"disp(Rho,'Resistivity of conductor in ohm-m is ');\n",
"V_F = sqrt((2 * E_F * e)/m);// in m/s\n",
"disp(V_F,'Velocity of electrons with fermi-energy in m/s is');\n",
""
   ]
   }
,
{
		   "cell_type": "markdown",
		   "metadata": {},
		   "source": [
			"## Example 1.23_8: Temperature.sce"
		   ]
		  },
  {
"cell_type": "code",
	   "execution_count": null,
	   "metadata": {
	    "collapsed": true
	   },
	   "outputs": [],
"source": [
"//Exa 1.23.8\n",
"clc;\n",
"clear;\n",
"close;\n",
"// Given data\n",
"E= 5.95;// in eV\n",
"EF= 6.25;// in eV\n",
"delE= 0.01;\n",
" // delE= 1-1/(1+exp((E-EF)/KT))\n",
"K=1.38*10^-23;// Boltzman Constant in J/K\n",
"T = ((E-EF)/log(1/(1-delE) -1)*1.6*10^-19)/K;// in K\n",
"disp(T,'The temperature in K is : ')\n",
" "
   ]
   }
,
{
		   "cell_type": "markdown",
		   "metadata": {},
		   "source": [
			"## Example 1.23_9: Thermal_equilibrium_hole_concentration.sce"
		   ]
		  },
  {
"cell_type": "code",
	   "execution_count": null,
	   "metadata": {
	    "collapsed": true
	   },
	   "outputs": [],
"source": [
"//Exa 1.23.9\n",
"clc;\n",
"clear;\n",
"close;\n",
"// Given data \n",
"N_V = 1.04 * 10^19;// in cm^-3\n",
"T1 = 300;// in K\n",
"T2 = 400;// in K\n",
"del_E = 0.27;// in eV\n",
"N_V = N_V * (T2/T1)^1.5;// in cm^-3\n",
"KT = (0.0259) * (T2/T1);// in eV\n",
"P_o = N_V * exp(-(del_E)/KT);// in cm^-3\n",
"disp(P_o,'The thermal equilibrium hole concentration in silicon in cm^-3 is ');\n",
""
   ]
   }
,
{
		   "cell_type": "markdown",
		   "metadata": {},
		   "source": [
			"## Example 1.7_1: Wavelength.sce"
		   ]
		  },
  {
"cell_type": "code",
	   "execution_count": null,
	   "metadata": {
	    "collapsed": true
	   },
	   "outputs": [],
"source": [
"//Exa 1.7.1\n",
"clc;\n",
"clear;\n",
"close;\n",
"// Given data\n",
"E_g = 0.75// in eV\n",
"E_g = 0.75 * 1.6 * 10^-19;// in J\n",
"h = 6.63 * 10^-34;// in J\n",
"c = 3 * 10^8;// in m/s \n",
"// hv = E_g\n",
"//E_g = (h*c)/lambda\n",
"lambda = (h*c)/E_g;// in m\n",
"lambda = lambda * 10^10;// in A°\n",
"disp(lambda,'The wavelength at which germanium starts to absorb light in A° is');"
   ]
   }
,
{
		   "cell_type": "markdown",
		   "metadata": {},
		   "source": [
			"## Example 1.7_2: Energy_gap_of_Si.sce"
		   ]
		  },
  {
"cell_type": "code",
	   "execution_count": null,
	   "metadata": {
	    "collapsed": true
	   },
	   "outputs": [],
"source": [
"// Exa 1.7.2\n",
"clc;\n",
"clear;\n",
"close;\n",
"// Given data\n",
"h = 6.625 * 10^-34;// in J\n",
"c = 3 * 10^8;// in J\n",
"lambda_Gr = 17760 * 10^-10;// in m\n",
"lambda_Si = 11000;// in A°\n",
"lambda_Si = lambda_Si * 10^-10;// in m\n",
"E_g = (h*c)/lambda_Si;// in J\n",
"E_g = E_g /(1.6*10^-19);// in eV\n",
"disp(E_g,'The energy gap of Si in eV is ');\n",
"E_g1 = (h*c)/lambda_Gr;// in J\n",
"E_g1 = E_g1/(1.6 * 10^-19);// in eV\n",
"disp(E_g1,'The energy gap of Germanium in eV is ');\n",
""
   ]
   }
],
"metadata": {
		  "kernelspec": {
		   "display_name": "Scilab",
		   "language": "scilab",
		   "name": "scilab"
		  },
		  "language_info": {
		   "file_extension": ".sce",
		   "help_links": [
			{
			 "text": "MetaKernel Magics",
			 "url": "https://github.com/calysto/metakernel/blob/master/metakernel/magics/README.md"
			}
		   ],
		   "mimetype": "text/x-octave",
		   "name": "scilab",
		   "version": "0.7.1"
		  }
		 },
		 "nbformat": 4,
		 "nbformat_minor": 0
}
