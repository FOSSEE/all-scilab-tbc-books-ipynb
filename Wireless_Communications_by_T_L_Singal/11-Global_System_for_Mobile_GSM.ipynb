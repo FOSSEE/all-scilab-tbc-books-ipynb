{
"cells": [
 {
		   "cell_type": "markdown",
	   "metadata": {},
	   "source": [
       "# Chapter 11: Global System for Mobile GSM"
	   ]
	},
{
		   "cell_type": "markdown",
		   "metadata": {},
		   "source": [
			"## Example 11.10: maximum_frequency_hop.sce"
		   ]
		  },
  {
"cell_type": "code",
	   "execution_count": null,
	   "metadata": {
	    "collapsed": true
	   },
	   "outputs": [],
"source": [
"BWupl=890\n",
"BWupu=915\n",
"BWdwl=935\n",
"BWdwu=960\n",
"BWup=BWupu-BWupl//bandwidth uplink\n",
"BWdw=BWdwu-BWdwl//bandwidth downlink\n",
"if BWup==BWdw then\n",
"    disp(BWup,'in either case the maximum frequency hop or change from one frame to the next in MHz')\n",
"else\n",
"    disp(BWup,'in uplink case the maximum frequency hop or change from one frame to the next in MHz')\n",
"    disp(BWdw,'in downlink case the maximum frequency hop or change from one frame to the next in MHz')\n",
"end\n",
"mecfup=BWupl+(BWupu-BWupl)/2//uplink transmission\n",
"mfhup=BWup/mecfup\n",
"disp(mfhup*100,'maximum frequency hop for uplink transmission in %')\n",
"mecfdw=BWdwl+(BWdwu-BWdwl)/2//downlink transmission\n",
"mfhdw=BWdw/mecfdw\n",
"disp(mfhdw*100,'maximum frequency hop for downlink transmission in %')"
   ]
   }
,
{
		   "cell_type": "markdown",
		   "metadata": {},
		   "source": [
			"## Example 11.2: 3_dB_bandwidth.sce"
		   ]
		  },
  {
"cell_type": "code",
	   "execution_count": null,
	   "metadata": {
	    "collapsed": true
	   },
	   "outputs": [],
"source": [
"Rb=270.833*10^3//channel data rate\n",
"Tb=1/Rb//baseband symbol duration\n",
"BW=.3/Tb//bandwidth 3dB\n",
"disp(BW,'3-dB bandwidth in Hz for a Gaussian LPF used to produce B*Ts=0.3GMSK modulation in GSM standard is ')"
   ]
   }
,
{
		   "cell_type": "markdown",
		   "metadata": {},
		   "source": [
			"## Example 11.3: theoretical_signal_to_noise_ratio.sce"
		   ]
		  },
  {
"cell_type": "code",
	   "execution_count": null,
	   "metadata": {
	    "collapsed": true
	   },
	   "outputs": [],
"source": [
"Rb=270.833*10^3//channel data rate\n",
"C=Rb/0.4//maximum data rate\n",
"B=200*10^3\n",
"SIN=2^(C/B)-1//from C=B*log2(1+S/N) (shannon's capacity formula)\n",
"SINdB=10*log10(SIN)\n",
"disp(SINdB,'the corresponding theoretical S/N in dB is')"
   ]
   }
,
{
		   "cell_type": "markdown",
		   "metadata": {},
		   "source": [
			"## Example 11.4: bandwidth_efficiency.sce"
		   ]
		  },
  {
"cell_type": "code",
	   "execution_count": null,
	   "metadata": {
	    "collapsed": true
	   },
	   "outputs": [],
"source": [
"BW=200*10^3\n",
"CDR=270.833*10^3//channel data rate\n",
"BWef=CDR/BW\n",
"printf('bandwidth efficiency is= %.2f bps/Hz',BWef)"
   ]
   }
,
{
		   "cell_type": "markdown",
		   "metadata": {},
		   "source": [
			"## Example 11.5: frame_duratio.sce"
		   ]
		  },
  {
"cell_type": "code",
	   "execution_count": null,
	   "metadata": {
	    "collapsed": true
	   },
	   "outputs": [],
"source": [
"CDR=270.833*10^3\n",
"Tb=1/CDR//time of a bit\n",
"npslot=156.25\n",
"Tslot=Tb*npslot//time of a slot\n",
"nspf=8\n",
"Tf=nspf*Tslot//time of a frame\n",
"disp(Tb,'time duration of a bit Tb in secs')\n",
"disp(Tslot,'time duration of a time slot Tslot in secs')\n",
"disp(Tf,'time duration of a frame Tf in secs')\n",
"disp(Tf,'time duration for a user occupying a single time slot between two succesive transmissions in secs')"
   ]
   }
,
{
		   "cell_type": "markdown",
		   "metadata": {},
		   "source": [
			"## Example 11.7: gross_channel_data_rate.sce"
		   ]
		  },
  {
"cell_type": "code",
	   "execution_count": null,
	   "metadata": {
	    "collapsed": true
	   },
	   "outputs": [],
"source": [
"nuc1a=50\n",
"ncrc=3\n",
"nec1a=nuc1a+ncrc\n",
"nuc1b=132\n",
"nt=4\n",
"nec1b=nuc1b+nt\n",
"nc=nec1a+nec1b\n",
"FECr=1/2\n",
"nce=nc*1/FECr\n",
"nc2=78\n",
"net=nc2+nce\n",
"Dur=20*10^-3//duration\n",
"Gcbr=net/Dur//Gross channel bit rate\n",
"disp(Gcbr,'Gross channel bit rate in bits/sec')"
   ]
   }
],
"metadata": {
		  "kernelspec": {
		   "display_name": "Scilab",
		   "language": "scilab",
		   "name": "scilab"
		  },
		  "language_info": {
		   "file_extension": ".sce",
		   "help_links": [
			{
			 "text": "MetaKernel Magics",
			 "url": "https://github.com/calysto/metakernel/blob/master/metakernel/magics/README.md"
			}
		   ],
		   "mimetype": "text/x-octave",
		   "name": "scilab",
		   "version": "0.7.1"
		  }
		 },
		 "nbformat": 4,
		 "nbformat_minor": 0
}
