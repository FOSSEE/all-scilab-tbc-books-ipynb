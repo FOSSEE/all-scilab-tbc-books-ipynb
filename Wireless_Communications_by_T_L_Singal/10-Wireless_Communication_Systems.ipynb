{
"cells": [
 {
		   "cell_type": "markdown",
	   "metadata": {},
	   "source": [
       "# Chapter 10: Wireless Communication Systems"
	   ]
	},
{
		   "cell_type": "markdown",
		   "metadata": {},
		   "source": [
			"## Example 10.11: power_level_in_TDMA.sce"
		   ]
		  },
  {
"cell_type": "code",
	   "execution_count": null,
	   "metadata": {
	    "collapsed": true
	   },
	   "outputs": [],
"source": [
"P4dBW=-34\n",
"PdBm4=P4dBW-30\n",
"PW4=10^((PdBm4/10))\n",
"disp(PW4,'minimum power level of class IV phone in mW')\n",
"ERP1dBW=6\n",
"PdBm1=ERP1dBW-30\n",
"PW1=10^((PdBm1/10))\n",
"disp(PW1,'ERP of class I phone in mW')\n",
"R=PW1/PW4\n",
"RdB=10*log10(R)\n",
"mprintf('minimum power level for a class I phone is greater than\n minimum power level of class IV phone by factor of %idB or %f',RdB,R)"
   ]
   }
,
{
		   "cell_type": "markdown",
		   "metadata": {},
		   "source": [
			"## Example 10.12: transmission_data_rate.sce"
		   ]
		  },
  {
"cell_type": "code",
	   "execution_count": null,
	   "metadata": {
	    "collapsed": true
	   },
	   "outputs": [],
"source": [
"spfl=810*10^6\n",
"spfu=826*10^6\n",
"sprl=940*10^6\n",
"spru=956*10^6\n",
"BWf=spfu-spfl\n",
"BWr=spru-sprl\n",
"BWc=10/100*BWf//BWf=BWr(universal standard)\n",
"BWv=BWf-BWc\n",
"nsc=1150\n",
"BWmax=BWv/nsc\n",
"SPef=1.68\n",
"CDRmax=BWmax*SPef\n",
"FECcr=0.5\n",
"DRnmax=FECcr*CDRmax\n",
"disp(DRnmax,'there is a speech coder with a max. data rate of in bps')"
   ]
   }
,
{
		   "cell_type": "markdown",
		   "metadata": {},
		   "source": [
			"## Example 10.13: TDMA_voice_frame.sce"
		   ]
		  },
  {
"cell_type": "code",
	   "execution_count": null,
	   "metadata": {
	    "collapsed": true
	   },
	   "outputs": [],
"source": [
"d=40*10^-3\n",
"npf=6\n",
"dts=d/npf//duration of a time slot of a voice frame\n",
"nbv=1944\n",
"nbpts=nbv/npf//no. of bits per time slot\n",
"db=d/nbv//duration of a bit in secs\n",
"npg=6\n",
"tg=db*npg//guard time in secs\n",
"c=3*10^8\n",
"Disrt=c*tg\n",
"Dismx=Disrt/2//max. distance\n",
"disp(dts,'duration of a time slot of a voice frame in secs')\n",
"disp(nbpts,'no. of bits per time slot')\n",
"disp(db,'duration of a bit in secs')\n",
"disp(tg,'guard time in secs')\n",
"disp(Dismx,'maximum distance between a cell site and a mobile in metre')"
   ]
   }
,
{
		   "cell_type": "markdown",
		   "metadata": {},
		   "source": [
			"## Example 10.14: gross_bit_rate_of_TDMA_voice_frame.sce"
		   ]
		  },
  {
"cell_type": "code",
	   "execution_count": null,
	   "metadata": {
	    "collapsed": true
	   },
	   "outputs": [],
"source": [
"dv=40*10^-3\n",
"nps=1/dv\n",
"nbpv=1944\n",
"TGrbr=nbpv*25\n",
"TGrbaur=TGrbr/2//2 bits/symbol for pi/4 qpsk mod\n",
"CBW=30*10^3\n",
"BWef=TGrbr/CBW\n",
"disp(TGrbr,'total gross bit rate for the RF signal in bps')\n",
"disp(TGrbaur,'total gross baud rate for the RF signal in bps')\n",
"disp(BWef,'bandwidth efficiency in bps/Hz')"
   ]
   }
,
{
		   "cell_type": "markdown",
		   "metadata": {},
		   "source": [
			"## Example 10.15: comparison_of_capacity.sce"
		   ]
		  },
  {
"cell_type": "code",
	   "execution_count": null,
	   "metadata": {
	    "collapsed": true
	   },
	   "outputs": [],
"source": [
"Bt=12.5*10^6\n",
"Bc=30*10^3\n",
"K=7//frequency reuse factor\n",
"N=Bt/Bc//total no. of available channels\n",
"M=N*(1/K)//user capacity per cell \n",
"Nu=3//no. of users/channel\n",
"NU=N*Nu\n",
"K1=4\n",
"M1=NU*(1/K1)\n",
"disp(M,'capacity of 1G AMPS FDMA analog cellular system in users/cell')\n",
"disp(M1,'capacity of 2G IS-136 TDMA digital cellular system in users/cell')"
   ]
   }
,
{
		   "cell_type": "markdown",
		   "metadata": {},
		   "source": [
			"## Example 10.1: spectral_efficiency.sce"
		   ]
		  },
  {
"cell_type": "code",
	   "execution_count": null,
	   "metadata": {
	    "collapsed": true
	   },
	   "outputs": [],
"source": [
"BW=12.5*10^3\n",
"TDR1=512//transmission data rate\n",
"SPef1=TDR1/BW//spectral efficiency\n",
"TDR2=1200\n",
"SPef2=TDR2/BW\n",
"TDR3=2400\n",
"SPef3=TDR3/BW\n",
"disp(SPef1,'the spectral efficiency in bps/Hz at 512 bps transmission data rate')\n",
"disp(SPef2,'the spectral efficiency in bps/Hz at 1200 bps transmission data rate')\n",
"disp(SPef3,'the spectral efficiency in bps/Hz at 2400 bps transmission data rate')"
   ]
   }
,
{
		   "cell_type": "markdown",
		   "metadata": {},
		   "source": [
			"## Example 10.2: number_of_pages.sce"
		   ]
		  },
  {
"cell_type": "code",
	   "execution_count": null,
	   "metadata": {
	    "collapsed": true
	   },
	   "outputs": [],
"source": [
"TDR=1200\n",
"T=60\n",
"TN=TDR*T//total no. of bits in 60 sec\n",
"NP=576//no. of bits in the preamble\n",
"NU=TN-NP//no. of usable bits\n",
"NS=32\n",
"NA=32\n",
"N16=16*NA\n",
"N1B=NS+N16\n",
"NBPM=NU/N1B//no. of batches/min.\n",
"NPAPB=16\n",
"NTPM=NBPM*NPAPB//no. of pages transmitted/min.\n",
"disp(NTPM,'no. of pages transmitted/min.')"
   ]
   }
,
{
		   "cell_type": "markdown",
		   "metadata": {},
		   "source": [
			"## Example 10.3: increase_in_capacity.sce"
		   ]
		  },
  {
"cell_type": "code",
	   "execution_count": null,
	   "metadata": {
	    "collapsed": true
	   },
	   "outputs": [],
"source": [
"BW=25*10^3//bandwidth of POCSAG=bandwidth of FLEX system\n",
"TDR1=1200// transmission data rate\n",
"SPef1=TDR1/BW//spectral efficiency\n",
"TDR2=6400\n",
"SPef2=TDR2/BW\n",
"disp(SPef1,'the spectral efficiency in bps/Hz at 1200 bps transmission data rate in POCSAG paging system')\n",
"disp(SPef2,'the spectral efficiency in bps/Hz at 6400 bps transmission data rate in FLEX paging system')\n",
"Cinc=TDR2/TDR1\n",
"disp(Cinc,'estimating increase in capacity in times')"
   ]
   }
,
{
		   "cell_type": "markdown",
		   "metadata": {},
		   "source": [
			"## Example 10.6: number_of_channels_in_US_AMPS.sce"
		   ]
		  },
  {
"cell_type": "code",
	   "execution_count": null,
	   "metadata": {
	    "collapsed": true
	   },
	   "outputs": [],
"source": [
"Bt=12.5*10^6\n",
"Bg=10*10^3\n",
"B2g=2*Bg//Guard band on both the ends\n",
"ABW=Bt-B2g\n",
"Bc=30000//channel bandwidth\n",
"N=ABW/Bc\n",
"disp(N,'total no. of channels available in the system')"
   ]
   }
,
{
		   "cell_type": "markdown",
		   "metadata": {},
		   "source": [
			"## Example 10.8: AMPS_communication_range.sce"
		   ]
		  },
  {
"cell_type": "code",
	   "execution_count": null,
	   "metadata": {
	    "collapsed": true
	   },
	   "outputs": [],
"source": [
"ERPmax1dB=6\n",
"ERPmax2dB=-2\n",
"DiffdB=ERPmax1dB-ERPmax2dB\n",
"Diff=10^(DiffdB/10)\n",
"Rfree=5*(Diff)^(1/2)//free space-case(a)\n",
"Rtypc=5*(Diff)^(1/4)//signal attenuation is proportional to 4th power-case(b)\n",
"disp(Rfree,'maximum communication range in km in a free space propogation condition-case(a)')\n",
"disp(Rtypc,'maximum communication range in km when signal attenuation is proportional to 4th power-case(b)')"
   ]
   }
],
"metadata": {
		  "kernelspec": {
		   "display_name": "Scilab",
		   "language": "scilab",
		   "name": "scilab"
		  },
		  "language_info": {
		   "file_extension": ".sce",
		   "help_links": [
			{
			 "text": "MetaKernel Magics",
			 "url": "https://github.com/calysto/metakernel/blob/master/metakernel/magics/README.md"
			}
		   ],
		   "mimetype": "text/x-octave",
		   "name": "scilab",
		   "version": "0.7.1"
		  }
		 },
		 "nbformat": 4,
		 "nbformat_minor": 0
}
