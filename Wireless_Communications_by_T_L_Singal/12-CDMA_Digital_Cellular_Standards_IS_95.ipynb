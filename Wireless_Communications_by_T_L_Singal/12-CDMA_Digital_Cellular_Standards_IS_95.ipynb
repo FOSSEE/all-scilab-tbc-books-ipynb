{
"cells": [
 {
		   "cell_type": "markdown",
	   "metadata": {},
	   "source": [
       "# Chapter 12: CDMA Digital Cellular Standards IS 95"
	   ]
	},
{
		   "cell_type": "markdown",
		   "metadata": {},
		   "source": [
			"## Example 12.10: processing_gain.sce"
		   ]
		  },
  {
"cell_type": "code",
	   "execution_count": null,
	   "metadata": {
	    "collapsed": true
	   },
	   "outputs": [],
"source": [
"Bc=1.2288*10^6\n",
"Rb=9.6*10^3//baseband data rate\n",
"Gp=Bc/Rb//processing gain\n",
"GpdB=10*log10(Gp)//processing gain in dB\n",
"Rb1=4.8*10^3\n",
"Gp1=Bc/Rb1\n",
"Gp1dB=10*log10(Gp1)\n",
"Rb2=2.4*10^3\n",
"Gp2=Bc/Rb2\n",
"Gp2dB=10*log10(Gp2)\n",
"Rb3=1.2*10^3\n",
"Gp3=Bc/Rb3\n",
"Gp3dB=10*log10(Gp3)\n",
"Rb4=19.2*10^3\n",
"Gp4=Bc/Rb4\n",
"Gp4dB=10*log10(Gp4)\n",
"disp(GpdB,'processing gain in dB Gp(dB) at the baseband data rate of 9.6kbps')\n",
"disp(Gp1dB,'processing gain in dB Gp(dB) at the baseband data rate of 4.8kbps')\n",
"disp(Gp2dB,'processing gain in dB Gp(dB) at the baseband data rate of 2.4kbps')\n",
"disp(Gp3dB,'processing gain in dB Gp(dB) at the baseband data rate of 1.2kbps')\n",
"disp(Gp4dB,'processing gain in dB Gp(dB) at the baseband data rate of 19.2kbps')"
   ]
   }
,
{
		   "cell_type": "markdown",
		   "metadata": {},
		   "source": [
			"## Example 12.12: long_code_repetition_time.sce"
		   ]
		  },
  {
"cell_type": "code",
	   "execution_count": null,
	   "metadata": {
	    "collapsed": true
	   },
	   "outputs": [],
"source": [
"N=(2^42-1)\n",
"TDR=19200//transmission data rate\n",
"t=N/TDR;\n",
"printf('time taken to transit the complete long code= %.2f years',(t/(60*60*24*365)))"
   ]
   }
,
{
		   "cell_type": "markdown",
		   "metadata": {},
		   "source": [
			"## Example 12.13: open_loop_power_control.sce"
		   ]
		  },
  {
"cell_type": "code",
	   "execution_count": null,
	   "metadata": {
	    "collapsed": true
	   },
	   "outputs": [],
"source": [
"Prm=-85\n",
"Ptm=-76-Prm\n",
"Ptrm=5\n",
"Diff=Ptm-Ptrm\n",
"t1dB=1.25\n",
"t=Diff*t1dB//time for adjusting\n",
"disp(t,'time needed to adjust mobile transmitter level in msecs')"
   ]
   }
,
{
		   "cell_type": "markdown",
		   "metadata": {},
		   "source": [
			"## Example 12.15: amount_of_delay.sce"
		   ]
		  },
  {
"cell_type": "code",
	   "execution_count": null,
	   "metadata": {
	    "collapsed": true
	   },
	   "outputs": [],
"source": [
"d1=1*10^3//dist.direct sig. from A\n",
"d11=1.5*10^3//dist.A and building\n",
"d12=0.5*10^3//dist.mobile and building\n",
"d2=d11+d12//dist.reflected sig.\n",
"d3=3*10^3//dist.direct sig. from B\n",
"c=3*10^8\n",
"D1=(d3-d1)\n",
"t1=D1/c//delay direct signal from A\n",
"D2=(d3-d2)\n",
"t2=D2/c//delay reflected signal from A\n",
"printf('time delay for direct signal from A= %.2f microsecs',t1*10^6)\n",
"printf('\ntime delay for reflected signal from A= %.2f microsecs',t2*10^6)"
   ]
   }
,
{
		   "cell_type": "markdown",
		   "metadata": {},
		   "source": [
			"## Example 12.17: difference_in_power_level.sce"
		   ]
		  },
  {
"cell_type": "code",
	   "execution_count": null,
	   "metadata": {
	    "collapsed": true
	   },
	   "outputs": [],
"source": [
"Y=4\n",
"d1=100\n",
"B=1//(say)\n",
"Ptm=1//(say)\n",
"Prm1=B*Ptm/(d1)^Y\n",
"d2=10000\n",
"Prm2=B*Ptm/(d2)^Y\n",
"Prm1IPrm2=Prm1/Prm2//expected differnce in recieved power level\n",
"Prm1IPrm2dB=10*log10(Prm1IPrm2)\n",
"printf('expected differnce in recieved power level=%.f dB',-Prm1IPrm2dB)"
   ]
   }
,
{
		   "cell_type": "markdown",
		   "metadata": {},
		   "source": [
			"## Example 12.18: theoretical_and_practical_number_of_users.sce"
		   ]
		  },
  {
"cell_type": "code",
	   "execution_count": null,
	   "metadata": {
	    "collapsed": true
	   },
	   "outputs": [],
"source": [
"EbINodB=-1.59//shannon limit in (AWGN)\n",
"EbINo=10^(EbINodB/10)\n",
"M=1/EbINo//theoretical mobile users\n",
"EbINodB1=6\n",
"EbINo1=10^(EbINodB1/10)\n",
"M1=1/EbINo1//practical mobile users\n",
"printf('theoretical number of mobile users,M= %.2f Gp',M)\n",
"printf('\npractical number of mobile users,M= %.2f Gp for Eb/No=6dB',M1)"
   ]
   }
,
{
		   "cell_type": "markdown",
		   "metadata": {},
		   "source": [
			"## Example 12.19: number_of_users.sce"
		   ]
		  },
  {
"cell_type": "code",
	   "execution_count": null,
	   "metadata": {
	    "collapsed": true
	   },
	   "outputs": [],
"source": [
"Bc=1.25*10^6\n",
"Rb=9.6*10^3\n",
"Gp=Bc/Rb\n",
"GpdB=10*log10(Gp)\n",
"EbINodB=6\n",
"EbINo=10^(EbINodB/10)\n",
"p=0.5//interference factor \n",
"a=.85//power control accuracy factor\n",
"v=.6//voice activity factor\n",
"Y=2.55//improvement from sectorisation\n",
"M=(Gp/(EbINo))*(1/(1+p))*a*(1/v)*Y//no. of mobile users per cell\n",
"Ns=3\n",
"Nmps=M/Ns\n",
"disp(Nmps,'no. of mobile users per sector')"
   ]
   }
,
{
		   "cell_type": "markdown",
		   "metadata": {},
		   "source": [
			"## Example 12.1: minimum_number_of_PN_bits.sce"
		   ]
		  },
  {
"cell_type": "code",
	   "execution_count": null,
	   "metadata": {
	    "collapsed": true
	   },
	   "outputs": [],
"source": [
"Bt=400*10^6\n",
"Bc=100\n",
"Gp=Bt/Bc//processing gain\n",
"k=log10(Gp)/log10(2)\n",
"printf('At 19.2 kbps the processing gain = %.f\n',Gp)\n",
"printf('minimum no. of PN bits k= %.f',k)"
   ]
   }
,
{
		   "cell_type": "markdown",
		   "metadata": {},
		   "source": [
			"## Example 12.3: improvement_in_processing_gain.sce"
		   ]
		  },
  {
"cell_type": "code",
	   "execution_count": null,
	   "metadata": {
	    "collapsed": true
	   },
	   "outputs": [],
"source": [
"Rc=10*10^6//code rate \n",
"Bc=Rc//RF bandwidth=code rate\n",
"Rb=4.8*10^3//info. data rate\n",
"Gp=Bc/Rb//processing gain\n",
"GpdB=10*log10(Gp)//processing gain in dB \n",
"Rc1=50*10^6\n",
"Bc1=Rc1\n",
"Gp1=Bc1/Rb\n",
"Gp1dB=10*log10(Gp1);\n",
"Inc=Gp1dB-GpdB\n",
"printf('increase in processing gain= %.1f dB',Inc+0.1);"
   ]
   }
,
{
		   "cell_type": "markdown",
		   "metadata": {},
		   "source": [
			"## Example 12.4: capacity_of_CDMA.sce"
		   ]
		  },
  {
"cell_type": "code",
	   "execution_count": null,
	   "metadata": {
	    "collapsed": true
	   },
	   "outputs": [],
"source": [
"Bc=1.25*10^6\n",
"Rb=9600\n",
"SrmindB=3\n",
"Srmin=10^(SrmindB/10)\n",
"Mmax=(Bc/Rb)*(1/Srmin)//maximum no. of simultaneous users\n",
"SrmaxdB=9\n",
"Srmax=10^(SrmaxdB/10)\n",
"Mmin=(Bc/Rb)*(1/Srmax)//minimum no. of simultaneous users\n",
"mprintf('A single cell IS-95 CDMA system can support from %i to %f users',Mmin,Mmax)"
   ]
   }
,
{
		   "cell_type": "markdown",
		   "metadata": {},
		   "source": [
			"## Example 12.5: number_of_users_per_cell.sce"
		   ]
		  },
  {
"cell_type": "code",
	   "execution_count": null,
	   "metadata": {
	    "collapsed": true
	   },
	   "outputs": [],
"source": [
"ImaipNodB=6\n",
"ImaipNo=10^(ImaipNodB/10)\n",
"NopImai=1/ImaipNo\n",
"SINRdB=8\n",
"SINR=10^(SINRdB/10)//signal to noise ratio \n",
"Q=128//total spreading factor\n",
"a=.55//relative intercellular interfernce factor\n",
"M=Q/((1+a)*(1+NopImai)*SINR)\n",
"disp(M,'users per cell')"
   ]
   }
,
{
		   "cell_type": "markdown",
		   "metadata": {},
		   "source": [
			"## Example 12.6: performance_improvement_factor.sce"
		   ]
		  },
  {
"cell_type": "code",
	   "execution_count": null,
	   "metadata": {
	    "collapsed": true
	   },
	   "outputs": [],
"source": [
"Gv=2.5//interfernce reduction factor\n",
"Ga=2.5//antenna sectorisation gain factor\n",
"a=1.6//interfence increase factor\n",
"Pf=(Gv*Ga)/a\n",
"PfdB=10*log10(Pf)\n",
"disp(PfdB,'perfomance improvement factor Pf in dB')"
   ]
   }
,
{
		   "cell_type": "markdown",
		   "metadata": {},
		   "source": [
			"## Example 12.7: capacity_of_IS_95.sce"
		   ]
		  },
  {
"cell_type": "code",
	   "execution_count": null,
	   "metadata": {
	    "collapsed": true
	   },
	   "outputs": [],
"source": [
"Bc=1.25*10^6\n",
"Rb=9600\n",
"PfdB=6\n",
"Pf=10^(PfdB/10)\n",
"SrmindB=3\n",
"Srmin=10^(SrmindB/10)\n",
"Mmax=((Bc/Rb)*(1/Srmin))*(Pf)//maximum users\n",
"SrmaxdB=9\n",
"Srmax=10^(SrmaxdB/10)\n",
"Mmin=((Bc/Rb)*(1/Srmax))*(Pf)//minimum users\n",
"mprintf('A single cell IS-95 CDMA system can support from %i to %f users',Mmin,Mmax)"
   ]
   }
,
{
		   "cell_type": "markdown",
		   "metadata": {},
		   "source": [
			"## Example 12.8: bandwidth_efficiency.sce"
		   ]
		  },
  {
"cell_type": "code",
	   "execution_count": null,
	   "metadata": {
	    "collapsed": true
	   },
	   "outputs": [],
"source": [
"BW=1.25*10^6\n",
"CR=1.2288*10^6//chip rate\n",
"BWef=CR/BW\n",
"disp(BWef,'bandwidth efficiency in chips/s/Hz')"
   ]
   }
],
"metadata": {
		  "kernelspec": {
		   "display_name": "Scilab",
		   "language": "scilab",
		   "name": "scilab"
		  },
		  "language_info": {
		   "file_extension": ".sce",
		   "help_links": [
			{
			 "text": "MetaKernel Magics",
			 "url": "https://github.com/calysto/metakernel/blob/master/metakernel/magics/README.md"
			}
		   ],
		   "mimetype": "text/x-octave",
		   "name": "scilab",
		   "version": "0.7.1"
		  }
		 },
		 "nbformat": 4,
		 "nbformat_minor": 0
}
