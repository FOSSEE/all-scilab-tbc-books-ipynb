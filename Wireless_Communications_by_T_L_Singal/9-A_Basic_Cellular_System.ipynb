{
"cells": [
 {
		   "cell_type": "markdown",
	   "metadata": {},
	   "source": [
       "# Chapter 9: A Basic Cellular System"
	   ]
	},
{
		   "cell_type": "markdown",
		   "metadata": {},
		   "source": [
			"## Example 9.10: trunking_efficiency_in_sectors.sce"
		   ]
		  },
  {
"cell_type": "code",
	   "execution_count": null,
	   "metadata": {
	    "collapsed": true
	   },
	   "outputs": [],
"source": [
"Nch=395\n",
"ncpcl=7\n",
"Pb=.01\n",
"N=Nch/ncpcl\n",
"H=3/60\n",
"Aav=44.2\n",
"Y=Aav/H\n",
"disp(Y,'average number of calls/hr. i.e(omnidirectional case) Y is')\n",
"nspc=3\n",
"Nchps=N/nspc\n",
"Aav1=11.2\n",
"avnc=Aav1/H\n",
"Y1=avnc*nspc\n",
"disp(Y1,'average number of calls/hr. ie.(3-sector case) Y is')\n",
"DTRef=(Y-Y1)/Y\n",
"disp(DTRef,'decrease in trunking efficiency')\n",
"nspc1=6\n",
"Nchps1=N/nspc1\n",
"Aav2=4.1\n",
"avnc1=Aav2/H\n",
"Y2=avnc1*nspc1\n",
"disp(Y2,'average number of calls/hr. ie.(6-sector case) Y is')\n",
"DTRef1=(Y-Y2)/Y\n",
"disp(DTRef1,'decrement in trunking efficiency')"
   ]
   }
,
{
		   "cell_type": "markdown",
		   "metadata": {},
		   "source": [
			"## Example 9.11: number_of_users_in_Erlang_C.sce"
		   ]
		  },
  {
"cell_type": "code",
	   "execution_count": null,
	   "metadata": {
	    "collapsed": true
	   },
	   "outputs": [],
"source": [
"Rkm=1.4//radius of the cell\n",
"Acell=2.6*Rkm*Rkm//area (hexagonal cell)\n",
"K=4//no.of cells/cluster\n",
"ntotal=60\n",
"ncell=ntotal/K\n",
"avgtlpu=0.029\n",
"Aav=9\n",
"Pb=0.05\n",
"tnu=Aav/avgtlpu//total no. of users supported in a cell\n",
"NupA=tnu/Acell\n",
"printf('number of users per kmsqr area= %.d users/(km^2) (approx.)',NupA)"
   ]
   }
,
{
		   "cell_type": "markdown",
		   "metadata": {},
		   "source": [
			"## Example 9.12: number_of_users_in_FDMA.sce"
		   ]
		  },
  {
"cell_type": "code",
	   "execution_count": null,
	   "metadata": {
	    "collapsed": true
	   },
	   "outputs": [],
"source": [
"Bt=12.5*10^6\n",
"BtMHz=12.5\n",
"Bc=30*10^3\n",
"Bg=10^3\n",
"Nt=(Bt-2*Bg)/Bc//total number of channels/cluster\n",
"Nc=21\n",
"Nd=Nt-Nc//number of user data transmission/cluster\n",
"K=7//frequency reuse factor\n",
"Ndpcell=Nd/K\n",
"Acell=6\n",
"n1=Ndpcell/(BtMHz*Acell)\n",
"disp(Nt,'total number of channels/cluster (Nt)')\n",
"disp(Nd,'number of user data transmission/cluster (Nd)')\n",
"disp(Ndpcell,'total number of transmission/cell (Nd/cell) if frequency reuse factor factor is 7 ')\n",
"disp(n1,'overall spectral efficiency n1 in channels/MHz/kmsqr for cell area 6kmsqr is ')"
   ]
   }
,
{
		   "cell_type": "markdown",
		   "metadata": {},
		   "source": [
			"## Example 9.13: number_of_users_in_FDMA.sce"
		   ]
		  },
  {
"cell_type": "code",
	   "execution_count": null,
	   "metadata": {
	    "collapsed": true
	   },
	   "outputs": [],
"source": [
"Acell=6\n",
"Acellular=3024\n",
"Ncells=Acellular/Acell//number of cells in the system\n",
"Bt=12.5*10^6\n",
"BtMHz=12.5\n",
"Bc=30*10^3\n",
"Bg=10*10^3\n",
"Nc=21\n",
"Nd=((Bt-2*Bg)/Bc)-Nc//no. of data channels/cluster\n",
"K=7\n",
"Ndpcell=Nd/K\n",
"H=1/20\n",
"ntr=0.95\n",
"Ncallphr=1/H\n",
"Ncallphrpcell=Ndpcell*ntr*Ncallphr//number of calls per hour per cell\n",
"Ncallpuserphr=1.5\n",
"Nusers=Ncallphrpcell/Ncallpuserphr\n",
"n1=Ndpcell/(BtMHz*Acell)\n",
"n=ntr*n1\n",
"disp(Ncells,'number of cells in the system')\n",
"disp(Ncallphrpcell,'number of calls per hour per cell')\n",
"disp(Nusers,'average number of users per hour per cell')\n",
"disp(n,'system spectral efficiency in the units of Erlangs/MHz/kmsqr')"
   ]
   }
,
{
		   "cell_type": "markdown",
		   "metadata": {},
		   "source": [
			"## Example 9.14: spectral_efficiency_in_TDMA.sce"
		   ]
		  },
  {
"cell_type": "code",
	   "execution_count": null,
	   "metadata": {
	    "collapsed": true
	   },
	   "outputs": [],
"source": [
"Bt=25*10^6//system bandwidth\n",
"Bc=30*10^3//channel bandwidth\n",
"Bg=20*10^3//guard spacing\n",
"Nu=((Bt-2*Bg)/Bc)\n",
"Tf=40*10^-3//frame time\n",
"Tp=0*10^-3//preamble time\n",
"Tt=0*10^-3//trailer time\n",
"Ld=260\n",
"Ls=324\n",
"ntframe=((Tf-Tp-Tt)/Tf)*(Ld/Ls)\n",
"ntsys=ntframe*(Nu*Bc*(1/Bt))\n",
"Rs=7.95*10^3\n",
"ntmod=Rs/Bc\n",
"K=7\n",
"nt=ntsys*ntmod/K\n",
"disp(Nu,'number of simultaneous users that can be accomodated in each cell')\n",
"disp(ntframe,'spectral efficiency per frame of a TDMA system')\n",
"disp(ntsys,'spectral efficiency of the TDMA system')\n",
"disp(nt,'overall spectral efficiency in bps/Hz/cell')"
   ]
   }
,
{
		   "cell_type": "markdown",
		   "metadata": {},
		   "source": [
			"## Example 9.15: radio_capacity.sce"
		   ]
		  },
  {
"cell_type": "code",
	   "execution_count": null,
	   "metadata": {
	    "collapsed": true
	   },
	   "outputs": [],
"source": [
"Bc1=30*10^3;cimin1=18\n",
"Bc2=25*10^3;cimin2=14\n",
"Bc3=12.5*10^3;cimin3=12\n",
"Bc4=6.25*10^3;cimin4=9\n",
"Y=4//path propogation constant\n",
"BcI=6.25*10^3\n",
"cieq1=cimin1+20*log10(Bc1/BcI)\n",
"cieq2=cimin2+20*log10(Bc2/BcI)\n",
"cieq3=cimin3+20*log10(Bc3/BcI)\n",
"cieq4=cimin4+20*log10(Bc4/BcI)\n",
"disp(cieq1,'(C/I)eq in dB for system I')\n",
"disp(cieq2,'(C/I)eq in dB for system II')\n",
"disp(cieq3,'(C/I)eq in dB for system III')\n",
"disp(cieq4,'(C/I)eq in dB for system IV')\n",
"if cieq1<cieq2 then\n",
"    if cieq1<cieq3  then\n",
"        if cieq1<cieq4 then\n",
"            disp(,'System I offers the best capacity')\n",
"        end\n",
"    end\n",
"elseif cieq2<cieq3 then\n",
"    if cieq2<cieq4 then\n",
"        if cieq2<cieq1 then\n",
"            disp(,'System II offers the best capacity')\n",
"        end\n",
"    end elseif cieq3<cieq4 then\n",
"    if cieq3<cieq1 then\n",
"        if cieq3<cieq2 then\n",
"            disp(,'System II offers the best capacity')\n",
"        end \n",
"        end \n",
"            \n",
"        elseif cieq4<cieq3  then\n",
"            if cieq4<cieq1 then\n",
"                if cieq4<cieq2 then\n",
"                    disp(,'System IV offers the best capacity')\n",
"                end\n",
"            end\n",
"end"
   ]
   }
,
{
		   "cell_type": "markdown",
		   "metadata": {},
		   "source": [
			"## Example 9.16: capacity_of_GSM.sce"
		   ]
		  },
  {
"cell_type": "code",
	   "execution_count": null,
	   "metadata": {
	    "collapsed": true
	   },
	   "outputs": [],
"source": [
"Bt=12.5*10^6\n",
"Bc=200*10^3\n",
"Ns=8\n",
"N=Bt/Bc\n",
"Ns=8\n",
"Nu=N*Ns\n",
"K=4//frequency reuse factor\n",
"SysC=Nu/K//system capacity\n",
"M=(Bt/Bc)*Ns*(1/K)//system capacity using alternate method\n",
"disp(SysC,'System capacity per cell in (users/cell)')\n",
"disp(M,'System capacity per cell,M,in (users/cell) using alternate method')"
   ]
   }
,
{
		   "cell_type": "markdown",
		   "metadata": {},
		   "source": [
			"## Example 9.2: average_traffic_intensity.sce"
		   ]
		  },
  {
"cell_type": "code",
	   "execution_count": null,
	   "metadata": {
	    "collapsed": true
	   },
	   "outputs": [],
"source": [
"n1=17;n2=16;n3=14;n4=12;n5=11;n6=10;n7=7;n8=5;n9=3;n10=2\n",
"t1=51;t2=47;t3=43;t4=39;t5=34;t6=28;t7=22;t8=15;t9=9;t10=6\n",
"tncphr=n1+n2+n3+n4+n5+n6+n7+n8+n9+n10//no. of calls/hr.\n",
"Y=tncphr/60//rate of calls/min.\n",
"toct=t1+t2+t3+t4+t5+t6+t7+t8+t9+t10//total system occupied time in min.\n",
"H=toct/tncphr//avg. holding time/call in min\n",
"Aav=Y*H\n",
"disp(Aav,'average traffic intensity Aav in Erlangs')"
   ]
   }
,
{
		   "cell_type": "markdown",
		   "metadata": {},
		   "source": [
			"## Example 9.3: average_traffic_per_subscriber.sce"
		   ]
		  },
  {
"cell_type": "code",
	   "execution_count": null,
	   "metadata": {
	    "collapsed": true
	   },
	   "outputs": [],
"source": [
"Y=2//avg. no of calls/hr/user\n",
"Hmin=3\n",
"H=Hmin/60//avg. duration of a call\n",
"Aav=Y*H//average traffic intensity\n",
"disp(Aav,'average traffic intensity per user Aav in Erlangs')"
   ]
   }
,
{
		   "cell_type": "markdown",
		   "metadata": {},
		   "source": [
			"## Example 9.4: traffic_intensity_for_cell.sce"
		   ]
		  },
  {
"cell_type": "code",
	   "execution_count": null,
	   "metadata": {
	    "collapsed": true
	   },
	   "outputs": [],
"source": [
"n1=2200;n2=1900;n3=4000;n4=1100;n5=1000;n6=1200;n7=1800;n8=2100;n9=2000;n10=1580;n11=1800;n12=900\n",
"TBW=30*10^6//total allocated bandwidth\n",
"SBW=25000//simplex channel bandwidth\n",
"NS=TBW/SBW//no.of simplex channels\n",
"DS=NS/2//no.of duplex channels\n",
"NCPC=10\n",
"NCPCL=12\n",
"TNCC=NCPC*NCPCL////no. of control channels\n",
"TNTC=DS-TNCC//no. of traffic channels\n",
"NTCPC=TNTC/NCPCL\n",
"NUPC=8\n",
"NMCPC=8\n",
"TNCPC=NMCPC*NTCPC//total no. of calls/cell\n",
"disp(TNCPC,'total no. of calls/cell')\n",
"H=5/100*3600\n",
"Y=60/3600\n",
"Aav=H*Y//traffic intensity case(b)\n",
"disp(Aav,'average offered traffic load Aav for (case(b)) in Erlangs')\n",
"tc=n1+n2+n3+n4+n5+n6+n7+n8+n9+n10+n11+n12\n",
"pbms=75/100\n",
"nbms=pbms*tc\n",
"disp(nbms,'number of mobile subscribers/cluster ')\n",
"y=tc/NCPCL\n",
"Y1=y/3600\n",
"H1=60\n",
"Aav1=Y1*H1//traffic intensity case(c)\n",
"disp(Aav1,'average offered traffic load Aav for (case(c)) in Erlangs')"
   ]
   }
,
{
		   "cell_type": "markdown",
		   "metadata": {},
		   "source": [
			"## Example 9.5: number_of_channels.sce"
		   ]
		  },
  {
"cell_type": "code",
	   "execution_count": null,
	   "metadata": {
	    "collapsed": true
	   },
	   "outputs": [],
"source": [
"Y=3000/3600\n",
"H=1.76*60\n",
"Aav=Y*H\n",
"disp(Aav,'offered traffic load Aav in Erlangs')\n",
"Pb=2/100\n",
"N=100\n",
"Y1=28000/3600\n",
"H1=105.6\n",
"Aav1=Y1*H1\n",
"N1=820\n",
"disp(N,'max. no of channels/cell')\n",
"disp(N1,'max. no of channels/cell wrt increased lambda')"
   ]
   }
,
{
		   "cell_type": "markdown",
		   "metadata": {},
		   "source": [
			"## Example 9.6: number_of_calls_per_hour_per_cell.sce"
		   ]
		  },
  {
"cell_type": "code",
	   "execution_count": null,
	   "metadata": {
	    "collapsed": true
	   },
	   "outputs": [],
"source": [
"N=50//no. of channels in cell\n",
"Pb=0.02//blocking probability\n",
"Aav=40.3//offered traffic load\n",
"H=100/3600//average call-holding time\n",
"Y=Aav/H;//no. of calls handled\n",
"printf(' no. of calls handled= %.d calls/hr',Y)"
   ]
   }
,
{
		   "cell_type": "markdown",
		   "metadata": {},
		   "source": [
			"## Example 9.7: number_of_calls_per_hour_per_cell.sce"
		   ]
		  },
  {
"cell_type": "code",
	   "execution_count": null,
	   "metadata": {
	    "collapsed": true
	   },
	   "outputs": [],
"source": [
"At=0.1\n",
"Pb=0.005\n",
"N=10\n",
"Aav=3.96\n",
"Nt=Aav/At\n",
"N1=100\n",
"Aav1=80.9\n",
"Nt1=Aav1/At\n",
"disp(Nt,'total no. of mobile users')\n",
"disp(Nt1,'total no. of mobile users for increased N')"
   ]
   }
,
{
		   "cell_type": "markdown",
		   "metadata": {},
		   "source": [
			"## Example 9.8: number_of_users_in_Erlang_B.sce"
		   ]
		  },
  {
"cell_type": "code",
	   "execution_count": null,
	   "metadata": {
	    "collapsed": true
	   },
	   "outputs": [],
"source": [
"N=40//no. of channels in cell\n",
"Pb=0.02//blocking probability\n",
"Aav=31//offered traffic load\n",
"H=3/60//holding time\n",
"Z=Aav/(H*3)//users per cell\n",
"NC=20//no. of cells in the system\n",
"nms=NC*Z\n",
"printf('number of mobile subscribers in the system= %.f',nms);"
   ]
   }
,
{
		   "cell_type": "markdown",
		   "metadata": {},
		   "source": [
			"## Example 9.9: Trunking_efficiency.sce"
		   ]
		  },
  {
"cell_type": "code",
	   "execution_count": null,
	   "metadata": {
	    "collapsed": true
	   },
	   "outputs": [],
"source": [
"N1=24//no. of trunked channels\n",
"N=10//10 channels trunked together\n",
"Pb=0.01//blocking probability\n",
"Aav=4.46//offered traffic load\n",
"N2=5//2 groups of 5 trunked channels each\n",
"Aav1=1.36\n",
"Aav2=2*Aav1\n",
"Ex=Aav2/Aav//extent\n",
"if Aav>Aav2 then\n",
"    disp(,'10 channels trunked together can support more traffic at a specific GOS(say 0.01) than two 5-channel trunk individually do')\n",
"else\n",
"    disp(,'10 channels trunked together can support less traffic at a specific GOS(say 0.01) than two 5-channel trunk individually do')\n",
"end\n",
"printf('\nextent of more traffic supported by N=10 system as compared to two 5-channel trunked systems= %.d percent',Ex*100);"
   ]
   }
],
"metadata": {
		  "kernelspec": {
		   "display_name": "Scilab",
		   "language": "scilab",
		   "name": "scilab"
		  },
		  "language_info": {
		   "file_extension": ".sce",
		   "help_links": [
			{
			 "text": "MetaKernel Magics",
			 "url": "https://github.com/calysto/metakernel/blob/master/metakernel/magics/README.md"
			}
		   ],
		   "mimetype": "text/x-octave",
		   "name": "scilab",
		   "version": "0.7.1"
		  }
		 },
		 "nbformat": 4,
		 "nbformat_minor": 0
}
