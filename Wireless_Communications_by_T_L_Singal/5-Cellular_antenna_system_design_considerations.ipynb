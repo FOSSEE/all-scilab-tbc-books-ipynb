{
"cells": [
 {
		   "cell_type": "markdown",
	   "metadata": {},
	   "source": [
       "# Chapter 5: Cellular antenna system design considerations"
	   ]
	},
{
		   "cell_type": "markdown",
		   "metadata": {},
		   "source": [
			"## Example 5.10: Compare_cell_configurations.sce"
		   ]
		  },
  {
"cell_type": "code",
	   "execution_count": null,
	   "metadata": {
	    "collapsed": true
	   },
	   "outputs": [],
"source": [
"N=312\n",
"K=7\n",
"Nspc=3\n",
"Ntcpc=N/K\n",
"Ntcps=Ntcpc/Nspc//number of traffic channels per sector\n",
"disp(Ntcps,'number of traffic channels per sector for System A')\n",
"N1=312\n",
"K1=4\n",
"Nspc1=6\n",
"Ntcpc1=N1/K1\n",
"Ntcps1=Ntcpc1/Nspc1//number of traffic channels per sector\n",
"disp(Ntcps1,'number of traffic channels per sector for System B')"
   ]
   }
,
{
		   "cell_type": "markdown",
		   "metadata": {},
		   "source": [
			"## Example 5.1: input_signal_level.sce"
		   ]
		  },
  {
"cell_type": "code",
	   "execution_count": null,
	   "metadata": {
	    "collapsed": true
	   },
	   "outputs": [],
"source": [
"op=15\n",
"l=2\n",
"n=2\n",
"l1=n*l//connector loss\n",
"l2=3//coaxial cable loss\n",
"tl=l1+l2//total loss\n",
"ip=op-tl//input=output-total loss\n",
"disp(ip,'signal level at the i/p of the antenna in dBm')"
   ]
   }
,
{
		   "cell_type": "markdown",
		   "metadata": {},
		   "source": [
			"## Example 5.2: minimum_cluster_size.sce"
		   ]
		  },
  {
"cell_type": "code",
	   "execution_count": null,
	   "metadata": {
	    "collapsed": true
	   },
	   "outputs": [],
"source": [
"ci=18\n",
"CI=10^((ci)/10)\n",
"q=(6*(CI))^0.25\n",
"K=ceil(q*q/3)//cluster size\n",
"disp(K,'minimum cluster size')\n",
"k=7\n",
"q1=sqrt(3*k)\n",
"c1i1=q1^4/6\n",
"C1I1=10*log10(c1i1)\n",
"if (C1I1<20) then\n",
"disp(,'cluster size cannot meet the desired C/I requirement')\n",
"C2I2=10^(20/10)\n",
"q2=(6*C2I2)^0.25\n",
"k1=ceil((q2)^2/3)\n",
"disp(k1,'nearest valid cluster size K')\n",
"else \n",
"disp(,'cluster size determined is adequate')\n",
"end"
   ]
   }
,
{
		   "cell_type": "markdown",
		   "metadata": {},
		   "source": [
			"## Example 5.4: Carrier_to_Interface_ratio_in_omnidirectional_antenna_system.sce"
		   ]
		  },
  {
"cell_type": "code",
	   "execution_count": null,
	   "metadata": {
	    "collapsed": true
	   },
	   "outputs": [],
"source": [
"Y=4//path loss exponent\n",
"N=6\n",
"K=7\n",
"q=sqrt(3*K)\n",
"CI=(2*(q-1)^(-Y)+2*q^(-Y)+2*(q+1)^(-Y))^(-1)//C/I for omnidirectional operating cell\n",
"CIdB=10*log10(CI)\n",
"disp(CIdB,'co-channel interfernce ratio C/I in dB for K=7')\n",
"K1=9\n",
"q1=sqrt(3*K1)\n",
"CI1=(2*(q1-1)^(-Y)+2*q1^(-Y)+2*(q1+1)^(-Y))^(-1)\n",
"CI1dB=10*log10(CI1)\n",
"disp(CI1dB,'co-channel interfernce ratio C/I in dB for K=9')\n",
"K2=12\n",
"q2=sqrt(3*K2)\n",
"CI2=(2*(q2-1)^(-Y)+2*q2^(-Y)+2*(q2+1)^(-Y))^(-1)\n",
"CI2dB=10*log10(CI2)\n",
"disp(CI2dB,'co-channel interfernce ratio C/I in dB for K=12')\n",
"if (CIdB<18) then\n",
"disp(,'K=7 is imperfect')\n",
"else \n",
"disp(,'K=7 is perfect')\n",
"end\n",
"if (CI1dB<18) then\n",
"disp(,'K=9 is imperfect')\n",
"else \n",
"disp(,'K=9 is perfect')\n",
"end\n",
"if (CI2dB<18) then\n",
"disp(,'K=12 is imperfect')\n",
"else \n",
"disp(,'K=12 is perfect')\n",
"end"
   ]
   }
,
{
		   "cell_type": "markdown",
		   "metadata": {},
		   "source": [
			"## Example 5.5: Carrier_to_Interface_ratio_in_3_sector_system.sce"
		   ]
		  },
  {
"cell_type": "code",
	   "execution_count": null,
	   "metadata": {
	    "collapsed": true
	   },
	   "outputs": [],
"source": [
"N=2\n",
"Y=4\n",
"K=7\n",
"q=sqrt(3*K)\n",
"CI=((q^(-Y)+(q+0.7)^(-Y)))^(-1)//C/I for 3-sector\n",
"CIdB=10*log10(CI)\n",
"disp(CIdB,'worst case signal to co-channel interfernce ratio C/I in dB')"
   ]
   }
,
{
		   "cell_type": "markdown",
		   "metadata": {},
		   "source": [
			"## Example 5.6: Carrier_to_Interface_ratio_in_3_sector_system.sce"
		   ]
		  },
  {
"cell_type": "code",
	   "execution_count": null,
	   "metadata": {
	    "collapsed": true
	   },
	   "outputs": [],
"source": [
"N=2\n",
"Y=4\n",
"K=4\n",
"q=sqrt(3*K)\n",
"CI=((q^(-Y)+(q+0.7)^(-Y)))^(-1)//C/I for 3-sector\n",
"CIdB=10*log10(CI)\n",
"disp(CIdB,'worst case C/I in dB')\n",
"if CIdB>18 then\n",
"a= CIdB-6\n",
"if a>18 then\n",
"disp(,'K=4 is adequate system as C/I is still geater than 18dB after considering the practical conditions with reductions of 6dB ')\n",
"else \n",
"disp(,'K=4 is inadequate system as C/I is smaller than 18dB after considering the practical conditions with reductions of 6dB ')\n",
"end\n",
"else \n",
"disp(,'K=4 is inadequate system as C/I is less than the minimum required value of 18dB ')\n",
"end"
   ]
   }
,
{
		   "cell_type": "markdown",
		   "metadata": {},
		   "source": [
			"## Example 5.7: Carrier_to_Interface_ratio_in_6_sector_system.sce"
		   ]
		  },
  {
"cell_type": "code",
	   "execution_count": null,
	   "metadata": {
	    "collapsed": true
	   },
	   "outputs": [],
"source": [
"N=1\n",
"Y=4\n",
"K=7\n",
"q=sqrt(3*K)\n",
"CI=((q+0.7)^(-Y))^(-1)//C/I for 6-sector\n",
"CIdB=10*log10(CI)\n",
"disp(CIdB,'signal to co-channel interfernce ratio C/I in dB')"
   ]
   }
,
{
		   "cell_type": "markdown",
		   "metadata": {},
		   "source": [
			"## Example 5.8: carrier_to_interference_ratio_in_6_sector_system.sce"
		   ]
		  },
  {
"cell_type": "code",
	   "execution_count": null,
	   "metadata": {
	    "collapsed": true
	   },
	   "outputs": [],
"source": [
"N=1\n",
"Y=4\n",
"K=4\n",
"q=sqrt(3*K)\n",
"CI=((q+0.7)^(-Y))^(-1)//C/I for 6-sector\n",
"CIdB=10*log10(CI)\n",
"disp(CIdB,'signal to co-channel interfernce ratio C/I in dB')\n",
"if CIdB>18 then\n",
"a= CIdB-6\n",
"if a>18 then\n",
"disp(,'K=4 is adequate system as C/I is still geater than 18dB after considering the practical conditions with reductions of 6dB ')\n",
"else \n",
"disp(,'K=4 is inadequate system as C/I is smaller than 18dB after considering the practical conditions with reductions of 6dB ')\n",
"end\n",
"else \n",
"disp(,'K=4 is inadequate system as C/I is less than the minimum required value of 18dB ')\n",
"end"
   ]
   }
,
{
		   "cell_type": "markdown",
		   "metadata": {},
		   "source": [
			"## Example 5.9: optimum_value_of_cluster_size.sce"
		   ]
		  },
  {
"cell_type": "code",
	   "execution_count": null,
	   "metadata": {
	    "collapsed": true
	   },
	   "outputs": [],
"source": [
"CIdB=15\n",
"CI=10^(CIdB/10)\n",
"q=(6*(CI))^0.25\n",
"K=q*q/3\n",
"if K >4 then\n",
"    K=7\n",
"end\n",
"disp(K,'optimum value of K for an omnidirectional antenna design')\n",
"q1=(CI^0.25-0.7)\n",
"k=q1*q1/3\n",
"if k<3 then k=3\n",
"end\n",
"disp(k,'practical value of K for 6-sector 60deg. directionl antenna design')"
   ]
   }
],
"metadata": {
		  "kernelspec": {
		   "display_name": "Scilab",
		   "language": "scilab",
		   "name": "scilab"
		  },
		  "language_info": {
		   "file_extension": ".sce",
		   "help_links": [
			{
			 "text": "MetaKernel Magics",
			 "url": "https://github.com/calysto/metakernel/blob/master/metakernel/magics/README.md"
			}
		   ],
		   "mimetype": "text/x-octave",
		   "name": "scilab",
		   "version": "0.7.1"
		  }
		 },
		 "nbformat": 4,
		 "nbformat_minor": 0
}
