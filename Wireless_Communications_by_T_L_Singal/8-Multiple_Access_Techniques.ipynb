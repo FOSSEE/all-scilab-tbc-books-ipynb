{
"cells": [
 {
		   "cell_type": "markdown",
	   "metadata": {},
	   "source": [
       "# Chapter 8: Multiple Access Techniques"
	   ]
	},
{
		   "cell_type": "markdown",
		   "metadata": {},
		   "source": [
			"## Example 8.11: throughput_of_pure_ALOHA.sce"
		   ]
		  },
  {
"cell_type": "code",
	   "execution_count": null,
	   "metadata": {
	    "collapsed": true
	   },
	   "outputs": [],
"source": [
"TDR=1*10^6\n",
"G=0.5\n",
"SmaxALOHA=G*%e^(-2*G)*TDR// throughput\n",
"printf('\nmax. throughput of ALOHA with large no.of subscibers with transmission rate of 1Mbps is= %.f kbps',SmaxALOHA*10^(-3))\n",
"Stdma=100/100*TDR\n",
"printf('\nthroughput of a TDMA network with transmission rate of 1Mbps is= %.f Mbps',Stdma*10^(-6));\n",
"Saloha=TDR\n",
"printf('\nthroughput of ALOHA with 1 subsciber with transmission rate of 1Mbps= %.f Mbps',Saloha*10^(-6));"
   ]
   }
,
{
		   "cell_type": "markdown",
		   "metadata": {},
		   "source": [
			"## Example 8.1: impact_of_aci_in_fdma.sce"
		   ]
		  },
  {
"cell_type": "code",
	   "execution_count": null,
	   "metadata": {
	    "collapsed": true
	   },
	   "outputs": [],
"source": [
"Y=2//prpogation path-loss exponent\n",
"r2=10^3\n",
"r1=10\n",
"delPr=20*log10(r2/r1)^2//log(r2/r1)*20dB/decade\n",
"disp(delPr,'difference between the recieved signal strength (in dB)')\n",
"imp=delPr+20//impact\n",
"disp(imp,'effect of shadow fading causes difference between the recieved signal strength to exceed to (in dB)')\n",
"outrad=40//out of bound radiations\n",
"disp(imp-outrad,'IMPACT is out-of-bound radiations exceeds the desired signal strength by (in dB)')"
   ]
   }
,
{
		   "cell_type": "markdown",
		   "metadata": {},
		   "source": [
			"## Example 8.3: number_of_channels_in_AMPS.sce"
		   ]
		  },
  {
"cell_type": "code",
	   "execution_count": null,
	   "metadata": {
	    "collapsed": true
	   },
	   "outputs": [],
"source": [
"Bt=12.5*10^6\n",
"Bg=10^3\n",
"Bc=30*10^3\n",
"N=(Bt-2*Bg)/Bc//no. of channels\n",
"disp(N,'no. of channels available in an FDMA system is' )"
   ]
   }
,
{
		   "cell_type": "markdown",
		   "metadata": {},
		   "source": [
			"## Example 8.4: number_of_channel_links.sce"
		   ]
		  },
  {
"cell_type": "code",
	   "execution_count": null,
	   "metadata": {
	    "collapsed": true
	   },
	   "outputs": [],
"source": [
"TS=5*10^6//total spectrum\n",
"CBW=25000//bandwidth (channel)\n",
"ns=TS/CBW\n",
"nspd=2\n",
"nd=ns/nspd//Number of simultaneous calls\n",
"disp(nd,'Number of simultaneous calls')"
   ]
   }
,
{
		   "cell_type": "markdown",
		   "metadata": {},
		   "source": [
			"## Example 8.5: number_of_simultaneous_users.sce"
		   ]
		  },
  {
"cell_type": "code",
	   "execution_count": null,
	   "metadata": {
	    "collapsed": true
	   },
	   "outputs": [],
"source": [
"Bt=25*10^6//allocated spectrum\n",
"Bc=200*10^3//channel bandwidth\n",
"Bg=0//no guard band\n",
"m=8//no. of speech channels\n",
"N=m*(Bt-2*Bg)/Bc\n",
"disp(N,'no. of simultaneous subscribers a GSM system can accommodate is ' )"
   ]
   }
,
{
		   "cell_type": "markdown",
		   "metadata": {},
		   "source": [
			"## Example 8.7: frame_efficiency_of_GSM.sce"
		   ]
		  },
  {
"cell_type": "code",
	   "execution_count": null,
	   "metadata": {
	    "collapsed": true
	   },
	   "outputs": [],
"source": [
"N=156.25//total bits\n",
"nov=40.25//overhead bits\n",
"FReff=(1-nov/N)*100//frame efficiency\n",
"disp(FReff,'the frame efficiency (in %)')"
   ]
   }
],
"metadata": {
		  "kernelspec": {
		   "display_name": "Scilab",
		   "language": "scilab",
		   "name": "scilab"
		  },
		  "language_info": {
		   "file_extension": ".sce",
		   "help_links": [
			{
			 "text": "MetaKernel Magics",
			 "url": "https://github.com/calysto/metakernel/blob/master/metakernel/magics/README.md"
			}
		   ],
		   "mimetype": "text/x-octave",
		   "name": "scilab",
		   "version": "0.7.1"
		  }
		 },
		 "nbformat": 4,
		 "nbformat_minor": 0
}
