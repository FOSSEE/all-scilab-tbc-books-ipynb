{
"cells": [
 {
		   "cell_type": "markdown",
	   "metadata": {},
	   "source": [
       "# Chapter 7: Cellular System Design Tradeoffs"
	   ]
	},
{
		   "cell_type": "markdown",
		   "metadata": {},
		   "source": [
			"## Example 7.10: code_rate.sce"
		   ]
		  },
  {
"cell_type": "code",
	   "execution_count": null,
	   "metadata": {
	    "collapsed": true
	   },
	   "outputs": [],
"source": [
"k=184//information bits\n",
"n=224//encoded bits\n",
"disp(n-k,'number of parity check bits')\n",
"r=k/n//code rate\n",
"disp(r,'the code rate of block encoder')"
   ]
   }
,
{
		   "cell_type": "markdown",
		   "metadata": {},
		   "source": [
			"## Example 7.11: delay_in_reconstruction.sce"
		   ]
		  },
  {
"cell_type": "code",
	   "execution_count": null,
	   "metadata": {
	    "collapsed": true
	   },
	   "outputs": [],
"source": [
"nip=228\n",
"nop=456\n",
"cr=nop/nip\n",
"ntdma=8//no.of TDMA blocks\n",
"nebptd=nop/ntdma//no. of bits/tdma frame\n",
"ttdma=4.6*10^-3//1 TDMA frame duration\n",
"tttdma=ntdma*ttdma\n",
"printf('Delay in reconstructing the codewords to the reception of 8 TDMA frames is %.1f ms',tttdma*10^3)"
   ]
   }
,
{
		   "cell_type": "markdown",
		   "metadata": {},
		   "source": [
			"## Example 7.7: Channel_capacity.sce"
		   ]
		  },
  {
"cell_type": "code",
	   "execution_count": null,
	   "metadata": {
	    "collapsed": true
	   },
	   "outputs": [],
"source": [
"Nmacro=7\n",
"Nchmacro=16\n",
"C1=Nmacro*Nchmacro//channel capacity \n",
"Nminpmac=4\n",
"C2=Nmacro*Nchmacro*Nminpmac\n",
"Nmicpmin=4\n",
"C3=Nmacro*Nchmacro*Nminpmac*Nmicpmin\n",
"disp(C1,'channel capacity of macrocell system in no. of channels')\n",
"disp(C2,'channel capacity of minicell system in no. of channels')\n",
"disp(C3,'channel capacity of microcell system in no. of channels')"
   ]
   }
,
{
		   "cell_type": "markdown",
		   "metadata": {},
		   "source": [
			"## Example 7.8: increase_in_capacity.sce"
		   ]
		  },
  {
"cell_type": "code",
	   "execution_count": null,
	   "metadata": {
	    "collapsed": true
	   },
	   "outputs": [],
"source": [
"r0=2*10^3\n",
"r1=1*10^3\n",
"nl=4//no. of large cells\n",
"ns=(r0/r1)^2*nl-1//split cells within area=split cells within square-1\n",
"ncpl=120\n",
"n2=nl*ncpl//no. of channels without cell splitting\n",
"ncps=120\n",
"n1=ns*ncps//no. of channels with cell splitting\n",
"inc=n1/n2//increase in the number of cells\n",
"disp(inc,'increase in the number of cells in times')"
   ]
   }
],
"metadata": {
		  "kernelspec": {
		   "display_name": "Scilab",
		   "language": "scilab",
		   "name": "scilab"
		  },
		  "language_info": {
		   "file_extension": ".sce",
		   "help_links": [
			{
			 "text": "MetaKernel Magics",
			 "url": "https://github.com/calysto/metakernel/blob/master/metakernel/magics/README.md"
			}
		   ],
		   "mimetype": "text/x-octave",
		   "name": "scilab",
		   "version": "0.7.1"
		  }
		 },
		 "nbformat": 4,
		 "nbformat_minor": 0
}
