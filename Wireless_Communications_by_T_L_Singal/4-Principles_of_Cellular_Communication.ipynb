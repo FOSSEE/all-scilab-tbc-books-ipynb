{
"cells": [
 {
		   "cell_type": "markdown",
	   "metadata": {},
	   "source": [
       "# Chapter 4: Principles of Cellular Communication"
	   ]
	},
{
		   "cell_type": "markdown",
		   "metadata": {},
		   "source": [
			"## Example 4.10: cluster_distance.sce"
		   ]
		  },
  {
"cell_type": "code",
	   "execution_count": null,
	   "metadata": {
	    "collapsed": true
	   },
	   "outputs": [],
"source": [
"R=.64//radius\n",
"q=12//co-channel reuse ratio\n",
"D=q*R//nearest distance\n",
"disp(D,'distance from the nearest cochannel cell in km')"
   ]
   }
,
{
		   "cell_type": "markdown",
		   "metadata": {},
		   "source": [
			"## Example 4.11: frequency_reuse_ratio.sce"
		   ]
		  },
  {
"cell_type": "code",
	   "execution_count": null,
	   "metadata": {
	    "collapsed": true
	   },
	   "outputs": [],
"source": [
"R=.8\n",
"D=6.4\n",
"q=D/R//frquency reuse ratio\n",
"disp(q,'frquency reuse ratio q')"
   ]
   }
,
{
		   "cell_type": "markdown",
		   "metadata": {},
		   "source": [
			"## Example 4.1: area_and_number_of_voice_channels.sce"
		   ]
		  },
  {
"cell_type": "code",
	   "execution_count": null,
	   "metadata": {
	    "collapsed": true
	   },
	   "outputs": [],
"source": [
"A=140\n",
"n=7\n",
"Na=40\n",
"C=A/n//coverage area of each cell\n",
"Nvchpercell=30/100*Na\n",
"N=Nvchpercell*n//Number of voice channels\n",
"disp(C,'coverage area of each cell in kmsqr')\n",
"disp(N,'Number of voice channels')"
   ]
   }
,
{
		   "cell_type": "markdown",
		   "metadata": {},
		   "source": [
			"## Example 4.2: number_of_clusters.sce"
		   ]
		  },
  {
"cell_type": "code",
	   "execution_count": null,
	   "metadata": {
	    "collapsed": true
	   },
	   "outputs": [],
"source": [
"K=4\n",
"Acell=7\n",
"Acl=K*Acell//area of cluster\n",
"Asys=1765\n",
"Nservarea=Asys/Acl//number of clusters \n",
"N=round(Nservarea)\n",
"disp(N,'Numer of times the cluster of size 4  has to be replicated')"
   ]
   }
,
{
		   "cell_type": "markdown",
		   "metadata": {},
		   "source": [
			"## Example 4.3: cell_size.sce"
		   ]
		  },
  {
"cell_type": "code",
	   "execution_count": null,
	   "metadata": {
	    "collapsed": true
	   },
	   "outputs": [],
"source": [
"N=32\n",
"Rkm=1.6\n",
"Acell=(3*sqrt(3)/2)*(Rkm^2)\n",
"TA=N*Acell//total service area\n",
"Tc=336\n",
"n=7\n",
"Ncpc=Tc/n//number of channels per cell\n",
"TSC=Ncpc*N//total sysytem capacity\n",
"N1=128\n",
"Ahex=TA/N1\n",
"R=sqrt(Ahex/(1.5*sqrt(2)))\n",
"NCap=Ncpc*N1\n",
"disp(TA,'total service area in kmsqr')\n",
"disp(Ncpc,'number of channels per cell')\n",
"disp(TSC,'total sysytem capacity in no. of channels')\n",
"disp(R,'radius of the new smaller cell in km')\n",
"disp(NCap,'new system capacity in no. of channels')"
   ]
   }
,
{
		   "cell_type": "markdown",
		   "metadata": {},
		   "source": [
			"## Example 4.5: system_capacity.sce"
		   ]
		  },
  {
"cell_type": "code",
	   "execution_count": null,
	   "metadata": {
	    "collapsed": true
	   },
	   "outputs": [],
"source": [
"N=1000\n",
"n=20\n",
"n1=4\n",
"M=n/n1\n",
"TSC=N*M//system capacity\n",
"disp(TSC,'the system capacity in no. of users')\n",
"n2=100\n",
"n3=4\n",
"M1=n2/n3\n",
"NSC=N*M1//new system capacity for increased no. of cells\n",
"disp(NSC,'the new system capacity for increased no. of cells in no. of users')\n",
"n4=700\n",
"n5=7\n",
"M2=n4/n5\n",
"NSC1=N*M2//new system capacity for increased no. of cells\n",
"disp(NSC1,'the system capacity for increased no. of cells & also cluster size in no. of users')"
   ]
   }
,
{
		   "cell_type": "markdown",
		   "metadata": {},
		   "source": [
			"## Example 4.6: cellular_system_capacity.sce"
		   ]
		  },
  {
"cell_type": "code",
	   "execution_count": null,
	   "metadata": {
	    "collapsed": true
	   },
	   "outputs": [],
"source": [
"Asys=4200//area of system\n",
"Acell=12//area of cell\n",
"N=1001\n",
"K=7\n",
"Acl=K*Acell//area of cluster\n",
"M=Asys/Acl//no. of clusters\n",
"disp(M,'no. of clusters')\n",
"J=N/K//cell capacity\n",
"disp(J,'cell capacity in channels/cell')\n",
"C=N*M//system capacity\n",
"disp(C,'the system capacity in no. of channels')\n",
"k=4\n",
"acl=k*Acell\n",
"m=Asys/acl\n",
"m1=floor(m)\n",
"disp(m1,'no. of clusters for reduced cluster size')\n",
"c=N*m1\n",
"disp(c,'new system capacity for reduced cluster size in no. of channels')"
   ]
   }
,
{
		   "cell_type": "markdown",
		   "metadata": {},
		   "source": [
			"## Example 4.7: cluster_and_system_capacity.sce"
		   ]
		  },
  {
"cell_type": "code",
	   "execution_count": null,
	   "metadata": {
	    "collapsed": true
	   },
	   "outputs": [],
"source": [
"n=16\n",
"N=7\n",
"M=12\n",
"Ncpc=n*N//no. of channels per cluster\n",
"TSC=Ncpc*M//system capacity\n",
"disp(Ncpc,'no. of channels per cluster')\n",
"disp(TSC,'the system capacity in channels/system')"
   ]
   }
,
{
		   "cell_type": "markdown",
		   "metadata": {},
		   "source": [
			"## Example 4.9: cluster_size.sce"
		   ]
		  },
  {
"cell_type": "code",
	   "execution_count": null,
	   "metadata": {
	    "collapsed": true
	   },
	   "outputs": [],
"source": [
"i=2//no. of cells(centre to centre) along any chain of hexagon\n",
"j=4//no. of cells(centre to centre) in 60deg. counterclockwise of i\n",
"K=i*i+j*j+i*j//cluster size\n",
"disp(K,'no. of cells in a cluster for i=2 & j=4')\n",
"i1=3;j1=3\n",
"K1=i1*i1+j1*j1+i1*j1//cluster size\n",
"disp(K1,'no. of cells in a cluster for i=3 & j=3')"
   ]
   }
],
"metadata": {
		  "kernelspec": {
		   "display_name": "Scilab",
		   "language": "scilab",
		   "name": "scilab"
		  },
		  "language_info": {
		   "file_extension": ".sce",
		   "help_links": [
			{
			 "text": "MetaKernel Magics",
			 "url": "https://github.com/calysto/metakernel/blob/master/metakernel/magics/README.md"
			}
		   ],
		   "mimetype": "text/x-octave",
		   "name": "scilab",
		   "version": "0.7.1"
		  }
		 },
		 "nbformat": 4,
		 "nbformat_minor": 0
}
