{
"cells": [
 {
		   "cell_type": "markdown",
	   "metadata": {},
	   "source": [
       "# Chapter 6: Frequency Management and Channel Assignment"
	   ]
	},
{
		   "cell_type": "markdown",
		   "metadata": {},
		   "source": [
			"## Example 6.10: Size_of_cell.sce"
		   ]
		  },
  {
"cell_type": "code",
	   "execution_count": null,
	   "metadata": {
	    "collapsed": true
	   },
	   "outputs": [],
"source": [
"R2=20\n",
"N=7\n",
"R1=R2/2.6\n",
"A=round(3*sqrt(3)/2*R1^2)//size of smaller cell\n",
"disp(A,'size of each smaller cell in kmsqr')"
   ]
   }
,
{
		   "cell_type": "markdown",
		   "metadata": {},
		   "source": [
			"## Example 6.1: number_of_channels_per_cell.sce"
		   ]
		  },
  {
"cell_type": "code",
	   "execution_count": null,
	   "metadata": {
	    "collapsed": true
	   },
	   "outputs": [],
"source": [
"K=4\n",
"tbw=20*10^6//total bandwidth\n",
"cbwpc=25*10^3//channel bandwidth/simplex channel\n",
"n=2//in a duplex link no of channels\n",
"dcbw=n*cbwpc//duplex channel bandwidth\n",
"N=tbw/dcbw\n",
"N1=N/K\n",
"disp(N,'total no. of duplex channels')\n",
"disp(N1,'no.of channels per cell site')"
   ]
   }
,
{
		   "cell_type": "markdown",
		   "metadata": {},
		   "source": [
			"## Example 6.4: setup_and_voice_channels_per_cell.sce"
		   ]
		  },
  {
"cell_type": "code",
	   "execution_count": null,
	   "metadata": {
	    "collapsed": true
	   },
	   "outputs": [],
"source": [
"K=4\n",
"N=9//no.of cells in 1 cluster\n",
"tbw=60*10^6//total bandwidth\n",
"cbwpc=25*10^3//channel bandwidth/simplex channel\n",
"n=2//in a duplex link no of channels\n",
"dcbw=n*cbwpc//duplex channel bandwidth\n",
"N=tbw/dcbw\n",
"sbw=10^6//bandwidth for setup channels\n",
"N1=sbw/dcbw//total no.of available setup channels\n",
"disp(N1,'total no.of available setup channels')\n",
"vbw=tbw-sbw\n",
"N2=vbw/dcbw//total no. of available voice channels\n",
"disp(N2,'total no.of available voice channels')"
   ]
   }
,
{
		   "cell_type": "markdown",
		   "metadata": {},
		   "source": [
			"## Example 6.5: Fixed_Channel_Assignment.sce"
		   ]
		  },
  {
"cell_type": "code",
	   "execution_count": null,
	   "metadata": {
	    "collapsed": true
	   },
	   "outputs": [],
"source": [
"NV=168\n",
"N=7\n",
"NVpc=NV/N//number of voice channels omnidirectional case\n",
"NS=3\n",
"NScl=N*NS\n",
"NcS=NV/NScl //number of voice channels 3-sector\n",
"NS1=6\n",
"NScl1=N*NS1\n",
"NcS1=NV/NScl1 //number of voice channels 6-sector\n",
"disp(NVpc,'number of voice channels assigned in each cell')\n",
"disp(NcS,'number of voice channels assigned in each sector(3-sector case)')\n",
"disp(NcS1,'number of voice channels assigned in each sector(6-sector case)')"
   ]
   }
],
"metadata": {
		  "kernelspec": {
		   "display_name": "Scilab",
		   "language": "scilab",
		   "name": "scilab"
		  },
		  "language_info": {
		   "file_extension": ".sce",
		   "help_links": [
			{
			 "text": "MetaKernel Magics",
			 "url": "https://github.com/calysto/metakernel/blob/master/metakernel/magics/README.md"
			}
		   ],
		   "mimetype": "text/x-octave",
		   "name": "scilab",
		   "version": "0.7.1"
		  }
		 },
		 "nbformat": 4,
		 "nbformat_minor": 0
}
