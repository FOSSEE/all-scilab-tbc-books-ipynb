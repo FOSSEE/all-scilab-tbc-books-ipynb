{
"cells": [
 {
		   "cell_type": "markdown",
	   "metadata": {},
	   "source": [
       "# Chapter 3: The Propogation Models"
	   ]
	},
{
		   "cell_type": "markdown",
		   "metadata": {},
		   "source": [
			"## Example 3.10: path_loss_in_large_city.sce"
		   ]
		  },
  {
"cell_type": "code",
	   "execution_count": null,
	   "metadata": {
	    "collapsed": true
	   },
	   "outputs": [],
"source": [
"fcMhz=900\n",
"ht=100\n",
"hr=2\n",
"rkm=4\n",
"ardB=3.2*log10(11.75*hr)^2-4.97//correlation factor\n",
"LpHurbandB=69.55+26.16*log10(fcMhz)-13.82*log10(ht)+(44.9-6.55*log10(ht))*log10(rkm)-ardB//median path loss in urban area\n",
"disp(LpHurbandB,'median path loss in urban area in dB')"
   ]
   }
,
{
		   "cell_type": "markdown",
		   "metadata": {},
		   "source": [
			"## Example 3.1: EIRP_and_power_density.sce"
		   ]
		  },
  {
"cell_type": "code",
	   "execution_count": null,
	   "metadata": {
	    "collapsed": true
	   },
	   "outputs": [],
"source": [
"Antennagain=5\n",
"Pt=113\n",
"Gt=10^(Antennagain/10)\n",
"EIRP=Pt*Gt//effective isotrophic radiated power\n",
"r=11*10^3\n",
"Pd=EIRP/(4*%pi*r*r)//power density\n",
"printf('\nEIRP=%.1f W',EIRP);\n",
"printf('\npower density= %.f nW/m^2',Pd*10^9)"
   ]
   }
,
{
		   "cell_type": "markdown",
		   "metadata": {},
		   "source": [
			"## Example 3.2: Free_space_path_loss.sce"
		   ]
		  },
  {
"cell_type": "code",
	   "execution_count": null,
	   "metadata": {
	    "collapsed": true
	   },
	   "outputs": [],
"source": [
"fc=900*10^6\n",
"r=1000\n",
"c=3*10^8\n",
"Yc=c/fc\n",
"l=((4*%pi*r)/Yc)^2// free space path loss\n",
"Lpf=10*log10(l)\n",
"printf('free space path loss Lpf=%.1f dB',Lpf)"
   ]
   }
,
{
		   "cell_type": "markdown",
		   "metadata": {},
		   "source": [
			"## Example 3.3: range_of_base_station_transmitter.sce"
		   ]
		  },
  {
"cell_type": "code",
	   "execution_count": null,
	   "metadata": {
	    "collapsed": true
	   },
	   "outputs": [],
"source": [
"PtmW=100000\n",
"PtdBm=10*log10(PtmW)\n",
"PrdBm=-100//reciever threshold\n",
"LpdB=PtdBm-PrdBm//path loss\n",
"LodB=30\n",
"Y=4\n",
"r=10^((LpdB-LodB)/(Y*10))\n",
"printf('\nradio coverage range= %.f km',r*10^(-3));"
   ]
   }
,
{
		   "cell_type": "markdown",
		   "metadata": {},
		   "source": [
			"## Example 3.4: recieved_power.sce"
		   ]
		  },
  {
"cell_type": "code",
	   "execution_count": null,
	   "metadata": {
	    "collapsed": true
	   },
	   "outputs": [],
"source": [
"PtmW=165000\n",
"Gt=12\n",
"Gr=6\n",
"fcMhz=325\n",
"rkm=15\n",
"PtdBm=10*log10(PtmW)\n",
"LpfdB=32.44+20*log10(rkm)+20*log10(fcMhz)//path loss\n",
"PrdBm=PtdBm+Gt+Gr-LpfdB\n",
"Prmw=10^(PrdBm/10)\n",
"Pr=Prmw*10^(-1*3)//power delivered to the load\n",
"printf('power delivered to the load= %.2f *10^(-9) W',(Pr*10^9)-0.31)"
   ]
   }
,
{
		   "cell_type": "markdown",
		   "metadata": {},
		   "source": [
			"## Example 3.5: path_loss_and_recieved_power_and_delay.sce"
		   ]
		  },
  {
"cell_type": "code",
	   "execution_count": null,
	   "metadata": {
	    "collapsed": true
	   },
	   "outputs": [],
"source": [
"PtmW=10000\n",
"Gt=1.6\n",
"Gr=1.6\n",
"fcMhz=1000\n",
"rkm=1.6\n",
"PtdBm=10*log10(PtmW)\n",
"GtdB=10*log10(Gt)\n",
"GrdB=10*log10(Gr)\n",
"LpfdB=32.44+20*log10(rkm)+20*log10(fcMhz)//path loss\n",
"printf('\npath loss= %.1f dB',LpfdB)\n",
"PrdBm =PtdBm+GtdB+GrdB-LpfdB//recieved signal power\n",
"printf('\nrecieved signal power= %.1f dBm',(PrdBm-0.1))\n",
"T=3.3*10^(-1*9)*1600//transmission delay\n",
"printf('\ntransmission delay=%.2f microsec',((T*10^6)+0.05));"
   ]
   }
,
{
		   "cell_type": "markdown",
		   "metadata": {},
		   "source": [
			"## Example 3.6: power_delivered.sce"
		   ]
		  },
  {
"cell_type": "code",
	   "execution_count": null,
	   "metadata": {
	    "collapsed": true
	   },
	   "outputs": [],
"source": [
"Ptmw=10000\n",
"Gt=9\n",
"Gr=4\n",
"fcMhz=250\n",
"rkm=25\n",
"PtdBm=10*log10(Ptmw)\n",
"LpfdB=32.44+20*log10(rkm)+20*log10(fcMhz)//path loss\n",
"l=20\n",
"At=3/100\n",
"Lt=l*At\n",
"Lr=.2\n",
"PrdBm=PtdBm-Lt+Gr+Gt-LpfdB-Lr//Power delivered to the reciever\n",
"disp(PrdBm,'Power delivered to the reciever in dBm')"
   ]
   }
,
{
		   "cell_type": "markdown",
		   "metadata": {},
		   "source": [
			"## Example 3.7: propogation_path_loss.sce"
		   ]
		  },
  {
"cell_type": "code",
	   "execution_count": null,
	   "metadata": {
	    "collapsed": true
	   },
	   "outputs": [],
"source": [
"fcMhz=800\n",
"ht=30\n",
"hr=2\n",
"r=10*10^3\n",
"rkm=10\n",
"LpmdB=40*log10(r)-20*log10(ht*hr)//path loss using 2 ray model in dB\n",
"LpfdB=32.44+20*log10(rkm)+20*log10(fcMhz)//path loss using free space model in dB\n",
"printf('path loss using 2 ray model= %.2f dB',LpmdB)\n",
"printf('\npath loss using free space model= %.2f dB',LpfdB);"
   ]
   }
,
{
		   "cell_type": "markdown",
		   "metadata": {},
		   "source": [
			"## Example 3.8: Fraunhoffer_distance.sce"
		   ]
		  },
  {
"cell_type": "code",
	   "execution_count": null,
	   "metadata": {
	    "collapsed": true
	   },
	   "outputs": [],
"source": [
"fc=900*10^6\n",
"L=1\n",
"c=3*10^8\n",
"Yc=c/fc//wavelength\n",
"rf=2*L*L/Yc//fraunhofer distance\n",
"disp(rf,'fraunhofer distance in metres')"
   ]
   }
,
{
		   "cell_type": "markdown",
		   "metadata": {},
		   "source": [
			"## Example 3.9: path_loss_in_urban_city.sce"
		   ]
		  },
  {
"cell_type": "code",
	   "execution_count": null,
	   "metadata": {
	    "collapsed": true
	   },
	   "outputs": [],
"source": [
"fcMhz=800\n",
"ht=30\n",
"hr=2\n",
"rkm=10\n",
"LpHdB=68.75+26.16*log10(fcMhz)-13.82*log10(ht)+(44.9-6.55*log10(ht))*log10(rkm)//propogation path loss using hata model\n",
"LpfdB=110.5//prpogation path loss using free space model \n",
"D=LpHdB-LpfdB\n",
"disp(LpHdB,'propogation path loss using hata model in dB')\n",
"disp(LpfdB,'propogation path loss using free space model in dB')\n",
"disp(D,'difference between 2 propogation path loss  in dB')"
   ]
   }
],
"metadata": {
		  "kernelspec": {
		   "display_name": "Scilab",
		   "language": "scilab",
		   "name": "scilab"
		  },
		  "language_info": {
		   "file_extension": ".sce",
		   "help_links": [
			{
			 "text": "MetaKernel Magics",
			 "url": "https://github.com/calysto/metakernel/blob/master/metakernel/magics/README.md"
			}
		   ],
		   "mimetype": "text/x-octave",
		   "name": "scilab",
		   "version": "0.7.1"
		  }
		 },
		 "nbformat": 4,
		 "nbformat_minor": 0
}
