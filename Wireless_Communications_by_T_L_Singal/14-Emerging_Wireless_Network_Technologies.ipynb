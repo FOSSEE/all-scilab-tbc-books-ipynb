{
"cells": [
 {
		   "cell_type": "markdown",
	   "metadata": {},
	   "source": [
       "# Chapter 14: Emerging Wireless Network Technologies"
	   ]
	},
{
		   "cell_type": "markdown",
		   "metadata": {},
		   "source": [
			"## Example 14.10: number_of_wireless_links.sce"
		   ]
		  },
  {
"cell_type": "code",
	   "execution_count": null,
	   "metadata": {
	    "collapsed": true
	   },
	   "outputs": [],
"source": [
"N=100\n",
"c=4\n",
"MNw=N*c\n",
"TNw=MNw/2//no. of wireless links\n",
"disp(TNw,'total no. of wireless links in the network')"
   ]
   }
,
{
		   "cell_type": "markdown",
		   "metadata": {},
		   "source": [
			"## Example 14.3: data_transfer_time.sce"
		   ]
		  },
  {
"cell_type": "code",
	   "execution_count": null,
	   "metadata": {
	    "collapsed": true
	   },
	   "outputs": [],
"source": [
"TDR=2000//transmission data rate\n",
"Size=20*8\n",
"dtt=Size/TDR//data transfer time\n",
"printf('data transfer time= %.f ms',dtt*10^3)"
   ]
   }
,
{
		   "cell_type": "markdown",
		   "metadata": {},
		   "source": [
			"## Example 14.4: Size_of_file.sce"
		   ]
		  },
  {
"cell_type": "code",
	   "execution_count": null,
	   "metadata": {
	    "collapsed": true
	   },
	   "outputs": [],
"source": [
"TDR=2\n",
"dtt=16//data transfer time\n",
"Size=TDR*dtt//size\n",
"disp(Size,'size of a file transferred in Mb')"
   ]
   }
,
{
		   "cell_type": "markdown",
		   "metadata": {},
		   "source": [
			"## Example 14.5: Transmission_data_rate.sce"
		   ]
		  },
  {
"cell_type": "code",
	   "execution_count": null,
	   "metadata": {
	    "collapsed": true
	   },
	   "outputs": [],
"source": [
"tn=52//no.of subcarriers\n",
"np=4//no.of subcarriers used as pilot subcarriers\n",
"nd=tn-np//no.of data subcarriers\n",
"FECcr=3/4//forward error correction code rate\n",
"m=log10(64)/log10(2)//bits per symbol\n",
"ndpos=m*FECcr*nd//no. of data bits transmitted per ofdm symbol\n",
"odsd=4*10^-6//data symbol duration\n",
"TDR=ndpos/odsd\n",
"printf('transmission data rate= %.fMbps',TDR*10^(-6))"
   ]
   }
],
"metadata": {
		  "kernelspec": {
		   "display_name": "Scilab",
		   "language": "scilab",
		   "name": "scilab"
		  },
		  "language_info": {
		   "file_extension": ".sce",
		   "help_links": [
			{
			 "text": "MetaKernel Magics",
			 "url": "https://github.com/calysto/metakernel/blob/master/metakernel/magics/README.md"
			}
		   ],
		   "mimetype": "text/x-octave",
		   "name": "scilab",
		   "version": "0.7.1"
		  }
		 },
		 "nbformat": 4,
		 "nbformat_minor": 0
}
