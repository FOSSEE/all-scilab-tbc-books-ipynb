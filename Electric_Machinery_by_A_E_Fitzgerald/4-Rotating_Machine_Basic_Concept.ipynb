{
"cells": [
 {
		   "cell_type": "markdown",
	   "metadata": {},
	   "source": [
       "# Chapter 4: Rotating Machine Basic Concept"
	   ]
	},
{
		   "cell_type": "markdown",
		   "metadata": {},
		   "source": [
			"## Example 4.1: Finding_peak_mmf_and_flux.sce"
		   ]
		  },
  {
"cell_type": "code",
	   "execution_count": null,
	   "metadata": {
	    "collapsed": true
	   },
	   "outputs": [],
"source": [
"// Caption: Finding peak mmf and flux\n",
"clear;\n",
"close;\n",
"clc;\n",
"\n",
"function [F_peak]=mmf(k,N,p,I)\n",
"  F_peak=(4*k*N*I)/(%pi*p);\n",
"endfunction\n",
"f=mmf(.9,46,2,1500);//peaf fundamental mmf\n",
"\n",
"B_peak=(4*%pi*10^-7*f)/(7.5*10^-2);//peak flux density\n",
"\n",
"phy=2*B_peak*4*0.5;//flux per pole\n",
"E_rms=sqrt(2)*%pi*60*.833*24*2.64;//rms voltage\n",
"disp(E_rms,'RMS value of voltage generated=')"
   ]
   }
],
"metadata": {
		  "kernelspec": {
		   "display_name": "Scilab",
		   "language": "scilab",
		   "name": "scilab"
		  },
		  "language_info": {
		   "file_extension": ".sce",
		   "help_links": [
			{
			 "text": "MetaKernel Magics",
			 "url": "https://github.com/calysto/metakernel/blob/master/metakernel/magics/README.md"
			}
		   ],
		   "mimetype": "text/x-octave",
		   "name": "scilab",
		   "version": "0.7.1"
		  }
		 },
		 "nbformat": 4,
		 "nbformat_minor": 0
}
