{
"cells": [
 {
		   "cell_type": "markdown",
	   "metadata": {},
	   "source": [
       "# Chapter 1: Magnetic Circuits and Magnetic Materials"
	   ]
	},
{
		   "cell_type": "markdown",
		   "metadata": {},
		   "source": [
			"## Example 1.1: Finding_reluctances_and_flux.sce"
		   ]
		  },
  {
"cell_type": "code",
	   "execution_count": null,
	   "metadata": {
	    "collapsed": true
	   },
	   "outputs": [],
"source": [
"// Caption: Finding reluctances and flux\n",
"\n",
"clear;\n",
"close;\n",
"clc;\n",
"U_r=70000;\n",
"U_o=4*%pi*10^-7;\n",
"\n",
"function [R_c]=reluctance_core(l,A)\n",
"  R_c=l/(U_r*U_o*A);\n",
"endfunction\n",
"disp(reluctance_core(.3,9*10^-4),'Reluctance of the core=')\n",
"\n",
"function [R_g]=reluctance_gap(g,A)\n",
"  R_g=g/(U_o*A);\n",
"endfunction\n",
"disp(reluctance_gap(5*10^-4,9*10^-4),'Reluctance of the gap=')\n",
"\n",
"phy=1.0*9*10^-4;\n",
"disp(phy,'flux=')\n",
"\n",
"i=phy*(reluctance_core(.3,9*10^-4)+reluctance_gap(5*10^-4,9*10^-4))/500;\n",
"disp(i,'current=')"
   ]
   }
,
{
		   "cell_type": "markdown",
		   "metadata": {},
		   "source": [
			"## Example 1.2: Finding_air_gap_flux.sce"
		   ]
		  },
  {
"cell_type": "code",
	   "execution_count": null,
	   "metadata": {
	    "collapsed": true
	   },
	   "outputs": [],
"source": [
"// Caption: Finding air gap flux\n",
"clear;\n",
"close;\n",
"clc;\n",
"N=1000;\n",
"I=10;\n",
"U_o=4*%pi*10^-7;\n",
"A_g=.2;\n",
"g=.01;\n",
"phy=(N*I*U_o*A_g)/(2*g);\n",
"disp(phy,'flux=')\n",
"B_g=phy/A_g;\n",
"disp(B_g,'flux density=')"
   ]
   }
,
{
		   "cell_type": "markdown",
		   "metadata": {},
		   "source": [
			"## Example 1.4b: Finding_Induced_voltage_of_a_magnetic_circuit.sce"
		   ]
		  },
  {
"cell_type": "code",
	   "execution_count": null,
	   "metadata": {
	    "collapsed": true
	   },
	   "outputs": [],
"source": [
"// Caption: Finding Induced voltage of a magnetic circuit \n",
"\n",
"close;\n",
"clc;\n",
"syms t\n",
"\n",
"w=2*%pi*60//angular frequency\n",
"\n",
"B=1.0*sin(w*t);\n",
"N=500;\n",
"A=9*10^-4;\n",
"e=N*A*diff(B,t);\n",
"\n",
"disp(e,'Induced Voltage = ');"
   ]
   }
,
{
		   "cell_type": "markdown",
		   "metadata": {},
		   "source": [
			"## Example 1.5: Finding_current_from_dc_magnetization_curve.sce"
		   ]
		  },
  {
"cell_type": "code",
	   "execution_count": null,
	   "metadata": {
	    "collapsed": true
	   },
	   "outputs": [],
"source": [
"// Caption: Finding current from dc magnetization curve\n",
"clear;\n",
"close;\n",
"clc;\n",
"H_c=12;//from fig at B_c=1 T\n",
"l_c=0.3;\n",
"F_c=H_c*l_c;//mmf of core path\n",
"F_g=(5*10^-4)/(4*%pi*10^-7);//mmf of air gap\n",
"i=(F_c+F_g)/500;//current in Amperes\n",
"disp(i,'current=');"
   ]
   }
,
{
		   "cell_type": "markdown",
		   "metadata": {},
		   "source": [
			"## Example 1.6a: Finding_applied_voltage_to_the_windinds_with_magnetic_core.sce"
		   ]
		  },
  {
"cell_type": "code",
	   "execution_count": null,
	   "metadata": {
	    "collapsed": true
	   },
	   "outputs": [],
"source": [
"// Finding applied voltage to the windinds with magnetic core\n",
"close;\n",
"clc;\n",
"syms t\n",
"\n",
"w=377;//angular frequency\n",
"\n",
"B=1.5*sin(w*t);\n",
"N=200;  \n",
"A=16*10^-4;//area\n",
"a=0.94;//steel occupies 0.94 times the gross core volume\n",
"e=N*A*a*diff(B,t);\n",
"\n",
"disp(e,'applied Voltage = ');"
   ]
   }
,
{
		   "cell_type": "markdown",
		   "metadata": {},
		   "source": [
			"## Example 1.8: Finding_minimum_magnet_volume.sce"
		   ]
		  },
  {
"cell_type": "code",
	   "execution_count": null,
	   "metadata": {
	    "collapsed": true
	   },
	   "outputs": [],
"source": [
"// Caption: Finding minimum magnet volume\n",
"clear;\n",
"close;\n",
"clc;\n",
"\n",
"function [A_m]=area(B_g,B_m)\n",
" A_m=2*B_g/B_m;\n",
"endfunction\n",
"a=area(0.8,1.0);//from fig\n",
"L_m=-0.2*0.8/(4*%pi*10^-7*-40*10^3);\n",
"\n",
"volume=a*L_m;//minimum magnet volume\n",
"disp(volume,'minimum magnet volume in cm cube');\n",
"\n",
""
   ]
   }
],
"metadata": {
		  "kernelspec": {
		   "display_name": "Scilab",
		   "language": "scilab",
		   "name": "scilab"
		  },
		  "language_info": {
		   "file_extension": ".sce",
		   "help_links": [
			{
			 "text": "MetaKernel Magics",
			 "url": "https://github.com/calysto/metakernel/blob/master/metakernel/magics/README.md"
			}
		   ],
		   "mimetype": "text/x-octave",
		   "name": "scilab",
		   "version": "0.7.1"
		  }
		 },
		 "nbformat": 4,
		 "nbformat_minor": 0
}
