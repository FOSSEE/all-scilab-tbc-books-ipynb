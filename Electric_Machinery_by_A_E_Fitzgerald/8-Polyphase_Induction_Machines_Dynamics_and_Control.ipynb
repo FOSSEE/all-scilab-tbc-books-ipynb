{
"cells": [
 {
		   "cell_type": "markdown",
	   "metadata": {},
	   "source": [
       "# Chapter 8: Polyphase Induction Machines Dynamics and Control"
	   ]
	},
{
		   "cell_type": "markdown",
		   "metadata": {},
		   "source": [
			"## Example 8.3: Finding_short_circuit_current.sce"
		   ]
		  },
  {
"cell_type": "code",
	   "execution_count": null,
	   "metadata": {
	    "collapsed": true
	   },
	   "outputs": [],
"source": [
"// Caption: Finding short circuit current\n",
"clear;\n",
"close;\n",
"clc;\n",
"X=.060+2.5-(2.5^2/(.06+2.5));//transient reactance\n",
"I=300*10^3/(.9*.93*440*sqrt(3));//prefault stator current\n",
"I_initial=232/.12;//initial current\n",
"T_o=(2.5+.06)/(2*%pi*60*.0064);//open circuit time constant\n",
"T_s=T_o*.12/2.56;//short circuit time constant"
   ]
   }
],
"metadata": {
		  "kernelspec": {
		   "display_name": "Scilab",
		   "language": "scilab",
		   "name": "scilab"
		  },
		  "language_info": {
		   "file_extension": ".sce",
		   "help_links": [
			{
			 "text": "MetaKernel Magics",
			 "url": "https://github.com/calysto/metakernel/blob/master/metakernel/magics/README.md"
			}
		   ],
		   "mimetype": "text/x-octave",
		   "name": "scilab",
		   "version": "0.7.1"
		  }
		 },
		 "nbformat": 4,
		 "nbformat_minor": 0
}
