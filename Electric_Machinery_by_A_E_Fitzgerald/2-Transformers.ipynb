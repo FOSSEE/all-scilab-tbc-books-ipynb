{
"cells": [
 {
		   "cell_type": "markdown",
	   "metadata": {},
	   "source": [
       "# Chapter 2: Transformers"
	   ]
	},
{
		   "cell_type": "markdown",
		   "metadata": {},
		   "source": [
			"## Example 2.1: Finding_power_factor_and_core_loss_current.sce"
		   ]
		  },
  {
"cell_type": "code",
	   "execution_count": null,
	   "metadata": {
	    "collapsed": true
	   },
	   "outputs": [],
"source": [
"// Caption: Finding power factor,core loss current\n",
"clear;\n",
"close;\n",
"clc;\n",
"alpha=acos(16/20);\n",
"pf=cos(alpha);//power factor\n",
"disp(pf,'power factor=');\n",
"\n",
"I_e=20/194;//exciting current\n",
"I_c=16/194;//core loss component\n",
"I_m=I_e*0.6;//magnetizing componentminimum magnet volume"
   ]
   }
,
{
		   "cell_type": "markdown",
		   "metadata": {},
		   "source": [
			"## Example 2.3: Finding_peak_mmf_and_flux.sce"
		   ]
		  },
  {
"cell_type": "code",
	   "execution_count": null,
	   "metadata": {
	    "collapsed": true
	   },
	   "outputs": [],
"source": [
"// Caption: Finding peak mmf and flux\n",
"clear;\n",
"close;\n",
"clc;\n",
"function [F_peak]=mmf(k,N,m,I)\n",
"  F_peak=(1.5*4*k*N*I)/(%pi*2*m);\n",
"endfunction\n",
"\n",
"f=mmf(.92,45,3,700);\n",
"U_o=4*%pi*10^-7;\n",
"B_peak=U_o*8.81*10^3/.01;//flux density\n",
"vel=25*0.5;//in m/s"
   ]
   }
,
{
		   "cell_type": "markdown",
		   "metadata": {},
		   "source": [
			"## Example 2.4: Finding_regulation.sce"
		   ]
		  },
  {
"cell_type": "code",
	   "execution_count": null,
	   "metadata": {
	    "collapsed": true
	   },
	   "outputs": [],
"source": [
"// Caption: Finding regulation\n",
"clear;\n",
"close;\n",
"clc;\n",
"Z_eq=48/20.8;\n",
"R_eq=617/20.8^2;\n",
"X_eq=sqrt(Z_eq^2-R_eq^2);//in ohms\n",
"I_h=50000/2400;//full load high tension current\n",
"Loss=I_h^2*R_eq;\n",
"Input=40000+186+Loss;//in watts\n",
"Efficiency=1-803/Input;\n",
"disp(Efficiency,'efficiency is=');\n",
"\n",
"V_1h=2400+(20.8*(0.8-0.6*%i)*(1.42+1.82*%i));\n",
"Reg=((2446-2400)/2400)*100;\n",
"disp(Reg,'percentage regultion=')"
   ]
   }
,
{
		   "cell_type": "markdown",
		   "metadata": {},
		   "source": [
			"## Example 2.5: Finding_kVA_rating.sce"
		   ]
		  },
  {
"cell_type": "code",
	   "execution_count": null,
	   "metadata": {
	    "collapsed": true
	   },
	   "outputs": [],
"source": [
"// Caption: Finding kVA rating\n",
"clear;\n",
"close;\n",
"clc;\n",
"I_h=50000/240;\n",
"V_h=2640;\n",
"kva=V_h*I_h/1000;\n",
"disp(kva,'kVA rating of transformer=')\n",
"\n",
"eff=1-803/(0.8*550000);//from ex 2.4\n",
"disp(eff,'efficiency is=')"
   ]
   }
,
{
		   "cell_type": "markdown",
		   "metadata": {},
		   "source": [
			"## Example 2.7: Finding_current_in_feeder_wires.sce"
		   ]
		  },
  {
"cell_type": "code",
	   "execution_count": null,
	   "metadata": {
	    "collapsed": true
	   },
	   "outputs": [],
"source": [
"// Caption: Finding current in feeder wires\n",
"clear;\n",
"close;\n",
"clc;\n",
"V_s=2400/sqrt(3);\n",
"X_eqs=2.76/3;//per phase\n",
"X_eqr=1.82/3;//at recieving end\n",
"total_X=X_eqs+X_eqr+0.8;\n",
"I_win=594/sqrt(3);//at 2400V windings\n",
"I_feeder=1385/2.33;//at 2400V feeder"
   ]
   }
,
{
		   "cell_type": "markdown",
		   "metadata": {},
		   "source": [
			"## Example 2.8: Finding_per_unit_system.sce"
		   ]
		  },
  {
"cell_type": "code",
	   "execution_count": null,
	   "metadata": {
	    "collapsed": true
	   },
	   "outputs": [],
"source": [
"// Caption: Finding per unit system\n",
"clear;\n",
"close;\n",
"clc;\n",
"Z_baseH=2400/20.8;\n",
"Z_baseX=240/208;\n",
"\n",
"I_x=5.41/208;//per unit at low voltage side\n",
"\n",
"Z_eqH=(1.42+%i*1.82)/115.2;//per unit\n",
"disp(Z_eqH,'equivalent impedence referred to high voltage side')"
   ]
   }
,
{
		   "cell_type": "markdown",
		   "metadata": {},
		   "source": [
			"## Example 2.9: Finding_current_in_feeder_wires_in_per_unit.sce"
		   ]
		  },
  {
"cell_type": "code",
	   "execution_count": null,
	   "metadata": {
	    "collapsed": true
	   },
	   "outputs": [],
"source": [
"// Caption: Finding current in feeder wires in per unit\n",
"clear;\n",
"close;\n",
"clc;\n",
"V_base=2400/sqrt(3);//for 2400V feeder and line to neutral\n",
"I_base=50000/1385;//phase Y\n",
"Z_base=V_base/I_base;//phase Y\n",
"X_feeder=0.8/Z_base;//per unit\n",
"\n",
"SC_current=1.00/.0608;// short circuit current in per unit\n",
"disp(SC_current,'short circuit current in per unit=')"
   ]
   }
],
"metadata": {
		  "kernelspec": {
		   "display_name": "Scilab",
		   "language": "scilab",
		   "name": "scilab"
		  },
		  "language_info": {
		   "file_extension": ".sce",
		   "help_links": [
			{
			 "text": "MetaKernel Magics",
			 "url": "https://github.com/calysto/metakernel/blob/master/metakernel/magics/README.md"
			}
		   ],
		   "mimetype": "text/x-octave",
		   "name": "scilab",
		   "version": "0.7.1"
		  }
		 },
		 "nbformat": 4,
		 "nbformat_minor": 0
}
