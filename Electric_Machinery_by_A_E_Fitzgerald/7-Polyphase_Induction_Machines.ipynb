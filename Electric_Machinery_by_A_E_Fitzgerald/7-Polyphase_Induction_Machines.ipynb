{
"cells": [
 {
		   "cell_type": "markdown",
	   "metadata": {},
	   "source": [
       "# Chapter 7: Polyphase Induction Machines"
	   ]
	},
{
		   "cell_type": "markdown",
		   "metadata": {},
		   "source": [
			"## Example 7.1: Finding_stator_current_and_efficiency.sce"
		   ]
		  },
  {
"cell_type": "code",
	   "execution_count": null,
	   "metadata": {
	    "collapsed": true
	   },
	   "outputs": [],
"source": [
"// Caption: Finding stator current and efficiency\n",
"clear;\n",
"close;\n",
"clc;\n",
"V_app=220/sqrt(3);//applied voltage to neutral\n",
"I_s=127/6.75;//stator current\n",
"pf=cos(.565);//in radians\n",
"\n",
"speed=120/6;// synchronous speed in r/s\n",
"S_r=(1-.02)*speed*60;//rotor spped in r/min\n",
"P_g=3*18.8^2*5.41;\n",
"P=.98*5740;//internal mechanical power\n",
"\n",
"eff=1-830/6060;\n",
"disp(eff,'efficiency=')"
   ]
   }
,
{
		   "cell_type": "markdown",
		   "metadata": {},
		   "source": [
			"## Example 7.2: Finding_internal_torque.sce"
		   ]
		  },
  {
"cell_type": "code",
	   "execution_count": null,
	   "metadata": {
	    "collapsed": true
	   },
	   "outputs": [],
"source": [
"// Caption:Finding internal torque\n",
"clear;\n",
"close;\n",
"clc;\n",
"V_a=122.3;\n",
"I_two= V_a/sqrt(5.07^2+0.699^2);//load component of stator current\n",
"T=3*23.9^2*4.8/125.6;//internal torque\n",
"P=3*23^2*4.8*.97;//internal power\n",
"\n",
"// at maximum torque point\n",
"s_max=0.144/0.75;\n",
"speed=(1-s_max)*1200;//speed in r/min\n",
"T_max=(0.5*3*122.3^2)/(125.6*(0.273+0.750));//maximum internal torque\n",
"\n",
"T_start=3*150.5^2*0.144/125.6;//starting torque in N-mFinding stator current and efficiency"
   ]
   }
,
{
		   "cell_type": "markdown",
		   "metadata": {},
		   "source": [
			"## Example 7.3: Finding_internal_starting_torque.sce"
		   ]
		  },
  {
"cell_type": "code",
	   "execution_count": null,
	   "metadata": {
	    "collapsed": true
	   },
	   "outputs": [],
"source": [
"// Caption: Finding internal starting torque\n",
"clear;\n",
"close;\n",
"clc;\n",
"P_r=380-3*5.7^2*0.262;\n",
"//from test 1\n",
"Z_nl=219/(sqrt(3)*5.7);//phase Y\n",
"R_nl=380/(3*5.7^2);\n",
"\n",
"//from test 2\n",
"Z_bl=26.5/(sqrt(3)*18.57);//phase at 15 hz\n",
"R_bl=675/(3*18.75^2)//\n",
"\n",
"//internal starting torque\n",
"P_g=20100-3*83.3^2*0.262;//air gap power\n",
"\n",
"T_start=P_g/188.5;//starting torque in N-m"
   ]
   }
],
"metadata": {
		  "kernelspec": {
		   "display_name": "Scilab",
		   "language": "scilab",
		   "name": "scilab"
		  },
		  "language_info": {
		   "file_extension": ".sce",
		   "help_links": [
			{
			 "text": "MetaKernel Magics",
			 "url": "https://github.com/calysto/metakernel/blob/master/metakernel/magics/README.md"
			}
		   ],
		   "mimetype": "text/x-octave",
		   "name": "scilab",
		   "version": "0.7.1"
		  }
		 },
		 "nbformat": 4,
		 "nbformat_minor": 0
}
