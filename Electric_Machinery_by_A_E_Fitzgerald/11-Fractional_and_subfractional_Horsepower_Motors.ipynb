{
"cells": [
 {
		   "cell_type": "markdown",
	   "metadata": {},
	   "source": [
       "# Chapter 11: Fractional and subfractional Horsepower Motors"
	   ]
	},
{
		   "cell_type": "markdown",
		   "metadata": {},
		   "source": [
			"## Example 11.2: Finding_efficiency_at_rated_voltage_and_frequency_with_starting_winding_open.sce"
		   ]
		  },
  {
"cell_type": "code",
	   "execution_count": null,
	   "metadata": {
	    "collapsed": true
	   },
	   "outputs": [],
"source": [
"// Caption: Finding efficiency at rated voltage and frequency with starting winding open\n",
"clear;\n",
"close;\n",
"clc;\n",
"s=0.05;\n",
"//rotor speed\n",
"speed=(1-s)*1800;//in r/min\n",
"//torque\n",
"T=147/179;// in N.m\n",
"\n",
"//Efficiency\n",
"op=244;//output\n",
"ip=147;//input\n",
"eff=ip/op;\n",
"disp(eff,'Efficiency=')"
   ]
   }
,
{
		   "cell_type": "markdown",
		   "metadata": {},
		   "source": [
			"## Example 11.3d: Finding_internal_mechanical_power.sce"
		   ]
		  },
  {
"cell_type": "code",
	   "execution_count": null,
	   "metadata": {
	    "collapsed": true
	   },
	   "outputs": [],
"source": [
"// Caption: Finding internal mechanical power\n",
"clear;\n",
"close;\n",
"clc;\n",
"I_f=11.26;\n",
"R_f=16.46;\n",
"//power delivered to forwaed field\n",
"P_gf=2*I_f^2*R_f;\n",
"I_b=4;\n",
"R_b=0.451;\n",
"//power delivered to the backward field\n",
"P_gb=2*I_b^2*R_b;\n",
"\n",
"P=.95*(P_gf-P_gb);\n",
"disp(P,'internal mechanical power=')"
   ]
   }
,
{
		   "cell_type": "markdown",
		   "metadata": {},
		   "source": [
			"## Example 11.6: Finding_speed_voltage_constant.sce"
		   ]
		  },
  {
"cell_type": "code",
	   "execution_count": null,
	   "metadata": {
	    "collapsed": true
	   },
	   "outputs": [],
"source": [
"// Caption: Finding speed voltage constant\n",
"clear;\n",
"close;\n",
"clc;\n",
"V_t=50;\n",
"I_a=1.25;\n",
"R_a=1.03;\n",
"E_a=V_t-I_a*R_a;\n",
"\n",
"W=220;//rad/s\n",
"K_m=E_a/W;// V/rad/s\n",
"\n",
"//At 1700 r/min\n",
"W_m=1700*2*%pi/60;//rad/s\n",
"E_anew=K_m*W_m;\n",
"\n",
"I_anew=(48-E_anew)/1.03;\n",
"P_shaft=E_anew*I_anew;\n",
"P=P_shaft-61;\n",
"\n",
"disp(P,'output power=')"
   ]
   }
],
"metadata": {
		  "kernelspec": {
		   "display_name": "Scilab",
		   "language": "scilab",
		   "name": "scilab"
		  },
		  "language_info": {
		   "file_extension": ".sce",
		   "help_links": [
			{
			 "text": "MetaKernel Magics",
			 "url": "https://github.com/calysto/metakernel/blob/master/metakernel/magics/README.md"
			}
		   ],
		   "mimetype": "text/x-octave",
		   "name": "scilab",
		   "version": "0.7.1"
		  }
		 },
		 "nbformat": 4,
		 "nbformat_minor": 0
}
