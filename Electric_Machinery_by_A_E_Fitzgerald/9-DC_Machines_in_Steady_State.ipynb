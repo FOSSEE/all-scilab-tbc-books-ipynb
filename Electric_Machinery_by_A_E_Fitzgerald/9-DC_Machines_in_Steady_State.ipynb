{
"cells": [
 {
		   "cell_type": "markdown",
	   "metadata": {},
	   "source": [
       "# Chapter 9: DC Machines in Steady State"
	   ]
	},
{
		   "cell_type": "markdown",
		   "metadata": {},
		   "source": [
			"## Example 9.1: Finding_electromagnetic_torque.sce"
		   ]
		  },
  {
"cell_type": "code",
	   "execution_count": null,
	   "metadata": {
	    "collapsed": true
	   },
	   "outputs": [],
"source": [
"// Caption: Finding electromagnetic torque\n",
"clear;\n",
"close;\n",
"clc;\n",
"V_t=128;\n",
"E_a=125;\n",
"R_a=.02;\n",
"I_a=(V_t-E_a)/R_a;//armature current\n",
"\n",
"P_t=V_t*I_a;//terminal power;\n",
"P_e=E_a*I_a;//electromagnetic power;\n",
"T=P_e/(100*%pi);//torque\n",
"disp(T,'electromagnetic torque=');"
   ]
   }
,
{
		   "cell_type": "markdown",
		   "metadata": {},
		   "source": [
			"## Example 9.2: Finding_terminal_voltage.sce"
		   ]
		  },
  {
"cell_type": "code",
	   "execution_count": null,
	   "metadata": {
	    "collapsed": true
	   },
	   "outputs": [],
"source": [
"// Caption: Finding terminal voltage\n",
"clear;\n",
"close;\n",
"clc;\n",
"V=274;//voltage when Ia=0\n",
"E_a=274*1150/1200;//actual emf\n",
"V_t=E_a-405*(0.025+0.005);//terminal voltage"
   ]
   }
,
{
		   "cell_type": "markdown",
		   "metadata": {},
		   "source": [
			"## Example 9.4: Finding_speed_and_output_power.sce"
		   ]
		  },
  {
"cell_type": "code",
	   "execution_count": null,
	   "metadata": {
	    "collapsed": true
	   },
	   "outputs": [],
"source": [
"// Caption: Finding speed and output power\n",
"clear;\n",
"close;\n",
"clc;\n",
"E_ao=250*1200/1100;//at 1200 r/min\n",
"E_a=250-400*.025;//at Ia=400A\n",
"n=240*1200/261;//actual spped\n",
"P_em=240*400;\n",
"disp(P_em,'electromagnetic power=')"
   ]
   }
],
"metadata": {
		  "kernelspec": {
		   "display_name": "Scilab",
		   "language": "scilab",
		   "name": "scilab"
		  },
		  "language_info": {
		   "file_extension": ".sce",
		   "help_links": [
			{
			 "text": "MetaKernel Magics",
			 "url": "https://github.com/calysto/metakernel/blob/master/metakernel/magics/README.md"
			}
		   ],
		   "mimetype": "text/x-octave",
		   "name": "scilab",
		   "version": "0.7.1"
		  }
		 },
		 "nbformat": 4,
		 "nbformat_minor": 0
}
