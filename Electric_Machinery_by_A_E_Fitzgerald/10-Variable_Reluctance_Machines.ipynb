{
"cells": [
 {
		   "cell_type": "markdown",
	   "metadata": {},
	   "source": [
       "# Chapter 10: Variable Reluctance Machines"
	   ]
	},
{
		   "cell_type": "markdown",
		   "metadata": {},
		   "source": [
			"## Example 10.1a: Finding_maximum_inductance_for_phase.sce"
		   ]
		  },
  {
"cell_type": "code",
	   "execution_count": null,
	   "metadata": {
	    "collapsed": true
	   },
	   "outputs": [],
"source": [
"// Caption: Finding maximum inductance for phase \n",
"clear;\n",
"close;\n",
"clc;\n",
"N=100;\n",
"U_o=4*%pi*10^-7;\n",
"alpha=%pi/3;\n",
"R=3.8*10^-2;\n",
"D=0.13;\n",
"g=2.54*10^-4;\n",
"L_max=N^2*U_o*alpha*R*D/(2*g);\n",
"\n",
"disp(L_max,'maximum inductance for phase 1=')"
   ]
   }
,
{
		   "cell_type": "markdown",
		   "metadata": {},
		   "source": [
			"## Example 10.4: Finding_switching_times_T_on_and_T_off.sce"
		   ]
		  },
  {
"cell_type": "code",
	   "execution_count": null,
	   "metadata": {
	    "collapsed": true
	   },
	   "outputs": [],
"source": [
"// Caption: Finding switching times T on and T off\n",
"clear;\n",
"close;\n",
"clc;\n",
"//off time at i=Imin\n",
"T_off=-0.25*log(10/12)/2.5;\n",
"\n",
"//on time\n",
"T_on=-0.25*log((12-20)/(10-20))/5;//in seconds\n",
"\n",
"disp(T_on,'On time=')"
   ]
   }
],
"metadata": {
		  "kernelspec": {
		   "display_name": "Scilab",
		   "language": "scilab",
		   "name": "scilab"
		  },
		  "language_info": {
		   "file_extension": ".sce",
		   "help_links": [
			{
			 "text": "MetaKernel Magics",
			 "url": "https://github.com/calysto/metakernel/blob/master/metakernel/magics/README.md"
			}
		   ],
		   "mimetype": "text/x-octave",
		   "name": "scilab",
		   "version": "0.7.1"
		  }
		 },
		 "nbformat": 4,
		 "nbformat_minor": 0
}
