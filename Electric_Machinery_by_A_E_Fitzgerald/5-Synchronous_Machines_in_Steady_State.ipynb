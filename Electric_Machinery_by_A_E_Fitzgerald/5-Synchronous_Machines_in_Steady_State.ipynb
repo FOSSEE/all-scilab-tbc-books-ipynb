{
"cells": [
 {
		   "cell_type": "markdown",
	   "metadata": {},
	   "source": [
       "# Chapter 5: Synchronous Machines in Steady State"
	   ]
	},
{
		   "cell_type": "markdown",
		   "metadata": {},
		   "source": [
			"## Example 5.1: Finding_unsaturated_value_of_the_synchronous_reactance_and_the_SCR_ratio.sce"
		   ]
		  },
  {
"cell_type": "code",
	   "execution_count": null,
	   "metadata": {
	    "collapsed": true
	   },
	   "outputs": [],
"source": [
"// Caption: Finding unsaturated value of the synchronous reactance and the SCR ratio\n",
"// Example 5.1\n",
"\n",
"clear;\n",
"close;\n",
"clc;\n",
"E_af_ag=202/3^.5;//voltage to neutral on air-gap line at 2.20A\n",
"I_a_sc=118;//at 2.20A\n",
"X_s_ag=E_af_ag/I_a_sc;//Reactance per phase\n",
"disp(X_s_ag,'Reactance in ohm per phase=')\n",
"I_a_r=45000/(3^.5*220);//Rated Ia\n",
"I_a_sc=118/I_a_r;//per unit\n",
"E_af_ag=202/220;//per unit\n",
"X_s_ag=E_af_ag/I_a_sc;//per unit\n",
"disp(X_s_ag,'reactance per unit=')\n",
"X_s=220/3^.5*152;//per phase\n",
"disp(X_s,'saturated reactance per phase=')\n",
"I_a_sc_dash=152/118;//per unit\n",
"X_s=1.00/I_a_sc_dash;//per unit\n",
"SCR=2.84/2.20;\n",
"disp(SCR,'short circuit ratio=')\n",
"//Result\n",
"// Reactance in ohm per phase=0.9883454 \n",
"//reactance per unit=0.9189162 \n",
"//saturated reactance per phase=19306.593 \n",
"//short circuit ratio=1.2909091 "
   ]
   }
,
{
		   "cell_type": "markdown",
		   "metadata": {},
		   "source": [
			"## Example 5.2: Finding_effective_armature_resistance.sce"
		   ]
		  },
  {
"cell_type": "code",
	   "execution_count": null,
	   "metadata": {
	    "collapsed": true
	   },
	   "outputs": [],
"source": [
"// Caption: Finding effective armature resistance\n",
"// Example 5.2\n",
"\n",
"clear;\n",
"close;\n",
"clc;\n",
"L_loss_sc=1.8/45;//per unit\n",
"I_a=1.00;//per unit\n",
"R_a_eff=L_loss_sc/I_a^2;//per unit\n",
"disp(R_a_eff,'effective armature resistance in per unit=')\n",
"R_a_eff=1800/((118^2)*3);//per phase\n",
"disp(R_a_eff,'effective armature resistance in ohms per phase=')\n",
"//Result\n",
"//effective armature resistance in per unit=0.04\n",
"//effective armature resistance in ohms per phase=0.0430911"
   ]
   }
,
{
		   "cell_type": "markdown",
		   "metadata": {},
		   "source": [
			"## Example 5.3: EX5_3.sce"
		   ]
		  },
  {
"cell_type": "code",
	   "execution_count": null,
	   "metadata": {
	    "collapsed": true
	   },
	   "outputs": [],
"source": [
"// Caption: Finding maximum torque deliver by motor when it is supplied with the power from a)infinite bus b)turbine generator\n",
"// Example 5.3\n",
"\n",
"clear;\n",
"close;\n",
"clc;\n",
"kVA_r=1500/3;//per phase\n",
"V_ta=2300/sqrt(3);//per phase\n",
"I_r=500000/V_ta;//per phase\n",
"X_sm=1.95;\n",
"I_a_X_sm=I_r*X_sm;//syn-reactance V-drop\n",
"E_afm=sqrt(V_ta^2+I_a_X_sm^2);\n",
"p_max=(V_ta*E_afm)/X_sm;//per phase\n",
"P_max=3*p_max;//power in 3 phase\n",
"W_s=2*%pi*4;\n",
"T_max=P_max/W_s;//torque-max\n",
"disp(T_max,'Maximum torque in newton-meteres=')\n",
"//Result\n",
"//Maximum torque in newton-meteres=123341.2\n",
"\n",
"V_ta=2300/sqrt(3);//per phase\n",
"I_r=500000/V_ta;//per phase\n",
"X_sm=1.95;X_sg=2.65;//synchronous reactance of motor ang generator\n",
"I_a_X_sg=I_r*X_sg;//syn-reactance V-drop\n",
"E_afg=sqrt(V_ta^2+I_a_X_sg^2);\n",
"p_max=(E_afg*E_afm)/(X_sm+X_sg);//per phase\n",
"P_max=3*p_max;//power in 3 phase\n",
"W_s=2*%pi*4;\n",
"T_max=P_max/W_s;//torque-max\n",
"disp(T_max,'Maximum torque in newton-meteres=')\n",
"//Result\n",
"//Maximum torque in newton-meteres=65401.933\n",
"\n",
"I_a=sqrt(E_afm^2+E_afg^2)/(X_sg+X_sm);\n",
"alpha=acos(E_afm/(I_a*(X_sg+X_sm)));\n",
"\n",
"V_ta=E_afm-I_a*X_sm*cos(alpha)+%i*I_a*X_sm*sin(alpha);\n",
"disp(V_ta,'terminal voltage=')\n",
"//Result\n",
"//terminal voltage=874.14246 + 704.12478i "
   ]
   }
,
{
		   "cell_type": "markdown",
		   "metadata": {},
		   "source": [
			"## Example 5.4: Finding_efficiency_of_machine.sce"
		   ]
		  },
  {
"cell_type": "code",
	   "execution_count": null,
	   "metadata": {
	    "collapsed": true
	   },
	   "outputs": [],
"source": [
"// Caption: Finding efficiency of machine\n",
"// Example 5.4\n",
"\n",
"clear;\n",
"close;\n",
"clc;\n",
"I_a=45000/(sqrt(3)*230*.8);//armature current\n",
"R_f=29.8*((234.5+75)/(234.5+25));//field resistance at 75 degree celsius\n",
"R_a=0.0335*((234.5+75)/(234.5+25));//armature dc resistance at 75 degree celsius\n",
"I_f=5.5;\n",
"L_f=(I_f^2*R_f)/1000;//field loss\n",
"L_a=(3*I_a^2*R_a)/1000;//armature loss\n",
"V_i=230/sqrt(3)-I_a*(.8+%i*.6)*R_a;//internal voltage\n",
"L_s=.56;//stray load loss\n",
"L_c=1.2;//open circuit core loss\n",
"L_w=.91;//frictional and winding loss\n",
"L_t=L_f+L_a+L_s+L_c+L_w//total losses\n",
"Input=46.07;\n",
"Eff=1-L_t/Input;\n",
"disp(Eff*100,'efficiency of the system is(%) ')\n",
"//Result\n",
"//efficiency of the system is(%)86.683487"
   ]
   }
],
"metadata": {
		  "kernelspec": {
		   "display_name": "Scilab",
		   "language": "scilab",
		   "name": "scilab"
		  },
		  "language_info": {
		   "file_extension": ".sce",
		   "help_links": [
			{
			 "text": "MetaKernel Magics",
			 "url": "https://github.com/calysto/metakernel/blob/master/metakernel/magics/README.md"
			}
		   ],
		   "mimetype": "text/x-octave",
		   "name": "scilab",
		   "version": "0.7.1"
		  }
		 },
		 "nbformat": 4,
		 "nbformat_minor": 0
}
