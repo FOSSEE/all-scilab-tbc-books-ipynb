{
"cells": [
 {
		   "cell_type": "markdown",
	   "metadata": {},
	   "source": [
       "# Chapter 3: Electromechanical Energy Conversion Principles"
	   ]
	},
{
		   "cell_type": "markdown",
		   "metadata": {},
		   "source": [
			"## Example 3.1: Finding_Torque_acting_on_the_rotor.sce"
		   ]
		  },
  {
"cell_type": "code",
	   "execution_count": null,
	   "metadata": {
	    "collapsed": true
	   },
	   "outputs": [],
"source": [
"// Caption: Finding Torque acting on the rotor\n",
"\n",
"close;\n",
"clc;\n",
"syms alpha;\n",
"I=10;//current\n",
"B_o=0.5;//magnetic field\n",
"R=0.1;\n",
"l=0.6;\n",
"\n",
"T=2*I*B_o*R*l*sin(alpha);\n",
"\n",
"disp(T,'Torque acting on the rotor=');"
   ]
   }
,
{
		   "cell_type": "markdown",
		   "metadata": {},
		   "source": [
			"## Example 3.2: Finding_magnetic_stored_energy.sce"
		   ]
		  },
  {
"cell_type": "code",
	   "execution_count": null,
	   "metadata": {
	    "collapsed": true
	   },
	   "outputs": [],
"source": [
"// Caption: Finding magnetic stored energy\n",
"\n",
"close;\n",
"clc;\n",
"syms x d;\n",
"constt=0.5*1000^2*4*%pi*10^-7*0.15*0.1*10^2/(2*0.002);\n",
"\n",
"W_fld=constt*(1-x/d);//in joules\n",
"\n",
"disp(W_fld,'magnetic stored energy=');"
   ]
   }
,
{
		   "cell_type": "markdown",
		   "metadata": {},
		   "source": [
			"## Example 3.3: Finding_force_on_the_plunger.sce"
		   ]
		  },
  {
"cell_type": "code",
	   "execution_count": null,
	   "metadata": {
	    "collapsed": true
	   },
	   "outputs": [],
"source": [
"// Caption: Finding force on the plunger\n",
"clear;\n",
"close;\n",
"clc;\n",
"U_o=4*%pi*10^-7;\n",
"\n",
"function [f]=force(N,l,g,i)\n",
"  f=-(N^2*U_o*l*i^2/(4*g));\n",
"endfunction\n",
"\n",
"f_fld=force(1000,0.1,0.002,10);//force in N\n",
"\n",
"disp(f_fld,'force on the plunger when current=10A');"
   ]
   }
,
{
		   "cell_type": "markdown",
		   "metadata": {},
		   "source": [
			"## Example 3.4: Finding_Torque_acting_on_the_rotor.sce"
		   ]
		  },
  {
"cell_type": "code",
	   "execution_count": null,
	   "metadata": {
	    "collapsed": true
	   },
	   "outputs": [],
"source": [
"// Caption: Finding Torque acting on the rotor\n",
"clear;\n",
"close;\n",
"clc;\n",
"\n",
"U_o=4*%pi*10^-7;\n",
"\n",
"function [T]=torque(B,h,g,r)\n",
"    T=(B^2*g*h*(r+g*.5))/U_o;\n",
"  endfunction\n",
"  \n",
"  T_fld=torque(2,0.02,0.002,0.02);//Maximum torque in N.m\n",
"  \n",
"  disp(T_fld,'Torque acting on the rotor');"
   ]
   }
,
{
		   "cell_type": "markdown",
		   "metadata": {},
		   "source": [
			"## Example 3.5: Finding_Torue_of_given_system.sce"
		   ]
		  },
  {
"cell_type": "code",
	   "execution_count": null,
	   "metadata": {
	    "collapsed": true
	   },
	   "outputs": [],
"source": [
"// Caption: Finding Torue of given system \n",
"clear;\n",
"close;\n",
"clc;\n",
"syms x i1 i2\n",
"L_11=(3+cos(2*x))*10^(-3);\n",
"L_12=0.1*cos(x);\n",
"L_22=30+10*cos(2*x);\n",
"W=0.5*L_11*i1^2+L_12*i1*i2+0.5*L_22*i2^2;\n",
"T=diff(W,x);\n",
"disp(T,'Torque = ');\n",
"i1=1;//in Ampere\n",
"i2=0.01;//in Ampere\n",
"k=eval(T);\n",
"disp(k,'Torue of given system  = ');\n",
""
   ]
   }
],
"metadata": {
		  "kernelspec": {
		   "display_name": "Scilab",
		   "language": "scilab",
		   "name": "scilab"
		  },
		  "language_info": {
		   "file_extension": ".sce",
		   "help_links": [
			{
			 "text": "MetaKernel Magics",
			 "url": "https://github.com/calysto/metakernel/blob/master/metakernel/magics/README.md"
			}
		   ],
		   "mimetype": "text/x-octave",
		   "name": "scilab",
		   "version": "0.7.1"
		  }
		 },
		 "nbformat": 4,
		 "nbformat_minor": 0
}
