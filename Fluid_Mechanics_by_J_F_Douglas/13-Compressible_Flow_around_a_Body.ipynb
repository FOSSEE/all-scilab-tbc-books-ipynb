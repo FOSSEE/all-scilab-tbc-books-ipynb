{
"cells": [
 {
		   "cell_type": "markdown",
	   "metadata": {},
	   "source": [
       "# Chapter 13: Compressible Flow around a Body"
	   ]
	},
{
		   "cell_type": "markdown",
		   "metadata": {},
		   "source": [
			"## Example 13.1: EFFECTS_OF_COMPRESSIBILITY.sce"
		   ]
		  },
  {
"cell_type": "code",
	   "execution_count": null,
	   "metadata": {
	    "collapsed": true
	   },
	   "outputs": [],
"source": [
"clc; funcprot(0); //Example 13.1\n",
"\n",
"//Initializing the variables\n",
"rho0 = 1.8;\n",
"R = 287;\n",
"T = 75+273; // Temperature in kelvin \n",
"gma = 1.4; \n",
"Ma = 0.7;\n",
"\n",
"//Calculations\n",
"P0 = rho0*R*T;\n",
"c = sqrt(gma*R*T);\n",
"V0 = Ma*c;\n",
"Pt = (P0^((gma-1)/gma) + rho0*((gma-1)/gma)*(V0^2/(2*P0^(1/gma))))^(gma/(gma-1));\n",
"rhoT =  rho0*(Pt/P0)^(1/gma);\n",
"Tt =  Pt/(R*rhoT)-273;\n",
"\n",
"disp(rhoT,'Density of airstream (kg/M3):',Tt,'Temperature (Degree) :', Pt/1000,'Staganation Pressure (kN/m2 ) :');"
   ]
   }
,
{
		   "cell_type": "markdown",
		   "metadata": {},
		   "source": [
			"## Example 13.2: SHOCK_WAVES.sce"
		   ]
		  },
  {
"cell_type": "code",
	   "execution_count": null,
	   "metadata": {
	    "collapsed": true
	   },
	   "outputs": [],
"source": [
"clc; funcprot(0); //Example 13.2\n",
"\n",
"//Initializing the variables\n",
"R = 287;\n",
"T = 28+273;\n",
"gma = 1.4;\n",
"P = 1.02*10^5;\n",
"rhoHg = 13.6*10^3;\n",
"g = 9.81;\n",
"\n",
"//Calculations\n",
"//Case(a)\n",
"U0 = 50;\n",
"c = sqrt(gma*R*T);\n",
"Ma = U0/c;\n",
"rho = P/(R*T);\n",
"DelP = 0.5*rho*U0^2; //Pt-P\n",
"ha = DelP/(rhoHg*g);\n",
"\n",
"//Case(b)\n",
"U0 = 250;\n",
"Ma = U0/c;\n",
"Pt = P*(1+(gma-1)*Ma^2/2)^(gma/(gma-1));  \n",
"DelP = Pt-P\n",
"hb = DelP/(rhoHg*g);\n",
"\n",
"//Case (c)\n",
"U0 = 420;\n",
"Ma1 =U0/c;\n",
"P2 = P*((2*gma/(gma+1))*Ma1^2 - ((gma-1)/(gma+1)));\n",
"N = Ma1^2 +2/(gma-1); // Numerator\n",
"D = 2*gma*Ma1^2/(gma-1)-1;\n",
"Ma2 = sqrt(N/D);\n",
"Pt2 = P2*(1+(gma-1)*Ma2^2/2)^(gma/(gma-1));\n",
"hc = (Pt2-P2)/(rhoHg*g) ;  \n",
"\n",
"disp(hc*1000,'Difference in height of mercury column in case (c) in mm :',hb*1000,'Difference in height of mercury column in case (b) in mm :',ha*1000,'Difference in height of mercury column in case (a) in mm :');"
   ]
   }
],
"metadata": {
		  "kernelspec": {
		   "display_name": "Scilab",
		   "language": "scilab",
		   "name": "scilab"
		  },
		  "language_info": {
		   "file_extension": ".sce",
		   "help_links": [
			{
			 "text": "MetaKernel Magics",
			 "url": "https://github.com/calysto/metakernel/blob/master/metakernel/magics/README.md"
			}
		   ],
		   "mimetype": "text/x-octave",
		   "name": "scilab",
		   "version": "0.7.1"
		  }
		 },
		 "nbformat": 4,
		 "nbformat_minor": 0
}
