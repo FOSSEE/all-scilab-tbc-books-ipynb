{
"cells": [
 {
		   "cell_type": "markdown",
	   "metadata": {},
	   "source": [
       "# Chapter 10: Laminar and Turbulent Flows in Bounded Systems"
	   ]
	},
{
		   "cell_type": "markdown",
		   "metadata": {},
		   "source": [
			"## Example 10.1: INCOMPRESSIBLE_STEADY_AND_UNIFORM_LAMINAR_FLOW_BETWEEN_PARALLEL_PLATES.sce"
		   ]
		  },
  {
"cell_type": "code",
	   "execution_count": null,
	   "metadata": {
	    "collapsed": true
	   },
	   "outputs": [],
"source": [
"clc; funcprot(0); //Example 10.1\n",
"\n",
"//Initializing the variables\n",
"mu = 0.9;\n",
"rho = 1260;\n",
"g = 9.81;\n",
"x = 45; //theta in degrees\n",
"P1 = 250 * 10^3;\n",
"P2 = 80* 10^3;\n",
"Z1 = 1;\n",
"Z2 = 0; // datum\n",
"U = -1.5;\n",
"Y = 0.01;\n",
"\n",
"//Calculations\n",
"gradP1 = P1+ rho*g*Z1;\n",
"gradP2 = P2+ rho*g*Z2;\n",
"DPstar = (gradP1-gradP2 )*sind(x)/(Z1-Z2);\n",
"A = U/Y; // Coefficient U/Y for equation 10.6\n",
"B = DPstar/(2*mu);// Coefficient dp*/dx X(1/2mu) for equation 10.6\n",
"y = poly(0,'y');\n",
"v = (A + B*Y)*y -B*y^2;\n",
"duBYdy = derivat(v);\n",
"tau = 0.9*duBYdy;\n",
"ymax = roots(duBYdy);        //value of y where derivative vanishes.;\n",
"umax = (A + B*Y)*ymax + B*ymax^2; // Check the value there is slight mistake in books answer\n",
"function[z] = u(y)\n",
"    z = (A + B*Y)*y -B*y^2;\n",
"endfunction\n",
"tauMax =abs( mu*derivative(u,Y)); \n",
"ymax\n",
"disp(tauMax/1000,'Maximum Shear Stress (kN/m2):',umax, 'Maximum Flow Velocity (m/s)',tau, 'Shear Distribution :', v,'Velocity Distribution :'  )"
   ]
   }
,
{
		   "cell_type": "markdown",
		   "metadata": {},
		   "source": [
			"## Example 10.2: INCOMPRESSIBLE_STEADY_AND_UNIFORM_LAMINAR_FLOW_IN_CIRCULAR_CROSS_SECTION_PIPES.sce"
		   ]
		  },
  {
"cell_type": "code",
	   "execution_count": null,
	   "metadata": {
	    "collapsed": true
	   },
	   "outputs": [],
"source": [
"clc; funcprot(0); //Example 10.2\n",
"\n",
"//Initializing the variables\n",
"mu = 0.9;\n",
"rho = 1260;\n",
"d = 0.01;\n",
"Q = 1.8/60*10^-3; //Flow in m^3 per second\n",
"l = 6.5;\n",
"ReCrit = 2000;\n",
"//Calculations\n",
"A = (%pi*d^2)/4;\n",
"MeanVel = Q/A;\n",
"Re = rho*MeanVel*d/mu; // Check properly the answer in book there is something wrong\n",
"Dp = 128*mu*l*Q/(%pi*d^4)\n",
"Qcrit = Q*ReCrit/Re*10^3;\n",
"disp(Qcrit, 'Maximum Flow rate(litres/s) :', Dp/1000 , 'Pressure Loss (N/m2) :');"
   ]
   }
,
{
		   "cell_type": "markdown",
		   "metadata": {},
		   "source": [
			"## Example 10.3: INCOMPRESSIBLE_STEADY_AND_UNIFORM_TURBULENT_FLOW_IN_CIRCULAR_CROSS_SECTION_PIPES.sce"
		   ]
		  },
  {
"cell_type": "code",
	   "execution_count": null,
	   "metadata": {
	    "collapsed": true
	   },
	   "outputs": [],
"source": [
"clc; funcprot(0);//Example 10.3 \n",
"\n",
"//Initializing the variables\n",
"mu = 1.14*10^-3;\n",
"rho = 1000;\n",
"d = 0.04;\n",
"Q = 4*10^-3/60; //Flow in m^3 per second\n",
"l = 750;\n",
"ReCrit = 2000;\n",
"g = 9.81;\n",
"k = 0.00008; // Absolute Roughness\n",
"\n",
"//Calculations\n",
"A = (%pi*d^2)/4;\n",
"MeanVel = Q/A;\n",
"Re = rho*MeanVel*d/mu;\n",
"Dp = 128*mu*l*Q/(%pi*d^4);\n",
"hL = Dp/(rho*g);\n",
"f = 16/Re;\n",
"hlDa = 4*f*l*MeanVel^2/(2*d*g); // By Darcy Equation\n",
"Pa = rho*g*hlDa*Q;\n",
"\n",
"//Part(b)\n",
"Q = 30*10^-3/60; //Flow in m^3 per second\n",
"MeanVel = Q/A;\n",
"Re = rho*MeanVel*d/mu;\n",
"RR = k/d; // relative roughness\n",
"f = 0.008 ;//by Moody diagram for Re =  1.4 x 10^4  and relative roughness = 0.002\n",
"hlDb = 4*f*l*MeanVel^2/(2*d*g); // By Darcy Equation\n",
"Pb = rho*g*hlDb*Q;\n",
"disp(Pb, 'Power Required (W) :',hlDb , 'Head Loss(m) :','!---- Case(b) ----!',Pa, 'Power Required(W) :',hlDa*1000 , 'Head Loss(mm) :', '!---- Case (a) ----!');"
   ]
   }
,
{
		   "cell_type": "markdown",
		   "metadata": {},
		   "source": [
			"## Example 10.4: STEADY_AND_UNIFORM_TURBULENT_FLOW_IN_OPEN_CHANNELS.sce"
		   ]
		  },
  {
"cell_type": "code",
	   "execution_count": null,
	   "metadata": {
	    "collapsed": true
	   },
	   "outputs": [],
"source": [
"clc; funcprot(0); //Example 10.4\n",
"\n",
"//Initializing the variables\n",
"w = 4.5;\n",
"d = 1.2 ;\n",
"C = 49;\n",
"i = 1/800;\n",
"\n",
"//Calculations\n",
"A = d*w;\n",
"P = 2*d + w;\n",
"m = A/P;\n",
"v = C*sqrt(m*i);\n",
"Q = v*A;\n",
"\n",
"disp(Q,'Discharge (m3/s):',v, 'Mean Velocity (m/s):');"
   ]
   }
,
{
		   "cell_type": "markdown",
		   "metadata": {},
		   "source": [
			"## Example 10.5: VELOCITY_DISTRIBUTION_IN_TURBULENT_FULLY_DEVELOPED_PIPE_FLOW.sce"
		   ]
		  },
  {
"cell_type": "code",
	   "execution_count": null,
	   "metadata": {
	    "collapsed": true
	   },
	   "outputs": [],
"source": [
"clc; funcprot(0); //Example 10.5\n",
"\n",
"//Initializing the variables\n",
"R = poly(0,'R');\n",
"\n",
"//Calculations\n",
"r = R*(1 - (49/60)^7);\n",
"\n",
"disp(r,'Radius at which the actual velocity is equal to the mean velocity :');"
   ]
   }
,
{
		   "cell_type": "markdown",
		   "metadata": {},
		   "source": [
			"## Example 10.7: SEPARATION_LOSSES_IN_PIPE_FLOW.sce"
		   ]
		  },
  {
"cell_type": "code",
	   "execution_count": null,
	   "metadata": {
	    "collapsed": true
	   },
	   "outputs": [],
"source": [
"clc; funcprot(0); //Example 10.7 \n",
"\n",
"//Initializing the variables\n",
"d1 = 0.140;\n",
"d2 = 0.250;\n",
"DpF_DpR = 0.6; //Difference in head loss when in forward and in reverse direction\n",
"K = 0.33 ;//From table\n",
"g = 9.81;\n",
"//Calculations\n",
"ratA = (d1/d2)^2;\n",
"\n",
"v = sqrt(DpF_DpR*2*g/((1 - ratA)^2 - K));\n",
"\n",
"disp(v,'Velocity (m/s):');"
   ]
   }
],
"metadata": {
		  "kernelspec": {
		   "display_name": "Scilab",
		   "language": "scilab",
		   "name": "scilab"
		  },
		  "language_info": {
		   "file_extension": ".sce",
		   "help_links": [
			{
			 "text": "MetaKernel Magics",
			 "url": "https://github.com/calysto/metakernel/blob/master/metakernel/magics/README.md"
			}
		   ],
		   "mimetype": "text/x-octave",
		   "name": "scilab",
		   "version": "0.7.1"
		  }
		 },
		 "nbformat": 4,
		 "nbformat_minor": 0
}
