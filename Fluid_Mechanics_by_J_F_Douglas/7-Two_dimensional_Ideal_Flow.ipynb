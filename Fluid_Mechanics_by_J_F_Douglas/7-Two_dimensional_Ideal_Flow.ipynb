{
"cells": [
 {
		   "cell_type": "markdown",
	   "metadata": {},
	   "source": [
       "# Chapter 7: Two dimensional Ideal Flow"
	   ]
	},
{
		   "cell_type": "markdown",
		   "metadata": {},
		   "source": [
			"## Example 7.2: STRAIGHT_LINE_FLOWS_AND_THEIR_COMBINATIONS.sce"
		   ]
		  },
  {
"cell_type": "code",
	   "execution_count": null,
	   "metadata": {
	    "collapsed": true
	   },
	   "outputs": [],
"source": [
"clc;funcprot(0); //Example 7.2\n",
"\n",
"//Initializing the variables \n",
"x = 120*(2*%pi)/180; //Theta\n",
"r = 1;\n",
"v0 = 0.5;\n",
"q = 2;\n",
"\n",
"//Calculations\n",
"function[y] =shi(r,theta)\n",
"    y = v0*r*sin(theta) +q*theta/(2*%pi);\n",
"endfunction \n",
"\n",
"\n",
"//--Approx differentiation at a point using central difference formula--//\n",
"h=0.0000001;\n",
"at_theta=x;\n",
"at_r = r;\n",
"Vr = (shi(r,at_theta+h)-shi(r,at_theta-h))/(r*2*h);\n",
"Vth = (shi(r+h,at_theta)-shi(r-h,at_theta))/(2*h);\n",
"V = sqrt(Vr^2+Vth^2);\n",
"alpha =  atand(abs(Vth/Vr));\n",
"bet = x*180/(2*%pi)-alpha;\n",
"disp(bet, 'Beta (Degree):',alpha,'Alpha (Degree) :', V, 'Fluid Velocity(m/s) :');"
   ]
   }
,
{
		   "cell_type": "markdown",
		   "metadata": {},
		   "source": [
			"## Example 7.3: COMBINED_SOURCE_AND_SINK_FLOWS_DOUBLET.sce"
		   ]
		  },
  {
"cell_type": "code",
	   "execution_count": null,
	   "metadata": {
	    "collapsed": true
	   },
	   "outputs": [],
"source": [
"clc;funcprot(0); //Example 7.3\n",
"\n",
"//Initializing the variables \n",
"q = 10;\n",
"function[Z] = shi(x,y)  \n",
"    Z = (q/2/%pi)*(atan(y/(x-1))-atan(y/(x+1))) - 25*y;\n",
"endfunction\n",
"h = 0.0000001;\n",
"Vinf = 25;\n",
"\n",
"//Calculations\n",
"x = poly(0,'x');\n",
"f = x^2 - 2/(5*%pi) -1; \n",
"root = roots(f);\n",
"l = abs(root(1))+abs(root(2));\n",
"Ymax = 0.047;\n",
"width = 2*Ymax;\n",
"Vx = (shi(1-h,1)-shi(1-h,1-h))/h; // At x=1 the function atan is not defined hence taking x a little smaller.\n",
"Vy = -1*(shi(1-2*h,1)-shi(1-h,1))/h;  // At x=1 the function atan is not defined hence taking x a little smaller.\n",
"\n",
"V = sqrt(Vx^2+Vy^2);\n",
"rho = poly(0,'rho');\n",
"dP = rho/2 *(V^2 - Vinf^2); //difference in pressure\n",
"\n",
"disp(dP, 'Pressure Difference(N/m2) :',V, 'Velocity (m/s):', l, 'Length of Rankine Body(m ) :', width,'Width of Rankine Body (m):'  );"
   ]
   }
,
{
		   "cell_type": "markdown",
		   "metadata": {},
		   "source": [
			"## Example 7.4: FLOW_PAST_A_CYLINDER.sce"
		   ]
		  },
  {
"cell_type": "code",
	   "execution_count": null,
	   "metadata": {
	    "collapsed": true
	   },
	   "outputs": [],
"source": [
"funcprot(0);clc; //Example 7.4\n",
"\n",
"//Initializing the variables\n",
"a = 0.02;\n",
"r = 0.05;\n",
"V0 = 1;\n",
"x = 135; // Theta\n",
"function[Z] = shi(r,x)  \n",
"    Z = V0*sind(x)*(r - ((a^2)/r));\n",
"endfunction\n",
"h = 0.0001;\n",
"\n",
"//Calculations\n",
"Vr = 57*(shi(r,x+h)-shi(r,x))/(r*h);\n",
"Vx = -1*(shi(r+h,x)-shi(r,x))/h;\n",
"\n",
"disp(Vr, 'Radial Velocity (m/s):',Vx, 'Normal component of velocity (m/s):');"
   ]
   }
,
{
		   "cell_type": "markdown",
		   "metadata": {},
		   "source": [
			"## Example 7.5: CURVED_FLOWS_AND_THEIR_COMBINATIONS.sce"
		   ]
		  },
  {
"cell_type": "code",
	   "execution_count": null,
	   "metadata": {
	    "collapsed": true
	   },
	   "outputs": [],
"source": [
"clc;funcprot(0); //Example 7.5 \n",
"\n",
"//Initializing the variables\n",
"rho = 1000;\n",
"r = 2;\n",
"psi = 2*log(r);\n",
"\n",
"//Calculations\n",
"y = psi/log(r); // y = GammaC / 2*pi\n",
"v = y/r;\n",
"dPbydr = rho*v^2/r;\n",
"disp(dPbydr, 'Pressuer Gradient (N/m3 ) :');"
   ]
   }
],
"metadata": {
		  "kernelspec": {
		   "display_name": "Scilab",
		   "language": "scilab",
		   "name": "scilab"
		  },
		  "language_info": {
		   "file_extension": ".sce",
		   "help_links": [
			{
			 "text": "MetaKernel Magics",
			 "url": "https://github.com/calysto/metakernel/blob/master/metakernel/magics/README.md"
			}
		   ],
		   "mimetype": "text/x-octave",
		   "name": "scilab",
		   "version": "0.7.1"
		  }
		 },
		 "nbformat": 4,
		 "nbformat_minor": 0
}
