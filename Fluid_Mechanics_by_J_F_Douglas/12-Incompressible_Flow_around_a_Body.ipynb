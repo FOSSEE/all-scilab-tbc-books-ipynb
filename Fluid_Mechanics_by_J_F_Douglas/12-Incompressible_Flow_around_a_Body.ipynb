{
"cells": [
 {
		   "cell_type": "markdown",
	   "metadata": {},
	   "source": [
       "# Chapter 12: Incompressible Flow around a Body"
	   ]
	},
{
		   "cell_type": "markdown",
		   "metadata": {},
		   "source": [
			"## Example 12.1: DRAG.sce"
		   ]
		  },
  {
"cell_type": "code",
	   "execution_count": null,
	   "metadata": {
	    "collapsed": true
	   },
	   "outputs": [],
"source": [
"clc; funcprot(0);//Example 12.1 \n",
"\n",
"//Initializing the variables\n",
"x =35;\n",
"T = 50;\n",
"m = 1;\n",
"g =9.81;\n",
"rho = 1.2;\n",
"A = 1.2;\n",
"U0 = 40*1000/3600; // Velocity in m/s\n",
"\n",
"//Calculations\n",
"L = T*sind(x)+m*g;\n",
"D =T*cosd(x);\n",
"Cl = 2*L/(rho*U0^2*A);\n",
"Cd = 2*D/(rho*U0^2*A); \n",
"disp(Cd,'Drag Coefficient :',Cl,'Lift Coefficient :');"
   ]
   }
,
{
		   "cell_type": "markdown",
		   "metadata": {},
		   "source": [
			"## Example 12.2: RESISTANCE_OF_SHIPS.sce"
		   ]
		  },
  {
"cell_type": "code",
	   "execution_count": null,
	   "metadata": {
	    "collapsed": true
	   },
	   "outputs": [],
"source": [
"clc; funcprot(0); //Example 12.2\n",
"\n",
"//Initializing the variables\n",
"Vp =12;\n",
"lp = 40;\n",
"lm = 1;\n",
"As = 2500;\n",
"Dm = 32;\n",
"rhoP = 1025;\n",
"rhoM = 1000;\n",
"Ap = As;\n",
"\n",
"//Calculations\n",
"Am = As/40^2;\n",
"Vm = Vp*sqrt(lm/lp);\n",
"Dfm = 3.7*Vm^1.95*Am;\n",
"Rm = Dm - Dfm;\n",
"Rp = Rm *(rhoP/rhoM)*(lp/lm)^2*(Vp/Vm)^2;\n",
"Dfp = 2.9*Vp^1.8*Ap;\n",
"Dp = Rp + Dfp;\n",
"\n",
"disp(Dp/1000,'Expected total resistance (kN) :');"
   ]
   }
,
{
		   "cell_type": "markdown",
		   "metadata": {},
		   "source": [
			"## Example 12.3: FLOW_PAST_A_CYLINDER.sce"
		   ]
		  },
  {
"cell_type": "code",
	   "execution_count": null,
	   "metadata": {
	    "collapsed": true
	   },
	   "outputs": [],
"source": [
"clc; funcprot(0); //Example 12.3 \n",
"\n",
"//Initializing the variables\n",
"U0 = 80*1000/3600;\n",
"d = 0.02;\n",
"rho =1.2;\n",
"mu = 1.7*10^-5;\n",
"A = 0.02*500; // Projected area of wire\n",
"N = 20; // No of cables\n",
"\n",
"//Calculations\n",
"Re = rho*U0*d/mu;\n",
"Cd = 1.2;// From figure 12.10 for given Re; \n",
"D = 0.5*rho*Cd*A*U0^2\n",
"F = N*D; \n",
"f =  0.198*(U0/d)*(1-19.7/Re);\n",
"\n",
"disp(f,'Frequency (Hz):',F/1000,'Total force on tower (kN):');"
   ]
   }
,
{
		   "cell_type": "markdown",
		   "metadata": {},
		   "source": [
			"## Example 12.4: FLOW_PAST_A_SPHERE.sce"
		   ]
		  },
  {
"cell_type": "code",
	   "execution_count": null,
	   "metadata": {
	    "collapsed": true
	   },
	   "outputs": [],
"source": [
"clc; funcprot(0); //Example 12.4\n",
"\n",
"//Initializing the variables\n",
"mu = 0.03;\n",
"d = 10^-3;\n",
"rhoP = 1.1*10^3;\n",
"g = 9.81;\n",
"rho0 = 0.9*10^3;\n",
"//Calculations\n",
"B = 18*mu/(d^2*rhoP);\n",
"t = 4.60/B;\n",
"Vt = d^2*(rhoP - rho0)*g/(18*mu);\n",
"Re = rho0*Vt*d/mu;\n",
"\n",
"\n",
"disp(Re,'Reynolds No corrosponding to the velocity :',t,'Time taken by the particle take to reach 99 per cent of its terminal velocity (s):');"
   ]
   }
,
{
		   "cell_type": "markdown",
		   "metadata": {},
		   "source": [
			"## Example 12.5: FLOW_PAST_A_SPHERE.sce"
		   ]
		  },
  {
"cell_type": "code",
	   "execution_count": null,
	   "metadata": {
	    "collapsed": true
	   },
	   "outputs": [],
"source": [
"clc; funcprot(0); //Example 12.5 \n",
"\n",
"//Initializing the variables\n",
"muO = 0.0027;\n",
"Vt = 3*10^-3;\n",
"rhoW = 1000;\n",
"rhoP = 2.4*rhoW;\n",
"rhoO = 0.9*rhoW;\n",
"g = 9.81;\n",
"muA = 1.7*10^-5;\n",
"rhoA = 1.3;\n",
"\n",
"//Calculations\n",
"d = sqrt(18*muO*Vt/(rhoP-rhoO)/g);\n",
"Re = Vt*d*rhoO/muO;\n",
"\n",
"//Movement of particle in upward direction\n",
"if(Re < 1 ) then\n",
"    v = 0.5;\n",
"    Re = 5 ; // from fig 12.15\n",
"    vt = muA*Re/(rhoA*d);\n",
"    u = vt+v;\n",
"    disp(u ,'Velocity of air stream blowing vertically up (m/s) :');\n",
"else\n",
"    disp('strokes law is not valid');\n",
"end"
   ]
   }
,
{
		   "cell_type": "markdown",
		   "metadata": {},
		   "source": [
			"## Example 12.6: FLOW_PAST_AN_AEROFOIL_OF_FINITE_LENGTH.sce"
		   ]
		  },
  {
"cell_type": "code",
	   "execution_count": null,
	   "metadata": {
	    "collapsed": true
	   },
	   "outputs": [],
"source": [
"clc; funcprot(0); //Example 12.6 \n",
"\n",
"//Initializing the variables\n",
"c = 2;\n",
"s = 10;\n",
"rho = 5.33;\n",
"rho_ellip = 1.2;\n",
"D = 400;\n",
"L = 45000;\n",
"scale = 20;\n",
"U_windTunnel = 500;\n",
"U_proto = 400*1000/3600;\n",
"\n",
"//Calculations\n",
"A = c*s;\n",
"U_model = U_windTunnel/scale;\n",
"Cd = D/(0.5*rho*U_model^2*A);\n",
"Cl = L/(0.5*rho_ellip*U_proto^2*A); // Considering elliptical Lift model\n",
"Cdi = Cl^2/(%pi*s/c); // Aspect Ratio =  s/c \n",
"Cdt = Cd + Cdi;\n",
"Dw = 0.5*Cdt*rho_ellip*U_proto^2*A;\n",
"disp(Dw/1000, 'Total drag on full sized wing (kN) :');"
   ]
   }
],
"metadata": {
		  "kernelspec": {
		   "display_name": "Scilab",
		   "language": "scilab",
		   "name": "scilab"
		  },
		  "language_info": {
		   "file_extension": ".sce",
		   "help_links": [
			{
			 "text": "MetaKernel Magics",
			 "url": "https://github.com/calysto/metakernel/blob/master/metakernel/magics/README.md"
			}
		   ],
		   "mimetype": "text/x-octave",
		   "name": "scilab",
		   "version": "0.7.1"
		  }
		 },
		 "nbformat": 4,
		 "nbformat_minor": 0
}
