{
"cells": [
 {
		   "cell_type": "markdown",
	   "metadata": {},
	   "source": [
       "# Chapter 8: Dimensional Analysis"
	   ]
	},
{
		   "cell_type": "markdown",
		   "metadata": {},
		   "source": [
			"## Example 8.1: EX8_1.sce"
		   ]
		  },
  {
"cell_type": "code",
	   "execution_count": null,
	   "metadata": {
	    "collapsed": true
	   },
	   "outputs": [],
"source": [
"clc;funcprot(0)//Example 8.1\n",
"\n",
"//Initializing the variables\n",
"P1 = 57;                 //Power in SI\n",
"M = 1/14.6;             //Ratio of mass in SI/British\n",
"L = 1/0.3048;         //Ratio of length in SI/British\n",
"T = 1;                //Ratio of time in SI/British\n",
"\n",
"//Calculations\n",
"\n",
"P2 = M*(L^2)*(T^-3)*P1 ;   //Power in kW\n",
"P2/P1;\n",
"\n",
"disp(P2/P1,'Conversion Factor :',P2, 'Power(Kw)  :' );"
   ]
   }
],
"metadata": {
		  "kernelspec": {
		   "display_name": "Scilab",
		   "language": "scilab",
		   "name": "scilab"
		  },
		  "language_info": {
		   "file_extension": ".sce",
		   "help_links": [
			{
			 "text": "MetaKernel Magics",
			 "url": "https://github.com/calysto/metakernel/blob/master/metakernel/magics/README.md"
			}
		   ],
		   "mimetype": "text/x-octave",
		   "name": "scilab",
		   "version": "0.7.1"
		  }
		 },
		 "nbformat": 4,
		 "nbformat_minor": 0
}
