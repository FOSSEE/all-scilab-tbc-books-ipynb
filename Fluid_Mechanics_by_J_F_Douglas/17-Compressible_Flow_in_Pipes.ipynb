{
"cells": [
 {
		   "cell_type": "markdown",
	   "metadata": {},
	   "source": [
       "# Chapter 17: Compressible Flow in Pipes"
	   ]
	},
{
		   "cell_type": "markdown",
		   "metadata": {},
		   "source": [
			"## Example 17.1: MASS_FLOW_THROUGH_A_VENTURI_METER.sce"
		   ]
		  },
  {
"cell_type": "code",
	   "execution_count": null,
	   "metadata": {
	    "collapsed": true
	   },
	   "outputs": [],
"source": [
"clc; funcprot(0);//Example 17.1 \n",
"\n",
"//Initializing the variables\n",
"g = 9.81;\n",
"rho = 1000;\n",
"rhoHg = 13.6*rho;\n",
"d1 = 0.075;\n",
"d2 = 0.025;\n",
"Pi = 0.250;\n",
"Pt = 0.150;\n",
"P_Hg = 0.760;\n",
"rho1 = 1.6;\n",
"gma = 1.4;\n",
"\n",
"//Calculations\n",
"P1 = (Pi+P_Hg)*rhoHg*g;\n",
"P2 = (Pt+P_Hg)*rhoHg*g;\n",
"rho2 = rho1*(P2/P1)^(1/gma);\n",
"\n",
"function[f] = velocity(V)\n",
"    f(1) = d2^2*V(2)*rho2-d1^2*V(1)*rho1;\n",
"    f(2) = 0.5*(V(2)^2 - V(1)^2)*((gma-1)/gma)*(rho2*rho1/(rho2*P1-rho1*P2))-1;\n",
"endfunction\n",
"V = [0 0];\n",
"Velo = fsolve(V,velocity);\n",
"Flow = %pi*d1^2/4*Velo(1);\n",
"disp(Flow, 'Volume of flow (m3/s):');"
   ]
   }
,
{
		   "cell_type": "markdown",
		   "metadata": {},
		   "source": [
			"## Example 17.2: THE_LAVAL_NOZZLE.sce"
		   ]
		  },
  {
"cell_type": "code",
	   "execution_count": null,
	   "metadata": {
	    "collapsed": true
	   },
	   "outputs": [],
"source": [
"clc; funcprot(0); //Example 17.2\n",
"\n",
"//Initializing the variables\n",
"Ma = 4;\n",
"gma = 1.4;\n",
"At = 500; // in mm\n",
"\n",
"//Calculations\n",
"N = 1 + (gma-1)*Ma^2/2;\n",
"D = (gma+1)/2 ;\n",
"A = At*(N/D)^((gma+1)/(2*(gma-1)))/Ma;\n",
"\n",
"disp(A, 'Area of test section (mm2):');"
   ]
   }
,
{
		   "cell_type": "markdown",
		   "metadata": {},
		   "source": [
			"## Example 17.3: NORMAL_SHOCK_WAVE_IN_A_DIFFUSER.sce"
		   ]
		  },
  {
"cell_type": "code",
	   "execution_count": null,
	   "metadata": {
	    "collapsed": true
	   },
	   "outputs": [],
"source": [
"clc; funcprot(0);//Example 17.3 \n",
"\n",
"//Initializing the variables\n",
"Ma1 = 2;\n",
"gma = 1.4;\n",
"T1 = 15+273; // In kelvin\n",
"P1 = 105; \n",
"\n",
"//Calculations\n",
"Ma2 = sqrt(((gma-1)*Ma1^2 +2)/(2*gma*Ma1^2-gma+1));\n",
"P2 = P1*(1+gma*Ma1^2)/(1+gma*Ma2^2);\n",
"T2 = T1*(1 +(gma-1)/2*Ma1^2)/(1 +(gma-1)/2*Ma2^2);\n",
"disp(T2 - 273, 'Temperature (Degree C) of downstream shock wave :',P2, 'Pressure (bar) of downstream shock wave :',Ma2, 'Mach No downstream shock wave :');"
   ]
   }
,
{
		   "cell_type": "markdown",
		   "metadata": {},
		   "source": [
			"## Example 17.4: COMPRESSIBLE_FLOW_IN_A_DUCT_WITH_FRICTION_UNDER_ADIABATIC_CONDITIONS_FANNO_FLOW.sce"
		   ]
		  },
  {
"cell_type": "code",
	   "execution_count": null,
	   "metadata": {
	    "collapsed": true
	   },
	   "outputs": [],
"source": [
"clc; funcprot(0); //Example 17.4 \n",
"\n",
"//Initializing the variables\n",
"gma = 1.4;\n",
"f = 0.00375;\n",
"d = 0.05;\n",
"\n",
"//Calculations\n",
"m = d/4;\n",
"function[y] = x(Ma)\n",
"    A =(1 -Ma^2 )/(gma*Ma^2);\n",
"    B = (gma+1)*Ma^2/(2+(gma-1)*Ma^2); \n",
"    y = m/f*(A+ (gma+1)*log(B)/(2*gma));\n",
"endfunction\n",
"\n",
"X1 = x(0.2); // At entrance Ma = 0.2;\n",
"X06_X1 =x(0.6); // Section(b) Ma = 0.6;\n",
"\n",
"X06 =  X1-X06_X1;\n",
"disp(X06, 'Distance from the entrance (m):',X1,'The Distance X1 at which the Mach number is unity (m) :');"
   ]
   }
,
{
		   "cell_type": "markdown",
		   "metadata": {},
		   "source": [
			"## Example 17.5: ISOTHERMAL_FLOW_OF_A_COMPRESSIBLE_FLUID_IN_A_PIPELINE.sce"
		   ]
		  },
  {
"cell_type": "code",
	   "execution_count": null,
	   "metadata": {
	    "collapsed": true
	   },
	   "outputs": [],
"source": [
"clc; funcprot(0); //Example 17.4 \n",
"\n",
"//Initializing the variables\n",
"gma = 1.4;\n",
"Q = 28/60; // m3/s\n",
"d = 0.1;\n",
"p1 = 200*10^3;\n",
"f = 0.004;\n",
"x_x1 = 60;\n",
"R = 287;\n",
"T = 15+273;\n",
"\n",
"//Calculations\n",
"A = %pi*d^2/4;\n",
"m = d/4;\n",
"v1 = Q/A;\n",
"pa = p1*sqrt(1-f*(x_x1)*v1^2/(m*R*T));\n",
"\n",
"function[y] =g(p)\n",
"    A = (v1*p1)^2/(R*T)\n",
"    B = f*A*x_x1/(2*m);\n",
"    y = (p^2 - p1^2)/2 -A*log(p/p1) +B;\n",
"endfunction\n",
"pb=fsolve(pa,g);// Guessing solution around pa\n",
"disp(pb/1000,'Pressure at the outlet, allowing for velocity changes (kN) :',pa/1000,'Pressure at the outlet, neglecting velocity changes (kN)');"
   ]
   }
],
"metadata": {
		  "kernelspec": {
		   "display_name": "Scilab",
		   "language": "scilab",
		   "name": "scilab"
		  },
		  "language_info": {
		   "file_extension": ".sce",
		   "help_links": [
			{
			 "text": "MetaKernel Magics",
			 "url": "https://github.com/calysto/metakernel/blob/master/metakernel/magics/README.md"
			}
		   ],
		   "mimetype": "text/x-octave",
		   "name": "scilab",
		   "version": "0.7.1"
		  }
		 },
		 "nbformat": 4,
		 "nbformat_minor": 0
}
