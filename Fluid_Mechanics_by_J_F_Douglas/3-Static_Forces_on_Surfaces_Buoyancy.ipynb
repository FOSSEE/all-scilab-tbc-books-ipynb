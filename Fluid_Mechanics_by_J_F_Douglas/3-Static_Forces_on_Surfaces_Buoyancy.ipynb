{
"cells": [
 {
		   "cell_type": "markdown",
	   "metadata": {},
	   "source": [
       "# Chapter 3: Static Forces on Surfaces Buoyancy"
	   ]
	},
{
		   "cell_type": "markdown",
		   "metadata": {},
		   "source": [
			"## Example 3.1: RESULTANT_FORCE_AND_CENTRE_OF_PRESSURE_ON_A_PLANE_SURFACE_UNDER_UNIFORM_PRESSURE.sce"
		   ]
		  },
  {
"cell_type": "code",
	   "execution_count": null,
	   "metadata": {
	    "collapsed": true
	   },
	   "outputs": [],
"source": [
"clc ;funcprot(0);\n",
"//Example 3.1 \n",
"\n",
"//Initializing the variables\n",
"a = 2.7;    //Upper edge\n",
"b = 1.2 ;   //Lower edge\n",
"width = 1.5;     //Width of trapezoidal plate\n",
"h = 1.1;        //Height of water column above surface\n",
"rho = 1000;\n",
"g = 9.81;//Acceleration due to gravity\n",
"phi = 90 ;//Angle between wall and surface\n",
"\n",
"//Calculations\n",
"A = 0.5*(a+b)*width;        //Area of Trapezoidal Plate\n",
"y = (2*(0.5*width*0.75)*0.5 + (1.2*width)*0.75)/A;\n",
"z = y+h; //Depth of center of pressure\n",
"R = rho*g*A*z ;//Resultant force\n",
"\n",
"I0 = 1.2*1.5^3/12 +1.2*1.5*1.85^2 + 1.5*1.5^3/36 + 1.5*0.75*1.6^2 ;//Second moment of area\n",
"D = (sind(phi))^2*I0/(A*z); //depth of center of pressure\n",
"M = R*(1.8533-1.1); //Moment about hinge\n",
"disp(M/1000,'Moment about the hinge line (kN/m):')"
   ]
   }
,
{
		   "cell_type": "markdown",
		   "metadata": {},
		   "source": [
			"## Example 3.2: RESULTANT_FORCE_AND_CENTRE_OF_PRESSURE_ON_A_PLANE_SURFACE_UNDER_UNIFORM_PRESSURE.sce"
		   ]
		  },
  {
"cell_type": "code",
	   "execution_count": null,
	   "metadata": {
	    "collapsed": true
	   },
	   "outputs": [],
"source": [
"clc;funcprot(0);\n",
"//Example 3.2 \n",
"\n",
"//Initializing the variables\n",
"w = 1.8;     //Width of plate\n",
"h1 = 5;        //Height of plate and water in upstream\n",
"h2 = 1.5;      //Height of water in downstream\n",
"rho = 1000;\n",
"g = 9.81 ;     //Acceleration due to gravity\n",
"\n",
"//Calculations\n",
"function[F]=waterForce(area,meanHeight)\n",
"    F = rho * g * area * meanHeight;\n",
"endfunction\n",
"\n",
"P = waterForce(w*h1,h1/2)-waterForce(w*h2,h2/2); // Resultant force on gate \n",
"x = (waterForce(w*h1,h1/2)*(h1/3) - waterForce(w*h2,h2/2)*(h2/3))/P; // point of action of p from bottom\n",
"R = P/(2*sind(20));       // Total Reaction force\n",
"Rt = 1.18*R/4.8;       //Reaction on Top\n",
"Rb = R - Rt ;         //Reaction at bottom\n",
"\n",
"disp(Rb/1000, 'Reaction at bottom (kN):',Rt/1000, 'Reaction at top(kN) :');"
   ]
   }
,
{
		   "cell_type": "markdown",
		   "metadata": {},
		   "source": [
			"## Example 3.3: PRESSURE_DIAGRAMS.sce"
		   ]
		  },
  {
"cell_type": "code",
	   "execution_count": null,
	   "metadata": {
	    "collapsed": true
	   },
	   "outputs": [],
"source": [
"clc;funcprot(0);\n",
"//Example 3.3 \n",
"\n",
"//Initializing the variables\n",
"D = 1.8;     //Depth of tank\n",
"h = 1.2;        //Depth of water\n",
"l = 3;      //Length of wall of tank\n",
"p = 35000;   //Air pressure\n",
"rho = 10^3;     //Density of water\n",
"g = 9.81;      //Acceleration due to gravity\n",
"\n",
"\n",
"//Calculations\n",
"Ra = p*D*l; //Force due to air\n",
"Rw = .5*(rho*g*h)*h*l; //Force due to water\n",
"R = Ra + Rw; // Resultant force\n",
"x = (Ra*0.9+Rw*0.4)/R; // Height of center of pressure from base\n",
"disp(x,'Height of the centre of pressure above the base(m) :',R/1000,'Resultant force on the wall(kN)');"
   ]
   }
,
{
		   "cell_type": "markdown",
		   "metadata": {},
		   "source": [
			"## Example 3.4: FORCE_ON_A_CURVED_SURFACE_DUE_TO_HYDROSTATIC_PRESSURE.sce"
		   ]
		  },
  {
"cell_type": "code",
	   "execution_count": null,
	   "metadata": {
	    "collapsed": true
	   },
	   "outputs": [],
"source": [
"clc;funcprot(0);\n",
"//Example 3.4 \n",
"\n",
"//Initializing the variables\n",
"R = 6; // Radius of arc\n",
"h = 2*R*sind(30);     //Depth of water\n",
"rho = 10^3;     //Density of water\n",
"g = 9.81;      //Acceleration due to gravity\n",
"\n",
"//Calculations\n",
"Rh = (rho*g*h^2)/2; // Resultant horizontal force per unit length\n",
"Rv = rho*g*((60/360)*%pi*R^2 -R*sind(30)*R*cosd(30)); // Resultant vertical force per unit length\n",
"R = sqrt(Rh^2+Rv^2); // Resultant force on gate\n",
"theta = atand(Rv/Rh); //Angle between resultant force and horizontal\n",
"\n",
"disp(theta,'Direction of resultant force to the horizontal(Degree):',R/1000,'Magnitute of resultant force(kN/m ) :');"
   ]
   }
,
{
		   "cell_type": "markdown",
		   "metadata": {},
		   "source": [
			"## Example 3.5: BUOYANCY.sce"
		   ]
		  },
  {
"cell_type": "code",
	   "execution_count": null,
	   "metadata": {
	    "collapsed": true
	   },
	   "outputs": [],
"source": [
"clc;funcprot(0);\n",
"//Example 3.5\n",
"\n",
"//Initializing the variables\n",
"B = 6; // Width of pontoon\n",
"L = 12;     //Length of pontoon\n",
"D = 1.5;             //Draught of pontoon\n",
"Dmax = 2;                 //Maximum permissible draught\n",
"rhoW = 1000;     //Density of fresh water\n",
"rhoS = 1025;     //Density of sea water\n",
"g = 9.81;      //Acceleration due to gravity\n",
"\n",
"//Calculations\n",
"function[W]=Weight(D)\n",
"    W = rhoW*g*B*L*D;\n",
"endfunction\n",
"\n",
"W = Weight(D); // Weight of pontoon in fresh water = weight of water displaced\n",
"Ds = W/(rhoS*g*B*L); //Draught in sea water\n",
"L = Weight(Dmax) - Weight(D); // maximum load that can be supported\n",
"\n",
"disp(L/1000,'Load (kN) :',Ds,'Draught in sea (m):',W/1000,'Weight of pontoon (kN): ');"
   ]
   }
,
{
		   "cell_type": "markdown",
		   "metadata": {},
		   "source": [
			"## Example 3.6: EX3_6.sce"
		   ]
		  },
  {
"cell_type": "code",
	   "execution_count": null,
	   "metadata": {
	    "collapsed": true
	   },
	   "outputs": [],
"source": [
"clc;funcprot(0);\n",
"//Example  3.6\n",
"\n",
"//Initializing the variables\n",
"D = 1.8;     // Diameter of buoy\n",
"H = 1.2;       //Height of buoy\n",
"W = 10*10^3;   //Weight of buoy\n",
"L = 2*10^3;    //Load\n",
"G = 0.45;      // Center of gravity\n",
"rho = 1025;     //Density of sea water\n",
"g = 9.81;      //Acceleration due to gravity\n",
"\n",
"//Calculations\n",
"Z = 4*(W+L)/(rho*g*%pi*D^2);         // Depth of Immersion\n",
"BG# = (%pi*D^4/64)/(%pi*D^2*Z/4);\n",
"Z# = 0.5*Z +BG#;                   // Position of combined center of gravity\n",
"Z1 = ((W+L)*Z#-0.45*W)/L;         //Maximum height of load above bottom\n",
"\n",
"disp(Z1,'Maximum height of center of gravity above bottom(m) :');"
   ]
   }
,
{
		   "cell_type": "markdown",
		   "metadata": {},
		   "source": [
			"## Example 3.7: STABILITY_OF_A_VESSEL_CARRYING_LIQUID_IN_TANKS_WITH_A_FREE_SURFACE.sce"
		   ]
		  },
  {
"cell_type": "code",
	   "execution_count": null,
	   "metadata": {
	    "collapsed": true
	   },
	   "outputs": [],
"source": [
"clc;funcprot(0);\n",
"//Example 3.7 \n",
"\n",
"//Initializing the variables\n",
"l = 20;     // Length of barage\n",
"b = 6;       //Width of barage\n",
"r = 3;   //Radius of circular top of barage\n",
"W = 200*10^3;    //Weight of empty barage\n",
"d1 = 0.8;      // Depth of water in 1st half\n",
"d2 = 1;          // Depth of water in 2nd half\n",
"rho = 1000;    //Density of water\n",
"R = 0.8;     //Relative density of liquid\n",
"g = 9.81;      //Acceleration due to gravity\n",
"ZG = 0.45;        // Center of gravity of barage\n",
"\n",
"//Calculations\n",
"I00 = l*b^3/12 +%pi*b^4/128;\n",
"ICC = l*(.5*b)^3/12;\n",
"L = d1*rho*g*l*b/2*(d1+d2);     // Weight of liquid load\n",
"W# = L + W;             //Total weight\n",
"A = l*b +%pi*r^2/2;     // Area of plane of waterline\n",
"V = W#/(rho*g);        // Volume of vessel submerged\n",
"D = V/A ;            //Depth submerged\n",
"ZB = .5*D;         //Height of center of buoyancy\n",
"NM = ZB-ZG +(1/V)*(I00-R*2*ICC);            // Effective metacentric height\n",
"P = R*rho*g*l*b/2*(d2-d1);     //overturning moment \n",
"theta = atand(P*1.5/(W#*NM));     //Angle of roll\n",
"\n",
"disp(theta,'Angle of roll (Degree) :');"
   ]
   }
],
"metadata": {
		  "kernelspec": {
		   "display_name": "Scilab",
		   "language": "scilab",
		   "name": "scilab"
		  },
		  "language_info": {
		   "file_extension": ".sce",
		   "help_links": [
			{
			 "text": "MetaKernel Magics",
			 "url": "https://github.com/calysto/metakernel/blob/master/metakernel/magics/README.md"
			}
		   ],
		   "mimetype": "text/x-octave",
		   "name": "scilab",
		   "version": "0.7.1"
		  }
		 },
		 "nbformat": 4,
		 "nbformat_minor": 0
}
