{
"cells": [
 {
		   "cell_type": "markdown",
	   "metadata": {},
	   "source": [
       "# Chapter 14: Steady Incompressible Flow in Pipe and Duct Systems"
	   ]
	},
{
		   "cell_type": "markdown",
		   "metadata": {},
		   "source": [
			"## Example 14.12: QUASI_STEADY_FLOW.sce"
		   ]
		  },
  {
"cell_type": "code",
	   "execution_count": null,
	   "metadata": {
	    "collapsed": true
	   },
	   "outputs": [],
"source": [
"clc; funcprot(0);//Example 14.12 \n",
" \n",
"//Initializing the variables\n",
"As = 6;\n",
"A2 = 4.5;\n",
"d = 0.02;\n",
"f =0.01;\n",
"L = 1.5;\n",
"K = 0.9;\n",
"g = 9.81;\n",
"\n",
"//Calculations\n",
"Ap = %pi*d^2/4;\n",
"C = Ap*sqrt(2*g/(4*f*L/d+K+1));\n",
"\n",
"function[y] = Qinv(h)\n",
"    y = sqrt(1/h)/(C*(1+As/A2));\n",
"endfunction\n",
"\n",
"//By direct integration\n",
"t = -As*intg(3.0,2.0,Qinv); // Discharge is 2 m below \n",
"disp(t, 'Time of discharge by direct integration (s): ');\n",
"\n",
"//By Numerical Integration \n",
"interval = [0.250 0.125 0.0083 0.0063 0.005 0.0042];\n",
"for(i=1:length(interval))\n",
"    \n",
"    start=3.0;piece=3.5:-interval(i):2.0;\n",
"    X=-As*integrate('Qinv(h)','h',start,piece);\n",
"    \n",
"    disp(X(length(X)),'Value of t (s): ',interval(i),'______For Interval(Dh in m)_____');\n",
"end"
   ]
   }
,
{
		   "cell_type": "markdown",
		   "metadata": {},
		   "source": [
			"## Example 14.1: INCOMPRESSIBLE_FLOW_THROUGH_DUCTS_AND_PIPES.sce"
		   ]
		  },
  {
"cell_type": "code",
	   "execution_count": null,
	   "metadata": {
	    "collapsed": true
	   },
	   "outputs": [],
"source": [
"clc; funcprot(0);//Example 14.1\n",
"\n",
"//Initializing the variables\n",
"L1 = 5;\n",
"L2 = 10;\n",
"d = 0.1;\n",
"f = 0.08;\n",
"Za_Zc = 4;         //difference in height between A and C \n",
"g = 9.81 ;\n",
"Pa = 0;\n",
"Va = 0; \n",
"Za_Zb = -1.5;\n",
"V = 1.26;\n",
"rho = 1000;\n",
"\n",
"//Calculations\n",
"D = 1.5 + 4*f*(L1+L2)/d ; // Denominator in case of v^2 \n",
"v = sqrt(2*g*Za_Zc/D);\n",
"Pb = rho*g*Za_Zb - rho*V^2/2*(1.5+4*f*L1/d);\n",
"disp(Pb/1000,'Pressure in the part at B (kN/m2):',v, 'Mean Velocity at C (m/s):');"
   ]
   }
,
{
		   "cell_type": "markdown",
		   "metadata": {},
		   "source": [
			"## Example 14.3: INCOMPRESSIBLE_FLOW_THROUGH_PIPES_IN_PARALLEL.sce"
		   ]
		  },
  {
"cell_type": "code",
	   "execution_count": null,
	   "metadata": {
	    "collapsed": true
	   },
	   "outputs": [],
"source": [
"clc; funcprot(0);//Example 14.3\n",
"\n",
"//Initializing the variables\n",
"Za_Zb = 10;\n",
"f = 0.008;\n",
"L = 100;\n",
"d1 = 0.05;\n",
"g = 9.81;\n",
"d2 = 0.1;\n",
"//Calculations\n",
"function[z] = flowRate(d)\n",
"     D = 1.5 + 4*f*L/d ; // Denominator in case of v1^2\n",
"     A = %pi*d^2/4;\n",
"     v = sqrt(2*g*Za_Zb/D);\n",
"     z = A*v;\n",
"endfunction\n",
"    \n",
"Q1 = flowRate(d1);\n",
"Q2 = flowRate(d2);\n",
"\n",
"Q = Q1+Q2;\n",
"D = poly(0, 'D');\n",
"v = 4*Q/(%pi*D^2);\n",
"X = 1.5 + 4*f*L/D;\n",
"f = 10*2*g/(X*v^2)  - 1;\n",
"f = numer(f) ;\n",
"diameter = roots(f); // Taking roots of numerator denominator will be multiplied by zero\n",
"i = 1;\n",
"while (i<=length(diameter))\n",
"    x = diameter(i);\n",
"    if(imag(x) == 0) then     \n",
"        dia = diameter(i);\n",
"        i= i+1;\n",
"    else\n",
"        i = i+1; \n",
"    end\n",
"end\n",
"\n",
"disp(dia*1000,'Diameter of single equivalent pipe(mm) :', Q2 ,'Flow throught pipe 2 (m3/s):', Q1 ,'Flow throught pipe 1 (m3/s):');"
   ]
   }
,
{
		   "cell_type": "markdown",
		   "metadata": {},
		   "source": [
			"## Example 14.4: INCOMPRESSIBLE_FLOW_THROUGH_BRANCHING_PIPES_THE_THREE_RESERVOIR_PROBLEM.sce"
		   ]
		  },
  {
"cell_type": "code",
	   "execution_count": null,
	   "metadata": {
	    "collapsed": true
	   },
	   "outputs": [],
"source": [
"clc; funcprot(0); //Example 14.4\n",
"\n",
"//Initializing the variables\n",
"Za_Zb = 16;\n",
"Za_Zc = 24;\n",
"f = 0.01;\n",
"l1 = 120;\n",
"l2 = 60;\n",
"l3 = 40;\n",
"d1 = 0.12;\n",
"d2 = 0.075;\n",
"d3 = 0.060;\n",
"g = 9.81;\n",
"//Calculations\n",
"\n",
"A = [%pi*d1^2/4 %pi*d2^2/4 %pi*d3^2/4]\n",
"function[z] = Coeff(l,d)\n",
"    z = 4*f*l/(d*2*g);\n",
"endfunction\n",
"\n",
"function[f] = F(x)\n",
"    f(1) = Coeff(l1,d1)*x(1)^2 + Coeff(l2,d2)*x(2)^2  - Za_Zb;\n",
"    f(2) = Coeff(l1,d1)*x(1)^2 + Coeff(l3,d3)*x(3)^2  - Za_Zc;;\n",
"    f(3) = x(1)*d1^2 - x(2)*d2^2 - x(3)*d3^2; // Q1=Q2\n",
"endfunction\n",
"\n",
"function[j] = jacob(x)\n",
"    j(1,1) = 2*Coeff(l1,d1)*x(1); j(1,2) = 2*Coeff(l2,d2)*x(2);j(1,3) = 0;\n",
"    j(2,1) = 2*Coeff(l1,d1)*x(1); j(2,2) = 0;j(2,3) = 2*Coeff(l3,d3)*x(3);\n",
"    j(3,1) = d1^2; j(3,2) = -d2^2;j(3,3) = -d3^2;\n",
"endfunction\n",
"\n",
"x = [1.8 0 0];\n",
"v = fsolve(x,F,jacob, 10^-20);\n",
"disp(v(3)*A(3),'Flow rate in pipe 3 (m3/s):',v(2)*A(2),'Flow rate in pipe 2 (m3/s):',v(1)*A(1),'Flow rate in pipe 1 (m3/s) :');"
   ]
   }
,
{
		   "cell_type": "markdown",
		   "metadata": {},
		   "source": [
			"## Example 14.5: INCOMPRESSIBLE_STEADY_FLOW_IN_DUCT_NETWORKS.sce"
		   ]
		  },
  {
"cell_type": "code",
	   "execution_count": null,
	   "metadata": {
	    "collapsed": true
	   },
	   "outputs": [],
"source": [
"clc; funcprot(0); //Example 14.5 \n",
"\n",
"//Initializing the variables\n",
"D = 0.3;\n",
"Q = 0.8;\n",
"rho = 1.2;\n",
"f = 0.008;\n",
"L_entry = 10;\n",
"L_exit = 30;\n",
"Lt = 20*D;//Transition may be represented by a separation loss equivalent length of 20 × the approach duct diameter\n",
"K_entry = 4;\n",
"K_exit = 10\n",
"l = 0.4;        // length of cross section\n",
"b = 0.2;        // width of cross section\n",
"\n",
"//Calculations\n",
"A = %pi*D^2/4;\n",
"Dp1 = 0.5*rho*Q^2/A^2*(K_entry + 4*f*(L_entry+Lt)/D);\n",
"area = l*b;\n",
"perimeter =2*(l+b);\n",
"m = area/perimeter;\n",
"Dp2 = 0.5*rho*Q^2/area^2*(K_exit + f*L_exit/m);\n",
"Dfan =  Dp1+Dp2;\n",
"\n",
"disp(Dfan,'fan Pressure input (N/m2) :');"
   ]
   }
,
{
		   "cell_type": "markdown",
		   "metadata": {},
		   "source": [
			"## Example 14.6: INCOMPRESSIBLE_STEADY_FLOW_IN_DUCT_NETWORKS.sce"
		   ]
		  },
  {
"cell_type": "code",
	   "execution_count": null,
	   "metadata": {
	    "collapsed": true
	   },
	   "outputs": [],
"source": [
"clc; funcprot(0); //Example 14.6\n",
"\n",
"//Initializing the variables\n",
"D = [0.15 0.3];\n",
"rho = 1.2;\n",
"f = 0.008;\n",
"L_entry = 10;\n",
"L_exit = 20;\n",
"Lt = 20*D(2);//Transition may be represented by a separation loss equivalent length of 20 × the approach duct diameter\n",
"K = 4;\n",
"Q1 = 0.2;\n",
"\n",
"//Calculations\n",
"Q2 = 4*Q1;\n",
"A = %pi*D^2/4;\n",
"Dp1 = 0.5*rho*Q1^2/A(1)^2*(K + 4*f*L_entry/D(1));\n",
"Dp2 = 0.5*rho*Q2^2/A(2)^2*(4*f*(L_exit + Lt)/D(2));\n",
"Dfan =  Dp1+Dp2;\n",
"\n",
"disp(Dfan,'fan Pressure input (N/m2) :');"
   ]
   }
,
{
		   "cell_type": "markdown",
		   "metadata": {},
		   "source": [
			"## Example 14.7: RESISTANCE_COEFFICIENTS_FOR_PIPELINES_IN_SERIES_AND_IN_PARALLEL.sce"
		   ]
		  },
  {
"cell_type": "code",
	   "execution_count": null,
	   "metadata": {
	    "collapsed": true
	   },
	   "outputs": [],
"source": [
"clc; funcprot(0);//Example 14.7\n",
"\n",
"//Initializing the variables\n",
"d = [0.1 0.125 0.15 0.1 0.1 ]; // Corrosponding to AA1B AA2B BC CD CF\n",
"l = [30 30 60 15 30];                // Corrosponding to AA1B AA2B BC CD CF\n",
"rho = 1.2;\n",
"f = 0.006;\n",
"Ha = 100;\n",
"Hf = 60;\n",
"He = 40;\n",
"\n",
"//Calculations\n",
"for(i=1:length(d))\n",
"    K(i) = f*l(i)/(3*d(i)^5);\n",
"end\n",
"\n",
"K_ab = K(1)*K(2)/(sqrt(K(1))+sqrt(K(2)))^2;\n",
"K_ac = K_ab + K(3);\n",
"Hc = (K_ac*Hf +K(5)*Ha/4)/(K_ac+K(5)/4);\n",
"Q = sqrt((Ha - Hc)/K_ac);\n",
"\n",
"function[z] = f(n)\n",
"    z = He - Hc + (0.5*Q)^2 *(K(4)+(4000/n)^2);\n",
"endfunction\n",
"\n",
"n = fsolve(1,f);\n",
"\n",
"disp(n,'Percentage valve opening (%) :', Hc,'Head at C (m):', Q, 'total Volume flow rate (m3/s):');"
   ]
   }
,
{
		   "cell_type": "markdown",
		   "metadata": {},
		   "source": [
			"## Example 14.8: THE_QUANTITY_BALANCE_METHOD_FOR_PIPE_NETWORKS.sci"
		   ]
		  },
  {
"cell_type": "code",
	   "execution_count": null,
	   "metadata": {
	    "collapsed": true
	   },
	   "outputs": [],
"source": [
"clc; funcprot(0);//Example 14.8 \n",
" \n",
"//Initializing the variables\n",
"d = [0.3 0.25 0.2];\n",
"l = [1500 800 400];\n",
"f = 0.01;\n",
"Ha = 60;\n",
"Hb = 30;\n",
"Hc = 15;\n",
"Hd = 35; // Assumption\n",
"H(1) = Ha - Hd;\n",
"H(2) = Hb - Hd;\n",
"H(3) = Hc - Hd;\n",
"\n",
"//Calculations\n",
"K = 0;\n",
"for(i=1:length(d))\n",
"    K(i) = f*l(i)/(3*d(i)^5);\n",
"end\n",
"Qsum = 0.001;\n",
"for(i=1:2)\n",
"    Q = 0;Qby2h = 0;Qs = 0;Qby2hsum = 0;\n",
"    for(i=1:3)\n",
"        if(imag(sqrt(H(i)/K(i)))~=0) then\n",
"            Q(i) = -1*abs(imag(sqrt(H(i)/K(i))));\n",
"        else\n",
"            Q(i) = sqrt(H(i)/K(i));\n",
"        end,\n",
"        \n",
"        Qby2h = Q(i)/(2*H(i));\n",
"        Qs = Qs+Q(i);\n",
"       Qby2hsum = Qby2hsum +Qby2h\n",
"      \n",
"    end\n",
"    dH = Qs/Qby2hsum;\n",
"    for(i=1:3)\n",
"        H(i)=H(i)+dH;\n",
"    end\n",
"    Qsum = Qs;\n",
"end\n",
"\n",
"disp(Q(3),'Q_dc (m3/s) :',Q(2),'Q_db (m3/s) :',Q(1),'Q_ad (m3/s) :');"
   ]
   }
,
{
		   "cell_type": "markdown",
		   "metadata": {},
		   "source": [
			"## Example 14.9: QUASI_STEADY_FLOW.sce"
		   ]
		  },
  {
"cell_type": "code",
	   "execution_count": null,
	   "metadata": {
	    "collapsed": true
	   },
	   "outputs": [],
"source": [
"clc; funcprot(0);//Example 14.9 \n",
" \n",
"//Initializing the variables\n",
"As = 6;\n",
"d = 0.02;\n",
"f =0.01;\n",
"L = 1.5;\n",
"K = 0.9;\n",
"g = 9.81;\n",
"\n",
"//Calculations\n",
"Ap = %pi*d^2/4;\n",
"function[y] = Qinv(h)\n",
"    y = sqrt((4*f*L/d +K+1)/(2*g*h))/Ap;\n",
"endfunction\n",
"//By direct integration\n",
"t = -As*intg(3.5,2.25,Qinv); // Discharge is 2 m below \n",
"disp(t, 'Time of discharge by direct integration (s): ');\n",
"\n",
"// By numerical integrations\n",
"interval = [0.250 0.125 0.0083 0.0063 0.005 0.0042];\n",
"for(i=1:length(interval))\n",
"    \n",
"    start=3.5;piece=3.5:-interval(i):2.25;\n",
"    X=-As*integrate('Qinv(h)','h',start,piece);\n",
"    \n",
"    disp(X(length(X)),'Value of t (s) : ',interval(i),'______For Interval(Dh in m)_____');\n",
"end"
   ]
   }
],
"metadata": {
		  "kernelspec": {
		   "display_name": "Scilab",
		   "language": "scilab",
		   "name": "scilab"
		  },
		  "language_info": {
		   "file_extension": ".sce",
		   "help_links": [
			{
			 "text": "MetaKernel Magics",
			 "url": "https://github.com/calysto/metakernel/blob/master/metakernel/magics/README.md"
			}
		   ],
		   "mimetype": "text/x-octave",
		   "name": "scilab",
		   "version": "0.7.1"
		  }
		 },
		 "nbformat": 4,
		 "nbformat_minor": 0
}
