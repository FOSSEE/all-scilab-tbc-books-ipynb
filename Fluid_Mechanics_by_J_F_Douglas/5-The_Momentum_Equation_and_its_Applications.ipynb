{
"cells": [
 {
		   "cell_type": "markdown",
	   "metadata": {},
	   "source": [
       "# Chapter 5: The Momentum Equation and its Applications"
	   ]
	},
{
		   "cell_type": "markdown",
		   "metadata": {},
		   "source": [
			"## Example 5.10: ANGULAR_MOTION.sce"
		   ]
		  },
  {
"cell_type": "code",
	   "execution_count": null,
	   "metadata": {
	    "collapsed": true
	   },
	   "outputs": [],
"source": [
"clc;funcprot(0);//Example 5.10\n",
"\n",
"//Initializing the variables \n",
"rho = 1000;     // Density of water\n",
"Q = 10;        //Acceleration of fluid\n",
"r2 = 1.6;\n",
"r1 = 1.2;\n",
"V1 = 2.3;\n",
"V2 = 0.2;\n",
"rot = 240; \n",
"\n",
"//Calculations\n",
"Tf = rho*Q*(V2*r2 - V1*r1);\n",
"T = -Tf;\n",
"n = rot / 60;\n",
"P = 2*%pi*n*T;\n",
"\n",
"disp(T, 'Torque exerted (N- m):');\n",
"disp(P/1000, 'Theoretical power output (kW) :'); "
   ]
   }
,
{
		   "cell_type": "markdown",
		   "metadata": {},
		   "source": [
			"## Example 5.1: GRADUAL_ACCELERATION_OF_A_FLUID_IN_A_PIPELINE_NEGLECTING_ELASTICITY.sce"
		   ]
		  },
  {
"cell_type": "code",
	   "execution_count": null,
	   "metadata": {
	    "collapsed": true
	   },
	   "outputs": [],
"source": [
"clc;funcprot(0);\n",
"//Example 5.1 \n",
"\n",
"//Initializing the variables \n",
"\n",
"l = 60 ;      //Length of pipeline\n",
"rho = 1000;     // Density of liquid\n",
"a = 0.02;        //Acceleration of fluid\n",
"\n",
"//Calculations\n",
"delP = rho*l*a;     //Change in pressure\n",
"disp(delP/1000,'Increase of pressure difference required (kN/m2):');"
   ]
   }
,
{
		   "cell_type": "markdown",
		   "metadata": {},
		   "source": [
			"## Example 5.2: FORCE_EXERTED_BY_A_JET_STRIKING_A_FLAT_PLATE.sce"
		   ]
		  },
  {
"cell_type": "code",
	   "execution_count": null,
	   "metadata": {
	    "collapsed": true
	   },
	   "outputs": [],
"source": [
"clc;funcprot(0);\n",
"//Example 5.2\n",
"\n",
"//Initializing the variables \n",
"v = 5;     //Velocity of jet     \n",
"rho = 1000;        //density of water\n",
"d = 0.025;        //Diameter of fixed nozzle\n",
"\n",
"//Calculations\n",
"//--Part(a) Variation of force exerted normal to the plate with plate angle--//\n",
"header = ['Theta' '     vcos(x)' '        ρAv' '      Force'];\n",
"unit =   ['  deg' '         m/s' '       kg/s' '          N'];\n",
"\n",
"A = %pi*d^2/4;\n",
"x = linspace(0,90,7);\n",
"vcomp = v*cosd(x);\n",
"m = rho*A*v;\n",
"ma = linspace(m,m,7);\n",
"force = rho*A*v^2*cosd(x);\n",
"value = [x;vcomp;ma;force]' ;\n",
"disp(value,unit, header );\n",
"\n",
"//--Part(b) Variation of force exerted normal to the plate with plate velocity--//    \n",
"header = ['Theta' '  v' '  u' '   v-u' '     ρA(v-u)' '   Force'] ;\n",
"unit =   [' deg ' 'm/s' 'm/s ' '  m/s' '       kg/s ' '       N'] ;\n",
"\n",
"x = linspace(0,0,5);\n",
"v = linspace(5,5,5);\n",
"u = linspace(2,-2,5);\n",
"D = v-u;\n",
"Prod = rho*A*D;\n",
"Force = rho*A*D^2;\n",
"value = [x;v;u;D;Prod;Force]';\n",
"disp(value,unit,header)   ; "
   ]
   }
,
{
		   "cell_type": "markdown",
		   "metadata": {},
		   "source": [
			"## Example 5.3: FORCE_DUE_TO_THE_DEFLECTION_OF_A_JET_BY_A_CURVED_VANE.sce"
		   ]
		  },
  {
"cell_type": "code",
	   "execution_count": null,
	   "metadata": {
	    "collapsed": true
	   },
	   "outputs": [],
"source": [
"clc;funcprot(0);\n",
"//Example 5.3 \n",
"\n",
"//Initializing the variables \n",
"x = 60;       //Angle of deflection\n",
"rho = 1000;     // Density of liquid\n",
"V1 = 30;        //Acceleration of fluid\n",
"V2 = 25;\n",
"m = .8;         //Discharge through A\n",
"\n",
"//Calculations\n",
"function[R] = Reaction(Vin , Vout)\n",
"    R = m*(Vin -Vout) ;\n",
"endfunction\n",
"\n",
"Rx = Reaction(V1,V2*cosd(x));\n",
"Ry = -Reaction(0,V2*sind(x));\n",
"disp(Rx,'Reaction in X-direction (N):');\n",
"disp(Ry, 'Reaction in Y-direction (N) :');\n",
"disp(sqrt(Rx^2 +Ry^2), 'Net Reaction (N):');\n",
"disp(atand(Ry/Rx),'Inclination of Resultant Force with x-direction (Degree):');"
   ]
   }
,
{
		   "cell_type": "markdown",
		   "metadata": {},
		   "source": [
			"## Example 5.4: FORCE_EXERTED_WHEN_A_JET_IS_DEFLECTED_BY_A_MOVING_CURVED_VANE.sce"
		   ]
		  },
  {
"cell_type": "code",
	   "execution_count": null,
	   "metadata": {
	    "collapsed": true
	   },
	   "outputs": [],
"source": [
"clc;funcprot(0);\n",
"//Example 5.4\n",
"\n",
"//Initializing the variables \n",
"v1 = 36 ;    //Exit velocity\n",
"u = 15;        //Velocity of vane\\n",
"x = 30;        // Angle between vanes and flow\n",
"rho = 1000;     // Density of water\n",
"d = .1;        // Diameter of jet\n",
"\n",
"//Calculations\n",
"alp = atand(v1*sind(x)/(v1*cosd(x)-u));\n",
"v2 = 0.85*v1*sind(x);\n",
"bta =  acosd(u*sind(alp)/v2);\n",
"m = (rho*%pi*v1*d^2)/4;\n",
"Vin = v1*cosd(x);\n",
"Vout = v2*cosd(90);\n",
"Rx = m*(Vin-Vout);\n",
"\n",
"disp( Rx ,'Force exerted by vanes(N ) :',bta,'Outlet Angle(Degree):',alp,'Inlet Angle(Degree): ') ;\n",
" "
   ]
   }
,
{
		   "cell_type": "markdown",
		   "metadata": {},
		   "source": [
			"## Example 5.5: FORCE_EXERTED_ON_PIPE_BENDS_AND_CLOSED_CONDUITS.sce"
		   ]
		  },
  {
"cell_type": "code",
	   "execution_count": null,
	   "metadata": {
	    "collapsed": true
	   },
	   "outputs": [],
"source": [
"clc;funcprot(0);\n",
"//Example 5.5\n",
"\n",
"//Initializing the variables \n",
"rho = 850 ;    // Density of liquid\n",
"a = 0.02   ;     //Acceleration of fluid\n",
"x = 45 ;\n",
"d1 = .5 ;\n",
"d2 = .25;\n",
"p1 = 40*10^3;\n",
"p2 = 23*10^3;\n",
"Q = .45;\n",
" \n",
"//Calculations\n",
"A1 = (%pi*d1^2)/4;\n",
"A2 = (%pi*d2^2)/4;\n",
"v1 = Q/A1;\n",
"v2 = Q/A2;\n",
"\n",
"Rx = p1*A1 - p2*A2*cosd(x) - rho*Q*(v2*cosd(x)-v1);\n",
"Ry = p2*A2*sind(x) + rho*Q*v2*sind(x);\n",
"\n",
"disp(sqrt(Rx^2 +Ry^2)/1000, 'Resultant force on the bend(kN):');\n",
"disp(atand(Ry/Rx),'Inclination of Resultant Force with x-direction(Degree) :');"
   ]
   }
,
{
		   "cell_type": "markdown",
		   "metadata": {},
		   "source": [
			"## Example 5.6: REACTION_OF_A_JET.sce"
		   ]
		  },
  {
"cell_type": "code",
	   "execution_count": null,
	   "metadata": {
	    "collapsed": true
	   },
	   "outputs": [],
"source": [
"clc;funcprot(0);\n",
"//Example 5.6\n",
"\n",
"//Initializing the variables \n",
"v = 4.9;       //Velocity of Jet\n",
"rho = 1000;     // Density of water\n",
"d = 0.05;\n",
"u = 1.2  ;       // Velocity of tank\n",
"//Calculations\n",
"Vout = v;\n",
"Vin = 0;\n",
"m = rho*%pi*d^2*v/4;\n",
"R = m*(Vout-Vin);\n",
"disp(R,'Reaction (N):');\n",
"disp(R*u,'Work done per second (W):'); "
   ]
   }
,
{
		   "cell_type": "markdown",
		   "metadata": {},
		   "source": [
			"## Example 5.7: REACTION_OF_A_JET.sce"
		   ]
		  },
  {
"cell_type": "code",
	   "execution_count": null,
	   "metadata": {
	    "collapsed": true
	   },
	   "outputs": [],
"source": [
"clc;funcprot(0);\n",
"//Example 5.7\n",
"\n",
"//Initializing the variables \n",
"Vj = 5*10^6;       //Velocity of Jet\n",
"Mr = 150000;     // Mass of Rocket\n",
"Mf0 = 300000;    // Mass of initial fuel\n",
"Vr = 3000;        //Velocity of jet relative to rocket\n",
"g = 9.81;         // Acceleration due to gravity\n",
"\n",
"//Calculations\n",
"m = Vj/Vr;    //Rate of fuel consumption\n",
"T = Mf0/m;    // Burning time\n",
"function[DVt]=f(t)\n",
"    DVt = m*Vr /(Mr + Mf0 - m*t) - g;\n",
"endfunction\n",
"\n",
"function[V]=h(t)\n",
"    V = -g*t - Vr*log(1 - t/269.95);\n",
"endfunction\n",
"\n",
"Vt = intg(0, 180 ,f);\n",
"Z1=intg(0,180,h);\n",
"\n",
"Z2 = Vt^2/(2*g);\n",
"disp(T, '(a)Burning time (s): ');\n",
"disp(Vt,'(b)Speed of rocket when all fuel is burned (m/s):');\n",
"disp((Z2+Z1)/1000,'(c)Maximum height reached (km):');"
   ]
   }
,
{
		   "cell_type": "markdown",
		   "metadata": {},
		   "source": [
			"## Example 5.8: REACTION_OF_A_JET.sce"
		   ]
		  },
  {
"cell_type": "code",
	   "execution_count": null,
	   "metadata": {
	    "collapsed": true
	   },
	   "outputs": [],
"source": [
"clc;funcprot(0);//Example 5.8\n",
"\n",
"//Initializing the variables \n",
"V = 200;     //Velocity in still air\n",
"Vr = 700;    //velocity of gas relative to engine\n",
"mf = 1.1;    // Fuel Consumption\n",
"r = 1/40 ;    \n",
"P1 =0;\n",
"P2 = 0;\n",
"\n",
"//Calculations\n",
"m1 =  mf/r;\n",
"T = m1*((1+r)*Vr -V);\n",
"disp(T/1000, '(a)Thrust (kN) :');     \n",
"\n",
"W = T*V;\n",
"disp(W/1000, '(b)Work done per second (kW) :');\n",
"\n",
"Loss = 0.5*m1*(1+r)*(Vr-V)^2;\n",
"disp(W/(W+Loss)*100 ,'(c)Efficiency (%):');"
   ]
   }
],
"metadata": {
		  "kernelspec": {
		   "display_name": "Scilab",
		   "language": "scilab",
		   "name": "scilab"
		  },
		  "language_info": {
		   "file_extension": ".sce",
		   "help_links": [
			{
			 "text": "MetaKernel Magics",
			 "url": "https://github.com/calysto/metakernel/blob/master/metakernel/magics/README.md"
			}
		   ],
		   "mimetype": "text/x-octave",
		   "name": "scilab",
		   "version": "0.7.1"
		  }
		 },
		 "nbformat": 4,
		 "nbformat_minor": 0
}
