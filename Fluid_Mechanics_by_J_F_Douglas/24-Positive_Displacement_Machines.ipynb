{
"cells": [
 {
		   "cell_type": "markdown",
	   "metadata": {},
	   "source": [
       "# Chapter 24: Positive Displacement Machines"
	   ]
	},
{
		   "cell_type": "markdown",
		   "metadata": {},
		   "source": [
			"## Example 24.1: RECIPROCATING_PUMPS.sce"
		   ]
		  },
  {
"cell_type": "code",
	   "execution_count": null,
	   "metadata": {
	    "collapsed": true
	   },
	   "outputs": [],
"source": [
"clc; funcprot(0); \n",
"//Example 24.1 \n",
"\n",
"//Initializing the variables\n",
"H_at = 10.3;\n",
"Hs = 1.5;\n",
"Hd = 4.5;\n",
"Ls = 2;\n",
"Ld = 15;\n",
"g = 9.81;\n",
"Ds = 0.4; // Diameter of stroke\n",
"Db = 0.15;    // Diameter of bore\n",
"Dd = 0.05;     // Diameter of discharge and suction pipe\n",
"nu = 0.2;\n",
"f = 0.01;\n",
"abs_pump_pressure = 2.4;\n",
"\n",
"//Calculations\n",
"A = %pi*(Db)^2/4;\n",
"a = %pi*(Dd)^2/4;\n",
"r = Ds/2;\n",
"W = 2*%pi*nu;\n",
"Hsf = 0; \n",
"function[y] = H_suck(n) // n for checking the sign of Hsi = 4fl/2dg *(vA/a)^2\n",
"y = H_at - Hs +(-1)^n*(L/g)*(A/a)*W^2*r; \n",
"endfunction\n",
"\n",
"function[y] = H(n,DischargeOrSuction)// n for checking the sign of Hsi = 4fl/2dg *(vA/a)^2, for suction 1 and for discharge2\n",
"    if(DischargeOrSuction == 1) then\n",
"        y = H_at - Hs +(-1)^n*(Ls/g)*(A/a)*W^2*r;\n",
"    elseif(DischargeOrSuction == 2) then\n",
"        y = H_at + Hd +(-1)^n*(Ld/g)*(A/a)*W^2*r;\n",
"    else disp('There is something wrong :')\n",
"    end\n",
"endfunction\n",
"\n",
"function[y] = H_mid(DischargeOrSuction,uA)// n for checking the sign of Hsi = 4fl/2dg *(vA/a)^2, for discharge 1 and for suction 2\n",
"    \n",
"    if(DischargeOrSuction == 1) then\n",
"        Hsf = 4*f*Ls/(2*Dd*g)*(uA/a)^2;\n",
"        y = H_at - Hs - Hsf;\n",
"    elseif(DischargeOrSuction == 2) then\n",
"        Hsf = 4*f*Ld/(2*Dd*g)*(uA/a)^2;\n",
"        y = H_at + Hd + Hsf;\n",
"    else disp('There is something wrong :')\n",
"    end\n",
"endfunction\n",
"\n",
"Hs_start = H(1,1);     // Inertia head negative hence n = 1\n",
"Hs_end = H(2,1);     // Inertia head positive hence n = 2\n",
"Hd_start = H(1,2);\n",
"Hd_end = H(2,2);\n",
"u = W*r;\n",
"Hs_mid = H_mid(1,u*A);\n",
"slip = 0.04;\n",
"Hd_mid = H_mid(2,u*A);\n",
"suction = [Hs_start Hs_end Hs_mid];\n",
"discharge = [Hd_start Hd_end Hd_mid];\n",
"header = ['   Start(m)','   End(m)','     Mid(m)'];\n",
"W_max = sqrt((abs_pump_pressure - H_at + Hs)*(g/Ls)*(a/A)*(1/r));\n",
"W_max_rev = W_max/(2*%pi)*60; // maximum rotation speed in rev/min\n",
"disp(W_max_rev,'Drive speed for s eperation (rev/min) :','!----Part(c)----1',discharge,header,'!----Part(b)----! Head at',suction,header,'!----Part(a)----! Head at');"
   ]
   }
,
{
		   "cell_type": "markdown",
		   "metadata": {},
		   "source": [
			"## Example 24.2: RECIPROCATING_PUMPS.sce"
		   ]
		  },
  {
"cell_type": "code",
	   "execution_count": null,
	   "metadata": {
	    "collapsed": true
	   },
	   "outputs": [],
"source": [
"clc; funcprot(0);\n",
"//Example 24.2 \n",
"\n",
"//Initializing the variables\n",
"H_friction = 2.4;\n",
"H_at = 10.3;\n",
"Hs = 1.5;\n",
"L =2;\n",
"f = 0.01;\n",
"d = 0.05;\n",
"g = 9.81;\n",
"Ds = 0.4; // Diameter of stroke\n",
"Db = 0.15;    // Diameter of bore\n",
"r = 0.2;\n",
"\n",
"//Calculations\n",
"A = %pi*(Db)^2/4;\n",
"a = %pi*(Dd)^2/4;\n",
"W= sqrt((H_at - Hs -  H_friction )*(2*d*g/(4*f*L)))*(a/A)*(%pi/r);\n",
"W_rev = W/(2*%pi)*60;  // maximum rotation speed in rev/min\n",
"\n",
"disp(W_rev-40, 'Increase in speed (rev/min):');"
   ]
   }
],
"metadata": {
		  "kernelspec": {
		   "display_name": "Scilab",
		   "language": "scilab",
		   "name": "scilab"
		  },
		  "language_info": {
		   "file_extension": ".sce",
		   "help_links": [
			{
			 "text": "MetaKernel Magics",
			 "url": "https://github.com/calysto/metakernel/blob/master/metakernel/magics/README.md"
			}
		   ],
		   "mimetype": "text/x-octave",
		   "name": "scilab",
		   "version": "0.7.1"
		  }
		 },
		 "nbformat": 4,
		 "nbformat_minor": 0
}
