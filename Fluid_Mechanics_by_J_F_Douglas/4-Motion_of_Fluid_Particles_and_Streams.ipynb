{
"cells": [
 {
		   "cell_type": "markdown",
	   "metadata": {},
	   "source": [
       "# Chapter 4: Motion of Fluid Particles and Streams"
	   ]
	},
{
		   "cell_type": "markdown",
		   "metadata": {},
		   "source": [
			"## Example 4.1: DISCHARGE_AND_MEAN_VELOCITY.sce"
		   ]
		  },
  {
"cell_type": "code",
	   "execution_count": null,
	   "metadata": {
	    "collapsed": true
	   },
	   "outputs": [],
"source": [
"clc;funcprot(0);\n",
"//Example 4.1\n",
"\n",
"//Initializing the variables\n",
"y = linspace(0,80,9);\n",
"x = [0 23 28 31 32 29 22 14 0];\n",
"xlabel('Velocity (m/s)');\n",
"ylabel('Distance from one side(mm)');\n",
"xgrid(1);\n",
"\n",
"//Calculations\n",
"plot(x,y,'-*');\n",
"mu=[17.5 26.0 29.6 31.9 30.7 25.4 18.1 7.7];\n",
"         // mean velocity\n",
"disp(mean(mu),'Mean velocity (m/s):');\n",
"\n",
"// the plot is attached as 4.1.png"
   ]
   }
,
{
		   "cell_type": "markdown",
		   "metadata": {},
		   "source": [
			"## Example 4.2: CONTINUITY_OF_FLOW.sce"
		   ]
		  },
  {
"cell_type": "code",
	   "execution_count": null,
	   "metadata": {
	    "collapsed": true
	   },
	   "outputs": [],
"source": [
"clc;funcprot(0);//Example 4.2\n",
"\n",
"//Initializing the variables all unknowns are assigned 0\n",
"\n",
"d = [0.05 0.075 0 0.030];\n",
"Q = [0 0 0 0];\n",
"V = [0 2 1.5 0];\n",
"//Calculations\n",
"A2 = %pi*d(2)^2/4;\n",
"Q(2) =A2*V(2);\n",
"Q = [Q(2) Q(2) Q(2)/1.5 0.5*Q(2)/1.5];\n",
"d(3) = (Q(3)*4/(V(3)*%pi))^0.5;\n",
"A = %pi*d^2/4;\n",
"V(1) = V(2)*(A(2)/A(1));\n",
"V(4)=Q(4)/A(4);\n",
"\n",
"disp([d*1000;A;Q;V]' , '! Diameter(mm)  Area(m2)   Flow Rate(m3/s) Velocity(m/s) !');   "
   ]
   }
,
{
		   "cell_type": "markdown",
		   "metadata": {},
		   "source": [
			"## Example 4.3: CONTINUITY_EQUATIONS_FOR_THREE_DIMENSIONAL_FLOW_USING_CARTESIAN_COORDINATES.sce"
		   ]
		  },
  {
"cell_type": "code",
	   "execution_count": null,
	   "metadata": {
	    "collapsed": true
	   },
	   "outputs": [],
"source": [
"clc;funcprot(0);\n",
"//Example 4.3\n",
"//Initializing the variables \n",
"vx= -poly(3,'x');\n",
"vy = 2*poly(-2,'x');\n",
"vz = -poly(2,'x'); \n",
"//Calculations\n",
"delVx = derivat(vx); \n",
"delVy = derivat(vy);\n",
"delVz = derivat(vz); \n",
"result = derivat(vx)+derivat(vy)+derivat(vz); //requirement of continuity equation (result = 0)\n",
"disp('Satisfy requirement of continuity ');\n",
" "
   ]
   }
],
"metadata": {
		  "kernelspec": {
		   "display_name": "Scilab",
		   "language": "scilab",
		   "name": "scilab"
		  },
		  "language_info": {
		   "file_extension": ".sce",
		   "help_links": [
			{
			 "text": "MetaKernel Magics",
			 "url": "https://github.com/calysto/metakernel/blob/master/metakernel/magics/README.md"
			}
		   ],
		   "mimetype": "text/x-octave",
		   "name": "scilab",
		   "version": "0.7.1"
		  }
		 },
		 "nbformat": 4,
		 "nbformat_minor": 0
}
