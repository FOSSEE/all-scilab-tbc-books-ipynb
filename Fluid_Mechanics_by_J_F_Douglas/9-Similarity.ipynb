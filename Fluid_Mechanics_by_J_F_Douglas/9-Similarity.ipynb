{
"cells": [
 {
		   "cell_type": "markdown",
	   "metadata": {},
	   "source": [
       "# Chapter 9: Similarity"
	   ]
	},
{
		   "cell_type": "markdown",
		   "metadata": {},
		   "source": [
			"## Example 9.1: MODEL_STUDIES_FOR_FLOWS_WITHOUT_A_FREE_SURFACE.sce"
		   ]
		  },
  {
"cell_type": "code",
	   "execution_count": null,
	   "metadata": {
	    "collapsed": true
	   },
	   "outputs": [],
"source": [
"clc;funcprot(0); //Example 9.1\n",
"\n",
"//Initializing the variables\n",
"Vp = 10;\n",
"LpByLm = 20;\n",
"rhoPbyRhoM = 1;\n",
"muPbymuM = 1;\n",
"//Calculations\n",
"Vm = Vp*LpByLm*rhoPbyRhoM*muPbymuM;\n",
" \n",
"disp(Vm, 'Mean water tunnel flow velocity (m/s):'); "
   ]
   }
,
{
		   "cell_type": "markdown",
		   "metadata": {},
		   "source": [
			"## Example 9.2: MODEL_STUDIES_FOR_FLOWS_WITHOUT_A_FREE_SURFACE.sce"
		   ]
		  },
  {
"cell_type": "code",
	   "execution_count": null,
	   "metadata": {
	    "collapsed": true
	   },
	   "outputs": [],
"source": [
"funcprot(0);clc; //Example 9.2 \n",
"\n",
"//Initializing the variables\n",
"Vp = 3;\n",
"LpByLm = 30;\n",
"rhoPbyRhoM = 1;\n",
"muPbymuM = 1;\n",
"\n",
"//Calculations\n",
"Vm = Vp*LpByLm*rhoPbyRhoM*muPbymuM;\n",
" \n",
"disp(Vm, 'Mean water tunnel flow velocity (m/s):');"
   ]
   }
,
{
		   "cell_type": "markdown",
		   "metadata": {},
		   "source": [
			"## Example 9.3: ZONE_OF_DEPENDENCE_OF_MACH_NUMBER.sce"
		   ]
		  },
  {
"cell_type": "code",
	   "execution_count": null,
	   "metadata": {
	    "collapsed": true
	   },
	   "outputs": [],
"source": [
"funcprot(0);clc; //Example 9.3 \n",
"\n",
"//Initializing the variables\n",
"Vp = 100;\n",
"cP = 340;\n",
"cM = 295;\n",
"rhoM = 7.7;\n",
"rhoP = 1.2;\n",
"muM = 1.8*10^-5;\n",
"muP = 1.2*10^-5;\n",
"\n",
"//Calculations\n",
"Vm = Vp*(cM/cP);\n",
"LmByLp = 1/((Vm/Vp)*(muM/muP)*(rhoM/rhoP));\n",
"FmByFp = (rhoM/rhoP)*(Vm/Vp)^2*(LmByLp)^2;\n",
"\n",
"disp(FmByFp*100, 'Percentage ratio of forces (%):',Vm, 'Mean wind tunnel flow velocity(m/s) :');"
   ]
   }
,
{
		   "cell_type": "markdown",
		   "metadata": {},
		   "source": [
			"## Example 9.4: SIGNIFICANCE_OF_THE_PRESSURE_COEFFICIENT.sce"
		   ]
		  },
  {
"cell_type": "code",
	   "execution_count": null,
	   "metadata": {
	    "collapsed": true
	   },
	   "outputs": [],
"source": [
"funcprot(0);clc; //Example 9.4 \n",
"\n",
"//Initializing the variables\n",
"function[Z] =pLossRatio(RatRho,RatMu,RatL)\n",
"    Z = RatRho*RatMu^2*RatL^2;\n",
"endfunction   \n",
"\n",
"//Calculations\n",
"//Case (a) : water is used\n",
"RatRho = 1;\n",
"RatMu = 1;\n",
"RatL = 10;\n",
"disp(pLossRatio(RatRho,RatMu,RatL), '(a)Ratio of pressure losses between the model and the prototype if water is used ');\n",
"\n",
"RatRho = 1000/1.23;\n",
"RatMu = 1.8*10^-5/10^-3;\n",
"\n",
"disp(pLossRatio(RatRho,RatMu,RatL), '(b)Ratio of pressure losses between the model and the prototype if air is used ');"
   ]
   }
,
{
		   "cell_type": "markdown",
		   "metadata": {},
		   "source": [
			"## Example 9.5: MODEL_STUDIES_IN_CASES_INVOLVING_FREE_SURFACE_FLOW.sce"
		   ]
		  },
  {
"cell_type": "code",
	   "execution_count": null,
	   "metadata": {
	    "collapsed": true
	   },
	   "outputs": [],
"source": [
"funcprot(0);clc; //Example 9.5 \n",
"\n",
"//Initializing the variables\n",
"scale = 1/50;\n",
"ratArea = scale^2;\n",
"Qp = 1200;\n",
"\n",
"//Calculations\n",
"LmByLp = sqrt(ratArea);\n",
"VmByVp = sqrt(LmByLp);\n",
"Qm = Qp*ratArea*VmByVp;\n",
"\n",
"disp(Qm, 'Water flow rate (m3/s ):');"
   ]
   }
,
{
		   "cell_type": "markdown",
		   "metadata": {},
		   "source": [
			"## Example 9.6: SIMILARITY_APPLIED_TO_ROTODYNAMIC_MACHINES.sce"
		   ]
		  },
  {
"cell_type": "code",
	   "execution_count": null,
	   "metadata": {
	    "collapsed": true
	   },
	   "outputs": [],
"source": [
"funcprot(0);clc; //Example 9.6 \n",
"\n",
"//Initializing the variables\n",
"Qa = 2;\n",
"Na = 1400;\n",
"rhoA = 0.92;\n",
"rhoS = 1.3;\n",
"DaByDs = 1;\n",
"dPa = 200;\n",
"\n",
"//Calculations\n",
"Ns = Na*(rhoA/rhoS)*(DaByDs);\n",
"Qs = Qa*(Ns/Na);\n",
"dPs = dPa *(rhoS/rhoA)*(Ns/Na)^2*(1/DaByDs)^2;\n",
"\n",
" disp(dPs,'Pressure rise(N/m2 ) :',Qs, 'Flow rate (m3/s):',Ns,'Fan test speed (rev/s):');"
   ]
   }
,
{
		   "cell_type": "markdown",
		   "metadata": {},
		   "source": [
			"## Example 9.8: RIVER_AND_HARBOUR_MODELS.sce"
		   ]
		  },
  {
"cell_type": "code",
	   "execution_count": null,
	   "metadata": {
	    "collapsed": true
	   },
	   "outputs": [],
"source": [
"funcprot(0);clc; //Example 9.8 \n",
"\n",
"//Initializing the variables\n",
"V = 300 ;// Volume rate\n",
"w = 3;\n",
"d = 65;\n",
"l = 30;\n",
"scaleH = 30/1000/18;\n",
"scaleV = 1/60;\n",
"ZmByZr = 1/60;\n",
"LmByLr = 1/600;\n",
"rho = 1000;\n",
"mu = 1.14*10^-3;\n",
"\n",
"//Calculations\n",
"Vr = V/(w*d); \n",
"Vm =Vr*sqrt(ZmByZr);\n",
"m = (w*d*scaleH*scaleV)/(d*scaleH + 2*w*scaleV);\n",
"Rem = rho*Vm*m/mu;\n",
"TmByTr = LmByLr*sqrt(1/ZmByZr);\n",
"Tm = 12.4*60*TmByTr;\n",
"\n",
"disp(Tm, 'Tidal Period (minutes):');"
   ]
   }
],
"metadata": {
		  "kernelspec": {
		   "display_name": "Scilab",
		   "language": "scilab",
		   "name": "scilab"
		  },
		  "language_info": {
		   "file_extension": ".sce",
		   "help_links": [
			{
			 "text": "MetaKernel Magics",
			 "url": "https://github.com/calysto/metakernel/blob/master/metakernel/magics/README.md"
			}
		   ],
		   "mimetype": "text/x-octave",
		   "name": "scilab",
		   "version": "0.7.1"
		  }
		 },
		 "nbformat": 4,
		 "nbformat_minor": 0
}
