{
"cells": [
 {
		   "cell_type": "markdown",
	   "metadata": {},
	   "source": [
       "# Chapter 11: Boundary Layer"
	   ]
	},
{
		   "cell_type": "markdown",
		   "metadata": {},
		   "source": [
			"## Example 11.1: EX11_1.sce"
		   ]
		  },
  {
"cell_type": "code",
	   "execution_count": null,
	   "metadata": {
	    "collapsed": true
	   },
	   "outputs": [],
"source": [
"clc; funcprot(0); //Example 11.1\n",
"\n",
"//Initializing the variables\n",
"rho = 860;\n",
"v = 10^-5;\n",
"Us = 3;\n",
"b = 1.25;\n",
"l = 2;\n",
"\n",
"//Calculations\n",
"x = 1; // At x =1 \n",
"Rex = Us*x/v;\n",
"ReL = Us*l/v ;\n",
"mu =  rho*v;\n",
"T0 = 0.332*mu*Us/x*Rex^0.5;\n",
"Cf = 1.33*ReL^-0.5;\n",
"F = rho*Us^2*l*b*Cf ;\n",
"\n",
"disp(F,'Total, double-sided resistance of the plate (N) :',T0,'Shear stress at mid-length(N/m2)');"
   ]
   }
,
{
		   "cell_type": "markdown",
		   "metadata": {},
		   "source": [
			"## Example 11.2: EX11_2.sce"
		   ]
		  },
  {
"cell_type": "code",
	   "execution_count": null,
	   "metadata": {
	    "collapsed": true
	   },
	   "outputs": [],
"source": [
"clc; funcprot(0); //Example 11.2\n",
"\n",
"//Initializing the variables\n",
"Us = 6;\n",
"b = 3;\n",
"l = 30;\n",
"rho = 1000;\n",
"mu = 10^-3;\n",
"T = 20+273; // Temperature in Kelvin\n",
"\n",
"//Calculations\n",
"1/mu;\n",
"ReL = rho*Us*l/mu; \n",
"Cf = 0.455*log10(ReL)^-2.58  ;\n",
"\n",
"F = rho*Us^2*l*b*Cf ;\n",
"Lt = 10^5*mu/(rho*Us); // Assuming transition at Rel = 10^5\n",
"disp(Lt,'Transition length (m) :',F/1000,'Total drag on the plate (kN):');"
   ]
   }
],
"metadata": {
		  "kernelspec": {
		   "display_name": "Scilab",
		   "language": "scilab",
		   "name": "scilab"
		  },
		  "language_info": {
		   "file_extension": ".sce",
		   "help_links": [
			{
			 "text": "MetaKernel Magics",
			 "url": "https://github.com/calysto/metakernel/blob/master/metakernel/magics/README.md"
			}
		   ],
		   "mimetype": "text/x-octave",
		   "name": "scilab",
		   "version": "0.7.1"
		  }
		 },
		 "nbformat": 4,
		 "nbformat_minor": 0
}
