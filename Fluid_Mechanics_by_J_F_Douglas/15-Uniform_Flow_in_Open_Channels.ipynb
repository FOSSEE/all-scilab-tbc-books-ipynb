{
"cells": [
 {
		   "cell_type": "markdown",
	   "metadata": {},
	   "source": [
       "# Chapter 15: Uniform Flow in Open Channels"
	   ]
	},
{
		   "cell_type": "markdown",
		   "metadata": {},
		   "source": [
			"## Example 15.1: RESISTANCE_FORMULAE_FOR_STEADY_UNIFORM_FLOW_IN_OPEN_CHANNELS.sce"
		   ]
		  },
  {
"cell_type": "code",
	   "execution_count": null,
	   "metadata": {
	    "collapsed": true
	   },
	   "outputs": [],
"source": [
"clc; funcprot(0);//Example 15.1\n",
"\n",
"//Initializing the variables\n",
"B =4;\n",
"D = 1.2;\n",
"C = 7.6;\n",
"n = 0.025;\n",
"s = 1/1800;\n",
"\n",
"//Calculations\n",
"W = B + 2*1.5*D;\n",
"A = D*(B+C)/2; // Area of parallelogram formed\n",
"P = B +2*1.2*sqrt(D^2 +(1.5D)^2);\n",
"m =A/P;\n",
"i=s;\n",
"C = (23+0.00155/i+1/n)/(1+(23+0.00155/i)*n/sqrt(m)); // By Kutter formula\n",
"Q1 = C*A*sqrt(m*i);\n",
"Q2 = A*(1/n)*m^(2/3)*sqrt(i);\n",
"disp(Q2,'Q using the Manning formula(m3/s) :',Q2,'Q using Chezy formula with C determined from the Kutter formula (m3/s) :');"
   ]
   }
,
{
		   "cell_type": "markdown",
		   "metadata": {},
		   "source": [
			"## Example 15.2: OPTIMUM_SHAPE_OF_CROSS_SECTION_FOR_UNIFORM_FLOW_IN_OPEN_CHANNELS.sce"
		   ]
		  },
  {
"cell_type": "code",
	   "execution_count": null,
	   "metadata": {
	    "collapsed": true
	   },
	   "outputs": [],
"source": [
"clc; funcprot(0);//Example 15.2 \n",
"\n",
"//Initializing the variables\n",
"Q = 0.5;\n",
"C = 80;\n",
"i = 1/2000;\n",
"\n",
"//Calculations\n",
"function[y] = f(D)\n",
"    y = (7/4)*C*D^(5/2)*sqrt(i/2) -Q;\n",
"endfunction\n",
"disp(fsolve(2,f), 'Optimum depth = Optimum Width (in metres):');"
   ]
   }
],
"metadata": {
		  "kernelspec": {
		   "display_name": "Scilab",
		   "language": "scilab",
		   "name": "scilab"
		  },
		  "language_info": {
		   "file_extension": ".sce",
		   "help_links": [
			{
			 "text": "MetaKernel Magics",
			 "url": "https://github.com/calysto/metakernel/blob/master/metakernel/magics/README.md"
			}
		   ],
		   "mimetype": "text/x-octave",
		   "name": "scilab",
		   "version": "0.7.1"
		  }
		 },
		 "nbformat": 4,
		 "nbformat_minor": 0
}
