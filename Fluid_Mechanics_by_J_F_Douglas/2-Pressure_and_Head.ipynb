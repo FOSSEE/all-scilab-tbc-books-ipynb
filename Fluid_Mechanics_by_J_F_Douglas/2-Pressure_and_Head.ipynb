{
"cells": [
 {
		   "cell_type": "markdown",
	   "metadata": {},
	   "source": [
       "# Chapter 2: Pressure and Head"
	   ]
	},
{
		   "cell_type": "markdown",
		   "metadata": {},
		   "source": [
			"## Example 2.10: RELATIVE_EQUILIBRIUM.sce"
		   ]
		  },
  {
"cell_type": "code",
	   "execution_count": null,
	   "metadata": {
	    "collapsed": true
	   },
	   "outputs": [],
"source": [
"clc ;funcprot(0);\n",
"//Example 2.10 \n",
"\n",
"//Initializing the variables\n",
"phi = 30; //30 degree\n",
"h = 1.2 ; // Height of tank\n",
"l = 2;    // Length of tank\n",
"\n",
"//Calculations\n",
"function[Theta]=SurfaceAngle(a,phi)\n",
"    Theta = atand(-a*cosd(phi)/(g+a*sind(phi)));\n",
"endfunction\n",
"\n",
"//case (a) a = 4\n",
"disp(tand(SurfaceAngle(4,phi)),'Tan of Angle between surface of fluid and horizontal :');\n",
"disp(180 + SurfaceAngle(4,phi),'ThetaA (degree):');\n",
"\n",
"//Case (b) a = - 4.5\n",
"tanThetaR = tand(SurfaceAngle(-4.5,phi));\n",
"disp(tanThetaR,'Tan of Angle between surface of fluid and horizontal :');\n",
"disp(SurfaceAngle(-4.5,phi),'ThetaR (degree):');\n",
"\n",
"Depth = h - l*tanThetaR/2;\n",
"disp(Depth,'Maximum Depth of tank (m):');"
   ]
   }
,
{
		   "cell_type": "markdown",
		   "metadata": {},
		   "source": [
			"## Example 2.1: VARIATION_OF_PRESSURE_VERTICALLY.sce"
		   ]
		  },
  {
"cell_type": "code",
	   "execution_count": null,
	   "metadata": {
	    "collapsed": true
	   },
	   "outputs": [],
"source": [
"clc ;funcprot(0);\n",
"//Example 2.1 \n",
"\n",
"//Initializing the variables\n",
"z1 = 0; //Taking Ground as reference\n",
"z2 = -30;//Depth\n",
"rho = 1025;//Density\n",
"g = 9.81;//Acceleration due to gravity\n",
"\n",
"//Calculation\n",
"pressureIncrease = -rho*g*(z2-z1);\n",
"disp(pressureIncrease/1000,'Increase in Pressure (KN/m2):');"
   ]
   }
,
{
		   "cell_type": "markdown",
		   "metadata": {},
		   "source": [
			"## Example 2.2: VARIATION_OF_PRESSURE_WITH_ALTITUDE.sce"
		   ]
		  },
  {
"cell_type": "code",
	   "execution_count": null,
	   "metadata": {
	    "collapsed": true
	   },
	   "outputs": [],
"source": [
"clc ;funcprot(0);\n",
"//Example 2.2 \n",
"\n",
"//Initializing the variables\n",
"p1 = 22.4*10^3;//Initial Pressure\n",
"z1 = 11000;//Initial Height\n",
"z2 = 15000;//final Height\n",
"g = 9.81;//Acceleration due to gravity\n",
"R = 287; //Gas Constant\n",
"T = 273-56.6;//Temperature \n",
"\n",
"//Calculations\n",
"p2 = p1*exp(-g*(z2-z1)/(R*T));\n",
"rho2=p2/(R*T);\n",
"disp(rho2,'Final Density (kg/m3) :',p2/1000,'Final Pressure (kN/m2):');"
   ]
   }
,
{
		   "cell_type": "markdown",
		   "metadata": {},
		   "source": [
			"## Example 2.3: VARIATION_OF_PRESSURE_WITH_ALTITUDE_IN_A_GAS_UNDER_ADIABATIC_CONDITIONS.sce"
		   ]
		  },
  {
"cell_type": "code",
	   "execution_count": null,
	   "metadata": {
	    "collapsed": true
	   },
	   "outputs": [],
"source": [
"clc ;funcprot(0);\n",
"//Example 2.3  \n",
"\n",
"//Initializing the variables\n",
"p1 = 101*10^3;//Initial Pressure\n",
"z1 = 0;//Initial Height\n",
"z2 = 1200;//Final Height\n",
"T1 = 15+273;//Initial Temperature\n",
"g = 9.81;//Acceleration due to gravity\n",
"gamma = 1.4;//Heat capacity ratio\n",
"R = 287;//Gas Constant\n",
"\n",
"//Calculations\n",
"p2 = p1*(1-g*(z2-z1)*(gamma-1)/(gamma*R*T1))^(gamma/(gamma-1));\n",
"dT_dZ = -(g/R)*((gamma-1)/gamma);\n",
"T2 = T1 + dT_dZ*(z2-z1);\n",
"disp(T2-273,'Density at 1200 m (in degree celcius) :',p2/1000,'Final Pressure(kN/m2) :');"
   ]
   }
,
{
		   "cell_type": "markdown",
		   "metadata": {},
		   "source": [
			"## Example 2.4: EX2_4.sce"
		   ]
		  },
  {
"cell_type": "code",
	   "execution_count": null,
	   "metadata": {
	    "collapsed": true
	   },
	   "outputs": [],
"source": [
"clc ;funcprot(0);\n",
"//Example 2.4 \n",
"\n",
"//Initializing the variables\n",
"p1 = 101*10^3;//Initial Pressure\n",
"z1 = 0;//Initial Height\n",
"z2 = 7000;//Final Height\n",
"T1 = 15+273;//Initial Temperature\n",
"g = 9.81;//Acceleration due to gravity\n",
"R = 287;//Gas Constant\n",
"dT = 6.5/1000;//Rate of Variation of Temperature\n",
"\n",
"//Calculations\n",
"p2 = p1*(1-dT*(z2-z1)/T1)^(g/(R*dT));\n",
"T2 = T1 - dT*(z2-z1);\n",
"rho2 = p2/(R*T2);\n",
"disp(rho2,'Final Density (kg/m3 ):',p2/1000,'Final Pressure (kN/m2) :');"
   ]
   }
,
{
		   "cell_type": "markdown",
		   "metadata": {},
		   "source": [
			"## Example 2.5: PRESSURE_AND_HEAD.sce"
		   ]
		  },
  {
"cell_type": "code",
	   "execution_count": null,
	   "metadata": {
	    "collapsed": true
	   },
	   "outputs": [],
"source": [
"clc ;funcprot(0);\n",
"//Example 2.5 \n",
"\n",
"//Initializing the variables\n",
"p = 350*10^3;      //Gauge Pressure\n",
"pAtm = 101.3*10^3;  //Atmospheric Pressure  \n",
"rhoW = 1000;        //Density of Water\n",
"sigma = 13.6;      //Relative Density of Mercury\n",
"g = 9.81;//Acceleration due to gravity\n",
"\n",
"//Calculations\n",
"function[head]=Head(rho)\n",
"    head = p/(rho*g);\n",
"endfunction\n",
"rhoM = sigma*rhoW;\n",
"pAbs = p + pAtm;\n",
"\n",
"disp(pAbs/1000,'Absolute pressure(kN/m2)',Head(rhoM),'Equivalent head of water (m):','Part (b)',Head(rhoW),'Equivalent head of water (m) :','Part (a)' );"
   ]
   }
,
{
		   "cell_type": "markdown",
		   "metadata": {},
		   "source": [
			"## Example 2.6: PRESSURE_MEASUREMENT_BY_MANOMETER.sce"
		   ]
		  },
  {
"cell_type": "code",
	   "execution_count": null,
	   "metadata": {
	    "collapsed": true
	   },
	   "outputs": [],
"source": [
"clc ;funcprot(0);\n",
"//Example 2.6  \n",
"\n",
"//Initializing the variables\n",
"rho = 10^3;        //Density of water\n",
"h = 2;            //Height\n",
"g = 9.81;            //Acceleration due to gravity\n",
"\n",
"//Calculations\n",
"p=rho*h*g; \n",
"disp(p/1000,'Gauge pressure (k/m2) :');"
   ]
   }
,
{
		   "cell_type": "markdown",
		   "metadata": {},
		   "source": [
			"## Example 2.7: PRESSURE_MEASUREMENT_BY_MANOMETER.sce"
		   ]
		  },
  {
"cell_type": "code",
	   "execution_count": null,
	   "metadata": {
	    "collapsed": true
	   },
	   "outputs": [],
"source": [
"clc ;funcprot(0);\n",
"//Example 2.7 \n",
"\n",
"//Initializing the variables\n",
"rho = 0.8*10^3;    //Density of fluid\n",
"rhoM = 13.6*10^3;    //Density of manometer liquid\n",
"g = 9.81;//Acceleration due to gravity\n",
"\n",
"//Calculations\n",
"function[P]=fluidPressure(h1,h2)\n",
"    P = rhoM*g*h2-rho*g*h1;\n",
"endfunction\n",
"\n",
"disp(fluidPressure(0.1,-0.2)/1000,'Gauge pressure (kN/m2):','!-----Part (b)-----!',fluidPressure(0.5,0.9)/1000,'Gauge pressure (kN/m2):','!-----Part (a)-----!');"
   ]
   }
,
{
		   "cell_type": "markdown",
		   "metadata": {},
		   "source": [
			"## Example 2.8: PRESSURE_MEASUREMENT_BY_MANOMETER.sce"
		   ]
		  },
  {
"cell_type": "code",
	   "execution_count": null,
	   "metadata": {
	    "collapsed": true
	   },
	   "outputs": [],
"source": [
"clc ;funcprot(0);\n",
"//Example 2.8 \n",
"\n",
"//Initializing the variables\n",
"rho = 10^3;    //Density of fluid\n",
"rhoM = 13.6*10^3;    //Density of manometer liquid\n",
"g = 9.81;    //Acceleration due to gravity\n",
"H = 0.3;    // Differnce in height = b-a as in text\n",
"h = 0.7;\n",
"\n",
"//Calculations\n",
"result = rho*g*H + h*g*(rhoM-rho);\n",
"disp( result/1000,'Pressure difference (kN/m2):');"
   ]
   }
,
{
		   "cell_type": "markdown",
		   "metadata": {},
		   "source": [
			"## Example 2.9: PRESSURE_MEASUREMENT_BY_MANOMETER.sce"
		   ]
		  },
  {
"cell_type": "code",
	   "execution_count": null,
	   "metadata": {
	    "collapsed": true
	   },
	   "outputs": [],
"source": [
"clc ;funcprot(0);\n",
"//Example 2.9\n",
"\n",
"//Initializing the variables\n",
"rho = 10^3;    //Density of fluid\n",
"rhoM = 0.8*10^3;    //Density of manometer liquid\n",
"g = 9.81;    //Acceleration due to gravity\n",
"a = 0.25;\n",
"b = 0.15;\n",
"h = 0.3;\n",
"//Calculations\n",
"function[P]=PressureDiff(a,b,h,rho,rhoM)\n",
"    P = rho*g*(b-a) + h*g*(rho-rhoM);\n",
"endfunction\n",
"\n",
"disp(PressureDiff(a,b,h,rho,rhoM),'Pressure Differnece(N/m2):','!-----Part (b)-----!',PressureDiff(a,b,h,rho,0)/1000,'Pressure Differnece(kN/m2):','!-----Part (a): rhoM is negligible assuming zero-----!');"
   ]
   }
],
"metadata": {
		  "kernelspec": {
		   "display_name": "Scilab",
		   "language": "scilab",
		   "name": "scilab"
		  },
		  "language_info": {
		   "file_extension": ".sce",
		   "help_links": [
			{
			 "text": "MetaKernel Magics",
			 "url": "https://github.com/calysto/metakernel/blob/master/metakernel/magics/README.md"
			}
		   ],
		   "mimetype": "text/x-octave",
		   "name": "scilab",
		   "version": "0.7.1"
		  }
		 },
		 "nbformat": 4,
		 "nbformat_minor": 0
}
