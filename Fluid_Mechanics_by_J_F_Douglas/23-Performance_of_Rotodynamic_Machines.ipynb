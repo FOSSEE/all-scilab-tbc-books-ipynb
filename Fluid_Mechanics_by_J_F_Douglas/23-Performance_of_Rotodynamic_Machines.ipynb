{
"cells": [
 {
		   "cell_type": "markdown",
	   "metadata": {},
	   "source": [
       "# Chapter 23: Performance of Rotodynamic Machines"
	   ]
	},
{
		   "cell_type": "markdown",
		   "metadata": {},
		   "source": [
			"## Example 23.1: DIMENSIONLESS_COEFFICIENTS_AND_SIMILARITY_LAWS.sce"
		   ]
		  },
  {
"cell_type": "code",
	   "execution_count": null,
	   "metadata": {
	    "collapsed": true
	   },
	   "outputs": [],
"source": [
"clc; funcprot(0); //Example 23.1\n",
"\n",
"//Initializing the variables\n",
"Q = [0:7:56];\n",
"H = [40 40.6 40.4 39.3 38 33.6 25.6 14.5 0];\n",
"n = [0 41 60 74 83 83 74 51 0];\n",
"N1 = 750;\n",
"N2 = 1450;\n",
"D1 = 0.5;\n",
"D2 = 0.35;\n",
"\n",
"//Calculations\n",
"Q2 = Q*(N2/N1)*(D2/D1)^3;\n",
"H2 = H*(N2/N1)^2*(D2/D1)^2;\n",
"xlabel('Q (m3/s)');\n",
"ylabel('H (m of water )and n(percent)');\n",
"plot(Q,H,Q,n,Q2,H2,Q2,n);\n",
"\n",
"legend('H1','n1','H2','n2');"
   ]
   }
,
{
		   "cell_type": "markdown",
		   "metadata": {},
		   "source": [
			"## Example 23.2: THE_PELTON_WHEEL.sce"
		   ]
		  },
  {
"cell_type": "code",
	   "execution_count": null,
	   "metadata": {
	    "collapsed": true
	   },
	   "outputs": [],
"source": [
"clc; funcprot(0); //Example 23.2 \n",
"\n",
"//Initializing the variables\n",
"n = 0.9;\n",
"g = 9.81;\n",
"D = 1.45;\n",
"N = 375/60;\n",
"H = 200; // Real height\n",
"x = 165; // Theta\n",
"P = 3750*10^3;\n",
"rho = 1000;\n",
"\n",
"//Calculations\n",
"h = n*H;         //Effective Head\n",
"v1 = sqrt(2*g*h);\n",
"u = %pi*D*N;\n",
"\n",
"n_a = (2*u/v1^2)*(v1-u)*(1-n*cosd(x));\n",
"\n",
"P_b = P/n_a;\n",
"ppj = P_b/2; // Power per jet\n",
"d = sqrt(8*ppj/(rho*%pi*v1^3)) ;\n",
"\n",
"disp(d,'Diameter of Jet (m) :',n_a*100, 'E fficiency (%) :')"
   ]
   }
,
{
		   "cell_type": "markdown",
		   "metadata": {},
		   "source": [
			"## Example 23.3: FRANCIS_TURBINES.sce"
		   ]
		  },
  {
"cell_type": "code",
	   "execution_count": null,
	   "metadata": {
	    "collapsed": true
	   },
	   "outputs": [],
"source": [
" clc; funcprot(0); //Example 23.3 \n",
"\n",
"//Initializing the variables\n",
"g = 9.81;\n",
"H = 12;\n",
"n = 0.8;\n",
"w = 300*2*%pi/60;\n",
"Q = 0.28;\n",
"\n",
"//Calculations\n",
"V_f1 = 0.15*sqrt(2*g*H);\n",
"V_f2 =V_f1;\n",
"V_w1 = sqrt(n*g*H);\n",
"u1 = V_w1;\n",
"theta = atand(V_f1/u1);\n",
"u2 =0.5*u1;\n",
"B2 = atand(V_f2/u2);\n",
"r1 = u1/w;\n",
"b1 = Q/(V_f2*0.9*2*%pi*r1); // vanes occupy 10 per cent of the circumference hence 0.9\n",
"b2 = 2*b1;\n",
"\n",
"disp(b2*1000,'Width of runner at exit(mm) :', b1*1000,'Width of runner at inlet (mm) :', B2, 'Vane angle at exit (degree) :',theta, 'Guide vane angle (degree) :');"
   ]
   }
,
{
		   "cell_type": "markdown",
		   "metadata": {},
		   "source": [
			"## Example 23.4: AXIAL_FLOW_TURBINES.sce"
		   ]
		  },
  {
"cell_type": "code",
	   "execution_count": null,
	   "metadata": {
	    "collapsed": true
	   },
	   "outputs": [],
"source": [
"clc; funcprot(0);//Example 23.4\n",
"\n",
"//Initializing the variables\n",
"H = 35;\n",
"g = 9.81;\n",
"D = 2;\n",
"N = 145/60;\n",
"z = 30; // angle between vanes and direction of runner rotation\n",
"y = 28; // angle between runner blades at the outlet.\n",
"\n",
"//Calculations\n",
"H_net = 0.93*H ; // since 7% head is lost\n",
"v1 = sqrt(2*g*H_net);\n",
"u = %pi*N*D;\n",
"V_r2 = u*cosd(y);\n",
"V2= u*sind(y);\n",
"V_w2 = V2*sind(y);\n",
"\n",
"// Function to solve the vector for Vr1 and B1 by just re writing the parallelogram law in arranged form\n",
"function[f] = F(x)\n",
"    f(1) = u^2 + x(1)^2 + 2*u*x(1)*cosd(x(2))-v1^2;\n",
"    f(2) = x(1)*sind(x(2)) - tand(z)*(u + x(1)*cosd(x(2)));      \n",
"endfunction\n",
"X = [10  50]; // An innitial guess of vector length and angle by figure\n",
"result=fsolve(X,F);\n",
"V_r1 =result(1);\n",
"B1 = result(2);\n",
"V_w1 = u + V_r1*cosd(B1)\n",
"E = (u/g)*(V_w1 - V_w2);\n",
"n = E/H;\n",
"disp(n*100,'Efficiency (%):',B1, 'Blade angle at inlet (Degree) :' ); "
   ]
   }
,
{
		   "cell_type": "markdown",
		   "metadata": {},
		   "source": [
			"## Example 23.5: HYDRAULIC_TRANSMISSIONS.sce"
		   ]
		  },
  {
"cell_type": "code",
	   "execution_count": null,
	   "metadata": {
	    "collapsed": true
	   },
	   "outputs": [],
"source": [
"clc; funcprot(0);\n",
"// Example 23.5\n",
"\n",
"//Initializing the variables\n",
"s = 0.03;\n",
"P = 185*10^3;\n",
"rho = 0.86*10^3;\n",
"A = 2.8*10^-2;\n",
"N = 2250/60;\n",
"D = 0.46;\n",
"\n",
"//Calculations\n",
"R0 = 0.46/2;\n",
"Ws_Wp = 1-s;\n",
"n = Ws_Wp;\n",
"Pf = s*P;\n",
"Q = (2*Pf*A^2/(3.5*rho))^(1/3);\n",
"Wp = 2*%pi*N; \n",
"Ri = sqrt((1/Ws_Wp)*(R0^2 -P/(rho*Q*Wp^2))); // Modified equation for power transmission.\n",
"Di = 2*Ri;\n",
"T = P/(rho*Wp^3 *D^5);\n",
" \n",
"disp(T,'Torque Coefficient :', Di*1000,'Mean diameter (mm) : ');"
   ]
   }
],
"metadata": {
		  "kernelspec": {
		   "display_name": "Scilab",
		   "language": "scilab",
		   "name": "scilab"
		  },
		  "language_info": {
		   "file_extension": ".sce",
		   "help_links": [
			{
			 "text": "MetaKernel Magics",
			 "url": "https://github.com/calysto/metakernel/blob/master/metakernel/magics/README.md"
			}
		   ],
		   "mimetype": "text/x-octave",
		   "name": "scilab",
		   "version": "0.7.1"
		  }
		 },
		 "nbformat": 4,
		 "nbformat_minor": 0
}
