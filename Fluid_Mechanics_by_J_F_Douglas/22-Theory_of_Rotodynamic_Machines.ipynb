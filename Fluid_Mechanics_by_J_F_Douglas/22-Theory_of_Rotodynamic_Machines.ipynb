{
"cells": [
 {
		   "cell_type": "markdown",
	   "metadata": {},
	   "source": [
       "# Chapter 22: Theory of Rotodynamic Machines"
	   ]
	},
{
		   "cell_type": "markdown",
		   "metadata": {},
		   "source": [
			"## Example 22.1: ONE_DIMENSIONAL_THEORY.sce"
		   ]
		  },
  {
"cell_type": "code",
	   "execution_count": null,
	   "metadata": {
	    "collapsed": true
	   },
	   "outputs": [],
"source": [
" clc; funcprot(0); //Example 22.1\n",
"\n",
"//Initializing the variables\n",
"Q = 5;\n",
"R1 = 1.5/2;\n",
"R2 = 2/2; \n",
"w = 18;\n",
"rho = 1000;\n",
"rhoA = 1.2;\n",
"Hth = 0.017;\n",
"g=9.81;\n",
"\n",
"//Calculations\n",
"A = %pi*(R2^2-R1^2);\n",
"Vf = Q/A;\n",
"Ut = w*R2;\n",
"Uh = w*R1;\n",
"B1t = acotd(Ut/Vf);\n",
"B1h = acotd(Uh/Vf);\n",
"E = Hth*rho/rhoA;\n",
"function[y] = Beta(u)\n",
"    y = acotd((u-E*g/u)/Vf);\n",
"endfunction\n",
"B2t = Beta(Ut); \n",
"B2h = Beta(Uh);\n",
"\n",
"disp(B2h,'At Hub :',B2t,'At tip :','!----Blade Outlet Angles (Degrees)----!',B1h,'At Hub :',B1t,'At tip :','!----Blade Inlet Angles----!');"
   ]
   }
,
{
		   "cell_type": "markdown",
		   "metadata": {},
		   "source": [
			"## Example 22.2: DEPARTURES_FROM_EULERS_THEORY_AND_LOSSES.sce"
		   ]
		  },
  {
"cell_type": "code",
	   "execution_count": null,
	   "metadata": {
	    "collapsed": true
	   },
	   "outputs": [],
"source": [
"clc; funcprot(0); //Example 22.2\n",
"\n",
"//Initializing the variables\n",
"D = 0.1;\n",
"t = 15*10^-3;\n",
"Q = 8.5/3600;\n",
"N = 750/60;\n",
"B2 = 25; // Beta 2 ind degrees\n",
"g = 9.81;\n",
"z = 16;\n",
"\n",
"//Calculations\n",
"A = %pi*D*t;\n",
"V_f2 = Q/A;\n",
"U2 = %pi*N*D;\n",
"V_w2 = U2 - V_f2*cotd(B2);\n",
"Hth = U2*V_w2/g;\n",
"Sf = 1 - %pi*sind(B2)/(z*(1-(V_f2/U2)*cotd(B2)));\n",
"H = Sf*Hth;\n",
"\n",
"disp(H, 'Part (b) - Head developed (m): ',Hth, 'Part (a) - Head developed (m): ');"
   ]
   }
,
{
		   "cell_type": "markdown",
		   "metadata": {},
		   "source": [
			"## Example 22.3: COMPRESSIBLE_FLOW_THROUGH_ROTODYNAMIC_MACHINES.sce"
		   ]
		  },
  {
"cell_type": "code",
	   "execution_count": null,
	   "metadata": {
	    "collapsed": true
	   },
	   "outputs": [],
"source": [
"clc; funcprot(0); //Example 22.3. \n",
"\n",
"//Initializing the variables\n",
"Ma = 0.6;\n",
"Cl = 0.6;\n",
"tByC = 0.035; // Thickness to chord ratio\n",
"cByC = 0.015; // Camber to chord ratio\n",
"x = 3; // Angle of incidence\n",
"\n",
"//Calculations\n",
"lamda = 1/sqrt(1-Ma^2);\n",
"Cl# = lamda*Cl;\n",
"tByC1 = tByC*lamda;\n",
"cByC1 = cByC*lamda;\n",
"Cl1 = Cl*lamda^2;\n",
"Ae = x*lamda;\n",
"\n",
"disp(Ae,'angle of incidence (Degree) :', Cl1, 'Lift Coefficient :',cByC1, 'Camber to chord ratio :',tByC1,'Thickness to chord ratio :','____Geometric Characterstics____' );"
   ]
   }
],
"metadata": {
		  "kernelspec": {
		   "display_name": "Scilab",
		   "language": "scilab",
		   "name": "scilab"
		  },
		  "language_info": {
		   "file_extension": ".sce",
		   "help_links": [
			{
			 "text": "MetaKernel Magics",
			 "url": "https://github.com/calysto/metakernel/blob/master/metakernel/magics/README.md"
			}
		   ],
		   "mimetype": "text/x-octave",
		   "name": "scilab",
		   "version": "0.7.1"
		  }
		 },
		 "nbformat": 4,
		 "nbformat_minor": 0
}
