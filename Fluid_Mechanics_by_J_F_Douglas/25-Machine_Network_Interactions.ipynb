{
"cells": [
 {
		   "cell_type": "markdown",
	   "metadata": {},
	   "source": [
       "# Chapter 25: Machine Network Interactions"
	   ]
	},
{
		   "cell_type": "markdown",
		   "metadata": {},
		   "source": [
			"## Example 25.11: VENTILATION_AND_AIRBORNE_CONTAMINATION_AS_A_CRITERION_FOR_FAN_SELECTION.sce"
		   ]
		  },
  {
"cell_type": "code",
	   "execution_count": null,
	   "metadata": {
	    "collapsed": true
	   },
	   "outputs": [],
"source": [
"clc; funcprot(0);\n",
"//Example 25.11 \n",
"\n",
"//Initializing the variables\n",
"Co = 0;\n",
"Qc = 0.0024;\n",
"V = 5400;\n",
"c = 10;\n",
"//Calculations\n",
"function[y] =  partA(n)\n",
"    Ci = 10;\n",
"    t = 10^1000; // infinity (a very large number)\n",
"    Q = V*n/3600;\n",
"    y =  (Co + 10000*Qc/Q)*(1-%e^(-n*t)) + Ci*%e^(-n*t) - c;\n",
"endfunction  \n",
"\n",
"Sol_A = fsolve(1,partA);\n",
"\n",
"function[y] =  partB(n)\n",
"    Ci = 0;\n",
"    t = 1; // time in hours\n",
"    Q = V*n/3600;\n",
"    A = Co + 10000*Qc/Q; \n",
"    B = Ci*%e^(-n*t) - c;\n",
"    y =  A*(1-%e^(-n*t)) + B;\n",
"endfunction  \n",
"\n",
"Sol_B = fsolve(1,partB); \n",
"\n",
"function[y] =  partC(c)\n",
"    Ci = 0;\n",
"    n = 1;\n",
"    t = 0.333333; // 20 minutes in hours\n",
"    Q = V*n/3600;\n",
"    y =  (Co + 10000*Qc/Q)*(1-%e^(-n*t)) + Ci*%e^(-n*t) - c; \n",
"endfunction  \n",
"\n",
"Sol_C = fsolve(1,partC);\n",
"\n",
"function[y] =  partD(t)\n",
"    Ci = 10;\n",
"    n = 1; \n",
"    c = 0.1;\n",
"    y = Ci*%e^(-n*t) - c; \n",
"endfunction  \n",
"\n",
"Sol_D = fsolve(0.001 , partD);\n",
"\n",
"\n",
"disp(Sol_D,'Part(D) : time necessary to run the ventilation system at the rate calculated in (b) to reduce the concentration to 0.001 per cent (in hours) :', Sol_C,'Part(C) :the concentration after 20 minutes (Parts per 10000) :',Sol_B,'Part(B) : number of air changes per hour if this maximum level is reached after 1 hour and the garage is out of use :' , Sol_A,'Part(A) : number of air changes per hour if the garage is in continuous use and the maximum permissible concentration of carbon monoxide is 0.1 per cent. :');"
   ]
   }
,
{
		   "cell_type": "markdown",
		   "metadata": {},
		   "source": [
			"## Example 25.1: FANS_PUMPS_AND_FLUID_NETWORKS.sce"
		   ]
		  },
  {
"cell_type": "code",
	   "execution_count": null,
	   "metadata": {
	    "collapsed": true
	   },
	   "outputs": [],
"source": [
"clc; funcprot(0);\n",
"\n",
"//-----------------------Important Note-------------------------------//\n",
"// Please keep intersectFunc.sci in the same folder in which this file//\n",
"// is kept and change the current working directory to the directory  //\n",
"// in which both the files are kept  using chdir 'absolute path'      //\n",
"//--------------------------------------------------------------------// \n",
"\n",
"\n",
"//Example 25.1\n",
"\n",
"//Initializing the variables\n",
"exec('intersectFunc.sci');\n",
"Q =[0.010 0.014 0.017 0.019 0.024]';\n",
"H = [9.5 8.7 7.4 6.1 0.9]';\n",
"n = [65 81 78 68 12]';\n",
"d = 0.15;\n",
"mu = 1.14*10^-3;\n",
"rho = 1000;\n",
"g = 9.81;\n",
"\n",
"//Calculations\n",
"E1 = 3+9218*Q^2; // f = 0.0025 from moody chart\n",
"Q1 = intersectFunc(H,E1,Q); \n",
"v1 = 4*Q1/(%pi*d^2);\n",
"Re1 = rho*v1*d/mu;\n",
"E2 = 3+15486*Q^2;  // s ince f = 0.0042\n",
"Q2 = intersectFunc(H,E2,Q);\n",
"n = 0.78; // efficiency at Q2 from graph\n",
"H1 = 7.45; // From Graph\n",
"P = rho*g*H1*Q2/n;\n",
"\n",
"title('Example 25.1');\n",
"xlabel('Q (m3/s):');\n",
"ylabel('H(m)');\n",
"plot(Q,H, Q,E1,Q,E2);\n",
"legend('H','E1','E2');\n",
"\n",
"disp(P/100, 'Power consumed (kW) :', Q2,'Flow betwen the reservoirs (m3/s) :');"
   ]
   }
,
{
		   "cell_type": "markdown",
		   "metadata": {},
		   "source": [
			"## Example 25.4: AN_APPLICATION_OF_THE_STEADY_FLOW_ENERGY_EQUATION.sce"
		   ]
		  },
  {
"cell_type": "code",
	   "execution_count": null,
	   "metadata": {
	    "collapsed": true
	   },
	   "outputs": [],
"source": [
"clc; funcprot(0);\n",
"// Example 25.4 \n",
"\n",
"//Initializing the variables\n",
"Pa_P1 = -200; // From previous Question\n",
"Q = 1.4311 ; // From previous questions.\n",
"\n",
"//Calculations\n",
"DpSys = Pa_P1 + 98.9*Q^2;\n",
"disp(DpSys,'System Operating point (m3/s):');"
   ]
   }
,
{
		   "cell_type": "markdown",
		   "metadata": {},
		   "source": [
			"## Example 25.7: JET_FANS.sce"
		   ]
		  },
  {
"cell_type": "code",
	   "execution_count": null,
	   "metadata": {
	    "collapsed": true
	   },
	   "outputs": [],
"source": [
"clc; funcprot(0);\n",
"//Example 25.7 \n",
"\n",
"//Initializing the variables\n",
"Vo = 25.3;         //Outlet velocity\n",
"D = 10 ;             // Mean hydraulic diameter\n",
"f = 0.008;            // friction factor\n",
"X = 1000;             // Length of road\n",
"P = 12600;            // Absorbing power\n",
"Va = 300;            // Tunnel air flow\n",
"K1 = 0.96;\n",
"K2 = 0.9;\n",
"T = 590;             //Thrust\n",
"rho = 1.2;            // Air density \n",
"\n",
"//Calculations\n",
"alpha = (1/D)^2;\n",
"A = %pi*D^2/4;    // Area of tunnel\n",
"Vt = Va/A;\n",
"W = Vo/Vt;         //Omega\n",
"E = (1-alpha*W);\n",
"C = (1-alpha*W)*(1-E)^2 + E^2 - 1;\n",
"// Manipulating equation 25.20;\n",
"LHS = f*X*(E+1)^2/D + C + 1 ;\n",
"n = poly(0,'n');\n",
"RHS = K1*(2*((alpha*W^2 + (1-alpha)*E^2-1)+(n-1)*(alpha*W*(W-1)-C/2)));\n",
"Equation = RHS -LHS;\n",
"roots(Equation);\n",
"\n",
"// Alternative approach using equation 25.22\n",
"n = (rho*((4*f*X*Vt^2)/(2*D)  + 1.5*Vt^2/2))*A/(K1*K2*T); \n",
"Pt = round(n)*P;\n",
"disp(Pt/1000,'Total  power consumed (KW) :', round(n), 'Number of fans required :');"
   ]
   }
,
{
		   "cell_type": "markdown",
		   "metadata": {},
		   "source": [
			"## Example 25.8: JET_FANS.sce"
		   ]
		  },
  {
"cell_type": "code",
	   "execution_count": null,
	   "metadata": {
	    "collapsed": true
	   },
	   "outputs": [],
"source": [
"clc; funcprot(0);\n",
"//Example 25.8\n",
"\n",
"//Initializing the variables\n",
"f = 0.008;\n",
"T = 290;\n",
"L = 750;\n",
"Dt = 9;         // Diameter Tunnel\n",
"Df = 0.63;        // Diameter fan\n",
"K1 = 0.98;\n",
"K2 = 0.92;\n",
"Vo = 27.9;\n",
"n = 10;\n",
"\n",
"//Calculations\n",
"alpha = (Df/Dt)^2;\n",
"// equation 25.20 becomes when E = 1 nad C = 0\n",
"W = poly(0,'W' );\n",
"Equation = 2*K1* (alpha*W^2 +(n-1)*alpha*W*(W-1)) - 4*f*L/Dt -1;\n",
"omega  = roots(Equation);\n",
"     for(i = 1:length(omega))\n",
"         if(real(omega(i))>0) then // since omega is always positive and real\n",
"              w = omega(i);\n",
"         end,\n",
"     end  \n",
"Vt = Vo/w;\n",
"disp(Vt, 'Tunnel Velocity(m/s) :');"
   ]
   }
,
{
		   "cell_type": "markdown",
		   "metadata": {},
		   "source": [
			"## Example 25.9: CAVITATION_IN_PUMPS_AND_TURBINES.sce"
		   ]
		  },
  {
"cell_type": "code",
	   "execution_count": null,
	   "metadata": {
	    "collapsed": true
	   },
	   "outputs": [],
"source": [
"clc; funcprot(0);\n",
"//Example 25.9\n",
"\n",
"//Initializing the variables\n",
"Ws = 0.45;\n",
"Ks = 3.2;\n",
"H = 152;\n",
"h = 0;\n",
"Hatm = 10.3;\n",
"Pv = 350;     //vapour pressure\n",
"g = 9.81;\n",
"rho = 1000;\n",
"  \n",
"//Calculations\n",
"Ht1 = H*(Ws/Ks)^(4/3)\n",
"Hvap = Pv/(rho*g);\n",
"Z = Hatm -h -Hvap -Ht1;\n",
"disp(Z,'Elevation of pump (m):'); "
   ]
   }
],
"metadata": {
		  "kernelspec": {
		   "display_name": "Scilab",
		   "language": "scilab",
		   "name": "scilab"
		  },
		  "language_info": {
		   "file_extension": ".sce",
		   "help_links": [
			{
			 "text": "MetaKernel Magics",
			 "url": "https://github.com/calysto/metakernel/blob/master/metakernel/magics/README.md"
			}
		   ],
		   "mimetype": "text/x-octave",
		   "name": "scilab",
		   "version": "0.7.1"
		  }
		 },
		 "nbformat": 4,
		 "nbformat_minor": 0
}
