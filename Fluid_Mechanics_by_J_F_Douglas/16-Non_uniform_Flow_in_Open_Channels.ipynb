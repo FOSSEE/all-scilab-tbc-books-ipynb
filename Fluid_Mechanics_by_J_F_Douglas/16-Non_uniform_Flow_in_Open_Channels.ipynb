{
"cells": [
 {
		   "cell_type": "markdown",
	   "metadata": {},
	   "source": [
       "# Chapter 16: Non uniform Flow in Open Channels"
	   ]
	},
{
		   "cell_type": "markdown",
		   "metadata": {},
		   "source": [
			"## Example 16.2: EFFECT_OF_LATERAL_CONTRACTION_OF_A_CHANNEL.sce"
		   ]
		  },
  {
"cell_type": "code",
	   "execution_count": null,
	   "metadata": {
	    "collapsed": true
	   },
	   "outputs": [],
"source": [
"clc; funcprot(0);//Example 16.2 \n",
"\n",
"//Initializing the variables\n",
"B = [1.4 0.9];\n",
"D = [0.6 0.32];\n",
"g = 9.81;\n",
"h = 0.03;\n",
"Z = 0.25; \n",
"\n",
"//Calculations\n",
"Q1 = B(2)*D(2)*sqrt(2*g*h/(1-(B(2)*D(2)/B(1)*D(1))^2))\n",
"E = D(1)-Z;\n",
"Q2 = 1.705*B(2)*E^1.5;\n",
"disp(Q2 , 'Volume flow rate (m3/s) :');"
   ]
   }
,
{
		   "cell_type": "markdown",
		   "metadata": {},
		   "source": [
			"## Example 16.3: CLASSIFICATION_OF_WATER_SURFACE_PROFILES.sce"
		   ]
		  },
  {
"cell_type": "code",
	   "execution_count": null,
	   "metadata": {
	    "collapsed": true
	   },
	   "outputs": [],
"source": [
"clc; funcprot(0); //Example 16.3 \n",
"\n",
"//Initializing the variables\n",
"a =0.5;\n",
"b = 0.5;\n",
"Dn = 1.2;\n",
"s = 1/1000;\n",
"C = 55;\n",
"g = 9.81;\n",
"\n",
"//Calculations\n",
"c = (1 + a)/b; \n",
"QbyB = Dn*C*sqrt(Dn*s);\n",
"q = QbyB;\n",
"Dc = (q^2/g)^(1/3);\n",
"\n",
"m = 2.4:-0.15:1.35;\n",
"total = 0;Dm = 0; N = 0;  D = 0; Lm = 0;\n",
"for(i=1:length(m)-1)\n",
"    \n",
"    Dm(i)= (m(i)+m(i+1))/2; \n",
"    N(i) = 1 - (Dc/Dm(i))^3 ;    // Numerator\n",
"    D(i) = 1 - (Dn/Dm(i))^3; // Denominator\n",
"    Lm(i) = 150*(N(i)/D(i));\n",
"    total = total +Lm(i);\n",
"end\n",
"result  = [Dm N D Lm];\n",
"disp(total,'distance upstream covered (approx in m):',result,'Mean Depth(Dm) Numerator Denominaotor      L(m)');"
   ]
   }
],
"metadata": {
		  "kernelspec": {
		   "display_name": "Scilab",
		   "language": "scilab",
		   "name": "scilab"
		  },
		  "language_info": {
		   "file_extension": ".sce",
		   "help_links": [
			{
			 "text": "MetaKernel Magics",
			 "url": "https://github.com/calysto/metakernel/blob/master/metakernel/magics/README.md"
			}
		   ],
		   "mimetype": "text/x-octave",
		   "name": "scilab",
		   "version": "0.7.1"
		  }
		 },
		 "nbformat": 4,
		 "nbformat_minor": 0
}
