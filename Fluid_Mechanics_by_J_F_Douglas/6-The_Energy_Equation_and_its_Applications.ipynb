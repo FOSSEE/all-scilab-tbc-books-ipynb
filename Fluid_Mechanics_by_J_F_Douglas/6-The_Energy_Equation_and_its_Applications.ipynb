{
"cells": [
 {
		   "cell_type": "markdown",
	   "metadata": {},
	   "source": [
       "# Chapter 6: The Energy Equation and its Applications"
	   ]
	},
{
		   "cell_type": "markdown",
		   "metadata": {},
		   "source": [
			"## Example 6.10: Free_vortex_or_potential_vortex.sce"
		   ]
		  },
  {
"cell_type": "code",
	   "execution_count": null,
	   "metadata": {
	    "collapsed": true
	   },
	   "outputs": [],
"source": [
"clc;funcprot(0); //Example 6.10\n",
"\n",
"//Initializing the variables \n",
"Ra = 0.2;\n",
"Rb = 0.1;\n",
"H = 0.18;\n",
"Za = 0.125;\n",
"\n",
"//Calculations\n",
"Y =  Ra^2*(H-Za);\n",
"Zb = H - Y/Rb^2;\n",
"\n",
"disp(Zb*1000,'Height above datum of a point B on the free surface at a radius of 100 mm (mm):');"
   ]
   }
,
{
		   "cell_type": "markdown",
		   "metadata": {},
		   "source": [
			"## Example 6.1: MECHANICAL_ENERGY_OF_A_FLOWING_FLUID.sce"
		   ]
		  },
  {
"cell_type": "code",
	   "execution_count": null,
	   "metadata": {
	    "collapsed": true
	   },
	   "outputs": [],
"source": [
"clc;funcprot(0); //Example 6.1\n",
"\n",
"//Initializing the variables \n",
"Pc = 0;         // Atmospheric Pressure\n",
"Z3 = 30+2;        //height of nozzle\n",
"Ep = 50 ;        //Energy per unit weight supplied by pump\n",
"d1 = 0.150;        //Diameter of sump\n",
"d2 = 0.100;        //Diameter of delivery pipe\n",
"d3 = 0.075 ;        //Diameter of nozzle\n",
"g = 9.81;        // Acceleration due to gravity\n",
"Z2 = 2;        //Height of pump\n",
"rho = 1000;        // Density of water\n",
"\n",
"//Calculations\n",
"U3 = sqrt(2*g*(Ep-Z3)/(1+5*(d3/d1)^4 + 12*(d3/d2)^4));\n",
"U1 = U3/4;\n",
"Pb = rho*g*Z2 + 3*rho*U1^2;\n",
"disp(U3, 'Velocity of Jet through nozzle (m/s) :');\n",
"disp(Pb/1000 , 'Pressure in the suction pipe at the inlet to the pump at B(kN/m2) :');"
   ]
   }
,
{
		   "cell_type": "markdown",
		   "metadata": {},
		   "source": [
			"## Example 6.2: CHANGES_OF_PRESSURE_IN_A_TAPERING_PIPE.sce"
		   ]
		  },
  {
"cell_type": "code",
	   "execution_count": null,
	   "metadata": {
	    "collapsed": true
	   },
	   "outputs": [],
"source": [
"clc;funcprot(0); //Example 6.2\n",
"\n",
"//Initializing the variables \n",
"x = 45;         // Inclination of pipe\n",
"l = 2;        //Length of pipe under consideration\n",
"Ep = 50 ;        //Energy per unit weight supplied by pump\n",
"d1 = 0.2;        //Diameter of sump\n",
"d2 = 0.1;        //Diameter of delivery pipe\n",
"g = 9.81;        // Acceleration due to gravity\n",
"rho = 1000;        // Density of water\n",
"V1 = 2;\n",
"RD_oil = 0.9;        // relative density of oil\n",
"RD_Merc = 13.6;        // Relative density of Mercury\n",
"\n",
"//Calculations\n",
"V2 = V1*(d1/d2)^2;\n",
"dZ = l*sind(x);\n",
"rho_Oil = RD_oil*rho;\n",
"rho_Man = RD_Merc*rho;\n",
"dP = 0.5*rho_Oil*(V2^2-V1^2) + rho_Oil*g*dZ;\n",
"h = rho_Oil *( dP/(rho_Oil*g)- dZ)/(rho_Man - rho_Oil);\n",
"\n",
"disp(h, 'Difference in the level of mercury (m):',dP, 'Pressure Difference(N/m2) : ');"
   ]
   }
,
{
		   "cell_type": "markdown",
		   "metadata": {},
		   "source": [
			"## Example 6.3: PRINCIPLE_OF_THE_VENTURI_METER.sce"
		   ]
		  },
  {
"cell_type": "code",
	   "execution_count": null,
	   "metadata": {
	    "collapsed": true
	   },
	   "outputs": [],
"source": [
"clc;funcprot(0); //Example 6.3\n",
"\n",
"//Initializing the variables \n",
"d1 = 0.25;                //Pipeline diameter\n",
"d2 = 0.10;                //Throat diameter\n",
"h =0.63;                //Difference in height\n",
"rho = 1000;            //Density of water\n",
"g = 9.81             //Acceleration due to gravity\n",
"\n",
"//Calculations\n",
"rho_Hg = 13.6*rho;\n",
"rho_Oil = 0.9*rho;\n",
"A1 = (%pi*d1^2)/4;            // Area at entry\n",
"m = (d1/d2)^2;                //Area ratio\n",
"Q = (A1/sqrt(m^2-1))*sqrt(2*g*h*(rho_Hg/rho_Oil -1));\n",
"\n",
"disp(Q,'Thepretical Volume flow rate (m3/s ):');"
   ]
   }
,
{
		   "cell_type": "markdown",
		   "metadata": {},
		   "source": [
			"## Example 6.4: THEORY_OF_SMALL_ORIFICES_DISCHARGING_TO_ATMOSPHERE.sce"
		   ]
		  },
  {
"cell_type": "code",
	   "execution_count": null,
	   "metadata": {
	    "collapsed": true
	   },
	   "outputs": [],
"source": [
"clc;funcprot(0); //Example 6.4\n",
"\n",
"//Initializing the variables \n",
"\n",
"x = 1.5;\n",
"y =0.5;\n",
"H = 1.2;\n",
"A = 650*10^-6;\n",
"Q =0.117;\n",
"g = 9.81;\n",
"\n",
"//Calculations\n",
"Cv = sqrt(x^2/(4*y*H));\n",
"Cd = Q / (60*A*sqrt(2*g*H));\n",
"Cc = Cd/Cv;\n",
"\n",
"disp(Cc, 'Coefficient of contraction :',Cd, 'Coefficient of Discharge :', Cv, 'Coefficient of velocity :');"
   ]
   }
,
{
		   "cell_type": "markdown",
		   "metadata": {},
		   "source": [
			"## Example 6.5: THEORY_OF_LARGE_ORIFICES.sce"
		   ]
		  },
  {
"cell_type": "code",
	   "execution_count": null,
	   "metadata": {
	    "collapsed": true
	   },
	   "outputs": [],
"source": [
"clc;funcprot(0);//Example 6.5\n",
"\n",
"//Initializing the variables \n",
"B = 0.7;\n",
"H1 = 0.4;\n",
"H2 = 1.9;\n",
"g =9.81;\n",
"z = 1.5 ;            // height of opening\n",
"\n",
"//Calculations\n",
"Q_Th = 2/3 *B*sqrt(2*g)*(H2^1.5 - H1^1.5);\n",
"A = z*B;\n",
"h = 0.5*(H1+H2);\n",
"Q = A*sqrt(2*g*h);\n",
"\n",
"disp((Q-Q_Th)*100/Q_Th, 'Percentage error in discharge (%):');"
   ]
   }
,
{
		   "cell_type": "markdown",
		   "metadata": {},
		   "source": [
			"## Example 6.6: ELEMENTARY_THEORY_OF_NOTCHES_AND_WEIRS.sce"
		   ]
		  },
  {
"cell_type": "code",
	   "execution_count": null,
	   "metadata": {
	    "collapsed": true
	   },
	   "outputs": [],
"source": [
"clc;funcprot(0); //Example 6.6\n",
"\n",
"//Initializing the variables \n",
"Cd = 0.6;         //Coefficient of discharge\n",
"Q = 0.28;\n",
"x = 90;             //Theta\n",
"g = 9.81;\n",
"dH = 0.0015;\n",
"\n",
"//Calculations\n",
"H = (Q*(15/8)/(Cd*sqrt(2*g)*tand(x/2)))^(2/5)\n",
"Frac_Q = 5/2 *( dH/H);\n",
"\n",
"disp(Frac_Q*100, 'Percentage error in discharge(%)');"
   ]
   }
,
{
		   "cell_type": "markdown",
		   "metadata": {},
		   "source": [
			"## Example 6.7: ELEMENTARY_THEORY_OF_NOTCHES_AND_WEIRS.sce"
		   ]
		  },
  {
"cell_type": "code",
	   "execution_count": null,
	   "metadata": {
	    "collapsed": true
	   },
	   "outputs": [],
"source": [
"clc;funcprot(0); //Example 6.7 \n",
"\n",
"//Initializing the variables \n",
"B = 0.9;\n",
"H = 0.25;\n",
"alpha = 1.1;\n",
"g = 9.81; \n",
"\n",
"//Calculations\n",
"Q = 1.84 * B * H^(3/2);\n",
"disp(Q, 'Q :');\n",
"\n",
"i = 1;\n",
"while(i < = 3)\n",
"    v = Q /(1.2* (H+0.2));\n",
"    disp(v, 'V(m/s) :');\n",
"    k =  ((1 + alpha*v^2/(2*g*H))^1.5 -(alpha*v^2/(2*g*H))^1.5 );\n",
"    Q = k* 1.84 * B * H^(3/2);\n",
"    disp(Q, 'Q(m3/s) :');\n",
"    i = i+1;\n",
"end"
   ]
   }
,
{
		   "cell_type": "markdown",
		   "metadata": {},
		   "source": [
			"## Example 6.8: THE_POWER_OF_A_STREAM_OF_FLUID.sce"
		   ]
		  },
  {
"cell_type": "code",
	   "execution_count": null,
	   "metadata": {
	    "collapsed": true
	   },
	   "outputs": [],
"source": [
"clc;funcprot(0); //Example  6.8\n",
"\n",
"//Initializing the variables \n",
"rho = 1000;\n",
"v = 66 ;\n",
"Q = 0.13;\n",
"g = 9.81; \n",
"z =240;\n",
"\n",
"//Calculations\n",
"P_Jet =  0.5*rho*v^2*Q;\n",
"P_Supp = rho*g*Q*z;\n",
"P_Lost =  P_Supp -P_Jet;\n",
"h = P_Lost/(rho*g*Q);\n",
"eff = P_Jet/P_Supp;\n",
"\n",
"disp(eff*100,'Part(d) Efficiency(%) :', h, 'Part(C) head used to overcome losses (m): ', P_Supp/1000 , 'Part(b) power supplied from the reservoir (kW):', P_Jet/1000 ,'PartI(a) power of the jet(kW)');"
   ]
   }
,
{
		   "cell_type": "markdown",
		   "metadata": {},
		   "source": [
			"## Example 6.9: VORTEX_MOTION.sce"
		   ]
		  },
  {
"cell_type": "code",
	   "execution_count": null,
	   "metadata": {
	    "collapsed": true
	   },
	   "outputs": [],
"source": [
"clc;funcprot(0); //Example 6.9\n",
"\n",
"//Initializing the variables \n",
"r1 = 0.2;\n",
"Z1 = 0.500;\n",
"Z2 = 0.340;\n",
"g = 9.81;\n",
"rho = 0.9*1000 ;\n",
"\n",
"//Calculations\n",
"r0 = r1*(sqrt(2-2*Z2/Z1));\n",
"omega =  sqrt(2*g*Z1/r0^2);\n",
"\n",
"function[out]=G(r)\n",
"    out =r^3 - r*r0^2;\n",
"endfunction\n",
"\n",
"F = rho*omega^2*%pi*intg(r0,r1,G);\n",
"\n",
"disp(F,'Part(b) Upward force on the cover (N): ',omega ,'Part(a) Speed of rotation (rad/s ):');"
   ]
   }
],
"metadata": {
		  "kernelspec": {
		   "display_name": "Scilab",
		   "language": "scilab",
		   "name": "scilab"
		  },
		  "language_info": {
		   "file_extension": ".sce",
		   "help_links": [
			{
			 "text": "MetaKernel Magics",
			 "url": "https://github.com/calysto/metakernel/blob/master/metakernel/magics/README.md"
			}
		   ],
		   "mimetype": "text/x-octave",
		   "name": "scilab",
		   "version": "0.7.1"
		  }
		 },
		 "nbformat": 4,
		 "nbformat_minor": 0
}
