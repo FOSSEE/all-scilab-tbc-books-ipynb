{
"cells": [
 {
		   "cell_type": "markdown",
	   "metadata": {},
	   "source": [
       "# Chapter 20: Pressure Transient Theory and Surge Control"
	   ]
	},
{
		   "cell_type": "markdown",
		   "metadata": {},
		   "source": [
			"## Example 20.3: EX20_3.sce"
		   ]
		  },
  {
"cell_type": "code",
	   "execution_count": null,
	   "metadata": {
	    "collapsed": true
	   },
	   "outputs": [],
"source": [
"clc; funcprot(0); //Example 20.3\n",
"\n",
"//Initializing the variables\n",
"c = 1250;\n",
"Dt = 0.02;\n",
"Dv = 0.5;\n",
"rho = 1000;\n",
"v =0.5;\n",
"\n",
"//Calculations\n",
"cDt = c*Dt;\n",
"Dp = rho*c*Dv;\n",
"DOv_DOt = Dv/Dt;\n",
"vDOv_DOt = v*Dv/cDt;\n",
"DOp_DOt = Dp/Dt;\n",
"vDOp_DOx = v*Dp/cDt;\n",
"Error = [vDOv_DOt*100/DOv_DOt vDOp_DOx*100/DOp_DOt];\n",
"disp(Error, 'The percentage errors are given below are very small hence can be neglected :');"
   ]
   }
,
{
		   "cell_type": "markdown",
		   "metadata": {},
		   "source": [
			"## Example 20.5: EX20_5.sce"
		   ]
		  },
  {
"cell_type": "code",
	   "execution_count": null,
	   "metadata": {
	    "collapsed": true
	   },
	   "outputs": [],
"source": [
"clc; funcprot(0); //Example 20.5\n",
"\n",
"//Initializing the variables\n",
"f = 0;\n",
"Atunnel = 1.227;\n",
"Ashaft = 12.57;\n",
"Q =2;\n",
"L = 200;\n",
"g = 9.81; \n",
"\n",
"//Calculations\n",
"Zmax = (Q/Ashaft)*sqrt(Ashaft*L/(Atunnel*g));\n",
"T = 2*%pi*sqrt(Ashaft*L/(Atunnel*g));\n",
"disp(T,'Mass Oscillation Period (s) : ',Zmax,'Peak water level (m):');"
   ]
   }
],
"metadata": {
		  "kernelspec": {
		   "display_name": "Scilab",
		   "language": "scilab",
		   "name": "scilab"
		  },
		  "language_info": {
		   "file_extension": ".sce",
		   "help_links": [
			{
			 "text": "MetaKernel Magics",
			 "url": "https://github.com/calysto/metakernel/blob/master/metakernel/magics/README.md"
			}
		   ],
		   "mimetype": "text/x-octave",
		   "name": "scilab",
		   "version": "0.7.1"
		  }
		 },
		 "nbformat": 4,
		 "nbformat_minor": 0
}
