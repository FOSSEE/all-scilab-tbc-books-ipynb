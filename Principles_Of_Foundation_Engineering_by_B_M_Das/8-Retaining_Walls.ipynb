{
"cells": [
 {
		   "cell_type": "markdown",
	   "metadata": {},
	   "source": [
       "# Chapter 8: Retaining Walls"
	   ]
	},
{
		   "cell_type": "markdown",
		   "metadata": {},
		   "source": [
			"## Example 8.1: 1.sce"
		   ]
		  },
  {
"cell_type": "code",
	   "execution_count": null,
	   "metadata": {
	    "collapsed": true
	   },
	   "outputs": [],
"source": [
"//example 8.1\n",
"clc; funcprot(0);\n",
"H1=6*tan(10*%pi/180);\n",
"H2=18;\n",
"H3=2.75;\n",
"Gamma1=117;\n",
"Ka=0.294;//from table\n",
"H=H1+H2+H3;\n",
"Pa=1/2*Gamma1*H^2*Ka/1000;\n",
"Pr=Pa*sin(10*%pi/180);\n",
"Ph=Pa*cos(10*%pi/180);\n",
"Mo=Ph*H/3;\n",
"Sum=0;//sigma Mr\n",
"S=[1, 2, 3, 4, 5];//section\n",
"W=[4.05, 1.35, 5.156, 13.01, 1.42];//weight\n",
"MA=[5.75, 4.67, 6.25, 9.5, 12.5, 12.5];//Moment Arm\n",
"printf('Section Weight(kip/ft) Moment Arm(ft) Moment (kip-ft/ft)\n');\n",
"for i=1:5\n",
"    M(i)=W(i)*MA(i);\n",
"    Sum=Sum+M(i);\n",
"    printf('%.2f\t\t %.2f\t\t %.2f\t %.2f\n',S(i),W(i),MA(i),M(i));\n",
"end\n",
"FSO=Sum/Mo;\n",
"if FSO>2 then\n",
"    printf('safe in overturning with FS=%.2f\n',FSO)\n",
"end\n",
"//for sliding\n",
"phi2=18*%pi/180;\n",
"V=24.986;\n",
"B=12.5;\n",
"c2=0.9;\n",
"FSS=(V*tan(2/3*phi2)+B*2/3*c2)/Ph;\n",
"if FSS>2 then\n",
"    printf('safe in sliding with FS=%.2f\n',FSS)\n",
"end\n",
"//for bearing\n",
"e=B/2-(Sum-Mo)/V;\n",
"qtoe=V/B*(1+6*e/B);\n",
"Nc=13.1;\n",
"Nq=5.26;\n",
"Ny=4.07;\n",
"D=0.107;\n",
"Gamma2=4;\n",
"B1=B-2*e;//Bdash\n",
"q=Gamma2*D\n",
"Fcd=1+0.4*D/B1;\n",
"Fqd=1+2*tan(phi2)*(1-sin(phi2))^2*(D/B1);\n",
"Fyd=1;\n",
"zi=atan(Ph/V);\n",
"Fci=(1-zi/%pi*2)^2;\n",
"Fqi=Fci;\n",
"Fyi=round((1-zi/phi2)^2);\n",
"qu=c2*Nc*Fcd*Fci+q*Nq*Fqd*Fqi+1/2*Gamma2*B1*Fyd*Fyi;\n",
"FSB=qu/qtoe;\n",
"if FSB>3 then\n",
"    printf('safe in bearing with FS=%.2f\n\n',FSB)\n",
"end\n",
"disp('slight changes due to round off error')\n",
""
   ]
   }
,
{
		   "cell_type": "markdown",
		   "metadata": {},
		   "source": [
			"## Example 8.2: 2.sce"
		   ]
		  },
  {
"cell_type": "code",
	   "execution_count": null,
	   "metadata": {
	    "collapsed": true
	   },
	   "outputs": [],
"source": [
"//example 8.2\n",
"clc; funcprot(0);\n",
"c=0.9;\n",
"B=12.5;\n",
"Gamma2=4;\n",
"Fcd=1.138;\n",
"Fqd=1.107;\n",
"Nc=7.5;\n",
"Nq=4;\n",
"Ny=0;\n",
"q=0.428;\n",
"qtoe=2.44;\n",
"qu=c*Nc*Fcd+q*Nq*Fqd+1/2*Gamma2*B*Ny;\n",
"FSB=qu/qtoe;\n",
"if FSB>3 then\n",
"    printf('safe in bearing with FS=%.2f\n\n',FSB)\n",
"end\n",
""
   ]
   }
,
{
		   "cell_type": "markdown",
		   "metadata": {},
		   "source": [
			"## Example 8.3: 3.sce"
		   ]
		  },
  {
"cell_type": "code",
	   "execution_count": null,
	   "metadata": {
	    "collapsed": true
	   },
	   "outputs": [],
"source": [
"//example 8.3\n",
"clc; funcprot(0);\n",
"Msum=0;//sum of moment\n",
"Vsum=0;//sum of force\n",
"H=15+2.5;//Hdash\n",
"phi=30*%pi/180;\n",
"Gamma=121;\n",
"Ka=(tan(%pi/4-phi/2))^2;\n",
"Pa=1/2*Gamma*H^2*Ka/1000;\n",
"Ph=Pa;\n",
"Mo=Ph*H/3;\n",
"AN=[1,2,3,4,5,6];//area number\n",
"W=[0.9,3.375,5.906,3.863,4.764,2.723];//weight\n",
"MA=[1.783,2.8,5.3,5.15,7.05,9.55];//moment arm\n",
"\n",
"printf('AreaNo Weight(kip/ft) Moment Arm(ft) Moment (kip-ft/ft)\n');\n",
"for i=1:6\n",
"    M(i)=W(i)*MA(i);\n",
"    Vsum=Vsum+W(i);\n",
"    Msum=Msum+M(i);\n",
"    printf('%.2f\t\t %.2f\t\t %.2f\t %.2f\n',AN(i),W(i),MA(i),M(i));\n",
"end\n",
"FSO=Msum/Mo;\n",
"if FSO>2 then\n",
"    printf('safe in overturning with FS=%.2f\n',FSO)\n",
"end\n",
"//for sliding\n",
"phi2=20*%pi/180;\n",
"V=Vsum\n",
"B=10.3;\n",
"c2=1.0;\n",
"FSS=(V*tan(2/3*phi2)+B*2/3*c2)/Ph;\n",
"printf('safe in sliding with FS=%.2f\n',FSS)\n",
"e=B/2-(Msum-Mo)/V;\n",
"qtoe=V/B*(1+6*e/B);\n",
"disp(qtoe,'soil pressure at toe in kip/ft^2')\n",
"qheel=V/B*(1-6*e/B);\n",
"disp(qheel,'soil pressure at heel in kip/ft^2')\n",
""
   ]
   }
,
{
		   "cell_type": "markdown",
		   "metadata": {},
		   "source": [
			"## Example 8.4: 4.sce"
		   ]
		  },
  {
"cell_type": "code",
	   "execution_count": null,
	   "metadata": {
	    "collapsed": true
	   },
	   "outputs": [],
"source": [
"//example 8.4\n",
"clc; funcprot(0);\n",
"Msum=0;//sum of moment\n",
"Vsum=0;//sum of force\n",
"H=5+1.5;//Hdash\n",
"phi=32*%pi/180;\n",
"Gamma=18.5;\n",
"Ka=0.424;\n",
"Pa=1/2*Gamma*H^2*Ka;\n",
"Ph=Pa*cos(15*%pi/180+2/3*phi);\n",
"Mo=Ph*H/3;\n",
"AN=[1,2,3,4,5];//area number\n",
"A=[4.36, 3.42, 0.77, 2.8, 2.8];//area\n",
"W=[102.81, 80.64, 18.16, 66.02, 93.14];//weight\n",
"MA=[2.18, 1.37, 0.98, 1.75, 2.83];//moment arm\n",
"printf('AreaNo Area(m^2) Weight(kN/m) Momwnt Arm(m) Moment (kN-m/m)\n');\n",
"for i=1:5\n",
"    M(i)=W(i)*MA(i);\n",
"    Vsum=Vsum+W(i);\n",
"    Msum=Msum+M(i);\n",
"    printf('%.2f\t\t %.2f\t %.2f\t\t %.2f\t %.2f\n',AN(i),A(i),W(i),MA(i),M(i));\n",
"end\n",
"FSO=Msum/Mo;\n",
"if FSO>2 then\n",
"    printf('safe in overturning with FS=%.2f\n',FSO)\n",
"end\n",
"//for sliding\n",
"phi2=24*%pi/180;\n",
"V=Vsum\n",
"B=3.5;\n",
"c2=30;\n",
"Pp=1/2*2.37*18*1.5^2+2*30*1.54*1.5;\n",
"FSS=(V*tan(2/3*phi2)+B*2/3*c2+Pp)/Ph;\n",
"printf('safe in sliding with FS=%.2f\n',FSS)\n",
"disp('if Pp is ignored then FS=1.37');\n",
"e=B/2-(Msum-Mo)/V;\n",
"qtoe=V/B*(1+6*e/B);\n",
"disp(qtoe,'soil pressure at toe in kN/m^2')\n",
"qheel=V/B*(1-6*e/B);\n",
"disp(qheel,'soil pressure at heel in kN/m^2')\n",
"disp('there is difference in answer due to rounding off error')\n",
""
   ]
   }
,
{
		   "cell_type": "markdown",
		   "metadata": {},
		   "source": [
			"## Example 8.5: 5.sce"
		   ]
		  },
  {
"cell_type": "code",
	   "execution_count": null,
	   "metadata": {
	    "collapsed": true
	   },
	   "outputs": [],
"source": [
"//example 8.5\n",
"clc; funcprot(0);\n",
"//from graph\n",
"D15=0.04;\n",
"D50=0.13;\n",
"D85=0.25;\n",
"printf('grain size  from grain size distribution D15B in mm =%.2f, D85B in mm = %.2f, D50B in mm = %.2f\n',D15,D85,D50);"
   ]
   }
,
{
		   "cell_type": "markdown",
		   "metadata": {},
		   "source": [
			"## Example 8.6: 6.sce"
		   ]
		  },
  {
"cell_type": "code",
	   "execution_count": null,
	   "metadata": {
	    "collapsed": true
	   },
	   "outputs": [],
"source": [
"//example 8.6\n",
"clc; funcprot(0);\n",
"Sv=2;\n",
"Sh=3;\n",
"w=3/12;\n",
"fy=35000*144;\n",
"FSb=3;\n",
"pi=%pi;\n",
"phi=36*pi/180;\n",
"Gamma1=105;\n",
"H=30;\n",
"t=Gamma1*H*Sv*Sh*FSb/w/fy*(tan(pi/4-phi/2))^2;\n",
"t=t*12;\n",
"disp(t,'thiskness in inches');\n",
"t=t+0.001*50;\n",
"disp('so take thickness=0.2 inches');\n",
"//for tie length\n",
"z=[5,10,15,20,25,30];\n",
"TL=[38.45, 35.89, 33.34, 30.79, 28.25, 25.7];//tie length\n",
"printf('z(ft)\t Tie Length (ft)\n');\n",
"for i=1:6\n",
"    printf('%.2f\t %.2f\n', z(i),TL(i))\n",
"end\n",
"disp('use tie length=40ft')\n",
"//check for over turning\n",
"\n",
"z=30/3;\n",
"x1=20;\n",
"L=40;\n",
"Ka=0.26;\n",
"Pa=1/2*Gamma1*Ka*H^2;\n",
"W1=Gamma1*H*L;\n",
"FSO=W1*x1/(Pa*z);\n",
"disp(FSO,'factor of safety is');\n",
"disp('since FS>3 structure is safe')\n",
"//check for sliding\n",
"k=2/3;\n",
"Pa=12285;\n",
"FSS=W1*tan(k*phi)/Pa;\n",
"if FSS>3 then\n",
"    printf('safe in sliding with FS=%.2f\n',FSS)\n",
"end\n",
"//check for bearing\n",
"Mr=126000*20;\n",
"Mo=12285*10;\n",
"V=126000;\n",
"e=L/2-Mr/V+Mo/V;\n",
"L1=L-2*e;//Ldash\n",
"c2=1000;\n",
"Nc=25.8;\n",
"Gamma2=110;\n",
"Ny=16.72;\n",
"qult=c2*Nc+1/2*Gamma2*L1*Ny\n",
"sigma0=Gamma1*H;\n",
"FSB=qult/sigma0;\n",
"if FSB>5 then\n",
"    printf('safe in bearing with FS=%.2f\n\n',FSB)\n",
"end\n",
""
   ]
   }
,
{
		   "cell_type": "markdown",
		   "metadata": {},
		   "source": [
			"## Example 8.7: 7.sce"
		   ]
		  },
  {
"cell_type": "code",
	   "execution_count": null,
	   "metadata": {
	    "collapsed": true
	   },
	   "outputs": [],
"source": [
"//example 8.7\n",
"clc; funcprot(0);\n",
"pi=%pi;\n",
"phi=36*pi/180;\n",
"Ka=(tan(pi/4-phi/2))^2;\n",
"z=[8, 12, 16];\n",
"sigmaG=80*12;\n",
"Gamma1=110;\n",
"FS=1.5;\n",
"for i=1:3\n",
"    Sv(i)=sigmaG/Gamma1/z(i)/Ka/FS*12;\n",
"    printf('for z=%.2f ft Sv = %.2f inches\n',z(i),Sv(i));\n",
"end\n",
"z=[16,56,76,96,112,144,176];\n",
"zf=z/12;//z in ft\n",
"Sv=[1.67,1.67,1.67,1.67,1.33,1.33,1.33];\n",
"k=[7.48,5.78,4.93,4.08,3.4,2.04,0.68];//0.51(H-z)\n",
"printf('z(in)    z(ft)  Sv(ft)  0.51(H-z)(ft)  0.438Sv(ft) L(ft) \n')\n",
"for i=1:7\n",
"    k2(i)=0.438*Sv(i);//0.438Sv\n",
"    L(i)=k(i)+k2(i);\n",
"    printf('%.2f\t %.2f\t %.2f\t %.2f\t\t %.2f\t   %.2f\n',z(i),zf(i),Sv(i),k(i),k2(i),L(i));\n",
"end\n",
"Sv=20/12;\n",
"Ka=0.26;\n",
"FS=1.5;\n",
"l1=Sv*Ka*FS/4/tan(2/3*phi);\n",
"if l1<3 then\n",
"    l1=3;\n",
"    disp(l1,'length in ft')\n",
"end\n",
""
   ]
   }
],
"metadata": {
		  "kernelspec": {
		   "display_name": "Scilab",
		   "language": "scilab",
		   "name": "scilab"
		  },
		  "language_info": {
		   "file_extension": ".sce",
		   "help_links": [
			{
			 "text": "MetaKernel Magics",
			 "url": "https://github.com/calysto/metakernel/blob/master/metakernel/magics/README.md"
			}
		   ],
		   "mimetype": "text/x-octave",
		   "name": "scilab",
		   "version": "0.7.1"
		  }
		 },
		 "nbformat": 4,
		 "nbformat_minor": 0
}
