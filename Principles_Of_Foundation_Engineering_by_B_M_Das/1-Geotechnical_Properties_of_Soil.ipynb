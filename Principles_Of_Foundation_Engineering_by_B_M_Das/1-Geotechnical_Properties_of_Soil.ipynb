{
"cells": [
 {
		   "cell_type": "markdown",
	   "metadata": {},
	   "source": [
       "# Chapter 1: Geotechnical Properties of Soil"
	   ]
	},
{
		   "cell_type": "markdown",
		   "metadata": {},
		   "source": [
			"## Example 1.1: 1.sce"
		   ]
		  },
  {
"cell_type": "code",
	   "execution_count": null,
	   "metadata": {
	    "collapsed": true
	   },
	   "outputs": [],
"source": [
"//example 1.1\n",
"clc(); funcprot(0);\n",
"V=0.25; // ft^3\n",
"W=30.8; //lb\n",
"Wd=28.2; // weight dried lb\n",
"Gs=2.67;\n",
"Gammaw=62.4; //lb/ft^3\n",
"Gamma=W/V;\n",
"disp(Gamma, 'moist unit weight in lb/ft^3')\n",
"w=(W-Wd)/W;\n",
"disp(w*100, 'moisture content in %');\n",
"Gammad=Wd/V;\n",
"disp(Gammad, 'dry unit weight in lb/ft^3')\n",
"Vs=Wd/Gs/Gammaw;\n",
"Vv=V-Vs;\n",
"e=Vv/Vs;\n",
"disp(e,'void ratio');\n",
"n=e/(1+e);\n",
"disp(n,'porosity');\n",
"Vw=(W-Wd)/Gammaw;\n",
"S=Vw/Vv;\n",
"disp(S*100,'saturation in %');\n",
""
   ]
   }
,
{
		   "cell_type": "markdown",
		   "metadata": {},
		   "source": [
			"## Example 1.2: 2.sce"
		   ]
		  },
  {
"cell_type": "code",
	   "execution_count": null,
	   "metadata": {
	    "collapsed": true
	   },
	   "outputs": [],
"source": [
"//example 1.2\n",
"clc; funcprot(0);\n",
"e=0.72;\n",
"w=12/100; //moisture content\n",
"Gs=2.72;\n",
"Gammaw=9.81;//kN/m^3\n",
"Gammad=Gs*Gammaw/(1+e);\n",
"disp(Gammad,'dry unit weight in kN/m^3');\n",
"Gamma=Gs*Gammaw*(1+w)/(1+e);\n",
"disp(Gamma,'moist unit weight in kN/m^3');\n",
"Gammasat=(Gs+e)*Gammaw/(1+e);\n",
"wa=Gammasat-Gamma;//water added\n",
"disp(wa,'water added in kN/m^3');\n",
""
   ]
   }
,
{
		   "cell_type": "markdown",
		   "metadata": {},
		   "source": [
			"## Example 1.3: 3.sce"
		   ]
		  },
  {
"cell_type": "code",
	   "execution_count": null,
	   "metadata": {
	    "collapsed": true
	   },
	   "outputs": [],
"source": [
"//example 1.3\n",
"clc; funcprot(0);\n",
"gmax=17.1; // Gammadmax\n",
"Dr=0.7;\n",
"w=8/100;//moisture content\n",
"gmin=14.2; //Gammadmin\n",
"deff('y=f(x)','y=(x-14.2)/(17.1-14.2)*17.1/x-0.7')\n",
"[x, v, info]=fsolve(16,f);//solving for gammad\n",
"Gamma=x*(1+w);\n",
"disp(Gamma,'moist unit weight in kN/m^3');\n",
""
   ]
   }
,
{
		   "cell_type": "markdown",
		   "metadata": {},
		   "source": [
			"## Example 1.4: 4.sce"
		   ]
		  },
  {
"cell_type": "code",
	   "execution_count": null,
	   "metadata": {
	    "collapsed": true
	   },
	   "outputs": [],
"source": [
"//example 1.4\n",
"clc; funcprot(0);\n",
"F200=30;\n",
"PI=8;\n",
"GI=0.01*(F200-15)*(PI-10);\n",
"if GI<0 then\n",
"    GI=0;\n",
"    disp('the soil is A-2-4(0)')\n",
"end\n",
""
   ]
   }
,
{
		   "cell_type": "markdown",
		   "metadata": {},
		   "source": [
			"## Example 1.5: 5.sce"
		   ]
		  },
  {
"cell_type": "code",
	   "execution_count": null,
	   "metadata": {
	    "collapsed": true
	   },
	   "outputs": [],
"source": [
"//example 1.5\n",
"clc; funcprot(0);\n",
"F200=41;\n",
"LL=31;\n",
"PI=12;\n",
"if 100-F200>50 then\n",
"    disp('soil is coarse grained')\n",
"end\n",
"//from table 1.5 and 1.6\n",
"disp('soil is SC');\n",
""
   ]
   }
,
{
		   "cell_type": "markdown",
		   "metadata": {},
		   "source": [
			"## Example 1.6: 6.sce"
		   ]
		  },
  {
"cell_type": "code",
	   "execution_count": null,
	   "metadata": {
	    "collapsed": true
	   },
	   "outputs": [],
"source": [
"//example 1.6\n",
"clc; funcprot(0);\n",
"Gammad=14.5;\n",
"Gammasat=17.2;\n",
"Gammaw=9.81;\n",
"printf('Point \t Sigma(kN/m^2)\t u(kN/m^2)\t sigmadash=sigma-u (kN/m^2)\n');\n",
"\n",
"printf('  A\t   %d\t \t    %d\t\t %d \n',0,0,0);\n",
"printf('  B\t%.2f\t \t%.2f\t\t %.2f \n',4*Gammad,0,4*Gammad-0);\n",
"printf('  C\t%.2f\t \t%.2f\t\t %.2f \n',4*Gammad+5*Gammasat,5*Gammaw,4*Gammad+5*Gammasat-5*Gammaw);\n",
""
   ]
   }
,
{
		   "cell_type": "markdown",
		   "metadata": {},
		   "source": [
			"## Example 1.7: 7.sce"
		   ]
		  },
  {
"cell_type": "code",
	   "execution_count": null,
	   "metadata": {
	    "collapsed": true
	   },
	   "outputs": [],
"source": [
"//example 1.7\n",
"clc; funcprot(0);\n",
"//parta\n",
"e1=0.92;\n",
"e2=0.86;\n",
"Hc=2.8;\n",
"s2=212;//sigma2dash\n",
"s1=140;//sigma1dash\n",
"Cc=(e1-e2)/log10(s2/s1);\n",
"Sc=Cc*Hc/(1+e1)*log10(s2/s1);\n",
"disp(Sc*1000,'consolidated depth in mm');\n",
"//part b\n",
"Sct=40;\n",
"T50=0.197;\n",
"t=4.5;\n",
"Cr=T50*12.7^2/t;\n",
"U=Sct/Sc*100/1000;\n",
"H=Hc/2;\n",
"Tv=%pi/4*U^2/100^2;\n",
"t=Tv*H^2/Cr*1000^2/60/24;\n",
"disp(t,'time required in days');\n",
"\n",
""
   ]
   }
,
{
		   "cell_type": "markdown",
		   "metadata": {},
		   "source": [
			"## Example 1.8: 8.sce"
		   ]
		  },
  {
"cell_type": "code",
	   "execution_count": null,
	   "metadata": {
	    "collapsed": true
	   },
	   "outputs": [],
"source": [
"//example 1.8\n",
"clc; funcprot(0);\n",
"Cv=7.061;\n",
"tc=15*24*60;\n",
"H=2.8/2*1000;\n",
"Scmax=87.5; // consolidation\n",
"Tc=Cv*tc/H^2;\n",
"tv=31.6*24*60;\n",
"Tv=Cv*tv/H^2;\n",
"//from figure 1.28\n",
"Sct=Scmax*0.36;\n",
"disp(Sct,'consolidation in 31.6 days in mm');\n",
""
   ]
   }
],
"metadata": {
		  "kernelspec": {
		   "display_name": "Scilab",
		   "language": "scilab",
		   "name": "scilab"
		  },
		  "language_info": {
		   "file_extension": ".sce",
		   "help_links": [
			{
			 "text": "MetaKernel Magics",
			 "url": "https://github.com/calysto/metakernel/blob/master/metakernel/magics/README.md"
			}
		   ],
		   "mimetype": "text/x-octave",
		   "name": "scilab",
		   "version": "0.7.1"
		  }
		 },
		 "nbformat": 4,
		 "nbformat_minor": 0
}
