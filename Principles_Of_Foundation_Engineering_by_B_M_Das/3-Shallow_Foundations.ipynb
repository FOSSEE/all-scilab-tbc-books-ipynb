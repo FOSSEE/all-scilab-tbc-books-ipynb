{
"cells": [
 {
		   "cell_type": "markdown",
	   "metadata": {},
	   "source": [
       "# Chapter 3: Shallow Foundations"
	   ]
	},
{
		   "cell_type": "markdown",
		   "metadata": {},
		   "source": [
			"## Example 3.1: 1.sce"
		   ]
		  },
  {
"cell_type": "code",
	   "execution_count": null,
	   "metadata": {
	    "collapsed": true
	   },
	   "outputs": [],
"source": [
"//example 3.1\n",
"clc; funcprot(0);\n",
"Nc=17.69;\n",
"Nq=7.44;\n",
"Ny=3.64;\n",
"q=3*115;\n",
"Gamma=115; //lb/ft^3\n",
"c=320;\n",
"B=5;//ft\n",
"FS=4;//factor of safety\n",
"qu=1.3*c*Nc+q*Nq+0.4*Gamma*B*Ny\n",
"qall=qu/FS; //q allowed\n",
"Q=qall*B^2;\n",
"disp(Q,'allowable gross load in lb');\n",
""
   ]
   }
,
{
		   "cell_type": "markdown",
		   "metadata": {},
		   "source": [
			"## Example 3.2: 2.sce"
		   ]
		  },
  {
"cell_type": "code",
	   "execution_count": null,
	   "metadata": {
	    "collapsed": true
	   },
	   "outputs": [],
"source": [
"//example 3.2\n",
"clc; funcprot(0);\n",
"Gamma=105;//lb/ft^3\n",
"Gammasat=118;//lb/ft^3\n",
"FS=3;\n",
"pa=2014.125;//lb/ft^2\n",
"Depth=[5,10,15,20,25];\n",
"N60=[4,6,6,10,5];\n",
"sigmao=[0,0,0,0,0];\n",
"phi=[0,0,0,0,0]\n",
"Gammaw=62.4;\n",
"s=0;\n",
"printf('depth (ft)\tN60\t  \tstress(lb/ft^2)\t phi(degrees)\n')\n",
"for i=1:5\n",
"    sigmao(i)=2*Gamma+(Depth(i)-2)*(Gammasat-Gammaw);\n",
"    phi(i)=sqrt(20*N60(i)*sqrt(pa/sigmao(i)))+20;\n",
"    printf(' %.2f\t       %.2f\t\t   %.2f  \t%.2f \n',Depth(i),N60(i),sigmao(i),phi(i));\n",
"avgphi=phi(i)/5+s;\n",
"s=avgphi;\n",
"end\n",
"disp(round(avgphi),'average friction angle in degrees');\n",
"//using graph get the values of other terms in terms of B and solve for B\n",
"deff('y=f(x)','y=-150000/x^2+5263.9+5527.1/x+228.3*x');\n",
"[x, v, info ]=fsolve(4,f);\n",
"disp(x,'the width in ft');\n",
"\n",
"\n",
""
   ]
   }
,
{
		   "cell_type": "markdown",
		   "metadata": {},
		   "source": [
			"## Example 3.3: 3.sce"
		   ]
		  },
  {
"cell_type": "code",
	   "execution_count": null,
	   "metadata": {
	    "collapsed": true
	   },
	   "outputs": [],
"source": [
"//example 3.3\n",
"clc; funcprot(0);\n",
"phi=25; //degrees\n",
"Es=620; //kN/m^2\n",
"Gamma=18;//kN/m^2\n",
"Df=0.6;\n",
"B=0.6;\n",
"L=1.2;\n",
"Fqc=0.347;\n",
"Nq=10.66;\n",
"Nc=20.72;\n",
"Ngamma=10.88;\n",
"mu=0.3;\n",
"Fyd=1;\n",
"c=48;//kN/m^2\n",
"q=Gamma*(Df+B/2);\n",
"Ir=Es/(2*(1+mu)*(c+q*tan(phi*%pi/180)));\n",
"disp(Ir,'value of Ir');\n",
"Fcc=Fqc-(1-Fqc)/(Nq*tan(phi*%pi/180));\n",
"Fcs=1+Nq/Nc*B/L;\n",
"Fqs=1+B/L*tan(phi*%pi/180);\n",
"Fys=1-0.4*B/L;\n",
"Fcd=1+0.4*Df/B;\n",
"Fqd=1+2*tan(phi*%pi/180)*(1-sin(phi*%pi/180))^2*Df/B;\n",
"q1=0.6*18;\n",
"Fyc=Fqc;\n",
"qu=c*Nc*Fcs*Fcd*Fcc+q1*Nq*Fqs*Fqd*Fqc+1/2*Gamma*Ngamma*Fys*Fyd*Fyc;\n",
"disp(qu,'ultimate bearing capacity in kN/m^2');\n",
""
   ]
   }
,
{
		   "cell_type": "markdown",
		   "metadata": {},
		   "source": [
			"## Example 3.4: 4.sce"
		   ]
		  },
  {
"cell_type": "code",
	   "execution_count": null,
	   "metadata": {
	    "collapsed": true
	   },
	   "outputs": [],
"source": [
"//example 3.4\n",
"clc; funcprot(0);\n",
"q=110*4; //lb/ft^2\n",
"Nq=33.3;\n",
"phi=35;\n",
"Df=4;\n",
"B=6;\n",
"Gamma=110;\n",
"Ngamma=48.03;\n",
"B1=6-2*0.5;\n",
"Fqi=1;\n",
"Fyi=1;\n",
"Fyd=1;\n",
"Fqs=1;\n",
"Fys=1;\n",
"Fqd=1+2*tan(phi*%pi/180)*(1-sin(phi*%pi/180))^2*Df/B;\n",
"qu=q*Nq*Fqs*Fqd*Fqi+1/2*B1*Gamma*Ngamma*Fys*Fyd*Fyi;\n",
"Qult=B1*1*qu;\n",
"disp(Qult,'ultimate bearing capacity in lb/ft');\n",
"disp(Qult/2000,'ultimate bearing capacity in ton/ft');\n",
""
   ]
   }
,
{
		   "cell_type": "markdown",
		   "metadata": {},
		   "source": [
			"## Example 3.5: 5.sce"
		   ]
		  },
  {
"cell_type": "code",
	   "execution_count": null,
	   "metadata": {
	    "collapsed": true
	   },
	   "outputs": [],
"source": [
"//example 3.5\n",
"clc; funcprot(0);\n",
"e=0.5;\n",
"B=6;\n",
"k=e/B;\n",
"Gamma=110;\n",
"q=440;\n",
"disp('get the values of Nqe and Nye from the figure from the value of e/B');\n",
"Nye=26.8;\n",
"Nqe=33.4;\n",
"Qult=B*1*(q*Nqe+1/2*Gamma*B*Nye);\n",
"disp(Qult,'ultimate bearing capacity in lb/ft');\n",
"disp(Qult/2000,'ultimate bearing capacity in ton/ft');\n",
""
   ]
   }
,
{
		   "cell_type": "markdown",
		   "metadata": {},
		   "source": [
			"## Example 3.6: 6.sce"
		   ]
		  },
  {
"cell_type": "code",
	   "execution_count": null,
	   "metadata": {
	    "collapsed": true
	   },
	   "outputs": [],
"source": [
"//example 3.6\n",
"clc; funcprot(0);\n",
"Df=0.7;\n",
"//from table\n",
"Nq=18.4;\n",
"Ny=22.4;\n",
"q=12.6;\n",
"phi=30; //angle\n",
"L=1.5;\n",
"Fyd=1;\n",
"Gamma=18;\n",
"L1=0.85*1.5;\n",
"L2=0.21*1.5;\n",
"B=1.5;\n",
"A=1/2*(L1+L2)*B;\n",
"B1=A/L1; //B'\n",
"Fqs=1+B1/L1*tan(phi*%pi/180);\n",
"Fys=1-0.4*B1/L1;\n",
"Fqd=1+2*tan(phi*%pi/180)*(1-sin(phi*%pi/180))^2*Df/B;\n",
"Qult=A*(q*Nq*Fqs*Fqd+1/2*Gamma*B1*Ny*Fys*Fyd);\n",
"disp(Qult,'ultimate load in kN');\n",
""
   ]
   }
,
{
		   "cell_type": "markdown",
		   "metadata": {},
		   "source": [
			"## Example 3.7: 7.sce"
		   ]
		  },
  {
"cell_type": "code",
	   "execution_count": null,
	   "metadata": {
	    "collapsed": true
	   },
	   "outputs": [],
"source": [
"//example 3.7\n",
"clc; funcprot(0);\n",
"e=0.15;\n",
"B=1.5;\n",
"Fqs=1;\n",
"L=1.5;\n",
"Gamma=18;\n",
"q=0.7*18;\n",
"//from table\n",
"Nqe=18.4;\n",
"Nye=11.58;\n",
"Fys=1+(2*e/B-0.68)*(B/L)+(0.43-3/2*e/B)*(B/L)^2;\n",
"Qult=B*L*(q*Nqe*Fqs+1/2*Gamma*Nye*Fys);\n",
"disp(Qult,'ultimate load in kN');\n",
""
   ]
   }
,
{
		   "cell_type": "markdown",
		   "metadata": {},
		   "source": [
			"## Example 3.8: 8.sce"
		   ]
		  },
  {
"cell_type": "code",
	   "execution_count": null,
	   "metadata": {
	    "collapsed": true
	   },
	   "outputs": [],
"source": [
"//example 3.8\n",
"clc; funcprot(0);\n",
"q=16;\n",
"Nqei=14.2;\n",
"Gamma=16\n",
"B=1.5;\n",
"Nyet=20;\n",
"Qult=B*(Nqei*q+1/2*Gamma*B*Nyet);\n",
"disp(Qult,'ultimate load in kN/m');\n",
"\n",
""
   ]
   }
],
"metadata": {
		  "kernelspec": {
		   "display_name": "Scilab",
		   "language": "scilab",
		   "name": "scilab"
		  },
		  "language_info": {
		   "file_extension": ".sce",
		   "help_links": [
			{
			 "text": "MetaKernel Magics",
			 "url": "https://github.com/calysto/metakernel/blob/master/metakernel/magics/README.md"
			}
		   ],
		   "mimetype": "text/x-octave",
		   "name": "scilab",
		   "version": "0.7.1"
		  }
		 },
		 "nbformat": 4,
		 "nbformat_minor": 0
}
