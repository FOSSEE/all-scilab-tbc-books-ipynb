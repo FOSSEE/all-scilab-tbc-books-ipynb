{
"cells": [
 {
		   "cell_type": "markdown",
	   "metadata": {},
	   "source": [
       "# Chapter 5: Shallow Foundations Allowable Bearing Capacity and Settlement"
	   ]
	},
{
		   "cell_type": "markdown",
		   "metadata": {},
		   "source": [
			"## Example 5.10: 10.sce"
		   ]
		  },
  {
"cell_type": "code",
	   "execution_count": null,
	   "metadata": {
	    "collapsed": true
	   },
	   "outputs": [],
"source": [
"//example 5.10\n",
"clc; funcprot(0);\n",
"Cc=0.32;\n",
"Hc=2.5;\n",
"eo=0.8;\n",
"sigmao=2.5*16.5+0.5*(17.5-9.81)+1.25*(16-9.81);\n",
"m1=[2, 2, 2];\n",
"z=[2, 3.25, 4.5];\n",
"n1=[4, 6.5, 9];\n",
"Ic=[0.19, 0.085, 0.045];\n",
"Dsigma=[28.5, 12.75, 6.75];//deltasigma\n",
"printf('m1\t z(m)\t n1\t Ic\t Dsigma \n');\n",
"for i=1:3\n",
"    printf('%.2f\t %.2f\t %.2f\t %.2f\t %.2f\n',m1(i),z(i),n1(i),Ic(i),Dsigma(i));\n",
"end\n",
"Dsigmaav=1/6*(Dsigma(1)+4*Dsigma(2)+Dsigma(3));\n",
"Sc=Cc*Hc/(1+eo)*log10((sigmao+Dsigmaav)/sigmao);\n",
"disp(Sc*1000,'settlement in mm')\n",
"//partb\n",
"B=1;\n",
"L=2;\n",
"z=0.5+1.5;\n",
"B=B+z;\n",
"L=L+z;\n",
"A=0.6;\n",
"//from table\n",
"kcr=0.36;\n",
"Sep=kcr*Sc;\n",
"disp(Sep*1000,'settlement in mm');\n",
""
   ]
   }
,
{
		   "cell_type": "markdown",
		   "metadata": {},
		   "source": [
			"## Example 5.11: 11.sce"
		   ]
		  },
  {
"cell_type": "code",
	   "execution_count": null,
	   "metadata": {
	    "collapsed": true
	   },
	   "outputs": [],
"source": [
"//example 5.11\n",
"clc; funcprot(0);\n",
"N60=(3+7+12+12+16)/5;\n",
"B=[2, 2.25, 2.3];\n",
"Fd=[1.248, 1.22, 1.215];\n",
"Qoac=102000*9.81/1000;//actual Qo\n",
"Se=25;\n",
"printf('B(m)\t Fd\t qnet(kN/m^2)\t Qo \n');\n",
"for i=1:3\n",
"    qnet(i)=10/0.08*(B(i)+0.3)^2/(B(i))^2*Fd(i)*Se/25;\n",
"    Qo(i)=qnet(i)*B(i)^2;\n",
"    printf('%.2f\t %.2f\t %.2f\t\t %.2f\n',B(i), Fd(i),qnet(i),Qo(i))\n",
"end\n",
"disp(Qoac,'value of Qo in kN');\n",
"printf('since Qo is 1000 kN thus B is equal to 2.3m from the table');\n",
""
   ]
   }
,
{
		   "cell_type": "markdown",
		   "metadata": {},
		   "source": [
			"## Example 5.1: 1.sce"
		   ]
		  },
  {
"cell_type": "code",
	   "execution_count": null,
	   "metadata": {
	    "collapsed": true
	   },
	   "outputs": [],
"source": [
"//example 5.1\n",
"clc; funcprot(0);\n",
"//first solution\n",
"B1=2.5;\n",
"B2=B1;\n",
"z=12.5;\n",
"L1=5;\n",
"L2=L1;\n",
"m=B1/z;\n",
"n=B2/z;\n",
"//from table of tthe values using m,n\n",
"q=2000;\n",
"I=0.0328;\n",
"deltasigma=q*4*I;\n",
"disp(deltasigma,'change in pressure in lb/ft^2');\n",
"//second solution\n",
"Ic=0.131;//from table\n",
"deltasigma=q*Ic;\n",
"disp(deltasigma,'change in pressure in lb/ft^2');\n",
""
   ]
   }
,
{
		   "cell_type": "markdown",
		   "metadata": {},
		   "source": [
			"## Example 5.2: 2.sce"
		   ]
		  },
  {
"cell_type": "code",
	   "execution_count": null,
	   "metadata": {
	    "collapsed": true
	   },
	   "outputs": [],
"source": [
"//example 5.2\n",
"clc; funcprot(0);\n",
"qo=100;\n",
"H1=3;\n",
"H2=5;\n",
"//from table\n",
"IaH2=0.126;\n",
"IaH1=0.175;\n",
"deltasigma=qo*((H2*IaH2-H1*IaH1)/(H2-H1));\n",
"disp(deltasigma,'change in pressure in kN/m^2');\n",
"TS=4*deltasigma;\n",
"disp(TS,'total change in pressure in kN/m^2');\n",
""
   ]
   }
,
{
		   "cell_type": "markdown",
		   "metadata": {},
		   "source": [
			"## Example 5.3: 3.sce"
		   ]
		  },
  {
"cell_type": "code",
	   "execution_count": null,
	   "metadata": {
	    "collapsed": true
	   },
	   "outputs": [],
"source": [
"//example 5.3\n",
"clc; funcprot(0);\n",
"H=7;\n",
"Gamma=17.5;\n",
"q0=Gamma*H\n",
"disp(q0,'pressure change in kN/m^2');\n",
"//part2\n",
"//from figure\n",
"Ileftside=0.445;\n",
"Irightside=0.445;\n",
"deltasigma=q0*(Ileftside+Irightside);\n",
"disp(deltasigma,'change in stress in kN/m^2');\n",
"//partc\n",
"//from figure 5.11\n",
"I=0.24;//I'\n",
"Dsigma1=43.75*I;//deltasigma1\n",
"I2=0.495;//I'\n",
"Dsigma2=I2*q0;//deltasigma2\n",
"I3=0.335;//I'\n",
"Dsigma3=I3*78.75;//deltasigma3\n",
"Dsigma=Dsigma1+Dsigma2-Dsigma3;\n",
"disp(Dsigma,'total stress increase in A in kN/m^2');\n",
""
   ]
   }
,
{
		   "cell_type": "markdown",
		   "metadata": {},
		   "source": [
			"## Example 5.4: 4.sce"
		   ]
		  },
  {
"cell_type": "code",
	   "execution_count": null,
	   "metadata": {
	    "collapsed": true
	   },
	   "outputs": [],
"source": [
"//example 5.4\n",
"clc; funcprot(0);\n",
"zbar=5;\n",
"mus=0.3;\n",
"F1=0.641;\n",
"F2=0.031;\n",
"z1=2;\n",
"z2=1;\n",
"z3=2;\n",
"Es1=10000;\n",
"Es2=8000;\n",
"Es3=12000;\n",
"qo=150;\n",
"//from table\n",
"If=0.709;\n",
"Es=(Es1*z1+Es2*z2+Es3*z3)/zbar;\n",
"disp(Es,'modulus of elasticity in kN/m^2');\n",
"Is=F1+(2-mus)/(1-mus)*F2;\n",
"Sc=qo*(1/Es-mus^2/Es)*Is*If*2;\n",
"Scrigid=0.93*Sc;\n",
"disp(Scrigid*1000,'settelement in mm');\n",
""
   ]
   }
,
{
		   "cell_type": "markdown",
		   "metadata": {},
		   "source": [
			"## Example 5.5: 5.sce"
		   ]
		  },
  {
"cell_type": "code",
	   "execution_count": null,
	   "metadata": {
	    "collapsed": true
	   },
	   "outputs": [],
"source": [
"//example 5.5\n",
"clc; funcprot(0);\n",
"B=5;\n",
"L=10;\n",
"Ef=2.3e6;\n",
"Eo=1400;\n",
"k=25;\n",
"t=1.0;\n",
"mus=0.3;\n",
"Df=5;\n",
"qo=5000;\n",
"Ig=0.69;\n",
"Be=sqrt(4*B*L/%pi);\n",
"If=%pi/4+1/(4.6+10*(Ef/(Eo+2*Be/2*k))*(2*t/Be)^3);\n",
"Ie=1-1/(3.5*exp(1.22*mus-0.4)*(Be/Df+1.6));\n",
"Se=qo*Be*Ig*If*Ie/Eo*(1-mus^2)/144;\n",
"disp(Se*12,'settlement in inches');\n",
""
   ]
   }
,
{
		   "cell_type": "markdown",
		   "metadata": {},
		   "source": [
			"## Example 5.6: 6.sce"
		   ]
		  },
  {
"cell_type": "code",
	   "execution_count": null,
	   "metadata": {
	    "collapsed": true
	   },
	   "outputs": [],
"source": [
"//example 5.6\n",
"clc; funcprot(0);\n",
"q=3.06;\n",
"qbar=25;\n",
"C1=1-0.5*(q/(qbar-q));\n",
"Sum=0;\n",
"C2=1+0.2*log10(10/0.1);\n",
"L=[1, 2, 3, 4, 5];\n",
"Dz=[48, 48, 96, 48, 144];\n",
"Es=[750, 1250, 1250, 1000, 2000];\n",
"z=[24, 72, 144, 216, 312];\n",
"Iz=[0.275, 0.425, 0.417, 0.292, 0.125];\n",
"printf('Layer No.\t deltaz (in)\t Es(lb/in^2)\t z to the middle of the layer (in)  Iz at the middle of the layer  Iz/delta(z) \n');\n",
"for i=1:5\n",
"    k(i)=Iz(i)/Es(i)*Dz(i);\n",
"    printf('%.2f\t \t %.2f\t\t   %.2f\t\t %.2f \t\t\t\t\t   %.2f\t\t    %.4f \n ',L(i),Dz(i),Es(i),z(i),Iz(i),k(i));\n",
"    Sum=Sum+k(i);\n",
"end\n",
"Se=C1*C2*(qbar-q)*Sum;\n",
"disp(Se,'settlement in inches');\n",
""
   ]
   }
,
{
		   "cell_type": "markdown",
		   "metadata": {},
		   "source": [
			"## Example 5.7: 7.sce"
		   ]
		  },
  {
"cell_type": "code",
	   "execution_count": null,
	   "metadata": {
	    "collapsed": true
	   },
	   "outputs": [],
"source": [
"//example 5.8\n",
"clc; funcprot(0);\n",
"Df=1;\n",
"B=1.75;\n",
"qnet=120;\n",
"N60=10;\n",
"Fd=1+0.33*Df/B;\n",
"Se=2*qnet/N60/Fd*(B/(B+0.3))^2;\n",
"disp(Se,'settlement in mm');\n",
""
   ]
   }
,
{
		   "cell_type": "markdown",
		   "metadata": {},
		   "source": [
			"## Example 5.8: 8.sce"
		   ]
		  },
  {
"cell_type": "code",
	   "execution_count": null,
	   "metadata": {
	    "collapsed": true
	   },
	   "outputs": [],
"source": [
"//example 5.8\n",
"clc; funcprot(0);\n",
"Df=1;\n",
"B=1.75;\n",
"qnet=120;\n",
"N60=10;\n",
"Fd=1+0.33*Df/B;\n",
"Se=2*qnet/N60/Fd*(B/(B+0.3))^2;\n",
"disp(Se,'settlement in mm');\n",
""
   ]
   }
,
{
		   "cell_type": "markdown",
		   "metadata": {},
		   "source": [
			"## Example 5.9: 9.sce"
		   ]
		  },
  {
"cell_type": "code",
	   "execution_count": null,
	   "metadata": {
	    "collapsed": true
	   },
	   "outputs": [],
"source": [
"//example 5.9\n",
"clc; funcprot(0);\n",
"Ny=23.76;\n",
"Nq=16.51;\n",
"q=3*110;\n",
"Gamma=110;\n",
"B=4;\n",
"Nqe=0.63*Nq;\n",
"Nye=0.4*Ny;\n",
"que=q*Nqe+1/2*Gamma*B*Nye;\n",
"disp(que,'bearing capacity in lb/ft^2');\n",
"//part 2\n",
"V=0.4;\n",
"A=0.32;\n",
"g=9.81;\n",
"kh=0.26;\n",
"k=0.92;//tan(alphae)\n",
"Seq=0.174*k*V^2/A/g*kh^-4/A^-4;\n",
"disp(Seq,'settelement in m');\n",
"disp(Seq*39.57,'settlement in inches')\n",
""
   ]
   }
],
"metadata": {
		  "kernelspec": {
		   "display_name": "Scilab",
		   "language": "scilab",
		   "name": "scilab"
		  },
		  "language_info": {
		   "file_extension": ".sce",
		   "help_links": [
			{
			 "text": "MetaKernel Magics",
			 "url": "https://github.com/calysto/metakernel/blob/master/metakernel/magics/README.md"
			}
		   ],
		   "mimetype": "text/x-octave",
		   "name": "scilab",
		   "version": "0.7.1"
		  }
		 },
		 "nbformat": 4,
		 "nbformat_minor": 0
}
