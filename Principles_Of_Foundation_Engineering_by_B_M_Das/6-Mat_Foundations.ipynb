{
"cells": [
 {
		   "cell_type": "markdown",
	   "metadata": {},
	   "source": [
       "# Chapter 6: Mat Foundations"
	   ]
	},
{
		   "cell_type": "markdown",
		   "metadata": {},
		   "source": [
			"## Example 6.1: 1.sce"
		   ]
		  },
  {
"cell_type": "code",
	   "execution_count": null,
	   "metadata": {
	    "collapsed": true
	   },
	   "outputs": [],
"source": [
"//example 6.1\n",
"clc; funcprot(0);\n",
"B=30;\n",
"L=45;\n",
"Df=6.5;\n",
"cu=1950;\n",
"qunet=5.14*cu*(1+0.195*B/L)*(1+0.4*Df/B);\n",
"disp(qunet,'allowed force in lb/ft^2');\n",
"\n",
""
   ]
   }
,
{
		   "cell_type": "markdown",
		   "metadata": {},
		   "source": [
			"## Example 6.2: 2.sce"
		   ]
		  },
  {
"cell_type": "code",
	   "execution_count": null,
	   "metadata": {
	    "collapsed": true
	   },
	   "outputs": [],
"source": [
"//example 6.2\n",
"clc; funcprot(0);\n",
"N60=10;\n",
"Df=2;\n",
"B=10;\n",
"Se=25;\n",
"qnetall=N60/0.08*(1+0.33*Df/B)*Se/25;\n",
"disp(qnetall,'allowed pressure in kN/m^2');\n",
""
   ]
   }
,
{
		   "cell_type": "markdown",
		   "metadata": {},
		   "source": [
			"## Example 6.3: 3.sce"
		   ]
		  },
  {
"cell_type": "code",
	   "execution_count": null,
	   "metadata": {
	    "collapsed": true
	   },
	   "outputs": [],
"source": [
"//example 6.3\n",
"clc; funcprot(0);\n",
"cu=2800;\n",
"B=60;\n",
"L=100;\n",
"Df=5;\n",
"B=60;\n",
"Gamma=120;\n",
"A=60*100;\n",
"Q=25e6;\n",
"FS=5.14*cu*(1+0.195*B/L)*(1+0.4*Df/B)/(Q/A-Gamma*Df);\n",
"disp(FS,'factor of safety');\n",
""
   ]
   }
,
{
		   "cell_type": "markdown",
		   "metadata": {},
		   "source": [
			"## Example 6.4: 4.sce"
		   ]
		  },
  {
"cell_type": "code",
	   "execution_count": null,
	   "metadata": {
	    "collapsed": true
	   },
	   "outputs": [],
"source": [
"//example 6.4\n",
"clc; funcprot(0);\n",
"Cc=0.28;\n",
"Hc=18*12;\n",
"e0=0.9;\n",
"sigmao=11*100+40*(121.5-64)+18/2*(118-62.4);\n",
"H2=5+40+18;\n",
"H1=5+40;\n",
"qo=3567;\n",
"//from table\n",
"IaH2=0.21;\n",
"IaH1=0.225;\n",
"Dsigma=qo*((H2*IaH2-H1*IaH1)/(H2-H1))*4;\n",
"Scp=Cc*Hc/(1+e0)*log10(sigmao/sigmao+Dsigma/sigmao);\n",
"disp(Scp,'settlement in inches');\n",
""
   ]
   }
,
{
		   "cell_type": "markdown",
		   "metadata": {},
		   "source": [
			"## Example 6.5: 5.sce"
		   ]
		  },
  {
"cell_type": "code",
	   "execution_count": null,
	   "metadata": {
	    "collapsed": true
	   },
	   "outputs": [],
"source": [
"//example 6.5\n",
"clc; funcprot(0);\n",
"P=['A','B','C','D','E','F','G','H','I','J','K','L','M','N'];//point\n",
"k=1.2*ones(1,14);//Q/A\n",
"x=[-38,-24, -12, 0, 12, 24, 38, 38, 24, 12, 0, -12, -24, -38];\n",
"x1=0.0017*x;\n",
"y=[48,48,48,48,48,48,48, -48, -48, -48, -48, -48, -48, -48];\n",
"y1=-0.0011*y;\n",
"printf('point\t Q\A (kip/ft^2)\t x(ft)\t 0.0017x(ft)\t\t y(ft)\t 0.0011y(ft)\t q(kip/ft^2)\n')\n",
"for i=1:14\n",
"    q(i)=1.2+x1(i)+y1(i);\n",
"    printf('%s\t %.2f\t\t %.2f\t\t%.2f\t\t %.2f\t %.2f\t\t %.2f\n ',P(i),k(i),x(i),x1(i),y(i),y1(i),q(i))\n",
"end\n",
"printf('the soil pressure at all point is less than the given qallnet=1.5 kip/ft^2');\n",
"\n",
""
   ]
   }
,
{
		   "cell_type": "markdown",
		   "metadata": {},
		   "source": [
			"## Example 6.6: 6.sce"
		   ]
		  },
  {
"cell_type": "code",
	   "execution_count": null,
	   "metadata": {
	    "collapsed": true
	   },
	   "outputs": [],
"source": [
"//example 6.6\n",
"clc; funcprot(0);\n",
"//solving for d\n",
"deff('y=f(d)','y=(96+2*d)*d-2615.1');\n",
"[x]=fsolve(19,f);\n",
"d1=x;\n",
"deff('y=f(d)','y=(96+4*d)*d-6046.4');\n",
"[x]=fsolve(28,f);\n",
"d2=x;\n",
"d=max(d2,d1);\n",
"d=round(d)\n",
"//now coming to design part\n",
"h=d+3+1;\n",
"disp(h,'total slab thickness in inches');\n",
"qa=1.082;\n",
"qb=1.106;\n",
"qm=1.212;\n",
"qn=1.188;\n",
"q1A=qa/2+qb/2;\n",
"disp(q1A,'force in strip ABMN in kip/ft^2');\n",
"q2A=qm/2+qn/2;\n",
"disp(q2A,'force in strip ABMN in kip/ft^2');\n",
"q1=1.106/3+1.127/3+1.147/3;\n",
"disp(q1,'force in strip BCDKLM in kip/ft^2');\n",
"q2=1.253/3+1.233/3+1.212/3;\n",
"disp(q2,'force in strip BCDKLM in kip/ft^2');\n",
"q1=1.147/3+1.167/3+1.188/3;\n",
"disp(q1,'force in strip DEFIJK in kip/ft^2');\n",
"q2=1.294/3+1.273/3+1.253/3;\n",
"disp(q2,'force in strip DEFIJK in kip/ft^2');\n",
"q1=1.188/2+1.212/2;\n",
"disp(q1,'force in strip FGHI in kip/ft^2');\n",
"q2=1.318/2+1.294/2;\n",
"disp(q2,'force in strip FGHI in kip/ft^2');\n",
"//checking for force\n",
"//net soil reaction <load \n",
"netforce=1/2*(1.094+1.2)*14*96+1/2*(1.127+1.233)*24*96+1/2*(1.167+1.273)*24*96+1/2*(1.2+1.306)*14*96;\n",
"if netforce<8761 then\n",
"    disp('forces generated is OK')\n",
"end\n",
"//checking for reinforcement requirement\n",
"Q1=1.4*180+1.7*120;\n",
"Q2=1.4*360+1.7*200;\n",
"Q3=1.4*400+1.7*240;\n",
"Q4=1.4*180+1.7*120;\n",
"//solving for a\n",
"deff('y=f(a)','y=0.9*0.51*a*60*(29-a/2)-95.05*12');\n",
"[x]=fsolve(1.4,f);\n",
"a=x;\n",
"As=0.51*a\n",
"fy=60000;\n",
"disp(As,'required area in in^2');\n",
"Asmin=200/fy*12*29;\n",
"disp(Asmin,'minimum reinforcement required in^2/ft');\n",
"printf('use No 9 bars at 10 inch centre to centre')\n",
""
   ]
   }
],
"metadata": {
		  "kernelspec": {
		   "display_name": "Scilab",
		   "language": "scilab",
		   "name": "scilab"
		  },
		  "language_info": {
		   "file_extension": ".sce",
		   "help_links": [
			{
			 "text": "MetaKernel Magics",
			 "url": "https://github.com/calysto/metakernel/blob/master/metakernel/magics/README.md"
			}
		   ],
		   "mimetype": "text/x-octave",
		   "name": "scilab",
		   "version": "0.7.1"
		  }
		 },
		 "nbformat": 4,
		 "nbformat_minor": 0
}
