{
"cells": [
 {
		   "cell_type": "markdown",
	   "metadata": {},
	   "source": [
       "# Chapter 9: Sheet Pile Piles"
	   ]
	},
{
		   "cell_type": "markdown",
		   "metadata": {},
		   "source": [
			"## Example 9.1: 1.sce"
		   ]
		  },
  {
"cell_type": "code",
	   "execution_count": null,
	   "metadata": {
	    "collapsed": true
	   },
	   "outputs": [],
"source": [
"//example 9.1\n",
"clc; funcprot(0);\n",
"sall=30;//sigma allowed\n",
"pi=%pi;\n",
"zbar=12.1;\n",
"L1=10;\n",
"L2=20;\n",
"Gamma=0.12;\n",
"Gamma1=0.1294-0.0624;\n",
"phi=40*pi/180;\n",
"Ka=(tan(pi/4-phi/2))^2;\n",
"Kp=(tan(pi/4+phi/2))^2;\n",
"s1=Gamma*L1*Ka;//sigma1\n",
"s2=Gamma*L1*Ka+Gamma1*L2*Ka;//sigma2\n",
"L3=s2/(Gamma1*(Kp-Ka));\n",
"disp(L3,'length in ft');\n",
"P=1/2*s1*L1+s1*L2+1/2*(s2-s1)*L2+1/2*s2*L3;\n",
"disp(P,'force in kip/ft');\n",
"s5=Gamma*L1*Kp+Gamma1*L2*Kp+Gamma*L3*(Kp-Ka);//sigma5\n",
"disp(s5,'pressure in kip/ft');\n",
"A1=s5/(Gamma1*(Kp-Ka));\n",
"A2=8*P/(Gamma1*(Kp-Ka))\n",
"A3=6*P*(2*zbar*(Gamma1*(Kp-Ka))+s5)/(Gamma1*(Kp-Ka))^2\n",
"A4=P*(6*zbar*s5+4*P)/(Gamma1*(Kp-Ka))^2\n",
"printf('A1,A2,A3,A4 respectively in %.2f,%.2f,%.2f,%.2f \n',A1,A2,A3,A4);\n",
"disp('slight error due to rounding off error')\n",
"//partb\n",
"deff('y=f(x)','y=x^4+41.7*x^3-270.5*x^2-13363*x-106863');\n",
"[x]=fsolve(20,f);\n",
"D=1.88+x;\n",
"disp(D,'value of D, ft')\n",
"TL=L1+L2+1.3*D;\n",
"disp(TL,'total length in ft');\n",
"//partc\n",
"z=sqrt(2*P/(Gamma1*(Kp-Ka)));//zdash\n",
"Mmax=P*(z+zbar)-1/2*(Gamma1*(Kp-Ka))*z^2*z/3;\n",
"S=Mmax*12/sall;\n",
"disp(S,'section modulus in in^3/ft')\n",
""
   ]
   }
,
{
		   "cell_type": "markdown",
		   "metadata": {},
		   "source": [
			"## Example 9.2: 2.sce"
		   ]
		  },
  {
"cell_type": "code",
	   "execution_count": null,
	   "metadata": {
	    "collapsed": true
	   },
	   "outputs": [],
"source": [
"//example 9.2\n",
"clc; funcprot(0);\n",
"sall=172.5*1000;//sigma allowed\n",
"pi=%pi;\n",
"c=47;\n",
"zbar=1.78;\n",
"L1=2;\n",
"L2=3;\n",
"Gamma=15.9;\n",
"Gamma1=19.33-9.81;\n",
"phi=32*pi/180;\n",
"Ka=(tan(pi/4-phi/2))^2;\n",
"Kp=(tan(pi/4+phi/2))^2;\n",
"s1=Gamma*L1*Ka;//sigma1\n",
"s2=Gamma*L1*Ka+Gamma1*L2*Ka;//sigma2\n",
"P=1/2*s1*L1+s1*L2+1/2*(s2-s1)*L2;\n",
"disp(P,'force in kN/ft');\n",
"deff('y=f(x)','y=127.4*x^2-104.4*x-357.15');\n",
"[x]=fsolve(2,f);\n",
"D=x;\n",
"disp(D,'value of D, m')\n",
"disp(D*1.5,'actual D in m')\n",
"L4=D*(4*c-(Gamma*L1+Gamma1*L2)-P/D)/4/c;\n",
"disp(L4,'length in m');\n",
"s6=4*c-(Gamma*L1+Gamma1*L2);//sigma6\n",
"s7=4*c+(Gamma*L1+Gamma1*L2);//sigma7\n",
"z=P/s6;//zdash\n",
"Mmax=P*(z+zbar)-1/2*s6*z^2;\n",
"S=Mmax*12/sall;\n",
"disp(S,'section modulus in m^3/m')\n",
"disp('slight error due to rounding off error')\n",
""
   ]
   }
,
{
		   "cell_type": "markdown",
		   "metadata": {},
		   "source": [
			"## Example 9.3: 3.sce"
		   ]
		  },
  {
"cell_type": "code",
	   "execution_count": null,
	   "metadata": {
	    "collapsed": true
	   },
	   "outputs": [],
"source": [
"//example 9.3\n",
"clc; funcprot(0);\n",
"pi=%pi;\n",
"zbar=2.23;\n",
"L1=2;\n",
"L2=3;\n",
"Gamma=15.9;\n",
"Gamma1=19.33-9.81;\n",
"phi=32*pi/180;\n",
"Ka=(tan(pi/4-phi/2))^2;\n",
"Kp=(tan(pi/4+phi/2))^2;\n",
"s1=Gamma*L1*Ka;//sigma1\n",
"s2=Gamma*L1*Ka+Gamma1*L2*Ka;//sigma2\n",
"L3=s2/(Gamma1*(Kp-Ka));\n",
"disp(L3,'length in m');\n",
"P=1/2*s1*L1+s1*L2+1/2*(s2-s1)*L2+1/2*s2*L3;\n",
"disp(P,'force in kN/m');\n",
"deff('y=f(x)','y=x^3+6.99*x^2-14.55');\n",
"[x]=fsolve(1.4,f);\n",
"D=L3+x;\n",
"disp(D,'value of D in m')\n",
"AL=1.4*D;\n",
"disp(AL,'actual length in m');\n",
"//partb\n",
"L4=1.4;\n",
"F=P-1/2*(Gamma1*(Kp-Ka)*L4^2);\n",
"disp(F,'anchor force in kN/m');\n",
"//partc\n",
"deff('y=f(x)','y=x^2+6.682*x-14.44');\n",
"[x]=fsolve(1.7,f);\n",
"z=x+2;\n",
"Mmax=-1/2*s1*L1*(x+2/3)+F*(x+1)-s1*x*x/2-1/2*Ka*Gamma1*x^3/3;\n",
"disp(Mmax,'maximum moment in kN-m/m')\n",
""
   ]
   }
,
{
		   "cell_type": "markdown",
		   "metadata": {},
		   "source": [
			"## Example 9.4: 4.sce"
		   ]
		  },
  {
"cell_type": "code",
	   "execution_count": null,
	   "metadata": {
	    "collapsed": true
	   },
	   "outputs": [],
"source": [
"//example 9.4\n",
"clc; funcprot(0);\n",
"Gamma=15.9;\n",
"Gamma1=19.33-9.81;\n",
"GD=0.23;\n",
"CDL1=1.172;\n",
"L1=2;\n",
"L2=3;\n",
"Dth=(L1+L2)*GD*CDL1;\n",
"disp(Dth,'theoritical depth in m');\n",
"Dac=1.4*Dth;\n",
"disp(Dac,'actual depth in m');\n",
"printf('approximate it as 2 m');\n",
"//partb\n",
"CFL1=1.073;\n",
"GF=0.07;\n",
"Gammaa=(Gamma*L1^2+Gamma1*L2^2+2*Gamma*L1*L2)/(L1+L2)^2;\n",
"F=Gammaa*(L1+L2)^2*GF*CFL1;\n",
"disp(F,'force in kN/m');\n",
"//partc\n",
"GM=0.021;\n",
"CML1=1.036;\n",
"Mmax=Gammaa*(L1+L2)^3*GM*CML1;\n",
"disp(Mmax,'maximum moment in kN-m/m');\n",
""
   ]
   }
,
{
		   "cell_type": "markdown",
		   "metadata": {},
		   "source": [
			"## Example 9.5: 5.sce"
		   ]
		  },
  {
"cell_type": "code",
	   "execution_count": null,
	   "metadata": {
	    "collapsed": true
	   },
	   "outputs": [],
"source": [
"//example 9.5\n",
"clc; funcprot(0);\n",
"Mmax=43.72;\n",
"sp=['PSA-31','PSA-23'];//sheet pile\n",
"H=[7.9,7.9]\n",
"I=[4.41e-6,5.63e-6];\n",
"p=[0.00466,0.00365];\n",
"S=[10.8e-5,12.8e-5];\n",
"Md=[18.63,22.08];\n",
"printf('SheetPile    I(m^4/m)  H(m)  p\t     Logp  S(m^3/m)  Md(kN-m/m) Md/Mmax \n')\n",
"for i=1:2\n",
"    Logp(i)=log10(p(i));\n",
"    k(i)=Md(i)/Mmax;\n",
"    printf('%s\t   %.2e    %.2f %f %.2f %.2e   %.2f\t %.3f\n',sp(i),I(i),H(i),p(i),Logp(i),S(i),Md(i),k(i));\n",
"    \n",
"end\n",
"plot(Logp,k);\n",
"xtitle('','LogP','Md/Mmax');\n",
""
   ]
   }
,
{
		   "cell_type": "markdown",
		   "metadata": {},
		   "source": [
			"## Example 9.6: 6.sce"
		   ]
		  },
  {
"cell_type": "code",
	   "execution_count": null,
	   "metadata": {
	    "collapsed": true
	   },
	   "outputs": [],
"source": [
"//example 9.6\n",
"clc; funcprot(0);\n",
"pi=%pi;\n",
"R=0.6;\n",
"L1=10;\n",
"L2=20;\n",
"Gammasat=122.4;\n",
"l1=5;\n",
"Gamma=110;\n",
"C=0.68;\n",
"L=L1+L2;;\n",
"Gammaw=62.4;\n",
"Gamma1=Gammasat-Gammaw;//gammadash\n",
"Gammaav=(Gamma*L1+Gamma1*L2)/(L1+L2);\n",
"phi=35*pi/180;\n",
"Ka=(tan(pi/4-phi/2))^2;\n",
"sa=C*Ka*Gammaav*L;//sigmaa\n",
"sp=R*sa;//sigmap\n",
"deff('y=f(x)', 'y=x^2+50*x-1000');\n",
"[x]=fsolve(15,f);\n",
"D=x;\n",
"disp(D,'depth in ft');\n",
"R=L/D*(L-2*l1)/(2*L+D-2*l1);\n",
"printf('value of R=%.2f is OK\n',R);\n",
"//partb\n",
"F=sa*(L-R*D);\n",
"disp(F,'Force in lb/ft')\n",
"//partc\n",
"Mmax=0.5*sa*L^2*((1-R*D/L)^2-2*l1/L*(1-R*D/L));\n",
"disp(Mmax,'maximum moment lb-ft/ft');\n",
""
   ]
   }
,
{
		   "cell_type": "markdown",
		   "metadata": {},
		   "source": [
			"## Example 9.7: 7.sce"
		   ]
		  },
  {
"cell_type": "code",
	   "execution_count": null,
	   "metadata": {
	    "collapsed": true
	   },
	   "outputs": [],
"source": [
"//example 9.7\n",
"clc; funcprot(0);\n",
"pi=%pi;\n",
"zbar=3.2;\n",
"c=41;\n",
"L1=3;\n",
"L2=6;\n",
"Gamma=17;\n",
"Gamma1=20-9.81;\n",
"phi=35*pi/180;\n",
"Ka=(tan(pi/4-phi/2))^2;\n",
"Kp=(tan(pi/4+phi/2))^2;\n",
"s1=Gamma*L1*Ka;//sigma1\n",
"s2=Gamma*L1*Ka+Gamma1*L2*Ka;//sigma2\n",
"P=1/2*s1*L1+s1*L2+1/2*(s2-s1)*L2;\n",
"disp(P,'Force in kN/m');\n",
"s6=4*c-(Gamma*L1+Gamma1*L2);//sigma6\n",
"disp(s6,'pressure in kN/m^2');\n",
"deff('y=f(x)','y=x^2+15*x-25.43');\n",
"[x]=fsolve(1.6,f);\n",
"D=x;\n",
"disp(D,'depth in m');\n",
"F=P-s6*D;\n",
"disp(F,'force in kN/m');\n",
"printf('slight error due to rounding off')\n",
""
   ]
   }
,
{
		   "cell_type": "markdown",
		   "metadata": {},
		   "source": [
			"## Example 9.8: 4.sce"
		   ]
		  },
  {
"cell_type": "code",
	   "execution_count": null,
	   "metadata": {
	    "collapsed": true
	   },
	   "outputs": [],
"source": [
"//example 9.8\n",
"clc; funcprot(0);\n",
"pi=%pi;\n",
"Gamma=105;\n",
"Cov=14;\n",
"B=15/12;\n",
"Ka=0.26;\n",
"phi=35*pi/180;\n",
"H=37.5/12;\n",
"h=15/12;\n",
"t=6/12;\n",
"Gc=150;//gamma concrete\n",
"W=H*t*Gc;\n",
"k=4.5;//kp*cos(delta)\n",
"Pu=1/2*Gamma*H^2*(k-Ka*cos(phi));\n",
"disp(Pu,'force in lb/ft');\n",
"Pus=[(Cov+1)/(Cov+H/h)]*Pu;\n",
"disp(Pus,'force in lb/ft');\n",
"Be=0.227*(H+h)+B;\n",
"Pu=Pus*Be;\n",
"disp(Pu,'resistance of anchor plate i lb/ft')\n",
""
   ]
   }
],
"metadata": {
		  "kernelspec": {
		   "display_name": "Scilab",
		   "language": "scilab",
		   "name": "scilab"
		  },
		  "language_info": {
		   "file_extension": ".sce",
		   "help_links": [
			{
			 "text": "MetaKernel Magics",
			 "url": "https://github.com/calysto/metakernel/blob/master/metakernel/magics/README.md"
			}
		   ],
		   "mimetype": "text/x-octave",
		   "name": "scilab",
		   "version": "0.7.1"
		  }
		 },
		 "nbformat": 4,
		 "nbformat_minor": 0
}
