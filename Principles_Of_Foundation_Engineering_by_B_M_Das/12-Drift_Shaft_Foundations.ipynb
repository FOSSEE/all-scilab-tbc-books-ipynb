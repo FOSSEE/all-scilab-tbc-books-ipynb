{
"cells": [
 {
		   "cell_type": "markdown",
	   "metadata": {},
	   "source": [
       "# Chapter 12: Drift Shaft Foundations"
	   ]
	},
{
		   "cell_type": "markdown",
		   "metadata": {},
		   "source": [
			"## Example 12.1: 1.sce"
		   ]
		  },
  {
"cell_type": "code",
	   "execution_count": null,
	   "metadata": {
	    "collapsed": true
	   },
	   "outputs": [],
"source": [
"//example 12.1\n",
"clc; funcprot(0);\n",
"Ap=%pi/4*1.75^2;\n",
"FS=4;\n",
"Nq=37.75;\n",
"L=8;\n",
"Es=50000;\n",
"mus=0.265;\n",
"pu=100;\n",
"Db=1.75;\n",
"q=6*16.2+2*19.2;\n",
"phi=36*%pi/180;\n",
"Fqs=1+tan(phi);\n",
"Fqd=1+2*tan(phi)*(1-sin(phi))^2*atan(L/Db);\n",
"Ir=Es/(2*(1+mus)*q*tan(phi));\n",
"delta=0.005*(1-phi/20*180/%pi+25/20)*q/pu;\n",
"Irr=Ir/(1+Ir*delta);\n",
"Fqc=exp(-3.8*tan(phi)+(3.07*sin(phi)*log10(2*Irr))/(1+sin(phi)));\n",
"Qp=Ap*(q*(Nq-1)*Fqs*Fqd*Fqc);\n",
"Qpall=Qp/FS;\n",
"disp(Qpall,'allowed load in kN');\n",
"disp('due to rounding off error there is slight change in answer')\n",
"\n",
""
   ]
   }
,
{
		   "cell_type": "markdown",
		   "metadata": {},
		   "source": [
			"## Example 12.2: 2.sce"
		   ]
		  },
  {
"cell_type": "code",
	   "execution_count": null,
	   "metadata": {
	    "collapsed": true
	   },
	   "outputs": [],
"source": [
"//example 12.2\n",
"clc; funcprot(0);\n",
"Ap=%pi/4*1.75^2;\n",
"q=135.6;\n",
"w=0.83;\n",
"FS=4;\n",
"phi=36;\n",
"Nq=0.21*exp(0.17*phi);\n",
"Qp=Ap*q*(w*Nq-1);\n",
"Qpall=Qp/FS;\n",
"disp(Qpall,'allowed load in kN');\n",
""
   ]
   }
,
{
		   "cell_type": "markdown",
		   "metadata": {},
		   "source": [
			"## Example 12.3: 3.sce"
		   ]
		  },
  {
"cell_type": "code",
	   "execution_count": null,
	   "metadata": {
	    "collapsed": true
	   },
	   "outputs": [],
"source": [
"//example 12.3\n",
"clc; funcprot(0);\n",
"Ap=%pi/4*1.5^2;\n",
"Db=1.5;\n",
"z=3;\n",
"p=%pi*1;\n",
"Li=6;\n",
"N60=30;\n",
"sigmazi=16*z;\n",
"Beta=2.0-0.15*z^0.75;\n",
"fi=Beta*sigmazi;\n",
"qp=57.5*N60;\n",
"qpr=1.27/Db*qp;\n",
"Qunet=qpr*Ap+fi*p*Li;\n",
"disp(Qunet,'allowed load in kN');\n",
"//part b\n",
"k1=0.315; //from table\n",
"k2=12/1.5/1000*100;\n",
"Qunet2=qpr*Ap*k1+fi*p*Li*k2;\n",
"disp(Qunet2,'allowed load in kN');\n",
""
   ]
   }
,
{
		   "cell_type": "markdown",
		   "metadata": {},
		   "source": [
			"## Example 12.4: 4.sce"
		   ]
		  },
  {
"cell_type": "code",
	   "execution_count": null,
	   "metadata": {
	    "collapsed": true
	   },
	   "outputs": [],
"source": [
"//example 12.4\n",
"clc; funcprot(0);\n",
"Nc=9;\n",
"Ap=%pi/4*1.5^2;\n",
"cu=105;\n",
"Qpnet=Ap*cu*Nc;\n",
"disp(Qpnet,'net ultimate bearing point capacity in kN');\n",
"//part2\n",
"alpha=0.4;\n",
"Ds=1.5;\n",
"p=%pi*Ds;\n",
"Qs=alpha*p*(50*8+105*3);\n",
"disp(Qs,'skin resistance in kN');\n",
"//part3\n",
"FS=3;\n",
"Qu=Qpnet/FS+Qs/FS;\n",
"disp(Qu,'working load in kN');\n",
""
   ]
   }
,
{
		   "cell_type": "markdown",
		   "metadata": {},
		   "source": [
			"## Example 12.5: 5.sce"
		   ]
		  },
  {
"cell_type": "code",
	   "execution_count": null,
	   "metadata": {
	    "collapsed": true
	   },
	   "outputs": [],
"source": [
"//example 12.5\n",
"clc; funcprot(0);\n",
"cub=3000;\n",
"L=20+5;\n",
"Db=4;\n",
"Ap=%pi/4*Db^2;\n",
"alpha=0.55;\n",
"cu1=800;\n",
"L1=7;\n",
"L2=5.5;\n",
"cu2=1200;\n",
"p=%pi*2.5;\n",
"k=alpha*p*(cu1*L1+cu2*L2);//f*p*deltaLi\n",
"j1=6*cub*(1+0.2*L/Db);\n",
"j2=9*cub;\n",
"[qp]=min(j1,j2);\n",
"Qu=k/1000+qp*Ap/1000;\n",
"disp(Qu,'allowed load in kN');\n",
"//part b\n",
"k1=0.57; //from table\n",
"k2=0.89;\n",
"Qunet2=qp*Ap*k1+k*k2;\n",
"disp(Qunet2/1000,'allowed load in kN');\n",
""
   ]
   }
,
{
		   "cell_type": "markdown",
		   "metadata": {},
		   "source": [
			"## Example 12.6: 6.sce"
		   ]
		  },
  {
"cell_type": "code",
	   "execution_count": null,
	   "metadata": {
	    "collapsed": true
	   },
	   "outputs": [],
"source": [
"//example 12.6\n",
"clc; funcprot(0);\n",
"Qws=1005-250;\n",
"Qwp=250;\n",
"epsilon=0.65;\n",
"L=11;\n",
"Ds=1.5;\n",
"Es=14000;\n",
"Ap=%pi/4*1.5^2;\n",
"Ep=21e6;\n",
"Cp=0.04;\n",
"Db=1.5;\n",
"mus=0.3;\n",
"p=%pi*1.5;\n",
"Nc=9;\n",
"qp=105*Nc;\n",
"se1=(Qwp+epsilon*Qws)*L/(Ap*Ep);\n",
"se2=Qwp*Cp/(Db*qp);\n",
"Iws=2+0.35*sqrt(L/Ds);\n",
"se3=Qws/p/L*Ds/Es*(1-mus^2)*Iws;\n",
"se=se1+se2+se3;\n",
"disp(se*1000,'net settlement in mm');\n",
""
   ]
   }
,
{
		   "cell_type": "markdown",
		   "metadata": {},
		   "source": [
			"## Example 12.7: 7.sce"
		   ]
		  },
  {
"cell_type": "code",
	   "execution_count": null,
	   "metadata": {
	    "collapsed": true
	   },
	   "outputs": [],
"source": [
"//example 12.7\n",
"clc; funcprot(0);\n",
"Ds=1;\n",
"Ep=22e6;\n",
"Ri=1;\n",
"cu=100;\n",
"Ip=%pi*Ds^4/64;\n",
"Qc=7.34*Ds^2*Ep*Ri*(cu/Ep/Ri)^0.6;\n",
"disp(Qc,'bearing force in kN');\n",
"Mc=3.86*Ds^3*Ep*Ri*(cu/Ep/Ri)^0.6;\n",
"disp(Mc,'bearing moment on kNm')\n",
"//from figure\n",
"xoQM=0.0046*1;\n",
"xoMQ=0.0041*1;\n",
"xo=0.5*(xoQM+xoMQ);\n",
"disp(xo*1000,'net ground line deflection in mm');\n",
"//partb\n",
"Ip=0.049;\n",
"Qg=150;\n",
"Mg=200;\n",
"deff('y=f(T)','y=338e-6*T^3+300.6e-6*T^2-0.00435');\n",
"[x]=fsolve(2,f);\n",
"T=x;\n",
"k=[0, 0.4, 0.6, 0.8, 1, 1.1, 1.25];//z/T\n",
"Am=[0, 0.36, 0.52, 0.63, 0.75, 0.765, 0.75];\n",
"Bm=[1, 0.98, 0.95, 0.9, 0.845, 0.8, 0.73];\n",
"printf('z/T\t Am\t Bm\t Mz(kN-m)\n');\n",
"for i=1:7\n",
"    Mz(i)=Am(i)*Qg*T+Bm(i)*Mg;\n",
"    printf('%.2f\t %.2f\t %.2f\t %.2f \n',k(i),Am(i),Bm(i),Mz(i));\n",
"end\n",
"disp(1*T,'depth in m');\n",
"//partc\n",
"Mmax=400;\n",
"sigma=Mmax*Ds/2/Ip;\n",
"disp(sigma,'tensile stress in kN/m^2');\n",
"//partd\n",
"//from figure\n",
"k=0.85;\n",
"L=k*1;\n",
"disp(L,'length in m');\n",
""
   ]
   }
,
{
		   "cell_type": "markdown",
		   "metadata": {},
		   "source": [
			"## Example 12.8: 8.sce"
		   ]
		  },
  {
"cell_type": "code",
	   "execution_count": null,
	   "metadata": {
	    "collapsed": true
	   },
	   "outputs": [],
"source": [
"//example 12.8\n",
"clc; funcprot(0);\n",
"qu=3000;\n",
"Ds=3*12;\n",
"L=15*12;\n",
"FS=3;\n",
"Ecore=0.36e6;\n",
"f=min(2.5*qu^0.5,0.15*qu);\n",
"Qu=%pi*Ds*L*f/1000;\n",
"Emass=Ecore*(0.266*80-1.66);\n",
"Ec=17.9*Emass;\n",
"Ac=%pi/4*Ds^2;\n",
"If=0.35;\n",
"se=Qu*L/Ac/Ec+Qu*If/Ds/Emass;\n",
"Qall=Qu/FS;\n",
"disp(Qall,'allowed load in kN');\n",
""
   ]
   }
],
"metadata": {
		  "kernelspec": {
		   "display_name": "Scilab",
		   "language": "scilab",
		   "name": "scilab"
		  },
		  "language_info": {
		   "file_extension": ".sce",
		   "help_links": [
			{
			 "text": "MetaKernel Magics",
			 "url": "https://github.com/calysto/metakernel/blob/master/metakernel/magics/README.md"
			}
		   ],
		   "mimetype": "text/x-octave",
		   "name": "scilab",
		   "version": "0.7.1"
		  }
		 },
		 "nbformat": 4,
		 "nbformat_minor": 0
}
