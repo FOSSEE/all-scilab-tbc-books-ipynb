{
"cells": [
 {
		   "cell_type": "markdown",
	   "metadata": {},
	   "source": [
       "# Chapter 4: Ultimate Bearing Capacity of Shallow Foundations"
	   ]
	},
{
		   "cell_type": "markdown",
		   "metadata": {},
		   "source": [
			"## Example 4.1: 1.sce"
		   ]
		  },
  {
"cell_type": "code",
	   "execution_count": null,
	   "metadata": {
	    "collapsed": true
	   },
	   "outputs": [],
"source": [
"//example 4.1\n",
"clc; funcprot(0);\n",
"FS=4;\n",
"q=110*2;\n",
"Nq=90;\n",
"Ny=50;\n",
"Gamma=110;\n",
"m1=0.34;\n",
"B=2.5;\n",
"L=2.5;\n",
"H=1.5;\n",
"phi=35;\n",
"m2=0.45;\n",
"Fqs=1-0.34*B/L;\n",
"Fys=1-0.45*B/L;\n",
"qu=q*Nq*Fqs+1/2*Gamma*Ny*Fys*B;\n",
"Qall=qu*B^2/FS;\n",
"disp(Qall,'bearing load in lb');\n",
""
   ]
   }
,
{
		   "cell_type": "markdown",
		   "metadata": {},
		   "source": [
			"## Example 4.2: 2.sce"
		   ]
		  },
  {
"cell_type": "code",
	   "execution_count": null,
	   "metadata": {
	    "collapsed": true
	   },
	   "outputs": [],
"source": [
"//example 4.2\n",
"clc; funcprot(0);\n",
"FS=3;\n",
"cu=72;\n",
"q=18;\n",
"B=1;\n",
"H=0.25;\n",
"qu=5.14*(1+(0.5*B/H-0.707)/5.14)*cu+q;\n",
"qall=qu/FS;\n",
"disp(qall,'bearing capacity of soil in kN/m^2');\n",
""
   ]
   }
,
{
		   "cell_type": "markdown",
		   "metadata": {},
		   "source": [
			"## Example 4.3: 3.sce"
		   ]
		  },
  {
"cell_type": "code",
	   "execution_count": null,
	   "metadata": {
	    "collapsed": true
	   },
	   "outputs": [],
"source": [
"//example 4.3\n",
"clc; funcprot(0);\n",
"k=0;//B/L;\n",
"c2=30;\n",
"Gamma=17.5;\n",
"H=1.5;\n",
"Df=1.2;\n",
"H=1.5;\n",
"B=2.0;\n",
"Ks=2.5;\n",
"phi=40;\n",
"pi=%pi;\n",
"qu=(1+0.2*k)*5.14*c2+(1+k)*Gamma*H^2*(1+2*Df/H)*Ks*tan(phi*pi/180)/B+Gamma*H;\n",
"Qu=qu*B;\n",
"disp(Qu,'bearing capacity in kN/m');\n",
"disp('there is slight variation due to rounding off error')\n",
"//soil 2\n",
"Ny=109.4;\n",
"Nq=64.2;\n",
"Fqs=1;\n",
"Fys=1;\n",
"qt=Gamma*Df*Nq*Fqs+1/2*Gamma*Ny*Fys*B;\n",
"disp(qt,'bearing capacity in kN/m^2');\n",
""
   ]
   }
,
{
		   "cell_type": "markdown",
		   "metadata": {},
		   "source": [
			"## Example 4.4: 4.sce"
		   ]
		  },
  {
"cell_type": "code",
	   "execution_count": null,
	   "metadata": {
	    "collapsed": true
	   },
	   "outputs": [],
"source": [
"//example 4.4\n",
"clc; funcprot(0);\n",
"B=1;\n",
"L=1.5;\n",
"c2=48;\n",
"ca=108;\n",
"D=1;\n",
"H=1;\n",
"Gamma=16.8;\n",
"FS=4;\n",
"qu=(1+0.2*B/L)*5.14*c2+(1+B/L)*2*ca*H/B+Gamma*D;\n",
"c1=120;\n",
"gamma1=16.8;\n",
"Df=1;\n",
"qt=(1+0.2*B/L)*5.14*c1+gamma1*Df;\n",
"disp(qt,'qt in kN/m^2');\n",
"disp('no need to calculate qt since it is not useful for calculation')\n",
"disp(qu/FS,'allowable shear stress in kN/m^2');\n",
"disp(qu/FS*1*1.5,'allowable load in kN');\n",
"clear()"
   ]
   }
,
{
		   "cell_type": "markdown",
		   "metadata": {},
		   "source": [
			"## Example 4.5: 5.sce"
		   ]
		  },
  {
"cell_type": "code",
	   "execution_count": null,
	   "metadata": {
	    "collapsed": true
	   },
	   "outputs": [],
"source": [
"//example 4.5\n",
"clc; funcprot(0);\n",
"c=50;\n",
"//from table\n",
"Ncq=6.3;\n",
"FS=4;\n",
"qu=c*Ncq;\n",
"qall=qu/4;\n",
"disp(qall,'allowed shear stress in kN/m^2');\n",
""
   ]
   }
,
{
		   "cell_type": "markdown",
		   "metadata": {},
		   "source": [
			"## Example 4.6: 6.sce"
		   ]
		  },
  {
"cell_type": "code",
	   "execution_count": null,
	   "metadata": {
	    "collapsed": true
	   },
	   "outputs": [],
"source": [
"//example 4.6\n",
"clc; funcprot(0);\n",
"Gamma=16.8;\n",
"B=1.5;\n",
"//from table\n",
"Nyq=120;\n",
"qu=1/2*Gamma*B*Nyq;\n",
"disp(qu,' shear stress in kN/m^2');\n",
""
   ]
   }
,
{
		   "cell_type": "markdown",
		   "metadata": {},
		   "source": [
			"## Example 4.7: 7.sce"
		   ]
		  },
  {
"cell_type": "code",
	   "execution_count": null,
	   "metadata": {
	    "collapsed": true
	   },
	   "outputs": [],
"source": [
"//example 4.7\n",
"clc; funcprot(0);\n",
"phi=35;\n",
"Df=1.5;\n",
"B=1.5;\n",
"Gamma=17.4;\n",
"A=%pi/4*Df^2;\n",
"m=0.25;\n",
"Ku=0.936;\n",
"Fq=1+2*(1+m*Df/B)*Df/B*Ku*tan(phi*%pi/180);\n",
"Qu=Fq*Gamma*A*Df;\n",
"disp(Qu,'bearing capacity in kN');\n",
""
   ]
   }
,
{
		   "cell_type": "markdown",
		   "metadata": {},
		   "source": [
			"## Example 4.8: 8.sce"
		   ]
		  },
  {
"cell_type": "code",
	   "execution_count": null,
	   "metadata": {
	    "collapsed": true
	   },
	   "outputs": [],
"source": [
"//example 4.8\n",
"clc; funcprot(0);\n",
"cu=52;\n",
"B=1.5;\n",
"L=3;\n",
"k=0.107*cu+2.5;\n",
"disp(k,'Df/B of square');\n",
"A=L*B;\n",
"Beta=0.2;\n",
"Gamma=18.9;\n",
"Df=1.8;\n",
"Qu=A*(Beta*(7.56+1.44*B/L)*cu+Gamma*Df);\n",
"disp(Qu,'ultimate shear force in kN');\n",
""
   ]
   }
],
"metadata": {
		  "kernelspec": {
		   "display_name": "Scilab",
		   "language": "scilab",
		   "name": "scilab"
		  },
		  "language_info": {
		   "file_extension": ".sce",
		   "help_links": [
			{
			 "text": "MetaKernel Magics",
			 "url": "https://github.com/calysto/metakernel/blob/master/metakernel/magics/README.md"
			}
		   ],
		   "mimetype": "text/x-octave",
		   "name": "scilab",
		   "version": "0.7.1"
		  }
		 },
		 "nbformat": 4,
		 "nbformat_minor": 0
}
