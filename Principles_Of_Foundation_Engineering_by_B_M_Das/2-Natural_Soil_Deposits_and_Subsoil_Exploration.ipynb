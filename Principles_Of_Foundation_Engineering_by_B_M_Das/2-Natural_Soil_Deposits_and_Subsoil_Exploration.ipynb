{
"cells": [
 {
		   "cell_type": "markdown",
	   "metadata": {},
	   "source": [
       "# Chapter 2: Natural Soil Deposits and Subsoil Exploration"
	   ]
	},
{
		   "cell_type": "markdown",
		   "metadata": {},
		   "source": [
			"## Example 2.1: 1.sce"
		   ]
		  },
  {
"cell_type": "code",
	   "execution_count": null,
	   "metadata": {
	    "collapsed": true
	   },
	   "outputs": [],
"source": [
"//example 2.1\n",
"clc; funcprot(0);\n",
"Distance=[2.5,5,7.5,10,15,20,25,30,35,40,50];\n",
"Time=10^-3*[11.2,23.3,33.5,42.4,50.9,57.2,64.4,68.6,71.1,72.1,75.5]\n",
"//part1\n",
"distance=5.25;\n",
"time=23e-3;\n",
"v1=distance/time;\n",
"disp(v1,'speed in m/s');\n",
"//part2\n",
"distance=11;\n",
"time=13.5e-3;\n",
"v2=distance/time;\n",
"disp(v2,'speed in m/s');\n",
"//part3\n",
"distance=14.75;\n",
"time=3.5e-3;\n",
"v3=distance/time;\n",
"disp(v3,'speed in m/s');\n",
"plot(Distance,Time);\n",
"xtitle('distance vs time','Distance in m','time in s');\n",
"//part4\n",
"xc=10.4;\n",
"Ta=65e-3;\n",
"Z1=1/2*sqrt((v2-v1)/(v2+v1))*xc;\n",
"disp(Z1,'thickness of layer 1 in m');\n",
"Z2=1/2*(Ta-2*Z1*sqrt(v3^2-v1^2)/v3/v1)*v3*v2/sqrt(v3^2-v2^2);\n",
"disp(Z2,'thickness of layer 2 in m');\n",
""
   ]
   }
],
"metadata": {
		  "kernelspec": {
		   "display_name": "Scilab",
		   "language": "scilab",
		   "name": "scilab"
		  },
		  "language_info": {
		   "file_extension": ".sce",
		   "help_links": [
			{
			 "text": "MetaKernel Magics",
			 "url": "https://github.com/calysto/metakernel/blob/master/metakernel/magics/README.md"
			}
		   ],
		   "mimetype": "text/x-octave",
		   "name": "scilab",
		   "version": "0.7.1"
		  }
		 },
		 "nbformat": 4,
		 "nbformat_minor": 0
}
