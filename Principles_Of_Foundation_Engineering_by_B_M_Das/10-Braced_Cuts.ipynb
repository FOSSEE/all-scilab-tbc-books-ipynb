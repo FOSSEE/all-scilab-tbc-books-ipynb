{
"cells": [
 {
		   "cell_type": "markdown",
	   "metadata": {},
	   "source": [
       "# Chapter 10: Braced Cuts"
	   ]
	},
{
		   "cell_type": "markdown",
		   "metadata": {},
		   "source": [
			"## Example 10.1: 1.sce"
		   ]
		  },
  {
"cell_type": "code",
	   "execution_count": null,
	   "metadata": {
	    "collapsed": true
	   },
	   "outputs": [],
"source": [
"//example 10.1\n",
"clc; funcprot(0);\n",
"Gamma=18;\n",
"H=7;\n",
"sigmaa=0.3*Gamma*H;\n",
"disp(sigmaa,'maximum pressure intensity in kN/m^2');\n",
"//partb\n",
"A=54.02;\n",
"B1=1/2*1.75*37.8+37.8*1.75-A;\n",
"B2=45.2;\n",
"C=54.02;\n",
"s=3; //spacing\n",
"Pa=C*s;\n",
"disp(Pa,'strut loads in kN');\n",
"Pb=(B1+B2)*s;\n",
"disp(Pb,'strut loads in kN')\n",
"Pc=C*s;\n",
"disp(Pc,'strut loads in kN');\n",
"//partc\n",
"Me=45.2*1.196-37.8*1.196*1.196/2;//Me=Mmax\n",
"Sall=170e3;//sigmaall\n",
"S=Me/Sall;\n",
"disp(S,'section modulus in m^3/m');\n",
"//partd\n",
"Mmax=(B1+B2)*s^2/8;\n",
"S=Mmax/Sall;\n",
"disp(S,'section modulus in m^3/m');\n",
""
   ]
   }
,
{
		   "cell_type": "markdown",
		   "metadata": {},
		   "source": [
			"## Example 10.2: 2.sce"
		   ]
		  },
  {
"cell_type": "code",
	   "execution_count": null,
	   "metadata": {
	    "collapsed": true
	   },
	   "outputs": [],
"source": [
"//example 10.2\n",
"clc; funcprot(0);\n",
"phi=32;\n",
"Gamma=112;\n",
"s=12;//spacing\n",
"H=27;\n",
"Ka=(tan(45*%pi/180-32*%pi/180/2))^2;\n",
"sigmaa=0.65*Gamma*Ka*H;\n",
"A=sigmaa*15*15/2/9;\n",
"B1=603.44*15-A;\n",
"C=sigmaa*12*12/2/9; \n",
"B2=sigmaa*s-C;\n",
"Pa=A*s/1000;\n",
"Pb=(B1+B2)*s/1000;\n",
"Pc=C*s/1000;\n",
"disp(Pa,'strut loads at A in kN');\n",
"disp(Pb,'strut loads at B in kN');\n",
"disp(Pc,'strut loads at C in kN');\n",
""
   ]
   }
,
{
		   "cell_type": "markdown",
		   "metadata": {},
		   "source": [
			"## Example 10.3: 3.sce"
		   ]
		  },
  {
"cell_type": "code",
	   "execution_count": null,
	   "metadata": {
	    "collapsed": true
	   },
	   "outputs": [],
"source": [
"//example 10.3\n",
"clc; funcprot(0);\n",
"//parta\n",
"s=12;\n",
"A=1/2*6*3.62;\n",
"C=1/2*1.81*3;\n",
"B1=1/2*2.5*1.509;//B'\n",
"B11=1/2*2.414*4;//B''\n",
"sigmaall=24;\n",
"Mmax=max(A,C,B1,B11);\n",
"S=Mmax*s/sigmaall;\n",
"disp(S,'section modulus in in^3/ft');\n",
"//partb\n",
"\n",
"A=7.583;\n",
"Mmax=7.583*s^2/8;\n",
"S=Mmax*s/sigmaall;\n",
"disp(S,'section modulus in in^3/ft');\n",
""
   ]
   }
,
{
		   "cell_type": "markdown",
		   "metadata": {},
		   "source": [
			"## Example 10.4: 4.sce"
		   ]
		  },
  {
"cell_type": "code",
	   "execution_count": null,
	   "metadata": {
	    "collapsed": true
	   },
	   "outputs": [],
"source": [
"//example 10.4\n",
"clc; funcprot(0);\n",
"q=0;\n",
"Gamma=18;\n",
"L=25;\n",
"c=35;\n",
"T=4;\n",
"H=7;\n",
"B1=4;//B'\n",
"B11=T*sqrt(2);//B''\n",
"FS=(5.14*c*(1+B11*0.2/L)+c*H/B1)/(Gamma*H+q)\n",
"disp(FS,'factor of safety is')\n",
""
   ]
   }
],
"metadata": {
		  "kernelspec": {
		   "display_name": "Scilab",
		   "language": "scilab",
		   "name": "scilab"
		  },
		  "language_info": {
		   "file_extension": ".sce",
		   "help_links": [
			{
			 "text": "MetaKernel Magics",
			 "url": "https://github.com/calysto/metakernel/blob/master/metakernel/magics/README.md"
			}
		   ],
		   "mimetype": "text/x-octave",
		   "name": "scilab",
		   "version": "0.7.1"
		  }
		 },
		 "nbformat": 4,
		 "nbformat_minor": 0
}
