{
"cells": [
 {
		   "cell_type": "markdown",
	   "metadata": {},
	   "source": [
       "# Chapter 13: Foundations on Difficult Soils"
	   ]
	},
{
		   "cell_type": "markdown",
		   "metadata": {},
		   "source": [
			"## Example 13.1: 1.sce"
		   ]
		  },
  {
"cell_type": "code",
	   "execution_count": null,
	   "metadata": {
	    "collapsed": true
	   },
	   "outputs": [],
"source": [
"//example 13.1\n",
"clc; funcprot(0);\n",
"Sw=1;\n",
"Z=2;\n",
"deltaSf=0.0033*Z*Sw*1000;\n",
"disp(deltaSf,'free surface swell in mm');\n",
""
   ]
   }
,
{
		   "cell_type": "markdown",
		   "metadata": {},
		   "source": [
			"## Example 13.2: 2.sce"
		   ]
		  },
  {
"cell_type": "code",
	   "execution_count": null,
	   "metadata": {
	    "collapsed": true
	   },
	   "outputs": [],
"source": [
"//example 13.2\n",
"clc; funcprot(0);\n",
"//from figure\n",
"deltaS=1/100*1/2*(0.55+0+0.55+1.2+1.2+2+2+3);\n",
"disp(deltaS*1000,'total swell in mm');\n",
"//partb\n",
"D=[5.2, 4.2, 3.2, 2.2, 1.2];\n",
"deltaS=[0, 0.00275, 0.0115, 0.0275, 0.0525];\n",
"printf('depth(m)\t  total swell (m) \n');\n",
"for i=1:5\n",
"    printf('%.2f\t            %f \n', D(i),deltaS(i));\n",
"end\n",
"plot(deltaS*1000,D);\n",
"xtitle('depth vs total swell','total swell (m)','depth (m)');\n",
""
   ]
   }
,
{
		   "cell_type": "markdown",
		   "metadata": {},
		   "source": [
			"## Example 13.3: 3.sce"
		   ]
		  },
  {
"cell_type": "code",
	   "execution_count": null,
	   "metadata": {
	    "collapsed": true
	   },
	   "outputs": [],
"source": [
"//example 13.3\n",
"clc; funcprot(0);\n",
"phi=12*%pi/180;\n",
"Ds=0.8;\n",
"Z=5;\n",
"sigmaT=450;\n",
"U=%pi*Ds*Z*sigmaT*tan(phi);\n",
"deff('y=f(D)','y=1202-450*6.14/1.25*3.14/4*(D^2-0.8^2)');\n",
"[x]=fsolve(1,f);\n",
"Db=x;\n",
"disp(Db,'diameter of bell in m');\n",
"//partb\n",
"D=600;\n",
"cu=450;\n",
"Nc=6.14;\n",
"FS=cu*Nc*%pi/4*(Db^2-Ds^2)/(U-D);\n",
"if FS>2 then\n",
"    disp('the structure is compatible with safety measures');\n",
"end\n",
"//check bearing capacity\n",
"L=D+300;//dead+live load\n",
"Dp=L/%pi*4/Db^2;//downward pressure\n",
"FS=2763/Dp;\n",
"if FS>3 then\n",
"    disp('the structure is safe in bearing ');\n",
"end\n",
""
   ]
   }
],
"metadata": {
		  "kernelspec": {
		   "display_name": "Scilab",
		   "language": "scilab",
		   "name": "scilab"
		  },
		  "language_info": {
		   "file_extension": ".sce",
		   "help_links": [
			{
			 "text": "MetaKernel Magics",
			 "url": "https://github.com/calysto/metakernel/blob/master/metakernel/magics/README.md"
			}
		   ],
		   "mimetype": "text/x-octave",
		   "name": "scilab",
		   "version": "0.7.1"
		  }
		 },
		 "nbformat": 4,
		 "nbformat_minor": 0
}
