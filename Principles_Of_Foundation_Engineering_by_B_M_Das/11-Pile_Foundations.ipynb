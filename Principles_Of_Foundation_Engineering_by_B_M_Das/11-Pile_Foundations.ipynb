{
"cells": [
 {
		   "cell_type": "markdown",
	   "metadata": {},
	   "source": [
       "# Chapter 11: Pile Foundations"
	   ]
	},
{
		   "cell_type": "markdown",
		   "metadata": {},
		   "source": [
			"## Example 11.10: 10.sce"
		   ]
		  },
  {
"cell_type": "code",
	   "execution_count": null,
	   "metadata": {
	    "collapsed": true
	   },
	   "outputs": [],
"source": [
"//example 11.10\n",
"clc; funcprot(0);\n",
"Hp=350;\n",
"vp=0.0016;\n",
"Sl=0.762e-3;\n",
"f=115;\n",
"Qu=(0.746*Hp+98*vp)/(vp+Sl*f);\n",
"disp(Qu,'ple load capacity in kN');"
   ]
   }
,
{
		   "cell_type": "markdown",
		   "metadata": {},
		   "source": [
			"## Example 11.11: 11.sce"
		   ]
		  },
  {
"cell_type": "code",
	   "execution_count": null,
	   "metadata": {
	    "collapsed": true
	   },
	   "outputs": [],
"source": [
"//example 11.11\n",
"clc; funcprot(0);\n",
"Lg=9.92;\n",
"Bg=7;\n",
"n1=3;\n",
"Nc=8.75;\n",
"n2=4/1000;\n",
"Ap=14^2/12^2;\n",
"cup=1775;\n",
"a1=0.4;//alpha1\n",
"p=4*14/12;\n",
"cu1=1050;\n",
"L1=15;\n",
"a2=0.54;//alpha2\n",
"cu2=1775;\n",
"L2=45;\n",
"FS=4;\n",
"Qu=n1*n2*(9*Ap*cup+a1*p*cu1*L1+a2*p*cu2*L2);\n",
"Qu2=Lg*Bg*cup*Nc+2*(Lg+Bg)*(cu1*L1+cu2*L2);\n",
"disp(Qu2/1000,'load in kip')\n",
"Qall=Qu/FS;\n",
"disp(Qall,'allowed load in kip');\n",
"\n",
""
   ]
   }
,
{
		   "cell_type": "markdown",
		   "metadata": {},
		   "source": [
			"## Example 11.1: 1.sce"
		   ]
		  },
  {
"cell_type": "code",
	   "execution_count": null,
	   "metadata": {
	    "collapsed": true
	   },
	   "outputs": [],
"source": [
"//example 11.1\n",
"clc; funcprot(0);\n",
"//parta\n",
"phi=30;\n",
"pa=2000;\n",
"q=100*50/1000;\n",
"Nq=55;\n",
"Ap=16*16/16/12;\n",
"Qp=Ap*q*Nq;\n",
"qp=0.4*pa*Nq*tan(phi*%pi/180)*Ap;\n",
"disp(qp,'ultimate load in lb');\n",
"disp(qp/1000,'ultimate load in kip');\n",
"disp('there is change in answer because of calculation mistake in the book');\n",
"//partb\n",
"Nsigma=36;\n",
"Ap=16*16/12/12;\n",
"q=110*50/1000;\n",
"Qp=Ap*q*Nsigma*((1+2*(1-sin(phi*%pi/180)))/3);\n",
"disp(Qp,'ultimate load in kip');\n",
"//partc\n",
"Nq=18.4;\n",
"Qp=Ap*q*Nq;\n",
"disp(Qp,'ultimate load in kip');\n",
""
   ]
   }
,
{
		   "cell_type": "markdown",
		   "metadata": {},
		   "source": [
			"## Example 11.12: 12.sce"
		   ]
		  },
  {
"cell_type": "code",
	   "execution_count": null,
	   "metadata": {
	    "collapsed": true
	   },
	   "outputs": [],
"source": [
"//example 11.12\n",
"clc; funcprot(0);\n",
"z1=21/2;\n",
"Lg=9;\n",
"Bg=6;\n",
"Qg=500*1000;\n",
"Cc1=0.3;\n",
"Cc2=0.2;\n",
"Cc3=0.25;\n",
"H2=12;\n",
"H3=6;\n",
"H1=21;\n",
"e1=0.82;\n",
"e2=0.7;\n",
"e3=0.75;\n",
"s1=Qg/(Lg+z1)/(Bg+z1); //sigma1\n",
"s2=500*1000/(9+27)/(6+27);//sigma2\n",
"s3=500*1000/(9+36)/(6+36);//sigma3\n",
"ss1=6*105+(27+21/2)*(115-62.4);//sigmadash1\n",
"ss2=6*105+(27+21)*(115-62.4)+(120-62.4)*6;//sigmadash2\n",
"ss3=6*105+48*(115-62.4)+12*(120-62.4)+3*(122-62.4);//sigmadash3\n",
"sc1=Cc1*H1/(1+e1)*log10((ss1+s1)/ss1);\n",
"sc2=Cc2*H2/(1+e2)*log10((ss2+s2)/ss2);\n",
"sc3=Cc3*H3/(1+e3)*log10((ss3+s3)/ss3);\n",
"sc=sc1+sc2+sc3;\n",
"disp(sc*12,'total settlement in inch');\n",
""
   ]
   }
,
{
		   "cell_type": "markdown",
		   "metadata": {},
		   "source": [
			"## Example 11.2: 2.sce"
		   ]
		  },
  {
"cell_type": "code",
	   "execution_count": null,
	   "metadata": {
	    "collapsed": true
	   },
	   "outputs": [],
"source": [
"//example 11.2\n",
"clc; funcprot(0);\n",
"//parta\n",
"K=1.3;\n",
"f0=0;\n",
"Delta=0.8*30;\n",
"D=16/12;\n",
"L1=50;\n",
"p=4*16/12;\n",
"Gamma=110/1000;\n",
"L=15*D;\n",
"sigma=Gamma*L;\n",
"f20=K*sigma*tan(Delta*%pi/180);\n",
"Qs=(f0+f20)/2*(p*L)+f20*p*(L1-L);\n",
"disp(Qs,'ultimate load in kip');\n",
"//partb\n",
"FS=4;\n",
"Qp=56.45/3+234.7/3+179.9/3;\n",
"Qu=Qs+Qp;\n",
"Qall=Qu/FS;\n",
"disp(Qall,'allowed load in kip');\n",
""
   ]
   }
,
{
		   "cell_type": "markdown",
		   "metadata": {},
		   "source": [
			"## Example 11.3: 3.sce"
		   ]
		  },
  {
"cell_type": "code",
	   "execution_count": null,
	   "metadata": {
	    "collapsed": true
	   },
	   "outputs": [],
"source": [
"//example 11.3\n",
"clc; funcprot(0);\n",
"K=0.25;\n",
"Ap=16*16/12/12;\n",
"phi=30*%pi/180;\n",
"Nq=25;\n",
"q=110*50/1000;\n",
"sigmao=q/2;\n",
"p=4*16/12;\n",
"L=50;\n",
"FS=4;\n",
"Qu=q*Nq*Ap+K*sigmao*tan(0.8*phi)*p*L;\n",
"Qall=Qu/FS;\n",
"disp(Qall,'allowed load in kip');\n",
""
   ]
   }
,
{
		   "cell_type": "markdown",
		   "metadata": {},
		   "source": [
			"## Example 11.4: 4.sce"
		   ]
		  },
  {
"cell_type": "code",
	   "execution_count": null,
	   "metadata": {
	    "collapsed": true
	   },
	   "outputs": [],
"source": [
"//example 11.4\n",
"clc; funcprot(0);\n",
"FS=4;\n",
"Ap=0.1295;\n",
"Nc=9;\n",
"cu2=100;\n",
"Qp=Ap*Nc*cu2;\n",
"D=[5, 10, 30];\n",
"avgD=[2.5, 7.5,20];\n",
"sigma=[45, 110.5, 228.5];\n",
"cu=[30, 30, 100];\n",
"alpha=[0.6 0.9 0.725];\n",
"L=[5, 5, 20];\n",
"p=%pi*0.406;\n",
"Qs=0;\n",
"disp(Qp,'bering capacity in kN');\n",
"printf('depth (m)\t avg Depth(m)\t avgVerticalStress(kN/m^2)\t cu(kN/m^2)\t cu/sigma\t alpha\n' )\n",
"for i=1:3\n",
"    cusig(i)=cu(i)/sigma(i);\n",
"    Qs=Qs+alpha(i)*cu(i)*L(i)*p;\n",
"    printf('%.2f\t          %.2f\t           %.2f\t\t\t   %.2f\t   %.2f\t\t %.2f\n',D(i),avgD(i),sigma(i),cu(i),cusig(i),alpha(i));\n",
"end\n",
"disp(Qs,'bearing capacity in kN');\n",
"//part2\n",
"lambda=0.136;\n",
"L=30;\n",
"fav=lambda*(178.48+2*76.7);\n",
"Qs2=p*L*fav;\n",
"//part3\n",
"fav1=13;\n",
"fav2=31.9;\n",
"fav3=93.43;\n",
"Qs3=p*(fav1*5+fav2*5+fav3*20);\n",
"disp(Qs3,'bearing capacity in kN');\n",
"Qsavg=Qs/3+Qs2/3+Qs3/3;\n",
"Qu=Qp+Qsavg\n",
"Qall=Qu/FS;\n",
"disp(Qall,'allowed bearing capacity in kN');\n",
""
   ]
   }
,
{
		   "cell_type": "markdown",
		   "metadata": {},
		   "source": [
			"## Example 11.5: 5.sce"
		   ]
		  },
  {
"cell_type": "code",
	   "execution_count": null,
	   "metadata": {
	    "collapsed": true
	   },
	   "outputs": [],
"source": [
"//example 11.5\n",
"clc; funcprot(0);\n",
"D=[6, 12, 20];\n",
"fc=[34.34, 54.94, 70.63];\n",
"alpha=[0.84, 0.71, 0.63];\n",
"dL=[6, 6, 8];\n",
"p=4*0.305;\n",
"Qs=0;\n",
"printf('  depth(m)\t fc(kN/m^2)\t alpha \t deltaL(m)\t Q(kN)\n');\n",
"for i=1:3\n",
"    Q(i)=alpha(i)*fc(i)*p*dL(i);\n",
"    Qs=Q(i)+Qs;\n",
"    printf('%.2f\t\t    %.2f\t  %.2f\t   %.2f\t\t %.2f\n',D(i),fc(i),alpha(i),dL(i),Q(i));\n",
"end\n",
"disp(Qs,'bearing force in kN');\n",
""
   ]
   }
,
{
		   "cell_type": "markdown",
		   "metadata": {},
		   "source": [
			"## Example 11.6: 6.sce"
		   ]
		  },
  {
"cell_type": "code",
	   "execution_count": null,
	   "metadata": {
	    "collapsed": true
	   },
	   "outputs": [],
"source": [
"//example 11.6\n",
"clc; funcprot(0);\n",
"L=21;\n",
"Qwp=502-350;\n",
"Qws=350;\n",
"Ap=0.1045;\n",
"Ep=21e6;\n",
"epsilon=0.62;\n",
"Se1=(Qwp+epsilon*Qws)*L/Ap/Ep;\n",
"//part2\n",
"Iwp=0.85;\n",
"qwp=152/Ap;\n",
"Es=25e3;\n",
"D=0.356;\n",
"mus=0.35;\n",
"Se2=qwp*D/Es*Iwp*(1-mus^2);\n",
"//part3\n",
"p=1.168;\n",
"Iws=2+0.35*sqrt(L/D);\n",
"Se3=Qws/p/L*D/Es*Iws*(1-mus^2);\n",
"Se=Se1+Se2+Se3;\n",
"disp(Se*1000,'settlement in mm');\n",
""
   ]
   }
,
{
		   "cell_type": "markdown",
		   "metadata": {},
		   "source": [
			"## Example 11.7: 7.sce"
		   ]
		  },
  {
"cell_type": "code",
	   "execution_count": null,
	   "metadata": {
	    "collapsed": true
	   },
	   "outputs": [],
"source": [
"//example 11.7\n",
"clc; funcprot(0);\n",
"Ep=207e6;\n",
"Ip=123e-6;\n",
"nh=12000;\n",
"//from table\n",
"xz=0.008;\n",
"Ax=2.435;\n",
"T=(Ep*Ip/nh)^0.2;\n",
"Qg1=xz*Ep*Ip/Ax/T^3;\n",
"//part2\n",
"Fy=248000;\n",
"d1=0.254;\n",
"Am=0.772;\n",
"Mzmax=Fy*Ip*2/d1;\n",
"Qg2=Mzmax/Am/T;\n",
"if Qg2>Qg1 then\n",
"    Qg=Qg1;\n",
"    disp(Qg,'lateral load in kN');\n",
"end\n",
""
   ]
   }
,
{
		   "cell_type": "markdown",
		   "metadata": {},
		   "source": [
			"## Example 11.8: 8.sce"
		   ]
		  },
  {
"cell_type": "code",
	   "execution_count": null,
	   "metadata": {
	    "collapsed": true
	   },
	   "outputs": [],
"source": [
"//example 11.8\n",
"clc; funcprot(0);\n",
"//part1\n",
"Ep=207e6;\n",
"Ip=123e-6;\n",
"nh=12000;\n",
"//from table\n",
"xo=0.008;\n",
"L=25;\n",
"Fy=248000;\n",
"D=0.254;\n",
"Am=0.772;\n",
"Gamma=18;\n",
"phi=35;\n",
"Kp=(tan(%pi/4+phi*%pi/360))^2;\n",
"My=Fy*Ip*2/D;\n",
"Qug=140*Kp*D^3*Gamma;\n",
"\n",
"//part2\n",
"Qg1=xo*(Ep*Ip)^0.6*nh^0.4/0.15/L;\n",
"\n",
"if Qug>Qg1 then\n",
"    Qg=Qg1;\n",
"    disp(Qg,'lateral load in kN');\n",
"end\n",
""
   ]
   }
,
{
		   "cell_type": "markdown",
		   "metadata": {},
		   "source": [
			"## Example 11.9: 9.sce"
		   ]
		  },
  {
"cell_type": "code",
	   "execution_count": null,
	   "metadata": {
	    "collapsed": true
	   },
	   "outputs": [],
"source": [
"//example 11.9\n",
"clc; funcprot(0);\n",
"Wrh=30*12;\n",
"E=0.8;\n",
"Wr=7.5;\n",
"S=1/8;\n",
"C=0.1;\n",
"FS=6;\n",
"n=0.4;\n",
"Wp=12/12*12/12*80*150+550;\n",
"Wp=Wp/1000;\n",
"Qu=E*Wrh/(S+C)*(Wr+n^2*Wp)/(Wr+Wp);\n",
"Qall=Qu/FS;\n",
"disp(Qall,'allowed bearing capacity in kip')\n",
"//part2\n",
"He=30*12;\n",
"L=80*12;\n",
"Ap=12*12;\n",
"Ep=3e6/1000;\n",
"FS=4;\n",
"Qu=E*He/(S+sqrt(E*He*L/2/Ap/Ep));\n",
"Qall2=Qu/FS;\n",
"disp(Qall2,'allowed bearing capacity in kip')\n",
"\n",
"//partc\n",
"a=27;\n",
"b=1;\n",
"He=30;\n",
"FS=3;\n",
"Qu=a*sqrt(E*He)*(b-log10(S));\n",
"Qall3=Qu/FS;\n",
"disp(Qall3,'allowed bearing capacity in kip')\n",
"\n",
"\n",
""
   ]
   }
],
"metadata": {
		  "kernelspec": {
		   "display_name": "Scilab",
		   "language": "scilab",
		   "name": "scilab"
		  },
		  "language_info": {
		   "file_extension": ".sce",
		   "help_links": [
			{
			 "text": "MetaKernel Magics",
			 "url": "https://github.com/calysto/metakernel/blob/master/metakernel/magics/README.md"
			}
		   ],
		   "mimetype": "text/x-octave",
		   "name": "scilab",
		   "version": "0.7.1"
		  }
		 },
		 "nbformat": 4,
		 "nbformat_minor": 0
}
