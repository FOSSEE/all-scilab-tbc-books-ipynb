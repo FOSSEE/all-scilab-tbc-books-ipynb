{
"cells": [
 {
		   "cell_type": "markdown",
	   "metadata": {},
	   "source": [
       "# Chapter 7: Lateral Earth Pressure"
	   ]
	},
{
		   "cell_type": "markdown",
		   "metadata": {},
		   "source": [
			"## Example 7.1: 1.sce"
		   ]
		  },
  {
"cell_type": "code",
	   "execution_count": null,
	   "metadata": {
	    "collapsed": true
	   },
	   "outputs": [],
"source": [
"//example 7.1\n",
"clc; funcprot(0);\n",
"sigmao=48;\n",
"phi1=30*%pi/180;\n",
"phi2=36*%pi/180;\n",
"Ka1=(tan(%pi/4-phi1/2))^2;\n",
"Ka2=(tan(%pi/4-phi2/2))^2;\n",
"sigmaa1=Ka1*sigmao;\n",
"disp(sigmaa1,'top soil pressure in kN/m^2');\n",
"sigmaa2=Ka2*sigmao;\n",
"disp(sigmaa2,'bottom soil pressure in kN/m^2');\n",
"Po=1/2*3*16+3*12.48+1/3*3*(19.65-12.48)+1/2*3*29.43;\n",
"zbar=(24*(3+3/3)+37.44*(3/2)+10.76*3/3+44.1*3/3)/Po;\n",
"disp(zbar,'resultant force acting from the bottom in m');\n",
""
   ]
   }
,
{
		   "cell_type": "markdown",
		   "metadata": {},
		   "source": [
			"## Example 7.2: 2.sce"
		   ]
		  },
  {
"cell_type": "code",
	   "execution_count": null,
	   "metadata": {
	    "collapsed": true
	   },
	   "outputs": [],
"source": [
"//example 7.2\n",
"clc; funcprot(0);\n",
"c=14.36;\n",
"Gamma=17.4;\n",
"H=6;\n",
"phi=26*%pi/180;\n",
"Ka=(tan(%pi/4-phi/2))^2;\n",
"sigma0=Gamma*H*Ka-2*c*sqrt(Ka);\n",
"Pa=1/2*Gamma*H^2*Ka-2*c*H*sqrt(Ka);\n",
"disp(Pa,'active force before which tensile crack appeared in kN/m');\n",
"zbar=(244.32-323.1)/14.46;\n",
"disp(zbar,'the line of action on which net force is acting in m');\n",
"zc=2*c/Gamma/sqrt(Ka);\n",
"disp(zc,'distance where tensile crack appeared in m');\n",
"Pa=1/2*(H-zc)*(Gamma*H*Ka-2*c*sqrt(Ka));\n",
"disp(Pa,'Active force in tensile crack in kN/m');\n",
"zbar=(H-zc)/3;\n",
"disp(zbar,'the line of action on which net force is acting in m');\n",
""
   ]
   }
,
{
		   "cell_type": "markdown",
		   "metadata": {},
		   "source": [
			"## Example 7.3: 3.sce"
		   ]
		  },
  {
"cell_type": "code",
	   "execution_count": null,
	   "metadata": {
	    "collapsed": true
	   },
	   "outputs": [],
"source": [
"//example 7.3\n",
"clc; funcprot(0);\n",
"pi=%pi\n",
"H=10;\n",
"Gamma=110;\n",
"phi=35*%pi/180;\n",
"alpha=15*%pi/180;\n",
"theta=10*%pi/180;\n",
"zi=asin(sin(alpha)/sin(phi))-alpha+2*theta;\n",
"disp(zi*180/%pi,'zi in degrees');\n",
"Ka=cos(alpha-theta)*sqrt(1+(sin(phi))^2-2*sin(phi)*sin(zi))/((cos(theta))^2*(cos(alpha)+sqrt((sin(phi))^2+((sin(alpha))^2))));\n",
"Pa=1/2*Gamma*H^2*Ka;\n",
"disp(Pa,'rankine earth pressure in lb/ft');\n",
"disp('there is slight error in answer due to rounding off error')\n",
"Beta=atan(sin(phi)*sin(zi)/(1-sin(phi)*cos(zi)));\n",
"disp(Beta*180/pi,'angle in degrees');\n",
""
   ]
   }
,
{
		   "cell_type": "markdown",
		   "metadata": {},
		   "source": [
			"## Example 7.4: 4.sce"
		   ]
		  },
  {
"cell_type": "code",
	   "execution_count": null,
	   "metadata": {
	    "collapsed": true
	   },
	   "outputs": [],
"source": [
"//example 7.4\n",
"clc; funcprot(0);\n",
"H=4.6;\n",
"Gamma=16.5;\n",
"Ka=0.297;\n",
"Po=1/2*Gamma*H^2*Ka;\n",
"disp(Po,'coulomb active force per unit length in kN/m');\n",
""
   ]
   }
,
{
		   "cell_type": "markdown",
		   "metadata": {},
		   "source": [
			"## Example 7.5: 5.sce"
		   ]
		  },
  {
"cell_type": "code",
	   "execution_count": null,
	   "metadata": {
	    "collapsed": true
	   },
	   "outputs": [],
"source": [
"//example 7.5\n",
"clc; funcprot(0);\n",
"//parta\n",
"Gamma=105;\n",
"H=10;\n",
"Kae=0.474;\n",
"k1=0;\n",
"Pae=1/2*Gamma*H^2*Kae*(1-k1)\n",
"disp(Pae,'active force in lb/ft');\n",
"//oartb\n",
"Ka=0.246;\n",
"Pa=1/2*Gamma*H^2*Ka;\n",
"disp(Pa,'active force in lb/ft');\n",
"DPae=Pae-Pa;//deltaPae\n",
"zbar=(0.6*H*DPae+H/3*(Pa))/Pae;\n",
"disp(zbar,'the distance of resultant force from bottom in m');\n",
""
   ]
   }
,
{
		   "cell_type": "markdown",
		   "metadata": {},
		   "source": [
			"## Example 7.6: 6.sce"
		   ]
		  },
  {
"cell_type": "code",
	   "execution_count": null,
	   "metadata": {
	    "collapsed": true
	   },
	   "outputs": [],
"source": [
"//example 7.6\n",
"clc; funcprot(0);\n",
"z=[0, 4, 8, 12, 16];\n",
"Gamma=110;\n",
"phi=36*%pi/180;\n",
"H=16;\n",
"Sa1(1)=0;//sigma(1)\n",
"Sa2(1)=0;//sigma(2)\n",
"Sztr(1)=0;//sigma(z)translation\n",
"printf('z(ft)\t sigma(1)(lb/ft^2)  sigma(2)(lb/ft^2) sigma(z)translation (lb/ft^2)\n');\n",
"for i=1:5\n",
"    Sa1(i)=Gamma*(tan(%pi/4-phi*z(i)/2/H))^2*(z(i)-phi*z(i)^2/H/cos(phi*z(i)/H));\n",
"    Sa2(i)=Gamma*z(i)*(cos(phi)/(1+sin(phi)))^2;\n",
"    Sztr(i)=Sa1(i)/2+Sa2(i)/2;\n",
"    printf('%.2f\t %.2f\t\t\t %.2f\t\t\t %.2f\n', z(i),Sa1(i),Sa2(i),Sztr(i));\n",
"end\n",
"plot(z,Sztr);\n",
"xtitle('sigma(z)translation vs z','z(m)','sigma(z)translation (lb/ft^2)')\n",
"\n",
""
   ]
   }
,
{
		   "cell_type": "markdown",
		   "metadata": {},
		   "source": [
			"## Example 7.7: 7.sce"
		   ]
		  },
  {
"cell_type": "code",
	   "execution_count": null,
	   "metadata": {
	    "collapsed": true
	   },
	   "outputs": [],
"source": [
"//example 7.7\n",
"Gammasat=18.86;\n",
"Gammaw=9.81;\n",
"clc; funcprot(0);\n",
"phi1=%pi/180*30;\n",
"phi2=%pi/180*26;\n",
"Kp1=(tan(%pi/4+phi1/2))^2;\n",
"Kp2=(tan(%pi/4+phi2/2))^2;\n",
"//for top soil\n",
"c=0;\n",
"sigma0=31.44;\n",
"sigmap=sigma0*Kp1+2*c*sqrt(Kp1);\n",
"disp(sigmap,'passive pressure for top layer in kN/m^2');\n",
"//for z=2\n",
"c=10;\n",
"sigma0=31.44;\n",
"sigmap=sigma0*Kp2+2*c*sqrt(Kp2);\n",
"disp(sigmap,'passive pressure for z=2m in kN/m^2');\n",
"//for z=3\n",
"c=10;\n",
"sigma0=15.72*2+(Gammasat-Gammaw)*1;\n",
"sigmap=sigma0*Kp2+2*c*sqrt(Kp2);\n",
"disp(sigmap,'passive pressure for z=3m in kN/m^2');\n",
""
   ]
   }
],
"metadata": {
		  "kernelspec": {
		   "display_name": "Scilab",
		   "language": "scilab",
		   "name": "scilab"
		  },
		  "language_info": {
		   "file_extension": ".sce",
		   "help_links": [
			{
			 "text": "MetaKernel Magics",
			 "url": "https://github.com/calysto/metakernel/blob/master/metakernel/magics/README.md"
			}
		   ],
		   "mimetype": "text/x-octave",
		   "name": "scilab",
		   "version": "0.7.1"
		  }
		 },
		 "nbformat": 4,
		 "nbformat_minor": 0
}
