{
"cells": [
 {
		   "cell_type": "markdown",
	   "metadata": {},
	   "source": [
       "# Chapter 14: Soil Improvement and Ground Modification"
	   ]
	},
{
		   "cell_type": "markdown",
		   "metadata": {},
		   "source": [
			"## Example 14.1: 1.sce"
		   ]
		  },
  {
"cell_type": "code",
	   "execution_count": null,
	   "metadata": {
	    "collapsed": true
	   },
	   "outputs": [],
"source": [
"//example 14.1\n",
"clc; funcprot(0);\n",
"Cc=0.28;\n",
"Hc=6;\n",
"eo=0.9;\n",
"Cv=0.36;\n",
"H=3;\n",
"t=9;\n",
"sigmao=210;\n",
"sigmap=115; //deltasigmap\n",
"Sc=Cc*Hc/(1+eo)*log10((sigmao+sigmap)/sigmao);\n",
"disp(Sc*1000,'primary consolidation in mm');\n",
"Tv=Cv*t/H^2;\n",
"//from table\n",
"k=1.8; //constant\n",
"sf=k*sigmap;\n",
"disp(sf,'deltasigmaf in kN/m^2');\n",
""
   ]
   }
,
{
		   "cell_type": "markdown",
		   "metadata": {},
		   "source": [
			"## Example 14.2: 2.sce"
		   ]
		  },
  {
"cell_type": "code",
	   "execution_count": null,
	   "metadata": {
	    "collapsed": true
	   },
	   "outputs": [],
"source": [
"//example 14.2\n",
"clc; funcprot(0);\n",
"Tv=0.36;\n",
"sigmap=115;\n",
"Uv=sqrt(4*Tv/%pi)*100;\n",
"disp(Uv,'Uv in %');\n",
"//from table \n",
"k=0.12; //constant\n",
"sf=k*sigmap;\n",
"disp(sf,'deltasigmaf in kN/m^2');\n",
""
   ]
   }
,
{
		   "cell_type": "markdown",
		   "metadata": {},
		   "source": [
			"## Example 14.3: 3.sce"
		   ]
		  },
  {
"cell_type": "code",
	   "execution_count": null,
	   "metadata": {
	    "collapsed": true
	   },
	   "outputs": [],
"source": [
"//example 14.3\n",
"clc(); funcprot(0);\n",
"Cc=0.31;\n",
"Hc=15;//ft\n",
"eo=1.1;\n",
"n=10;\n",
"Uv=0.09;\n",
"sigmao=1000;\n",
"deltasigma=2000; // deltasigmap+deltasigmaf\n",
"Sc=Cc*Hc/(1+eo)*log10((sigmao+deltasigma)/sigmao);\n",
"disp(Sc,'primary consolidation in ft');\n",
"m=n^2/(n^2-1)*log(n)-(3*n^2-1)/4/n^2;\n",
"A=2/m;\n",
"Ur=(0.096-1/A*(1-exp(-A*0.096)))/0.192;\n",
"Uvf=1-(1-Ur)*(1-Uv);\n",
"Sc30=Sc*Uvf*12; //settlement after 30 days\n",
"disp(Sc30,'settlement after 30 days in inch');\n",
""
   ]
   }
],
"metadata": {
		  "kernelspec": {
		   "display_name": "Scilab",
		   "language": "scilab",
		   "name": "scilab"
		  },
		  "language_info": {
		   "file_extension": ".sce",
		   "help_links": [
			{
			 "text": "MetaKernel Magics",
			 "url": "https://github.com/calysto/metakernel/blob/master/metakernel/magics/README.md"
			}
		   ],
		   "mimetype": "text/x-octave",
		   "name": "scilab",
		   "version": "0.7.1"
		  }
		 },
		 "nbformat": 4,
		 "nbformat_minor": 0
}
