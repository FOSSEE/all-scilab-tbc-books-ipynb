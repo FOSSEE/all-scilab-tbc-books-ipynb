{
"cells": [
 {
		   "cell_type": "markdown",
	   "metadata": {},
	   "source": [
       "# Chapter 15: Electronic Instruments"
	   ]
	},
{
		   "cell_type": "markdown",
		   "metadata": {},
		   "source": [
			"## Example 15.1: Calculate_shunt_resistance_and_multiplying_factor.sce"
		   ]
		  },
  {
"cell_type": "code",
	   "execution_count": null,
	   "metadata": {
	    "collapsed": true
	   },
	   "outputs": [],
"source": [
"//Calculate shunt resistance and multiplying factor\n",
"clear;\n",
"clc;\n",
"//soltion\n",
"//given\n",
"\n",
"Im=5*10^-3;//A\n",
"Rm=20;//ohm\n",
"I=5;//A\n",
"Rsh=Rm*Im/(I-Im);\n",
"n=I/Im;\n",
"printf('Shunt resistance= %.5f Ω\n',Rsh);\n",
"printf('Multiplying factor= %.0f',n);"
   ]
   }
,
{
		   "cell_type": "markdown",
		   "metadata": {},
		   "source": [
			"## Example 15.2: Calculate_shunt_resistance.sce"
		   ]
		  },
  {
"cell_type": "code",
	   "execution_count": null,
	   "metadata": {
	    "collapsed": true
	   },
	   "outputs": [],
"source": [
"//Calculate shunt resistance\n",
"clear;\n",
"clc;\n",
"//soltion\n",
"//given\n",
"\n",
"//At I= 1 mA\n",
"I1=1*10^-3;//A\n",
"Im=0.1*10^-3;//A\n",
"Rm=500;//ohm\n",
"Rsh=Rm*Im/(I1-Im);\n",
"printf('Shunt resistance= %.4f Ω\n',Rsh);\n",
"\n",
"\n",
"//At I= 1 mA\n",
"I2=10*10^-3;//A\n",
"Rsh=Rm*Im/(I2-Im);\n",
"printf('Shunt resistance= %.4f Ω\n',Rsh);\n",
"\n",
"\n",
"//At I= 1 mA\n",
"I3=100*10^-3;//A\n",
"Rsh=Rm*Im/(I3-Im);\n",
"printf('Shunt resistance= %.4f Ω\n',Rsh);"
   ]
   }
,
{
		   "cell_type": "markdown",
		   "metadata": {},
		   "source": [
			"## Example 15.3: Caluclate_the_series_resistance_to_convert_it_into_voltmeter.sce"
		   ]
		  },
  {
"cell_type": "code",
	   "execution_count": null,
	   "metadata": {
	    "collapsed": true
	   },
	   "outputs": [],
"source": [
"//Caluclate the series resistance to convert it into voltmeter\n",
"clear;\n",
"clc;\n",
"//soltion\n",
"//given\n",
"\n",
"Im=100*10^-6;//A\n",
"Rm=100;//ohm\n",
"V=100;//V\n",
"Rs=V/Im-Rm;\n",
"printf('The value of series resistance is %.1f kΩ',Rs/1000);"
   ]
   }
,
{
		   "cell_type": "markdown",
		   "metadata": {},
		   "source": [
			"## Example 15.4: Calculate_multiplier_resistance_and_voltage_multiplying_factor.sce"
		   ]
		  },
  {
"cell_type": "code",
	   "execution_count": null,
	   "metadata": {
	    "collapsed": true
	   },
	   "outputs": [],
"source": [
"//Calculate multiplier resistance and voltage multiplying factor\n",
"clear;\n",
"clc;\n",
"//soltion\n",
"//given\n",
"\n",
"Im=50*10^-6;//A\n",
"Rm=1000;//ohm\n",
"V=50;//V\n",
"Rs=V/Im-Rm;\n",
"printf('The value of multiplier resistance is %.0f kΩ\n',Rs/1000);\n",
"Vm=Im*Rm;\n",
"n=V/Vm;\n",
"printf('Voltage multiplying factor =%.0f',n);"
   ]
   }
,
{
		   "cell_type": "markdown",
		   "metadata": {},
		   "source": [
			"## Example 15.5: Calculate_reading_and_error_of_each_voltmeter.sce"
		   ]
		  },
  {
"cell_type": "code",
	   "execution_count": null,
	   "metadata": {
	    "collapsed": true
	   },
	   "outputs": [],
"source": [
"//Calculate reading and error of each voltmeter\n",
"clear;\n",
"clc;\n",
"//soltion\n",
"\n",
"function [z]=prll(r1,r2)//Function for the parallel combination of resistor\n",
"    z=r1*r2/(r1+r2);\n",
"endfunction\n",
"\n",
"//given\n",
"\n",
"S_A=1000;// Ω/V        //sensitivity\n",
"S_B=20000;// Ω/V        //sensitivity\n",
"R=50;//V           //range of voltmeter\n",
"Vs=150;//V          //Supply\n",
"R1=100*10^3;//ohm\n",
"R2=50*10^3;//ohm\n",
"Vt=Vs*(R2/(R1+R2));\n",
"\n",
"//Voltmeter A\n",
"Ri1=S_A*R;\n",
"Rxy_A=prll(Ri1,R2);      //total resistance at X and Y\n",
"V1=Vs*(Rxy_A/(Rxy_A+R1));\n",
"printf('The voltmeter indicates %.0f V\n',V1);\n",
"\n",
"//Voltmeter B\n",
"Ri2=S_B*R;\n",
"Rxy_B=prll(Ri2,R2);      //total resistance at X and Y\n",
"V2=Vs*(Rxy_B/(Rxy_B+R1));\n",
"printf('The voltmeter indicates %.2f V\n',V2);\n",
"\n",
"e1=(Vt-V1)*100/Vt;\n",
"e2=(Vt-V2)*100/Vt;\n",
"printf('The error in the reading of voltmeter A = %.0f percent\n',e1);\n",
"printf('The error in the reading of voltmeter A = %.1f percent',e2);"
   ]
   }
,
{
		   "cell_type": "markdown",
		   "metadata": {},
		   "source": [
			"## Example 15.6: Determine_rms_value_of_the_ac_voltage.sce"
		   ]
		  },
  {
"cell_type": "code",
	   "execution_count": null,
	   "metadata": {
	    "collapsed": true
	   },
	   "outputs": [],
"source": [
"//Determine rms value of the ac voltage\n",
"clear;\n",
"clc;\n",
"//soltion\n",
"//given\n",
"\n",
"l=8.3;//cm         //length of the trace\n",
"D=5;// V/cm        //deflection sensitivity\n",
"Vpp=l*D;\n",
"Vrms=Vpp/(2*sqrt(2));\n",
"printf('The rms value of the ac voltage %.2f V',Vrms);"
   ]
   }
,
{
		   "cell_type": "markdown",
		   "metadata": {},
		   "source": [
			"## Example 15.7: Determine_rms_value_and_frequency_of_the_sine_voltage.sce"
		   ]
		  },
  {
"cell_type": "code",
	   "execution_count": null,
	   "metadata": {
	    "collapsed": true
	   },
	   "outputs": [],
"source": [
"//Determine rms value and frequency of the sine voltage\n",
"clear;\n",
"clc;\n",
"//soltion\n",
"//given\n",
"\n",
"l=3.5;//cm         //length of the trace\n",
"D=2;// V/cm        //deflection sensitivity\n",
"Vpp=l*D;\n",
"Vrms=Vpp/sqrt(2);\n",
"printf('The rms value of the sine voltage = %.2f V\n',Vrms);\n",
"x=4;// cm         //one cycle length on x axis\n",
"t=0.5*10^-3;// s/cm    //timebase setting\n",
"T=x*t;\n",
"f=1/T;\n",
"printf('The frequency of the sine voltage = %.1f kHz',f/1000);"
   ]
   }
],
"metadata": {
		  "kernelspec": {
		   "display_name": "Scilab",
		   "language": "scilab",
		   "name": "scilab"
		  },
		  "language_info": {
		   "file_extension": ".sce",
		   "help_links": [
			{
			 "text": "MetaKernel Magics",
			 "url": "https://github.com/calysto/metakernel/blob/master/metakernel/magics/README.md"
			}
		   ],
		   "mimetype": "text/x-octave",
		   "name": "scilab",
		   "version": "0.7.1"
		  }
		 },
		 "nbformat": 4,
		 "nbformat_minor": 0
}
