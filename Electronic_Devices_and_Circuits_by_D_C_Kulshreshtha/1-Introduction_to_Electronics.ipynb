{
"cells": [
 {
		   "cell_type": "markdown",
	   "metadata": {},
	   "source": [
       "# Chapter 1: Introduction to Electronics"
	   ]
	},
{
		   "cell_type": "markdown",
		   "metadata": {},
		   "source": [
			"## Example 1.1: Find_the_range_of_tolerance.sce"
		   ]
		  },
  {
"cell_type": "code",
	   "execution_count": null,
	   "metadata": {
	    "collapsed": true
	   },
	   "outputs": [],
"source": [
"//Find the range of tolerance\n",
"clear;\n",
"clc;\n",
"//soltion\n",
"//given\n",
"\n",
"//color coding\n",
"orange=3;\n",
"gold=5;\n",
"yellow=4;\n",
"violet=7;\n",
"//band pattern\n",
"band1=yellow;\n",
"band2=violet;\n",
"band3=orange;\n",
"band4=gold;\n",
"//resistor color coding\n",
"r=(band1*10+band2)*10^(band3);\n",
"tol=r*(band4/100)//tolerance\n",
"ulr=r+tol;//upper limit of resistance\n",
"llr=r-tol;//lower limit of resistance\n",
"printf('The Range of resistance is %.2f kΩ to %.2f kΩ',llr/1000,ulr/1000);"
   ]
   }
,
{
		   "cell_type": "markdown",
		   "metadata": {},
		   "source": [
			"## Example 1.2: Find_the_range_of_tolerance.sce"
		   ]
		  },
  {
"cell_type": "code",
	   "execution_count": null,
	   "metadata": {
	    "collapsed": true
	   },
	   "outputs": [],
"source": [
"//Find the range of tolerance\n",
"clear;\n",
"clc;\n",
"//soltion\n",
"//given\n",
"\n",
"//color coding\n",
"blue=6;\n",
"gold=-1;\n",
"gray=8;\n",
"silver=10;\n",
"//band pattern\n",
"band1=gray;\n",
"band2=blue;\n",
"band3=gold;\n",
"band4=silver;\n",
"//resistor color coding\n",
"r=(band1*10+band2)*10^(band3);\n",
"tol=r*(band4/100)//tolerance\n",
"ulr=r+tol;//upper limit of resistance\n",
"llr=r-tol;//lower limit of resistance\n",
"printf('The Range of resistance is %.2f Ω to %.2f Ω',llr,ulr);"
   ]
   }
,
{
		   "cell_type": "markdown",
		   "metadata": {},
		   "source": [
			"## Example 1.3: Find_the_equivalent_current_source.sce"
		   ]
		  },
  {
"cell_type": "code",
	   "execution_count": null,
	   "metadata": {
	    "collapsed": true
	   },
	   "outputs": [],
"source": [
"\n",
"//Find the equivalent current source\n",
"clear;\n",
"clc;\n",
"//soltion\n",
"//given\n",
"Vs=2;//Volts             //dc voltage source\n",
"Rs=1;//ohm               //internal resistance\n",
"Rl=1;//ohm              //load resistance\n",
"Ise=Vs/Rs;//ampere      //equivalent current source\n",
"\n",
"// In accordance to figure 1.23a\n",
"Il1=Ise*(Rs/(Rs+Rl));//using current divider concept\n",
"Vl1=Il1*Rl;\n",
"printf('\nIn accordance to figure 1.23a \n');\n",
"printf('The Load current (current source) Il= %dA\n',Il1);\n",
"printf('The Load voltage (current source) Vl= %dV\n\n',Vl1);\n",
"\n",
"// In accordance to figure 1.23b\n",
"Vl2=Vs*(Rs/(Rs+Rl));//using voltage divider concept\n",
"Il2=Vl2/Rl;\n",
"printf('\nIn accordance to figure 1.23b \n');\n",
"printf('The Load voltage (voltage source) Vl= %dV\n',Vl2);\n",
"printf('The Load current (voltage source) Il= %dA\n\n',Il2);\n",
"printf('Therefore they both provide same voltage and current to load');"
   ]
   }
,
{
		   "cell_type": "markdown",
		   "metadata": {},
		   "source": [
			"## Example 1.4: Find_percentage_variation_in_load_current_and_load_voltage.sce"
		   ]
		  },
  {
"cell_type": "code",
	   "execution_count": null,
	   "metadata": {
	    "collapsed": true
	   },
	   "outputs": [],
"source": [
"\n",
"//Find percentage variation in load current and load voltage\n",
"clear;\n",
"clc;\n",
"//soltion\n",
"//given\n",
"Vs=10;//volt//Supply voltage\n",
"Rs=100;//ohm//internal resistance\n",
"\n",
"// In accordance to figure 1.24a\n",
"//For 1Ω - 10 Ω\n",
"Rl11=1;//ohm//min extreme value of Rl\n",
"Rl12=10;//ohm//max extreme value of Rl\n",
"Il11=Vs/(Rs+Rl11);\n",
"Il12=Vs/(Rs+Rl12);\n",
"Pi1=(Il11-Il12)*100/Il11;//Percentage variation in current\n",
"Vl11=Il11*Rl11;\n",
"Vl12=Il12*Rl12;\n",
"Pv1=(Vl12-Vl11)*100/Vl12;//Percentage variation in voltage\n",
"printf('\nIn accordance to figure 1.24a \n');\n",
"printf('Percentage variation in Current(1-10 Ω) %.2f percent\n',Pi1);\n",
"printf('Percentage variation in Voltage(1-10 Ω) %.1f percent\n\n',Pv1);\n",
"\n",
"// In accordance to figure 1.24b\n",
"//For 1kΩ - 10kΩ\n",
"Rl21=1000;//ohm//min extreme value of Rl\n",
"Rl22=10000;//ohm//max extreme value of Rl\n",
"Il21=Vs/(Rs+Rl21);\n",
"Il22=Vs/(Rs+Rl22);\n",
"Pi2=(Il21-Il22)*100/Il21;//Percentage variation in current\n",
"Vl21=Il21*Rl21;\n",
"Vl22=Il22*Rl22;\n",
"Pv2=(Vl22-Vl21)*100/Vl22;//Percentage variation in voltage\n",
"printf('\nIn accordance to figure 1.24b \n');\n",
"printf('Percentage variation in Current(1-10 Ω) %d percent \n',Pi2);\n",
"printf('Percentage variation in Voltage(1-10 Ω) %.1f percent \n\n',Pv2);\n",
"// In book the percentage variation in voltage(1kΩ-10kΩ) is 9 percent due to \n",
"// the incorrect value of Il22 i.e. 0.000999 Amp correct value is 0.0009901 Amp"
   ]
   }
],
"metadata": {
		  "kernelspec": {
		   "display_name": "Scilab",
		   "language": "scilab",
		   "name": "scilab"
		  },
		  "language_info": {
		   "file_extension": ".sce",
		   "help_links": [
			{
			 "text": "MetaKernel Magics",
			 "url": "https://github.com/calysto/metakernel/blob/master/metakernel/magics/README.md"
			}
		   ],
		   "mimetype": "text/x-octave",
		   "name": "scilab",
		   "version": "0.7.1"
		  }
		 },
		 "nbformat": 4,
		 "nbformat_minor": 0
}
