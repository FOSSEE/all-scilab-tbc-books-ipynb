{
"cells": [
 {
		   "cell_type": "markdown",
	   "metadata": {},
	   "source": [
       "# Chapter 2: Semiconductor Physics"
	   ]
	},
{
		   "cell_type": "markdown",
		   "metadata": {},
		   "source": [
			"## Example 2.1: Calculate_the_conductivity_and_resistivity_of_germanium.sce"
		   ]
		  },
  {
"cell_type": "code",
	   "execution_count": null,
	   "metadata": {
	    "collapsed": true
	   },
	   "outputs": [],
"source": [
"//Calculate the conductivity and resistivity of germanium\n",
"clear;\n",
"clc;\n",
"//soltion\n",
"//given\n",
"q=1.6*10^-19;//Coulomb        //charge of an electron\n",
"ni=2.5*10^19;//per m^3        //concentration\n",
"un=0.36;//m^2/Vs              //mobility of electron\n",
"up=0.17;//m^2/Vs             //mobility of holes\n",
"con=q*ni*(un+up);           //conductivity\n",
"res=(1/con);                //resistivity\n",
"printf('The conductivty is %.2f S/m \n',con);\n",
"printf('The resistivity is %.2f Ωm',res);"
   ]
   }
,
{
		   "cell_type": "markdown",
		   "metadata": {},
		   "source": [
			"## Example 2.2: Determine_the_conductivity_of_extrinsic_semiconductor.sce"
		   ]
		  },
  {
"cell_type": "code",
	   "execution_count": null,
	   "metadata": {
	    "collapsed": true
	   },
	   "outputs": [],
"source": [
"//Determine the conductivity of extrinsic semiconductor\n",
"clear;\n",
"clc;\n",
"//soltion\n",
"//given\n",
"e=1.6*10^-19;//Coulomb        //charge of an electron\n",
"ni=1.5*10^16;//per m^3        //concentration\n",
"un=0.13;//m^2/Vs             //mobility of electron\n",
"up=0.05;//m^2/Vs            //mobility of holes\n",
"Si=5*10^28;//per m^3        //atomic density in silicon\n",
"dop=(1/(2*10^8));          //concentration of an antimony per silicon atoms\n",
"Nd=dop*Si;//per m^3       //donor concentraion\n",
"n=Nd;//per m^3           //free electron concentration\n",
"p=(ni^2/Nd);//per m ^3   // hole concentration\n",
"con=e*(n*un+p*up);\n",
"printf('The conductivty is %.1f S/m \n',con);"
   ]
   }
],
"metadata": {
		  "kernelspec": {
		   "display_name": "Scilab",
		   "language": "scilab",
		   "name": "scilab"
		  },
		  "language_info": {
		   "file_extension": ".sce",
		   "help_links": [
			{
			 "text": "MetaKernel Magics",
			 "url": "https://github.com/calysto/metakernel/blob/master/metakernel/magics/README.md"
			}
		   ],
		   "mimetype": "text/x-octave",
		   "name": "scilab",
		   "version": "0.7.1"
		  }
		 },
		 "nbformat": 4,
		 "nbformat_minor": 0
}
