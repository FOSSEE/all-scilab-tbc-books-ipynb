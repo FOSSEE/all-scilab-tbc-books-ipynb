{
"cells": [
 {
		   "cell_type": "markdown",
	   "metadata": {},
	   "source": [
       "# Chapter 8: Multistage Amplifiers"
	   ]
	},
{
		   "cell_type": "markdown",
		   "metadata": {},
		   "source": [
			"## Example 8.1: Express_the_gain_in_decibel.sce"
		   ]
		  },
  {
"cell_type": "code",
	   "execution_count": null,
	   "metadata": {
	    "collapsed": true
	   },
	   "outputs": [],
"source": [
"//Express the gain in decibel\n",
"clear;\n",
"clc;\n",
"//soltion\n",
"//given\n",
"\n",
"//Powere gain of 1000\n",
"Pg1=1000;\n",
"Pgd1=10*log10(Pg1);\n",
"printf('Power gain (in dB)= %.0f dB\n',Pgd1);\n",
"\n",
"//Voltage gain of 1000\n",
"Vg1=1000;\n",
"Vgd1=20*log10(Vg1);\n",
"printf('Voltage gain (in dB)= %.0f dB\n',Vgd1);\n",
"\n",
"//Powere gain of 1/100\n",
"Pg2=1/100;\n",
"Pgd2=10*log10(Pg2);\n",
"printf('Power gain (in dB)= %.0f dB\n',Pgd2);\n",
"\n",
"//Voltage gain of 1/100\n",
"Vg2=1/100;\n",
"Vgd2=20*log10(Vg2);\n",
"printf('Voltage gain (in dB)= %.0f dB\n',Vgd2);"
   ]
   }
,
{
		   "cell_type": "markdown",
		   "metadata": {},
		   "source": [
			"## Example 8.2: Determine_power_and_voltage_gain.sce"
		   ]
		  },
  {
"cell_type": "code",
	   "execution_count": null,
	   "metadata": {
	    "collapsed": true
	   },
	   "outputs": [],
"source": [
"\n",
"//Determine power and voltage gain\n",
"clear;\n",
"clc;\n",
"//soltion\n",
"//given\n",
"\n",
"//For  Gain = 10 dB\n",
"G=10;//dB\n",
"Pg1=10^(G/10);       //taking antilog\n",
"Vg1=10^(G/20);       //taking antilog\n",
"printf('\nFor Gain = %.0f dB',G)\n",
"printf('\nPower gain ratio = %.0f \n',Pg1);\n",
"printf('Voltage gain ratio = %.2f \n',Vg1);\n",
"\n",
"//For Gain 3 dB\n",
"G=3;//dB\n",
"Pg2=10^(G/10);       //taking antilog\n",
"Vg2=10^(G/20);       //taking antilog\n",
"printf('\nFor Gain = %.0f dB\n',G)\n",
"printf('Power gain ratio = %.0f \n',Pg2);\n",
"printf('Voltage gain ratio = %.3f \n',Vg2);"
   ]
   }
,
{
		   "cell_type": "markdown",
		   "metadata": {},
		   "source": [
			"## Example 8.3: Calculate_the_overall_voltage_gai.sce"
		   ]
		  },
  {
"cell_type": "code",
	   "execution_count": null,
	   "metadata": {
	    "collapsed": true
	   },
	   "outputs": [],
"source": [
"//Calculate the overall voltage gain\n",
"clear;\n",
"clc;\n",
"//soltion\n",
"//given\n",
"\n",
"A1=80\n",
"A2=50\n",
"A3=30\n",
"Ad=20*log10(A1)+20*log10(A2)+20*log10(A3);;\n",
"\n",
"//Alternatively\n",
"A=A1*A2*A3;\n",
"Ad=20*log10(A);\n",
"printf('The Voltage gain is %.2f dB',Ad);"
   ]
   }
,
{
		   "cell_type": "markdown",
		   "metadata": {},
		   "source": [
			"## Example 8.4: Calculate_quiescent_output_voltage_and_small_signal_voltage_gain.sce"
		   ]
		  },
  {
"cell_type": "code",
	   "execution_count": null,
	   "metadata": {
	    "collapsed": true
	   },
	   "outputs": [],
"source": [
"//Calculate quiescent output voltage and small signal voltage gain\n",
"clear;\n",
"clc;\n",
"//soltion\n",
"//given\n",
"\n",
"//At input Voltage =3V\n",
"Vi1=3;//V      //input voltage\n",
"Vbe=0.7;//V\n",
"B=250;\n",
"Vcc=10;//V     //Supply\n",
"Re1=1*10^3;//ohm\n",
"Rc1=3*10^3;//ohm\n",
"Re2=2*10^3;//ohm\n",
"Rc2=4*10^3;//ohm\n",
"Vb1=Vi1;        //Voltage at the base of transistor T1\n",
"Ve1=Vb1-Vbe;      //Voltage at the emitter of transistor T1\n",
"Ie1=Ve1/Re1;\n",
"Ic1=Ie1;\n",
"Vc1=Vcc-Ic1*Rc1;\n",
"Vb2=Vc1;\n",
"Ve2=Vb2-Vbe;\n",
"Ie2=Ve2/Re2;\n",
"Ic2=Ie2;\n",
"Vo1=Vcc-Ic2*Rc2;\n",
"printf('The quiescent output voltage(At input Voltage =3 V ) is %.1f V\n',Vo1);\n",
"\n",
"//At input Voltage =3.2 V\n",
"Vi2=3.2;//V      //input voltage\n",
"Vb1=Vi2;        //Voltage at the base of transistor T1\n",
"Ve1=Vb1-Vbe;      //Voltage at the emitter of transistor T1\n",
"Ie1=Ve1/Re1;\n",
"Ic1=Ie1;\n",
"Vc1=Vcc-Ic1*Rc1;\n",
"Vb2=Vc1;\n",
"Ve2=Vb2-Vbe;\n",
"Ie2=Ve2/Re2;\n",
"Ic2=Ie2;\n",
"Vo2=Vcc-Ic2*Rc2;\n",
"printf('The quiescent output voltage (At input Voltage =3.2 V) is %.1f V\n',Vo2);\n",
"\n",
"//Small Signal input and output voltage\n",
"vi=Vi2-Vi1;\n",
"vo=Vo2-Vo1;\n",
"Av=vo/vi;\n",
"printf('The small signal voltage gain is %.0f ',Av)"
   ]
   }
,
{
		   "cell_type": "markdown",
		   "metadata": {},
		   "source": [
			"## Example 8.5: Calculate_the_maximum_voltage_gain_and_bandwidth_of_multistage_amplifier.sce"
		   ]
		  },
  {
"cell_type": "code",
	   "execution_count": null,
	   "metadata": {
	    "collapsed": true
	   },
	   "outputs": [],
"source": [
"//Calculate the maximum voltage gain and bandwidth of multistage amplifier\n",
"clear;\n",
"clc;\n",
"//soltion\n",
"//FUNCTIONS\n",
"\n",
"function [z]=prll(r1,r2)//Function for the parallel combination of resistor\n",
"    z=r1*r2/(r1+r2);\n",
"endfunction\n",
"\n",
"//given\n",
"rin=10*10^6;//ohm         //input resistance of JFET\n",
"Rd=10*10^3;//ohm\n",
"Rs=500;//ohm\n",
"Rg=470*10^3;//ohm\n",
"Rl=470*10^3;//ohm\n",
"Cc=0.01*10^-6;//Farad\n",
"Csh=100*10^-12;//Farad\n",
"Cs=50*10^-6;//Farad\n",
"rd=100*10^3;//ohm\n",
"gm=2*10^-3;//S\n",
"Rac2=prll(Rd,Rl);\n",
"Rac1=prll(Rd,Rg);\n",
"Req=prll(rd,prll(Rd,Rl));\n",
"Am=ceil(gm*Req);\n",
"Am2=Am*Am;       //Voltage gain of two stage amplifier\n",
"printf('Voltage gain of two stage amplifier= %.0f\n',Am2);\n",
"R_=prll(rd,Rd)+prll(Rg,rin);\n",
"f1=1/(2*%pi*Cc*R_);      //lower cutoff frequency\n",
"f1_=f1/(sqrt(sqrt(2)-1));\n",
"f2=1/(2*%pi*Csh*Req);      //upper cutoff frequency\n",
"f2_=f2*(sqrt(sqrt(2)-1));\n",
"BW=f2_-f1_;\n",
"printf('Bandwidth= %.1f kHz',BW/1000);\n",
"\n",
"//There is a slight error in f1 due to use of R'(here R_)=479 kΩ and in f2 due to approaximation of Req there is a slight variation"
   ]
   }
,
{
		   "cell_type": "markdown",
		   "metadata": {},
		   "source": [
			"## Example 8.6: Calculate_the_midband_voltage_gain_and_bandwidth_of_cascade_amplifier.sce"
		   ]
		  },
  {
"cell_type": "code",
	   "execution_count": null,
	   "metadata": {
	    "collapsed": true
	   },
	   "outputs": [],
"source": [
"//Calculate the midband voltage gain and bandwidth of cascade amplifier\n",
"clear;\n",
"clc;\n",
"//soltion\n",
"//given\n",
"Am=8;         //midband voltage gain of individual MOSFET\n",
"BW=500*10^3//Hz\n",
"f2=BW;\n",
"n=4;\n",
"A2m=Am^n;\n",
"f2_=f2*(sqrt((2^(1/n))-1));\n",
"printf('Midband voltage gain = %.0f\n',A2m);\n",
"printf('Overall Bandwidth= %.1f kHz',f2_/1000);"
   ]
   }
,
{
		   "cell_type": "markdown",
		   "metadata": {},
		   "source": [
			"## Example 8.7: Calculate_the_input_and_output_impedance_and_voltage_gain.sce"
		   ]
		  },
  {
"cell_type": "code",
	   "execution_count": null,
	   "metadata": {
	    "collapsed": true
	   },
	   "outputs": [],
"source": [
"//Calculate the input and output impedance and voltage gain\n",
"clear;\n",
"clc;\n",
"//soltion\n",
"//FUNCTIONS\n",
"\n",
"function [z]=prll(r1,r2)//Function for the parallel combination of resistor\n",
"    z=r1*r2/(r1+r2);\n",
"endfunction\n",
"\n",
"hie=1.1*10^3;//ohm      = rin\n",
"hfe=120;//    = B\n",
"\n",
"//the values of Rac2, Zi, Zo are as per diagram\n",
"Rac2=prll(3.3*10^3,2.2*10^3);\n",
"Rac1=prll(6.8*10^3,prll(56*10^3,prll(5.6*10^3,1.1*10^3)));\n",
"Zi=prll(5.6*10^3,prll(56*10^3,1.1*10^3));\n",
"Zo=prll(3.3*10^3,2.2*10^3);\n",
"\n",
"printf('Input Resistance = %.3f kΩ\nOutput Resistance = %.2f kΩ\n',Zi/1000,Zo/1000);\n",
"\n",
"Am2=-hfe*Rac2/(hie);\n",
"Am1=-hfe*Rac1/(hie);\n",
"Am=Am1*Am2;\n",
"Am=20*log10(Am);\n",
"printf('The Overall Voltage gain is %.2f dB',Am);"
   ]
   }
],
"metadata": {
		  "kernelspec": {
		   "display_name": "Scilab",
		   "language": "scilab",
		   "name": "scilab"
		  },
		  "language_info": {
		   "file_extension": ".sce",
		   "help_links": [
			{
			 "text": "MetaKernel Magics",
			 "url": "https://github.com/calysto/metakernel/blob/master/metakernel/magics/README.md"
			}
		   ],
		   "mimetype": "text/x-octave",
		   "name": "scilab",
		   "version": "0.7.1"
		  }
		 },
		 "nbformat": 4,
		 "nbformat_minor": 0
}
