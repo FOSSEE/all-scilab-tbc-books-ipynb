{
"cells": [
 {
		   "cell_type": "markdown",
	   "metadata": {},
	   "source": [
       "# Chapter 12: Sinusoidal Oscillators"
	   ]
	},
{
		   "cell_type": "markdown",
		   "metadata": {},
		   "source": [
			"## Example 12.1: Calculate_frequency_of_oscillations.sce"
		   ]
		  },
  {
"cell_type": "code",
	   "execution_count": null,
	   "metadata": {
	    "collapsed": true
	   },
	   "outputs": [],
"source": [
"//Calculate frequency of oscillations\n",
"clear;\n",
"clc;\n",
"//soltion\n",
"//given\n",
"\n",
"L=55*10^-6;//H\n",
"C=300*10^-12;//F\n",
"fo=1/(2*%pi*sqrt(L*C));\n",
"printf('The frequency of oscillations= %.0f kHz\n',fo/1000);"
   ]
   }
,
{
		   "cell_type": "markdown",
		   "metadata": {},
		   "source": [
			"## Example 12.2: Calculate_frequency_of_oscillations_and_feedback_factor_and_voltage_gain.sce"
		   ]
		  },
  {
"cell_type": "code",
	   "execution_count": null,
	   "metadata": {
	    "collapsed": true
	   },
	   "outputs": [],
"source": [
"//Calculate frequency of oscillations and feedback factor and voltage gain\n",
"clear;\n",
"clc;\n",
"//soltion\n",
"\n",
"function [z]=prll(r1,r2)//Function for the parallel combination of resistor\n",
"    z=r1*r2/(r1+r2);\n",
"endfunction\n",
"\n",
"//given\n",
"C1=0.001*10^-6;//F\n",
"C2=0.01*10^-6;//F\n",
"L=15*10^-6;//H\n",
"C=prll(C1,C2);\n",
"fo=1/(2*%pi*sqrt(L*C));\n",
"printf('The frequency of oscillations= %.2f MHz\n',fo/10^6);\n",
"B=C1/C2;\n",
"Amin=1/B;\n",
"printf('The feedback factor of the circuit =%.1f \n',B);\n",
"printf('The circuit needs a minimum voltage gain of %.0f',Amin);"
   ]
   }
,
{
		   "cell_type": "markdown",
		   "metadata": {},
		   "source": [
			"## Example 12.3: Calculate_frequency_of_oscillations.sce"
		   ]
		  },
  {
"cell_type": "code",
	   "execution_count": null,
	   "metadata": {
	    "collapsed": true
	   },
	   "outputs": [],
"source": [
"//Calculate frequency of oscillations\n",
"clear;\n",
"clc;\n",
"//soltion\n",
"//given\n",
"\n",
"R=10*10^3;//ohm\n",
"C=0.01*10^-6;//F\n",
"fo=1/(2*%pi*R*C*sqrt(6));\n",
"printf('The frequency of oscillations= %.1f Hz\n',fo);"
   ]
   }
,
{
		   "cell_type": "markdown",
		   "metadata": {},
		   "source": [
			"## Example 12.4: Calculate_frequency_of_oscillations.sce"
		   ]
		  },
  {
"cell_type": "code",
	   "execution_count": null,
	   "metadata": {
	    "collapsed": true
	   },
	   "outputs": [],
"source": [
"//Calculate frequency of oscillations\n",
"clear;\n",
"clc;\n",
"//soltion\n",
"//given\n",
"\n",
"R=22*10^3;//ohm\n",
"C=100*10^-12;//F\n",
"fo=1/(2*%pi*R*C);\n",
"printf('The frequency of oscillations= %.2f KHz\n',fo/1000);"
   ]
   }
,
{
		   "cell_type": "markdown",
		   "metadata": {},
		   "source": [
			"## Example 12.5: Determine_the_series_and_parallel_resonant_frequencies.sce"
		   ]
		  },
  {
"cell_type": "code",
	   "execution_count": null,
	   "metadata": {
	    "collapsed": true
	   },
	   "outputs": [],
"source": [
"//Determine the series and parallel resonant frequencies\n",
"clear;\n",
"clc;\n",
"//soltion\n",
"\n",
"function [z]=prll(r1,r2)//Function for the parallel combination of resistor\n",
"    z=r1*r2/(r1+r2);\n",
"endfunction\n",
"\n",
"//given\n",
"\n",
"L=3;//H\n",
"Cm=10*10^-12;//F\n",
"Cs=0.05*10^-12;//F\n",
"fs=1/(2*%pi*sqrt(L*Cs));\n",
"printf('The series resonant frequency =%.0f kHz\n',fs/1000);\n",
"\n",
"Cp=prll(Cm,Cs);\n",
"fp=1/(2*%pi*sqrt(L*Cp));\n",
"printf('The parallel resonant frequency =%.0f kHz',fp/1000);"
   ]
   }
],
"metadata": {
		  "kernelspec": {
		   "display_name": "Scilab",
		   "language": "scilab",
		   "name": "scilab"
		  },
		  "language_info": {
		   "file_extension": ".sce",
		   "help_links": [
			{
			 "text": "MetaKernel Magics",
			 "url": "https://github.com/calysto/metakernel/blob/master/metakernel/magics/README.md"
			}
		   ],
		   "mimetype": "text/x-octave",
		   "name": "scilab",
		   "version": "0.7.1"
		  }
		 },
		 "nbformat": 4,
		 "nbformat_minor": 0
}
