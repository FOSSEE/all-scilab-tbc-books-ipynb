{
"cells": [
 {
		   "cell_type": "markdown",
	   "metadata": {},
	   "source": [
       "# Chapter 9: Power Amplifiers"
	   ]
	},
{
		   "cell_type": "markdown",
		   "metadata": {},
		   "source": [
			"## Example 9.1: Determine_the_turns_ratio_of_the_transformer.sce"
		   ]
		  },
  {
"cell_type": "code",
	   "execution_count": null,
	   "metadata": {
	    "collapsed": true
	   },
	   "outputs": [],
"source": [
"//Determine the turns ratio of the transformer\n",
"clear;\n",
"clc;\n",
"//soltion\n",
"//given\n",
"\n",
"Rl=8;//ohm\n",
"Rl_=5*10^3;//ohm\n",
"TR=sqrt(Rl_/Rl);       //Turns ratio\n",
"printf('Turns Ratio= %.0f : 1',TR);"
   ]
   }
,
{
		   "cell_type": "markdown",
		   "metadata": {},
		   "source": [
			"## Example 9.2: Determine_the_output_impedance_of_the_transistor.sce"
		   ]
		  },
  {
"cell_type": "code",
	   "execution_count": null,
	   "metadata": {
	    "collapsed": true
	   },
	   "outputs": [],
"source": [
"//Determine the output impedance of the transistor\n",
"clear;\n",
"clc;\n",
"//soltion\n",
"//given\n",
"\n",
"TR=16/1;    //turn ratio\n",
"Rl=4;//ohm   //loudspeaker impedance\n",
"ro=(TR^2)*Rl;\n",
"printf('The output impedance of the transistor %.0f Ω',ro);"
   ]
   }
,
{
		   "cell_type": "markdown",
		   "metadata": {},
		   "source": [
			"## Example 9.3: Determine_the_efficiency_of_a_single_ended_transformer.sce"
		   ]
		  },
  {
"cell_type": "code",
	   "execution_count": null,
	   "metadata": {
	    "collapsed": true
	   },
	   "outputs": [],
"source": [
"\n",
"//Determine the efficiency of a single ended transformer\n",
"clear;\n",
"clc;\n",
"//soltion\n",
"//given\n",
"\n",
"Vceq=10;//V     //supply voltage\n",
"\n",
"//At Vp=10V\n",
"Vp=10;//V\n",
"Vce_max1=Vceq+Vp;\n",
"Vce_min1=Vceq-Vp;\n",
"n1=50*((Vce_max1-Vce_min1)/(Vce_max1+Vce_min1))^2;\n",
"printf('Efficiency (At Vp = 10V)= %.0f percent\n',n1);\n",
"\n",
"//At Vp=5V\n",
"Vp=5;//V\n",
"Vce_max2=Vceq+Vp;\n",
"Vce_min2=Vceq-Vp;\n",
"n2=50*((Vce_max2-Vce_min2)/(Vce_max2+Vce_min2))^2;\n",
"printf('Efficiency (At Vp = 5V)= %.1f percent\n',n2);\n",
"\n",
"//At Vp=1V\n",
"Vp=1;//V\n",
"Vce_max3=Vceq+Vp;\n",
"Vce_min3=Vceq-Vp;\n",
"n3=50*((Vce_max3-Vce_min3)/(Vce_max3+Vce_min3))^2;\n",
"printf('Efficiency (At Vp = 1V)= %.1f percent\n',n3);"
   ]
   }
,
{
		   "cell_type": "markdown",
		   "metadata": {},
		   "source": [
			"## Example 9.4: Determine_input_and_output_power_and_efficiency.sce"
		   ]
		  },
  {
"cell_type": "code",
	   "execution_count": null,
	   "metadata": {
	    "collapsed": true
	   },
	   "outputs": [],
"source": [
"//Determine input and output power and efficiency\n",
"clear;\n",
"clc;\n",
"//soltion\n",
"//given\n",
"\n",
"Vcc=20;//V     //supply voltage\n",
"Rl=4;//Ω\n",
"Vp=15;//V\n",
"Ip=Vp/Rl;\n",
"Idc=Ip/%pi;\n",
"Pi=Vcc*Idc;\n",
"Po=((Vp/2)^2)/Rl;\n",
"n=100*Po/Pi;\n",
"printf('Input power %.2f W\n',Pi);\n",
"printf('Output power %.2f W\n',Po);\n",
"printf('Efficiency = %.0f percent\n',n);\n",
""
   ]
   }
,
{
		   "cell_type": "markdown",
		   "metadata": {},
		   "source": [
			"## Example 9.5: Calculate_the_percentage_increase_in_output_power.sce"
		   ]
		  },
  {
"cell_type": "code",
	   "execution_count": null,
	   "metadata": {
	    "collapsed": true
	   },
	   "outputs": [],
"source": [
"//Calculate the percentage increase in output power\n",
"clear;\n",
"clc;\n",
"//soltion\n",
"//given\n",
"\n",
"D=0.2;//harmonic distortion\n",
"P=(1+D^2);//Total power increase\n",
"\n",
"//percent increase= (Pi*(1+D^2)-Pi)*100/Pi;\n",
"//taking out and cancelling Pi\n",
"PI=(P-1)*100;\n",
"printf('The percentage increase in output power= %.0f percent',PI);"
   ]
   }
,
{
		   "cell_type": "markdown",
		   "metadata": {},
		   "source": [
			"## Example 9.6: EX9_6.sce"
		   ]
		  },
  {
"cell_type": "code",
	   "execution_count": null,
	   "metadata": {
	    "collapsed": true
	   },
	   "outputs": [],
"source": [
"//Calculate harmonic distortion and percentage increase in output voltage due to this\n",
"clear;\n",
"clc;\n",
"//soltion\n",
"//given\n",
"\n",
"I1=60;//A\n",
"I2=6;//A\n",
"I3=1.2;//A\n",
"I4=0.6;//A\n",
"D2=I2/I1;\n",
"D3=I3/I1;\n",
"D4=I4/I1;\n",
"printf('The Harmonic distortion of each component\nD2= %.0f percent\nD3= %.0f percent\nD4= %.0f percent\n',D2*100,D3*100,D4*100);\n",
"\n",
"D=sqrt((D2)^2+(D3)^2+(D4)^2);\n",
"printf('The Total Harmonic distortion = %.0f percent\n',D*100);\n",
"P=(1+D^2);//Total power increase\n",
"\n",
"//percent increase= (Pi*(1+D^2)-Pi)*100/Pi;\n",
"//taking out and cancelling Pi\n",
"PI=(P-1)*100;\n",
"printf('The percentage increase in output power= %.0f percent',PI);"
   ]
   }
],
"metadata": {
		  "kernelspec": {
		   "display_name": "Scilab",
		   "language": "scilab",
		   "name": "scilab"
		  },
		  "language_info": {
		   "file_extension": ".sce",
		   "help_links": [
			{
			 "text": "MetaKernel Magics",
			 "url": "https://github.com/calysto/metakernel/blob/master/metakernel/magics/README.md"
			}
		   ],
		   "mimetype": "text/x-octave",
		   "name": "scilab",
		   "version": "0.7.1"
		  }
		 },
		 "nbformat": 4,
		 "nbformat_minor": 0
}
