{
"cells": [
 {
		   "cell_type": "markdown",
	   "metadata": {},
	   "source": [
       "# Chapter 7: Small Signal Single Stage Amplifier"
	   ]
	},
{
		   "cell_type": "markdown",
		   "metadata": {},
		   "source": [
			"## Example 7.10: Determine_the_small_signal_voltage_gain_and_input_and_output_resistance.sce"
		   ]
		  },
  {
"cell_type": "code",
	   "execution_count": null,
	   "metadata": {
	    "collapsed": true
	   },
	   "outputs": [],
"source": [
"//Determine the small signal voltage gain and input and output resistance\n",
"clear;\n",
"clc;\n",
"//soltion\n",
"//given\n",
"\n",
"Rd=2*10^3;//ohm\n",
"rd=100*10^3;//ohm\n",
"Rg=1*10^6;//ohm\n",
"gm=2*10^-3;//S\n",
"Av=-gm*(rd*Rd/(rd+Rd));\n",
"Ri=Rg;\n",
"Ro=rd*Rd/(rd+Rd);\n",
"printf('The small signal voltage gain = %.0f\ninput resistance= %.0f MΩ\noutput resistance = %.0f kΩ',Av,Ri/10^6,Ro/1000);"
   ]
   }
,
{
		   "cell_type": "markdown",
		   "metadata": {},
		   "source": [
			"## Example 7.11: Determine_the_small_signal_voltage_gain_and_input_and_output_resistance.sce"
		   ]
		  },
  {
"cell_type": "code",
	   "execution_count": null,
	   "metadata": {
	    "collapsed": true
	   },
	   "outputs": [],
"source": [
"//Determine the small signal voltage gain and input and output resistance\n",
"clear;\n",
"clc;\n",
"//soltion\n",
"//given\n",
"\n",
"R1=500*10^3;//ohm\n",
"R2=50*10^3;//ohm\n",
"Rd=5*10^3;//ohm\n",
"Rs=100;//ohm\n",
"Rl=5*10^3;//ohm\n",
"gm=1.5*10^-3;//S\n",
"rd=200*10^3;//ohm\n",
"Rg=R1*R2/(R1+R2);\n",
"Rac=Rd*Rl/(Rd+Rl);\n",
"Av=-gm*Rac;\n",
"Ri=Rg;\n",
"Ro=(rd*Rac/(rd+Rac));\n",
"printf('The small signal voltage gain = %.2f\ninput resistance= %.2f kΩ\noutput resistance = %.1f kΩ',Av,Ri/1000,Ro/1000);"
   ]
   }
,
{
		   "cell_type": "markdown",
		   "metadata": {},
		   "source": [
			"## Example 7.12: Calculate_the_voltage_gain_of_the_FET.sce"
		   ]
		  },
  {
"cell_type": "code",
	   "execution_count": null,
	   "metadata": {
	    "collapsed": true
	   },
	   "outputs": [],
"source": [
"//Calculate the voltage gain of the FET\n",
"clear;\n",
"clc;\n",
"//soltion\n",
"//given\n",
"\n",
"Idss=8*10^-3;//A\n",
"Vp=4;//V\n",
"rd=25*10^3;//ohm\n",
"Rd=2.2*10^3;//ohm     //by the help of figure\n",
"Vgs=-1.8;//V\n",
"gmo=2*Idss/(abs(Vp));\n",
"gm=gmo*(1-(Vgs/(-Vp)));\n",
"Av=-gm*(rd*Rd/(rd+Rd));\n",
"printf('The voltage gain of the FET %.2f',Av);"
   ]
   }
,
{
		   "cell_type": "markdown",
		   "metadata": {},
		   "source": [
			"## Example 7.1: EX7_1.sce"
		   ]
		  },
  {
"cell_type": "code",
	   "execution_count": null,
	   "metadata": {
	    "collapsed": true
	   },
	   "outputs": [],
"source": [
"//Calculate max current and check will the capacitor act as short for given frequency\n",
"clear;\n",
"clc;\n",
"//soltion\n",
"//given\n",
"\n",
"C=100*10^-6;//Farad\n",
"Rs=1*10^3;//ohm\n",
"Rl=4*10^3;//ohm\n",
"Vs=1;//V\n",
"Imax=Vs/(Rs+Rl);\n",
"fc=1/(2*%pi*(Rs+Rl)*C)     //critical frequency\n",
"fh=10*fc;                  //Border frequency\n",
"printf('Maximum current is %.0f uA\n',Imax*10^6);\n",
"printf('fh = %.2f Hz\n',fh);\n",
"printf('As long as source frequency is greater than %.2f Hz, the coupling capacitor acts like an ac short for 20Hz to 20kHz.',fh)\n",
"\n",
"//In book Imax is 200mA but there is misprinting of 'm' in mA it should be uA"
   ]
   }
,
{
		   "cell_type": "markdown",
		   "metadata": {},
		   "source": [
			"## Example 7.2: EX7_2.sce"
		   ]
		  },
  {
"cell_type": "code",
	   "execution_count": null,
	   "metadata": {
	    "collapsed": true
	   },
	   "outputs": [],
"source": [
"//Check whether the capacitor is an effective bypass for the signal currents of lowest frequency 20 Hz\n",
"clear;\n",
"clc;\n",
"//soltion\n",
"//given\n",
"\n",
"C=100*10^-6;//Farad\n",
"Rs=1*10^3;//ohm\n",
"Rl=4*10^3;//ohm\n",
"f=20;//Hz          //lowest frequency\n",
"Xc=1/(2*%pi*f*C)         //reactance of capacitor at 20Hz\n",
"Rth=Rs*Rl/(Rs+Rl);      //Thevenin's equivalent resistance\n",
"printf('Xc < Rth/10 = %.1f Ω < %.1f Ω is satisfied\n',Xc,Rth/10);\n",
"printf('The capacitor of 100uF will work as a good bypass for frequencies greater than 20 Hz ')"
   ]
   }
,
{
		   "cell_type": "markdown",
		   "metadata": {},
		   "source": [
			"## Example 7.3: Calculate_the_value_of_capacitor_required.sce"
		   ]
		  },
  {
"cell_type": "code",
	   "execution_count": null,
	   "metadata": {
	    "collapsed": true
	   },
	   "outputs": [],
"source": [
"//Calculate the value of capacitor required\n",
"clear;\n",
"clc;\n",
"//soltion\n",
"//given\n",
"\n",
"Rs1=20*10^3;//ohm\n",
"Rs2=30*10^3;//ohm\n",
"Rl1=40*10^3;//ohm\n",
"Rl2=80*10^3;//ohm\n",
"Rl3=80*10^3;//ohm\n",
"Rth=Rs1*Rs2/(Rs1+Rs2);          //Thevenin's equivalent resistance\n",
"Rl_=Rl2*Rl3/(Rl2+Rl3);\n",
"Rl=Rl1*Rl_/(Rl1+Rl_);    //Equivalent load\n",
"f=50;//Hz          //lowest frequency\n",
"R=Rth+Rl;\n",
"C=10/(2*%pi*f*R)\n",
"printf('The required value of coupling capacitor is %.0f uF',C*10^6);"
   ]
   }
,
{
		   "cell_type": "markdown",
		   "metadata": {},
		   "source": [
			"## Example 7.4: Calculate_voltage_and_current_gain_and_input_and_output_resistance.sce"
		   ]
		  },
  {
"cell_type": "code",
	   "execution_count": null,
	   "metadata": {
	    "collapsed": true
	   },
	   "outputs": [],
"source": [
"//Calculate voltage and current gain and input and output resistance\n",
"clear;\n",
"clc;\n",
"//soltion\n",
"\n",
"function [z]=prll(r1,r2)//Function for the parallel combination of resistor\n",
"    z=r1*r2/(r1+r2);\n",
"endfunction\n",
"\n",
"//given\n",
"\n",
"//DC analysis\n",
"Vcc=12;//V\n",
"Rb=200*10^3;//ohm\n",
"Rc=1*10^3;//ohm\n",
"B=100;// beta\n",
"Ib=Vcc/Rb;\n",
"Ic=B*Ib;\n",
"Icsat=Vcc/Rc;\n",
"Vce=Vcc-Ic*Rc;\n",
"printf('The Q point of DC analysis= (%.0f V, %.0f mA)\n',Vce,Ic*1000);\n",
"\n",
"//AC analysis\n",
"Rl=1*10^3;//ohm\n",
"hfe=B;\n",
"hie=2*10^3;//ohm\n",
"hoe_1=40*10^3;//ohm      // 1/hoe\n",
"Rac=prll(Rc,Rl);\n",
"Av=-hfe*Rac/hie;\n",
"printf('The voltage gain = %.0f\n',Av);\n",
"\n",
"//Siince (1/hoe) > Rac therefore entire current will flows through Rac\n",
"Io=-100*Ib;\n",
"Ac=Io/Ib;\n",
"printf('The current gain = %.0f\n',Ac);\n",
"\n",
"Ri=prll(Rb,hie);\n",
"Ro=prll(Rl,prll(Rc,hoe_1));\n",
"printf('The input resistance= %.0f kΩ\n',Ri/1000);\n",
"printf('The output resistance= %.1f kΩ',Ro/1000);\n",
"\n",
"//In book the voltage gain is 25 due to skipping of '-' in printing"
   ]
   }
,
{
		   "cell_type": "markdown",
		   "metadata": {},
		   "source": [
			"## Example 7.5: Solve_previous_example_using_hybrid_pie_model.sce"
		   ]
		  },
  {
"cell_type": "code",
	   "execution_count": null,
	   "metadata": {
	    "collapsed": true
	   },
	   "outputs": [],
"source": [
"//Solve previous example using hybrid pie model\n",
"clear;\n",
"clc;\n",
"//soltion\n",
"function [z]=prll(r1,r2)//Function for the parallel combination of resistor\n",
"    z=r1*r2/(r1+r2);\n",
"endfunction\n",
"\n",
"//given\n",
"\n",
"Vcc=12;//V\n",
"Rb=200*10^3;//ohm\n",
"Rc=1*10^3;//ohm\n",
"Rl=1*10^3;//ohm\n",
"B=100;// beta\n",
"hie=2*10^3;//ohm\n",
"hoe_1=40*10^3;//ohm      // 1/hoe\n",
"\n",
"Ib=Vcc/Rb;\n",
"Ic=B*Ib;\n",
"Rac=prll(Rc,Rl);\n",
"gm=Ic/(25*10^-3);\n",
"rpi=B/gm;\n",
"ri=hie;\n",
"rb=ri-rpi;\n",
"ro=hoe_1;\n",
"Vi=poly(0,'Vi');      //let the input be Vi\n",
"Vpi=Vi*rpi/(rpi+rb);\n",
"Vo=-gm*Vpi*Rac;    //output voltage\n",
"Av=Vo/Vi;\n",
"printf('The voltage gain ');\n",
"disp(Av);\n",
"//In book voltage gain is -24.96 due to appraoximation"
   ]
   }
,
{
		   "cell_type": "markdown",
		   "metadata": {},
		   "source": [
			"## Example 7.6: Determine_the_value_of_output_voltage.sce"
		   ]
		  },
  {
"cell_type": "code",
	   "execution_count": null,
	   "metadata": {
	    "collapsed": true
	   },
	   "outputs": [],
"source": [
"//Determine the value of output voltage\n",
"clear;\n",
"clc;\n",
"//soltion\n",
"//given\n",
"\n",
"Vcc=12;//V\n",
"Rb=150*10^3;//ohm\n",
"Rc=5*10^3;//ohm\n",
"B=200;// beta\n",
"hie=2*10^3;//ohm\n",
"ro=60*10^3;//ohm      // 1/hoe\n",
"Vi=1*10^-3;//V\n",
"Ib=Vcc/Rb;\n",
"Ic=B*Ib;\n",
"Icsat=Vcc/Rc;\n",
"// Icsat < Ic therefore transistor is in saturation mode and outpuut voltage wil be zero\n",
"Vo=0;\n",
"printf('The output voltage= %.0f V',Vo);"
   ]
   }
,
{
		   "cell_type": "markdown",
		   "metadata": {},
		   "source": [
			"## Example 7.7: Calculate_voltage_gain_and_input_resistance.sce"
		   ]
		  },
  {
"cell_type": "code",
	   "execution_count": null,
	   "metadata": {
	    "collapsed": true
	   },
	   "outputs": [],
"source": [
"//Calculate voltage gain and input resistance\n",
"clear;\n",
"clc;\n",
"//soltion\n",
"\n",
"function [z]=prll(r1,r2)//Function for the parallel combination of resistor\n",
"    z=r1*r2/(r1+r2);\n",
"endfunction\n",
"\n",
"//given\n",
"R1=75*10^3;//ohm\n",
"R2=7.5*10^3;//ohm\n",
"Rc=4.7*10^3;//ohm\n",
"Re=1.2*10^3;//ohm\n",
"Rl=12*10^3;//ohm\n",
"B=150;\n",
"ri=2*10^3;//ohm\n",
"Vcc=15;//V\n",
"Vb=Vcc*R2/(R1+R2);\n",
"Ve=Vb;        //since Vbe=0\n",
"Ie=Ve/Re;\n",
"Ic=Ie;\n",
"Icsat=Vcc/(Rc+Re);\n",
"// Ic < Icsat therefore transistor is in active mode\n",
"Vce=Vcc-Ic*(Rc+Re);\n",
"printf('The Q point of DC analysis= (%.1f V, %.3f mA)\n',Vce,Ic*1000);\n",
"\n",
"Rac=prll(Rc,Rl);\n",
"Av=-B*Rac/ri;\n",
"printf('The voltage gain = %.1f\n',Av);\n",
"Ri_=prll(ri,R2);\n",
"printf('The input resistance= %.2f kΩ\n',Ri_/1000);"
   ]
   }
,
{
		   "cell_type": "markdown",
		   "metadata": {},
		   "source": [
			"## Example 7.8: Calculate_the_value_of_gm_at_different_values_of_Vgs.sce"
		   ]
		  },
  {
"cell_type": "code",
	   "execution_count": null,
	   "metadata": {
	    "collapsed": true
	   },
	   "outputs": [],
"source": [
"\n",
"//Calculate the value of gm at different values of Vgs\n",
"clear;\n",
"clc;\n",
"//soltion\n",
"//given\n",
"\n",
"Idss=8*10^-3;//A\n",
"Vp=4;//V\n",
"//At Vgs= -0.5 V\n",
"Vgs= -0.5;//V\n",
"gmo=2*Idss/(abs(Vp));\n",
"gm=gmo*(1-(Vgs/(-Vp)));\n",
"printf('gmo = %.0f mS\n',gmo*1000);\n",
"printf('gm (At Vgs = -0.5V) =%.1f mS\n',gm*1000);\n",
"\n",
"//At Vgs= -1.5 V\n",
"Vgs= -1.5;//V\n",
"gmo=2*Idss/(abs(Vp));\n",
"gm=gmo*(1-(Vgs/(-Vp)));\n",
"printf('gm (At Vgs = -1.5V) =%.1f mS\n',gm*1000);\n",
"\n",
"//At Vgs= -2.5 V\n",
"Vgs= -2.5;//V\n",
"gmo=2*Idss/(abs(Vp));\n",
"gm=gmo*(1-(Vgs/(-Vp)));\n",
"printf('gm (At Vgs = -2.5V) =%.1f mS\n',gm*1000);"
   ]
   }
,
{
		   "cell_type": "markdown",
		   "metadata": {},
		   "source": [
			"## Example 7.9: Find_the_output_signal_voltage_of_the_amplifier.sce"
		   ]
		  },
  {
"cell_type": "code",
	   "execution_count": null,
	   "metadata": {
	    "collapsed": true
	   },
	   "outputs": [],
"source": [
"//Find the output signal voltage of the amplifier\n",
"clear;\n",
"clc;\n",
"//soltion\n",
"//given\n",
"\n",
"Rd=12*10^3;//ohm\n",
"Rg=1*10^6;//ohm\n",
"Rs=1*10^3;//ohm\n",
"Cs=25*10^-6;//F\n",
"u=80;      //amplification factor\n",
"rd=200*10^3;//ohm\n",
"Vi=0.1;//V\n",
"f=1*10^3;//Hz      //input frequency\n",
"Xcs=1/(2*%pi*f*Cs);\n",
"//This is much smaller than Rs therefore it is bypassed\n",
"\n",
"gm=u/rd;\n",
"Av=gm*(rd*Rd/(rd+Rd));\n",
"Vo=Av*Vi;\n",
"printf('The output voltage is %.3f V',Vo);"
   ]
   }
],
"metadata": {
		  "kernelspec": {
		   "display_name": "Scilab",
		   "language": "scilab",
		   "name": "scilab"
		  },
		  "language_info": {
		   "file_extension": ".sce",
		   "help_links": [
			{
			 "text": "MetaKernel Magics",
			 "url": "https://github.com/calysto/metakernel/blob/master/metakernel/magics/README.md"
			}
		   ],
		   "mimetype": "text/x-octave",
		   "name": "scilab",
		   "version": "0.7.1"
		  }
		 },
		 "nbformat": 4,
		 "nbformat_minor": 0
}
