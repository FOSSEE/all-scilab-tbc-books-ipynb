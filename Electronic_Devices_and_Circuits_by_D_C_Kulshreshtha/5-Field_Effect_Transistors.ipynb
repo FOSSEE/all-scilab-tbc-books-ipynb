{
"cells": [
 {
		   "cell_type": "markdown",
	   "metadata": {},
	   "source": [
       "# Chapter 5: Field Effect Transistors"
	   ]
	},
{
		   "cell_type": "markdown",
		   "metadata": {},
		   "source": [
			"## Example 5.1: Calculate_saturation_voltage_and_saturation_current.sce"
		   ]
		  },
  {
"cell_type": "code",
	   "execution_count": null,
	   "metadata": {
	    "collapsed": true
	   },
	   "outputs": [],
"source": [
"//Calculate saturation voltage and saturation current\n",
"clear;\n",
"clc;\n",
"//soltion\n",
"//given\n",
"Vp=-4//V          //pinch off voltage\n",
"Idss=12*10^-3;//A      //drain to source current with gate shorted\n",
"Vgs=-2;//V             //gate to source voltage\n",
"Vds=Vgs-Vp;\n",
"Id=Idss*(Vds/Vp)^2;\n",
"printf('Saturation Voltage is %.0f V\n',Vds);\n",
"printf('Saturation current is %.0f mA',Id*10^3);"
   ]
   }
,
{
		   "cell_type": "markdown",
		   "metadata": {},
		   "source": [
			"## Example 5.2: Find_the_value_of_drain_current.sce"
		   ]
		  },
  {
"cell_type": "code",
	   "execution_count": null,
	   "metadata": {
	    "collapsed": true
	   },
	   "outputs": [],
"source": [
"//Find the value of drain current\n",
"clear;\n",
"clc;\n",
"//soltion\n",
"//given\n",
"Vgso=-5;//V          //gate to source cut off voltage\n",
"Idss=20*10^-3;//A     //drain to source current with gate shorted\n",
"\n",
"//At vgs = -2 V\n",
"vgs=-2;//V        input voltage\n",
"id=Idss*(1-(vgs/Vgso))^2;          //Schockley's equation\n",
"printf('Drain current is (At vgs = -2 V) %.1f mA\n',id*10^3);\n",
"\n",
"//At vgs = -4 V\n",
"vgs=-4;//V        input voltage\n",
"id=Idss*(1-(vgs/Vgso))^2;          //Schockley's equation\n",
"printf('Drain current is (At vgs = -4 V) %.1f mA\n',id*10^3);\n",
"\n",
"//At vgs = -8 V\n",
"printf('Drain current is 0 A (At vgs = -8 V) because gate is biased beyond cut off ');"
   ]
   }
,
{
		   "cell_type": "markdown",
		   "metadata": {},
		   "source": [
			"## Example 5.3: Calculate_Vgs_and_Vds_saturation.sce"
		   ]
		  },
  {
"cell_type": "code",
	   "execution_count": null,
	   "metadata": {
	    "collapsed": true
	   },
	   "outputs": [],
"source": [
"//Calculate Vgs and Vds saturation\n",
"clear;\n",
"clc;\n",
"//soltion\n",
"//given\n",
"Vp=5//V          //pinch off voltage\n",
"Idss=-15*10^-3;//A      //drain to source current with gate shorted\n",
"Id=-3*10^-3;//A         //saturation current\n",
"Vgs=Vp*(1-sqrt(Id/Idss));\n",
"Vds=Vgs-Vp;\n",
"printf('The gate to source voltage (Vgs) is %.3f V\n',Vgs);\n",
"printf('The saturation voltage is Vds(sat)= %.3f V',Vds);\n",
"\n",
"// THe value of Vgs = 2.115V and Vds= -2.885V in book because of the calculation error"
   ]
   }
,
{
		   "cell_type": "markdown",
		   "metadata": {},
		   "source": [
			"## Example 5.4: Calculate_drain_current_Id_for_N_channel.sce"
		   ]
		  },
  {
"cell_type": "code",
	   "execution_count": null,
	   "metadata": {
	    "collapsed": true
	   },
	   "outputs": [],
"source": [
"//Calculate drain current Id for N channel\n",
"clear;\n",
"clc;\n",
"//soltion\n",
"//given\n",
"Vp=5//V          //pinch off voltage\n",
"Idss=18*10^-3;//A     //drain to source current with gate shorted\n",
"\n",
"//For Vgs= - 3 V\n",
"Vgs=-3;//V\n",
"Id=Idss*(1-(Vgs/(-Vp)))^2;\n",
"printf('The drain current Id(For Vgs= -3V) = %.2f mA\n',Id*10^3);\n",
"\n",
"//For Vgs= 2.5 V\n",
"Vgs=2.5;//V\n",
"Id=Idss*(1-(Vgs/(-Vp)))^2;\n",
"printf('The drain current Id(For Vgs= 2.5V) = %.1f mA',Id*10^3);\n",
""
   ]
   }
,
{
		   "cell_type": "markdown",
		   "metadata": {},
		   "source": [
			"## Example 5.5: Calculate_drain_current_Id_for_P_channel.sce"
		   ]
		  },
  {
"cell_type": "code",
	   "execution_count": null,
	   "metadata": {
	    "collapsed": true
	   },
	   "outputs": [],
"source": [
"//Calculate drain current Id for P channel\n",
"clear;\n",
"clc;\n",
"//soltion\n",
"//given\n",
"Vp=-5//V          //pinch off voltage\n",
"Idss=18*10^-3;//A     //drain to source current with gate shorted\n",
"\n",
"//For Vgs= -3V\n",
"Vgs=-3;//V\n",
"Id=Idss*(1-(Vgs/(-Vp)))^2;\n",
"printf('The drain current Id (For Vgs= -3V) = %.2f mA\n',Id*10^3);\n",
"\n",
"//For Vgs= 2.5V\n",
"Vgs=2.5;//V\n",
"Id=Idss*(1-(Vgs/(-Vp)))^2;\n",
"printf('The drain current Id (For Vgs= 2.5V) = %.1f mA',Id*10^3);"
   ]
   }
,
{
		   "cell_type": "markdown",
		   "metadata": {},
		   "source": [
			"## Example 5.6: Find_the_value_of_drain_current.sce"
		   ]
		  },
  {
"cell_type": "code",
	   "execution_count": null,
	   "metadata": {
	    "collapsed": true
	   },
	   "outputs": [],
"source": [
"//Find the value of drain current\n",
"clear;\n",
"clc;\n",
"//soltion\n",
"//given\n",
"Vt=2;//V      //threshold voltage\n",
"K=0.25*10^-3;// A/V^2      //conductivity parameter\n",
"Vgs=3;//V    //gate supply\n",
"Vds=2;//V      //saturation voltage\n",
"Vdsm=Vgs-Vt;        //minimum voltage required to pinch off\n",
"\n",
"// Vds > Vdsm therefore the device is in saturation region\n",
"\n",
"Id=K*(Vgs-Vt)^2;\n",
"printf('The drain current is %.2f mA',Id*1000);"
   ]
   }
,
{
		   "cell_type": "markdown",
		   "metadata": {},
		   "source": [
			"## Example 5.7: Find_the_value_of_Id.sce"
		   ]
		  },
  {
"cell_type": "code",
	   "execution_count": null,
	   "metadata": {
	    "collapsed": true
	   },
	   "outputs": [],
"source": [
"//Find the value of Id\n",
"clear;\n",
"clc;\n",
"//soltion\n",
"//given\n",
"Vt=1.5;//V      //threshold voltage\n",
"Id=2*10^-3;//A\n",
"Vgs=3;//V    //gate supply\n",
"Vds=5;//V      //saturation voltage\n",
"Vdsm=Vgs-Vt;        //minimum voltage required to pinch off\n",
"\n",
"// Vds > Vdsm therefore the device is in saturation region\n",
"\n",
"// Calculating K\n",
"K=Id/((Vgs-Vt)^2);       // A/V^2      //conductivity parameter\n",
"\n",
"//Calculating Id for Vgs= 5 V and Vds= 6 V\n",
"Vgs=5;//V    //gate supply\n",
"Vds=6;//V      //saturation voltage\n",
"Id=K*((Vgs-Vt)^2);\n",
"printf('The drain current is %.2f mA',Id*1000);"
   ]
   }
,
{
		   "cell_type": "markdown",
		   "metadata": {},
		   "source": [
			"## Example 5.8: Calculate_the_dynamic_drain_resistance.sce"
		   ]
		  },
  {
"cell_type": "code",
	   "execution_count": null,
	   "metadata": {
	    "collapsed": true
	   },
	   "outputs": [],
"source": [
"//Calculate the dynamic drain resistance\n",
"clear;\n",
"clc;\n",
"//soltion\n",
"//given\n",
"gm=200*10^-6;//S          trans conductance\n",
"u=80;//         amplification factor\n",
"rd=u/gm;\n",
"printf('The dynamic drain resistance is %.0f kΩ',rd/1000);"
   ]
   }
],
"metadata": {
		  "kernelspec": {
		   "display_name": "Scilab",
		   "language": "scilab",
		   "name": "scilab"
		  },
		  "language_info": {
		   "file_extension": ".sce",
		   "help_links": [
			{
			 "text": "MetaKernel Magics",
			 "url": "https://github.com/calysto/metakernel/blob/master/metakernel/magics/README.md"
			}
		   ],
		   "mimetype": "text/x-octave",
		   "name": "scilab",
		   "version": "0.7.1"
		  }
		 },
		 "nbformat": 4,
		 "nbformat_minor": 0
}
