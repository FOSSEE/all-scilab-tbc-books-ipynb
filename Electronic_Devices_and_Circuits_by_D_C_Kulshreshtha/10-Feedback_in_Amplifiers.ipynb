{
"cells": [
 {
		   "cell_type": "markdown",
	   "metadata": {},
	   "source": [
       "# Chapter 10: Feedback in Amplifiers"
	   ]
	},
{
		   "cell_type": "markdown",
		   "metadata": {},
		   "source": [
			"## Example 10.10: Calculate_the_percentage_of_negative_feedback_to_input.sce"
		   ]
		  },
  {
"cell_type": "code",
	   "execution_count": null,
	   "metadata": {
	    "collapsed": true
	   },
	   "outputs": [],
"source": [
"//Calculate the percentage of negative feedback to input\n",
"clear;\n",
"clc;\n",
"//soltion\n",
"//given\n",
"\n",
"Adb=60;//dB      //internal gain in dB\n",
"A=10^(Adb/(20));      //taking antilog\n",
"Ro=12*10^3;//ohm      //output resistance\n",
"Rof=600;//ohm\n",
"B=(Ro/Rof-1)/A;\n",
"printf('The percentage of negative feedback to input= %.1f percent',B*100);"
   ]
   }
,
{
		   "cell_type": "markdown",
		   "metadata": {},
		   "source": [
			"## Example 10.1: Determine_the_gain_of_feedback_amplifier.sce"
		   ]
		  },
  {
"cell_type": "code",
	   "execution_count": null,
	   "metadata": {
	    "collapsed": true
	   },
	   "outputs": [],
"source": [
"//Determine the gain of feedback amplifier\n",
"clear;\n",
"clc;\n",
"//soltion\n",
"//given\n",
"\n",
"A=100;      //internal gain\n",
"B=0.1;//feedback factor\n",
"Af=A/(1+A*B);\n",
"printf('The gain of feedback amplifier %.2f',Af);"
   ]
   }
,
{
		   "cell_type": "markdown",
		   "metadata": {},
		   "source": [
			"## Example 10.2: Determine_the_gain_of_feedback_amplifier_in_dB.sce"
		   ]
		  },
  {
"cell_type": "code",
	   "execution_count": null,
	   "metadata": {
	    "collapsed": true
	   },
	   "outputs": [],
"source": [
"//Determine the gain of feedback amplifier in dB\n",
"clear;\n",
"clc;\n",
"//soltion\n",
"//given\n",
"\n",
"Ad=60;//dB      //internal gain in dB\n",
"A=10^(Ad/20);    //internal gain\n",
"B=1/20;//feedback factor\n",
"Af=A/(1+A*B);\n",
"Afd=20*log10(Af);\n",
"printf('The gain of feedback amplifier %.2f dB',Afd);"
   ]
   }
,
{
		   "cell_type": "markdown",
		   "metadata": {},
		   "source": [
			"## Example 10.3: Calculate_the_percentage_of_output_fed_back_to_input.sce"
		   ]
		  },
  {
"cell_type": "code",
	   "execution_count": null,
	   "metadata": {
	    "collapsed": true
	   },
	   "outputs": [],
"source": [
"//Calculate the percentage of output fed back to input\n",
"clear;\n",
"clc;\n",
"//soltion\n",
"//given\n",
"\n",
"A=600;      //internal gain\n",
"Af=50;      //gain of feedback amplifier\n",
"B=(A/Af-1)/A;\n",
"printf('The percentage of output fed back to input= %.3f percent',B*100);"
   ]
   }
,
{
		   "cell_type": "markdown",
		   "metadata": {},
		   "source": [
			"## Example 10.4: Calculate_the_internal_gain_and_percentage_of_output_fed_back_to_input.sce"
		   ]
		  },
  {
"cell_type": "code",
	   "execution_count": null,
	   "metadata": {
	    "collapsed": true
	   },
	   "outputs": [],
"source": [
"//Calculate the internal gain and percentage of output fed back to input\n",
"clear;\n",
"clc;\n",
"//soltion\n",
"//given\n",
"\n",
"Af=80;      //gain of feedback amplifier\n",
"Vi=0.05;//V    //input with feedback\n",
"Vi_=4*10^-3;//V   //input without feedback\n",
"Vo_=Af*Vi;\n",
"A=Vo_/Vi_;\n",
"printf('The internal gain is %.0f\n',A);\n",
"B=(A/Af-1)/A;\n",
"printf('The percentage of output fed back to input= %.2f percent',B*100);"
   ]
   }
,
{
		   "cell_type": "markdown",
		   "metadata": {},
		   "source": [
			"## Example 10.5: Calculate_the_gain_with_and_without_feedback_and_feedback_factor.sce"
		   ]
		  },
  {
"cell_type": "code",
	   "execution_count": null,
	   "metadata": {
	    "collapsed": true
	   },
	   "outputs": [],
"source": [
"//Calculate the gain with and without feedback and feedback factor\n",
"clear;\n",
"clc;\n",
"//soltion\n",
"//given\n",
"\n",
"Vo_=5;//V         //output voltage\n",
"Vi=0.2;//V    //input with feedback\n",
"Vi_=0.05;//V   //input without feedback\n",
"A=Vo_/Vi_;\n",
"Af=Vo_/Vi;\n",
"printf('The gain without feedback is %.0f\n',A);\n",
"printf('The gain with feedback is %.0f\n',Af);\n",
"B=(A/Af-1)/A;\n",
"printf('The feedback factor= %.0f percent',B*100);"
   ]
   }
,
{
		   "cell_type": "markdown",
		   "metadata": {},
		   "source": [
			"## Example 10.6: Calculate_the_gain_of_feedback_amplifier_and_feedback_factor.sce"
		   ]
		  },
  {
"cell_type": "code",
	   "execution_count": null,
	   "metadata": {
	    "collapsed": true
	   },
	   "outputs": [],
"source": [
"//Calculate the gain of feedback amplifier and feedback factor\n",
"clear;\n",
"clc;\n",
"//soltion\n",
"//given\n",
"\n",
"A=100;      //internal gain\n",
"N=20;//dB   //negative feedback\n",
"B=(10^(-N/(-20))-1)/A;      //taking antilog\n",
"Af=A/(1+A*B);\n",
"printf('The feedback factor= %.0f percent\n',B*100);\n",
"printf('The gain of the feedback amplifier is %.0f\n',Af);"
   ]
   }
,
{
		   "cell_type": "markdown",
		   "metadata": {},
		   "source": [
			"## Example 10.7: Calculate_percentage_change_in_the_overall_gain.sce"
		   ]
		  },
  {
"cell_type": "code",
	   "execution_count": null,
	   "metadata": {
	    "collapsed": true
	   },
	   "outputs": [],
"source": [
"//Calculate percentage change in the overall gain\n",
"clear;\n",
"clc;\n",
"//soltion\n",
"//given\n",
"\n",
"A=1000;      //internal gain\n",
"N=40;//dB   //negative feedback\n",
"D=10^((-N)/-20);     //D=(1+AB)   desensitivity\n",
"dA_A=10;//percent    //dA/A\n",
"dAf_Af=dA_A/D;      //dAf/Af\n",
"printf('The percentage change in the overall gain= %.1f percent',dAf_Af);"
   ]
   }
,
{
		   "cell_type": "markdown",
		   "metadata": {},
		   "source": [
			"## Example 10.8: Calculate_percentage_change_in_the_overall_gain.sce"
		   ]
		  },
  {
"cell_type": "code",
	   "execution_count": null,
	   "metadata": {
	    "collapsed": true
	   },
	   "outputs": [],
"source": [
"//Calculate percentage change in the overall gain\n",
"clear;\n",
"clc;\n",
"//soltion\n",
"//given\n",
"\n",
"Adb=60;//dB      //internal gain in dB\n",
"B=0.005;        //feedback factor\n",
"A=10^(Adb/(20));      //taking antilog\n",
"dA_A=-12;//percent    //dA/A\n",
"D=(1+A*B);     //D=(1+AB)   desensitivity\n",
"dAf_Af=dA_A/D;      //dAf/Af\n",
"printf('The percentage change in the overall gain reduces by %.1f percent',-dAf_Af);"
   ]
   }
,
{
		   "cell_type": "markdown",
		   "metadata": {},
		   "source": [
			"## Example 10.9: Determine_the_input_resistance_of_feedback_amplifier.sce"
		   ]
		  },
  {
"cell_type": "code",
	   "execution_count": null,
	   "metadata": {
	    "collapsed": true
	   },
	   "outputs": [],
"source": [
"//Determine the input resistance of feedback amplifier\n",
"clear;\n",
"clc;\n",
"//soltion\n",
"//given\n",
"\n",
"A=250;      //internal gain\n",
"B=0.1;//feedback factor\n",
"Ri=1.1*10^3;//ohm    //input resistance\n",
"Rif=Ri*(1+A*B);\n",
"printf('The input resistance of feedback amplifier %.1f kΩ',Rif/1000);\n",
"//The ans in book is incorrect due to use of (2+A*B) instead of (1+A*B) the ans in book is 29.7 kΩ"
   ]
   }
],
"metadata": {
		  "kernelspec": {
		   "display_name": "Scilab",
		   "language": "scilab",
		   "name": "scilab"
		  },
		  "language_info": {
		   "file_extension": ".sce",
		   "help_links": [
			{
			 "text": "MetaKernel Magics",
			 "url": "https://github.com/calysto/metakernel/blob/master/metakernel/magics/README.md"
			}
		   ],
		   "mimetype": "text/x-octave",
		   "name": "scilab",
		   "version": "0.7.1"
		  }
		 },
		 "nbformat": 4,
		 "nbformat_minor": 0
}
