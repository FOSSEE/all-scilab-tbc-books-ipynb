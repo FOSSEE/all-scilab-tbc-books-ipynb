{
"cells": [
 {
		   "cell_type": "markdown",
	   "metadata": {},
	   "source": [
       "# Chapter 11: Tuned Voltage Amplifiers"
	   ]
	},
{
		   "cell_type": "markdown",
		   "metadata": {},
		   "source": [
			"## Example 11.1: EX11_1.sce"
		   ]
		  },
  {
"cell_type": "code",
	   "execution_count": null,
	   "metadata": {
	    "collapsed": true
	   },
	   "outputs": [],
"source": [
"//Calculate frequency and impedance and current and voltage across each element at resonance\n",
"clear;\n",
"clc;\n",
"//soltion\n",
"//given\n",
"\n",
"R=12;//ohm\n",
"L=200*10^-6;//H\n",
"C=300*10^-12;//F\n",
"Vs=9;//V\n",
"fo=1/(2*%pi*sqrt(L*C));\n",
"Z=R;     //impedance\n",
"printf('The Resonant frequency= %.1f kHz\n',fo/1000);\n",
"printf('The impedance Z= %.0f Ω\n',Z);\n",
"\n",
"Io=Vs/R;\n",
"printf('The Source current= %.2f A\n',Io);\n",
"\n",
"Vl=Io*(2*%pi*fo*L);\n",
"Vc=Io/(2*%pi*fo*C);\n",
"Vr=Io*R;\n",
"printf('The voltage across the inductor =%.1f V\n',Vl);\n",
"printf('The voltage across the capacitor =%.1f V\n',Vc);\n",
"printf('The voltage across the resistor =%.0f V\n',Vr);\n",
"//There is a slight variation in voltage across capacitor due to the approaximation"
   ]
   }
,
{
		   "cell_type": "markdown",
		   "metadata": {},
		   "source": [
			"## Example 11.2: EX11_2.sce"
		   ]
		  },
  {
"cell_type": "code",
	   "execution_count": null,
	   "metadata": {
	    "collapsed": true
	   },
	   "outputs": [],
"source": [
"//Calculate frequency and impedance and current at resonance and current in coil and capacitor\n",
"clear;\n",
"clc;\n",
"//soltion\n",
"//given\n",
"\n",
"R=10;//ohm\n",
"L=100*10^-6;//H\n",
"C=100*10^-12;//F\n",
"Vs=10;//V\n",
"fo=1/(2*%pi*sqrt(L*C));\n",
"Zp=L/(C*R);     //impedance\n",
"printf('The Resonant frequency= %.3f MHz\n',fo/10^6);\n",
"printf('The impedance Z= %.0f kΩ\n',Zp/1000);\n",
"\n",
"Io=Vs/Zp;\n",
"printf('The Source current= %.0f uA\n',Io*10^6);\n",
"\n",
"Xl=(2*%pi*fo*L);\n",
"Xc=1/(2*%pi*fo*C);\n",
"Z1=sqrt(Xl^2+R^2);\n",
"Z2=Xc;\n",
"Ic=Vs/Z2;\n",
"Il=Ic;\n",
"printf('The current in the coil = %.0f mA\n',Il*1000);\n",
"printf('The current in the capacitor = %.0f mA\n',Ic*1000);"
   ]
   }
,
{
		   "cell_type": "markdown",
		   "metadata": {},
		   "source": [
			"## Example 11.3: Calculate_impedance_and_quality_factor_and_bandwidth.sce"
		   ]
		  },
  {
"cell_type": "code",
	   "execution_count": null,
	   "metadata": {
	    "collapsed": true
	   },
	   "outputs": [],
"source": [
"//Calculate impedance and quality factor and bandwidth\n",
"clear;\n",
"clc;\n",
"//soltion\n",
"//given\n",
"\n",
"R=10;//ohm\n",
"L=150*10^-6;//H\n",
"C=100*10^-12;//F\n",
"fo=1/(2*%pi*sqrt(L*C));\n",
"Zp=L/(C*R);     //impedance\n",
"printf('The impedance Z= %.0f kΩ\n',Zp/1000);\n",
"\n",
"Xl=(2*%pi*fo*L);\n",
"Q=Xl/R;\n",
"BW=fo/Q;\n",
"printf('The Quality factor of the circuit =%.1f \n',Q);\n",
"printf('The Band width of the circuit =%.1f kHz\n',BW/1000);"
   ]
   }
],
"metadata": {
		  "kernelspec": {
		   "display_name": "Scilab",
		   "language": "scilab",
		   "name": "scilab"
		  },
		  "language_info": {
		   "file_extension": ".sce",
		   "help_links": [
			{
			 "text": "MetaKernel Magics",
			 "url": "https://github.com/calysto/metakernel/blob/master/metakernel/magics/README.md"
			}
		   ],
		   "mimetype": "text/x-octave",
		   "name": "scilab",
		   "version": "0.7.1"
		  }
		 },
		 "nbformat": 4,
		 "nbformat_minor": 0
}
