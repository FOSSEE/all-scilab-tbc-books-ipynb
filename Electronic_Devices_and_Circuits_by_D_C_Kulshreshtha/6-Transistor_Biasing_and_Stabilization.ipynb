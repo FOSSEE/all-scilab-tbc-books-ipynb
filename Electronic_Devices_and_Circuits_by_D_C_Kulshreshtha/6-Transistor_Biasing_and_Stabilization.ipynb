{
"cells": [
 {
		   "cell_type": "markdown",
	   "metadata": {},
	   "source": [
       "# Chapter 6: Transistor Biasing and Stabilization"
	   ]
	},
{
		   "cell_type": "markdown",
		   "metadata": {},
		   "source": [
			"## Example 6.10: Determine_the_collector_current_at_two_different_B.sce"
		   ]
		  },
  {
"cell_type": "code",
	   "execution_count": null,
	   "metadata": {
	    "collapsed": true
	   },
	   "outputs": [],
"source": [
"//Determine the collector current at two different B\n",
"clear;\n",
"clc;\n",
"//soltion\n",
"//given\n",
"\n",
"//At B=50\n",
"\n",
"B=50;            //dc beta\n",
"Rc=2;//ohm      //resistor connected to collector\n",
"Re=1000;//ohm      //resistor connected to emitter\n",
"Rb=300*10^3;//ohm      //resistor connected to base\n",
"Vcc=9;//V            //Voltage supply across the collector resistor\n",
"Ib=Vcc/(Rb+B*Re);         //Base current\n",
"Ic=B*Ib;         //Colletor current\n",
"printf('the collector current at (B=50)= %.3f mA\n',Ic*1000);\n",
"\n",
"//At B=150\n",
"\n",
"B1=150;            //dc beta\n",
"Ib1=Vcc/(Rb+B1*Re);         //Base current\n",
"Ic1=B1*Ib1;         //Colletor current\n",
"printf('the collector current at (B=150)= %.0f mA\n',Ic1*1000);\n",
"printf('The factor at which collector current increases %.2f',Ic1/Ic);\n",
"\n",
"//IN BOOK Ic(AT B=50)= 1.25 mA and Ic1/Ic=2.4 DUE TO APPROAXIMATION"
   ]
   }
,
{
		   "cell_type": "markdown",
		   "metadata": {},
		   "source": [
			"## Example 6.11: Calculate_Q_point_in_voltage_divider.sce"
		   ]
		  },
  {
"cell_type": "code",
	   "execution_count": null,
	   "metadata": {
	    "collapsed": true
	   },
	   "outputs": [],
"source": [
"//Calculate Q point in voltage divider\n",
"clear;\n",
"clc;\n",
"//soltion\n",
"//given\n",
"B=100;            //dc beta\n",
"Rc=2*10^3;//ohm      //resistor connected to collector\n",
"R1=10*10^3;//ohm      //voltage divider resistor 1\n",
"R2=1*10^3;//ohm      //voltage divider resistor 2\n",
"Re=200;//ohm      //resistor connected to emitter\n",
"Vcc=10;//V            //Voltage supply across the collector resistor\n",
"Vbe=0.3;//V          //base to emitter voltage\n",
"\n",
"I=Vcc/(R1+R2);       //current through voltage divider\n",
"Vb=I*R2;        //voltage at base\n",
"Ve=Vb-Vbe;\n",
"Ie=Ve/Re;\n",
"Ic=Ie        //approaximating Ib is nearly equal to 0\n",
"Vc=Vcc-Ic*Rc;\n",
"Vce=ceil(Vc)-Ve; \n",
"printf('The Q point is (%.1f V, %.0f mA)',Vce,Ic*1000);\n",
"\n",
"Ibc=I/20;     //critical value of base current\n",
"Ib=Ic/B;      //actual base current\n",
"\n",
"//Since Ib < Ibc, hence assumption is alright"
   ]
   }
,
{
		   "cell_type": "markdown",
		   "metadata": {},
		   "source": [
			"## Example 6.12: Solve_the_voltage_divider_accurately_by_applying_thevenins_theorem.sce"
		   ]
		  },
  {
"cell_type": "code",
	   "execution_count": null,
	   "metadata": {
	    "collapsed": true
	   },
	   "outputs": [],
"source": [
"\n",
"//Solve the voltage divider accurately by applying thevenin's theorem\n",
"clear;\n",
"clc;\n",
"//soltion\n",
"//given\n",
"B=100;            //dc beta\n",
"Rc=2*10^3;//ohm      //resistor connected to collector\n",
"R1=10*10^3;//ohm      //voltage divider resistor 1\n",
"R2=1*10^3;//ohm      //voltage divider resistor 2\n",
"Re=200;//ohm      //resistor connected to emitter\n",
"Vcc=10;//V            //Voltage supply across the collector resistor\n",
"Vbe=0.3;//V          //base to emitter voltage\n",
"\n",
"Vth=Vcc*R2/(R1+R2);\n",
"Rth=R1*R2/(R1+R2);\n",
"\n",
"printf('\nThevenin equivalent voltage Vth = %.5f V',Vth);\n",
"printf('\nThevenin equivalent resistance Rth = %.2f ohm',Rth);\n",
"\n",
"Ib=(Vth-Vbe)/(Rth+(1+B)*Re);\n",
"Ic=B*Ib;\n",
"Ie=Ic+Ib;\n",
"Vce=Vcc-Ic*Rc-Ie*Re; \n",
"printf('\nThe accurate value of Ic = %.5f mA',Ic*10^3);\n",
"printf('\nThe accurate value of Vce = %.6f V',Vce);\n",
"Icp=3*10^-3; // Current calculated by voltage divider in previous example\n",
"Vcep=3.4; // Voltage calculated by voltage divider in previous example\n",
"Err_Ic=(Ic-Icp)*100/Ic;\n",
"Err_Vce=(Vce-Vcep)*100/Vce;\n",
"printf('\nError in Ic= %.1f percent\n',Err_Ic);\n",
"printf('Error in Vce= %.0f percent',Err_Vce);\n",
"\n",
"// The errors and The accurate values are different \n",
"// because of the approaximation in Vth and Rth in book\n",
"\n",
"// In Book Ic = 2.8436 mA and Vce = 3.73839 V\n",
"// Error in Ic = -5.5% \n",
"// Error in Vce = +9% \n",
""
   ]
   }
,
{
		   "cell_type": "markdown",
		   "metadata": {},
		   "source": [
			"## Example 6.13: determine_the_Q_point_for_the_emitter_bias_circuit.sce"
		   ]
		  },
  {
"cell_type": "code",
	   "execution_count": null,
	   "metadata": {
	    "collapsed": true
	   },
	   "outputs": [],
"source": [
"//determine the Q point for the emitter bias circuit\n",
"clear;\n",
"clc;\n",
"//soltion\n",
"//given\n",
"B=100;               //dc beta\n",
"Rc=5*10^3;//ohm      //resistor connected to collector\n",
"Rb=10*10^3;//ohm      //resistor connected to base\n",
"Re=10*10^3;//ohm      //resistor connected to emitter\n",
"Vcc=12;//V            //Voltage supply across the collector resistor\n",
"Vee=15;//V          //supply at emitter\n",
"Ie=Vee/Re;\n",
"Ic=Ie;\n",
"Vce=Vcc-Ic*Rc;\n",
"printf('The Q point is (%.1f V, %.1f mA)',Vce,Ic*1000);"
   ]
   }
,
{
		   "cell_type": "markdown",
		   "metadata": {},
		   "source": [
			"## Example 6.14: Calculate_Vgs_and_Rs.sce"
		   ]
		  },
  {
"cell_type": "code",
	   "execution_count": null,
	   "metadata": {
	    "collapsed": true
	   },
	   "outputs": [],
"source": [
"//Calculate Vgs and Rs\n",
"clear;\n",
"clc;\n",
"//soltion\n",
"//given\n",
"\n",
"Vp=2;//V\n",
"Idss=1.75*10^-3;//A      //drain current at Vgs=0\n",
"Vdd=24;//V             //drain to supply source\n",
"Id=1*10^-3;//A       //drain current\n",
"Vgs=(-Vp)*(1-sqrt(Id/Idss));\n",
"Rs=abs(Vgs)/Id;\n",
"printf('Vgs = %.3f V\n',Vgs);\n",
"printf('Rs = %.0f Ω',Rs);\n",
" "
   ]
   }
,
{
		   "cell_type": "markdown",
		   "metadata": {},
		   "source": [
			"## Example 6.1: Determine_the_Q_point.sce"
		   ]
		  },
  {
"cell_type": "code",
	   "execution_count": null,
	   "metadata": {
	    "collapsed": true
	   },
	   "outputs": [],
"source": [
"//Determine the Q point\n",
"clear;\n",
"clc;\n",
"//soltion\n",
"//given\n",
"B=50;            //dc beta\n",
"Rc=2.2*10^3;//ohm      //resistor connected to collector\n",
"Rb=270*10^3;//ohm      //resistor connected to base\n",
"Vcc=9;//V            //Voltage supply across the collector resistor\n",
"Vbe=0.7;//V          //base to emitter voltage\n",
"Ib=(Vcc-Vbe)/Rb;         //Base current\n",
"Ic=B*Ib;         //Colletor current\n",
"Ics=Vcc/Rc;       //Colletor saturation current\n",
"\n",
"//Actual Ic is the smaller of the above two values\n",
"\n",
"Vce=Vcc-Ic*Rc;\n",
"printf('The Q point is (%.2f V, %.1f mA)',Vce,Ic*1000);\n",
"//In book Vce = 5.7 V because of approaximation"
   ]
   }
,
{
		   "cell_type": "markdown",
		   "metadata": {},
		   "source": [
			"## Example 6.2: Determine_the_Q_point.sce"
		   ]
		  },
  {
"cell_type": "code",
	   "execution_count": null,
	   "metadata": {
	    "collapsed": true
	   },
	   "outputs": [],
"source": [
"//Determine the Q point\n",
"clear;\n",
"clc;\n",
"//soltion\n",
"//given\n",
"B=150;            //dc beta\n",
"Rc=1*10^3;//ohm      //resistor connected to collector\n",
"Rb=100*10^3;//ohm      //resistor connected to base\n",
"Vcc=10;//V            //Voltage supply across the collector resistor\n",
"Vbe=0.7;//V          //base to emitter voltage\n",
"Ib=(Vcc-Vbe)/Rb;         //Base current\n",
"Ic=B*Ib;         //Colletor current\n",
"Ics=Vcc/Rc;       //Colletor saturation current\n",
"\n",
"//Actual Ic is the smaller of the above two values i.e. Ic(sat) and since the transistor is in saturation mode therefore Vce will become 0\n",
"\n",
"Vce=0;\n",
"printf('The Q point is (%d V, %.0f mA)',Vce,Ics*1000);"
   ]
   }
,
{
		   "cell_type": "markdown",
		   "metadata": {},
		   "source": [
			"## Example 6.3: Determine_Rb_and_percentage_change_in_collector_current_due_to_temperature_rise.sce"
		   ]
		  },
  {
"cell_type": "code",
	   "execution_count": null,
	   "metadata": {
	    "collapsed": true
	   },
	   "outputs": [],
"source": [
"//Determine Rb and percentage change in collector current due to temperature rise\n",
"clear;\n",
"clc;\n",
"//soltion\n",
"//given\n",
"\n",
"//Calculating the base resistance\n",
"B=20;            //dc beta\n",
"Rc=1*10^3;//ohm      //resistor connected to collector\n",
"Ic=1*10^-3;//A       //collector current\n",
"Vcc=6;//V            //Voltage supply across the collector resistor\n",
"Vbe=0.3;//V       //for germanium\n",
"Icbo=2*10^-6;//A       //collector  to base leakage current\n",
"\n",
"Ib=(Ic-(1+B)*Icbo)/B;\n",
"Rb=(Vcc-Vbe)/Ib;\n",
"\n",
"printf('The value of resistor Ib is %.4f kΩ = 120 kΩ \n',Rb/1000);\n",
"\n",
"Rb=120*10^3;//ohm        approax\n",
"\n",
"//Now when temperature rise\n",
"Icbo=10*10^-6;//A       //collector  to base leakage current\n",
"B=25;            //dc beta\n",
"Ic1=B*Ib+(B+1)*Icbo;          //changed collector current\n",
"perc=(Ic1-Ic)*100/Ic;        //percentage increase\n",
"printf('The percentage change in collector current is %.0f percent',perc);"
   ]
   }
,
{
		   "cell_type": "markdown",
		   "metadata": {},
		   "source": [
			"## Example 6.4: Determine_the_Q_point_at_two_different_B.sce"
		   ]
		  },
  {
"cell_type": "code",
	   "execution_count": null,
	   "metadata": {
	    "collapsed": true
	   },
	   "outputs": [],
"source": [
"//Determine the Q point at two different B\n",
"clear;\n",
"clc;\n",
"//soltion\n",
"//given\n",
"\n",
"//At B=50\n",
"\n",
"B=50;            //dc beta\n",
"Rc=2*10^3;//ohm      //resistor connected to collector\n",
"Rb=300*10^3;//ohm      //resistor connected to base\n",
"Vcc=9;//V            //Voltage supply across the collector resistor\n",
"Ib=Vcc/Rb;         //Base current\n",
"Ic=B*Ib;         //Colletor current\n",
"Ics=Vcc/Rc;       //Colletor saturation current\n",
"\n",
"//Actual Ic is the smaller of the above two values\n",
"\n",
"Vce=Vcc-Ic*Rc;\n",
"printf('The Q point (At B=50) is (%.0f V, %.1f mA)\n',Vce,Ic*1000);\n",
"\n",
"//At B=150\n",
"\n",
"B1=150;            //dc beta\n",
"Ic1=B*Ib;         //Colletor current\n",
"Ics1=Vcc/Rc;       //Colletor saturation current\n",
"\n",
"//Actual Ic is the smaller of the above two values i.e. Ic(sat) and since the transistor is in saturation mode therefore Vce will become 0\n",
"\n",
"Vce=0;\n",
"printf('The Q point (At B=150) is (%d V, %.1f mA)\n',Vce,Ics*1000);\n",
"\n",
"printf('The factor at which collector current increases %.0f',Ics1/Ic);"
   ]
   }
,
{
		   "cell_type": "markdown",
		   "metadata": {},
		   "source": [
			"## Example 6.5: determine_Q_point_in_collector_to_base_bias_circuit.sce"
		   ]
		  },
  {
"cell_type": "code",
	   "execution_count": null,
	   "metadata": {
	    "collapsed": true
	   },
	   "outputs": [],
"source": [
"//determine Q point in collector to base bias circuit\n",
"clear;\n",
"clc;\n",
"//soltion\n",
"//given\n",
"B=100;            //dc beta\n",
"Rc=500;//ohm      //resistor connected to collector\n",
"Rb=500*10^3;//ohm      //resistor connected to base\n",
"Vcc=10;//V            //Voltage supply across the collector resistor\n",
"Ib=Vcc/(Rb+B*Rc);         //Base current\n",
"Ic=B*Ib;         //Colletor current\n",
"Ics=Vcc/Rc;       //Colletor saturation current\n",
"\n",
"//Actual Ic is the smaller of the above two values\n",
"\n",
"Vce=Vcc-(Ic+Ib)*Rc;\n",
"printf('The Q point is (%.1f V, %.1f mA)',Vce,Ic*1000);"
   ]
   }
,
{
		   "cell_type": "markdown",
		   "metadata": {},
		   "source": [
			"## Example 6.6: EX6_6.sce"
		   ]
		  },
  {
"cell_type": "code",
	   "execution_count": null,
	   "metadata": {
	    "collapsed": true
	   },
	   "outputs": [],
"source": [
"//Calculate the collector current and change in it if B is changed by three times of previous B\n",
"clear;\n",
"clc;\n",
"//soltion\n",
"//given\n",
"B=50;            //dc beta\n",
"Rc=2*10^3;//ohm      //resistor connected to collector\n",
"Rb=300*10^3;//ohm      //resistor connected to base\n",
"Vcc=9;//V            //Voltage supply across the collector as it is PNP so taking positive\n",
"Ib=Vcc/(Rb+B*Rc);         //Base current\n",
"Ic=B*Ib;         //Colletor current\n",
"printf('Collector current (B=50)= %.3f mA\n',Ic*1000);\n",
"//Now B=150\n",
"B=3*B;      //three times of previous B\n",
"Ib1=Vcc/(Rb+B*Rc);         //Base current\n",
"Ic1=B*Ib1;         //Colletor current\n",
"printf('Collector current (B=150)= %.2f mA\n',Ic1*1000);\n",
"printf('The factor at which collector current increases %.0f',Ic1/Ic);"
   ]
   }
,
{
		   "cell_type": "markdown",
		   "metadata": {},
		   "source": [
			"## Example 6.7: Calculate_the_value_of_all_three_current_Ie_and_Ic_and_Ib.sce"
		   ]
		  },
  {
"cell_type": "code",
	   "execution_count": null,
	   "metadata": {
	    "collapsed": true
	   },
	   "outputs": [],
"source": [
"//Calculate the value of all three current Ie and Ic and Ib\n",
"clear;\n",
"clc;\n",
"//soltion\n",
"//given\n",
"B=90;            //dc beta\n",
"Rc=1*10^3;//ohm      //resistor connected to collector\n",
"Rb=500*10^3;//ohm      //resistor connected to base\n",
"Re=500;//ohm      //resistor connected to emitter\n",
"Vcc=9;//V            //Voltage supply across the collector resistor\n",
"Ib=Vcc/(Rb+B*Re);         //Base current\n",
"Ic=B*Ib;         //Colletor current\n",
"Ie=Ic+Ib;        //Emitter current\n",
"printf('Base current = %.1f uA \nCollector current = %.3f mA \nEmitter current = %.4f mA',Ib*10^6,Ic*10^3,Ie*10^3);\n",
" "
   ]
   }
,
{
		   "cell_type": "markdown",
		   "metadata": {},
		   "source": [
			"## Example 6.8: Calculate_max_and_min_value_of_emitter_current.sce"
		   ]
		  },
  {
"cell_type": "code",
	   "execution_count": null,
	   "metadata": {
	    "collapsed": true
	   },
	   "outputs": [],
"source": [
"//Calculate max and min value of emitter current\n",
"clear;\n",
"clc;\n",
"//soltion\n",
"//given\n",
"\n",
"//At B=50\n",
"\n",
"B=50;            //dc beta\n",
"Rc=75;//ohm      //resistor connected to collector\n",
"Re=100;//ohm      //resistor connected to emitter\n",
"Rb=10*10^3;//ohm      //resistor connected to base\n",
"Vcc=6;//V            //Voltage supply across the collector resistor\n",
"Vbe=0.3;//V       //for germanium\n",
"Ib=(Vcc-Vbe)/(Rb+(1+B)*Re);         //Base current\n",
"Ie=(1+B)*Ib;\n",
"Vce=Vcc-(Rc+Re)*Ie\n",
"printf('Minimum emitter current %.2f mA\n',Ie*10^3);\n",
"printf('The collector to emitter volatge is %.2f V\n',Vce);\n",
"\n",
"//At B=300 \n",
"\n",
"B1=300;            //dc beta\n",
"Ib1=(Vcc-Vbe)/(Rb+(1+B1)*Re);         //Base current\n",
"Ie1=(1+B1)*Ib1;\n",
"Vce1=Vcc-(Rc+Re)*Ie1\n",
"//Here Vce1= -1.4874 V but can never have negative voltage because Ie1 is wrong as it can't be more than saturation value therefore\n",
"Ie1=Vcc/(Rc+Re);\n",
"\n",
"//And Vce=0 V\n",
"\n",
"Vce1=0;//V\n",
"printf('Maximum emitter current %.2f mA\n',Ie1*10^3);\n",
"printf('The collector to emitter volatge(saturation) is %.0f V\n',Vce1);\n",
""
   ]
   }
,
{
		   "cell_type": "markdown",
		   "metadata": {},
		   "source": [
			"## Example 6.9: Determine_the_value_of_base_resistance.sce"
		   ]
		  },
  {
"cell_type": "code",
	   "execution_count": null,
	   "metadata": {
	    "collapsed": true
	   },
	   "outputs": [],
"source": [
"//Determine the value of base resistance\n",
"clear;\n",
"clc;\n",
"//soltion\n",
"//given\n",
"\n",
"B=100;            //dc beta\n",
"Rc=200;//ohm      //resistor connected to collector\n",
"Re=500;//ohm      //resistor connected to emitter\n",
"Vcc=9;//V         //Voltage supply across the collector as it is PNP so taking positive\n",
"Vce=4.5;//V       //Collector to emitter voltage\n",
"Ic=(Vcc-Vce)/(Rc+Re);\n",
"Ib=Ic/B;\n",
"Rb=(Vcc-B*Re*Ib)/Ib;\n",
"printf('The value of base resistance is %.0f kΩ',Rb/1000);\n",
" "
   ]
   }
],
"metadata": {
		  "kernelspec": {
		   "display_name": "Scilab",
		   "language": "scilab",
		   "name": "scilab"
		  },
		  "language_info": {
		   "file_extension": ".sce",
		   "help_links": [
			{
			 "text": "MetaKernel Magics",
			 "url": "https://github.com/calysto/metakernel/blob/master/metakernel/magics/README.md"
			}
		   ],
		   "mimetype": "text/x-octave",
		   "name": "scilab",
		   "version": "0.7.1"
		  }
		 },
		 "nbformat": 4,
		 "nbformat_minor": 0
}
