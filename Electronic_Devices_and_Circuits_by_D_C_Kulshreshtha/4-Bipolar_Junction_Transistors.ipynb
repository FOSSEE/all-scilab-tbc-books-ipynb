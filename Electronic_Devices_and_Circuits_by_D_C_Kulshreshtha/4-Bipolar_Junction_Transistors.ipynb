{
"cells": [
 {
		   "cell_type": "markdown",
	   "metadata": {},
	   "source": [
       "# Chapter 4: Bipolar Junction Transistors"
	   ]
	},
{
		   "cell_type": "markdown",
		   "metadata": {},
		   "source": [
			"## Example 4.10: calculate_ac_current_gain_in_CE_and_CC_configuration.sce"
		   ]
		  },
  {
"cell_type": "code",
	   "execution_count": null,
	   "metadata": {
	    "collapsed": true
	   },
	   "outputs": [],
"source": [
"//calculate ac current gain in CE and CC configuration\n",
"clear;\n",
"clc;\n",
"//soltion\n",
"//given\n",
"a=0.99;\n",
"B=a/(1-a);\n",
"printf('The ac current gain in CE configuration is %.0f\n',B);\n",
"y=1+B;\n",
"printf('The ac current gain in CC configuration is %.0f',y);"
   ]
   }
,
{
		   "cell_type": "markdown",
		   "metadata": {},
		   "source": [
			"## Example 4.1: determine_the_collector_and_base_current.sce"
		   ]
		  },
  {
"cell_type": "code",
	   "execution_count": null,
	   "metadata": {
	    "collapsed": true
	   },
	   "outputs": [],
"source": [
"//determine the collector and base current\n",
"clear;\n",
"clc;\n",
"//soltion\n",
"//given\n",
"a=0.98;//dc alpha\n",
"Ie=5*10^-3;//A//emitter current\n",
"Ico=2*10^-6;//A//collector reverse leakage current\n",
"Ic=a*Ie+Ico;\n",
"Ib=Ie-Ic;\n",
"printf('The collector current is %.3f mA\n',Ic*1000);\n",
"printf('The base current is %.0f uA',Ib*10^6);"
   ]
   }
,
{
		   "cell_type": "markdown",
		   "metadata": {},
		   "source": [
			"## Example 4.2: determine_the_base_and_collector_current_and_exact_and_approax_dc_alpha.sce"
		   ]
		  },
  {
"cell_type": "code",
	   "execution_count": null,
	   "metadata": {
	    "collapsed": true
	   },
	   "outputs": [],
"source": [
"//determine the base and collector current and exact and approax dc alpha \n",
"clear;\n",
"clc;\n",
"//soltion\n",
"//given\n",
"Ie=8.4*10^-3//A//emitter current\n",
"Icbo=0.1*10^-6;//A//reverse leakage current\n",
"Ib=0.008*Ie;//A//base current\n",
"Ic=Ie-Ib;\n",
"Icinj=Ic-Icbo;\n",
"a0=Icinj/Ie;\n",
"a=Ic/Ie;\n",
"printf('Base current is %.1f uA\n',Ib*10^6);\n",
"printf('Collector current %.4f mA\n',Ic*1000);\n",
"printf('Exact value of alphha = %.7f\n',a0);\n",
"printf('Approax value of alpha = %.3f',a);"
   ]
   }
,
{
		   "cell_type": "markdown",
		   "metadata": {},
		   "source": [
			"## Example 4.3: Determine_the_base_current.sce"
		   ]
		  },
  {
"cell_type": "code",
	   "execution_count": null,
	   "metadata": {
	    "collapsed": true
	   },
	   "outputs": [],
"source": [
"//Determine the base current\n",
"clear;\n",
"clc;\n",
"//soltion\n",
"//given\n",
"a=0.96;            //dc alpha\n",
"Rc=2*10^3;//ohm      //resistor across collector\n",
"Vc=4;//V            //Voltage drop across the collector resistor\n",
"Ic=Vc/Rc;         //Colletor current\n",
"Ie=Ic/a;          //Emmiter current\n",
"Ib=Ie-Ic;         //Base current\n",
"printf('The base current is %.0f uA',Ib*10^6)"
   ]
   }
,
{
		   "cell_type": "markdown",
		   "metadata": {},
		   "source": [
			"## Example 4.4: determine_dynamic_input_resistance.sce"
		   ]
		  },
  {
"cell_type": "code",
	   "execution_count": null,
	   "metadata": {
	    "collapsed": true
	   },
	   "outputs": [],
"source": [
"//determine dynamic input resistance\n",
"clear;\n",
"clc;\n",
"//soltion\n",
"//given\n",
"Ie=2;//mA\n",
"Vcb=10;//V\n",
"\n",
"//Taking points around Ie & Vcb from graph\n",
"del_Ie=(2.5-1.5)*10^-3;//A\n",
"\n",
"//corresponding change in Veb\n",
"del_Veb=(0.9-0.8);//V\n",
"rib=del_Veb/del_Ie;\n",
"printf('The dynamic input resistance of transistor is %.0f Ω',rib);"
   ]
   }
,
{
		   "cell_type": "markdown",
		   "metadata": {},
		   "source": [
			"## Example 4.5: find_dc_current_gain_in_common_emitter_configuration.sce"
		   ]
		  },
  {
"cell_type": "code",
	   "execution_count": null,
	   "metadata": {
	    "collapsed": true
	   },
	   "outputs": [],
"source": [
"//find dc current gain in common emitter configuration\n",
"clear;\n",
"clc;\n",
"//soltion\n",
"//given\n",
"a=0.98;//dc current gain in common base configuration\n",
"B=a/(1-a);\n",
"printf('The dc current gain in common emitter configuration is %.0f',B);"
   ]
   }
,
{
		   "cell_type": "markdown",
		   "metadata": {},
		   "source": [
			"## Example 4.6: calculate_ac_alpha_and_beta.sce"
		   ]
		  },
  {
"cell_type": "code",
	   "execution_count": null,
	   "metadata": {
	    "collapsed": true
	   },
	   "outputs": [],
"source": [
"//calculate ac alpha and beta\n",
"clear;\n",
"clc;\n",
"//soltion\n",
"//given\n",
"ic=0.995//mA//Emitter current change\n",
"ie=1//mA//collector current change\n",
"a=ic/ie;\n",
"B=a/(1-a);\n",
"printf('The ac alpha is %.3f\n',a)\n",
"printf('The common emitter ac current gain is %.0f',B);"
   ]
   }
,
{
		   "cell_type": "markdown",
		   "metadata": {},
		   "source": [
			"## Example 4.7: Calculate_beta_and_Iceo_and_exact_and_approax_collector_current.sce"
		   ]
		  },
  {
"cell_type": "code",
	   "execution_count": null,
	   "metadata": {
	    "collapsed": true
	   },
	   "outputs": [],
"source": [
"//Calculate beta and Iceo and exact and approax collector current\n",
"clear;\n",
"clc;\n",
"//soltion\n",
"//given\n",
"a0=0.992;//dc current gain in common base configuration\n",
"Icbo=48*10^-9;//A\n",
"Ib=30*10^-6;//A//base current\n",
"B=a0/(1-a0);\n",
"Iceo=Icbo/(1-a0);\n",
"printf('Beta= %.0f\n',B);\n",
"printf('Iceo= %0.f uA\n',Iceo*10^6);\n",
"Ic=B*Ib+Iceo;\n",
"Ica=B*Ib;//approax\n",
"printf('Exact collector current %.3f mA\n',Ic*1000);\n",
"printf('Approax collector current %.2f mA',Ica*1000);"
   ]
   }
,
{
		   "cell_type": "markdown",
		   "metadata": {},
		   "source": [
			"## Example 4.8: determine_dynamic_input_resistance.sce"
		   ]
		  },
  {
"cell_type": "code",
	   "execution_count": null,
	   "metadata": {
	    "collapsed": true
	   },
	   "outputs": [],
"source": [
"//determine dynamic input resistance\n",
"clear;\n",
"clc;\n",
"//soltion\n",
"//given\n",
"Vbe=0.75;//V\n",
"Vce=2;//V\n",
"\n",
"//Taking points around Vbe=0.75V from graph\n",
"del_Vbe=(0.98-0.9);//V\n",
"\n",
"//corresponding change in ib\n",
"del_ib=(68-48)*10^-6;//A\n",
"\n",
"rie=del_Vbe/del_ib;\n",
"printf('The dynamic input resistance of transistor is %.0f kΩ',rie/1000);"
   ]
   }
,
{
		   "cell_type": "markdown",
		   "metadata": {},
		   "source": [
			"## Example 4.9: determine_dynamic_input_resistance_and_dc_and_ac_current_gain.sce"
		   ]
		  },
  {
"cell_type": "code",
	   "execution_count": null,
	   "metadata": {
	    "collapsed": true
	   },
	   "outputs": [],
"source": [
"//determine dynamic input resistance and dc and ac current gain\n",
"clear;\n",
"clc;\n",
"//soltion\n",
"//given\n",
"Ib=30*10^-6;//A\n",
"Vce=10;//V\n",
"Ic=3.6*10^-3;//A        //from graph\n",
"\n",
"//Taking points around Vce = 10V from graph\n",
"del_Vce=(12.5-7.5);//V\n",
"\n",
"//corresponding change in ic\n",
"del_ic=(3.7-3.5)*10^-3;//A\n",
"\n",
"roe=del_Vce/del_ic;\n",
"printf('The dynamic output resistance of transistor is %.0f kΩ\n',roe/1000);\n",
"\n",
"//dc current gain\n",
"Bo=Ic/Ib;\n",
"printf('The dc current gain is %.0f\n',Bo);\n",
"\n",
"//ac current gain\n",
"\n",
"del_ic=(4.7-2.5)*10^-3;    //the collector current change is from 3.5mA to 4.7mA as we can see from graph when we change ib from 40mA to 20mA\n",
"del_ib=(40-20)*10^-6;\n",
"B=del_ic/del_ib;\n",
"printf('The ac current gain is %.0f\n',B);"
   ]
   }
],
"metadata": {
		  "kernelspec": {
		   "display_name": "Scilab",
		   "language": "scilab",
		   "name": "scilab"
		  },
		  "language_info": {
		   "file_extension": ".sce",
		   "help_links": [
			{
			 "text": "MetaKernel Magics",
			 "url": "https://github.com/calysto/metakernel/blob/master/metakernel/magics/README.md"
			}
		   ],
		   "mimetype": "text/x-octave",
		   "name": "scilab",
		   "version": "0.7.1"
		  }
		 },
		 "nbformat": 4,
		 "nbformat_minor": 0
}
