{
"cells": [
 {
		   "cell_type": "markdown",
	   "metadata": {},
	   "source": [
       "# Chapter 3: Semiconductor Diode"
	   ]
	},
{
		   "cell_type": "markdown",
		   "metadata": {},
		   "source": [
			"## Example 3.10: find_dc_power_supplied_to_load_and_efficiency_and_PIV_rating_of_the_diode.sce"
		   ]
		  },
  {
"cell_type": "code",
	   "execution_count": null,
	   "metadata": {
	    "collapsed": true
	   },
	   "outputs": [],
"source": [
"//find dc power supplied to load and efficiency and PIV rating of the diode\n",
"clear;\n",
"clc;\n",
"//soltion\n",
"//given\n",
"rf=2;//Ω//Dynamic forward resistance\n",
"Rs=5;//Ω//resistaqnce of secondary\n",
"Rl=25;//Ω//Load resistance\n",
"Idc=0.1;//A//dc current to a load\n",
"Pdc=Idc^2*Rl;      //dc power\n",
"n=(81.2*Rl)/(Rl+rf+Rs);        //efficiency\n",
"Im=(%pi*Idc)/2;              //peak value current\n",
"Vm=Im*(Rl+rf+Rs);              //peak voltage\n",
"Vlm=Vm-Im*(rf+Rs);              //peak voltage across load\n",
"PIV=Vm+Vlm;\n",
"printf('The dc power supplied to the load is %.2f W\n',Pdc);\n",
"printf('Efficiency = %.2f percent\n',n);\n",
"printf('The peak inverse voltage is %.2f V',PIV);"
   ]
   }
,
{
		   "cell_type": "markdown",
		   "metadata": {},
		   "source": [
			"## Example 3.11: EX3_11.sce"
		   ]
		  },
  {
"cell_type": "code",
	   "execution_count": null,
	   "metadata": {
	    "collapsed": true
	   },
	   "outputs": [],
"source": [
"//Calculate output voltage and current through load and voltage across series resistor and current and power dissipated in zener diode\n",
"clear;\n",
"clc;\n",
"//soltion\n",
"//given\n",
"Vi=110;//V       //input voltage\n",
"Rl=6*10^3;// ohm    //load resistance\n",
"Rs=2*10^3;//ohm       //series resistance\n",
"Vz=60;//V        //Zener voltage\n",
"V=Vi*Rl/(Rs+Rl);\n",
"\n",
"//This V>Vz therefore Zener diode is ON\n",
"\n",
"Vo=Vz;          //output voltage\n",
"Il=Vo/Rl;       //Current through load resistance\n",
"Vs=Vi-Vo;       //Voltage drop across the series resistor\n",
"Is=Vs/Rs         //current through the series resistor\n",
"Iz=Is-Il        ///By applying kirchhoff's law\n",
"Pz=Vz*Iz        //Power dissipated accross zener diode\n",
"\n",
"printf('The output voltage is %.0f V\n',Vo);\n",
"printf('The current through load resistance is %.0f mA\n',Il*1000);\n",
"printf('Voltage across series resistor is %.0f V\n',Vs)\n",
"printf('Current in zener diode is %.0f mA\n',Iz*1000)\n",
"printf('Power dissipated by zener diode %.0f mW',Pz*1000);"
   ]
   }
,
{
		   "cell_type": "markdown",
		   "metadata": {},
		   "source": [
			"## Example 3.12: Calculate_max_and_min_values_of_zener_diode_current.sce"
		   ]
		  },
  {
"cell_type": "code",
	   "execution_count": null,
	   "metadata": {
	    "collapsed": true
	   },
	   "outputs": [],
"source": [
"\n",
"//Calculate max and min values of zener diode current\n",
"clear;\n",
"clc;\n",
"//soltion\n",
"//given\n",
"Vimin=80;//V       //minimum input voltage\n",
"Vimax=120;//V       //maximum input voltage\n",
"Rl=10*10^3;// ohm    //load resistance\n",
"Rs=5*10^3;//ohm       //series resistance\n",
"Vz=50;//V        //Zener voltage\n",
"V=Vimin*Rl/(Rs+Rl);\n",
"\n",
"//This V>Vz therefore Zener diode is ON\n",
"\n",
"//For minimum value of zener diode\n",
"\n",
"Vo=Vz;          //output voltage\n",
"Vs=Vimin-Vo;       //Voltage drop across the series resistor\n",
"Is=Vs/Rs         //current through the series resistor\n",
"Il=Vo/Rl;       //Current through load resistance\n",
"Izmin=Is-Il;\n",
"printf('\nMinimum values of zener diode current is %.0f mA\n',Izmin*1000);\n",
"\n",
"//For maximum value of zener diode\n",
"\n",
"Vo=Vz;          //output voltage\n",
"Vs=Vimax-Vo;       //Voltage drop across the series resistor\n",
"Is=Vs/Rs         //current through the series resistor\n",
"Il=Vo/Rl;       //Current through load resistance\n",
"Izmax=Is-Il;\n",
"printf('Maximum values of zener diode current is %.0f mA',Izmax*1000);"
   ]
   }
,
{
		   "cell_type": "markdown",
		   "metadata": {},
		   "source": [
			"## Example 3.13: determine_value_of_the_series_resistor_and_wattage_rating.sce"
		   ]
		  },
  {
"cell_type": "code",
	   "execution_count": null,
	   "metadata": {
	    "collapsed": true
	   },
	   "outputs": [],
"source": [
"//determine value of the series resistor and wattage rating\n",
"clear;\n",
"clc;\n",
"//soltion\n",
"//given\n",
"Vi=12;//V       //input voltage\n",
"Vz=7.2;//V        //Zener voltage\n",
"Izmin=10*10^-3;//A             //min current through zener diode\n",
"Ilmax=100*10^-3;//A            //max current through load\n",
"Ilmin=12*10^-3;//A            //min current through load\n",
"\n",
"Vs=Vi-Vz;       //Voltage drop across the series resistor\n",
"Is=Izmin+Ilmax;     //Current through the series resistor\n",
"Rs=Vs/Is;\n",
"printf('The series resistor so that 10mA current flow through zener diode is %.1f Ω\n',Rs);\n",
"\n",
"Izmax=Is-Ilmin;      //max zener through zener diode\n",
"Pmax=Izmax*Vz;\n",
"printf('The maximum wattage rating is %.1f mW',Pmax*1000);"
   ]
   }
,
{
		   "cell_type": "markdown",
		   "metadata": {},
		   "source": [
			"## Example 3.14: Find_the_capacitance_of_a_varactor_diode.sce"
		   ]
		  },
  {
"cell_type": "code",
	   "execution_count": null,
	   "metadata": {
	    "collapsed": true
	   },
	   "outputs": [],
"source": [
"//Find the capacitance of a varactor diode\n",
"clear;\n",
"clc;\n",
"//soltion\n",
"//given\n",
"C=5;//pf//capcitance of varactor diode at V=4V\n",
"V=4;//V\n",
"K=C*sqrt(4);\n",
"\n",
"//When bias voltage is increased upto 6 V\n",
"Vn=6;//V//new bias voltage\n",
"Cn=K/(sqrt(Vn));\n",
"printf('Capacitance (At 6 V ) = %.3f pf',Cn);"
   ]
   }
,
{
		   "cell_type": "markdown",
		   "metadata": {},
		   "source": [
			"## Example 3.1: find_the_value_of_threshold_voltage.sce"
		   ]
		  },
  {
"cell_type": "code",
	   "execution_count": null,
	   "metadata": {
	    "collapsed": true
	   },
	   "outputs": [],
"source": [
"//find the value of threshold voltage\n",
"clear;\n",
"clc;\n",
"//soltion\n",
"//given\n",
"t1=25;//°C//initial temperature\n",
"t2=100;//°C//final temperature\n",
"V=2*10^-3;//V per celsius degree//decrease in barrier potential per degree\n",
"V0=0.7//V//Potential at normal temperature\n",
"Vd=(t2-t1)*V;//decrease in barrier potential\n",
"Vt=V0-Vd;//threshold volatge at 100°C\n",
"printf('Threshold volatge at 100°C = %.2f V',Vt);"
   ]
   }
,
{
		   "cell_type": "markdown",
		   "metadata": {},
		   "source": [
			"## Example 3.2: detrenmine_dc_resistance_of_silicon_diode.sce"
		   ]
		  },
  {
"cell_type": "code",
	   "execution_count": null,
	   "metadata": {
	    "collapsed": true
	   },
	   "outputs": [],
"source": [
"//detrenmine dc resistance of silicon diode\n",
"clear;\n",
"clc;\n",
"//soltion\n",
"//given\n",
"\n",
"//At Id = 2 mA\n",
"Id=2*10^-3;//Ampere//diode current\n",
"Vd=0.5;//V//voltage(from given curve)\n",
"Rf=(Vd/Id);\n",
"printf('The dc resistance is %d Ω\n',Rf);\n",
"\n",
"//At Id = 20 mA\n",
"Id=20*10^-3;//Ampere//diode current\n",
"Vd=0.75;//V//voltage(from given curve)\n",
"Rf=(Vd/Id);\n",
"printf('The dc resistance is %.1f Ω\n',Rf);\n",
"\n",
"//At Vd = - 10 V \n",
"Id=-2*10^-6;//Ampere//diode current(from given curve)\n",
"Vd=-10;//V//voltage\n",
"Rf=(Vd/Id);\n",
"printf('The dc resistance is %d MΩ\n',Rf/10^6);"
   ]
   }
,
{
		   "cell_type": "markdown",
		   "metadata": {},
		   "source": [
			"## Example 3.3: determine_dc_and_ac_resistance_of_silicon_diode.sce"
		   ]
		  },
  {
"cell_type": "code",
	   "execution_count": null,
	   "metadata": {
	    "collapsed": true
	   },
	   "outputs": [],
"source": [
"//determine dc & ac resistance of silicon diode\n",
"clear;\n",
"clc;\n",
"//soltion\n",
"//given\n",
"Id=20*10^-3;//A//diode current\n",
"Vd=0.75;//V// as given in the V-I graph\n",
"Rf=Vd/Id;\n",
"printf('The dc resistance of diode is %.1f Ω\n',Rf);\n",
"\n",
"//From Graph the values of dynamic voltage and current are\n",
"//which is equal to MN and NL repectively (in graph)\n",
"del_Vd=(0.8-0.68);//V\n",
"del_Id=(40-0)*10^-3;//A\n",
"rf=del_Vd/del_Id;\n",
"printf('The ac resistance of the diode is %d Ω',rf)"
   ]
   }
,
{
		   "cell_type": "markdown",
		   "metadata": {},
		   "source": [
			"## Example 3.4: determine_ac_resistance_of_silicon_diode.sce"
		   ]
		  },
  {
"cell_type": "code",
	   "execution_count": null,
	   "metadata": {
	    "collapsed": true
	   },
	   "outputs": [],
"source": [
"//determine ac resistance of silicon diode\n",
"clear;\n",
"clc;\n",
"//soltion\n",
"//given\n",
"\n",
"//At Id =10mA\n",
"Id=10;//mA\n",
"rf=25/Id;\n",
"printf('The ac resistance of the diode is(At Id= 10mA) %.1f Ω\n',rf)\n",
"\n",
"//At Id =20mA\n",
"Id=20;//mA\n",
"rf=25/Id;\n",
"printf('The ac resistance of the diode is(At Id= 20mA) %.2f Ω',rf)"
   ]
   }
,
{
		   "cell_type": "markdown",
		   "metadata": {},
		   "source": [
			"## Example 3.5: Find_current_through_diode.sce"
		   ]
		  },
  {
"cell_type": "code",
	   "execution_count": null,
	   "metadata": {
	    "collapsed": true
	   },
	   "outputs": [],
"source": [
"//Find current through diode\n",
"clear;\n",
"clc;\n",
"//soltion\n",
"//given\n",
"Vt=0.3;//V//Threshold voltage\n",
"rf=25;//ohm// average resistance\n",
"\n",
"//assuming it to be ideal\n",
"//from fig 3.19\n",
"Vaa=10;//V//supply\n",
"R1=45;//ohm\n",
"R2=5;//ohm\n",
"Vab=Vaa*R2/(R1+R2);\n",
"//Vab>Vt therefore diode is forward bias and no current flow through R2\n",
"Idi=Vaa/R1;       //for ideal\n",
"printf('The diode current (for ideal) is %.0f mA\n',Idi*1000);\n",
"\n",
"//assuming it to be real\n",
"//Thevenin's equivalent circuit parameters of fig 3.19\n",
"Vth=Vaa*R2/(R1+R2);\n",
"Rth=R1*R2/(R1+R2);\n",
"Idr=(Vth-Vt)/(Rth+rf);          //for real\n",
"printf('The diode current (for real) is %.1f mA',Idr*1000);"
   ]
   }
,
{
		   "cell_type": "markdown",
		   "metadata": {},
		   "source": [
			"## Example 3.6: Find_current_through_resistance_in_given_figure.sce"
		   ]
		  },
  {
"cell_type": "code",
	   "execution_count": null,
	   "metadata": {
	    "collapsed": true
	   },
	   "outputs": [],
"source": [
"//Find current through resistance in given figure\n",
"clear;\n",
"clc;\n",
"//soltion\n",
"\n",
"//From fig\n",
"Vaa=20;//V//supply\n",
"Vt=0.7;//V//threshold voltage of diode\n",
"rf=5;//ohm //forward resistance\n",
"R=90;//ohm//given resistor\n",
"\n",
"//Diode D1 and D4 are forward bias and D2 and D3 are reverse biased\n",
"\n",
"Vnet=Vaa-Vt-Vt;\n",
"Rt=R+rf+rf;\n",
"I=Vnet/Rt;\n",
"printf('Current through 90 ohm resistor is %.0f mA',I*1000);"
   ]
   }
,
{
		   "cell_type": "markdown",
		   "metadata": {},
		   "source": [
			"## Example 3.7: Find_current_drawn_by_the_battery.sce"
		   ]
		  },
  {
"cell_type": "code",
	   "execution_count": null,
	   "metadata": {
	    "collapsed": true
	   },
	   "outputs": [],
"source": [
"//Find current drawn by the battery\n",
"clear;\n",
"clc;\n",
"//soltion\n",
"\n",
"//From fig\n",
"Vaa=10;//V//supply\n",
"R1=100;//ohm\n",
"R2=100;//ohm\n",
"\n",
"//Forward Bias\n",
"Id=Vaa/R1;\n",
"printf('Current drawn from battery (forward bias) %.1f A\n',Id);\n",
"\n",
"//Reverse Bias\n",
"Rnet=R1+R2;\n",
"Id=Vaa/Rnet;\n",
"printf('Current drawn from battery (reverse bias) %.2f A',Id);"
   ]
   }
,
{
		   "cell_type": "markdown",
		   "metadata": {},
		   "source": [
			"## Example 3.8: EX3_8.sce"
		   ]
		  },
  {
"cell_type": "code",
	   "execution_count": null,
	   "metadata": {
	    "collapsed": true
	   },
	   "outputs": [],
"source": [
"//determine dc current through load and rectification efficiency and peak inverse voltage\n",
"clear;\n",
"clc;\n",
"//soltion\n",
"//given\n",
"TR=31/2;//Turn ratio of the transformer\n",
"rf=20;//Ω//Dynamic forward resistance\n",
"Rl=1000;//Ω//Load resistance\n",
"Vt=0.66;//V//Threshold voltage of diode\n",
"V=220;//V//input voltage of transformer\n",
"Vp=sqrt(2)*220//V//peak value of primary voltage\n",
"Vm=(1/TR)*Vp;\n",
"Im=(Vm-Vt)/(rf+Rl);\n",
"Idc=Im/%pi;\n",
"n=40.6/(1+rf/Rl);\n",
"printf('The dc current through load is %d mA\n',Idc*1000);\n",
"printf('The rectification efficiency is %.1f percent\n',n);\n",
"printf('Peak inverse voltage =Vm = %.2f V\n',Vm)"
   ]
   }
,
{
		   "cell_type": "markdown",
		   "metadata": {},
		   "source": [
			"## Example 3.9: determine_dc_voltage_across_load_and_peak_inverse_voltage_across_each_diode.sce"
		   ]
		  },
  {
"cell_type": "code",
	   "execution_count": null,
	   "metadata": {
	    "collapsed": true
	   },
	   "outputs": [],
"source": [
"//determine dc voltage across load and peak inverse voltage across each diode\n",
"clear;\n",
"clc;\n",
"//soltion\n",
"//given\n",
"TR=12/1;//Turn ratio of the transformer\n",
"V=220;//V//input voltage of transformer\n",
"Vp=sqrt(2)*220//V//peak value of primary voltage\n",
"Vm=(1/TR)*Vp;\n",
"Vdc=(2*Vm)/%pi;\n",
"printf('The dc voltage across load %.1f V\n',Vdc);\n",
"printf('Peak inverse voltage (for bridge rectifier) = %.1f V\n',Vm);\n",
"printf('Peak inverse voltage (for centre tap rectifier) = %.2f V\n',2*Vm);"
   ]
   }
],
"metadata": {
		  "kernelspec": {
		   "display_name": "Scilab",
		   "language": "scilab",
		   "name": "scilab"
		  },
		  "language_info": {
		   "file_extension": ".sce",
		   "help_links": [
			{
			 "text": "MetaKernel Magics",
			 "url": "https://github.com/calysto/metakernel/blob/master/metakernel/magics/README.md"
			}
		   ],
		   "mimetype": "text/x-octave",
		   "name": "scilab",
		   "version": "0.7.1"
		  }
		 },
		 "nbformat": 4,
		 "nbformat_minor": 0
}
