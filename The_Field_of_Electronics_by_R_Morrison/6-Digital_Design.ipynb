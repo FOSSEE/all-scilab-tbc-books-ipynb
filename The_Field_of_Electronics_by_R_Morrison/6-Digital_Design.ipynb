{
"cells": [
 {
		   "cell_type": "markdown",
	   "metadata": {},
	   "source": [
       "# Chapter 6: Digital Design"
	   ]
	},
{
		   "cell_type": "markdown",
		   "metadata": {},
		   "source": [
			"## Example 6.10: calculating_radiation.sce"
		   ]
		  },
  {
"cell_type": "code",
	   "execution_count": null,
	   "metadata": {
	    "collapsed": true
	   },
	   "outputs": [],
"source": [
"clc;\n",
"v=5;  //in volt\n",
"sp=2*10^-3;  //spacing in m\n",
"d=1;  //distance in metre\n",
"hw=7.5;  //half wavelength in metre\n",
"f=10.6*10^6;  //frequency in Hz\n",
"a=0.3;  //area in centimetre square\n",
"r=316;  //standard model radiation in (V*10^-6)/metre\n",
"n=316*(500*a*v)/(89*3.3);  //calculating radiation\n",
"disp(n,'Radiation in (V*10^-6)/metre = ');  //displaying result"
   ]
   }
,
{
		   "cell_type": "markdown",
		   "metadata": {},
		   "source": [
			"## Example 6.11: calculating_H_field.sce"
		   ]
		  },
  {
"cell_type": "code",
	   "execution_count": null,
	   "metadata": {
	    "collapsed": true
	   },
	   "outputs": [],
"source": [
"clc;\n",
"mo=1/(4*(%pi)*10^-7);  //constant\n",
"a=0.01;  //area in m square\n",
"v=0.2;  //in volt\n",
"f=2*10^6;  //frequency in Hz\n",
"vp=v*sqrt(2);  //calculating peak voltage\n",
"disp(vp,'Peak voltage in volt = ');  //displaying result\n",
"b=vp/a;  //change in B field\n",
"disp(b,'Change in B field in Tesla/sec = ');  //displaying result\n",
"h=b*mo;  //calculating H field\n",
"disp(h,'H field is changing in A/m per sec');  //displaying result\n",
"disp('At 2 MHz the H-field peak is 1.79 A/m.');  //displaying result\n",
"disp('This is 1.26 A/m rms.');  //displaying result"
   ]
   }
,
{
		   "cell_type": "markdown",
		   "metadata": {},
		   "source": [
			"## Example 6.12: calculating_WCC.sce"
		   ]
		  },
  {
"cell_type": "code",
	   "execution_count": null,
	   "metadata": {
	    "collapsed": true
	   },
	   "outputs": [],
"source": [
"clc;\n",
"dia=1;  //diameter in cm\n",
"f=300*10^6;  //frequency in Hz\n",
"i=5;  //current in Ampere\n",
"dis=10;  //in cm\n",
"dim=0.56;  //aperture dimension in cm\n",
"r=(dia*10^-2)/2;  //calculating radius in metre\n",
"h=(0.25)/(2*(%pi)*r);  //H field\n",
"disp(h,'H field in A/metre = ');  //displaying result\n",
"disp('For a plane wave the E field is 377 H = 3000V/m');  //displaying\n",
"att=75/dim;  //attenuation\n",
"disp(att,'Attenuation = ');  //displaying result\n",
"disp('Thus, the field is 22.4 V/metre');  //displaying result"
   ]
   }
,
{
		   "cell_type": "markdown",
		   "metadata": {},
		   "source": [
			"## Example 6.13: finding_the_mode_of_coupling.sce"
		   ]
		  },
  {
"cell_type": "code",
	   "execution_count": null,
	   "metadata": {
	    "collapsed": true
	   },
	   "outputs": [],
"source": [
"clc;\n",
"ap=2;  //aperture length in cm\n",
"f=(2/75)*3000;  //field\n",
"disp(f,'Field is coupled with in V/metre = ');  //displaying result\n",
"disp('For an area of 2 cm square,the voltage coupled is 2.13 V.');  //displaying result \n",
"disp('This can damage a circuit.');  //displaying result"
   ]
   }
,
{
		   "cell_type": "markdown",
		   "metadata": {},
		   "source": [
			"## Example 6.14: determining_the_type_of_filter.sce"
		   ]
		  },
  {
"cell_type": "code",
	   "execution_count": null,
	   "metadata": {
	    "collapsed": true
	   },
	   "outputs": [],
"source": [
"clc;\n",
"disp('The filter must attenuate the signal by a factor of 10.');  //displaying result\n",
"f=300*10^6;  //frequency in Hz\n",
"disp(' If R = 100 Ohm ,then the reactance of the capacitor should be about 10 Ohm.');  //displaying result\n",
"c=1/(2*(%pi)*f*10);  //calculating capacitance\n",
"disp(c,'At 300 MHz, this is in Farad = ');  //displaying result"
   ]
   }
,
{
		   "cell_type": "markdown",
		   "metadata": {},
		   "source": [
			"## Example 6.15: calculating_common_mode_voltage.sce"
		   ]
		  },
  {
"cell_type": "code",
	   "execution_count": null,
	   "metadata": {
	    "collapsed": true
	   },
	   "outputs": [],
"source": [
"clc;\n",
"i=54946;  //current in Ampere\n",
"d=1;  //distance in ft\n",
"r=0.33;  //in metre\n",
"f=425.89;  //frequency in Hz\n",
"h=i/(2*(%pi)*r);  //calculating H field\n",
"disp(h,'H field in A/metre = ');  //displaying result\n",
"mo=(4*(%pi)*10^-7);  //constant\n",
"b=mo*h;  //calculating B field\n",
"disp(b,'B field in Tesla = ');  //displaying result\n",
"area=0.02;  //area in metre square\n",
"flux=b*area;  //calculatin flux\n",
"disp(flux,'Flux in Wb = ');  //displaying result\n",
"v=(2*(%pi)*f);  //calculating voltage\n",
"disp(v,'Voltage in volt = ');  //displaying result"
   ]
   }
,
{
		   "cell_type": "markdown",
		   "metadata": {},
		   "source": [
			"## Example 6.16: observing_output.sce"
		   ]
		  },
  {
"cell_type": "code",
	   "execution_count": null,
	   "metadata": {
	    "collapsed": true
	   },
	   "outputs": [],
"source": [
"clc;\n",
"disp('The reactance at 640 kHz is 75.4 Ohm.');  //displaying result\n",
"disp('For 20,000 A, the voltage drop is 1.5*10^6 Volt.');  //displaying result\n",
"disp('The breakdown voltage for 6 in. is 300,000 V.Lightning will jump through the concrete.');  //displaying result"
   ]
   }
,
{
		   "cell_type": "markdown",
		   "metadata": {},
		   "source": [
			"## Example 6.1: calculating_dielectric_constant.sce"
		   ]
		  },
  {
"cell_type": "code",
	   "execution_count": null,
	   "metadata": {
	    "collapsed": true
	   },
	   "outputs": [],
"source": [
"clc;\n",
"c=500*10^-12;  //capacitance in Farad\n",
"d=0.01;  //spacing in inch\n",
"eo=8.854*10^-12;  //dielectric constant of air in Farad per metre\n",
"er=7.1*10^-12;  //dielectric constant of material\n",
"area=0.02*d;  //in metre square\n",
"C=697*er;  //calculating capacitance\n",
"disp(C,'Capacitance in Farad = ');  //displaying result"
   ]
   }
,
{
		   "cell_type": "markdown",
		   "metadata": {},
		   "source": [
			"## Example 6.2: calculating_output.sce"
		   ]
		  },
  {
"cell_type": "code",
	   "execution_count": null,
	   "metadata": {
	    "collapsed": true
	   },
	   "outputs": [],
"source": [
"clc;\n",
"r=100;  //resistance in Ohm\n",
"v=10;  //in volt\n",
"d=10;  //distance in feet\n",
"c=10*10^-6;  //capacitor in Farad\n",
"i=v/r;  //current\n",
"disp(i,'The wave travels the length of the line in 20 ns. The current that flows in the capacitor is the short-circuit current = ');  //displaying result\n",
"ch=40*10^-9*0.1;  //charge\n",
"disp(ch,'The charge that flows in 40 ns = ');  //displaying result\n",
"v1=ch/c;  //voltage\n",
"disp(v1,'Voltage in a 10*10^-6 Farad Capacitor = ');  //displaying result"
   ]
   }
,
{
		   "cell_type": "markdown",
		   "metadata": {},
		   "source": [
			"## Example 6.3: calculating_size.sce"
		   ]
		  },
  {
"cell_type": "code",
	   "execution_count": null,
	   "metadata": {
	    "collapsed": true
	   },
	   "outputs": [],
"source": [
"clc;\n",
"i=20*10^-3;  //current\n",
"vd=1;  //voltage drop\n",
"t=10^-3;  //time in sec\n",
"q=i*t;  //charge\n",
"c=q/vd;  //capacitance\n",
"disp(c,'Capacitance in Farad = ');  //displaying result"
   ]
   }
,
{
		   "cell_type": "markdown",
		   "metadata": {},
		   "source": [
			"## Example 6.4: calculating_voltage.sce"
		   ]
		  },
  {
"cell_type": "code",
	   "execution_count": null,
	   "metadata": {
	    "collapsed": true
	   },
	   "outputs": [],
"source": [
"clc;\n",
"c=15*10^-12;  //capacitance in F/ft\n",
"v=10;  //in volt\n",
"f=10*10^6;  //frequency in Hz\n",
"t=10*10^-9;  //time\n",
"imp=100;  //impedance in Ohm\n",
"l=3;  //length in metre\n",
"i=c*10^9;  //current\n",
"disp(i,'Current in Ampere = ');  //displaying result\n",
"disp('This is 1.5 V in 100 .');  //displaying result"
   ]
   }
,
{
		   "cell_type": "markdown",
		   "metadata": {},
		   "source": [
			"## Example 6.5: calculating_radiation_level.sce"
		   ]
		  },
  {
"cell_type": "code",
	   "execution_count": null,
	   "metadata": {
	    "collapsed": true
	   },
	   "outputs": [],
"source": [
"clc;\n",
"v=10;  //in volt\n",
"i=20*10^-3;  //current in Ampere\n",
"t=10*10^-9;  //time in sec\n",
"s=0.05;  //spacing in inch\n",
"l=50;  //length in cm\n",
"disp('The radiation using the standard model is 316*10^-6V.');  //displaying result\n",
"f=1/((%pi)*t);  //frequency\n",
"disp(f,'Frequency in Hz = ');  //displaying result\n",
"rad=(316*57*0.6*10)/(3.33*9.9);  //radiation\n",
"disp(rad,'radiation level at 10 metre in (V*10^-6 metre) = ');  //displaying result"
   ]
   }
,
{
		   "cell_type": "markdown",
		   "metadata": {},
		   "source": [
			"## Example 6.6: calculating_radiation_level.sce"
		   ]
		  },
  {
"cell_type": "code",
	   "execution_count": null,
	   "metadata": {
	    "collapsed": true
	   },
	   "outputs": [],
"source": [
"clc;\n",
"v=10;  //in volt\n",
"i=20*10^-3;  //current in Ampere\n",
"t=10*10^-9;  //time in sec\n",
"s=0.05;  //spacing in inch\n",
"l=50;  //length in cm\n",
"disp('The radiation using the standard model is 316*10^-6V.');  //displaying result\n",
"f=1/((%pi)*t);  //frequency\n",
"disp(f,'Frequency in Hz = ');  //displaying result\n",
"rad=(316*57*0.6*10)/(3.33*9.9);  //radiation\n",
"disp(rad,'radiation level at 10 metre in (V*10^-6 metre) = ');  //displaying result\n",
"w=364;  //ratio of areas\n",
"disp(w,'If the adjacent conductor is 0.05 in. away, the field is reduced by the ratio of areas in (10^-6*V/metre)= ');  //displaying result"
   ]
   }
,
{
		   "cell_type": "markdown",
		   "metadata": {},
		   "source": [
			"## Example 6.7: calculating_voltage.sce"
		   ]
		  },
  {
"cell_type": "code",
	   "execution_count": null,
	   "metadata": {
	    "collapsed": true
	   },
	   "outputs": [],
"source": [
"clc;\n",
"imp=0.2;  //transfer impedance in Ohm/metre\n",
"f=50*10^6;  //frequency in Hz\n",
"i=10*10^-3;  //current in Ampere\n",
"l=2;  //length in metre\n",
"disp('The voltage coupled to the cable is 0.02 V/m.');  //displaying\n",
"disp(' This is 0.04 V in 2 m.');  //displaying result\n",
"disp('Half of the energy goes in each direction.');  //displaying result\n",
"disp('At the unterminated end, the voltage doubles.');  //displaying result\n",
"disp('Thus, The result is 0.04 V.');  //displaying result"
   ]
   }
,
{
		   "cell_type": "markdown",
		   "metadata": {},
		   "source": [
			"## Example 6.8: calculating_voltage.sce"
		   ]
		  },
  {
"cell_type": "code",
	   "execution_count": null,
	   "metadata": {
	    "collapsed": true
	   },
	   "outputs": [],
"source": [
"clc;\n",
"hw=7.5;  //half wavelength in metre\n",
"f=20*10^6;  //frequency in Hz\n",
"a=0.03;  //area in metre square\n",
"v=hw*a;  //calculating voltage\n",
"disp(v,'Voltage in volt = ');  //displaying result"
   ]
   }
,
{
		   "cell_type": "markdown",
		   "metadata": {},
		   "source": [
			"## Example 6.9: calculating_WCC_radiation.sce"
		   ]
		  },
  {
"cell_type": "code",
	   "execution_count": null,
	   "metadata": {
	    "collapsed": true
	   },
	   "outputs": [],
"source": [
"clc;\n",
"v=5;  //in volt\n",
"sp=2*10^-3;  //spacing in m\n",
"d=1;  //distance in metre\n",
"hw=7.5;  //half wavelength in metre\n",
"f=10.6*10^6;  //frequency in Hz\n",
"a=0.8;  //area in centimetre square\n",
"r=316;  //standard model radiation in (V*10^-6)/metre\n",
"n=316*(125*a*v*d)/(89*3.3);  //calculating radiation\n",
"disp(n,'Radiation in (V*10^-6)/metre = ');  //displaying result"
   ]
   }
],
"metadata": {
		  "kernelspec": {
		   "display_name": "Scilab",
		   "language": "scilab",
		   "name": "scilab"
		  },
		  "language_info": {
		   "file_extension": ".sce",
		   "help_links": [
			{
			 "text": "MetaKernel Magics",
			 "url": "https://github.com/calysto/metakernel/blob/master/metakernel/magics/README.md"
			}
		   ],
		   "mimetype": "text/x-octave",
		   "name": "scilab",
		   "version": "0.7.1"
		  }
		 },
		 "nbformat": 4,
		 "nbformat_minor": 0
}
