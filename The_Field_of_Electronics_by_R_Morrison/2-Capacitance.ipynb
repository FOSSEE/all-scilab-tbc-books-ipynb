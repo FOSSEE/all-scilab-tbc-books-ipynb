{
"cells": [
 {
		   "cell_type": "markdown",
	   "metadata": {},
	   "source": [
       "# Chapter 2: Capacitance"
	   ]
	},
{
		   "cell_type": "markdown",
		   "metadata": {},
		   "source": [
			"## Example 2.10: calculating_H_field_intensity.sce"
		   ]
		  },
  {
"cell_type": "code",
	   "execution_count": null,
	   "metadata": {
	    "collapsed": true
	   },
	   "outputs": [],
"source": [
"clc;\n",
"i=0.1;  //current in Ampere\n",
"r=0.05;  //radius in metre\n",
"h=(i*100)/(2*(%pi)*r);  //calculating h\n",
"disp(h,'H field intensity for 100 turns in A/metre = ');  //displaying result"
   ]
   }
,
{
		   "cell_type": "markdown",
		   "metadata": {},
		   "source": [
			"## Example 2.11: calculating_H_field_intensity.sce"
		   ]
		  },
  {
"cell_type": "code",
	   "execution_count": null,
	   "metadata": {
	    "collapsed": true
	   },
	   "outputs": [],
"source": [
"clc;\n",
"disp('Radius is doubled.Therefore, H filed becomes half = 16 A/metre.');  //displaying result"
   ]
   }
,
{
		   "cell_type": "markdown",
		   "metadata": {},
		   "source": [
			"## Example 2.12: calculating_H_field_intensity.sce"
		   ]
		  },
  {
"cell_type": "code",
	   "execution_count": null,
	   "metadata": {
	    "collapsed": true
	   },
	   "outputs": [],
"source": [
"clc;\n",
"disp('H field at the center is nearly the same.');  //displaying result"
   ]
   }
,
{
		   "cell_type": "markdown",
		   "metadata": {},
		   "source": [
			"## Example 2.13: calculating_H_field_intensity.sce"
		   ]
		  },
  {
"cell_type": "code",
	   "execution_count": null,
	   "metadata": {
	    "collapsed": true
	   },
	   "outputs": [],
"source": [
"clc;\n",
"i=10;  //current\n",
"r=0.005;  //radius in metre\n",
"h1=(i)/(4*2*(%pi)*r);  //at half radius H is (1/4)th\n",
"disp(h1,'H field intensity at one half of radius in A/metre = ');  //displaying result\n",
"h2=(i)/(2*(%pi)*0.01);  //calculating H at surface\n",
"disp(h2,'H field intensity at surface in A/metre = ');  //displaying result\n",
"disp('H field intensity is proportional to radius.Therefore, it is zero at the center.');  //displaying result"
   ]
   }
,
{
		   "cell_type": "markdown",
		   "metadata": {},
		   "source": [
			"## Example 2.14: calculating_time.sce"
		   ]
		  },
  {
"cell_type": "code",
	   "execution_count": null,
	   "metadata": {
	    "collapsed": true
	   },
	   "outputs": [],
"source": [
"clc;\n",
"v=2;  //voltage in volts\n",
"l=10^-3;  //inductance in Henry\n",
"i=10*10^-3;  //current\n",
"di=v/l;  //change in current in A/sec\n",
"t=i/di;  //calculating time\n",
"disp(t,'Time required to reach 0.01 A in sec = ');  //displaying result"
   ]
   }
,
{
		   "cell_type": "markdown",
		   "metadata": {},
		   "source": [
			"## Example 2.15: calculating_energy.sce"
		   ]
		  },
  {
"cell_type": "code",
	   "execution_count": null,
	   "metadata": {
	    "collapsed": true
	   },
	   "outputs": [],
"source": [
"clc;\n",
"v=2;  //voltage in volts\n",
"l=10^-3;  //inductance in Henry\n",
"i=10*10^-3;  //current\n",
"e=(1/2)*l*i*i;  //calculating energy\n",
"disp(e,'Energy in Joule = ');  //displaying result"
   ]
   }
,
{
		   "cell_type": "markdown",
		   "metadata": {},
		   "source": [
			"## Example 2.16: calculating_H_field.sce"
		   ]
		  },
  {
"cell_type": "code",
	   "execution_count": null,
	   "metadata": {
	    "collapsed": true
	   },
	   "outputs": [],
"source": [
"clc;\n",
"p=20*10^-2;  //path length in metre\n",
"m=20000;  //relative permeability of magnetic material\n",
"i=2*10^-3;  //current in Ampere\n",
"n=500;  //no of turns\n",
"h=n*i;  //calculating A/turn for 20 cm\n",
"disp(h,'H for 20 cm in A/turn = ');  //displaying result\n",
"a=h/(20*10^-2);  //calculating H per metre\n",
"disp(a,'H field per metre in A/metre = ');  //displaying result"
   ]
   }
,
{
		   "cell_type": "markdown",
		   "metadata": {},
		   "source": [
			"## Example 2.17: calculating_B_field.sce"
		   ]
		  },
  {
"cell_type": "code",
	   "execution_count": null,
	   "metadata": {
	    "collapsed": true
	   },
	   "outputs": [],
"source": [
"clc;\n",
"mo=(4*(%pi)*10^-7);  //relative permeability of free space\n",
"p=20*10^-2;  //path length in metre\n",
"m=20000;  //relative permeability of magnetic material\n",
"i=2*10^-3;  //current in Ampere\n",
"n=500;  //no of turns\n",
"H=n*i;  //calculating A/turn for 20 cm\n",
"disp(H,'H for 20 cm in A/turn = ');  //displaying result\n",
"a=H/(20*10^-2);  //calculating H per metre\n",
"disp(a,'H field per metre in A/metre = ');  //displaying result\n",
"B=(m*mo*a);  //calculating flux\n",
"disp(B,'Flux in Tesla = ');  //displaying result"
   ]
   }
,
{
		   "cell_type": "markdown",
		   "metadata": {},
		   "source": [
			"## Example 2.18: calculating_flux.sce"
		   ]
		  },
  {
"cell_type": "code",
	   "execution_count": null,
	   "metadata": {
	    "collapsed": true
	   },
	   "outputs": [],
"source": [
"clc;\n",
"area=5*10^-4;  //area\n",
"mo=(4*(%pi)*10^-7);  //relative permeability of free space\n",
"p=20*10^-2;  //path length in metre\n",
"m=20000;  //relative permeability of magnetic material\n",
"i=2*10^-3;  //current in Ampere\n",
"n=500;  //no of turns\n",
"H=n*i;  //calculating A/turn for 20 cm\n",
"disp(H,'H for 20 cm in A/turn = ');  //displaying result\n",
"a=H/(20*10^-2);  //calculating H per metre\n",
"disp(a,'H field per metre in A/metre = ');  //displaying result\n",
"B=(m*mo*a);  //calculating flux\n",
"disp(B,'Flux in Tesla = ');  //displaying result\n",
"l=B*area;  //calculating flux density\n",
"disp(l,'Flux Density in Weber/metre = ');  //diaplaying result"
   ]
   }
,
{
		   "cell_type": "markdown",
		   "metadata": {},
		   "source": [
			"## Example 2.19: calculating_time.sce"
		   ]
		  },
  {
"cell_type": "code",
	   "execution_count": null,
	   "metadata": {
	    "collapsed": true
	   },
	   "outputs": [],
"source": [
"clc;\n",
"v=0.04;  //voltage per turn in Volt\n",
"area=5*10^-4;  //metre square\n",
"B=v/area;  //calculating B\n",
"disp(B,'B in Tesla/sec = ');  //displaying result\n",
"H=B/(4*(%pi)*10^-7*20000);  //calculating H\n",
"disp(H,'H in A/m = ');  //displaying result\n",
"disp('Therefore, for 500 turns and 20 cm = 1.27 A/sec.25.4 ms for 20 mA and 38.1 ms for 30 mA');  //displaying result"
   ]
   }
,
{
		   "cell_type": "markdown",
		   "metadata": {},
		   "source": [
			"## Example 2.1: calculating_capacitance.sce"
		   ]
		  },
  {
"cell_type": "code",
	   "execution_count": null,
	   "metadata": {
	    "collapsed": true
	   },
	   "outputs": [],
"source": [
"clc;\n",
"disp('Example 2.1');\n",
"v=3000;             //volume in metre cube.\n",
"theta=0.2;          //theta in owu(open window unit).\n",
"s=1850;             //area in metre cube.\n",
"as=theta*s;    //calculating total absorbtion of surface.\n",
"T=(0.165*v)/as //calculating T using Sabine formula\n",
"disp(T,'Reverberation time of Room = ');   //Displaying Result."
   ]
   }
,
{
		   "cell_type": "markdown",
		   "metadata": {},
		   "source": [
			"## Example 2.20: calculating_lowest_frequency_square_wave.sce"
		   ]
		  },
  {
"cell_type": "code",
	   "execution_count": null,
	   "metadata": {
	    "collapsed": true
	   },
	   "outputs": [],
"source": [
"clc;\n",
"phi=0.5;  //flux density in Tesla\n",
"v=10;  //peak to peak voltage\n",
"disp('At 80 Tesla/sec it takes 1/160 sec to reach 0.5 Tesla.Therefore,to reach maximum B in opposite sense and return to zero it will take 4/160 sec.');  //displaying result\n",
"disp('This is a frequency of 40 Hz.');  //displaying result"
   ]
   }
,
{
		   "cell_type": "markdown",
		   "metadata": {},
		   "source": [
			"## Example 2.21: calculating_energy.sce"
		   ]
		  },
  {
"cell_type": "code",
	   "execution_count": null,
	   "metadata": {
	    "collapsed": true
	   },
	   "outputs": [],
"source": [
"clc;\n",
"v=7.5*10^-5;  //volume in metre cube\n",
"b=1;  //flux in tesla\n",
"mo=4*(%pi)*10^-7;  //permeability of free space\n",
"m=20000;  //permeability of material\n",
"h=b/(m*mo);  //calculating field intensity\n",
"e=(1/2)*b*h*v;  //calculating energy\n",
"disp(e,'Energy in Joule = ');  //displaying energy"
   ]
   }
,
{
		   "cell_type": "markdown",
		   "metadata": {},
		   "source": [
			"## Example 2.22: calculating_H_field.sce"
		   ]
		  },
  {
"cell_type": "code",
	   "execution_count": null,
	   "metadata": {
	    "collapsed": true
	   },
	   "outputs": [],
"source": [
"clc;\n",
"v=7.5*10^-5;  //volume in metre cube\n",
"b=1;  //flux in tesla\n",
"mo=4*(%pi)*10^-7;  //permeability of free space\n",
"m=20000;  //permeability of material\n",
"h=b/(m*mo);  //calculating field intensity\n",
"e=(1/2)*b*h*v;  //calculating energy\n",
"disp(e,'Energy in Joule = ');  //displaying energy\n",
"disp(h,'Field in the gap = ');  //displaying field intensity\n",
"disp(h*10^-2,'Current per metre = Therefore in the gap of 0.001 m current required in mA = ');  //displaying result"
   ]
   }
,
{
		   "cell_type": "markdown",
		   "metadata": {},
		   "source": [
			"## Example 2.2: calculating_charge.sce"
		   ]
		  },
  {
"cell_type": "code",
	   "execution_count": null,
	   "metadata": {
	    "collapsed": true
	   },
	   "outputs": [],
"source": [
"clc;\n",
"disp('Example 2.2');\n",
"v=120000;                           //volume in metre cube.\n",
"t=1.5;                              //time in second.\n",
"s=25000;                            //area in metre cube.\n",
"a=(0.16*v)/(t*s);                  //using Sabine formula for calculating a\n",
"disp(a,'Average Absorbing Power of Surface = ');  //Displaying Result."
   ]
   }
,
{
		   "cell_type": "markdown",
		   "metadata": {},
		   "source": [
			"## Example 2.3: calculating_D.sce"
		   ]
		  },
  {
"cell_type": "code",
	   "execution_count": null,
	   "metadata": {
	    "collapsed": true
	   },
	   "outputs": [],
"source": [
"clc;\n",
"disp('Example 2.3');\n",
"v=6000                    //Volume in metre cube.\n",
"as=20                     //surface absorbtion in owu(open window unit).\n",
"T=(0.165*v)/(as);           //calculating T using Sabine Formula.\n",
"disp(T,'Reverberation Time = ');      //Displaying Result."
   ]
   }
,
{
		   "cell_type": "markdown",
		   "metadata": {},
		   "source": [
			"## Example 2.4: calculating_current.sce"
		   ]
		  },
  {
"cell_type": "code",
	   "execution_count": null,
	   "metadata": {
	    "collapsed": true
	   },
	   "outputs": [],
"source": [
"clc;\n",
"disp('Example2.4');\n",
"v=3500;                 //volume in metre cube.\n",
"n1=370-300;             //no. of audience on wooden seats.\n",
"n2=300-70;              //no. of empty wooden seats.\n",
"a1s1=0.04*60;           //absorption due to wooden doors.\n",
"a2s2=0.03*700;          //absorption due to plastered walls.\n",
"a3s3=0.06*50;           //absorption due to glass work.\n",
"a4s4=4.2*370;           //absorption due to audience on spungy and wooden \n",
"//seats.\n",
"a5s5=2*230;              //absorption due to empty seats.\n",
"sum=a1s1+a2s2+a3s3+a4s4+a5s5; //total absorption of cinema hall.\n",
"T=(0.165*v)/sum;         //calculating T using Sabine Formula.\n",
"disp(T,'Reverberation Time = ');     //Displaying Result."
   ]
   }
,
{
		   "cell_type": "markdown",
		   "metadata": {},
		   "source": [
			"## Example 2.5: calculating_time_constant.sce"
		   ]
		  },
  {
"cell_type": "code",
	   "execution_count": null,
	   "metadata": {
	    "collapsed": true
	   },
	   "outputs": [],
"source": [
"clc;\n",
"disp('Example 2.5');\n",
"l=10;                          //length in centimetres.\n",
"Y=20*10^11;                    //Young's Modulus in dyne/cm square.\n",
"R=8;                           //Density in gram/cc\n",
"n=(1/(2*l))*sqrt(Y/R); //calculating frequency of vibration using \n",
"//young's modulus.\n",
"disp(n,'Frequency of vibration in Hz.');    //Displaying Result. "
   ]
   }
,
{
		   "cell_type": "markdown",
		   "metadata": {},
		   "source": [
			"## Example 2.6: calculating_voltage.sce"
		   ]
		  },
  {
"cell_type": "code",
	   "execution_count": null,
	   "metadata": {
	    "collapsed": true
	   },
	   "outputs": [],
"source": [
"clc;\n",
"disp('Example 2.7');\n",
"t=0.1;               //thickness in centimetre.\n",
"Y=8.75*10^11;        //Young's Modulus in dyne/cm square.\n",
"R=2.654;             //Density in gram/cm square.\n",
"n=(1/(2*t))*sqrt(Y/R);     //calculating frequency using Young's modulus.\n",
"disp(n,'Frequency of Vibration in Hz = ');  //Displaying Result."
   ]
   }
,
{
		   "cell_type": "markdown",
		   "metadata": {},
		   "source": [
			"## Example 2.7: calculating_resistance.sce"
		   ]
		  },
  {
"cell_type": "code",
	   "execution_count": null,
	   "metadata": {
	    "collapsed": true
	   },
	   "outputs": [],
"source": [
"clc;\n",
"disp('Example 2.7');\n",
"K=2.026*10^9;              //Bulk Modulus in N/m square.\n",
"R=10^3;                    //Density in Kg/m cube.\n",
"V=sqrt(K/R);               //Calculating speed using Bulk Modulus.\n",
"disp(V,'Velocity of sound waves in water in m/sec = ');   //displaying result."
   ]
   }
,
{
		   "cell_type": "markdown",
		   "metadata": {},
		   "source": [
			"## Example 2.8: calculating_energy.sce"
		   ]
		  },
  {
"cell_type": "code",
	   "execution_count": null,
	   "metadata": {
	    "collapsed": true
	   },
	   "outputs": [],
"source": [
"clc;\n",
"disp('Example 2.8');\n",
"Y=1.41;            //Young's Modulus.\n",
"R=1.293*10^-3;     //Density of air in g/centimetre cube.\n",
"P=76*13.6*980;     //atmospheric pressure in dyne/cm square.\n",
"V=sqrt((Y*P)/R);    //calculating speed using young's modulus.\n",
"disp(V,'Speed of ultrasonic wave in air at n.t.p. in cm/sec =  ');  //displaying result.  \n",
"disp(V*10^-2,'Speed in m/sec');  //displaying result."
   ]
   }
,
{
		   "cell_type": "markdown",
		   "metadata": {},
		   "source": [
			"## Example 2.9: finding_H_field_intensity.sce"
		   ]
		  },
  {
"cell_type": "code",
	   "execution_count": null,
	   "metadata": {
	    "collapsed": true
	   },
	   "outputs": [],
"source": [
"clc;\n",
"r=0.1;  //in metre\n",
"H=3/(2*(%pi)*r);  //calculating H field intensity\n",
"disp(H,'H field intensity in A/metre = ');  //displaying result"
   ]
   }
],
"metadata": {
		  "kernelspec": {
		   "display_name": "Scilab",
		   "language": "scilab",
		   "name": "scilab"
		  },
		  "language_info": {
		   "file_extension": ".sce",
		   "help_links": [
			{
			 "text": "MetaKernel Magics",
			 "url": "https://github.com/calysto/metakernel/blob/master/metakernel/magics/README.md"
			}
		   ],
		   "mimetype": "text/x-octave",
		   "name": "scilab",
		   "version": "0.7.1"
		  }
		 },
		 "nbformat": 4,
		 "nbformat_minor": 0
}
