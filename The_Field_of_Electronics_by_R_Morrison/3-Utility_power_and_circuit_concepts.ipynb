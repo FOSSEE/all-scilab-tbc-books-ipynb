{
"cells": [
 {
		   "cell_type": "markdown",
	   "metadata": {},
	   "source": [
       "# Chapter 3: Utility power and circuit concepts"
	   ]
	},
{
		   "cell_type": "markdown",
		   "metadata": {},
		   "source": [
			"## Example 3.10: calculating_resonant_frequency.sce"
		   ]
		  },
  {
"cell_type": "code",
	   "execution_count": null,
	   "metadata": {
	    "collapsed": true
	   },
	   "outputs": [],
"source": [
"clc;\n",
"fo=0.5;    //focal length of eye lens\n",
"D=25;        //distance of distinct vision\n",
"L=15;      //length in cm\n",
"m=375;   //magnification\n",
"fe=(-L*D)/(fo*((L/fo)-m));  //calculating fe\n",
"disp(fe,'Focal length of eye lens in cm = ');  //displaying result"
   ]
   }
,
{
		   "cell_type": "markdown",
		   "metadata": {},
		   "source": [
			"## Example 3.11: calculating_natural_frequency.sce"
		   ]
		  },
  {
"cell_type": "code",
	   "execution_count": null,
	   "metadata": {
	    "collapsed": true
	   },
	   "outputs": [],
"source": [
"clc;\n",
"m=5;    //magnifying power\n",
"L=24;      //length in cm\n",
"fe=4;   //focal length in cm\n",
"fo=5*fe;  //calculating fo\n",
"disp(fo,'Focal length of lens in cm = ');  //displaying result"
   ]
   }
,
{
		   "cell_type": "markdown",
		   "metadata": {},
		   "source": [
			"## Example 3.12: calculating_current.sce"
		   ]
		  },
  {
"cell_type": "code",
	   "execution_count": null,
	   "metadata": {
	    "collapsed": true
	   },
	   "outputs": [],
"source": [
"clc;\n",
"D=25;        //distance of distinct vision in cm\n",
"fo=140;    //focal length of eye lens\n",
"fe=5;        //focal length in cm\n",
"m=-(fo/fe);   //calculating magnifying power\n",
"disp(m,'Magnifying power at normal adjustment = ');  //displaying result\n",
"m1=-(fo/fe)*(1+(fe/D));    //calculating magnifying power\n",
"disp(m1,'Magnifying power atleast distance of distinct vision = ');  //displaying result"
   ]
   }
,
{
		   "cell_type": "markdown",
		   "metadata": {},
		   "source": [
			"## Example 3.13: calculating_phase_angle.sce"
		   ]
		  },
  {
"cell_type": "code",
	   "execution_count": null,
	   "metadata": {
	    "collapsed": true
	   },
	   "outputs": [],
"source": [
"clc;\n",
"M=5;         //Magnifying power\n",
"fo=10;    //focal length of eye lens\n",
"fe=fo/M;     //calculating fe\n",
"disp(fe,'Focal length of eye lens in cm = ');  //displaying result"
   ]
   }
,
{
		   "cell_type": "markdown",
		   "metadata": {},
		   "source": [
			"## Example 3.14: calculating_impedance.sce"
		   ]
		  },
  {
"cell_type": "code",
	   "execution_count": null,
	   "metadata": {
	    "collapsed": true
	   },
	   "outputs": [],
"source": [
"clc;\n",
"fo=75;    //focal length of eye lens\n",
"D=25;        //distance of distinct vision\n",
"fe=5;      //focal  of eye lens in cm\n",
"M=-(fo/fe)*(1+(fe/D));  //calculating M\n",
"disp(M,'Magnifying power = ');  //displaying result"
   ]
   }
,
{
		   "cell_type": "markdown",
		   "metadata": {},
		   "source": [
			"## Example 3.15: calculating_reactance.sce"
		   ]
		  },
  {
"cell_type": "code",
	   "execution_count": null,
	   "metadata": {
	    "collapsed": true
	   },
	   "outputs": [],
"source": [
"clc;\n",
"M=7;      //magnifying power\n",
"L=40;    //length\n",
"fe=(40/8);  //focal length of eye lens in cm\n",
"fo=(7*fe);   //calculating focal length\n",
"disp(fo,'Focal Length of lens in cm =');  //displaying result"
   ]
   }
,
{
		   "cell_type": "markdown",
		   "metadata": {},
		   "source": [
			"## Example 3.16: calculating_phase_angle.sce"
		   ]
		  },
  {
"cell_type": "code",
	   "execution_count": null,
	   "metadata": {
	    "collapsed": true
	   },
	   "outputs": [],
"source": [
"clc;\n",
"f=10^3;  //frequency in Hz\n",
"l=0.1;  //inductance in Henry\n",
"x=2*(%pi)*f*l;   //calculating reactance\n",
"disp(x,'Reactance in Ohm = ');  //displaying result\n",
"disp('Frequency needs to be raised by the ratio 2000/628 for the frequency to equal the resistance.');\n",
"r=2000/x;\n",
"disp(r,'The frequency in Hz = ');  //displaying result\n",
"disp('At this frequency the phase angle is 45 degree.');  //displaying result"
   ]
   }
,
{
		   "cell_type": "markdown",
		   "metadata": {},
		   "source": [
			"## Example 3.17: calculating_rms_voltage.sce"
		   ]
		  },
  {
"cell_type": "code",
	   "execution_count": null,
	   "metadata": {
	    "collapsed": true
	   },
	   "outputs": [],
"source": [
"clc;\n",
"vpp=25;  //peak to peak voltage in volt\n",
"vp=vpp/2;  //calculating peak value in volt\n",
"rms=vp/sqrt(2);  //calculating rms value\n",
"disp(rms,'Rms value in volt = ');  //displaying result"
   ]
   }
,
{
		   "cell_type": "markdown",
		   "metadata": {},
		   "source": [
			"## Example 3.18: calculating_peak_voltage.sce"
		   ]
		  },
  {
"cell_type": "code",
	   "execution_count": null,
	   "metadata": {
	    "collapsed": true
	   },
	   "outputs": [],
"source": [
"clc;\n",
"v=118;  //voltage in volt\n",
"vp=v*sqrt(2);  //calculating peak voltage\n",
"disp(vp,'Peak voltage in volt = ');  //displaying result"
   ]
   }
,
{
		   "cell_type": "markdown",
		   "metadata": {},
		   "source": [
			"## Example 3.19: calculating_rms_voltage.sce"
		   ]
		  },
  {
"cell_type": "code",
	   "execution_count": null,
	   "metadata": {
	    "collapsed": true
	   },
	   "outputs": [],
"source": [
"clc;\n",
"r=1;  //reisstance in Ohm\n",
"p1=1/4;  //power for 1 Watt\n",
"p2=(2*2)/4;  //power for 2 Watt\n",
"p3=(3*3)/4;  //power for 3 Watt\n",
"p4=(4*4)/4;  //power for 4 Watt\n",
"tp=p1+p2+p3+p4;  //calculating total power\n",
"p=sqrt(tp);  //calculating rms value\n",
"disp(p,'RMS value in volt = ');  //displaying result"
   ]
   }
,
{
		   "cell_type": "markdown",
		   "metadata": {},
		   "source": [
			"## Example 3.1: calculating_reactance.sce"
		   ]
		  },
  {
"cell_type": "code",
	   "execution_count": null,
	   "metadata": {
	    "collapsed": true
	   },
	   "outputs": [],
"source": [
"clc;\n",
"f=15;          //focal length in cm\n",
"v=10;         //image distance in cm\n",
"u=(150/5);  //calculating u using (1/f)=(1/v)-(1/u)\n",
"disp(u,'Object Distance in cm = ');  //displaying result"
   ]
   }
,
{
		   "cell_type": "markdown",
		   "metadata": {},
		   "source": [
			"## Example 3.20: calculating_rms_voltage.sce"
		   ]
		  },
  {
"cell_type": "code",
	   "execution_count": null,
	   "metadata": {
	    "collapsed": true
	   },
	   "outputs": [],
"source": [
"clc;\n",
"v1=6;  //voltage in volt\n",
"v2=8;  //voltage in volt\n",
"v=sqrt((v1*v1)+(v2*v2));  //calculating rms valu\n",
"disp(v,'RMS value in volt = ');  //displaying result"
   ]
   }
,
{
		   "cell_type": "markdown",
		   "metadata": {},
		   "source": [
			"## Example 3.21: calculating_average_dc_voltage.sce"
		   ]
		  },
  {
"cell_type": "code",
	   "execution_count": null,
	   "metadata": {
	    "collapsed": true
	   },
	   "outputs": [],
"source": [
"clc;\n",
"v=12;  //voltage in volt\n",
"f=60;  //frequency in Hz\n",
"vt=v*sqrt(2);  //true voltage\n",
"vs=vt/10;  //sagging voltage\n",
"disp(vs);\n",
"av=vt-(vs/2);  //calculating average value\n",
"disp(av,'Average voltage in volt = ');  //displaying result"
   ]
   }
,
{
		   "cell_type": "markdown",
		   "metadata": {},
		   "source": [
			"## Example 3.22: calculating_rms_heating.sce"
		   ]
		  },
  {
"cell_type": "code",
	   "execution_count": null,
	   "metadata": {
	    "collapsed": true
	   },
	   "outputs": [],
"source": [
"clc;\n",
"v=10;  //voltage in volt\n",
"t=0.001;  //lasting time in sec\n",
"t1=0.01;  //recuring time in sec\n",
"r=1;  //resistance in Ohm\n",
"p=10;  //average power in Watt\n",
"v=sqrt(p/r);  //calculating dc voltage\n",
"disp(v,'DC Voltage in Volt = ');  //displaying result\n",
"disp(v,'Therefore, the RMS value = ');  //displaying result"
   ]
   }
,
{
		   "cell_type": "markdown",
		   "metadata": {},
		   "source": [
			"## Example 3.23: calculating_time.sce"
		   ]
		  },
  {
"cell_type": "code",
	   "execution_count": null,
	   "metadata": {
	    "collapsed": true
	   },
	   "outputs": [],
"source": [
"clc;\n",
"l=10;  //length in metre\n",
"s=0.3;  //speed of energy in m/ns\n",
"tl=2*l;  //length of round trip\n",
"t=tl/s;  //time taken\n",
"disp(t,'Time taken for round trip in ns = ');  //displaying result"
   ]
   }
,
{
		   "cell_type": "markdown",
		   "metadata": {},
		   "source": [
			"## Example 3.24: calculating_current.sce"
		   ]
		  },
  {
"cell_type": "code",
	   "execution_count": null,
	   "metadata": {
	    "collapsed": true
	   },
	   "outputs": [],
"source": [
"clc;\n",
"z=50;  //impedance in Ohm\n",
"l=10;  //length in metre\n",
"v=10;  //voltage in volt\n",
"t=0.3*10^-6;  //time in sec\n",
"i=v/z;  //calaulating current\n",
"disp(i,'Current on initial wave in Ampere = ');  //displaying result\n",
"disp('It takes 0.13*10^-6 for a round trip.There are two round trips in 0.3*10^-6. The current triples for each round trip. At 0.3 ¹s the current is multiplied by 6, or 1.2 A.');  //displaying result"
   ]
   }
,
{
		   "cell_type": "markdown",
		   "metadata": {},
		   "source": [
			"## Example 3.25: calculating_H_field_and_voltage.sce"
		   ]
		  },
  {
"cell_type": "code",
	   "execution_count": null,
	   "metadata": {
	    "collapsed": true
	   },
	   "outputs": [],
"source": [
"clc;\n",
"f=300;  //frequency in Hz\n",
"r=1;  //distance in metre\n",
"i=2;  //current in Ampere\n",
"area=0.1;  //area in metre square\n",
"mo=4*(%pi)*10^-7;  //constant\n",
"H=i/(2*(%pi)*r);  //calcualting H field rms\n",
"disp(H,'H field intensity (rms) in A/m = ');  //displaying H field\n",
"Hp=H*sqrt(2);  //peak H\n",
"disp(Hp,'H field intensity (peak) in A/m = ');  //displaying result\n",
"Bp=(Hp*mo);  //calculating B peak in Tesla\n",
"disp(Bp,'Flux peak in Tesla = ');  //displaying B\n",
"vp=2*(%pi)*f*Bp;  //calculating v peak\n",
"disp(vp,'Peak voltage in volt = ');  //displaying result"
   ]
   }
,
{
		   "cell_type": "markdown",
		   "metadata": {},
		   "source": [
			"## Example 3.26: calculating_peak_voltage.sce"
		   ]
		  },
  {
"cell_type": "code",
	   "execution_count": null,
	   "metadata": {
	    "collapsed": true
	   },
	   "outputs": [],
"source": [
"clc;\n",
"v=10^-5;  //ac voltage\n",
"di=10*10^-3;  //discharge rate of current\n",
"t=10*10^-3;  //time in sec\n",
"ch=(14.14-0.6);  //charge of capacitor\n",
"q=ch*v;  //charge\n",
"disp(q,'Charge in Coloumb = ');  //displaying result\n",
"qt=di*t;  //charge for 10 ms\n",
"rc=q-qt;  //remaining charge\n",
"disp(qt,'Charge for 10 ms = ');  //displaying result\n",
"disp(rc,'Remaining charge in Coloumb = ');  //displaying result\n",
"a=(rc/q)*10;  //voltage\n",
"disp(a,'Voltage in volt = ');  //displaying result"
   ]
   }
,
{
		   "cell_type": "markdown",
		   "metadata": {},
		   "source": [
			"## Example 3.27: calculating_power_dissipated.sce"
		   ]
		  },
  {
"cell_type": "code",
	   "execution_count": null,
	   "metadata": {
	    "collapsed": true
	   },
	   "outputs": [],
"source": [
"clc;\n",
"s=12;  //sum of squares\n",
"hv=sqrt(s);  //heating voltage =sum of square roots\n",
"disp(hv,'Heating voltage in volts = ');  //displaying result\n",
"disp(s/10,'Power dissipated in Watt = ');  //displaying result"
   ]
   }
,
{
		   "cell_type": "markdown",
		   "metadata": {},
		   "source": [
			"## Example 3.28: calculating_total_voltage.sce"
		   ]
		  },
  {
"cell_type": "code",
	   "execution_count": null,
	   "metadata": {
	    "collapsed": true
	   },
	   "outputs": [],
"source": [
"clc;\n",
"vp=10;  //peak voltage\n",
"v=vp*sqrt(2);  //voltage\n",
"hc=10+7.07;  //horizontal components\n",
"disp(hc,'Hrizontal Components = ');  //horizontal components\n",
"vc=sqrt((hc*hc)+(7.07*7.07));  //vertical components\n",
"disp(vc,'Vertical Components = ');  //vertical components"
   ]
   }
,
{
		   "cell_type": "markdown",
		   "metadata": {},
		   "source": [
			"## Example 3.29: calculating_current.sce"
		   ]
		  },
  {
"cell_type": "code",
	   "execution_count": null,
	   "metadata": {
	    "collapsed": true
	   },
	   "outputs": [],
"source": [
"clc;\n",
"c=5*10^-12;  //capacitanec in Farad\n",
"p=10*10^6;  //pulse in V/sec\n",
"i=c*p;  //current\n",
"disp(i,'Current in Ampere = ');  //displaying result"
   ]
   }
,
{
		   "cell_type": "markdown",
		   "metadata": {},
		   "source": [
			"## Example 3.2: calculating_reactance.sce"
		   ]
		  },
  {
"cell_type": "code",
	   "execution_count": null,
	   "metadata": {
	    "collapsed": true
	   },
	   "outputs": [],
"source": [
"clc;\n",
"f=80;     //focal length in cm\n",
"f1=20;    //focallength of first lens in cm\n",
"f2=(80/3);  //using (1/F)=(1/f1)+(1/f2)\n",
"P=(100/f);   //power in D\n",
"P1=100/20;    //power of first lens\n",
"P2=P1-P;    //power in D\n",
"disp(P2,'Power in D = ');  //displaying result"
   ]
   }
,
{
		   "cell_type": "markdown",
		   "metadata": {},
		   "source": [
			"## Example 3.3: calculating_impedance.sce"
		   ]
		  },
  {
"cell_type": "code",
	   "execution_count": null,
	   "metadata": {
	    "collapsed": true
	   },
	   "outputs": [],
"source": [
"clc;\n",
"P=2.5;     //Power in D\n",
"f=-(1/P);  //calculating f in m\n",
"disp(f,'Focal length in m = ');  //displaying result"
   ]
   }
,
{
		   "cell_type": "markdown",
		   "metadata": {},
		   "source": [
			"## Example 3.4: calculating_impedance.sce"
		   ]
		  },
  {
"cell_type": "code",
	   "execution_count": null,
	   "metadata": {
	    "collapsed": true
	   },
	   "outputs": [],
"source": [
"clc;\n",
"m=4;     //magnigication\n",
"f=20;    //focal length in cm\n",
"u=(20*3)/(4);  //on simplifying (1/f)=(1/v)-(1/u)\n",
"v=(4*u);  //calculating v in cm\n",
"disp(u,'Object distance in cm = ');   //displaying result\n",
"disp(v,'Image distance in cm = ');    //displaying result"
   ]
   }
,
{
		   "cell_type": "markdown",
		   "metadata": {},
		   "source": [
			"## Example 3.5: calculating_peak_current.sce"
		   ]
		  },
  {
"cell_type": "code",
	   "execution_count": null,
	   "metadata": {
	    "collapsed": true
	   },
	   "outputs": [],
"source": [
"clc;\n",
"u=14;    //object distance in cm\n",
"f=-21;    //focal distance in cm\n",
"v=(-5/42);  //simplifying(1/f)=(1/v)-(1/u)\n",
"I=(3*-8.4)/(-14);   //using m=(1/0)=(v/u);\n",
"disp(v,'Image distance in cm = ');  //displaying result\n",
"disp(I,'I in cm = ');  //displaying result"
   ]
   }
,
{
		   "cell_type": "markdown",
		   "metadata": {},
		   "source": [
			"## Example 3.6: calculating_impedance.sce"
		   ]
		  },
  {
"cell_type": "code",
	   "execution_count": null,
	   "metadata": {
	    "collapsed": true
	   },
	   "outputs": [],
"source": [
"clc;\n",
"fe=5;  //focal length in cm\n",
"D=25;  //distance od distinct vision in cm\n",
"m=1+(D/fe);  //calculating magnifying power\n",
"disp(m,'magnifying Power = ');  //displaying result"
   ]
   }
,
{
		   "cell_type": "markdown",
		   "metadata": {},
		   "source": [
			"## Example 3.7: calculating_impedance.sce"
		   ]
		  },
  {
"cell_type": "code",
	   "execution_count": null,
	   "metadata": {
	    "collapsed": true
	   },
	   "outputs": [],
"source": [
"clc;\n",
"fe=5;  //focal length in cm\n",
"D=25;  //distance od distinct vision in cm\n",
"mo=30/(1+(D/fe));  //calculating magnification of objective lens\n",
"disp(mo,'Magnification produced by objective lens = ');  //displaying result"
   ]
   }
,
{
		   "cell_type": "markdown",
		   "metadata": {},
		   "source": [
			"## Example 3.8: calculating_reactance.sce"
		   ]
		  },
  {
"cell_type": "code",
	   "execution_count": null,
	   "metadata": {
	    "collapsed": true
	   },
	   "outputs": [],
"source": [
"clc;\n",
"u=-6;    //object distance in cm\n",
"fo=4;    //focal distance in cm\n",
"fe=6;  //focal length in cm\n",
"D=25; //distance of distinct vision in cm\n",
"v=(12);   //using (1/f)=(1/v)-(1/u)\n",
"m=(v/u)*(1+(D/fe));  //calculating m\n",
"disp(v,'Image distance in cm = ');   //displaying result\n",
"disp(-m,'Magnifying Power = ');     //displaying result"
   ]
   }
,
{
		   "cell_type": "markdown",
		   "metadata": {},
		   "source": [
			"## Example 3.9: calculating_slope.sce"
		   ]
		  },
  {
"cell_type": "code",
	   "execution_count": null,
	   "metadata": {
	    "collapsed": true
	   },
	   "outputs": [],
"source": [
"clc;\n",
"D=25;        //distance of distinct vision\n",
"u=-9;    //object distance in cm\n",
"fe=10;  //focal length in cm\n",
"v=(-90/1);   //using (1/f)=(1/v)-(1/u)\n",
"m=(v/u);  //calculating m\n",
"M=D/u;    //calculating Magnifying power of lens\n",
"disp(m,'Magnification of lens = ');   //displaying result\n",
"disp(-M,'Magnifying Power = ');     //displaying result"
   ]
   }
],
"metadata": {
		  "kernelspec": {
		   "display_name": "Scilab",
		   "language": "scilab",
		   "name": "scilab"
		  },
		  "language_info": {
		   "file_extension": ".sce",
		   "help_links": [
			{
			 "text": "MetaKernel Magics",
			 "url": "https://github.com/calysto/metakernel/blob/master/metakernel/magics/README.md"
			}
		   ],
		   "mimetype": "text/x-octave",
		   "name": "scilab",
		   "version": "0.7.1"
		  }
		 },
		 "nbformat": 4,
		 "nbformat_minor": 0
}
