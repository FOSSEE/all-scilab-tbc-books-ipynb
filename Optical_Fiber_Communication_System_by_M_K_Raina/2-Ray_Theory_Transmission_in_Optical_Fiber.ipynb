{
"cells": [
 {
		   "cell_type": "markdown",
	   "metadata": {},
	   "source": [
       "# Chapter 2: Ray Theory Transmission in Optical Fiber"
	   ]
	},
{
		   "cell_type": "markdown",
		   "metadata": {},
		   "source": [
			"## Example 2.10: Find_the_refractive_index_and_critical_angle_and_the_numerical_aperture.sce"
		   ]
		  },
  {
"cell_type": "code",
	   "execution_count": null,
	   "metadata": {
	    "collapsed": true
	   },
	   "outputs": [],
"source": [
"//Ex:2.10\n",
"clc;\n",
"clear;\n",
"close;\n",
"n1=1.50;// core refractive index\n",
"n2=(99/100)*1.50;// cladding refractive index\n",
"x_c=(asin(n2/n1))*180/%pi;// critical angle in degree\n",
"n_m=sqrt(n1^2-n2^2);// numerical aperture\n",
"printf('critical angle = %f degree',x_c);\n",
"printf('\n numerical aperture = %f',n_m);"
   ]
   }
,
{
		   "cell_type": "markdown",
		   "metadata": {},
		   "source": [
			"## Example 2.11: Find_the_numerical_aperture_and_fractional_difference.sce"
		   ]
		  },
  {
"cell_type": "code",
	   "execution_count": null,
	   "metadata": {
	    "collapsed": true
	   },
	   "outputs": [],
"source": [
"//Ex:2.11\n",
"clc;\n",
"clear;\n",
"close;\n",
"n1=1.50;// core refractive index\n",
"n2=1.45;// cladding refractive index\n",
"n_m=sqrt(n1^2-n2^2);// numerical aperture\n",
"dl=(n1-n2)/n1;// fractional difference\n",
"printf('numerical aperture = %f',n_m);\n",
"printf('\n fractional difference = %f',dl);"
   ]
   }
,
{
		   "cell_type": "markdown",
		   "metadata": {},
		   "source": [
			"## Example 2.12: EX2_12.sce"
		   ]
		  },
  {
"cell_type": "code",
	   "execution_count": null,
	   "metadata": {
	    "collapsed": true
	   },
	   "outputs": [],
"source": [
"//Ex:2.12\n",
"clc;\n",
"clear;\n",
"close;\n",
"n1=1.46;// core refractive index\n",
"n2=1.45;// cladding refractive index\n",
"x_c=(asin(n2/n1))*180/%pi;// critical angle in degree\n",
"n_m=sqrt(n1^2-n2^2);// numerical aperture\n",
"x_a=(asin(n_m))*180/%pi;// acceptance angle in degree\n",
"printf('critical angle = %f degree',x_c);\n",
"printf('\n acceptance angle = %f degree',x_a);\n",
"printf('\n numerical aperture = %f',n_m);"
   ]
   }
,
{
		   "cell_type": "markdown",
		   "metadata": {},
		   "source": [
			"## Example 2.13: Calculate_the_refractive_indices.sce"
		   ]
		  },
  {
"cell_type": "code",
	   "execution_count": null,
	   "metadata": {
	    "collapsed": true
	   },
	   "outputs": [],
"source": [
"//Ex:2.13\n",
"clc;\n",
"clear;\n",
"close;\n",
"n_m=0.204;// numerical aperture\n",
"dl=0.01;// index difference\n",
"n1=n_m/(sqrt(2*dl));// core refractive index\n",
"n2=n1*(1-dl);// cladding refractive index\n",
"printf('core refractive index = %f',n1);\n",
"printf('\n cladding refractive index = %f',n2);"
   ]
   }
,
{
		   "cell_type": "markdown",
		   "metadata": {},
		   "source": [
			"## Example 2.14: calculate_the_critical_angle_and_numerical_aperture.sce"
		   ]
		  },
  {
"cell_type": "code",
	   "execution_count": null,
	   "metadata": {
	    "collapsed": true
	   },
	   "outputs": [],
"source": [
"//Ex:2.14\n",
"clc;\n",
"clear;\n",
"close;\n",
"n1=1.46;// core refractive index\n",
"dl=0.01;// index difference\n",
"n_2=n1-(n1*dl);// cladding refractive index\n",
"x_c=(asin(n_2/n1))*180/%pi;// critical angle in degree\n",
"n_m=sqrt(n1^2-n_2^2);// numerical aperture\n",
"printf('critical angle = %f degree',x_c);\n",
"printf('\n numerical aperture = %f',n_m);"
   ]
   }
,
{
		   "cell_type": "markdown",
		   "metadata": {},
		   "source": [
			"## Example 2.15: EX2_15.sce"
		   ]
		  },
  {
"cell_type": "code",
	   "execution_count": null,
	   "metadata": {
	    "collapsed": true
	   },
	   "outputs": [],
"source": [
"//Ex:2.15\n",
"clc;\n",
"clear;\n",
"close;\n",
"n1=1.50;// core refractive index\n",
"n2=1.45;// cladding refractive index\n",
"x_c=(asin(n2/n1))*180/%pi;// critical angle in degree\n",
"n_m=sqrt(n1^2-n2^2);// numerical aperture\n",
"x_a=(asin(n_m))*180/%pi;// acceptance angle in degree\n",
"n_c=(n_m)^2*100;// percentage of light\n",
"printf('critical angle=%f degree',x_c);\n",
"printf('\n acceptance angle=%f degree',x_a);\n",
"printf('\n numerical aperture=%f',n_m);\n",
"printf('\n percentage of light=%f%%',n_c);"
   ]
   }
,
{
		   "cell_type": "markdown",
		   "metadata": {},
		   "source": [
			"## Example 2.16: Estimate_the_NA_and_the_solid_acceptance_angle_and_critical_angle.sce"
		   ]
		  },
  {
"cell_type": "code",
	   "execution_count": null,
	   "metadata": {
	    "collapsed": true
	   },
	   "outputs": [],
"source": [
"//Ex:2.16\n",
"clc;\n",
"clear;\n",
"close;\n",
"n1=1.50;// core refractive index\n",
"dl=0.01;// index difference\n",
"n_m=n1*(sqrt(2*dl));// numerical aperture\n",
"x_a=%pi*(n_m)^2;// acceptance angle in radian\n",
"n2_1=1-dl;// the ratio of n2 to n1\n",
"x_c=(asin(n2_1))*180/%pi;// critical angle in degree\n",
"printf('numerical aperture=%f',n_m);\n",
"printf('\n acceptance angle=%f radian',x_a);\n",
"printf('\n critical angle=%f degree',x_c);"
   ]
   }
,
{
		   "cell_type": "markdown",
		   "metadata": {},
		   "source": [
			"## Example 2.1: Determine_the_critical_angle_and_the_numerical_aperture_and_acceptance_angle.sce"
		   ]
		  },
  {
"cell_type": "code",
	   "execution_count": null,
	   "metadata": {
	    "collapsed": true
	   },
	   "outputs": [],
"source": [
"//Ex:2_1\n",
"clc;\n",
"clear;\n",
"close;\n",
"n1=1.55;// core refractive index\n",
"n2=1.50;// cladding refractive index\n",
"x=asin(n2/n1); // Critical angle in radians\n",
"x1=x*180/(%pi);// Critical angle in degree\n",
"n_a=sqrt(n1^2-n2^2);// Numerical aperture\n",
"x_a=asin(n_a)*180/(%pi);\n",
"x_a1=ceil(x_a);// Acceptance angle in Degree\n",
"printf('Critical angle in degree= %f degree',x1);\n",
"printf('\n Numerical aperture= %f ',n_a);\n",
"printf('\n Acceptance angle in degree= %f degree',x_a1);"
   ]
   }
,
{
		   "cell_type": "markdown",
		   "metadata": {},
		   "source": [
			"## Example 2.2: Calculate_the_numerical_aperture.sce"
		   ]
		  },
  {
"cell_type": "code",
	   "execution_count": null,
	   "metadata": {
	    "collapsed": true
	   },
	   "outputs": [],
"source": [
"//Ex:2.2\n",
"clc;\n",
"clear;\n",
"close;\n",
"c=3*10^8;// speed of light in m/s\n",
"v=2*10^8;// in m/s\n",
"n1=c/v;\n",
"x=75;// in degree\n",
"n2=n1*sin((x*3.14/180));\n",
"n_2=1.44;\n",
"n_a=sqrt(n1^2-n_2^2);// numerical aperture\n",
"printf('Numerical aperture = %f',n_a);"
   ]
   }
,
{
		   "cell_type": "markdown",
		   "metadata": {},
		   "source": [
			"## Example 2.3: Find_the_numerical_aperture_and_acceptance_angle.sce"
		   ]
		  },
  {
"cell_type": "code",
	   "execution_count": null,
	   "metadata": {
	    "collapsed": true
	   },
	   "outputs": [],
"source": [
"//Ex:2.3\n",
"clc;\n",
"clear;\n",
"close;\n",
"n1=1.50;// core refractive index\n",
"n2=1.47;// cladding refractive index\n",
"dl=(n1-n2)/n1;\n",
"n_a=n1*(sqrt(2*dl));// numerical aperture\n",
"x_a=(asin(n_a))*180/%pi;// acceptance angle in degree\n",
"printf('Numerical aperture = %f',n_a);\n",
"printf('\n acceptance angle in degree = %f degree',x_a);"
   ]
   }
,
{
		   "cell_type": "markdown",
		   "metadata": {},
		   "source": [
			"## Example 2.4: Determine_the_numerical_aperture_and_acceptance_angle_and_critical_angle.sce"
		   ]
		  },
  {
"cell_type": "code",
	   "execution_count": null,
	   "metadata": {
	    "collapsed": true
	   },
	   "outputs": [],
"source": [
"//Ex:2.4\n",
"clc;\n",
"clear;\n",
"close;\n",
"n1=1.50;// core refractive index\n",
"n2=1.45;// cladding refractive index\n",
"dl=(n1-n2)/n1;\n",
"n_a=n1*(sqrt(2*dl));// numerical aperture\n",
"x_a=(asin(n_a))*180/%pi;// acceptance angle in degree\n",
"x_c=(asin(n2/n1))*180/3.14;// critical angle in degree\n",
"printf('Numerical aperture = %f',n_a);\n",
"printf('\n acceptance angle in degree = %f degree',x_a);\n",
"printf('\n critical angle in degree = %f degree',x_c);"
   ]
   }
,
{
		   "cell_type": "markdown",
		   "metadata": {},
		   "source": [
			"## Example 2.5: Determine_the_refractive_indices.sce"
		   ]
		  },
  {
"cell_type": "code",
	   "execution_count": null,
	   "metadata": {
	    "collapsed": true
	   },
	   "outputs": [],
"source": [
"//Ex:2.5\n",
"clc;\n",
"clear;\n",
"close;\n",
"dl=0.012;\n",
"n_a=0.22;// numerical aperture\n",
"n1=n_a/(sqrt(2*dl));// core refractive ondex\n",
"n2=n1-(dl*n1);// cladding refractive index\n",
"printf('core refractive ondex = %f',n1);\n",
"printf('\n cladding refractive index = %f',n2);"
   ]
   }
,
{
		   "cell_type": "markdown",
		   "metadata": {},
		   "source": [
			"## Example 2.6: Calculate_the_refractive_indices.sce"
		   ]
		  },
  {
"cell_type": "code",
	   "execution_count": null,
	   "metadata": {
	    "collapsed": true
	   },
	   "outputs": [],
"source": [
"//Ex:2.6\n",
"clc;\n",
"clear;\n",
"close;\n",
"dl=0.01;\n",
"n_a=0.35;// numerical aperture\n",
"n1=n_a/(sqrt(2*dl));// core refractive ondex\n",
"n2=n1-(dl*n1);// cladding refractive index\n",
"printf('core refractive ondex = %f',n1);\n",
"printf('\n cladding refractive index = %f',n2);"
   ]
   }
,
{
		   "cell_type": "markdown",
		   "metadata": {},
		   "source": [
			"## Example 2.7: Determine_the_acceptance_angle_and_critical_angle_and_number_of_modes.sce"
		   ]
		  },
  {
"cell_type": "code",
	   "execution_count": null,
	   "metadata": {
	    "collapsed": true
	   },
	   "outputs": [],
"source": [
"//Ex:2.7\n",
"clc;\n",
"clear;\n",
"close;\n",
"n2=1.59;// cladding refractive index\n",
"n_a=0.2;// numerical aperture\n",
"n1=sqrt(n2^2+n_a^2);// core refractive index\n",
"n_1=1.60;// core refractive index\n",
"n_o=1.33;\n",
"A=(sqrt(n_1^2-n2^2))/n_o;\n",
"x_a=(asin(A))*180/%pi;// acceptance angle in degree\n",
"x_c=(asin(n2/n1))*180/%pi;// critical angle in degree\n",
"y=1300*10^(-9);// in meter\n",
"a=25*10^(-6);// in meter\n",
"v=(2*%pi*a*n_a)/y;\n",
"V=floor(v);\n",
"M=V^2/2;// number of modes transmitted\n",
"printf('acceptance angle in degree = %f degree',x_a);\n",
"printf('\n critical angle in degree = %f degree',x_c);\n",
"printf('\n number of modes transmitted = %d',M);"
   ]
   }
,
{
		   "cell_type": "markdown",
		   "metadata": {},
		   "source": [
			"## Example 2.8: Find_the_numerical_aperture_and_max_angle.sce"
		   ]
		  },
  {
"cell_type": "code",
	   "execution_count": null,
	   "metadata": {
	    "collapsed": true
	   },
	   "outputs": [],
"source": [
"//Ex:2.8\n",
"clc;\n",
"clear;\n",
"close;\n",
"n1=1.50;// core refractive index\n",
"n2=1.47;// cladding refractive index\n",
"dl=(n1-n2)/n1;\n",
"n_a=n1*(sqrt(2*dl));// numerical aperture\n",
"x_e=(asin(n_a))*180/%pi;// the maximum entrance angle in degree\n",
"printf('Numerical aperture = %f',n_a);\n",
"printf('\n the maximum entrance angle in degree = %f degree',x_e);"
   ]
   }
,
{
		   "cell_type": "markdown",
		   "metadata": {},
		   "source": [
			"## Example 2.9: Calculate_the_numerical_aperture_and_acceptance_angle.sce"
		   ]
		  },
  {
"cell_type": "code",
	   "execution_count": null,
	   "metadata": {
	    "collapsed": true
	   },
	   "outputs": [],
"source": [
"//Ex:2.9\n",
"clc;\n",
"clear;\n",
"close;\n",
"n1=1.44;// core refractive index\n",
"dl=0.02;\n",
"n_a=n1*sqrt(2*dl);\n",
"n_a=n1*(sqrt(2*dl));// numerical aperture\n",
"x_a=(asin(n_a))*180/%pi;// acceptance angle in degree\n",
"printf('Numerical aperture = %f',n_a);\n",
"printf('\n acceptance angle in degree = %f degree',x_a);"
   ]
   }
],
"metadata": {
		  "kernelspec": {
		   "display_name": "Scilab",
		   "language": "scilab",
		   "name": "scilab"
		  },
		  "language_info": {
		   "file_extension": ".sce",
		   "help_links": [
			{
			 "text": "MetaKernel Magics",
			 "url": "https://github.com/calysto/metakernel/blob/master/metakernel/magics/README.md"
			}
		   ],
		   "mimetype": "text/x-octave",
		   "name": "scilab",
		   "version": "0.7.1"
		  }
		 },
		 "nbformat": 4,
		 "nbformat_minor": 0
}
