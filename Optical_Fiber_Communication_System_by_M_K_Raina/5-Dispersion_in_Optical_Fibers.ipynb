{
"cells": [
 {
		   "cell_type": "markdown",
	   "metadata": {},
	   "source": [
       "# Chapter 5: Dispersion in Optical Fibers"
	   ]
	},
{
		   "cell_type": "markdown",
		   "metadata": {},
		   "source": [
			"## Example 5.10: EX5_10.sce"
		   ]
		  },
  {
"cell_type": "code",
	   "execution_count": null,
	   "metadata": {
	    "collapsed": true
	   },
	   "outputs": [],
"source": [
"//Ex:5.10\n",
"clc;\n",
"clear;\n",
"close;\n",
"yo=1320;// zero dispersion wavelength in nm\n",
"y=1290;// dispersion wavelength in nm\n",
"so=0.092;// dispersion slop\n",
"dt=(y*so/4)*(1-(yo/y)^4);// toal first order dispersion at 1290 nm in ps/nm/km\n",
"yo1=1310;// zero dispersion wavelength in um\n",
"y1=1550;// dispersion wavelength in nm\n",
"so=0.092;// dispersion slop\n",
"dt1=(y1*so/4)*(1-(yo1/y1)^4);// toal first order dispersion at 1550 nm in ps/nm/km\n",
"DM=13.5;// profile dispersion in ps/nm/km\n",
"DP=0.4;// profile dispersion in ps/nm/km\n",
"DW=dt1-(DM+DP);// wavelength dispersion in ps/nm/km\n",
"printf('The toal first order dispersion at 1290 nm =%f ps/nm/km', dt);\n",
"printf('\n The toal first order dispersion at 1550 nm =%f ps/nm/km', dt1);\n",
"printf('\n The wavelength dispersion at 1550 nm =%f ps/nm/km', DW);"
   ]
   }
,
{
		   "cell_type": "markdown",
		   "metadata": {},
		   "source": [
			"## Example 5.11: EX5_11.sce"
		   ]
		  },
  {
"cell_type": "code",
	   "execution_count": null,
	   "metadata": {
	    "collapsed": true
	   },
	   "outputs": [],
"source": [
"//Ex:5.11\n",
"clc;\n",
"clear;\n",
"close;\n",
"L=6*10^-2;// beat length in m\n",
"dy=6*10^-9;// spectral width in m\n",
"y=1.3*10^-6;// operating wavelength in m\n",
"BF=y/(L);//model birefrigence in um\n",
"Lc=y^2/(BF*dy);// coherence length in m\n",
"db=2*3.14/(L);// difference beween two propagation constants\n",
"dB=(2*3.14*BF)/y;\n",
"printf('The model birefrigence =%f um', BF*10^6);\n",
"printf('\n The coherence length=%f m', Lc);\n",
"printf('\n The difference beween two propagation constants=%f', db);\n",
"printf('\n The difference beween two propagation constants=%f', dB);"
   ]
   }
,
{
		   "cell_type": "markdown",
		   "metadata": {},
		   "source": [
			"## Example 5.12: Find_the_model_birefrigence_and_interpret_the_length.sce"
		   ]
		  },
  {
"cell_type": "code",
	   "execution_count": null,
	   "metadata": {
	    "collapsed": true
	   },
	   "outputs": [],
"source": [
"//Ex:5.12\n",
"clc;\n",
"clear;\n",
"close;\n",
"y=0.85*10^-6;// operating wavelength in m\n",
"L=0.5*10^-3;// beat length in m\n",
"BF=y/(L);//model birefrigence in um\n",
"L1=75;// beat length in m\n",
"BF1=y/(L1);//model birefrigence in um\n",
"printf('The model birefrigenceat 0.5 nm =%f*10^-3', BF);\n",
"printf('\n The model birefrigence at 75 m =%f*10^-8 ', BF1*10^8);"
   ]
   }
,
{
		   "cell_type": "markdown",
		   "metadata": {},
		   "source": [
			"## Example 5.13: Find_the_beat_length_within_the_fiber.sce"
		   ]
		  },
  {
"cell_type": "code",
	   "execution_count": null,
	   "metadata": {
	    "collapsed": true
	   },
	   "outputs": [],
"source": [
"//Ex:5.13\n",
"clc;\n",
"clear;\n",
"close;\n",
"Lc=100000;// coherence length in m\n",
"y=1.32*10^-6;// operating wavelength in m\n",
"dy=1.5*10^-9;// spectral width in m\n",
"BF=y^2/(Lc*dy);//model birefrigence in um\n",
"L=y/BF;// beat length in m\n",
"printf('The beat length=%f m', L);"
   ]
   }
,
{
		   "cell_type": "markdown",
		   "metadata": {},
		   "source": [
			"## Example 5.14: Find_the_rms_intermodel_pulse_broadening.sce"
		   ]
		  },
  {
"cell_type": "code",
	   "execution_count": null,
	   "metadata": {
	    "collapsed": true
	   },
	   "outputs": [],
"source": [
"//Ex:5.14\n",
"clc;\n",
"clear;\n",
"close;\n",
"n1=1.46;// core refractive index\n",
"NA=0.25;// numerical aperture\n",
"c=3*10^5;// the speed of light km/s\n",
"L=7;// length in km\n",
"si=NA^2/(4*sqrt(3)*n1*c);//intermodel pulse broadening ns/km\n",
"st=si*L;//total intermodel pulse broadening\n",
"BW=0.187/st;// bandwidth in MHz\n",
"printf('The intermodel pulse broadening =%f ns/km', st*10^9);\n",
"printf('\n The bandwidth =%f MHz', BW/10^6);"
   ]
   }
,
{
		   "cell_type": "markdown",
		   "metadata": {},
		   "source": [
			"## Example 5.15: Compute_the_max_dispersio.sce"
		   ]
		  },
  {
"cell_type": "code",
	   "execution_count": null,
	   "metadata": {
	    "collapsed": true
	   },
	   "outputs": [],
"source": [
"//Ex:5.15\n",
"clc;\n",
"clear;\n",
"close;\n",
"n1=1.46;// core refractive index\n",
"df=0.025;\n",
"L=500;// length in m\n",
"c=3*10^8;// the speed of light in m/s\n",
"dt=(n1*L*df^2)/(8*c);// max dispersion in ns/m\n",
"printf('The  max dispersion =%f ns/m', dt*10^9);\n",
"printf('\n The answer in the textbook is wrong');"
   ]
   }
,
{
		   "cell_type": "markdown",
		   "metadata": {},
		   "source": [
			"## Example 5.16: Calculate_the_amount_of_material_dispersion.sce"
		   ]
		  },
  {
"cell_type": "code",
	   "execution_count": null,
	   "metadata": {
	    "collapsed": true
	   },
	   "outputs": [],
"source": [
"//Ex:5.16\n",
"clc;\n",
"clear;\n",
"close;\n",
"dy=15;// spectral width in nm\n",
"L=25;// optical length in km\n",
"ps=1.60;//pulse spreads in ns/km\n",
"pS=1.6;// pulse spreads in ns/km\n",
"d=pS/(dy*L);// material dispersion in ns/km^2/nm\n",
"printf('The  max dispersion =%f ns/km^2/nm', d);"
   ]
   }
,
{
		   "cell_type": "markdown",
		   "metadata": {},
		   "source": [
			"## Example 5.17: Calculate_the_intermodel_dispersion_of_a_step_index_fiber.sce"
		   ]
		  },
  {
"cell_type": "code",
	   "execution_count": null,
	   "metadata": {
	    "collapsed": true
	   },
	   "outputs": [],
"source": [
"//Ex:5.17\n",
"clc;\n",
"clear;\n",
"close;\n",
"n1=1.46;// core refractive index\n",
"NA=0.2;// numerical aperture\n",
"L=1.5*10^3;// length in m\n",
"c=3*10^8;// the spee of light in m/s\n",
"dt=(L*NA^2)/(2*c*n1);//intermodel dispersion in ns/km\n",
"printf('The intermodel dispersion =%f ns/km', dt*10^9);"
   ]
   }
,
{
		   "cell_type": "markdown",
		   "metadata": {},
		   "source": [
			"## Example 5.18: EX5_18.sce"
		   ]
		  },
  {
"cell_type": "code",
	   "execution_count": null,
	   "metadata": {
	    "collapsed": true
	   },
	   "outputs": [],
"source": [
"//Ex:3.18\n",
"clc;\n",
"clear;\n",
"close;\n",
"BLP=250*10^6;// bandwidth length product in Hz\n",
"tr=0.32/BLP;// intermodel pulse width broadening\n",
"md=75;// material dispersion in ps/nm.km\n",
"tm=2.25;//pulse broadening due to material dispersion in ns/km\n",
"tc=sqrt((tr*10^9)^2+tm^2);// combine pulse broadening in ns/km\n",
"Ba=0.32/tm*10^9;// actual BLP in Hz.km\n",
"Bac=Ba/10^6;// actual BLP in MHz.km\n",
"printf('The intermodel pulse width broadening =%f ns/km', tr*10^9);\n",
"printf('\n pulse broadening due to material dispersion =%f ns/km', tm);\n",
"printf('\n The combine pulse broadening =%f ns/km', tc);\n",
"printf('\n The actual BLP =%f MHz.km', Bac);"
   ]
   }
,
{
		   "cell_type": "markdown",
		   "metadata": {},
		   "source": [
			"## Example 5.19: Compute_the_material_dispersio.sce"
		   ]
		  },
  {
"cell_type": "code",
	   "execution_count": null,
	   "metadata": {
	    "collapsed": true
	   },
	   "outputs": [],
"source": [
"//Ex:5.19\n",
"clc;\n",
"clear;\n",
"close;\n",
"L=40;// length in m\n",
"Ny=.75;// in ps/nm\n",
"dy=8;// spectral width in nm\n",
"t_mat=L*Ny*dy;// chromatic/material dispersion in ps\n",
"t_mat1=t_mat/1000;// chromatic/material dispersion in ns\n",
"printf('The chromatic/material dispersion =%f ns', t_mat1);"
   ]
   }
,
{
		   "cell_type": "markdown",
		   "metadata": {},
		   "source": [
			"## Example 5.1: EX5_1.sce"
		   ]
		  },
  {
"cell_type": "code",
	   "execution_count": null,
	   "metadata": {
	    "collapsed": true
	   },
	   "outputs": [],
"source": [
"//Ex:5.1\n",
"clc;\n",
"clear;\n",
"close;\n",
"t=0.1*10^-6;// pulse broading in sec\n",
"d=12;// disance in km\n",
"B=1/(2*t);// max bandwidth MHz\n",
"ds=t/d;// dispersion in ns/km\n",
"bl=B*d;// bandwidth length product\n",
"printf('The max bandwidth =%d MHz', B/10^6);\n",
"printf('\n The dispersion =%f ns/km', ds*10^9);\n",
"printf('\n bandwidth length product =%d MHz km', bl/10^6);"
   ]
   }
,
{
		   "cell_type": "markdown",
		   "metadata": {},
		   "source": [
			"## Example 5.20: Calculate_the_pulse_width_of_the_received_signal_and_approximate_bit_rate.sce"
		   ]
		  },
  {
"cell_type": "code",
	   "execution_count": null,
	   "metadata": {
	    "collapsed": true
	   },
	   "outputs": [],
"source": [
"//Ex:5.20\n",
"clc;\n",
"clear;\n",
"close;\n",
"y=1.3;// operating wavelength in um\n",
"md=2.80;// material dispersion in ns\n",
"wd=0.50;// waveguide dispersion in ns\n",
"wt=0.60;// width of transmitted pulse in ns\n",
"td=sqrt(md^2+wd^2);// total dispersion in ns\n",
"dt=wt+td;// received pulse width in ns\n",
"br=1/(5*dt*10^-9);// max bit rate bit/sec\n",
"Br=br/10^6;// max bit rate in mbps\n",
"printf('The received pulse width =%f ns', dt);\n",
"printf('\n The  max bit rate =%f mbps', Br);"
   ]
   }
,
{
		   "cell_type": "markdown",
		   "metadata": {},
		   "source": [
			"## Example 5.21: Calculate_the_pulse_width_of_the_received_signal_and_approximate_bit_rate.sce"
		   ]
		  },
  {
"cell_type": "code",
	   "execution_count": null,
	   "metadata": {
	    "collapsed": true
	   },
	   "outputs": [],
"source": [
"//Ex:5.21\n",
"clc;\n",
"clear;\n",
"close;\n",
"y=0.85;// operating wavelength in um\n",
"md=2.75;// material dispersion in ns\n",
"wd=0.45;// waveguide dispersion in ns\n",
"wt=0.50;// width of transmitted pulse in ns\n",
"td=sqrt(md^2+wd^2);// total dispersion in ns\n",
"dt=wt+td;// received pulse width in ns\n",
"br=1/(5*dt*10^-9);// max bit rate bit/sec\n",
"Br=br/10^6;// max bit rate in mbps\n",
"printf('The received pulse width =%f ns', dt);\n",
"printf('\n The  max bit rate =%f mbps', Br);"
   ]
   }
,
{
		   "cell_type": "markdown",
		   "metadata": {},
		   "source": [
			"## Example 5.22: find_the_total_dispersion.sce"
		   ]
		  },
  {
"cell_type": "code",
	   "execution_count": null,
	   "metadata": {
	    "collapsed": true
	   },
	   "outputs": [],
"source": [
"//Ex:5.22\n",
"clc;\n",
"clear;\n",
"close;\n",
"n1=1.46;// core refractive index\n",
"df=0.025;\n",
"L=1500;// length in meter\n",
"c=3*10^8;// the speed of ligth in m/s\n",
"md=(n1*L*df)/(c*(1-df));// max dispersion in sec\n",
"Md=md*10^9;// max dispersion in ns\n",
"printf('The max dispersion =%d ns', Md);"
   ]
   }
,
{
		   "cell_type": "markdown",
		   "metadata": {},
		   "source": [
			"## Example 5.23: Find_the_intermodel_dispersion.sce"
		   ]
		  },
  {
"cell_type": "code",
	   "execution_count": null,
	   "metadata": {
	    "collapsed": true
	   },
	   "outputs": [],
"source": [
"//Ex:5.23\n",
"clc;\n",
"clear;\n",
"close;\n",
"n1=1.5;// core refractive index\n",
"L=1000;// length in meter\n",
"NA=0.22;// numerical aperture\n",
"dl=(NA/n1)^2/2;\n",
"c=3*10^8;// the speed of ligth in m/s\n",
"dt=(L*n1*dl)/c;//intermodel dispersion in sec\n",
"dT=dt*10^9;//intermodel dispersion in ns\n",
"printf('The max dispersion =%d ns', dT);"
   ]
   }
,
{
		   "cell_type": "markdown",
		   "metadata": {},
		   "source": [
			"## Example 5.24: Find_the_total_intermodal_and_intramodal_and_total_dispersion.sce"
		   ]
		  },
  {
"cell_type": "code",
	   "execution_count": null,
	   "metadata": {
	    "collapsed": true
	   },
	   "outputs": [],
"source": [
"//Ex:5.24\n",
"clc;\n",
"clear;\n",
"close;\n",
"w=30;// line width in nm\n",
"L=1.5;// length in km\n",
"d1=6;// in ns/km\n",
"d2=85;// in ps/km/nm\n",
"d3=d2/1000;// in ns/km/nm\n",
"dt=d1*L;// intermodel dispersion in ns\n",
"dt1=w*d3*L;// intramodel dispersion in ns\n",
"dT=sqrt(dt^2+dt1^2);// total dispersion in ns\n",
"printf('The max dispersion =%d ns', dt);\n",
"printf('\n The max dispersion =%f ns', dt1);\n",
"printf('\n The max dispersion =%f ns', dT);\n",
"printf('\n answer in the textbook is wrong');"
   ]
   }
,
{
		   "cell_type": "markdown",
		   "metadata": {},
		   "source": [
			"## Example 5.25: Find_the_intermodal_dispersion.sce"
		   ]
		  },
  {
"cell_type": "code",
	   "execution_count": null,
	   "metadata": {
	    "collapsed": true
	   },
	   "outputs": [],
"source": [
"//Ex:5.25\n",
"clc;\n",
"clear;\n",
"close;\n",
"n1=1.55;// core refractive index\n",
"n2=1.48;// cladding refractive index\n",
"l=150;//fiber length in m\n",
"c=3*10^8;//the speed of light in m/s\n",
"dl=(n1^2-n2^2)/(2*n1);\n",
"dL=0.068;\n",
"dt=(l*n1*dL)/(c);// intermodel dispersion in s\n",
"dT=dt*10^9;// intermodel dispersion in ns\n",
"printf('The intermodel dispersion =%f ns', dT);"
   ]
   }
,
{
		   "cell_type": "markdown",
		   "metadata": {},
		   "source": [
			"## Example 5.26: Find_the_intermodal_dispersion_per_km.sce"
		   ]
		  },
  {
"cell_type": "code",
	   "execution_count": null,
	   "metadata": {
	    "collapsed": true
	   },
	   "outputs": [],
"source": [
"//Ex:5.29\n",
"clc;\n",
"clear;\n",
"close;\n",
"n1=1.42;// core refractive index\n",
"dl=0.02;\n",
"c=3*10^8;//the speed of light in m/s\n",
"dt=(n1*dl)/c;// intermodel disersion in sec/m\n",
"dt1=dt*1000;// intermodel disersion in sec/km\n",
"dt2=dt1*10^9;// intermodel disersion in ns/km\n",
"printf('The intermodel dispersion per km =%f ns/km', dt2);"
   ]
   }
,
{
		   "cell_type": "markdown",
		   "metadata": {},
		   "source": [
			"## Example 5.27: Find_the_waveguide_dispersion_parameter_DW.sce"
		   ]
		  },
  {
"cell_type": "code",
	   "execution_count": null,
	   "metadata": {
	    "collapsed": true
	   },
	   "outputs": [],
"source": [
"//Exa:5.27\n",
"clc;\n",
"clear;\n",
"close;\n",
"printf('Dwg=n2*(dl/cy)*V(d^2(Vb)/dV^2)');\n",
"printf('\n Dwg=n2*(dl/cy)*V(d^2(V(1-exp(-V))))/dv^2');\n",
"printf('\n =CV(Z-V)exp(-V)');\n",
"printf('\n where C=n2(dl/cy)');\n",
"printf('\n waveguide dispersion will be zero , when V=2');"
   ]
   }
,
{
		   "cell_type": "markdown",
		   "metadata": {},
		   "source": [
			"## Example 5.28: Find_the_pulse_spreading_due_to_material_dispersion.sce"
		   ]
		  },
  {
"cell_type": "code",
	   "execution_count": null,
	   "metadata": {
	    "collapsed": true
	   },
	   "outputs": [],
"source": [
"//Ex:5.28\n",
"clc;\n",
"clear;\n",
"close;\n",
"y=900;// operating wavelength in nm\n",
"yo=1343;// wavelength in nm\n",
"so=0.095;// in ps/nm^2-km\n",
"L=150;// in km\n",
"dy=50;//in nm\n",
"Dy=(so*y/4)*(1-(yo/y)^4);// inps/nm-km\n",
"Dy1=Dy*(-1);// do not consider -ve sign\n",
"dt=Dy1*L*dy;// pulse spreading in ps\n",
"dt1=dt/1000;// pulse spreading in ns\n",
"printf('The pulse spreading =%f ns', dt1);"
   ]
   }
,
{
		   "cell_type": "markdown",
		   "metadata": {},
		   "source": [
			"## Example 5.29: Find_the_pulse_spread_due_to_material_and_waveguide_dispersion.sce"
		   ]
		  },
  {
"cell_type": "code",
	   "execution_count": null,
	   "metadata": {
	    "collapsed": true
	   },
	   "outputs": [],
"source": [
"//Ex:5.29\n",
"clc;\n",
"clear;\n",
"close;\n",
"n1=1.48;// core refractive index\n",
"y=900;// operating wavelength in nm\n",
"yo=1343;// wavelength in nm\n",
"so=0.095;// in ps/nm^2-km\n",
"L=1.5;// in km\n",
"dy=50;//in nm\n",
"dl=0.002;\n",
"c=3*10^8;// the speed of ligth in m/s\n",
"Dm=(so*y/4)*(1-(yo/y)^4);// inps/nm-km\n",
"Dm1=Dm*(-1);// do not consider -ve sign\n",
"Vd=0.26;\n",
"Dw=((n1*dl)/(c*y*10^-9))*(Vd);\n",
"DW=Dw*10^6;// in ps/nm-km\n",
"dt=DW*L*dy;// pulse spreading in ps\n",
"dt1=dt/100;// pulse spreading in ns\n",
"printf('The pulse spreading =%f ps', dt1);"
   ]
   }
,
{
		   "cell_type": "markdown",
		   "metadata": {},
		   "source": [
			"## Example 5.2: EX5_2.sce"
		   ]
		  },
  {
"cell_type": "code",
	   "execution_count": null,
	   "metadata": {
	    "collapsed": true
	   },
	   "outputs": [],
"source": [
"//Ex:5.2\n",
"clc;\n",
"clear;\n",
"close;\n",
"t=0.1*10^-6;// pulse broadening in sec\n",
"d=15;// disance in km\n",
"B=1/(2*t);// max bandwidth MHz\n",
"ds=t/d;// dispersion in ns/km\n",
"bl=B*d;// bandwidth length product\n",
"printf('The max bandwidth =%d MHz', B/10^6);\n",
"printf('\n The dispersion =%f ns/km', ds*10^9);\n",
"printf('\n bandwidth length product =%d MHz km', bl/10^6);"
   ]
   }
,
{
		   "cell_type": "markdown",
		   "metadata": {},
		   "source": [
			"## Example 5.30: calculate_wo_and_wp_for_operation_at_wavelength_is_1310_nm_and_1550_nm.sce"
		   ]
		  },
  {
"cell_type": "code",
	   "execution_count": null,
	   "metadata": {
	    "collapsed": true
	   },
	   "outputs": [],
"source": [
"//Ex:5.30\n",
"clc;\n",
"clear;\n",
"close;\n",
"a=4.1*10^-6;// core radius in um\n",
"dl=0.0036;\n",
"y1=1.310*10^-6;// operating wavelength in um\n",
"y2=1.550*10^-6;// operating wavelength in um\n",
"n1=1.4677;// core refrative index at y=1.310\n",
"n2=1.4682;// core refrative index at y=1.550\n",
"v1=(2*3.14*a*n1*sqrt(2*dl))/y1;// normalised frequency at y=1.310\n",
"v2=(2*3.14*a*n2*sqrt(2*dl))/y2;// normalised frequency at y=1.550\n",
"wo=a*(0.65+(1.619/v1^1.5)+2.879/v1^3);\n",
"wp=wo-a*(0.016+1.567/v1^7);\n",
"wo1=a*(0.65+(1.619/v2^1.5)+2.879/v2^3);\n",
"wp1=wo-a*(0.016+1.567/v2^7);\n",
"printf('The value of wo =%f um', wo*10^6);\n",
"printf('\n The value of wp =%f um', wp*10^6);\n",
"printf('\n The value of wo1 =%f um', wo1*10^6);\n",
"printf('\n The value of wp1 =%f um', wp1*10^6);"
   ]
   }
,
{
		   "cell_type": "markdown",
		   "metadata": {},
		   "source": [
			"## Example 5.31: calculate_the_range_of_the_propagation_constant_and_length_of_the_beat_length.sce"
		   ]
		  },
  {
"cell_type": "code",
	   "execution_count": null,
	   "metadata": {
	    "collapsed": true
	   },
	   "outputs": [],
"source": [
"//Ex:5.31\n",
"clc;\n",
"clear;\n",
"close;\n",
"y=1.30*10^-6;// operating wavelength in m\n",
"dn1=10^-6;\n",
"dn2=10^-5;\n",
"db1=(dn1*2*3.14)/y;// in per m\n",
"db2=(dn2*2*3.14)/y;// in per m\n",
"Lp1=(2*3.14)/(db1);// beat length in m\n",
"Lp2=(2*3.14)/(db2);// beat length in m\n",
"printf('The max core radius =%f um', db1);\n",
"printf('\n The max core radius =%f um', db2);\n",
"printf('\n The beat length =%f m', Lp1);\n",
"printf('\n The beat length =%f cm', Lp2*100);\n",
"printf('\n Hence, range of beat length; 13cm-1.3m');"
   ]
   }
,
{
		   "cell_type": "markdown",
		   "metadata": {},
		   "source": [
			"## Example 5.32: Estimate_the_waveguide_dispersionfor_the_given_fiber.sce"
		   ]
		  },
  {
"cell_type": "code",
	   "execution_count": null,
	   "metadata": {
	    "collapsed": true
	   },
	   "outputs": [],
"source": [
"//Ex:5.32\n",
"clc;\n",
"clear;\n",
"close;\n",
"n1=1.48;// core refractive index\n",
"dl=0.0027;\n",
"a=4.4*10^-6;// radius in m\n",
"y=1.32*10^-6;// operating wavelength in m\n",
"n2=n1*(1-dl);\n",
"c=3*10^8;// the speed of ligth in m/s\n",
"v=(2*3.14*a*n1*sqrt(2*dl))/y;\n",
"VD=0.080+0.549*(2.834-v)^2;\n",
"DW=(-1)*(n2*dl*VD)/(c*y);// wavelength dispersion in s /um/m\n",
"Dw=DW*10^6;// wavelength dispersion in ps /nm/km\n",
"printf('The wavelength dispersion =%f ps n/m/km', Dw);"
   ]
   }
,
{
		   "cell_type": "markdown",
		   "metadata": {},
		   "source": [
			"## Example 5.33: EX5_33.sce"
		   ]
		  },
  {
"cell_type": "code",
	   "execution_count": null,
	   "metadata": {
	    "collapsed": true
	   },
	   "outputs": [],
"source": [
"//Exa:5.33\n",
"clc;\n",
"clear;\n",
"close;\n",
"n1=1.48;// core refractive index\n",
"dl=0.01;// refractive index difference\n",
"c=3*10^8;// the speed of light in m/s\n",
"y=1.55;// wavelength in um\n",
"DM=7;// in ps/nm-km\n",
"DW=(-1)*DM;// in ps/nm-km\n",
"X=-10^12*(n1*dl)/(c*y);// in ps/nm/km\n",
"Z=(DW/X)-0.08;// \n",
"V=2.834-sqrt(Z/0.549);\n",
"a=(V*y)/(2*%pi*n1*sqrt(2*dl));// core radius in um\n",
"printf('The core radius =%f um', a);"
   ]
   }
,
{
		   "cell_type": "markdown",
		   "metadata": {},
		   "source": [
			"## Example 5.3: Calculate_the_Na_and_multipass_pulse_brodening_and_bandwidth_length_product.sce"
		   ]
		  },
  {
"cell_type": "code",
	   "execution_count": null,
	   "metadata": {
	    "collapsed": true
	   },
	   "outputs": [],
"source": [
"//Ex:5.3\n",
"clc;\n",
"clear;\n",
"close;\n",
"n1=1.465;// core refractive index\n",
"n2=1.45;// cladding refractive index\n",
"c=3*10^8;// the speed of light in m/s\n",
"NA=sqrt(n1^2-n2^2);// numerical aperture\n",
"Mp=(NA^2)/(2*n1*c);// multipath pulse broadening in ns/km\n",
"bl=(1/NA^2)*(2*n1*c);// bandwidth length product in GHz km\n",
"printf('The numerical aperture =%f', NA);\n",
"printf('\n The multipath pulse broadening =%f ns/km', Mp*10^9);\n",
"printf('\n The bandwidth length product =%d GHz km', bl/10^9);"
   ]
   }
,
{
		   "cell_type": "markdown",
		   "metadata": {},
		   "source": [
			"## Example 5.4: find_the_material_dispersion_and_estimate_also_the_rms_pulse_broadening.sce"
		   ]
		  },
  {
"cell_type": "code",
	   "execution_count": null,
	   "metadata": {
	    "collapsed": true
	   },
	   "outputs": [],
"source": [
"//Ex:5.4\n",
"clc;\n",
"clear;\n",
"close;\n",
"ds=0.020;// material dispersion\n",
"c=3*10^8;// the speed of light m/s\n",
"y=1.3;// wavelength in um\n",
"M=ds/(c*y);// material dispersion parameter in ps/nm/km\n",
"w=6;// spectral width in nm\n",
"l=1;// length in km\n",
"rm=w*l*M;// rms pulse broadening in ns/km\n",
"printf('The material dispersion parameter =%f ps/nm/km', M*10^12);\n",
"printf('\n The rms pulse broadening =%f ns/km',rm*10^9);"
   ]
   }
,
{
		   "cell_type": "markdown",
		   "metadata": {},
		   "source": [
			"## Example 5.5: Estimate_the_rms_pulse_broadening_per_km_of_the_fibers.sce"
		   ]
		  },
  {
"cell_type": "code",
	   "execution_count": null,
	   "metadata": {
	    "collapsed": true
	   },
	   "outputs": [],
"source": [
"//Ex:5.5\n",
"clc;\n",
"clear;\n",
"close;\n",
"wr=0.0014;// relative spectral width in nm\n",
"y=1.3*10^-6;// wavelength in m\n",
"w=wr*y;// spectral width in nm\n",
"ds=0.020;// material dispersion\n",
"c=3*10^8;// the speed of light in m/s\n",
"M=ds/(c*y);// material dispersion parameter in ps/nm/km\n",
"l=1;// length in km\n",
"rm=w*l*M;// rms pulse broadening in ns/km\n",
"printf('The rms pulse broadening =%f ns/km',rm*10^9*10^3);"
   ]
   }
,
{
		   "cell_type": "markdown",
		   "metadata": {},
		   "source": [
			"## Example 5.6: EX5_6.sce"
		   ]
		  },
  {
"cell_type": "code",
	   "execution_count": null,
	   "metadata": {
	    "collapsed": true
	   },
	   "outputs": [],
"source": [
"//Ex:5.6\n",
"clc;\n",
"clear;\n",
"close;\n",
"n1=1.46;// core refractive index\n",
"dl=0.01;// relative index difference\n",
"L=10*10^3;// optical length in meter\n",
"c=3*10^8;// the speed of light in m/s\n",
"dt=(L*n1*dl)/c;// delay difference in s\n",
"dT=dt*10^9;// delay difference in ns\n",
"rm=(L*n1*dl)/(2*sqrt(3)*c);// rms pulse broadening s\n",
"rM=rm*10^9;// rms pulse broadening ns\n",
"bt=0.2/rm;// max bit rate in bit/sec\n",
"bT=bt/10^6;// max bit rate in M bits/sec\n",
"bl=bt*L;// bandwidth length product in Hz meter\n",
"bL=(bt*L)/(10^6*10^3);// bandwidth length product in MHz km\n",
"printf('The delay difference =%d ns', dT);\n",
"printf('\n The rms pulse broadening =%f ns', rM);\n",
"printf('\n The max bit rate =%f M bits/sec', bT);\n",
"printf('\n The bandwidth length product =%f MHz km', bL);"
   ]
   }
,
{
		   "cell_type": "markdown",
		   "metadata": {},
		   "source": [
			"## Example 5.7: Estimate_the_max_bit_rate_assuming_only_intermodel_dispersion.sce"
		   ]
		  },
  {
"cell_type": "code",
	   "execution_count": null,
	   "metadata": {
	    "collapsed": true
	   },
	   "outputs": [],
"source": [
"//Ex:5.7\n",
"clc;\n",
"clear;\n",
"close;\n",
"n1=1.5;// core refractive index\n",
"dl=0.01;// relative index difference\n",
"L=6*10^3;// optical length in meter\n",
"c=3*10^8;// the speed of light in m/s\n",
"rm=(L*n1*dl)/(2*sqrt(3)*c);// rms pulse broadening s\n",
"rM=rm*10^9;// rms pulse broadening ns\n",
"bt=0.2/rm;// max bit rate in bit/sec\n",
"bT=bt/10^6;// max bit rate in M bits/sec\n",
"printf('The rms pulse broadening =%f ns', rM);\n",
"printf('\n The max bit rate =%f M bits/sec', bT);"
   ]
   }
,
{
		   "cell_type": "markdown",
		   "metadata": {},
		   "source": [
			"## Example 5.8: Find_the_delay_difference_and_rms_pulse_broadening_and_max_bit_rate.sce"
		   ]
		  },
  {
"cell_type": "code",
	   "execution_count": null,
	   "metadata": {
	    "collapsed": true
	   },
	   "outputs": [],
"source": [
"//Ex:5.8\n",
"clc;\n",
"clear;\n",
"close;\n",
"n1=1.4;// core refractive index\n",
"dl=0.012;// relative index difference\n",
"L=6*10^3;// optical length in meter\n",
"c=3*10^8;// the speed of light in m/s\n",
"dt=(L*n1*dl)/c;// delay difference in s\n",
"dT=dt*10^9;// delay difference in ns\n",
"rm=(L*n1*dl)/(2*sqrt(3)*c);// rms pulse broadening s\n",
"rM=rm*10^9;// rms pulse broadening ns\n",
"bt=0.2/rm;// max bit rate in bit/sec\n",
"bT=bt/10^6;// max bit rate in M bits/sec\n",
"printf('The delay difference =%d ns', dT);\n",
"printf('\n The rms pulse broadening =%f ns', rM);\n",
"printf('\n The max bit rate =%f M bits/sec', bT);"
   ]
   }
,
{
		   "cell_type": "markdown",
		   "metadata": {},
		   "source": [
			"## Example 5.9: Find_the_rms_pulse_broadening_and_Bandwidth_length_product_for_the_fiber.sce"
		   ]
		  },
  {
"cell_type": "code",
	   "execution_count": null,
	   "metadata": {
	    "collapsed": true
	   },
	   "outputs": [],
"source": [
"//Ex:5.9\n",
"clc;\n",
"clear;\n",
"close;\n",
"n1=1.5;// core refractive index\n",
"c=3*10^8;// the speed of light m/s\n",
"w=6*10^-6;// rms spectral width in m\n",
"M=200;// material dispersion parameter in ps/nm/km\n",
"NA=0.25;// numerical aperture\n",
"w=50;// spectral width in nm\n",
"L=1;// length in m\n",
"rm=w*L*M;// rms pulse broadening in s/km\n",
"rM=rm/10^3;// rms pulse broadening in ns/km due to material dispersion\n",
"rm1=(L*1000*(NA)^2)/(4*sqrt(3)*n1*c);//rms pulse broadening in ns/km due to material dispersion in sec/m\n",
"rM1=rm1*10^9;// rms pulse broadening in ns/km due to intermodel dispersion in ns/km\n",
"rmt=sqrt(rM^2+rM1^2);// total rms pulse broadening in ns/km\n",
"bl=0.2/(rmt*10^-9);// bandwidth length product in Hz km\n",
"bL=bl/10^6;// bandwidth length product in MHz km\n",
"printf('The total rms pulse broadening =%f ns/km',rmt);\n",
"printf('\n The bandwidth length product =%f MHz km',bL);"
   ]
   }
],
"metadata": {
		  "kernelspec": {
		   "display_name": "Scilab",
		   "language": "scilab",
		   "name": "scilab"
		  },
		  "language_info": {
		   "file_extension": ".sce",
		   "help_links": [
			{
			 "text": "MetaKernel Magics",
			 "url": "https://github.com/calysto/metakernel/blob/master/metakernel/magics/README.md"
			}
		   ],
		   "mimetype": "text/x-octave",
		   "name": "scilab",
		   "version": "0.7.1"
		  }
		 },
		 "nbformat": 4,
		 "nbformat_minor": 0
}
