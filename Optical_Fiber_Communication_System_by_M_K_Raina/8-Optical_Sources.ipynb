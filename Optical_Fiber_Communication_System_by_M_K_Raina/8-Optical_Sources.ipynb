{
"cells": [
 {
		   "cell_type": "markdown",
	   "metadata": {},
	   "source": [
       "# Chapter 8: Optical Sources"
	   ]
	},
{
		   "cell_type": "markdown",
		   "metadata": {},
		   "source": [
			"## Example 8.10: Find_the_external_power_efficiency_of_the_device.sce"
		   ]
		  },
  {
"cell_type": "code",
	   "execution_count": null,
	   "metadata": {
	    "collapsed": true
	   },
	   "outputs": [],
"source": [
"//Ex:8.10\n",
"clc;\n",
"clear;\n",
"close;\n",
"nt=0.20;// total efficiency\n",
"Eg=1.43;// bandgap energy in eV\n",
"V=2.2;// applied voltage in volts\n",
"nep=(nt*Eg)/V;// external power efficiency\n",
"Nep=nep*100;// percentage of external power efficiency\n",
"printf('The external power efficiency =%f %%', Nep);"
   ]
   }
,
{
		   "cell_type": "markdown",
		   "metadata": {},
		   "source": [
			"## Example 8.11: Calculate_the_divergence_angle_of_LED.sce"
		   ]
		  },
  {
"cell_type": "code",
	   "execution_count": null,
	   "metadata": {
	    "collapsed": true
	   },
	   "outputs": [],
"source": [
"//Ex:8.11\n",
"clc;\n",
"clear;\n",
"close;\n",
"h=0.35*10^-3;// irradiance W/cm^2\n",
"po=0.45*10^-3;// power output in watt\n",
"d=1.5;// separation distance in cm\n",
"x=sqrt((4*po)/(3.14*d^2*h));// divergence angle in radians\n",
"X=(x*180)/3.14;// divergence angle in degree\n",
"printf('The divergence angle =%f degree ', X);"
   ]
   }
,
{
		   "cell_type": "markdown",
		   "metadata": {},
		   "source": [
			"## Example 8.12: Calculate_the_irradiance_at_the_detector.sce"
		   ]
		  },
  {
"cell_type": "code",
	   "execution_count": null,
	   "metadata": {
	    "collapsed": true
	   },
	   "outputs": [],
"source": [
"//Ex:8.12\n",
"clc;\n",
"clear;\n",
"close;\n",
"ni=0.09;// normal efficiency\n",
"d=2*2.54;// separation distance in cm\n",
"x=0.2;// divergence angle in radians\n",
"vf=2.0;// forward voltage in volts\n",
"i_f=65*10^-3;// forward current in amp\n",
"pi=vf*i_f;// input power in Watt\n",
"po=ni*pi;// output power in Watt\n",
"H=4*po/(3.14*d^2*x^2);// irradiance in watt/cm^2\n",
"H1=H*1000;// irradiance in mwatt/cm^2\n",
"printf('The irradiance =%f mwatt/cm^2 ', H1);"
   ]
   }
,
{
		   "cell_type": "markdown",
		   "metadata": {},
		   "source": [
			"## Example 8.13: Calculate_the_internal_quantum_efficiency_for_an_LED.sce"
		   ]
		  },
  {
"cell_type": "code",
	   "execution_count": null,
	   "metadata": {
	    "collapsed": true
	   },
	   "outputs": [],
"source": [
"//Ex:8.13\n",
"clc;\n",
"clear;\n",
"close;\n",
"tr=3.5;// relative life time in ms\n",
"tnr=50;// nonrelative life time in ms\n",
"ni=tnr/(tr+tnr);// internal quantam efficiency\n",
"printf('The internal quantam efficiency =%f %%', ni*100);"
   ]
   }
,
{
		   "cell_type": "markdown",
		   "metadata": {},
		   "source": [
			"## Example 8.14: EX8_14.sce"
		   ]
		  },
  {
"cell_type": "code",
	   "execution_count": null,
	   "metadata": {
	    "collapsed": true
	   },
	   "outputs": [],
"source": [
"//Ex:8.14\n",
"clc;\n",
"clear;\n",
"close;\n",
"ni=0.15;// internal quantam efficiency\n",
"vf=2.0;// forward voltage in volts\n",
"i_f=15*10^-3;// forward current in amp\n",
"x=25;// acceptance angle in degree\n",
"pi=vf*i_f;// input power in Watt\n",
"po=ni*pi;// output power in Watt\n",
"NA=(sin(x*3.14/180));\n",
"nc=NA^2;// numerical aperture\n",
"pf=nc*po;// optical power coupled into optical fiber in w\n",
"printf('The optical power coupled into optical fiber =%f mW ', pf*1000);"
   ]
   }
,
{
		   "cell_type": "markdown",
		   "metadata": {},
		   "source": [
			"## Example 8.15: Calculate_the_radiative_life_time.sce"
		   ]
		  },
  {
"cell_type": "code",
	   "execution_count": null,
	   "metadata": {
	    "collapsed": true
	   },
	   "outputs": [],
"source": [
"//Ex:8.15\n",
"clc;\n",
"clear;\n",
"close;\n",
"tnr=10;// nonrediative life time in ns\n",
"n_inj=0.80;// injection efficiency\n",
"n_ex=0.60;// extraction efficiency\n",
"nt=0.025;// total efficiency\n",
"nr=nt/(n_inj*n_ex);// non rediative life time in ns\n",
"tr=((1/nr)-1)*tnr;// rediative life time in ns\n",
"printf('The rediative life time =%d ns', tr);"
   ]
   }
,
{
		   "cell_type": "markdown",
		   "metadata": {},
		   "source": [
			"## Example 8.16: Calculate_the_bandwidth_of_the_LED_with_a_rise_time_of_30_ns.sce"
		   ]
		  },
  {
"cell_type": "code",
	   "execution_count": null,
	   "metadata": {
	    "collapsed": true
	   },
	   "outputs": [],
"source": [
"//Ex:8.16\n",
"clc;\n",
"clear;\n",
"close;\n",
"tr=30*10^-9;// rise time in s\n",
"Bw=0.35/tr;// bandwidth in Hz\n",
"printf('The bandwidth =%f MHz', Bw/10^6);"
   ]
   }
,
{
		   "cell_type": "markdown",
		   "metadata": {},
		   "source": [
			"## Example 8.17: Compute_the_divergence_angle.sce"
		   ]
		  },
  {
"cell_type": "code",
	   "execution_count": null,
	   "metadata": {
	    "collapsed": true
	   },
	   "outputs": [],
"source": [
"//Ex:8.17\n",
"clc;\n",
"clear;\n",
"close;\n",
"y=630*10^-9;// operating wavelength in m\n",
"w=25*10^-6;// spot size in m\n",
"x=2*y/(3.14*w);// divergence angle in radians\n",
"x1=x*180/3.14;//  divergence angle in degree\n",
"printf('The  divergence angle =%f radians', x);\n",
"printf('\n The  divergence angle =%f degree', x1);"
   ]
   }
,
{
		   "cell_type": "markdown",
		   "metadata": {},
		   "source": [
			"## Example 8.18: calculate_the_energy_in_electron_volts_associated_with_light_source.sce"
		   ]
		  },
  {
"cell_type": "code",
	   "execution_count": null,
	   "metadata": {
	    "collapsed": true
	   },
	   "outputs": [],
"source": [
"//Ex:8.18\n",
"clc;\n",
"clear;\n",
"close;\n",
"y1=550*10^-3;// peak of eyes response in um\n",
"y2=10.6;// standard wavelength in um\n",
"y3=2.39;// predominant IR line of He-Ne laser in um\n",
"E1=1.24/y1;// energy in electron volts\n",
"E2=1.24/y2;// energy in electron volts\n",
"E3=1.24/y3;// energy in electron volts\n",
"printf('The  energy =%f electron volts', E1);\n",
"printf('\n The energy =%f electron volts', E2);\n",
"printf('\n The energy =%f electron volts', E3);"
   ]
   }
,
{
		   "cell_type": "markdown",
		   "metadata": {},
		   "source": [
			"## Example 8.19: Calculate_the_cut_off_wavelength_of_GaAs_material.sce"
		   ]
		  },
  {
"cell_type": "code",
	   "execution_count": null,
	   "metadata": {
	    "collapsed": true
	   },
	   "outputs": [],
"source": [
"//Ex:8.19\n",
"clc;\n",
"clear;\n",
"close;\n",
"Eg=1.4;// energy in electron volts\n",
"y=1.24/Eg;// cut off wavelength in um\n",
"y1=y*1000;// cut off wavelength in nm\n",
"printf('The  cut off wavelength =%d nm', y1);"
   ]
   }
,
{
		   "cell_type": "markdown",
		   "metadata": {},
		   "source": [
			"## Example 8.1: EX8_1.sce"
		   ]
		  },
  {
"cell_type": "code",
	   "execution_count": null,
	   "metadata": {
	    "collapsed": true
	   },
	   "outputs": [],
"source": [
"//Ex:8.1\n",
"clc;\n",
"clear;\n",
"close;\n",
"tr=40;// rediative life time in ns\n",
"tnr=60;// nonrediative life time in ns\n",
"i=35*10^-3;// drive current in amp\n",
"y=0.85*10^-6;// wavelength in m\n",
"h=6.626*10^-34;// plank constant\n",
"c=3*10^8;// the speed of light in m/s\n",
"e=1.602*10^-19;// charge\n",
"t=tr*tnr/(tr+tnr);// total carrier recombination lifetime ns\n",
"ni=t/tr;// internal quantam efficiency\n",
"pi=(ni*h*c*i)/(e*y);// internal power in watt\n",
"p_int=pi*10^3;// internal power in mW\n",
"printf('The total carrier recombination lifetime =%d ns', t);\n",
"printf('\n The internal power =%f mW', p_int);\n",
"printf('\n the answer is wrong in textbook');"
   ]
   }
,
{
		   "cell_type": "markdown",
		   "metadata": {},
		   "source": [
			"## Example 8.20: calculate_the_corresponding_divergence_angle.sce"
		   ]
		  },
  {
"cell_type": "code",
	   "execution_count": null,
	   "metadata": {
	    "collapsed": true
	   },
	   "outputs": [],
"source": [
"//Ex:8.20\n",
"clc;\n",
"clear;\n",
"close;\n",
"y=1200*10^-9;// operating wavelength in m\n",
"w=5*10^-6;// spot size in m\n",
"x=2*y/(3.14*w);// divergence angle in radians\n",
"x1=x*180/3.14;//  divergence angle in degree\n",
"printf('The  divergence angle =%f radians', x);\n",
"printf('\n The  divergence angle =%f degree', x1);"
   ]
   }
,
{
		   "cell_type": "markdown",
		   "metadata": {},
		   "source": [
			"## Example 8.21: Calculate_the_max_angle_of_acceptance_and_the_coupling_efficiency_of_the_fiber.sce"
		   ]
		  },
  {
"cell_type": "code",
	   "execution_count": null,
	   "metadata": {
	    "collapsed": true
	   },
	   "outputs": [],
"source": [
"//Ex:8.21\n",
"clc;\n",
"clear;\n",
"close;\n",
"n1=1.48;// core refractive index\n",
"n2=1.46;// cladding refractive index \n",
"NA=sqrt(n1^2-n2^2);// numerical aperture\n",
"xa=(asin(NA))*(180/%pi);// acceptance angle in degree\n",
"nc=NA^2;// coupling efficiency\n",
"printf('The  acceptance angle =%f degree', xa);\n",
"printf('\n The coupling efficiency =%f %%', nc*100);"
   ]
   }
,
{
		   "cell_type": "markdown",
		   "metadata": {},
		   "source": [
			"## Example 8.22: Calculate_the_frequency_separation_of_the_resonant_modes_of_a_GaAs_laser.sce"
		   ]
		  },
  {
"cell_type": "code",
	   "execution_count": null,
	   "metadata": {
	    "collapsed": true
	   },
	   "outputs": [],
"source": [
"//Ex:8.22\n",
"clc;\n",
"clear;\n",
"close;\n",
"c=3*10^8;// speed of light in m/s\n",
"n=3.66;// for GaAs\n",
"L=150*10^-6;// cavity length in m\n",
"dv=c/(2*n*L);//frequency separation in Hz\n",
"dv1=dv/10^12;// frequency separation in GHz\n",
"h=6.64*10^-34;// plank constant\n",
"q=1.6*10^-19;// charge of an electron\n",
"dE=(h*dv)/q;// energy separation eV\n",
"printf('The frequency separation =%f GHz', dv1);\n",
"printf('\n The energy separation =%f meV', dE*1000);"
   ]
   }
,
{
		   "cell_type": "markdown",
		   "metadata": {},
		   "source": [
			"## Example 8.23: Find_the_LED_conversion_efficiency_from_electrical_to_optical_power.sce"
		   ]
		  },
  {
"cell_type": "code",
	   "execution_count": null,
	   "metadata": {
	    "collapsed": true
	   },
	   "outputs": [],
"source": [
"//Ex:8.23\n",
"clc;\n",
"clear;\n",
"close;\n",
"po=2*10^-3;// optical power in watts\n",
"I=100*10^-3;// current in amp\n",
"V=2;// applied voltage in volt\n",
"pe=I*V;// electrical power in watts\n",
"n=(po/pe)*100;// conversion efficiency\n",
"printf('The conversion efficiency =%d %%', n);"
   ]
   }
,
{
		   "cell_type": "markdown",
		   "metadata": {},
		   "source": [
			"## Example 8.24: Find_the_wavelength_of_optical_emission_and_determine_its_live_width_in_Hz.sce"
		   ]
		  },
  {
"cell_type": "code",
	   "execution_count": null,
	   "metadata": {
	    "collapsed": true
	   },
	   "outputs": [],
"source": [
"//Ex:8.24\n",
"clc;\n",
"clear;\n",
"close;\n",
"c=3*10^8;// speed of light in m/s\n",
"h=6.64*10^-34;// plank constant\n",
"Eg=1.43;// gap energy in eV\n",
"y=(1.24*10^-6)/Eg;// wavelength in m\n",
"dy=0.1*10^-9;// in m\n",
"df=(dy*c)/y^2;// width in Hz\n",
"printf('The wavelength =%f um', y*10^6);\n",
"printf('\n The width =%d GHz', df/10^9);"
   ]
   }
,
{
		   "cell_type": "markdown",
		   "metadata": {},
		   "source": [
			"## Example 8.25: EX8_25.sce"
		   ]
		  },
  {
"cell_type": "code",
	   "execution_count": null,
	   "metadata": {
	    "collapsed": true
	   },
	   "outputs": [],
"source": [
"//Ex:8.25\n",
"clc;\n",
"clear;\n",
"close;\n",
"tr=25;// rediative life time in ns\n",
"tnr=90;// nonrediative life time in ns\n",
"i=3.5*10^-3;// drive current in amp\n",
"y=1.31*10^-6;// wavelength in m\n",
"h=6.625*10^-34;// plank constant\n",
"c=3*10^8;// the speed of light in m/s\n",
"e=1.6*10^-19;// charge\n",
"t=tr*tnr/(tr+tnr);// total carrier recombination lifetime ns\n",
"ni=t/tr;// internal quantam efficiency\n",
"pi=(ni*h*c*i)/(e*y);// internal power in watt\n",
"p_int=pi*10^3;// internal power in mW\n",
"P=p_int/(ni*(ni+1));// power emitted in mW\n",
"printf('The total carrier recombination lifetime =%f ns', t);\n",
"printf('\n The internal quantam efficiency =%f ', ni);\n",
"printf('\n The internal power =%f mW', p_int);\n",
"printf('\n The power emitted =%f mW', P);"
   ]
   }
,
{
		   "cell_type": "markdown",
		   "metadata": {},
		   "source": [
			"## Example 8.26: calculate_the_external_power_efficiency_of_the_device.sce"
		   ]
		  },
  {
"cell_type": "code",
	   "execution_count": null,
	   "metadata": {
	    "collapsed": true
	   },
	   "outputs": [],
"source": [
"//Ex:8.26\n",
"clc;\n",
"clear;\n",
"close;\n",
"nt=0.18;// total efficiency\n",
"Eg=1.43;// band gape energy eV\n",
"V=2.5;// appied voltage in volt\n",
"n_ex=(nt*(Eg/V))*100;// external efficiency\n",
"printf('The external efficiency =%f %%', n_ex);"
   ]
   }
,
{
		   "cell_type": "markdown",
		   "metadata": {},
		   "source": [
			"## Example 8.27: Determine_the_length_of_the_optical_cavity_and_the_longitudinal_modes_emitted.sce"
		   ]
		  },
  {
"cell_type": "code",
	   "execution_count": null,
	   "metadata": {
	    "collapsed": true
	   },
	   "outputs": [],
"source": [
"//Ex:8.27\n",
"clc;\n",
"clear;\n",
"close;\n",
"c=3*10^8;// speed of light in m/s\n",
"n=3.6;// for GaAs\n",
"df=278*10^9;// separation in Hz\n",
"y=0.87*10^-6;// wavelength in m\n",
"L=c/(2*n*df);// cavity length in m\n",
"l=L*10^6;// cavity length in um\n",
"L1=floor(l)*10^-6;// cavity length in m\n",
"q=(2*n*L1)/y;// number of longitudinal modes\n",
"printf('The cavity length =%d um', l);\n",
"printf('\n The number of longitudinal modes =%d', q);"
   ]
   }
,
{
		   "cell_type": "markdown",
		   "metadata": {},
		   "source": [
			"## Example 8.28: find_the_optical_loss_in_dB.sce"
		   ]
		  },
  {
"cell_type": "code",
	   "execution_count": null,
	   "metadata": {
	    "collapsed": true
	   },
	   "outputs": [],
"source": [
"//Ex:8.28\n",
"clc;\n",
"clear;\n",
"close;\n",
"ac=14;// acceptance angle in degree\n",
"nc=(sin(ac*3.14/180))^2;// coupling efficiency\n",
"l_s=-10*log(nc)/log(10);// loss in decibels\n",
"printf('The coupling efficiency =%f', nc);\n",
"printf('\n The loss =%f decibels', l_s);"
   ]
   }
,
{
		   "cell_type": "markdown",
		   "metadata": {},
		   "source": [
			"## Example 8.29: What_are_the_frequency_and_wavelength_spacings.sce"
		   ]
		  },
  {
"cell_type": "code",
	   "execution_count": null,
	   "metadata": {
	    "collapsed": true
	   },
	   "outputs": [],
"source": [
"//Ex:8.29\n",
"clc;\n",
"clear;\n",
"close;\n",
"c=3*10^8;// speed of light in m/s\n",
"n=3.7;// for GaAs\n",
"L=500*10^-6;// cavity length in m\n",
"y=850*10^-9;//\n",
"df=c/(2*n*L);//frequency separation in Hz\n",
"df1=df/10^9;// frequency separation in GHz\n",
"dy=(y*y)/(2*L*n);// wavelength in m\n",
"dy1=dy*10^9;// wavelength in nm\n",
"printf('The frequency separation =%d GHz', df1);\n",
"printf('\n The wavelength separation =%f nm', dy1);"
   ]
   }
,
{
		   "cell_type": "markdown",
		   "metadata": {},
		   "source": [
			"## Example 8.2: Find_the_peak_emissionwavelength_from_the_device.sce"
		   ]
		  },
  {
"cell_type": "code",
	   "execution_count": null,
	   "metadata": {
	    "collapsed": true
	   },
	   "outputs": [],
"source": [
"//Ex:8.2\n",
"clc;\n",
"clear;\n",
"close;\n",
"tr=30;// rediative life time in ns\n",
"tnr=50;// nonrediative life time in ns\n",
"i=40*10^-3;// drive current in amp\n",
"pi=28.4*10^-3;// internal power in watt\n",
"h=6.626*10^-34;// plank constant\n",
"c=3*10^8;// the speed of light in m/s\n",
"e=1.602*10^-19;// charge\n",
"t=tr*tnr/(tr+tnr);// total carrier recombination lifetime ns\n",
"ni=t/tr;// internal quantam efficiency\n",
"y=(ni*h*c*i)/(e*pi);// peak emission wavelength in m\n",
"printf('The total carrier recombination lifetime =%f ns', t);\n",
"printf('\n The peak emission wavelength =%f um', y*10^6);"
   ]
   }
,
{
		   "cell_type": "markdown",
		   "metadata": {},
		   "source": [
			"## Example 8.3: Find_the_external_power_efficiency_of_a_GaAs_planar_LED.sce"
		   ]
		  },
  {
"cell_type": "code",
	   "execution_count": null,
	   "metadata": {
	    "collapsed": true
	   },
	   "outputs": [],
"source": [
"//Ex:8.3\n",
"clc;\n",
"clear;\n",
"close;\n",
"nx=3.6;// refractive index\n",
"Fn=0.68;// transmission factor\n",
"pe_pi=(Fn)/(4*nx^2);\n",
"pi_p=0.3;\n",
"nep=pe_pi*pi_p;// external power efficiency\n",
"printf('The external power efficiency =%f %%', nep*100);"
   ]
   }
,
{
		   "cell_type": "markdown",
		   "metadata": {},
		   "source": [
			"## Example 8.4: EX8_4.sce"
		   ]
		  },
  {
"cell_type": "code",
	   "execution_count": null,
	   "metadata": {
	    "collapsed": true
	   },
	   "outputs": [],
"source": [
"//Ex:8.4\n",
"clc;\n",
"clear;\n",
"close;\n",
"n=3.6;// core refractive index\n",
"NA=0.15;// numerical aperture\n",
"nc=NA^2;// coupling efficiency\n",
"l_s=-10*log(nc)/log(10);// loss in db\n",
"pe_pi=0.023*0.0013;// from ex 8.3\n",
"pc=-10*log(pe_pi)/log(10);// loss in decibels relative to Pint\n",
"printf('The coupling efficiency =%f %%', nc*100);\n",
"printf('\n The loss =%f db', l_s);\n",
"printf('\n The loss in decibels relative to Pint=%f db', pc);"
   ]
   }
,
{
		   "cell_type": "markdown",
		   "metadata": {},
		   "source": [
			"## Example 8.5: Calculate_the_optical_power_coupled_into_a_200_um_diameter.sce"
		   ]
		  },
  {
"cell_type": "code",
	   "execution_count": null,
	   "metadata": {
	    "collapsed": true
	   },
	   "outputs": [],
"source": [
"//Ex:8.5\n",
"clc;\n",
"clear;\n",
"close;\n",
"r=45*10^-6;// radius in m\n",
"NA=0.3;// numerical aperture\n",
"rd=40;// radiance\n",
"A=3.14*(r*100)^2;// area in cm^2\n",
"pe=3.14*(1-r)*A*rd*NA^2;// optical power coupled into the fiber\n",
"Pe=pe*10^4;// optical power coupled into the fiber uW\n",
"printf('The optical power coupled into the fiber =%f uW', Pe);"
   ]
   }
,
{
		   "cell_type": "markdown",
		   "metadata": {},
		   "source": [
			"## Example 8.6: What_will_be_the_overall_efficiency_when_the_frwd_voltage_across_the_diode_is_2V.sce"
		   ]
		  },
  {
"cell_type": "code",
	   "execution_count": null,
	   "metadata": {
	    "collapsed": true
	   },
	   "outputs": [],
"source": [
"//Ex:8.6\n",
"clc;\n",
"clear;\n",
"close;\n",
"pc=150*10^-6;// coupling power W\n",
"p=20*10^-3*2;// optical power W\n",
"npc=pc/p;// overall efficiency\n",
"Npc=npc*100;// percentage of overall efficiency\n",
"printf('The percentage of overall efficiency =%f %%', Npc);"
   ]
   }
,
{
		   "cell_type": "markdown",
		   "metadata": {},
		   "source": [
			"## Example 8.7: Find_the_number_of_longitudinal_modes_of_a_ruby_laser.sce"
		   ]
		  },
  {
"cell_type": "code",
	   "execution_count": null,
	   "metadata": {
	    "collapsed": true
	   },
	   "outputs": [],
"source": [
"//Ex:8.7\n",
"clc;\n",
"clear;\n",
"close;\n",
"n=1.5;// refractive index\n",
"L=0.05;// crystal length in m\n",
"y=0.5*10^-6;// wavelength in m\n",
"c=3*10^8;// speed of light in m/s\n",
"q=2*n*L/y;// the number of longitudinal modes\n",
"df=c/(2*n*L);// frequency separation of the modes in Hz\n",
"Df=df/10^9;// frequency separation of the modes in GHz\n",
"printf('The number of longitudinal modes =%f', q);\n",
"printf('\n The frequency separation of the modes =%f GHz', Df);"
   ]
   }
,
{
		   "cell_type": "markdown",
		   "metadata": {},
		   "source": [
			"## Example 8.8: Find_the_wavelength_of_optical_emission_from_the_device.sce"
		   ]
		  },
  {
"cell_type": "code",
	   "execution_count": null,
	   "metadata": {
	    "collapsed": true
	   },
	   "outputs": [],
"source": [
"//Ex:8.8\n",
"clc;\n",
"clear;\n",
"close;\n",
"Eg=1.43;// bandgap energy in eV\n",
"dy=0.15*10^-9;\n",
"c=3*10^8;// speed of light in m/s\n",
"y=1.24/Eg;// in um\n",
"y1=y*10^-6;// wavelength of optical emission in m\n",
"df=(c*dy)/(y1^2);// the line width in Hz\n",
"Df=df/10^9;// the line width in GHz\n",
"printf('The wavelength of optical emission  =%f um', y);\n",
"printf('\n The frequency separation of the modes =%d GHz', Df);"
   ]
   }
,
{
		   "cell_type": "markdown",
		   "metadata": {},
		   "source": [
			"## Example 8.9: EX8_9.sce"
		   ]
		  },
  {
"cell_type": "code",
	   "execution_count": null,
	   "metadata": {
	    "collapsed": true
	   },
	   "outputs": [],
"source": [
"//Ex:8.9\n",
"clc;\n",
"clear;\n",
"close;\n",
"n=3.6;// refractive index\n",
"c=3*10^8;// speed of light in m/s\n",
"y=0.85*10^-6;// wavelength in m\n",
"df=275*10^9;// frequency separation of the modes in Hz\n",
"L=c/(2*n*df);// crystal length in m\n",
"L1=L*10^6;// crystal length in um\n",
"q=2*n*L/y;// the number of longitudinal modes\n",
"printf('The crystal length =%f um', L1);\n",
"printf('\n The the number of longitudinal modes =%d', q);\n",
"printf('\n answer is wrong in textbook');"
   ]
   }
],
"metadata": {
		  "kernelspec": {
		   "display_name": "Scilab",
		   "language": "scilab",
		   "name": "scilab"
		  },
		  "language_info": {
		   "file_extension": ".sce",
		   "help_links": [
			{
			 "text": "MetaKernel Magics",
			 "url": "https://github.com/calysto/metakernel/blob/master/metakernel/magics/README.md"
			}
		   ],
		   "mimetype": "text/x-octave",
		   "name": "scilab",
		   "version": "0.7.1"
		  }
		 },
		 "nbformat": 4,
		 "nbformat_minor": 0
}
