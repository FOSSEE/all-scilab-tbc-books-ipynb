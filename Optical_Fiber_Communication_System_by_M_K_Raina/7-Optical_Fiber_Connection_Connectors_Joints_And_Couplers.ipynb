{
"cells": [
 {
		   "cell_type": "markdown",
	   "metadata": {},
	   "source": [
       "# Chapter 7: Optical Fiber Connection Connectors Joints And Couplers"
	   ]
	},
{
		   "cell_type": "markdown",
		   "metadata": {},
		   "source": [
			"## Example 7.10: Find_the_insertion_loss_due_to_misalignment_assuming_index_matching.sce"
		   ]
		  },
  {
"cell_type": "code",
	   "execution_count": null,
	   "metadata": {
	    "collapsed": true
	   },
	   "outputs": [],
"source": [
"//Ex:7.10\n",
"clc;\n",
"clear;\n",
"close;\n",
"y=5*10^-6;// lateral misalignment in m\n",
"a=25*10^-6;// core diameter in m\n",
"Lt=0.85*(y/a);// misalignment loss\n",
"n_c=1-Lt;// coupling efficiency\n",
"L_i=-10*log(n_c)/log(10);// insertion loss in dB\n",
"Lt1=0.75*(y/a);// misalignment loss if we have both guided and leaky modes\n",
"n_c1=1-Lt1;// coupling efficiency\n",
"L_i1=-10*log(n_c1)/log(10);// insertion loss in dB if we have both guided and leaky modes\n",
"printf('The insertion loss =%f dB', L_i);\n",
"printf('\n The insertion loss,if we have both guided and leaky modes =%f dB', L_i1);"
   ]
   }
,
{
		   "cell_type": "markdown",
		   "metadata": {},
		   "source": [
			"## Example 7.11: Find_the_insertion_loss_due_to_misalignment.sce"
		   ]
		  },
  {
"cell_type": "code",
	   "execution_count": null,
	   "metadata": {
	    "collapsed": true
	   },
	   "outputs": [],
"source": [
"//Ex:7.11\n",
"clc;\n",
"clear;\n",
"close;\n",
"n1=1.5;// core refractive index\n",
"n=1;// refractive index due to air\n",
"x=5*%pi/180;\n",
"C=n1/n;\n",
"A=(16*C^2)/((1+C)^4);\n",
"B=n*x;\n",
"NA=0.22;// numerical aperture\n",
"n_ang=A*(1-(B/(%pi*NA)));// angular coupling efficiency\n",
"L_ang=-10*log(n_ang)/log(10);// inserion loss when NA=0.22\n",
"NA1=0.32;// numerical aperture\n",
"n_ang1=A*(1-(B/(%pi*NA1)));// angular coupling efficiency\n",
"L_ang1=-10*log(n_ang1)/log(10);// inserion loss when NA=0.32\n",
"printf('The inserion loss when NA=0.22 =%f dB', L_ang);\n",
"printf('\n The inserion loss when NA=0.32 =%f dB', L_ang1);"
   ]
   }
,
{
		   "cell_type": "markdown",
		   "metadata": {},
		   "source": [
			"## Example 7.12: Find_the_insertion_loss_of_a_fiber_joint.sce"
		   ]
		  },
  {
"cell_type": "code",
	   "execution_count": null,
	   "metadata": {
	    "collapsed": true
	   },
	   "outputs": [],
"source": [
"//Ex:7.12\n",
"clc;\n",
"clear;\n",
"close;\n",
"V=2.50;// normalised frequency\n",
"n1=1.5;// core refractive index\n",
"a=4.5*10^-6;// core radius in m\n",
"NA=0.2;// numerical aperture\n",
"y=3*10^-6;// lateral misalignment in m\n",
"w=a*((0.65+1.62*(V)^-1.5+2.88*(V)^-6)/2^0.5);// normalised spot size in m\n",
"T1=2.17*(y/w)^2;// Loss due to lateral offset in dB\n",
"x=(%pi/180)*w;\n",
"Ta=2.17*((x*n1*V)/(a*NA))^2;// loss due to angular misalignment in dB\n",
"T=T1+Ta;// total insertion loss in dB\n",
"printf('The total insertion loss  =%f dB', T);\n",
"printf('\n The answer is wrong in the textbook');"
   ]
   }
,
{
		   "cell_type": "markdown",
		   "metadata": {},
		   "source": [
			"## Example 7.13: EX7_13.sce"
		   ]
		  },
  {
"cell_type": "code",
	   "execution_count": null,
	   "metadata": {
	    "collapsed": true
	   },
	   "outputs": [],
"source": [
"//Ex:7.13\n",
"clc;\n",
"clear;\n",
"close;\n",
"P1=65;// optical power in uW\n",
"P2=0.005;// output power at port 2 in uW\n",
"P3=24;// output power at port 3 in uW\n",
"P4=26.5;// output power at port 4 in uW\n",
"Le=10*log(P1/(P3+P4))/log(10);// Excess loss in dB\n",
"Le1=10*log(P1/P3)/log(10);// insertion loss port 1 to 3 in dB\n",
"Le2=10*log(P1/P4)/log(10);// insertion loss port 1 to 4 in dB\n",
"ct=10*log(P2/P1)/log(10);// cross talk in dB\n",
"sr=(P3/(P3+P4))*100;// split ratio\n",
"printf('The Excess loss =%f dB', Le);\n",
"printf('\n The insertion loss port 1 to 3  =%f dB', Le1);\n",
"printf('\n The insertion loss port 1 to 4  =%f dB', Le2);\n",
"printf('\n The cross talk =%f dB', ct);\n",
"printf('\n The split ratio =%f %%', sr);"
   ]
   }
,
{
		   "cell_type": "markdown",
		   "metadata": {},
		   "source": [
			"## Example 7.14: Calculate_the_fresnel_loss_at_each_glass_air_boundary.sce"
		   ]
		  },
  {
"cell_type": "code",
	   "execution_count": null,
	   "metadata": {
	    "collapsed": true
	   },
	   "outputs": [],
"source": [
"//Ex:7.14\n",
"clc;\n",
"clear;\n",
"close;\n",
"n=1;\n",
"n1=1.48;\n",
"r=((n1-n)/(n1+n))^2;// fresnel's reflection\n",
"Ls=-10*log(1-r)/log(10);// optical loss in dB\n",
"Lt=2*Ls;// total fresnel loss\n",
"printf('The total fresnel loss =%f dB', Lt);"
   ]
   }
,
{
		   "cell_type": "markdown",
		   "metadata": {},
		   "source": [
			"## Example 7.15: Find_the_numerical_aperture.sce"
		   ]
		  },
  {
"cell_type": "code",
	   "execution_count": null,
	   "metadata": {
	    "collapsed": true
	   },
	   "outputs": [],
"source": [
"//Ex:7.15\n",
"clc;\n",
"clear;\n",
"close;\n",
"NA1=0.32;// numerical aperture for fiber1\n",
"NA2=0.22;// numerical aperture for fiber2\n",
"Lc=20*log(NA1/NA2)/log(10);// NA mismatch coupling loss\n",
"printf('The NA mismatch coupling loss =%f dB', Lc);"
   ]
   }
,
{
		   "cell_type": "markdown",
		   "metadata": {},
		   "source": [
			"## Example 7.16: Find_the_coupling_ratio_and_excess_loss_and_insertion_loss_and_cross_talk.sce"
		   ]
		  },
  {
"cell_type": "code",
	   "execution_count": null,
	   "metadata": {
	    "collapsed": true
	   },
	   "outputs": [],
"source": [
"//Ex:7.16\n",
"clc;\n",
"clear;\n",
"close;\n",
"P0=250;// optical power in uW\n",
"P1=80;// output power at port 1 in uW\n",
"P2=70;// output power at port 2 in uW\n",
"P3=5*10^-3;// output power at port 3 in uW\n",
"cr=(P2/(P1+P2))*100;// coupling ratio\n",
"Le=10*log(P0/(P1+P2))/log(10);// Excess loss in dB\n",
"Le1=10*log(P0/P1)/log(10);// insertion loss port 0 to 1 in dB\n",
"Le2=10*log(P0/P2)/log(10);// insertion loss port 0 to 2 in dB\n",
"ct=10*log(P3/P0)/log(10);// cross talk in dB\n",
"printf('The coupling ratio =%f %%', cr);\n",
"printf('\n The Excess loss =%f dB', Le);\n",
"printf('\n The insertion loss port 0 to 1  =%f dB', Le1);\n",
"printf('\n The insertion loss port 0 to 2 =%f dB', Le2);\n",
"printf('\n The cross talk =%f dB', ct);"
   ]
   }
,
{
		   "cell_type": "markdown",
		   "metadata": {},
		   "source": [
			"## Example 7.17: EX7_17.sce"
		   ]
		  },
  {
"cell_type": "code",
	   "execution_count": null,
	   "metadata": {
	    "collapsed": true
	   },
	   "outputs": [],
"source": [
"//Ex:7.17\n",
"clc;\n",
"clear;\n",
"close;\n",
"P_21=4/5;// ratio of the input available at port2 \n",
"P_31=1/5;// ratio of the input available at port3 \n",
"Lt=-10*log(P_21)/log(10);// throughput loss\n",
"Lp=-10*log(P_31)/log(10);// tap loss\n",
"Le=-10*log(P_21+P_31)/log(10);// excess loss\n",
"printf('The throughput loss =%f dB', Lt);\n",
"printf('\n The tap loss =%f dB', Lp);\n",
"printf('\n Directionality=-10*log(0/Pi=infinity)');\n",
"printf('\n The excess loss =%d dB', Le);"
   ]
   }
,
{
		   "cell_type": "markdown",
		   "metadata": {},
		   "source": [
			"## Example 7.18: EX7_18.sce"
		   ]
		  },
  {
"cell_type": "code",
	   "execution_count": null,
	   "metadata": {
	    "collapsed": true
	   },
	   "outputs": [],
"source": [
"//Ex:7.18\n",
"clc;\n",
"clear;\n",
"close;\n",
"Le=4;// excess loss in dB\n",
"D=60;// Directionality in dB\n",
"P_41=10^-6;// the ratio of P4 to P1\n",
"P_31=0.670/5;// the ratio of P3 to P1\n",
"P_21=P_31*4;// the ratio of P2 to P1\n",
"Lt=-10*log(P_21)/log(10);// throughput loss\n",
"Lp=-10*log(P_31)/log(10);// tap loss\n",
"Ls=-10*log(0.670)/log(10);// loss due to radiation scattering in dB\n",
"printf('The fraction of the input power goes to each of the ports =%f dB', P_21);\n",
"printf('\n The throughput loss =%f dB', Lt);\n",
"printf('\n The tap loss =%f dB', Lp);\n",
"printf('\n The loss due to radiation scattering =%f dB', Ls);"
   ]
   }
,
{
		   "cell_type": "markdown",
		   "metadata": {},
		   "source": [
			"## Example 7.19: Determine_the_attenuation_per_km_for_the_fiber.sce"
		   ]
		  },
  {
"cell_type": "code",
	   "execution_count": null,
	   "metadata": {
	    "collapsed": true
	   },
	   "outputs": [],
"source": [
"//Ex:7.19\n",
"clc;\n",
"clear;\n",
"close;\n",
"L1=1.5;// length in km\n",
"L2=2/1000;// length in km\n",
"Pi=50.1*10^-6;// optical power in W\n",
"Po=385.4*10^-6;// output power in W\n",
"a=(10/(L1-L2))*log(Po/Pi)/log(10);// attenuation per km\n",
"printf('The attenuation per km =%f dB/km', a);"
   ]
   }
,
{
		   "cell_type": "markdown",
		   "metadata": {},
		   "source": [
			"## Example 7.1: Calculate_the_fiber_loss_in_db.sce"
		   ]
		  },
  {
"cell_type": "code",
	   "execution_count": null,
	   "metadata": {
	    "collapsed": true
	   },
	   "outputs": [],
"source": [
"//Ex:7.1\n",
"clc;\n",
"clear;\n",
"close;\n",
"n1=1.46;// core refractive index\n",
"n=1;// refractive index due to air\n",
"r=((n1-n)/(n1+n))^2;\n",
"r1=0.03;// r take upto two decimal place\n",
"l_s=-10*log(1-r1)/log(10);// fiber loss in db\n",
"l_t=2*l_s;// total loss in db\n",
"printf('The fiber loss =%f db', l_s);\n",
"printf('\n there is a similar loss at the other interface');\n",
"printf('\n The total fiber loss =%f db', l_t);"
   ]
   }
,
{
		   "cell_type": "markdown",
		   "metadata": {},
		   "source": [
			"## Example 7.20: Determine_the_optical_loss_due_to_scattering_for_a_fiber.sce"
		   ]
		  },
  {
"cell_type": "code",
	   "execution_count": null,
	   "metadata": {
	    "collapsed": true
	   },
	   "outputs": [],
"source": [
"//Ex:7.20\n",
"clc;\n",
"clear;\n",
"close;\n",
"Psc=5.31*10^-9;//\n",
"Popt=98.45*10^-6;// \n",
"L=5.99;// length in km\n",
"asc=(4.343*10^5/L)*(Psc/Popt);// scattering loss in the fiber in dB\n",
"printf('The scattering loss in the fiber =%f dB/km', asc);"
   ]
   }
,
{
		   "cell_type": "markdown",
		   "metadata": {},
		   "source": [
			"## Example 7.2: Find_the_insertion_loss_due_to_lateral_misalignment.sce"
		   ]
		  },
  {
"cell_type": "code",
	   "execution_count": null,
	   "metadata": {
	    "collapsed": true
	   },
	   "outputs": [],
"source": [
"//Ex:7.2\n",
"clc;\n",
"clear;\n",
"close;\n",
"n1=1.46;// core refractive index\n",
"n=1;// refractive index due to air\n",
"a=25*10^-6;// core radius in m\n",
"y=3*10^-6;// in m\n",
"A=(y/a)*(1-(y/(2*a))^2)^0.5;\n",
"B=acos(y/(2*a));\n",
"C=n1/n;\n",
"M=(16*C^2)/(%pi*(1+C)^4);\n",
"n_lat=M*(2*B-A);// coupling efficiency for multimode step index fiber\n",
"L_lat=-10*log(n_lat)/log(10);// insertion loss for lateral misalignment\n",
"n_lat1=(1/%pi)*(2*B-A);// coupling efficiency when there is no air gap\n",
"L_lat1=-10*log(n_lat1)/log(10);// insertion loss for lateral misalignment when there is no air gap\n",
"printf('The coupling efficiency for multimode step index fiber =%f', n_lat);\n",
"printf('\n The insertion loss for lateral misalignment =%f dB', L_lat);\n",
"printf('\n The coupling efficiency when there is no air gap =%f', n_lat1);\n",
"printf('\n The insertion loss for lateral misalignment when there is no air gap =%f dB', L_lat1);"
   ]
   }
,
{
		   "cell_type": "markdown",
		   "metadata": {},
		   "source": [
			"## Example 7.3: Calculate_the_total_insertion_loss_at_the_joint.sce"
		   ]
		  },
  {
"cell_type": "code",
	   "execution_count": null,
	   "metadata": {
	    "collapsed": true
	   },
	   "outputs": [],
"source": [
"//Ex:7.3\n",
"clc;\n",
"clear;\n",
"close;\n",
"n1=1.50;// core refractive index\n",
"n=1;// refractive index due to air\n",
"a=25*10^-6;// core radius in m\n",
"y=4*10^-6;// in m\n",
"A=(y/a)*(1-(y/(2*a))^2)^0.5;\n",
"B=acos(y/(2*a));\n",
"C=n1/n;\n",
"M=(16*C^2)/(%pi*(1+C)^4);\n",
"n_lat=M*(2*B-A);// coupling efficiency for multimode step index fiber\n",
"L_lat=-10*log(n_lat)/log(10);// insertion loss for lateral misalignment\n",
"dx=4*(3.14/180);// angular misalignment in radian\n",
"dl=0.02;// relative index difference\n",
"NA=n1*sqrt(2*dl);// numerical aperture\n",
"n_ang=1-(0.069/(3.14*NA));// coupling efficiency due to angular misalignment\n",
"L_ang=-10*log(n_ang)/log(10);// loss due to angular misalignment\n",
"Lt=L_lat+L_ang;// total insertion loss in dB\n",
"printf('The total insertion loss =%f dB', Lt);\n",
"printf('\n the answer is wrong in the textbook');"
   ]
   }
,
{
		   "cell_type": "markdown",
		   "metadata": {},
		   "source": [
			"## Example 7.4: EX7_4.sce"
		   ]
		  },
  {
"cell_type": "code",
	   "execution_count": null,
	   "metadata": {
	    "collapsed": true
	   },
	   "outputs": [],
"source": [
"//Ex:7.4\n",
"clc;\n",
"clear;\n",
"close;\n",
"n1=1.46;// core refractive index\n",
"n=1;// refractive index due to air\n",
"a=1;// core radius in m\n",
"y=0.12;// lateral offset\n",
"A=(y/a)*(1-(y/(2*a))^2)^0.5;\n",
"B=acos(y/(2*a));\n",
"C=n1/n;\n",
"M=(16*C^2)/(%pi*(1+C)^4);\n",
"n_lat=M*(2*B-A);// coupling efficiency when there is a smsll air gap\n",
"L_lat=-10*log(n_lat)/log(10);// insertion loss when there is a smsll air gap\n",
"n_lat1=(1/%pi)*(2*B-A);// coupling efficiency when the joint is indexed matched\n",
"L_lat1=-10*log(n_lat1)/log(10);// insertion loss when the joint is indexed matched\n",
"printf('The insertion loss when there is a smsll air gap =%f dB', L_lat);\n",
"printf('\n The insertion loss when the joint is indexed matched =%f dB', L_lat1);"
   ]
   }
,
{
		   "cell_type": "markdown",
		   "metadata": {},
		   "source": [
			"## Example 7.5: Find_the_insertion_loss_of_a_signal_in_the_fwd_and_backward_directions.sce"
		   ]
		  },
  {
"cell_type": "code",
	   "execution_count": null,
	   "metadata": {
	    "collapsed": true
	   },
	   "outputs": [],
"source": [
"//Ex:7.5\n",
"clc;\n",
"clear;\n",
"close;\n",
"d1=60*10^-6;// core diameter of fiber 1 in m\n",
"d2=50*10^-6;// core diameter of fiber 1 in m\n",
"NA1=0.25;// numerical aerture of fiber 1\n",
"NA2=0.22;// numerical aerture of fiber 2\n",
"a1=2.0;// for fiber 1\n",
"a2=1.9;// for fiber 2\n",
"n_cd=(d2/d1)^2;\n",
"n_NA=(NA2/NA1)^2;\n",
"n_a=(1+(2/a1))/(1+(2/a2));\n",
"n_t=n_cd*n_NA*n_a;// total coupling efficiency\n",
"Lt=-10*log(n_t)/log(10);// total loss at the joint in dB\n",
"printf('The total coupling efficiency in the frw direction =%f', n_t);\n",
"printf('\n The total loss at the joint in the frw direction =%f dB', Lt);\n",
"printf('\n In the backward direction n_cd & n_a are all unity therefore there will be no loss in the backward direction of transmission of the signal ');"
   ]
   }
,
{
		   "cell_type": "markdown",
		   "metadata": {},
		   "source": [
			"## Example 7.6: Calculate_the_insertion_loss_at_the_jont_in_the_fwd_and_backward_direction.sce"
		   ]
		  },
  {
"cell_type": "code",
	   "execution_count": null,
	   "metadata": {
	    "collapsed": true
	   },
	   "outputs": [],
"source": [
"//Ex:7.6\n",
"clc;\n",
"clear;\n",
"close;\n",
"d1=80*10^-6;// core diameter of fiber 1 in m\n",
"d2=60*10^-6;// core diameter of fiber 1 in m\n",
"NA1=0.25;// numerical aerture of fiber 1\n",
"NA2=0.20;// numerical aerture of fiber 2\n",
"a1=1.9;// for fiber 1\n",
"a2=2.1;// for fiber 2\n",
"n_cd=(d2/d1)^2;\n",
"n_NA=(NA2/NA1)^2;\n",
"n_a=(1+(2/a1))/(1+(2/a2));\n",
"n_t=n_cd*n_NA*n_a;// total coupling efficiency in the frw direction\n",
"Lt=-10*log(n_t)/log(10);// total loss at the joint in the frw direction in dB\n",
"n_cd1=1;\n",
"n_NA1=1;\n",
"n_a1=(1+(2/a2))/(1+(2/a1));\n",
"n_t1=n_cd1*n_NA1*n_a1;// total coupling efficiency in the backward direction\n",
"Lt1=-10*log(n_t1)/log(10);// total loss at the joint in the backward direction in dB\n",
"printf('The total loss at the joint in the frw direction =%f dB', Lt);\n",
"printf('\n The total loss at the joint in the backward direction =%f dB', Lt1);"
   ]
   }
,
{
		   "cell_type": "markdown",
		   "metadata": {},
		   "source": [
			"## Example 7.7: Determine_the_insertion_loss_of_the_splices.sce"
		   ]
		  },
  {
"cell_type": "code",
	   "execution_count": null,
	   "metadata": {
	    "collapsed": true
	   },
	   "outputs": [],
"source": [
"//Ex:7.7\n",
"clc;\n",
"clear;\n",
"close;\n",
"n1=1.5;// core refractive index\n",
"n=1.47;// refractive index due to air\n",
"a=1;// core radius in m\n",
"y=0.12;// lateral offset\n",
"A=(y/a)*(1-(y/(2*a))^2)^0.5;\n",
"B=acos(y/(2*a));\n",
"C=n1/n;\n",
"M=(16*C^2)/(%pi*(1+C)^4);\n",
"n_lat=M*(2*B-A);// coupling efficiency of the splice\n",
"L_lat=-10*log(n_lat)/log(10);// insertion loss of the splice\n",
"printf('The insertion loss of the splice =%f dB', L_lat);"
   ]
   }
,
{
		   "cell_type": "markdown",
		   "metadata": {},
		   "source": [
			"## Example 7.8: Determine_the_refractive_index_of_the_fiber_core.sce"
		   ]
		  },
  {
"cell_type": "code",
	   "execution_count": null,
	   "metadata": {
	    "collapsed": true
	   },
	   "outputs": [],
"source": [
"//Ex:7.8\n",
"clc;\n",
"clear;\n",
"close;\n",
"L_f=0.036;\n",
"n_f=10^(-0.036);\n",
"// here we get a quadratic equation in n1 and on solving we get\n",
"n1=(2.17+sqrt((-2.17)^2-4*1*1))/2;// refractive index of the fiber core\n",
"printf('The refractive index of the fiber core =%f', n1);"
   ]
   }
,
{
		   "cell_type": "markdown",
		   "metadata": {},
		   "source": [
			"## Example 7.9: Find_the_numerical_aperture_of_the_fiber.sce"
		   ]
		  },
  {
"cell_type": "code",
	   "execution_count": null,
	   "metadata": {
	    "collapsed": true
	   },
	   "outputs": [],
"source": [
"//Ex:7.9\n",
"clc;\n",
"clear;\n",
"close;\n",
"n1=1.46;// core refractive index\n",
"n=4;// refractive index due to air\n",
"x=%pi/180;\n",
"A=(16*n1^2)/((1+n1)^4);\n",
"B=n*x;\n",
"n_ang=10^(-0.06);// angular coupling efficiency\n",
"NA=B/((%pi)*(1-(n_ang/A)));// numerical aperture\n",
"printf('The numerical aperture =%f', NA);"
   ]
   }
],
"metadata": {
		  "kernelspec": {
		   "display_name": "Scilab",
		   "language": "scilab",
		   "name": "scilab"
		  },
		  "language_info": {
		   "file_extension": ".sce",
		   "help_links": [
			{
			 "text": "MetaKernel Magics",
			 "url": "https://github.com/calysto/metakernel/blob/master/metakernel/magics/README.md"
			}
		   ],
		   "mimetype": "text/x-octave",
		   "name": "scilab",
		   "version": "0.7.1"
		  }
		 },
		 "nbformat": 4,
		 "nbformat_minor": 0
}
