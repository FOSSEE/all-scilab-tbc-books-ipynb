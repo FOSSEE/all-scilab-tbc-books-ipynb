{
"cells": [
 {
		   "cell_type": "markdown",
	   "metadata": {},
	   "source": [
       "# Chapter 10: Optical Fiber Systems"
	   ]
	},
{
		   "cell_type": "markdown",
		   "metadata": {},
		   "source": [
			"## Example 10.10: EX10_10.sce"
		   ]
		  },
  {
"cell_type": "code",
	   "execution_count": null,
	   "metadata": {
	    "collapsed": true
	   },
	   "outputs": [],
"source": [
"//Ex:10.10\n",
"clc;\n",
"clear;\n",
"close;\n",
"y=860*10^-9;// wavelength in m\n",
"c=3*10^8;// speed of light in m/s\n",
"n1=1.47;// \n",
"dl=0.02;// \n",
"n12=n1*dl;// the difference b/w n1 and n2\n",
"La=1/1000;// loss a in dB/m\n",
"Pr=-65;// receiver power in dB\n",
"Pt=-5;// transmitted power in dB\n",
"dy=30*10^-9;// line width in m\n",
"X=0.024;\n",
"Lmax=(0.35*c*y)/(dy*X);// material dispersion limited distance for RZ coding in m\n",
"L_GI=(1.4*c*n1)/(n12);// model dispersion limited distance for RZ coding in m\n",
"L_At=(Pt-Pr)/(La);// attenuation limited distance for RZ coding in m \n",
"printf('The material dispersion limited distance =%f*10^10*1/Br m', Lmax/10^10);\n",
"printf('\n The model dispersion limited distance =%f*10^10*1/Br m', L_GI/10^10);\n",
"printf('\n The attenuation limited distance =%d-20log(Br) km', L_At/10^3);"
   ]
   }
,
{
		   "cell_type": "markdown",
		   "metadata": {},
		   "source": [
			"## Example 10.1: Determine_the_voltage_needed_to_effect_a_phase_change_of_pi_radians.sce"
		   ]
		  },
  {
"cell_type": "code",
	   "execution_count": null,
	   "metadata": {
	    "collapsed": true
	   },
	   "outputs": [],
"source": [
"//Ex:10.1\n",
"clc;\n",
"clear;\n",
"close;\n",
"r=30.8*10^-12;// electro optice coefficient in m/V\n",
"L=3*10^-2;// length in m\n",
"y=1.3*10^-6;// wavelength in m\n",
"n=2.1;\n",
"d=30*10^-6;// distance between the electrodes in m\n",
"V=(y*d)/((n)^3*r*L);// voltage required to have a pi radian phase change in volt\n",
"printf('The voltage required to have a pi radian phase change  =%f volt', V);"
   ]
   }
,
{
		   "cell_type": "markdown",
		   "metadata": {},
		   "source": [
			"## Example 10.2: Calculate_the_total_channel_loss.sce"
		   ]
		  },
  {
"cell_type": "code",
	   "execution_count": null,
	   "metadata": {
	    "collapsed": true
	   },
	   "outputs": [],
"source": [
"//Ex:10.2\n",
"clc;\n",
"clear;\n",
"close;\n",
"a_fc=4;// fider cable loss in dB/km\n",
"aj=0.7;// splice loss in db/km\n",
"L=5;// length in km\n",
"a_cr1=4;// connector losses\n",
"a_cr2=3.5;// connector losses\n",
"CL=(a_fc+aj)*L+(a_cr1+a_cr2);// total channel loss in dB\n",
"printf('The total channel loss =%d dB', CL);"
   ]
   }
,
{
		   "cell_type": "markdown",
		   "metadata": {},
		   "source": [
			"## Example 10.3: EX10_3.sce"
		   ]
		  },
  {
"cell_type": "code",
	   "execution_count": null,
	   "metadata": {
	    "collapsed": true
	   },
	   "outputs": [],
"source": [
"//Ex:10.3\n",
"clc;\n",
"clear;\n",
"close;\n",
"p=0.5*10^-9;// pulse broadening in s/km\n",
"L=12;// length in km\n",
"Pt=p*sqrt(L);// with mode coupling, the total rms broadening in s\n",
"BT=20*10^6;//\n",
"DL=2*(2*Pt*BT*sqrt(2))^4;// dispersion equalization penalty in dB\n",
"Pt1=p*L;// without mode coupling, the total rms broadening in s\n",
"DL1=2*(2*Pt1*BT*sqrt(2))^4;// without mode coupling, equalization penalty in dB\n",
"DL2=2*(2*Pt1*150*10^6*sqrt(2))^4;// without mode coupling,dispersion equalization penalty with 125 Mb/s\n",
"DL3=2*(2*Pt*125*10^6*sqrt(2))^4;// with mode coupling,dispersion equalization penalty with 125 Mb/s\n",
"printf('with mode coupling, the total rms broadening =%f ns', Pt*10^9);\n",
"printf('\n The dispersion equalization penalty =%f dB', DL*10^4);\n",
"printf('\n without mode coupling, the total rms broadening =%f dB', Pt1*10^9);\n",
"printf('\n without mode coupling, equalization penalty =%f dB', DL1);\n",
"printf('\n without mode coupling,dispersion equalization penalty with 125 Mb/s =%f dB', DL2);\n",
"printf('\n with mode coupling,dispersion equalization penalty with 125 Mb/s =%f dB', DL3);\n",
"printf('\n The answer is wrong in the textbook');"
   ]
   }
,
{
		   "cell_type": "markdown",
		   "metadata": {},
		   "source": [
			"## Example 10.4: EX10_4.sce"
		   ]
		  },
  {
"cell_type": "code",
	   "execution_count": null,
	   "metadata": {
	    "collapsed": true
	   },
	   "outputs": [],
"source": [
"//Ex:10.4\n",
"clc;\n",
"clear;\n",
"close;\n",
"Pi=-2.5;// mean optical power launched into the fiber in dBm\n",
"Po=-45;// mean output optical power available at the receiver in dBm\n",
"a_fc=0.35;// fider cable loss in dB/km\n",
"aj=0.1;// splice loss in db/km\n",
"a_cr=1;// connector losses\n",
"Ma=6;// safety margin in dB\n",
"L=(Pi-Po-a_cr-Ma)/(a_fc+aj);// length in km when system operating at 25 Mbps\n",
"Po1=-35;// mean output optical power available at the receiver in dBm\n",
"L1=(Pi-Po1-a_cr-Ma)/(a_fc+aj);// length in km when system operating at 350 Mbps\n",
"printf('The length when system operating at 25 Mbps =%f km', L);\n",
"printf('\n The length when system operating at 350 Mbps =%f km', L1);"
   ]
   }
,
{
		   "cell_type": "markdown",
		   "metadata": {},
		   "source": [
			"## Example 10.5: Find_the_optical_power_budget_for_an_optical_link.sce"
		   ]
		  },
  {
"cell_type": "code",
	   "execution_count": null,
	   "metadata": {
	    "collapsed": true
	   },
	   "outputs": [],
"source": [
"//Ex:10.5\n",
"clc;\n",
"clear;\n",
"close;\n",
"Tx=-80;// transmitter output in dBm\n",
"Rx=-40;// receiver sensitivity in dBm\n",
"sm=32;// system margin in dB\n",
"L=10;// in km\n",
"fl=2*L;// fider loss in dB\n",
"cl=1;// detector coupling loss in dB\n",
"tl=0.4*8;// total splicing loss in dB\n",
"ae=5;// angle effects & future splice in dB\n",
"ta=29.2;// total attenuation in dB\n",
"Ep=2.8;// excess power margin in dB\n",
"printf('The fider loss =%f dB', fl);\n",
"printf('\n The total splicing loss =%f dB', tl);\n",
"printf('\n The fangle effects & future splice =%f dB', ae);\n",
"printf('\n The total attenuation =%f dB', ta);\n",
"printf('\n The excess power margin =%f dB', Ep);\n",
"printf('\n hence the system can operate with small excess power margin')"
   ]
   }
,
{
		   "cell_type": "markdown",
		   "metadata": {},
		   "source": [
			"## Example 10.6: EX10_6.sce"
		   ]
		  },
  {
"cell_type": "code",
	   "execution_count": null,
	   "metadata": {
	    "collapsed": true
	   },
	   "outputs": [],
"source": [
"//Ex:10.6\n",
"clc;\n",
"clear;\n",
"close;\n",
"Lc=1;// connector loss in db\n",
"Ls=5;// star coupler insertion loss in dB\n",
"af=2;// fider loss in dB\n",
"Ps=-14;// transmitted power in dBm\n",
"Pr=-49;// receiver sensitivity in dBm\n",
"sm=6;// system margin in dB\n",
"N=16;\n",
"L=(Ps-Pr-Ls-4*Lc-(10*log(N))/log(10)-sm)/(2*af);//  max transmission length in km when transmission star coupler is used\n",
"N1=32;\n",
"L1=(Ps-Pr-Ls-4*Lc-(10*log(N1))/log(10)-sm)/(2*af);// max transmission length in km when reflection star coupler is used\n",
"printf('The max transmission length when transmission star coupler is used =%f km', L);\n",
"printf('\n The max transmission length when reflection star coupler is used =%f km', L1);"
   ]
   }
,
{
		   "cell_type": "markdown",
		   "metadata": {},
		   "source": [
			"## Example 10.7: Find_the_rise_time_and_the_date_rate_for_a_system_supporting_NRZ_and_RZ_coding.sce"
		   ]
		  },
  {
"cell_type": "code",
	   "execution_count": null,
	   "metadata": {
	    "collapsed": true
	   },
	   "outputs": [],
"source": [
"//Ex:10.7\n",
"clc;\n",
"clear;\n",
"close;\n",
"y=860*10^-9;// wavelength in m\n",
"L=5000;// length in m\n",
"X=0.024;\n",
"dy=20*10^-9;// spectral width in m\n",
"dts=6*10^-9;// silica optical link rise time in s\n",
"dtr=8*10^-9;// detector rise in s\n",
"c=3*10^8;// speed of light in m/s\n",
"dtm=-(L*dy*X)/(c*y);// material dispersion delay time in s\n",
"id=2.5*10^-12;// intermodel dispersion in s/m\n",
"dti=id*L;// intermodel dispersion delay time\n",
"dtsy=sqrt((dts^2)+(dtr^2)+(dtm^2)+(dti^2));// system rise time in s\n",
"Br_max=0.7/dtsy;// max bit rate for NRZ coding in bit/s\n",
"Br_max1=0.35/dtsy;// max bit rate for RZ coding in bit/s\n",
"printf('The system rise time =%f ns', dtsy*10^9);\n",
"printf('\n The max bit rate for NRZ coding =%f Mbit/s', Br_max/10^6);\n",
"printf('\n The max bit rate for RZ coding =%f Mbit/s', Br_max1/10^6);"
   ]
   }
,
{
		   "cell_type": "markdown",
		   "metadata": {},
		   "source": [
			"## Example 10.8: Find_the_modal_dispersion_limited_transmission_distance.sce"
		   ]
		  },
  {
"cell_type": "code",
	   "execution_count": null,
	   "metadata": {
	    "collapsed": true
	   },
	   "outputs": [],
"source": [
"//Ex:10.8\n",
"clc;\n",
"clear;\n",
"close;\n",
"Br=50*10^6;// data rate in b/s\n",
"c=3*10^8;// speed of light in m/s\n",
"n1=1.47;// \n",
"dl=0.02;// \n",
"n12=n1*dl;// the difference b/w n1 and n2\n",
"L_si=(0.35*c)/(n12*Br);// transmission distance for Si fiber\n",
"L_GI=(2.8*c*n1^2)/(2*n1*n12*Br);// transmission distance for GRIN fiber\n",
"printf('The transmission distance for Si fiber =%f m', L_si);\n",
"printf('\n The transmission distance for GRIN fiber =%f m', L_GI);"
   ]
   }
,
{
		   "cell_type": "markdown",
		   "metadata": {},
		   "source": [
			"## Example 10.9: Find_the_material_dispersion_limited_transmission_distance.sce"
		   ]
		  },
  {
"cell_type": "code",
	   "execution_count": null,
	   "metadata": {
	    "collapsed": true
	   },
	   "outputs": [],
"source": [
"//Ex:10.9\n",
"clc;\n",
"clear;\n",
"close;\n",
"Br=20*10^6;// data rate in b/s\n",
"c=3*10^8;// speed of light in m/s\n",
"y=86*10^-9;// wavelength in m\n",
"dy=30*10^-9;// spectral width in m\n",
"X=0.024;\n",
"Tb=1/Br;\n",
"Lmax=(0.35*Tb*c*y)/(dy*X);// material dispersion limited transmission distance for RZ coding in m\n",
"printf('The material dispersion limited transmission distance =%d m', Lmax);"
   ]
   }
],
"metadata": {
		  "kernelspec": {
		   "display_name": "Scilab",
		   "language": "scilab",
		   "name": "scilab"
		  },
		  "language_info": {
		   "file_extension": ".sce",
		   "help_links": [
			{
			 "text": "MetaKernel Magics",
			 "url": "https://github.com/calysto/metakernel/blob/master/metakernel/magics/README.md"
			}
		   ],
		   "mimetype": "text/x-octave",
		   "name": "scilab",
		   "version": "0.7.1"
		  }
		 },
		 "nbformat": 4,
		 "nbformat_minor": 0
}
