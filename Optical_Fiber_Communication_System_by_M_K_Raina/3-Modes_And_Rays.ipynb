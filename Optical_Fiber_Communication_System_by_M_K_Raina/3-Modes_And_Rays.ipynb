{
"cells": [
 {
		   "cell_type": "markdown",
	   "metadata": {},
	   "source": [
       "# Chapter 3: Modes And Rays"
	   ]
	},
{
		   "cell_type": "markdown",
		   "metadata": {},
		   "source": [
			"## Example 3.10: What_should_be_the_max_thickness_of_the_guided_slab.sce"
		   ]
		  },
  {
"cell_type": "code",
	   "execution_count": null,
	   "metadata": {
	    "collapsed": true
	   },
	   "outputs": [],
"source": [
"//Ex:3.10\n",
"clc;\n",
"clear;\n",
"close;\n",
"n1=3.6;// core refractive index\n",
"n2=3.56;// cladding refractive index\n",
"y=0.85*(10^-6);// wavelength in um\n",
"m=1;\n",
"n=0;\n",
"v_c=2.405;// for planner guide\n",
"a=(v_c*y)/(2*%pi*sqrt(n1^2-n2^2));// core radius in micrometer\n",
"printf('the max thickness=%f um',a*10^6);"
   ]
   }
,
{
		   "cell_type": "markdown",
		   "metadata": {},
		   "source": [
			"## Example 3.11: Estimate_the_diameter_of_the_fiber_core.sce"
		   ]
		  },
  {
"cell_type": "code",
	   "execution_count": null,
	   "metadata": {
	    "collapsed": true
	   },
	   "outputs": [],
"source": [
"//Ex:3.11\n",
"clc;\n",
"clear;\n",
"close;\n",
"n1=1.5;// core refractive index\n",
"y=1.3*(10^-6);// wavelength in um\n",
"M=1100;//  total no. of models\n",
"dl=0.01;// index difference\n",
"v=sqrt(2*M);\n",
"V=ceil(v);\n",
"a=(V*y)/(2*%pi*n1*sqrt(2*dl))*10^6;// core radius in micrometer\n",
"a1=ceil(a);// core radius in micrometer\n",
"printf('the core diameter=%d um',2*a1);"
   ]
   }
,
{
		   "cell_type": "markdown",
		   "metadata": {},
		   "source": [
			"## Example 3.12: Determine_the_max_possible_core_diameter.sce"
		   ]
		  },
  {
"cell_type": "code",
	   "execution_count": null,
	   "metadata": {
	    "collapsed": true
	   },
	   "outputs": [],
"source": [
"//Ex:3.12\n",
"clc;\n",
"clear;\n",
"close;\n",
"n1=1.45;// core refractive index\n",
"dl=0.015;// index difference\n",
"y=0.85*(10^-6);// wavelength in meter\n",
"v=2.4*(1+(2/2))^(0.5);// Max normalised frequency\n",
"a=(v*y)/(2*%pi*n1*(2*dl)^(0.5));// Max core radius in m\n",
"d=2*a;// The max core diameter in meter\n",
"printf('The max core diameter in meter=%f um', d*10^6);"
   ]
   }
,
{
		   "cell_type": "markdown",
		   "metadata": {},
		   "source": [
			"## Example 3.13: Determine_the_normalised_frequency.sce"
		   ]
		  },
  {
"cell_type": "code",
	   "execution_count": null,
	   "metadata": {
	    "collapsed": true
	   },
	   "outputs": [],
"source": [
"//Ex:3.13\n",
"clc;\n",
"clear;\n",
"close;\n",
"n1=1.48;// core refractive index\n",
"n2=1.46;// cladding refractive index\n",
"a=2.5;// radius in um\n",
"y=0.85;// wavelength in um\n",
"dl=(n1-n2)/n1;// index difference\n",
"v=(2*%pi*a*n1*(2*dl)^(0.5))/y;// the normaised frequency\n",
"M=(v*v)/2;// number of modes\n",
"printf('The number of modes=%f', M);"
   ]
   }
,
{
		   "cell_type": "markdown",
		   "metadata": {},
		   "source": [
			"## Example 3.14: Find_the_numerical_aperture_and_solid_acceptance_angle_and_number_of_modes.sce"
		   ]
		  },
  {
"cell_type": "code",
	   "execution_count": null,
	   "metadata": {
	    "collapsed": true
	   },
	   "outputs": [],
"source": [
"//Ex:3.14\n",
"clc;\n",
"clear;\n",
"close;\n",
"a=25;// radius in um\n",
"y=1.3;// wavelength in um\n",
"v=26.6;// the normaised frequency\n",
"NA=(v*y)/(2*%pi*a);// Numerical aperture\n",
"a_c=%pi*(NA)^2;\n",
"M=(v*v)/2;\n",
"printf('The number of modes=%f', NA);\n",
"printf('\n The number of modes=%f', a_c);\n",
"printf('\n answer in textbook is wrong');\n",
"printf('\n The number of modes=%f', M);"
   ]
   }
,
{
		   "cell_type": "markdown",
		   "metadata": {},
		   "source": [
			"## Example 3.15: Find_the_cut_off_wavelength_and_min_core_diameter.sce"
		   ]
		  },
  {
"cell_type": "code",
	   "execution_count": null,
	   "metadata": {
	    "collapsed": true
	   },
	   "outputs": [],
"source": [
"//Ex:3.15\n",
"clc;\n",
"clear;\n",
"close;\n",
"n1=1.49;// core refractive index\n",
"n2=1.47;// cladding refractive index\n",
"a=2;// radius in um\n",
"dl=(n1-n2)/n1;// index difference\n",
"v_c=2.405;\n",
"y_c=(2*3.14*a*n1*(2*dl)^(0.5))/v_c;// cut off wavelength in um\n",
"Y=1.31;// wavelength in um\n",
"A=(v_c*Y)/(2*3.14*n1*(2*dl)^(0.5));// min core radius in um\n",
"printf('The cut off wavelength =%f um', y_c);\n",
"printf('\n The min core radius =%f um', A);"
   ]
   }
,
{
		   "cell_type": "markdown",
		   "metadata": {},
		   "source": [
			"## Example 3.16: Estimate_the_total_number_of_guided_modes.sce"
		   ]
		  },
  {
"cell_type": "code",
	   "execution_count": null,
	   "metadata": {
	    "collapsed": true
	   },
	   "outputs": [],
"source": [
"//Ex:3.16\n",
"clc;\n",
"clear;\n",
"close;\n",
"a=25;// radius in um\n",
"NA=0.3;// Numerical aperture\n",
"y=1;// wavelength in um\n",
"v=(2*%pi*a*NA)/y;// the normalised frequency\n",
"V=47.1;// the normalised frequency\n",
"M=(V*V)/4;// The mode volume\n",
"printf('The normalised frequency =%f', v);\n",
"printf('\n The mode volume =%d guided modes', M);"
   ]
   }
,
{
		   "cell_type": "markdown",
		   "metadata": {},
		   "source": [
			"## Example 3.17: Determine_the_cut_off_wavelength.sce"
		   ]
		  },
  {
"cell_type": "code",
	   "execution_count": null,
	   "metadata": {
	    "collapsed": true
	   },
	   "outputs": [],
"source": [
"//Ex:3.17\n",
"clc;\n",
"clear;\n",
"close;\n",
"n1=1.46;// core refractive index\n",
"a=4.5;// radius in um\n",
"dl=0.0025;// relative index difference\n",
"v_c=2.405;\n",
"y_c=(2*3.14*a*n1*(2*dl)^(0.5))/v_c;// cut off wavelength in um\n",
"printf('The cut off wavelength =%f um', y_c);"
   ]
   }
,
{
		   "cell_type": "markdown",
		   "metadata": {},
		   "source": [
			"## Example 3.18: Calculate_the_cut_off_number_and_number_of_modes.sce"
		   ]
		  },
  {
"cell_type": "code",
	   "execution_count": null,
	   "metadata": {
	    "collapsed": true
	   },
	   "outputs": [],
"source": [
"//Ex:3.18\n",
"clc;\n",
"clear;\n",
"close;\n",
"n1=1.5;// core refractive index\n",
"n2=1.45;// cladding refractive index\n",
"a=50;// radius in um\n",
"y=1.3;// operating wavelength in um\n",
"NA=sqrt(n1^2-n2^2);// numerical aperture\n",
"N_A=0.38;\n",
"v=(2*%pi*a*N_A)/y;// cut of numbers\n",
"M=v^2/2;// number of modes\n",
"printf('The cut of numbers =%f', v);\n",
"printf('\n The number of modes =%f', M);"
   ]
   }
,
{
		   "cell_type": "markdown",
		   "metadata": {},
		   "source": [
			"## Example 3.19: What_will_be_the_max_allowable_radius.sce"
		   ]
		  },
  {
"cell_type": "code",
	   "execution_count": null,
	   "metadata": {
	    "collapsed": true
	   },
	   "outputs": [],
"source": [
"//Ex:3.19\n",
"clc;\n",
"clear;\n",
"close;\n",
"n1=1.53;// core refractive index\n",
"n2=1.5;// cladding refractive index\n",
"y=1.5;// operating wavelength in um\n",
"NA=sqrt(n1^2-n2^2);// numerical aperture\n",
"a=(2.405*y)/(2*3.14*NA);// max radius in um\n",
"printf('The max core radius =%f um', a);"
   ]
   }
,
{
		   "cell_type": "markdown",
		   "metadata": {},
		   "source": [
			"## Example 3.1: Find_the_core_radius.sce"
		   ]
		  },
  {
"cell_type": "code",
	   "execution_count": null,
	   "metadata": {
	    "collapsed": true
	   },
	   "outputs": [],
"source": [
"//Ex:3.1\n",
"clc;\n",
"clear;\n",
"close;\n",
"n1=1.50;// core refractive index\n",
"n2=1.48;// cladding refractive index\n",
"y=1.3*10^-6;\n",
"m=1000;// the no. of models\n",
"v=sqrt(2*m);\n",
"a=(v*y)/(2*%pi*(sqrt(n1^2-n2^2)))*10^6;// core radius in micrometer\n",
"printf('core radius=%f micrometer',a);"
   ]
   }
,
{
		   "cell_type": "markdown",
		   "metadata": {},
		   "source": [
			"## Example 3.20: Find_V_number_and_how_many_modesit_will_support.sce"
		   ]
		  },
  {
"cell_type": "code",
	   "execution_count": null,
	   "metadata": {
	    "collapsed": true
	   },
	   "outputs": [],
"source": [
"//Ex:3.20\n",
"clc;\n",
"clear;\n",
"close;\n",
"a=25;// max radius in um\n",
"y=0.8;// operating wavelength in um\n",
"NA=0.343;// numerical aperture\n",
"v=(2*%pi*a*NA)/y;// v-number\n",
"M=v^2/2;//number of modes\n",
"printf('The v-number =%f', v);\n",
"printf('\n The number of modes =%f', M);"
   ]
   }
,
{
		   "cell_type": "markdown",
		   "metadata": {},
		   "source": [
			"## Example 3.21: Determine_the_core_size_and_cladding_index.sce"
		   ]
		  },
  {
"cell_type": "code",
	   "execution_count": null,
	   "metadata": {
	    "collapsed": true
	   },
	   "outputs": [],
"source": [
"//Ex:3.21\n",
"clc;\n",
"clear;\n",
"close;\n",
"n1=1.5;// core refractive index\n",
"NA=0.38;// numerical aperture\n",
"v=75;// v-number\n",
"y=1.3;// operating wavelength in um\n",
"a=(v*y)/(2*%pi*NA);// core radius in um\n",
"n2=sqrt(n1^2-NA^2);// cladding refractive index\n",
"printf('The core radius =%f um', a);\n",
"printf('\n The cladding refractive index =%f', n2);\n",
"printf('\n answer in textbook is wrong');"
   ]
   }
,
{
		   "cell_type": "markdown",
		   "metadata": {},
		   "source": [
			"## Example 3.22: Calculate_the_corresponding_divergence_angle.sce"
		   ]
		  },
  {
"cell_type": "code",
	   "execution_count": null,
	   "metadata": {
	    "collapsed": true
	   },
	   "outputs": [],
"source": [
"//Ex:3.22\n",
"clc;\n",
"clear;\n",
"close;\n",
"y=1.2;// operating wavelength in um\n",
"w=5;// spot size in um\n",
"x=(2*y)/(%pi*w);// the divergence angle in degree\n",
"printf('The divergence angle =%f degree', x);"
   ]
   }
,
{
		   "cell_type": "markdown",
		   "metadata": {},
		   "source": [
			"## Example 3.23: Find_the_cut_off_wavelength_for_a_step_index_fiber.sce"
		   ]
		  },
  {
"cell_type": "code",
	   "execution_count": null,
	   "metadata": {
	    "collapsed": true
	   },
	   "outputs": [],
"source": [
"//Ex:3.23\n",
"clc;\n",
"clear;\n",
"close;\n",
"n1=1.46;// core refractive index\n",
"a=4.5;// core radius in um\n",
"dl=0.0025;// relative index difference\n",
"NA=n1*(sqrt(2*dl));// numerical aperture\n",
"v=2.405;\n",
"y=(2*%pi*a*NA)/(v);// cut off wavelength in um\n",
"printf('The cut off wavelength =%f um', y);"
   ]
   }
,
{
		   "cell_type": "markdown",
		   "metadata": {},
		   "source": [
			"## Example 3.24: Calculate_the_number_of_modes.sce"
		   ]
		  },
  {
"cell_type": "code",
	   "execution_count": null,
	   "metadata": {
	    "collapsed": true
	   },
	   "outputs": [],
"source": [
"//Ex:3.24\n",
"clc;\n",
"clear;\n",
"close;\n",
"n1=1.5;// core refractive index\n",
"n2=1.47;// cladding refractive index\n",
"y1=0.87;// operating wavelength in um\n",
"y2=1.5;// operating wavelength in um\n",
"a=25;// max radius in um\n",
"NA=sqrt(n1^2-n2^2);// numerical aperture\n",
"v1=(2*%pi*a*NA)/y1;\n",
"v2=(2*%pi*a*NA)/y2;\n",
"al=2;// parabolic index profile for GRIN\n",
"M1=(al/(al+2))*(v1^2/2);// number of modes\n",
"M2=(al/(al+2))*(v2^2/2);// number of modes\n",
"printf('The number of modes at 870 nm =%f um', M1);\n",
"printf('\n The number of modes =%f um', M2);"
   ]
   }
,
{
		   "cell_type": "markdown",
		   "metadata": {},
		   "source": [
			"## Example 3.25: Find_the_core_radius_and_NA_and_spot_size_and_also_find_the_divergence_angle.sce"
		   ]
		  },
  {
"cell_type": "code",
	   "execution_count": null,
	   "metadata": {
	    "collapsed": true
	   },
	   "outputs": [],
"source": [
"//Ex:3.25\n",
"clc;\n",
"clear;\n",
"close;\n",
"n1=1.5;// core refractive index\n",
"n2=1.46;// cladding refractive index\n",
"v=2.4;// cut off parameter\n",
"y=0.85;// operating wavelength in um\n",
"NA=sqrt(n1^2-n2^2);// numerical aperture\n",
"a=(v*y)/(2*3.14*NA);// max radius in um\n",
"w=v*a;// spot size\n",
"x=(2*y)/(3.4*w);// divergence angle in degree\n",
"d=50;// distance in meter\n",
"w_s=(y*d)/(%pi*w);// spot size at 50 meter\n",
"printf('The numerical aperture =%f um', NA);\n",
"printf('\n The max core radius =%f um', a);\n",
"printf('\n The spot size =%f um', w);\n",
"printf('\n The divergence angle =%f degree', x);\n",
"printf('\n The spot size at 50 meter =%f m', w_s);"
   ]
   }
,
{
		   "cell_type": "markdown",
		   "metadata": {},
		   "source": [
			"## Example 3.26: Find_the_max_allowable_diameter.sce"
		   ]
		  },
  {
"cell_type": "code",
	   "execution_count": null,
	   "metadata": {
	    "collapsed": true
	   },
	   "outputs": [],
"source": [
"//Ex:3.26\n",
"clc;\n",
"clear;\n",
"close;\n",
"n1=1.53;// core refractive index\n",
"n2=1.50;// cladding  refractive index\n",
"y=1.2;// wavelength in um\n",
"v=2.405;\n",
"a=(v*y)/(2*3.14*(sqrt(n1^2-n2^2)));// core radius in micrometer\n",
"printf('The max diameter=%f um',2*a);"
   ]
   }
,
{
		   "cell_type": "markdown",
		   "metadata": {},
		   "source": [
			"## Example 3.27: Find_the_fractional_refractive_index_change_and_the_largest_core_size.sce"
		   ]
		  },
  {
"cell_type": "code",
	   "execution_count": null,
	   "metadata": {
	    "collapsed": true
	   },
	   "outputs": [],
"source": [
"//Ex:3.27\n",
"clc;\n",
"clear;\n",
"close;\n",
"n1=1.47;// core refractive index\n",
"n2=1.46;// cladding  refractive index\n",
"y=1.3;// wavelength in um\n",
"dl=(n1-n2)/n1;// fractional refractive index diff\n",
"NA=sqrt(n1^2-n2^2);\n",
"v=2.405;\n",
"a=(v*y)/(2*3.14*(sqrt(n1^2-n2^2)));// largest core radius in micrometer\n",
"n_eff=n1-(NA/(2*3.14*(a/y)));// fractional refractive index\n",
"printf('The largest core radius =%f um', a);\n",
"printf('\n The fractional refractive index=%f',n_eff);"
   ]
   }
,
{
		   "cell_type": "markdown",
		   "metadata": {},
		   "source": [
			"## Example 3.28: Calculate_the_cut_off_parameter_and_the_of_modes.sce"
		   ]
		  },
  {
"cell_type": "code",
	   "execution_count": null,
	   "metadata": {
	    "collapsed": true
	   },
	   "outputs": [],
"source": [
"//Ex:3.28\n",
"clc;\n",
"clear;\n",
"close;\n",
"n1=1.50;// core refractive index\n",
"n2=1.48;// cladding  refractive index\n",
"NA=sqrt(n1^2-n2^2);// numerical aperture\n",
"a=25;// core radius in um\n",
"y=0.85;// wavelength in um\n",
"v=(2*3.14*a*NA)/y;// cut off parameter\n",
"M=v^2/2;// number of modes\n",
"printf('The cut off parameter =%f', v);\n",
"printf('\n The number of modes =%d',M);"
   ]
   }
,
{
		   "cell_type": "markdown",
		   "metadata": {},
		   "source": [
			"## Example 3.29: Calculate_the_max_value_of_D_and_also_find_the_acceptance_angle.sce"
		   ]
		  },
  {
"cell_type": "code",
	   "execution_count": null,
	   "metadata": {
	    "collapsed": true
	   },
	   "outputs": [],
"source": [
"//Ex:3.29\n",
"clc;\n",
"clear;\n",
"close;\n",
"n1=1.50;// core refractive index\n",
"a=25;// core radius in um\n",
"y=1.5;// wavelength in um\n",
"v=2.405;\n",
"NA=(v*y)/(2*3.14*a);// numerical aperture\n",
"D=(NA/n1)^2/(2);// max value of D\n",
"n2=n1-(D*n1);// cladding refractive index\n",
"printf('The max value of D =%f',D);\n",
"printf('\n The cladding refractive index =%f',n2);"
   ]
   }
,
{
		   "cell_type": "markdown",
		   "metadata": {},
		   "source": [
			"## Example 3.2: Find_the_dimension_of_the_core.sce"
		   ]
		  },
  {
"cell_type": "code",
	   "execution_count": null,
	   "metadata": {
	    "collapsed": true
	   },
	   "outputs": [],
"source": [
"//Ex:3.2\n",
"clc;\n",
"clear;\n",
"close;\n",
"n1=1.505;// core refractive index\n",
"n2=1.502;// cladding refractive index\n",
"n_m=sqrt(n1^2-n2^2);// numerical aperture\n",
"y=1.3*10^-6;\n",
"v=2.4;\n",
"a=(v*y)/(2*%pi*(sqrt(n1^2-n2^2)))*10^6;// core radius in micrometer\n",
"printf('numerical aperture=%f',n_m);\n",
"printf('\n core radius=%f micrometer',a);"
   ]
   }
,
{
		   "cell_type": "markdown",
		   "metadata": {},
		   "source": [
			"## Example 3.30: EX3_30.sce"
		   ]
		  },
  {
"cell_type": "code",
	   "execution_count": null,
	   "metadata": {
	    "collapsed": true
	   },
	   "outputs": [],
"source": [
"//Ex:3.30\n",
"clc;\n",
"clear;\n",
"close;\n",
"n1=1.52;// core refractive index\n",
"n2=1.48;// cladding  refractive index\n",
"a=45;// core radius in um\n",
"y=0.85;// wavelength in um\n",
"dl=(n1-n2)/n1;// relative refractive index\n",
"x=(asin(n2/n1))*(180/3.14);// critical angle in degree\n",
"NA=sqrt(n1^2-n2^2);// numerical aperture\n",
"a_c=(asin(NA))*(180/3.14);// acceptance angle in degree\n",
"a_s=3.14*(n1^2-n2^2);// solid acceptance angle\n",
"v=(2*3.14*a*0.34)/y;// normalise v-number\n",
"M=v^2/2;// number of guided modes\n",
"a1=5;// for single mode step fiber\n",
"v1=(2*3.14*a1*0.34)/y;\n",
"M1=v1^2/2;\n",
"R=M-M1;// reduction in modes\n",
"printf('The max value of D =%f',dl);\n",
"printf('\n The critical angle =%f degree',x);\n",
"printf('\n The acceptance angle =%f degree',2*a_c);\n",
"printf('\n The solid acceptance angle =%f degree',a_s);\n",
"printf('\n The numerical aperture =%f',NA);\n",
"printf('\n The normalise v-number =%f',v);\n",
"printf('\n The number of guided modes =%d',M);\n",
"printf('\n The reduction in modes =%d',R);"
   ]
   }
,
{
		   "cell_type": "markdown",
		   "metadata": {},
		   "source": [
			"## Example 3.31: Find_the_normalised_frequency_and_number_of_guided_modes.sce"
		   ]
		  },
  {
"cell_type": "code",
	   "execution_count": null,
	   "metadata": {
	    "collapsed": true
	   },
	   "outputs": [],
"source": [
"//Ex:3.31\n",
"clc;\n",
"clear;\n",
"close;\n",
"n1=1.46;// core refractive index\n",
"a=45/2;// max radius in um\n",
"y=0.85;// operating wavelength in um\n",
"NA=0.17;// numerical aperture\n",
"v=(2*3.14*a*NA)/y;//normalised frequency\n",
"M=v^2/2;// number of modes\n",
"printf('The normalised frequency =%f', v);\n",
"printf('\n The number of modes =%d', M);"
   ]
   }
,
{
		   "cell_type": "markdown",
		   "metadata": {},
		   "source": [
			"## Example 3.3: Find_the_propagation_constant.sce"
		   ]
		  },
  {
"cell_type": "code",
	   "execution_count": null,
	   "metadata": {
	    "collapsed": true
	   },
	   "outputs": [],
"source": [
"//Ex:3.3\n",
"clc;\n",
"clear;\n",
"close;\n",
"n1=1.5;// core refractive index\n",
"dl=0.01;//index difference\n",
"m=0;// for the dominant mode\n",
"v=0;// for the dominant mode\n",
"y=1.3;// in micrometer\n",
"a=5;// radius in micrometer\n",
"k=(2*%pi)/y;\n",
"b=k^2*n1^2-(2*k*n1*sqrt(2*dl))/a;\n",
"B=sqrt(b);// propagation constant in rad/um\n",
"printf('propagation constant=%f rad/um',B);"
   ]
   }
,
{
		   "cell_type": "markdown",
		   "metadata": {},
		   "source": [
			"## Example 3.4: EX3_4.sce"
		   ]
		  },
  {
"cell_type": "code",
	   "execution_count": null,
	   "metadata": {
	    "collapsed": true
	   },
	   "outputs": [],
"source": [
"//Ex:3.4\n",
"clc;\n",
"clear;\n",
"close;\n",
"b=1/2;// propagtion constant\n",
"printf('normalised propagtion constant');\n",
"printf('\n B=((b/k)^2-n2^2)/(n1^2-n2^2)');\n",
"printf('\n thus when b=1/2');\n",
"printf('\n B=k*sqrt(n2^2+b*(n1^2-n2^2))');\n",
"printf('\n B=k*sqrt((n1^2-n2^2)/2)');\n",
"printf('\n which gives its rms value');"
   ]
   }
,
{
		   "cell_type": "markdown",
		   "metadata": {},
		   "source": [
			"## Example 3.5: Find_the_number_of_TE_modes.sce"
		   ]
		  },
  {
"cell_type": "code",
	   "execution_count": null,
	   "metadata": {
	    "collapsed": true
	   },
	   "outputs": [],
"source": [
"//Ex:3.5\n",
"clc;\n",
"clear;\n",
"close;\n",
"n1=3.6;// core refractive index\n",
"n2=3.3;// cladding refractive index\n",
"d=2.0;// thickness in um\n",
"y=0.8;// wavelength in um\n",
"m=(2*d*sqrt(n1^2-n2^2))/y;// total no. of models allowed\n",
"M=ceil(m);// total no. of models allowed\n",
"printf('total no. of models allowed=%d',M);"
   ]
   }
,
{
		   "cell_type": "markdown",
		   "metadata": {},
		   "source": [
			"## Example 3.6: Find_the_normalised_frequency_and_number_of_guided_modess.sce"
		   ]
		  },
  {
"cell_type": "code",
	   "execution_count": null,
	   "metadata": {
	    "collapsed": true
	   },
	   "outputs": [],
"source": [
"//Ex:3.6\n",
"clc;\n",
"clear;\n",
"close;\n",
"n1=1.48;// core refractive index\n",
"a=40*(10^-6);// core radius in meter\n",
"dl=0.015;// index difference\n",
"y=0.85*(10^-6);// wavelength in um\n",
"v=(2*%pi*a*n1*sqrt(2*dl))/y;// normalised frequency\n",
"M=v^2/2;\n",
"m=ceil(M);// the total no. of guided  modes\n",
"printf('normalised frequency=%f',v);\n",
"printf('\n the total no. of guided  modess =%d',m);"
   ]
   }
,
{
		   "cell_type": "markdown",
		   "metadata": {},
		   "source": [
			"## Example 3.7: EX3_7.sce"
		   ]
		  },
  {
"cell_type": "code",
	   "execution_count": null,
	   "metadata": {
	    "collapsed": true
	   },
	   "outputs": [],
"source": [
"//Ex:3.7\n",
"clc;\n",
"clear;\n",
"close;\n",
"n1=1.46;// core refractive index\n",
"dl=0.015;// index difference\n",
"a=30*(10^-6);// core radius in meter\n",
"y=0.85*(10^-6);// wavelength in um\n",
"n2=n1-(n1*dl);// cladding refractive index\n",
"v=(2*%pi*a*n1*sqrt(2*dl))/y;// normalised frequency\n",
"M=v^2/2;// the total no. of guided  modes\n",
"printf('cladding refractive index=%f',n2);\n",
"printf('\n normalised frequency=%f',v);\n",
"printf('\n the total no. of guided  modess =%d',M);"
   ]
   }
,
{
		   "cell_type": "markdown",
		   "metadata": {},
		   "source": [
			"## Example 3.8: Calculate_the_diameter_of_the_fiber.sce"
		   ]
		  },
  {
"cell_type": "code",
	   "execution_count": null,
	   "metadata": {
	    "collapsed": true
	   },
	   "outputs": [],
"source": [
"//Ex:3.8\n",
"clc;\n",
"clear;\n",
"close;\n",
"n1=1.5;// core refractive index\n",
"dl=0.01;// index difference\n",
"M=1100;// the total no. of guided  modes\n",
"y=1.3*(10^-6);// wavelength in um\n",
"v=sqrt(2*M);// normalised frequency\n",
"a=(v*y)/(2*%pi*n1*sqrt(2*dl))*10^6;// core radius in meter\n",
"printf('normalised frequency=%f',v);\n",
"printf('\n the diameter of the fiber core =%f um',2*a);"
   ]
   }
,
{
		   "cell_type": "markdown",
		   "metadata": {},
		   "source": [
			"## Example 3.9: Determine_the_normalised_frequency_for_fiber.sce"
		   ]
		  },
  {
"cell_type": "code",
	   "execution_count": null,
	   "metadata": {
	    "collapsed": true
	   },
	   "outputs": [],
"source": [
"//Ex:3.9\n",
"clc;\n",
"clear;\n",
"close;\n",
"n1=1.45;// core refractive index\n",
"n_m=0.16;// numerical aperture\n",
"a=30*10^-6;// core radius in micrometer\n",
"y=0.5*(10^-6);// wavelength in um\n",
"v=(2*%pi*a*n_m)/y;// normalised frequency\n",
"printf('normalised frequency=%f',v);"
   ]
   }
],
"metadata": {
		  "kernelspec": {
		   "display_name": "Scilab",
		   "language": "scilab",
		   "name": "scilab"
		  },
		  "language_info": {
		   "file_extension": ".sce",
		   "help_links": [
			{
			 "text": "MetaKernel Magics",
			 "url": "https://github.com/calysto/metakernel/blob/master/metakernel/magics/README.md"
			}
		   ],
		   "mimetype": "text/x-octave",
		   "name": "scilab",
		   "version": "0.7.1"
		  }
		 },
		 "nbformat": 4,
		 "nbformat_minor": 0
}
