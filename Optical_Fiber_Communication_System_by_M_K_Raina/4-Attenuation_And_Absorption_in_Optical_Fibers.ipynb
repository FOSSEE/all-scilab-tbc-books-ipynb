{
"cells": [
 {
		   "cell_type": "markdown",
	   "metadata": {},
	   "source": [
       "# Chapter 4: Attenuation And Absorption in Optical Fibers"
	   ]
	},
{
		   "cell_type": "markdown",
		   "metadata": {},
		   "source": [
			"## Example 4.10: EX4_10.sce"
		   ]
		  },
  {
"cell_type": "code",
	   "execution_count": null,
	   "metadata": {
	    "collapsed": true
	   },
	   "outputs": [],
"source": [
"//Ex:4.10\n",
"clc;\n",
"clear;\n",
"close;\n",
"Pi=20*10^-6;// average optical power in watt\n",
"Po=7.5*10^-6;// average output power in watt\n",
"sl=10*log(Pi/Po)/log(10);// signal Loss in dB\n",
"L=15;// in km\n",
"L1=30;// in km\n",
"ns=29;// number of attenuation\n",
"sp=sl/L;// signal Loss per km\n",
"sn=sp*L1;// signal attenuation for 30 km\n",
"sn1=sn+ns;// overall signal attenuation in dB\n",
"i_o=10^(sn1/20);// input output power ratio\n",
"printf('The signal Loss =%f dB', sl);\n",
"printf('\n The signal Loss per km=%f dB/km', sp);\n",
"printf('\n The overall signal attenuation=%f dB', sn1);\n",
"printf('\n The input output power ratio=%f', i_o);"
   ]
   }
,
{
		   "cell_type": "markdown",
		   "metadata": {},
		   "source": [
			"## Example 4.11: Dtermine_the_attenuation_in_db_per_km_due_to_rayleigh_scattering_in_silica.sce"
		   ]
		  },
  {
"cell_type": "code",
	   "execution_count": null,
	   "metadata": {
	    "collapsed": true
	   },
	   "outputs": [],
"source": [
"//Ex:4.11\n",
"clc;\n",
"clear;\n",
"close;\n",
"Tf=1400;// temperature in k\n",
"Bc=7*10^-11;// in m^2/N\n",
"n=1.38;// \n",
"P=0.29;// Photoelastic coefficient\n",
"y=0.9*10^-6;// wavelength in m\n",
"K=1.38*10^-23;// boltzman's constant\n",
"Rrs=((8*%pi^3)*(n^8)*(P^2)*(Bc*Tf*K))/(3*y^4);\n",
"Rrs1=Rrs/10^-3;// per km\n",
"e=2.718281828;// Exponential term\n",
"Lkm=e^(-Rrs1);// transmission loss facter\n",
"At=10*log(1/Lkm)/log(10);// Attenuation in dB/km\n",
"printf('The Attenuation=%f dB/km', At);"
   ]
   }
,
{
		   "cell_type": "markdown",
		   "metadata": {},
		   "source": [
			"## Example 4.12: Calculat_the_threshold_optical_powers_of_SBS_and_SRS.sce"
		   ]
		  },
  {
"cell_type": "code",
	   "execution_count": null,
	   "metadata": {
	    "collapsed": true
	   },
	   "outputs": [],
"source": [
"//Ex:4.12\n",
"clc;\n",
"clear;\n",
"close;\n",
"y=1.35;// wavelength in um\n",
"d=5;// core diamater in um\n",
"a=0.75;// attenuation in dB/km\n",
"v=0.45;// bandwidth in GHz\n",
"Pb=4.4*10^-3*(d^2)*(y^2)*(a*v);// threshold optical power for sbs\n",
"Pr=5.9*10^-2*(d^2)*(y)*(a);// threshold optical power for sbr\n",
"Pbr=Pb/Pr;// the ratio of threshold power level\n",
"printf('The ratio of threshold power level=%f %%', Pbr*100);"
   ]
   }
,
{
		   "cell_type": "markdown",
		   "metadata": {},
		   "source": [
			"## Example 4.13: Calculate_the_critical_radius_of_curvature_at_which_large_bending_losses_occour.sce"
		   ]
		  },
  {
"cell_type": "code",
	   "execution_count": null,
	   "metadata": {
	    "collapsed": true
	   },
	   "outputs": [],
"source": [
"//Ex:4.13\n",
"clc;\n",
"clear;\n",
"close;\n",
"n1=1.5;// core refractive index\n",
"y=0.85*10^-6;// wavelength in m\n",
"dl=0.024;// relative refractive index difference\n",
"N2=sqrt(n1^2-2*dl*n1^2);// cladding refractive index\n",
"n2=1.46;\n",
"Rcs=(3*n1^2*y)/((4*%pi)*(n1^2-n2^2)^1.5);// critical radius of curvature for multimode fiber\n",
"printf('The critical radius of curvature =%f um', Rcs*10^6);"
   ]
   }
,
{
		   "cell_type": "markdown",
		   "metadata": {},
		   "source": [
			"## Example 4.14: Find_the_critical_radius_of_both_single_mode_and_multimode_fibers.sce"
		   ]
		  },
  {
"cell_type": "code",
	   "execution_count": null,
	   "metadata": {
	    "collapsed": true
	   },
	   "outputs": [],
"source": [
"//Ex:4.14\n",
"clc;\n",
"clear;\n",
"close;\n",
"n1=1.45;// core refractive index\n",
"y=1.5*10^-6;// wavelength in m\n",
"dl=0.03;// relative refractive index difference\n",
"a=5*10^-6;// core radius\n",
"n2=sqrt(n1^2-2*dl*n1^2);// cladding refractive index\n",
"yc=(2*%pi*a*n1*sqrt(2*dl))/(2.405);\n",
"Rcs=(20*y*(2.748-0.996*(y/yc))^-3)/(n1^2-n2^2)^1.5;// critical radius of curvature for single mode fiber\n",
"Rcs1=(3*n1^2*y)/((4*%pi)*(n1^2-n2^2)^1.5);// critical radius of curvature for multimode fiber\n",
"printf('The critical radius of curvature for single mode fiber =%f um', Rcs*10^6);\n",
"printf('\n The answer is wrong in the textbook');\n",
"printf('\n The critical radius of curvature for multimode fiber =%f um', Rcs1*10^6);"
   ]
   }
,
{
		   "cell_type": "markdown",
		   "metadata": {},
		   "source": [
			"## Example 4.15: Find_the_loss_in_db_per_km_of_the_fiber.sce"
		   ]
		  },
  {
"cell_type": "code",
	   "execution_count": null,
	   "metadata": {
	    "collapsed": true
	   },
	   "outputs": [],
"source": [
"//Ex:4.15\n",
"clc;\n",
"clear;\n",
"close;\n",
"L=500/1000;// distance in km\n",
"Pio=(1/(1-0.75));\n",
"Ls=10*log(Pio)/log(10)/L;// Loss in dB/km\n",
"printf('The Loss =%f dB/km', Ls);"
   ]
   }
,
{
		   "cell_type": "markdown",
		   "metadata": {},
		   "source": [
			"## Example 4.16: Calculate_the_power_level_in_mW_after_travelling_a_distance_of_5_km.sce"
		   ]
		  },
  {
"cell_type": "code",
	   "execution_count": null,
	   "metadata": {
	    "collapsed": true
	   },
	   "outputs": [],
"source": [
"//Ex:4.16\n",
"clc;\n",
"clear;\n",
"close;\n",
"L=5;// length in km\n",
"a=0.5;// attenuaion loss in dB/km\n",
"Po=10^-3*10^(-(a*L)/10);// power level in mW\n",
"printf('The power level =%f mW', Po*10^3);"
   ]
   }
,
{
		   "cell_type": "markdown",
		   "metadata": {},
		   "source": [
			"## Example 4.17: Calculate_the_fiber_loss_in_dB.sce"
		   ]
		  },
  {
"cell_type": "code",
	   "execution_count": null,
	   "metadata": {
	    "collapsed": true
	   },
	   "outputs": [],
"source": [
"//Ex:4.17\n",
"clc;\n",
"clear;\n",
"close;\n",
"L=1;// distance in km\n",
"Pio=(1/(1-0.40));\n",
"Ls=10*log(Pio)/log(10)/L;// Loss in dB/km\n",
"printf('The Loss =%f dB/km', Ls);"
   ]
   }
,
{
		   "cell_type": "markdown",
		   "metadata": {},
		   "source": [
			"## Example 4.18: What_will_be_the_transmission_length_caused_by_the_fiber.sce"
		   ]
		  },
  {
"cell_type": "code",
	   "execution_count": null,
	   "metadata": {
	    "collapsed": true
	   },
	   "outputs": [],
"source": [
"//Ex:4.18\n",
"clc;\n",
"clear;\n",
"close;\n",
"Pi=1*10^-3;// input power in watt\n",
"Po=0.75*10^-3;// output power in watt\n",
"a=0.5;// in dB/km\n",
"L=(10*log(Pi/Po)/log(10))/a;// transmission length in km\n",
"printf('The transmission length =%f km', L);"
   ]
   }
,
{
		   "cell_type": "markdown",
		   "metadata": {},
		   "source": [
			"## Example 4.19: EX4_19.sce"
		   ]
		  },
  {
"cell_type": "code",
	   "execution_count": null,
	   "metadata": {
	    "collapsed": true
	   },
	   "outputs": [],
"source": [
"//Ex:4.19\n",
"clc;\n",
"clear;\n",
"close;\n",
"y=1300*10^-9;// wavelemgth in m\n",
"yc=1200*10^-9;// cut off wavelength in m\n",
"rc=5*10^-6;// core diameter in m\n",
"n=1.5;// refractive index\n",
"R=1.2/100;// curve of radius in m\n",
"dmf=2*rc*((0.65)+0.434*(y/yc)^1.5+0.0149*(y/yc)^6);// mode field diameter\n",
"K=(2*%pi)/y;\n",
"Lm=-10*log(1-(K^4)*(n^4)*((3.95*10^-6)/(8*R^2))^6)/log(10);// macrobend loss\n",
"printf('The mode field diameter =%f um', dmf*10^6);\n",
"printf('\n The macrobend loss =%f dB', Lm);\n",
"printf('\n The answer is wrong in the textbook');"
   ]
   }
,
{
		   "cell_type": "markdown",
		   "metadata": {},
		   "source": [
			"## Example 4.1: EX4_1.sce"
		   ]
		  },
  {
"cell_type": "code",
	   "execution_count": null,
	   "metadata": {
	    "collapsed": true
	   },
	   "outputs": [],
"source": [
"//Ex:4.1\n",
"clc;\n",
"clear;\n",
"close;\n",
"Pi=100*10^-6;// mean optical power in watt\n",
"Po=2*10^-6;// output mean power in watt\n",
"L=6;// length in km\n",
"L1=8;// length in km\n",
"as=10*log(Pi/Po)/log(10);// signal attenuation in dB\n",
"as1=as/L;// signal attenuation per km\n",
"Li=as1*L1;// Loss incurred along 8 km\n",
"Ls=7;// Loss due to splice in dB\n",
"as2=Li+Ls;// overall signal attenuation in dB\n",
"As2=29.4;// aprox. overall signal attenuation in dB\n",
"Pio=10^(As2/10);// i/p o/p power ratio\n",
"printf('The signal attenuation =%f dB', as);\n",
"printf('\n The signal attenuation per km =%f dB/km', as1);\n",
"printf('\n The trgth =%f km', Li);\n",
"printf('\n The overall signal attenuation =%f dB', as2);\n",
"printf('\n The i/p o/p power ratio =%f ', Pio);"
   ]
   }
,
{
		   "cell_type": "markdown",
		   "metadata": {},
		   "source": [
			"## Example 4.20: Find_the_loss_in_dB_per_km_for_a_fiber.sce"
		   ]
		  },
  {
"cell_type": "code",
	   "execution_count": null,
	   "metadata": {
	    "collapsed": true
	   },
	   "outputs": [],
"source": [
"//Ex:4.20\n",
"clc;\n",
"clear;\n",
"close;\n",
"Pi=10*10^-3;// input power in watt\n",
"Po=8*10^-3;// output power in watt\n",
"L=0.150;// length in km\n",
"Ls=(10*log(Po/Pi)/log(10))/L;\n",
"printf('The transmission length =%f km', Ls);"
   ]
   }
,
{
		   "cell_type": "markdown",
		   "metadata": {},
		   "source": [
			"## Example 4.2: Determine_the_max_possible_link_length.sce"
		   ]
		  },
  {
"cell_type": "code",
	   "execution_count": null,
	   "metadata": {
	    "collapsed": true
	   },
	   "outputs": [],
"source": [
"//Ex:4.2\n",
"clc;\n",
"clear;\n",
"close;\n",
"Pi=1.5*10^-3;// mean optical power in watt\n",
"Po=2*10^-6;// output mean power in watt\n",
"a=0.5;// dB/km\n",
"L=(10*log(Pi/Po)/log(10))/a;// max possible link Length in km\n",
"printf('The max possible link Length =%f km', L);"
   ]
   }
,
{
		   "cell_type": "markdown",
		   "metadata": {},
		   "source": [
			"## Example 4.3: Determine_the_theoritical_attenuation_due_to_fundamental_rayleigh_scattering.sce"
		   ]
		  },
  {
"cell_type": "code",
	   "execution_count": null,
	   "metadata": {
	    "collapsed": true
	   },
	   "outputs": [],
"source": [
"//Ex:4.3\n",
"clc;\n",
"clear;\n",
"close;\n",
"n=1.46;// core refractive index\n",
"p=0.286;// photoelastic coeff\n",
"b=7*10^-11;// isothermal compressibility\n",
"k=1.381*10^-23;// boltzmann's constant\n",
"tf=1400;// fictive temperature in k\n",
"y1=0.85*10^-6;// wavelength in m\n",
"yr=((8*%pi^3)*(n^8)*(p^2)*(b*k*tf))/(3*y1^4);\n",
"e=2.718281828;\n",
"akm=e^(-yr*10^3);\n",
"at=10*log(1/akm)/log(10);// attenuation at y=0.85 um\n",
"y2=1.55*10^-6;// wavelength in m\n",
"yr1=((8*%pi^3)*(n^8)*(p^2)*(b*k*tf))/(3*y2^4);\n",
"akm1=e^(-yr1*10^3);\n",
"at1=10*log(1/akm1)/log(10);// attenuation at y=1.55 um\n",
"y3=1.30*10^-6;// wavelength in m\n",
"yr2=((8*%pi^3)*(n^8)*(p^2)*(b*k*tf))/(3*y3^4);\n",
"akm2=e^(-yr2*10^3);\n",
"at2=10*log(1/akm2)/log(10);// attenuation at y=1.30 um\n",
"printf('The Loss of an optical fiber =%f dB/km', at);\n",
"printf('\n The Loss of an optical fiber =%f dB/km', at1);\n",
"printf('\n The Loss of an optical fiber =%f dB/km', at2);"
   ]
   }
,
{
		   "cell_type": "markdown",
		   "metadata": {},
		   "source": [
			"## Example 4.4: calculate_the_threshold_optical_powar_for_SBS_and_SRS.sce"
		   ]
		  },
  {
"cell_type": "code",
	   "execution_count": null,
	   "metadata": {
	    "collapsed": true
	   },
	   "outputs": [],
"source": [
"//Ex:4.4\n",
"clc;\n",
"clear;\n",
"close;\n",
"d=6;// core diameter in m\n",
"y=1.55;// wavelength in m\n",
"a=0.5;// attenuation in dB/km\n",
"v=0.4;\n",
"Pb=4.4*10^-3*d^2*y^2*a*v;// threshold power for SBS\n",
"Pr=5.9*10^-2*d^2*y*a;// threshold power for SRS\n",
"printf('The threshold power for SBS =%d mw', Pb*10^3);\n",
"printf('\n The threshold power for SRS =%f W', Pr);"
   ]
   }
,
{
		   "cell_type": "markdown",
		   "metadata": {},
		   "source": [
			"## Example 4.5: EX4_5.sce"
		   ]
		  },
  {
"cell_type": "code",
	   "execution_count": null,
	   "metadata": {
	    "collapsed": true
	   },
	   "outputs": [],
"source": [
"//Ex:4.5\n",
"clc;\n",
"clear;\n",
"close;\n",
"n1=1.46;// core refractive index\n",
"dl=0.03;// relative refractive index difference\n",
"y=0.85*10^-6;// operating wavelength in m\n",
"a=4*10^-6;// core radous in m\n",
"n2=sqrt(n1^2-2*dl*n1^2);// cladding refractive index\n",
"Rc=(3*n1^2*y)/(4*%pi*(n1^2-n2^2)^1.5);// critical radius of curvature for multimode fiber\n",
"Dl=0.003;// relative refractive index difference\n",
"N2=sqrt(n1^2-2*Dl*n1^2);// \n",
"yc=(2*%pi*a*n1*(2*Dl)^0.5)/2.405;// cut off wavelength in m\n",
"y1=1.55*10^-6;// operating wavelength in m\n",
"Rcs=(20*y1*(2.748-0.996*(y1/yc))^-3)/(0.005)^1.5;// critical radius of curvature for a single mode fiber\n",
"printf('The critical radius of curvature for multimode fiber =%f um', Rc*10^6);;\n",
"printf('\n The critical radius of curvature for a single mode fiber =%f um', Rcs*10^3);"
   ]
   }
,
{
		   "cell_type": "markdown",
		   "metadata": {},
		   "source": [
			"## Example 4.6: Compute_The_material_loss_of_a_graded_index_fiber.sce"
		   ]
		  },
  {
"cell_type": "code",
	   "execution_count": null,
	   "metadata": {
	    "collapsed": true
	   },
	   "outputs": [],
"source": [
"//Ex:4.6\n",
"clc;\n",
"clear;\n",
"close;\n",
"x=2;// index profile\n",
"dl=0.0126;// index difference\n",
"a=(85/2)*10^-6;// core radius\n",
"R=2*10^-3;// curve of radius\n",
"n1=1.45;// core refractive index\n",
"k=6.28;\n",
"y=850*10^-9;// wavelength in m\n",
"A=(x+2)/(2*x*dl);\n",
"B=(2*a/R);\n",
"C=(3*y/(2*k*R*n1))^(2/3);\n",
"D=B+C;\n",
"E=A*D;\n",
"F=1-E;\n",
"Lm=-10*log(1-A*(B+C))/log(10);// macrobend loss in dB\n",
"printf('The macrobend loss =%f dB', Lm);\n",
"printf('\n The answer is wrong in the textbook');"
   ]
   }
,
{
		   "cell_type": "markdown",
		   "metadata": {},
		   "source": [
			"## Example 4.7: Calculate_the_Loss_Of_An_Optical_fiber.sce"
		   ]
		  },
  {
"cell_type": "code",
	   "execution_count": null,
	   "metadata": {
	    "collapsed": true
	   },
	   "outputs": [],
"source": [
"//Ex:4.7\n",
"clc;\n",
"clear;\n",
"close;\n",
"Pi=15;// optical power in uw\n",
"Po=7;// ouput power in uw\n",
"L=0.15;// length in km\n",
"Ls=(10*log(Pi/Po)/log(10))/L;// Loss of an optical fiber in dB\n",
"printf('The Loss of an optical fiber =%d dB', Ls);"
   ]
   }
,
{
		   "cell_type": "markdown",
		   "metadata": {},
		   "source": [
			"## Example 4.8: Calculate_the_signal_attenuation_per_km_and_overall_signal_attenuation_for_12km.sce"
		   ]
		  },
  {
"cell_type": "code",
	   "execution_count": null,
	   "metadata": {
	    "collapsed": true
	   },
	   "outputs": [],
"source": [
"//Ex:4.8\n",
"clc;\n",
"clear;\n",
"close;\n",
"Pi=200*10^-6;// average optical power in watt\n",
"Po=5*10^-6;// average output power in watt\n",
"L=20;// in km\n",
"L1=12;// in km\n",
"ns=5;// number of attenuation\n",
"a=0.9;// attenuation in dB\n",
"sa=10*log(Pi/Po)/log(10);// signal attenuation\n",
"sp=sa/L;// signal attenuation per km\n",
"sn=sp*L1;// signal attenuation for 12 km\n",
"sn1=ns*a;// attenuation in dB\n",
"sn2=sn+sn1;// overall signal attenuation in dB\n",
"printf('The signal attenuation per km =%f dB/km', sp);\n",
"printf('\n The overall signal attenuation=%f dB ', sn2);"
   ]
   }
,
{
		   "cell_type": "markdown",
		   "metadata": {},
		   "source": [
			"## Example 4.9: EX4_9.sce"
		   ]
		  },
  {
"cell_type": "code",
	   "execution_count": null,
	   "metadata": {
	    "collapsed": true
	   },
	   "outputs": [],
"source": [
"//Ex:4.9\n",
"clc;\n",
"clear;\n",
"close;\n",
"Pi=100*10^-6;// average optical power in watt\n",
"Po=4*10^-6;// average output power in watt\n",
"L=6;// in km\n",
"L1=10;// in km\n",
"sa=10*log(Pi/Po)/log(10);// signal attenuation\n",
"sp=sa/L;// signal attenuation per km\n",
"sn=sp*L1;// signal attenuation for 12 km\n",
"sn1=sn+9;// overall signal attenuation in dB\n",
"printf('The signal attenuation=%f dB', sa);\n",
"printf('\n The signal attenuation per km =%f dB/km', sp);\n",
"printf('\n The overall signal attenuation=%d dB ', sn1);"
   ]
   }
],
"metadata": {
		  "kernelspec": {
		   "display_name": "Scilab",
		   "language": "scilab",
		   "name": "scilab"
		  },
		  "language_info": {
		   "file_extension": ".sce",
		   "help_links": [
			{
			 "text": "MetaKernel Magics",
			 "url": "https://github.com/calysto/metakernel/blob/master/metakernel/magics/README.md"
			}
		   ],
		   "mimetype": "text/x-octave",
		   "name": "scilab",
		   "version": "0.7.1"
		  }
		 },
		 "nbformat": 4,
		 "nbformat_minor": 0
}
