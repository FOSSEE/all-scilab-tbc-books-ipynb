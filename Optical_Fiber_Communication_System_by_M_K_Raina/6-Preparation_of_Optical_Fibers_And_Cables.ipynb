{
"cells": [
 {
		   "cell_type": "markdown",
	   "metadata": {},
	   "source": [
       "# Chapter 6: Preparation of Optical Fibers And Cables"
	   ]
	},
{
		   "cell_type": "markdown",
		   "metadata": {},
		   "source": [
			"## Example 6.1: EX6_1.sce"
		   ]
		  },
  {
"cell_type": "code",
	   "execution_count": null,
	   "metadata": {
	    "collapsed": true
	   },
	   "outputs": [],
"source": [
"//Ex:6.1\n",
"clc;\n",
"clear;\n",
"close;\n",
"r=125*10^-6;// cladding radius in meter\n",
"R=8*10^-2;// curve of radius in meter\n",
"s=((R+2*r)/(R+r))-1;\n",
"s_p=s*100;// percentage of strain\n",
"printf('The percentage of strain =%f %%', s_p);\n",
"printf('\n If this condition is maintained the fiber will maintain without any break');"
   ]
   }
,
{
		   "cell_type": "markdown",
		   "metadata": {},
		   "source": [
			"## Example 6.2: Find_the_pulling_tension.sce"
		   ]
		  },
  {
"cell_type": "code",
	   "execution_count": null,
	   "metadata": {
	    "collapsed": true
	   },
	   "outputs": [],
"source": [
"//Ex:6.2\n",
"clc;\n",
"clear;\n",
"close;\n",
"w=40*10^-3;// cable weighing in kg/m\n",
"R=20*10^-2;// radius of curvature in meter\n",
"n=0.19;// co-efficient of friction\n",
"x=(3.14/4);// angle in rad\n",
"si=42.36;// pulling tension at the entrance in kg\n",
"X=(si/(w*R));//\n",
"Y=asinh(si/(w*R));\n",
"Z=w*R*sinh(n*x+Y);//puttling tension at the exit of an optical cable\n",
"printf('The puttling tension at the exit of an optical cable =%f kg', Z);"
   ]
   }
],
"metadata": {
		  "kernelspec": {
		   "display_name": "Scilab",
		   "language": "scilab",
		   "name": "scilab"
		  },
		  "language_info": {
		   "file_extension": ".sce",
		   "help_links": [
			{
			 "text": "MetaKernel Magics",
			 "url": "https://github.com/calysto/metakernel/blob/master/metakernel/magics/README.md"
			}
		   ],
		   "mimetype": "text/x-octave",
		   "name": "scilab",
		   "version": "0.7.1"
		  }
		 },
		 "nbformat": 4,
		 "nbformat_minor": 0
}
