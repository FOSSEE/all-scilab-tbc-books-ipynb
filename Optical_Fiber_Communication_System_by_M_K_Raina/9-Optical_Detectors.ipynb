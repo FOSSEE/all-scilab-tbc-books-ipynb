{
"cells": [
 {
		   "cell_type": "markdown",
	   "metadata": {},
	   "source": [
       "# Chapter 9: Optical Detectors"
	   ]
	},
{
		   "cell_type": "markdown",
		   "metadata": {},
		   "source": [
			"## Example 9.10: Calculate_the_quantum_efficiency_and_responsivity_of_the_detector.sce"
		   ]
		  },
  {
"cell_type": "code",
	   "execution_count": null,
	   "metadata": {
	    "collapsed": true
	   },
	   "outputs": [],
"source": [
"//Ex:9.10\n",
"clc;\n",
"clear;\n",
"close;\n",
"Iph=75*10^-6;// output photocurrent in A\n",
"y=0.85;// operating wavelength in um\n",
"Pi=750*10^-6;// incident optical power in uW\n",
"R=Iph/Pi;// responsivity in A/W\n",
"n=1.24*R/y;// external quantum efficiency\n",
"n1=n*100;// percentage of external quantum efficiency\n",
"printf('The responsivity =%f A/W ', R);\n",
"printf('\n The external quantum efficiency =%f%% ', n1);"
   ]
   }
,
{
		   "cell_type": "markdown",
		   "metadata": {},
		   "source": [
			"## Example 9.11: Calculate_the_transit_time_for_silicon_photodiode.sce"
		   ]
		  },
  {
"cell_type": "code",
	   "execution_count": null,
	   "metadata": {
	    "collapsed": true
	   },
	   "outputs": [],
"source": [
"//Ex:9.11\n",
"clc;\n",
"clear;\n",
"close;\n",
"Vs=10^5;// saturation in m/s\n",
"W=7*10^-6;// depletion layer width in m\n",
"tr=W/Vs;// transit time in sec\n",
"printf('The transit time =%f ps', tr*10^12);"
   ]
   }
,
{
		   "cell_type": "markdown",
		   "metadata": {},
		   "source": [
			"## Example 9.12: Calculate_the_max_3dB_bandwidth_for_a_silicon.sce"
		   ]
		  },
  {
"cell_type": "code",
	   "execution_count": null,
	   "metadata": {
	    "collapsed": true
	   },
	   "outputs": [],
"source": [
"//Ex:9.12\n",
"clc;\n",
"clear;\n",
"close;\n",
"Vs=3*10^4;// saturation in m/s\n",
"W=25*10^-6;// depletion layer width in m\n",
"tr=W/Vs;// transit time in sec\n",
"f=0.35/tr;// max 3 dB bandwidth Hz\n",
"f1=f/10^6;// max 3 dB bandwidth Hz\n",
"printf('The max 3 dB bandwidth =%d MHz', f1);\n",
"printf('\n The answer is wrong in the textbook');"
   ]
   }
,
{
		   "cell_type": "markdown",
		   "metadata": {},
		   "source": [
			"## Example 9.13: EX9_13.sce"
		   ]
		  },
  {
"cell_type": "code",
	   "execution_count": null,
	   "metadata": {
	    "collapsed": true
	   },
	   "outputs": [],
"source": [
"//Ex:9.13\n",
"clc;\n",
"clear;\n",
"close;\n",
"Vs=3*10^4;// saturation in m/s\n",
"W=25*10^-6;// depletion layer width in m\n",
"E=10.5*10^-11;// in F/m\n",
"RL=15*10^6;// load resister in ohm\n",
"A=0.25*10^-6;// area in m^2\n",
"tr=W/Vs;// transit time in sec\n",
"Cj=E*A/W;// junction capacitance in F\n",
"t=RL*Cj;// time constant in sec\n",
"printf('The transit time =%f ns', tr*10^9);\n",
"printf('\n The junction capacitance =%f pF', Cj*10^12);\n",
"printf('\n The time constant =%f us', t*10^6);"
   ]
   }
,
{
		   "cell_type": "markdown",
		   "metadata": {},
		   "source": [
			"## Example 9.14: calculate_the_cut_off_wavelength_for_silicon_and_germanium_PIN_diodes.sce"
		   ]
		  },
  {
"cell_type": "code",
	   "execution_count": null,
	   "metadata": {
	    "collapsed": true
	   },
	   "outputs": [],
"source": [
"//Ex:9.14\n",
"clc;\n",
"clear;\n",
"close;\n",
"Eg1=1.12;// band gap for Si in eV\n",
"Eg2=0.667;// band gap for Ge in eV\n",
"y_si=1.24/Eg1;// cut off wavelength for Si in um\n",
"y_he=1.24/Eg2;// cut off wavelength for Ge in um\n",
"printf('The cut off wavelength for Si  =%f um', y_si);\n",
"printf('\n The cut off wavelength for Ge =%f um', y_he);"
   ]
   }
,
{
		   "cell_type": "markdown",
		   "metadata": {},
		   "source": [
			"## Example 9.15: EX9_15.sce"
		   ]
		  },
  {
"cell_type": "code",
	   "execution_count": null,
	   "metadata": {
	    "collapsed": true
	   },
	   "outputs": [],
"source": [
"//Ex:9.15\n",
"clc;\n",
"clear;\n",
"close;\n",
"n=0.50;// quantum efficiency\n",
"e=1.6*10^-19;// charge\n",
"h=6.626*10^-34;// plank constant\n",
"c=3*10^8;// speed of light in m/s\n",
"y=0.9*10^-6// wavelength in m\n",
"R=(n*e*y)/(h*c);// responsivity in A/W\n",
"Ip=10^-6;// mean photo current\n",
"Po=Ip/R;// received optical power in W\n",
"f=c/y;\n",
"re=(n*Po)/(h*f);\n",
"rp=re/n;// number of received photons\n",
"printf('The responsivity =%f A/W', R);\n",
"printf('\n The received optical power =%f uW', Po*10^6);\n",
"printf('\n The number of received photons =%f*10^13 photons/sec', rp/10^13);"
   ]
   }
,
{
		   "cell_type": "markdown",
		   "metadata": {},
		   "source": [
			"## Example 9.16: What_will_be_the_output_photocurrent.sce"
		   ]
		  },
  {
"cell_type": "code",
	   "execution_count": null,
	   "metadata": {
	    "collapsed": true
	   },
	   "outputs": [],
"source": [
"//Ex:9.16\n",
"clc;\n",
"clear;\n",
"close;\n",
"R=0.40;// Responsivity in A/W\n",
"m=100*10^-6;// incident flux in W/m-m\n",
"A=2;// area in m-m\n",
"Po=m*A;// incident power in W\n",
"Ip=R*Po;// photon current in A\n",
"printf('The photon current =%d uA', Ip*10^6);"
   ]
   }
,
{
		   "cell_type": "markdown",
		   "metadata": {},
		   "source": [
			"## Example 9.17: EX9_17.sce"
		   ]
		  },
  {
"cell_type": "code",
	   "execution_count": null,
	   "metadata": {
	    "collapsed": true
	   },
	   "outputs": [],
"source": [
"//Ex:9.17\n",
"clc;\n",
"clear;\n",
"close;\n",
"n=0.65;// quantum efficiency\n",
"e=1.602*10^-19;// charge\n",
"h=6.626*10^-34;// plank constant\n",
"c=3*10^8;// speed of light in m/s\n",
"Eg=1.5*10^-19;// in J\n",
"y=(h*c)/Eg;// cut off wavelength in m\n",
"f=c/y;\n",
"R=(n*e)/(h*f);// responsivity in A/W\n",
"Ip=2.5*10^-6;// photo current in A\n",
"Po=Ip/R;// incident optical power in W\n",
"Po1=Po*10^6;// incident optical power in uW\n",
"printf('The cut off wavelength =%f um', y*10^6);\n",
"printf('\n The responsivity =%f A/W ', R);\n",
"printf('\n The incident optical power =%f uW', Po1);"
   ]
   }
,
{
		   "cell_type": "markdown",
		   "metadata": {},
		   "source": [
			"## Example 9.18: Determine_the_wavelength.sce"
		   ]
		  },
  {
"cell_type": "code",
	   "execution_count": null,
	   "metadata": {
	    "collapsed": true
	   },
	   "outputs": [],
"source": [
"//Ex:9.18\n",
"clc;\n",
"clear;\n",
"close;\n",
"h=6.626*10^-34;// plank constant\n",
"c=3*10^8;// speed of light in m/s\n",
"Eg=1.43;// in eV\n",
"Eg1=Eg*1.602*10^-19;// in J\n",
"y=(h*c)/Eg1;// cut off wavelength in m\n",
"printf('The cut off wavelength =%f um', y*10^6);"
   ]
   }
,
{
		   "cell_type": "markdown",
		   "metadata": {},
		   "source": [
			"## Example 9.19: Find_the_optical_gain_and_common_emitter_gain.sce"
		   ]
		  },
  {
"cell_type": "code",
	   "execution_count": null,
	   "metadata": {
	    "collapsed": true
	   },
	   "outputs": [],
"source": [
"//Ex:9.19\n",
"clc;\n",
"clear;\n",
"close;\n",
"n=0.45;// quantum efficiency\n",
"h=6.62*10^-34;// plank constant\n",
"c=3*10^8;// speed of light in m/s\n",
"y=1.2*10^-6;// cut off wavelength in m\n",
"Ic=20*10^-6;// collector current in A\n",
"Po=120*10^-6;// incident optical power in W\n",
"e=1.602*10^-19;// charge\n",
"Go=(h*c*Ic)/(y*Po*e);// optical gain\n",
"h_e=Go/n;// common emitter gain\n",
"printf('The optical gain =%f', Go);\n",
"printf('\n The common emitter gain =%f', h_e);"
   ]
   }
,
{
		   "cell_type": "markdown",
		   "metadata": {},
		   "source": [
			"## Example 9.1: Calculate_the_responsivity_of_the_device.sce"
		   ]
		  },
  {
"cell_type": "code",
	   "execution_count": null,
	   "metadata": {
	    "collapsed": true
	   },
	   "outputs": [],
"source": [
"//Ex:9.1\n",
"clc;\n",
"clear;\n",
"close;\n",
"e_c=550;// number of electron collected\n",
"p=800;// number of photon incident\n",
"n=e_c/p;// quantum efficiency\n",
"e=1.602*10^-19;// charge\n",
"h=6.626*10^-34;// plank constant\n",
"c=3*10^8;// speed of light in m/s\n",
"y=1.3*10^-6// wavelength in m\n",
"R=(n*e*y)/(h*c);// responsivity in A/W\n",
"printf('The responsivity =%f Amp/Watt', R);"
   ]
   }
,
{
		   "cell_type": "markdown",
		   "metadata": {},
		   "source": [
			"## Example 9.20: Calculate_the_multiplication_factor_of_diode.sce"
		   ]
		  },
  {
"cell_type": "code",
	   "execution_count": null,
	   "metadata": {
	    "collapsed": true
	   },
	   "outputs": [],
"source": [
"//Ex:9.20\n",
"clc;\n",
"clear;\n",
"close;\n",
"n=0.5;// quantum efficiency\n",
"e=1.602*10^-19;// charge\n",
"h=6.626*10^-34;// plank constant\n",
"c=3*10^8;// speed of light in m/s\n",
"y=1.3*10^-6// wavelength in m\n",
"R=(n*e*y)/(h*c);// responsivity in A/W\n",
"Po=0.4*10^-6;// in W\n",
"Ip=R*Po;// output photo current\n",
"I=8*10^-6;// output current in A\n",
"M=I/Ip;// multiplication factor\n",
"printf('The multiplication factor =%d', M);"
   ]
   }
,
{
		   "cell_type": "markdown",
		   "metadata": {},
		   "source": [
			"## Example 9.21: Calculate_the_multiplication_factor_of_APD.sce"
		   ]
		  },
  {
"cell_type": "code",
	   "execution_count": null,
	   "metadata": {
	    "collapsed": true
	   },
	   "outputs": [],
"source": [
"//Ex:9.21\n",
"clc;\n",
"clear;\n",
"close;\n",
"n=0.85;// quantum efficiency\n",
"e=1.6*10^-19;// charge\n",
"h=6.625*10^-34;// plank constant\n",
"c=3*10^8;// speed of light in m/s\n",
"y=0.9*10^-6// wavelength in m\n",
"R=(n*e*y)/(h*c);// responsivity in A/W\n",
"Po=0.6*10^-6;// in W\n",
"Ip=R*Po;// output photo current\n",
"I=10*10^-6;// output current in A\n",
"M=I/Ip;// multiplication factor\n",
"printf('The multiplication factor =%d', M);"
   ]
   }
,
{
		   "cell_type": "markdown",
		   "metadata": {},
		   "source": [
			"## Example 9.22: EX9_22.sce"
		   ]
		  },
  {
"cell_type": "code",
	   "execution_count": null,
	   "metadata": {
	    "collapsed": true
	   },
	   "outputs": [],
"source": [
"//Ex:9.22\n",
"clc;\n",
"clear;\n",
"close;\n",
"e_c=1.2*10^11;// number of electron collected\n",
"p=2*10^11;// number of photon incident\n",
"n=e_c/p;// quantum efficiency\n",
"e=1.602*10^-19;// charge\n",
"h=6.626*10^-34;// plank constant\n",
"c=3*10^8;// speed of light in m/s\n",
"E=1.5*10^-19;// energy in J\n",
"y=(h*c)/E// wavelength in m\n",
"R=(n*e*y)/(h*c);// responsivity in A/W\n",
"Ip=2.6*10^-6;// photocurrent in A\n",
"Po=Ip/R;// incident optical power in W\n",
"printf('The quantum efficiency =%d %%', n*100);\n",
"printf('\n The wavelength =%f um', y*10^6);\n",
"printf('\n The responsivity =%f Amp/Watt', R);\n",
"printf('\n The incident optical power =%f uW', Po*10^6);"
   ]
   }
,
{
		   "cell_type": "markdown",
		   "metadata": {},
		   "source": [
			"## Example 9.23: Calculate_the_multiplication_factor_of_an_APD.sce"
		   ]
		  },
  {
"cell_type": "code",
	   "execution_count": null,
	   "metadata": {
	    "collapsed": true
	   },
	   "outputs": [],
"source": [
"//Ex:9.23\n",
"clc;\n",
"clear;\n",
"close;\n",
"n=0.40;// quantum efficiency\n",
"e=1.602*10^-19;// charge\n",
"h=6.626*10^-34;// plank constant\n",
"c=3*10^8;// speed of light in m/s\n",
"y=1.35*10^-6// wavelength in m\n",
"R=(n*e*y)/(h*c);// responsivity in A/W\n",
"Po=0.2*10^-6;// in W\n",
"Ip=R*Po;// output photo current\n",
"I=4.9*10^-6;// output current in A\n",
"M=I/Ip;// multiplication factor\n",
"printf('The multiplication factor =%d', M);"
   ]
   }
,
{
		   "cell_type": "markdown",
		   "metadata": {},
		   "source": [
			"## Example 9.24: EX9_24.sce"
		   ]
		  },
  {
"cell_type": "code",
	   "execution_count": null,
	   "metadata": {
	    "collapsed": true
	   },
	   "outputs": [],
"source": [
"//Ex:9.24\n",
"clc;\n",
"clear;\n",
"close;\n",
"n=0.55;// quantum efficiency\n",
"e=1.6*10^-19;// charge\n",
"h=6.626*10^-34;// plank constant\n",
"c=3*10^8;// speed of light in m/s\n",
"y=0.85*10^-6// wavelength in m\n",
"R=(n*e*y)/(h*c);// responsivity in A/W\n",
"Ip=2*10^-6;// mean photo current\n",
"Po=Ip/R;// received optical power in W\n",
"re=(n*Po*y)/(h*c);// number of received photons\n",
"printf('The responsivity =%f A/W', R);\n",
"printf('\n The received optical power =%f uW', Po*10^6);\n",
"printf('\n The number of received photons =%f*10^13 photons/sec', re/10^13);"
   ]
   }
,
{
		   "cell_type": "markdown",
		   "metadata": {},
		   "source": [
			"## Example 9.25: EX9_25.sce"
		   ]
		  },
  {
"cell_type": "code",
	   "execution_count": null,
	   "metadata": {
	    "collapsed": true
	   },
	   "outputs": [],
"source": [
"//Ex:9.25\n",
"clc;\n",
"clear;\n",
"close;\n",
"h=6.625*10^-34;// plank constant\n",
"c=3*10^8;// speed of light in m/s\n",
"n=1;// quantum efficiency\n",
"e=1.602*10^-19;// charge\n",
"E=1.3*10^-19;// energy in J\n",
"y=(h*c)/E;// wavelength in m\n",
"M=18;// multiplication factor\n",
"rp=10^13;// no. of photon per sec\n",
"Po=rp*E;// output power in w\n",
"Ip=(n*Po*e)/E;// output photocurrent in A\n",
"I=M*Ip;// photocurrent in A\n",
"printf('The wavelength =%f um', y*10^6);\n",
"printf('\n The output power =%f uW', Po*10^6);\n",
"printf('\n The photocurrent =%f uA', I*10^6);"
   ]
   }
,
{
		   "cell_type": "markdown",
		   "metadata": {},
		   "source": [
			"## Example 9.26: EX9_26.sce"
		   ]
		  },
  {
"cell_type": "code",
	   "execution_count": null,
	   "metadata": {
	    "collapsed": true
	   },
	   "outputs": [],
"source": [
"//Ex:9.26\n",
"clc;\n",
"clear;\n",
"close;\n",
"e_c=2*10^10;// number of electron collected\n",
"p=5*10^10;// number of photon incident\n",
"n=e_c/p;// quantum efficiency\n",
"e=1.602*10^-19;// charge\n",
"h=6.626*10^-34;// plank constant\n",
"c=3*10^8;// speed of light in m/s\n",
"y=0.85*10^-6;// wavelength in m\n",
"y1=0.85;// wavelength in um\n",
"Eg=(h*c)/y;//  bandgap energy in J\n",
"Eg1=1.24/y1;// bandgap energy in terms of eV\n",
"Po=10*10^-6;// incident power in W\n",
"Ip=(n*e*Po)/Eg;// mean output photocurrent in A\n",
"printf('The quantum efficiency =%d %%', n*100);\n",
"printf('\n The bandgap energy =%f*10^-19 J', Eg*10^19);\n",
"printf('\n The bandgap energy =%f eV', Eg1);\n",
"printf('\n The mean output photocurrent =%f uA', Ip*10^6);"
   ]
   }
,
{
		   "cell_type": "markdown",
		   "metadata": {},
		   "source": [
			"## Example 9.2: Calculate_the_efficiency_of_a_PIN_silicon_photodiode.sce"
		   ]
		  },
  {
"cell_type": "code",
	   "execution_count": null,
	   "metadata": {
	    "collapsed": true
	   },
	   "outputs": [],
"source": [
"//Ex:9.2\n",
"clc;\n",
"clear;\n",
"close;\n",
"e=1.602*10^-19;// charge\n",
"h=6.626*10^-34;// plank constant\n",
"c=3*10^8;// speed of light in m/s\n",
"y=0.85*10^-6// wavelength in m\n",
"R=0.274;// responsivity in A/W\n",
"n=(R*h*c)/(e*y);// quantum efficiency\n",
"n1=n*100;// % of quantum efficiency\n",
"printf('The quantum efficiency =%f %%', n1);"
   ]
   }
,
{
		   "cell_type": "markdown",
		   "metadata": {},
		   "source": [
			"## Example 9.3: EX9_3.sce"
		   ]
		  },
  {
"cell_type": "code",
	   "execution_count": null,
	   "metadata": {
	    "collapsed": true
	   },
	   "outputs": [],
"source": [
"//Ex:9.3\n",
"clc;\n",
"clear;\n",
"close;\n",
"e_c=1;// number of electron collected\n",
"p=3;// number of photon incident\n",
"n=e_c/p;// quantum efficiency\n",
"e=1.602*10^-19;// charge\n",
"h=6.626*10^-34;// plank constant\n",
"c=3*10^8;// speed of light in m/s\n",
"y=0.8*10^-6// wavelength in m\n",
"Eg=(h*c)/y;// band gap energy in J\n",
"R=(n*e*y)/(h*c);// responsivity in A/W\n",
"Po=10^-7;// in W\n",
"Ip=R*Po;// output photo current\n",
"printf('The quantum efficiency =%f %%', n*100);\n",
"printf('\n band gap energy =%f*10^-20 J', Eg*10^20);\n",
"printf('\n The output photo current =%f nA', Ip*10^9);"
   ]
   }
,
{
		   "cell_type": "markdown",
		   "metadata": {},
		   "source": [
			"## Example 9.4: EX9_4.sce"
		   ]
		  },
  {
"cell_type": "code",
	   "execution_count": null,
	   "metadata": {
	    "collapsed": true
	   },
	   "outputs": [],
"source": [
"//Ex:9.4\n",
"clc;\n",
"clear;\n",
"close;\n",
"n=0.50;// quantum efficiency\n",
"e=1.602*10^-19;// charge\n",
"h=6.626*10^-34;// plank constant\n",
"c=3*10^8;// speed of light in m/s\n",
"y=0.85*10^-6// wavelength in m\n",
"R=(n*e*y)/(h*c);// responsivity in A/W\n",
"Ip=10^-6;// mean photo current\n",
"Po=Ip/R;// received optical power in W\n",
"f=c/y;\n",
"re=(n*Po)/(h*f);\n",
"rp=re/n;// number of received photons\n",
"printf('The responsivity =%f A/W', R);\n",
"printf('\n The received optical power =%f uW', Po*10^6);\n",
"printf('\n The number of received photons =%f*10^13 photons/sec', rp/10^13);"
   ]
   }
,
{
		   "cell_type": "markdown",
		   "metadata": {},
		   "source": [
			"## Example 9.5: Show_that_a_GaAs_photodetector_will_cease_to_operate_above_087_um.sce"
		   ]
		  },
  {
"cell_type": "code",
	   "execution_count": null,
	   "metadata": {
	    "collapsed": true
	   },
	   "outputs": [],
"source": [
"//Ex:9.5\n",
"clc;\n",
"clear;\n",
"close;\n",
"h=6.626*10^-34;// plank constant\n",
"c=3*10^8;// speed of light in m/s\n",
"Eg=1.43;// in eV\n",
"Eg1=Eg*1.602*10^-19;// in J\n",
"y=(h*c)/Eg1;// cut off wavelength in m\n",
"printf('The cut off wavelength =%f um', y*10^6);"
   ]
   }
,
{
		   "cell_type": "markdown",
		   "metadata": {},
		   "source": [
			"## Example 9.6: What_will_be_the_max_response_time_for_the_device.sce"
		   ]
		  },
  {
"cell_type": "code",
	   "execution_count": null,
	   "metadata": {
	    "collapsed": true
	   },
	   "outputs": [],
"source": [
"//Ex:9.6\n",
"clc;\n",
"clear;\n",
"close;\n",
"vd=2.5*10^4;// carrier velocity in m/s\n",
"w=30*10^-6;// width in m\n",
"Bm=vd/(2*%pi*w);\n",
"Tm=1/Bm;// max response time in sec\n",
"Tm1=Tm*10^9;// max response time in ns\n",
"printf('The max response time =%f ns', Tm1);"
   ]
   }
,
{
		   "cell_type": "markdown",
		   "metadata": {},
		   "source": [
			"## Example 9.7: Find_the_multiplication_factor_under_these_conditions.sce"
		   ]
		  },
  {
"cell_type": "code",
	   "execution_count": null,
	   "metadata": {
	    "collapsed": true
	   },
	   "outputs": [],
"source": [
"//Ex:9.7\n",
"clc;\n",
"clear;\n",
"close;\n",
"n=0.65;// quantum efficiency\n",
"e=1.602*10^-19;// charge\n",
"h=6.626*10^-34;// plank constant\n",
"c=3*10^8;// speed of light in m/s\n",
"y=0.85*10^-6// wavelength in m\n",
"R=(n*e*y)/(h*c);// responsivity in A/W\n",
"Po=0.35*10^-6;// in W\n",
"Ip=R*Po;// output photo current\n",
"I=9*10^-6;// output current in A\n",
"M=I/Ip;// multiplication factor\n",
"M1=ceil(M);\n",
"printf('The multiplication factor =%d', M1);"
   ]
   }
,
{
		   "cell_type": "markdown",
		   "metadata": {},
		   "source": [
			"## Example 9.8: EX9_8.sce"
		   ]
		  },
  {
"cell_type": "code",
	   "execution_count": null,
	   "metadata": {
	    "collapsed": true
	   },
	   "outputs": [],
"source": [
"//Ex:9.8\n",
"clc;\n",
"clear;\n",
"close;\n",
"n=0.50;// quantum efficiency\n",
"e=1.602*10^-19;// charge\n",
"h=6.626*10^-34;// plank constant\n",
"c=3*10^8;// speed of light in m/s\n",
"Eg=1.5*10^-19;// in J\n",
"y=(h*c)/Eg;// cut off wavelength in m\n",
"f=c/y;\n",
"R=(n*e)/(h*f);// responsivity in A/W\n",
"Ip=2.7*10^-6;// photo current in A\n",
"Po=Ip/R;// incident optical power in W\n",
"Po1=Po*10^6;// incident optical power in uW\n",
"printf('The cut off wavelength =%f um', y*10^6);\n",
"printf('\n The responsivity =%f A/W ', R);\n",
"printf('\n The incident optical power =%f uW', Po1);"
   ]
   }
,
{
		   "cell_type": "markdown",
		   "metadata": {},
		   "source": [
			"## Example 9.9: Calculate_the_responsivity_of_a_detector.sce"
		   ]
		  },
  {
"cell_type": "code",
	   "execution_count": null,
	   "metadata": {
	    "collapsed": true
	   },
	   "outputs": [],
"source": [
"//Ex:9.9\n",
"clc;\n",
"clear;\n",
"close;\n",
"n=0.15;// quantum efficiency\n",
"e=1.6*10^-19;// charge\n",
"h=6.63*10^-34;// plank constant\n",
"c=3*10^8;// speed of light in m/s\n",
"y=0.85*10^-6;// cut off wavelength in m\n",
"f=c/y;// frequency in Hz\n",
"R=(n*e)/(h*f);// responsivity in A/W\n",
"printf('The responsivity =%f A/W ', R);"
   ]
   }
],
"metadata": {
		  "kernelspec": {
		   "display_name": "Scilab",
		   "language": "scilab",
		   "name": "scilab"
		  },
		  "language_info": {
		   "file_extension": ".sce",
		   "help_links": [
			{
			 "text": "MetaKernel Magics",
			 "url": "https://github.com/calysto/metakernel/blob/master/metakernel/magics/README.md"
			}
		   ],
		   "mimetype": "text/x-octave",
		   "name": "scilab",
		   "version": "0.7.1"
		  }
		 },
		 "nbformat": 4,
		 "nbformat_minor": 0
}
