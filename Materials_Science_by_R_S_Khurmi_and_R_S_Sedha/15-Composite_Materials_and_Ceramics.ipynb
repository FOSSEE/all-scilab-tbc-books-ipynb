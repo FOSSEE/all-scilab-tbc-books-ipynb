{
"cells": [
 {
		   "cell_type": "markdown",
	   "metadata": {},
	   "source": [
       "# Chapter 15: Composite Materials and Ceramics"
	   ]
	},
{
		   "cell_type": "markdown",
		   "metadata": {},
		   "source": [
			"## Example 15.1: volume_ratio_of_aluminium_and_boron.sce"
		   ]
		  },
  {
"cell_type": "code",
	   "execution_count": null,
	   "metadata": {
	    "collapsed": true
	   },
	   "outputs": [],
"source": [
"//Example 15.1 : colume ratio of aluminium and boron\n",
"clc;\n",
"clear;\n",
"close;\n",
"format('v',6)\n",
"yal=715;// in GN/,^2\n",
"yfe=210;// in GN/,^2\n",
"yb=440;// in GN/,^2\n",
"A=[71 71;71 440];//\n",
"B=[71;210];//\n",
"X=A\B;//\n",
"disp(X(1,1),'volume ratio of aluminium is')\n",
"disp(X(2,1),'volume ratio of boron is')"
   ]
   }
],
"metadata": {
		  "kernelspec": {
		   "display_name": "Scilab",
		   "language": "scilab",
		   "name": "scilab"
		  },
		  "language_info": {
		   "file_extension": ".sce",
		   "help_links": [
			{
			 "text": "MetaKernel Magics",
			 "url": "https://github.com/calysto/metakernel/blob/master/metakernel/magics/README.md"
			}
		   ],
		   "mimetype": "text/x-octave",
		   "name": "scilab",
		   "version": "0.7.1"
		  }
		 },
		 "nbformat": 4,
		 "nbformat_minor": 0
}
