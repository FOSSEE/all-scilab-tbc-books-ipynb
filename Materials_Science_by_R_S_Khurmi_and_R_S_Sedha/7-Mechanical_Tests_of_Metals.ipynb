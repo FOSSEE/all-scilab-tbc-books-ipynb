{
"cells": [
 {
		   "cell_type": "markdown",
	   "metadata": {},
	   "source": [
       "# Chapter 7: Mechanical Tests of Metals"
	   ]
	},
{
		   "cell_type": "markdown",
		   "metadata": {},
		   "source": [
			"## Example 7.1: shear_modulus.sce"
		   ]
		  },
  {
"cell_type": "code",
	   "execution_count": null,
	   "metadata": {
	    "collapsed": true
	   },
	   "outputs": [],
"source": [
"//Example 7.1 : shear modulus of the material\n",
"clc;\n",
"clear;\n",
"close;\n",
"//given data :\n",
"format('v',6)\n",
"E=210; // youngs's modulus in GN/m^2\n",
"v=0.3; // poisson ratio\n",
"G=E/(2*(1+v));\n",
"disp(G,'shear modulus,G(GN/m^2) = ')"
   ]
   }
,
{
		   "cell_type": "markdown",
		   "metadata": {},
		   "source": [
			"## Example 7.2: EX7_2.sce"
		   ]
		  },
  {
"cell_type": "code",
	   "execution_count": null,
	   "metadata": {
	    "collapsed": true
	   },
	   "outputs": [],
"source": [
"//Example 7.2 : young's modulus of elasticity,yield point stress, ultimate stress and percentage elongation\n",
"clc;\n",
"clear;\n",
"close;\n",
"format('v',9)\n",
"//given data :\n",
"d=40*10^-3;//in m\n",
"W=40*10^3;// load in N\n",
"del_l=3.04*10^-5;// in m\n",
"L=200*10^-3;// in m\n",
"load_max=242*10^3;//in N\n",
"l=249*10^-3;// length of specimen in m\n",
"l0=(d+L); // in m\n",
"A=(%pi*d^2)/4;\n",
"b=W/A;\n",
"epsilon=del_l/L;\n",
"E=(b/epsilon);\n",
"disp(E,'young modulus,E(N/m^2) = ')\n",
"Y_load=161*10^3;\n",
"Y_stress=Y_load/A;\n",
"disp(Y_stress,'yield point stress,Y_stress(N/m^2) =  ')\n",
"U_stress=load_max/A;\n",
"disp(U_stress,'ultimate stress,U_stress(N/m^2) = ')\n",
"p_elongation=((l-l0)/l0)*100;\n",
"disp(p_elongation,'percentage elongation,p_elongation(%) = ')\n",
"//percentage elongation is calculated wrong in textbook"
   ]
   }
,
{
		   "cell_type": "markdown",
		   "metadata": {},
		   "source": [
			"## Example 7.3_a: yield_point_stress.sce"
		   ]
		  },
  {
"cell_type": "code",
	   "execution_count": null,
	   "metadata": {
	    "collapsed": true
	   },
	   "outputs": [],
"source": [
"// Example 7.3.a: yield point stress\n",
"clc;\n",
"clear;\n",
"close;\n",
"format('v',10)\n",
"yl=40;//yeild load in kN\n",
"ml=71.5;//maximum load in kN\n",
"fl=50.5;//fracture load in kN\n",
"glf=79.5;//gauge length of fratture in mm\n",
"st=7.75*10^-4;//strain at load of 20kN\n",
"d=12.5;//specimen diamtere in mm\n",
"sl=62.5;//specimen length in mm\n",
"A=(%pi*(d*10^-3)^2)/4;// in meter square\n",
"ylp=((yl*10^3)/(A));//yeild point stress in N/m^2\n",
"disp(ylp,'yeild point stress in N/m^2')"
   ]
   }
,
{
		   "cell_type": "markdown",
		   "metadata": {},
		   "source": [
			"## Example 7.3_b: ultimate_tensile_strength.sce"
		   ]
		  },
  {
"cell_type": "code",
	   "execution_count": null,
	   "metadata": {
	    "collapsed": true
	   },
	   "outputs": [],
"source": [
"// Example 7.3.b: ultimate tensile strength\n",
"clc;\n",
"clear;\n",
"close;\n",
"format('v',10)\n",
"yl=40;//yeild load in kN\n",
"ml=71.5;//maximum load in kN\n",
"fl=50.5;//fracture load in kN\n",
"glf=79.5;//gauge length of fratture in mm\n",
"st=7.75*10^-4;//strain at load of 20kN\n",
"d=12.5;//specimen diamtere in mm\n",
"sl=62.5;//specimen length in mm\n",
"A=(%pi*(d*10^-3)^2)/4;// in meter square\n",
"ylp=((yl*10^3)/(A));//yeild point stress in N/m^2\n",
"uts=((ml*10^3)/(A));//ultimate tensile strangth in N/m^2\n",
"disp(uts,'ultimate tensile strangth in N/m^2')"
   ]
   }
,
{
		   "cell_type": "markdown",
		   "metadata": {},
		   "source": [
			"## Example 7.3_c: percentage_elongation.sce"
		   ]
		  },
  {
"cell_type": "code",
	   "execution_count": null,
	   "metadata": {
	    "collapsed": true
	   },
	   "outputs": [],
"source": [
"// Example 7.3.c: percentage elongation\n",
"clc;\n",
"clear;\n",
"close;\n",
"format('v',10)\n",
"yl=40;//yeild load in kN\n",
"ml=71.5;//maximum load in kN\n",
"fl=50.5;//fracture load in kN\n",
"glf=79.5;//gauge length of fratture in mm\n",
"st=7.75*10^-4;//strain at load of 20kN\n",
"d=12.5;//specimen diamtere in mm\n",
"sl=62.5;//specimen length in mm\n",
"a=(%pi*d*10^-3)^2/4;// in meter square\n",
"pel=((glf-sl)/sl)*100;//percentage elongation\n",
"disp(pel,'percentage elongation is')"
   ]
   }
,
{
		   "cell_type": "markdown",
		   "metadata": {},
		   "source": [
			"## Example 7.3_d: modulus_of_elasticity.sce"
		   ]
		  },
  {
"cell_type": "code",
	   "execution_count": null,
	   "metadata": {
	    "collapsed": true
	   },
	   "outputs": [],
"source": [
"// Example 7.3.d:modulus of elasticity\n",
"clc;\n",
"clear;\n",
"close;\n",
"format('v',8)\n",
"yl=40;//yeild load in kN\n",
"ml=71.5;//maximum load in kN\n",
"fl=50.5;//fracture load in kN\n",
"glf=79.5;//gauge length of fratture in mm\n",
"st=7.75*10^-4;//strain at load of 20kN\n",
"d=12.5;//specimen diamtere in mm\n",
"sl=62.5;//specimen length in mm\n",
"A=(%pi*(d*10^-3)^2)/4;// in meter square\n",
"ylp=((yl*10^3)/(A));//yeild point stress in N/m^2\n",
"uts=((ml*10^3)/(A));//ultimate tensile strangth in N/m^2\n",
"pel=((glf-sl)/sl)*100;//percentage elongation\n",
"strss=((20*10^3)/A);//stress at 20kN in N/m^2\n",
"mel=strss/st;//modulus of elasticity in N/m^2\n",
"disp(mel,'modulus of elasticity in N/m^2')"
   ]
   }
,
{
		   "cell_type": "markdown",
		   "metadata": {},
		   "source": [
			"## Example 7.3_e: modulus_of_resilience.sce"
		   ]
		  },
  {
"cell_type": "code",
	   "execution_count": null,
	   "metadata": {
	    "collapsed": true
	   },
	   "outputs": [],
"source": [
"// Example 7.3.e: yield point stress\n",
"clc;\n",
"clear;\n",
"close;\n",
"format('v',6)\n",
"yl=40;//yeild load in kN\n",
"ml=71.5;//maximum load in kN\n",
"fl=50.5;//fracture load in kN\n",
"glf=79.5;//gauge length of fratture in mm\n",
"st=7.75*10^-4;//strain at load of 20kN\n",
"d=12.5;//specimen diamtere in mm\n",
"sl=62.5;//specimen length in mm\n",
"A=(%pi*(d*10^-3)^2)/4;// in meter square\n",
"ylp=((yl*10^3)/(A));//yeild point stress in N/m^2\n",
"uts=((ml*10^3)/(A));//ultimate tensile strangth in N/m^2\n",
"pel=((glf-sl)/sl)*100;//percentage elongation\n",
"strss=((20*10^3)/A);//stress at 20kN in N/m^2\n",
"mel=strss/st;//modulus of elasticity in N/m^2\n",
"mrs=((ylp*10^-3)^2/(2*mel));//modulus of resilience \n",
"disp(mrs,'modulus of resilience is')"
   ]
   }
,
{
		   "cell_type": "markdown",
		   "metadata": {},
		   "source": [
			"## Example 7.3_f: fracture_stress.sce"
		   ]
		  },
  {
"cell_type": "code",
	   "execution_count": null,
	   "metadata": {
	    "collapsed": true
	   },
	   "outputs": [],
"source": [
"// Example 7.3.f: fracture stress\n",
"clc;\n",
"clear;\n",
"close;\n",
"format('v',10)\n",
"yl=40;//yeild load in kN\n",
"ml=71.5;//maximum load in kN\n",
"fl=50.5;//fracture load in kN\n",
"glf=79.5;//gauge length of fratture in mm\n",
"st=7.75*10^-4;//strain at load of 20kN\n",
"d=12.5;//specimen diamtere in mm\n",
"sl=62.5;//specimen length in mm\n",
"A=(%pi*(d*10^-3)^2)/4;// in meter square\n",
"ylp=((yl*10^3)/(A));//yeild point stress in N/m^2\n",
"uts=((ml*10^3)/(A));//ultimate tensile strangth in N/m^2\n",
"pel=((glf-sl)/sl)*100;//percentage elongation\n",
"strss=((20*10^3)/A);//stress at 20kN in N/m^2\n",
"mel=strss/st;//modulus of elasticity in N/m^2\n",
"mrs=((ylp*10^-3)^2/(2*mel));//modulus of resilience \n",
"fs=((fl*10^3)/(A));//fracture stress in N/m^2\n",
"disp(fs,'fracture stress in N/m^2')"
   ]
   }
,
{
		   "cell_type": "markdown",
		   "metadata": {},
		   "source": [
			"## Example 7.3_g: modulus_of_toughness.sce"
		   ]
		  },
  {
"cell_type": "code",
	   "execution_count": null,
	   "metadata": {
	    "collapsed": true
	   },
	   "outputs": [],
"source": [
"// Example 7.3.g: modulus of toughness\n",
"clc;\n",
"clear;\n",
"close;\n",
"format('v',10)\n",
"yl=40;//yeild load in kN\n",
"ml=71.5;//maximum load in kN\n",
"fl=50.5;//fracture load in kN\n",
"glf=79.5;//gauge length of fratture in mm\n",
"st=7.75*10^-4;//strain at load of 20kN\n",
"d=12.5;//specimen diamtere in mm\n",
"sl=62.5;//specimen length in mm\n",
"A=(%pi*(d*10^-3)^2)/4;// in meter square\n",
"ylp=((yl*10^3)/(A));//yeild point stress in N/m^2\n",
"uts=((ml*10^3)/(A));//ultimate tensile strangth in N/m^2\n",
"pel=((glf-sl)/sl)*100;//percentage elongation\n",
"strss=((20*10^3)/A);//stress at 20kN in N/m^2\n",
"mel=strss/st;//modulus of elasticity in N/m^2\n",
"mrs=((ylp*10^-3)^2/(2*mel));//modulus of resilience \n",
"fs=((fl*10^3)/(A));//fracture stress in N/m^2\n",
"mth=((ylp+uts)*(pel/100))/2;//modulus of toughness in N/m^2\n",
"disp(mth,'modulus of toughness in N/m^2')\n",
"//percentage reduction in area is not calulated in the textbook"
   ]
   }
,
{
		   "cell_type": "markdown",
		   "metadata": {},
		   "source": [
			"## Example 7.4: true_breaking_and_nominal_breaking_stress.sce"
		   ]
		  },
  {
"cell_type": "code",
	   "execution_count": null,
	   "metadata": {
	    "collapsed": true
	   },
	   "outputs": [],
"source": [
"//Example 7.4 : true breaking stress and nominal breaking stress \n",
"clc;\n",
"clear;\n",
"close;\n",
"format('v',4)\n",
"//given data :\n",
"d1=12.7; // in mm\n",
"B_load=14;// in K-N\n",
"A1=(%pi*d1^2)/4;// original cross section area\n",
"d2=7.87; // in mm\n",
"A2=(%pi*d2^2)/4;// final cross sction area\n",
"T_stress=B_load/A2;\n",
"disp(T_stress*1000,'true breaking stress,T_stress(N/mm^2) = ')\n",
"N_stress=B_load/A1;\n",
"disp(N_stress*1000,'nominal breaking stress,N_stress(N/mm^2) = ')\n",
"//true breaking stress unit is wrong in the textbook"
   ]
   }
,
{
		   "cell_type": "markdown",
		   "metadata": {},
		   "source": [
			"## Example 7.5_a: yield_stress.sce"
		   ]
		  },
  {
"cell_type": "code",
	   "execution_count": null,
	   "metadata": {
	    "collapsed": true
	   },
	   "outputs": [],
"source": [
"// Example 7.5.a: yield point stress\n",
"clc;\n",
"clear;\n",
"close;\n",
"format('v',10)\n",
"yl=34;//yeild load in kN\n",
"ul=61;//ultimate load in kN\n",
"fl=78;//final length in mm\n",
"glf=60;//gauge length of fratture in mm\n",
"fd=7;//final diamtere in mm\n",
"d=12;//specimen diamtere in mm\n",
"sl=62.5;//specimen length in mm\n",
"A=(%pi*(d)^2)/4;// in meter square\n",
"ylp=((yl*10^3)/(A));//yeild point stress in N/mm^2\n",
"disp(floor(ylp),'yeild point stress in N/mm^2')"
   ]
   }
,
{
		   "cell_type": "markdown",
		   "metadata": {},
		   "source": [
			"## Example 7.5_b: ultimate_tesnile_stress.sce"
		   ]
		  },
  {
"cell_type": "code",
	   "execution_count": null,
	   "metadata": {
	    "collapsed": true
	   },
	   "outputs": [],
"source": [
"// Example 7.5.b: ultimate tensile stress\n",
"clc;\n",
"clear;\n",
"close;\n",
"format('v',6)\n",
"yl=34;//yeild load in kN\n",
"ul=61;//ultimate load in kN\n",
"fl=78;//final length in mm\n",
"glf=60;//gauge length of fratture in mm\n",
"fd=7;//final diamtere in mm\n",
"d=12;//specimen diamtere in mm\n",
"sl=62.5;//specimen length in mm\n",
"A=(%pi*(d)^2)/4;// in meter square\n",
"uts=((ul*10^3)/(A));//ultimate tensile strangth in N/mm^2\n",
"disp(uts,'ultimate tensile strangth in N/mm^2')"
   ]
   }
,
{
		   "cell_type": "markdown",
		   "metadata": {},
		   "source": [
			"## Example 7.5_c: percentage_reduction.sce"
		   ]
		  },
  {
"cell_type": "code",
	   "execution_count": null,
	   "metadata": {
	    "collapsed": true
	   },
	   "outputs": [],
"source": [
"// Example 7.5.c: percentage reduction\n",
"clc;\n",
"clear;\n",
"close;\n",
"format('v',4)\n",
"yl=34;//yeild load in kN\n",
"ul=61;//ultimate load in kN\n",
"fl=78;//final length in mm\n",
"glf=60;//gauge length of fratture in mm\n",
"fd=7;//final diamtere in mm\n",
"d=12;//specimen diamtere in mm\n",
"sl=62.5;//specimen length in mm\n",
"A=(%pi*(d)^2)/4;// in mm square\n",
"A1=(%pi*(fd)^2)/4;// in mm square\n",
"pr=(A-A1)/A;//\n",
"disp(pr*100,'percentage reduction is')"
   ]
   }
,
{
		   "cell_type": "markdown",
		   "metadata": {},
		   "source": [
			"## Example 7.5_d: percentage_elongation.sce"
		   ]
		  },
  {
"cell_type": "code",
	   "execution_count": null,
	   "metadata": {
	    "collapsed": true
	   },
	   "outputs": [],
"source": [
"// Example 7.5.d: percentage elonagtion\n",
"clc;\n",
"clear;\n",
"close;\n",
"format('v',4)\n",
"yl=34;//yeild load in kN\n",
"ul=61;//ultimate load in kN\n",
"fl=78;//final length in mm\n",
"glf=60;//gauge length of fratture in mm\n",
"fd=7;//final diamtere in mm\n",
"d=12;//specimen diamtere in mm\n",
"sl=62.5;//specimen length in mm\n",
"A=(%pi*(d)^2)/4;// in mm square\n",
"A1=(%pi*(fd)^2)/4;// in mm square\n",
"pr=(fl-glf)/glf;//\n",
"disp(pr*100,'percentage elonagtion is')"
   ]
   }
,
{
		   "cell_type": "markdown",
		   "metadata": {},
		   "source": [
			"## Example 7.6: strai.sce"
		   ]
		  },
  {
"cell_type": "code",
	   "execution_count": null,
	   "metadata": {
	    "collapsed": true
	   },
	   "outputs": [],
"source": [
"//Example 7.6 : strain \n",
"clc;\n",
"clear;\n",
"close;\n",
"format('v',10)\n",
"//given data :\n",
"b=44.5*10^3;//force\n",
"E=1.1*10^5;// in N/mm^2\n",
"A=15.2*19.1// in mm^2\n",
"epsilon=b/(A*E);\n",
"disp(epsilon,'strain,epsilon (mm) = ')"
   ]
   }
,
{
		   "cell_type": "markdown",
		   "metadata": {},
		   "source": [
			"## Example 7.7: true_stress_and_true_strain.sce"
		   ]
		  },
  {
"cell_type": "code",
	   "execution_count": null,
	   "metadata": {
	    "collapsed": true
	   },
	   "outputs": [],
"source": [
"//Example 7.7 :stress and strain \n",
"clc;\n",
"clear;\n",
"close;\n",
"format('v',6)\n",
"//given data :\n",
"sigma=450;//in MPa\n",
"epsilon=0.63;\n",
"sigma_t=sigma*(1+epsilon);\n",
"disp(sigma_t,'true stress,sigma_t(MPa) = ')\n",
"epsilon_t=log(1+epsilon);\n",
"disp(epsilon_t,'true strain,epsilon_t = ')"
   ]
   }
,
{
		   "cell_type": "markdown",
		   "metadata": {},
		   "source": [
			"## Example 7.8: greater_stress.sce"
		   ]
		  },
  {
"cell_type": "code",
	   "execution_count": null,
	   "metadata": {
	    "collapsed": true
	   },
	   "outputs": [],
"source": [
"// Example 7.8: which part has a greater stress\n",
"clc;\n",
"clear;\n",
"close;\n",
"l=24;//length in mm\n",
"b=30;//breadth in mm\n",
"ld=7000;//load in kg\n",
"sd=10;//steel bar diamtere in mm\n",
"sl=5000;//load in kg\n",
"al=ld/(l*b);//stress on aluminium bar in kg/mm^2\n",
"a=((%pi*sd^2)/4);//area in mm^2\n",
"slb=sl/a;//stress on steel bar in kg/mm^2\n",
"disp('stress on aluminium bar is '+string(al)+' kg/mm^2 is less than stress on steel bar '+string(slb)+' kg/mm^2 ' )"
   ]
   }
],
"metadata": {
		  "kernelspec": {
		   "display_name": "Scilab",
		   "language": "scilab",
		   "name": "scilab"
		  },
		  "language_info": {
		   "file_extension": ".sce",
		   "help_links": [
			{
			 "text": "MetaKernel Magics",
			 "url": "https://github.com/calysto/metakernel/blob/master/metakernel/magics/README.md"
			}
		   ],
		   "mimetype": "text/x-octave",
		   "name": "scilab",
		   "version": "0.7.1"
		  }
		 },
		 "nbformat": 4,
		 "nbformat_minor": 0
}
