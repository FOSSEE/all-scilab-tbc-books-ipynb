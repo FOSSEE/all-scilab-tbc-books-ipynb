{
"cells": [
 {
		   "cell_type": "markdown",
	   "metadata": {},
	   "source": [
       "# Chapter 16: Semiconductors"
	   ]
	},
{
		   "cell_type": "markdown",
		   "metadata": {},
		   "source": [
			"## Example 16.1: concentration_of_conductive_electrons.sce"
		   ]
		  },
  {
"cell_type": "code",
	   "execution_count": null,
	   "metadata": {
	    "collapsed": true
	   },
	   "outputs": [],
"source": [
"//Example 16.1 : concentration\n",
"clc;\n",
"clear;\n",
"close;\n",
"format('v',9)\n",
"//given data :\n",
"e=1.602*10^-19;\n",
"sigma_i=5*10^-4;// in ohm/m\n",
"mu_n=0.14;// in m^2/V-sec\n",
"mu_p=0.05;// in m^2/V-sec\n",
"n_i=sigma_i/(e*(mu_n+mu_p));\n",
"disp(n_i*10^6,'the concentration,n_i(/cm^3) = ')"
   ]
   }
,
{
		   "cell_type": "markdown",
		   "metadata": {},
		   "source": [
			"## Example 16.2: intrinsic_carrier_density.sce"
		   ]
		  },
  {
"cell_type": "code",
	   "execution_count": null,
	   "metadata": {
	    "collapsed": true
	   },
	   "outputs": [],
"source": [
"//Example 16.2 : intrinsic carrier\n",
"clc;\n",
"clear;\n",
"close;\n",
"format('v',9)\n",
"//given data :\n",
"e=1.602*10^-19;\n",
"p_i=2*10^-4;// in ohm-m\n",
"mu_n=6;// in m^2/V-sec\n",
"mu_p=0.2;// in m^2/V-sec\n",
"n_i=1/(e*(mu_n+mu_p)*p_i);\n",
"disp(n_i,'the intrinsic carrier,n_i(/m^3) = ')"
   ]
   }
,
{
		   "cell_type": "markdown",
		   "metadata": {},
		   "source": [
			"## Example 16.3: concentration_of_N_type_impurity.sce"
		   ]
		  },
  {
"cell_type": "code",
	   "execution_count": null,
	   "metadata": {
	    "collapsed": true
	   },
	   "outputs": [],
"source": [
"//Example 16.3 : neglect the intrinsic conductivity\n",
"clc;\n",
"clear;\n",
"close;\n",
"format('v',9)\n",
"//given data :\n",
"e=1.6*10^-19;\n",
"sigma=10^-12;// in mhos/m\n",
"mu_n=0.18;// in m^2/V-sec\n",
"n=sigma/(e*mu_n);\n",
"N=n;\n",
"disp(N,'in(/m^3) = ')"
   ]
   }
,
{
		   "cell_type": "markdown",
		   "metadata": {},
		   "source": [
			"## Example 16.4: concentration_number_of_electrons_carrier.sce"
		   ]
		  },
  {
"cell_type": "code",
	   "execution_count": null,
	   "metadata": {
	    "collapsed": true
	   },
	   "outputs": [],
"source": [
"//Example 16.4 : number of electron carriers\n",
"clc;\n",
"clear;\n",
"close;\n",
"format('v',9)\n",
"//given data :\n",
"e=1.6*10^-19;\n",
"p=20*10^-2;// in ohm-m\n",
"mu_n=100*10^-4;// in m^2/V-sec\n",
"n=1/(e*mu_n*p);\n",
"disp(n,'number of electrons carrier,n(/m^3) = ')"
   ]
   }
,
{
		   "cell_type": "markdown",
		   "metadata": {},
		   "source": [
			"## Example 16.5: concentration_of_impurity.sce"
		   ]
		  },
  {
"cell_type": "code",
	   "execution_count": null,
	   "metadata": {
	    "collapsed": true
	   },
	   "outputs": [],
"source": [
"//Example 16.5 : concentration of impurity\n",
"clc;\n",
"clear;\n",
"close;\n",
"format('v',9)\n",
"e=1.6*10^-19;//\n",
"l=10;//in mm\n",
"d=1;//in mm\n",
"r=100;//in ohms\n",
"up=0.19;//mobilty of electrons in V-sec\n",
"a=(%pi*((d*10^-3)^2))/4;//area in m^2\n",
"p=((r*a))/(l*10^-3);//resistivity in Ohm-cm\n",
"n=((1/(p*e*up)));//concentration in per m^3\n",
"disp(n,'impurity concentration is in per m^3')"
   ]
   }
,
{
		   "cell_type": "markdown",
		   "metadata": {},
		   "source": [
			"## Example 16.6: intrinsic_carrier_density.sce"
		   ]
		  },
  {
"cell_type": "code",
	   "execution_count": null,
	   "metadata": {
	    "collapsed": true
	   },
	   "outputs": [],
"source": [
"//Example 16.6 : intrinsic carrier density\n",
"clc;\n",
"clear;\n",
"close;\n",
"//given data :\n",
"format('v',10)\n",
"e=1.602*10^-19;\n",
"p=3000;// in ohm/m\n",
"sigma=1/p;// in ohm/m\n",
"mu_n=0.14;// in m^2/V-sec\n",
"mu_p=0.05;// in m^2/V-sec\n",
"n_i=sigma/(e*(mu_n+mu_p));\n",
"disp(n_i,'the concentration,n_i(/m^3) = ')"
   ]
   }
,
{
		   "cell_type": "markdown",
		   "metadata": {},
		   "source": [
			"## Example 16.7: conductivity.sce"
		   ]
		  },
  {
"cell_type": "code",
	   "execution_count": null,
	   "metadata": {
	    "collapsed": true
	   },
	   "outputs": [],
"source": [
"//Example 16.7 : conductivity\n",
"clc;\n",
"clear;\n",
"close;\n",
"//given data :\n",
"e=1.602*10^-19;\n",
"n_i=5.021*10^15; // in m^-3\n",
"mu_n=0.48;// in m^2/V-sec\n",
"mu_p=0.013;// in m^2/V-sec\n",
"sigma=n_i*(e*(mu_n+mu_p));\n",
"disp(sigma,'the conductivity,sigma(ohm^-1 m^-1) = ')"
   ]
   }
],
"metadata": {
		  "kernelspec": {
		   "display_name": "Scilab",
		   "language": "scilab",
		   "name": "scilab"
		  },
		  "language_info": {
		   "file_extension": ".sce",
		   "help_links": [
			{
			 "text": "MetaKernel Magics",
			 "url": "https://github.com/calysto/metakernel/blob/master/metakernel/magics/README.md"
			}
		   ],
		   "mimetype": "text/x-octave",
		   "name": "scilab",
		   "version": "0.7.1"
		  }
		 },
		 "nbformat": 4,
		 "nbformat_minor": 0
}
