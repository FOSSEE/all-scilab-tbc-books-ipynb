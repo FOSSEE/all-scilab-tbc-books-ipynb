{
"cells": [
 {
		   "cell_type": "markdown",
	   "metadata": {},
	   "source": [
       "# Chapter 9: Fracture of Metals"
	   ]
	},
{
		   "cell_type": "markdown",
		   "metadata": {},
		   "source": [
			"## Example 9.1: fracture_strength.sce"
		   ]
		  },
  {
"cell_type": "code",
	   "execution_count": null,
	   "metadata": {
	    "collapsed": true
	   },
	   "outputs": [],
"source": [
"//Example 9.1 : difference\n",
"clc;\n",
"clear;\n",
"close;\n",
"//given data :\n",
"E=200*10^9; // in N/m^2\n",
"C=(4*10^-6)/2;// in m\n",
"gama=1.48; // in J/m^2\n",
"sigma=sqrt((2*E*gama)/(%pi*C));\n",
"disp(sigma*10^-6,'fracture strength,sigma(MN/m^2) = ')"
   ]
   }
,
{
		   "cell_type": "markdown",
		   "metadata": {},
		   "source": [
			"## Example 9.2: fracture_strength.sce"
		   ]
		  },
  {
"cell_type": "code",
	   "execution_count": null,
	   "metadata": {
	    "collapsed": true
	   },
	   "outputs": [],
"source": [
"//Example 9.2 : the fracture strength and compare\n",
"clc;\n",
"clear;\n",
"close;\n",
"format('v',10)\n",
"//given data :\n",
"E=70*10^9; // in N/m^2\n",
"C=(4.2*10^-6)/2;// in m\n",
"gama=1.1; // in J/m^2\n",
"sigma=sqrt((2*E*gama)/(%pi*C));\n",
"disp(sigma,'fracture strength,sigma(N/m^2) = ')"
   ]
   }
,
{
		   "cell_type": "markdown",
		   "metadata": {},
		   "source": [
			"## Example 9.3: maximum_length.sce"
		   ]
		  },
  {
"cell_type": "code",
	   "execution_count": null,
	   "metadata": {
	    "collapsed": true
	   },
	   "outputs": [],
"source": [
"//Example 9.3 : maximum length of surfacef \n",
"clc;\n",
"clear;\n",
"close;\n",
"format('v',7)\n",
"//given data :\n",
"sigma=36;//in MN/m^2\n",
"gama=0.27;// in J/m^2\n",
"E=70*10^9;//in N/m^2\n",
"C=((2*E*gama)/(sigma^2*%pi))*10^-6;\n",
"C2=2*C;\n",
"disp(C2,'maximum length of surface flow,C2(micro-m) =   ')"
   ]
   }
,
{
		   "cell_type": "markdown",
		   "metadata": {},
		   "source": [
			"## Example 9.4_a: temperture.sce"
		   ]
		  },
  {
"cell_type": "code",
	   "execution_count": null,
	   "metadata": {
	    "collapsed": true
	   },
	   "outputs": [],
"source": [
"// Example 9.4.a: Temperature\n",
"clc;\n",
"clear;\n",
"close;\n",
"format('v',6)\n",
"E=350;// in GN/m^2\n",
"Y=2;// in J/m^2\n",
"C=2;// in micro meter\n",
"sg=sqrt((2*E*10^9*Y)/(%pi*C*10^-6));// IN mn/M^2\n",
"e=10^-2;// per second\n",
"T=173600/(round(sg*10^-6)-20.6-61.3*(log10(e)));// in kelvin\n",
"disp(T,'temperture in kelvin for ductile to brittle transition at a strain rate of 10^-2 per second')"
   ]
   }
,
{
		   "cell_type": "markdown",
		   "metadata": {},
		   "source": [
			"## Example 9.4_b: temperature.sce"
		   ]
		  },
  {
"cell_type": "code",
	   "execution_count": null,
	   "metadata": {
	    "collapsed": true
	   },
	   "outputs": [],
"source": [
"// Example 9.4.b: Temperature\n",
"clc;\n",
"clear;\n",
"close;\n",
"format('v',5)\n",
"E=350;// in GN/m^2\n",
"Y=2;// in J/m^2\n",
"C=2;// in micro meter\n",
"sg=sqrt((2*E*10^9*Y)/(%pi*C*10^-6));// IN mn/M^2\n",
"e=10^-5;// per second\n",
"T=173600/(round(sg*10^-6)-20.6-61.3*(log10(e)));// in kelvin\n",
"disp(T,'temperture in kelvin for ductile to brittle transition at a strain rate of 10^-5 per second')"
   ]
   }
],
"metadata": {
		  "kernelspec": {
		   "display_name": "Scilab",
		   "language": "scilab",
		   "name": "scilab"
		  },
		  "language_info": {
		   "file_extension": ".sce",
		   "help_links": [
			{
			 "text": "MetaKernel Magics",
			 "url": "https://github.com/calysto/metakernel/blob/master/metakernel/magics/README.md"
			}
		   ],
		   "mimetype": "text/x-octave",
		   "name": "scilab",
		   "version": "0.7.1"
		  }
		 },
		 "nbformat": 4,
		 "nbformat_minor": 0
}
