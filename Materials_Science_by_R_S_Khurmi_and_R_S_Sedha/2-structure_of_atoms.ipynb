{
"cells": [
 {
		   "cell_type": "markdown",
	   "metadata": {},
	   "source": [
       "# Chapter 2: structure of atoms"
	   ]
	},
{
		   "cell_type": "markdown",
		   "metadata": {},
		   "source": [
			"## Example 2.1: radius.sce"
		   ]
		  },
  {
"cell_type": "code",
	   "execution_count": null,
	   "metadata": {
	    "collapsed": true
	   },
	   "outputs": [],
"source": [
"//Example 2.1 : radius of the first bohr's orbit \n",
"clc;\n",
"clear;\n",
"close;\n",
"//given data :\n",
"format('v',5)\n",
"ep=8.854*10^-12;//\n",
"h=6.626*10^-34;//\n",
"m=9.1*10^-31;//in Kg\n",
"e=1.602*10^-19;//\n",
"r1=((ep*(h^2))/((%pi*m*(e^2))));//\n",
"disp(r1*10^10,'radius,r1(in angstrom)  = ')"
   ]
   }
,
{
		   "cell_type": "markdown",
		   "metadata": {},
		   "source": [
			"## Example 2.2: radius.sce"
		   ]
		  },
  {
"cell_type": "code",
	   "execution_count": null,
	   "metadata": {
	    "collapsed": true
	   },
	   "outputs": [],
"source": [
"//Example 2.2 : radius of the second bohr's orbit \n",
"clc;\n",
"clear;\n",
"close;\n",
"//given data :\n",
"format('v',6)\n",
"r1_h=0.529; // radius for hydrozen atom in Angstrum\n",
"n1=1;// for the first bohr's orbit of electron in hydrozen atom\n",
"Z1=1; // for the first bohr's orbit of electron in hydrozen atom\n",
"k=(r1_h*Z1)/n1^2; // where k is constant\n",
"n2=2; // for the second bohr orbit\n",
"Z2=2; //for the second bohr orbit\n",
"r2_he=k*(n2^2/Z2);\n",
"disp(r2_he,'radius of the second bohr orbit,r2(Angstrom) = ')"
   ]
   }
,
{
		   "cell_type": "markdown",
		   "metadata": {},
		   "source": [
			"## Example 2.3: ratio_of_energy.sce"
		   ]
		  },
  {
"cell_type": "code",
	   "execution_count": null,
	   "metadata": {
	    "collapsed": true
	   },
	   "outputs": [],
"source": [
"// Example 2.3: to prove\n",
"clc;\n",
"clear;\n",
"close;\n",
"Z=1;//assume\n",
"n1=1;//orbit 1\n",
"n2=2;//orbit 2\n",
"n3=3;//orbit 3\n",
"e1=((-13.6*Z)/(n1^2));//energy for the first orbit\n",
"e2=((-13.6*Z)/(n2^2));//energy for the second orbit\n",
"e3=((-13.6*Z)/(n3^2));//energy for the third orbit\n",
"e31=e3-e1;//energy emitted by an electron jumping from orbit nuber 3 to orbit nimber 1\n",
"e21=e2-e1;//energy emitted by an electron jumping from orbit nuber 2 to orbit nimber 1\n",
"re=e31/e21;//ratio of energy\n",
"disp(re,'ratio of energy for an electron to jump from orbit 3 to orbi 1 and from orbit 2 to orbit 1 is 32/27')"
   ]
   }
,
{
		   "cell_type": "markdown",
		   "metadata": {},
		   "source": [
			"## Example 2.4: velocity.sce"
		   ]
		  },
  {
"cell_type": "code",
	   "execution_count": null,
	   "metadata": {
	    "collapsed": true
	   },
	   "outputs": [],
"source": [
"//Example 2.4 : velocity\n",
"clc;\n",
"clear;\n",
"close;\n",
"//given data :\n",
"format('v',8)\n",
"h=6.626*10^-34;\n",
"e=1.6*10^-19;\n",
"epsilon_o=8.825*10^-12;\n",
"n=1;\n",
"Z=1;\n",
"vn=(Z*e^2)/(2*epsilon_o*n*h);\n",
"disp(vn,'velocity,vn(m/s) = ')"
   ]
   }
,
{
		   "cell_type": "markdown",
		   "metadata": {},
		   "source": [
			"## Example 2.5: orbital_frequency.sce"
		   ]
		  },
  {
"cell_type": "code",
	   "execution_count": null,
	   "metadata": {
	    "collapsed": true
	   },
	   "outputs": [],
"source": [
"//Example 2.5 : velocity\n",
"clc;\n",
"clear;\n",
"close;\n",
"//given data :\n",
"n=1;\n",
"Z=1;\n",
"k=6.56*10^15; // k is constant\n",
"fn=k*(Z^2/n^3);\n",
"disp(fn,'orbital frequency,fn(Hz) = ')"
   ]
   }
,
{
		   "cell_type": "markdown",
		   "metadata": {},
		   "source": [
			"## Example 2.6_a: energy_of_photon_emitted.sce"
		   ]
		  },
  {
"cell_type": "code",
	   "execution_count": null,
	   "metadata": {
	    "collapsed": true
	   },
	   "outputs": [],
"source": [
"//Example 2.6.a : the energy of the photon emitted\n",
"clc;\n",
"clear;\n",
"close;\n",
"format('v',5);\n",
"//given data :\n",
"Z=1;//for hydrozen\n",
"n1=3;\n",
"n2=2;\n",
"E3=-(13.6*Z^2)/n1^2;\n",
"E2=-(13.6*Z^2)/n2^2;\n",
"del_E=E3-E2;\n",
"disp(del_E,'the energy of photon emitted,del_E(eV) = ')"
   ]
   }
,
{
		   "cell_type": "markdown",
		   "metadata": {},
		   "source": [
			"## Example 2.6_b: frequency.sce"
		   ]
		  },
  {
"cell_type": "code",
	   "execution_count": null,
	   "metadata": {
	    "collapsed": true
	   },
	   "outputs": [],
"source": [
"//Example 2.6.b : frequency\n",
"clc;\n",
"clear;\n",
"close;\n",
"//given data :\n",
"format('v',9)\n",
"Z=1;//for hydrozen\n",
"n1=3;\n",
"n2=2;\n",
"m=6.626*10^-34;// mass of electron in kg\n",
"E3=-(13.6*Z^2)/n1^2;\n",
"E2=-(13.6*Z^2)/n2^2;\n",
"del_E=E3-E2;\n",
"E=del_E*1.6*10^-19;// in joules\n",
"v=(E/m);\n",
"disp(v,'frequency of the photon emitted,v(Hz) = ')"
   ]
   }
,
{
		   "cell_type": "markdown",
		   "metadata": {},
		   "source": [
			"## Example 2.6_c: wavelength.sce"
		   ]
		  },
  {
"cell_type": "code",
	   "execution_count": null,
	   "metadata": {
	    "collapsed": true
	   },
	   "outputs": [],
"source": [
"//Example 2.6.c : wave length of the photon emitted\n",
"clc;\n",
"clear;\n",
"close;\n",
"//given data :\n",
"format('v',9)\n",
"Z=1;//for hydrozen\n",
"n1=3;\n",
"n2=2;\n",
"m=6.626*10^-34;// mass of electron in kg\n",
"C=3*10^8;\n",
"E3=-(13.6*Z^2)/n1^2;\n",
"E2=-(13.6*Z^2)/n2^2;\n",
"del_E=E3-E2;\n",
"E=del_E*1.6*10^-19;\n",
"v=E/m;\n",
"lamda=C/v;\n",
"disp(lamda,'wavelength of the photon emitted,(m) = ')"
   ]
   }
],
"metadata": {
		  "kernelspec": {
		   "display_name": "Scilab",
		   "language": "scilab",
		   "name": "scilab"
		  },
		  "language_info": {
		   "file_extension": ".sce",
		   "help_links": [
			{
			 "text": "MetaKernel Magics",
			 "url": "https://github.com/calysto/metakernel/blob/master/metakernel/magics/README.md"
			}
		   ],
		   "mimetype": "text/x-octave",
		   "name": "scilab",
		   "version": "0.7.1"
		  }
		 },
		 "nbformat": 4,
		 "nbformat_minor": 0
}
