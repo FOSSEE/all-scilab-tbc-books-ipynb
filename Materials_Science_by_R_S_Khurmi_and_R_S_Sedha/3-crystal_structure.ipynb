{
"cells": [
 {
		   "cell_type": "markdown",
	   "metadata": {},
	   "source": [
       "# Chapter 3: crystal structure"
	   ]
	},
{
		   "cell_type": "markdown",
		   "metadata": {},
		   "source": [
			"## Example 3.10: diameter.sce"
		   ]
		  },
  {
"cell_type": "code",
	   "execution_count": null,
	   "metadata": {
	    "collapsed": true
	   },
	   "outputs": [],
"source": [
"//Example 3.10 : largest diameter\n",
"clc;\n",
"clear;\n",
"close;\n",
"//given data :\n",
"format('v',6)\n",
"a=3.61; // edge length in angstrum\n",
"r=(a*sqrt(2))/4;\n",
"d=2*r;\n",
"disp(d,'largest diameter,d(angstrom) = ')"
   ]
   }
,
{
		   "cell_type": "markdown",
		   "metadata": {},
		   "source": [
			"## Example 3.11: volume_change.sce"
		   ]
		  },
  {
"cell_type": "code",
	   "execution_count": null,
	   "metadata": {
	    "collapsed": true
	   },
	   "outputs": [],
"source": [
"//Example 3.11 : volume change in percentage\n",
"clc;\n",
"clear;\n",
"close;\n",
"//given data :\n",
"r_bcc=0.1258; // in nm\n",
"r_fcc=0.1292;// in nm\n",
"a_bcc=(r_bcc*4)/sqrt(3);\n",
"a_fcc=(r_fcc*4)/sqrt(2);\n",
"v_fcc=(a_fcc)^3;// in nmn^3\n",
"v_bcc=(a_bcc)^3; // in nm^3\n",
"V=((v_fcc-v_bcc)/v_bcc)*100;\n",
"disp(V,'volume change in percentage,V(%) = ')"
   ]
   }
,
{
		   "cell_type": "markdown",
		   "metadata": {},
		   "source": [
			"## Example 3.12: number_of_atoms.sce"
		   ]
		  },
  {
"cell_type": "code",
	   "execution_count": null,
	   "metadata": {
	    "collapsed": true
	   },
	   "outputs": [],
"source": [
"//Example 3.12 : number of atom/mm^2\n",
"clc;\n",
"clear;\n",
"close;\n",
"format('v',8)\n",
"//given data :\n",
"a=3.03*10^-7; // lattice constant in mm\n",
"A=1/a^2;// for 100 planes \n",
"B=0.707/a^2;//for(110) planes\n",
"C=0.58/a^2;// for(111) planes\n",
"disp(A,'number of atom for (100) plane, = ')\n",
"disp(B,'number of atoms for (110) plan, = ')\n",
"disp(C,'number of atoms for (111) plan, = ')"
   ]
   }
,
{
		   "cell_type": "markdown",
		   "metadata": {},
		   "source": [
			"## Example 3.13: number_of_atoms.sce"
		   ]
		  },
  {
"cell_type": "code",
	   "execution_count": null,
	   "metadata": {
	    "collapsed": true
	   },
	   "outputs": [],
"source": [
"//Example 3.13 : number of atom/mm^2 of planes\n",
"clc;\n",
"clear;\n",
"close;\n",
"//given data :\n",
"format('v',9)\n",
"a=2.87*10^-7; // lattice constant in mm\n",
"A=1/a^2;// for 100 planes \n",
"B=1.414/a^2;//for(110) planes\n",
"C=1.732/a^2;// for(111) planes\n",
"disp(A,'number of atom for (100) plane, = ')\n",
"disp(B,'number of atoms for (110) plan, = ')\n",
"disp(C,'number of atoms for (111) plan, = ')"
   ]
   }
,
{
		   "cell_type": "markdown",
		   "metadata": {},
		   "source": [
			"## Example 3.14: number_of_atoms.sce"
		   ]
		  },
  {
"cell_type": "code",
	   "execution_count": null,
	   "metadata": {
	    "collapsed": true
	   },
	   "outputs": [],
"source": [
"//Example 3.14 : number of atom/mm^2 surface area\n",
"clc;\n",
"clear;\n",
"close;\n",
"//given data :\n",
"a=4.93*10^-7; // lattice constant in mm\n",
"A=2/a^2;// for 100 planes \n",
"B=1.414/a^2;//for(110) planes\n",
"C=2.31/a^2;// for(111) planes\n",
"disp(A,'number of atoms for (100) plane) = ')\n",
"disp(B,'number of atoms for (110) plan = ')\n",
"disp(C,'number of atoms for (111) plan = ')"
   ]
   }
,
{
		   "cell_type": "markdown",
		   "metadata": {},
		   "source": [
			"## Example 3.15: planar_density.sce"
		   ]
		  },
  {
"cell_type": "code",
	   "execution_count": null,
	   "metadata": {
	    "collapsed": true
	   },
	   "outputs": [],
"source": [
"//Example 3.15 : planar density\n",
"clc;\n",
"clear;\n",
"close;\n",
"//given data :\n",
"format('v',9)\n",
"a=0.143*10^-6; // atomic radius in mm\n",
"A=2.31/(a^2);// for(111) planes\n",
"disp(A,'atom,A(atoms/mm^2) = ')\n",
"// answer is wrong in book"
   ]
   }
,
{
		   "cell_type": "markdown",
		   "metadata": {},
		   "source": [
			"## Example 3.16: volume.sce"
		   ]
		  },
  {
"cell_type": "code",
	   "execution_count": null,
	   "metadata": {
	    "collapsed": true
	   },
	   "outputs": [],
"source": [
"//Example 3.16 : volume\n",
"clc;\n",
"clear;\n",
"close;\n",
"format('v',7)\n",
"//given data :\n",
"a=0.2665; // in mm\n",
"c=0.4947;// in mm\n",
"V=(3*sqrt(3)*a^2*c)/2;\n",
"disp(V,'volume,V(mm^3) = ')"
   ]
   }
,
{
		   "cell_type": "markdown",
		   "metadata": {},
		   "source": [
			"## Example 3.17: packing_efficiency_and_lattice_parameter.sce"
		   ]
		  },
  {
"cell_type": "code",
	   "execution_count": null,
	   "metadata": {
	    "collapsed": true
	   },
	   "outputs": [],
"source": [
"//Example 3.17 : find the packing efficiency and lattice parameter\n",
"clc;\n",
"clear;\n",
"close;\n",
"format('v',5)\n",
"//given data :\n",
"r=1.22// in angstrum\n",
"a=(4*r)/sqrt(3);\n",
"efficiency=(%pi*sqrt(3))/8;\n",
"disp(efficiency,'efficiency = ')\n",
"disp(a,'lattice parameter,a(angstrom) = ')"
   ]
   }
,
{
		   "cell_type": "markdown",
		   "metadata": {},
		   "source": [
			"## Example 3.18: interplanar_distance.sce"
		   ]
		  },
  {
"cell_type": "code",
	   "execution_count": null,
	   "metadata": {
	    "collapsed": true
	   },
	   "outputs": [],
"source": [
"//Example 3.18 : interplanar distance\n",
"clc;\n",
"clear;\n",
"close;\n",
"//given data :\n",
"h=1;\n",
"k=1;\n",
"l=1;\n",
"//d=a/sqrt(h^2+k^2+l^2)\n",
"dBYa=1/sqrt(h^2+k^2+l^2);\n",
"disp('Interplanor distance(Angstrom) is a*'+string(dBYa));"
   ]
   }
,
{
		   "cell_type": "markdown",
		   "metadata": {},
		   "source": [
			"## Example 3.19: interplanar_spacing.sce"
		   ]
		  },
  {
"cell_type": "code",
	   "execution_count": null,
	   "metadata": {
	    "collapsed": true
	   },
	   "outputs": [],
"source": [
"//Example 3.19 : spacing\n",
"clc;\n",
"clear;\n",
"close;\n",
"//given data :\n",
"h1=2;\n",
"k1=0;\n",
"l1=0;\n",
"h2=2;\n",
"k2=2;\n",
"l2=0;\n",
"h3=1;\n",
"k3=1;\n",
"l3=1;\n",
"r=1.246;\n",
"a=(4*r)/sqrt(2);// in angstrum\n",
"//d=a/sqrt(h^2+k^2+l^2)\n",
"d1=a/sqrt(h1^2+k1^2+l1^2);\n",
"d2=a/sqrt(h2^2+k2^2+l2^2);\n",
"d3=a/sqrt(h3^2+k3^2+l3^2);\n",
"disp(d1,'d_200 spacind,d1(angstrom) = ')\n",
"disp(d2,'d_220 spacind,d2(angstrom) = ')\n",
"disp(d3,'d_111 spacind,d3(angstrom) = ')"
   ]
   }
,
{
		   "cell_type": "markdown",
		   "metadata": {},
		   "source": [
			"## Example 3.1: miller_indices.sce"
		   ]
		  },
  {
"cell_type": "code",
	   "execution_count": null,
	   "metadata": {
	    "collapsed": true
	   },
	   "outputs": [],
"source": [
"//Example 3.1: miller indices\n",
"clc;\n",
"clear;\n",
"close;\n",
"//given data \n",
"x1=1;//\n",
"x2=1;//\n",
"x3=2;//\n",
"h1=1/x1;//\n",
"h2=1/x2;//\n",
"h3=1/x3;//\n",
"disp('Miller indices of the plane (112) are: '+string(h1)+','+string(h2)+','+string(h3))\n",
"x11=0;//\n",
"x21=0;//\n",
"x31=1;//\n",
"h11=%inf;//\n",
"h21=%inf;//\n",
"h31=1/x31;//\n",
"disp('Miller indices of the plane (001) are : '+string(h11)+','+string(h21)+','+string(h31))\n",
"x111=1;//\n",
"x211=0;//\n",
"x311=1;//\n",
"h111=1/x111;//\n",
"h211=%inf;//\n",
"h311=1/x311;//\n",
"disp('Miller indices of the plane (101) are : '+string(h111)+','+string(h211)+','+string(h311))"
   ]
   }
,
{
		   "cell_type": "markdown",
		   "metadata": {},
		   "source": [
			"## Example 3.20: interplanar_spacing.sce"
		   ]
		  },
  {
"cell_type": "code",
	   "execution_count": null,
	   "metadata": {
	    "collapsed": true
	   },
	   "outputs": [],
"source": [
"//Example 3.20 : interplaner spacing d_220\n",
"clc;\n",
"clear;\n",
"close;\n",
"format('v',6)\n",
"//given data :\n",
"a=0.316;// in nm\n",
"h=2;\n",
"k=2;\n",
"l=0;\n",
"d=a/sqrt(h^2+k^2+l^2);\n",
"disp(d,'inter planer spacing d_220,d(nm) = ')\n",
"// answer is wrong in book"
   ]
   }
,
{
		   "cell_type": "markdown",
		   "metadata": {},
		   "source": [
			"## Example 3.21: ratio_of_cubic_lattice_sepration_between_the_successive_lattice_planes.sce"
		   ]
		  },
  {
"cell_type": "code",
	   "execution_count": null,
	   "metadata": {
	    "collapsed": true
	   },
	   "outputs": [],
"source": [
"// Example 3.21: interplanar spacing d220\n",
"clc;\n",
"clear;\n",
"close;\n",
"format('v',5)\n",
"a=1;//constant assume\n",
"a1=[1;0;0];//lattice planes\n",
"a2=[1;1;0];//lattice planes\n",
"a3=[1;1;1];//lattice planes\n",
"d100=a/(sqrt(a1(1,1)^2+a1(2,1)^2+a1(3,1)^2));//interplanar distance between (100)planes\n",
"d110=a/(sqrt(a2(1,1)^2+a2(2,1)^2+a2(3,1)^2));//interplanar distance between (110)planes\n",
"d111=a/(sqrt(a3(1,1)^2+a3(2,1)^2+a3(3,1)^2));//interplanar distance between (111)planes\n",
"disp('ratio of interplanar distances is '+string(d100)+':'+string(d110)+':'+string(d111)+'')"
   ]
   }
,
{
		   "cell_type": "markdown",
		   "metadata": {},
		   "source": [
			"## Example 3.22: perpendicular_distance.sce"
		   ]
		  },
  {
"cell_type": "code",
	   "execution_count": null,
	   "metadata": {
	    "collapsed": true
	   },
	   "outputs": [],
"source": [
"// Example 3.22: perpendicular distance\n",
"clc;\n",
"clear;\n",
"close;\n",
"a=1;//constant assume\n",
"a1=[1;1;1];//lattice planes\n",
"a2=[2;2;2];//lattice planes\n",
"d1=a/(sqrt(a1(1,1)^2+a1(2,1)^2+a1(3,1)^2));//perpendicular distance between origin and (111)planes\n",
"d2=a/(sqrt(a2(1,1)^2+a2(2,1)^2+a2(3,1)^2));//perpendicular distance between origin and (222)planes\n",
"d22 = d1-d2;//perpendicular distance between the planes (111) and (222)\n",
"disp(d22,'perpendicular distance between the planes (111) and (222)')"
   ]
   }
,
{
		   "cell_type": "markdown",
		   "metadata": {},
		   "source": [
			"## Example 3.23: angle.sce"
		   ]
		  },
  {
"cell_type": "code",
	   "execution_count": null,
	   "metadata": {
	    "collapsed": true
	   },
	   "outputs": [],
"source": [
"// Example 3.23: angle between planes (122) and (111)\n",
"clc;\n",
"clear;\n",
"close;\n",
"a=1;// assume\n",
"a1=[1;2;2];//lattice planes\n",
"a2=[1;1;1];//lattice planes\n",
"d1=a/(sqrt(a1(1,1)^2+a1(2,1)^2+a1(3,1)^2));//perpendicular distance between origin and (111)planes\n",
"d2=a/(sqrt(a2(1,1)^2+a2(2,1)^2+a2(3,1)^2));//perpendicular distance between origin and (222)planes\n",
"cphi= ((a1(1,1)*a2(1,1))+(a1(2,1)*a2(2,1))+(a1(3,1)*a2(3,1)))*(d1*d2);//\n",
"d=acosd(cphi);// in degree\n",
"d1=floor(d);//\n",
"d2=d-d1;//\n",
"disp('angle between planes (122) and (111) is '+string(d1)+' degree '+string(round(60*d2))+' minutes')"
   ]
   }
,
{
		   "cell_type": "markdown",
		   "metadata": {},
		   "source": [
			"## Example 3.24: concentration_of_iron_atoms.sce"
		   ]
		  },
  {
"cell_type": "code",
	   "execution_count": null,
	   "metadata": {
	    "collapsed": true
	   },
	   "outputs": [],
"source": [
"//Example 3.24 : concentration of iron\n",
"clc;\n",
"clear;\n",
"close;\n",
"format('v',9)\n",
"//given data :\n",
"d=7.87;\n",
"N=6.023*10^23; // avogadro's number\n",
"A=55.85;// atomic weight\n",
"I=A/N;// mass of iron atom\n",
"atom=d/I;\n",
"disp(atom,'number of atoms(atoms/cm^3) =  ')"
   ]
   }
,
{
		   "cell_type": "markdown",
		   "metadata": {},
		   "source": [
			"## Example 3.25: lattice_constants.sce"
		   ]
		  },
  {
"cell_type": "code",
	   "execution_count": null,
	   "metadata": {
	    "collapsed": true
	   },
	   "outputs": [],
"source": [
"//Example 3.25 : lattice constant\n",
"clc;\n",
"clear;\n",
"close;\n",
"//given data :\n",
"format('v',6)\n",
"n=2;\n",
"A=55.8;\n",
"N=6.023*10^26; // avogadro's number in /kg-mole\n",
"b=7.87*10^3;// in kg/m^3\n",
"a=((A*n)/(N*b))^(1/3);\n",
"disp(a*10^10,'lattice constant,a(angstrom)')"
   ]
   }
,
{
		   "cell_type": "markdown",
		   "metadata": {},
		   "source": [
			"## Example 3.26: density.sce"
		   ]
		  },
  {
"cell_type": "code",
	   "execution_count": null,
	   "metadata": {
	    "collapsed": true
	   },
	   "outputs": [],
"source": [
"//Example 3.26 : density\n",
"clc;\n",
"clear;\n",
"close;\n",
"//given data :\n",
"format('v',5)\n",
"n=4;\n",
"N=6.023*10^23; // avogadro's number\n",
"r=1.278*10^-8;// in cm\n",
"A=63.5;\n",
"a=(r*4)/sqrt(2);// in cm\n",
"b=(A*n)/(a^3*N);\n",
"disp(b,'density of copper,b(g/cc) = ')"
   ]
   }
,
{
		   "cell_type": "markdown",
		   "metadata": {},
		   "source": [
			"## Example 3.27: number_of_atoms.sce"
		   ]
		  },
  {
"cell_type": "code",
	   "execution_count": null,
	   "metadata": {
	    "collapsed": true
	   },
	   "outputs": [],
"source": [
"//Example 3.27 : number of atoms\n",
"clc;\n",
"clear;\n",
"close;\n",
"//given data :\n",
"n=4;\n",
"N=6.023*10^23; // avogadro's number\n",
"A=55.85;\n",
"a=2.9*10^-8;\n",
"b=7.87;//density in g/cc\n",
"//a^3=(A*n)/(N*b)\n",
"n=round((a^3*N*b)/A);\n",
"disp(n,'number of atoms,n = ')"
   ]
   }
,
{
		   "cell_type": "markdown",
		   "metadata": {},
		   "source": [
			"## Example 3.28: lattice_constants.sce"
		   ]
		  },
  {
"cell_type": "code",
	   "execution_count": null,
	   "metadata": {
	    "collapsed": true
	   },
	   "outputs": [],
"source": [
"//Example 3.28 : lattice constant\n",
"clc;\n",
"clear;\n",
"close;\n",
"//given data :\n",
"d=6250;//density\n",
"N=6.02*10^23;//avogadro's number\n",
"n=4;\n",
"m=60.2*10^-3;// atomic mass\n",
"M=(n*m)/N;\n",
"V=M/d;\n",
"a=V^(1/3)*10^9;\n",
"disp(a,'the lattice constant,a(nm) = ')\n",
"//ANSWER IS WRONG IN THE TEXT BOOK"
   ]
   }
,
{
		   "cell_type": "markdown",
		   "metadata": {},
		   "source": [
			"## Example 3.29: number_of_atoms.sce"
		   ]
		  },
  {
"cell_type": "code",
	   "execution_count": null,
	   "metadata": {
	    "collapsed": true
	   },
	   "outputs": [],
"source": [
"//Example 3.29 : the number of atoms\n",
"clc;\n",
"clear;\n",
"close;\n",
"//given data :\n",
"d=7.87;//in g/cm^3\n",
"A=55.85;\n",
"a=2.9*10^-8;// in cm\n",
"N=6.02*10^23;//avogadro's number\n",
"n=(d*a^3*N)/A;\n",
"disp(round(n),'the number of atom,n = ')"
   ]
   }
,
{
		   "cell_type": "markdown",
		   "metadata": {},
		   "source": [
			"## Example 3.2: miller_indices.sce"
		   ]
		  },
  {
"cell_type": "code",
	   "execution_count": null,
	   "metadata": {
	    "collapsed": true
	   },
	   "outputs": [],
"source": [
"//Example 3.2: miller indices\n",
"clc;\n",
"clear;\n",
"close;\n",
"//given data \n",
"x1=0;//\n",
"x2=2;//\n",
"x3=0;//\n",
"h1=%inf;//\n",
"h2=1/x2;//\n",
"h3=%inf;//\n",
"disp('Miller indices of the plane (020) are: '+string(h1)+','+string(h2)+','+string(h3))\n",
"x11=1;//\n",
"x21=2;//\n",
"x31=0;//\n",
"h11=1/x11;//\n",
"h21=1/x21;//\n",
"h31=%inf;//\n",
"disp('Miller indices of the plane (120) are : '+string(h11)+','+string(h21)+','+string(h31))\n",
"x111=2;//\n",
"x211=2;//\n",
"x311=0;//\n",
"h111=1/x111;//\n",
"h211=1/x211;//\n",
"h311=%inf;//\n",
"disp('Miller indices of the plane (220) are : '+string(h111)+','+string(h211)+','+string(h311))\n",
"//miller indices for plane (120) is calculated wrong in the book"
   ]
   }
,
{
		   "cell_type": "markdown",
		   "metadata": {},
		   "source": [
			"## Example 3.30: number_of_vacancies_in_copper.sce"
		   ]
		  },
  {
"cell_type": "code",
	   "execution_count": null,
	   "metadata": {
	    "collapsed": true
	   },
	   "outputs": [],
"source": [
"// Example 3.30: calculate the number of vacancies in the copper\n",
"clc;\n",
"clear;\n",
"close;\n",
"B=1.38*10^-23;//boltzman constant in J/atom-K\n",
"B1=8.62*10^-5;// bolzman constant in ev/atom-K\n",
"Qv=0.9;// eV/atom\n",
"t=27;// room temperatyre in degree celsius\n",
"pcu=8.4;//in g/cm^3\n",
"Acv=63.5;// in g/mol\n",
"T=t+273;//temperture in kelvin\n",
"Nv=6.023*10^23;//\n",
"P=8.4;//\n",
"Ns=(Nv*P)/Acv;// number of regular lattice sites\n",
"Nv1=Ns*exp(-Qv/(B1*T));//\n",
"disp(Nv1,'number of vacancies in copper in vacancies/cm^3')\n",
"//answer is wrong in the textbook"
   ]
   }
,
{
		   "cell_type": "markdown",
		   "metadata": {},
		   "source": [
			"## Example 3.31: interplanar_spacing.sce"
		   ]
		  },
  {
"cell_type": "code",
	   "execution_count": null,
	   "metadata": {
	    "collapsed": true
	   },
	   "outputs": [],
"source": [
"//Example 3.31 : interplanar spacing\n",
"clc;\n",
"clear;\n",
"close;\n",
"//given data :\n",
"format('v',5)\n",
"theta=20.3;//in degree\n",
"lamda=1.54;// in angstrum\n",
"n=1;\n",
"a=sind(theta)\n",
"d=lamda/(2*a);\n",
"disp(d,'interplanar spacing,d(angstrom) = ')"
   ]
   }
,
{
		   "cell_type": "markdown",
		   "metadata": {},
		   "source": [
			"## Example 3.32: interatomic_spacing.sce"
		   ]
		  },
  {
"cell_type": "code",
	   "execution_count": null,
	   "metadata": {
	    "collapsed": true
	   },
	   "outputs": [],
"source": [
"//Example 3.32 : interatomic spacing\n",
"clc;\n",
"clear;\n",
"close;\n",
"//given data :\n",
"format('v',9)\n",
"theta=30;//in degree\n",
"lamda=1.54;// in angstrum\n",
"n=1;\n",
"a=sind(theta)\n",
"d=lamda/(2*a);\n",
"disp(d,'interatomic spacing,d(angstrom) = ')"
   ]
   }
,
{
		   "cell_type": "markdown",
		   "metadata": {},
		   "source": [
			"## Example 3.33: order_of_Braggs_reflectio.sce"
		   ]
		  },
  {
"cell_type": "code",
	   "execution_count": null,
	   "metadata": {
	    "collapsed": true
	   },
	   "outputs": [],
"source": [
"//Example 3.33 : number of per order\n",
"clc;\n",
"clear;\n",
"close;\n",
"//given data :\n",
"format('v',5)\n",
"theta=90;//in degree\n",
"lamda=1.54;// in angstrum\n",
"a=sind(theta)\n",
"d=1.181;\n",
"n=(2*d*a)/lamda;\n",
"disp(n,'number of order,n = ')"
   ]
   }
,
{
		   "cell_type": "markdown",
		   "metadata": {},
		   "source": [
			"## Example 3.34: size_of_unit_cell.sce"
		   ]
		  },
  {
"cell_type": "code",
	   "execution_count": null,
	   "metadata": {
	    "collapsed": true
	   },
	   "outputs": [],
"source": [
"// Example 3.34: size of unit cell\n",
"clc;\n",
"clear;\n",
"close;\n",
"n=1;//\n",
"a=1;//assume\n",
"h=0.58;//wavelnegth in armstrong\n",
"th=9.5;//reflection angle in degree\n",
"a1=[2;0;0];//miller indices\n",
"d200=a/(sqrt(a1(1,1)^2+a1(2,1)^2+a1(3,1)^2));//interplanar distance between (200)planes\n",
"a=((n*h)/(2*d200*sind(th)));//zsize of unit cell\n",
"disp(a,'size of unit cell in Ä')\n",
"//amswer is wrong in the textbook"
   ]
   }
,
{
		   "cell_type": "markdown",
		   "metadata": {},
		   "source": [
			"## Example 3.35: Bragg_angle.sce"
		   ]
		  },
  {
"cell_type": "code",
	   "execution_count": null,
	   "metadata": {
	    "collapsed": true
	   },
	   "outputs": [],
"source": [
"// Example 3.35: bragg angle\n",
"clc;\n",
"clear;\n",
"close;\n",
"n=1;//\n",
"a=3.57;//in Ä\n",
"h=0.54;//wavelnegth in Ä \n",
"a1=[1;1;1];//miller indices\n",
"d111=a/(sqrt(a1(1,1)^2+a1(2,1)^2+a1(3,1)^2));//interplanar distance between (111)planes\n",
"snd=((n*h)/(2*d111));//\n",
"th=asind(snd);// bragg angle in degree\n",
"d1=floor(th);//\n",
"d2=th-floor(d1);//\n",
"disp('angle between planes (122) and (111) is '+string(d1)+' degree '+string(round(60*d2))+' minutes')\n",
"//wavelength is given wrong in example it is 0.54Ä and it is taken as 1.54Ä"
   ]
   }
,
{
		   "cell_type": "markdown",
		   "metadata": {},
		   "source": [
			"## Example 3.36: interplanar_spacing_and_Miller_Indices.sce"
		   ]
		  },
  {
"cell_type": "code",
	   "execution_count": null,
	   "metadata": {
	    "collapsed": true
	   },
	   "outputs": [],
"source": [
"// Example 3.36: interplanner spacing and miller indices\n",
"clc;\n",
"clear;\n",
"close;\n",
"a=3.16;// in Ä\n",
"h=1.54;// in Ä\n",
"n=1;//\n",
"th=20.3;// in degree\n",
"d=((n*h)/(2*sind(th)));// interplanner spacing in Ä\n",
"x=a/d;//\n",
"y=x^2;//\n",
"disp(d,'interplanner spacing in Ä is')\n",
"disp('miller indices are (110) , (011) or (101)')"
   ]
   }
,
{
		   "cell_type": "markdown",
		   "metadata": {},
		   "source": [
			"## Example 3.37: interplanar_spacing_and_diffraction_angke.sce"
		   ]
		  },
  {
"cell_type": "code",
	   "execution_count": null,
	   "metadata": {
	    "collapsed": true
	   },
	   "outputs": [],
"source": [
"// Example 3.36: interplanner spacing and diffraction angle\n",
"clc;\n",
"clear;\n",
"close;\n",
"a=.2866;// in Ä\n",
"h=0.1542;// in nm\n",
"n=1;//\n",
"a1=[2;1;1];//miller indices\n",
"d211=a/(sqrt(a1(1,1)^2+a1(2,1)^2+a1(3,1)^2));//interplanar distance between (211)planes\n",
"snd=((n*h)/(2*d211));//\n",
"th=asind(snd);// bragg angle in degree\n",
"d1=floor(th);//\n",
"d2=th-floor(d1);//\n",
"disp('angle between planes (122) and (111) is '+string(d1)+' degree '+string(round(60*d2))+' minutes')\n",
"disp(d211,'interplanner spacing in Ä is')\n",
"//answer is wrong in the textbook"
   ]
   }
,
{
		   "cell_type": "markdown",
		   "metadata": {},
		   "source": [
			"## Example 3.3: miller_indices.sce"
		   ]
		  },
  {
"cell_type": "code",
	   "execution_count": null,
	   "metadata": {
	    "collapsed": true
	   },
	   "outputs": [],
"source": [
"// Example 3.3: miller indices\n",
"clc;\n",
"clear;\n",
"close;\n",
"x=1/2;//\n",
"x1=1/x;//\n",
"r2=0;//\n",
"r3=0;//\n",
"x10=-1;//\n",
"x2=1/-x10;//\n",
"r4=0;//\n",
"r5=0;//\n",
"disp('miller indices (Case 1) of the given plane are '+string(x1)+' : '+string(r2)+' : '+string(r3)+' ')\n",
"disp('miller indices (Case 2) of the given plane are '+string(x2)+' : '+string(r3)+' : '+string(r4)+' ')"
   ]
   }
,
{
		   "cell_type": "markdown",
		   "metadata": {},
		   "source": [
			"## Example 3.4: miller_indices.sce"
		   ]
		  },
  {
"cell_type": "code",
	   "execution_count": null,
	   "metadata": {
	    "collapsed": true
	   },
	   "outputs": [],
"source": [
"// Example 3.4: miller indices\n",
"clc;\n",
"clear;\n",
"close;\n",
"a=0.529;//\n",
"b=1;//\n",
"c=0.477;//\n",
"a1=0.264;//\n",
"b1=1;//\n",
"c1=0.238;//\n",
"r1=round(a/a1);//\n",
"r2=b/b1;//\n",
"r3=round(c/c1);//\n",
"disp('miller indices of the given plane are '+string(r1)+' : '+string(r2)+' : '+string(r3)+' ')"
   ]
   }
,
{
		   "cell_type": "markdown",
		   "metadata": {},
		   "source": [
			"## Example 3.5: miller_indices.sce"
		   ]
		  },
  {
"cell_type": "code",
	   "execution_count": null,
	   "metadata": {
	    "collapsed": true
	   },
	   "outputs": [],
"source": [
"//Example 3.5: miller indices\n",
"clc;\n",
"clear;\n",
"close;\n",
"//given data \n",
"x1=1;//\n",
"x2=1;//\n",
"x3=0;//\n",
"h1=1/x1//\n",
"h2=1/x2;//\n",
"h3=%inf;//\n",
"disp('Miller indices of the plane (110) are: '+string(h1)+','+string(h2)+','+string(h3))\n",
"x11=1;//\n",
"x21=1;//\n",
"x31=1;//\n",
"h11=1/x11;//\n",
"h21=1/x21;//\n",
"h31=1/x31;//\n",
"disp('Miller indices of the plane (111) are : '+string(h11)+','+string(h21)+','+string(h31))"
   ]
   }
,
{
		   "cell_type": "markdown",
		   "metadata": {},
		   "source": [
			"## Example 3.9: atoms_per_unit_cell.sce"
		   ]
		  },
  {
"cell_type": "code",
	   "execution_count": null,
	   "metadata": {
	    "collapsed": true
	   },
	   "outputs": [],
"source": [
"// Example 3.9: atoms per unit cell\n",
"clc;\n",
"clear;\n",
"close;\n",
"c=8;//corners\n",
"f=6;//faces\n",
"nf=(1/2)*f;//no. of atoms in all six faces\n",
"nc=(1/8)*c;//no. of atoms in all corners\n",
"ta=nf+nc;//\n",
"disp(ta,'total number of atoms are')"
   ]
   }
],
"metadata": {
		  "kernelspec": {
		   "display_name": "Scilab",
		   "language": "scilab",
		   "name": "scilab"
		  },
		  "language_info": {
		   "file_extension": ".sce",
		   "help_links": [
			{
			 "text": "MetaKernel Magics",
			 "url": "https://github.com/calysto/metakernel/blob/master/metakernel/magics/README.md"
			}
		   ],
		   "mimetype": "text/x-octave",
		   "name": "scilab",
		   "version": "0.7.1"
		  }
		 },
		 "nbformat": 4,
		 "nbformat_minor": 0
}
