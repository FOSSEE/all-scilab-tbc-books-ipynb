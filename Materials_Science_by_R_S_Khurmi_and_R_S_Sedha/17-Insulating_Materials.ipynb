{
"cells": [
 {
		   "cell_type": "markdown",
	   "metadata": {},
	   "source": [
       "# Chapter 17: Insulating Materials"
	   ]
	},
{
		   "cell_type": "markdown",
		   "metadata": {},
		   "source": [
			"## Example 17.1: greater_charge.sce"
		   ]
		  },
  {
"cell_type": "code",
	   "execution_count": null,
	   "metadata": {
	    "collapsed": true
	   },
	   "outputs": [],
"source": [
"// Example 17.1: greater chanrge\n",
"clc;\n",
"clear;\n",
"close;\n",
"format('v',10)\n",
"er1=6;//\n",
"d1=0.25;// in mm\n",
"a=1;// assume\n",
"er2=2.6;//\n",
"d2=0.1;// in mm\n",
"c1=(er1/d1);// in ampere\n",
"c2=(er2/d2);// in amperes\n",
"disp(' C1 '+string(c1)+'A will hold the more charge than C2 '+string(c2)+'A ')"
   ]
   }
],
"metadata": {
		  "kernelspec": {
		   "display_name": "Scilab",
		   "language": "scilab",
		   "name": "scilab"
		  },
		  "language_info": {
		   "file_extension": ".sce",
		   "help_links": [
			{
			 "text": "MetaKernel Magics",
			 "url": "https://github.com/calysto/metakernel/blob/master/metakernel/magics/README.md"
			}
		   ],
		   "mimetype": "text/x-octave",
		   "name": "scilab",
		   "version": "0.7.1"
		  }
		 },
		 "nbformat": 4,
		 "nbformat_minor": 0
}
