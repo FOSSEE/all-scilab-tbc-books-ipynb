{
"cells": [
 {
		   "cell_type": "markdown",
	   "metadata": {},
	   "source": [
       "# Chapter 5: Electron Theory of Metals"
	   ]
	},
{
		   "cell_type": "markdown",
		   "metadata": {},
		   "source": [
			"## Example 5.10: density_and_drift_velocity.sce"
		   ]
		  },
  {
"cell_type": "code",
	   "execution_count": null,
	   "metadata": {
	    "collapsed": true
	   },
	   "outputs": [],
"source": [
"//Example 5.10 : density and drift velocity \n",
"clc;\n",
"clear;\n",
"close;\n",
"//given data :\n",
"format('v',9)\n",
"e=1.602 *10^-19;\n",
"b=58*10^6;// in ohm^-1 m^-1\n",
"mu_n=3.5*10^-3;// in m^2/V s\n",
"E=0.5; // in V/m\n",
"n=b/(e*mu_n);\n",
"disp(n,'density,n(m^-3) = ')\n",
"v=mu_n*E;\n",
"disp(v,'drift velocity,v(m/s) = ')"
   ]
   }
,
{
		   "cell_type": "markdown",
		   "metadata": {},
		   "source": [
			"## Example 5.11: velocity.sce"
		   ]
		  },
  {
"cell_type": "code",
	   "execution_count": null,
	   "metadata": {
	    "collapsed": true
	   },
	   "outputs": [],
"source": [
"//Example 5.11 : velocity\n",
"clc;\n",
"clear;\n",
"close;\n",
"//given data :\n",
"m=9.109*10^-31; // in kg\n",
"e=1.602 *10^-19;\n",
"Ef=2.1// in ev\n",
"Wf=e*Ef;// in J\n",
"vf=sqrt((2*Wf)/m);\n",
"disp(vf,'velocity,vf(m/s) = ')"
   ]
   }
,
{
		   "cell_type": "markdown",
		   "metadata": {},
		   "source": [
			"## Example 5.12_a: velocity.sce"
		   ]
		  },
  {
"cell_type": "code",
	   "execution_count": null,
	   "metadata": {
	    "collapsed": true
	   },
	   "outputs": [],
"source": [
"//Example 5.12.a : velocity\n",
"clc;\n",
"clear;\n",
"close;\n",
"//given data :\n",
"m=9.1*10^-31; // in kg\n",
"e=1.602 *10^-19;\n",
"Ef=3.75;// in ev\n",
"Wf=(e*Ef);// in J\n",
"vf=sqrt(((2*Wf)/m));\n",
"disp(vf,'velocity,vf(m/s) = ')\n",
"// answer is wrong in book"
   ]
   }
,
{
		   "cell_type": "markdown",
		   "metadata": {},
		   "source": [
			"## Example 5.12_b: mobility_of_electrons.sce"
		   ]
		  },
  {
"cell_type": "code",
	   "execution_count": null,
	   "metadata": {
	    "collapsed": true
	   },
	   "outputs": [],
"source": [
"//Example 5.12.b : mobility of electron\n",
"clc;\n",
"clear;\n",
"close;\n",
"//given data :\n",
"m=9.1*10^-31; // in kg\n",
"e=1.602 *10^-19;\n",
"Ef=3.75;// in ev\n",
"t=10^-14;// in sec\n",
"mu=(e*t)/m;\n",
"disp(mu,'mobility,mu(m^2/V-sec) = ')"
   ]
   }
,
{
		   "cell_type": "markdown",
		   "metadata": {},
		   "source": [
			"## Example 5.13: mean_free_path.sce"
		   ]
		  },
  {
"cell_type": "code",
	   "execution_count": null,
	   "metadata": {
	    "collapsed": true
	   },
	   "outputs": [],
"source": [
"//Example 5.13 : the mean free path\n",
"clc;\n",
"clear;\n",
"close;\n",
"//given data :\n",
"format('v',5)\n",
"t=10^-9; // in sec\n",
"m=9.109*10^-31; // in kg\n",
"e=1.602 *10^-19;\n",
"Ef=7// in ev\n",
"Wf=e*Ef;// in J\n",
"vf=sqrt((2*Wf)/m);\n",
"lamda=vf*t*10^3;\n",
"disp(lamda,'the mean free path,lamda(mm) = ')"
   ]
   }
,
{
		   "cell_type": "markdown",
		   "metadata": {},
		   "source": [
			"## Example 5.14: mobility_and_average_time.sce"
		   ]
		  },
  {
"cell_type": "code",
	   "execution_count": null,
	   "metadata": {
	    "collapsed": true
	   },
	   "outputs": [],
"source": [
"//Example 5.14 : mobility and average time\n",
"clc;\n",
"clear;\n",
"close;\n",
"//given data :\n",
"format('v',6)\n",
"m=9.109*10^-31; // in kg\n",
"e=1.602 *10^-19;\n",
"d=8.92*10^3;// in kg/m^3\n",
"p=1.73*10^-8;// ohm-m\n",
"A=63.5;//atomic weight\n",
"N=6.023*10^22; // avogadro's number\n",
"n=(N*d)/A;\n",
"b=1/p;// conductivity\n",
"mu=b/(n*e);\n",
"disp(mu,'mobility,mu(m^2/V-s) = ')\n",
"t=(mu*m)/e;\n",
"disp(t*10^9,'average time,t(ns) = ')"
   ]
   }
,
{
		   "cell_type": "markdown",
		   "metadata": {},
		   "source": [
			"## Example 5.15: electrical_resistivity.sce"
		   ]
		  },
  {
"cell_type": "code",
	   "execution_count": null,
	   "metadata": {
	    "collapsed": true
	   },
	   "outputs": [],
"source": [
"//Example 5.15 : electrical resistivity\n",
"clc;\n",
"clear;\n",
"close;\n",
"//given data :\n",
"format('v',8)\n",
"r=1.86*10^-10;// in m\n",
"t=3*10^-14;// in sec\n",
"a=2;\n",
"m=9.1*10^-31; // in kg\n",
"e=1.602 *10^-9;\n",
"A=23*10^-3;//in kg/m\n",
"N=6.023*10^23; // avogadro's number\n",
"M=(a*A)/N;\n",
"V=((4/sqrt(3))*r)^3;\n",
"d=M/V;\n",
"mu=((e*t)/m);\n",
"n=(N*d)/A;\n",
"b=1.602 *10^-19*n*mu;\n",
"p=(1/b);\n",
"disp(p,'resistivity,p(ohm-m) = ')"
   ]
   }
,
{
		   "cell_type": "markdown",
		   "metadata": {},
		   "source": [
			"## Example 5.1_a: probability.sce"
		   ]
		  },
  {
"cell_type": "code",
	   "execution_count": null,
	   "metadata": {
	    "collapsed": true
	   },
	   "outputs": [],
"source": [
"// Example 5.1.a: probability for diamond\n",
"clc, clear\n",
"// given :\n",
"format('v',9)\n",
"Eg=5.6; // in eV\n",
"k=86.2*10^-6; // in eVk^-1\n",
"T=273+25; // in K\n",
"E_Ef=Eg/2;\n",
"f_E=1/(1+exp(E_Ef/(k*T)));\n",
"disp(f_E,'probability for diamond,f_E = ')"
   ]
   }
,
{
		   "cell_type": "markdown",
		   "metadata": {},
		   "source": [
			"## Example 5.1_b: probability.sce"
		   ]
		  },
  {
"cell_type": "code",
	   "execution_count": null,
	   "metadata": {
	    "collapsed": true
	   },
	   "outputs": [],
"source": [
"// Example 5.1.b: probability for silicon\n",
"clc, clear\n",
"// given :\n",
"Eg=1.07; // in eV\n",
"k=86.2*10^-6; // in eVk^-1\n",
"T=273+25; // in K\n",
"E_Ef=Eg/2;\n",
"f_E=1/(1+exp(E_Ef/(k*T)));\n",
"disp(f_E,'probability for diamond,f_E = ')\n",
"// answer is wrong in book"
   ]
   }
,
{
		   "cell_type": "markdown",
		   "metadata": {},
		   "source": [
			"## Example 5.2: resistance.sce"
		   ]
		  },
  {
"cell_type": "code",
	   "execution_count": null,
	   "metadata": {
	    "collapsed": true
	   },
	   "outputs": [],
"source": [
"// Example 5.2: resistance\n",
"clc, clear\n",
"// given :\n",
"l=1; // length in m\n",
"A=4*10^-4; // area of cross section in m^2\n",
"p=0.01*10^-2; // resistivity in ohm-m\n",
"R=p*(l/A);\n",
"disp(R,'resistance of wire,R(ohm) = ')"
   ]
   }
,
{
		   "cell_type": "markdown",
		   "metadata": {},
		   "source": [
			"## Example 5.3: resistance.sce"
		   ]
		  },
  {
"cell_type": "code",
	   "execution_count": null,
	   "metadata": {
	    "collapsed": true
	   },
	   "outputs": [],
"source": [
"// Example 5.3: resistance\n",
"clc, clear\n",
"// given :\n",
"format('v',5)\n",
"p=1.7*10^-8; //  resistivity i ohm-m\n",
"d=0.0005; // diameter of the wire in m\n",
"l=31.4; // length in m\n",
"A=(%pi*d^2)/4;\n",
"R=p*(l/A);\n",
"disp(R,'resistance of wire,R(ohm) = ')"
   ]
   }
,
{
		   "cell_type": "markdown",
		   "metadata": {},
		   "source": [
			"## Example 5.4: conductivity.sce"
		   ]
		  },
  {
"cell_type": "code",
	   "execution_count": null,
	   "metadata": {
	    "collapsed": true
	   },
	   "outputs": [],
"source": [
"// Example 5.4: conductivity\n",
"clc, clear\n",
"// given :\n",
"format('v',8)\n",
"V=.432; // voltage drop across the wire in volts\n",
"I=10; // current through the wire in A\n",
"l=1; // length in m\n",
"d=1*10^-3; // diameter in m\n",
"R=V/I;\n",
"A=(%pi*d^2)/4;\n",
"p=(R*A)/l;\n",
"b=1/p;\n",
"disp(b,'conductivitty,b(ohm^-1.m^-1) = ')"
   ]
   }
,
{
		   "cell_type": "markdown",
		   "metadata": {},
		   "source": [
			"## Example 5.5: drift_velocity.sce"
		   ]
		  },
  {
"cell_type": "code",
	   "execution_count": null,
	   "metadata": {
	    "collapsed": true
	   },
	   "outputs": [],
"source": [
"// Example 5.5: drift velocity\n",
"clc, clear\n",
"// given :\n",
"format('v',5)\n",
"n=10^19; // in m^3\n",
"b=0.01; // conductivity in ohm^-1. m^-1\n",
"V=0.17; // in volts\n",
"d=.27*10^-3; // in m\n",
"e=1.602*10^-19; // in C\n",
"m=9.1*10^-31; // in kg\n",
"E=V/d; // in volt/m\n",
"v=((b*E)/(n*e));\n",
"disp(v,'drift velocity of electron,v (m/sec) = ')"
   ]
   }
,
{
		   "cell_type": "markdown",
		   "metadata": {},
		   "source": [
			"## Example 5.6: conductivity.sce"
		   ]
		  },
  {
"cell_type": "code",
	   "execution_count": null,
	   "metadata": {
	    "collapsed": true
	   },
	   "outputs": [],
"source": [
"// Example 5.6: conductivity\n",
"clc, clear\n",
"// given :\n",
"e=1.6*10^-19; // in C\n",
"T=300; // temerature in K\n",
"t=2*10^-14; // time in sec\n",
"c=63.54; // atomic weight of copper in a.m.u\n",
"m=9.1*10^-31; // mass in kg\n",
"// we know that 63.45 grams of copper contains 6.023*10^23 free electrons since one atom contributes one electron.the volume of 63.54 gram of copper is 8.9 cubic centimetre(c.c).\n",
"n=6.023*10^23/(c/8.9); //number of electrons per unit volume(c.c)\n",
"n1=n*10^6; // the number of electrons per m^3\n",
"b=(e^2*n1*t)/m;\n",
"disp(b,'conductivity,b(mho/m) = ')"
   ]
   }
,
{
		   "cell_type": "markdown",
		   "metadata": {},
		   "source": [
			"## Example 5.7: mobility_of_electrons.sce"
		   ]
		  },
  {
"cell_type": "code",
	   "execution_count": null,
	   "metadata": {
	    "collapsed": true
	   },
	   "outputs": [],
"source": [
"// Example 5.7: mobility of electrons\n",
"clc, clear\n",
"// given :\n",
"format('v',8)\n",
"e=1.602*10^-19; // in C\n",
"m=9.1*10^-31; // in kg\n",
"t=10^-14; // time in sec\n",
"mu=(e*t)/m;\n",
"disp(mu,'mobility of electrons,mu(m^2/volts.sec) = ')"
   ]
   }
,
{
		   "cell_type": "markdown",
		   "metadata": {},
		   "source": [
			"## Example 5.8: mobility_of_electrons.sce"
		   ]
		  },
  {
"cell_type": "code",
	   "execution_count": null,
	   "metadata": {
	    "collapsed": true
	   },
	   "outputs": [],
"source": [
"// Example 5.8: mobility \n",
"clc, clear\n",
"// given :\n",
"format('v',6)\n",
"d=10.5; // density of silver in gm/c.c\n",
"w=107.9; // atomic weight\n",
"b=6.8*10^5; // conductivity in mhos/cm\n",
"e=1.602*10^-19; // in C\n",
"N=6.023*10^23;\n",
"n=(N*d)/w;\n",
"mu=b/(e*n);\n",
"disp(mu,'mobility of electron,mu(m^2/volt-sec) = ')"
   ]
   }
,
{
		   "cell_type": "markdown",
		   "metadata": {},
		   "source": [
			"## Example 5.9: mobility_of_electrons_and_drift_velocity.sce"
		   ]
		  },
  {
"cell_type": "code",
	   "execution_count": null,
	   "metadata": {
	    "collapsed": true
	   },
	   "outputs": [],
"source": [
"// Example 5.9: mobility and drift velocity\n",
"clc, clear;\n",
"// given :\n",
"b=6.5*10^7; // conductivity in ohm^-1.m^-1\n",
"e=1.602*10^-19; // in C\n",
"n=6*10^23; //\n",
"E=1; // in V/m\n",
"mu=b/(e*n);\n",
"v=mu*E;\n",
"disp(mu,'mobility ,mu(m^2/volt-sec) = ')\n",
"disp(v,'drift velocity,v(m/sec) = ')\n",
"// mobility and drift is calculated wrong in book"
   ]
   }
],
"metadata": {
		  "kernelspec": {
		   "display_name": "Scilab",
		   "language": "scilab",
		   "name": "scilab"
		  },
		  "language_info": {
		   "file_extension": ".sce",
		   "help_links": [
			{
			 "text": "MetaKernel Magics",
			 "url": "https://github.com/calysto/metakernel/blob/master/metakernel/magics/README.md"
			}
		   ],
		   "mimetype": "text/x-octave",
		   "name": "scilab",
		   "version": "0.7.1"
		  }
		 },
		 "nbformat": 4,
		 "nbformat_minor": 0
}
