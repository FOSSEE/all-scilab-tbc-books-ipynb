{
"cells": [
 {
		   "cell_type": "markdown",
	   "metadata": {},
	   "source": [
       "# Chapter 18: Magnetic Materials"
	   ]
	},
{
		   "cell_type": "markdown",
		   "metadata": {},
		   "source": [
			"## Example 18.1: magnetization_and_flux_density.sce"
		   ]
		  },
  {
"cell_type": "code",
	   "execution_count": null,
	   "metadata": {
	    "collapsed": true
	   },
	   "outputs": [],
"source": [
"//Example 18.1 : magnetization and flux density\n",
"clc;\n",
"clear;\n",
"close;\n",
"//given data :\n",
"mu0=4*%pi*10^-7;\n",
"H=10^4;// in A/m\n",
"Xm=3.7*10^-3;// room temperature\n",
"mu_r=1+Xm;\n",
"B=mu0*mu_r*H;\n",
"M=Xm*H;\n",
"disp(B,'the flux density,B(Wb/m^2) = ')\n",
"disp(M,'magnetization,M(A/m) = ')"
   ]
   }
,
{
		   "cell_type": "markdown",
		   "metadata": {},
		   "source": [
			"## Example 18.2_a: saturation_magnetisation.sce"
		   ]
		  },
  {
"cell_type": "code",
	   "execution_count": null,
	   "metadata": {
	    "collapsed": true
	   },
	   "outputs": [],
"source": [
"//Example 18.2.a : saturation magnetization\n",
"clc;\n",
"clear;\n",
"close;\n",
"//given data :\n",
"mu_b=9.27*10^-24;// A.m^2\n",
"p=8.9; // in g/cm^3\n",
"Na=6.023*10^23;// avogadro's number\n",
"A=58.71; // in g/mol\n",
"n=((p*Na)/A)*10^6;\n",
"Ms=0.60*mu_b*n;\n",
"disp(Ms,'saturation magnetization,Ms(A/m) = ')"
   ]
   }
,
{
		   "cell_type": "markdown",
		   "metadata": {},
		   "source": [
			"## Example 18.2_b: saturation_flux_density.sce"
		   ]
		  },
  {
"cell_type": "code",
	   "execution_count": null,
	   "metadata": {
	    "collapsed": true
	   },
	   "outputs": [],
"source": [
"//Example 18.2.b : saturation flux density\n",
"clc;\n",
"clear;\n",
"close;\n",
"//given data :\n",
"format('v',5)\n",
"mu0=4*%pi*10^-7;\n",
"mu_b=9.27*10^-24;// A.m^2\n",
"p=8.9; // in g/cm^3\n",
"Na=6.023*10^23;// avogadro's number\n",
"A=58.71; // in g/mol\n",
"n=((p*Na)/A)*10^6;\n",
"Ms=0.60*mu_b*n;\n",
"Bs=mu0*Ms;\n",
"disp(Bs,'saturation flux density,Bs(tesla) = ')"
   ]
   }
,
{
		   "cell_type": "markdown",
		   "metadata": {},
		   "source": [
			"## Example 18.3: magnetic_moments.sce"
		   ]
		  },
  {
"cell_type": "code",
	   "execution_count": null,
	   "metadata": {
	    "collapsed": true
	   },
	   "outputs": [],
"source": [
"//Example 18.3 : magnetic moment\n",
"clc;\n",
"clear;\n",
"close;\n",
"//given data :\n",
"format('v',9)\n",
"mu0=4*%pi*10^-7;\n",
"mu_b=9.27*10^-24;// A.m^2\n",
"p=8.9; // in g/cm^3\n",
"Na=6.023*10^23;// avogadro's number\n",
"A=58.71; // in g/mol\n",
"n=((p*Na)/A)*10^6;\n",
"Bs=0.65;//in Wb/m^2\n",
"Ms=Bs/mu0;\n",
"m_mu_b=Ms/n;\n",
"disp(m_mu_b,'saturation magnetisation,m_mu_b(A.m^2) = ')"
   ]
   }
,
{
		   "cell_type": "markdown",
		   "metadata": {},
		   "source": [
			"## Example 18.4: power_loss.sce"
		   ]
		  },
  {
"cell_type": "code",
	   "execution_count": null,
	   "metadata": {
	    "collapsed": true
	   },
	   "outputs": [],
"source": [
"//Example 18.4 : power loss\n",
"clc;\n",
"clear;\n",
"close;\n",
"//given data :\n",
"V=0.01;//in m^3\n",
"f=50;// in Hz\n",
"area=600;//in jm^-1\n",
"Wh=area*V*f;\n",
"disp(Wh,'power loss,Wh(watts) = ')"
   ]
   }
,
{
		   "cell_type": "markdown",
		   "metadata": {},
		   "source": [
			"## Example 18.5: loss_of_energy.sce"
		   ]
		  },
  {
"cell_type": "code",
	   "execution_count": null,
	   "metadata": {
	    "collapsed": true
	   },
	   "outputs": [],
"source": [
"//Example 18.4 : los of energy\n",
"clc;\n",
"clear;\n",
"close;\n",
"//given data :\n",
"mass=10;// in kg\n",
"energy_loss=250;// in J/m^2\n",
"//energy loss at the rate of 50 cycles/s\n",
"E=energy_loss*50;// in J/m^3\n",
"E_loss=E*3600;//in J/m^3\n",
"D=7500;//density in kg/m^3\n",
"Volume=mass/D;\n",
"energy_loss_per_hour=E_loss/Volume;\n",
"disp(energy_loss_per_hour,'energy_loss_per_hour(J/hour) = ')"
   ]
   }
],
"metadata": {
		  "kernelspec": {
		   "display_name": "Scilab",
		   "language": "scilab",
		   "name": "scilab"
		  },
		  "language_info": {
		   "file_extension": ".sce",
		   "help_links": [
			{
			 "text": "MetaKernel Magics",
			 "url": "https://github.com/calysto/metakernel/blob/master/metakernel/magics/README.md"
			}
		   ],
		   "mimetype": "text/x-octave",
		   "name": "scilab",
		   "version": "0.7.1"
		  }
		 },
		 "nbformat": 4,
		 "nbformat_minor": 0
}
