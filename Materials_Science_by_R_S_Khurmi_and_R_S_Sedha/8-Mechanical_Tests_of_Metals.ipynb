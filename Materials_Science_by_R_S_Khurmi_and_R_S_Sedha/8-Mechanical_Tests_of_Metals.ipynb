{
"cells": [
 {
		   "cell_type": "markdown",
	   "metadata": {},
	   "source": [
       "# Chapter 8: Mechanical Tests of Metals"
	   ]
	},
{
		   "cell_type": "markdown",
		   "metadata": {},
		   "source": [
			"## Example 8.1: critical_resolved_shear_stress.sce"
		   ]
		  },
  {
"cell_type": "code",
	   "execution_count": null,
	   "metadata": {
	    "collapsed": true
	   },
	   "outputs": [],
"source": [
"// Example 8.1: critical resolved shear stress of silver\n",
"clc;\n",
"clear;\n",
"close;\n",
"format('v',5)\n",
"Ts=15;//tensile stress in Mpa\n",
"d=[1;1;0];\n",
"d1=[1;1;1];\n",
"csda=((d(1,1)*d1(1,1))+(d(2,1)*d1(2,1))+(d(3,1)*d1(3,1)))/((sqrt(d(1,1)^2+d(2,1)^2+d(3,1)^2))*sqrt(d1(1,1)^2+d1(2,1)^2+d1(3,1)^2));//angle degree\n",
"d2=[0;1;1];\n",
"csdb=((d(1,1)*d2(1,1))+(d(2,1)*d2(2,1))+(d(3,1)*d2(3,1)))/((sqrt(d(1,1)^2+d(2,1)^2+d(3,1)^2))*sqrt(d2(1,1)^2+d2(2,1)^2+d2(3,1)^2));//angle degree\n",
"t=Ts*csda*csdb;//critical resolved shear stress in MPa\n",
"disp(t,'critical resolved shear stress in MPa')"
   ]
   }
,
{
		   "cell_type": "markdown",
		   "metadata": {},
		   "source": [
			"## Example 8.2: yield_strength.sce"
		   ]
		  },
  {
"cell_type": "code",
	   "execution_count": null,
	   "metadata": {
	    "collapsed": true
	   },
	   "outputs": [],
"source": [
"// Example 8.2: yield strength of material\n",
"clc;\n",
"clear;\n",
"close;\n",
"format('v',6)\n",
"ys1=115;// yeild strength in MN/mm^2\n",
"ys2=215;// yeild strength in MN/mm^2\n",
"d1=0.04;//diamtere in mm\n",
"d2=0.01;//diamtere in mm\n",
"A=[2 10; 1 10];\n",
"B=[230;215];\n",
"x=A\B;\n",
"si=x(1,1);// in MN/mm^2\n",
"k=x(2,1);//\n",
"d3=0.016;//in mm\n",
"sy= si +(k/sqrt(d3));//yeild strength for a grain size in MN/mm^2\n",
"disp(sy,'yeild strength for a grain size in MN/mm^2')"
   ]
   }
,
{
		   "cell_type": "markdown",
		   "metadata": {},
		   "source": [
			"## Example 8.3: yield_stress.sce"
		   ]
		  },
  {
"cell_type": "code",
	   "execution_count": null,
	   "metadata": {
	    "collapsed": true
	   },
	   "outputs": [],
"source": [
"// Example 8.3: yield strength of material\n",
"clc;\n",
"clear;\n",
"close;\n",
"ys1=120;// yeild strength in MN/mm^2\n",
"ys2=220;// yeild strength in MN/mm^2\n",
"d1=0.04;//diamtere in mm\n",
"d2=0.01;//diamtere in mm\n",
"A=[2 10; 1 10];\n",
"B=[240;220];\n",
"x=A\B;\n",
"si=x(1,1);// in MN/mm^2\n",
"k=x(2,1);//\n",
"d3=0.025;//in mm\n",
"sy= si +(k/sqrt(d3));//yeild strength for a grain size in MN/mm^2\n",
"disp(sy,'yeild strength for a grain size in MN/mm^2')"
   ]
   }
,
{
		   "cell_type": "markdown",
		   "metadata": {},
		   "source": [
			"## Example 8.4: grain_diameter.sce"
		   ]
		  },
  {
"cell_type": "code",
	   "execution_count": null,
	   "metadata": {
	    "collapsed": true
	   },
	   "outputs": [],
"source": [
"//Example 8.4 : grain diameter\n",
"clc;\n",
"clear;\n",
"close;\n",
"format('v',6)\n",
"//given data :\n",
"N=9;\n",
"m=8*2^N;\n",
"grain=1/sqrt(m);\n",
"disp(grain,'the grain diameter(mm) = ')"
   ]
   }
],
"metadata": {
		  "kernelspec": {
		   "display_name": "Scilab",
		   "language": "scilab",
		   "name": "scilab"
		  },
		  "language_info": {
		   "file_extension": ".sce",
		   "help_links": [
			{
			 "text": "MetaKernel Magics",
			 "url": "https://github.com/calysto/metakernel/blob/master/metakernel/magics/README.md"
			}
		   ],
		   "mimetype": "text/x-octave",
		   "name": "scilab",
		   "version": "0.7.1"
		  }
		 },
		 "nbformat": 4,
		 "nbformat_minor": 0
}
