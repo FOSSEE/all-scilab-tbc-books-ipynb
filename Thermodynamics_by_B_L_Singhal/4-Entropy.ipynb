{
"cells": [
 {
		   "cell_type": "markdown",
	   "metadata": {},
	   "source": [
       "# Chapter 4: Entropy"
	   ]
	},
{
		   "cell_type": "markdown",
		   "metadata": {},
		   "source": [
			"## Example 4.11: Increase_in_entropy.sce"
		   ]
		  },
  {
"cell_type": "code",
	   "execution_count": null,
	   "metadata": {
	    "collapsed": true
	   },
	   "outputs": [],
"source": [
"//Exa 4.11\n",
"clc;\n",
"clear;\n",
"close;\n",
"format('v',7);\n",
"\n",
"//Given Data :\n",
"m1=2;//Kg\n",
"T1=80+273;//K\n",
"m2=3;//Kg\n",
"T2=30+273;//K\n",
"Cp=4.187;//KJ/KgK\n",
"//m1*Cp1*(T1-T)=m2*Cp2*(T-T2)\n",
"T=(m1*Cp*T1+T2*m2*Cp)/(m2*Cp+m1*Cp);//K\n",
"deltaS=integrate('m1*Cp/T','T',T1,T)+integrate('m2*Cp/T','T',T2,T);//KJ/K\n",
"disp(deltaS,'Total Entropy change due to mixing process in KJ/K : ');"
   ]
   }
,
{
		   "cell_type": "markdown",
		   "metadata": {},
		   "source": [
			"## Example 4.14: Change_in_internal_energy_Work_done_Heat_transfer.sce"
		   ]
		  },
  {
"cell_type": "code",
	   "execution_count": null,
	   "metadata": {
	    "collapsed": true
	   },
	   "outputs": [],
"source": [
"//Exa 4.14\n",
"clc;\n",
"clear;\n",
"close;\n",
"format('v',7);\n",
"\n",
"//Given Data :\n",
"V1=4;//m^3\n",
"V2=4;//m^3\n",
"m=20;//Kg\n",
"p1=4*100;//KPa\n",
"p2=8*100;//KPa\n",
"Cp=1.005;//KJ/KgK\n",
"Cv=0.718;//KJ/KgK\n",
"R=Cp-Cv;//KJ/KgK\n",
"T1=p1*V1/m/R;//K\n",
"T2=p2*V2/m/R;//K\n",
"deltaU=m*Cv*(T2-T1);//KJ\n",
"disp(deltaU,'Change in internal energy in KJ : ');\n",
"W=0;//KJ\n",
"disp(W,'Since no movement, Work done in KJ : ');\n",
"Q=W+deltaU;//KJ\n",
"disp(Q,'Heat transfered in KJ : ');\n",
"deltaS=integrate('m*Cv/T','T',T1,T2);//KJ/K\n",
"disp(deltaS,'Entropy change  in KJ/K : ');"
   ]
   }
,
{
		   "cell_type": "markdown",
		   "metadata": {},
		   "source": [
			"## Example 4.15: Entropy_change_of_universe.sce"
		   ]
		  },
  {
"cell_type": "code",
	   "execution_count": null,
	   "metadata": {
	    "collapsed": true
	   },
	   "outputs": [],
"source": [
"//Exa 4.15\n",
"clc;\n",
"clear;\n",
"close;\n",
"format('v',9);\n",
"\n",
"//Given Data :\n",
"V1=4;//m^3\n",
"V2=4;//m^3\n",
"m=600/1000;//Kg\n",
"C=150;//J/K\n",
"T1=100+273;//K\n",
"T0=8+273;//K\n",
"Cp=C/1000;//KJ/K\n",
"deltaSblock=integrate('Cp/T','T',T1,T0);//KJ/K\n",
"Q=Cp*(T1-T0);//KJ\n",
"deltaSlake=Q/T0;//KJ/K\n",
"deltaSuniverse=deltaSblock+deltaSlake;//KJ/K\n",
"disp(deltaSuniverse,'Part (i) Entropy change of universe in KJ/K : ');\n",
"T1=8+273;//K\n",
"Z=100;//meter\n",
"g=9.81;//gravity constant\n",
"PE=m*g*Z/1000;//KJ\n",
"deltaT=PE/Cp;//degree centigrade\n",
"T2=T1+deltaT;//K\n",
"deltaSblock=-integrate('Cp/T','T',T1,T2);//KJ/K\n",
"deltaSlake=PE/T0;//KJ/K\n",
"deltaSuniverse=deltaSblock+deltaSlake;//KJ/K\n",
"disp(deltaSuniverse,'Part (ii) Entropy change of universe in KJ/K : ');"
   ]
   }
,
{
		   "cell_type": "markdown",
		   "metadata": {},
		   "source": [
			"## Example 4.17: Final_temperature_Work_done_heat_transfer.sce"
		   ]
		  },
  {
"cell_type": "code",
	   "execution_count": null,
	   "metadata": {
	    "collapsed": true
	   },
	   "outputs": [],
"source": [
"//Exa 4.17\n",
"clc;\n",
"clear;\n",
"close;\n",
"format('v',7);\n",
"\n",
"//Given Data :\n",
"m=1;//Kg\n",
"p1=1;//bar\n",
"T1=290;//K\n",
"p2=30;//bar\n",
"T2=290;//K\n",
"n=1.3;//constant\n",
"R=300;//Nm/KgK\n",
"Cv=0.72;//KJ/KgK\n",
"disp('part (a) Isothermally')\n",
"V1=R*T1/p1/10^5;//m^3/Kg\n",
"V2=p1*V1/p2;//m^3/Kg\n",
"w=p1*10^5*V1*log(V2/V1)/1000;//KJ/Kg\n",
"disp(w,'Workdone in KJ/Kg : ');\n",
"deltaU=m*Cv*(T2-T1);//KJ(as T1=T2)\n",
"disp(deltaU,'Change in internal energy in KJ : ');\n",
"q=w+deltaU;//KJ/Kg\n",
"disp(q,'Heat transfer in KJ/Kg : ');\n",
"S2subS1=m*R/1000*log(V2/V1)+m*Cv*log(T2/T1);//KJ/KgK\n",
"disp(S2subS1,'Change in entropy in KJ/KgK : ');\n",
"\n",
"disp('part (b) Polytropically')\n",
"T2=T1*(p2/p1)^((n-1)/n);//K\n",
"disp(T2,'Temperature T2 in K : ');\n",
"V1=R*T1/p1/10^5;//m^3/Kg\n",
"V2=(p1/p2)^(1/n)*V1;//m^3/Kg\n",
"w= m*R/1000*(T1-T2)/(n-1);;//KJ/Kg\n",
"disp(w,'Workdone in KJ/Kg : ');\n",
"deltaU=m*Cv*(T2-T1);//KJ(as T1=T2)\n",
"q=w+deltaU;//KJ/Kg\n",
"disp(q,'Heat transfer in KJ/Kg : ');\n",
"S2subS1=m*R/1000*log(V2/V1)+m*Cv*log(T2/T1);//KJ/KgK\n",
"disp(S2subS1,'Change in entropy in KJ/KgK : ');"
   ]
   }
,
{
		   "cell_type": "markdown",
		   "metadata": {},
		   "source": [
			"## Example 4.18: Index_Work_done_Specific_entropy.sce"
		   ]
		  },
  {
"cell_type": "code",
	   "execution_count": null,
	   "metadata": {
	    "collapsed": true
	   },
	   "outputs": [],
"source": [
"//Exa 4.18\n",
"clc;\n",
"clear;\n",
"close;\n",
"format('v',7);\n",
"\n",
"//Given Data :\n",
"P1=480;//kPa\n",
"T1=190+273;//K\n",
"T3=190+273;//K\n",
"P2=94;//kPa\n",
"P3=150;//kPa\n",
"T2=T3*P2/P3;//K\n",
"R=0.29;//KJ/KgK\n",
"m=1;//Kg\n",
"Cp=1.011;//KJ/KgK\n",
"//T2/T1=(P2/P1)^((Gamma-1)/Gamma)\n",
"//((Gamma-1)/Gamma)=log(T2/T1)/log(P2/P1);//\n",
"Gamma=1.402;//by trial method\n",
"disp(Gamma,'Index of adiabatic expansion :');\n",
"Cv=R/(Gamma-1);//KJ/KgK\n",
"W1_2=m*R*(T1-T2)/(Gamma-1);//KJ/Kg\n",
"disp(W1_2,'Work done, W1-2 per Kg of air in KJ/Kg : ');\n",
"W2_3=0;//Constant volume process\n",
"disp(W2_3,'Work done, W2-3 per Kg of air in KJ/Kg : ');\n",
"W3_1=m*R*T2*log(P3/P1);//KJ/Kg\n",
"disp(W3_1,'Work done, W1-2 per Kg of air in KJ/Kg : ');\n",
"W=W1_2+W2_3+W3_1;//KJ/Kg\n",
"disp(W,'Total Work done in KJ/Kg : ');\n",
"S2subS1=0;//adiabatic process\n",
"S3subS2=m*R*log(P2/P3)+m*Cp*log(T3/T2);//KJ/KgK\n",
"disp(S3subS2,'Change in specific entropy, S1-2 in KJ/KgK ;  ');\n",
"S1subS3=-S2subS1-S3subS2;//KJ/KgK\n",
"disp(S1subS3,'Change in specific entropy, S3-1 in KJ/KgK ;  ');"
   ]
   }
,
{
		   "cell_type": "markdown",
		   "metadata": {},
		   "source": [
			"## Example 4.1: Clausias_Inequality.sce"
		   ]
		  },
  {
"cell_type": "code",
	   "execution_count": null,
	   "metadata": {
	    "collapsed": true
	   },
	   "outputs": [],
"source": [
"//Exa 4.1\n",
"clc;\n",
"clear;\n",
"close;\n",
"format('v',8);\n",
"\n",
"//Given Data :\n",
"T1=400;//Kelvin\n",
"T2=300;//Kelvin\n",
"Q1=4800;//KJ\n",
"Q2=-4800;//KJ\n",
"//Q1/T1+Q2/T2<=0\n",
"LHS=Q1/T1+Q2/T2;//\n",
"disp(LHS,'Q1/T1+Q2/T2 = ');\n",
"disp('It is less than zero. Process is irreversible')"
   ]
   }
,
{
		   "cell_type": "markdown",
		   "metadata": {},
		   "source": [
			"## Example 4.21: Entropy_Change.sce"
		   ]
		  },
  {
"cell_type": "code",
	   "execution_count": null,
	   "metadata": {
	    "collapsed": true
	   },
	   "outputs": [],
"source": [
"//Exa 4.21\n",
"clc;\n",
"clear;\n",
"close;\n",
"format('v',7);\n",
"\n",
"//Given Data :\n",
"p1=5;//bar\n",
"T1=30+273;//K\n",
"p2=4;//bar\n",
"m=1;//Kg\n",
"R=0.287;//KJ/KgK\n",
"//deltaS=m*R*log(p1/p2)+m*Cp*log(T2/T1);//KJ/kgK\n",
"deltaS=m*R*log(p1/p2);//KJ/kgK(T2/T1 leads to 2nd term zero)\n",
"disp(deltaS,'Entropy Change in KJ/KgK :  ');"
   ]
   }
,
{
		   "cell_type": "markdown",
		   "metadata": {},
		   "source": [
			"## Example 4.22: Change_in_entropy.sce"
		   ]
		  },
  {
"cell_type": "code",
	   "execution_count": null,
	   "metadata": {
	    "collapsed": true
	   },
	   "outputs": [],
"source": [
"//Exa 4.22\n",
"clc;\n",
"clear;\n",
"close;\n",
"format('v',7);\n",
"\n",
"//Given Data :\n",
"Cpg=1.05;//KJ/KgK\n",
"t1=400;//degree centigrade\n",
"t2=360;//degree centigrade\n",
"T=30+273;//K\n",
"Q=Cpg*(t1-t2);//KJ/Kg\n",
"deltaSsurr=Q/T;//KJ/KgK\n",
"deltaSsystem=integrate('Cpg/T','T',t1+273,t2+273);//KJ/KgK\n",
"deltaSuniverse=deltaSsystem+deltaSsurr;//KJ/KgK\n",
"disp(deltaSuniverse,'Change in entropy of the universe in KJ/KgK :  ');"
   ]
   }
,
{
		   "cell_type": "markdown",
		   "metadata": {},
		   "source": [
			"## Example 4.2: Classify_the_cycle.sce"
		   ]
		  },
  {
"cell_type": "code",
	   "execution_count": null,
	   "metadata": {
	    "collapsed": true
	   },
	   "outputs": [],
"source": [
"//Exa 4.2\n",
"clc;\n",
"clear;\n",
"close;\n",
"format('v',8);\n",
"\n",
"//Given Data :\n",
"T1=290+273;//Kelvin\n",
"T2=8.5+273;//Kelvin\n",
"Q1=300;//KJ\n",
"//Case 1 :\n",
"Q2=-215;//KJ\n",
"sigmaQbyT=Q1/T1+Q2/T2\n",
"disp(sigmaQbyT,'(i) Q1/T1+Q2/T2 = ');\n",
"disp('It is less than zero. Cycle is irreversible')\n",
"//Case 2 :\n",
"Q2=-150;//KJ\n",
"sigmaQbyT=Q1/T1+Q2/T2\n",
"disp(sigmaQbyT,'(ii) Q1/T1+Q2/T2 = ');\n",
"disp('It is equal to zero. Cycle is reversible');\n",
"//Case 3 :\n",
"Q2=-75;//KJ\n",
"sigmaQbyT=Q1/T1+Q2/T2\n",
"disp(sigmaQbyT,'(iii) Q1/T1+Q2/T2 = ');\n",
"disp('It is greater than zero. Cycle is impossible.');"
   ]
   }
,
{
		   "cell_type": "markdown",
		   "metadata": {},
		   "source": [
			"## Example 4.3: Entropy_Change.sce"
		   ]
		  },
  {
"cell_type": "code",
	   "execution_count": null,
	   "metadata": {
	    "collapsed": true
	   },
	   "outputs": [],
"source": [
"//Exa 4.3\n",
"clc;\n",
"clear;\n",
"close;\n",
"format('v',6);\n",
"\n",
"//Given Data :\n",
"V1=10;//m^3\n",
"T1=175+273;//Kelvin\n",
"T2=36+273;//Kelvin\n",
"p1=5;//bar\n",
"p2=1;//bar\n",
"R=287;//KJ/KgK\n",
"Cp=1.005;//KJ/KgK\n",
"//p*V=m*R*T\n",
"m=p1*10^5*V1/R/T1;//Kg\n",
"deltaS=m*Cp*log(T2/T1)+m*R/1000*log(p1/p2);//KJ/K\n",
"disp(deltaS,'Entropy change in KJ/K :  ');"
   ]
   }
,
{
		   "cell_type": "markdown",
		   "metadata": {},
		   "source": [
			"## Example 4.4: Efficiency_and_Lowest_temperature.sce"
		   ]
		  },
  {
"cell_type": "code",
	   "execution_count": null,
	   "metadata": {
	    "collapsed": true
	   },
	   "outputs": [],
"source": [
"//Exa 4.4\n",
"clc;\n",
"clear;\n",
"close;\n",
"format('v',6);\n",
"\n",
"//Given Data :\n",
"deltaS=5;//KJ/KgK\n",
"W=2000;//KJ/Kg\n",
"T1=327+273;//Kelvin\n",
"Q1=deltaS*T1;//KJ/Kg\n",
"Q2=Q1-W;//KJ/Kg\n",
"Eta=W/Q1*100;//%\n",
"disp(Eta,'Efficiency in % : ');\n",
"T2=Q2/Q1*T1;//K\n",
"disp(T2,'Lowest temperature in Kelvin : ');"
   ]
   }
,
{
		   "cell_type": "markdown",
		   "metadata": {},
		   "source": [
			"## Example 4.5: Change_in_entropy.sce"
		   ]
		  },
  {
"cell_type": "code",
	   "execution_count": null,
	   "metadata": {
	    "collapsed": true
	   },
	   "outputs": [],
"source": [
"//Exa 4.5\n",
"clc;\n",
"clear;\n",
"close;\n",
"format('v',8);\n",
"\n",
"//Given Data :\n",
"mc=0.5;//Kg\n",
"Tc=100+273;//K\n",
"Cpc=0.393;//KJ/KgK\n",
"Tw=10+273;//K\n",
"Cpw=4.2;//KJ/KgK\n",
"Q=integrate('mc*Cpc','T',Tc,Tw);//KJ\n",
"deltaSc=integrate('mc*Cpc/T','T',Tc,Tw);//KJ/K\n",
"deltaSw=abs(Q)/Tw;//KJ/K\n",
"deltaSuniverse=deltaSc+deltaSw;//Kj/K\n",
"disp(deltaSuniverse,'Part (i) Chane in entropy in KJ/K : ');\n",
"T1=383;//K\n",
"T2=283;//K\n",
"T=(T1+T2)/2;//K\n",
"deltaSuniverse=mc*Cpc*[integrate('1/T','T',T1,T)+integrate('1/T','T',T2,T)];//KJ/K\n",
"disp(deltaSuniverse,'Part (ii) Chane in entropy in KJ/K : ');"
   ]
   }
,
{
		   "cell_type": "markdown",
		   "metadata": {},
		   "source": [
			"## Example 4.6: Change_in_entropy.sce"
		   ]
		  },
  {
"cell_type": "code",
	   "execution_count": null,
	   "metadata": {
	    "collapsed": true
	   },
	   "outputs": [],
"source": [
"//Exa 4.6\n",
"clc;\n",
"clear;\n",
"close;\n",
"format('v',7);\n",
"\n",
"//Given Data :\n",
"Tc=35+273;//K\n",
"W=500;//KJ\n",
"T1=308;//K\n",
"T2=308;//K\n",
"T0=15+273;//K\n",
"Q=W;//KJ\n",
"deltaS1=0;//as heat supplied is zero\n",
"deltaS2=Q/T0;//KJ/K\n",
"disp(deltaS2,'Change in entropy in KJ/K : ');"
   ]
   }
,
{
		   "cell_type": "markdown",
		   "metadata": {},
		   "source": [
			"## Example 4.7: Change_in_entropy.sce"
		   ]
		  },
  {
"cell_type": "code",
	   "execution_count": null,
	   "metadata": {
	    "collapsed": true
	   },
	   "outputs": [],
"source": [
"//Exa 4.7\n",
"clc;\n",
"clear;\n",
"close;\n",
"format('v',7);\n",
"\n",
"//Given Data :\n",
"mi=0.5;//Kg\n",
"Ti=-10+273;//K\n",
"Cpi=2;//KJ/KgK\n",
"Cpw=4.2;//KJ/KgK\n",
"Li=334;//KJ/Kg\n",
"mc=5;//Kg\n",
"Tc=80+273;//K\n",
"Cpc=0.5;//KJ/KgK\n",
"T0=0+273;//K\n",
"//mi*[Cpi*(T0-Ti)+Li+Cpw*(T-T0)]=mc*Cpc*(Tc-T)\n",
"T=(mc*Cpc*Tc-mi*Cpi*(T0-Ti)-mi*Li+mi*Cpw*T0)/(mi*Cpw+mc*Cpc);//K\n",
"deltaSi=mi*Cpi*log(T0/Ti)+Li/T0+mi*Cpw*log(T/T0);//KJ/K\n",
"disp(deltaSi,':Entropy chane of Ice in KJ/K : ');\n",
"deltaSc=mc*Cpc*log(T/Tc);//KJ/K\n",
"disp(deltaSc,':Entropy chane of Copper in KJ/K : ');\n",
"deltaSsurr=0;//No heat transfer between system & Surrounding\n",
"deltaSuniverse=deltaSi+deltaSc+deltaSsurr;//KJ/K\n",
"disp(deltaSuniverse,':Entropy chane of universe in KJ/K : ');"
   ]
   }
,
{
		   "cell_type": "markdown",
		   "metadata": {},
		   "source": [
			"## Example 4.8: Increase_in_entropy.sce"
		   ]
		  },
  {
"cell_type": "code",
	   "execution_count": null,
	   "metadata": {
	    "collapsed": true
	   },
	   "outputs": [],
"source": [
"//Exa 4.8\n",
"clc;\n",
"clear;\n",
"close;\n",
"format('v',7);\n",
"\n",
"//Given Data :\n",
"m1=5;//Kg\n",
"T1=200+273;//K\n",
"Cp1=0.4;//KJ/KgK\n",
"m2=100;//Kg\n",
"T2=30+273;//K\n",
"Cp2=2.1;//KJ/KgK\n",
"//m1*Cp1*(T1-T)=m2*Cp2*(T-T2)\n",
"T=(m1*Cp1*T1+T2*m2*Cp2)/(m2*Cp2+m1*Cp1);//K\n",
"deltaS1=integrate('m1*Cp1/T','T',T1,T);//KJ/K\n",
"deltaS2=integrate('m2*Cp2/T','T',T2,T);//KJ/K\n",
"deltaSsurr=0;//No heat transfer neglected\n",
"deltaSuniverse=deltaS1+deltaS2+deltaSsurr;//KJ/K\n",
"disp(deltaSuniverse,'Increase in Entropy of universe in KJ/K : ');"
   ]
   }
,
{
		   "cell_type": "markdown",
		   "metadata": {},
		   "source": [
			"## Example 4.9: Increase_of_entropy.sce"
		   ]
		  },
  {
"cell_type": "code",
	   "execution_count": null,
	   "metadata": {
	    "collapsed": true
	   },
	   "outputs": [],
"source": [
"//Exa 4.9\n",
"clc;\n",
"clear;\n",
"close;\n",
"format('v',7);\n",
"\n",
"//Given Data :\n",
"HeatTransfer=2;//KJ/degreeCentigrade(it is d'Q/dT)\n",
"T1=27+273;//K\n",
"T2=127+273;//K\n",
"deltaS=integrate('HeatTransfer/T','T',T1,T2);//KJ/K\n",
"disp(deltaS,'Entropy change when heat is transfered to system in KJ/K : ');\n",
"disp(deltaS,'Entropy change when end states are achieved by stirring action in KJ/K : ');"
   ]
   }
],
"metadata": {
		  "kernelspec": {
		   "display_name": "Scilab",
		   "language": "scilab",
		   "name": "scilab"
		  },
		  "language_info": {
		   "file_extension": ".sce",
		   "help_links": [
			{
			 "text": "MetaKernel Magics",
			 "url": "https://github.com/calysto/metakernel/blob/master/metakernel/magics/README.md"
			}
		   ],
		   "mimetype": "text/x-octave",
		   "name": "scilab",
		   "version": "0.7.1"
		  }
		 },
		 "nbformat": 4,
		 "nbformat_minor": 0
}
