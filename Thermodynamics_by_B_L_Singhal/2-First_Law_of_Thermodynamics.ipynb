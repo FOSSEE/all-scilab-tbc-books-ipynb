{
"cells": [
 {
		   "cell_type": "markdown",
	   "metadata": {},
	   "source": [
       "# Chapter 2: First Law of Thermodynamics"
	   ]
	},
{
		   "cell_type": "markdown",
		   "metadata": {},
		   "source": [
			"## Example 2.10: Change_in_internal_energy.sce"
		   ]
		  },
  {
"cell_type": "code",
	   "execution_count": null,
	   "metadata": {
	    "collapsed": true
	   },
	   "outputs": [],
"source": [
"//Exa 2.10\n",
"clc;\n",
"clear;\n",
"close;\n",
"format('v',6);\n",
"\n",
"//Given Data\n",
"mw=100;//Kg\n",
"T=30;//min\n",
"T=T*60;//sec\n",
"P=1;//KW\n",
"Q=-50;//KJ\n",
"Sw=4.19;//KJ/KgK(Specific heat of water)\n",
"W=-P*T;//KJ\n",
"//Q=W+deltaU\n",
"deltaU=Q-W;//KJ\n",
"disp(deltaU,'Chnge in internal energy in  kJ : ');\n",
"delta_t=deltaU/mw/Sw;//sec\n",
"disp(delta_t,'Rise in temperature in degree C : ');"
   ]
   }
,
{
		   "cell_type": "markdown",
		   "metadata": {},
		   "source": [
			"## Example 2.11: Heat_transfer_across_the_system.sce"
		   ]
		  },
  {
"cell_type": "code",
	   "execution_count": null,
	   "metadata": {
	    "collapsed": true
	   },
	   "outputs": [],
"source": [
"//Exa 2.11\n",
"clc;\n",
"clear;\n",
"close;\n",
"format('v',6);\n",
"\n",
"//Given Data\n",
"V=12;//Volt\n",
"I=6;//Ampere\n",
"t=1.5;//hr\n",
"t=t*3600;//sec\n",
"deltaU=-750;//KJ\n",
"W=V*I*t/1000;//KJ\n",
"Q=W+deltaU;//KJ\n",
"disp(Q,'Heat transfer in KJ  : ');"
   ]
   }
,
{
		   "cell_type": "markdown",
		   "metadata": {},
		   "source": [
			"## Example 2.12: Final_temperature_of_gas.sce"
		   ]
		  },
  {
"cell_type": "code",
	   "execution_count": null,
	   "metadata": {
	    "collapsed": true
	   },
	   "outputs": [],
"source": [
"//Exa 2.12\n",
"clc;\n",
"clear;\n",
"close;\n",
"format('v',6);\n",
"\n",
"//Given Data\n",
"Q=82;//KJ\n",
"p1=4;//bar\n",
"m=1;//Kg\n",
"V1=0.21;//m^3\n",
"T2=127;//degree Centigrade\n",
"R=300;//Nm/KgK\n",
"W=0;//because V is constant.\n",
"disp(W,'Work done in KJ : ');\n",
"//Q-W=deltaU\n",
"deltaU=Q-W;//KJ\n",
"disp(deltaU,'Change in internal energy in KJ  : ');\n",
"//p1*V1=m*R*T1\n",
"T1=p1*10^5*V1/m/R;//kelvin\n",
"T1=T1-273;//degree centigrade\n",
"delta_t=T2-T1;//degree centigrade\n",
"Cv=deltaU/delta_t;//KJ/KgK\n",
"disp(Cv,'Specific Heat in KJ/KgK  : ');"
   ]
   }
,
{
		   "cell_type": "markdown",
		   "metadata": {},
		   "source": [
			"## Example 2.13: Mass_of_oxygen_used.sce"
		   ]
		  },
  {
"cell_type": "code",
	   "execution_count": null,
	   "metadata": {
	    "collapsed": true
	   },
	   "outputs": [],
"source": [
"//Exa 2.13\n",
"clc;\n",
"clear;\n",
"close;\n",
"format('v',7);\n",
"\n",
"//Given Data : \n",
"V1=250;//litres\n",
"V2=250;//litres\n",
"p1=3;//Mpa\n",
"t1=20;//degree_centigrade\n",
"p2=1.8;//Mpa\n",
"t2=16;//degree_centigrade\n",
"Gamma=1.4;//\n",
"rho=1.43;//Kg/m^3\n",
"p=0.1013;//Mpa\n",
"\n",
"V1=V1/1000;//m^3\n",
"V2=V2/1000;//m^3\n",
"T1=t1+273;//Kelvin\n",
"T2=t2+273;//Kelvin\n",
"//p=rho*R*T\n",
"T=0+273;//Kelvin\n",
"R=p*10^6/rho/T;//Nm/KgK\n",
"//p*V=m*R*T\n",
"m1=p1*10^6*V1/R/T1;//Kg\n",
"m2=p2*10^6*V2/R/T2;//Kg\n",
"Mass_oxygen=m1-m2;//Kg\n",
"disp(Mass_oxygen,'Mass of oxygen used in Kg : ');\n",
"//Cv*(Gamma-1)=R\n",
"Cv=R/(Gamma-1);//Nm/KgK\n",
"Q=m2*Cv*(t1-t2);//J\n",
"disp(Q,'Heat transfered in J : ');"
   ]
   }
,
{
		   "cell_type": "markdown",
		   "metadata": {},
		   "source": [
			"## Example 2.14: Specific_heat_gas_constant_and_density.sce"
		   ]
		  },
  {
"cell_type": "code",
	   "execution_count": null,
	   "metadata": {
	    "collapsed": true
	   },
	   "outputs": [],
"source": [
"//Exa 2.14\n",
"clc;\n",
"clear;\n",
"close;\n",
"format('v',7);\n",
"\n",
"//Given Data : \n",
"m=50/1000;//Kg\n",
"t1=14;//degree_centigrade\n",
"t2=74;//degree_centigrade\n",
"t_heating=300;//sec\n",
"Pheater=10.04;//Watts\n",
"Gamma=1.4;\n",
"\n",
"\n",
"Q=Pheater*t_heating;//J\n",
"//Q=m*Cp*(t2-t1)\n",
"Cp=Q/m/(t2-t1);//J/KgK\n",
"disp(Cp,'Specific heat of air in J/KgK : ');\n",
"//Cp*(1-1/Gamma)=R\n",
"R=Cp*(1-1/Gamma);//Gas Constant in Nm/KgK\n",
"disp(R,'Gas constant of air in Nm/KgK : ');\n",
"//p=rho*R*T\n",
"p=0.1;//Mpa\n",
"T=0+273;//kelvin\n",
"rho=p*10^6/R/T;//Kg/m^3\n",
"disp(rho,'Density of air in Kg/m^3 : ');"
   ]
   }
,
{
		   "cell_type": "markdown",
		   "metadata": {},
		   "source": [
			"## Example 2.15: Heat_added_Work_done_temperature.sce"
		   ]
		  },
  {
"cell_type": "code",
	   "execution_count": null,
	   "metadata": {
	    "collapsed": true
	   },
	   "outputs": [],
"source": [
"//Exa 2.15\n",
"clc;\n",
"clear;\n",
"close;\n",
"format('v',7);\n",
"\n",
"//Given Data : \n",
"m=1;//Kg\n",
"V1=0.3;//m^3\n",
"p=3.2*100;//Kpa\n",
"p1=3.2*100;//Kpa\n",
"p2=3.2*100;//Kpa\n",
"V2=2*V1;//m^3\n",
"Cp=1.003;//KJ/KgK\n",
"R=0.2927;//KJ/kgK\n",
"//p*V=m*R*T\n",
"T1=p1*V1/m/R;//kelvin\n",
"T2=p2*V2/m/R;//kelvin\n",
"Q=m*Cp*(T2-T1);//KJ\n",
"disp(Q,'Heat Added in KJ : ');\n",
"W=p*(V2-V1);//KJ\n",
"disp(W,'Work done in KJ : ');\n",
"disp(round(T1),'Initial temperature of air in kelvin : ');\n",
"disp(round(T2),'Final temperature of air in kelvin : ');"
   ]
   }
,
{
		   "cell_type": "markdown",
		   "metadata": {},
		   "source": [
			"## Example 2.16: Heat_Work_Energy_Enthalpy.sce"
		   ]
		  },
  {
"cell_type": "code",
	   "execution_count": null,
	   "metadata": {
	    "collapsed": true
	   },
	   "outputs": [],
"source": [
"//Exa 2.16\n",
"clc;\n",
"clear;\n",
"close;\n",
"format('v',7);\n",
"\n",
"//Given Data : \n",
"p=105;//Kpa\n",
"p1=105;//Kpa\n",
"p2=105;//Kpa\n",
"V1=0.25;//m^3\n",
"V2=0.45;//m^3\n",
"T1=10+273;//kelvin\n",
"T2=240+273;//kelvin\n",
"\n",
"Q=integrate('0.4+18/(T+40)','T',T1,T2);//KJ\n",
"disp(Q,'Heat Transfer in KJ : ');\n",
"W=p*(V2-V1);//KJ\n",
"disp(W,'Work Transfer in KJ : ');\n",
"deltaU=Q-W;//KJ\n",
"disp(deltaU,'Change in internal energy in KJ L ; ');\n",
"deltaH=Q;//KJ\n",
"disp(deltaH,'Change in enthalpy in KJ :');"
   ]
   }
,
{
		   "cell_type": "markdown",
		   "metadata": {},
		   "source": [
			"## Example 2.17: Find_the_distance.sce"
		   ]
		  },
  {
"cell_type": "code",
	   "execution_count": null,
	   "metadata": {
	    "collapsed": true
	   },
	   "outputs": [],
"source": [
"//Exa 2.17\n",
"clc;\n",
"clear;\n",
"close;\n",
"format('v',6);\n",
"\n",
"//Given Data : \n",
"N=250;//rpm\n",
"tau=10;//min\n",
"Q1=-5;//KJ\n",
"deltaU=2;//KJ\n",
"p=1.2;//bar\n",
"p=p*100;//KJ\n",
"E=24;//volt\n",
"I=0.45;//Ampere\n",
"A=0.1;//m^2\n",
"T=0.5;//Nm\n",
"Q2=E*I*tau*60/1000;//KJ\n",
"Q=Q1+Q2;//KJ\n",
"//Consider piston moves through a distance y\n",
"//Q-(W1+W2)=deltaU where W1=p*A*y\n",
"W2=-T*2*%pi*N*tau;//Nm\n",
"W2=W2/1000;//KJ\n",
"y=(Q-W2-deltaU)/A/p;//meter\n",
"disp(y*100,'Distance in cm : ');\n",
"//Ans is wrong in the book."
   ]
   }
,
{
		   "cell_type": "markdown",
		   "metadata": {},
		   "source": [
			"## Example 2.18: Heat_transfer_and_workdone.sce"
		   ]
		  },
  {
"cell_type": "code",
	   "execution_count": null,
	   "metadata": {
	    "collapsed": true
	   },
	   "outputs": [],
"source": [
"//Exa 2.18\n",
"clc;\n",
"clear;\n",
"close;\n",
"format('v',8);\n",
"\n",
"//Given Data : \n",
"m=0.8;//Kg\n",
"p1=1;//bar\n",
"p2=5;//bar\n",
"T1=25+273;//kelvin\n",
"R=287;//KJ/kgK\n",
"\n",
"W=m*R*T1*log(p1/p2);//J\n",
"disp(W/1000,'Work done in KJ : ');\n",
"U2subU1=0;//change in internal energy \n",
"Q=W+U2subU1;//J\n",
"disp(Q/1000,'Heat Transfer in KJ : ');"
   ]
   }
,
{
		   "cell_type": "markdown",
		   "metadata": {},
		   "source": [
			"## Example 2.19: Net_workdone.sce"
		   ]
		  },
  {
"cell_type": "code",
	   "execution_count": null,
	   "metadata": {
	    "collapsed": true
	   },
	   "outputs": [],
"source": [
"//Exa 2.19\n",
"clc;\n",
"clear;\n",
"close;\n",
"format('v',8);\n",
"\n",
"//Given Data : \n",
"m=1;//Kg\n",
"p1=100;//Kpa\n",
"T1=300;//kelvin\n",
"V_ratio=1/2;//V2/V1\n",
"T=1;//Nm\n",
"tau=1;//hr\n",
"tau=tau*60;//min\n",
"N=400;//rpm\n",
"R=0.287;//KJ/kgK\n",
"\n",
"W1=m*R*T1*log(V_ratio);//KJ\n",
"W2=-T*2*%pi*N*tau/1000;//KJ\n",
"W=W1+W2;//KJ\n",
"disp(W,'Net work transfer in KJ : ');"
   ]
   }
,
{
		   "cell_type": "markdown",
		   "metadata": {},
		   "source": [
			"## Example 2.1: Calculate_Equillibrium_temperature.sce"
		   ]
		  },
  {
"cell_type": "code",
	   "execution_count": null,
	   "metadata": {
	    "collapsed": true
	   },
	   "outputs": [],
"source": [
"//Exa 2.1\n",
"clc;\n",
"clear;\n",
"close;\n",
"format('v',7);\n",
"\n",
"//Given Data : \n",
"mc=10;//Kg\n",
"Cpc=0.4;//KJ/KgK\n",
"Cpw=4.187;//KJ/KgK(Specific heat of water)\n",
"tc=90;//degree_centigrade\n",
"Vw=0.35;//m^3\n",
"tw=30;//degree_centigrade\n",
"density_water=1000;//Kg/m^3\n",
"mw=Vw*density_water;//Kg\n",
"//mc*Cpc*(tc-t)=mw*Cpw*(t-tw)\n",
"t=(mw*Cpw*tw+mc*Cpc*tc)/(mw*Cpw+mc*Cpc);//degree_centigrade\n",
"disp(t,'Equillibrium temperature in degree_centigrade : ');"
   ]
   }
,
{
		   "cell_type": "markdown",
		   "metadata": {},
		   "source": [
			"## Example 2.20: Find_specific_heat.sce"
		   ]
		  },
  {
"cell_type": "code",
	   "execution_count": null,
	   "metadata": {
	    "collapsed": true
	   },
	   "outputs": [],
"source": [
"//Exa 2.20\n",
"clc;\n",
"clear;\n",
"close;\n",
"format('v',8);\n",
"\n",
"//Given Data : \n",
"m=2;//Kg\n",
"T1=125+273;//kelvin\n",
"T2=30+273;//kelvin\n",
"W=152;//KJ\n",
"deltaH=-212.8;//KJ\n",
"Q=0;//KJ(For adiabatic process)\n",
"//Q=W+m*Cv*(T2-T!)\n",
"Cv=(Q-W)/m/(T2-T1);//KJ/KgK\n",
"disp(Cv,'Specific heat at constant volume in KJ/KgK : ');\n",
"//deltaH=m*Cp*(T2-T1);\n",
"Cp=deltaH/m/(T2-T1);//KJ/KgK\n",
"disp(Cp,'Specific heat at cinstant pressure in KJ/KgK : ');\n",
"R=Cp-Cv;//KJ/KgK\n",
"disp(R,'Characteristic gas constyant in KJ/KgK : ');"
   ]
   }
,
{
		   "cell_type": "markdown",
		   "metadata": {},
		   "source": [
			"## Example 2.21: Mass_Index_Workdone_Heat.sce"
		   ]
		  },
  {
"cell_type": "code",
	   "execution_count": null,
	   "metadata": {
	    "collapsed": true
	   },
	   "outputs": [],
"source": [
"//Exa 2.21\n",
"clc;\n",
"clear;\n",
"close;\n",
"format('v',7);\n",
"\n",
"//Given Data : \n",
"V1=0.5;//m^3\n",
"p1=1.5;//bar\n",
"T1=100+273;//kelvin\n",
"V2=0.125;//m^3\n",
"p2=9;//bar\n",
"R=287;//KJ/KgK\n",
"\n",
"m=p1*10^5*V1/R/T1;//Kg\n",
"disp(m,'Mass of air in Kg : ');\n",
"//p1*V1^n=p2*V2^n\n",
"n=log(p2/p1)/log(V1/V2);//\n",
"disp(n,'Value of index : ');\n",
"W=(p1*V1-p2*V2)*10^5/(n-1);//Nm\n",
"disp(W/1000,'Work done in KJ : ');\n",
"    "
   ]
   }
,
{
		   "cell_type": "markdown",
		   "metadata": {},
		   "source": [
			"## Example 2.22: Workdone_and_final_pressure.sce"
		   ]
		  },
  {
"cell_type": "code",
	   "execution_count": null,
	   "metadata": {
	    "collapsed": true
	   },
	   "outputs": [],
"source": [
"//Exa 2.22\n",
"clc;\n",
"clear;\n",
"close;\n",
"format('v',7);\n",
"\n",
"//Given Data : \n",
"p1=1;//bar\n",
"V1=0.14;//m^3\n",
"V2=0.07;//m^3\n",
"R=287;//KJ/KgK\n",
"\n",
"//p*V=R*k1*V^(-2/5) or p*V^(7/5)=K\n",
"K=p1*10^5*V1^(7/5);//Nm/Kg\n",
"W=integrate('K*V^(-7/5)','V',V1,V2);//Nm\n",
"disp(W,'Work done in Nm : ');\n",
"p2=K*V2^(-7/5);//N/m^2\n",
"p2=p2/10^5;//bar\n",
"disp(p2,'Final pressure in bar : ');\n",
"//Ans in the book is wrong."
   ]
   }
,
{
		   "cell_type": "markdown",
		   "metadata": {},
		   "source": [
			"## Example 2.23: Work_transfer_and_change_in_energy.sce"
		   ]
		  },
  {
"cell_type": "code",
	   "execution_count": null,
	   "metadata": {
	    "collapsed": true
	   },
	   "outputs": [],
"source": [
"//Exa 2.23\n",
"clc;\n",
"clear;\n",
"close;\n",
"format('v',7);\n",
"\n",
"//Given Data : \n",
"m=2;//Kg\n",
"Q=0;//KJ(because of adiabatic process)\n",
"p1=1;//Mpa\n",
"p1=p1*10^6/1000;//Kpa\n",
"t1=200;//degree centigrade\n",
"T1=t1+273;//kelvin\n",
"p2=100;//Kpa\n",
"n=1.2;\n",
"R=0.196;//KJ/KgK\n",
"\n",
"T2=T1*(p2/p1)^((n-1)/n);//kelvin\n",
"t2=T2-273;//degree centigrade\n",
"u1=196+0.718*t1;//KJ\n",
"u2=196+0.718*t2;//KJ\n",
"deltau=u2-u1;//KJ\n",
"deltaU=m*deltau;//KJ\n",
"disp(deltaU,'Change in internal energy in KJ : ');\n",
"W=Q-deltaU;//KJ\n",
"disp(W,'Work transfer in KJ : ');\n",
"W1=m*R*(T1-T2)/(n-1);//KJ\n",
"disp(W1,'Displacement work in KJ : ');"
   ]
   }
,
{
		   "cell_type": "markdown",
		   "metadata": {},
		   "source": [
			"## Example 2.24: Work_done_in_expansion.sce"
		   ]
		  },
  {
"cell_type": "code",
	   "execution_count": null,
	   "metadata": {
	    "collapsed": true
	   },
	   "outputs": [],
"source": [
"//Exa 2.24\n",
"clc;\n",
"clear;\n",
"close;\n",
"format('v',7);\n",
"\n",
"//Given Data : \n",
"m=1.5;//Kg\n",
"V1=0.06;//m^3\n",
"p1=5.6*10;//Kpa\n",
"t2=240;//degree centigrade\n",
"T2=t2+273;//kelvin\n",
"a=0.946;\n",
"b=0.662;\n",
"K=10^-4;\n",
"\n",
"//p*V=m*R*T=m*(a-b)*T\n",
"T1=p1*10^5*V1/m/(a-b)/1000;//Kelvin\n",
"U2subU1=integrate('m*(b+K*T)','T',T1,T2);//KJ\n",
"Q=0;//isentropic process\n",
"W=Q-U2subU1;//KJ\n",
"disp(W,'Work done in KJ : ');\n",
"//Answer in the book is wrong."
   ]
   }
,
{
		   "cell_type": "markdown",
		   "metadata": {},
		   "source": [
			"## Example 2.25: heat_transfer_and_maximum_internal_energy.sce"
		   ]
		  },
  {
"cell_type": "code",
	   "execution_count": null,
	   "metadata": {
	    "collapsed": true
	   },
	   "outputs": [],
"source": [
"//Exa 2.25\n",
"clc;\n",
"clear;\n",
"close;\n",
"format('v',7);\n",
"\n",
"//Given Data : \n",
"m=1.5;//Kg\n",
"p1=1000;//Kpa\n",
"p2=200;//Kpa\n",
"V1=0.2;//m^3\n",
"V2=1.2;//m^3\n",
"//p=a+b*v\n",
"//solving for a and b by matrix\n",
"A=[1 V1;1 V2];\n",
"B=[p1;p2];\n",
"X=A^-1*B;\n",
"a=X(1);\n",
"b=X(2);\n",
"W=integrate('a+b*V','V',V1,V2);//KJ/Kg\n",
"disp(W,'Work transfer in KJ/Kg : ');\n",
"u2SUBu1=(1.5*p2*V2+35)-(1.5*p1*V1+35);//KJ/Kg\n",
"disp(u2SUBu1,'Change in internal energy in KJ/Kg : ');\n",
"q=W+u2SUBu1;//KJ/Kg\n",
"disp(q,'Heat transfer in KJ/Kg : ');\n",
"//u=1.5*(a+b*V)*V+35;\n",
"//1.5*a+2*V*1.5*b=0;//for max value putting du/dV=0\n",
"V=-1.5*a/2/1.5/b;//m^3/Kg\n",
"p=a+b*V;//KPa\n",
"u_max=1.5*p*V+35;//KJ/Kg\n",
"disp(u_max,'Maximum internal energy in KJ/Kg : ');\n",
"//Answer in the book is wrong because a is 1160 instead of 1260."
   ]
   }
,
{
		   "cell_type": "markdown",
		   "metadata": {},
		   "source": [
			"## Example 2.26: Net_work_done.sce"
		   ]
		  },
  {
"cell_type": "code",
	   "execution_count": null,
	   "metadata": {
	    "collapsed": true
	   },
	   "outputs": [],
"source": [
"//Exa 2.26\n",
"clc;\n",
"clear;\n",
"close;\n",
"format('v',7);\n",
"\n",
"//Given Data : \n",
"V1=5;//m^3\n",
"p1=2;//bar\n",
"t1=27;//degree centigrade\n",
"T1=t1+273;//kelvin\n",
"p2=6;//bar\n",
"p3=p1;//bar\n",
"R=287;//KJ/KgK\n",
"n=1.3;\n",
"\n",
"//p*V^(1/3)=C\n",
"V2=V1*(p1/p2)^(1/1.3);//m^3\n",
"//p*V=m*R*T1\n",
"m=p1*10^5*V1/R/T1;//Kg\n",
"W1_2=10^5*(p1*V1-p2*V2)/(n-1);//Nm\n",
"W1_2=W1_2/1000;//KJ\n",
"Gamma=1.4;//for air\n",
"//p*V^Gamma=C\n",
"V3=(p2/p3)^(1/Gamma)*V2;//m^3\n",
"W2_3=10^5*(p2*V2-p3*V3)/(Gamma-1);//Nm\n",
"W2_3=W2_3/1000;//KJ\n",
"W=W1_2+W2_3;//KJ\n",
"disp(W,'Net work done in KJ : ');"
   ]
   }
,
{
		   "cell_type": "markdown",
		   "metadata": {},
		   "source": [
			"## Example 2.27: Amount_of_work.sce"
		   ]
		  },
  {
"cell_type": "code",
	   "execution_count": null,
	   "metadata": {
	    "collapsed": true
	   },
	   "outputs": [],
"source": [
"//Exa 2.27\n",
"clc;\n",
"clear;\n",
"close;\n",
"format('v',8);\n",
"\n",
"//Given Data : \n",
"Q1_2=85;//KJ\n",
"Q2_3=-90;//KJ\n",
"W2_3=-20;//KJ\n",
"\n",
"Q3_1=0;//Adiabatic process\n",
"W1_2=0;//constant volume process\n",
"//integrate(dQ)=integrate(dW)\n",
"W3_1=Q1_2+Q2_3+Q3_1-W1_2-W2_3;//KJ\n",
"disp(W3_1,'Direction is 3-1 and work in KJ : ');"
   ]
   }
,
{
		   "cell_type": "markdown",
		   "metadata": {},
		   "source": [
			"## Example 2.28: Work_done_and_index.sce"
		   ]
		  },
  {
"cell_type": "code",
	   "execution_count": null,
	   "metadata": {
	    "collapsed": true
	   },
	   "outputs": [],
"source": [
"//Exa 2.28\n",
"clc;\n",
"clear;\n",
"close;\n",
"format('v',5);\n",
"\n",
"//Given Data : \n",
"V1=200/1000;//m^3\n",
"p1=4;//bar\n",
"T1=400;//K\n",
"p2=1;//bar\n",
"H3subH2=72;//KJ\n",
"Cp=1;//KJ/KgK\n",
"Cv=0.714;//KJ/KgK\n",
"\n",
"Gamma=Cp/Cv;\n",
"R=Cp-Cv;//KJ/KgK\n",
"//p*V=m*R*T\n",
"m=p1*10^5*V1/R/1000/T1;//Kg\n",
"T2=T1*(p2/p1)^((Gamma-1)/Gamma);//K\n",
"V2=p1*V1/T1*T2/p2;//m^3\n",
"W1_2=m*R*(T1-T2)/(Gamma-1);//KJ\n",
"disp(W1_2,'Work done W1-2 in KJ : ');\n",
"//H3subH2=m*Cp(T3-T2);\n",
"T3=(H3subH2+m*Cp*T2)/m/Cp;//K\n",
"W2_3=m*R*(T3-T2);//KJ\n",
"W=W1_2+W2_3;//KJ\n",
"disp(W,'Workdone in KJ : ');\n",
"//W=m*R*(T1-T3)/(n-1)\n",
"n=m*R*(T1-T3)/W+1;//\n",
"disp(n,'Index of expansion : ');"
   ]
   }
,
{
		   "cell_type": "markdown",
		   "metadata": {},
		   "source": [
			"## Example 2.29_a: Q_DeltaU_and_W.sce"
		   ]
		  },
  {
"cell_type": "code",
	   "execution_count": null,
	   "metadata": {
	    "collapsed": true
	   },
	   "outputs": [],
"source": [
"//Exa 2.29A\n",
"clc;\n",
"clear;\n",
"close;\n",
"format('v',9);\n",
"\n",
"//Given Data : \n",
"m=5;//Kg\n",
"//u=3.62*p*v\n",
"\n",
"p1=550;//KPa\n",
"p2=125;//KPa\n",
"V1=0.25;//m^3\n",
"//p*V^(1/2)=C\n",
"n=1.2;\n",
"V2=(p1/p2)^(1/n)*V1;//m^3/Kg\n",
"W=(p1*V1-p2*V2)*10^5/(n-1)/1000;//KJ\n",
"delta_u=(3.62*p2*V2)-(3.62*p1*V1);//KJ/Kg\n",
"deltaU=m*delta_u;//KJ\n",
"disp(deltaU,'Change in internal energy in KJ : ');\n",
"Q=W+deltaU;//KJ\n",
"Q=Q/1000;//MJ\n",
"disp(Q,'Heat transfer in MJ : ');"
   ]
   }
,
{
		   "cell_type": "markdown",
		   "metadata": {},
		   "source": [
			"## Example 2.29: Max_Temperature_Work_done_heat_transfer.sce"
		   ]
		  },
  {
"cell_type": "code",
	   "execution_count": null,
	   "metadata": {
	    "collapsed": true
	   },
	   "outputs": [],
"source": [
"//Exa 2.29\n",
"clc;\n",
"clear;\n",
"close;\n",
"format('v',9);\n",
"\n",
"//Given Data : \n",
"p1=10;//bar\n",
"p2=2;//bar\n",
"V1=0.1;//m^3\n",
"V2=0.9;//m^3\n",
"R=300;//Nm/Kg-K\n",
"m=1;//Kg\n",
"//p=a*v+b\n",
"//solving for a and b by matrix\n",
"A=[V1 1;V2 1];\n",
"B=[p1;p2];\n",
"X=A^-1*B;\n",
"a=X(1);\n",
"b=X(2);\n",
"//p=a*v+b=a*R*T/p+b\n",
"//2*p-b=0;//on differentiating\n",
"p=b/2;//bar\n",
"//p=a*v+b\n",
"v=(p-b)/a;//m^3/Kg\n",
"T=p*10^5*v/R;//K\n",
"disp(T,'Maximum temperature in K : ');\n",
"W=integrate('(a*v+b)*10^5','v',V1,V2);//Nm/Kg\n",
"W=W/10^3;//KJ/KgK\n",
"disp(W,'Work done in KJ : ');\n",
"T1=p1*10^5*V1/R;//K\n",
"T2=p2*10^5*V2/R;//K\n",
"Gamma=1.4;\n",
"Cv=R/(Gamma-1);//Nm/KgK\n",
"Cv=Cv/1000;//KJ/KgK\n",
"deltaU=m*Cv*(T2-T1);//KJ/Kg\n",
"Q=W+deltaU;//KJ\n",
"disp(-Q,'Net Heat transfer in KJ ; ');"
   ]
   }
,
{
		   "cell_type": "markdown",
		   "metadata": {},
		   "source": [
			"## Example 2.2: Steam_flow_rate.sce"
		   ]
		  },
  {
"cell_type": "code",
	   "execution_count": null,
	   "metadata": {
	    "collapsed": true
	   },
	   "outputs": [],
"source": [
"//Exa 2.2\n",
"clc;\n",
"clear;\n",
"close;\n",
"format('v',7);\n",
"\n",
"//Given Data\n",
"Q1=2500;//KJ/Kg\n",
"Q2=1800;//KJ/Kg\n",
"Pdev=210;//MW\n",
"//Power developed = Heat transfered: Pdev=m*(Q1-Q2)\n",
"m=Pdev*1000/(Q1-Q2);//mass flow rate of steam in Kg/s\n",
"disp(m,'Mass flow rate of steam in Kg/s : ');"
   ]
   }
,
{
		   "cell_type": "markdown",
		   "metadata": {},
		   "source": [
			"## Example 2.30: Density_and_mass_flow_rate.sce"
		   ]
		  },
  {
"cell_type": "code",
	   "execution_count": null,
	   "metadata": {
	    "collapsed": true
	   },
	   "outputs": [],
"source": [
"//Exa 2.30\n",
"clc;\n",
"clear;\n",
"close;\n",
"format('v',6);\n",
"\n",
"//Given Data : \n",
"Vdot=0.032;//m^3/s\n",
"d=1.5;//m\n",
"L=4.2;//m\n",
"m=3500;//Kg\n",
"V=%pi/4*d^2*L;//m^3\n",
"rho=m/V;//Kg/m^3\n",
"disp(rho,'Density of liquid in Kg/m^3 : ');\n",
"m_dot=rho*Vdot;//Kg/s\n",
"disp(m_dot,'Mass flow rate in Kg/s : ');"
   ]
   }
,
{
		   "cell_type": "markdown",
		   "metadata": {},
		   "source": [
			"## Example 2.31: Workdone_heat_transfer_and_internal_energy.sce"
		   ]
		  },
  {
"cell_type": "code",
	   "execution_count": null,
	   "metadata": {
	    "collapsed": true
	   },
	   "outputs": [],
"source": [
"//Exa 2.31\n",
"clc;\n",
"clear;\n",
"close;\n",
"format('v',8);\n",
"\n",
"//Given Data : \n",
"p1=1;//bar\n",
"T1=20+273;//K\n",
"p2=6;//bar\n",
"m=1;//Kg\n",
"R=287;//Nm/Kg\n",
"Gamma=1.4;\n",
"Cp=1.005;//KJ/KgK\n",
"Cv=0.7175;//KJ/KgK\n",
"//T2=T1 : Isothermal compression\n",
"T2subT1=0;\n",
"deltaU=m*Cv*(T2subT1);//KJ\n",
"disp('Isothermal :');\n",
"disp(deltaU,'Change in internal energy in KJ : ');\n",
"Wsf=m*R/1000*T1*log(p1/p2);//KJ/Kg\n",
"disp(Wsf,'Work done in KJ/Kg : ');\n",
"p2V2subp1V1=0;//isothermal process\n",
"Q=Wsf+deltaU+p2V2subp1V1;//KJ/Kg\n",
"disp(Q,'Heat transfer in KJ/Kg : ');\n",
"disp('Isentropic :');\n",
"T2=T1*(p2/p1)^((Gamma-1)/Gamma);//K\n",
"U2subU1=m*Cv*(T2-T1);//KJ/Kg\n",
"disp(U2subU1,'Change in internal energy in KJ/Kg : ');\n",
"H2subH1=m*Cp*(T2-T1);//KJ/Kg\n",
"disp(H2subH1,'Change in heat in KJ/Kg : ');\n",
"Q=0;//adiabatic process\n",
"disp(Q,'Heat transfer in KJ/Kg : ');\n",
"Wsf=Q-H2subH1;//KJ/Kg\n",
"disp(Wsf,'Work done in KJ/Kg : ');\n",
"disp('Polytropic : ');\n",
"n=1.25;//index\n",
"T2=T1*(p2/p1)^((n-1)/n);//K\n",
"deltaU=m*Cv*(T2-T1);//KJ/Kg\n",
"disp(deltaU,'Change in internal energy in KJ/Kg : ');\n",
"H2subH1=m*Cp*(T2-T1);//KJ/Kg\n",
"Wsf=(n/(n-1))*m*R/1000*(T1-T2);//KJ/Kg\n",
"disp(Wsf,'Work done in KJ/Kg : ');\n",
"Q=Wsf+H2subH1;//KJ/Kg\n",
"disp(Q,'Heat transfer in KJ/Kg : ');\n",
"//Answer of chane in internal energy for last part is wrong in the book."
   ]
   }
,
{
		   "cell_type": "markdown",
		   "metadata": {},
		   "source": [
			"## Example 2.32: Calculate_power_required.sce"
		   ]
		  },
  {
"cell_type": "code",
	   "execution_count": null,
	   "metadata": {
	    "collapsed": true
	   },
	   "outputs": [],
"source": [
"//Exa 2.32\n",
"clc;\n",
"clear;\n",
"close;\n",
"format('v',6);\n",
"\n",
"//Given Data : \n",
"p1=5;//bar\n",
"p2=50;//bar\n",
"V=0.001;//m^3/Kg\n",
"m_dot=10;//Kg/s\n",
"wsf=integrate('-V','p',p1*10^5,p2*10^5);//J/kg\n",
"wsf=wsf/1000;//KJ/Kg\n",
"Wsf=abs(wsf)*m_dot;//KW(leaving -ve sign as it is to indiacte heat is supplied)\n",
"disp(Wsf,'Power required in KW : ');"
   ]
   }
,
{
		   "cell_type": "markdown",
		   "metadata": {},
		   "source": [
			"## Example 2.33: Work_done_Internal_energy_heat_transfer.sce"
		   ]
		  },
  {
"cell_type": "code",
	   "execution_count": null,
	   "metadata": {
	    "collapsed": true
	   },
	   "outputs": [],
"source": [
"//Exa 2.33\n",
"clc;\n",
"clear;\n",
"close;\n",
"format('v',7);\n",
"\n",
"//Given Data : \n",
"p1=10^5;//Pa\n",
"p2=5*10^5;//Pa\n",
"T1=25+273;//K\n",
"V1=1.8;//m^3/Kg\n",
"V2=p1/p2*V1;//m^3/Kg\n",
"W=-p1*V1*log(p2/p1);//J/kg\n",
"W=W/1000;//KJ/Kg\n",
"disp(W,'Workdone in KJ : ');\n",
"deltaU=0;//As in a isothermal process T2-T1 =0 \n",
"disp(deltaU,'Change in internal energy in KJ : ');\n",
"Q=-W;//KJ/Kg(As in a isothermal process T2-T1 =0 )\n",
"disp(Q,'Heat Transfered in KJ/Kg : ');"
   ]
   }
,
{
		   "cell_type": "markdown",
		   "metadata": {},
		   "source": [
			"## Example 2.34: Temperature_of_air.sce"
		   ]
		  },
  {
"cell_type": "code",
	   "execution_count": null,
	   "metadata": {
	    "collapsed": true
	   },
	   "outputs": [],
"source": [
"//Exa 2.34\n",
"clc;\n",
"clear;\n",
"close;\n",
"format('v',7);\n",
"\n",
"//Given Data : \n",
"p=6;//bar\n",
"m=18;//Kg\n",
"v=260;//m/s\n",
"rho=4;//Kg/m^3\n",
"Q=42;//KJ/Kg\n",
"W=261;//KW\n",
"Cv=0.715;//KJ/KgK\n",
"pA=1;//bar\n",
"vA=60;//m/s\n",
"mdotA=14;//Kg/s\n",
"CvA=0.835;//m^3/Kg\n",
"TA=115+273;//K\n",
"pB=5.5;//bar\n",
"vB=15;//m/s\n",
"mdotB=4;//Kg/s\n",
"CvB=0.46;//m^3/Kg\n",
"TB=600+273;//K\n",
"v1=1/rho;//m^3/Kg\n",
"//m*(Cv*T+p*10^5*v1/1000+v^2/2000)+Q*rho-W=mdotA*(Cv*TA+pA*10^5*CvA/1000+vA^2/2000)+m_dotB*(Cv*TB+pB*10^5*CvB/1000+vB^2/2000);\n",
"T=(((mdotA*(Cv*TA+pA*10^5*CvA/1000+vA^2/2000)+mdotB*(Cv*TB+pB*10^5*CvB/1000+vB^2/2000))+W-Q*rho)/m-v^2/2000-p*10^5*v1/1000)/Cv;//K\n",
"disp(T,'Temperature of air at inlet in K : ');\n",
"//Answer in the book is wrong."
   ]
   }
,
{
		   "cell_type": "markdown",
		   "metadata": {},
		   "source": [
			"## Example 2.35: Velocity_Mass_flow_rate_Diameter.sce"
		   ]
		  },
  {
"cell_type": "code",
	   "execution_count": null,
	   "metadata": {
	    "collapsed": true
	   },
	   "outputs": [],
"source": [
"//Exa 2.35\n",
"clc;\n",
"clear;\n",
"close;\n",
"format('v',7);\n",
"\n",
"//Given Data : \n",
"h1=3000;//KJ/Kg\n",
"C1=60;//m/s\n",
"h2=2762;//KJ/Kg\n",
"Q=0;//KJ\n",
"m=1;//Kg\n",
"W=0;//in case of nozzle\n",
"//Q-W=m*[(h2-h1)+(C2^2-C1^2)/2/1000+g*(Z2-Z1)/1000]\n",
"Z2subZ1=0;//as Z1=Z2 for horizontal nozzle\n",
"C2=sqrt(-(h2-h1)*2*1000+C1^2);//m/s\n",
"disp(C2,'Velocity at exit of nozzle in m/s : ');\n",
"A1=0.1;//m^3\n",
"v1=0.187;//m^3/Kg\n",
"mdot=A1*C1/v1;//Kg/s\n",
"disp(mdot,'Mass flow rate through the nozzle in Kg/s : ');\n",
"v2=0.498;//m^3/Kg\n",
"//mdot=A2*C2/v2=%pi/4*d^2*C2/v2\n",
"d2=sqrt(mdot/%pi*4*v2/C2);//m\n",
"disp(d2,'Diameter of nozzle at exit in meter : ');"
   ]
   }
,
{
		   "cell_type": "markdown",
		   "metadata": {},
		   "source": [
			"## Example 2.36: Heat_transfered_per_Kg_of_air.sce"
		   ]
		  },
  {
"cell_type": "code",
	   "execution_count": null,
	   "metadata": {
	    "collapsed": true
	   },
	   "outputs": [],
"source": [
"//Exa 2.36\n",
"clc;\n",
"clear;\n",
"close;\n",
"format('v',6);\n",
"\n",
"//Given Data : \n",
"p1=4;//bar\n",
"p2=1;//bar\n",
"T1=40+273;//K\n",
"T2=2.5+273;//K\n",
"C1=40;//m/s\n",
"C2=200;//m/s\n",
"W=52;//KJKg\n",
"m=1;//Kg\n",
"Cp=1.005;//KJ/KgK \n",
"Z2subZ1=0;//as Z1=Z2 \n",
"Q=W+m*[Cp*(T2-T1)+(C2^2-C1^2)/2/1000];//KJ/Kg\n",
"disp(Q,'Heat transfered per Kg of air in KJ/Kg : ');"
   ]
   }
,
{
		   "cell_type": "markdown",
		   "metadata": {},
		   "source": [
			"## Example 2.37: Enthalpy_of_second_exit_stream.sce"
		   ]
		  },
  {
"cell_type": "code",
	   "execution_count": null,
	   "metadata": {
	    "collapsed": true
	   },
	   "outputs": [],
"source": [
"//Exa 2.37\n",
"clc;\n",
"clear;\n",
"close;\n",
"format('v',8);\n",
"\n",
"//Given Data : \n",
"m1dot=0.01;//Kg/s\n",
"h1=2950;//KJ/Kg\n",
"C1=20;//m/s\n",
"m2dot=0.1;//Kg/s\n",
"h2=2565;//KJ/Kg\n",
"C2=120;//m/s\n",
"m3dot=0.001;//Kg/s\n",
"h3=421;//KJ/Kg\n",
"C3=0;//m/s\n",
"C4=0;//m/s\n",
"Wsf_dot=25;//KW\n",
"Qdot=0;//KJ\n",
"//m1dot+m2dot=m3dot+m4dot\n",
"m4dot=m1dot+m2dot-m3dot;//Kg/s\n",
"//m1dot*(h1+C1^2/2/1000)+m2dot*(h2+C2^2/2/1000)=m3dot*(h3+C3^2/2/1000)+m4dot*(h4+C4^2/2/1000)+Wsf_dot\n",
"h4=(m1dot*(h1+C1^2/2/1000)+m2dot*(h2+C2^2/2/1000)-m3dot*(h3+C3^2/2/1000)-Wsf_dot)/m4dot-C4^2/2/1000;//KJ/Kg\n",
"disp(h4,'Enthalpy of 2nd exit stream in KJ/Kg : ');"
   ]
   }
,
{
		   "cell_type": "markdown",
		   "metadata": {},
		   "source": [
			"## Example 2.38: Change_in_enthalpy_and_rate_of_workdone.sce"
		   ]
		  },
  {
"cell_type": "code",
	   "execution_count": null,
	   "metadata": {
	    "collapsed": true
	   },
	   "outputs": [],
"source": [
"//Exa 2.38\n",
"clc;\n",
"clear;\n",
"close;\n",
"format('v',7);\n",
"\n",
"//Given Data : \n",
"mdot=0.5;//kg/s\n",
"p1=1.4;//bar\n",
"rho1=2.5;//kg/m^3\n",
"u1=920;//kJ/kg\n",
"C1=200;//m/s\n",
"p2=5.6;//bar\n",
"rho2=5;//kg/m^3\n",
"u2=720;//kJ/kg\n",
"C2=180;//m/s\n",
"Qdot=-60;//kW\n",
"Z21=60;//m\n",
"g=9.81;//gravity constant\n",
"h21=u2-u1+(p2*10^5/(rho2*1000)-p1*10^5/(rho1*1000));//kJ/kg(change in enthalpy)\n",
"H21=mdot*h21;//kW(total change in enthalpy)\n",
"disp(H21,'Change in enthalpy, H2-H1 in kW :  ');\n",
"Wsf=Qdot-mdot*[h21+(C2^2-C1^2)/2/1000+g*(Z21)/1000];//kW\n",
"disp(Wsf,'Rate of workdone, Wsf in kW : ');"
   ]
   }
,
{
		   "cell_type": "markdown",
		   "metadata": {},
		   "source": [
			"## Example 2.39: Power_required_to_drive_the_compressor.sce"
		   ]
		  },
  {
"cell_type": "code",
	   "execution_count": null,
	   "metadata": {
	    "collapsed": true
	   },
	   "outputs": [],
"source": [
"//Exa 2.39\n",
"clc;\n",
"clear;\n",
"close;\n",
"format('v',8);\n",
"\n",
"//Given Data : \n",
"mdot=0.4;//Kg/s\n",
"C1=6;//m/s\n",
"p1=1;//bar\n",
"p1=p1*100;//KPa\n",
"V1=0.16;//m^3/Kg\n",
"u2subu1=88;//KJ/Kg\n",
"Qdot=-59;//W\n",
"Qdot=Qdot/1000;//KJ/s\n",
"W=0.059;//KJ/\n",
"Gamma=1.4;\n",
"Z2subZ1=0;\n",
"h2subh1=Gamma*u2subu1;//KJ\n",
"Wdot=Qdot-mdot*(h2subh1);//As C1=C2, C2^2-C1^2=0 & Z2-Zi=0\n",
"disp(Wdot,'Power in KW : ');"
   ]
   }
,
{
		   "cell_type": "markdown",
		   "metadata": {},
		   "source": [
			"## Example 2.3: Change_in_internal_energy.sce"
		   ]
		  },
  {
"cell_type": "code",
	   "execution_count": null,
	   "metadata": {
	    "collapsed": true
	   },
	   "outputs": [],
"source": [
"//Exa 2.3\n",
"clc;\n",
"clear;\n",
"close;\n",
"format('v',7);\n",
"\n",
"//Given Data\n",
"WA=20;//KJ\n",
"QA=15;//KJ\n",
"QB=10;//KJ\n",
"U2subU1=QA-WA;//change in internal energy in KJ\n",
"disp(U2subU1,'Change in internal energy in KJ : ');"
   ]
   }
,
{
		   "cell_type": "markdown",
		   "metadata": {},
		   "source": [
			"## Example 2.40: Output_of_turbine.sce"
		   ]
		  },
  {
"cell_type": "code",
	   "execution_count": null,
	   "metadata": {
	    "collapsed": true
	   },
	   "outputs": [],
"source": [
"//Exa 2.40\n",
"clc;\n",
"clear;\n",
"close;\n",
"format('v',5);\n",
"\n",
"//Given Data : \n",
"mdot=1;//Kg/s\n",
"p1=40;//bar\n",
"T1=1047+273;//K\n",
"C1=200;//m/s\n",
"C2=100;//m/s\n",
"p2=1;//bar\n",
"Qdot=0;//W\n",
"Cp=1.05;//KJ/KgK\n",
"R=300;//Nm/KgK\n",
"Gamma=1.4;\n",
"//p*v=m*R*T\n",
"v1dot=mdot*R*T1/p1/10^5;//m^3/s\n",
"v2dot=(p1/p2)^(1/Gamma)*v1dot;//m^3/s\n",
"T2=p2*v2dot/p1/v1dot*T1;//K\n",
"Wsf_dot=Qdot-mdot*[Cp*(T2-T1)+(C2^2-C1^2)/2/1000];//KJ/s or KW\n",
"disp(Wsf_dot,'Output of turbine in KJ/s or KW : ');"
   ]
   }
,
{
		   "cell_type": "markdown",
		   "metadata": {},
		   "source": [
			"## Example 2.41: Flow_of_work_Mass_flow_rate.sce"
		   ]
		  },
  {
"cell_type": "code",
	   "execution_count": null,
	   "metadata": {
	    "collapsed": true
	   },
	   "outputs": [],
"source": [
"//Exa 2.41\n",
"clc;\n",
"clear;\n",
"close;\n",
"format('v',7);\n",
"\n",
"//Given Data : \n",
"A1C1=0.7;//m^3/s\n",
"p1=85;//KPa\n",
"p2=650;//KPa\n",
"v1=0.35;//m^3/Kg\n",
"v2=0.1;//m^3/Kg\n",
"d1=10/100;//m\n",
"d2=6.25/100;//m\n",
"\n",
"mdot=A1C1/v1;//Kg/s\n",
"p2v2SUBp1v1=mdot*(p2*v2-p1*v1);//KJ/s\n",
"disp(p2v2SUBp1v1,'Change in flow work in KJ/s : ');\n",
"disp(mdot,'Mass flow rate in Kg/s : ');\n",
"C1=A1C1/(%pi/4*d1^2);//m/s\n",
"A2C2=mdot*v2;//m^3/s\n",
"C2=A2C2/(%pi/4*d2^2);//m/s\n",
"C2subC1=C2-C1;//m/s\n",
"disp(C2subC1,'Velocity change in m/s : ');"
   ]
   }
,
{
		   "cell_type": "markdown",
		   "metadata": {},
		   "source": [
			"## Example 2.42: Power_required_and_ratio_of_diameter.sce"
		   ]
		  },
  {
"cell_type": "code",
	   "execution_count": null,
	   "metadata": {
	    "collapsed": true
	   },
	   "outputs": [],
"source": [
"//Exa 2.42\n",
"clc;\n",
"clear;\n",
"close;\n",
"format('v',7);\n",
"\n",
"//Given Data : \n",
"m=12/60;//Kg/s\n",
"C1=12;//m/s\n",
"p1=1*100;//KPa\n",
"v1=0.5;//m^3/Kg\n",
"C2=90;//m/s\n",
"p2=8*100;//KPa\n",
"v2=0.14;//m^3/Kg\n",
"deltah=150;//KJ/Kg\n",
"Qdot=-700/60;//KJ/s\n",
"//Assuming deltaPE=0=g*(Z2-Z1)\n",
"//Qdot-Wdot=mdot*(deltah+(C2^2-C1^2)/2/1000+g*(Z2-Z1)/1000)\n",
"Wdot=Qdot-m*(deltah+(C2^2-C1^2)/2/1000);//KW\n",
"disp(abs(Wdot),'Power required to drive the compressor in KW : ');\n",
"//A1C1/v1=A2C2/v2\n",
"d1BYd2=sqrt(C2/v2*v1/C1);\n",
"disp(d1BYd2,'Ratio of inlet to outlet pipe diameter : ');"
   ]
   }
,
{
		   "cell_type": "markdown",
		   "metadata": {},
		   "source": [
			"## Example 2.43: Mass_flow_rate_and_specific_enthalpy.sce"
		   ]
		  },
  {
"cell_type": "code",
	   "execution_count": null,
	   "metadata": {
	    "collapsed": true
	   },
	   "outputs": [],
"source": [
"//Exa 2.43\n",
"clc;\n",
"clear;\n",
"close;\n",
"format('v',8);\n",
"\n",
"//Given Data : \n",
"h1=160;//KJ/Kg\n",
"h2=2380;//KJ/Kg\n",
"m1dot=10;//Kg/s\n",
"m2dot=0.8;//Kg/s\n",
"Qdot=10;//KJ/s\n",
"Wdot=0;//KJ\n",
"deltaKE=0;\n",
"deltaPE=0;\n",
"m3dot=m1dot+m2dot;//Kg/s\n",
"disp(m3dot,'Mass flow of heated water in Kg/s : ');\n",
"//m1dot*h1+m2dot*h2=m3dot*h3+Qdot\n",
"h3=(m1dot*h1+m2dot*h2-Qdot)/m3dot;//KJ/Kg\n",
"disp(h3,'Specific enthalpy of heated water in KJ/Kg : ');"
   ]
   }
,
{
		   "cell_type": "markdown",
		   "metadata": {},
		   "source": [
			"## Example 2.44: Power_required_to_drive_the_pump.sce"
		   ]
		  },
  {
"cell_type": "code",
	   "execution_count": null,
	   "metadata": {
	    "collapsed": true
	   },
	   "outputs": [],
"source": [
"//Exa 2.44\n",
"clc;\n",
"clear;\n",
"close;\n",
"format('v',8);\n",
"\n",
"//Given Data : \n",
"v=0.001;//m^3/Kg\n",
"DisRate=10/60;//m^3/s\n",
"p1=100;//KN/m^2\n",
"p2=300;//KN/m^2\n",
"Z1=3;//m\n",
"Z2=9;//m\n",
"d1=0.25;//m\n",
"d2=0.17;//m\n",
"Qdot=0;//KJ/s(Adiabatic process)\n",
"//A1*C1=A2*C2=DisRate\n",
"C1=DisRate/(%pi/4*d1^2);//m/s\n",
"C2=DisRate/(%pi/4*d2^2);//m/s\n",
"mdot=DisRate/v;//Kg/s\n",
"g=9.81;//gravity constant\n",
"delta_u=0;\n",
"//Qdot-Wdot=mdot*(delta_u+p2*v2-p1*v1+C2^2-C1^2+g*(Z2-Z1))\n",
"Wdot=mdot*(delta_u+p2*10^3*v-p1*10^3*v+(C2^2-C1^2)/2+g*(Z2-Z1))-Qdot;//J/s\n",
"Wdot=Wdot/1000;//KJ/s or KW\n",
"disp(Wdot,'Power required to drive the pump in KW : ');"
   ]
   }
,
{
		   "cell_type": "markdown",
		   "metadata": {},
		   "source": [
			"## Example 2.45: Exit_temperature_of_air.sce"
		   ]
		  },
  {
"cell_type": "code",
	   "execution_count": null,
	   "metadata": {
	    "collapsed": true
	   },
	   "outputs": [],
"source": [
"//Exa 2.45\n",
"clc;\n",
"clear;\n",
"close;\n",
"format('v',8);\n",
"\n",
"//Given Data : \n",
"mdot=5;//Kg/s\n",
"T1=27+273;//K\n",
"//Z1=Z2\n",
"deltaPE=0;\n",
"Wdot=-100;//KW\n",
"C1=60;//m/s\n",
"C2=150;//m/s\n",
"q=-2;//KJ/Kg\n",
"Cp=1.05;//KJ/Kg\n",
"Qdot=mdot*q;//KJ/s\n",
"delta_h=Cp;//KJ/Kg\n",
"//Qdot-Wdot=mdot*(delta_h*(T2-T1)+(C2^2-C1^2)/2/1000+g*(Z2-Z1))/1000)\n",
"T2=((Qdot-Wdot)/mdot-(C2^2-C1^2)/2/1000)/delta_h+T1;//K\n",
"disp(T2,'Exit temperature in K : ');"
   ]
   }
,
{
		   "cell_type": "markdown",
		   "metadata": {},
		   "source": [
			"## Example 2.46: Rate_of_flow_of_water.sce"
		   ]
		  },
  {
"cell_type": "code",
	   "execution_count": null,
	   "metadata": {
	    "collapsed": true
	   },
	   "outputs": [],
"source": [
"//Exa 2.46\n",
"clc;\n",
"clear;\n",
"close;\n",
"format('v',7);\n",
"\n",
"//Given Data : \n",
"t1=90;//degreeC\n",
"t2=30;//degreeC\n",
"modot=3;//Kg/s\n",
"//h=1.7*t+11*10^-4*t^2\n",
"h1=1.7*t1+11*10^-4*t1^2;//KJ/Kg\n",
"h2=1.7*t2+11*10^-4*t2^2;//KJ/Kg\n",
"tw1=27;//degreeC\n",
"tw2=67;//degreeC\n",
"Cp=4.2;//KJ/KgK\n",
"//h=Cp*tw;//KJ/Kg\n",
"hw1=Cp*tw1;//KJ/Kg\n",
"hw2=Cp*tw2;//KJ/Kg\n",
"//modot*(h1-h2)=mwdot*(hw2-hw1)\n",
"mwdot=modot*(h1-h2)/(hw2-hw1);//Kg/s\n",
"disp(mwdot,'Rate of flow of water in Kg/s : ');"
   ]
   }
,
{
		   "cell_type": "markdown",
		   "metadata": {},
		   "source": [
			"## Example 2.47: Amount_of_discharged_air.sce"
		   ]
		  },
  {
"cell_type": "code",
	   "execution_count": null,
	   "metadata": {
	    "collapsed": true
	   },
	   "outputs": [],
"source": [
"//Exa 2.47\n",
"clc;\n",
"clear;\n",
"close;\n",
"format('v',6);\n",
"\n",
"//Given Data : \n",
"V1=6;//m^3\n",
"p1=20*100;//Kpa\n",
"T1=37+273;//K\n",
"p2=10*100;//Kpa\n",
"V2=V1;//m^3\n",
"R=0.287;//KJ/KgK\n",
"m1=p1*V1/R/T1;//Kg\n",
"//T2=T1*(p2/p1)^((Gamma-1)/Gamma)\n",
"Gamma=1.4;\n",
"T2=T1*(p2/p1)^((Gamma-1)/Gamma);//K\n",
"m2=p2*V2/R/T2;//Kg\n",
"m=m1-m2;//mass of air discharged in Kg\n",
"disp(m,'Mass of air discharged in Kg : ');"
   ]
   }
,
{
		   "cell_type": "markdown",
		   "metadata": {},
		   "source": [
			"## Example 2.48: Work_done_by_the_air.sce"
		   ]
		  },
  {
"cell_type": "code",
	   "execution_count": null,
	   "metadata": {
	    "collapsed": true
	   },
	   "outputs": [],
"source": [
"//Exa 2.48\n",
"clc;\n",
"clear;\n",
"close;\n",
"format('v',7);\n",
"\n",
"//Given Data : \n",
"V1=1.5;//m^3\n",
"V2=0;//m^3\n",
"p=1.02;//bar\n",
"W=p*10^5*integrate('1','V',V1,V2);//J\n",
"disp(W/1000,'Work done by the air in KJ : ');"
   ]
   }
,
{
		   "cell_type": "markdown",
		   "metadata": {},
		   "source": [
			"## Example 2.4: Net_work_for_cycle.sce"
		   ]
		  },
  {
"cell_type": "code",
	   "execution_count": null,
	   "metadata": {
	    "collapsed": true
	   },
	   "outputs": [],
"source": [
"//Exa 2.4\n",
"clc;\n",
"clear;\n",
"close;\n",
"format('v',7);\n",
"\n",
"//Given Data\n",
"Q1=120;//KJ\n",
"Q2=-16;//KJ\n",
"Q3=-48;//KJ\n",
"Q4=12;//KJ\n",
"W1=60000;//N-m\n",
"W2=68000;//N-m\n",
"W3=120000;//N-m\n",
"W4=44000;//N-m\n",
"Net_work=Q1+Q2+Q3+Q4;//KJ\n",
"disp(Net_work*1000,'Net Work in N-m :  ');\n",
"disp('Option (ii) is true.')"
   ]
   }
,
{
		   "cell_type": "markdown",
		   "metadata": {},
		   "source": [
			"## Example 2.5: Change_in_internal_energy.sce"
		   ]
		  },
  {
"cell_type": "code",
	   "execution_count": null,
	   "metadata": {
	    "collapsed": true
	   },
	   "outputs": [],
"source": [
"//Exa 2.5\n",
"clc;\n",
"clear;\n",
"close;\n",
"format('v',7);\n",
"\n",
"//Given Data\n",
"T1=100;//degree_centigrade\n",
"T1=T1+273;//kelvin\n",
"T2=200;//degree_centigrade\n",
"T2=T2+273;//kelvin\n",
"\n",
"delQbydelT=1.005;//KJ/k\n",
"//delWbydelT=(4-0.12*T);//KJ/k\n",
"Q=integrate('1.005','T',T1,T2);\n",
"W=integrate('4-0.12*T','T',T1,T2);\n",
"U2subU1=Q-W;//change in internal energy in KJ\n",
"disp(U2subU1,'Change in internal energy in KJ : ');"
   ]
   }
,
{
		   "cell_type": "markdown",
		   "metadata": {},
		   "source": [
			"## Example 2.6: DeltaU_DeltaPE_DeltaKE.sce"
		   ]
		  },
  {
"cell_type": "code",
	   "execution_count": null,
	   "metadata": {
	    "collapsed": true
	   },
	   "outputs": [],
"source": [
"//Exa 2.6\n",
"clc;\n",
"clear;\n",
"close;\n",
"format('v',7);\n",
"\n",
"//Given Data\n",
"m=20;//Kg\n",
"mw=200;//Kg\n",
"Z1=15;//m\n",
"Z2=0;//m\n",
"g=9.81;//gravity constant\n",
"\n",
"disp('(i) Stone is about to enter the water');\n",
"deltaPE=m*g*(Z2-Z1)/1000;//KJ\n",
"Q=0;//Heat Transfer\n",
"W=0;//Work Transfer\n",
"deltaE=Q-W;//Energy Transfer\n",
"//deltaE=deltaU+deltaKE+deltaPE\n",
"deltaU=0;//no change in temperature\n",
"deltaKE= deltaE-deltaU-deltaPE;//KJ\n",
"disp(deltaU,'deltaU in KJ : ');\n",
"disp(deltaPE,'deltaPE in KJ : ');\n",
"disp(deltaKE,'deltaKE in KJ : ');\n",
"disp(Q,'Q in KJ : ');\n",
"disp(W,'W in KJ : ');\n",
"\n",
"disp('(ii) Stone has come to rest near the tank.');\n",
"Q=0;//Heat Transfer\n",
"W=0;//Work Transfer\n",
"deltaE=Q-W;//Energy Transfer\n",
"deltaKE=0;//rest condition\n",
"//deltaE=deltaU+deltaKE+deltaPE\n",
"deltaU= deltaE-deltaKE-deltaPE;//KJ\n",
"disp(deltaU,'deltaU in KJ : ');\n",
"disp(deltaPE,'deltaPE in KJ : ');\n",
"disp(deltaKE,'deltaKE in KJ : ');\n",
"disp(Q,'Q in KJ : ');\n",
"disp(W,'W in KJ : ');\n",
"\n",
"disp('(iii) Heat is transfered to surroundings.');\n",
"deltaKE=0;//Energy Transfered to water\n",
"deltaPE=0;\n",
"W=0;\n",
"deltaE=deltaU+deltaKE+deltaPE\n",
"Q=deltaE+W;//KJ\n",
"disp(deltaU,'deltaU in KJ : ');\n",
"disp(deltaPE,'deltaPE in KJ : ');\n",
"disp(deltaKE,'deltaKE in KJ : ');\n",
"disp(Q,'Q in KJ : ');\n",
"disp(W,'W in KJ : ');"
   ]
   }
,
{
		   "cell_type": "markdown",
		   "metadata": {},
		   "source": [
			"## Example 2.7: Rate_of_work_in_KW.sce"
		   ]
		  },
  {
"cell_type": "code",
	   "execution_count": null,
	   "metadata": {
	    "collapsed": true
	   },
	   "outputs": [],
"source": [
"//Exa 2.7\n",
"clc;\n",
"clear;\n",
"close;\n",
"format('v',7);\n",
"\n",
"//Given Data\n",
"SigmaW=30;//KJ\n",
"n=10;//cycles/min\n",
"Q1_2=50;//KJ\n",
"//Q2_3=0;//KJ\n",
"//Q3_1=0;//KJ\n",
"//W1_2=0;//KJ\n",
"W2_3=30;//KJ\n",
"//W3_1=0;//KJ\n",
"deltaU1_2=20;//KJ\n",
"deltaU2_3=-10;//KJ\n",
"//deltaU3_1=0;//KJ\n",
"//Q-W=deltaU\n",
"//For Proess 1-2 : \n",
"W1_2=Q1_2-deltaU1_2;//KJ\n",
"disp(W1_2,'W1-2 in KJ : ');\n",
"//For Proess 2-3\n",
"Q2_3=W2_3+deltaU2_3;//KJ\n",
"disp(Q2_3,'Q2-3 in KJ :  ');\n",
"//For Proess 3-1\n",
"W3_1=SigmaW-W1_2-W2_3;//KJ\n",
"disp(W3_1,'W3-1 in KJ : ');\n",
"SigmaQ=SigmaW;//KJ\n",
"Q3_1=SigmaQ-Q1_2-Q2_3;//KJ\n",
"disp(Q3_1,'Q3-1 in KJ : ');\n",
"deltaU3_1=Q3_1-W3_1;//KJ\n",
"disp(deltaU3_1,'U1-U3 or deltaU3-1 in KJ : ');\n",
"RateOfWork=SigmaW*n;//KJ/min\n",
"RateOfWork=RateOfWork/60;//KJ/sec or KW\n",
"disp(RateOfWork,'Rate of work in KW : ');\n",
""
   ]
   }
,
{
		   "cell_type": "markdown",
		   "metadata": {},
		   "source": [
			"## Example 2.8: Change_in_internal_energy.sce"
		   ]
		  },
  {
"cell_type": "code",
	   "execution_count": null,
	   "metadata": {
	    "collapsed": true
	   },
	   "outputs": [],
"source": [
"//Exa 2.8\n",
"clc;\n",
"clear;\n",
"close;\n",
"format('v',9);\n",
"\n",
"//Given Data : \n",
"m=50;//Kg\n",
"C1=10;//m/s\n",
"C2=30;//m/s\n",
"Z2subZ1=40;//m\n",
"Q=30000;//J\n",
"W1=-4500;//J\n",
"W2=0.002;//KWh\n",
"g=9.81;//gravity constant\n",
"W2=W2*3600*1000;//J\n",
"//sigmaQ-sigmaW=E2-E1=(U2-U1)+(C2^2-C1^2)/2+g*(Z2-Z1)\n",
"U2subU1=Q-(W1+W2)-(C2^2-C1^2)/2-g*(Z2subZ1);//J\n",
"disp(U2subU1,'Change in Internal energy in J : ');"
   ]
   }
,
{
		   "cell_type": "markdown",
		   "metadata": {},
		   "source": [
			"## Example 2.9: Net_heat_transfer.sce"
		   ]
		  },
  {
"cell_type": "code",
	   "execution_count": null,
	   "metadata": {
	    "collapsed": true
	   },
	   "outputs": [],
"source": [
"//Exa 2.9\n",
"clc;\n",
"clear;\n",
"close;\n",
"format('v',7);\n",
"\n",
"//Given Data\n",
"deltaU=-4000;//KJ\n",
"W=-1.2;//KWh\n",
"W=W*3600;//KJ\n",
"Q=W+deltaU;//KJ/hr\n",
"disp(Q,'Net heat transfer in KJ/hr : ');"
   ]
   }
],
"metadata": {
		  "kernelspec": {
		   "display_name": "Scilab",
		   "language": "scilab",
		   "name": "scilab"
		  },
		  "language_info": {
		   "file_extension": ".sce",
		   "help_links": [
			{
			 "text": "MetaKernel Magics",
			 "url": "https://github.com/calysto/metakernel/blob/master/metakernel/magics/README.md"
			}
		   ],
		   "mimetype": "text/x-octave",
		   "name": "scilab",
		   "version": "0.7.1"
		  }
		 },
		 "nbformat": 4,
		 "nbformat_minor": 0
}
