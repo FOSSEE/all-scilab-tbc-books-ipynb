{
"cells": [
 {
		   "cell_type": "markdown",
	   "metadata": {},
	   "source": [
       "# Chapter 5: Properties of Steam"
	   ]
	},
{
		   "cell_type": "markdown",
		   "metadata": {},
		   "source": [
			"## Example 5.10: Availability_of_products.sce"
		   ]
		  },
  {
"cell_type": "code",
	   "execution_count": null,
	   "metadata": {
	    "collapsed": true
	   },
	   "outputs": [],
"source": [
"//Exa 5.10\n",
"clc;\n",
"clear;\n",
"close;\n",
"format('v',8);\n",
"\n",
"//Given Data :\n",
"p0=1;//bar\n",
"T0=17+273;//Kelvin\n",
"T1=1817+273;//Kelvin\n",
"Cp=1;//KJ/KgK\n",
"deltaQ=Cp*(T1-T0);//KJ/Kg\n",
"deltaS=Cp*log(T0/T1);//KJ/KgK\n",
"deltaS_fluid=-deltaS;//KJ/KgK(As deltaS_surrounding=0)\n",
"A=deltaQ-T0*deltaS_fluid;//KJ\n",
"disp(A,'Availability of hot products in KJ : ');"
   ]
   }
,
{
		   "cell_type": "markdown",
		   "metadata": {},
		   "source": [
			"## Example 5.11: Change_in_entropy.sce"
		   ]
		  },
  {
"cell_type": "code",
	   "execution_count": null,
	   "metadata": {
	    "collapsed": true
	   },
	   "outputs": [],
"source": [
"//Exa 5.11\n",
"clc;\n",
"clear;\n",
"close;\n",
"format('v',8);\n",
"\n",
"//Given Data :\n",
"T1=1200;//Kelvin\n",
"T2=400;//Kelvin\n",
"T0=300;//Kelvin\n",
"Qsource=-150;//KJ/s\n",
"Qsystem=150;//KJ/s\n",
"deltaS_source=Qsource/T1;//KJ/sK\n",
"deltaS_system=Qsystem/T2;//KJ/sK\n",
"deltaS_net=deltaS_source+deltaS_system;//KJ/sK\n",
"disp(deltaS_net,'Net change in entropy in KJ/sK : ');\n",
"A1=(T1-T0)*-deltaS_source;//KJ/s\n",
"disp(A1,'Available energy of heat source in KJ/s : ');\n",
"A2=(T2-T0)*deltaS_system;//KJ/s\n",
"disp(A2,'Available energy of system in KJ/s : ');\n",
"E_decrease=A1-A2;//KJ/s\n",
"disp(E_decrease,'Decrease in available energy in KJ/s : ');"
   ]
   }
,
{
		   "cell_type": "markdown",
		   "metadata": {},
		   "source": [
			"## Example 5.12: Mass_flow_rate_and_other_parameters.sce"
		   ]
		  },
  {
"cell_type": "code",
	   "execution_count": null,
	   "metadata": {
	    "collapsed": true
	   },
	   "outputs": [],
"source": [
"//Exa 5.12\n",
"clc;\n",
"clear;\n",
"close;\n",
"format('v',7);\n",
"\n",
"//Given Data :\n",
"Tg1=1127+273;//Kelvin\n",
"Tg2=527+273;//Kelvin\n",
"T2=250+273;//Kelvin\n",
"T0=27+273;//Kelvin\n",
"Cpg=1;//KJ/KgK\n",
"mw=5;//Kg/s\n",
"hfg=1716.2;//KJ/Kg\n",
"//mg*Cpg*(Tg1-Tg2)=mw*hfg\n",
"mg=mw*hfg/Cpg/(Tg1-Tg2);//Kg/s\n",
"disp(mg,'Mass flow rate of gases in Kg/s : ');\n",
"deltaSg=mg*Cpg*log(Tg2/Tg1);//KJ/sK\n",
"disp(deltaSg,'Entropy change of gases in KJ/sK : ');\n",
"deltaSw=mw*hfg/T2;//KJ/sK\n",
"disp(deltaSw,'Entropy change of water in KJ/sK : ');\n",
"deltaSnet=deltaSg+deltaSw;//KJ/sK\n",
"disp(deltaSnet,'Net Entropy change in KJ/sK : ');\n",
"Q1=mw*hfg;//KJ/s\n",
"Sa_sub_Sb=-deltaSg;//KJ/sK\n",
"A1=Q1-T0*(Sa_sub_Sb);//KJ/s\n",
"disp(A1,'Availability of hot gases in KJ/s : ');\n",
"A2=Q1-T0*deltaSw;//KJ/s\n",
"disp(A2,'Availability of water in KJ/s : ');\n",
"UA1=T0*(Sa_sub_Sb);//KJ/s\n",
"disp(UA1,'Unavailable energy of hot gases in KJ/s : ');\n",
"UA2=T0*deltaSw;//KJ/s\n",
"disp(UA2,'Unavailable energy of water in KJ/s : ');\n",
"E_increase=T0*deltaSnet;//KJ/s\n",
"disp(E_increase,'Increase in unavailable energy in KJ/s : ');"
   ]
   }
,
{
		   "cell_type": "markdown",
		   "metadata": {},
		   "source": [
			"## Example 5.13: Loss_of_availability.sce"
		   ]
		  },
  {
"cell_type": "code",
	   "execution_count": null,
	   "metadata": {
	    "collapsed": true
	   },
	   "outputs": [],
"source": [
"//Exa 5.13\n",
"clc;\n",
"clear;\n",
"close;\n",
"format('v',6);\n",
"\n",
"//Given Data :\n",
"mg=5;//Kg\n",
"p1=3;//bar\n",
"T1=500;//Kelvin\n",
"Q=500;//KJ\n",
"Cv=0.8;//KJ/Kg\n",
"T0=300;//Kelvin\n",
"T=1300;//Kelvin\n",
"//Q=mg*Cv*(T2-T1)\n",
"T2=Q/mg/Cv+T1;//Kelvin\n",
"A1=Q-T0*Q/T;//KJ\n",
"deltaSg=mg*Cv*log(T2/T1);//KJ/K\n",
"Ag=Q-T0*deltaSg;//KJ\n",
"Loss=A1-Ag;//KJ\n",
"disp(Loss,'Loss of Availability due to heat transfer in KJ : ');"
   ]
   }
,
{
		   "cell_type": "markdown",
		   "metadata": {},
		   "source": [
			"## Example 5.14: Loss_in_available_energy.sce"
		   ]
		  },
  {
"cell_type": "code",
	   "execution_count": null,
	   "metadata": {
	    "collapsed": true
	   },
	   "outputs": [],
"source": [
"//Exa 5.14\n",
"clc;\n",
"clear;\n",
"close;\n",
"format('v',6);\n",
"\n",
"//Given Data :\n",
"m=3;//Kg\n",
"p1=3;//bar\n",
"T1=450;//Kelvin\n",
"Q=600;//KJ\n",
"Cv=0.81;//KJ/Kg\n",
"T0=300;//Kelvin\n",
"T=1500;//Kelvin\n",
"deltaSsource=Q/T;//KJ/K\n",
"//Q=m*Cv*(T2-T1)\n",
"T2=Q/m/Cv+T1;//Kelvin\n",
"A1=Q-T0*deltaSsource;//KJ\n",
"deltaSg=m*Cv*log(T2/T1);//KJ/K\n",
"A2=Q-T0*deltaSg;//KJ\n",
"Loss=A1-A2;//KJ\n",
"disp(Loss,'Loss in available energy due to heat transfer in KJ : ');"
   ]
   }
,
{
		   "cell_type": "markdown",
		   "metadata": {},
		   "source": [
			"## Example 5.1: Available_and_unavailable_energy.sce"
		   ]
		  },
  {
"cell_type": "code",
	   "execution_count": null,
	   "metadata": {
	    "collapsed": true
	   },
	   "outputs": [],
"source": [
"//Exa 5.1\n",
"clc;\n",
"clear;\n",
"close;\n",
"format('v',7);\n",
"\n",
"//Given Data : \n",
"deltaQ=1000;//KJ\n",
"T=1073;//Kelvin\n",
"T0=20+273;//Kelvin\n",
"deltaS=deltaQ/T;//KJ/K\n",
"A=deltaQ-T0*deltaS;//KJ\n",
"disp(A,'Available energy in KJ : ');\n",
"UA=T0*deltaS;//KJ\n",
"disp(UA,'Unavailable energy in KJ : ');"
   ]
   }
,
{
		   "cell_type": "markdown",
		   "metadata": {},
		   "source": [
			"## Example 5.2: Reversible_work_and_Irreversibility.sce"
		   ]
		  },
  {
"cell_type": "code",
	   "execution_count": null,
	   "metadata": {
	    "collapsed": true
	   },
	   "outputs": [],
"source": [
"//Exa 5.2\n",
"clc;\n",
"clear;\n",
"close;\n",
"format('v',6);\n",
"\n",
"//Given Data :\n",
"m=2;//Kg\n",
"T1=300+273;//Kelvin\n",
"T2=150+273;//Kelvin\n",
"T0=20+273;//Kelvin\n",
"Cp=0.45;//KJ/KgK\n",
"deltaQ=m*Cp*(T1-T2);//KJ\n",
"deltaS=m*Cp*log(T1/T2);//KJ/K\n",
"A=deltaQ-T0*deltaS;//KJ\n",
"disp(A,'Reversible work or Available energy in KJ : ');\n",
"UA=T0*deltaS;//KJ\n",
"disp(UA,'Irreversibility in KJ : ');\n",
"//Irreversibilty is not calculated in the book and asked in the question."
   ]
   }
,
{
		   "cell_type": "markdown",
		   "metadata": {},
		   "source": [
			"## Example 5.3: Increase_in_available_energy.sce"
		   ]
		  },
  {
"cell_type": "code",
	   "execution_count": null,
	   "metadata": {
	    "collapsed": true
	   },
	   "outputs": [],
"source": [
"//Exa 5.3\n",
"clc;\n",
"clear;\n",
"close;\n",
"format('v',6);\n",
"\n",
"//Given Data :\n",
"m=5;//Kg\n",
"p=1;//bar\n",
"T0=20+273;//Kelvin\n",
"T1=23+273;//Kelvin\n",
"T2=227+273;//Kelvin\n",
"Cp=1.005;//J/KgK\n",
"deltaS=Cp*log(T1/T2);//KJ/KgK\n",
"deltaQ=Cp*(T2-T1);//KJ\n",
"A=m*(deltaQ+T0*deltaS);//KJ\n",
"disp(A,'Increase in availability due to heating in KJ : ');"
   ]
   }
,
{
		   "cell_type": "markdown",
		   "metadata": {},
		   "source": [
			"## Example 5.4: Availability_and_unavailable_energy.sce"
		   ]
		  },
  {
"cell_type": "code",
	   "execution_count": null,
	   "metadata": {
	    "collapsed": true
	   },
	   "outputs": [],
"source": [
"//Exa 5.4\n",
"clc;\n",
"clear;\n",
"close;\n",
"format('v',6);\n",
"\n",
"//Given Data :\n",
"Q1=400;//KJ\n",
"T1=1227+273;//Kelvin\n",
"T2=27+273;//Kelvin\n",
"A=Q1-T2*Q1/T1;//KJ\n",
"disp(A,'Availability of the system in KJ : ');\n",
"UA=Q1-A;//KJ\n",
"disp(UA,'Unavailable energy in KJ : ');"
   ]
   }
,
{
		   "cell_type": "markdown",
		   "metadata": {},
		   "source": [
			"## Example 5.5: Motor_Capability.sce"
		   ]
		  },
  {
"cell_type": "code",
	   "execution_count": null,
	   "metadata": {
	    "collapsed": true
	   },
	   "outputs": [],
"source": [
"//Exa 5.5\n",
"clc;\n",
"clear;\n",
"close;\n",
"format('v',6);\n",
"\n",
"//Given Data :\n",
"P=1;//KW or KJ/s\n",
"Q=6;//MJ/hr\n",
"Q=Q*1000/3600;//KJ/s\n",
"T1=26+273;//Kelvin\n",
"T2=3+273;//Kelvin\n",
"COP=T1/(T1-T2);\n",
"W=Q/COP;//KJ/s or KW\n",
"disp(W,'Work required to pump heat in KJ/s or KW : ');\n",
"disp('As P>W, required condition can be maintained.')"
   ]
   }
,
{
		   "cell_type": "markdown",
		   "metadata": {},
		   "source": [
			"## Example 5.6: Availability_of_heat_energy_and_unavailable_heat.sce"
		   ]
		  },
  {
"cell_type": "code",
	   "execution_count": null,
	   "metadata": {
	    "collapsed": true
	   },
	   "outputs": [],
"source": [
"//Exa 5.6\n",
"clc;\n",
"clear;\n",
"close;\n",
"format('v',6);\n",
"\n",
"//Given Data :\n",
"T=727+273;//Kelvin\n",
"T0=17+273;//Kelvin\n",
"deltaQ=4000;//KJ\n",
"deltaS=deltaQ/T;//KJ/K\n",
"A=deltaQ-T0*deltaS;//KJ\n",
"disp(A,'Availability of heat energy in KJ : ');\n",
"UA=T0*deltaS;//KJ\n",
"disp(UA,'Unavailable heat energy in KJ : ');"
   ]
   }
,
{
		   "cell_type": "markdown",
		   "metadata": {},
		   "source": [
			"## Example 5.7: Available_energy_added_to_the_system.sce"
		   ]
		  },
  {
"cell_type": "code",
	   "execution_count": null,
	   "metadata": {
	    "collapsed": true
	   },
	   "outputs": [],
"source": [
"//Exa 5.7\n",
"clc;\n",
"clear;\n",
"close;\n",
"format('v',7);\n",
"\n",
"//Given Data :\n",
"deltaQ=850;//KJ\n",
"T=180+273;//Kelvin\n",
"T0=22+273;//Kelvin\n",
"deltaS=deltaQ/T;//KJ/K\n",
"A=deltaQ-T0*deltaS;//KJ\n",
"disp(A,'Available energy in KJ : ');"
   ]
   }
,
{
		   "cell_type": "markdown",
		   "metadata": {},
		   "source": [
			"## Example 5.8: Available_and_unavailable_energy.sce"
		   ]
		  },
  {
"cell_type": "code",
	   "execution_count": null,
	   "metadata": {
	    "collapsed": true
	   },
	   "outputs": [],
"source": [
"//Exa 5.8\n",
"clc;\n",
"clear;\n",
"close;\n",
"format('v',7);\n",
"\n",
"//Given Data :\n",
"deltaQ=850;//KJ\n",
"T1=1400+273;//Kelvin\n",
"T2=250+273;//Kelvin\n",
"T0=20+273;//Kelvin\n",
"Q=-1000;//KJ\n",
"deltaS1=Q/T1;//KJ/K(-ve as heat leaving)\n",
"deltaS2=abs(Q)/T2;//KJ/K(+ve Q as steam receives heat)\n",
"deltaS=deltaS1+deltaS2;//KJ/K\n",
"disp('Part (i) As energy leaves the hot gases : ');\n",
"A=(T1-T0)*deltaS1;//KJ\n",
"UA=T0*deltaS1;//KJ\n",
"disp(A,'Available energy in KJ : ');\n",
"disp(UA,'Unavailable energy in KJ : ');\n",
"disp('Part (ii) As energy enters the system : ');\n",
"A=(T2-T0)*deltaS2;//KJ\n",
"UA=T0*deltaS2;//KJ\n",
"disp(A,'Available energy in KJ : ');\n",
"disp(UA,'Unavailable energy in KJ : ');"
   ]
   }
,
{
		   "cell_type": "markdown",
		   "metadata": {},
		   "source": [
			"## Example 5.9: Heat_abstracted_Availability_and_Loss_Availability.sce"
		   ]
		  },
  {
"cell_type": "code",
	   "execution_count": null,
	   "metadata": {
	    "collapsed": true
	   },
	   "outputs": [],
"source": [
"//Exa 5.9\n",
"clc;\n",
"clear;\n",
"close;\n",
"format('v',8);\n",
"\n",
"//Given Data :\n",
"deltaQ=850;//KJ\n",
"T1=523;//Kelvin\n",
"T2=873;//Kelvin\n",
"T0=288;//Kelvin\n",
"dQ_by_dT=100;//KJ/K\n",
"deltaS=integrate('100/T','T',T1,T2);//KJ/K\n",
"deltaQ=integrate('100','T',T1,T2);//KJ\n",
"disp(deltaQ,'Total heat abstracted in KJ : ');\n",
"A=deltaQ-T0*deltaS;//KJ\n",
"disp(A,'Availability in KJ : ');\n",
"Loss=deltaQ-A;//KJ\n",
"disp(Loss,'Loss of availability in KJ : ');"
   ]
   }
],
"metadata": {
		  "kernelspec": {
		   "display_name": "Scilab",
		   "language": "scilab",
		   "name": "scilab"
		  },
		  "language_info": {
		   "file_extension": ".sce",
		   "help_links": [
			{
			 "text": "MetaKernel Magics",
			 "url": "https://github.com/calysto/metakernel/blob/master/metakernel/magics/README.md"
			}
		   ],
		   "mimetype": "text/x-octave",
		   "name": "scilab",
		   "version": "0.7.1"
		  }
		 },
		 "nbformat": 4,
		 "nbformat_minor": 0
}
