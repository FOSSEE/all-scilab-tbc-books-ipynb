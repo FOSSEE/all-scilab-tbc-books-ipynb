{
"cells": [
 {
		   "cell_type": "markdown",
	   "metadata": {},
	   "source": [
       "# Chapter 1: Thermodynamics Concepts"
	   ]
	},
{
		   "cell_type": "markdown",
		   "metadata": {},
		   "source": [
			"## Example 1.10: Absolute_pressure_of_gas.sce"
		   ]
		  },
  {
"cell_type": "code",
	   "execution_count": null,
	   "metadata": {
	    "collapsed": true
	   },
	   "outputs": [],
"source": [
"//Exa 1.10\n",
"clc;\n",
"clear;\n",
"close;\n",
"format('v',9);\n",
"\n",
"//Given Data :\n",
"Patm=75;//mm of Hg\n",
"Patm=Patm*1.01325/76;//bar\n",
"rho=800;//Kg.m^3\n",
"h=30/100;//m\n",
"g=9.81;//gravity constant\n",
"deltaP=rho*g*h*10^-5;//bar\n",
"Pabs=deltaP+Patm;//bar\n",
"disp(Pabs,'Absolute pressure of gas in bar : ');"
   ]
   }
,
{
		   "cell_type": "markdown",
		   "metadata": {},
		   "source": [
			"## Example 1.11: Absolute_pressure_in_KPa.sce"
		   ]
		  },
  {
"cell_type": "code",
	   "execution_count": null,
	   "metadata": {
	    "collapsed": true
	   },
	   "outputs": [],
"source": [
"//Exa 1.11\n",
"clc;\n",
"clear;\n",
"close;\n",
"format('v',7);\n",
"\n",
"//Given Data :\n",
"h1=5.1/100;//m\n",
"h2=10/100;//m\n",
"Patm=75.5;//mm of Hg\n",
"Patm=Patm*1.01325/76*10^5;//bar\n",
"sg_k=0.8;\n",
"sg_Hg=13.6;\n",
"rho_w=1000;//Kg/m^3\n",
"g=9.81;//gravity constant\n",
"P_kerosine=sg_k*rho_w*g*h1;//N/m^2\n",
"P_Hg=sg_Hg*rho_w*g*h2;//N/m^2\n",
"Pabs=P_Hg+Patm-P_kerosine;//Nm^2\n",
"disp(Pabs/1000,'Absolute pressure of gas in KPa : ');"
   ]
   }
,
{
		   "cell_type": "markdown",
		   "metadata": {},
		   "source": [
			"## Example 1.12: Temperature_corresponding_to_Thermometric_Property.sce"
		   ]
		  },
  {
"cell_type": "code",
	   "execution_count": null,
	   "metadata": {
	    "collapsed": true
	   },
	   "outputs": [],
"source": [
"//Exa 1.12\n",
"clc;\n",
"clear;\n",
"close;\n",
"format('v',7);\n",
"\n",
"//Given Data :\n",
"t_ice=0;//degree centigrade\n",
"p_ice=1.5;\n",
"t_steam=100;//degree centigrade\n",
"p_steam=7.5;\n",
"//t=a*log(p)+b\n",
"//solving for a and b by matrix\n",
"A=[log(p_ice) 1;log(p_steam) 1];\n",
"B=[t_ice;t_steam];\n",
"X=A^-1*B;\n",
"a=X(1);\n",
"b=X(2);\n",
"p=3.5;//bar\n",
"t=a*log(p)+b;//degree C\n",
"disp(t,'Temperature scale in degree C : ');"
   ]
   }
,
{
		   "cell_type": "markdown",
		   "metadata": {},
		   "source": [
			"## Example 1.13: temperature_in_degree_C.sce"
		   ]
		  },
  {
"cell_type": "code",
	   "execution_count": null,
	   "metadata": {
	    "collapsed": true
	   },
	   "outputs": [],
"source": [
"//Exa 1.13\n",
"clc;\n",
"clear;\n",
"close;\n",
"format('v',7);\n",
"\n",
"//Given Data :\n",
"theta1_p1=273.16;//K\n",
"p_gauge1=32;//mm of Hg\n",
"p_atm=752;//mm of Hg\n",
"p_gauge2=76;//mm of Hg\n",
"P1=p_gauge1+p_atm;//mm of Hg\n",
"P2=p_gauge2+p_atm;//mm of Hg\n",
"theta2_p2=theta1_p1*(P2/P1);//in K\n",
"theta2_p2=theta2_p2-273;//degree C\n",
"disp(theta2_p2,'Temperature in degree C : ');"
   ]
   }
,
{
		   "cell_type": "markdown",
		   "metadata": {},
		   "source": [
			"## Example 1.14: Calculate_the_temperature.sce"
		   ]
		  },
  {
"cell_type": "code",
	   "execution_count": null,
	   "metadata": {
	    "collapsed": true
	   },
	   "outputs": [],
"source": [
"//Exa 1.14\n",
"clc;\n",
"clear;\n",
"close;\n",
"format('v',7);\n",
"\n",
"//Given Data :\n",
"R0=2.8;//ohm\n",
"t0=0;//degree C\n",
"R1=3.8;//ohm\n",
"t1=100;//degree C\n",
"R2=5.8;//ohm\\n",
"//R=R0*(1+alfa*t)\n",
"alfa=(R1/R0-1)/t1;\n",
"t2=(R2/R0-1)/alfa;//degree C\n",
"disp(t2,'Temperature at R2 in degree C : ');"
   ]
   }
,
{
		   "cell_type": "markdown",
		   "metadata": {},
		   "source": [
			"## Example 1.16: Temperature_of_fluid.sce"
		   ]
		  },
  {
"cell_type": "code",
	   "execution_count": null,
	   "metadata": {
	    "collapsed": true
	   },
	   "outputs": [],
"source": [
"//Exa 1.16\n",
"clc;\n",
"clear;\n",
"close;\n",
"format('v',7);\n",
"\n",
"//Given Data :\n",
"//F=2*C;\n",
"FbyC=2;\n",
"disp('(F-32)/9=C/5');\n",
"C=32/(FbyC-9/5);//degree C\n",
"F=C*FbyC;//degree F\n",
"disp(F+460,'Temperature fluid in degree R : ');\n",
"disp(C+273,'Temperature fluid in degree K : ');"
   ]
   }
,
{
		   "cell_type": "markdown",
		   "metadata": {},
		   "source": [
			"## Example 1.17: Calculate_the_temperature.sce"
		   ]
		  },
  {
"cell_type": "code",
	   "execution_count": null,
	   "metadata": {
	    "collapsed": true
	   },
	   "outputs": [],
"source": [
"//Exa 1.17\n",
"clc;\n",
"clear;\n",
"close;\n",
"format('v',7);\n",
"\n",
"//Given Data :\n",
"T1=0;//degree centigrade\n",
"K1=1.83;\n",
"T2=100;//degree centigrade\n",
"K2=6.78;\n",
"//T=a*log(K)+b\n",
"//solving for a and b by matrix\n",
"A=[log(K1) 1;log(K2) 1];\n",
"B=[T1;T2];\n",
"X=A^-1*B;\n",
"a=X(1);\n",
"b=X(2);\n",
"K=2.42;//bar\n",
"T=a*log(K)+b;//degree C\n",
"disp(T,'Temperature in degree C : ');"
   ]
   }
,
{
		   "cell_type": "markdown",
		   "metadata": {},
		   "source": [
			"## Example 1.18: Temperature.sce"
		   ]
		  },
  {
"cell_type": "code",
	   "execution_count": null,
	   "metadata": {
	    "collapsed": true
	   },
	   "outputs": [],
"source": [
"//Exa 1.18\n",
"clc;\n",
"clear;\n",
"close;\n",
"format('v',6);\n",
"\n",
"//Given Data :\n",
"//t=N/30-100/3\n",
"//t=N\n",
"N=(-100/3)/(1-1/30);//degree C\n",
"disp(N,'Temperatur at which degree C equals to degree N(degree C) : ');"
   ]
   }
,
{
		   "cell_type": "markdown",
		   "metadata": {},
		   "source": [
			"## Example 1.19: Thermometer_Reading.sce"
		   ]
		  },
  {
"cell_type": "code",
	   "execution_count": null,
	   "metadata": {
	    "collapsed": true
	   },
	   "outputs": [],
"source": [
"//Exa 1.19\n",
"clc;\n",
"clear;\n",
"close;\n",
"format('v',6);\n",
"\n",
"//Given Data :\n",
"//epsilon=0.2*t-5*10^-4*t^2;//mV\n",
"t_ice=0;//degree C\n",
"epsilon_ice=0.2*t_ice-5*10^-4*t_ice^2;//mV\n",
"t_steam=100;//degree C\n",
"epsilon_steam=0.2*t_steam-5*10^-4*t_steam^2;//mV\n",
"//At t=60;\n",
"t=60;//degree C\n",
"epsilon=0.2*t-5*10^-4*t^2;//mV\n",
"reading=(t_steam-t_ice)/(epsilon_steam-epsilon_ice)*(epsilon-epsilon_ice)\n",
"disp(reading,'Thermometer will read(degree C) : ');"
   ]
   }
,
{
		   "cell_type": "markdown",
		   "metadata": {},
		   "source": [
			"## Example 1.20: Reading_of_thermometers.sce"
		   ]
		  },
  {
"cell_type": "code",
	   "execution_count": null,
	   "metadata": {
	    "collapsed": true
	   },
	   "outputs": [],
"source": [
"//Exa 1.20\n",
"clc;\n",
"clear;\n",
"close;\n",
"format('v',7);\n",
"\n",
"//Given Data :\n",
"tA1=0;//degree centigrade\n",
"tB1=0;//degree centigrade\n",
"tA2=100;//degree centigrade\n",
"tB2=100;//degree centigrade\n",
"//tA=l+m*tB+n*tb^2\n",
"l=0;//by putting tA and tB equals to zero\n",
"//tA=m*tB+n*tB^2\n",
"//Thermometer immersed in oil bath\n",
"tA1=51;//degree centigrade\n",
"tB1=50;//degree centigrade\n",
"//solving for m and n by matrix\n",
"A=[tB1 tB1^2;tB2 tB2^2];\n",
"B=[tA1;tA2];\n",
"X=A^-1*B;\n",
"m=X(1);\n",
"n=X(2);\n",
"tA=25;//degree centigrade\n",
"P=[n m -tA];//polynomial for calculation of tB\n",
"tB=roots(P);\n",
"tB=tB(2);//neglecting +ve sign\n",
"disp(tB,'When A reads 25 degree C, B reading in degree C : ');\n",
"//let tB=25;//degree C\n",
"tB=25;//degree C\n",
"tA=l+m*tB+n*tB^2;//degree C\n",
"disp(tA,'When B reads 25 degree C, A reading in degree C : ');\n",
"disp('B is correct. A shows error greater than B.')\n",
"//Answer is not accurate in the book."
   ]
   }
,
{
		   "cell_type": "markdown",
		   "metadata": {},
		   "source": [
			"## Example 1.21: Specific_Volume_and_Density.sce"
		   ]
		  },
  {
"cell_type": "code",
	   "execution_count": null,
	   "metadata": {
	    "collapsed": true
	   },
	   "outputs": [],
"source": [
"//Exa 1.21\n",
"clc;\n",
"clear;\n",
"close;\n",
"format('v',7);\n",
"\n",
"//Given Data :\n",
"p=10;//bar\n",
"T=327+273;//K\n",
"M=42.4;\n",
"m=1;//Kg\n",
"Rdegree=8314.3;//Nm/KgK\n",
"R=Rdegree/M;//Nm/KgK\n",
"V=m*R*T/p/10^5;//m^3/Kg\n",
"disp(V,'Specific volume in m^3/Kg ; ');\n",
"rho=m/V;//Kg/m^3\n",
"disp(rho,'Density of gas in Kg/m^3 : ');"
   ]
   }
,
{
		   "cell_type": "markdown",
		   "metadata": {},
		   "source": [
			"## Example 1.22: Mass_of_oxygen_used.sce"
		   ]
		  },
  {
"cell_type": "code",
	   "execution_count": null,
	   "metadata": {
	    "collapsed": true
	   },
	   "outputs": [],
"source": [
"//Exa 1.22\n",
"clc;\n",
"clear;\n",
"close;\n",
"format('v',6);\n",
"\n",
"//Given Data :\n",
"Rdegree=8314.3;//Universal Gas Constant\n",
"M=32;//Molecular weight of gas\n",
"p1=3*10^6;//N/m^2\n",
"V1=250*10^-3;//m^3\n",
"T1=20+273;//K\n",
"p2=1.8*10^6;//N/m^2\n",
"V2=V1;//m^3\n",
"T2=16+273;//K\n",
"R=Rdegree/M;//Nm/KgK\n",
"m1=p1*V1/R/T1;//Kg\n",
"m2=p2*V2/R/T2;//Kg\n",
"mass_used=m1-m2;//Kg\n",
"disp(mass_used,'Mass of oxygen used in Kg : ');"
   ]
   }
,
{
		   "cell_type": "markdown",
		   "metadata": {},
		   "source": [
			"## Example 1.23: Mass_and_No_of_moles_of_air.sce"
		   ]
		  },
  {
"cell_type": "code",
	   "execution_count": null,
	   "metadata": {
	    "collapsed": true
	   },
	   "outputs": [],
"source": [
"//Exa 1.23\n",
"clc;\n",
"clear;\n",
"close;\n",
"format('v',8);\n",
"\n",
"//Given Data :\n",
"Rdegree=8314.3;//Universal Gas Constant\n",
"r=12;//meter\n",
"Patm=75;//cm of Hg\n",
"Patm=Patm/76*1.01325*10^5;//N/m^2\n",
"V=4/3*%pi*r^3;//m^3\n",
"M_air=28.97;\n",
"M_H2=2\n",
"Tair=18+273;//K\n",
"g=9.81;//gravity constant\n",
"Rair=Rdegree/M_air;//Nm/KgK\n",
"RH2=Rdegree/M_H2;//Nm/KgK\n",
"//p*V=m*R*T\n",
"m_air=Patm*V/Rair/Tair;//Kg\n",
"disp(m_air,'Mass of air in kg : ');\n",
"n_air=m_air/M_air;//moles\n",
"disp(n_air,'No. of moles : ');\n",
"m_H2=n_air*M_H2;//Kg\n",
"disp(m_H2,'Mass of H2 in kg : ');\n",
"Load=g*(m_air-m_H2);//N\n",
"disp(Load,'Load balloon can lift in N ; ');"
   ]
   }
,
{
		   "cell_type": "markdown",
		   "metadata": {},
		   "source": [
			"## Example 1.24: Mass_of_air.sce"
		   ]
		  },
  {
"cell_type": "code",
	   "execution_count": null,
	   "metadata": {
	    "collapsed": true
	   },
	   "outputs": [],
"source": [
"//Exa 1.24\n",
"clc;\n",
"clear;\n",
"close;\n",
"format('v',6);\n",
"\n",
"//Given Data :\n",
"p1=1;//bar\n",
"p2=0.45;//bar\n",
"R=287;//KJ/KgK\n",
"V=40;//m^3\n",
"V1=40;//m^3\n",
"V2=40;//m^3\n",
"T1=35+273;//K\n",
"T2=5+273;//K\n",
"m=p1*10^5*V1/R/T1-p2*10^5*V2/R/T2\n",
"disp(m,'Mass of air removed in Kg : ');"
   ]
   }
,
{
		   "cell_type": "markdown",
		   "metadata": {},
		   "source": [
			"## Example 1.26: Specific_heat_of_metal.sce"
		   ]
		  },
  {
"cell_type": "code",
	   "execution_count": null,
	   "metadata": {
	    "collapsed": true
	   },
	   "outputs": [],
"source": [
"//Exa 1.26\n",
"clc;\n",
"clear;\n",
"close;\n",
"format('v',6);\n",
"\n",
"//Given Data :\n",
"m=1;//Kg\n",
"t=80;//degree C\n",
"mw=10;//Kg\n",
"t1=25;//degree C\n",
"delta_t=5;//degree C\n",
"t2=delta_t+t1;//degree C\n",
"Sw=4.187;//Kj/KgK\n",
"//m*S*(t-t2)=mw*Sw*(t2-t1)\n",
"S=mw*Sw*(t2-t1)/m/(t-t2);//Kj/KgK\n",
"disp(S,'Specific heat of metal in KJ/KgK :  ');"
   ]
   }
,
{
		   "cell_type": "markdown",
		   "metadata": {},
		   "source": [
			"## Example 1.27: Time_required_for_cooling.sce"
		   ]
		  },
  {
"cell_type": "code",
	   "execution_count": null,
	   "metadata": {
	    "collapsed": true
	   },
	   "outputs": [],
"source": [
"//Exa 1.27\n",
"clc;\n",
"clear;\n",
"close;\n",
"format('v',6);\n",
"\n",
"//Given Data :\n",
"m=500;//Kg\n",
"t1=45;//degree C\n",
"t0=5;//degree C\n",
"CP=4.18;//KJ/Kg-degree C\n",
"Qdot=41.87;//MJ/hr\n",
"Q=m*CP*(t1-t0);//KJ\n",
"Q=Q/1000;//MJ\n",
"Time=Q/Qdot;//hrs\n",
"disp(Time,'Time required in hours : ');"
   ]
   }
,
{
		   "cell_type": "markdown",
		   "metadata": {},
		   "source": [
			"## Example 1.28: Amount_of_work_will_be_done.sce"
		   ]
		  },
  {
"cell_type": "code",
	   "execution_count": null,
	   "metadata": {
	    "collapsed": true
	   },
	   "outputs": [],
"source": [
"//Exa 1.28\n",
"clc;\n",
"clear;\n",
"close;\n",
"format('v',7);\n",
"\n",
"//Given Data :\n",
"V1=2;//m^3\n",
"V2=4;//m^3\n",
"W=integrate('10^5*(V^2+6*V)','V',V1,V2);//Nm or J\n",
"W=W/1000;//KJ\n",
"disp(W,'Work done in KJ : ');"
   ]
   }
,
{
		   "cell_type": "markdown",
		   "metadata": {},
		   "source": [
			"## Example 1.29: Workk_done_by_the_fluid.sce"
		   ]
		  },
  {
"cell_type": "code",
	   "execution_count": null,
	   "metadata": {
	    "collapsed": true
	   },
	   "outputs": [],
"source": [
"//Exa 1.29\n",
"clc;\n",
"clear;\n",
"close;\n",
"format('v',7);\n",
"\n",
"//Given Data :\n",
"p1=3;//bar\n",
"V1=0.18;//m^3/Kg\n",
"p2=0.6;//bar\n",
"C=p1*10^5*V1^2;//Nm\n",
"V2=sqrt((p1/p2)*V1^2);//m^3Kg\n",
"W=integrate('C/V^2','V',V1,V2);//Nm/Kg\n",
"W=W/1000;//KJ/Kg\n",
"disp(W,'Work done in KJ/Kg : ');"
   ]
   }
,
{
		   "cell_type": "markdown",
		   "metadata": {},
		   "source": [
			"## Example 1.30: Final_Pressure_and_Volume.sce"
		   ]
		  },
  {
"cell_type": "code",
	   "execution_count": null,
	   "metadata": {
	    "collapsed": true
	   },
	   "outputs": [],
"source": [
"//Exa 1.30\n",
"clc;\n",
"clear;\n",
"close;\n",
"format('v',7);\n",
"\n",
"//Given Data :\n",
"W=160;//kJ\n",
"W=W*1000;//J\n",
"V1=800;//litres\n",
"V1=V1/1000;//m^3\n",
"//p=7-3*V\n",
"//[7*(V2-V1)-1.5*(V2^2-V1^2)]-W/10^5=0;//Nm or J\n",
"//7*V2-7*V1-1.5*V2^2+1.5*V1^2-W/10^5;//Nm or J\n",
"//P=[-10^5*1.5 10^5*7 -10^5*7*V1+10^5*1.5*V1^2-W]\n",
"P=[-1.5 7 -7*V1+1.5*V1^2-W/10^5];\n",
"V2=roots(P);//m^3\n",
"V2=V2(2);//(V2(1) gives -ve value which is not possible)\n",
"disp(V2,'Final Volume in m^3 : ');\n",
"P2=7-3*V2;//bar\n",
"disp(P2,'Final Pressure in bar : ');\n",
"//Answer is wrong in the book as calculation is wrong for V2."
   ]
   }
,
{
		   "cell_type": "markdown",
		   "metadata": {},
		   "source": [
			"## Example 1.31: Work_done_by_the_system.sce"
		   ]
		  },
  {
"cell_type": "code",
	   "execution_count": null,
	   "metadata": {
	    "collapsed": true
	   },
	   "outputs": [],
"source": [
"//Exa 1.31\n",
"clc;\n",
"clear;\n",
"close;\n",
"format('v',7);\n",
"\n",
"//Given Data :\n",
"p0=1;//bar\n",
"p0=p0*10^5;//N/m^2\n",
"V1=0;//m^3\n",
"V2=0.7;//m^3\n",
"//No p.dV work for cylinder as boundaries are \n",
"W=p0*integrate('1','V',V1,V2);\n",
"W=W/1000;//KJ/Kg\n",
"disp(W,'Workdone by the system  in KJ : ');"
   ]
   }
,
{
		   "cell_type": "markdown",
		   "metadata": {},
		   "source": [
			"## Example 1.32: Work_done_by_the_air.sce"
		   ]
		  },
  {
"cell_type": "code",
	   "execution_count": null,
	   "metadata": {
	    "collapsed": true
	   },
	   "outputs": [],
"source": [
"//Exa 1.32\n",
"clc;\n",
"clear;\n",
"close;\n",
"format('v',7);\n",
"\n",
"//Given Data :\n",
"p0=101.3;//KPa\n",
"V1=1.2;//m^3\n",
"V2=0;//m^3\n",
"//No p.dV work by rigid boundary\n",
"W=p0*integrate('1','V',V1,V2);\n",
"disp(W,'Workdone by the air  in KJ : ');"
   ]
   }
,
{
		   "cell_type": "markdown",
		   "metadata": {},
		   "source": [
			"## Example 1.33: Change_in_enthalpy_and_internal_energy.sce"
		   ]
		  },
  {
"cell_type": "code",
	   "execution_count": null,
	   "metadata": {
	    "collapsed": true
	   },
	   "outputs": [],
"source": [
"//Exa 1.33\n",
"clc;\n",
"clear;\n",
"close;\n",
"format('v',9);\n",
"\n",
"//Given Data :\n",
"T1=300;//K\n",
"T2=2300;//K\n",
"Gamma=1.5;\n",
"m=1;//Kg\n",
"//Cp=0.85+0.0004*T+50*10^-5*T^2\n",
"H2subH1=integrate('m*(0.85+0.00004*T+5*10^-5*T^2)','T',T1,T2);//KJ/Kg\n",
"disp(H2subH1,'Change in enthalpy in KJ/Kg : ');\n",
"U2subU1=integrate('m*(0.85+0.00004*T+5*10^-5*T^2)/Gamma','T',T1,T2);//KJ/Kg\n",
"disp(U2subU1,'Change in internal energy in KJ : ');"
   ]
   }
,
{
		   "cell_type": "markdown",
		   "metadata": {},
		   "source": [
			"## Example 1.34: Pressure_of_O2.sce"
		   ]
		  },
  {
"cell_type": "code",
	   "execution_count": null,
	   "metadata": {
	    "collapsed": true
	   },
	   "outputs": [],
"source": [
"//Exa 1.34\n",
"clc;\n",
"clear;\n",
"close;\n",
"format('v',9);\n",
"\n",
"//Given Data :\n",
"m=1;//Kg\n",
"v=1;//m^3\n",
"T=127+273;//K\n",
"a=138;//KNm^4/(Kgmol)^2\n",
"a=a*10^3;//Nm^4/(Kgmol)^2\n",
"M_O2=32;//\n",
"vm=v*M_O2;//m^3/Kgmol\n",
"//p*v=n*R*T\n",
"n=1;\n",
"R=8314.3;//gas constant\n",
"p=n*R*T/vm;//N/m^2\n",
"disp(p,'Pressure using perfect gas equation in N/m^2 : ');\n",
"//[p+a/vm^2]*[vm-b]=R*T\n",
"b=0.0318;\n",
"p=R*T/(vm-b)-a/vm^2;//N/m^2\n",
"disp(p,'Pressure using Vander Walls equation in N/m^2 : ');"
   ]
   }
,
{
		   "cell_type": "markdown",
		   "metadata": {},
		   "source": [
			"## Example 1.35: Pressure_exerted_by_CO2.sce"
		   ]
		  },
  {
"cell_type": "code",
	   "execution_count": null,
	   "metadata": {
	    "collapsed": true
	   },
	   "outputs": [],
"source": [
"//Exa 1.35\n",
"clc;\n",
"clear;\n",
"close;\n",
"format('v',7);\n",
"\n",
"//Given Data :\n",
"m=22;//Kg\n",
"T=300;//K\n",
"V=5;//m^3\n",
"M=44;//Kg/Kgmol\n",
"a=362.9;//KNm^4/Kgmol^2\n",
"b=0.0314;//m^3/Kgmol\n",
"Rdash=8314.3;//gas constant\n",
"R=Rdash/M;//Nm/KgK\n",
"p=m*R*T/V;//Pa\n",
"p=p/10^5;//bar\n",
"disp(p,'Pressure, when gas behaves like a perfect gas in bar : ');\n",
"Vdash=V/m*M;//m^3/Kgmole\n",
"//[p+a/vm^2]*[vm-b]=R*T\n",
"p=Rdash*T/(Vdash-b)-a*10^3/Vdash^2;//N/m^2\n",
"disp(p/10^5,'Pressure using Vander Walls equation in bar : ');"
   ]
   }
,
{
		   "cell_type": "markdown",
		   "metadata": {},
		   "source": [
			"## Example 1.36: Pressure_exerted_by_air.sce"
		   ]
		  },
  {
"cell_type": "code",
	   "execution_count": null,
	   "metadata": {
	    "collapsed": true
	   },
	   "outputs": [],
"source": [
"//Exa 1.36\n",
"clc;\n",
"clear;\n",
"close;\n",
"format('v',7);\n",
"\n",
"//Given Data :\n",
"pc=37.7;//bar\n",
"Tc=132.5;//K\n",
"vc=0.093;//m^3Kgmol\n",
"R=287;//Nm/KgK\n",
"m=10;//Kg\n",
"T=300;//K\n",
"V=0.3;//m^3\n",
"a=27*R^2*Tc^2/64/pc/10^5;\n",
"b=R*Tc/8/pc/10^5;//\n",
"//(p+a/V^2)*(V-b)=R*T\n",
"p=R*T/(V-b)-a/V^2;//N/m^2\n",
"p=p/10^5;//bar\n",
"disp(p,'Pressure exerted by air in bar : ');"
   ]
   }
,
{
		   "cell_type": "markdown",
		   "metadata": {},
		   "source": [
			"## Example 1.37: Determine_specific_Volume.sce"
		   ]
		  },
  {
"cell_type": "code",
	   "execution_count": null,
	   "metadata": {
	    "collapsed": true
	   },
	   "outputs": [],
"source": [
"//Exa 1.37\n",
"clc;\n",
"clear;\n",
"close;\n",
"format('v',8);\n",
"\n",
"//Given Data :\n",
"pc=221.2;//bar\n",
"Tc=374.15+273;//K\n",
"p=100;//bar\n",
"T=400+273;//K\n",
"R=462;//Nm/KgK\n",
"//p*v=R*T\n",
"v=R*T/p/10^5;//m^3/Kg\n",
"disp(v,'Specific volume, v by perfect gas equation in m^3/Kg : ');\n",
"pr=p/pc;\n",
"Tr=T/Tc;\n",
"Z=0.84;//From compressibility chart\n",
"v=Z*R*T/p/10^5\n",
"disp(v,'Specific volume, v by compressibility chart in m^3/Kg : ');"
   ]
   }
,
{
		   "cell_type": "markdown",
		   "metadata": {},
		   "source": [
			"## Example 1.38: Pressure_and_Temperature_of_Gas.sce"
		   ]
		  },
  {
"cell_type": "code",
	   "execution_count": null,
	   "metadata": {
	    "collapsed": true
	   },
	   "outputs": [],
"source": [
"//Exa 1.38\n",
"clc;\n",
"clear;\n",
"close;\n",
"format('v',8);\n",
"\n",
"//Given Data :\n",
"pr=5;\n",
"Z=0.8;\n",
"pc=46.4;//bar\n",
"Tc=191.1;//K\n",
"Tr=1.44;//\n",
"p=pr*pc;//bar\n",
"disp(p,'Pressure in bar : ');\n",
"T=Tr*Tc;//K\n",
"disp(T,'Temperature in K : ');"
   ]
   }
,
{
		   "cell_type": "markdown",
		   "metadata": {},
		   "source": [
			"## Example 1.39: Temperature_of_cylinder.sce"
		   ]
		  },
  {
"cell_type": "code",
	   "execution_count": null,
	   "metadata": {
	    "collapsed": true
	   },
	   "outputs": [],
"source": [
"//Exa 1.39\n",
"clc;\n",
"clear;\n",
"close;\n",
"format('v',7);\n",
"\n",
"//Given Data :\n",
"V=0.01653;//m^3\n",
"m=5.6;//Kg\n",
"M=28;//Kg/Kgmol\n",
"p=200;//bar\n",
"Z=0.605;\n",
"Rdash=8314.3;//J/Kgk\n",
"R=Rdash/M;//J/Kgk\n",
"//p*V=m*Z*R*T\n",
"T=p*10^5*V/m/Z/R;//K\n",
"disp(T,'Temperature in K : ');"
   ]
   }
,
{
		   "cell_type": "markdown",
		   "metadata": {},
		   "source": [
			"## Example 1.40: Partial_Pressure_of_each_constituent.sce"
		   ]
		  },
  {
"cell_type": "code",
	   "execution_count": null,
	   "metadata": {
	    "collapsed": true
	   },
	   "outputs": [],
"source": [
"//Exa 1.40\n",
"clc;\n",
"clear;\n",
"close;\n",
"format('v',7);\n",
"\n",
"//Given Data :\n",
"mCO=0.45;//Kg\n",
"mAir=1;//Kg\n",
"V=0.4;//m^3\n",
"T=15+273;//K\n",
"MCO=28;//Kg/Kgmo\n",
"MO2=32;//Kg/Kgmol\n",
"MN2=28;//Kg/Kgmol\n",
"mO2=23.3/100*mAir;//Kg\n",
"mN2=76.7/100*mAir;//Kg\n",
"Rdash=8314.3;//J/Kgk\n",
"//p*V=m*Z*R*T\n",
"pCO=mCO*Rdash/MCO*T/V/10^5;//bar\n",
"pO2=mO2*Rdash/MO2*T/V/10^5;//bar\n",
"pN2=mN2*Rdash/MN2*T/V/10^5;//bar\n",
"disp(pCO,'Pressure of CO in bar : ');\n",
"disp(pO2,'Pressure of O2 in bar : ');\n",
"disp(pN2,'Pressure of N2 in bar : ');\n",
"p=pCO+pO2+pN2;//bar\n",
"disp(p,'Total pressure in vessel in bar : ');"
   ]
   }
,
{
		   "cell_type": "markdown",
		   "metadata": {},
		   "source": [
			"## Example 1.41: Partial_pressure_of_each_gas.sce"
		   ]
		  },
  {
"cell_type": "code",
	   "execution_count": null,
	   "metadata": {
	    "collapsed": true
	   },
	   "outputs": [],
"source": [
"//Exa 1.41\n",
"clc;\n",
"clear;\n",
"close;\n",
"format('v',7);\n",
"\n",
"//Given Data :\n",
"ma=0.4;//Kg\n",
"mb=0.8;//Kg\n",
"Ma=44;\n",
"Mb=29;\n",
"V=0.4;//m^3\n",
"T=300;//K\n",
"Rdash=8314.3;//J/Kgk\n",
"Ra=Rdash/Ma;//Nm/KgK\n",
"Rb=Rdash/Mb;//Nm/KgK\n",
"na=ma/Ma;//moles\n",
"nb=mb/Mb;//moles\n",
"//p*V=n*R*T\n",
"pa=na*Rdash/1000*T/V;//bar\n",
"pb=nb*Rdash/1000*T/V;//bar\n",
"disp(pa,'Pressure of container A in KPa : ');\n",
"disp(pb,'Pressure of container B in KPa : ');\n",
"p=pa+pb;//Kpa\n",
"disp(p,'Pressure of mixture in KPa : ');\n",
"//Ans of Pb is wrong in the book."
   ]
   }
,
{
		   "cell_type": "markdown",
		   "metadata": {},
		   "source": [
			"## Example 1.42: Gas_Constant_Molecular_weight.sce"
		   ]
		  },
  {
"cell_type": "code",
	   "execution_count": null,
	   "metadata": {
	    "collapsed": true
	   },
	   "outputs": [],
"source": [
"//Exa 1.42\n",
"clc;\n",
"clear;\n",
"close;\n",
"format('v',8);\n",
"\n",
"//Given Data :\n",
"Rdash=8314.3;//J/Kgk\n",
"mO2=23.15/100;\n",
"mN2=75.52/100;\n",
"mArgon=1.29/100;\n",
"mCO2=0.04/100;\n",
"MO2=32;\n",
"MN2=28;\n",
"MArgon=40;\n",
"MCO2=44;\n",
"RO2=Rdash/MO2;//J/KgK\n",
"RN2=Rdash/MN2;//J/KgK\n",
"RArgon=Rdash/MArgon;//J/KgK\n",
"RCO2=Rdash/MCO2;//J/KgK\n",
"R=(mO2*RO2+mN2*RN2+RArgon*mArgon+RCO2*mCO2)/(mO2+mN2+mArgon+mCO2);//J/KgK\n",
"disp(R,'Characteristic gas constant for air in J/KgK : ');\n",
"M=Rdash/R;//Kg/Kgmol\n",
"disp(M,'Molecular weight of air in Kg/Kgmol : ');\n",
"p=1.013;//bar\n",
"nO2=mO2/MO2;//moles\n",
"nCO2=mCO2/MCO2;//moles\n",
"nN2=mN2/MN2;//moles\n",
"nArgon=mArgon/MArgon;//moles\n",
"n=nO2+nN2+nArgon+nCO2;\n",
"pO2=nO2/n*p;//bar\n",
"pN2=nN2/n*p;//bar\n",
"pArgon=nArgon/n*p;//bar\n",
"pCO2=nCO2/n*p;//bar\n",
"disp(pO2,'Pressure of O2 in bar : ');\n",
"disp(pN2,'Pressure of N2 in bar : ');\n",
"disp(pArgon,'Pressure of Argon in bar : ');\n",
"disp(pCO2,'Pressure of CO2 in bar : ');\n",
"\n",
"\n",
""
   ]
   }
,
{
		   "cell_type": "markdown",
		   "metadata": {},
		   "source": [
			"## Example 1.43: Molecular_mass_Gas_constant_Pressure.sce"
		   ]
		  },
  {
"cell_type": "code",
	   "execution_count": null,
	   "metadata": {
	    "collapsed": true
	   },
	   "outputs": [],
"source": [
"//Exa 1.43\n",
"clc;\n",
"clear;\n",
"close;\n",
"format('v',7);\n",
"\n",
"//Given Data :\n",
"yO2=0.3;\n",
"yN2=0.5;\n",
"yCO2=0.2;\n",
"V=1;//m^3\n",
"T=27+273;//K\n",
"m=8;//Kg\n",
"MO2=32;\n",
"MN2=28;\n",
"MCO2=44;\n",
"M=1/(yO2/MO2+yN2/MN2+yCO2/MCO2);//Kg/Kgmol\n",
"disp(M,'Molecular mass for mixture in Kg/Kgmol : ');\n",
"Rdash=8314.3;//J/Kgk\n",
"R=Rdash/M;//Nm/KgK\n",
"disp(R,'Gas constant R of mixture in Nm/KgK : ');\n",
"p=m*R*T/V/10^5;//bar\n",
"disp(p,'Pressure exerted by gases in bar : ');\n",
"nO2=yO2/MO2*m;//moles\n",
"nCO2=yCO2/MCO2*m;//moles\n",
"nN2=yN2/MN2*m;//moles\n",
"disp(nO2,'Mole fraction of O2(moles) : ');\n",
"disp(nN2,'Mole fraction of N2(moles) : ');\n",
"disp(nCO2,'Mole fraction of CO2(moles) : ');"
   ]
   }
,
{
		   "cell_type": "markdown",
		   "metadata": {},
		   "source": [
			"## Example 1.44: Specific_heats_of_gases.sce"
		   ]
		  },
  {
"cell_type": "code",
	   "execution_count": null,
	   "metadata": {
	    "collapsed": true
	   },
	   "outputs": [],
"source": [
"//Exa 1.44\n",
"clc;\n",
"clear;\n",
"close;\n",
"format('v',7);\n",
"\n",
"//Given Data :\n",
"mN2=4;//Kg\n",
"mO2=2.4;//Kg\n",
"mCO2=1.6;//Kg\n",
"MO2=32;\n",
"MN2=28;\n",
"MCO2=44;\n",
"Gamma=1.4;\n",
"//Rdash=Cpdash*(1-1/Gamma)\n",
"Rdash=8.3143;//J/KgK\n",
"Cpdash=Rdash*Gamma/(Gamma-1);//KJ/KgmolK\n",
"Cvdash=Cpdash/Gamma;//KJ/KgmolK\n",
"CpO2=Cpdash/MO2;//KJ/KgmolK\n",
"CpN2=Cpdash/MN2;//KJ/KgmolK\n",
"CpCO2=Cpdash/MCO2;//KJ/KgmolK\n",
"CvO2=Cvdash/MO2;//KJ/Kg\n",
"CvN2=Cvdash/MN2;//KJ/Kg\n",
"CvCO2=Cvdash/MCO2;//KJ/Kg\n",
"disp('Specific heat of gases : ');\n",
"disp('For N2, Cp is '+string(CpN2)+' KJ/Kg & Cv is '+string(CvN2)+' KJ/Kg.');\n",
"disp('For O2, Cp is '+string(CpO2)+' KJ/Kg & Cv is '+string(CvO2)+' KJ/Kg.');\n",
"disp('For CO2, Cp is '+string(CpCO2)+' KJ/Kg & Cv is '+string(CvCO2)+' KJ/Kg.');\n",
"Cp=(mO2*CpO2+mN2*CpN2+mCO2*CpCO2)/(mO2+mN2+mCO2);//KJ/KgK\n",
"disp(Cp,'Specific heat of mixture, Cp in KJ/KgK : ');\n",
"Cv=(mO2*CvO2+mN2*CvN2+mCO2*CvCO2)/(mO2+mN2+mCO2);//KJ/KgK\n",
"disp(Cv,'Specific heat of mixture, Cv in KJ/KgK : ');"
   ]
   }
,
{
		   "cell_type": "markdown",
		   "metadata": {},
		   "source": [
			"## Example 1.4: Kinetic_and_Potential_Energy.sce"
		   ]
		  },
  {
"cell_type": "code",
	   "execution_count": null,
	   "metadata": {
	    "collapsed": true
	   },
	   "outputs": [],
"source": [
"//Exa 1.4\n",
"clc;\n",
"clear;\n",
"close;\n",
"format('v',9);\n",
"\n",
"//Given Data :\n",
"m=500;//Kg\n",
"g=7.925;//m/s^2\n",
"Z=40;//Km\n",
"C=2400;//Kmph\n",
"PE=m*g*Z*1000;//Nm\n",
"disp('Relative to earth.');\n",
"disp(PE,'Potential Energy in Nm : ');\n",
"KE=m*(C*1000/3600)^2/2;//Nm\n",
"disp(KE,'Kinetic Energy in Nm : ');\n",
"disp('Relative to moon.');\n",
"w=2.94*m;//Nm\n",
"PE=w*Z*1000;//Nm\n",
"disp(PE,'Potential Energy in Nm : ');\n",
"KE=m*(C*1000/3600)^2/2;//Nm\n",
"disp(KE,'Kinetic Energy in Nm : ');"
   ]
   }
,
{
		   "cell_type": "markdown",
		   "metadata": {},
		   "source": [
			"## Example 1.5: Absolute_Pressure.sce"
		   ]
		  },
  {
"cell_type": "code",
	   "execution_count": null,
	   "metadata": {
	    "collapsed": true
	   },
	   "outputs": [],
"source": [
"//Exa 1.5\n",
"clc;\n",
"clear;\n",
"close;\n",
"format('v',7);\n",
"\n",
"//Given Data :\n",
"VGR=57;//KN/m^2\n",
"Patm=765;//mm of Hg\n",
"//101.325KN/m^2=760 mm of Hg\n",
"VGR=VGR*760/101.325;//mm og Hg\n",
"Pabs=Patm-VGR;//mm of Hg\n",
"disp(Pabs,'Absolute pressure in mm of Hg : ');"
   ]
   }
,
{
		   "cell_type": "markdown",
		   "metadata": {},
		   "source": [
			"## Example 1.6: Determine_the_pressure.sce"
		   ]
		  },
  {
"cell_type": "code",
	   "execution_count": null,
	   "metadata": {
	    "collapsed": true
	   },
	   "outputs": [],
"source": [
"//Exa 1.6\n",
"clc;\n",
"clear;\n",
"close;\n",
"format('v',8);\n",
"\n",
"//Given Data :\n",
"g=9.81;//m/s^2\n",
"rho_o=0.825*10^3;//Kg/m^3\n",
"rho_w=1*10^3;//Kg/m^3\n",
"rho_Hg=13.45*10^3;//Kg/m^3\n",
"h_o=50/100;//m\n",
"h_w=65/100;//m\n",
"h_Hg=45/100;//m\n",
"Patm=1.01325;//bar\n",
"P_Hg=rho_Hg*g*h_Hg;//N/m^2\n",
"P_w=rho_w*g*h_w;//N/m^2\n",
"P_o=rho_o*g*h_o;//N/m^2\n",
"Pbase=(Patm*10^5+P_Hg+P_o+P_w);//N/m^2\n",
"disp(Pbase,'Pressure at the base of column in N/m^2 : ');\n",
"P_OilWater=Patm*10^5+P_o;//N/m^2\n",
"disp(P_OilWater,'Pressure at the oil-water surface in N/m^2 : ');\n",
"P_WaterMercury=Patm*10^5+P_o+P_w;//N/m^2\n",
"disp(P_WaterMercury,'Pressure at the water-mercury surface in N/m^2 : ');\n",
"//Answer in the book is not accurate."
   ]
   }
,
{
		   "cell_type": "markdown",
		   "metadata": {},
		   "source": [
			"## Example 1.7: Water_level_and_mass_change.sce"
		   ]
		  },
  {
"cell_type": "code",
	   "execution_count": null,
	   "metadata": {
	    "collapsed": true
	   },
	   "outputs": [],
"source": [
"//Exa 1.7\n",
"clc;\n",
"clear;\n",
"close;\n",
"format('v',7);\n",
"\n",
"//Given Data :\n",
"rho=1000;//Kg/m^3\n",
"d=0.3;//m\n",
"C=1.5;//m/s\n",
"h=4.5;//m\n",
"FlowRate=2000;//Kg/min\n",
"d2=15/100;//diameter of discharging line in meter\n",
"t=15;//min\n",
"r=3;//m\n",
"WaterDischarge=rho*%pi/4*(d/2)^2*C*t*60;//Kg\n",
"WaterReceived=FlowRate*t;//Kg\n",
"NetWaterReceived=WaterReceived-WaterDischarge;//Kg\n",
"disp(NetWaterReceived,'Mass change in tank in Kg : ');\n",
"//m=rho*A*h\n",
"h=NetWaterReceived/rho/(%pi/4*r^2);//m\n",
"disp(h,'Water level in meter : ');"
   ]
   }
,
{
		   "cell_type": "markdown",
		   "metadata": {},
		   "source": [
			"## Example 1.8: Absolute_pressure_of_steam.sce"
		   ]
		  },
  {
"cell_type": "code",
	   "execution_count": null,
	   "metadata": {
	    "collapsed": true
	   },
	   "outputs": [],
"source": [
"//Exa 1.8\n",
"clc;\n",
"clear;\n",
"close;\n",
"format('v',7);\n",
"\n",
"//Given Data :\n",
"Pmercury=10;//cm of Hg\n",
"Patm=76;//cm of Hg\n",
"Pwater=3.5/13.6;//cm of Hg\n",
"Pabs=Pmercury+Patm-Pwater;//cm of Hg\n",
"Pabs=Pabs/76*1.01325;//bar\n",
"disp(Pabs,'Absolute pressure of steam in bar : ');"
   ]
   }
,
{
		   "cell_type": "markdown",
		   "metadata": {},
		   "source": [
			"## Example 1.9: Height_of_fluid.sce"
		   ]
		  },
  {
"cell_type": "code",
	   "execution_count": null,
	   "metadata": {
	    "collapsed": true
	   },
	   "outputs": [],
"source": [
"//Exa 1.9\n",
"clc;\n",
"clear;\n",
"close;\n",
"format('v',7);\n",
"\n",
"//Given Data :\n",
"Pmercury=10;//cm of Hg\n",
"Patm=760;//mm of Hg\n",
"Patm=1.01325;//bar\n",
"Pabs=1.2;//bar\n",
"sg_oil=0.8;\n",
"sg_water=13.6;\n",
"sg_mercury=13.6;\n",
"rho_w=1000;//Kg.m^3\n",
"g=9.81;//gravity constant\n",
"deltaP=Pabs-Patm;//bar\n",
"deltaP=deltaP*10^5;//N/m^2\n",
"//deltaP=rho_o*g*h_o\n",
"rho_o=sg_oil*rho_w;//kg/m^3\n",
"h_o=deltaP/rho_o/g;//m\n",
"disp(h_o,'Height of fluid in oil manometer in meter : ');\n",
"h_w=deltaP/rho_w/g;//m\n",
"disp(h_w,'Height of fluid in water manometer in meter : ');\n",
"rho_m=sg_mercury*rho_w;//kg/m^3\n",
"h_m=deltaP/rho_m/g;//m\n",
"disp(h_m,'Height of fluid in mercury manometer in meter : ');"
   ]
   }
],
"metadata": {
		  "kernelspec": {
		   "display_name": "Scilab",
		   "language": "scilab",
		   "name": "scilab"
		  },
		  "language_info": {
		   "file_extension": ".sce",
		   "help_links": [
			{
			 "text": "MetaKernel Magics",
			 "url": "https://github.com/calysto/metakernel/blob/master/metakernel/magics/README.md"
			}
		   ],
		   "mimetype": "text/x-octave",
		   "name": "scilab",
		   "version": "0.7.1"
		  }
		 },
		 "nbformat": 4,
		 "nbformat_minor": 0
}
