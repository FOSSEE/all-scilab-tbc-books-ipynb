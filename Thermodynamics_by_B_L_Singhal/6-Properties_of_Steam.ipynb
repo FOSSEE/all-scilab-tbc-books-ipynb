{
"cells": [
 {
		   "cell_type": "markdown",
	   "metadata": {},
	   "source": [
       "# Chapter 6: Properties of Steam"
	   ]
	},
{
		   "cell_type": "markdown",
		   "metadata": {},
		   "source": [
			"## Example 6.10: Workdone_and_latent_heat_of_steam.sce"
		   ]
		  },
  {
"cell_type": "code",
	   "execution_count": null,
	   "metadata": {
	    "collapsed": true
	   },
	   "outputs": [],
"source": [
"//Exa 6.10\n",
"clc;\n",
"clear;\n",
"close;\n",
"format('v',7);\n",
"\n",
"//Given Data :\n",
"p=8;//bar\n",
"x=0.8;\n",
"vf=0.001115;//m^3/kg\n",
"vg=0.24;//m^3/kg\n",
"hf=720.9;//kJ/kg(at p=8 bar)\n",
"hfg=2046.5;//kJ/kg(at p=8 bar)\n",
"m=1;//kg\n",
"We=100*p*(x*vg-vf);//kJ/kg\n",
"disp(We,'External workdone during evaporation in kJ/kg : ');\n",
"Q=x*hfg-We;//KJ\n",
"disp(Q,'External latent heat of steam in kJ: ')\n",
"\n",
"//Steam table is used to get some data.\n",
"//Ans is wrong in the book for last part."
   ]
   }
,
{
		   "cell_type": "markdown",
		   "metadata": {},
		   "source": [
			"## Example 6.11: Quality_of_steam.sce"
		   ]
		  },
  {
"cell_type": "code",
	   "execution_count": null,
	   "metadata": {
	    "collapsed": true
	   },
	   "outputs": [],
"source": [
"//Exa 6.11\n",
"clc;\n",
"clear;\n",
"close;\n",
"format('v',7);\n",
"\n",
"//Given Data :\n",
"p1=20;//bar\n",
"Tsup1=350;//degree C\n",
"m1=1;//Kg\n",
"p2=20;//bar\n",
"m2=1;//Kg\n",
"p3=p1;//bar\n",
"Tsup3=250;//degree C\n",
"m3=m1+m2;//Kg\n",
"Cp=2.25;//KJ/Kg\n",
"hg1=2797.2;//KJ/Kg(at p=20 bar)\n",
"hg2=hg1;//KJ/Kg(at p=20 bar)\n",
"hg3=hg1;//KJ/Kg(at p=20 bar)\n",
"ts1=212.37;//degree C\n",
"ts2=ts1;//degree C\n",
"ts3=ts1;//degree C\n",
"//m1*h1+m2*h2=m3*h3\n",
"h2=(m3*(hg3+Cp*(Tsup3-ts3))-m1*(hg1+Cp*(Tsup1-ts1)))/m2;//KJ/Kg\n",
"disp(h2,'Enthalpy of boiler2 in KJ/Kg :  ');\n",
"disp(hg2,'hg2(KJ/Kg)  : ');\n",
"disp('steam is wet because h2<hg2')\n",
"//h2=hf2+x2*hfg2// as steam is wet because h2<hg2\n",
"hf2=908.6;//KJ/Kg\n",
"hfg2=1888.6;//KJ/Kg\n",
"x2=(h2-hf2)/hfg2;//\n",
"disp(x2,'Dryness : ');\n",
"//Steam table is used to get some data.\n",
"//Ans is wrong in the book."
   ]
   }
,
{
		   "cell_type": "markdown",
		   "metadata": {},
		   "source": [
			"## Example 6.12: Enthalpy_Internal_Energy_Entropy.sce"
		   ]
		  },
  {
"cell_type": "code",
	   "execution_count": null,
	   "metadata": {
	    "collapsed": true
	   },
	   "outputs": [],
"source": [
"//Exa 6.12\n",
"clc;\n",
"clear;\n",
"close;\n",
"format('v',8);\n",
"\n",
"//Given Data :\n",
"m=2;//Kg\n",
"p=8;//bar\n",
"x=0.8;\n",
"hf=720.9;//KJ/Kg(at p=8 bar)\n",
"hfg=2046.5;//KJ/Kg(at p=8 bar)\n",
"h=hf+x*hfg;//KJ/Kg\n",
"H=m*h;//KJ\n",
"disp(H,'Total enthalpy of steam in KJ : ');\n",
"Vg=0.227;//m^3/Kg\n",
"V=m*x*Vg;//m^3\n",
"disp(V,'Volume in m^3 : ');\n",
"We=p*10^5*V/1000;//KJ\n",
"disp(We,'External work of evaporation in KJ : ');\n",
"U=H-We;//KJ\n",
"disp(U,'Total internal energy in KJ : ');\n",
"Sf=2.061;//KJ/K\n",
"Sfg=4.578;//KJ/K\n",
"S=m*(Sf+x*Sfg);//KJ/K\n",
"disp(S,'Total entropy in KJ/K : ');\n",
"//Steam table is used to get some data."
   ]
   }
,
{
		   "cell_type": "markdown",
		   "metadata": {},
		   "source": [
			"## Example 6.13: Temperature_and_Pressure.sce"
		   ]
		  },
  {
"cell_type": "code",
	   "execution_count": null,
	   "metadata": {
	    "collapsed": true
	   },
	   "outputs": [],
"source": [
"//Exa 6.13\n",
"clc;\n",
"clear;\n",
"close;\n",
"format('v',6);\n",
"\n",
"//Given Data :\n",
"p1=600;//KPa\n",
"p1=p1/100;//bar\n",
"T1=200;//degree C\n",
"Vsup1=0.352;//m^3/Kg(at 6 bar)\n",
"V1=Vsup1;//m^3/Kg\n",
"V2=V1;//m^3(system is at constant volume)\n",
"Vg2=V2;//m^3/Kg(For dry saturated)\n",
"Tsup1=153.3;//degree C\n",
"Tsup2=154.8;//degree C\n",
"vg1=0.34844;//m^3/Kg\n",
"vg2=0.36106;//m^3/Kg\n",
"ts2=Tsup1+(Tsup2-Tsup1)/(vg2-vg1)*(V1-vg1);//degree C\n",
"disp(ts2,'Temperature at which steam begins to condense in degree C : ');\n",
"pg1=5.2;//bar\n",
"pg2=5.4;//bar\n",
"p2=pg1+(pg2-pg1)/(Tsup2-Tsup1)*(ts2-Tsup1);//bar\n",
"disp(p2,'Pressure in bar is :');\n",
"//Some data is taken from steam table."
   ]
   }
,
{
		   "cell_type": "markdown",
		   "metadata": {},
		   "source": [
			"## Example 6.14: Work_done_Enthalpy_and_Heat_Transfered.sce"
		   ]
		  },
  {
"cell_type": "code",
	   "execution_count": null,
	   "metadata": {
	    "collapsed": true
	   },
	   "outputs": [],
"source": [
"//Exa 6.14\n",
"clc;\n",
"clear;\n",
"close;\n",
"format('v',7);\n",
"\n",
"//Given Data :\n",
"m=2;//Kg\n",
"p1=15;//bar\n",
"p2=15;//bar\n",
"Tsup1=250;//degree C\n",
"T1=Tsup1;//degree C\n",
"V1=0.152;//m^3/Kg(at 15 bar)\n",
"hf2=844.7;//KJ/Kg(at p=15 bar)\n",
"hg2=2789.9;//KJ/Kg(at p=15 bar)\n",
"hfg2=1945.2;//KJ/Kg(at p=15 bar)\n",
"h1=2923;//KJ/Kg\n",
"Vg2=0.1317;//m^3/Kg(at 15 bar)\n",
"x2=0.6;//dry\n",
"h2=hf2+x2*hfg2;//KJ/Kg\n",
"V2=x2*Vg2;//m^3/Kg\n",
"w=(p2*V2-p1*V1)*10^5/10^3;//KJ/Kg\n",
"W=m*w;//KJ\n",
"disp(W,'Total work done in KJ : ');\n",
"H2subH1=m*(h2-h1);//KJ/Kg\n",
"disp(H2subH1,'Change in enthalpy in KJ/Kg : ');\n",
"Q=H2subH1;//KJ\n",
"disp(Q,'Heat transfered in KJ : ');\n",
"//Steam table is used to get some data."
   ]
   }
,
{
		   "cell_type": "markdown",
		   "metadata": {},
		   "source": [
			"## Example 6.15: Rate_of_heat_transfer_and_Density.sce"
		   ]
		  },
  {
"cell_type": "code",
	   "execution_count": null,
	   "metadata": {
	    "collapsed": true
	   },
	   "outputs": [],
"source": [
"//Exa 6.15\n",
"clc;\n",
"clear;\n",
"close;\n",
"format('v',7);\n",
"\n",
"//Given Data :\n",
"p_gauge=15;//bar\n",
"p_at=750;//mm of Hg\n",
"p_at=p_at/760*1.01325;//bar\n",
"p=p_gauge+p_at;//bar\n",
"ms=200;//Kg/hr\n",
"Cpw=4.187;//KJ/KgK\n",
"t1=80;//degree C\n",
"hf1=Cpw*t1;//KJ/Kg\n",
"hf2=858.6;//KJ/Kg(at p=16 bar)\n",
"hg2=2791.8;//KJ/Kg(at p=16 bar)\n",
"hfg2=1933.2;//KJ/Kg(at p=16 bar)\n",
"ts=201.37;//degree C\n",
"x2=0.8;//dry\n",
"h2=hf2+x2*hfg2;//KJ/Kg\n",
"q=ms*(h2-hf1);//KJ/hr\n",
"q=q/3600;//KJ/s\n",
"disp(q,'Heat transfer in boiler in KJ/s : ');\n",
"tsup=ts+t1;//degree C\n",
"Cp=2.2;//KJ/KgK\n",
"hsup3=hg2+Cp*(tsup-ts);//KJ/Kg\n",
"qsup=ms*(hsup3-h2)/3600;//KJ/s\n",
"disp(qsup,'Heat transfered in superheated steam in KJ/s : ');\n",
"Vg=0.1237;//m^3/Kg(at 16 bar)\n",
"Ts=201.37+273;//K\n",
"Tsup=tsup+273;//K\n",
"Vsup=Tsup/Ts*Vg;//m^3/Kg\n",
"density=1/Vsup;//Kg/m^3\n",
"disp(density,'Density of steam in Kg/m^3 : ');\n",
"//Steam table is used to get some data."
   ]
   }
,
{
		   "cell_type": "markdown",
		   "metadata": {},
		   "source": [
			"## Example 6.16: Quantity_of_heat.sce"
		   ]
		  },
  {
"cell_type": "code",
	   "execution_count": null,
	   "metadata": {
	    "collapsed": true
	   },
	   "outputs": [],
"source": [
"//Exa 6.16\n",
"clc;\n",
"clear;\n",
"close;\n",
"format('v',7);\n",
"\n",
"//Given Data :\n",
"m=1.5;//Kg\n",
"p1=5;//bar\n",
"x1=0.8;//dry\n",
"x2=0.4;//dry\n",
"Vg1=0.373;//m^3/Kg(at 5 bar)\n",
"hf1=640.1;//KJ/Kg(at p=5 bar)\n",
"hfg1=2107.4;//KJ/Kg(at p=5 bar)\n",
"Vg2=x1/x2*Vg1;//m^3/Kg\n",
"p2=4;//bar(at Vg2=0.746)\n",
"hf2=529.6;//KJ/Kg(at p=4 bar)\n",
"hfg2=2184.9;//KJ/Kg(at p=4 bar)\n",
"V1=x1*Vg1;//m^3/Kg\n",
"V2=V1;//m^3/Kg\n",
"h1=hf1+x1*hfg1;//KJ/Kg\n",
"h2=hf2+x2*hfg2;//KJ/Kg\n",
"Q=m*[(h2-h1)-100*(p2*V2-p1*V1)];//KJ\n",
"disp(Q,'Quantity of heat in KJ : ');\n",
"//Steam table is used to get some data."
   ]
   }
,
{
		   "cell_type": "markdown",
		   "metadata": {},
		   "source": [
			"## Example 6.17: Heat_transfered_per_Kg_of_steam.sce"
		   ]
		  },
  {
"cell_type": "code",
	   "execution_count": null,
	   "metadata": {
	    "collapsed": true
	   },
	   "outputs": [],
"source": [
"//Exa 6.17\n",
"clc;\n",
"clear;\n",
"close;\n",
"format('v',7);\n",
"\n",
"//Given Data :\n",
"p1=1;//bar\n",
"x1=0.523;//dry\n",
"Vg1=1.694;//m^3/Kg(at 1 bar)\n",
"hf1=417.5;//KJ/Kg(at p=1 bar)\n",
"hfg1=2258;//KJ/Kg(at p=1 bar)\n",
"h1=hf1+x1*hfg1;//KJ/Kg\n",
"V1=x1*Vg1;//m^3/Kg\n",
"V2=V1;//m^3/Kg(Constant volume process)\n",
"Vg2=V2;//m^3/Kg\n",
"p2=2;//bar;//at Vg2 from steam table\n",
"hg2=2706.3;//KJ/Kg(at 2 bar)\n",
"h2=hg2;//KJ/Kg\n",
"W=0;//KJ/Kg of steam\n",
"q=W+(h2-h1)-100*(p2*V2-p1*V1);//KJ/Kg\n",
"disp(q,'Heat transfered in KJ/Kg : ');\n",
"//Steam table is used to get some data."
   ]
   }
,
{
		   "cell_type": "markdown",
		   "metadata": {},
		   "source": [
			"## Example 6.18: Dryness_fraction_and_Mass_of_steam.sce"
		   ]
		  },
  {
"cell_type": "code",
	   "execution_count": null,
	   "metadata": {
	    "collapsed": true
	   },
	   "outputs": [],
"source": [
"//Exa 6.18\n",
"clc;\n",
"clear;\n",
"close;\n",
"format('v',7);\n",
"\n",
"//Given Data :\n",
"V1=0.9;//m^3\n",
"p1=8;//bar\n",
"x1=0.9;//dry\n",
"p2=4;//bar\n",
"Vg1=0.24;//m^3/Kg(at 8 bar)\n",
"hf1=720.9;//KJ/Kg(at p=8 bar)\n",
"hfg1=2046.5;//KJ/Kg(at p=8 bar)\n",
"Vg2=0.462;//m^3/Kg(at 4 bar)\n",
"hf2=604.7;//KJ/Kg(at p=4 bar)\n",
"hfg2=2132.9;//KJ/Kg(at p=4 bar)\n",
"//h1=h2 : hf1+x1*hfg1=hf2+x2*hfg2\n",
"x2=((hf1+x1*hfg1)-hf2)/hfg2;//dry\n",
"disp(x2,'Dryness fraction of steam : ');\n",
"m1=V1/x1/Vg1;//Kg\n",
"V2=V1;//m^3\n",
"m2=V2/x2/Vg2;//Kg\n",
"m=m1-m2;//Kg\n",
"disp(m,'Mass of steam blown off in Kg : ');\n",
"//Steam table is used to get some data."
   ]
   }
,
{
		   "cell_type": "markdown",
		   "metadata": {},
		   "source": [
			"## Example 6.19: Condition_of_steam.sce"
		   ]
		  },
  {
"cell_type": "code",
	   "execution_count": null,
	   "metadata": {
	    "collapsed": true
	   },
	   "outputs": [],
"source": [
"//Exa 6.19\n",
"clc;\n",
"clear;\n",
"close;\n",
"format('v',7);\n",
"\n",
"//Given Data :\n",
"m=5;//Kg\n",
"p1=10;//bar\n",
"x1=0.9;//dry\n",
"p2=4;//bar\n",
"ts1=179.88;//degree C(at 10 bar)\n",
"disp(ts1,'Final condition of steam,(Temperature in degree C) : ');\n",
"Vg1=0.1943;//m^3/Kg(at 8 bar)\n",
"hf1=762.6;//KJ/Kg(at p=10 bar)\n",
"hfg1=2013.6;//KJ/Kg(at p=10 bar)\n",
"h1=hf1+x1*hfg1;//KJ/Kg\n",
"V1=x1*Vg1;//KJ/kg\n",
"u1=h1-p1*V1*10^5/1000;//KJ/Kg\n",
"U1=m*u1;//KJ\n",
"Tsup2=179.88;//degree C\n",
"t11=150;//degree C\n",
"h11=2752;//KJ/Kg(at 4bar,150 degree C)\n",
"v11=0.471;//m^3/Kg(at 4bar,150 degree C)\n",
"s11=6.929;//KJ/KgK(at 4bar,150 degree C)\n",
"t22=200;//degree C\n",
"h22=2860.4;//KJ/Kg(at 4bar,200 degree C)\n",
"v22=0.534;//m^3/Kg(at 4bar,200 degree C)\n",
"s22=7.171;//KJ/KgK(at 4bar,200 degree C)\n",
"h2=h11+(h22-h11)/(t22-t11)*(ts1-t11);//KJ/Kg\n",
"v2=v11+(v22-v11)/(t22-t11)*(ts1-t11);//m^3/Kg\n",
"s2=s11+(s22-s11)/(t22-t11)*(ts1-t11);//m^3\n",
"u2=h2-p2*10^5*v2/1000;//KJ/Kg\n",
"U2=m*u2;//KJ\n",
"deltaU=U2-U1;//KJ\n",
"disp(deltaU,'Change in internal energy in KJ ; ');\n",
"sf1=2.138;//KJ/KgK\n",
"sfg1=4.445;//KJ/Kg\n",
"s1=(sf1+x1*sfg1);//KJ/KgK\n",
"deltaS=m*(s2-s1);//KJ/K\n",
"Q=(ts1+273)*(deltaS);//KJ\n",
"disp(Q,'Heat transfer in KJ : ');\n",
"W=Q-deltaU;//KJ\n",
"disp(W,'Workdone in KJ : ');\n",
"//Steam table is used to get some data.\n",
"//Answer is not accurate in the book."
   ]
   }
,
{
		   "cell_type": "markdown",
		   "metadata": {},
		   "source": [
			"## Example 6.1: Type_of_steam.sce"
		   ]
		  },
  {
"cell_type": "code",
	   "execution_count": null,
	   "metadata": {
	    "collapsed": true
	   },
	   "outputs": [],
"source": [
"//Exa 6.1\n",
"clc;\n",
"clear;\n",
"close;\n",
"format('v',7);\n",
"\n",
"//Given Data :\n",
"m=2;//Kg\n",
"p=8;//bar\n",
"H=5535;//KJ\n",
"h=H/m;//KJ/Kg\n",
"hg=2767.5;//KJ/Kg\n",
"disp(h,'Specific Enthalpy in KJ/Kg : ');\n",
"disp(hg,'Given Enthalpy in KJ/Kg : ');\n",
"disp('Given enthalpy = specific enthalpy. System is dry saturated.');\n",
"m=1;//Kg\n",
"p=2550*10^3/10^5;//bar\n",
"v=0.2742;//m^3/Kg\n",
"disp(v,'Specific volume in m^3/Kg : ');\n",
"vg=0.078352;//m^3\n",
"disp(vg,'Given specific volume in m^3/Kg : ');\n",
"Ts=225+273;//K\n",
"disp('Since v>vg. System is super heated.');\n",
"Tsup=v/vg*Ts;//K\n",
"disp(Tsup-273,'Temperature of super heated steam in degree C : ');\n",
"m=1;//Kg\n",
"p=60;//bar\n",
"h=2470.73;//KJ/Kg\n",
"disp(h,'Enthalpy in KJ/Kg : ');\n",
"hg=2475;//KJ/Kg\n",
"disp(hg,'Given enthalpy in KJ/Kg : ');\n",
"disp('Since h>hg. System is in vapour state.');\n",
"//let x be the dryness fraction\n",
"//h=hf+x*hg\n",
"hf=1213.69;//KJ/Kg\n",
"hfg=1517.3;//KJ/Kg\n",
"x=(h-hf)/hfg;\n",
"disp(x,'Dryness fraction : ');\n",
"//Steam table is used to get some data."
   ]
   }
,
{
		   "cell_type": "markdown",
		   "metadata": {},
		   "source": [
			"## Example 6.20: Work_done_and_condition_of_steam.sce"
		   ]
		  },
  {
"cell_type": "code",
	   "execution_count": null,
	   "metadata": {
	    "collapsed": true
	   },
	   "outputs": [],
"source": [
"//Exa 6.20\n",
"clc;\n",
"clear;\n",
"close;\n",
"format('v',7);\n",
"\n",
"//Given Data :\n",
"m=2;//Kg\n",
"p1=15;//bar\n",
"V1=0.3;//m^3\n",
"p2=1.5;//bar\n",
"v1=V1/m;//m^3/Kg\n",
"//p1*v1^(1.3)=p2*v2^(1.3)\n",
"v2=exp((log(p1)+1.3*log(v1)-log(p2))/1.3);//m^3/Kg\n",
"Vg2=1.1635;//m^3/Kg(at 1.5 bar)\n",
"x2=v2/Vg2;//dry\n",
"disp(x2,'Dryness of steam : ');\n",
"n=1.3;\n",
"W=m*(p1*v1-p2*v2)*10^5/(n-1);//J\n",
"W=W/1000;//KJ\n",
"disp(W,'Workdone in KJ : ');\n",
"//Steam table is used to get some data.\n",
"//Answer is wrong in the book."
   ]
   }
,
{
		   "cell_type": "markdown",
		   "metadata": {},
		   "source": [
			"## Example 6.21: Amount_of_work_done.sce"
		   ]
		  },
  {
"cell_type": "code",
	   "execution_count": null,
	   "metadata": {
	    "collapsed": true
	   },
	   "outputs": [],
"source": [
"//Exa 6.21\n",
"clc;\n",
"clear;\n",
"close;\n",
"format('v',7);\n",
"\n",
"//Given Data :\n",
"m1=5;//Kg\n",
"p1=5;//bar\n",
"Tsup1=200;//degree C\n",
"p2=0.1;//bar\n",
"h1=2855;//KJ/Kg(from molliers diagram)\n",
"h2=2235;//KJ/Kg(from molliers diagram)\n",
"W=m1*(h1-h2);//KJ\n",
"disp(W,'Workdone in KJ : ');\n",
"//Steam table is used to get some data."
   ]
   }
,
{
		   "cell_type": "markdown",
		   "metadata": {},
		   "source": [
			"## Example 6.22: Specific_work_of_expansion.sce"
		   ]
		  },
  {
"cell_type": "code",
	   "execution_count": null,
	   "metadata": {
	    "collapsed": true
	   },
	   "outputs": [],
"source": [
"//Exa 6.22\n",
"clc;\n",
"clear;\n",
"close;\n",
"format('v',7);\n",
"\n",
"//Given Data :\n",
"p1=160;//bar\n",
"Tsup1=550;//degree C(from steam table)\n",
"q=0;//adiabatic process\n",
"deltaS=0.1;//KJ/KgK\n",
"p2=0.2;//bar\n",
"t11=500;//degree C\n",
"t22=600;//degree C\n",
"h11=3297.1;//KJ/Kg(at 4bar,500 degree C)\n",
"h22=3571;//KJ/Kg(at 4bar,600 degree C)\n",
"h1=h11+(h22-h11)/(t22-t11)*(Tsup1-t11);//KJ/Kg\n",
"s11=6.305;//KJ/KgK(at 4bar,500 degree C)\n",
"s22=6.639;//KJ/KgK(at 4bar,600 degree C)\n",
"s1=s11+(s22-s11)/(t22-t11)*(Tsup1-t11);//KJ/KgK\n",
"s2=deltaS+s1;//KJ/KgK\n",
"hf2=251.4;//KJ/Kg(at 0.2 bar)\n",
"hfg2=2358.2;//KJ/Kg(at 0.2 bar)\n",
"sf2=0.832;//KJ/KgK(at 0.2 bar)\n",
"sfg2=7.077;//KJ/KgK(at 0.2 bar)\n",
"//s2=sf2+x2*sfg2\n",
"x2=(s2-sf2)/sfg2;//dryness\n",
"h2=hf2+x2*hfg2;//KJ\n",
"Wsf_a=h1-h2;//KJ/Kg\n",
"disp(Wsf_a,'Actual Work of expansion in KJ : ');\n",
"//Steam table is used to get some data."
   ]
   }
,
{
		   "cell_type": "markdown",
		   "metadata": {},
		   "source": [
			"## Example 6.23: Final_Specific_volume_temperature_and_entropy.sce"
		   ]
		  },
  {
"cell_type": "code",
	   "execution_count": null,
	   "metadata": {
	    "collapsed": true
	   },
	   "outputs": [],
"source": [
"//Exa 6.23\n",
"clc;\n",
"clear;\n",
"close;\n",
"format('v',7);\n",
"\n",
"//Given Data :\n",
"mdot=2;//Kg/s\n",
"p1=10;//bar\n",
"Tsup1=200;//degree C(from steam table)\n",
"p2=1;//bar\n",
"h1=2826.8;//KJ/Kg(at 10bar,200 degree C)\n",
"S1=6.692;//KJ/KgK(at 10bar,200 degree C)\n",
"ts2=99.63;//degree C(at 1bar)\n",
"Vg2=1.694;//m^3/Kg(at 1bar)\n",
"hf2=417.5;//KJ/Kg(at 1bar)\n",
"hfg2=2258;//KJ/Kg(at 1bar)\n",
"sf2=1.303;//KJ/KgK(at 1bar)\n",
"sfg2=6.057;//KJ/KgK(at 1bar)\n",
"//S1=sf2+x2*sfg2\n",
"x2=(S1-sf2)/sfg2;//dryness\n",
"V3=x2*Vg2;//m^3/Kg\n",
"t2=ts2;//degree C\n",
"S2=S1;//KJ/KgK\n",
"Qdot=0;//KJ\n",
"h2=hf2+x2*hfg2;//KJ/Kg\n",
"Wsf_dot=Qdot-mdot*((h2-h1));//KJ/Kg\n",
"disp(Wsf_dot,'Work output of turbine in KJ/s or W : ');\n",
"//Steam table is used to get some data."
   ]
   }
,
{
		   "cell_type": "markdown",
		   "metadata": {},
		   "source": [
			"## Example 6.24: Condition_of_steam_and_change_in_entropy.sce"
		   ]
		  },
  {
"cell_type": "code",
	   "execution_count": null,
	   "metadata": {
	    "collapsed": true
	   },
	   "outputs": [],
"source": [
"//Exa 6.24\n",
"clc;\n",
"clear;\n",
"close;\n",
"format('v',7);\n",
"\n",
"//Given Data :\n",
"p1=7;//bar\n",
"x1=0.8;//dryness\n",
"p2=1;//bar\n",
"hf1=697;//KJ/Kg(at 7bar)\n",
"hfg1=2064.9;//KJ/Kg(at 7bar)\n",
"hf2=417.5;//KJ/Kg(at 1bar)\n",
"hfg2=2258;//KJ/Kg(at 1bar)\n",
"//hf1+x1*hfg1=hf2+x2*hfg2\n",
"x2=(hf1+x1*hfg1-hf2)/hfg2;//dryness\n",
"disp(x2,'Final conditio of steam(dryness) : ');\n",
"sf2=1.303;//KJ/Kg(at 1bar)\n",
"sfg2=6.057;//KJ/Kg(at 1bar)\n",
"sf1=1.992;//KJ/Kg(at 7bar)\n",
"sfg1=4.713;//KJ/Kg(at 7bar)\n",
"deltaS=(sf2+x2*sfg2)-(sf1+x1*sfg1)\n",
"disp(deltaS,'Change in entropy in KJ/KgK : ');\n",
"//Steam table is used to get some data."
   ]
   }
,
{
		   "cell_type": "markdown",
		   "metadata": {},
		   "source": [
			"## Example 6.25: Pressure_at_exit_of_throttle_valve.sce"
		   ]
		  },
  {
"cell_type": "code",
	   "execution_count": null,
	   "metadata": {
	    "collapsed": true
	   },
	   "outputs": [],
"source": [
"//Exa 6.25\n",
"clc;\n",
"clear;\n",
"close;\n",
"format('v',7);\n",
"\n",
"//Given Data :\n",
"p1=10;//bar\n",
"x1=0.9;//dryness\n",
"p2=1;//bar\n",
"hf1=762.6;//KJ/Kg(at 10bar)\n",
"hfg1=2013.6;//KJ/Kg(at 10bar)\n",
"h1=hf1+x1*hfg1;//KJ/Kg\n",
"h2=h1;//KJ/Kg\n",
"hg2=h2;//KJ/Kg\n",
"p2=0.075;//bar(from steam table)\n",
"disp(p2,'Pressure at exit in bar : ');\n",
"//Steam table is used to get some data."
   ]
   }
,
{
		   "cell_type": "markdown",
		   "metadata": {},
		   "source": [
			"## Example 6.26: State_of_steam_Exit_area_of_nozzle.sce"
		   ]
		  },
  {
"cell_type": "code",
	   "execution_count": null,
	   "metadata": {
	    "collapsed": true
	   },
	   "outputs": [],
"source": [
"//Exa 6.26\n",
"clc;\n",
"clear;\n",
"close;\n",
"format('v',7);\n",
"\n",
"//Given Data :\n",
"m1dot=3;//Kg/min\n",
"p1=10;//bar\n",
"Tsup1=250;//degree C\n",
"m2dot=5;//Kg/min\n",
"p2=10;//bar\n",
"x2=0.7;//dryness\n",
"p3=10;//bar\n",
"p4=5;//bar\n",
"p5=2;//bar\n",
"m3dot=m1dot+m2dot;//Kg/min\n",
"hsup1=2826.8;//KJ/Kg(at 10bar)\n",
"hf2=762.6;//KJ/Kg(at 10bar)\n",
"hf3=762.6;//KJ/Kg(at 10bar)\n",
"hfg2=2013.6;//KJ/Kg(at 10bar)\n",
"hfg3=2013.6;//KJ/Kg(at 10bar)\n",
"//m1dot*hsup1+m2dot*(hf2+x2*hfg2)=m3dot*(hf3+x3*hfg3)\n",
"x3=((m1dot*hsup1+m2dot*(hf2+x2*hfg2))/m3dot-hf3)/hfg3;//dryness\n",
"disp(x3,'State of steam after mixing(dryness) : ');\n",
"x4=0.838;//dryness(from molliers diagram)\n",
"disp(x4,'State of steam after throttling(dryness) : ');\n",
"sf3=2.138;//KJ/KgK(From steam table\n",
"sfg3=4.445;//KJ/KgK(From steam table\n",
"sf4=1.860;//KJ/KgK(From steam table)\n",
"sfg4=4.959;//KJ/KgK(From steam table\n",
"s4SUBs3=m3dot/60*[(sf4+x4*sfg4)-(sf3+x3*sfg3)];//KJ/Kg\n",
"disp(s4SUBs3,'Increase in entropy due to throttling in KJ/KgK : ');\n",
"h4=2405;//KJ/Kg(from Molliers diagram)\n",
"h5=2265;//KJ/Kg(from Molliers diagram)\n",
"x5=0.802;//dryness\n",
"C4=0;//m/s(from S.F.E.E)\n",
"//h4+C4^2/2/1000=h5+C5^2/2/1000\n",
"C5=sqrt((h4+C4^2/2/1000-h5)*2*1000);//m/s\n",
"p5=2;//bar(from steam table)\n",
"Vg5=0.885;//m^3/Kg(from steam table)\n",
"//mdot/60=A5*C5/x5/Vg5\n",
"A5=m3dot/60/C5*x5*Vg5;//m^2\n",
"disp(A5*10^4,'Exit area of nozzle in cm^2 : ');\n",
"//Steam table is used to get some data."
   ]
   }
,
{
		   "cell_type": "markdown",
		   "metadata": {},
		   "source": [
			"## Example 6.27: Dryness_Fraction_of_steam.sce"
		   ]
		  },
  {
"cell_type": "code",
	   "execution_count": null,
	   "metadata": {
	    "collapsed": true
	   },
	   "outputs": [],
"source": [
"//Exa 6.27\n",
"clc;\n",
"clear;\n",
"close;\n",
"format('v',7);\n",
"\n",
"//Given Data :\n",
"ms=5;//Kg\n",
"m2=140;//Kg\n",
"p=10;//bar\n",
"mc=20;//KJ/K\n",
"t1=20;//degree C\n",
"mwdot=20;//Kg\n",
"t2=40;//degree C\n",
"Cpw=4.19;//KJ/KgK\n",
"hfg=2021.4;//KJ/Kg(at 10bar)\n",
"ts=179.88;//degree C\n",
"//ms*(x*hfg)+ms*Cpw*(ts-t2)=m2*Cpw*(t2-t1)+mc*(t2-t1)\n",
"x=(m2*Cpw*(t2-t1)+mc*(t2-t1)-ms*Cpw*(ts-t2))/ms/hfg;//dryness\n",
"disp(x,'Dryness fraction of steam : ');\n",
"//Steam table is used to get some data."
   ]
   }
,
{
		   "cell_type": "markdown",
		   "metadata": {},
		   "source": [
			"## Example 6.28: Dryness_Fraction_of_steam.sce"
		   ]
		  },
  {
"cell_type": "code",
	   "execution_count": null,
	   "metadata": {
	    "collapsed": true
	   },
	   "outputs": [],
"source": [
"//Exa 6.28\n",
"clc;\n",
"clear;\n",
"close;\n",
"format('v',7);\n",
"\n",
"//Given Data :\n",
"p1=15;//bar\n",
"p2=15;//bar\n",
"p3=1;//bar\n",
"Tsup3=150;//degree C\n",
"mw=0.2;//Kg/min\n",
"ms=10;//Kg/min\n",
"x1=ms/(ms+mw);//dryness\n",
"disp(x1,'Dryness factor of steam : ');\n",
"hf2=844.7;//KJ/Kg(from steam table,at 15 bar)\n",
"hfg2=1945.2;//KJ/Kg(from steam table,at 15 bar)\n",
"hsup3=2776.3;//KJ/Kg(from steam table,at 15 bar)\n",
"//hsup3=hf2+x2*hfg2;//KJ/Kg\n",
"x2=(hsup3-hf2)/hfg2;//KJ/Kg\n",
"x=x1*x2;//dryness\n",
"disp(x,'Dryness fraction in the mains : ');\n",
"//Steam table is used to get some data."
   ]
   }
,
{
		   "cell_type": "markdown",
		   "metadata": {},
		   "source": [
			"## Example 6.29: Minimum_value_of_dryness_fraction.sce"
		   ]
		  },
  {
"cell_type": "code",
	   "execution_count": null,
	   "metadata": {
	    "collapsed": true
	   },
	   "outputs": [],
"source": [
"//Exa 6.29\n",
"clc;\n",
"clear;\n",
"close;\n",
"format('v',5);\n",
"\n",
"//Given Data :\n",
"p1=1;//MPa\n",
"p2=100;//KPa\n",
"p1=p1*10^6/10^5;//bar\n",
"p2=p2*10^3/10^5;//bar\n",
"hf1=762.5;//KJ/Kg(from steam table)\n",
"hfg2=2013.6;//KJ/Kg(from steam table)\n",
"hg2=2675.5;//KJ/Kg(from steam table)\n",
"//hg2=hf1+x1*hfg2;//KJ/Kg\n",
"x1=(hg2-hf1)/hfg2;//\n",
"disp(x1,'Dryness fraction in the mains : ');\n",
"//Steam table is used to get some data."
   ]
   }
,
{
		   "cell_type": "markdown",
		   "metadata": {},
		   "source": [
			"## Example 6.2: Temperature_Enthalpy_and_Specific_Volume.sce"
		   ]
		  },
  {
"cell_type": "code",
	   "execution_count": null,
	   "metadata": {
	    "collapsed": true
	   },
	   "outputs": [],
"source": [
"//Exa 6.2\n",
"clc;\n",
"clear;\n",
"close;\n",
"format('v',8);\n",
"\n",
"//Given Data :\n",
"p=5;//bar\n",
"x=0.98;\n",
"ts=151.84;//degree C\n",
"hf=652.8;//KJ/Kg\n",
"hfg=2098;//KJ/Kg\n",
"vg=0.373;//m^3/Kg\n",
"disp(ts,'Temperature of steam in degree C : ');\n",
"h=hf+x*hfg;//KJ/Kg\n",
"disp(h,'Enthalpy of steam in KJ/Kg : ');\n",
"v=x*vg;//m^3/Kg\n",
"disp(v,'Specific volume in m^3/Kg ; ');\n",
"//Steam table is used to get some data."
   ]
   }
,
{
		   "cell_type": "markdown",
		   "metadata": {},
		   "source": [
			"## Example 6.30: Dryness_fraction_of_steam.sce"
		   ]
		  },
  {
"cell_type": "code",
	   "execution_count": null,
	   "metadata": {
	    "collapsed": true
	   },
	   "outputs": [],
"source": [
"//Exa 6.30\n",
"clc;\n",
"clear;\n",
"close;\n",
"format('v',7);\n",
"\n",
"//Given Data :\n",
"p1=900;//KN/m^2\n",
"p2=900;//KN/m^2\n",
"p3=0.1013;//MN/m^2\n",
"p1=p1/10^2;//bar\n",
"p3=p2/10^2;//bar\n",
"p3=p3*10^6/10^5;//bar\n",
"Tsup3=115;//degree C\n",
"ms=1.8;//Kg\n",
"mw=0.16;//Kg\n",
"x1=ms/(ms+mw);//dryness\n",
"hf2=742.6;//KJ/Kg(from steam table)\n",
"hfg2=2029.5;//KJ/Kg(from steam table)\n",
"hg3=2676;//KJ/Kg(from steam table)\n",
"Ts3=100;//degree C\n",
"Cp=2;//KJ/KgK\n",
"//hf2+x2*hfg2=hg3+Cp*(Tsup3-Ts3);//KJ/Kg\n",
"x2=(hg3+Cp*(Tsup3-Ts3)-hf2)/hfg2;//KJ/Kg\n",
"x=x1*x2;//dryness\n",
"disp(x,'Dryness fraction of steam in mains : ');\n",
"//Steam table is used to get some data."
   ]
   }
,
{
		   "cell_type": "markdown",
		   "metadata": {},
		   "source": [
			"## Example 6.31: Quality_of_steam.sce"
		   ]
		  },
  {
"cell_type": "code",
	   "execution_count": null,
	   "metadata": {
	    "collapsed": true
	   },
	   "outputs": [],
"source": [
"//Exa 6.31\n",
"clc;\n",
"clear;\n",
"close;\n",
"format('v',7);\n",
"\n",
"//Given Data :\n",
"p1=1.5;//MPa\n",
"p1=p1*10^6/10^5;//bar\n",
"p2=p1;//bar\n",
"p3=0.1;//MPa\n",
"p3=p3*10^6/10^5;//bar\n",
"Tsup3=110;//degree C\n",
"Vw=0.15;//litres\n",
"Vw=0.15*10^-3;//m^3 at 70 degree C\n",
"ms=3.24;//Kg\n",
"Vf=0.001023;//m^3/Kg\n",
"mw=Vw/Vf;//Kg\n",
"x1=ms/(ms+mw);//dryness\n",
"hf2=844.7;//KJ/Kg(from steam table)\n",
"hfg2=1945.2;//KJ/Kg(from steam table)\n",
"hg3=2675;//KJ/Kg(from steam table)\n",
"Ts3=99.63;//degree C\n",
"Cp=2;//KJ/KgK\n",
"//hf2+x2*hfg2=hg3+Cp*(Tsup3-Ts3);//KJ/Kg\n",
"x2=(hg3+Cp*(Tsup3-Ts3)-hf2)/hfg2;//KJ/Kg\n",
"x=x1*x2;//dryness\n",
"disp(x,'Quality of steam in pipe line(Dryness fraction) : ');\n",
"//Steam table is used to get some data."
   ]
   }
,
{
		   "cell_type": "markdown",
		   "metadata": {},
		   "source": [
			"## Example 6.32: Dryness_fraction_of_steam.sce"
		   ]
		  },
  {
"cell_type": "code",
	   "execution_count": null,
	   "metadata": {
	    "collapsed": true
	   },
	   "outputs": [],
"source": [
"//Exa 6.32\n",
"clc;\n",
"clear;\n",
"close;\n",
"format('v',7);\n",
"\n",
"//Given Data :\n",
"p1=1.5;//MPa\n",
"p1=p1*10^6/10^5;//bar\n",
"p_gauge=7;//bar\n",
"p_at=1;//bar\n",
"p2=p_gauge+p_at;//bar\n",
"p3=1;//bar\n",
"Tsup3=110;//degree C\n",
"mw=3.5;//Kg\n",
"ms=48;//Kg\n",
"Cp=2.1;//KJ/KgK\n",
"x1=ms/(ms+mw);//dryness\n",
"hf2=720.9;//KJ/Kg(from steam table)\n",
"hfg2=2059.3;//KJ/Kg(from steam table)\n",
"hg3=2675.5;//KJ/Kg(from steam table)\n",
"Ts3=99.63;//degree C\n",
"//hf2+x2*hfg2=hg3+Cp*(Tsup3-Ts3);//KJ/Kg\n",
"x2=(hg3+Cp*(Tsup3-Ts3)-hf2)/hfg2;//KJ/Kg\n",
"x=x1*x2;//dryness\n",
"disp(x,'Quality of steam in pipe line(Dryness fraction) : ');\n",
"//Steam table is used to get some data."
   ]
   }
,
{
		   "cell_type": "markdown",
		   "metadata": {},
		   "source": [
			"## Example 6.33: Net_work_done_and_Rankine_Efficiency.sce"
		   ]
		  },
  {
"cell_type": "code",
	   "execution_count": null,
	   "metadata": {
	    "collapsed": true
	   },
	   "outputs": [],
"source": [
"//Exa 6.33\n",
"clc;\n",
"clear;\n",
"close;\n",
"format('v',7);\n",
"\n",
"//Given Data :\n",
"p1=20;//bar\n",
"Tsup3=360;//degree C\n",
"pb=0.08;//bar\n",
"m=1;//Kg\n",
"hf1=173.9;//KJ/Kg(from steam table)\n",
"h1=hf1;//KJ/Kg\n",
"wp=(p1-pb)/10;//KJ/Kg\n",
"h2=h1+wp;//KJ/Kg\n",
"h3=3160.62;//KJ/Kg(from steam table)\n",
"S3=6.994;//KJ/Kg\n",
"Sf4=0.593;//KJ/Kg(from steam table)\n",
"Sfg4=7.637;//KJ/Kg(from steam table)\n",
"S3=6.994;//KJ/Kg\n",
"//S3=S4=Sf4+x4*Sfg4\n",
"x4=(S3-Sf4)/Sfg4;//dryness\n",
"hf4=173.9;//KJ/Kg(from steam table)\n",
"hfg4=2403.2;//KJ/Kg(from steam table)\n",
"h4=hf4+x4*hfg4;//KJ/Kg\n",
"Ws=h3-h4-wp;//KJ/Kg\n",
"disp(Ws,'Net work done in KJ/Kg : ');\n",
"EtaR=Ws/(h3-h2)*100;//%\n",
"disp(EtaR,'Rankine efficiency in  % : ');\n",
"//Steam table is used to get some data."
   ]
   }
,
{
		   "cell_type": "markdown",
		   "metadata": {},
		   "source": [
			"## Example 6.34: Thermal_Efficiency_and_Turbine_work.sce"
		   ]
		  },
  {
"cell_type": "code",
	   "execution_count": null,
	   "metadata": {
	    "collapsed": true
	   },
	   "outputs": [],
"source": [
"//Exa 6.34\n",
"clc;\n",
"clear;\n",
"close;\n",
"format('v',7);\n",
"\n",
"//Given Data :\n",
"p1=80;//bar\n",
"Tsup3=350;//degree C\n",
"pb=712.5/760*1.01325;//bar\n",
"mdot=2;//Kg/s\n",
"//mdot=1;//Kg\n",
"h3=2964;//KJ/Kg(Molliers diagram)\n",
"h4=2184;//KJ/Kg(Molliers diagram)\n",
"WT=h3-h4;//KJ/Kg\n",
"WTdot=mdot*WT;//KW\n",
"disp(WTdot,'Total turbine work in KW : ');\n",
"wp=(p1-pb)/10;//KJ/Kg\n",
"hf1=411.35;//KJ/Kg(from steam table)\n",
"h1=hf1;//KJ/Kg\n",
"h2=h1+wp;//KJ/Kg\n",
"qi=h3-h2;//KJ/Kg\n",
"EtaR=(WT-wp)/qi*100;//%\n",
"disp(EtaR,'Rankine efficiency in  % : ');\n",
"//Steam table is used to get some data."
   ]
   }
,
{
		   "cell_type": "markdown",
		   "metadata": {},
		   "source": [
			"## Example 6.35: Heat_supplied_Dryness_Fraction_Work_done_Efficiency.sce"
		   ]
		  },
  {
"cell_type": "code",
	   "execution_count": null,
	   "metadata": {
	    "collapsed": true
	   },
	   "outputs": [],
"source": [
"//Exa 6.35\n",
"clc;\n",
"clear;\n",
"close;\n",
"format('v',7);\n",
"\n",
"//Given Data :\n",
"p1=30;//bar\n",
"Tsup3=350;//degree C\n",
"pb=0.5;//bar\n",
"h1=340.5;//KJ/Kg(from steam table, at 0.5 bar)\n",
"Vw=0.001;//m^3/Kg\n",
"wp=(p1-pb)*10^5*Vw/1000;//KJ/Kg\n",
"h2=h1+wp;//KJ/Kg\n",
"h3=2854.8;//KJ/Kg(from steam table, at 30 bar)\n",
"S3=6.286;//KJ/KgK\n",
"S4=S3;//KJ/KgK\n",
"Sf4=1.091;//KJ/KgK\n",
"Sfg4=6.503;//KJ/KgK\n",
"//S4=Sf4+x4*Sfg4\n",
"x4=(S4-Sf4)/Sfg4;//dryness\n",
"disp(x4,'Dryness fraction of steam entering in condenser : ');\n",
"hf4=340.5;//KJ/Kg(from steam table)\n",
"hfg4=2305.4;//KJ/Kg(from steam table)\n",
"h4=hf4+x4*hfg4;//KJ/Kg\n",
"q=h3-h2;//\n",
"disp(q,'Heat supplied to stem in boiler in KJ : ');\n",
"Ws=h3-h4-(h2-h1);//KJ/Kg\n",
"disp(Ws,'Work done in KJ/Kg : ');\n",
"steam_rate=3600/Ws;//KJ/KWh\n",
"disp(steam_rate,'Steam rate per in KJ/Kwh :  ');\n",
"EtaR=Ws/(h3-h2)*100;//%\n",
"disp(EtaR,'Rankine efficiency in  % : ');\n",
"//Steam table is used to get some data."
   ]
   }
,
{
		   "cell_type": "markdown",
		   "metadata": {},
		   "source": [
			"## Example 6.3: Volume_Enthalpy_and_Internal_energy.sce"
		   ]
		  },
  {
"cell_type": "code",
	   "execution_count": null,
	   "metadata": {
	    "collapsed": true
	   },
	   "outputs": [],
"source": [
"//Exa 6.3\n",
"clc;\n",
"clear;\n",
"close;\n",
"format('v',8);\n",
"\n",
"//Given Data :\n",
"m=1;//Kg\n",
"p=12;//bar\n",
"x=0.95;\n",
"ts=187.96;//degree C\n",
"vg=0.1632;//m^3/Kg\n",
"hf=814.7;//KJ/Kg\n",
"hfg=1970.7;//KJ/Kg\n",
"disp(ts,'Temperature of steam in degree C : ');\n",
"v=x*vg;//m^3/Kg\n",
"disp(v,'Specific volume in m^3/Kg ; ');\n",
"h=hf+x*hfg;//KJ/Kg\n",
"disp(h,'Enthalpy of steam in KJ/Kg : ');\n",
"u=h-p*10^5*v/1000;//KJ/Kg\n",
"disp(u,'Internal energy in KJ/Kg : ');\n",
"//Steam table is used to get some data."
   ]
   }
,
{
		   "cell_type": "markdown",
		   "metadata": {},
		   "source": [
			"## Example 6.4: Enthalpy_Specific_Volume_and_Entropy.sce"
		   ]
		  },
  {
"cell_type": "code",
	   "execution_count": null,
	   "metadata": {
	    "collapsed": true
	   },
	   "outputs": [],
"source": [
"//Exa 6.4\n",
"clc;\n",
"clear;\n",
"close;\n",
"format('v',8);\n",
"\n",
"//Given Data :\n",
"m=1;//Kg\n",
"p=8;//bar\n",
"Tsup=280;//degree C\n",
"h1=2950.4;//KJ/Kg(at 250 degree C)\n",
"h2=3057.3;//KJ/Kg(at 300 degree C)\n",
"Tsup1=250;//degree C\n",
"Tsup2=300;//degree C\n",
"hsup=h1+(h2-h1)/(Tsup2-Tsup1)*(Tsup-Tsup1);//KJ/Kg\n",
"disp(hsup,'Specific enthalpy in KJ/Kg : ');\n",
"v1=0.293;//m^3/Kg(at 250 degree C)\n",
"v2=0.324;//m^3/Kg(at 300 degree C)\n",
"vsup=v1+(v2-v1)/(Tsup2-Tsup1)*(Tsup-Tsup1);//m^3/Kg\n",
"disp(vsup,'Specific volume in m^3/Kg : ');\n",
"S1=7.04;//KJ/KgK(at 250 degree C)\n",
"S2=7.235;//KJ/KgK(at 300 degree C)\n",
"Ssup=S1+(S2-S1)/(Tsup2-Tsup1)*(Tsup-Tsup1)\n",
"disp(Ssup,'Specific enthalpy in KJ/KgK : ');\n",
"//Steam table is used to get some data."
   ]
   }
,
{
		   "cell_type": "markdown",
		   "metadata": {},
		   "source": [
			"## Example 6.5: Ratio_of_mass_flow_rate.sce"
		   ]
		  },
  {
"cell_type": "code",
	   "execution_count": null,
	   "metadata": {
	    "collapsed": true
	   },
	   "outputs": [],
"source": [
"//Exa 6.5\n",
"clc;\n",
"clear;\n",
"close;\n",
"format('v',8);\n",
"\n",
"//Given Data :\n",
"p1=0.1;//bar\n",
"p2=0.1;//bar\n",
"x1=0.95;\n",
"t3=20;//degree C\n",
"t2=35;//degree C\n",
"t4=45;//degree C\n",
"hf1=191.8;//KJ/Kg\n",
"hfg1=2397.9;//KJ/Kg\n",
"h1=hf1+x1*hfg1;//KJ/kg\n",
"h2=188.4;//KJ/Kg(at 45 degree C)\n",
"h3=83.9;//KJ/Kg(at 20 degree C)\n",
"h4=146.6;//KJ/Kg(at 35 degree C)\n",
"//m1*(h1-h2)=mw*(h4-h3)\n",
"mwBYm1=(h1-h2)/(h4-h3);//Kg of water/Kg of steam\n",
"disp(mwBYm1,'Ratio of mass flow rate of cooling water to condensing steam(Kg of water/Kg of steam): ');\n",
"//Steam table is used to get some data."
   ]
   }
,
{
		   "cell_type": "markdown",
		   "metadata": {},
		   "source": [
			"## Example 6.6: Enthalpy_Energy_and_Mass.sce"
		   ]
		  },
  {
"cell_type": "code",
	   "execution_count": null,
	   "metadata": {
	    "collapsed": true
	   },
	   "outputs": [],
"source": [
"//Exa 6.6\n",
"clc;\n",
"clear;\n",
"close;\n",
"format('v',8);\n",
"\n",
"//Given Data :\n",
"V=3;//m^3\n",
"t=200;//degree C\n",
"Pat=1;//bar\n",
"Pgauge=7;//bar\n",
"P=Pgauge+Pat;//bar\n",
"ts=170.41;//degree C\n",
"tsup=t;//degree C\n",
"vsup=0.261;//m^3/Kg\n",
"hsup=2838.6;//KJ/Kg\n",
"m=V/vsup;//Kg\n",
"H=m*hsup;//KJ\n",
"disp(H,'Total Enthalpy in KJ : ');\n",
"//H=U+p*V\n",
"U=H-P*10^5*V/1000;//KJ\n",
"disp(U,'Total internal energy of system in KJ ; ');\n",
"disp(m,'Mass of steam in Kg : ');\n",
"//Steam table is used to get some data."
   ]
   }
,
{
		   "cell_type": "markdown",
		   "metadata": {},
		   "source": [
			"## Example 6.7: Dryness_fraction_of_steam.sce"
		   ]
		  },
  {
"cell_type": "code",
	   "execution_count": null,
	   "metadata": {
	    "collapsed": true
	   },
	   "outputs": [],
"source": [
"//Exa 6.7\n",
"clc;\n",
"clear;\n",
"close;\n",
"format('v',8);\n",
"\n",
"//Given Data :\n",
"mw=1;//Kg\n",
"m_steam=39;//mass of dry steam in Kg\n",
"ms=mw+m_steam;//Kg\n",
"x=m_steam/ms;//dryness fraction\n",
"disp(x,'Dryness fraction ; ');"
   ]
   }
,
{
		   "cell_type": "markdown",
		   "metadata": {},
		   "source": [
			"## Example 6.8: Added_heat.sce"
		   ]
		  },
  {
"cell_type": "code",
	   "execution_count": null,
	   "metadata": {
	    "collapsed": true
	   },
	   "outputs": [],
"source": [
"//Exa 6.8\n",
"clc;\n",
"clear;\n",
"close;\n",
"format('v',8);\n",
"\n",
"//Given Data :\n",
"m=10;//Kg\n",
"p=10;//bar\n",
"x=0.9;\n",
"t1=20;//degree C\n",
"hf=762.6;//KJ/Kg\n",
"hfg=2013.6;//KJ/Kg\n",
"H=m*(hf+x*hfg);//KJ;\n",
"disp(H,'Enthalpy of wet steam in KJ : ');\n",
"hf1=83.9;//KJ/Kg(at 20 degree C)\n",
"Hf1=m*hf1;//KJ\n",
"HeatAdded=H-Hf1;//KJ\n",
"disp(HeatAdded,'Heat added in KJ : ');\n",
"//Steam table is used to get some data."
   ]
   }
,
{
		   "cell_type": "markdown",
		   "metadata": {},
		   "source": [
			"## Example 6.9: Required_Heat.sce"
		   ]
		  },
  {
"cell_type": "code",
	   "execution_count": null,
	   "metadata": {
	    "collapsed": true
	   },
	   "outputs": [],
"source": [
"//Exa 6.9\n",
"clc;\n",
"clear;\n",
"close;\n",
"format('v',8);\n",
"\n",
"//Given Data :\n",
"t=50;//degree C\n",
"p1=13;//bar\n",
"Cpw=4.187;//KJ/KgK\n",
"Cp=0.0535;//KJ/KgK\n",
"x1=0.97;\n",
"hf=Cpw*(t-0);//KJ/Kg\n",
"hf1=814.7;//KJ/Kg(at p1=13 bar)\n",
"hfg1=1970.7;//KJ/Kg(at p1=13 bar)\n",
"hg1=2785.4;//KJ/Kg(at p1=13 bar)\n",
"Q=hf1+x1*hfg1-hf;//KJ/Kg\n",
"disp(Q,'Heat required to produce steam in KJ/Kg : ');\n",
"Q1=hg1-hf;//KJ/Kg\n",
"disp(Q1,'Heat required to produce dry saturated steam in KJ/Kg : ');\n",
"tsup1SUBts1=40;//degree C\n",
"Q2=hg1+Cp*(tsup1SUBts1)-hf;//KJ/Kg\n",
"disp(Q2,'Heat required to produce super heated steam in KJ/Kg : ');\n",
"//Steam table is used to get some data.\n",
"//Ans is wrong in the book for last part."
   ]
   }
,
{
		   "cell_type": "markdown",
		   "metadata": {},
		   "source": [
			"## Example 6.e: Find_Specific_Enthalpy.sce"
		   ]
		  },
  {
"cell_type": "code",
	   "execution_count": null,
	   "metadata": {
	    "collapsed": true
	   },
	   "outputs": [],
"source": [
"//Example : \n",
"clc;\n",
"clear;\n",
"close;\n",
"format('v',8);\n",
"\n",
"//Given Data :\n",
"p1=0.02;//bar\n",
"hg1=2535.5;//KJ/Kg(at 0.02 bar)\n",
"p2=0.03;//bar\n",
"hg2=2545.6;//KJ/Kg(at 0.03 bar)\n",
"delta_h12=hg2-hg1;//KJ/KgK\n",
"p3=0.024;//bar\n",
"p4=0.02;//bar\n",
"delta_h=delta_h12/0.01*(p3-p4);//KJ/KgK\n",
"hg_dash=hg1+delta_h;//KJ/Kg\n",
"disp(hg_dash,'Specific enthalpy in KJ/Kg : ');"
   ]
   }
],
"metadata": {
		  "kernelspec": {
		   "display_name": "Scilab",
		   "language": "scilab",
		   "name": "scilab"
		  },
		  "language_info": {
		   "file_extension": ".sce",
		   "help_links": [
			{
			 "text": "MetaKernel Magics",
			 "url": "https://github.com/calysto/metakernel/blob/master/metakernel/magics/README.md"
			}
		   ],
		   "mimetype": "text/x-octave",
		   "name": "scilab",
		   "version": "0.7.1"
		  }
		 },
		 "nbformat": 4,
		 "nbformat_minor": 0
}
