{
"cells": [
 {
		   "cell_type": "markdown",
	   "metadata": {},
	   "source": [
       "# Chapter 7: IC Engines"
	   ]
	},
{
		   "cell_type": "markdown",
		   "metadata": {},
		   "source": [
			"## Example 7.10: Fuel_Consumption_and_Efficiency.sce"
		   ]
		  },
  {
"cell_type": "code",
	   "execution_count": null,
	   "metadata": {
	    "collapsed": true
	   },
	   "outputs": [],
"source": [
"//Ex 7.10\n",
"clc;\n",
"clear;\n",
"close;\n",
"format('v',7);\n",
"\n",
"//Given data :\n",
"mf=20;//Kg/hr\n",
"BP=80;//KW\n",
"Etta_m=80/100;\n",
"CV=45000;//KJ/Kg\n",
"bsfc=mf/BP;//break specified fuel consumption in Kg/KWh\n",
"disp(bsfc,'Break specified fuel consumption in Kg/KWh : ');\n",
"IP=BP/Etta_m;//KW\n",
"mf=mf/60/60;//Kg/s\n",
"n=mf/100;//Kg/KWh\n",
"Etta_b=BP/mf/CV*100;//%\n",
"disp(Etta_b,'Break Efficiency in % : ');\n",
"Etta_I=Etta_b/Etta_m;//\n",
"disp(Etta_I,'Indicated thermal Efficiency in % : ');"
   ]
   }
,
{
		   "cell_type": "markdown",
		   "metadata": {},
		   "source": [
			"## Example 7.11: IP_BP_and_Efficiency.sce"
		   ]
		  },
  {
"cell_type": "code",
	   "execution_count": null,
	   "metadata": {
	    "collapsed": true
	   },
	   "outputs": [],
"source": [
"//Ex 7.11\n",
"clc;\n",
"clear;\n",
"close;\n",
"format('v',7);\n",
"\n",
"//Given data :\n",
"d=270/1000;//meter\n",
"L=380/1000;//meter\n",
"Pmi=6;//bar\n",
"N=350;//rpm\n",
"WsubS=1000;//N\n",
"Db=1.5;//meter\n",
"mf=10;//Kg/hr\n",
"CV=44400;//KJ/Kg\n",
"\n",
"IP=Pmi*10^5*(%pi/4*d^2)*L*N/2/60/1000;//KW\n",
"disp(IP,'Indicated Power in KW : ');\n",
"BP=(WsubS)*%pi*Db*N/60/1000;//KW\n",
"disp(BP,'Brake Power in KW : ');\n",
"Etta_m=BP/IP*100;//%\n",
"disp(Etta_m,'Mechanical Efficiency in % : ');\n",
"mf=mf/60/60;//Kg/s\n",
"Etta_b=BP/mf/CV*100;//\n",
"disp(Etta_b,'Indicated thermal Efficiency in % : ');"
   ]
   }
,
{
		   "cell_type": "markdown",
		   "metadata": {},
		   "source": [
			"## Example 7.1: Friction_Power.sce"
		   ]
		  },
  {
"cell_type": "code",
	   "execution_count": null,
	   "metadata": {
	    "collapsed": true
	   },
	   "outputs": [],
"source": [
"//Ex 7.1\n",
"clc;\n",
"clear;\n",
"close;\n",
"format('v',5);\n",
"\n",
"//Given data :\n",
"T=10;//N-m\n",
"N=1500;//rpm\n",
"IP=1.85;//KW\n",
"//Calculation\n",
"BP=T*2*%pi*N/60/1000;//KW\n",
"FP=IP-BP;//KW\n",
"disp(FP,'Friction power(KW) : ');"
   ]
   }
,
{
		   "cell_type": "markdown",
		   "metadata": {},
		   "source": [
			"## Example 7.2: BP_of_the_engine.sce"
		   ]
		  },
  {
"cell_type": "code",
	   "execution_count": null,
	   "metadata": {
	    "collapsed": true
	   },
	   "outputs": [],
"source": [
"//Ex 7.2\n",
"clc;\n",
"clear;\n",
"close;\n",
"format('v',7);\n",
"\n",
"//Given data :\n",
"d=18/100;//m\n",
"L=26/100;//m\n",
"N=400;//rpm\n",
"positive_mep=6;//bar\n",
"negative_mep=-0.3;//bar\n",
"n=180;//strokes/min\n",
"Etta_m=0.75;\n",
"\n",
"//Calculation\n",
"Pm=positive_mep+negative_mep;//bar\n",
"A=%pi/4*d^2;//m^2\n",
"IP=Pm*10^5*A*L*n/60/1000;//KW\n",
"BP=IP*Etta_m;//KW\n",
"disp(BP,'B.P. of engine in KW : ');"
   ]
   }
,
{
		   "cell_type": "markdown",
		   "metadata": {},
		   "source": [
			"## Example 7.3: Power_and_Efficiencies.sce"
		   ]
		  },
  {
"cell_type": "code",
	   "execution_count": null,
	   "metadata": {
	    "collapsed": true
	   },
	   "outputs": [],
"source": [
"//Ex 7.3\n",
"clc;\n",
"clear;\n",
"close;\n",
"format('v',6);\n",
"\n",
"//Given data :\n",
"r=6;//cm\n",
"d=10/100;//m\n",
"L=12.5/100;//m\n",
"Pmi=2.6;//bar\n",
"W=60;//N\n",
"S=19;//N\n",
"R=40/100;//m\n",
"mf=1;//Kg/hr\n",
"mf=mf/60/60;//Kg/sec\n",
"CV=42000;//KJ/Kg\n",
"N=2000;//rpm\n",
"\n",
"//Calculation\n",
"A=%pi/4*d^2;//m^2\n",
"n=N/2;//no. of strokes/min\n",
"IP=Pmi*10^5*A*L*n/60/1000;//KW\n",
"disp(IP,'Indicated Power in KW : ');\n",
"BP=(W-S)*R*2*%pi*N/60/1000;//KW\n",
"disp(BP,'Brake Power in KW : ');\n",
"Etta_m=BP/IP*100;//%\n",
"disp(Etta_m,'Mechanical efficiency in % : ');\n",
"Etta_o=BP/mf/CV*100;//%\n",
"disp(Etta_o,'Overall efficiency in % : ');\n",
"Gamma=1.4;//constant\n",
"Etta_a=(1-1/(r^(Gamma-1)))*100 ;//%\n",
"disp(Etta_a,'Air standard efficiency in % : ');\n",
"Etta_r=Etta_o/Etta_a*100;//%\n",
"disp(Etta_r,'Relative efficiency in % : ');"
   ]
   }
,
{
		   "cell_type": "markdown",
		   "metadata": {},
		   "source": [
			"## Example 7.4: Bore_and_length_of_stroke.sce"
		   ]
		  },
  {
"cell_type": "code",
	   "execution_count": null,
	   "metadata": {
	    "collapsed": true
	   },
	   "outputs": [],
"source": [
"//Ex 7.4\n",
"clc;\n",
"clear;\n",
"close;\n",
"format('v',7);\n",
"\n",
"//Given data :\n",
"IP=50;//KW\n",
"Vf=16;//litre/hr\n",
"Sp_gravity_fuel=0.755;\n",
"CV=44500;//KJ/Kg\n",
"N=3000;//rpm\n",
"Pmi=5.2;//bar\n",
"\n",
"//Calculation\n",
"mf=Vf*10^-3*Sp_gravity_fuel*1000;//Kg/hr\n",
"mf=mf/3600;//Kg/s\n",
"Etta_i=IP/mf/CV*100;//%\n",
"disp(Etta_i,'Indicated thermal efficiency in % :');\n",
"//IP=Pmi*10^5*%pi/4*d^2*L*N/2/60/1000;//KW\n",
"d=(IP*60*1000/Pmi/10^5/(%pi/4)/1.1/(N/2))^(1/3);//meter(L=1.1*d)\n",
"disp(d*100,'Bore in cm : ');\n",
"L=1.1*d;//meter\n",
"disp(L*100,'Length of stroke in cm : ');"
   ]
   }
,
{
		   "cell_type": "markdown",
		   "metadata": {},
		   "source": [
			"## Example 7.5: Indicated_Power_of_Engine.sce"
		   ]
		  },
  {
"cell_type": "code",
	   "execution_count": null,
	   "metadata": {
	    "collapsed": true
	   },
	   "outputs": [],
"source": [
"//Ex 7.5\n",
"clc;\n",
"clear;\n",
"close;\n",
"format('v',7);\n",
"\n",
"//Given data :\n",
"Vs=5.7;//litre\n",
"Vs=Vs/1000;//m^3\n",
"Pm=600;//KN/m^2\n",
"N=800;//rpm\n",
"\n",
"//Calculation\n",
"n=N/2;//No. of strokes/min\n",
"IP=Pm*Vs*n/60;//KW\n",
"disp(IP,'Indicated power of Engine in KW :  ');"
   ]
   }
,
{
		   "cell_type": "markdown",
		   "metadata": {},
		   "source": [
			"## Example 7.6: Diameter_and_stroke_of_engine.sce"
		   ]
		  },
  {
"cell_type": "code",
	   "execution_count": null,
	   "metadata": {
	    "collapsed": true
	   },
	   "outputs": [],
"source": [
"//Ex 7.6\n",
"clc;\n",
"clear;\n",
"close;\n",
"format('v',7);\n",
"\n",
"//Given data :\n",
"n1=6;//cylinders\n",
"IP=100;//KW\n",
"N=800;//rpm\n",
"Lbyd=1.25;//stroke to bore ratio\n",
"Etta_m=80/100;\n",
"bmep=5;//bar\n",
"\n",
"//Calculation\n",
"n=N/2;//No. of strokes/min\n",
"//IP=Pm*%pi/4*d^2*d*Lbyd*n/60000\n",
"d=(IP/(bmep*%pi/4*Lbyd*n/60000))^(1/3);//m\n",
"L=Lbyd*d;//m\n",
"disp(d,'Diameter in meter : ');\n",
"disp(L,'Length ofstroke in meter :  ');\n",
"//Solution is not complete in the book."
   ]
   }
,
{
		   "cell_type": "markdown",
		   "metadata": {},
		   "source": [
			"## Example 7.7: Indicated_Power_of_Engine.sce"
		   ]
		  },
  {
"cell_type": "code",
	   "execution_count": null,
	   "metadata": {
	    "collapsed": true
	   },
	   "outputs": [],
"source": [
"//Ex 7.7\n",
"clc;\n",
"clear;\n",
"close;\n",
"format('v',7);\n",
"\n",
"//Given data :\n",
"d=110/1000;//m\n",
"L=140/1000;//m\n",
"Pmi=600;//KN/m^2\n",
"N=1000;//rpm\n",
"n=N;//strokes/min(for 2 stroke)\n",
"A=%pi/4*d^2;//m^2\n",
"IP=Pmi*A*L*n/60;//KW\n",
"disp(IP,'Indicated power of the engine in KW : ');"
   ]
   }
,
{
		   "cell_type": "markdown",
		   "metadata": {},
		   "source": [
			"## Example 7.8: Engine_Crank_Shaft_Speed.sce"
		   ]
		  },
  {
"cell_type": "code",
	   "execution_count": null,
	   "metadata": {
	    "collapsed": true
	   },
	   "outputs": [],
"source": [
"//Ex 7.8\n",
"clc;\n",
"clear;\n",
"close;\n",
"format('v',7);\n",
"\n",
"//Given data :\n",
"n1=6;//cylinders\n",
"IP=150;//KW\n",
"N=800;//rpm\n",
"TwoLN=320;//m/s\n",
"Lbyd=1.2;//stroke to bore ratio\n",
"Pmi=650;//Kn/m^2\n",
"\n",
"//Calculation\n",
"//IP=n1*Pmi*(%pi/4*d^2)*L*n/60;//KW\n",
"d=sqrt(IP/n1/Pmi/(%pi/4)*2/TwoLN*2*60);//meter(L*N replaced by TwoLN/2)\n",
"L=Lbyd*d;//in meter\n",
"N=TwoLN/2/L;//rpm\n",
"disp(N,'Engine crank shaft speed in rpm : ');"
   ]
   }
,
{
		   "cell_type": "markdown",
		   "metadata": {},
		   "source": [
			"## Example 7.9: Power_and_Efficiency.sce"
		   ]
		  },
  {
"cell_type": "code",
	   "execution_count": null,
	   "metadata": {
	    "collapsed": true
	   },
	   "outputs": [],
"source": [
"//Ex 7.9\n",
"clc;\n",
"clear;\n",
"close;\n",
"format('v',7);\n",
"\n",
"//Given data :\n",
"d=250/1000;//meter\n",
"L=400/1000;//meter\n",
"Pmi=6.50;//bar\n",
"N=250;//rpm\n",
"NetBrakeLoad=1080;//N\n",
"Db=1.5;//meter\n",
"mf=10;//Kg/hr\n",
"mf=mf/60/60;//Kg/sec\n",
"CV=44300;//KJ/Kg\n",
"\n",
"//Calculation\n",
"n=N/2;//stroke/min\n",
"IP=Pmi*10^5*(%pi/4*d^2)*L*n/60/1000;//KW\n",
"disp(IP,'Indicated Power in KW : ');\n",
"Rb=Db/2;//meter\n",
"BP=NetBrakeLoad*Rb*2*%pi*N/60/1000;//KW\n",
"disp(BP,'Brake Power in KW : ');\n",
"Etta_m=BP/IP*100;//%\n",
"disp(Etta_m,'Mechanical Efficiency in % : ');\n",
"Etta_i=IP/mf/CV*100;//%\n",
"disp(Etta_i,'Indicated Thermal Efficiency in % : ');"
   ]
   }
],
"metadata": {
		  "kernelspec": {
		   "display_name": "Scilab",
		   "language": "scilab",
		   "name": "scilab"
		  },
		  "language_info": {
		   "file_extension": ".sce",
		   "help_links": [
			{
			 "text": "MetaKernel Magics",
			 "url": "https://github.com/calysto/metakernel/blob/master/metakernel/magics/README.md"
			}
		   ],
		   "mimetype": "text/x-octave",
		   "name": "scilab",
		   "version": "0.7.1"
		  }
		 },
		 "nbformat": 4,
		 "nbformat_minor": 0
}
