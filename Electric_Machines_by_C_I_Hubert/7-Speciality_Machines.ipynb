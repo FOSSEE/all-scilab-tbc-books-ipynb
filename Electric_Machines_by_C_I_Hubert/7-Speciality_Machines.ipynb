{
"cells": [
 {
		   "cell_type": "markdown",
	   "metadata": {},
	   "source": [
       "# Chapter 7: Speciality Machines"
	   ]
	},
{
		   "cell_type": "markdown",
		   "metadata": {},
		   "source": [
			"## Example 7.1: Determine_Torque_load_on_the_shaft_and_Torque_angle_if_the_voltage_drops_to_224V.sce"
		   ]
		  },
  {
"cell_type": "code",
	   "execution_count": null,
	   "metadata": {
	    "collapsed": true
	   },
	   "outputs": [],
"source": [
"// Example 7.1\n",
"// Determine (a) Torque load on the shaft (b) Torque angle if the voltage \n",
"// drops to 224V (c) Will the rotor pull out of synchronism?\n",
"// Page No. 282\n",
"\n",
"clc;\n",
"clear;\n",
"close;\n",
"\n",
"// Given data\n",
"f=60;                 // Frequency\n",
"P=4;                  // Number of poles\n",
"Pshaft=10;            // Shaft power in hp\n",
"V1=240;               // Rated voltage\n",
"V2=224;               // New voltage\n",
"phirel1=30;           // Torque angle\n",
"\n",
"\n",
"// (a) Torque load on the shaft\n",
"ns=120*f/P;            // speed of machine\n",
"Trel=Pshaft*5252/ns;\n",
"\n",
"\n",
"// (b) Torque angle if the voltage drops to 224V\n",
"phirel2=asind((V1^2/V2^2)*sind(2*phirel1))/2\n",
"\n",
"// Display result on command window\n",
"printf('\n Torque load on the shaft = %0.2f  lb-ft ',Trel);\n",
"printf('\n Torque angle if the voltage drops to 224V = %0.2f deg ',phirel2);\n",
"printf('\n Because torque angle is less than 45 degree, \n the rotor will not pull out of synchronism ')\n",
""
   ]
   }
,
{
		   "cell_type": "markdown",
		   "metadata": {},
		   "source": [
			"## Example 7.2: Determine_Resolution_and_Number_of_steps_required_for_the_rotor_and_Shaft_speed.sce"
		   ]
		  },
  {
"cell_type": "code",
	   "execution_count": null,
	   "metadata": {
	    "collapsed": true
	   },
	   "outputs": [],
"source": [
"// Example 7.2\n",
"// Determine (a) Resolution (b) Number of steps required for the rotor to make \n",
"// 20.6 revolutions (c) Shaft speed if the stepping frequency is 1800 pulses/s\n",
"// Page No. 287\n",
"\n",
"clc;\n",
"clear;\n",
"close;\n",
"\n",
"// Given data\n",
"betaa=2;               // Step angle\n",
"theta=20.6;            // Number of revolutions\n",
"fp=1800;               // Stepping frequency\n",
"\n",
"\n",
"// (a) Resolution\n",
"stepsperrev=360/betaa;      // Speed of machine\n",
"\n",
"\n",
"// (b) Number of steps required for the rotor to make 20.6 revolutions\n",
"steps=theta*360/betaa;\n",
"\n",
"\n",
"// (c) Shaft speed if the stepping frequency is 1800 pulses/s.\n",
"n=betaa*fp/360;\n",
"\n",
"\n",
"// Display result on command window\n",
"printf('\n Resolution = %0.0f  ',stepsperrev);\n",
"printf('\n Number of steps required for the rotor to make 20.6 revolutions = %0.0f  ',steps);\n",
"printf('\n Shaft speed if the stepping frequency is 1800 pulses/s = %0.0f r/s ',n);\n",
""
   ]
   }
,
{
		   "cell_type": "markdown",
		   "metadata": {},
		   "source": [
			"## Example 7.3: Determine_Synchronous_speed_and_Rail_speed.sce"
		   ]
		  },
  {
"cell_type": "code",
	   "execution_count": null,
	   "metadata": {
	    "collapsed": true
	   },
	   "outputs": [],
"source": [
"// Example 7.3\n",
"// Determine (a) Synchronous speed (b) Rail speed assuming slip of 16.7%\n",
"// Page No. 299\n",
"\n",
"clc;\n",
"clear;\n",
"close;\n",
"\n",
"// Given data\n",
"f=50;               // Frequency of machine\n",
"tau=0.24;           // Pole pitch\n",
"s=0.167;            // Slip\n",
"\n",
"// (a) The synchronous speed \n",
"Us=2*tau*f;\n",
"\n",
"// (b) Rail speed assuming slip of 16.7 percent\n",
"U=Us*(1-s);\n",
"\n",
"\n",
"// Display result on command window\n",
"printf('\n The synchronous speed = %0.0f m/s ',Us);\n",
"printf('\n Rail speed assuming slip of 16.7 percent = %0.1f m/s ',U);\n",
""
   ]
   }
],
"metadata": {
		  "kernelspec": {
		   "display_name": "Scilab",
		   "language": "scilab",
		   "name": "scilab"
		  },
		  "language_info": {
		   "file_extension": ".sce",
		   "help_links": [
			{
			 "text": "MetaKernel Magics",
			 "url": "https://github.com/calysto/metakernel/blob/master/metakernel/magics/README.md"
			}
		   ],
		   "mimetype": "text/x-octave",
		   "name": "scilab",
		   "version": "0.7.1"
		  }
		 },
		 "nbformat": 4,
		 "nbformat_minor": 0
}
