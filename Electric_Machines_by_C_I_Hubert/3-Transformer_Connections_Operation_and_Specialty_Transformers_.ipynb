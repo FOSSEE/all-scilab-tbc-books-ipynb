{
"cells": [
 {
		   "cell_type": "markdown",
	   "metadata": {},
	   "source": [
       "# Chapter 3: Transformer Connections Operation and Specialty Transformers "
	   ]
	},
{
		   "cell_type": "markdown",
		   "metadata": {},
		   "source": [
			"## Example 3.1: EX3_1.sce"
		   ]
		  },
  {
"cell_type": "code",
	   "execution_count": null,
	   "metadata": {
	    "collapsed": true
	   },
	   "outputs": [],
"source": [
"// Example 3.1\n",
"// Computation of (a) Load current (b) Incoming line current\n",
"// (c) Transformed current (d) Apparent power conducted and apparent power transformed\n",
"// Page No. 98\n",
"\n",
"clc;\n",
"clear;\n",
"close;\n",
"\n",
"// Given data\n",
"NHS=400;               // Number of turns in the high side\n",
"NLS=0.25*400;          // Number of turns in the low side\n",
"VHS=2400;              // Voltage at the high side\n",
"S=4800;                // Supply voltage\n",
"\n",
"// (a) Load current\n",
"a=NHS/NLS;             // Transformer turn ratio  \n",
"VLS=VHS/a;             // Low side voltage      \n",
"ILS=S/VLS;             // Load current\n",
"\n",
"// (b) Incoming line current\n",
"IHS=ILS/a;    \n",
"\n",
"//(c)  Transformed current\n",
"ITR=ILS-IHS;\n",
"\n",
"// (d) Apparent power conducted and apparent power transformed\n",
"\n",
"SCOND=IHS*VLS;     // Apparent power conducted\n",
"STRANS=ITR*VLS;    // Apparent power transformed  \n",
"\n",
"\n",
"// Display result on command window\n",
"printf('\n Load current  = %0.0f A ',ILS);\n",
"printf('\n Incoming line current = %0.0f A ',IHS);\n",
"printf('\n Transformed current = %0.0f A ',ITR);\n",
"printf('\n Apparent power conducted = %0.0f VA ',SCOND);\n",
"printf('\n Apparent power transformed = %0.0f VA ',STRANS);"
   ]
   }
,
{
		   "cell_type": "markdown",
		   "metadata": {},
		   "source": [
			"## Example 3.2: Computation_of_Rated_primary_and_secondary_currents_and_Apparent_power_rating.sce"
		   ]
		  },
  {
"cell_type": "code",
	   "execution_count": null,
	   "metadata": {
	    "collapsed": true
	   },
	   "outputs": [],
"source": [
"// Example 3.2\n",
"// Computation of (a) Rated primary and secondary currents when connected as \n",
"// autotransformer (b) Apparent power rating when connected as an autotransformer\n",
"// Page No. 100\n",
"\n",
"clc;\n",
"clear;\n",
"close;\n",
"\n",
"// Given data\n",
"S=10000;              // Supply voltage\n",
"VLS=240;              // Voltage at the low side\n",
"VHS=2400;             // Voltage at the high side\n",
"Sw=10;                // Power rating\n",
"\n",
"// (a) Rated primary and secondary currents when connected as autotransformer \n",
"\n",
"ILSWINDING=S/VLS;     // Rated primary current\n",
"IHSWINDING=S/VHS;     // Rated secondary current\n",
"\n",
"\n",
"// (b) Apparent power rating when connected as an autotransformer\n",
"\n",
"a=VHS/VLS;                  // Magnetic drop across R1\n",
"Sat=(a+1)*Sw;    \n",
"\n",
"\n",
"//Display result on command window\n",
"\n",
"printf('\n Rated primary current = %0.2f A ',ILSWINDING);\n",
"printf('\n Rated secondary current = %0.3f A ',IHSWINDING);\n",
"printf('\n Apparent power rating = %0.0f KVA ',Sat);"
   ]
   }
,
{
		   "cell_type": "markdown",
		   "metadata": {},
		   "source": [
			"## Example 3.3: EX3_3.sce"
		   ]
		  },
  {
"cell_type": "code",
	   "execution_count": null,
	   "metadata": {
	    "collapsed": true
	   },
	   "outputs": [],
"source": [
"// Example 3.3\n",
"// Computation of (a) Buck boost transformer parameters \n",
"// (b) Repeating the same assuming utilization voltage as 246V\n",
"// Page No. 102\n",
"\n",
"clc;\n",
"clear;\n",
"close;\n",
"\n",
"// Given data\n",
"S=10000;              // Supply voltage\n",
"VLS=212;              // Voltage at the low side\n",
"VHSNEW=246;           // New voltage at the high side\n",
"a1=1.100;    \n",
"a11=1.0667;\n",
"\n",
"// (a) Buck boost transformer parameters \n",
"VHS=a1*VLS;\n",
"\n",
"// (b) Repeating the same assuming utilization voltage as 246V\n",
"\n",
"VLSNEW=VHSNEW/a11;  \n",
"  \n",
"//Display result on command window\n",
"\n",
"printf('\n Actual output voltage supplied to the air conditioner is = %0.1f V ',VHS);\n",
"printf('\n Actual output voltage assuming utilization voltage as 246 V is = %0.1f V ',VLSNEW);\n",
""
   ]
   }
,
{
		   "cell_type": "markdown",
		   "metadata": {},
		   "source": [
			"## Example 3.4: EX3_4.sce"
		   ]
		  },
  {
"cell_type": "code",
	   "execution_count": null,
	   "metadata": {
	    "collapsed": true
	   },
	   "outputs": [],
"source": [
"// Example 3.4\n",
"// Determine (a) Circulating current in the paralleled secondaries \n",
"// (b) Circulating current as a percent of the rated current of transformer A \n",
"// (c) Percent difference in secondary voltage that caused the circulating current\n",
"// Page No. 104\n",
"\n",
"clc;\n",
"clear;\n",
"close;\n",
"\n",
"// Given data\n",
"S=100000;              // Transformer A and B rating \n",
"VLSA=460;              // Voltage at the low side of transformer A\n",
"VLSB=450;              // Voltage at the low side of transformer A\n",
"RPUA=0.0136;           // Percent resistance of transformer A\n",
"XPUA=0.0350;           // Percent reactance of transformer A\n",
"RPUB=0.0140;           // Percent resistance of transformer B\n",
"XPUB=0.0332;           // Percent reactance of transformer B\n",
"\n",
"\n",
"\n",
"// (a) Circulating current in the paralleled secondaries \n",
"IA= S/VLSA;               // Rated low side current for transformer A\n",
"IB= S/VLSB;               // Rated low side current for transformer B\n",
"ReqA=RPUA*VLSA/IA;        // Equivalent resistance of transfomer A\n",
"ReqB=RPUB*VLSB/IB;        // Equivalent resistance of transfomer B\n",
"XeqA=XPUA*VLSA/IA;        // Equivalent reactance of transfomer A\n",
"XeqB=XPUB*VLSB/IB;        // Equivalent reactance of transfomer B\n",
"\n",
"// Impedance of the closed loop formed by two secondaries is\n",
"Zloop=ReqA+%i*XeqA+ReqB+%i*XeqB; \n",
"// Complex to Polar form...\n",
"Zloop_Mag=sqrt(real(Zloop)^2+imag(Zloop)^2); // Magnitude part\n",
"Zloop_Ang=atan(imag(Zloop),real(Zloop))*180/%pi; // Angle part \n",
"\n",
"Icirc_Mag=(VLSA-VLSB)/Zloop_Mag; // Circulating current magnitude\n",
"Icirc_Ang=0- Zloop_Ang;          // Circulating current angle\n",
"\n",
"// (b) Circulating current as a percent of the rated current of transformer A\n",
"IcircA=Icirc_Mag*100/IA;\n",
"\n",
"// (c) Percent difference in secondary voltage that caused the circulating current\n",
"PD=(VLSA-VLSB)*100/VLSB;\n",
"\n",
"// Display result on command window\n",
"\n",
"printf('\n Circulating current magnitude = %0.1f A ',Icirc_Mag);\n",
"printf('\n Circulating current angle = %0.1f deg ',Icirc_Ang);\n",
"printf('\n Circulating current as a percent of the rated current = %0.1f Percent ',IcircA);\n",
"printf('\n Percent difference in secondary voltage = %0.1f Percent ',PD);\n",
""
   ]
   }
,
{
		   "cell_type": "markdown",
		   "metadata": {},
		   "source": [
			"## Example 3.5: EX3_5.sce"
		   ]
		  },
  {
"cell_type": "code",
	   "execution_count": null,
	   "metadata": {
	    "collapsed": true
	   },
	   "outputs": [],
"source": [
"// Example 3.5\n",
"// Determine (a) Rated high side current of each transformer (b) Percent of the\n",
"// total bank-current drawn by each transformer (c) Maximum load that can be \n",
"// handled by the bank without overloading by one of the transformer\n",
"// Page No. 107\n",
"\n",
"clc;\n",
"clear;\n",
"close;\n",
"\n",
"// Given data\n",
"SA=75000;              // Transformer A rating\n",
"SB=200000;             // Transformer B rating\n",
"VHSA=2400;             // Voltage at the high side of transformer A\n",
"VHSB=2400;             // Voltage at the high side of transformer B\n",
"RPUA=1.64;             // Percent resistance of transformer A\n",
"XPUA=3.16;             // Percent reactance of transformer A\n",
"RPUB=1.10;             // Percent resistance of transformer B\n",
"XPUB=4.03;             // Percent reactance of transformer B\n",
"\n",
"\n",
"\n",
"// (a) Rated high side current of each transformer\n",
"IArated=SA/VHSA;       // High side rated current transformer A\n",
"IBrated=SB/VHSB;       // High side rated current transformer B\n",
"\n",
"// (b) Percent of the total bank-current drawn by each transformer\n",
"ZAper=RPUA+%i*XPUA;    // Percent impadance for transformer A\n",
" // Complex to Polar form...\n",
"ZAper_Mag=sqrt(real(ZAper)^2+imag(ZAper)^2);      // Magnitude part\n",
"ZAper_Ang=atan(imag(ZAper),real(ZAper))*180/%pi;  // Angle part \n",
"\n",
"ZBper=RPUB+%i*XPUB;    // Percent impadance for transformer B\n",
" // Complex to Polar form...\n",
"ZBper_Mag=sqrt(real(ZBper)^2+imag(ZBper)^2);      // Magnitude part\n",
"ZBper_Ang=atan(imag(ZBper),real(ZBper))*180/%pi;  // Angle part \n",
"\n",
"ZAbase=VHSA/IArated;                // Base impedance of transformer A\n",
"ZBbase=VHSB/IBrated;                // Base impedance of transformer A\n",
"\n",
"ZeqA_Mag=ZAbase*ZAper_Mag/100;      // Magnitude of equivalent impedance A\n",
"ZeqA_Ang=ZAper_Ang;                 // Angle of equivalent impedance A\n",
"\n",
"ZeqB_Mag=ZBbase*ZBper_Mag/100;      // Magnitude of equivalent impedance B\n",
"ZeqB_Ang=ZBper_Ang;                 // Angle of equivalent impedance B\n",
"\n",
"YeqA_Mag=1/ZeqA_Mag;                // Magnitude of equivalent admittance A\n",
"YeqA_Ang=0-ZeqA_Ang;                // Angle of equivalent admittance A\n",
"\n",
"// Polar to Complex form\n",
"YeqA_R=YeqA_Mag*cos(-YeqA_Ang*%pi/180); // Real part of complex number\n",
"YeqA_I=YeqA_Mag*sin(YeqA_Ang*%pi/180); //Imaginary part of complex number\n",
"\n",
"YeqB_Mag=1/ZeqB_Mag;                // Magnitude of equivalent admittance B\n",
"YeqB_Ang=0-ZeqB_Ang;                // Angle of equivalent admittance B\n",
"\n",
"// Polar to Complex form\n",
"\n",
"YeqB_R=YeqB_Mag*cos(-YeqB_Ang*%pi/180); // Real part of complex number\n",
"YeqB_I=YeqB_Mag*sin(YeqB_Ang*%pi/180); //Imaginary part of complex number\n",
"YP=(YeqA_R - %i* YeqA_I)+(YeqB_R - %i* YeqB_I); // Parallel admittance\n",
"\n",
" // Complex to Polar form...\n",
"YP_Mag=sqrt(real(YP)^2+imag(YP)^2);      // Magnitude part\n",
"YP_Ang=atan(imag(YP),real(YP))*180/%pi;  // Angle part \n",
"\n",
"IA=YeqA_Mag/YP_Mag;                      // Transformer A load\n",
"IB=YeqB_Mag/YP_Mag;                      // Transformer A load\n",
"IA=IA*100;\n",
"IB=IB*100;\n",
"\n",
"// (c) Maximum load that can be handled by the bank without overloading by \n",
"// one of the transformer\n",
"Ibank=IArated/0.307;\n",
"\n",
"// Display result on command window\n",
"\n",
"printf('\n Rated high side current of transformer A = %0.2f A ',IArated);\n",
"printf('\n Rated high side current of transformer B = %0.3f A ',IBrated);\n",
"printf('\n Percent of total bank current drawn by transformer A = %0.0f Percent ',IA);\n",
"printf('\n Percent of total bank current drawn by transformer B = %0.0f Percent ',IB);\n",
"printf('\n Maximum load that can be handled by the bank = %0.2f A ', Ibank);\n",
""
   ]
   }
,
{
		   "cell_type": "markdown",
		   "metadata": {},
		   "source": [
			"## Example 3.6: Determine_the_percent_of_the_total_bank_current_drawn_by_each_transformer.sce"
		   ]
		  },
  {
"cell_type": "code",
	   "execution_count": null,
	   "metadata": {
	    "collapsed": true
	   },
	   "outputs": [],
"source": [
"// Example 3.6\n",
"// Determine the percent of the total bank-current drawn by each transformer \n",
"// Page No. 109\n",
"\n",
"clc;\n",
"clear;\n",
"close;\n",
"\n",
"// Given data\n",
"ZaPU_R=0.0158;          // Transformer A impedance real part\n",
"ZaPU_I=0.0301;          // Transformer A impedance imaginary part\n",
"ZbPU_R=0.0109;          // Transformer B impedance real part\n",
"ZbPU_I=0.0398;          // Transformer B impedance imaginary part\n",
"SB=200000;             // Transformer B rating\n",
"VHSA=2400;             // Voltage at the high side of transformer A\n",
"VHSB=2400;             // Voltage at the high side of transformer B\n",
"RPUA=1.64;             // Percent resistance of transformer A\n",
"XPUA=3.16;             // Percent reactance of transformer A\n",
"RPUB=1.10;             // Percent resistance of transformer B\n",
"XPUB=4.03;             // Percent reactance of transformer B\n",
"\n",
"\n",
"\n",
"// Base impedance of transformer A\n",
"ZaPU=ZaPU_R+%i*ZaPU_I;\n",
"// Complex to Polar form...\n",
"ZaPU_Mag=sqrt(real(ZaPU)^2+imag(ZaPU)^2);      // Magnitude part\n",
"ZaPU_Ang=atan(imag(ZaPU),real(ZaPU))*180/%pi;  // Angle part \n",
"\n",
"// Base impedance of transformer B\n",
"ZbPU=ZbPU_R+%i*ZbPU_I;\n",
"// Complex to Polar form...\n",
"ZbPU_Mag=sqrt(real(ZbPU)^2+imag(ZbPU)^2);      // Magnitude part\n",
"ZbPU_Ang=atan(imag(ZbPU),real(ZbPU))*180/%pi;  // Angle part \n",
"\n",
"// Admittance of transformer A\n",
"YaPU_Mag=1/ZaPU_Mag;                // Magnitude of equivalent admittance A\n",
"YaPU_Ang=0-ZaPU_Ang;                // Angle of equivalent admittance A\n",
"\n",
"// Polar to Complex form\n",
"\n",
"YaPU_R=YaPU_Mag*cos(-YaPU_Ang*%pi/180); // Real part of complex number\n",
"YaPU_I=YaPU_Mag*sin(YaPU_Ang*%pi/180); //Imaginary part of complex number\n",
"\n",
"// Admittance of transformer B\n",
"YbPU_Mag=1/ZbPU_Mag;                // Magnitude of equivalent admittance B\n",
"YbPU_Ang=0-ZbPU_Ang;                // Angle of equivalent admittance B\n",
"// Polar to Complex form\n",
"\n",
"YbPU_R=YbPU_Mag*cos(-YbPU_Ang*%pi/180); // Real part of complex number\n",
"YbPU_I=YbPU_Mag*sin(YbPU_Ang*%pi/180); //Imaginary part of complex number\n",
"\n",
"// Parallel admittance\n",
"YP=(YaPU_R-%i*YaPU_I)+(YbPU_R-%i*YbPU_I);\n",
"// Complex to Polar form...\n",
"YP_Mag=sqrt(real(YP)^2+imag(YP)^2);      // Magnitude part\n",
"YP_Ang=atan(imag(YP),real(YP))*180/%pi;  // Angle part \n",
"\n",
"IA=YaPU_Mag/YP_Mag*100;                  // Percent current drawn by transformer A \n",
"IB=100-IA; \n",
"\n",
"// Display the result on the command window\n",
"printf('\n Percent of total bank current drawn by transformer A = %0.2f Percent ',IA);\n",
"printf('\n Percent of total bank current drawn by transformer B = %0.2f Percent ',IB);\n",
"\n",
""
   ]
   }
,
{
		   "cell_type": "markdown",
		   "metadata": {},
		   "source": [
			"## Example 3.7: EX3_7.sce"
		   ]
		  },
  {
"cell_type": "code",
	   "execution_count": null,
	   "metadata": {
	    "collapsed": true
	   },
	   "outputs": [],
"source": [
"// Example 3.7\n",
"// Computation of (a) Bank ratio (b) Transformer ratio (c) Rated line and phase \n",
"// currents for the high side (d) Rated line and phase currents for the low side\n",
"// Page No. 113\n",
"\n",
"clc;\n",
"clear;\n",
"close;\n",
"\n",
"// Given data\n",
"VLINEHS=4160;               // Number of turns in the high side\n",
"VLINELS=240;                // Number of turns in the low side\n",
"VHS=2400;                   // Voltage at the high side\n",
"S=4800;                     // Supply voltage\n",
"Vline=150000;               // Transformer rating\n",
"\n",
"// (a) Bank ratio\n",
"bankratio=VLINEHS/VLINELS;    \n",
"\n",
"// (b) Transformer ratio\n",
"Vphasep= VLINEHS/  sqrt(3);   // For wye primary\n",
"Vphases=VLINELS               // For secondary\n",
"TR=Vphasep/Vphases;           // Transformer ratio \n",
"\n",
"//(c) Rated line and phase currents for the high side \n",
"Ilinew=Vline/(sqrt(3)*VLINEHS);\n",
"Iphasew=Ilinew;\n",
"\n",
"// (d) Rated line and phase currents for the low side\n",
"Ilined=Vline/(sqrt(3)*VLINELS);   \n",
"Iphased=Ilined/sqrt(3);\n",
"\n",
"\n",
"// Display result on command window\n",
"printf('\n Bank ratio = %0.1f  ',bankratio);\n",
"printf('\n Transformer ratio = %0.1f  ',TR);\n",
"printf('\n Rated line current for the high side = %0.1f A ',Ilinew);\n",
"printf('\n Rated phase current for the high side = %0.1f A ',Iphasew);\n",
"printf('\n Rated line  current for the low side = %0.1f A ',Ilined);\n",
"printf('\n Rated phase current for the low side = %0.1f A ',Iphased);"
   ]
   }
,
{
		   "cell_type": "markdown",
		   "metadata": {},
		   "source": [
			"## Example 3.8: EX3_8.sce"
		   ]
		  },
  {
"cell_type": "code",
	   "execution_count": null,
	   "metadata": {
	    "collapsed": true
	   },
	   "outputs": [],
"source": [
"// Example 3.8\n",
"// Determine the maximum allowable power that the open-delta bank handle \n",
"// without overheating\n",
"// Page No. 117\n",
"\n",
"clc;\n",
"clear;\n",
"close;\n",
"\n",
"// Given data\n",
"S=25;                      // Transformer rating\n",
"\n",
"// Capacity of the delta-delta bank is\n",
"Cddb=S*3;\n",
"// Capacity of the bank when operating open-delta is\n",
"Cob=Cddb*0.577;\n",
"\n",
"\n",
"// Display result on command window\n",
"printf('\n Capacity of the bank when operating open-delta is = %0.1f kVA ',Cob);"
   ]
   }
,
{
		   "cell_type": "markdown",
		   "metadata": {},
		   "source": [
			"## Example 3.9: Determine_the_minimum_power_rating_required_for_each_transformer.sce"
		   ]
		  },
  {
"cell_type": "code",
	   "execution_count": null,
	   "metadata": {
	    "collapsed": true
	   },
	   "outputs": [],
"source": [
"// Example 3.9\n",
"// Determine the minimum power rating required for each transformer\n",
"// Page No. 117\n",
"\n",
"clc;\n",
"clear;\n",
"close;\n",
"\n",
"// Given data\n",
"P=50000;                      // Transformer power rating\n",
"Eline=120;                    // Line voltage\n",
"FP=0.9                        // Power factor lagging\n",
"VL=120;\n",
"\n",
"// Line current is\n",
"Iline=P/(sqrt(3)*Eline*FP);\n",
"\n",
"// Minimum power rating required for each transformer\n",
"Pmin=VL*Iline/1000;\n",
"\n",
"\n",
"// Display result on command window\n",
"printf('\n Minimum power rating required for each transformer = %0.1f kVA ',Pmin);"
   ]
   }
],
"metadata": {
		  "kernelspec": {
		   "display_name": "Scilab",
		   "language": "scilab",
		   "name": "scilab"
		  },
		  "language_info": {
		   "file_extension": ".sce",
		   "help_links": [
			{
			 "text": "MetaKernel Magics",
			 "url": "https://github.com/calysto/metakernel/blob/master/metakernel/magics/README.md"
			}
		   ],
		   "mimetype": "text/x-octave",
		   "name": "scilab",
		   "version": "0.7.1"
		  }
		 },
		 "nbformat": 4,
		 "nbformat_minor": 0
}
