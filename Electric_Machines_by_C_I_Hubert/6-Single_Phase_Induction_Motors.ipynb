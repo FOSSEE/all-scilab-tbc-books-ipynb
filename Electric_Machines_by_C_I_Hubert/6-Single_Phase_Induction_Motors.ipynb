{
"cells": [
 {
		   "cell_type": "markdown",
	   "metadata": {},
	   "source": [
       "# Chapter 6: Single Phase Induction Motors"
	   ]
	},
{
		   "cell_type": "markdown",
		   "metadata": {},
		   "source": [
			"## Example 6.1: EX6_1.sce"
		   ]
		  },
  {
"cell_type": "code",
	   "execution_count": null,
	   "metadata": {
	    "collapsed": true
	   },
	   "outputs": [],
"source": [
"// Example 6.1\n",
"// Determine (a) Locked rotor current in each winding (b) Phase displacement\n",
"// angle between the two currents (c) Locked rotor torque in terms of the\n",
"// machine constant (d) External resistance required in series with the auxillary\n",
"// winding in order to obtain a 30 degree phase displacement between the currents\n",
"// in the two windings (e) Locked rotor torque for the conditions in (d) \n",
"// (f) Percent increase in locked rotor torque due to the addition of external\n",
"// resistance  \n",
"// Page No. 257\n",
"\n",
"clc;\n",
"clear;\n",
"close;\n",
"\n",
"// Given data\n",
"Zmw=2.00+%i*3.50                // Main winding impedance\n",
"Zaw=9.15+%i*8.40                // Auxillary winding impedance\n",
"VT=120;                         // Transformer voltage\n",
"Xaw=8.40;                       // Auxillary winding reactance\n",
"Raw=9.15;                       // Auxillary winding resistance\n",
"\n",
"// (a) Locked rotor current in each winding\n",
"// Main winding impedance in polar form\n",
"// Complex to Polar form...\n",
"Zmw_Mag=sqrt(real(Zmw)^2+imag(Zmw)^2);      // Magnitude part\n",
"Zmw_Ang=atan(imag(Zmw),real(Zmw))*180/%pi;  // Angle part \n",
"\n",
"// Auxillary winding impedance in polar form\n",
"// Complex to Polar form...\n",
"Zaw_Mag=sqrt(real(Zaw)^2+imag(Zaw)^2);      // Magnitude part\n",
"Zaw_Ang=atan(imag(Zaw),real(Zaw))*180/%pi;  // Angle part \n",
"\n",
"// Main winding current\n",
"Imw_Mag=VT/Zmw_Mag;                 // Main winding current magnitude\n",
"Imw_Ang=0-Zmw_Ang;                  // Main winding current angle\n",
"\n",
"// Auxillary winding current\n",
"Iaw_Mag=VT/Zaw_Mag;                 // Auxillary winding current magnitude\n",
"Iaw_Ang=0-Zaw_Ang;                  // Auxillary winding current angle\n",
"\n",
"// (b) Phase displacement angle between the two currents\n",
"Alpha=abs(Imw_Ang-Iaw_Ang);\n",
"\n",
"// (c) Locked rotor torque in terms of the machine constant \n",
"Tlr=Imw_Mag*Iaw_Mag*sind(Alpha);\n",
"\n",
"// (d) External resistance required in seris with the auxillary winding in \n",
"// order to obtain a 30 degree phase displacement between the currents in the\n",
"// two windings \n",
"Theta_awi=Imw_Ang+30;      // Required phase angle\n",
"Theta_awz=-Theta_awi;\n",
"Rx=(Xaw/tand(Theta_awz))-Raw;\n",
"\n",
"// (e) Locked rotor torque for the conditions in (d)\n",
"Zawnew=Raw+Rx+%i*Xaw;            // Auxillary winding impedance\n",
"// Complex to Polar form...\n",
"Zmwnew_Mag=sqrt(real(Zawnew)^2+imag(Zawnew)^2);      // Magnitude part\n",
"Zmwnew_Ang=atan(imag(Zawnew),real(Zawnew))*180/%pi;  // Angle part \n",
"\n",
"Iawnew_Mag=VT/Zmwnew_Mag;         // Auxillary winding current magnitude\n",
"Iawnew_Ang=0-Zmwnew_Ang;         // Auxillary winding current magnitude\n",
"Tlenew=Imw_Mag*Iawnew_Mag*sind(30);\n",
"\n",
"// (f) Percent increase in locked rotor torque due to the addition of external\n",
"// resistance\n",
"PI=(Tlenew-Tlr)/Tlr*100;\n",
"\n",
"\n",
"// Display result on command window\n",
"printf('\n Main winding current magnitude = %0.1f A ',Imw_Mag);\n",
"printf('\n Main winding current angle = %0.1f deg ',Imw_Ang);\n",
"printf('\n Auxillary winding current magnitude = %0.2f A ',Iaw_Mag);\n",
"printf('\n Auxillary winding current angle = %0.1f deg ',Iaw_Ang);\n",
"printf('\n Phase displacement angle = %0.1f deg ',Alpha);\n",
"printf('\n Locked rotor torque in terms of the machine constant = %0.2f.Ksp ',Tlr);\n",
"printf('\n External resistance required = %0.2f Ohm ',Rx);\n",
"printf('\n Locked rotor torque = %0.1f.Ksp ',Tlenew);\n",
"printf('\n Percent increase in locked rotor torque = %0.1f Percent increase ',PI);\n",
""
   ]
   }
,
{
		   "cell_type": "markdown",
		   "metadata": {},
		   "source": [
			"## Example 6.2: EX6_2.sce"
		   ]
		  },
  {
"cell_type": "code",
	   "execution_count": null,
	   "metadata": {
	    "collapsed": true
	   },
	   "outputs": [],
"source": [
"// Example 6.2\n",
"// Determine (a) Capacitance required in series with the auxillary winding \n",
"// in order to obtain a 90 degree phase displacement between the current in \n",
"// the main winding and the current in the auxillary winding at locked rotor  \n",
"// (b) Locked rotor torque in terms of the machine constant \n",
"// Page No. 265\n",
"\n",
"clc;\n",
"clear;\n",
"close;\n",
"\n",
"// Given data\n",
"Zmw=2.00+%i*3.50                // Main winding impedance\n",
"Zaw=9.15+%i*8.40                // Auxillary winding impedance\n",
"VT=120;                         // Transformer voltage\n",
"Xaw=8.40;                       // Auxillary winding reactance\n",
"Raw=9.15;                       // Auxillary winding resistance\n",
"f=60;                           // Frequency\n",
"Tlr=107.1;                      // Original torque\n",
"\n",
"// (a) Capacitance required in series with the auxillary winding \n",
"// Main winding impedance in polar form\n",
"// Complex to Polar form...\n",
"Zmw_Mag=sqrt(real(Zmw)^2+imag(Zmw)^2);      // Magnitude part\n",
"Zmw_Ang=atan(imag(Zmw),real(Zmw))*180/%pi;  // Angle part \n",
"\n",
"// Auxillary winding impedance in polar form\n",
"// Complex to Polar form...\n",
"Zaw_Mag=sqrt(real(Zaw)^2+imag(Zaw)^2);      // Magnitude part\n",
"Zaw_Ang=atan(imag(Zaw),real(Zaw))*180/%pi;  // Angle part \n",
"\n",
"// Main winding current\n",
"Imw_Mag=VT/Zmw_Mag;                 // Main winding current magnitude\n",
"Imw_Ang=0-Zmw_Ang;                  // Main winding current angle\n",
"\n",
"// Auxillary winding current\n",
"Iaw_Mag=VT/Zaw_Mag;                 // Auxillary winding current magnitude\n",
"Iaw_Ang=0-Zaw_Ang;                  // Auxillary winding current angle\n",
"\n",
"Theta_awi=90-60.26;               // Required phase angle\n",
"Theta_awz=-Theta_awi;\n",
"\n",
"Xc=Xaw-Raw*tand(Theta_awz);       // Capacitive reactance\n",
"\n",
"C=1/2*%pi*f*Xc;                     // Required capacitance\n",
"\n",
"\n",
"// (b) Locked rotor torque in terms of the machine constant \n",
"Zawnew=Raw+%i*Xaw-%i*Xc;            // Auxillary winding impedance\n",
"// Complex to Polar form...\n",
"Zawnew_Mag=sqrt(real(Zawnew)^2+imag(Zawnew)^2);      // Magnitude part\n",
"Zawnew_Ang=atan(imag(Zawnew),real(Zawnew))*180/%pi;  // Angle part \n",
"\n",
"Iawnew_Mag=VT/Zawnew_Mag;           // Auxillary winding current magnitude\n",
"Iawnew_Ang=0-Zawnew_Ang;            // Auxillary winding current magnitude\n",
"\n",
"Tlenew=Imw_Mag*Iawnew_Mag*sind(90);\n",
"\n",
"// Percent change increase in locked rotor torque \n",
"PI=(Tlenew-Tlr)/Tlr*100;\n",
"\n",
"\n",
"// Display result on command window\n",
"printf('\n Required capacitance = %0.1f microF ',C);\n",
"printf('\n Percent increase in locked rotor torque = %0.0f Percent',PI);\n",
"\n",
"//Note: Capacitor computation is wrong in the book"
   ]
   }
,
{
		   "cell_type": "markdown",
		   "metadata": {},
		   "source": [
			"## Example 6.3: EX6_3.sce"
		   ]
		  },
  {
"cell_type": "code",
	   "execution_count": null,
	   "metadata": {
	    "collapsed": true
	   },
	   "outputs": [],
"source": [
"// Example 6.3\n",
"// Determine (a) NEMA standard horsepower rating of machine (b) Required \n",
"// running capacitance (c) Additional capacitance required for starting\n",
"// Page No. 271\n",
"\n",
"clc;\n",
"clear;\n",
"close;\n",
"\n",
"// Given data\n",
"hp=35;                // Power in hp\n",
"p=3;                  // Number of phase\n",
"f=60;                 // Frequency\n",
"\n",
"\n",
"// (a) NEMA standard horsepower rating of machine\n",
"\n",
"Prated3ph=hp*p/2;\n",
"\n",
"// (b)Required running capacitance\n",
"\n",
"C1=26.5*f;\n",
"\n",
"// (c) Additional capacitance required for starting.\n",
"\n",
"C2=230*f-C1;\n",
"\n",
"// Display result on command window\n",
"printf('\n NEMA standard horsepower rating of machine = %0.1f hp ',Prated3ph);\n",
"printf('\n Required running capacitance = %0.0f microF ',C1);\n",
"printf('\n Additional capacitance required for starting = %0.0f microF ',C2);\n",
""
   ]
   }
,
{
		   "cell_type": "markdown",
		   "metadata": {},
		   "source": [
			"## Example 6.4: EX6_4.sce"
		   ]
		  },
  {
"cell_type": "code",
	   "execution_count": null,
	   "metadata": {
	    "collapsed": true
	   },
	   "outputs": [],
"source": [
"// Example 6.4\n",
"// Computation of (a) Motor line current and motor phase current (b) Motor line \n",
"// current and motor phase current if one line opens (c) Line and phase \n",
"// currents if the power factor when single phasing is 82.0 percent.\n",
"// Page No. 274\n",
"\n",
"clc;\n",
"clear;\n",
"close;\n",
"\n",
"// Given data\n",
"Vline=2300;                    // Line voltage\n",
"Fp3ph=3;                       // Frequency of three phase\n",
"PF=0.844;                      // Power factor\n",
"PF1=0.820;                     // 82.2 percent power factor\n",
"Pin=350*746/(0.936*2);         // Input power\n",
"\n",
"\n",
"// (a) Motor line current and motor phase current\n",
"\n",
"Iline3ph=Pin/(sqrt(3)*Vline*PF);\n",
"Iphase3ph=Iline3ph;\n",
"\n",
"//(b) Motor line current and motor phase current if one line opens\n",
"\n",
"Iline1ph=(sqrt(3)*Iline3ph*PF)/PF;\n",
"Iphase1ph=Iline1ph;\n",
"\n",
"// (c) Line and phase currents if the power factoe when single phasing is 82.0 percent.\n",
"\n",
"Iline=(Iline1ph*PF)/PF1;\n",
"Iphase=Iline;\n",
"\n",
"// Display result on command window\n",
"printf('\n Motor line current = %0.1f A ',Iline3ph);\n",
"printf('\n Motor  phase current = %0.1f A ',Iphase3ph);\n",
"printf('\n Motor line current if one line opens = %0.1f A ',Iline1ph);\n",
"printf('\n Motor phase current if one line opens = %0.1f A ',Iphase1ph);\n",
"printf('\n Line  current if the power factor is 82.0 percent = %0.1f  A',Iline);\n",
"printf('\n Phase current if the power factor is 82.0 percent = %0.1f A ',Iphase);\n",
""
   ]
   }
],
"metadata": {
		  "kernelspec": {
		   "display_name": "Scilab",
		   "language": "scilab",
		   "name": "scilab"
		  },
		  "language_info": {
		   "file_extension": ".sce",
		   "help_links": [
			{
			 "text": "MetaKernel Magics",
			 "url": "https://github.com/calysto/metakernel/blob/master/metakernel/magics/README.md"
			}
		   ],
		   "mimetype": "text/x-octave",
		   "name": "scilab",
		   "version": "0.7.1"
		  }
		 },
		 "nbformat": 4,
		 "nbformat_minor": 0
}
