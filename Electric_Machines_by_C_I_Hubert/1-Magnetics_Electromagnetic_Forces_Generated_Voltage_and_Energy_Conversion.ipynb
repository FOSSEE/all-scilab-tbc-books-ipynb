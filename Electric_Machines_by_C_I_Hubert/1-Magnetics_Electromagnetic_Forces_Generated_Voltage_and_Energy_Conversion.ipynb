{
"cells": [
 {
		   "cell_type": "markdown",
	   "metadata": {},
	   "source": [
       "# Chapter 1: Magnetics Electromagnetic Forces Generated Voltage and Energy Conversion"
	   ]
	},
{
		   "cell_type": "markdown",
		   "metadata": {},
		   "source": [
			"## Example 1.2: EX1_2.sce"
		   ]
		  },
  {
"cell_type": "code",
	   "execution_count": null,
	   "metadata": {
	    "collapsed": true
	   },
	   "outputs": [],
"source": [
"// Example 1.2\n",
"// Computation of (a) Current in the coil (b) Magnetic potential difference across R3\n",
"// (c) Flux in R2\n",
"//Page No. 13\n",
"\n",
"clc;\n",
"clear all;\n",
"close;\n",
"\n",
"// Given data\n",
"phi=0.250;               // Flux in Wb\n",
"R1=10500;                // First magnetic circuit parameter\n",
"R2=40000;                // Second magnetic circuit parameter\n",
"R3=30000;                // Third magnetic circuit parameter\n",
"N=140;                   // Number of turns of copper wire\n",
"\n",
"// (a) Current in the coil\n",
"RParr=(R2*R3)/(R2+R3);      // Parallel resistance\n",
"Rckt=R1+RParr;              // Circuit resistance\n",
"I=(phi*Rckt)/N;\n",
"\n",
"// (b) Magnetic potential difference across R3\n",
"F1=phi*R1;                  // Magnetic drop across R1\n",
"F3=(I*N)-F1;                // Flux across R3\n",
"\n",
"//(c) flux in R2\n",
"phi2=F3/R2;\n",
"\n",
"\n",
"//Display result on command window\n",
"printf('\n Current in the coil  = %0.2f A ',I);\n",
"printf('\n Magnetic potential difference across R3 = %0.2f A-t  ',F3);\n",
"printf('\n Flux in R2 (Wb) = %0.4f Wb ',phi2);"
   ]
   }
,
{
		   "cell_type": "markdown",
		   "metadata": {},
		   "source": [
			"## Example 1.3: Computation_of_hysteresis_loss_if_the_apparatus_is_connected_to_a_60_Hz_source.sce"
		   ]
		  },
  {
"cell_type": "code",
	   "execution_count": null,
	   "metadata": {
	    "collapsed": true
	   },
	   "outputs": [],
"source": [
"// Example 1.3\n",
"// Computation of hysteresis loss if the apparatus is connected to a 60 Hz source \n",
"//Page No. 16\n",
"\n",
"clc;\n",
"clear all;\n",
"close;\n",
" \n",
"// Given data\n",
"V=240;                 // Rated voltage\n",
"F1=25;                 // Rated frequency\n",
"Ph2=846;               // hysteresis loss\n",
"F2=60;                 // Source Frequency\n",
"Bmax1=0.62             // Flux density is 62 percent of its rated value 1\n",
"Bmax2=1.0              // Flux density is 62 percent of its rated value 2\n",
"Sc=1.4                 // Steinmetz exponents\n",
"\n",
"//  hysteresis loss if the apparatus is connected to a 60 Hz source \n",
"Ph1=Ph2*[(F2/F1)*(Bmax1/Bmax2)^Sc];\n",
"Ph1=Ph1/1000;\n",
"\n",
"//Display result on command window\n",
"printf('\n Hysteresis loss if the apparatus is connected to a 60 Hz source = %0.2f kW',Ph1);\n",
"\n",
"\n",
" "
   ]
   }
,
{
		   "cell_type": "markdown",
		   "metadata": {},
		   "source": [
			"## Example 1.4: Computation_of_magnitude_of_the_developed_torque.sce"
		   ]
		  },
  {
"cell_type": "code",
	   "execution_count": null,
	   "metadata": {
	    "collapsed": true
	   },
	   "outputs": [],
"source": [
"// Example 1.4\n",
"// Computation of magnitude of the developed torque\n",
"// Page No. 21\n",
"\n",
"clc;\n",
"clear all;\n",
"close;\n",
"\n",
"// Given data\n",
"Ebat=36;                 // Battery voltage\n",
"R=4;                     // Combined resistance of the coil\n",
"B=0.23;                  // Flux density\n",
"L=0.3;                   // Length of the coil\n",
"d=0.60;                 // Distance between centre of each conductor and centre\n",
"// of each shaft\n",
"beta_skew=15                  // Skew angle\n",
"\n",
"//  Magnitude of the developed torque\n",
"alpha=90-beta_skew;\n",
"I=Ebat/R;\n",
"T=2*B*I*(L*sind(alpha))*d;  // Magnitude of the developed torque\n",
"\n",
"//Display result on command window\n",
"printf('\n Magnitude of the developed torque = %0.2f N.m ',T);\n",
""
   ]
   }
,
{
		   "cell_type": "markdown",
		   "metadata": {},
		   "source": [
			"## Example 1.5: Computation_of_length_of_conductor.sce"
		   ]
		  },
  {
"cell_type": "code",
	   "execution_count": null,
	   "metadata": {
	    "collapsed": true
	   },
	   "outputs": [],
"source": [
"// Example 1.5\n",
"// Computation of length of conductor\n",
"// Page No. 25\n",
"\n",
"clc;\n",
"clear all;\n",
"close;\n",
"\n",
"// Given data\n",
"e=2.5;                 // Voltage generated\n",
"B=1.2;                // Magnetic field\n",
"v=8.0;                 // Speed\n",
"\n",
"//  Length of conductor (e=B*l*v)\n",
"l=e/(B*v);\n",
"\n",
"//Display result on command window\n",
"printf('\n Length of conductor  = %0.2f m ',l);"
   ]
   }
,
{
		   "cell_type": "markdown",
		   "metadata": {},
		   "source": [
			"## Example 1.6: Computation_of_Frequency_and_Pole_flux.sce"
		   ]
		  },
  {
"cell_type": "code",
	   "execution_count": null,
	   "metadata": {
	    "collapsed": true
	   },
	   "outputs": [],
"source": [
"// Example 1.6\n",
"// Computation of (a) Frequency (b) Pole flux\n",
"// Page No. 27\n",
"\n",
"clc;\n",
"clear;\n",
"close;\n",
"\n",
"// Given data\n",
"w=36;               // Angular frequency\n",
"E=24.2;             // Voltage\n",
"pi=3.14;                \n",
"N=6;                // Number of turns of rotor\n",
"\n",
"// (a)  frequency \n",
"f=w/(2*pi);           // Relation between angular frequency and frequency\n",
"\n",
"// (b) pole flux\n",
"Erms=E/sqrt(2);\n",
"phimax = Erms/(4.44*f*N);     // Relation to find pole flux\n",
"           \n",
"\n",
"//Display result on command window\n",
"printf('\n Frequency = %0.4f Hz ',f);\n",
"printf('\n Pole flux = %0.2f Wb ',phimax);\n",
""
   ]
   }
,
{
		   "cell_type": "markdown",
		   "metadata": {},
		   "source": [
			"## Example 1.7: Computation_of_eddy_current_loss_if_the_apparatus_is_connected_to_a_60_Hz_source.sce"
		   ]
		  },
  {
"cell_type": "code",
	   "execution_count": null,
	   "metadata": {
	    "collapsed": true
	   },
	   "outputs": [],
"source": [
"// Example 1.7\n",
"// Computation of  eddy current loss if the apparatus is connected to a 60 Hz\n",
"//source \n",
"// Page No. 29\n",
"\n",
"clc;\n",
"clear;\n",
"close;\n",
"\n",
"// Given data\n",
"V=240;                 // Rated voltage\n",
"F1=25;                 // Rated frequency\n",
"Pe1=642;               // Eddy current loss\n",
"F2=60;                 // Source Frequency\n",
"Bmax1=1.0              // Flux density is 62 percent of its rated value\n",
"Bmax2=0.62             // Flux density is 62 percent of its rated value\n",
"\n",
"//  Eddy current loss if the apparatus is connected to a 60 Hz source \n",
"Pe2=Pe1*[(F2/F1)^2*(Bmax2/Bmax1)^2];\n",
"Pe2=Pe2/1000;\n",
"\n",
"// Display result on command window\n",
"printf('\n Eddy current loss if the apparatus is connected to a 60 Hz source  = %0.2f kW ',Pe2);\n",
""
   ]
   }
,
{
		   "cell_type": "markdown",
		   "metadata": {},
		   "source": [
			"## Example 1.8: EX1_8.sce"
		   ]
		  },
  {
"cell_type": "code",
	   "execution_count": null,
	   "metadata": {
	    "collapsed": true
	   },
	   "outputs": [],
"source": [
"// Example 1.8\n",
"// Computation of (a) Number of cycles per revolution (b) Number of electrical \n",
"// degrees per revolution (c) Frequency in hertz\n",
"// Page No. 31\n",
"\n",
"clc;\n",
"clear all;\n",
"close;\n",
"\n",
"// Given data\n",
"P=80;               // Number of poles\n",
"rpers=20;           // Revolutions per second\n",
"\n",
"// (a)  Number of cycles per revolution\n",
"n=P/2;      \n",
"\n",
"// (b) Number of electrical degrees per revolution\n",
"Elecdeg=360*P/2;                  \n",
"\n",
"// (c) Frequency in hertz\n",
"f=P*rpers/2;                 \n",
"\n",
"//Display result on command window\n",
"printf('\n Number of cycles per revolution = %0.0f cycles ',n);\n",
"printf('\n Number of electrical degrees per revolution = %0.0f  ',Elecdeg);\n",
"printf('\n Frequency in hertz = %0.0f Hz ',f);"
   ]
   }
,
{
		   "cell_type": "markdown",
		   "metadata": {},
		   "source": [
			"## Example 1.9: Computation_of_Frequency_of_the_generated_emf_and_Speed_of_the_rotor.sce"
		   ]
		  },
  {
"cell_type": "code",
	   "execution_count": null,
	   "metadata": {
	    "collapsed": true
	   },
	   "outputs": [],
"source": [
"// Example 1.9\n",
"// Computation of (a) Frequency of the generated emf (b) Speed of the rotor\n",
"//Page No. 31\n",
"\n",
"clc;\n",
"clear all;\n",
"close;\n",
"\n",
"// Given data\n",
"Erms=100;            // Voltage generated in armature coil\n",
"N=15;                // Number of turns in armature coil\n",
"phimax=0.012;        // Flux per pole\n",
"P=4;                 // Number of poles\n",
"\n",
"// (a)  frequency of the generated emf\n",
"f=Erms/(4.44*N*phimax);      \n",
"\n",
"// (b) speed of the rotor\n",
"n=2*f/P;   \n",
"nmin=n*60;               \n",
"\n",
"//Display result on command window\n",
"printf('\n Frequency of the generated emf = %0.0f Hz ',f);\n",
"printf('\n Speed of the rotor = %0.2f  r/s',n);\n",
"printf('\n Speed of the rotor = %0.0f  r/min',nmin);"
   ]
   }
],
"metadata": {
		  "kernelspec": {
		   "display_name": "Scilab",
		   "language": "scilab",
		   "name": "scilab"
		  },
		  "language_info": {
		   "file_extension": ".sce",
		   "help_links": [
			{
			 "text": "MetaKernel Magics",
			 "url": "https://github.com/calysto/metakernel/blob/master/metakernel/magics/README.md"
			}
		   ],
		   "mimetype": "text/x-octave",
		   "name": "scilab",
		   "version": "0.7.1"
		  }
		 },
		 "nbformat": 4,
		 "nbformat_minor": 0
}
