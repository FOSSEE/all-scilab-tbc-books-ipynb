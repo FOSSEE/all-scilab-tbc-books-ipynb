{
"cells": [
 {
		   "cell_type": "markdown",
	   "metadata": {},
	   "source": [
       "# Chapter 11: Direct Current Motor Characteristics and Applications"
	   ]
	},
{
		   "cell_type": "markdown",
		   "metadata": {},
		   "source": [
			"## Example 11.1: EX11_1.sce"
		   ]
		  },
  {
"cell_type": "code",
	   "execution_count": null,
	   "metadata": {
	    "collapsed": true
	   },
	   "outputs": [],
"source": [
"// Example 11.1\n",
"// Computation of (a) The armature current when operating at rated conditions \n",
"// (b) The resistance and power rating of an external resistance required in \n",
"// series with the shunt field circuit to operate at 125 percent rated speed\n",
"// Page No. 448\n",
"\n",
"clc;\n",
"clear;\n",
"close;\n",
"\n",
"// Given data\n",
"HP=40;                  // hp rating of the device\n",
"Perratedload=0.902;     // Percentage rated load\n",
"VT=240;                 // Voltage value of motor\n",
"RF=99.5;                // Resistance of shunt motor\n",
"Nf=1231;                // Turns per pole of the shunt motor\n",
"Ra=0.0680;              // Armature resistance\n",
"RIP=0.0198;             // Interpole winding resistance\n",
"Rs=0.00911;             // Resistance of series field winding\n",
"Bp1=0.70;               // Flux density for a net mmf\n",
"n1=1150;                // Speed of shunt motor\n",
"\n",
"// (a) The armature current when operating at rated conditions\n",
"P=HP*746/Perratedload;\n",
"IT=P/VT;                // Total current\n",
"IF=VT/RF;               // Field current\n",
"Ia=IT-IF;\n",
"\n",
"// (b) The resistance and power rating of an external resistance required in \n",
"// series with the shunt field circuit to operate at 125 percent rated speed\n",
"\n",
"Fnet=Nf*IF;                  // Corresponding mmf from magnetization curve\n",
"Racir=Ra+RIP+Rs;\n",
"n2=n1*1.25;                  // 125 percent rated speed\n",
"// Shaft load is adjusted to  value that limits the armature current to 115% \n",
"// of rated current\n",
"Bp2=Bp1*(n1/n2)*((VT-Ia*Racir*1.15)/(VT-Ia*Racir))\n",
"FF=2.3*1000;\n",
"IF1=FF/Nf;\n",
"Rx=(VT/IF1)-RF;\n",
"PRx=(IF1^2)*Rx;\n",
"\n",
"// Display result on command window\n",
"printf('\n The armature current = %0.2f A ',Ia);\n",
"printf('\n The resistance rating = %0.1f Ohm ',Rx);\n",
"printf('\n The power rating = %0.1f W ',PRx);\n",
"\n",
"//Note: Answer varies due to round-off errors"
   ]
   }
,
{
		   "cell_type": "markdown",
		   "metadata": {},
		   "source": [
			"## Example 11.2: EX11_2.sce"
		   ]
		  },
  {
"cell_type": "code",
	   "execution_count": null,
	   "metadata": {
	    "collapsed": true
	   },
	   "outputs": [],
"source": [
"// Example 11.2\n",
"// Computation of (a) Shunt field current (b) Armature current (c) Developed \n",
"// torque (d) Armature current if a resistor inserted in series with the shunt \n",
"// field circuit caused the speed to increase to 900 r/min (e) External \n",
"// resistance required in series with the shunt field circuit to operate \n",
"// at 900 r/min\n",
"// Page No. 450\n",
"\n",
"clc;\n",
"clear;\n",
"close;\n",
"\n",
"// Given data\n",
"HP=125;\n",
"perratedload=0.854;          // Percentage rated load\n",
"VT=240;                      // Voltage value of motor\n",
"RF=49.2;                     // Resistance of shunt motor\n",
"Nf=577;                      // Turns per pole of the shunt motor\n",
"Ns=4.5;\n",
"Ra=0.0172;                   // Armature resistance\n",
"RIP=0.005;                   // Interpole winding resistance\n",
"Rs=0.0023;                   // Resistance of series field winding\n",
"n1=850;                      // Speed of shunt motor\n",
"n2=900;\n",
"F2=4000;\n",
"\n",
"// (a) Shunt field current\n",
"\n",
"IF=VT/RF;                    // Field current\n",
"\n",
"// (b) Armature current \n",
"Pin=HP*746/perratedload;    // Input power \n",
"IT=Pin/VT;                  // Total current\n",
"Ia1=IT-IF;\n",
"\n",
"// (c) Developed torque \n",
"\n",
"Racir=Ra+RIP+Rs;\n",
"Ea=VT-Ia1*Racir;            // Armature emf\n",
"Pmech=Ea*Ia1;               // Mechanical power\n",
"TD=Pmech*5252/n1/746;            // Torque developed\n",
"\n",
"// (d) Armature current if a resistor inserted in series with the shunt field \n",
"// circuit caused the speed to increase to 900 r/min\n",
"\n",
"Ia2=Ia1*n2/n1;\n",
"\n",
"//(e) External resistance required in series with the shunt field circuit to \n",
"// operate at 900 r/min\n",
"IF2=(F2-0.90*Ns*Ia2)/Nf;\n",
"Rx=(VT/IF2)-RF;\n",
"\n",
"\n",
"// Display result on command window\n",
"printf('\n Shunt field current = %0.2f A ',IF);\n",
"printf('\n Armature current = %0.2f A ',Ia1);\n",
"printf('\n Developed torque = %0.1f lb-ft ',TD);\n",
"printf('\n Armature current if a resistor inserted in series = %0.0f A ',Ia2);\n",
"printf('\n External resistance required = %0.1f Ohm ',Rx);\n",
"\n",
""
   ]
   }
,
{
		   "cell_type": "markdown",
		   "metadata": {},
		   "source": [
			"## Example 11.3: EX11_3.sce"
		   ]
		  },
  {
"cell_type": "code",
	   "execution_count": null,
	   "metadata": {
	    "collapsed": true
	   },
	   "outputs": [],
"source": [
"// Example 11.3\n",
"// Computation of Speed if the load is reduced to a value that causes the \n",
"// armature current to be 30 percent of the rated current\n",
"// Page No.453\n",
"\n",
"clc;\n",
"clear;\n",
"close;\n",
"\n",
"// Given data\n",
"HP=100;\n",
"perratedload=0.896;     // Percentage rated load\n",
"VT=240;                 // Voltage value of motor\n",
"Ns=14;                  // Number of turns/pole in series field\n",
"Ra=0.0202;              // Armature resistance\n",
"RIP=0.00588;            // Interpole winding resistance\n",
"Rs=0.00272;             // Resistance of series field winding\n",
"n1=650;                 // Speed of shunt motor\n",
"Bp2=0.34;               // Air gap flux density from magnetization curve\n",
"Bp1=0.87;               // Air gap flux density from magnetization curve\n",
"\n",
"// Computation of Speed if the load is reduced to a value that causes the \n",
"// armature current to be 30 percent of the rated current\n",
"\n",
"Pin=HP*746/perratedload;       // Input power\n",
"IT=Pin/VT;                     // Total current\n",
"Ia=IT;                         // Armature current\n",
"\n",
"Racir=Ra+RIP+Rs;               // Resistance of armature circuit\n",
"Fnet1=Ns*Ia*(1-0.080);         // Net mmf\n",
"Fnet2=0.30*Fnet1;              // Net mmf from magnetization curve\n",
"n2=n1/((VT-(Ia*Racir))/Bp1 * Bp2/(VT-(0.30*Ia*Racir)));\n",
"\n",
"// Display result on command window\n",
"printf('\n Speed of the motor = %0.0f r/min ',n2);\n",
"\n",
""
   ]
   }
,
{
		   "cell_type": "markdown",
		   "metadata": {},
		   "source": [
			"## Example 11.4: EX11_4.sce"
		   ]
		  },
  {
"cell_type": "code",
	   "execution_count": null,
	   "metadata": {
	    "collapsed": true
	   },
	   "outputs": [],
"source": [
"// Example 11.4\n",
"// Computation of resistance using linear approximation and values are \n",
"// compared with results obtained in example 11.1\n",
"// Page No. 456\n",
"clc;\n",
"clear;\n",
"close;\n",
"\n",
"// Given data\n",
"HP=40;                   // hp rating of the device\n",
"%ratedload=0.902;        // Percentage rated load\n",
"VT=240;                  // Voltage value of motor\n",
"RF=99.5;                 // Resistance of shunt motor\n",
"Nf=1231;                 // Turns per pole of the shunt motor\n",
"Ra=0.0680;               // Armature resistance\n",
"RIP=0.0198;              // Interpole winding resistance\n",
"Rs=0.00911;              // Resistance of series field winding\n",
"Bp1=0.70;                // Flux density for a net mmf\n",
"n1=1150;                 // Speed of shunt motor\n",
"n2=1.25*n1;\n",
"IT=137.84; \n",
"// Computation of resistance using linear approximation and values are \n",
"// compared with results obtained in example 11.1\n",
"\n",
"IF=VT/RF;                // Field current\n",
"Ia1=IT-IF;               // Armature current\n",
"Fnet1=Nf*IF;             // Net mmf\n",
"Racir=Ra+RIP+Rs;         // Armature circuit resistance\n",
"Fnet2=Fnet1*(n1/n2)*((VT-Ia1*Racir*1.15)/(VT-Ia1*Racir));\n",
"IF1=Fnet2/Nf;           // Field current\n",
"Rx=(VT/IF1)-RF;         // External resistance required\n",
"\n",
"\n",
"// Display result on command window\n",
"printf('\n The resistance rating of an external resistance = %0.2f Ohm ',Rx);\n",
""
   ]
   }
,
{
		   "cell_type": "markdown",
		   "metadata": {},
		   "source": [
			"## Example 11.5: EX11_5.sce"
		   ]
		  },
  {
"cell_type": "code",
	   "execution_count": null,
	   "metadata": {
	    "collapsed": true
	   },
	   "outputs": [],
"source": [
"// Example 11.5\n",
"// Computation  using linear approximation to show the gross error that occurs \n",
"// when a linear assumption is applied to compound motors operating at overload \n",
"// conditions\n",
"// Page No. 456\n",
"\n",
"clc;\n",
"clear;\n",
"close;\n",
"\n",
"// Given data\n",
"Nf=577;                  // Turns per pole of the shunt motor\n",
"IF=4.88;                 // Field current\n",
"Ns=4.5;                 \n",
"IA=450.09;               // Armature current\n",
"F2=4367.8;               // mmf\n",
"VT=240;                  // Voltage value of motor\n",
"RF=49.2;                 // Resistance of shunt motor\n",
"HP=125;\n",
"perratedload=0.854;      // Percentage rated load\n",
"Rx1=17.8;                // Value of resistance in Example 11.2\n",
"\n",
"\n",
"Fnet1=(Nf*IF)+ (0.90 * Ns*IA);   \n",
"Ia2=Fnet1*IA/F2;         // Armature current\n",
"\n",
"If2=(F2 - Ns*Ia2*0.90)/Nf;\n",
"Rx=(VT/If2)-RF;         // External resistance required\n",
"\n",
"// Error introduced by linear approximation\n",
"PE=(17.8-Rx)/17.8*100;\n",
"\n",
"// Display result on command window\n",
"printf('\n External resistance required in series = %0.2f Ohm ',Rx);\n",
"printf('\n Error introduced by linear approximation = %0.1f Percent ',PE);\n",
""
   ]
   }
,
{
		   "cell_type": "markdown",
		   "metadata": {},
		   "source": [
			"## Example 11.6: EX11_6.sce"
		   ]
		  },
  {
"cell_type": "code",
	   "execution_count": null,
	   "metadata": {
	    "collapsed": true
	   },
	   "outputs": [],
"source": [
"// Example 11.6\n",
"// Determine (a) Torque developed when operating at rated speed (b) Developed \n",
"// torque required at half rated speed (c) Armature voltage required for half \n",
"// rated speed \n",
"// Page No. 460\n",
"\n",
"clc;\n",
"clear;\n",
"close;\n",
"\n",
"// Given data\n",
"\n",
"VT=750;                   // Voltage value of motor\n",
"Nf=1231;                  // Turns per pole of the shunt motor\n",
"Ra=0.00540;               // Armature resistance\n",
"RIPcw=0.00420;            // Interpole winding resistance\n",
"N=955;                    // Speed of shunt motor\n",
"Ia1=1675;                 // Armature current\n",
"\n",
"// (a) Torque developed when operating at rated speed \n",
"\n",
"Racir=Ra+RIPcw;\n",
"Ea=VT-Ia1*Racir;\n",
"Pmech=Ea*Ia1;\n",
"TD=Pmech*5252/N/746;\n",
"\n",
"// (b) Developed torque required at half rated speed \n",
"\n",
"T2=TD*(0.5*N/N)^2;\n",
"\n",
"// (c) Armature voltage required for half rated speed \n",
"\n",
"Ia2=T2*Ia1/TD;\n",
"V2=(0.5*N/N)*(VT-Ia1*Racir) + Ia2*Racir ;\n",
"\n",
"// Shaft load is adjusted to  value that limits the armature current to 115 % of rated current\n",
"\n",
"//Display result on command window\n",
"printf('\n Torque developed when operating at rated speed = %0.1f lb-ft ',TD);\n",
"printf('\n Developed torque required at half rated speed = %0.1f lb-ft  ',T2);\n",
"printf('\n Armature voltage required for half rated speed = %0.1f V ',V2);"
   ]
   }
,
{
		   "cell_type": "markdown",
		   "metadata": {},
		   "source": [
			"## Example 11.7: EX11_7.sce"
		   ]
		  },
  {
"cell_type": "code",
	   "execution_count": null,
	   "metadata": {
	    "collapsed": true
	   },
	   "outputs": [],
"source": [
"// Example 11.7\n",
"// Computation of the resistance of a dynamic braking resistor that will be \n",
"// capable of developing 500 lb-ft of braking torque at a speed of 1000 r/min.\n",
"// Page No. 464\n",
"\n",
"clc;\n",
"clear;\n",
"close;\n",
"\n",
"// Given data\n",
"T1=910;                          // Torque load\n",
"Pshaft=199.257*746;              // Power of shaft\n",
"eeta=0.940;                      // Efficiency\n",
"VT=240;                          // Rated voltage\n",
"T2=500;                          // Braking torque\n",
"n1=1000;                         // Windage and friction speed\n",
"n2=1150;                         // Speed of motor\n",
"Rf=52.6;                         // Field resistance\n",
"Racir=0.00707;                   // Combined armature,compensating winding and                                                               // interpolar resistance\n",
"\n",
"// Resistance of a dynamic braking resistor\n",
"Pshaft=T1*n2/5252;             // Shaft power \n",
"Pin=Pshaft*746/eeta;           // Input power\n",
"IT=Pin/VT;                     // Total current \n",
"If=VT/Rf;                      // Field current\n",
"Ia1=IT-If;                     // Armature current\n",
"Ea1=VT-Ia1*Racir;              // Armature emf\n",
"\n",
"Ia2=Ia1*T2/T1;                 // Armature current\n",
"Ea2=Ea1*n1/n2;\n",
"RDB=(Ea2-Ia2*Racir)/Ia2;       // Resistance\n",
"\n",
"//Display result on command window\n",
"printf('\n Resistance of the dynamic braking resistor = %0.3f Ohm ',RDB);"
   ]
   }
],
"metadata": {
		  "kernelspec": {
		   "display_name": "Scilab",
		   "language": "scilab",
		   "name": "scilab"
		  },
		  "language_info": {
		   "file_extension": ".sce",
		   "help_links": [
			{
			 "text": "MetaKernel Magics",
			 "url": "https://github.com/calysto/metakernel/blob/master/metakernel/magics/README.md"
			}
		   ],
		   "mimetype": "text/x-octave",
		   "name": "scilab",
		   "version": "0.7.1"
		  }
		 },
		 "nbformat": 4,
		 "nbformat_minor": 0
}
