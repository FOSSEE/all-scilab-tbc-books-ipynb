{
"cells": [
 {
		   "cell_type": "markdown",
	   "metadata": {},
	   "source": [
       "# Chapter 12: Direct Current Generator Characteristics and Operation"
	   ]
	},
{
		   "cell_type": "markdown",
		   "metadata": {},
		   "source": [
			"## Example 12.1: EX12_1.sce"
		   ]
		  },
  {
"cell_type": "code",
	   "execution_count": null,
	   "metadata": {
	    "collapsed": true
	   },
	   "outputs": [],
"source": [
"// Example 12.1\n",
"// Determine (a) Field circuit resistance (b) Field rheostat setting that will \n",
"// provide no load voltage of 140V (c) Armature voltage if the rheostat is set \n",
"// to 14.23 ohm (d) Field rheostat setting that will cause critical resistance \n",
"// (e) Armature voltage at 80 percent rated speed (f) Rheostat setting required \n",
"// to obtain no load armature voltage of 140V if shunt field is separately \n",
"// excited from a 120V DC source\n",
"// Page No. 479\n",
"\n",
"clc;\n",
"clear;\n",
"close;\n",
"\n",
"// Given data\n",
"Ea=156;               // No load voltage\n",
"If=4.7;               // Shunt field current\n",
"If140=2.35;           // New field current at Ea=140V\n",
"Eanew=140;            // No load voltage\n",
"Ifnew=3.2;            // Field current corresponding to no load voltage\n",
"Ea1=0;                // First arbitrary voltage\n",
"Ea2=100;              // Second arbitrary voltage\n",
"Vf=120;\n",
"V=130;                // Intersection of I1 and I2\n",
"Rrheonew=14.42;       // Rheostat set to new settings\n",
"Va=116;               // Intersection of field resistance line with the low \n",
"                      // speed magnetization curve\n",
"\n",
"\n",
"\n",
"//(a) Field circuit resistance\n",
"Rf=Ea/If;      // Field circuit resistance\n",
"\n",
"// (b) Field rheostat setting that will provide no load voltage of 140V\n",
"Rrheo=(Eanew/Ifnew)-Rf;\n",
"\n",
"//(c) Armature voltage if the rheostat is set to 14.23 ohm\n",
"Rnew=Rf+Rrheonew;      // New field resistance\n",
"If1=Ea1/(Rf+Rrheo);    // Field current corresponding to first arbitrary voltage\n",
"If2=Ea2/(Rf+Rrheo);    // Field current corresponding to second arbitrary voltage\n",
"\n",
"// (d) Field rheostat setting that will cause critical resistance \n",
"Rcr=Eanew/If140;         // Critical resistance\n",
"\n",
"// (e) Armature voltage at 80 percent rated speed\n",
"// Ea80=0.80*Ea;\n",
"Ea80=116;\n",
"\n",
"//(f) Rheostat setting required to obtain no load armature voltage of 140V if \n",
"// shunt field is separately excited from a 120V DC source\n",
"Rrheo1=(Vf/Ifnew)-Rf;   \n",
"\n",
"// Display result on command window\n",
"printf('\n Field circuit resistance = %0.2f Ohm',Rf);\n",
"printf('\n Field rheostat setting that will provide no load voltage of 140V = %0.2f Ohm ',Rrheo);\n",
"printf('\n Armature voltage if the rheostat is set to 14.23 ohm = %0.0f V ',V);\n",
"printf('\n Field rheostat setting that will cause critical resistance = %0.1f Ohm ',Rcr);\n",
"printf('\n Armature voltage at 80 percent rated speed (V)= %0.0f  ',Ea80);\n",
"printf('\n Rheostat setting required = %0.2f Ohm ',Rrheo1);\n",
""
   ]
   }
,
{
		   "cell_type": "markdown",
		   "metadata": {},
		   "source": [
			"## Example 12.2: EX12_2.sce"
		   ]
		  },
  {
"cell_type": "code",
	   "execution_count": null,
	   "metadata": {
	    "collapsed": true
	   },
	   "outputs": [],
"source": [
"// Example 12.2\n",
"// Computation of (a) No load voltage (b) Voltage regulation\n",
"// (c) Resistance setting of rheostat necessary to obtain rated voltage \n",
"// at rated conditions\n",
"// Page No. 487\n",
"\n",
"clc;\n",
"clear;\n",
"close;\n",
"\n",
"// Given data\n",
"P=300000;               // Shunt generator power rating\n",
"VT=240;                 // Shunt generator voltage rating\n",
"Ra=0.00234;             // Armature winding resistance\n",
"RIP=0.00080;            // Resistance of interpole winding\n",
"Fnet=5100;              // Net mmf\n",
"Vnl=255;                // No load voltage\n",
"Vrated=240;             // Rated voltage\n",
"Nf=1020;                // Turns per pole\n",
"Vf=120;                 // Source that separately excites the generator\n",
"If=5.69;\n",
"Rf=18.1;\n",
"\n",
"// (a) No load voltage\n",
"Ia=P/VT;               // Armature current\n",
"Ea=VT+Ia*(Ra+RIP);     // Armature emf\n",
"Ff=Fnet/(1-0.121);\n",
"\n",
"\n",
"// (b) Voltage regulation\n",
"VR=(Vnl-Vrated)*100/Vrated; \n",
"\n",
"// (c) Resistance setting of rheostat necessary to obtain rated voltage at rated conditions\n",
"If=Ff/Nf;\n",
"Rrheo=(Vf/If)-Rf; // Rheostat setting\n",
"\n",
"\n",
"// Display result on command window\n",
"printf('\n No load voltage = %0.0f V ',Vnl);\n",
"printf('\n Voltage regulation = %0.2f Percent ',VR);\n",
"printf('\n Resistance setting of rheostat necessary = %0.0f Ohm',Rrheo);"
   ]
   }
,
{
		   "cell_type": "markdown",
		   "metadata": {},
		   "source": [
			"## Example 12.3: EX12_3.sce"
		   ]
		  },
  {
"cell_type": "code",
	   "execution_count": null,
	   "metadata": {
	    "collapsed": true
	   },
	   "outputs": [],
"source": [
"// Example 12.3\n",
"// Computation of (a) Induced emf at rated load (b) No load voltage\n",
"// (c) Voltage regulation (d) What is the type of compounding?\n",
"// Page No. 492\n",
"\n",
"clc;\n",
"clear;\n",
"close;\n",
"\n",
"// Given data\n",
"Pload=320000;               // Shunt generator power rating\n",
"Vrated=250;                 // Shunt generator voltage rating\n",
"Rf=20.2;                    // Shunt resistance\n",
"Rrheo=7.70;                 // Shunt field rheostat value\n",
"If=8.96;                    // Field current\n",
"Iload=1280;                 // Load current\n",
"Ra=0.00817;                 // Armature resistance\n",
"Rip=0.00238;                // Resistance of interpole winding\n",
"Rse=0.00109;                // Resistance of series winding\n",
"Nf=502;                     // Turns per pole\n",
"VNL=225;                    // No load voltage\n",
"\n",
"// (a) Induced emf at rated load\n",
"Iload=Pload/Vrated;          // Load current\n",
"If=Vrated/(Rf+Rrheo);        // Field current\n",
"Ia=If+Iload;                 // Armature current\n",
"Racir=Ra+Rip+Rse;\n",
"Ea=Vrated+Ia*Racir;\n",
"\n",
"// (b) No load voltage\n",
"Ff=Nf*If; \n",
"\n",
"// (c) Voltage regulation\n",
"VR=(VNL-Vrated)*100/Vrated; \n",
"\n",
"\n",
"// Display result on command window\n",
"printf('\n Induced emf at rated load = %0.1f V ',Ea);\n",
"printf('\n No load voltage = %0.0f V ',VNL);\n",
"printf('\n Voltage regulation = %0.0f Percent ',VR);\n",
"printf('\n The machine is overcompounded ');"
   ]
   }
,
{
		   "cell_type": "markdown",
		   "metadata": {},
		   "source": [
			"## Example 12.4: EX12_4.sce"
		   ]
		  },
  {
"cell_type": "code",
	   "execution_count": null,
	   "metadata": {
	    "collapsed": true
	   },
	   "outputs": [],
"source": [
"// Example 12.4\n",
"// Computation of (a) Required resistance of a noninductive diverter that will \n",
"// bypass 27 percent of the total armature current(b) Power rating of the \n",
"// diverter\n",
"// Page No. 494\n",
"\n",
"clc;\n",
"clear;\n",
"close;\n",
"\n",
"// Given data\n",
"Rs=0.00306;               // Shunt generator resistance rating\n",
"Is=0.73;                  // Shunt generator current rating\n",
"Id1=0.27;                 // Armature winding resistance\n",
"Pload=170000;             // Load of power\n",
"VT=250;                   // Shunt generator voltage rating\n",
"Id2=680;                  // No load voltage\n",
"Rd=0.27;                  // Resistance drop\n",
"\n",
"// (a) Required resistance of a noninductive diverter that will bypass \n",
"// 27 percent of the total armature current\n",
"Rd=Rs*Is/Id1;\n",
"\n",
"\n",
"// (b) Power rating of the diverter\n",
"Ia=Pload/VT; \n",
"Pd=((Id1*Id2)^2)*Rd;\n",
"\n",
"\n",
"\n",
"//Display result on command window\n",
"printf('\n Required resistance of a noninductive diverter = %0.5f Ohm ',Rd);\n",
"printf('\n Power rating of the diverter = %0.0f W ',Pd);"
   ]
   }
,
{
		   "cell_type": "markdown",
		   "metadata": {},
		   "source": [
			"## Example 12.5: Computation_of_New_bus_voltage_and_Current_supplied_by_each_generator.sce"
		   ]
		  },
  {
"cell_type": "code",
	   "execution_count": null,
	   "metadata": {
	    "collapsed": true
	   },
	   "outputs": [],
"source": [
"// Example 12.5\n",
"// Computation of (a) New bus voltage (b) Current supplied by each generator\n",
"//Page No. 500\n",
"\n",
"clc;\n",
"clear;\n",
"close;\n",
"\n",
"// Given data\n",
"p1=300000;               // Rated power in generator A\n",
"p2=400000;               // Rated power in generator B\n",
"v=250;                   // Rated voltage in machine\n",
"p3=350000;               // Rated power in generator C\n",
"Ibnew=2500;\n",
"\n",
"// (a) New bus voltage\n",
"\n",
"IArated=p1/v;               // Rated current in generator A\n",
"IBrated=p2/v;               // Rated current in generator B\n",
"IBorig=p3/v;                // Original bus current\n",
"IbDelta=Ibnew-IBorig;       // Current difference\n",
"DelVbus=IbDelta/(160+128);  // Voltage difference\n",
"\n",
"\n",
"// (b) Current supplied by each generator\n",
"DelIA=160*DelVbus;          // Generator A current difference\n",
"DelIB=128*DelVbus;          // Generator A current difference\n",
"Vbus=v-DelVbus;             // Voltage across the bus\n",
"IA=700+DelIA;               // Current in generator A\n",
"IB=700+DelIB;               // Current in generator B\n",
"\n",
"Loading= (IA-IArated)*100/IArated;\n",
"\n",
"\n",
"// Display result on command window\n",
"printf('\n New bus voltage = %0.2f V ',DelVbus);\n",
"printf('\n Current supplied by generator A = %0.0f A ',IA);\n",
"printf('\n Current supplied by generator B = %0.0f A ',IB);\n",
"printf('\n Macine A is overloaded by %0.1f Percent ',Loading);"
   ]
   }
,
{
		   "cell_type": "markdown",
		   "metadata": {},
		   "source": [
			"## Example 12.6: EX12_6.sce"
		   ]
		  },
  {
"cell_type": "code",
	   "execution_count": null,
	   "metadata": {
	    "collapsed": true
	   },
	   "outputs": [],
"source": [
"// Example 12.6\n",
"// Determine (a) The increment increase in load on each machine if an \n",
"// additional 400 A load is connected to the bus (b) Current carried \n",
"// by each machine\n",
"// Page No. 502\n",
"\n",
"clc;\n",
"clear;\n",
"close;\n",
"\n",
"// Given data\n",
"p1=100000;                // Rated power in generator A\n",
"p2=300000;                // Rated power in generator B\n",
"v=250;                    // Rated voltage in machine\n",
"p3=30000;                 // Rated power in generator C\n",
"Ibnew=400;                // New bus current\n",
"I1=200;\n",
"I2=500;\n",
"\n",
"// (a) The increment increase in load on each machine if an additional 400 A \n",
"// load is connected to the bus\n",
"\n",
"IArated=p1/v;                      // Rated current in generator A\n",
"IBrated=p2/v;                      // Rated current in generator B\n",
"Ib=p3/v;                           // Original bus current\n",
"DelVbus=Ibnew/(40+120);            // Change in bus current\n",
"DelIA=40*DelVbus;\n",
"DelIB=120*DelVbus;\n",
"\n",
"\n",
"// (b) Current carried by each machine\n",
"\n",
"IA=I1+DelIA;                // Current in generator A\n",
"IB=I2+DelIB;                // Current in generator B\n",
"\n",
"\n",
"// Display result on command window\n",
"printf('\n The increment increase in load on machine A = %0.0f A ',DelIA);\n",
"printf('\n The increment increase in load on machine B = %0.0f A ',DelIB);\n",
"printf('\n Current carried by machine A = %0.0f A ',IA);\n",
"printf('\n Current carried by machine B = %0.0f A ',IB);\n",
""
   ]
   }
],
"metadata": {
		  "kernelspec": {
		   "display_name": "Scilab",
		   "language": "scilab",
		   "name": "scilab"
		  },
		  "language_info": {
		   "file_extension": ".sce",
		   "help_links": [
			{
			 "text": "MetaKernel Magics",
			 "url": "https://github.com/calysto/metakernel/blob/master/metakernel/magics/README.md"
			}
		   ],
		   "mimetype": "text/x-octave",
		   "name": "scilab",
		   "version": "0.7.1"
		  }
		 },
		 "nbformat": 4,
		 "nbformat_minor": 0
}
