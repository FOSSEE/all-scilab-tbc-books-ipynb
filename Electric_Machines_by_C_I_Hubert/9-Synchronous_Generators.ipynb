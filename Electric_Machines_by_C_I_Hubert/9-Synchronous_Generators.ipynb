{
"cells": [
 {
		   "cell_type": "markdown",
	   "metadata": {},
	   "source": [
       "# Chapter 9: Synchronous Generators"
	   ]
	},
{
		   "cell_type": "markdown",
		   "metadata": {},
		   "source": [
			"## Example 9.10: EX9_10.sce"
		   ]
		  },
  {
"cell_type": "code",
	   "execution_count": null,
	   "metadata": {
	    "collapsed": true
	   },
	   "outputs": [],
"source": [
"// Example 9.10\n",
"// Repeat the example 9.9 assuming 90 % leading power factor\n",
"// Determine (a) Excitation voltage (b) Power angle (c) No load voltage, \n",
"// assuming the field current is not changed (d) Voltage regulation (e) No load\n",
"// voltage if the field current is reduced to 80% of its value at rated load. \n",
"// Page 372\n",
"clc;\n",
"clear;\n",
"close;\n",
"// Given data\n",
"V=4800;                     // Voltage of synchronous generator\n",
"PF=0.900;                   // Lagging power factor\n",
"S_Mag=1000000/3;\n",
"Xa_Mag=13.80;               // Synchronous reactance\n",
"Xa_Ang=90;\n",
"Vt_Ang=0;  \n",
"// (a) Excitation voltage \n",
"Vt=V/sqrt(3);              \n",
"Theta=acosd(PF);                // Angle\n",
"Ia_Magstar=S_Mag/Vt;            // Magnitude of curent\n",
"Ia_Angstar=Theta-0;             // Angle of current\n",
"Ia_Mag=Ia_Magstar;\n",
"Ia_Ang=Ia_Angstar;\n",
"// Ef=Vt+Ia*j*Xa\n",
"// First compute Ia*Xa\n",
"IaXa_Mag=Ia_Mag*Xa_Mag;\n",
"IaXa_Ang=Ia_Ang+Xa_Ang;\n",
"// Polar to Complex form for IaXa\n",
"IaXa_R=IaXa_Mag*cos(-IaXa_Ang*%pi/180); // Real part of complex number\n",
"IaXa_I=IaXa_Mag*sin(IaXa_Ang*%pi/180);  // Imaginary part of complex number\n",
"// Vt term in polar form\n",
"Vt_Mag=Vt;\n",
"Vt_Ang=Vt_Ang;\n",
"// Polar to Complex form for Vt\n",
"Vt_R=Vt_Mag*cos(-Vt_Ang*%pi/180);      // Real part of complex number\n",
"Vt_I=Vt_Mag*sin(Vt_Ang*%pi/180);       // Imaginary part of complex number\n",
"// Ef in complex form\n",
"Ef_R=IaXa_R+Vt_R;\n",
"Ef_I=IaXa_I+Vt_I;\n",
"Ef=Ef_R+%i*Ef_I;\n",
"// Complex to Polar form for Ef\n",
"Ef_Mag=sqrt(real(Ef)^2+imag(Ef)^2);        // Magnitude part\n",
"Ef_Ang= atan(imag(Ef),real(Ef))*180/%pi;   // Angle part \n",
"// (b) Power angle\n",
"PA=Ef_Ang;\n",
"// (c) No load voltage, assuming the field current is not changed \n",
"// From figure 9.23 (b)\n",
"VolAxis=Vt_Mag/30;        // The scale at the given voltage axis\n",
"Ef_loc=Ef_Mag/VolAxis;    // Location of Ef voltage\n",
"Vnl=29*VolAxis;         // No load voltage\n",
"// (d) Voltage regulation\n",
"VR=(Vnl-Vt)/Vt*100;\n",
"// Display result on command window\n",
"printf('\n Excitation voltage = %0.0f V ',Ef_Mag);\n",
"printf('\n Power angle = %0.1f deg ',PA);\n",
"printf('\n No load voltage = %0.0f V ',Vnl);\n",
"printf('\n Voltage regulation = %0.2f Percent ',VR);\n",
"disp('The leading power factor resulted in a negativr voltage regulation')"
   ]
   }
,
{
		   "cell_type": "markdown",
		   "metadata": {},
		   "source": [
			"## Example 9.11: EX9_11.sce"
		   ]
		  },
  {
"cell_type": "code",
	   "execution_count": null,
	   "metadata": {
	    "collapsed": true
	   },
	   "outputs": [],
"source": [
"// Example 9.11\n",
"// Determine (a) Equivalent armature resistance (b) Synchronous reactance \n",
"// (c) Short-circuit ratio\n",
"// Page 377\n",
"clc;\n",
"clear;\n",
"close;\n",
"// Given data\n",
"Vdc=10.35;                 // DC voltage\n",
"Idc=52.80;                 // DC current\n",
"VOCph=240/sqrt(3);         // Open-circuit phase voltage\n",
"ISCph=115.65;              // Short-circuit phase current\n",
"P=50000;  \n",
"V=240;                     // Supply voltage\n",
"// (a) Equivalent armature resistance\n",
"Rdc=Vdc/Idc;               // DC resistance\n",
"Rgamma=Rdc/2;\n",
"Ra=1.2*Rgamma;             // Armature resistance\n",
"// (b) Synchronous reactance \n",
"Zs= VOCph/ISCph;          // Synchronous impedance/phase\n",
"Xs=sqrt(Zs^2-Ra^2);\n",
"// (c) Short-circuit ratio\n",
"Sbase=P/3;                // Power/phase\n",
"Vbase=V/sqrt(3);          // Voltage/phase\n",
"Zbase=Vbase^2/Sbase;\n",
"Xpu=Xs/Zbase;             // Per unit synchronous reactance\n",
"SCR=1/Xpu;                // Short-circuit ratio\n",
"// Display result on command window\n",
"printf('\n Equivalent armature resistance = %0.4f Ohm ',Ra);\n",
"printf('\n Synchronous reactance = %0.4f Ohm ',Xs);\n",
"printf('\n Short-circuit ratio = %0.3f ',SCR);"
   ]
   }
,
{
		   "cell_type": "markdown",
		   "metadata": {},
		   "source": [
			"## Example 9.1: EX9_1.sce"
		   ]
		  },
  {
"cell_type": "code",
	   "execution_count": null,
	   "metadata": {
	    "collapsed": true
	   },
	   "outputs": [],
"source": [
"// Example 9.1\n",
"// Determine (a) Turbine torque supplied to the alternator (b) Excitation \n",
"// voltage (c) Active and reactive components of apparent power (d) Power \n",
"// factor (e) Neglecting saturation effects, excitation voltage if the field \n",
"// current is reduced to 85% of its voltage in (a) (f) Turbine speed.\n",
"// Page No. 342\n",
"\n",
"clc; \n",
"clear;\n",
"close;\n",
"\n",
"// Given data\n",
"hp=112000;                  // Power input\n",
"n=746*3600;                 // Speed\n",
"VT=460;                     // 3-Phase supply voltage\n",
"Pout=112000;                // Power\n",
"Xs=1.26;                    // Synchronous reactnace\n",
"delta=25;                   // Power angle\n",
"eta=0.85;                   // Percent reduction factor\n",
"P=2;                        // Number of poles\n",
"f=60;                       // Frequnecy\n",
"\n",
"// (a) Turbine torque supplied to the alternator\n",
"T=(hp*5252)/n;\n",
"\n",
"// (b) Excitation voltage\n",
"Vt=VT/sqrt(3);                 // Voltage/phase\n",
"Ef=(Pout*Xs)/(3*Vt*sind(delta));\n",
"\n",
"// (c) Active and reactive components of apparent power\n",
"// Vt=Ef-Ia*j*Xs\n",
"// Solving for Vt-Ef\n",
"Vt_Mag=Vt;\n",
"Vt_Ang=0;\n",
"Ef_Mag=Ef;\n",
"Ef_Ang=delta;\n",
"// \n",
"N01=Ef_Mag+%i*Ef_Ang;      // Ef in polar form \n",
"N02=Vt_Mag+%i*Vt_Ang;      // Vt in polar for\n",
"\n",
"N01_R=Ef_Mag*cos(-Ef_Ang*%pi/180); // Real part of complex number Ef\n",
"N01_I=Ef_Mag*sin(Ef_Ang*%pi/180); //Imaginary part of complex number Ef\n",
"\n",
"N02_R=Vt_Mag*cos(-Vt_Ang*%pi/180); // Real part of complex number Vt\n",
"N02_I=Vt_Mag*sin(Vt_Ang*%pi/180); //Imaginary part of complex number Vt\n",
"\n",
"FinalNo_R=N01_R-N02_R;\n",
"FinalNo_I=N01_I-N02_I;\n",
"FinNum=FinalNo_R+%i*FinalNo_I;\n",
"\n",
"// Now FinNum/Xs in polar form\n",
"FinNum_Mag=sqrt(real(FinNum)^2+imag(FinNum)^2);         // Magnitude part\n",
"FinNum_Ang = atan(imag(FinNum),real(FinNum))*180/%pi;   // Angle part \n",
"Ia_Mag=FinNum_Mag/Xs;\n",
"Ia_Ang=FinNum_Ang-90;\n",
"\n",
"// Computation of S=3*Vt*Ia*\n",
"S_Mag=3*Vt_Mag*Ia_Mag;\n",
"S_Ang=Vt_Ang+-Ia_Ang;\n",
"\n",
"// Polar to complex form\n",
"S_R=S_Mag*cos(-S_Ang*%pi/180);  // Real part of complex number S\n",
"S_I=S_Mag*sin(S_Ang*%pi/180);   // Imaginary part of complex number S\n",
"\n",
"// (d) Power factor\n",
"Fp=cosd(Ia_Ang);\n",
"\n",
"// (e) Excitation voltage\n",
"Efnew=eta*Ef_Mag;\n",
"\n",
"// (f) Turbine speed\n",
"ns=120*f/P;\n",
"\n",
"// Display result on command window\n",
"printf('\n Turbine torque supplied to the alternator  = %0.1f lb-ft ',T);\n",
"printf('\n Excitation voltage = %0.1f V/phase ',Ef);\n",
"printf('\n Active components of apparent power= %0.0f kW ',S_R/1000);\n",
"printf('\n Reactive components of apparent power= %0.1f kvar lagging ',S_I/1000);\n",
"printf('\n Power factor = %0.2f lagging ',Fp);\n",
"printf('\n Excitation voltage new = %0.1f V/phase ',Efnew);\n",
"printf('\n Turbine speed = %0.0f r/min ',ns);"
   ]
   }
,
{
		   "cell_type": "markdown",
		   "metadata": {},
		   "source": [
			"## Example 9.2: Determine_Speed_regulation_and_Governor_drop.sce"
		   ]
		  },
  {
"cell_type": "code",
	   "execution_count": null,
	   "metadata": {
	    "collapsed": true
	   },
	   "outputs": [],
"source": [
"// Example 9.2\n",
"// Determine (a) Speed regulation (b) Governor drop\n",
"// Page 351\n",
"clc;\n",
"clear;\n",
"close;\n",
"// Given data\n",
"fn1=61.2;                   // No-load frequency\n",
"frated=60;                  // Rated requency\n",
"deltaP=500;                 // Governor rated power\n",
"// (a) Speed regulation\n",
"GSR=(fn1-frated)/frated;\n",
"// (b) Governor drop\n",
"deltaF=(fn1-frated);        // Frequency difference\n",
"GD=deltaF/deltaP;\n",
"// Display result on command window\n",
"printf('\n Speed regulation = %0.2f  ',GSR);\n",
"printf('\n Governor drop = %0.5f Hz/kW ',GD);\n",
" "
   ]
   }
,
{
		   "cell_type": "markdown",
		   "metadata": {},
		   "source": [
			"## Example 9.3: EX9_3.sce"
		   ]
		  },
  {
"cell_type": "code",
	   "execution_count": null,
	   "metadata": {
	    "collapsed": true
	   },
	   "outputs": [],
"source": [
"// Example 9.3\n",
"// Determine (a) Frequency of generator A (b) Frequency of generator B \n",
"// (c) Frequency of bus\n",
"// Page 358\n",
"clc;\n",
"clear;\n",
"close;\n",
"// Given data\n",
"GSR=0.020;                   // Governor speed regulation\n",
"Frated=60;                   // Rated frequency\n",
"deltaPa=100;                 // Change in load (200-100 =100 KW)\n",
"Prated=500;                  // Rated power of both generators\n",
"       \n",
"// (a) Frequency of generator A \n",
"deltaFa=(GSR*Frated*deltaPa)/Prated; // Change in frequency due to change in load\n",
"Fa=Frated+deltaFa;                   // Frequency of generator A\n",
"// (b) Frequency of generator B\n",
"deltaFb=0.24;                        // Since both machines are identical\n",
"Fb=Frated-deltaFb;\n",
"// (c) Frequency of bus\n",
"Fbus=Fb;                             // Bus frequency is frequency of generator B\n",
"// Display result on command window\n",
"printf('\n Frequency of generator A = %0.2f Hz ',Fa);\n",
"printf('\n Frequency of generator B = %0.2f Hz ',Fb);\n",
"printf('\n Frequency of bus = %0.2f Hz ',Fbus);\n",
" "
   ]
   }
,
{
		   "cell_type": "markdown",
		   "metadata": {},
		   "source": [
			"## Example 9.4: Determine_Operating_frequency_and_Load_carried_by_each_machine.sce"
		   ]
		  },
  {
"cell_type": "code",
	   "execution_count": null,
	   "metadata": {
	    "collapsed": true
	   },
	   "outputs": [],
"source": [
"// Example 9.4\n",
"// Determine (a) Operating frequency (b) Load carried by each machine\n",
"// Page 359\n",
"clc;\n",
"clear;\n",
"close;\n",
"// Given data\n",
"GSR=0.0243;                  // Governor speed regulation\n",
"Frated=60;                   // Rated frequency\n",
"deltaPa=500;                 // Change in load for alternator A\n",
"Prateda=500;                 // Rated power of alternator A\n",
"deltaPb=400;                 // Change in load for alternator B\n",
"Pratedb=300;                 // Rated power of alternator B   \n",
"Pch=100;                     // Change is power (500-400=100 KW))            \n",
"Pchmach=200;                 // Power difference (500-300=200 KW)    \n",
"// (a) Operating frequency\n",
"// From the curve in figure 9.17\n",
"// GSR*Frated/Prated=deltaP/deltaP\n",
"deltaF=(deltaPa-deltaPb)/548.697;   // Change in frequency\n",
"Fbus=60.5-deltaF;\n",
"               \n",
"// (b) Load carried by each machine\n",
"deltaPa=(deltaF*Prateda)/(GSR*Frated); // Change in power for machine A\n",
"deltaPb=Pch-deltaPa;                   // Change in power for machine B\n",
"Pa=Pchmach+deltaPa;\n",
"Pb=Pchmach+deltaPb;\n",
"// Display result on command window\n",
"printf('\n Operating frequency = %0.3f Hz ',Fbus);\n",
"printf('\n Load carried by machine A = %0.2f kW',Pa);\n",
"printf('\n Load carried by machine B = %0.2f kW',Pb);\n",
" "
   ]
   }
,
{
		   "cell_type": "markdown",
		   "metadata": {},
		   "source": [
			"## Example 9.5: Determine_Bus_frequency_and_Load_on_each_machine.sce"
		   ]
		  },
  {
"cell_type": "code",
	   "execution_count": null,
	   "metadata": {
	    "collapsed": true
	   },
	   "outputs": [],
"source": [
"// Example 9.5\n",
"// Determine (a) Bus frequency (b) Load on each machine\n",
"// Page 360\n",
"clc;\n",
"clear;\n",
"close;\n",
"// Given data\n",
"Padd=720;                    // Additional load connected\n",
"GD=0.0008;                   // Governor droop\n",
"f=60.2;                      // Frequency of machine\n",
"Pbus=900;                    // Bus load\n",
"// (a) Bus frequency\n",
"deltaPa=Padd/2;        \n",
"deltaPb=deltaPa;           // Since both machines have identical governor drops       \n",
"deltaF=GD*deltaPa;         // Change in frequency\n",
"Fbus=f-deltaF;\n",
"// (b) Load on each machine\n",
"Pa=(2/3)*Pbus+deltaPa;     // Load on machine A\n",
"Pb=(1/3)*Pbus+deltaPb;     // Load on machine B\n",
"// Display result on command window\n",
"printf('\n Bus frequency = %0.2f Hz ',Fbus);\n",
"printf('\n Load on machine A = %0.0f kW',Pa);\n",
"printf('\n Load on machine B = %0.0f kW',Pb);\n",
" "
   ]
   }
,
{
		   "cell_type": "markdown",
		   "metadata": {},
		   "source": [
			"## Example 9.6: EX9_6.sce"
		   ]
		  },
  {
"cell_type": "code",
	   "execution_count": null,
	   "metadata": {
	    "collapsed": true
	   },
	   "outputs": [],
"source": [
"// Example 9.6\n",
"// Determine (a) System kilowatts (b) System frequency (c) kilowatt loads\n",
"// carried by each machine\n",
"// Page 361\n",
"clc;\n",
"clear;\n",
"close;\n",
"// Given data\n",
"Pres=440;                    // Resistive load\n",
"PF=0.8;                      // Power factor\n",
"Pind=200;                    // Induction motor power\n",
"Palt=210;                    // Alternator bus load\n",
"deltaPa=70;                  // Change in load for machine A\n",
"f=60;                        // Frequency\n",
"deltaPb=70;                  // Change in load for machine B\n",
"deltaPc=70;                  // Change in load for machine C\n",
"// (a) System kilowatts \n",
"deltaPbus=Pres+PF*Pind;     // Increase in bus load\n",
"Psys=Palt+deltaPbus;\n",
"// (b) System frequency\n",
"GDa=(60.2-f)/deltaPa;       // Governor droop for machine A\n",
"GDb=(60.4-f)/deltaPb;       // Governor droop for machine B\n",
"GDc=(60.6-f)/deltaPc;       // Governor droop for machine C\n",
"// From the figure 9.18(b)\n",
"deltaF=600/(350+175+116.6667) ;\n",
"f2=f-deltaF;\n",
"// (c) Kilowatt loads carried by each machine\n",
"Pa2=deltaPa+350*deltaF;\n",
"Pb2=deltaPb+175*deltaF;\n",
"Pc2=deltaPc+116.6667*deltaF;\n",
"// Display result on command window\n",
"printf('\n System kilowatts = %0.0f kW ',Psys);\n",
"printf('\n System frequency = %0.2f Hz',f2);\n",
"printf('\n Kilowatt loads carried by machine A = %0.1f kW',Pa2);\n",
"printf('\n Kilowatt loads carried by machine B = %0.1f kW',Pb2);\n",
"printf('\n Kilowatt loads carried by machine C = %0.1f kW',Pc2); "
   ]
   }
,
{
		   "cell_type": "markdown",
		   "metadata": {},
		   "source": [
			"## Example 9.7: EX9_7.sce"
		   ]
		  },
  {
"cell_type": "code",
	   "execution_count": null,
	   "metadata": {
	    "collapsed": true
	   },
	   "outputs": [],
"source": [
"// Example 9.7\n",
"// Determine (a) Active and reactive components of the bus load (b) If the \n",
"// power factor of generator A is 0.94 lagging, determine the reactive power\n",
"// supplied by each machine.\n",
"// Page 366\n",
"clc;\n",
"clear;\n",
"close;\n",
"// Given data\n",
"Pbuspower=500;              // Power supplied\n",
"Pind=200;                   // Induction motor power\n",
"PF=0.852;                   // Percent power factor\n",
"NA=2;                       // Number of alternators\n",
"LPF=0.94;                   // Lagging power factor\n",
"// (a) Active and reactive components of the bus load \n",
"Pbus=Pbuspower+Pind*PF;      // Active component of the bus load\n",
"ThetaMot=acosd(PF);          // Power angle of motor\n",
"Qbus=Pind*sind(ThetaMot);    // Reactive component the bus load\n",
"// (b) Reactive power supplied by each machine\n",
"Pa=Pbus/NA;                  // Alternator A power\n",
"ThetaA=acosd(LPF);           // Alternator A angle\n",
"Qa=tand(ThetaA)*Pa;          // Reactive power supplied by machine A\n",
"Qb=Qbus-Qa;                  // Reactive power supplied by machine B                 \n",
"// Display result on command window\n",
"printf('\n Active component of the bus load = %0.2f kW ',Pbus);\n",
"printf('\n Reactive component of the bus load  = %0.1f kvar',Qbus);\n",
"printf('\n Reactive power supplied by machine A = %0.1f kvar',Qa);\n",
"printf('\n Reactive power supplied by machine B = %0.1f kvar',Qb);"
   ]
   }
,
{
		   "cell_type": "markdown",
		   "metadata": {},
		   "source": [
			"## Example 9.8: Computation_of_per_unit_impedance_of_a_generator.sce"
		   ]
		  },
  {
"cell_type": "code",
	   "execution_count": null,
	   "metadata": {
	    "collapsed": true
	   },
	   "outputs": [],
"source": [
"// Example 9.8\n",
"// Computation of per-unit impedance of a generator\n",
"// Page 368\n",
"clc;\n",
"clear;\n",
"close;\n",
"// Given data\n",
"P=100000;                   // Power of synchronous generator\n",
"V=480;                      // Voltage of synchronous generator\n",
"Ra=0.0800;                  // Resistive component\n",
"Xs=2.3;                     // Reactive component\n",
"// Computation of per-unit impedance of a generator\n",
"Sbase=P/3;                  // Rated apparent power per phase\n",
"Vbase=V/sqrt(3);            // Rated voltage per phase\n",
"Zbase=Vbase^2/Sbase;        // Rated impedance\n",
"Rpu=Ra/Zbase;               // Per unit resistance\n",
"Xpu=Xs/Zbase;               // Per unit reactance\n",
"Zpu=Rpu+%i*Xpu;             // Per unit impedance\n",
"// Complex to Polar form...\n",
"Zpu_Mag=sqrt(real(Zpu)^2+imag(Zpu)^2);       // Magnitude part\n",
"Zpu_Ang = atan(imag(Zpu),real(Zpu))*180/%pi; // Angle part \n",
"// Display result on command window\n",
"printf('\n Per-unit impedance magnitude = %0.4f Ohm ',Zpu_Mag);\n",
"printf('\n Per-unit impedance angle = %0.2f deg ',Zpu_Ang);"
   ]
   }
,
{
		   "cell_type": "markdown",
		   "metadata": {},
		   "source": [
			"## Example 9.9: EX9_9.sce"
		   ]
		  },
  {
"cell_type": "code",
	   "execution_count": null,
	   "metadata": {
	    "collapsed": true
	   },
	   "outputs": [],
"source": [
"// Example 9.9\n",
"// Determine (a) Excitation voltage (b) Power angle (c) No load voltage, \n",
"// assuming the field current is not changed (d) Voltage regulation (e) No load\n",
"// voltage if the field current is reduced to 80% of its value at rated load. \n",
"// Page 369\n",
"clc;\n",
"clear;\n",
"close;\n",
"// Given data\n",
"V=4800;                     // Voltage of synchronous generator\n",
"PF=0.900;                   // Lagging power factor\n",
"S_Mag=1000000/3;\n",
"Xa_Mag=13.80;               // Synchronous reactance\n",
"Xa_Ang=90;\n",
"Vt_Ang=0;  \n",
"// (a) Excitation voltage \n",
"Vt=V/sqrt(3);              \n",
"Theta=acosd(PF);                // Angle\n",
"Ia_Magstar=S_Mag/Vt;            // Magnitude of curent\n",
"Ia_Angstar=Theta-0;             // Angle of current\n",
"Ia_Mag=Ia_Magstar;\n",
"Ia_Ang=-Ia_Angstar;\n",
"// Ef=Vt+Ia*j*Xa\n",
"// First compute Ia*Xa\n",
"IaXa_Mag=Ia_Mag*Xa_Mag;\n",
"IaXa_Ang=Ia_Ang+Xa_Ang;\n",
"// Polar to Complex form for IaXa\n",
"IaXa_R=IaXa_Mag*cos(-IaXa_Ang*%pi/180); // Real part of complex number\n",
"IaXa_I=IaXa_Mag*sin(IaXa_Ang*%pi/180);  // Imaginary part of complex number\n",
"// Vt term in polar form\n",
"Vt_Mag=Vt;\n",
"Vt_Ang=Vt_Ang;\n",
"// Polar to Complex form for Vt\n",
"Vt_R=Vt_Mag*cos(-Vt_Ang*%pi/180);      // Real part of complex number\n",
"Vt_I=Vt_Mag*sin(Vt_Ang*%pi/180);       // Imaginary part of complex number\n",
"// Ef in complex form\n",
"Ef_R=IaXa_R+Vt_R;\n",
"Ef_I=IaXa_I+Vt_I;\n",
"Ef=Ef_R+%i*Ef_I;\n",
"// Complex to Polar form for Ef\n",
"Ef_Mag=sqrt(real(Ef)^2+imag(Ef)^2);        // Magnitude part\n",
"Ef_Ang= atan(imag(Ef),real(Ef))*180/%pi;   // Angle part \n",
"// (b) Power angle\n",
"PA=Ef_Ang;\n",
"// (c) No load voltage, assuming the field current is not changed \n",
"// From figure 9.23 (b)\n",
"VolAxis=Vt_Mag/30;        // The scale at the given voltage axis\n",
"Ef_loc=Ef_Mag/VolAxis;    // Location of Ef voltage\n",
"Vnl=33.4*VolAxis;         // No load voltage\n",
"// (d) Voltage regulation\n",
"VR=(Vnl-Vt)/Vt*100;\n",
"// (e) No load voltage if the field current is reduced to 80% \n",
"Vnlnew=31*VolAxis;\n",
"// Display result on command window\n",
"printf('\n Excitation voltage = %0.0f V ',Ef_Mag);\n",
"printf('\n Power angle = %0.1f deg ',PA);\n",
"printf('\n No load voltage = %0.0f V ',Vnl);\n",
"printf('\n Voltage regulation = %0.0f Percent ',VR);\n",
"printf('\n No load voltage when field current is reduced to 80 percent = %0.0f V ',Vnlnew);"
   ]
   }
],
"metadata": {
		  "kernelspec": {
		   "display_name": "Scilab",
		   "language": "scilab",
		   "name": "scilab"
		  },
		  "language_info": {
		   "file_extension": ".sce",
		   "help_links": [
			{
			 "text": "MetaKernel Magics",
			 "url": "https://github.com/calysto/metakernel/blob/master/metakernel/magics/README.md"
			}
		   ],
		   "mimetype": "text/x-octave",
		   "name": "scilab",
		   "version": "0.7.1"
		  }
		 },
		 "nbformat": 4,
		 "nbformat_minor": 0
}
