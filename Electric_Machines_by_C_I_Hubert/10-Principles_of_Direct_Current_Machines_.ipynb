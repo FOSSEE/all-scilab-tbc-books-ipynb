{
"cells": [
 {
		   "cell_type": "markdown",
	   "metadata": {},
	   "source": [
       "# Chapter 10: Principles of Direct Current Machines "
	   ]
	},
{
		   "cell_type": "markdown",
		   "metadata": {},
		   "source": [
			"## Example 10.10: Computation_of_Mechanical_power_developed_and_Torque_developed_and_Shaft_torque.sce"
		   ]
		  },
  {
"cell_type": "code",
	   "execution_count": null,
	   "metadata": {
	    "collapsed": true
	   },
	   "outputs": [],
"source": [
"// Example 10.10\n",
"// Computation of (a) Mechanical power developed (b) Torque developed \n",
"// (c) Shaft torque\n",
"// Page No.427\n",
"\n",
"clc;\n",
"clear;\n",
"close;\n",
"\n",
"// Given data\n",
"T=40;                  // Hp rating of motor\n",
"Rf=95.3;               // Field resistance\n",
"VT=240;                // Rated voltade of the machine\n",
"IT=140;                // Total current\n",
"Racir=0.0873;          // Armature circuit resistance\n",
"n=2500;                // Rated speed of the machine\n",
"\n",
"\n",
"// (a) The mechanical power developed\n",
"\n",
"If=VT/Rf;               // Field winding current\n",
"Ia1=IT-If;              // Armature current\n",
"Ea=VT-Ia1*Racir;        // Armature emf\n",
"Pmech=Ea*Ia1;           // Mechanical power\n",
"Pmechhp=Ea*Ia1/746;\n",
"\n",
"// (b) Torque developed\n",
"\n",
"TD=7.04*Ea*Ia1/n;\n",
"\n",
"// (c) Shaft torque\n",
"\n",
"Tshaft=T*5252/n;\n",
"\n",
"// Display result on command window\n",
"printf('\n Mechanical power developed= %0.0f W ',Pmech);\n",
"printf('\n Mechanical power developed= %0.1f hp ',Pmechhp);\n",
"printf('\n Torque developed = %0.1f lb-ft ',TD);\n",
"printf('\n Shaft torque = %0.1f lb-ft ',Tshaft);\n",
"\n",
"\n",
"\n",
""
   ]
   }
,
{
		   "cell_type": "markdown",
		   "metadata": {},
		   "source": [
			"## Example 10.11: Determine_Electrical_losses_and_Rotational_losses_and_Efficiency.sce"
		   ]
		  },
  {
"cell_type": "code",
	   "execution_count": null,
	   "metadata": {
	    "collapsed": true
	   },
	   "outputs": [],
"source": [
"// Example 10.11\n",
"// Determine (a) Electrical losses (b) Rotational losses (c) Efficiency\n",
"// Page No. 430\n",
"\n",
"clc;\n",
"clear;\n",
"close;\n",
"\n",
"// Given data\n",
"T=124;                    // Hp rating of motor\n",
"Rf=32.0;                  // Field resistance\n",
"VT=240;                   // Rated voltade of the machine\n",
"IT=420;                   // Total current\n",
"Ra=0.00872;               // Armature resistance\n",
"RipRcw=0.0038;            // Resistance of interpolar winding and compensating windings\n",
"Pout=92504;\n",
"Vb=2.0;                   // Rated speed of the machine\n",
"Racir=Ra+RipRcw;\n",
"\n",
"// (a) Electrical losses \n",
"\n",
"If=VT/Rf;                  // Field current\n",
"Ia=IT-If;                  // Armature current\n",
"Pf=If^2*Rf;                // Field power\n",
"Paipcw=Ia^2*(Ra+RipRcw);\n",
"Pb=Vb*Ia;                  // Brush loss power\n",
"Plosses=Pf+Paipcw+Pb;      // Total power loss\n",
"\n",
"// (b) Rotational losses\n",
"\n",
"Ea=VT-(Ia*Racir)-Vb;         // Armature emf      \n",
"Pmech=Ea*Ia;               // Mechanical power\n",
"Pshaft=T*746;              // Shaft power \n",
"Protational=Pmech-Pshaft;\n",
"\n",
"// (c) Ffficiency\n",
"\n",
"eeta=Pout/(VT*IT)*100;\n",
"\n",
"// Display result on command window\n",
"\n",
"printf('\n Electrical losses = %0.1f W ',Plosses);\n",
"printf('\n Rotational losses = %0.0f W ',Protational);\n",
"printf('\n Efficiency = %0.1f Percent ',eeta);\n",
"\n",
"\n",
"\n",
""
   ]
   }
,
{
		   "cell_type": "markdown",
		   "metadata": {},
		   "source": [
			"## Example 10.12: EX10_12.sce"
		   ]
		  },
  {
"cell_type": "code",
	   "execution_count": null,
	   "metadata": {
	    "collapsed": true
	   },
	   "outputs": [],
"source": [
"// Example 10.12\n",
"// Determine (a) Rated torque (b) Armature current at locked rotor if no\n",
"// starting resistance is used (c) External resistance required in the armature\n",
"// circuit that would limit the current and develop 200 percent rated torque\n",
"// when starting (d) Assuming the system voltage drops to 215V, determine the \n",
"// locked rotor torque using the external resistor in (c)\n",
"// Page No. 433\n",
"\n",
"clc;\n",
"clear;\n",
"close;\n",
"\n",
"// Given data\n",
"n=1750;                   // Rotor speed\n",
"P=15;                     // Hp rating of motor\n",
"VT=230;                   // Rated voltade of the machine\n",
"Ea=0;\n",
"Racir=0.280;              // Armature circuit loss\n",
"Rf=137;                   // Field resistance\n",
"ItRated=56.2;             // Total current drawn\n",
"VT1=215;                  // Rated voltage after drop\n",
"\n",
"// (a) Rated torque\n",
"Trated=P*5252/n;\n",
"\n",
"// (b) Armature current\n",
"Ia=(VT-Ea)/Racir; \n",
"\n",
"// (c) External resistance required\n",
"If=VT/Rf;                      // Field current\n",
"IaRated=ItRated-If;            // Rated armature current\n",
"\n",
"Ia2=IaRated*2;                 // Armature current for 200% rated torque\n",
"\n",
"Rx=((VT-Ea)/Ia2)-Racir;        // External resistance required\n",
"\n",
"// (d) Locked rotor torque \n",
"If215=VT1/Rf;                  // Field current at 215V\n",
"Ia215=(VT1-Ea)/(Racir+Rx);     // Armature current at 215V\n",
"TD2=Trated*( (If215*Ia215) / (If*IaRated) );\n",
"\n",
"// Display result on command window\n",
"\n",
"printf('\n Rated torque = %0.1f lb-ft ',Trated);\n",
"printf('\n Armature current = %0.1f A ',Ia);\n",
"printf('\n Armature current for 200 percent rated torque = %0.1f A ',Ia2);\n",
"printf('\n External resistance required = %0.2f Ohm ',Rx);\n",
"printf('\n Locked rotor torque = %0.1f lb-ft ',TD2);\n",
"\n",
"\n",
""
   ]
   }
,
{
		   "cell_type": "markdown",
		   "metadata": {},
		   "source": [
			"## Example 10.1: EX10_1.sce"
		   ]
		  },
  {
"cell_type": "code",
	   "execution_count": null,
	   "metadata": {
	    "collapsed": true
	   },
	   "outputs": [],
"source": [
"// Example 10.1\n",
"// Computation of (a) Induced emf (b) Frequency of the rectangular voltage \n",
"// wave in the armature winding\n",
"// Page No. 394\n",
"\n",
"clc;\n",
"clear;\n",
"close;\n",
"\n",
"// Given data\n",
"E1=136.8;               // Generated emf\n",
"P=6;                    // Number of poles\n",
"n=1180;                 // Operating speed of machine\n",
"\n",
"// (a) Induced emf \n",
"\n",
"E2=E1*0.75*2;\n",
"\n",
"// (b) Frequency of the rectangular voltage wave in the armature winding\n",
"\n",
"f=P*n*0.75/120;\n",
"\n",
"//Display result on command window\n",
"printf('\n Induced emf = %0.1f V ',E2);\n",
"printf('\n Frequency of the rectangular voltage wave = %0.2f Hz ',f);\n",
""
   ]
   }
,
{
		   "cell_type": "markdown",
		   "metadata": {},
		   "source": [
			"## Example 10.2: Computation_of_rheostat_setting_required_to_obtain_an_induced_emf_of_290_V.sce"
		   ]
		  },
  {
"cell_type": "code",
	   "execution_count": null,
	   "metadata": {
	    "collapsed": true
	   },
	   "outputs": [],
"source": [
"// Example 10.2\n",
"// Computation of rheostat setting required to obtain an induced emf of 290 V\n",
"// Page No. 399\n",
"\n",
"clc;\n",
"clear;\n",
"close;\n",
"\n",
"// Given data\n",
"Ebat=240;               // Induced emf\n",
"If=8.9;                 // Field current\n",
"Rf=10.4;                // Field resistance\n",
"\n",
"// Rheostat setting required to obtain an induced emf of 290 V\n",
"\n",
"Rrheo=(Ebat/If)-Rf;\n",
"\n",
"// Display result on command window\n",
"printf('\n Rheostat setting to obtain an induced emf of 290 V = %0.2f  ',Rrheo);\n",
"\n",
""
   ]
   }
,
{
		   "cell_type": "markdown",
		   "metadata": {},
		   "source": [
			"## Example 10.3: Computation_of_no_load_voltage.sce"
		   ]
		  },
  {
"cell_type": "code",
	   "execution_count": null,
	   "metadata": {
	    "collapsed": true
	   },
	   "outputs": [],
"source": [
"// Example 10.3\n",
"// Computation of no-load voltage if the voltage regulation is 2.3 percent\n",
"// Page No. 401\n",
"\n",
"clc;\n",
"clear;\n",
"close;\n",
"\n",
"// Given data\n",
"Vrated=240;               // Rated voltage\n",
"VR=0.023;                 // Voltage regulation\n",
"\n",
"\n",
"// No-load voltage if the voltage regulation is 2.3 percent\n",
"\n",
"Vnl=Vrated*(1+VR);\n",
"\n",
"// Display result on command window\n",
"printf('\n No-load voltage if the voltage regulation is 2.3 percent = %0.1f V ',Vnl);\n",
"\n",
""
   ]
   }
,
{
		   "cell_type": "markdown",
		   "metadata": {},
		   "source": [
			"## Example 10.4: EX10_4.sce"
		   ]
		  },
  {
"cell_type": "code",
	   "execution_count": null,
	   "metadata": {
	    "collapsed": true
	   },
	   "outputs": [],
"source": [
"// Example 10.4\n",
"// Computation of percentage reduction in field flux required to obtain a \n",
"// speed of 1650 r/min while drawing an armature current of 50.4 A.\n",
"// Page No. 405\n",
"\n",
"clc;\n",
"clear;\n",
"close;\n",
"\n",
"// Given data\n",
"VT=240;               // Induced emf\n",
"R=95.2;               // Shunt field resistance\n",
"IT=72;                // Total current\n",
"Ra=0.242;             // Armature resistance\n",
"Ia2=50.4;             // Armature current\n",
"n1=850;               // Rated speed of shunt motor\n",
"n2=1650;              // Speed of armature winding\n",
"\n",
"\n",
"// Percentage reduction in field flux\n",
"\n",
"If1=VT/R;             // Field current\n",
"Ia1=IT-If1;           // Armature current\n",
"Ea1=VT-Ia1*Ra;        // Armature emf\n",
"Ea2=VT-Ia2*Ra;\n",
"phip2=(n1/n2)*(Ea2/Ea1);\n",
"PerRed=(phip2-1)*100;\n",
"\n",
"\n",
"\n",
"// Display result on command window\n",
"printf('\n Percentage reduction in field flux = %0.1f Percent ',PerRed);\n",
"\n",
""
   ]
   }
,
{
		   "cell_type": "markdown",
		   "metadata": {},
		   "source": [
			"## Example 10.5: Computation_of_no_load_speed.sce"
		   ]
		  },
  {
"cell_type": "code",
	   "execution_count": null,
	   "metadata": {
	    "collapsed": true
	   },
	   "outputs": [],
"source": [
"// Example 10.5\n",
"// Computation of no-load speed\n",
"// Page No. 408\n",
"\n",
"clc;\n",
"clear;\n",
"close;\n",
"\n",
"// Given data\n",
"nrated=1750;               // Rated speed\n",
"SR=4;                      // Speed regulation\n",
"\n",
"// No-load speed\n",
"\n",
"Snl=nrated*(1+SR/100);\n",
"\n",
"// Display result on command window\n",
"printf('\n No-load speed = %0.0f r/min ',Snl);\n",
"\n",
""
   ]
   }
,
{
		   "cell_type": "markdown",
		   "metadata": {},
		   "source": [
			"## Example 10.6: Computation_of_Induced_emf.sce"
		   ]
		  },
  {
"cell_type": "code",
	   "execution_count": null,
	   "metadata": {
	    "collapsed": true
	   },
	   "outputs": [],
"source": [
"// Example 10.6\n",
"// Computation of Induced emf\n",
"// Page No. 418\n",
"\n",
"clc;\n",
"clear;\n",
"close;\n",
"\n",
"// Given data\n",
"P=25000;               // Power of the generator\n",
"VT=250;                // Rated voltade of the machine\n",
"Ra=0.1053;             // Armature resistance\n",
"Rip=0.0306;            // Resistance of interpolar winding\n",
"Rcw=0.0141;            // Resistance of compensating windings\n",
"\n",
"\n",
"// Induced emf\n",
"Ia=P/VT;               // Armature current\n",
"Racir=Ra+Rip+Rcw;      // Resistance of armature circuit\n",
"Ea=VT+Ia*Racir;        // Induced emf\n",
"\n",
"\n",
"// Display result on command window\n",
"printf('\n Induced emf = %0.0f V ',Ea);\n",
"\n",
""
   ]
   }
,
{
		   "cell_type": "markdown",
		   "metadata": {},
		   "source": [
			"## Example 10.7: Computation_of_cemf.sce"
		   ]
		  },
  {
"cell_type": "code",
	   "execution_count": null,
	   "metadata": {
	    "collapsed": true
	   },
	   "outputs": [],
"source": [
"// Example 10.7\n",
"// Computation of cemf\n",
"// Page No. 418\n",
"\n",
"clc;\n",
"clear;\n",
"close;\n",
"\n",
"// Given data\n",
"Rf=408.5;               // Field resistance \n",
"VT=500;                 // Rated voltade of the machine\n",
"IT=51.0;                // Total current\n",
"Ra=0.602;               // Armature resistance\n",
"Ripcw=0.201;            // Resistance of interpolar winding and compensating windings\n",
"\n",
"// Induced emf\n",
"If=VT/Rf;             // Current\n",
"Ia=IT-If;             // Armature current\n",
"Racir=Ra+Ripcw;       // Resistance of armature circuit\n",
"Ea=VT-Ia*Racir;      \n",
"\n",
"\n",
"// Display result on command window\n",
"printf('\n Induced emf = %0.0f V ',Ea);\n",
"\n",
""
   ]
   }
,
{
		   "cell_type": "markdown",
		   "metadata": {},
		   "source": [
			"## Example 10.8: Computation_of_new_armature_current.sce"
		   ]
		  },
  {
"cell_type": "code",
	   "execution_count": null,
	   "metadata": {
	    "collapsed": true
	   },
	   "outputs": [],
"source": [
"// Example 10.8\n",
"// Computation of new armature current\n",
"// Page No. 420\n",
"\n",
"clc;\n",
"clear;\n",
"close;\n",
"\n",
"// Given data\n",
"Rf=120;                // Resistance of inserted resistor\n",
"VT=240;                // Rated voltade of the machine\n",
"IT=91;                 // Total current\n",
"Racir=0.221;           // Armature sircuit resistance\n",
"n2=634;                // New speed after resistor was inserted\n",
"n1=850;                // Rated speed OF THE MACHINE\n",
"Rx=2.14;               // Resistance inserted in series witH armature\n",
"\n",
"// New armature current\n",
"\n",
"If=VT/Rf;           // Resistor current\n",
"Ia1=IT-If;          // Armature current\n",
"Ia2=(VT-(n2/n1)*(VT-Ia1*Racir))/(Racir+Rx);\n",
"\n",
"\n",
"// Display result on command window\n",
"printf('\n New armature current = %0.2f A ',Ia2);\n",
"\n",
""
   ]
   }
,
{
		   "cell_type": "markdown",
		   "metadata": {},
		   "source": [
			"## Example 10.9: Computation_of_Steady_state_armature_current_and_Steady_state_speed.sce"
		   ]
		  },
  {
"cell_type": "code",
	   "execution_count": null,
	   "metadata": {
	    "collapsed": true
	   },
	   "outputs": [],
"source": [
"// Example 10.9\n",
"// Computation of (a) Steady state armature current if a rheostat in the \n",
"// shunt field circuit reduces flux in air gap to 75% of its rated value \n",
"// (b) Steady state speed for the conditions in (a)\n",
"// Page No. 421\n",
"\n",
"clc;\n",
"clear;\n",
"close;\n",
"\n",
"// Given data\n",
"Rf=160;               // Field resistance\n",
"VT=240;               // Rated voltade of the machine\n",
"IT=37.5;              // Total current\n",
"Ra=0.213;             // Armature resistance\n",
"Rip=0.092;            // Resistance of interpolar winding\n",
"Rcw=0.065;            // Resistance of compensating windings\n",
"n1=2500;              // Rated speed of the machine\n",
"\n",
"\n",
"// (a) At rated conditions\n",
"\n",
"If=VT/Rf;               // Field current\n",
"Ia1=IT-If;              // Armature current\n",
"Ia2=Ia1*0.50*1/0.75;\n",
"\n",
"// (b) steady state speed for the above mentioned conditions\n",
"\n",
"Racir=Ra+Rip+Rcw;\n",
"\n",
"n2=n1*(VT-(Ia2*(1+Racir)))/0.75*(1/(VT-(Ia1*Racir)));\n",
"\n",
"\n",
"// Display result on command window\n",
"\n",
"printf('\n Steady state armature current = %0.1f A ',Ia2);\n",
"printf('\n Steady state speed = %0.0f r/min ',n2);\n",
"\n",
""
   ]
   }
],
"metadata": {
		  "kernelspec": {
		   "display_name": "Scilab",
		   "language": "scilab",
		   "name": "scilab"
		  },
		  "language_info": {
		   "file_extension": ".sce",
		   "help_links": [
			{
			 "text": "MetaKernel Magics",
			 "url": "https://github.com/calysto/metakernel/blob/master/metakernel/magics/README.md"
			}
		   ],
		   "mimetype": "text/x-octave",
		   "name": "scilab",
		   "version": "0.7.1"
		  }
		 },
		 "nbformat": 4,
		 "nbformat_minor": 0
}
