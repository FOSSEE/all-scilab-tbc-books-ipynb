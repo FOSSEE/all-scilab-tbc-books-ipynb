{
"cells": [
 {
		   "cell_type": "markdown",
	   "metadata": {},
	   "source": [
       "# Chapter 4: Principles of Three Phase Induction Motors"
	   ]
	},
{
		   "cell_type": "markdown",
		   "metadata": {},
		   "source": [
			"## Example 4.1: Computation_of_synchronous_speed_of_a_six_pole_induction_motor.sce"
		   ]
		  },
  {
"cell_type": "code",
	   "execution_count": null,
	   "metadata": {
	    "collapsed": true
	   },
	   "outputs": [],
"source": [
"// Example 4.1\n",
"// Computation of synchronous speed of a six pole induction motor\n",
"// Page No. 140\n",
"\n",
"clc;\n",
"clear;\n",
"close;\n",
"\n",
"// Given data\n",
"f=60;                // Frequency\n",
"p=6;                 // Number of poles\n",
"\n",
"\n",
"fs=f*0.85;           // Frequency is 85% of its rated value\n",
"ns=120*fs/p;         // Synchronous speed\n",
"\n",
"// Display result on command window\n",
"printf('\n Synchronous speed of a six pole induction motor = %0.0f r/min ',ns);"
   ]
   }
,
{
		   "cell_type": "markdown",
		   "metadata": {},
		   "source": [
			"## Example 4.2: Computation_of_Frequency_and_Induced_voltage_of_six_pole_induction_motor.sce"
		   ]
		  },
  {
"cell_type": "code",
	   "execution_count": null,
	   "metadata": {
	    "collapsed": true
	   },
	   "outputs": [],
"source": [
"// Example 4.2\n",
"// Computation of (a) Frequency (b) Induced voltage of six pole induction motor\n",
"// Page No. 143\n",
"\n",
"clc;\n",
"clear;\n",
"close;\n",
"\n",
"// Given data\n",
"f=60;                // Frequency\n",
"p=6;                 // Number of poles\n",
"nr=1100;             // Rotor speed\n",
"Ebr=100;             // Blocked rotor voltage\n",
"\n",
"// (a) Synchronous speed\n",
"ns=120*f/p;              // Synchronous speed\n",
"\n",
"// (b) Slip\n",
"s=(ns-nr)/ns;              // Slip\n",
"\n",
"// (c) Rotor frequency\n",
"fr=s*f;              // Rotor frequency\n",
"\n",
"// (d) Rotor voltage\n",
"Er=s*Ebr;              // Rotor voltage\n",
"\n",
"\n",
"// Display result on command window\n",
"printf('\n Synchronous speed = %0.0f r/min ',ns);\n",
"printf('\n Slip = %0.4f  ',s);\n",
"printf('\n Rotor frequency = %0.1f Hz ',fr);\n",
"printf('\n Rotor voltage = %0.2f V ',Er);"
   ]
   }
,
{
		   "cell_type": "markdown",
		   "metadata": {},
		   "source": [
			"## Example 4.3: EX4_3.sce"
		   ]
		  },
  {
"cell_type": "code",
	   "execution_count": null,
	   "metadata": {
	    "collapsed": true
	   },
	   "outputs": [],
"source": [
"// Example 4.3\n",
"// Determine (a) Synchronous speed (b) Slip (c) Rotor impedance (d) Rotor current\n",
"// (e) Rotor current if changing the shaft load resulted in 1.24 percenr slip \n",
"// (f) Speed for the condition in (e) \n",
"// Page No. 146\n",
"\n",
"clc;\n",
"clear;\n",
"close;\n",
"\n",
"// Given data\n",
"fs=60;                  // Frequency\n",
"p=6;                    // Number of poles\n",
"nr=1164;                // Rotor speed\n",
"Rr=0.10;                // Equivalent resistance\n",
"Xbr=0.54;               // Equivalent reactance\n",
"Ebr=150;                // Blocked rotor voltage per phase\n",
"s1=0.0124;              // Percent slip\n",
"\n",
"// (a) Synchronous speed\n",
"ns=120*fs/p;               // Speed \n",
"\n",
"// (b) Slip\n",
"s=(ns-nr)/ns; \n",
"\n",
"// (c) Rotor impedance  \n",
"Zr=(Rr/s)+%i*Xbr;\n",
"// Complex to Polar form...\n",
"Zr_Mag=sqrt(real(Zr)^2+imag(Zr)^2);         // Magnitude part\n",
"Zr_Ang=atan(imag(Zr),real(Zr))*180/%pi;     // Angle part \n",
"\n",
"// (d) Rotor current\n",
"Ir_Mag=Ebr/Zr_Mag;                          // Magnitude\n",
"Ir_Ang=0-Zr_Ang;                            // Angle\n",
"\n",
"// (e) Rotor current if changing the shaft load resulted in 1.24 percent slip \n",
"Zrnew=Rr/s1+%i*Xbr;\n",
"// Complex to Polar form...\n",
"Zrnew_Mag=sqrt(real(Zrnew)^2+imag(Zrnew)^2);         // Magnitude part\n",
"Zrnew_Ang=atan(imag(Zrnew),real(Zrnew))*180/%pi;     // Angle part \n",
"\n",
"Irnew_Mag=Ebr/Zrnew_Mag;                             // Magnitude\n",
"Irnew_Ang=0-Zrnew_Ang;                               // Angle\n",
"\n",
"// (f) Speed for the condition in (e) \n",
"nr=ns*(1-s1); \n",
"\n",
"// Display result on command window\n",
"printf('\n Synchronous speed = %0.0f r/min ',ns);\n",
"printf('\n Slip = %0.3f ',s);\n",
"printf('\n Rotor impedance magnitude = %0.2f Ohm ',Zr_Mag);\n",
"printf('\n Rotor impedance angle = %0.2f deg ',Zr_Ang);\n",
"printf('\n Rotor current magnitude = %0.1f Ohm ',Ir_Mag);\n",
"printf('\n Rotor current angle = %0.1f deg ',Ir_Ang);\n",
"printf('\n Rotor current magnitude by changing the shaft load = %0.1f Ohm ',Irnew_Mag);\n",
"printf('\n Rotor current angle by changing the shaft load = %0.2f deg ',Irnew_Ang);\n",
"printf('\n New rotor speed = %0.0f r/min ',nr);"
   ]
   }
,
{
		   "cell_type": "markdown",
		   "metadata": {},
		   "source": [
			"## Example 4.4: EX4_4.sce"
		   ]
		  },
  {
"cell_type": "code",
	   "execution_count": null,
	   "metadata": {
	    "collapsed": true
	   },
	   "outputs": [],
"source": [
"// Example 4.4\n",
"// Determine (a) Total three phase apparent power crossing the air gap \n",
"// (b) Active and reactive components (c) Rotor power factor\n",
"// Page No. 149\n",
"\n",
"clc;\n",
"clear;\n",
"close;\n",
"\n",
"// Given data\n",
"Ebr=150;                // Blocked rotor voltage per phase\n",
"Ir_Mag=44.421;          // Rotor current magnitude\n",
"Ir_Ang=-9.2;            // Rotor current angle\n",
"Ir_magConj=9.2; \n",
"\n",
"\n",
"// (a) Total three phase apparent power crossing the air gap \n",
"Sgap_Mag=3*Ebr*Ir_Mag;     // Apparent power crossing the air gap magnitude\n",
"Sgap_Ang=Ir_magConj;       // Apparent power crossing the air gap angle\n",
"\n",
"// Polar to Complex form\n",
"Sgap_R=Sgap_Mag*cos(-Sgap_Ang*%pi/180); // Real part of complex number\n",
"Sgap_I=Sgap_Mag*sin(Sgap_Ang*%pi/180); //Imaginary part of complex number\n",
"Sgap=ceil(Sgap_R)+%i*ceil(Sgap_I);\n",
"\n",
"// (b) Active and reactive components \n",
"Pgap=Sgap_R;               // Active power component\n",
"Qgap=Sgap_I;               // Reactive power component\n",
"\n",
"// (c) Rotor power factor\n",
"FP=cosd(Ir_magConj);\n",
"\n",
"// Display result on command window\n",
"printf('\n Total three phase apparent power crossing the air gap (VA) =');\n",
"disp(Sgap);\n",
"printf('\n Active power component = %0.0f W',Pgap);\n",
"printf('\n Reactive power component = %0.0f var ',Qgap);\n",
"printf('\n Rotor power factor = %0.2f ',FP);\n",
""
   ]
   }
,
{
		   "cell_type": "markdown",
		   "metadata": {},
		   "source": [
			"## Example 4.5: Computation_of_Shaft_speed_and_Mechanical_power_developed_and_Developed_torque.sce"
		   ]
		  },
  {
"cell_type": "code",
	   "execution_count": null,
	   "metadata": {
	    "collapsed": true
	   },
	   "outputs": [],
"source": [
"// Example 4.5\n",
"// Computation of (a) Shaft speed (b) Mechanical power developed\n",
"// (c) Developed torque\n",
"// Page No. 152\n",
"\n",
"clc;\n",
"clear;\n",
"close;\n",
"\n",
"// Given data\n",
"Prcl=263;               // Rotor copper loss\n",
"Pgap=14580;             // Power input to the rotor\n",
"fs=60;                  // Frequency\n",
"p=4;                    // Number of poles\n",
"\n",
"\n",
"\n",
"// (a) Shaft speed\n",
"s=Prcl/Pgap;               // Slip\n",
"ns=120*fs/p;               // Speed of stator\n",
"nr=ns*(1-s);               // Speed of shaft\n",
"\n",
"// (b) Mechanical power developed\n",
"Pmech=Pgap-Prcl;                  // Mechanical power developed\n",
"Pmechhp=Pmech/746;                // Mechanical power developed in hp\n",
"\n",
"//(c) Developed torque\n",
"TD=5252*Pmechhp/nr;\n",
"\n",
"\n",
"// Display result on command window\n",
"printf('\n Shaft speed = %0.1f r/min ',nr);\n",
"printf('\n Mechanical power developed in hp = %0.2f hp ',Pmechhp);\n",
"printf('\n Developed torque = %0.1f lb-ft ',TD);"
   ]
   }
,
{
		   "cell_type": "markdown",
		   "metadata": {},
		   "source": [
			"## Example 4.6: EX4_6.sce"
		   ]
		  },
  {
"cell_type": "code",
	   "execution_count": null,
	   "metadata": {
	    "collapsed": true
	   },
	   "outputs": [],
"source": [
"// Example 4.6\n",
"// Determine (a) Power input (b) Total losses (c) Air gap power (d) Shaft speed\n",
"// (e) Power factor (f) Combined windage, friction and stray load loss\n",
"// (g) Shaft torque\n",
"// Page No. 159\n",
"\n",
"clc;\n",
"clear;\n",
"close;\n",
"\n",
"// Given data\n",
"Pshaft=74600;                // Shaft power\n",
"eeta=0.910;                  // Rated efficiency\n",
"ns=1200;                     // Speed of stator\n",
"Pcore=1697;                  // Power in core\n",
"Pscl=2803;                   // Stator copper loss\n",
"Prcl=1549;                   // Rotor copper loss\n",
"fs=60;                       // Synchronous frequency\n",
"p=6;                         // Number of poles\n",
"Vline=230;                   // Line voltage\n",
"Iline=248;                   // Line current\n",
"\n",
"// (a) Power input\n",
"Pin=Pshaft/eeta;             // Parallel resistance\n",
"\n",
"// (b) Total losses\n",
"Ploss=Pin-Pshaft;\n",
"\n",
"//(c) Air gap power\n",
"Pgap=Pin-Pcore-Pscl;\n",
"\n",
"// (d) Shaft speed\n",
"s=Prcl/Pgap;      // Parallel resistance\n",
"ns=120*fs/p;\n",
"nr=ns*(1-s);\n",
"\n",
"// (e) Power factor\n",
"Sin=sqrt(3)*Vline*Iline;\n",
"FP=Pin/Sin;\n",
"\n",
"//(f) Combined windage, friction and stray load loss\n",
"Closs=Ploss-Pcore-Pscl-Prcl;\n",
"\n",
"//(g) Shaft torque\n",
"Tshaft=5252*100/nr;\n",
"\n",
"\n",
"// Display result on command window\n",
"printf('\n Power input = %0.0f W',Pin);\n",
"printf('\n Total losses = %0.0f W',Ploss);\n",
"printf('\n Air gap power = %0.0f W ',Pgap);\n",
"printf('\n Shaft speed = %0.0f r/min ',nr);\n",
"printf('\n Power factor = %0.2f ',FP);\n",
"printf('\n Combined windage, friction and stray load loss = %0.0f W ',Closs);\n",
"printf('\n Shaft torque = %0.1f lb-ft ',Tshaft);"
   ]
   }
],
"metadata": {
		  "kernelspec": {
		   "display_name": "Scilab",
		   "language": "scilab",
		   "name": "scilab"
		  },
		  "language_info": {
		   "file_extension": ".sce",
		   "help_links": [
			{
			 "text": "MetaKernel Magics",
			 "url": "https://github.com/calysto/metakernel/blob/master/metakernel/magics/README.md"
			}
		   ],
		   "mimetype": "text/x-octave",
		   "name": "scilab",
		   "version": "0.7.1"
		  }
		 },
		 "nbformat": 4,
		 "nbformat_minor": 0
}
