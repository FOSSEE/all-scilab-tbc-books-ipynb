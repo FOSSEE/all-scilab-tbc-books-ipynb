{
"cells": [
 {
		   "cell_type": "markdown",
	   "metadata": {},
	   "source": [
       "# Chapter 5: Current And Voltage Relations On A Transmission Line"
	   ]
	},
{
		   "cell_type": "markdown",
		   "metadata": {},
		   "source": [
			"## Example 5.1: Velocity.sce"
		   ]
		  },
  {
"cell_type": "code",
	   "execution_count": null,
	   "metadata": {
	    "collapsed": true
	   },
	   "outputs": [],
"source": [
"//Chapter 5\n",
"//Example 5.1\n",
"//Page 101\n",
"//Velocity\n",
"clear;clc;\n",
"//Given\n",
"D_12 = 23.8 ; D_23 = 23.8 ; D_31 = 47.6 ;//in ft\n",
"l = 230 ; //in mi\n",
"f = 60 ; //in Hz\n",
"P = 125e6 ; //in W\n",
"V = 215e3 ; //in V\n",
"D_eq = (D_12 * D_23 * D_31)^(1/3);\n",
"//From Table A.1 and A.2 for 30ft Rook\n",
"//z = R + i(Xa + Xd)\n",
"z = 0.1603 + %i * (0.415+0.4127);\n",
"//From Table A.1 and A.3 for 30ft Rook\n",
"y = %i * [1e-6 / ( 0.0950 + 0.1008)]\n",
"//Calculations\n",
"yl = sqrt(y*z)*l;\n",
"Z_c = sqrt(z/y);\n",
"V_r = V / sqrt(3);\n",
"I_r = P / (sqrt(3)*V);\n",
"cosh_yl = cosh(real(yl)) * cos(imag(yl)) + %i * sinh(real(yl)) * sin(imag(yl));\n",
"sinh_yl = sinh(real(yl)) * cos(imag(yl)) + %i * cosh(real(yl)) * sin(imag(yl));\n",
"V_s = V_r * cosh_yl + I_r * Z_c * sinh_yl;\n",
"I_s = I_r * cosh_yl + V_r * sinh_yl / Z_c;\n",
"printf('\n\n Sending end voltage = %.0f /_%.2f V \n',abs(V_s),(atan(imag(V_s),real(V_s))*180/%pi))\n",
"printf('\n Sending end current = %.2f /_%.2f V \n\n',abs(I_s),(atan(imag(I_s),real(I_s))*180/%pi))\n",
"Line_voltage = sqrt(3) * abs(V_s) / 1000 ;\n",
"Line_current = abs(I_s);\n",
"Power_factor = cos(atan(imag(V_s),real(V_s)) - atan(imag(I_s),real(I_s)));\n",
"Power = sqrt(3) * Line_voltage * Line_current * Power_factor;\n",
"printf('\n\n Sending end line voltage = %.1f kV \n\n',Line_voltage)\n",
"printf('\n\n Sending end line current = %.1f A \n\n',Line_current)\n",
"printf('\n\n Sending end power = %.0f kW \n\n',Power)\n",
"voltage_regulation = (((abs(V_s)/abs(cosh_yl)) - V_r)/V_r)*100;\n",
"printf('\n\n Voltage Regulation = %.1f percent \n\n',voltage_regulation)\n",
"B = imag(yl)/l;\n",
"y1 = 2 * %pi / B;\n",
"Velocity = f * y1;\n",
"printf('\n\n Wavelength = %.0f mi \n\n',y1)\n",
"printf('\n\n Velocity = %.0f mi/s \n\n',Velocity)"
   ]
   }
,
{
		   "cell_type": "markdown",
		   "metadata": {},
		   "source": [
			"## Example 5.2: example1inpu.sce"
		   ]
		  },
  {
"cell_type": "code",
	   "execution_count": null,
	   "metadata": {
	    "collapsed": true
	   },
	   "outputs": [],
"source": [
"//Chapter 5\n",
"//Example 5.2\n",
"//Page 103\n",
"//example1inpu\n",
"clear;clc;\n",
"//Given\n",
"l = 230 ; //in mi\n",
"f = 60 ; //in Hz\n",
"P = 125e6 ; //in W\n",
"V = 215e3 ; //in V\n",
"//From Table A.1 and A.2 for 30ft Rook\n",
"//z = R + i(Xa + Xd)\n",
"z = 0.1603 + %i * (0.415+0.4127);\n",
"//From Table A.1 and A.3 for 30ft Rook\n",
"y = %i * [1e-6 / ( 0.0950 + 0.1008)]\n",
"//Calculations\n",
"yl = sqrt(y*z)*l;\n",
"Z_c = sqrt(z/y);\n",
"V_r = V / sqrt(3);\n",
"I_r = P / (sqrt(3)*V);\n",
"cosh_yl = cosh(real(yl)) * cos(imag(yl)) + %i * sinh(real(yl)) * sin(imag(yl));\n",
"sinh_yl = sinh(real(yl)) * cos(imag(yl)) + %i * cosh(real(yl)) * sin(imag(yl));\n",
"//Per Unit calculations\n",
"Base_impedance = V^2 / P;\n",
"Base_current = P / (sqrt(3)*V);\n",
"Z_c_pu = Z_c / Base_impedance;\n",
"V_r_pu = (V / sqrt(3)) / (V / sqrt(3));\n",
"I_r_pu = (P / (sqrt(3)*V)) / Base_current;\n",
"V_s_pu = V_r_pu * cosh_yl + I_r_pu * Z_c_pu * sinh_yl;\n",
"I_s_pu = I_r_pu * cosh_yl + V_r_pu * sinh_yl / Z_c_pu;\n",
"Line_voltage = abs(V_s_pu)*V / 1000;\n",
"Line_current = abs(I_s_pu)*Base_current;\n",
"printf('\n\n Sending end line voltage = %.1f V \n\n',Line_voltage)\n",
"printf('\n\n Sending end line current = %.1f A \n\n',Line_current)"
   ]
   }
,
{
		   "cell_type": "markdown",
		   "metadata": {},
		   "source": [
			"## Example 5.3: equivalentpicircuit.sce"
		   ]
		  },
  {
"cell_type": "code",
	   "execution_count": null,
	   "metadata": {
	    "collapsed": true
	   },
	   "outputs": [],
"source": [
"//Chapter 5\n",
"//Example 5.3\n",
"//Page 106\n",
"//equivalentpicircuit\n",
"clear;clc;\n",
"//Given\n",
"l = 230 ; //in mi\n",
"f = 60 ; //in Hz\n",
"P = 125e6 ; //in W\n",
"V = 215e3 ; //in V\n",
"//From Table A.1 and A.2 for 30ft Rook\n",
"//z = R + i(Xa + Xd)\n",
"z = 0.1603 + %i * (0.415+0.4127);\n",
"//From Table A.1 and A.3 for 30ft Rook\n",
"y = %i * [1e-6 / ( 0.0950 + 0.1008)]\n",
"//Calculations\n",
"yl = sqrt(y*z)*l;\n",
"Z_c = sqrt(z/y);\n",
"cosh_yl = cosh(real(yl)) * cos(imag(yl)) + %i * sinh(real(yl)) * sin(imag(yl));\n",
"sinh_yl = sinh(real(yl)) * cos(imag(yl)) + %i * cosh(real(yl)) * sin(imag(yl));\n",
"//Equivalent pi circuit\n",
"Z1 = Z_c * sinh_yl;\n",
"Y1_2 = (cosh_yl - 1)/(Z_c * sinh_yl);\n",
"disp('Equivalent PI circuit')\n",
"printf('\n\n Total series impedance of the line = %.2f /_%.2f ohm in series arm \n\n',abs(Z1),atan(imag(Z1),real(Z1))*180/%pi)\n",
"printf('\n\n Total Shunt admittance of the line = %.6f /_%.2f mho in each shunt arm \n\n',abs(Y1_2),atan(imag(Y1_2),real(Y1_2))*180/%pi)\n",
"//Nominal pi Circuit\n",
"Z = l * z;\n",
"Y_2 = y * l/2;\n",
"disp('Nominal PI circuit')\n",
"printf('\n\n Total series impedance of the line = %.2f /_%.2f ohm in series arm \n\n',abs(Z),atan(imag(Z),real(Z))*180/%pi)\n",
"printf('\n\n Total Shunt admittance of the line = %.6f /_%.2f mho in each shunt arm \n\n',abs(Y_2),atan(imag(Y_2),real(Y_2))*180/%pi)\n",
"zp = ((abs(Z)-abs(Z1))/abs(Z1))*100;\n",
"yp = ((abs(Y_2)-abs(Y1_2))/abs(Y1_2))*100;\n",
"printf('\n\n Line impedace of the series arm of the nominal pi exceeds that of equivalent pi by %.1f percent \n\n',zp)\n",
"printf('\n\n Conductance of the shunt arms of the nominal pi is %.0f percent less than that of equivalent pi \n\n',abs(yp))"
   ]
   }
,
{
		   "cell_type": "markdown",
		   "metadata": {},
		   "source": [
			"## Example 5.4: compensation.sce"
		   ]
		  },
  {
"cell_type": "code",
	   "execution_count": null,
	   "metadata": {
	    "collapsed": true
	   },
	   "outputs": [],
"source": [
"//Chapter 5\n",
"//Example 5.4\n",
"//Page 111\n",
"//compensation\n",
"clear;clc;\n",
"//Given\n",
"l = 230 ; //in mi\n",
"f = 60 ; //in Hz\n",
"P = 125e6 ; //in W\n",
"V = 215e3 ; //in V\n",
"//From Table A.1 and A.2 for 30ft Rook\n",
"//z = R + i(Xa + Xd)\n",
"z = 0.1603 + %i * (0.415+0.4127);\n",
"//From Table A.1 and A.3 for 30ft Rook\n",
"y = %i * [1e-6 / ( 0.0950 + 0.1008)]\n",
"//Calculations\n",
"yl = sqrt(y*z)*l;\n",
"Z_c = sqrt(z/y);\n",
"cosh_yl = cosh(real(yl)) * cos(imag(yl)) + %i * sinh(real(yl)) * sin(imag(yl));\n",
"sinh_yl = sinh(real(yl)) * cos(imag(yl)) + %i * cosh(real(yl)) * sin(imag(yl));\n",
"//Equivalent pi circuit\n",
"Z1 = Z_c * sinh_yl;\n",
"Y1_2 = (cosh_yl - 1)/(Z_c * sinh_yl);\n",
"A = cosh_yl;D = cosh_yl;\n",
"B = Z1;\n",
"C = sinh_yl / Z_c;\n",
"disp('For an uncompensated line')\n",
"printf('\n\n A = D = %.4f /_%.2f \n\n',abs(A),(atan(imag(A),real(A))*180/%pi))\n",
"printf('\n\n B = %.4f /_%.2f ohm \n\n',abs(B),(atan(imag(B),real(B))*180/%pi))\n",
"printf('\n\n C = %f /_%.2f mho \n\n',abs(C),(atan(imag(C),real(C))*180/%pi))\n",
"//For a series compensation factor of 70%\n",
"cf = 0.7\n",
"B1 = Z1 - %i *  cf * l * (0.415 + 0.4127) ;//X_a = 0.415 ohm/mi,X_d = 0.4127 in\n",
"A1 = B1 * Y1_2 + 1;\n",
"C1 = 2 * Y1_2 + B1 * (Y1_2)^2;\n",
"disp('For a series compensation factor  of 70%')\n",
"printf('\n\n B = %.2f /_%.2f ohm \n\n',abs(B1),(atan(imag(B1),real(B1))*180/%pi))\n",
"printf('\n\n A = %.3f /_%.2f \n\n',abs(A1),(atan(imag(A1),real(A1))*180/%pi))\n",
"printf('\n\n C = %f /_%.2f mho \n\n',abs(C1),(atan(imag(C1),real(C1))*180/%pi))"
   ]
   }
,
{
		   "cell_type": "markdown",
		   "metadata": {},
		   "source": [
			"## Example 5.5: voltageregulatio.sce"
		   ]
		  },
  {
"cell_type": "code",
	   "execution_count": null,
	   "metadata": {
	    "collapsed": true
	   },
	   "outputs": [],
"source": [
"//Chapter 5\n",
"//Example 5.5\n",
"//Page 112\n",
"//voltageregulation\n",
"clear;clc;\n",
"//Given\n",
"l = 230 ; //in mi\n",
"f = 60 ; //in Hz\n",
"P = 125e6 ; //in W\n",
"V = 215e3 ; //in V\n",
"//From Table A.1 and A.2 for 30ft Rook\n",
"//z = R + i(Xa + Xd)\n",
"z = 0.1603 + %i * (0.415+0.4127);\n",
"//From Table A.1 and A.3 for 30ft Rook\n",
"y = %i * [1e-6 / ( 0.0950 + 0.1008)]\n",
"//Calculations\n",
"yl = sqrt(y*z)*l;\n",
"Z_c = sqrt(z/y);\n",
"V_r = V / sqrt(3);\n",
"I_r = P / (sqrt(3)*V);\n",
"yl = sqrt(y*z)*l;\n",
"Z_c = sqrt(z/y);\n",
"cosh_yl = cosh(real(yl)) * cos(imag(yl)) + %i * sinh(real(yl)) * sin(imag(yl));\n",
"sinh_yl = sinh(real(yl)) * cos(imag(yl)) + %i * cosh(real(yl)) * sin(imag(yl));\n",
"V_s = V_r * cosh_yl + I_r * Z_c * sinh_yl;\n",
"I_s = I_r * cosh_yl + V_r * sinh_yl / Z_c;\n",
"//Equivalent pi circuit\n",
"Z1 = Z_c * sinh_yl;\n",
"Y1_2 = (cosh_yl - 1)/(Z_c * sinh_yl);\n",
"//Total capacitive Susceptance\n",
"B_c = %i * y * l;\n",
"//For 70% Compensation\n",
"cf = 0.7;\n",
"B_L = - B_c * 0.7;\n",
"//From appendix\n",
"A = 1;D = 1;B = 0;\n",
"C = -%i*B_L;\n",
"//From Table A.6 for combining two networks in series\n",
"A_eq = cosh_yl + Z1 * C;\n",
"voltage_regulation = ((abs(V_s)/abs(A_eq))-V_r)*100/V_r;\n",
"printf('\n\n Voltage regulation = %.2f percent \n\n',voltage_regulation)"
   ]
   }
,
{
		   "cell_type": "markdown",
		   "metadata": {},
		   "source": [
			"## Example 5.6: reflectio.sce"
		   ]
		  },
  {
"cell_type": "code",
	   "execution_count": null,
	   "metadata": {
	    "collapsed": true
	   },
	   "outputs": [],
"source": [
"//Chapter 5\n",
"//Example_5_6\n",
"//Page 119\n",
"//reflection\n",
"clear;clc;\n",
"V=120; //Applied DC voltage at the sending end\n",
"Zc=30; //Characteristic Impedance of the line\n",
"Zs=0; //Source Imedance taken zero since its not given\n",
"m=2; //Two times we are calculating.i.e Zr=90 and Zr=10\n",
"for j=1:m\n",
"    \n",
"    if j==1 then\n",
"        Zr=90; //for the first time  i.e Case(i) \n",
"    elseif j==2 then\n",
"        Zr=10; //for the second time  i.e Case(ii) \n",
"    end  \n",
"rho_R=(Zr-Zc)/(Zr+Zc); //reflection coefficient for voltage at receiving end \n",
"rho_S=(Zs-Zc)/(Zs+Zc); //reflection coefficient for voltage at the sending end\n",
"printf('\n\nCase(%d) Reflected and Receiving End voltages When Zr=%dohm',j,Zr);\n",
"printf('\nAt time\t\tV+\t\tVr\t\tV-\n')\n",
"v_plus=V; //initial value at the instant of switching\n",
"Vr=0;Vr_plot=Vr;\n",
"n=5; // for 5 time periods\n",
"for i=0:5\n",
"    if i==0 then\n",
"      printf('%d\t\t%d-->\t\t%d-->\t\t%d-->\n',i,0,0,0); //for before the instant of switching\n",
"    else \n",
"      v_minus=rho_R*v_plus; //reflected wave the receiving end\n",
"      Vr=Vr+v_plus+v_minus; //receiving end voltage\n",
"      Vr_plot=[Vr_plot,Vr];  //saving Vr for plotting\n",
"      printf('%dT\t\t%d-->\t\t%d-->\t\t%d-->\n',i,v_plus,Vr,v_minus);\n",
"      v_plus=v_minus*rho_S; //second reflected wave at the sending end\n",
"    end\n",
"end\n",
"t=[0,1,3,5,7,9]; //time periods at which the receiving voltage has to be plotted\n",
"if j==1 then        //to discriminate between two cases\n",
"   clf();\n",
"   subplot(121);\n",
"   plot2d2(t,Vr_plot);\n",
"   xstring(t,Vr_plot,+string(Vr_plot));\n",
"elseif j==2 then\n",
"   subplot(122);\n",
"   plot2d2(t,Vr_plot);\n",
"   xstring(t,Vr_plot,+string(Vr_plot));\n",
"end\n",
"xlabel('Multiples of time period ------>');\n",
"ylabel('Receiving end voltage in Volts---->');\n",
"title('Plot Of Receiving end voltage versus time for Zr='+string(Zr)+'ohm');\n",
"end"
   ]
   }
],
"metadata": {
		  "kernelspec": {
		   "display_name": "Scilab",
		   "language": "scilab",
		   "name": "scilab"
		  },
		  "language_info": {
		   "file_extension": ".sce",
		   "help_links": [
			{
			 "text": "MetaKernel Magics",
			 "url": "https://github.com/calysto/metakernel/blob/master/metakernel/magics/README.md"
			}
		   ],
		   "mimetype": "text/x-octave",
		   "name": "scilab",
		   "version": "0.7.1"
		  }
		 },
		 "nbformat": 4,
		 "nbformat_minor": 0
}
