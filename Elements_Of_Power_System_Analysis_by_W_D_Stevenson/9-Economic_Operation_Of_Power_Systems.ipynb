{
"cells": [
 {
		   "cell_type": "markdown",
	   "metadata": {},
	   "source": [
       "# Chapter 9: Economic Operation Of Power Systems"
	   ]
	},
{
		   "cell_type": "markdown",
		   "metadata": {},
		   "source": [
			"## Example 9.1: loaddistributio.sce"
		   ]
		  },
  {
"cell_type": "code",
	   "execution_count": null,
	   "metadata": {
	    "collapsed": true
	   },
	   "outputs": [],
"source": [
"//Chapter 9\n",
"//Page 231\n",
"//Example 9.1\n",
"//loaddistribution\n",
"clear;clc;\n",
"dF_dP = [0.008 8;0.0096 6.4];\n",
"P1_min = 100;\n",
"l = [7.84 8.8 9.6 10.4 11.2 12 12.4 13];\n",
"P2_p1min = (l(1) - dF_dP(2,2)) / dF_dP(2,1);\n",
"disp('Outputs of each unit and total output for various values of incremental fuel cost')\n",
"printf('\n Plant \t Unit 1 P1 \t Unit 2 P2 \t P1+P2')\n",
"printf('\n %.2f \t %.2f \t %.2f \t %.2f',l(1),P1_min,P2_p1min,P1_min+P2_p1min)\n",
"for n = 2:8\n",
"    P1 = (l(n) - dF_dP(1,2)) / dF_dP(1,1);\n",
"    P2 = (l(n) - dF_dP(2,2)) / dF_dP(2,1);\n",
"    printf('\n %.2f \t %.2f \t %.2f \t %.2f',l(n),P1,P2,P1+P2)\n",
"end\n",
"deff('[y]=mysol(P)','[y]=[P(1)+P(2)-1000;0.008*P(1)-0.0096*P(2)+8-6.4]');\n",
"Presult = fsolve([1,1],mysol);\n",
"printf('\n\n')\n",
"disp(Presult,'The allocation of load between units for the minimum cost of various total loads in MW(P1 followed by P2)')\n",
"l_result = dF_dP(2,1) * Presult(2) + dF_dP(2,2);\n",
"disp(l_result,'Incremental fuels cost for the above mentioned load is')"
   ]
   }
,
{
		   "cell_type": "markdown",
		   "metadata": {},
		   "source": [
			"## Example 9.2: integrate.sce"
		   ]
		  },
  {
"cell_type": "code",
	   "execution_count": null,
	   "metadata": {
	    "collapsed": true
	   },
	   "outputs": [],
"source": [
"//Chapter 9\n",
"//Page 234\n",
"//Example 9.2\n",
"//integrate\n",
"clear;clc;\n",
"U1 = integrate('(0.008 * P1 + 8)','P1',400,450);\n",
"U2 = integrate('(0.0096 * P2 + 6.4)','P2',450,500);\n",
"U = U1 - abs(U2);\n",
"disp(U1,'Increase in cost for unit 1 in $ per hour is')\n",
"disp(abs(U2),'Increase in cost for unit 2 in $ per hour is')\n",
"disp(U,'Net increase in cost in $ per hour is')"
   ]
   }
,
{
		   "cell_type": "markdown",
		   "metadata": {},
		   "source": [
			"## Example 9.3: losscoeff.sce"
		   ]
		  },
  {
"cell_type": "code",
	   "execution_count": null,
	   "metadata": {
	    "collapsed": true
	   },
	   "outputs": [],
"source": [
"//Chapter 9\n",
"//Page 236\n",
"//Example 9.3\n",
"//losscoeff\n",
"clear;clc;\n",
"I1 = 1;I2 = 0.8;\n",
"V3 = 1;pf1 =1;pf2 = pf1;pf3 = pf1;\n",
"Za = 0.04 + %i * 0.16;Ra = real(Za);\n",
"Zb = 0.03 + %i * 0.12;Rb = real(Zb);\n",
"Zc = 0.02 + %i * 0.08;Rc = real(Zc);\n",
"V1 = V3 + I1 * Za;disp(V1,'Voltage at bus 1,V1 in per unit')\n",
"V2 = V3 + I2 * Zb;disp(V2,'Voltage at bus 2,V2 in per unit')\n",
"disp('Transmission Loss Co-efficients')\n",
"B11 = (Ra + Rc) / (abs(V1) * pf1)^2;disp(B11,'B11 in per unit')\n",
"B12 = Rc / (abs(V1) * abs(V2) * pf1 * pf2);disp(B12,'B12 in per unit')\n",
"B22 = (Rb + Rc) / (abs(V2) * pf2)^2;disp(B22,'B22 in per unit')"
   ]
   }
,
{
		   "cell_type": "markdown",
		   "metadata": {},
		   "source": [
			"## Example 9.4: loss.sce"
		   ]
		  },
  {
"cell_type": "code",
	   "execution_count": null,
	   "metadata": {
	    "collapsed": true
	   },
	   "outputs": [],
"source": [
"//Chapter 9\n",
"//Page 237\n",
"//Example 9.4\n",
"//loss\n",
"clear;clc;\n",
"I1 = 1;I2 = 0.8;\n",
"V3 = 1;pf1 =1;pf2 = pf1;pf3 = pf1;\n",
"Za = 0.04 + %i * 0.16;Ra = real(Za);\n",
"Zb = 0.03 + %i * 0.12;Rb = real(Zb);\n",
"Zc = 0.02 + %i * 0.08;Rc = real(Zc);\n",
"V1 = V3 + I1 * Za;\n",
"V2 = V3 + I2 * Zb;\n",
"B11 = (Ra + Rc) / (abs(V1) * pf1)^2;\n",
"B12 = Rc / (abs(V1) * abs(V2) * pf1 * pf2);\n",
"B22 = (Rb + Rc) / (abs(V2) * pf2)^2;\n",
"P1 = real(I1 * V1);disp(P1,'P1 in per unit')\n",
"P2 = real(I2 * V2);disp(P2,'P2 in per unit')\n",
"PL = (P1)^2 * B11 + 2 * P1 * P2 * B12 + (P2)^2 * B22;disp(PL,'Loss calculated using loss coefficients in per unit is')\n",
"PL_I2R = I1^2 * Ra + (I1+I2)^2 * Rc + I2^2 * Rb;disp(PL_I2R,'Loss calculated using current and resistance in per unit is')"
   ]
   }
,
{
		   "cell_type": "markdown",
		   "metadata": {},
		   "source": [
			"## Example 9.5: generation.sce"
		   ]
		  },
  {
"cell_type": "code",
	   "execution_count": null,
	   "metadata": {
	    "collapsed": true
	   },
	   "outputs": [],
"source": [
"//Chapter 9\n",
"//Page 240\n",
"//Example 9.5\n",
"//generation\n",
"clear;clc;\n",
"l = 12.5;\n",
"dF_dP = [ 0.01 8.5;0.015 9.5];\n",
"B22 = 0;B12 = 0;//since all the load is at plant 2\n",
"P1_trans = 200;\n",
"PL_trans = 16;\n",
"B11 = PL_trans / P1_trans^2;\n",
"printf('\n Penalty factors are \n L1 = 1 / (1 - %fP1) \n L2 = 1',2*B11)\n",
"P1 = (l - dF_dP(1,2)) / (2*B11 * l + dF_dP(1,1));\n",
"P2 = (l - dF_dP(2,2)) / dF_dP(2,1);\n",
"PL = B11 * P1^2;\n",
"Pr = P1 + P2 - PL;\n",
"printf('\n Required generation from plant \n P1 = %.0fMW \n P2 = %.0fMW',P1,P2)\n",
"printf('\n Power loss in transmisison is %.0fMW',PL)\n",
"printf('\n The delivered load is %.0fMW',Pr)"
   ]
   }
,
{
		   "cell_type": "markdown",
		   "metadata": {},
		   "source": [
			"## Example 9.6: savings.sce"
		   ]
		  },
  {
"cell_type": "code",
	   "execution_count": null,
	   "metadata": {
	    "collapsed": true
	   },
	   "outputs": [],
"source": [
"//Chapter 9\n",
"//Page 241\n",
"//Example 9.6\n",
"//savings\n",
"clear;clc;\n",
"l = 12.5;\n",
"dF_dP = [ 0.01 8.5;0.015 9.5];\n",
"B22 = 0;B12 = 0;//since all the load is at plant 2\n",
"P1_trans = 200;\n",
"PL_trans = 16;\n",
"B11 = PL_trans / P1_trans^2;\n",
"P1 = (l - dF_dP(1,2)) / (2*B11 * l + dF_dP(1,1));\n",
"P2 = (l - dF_dP(2,2)) / dF_dP(2,1);\n",
"PL = B11 * P1^2;\n",
"Pr = P1 + P2 - PL;\n",
"deff('[y]=mysol(P)','[y]=[0.01*P(1)-0.015*P(2)+8.5-9.5;P(1)+P(2)-0.0004*(P(1))^2-384]');\n",
"Presult=fsolve([1,1],mysol);\n",
"disp(Presult,'Values of P1 and P2 in MW')\n",
"U1 = integrate('(0.010 * P1 + 8.5)','P1',P1_trans,Presult(1,1));\n",
"U2 = integrate('- (0.015 * P2 + 9.5)','P2',P1_trans,Presult(1,2));\n",
"disp(U1,'Increase in fuel cost due to increase in load on plant 1 in $ per hour')\n",
"disp(U2,'Increase in fuel cost due to increase in load on plant 2 in $ per hour')\n",
"disp(U1 - U2,'The net savings by accounting for transmission loss in scheduling the received load of 384MW in $ per hour is')"
   ]
   }
],
"metadata": {
		  "kernelspec": {
		   "display_name": "Scilab",
		   "language": "scilab",
		   "name": "scilab"
		  },
		  "language_info": {
		   "file_extension": ".sce",
		   "help_links": [
			{
			 "text": "MetaKernel Magics",
			 "url": "https://github.com/calysto/metakernel/blob/master/metakernel/magics/README.md"
			}
		   ],
		   "mimetype": "text/x-octave",
		   "name": "scilab",
		   "version": "0.7.1"
		  }
		 },
		 "nbformat": 4,
		 "nbformat_minor": 0
}
