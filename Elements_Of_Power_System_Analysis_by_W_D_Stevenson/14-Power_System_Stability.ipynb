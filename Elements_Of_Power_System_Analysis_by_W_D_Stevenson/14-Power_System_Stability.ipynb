{
"cells": [
 {
		   "cell_type": "markdown",
	   "metadata": {},
	   "source": [
       "# Chapter 14: Power System Stability"
	   ]
	},
{
		   "cell_type": "markdown",
		   "metadata": {},
		   "source": [
			"## Example 14.10: postperiod.sce"
		   ]
		  },
  {
"cell_type": "code",
	   "execution_count": null,
	   "metadata": {
	    "collapsed": true
	   },
	   "outputs": [],
"source": [
"//Chapter 14\n",
"//Example 14.10\n",
"//Page 408\n",
"//postperiod\n",
"clear;clc;\n",
"//Given\n",
"P_g1 = 400e6;V_g1 = 20e3;X1_dg1 = 0.067;H_g1 = 11.2;\n",
"P_g2 = 250e6;V_g2 = 18e3;X1_dg2 = 0.10;H_g2 = 8;\n",
"E_3 = 1;\n",
"//From Table 14.2\n",
"X_14 = 0.022;\n",
"X_25 = 0.040;\n",
"R_34 = 0.007;X_34 = 0.04;Y_34 = 0.082;\n",
"R_35_1 = 0.008;X_35_1 = 0.047;Y_35_1 = 0.098;\n",
"R_35_2 = 0.008;X_35_2 = 0.047;Y_35_2 = 0.098;\n",
"R_45 = 0.018;X_45 = 0.11;Y_45 = 0.226;\n",
"//From Table 14.3\n",
"V1 = 1.03 * (cos(8.88 * %pi / 180) + %i * sin(8.88 * %pi / 180));\n",
"P1 = 3.5;Q1 = 0.712;\n",
"V2 = 1.02 * (cos(6.38 * %pi / 180) + %i * sin(6.38 * %pi / 180));\n",
"P2 = 1.85;Q2 = 0.298;\n",
"V3 = 1;\n",
"V4 = 1.018 * (cos(4.68 * %pi / 180) + %i * sin(4.68 * %pi / 180));\n",
"P4 = 1;Q4 = 0.44;\n",
"V5 = 1.011 * (cos(2.27 * %pi / 180) + %i * sin(2.27 * %pi / 180));\n",
"P5 = 0.5;Q5 = 0.16;\n",
"//Calculations\n",
"I1 = (P1 + %i * Q1)' / V1';\n",
"I2 = (P2 + %i * Q2)' / V2';\n",
"E1_1 = V1 + %i * X1_dg1 * I1;\n",
"E1_2 = V2 + %i * X1_dg2 * I2;\n",
"E1_3 = E_3;\n",
"Y_L4 = (P4 + %i * Q4)' / (abs(V4))^2;\n",
"Y_L5 = (P5 + %i * Q5)' / (abs(V5))^2;\n",
"//formation of bus admittance matrix\n",
"Ybus = zeros(5,5);\n",
"Ybus(1,1) = 1 / (%i * (X1_dg1 + X_14));Ybus(1,4) = - Ybus(1,1);\n",
"Ybus(2,2) = 1 / (%i * (X1_dg2 + X_25));Ybus(2,5) = - Ybus(2,2);\n",
"Ybus(3,3) =  1 / (R_34 + %i * X_34) + 1 / (R_35_1 + %i * X_35_1) + 1 / (R_35_2 + %i * X_35_2) + %i * Y_34 / 2 + %i * Y_35_1;\n",
"Ybus(3,4) = - 1 / (R_34 + %i * X_34);\n",
"Ybus(3,5) = - 2 / (R_35_1 + %i * X_35_1);\n",
"Ybus(4,1) = Ybus(1,4);Ybus(4,3) = Ybus(3,4);Ybus(4,3) = Ybus(3,4);\n",
"Ybus(4,4) = 1 / (%i * (X1_dg1 + X_14)) + %i * Y_34 / 2 + %i * Y_45 / 2 + 1 / (R_34 + %i * X_34) + 1 / (R_45 + %i * X_45) + Y_L4;\n",
"Ybus(4,5) = - 1 / (R_45 + %i * X_45);\n",
"Ybus(5,2) = Ybus(2,5);Ybus(5,3) =Ybus(3,5);Ybus(5,4) = Ybus(4,5);\n",
"Ybus(5,5) = 2 / (R_35_1 + %i * X_35_1) + 1 / (R_45 + %i * X_45) + Y_L5 + %i * Y_35_1 + %i * Y_45 / 2 + Ybus(2,2);\n",
"disp(Ybus,'Elements of prefault bus admittance matrix')\n",
"Ybus(4,5) = 0;Ybus(5,4) = 0;\n",
"Ybus(4,4) = 1 / (%i * (X1_dg1 + X_14)) + %i * Y_34 / 2 + 1 / (R_34 + %i * X_34) + Y_L4;\n",
"Ybus(5,5) = 2 / (R_35_1 + %i * X_35_1) + Y_L5 + %i * Y_35_1 + Ybus(2,2);\n",
"disp(Ybus,'After removing line 4-5')\n",
"printf('\n\n\n')\n",
"[m,n] = size(Ybus);\n",
"Ybus_1 = zeros(m-1,n-1);\n",
"for c = 1:m-1\n",
"    for d = 1:n-1\n",
"    Ybus_1(c,d) = Ybus(c,d) - ((Ybus(c,5)*Ybus(5,d)) / Ybus(5,5));\n",
"    end\n",
"end\n",
"[m1,n1] = size(Ybus_1);\n",
"Ybus_2 = zeros(m1-1,n1-1);\n",
"for c = 1:m1-1\n",
"    for d = 1:n1-1\n",
"    Ybus_2(c,d) = Ybus_1(c,d) - ((Ybus_1(c,4)*Ybus_1(4,d)) / Ybus_1(4,4));\n",
"    end\n",
"end\n",
"printf('\n\n\n')\n",
"disp(Ybus_2,'Elements of post faulted bus admittance matrices')\n",
"Pe1_1 = abs(E1_1)^2 * real(Ybus_2(1,1));\n",
"Pe1_2 = abs(E1_1) * E_3 * abs(Ybus_2(1,3));\n",
"theta_13 = atan(real(Ybus_2(1,3)),imag(Ybus_2(1,3)));\n",
"printf('\n Pe1 = %.4f + %.4fsin(delta_1 - %.3f) \n',Pe1_1,Pe1_2,- theta_13 * 180 / %pi)\n",
"Pe2_1 = abs(E1_2)^2 * real(Ybus_2(2,2));\n",
"Pe2_2 = abs(E1_2) * E_3 * abs(Ybus_2(2,3));\n",
"theta_23 = atan(real(Ybus_2(2,3)),imag(Ybus_2(2,3)));\n",
"printf('\n Pe2 = %.4f + %.4fsin(delta_2 - %.3f) \n',Pe2_1,Pe2_2,- theta_23 * 180 / %pi)\n",
"Pa1 = P1 - Pe1_1;\n",
"printf('\n Swing equation for machine 1 on fault in elec deg/square sec\n d^2(delta_2)/dt^2 = (180f/%.1f) * (%.4f - %.4fsin(delta_1 - %.3f)\n',H_g1,Pa1,Pe1_2,- theta_13 * 180 / %pi)\n",
"Pa2 = P2 - Pe2_1;\n",
"printf('\n Swing equation for machine 2 on fault in elec deg/square sec \n d^2(delta_2)/dt^2 = (180f/%.1f) * (%.4f - %.4fsin(delta_2 - %.3f)\n',H_g2,Pa2,Pe2_2,- theta_23 * 180 / %pi)"
   ]
   }
,
{
		   "cell_type": "markdown",
		   "metadata": {},
		   "source": [
			"## Example 14.11: stepbystep.sce"
		   ]
		  },
  {
"cell_type": "code",
	   "execution_count": null,
	   "metadata": {
	    "collapsed": true
	   },
	   "outputs": [],
"source": [
"//Chapter 14\n",
"//Page 411\n",
"//Example 14.11\n",
"//stepbystep\n",
"clear;clc;\n",
"f = 60;\n",
"t_fault = 0.225;\n",
"H = 8;\n",
"Pm = 1.85;\n",
"n = 1:10;\n",
"t = 0:0.05:1;\n",
"delta(1) = 16.19;\n",
"y = 0.755;\n",
"del_t = t(2) - t(1);\n",
"k = 180 * f * del_t^2 / H;\n",
"Pa(1) = 1.6955 - (5.5023 * sin(delta(1) * %pi / 180 - y * %pi / 180));\n",
"kPa(1) = k * Pa(1) / 2;\n",
"del_delta(1) = kPa(1);\n",
"delta(2) = delta(1) + del_delta(1);\n",
"disp('Compuatation of Swing Curve for clearing at 0.225s')\n",
"printf('\nt,s \t delta(n)-y \t Pmaxsin \t Pa \t\t kPa \t\t del_delta(n) \t delta(n)')\n",
"printf('\n %.2f \t %.4f \t %.4f \t %.4f \t %.4f \t  %.4f',t(1),delta(1)-y,1.6955 - Pa(1),Pa(1),kPa(1),del_delta(1))\n",
"for m = 2:5\n",
"    Pa(m) = 1.6955 - (5.5023 * sin(delta(m) * %pi / 180 - y * %pi / 180));\n",
"    kPa(m) = k * Pa(m);\n",
"    del_delta(m) = del_delta(m-1) + kPa(m);\n",
"    delta(m+1) = delta(m) + del_delta(m);\n",
"    printf('\n %.2f \t %.4f \t %.4f \t %.4f \t %.4f \t %.4f \t %.4f',t(m),delta(m)-y,1.6955 - Pa(m),Pa(m),kPa(m),del_delta(m),delta(m))\n",
"end\n",
"y1 = 0.847;\n",
"for m = 6:17\n",
"    Pa(m) = 1.6696 - (6.4934 * sin(delta(m) * %pi / 180 - y1 * %pi / 180));\n",
"    kPa(m) = k * Pa(m);\n",
"    del_delta(m) = del_delta(m-1) + kPa(m);\n",
"    delta(m+1) = delta(m) + del_delta(m);\n",
"    printf('\n %.2f \t %.4f \t %.4f \t %.4f \t %.4f \t %.4f \t %.4f',t(m),delta(m)-y1,1.6696 - Pa(m),Pa(m),kPa(m),del_delta(m),delta(m))\n",
"end"
   ]
   }
,
{
		   "cell_type": "markdown",
		   "metadata": {},
		   "source": [
			"## Example 14.1: inertia.sce"
		   ]
		  },
  {
"cell_type": "code",
	   "execution_count": null,
	   "metadata": {
	    "collapsed": true
	   },
	   "outputs": [],
"source": [
"//Chapter 14\n",
"//Example 14.1\n",
"//Page 380\n",
"//inertia\n",
"clear;clc;\n",
"WR2 = 5.82;\n",
"Smach = 1333;\n",
"n = 1800;\n",
"ft_lb = 746 / 550;\n",
"w = 2 * %pi * n / 60;\n",
"H = ft_lb * WR2 * w^2 / (2 * 32.2 * Smach);\n",
"disp(H,'The inertia constant in MJ/MVA is')\n",
"disp(H * Smach / 100,'Converting H to a 100-MVA system base,units in MJ/MVA')"
   ]
   }
,
{
		   "cell_type": "markdown",
		   "metadata": {},
		   "source": [
			"## Example 14.2: parallel.sce"
		   ]
		  },
  {
"cell_type": "code",
	   "execution_count": null,
	   "metadata": {
	    "collapsed": true
	   },
	   "outputs": [],
"source": [
"//Chapter 14\n",
"//Example 14.2\n",
"//Page 381\n",
"//parallel\n",
"clear;clc;\n",
"P1 = 500;pf1 = 0.85;V1 = 20;n1 = 3600;\n",
"P2 = 1333;pf2 = 0.9;V2 = 22;n2 = 1800;\n",
"Pbase = 100;\n",
"H1 = 4.8;H2 = 3.27;\n",
"KE = H1 * P1 + H2 * P2;\n",
"disp(KE,'The total kinetic energy of rotation of the two machines in MJ is')\n",
"disp(KE/Pbase,'The inertia constant for the equivalent machine on 100-MVA base in MJ/MVA is')"
   ]
   }
,
{
		   "cell_type": "markdown",
		   "metadata": {},
		   "source": [
			"## Example 14.3: infinitebus.sce"
		   ]
		  },
  {
"cell_type": "code",
	   "execution_count": null,
	   "metadata": {
	    "collapsed": true
	   },
	   "outputs": [],
"source": [
"//Chapter 14\n",
"//Example 14.3\n",
"//Page 386\n",
"//infinitebus\n",
"clear;clc;\n",
"Pm =1;\n",
"Vt = 1;V_ib = 1;\n",
"X1_g =0.2;X1_t = 0.1;X1_l1 = 0.4;X1_l2 = 0.4;\n",
"X = X1_t + X1_l1 /2;\n",
"a = asin(Pm * X / (Vt * V_ib)) * 180 / %pi;\n",
"Vt1 = Vt * (cos(a * %pi / 180) + %i * sin(a * %pi / 180));\n",
"I = (Vt1 - V_ib) / (%i * X);\n",
"E1 = Vt1 + (%i * X1_g * I);\n",
"X1 = X1_g + X1_t + X1_l1 /2;\n",
"Pmax = abs(E1) * V_ib / X1;\n",
"disp(Vt1,'The terminal voltage after considering the angle is,in per unit')\n",
"disp(I,'The output current from the generator in per unit is')\n",
"disp(E1,'The transient internal voltage in per unit')\n",
"disp('Power angle equation is')\n",
"printf('\n Pe = %.2f * sin(delta) \n where delta is the machine rotor angle wrt to the infinite bus',Pmax)"
   ]
   }
,
{
		   "cell_type": "markdown",
		   "metadata": {},
		   "source": [
			"## Example 14.4: onfault.sce"
		   ]
		  },
  {
"cell_type": "code",
	   "execution_count": null,
	   "metadata": {
	    "collapsed": true
	   },
	   "outputs": [],
"source": [
"//Chapter 14\n",
"//Example 14.4\n",
"//Page 388\n",
"//onfault\n",
"clear;clc;\n",
"H = 5;\n",
"Pm =1;\n",
"Vt = 1;V_ib = 1;\n",
"X1_g =0.2;X1_t = 0.1;X1_l1 = 0.4;X1_l2 = 0.4;\n",
"X = X1_t + X1_l1 /2;\n",
"a = asin(Pm * X / (Vt * V_ib)) * 180 / %pi;\n",
"Vt1 = Vt * (cos(a * %pi / 180) + %i * sin(a * %pi / 180));\n",
"I = (Vt1 - V_ib) / (%i * X);\n",
"E1 = Vt1 + (%i * X1_g * I);\n",
"y10 = %i * 3.33;\n",
"y32 = %i * 2.5;\n",
"y30 = %i * 5;\n",
"y20 = %i * 5;\n",
"Ybus = zeros(3,3);\n",
"Ybus(1,1) = -y10;Ybus(1,2) =0;Ybus(1,3) = y10;\n",
"Ybus(2,1) = Ybus(1,2);Ybus(2,2) = -(y32 + y30);Ybus(2,3) = y32;\n",
"Ybus(3,1) = Ybus(1,3);Ybus(3,2) = Ybus(2,3);Ybus(3,3) = -(y10 + y32 + y30);\n",
"disp(Ybus,'Ybus formed by inspection is')\n",
"[m,n] = size(Ybus);\n",
"Ybus_new = zeros(m-1,n-1);\n",
"for c = 1:m-1\n",
"    for d = 1:n-1\n",
"    Ybus_new(c,d) = Ybus(c,d) - ((Ybus(c,3)*Ybus(3,d)) / Ybus(3,3));\n",
"    end\n",
"end\n",
"disp(Ybus_new,'Ybus formed after elimination of Bus 3')\n",
"Pmax = abs(E1) * V_ib * abs(Ybus_new(1,2));\n",
"delta = 28.44;\n",
"Pa = Pm - Pmax * sin(delta * %pi / 180);\n",
"b = 180 * Pa / H;\n",
"disp('The power abgle equation is')\n",
"printf('\n Pe = %.3f * sin(delta) \n where delta is the machine rotor angle wrt to the infinite bus',Pmax)\n",
"disp('The swing equation is')\n",
"printf('\n (%.2f/180f) * d(delta)^2/dt^2 = %.2f - %.2fsin(delta) \n',H,Pm,Pmax)\n",
"printf('\n Intial Accelerating power is %.3f per unit \n',Pa)\n",
"printf('\n Initial acceleration is %.2f*f \n where f is the system frequency',b)"
   ]
   }
,
{
		   "cell_type": "markdown",
		   "metadata": {},
		   "source": [
			"## Example 14.5: postfault.sce"
		   ]
		  },
  {
"cell_type": "code",
	   "execution_count": null,
	   "metadata": {
	    "collapsed": true
	   },
	   "outputs": [],
"source": [
"//Chapter 14\n",
"//Example 14.5\n",
"//Page 389\n",
"//postfault\n",
"clear;clc\n",
"H = 5;\n",
"Pm =1;\n",
"Vt = 1;V_ib = 1;\n",
"X1_g =0.2;X1_t = 0.1;X1_l1 = 0.4;X1_l2 = 0.4;\n",
"X = X1_t + X1_l1 /2;\n",
"a = asin(Pm * X / (Vt * V_ib)) * 180 / %pi;\n",
"Vt1 = Vt * (cos(a * %pi / 180) + %i * sin(a * %pi / 180));\n",
"I = (Vt1 - V_ib) / (%i * X);\n",
"E1 = Vt1 + (%i * X1_g * I);\n",
"y12 = 1 / (%i*(X1_g + X1_t + X1_l1));\n",
"Y12 = -y12;\n",
"Pe = abs(E1) * V_ib * abs(Y12);\n",
"disp('The power abgle equation is')\n",
"printf('\n Pe = %.3f * sin(delta) \n where delta is the machine rotor angle wrt to the infinite bus',Pe)\n",
"disp('The swing equation is')\n",
"printf('\n (%.2f/180f) * d(delta)^2/dt^2 = %.2f - %.2fsin(delta) \n',H,Pm,Pe)"
   ]
   }
,
{
		   "cell_type": "markdown",
		   "metadata": {},
		   "source": [
			"## Example 14.6: frequency.sce"
		   ]
		  },
  {
"cell_type": "code",
	   "execution_count": null,
	   "metadata": {
	    "collapsed": true
	   },
	   "outputs": [],
"source": [
"//Chapter 14\n",
"//Example 14.6\n",
"//Page 392\n",
"//frequency\n",
"clear;clc;\n",
"delta = 28.44;\n",
"H = 5;\n",
"ws = 377;\n",
"Pm =1;\n",
"Vt = 1;V_ib = 1;\n",
"X1_g =0.2;X1_t = 0.1;X1_l1 = 0.4;X1_l2 = 0.4;\n",
"X = X1_t + X1_l1 /2;\n",
"a = asin(Pm * X / (Vt * V_ib)) * 180 / %pi;\n",
"Vt1 = Vt * (cos(a * %pi / 180) + %i * sin(a * %pi / 180));\n",
"I = (Vt1 - V_ib) / (%i * X);\n",
"E1 = Vt1 + (%i * X1_g * I);\n",
"X1 = X1_g + X1_t + X1_l1 /2;\n",
"Pmax = abs(E1) * V_ib / X1;\n",
"Sp = Pmax * cos(delta * %pi / 180);\n",
"wn = sqrt(ws * Sp / (2 * H));\n",
"fn = wn / (2 * %pi);\n",
"T = 1 / fn;\n",
"printf('\n The angular frequency of oscillation is %.3f elec rad/s \n',wn)\n",
"printf('\n The corresponding frquency of oscillation is %.2f Hz \n',fn)\n",
"printf('\n The period of oscillation is %.3f s',T)"
   ]
   }
,
{
		   "cell_type": "markdown",
		   "metadata": {},
		   "source": [
			"## Example 14.7: ccangle.sce"
		   ]
		  },
  {
"cell_type": "code",
	   "execution_count": null,
	   "metadata": {
	    "collapsed": true
	   },
	   "outputs": [],
"source": [
"//Chapter 14\n",
"//Example 14.7\n",
"//Page 392\n",
"//ccangle\n",
"clear;clc;\n",
"delta = 28.44;\n",
"H = 5;\n",
"ws = 377;\n",
"Pm =1;\n",
"Vt = 1;V_ib = 1;\n",
"X1_g =0.2;X1_t = 0.1;X1_l1 = 0.4;X1_l2 = 0.4;\n",
"X = X1_t + X1_l1 /2;\n",
"a = asin(Pm * X / (Vt * V_ib)) * 180 / %pi;\n",
"Vt1 = Vt * (cos(a * %pi / 180) + %i * sin(a * %pi / 180));\n",
"I = (Vt1 - V_ib) / (%i * X);\n",
"E1 = Vt1 + (%i * X1_g * I);\n",
"X1 = X1_g + X1_t + X1_l1 /2;\n",
"Pmax = abs(E1) * V_ib / X1;\n",
"delta_rad = delta * %pi / 180;\n",
"delta_cr = acos((%pi - 2 * delta_rad) * sin(delta_rad) - cos(delta_rad));\n",
"t_cr = sqrt(4 * H * (delta_cr - delta_rad) / (ws * Pm))\n",
"printf('\n Critical clearing angle = %.3f elec rad \n',delta_cr)\n",
"printf('\n Critical clearing angle for the system = %.3f s',t_cr)"
   ]
   }
,
{
		   "cell_type": "markdown",
		   "metadata": {},
		   "source": [
			"## Example 14.8: deltamax.sce"
		   ]
		  },
  {
"cell_type": "code",
	   "execution_count": null,
	   "metadata": {
	    "collapsed": true
	   },
	   "outputs": [],
"source": [
"//Chapter 14\n",
"//Example 401\n",
"//Page 401\n",
"//deltamax\n",
"clear;clc;\n",
"Pm = 1;\n",
"//from previous examples\n",
"Pmax_before = 2.1;\n",
"Pmax_during = 0.808;\n",
"Pmax_after = 1.5;\n",
"delta = 28.44 * %pi / 180;\n",
"disp('The power angle equations for different times of fault are')\n",
"printf('\n Before the fault : \t Pmax * sin(delta) = %.3f * sin(delta)\n',Pmax_before)\n",
"printf('\n During the fault : \t r1 * Pmax * sin(delta) = %.3f * sin(delta)\n',Pmax_during)\n",
"printf('\n After the fault : \t r2 * Pmax * sin(delta) = %.3f * sin(delta)\n',Pmax_after)\n",
"r1 = Pmax_during / Pmax_before;\n",
"r2 = Pmax_after / Pmax_before;\n",
"delta_max = %pi - asin(Pm / Pmax_after);\n",
"cos_delta_cr = (((Pm/Pmax_before) * (delta_max - delta) + (r2 * cos(delta_max) - (r1 * cos(delta)))) / (r2 - r1));\n",
"delta_cr = acos(cos_delta_cr);\n",
"printf('\n\n r1 = %.3f \n r2 = %.3f \n',r1,r2)\n",
"printf('\n\n delta_max = %.3f rad \n cos(delta_cr) = %.3f \n',delta_max,cos_delta_cr)\n",
"printf('\n Critical clearing angle is %.3f degrees',delta_cr * 180 / %pi)"
   ]
   }
,
{
		   "cell_type": "markdown",
		   "metadata": {},
		   "source": [
			"## Example 14.9: multimachine.sce"
		   ]
		  },
  {
"cell_type": "code",
	   "execution_count": null,
	   "metadata": {
	    "collapsed": true
	   },
	   "outputs": [],
"source": [
"//Chapter 14\n",
"//Example 14.9\n",
"//Page 404\n",
"//multimachine\n",
"clear;clc;\n",
"//Given\n",
"P_g1 = 400e6;V_g1 = 20e3;X1_dg1 = 0.067;H_g1 = 11.2;\n",
"P_g2 = 250e6;V_g2 = 18e3;X1_dg2 = 0.10;H_g2 = 8;\n",
"E_3 = 1;\n",
"//From Table 14.2\n",
"X_14 = 0.022;\n",
"X_25 = 0.040;\n",
"R_34 = 0.007;X_34 = 0.04;Y_34 = 0.082;\n",
"R_35_1 = 0.008;X_35_1 = 0.047;Y_35_1 = 0.098;\n",
"R_35_2 = 0.008;X_35_2 = 0.047;Y_35_2 = 0.098;\n",
"R_45 = 0.018;X_45 = 0.11;Y_45 = 0.226;\n",
"//From Table 14.3\n",
"V1 = 1.03 * (cos(8.88 * %pi / 180) + %i * sin(8.88 * %pi / 180));\n",
"P1 = 3.5;Q1 = 0.712;\n",
"V2 = 1.02 * (cos(6.38 * %pi / 180) + %i * sin(6.38 * %pi / 180));\n",
"P2 = 1.85;Q2 = 0.298;\n",
"V3 = 1;\n",
"V4 = 1.018 * (cos(4.68 * %pi / 180) + %i * sin(4.68 * %pi / 180));\n",
"P4 = 1;Q4 = 0.44;\n",
"V5 = 1.011 * (cos(2.27 * %pi / 180) + %i * sin(2.27 * %pi / 180));\n",
"P5 = 0.5;Q5 = 0.16;\n",
"//Calculations\n",
"I1 = (P1 + %i * Q1)' / V1';\n",
"I2 = (P2 + %i * Q2)' / V2';\n",
"E1_1 = V1 + %i * X1_dg1 * I1;\n",
"E1_2 = V2 + %i * X1_dg2 * I2;\n",
"E1_3 = E_3;\n",
"Y_L4 = (P4 + %i * Q4)' / (abs(V4))^2;\n",
"Y_L5 = (P5 + %i * Q5)' / (abs(V5))^2;\n",
"//formation of bus admittance matrix\n",
"Ybus = zeros(5,5);\n",
"Ybus(1,1) = 1 / (%i * (X1_dg1 + X_14));Ybus(1,4) = - Ybus(1,1);\n",
"Ybus(2,2) = 1 / (%i * (X1_dg2 + X_25));Ybus(2,5) = - Ybus(2,2);\n",
"Ybus(3,3) =  1 / (R_34 + %i * X_34) + 1 / (R_35_1 + %i * X_35_1) + 1 / (R_35_2 + %i * X_35_2) + %i * Y_34 / 2 + %i * Y_35_1;\n",
"Ybus(3,4) = - 1 / (R_34 + %i * X_34);\n",
"Ybus(3,5) = - 2 / (R_35_1 + %i * X_35_1);\n",
"Ybus(4,1) = Ybus(1,4);Ybus(4,3) = Ybus(3,4);Ybus(4,3) = Ybus(3,4);\n",
"Ybus(4,4) = 1 / (%i * (X1_dg1 + X_14)) + %i * Y_34 / 2 + %i * Y_45 / 2 + 1 / (R_34 + %i * X_34) + 1 / (R_45 + %i * X_45) + Y_L4;\n",
"Ybus(4,5) = - 1 / (R_45 + %i * X_45);\n",
"Ybus(5,2) = Ybus(2,5);Ybus(5,3) =Ybus(3,5);Ybus(5,4) = Ybus(4,5);\n",
"Ybus(5,5) = 2 / (R_35_1 + %i * X_35_1) + 1 / (R_45 + %i * X_45) + Y_L5 + %i * Y_35_1 + %i * Y_45 / 2 + Ybus(2,2);\n",
"disp(Ybus,'Elements of prefault bus admittance matrix')\n",
"printf('\n\n\n')\n",
"Ybus_1 = Ybus(1:3,1:3);\n",
"Ybus_2 = [Ybus_1 Ybus(1:3,5:5)];\n",
"Ybus_new = [Ybus_2 ; Ybus(5:5,1:3) Ybus(5,5)];\n",
"disp(Ybus_new,'After bus 4 is shorted the matrix becomes')\n",
"[m,n] = size(Ybus_new);\n",
"Ybus_fault = zeros(m-1,n-1);\n",
"for c = 1:m-1\n",
"    for d = 1:n-1\n",
"    Ybus_fault(c,d) = Ybus_new(c,d) - ((Ybus_new(c,4)*Ybus_new(4,d)) / Ybus_new(4,4));\n",
"    end\n",
"end\n",
"printf('\n\n\n')\n",
"disp(Ybus_fault,'Elements of faulted bus admittance matrices')\n",
"//calculations for swing equation\n",
"Pe1 = 0;//Since G11 = real(Ybus_fault(1,1)) = 0;Ybus_fault(1,2) = Ybus_fault(1,3) = 0;\n",
"Pe2_1 = abs(E1_2)^2 * real(Ybus_fault(2,2));\n",
"Pe2_2 = abs(E1_2) * abs(E_3) * abs(Ybus_fault(2,3));\n",
"theta_23 = atan(real(Ybus_fault(2,3)),imag(Ybus_fault(2,3)));\n",
"printf('\n Pe1 = 0 \n Pe2 = %.4f + %.4fsin(delta_2 - %.3f) \n',Pe2_1,Pe2_2,- theta_23 * 180 / %pi)\n",
"Pa1 = P1 - Pe1;\n",
"printf('\n Swing Equation for machine 1  on fault in elec deg/square sec \n d^2(delta_1)/dt^2 = (180f/%.1f) * (%.1f) \n',H_g1,Pa1)\n",
"Pa2 = P2 - Pe2_1;\n",
"printf('\n Swing equation for machine 2 on fault in elec deg/square sec \n d^2(delta_2)/dt^2 = (180f/%.1f) * (%.4f - %.4fsin(delta_2 - %.3f)\n',H_g2,Pa2,Pe2_2,- theta_23 * 180 / %pi)"
   ]
   }
],
"metadata": {
		  "kernelspec": {
		   "display_name": "Scilab",
		   "language": "scilab",
		   "name": "scilab"
		  },
		  "language_info": {
		   "file_extension": ".sce",
		   "help_links": [
			{
			 "text": "MetaKernel Magics",
			 "url": "https://github.com/calysto/metakernel/blob/master/metakernel/magics/README.md"
			}
		   ],
		   "mimetype": "text/x-octave",
		   "name": "scilab",
		   "version": "0.7.1"
		  }
		 },
		 "nbformat": 4,
		 "nbformat_minor": 0
}
