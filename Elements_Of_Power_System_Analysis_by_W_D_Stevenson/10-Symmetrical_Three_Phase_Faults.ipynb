{
"cells": [
 {
		   "cell_type": "markdown",
	   "metadata": {},
	   "source": [
       "# Chapter 10: Symmetrical Three Phase Faults"
	   ]
	},
{
		   "cell_type": "markdown",
		   "metadata": {},
		   "source": [
			"## Example 10.1: unloadedfault.sce"
		   ]
		  },
  {
"cell_type": "code",
	   "execution_count": null,
	   "metadata": {
	    "collapsed": true
	   },
	   "outputs": [],
"source": [
"//Chapter 10\n",
"//Example 10.1\n",
"//Page 253\n",
"//unloadedfault\n",
"//run clear command then execute dependancy file and then the source file\n",
"//dependency file is pucalc.sci\n",
"clc;\n",
"//Given\n",
"P_g1 = 50e6;\n",
"V_g1 = 13.8e3;\n",
"P_g2 = 25e6;\n",
"V_g2 = 13.8e3;\n",
"P_t = 75e6;\n",
"V_t_lt = 13.8e3;\n",
"V_t_ht = 69e3;\n",
"X11_g = 0.25;\n",
"X11_t = 0.10;\n",
"Vbase = 69e3;\n",
"Pbase = 75e6;\n",
"Vbase_lt = 13.8e3;\n",
"V_ht = 66e3;\n",
"X11_d_g1 = pucalc(X11_g,V_t_lt,Vbase_lt,Pbase,P_g1);\n",
"X11_d_g2 = pucalc(X11_g,V_t_lt,Vbase_lt,Pbase,P_g2);\n",
"E_g1 = V_ht / Vbase;\n",
"E_g2 = V_ht / Vbase;\n",
"disp('For Generator 1')\n",
"printf('Xd11 = %.3f per unit \n Eg1 = %.3f per unit \n',X11_d_g1,E_g1)\n",
"disp('For Generator 2')\n",
"printf('Xd11 = %.3f per unit \n Eg2 = %.3f per unit \n',X11_d_g2,E_g2)\n",
"X_g12 = (X11_d_g1 * X11_d_g2) / (X11_d_g1 + X11_d_g2);\n",
"I11 = E_g1 / (%i*(X_g12 + X11_t));\n",
"disp(I11,'Subtransient current in the short circuit in per unit is')\n",
"Vdt = I11 * (%i*X11_t);\n",
"disp(Vdt,'Voltage on the delta side of the transformer in per unit is')\n",
"I11_g1 = (E_g1 - Vdt) / (%i*X11_d_g1);\n",
"I11_g2 = (E_g2 - Vdt) / (%i*X11_d_g2);\n",
"disp('Subtransient current in generator 1 and 2 in per unit respectively')\n",
"disp(I11_g1)\n",
"disp(I11_g2)\n",
"Ibase = Pbase / (sqrt(3) * Vbase_lt);\n",
"I11_1 = abs(I11_g1) * Ibase;\n",
"I11_2 = abs(I11_g2) * Ibase;\n",
"disp('Subtransient current in generator 1 and 2 in Amperes respectively')\n",
"disp(I11_1)\n",
"disp(I11_2)"
   ]
   }
,
{
		   "cell_type": "markdown",
		   "metadata": {},
		   "source": [
			"## Example 10.2: loadedfault.sce"
		   ]
		  },
  {
"cell_type": "code",
	   "execution_count": null,
	   "metadata": {
	    "collapsed": true
	   },
	   "outputs": [],
"source": [
"//Chapter 10\n",
"//Example 10.2\n",
"//Page 256\n",
"//loadedfault\n",
"clear;clc;\n",
"//Given\n",
"Pgm = 30e6;\n",
"Vgm = 13.2e3;\n",
"Xgm = 0.20;\n",
"Xl = 0.10;\n",
"Pm = 20e6;pfm = 0.8;Vt_m = 12.8e3;\n",
"Pbase = Pgm;\n",
"Vbase = Vgm;\n",
"Vf = Vt_m / Vbase;\n",
"Ibase = Pbase / (sqrt(3) * Vbase);\n",
"I_L = (Pm / (pfm * sqrt(3) * Vt_m)) * (cos(36.9 * %pi/180) + %i * sin(36.9 * %pi / 180)) / Ibase;\n",
"disp(I_L,'Line Current in per unit is')\n",
"Vt_g = Vf + (%i * Xl) * I_L;\n",
"E11_g = Vt_g + (%i * Xgm) * I_L;\n",
"I11_g = E11_g / (%i * (Xgm + Xl));\n",
"I11_gA = Ibase * I11_g;\n",
"disp(I11_g,'Fault current in the generator side in per unit')\n",
"disp(I11_gA,'Fault current in the generator side in A')\n",
"E11_m = Vf - (%i * Xgm) * I_L;\n",
"I11_m = E11_m / (%i * (Xgm));\n",
"I11_mA = Ibase * I11_m;\n",
"disp(I11_m,'Fault current in the motor side in per unit')\n",
"disp(I11_mA,'Fault current in the motor side in A')\n",
"If = I11_g + I11_m;\n",
"disp(If,'Toatl Fault current in per unit')\n",
"disp(If * Ibase,'Total Fault current in A')"
   ]
   }
,
{
		   "cell_type": "markdown",
		   "metadata": {},
		   "source": [
			"## Example 10.3: thevninloadedfault.sce"
		   ]
		  },
  {
"cell_type": "code",
	   "execution_count": null,
	   "metadata": {
	    "collapsed": true
	   },
	   "outputs": [],
"source": [
"//Chapter 10\n",
"//Example 10.3\n",
"//Page 259\n",
"//thevninloadedfault\n",
"clear;clc;\n",
"//Given\n",
"Pgm = 30e6;\n",
"Vgm = 13.2e3;\n",
"Xgm = 0.20;\n",
"Xl = 0.10;\n",
"Pm = 20e6;pfm = 0.8;Vt_m = 12.8e3;\n",
"Pbase = Pgm;\n",
"Vbase = Vgm;\n",
"Vf = Vt_m / Vbase;\n",
"Ibase = Pbase / (sqrt(3) * Vbase);\n",
"I_L = (Pm / (pfm * sqrt(3) * Vt_m)) * (cos(36.9 * %pi/180) + %i * sin(36.9 * %pi / 180)) / Ibase;\n",
"Zth = (%i*(Xgm+Xl) * (%i * Xgm)) / (%i*(Xgm+Xl) + (%i * Xgm));\n",
"disp(Zth,'Zth in per unit')\n",
"I11_f = Vf / Zth;\n",
"disp(I11_f,'Subtransient fault current in per unit')\n",
"If_g = I11_f * (%i * Xgm) / (%i*(Xgm+Xl) + (%i * Xgm));\n",
"If_m = I11_f * (%i * (Xgm + Xl)) / (%i*(Xgm+Xl) + (%i * Xgm));\n",
"I11_g = I_L + If_g ;\n",
"disp(I11_g,'Subtransient fault current in generator side in per unit')\n",
"I11_m = If_m - I_L ;\n",
"disp(I11_m,'Subtransient fault current in motor side in per unit')"
   ]
   }
,
{
		   "cell_type": "markdown",
		   "metadata": {},
		   "source": [
			"## Example 10.4: faultthrubus.sce"
		   ]
		  },
  {
"cell_type": "code",
	   "execution_count": null,
	   "metadata": {
	    "collapsed": true
	   },
	   "outputs": [],
"source": [
"//Chapter 10\n",
"//Example 10.4\n",
"//Page 265\n",
"//faultthrubus\n",
"clear;clc;\n",
"//Given\n",
"Pg1 = 270e6;\n",
"Pg3 = 225e6;\n",
"Pbase = 100e6;\n",
"V = 1;\n",
"X = 0.3;\n",
"Xg_b1 = X * Pbase /Pg1;\n",
"Xg_b3 = X * Pbase /Pg3;\n",
"y10 = 1 / (%i * Xg_b1);\n",
"y30 = 1 / (%i * Xg_b3);\n",
"y12 = 1 / (%i * 0.168);y15 = 1 / (%i * 0.126);\n",
"y23 = 1 / (%i * 0.126);y34 = 1 / (%i * 0.336);\n",
"y35 = 1 / (%i * 0.210);y45 = 1 / (%i * 0.252);\n",
"//Ybus by inspection\n",
"Ybus = zeros(5,5);\n",
"Ybus(1,1) = y10 + y12 + y15;\n",
"Ybus(2,2) = y12 + y23;\n",
"Ybus(3,3) = y30 + y23 + y35 + y34;\n",
"Ybus(4,4) = y34 + y45;\n",
"Ybus(5,5) = y45 + y15 + y35;\n",
"Ybus(1,2) = -y12;Ybus(2,1) = Ybus(1,2);Ybus(1,3) = 0;Ybus(1,4) =0;\n",
"Ybus(2,3) = -y23;Ybus(3,2E) = Ybus(2,3);Ybus(2,5) = 0;Ybus(2,4) =0;\n",
"Ybus(3,4) = -y34;Ybus(4,3) = Ybus(3,4);Ybus(3,1) = 0;\n",
"Ybus(4,5) = -y45;Ybus(5,4) = Ybus(4,5);Ybus(4,1) = 0;Ybus(4,2) = 0;\n",
"Ybus(1,5) = -y15;Ybus(5,1) = Ybus(1,5);Ybus(5,2) = 0;\n",
"Ybus(3,5) = -y35;Ybus(5,3) = Ybus(3,5);\n",
"disp(Ybus,'Ybus')\n",
"Zbus = inv(Ybus);\n",
"disp(Zbus,'Zbus')\n",
"I11 = V / Zbus(4,4);\n",
"disp(I11,'The subtransient current in a three-phase fault on bus 4 in per unit is')\n",
"V3 = V - I11 * Zbus(3,4);\n",
"V5 = V - I11 * Zbus(5,4);\n",
"disp(V3,V5,'Voltages at bus 3 and 5 repectively in per unit')\n",
"I3 = V3 * y34;\n",
"I5 = V5 * y45;\n",
"disp(I3,'Currents to fault from bus 3 in per unit')\n",
"disp(I5,'Currents to fault from bus 5 in per unit')\n",
"disp(I3 + I5,'Total current to fault in per unit')"
   ]
   }
,
{
		   "cell_type": "markdown",
		   "metadata": {},
		   "source": [
			"## Example 10.5: breakerrating.sce"
		   ]
		  },
  {
"cell_type": "code",
	   "execution_count": null,
	   "metadata": {
	    "collapsed": true
	   },
	   "outputs": [],
"source": [
"//Chapter 10\n",
"//Example 10.5\n",
"//Page 268\n",
"//breakerrating\n",
"clear;clc;\n",
"//Given\n",
"Pg = 25e6;Vg = 13.8e3;X11_dg = 0.15;\n",
"X11_dm = 0.20;Pmbase = 5e6;Vbasem = 6.9e3;\n",
"P_tr = 25e6;V_ht = 13.8e3;V_lt = 6.9e3;X_tr = 0.10;\n",
"Vbus_m = 6.9e3;\n",
"//the subtransient current in the fault\n",
"X11_dm1 = X11_dm * (P_tr / Pmbase);\n",
"Vf = 1;Xeqm =  1/(4*X11_dm1);Xeq_trg = X11_dg + X_tr;\n",
"Zth = Xeqm * Xeq_trg / (Xeqm + Xeq_trg);\n",
"I11_f = Vf / (%i * Zth);\n",
"Ibase_vbus = P_tr / (sqrt(3) * Vbus_m);\n",
"I11_f_a = abs(I11_f) * Ibase_vbus;\n",
"printf('\n Fault current in per unit = -j%.0f \n',abs(I11_f))\n",
"printf('\n Fault current in amperes = %.0f \n',I11_f_a)\n",
"//the subtransient current in breaker A\n",
"Ig_f = I11_f * Xeq_trg / (Xeqm + Xeq_trg);\n",
"Im_f = 0.25 * (I11_f - Ig_f);\n",
"I11_pu = Ig_f + 3 * Im_f;\n",
"I11_a = I11_pu * Ibase_vbus;\n",
"printf('\n Subtransient current through breaker A in per unit is -j%.0f \n',abs(I11_pu))\n",
"printf('\n Subtransient current through breaker A in amperes is %.0f \n',abs(I11_a))\n",
"//Symmetrical short-circuit interrupting current in the fault and in breaker A\n",
"X11_dm2 = 1.5 * X11_dm1;\n",
"Xeqm1 = X11_dm2 / 4;\n",
"Zth_c = (Xeqm1 * Xeq_trg) / (Xeqm1 + Xeq_trg);\n",
"Ig_f1 = Vf * Xeqm1 / (Zth_c * (Xeqm1 + Xeq_trg));\n",
"Im_f1 = (Vf * Xeq_trg) / (4 * Zth_c * (Xeqm1 + Xeq_trg));\n",
"I11_1pu = Ig_f1 + 3 * Im_f1;\n",
"I11_1a = I11_1pu * Ibase_vbus;\n",
"disp(I11_1a,'Symmetrical Short circuit current to be interrupted in A')\n",
"I11_pu_cb = Ig_f1 + 4 * Im_f1;\n",
"I11_a_cb = I11_pu_cb * Ibase_vbus;\n",
"disp(I11_a_cb,'The short circuit current rating of breakers must be atleast(in amperes)')\n",
"Vcb = 15.5e3;I_ic = 8900;k = 2.67;\n",
"Iic = I_ic * k;\n",
"Icb = Vcb * I_ic / Vbus_m;\n",
"printf('\n The required capability of %.0f A is well below 80 percent of %.0f A and the breaker is suitable with respect to the short-circuit current\n',abs(I11_a_cb),abs(Icb))"
   ]
   }
],
"metadata": {
		  "kernelspec": {
		   "display_name": "Scilab",
		   "language": "scilab",
		   "name": "scilab"
		  },
		  "language_info": {
		   "file_extension": ".sce",
		   "help_links": [
			{
			 "text": "MetaKernel Magics",
			 "url": "https://github.com/calysto/metakernel/blob/master/metakernel/magics/README.md"
			}
		   ],
		   "mimetype": "text/x-octave",
		   "name": "scilab",
		   "version": "0.7.1"
		  }
		 },
		 "nbformat": 4,
		 "nbformat_minor": 0
}
