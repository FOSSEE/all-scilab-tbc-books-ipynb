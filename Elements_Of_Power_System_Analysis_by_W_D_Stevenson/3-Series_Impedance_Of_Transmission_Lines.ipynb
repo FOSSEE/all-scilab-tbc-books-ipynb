{
"cells": [
 {
		   "cell_type": "markdown",
	   "metadata": {},
	   "source": [
       "# Chapter 3: Series Impedance Of Transmission Lines"
	   ]
	},
{
		   "cell_type": "markdown",
		   "metadata": {},
		   "source": [
			"## Example 3.1: Resistance.sce"
		   ]
		  },
  {
"cell_type": "code",
	   "execution_count": null,
	   "metadata": {
	    "collapsed": true
	   },
	   "outputs": [],
"source": [
"//Chapter 3\n",
"//Example 3.1\n",
"//Resistance\n",
"//Page 42\n",
"clear;clc;\n",
"//Given Values\n",
"R_dc = 0.01558; //in ohm per 1000 ft at 20 degree Celsius\n",
"R_ac = 0.0956; //in ohm per mi at 50 degree Celsius\n",
"A = 1113000; //in cmil\n",
"l = 1000;//in ft\n",
"p = 17; // $p$(rho) = 2.83e-8 ohm.m = 17 ohm.cmil per ft\n",
"//Verification of dc resistance\n",
"R_0_1 = p*l*1.02/A; //1.02 is to account for 2\% increase in spiraling\n",
"printf('\n\n The dc resistance at 20 degree Celsius = %f ohm per 1000 ft\n\n',R_0_1)\n",
"T = 228;//in degree Celsius\n",
"t1  = 50;//in degree Celsius\n",
"t2 = 20;//in degree Celsius\n",
"//to obtain dc resistance at 50 degree celsius\n",
"R0 = R_0_1 * (T + t1)/(T + t2);\n",
"printf('\n\n The dc resistance at 50 degree Celsius = %f ohm per 1000 ft \n\n',R0)\n",
"R = R_ac / 5.280e3; //to convert ohm per mi to ohm per ft,ac resistance\n",
"R_0 = R0 / 1000; //to convert ohm per 1000 ft to ohm per ft,dc resistance\n",
"// to calculate ratio of ac to dc resistance\n",
"printf('\n\n Ratio of ac to dc resistance = %.3f  \n\n',R / R_0)\n",
"printf('\n\n Skin effect causes a %.1f increase in resistance.\n\n',((R/R_0)-1)*100)"
   ]
   }
,
{
		   "cell_type": "markdown",
		   "metadata": {},
		   "source": [
			"## Example 3.2: singlephaseinductance.sce"
		   ]
		  },
  {
"cell_type": "code",
	   "execution_count": null,
	   "metadata": {
	    "collapsed": true
	   },
	   "outputs": [],
"source": [
"//Chapter 3\n",
"//Example 3.2\n",
"//singlephaseinductance\n",
"//Page 55\n",
"clear;clc;\n",
"//Given Values\n",
"r_x = 0.25e-2;//radius of circuit in m,composed of 3 wires a,b,c\n",
"r_y = 0.50e-2;//radius of return circuit in m,composed of 2 wires d,e\n",
"d_c = 9;//distance between the two circuits\n",
"d_w = 6;//distance between wires of same circuit\n",
"//To find GMD between sides X and Y\n",
"D_ad = d_c;D_be = D_ad;\n",
"D_ae = sqrt(d_w^2+d_c^2);\n",
"D_bd = D_ae;D_ce = D_ae;\n",
"D_cd = sqrt(d_c^2+(2*d_w)^2);\n",
"//GMD is given by\n",
"D_m = (D_ad * D_ae * D_bd * D_be * D_cd * D_ce)^(1/6);\n",
"printf('\n\n The GMD between the sides X and Y = %.3f m \n\n',D_m)\n",
"//To find GMR for the side X\n",
"D_aa = r_x * 0.7788;//multiplication by 0.7788 to adjust the radiuss \n",
"                   //in order to account for internal flux\n",
"D_ab = d_w;D_ac = 2 * d_w;D_ba = d_w;D_bb = D_aa;D_bc = D_ab;\n",
"D_ca = D_ac;D_cb = D_ab;\n",
"D_cc = D_aa;\n",
"//GMR for side X\n",
"D_s_x = (D_aa * D_ab * D_ac * D_ba * D_bb * D_bc * D_ca * D_cb * D_cc)^(1/9);\n",
"printf('\n\n The GMR for side X = %.3f m \n\n',D_s_x)\n",
"//To find GMR for the side Y\n",
"D_dd = r_y * 0.7788;\n",
"D_de = d_w;D_ee = D_dd;D_ed = D_de;\n",
"//GMR for side Y\n",
"D_s_y = (D_dd * D_de * D_ee * D_ed)^(1/4);\n",
"printf('\n\n The GMR for side Y = %.3f m \n\n',D_s_y)\n",
"//Inductance\n",
"L_x = 2e-7 * log(D_m / D_s_x);\n",
"L_y = 2e-7 * log(D_m / D_s_y);\n",
"L = L_x + L_y;\n",
"printf('\n\n Inductance of side X = %.3fe-7 H/m \n\n ',L_x*10^7)\n",
"printf('\n\n Inductance of side Y = %.3fe-7 H/m \n\n',L_y*10^7)\n",
"printf('\n\n Inductance of Complete line = %.3fe-7 H/m\n\n',L*10^7)\n",
"printf('\t\t\t \t= %.2f mH/mi \n\n',L * 1609e3)"
   ]
   }
,
{
		   "cell_type": "markdown",
		   "metadata": {},
		   "source": [
			"## Example 3.3: Partridge.sce"
		   ]
		  },
  {
"cell_type": "code",
	   "execution_count": null,
	   "metadata": {
	    "collapsed": true
	   },
	   "outputs": [],
"source": [
"//Chapter 3\n",
"//Example 3.3\n",
"//Partridge\n",
"//Page 57\n",
"clear;clc;\n",
"//Given Values\n",
"f = 60 //in Hz\n",
"D_m = 20 //in ft\n",
"//Inductive Reactance with D_s known\n",
"D_s = 0.0217 //in ft from Table A(appendix).1\n",
"X_L = 2.022e-3 * f * log(D_m/D_s)\n",
"disp('With GMR known')\n",
"printf('\n\n Inductive Reactance for one conductor,XL = %.3f ohm/mi \n\n',X_L)\n",
"//Inductive Reactance with D_s not known\n",
"disp('With GMR not known')\n",
"X_a = 0.465 //inductive reactance at 1 ft spacingin ohm per mi from Table A.1\n",
"X_d = 0.3635 //inductive reactance spacing factor in ohm per mi from Table A.1\n",
"printf('\n\n Inductive reactance of one conductor = %.4f ohm/mi \n\n',X_a + X_d)\n",
"disp('Since conductors composing the two lines are identical')\n",
"XL = 2 * (X_a + X_d)\n",
"printf('\n\n Inductive reactance,XL = %.3f ohm/mi \n\n',XL)"
   ]
   }
,
{
		   "cell_type": "markdown",
		   "metadata": {},
		   "source": [
			"## Example 3.4: Inductanceof3phaseline.sce"
		   ]
		  },
  {
"cell_type": "code",
	   "execution_count": null,
	   "metadata": {
	    "collapsed": true
	   },
	   "outputs": [],
"source": [
"//Chapter 3\n",
"//Example 3.4\n",
"//Inductanceof3phaseline\n",
"//Page 60\n",
"clear;clc;\n",
"//Given Values\n",
"D_12 = 20;D_23 = D_12;D_31 = 38;//in ft\n",
"f=60;//frequency in Hz\n",
"//From Table A.1\n",
"D_s = 0.0373;//in ft\n",
"X_a = 0.399;//inductive reactance at 1 ft spacing in ohm/mi\n",
"X_d = 0.389;//inductive reactance spacing factor in ohm/mi for 24.8ft\n",
"//Calculations\n",
"D_eq = (D_12 * D_23 * D_31)^(1/3);\n",
"L = 2e-7 * log(D_eq/D_s)*10^7;\n",
"X_L = 2*%pi*f*L*10^-7*1609;//multiplication by 1609 to convert to ohm/mi\n",
"//Displaying\n",
"printf('\n\n Inductance = %.4fe-7 H/m \n\n',L)\n",
"printf('\n\n Inductive reactance = %.4f ohm/mi/phase \n\n',X_L)\n",
"//inductance from X_a and X_d\n",
"X_L1 = X_a + X_d;\n",
"printf('\n\n Inductive reactance from Xa and Xd = %.4f ohm/mi/phase \n\n',X_L1)"
   ]
   }
,
{
		   "cell_type": "markdown",
		   "metadata": {},
		   "source": [
			"## Example 3.5: BundledConductors.sce"
		   ]
		  },
  {
"cell_type": "code",
	   "execution_count": null,
	   "metadata": {
	    "collapsed": true
	   },
	   "outputs": [],
"source": [
"//Chapter 3\n",
"//Example 3.5\n",
"//BundledConductors\n",
"//Page 62\n",
"clear;clc;\n",
"//Given Values\n",
"d = 0.45;//in m\n",
"l = 160 ;//in km\n",
"d_12 = 8;d_23 = 8;d_31 = 16;//in m\n",
"f = 60;//in Hz\n",
"P = 100;//in MVA\n",
"V = 345;//in kV\n",
"//From Table A1\n",
"D_s = 0.0466;//in ft\n",
"//Calculations\n",
"D_b_s = sqrt(D_s * 0.3048 * d);//multiplicqation by 0.3048 is to convert D_s\n",
"                               //from ft to m\n",
"D_eq = (d_12 * d_23 * d_31)^(1/3);\n",
"X_L = 2 * %pi * f * 2e-7 * 10^3 * log(D_eq / D_b_s);//10^3 to get ohm/km\n",
"//To find per unit series reactance\n",
"Z = V^2 / P;//Base Impedance\n",
"X = X_L * l / Z;//per unit series reactance\n",
"printf('\n\n Inductive reactance = %.3f ohm/km/phase \n\n',X_L)\n",
"printf('\n\n Base Impedance = %.0f ohm \n\n',Z)\n",
"printf('\n\n Per unit series resistance of the line = %.3f per unit \n\n',X)"
   ]
   }
,
{
		   "cell_type": "markdown",
		   "metadata": {},
		   "source": [
			"## Example 3.6: ParallelCircuit.sce"
		   ]
		  },
  {
"cell_type": "code",
	   "execution_count": null,
	   "metadata": {
	    "collapsed": true
	   },
	   "outputs": [],
"source": [
"//Chapter 3\n",
"//Example 3.6\n",
"//ParallelCircuit\n",
"//Page 63\n",
"clear;clc;\n",
"//Example 3.6\n",
"//Given\n",
"f = 60;//in Hz\n",
"//From Table A.1\n",
"D_s = 0.0229 //in ft\n",
"//Distances from given figure 3.15\n",
"d_a_c = 18;d_c_a = d_a_c;d_b_b = 21;\n",
"d = 10;//distance between conductors\n",
"d_a_b = sqrt(d^2 + (d_b_b - 19.5)^2);\n",
"d_a_b1 = sqrt(d^2 + (d_b_b - 1.5)^2);\n",
"d_aa1_actual = sqrt((d * 2)^2 + d_a_c^2);\n",
"d_bb1_actual = d_b_b;\n",
"d_cc1_actual = d_aa1_actual;\n",
"d_aa1_pos = sqrt(d_aa1_actual * D_s);\n",
"d_bb1_pos = sqrt(d_bb1_actual * D_s);\n",
"d_cc1_pos = sqrt(d_cc1_actual * D_s)\n",
"//GMD's between phases\n",
"D_p_ab = ((d_a_b * d_a_b1)^(2*1/4));//in ft\n",
"D_p_bc = D_p_ab;\n",
"D_p_ca = (((d*2) * d_c_a)^(2*1/4));//in ft\n",
"D_eq = (D_p_ab * D_p_bc * D_p_ca)^(1/3);//in ft\n",
"printf('\n\n Equivalent GMD = %.1f ft \n\n',D_eq)\n",
"//GMR\n",
"D_p_s = (d_aa1_pos * d_bb1_pos * d_cc1_pos)^(1/3);\n",
"printf('\n\n GMR = %.3f ft \n\n',D_p_s)\n",
"//Inductance\n",
"L = 2e-7 * log(D_eq / D_p_s);\n",
"X_L = 2 * %pi * f * L * 1609;//multiplication by 1609 is to convert to ohm/mi\n",
"printf('\n\n The Inductive reactance = %.3f ohm/mi/phase \n\n',X_L)"
   ]
   }
],
"metadata": {
		  "kernelspec": {
		   "display_name": "Scilab",
		   "language": "scilab",
		   "name": "scilab"
		  },
		  "language_info": {
		   "file_extension": ".sce",
		   "help_links": [
			{
			 "text": "MetaKernel Magics",
			 "url": "https://github.com/calysto/metakernel/blob/master/metakernel/magics/README.md"
			}
		   ],
		   "mimetype": "text/x-octave",
		   "name": "scilab",
		   "version": "0.7.1"
		  }
		 },
		 "nbformat": 4,
		 "nbformat_minor": 0
}
