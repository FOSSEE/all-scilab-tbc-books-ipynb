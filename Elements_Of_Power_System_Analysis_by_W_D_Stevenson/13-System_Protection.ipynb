{
"cells": [
 {
		   "cell_type": "markdown",
	   "metadata": {},
	   "source": [
       "# Chapter 13: System Protection"
	   ]
	},
{
		   "cell_type": "markdown",
		   "metadata": {},
		   "source": [
			"## Example 13.1: Zones.sce"
		   ]
		  },
  {
"cell_type": "code",
	   "execution_count": null,
	   "metadata": {
	    "collapsed": true
	   },
	   "outputs": [],
"source": [
"//Chapter 13\n",
"//Example 13.1\n",
"//Page 341\n",
"//Zones\n",
"clear;clc;\n",
"disp('Solution to this problem can be got by theory from Section 13.2 in the textbook')"
   ]
   }
,
{
		   "cell_type": "markdown",
		   "metadata": {},
		   "source": [
			"## Example 13.2: MaxMinI.sce"
		   ]
		  },
  {
"cell_type": "code",
	   "execution_count": null,
	   "metadata": {
	    "collapsed": true
	   },
	   "outputs": [],
"source": [
"//Chapter 13\n",
"//Page 355\n",
"//Example 13.2\n",
"//MaxMinI\n",
"clear;clc;\n",
"//Given\n",
"V = 13.8e3;\n",
"Z_tr = %i * 5;\n",
"Z_tr_eq = Z_tr / 2;//since two reactances of equal value are in parallel\n",
"Z1 = %i*9.6;Z2 = %i*6.4;Z3 = %i*8.0;Z4 = %i*12.8;\n",
"m = sqrt(3) / 2;//to obtain line-to-line fault from a three-phase fault current\n",
"//At bus 5\n",
"//Max. Current\n",
"If_b5_max = (V/sqrt(3)) / (Z_tr_eq + Z1 + Z2 + Z3 + Z4);\n",
"disp(If_b5_max,'Maximum fault current at bus 5 in A')\n",
"//Min. Current\n",
"If_b5_min = (V/sqrt(3)) * m / (Z_tr + Z1 + Z2 + Z3 + Z4);\n",
"disp(If_b5_min,'Minimum fault current at bus 5 in A')\n",
"//At bus 4\n",
"//Max. Current\n",
"If_b4_max = (V/sqrt(3)) / (Z_tr_eq + Z1 + Z2 + Z3);\n",
"disp(If_b4_max,'Maximum fault current at bus 4 in A')\n",
"//Min. Current\n",
"If_b4_min = (V/sqrt(3)) * m / (Z_tr + Z1 + Z2 + Z3);\n",
"disp(If_b4_min,'Minimum fault current at bus 4 in A')\n",
"//At bus 3\n",
"//Max. Current\n",
"If_b3_max = (V/sqrt(3)) / (Z_tr_eq + Z1 + Z2);\n",
"disp(If_b3_max,'Maximum fault current at bus 3 in A')\n",
"//Min. Current\n",
"If_b3_min = (V/sqrt(3)) * m / (Z_tr + Z1 + Z2);\n",
"disp(If_b3_min,'Minimum fault current at bus 3 in A')\n",
"//At bus 2\n",
"//Max. Current\n",
"If_b2_max = (V/sqrt(3)) / (Z_tr_eq + Z1);\n",
"disp(If_b2_max,'Maximum fault current at bus 2 in A')\n",
"//Min. Current\n",
"If_b2_min = (V/sqrt(3)) * m / (Z_tr + Z1);\n",
"disp(If_b2_min,'Minimum fault current at bus 2 in A')\n",
"//At bus 2\n",
"//Max. Current\n",
"If_b1_max = (V/sqrt(3)) / (Z_tr_eq);\n",
"disp(If_b1_max,'Maximum fault current at bus 1 in A')\n",
"//Min. Current\n",
"If_b1_min = (V/sqrt(3)) * m / (Z_tr);\n",
"disp(If_b1_min,'Minimum fault current at bus 1 in A')"
   ]
   }
,
{
		   "cell_type": "markdown",
		   "metadata": {},
		   "source": [
			"## Example 13.3: selectio.sce"
		   ]
		  },
  {
"cell_type": "code",
	   "execution_count": null,
	   "metadata": {
	    "collapsed": true
	   },
	   "outputs": [],
"source": [
"//Chapter 13\n",
"//Page 357\n",
"//Example 13.3\n",
"//selection\n",
"//This problem contains many assumptions and values are taken from Figure 13.7 in page 348 after intial calculations,it is done in order to select equipment of the available rated value in the market to meet the required conditions.So only the required calculations are shown and final answer after the required changes are displayed.\n",
"clear;clc;\n",
"//Given\n",
"V = 13.8e3;\n",
"Z_tr = %i * 5;\n",
"Z_tr_eq = Z_tr / 2;//since two reactances of equal value are in parallel\n",
"Z1 = %i*9.6;Z2 = %i*6.4;Z3 = %i*8.0;Z4 = %i*12.8;\n",
"m = sqrt(3) / 2;//to obtain line-to-line fault from a three-phase fault current\n",
"If_b5_max = (V/sqrt(3)) / (Z_tr_eq + Z1 + Z2 + Z3 + Z4);\n",
"If_b5_min = (V/sqrt(3)) * m / (Z_tr + Z1 + Z2 + Z3 + Z4);\n",
"If_b4_max = (V/sqrt(3)) / (Z_tr_eq + Z1 + Z2 + Z3);\n",
"If_b4_min = (V/sqrt(3)) * m / (Z_tr + Z1 + Z2 + Z3);\n",
"If_b3_max = (V/sqrt(3)) / (Z_tr_eq + Z1 + Z2);\n",
"If_b3_min = (V/sqrt(3)) * m / (Z_tr + Z1 + Z2);\n",
"If_b2_max = (V/sqrt(3)) / (Z_tr_eq + Z1);\n",
"If_b2_min = (V/sqrt(3)) * m / (Z_tr + Z1);\n",
"If_b1_max = (V/sqrt(3)) / (Z_tr_eq);\n",
"If_b1_min = (V/sqrt(3)) * m / (Z_tr);\n",
"//Settings for relay R4\n",
"R4_I_1_p = If_b5_min /3;disp(abs(R4_I_1_p),'One third of minimum fault current in A')\n",
"R4_I_p = R4_I_1_p * 5 /55;disp(abs(R4_I_p),'For CT ratio 50/5 resulting relay current in A will be')\n",
"disp('Settings for relay R4')\n",
"disp('CT ratio = 50:5')\n",
"disp('Pick up setting in A = 5')\n",
"disp('Time-dial setting = 1/2')\n",
"//Settings for relay R3\n",
"R3_I_p = If_b4_max * 5 / 50;disp(abs(R3_I_p),'The relay current of both R3 and R4 for higest fault current seen by R4')\n",
"R4_t_op = 0.135;disp(R4_t_op,'Operating time for R4 with time dial setting 1/2 in sec is')\n",
"t=0.3;\n",
"R3_t_op = R4_t_op + t;disp(R3_t_op,'Required operating time of relay R3')\n",
"disp('Settings for relay R3')\n",
"disp('CT ratio = 50:5')\n",
"disp('Pick up setting in A = 5')\n",
"disp('Time-dial setting = 2')\n",
"//Settings for relay R2\n",
"R2_I_p = (1/3) * If_b4_min * (5/100);disp(abs(R2_I_p),'Pickup setting in A')\n",
"R3_I_1_p = If_b3_max * (5/50) * (1/5);disp(abs(R3_I_1_p),'Reatio of relay current to picup setting in A for max fault current through R3')\n",
"R3_t_op = 0.31;\n",
"R2_t_op = R3_t_op + t;disp(R2_t_op,'Operating time of R2 in sec')\n",
"R2_I_1_p = If_b3_max * (5/100) * (1/4);disp(abs(R2_I_1_p),'For backing up R3 the ratio of relay current to pickup setting of R2 in A')\n",
"disp('Settings for relay R2')\n",
"disp('CT ratio = 100:5')\n",
"disp('Pick up setting in A = 4')\n",
"disp('Time-dial setting = 2.6')\n",
"//Settings for relay R1\n",
"R1_I_p = If_b3_min * (1/3) * (5/100);\n",
"//taking tap as 5.0\n",
"R2_1_I_1_op = If_b2_max * (5/50) * (1/5);\n",
"//Operating time will come to 0.33s\n",
"R1_t_op = 0.33+t;\n",
"R1_1_I_1_op = If_b2_max * (5/100) * (1/5);\n",
"disp('Settings for relay R1')\n",
"disp('CT ratio = 100:5')\n",
"disp('Pick up setting in A = 5')\n",
"disp('Time-dial setting = 2.9')"
   ]
   }
,
{
		   "cell_type": "markdown",
		   "metadata": {},
		   "source": [
			"## Example 13.4: Zone.sce"
		   ]
		  },
  {
"cell_type": "code",
	   "execution_count": null,
	   "metadata": {
	    "collapsed": true
	   },
	   "outputs": [],
"source": [
"//Chapter 13\n",
"//Page 363\n",
"//Example 13.4\n",
"//Zone\n",
"clear;clc;\n",
"//Given\n",
"l_12 = 64;l_23 = 64;l_24 = 96;//in km\n",
"l_12m = 40;l_23m = 40;l_24m = 60;\n",
"z = 0.05 + %i * 0.5;\n",
"Pmax = 50e6;\n",
"V = 138e3;pf = 0.8;cvt = 67;\n",
"Z_12 = z * l_12;Z_23 = z * l_23;Z_24 = z * l_24;\n",
"disp('The positive sequnce impedances of the three line in ohms in the order line 1-2,line 2-3,line 2-4 are')\n",
"disp(Z_12);disp(Z_23);disp(Z_24);\n",
"Il_max = Pmax / (sqrt(3) * V);disp(Il_max,'Maximum load current in A')\n",
"Vn = V/ sqrt(3);disp(Vn,'System Voltage to neutral')\n",
"ratio_cvt = Vn / cvt;disp('cvt ratio = 1089.1/1')\n",
"b1_factor = l_12m / ratio_cvt;\n",
"Z_r12 = Z_12 * b1_factor;\n",
"Z_r23 = Z_23 * b1_factor;\n",
"Z_r24 = Z_24 * b1_factor;\n",
"disp('The impedance of the lines as seen by R12 in ohms in the order line 1-2,line 2-3,line 2-4 are')\n",
"disp(Z_r12);disp(Z_r23);disp(Z_r24);\n",
"Zload = (cvt * (pf + %i * sqrt(1-pf^2))) / (Il_max * (5/200));disp(Zload,'Impedance of load current')\n",
"zone1 = 0.8 * Z_r12;disp(zone1,'Setting of zone one on secondary in ohms')\n",
"zone2 = 1.2 * Z_r23;disp(zone2,'Setting of zone two on secondary in ohms')\n",
"zone3 = Z_r23 + 1.2 * Z_r24;disp(zone3,'Setting of zone three on secondary in ohms')"
   ]
   }
,
{
		   "cell_type": "markdown",
		   "metadata": {},
		   "source": [
			"## Example 13.5: transformer.sce"
		   ]
		  },
  {
"cell_type": "code",
	   "execution_count": null,
	   "metadata": {
	    "collapsed": true
	   },
	   "outputs": [],
"source": [
"//Chapter 13\n",
"//Page 368\n",
"//Example 13.5\n",
"//transformer\n",
"clear;clc;\n",
"//Given\n",
"V_ht = 345e3;\n",
"V_lt = 34.5e3;\n",
"P = 50e6;\n",
"P_short_term = 60e6;\n",
"I_ht = P_short_term / (sqrt(3) * V_ht);\n",
"I_lt = P_short_term / (sqrt(3) * V_lt);\n",
"disp(I_ht,I_lt,'Under maximum load the currents on 345-kV and 34.5-kV side of the transformer respectively in A')\n",
"//CT ratio on the 34.5kV side 1000/5\n",
"I_r_lt = I_lt * 5 / 1000;disp(I_r_lt,'Current flowing through the differential relay from 34.5-kV side')\n",
"I_balance = 5;\n",
"I_lt_sec_ct = I_balance / sqrt(3);disp(I_lt_sec_ct,'To balance the above current each of the secondary windings of the delta connected CTs should have a current(in A) of')\n",
"ct_sec = I_ht / I_lt_sec_ct;disp(ct_sec,'CT ratios in secondary for the above currents')\n",
"I_ht_sec_ct = I_ht * 5 / 200;disp(I_ht_sec_ct,'CT secondary currents for ratio 200/5 on the secondary side of 345-kV will be')\n",
"I_line_ctr = I_ht_sec_ct * sqrt(3);disp(I_line_ctr,'Line currents from CTs to differential relays')\n",
"turns_ratio = I_r_lt / I_line_ctr;disp(turns_ratio,'Required turns ratio for the three auxillary CTs uses is')"
   ]
   }
],
"metadata": {
		  "kernelspec": {
		   "display_name": "Scilab",
		   "language": "scilab",
		   "name": "scilab"
		  },
		  "language_info": {
		   "file_extension": ".sce",
		   "help_links": [
			{
			 "text": "MetaKernel Magics",
			 "url": "https://github.com/calysto/metakernel/blob/master/metakernel/magics/README.md"
			}
		   ],
		   "mimetype": "text/x-octave",
		   "name": "scilab",
		   "version": "0.7.1"
		  }
		 },
		 "nbformat": 4,
		 "nbformat_minor": 0
}
