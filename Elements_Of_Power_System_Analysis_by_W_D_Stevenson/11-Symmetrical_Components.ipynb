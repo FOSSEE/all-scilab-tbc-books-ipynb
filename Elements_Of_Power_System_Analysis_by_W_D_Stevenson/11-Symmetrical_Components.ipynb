{
"cells": [
 {
		   "cell_type": "markdown",
	   "metadata": {},
	   "source": [
       "# Chapter 11: Symmetrical Components"
	   ]
	},
{
		   "cell_type": "markdown",
		   "metadata": {},
		   "source": [
			"## Example 11.1: linecurrents.sce"
		   ]
		  },
  {
"cell_type": "code",
	   "execution_count": null,
	   "metadata": {
	    "collapsed": true
	   },
	   "outputs": [],
"source": [
"//Chapter 11\n",
"//Example 11.1\n",
"//Page 280\n",
"//linecurrents\n",
"clear;clc;\n",
"//Given\n",
"I_a = 10 * (cos(0) + %i * sin(0));\n",
"I_b = 10 * (cos(180 * %pi / 180) + %i * sin(180 * %pi / 180));\n",
"I_c = 0;\n",
"a = 1 * (cos(120 * %pi / 180) + %i * sin(120 * %pi / 180));\n",
"//Phase 'a'\n",
"disp('Phase a')\n",
"I_a0=(1/3)*(I_a+I_b+I_c);\n",
"I_a1=(1/3)*(I_a+a*I_b+a^2*I_c);\n",
"I_a2=(1/3)*(I_a+a^2*I_b+a*I_c);\n",
"printf(' I_a0 = %.2f /_%.2f A',abs(I_a0),atan(imag(I_a0),real(I_a0)) * 180 / %pi)\n",
"printf('\n I_a1 = %.2f /_%.2f A',abs(I_a1),atan(imag(I_a1),real(I_a1)) * 180 / %pi)\n",
"printf('\n I_a2 = %.2f /_%.2f A \n\n',abs(I_a2),atan(imag(I_a2),real(I_a2)) * 180 / %pi)\n",
"//Phase 'b'\n",
"disp('Phase b')\n",
"I_b0 = I_a0;\n",
"I_b1=a^2*I_a1;\n",
"I_b2=a*I_a2;\n",
"printf(' I_b0 = %.2f /_%.2f A',abs(I_b0),atan(imag(I_b0),real(I_b0)) * 180 / %pi)\n",
"printf('\n I_b1 = %.2f /_%.2f A',abs(I_b1),atan(imag(I_b1),real(I_b1)) * 180 / %pi)\n",
"printf('\n I_b2 = %.2f /_%.2f A \n\n',abs(I_b2),atan(imag(I_b2),real(I_b2)) * 180 / %pi)\n",
"//Phase 'c'\n",
"disp('Phase c')\n",
"I_c0=I_a0;\n",
"I_c1=a*I_a1;\n",
"I_c2=a^2*I_a2;\n",
"printf(' I_c0 = %.2f /_%.2f A',abs(I_c0),atan(imag(I_c0),real(I_c0)) * 180 / %pi)\n",
"printf('\n I_c1 = %.2f /_%.2f A',abs(I_c1),atan(imag(I_c1),real(I_c1)) * 180 / %pi)\n",
"printf('\n I_c2 = %.2f /_%.2f A \n\n',abs(I_c2),atan(imag(I_c2),real(I_c2)) * 180 / %pi)"
   ]
   }
,
{
		   "cell_type": "markdown",
		   "metadata": {},
		   "source": [
			"## Example 11.2: sequence.sce"
		   ]
		  },
  {
"cell_type": "code",
	   "execution_count": null,
	   "metadata": {
	    "collapsed": true
	   },
	   "outputs": [],
"source": [
"//Chapter 11\n",
"//Example 11.2\n",
"//Page 285\n",
"//sequence\n",
"clear;clc;\n",
"//Give\n",
"V_ab = 0.8 * (cos(82.8 * %pi /180) + %i * sin(82.8 * %pi / 180));\n",
"V_bc = 1.2 * (cos(-41.4 * %pi /180) + %i * sin(-41.4 * %pi / 180));\n",
"V_ca = 1 * (cos(180 * %pi /180) + %i * sin(180 * %pi / 180));\n",
"a = 1 * (cos(120 * %pi / 180) + %i * sin(120 * %pi / 180));\n",
"//Symmetrical components of line voltage\n",
"//Since neutral connection is absent zero sequence components are absent\n",
"V_ab1=(1/3)*(V_ab+a*V_bc+a^2*V_ca);\n",
"V_ab2=(1/3)*(V_ab+a^2*V_bc+a*V_ca);\n",
"V_a1 = V_ab1 * (cos(-30 * %pi / 180) + %i * sin(-30 * %pi / 180));\n",
"V_a2 = V_ab2 * (cos(30 * %pi / 180) + %i * sin(30 * %pi / 180));\n",
"r = 1 * (cos(0) + %i * sin(0));\n",
"I_a1 = V_a1 / r;\n",
"I_a2 = V_a2 / r;\n",
"V_A1 = -1 * %i * V_a1 ;\n",
"V_A2 = %i * V_a2 ;\n",
"V_A = V_A1 + V_A2;\n",
"V_B1 = a^2 * V_A1;\n",
"V_B2 = a * V_A2;\n",
"V_B = V_B1 + V_B2;\n",
"V_C1 = a * V_A1;\n",
"V_C2 = a^2 * V_A2;\n",
"V_C = V_C1 + V_C2;\n",
"V_AB = V_A - V_B;\n",
"V_BC = V_B - V_C;\n",
"V_CA = V_C - V_A;\n",
"I_A = V_A / r;\n",
"I_B = V_B / r;\n",
"I_C = V_C / r;\n",
"disp('Line-neutral voltages')\n",
"printf('\n V_AB = %.2f /_%.2f per unit',abs(V_AB),atan(imag(V_AB),real(V_AB))*180/%pi)\n",
"printf('\n V_BC = %.2f /_%.2f per unit',abs(V_BC),atan(imag(V_BC),real(V_BC))*180/%pi)\n",
"printf('\n V_CA = %.2f /_%.2f per unit \n\n',abs(V_CA),atan(imag(V_CA),real(V_CA))*180/%pi)\n",
"disp('Line-line voltages')\n",
"printf('\n V_AB = %.2f /_%.2f per unit',abs(V_AB)/sqrt(3),atan(imag(V_AB),real(V_AB))*180/%pi)\n",
"printf('\n V_BC = %.2f /_%.2f per unit',abs(V_BC)/sqrt(3),atan(imag(V_BC),real(V_BC))*180/%pi)\n",
"printf('\n V_CA = %.2f /_%.2f per unit \n\n',abs(V_CA)/sqrt(3),atan(imag(V_CA),real(V_CA))*180/%pi)\n",
"disp('Line currents')\n",
"printf('\n I_A = %.2f /_%.2f per unit',abs(I_A),atan(imag(I_A),real(I_A))*180/%pi)\n",
"printf('\n I_B = %.2f /_%.2f per unit',abs(I_B),atan(imag(I_B),real(I_B))*180/%pi)\n",
"printf('\n I_C = %.2f /_%.2f per unit \n\n',abs(I_C),atan(imag(I_C),real(I_C))*180/%pi)"
   ]
   }
,
{
		   "cell_type": "markdown",
		   "metadata": {},
		   "source": [
			"## Example 11.4: zerosequence.sce"
		   ]
		  },
  {
"cell_type": "code",
	   "execution_count": null,
	   "metadata": {
	    "collapsed": true
	   },
	   "outputs": [],
"source": [
"//Chapter 11\n",
"//Example 11.4\n",
"//Page 301\n",
"//zerosequence\n",
"//run clear command then execute dependancy file and then the source file\n",
"//dependency file is pucalc.sci\n",
"clc;\n",
"//Given\n",
"P_g = 300e6;\n",
"V_g = 20e3;\n",
"X11_g = 0.20;\n",
"l = 64;\n",
"V_m = 13.2e3;\n",
"P_m1 = 200e6;\n",
"P_m2 = 100e6;\n",
"X11_m = 0.20;\n",
"T1_P = 350e6;\n",
"T1_vht = 230e3;\n",
"T1_vlt = 20e3;\n",
"x_T1 = 0.10;\n",
"T2_1_P = 100e6;\n",
"T2_1_vht = 127e3;\n",
"T2_1_vlt = 13.2e3;\n",
"x_T2 = 0.10;\n",
"x_line = 0.5;//ohm per km\n",
"V_base = V_g;\n",
"P_base = P_g;\n",
"x0 = 0.05;\n",
"x_cl = 0.4;\n",
"x0_line = 1.5;//ohm per km\n",
"//Calculations\n",
"T2_P = 3*T2_1_P;\n",
"T2_vht = sqrt(3)*T2_1_vht;\n",
"T2_vlt = T2_1_vlt;\n",
"V_base_line = (T1_vht/T1_vlt)*V_base;\n",
"V_base_m = V_base_line * (T2_vlt/T2_vht);\n",
"z_line_base = (V_base_line)^2/P_base;\n",
"x_line_pu = x_line * l / z_line_base;\n",
"x0_g = x0;\n",
"x0_m1 = pucalc(x0,V_m,V_base_m,P_base,P_m1);\n",
"x0_m2 = pucalc(x0,V_m,V_base_m,P_base,P_m2);\n",
"Z_g = (V_g^2) / P_base;\n",
"Z_m = (V_base_m)^2 / P_base;\n",
"Zn_g = 3 * x_cl / Z_g;\n",
"Zn_m = 3 * x_cl / Z_m;\n",
"X_0 = x0_line * l / z_line_base;\n",
"printf('\n\n Generator X0 = %.2f per unit',x0_g)\n",
"printf('\n\n Motor 1 X0 = %.4f per unit',x0_m1)\n",
"printf('\n\n Motor 2 X0 = %.4f per unit',x0_m2)\n",
"printf('\n\n Generator base impedance = %.3f per unit',Z_g)\n",
"printf('\n\n Motor base impedance = %.3f per unit',Z_m)\n",
"printf('\n\n In generator 3Zn = %.3f per unit',Zn_g)\n",
"printf('\n\n In motor 3Zn = %.3f per unit',Zn_m)\n",
"printf('\n\n Transmission line X0 = %.4f per unit',X_0)\n",
"//zero-sequence diagram is shown in xcos file"
   ]
   }
],
"metadata": {
		  "kernelspec": {
		   "display_name": "Scilab",
		   "language": "scilab",
		   "name": "scilab"
		  },
		  "language_info": {
		   "file_extension": ".sce",
		   "help_links": [
			{
			 "text": "MetaKernel Magics",
			 "url": "https://github.com/calysto/metakernel/blob/master/metakernel/magics/README.md"
			}
		   ],
		   "mimetype": "text/x-octave",
		   "name": "scilab",
		   "version": "0.7.1"
		  }
		 },
		 "nbformat": 4,
		 "nbformat_minor": 0
}
