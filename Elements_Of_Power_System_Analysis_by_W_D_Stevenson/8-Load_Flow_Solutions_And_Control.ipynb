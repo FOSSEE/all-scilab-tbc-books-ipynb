{
"cells": [
 {
		   "cell_type": "markdown",
	   "metadata": {},
	   "source": [
       "# Chapter 8: Load Flow Solutions And Control"
	   ]
	},
{
		   "cell_type": "markdown",
		   "metadata": {},
		   "source": [
			"## Example 8.1: NewtonRaphson.sce"
		   ]
		  },
  {
"cell_type": "code",
	   "execution_count": null,
	   "metadata": {
	    "collapsed": true
	   },
	   "outputs": [],
"source": [
"//Chapter 8\n",
"//Page 200\n",
"//Example 8.1\n",
"//NewtonRaphson\n",
"clear;clc;\n",
"//Given\n",
"P = 100e6;\n",
"V = 138e3;\n",
"//From Table 8.1\n",
"R_12 = 0.042;R_15 = 0.031;R_23 = 0.031;\n",
"R_34 = 0.084;R_25 = 0.053;R_45 = 0.063;\n",
"X_12 = 0.168;X_15 = 0.126;X_23 = 0.126;\n",
"X_34 = 0.336;X_25 = 0.210;X_45 = 0.252;\n",
"//From Table 8.2\n",
"V1 = 1.04;V2 = 1;V3 = 1.02;V4 = 1;V5 = 1;\n",
"P_2 = 115e6;\n",
"//Calculation\n",
"Y_21 = - 1 / (R_12 + %i * X_12);\n",
"printf('\n Y21 = %.2f /_%.2f per unit',abs(Y_21),atan(imag(Y_21),real(Y_21))*180/%pi)\n",
"Y_23 = - 1 / (R_23 + %i * X_23);\n",
"printf('\n Y23 = %.2f /_%.2f per unit \n\n',abs(Y_23),atan(imag(Y_23),real(Y_23))*180/%pi)\n",
"Y_21mag = abs(Y_21);Y_21ang = atan(imag(Y_21),real(Y_21));\n",
"Y_23mag = abs(Y_23);Y_23ang = atan(imag(Y_23),real(Y_23));\n",
"Y_22 = - Y_21 - Y_23;\n",
"Y_24 = 0;Y_25 = 0;\n",
"P0_2calc = (V2 * V1 * Y_21mag * cos(Y_21ang)) - (V2 * V2 * Y_21mag * cos(Y_21ang)) - (V2 * V2 * Y_23mag * cos(Y_23ang)) + (V2 * V3 * Y_23mag * cos(Y_23ang));\n",
"P_2scheduled = - P_2 / P;\n",
"printf('\n Scheduled power into the network at bus 2 is %.2f per unit\n',P_2scheduled)\n",
"delta_P0_2 = P_2scheduled - P0_2calc;\n",
"delP_2_3 = - V2 * V3 * Y_23mag * sin(Y_23ang);\n",
"printf('\nDifference between calculated value and scheduled value = %.4f per unit\n',delta_P0_2)\n",
"printf('\nThe value of the second element in the first row of the Jacobian = %.4f per unit \n',delP_2_3)"
   ]
   }
,
{
		   "cell_type": "markdown",
		   "metadata": {},
		   "source": [
			"## Example 8.2: Thevnin.sce"
		   ]
		  },
  {
"cell_type": "code",
	   "execution_count": null,
	   "metadata": {
	    "collapsed": true
	   },
	   "outputs": [],
"source": [
"//Chapter 8\n",
"//Page 210\n",
"//Example 8.2\n",
"//Thevnin\n",
"clear;clc;\n",
"//Given\n",
"Zth = %i * 0.2;Xg = %i * 1;\n",
"Vt = 0.97;\n",
"I = 0.8 - %i* 0.2;\n",
"Vt_b =1;\n",
"//Calculations\n",
"//a\n",
"S = Vt * I';\n",
"Eg = Vt + Xg * I;\n",
"printf('\n P = %.3f per unit \n Q = %.3f per unit\n',real(S),imag(S))\n",
"printf('\n Eg = %.2f /_%.2f per unit \n',abs(Eg),atan(imag(Eg),real(Eg))*180/%pi)\n",
"//b\n",
"Eth = Vt - Zth * I;\n",
"delta = asin(real(S)  * abs(Zth) / (abs(Eth) * Vt_b));\n",
"printf('\n Eth = %.2f /_%.2f per unit \n',abs(Eth),atan(imag(Eth),real(Eth))*180/%pi)\n",
"printf('\n Phase angle of Vt = %.2f \n',delta*180/%pi)\n",
"ang = (atan(imag(Eth),real(Eth)) + delta)*180/%pi;\n",
"Vt_b1 = Vt_b * (cos(ang * %pi / 180)+ %i * sin(ang * %pi / 180));\n",
"I_b = (Vt_b1 - Eth) / Zth;\n",
"printf('\n I_b = %.2f /_%.2f per unit \n',abs(I_b),atan(imag(I_b),real(I_b))*180/%pi)\n",
"Eg_b = Vt_b1 + Xg * I_b;\n",
"S_b = Vt_b1 * I_b';\n",
"printf('\n P = %.3f per unit \n Q = %.3f per unit\n',real(S_b),imag(S_b))\n",
"printf('\n Eg = %.2f /_%.2f per unit \n',abs(Eg_b),atan(imag(Eg_b),real(Eg_b))*180/%pi)"
   ]
   }
,
{
		   "cell_type": "markdown",
		   "metadata": {},
		   "source": [
			"## Example 8.3: TranformerControl.sce"
		   ]
		  },
  {
"cell_type": "code",
	   "execution_count": null,
	   "metadata": {
	    "collapsed": true
	   },
	   "outputs": [],
"source": [
"//Chapter 8\n",
"//Page 218\n",
"//Example 8.3\n",
"//TranformerControl\n",
"clear;clc;\n",
"//Given\n",
"Z = 0.8 + %i * 0.6;\n",
"V2 = 1;\n",
"Z_Ta = %i * 0.1;Z_Tb = %i * 0.1;\n",
"a=1.05;\n",
"I2 = - V2 / Z;\n",
"Y21_Ta = - 1/Z_Ta;Y22_Ta = 1/Z_Ta;\n",
"disp('For transformer Ta Y21 and Y22 in per unit is')\n",
"disp(Y21_Ta);disp(Y22_Ta);\n",
"Y21_Tb = - (1/Z_Ta) / a;Y22_Tb = (1/Z_Ta) / a^2;\n",
"disp('For transformer Tb Y21 and Y22 in per unit is')\n",
"disp(Y21_Tb);disp(Y22_Tb);\n",
"Y21 = Y21_Ta + Y21_Tb;Y22 = Y22_Ta + Y22_Tb;\n",
"disp('For the two transformers in parallel')\n",
"disp(Y21,'Y21 in per unit');disp(Y22,'Y22 in per unit');\n",
"V1 = (I2 - Y22 * V2) / Y21;\n",
"disp(V1,'V1 in per unit =')\n",
"V_1_2 = V1 - V2;\n",
"disp(V_1_2,'Difference between V1 and V2 in per unit')\n",
"I_Ta = V_1_2 * Y22_Ta;\n",
"I_Tb_a1 = -I2 - I_Ta;\n",
"S_Ta = V2 * I_Ta';\n",
"S_Tb = V2 * I_Tb_a1';\n",
"disp('Complex power transmitted from the two transformers to the load')\n",
"disp(S_Ta,'From transformer Ta in per unit')\n",
"disp(S_Tb,'From transformer Tb in per unit')"
   ]
   }
,
{
		   "cell_type": "markdown",
		   "metadata": {},
		   "source": [
			"## Example 8.4: Tapchange.sce"
		   ]
		  },
  {
"cell_type": "code",
	   "execution_count": null,
	   "metadata": {
	    "collapsed": true
	   },
	   "outputs": [],
"source": [
"//Chapter 8\n",
"//Page 221\n",
"//Example 8.4\n",
"//Tapchange\n",
"clear;clc;\n",
"//Given\n",
"Z = 0.8 + %i * 0.6;\n",
"V2 = 1;\n",
"Z_Ta = %i * 0.1;Z_Tb = %i * 0.1;\n",
"Z1_Tb = %i*0.1;Z2_Tb = %i*0.1;\n",
"a=1 * (cos(3*%pi/180) + %i * sin(3*%pi/180));\n",
"I2 = - V2 / Z;\n",
"Y21_Ta = - 1/Z_Ta;Y22_Ta = 1/Z_Ta;\n",
"Y21_Tb = Y21_Ta / a';Y22_Tb = Y22_Ta / (abs(a))^2;\n",
"printf('\n Y21 = %.2f /_%.2f per unit \n',abs(Y21_Tb),atan(imag(Y21_Tb),real(Y21_Tb))*180/%pi)\n",
"printf('\n Y21 = -%.2fj per unit \n',abs(Y22_Tb))\n",
"Y21 = Y21_Ta + Y21_Tb;Y22 = Y22_Ta + Y22_Tb;\n",
"disp('For the two transformers in parallel')\n",
"disp(Y21,'Y21 in per unit');disp(Y22,'Y21 in per unit');\n",
"V1 = (I2 - Y22 * V2) / Y21;\n",
"disp(V1,'V1 in per unit =')\n",
"V_1_2 = V1 - V2;\n",
"disp(V_1_2,'Difference between V1 and V2 in per unit')\n",
"I_Ta = V_1_2 * Y22_Ta;\n",
"I_Tb_a1 = -I2 - I_Ta;\n",
"S_Ta = V2 * I_Ta';\n",
"S_Tb = V2 * I_Tb_a1';\n",
"disp('Complex power transmitted from the two transformers to the load')\n",
"disp(S_Ta,'From transformer Ta in per unit')\n",
"disp(S_Tb,'From transformer Tb in per unit')\n",
"V = a - V2;\n",
"I = I2/2;\n",
"I_circ = V / (Z1_Tb + Z2_Tb);\n",
"I_Ta_1 = - I - I_circ;\n",
"I_Tb_1 = -I + I_circ;\n",
"S_Ta_1 = V2 * I_Ta_1';\n",
"S_Tb_1 = V2 * I_Tb_1';\n",
"disp('Complex power transmitted from the two transformers to the load')\n",
"disp(S_Ta_1,'From transformer Ta in per unit')\n",
"disp(S_Tb_1,'From transformer Tb in per unit')"
   ]
   }
],
"metadata": {
		  "kernelspec": {
		   "display_name": "Scilab",
		   "language": "scilab",
		   "name": "scilab"
		  },
		  "language_info": {
		   "file_extension": ".sce",
		   "help_links": [
			{
			 "text": "MetaKernel Magics",
			 "url": "https://github.com/calysto/metakernel/blob/master/metakernel/magics/README.md"
			}
		   ],
		   "mimetype": "text/x-octave",
		   "name": "scilab",
		   "version": "0.7.1"
		  }
		 },
		 "nbformat": 4,
		 "nbformat_minor": 0
}
