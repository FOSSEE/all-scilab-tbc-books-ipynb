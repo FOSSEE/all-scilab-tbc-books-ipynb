{
"cells": [
 {
		   "cell_type": "markdown",
	   "metadata": {},
	   "source": [
       "# Chapter 4: Capacitance Of Transmission Lines"
	   ]
	},
{
		   "cell_type": "markdown",
		   "metadata": {},
		   "source": [
			"## Example 4.1: capacitivesusceptance.sce"
		   ]
		  },
  {
"cell_type": "code",
	   "execution_count": null,
	   "metadata": {
	    "collapsed": true
	   },
	   "outputs": [],
"source": [
"//Chapter 4\n",
"//Example 4.1\n",
"//capacitivesusceptance\n",
"//Page 75\n",
"clear;clc;\n",
"//Given Values\n",
"D = 20; //in ft\n",
"f = 60; //in Hz\n",
"//From Table A.1 and A.3\n",
"d = 0.642 //in inches\n",
"X_a = 0.1074e6; //in ohm-mi\n",
"X_d = 0.0889e6; //in ohm-mi\n",
"//finding radius\n",
"r = d /(2 * 12); //divided by 12 convert in to ft\n",
"//calculations using D and r\n",
"disp('Calculations using conductor spacing and radius')\n",
"X_c = 1.779 * log(D / r) / f;\n",
"B_c = 1 / X_c;\n",
"printf('\n\n Capactive reatance = %.4fe6 ohm mi to neutral \n\n',X_c)\n",
"printf('\n\n Capactive susceptance = %.4fe-6 mho/mi to neutral \n\n',B_c)\n",
"//calculations using capacitive reactance at 1-ft spacing and spacing factor\n",
"disp('Calculations using capacitive reactance at 1-ft spacing and spacing factor')\n",
"X_c1 = X_a + X_d;\n",
"printf('\n\n Capactive reatance = %.4fe6 ohm mi per conductor \n\n',X_c1 / 10^6)\n",
"X_c11 = 2 * X_c1;\n",
"B_c1 = 1 / X_c11;\n",
"printf('\n\n Line-to-line capactive reatance = %.4fe6 ohm mi \n\n',X_c11 / 10^6)\n",
"printf('\n\n Line-to-line capactive susceptance = %.4fe-6 mho mi \n\n',B_c1 * 10^6 )"
   ]
   }
,
{
		   "cell_type": "markdown",
		   "metadata": {},
		   "source": [
			"## Example 4.2: ChargingMVA.sce"
		   ]
		  },
  {
"cell_type": "code",
	   "execution_count": null,
	   "metadata": {
	    "collapsed": true
	   },
	   "outputs": [],
"source": [
"//Chapter 4\n",
"//Example 4.2\n",
"//ChargingMVA\n",
"//Page 80\n",
"clear;clc;\n",
"//Given values\n",
"D_12 = 20;//in ft\n",
"D_23 = D_12;\n",
"D_31 = 38;//in ft\n",
"f = 60;//in Hz\n",
"V = 220e3;//in volts\n",
"l = 175;//in mi\n",
"k = 8.85e-12;//permittivity in F/m\n",
"//From tables A.1 and A.3\n",
"d = 1.108;//in inches\n",
"X_a1 = 0.0912e6;//in ohm mi\n",
"X_d1 = 0.0952e6;//in ohm mi\n",
"//Calculations\n",
"r = d / ( 2 * 12);//division by 12 to convert in to ft\n",
"D_eq = (D_12 * D_23 * D_31)^(1/3);\n",
"C_n = (2 * %pi * k)/log(D_eq/r);\n",
"X_c = 1 / (2 * %pi * f * C_n * 1609);//division by 1609 to convert to ohm mi\n",
"printf('\n\n Capacitance = %.4fe-12 F/m \n\n',C_n * 1e12)\n",
"printf('\n\n Capacitive reactance = %.4fe6 ohm mi \n\n',X_c / 1e6)\n",
"//Calculations From tables\n",
"X_c1 = X_a1 + X_d1;\n",
"disp('Using capacitive reactance at 1-ft spacing and spacing factor')\n",
"printf('\n\n Capacitive reactance = %.4fe6 ohm mi \n\n',X_c1 / 1e6)\n",
"X_c_l = X_c1 / l;//Capacitive reactance for 175mi\n",
"I_chg = 2 * %pi * f * V * C_n * 1609 / sqrt(3);\n",
"I_chg_l = I_chg * l;\n",
"Q = sqrt(3) * V * I_chg_l;\n",
"disp('For a lenght of 175mi')\n",
"printf('\n\n Capacitive reactance = %.4f ohm to neutral \n\n',X_c_l)\n",
"printf('\n\n Charging current per mile = %.3f A/mi \n\n',I_chg)\n",
"disp('For a lenght of 175mi')\n",
"printf('\n\n Charging current = %.0f A \n\n',I_chg_l)\n",
"printf('\n\n Total charging megavolt-amperes = %.1f Mvar \n\n',Q / 1e6)"
   ]
   }
,
{
		   "cell_type": "markdown",
		   "metadata": {},
		   "source": [
			"## Example 4.3: chap3ex5.sce"
		   ]
		  },
  {
"cell_type": "code",
	   "execution_count": null,
	   "metadata": {
	    "collapsed": true
	   },
	   "outputs": [],
"source": [
"//Chapter 4\n",
"//Example 4.3\n",
"//chap3ex5\n",
"//Page 85\n",
"clear;clc;\n",
"//Given Values\n",
"d = 0.45;//in m\n",
"k = 8.85e-12;//in F/m\n",
"D_ab = 8;//in m\n",
"D_bc = D_ab;\n",
"D_ca = 16;//in m\n",
"f = 60;//in Hz\n",
"//From tables\n",
"D = 1.382;//in inches\n",
"//Calculations\n",
"r = D * 0.3048 / (2 * 12)//divison by 12 to convert in to ft\n",
"                         //multiplication by 0.3048 to convert ft to m\n",
"D_b_sC = sqrt( r * d);\n",
"D_eq = (D_ab * D_bc * D_ca)^(1/3);\n",
"C_m = 2 * %pi * k / log(D_eq / D_b_sC);\n",
"X_c = 1e-3 / (2 * %pi * f *C_m);//1e-3 to convert m to km\n",
"printf('\n\n Capacitance = %.3fe-12 F/m \n\n',C_m * 1e12)\n",
"printf('\n\n Capacitive reactance = %.4fe6 ohm km per phase to neutral',X_c/1e6)"
   ]
   }
,
{
		   "cell_type": "markdown",
		   "metadata": {},
		   "source": [
			"## Example 4.4: chap3ex6.sce"
		   ]
		  },
  {
"cell_type": "code",
	   "execution_count": null,
	   "metadata": {
	    "collapsed": true
	   },
	   "outputs": [],
"source": [
"//Chapter 4\n",
"//Example 4.4\n",
"//chap3ex6\n",
"//Page 85\n",
"clear;clc;\n",
"//Given\n",
"f = 60;//in Hz\n",
"k = 8.85e-12;//in F/m\n",
"//From example 3.6\n",
"D_eq = 16.1;//in ft\n",
"D_a_a1 = 26.9;D_b_b1 = 21;D_c_c1 = D_a_a1 ;//in ft\n",
"//From Table A.1\n",
"d = 0.680;//in inches\n",
"//calculations\n",
"r = d /(2*12);\n",
"D_p_sC = (sqrt(D_a_a1 * r) * sqrt(D_b_b1 * r) * sqrt(D_c_c1 * r))^(1/3);\n",
"C_n = 2 * %pi * k / log(D_eq / D_p_sC);\n",
"B_c = 2 * %pi * f * C_n * 1609;//1609 to convert from m to mi\n",
"printf('\n\n Capacitance = %.3fe-12 F/m \n\n',C_n * 1e12)\n",
"printf('\n\n Capacitive susceptance = %.2fe-6 mho per mi per phase to neutral',B_c * 1e6)"
   ]
   }
],
"metadata": {
		  "kernelspec": {
		   "display_name": "Scilab",
		   "language": "scilab",
		   "name": "scilab"
		  },
		  "language_info": {
		   "file_extension": ".sce",
		   "help_links": [
			{
			 "text": "MetaKernel Magics",
			 "url": "https://github.com/calysto/metakernel/blob/master/metakernel/magics/README.md"
			}
		   ],
		   "mimetype": "text/x-octave",
		   "name": "scilab",
		   "version": "0.7.1"
		  }
		 },
		 "nbformat": 4,
		 "nbformat_minor": 0
}
