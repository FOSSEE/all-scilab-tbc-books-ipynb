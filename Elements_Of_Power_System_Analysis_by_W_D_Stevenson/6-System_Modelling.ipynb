{
"cells": [
 {
		   "cell_type": "markdown",
	   "metadata": {},
	   "source": [
       "# Chapter 6: System Modelling"
	   ]
	},
{
		   "cell_type": "markdown",
		   "metadata": {},
		   "source": [
			"## Example 6.10: impedance.sce"
		   ]
		  },
  {
"cell_type": "code",
	   "execution_count": null,
	   "metadata": {
	    "collapsed": true
	   },
	   "outputs": [],
"source": [
"//Chapter 6\n",
"//Example 6.10\n",
"//Page 159\n",
"//impedance\n",
"//run clear command then execute dependancy file and then the source file\n",
"//dependency file is pucalc.sci\n",
"clc;\n",
"//Given\n",
"P_g = 300e6;\n",
"V_g = 20e3;\n",
"X11_g = 0.20;\n",
"l = 64;\n",
"V_m = 13.2e3;\n",
"P_m1 = 200e6;\n",
"P_m2 = 100e6;\n",
"X11_m = 0.20;\n",
"T1_P = 350e6;\n",
"T1_vht = 230e3;\n",
"T1_vlt = 20e3;\n",
"x_T1 = 0.10;\n",
"T2_1_P = 100e6;\n",
"T2_1_vht = 127e3;\n",
"T2_1_vlt = 13.2e3;\n",
"x_T2 = 0.10;\n",
"x_line = 0.5;//ohm per km\n",
"V_base = V_g;\n",
"P_base = P_g;\n",
"//Calculations\n",
"T2_P = 3*T2_1_P;\n",
"T2_vht = sqrt(3)*T2_1_vht;\n",
"T2_vlt = T2_1_vlt;\n",
"V_base_line = (T1_vht/T1_vlt)*V_base;\n",
"V_base_m = V_base_line * (T2_vlt/T2_vht);\n",
"x_T1_base = x_T1 * (P_base/T1_P);\n",
"x_T2_base = x_T2 * (T2_vlt/V_base_m);\n",
"z_line_base = (V_base_line)^2/P_base;\n",
"x_line_pu = x_line * l / z_line_base;\n",
"X11_m1_pu = pucalc(X11_m,V_m,V_base_m,P_base,P_m1);\n",
"X11_m2_pu = pucalc(X11_m,V_m,V_base_m,P_base,P_m2);\n",
"//Reactance diagram is given in xcos file\n",
"disp('Base Voltages in different parts of circuit')\n",
"printf('\n Generator voltage = %.0f kV',V_g/1e3)\n",
"printf('\n Line voltage = %.0f kV',V_base_line/1e3)\n",
"printf('\n Motor voltage = %.1f kV \n\n\n',V_base_m/1e3)\n",
"disp('Base reactance in different parts of circuit')\n",
"printf('\n Transformer 1 reactance = %.4f per unit',x_T1_base)\n",
"printf('\n Transformer 2 reactance = %.4f per unit',x_T2_base)\n",
"printf('\n Line reactance = %.4f per unit',x_line_pu)\n",
"printf('\n Motor 1 reactance = %.4f per unit',X11_m1_pu)\n",
"printf('\n Motor 2 reactance = %.4f per unit',X11_m2_pu)\n",
"//impedance diagram is shown in the xcos file"
   ]
   }
,
{
		   "cell_type": "markdown",
		   "metadata": {},
		   "source": [
			"## Example 6.11: terminalvoltage.sce"
		   ]
		  },
  {
"cell_type": "code",
	   "execution_count": null,
	   "metadata": {
	    "collapsed": true
	   },
	   "outputs": [],
"source": [
"//Chapter 6\n",
"//Example 6.11\n",
"//Page 160\n",
"//terminalvoltage\n",
"clear;clc;\n",
"//Given\n",
"P_g = 300e6;\n",
"V_g = 20e3;\n",
"X11_g = 0.20;\n",
"l = 64;\n",
"V_m = 13.2e3;\n",
"P_m1 = 120e6;\n",
"P_m2 = 60e6;\n",
"X11_m = 0.20;\n",
"T1_P = 350e6;\n",
"T1_vht = 230e3;\n",
"T1_vlt = 20e3;\n",
"x_T1 = 0.10;\n",
"T2_1_P = 100e6;\n",
"T2_1_vht = 127e3;\n",
"T2_1_vlt = 13.2e3;\n",
"x_T2 = 0.10;\n",
"x_line = 0.5;//onhm per km\n",
"V_base = V_g;\n",
"P_base = P_g;\n",
"//Calculations\n",
"T2_P = 3*T2_1_P;\n",
"T2_vht = sqrt(3)*T2_1_vht;\n",
"T2_vlt = T2_1_vlt;\n",
"V_base_line = (T1_vht/T1_vlt)*V_base;\n",
"V_base_m = V_base_line * (T2_vlt/T2_vht);\n",
"x_T1_base = x_T1 * (P_base/T1_P);\n",
"x_T2_base = x_T2 * (T2_vlt/V_base_m);\n",
"z_line_base = (V_base_line)^2/P_base;\n",
"x_line_pu = x_line * l / z_line_base;\n",
"P = P_m1 + P_m2;\n",
"P_pu = P / P_base;\n",
"V = V_m / V_base_m;\n",
"I = P_pu / V;\n",
"Vg = V + I * (%i * x_T1_base + %i * x_T2_base + %i * x_line_pu);\n",
"V_terminal = abs(Vg) * V_g;\n",
"printf('\n\n The generator terminal voltage = %.2f kV',V_terminal / 1e3)"
   ]
   }
,
{
		   "cell_type": "markdown",
		   "metadata": {},
		   "source": [
			"## Example 6.1: Secondary.sce"
		   ]
		  },
  {
"cell_type": "code",
	   "execution_count": null,
	   "metadata": {
	    "collapsed": true
	   },
	   "outputs": [],
"source": [
"//Chapter 6\n",
"//Example 6.1\n",
"//Page 142\n",
"//Secondary\n",
"clear;clc;\n",
"N_1 = 2000;\n",
"N_2 = 500;\n",
"V_1 = 1200 * (cos(0)+%i*sin(0));\n",
"I_1 = 5 * (cos(-30*%pi/180) + %i * sin(-30*%pi/180));\n",
"//Calculations\n",
"a = N_1 / N_2;\n",
"V_2 = V_1/a;\n",
"I_2 = a * I_1;\n",
"Z_2 = V_2 / I_2;\n",
"Z1_2 = Z_2 * a^2;\n",
"printf('\n\n V_2 = %.0f /_%.0f V \n\n',abs(V_2),((atan(imag(V_2),real(V_2)))*180/%pi))\n",
"printf('\n\n I_2 = %.0f /_%.0f A \n\n',abs(I_2),((atan(imag(I_2),real(I_2)))*180/%pi))\n",
"printf('\n\n Z_2 = %.0f /_%.0f ohm \n\n',abs(Z_2),((atan(imag(Z_2),real(Z_2)))*180/%pi))\n",
"printf('\n\n Z1_2 = %.0f /_%.0f ohm \n\n',abs(Z1_2),((atan(imag(Z1_2),real(Z1_2)))*180/%pi))"
   ]
   }
,
{
		   "cell_type": "markdown",
		   "metadata": {},
		   "source": [
			"## Example 6.2: voltageregulatio.sce"
		   ]
		  },
  {
"cell_type": "code",
	   "execution_count": null,
	   "metadata": {
	    "collapsed": true
	   },
	   "outputs": [],
"source": [
"//Chapter 6\n",
"//Example 6.2\n",
"//Page 144\n",
"//voltageregulation\n",
"clear;clc;\n",
"N_1 = 2000;\n",
"N_2 = 500;\n",
"V_1 = 1200 * (cos(0)+%i*sin(0));\n",
"r1 = 2;\n",
"r2 = 0.125;\n",
"x1 = 8;\n",
"x2 = 0.5;\n",
"Z_2 = 12;\n",
"//Calculations\n",
"a = N_1 / N_2;\n",
"R1 = r1 + a^2 * r2;\n",
"X1 = x1 + a^2 * x2;\n",
"Z1_2 = Z_2 * a^2;\n",
"I_1 = V_1 / (Z1_2 + R1 + %i * X1);\n",
"V_2 = I_1 * Z1_2 / a;\n",
"voltage_regulation = ((V_1/4)-abs(V_2))*100/V_2;\n",
"printf('\n\n I_1 = %.2f /_%.2f A \n\n',abs(I_1),((atan(imag(I_1),real(I_1)))*180/%pi))\n",
"printf('\n\n V_2 = %.2f /_%.2f V \n\n',abs(V_2),((atan(imag(V_2),real(V_2)))*180/%pi))\n",
"printf('\n\n Voltage Regulation = %.2f percent \n\n',voltage_regulation)"
   ]
   }
,
{
		   "cell_type": "markdown",
		   "metadata": {},
		   "source": [
			"## Example 6.3: autotransformer.sce"
		   ]
		  },
  {
"cell_type": "code",
	   "execution_count": null,
	   "metadata": {
	    "collapsed": true
	   },
	   "outputs": [],
"source": [
"//Chapter 6\n",
"//Example 6.3\n",
"//Page 145\n",
"//autotransformer\n",
"clear;clc;\n",
"//Given\n",
"P = 30e3;\n",
"V_lt = 120;\n",
"V_ht = 240;\n",
"//Calculations\n",
"I_1 = P / V_lt;\n",
"I_2 = P / V_ht;\n",
"V_2 = V_lt + V_ht;\n",
"I_in = I_1 + I_2;\n",
"input_kva = I_in * V_lt / 1e3;\n",
"output_kva = I_2 * V_2 / 1e3;\n",
"printf('\n\n Input kVA = %.0f kVA \n\n',input_kva)\n",
"printf('\n\n Output kVA = %.0f kVA \n\n',output_kva)"
   ]
   }
,
{
		   "cell_type": "markdown",
		   "metadata": {},
		   "source": [
			"## Example 6.4: leakagereactance.sce"
		   ]
		  },
  {
"cell_type": "code",
	   "execution_count": null,
	   "metadata": {
	    "collapsed": true
	   },
	   "outputs": [],
"source": [
"//Chapter 6\n",
"//Example 6.4\n",
"//Page 147\n",
"//leakagereactance\n",
"clear;clc;\n",
"//Given\n",
"V_lt = 110;\n",
"V_ht = 440;\n",
"P = 2.5e3;\n",
"x_lt = 0.06;\n",
"//Calculations\n",
"disp('Viewed from low-tension side')\n",
"lt_base_impedance = (V_lt)^2 / P;\n",
"printf('\n Leakage reactance from low-tension side = %.2f ohm',x_lt)\n",
"printf('\n Low-tension base impedance = %.2f ohmn',lt_base_impedance)\n",
"X_lt_pu = x_lt / lt_base_impedance;\n",
"printf('\n Leakage reactance in per unit from Low-tension side = %.4f per unit \n\n',X_lt_pu)\n",
"disp('Viewed from high-tension side')\n",
"x_ht = x_lt * (V_ht / V_lt)^2;\n",
"ht_base_impedance = (V_ht)^2 / P;\n",
"printf('\n Leakage reactance from high-tension side = %.2f ohm',x_ht)\n",
"printf('\n High-tension base impedance = %.2f ohmn',ht_base_impedance)\n",
"X_ht_pu = x_ht / ht_base_impedance;\n",
"printf('\n Leakage reactance in per unit from Low-tension side = %.4f per unit \n\n',X_ht_pu)"
   ]
   }
,
{
		   "cell_type": "markdown",
		   "metadata": {},
		   "source": [
			"## Example 6.5: ABCtransformer.sce"
		   ]
		  },
  {
"cell_type": "code",
	   "execution_count": null,
	   "metadata": {
	    "collapsed": true
	   },
	   "outputs": [],
"source": [
"//Chapter 6\n",
"//Example 6.5\n",
"//Page 147\n",
"//ABCtransformer\n",
"clear;clc;\n",
"//Given\n",
"P_AB = 10e6;\n",
"V_AB_lt = 13.8e3;\n",
"V_AB_ht = 138e3;\n",
"x_AB = %i*0.1;\n",
"P_BC = 10e6;\n",
"V_BC_lt = 69e3;\n",
"V_BC_ht = 138e3;\n",
"x_BC = %i*0.08;\n",
"P_base_B = 10e6;\n",
"V_base_B = 138e3;\n",
"Z_L = 300;\n",
"V_load = 66e3;\n",
"//Calculations\n",
"V_base_A = (V_AB_lt/V_AB_ht)*V_base_B;\n",
"V_base_C = (V_BC_lt/V_BC_ht)*V_base_B;\n",
"base_impedance_C = (V_base_C)^2 / P_BC;\n",
"Z_L_pu = Z_L / base_impedance_C;\n",
"//impedance diagram is shown in the xcos file\n",
"V_load_pu = V_load / V_base_C;\n",
"I_L_pu = V_load_pu / Z_L_pu;\n",
"voltage_input = (I_L_pu * (x_AB + x_BC)) + V_load_pu;\n",
"voltage_regulation = (abs(voltage_input)-abs(V_load_pu))*100/abs(V_load_pu);\n",
"printf('\n\n Voltage regulation = %.2f percent \n\n',voltage_regulation)"
   ]
   }
,
{
		   "cell_type": "markdown",
		   "metadata": {},
		   "source": [
			"## Example 6.6: 3phasetransformers.sce"
		   ]
		  },
  {
"cell_type": "code",
	   "execution_count": null,
	   "metadata": {
	    "collapsed": true
	   },
	   "outputs": [],
"source": [
"//Chapter 6\n",
"//Example 6.6\n",
"//Page 151\n",
"//3phasetransformers\n",
"clear;clc;\n",
"//Given\n",
"P = 25e6;\n",
"V_ht = 38.1e3;\n",
"V_lt = 3.81e3;\n",
"R_l = 0.6;\n",
"P_ht_base = 75e6;\n",
"V_ht_base = 66e3;\n",
"//Low-tension side base ratings\n",
"disp('Low-tension side')\n",
"P_lt_base = P_ht_base;\n",
"V_lt_base = (V_lt/(V_ht*sqrt(3)))*V_ht_base;\n",
"printf('\n Base for low tension side is %.0f MVA,%.2f kV',P_lt_base/1e6,V_lt_base/1e3)\n",
"Z_lt_base = (V_lt_base)^2/P_lt_base;\n",
"R_lt_l_base = R_l / Z_lt_base;\n",
"printf('\n Base impedance for the low-tension side = %.2f ohm',Z_lt_base)\n",
"printf('\n Per unit impedance of load on the low-tension side = %.2f per unit \n\n',R_lt_l_base)\n",
"disp('High-tension side')\n",
"R_l_ht = R_l * ((V_ht*sqrt(3))/V_lt)^2;\n",
"Z_ht_base = (V_ht_base)^2 / P_ht_base;\n",
"R_ht_l_base = R_l_ht / Z_ht_base;\n",
"printf('\n Base impedance for the high-tension side = %.2f ohm',Z_ht_base)\n",
"printf('\n Per unit impedance of load on the high-tension side = %.2f per unit',R_ht_l_base)"
   ]
   }
,
{
		   "cell_type": "markdown",
		   "metadata": {},
		   "source": [
			"## Example 6.7: 3perunitreactance.sce"
		   ]
		  },
  {
"cell_type": "code",
	   "execution_count": null,
	   "metadata": {
	    "collapsed": true
	   },
	   "outputs": [],
"source": [
"//Chapter 6\n",
"//Example 6.7\n",
"//Page 152\n",
"//3perunitreactance\n",
"//run clear command then execute dependancy file and then the source file\n",
"//dependency file is pucalc.sci\n",
"clc;\n",
"//Given\n",
"z = 0.121;\n",
"P = 400e6;\n",
"V_ht = 220e3;\n",
"V_lt = 22e3;\n",
"V_ht_base = 230e3;\n",
"P_ht_base = 100e6;\n",
"z_pu = z * P / (V_lt)^2;\n",
"printf('\n\n On its own base the transformer reactance = %.2f per unit',z_pu)\n",
"z_new_pu = pucalc(z_pu,V_ht,V_ht_base,P_ht_base,P);\n",
"printf('\n\n On the chosen base the reactance = %.4f per unit',z_new_pu)"
   ]
   }
,
{
		   "cell_type": "markdown",
		   "metadata": {},
		   "source": [
			"## Example 6.8: 3windingtransformer.sce"
		   ]
		  },
  {
"cell_type": "code",
	   "execution_count": null,
	   "metadata": {
	    "collapsed": true
	   },
	   "outputs": [],
"source": [
"//Chapter 6\n",
"//Example 6.8\n",
"//Page 154\n",
"//3windingtransformer\n",
"clear;clc;\n",
"//Given\n",
"Z_ps = %i * 0.07;\n",
"P_ps_base = 15e6;\n",
"V_ps_base = 66e3;\n",
"Z_pt = %i * 0.09;\n",
"P_pt_base = 15e6;\n",
"V_pt_base = 66e3;\n",
"Z_st = %i * 0.08;\n",
"P_st_base = 10e6;\n",
"V_st_base = 13.2e3;\n",
"//Calculations\n",
"Z_st_new = Z_st * P_ps_base / P_st_base;\n",
"Z_p = (Z_ps + Z_pt - Z_st_new)/2;\n",
"Z_s = (Z_ps - Z_pt + Z_st_new)/2;\n",
"Z_t = (-Z_ps + Z_pt + Z_st_new)/2;\n",
"disp(Z_p,'Z_p in per unit = ')\n",
"disp(Z_s,'Z_s in per unit = ')\n",
"disp(Z_t,'Z_t in per unit = ')"
   ]
   }
,
{
		   "cell_type": "markdown",
		   "metadata": {},
		   "source": [
			"## Example 6.9: 3winding3ex8.sce"
		   ]
		  },
  {
"cell_type": "code",
	   "execution_count": null,
	   "metadata": {
	    "collapsed": true
	   },
	   "outputs": [],
"source": [
"//Chapter 6\n",
"//Example 6.9\n",
"//Page 155\n",
"//3winding3ex8\n",
"clear;clc;\n",
"//Given\n",
"Z_ps = %i * 0.07;\n",
"P_ps_base = 15e6;\n",
"V_ps_base = 66e3;\n",
"P_r_load = 5e6;\n",
"V_r_load = 2.3e3;\n",
"P_m = 7.5e6;\n",
"V_m = 13.2e3;\n",
"R_l = 1;\n",
"X_11 = 0.20;\n",
"Z_pt = %i * 0.09;\n",
"P_pt_base = 15e6;\n",
"V_pt_base = 66e3;\n",
"Z_st = %i * 0.08;\n",
"P_st_base = 10e6;\n",
"V_st_base = 13.2e3;\n",
"//Calculations\n",
"Z_st_new = Z_st * P_ps_base / P_st_base;\n",
"Z_p = (Z_ps + Z_pt - Z_st_new)/2;\n",
"Z_s = (Z_ps - Z_pt + Z_st_new)/2;\n",
"Z_t = (-Z_ps + Z_pt + Z_st_new)/2;\n",
"R_pu = R_l * P_ps_base / P_r_load;\n",
"X11_pu = X_11 *  P_ps_base / P_m;\n",
"printf('\n\n On a base of 15MVA,2.3kV load resistance = %.1f per unit',R_pu)\n",
"printf('\n\n Reactance of the motor at a base of 15MVA,13.2kV = %.2f per unit',X11_pu)\n",
"//Reactance diagram is drawn in the xcos file"
   ]
   }
],
"metadata": {
		  "kernelspec": {
		   "display_name": "Scilab",
		   "language": "scilab",
		   "name": "scilab"
		  },
		  "language_info": {
		   "file_extension": ".sce",
		   "help_links": [
			{
			 "text": "MetaKernel Magics",
			 "url": "https://github.com/calysto/metakernel/blob/master/metakernel/magics/README.md"
			}
		   ],
		   "mimetype": "text/x-octave",
		   "name": "scilab",
		   "version": "0.7.1"
		  }
		 },
		 "nbformat": 4,
		 "nbformat_minor": 0
}
