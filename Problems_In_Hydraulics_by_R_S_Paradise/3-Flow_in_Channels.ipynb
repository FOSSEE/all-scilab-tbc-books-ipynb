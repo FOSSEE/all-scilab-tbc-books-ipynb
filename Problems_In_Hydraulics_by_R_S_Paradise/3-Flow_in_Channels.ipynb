{
"cells": [
 {
		   "cell_type": "markdown",
	   "metadata": {},
	   "source": [
       "# Chapter 3: Flow in Channels"
	   ]
	},
{
		   "cell_type": "markdown",
		   "metadata": {},
		   "source": [
			"## Example 3.1: example_1.sce"
		   ]
		  },
  {
"cell_type": "code",
	   "execution_count": null,
	   "metadata": {
	    "collapsed": true
	   },
	   "outputs": [],
"source": [
"\n",
"clc\n",
"//initialisation of variables\n",
"clear\n",
"hob= 34 //ft\n",
"hoc= 5 //ft\n",
"hoa= 50 //ft\n",
"hod= 80 //ft\n",
"g= 32.2 //ft/sec^2\n",
"A= 2.1 //in^2\n",
"A1= 4.8 //in^2\n",
"A2= 9.6 //in^2\n",
"//CALCULATIONS\n",
"v= sqrt(2*g*(hod-hoc))\n",
"Q= v*A/144\n",
"va= v*A/A1\n",
"vb= v*A/A2\n",
"Va= va^2/(2*g)\n",
"Vb= vb^2/(2*g)\n",
"r= hob+hod-hoa-(va^2/(2*g))\n",
"r1=hob+hod-hob-(vb^2/(2*g))\n",
"//RESULTS\n",
"printf ('Discharge = %.2f cuses',Q) \n",
"printf ('\n Velocity head at A = %.2f ft-lb/lb',Va)\n",
"printf ('\n Velocity head at B = %.2f ft-lb/lb',Vb)\n",
"printf ('\n Pressure head at A = %.2f ft-lb/lb',r) \n",
"printf ('\n Pressure head at B = %.2f ft-lb/lb',r1) "
   ]
   }
,
{
		   "cell_type": "markdown",
		   "metadata": {},
		   "source": [
			"## Example 3.2: Example_2.sce"
		   ]
		  },
  {
"cell_type": "code",
	   "execution_count": null,
	   "metadata": {
	    "collapsed": true
	   },
	   "outputs": [],
"source": [
"clear   \n",
"clc\n",
"//initialisation of variables\n",
"w= 62.4 //lb/ft^3\n",
"P= 1.7 //lb/in^2\n",
"d1= 6 //in\n",
"d2= 3 //in\n",
"hab= 8 //ft\n",
"Q= 0.75 //cuses\n",
"sm= 13.6\n",
"g= 32.2 //ft/sec^2\n",
"//CALCULATIONS\n",
"dP= P*144/w\n",
"va= Q*(d1/d2)^4/%pi\n",
"k= -(((d1/d2)^4-1)-((-dP+hab)*2*g/va^2))\n",
"h= (-dP+hab)*12/(sm-1)\n",
"//RESULTS\n",
"printf ('k = %.f ',k)\n",
"printf ('\n height difference = %.2f in',h) "
   ]
   }
,
{
		   "cell_type": "markdown",
		   "metadata": {},
		   "source": [
			"## Example 3.3: example_3.sce"
		   ]
		  },
  {
"cell_type": "code",
	   "execution_count": null,
	   "metadata": {
	    "collapsed": true
	   },
	   "outputs": [],
"source": [
"\n",
"clc\n",
"//initialisation of variables\n",
"clear\n",
"h= 20 //ft\n",
"Q= 4.81 //cuses\n",
"C= 1\n",
"g= 32.2 //ft/sec^2\n",
"d= 10 //in\n",
"//CALCULATIONS\n",
"d= ((Q*4*144/(d^2*%pi))^2*100^2/((Q*4*144/(d^2*%pi))^2+2*g*h))^0.25\n",
"//RESULTS\n",
"printf ('Smallest Diameter = %.1f in',d)"
   ]
   }
,
{
		   "cell_type": "markdown",
		   "metadata": {},
		   "source": [
			"## Example 3.4: example_4.sce"
		   ]
		  },
  {
"cell_type": "code",
	   "execution_count": null,
	   "metadata": {
	    "collapsed": true
	   },
	   "outputs": [],
"source": [
"clear\n",
"\n",
"clc\n",
"//initialisation of variables\n",
"d= 1/3 //ft\n",
"g= 32.2 //ft/sec^2\n",
"d1= 4 //in\n",
"d2= 1.6 //in\n",
"h1= 5.7 //ft\n",
"h2= -1.9 //ft\n",
"Q= 0.3 //cuses\n",
"H1= 34 //ft\n",
"H2= 19 //ft\n",
"H3= 7 //ft\n",
"H4= 9.2 //ft\n",
"h3= 2.9//ft\n",
"h4= 3.9 //ft\n",
"Et= 54 //ft-lb/lb\n",
"//CALCULATIONS\n",
"v1= sqrt(2*g*(h1-h2)/((d1/d2)^4-1))\n",
"Q1= %pi*v1*d^2/4\n",
"k= Q/Q1\n",
"P= (H1+H2)*H3/H4\n",
"P1= P-h3\n",
"r= P+h1-h2-h4\n",
"V= v1^2/(2*g)\n",
"E= r+V\n",
"dE= Et-E\n",
"//RESULTS\n",
"printf ('Coefficienct of venturi meter = %.4f ',k)\n",
"printf ('\n Pressure of venturi throat = %.2f ft of water',P1)\n",
"printf ('\n Loss in energy = %.1f ft-lb/lb',dE)\n",
"\n",
"//The answer is a bit different due to rounding off error in textbook\n",
""
   ]
   }
],
"metadata": {
		  "kernelspec": {
		   "display_name": "Scilab",
		   "language": "scilab",
		   "name": "scilab"
		  },
		  "language_info": {
		   "file_extension": ".sce",
		   "help_links": [
			{
			 "text": "MetaKernel Magics",
			 "url": "https://github.com/calysto/metakernel/blob/master/metakernel/magics/README.md"
			}
		   ],
		   "mimetype": "text/x-octave",
		   "name": "scilab",
		   "version": "0.7.1"
		  }
		 },
		 "nbformat": 4,
		 "nbformat_minor": 0
}
