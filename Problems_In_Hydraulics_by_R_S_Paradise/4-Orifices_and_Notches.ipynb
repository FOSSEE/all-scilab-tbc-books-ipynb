{
"cells": [
 {
		   "cell_type": "markdown",
	   "metadata": {},
	   "source": [
       "# Chapter 4: Orifices and Notches"
	   ]
	},
{
		   "cell_type": "markdown",
		   "metadata": {},
		   "source": [
			"## Example 4.1: example_1.sce"
		   ]
		  },
  {
"cell_type": "code",
	   "execution_count": null,
	   "metadata": {
	    "collapsed": true
	   },
	   "outputs": [],
"source": [
"\n",
"clc\n",
"//initialisation of variables\n",
"Cd= 0.98\n",
"g= 32.2 //ft/sec^2\n",
"H= 2 //ft\n",
"//CALCULATIONS\n",
"v= sqrt(2*g*H)\n",
"t= H/v\n",
"h= 0.5*g*t^2\n",
"//RESULTS\n",
"printf ('Vertical distance fallen in this ttime = %.f ft',h) \n",
"//The answer given in textbook is wrong."
   ]
   }
,
{
		   "cell_type": "markdown",
		   "metadata": {},
		   "source": [
			"## Example 4.2: example_2.sce"
		   ]
		  },
  {
"cell_type": "code",
	   "execution_count": null,
	   "metadata": {
	    "collapsed": true
	   },
	   "outputs": [],
"source": [
"clear\n",
"clc\n",
"//initialisation of variables\n",
"r= 53.4\n",
"T= 60 //F\n",
"h= 29.7 //in of mercury\n",
"sm= 13.6\n",
"w= 62.4 //lb/ft^3\n",
"d= 1.5 //in\n",
"Qin= 2 //cuses\n",
"g=32.2 //ft/s^2\n",
"//CALCULATIONS\n",
"W= h*sm*w/(r*(460+T)*12)\n",
"dP= 0.75*w/(12*W)\n",
"Q= sqrt(2*g*dP)*%pi*d^2/(4*144)\n",
"W= Q*W*60\n",
"Cd= Qin/W\n",
"//RESULTS\n",
"printf ('coefficient of discharge = %.2f ',Cd) "
   ]
   }
,
{
		   "cell_type": "markdown",
		   "metadata": {},
		   "source": [
			"## Example 4.3: example_3.sce"
		   ]
		  },
  {
"cell_type": "code",
	   "execution_count": null,
	   "metadata": {
	    "collapsed": true
	   },
	   "outputs": [],
"source": [
"\n",
"clc\n",
"//initialisation of variables\n",
"H1= 34 //ft\n",
"H2= 8 //ft\n",
"H3= 7 //ft\n",
"g= 32.2 //ft/sec^2\n",
"d= 1.5 //in\n",
"//CALCULATIONS\n",
"v2= sqrt(2*g*(H1+H2-H3))\n",
"Q= v2*%pi*d^2/(4*144)\n",
"v3= (2*v2+sqrt(4*v2^2-4*6*(v2^2-H2*2*5*g)))/12\n",
"dr= sqrt(v2/v3)\n",
"//RESULTS\n",
"printf ('ratio of diameteres = %.1f ',dr) \n",
"printf('\n Flow rate = %.3f cusec',Q)"
   ]
   }
,
{
		   "cell_type": "markdown",
		   "metadata": {},
		   "source": [
			"## Example 4.4: example_4.sce"
		   ]
		  },
  {
"cell_type": "code",
	   "execution_count": null,
	   "metadata": {
	    "collapsed": true
	   },
	   "outputs": [],
"source": [
"clc\n",
"//initialisation of variables\n",
"Q1= 8/15 //cuses\n",
"Q2= 2/15 //cuses\n",
"//CALCULATIONS\n",
"A= atand(Q2/Q1)\n",
"//RESULTS\n",
"printf ('Angle of inclination = %.2f degrees',A) "
   ]
   }
,
{
		   "cell_type": "markdown",
		   "metadata": {},
		   "source": [
			"## Example 4.5: example_5.sce"
		   ]
		  },
  {
"cell_type": "code",
	   "execution_count": null,
	   "metadata": {
	    "collapsed": true
	   },
	   "outputs": [],
"source": [
"clc\n",
"//initialisation of variables\n",
"g= 32.2 //ft/sec^2\n",
"//CALCULATIONS\n",
"r= g^2/((sqrt(2))^2*g^2)\n",
"//RESULTS\n",
"printf ('coefficient of contraction = %.1f ',r) "
   ]
   }
,
{
		   "cell_type": "markdown",
		   "metadata": {},
		   "source": [
			"## Example 4.6: example_6.sce"
		   ]
		  },
  {
"cell_type": "code",
	   "execution_count": null,
	   "metadata": {
	    "collapsed": true
	   },
	   "outputs": [],
"source": [
"clc\n",
"//initialisation of variables\n",
"B= 3 //ft\n",
"H= 2 //ft\n",
"H1= 3.75 //ft\n",
"w= 4 //ft\n",
"g= 32.2 //ft/sec^2\n",
"//CALCULATIONS\n",
"Q= 3.33*(B-(H1/5))*H^1.5\n",
"v= Q/(H*w)\n",
"kh= v^2/(2*g)\n",
"Q1= 3.33*(B-(H1/5)-kh)*(((H1/5)+kh)^1.5-kh^1.5)\n",
"//RESULTS\n",
"printf ('Discharge = %.2f cuses',Q1) \n",
"\n",
"\n",
"//ANSWER IN THE TEXTBOOK IS WRONG"
   ]
   }
],
"metadata": {
		  "kernelspec": {
		   "display_name": "Scilab",
		   "language": "scilab",
		   "name": "scilab"
		  },
		  "language_info": {
		   "file_extension": ".sce",
		   "help_links": [
			{
			 "text": "MetaKernel Magics",
			 "url": "https://github.com/calysto/metakernel/blob/master/metakernel/magics/README.md"
			}
		   ],
		   "mimetype": "text/x-octave",
		   "name": "scilab",
		   "version": "0.7.1"
		  }
		 },
		 "nbformat": 4,
		 "nbformat_minor": 0
}
