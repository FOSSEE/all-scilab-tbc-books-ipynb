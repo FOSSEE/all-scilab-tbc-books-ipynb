{
"cells": [
 {
		   "cell_type": "markdown",
	   "metadata": {},
	   "source": [
       "# Chapter 13: Miscellaneous Problems"
	   ]
	},
{
		   "cell_type": "markdown",
		   "metadata": {},
		   "source": [
			"## Example 13.10: example_10.sce"
		   ]
		  },
  {
"cell_type": "code",
	   "execution_count": null,
	   "metadata": {
	    "collapsed": true
	   },
	   "outputs": [],
"source": [
"\n",
"clc\n",
"//initialisation of variables\n",
"P= 14.7 //lb/in^2\n",
"T= 15 //C\n",
"v= 350 //ft/sec\n",
"R= 0.714\n",
"//CALCULATIONS\n",
"P1= P*144\n",
"r= 3091*(273+T)\n",
"d1= P1/r\n",
"r1= r+(v^2/7)\n",
"P2= (r1*d1/(P1^R))^(1/(1-R))/144\n",
"dP= P2-P\n",
"T2= r1/3091\n",
"dT= T2-(273+T)\n",
"//RESULTS\n",
"printf ('rise in pressure = %.f lb/in^2 ',dP)\n",
"printf ('\n rise in temperature = %.1f C ',dT)"
   ]
   }
,
{
		   "cell_type": "markdown",
		   "metadata": {},
		   "source": [
			"## Example 13.11: example_11.sce"
		   ]
		  },
  {
"cell_type": "code",
	   "execution_count": null,
	   "metadata": {
	    "collapsed": true
	   },
	   "outputs": [],
"source": [
"clc\n",
"//initialisation of variables\n",
"T= 27 //C\n",
"P=33 //lb/in^2\n",
"p1= 14.7 //lb/in^2\n",
"w= 250 //lb\n",
"g= 32.2 //ft/sec^2\n",
"Cd= 0.99\n",
"r= 1.4\n",
"//CALCULATIONS\n",
"w1= P*144/(96*(273+T))\n",
"d= p1*144/(96*(273+T))\n",
"W= d*w/60\n",
"d= sqrt(W*4/(Cd*%pi*sqrt(2*g*P*144*(r/(r-1))*w1*(0.528^(2/1.4)-0.528^(2.4/1.4)))))*12\n",
"//RESULTS\n",
"printf ('Diameter = %.3f in ',d)"
   ]
   }
,
{
		   "cell_type": "markdown",
		   "metadata": {},
		   "source": [
			"## Example 13.12: example_12.sce"
		   ]
		  },
  {
"cell_type": "code",
	   "execution_count": null,
	   "metadata": {
	    "collapsed": true
	   },
	   "outputs": [],
"source": [
"clear\n",
"clc\n",
"//initialisation of variables\n",
"sp= 13.6\n",
"hm= 800 //mm\n",
"d= 3 //in\n",
"r= 1.4\n",
"R= 1385 //ft-lb/lb/C\n",
"w= 62.4 //lb/ft^3\n",
"T= 15 //C\n",
"hm1= 765 //mm\n",
"r1= 9\n",
"g= 32.2 //ft/sec^2\n",
"//CALCULATIONS\n",
"p1= hm*sp*w/304.8\n",
"r2= (273+T)*R\n",
"w1= p1/r2\n",
"k= hm/hm1\n",
"v1= sqrt((2*g*r*r2*(1-k^0.286))/((1-r)*(r1^2*k^1.43-1)))\n",
"W= v1*w1*3600*(%pi/64)\n",
"//RESULTS\n",
"printf ('Weight flowing = %.1f lb/hr ',W)\n",
"\n",
"//The answer is a bit different due to rounding off error in textbook\n",
""
   ]
   }
,
{
		   "cell_type": "markdown",
		   "metadata": {},
		   "source": [
			"## Example 13.13: example_13.sce"
		   ]
		  },
  {
"cell_type": "code",
	   "execution_count": null,
	   "metadata": {
	    "collapsed": true
	   },
	   "outputs": [],
"source": [
"clear\n",
"clc\n",
"//initialisation of variables\n",
"p= 160 //lb/in^2\n",
"d= 1/3 //ft\n",
"T= 15 //C\n",
"R= 96 \n",
"V= 120 //ft^3\n",
"f= 0.004\n",
"a= 60*%pi\n",
"l= 10560 //ft\n",
"g= 32.2 //ft/sec^2\n",
"//CALCULATIONS\n",
"p1= p*144\n",
"w1= p*144/(R*(273+T))\n",
"v1= V*36/a\n",
"p2= sqrt(p1^2-((2*4*f*p1*w1*v1^2*l)/(2*g*d)))/144\n",
"v2= p*v1/p2\n",
"//RESULTS\n",
"printf (' pressure = %.1f lb/in^2 ',p2)\n",
"printf ('\n velocity = %.1f ft/sec ',v2)\n",
"\n",
"//The answer is a bit different due to rounding off error in textbook\n",
"\n",
""
   ]
   }
,
{
		   "cell_type": "markdown",
		   "metadata": {},
		   "source": [
			"## Example 13.1: example_1.sce"
		   ]
		  },
  {
"cell_type": "code",
	   "execution_count": null,
	   "metadata": {
	    "collapsed": true
	   },
	   "outputs": [],
"source": [
"\n",
"clc\n",
"//initialisation of variables\n",
"W= 5000 //lb\n",
"vr= 6\n",
"e= 0.95\n",
"ep = 0.75\n",
"d= 9 //in\n",
"D= 45 //ft\n",
"t= 2 //min\n",
"v= 4.5 //ft/sec\n",
"//CALCULATIONS\n",
"L= W*vr/(e*ep)\n",
"Pr= L/(%pi*d^2/4)\n",
"s= D/vr\n",
"V= s*%pi*ep^2/(4*t*60)\n",
"T= D/v\n",
"V1= s*%pi*ep^2/4\n",
"V2= V*T\n",
"V3= V1-V2\n",
"//RESULTS\n",
"printf ('Pressure on ram = %.f ln/in^2 ',Pr)\n",
"printf('\n Pump duty = %.4f cusec',V)\n",
"printf ('\n Minimum capacity if accumulator = %.3f ft^3 ',V3)\n",
""
   ]
   }
,
{
		   "cell_type": "markdown",
		   "metadata": {},
		   "source": [
			"## Example 13.2: example_2.sce"
		   ]
		  },
  {
"cell_type": "code",
	   "execution_count": null,
	   "metadata": {
	    "collapsed": true
	   },
	   "outputs": [],
"source": [
"\n",
"clc\n",
"//initialisation of variables\n",
"P1= 1100 //lb/in^2\n",
"P2= 85 //lb/in^2\n",
"f= 0.01\n",
"g= 32.2 //ft/sec^2\n",
"l= 1600 //ft\n",
"r= 1/8\n",
"W= 2500 //lb\n",
"d= 6 //in\n",
"//CALCULATIONS\n",
"L= W*d\n",
"P= L*2.31/(%pi*(d/2)^2)\n",
"s1= P1*2540/1100\n",
"s2= P2*196/85\n",
"vp= sqrt((s1-s2-P)/(4*f*l/(2*g*r)))\n",
"V= vp/16\n",
"Vl= V*d\n",
"Vp= sqrt((s1/3)/(4*f*l/(2*g*r)))\n",
"vl= Vp*d/16\n",
"Hr= s1-(s1/3)-s2\n",
"Lr= Hr*%pi*(d/2)^2/(2.31*d)\n",
"//RESULTS\n",
"printf('In case 1, velocity of load = %.2f ft/sec',Vl)\n",
"printf('\n In case 2, velocity of load = %.2f ft/sec',vl)\n",
"printf ('\n Load to be lifted = %.f lb ',Lr)"
   ]
   }
,
{
		   "cell_type": "markdown",
		   "metadata": {},
		   "source": [
			"## Example 13.3: example_3.sce"
		   ]
		  },
  {
"cell_type": "code",
	   "execution_count": null,
	   "metadata": {
	    "collapsed": true
	   },
	   "outputs": [],
"source": [
"clc\n",
"//initialisation of variables\n",
"bhp= 1500 //h.p\n",
"e= 0.86\n",
"h1= 300 //ft\n",
"h2= 15 //ft\n",
"w= 62.4 //lb/ft^3\n",
"t= 30 //days\n",
"t1= 10 //hr\n",
"t2= 3 //months\n",
"f= 0.005\n",
"l= 1000 //ft\n",
"//CALCULATIONS\n",
"WHP= bhp/e\n",
"Ha= h1-h2\n",
"W= WHP*550\n",
"Q= W/(Ha*w)\n",
"Qt= Q*36009*t1*t*t2\n",
"Qp= Qt/(3600*t*45)\n",
"d= (f*l*(Q/2)^2/(t1*h2))^(1/5)\n",
"//RESULTS\n",
"printf ('Diameter = %.2f ft ',d)"
   ]
   }
,
{
		   "cell_type": "markdown",
		   "metadata": {},
		   "source": [
			"## Example 13.4: example_4.sce"
		   ]
		  },
  {
"cell_type": "code",
	   "execution_count": null,
	   "metadata": {
	    "collapsed": true
	   },
	   "outputs": [],
"source": [
"clear\n",
"clc\n",
"//initialisation of variables\n",
"l= 140 //ft\n",
"P= 70 //percent\n",
"V= 3*10^8 //ft^3\n",
"w= 62.4 //lb/ft^3\n",
"SBD= 4.9*10^8 //ft^3\n",
"Q= 162 //cuses\n",
"s= 12.2*10^6 //ft^3/day\n",
"//CALCULATIONS\n",
"O= Q*w*l*(P/1000)/550\n",
"//RESULTS\n",
"printf ('Size of reservoir= %.2e ft^3',SBD)\n",
"printf ('\n output = %.f h.p ',O)\n",
"printf ('\n output = %.f h.p ',Q)"
   ]
   }
,
{
		   "cell_type": "markdown",
		   "metadata": {},
		   "source": [
			"## Example 13.5: example_5.sce"
		   ]
		  },
  {
"cell_type": "code",
	   "execution_count": null,
	   "metadata": {
	    "collapsed": true
	   },
	   "outputs": [],
"source": [
"\n",
"clc\n",
"//initialisation of variables\n",
"Q= 140 //cuses\n",
"w= 62.4 //lb/ft^3\n",
"l= 140 //ft\n",
"P= 70 //percent\n",
"k= 1.6\n",
"v= 3*10^8\n",
"//CALCULATIONS\n",
"rv= k*v\n",
"HP= Q*l*w*(P/1000)/550\n",
"//RESULTS\n",
"printf ('Required size of reservoir = %.1e ft^3 ',rv)\n",
"printf ('\n horsepower = %.f h.p ',HP)"
   ]
   }
,
{
		   "cell_type": "markdown",
		   "metadata": {},
		   "source": [
			"## Example 13.6: example_6.sce"
		   ]
		  },
  {
"cell_type": "code",
	   "execution_count": null,
	   "metadata": {
	    "collapsed": true
	   },
	   "outputs": [],
"source": [
"clear\n",
"clc\n",
"//initialisation of variables\n",
"P= 10 //lb/in^2\n",
"r1= 0.5 //ft\n",
"r= 0.25 //ft\n",
"f= 42.3 //ft/sec\n",
"b= 1/40\n",
"Tt= 1400 //lb\n",
"//CALCULATIONS\n",
"Q= 2*%pi*r*b*f\n",
"p1= 34+P\n",
"Fu= p1*%pi*(r-(r/4))*144/2.3\n",
"Fr= Fu-Tt\n",
"//RESULTS\n",
"printf ('Quantity = %.2f cusecs ',Q)\n",
"printf ('\n Resultant force on the plate = %.f lb ',Fr)\n",
"\n",
"//The answer is a bit different due to rounding off error in textbook"
   ]
   }
,
{
		   "cell_type": "markdown",
		   "metadata": {},
		   "source": [
			"## Example 13.7: example_7.sce"
		   ]
		  },
  {
"cell_type": "code",
	   "execution_count": null,
	   "metadata": {
	    "collapsed": true
	   },
	   "outputs": [],
"source": [
"clc\n",
"//initialisation of variables\n",
"r= 0.5 //ft\n",
"N= 300\n",
"w= 62.4 //lb/ft^3\n",
"g= 32.2 //ft/sec^2\n",
"//CALCULATIONS\n",
"A= N*2*%pi/60\n",
"Ft= %pi*A^2*r^4*w/(4*g)\n",
"//RESULTS\n",
"printf ('total force = %.1f lb ',Ft)"
   ]
   }
,
{
		   "cell_type": "markdown",
		   "metadata": {},
		   "source": [
			"## Example 13.8: example_8.sce"
		   ]
		  },
  {
"cell_type": "code",
	   "execution_count": null,
	   "metadata": {
	    "collapsed": true
	   },
	   "outputs": [],
"source": [
"clc\n",
"//initialisation of variables\n",
"d= 4 //in\n",
"h= 12 //in\n",
"h1= 9 //in\n",
"g= 32 //ft/sec^2\n",
"//CALCULATIONS\n",
"H= 2*(1-(h1/h))\n",
"A= sqrt((H*2*g/((d/24)^2)))\n",
"A1= sqrt((H*2*g*2/((d/24)^2)))\n",
"//RESULTS\n",
"printf ('speed when the axial is zero = %.f radn/sec ',A)\n",
"printf ('\n speed when the axial is zero = %.f radn/sec ',A1)"
   ]
   }
],
"metadata": {
		  "kernelspec": {
		   "display_name": "Scilab",
		   "language": "scilab",
		   "name": "scilab"
		  },
		  "language_info": {
		   "file_extension": ".sce",
		   "help_links": [
			{
			 "text": "MetaKernel Magics",
			 "url": "https://github.com/calysto/metakernel/blob/master/metakernel/magics/README.md"
			}
		   ],
		   "mimetype": "text/x-octave",
		   "name": "scilab",
		   "version": "0.7.1"
		  }
		 },
		 "nbformat": 4,
		 "nbformat_minor": 0
}
