{
"cells": [
 {
		   "cell_type": "markdown",
	   "metadata": {},
	   "source": [
       "# Chapter 10: Hydraulic Prime Movers"
	   ]
	},
{
		   "cell_type": "markdown",
		   "metadata": {},
		   "source": [
			"## Example 10.10: example_10.sce"
		   ]
		  },
  {
"cell_type": "code",
	   "execution_count": null,
	   "metadata": {
	    "collapsed": true
	   },
	   "outputs": [],
"source": [
"\n",
"clc\n",
"//initialisation of variables\n",
"A1= 25 //degrees\n",
"A2= 80 //degrees\n",
"H1= 100 //ft\n",
"H2= 13 //ft\n",
"g= 32.2 //ft/sec^2\n",
"v= 8 //ft/sec\n",
"d= 3.5 //in\n",
"de= 15.4 //in\n",
"b= 1.5 //in\n",
"w= 62.4 //lb/ft^3\n",
"//CALCULATIONS\n",
"W= H1-H2-(v^2/(2*g))\n",
"f= sqrt(W*g/(cotd(A1)*(cotd(A1)-cotd(A2))))\n",
"u= f*(cotd(A1)-cotd(A2))\n",
"V= d*u/7.7\n",
"r= atand(f/V)\n",
"N= 60*u*12/(%pi*de)\n",
"Q= %pi*de*f*b/144\n",
"HP= Q*w*W/550\n",
"Ns= N*sqrt(HP)/H1^1.25\n",
"di= sqrt(Q*4*144/(%pi*f))\n",
"//RESULTS\n",
"printf ('angle = %.f degrees',r)\n",
"printf('\n Angular speed = %.1f rpm',Ns)\n",
"printf ('\n inlet diameter to draft tube = %.2f in',di)\n",
""
   ]
   }
,
{
		   "cell_type": "markdown",
		   "metadata": {},
		   "source": [
			"## Example 10.12: example_12.sce"
		   ]
		  },
  {
"cell_type": "code",
	   "execution_count": null,
	   "metadata": {
	    "collapsed": true
	   },
	   "outputs": [],
"source": [
"clear\n",
"clc\n",
"//initialisation of variables\n",
"H= 82.1 //ft\n",
"h= 90 //ft\n",
"k= 0.00646\n",
"k1= 0.00454\n",
"vd= 11 //ft/sec\n",
"P= 0.53 //hp\n",
"//CALCULATIONS\n",
"Q= sqrt((1/k))*sqrt(h-H)\n",
"Qu= Q/sqrt(h-H)\n",
"Q1= sqrt(vd/k1)\n",
"hf= Q1^2*k\n",
"Qu1= Q1/sqrt(h-hf)\n",
"Pu= P*(h-hf)^1.5\n",
"//RESULTS\n",
"printf ('Qu = %.f cuses',Q)\n",
"printf ('\n Q = %.1f cuses',Q1)\n",
"printf ('\n power Developed = %.f hp',Pu)"
   ]
   }
,
{
		   "cell_type": "markdown",
		   "metadata": {},
		   "source": [
			"## Example 10.1: example_1.sce"
		   ]
		  },
  {
"cell_type": "code",
	   "execution_count": null,
	   "metadata": {
	    "collapsed": true
	   },
	   "outputs": [],
"source": [
"\n",
"clc\n",
"//initialisation of variables\n",
"v= 231 //ft/sec\n",
"g= 32.2 //ft/sec^2\n",
"vc= 0.97\n",
"r= 0.47\n",
"p= 85 //per cent\n",
"A= 170 //degrees\n",
"p1= 88 //per cent\n",
"l= 950 //ft\n",
"//CALCULATIONS\n",
"H= v^2/(vc^2*2*g)\n",
"u= r*v\n",
"vr= v-u\n",
"vr1= p*vr/100\n",
"w1= u-vr1*cosd(180-A)\n",
"W= u*(v-w1)/g\n",
"he= W*100/H\n",
"W1= p1*W/100\n",
"oe= W1*100/l\n",
"//RESULTS\n",
"printf ('hydraulic efficiency = %.f per cent',he)\n",
"printf ('\n overall efficiency = %.1f per cent',oe)"
   ]
   }
,
{
		   "cell_type": "markdown",
		   "metadata": {},
		   "source": [
			"## Example 10.2: example_2.sce"
		   ]
		  },
  {
"cell_type": "code",
	   "execution_count": null,
	   "metadata": {
	    "collapsed": true
	   },
	   "outputs": [],
"source": [
"clc\n",
"//initialisation of variables\n",
"d= 1 //in\n",
"v= 95 //ft/sec\n",
"F= 173.2 //lb\n",
"A= 163 //degrees\n",
"H= 500 //ft\n",
"Cv= 0.97\n",
"d1= 1.33 //ft\n",
"r= 0.47\n",
"w= 62.4 //lb/ft^3\n",
"g= 32.2 //ft/sec^2\n",
"//CALCULATIONS\n",
"Q= w*%pi*v/(144*4)\n",
"k= (F-v)/(v*cosd(180-A))\n",
"v1= Cv*sqrt(2*g*H)\n",
"W= v1*w*d^2*%pi/(4*144)\n",
"N= 60*r*v1/(%pi*d1)\n",
"whp= (v1-v)*(1+k*cosd(180-A))*v1*2/550\n",
"Ns= N*whp^0.5/H^1.25\n",
"//RESULTS\n",
"printf ('specific speed = %.2f r.p.m',Ns)"
   ]
   }
,
{
		   "cell_type": "markdown",
		   "metadata": {},
		   "source": [
			"## Example 10.4: example_4.sce"
		   ]
		  },
  {
"cell_type": "code",
	   "execution_count": null,
	   "metadata": {
	    "collapsed": true
	   },
	   "outputs": [],
"source": [
"clear\n",
"clc\n",
"//initialisation of variables\n",
"D= 2 //ft\n",
"f= 0.005\n",
"l= 10000 //ft\n",
"g= 32.2 //ft/sec^2\n",
"H= 1000 //ft\n",
"w= 62.4 //lb/ft^3\n",
"//CALCULATIONS\n",
"d= (2*D^5/(f*l))^0.25\n",
"v= sqrt(8*g*H*D^5/(f*l*d^4+4*D^5))\n",
"HP= w*%pi*d^2*v^3/(2*g*550*4)\n",
"Q= %pi*d^2*(HP/67)/4\n",
"//RESULTS\n",
"printf ('Quantity flowing = %.f cuses',Q)"
   ]
   }
,
{
		   "cell_type": "markdown",
		   "metadata": {},
		   "source": [
			"## Example 10.5: example_5.sce"
		   ]
		  },
  {
"cell_type": "code",
	   "execution_count": null,
	   "metadata": {
	    "collapsed": true
	   },
	   "outputs": [],
"source": [
"\n",
"\n",
"clc\n",
"//initialisation of variables\n",
"pl= 122.5 // ft\n",
"Hw= 1225 //ft\n",
"g= 32.2 //ft/sec^2\n",
"Cd= 0.98\n",
"Cd1= 0.45\n",
"N= 500 //r.p.m\n",
"P= 6800 //h.p\n",
"n= 0.86\n",
"w= 62.4 //lb/ft^2\n",
"l= 5450 //ft\n",
"f= 0.005\n",
"A= 18 //ft^2\n",
"//CALCULATIONS\n",
"Ah= Hw-pl\n",
"js= Cd*sqrt(2*g*Ah)\n",
"bs= Cd1*js\n",
"D= bs*60*2/(N*2*%pi)\n",
"a=  P*2*g*550*144/(n*w*js^3*2)\n",
"vp= sqrt(pl*2*g/(4*f*l))\n",
"dp= (js*2*4*A/(%pi*144*vp))^(2/3)\n",
"dp=2.495 //ft\n",
"//RESULTS\n",
"printf ('diameter of bucket circle D = %.1f ft',D)\n",
"printf ('\n area of jet = %.f in^2',a)\n",
"printf ('\n diameter of pipe = %.1f ft',dp)"
   ]
   }
,
{
		   "cell_type": "markdown",
		   "metadata": {},
		   "source": [
			"## Example 10.6: example_6.sce"
		   ]
		  },
  {
"cell_type": "code",
	   "execution_count": null,
	   "metadata": {
	    "collapsed": true
	   },
	   "outputs": [],
"source": [
"\n",
"clc\n",
"//initialisation of variables\n",
"u= 10*%pi //ft/sec\n",
"u1= 5*%pi //ft/sec\n",
"a= 20 //degrees\n",
"A= 300 //r.p.m\n",
"v= 10 //ft/sec\n",
"g= 32.2 //ft/sec^2\n",
"wi= 2 //ft\n",
"d= 6 //in\n",
"w1= 62.4 //lb/ft^3\n",
"//CALCULATIONS\n",
"w= v/tand(a)\n",
"a1= atand(v/(u-w))\n",
"b= atand(v/u1)\n",
"W= u*w/g\n",
"A1= %pi*wi*d/12\n",
"Q= A1*v\n",
"WHP= W*Q*w1/550\n",
"//RESULTS\n",
"printf ('Blade angle at inlet is given by = %.2f degrees',a1)\n",
"printf ('\n Blade angle at inlet is given by = %.2f degrees',b)\n",
"printf ('\n Water horse power = %.1f h.p',WHP)"
   ]
   }
,
{
		   "cell_type": "markdown",
		   "metadata": {},
		   "source": [
			"## Example 10.7: ex_7.sce"
		   ]
		  },
  {
"cell_type": "code",
	   "execution_count": null,
	   "metadata": {
	    "collapsed": true
	   },
	   "outputs": [],
"source": [
"clear\n",
"clc\n",
"//initialisation of variables\n",
"g= 32.2 //ft/sec^2\n",
"H= 100 //ft\n",
"a= 25 //degrees\n",
"a1= 20 //degrees\n",
"r1= 9/8\n",
"r2= 0.2\n",
"u= 6.63 //ft/sec\n",
"w= 62.4 //lb/ft^3\n",
"h1= 34 //ft\n",
"h2= 100 //ft\n",
"r= 0.1\n",
"//CALCULATIONS\n",
"f= sqrt(H*g/((r1*cotd(a)*cotd(a1))+r1*0.5+(r1*0.5^2*0.2/(sind(a))^2)+0.1/(sind(a1+10))^2))\n",
"W= u*f^2/g\n",
"q= a*H*550/(10*W*w)\n",
"q1= q/w\n",
"A= q/f\n",
"dh= h1+h2-((1+r)*f^2/((sind(a1))^2*2*g))\n",
"//RESULTS\n",
"printf ('f = %.1f ft/sec',f)\n",
"printf ('\n Work Done = %.1f ft-lb/lb',W)\n",
"printf ('\n Quantity flow = %.1f cusecs',q)\n",
"printf ('\n Area form guides = %.3f ft^2',A)\n",
"printf ('\n Pressure at entry of level = %.1f ft of water',dh)\n",
"\n",
"//The answer is a bit different due to rounding off error in textbook\n",
""
   ]
   }
,
{
		   "cell_type": "markdown",
		   "metadata": {},
		   "source": [
			"## Example 10.8: example_8.sce"
		   ]
		  },
  {
"cell_type": "code",
	   "execution_count": null,
	   "metadata": {
	    "collapsed": true
	   },
	   "outputs": [],
"source": [
"clear\n",
"\n",
"clc\n",
"//initialisation of variables\n",
"d= 8 //in\n",
"w= 2 //in\n",
"di= 12 //in\n",
"wi= 3 //in\n",
"a= 24 //degrees\n",
"p= 88 //per cent\n",
"a1= 85 //degrees\n",
"a2= 30 //degrees\n",
"p1= 94 //per cent\n",
"h= 180 //ft\n",
"d1= 18 //in\n",
"Cd= 0.92\n",
"g=32.2\n",
"n1= 111 //rpm\n",
"//RESULTS\n",
"r1= 1/tand(a)\n",
"r2= (1/tand(a1))+r1\n",
"r3= 2*r2/3\n",
"r4= (1/tand(a2))-r3\n",
"a3= atand(1/r4)\n",
"r5= sind(a3)\n",
"f= sqrt(g*h*(p/100)/(r1*r2+r3*r4+(r5^2/2)))\n",
"A= r2*f/(d/12)\n",
"N= (A*60/(2*%pi))-n1\n",
"W= (r1*r2+r3*r4)*f^2/g\n",
"Q= %pi*(d1/12)*(w/12)*Cd*f*62.08\n",
"whp= W*Q/550\n",
"bhp= p1*whp/100\n",
"//RESULTS\n",
"printf ('Speed = %.f rpm',N)\n",
"printf ('\n output horsepower = %.f hp',bhp)"
   ]
   }
,
{
		   "cell_type": "markdown",
		   "metadata": {},
		   "source": [
			"## Example 10.9: example_9.sce"
		   ]
		  },
  {
"cell_type": "code",
	   "execution_count": null,
	   "metadata": {
	    "collapsed": true
	   },
	   "outputs": [],
"source": [
"\n",
"clc\n",
"//initialisation of variables\n",
"N= 428.6 //r.p.m\n",
"D= 5 //ft\n",
"w= 62.4 //lb/ft^3\n",
"hp= 16800 //hp\n",
"Qw= 435 //cuses\n",
"g= 32.2 //ft/sec^2\n",
"v= 32 //ft/sec\n",
"v1= 24 //f/sec\n",
"H= 200 //ft\n",
"lh1= 0.32 //ft lb/lb\n",
"//CALCULATIONS\n",
"u= %pi*D*N/60\n",
"W= hp*550/(Qw*w)\n",
"w= W*g/u\n",
"a= atand(v/w)\n",
"va= sqrt(w^2+v^2)\n",
"b= atand(v/(u-w))\n",
"B= 180-b\n",
"vew= va^2/(2*g)\n",
"ve1w= v1^2/(2*g)\n",
"LH= H+vew-ve1w-W+lh1\n",
"//RESULTS\n",
"printf ('angle = %.2f degrees',a)\n",
"printf ('\n Absolute velocity at entry to runner = %.1f ft/sec',va)\n",
"printf ('\n angle = %.2f degrees',b)\n",
"printf ('\n Loss of head in runner = %.2f ft lb/lb',LH)"
   ]
   }
],
"metadata": {
		  "kernelspec": {
		   "display_name": "Scilab",
		   "language": "scilab",
		   "name": "scilab"
		  },
		  "language_info": {
		   "file_extension": ".sce",
		   "help_links": [
			{
			 "text": "MetaKernel Magics",
			 "url": "https://github.com/calysto/metakernel/blob/master/metakernel/magics/README.md"
			}
		   ],
		   "mimetype": "text/x-octave",
		   "name": "scilab",
		   "version": "0.7.1"
		  }
		 },
		 "nbformat": 4,
		 "nbformat_minor": 0
}
