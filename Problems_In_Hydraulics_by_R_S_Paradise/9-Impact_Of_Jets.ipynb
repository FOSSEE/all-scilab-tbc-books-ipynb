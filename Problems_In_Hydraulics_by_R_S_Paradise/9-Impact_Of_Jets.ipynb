{
"cells": [
 {
		   "cell_type": "markdown",
	   "metadata": {},
	   "source": [
       "# Chapter 9: Impact Of Jets"
	   ]
	},
{
		   "cell_type": "markdown",
		   "metadata": {},
		   "source": [
			"## Example 9.1: example_1.sce"
		   ]
		  },
  {
"cell_type": "code",
	   "execution_count": null,
	   "metadata": {
	    "collapsed": true
	   },
	   "outputs": [],
"source": [
"clc\n",
"//initialisation of variables\n",
"clear\n",
"d= 2 //in\n",
"V= 210 //ft/sec\n",
"V1= 50 //ft/sec\n",
"g= 32.2 //ft/sec^2\n",
"w= 62.4 //lb/ft^3\n",
"//CALCULATIONS\n",
"M= %pi*V*w/(4*36*g)\n",
"F= M*V\n",
"dV= V-V1\n",
"M1= %pi*dV*w/(4*36*g)\n",
"F1= M1*dV\n",
"W= F1*V1\n",
"F2= M*dV\n",
"W1= F2*V1\n",
"//RESULTS\n",
"printf ('Force on plate = %.f lb',F+1)\n",
"printf ('\n Force on plate = %.f lb',F1)\n",
"printf ('\n Work done/sec = %.f ft-lb/sec',W)\n",
"printf ('\n Force on plate = %.f lb',F2)\n",
"printf ('\n Work done/sec = %.f ft-lb/sec',W1)\n",
"\n",
"//The answer is a bit different due to rounding off error in textbook\n",
""
   ]
   }
,
{
		   "cell_type": "markdown",
		   "metadata": {},
		   "source": [
			"## Example 9.2: example_9.sce"
		   ]
		  },
  {
"cell_type": "code",
	   "execution_count": null,
	   "metadata": {
	    "collapsed": true
	   },
	   "outputs": [],
"source": [
"\n",
"clc\n",
"//initialisation of variables\n",
"v1= 15 //ft/sec\n",
"v2= 40 //ft/sec\n",
"a= 30 //degrees\n",
"b= 150 //degrees\n",
"v= 15.27 //ft/sec\n",
"g= 32.2 //ft/sec^2\n",
"//CALCULATIONS\n",
"a1= a-asind(v1*sind(b)/v2)\n",
"w= cosd(a1)*v2\n",
"vr= v2*sind(a1)/sind(a)\n",
"v1= sqrt(v1^2+vr^2-2*v1*vr*cosd(a))\n",
"r= 180-asind(sind(a)*vr/v)\n",
"w1= v*cosd(r)\n",
"W= v1*(w-w1)/g\n",
"//RESULTS\n",
"printf ('a = %.2f degrees',a1)\n",
"printf ('\n w = %.2f ft/sec',w)\n",
"printf ('\n vr = %.2f ft/sec',vr)\n",
"printf ('\n v1 = %.2f ft/sec',v1)\n",
"printf ('\n w = %.2f ft/sec',w)\n",
"printf ('\n Work done per pound = %.2f ft-lb/lb',W)"
   ]
   }
,
{
		   "cell_type": "markdown",
		   "metadata": {},
		   "source": [
			"## Example 9.3: example_3.sce"
		   ]
		  },
  {
"cell_type": "code",
	   "execution_count": null,
	   "metadata": {
	    "collapsed": true
	   },
	   "outputs": [],
"source": [
"clc\n",
"//initialisation of variables\n",
"d= 0.5 //in\n",
"a= 165 //degrees\n",
"W= 7.35 //lb\n",
"W1= 500 //lb\n",
"t= 148 //sec\n",
"g= 32.2 //ft/sec^2\n",
"w= 62.3 //lb/ft^3\n",
"//CALCULATIONS\n",
"Q= W1/(t*w)\n",
"v= Q*16*144/%pi\n",
"dv= v*(1-cosd(a))\n",
"F= dv*W1/(t*g)\n",
"r= W/F\n",
"k= (1-(W*t*g/(W1*v)))/cosd(a)\n",
"//RESULTS\n",
"printf ('k = %.3f ',k)"
   ]
   }
,
{
		   "cell_type": "markdown",
		   "metadata": {},
		   "source": [
			"## Example 9.4: example_4.sce"
		   ]
		  },
  {
"cell_type": "code",
	   "execution_count": null,
	   "metadata": {
	    "collapsed": true
	   },
	   "outputs": [],
"source": [
"clc\n",
"//initialisation of variables\n",
"t= 0.25 //in\n",
"a= 30 //degrees\n",
"w= 480 //lb/ft^3\n",
"h= 2 //in\n",
"d= 0.5 //in\n",
"l= 6 //in\n",
"w1= 62.4 //lb/ft^3\n",
"g= 32.2 //ft/sec^2\n",
"//CALCULATIONS\n",
"W= t*l^2*w/1728\n",
"M= w1*%pi*d^2*cosd(a)/(g*4*144)\n",
"v= sqrt(W*(l/2)*sind(a)/(M*2*secd(a)))\n",
"//RESULTS\n",
"printf ('Velocity of jet = %.1f ft/sec',v)"
   ]
   }
,
{
		   "cell_type": "markdown",
		   "metadata": {},
		   "source": [
			"## Example 9.5: example_5.sce"
		   ]
		  },
  {
"cell_type": "code",
	   "execution_count": null,
	   "metadata": {
	    "collapsed": true
	   },
	   "outputs": [],
"source": [
"clear\n",
"clc\n",
"//initialisation of variables\n",
"V= 90 //ft/sec\n",
"a= 30 //degrees\n",
"u= 45 //ft/sec\n",
"//CALCULATIONS\n",
"w= V*cosd(a)\n",
"f= sqrt(V^2-w^2)\n",
"b= atand(f/(w-u))\n",
"V1= sqrt(f^2+(u-f*cotd(b))^2)\n",
"//RESULTS\n",
"printf ('absolute velocity of water at the exit = %.1f ft/sec',V1)"
   ]
   }
,
{
		   "cell_type": "markdown",
		   "metadata": {},
		   "source": [
			"## Example 9.6: example_6.sce"
		   ]
		  },
  {
"cell_type": "code",
	   "execution_count": null,
	   "metadata": {
	    "collapsed": true
	   },
	   "outputs": [],
"source": [
"clc\n",
"//initialisation of variables\n",
"u= 734 //ft/sec\n",
"v= 2000 //ft/sec\n",
"g= 32.2 //ft/sec^2\n",
"da= 0.019 //kg/m^3\n",
"//CALCULATIONS\n",
"W= g*v/(v-u)\n",
"A= W/(u*da)\n",
"//RESULTS\n",
"printf ('Weight of the air = %.1f lb/sec',W)\n",
"printf ('\n Area of inlet = %.2f ft^2',A)"
   ]
   }
],
"metadata": {
		  "kernelspec": {
		   "display_name": "Scilab",
		   "language": "scilab",
		   "name": "scilab"
		  },
		  "language_info": {
		   "file_extension": ".sce",
		   "help_links": [
			{
			 "text": "MetaKernel Magics",
			 "url": "https://github.com/calysto/metakernel/blob/master/metakernel/magics/README.md"
			}
		   ],
		   "mimetype": "text/x-octave",
		   "name": "scilab",
		   "version": "0.7.1"
		  }
		 },
		 "nbformat": 4,
		 "nbformat_minor": 0
}
