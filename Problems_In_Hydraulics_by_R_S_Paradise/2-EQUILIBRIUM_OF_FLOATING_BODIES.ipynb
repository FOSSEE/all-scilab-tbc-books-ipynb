{
"cells": [
 {
		   "cell_type": "markdown",
	   "metadata": {},
	   "source": [
       "# Chapter 2: EQUILIBRIUM OF FLOATING BODIES"
	   ]
	},
{
		   "cell_type": "markdown",
		   "metadata": {},
		   "source": [
			"## Example 2.1: example_1.sce"
		   ]
		  },
  {
"cell_type": "code",
	   "execution_count": null,
	   "metadata": {
	    "collapsed": true
	   },
	   "outputs": [],
"source": [
"clear\n",
"clc\n",
"//initialisation of variables\n",
"d= 40 //lb/ft^2\n",
"w= 4 //ft\n",
"h= 6 //ft\n",
"l= 12 //ft\n",
"//CALCULATIONS\n",
"W= w*h*d*l\n",
"V= W/64\n",
"D= V/(w*l)\n",
"//RESULTS\n",
"printf ('Volume of water displaced = %.f ft^3',V)\n",
"printf ('\n Depth of immersion = %.2f ft',D)\n",
"printf ('\n Centre of buoyancy = %.2f ft from base',D)"
   ]
   }
,
{
		   "cell_type": "markdown",
		   "metadata": {},
		   "source": [
			"## Example 2.3: example_3.sce"
		   ]
		  },
  {
"cell_type": "code",
	   "execution_count": null,
	   "metadata": {
	    "collapsed": true
	   },
	   "outputs": [],
"source": [
"\n",
"\n",
"clc\n",
"//initialisation of variables\n",
"clear\n",
"d= 4 //ft\n",
"h= 7 //ft\n",
"W= 2500 //lb\n",
"OG= 3.5\n",
"OB= 1.55 //ft\n",
"//CALCULATIONS\n",
"V= W/d^3\n",
"D= V/(%pi*(d/2)^2)\n",
"I= %pi*d^4/64\n",
"BM= I/V\n",
"BG= OG-OB\n",
"T= sqrt((W*OG-%pi*d^4)*d^4*2*%pi)-W \n",
"//RESULTS\n",
"printf ('Minimum tension in chain = %.f lb',T)"
   ]
   }
,
{
		   "cell_type": "markdown",
		   "metadata": {},
		   "source": [
			"## Example 2.4: example_4.sce"
		   ]
		  },
  {
"cell_type": "code",
	   "execution_count": null,
	   "metadata": {
	    "collapsed": true
	   },
	   "outputs": [],
"source": [
"\n",
"clc\n",
"//initialisation of variables\n",
"clear\n",
"W1= 1000 //lb\n",
"W2= 100 //lb\n",
"h= 4 //ft\n",
"d= 5 //ft\n",
"//CALCULATIONS\n",
"V= (W1+W2)/h^3\n",
"D= V*h/(d^2*%pi)\n",
"I= d^4*%pi/h^3\n",
"BM= I/V\n",
"x= (BM+(D/2)-(W1*(h/2)/(W1+W2)))/(W2/(W1+W2))-0.02\n",
"C= x-h\n",
"//RESULTS\n",
"printf ('centre of gravity = %.2f ft',x)\n",
"printf ('\n Hence the gravity of the weight must not be more than above the top of buoy = %.2f ft',C)"
   ]
   }
,
{
		   "cell_type": "markdown",
		   "metadata": {},
		   "source": [
			"## Example 2.5: example_5.sce"
		   ]
		  },
  {
"cell_type": "code",
	   "execution_count": null,
	   "metadata": {
	    "collapsed": true
	   },
	   "outputs": [],
"source": [
"clear\n",
"clc\n",
"//initialisation of variables\n",
"b= 12 //ft\n",
"h1= 3 //ft\n",
"h2= 1.5 //ft\n",
"h3= 5+(2/3) //ft\n",
"//CALCULATIONS\n",
"I= b^3/12\n",
"V= b*h1\n",
"bm= I/V\n",
"BG= bm+(h1*2/(3*b))\n",
"O= atand(sqrt((h3*2-h1-bm*2)/(bm*2+bm)))\n",
"//RESULTS\n",
"printf (' Volume of body immersed = %.f ft^3',V)\n",
"printf ('\n BM = %.f ft',bm)\n",
"printf ('\n BG = %.2f ft',BG)\n",
"printf ('\n angle of heel = %.2f degrees',O)\n",
"\n",
"//The answer is a bit different due to rounding off error in textbook\n",
""
   ]
   }
],
"metadata": {
		  "kernelspec": {
		   "display_name": "Scilab",
		   "language": "scilab",
		   "name": "scilab"
		  },
		  "language_info": {
		   "file_extension": ".sce",
		   "help_links": [
			{
			 "text": "MetaKernel Magics",
			 "url": "https://github.com/calysto/metakernel/blob/master/metakernel/magics/README.md"
			}
		   ],
		   "mimetype": "text/x-octave",
		   "name": "scilab",
		   "version": "0.7.1"
		  }
		 },
		 "nbformat": 4,
		 "nbformat_minor": 0
}
