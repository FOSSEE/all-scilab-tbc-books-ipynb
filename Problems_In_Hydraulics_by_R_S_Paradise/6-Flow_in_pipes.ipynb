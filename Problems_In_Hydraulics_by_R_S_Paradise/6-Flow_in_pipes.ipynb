{
"cells": [
 {
		   "cell_type": "markdown",
	   "metadata": {},
	   "source": [
       "# Chapter 6: Flow in pipes"
	   ]
	},
{
		   "cell_type": "markdown",
		   "metadata": {},
		   "source": [
			"## Example 6.10: example_10.sce"
		   ]
		  },
  {
"cell_type": "code",
	   "execution_count": null,
	   "metadata": {
	    "collapsed": true
	   },
	   "outputs": [],
"source": [
"clc\n",
"//initialisation of variables\n",
"d= 2.5 //ft\n",
"a= 45 //degrees\n",
"Q= 69 //cuses\n",
"l= 30 //ft\n",
"w= 62.4 //lb/ft^3\n",
"g= 32.2 //ft/sec^2\n",
"//CALCULATIONS\n",
"Ps= 0.25*%pi*d^2*w*l/2240\n",
"Rs= Ps*sqrt((1-cosd(a))*2)\n",
"W= Q*w/2240\n",
"v= Q*4/(%pi*d^2)\n",
"Rd= W*v*sqrt(2*(1-cosd(a)))/g\n",
"Rt= Rs+Rd\n",
"//RESULTS\n",
"printf ('total resultant thrust = %.3f tons',Rt)"
   ]
   }
,
{
		   "cell_type": "markdown",
		   "metadata": {},
		   "source": [
			"## Example 6.11: example_11.sce"
		   ]
		  },
  {
"cell_type": "code",
	   "execution_count": null,
	   "metadata": {
	    "collapsed": true
	   },
	   "outputs": [],
"source": [
"clear\n",
"clc\n",
"//initialisation of variables\n",
"r1= 1/3\n",
"r2= 7/12\n",
"l= 5000 //ft\n",
"l1= 10000 //ft\n",
"d= 27 //in\n",
"d1= 18 //in\n",
"Q= 10 //cuses\n",
"f= 0.006\n",
"//CALCULATIONS\n",
"Q2= Q/(sqrt(r2/r1)+1)\n",
"Q1= Q-Q2\n",
"H= (f*l*Q^2/(10*(d/12)^5))+(f*l1*Q1^2/(3*10^(d1/12)^5))\n",
"//RESULTS\n",
"printf ('total difference in head = %.2f ft',H)\n",
"\n",
"\n",
"//ANSWER GIVEN IN THE TEXTBOOK IS WRONG"
   ]
   }
,
{
		   "cell_type": "markdown",
		   "metadata": {},
		   "source": [
			"## Example 6.12: example_12.sce"
		   ]
		  },
  {
"cell_type": "code",
	   "execution_count": null,
	   "metadata": {
	    "collapsed": true
	   },
	   "outputs": [],
"source": [
"clc\n",
"//initialisation of variables\n",
"V= 4 //ft/sec\n",
"L= 1225 //ft\n",
"l= 1200 //ft\n",
"H= 50 //ft\n",
"d= 1/3 //ft\n",
"f= 0.008\n",
"g= 32.2 //ft/sec^2\n",
"//CALCULATIONS\n",
"a= 2*g*H\n",
"b= (4*f*L/d)+1.5\n",
"c= sqrt(a/b)\n",
"d= sqrt(a*b)\n",
"T= log(sqrt((c+V)/(c-V)))*l*2/d\n",
"//RESULTS\n",
"printf ('time interval for elapse = %.2f sec',T)"
   ]
   }
,
{
		   "cell_type": "markdown",
		   "metadata": {},
		   "source": [
			"## Example 6.14: example_14.sce"
		   ]
		  },
  {
"cell_type": "code",
	   "execution_count": null,
	   "metadata": {
	    "collapsed": true
	   },
	   "outputs": [],
"source": [
"clc\n",
"//initialisation of variables\n",
"L= 8000 //ft\n",
"d= 5 //ft\n",
"g= 32.2 //ft/sec^2\n",
"d= 5 //ft\n",
"l= 250 //ft\n",
"b= 100\n",
"//CALCULATIONS\n",
"A= %pi*0.25*d^2*l-0.5*d^2*b\n",
"V= A*g/L\n",
"//RESULTS\n",
"printf ('Velocity = %.2f ft/sec',V)"
   ]
   }
,
{
		   "cell_type": "markdown",
		   "metadata": {},
		   "source": [
			"## Example 6.15: example_15.sce"
		   ]
		  },
  {
"cell_type": "code",
	   "execution_count": null,
	   "metadata": {
	    "collapsed": true
	   },
	   "outputs": [],
"source": [
"clc\n",
"//initialisation of variables\n",
"B= 3 //ft\n",
"Cd= 0.6\n",
"g= 32.2 //ft/sec^2\n",
"d1= 6 //in\n",
"d2= 4 //in\n",
"//CALCULATIONS\n",
"Q2= 0.428 //cuses\n",
"r= sqrt((((d1/12)^5)/((d2/12)^5)))\n",
"Q1= r*Q2\n",
"Q= Q1+Q2\n",
"//RESULTS\n",
"printf ('Total inflow = %.3f cuses',Q)"
   ]
   }
,
{
		   "cell_type": "markdown",
		   "metadata": {},
		   "source": [
			"## Example 6.17: example_17.sce"
		   ]
		  },
  {
"cell_type": "code",
	   "execution_count": null,
	   "metadata": {
	    "collapsed": true
	   },
	   "outputs": [],
"source": [
"clc\n",
"//initialisation of variables\n",
"f= 0.007\n",
"l= 30 //miles\n",
"Q1= 5*10^6 //gal/day\n",
"w= 6.24 //lb/ft^3\n",
"H= 500 //ft\n",
"Q2= 7*10^6 //gal/day\n",
"//CALCULATIONS\n",
"Qi= Q1/(w*24*3600)\n",
"d= (f*l*5280*Qi^2/(10*H))^0.2\n",
"Qe = Q2*Qi/Q1\n",
"x= (30-(H*10*d^5/(f*Qe^2*5280)))*(4/3)\n",
"//RESULTS\n",
"printf ('length of new pipe required = %.1f miles',x)"
   ]
   }
,
{
		   "cell_type": "markdown",
		   "metadata": {},
		   "source": [
			"## Example 6.1: example_1.sce"
		   ]
		  },
  {
"cell_type": "code",
	   "execution_count": null,
	   "metadata": {
	    "collapsed": true
	   },
	   "outputs": [],
"source": [
"clear\n",
"clc\n",
"//initialisation of variables\n",
"l= 5000 //ft\n",
"l1= 2000 //ft\n",
"d= 12 //in\n",
"f= 0.005\n",
"d1= 24 //in\n",
"f1= 0.0045\n",
"l2= 3000 //ft\n",
"Q= 1800 //gal/min\n",
"w= 6.24 //lb/ft^3\n",
"g=32.2 //ft/s^2\n",
"//CALCULATIONS\n",
"F= Q/(60*w)\n",
"v1= F*4/(%pi*(d/12)^2)\n",
"v2= v1/(d1/d)^2\n",
"H= (f*l1*F^2/(10*(d/12)^5))+(f1*l2*F^2/(10*(d1/12)^5))+(v1^2/(4*g))+((v1-v2)^2/(2*g))+(v2^2/(2*g))\n",
"//RESULTS\n",
"printf ('Available Head = %.2f ft',H)"
   ]
   }
,
{
		   "cell_type": "markdown",
		   "metadata": {},
		   "source": [
			"## Example 6.2: example_2.sce"
		   ]
		  },
  {
"cell_type": "code",
	   "execution_count": null,
	   "metadata": {
	    "collapsed": true
	   },
	   "outputs": [],
"source": [
"\n",
"clc\n",
"//initialisation of variables\n",
"g= 32.2 //ft/sec^2\n",
"f= 0.01\n",
"h= 42 //ft\n",
"l= 3200 //ft\n",
"d= 14 //in\n",
"h1= 8 //ft\n",
"l1= 1800 //ft\n",
"w= 6.24 //lb/ft^3\n",
"//CALCULATIONS\n",
"v= sqrt(2*g*h/(1+0.5+(4*f*l/(d/12))))\n",
"h2= h-h1-(v^2/(2*g))-h1-(0.5*v^2/(2*g))-(4*f*l1*v^2/(2*g*(d/12)))\n",
"Q= %pi*(d/12)^2*v*w*60/4\n",
"//RESULTS\n",
"printf ('Height of siphon above A = %.2f ft',h2)\n",
"printf ('\n Total Discharge = %.f gal/min',Q)"
   ]
   }
,
{
		   "cell_type": "markdown",
		   "metadata": {},
		   "source": [
			"## Example 6.3: example_3.sce"
		   ]
		  },
  {
"cell_type": "code",
	   "execution_count": null,
	   "metadata": {
	    "collapsed": true
	   },
	   "outputs": [],
"source": [
"\n",
"clear   \n",
"clc\n",
"//initialisation of variables\n",
"H= 950 //lb/in^2\n",
"l= 5 //miles\n",
"d= 4 //in\n",
"f= 0.0075\n",
"p= 92 //per cent\n",
"hp= 200 //h.p\n",
"g= 32.2 //ft/sec62\n",
"w= 62.4 //lb/ft^3\n",
"\n",
"//CALCULATIONS\n",
"H1= H*2.3\n",
"H2= H1*100/p\n",
"Hf= H2-H1\n",
"v= sqrt(2*g*(d/12)*Hf/(4*f*l*5280))\n",
"n= hp/(w*v*(H1/550)*%pi*(d/12)^2/4)\n",
"//RESULTS\n",
"printf ('number of pipes required = %.f',n)\n",
"\n",
"//ANSWER in textbook is wrong"
   ]
   }
,
{
		   "cell_type": "markdown",
		   "metadata": {},
		   "source": [
			"## Example 6.4: example_4.sce"
		   ]
		  },
  {
"cell_type": "code",
	   "execution_count": null,
	   "metadata": {
	    "collapsed": true
	   },
	   "outputs": [],
"source": [
"clear\n",
"clc\n",
"//initialisation of variables\n",
"l= 1.5 //miles\n",
"d= 18 //in\n",
"Q= 12.4 ///cusecs\n",
"h= 130 //ft\n",
"r= 169\n",
"r1= 338\n",
"w= 62.4 //lb/ft^3\n",
"g= 32.2 //ft/sec^2\n",
"//CALCULATIONS\n",
"f= h*10*l^5/(l*5280*Q^2)\n",
"R= sqrt(1.5*r1-r)\n",
"d= sqrt(l^2/R*144)\n",
"v= sqrt(h*g*2/(r/R^2+1))\n",
"HP= w*0.25*%pi*(d/12)^2*v^3/(550*2*g)\n",
"//RESULTS\n",
"printf ('f = %.3f ',f)\n",
"printf ('\n Diameter of jet d = %.2f in',d)\n",
"printf ('\n Water h.p = %.1f h.p',HP)\n",
"\n",
"\n",
"//The answer is a bit different due to rounding off error in textbook\n",
""
   ]
   }
,
{
		   "cell_type": "markdown",
		   "metadata": {},
		   "source": [
			"## Example 6.5: example_5.sce"
		   ]
		  },
  {
"cell_type": "code",
	   "execution_count": null,
	   "metadata": {
	    "collapsed": true
	   },
	   "outputs": [],
"source": [
"\n",
"\n",
"clc\n",
"//initialisation of variables\n",
"l= 5000 //ft\n",
"d= 24 //in\n",
"Q= 18 //cuses\n",
"t= 10 //sec\n",
"P= 275000 //lb/in^2\n",
"g= 32.2 //ft/sec^2\n",
"w=62.4\n",
"//CALCULATIONS\n",
"v= Q/(%pi*(d/24)^2)\n",
"C= v/(t^2/2)\n",
"Pr= ((l*C*t/g)+(v^2/(2*g)))/2.3\n",
"Pr1= v*12*sqrt(w*P/(386.4*1728))\n",
"//RESULTS\n",
"printf ('Pressure Rise = %.1f lb/in^2',Pr)\n",
"printf ('\n Pressure Rise = %.f lb/in^2',Pr1)"
   ]
   }
,
{
		   "cell_type": "markdown",
		   "metadata": {},
		   "source": [
			"## Example 6.6: example_6.sce"
		   ]
		  },
  {
"cell_type": "code",
	   "execution_count": null,
	   "metadata": {
	    "collapsed": true
	   },
	   "outputs": [],
"source": [
"clc\n",
"//initialisation of variables\n",
"g= 32.2 //ft/sec^2\n",
"v= 4 //ft/sec\n",
"K= 300000 //lb/in^2\n",
"d= 6 //in\n",
"t= 0.25 //in\n",
"E= 30*10^6 //lb/in^2\n",
"w= 62.4 //lb/ft^3\n",
"//CALCULATIONS\n",
"P= sqrt((w*v^2/g)/((d/(E*144*t))+(1/(K*144))))/144\n",
"Sm= P*d/(2*t)\n",
"//RESULTS\n",
"printf ('Hoop stress = %.f lb/in^2',Sm)"
   ]
   }
,
{
		   "cell_type": "markdown",
		   "metadata": {},
		   "source": [
			"## Example 6.7: example_7.sce"
		   ]
		  },
  {
"cell_type": "code",
	   "execution_count": null,
	   "metadata": {
	    "collapsed": true
	   },
	   "outputs": [],
"source": [
"\n",
"clc\n",
"//initialisation of variables\n",
"l1= 19 //ft\n",
"l2= 1 //ft\n",
"r1= 0.298\n",
"r2= 0.238\n",
"r3= 0.359\n",
"r4= 0.242\n",
"r5= 0.121\n",
"d= 6 //in\n",
"//CALCULATIONS\n",
"m= -(-r4-sqrt(r4^2-4*(3*r1-r5)*(-(d/2)*r2-r3)))/(2*(3*r1-r5))\n",
"v2= sqrt((l1+l2)/(r1*m^2-r2))\n",
"v3= m*v2\n",
"Q2= %pi*v2/d^2\n",
"Q3= %pi*v3/d^2\n",
"Q= Q2+Q3\n",
"//RESULTS\n",
"printf ('Q2 = %.3f cusec',Q2)\n",
"printf ('\n Q3 = %.2f cusec',Q3)\n",
"printf ('\n Total Quantity = %.3f cusecs',Q)"
   ]
   }
,
{
		   "cell_type": "markdown",
		   "metadata": {},
		   "source": [
			"## Example 6.8: example_8.sce"
		   ]
		  },
  {
"cell_type": "code",
	   "execution_count": null,
	   "metadata": {
	    "collapsed": true
	   },
	   "outputs": [],
"source": [
"clear\n",
"clc\n",
"//initialisation of variables\n",
"h= 80 //ft\n",
"f= 0.008\n",
"l= 3000 //ft\n",
"r1= 6.07\n",
"r2= 377.5\n",
"r3= 4733 \n",
"r4= 0.0466\n",
"r5= 3220\n",
"r6= 51.5\n",
"//CALCULATIONS\n",
"Q= sqrt(h*10/(f*l))\n",
"Q1= sqrt(r2+sqrt(r2^2-4*r1*r3)/(2*r1))/3\n",
"Q2= Q1-r4*sqrt(r5-r6*Q1^2)\n",
"//RESULTS\n",
"printf ('rate discharge when valve B is closed= %.2f cusecs',Q)\n",
"printf ('\n Flow in reservoir= %.2f cusecs',Q2)\n",
"\n",
"//The answer is a bit different due to rounding off error in textbook"
   ]
   }
,
{
		   "cell_type": "markdown",
		   "metadata": {},
		   "source": [
			"## Example 6.9: example_9.sce"
		   ]
		  },
  {
"cell_type": "code",
	   "execution_count": null,
	   "metadata": {
	    "collapsed": true
	   },
	   "outputs": [],
"source": [
"\n",
"clc\n",
"//initialisation of variables\n",
"Q= 450 //gal/min\n",
"w= 6.24 //lb/ft^3\n",
"f= 0.005\n",
"l1= 1000 //ft\n",
"l2= 2000 //ft\n",
"r1= 1.6\n",
"r2= 4.4\n",
"r3= 0.8\n",
"r4 = 12.85\n",
"h1= 59.1 //ft\n",
"h2= 40.19 //ft\n",
"v= 1.2 //ft/sec\n",
"f= 0.0056\n",
"l= 10 //ft\n",
"//CALCULATIONS\n",
"Q1=  Q/(w*60)\n",
"Q2= (r1+sqrt(r1^2+4*r2))/2\n",
"Q3= Q2-Q1\n",
"Q4= (-r3+sqrt(r3^2+4*r4))/2\n",
"Q5= Q4+Q1\n",
"d= (f*5500*v^2/(l*(h1-h2)))^0.2*12\n",
"//RESULTS\n",
"printf ('flow in to reservoir B= %.2f cusecs',Q3)\n",
"printf ('\n flow in to reservoir D= %.1f cusecs',Q5)\n",
"printf ('\n diameter of MN= %.f in',d)"
   ]
   }
],
"metadata": {
		  "kernelspec": {
		   "display_name": "Scilab",
		   "language": "scilab",
		   "name": "scilab"
		  },
		  "language_info": {
		   "file_extension": ".sce",
		   "help_links": [
			{
			 "text": "MetaKernel Magics",
			 "url": "https://github.com/calysto/metakernel/blob/master/metakernel/magics/README.md"
			}
		   ],
		   "mimetype": "text/x-octave",
		   "name": "scilab",
		   "version": "0.7.1"
		  }
		 },
		 "nbformat": 4,
		 "nbformat_minor": 0
}
