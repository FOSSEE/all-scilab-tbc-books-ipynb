{
"cells": [
 {
		   "cell_type": "markdown",
	   "metadata": {},
	   "source": [
       "# Chapter 8: Viscosity and Viscous Flow"
	   ]
	},
{
		   "cell_type": "markdown",
		   "metadata": {},
		   "source": [
			"## Example 8.1: example_1.sce"
		   ]
		  },
  {
"cell_type": "code",
	   "execution_count": null,
	   "metadata": {
	    "collapsed": true
	   },
	   "outputs": [],
"source": [
"\n",
"clc\n",
"//initialisation of variables\n",
"v= 10.01 //poise\n",
"g= 32.2 //ft/sec^2\n",
"d= 30.48 //cm\n",
"w= 453.6 //gm\n",
"//CALCULATIONS\n",
"M= v*d/w\n",
"F= M/g\n",
"//RESULTS\n",
"printf ('Pound in unit of mass = %.3f lb/ft sec absolute units',M)\n",
"printf ('\n Pound in unit of force = %.4f slugs/ft sec',F)"
   ]
   }
,
{
		   "cell_type": "markdown",
		   "metadata": {},
		   "source": [
			"## Example 8.2: example_2.sce"
		   ]
		  },
  {
"cell_type": "code",
	   "execution_count": null,
	   "metadata": {
	    "collapsed": true
	   },
	   "outputs": [],
"source": [
"clear\n",
"clc\n",
"//initialisation of variables\n",
"W= 20 //tons/hr\n",
"l= 1000 //ft\n",
"w= 57 //lb/ft^3\n",
"kv= 0.0205 //ft^2/sec\n",
"d= 6 //in\n",
"g= 32.2 //ft/sec^2\n",
"//CALCULATIONS\n",
"Q= W*2240/(3600*w)\n",
"A= %pi*(d/12)^2/4\n",
"v= Q/A\n",
"R= v*(d/12)/kv\n",
"n= w*kv/g\n",
"P= 32*v*n*l/((d/12)^2*w)\n",
"HP= P*2240*W/(3600*500)\n",
"//RESULTS\n",
"printf ('Reynolds number = %.1f ',R)\n",
"printf ('\n H.P required = %.2f hp',HP)\n",
"\n",
"//The answer is a bit different due to rounding off error in textbook\n",
""
   ]
   }
,
{
		   "cell_type": "markdown",
		   "metadata": {},
		   "source": [
			"## Example 8.4: example_4.sce"
		   ]
		  },
  {
"cell_type": "code",
	   "execution_count": null,
	   "metadata": {
	    "collapsed": true
	   },
	   "outputs": [],
"source": [
"clc\n",
"//initialisation of variables\n",
"n= 0.0067 //poise\n",
"l= 10 //ft\n",
"w= 62 //lb/ft^3\n",
"d= 1 //in\n",
"Q= 2 //ft^2/sec\n",
"sm= 13.57\n",
"k1= 0.003\n",
"k2= 0.0725\n",
"r= 0.3\n",
"g= 32.2 //ft/sec^2\n",
"//CALCULATIONS\n",
"n1= n*30.48/453.6\n",
"v= Q*4/(60*%pi*(d/12)^2)\n",
"RN= v*(d/12)*w/n1\n",
"f= k1+(k2/RN^r)\n",
"hf= 4*f*l*v^2/(2*g*(d/12))\n",
"hl= hf*12/sm\n",
"//RESULTS\n",
"printf ('Head lost in inches of mercury = %.2f in',hl)"
   ]
   }
,
{
		   "cell_type": "markdown",
		   "metadata": {},
		   "source": [
			"## Example 8.5: example_5.sce"
		   ]
		  },
  {
"cell_type": "code",
	   "execution_count": null,
	   "metadata": {
	    "collapsed": true
	   },
	   "outputs": [],
"source": [
"clc\n",
"//initialisation of variables\n",
"n= 0.91 //poise\n",
"g= 32.2 //ft/sec\n",
"N= 300 //r.p.m\n",
"t= 0.01 //in\n",
"r1= 0.25 //ft\n",
"r2= 1/6 //ft\n",
"//CALCULATIONS\n",
"n1= n*30.48/(454*g)\n",
"A= N*2*%pi/60\n",
"t1= t/12\n",
"hp= %pi*A^2*n1*(r1^4-r2^4)/(t1*1100)\n",
"//RESULTS\n",
"printf ('Horse Power lost = %.2f ',hp)"
   ]
   }
,
{
		   "cell_type": "markdown",
		   "metadata": {},
		   "source": [
			"## Example 8.6: example_6.sce"
		   ]
		  },
  {
"cell_type": "code",
	   "execution_count": null,
	   "metadata": {
	    "collapsed": true
	   },
	   "outputs": [],
"source": [
"clc\n",
"//initialisation of variables\n",
"vw= 0.3 //ft/sec\n",
"dw= 1 //in\n",
"da= 12 //in\n",
"ww= 62.3 //lb/ft^3\n",
"wa= 0.075 //lb/ft^3\n",
"nw= 0.01 //poise\n",
"na= 0.00018 //poise\n",
"//CALCULATIONS\n",
"va= vw*dw*ww*na/(nw*da*wa)\n",
"//RESULTS\n",
"printf ('critical velocity of air = %.3f ft/sec',va)"
   ]
   }
,
{
		   "cell_type": "markdown",
		   "metadata": {},
		   "source": [
			"## Example 8.7: example_7.sce"
		   ]
		  },
  {
"cell_type": "code",
	   "execution_count": null,
	   "metadata": {
	    "collapsed": true
	   },
	   "outputs": [],
"source": [
"clc\n",
"//initialisation of variables\n",
"dm= 0.75 //in\n",
"dt= 0.25 //in\n",
"dP= 10.4 //lb/in^2\n",
"rd= 0.84\n",
"w= 62.4 //lb/ft^3\n",
"g= 32.2 //ft/sec^2\n",
"//CALCULATIONS\n",
"v1= sqrt(dP*144*g/(rd*w*((dm/dt)^4-1)))\n",
"Q= %pi*dm^2*v1*60*w/(4*144*10)\n",
"//RESULTS\n",
"printf ('Discharge rate = %.1f gal.min',Q)"
   ]
   }
],
"metadata": {
		  "kernelspec": {
		   "display_name": "Scilab",
		   "language": "scilab",
		   "name": "scilab"
		  },
		  "language_info": {
		   "file_extension": ".sce",
		   "help_links": [
			{
			 "text": "MetaKernel Magics",
			 "url": "https://github.com/calysto/metakernel/blob/master/metakernel/magics/README.md"
			}
		   ],
		   "mimetype": "text/x-octave",
		   "name": "scilab",
		   "version": "0.7.1"
		  }
		 },
		 "nbformat": 4,
		 "nbformat_minor": 0
}
