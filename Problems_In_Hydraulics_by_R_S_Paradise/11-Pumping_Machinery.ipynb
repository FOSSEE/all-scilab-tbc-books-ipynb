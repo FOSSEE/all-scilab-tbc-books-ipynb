{
"cells": [
 {
		   "cell_type": "markdown",
	   "metadata": {},
	   "source": [
       "# Chapter 11: Pumping Machinery"
	   ]
	},
{
		   "cell_type": "markdown",
		   "metadata": {},
		   "source": [
			"## Example 11.10: example_10.sce"
		   ]
		  },
  {
"cell_type": "code",
	   "execution_count": null,
	   "metadata": {
	    "collapsed": true
	   },
	   "outputs": [],
"source": [
"clear\n",
"clc\n",
"//initialisation of variables\n",
"W1= 7640 //gal/min\n",
"W2= 11400 //gal/min\n",
"Hm= 63 //ft\n",
"Hm1= 80 //ft\n",
"ep1= 72 //per cent\n",
"ep2= 76 //per cent\n",
"//CALCULATIONS\n",
"whp1= W1*Hm/(60*550)\n",
"whp2= W2*Hm1/(60*550)\n",
"bhp1= whp1*100/ep1\n",
"bhp2= whp2*100/ep2\n",
"w1= W2/10\n",
"//RESULTS\n",
"printf ('For both pumps discharge = %.f gal/min against an 80-ft head',W2)\n",
"printf ('\n delivery from one pump = %.1f h.p ',bhp1)\n",
"printf ('\n delivery from two pumps = %.1f h.p ',bhp2)"
   ]
   }
,
{
		   "cell_type": "markdown",
		   "metadata": {},
		   "source": [
			"## Example 11.11: ex_11.sce"
		   ]
		  },
  {
"cell_type": "code",
	   "execution_count": null,
	   "metadata": {
	    "collapsed": true
	   },
	   "outputs": [],
"source": [
"clear\n",
"clc\n",
"//initialisation of variables\n",
"h= 94 //ft\n",
"w= 62.4 //lb/ft^3\n",
"e= 0.58\n",
"p= 73.5 //per cent\n",
"//CALCULATIONS\n",
"WHP= h*e*w/550\n",
"BHP= WHP/(p/100)\n",
"//RESULTS\n",
"printf('W.H.P= %.2f h.p',WHP)\n",
"printf('\n Brake horse power= %.1f',BHP)"
   ]
   }
,
{
		   "cell_type": "markdown",
		   "metadata": {},
		   "source": [
			"## Example 11.12: example_12.sce"
		   ]
		  },
  {
"cell_type": "code",
	   "execution_count": null,
	   "metadata": {
	    "collapsed": true
	   },
	   "outputs": [],
"source": [
"clear\n",
"clc\n",
"//initialisation of variables\n",
"sl= 12 //ft\n",
"l= 20 //ft\n",
"d= 4 //in\n",
"dp= 6 //in\n",
"lst= 18 //in\n",
"k= 0.025\n",
"H= 32 //ft\n",
"g= 32.2 //ft/sec^2\n",
"pf= 6 //ft\n",
"a= 33.83 \n",
"a1= 9.53\n",
"//CALCULATIONS\n",
"A= sqrt((H-sl-d)*g/a)*a1\n",
"Q= 2*%pi*(dp/12)^2*lst/(12*4*60)\n",
"v= Q/(%pi*(d/12)^2/4)\n",
"kh= v^2/(2*g)\n",
"fh= k*l*v^2*12/(2*g*d)\n",
"N= sqrt((H-sl-pf)/(kh+fh))\n",
"//RESULTS\n",
"printf ('premissible speed = %.1f r.p.m',A)\n",
"printf ('\n maximum premissible speed = %.1f r.p.m',N)\n",
"\n",
"//The answer is a bit different due to rounding off error in textbook\n",
""
   ]
   }
,
{
		   "cell_type": "markdown",
		   "metadata": {},
		   "source": [
			"## Example 11.13: example_13.sce"
		   ]
		  },
  {
"cell_type": "code",
	   "execution_count": null,
	   "metadata": {
	    "collapsed": true
	   },
	   "outputs": [],
"source": [
"clear\n",
"clc\n",
"//initialisation of variables\n",
"b= 6 //in\n",
"s= 12 //in\n",
"d= 4 //in\n",
"a1= 30 //degrees\n",
"a2= 90 //degrees\n",
"a3= 120 //degrees\n",
"N= 120 //r.p.m\n",
"n= 4\n",
"//calculations\n",
"A= 2*%pi*N/60\n",
"V= %pi*(b/12)^2*n/4\n",
"v= (b/12)^2*A*(b/12)/(d/12)^2\n",
"Q1= v*%pi*(d/12)^2*sind(a1)/4\n",
"Q2= v*%pi*(d/12)^2*sind(a2)/4\n",
"Q3= v*%pi*(d/12)^2*sind(a3)/4\n",
"Q4= V-Q1\n",
"Q5= Q2-V\n",
"Q6= Q3-V\n",
"a4= asind(V/(v*%pi*(d/12)^2))+a1\n",
"A= 180-a4-a1\n",
"//RESULTS\n",
"printf ('rate of flow at a1 = %.3f cuses',Q4)\n",
"printf ('\n rate of flow at a2 = %.3f cuses',Q5)\n",
"printf ('\n rate of flow at a3 = %.3f cuses',Q6)\n",
"printf ('\n crak angle = %.1f degrees',a4)\n",
"printf ('\n crak angle = %.1f degrees',A)\n",
"\n",
"//The answer is a bit different due to rounding off error in textbook\n",
""
   ]
   }
,
{
		   "cell_type": "markdown",
		   "metadata": {},
		   "source": [
			"## Example 11.14: example_14.sce"
		   ]
		  },
  {
"cell_type": "code",
	   "execution_count": null,
	   "metadata": {
	    "collapsed": true
	   },
	   "outputs": [],
"source": [
"clear\n",
"\n",
"clc\n",
"//initialisation of variables\n",
"n= 2 //strokes/sec\n",
"dp= 6 //in\n",
"ds= 18 //in\n",
"ds1=4 //in\n",
"l= 20 //ft\n",
"l1= 20 //ft\n",
"f= 0.008\n",
"la= 5 //ft\n",
"A= 60 //r.p.m\n",
"f= 0.008\n",
"w= 62.4 //lb/ft^3\n",
"g=32.2\n",
"//CALCULATIONS\n",
"V= %pi*(ds/12)*n*(dp/12)^2/4\n",
"vmp= 2*%pi*A*(ds/24)/60\n",
"vmp1= vmp*(dp^2/ds1^2)\n",
"hfmax= 4*f*(l-la)*vmp1^2/(2*g*ds1/12)\n",
"H1= 2*hfmax/3\n",
"H2= H1*13\n",
"Wls= (H1+H2)*w*(ds/12)*%pi*(dp/12)^2*n/4\n",
"mv= V/(%pi*(ds1/12)^2/4)\n",
"lh= 4*f*(l-la)*mv^2/(2*g*(ds1/12))\n",
"lhf= 12*lh\n",
"Wls1= (lh+lhf)*w*(ds/12)*%pi*(dp/12)^2*n/4\n",
"WS= Wls-Wls1\n",
"//RESULTS\n",
"printf('Work lost per second= %.f ft lb/sec',Wls)\n",
"printf ('\n Work saved per second = %.f ft-lb/sec',WS)\n",
"\n",
"//The answer is a bit different due to rounding off error in textbook\n",
"\n",
""
   ]
   }
,
{
		   "cell_type": "markdown",
		   "metadata": {},
		   "source": [
			"## Example 11.15: ex_15.sce"
		   ]
		  },
  {
"cell_type": "code",
	   "execution_count": null,
	   "metadata": {
	    "collapsed": true
	   },
	   "outputs": [],
"source": [
"clear\n",
"clc\n",
"//initialisation of variables\n",
"d= 7.5 //in\n",
"s= 15 //in\n",
"l= 36 //ft\n",
"h1= 34 //ft\n",
"h2= 12 //ft\n",
"L= 10 //ft\n",
"g= 32.2 //ft/sec^2\n",
"f= 0.008\n",
"l1= 20 //ft\n",
"d1= 4 //in\n",
"h3= 110 //ft\n",
"w= 62.4 //lb/ft^3\n",
"l2= 180 //ft\n",
"//CALCULATIONS\n",
"Q= (%pi/4)*(d)^2*(s/12)*2*(l/60)/144\n",
"v= Q/((%pi/4)*(d1/12)^2)\n",
"a= (d/4)^2*(d/12)*(l*2*%pi/60)^2\n",
"H= h1-h2-(L*a/g)-(v^2*0.5/g)-(4*f*l1*v^2/(2*g*(d1/12)))\n",
"H1= h1+h3+(L*a/g)+(v^2*0.5/g)+(4*f*l2*v^2/(2*g*(d1/12)))\n",
"dh= (H1-H)*w/144\n",
"NP= dh*(%pi/4)*d^2\n",
"//RESULTS\n",
"printf ('Head at piston = %.2f ft of water absolute',H)\n",
"printf ('\n Head at piston = %.2f ft of water absolute',H1)\n",
"printf ('\n Difference on head of piston = %.f lb/in^2',dh)\n",
"printf ('\n Net load on piston = %.f lb',NP)\n",
"\n",
"//The answer is a bit different due to rounding off error in textbook\n",
""
   ]
   }
,
{
		   "cell_type": "markdown",
		   "metadata": {},
		   "source": [
			"## Example 11.16: example_16.sce"
		   ]
		  },
  {
"cell_type": "code",
	   "execution_count": null,
	   "metadata": {
	    "collapsed": true
	   },
	   "outputs": [],
"source": [
"\n",
"clc\n",
"//initialisation of variables\n",
"f= 0.009\n",
"dc= 3.5 //in\n",
"ds= 6 //in\n",
"r= 0.25\n",
"sl= 8 //ft\n",
"d= 2.5 //in\n",
"l= 14 //ft\n",
"el= 8 //ft\n",
"ed= 22.5 //in\n",
"ph= 4 //ft\n",
"g= 32.2 //ft/sec^2\n",
"f= 0.009\n",
"//CALCULATIONS\n",
"BC= el+l\n",
"v= sqrt(BC*g/(l*(d/2)*(r)*(dc/d)^2))*9.55\n",
"x=poly(0,'x')\n",
"vec=roots(2*x^2+(1/r)*x-1)\n",
"H= vec(2)\n",
"H1= acosd(0.225)\n",
"MV= sqrt(BC*g/(l*(d/2)*(r)*(dc/d)^2))*r*(sind(H1)+(sind(2*H1)/8))\n",
"mvp= MV*dc^2/d^2\n",
"hf= 4*f*(sl+l)*mvp^2/(2*g*(d/12))\n",
"//RESULTS\n",
"printf ('pump speed = %.1f r.p.m',v)\n",
"printf ('\n Friction head = %.3f ft',hf)"
   ]
   }
,
{
		   "cell_type": "markdown",
		   "metadata": {},
		   "source": [
			"## Example 11.1: example_1.sce"
		   ]
		  },
  {
"cell_type": "code",
	   "execution_count": null,
	   "metadata": {
	    "collapsed": true
	   },
	   "outputs": [],
"source": [
"\n",
"clc\n",
"//initialisation of variables\n",
"h= 75 //ft\n",
"e= 0.75\n",
"k= 0.01\n",
"Q= 3000 //gal/min\n",
"k1= 1.2\n",
"N= 1500\n",
"g= 32.2 //ft/sec^2\n",
"D= 0.836 //ft\n",
"//CALCULATIONS\n",
"W= h/e\n",
"v1= sqrt((W-h)/k)\n",
"Q1= Q/374.06\n",
"f1= Q1/(k1*D^2)\n",
"u1= %pi*D*N/60\n",
"w1= W*g/u1\n",
"B= atand(f1/(u1-w1))\n",
"//RESULTS\n",
"printf ('Diameter of impeller = %.3f ft ',D)\n",
"printf ('\n Blade angle at outlet edge of impeller = %.f degrees ',B)"
   ]
   }
,
{
		   "cell_type": "markdown",
		   "metadata": {},
		   "source": [
			"## Example 11.3: example_3.sce"
		   ]
		  },
  {
"cell_type": "code",
	   "execution_count": null,
	   "metadata": {
	    "collapsed": true
	   },
	   "outputs": [],
"source": [
"clear\n",
"clc\n",
"//initialisation of variables\n",
"V= 150 //ft^3/sec\n",
"A1= 750 //r.p.m\n",
"di= 21 //in\n",
"do= 30 //in\n",
"v= 50 //ft/sec\n",
"A= 70 //degrees\n",
"w= 4//in\n",
"p= 30 //per cent\n",
"p1= 25 //per cent\n",
"sv= 12.8 //ft^3/lb\n",
"g= 32.2 //ft/sec^2\n",
"//CALCULATIONS\n",
"u= A1*2*%pi*di/(24*60)\n",
"u1= A1*2*%pi*do/(24*60)\n",
"f1= V/(%pi*(do/12)*(1/3))\n",
"w1= u1-f1*cotd(A)\n",
"v1= sqrt(f1^2+w1^2)\n",
"P= (u1^2+v^2-(f1^2/(sind(A))^2))/(2*g)\n",
"h= 30*v1^2/(100*2*g)\n",
"Nh= v1^2/(20*2*g)\n",
"Prt= P+Nh\n",
"W= u1*w1/g\n",
"e= Prt*100/W\n",
"Power= Prt*V/(sv*550)\n",
"//RESULTS\n",
"printf('Total pressure rise = %.1f ft of air',Prt)\n",
"printf('\n manometric efficiency = %.1f percent',e)\n",
"printf ('\n Power = %.2f hp ',Power)\n",
"\n",
"//The answer is a bit different due to rounding off error in textbook\n",
""
   ]
   }
,
{
		   "cell_type": "markdown",
		   "metadata": {},
		   "source": [
			"## Example 11.4: ex_4.sce"
		   ]
		  },
  {
"cell_type": "code",
	   "execution_count": null,
	   "metadata": {
	    "collapsed": true
	   },
	   "outputs": [],
"source": [
"clear\n",
"clc\n",
"//initialisation of variables\n",
"g= 32.2 //ft/sec^2\n",
"u1= 90 //ft/sec\n",
"w1= 70 //ft\n",
"e= 0.8\n",
"h1= 10 //ft\n",
"h2= 16 //ft\n",
"h3= 5 //ft\n",
"k= 2/5\n",
"f1= 20 //ft/sec\n",
"f= 18 //ft/sec\n",
"a= 45 //degrees\n",
"x1= 164.4 //ft\n",
"//CALCULATIONS\n",
"Hm= u1*w1/g\n",
"Hm1= e*Hm\n",
"lh= Hm-Hm1-h1-h2-h3\n",
"vg= k*sqrt(f1^2+w1^2)\n",
"pr= ((f^2+u1^2-f1^2/(sind(a))^2)/(2*g))-h2\n",
"pr1= x1-pr\n",
"ge= pr1*g*2*100/(vg/k)^2\n",
"//RESULTS\n",
"printf ('manometer Head = %.1f ft ',Hm1)\n",
"printf ('\n outlet velocity from guides = %.1f ft/sec ',vg)\n",
"printf ('\n Pressure rise through impeller only = %.1f ft ',pr)\n",
"printf ('\n Guide balde efficiency = %.f per cent ',ge)"
   ]
   }
,
{
		   "cell_type": "markdown",
		   "metadata": {},
		   "source": [
			"## Example 11.6: example_6.sce"
		   ]
		  },
  {
"cell_type": "code",
	   "execution_count": null,
	   "metadata": {
	    "collapsed": true
	   },
	   "outputs": [],
"source": [
"clear\n",
"clc\n",
"//initialisation of variables\n",
"D1= 7.5 //in\n",
"Q1= 850 //gal/min\n",
"p1= 62.4 //lb/ft^3\n",
"N1= 1800\n",
"D2= 15 //in\n",
"Q2= 12000 //gal/min\n",
"p2= 64 //lb/ft^3\n",
"N1= 1800 //r.p.m \n",
"H1= 14 //lb/ft^2\n",
"//CALCULATIONS\n",
"N2= Q2*N1*(D1)^3/(Q1*D2^3)\n",
"P1= p1*H1/144\n",
"P2= P1*N2^2*D2^2*p2/(N1^2*p1*D1^2)\n",
"//RESULTS\n",
"printf ('N2 = %.f r.p.m ',N2+4)\n",
"printf ('\n P2 = %.f lb/in^2 ',P2)"
   ]
   }
,
{
		   "cell_type": "markdown",
		   "metadata": {},
		   "source": [
			"## Example 11.8: example_8.sce"
		   ]
		  },
  {
"cell_type": "code",
	   "execution_count": null,
	   "metadata": {
	    "collapsed": true
	   },
	   "outputs": [],
"source": [
"clc\n",
"//initialisation of variables\n",
"r= 5\n",
"//CALCULATIONS\n",
"sr= r^2\n",
"sr1= r^2/r\n",
"//RESULTS\n",
"printf ('Corresponding ratio = %.f ',sr)\n",
"printf ('\n Corresponding ratio = %.f ',sr1)"
   ]
   }
,
{
		   "cell_type": "markdown",
		   "metadata": {},
		   "source": [
			"## Example 11.9: ex_9.sce"
		   ]
		  },
  {
"cell_type": "code",
	   "execution_count": null,
	   "metadata": {
	    "collapsed": true
	   },
	   "outputs": [],
"source": [
"clear\n",
"clc\n",
"//initialisation of variables\n",
"e= 0.88\n",
"w= 1.25 //in\n",
"d= 10 //in\n",
"q= 630 //gal/min\n",
"a= 40 //degrees\n",
"g= 32.2 //ft/sec^2\n",
"e1= 0.83\n",
"//CALCULATIONS\n",
"Q= q/(6.24*60)\n",
"f1= Q/(e*%pi*(d/12)*(w/12))\n",
"u1= 1000*(w*4/12)*2*%pi/60\n",
"w1= u1-f1*cotd(a)\n",
"W= u1*w1/g\n",
"lr= (f1^2+u1^2-f1^2/(sind(a))^2)/(2*g)\n",
"mh= e1*W\n",
"p= mh-lr\n",
"v1= sqrt(f1^2+w1^2)\n",
"ke= v1^2/(2*g)\n",
"pke= p*100/ke\n",
"me= 100*lr/W\n",
"//RESULTS\n",
"printf ('Velocity of flow = %.f ft/sec',f1)\n",
"printf ('\n Work done = %.1f ft-lb/lb',W)\n",
"printf ('\n manometric efficiency = %.1f ft',mh)\n",
"printf ('\n Pressure recovered = %.1f ft head',p)\n",
"printf ('\n Kinetic energy discharge = %.f ft-lb/lb',ke)\n",
"printf ('\n Percentage of kinetic energy recovered = %.1f per cent',pke)\n",
"printf ('\n manometric efficiency = %.f per cent',me)\n",
"\n",
"//The answer is a bit different due to rounding off error in textbook\n",
""
   ]
   }
],
"metadata": {
		  "kernelspec": {
		   "display_name": "Scilab",
		   "language": "scilab",
		   "name": "scilab"
		  },
		  "language_info": {
		   "file_extension": ".sce",
		   "help_links": [
			{
			 "text": "MetaKernel Magics",
			 "url": "https://github.com/calysto/metakernel/blob/master/metakernel/magics/README.md"
			}
		   ],
		   "mimetype": "text/x-octave",
		   "name": "scilab",
		   "version": "0.7.1"
		  }
		 },
		 "nbformat": 4,
		 "nbformat_minor": 0
}
