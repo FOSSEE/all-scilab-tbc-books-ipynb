{
"cells": [
 {
		   "cell_type": "markdown",
	   "metadata": {},
	   "source": [
       "# Chapter 12: Dimensional and Model Analysis"
	   ]
	},
{
		   "cell_type": "markdown",
		   "metadata": {},
		   "source": [
			"## Example 12.1: example_1.sce"
		   ]
		  },
  {
"cell_type": "code",
	   "execution_count": null,
	   "metadata": {
	    "collapsed": true
	   },
	   "outputs": [],
"source": [
"clc\n",
"//initialisation of variables\n",
"d= 0.0625 //in\n",
"sg= 0.91\n",
"vs= 1.62\n",
"ss= 7.85\n",
"g= 981 //cm/sec^2\n",
"//CALCULATIONS\n",
"v= 4*(d*2.54/2)^2*(ss-sg)*g/(3*6*30.45*vs)\n",
"//RESULTS\n",
"printf ('steady speed attained = %.4f ft/sec ',v)"
   ]
   }
,
{
		   "cell_type": "markdown",
		   "metadata": {},
		   "source": [
			"## Example 12.3: example_3.sce"
		   ]
		  },
  {
"cell_type": "code",
	   "execution_count": null,
	   "metadata": {
	    "collapsed": true
	   },
	   "outputs": [],
"source": [
"clear\n",
"clc\n",
"//initialisation of variables\n",
"vs= 16 //ft/sec\n",
"lm= 1 //ft\n",
"l= 16 //ft\n",
"R= 9.6 //lb\n",
"ds= 64 //lb/ft^3\n",
"dm= 62.4 ///lb/ft^3\n",
"A= 40 //ft^2\n",
"//CALCULATIONS\n",
"vm= vs*sqrt(lm/l)\n",
"rs= 0.0095*vm^1.9*A\n",
"rw= R-rs\n",
"Rw= rw*ds*(l/lm)^3/dm\n",
"Rs= 0.009*vs^1.85*A*l^2\n",
"R1= Rw+Rs\n",
"//RESULTS\n",
"printf ('speed = %.f b ft/sec',vm)\n",
"printf ('\n Total resistance = %.f lb ',R1)\n",
"\n",
"//The answer is a bit different due to rounding off error in textbook\n",
""
   ]
   }
,
{
		   "cell_type": "markdown",
		   "metadata": {},
		   "source": [
			"## Example 12.4: example_4.sce"
		   ]
		  },
  {
"cell_type": "code",
	   "execution_count": null,
	   "metadata": {
	    "collapsed": true
	   },
	   "outputs": [],
"source": [
"clc\n",
"//initialisation of variables\n",
"H2= 0.75 //ft\n",
"v1= 1 //ft/sec\n",
"v2= 6 //ft/sec\n",
"k= 1.433\n",
"//CALCULATIONS\n",
"H1= H2*(v1/v2)^(2/3)\n",
"Q1= k*H1^2.47\n",
"Q2= Q1*(H2/H1)^2.5\n",
"//RESULTS\n",
"printf ('Flow = %.3f cuses ',Q2 )"
   ]
   }
,
{
		   "cell_type": "markdown",
		   "metadata": {},
		   "source": [
			"## Example 12.5: example_5.sce"
		   ]
		  },
  {
"cell_type": "code",
	   "execution_count": null,
	   "metadata": {
	    "collapsed": true
	   },
	   "outputs": [],
"source": [
"clear\n",
"clc\n",
"//initialisation of variables\n",
"nm= 360\n",
"d= 1.5 //in\n",
"n= 100 \n",
"dp= 12 //in\n",
"vm= 4.8 //ft/sec\n",
"Tm= 52 //sec\n",
"T= 16 //lb-ft\n",
"t= 133 //lb ft\n",
"//CALCULATIONS\n",
"vp= n*dp*vm/(nm*d)\n",
"Tp= Tm*dp^2*vp^2/(d^2*vm^2)\n",
"N= Tm*vm*6080*100/(T*2*%pi*nm*60)\n",
"W= Tp*vp*65000/10.67\n",
"T1= W/(N*2*%pi*n*60)-t\n",
"//RESULTS\n",
"printf ('Speed of advance = %.2f knots ',vp)\n",
"printf ('\n Thrust = %.f lb ',Tp)\n",
"printf ('\n Efficiency = %.f per cent ',N)\n",
"printf ('\n Torque = %.f lb ft ',T1)\n",
"\n",
"//The answer is a bit different due to rounding off error in textbook\n",
""
   ]
   }
,
{
		   "cell_type": "markdown",
		   "metadata": {},
		   "source": [
			"## Example 12.6: example_6.sce"
		   ]
		  },
  {
"cell_type": "code",
	   "execution_count": null,
	   "metadata": {
	    "collapsed": true
	   },
	   "outputs": [],
"source": [
"clc\n",
"//initialisation of variables\n",
"w= 62.4 //lb/ft^3\n",
"d= 4 //in\n",
"D= 0.0765 //lb/ft^3\n",
"Da= 8 //in\n",
"vw= 1/13\n",
"nw= 20\n",
"va= 13 //ft/sec\n",
"//CALCULATIONS\n",
"na= nw*va*d^2/Da^2\n",
"//RESULTS\n",
"printf ('power = %.f r.p.m ',na)"
   ]
   }
,
{
		   "cell_type": "markdown",
		   "metadata": {},
		   "source": [
			"## Example 12.7: example_7.sce"
		   ]
		  },
  {
"cell_type": "code",
	   "execution_count": null,
	   "metadata": {
	    "collapsed": true
	   },
	   "outputs": [],
"source": [
"clc\n",
"//initialisation of variables\n",
"dtp= 120 //in\n",
"dpd= 48 //in\n",
"vim= 1.25 //ft/sec\n",
"vip= 5 //ft/sec\n",
"lp = 600 //ft\n",
"lm= 40 //ft\n",
"//CALCULATIONS\n",
"Rm= (dtp/dpd)^2/((lp/lm)*(vim/vip)^2)\n",
"d= sqrt(4*Rm)\n",
"//RESULTS\n",
"printf ('Diameter = %.2f in ',d)"
   ]
   }
],
"metadata": {
		  "kernelspec": {
		   "display_name": "Scilab",
		   "language": "scilab",
		   "name": "scilab"
		  },
		  "language_info": {
		   "file_extension": ".sce",
		   "help_links": [
			{
			 "text": "MetaKernel Magics",
			 "url": "https://github.com/calysto/metakernel/blob/master/metakernel/magics/README.md"
			}
		   ],
		   "mimetype": "text/x-octave",
		   "name": "scilab",
		   "version": "0.7.1"
		  }
		 },
		 "nbformat": 4,
		 "nbformat_minor": 0
}
