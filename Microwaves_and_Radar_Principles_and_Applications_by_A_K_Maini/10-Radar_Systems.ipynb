{
"cells": [
 {
		   "cell_type": "markdown",
	   "metadata": {},
	   "source": [
       "# Chapter 10: Radar Systems"
	   ]
	},
{
		   "cell_type": "markdown",
		   "metadata": {},
		   "source": [
			"## Example 10.10: Finding_ratio_of_operating_frequencies.sce"
		   ]
		  },
  {
"cell_type": "code",
	   "execution_count": null,
	   "metadata": {
	    "collapsed": true
	   },
	   "outputs": [],
"source": [
"// Chapter 10 example 10\n",
"//------------------------------------------------------------------------------\n",
"clc;\n",
"clear;\n",
"//Given data\n",
"disp('Let the operating frequency of first radar = f1');\n",
"disp('Let the operating frequency of second radar = f2');\n",
"disp('Third blind speed of Radar = (3*c/(2*f1)')\n",
"disp('fifth blind speed of Radar = (5*c/(2*f1)')\n",
"disp('(3*c/(2*f1) = (5*c/(2*f1)');\n",
"disp('(f1/f2) = 3/5')"
   ]
   }
,
{
		   "cell_type": "markdown",
		   "metadata": {},
		   "source": [
			"## Example 10.11: Finding_Apparent_Range.sce"
		   ]
		  },
  {
"cell_type": "code",
	   "execution_count": null,
	   "metadata": {
	    "collapsed": true
	   },
	   "outputs": [],
"source": [
"// Chapter 10 example 11\n",
"//------------------------------------------------------------------------------\n",
"clc;\n",
"clear;\n",
"//Given data\n",
"R       = 100;          // Range in kms\n",
"PRR     = 10*10^3;      // pulse rep. rate in Hz\n",
"c       = 3*10^5;       // vel. in km/s\n",
"\n",
"// Calculations\n",
"PRI     = 1/PRR        // pulse rep. interval\n",
"Ra      = modulo(R,(c*PRI/2));      // apparent range in km\n",
"\n",
"// Output\n",
"mprintf('Apparent Range = %d Km\n',Ra);\n",
"//------------------------------------------------------------------------------"
   ]
   }
,
{
		   "cell_type": "markdown",
		   "metadata": {},
		   "source": [
			"## Example 10.12: Finding_true_range.sce"
		   ]
		  },
  {
"cell_type": "code",
	   "execution_count": null,
	   "metadata": {
	    "collapsed": true
	   },
	   "outputs": [],
"source": [
"// Chapter 10 example 12\n",
"//------------------------------------------------------------------------------\n",
"clc;\n",
"clear;\n",
"//Given data\n",
"Ra      = 25;       // Apparent Range in km\n",
"PRF     = 2000;     // Pulse rep. freq.\n",
"c       = 3*10^5;   // vel. of EM waves in km/s\n",
"Nr      = 3;        // Range zone\n",
"\n",
"// Calculations\n",
"R       = Ra + ((c/2)*((Nr - 1)/PRF))    // true range in km\n",
"\n",
"// Output\n",
"mprintf('True Range of the target = %d Km',R);\n",
"//------------------------------------------------------------------------------"
   ]
   }
,
{
		   "cell_type": "markdown",
		   "metadata": {},
		   "source": [
			"## Example 10.13: Estimating_true_range.sce"
		   ]
		  },
  {
"cell_type": "code",
	   "execution_count": null,
	   "metadata": {
	    "collapsed": true
	   },
	   "outputs": [],
"source": [
"// Chapter 10 example 13\n",
"//------------------------------------------------------------------------------\n",
"clc;\n",
"clear;\n",
"//Given data\n",
"PRF_1   = 750;      // pulse rep. freq in Hz\n",
"PRF_2   = 1000;     // pulse rep. freq in Hz\n",
"PRF_3   = 1250;     // pulse rep. freq in Hz\n",
"Ra_1    = 100;      // Apparent range for PRF_1\n",
"Ra_2    = 50;       // Apparent range for PRF_2\n",
"Ra_3    = 20;       // Apparent range for PRF_3\n",
"c       = 3*10^5;   // Vel of EM waves in Km/s\n",
"\n",
"// Calculations\n",
"for Nr = 1:6         // Nr = Radar Zones\n",
"    R1(Nr)       = Ra_1 + ((c/2)*((Nr - 1)/PRF_1))    // true range in km\n",
"     R2(Nr)       = Ra_2 + ((c/2)*((Nr - 1)/PRF_2))    // true range in km\n",
"      R3(Nr)       = Ra_3 + ((c/2)*((Nr - 1)/PRF_3))    // true range in km\n",
"end\n",
"\n",
"// Output\n",
"mprintf('Possible True Range measurements for 750 PPS\n');\n",
"mprintf(' = %dkm \n',R1);\n",
"mprintf('Possible True Range measurements for 1000 PPS\n')\n",
"mprintf(' = %dkm \n',R2);\n",
"mprintf('Possible True Range measurements for 1250 PPS\n')\n",
"mprintf(' = %dkm \n',R3);\n",
"mprintf('The shortest possible range that has been measured at all PRFs is %d Km True Range = %d km',R1(3),R1(3))\n",
"   "
   ]
   }
,
{
		   "cell_type": "markdown",
		   "metadata": {},
		   "source": [
			"## Example 10.14: Finding_compression_ratio_and_width_of_compressed_pulse.sce"
		   ]
		  },
  {
"cell_type": "code",
	   "execution_count": null,
	   "metadata": {
	    "collapsed": true
	   },
	   "outputs": [],
"source": [
"// Chapter 10 example 14\n",
"//------------------------------------------------------------------------------\n",
"clc;\n",
"clear;\n",
"//Given data\n",
"Te      = 4      // Expanded pulse width in usec\n",
"f1      = 50     // RF freq in Mhz\n",
"f2      = 70     // RF freq in Mhz\n",
"\n",
"// Calculations\n",
"B       = f2 - f1;      // Signal bandwidth\n",
"Tc      = 1/B;          // Compressed pulse width in us\n",
"CR      = Te/Tc         // compression ratio\n",
"\n",
"// Output\n",
"mprintf('Compression Ratio = %d\n Width of compressed pulse = %3.2f us',CR,Tc);\n",
"//-------------------------------------------------------------------------------"
   ]
   }
,
{
		   "cell_type": "markdown",
		   "metadata": {},
		   "source": [
			"## Example 10.15: Finding_synthesised_aperture_and_cross_range_resolution.sce"
		   ]
		  },
  {
"cell_type": "code",
	   "execution_count": null,
	   "metadata": {
	    "collapsed": true
	   },
	   "outputs": [],
"source": [
"// Chapter 10 example 15\n",
"//------------------------------------------------------------------------------\n",
"clc;\n",
"clear;\n",
"//Given data\n",
"f       = 10*10^9;      // operating freq in Hz\n",
"c       = 3*10^8;       // vel. of EM waves in m/s\n",
"Ae      = 2;            // Antenna aperture in m\n",
"R       = 10*10^3;      // Target Range in m\n",
"\n",
"// Calculations\n",
"lamda   = c/f;          // Wavelength in m\n",
"bw3db   = lamda/2;      // 3dB beamwidth in radian\n",
"Leff    = bw3db * R;    // effective length\n",
"Xs      = (R*lamda)/(2*Leff);   // Cross range resolution\n",
"\n",
"// Output\n",
"mprintf('Effective Length = %d m\n',Leff);\n",
"mprintf('Cross range resolution = %d m',Xs);\n",
"//------------------------------------------------------------------------------"
   ]
   }
,
{
		   "cell_type": "markdown",
		   "metadata": {},
		   "source": [
			"## Example 10.16: Finding_round_trip_time.sce"
		   ]
		  },
  {
"cell_type": "code",
	   "execution_count": null,
	   "metadata": {
	    "collapsed": true
	   },
	   "outputs": [],
"source": [
"// Chapter 10 example 16\n",
"//------------------------------------------------------------------------------\n",
"clc;\n",
"clear;\n",
"//Given data\n",
"R       = 6000;     // Target Range\n",
"c       = 3*10^8;   // speed of light in m/s\n",
"\n",
"// Calculations\n",
"t       = (2*R)/c;  // round trip time\n",
"\n",
"// Output\n",
"mprintf('Round Trip time = %d us',t/10^-6);\n",
"//------------------------------------------------------------------------------"
   ]
   }
,
{
		   "cell_type": "markdown",
		   "metadata": {},
		   "source": [
			"## Example 10.17: Finding_doppler_shift.sce"
		   ]
		  },
  {
"cell_type": "code",
	   "execution_count": null,
	   "metadata": {
	    "collapsed": true
	   },
	   "outputs": [],
"source": [
"// Chapter 10 example 17\n",
"//------------------------------------------------------------------------------\n",
"clc;\n",
"clear;\n",
"//Given data\n",
"v       = 250;      // velocity in m/s\n",
"lamda   = 10.6*10^-6 // operating wavelength\n",
"theta   = 60;        // angle of depression\n",
"\n",
"// Calculations\n",
"Vr      = v*cos(theta*%pi/180);     // radial velocity\n",
"fd      = (2*Vr)/lamda;             // doppler shift\n",
"\n",
"// Output\n",
"mprintf('Doppler Shift = %3.2f Mhz',fd*10^-6);\n",
"//------------------------------------------------------------------------------"
   ]
   }
,
{
		   "cell_type": "markdown",
		   "metadata": {},
		   "source": [
			"## Example 10.18: Finding_Range_Resolution.sce"
		   ]
		  },
  {
"cell_type": "code",
	   "execution_count": null,
	   "metadata": {
	    "collapsed": true
	   },
	   "outputs": [],
"source": [
"// Chapter 10 example 18\n",
"//------------------------------------------------------------------------------\n",
"clc;\n",
"clear;\n",
"//Given data\n",
"B       = 10^6;     // Bandwidth in Mhz\n",
"c       = 3*10^8;   // speed of light in m/s\n",
"\n",
"// Calculations\n",
"RR      = c/(2*B);  // Range Resolution in m\n",
"\n",
"// Output\n",
"mprintf('Range Resolution = %d m\n',RR);\n",
"//------------------------------------------------------------------------------"
   ]
   }
,
{
		   "cell_type": "markdown",
		   "metadata": {},
		   "source": [
			"## Example 10.1: Finding_Target_range.sce"
		   ]
		  },
  {
"cell_type": "code",
	   "execution_count": null,
	   "metadata": {
	    "collapsed": true
	   },
	   "outputs": [],
"source": [
"// Chapter 10 example 1\n",
"//------------------------------------------------------------------------------\n",
"clc;\n",
"clear;\n",
"c       = 3*10^8;           // velocity of EM waves in m/s\n",
"f       = 10*10^9;          // carrier freq in Hz\n",
"fm      = 100;              // freq of modlating signal\n",
"dphi    = 10;               // separation b/w tx FM signal and demod echo signal in degrees\n",
"\n",
"// Calculations\n",
"Tp      = dphi/(360*fm);    // round trip propagation time\n",
"R       = (c*Tp)/2;         // target range\n",
"\n",
"// output\n",
"mprintf('Target Range = %3.2f Km',R/1000);\n",
"//------------------------------------------------------------------------------"
   ]
   }
,
{
		   "cell_type": "markdown",
		   "metadata": {},
		   "source": [
			"## Example 10.2: Finding_Target_Range_and_Radial_velocity.sce"
		   ]
		  },
  {
"cell_type": "code",
	   "execution_count": null,
	   "metadata": {
	    "collapsed": true
	   },
	   "outputs": [],
"source": [
"// Chapter 10 example 1\n",
"//------------------------------------------------------------------------------\n",
"clc;\n",
"clear;\n",
"f       = 10*10^9;          // center freq. in Hz\n",
"f_us    = 60*10^3;          // upsweep freq. in Hz\n",
"f_ds    = 80*10^3;          // down sweep freq. in Hz\n",
"fm      = 100;              // modulation freq. in Hz\n",
"B       = 2*10^6;           // sweep bandwidth in Hz\n",
"c       = 3*10^8;           // vel. of EM waves in m/s\n",
"T       = 5*10^-3;\n",
"\n",
"// Calculations\n",
"fd      = (f_ds - f_us)/2;      \n",
"df      = (f_ds + f_us)/2; \n",
"R       = (c*T*df)/(2*B);       // range in m\n",
"// fd   = (2*Vr*f)/c\n",
"Vr      = (c*fd)/(2*f);         // target radial velocity\n",
"Vr_kmph = Vr*(18/5);            // target radial velocity in kmph\n",
"Vr_nmph = Vr_kmph/1.85;         // target radial velocity in Nautical miles per hour\n",
"\n",
"// Output\n",
"mprintf('Target Range = %3.2f Km\n Radial velocity = %3.1f Nmi/hr',R/1000,Vr_nmph);\n",
"//-----------------------------------------------------------------------------"
   ]
   }
,
{
		   "cell_type": "markdown",
		   "metadata": {},
		   "source": [
			"## Example 10.3: Finding_error_in_doppler_shift_measurement.sce"
		   ]
		  },
  {
"cell_type": "code",
	   "execution_count": null,
	   "metadata": {
	    "collapsed": true
	   },
	   "outputs": [],
"source": [
"// Chapter 10 example 3\n",
"//------------------------------------------------------------------------------\n",
"clc;\n",
"clear;\n",
"Vr = 150\n",
"c  = 3*10^8\n",
"df1= 10^6;\n",
"// Given data\n",
"// fd   = (2*Vr)/lamda  = (2*Vr*f)/c\n",
"// for 'Vr' and 'c' as constant(for a given radial velocity,Vr is constant)\n",
"// fd   = K.f where 'f' is the operating frequency and K = (2*Vr)/c\n",
"// Therefore df = ± 1 Mhz around the center frequency\n",
"k = (2*Vr)/c\n",
"df_d = df1*k\n",
"\n",
"// Output\n",
"mprintf('Doppler shift due to carrier frequency sweep = ±%d Hz',df_d);\n",
"//------------------------------------------------------------------------------"
   ]
   }
,
{
		   "cell_type": "markdown",
		   "metadata": {},
		   "source": [
			"## Example 10.4: Finding_Range_and_radial_velocity.sce"
		   ]
		  },
  {
"cell_type": "code",
	   "execution_count": null,
	   "metadata": {
	    "collapsed": true
	   },
	   "outputs": [],
"source": [
"// Chapter 10 example 4\n",
"//------------------------------------------------------------------------------\n",
"clc;\n",
"clear;\n",
"\n",
"// Given data\n",
"f       = 10*10^9;          // operating frequency in Hz\n",
"f_us    = 100*10^3;         // upsweep freq\n",
"f_ds    = 100*10^3;         // downsweep freq\n",
"Tus     = 5*10^-3;          // up-sweep period\n",
"Tds     = 5*10^-3;          // down-sweep period\n",
"T       = 10*10^-3           \n",
"B       = 10*10^6;          // sweep bandwidth\n",
"c       = 3*10^8;           // vel of EM waves in m/s\n",
"f_us_b  = 80*10^3;          // upsweep freq in fig b\n",
"f_ds_b  = 50*10^3;          // downsweep freq in fig b\n",
"f_us_c  = 50*10^3;          // upsweep freq in fig b\n",
"f_ds_c  = 80*10^3;          // downsweep freq in fig b\n",
"\n",
"// Calculations\n",
"// a\n",
"fd      = (f_us - f_ds)/2;      // doppler shift\n",
"df      = (f_us + f_ds)/2;      // freq diff\n",
"Vr_a    = (c*fd)/(2*f);         // radial velocity\n",
"R       = (c*Tus*df)/(2*B);       // Range\n",
"if Vr_a == 0 then\n",
"    mprintf('Case a:\n Radial velocity = %d \n Range = %3.3f Km\n',Vr_a,R/1000);\n",
"end\n",
"// b\n",
"fd      = (f_us_b - f_ds_b)/2;      // doppler shift\n",
"df_b    = (f_us_b + f_ds_b)/2;      // freq difference due to range\n",
"R_b     = (c*T*df_b)/(2*B);       // Range\n",
"Vr_b    = (c*fd)/(2*f);         // radial velocity\n",
"mprintf(' Case b:\n Radial velocity = %3.2fm/s \n Range = %3.3f Km\n',Vr_b,R_b/1000');\n",
"mprintf(' As the up-sweep frequency difference is less than downspeed freq diff, this implies that doppler shift is\n contributing towards an increase in the echo signal freq. so, target is moving towards radar\n')\n",
"// c\n",
"fd      = (f_us_c - f_ds_c)/2;      // doppler shift\n",
"df_c    = (f_us_c + f_ds_c)/2;      // freq difference due to range\n",
"R_c     = (c*T*df_c)/(2*B);       // Range\n",
"Vr_c    = (c*fd)/(2*f);         // radial velocity\n",
"mprintf(' Case c:\n Radial velocity = %3.2f m/s \n Range = %3.3f Km\n',abs(Vr_c),R_c/1000');\n",
"mprintf(' As the up-sweep frequency difference is greater than downspeed freq diff, this implies that doppler shift is\n contributing towards an decrease in the echo signal freq. so, target is moving away from radar')"
   ]
   }
,
{
		   "cell_type": "markdown",
		   "metadata": {},
		   "source": [
			"## Example 10.5: Finding_radial_velocity.sce"
		   ]
		  },
  {
"cell_type": "code",
	   "execution_count": null,
	   "metadata": {
	    "collapsed": true
	   },
	   "outputs": [],
"source": [
"// Chapter 10 example 5\n",
"//------------------------------------------------------------------------------\n",
"clc;\n",
"clear;\n",
"\n",
"// Given data\n",
"f       = 10*10^9;          // operating freq in Hz\n",
"PRF     = 1000;             // pulse rep. rate\n",
"Vr      = 1000;             // radial velocity\n",
"c       = 3*10^8;           // vel. of EM waves in m/s\n",
"\n",
"// Calculations\n",
"fd      = (2*Vr*f)/c        // true doppler shift\n",
"fA1     = modulo( modulo(fd,PRF)-PRF,PRF)\n",
"fA2     = modulo( modulo(fd,PRF)+PRF,PRF)\n",
"if fA1 < fA2 then\n",
"    fd  = fA1;         // apparent doppler shift\n",
"else\n",
"    fd  = fA2;         // apparent doppler shift\n",
"end\n",
"Vr      = (c*fd)/(2*f);     // radial velocity in m/s\n",
"\n",
"//output\n",
"mprintf('Radial velocity = %3.2f m/s\n The radar measures the target to be moving away from the radial velocity at %3.2f m/s though in reality\n it is moving towards the radar with a velocity of 1000 m/s',Vr,abs(Vr));\n",
"//------------------------------------------------------------------------------"
   ]
   }
,
{
		   "cell_type": "markdown",
		   "metadata": {},
		   "source": [
			"## Example 10.9: Finding_lowest_blind_speed.sce"
		   ]
		  },
  {
"cell_type": "code",
	   "execution_count": null,
	   "metadata": {
	    "collapsed": true
	   },
	   "outputs": [],
"source": [
"// Chapter 10 example 9\n",
"//------------------------------------------------------------------------------\n",
"clc;\n",
"clear;\n",
"//Given data\n",
"lamda   = 3*10^-2;      // Operating Wavelength in m\n",
"PRF     = 2000;         // pulse rep. freq in Hz\n",
"n       = 1;            // for lowest blind speed\n",
"\n",
"// Calculations\n",
"LBS     = (n*lamda*PRF)/2; // lowest blind speed\n",
"Vb_kmph = LBS*(18/5)       // lowest blind speed in kmph\n",
"\n",
"// Output\n",
"mprintf('Lowest Blind speed = %d Kmph',Vb_kmph)\n",
"//------------------------------------------------------------------------------\n",
""
   ]
   }
],
"metadata": {
		  "kernelspec": {
		   "display_name": "Scilab",
		   "language": "scilab",
		   "name": "scilab"
		  },
		  "language_info": {
		   "file_extension": ".sce",
		   "help_links": [
			{
			 "text": "MetaKernel Magics",
			 "url": "https://github.com/calysto/metakernel/blob/master/metakernel/magics/README.md"
			}
		   ],
		   "mimetype": "text/x-octave",
		   "name": "scilab",
		   "version": "0.7.1"
		  }
		 },
		 "nbformat": 4,
		 "nbformat_minor": 0
}
