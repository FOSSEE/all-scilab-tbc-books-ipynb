{
"cells": [
 {
		   "cell_type": "markdown",
	   "metadata": {},
	   "source": [
       "# Chapter 6: Semiconductor Microwave Devices and Integrated Circuits"
	   ]
	},
{
		   "cell_type": "markdown",
		   "metadata": {},
		   "source": [
			"## Example 6.10: Finding_mobility_values.sce"
		   ]
		  },
  {
"cell_type": "code",
	   "execution_count": null,
	   "metadata": {
	    "collapsed": true
	   },
	   "outputs": [],
"source": [
"// Chapter 6 example 10\n",
"//------------------------------------------------------------------------------\n",
"clc;\n",
"clear;\n",
"// Given data from graph\n",
"up  = (2*10^7)/3000;                // mobility of diode in positive conductance region\n",
"un  = (2*10^7 - 10^7)/((10-3)*10^3); // mobility of diode in negative conductance region\n",
"\n",
"// Output\n",
"mprintf('mobility of diode in positive conductance region = %d cm^2/V-s\n mobility of diode in negative conductance region = %3.0f cm^2/V-s',up,un);\n",
"//------------------------------------------------------------------------------"
   ]
   }
,
{
		   "cell_type": "markdown",
		   "metadata": {},
		   "source": [
			"## Example 6.11: Finding_electric_field_and_punch_through_voltage.sce"
		   ]
		  },
  {
"cell_type": "code",
	   "execution_count": null,
	   "metadata": {
	    "collapsed": true
	   },
	   "outputs": [],
"source": [
"// Chapter 6 example 11\n",
"//------------------------------------------------------------------------------\n",
"clc;\n",
"clear;\n",
"// Given data\n",
"e       = 1.6*10^-19;   // charge of electron\n",
"Nd      = 10^15*10^6;   // mobility\n",
"L       = 10*10^-6;     // active layer of Barritt diode\n",
"er      = 12.5          // relative permitivity\n",
"eo      = 8.85*10^-12;  // permitivity in F/cm\n",
"\n",
"// calculations\n",
"Ex      = (e*Nd*L)/(2*eo*er) // electric field for Va = Vpt and x = L/2\n",
"E       = Ex/10^2;           // electric field in v/cm\n",
"Vpt     = 10*10^-4*E\n",
"\n",
"// Output\n",
"mprintf('Electric field E(x) = %3.0f KV/cm\n Punch through voltage = %3.0f Volts',E/1000,Vpt);\n",
"//------------------------------------------------------------------------------"
   ]
   }
,
{
		   "cell_type": "markdown",
		   "metadata": {},
		   "source": [
			"## Example 6.12: Finding_Hfe.sce"
		   ]
		  },
  {
"cell_type": "code",
	   "execution_count": null,
	   "metadata": {
	    "collapsed": true
	   },
	   "outputs": [],
"source": [
"// Chapter 6 example 12\n",
"//------------------------------------------------------------------------------\n",
"clc;\n",
"clear;\n",
"// Given data\n",
"fT      = 10;       // ft specification of BJT\n",
"f_a     = 2;        // operating freq in Ghz case a\n",
"f_b     = 10;       // operating freq in Ghz case b\n",
"\n",
"// calculations\n",
"hFE_a   = fT/f_a;     \n",
"hFE_b   = fT/f_b;\n",
"\n",
"// Output\n",
"mprintf('case a:\n  hFE = %d\n case b:\n  hFE = %d\n',hFE_a,hFE_b);\n",
"//------------------------------------------------------------------------------    "
   ]
   }
,
{
		   "cell_type": "markdown",
		   "metadata": {},
		   "source": [
			"## Example 6.13: Finding_dielectric_relaxation_time.sce"
		   ]
		  },
  {
"cell_type": "code",
	   "execution_count": null,
	   "metadata": {
	    "collapsed": true
	   },
	   "outputs": [],
"source": [
"// Chapter 6 example 13\n",
"//------------------------------------------------------------------------------\n",
"clc;\n",
"clear;\n",
"// Given data\n",
"n       = 10^15;        // doping concentration in /cm^3\n",
"er      = 15;           // relative permitivity\n",
"eo      = 8.85*10^-14;  // permitivity in F/cm\n",
"e       = 1.6*10^-19;   // charge of electron\n",
"sigma   = 133*10^-2;    // conductivity in ohm/cm\n",
"\n",
"// calculations\n",
"Td      = (eo*er)/sigma    // dielectric relaxation time constant\n",
"u       = sigma/(n*e)      // mobility\n",
"\n",
"// Output\n",
"mprintf('Dielectric relaxation time constant = %3.0f ps\n Carrier Mobility = %d cm^2/V-s\n',Td*10^12,u );\n",
"//------------------------------------------------------------------------------"
   ]
   }
,
{
		   "cell_type": "markdown",
		   "metadata": {},
		   "source": [
			"## Example 6.14: Finding_frequency.sce"
		   ]
		  },
  {
"cell_type": "code",
	   "execution_count": null,
	   "metadata": {
	    "collapsed": true
	   },
	   "outputs": [],
"source": [
"// Chapter 6 example 14\n",
"//------------------------------------------------------------------------------\n",
"clc;\n",
"clear;\n",
"// Given data\n",
"gm      = 50*10^-3;       // conductance in mho\n",
"cgs     = 0.6*10^-12;    // gate to source capacitance\n",
"cgd     = 0.015*10^-12;  // gate to drain capacitance\n",
"Rg      = 3;             // gate resistance in ohm\n",
"Rs      = 2;             // source resistance in ohm\n",
"Ri      = 2.5;           // intrinsic channel resistance\n",
"Rds     = 400;           // drain to source resistance\n",
"\n",
"// Calculations\n",
"fT      = gm/(2*%pi*cgs);   // device's fT\n",
"t3      = 2*%pi*Rg*cgd;\n",
"r1      = (Rg+Rs+Ri)/Rds;\n",
"fmax    = fT/(2*sqrt(r1 + (fT*t3)));    // max usable frequency\n",
"if fmax>40*10^9 then\n",
"    mprintf('Operation at 40 GHz is Theoretically possible\n');\n",
"end\n",
"\n",
"// Output\n",
"mprintf(' fT = %3.1f Ghz\n fmax = %3.1f',fT/10^9,fmax/10^9 )"
   ]
   }
,
{
		   "cell_type": "markdown",
		   "metadata": {},
		   "source": [
			"## Example 6.15: Finding_power_gain.sce"
		   ]
		  },
  {
"cell_type": "code",
	   "execution_count": null,
	   "metadata": {
	    "collapsed": true
	   },
	   "outputs": [],
"source": [
"// Chapter 6 example 15\n",
"//------------------------------------------------------------------------------\n",
"clc;\n",
"clear;\n",
"// Given data\n",
"f2      = 20;       // pump frequency in GHz\n",
"f1      = 2;        // signal frequency in GHz\n",
"\n",
"// Calculations\n",
"Gp      = (f1+f2)/f1;       // power gain if parametric amp. operated as USB up-converter\n",
"Gp_dB   = 10*log10(Gp);     // power gain in dB\n",
"Gp_lsb  = (f2-f1)/f1;       // power gain if parametric amp. operated as LSB up-converter\n",
"Gp_db_lsb = 10*log10(Gp_lsb )// power gain in dB\n",
"\n",
"// output\n",
"mprintf('Power gain of parametric amplifier when operated as USB up-converter = %3.1f dB\n Power gain of parametric amplifier when operated as LSB up-converter = %3.1f dB',Gp_dB,Gp_db_lsb)\n",
"//------------------------------------------------------------------------------"
   ]
   }
,
{
		   "cell_type": "markdown",
		   "metadata": {},
		   "source": [
			"## Example 6.16: Finding_output_laser_wavelength.sce"
		   ]
		  },
  {
"cell_type": "code",
	   "execution_count": null,
	   "metadata": {
	    "collapsed": true
	   },
	   "outputs": [],
"source": [
"// Chapter 6 example 16\n",
"//------------------------------------------------------------------------------\n",
"clc;\n",
"clear;\n",
"// Given data\n",
"h       = 6.63*10^-34;      // planck's constant in Joule-sec\n",
"el      = 0.25;             // lower energy level in eV from energy level diag.\n",
"eh      = 1.5;              // higher energy level in eV from energy level diag.\n",
"e       = 1.6*10^-19;      // charge of electron\n",
"c       = 3*10^8;          // vel. of light in m/s\n",
"\n",
"// calculations\n",
"hf      = (eh - el)*e             // energy diff b/w two levels in J\n",
"f       = hf/h;                   // frequency\n",
"lamda   = c/f                     // o/p laser wavelength in m\n",
"\n",
"// Output\n",
"mprintf('Output laser wavelength = %3.0e m or%3.0f µm ',lamda,lamda*10^6)"
   ]
   }
,
{
		   "cell_type": "markdown",
		   "metadata": {},
		   "source": [
			"## Example 6.17: Finding_resistance.sce"
		   ]
		  },
  {
"cell_type": "code",
	   "execution_count": null,
	   "metadata": {
	    "collapsed": true
	   },
	   "outputs": [],
"source": [
"// Chapter 6 example 17\n",
"//------------------------------------------------------------------------------\n",
"clc;\n",
"clear;\n",
"// Given data\n",
"p   = 0.1*10^-2;        // resistivity in ohm-m\n",
"t   = 100*10^-6;        // thickness in m\n",
"AR  = 10/1;             // aspect ratio\n",
"\n",
"// Calculations\n",
"ps  = p/t\n",
"R   = ps*AR;            // Resistance in ohm\n",
"\n",
"// Output\n",
"mprintf('Resistance = %d Ω',R);\n",
"//-----------------------------------------------------------------------------"
   ]
   }
,
{
		   "cell_type": "markdown",
		   "metadata": {},
		   "source": [
			"## Example 6.18: Finding_sheet_resistivity_and_Resistance.sce"
		   ]
		  },
  {
"cell_type": "code",
	   "execution_count": null,
	   "metadata": {
	    "collapsed": true
	   },
	   "outputs": [],
"source": [
"// Chapter 6 example 18\n",
"//------------------------------------------------------------------------------\n",
"clc;\n",
"clear;\n",
"// Given data from fig\n",
"R_a = 1000;     // resistance shown in fig a\n",
"W1  = 0.15*10^-3 // width of geometry fig 6.72a\n",
"L1  = 3*10^-3    // Length of geometry fig 6.72a\n",
"W2  = 75*10^-6   // width of geometry fig 6.72b\n",
"L2  = 1500*10^-6 // Length of geometry fig 6.72b\n",
"t1  = 10*10^-6   // thickness of geometry fig 6.72a\n",
"t2  = 20*10^-6   // thickness of geometry fig 6.72b\n",
"\n",
"//R1  = ρs1*(L1/W1)  // resistor geometry of fig 6.72a\n",
"//ρs1 = (R1*W1)/L1 \n",
"ps1   = (R_a*W1)/L1  // sheet resistivity of geometry of fig 6.72a\n",
"p     = ps1*t1;     // resistivity\n",
"ps2   = p/t2;       // sheet resistivity of geometry of fig 6.72b\n",
"R2    = ps2*(L2/W2); // resistance of geometry of fig 6.72b\n",
"\n",
"// Output\n",
"mprintf('For Geometry in Fig 6.72b\n sheet resistivity = %3.0f Ω/□\n Resistance = %d Ω',ps2,R2)\n",
"//------------------------------------------------------------------------------"
   ]
   }
,
{
		   "cell_type": "markdown",
		   "metadata": {},
		   "source": [
			"## Example 6.19: Finding_capacitance.sce"
		   ]
		  },
  {
"cell_type": "code",
	   "execution_count": null,
	   "metadata": {
	    "collapsed": true
	   },
	   "outputs": [],
"source": [
"// Chapter 6 example 19\n",
"//------------------------------------------------------------------------------\n",
"clc;\n",
"clear;\n",
"// Given data\n",
"A       = 100*100*10^-12;       // Area of electrode\n",
"er      = 9.6;                  // relative permitivity\n",
"t       = 500*10^-6;            // substrate thickness\n",
"eo      = 8.85*10^-12;          // permitivity\n",
"// Calculations\n",
"C       = (eo*er*A)/t;            // capacitance in farad\n",
"\n",
"// Output\n",
"mprintf('Capacitance = %3.2e pF',C*10^12);\n",
"//------------------------------------------------------------------------------"
   ]
   }
,
{
		   "cell_type": "markdown",
		   "metadata": {},
		   "source": [
			"## Example 6.1: proof.sce"
		   ]
		  },
  {
"cell_type": "code",
	   "execution_count": null,
	   "metadata": {
	    "collapsed": true
	   },
	   "outputs": [],
"source": [
"// Chapter 6 example 1\n",
"//------------------------------------------------------------------------------\n",
"clc;\n",
"clear;\n",
"// Given data\n",
"gs      = 0.0025;       // output conductance in mho\n",
"gl      = 0.0025;       // load conductance\n",
"r       = -250;         // negative resistance of microwave device\n",
"\n",
"// calculations\n",
"\n",
"//  P1  = Vl^2 *gl          // power that is transferred to load\n",
"//  P   = Vl^2 *gs          // source is matched to load\n",
"//  P   = [Is/(gl+gs)]^2 *gs\n",
"//      = ((Is^2)/(4*gs^2))*gs \n",
"//      = (Is^2)/(4*gl)\n",
"//  P2  = Vl^2 *gl          // Load power\n",
"//      = [Is/(gs+gl-g)]^2 *gl\n",
"//      = (Is^2 *gl)/(2gl - g)^2\n",
"// P2/P1 = ((Is^2 *gl)/(2gl - g)^2)*(4*gl)/(Is^2)\n",
"//       = (4*gl^2)/(2gl - g)^2;\n",
"//       = (4*gl^2)/(4gl^2 + g(g-4gl))\n",
"// For P2/P1 > 1 , 4gl > g so that denominator is less than numerator \n",
"g       = 1/r\n",
"// let k = P2/P1\n",
"k       = (4*gl*gl)/((2*gs)+ g)^2\n",
"\n",
"// output\n",
"    mprintf('Power gain = %d',k);\n",
""
   ]
   }
,
{
		   "cell_type": "markdown",
		   "metadata": {},
		   "source": [
			"## Example 6.20: Semiconductor_Microwave_Devices_and_Integrated_Circuits.sce"
		   ]
		  },
  {
"cell_type": "code",
	   "execution_count": null,
	   "metadata": {
	    "collapsed": true
	   },
	   "outputs": [],
"source": [
"// Chapter 6 example 20\n",
"//------------------------------------------------------------------------------\n",
"clc;\n",
"clear;\n",
"// Given data\n",
"ps      = 100;      // sheet resistivity\n",
"L       = 1.04      // length\n",
"W       = 0.02      // width\n",
"\n",
"// Calculations\n",
"NOS     = L/W        // number of squares\n",
"R       = ps * NOS   // resistance\n",
"\n",
"// Output\n",
"mprintf('Resistance = %3.1f KΩ',R/1000);\n",
"//------------------------------------------------------------------------------ "
   ]
   }
,
{
		   "cell_type": "markdown",
		   "metadata": {},
		   "source": [
			"## Example 6.2: Finding_max_negative_differential_conductance.sce"
		   ]
		  },
  {
"cell_type": "code",
	   "execution_count": null,
	   "metadata": {
	    "collapsed": true
	   },
	   "outputs": [],
"source": [
"// Chapter 6 example 2\n",
"//------------------------------------------------------------------------------\n",
"clc;\n",
"clear;\n",
"// Given data\n",
"Rl      = 500;      // load resistance\n",
"\n",
"// Calculations\n",
"gl      = 1/Rl;     // load conductance\n",
"gmax    = 4*gl;     // max negative diff. conductance\n",
"\n",
"// Output\n",
"mprintf('gmax = %3.3f mho',gmax);\n",
"//------------------------------------------------------------------------------"
   ]
   }
,
{
		   "cell_type": "markdown",
		   "metadata": {},
		   "source": [
			"## Example 6.3: Finding_operational_frequency.sce"
		   ]
		  },
  {
"cell_type": "code",
	   "execution_count": null,
	   "metadata": {
	    "collapsed": true
	   },
	   "outputs": [],
"source": [
"// Chapter 6 example 3\n",
"//------------------------------------------------------------------------------\n",
"clc;\n",
"clear;\n",
"// Given data\n",
"L       = 10*10^-6;     // width of N-region\n",
"Vs      = 10^5;         // saturated vel. of carriers\n",
"\n",
"// Calculations\n",
"fo      = (3*Vs)/(4*L);     // oscillation frequency\n",
"\n",
"// output\n",
"mprintf('Operational frequency = %3.1f Ghz\n',fo/10^9);\n",
"mprintf(' Note: In textbook it is wrongly printed as 6.5 Ghz')\n",
"//------------------------------------------------------------------------------"
   ]
   }
,
{
		   "cell_type": "markdown",
		   "metadata": {},
		   "source": [
			"## Example 6.4: finding_unity_gain_cutoff_frequency.sce"
		   ]
		  },
  {
"cell_type": "code",
	   "execution_count": null,
	   "metadata": {
	    "collapsed": true
	   },
	   "outputs": [],
"source": [
"// Chapter 6 example 4\n",
"//------------------------------------------------------------------------------\n",
"clc;\n",
"clear;\n",
"// Given data\n",
"L       = 10^-6;        // gate length\n",
"Vs      = 10^5;         // saturation velocity in m/s\n",
"\n",
"// calculations\n",
"fT      = Vs/(2*%pi*L); // cut-off freq.\n",
"\n",
"// Output\n",
"mprintf('Unity gain cut-off frequency = %3.0f Ghz',fT/10^9);\n",
"//------------------------------------------------------------------------------"
   ]
   }
,
{
		   "cell_type": "markdown",
		   "metadata": {},
		   "source": [
			"## Example 6.5: Finding_length_of_active_layer.sce"
		   ]
		  },
  {
"cell_type": "code",
	   "execution_count": null,
	   "metadata": {
	    "collapsed": true
	   },
	   "outputs": [],
"source": [
"// Chapter 6 example 5\n",
"//------------------------------------------------------------------------------\n",
"clc;\n",
"clear;\n",
"// Given data\n",
"f       = 10*10^9;      // oscillating freq. of Gunn diode\n",
"Vs      = 10^5;         // saturation carrier velocity in m/s\n",
"\n",
"// calculations\n",
"L       = Vs/f;         // length of active layer\n",
"\n",
"// Output\n",
"mprintf('Length of active layer = %3.0f µm',L/10^-6 );\n",
"//------------------------------------------------------------------------------"
   ]
   }
,
{
		   "cell_type": "markdown",
		   "metadata": {},
		   "source": [
			"## Example 6.6: Finding_doping_concentration.sce"
		   ]
		  },
  {
"cell_type": "code",
	   "execution_count": null,
	   "metadata": {
	    "collapsed": true
	   },
	   "outputs": [],
"source": [
"// Chapter 6 example 5\n",
"//------------------------------------------------------------------------------\n",
"clc;\n",
"clear;\n",
"// Given data\n",
"f       = 10*10^9;      // oscillating freq. of Gunn diode\n",
"Vs      = 10^5;         // saturation carrier velocity in m/s\n",
"er      = 13;           // relative permitivity\n",
"u       = 100*10^-4;    // mobility in m^2/V-s\n",
"eo      = 8.85*10^-12;  // permitivity in F/m\n",
"e       = 1.6*10^-19;   // charge of electron\n",
"\n",
"// Calculations\n",
"L       = Vs/f;         // length of active layer\n",
"no      = (eo*er*Vs)/(L*e*u);   // doping concentration\n",
"\n",
"// Output\n",
"mprintf('Doping Concentration no >> %3.2g /m^3',no);\n",
"//------------------------------------------------------------------------------"
   ]
   }
,
{
		   "cell_type": "markdown",
		   "metadata": {},
		   "source": [
			"## Example 6.7: Proof.sce"
		   ]
		  },
  {
"cell_type": "code",
	   "execution_count": null,
	   "metadata": {
	    "collapsed": true
	   },
	   "outputs": [],
"source": [
"// Chapter 6 example 7\n",
"//------------------------------------------------------------------------------\n",
"clc;\n",
"clear;\n",
"// Given data\n",
"fo      = 40*10^9;      // oscillating freq. of Gunn diode\n",
"no      = 10^15;        // doping concentration\n",
"up      = 8000;         // mobility in positive conductance region\n",
"er      = 13;           // relative permitivity\n",
"um      = 100;           // mobility in m^2/V-s\n",
"eo      = 8.85*10^-14;  // permitivity in F/cm\n",
"e       = 1.6*10^-19;   // charge of electron\n",
"\n",
"// Calculations\n",
"// (eo*er)/(e*up) << no/fo < (eo*er)/(e*um)  // condition to be satisfied\n",
"// let k = (eo*er)/(e*up) , l = (eo*er)/(e*um) , p = no/fo\n",
"p       = no/fo\n",
"k       = (eo*er)/(e*up)\n",
"l       = (eo*er)/(e*um)\n",
"if (k<p) then\n",
"    if p<l then\n",
"        mprintf('Necessary Condition satisfied')\n",
"    end\n",
"    end\n",
"    "
   ]
   }
,
{
		   "cell_type": "markdown",
		   "metadata": {},
		   "source": [
			"## Example 6.8: Finding_dielectric_relaxation_time.sce"
		   ]
		  },
  {
"cell_type": "code",
	   "execution_count": null,
	   "metadata": {
	    "collapsed": true
	   },
	   "outputs": [],
"source": [
"// Chapter 6 example 8\n",
"//------------------------------------------------------------------------------\n",
"clc;\n",
"clear;\n",
"// Given data\n",
"n       = 10^15;        // doping concentration in /cm^3\n",
"u       = 8500;         // mobility in  m^2/V-s\n",
"er      = 13;           // relative permitivity\n",
"eo      = 8.85*10^-14;  // permitivity in F/cm\n",
"e       = 1.6*10^-19;   // charge of electron\n",
"\n",
"// Calculations\n",
"Td      = (eo*er)/(n*u*e)      // Dielectric relaxation time\n",
"\n",
"// Output\n",
"mprintf('Dielectric relaxation time = %3.3f ps',Td*10^12);\n",
"//------------------------------------------------------------------------------"
   ]
   }
,
{
		   "cell_type": "markdown",
		   "metadata": {},
		   "source": [
			"## Example 6.9: Finding_length_ogf_GUN_device.sce"
		   ]
		  },
  {
"cell_type": "code",
	   "execution_count": null,
	   "metadata": {
	    "collapsed": true
	   },
	   "outputs": [],
"source": [
"// Chapter 6 example 9\n",
"//------------------------------------------------------------------------------\n",
"clc;\n",
"clear;\n",
"// Given data\n",
"f       = 20*10^9;      // oscillating freq. of Gunn device\n",
"Vs      = 10^5;         // saturation carrier velocity in m/s\n",
"\n",
"// Calculations\n",
"L       = Vs/f          // length of device\n",
"\n",
"// output\n",
"mprintf('length of device = %d µm',L*10^6);\n",
"//-------------------------------------------------------------------------------"
   ]
   }
],
"metadata": {
		  "kernelspec": {
		   "display_name": "Scilab",
		   "language": "scilab",
		   "name": "scilab"
		  },
		  "language_info": {
		   "file_extension": ".sce",
		   "help_links": [
			{
			 "text": "MetaKernel Magics",
			 "url": "https://github.com/calysto/metakernel/blob/master/metakernel/magics/README.md"
			}
		   ],
		   "mimetype": "text/x-octave",
		   "name": "scilab",
		   "version": "0.7.1"
		  }
		 },
		 "nbformat": 4,
		 "nbformat_minor": 0
}
