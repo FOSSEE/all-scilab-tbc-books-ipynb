{
"cells": [
 {
		   "cell_type": "markdown",
	   "metadata": {},
	   "source": [
       "# Chapter 1: Introduction To Microwaves"
	   ]
	},
{
		   "cell_type": "markdown",
		   "metadata": {},
		   "source": [
			"## Example 1.1: Finding_dielectric_constant_of_medium.sce"
		   ]
		  },
  {
"cell_type": "code",
	   "execution_count": null,
	   "metadata": {
	    "collapsed": true
	   },
	   "outputs": [],
"source": [
"// Chapter 1 example 1\n",
"//------------------------------------------------------------------------------\n",
"clc;\n",
"clear;\n",
"\n",
"// Given data\n",
"R   = 1.2;      // ratio of free space wavelength of a microwave signal to its wavelength when prop. through a dielectric medium\n",
"\n",
"// Calculations\n",
"// lamda = lamda0/sqrt(er);\n",
"// er    = (lamda0/lamda)^2;\n",
"// let lamda0/lamda  = R\n",
"\n",
"er  = (R)^2;        // Dielectric constant of medium\n",
"\n",
"// Output\n",
"mprintf('The Dielectric constant of medium = %3.2f',er );\n",
"//------------------------------------------------------------------------------"
   ]
   }
,
{
		   "cell_type": "markdown",
		   "metadata": {},
		   "source": [
			"## Example 1.2: Finding_height_of_antenna.sce"
		   ]
		  },
  {
"cell_type": "code",
	   "execution_count": null,
	   "metadata": {
	    "collapsed": true
	   },
	   "outputs": [],
"source": [
"// Chapter 1 example 2\n",
"//------------------------------------------------------------------------------\n",
"clc;\n",
"clear;\n",
"// Given data\n",
"Rmax        = 112;      // Max permissable range in Kms\n",
"H1          = 256;      // Ht of the antenna in m\n",
"// Calculations\n",
"// Rmax  = 4(sqrt(H1) + sqrt(H2));\n",
"// H2    = ((Rmax/4)-sqrt(H1))^2;\n",
"H2    = ((Rmax/4)-sqrt(H1))^2;      // Ht of other antenna\n",
"// Output\n",
"mprintf('Height of other antenna = %d m',H2);\n",
"//------------------------------------------------------------------------------"
   ]
   }
],
"metadata": {
		  "kernelspec": {
		   "display_name": "Scilab",
		   "language": "scilab",
		   "name": "scilab"
		  },
		  "language_info": {
		   "file_extension": ".sce",
		   "help_links": [
			{
			 "text": "MetaKernel Magics",
			 "url": "https://github.com/calysto/metakernel/blob/master/metakernel/magics/README.md"
			}
		   ],
		   "mimetype": "text/x-octave",
		   "name": "scilab",
		   "version": "0.7.1"
		  }
		 },
		 "nbformat": 4,
		 "nbformat_minor": 0
}
