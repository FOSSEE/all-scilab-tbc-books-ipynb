{
"cells": [
 {
		   "cell_type": "markdown",
	   "metadata": {},
	   "source": [
       "# Chapter 5: Microwave Tubes"
	   ]
	},
{
		   "cell_type": "markdown",
		   "metadata": {},
		   "source": [
			"## Example 5.1: Finding_transit_time_of_electron_in_repeller_space.sce"
		   ]
		  },
  {
"cell_type": "code",
	   "execution_count": null,
	   "metadata": {
	    "collapsed": true
	   },
	   "outputs": [],
"source": [
"//chapter 5 example 1 pg no-226\n",
"//=============================================================================\n",
"clc;\n",
"clear;\n",
"//Given Data\n",
"F     =  100*10^9;//reflex klystron operating frequency\n",
"n     =  3;//integer corresponding to mode\n",
"\n",
"//Calculations\n",
"T_c   =  (n+(3/4))//transit time in cycles\n",
"T     =  T_c/F//transit time in seconds\n",
"\n",
"//Output\n",
"mprintf('Transit Time of the electron in the repeller space is %3.1f ps',T/10^-12);\n",
"\n",
"//============================================================================="
   ]
   }
,
{
		   "cell_type": "markdown",
		   "metadata": {},
		   "source": [
			"## Example 5.2: Finding_change_in_frequency.sce"
		   ]
		  },
  {
"cell_type": "code",
	   "execution_count": null,
	   "metadata": {
	    "collapsed": true
	   },
	   "outputs": [],
"source": [
"//chapter 5 example 1 pg no-227\n",
"//=============================================================================\n",
"clc;\n",
"clear;\n",
"//Given Data\n",
"F     =  2*10^9;//reflex klystron operating frequency\n",
"Vr    =  2000;//Repeller voltage\n",
"Va    =  500;//Accelarating voltage\n",
"n     =  1;//integer corresponding to mode\n",
"e     =  1.6*10^-19;//charge of electron\n",
"m     =  9.1*10^-31;//mass of electron in kg\n",
"s     =  2*10^-2;//space b/w exit of gap and repeller electrode\n",
"dVr1  = 2;//(change in Vr in percentage\n",
"//Calculations\n",
"dVr   = dVr1*Vr/100;//conversion from percentage to decimal\n",
"//dVr/df = ((2*pi*s)/((2*pi*n)-pi/2))*sqrt(8*m*Va/e));\n",
"//let df = dVr/((2*pi*s)/((2*pi*n)-pi/2))*sqrt(8*m*Va/e));\n",
"\n",
"df       =  (dVr)/((2*%pi*s)/((2*%pi*n)-(%pi/2))*sqrt(8*m*Va/e));//change in freq as a fun of repeller voltage\n",
"\n",
"\n",
"//Output\n",
"mprintf('Change in frequency is %3.0f MHz',df/10^6);\n",
"\n",
"//============================================================================="
   ]
   }
,
{
		   "cell_type": "markdown",
		   "metadata": {},
		   "source": [
			"## Example 5.3: Finding_percentage_change_in_frequency.sce"
		   ]
		  },
  {
"cell_type": "code",
	   "execution_count": null,
	   "metadata": {
	    "collapsed": true
	   },
	   "outputs": [],
"source": [
"//chapter 5 example 3\n",
"//=============================================================================\n",
"clc;\n",
"clear;\n",
"//Given Data\n",
"//let l   = dVr/Vr ; f  = df/f ; Vr/f  = R\n",
"l     = 5;//percentage change in repeller voltage\n",
"f     = 1;//percentage change in operating frequency\n",
"R     = 1;//ratio of repeller voltage to operating frequency\n",
"NR    = 1.5;//new ratio of repeller voltage to operating frequency in volts/MHz\n",
"e     =  1.6*10^-19;//charge of electron\n",
"m     =  9.1*10^-31;//mass of electron in kg\n",
"\n",
"//Calculations\n",
"\n",
"//dVr/df = ((2*pi*s)/((2*pi*n)-pi/2))*sqrt(8*m*Va/e));\n",
"//((df/f)/(dVr/Vr)) = (Vr/f)*((2*pi*n)-pi/2)/(2*pi*s)*sqrt(e/(8*m*Va));\n",
"//((df/f)/(dVr/Vr)) = K*(Vr/f);\n",
"//where K = (((2*pi*n)-pi/2)/(2*pi*s))*sqrt(e/(8*m*Va))\n",
"K    = (f/l)*(1/R)\n",
"PCF  = NR*K*l//percentage change in frequency when new ratio (Vr/f)=1.5\n",
"\n",
"//Output\n",
"mprintf('Percentage Change in frequency is %3.2f percent',PCF);\n",
"\n",
"//============================================================================="
   ]
   }
,
{
		   "cell_type": "markdown",
		   "metadata": {},
		   "source": [
			"## Example 5.4: Finding_electronic_efficiency_and_output_power.sce"
		   ]
		  },
  {
"cell_type": "code",
	   "execution_count": null,
	   "metadata": {
	    "collapsed": true
	   },
	   "outputs": [],
"source": [
"//chapter 5 example 4\n",
"//=============================================================================\n",
"clc;\n",
"clear;\n",
"//Given Data\n",
"Va    = 40*10^3;//Anode voltage of cross field amplifier\n",
"Ia    = 15;//Anode current in Amp\n",
"Pin   = 40*10^3;//input power in watts\n",
"G     = 10;//gain in dB\n",
"n     = 40/100;//overall efficiency converted from percentage to decimal\n",
"//Calculations\n",
"//Gain  = (1+(Pgen/Pin))\n",
"Pgen  = (G-1)*Pin//Generated power\n",
"ne    = (Pgen/(Va*Ia))//electronic efficiency \n",
"nc    = n/(ne)//circuit efficiency \n",
"Pout  = Pin+(Pgen*nc)//output power\n",
"//Output\n",
"mprintf('Electronic Efficiency is %3.2f\n Output power is %g KW',ne,Pout/1000);\n",
"\n",
"//============================================================================="
   ]
   }
,
{
		   "cell_type": "markdown",
		   "metadata": {},
		   "source": [
			"## Example 5.5: Finding_no_of_cycles.sce"
		   ]
		  },
  {
"cell_type": "code",
	   "execution_count": null,
	   "metadata": {
	    "collapsed": true
	   },
	   "outputs": [],
"source": [
"//chapter 5 example 5 \n",
"//=============================================================================\n",
"clc;\n",
"clear;\n",
"//Given Data\n",
"F     =  1*10^9;//two cavity klystron operating frequency\n",
"Va    =  2500;//Accelarating voltage in volts\n",
"e     =  1.6*10^-19;//charge of electron\n",
"m     =  9.1*10^-31;//mass of electron in kg\n",
"s     =  0.1*10^-2;//input cavity space\n",
"//Calculations\n",
"\n",
"u     = sqrt((2*e*Va)/m);//velocity at which electron beam enters the gap\n",
"T     = s/u ;//Time spent in the gap\n",
"f     = T*F;//number of cycles\n",
"\n",
"//Output\n",
"mprintf('Number of cycles that elase during transit of beam through input gap is %3.3f cycle',f);\n",
"\n",
"//============================================================================="
   ]
   }
,
{
		   "cell_type": "markdown",
		   "metadata": {},
		   "source": [
			"## Example 5.6: Finding_phase_difference_and_number_possible_useful_modes_of_resonance.sce"
		   ]
		  },
  {
"cell_type": "code",
	   "execution_count": null,
	   "metadata": {
	    "collapsed": true
	   },
	   "outputs": [],
"source": [
"//chapter 5 example 6\n",
"//=============================================================================\n",
"clc;\n",
"clear;\n",
"//Given Data\n",
"N     = 8;//no. of resonators\n",
"\n",
"//Calculations\n",
"mprintf('ϕ  = (2*π*n)/N \n');//phase difference\n",
"mprintf(' ϕ   = (n*π)/4\n');//phase difference\n",
"K   = N/2;//useful no. of nodes\n",
"//Most dominant mode is the one for which phase differnce b/w adjacent resonators is π radians\n",
"//Therefore (n*π)/4 = π\n",
"n = 4\n",
"\n",
"\n",
"//Output\n",
"mprintf('Number of possible modes of Resonance is %d\n',N);\n",
"mprintf('Number of useful modes of Resonance is %d\n',K);\n",
"mprintf('value of integer n for the most dominant mode is %d',n);\n",
"\n",
"//============================================================================="
   ]
   }
,
{
		   "cell_type": "markdown",
		   "metadata": {},
		   "source": [
			"## Example 5.7: Finding_peak_amplitude.sce"
		   ]
		  },
  {
"cell_type": "code",
	   "execution_count": null,
	   "metadata": {
	    "collapsed": true
	   },
	   "outputs": [],
"source": [
"//chapter 5 example 7\n",
"//=============================================================================\n",
"clc;\n",
"clear;\n",
"//Given Data\n",
"Va    =  1200;//Anode potential\n",
"F     =  10*10^9;//Operating frequency in Hz \n",
"S     =  5*10^-2;//spacing b/w 2 cavities\n",
"GS    = 1*10^-3;//gap spacing in either cavity\n",
"e     =  1.6*10^-19;//charge of electron\n",
"m     =  9.1*10^-31;//mass of electron in kg\n",
"//Calculations\n",
"//Condition of maximum output is (V1/Vo)max  =  (3.68)/((2*pi*n)-(pi/2);\n",
"//(2*pi*n)-(pi/2) = Transit angle b/w two cavities\n",
"//V1  = Peak amplitude of RF i/p\n",
"//Vo  = accelarating potential\n",
"\n",
"Vo    = sqrt(2*e*Va/m);//velocity of the electrons \n",
"T     = S/Vo;//Transit time b/w the cavities\n",
"TA    = 2*%pi*F*T;//transit angle in radians\n",
"V1    = (3.68*Va)/TA;\n",
"//Output\n",
"mprintf('Required Peak Amplitude of i/p RF signal is %3.2f volts',V1);\n",
"//============================================================================="
   ]
   }
,
{
		   "cell_type": "markdown",
		   "metadata": {},
		   "source": [
			"## Example 5.8: Finding_anode_voltage_of_TWT.sce"
		   ]
		  },
  {
"cell_type": "code",
	   "execution_count": null,
	   "metadata": {
	    "collapsed": true
	   },
	   "outputs": [],
"source": [
"//chapter 5 example 8\n",
"//=============================================================================\n",
"clc;\n",
"clear;\n",
"// Given Data\n",
"R       = 10;           // circumference to pitch ratio\n",
"e       = 1.6*10^-19;   // charge of electron\n",
"m       = 9.1*10^-31;   // mass of electron in Kg\n",
"c       = 3*10^8;       // vel. of EM waves in m/s\n",
"\n",
"// Calculations\n",
"Vp      = c/R;           // axial phase velocity = free space vel*(pitch/circumference) \n",
"Va      = (Vp^2 * m)/(2*e);\n",
"\n",
"// Output\n",
"mprintf('Anode Voltage = %3.2f kV',Va/1000);\n",
"disp('In practice,the electron beam velocity is kept slightly greater than the axial phase velocity of RF signal')\n",
"//------------------------------------------------------------------------------"
   ]
   }
],
"metadata": {
		  "kernelspec": {
		   "display_name": "Scilab",
		   "language": "scilab",
		   "name": "scilab"
		  },
		  "language_info": {
		   "file_extension": ".sce",
		   "help_links": [
			{
			 "text": "MetaKernel Magics",
			 "url": "https://github.com/calysto/metakernel/blob/master/metakernel/magics/README.md"
			}
		   ],
		   "mimetype": "text/x-octave",
		   "name": "scilab",
		   "version": "0.7.1"
		  }
		 },
		 "nbformat": 4,
		 "nbformat_minor": 0
}
