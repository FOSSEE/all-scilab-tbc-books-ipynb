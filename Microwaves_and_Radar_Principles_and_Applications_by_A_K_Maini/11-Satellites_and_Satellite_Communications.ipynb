{
"cells": [
 {
		   "cell_type": "markdown",
	   "metadata": {},
	   "source": [
       "# Chapter 11: Satellites and Satellite Communications"
	   ]
	},
{
		   "cell_type": "markdown",
		   "metadata": {},
		   "source": [
			"## Example 11.10: Finding_apogee_and_perigee_distances.sce"
		   ]
		  },
  {
"cell_type": "code",
	   "execution_count": null,
	   "metadata": {
	    "collapsed": true
	   },
	   "outputs": [],
"source": [
"// Chapter 11 example 10\n",
"//------------------------------------------------------------------------------\n",
"clc;\n",
"clear;\n",
"// Given data\n",
"e       = 0.5;      // orbit eccentricity\n",
"ae      = 14000;    // from fig. the distance from center of ellipse to the centre of earth\n",
"\n",
"// Calculations\n",
"a       = ae/e;         // semi major axis\n",
"apogee  = a*(1 + e);    // Apogee in km\n",
"perige  = a*(1 - e);    // perigee in km\n",
"\n",
"// output\n",
"mprintf('Apogee = %d km\n Perigee = %d km',apogee,perige);\n",
"//------------------------------------------------------------------------------"
   ]
   }
,
{
		   "cell_type": "markdown",
		   "metadata": {},
		   "source": [
			"## Example 11.11: Finding_escape_velocity.sce"
		   ]
		  },
  {
"cell_type": "code",
	   "execution_count": null,
	   "metadata": {
	    "collapsed": true
	   },
	   "outputs": [],
"source": [
"// Chapter 11 example 11\n",
"//------------------------------------------------------------------------------\n",
"clc;\n",
"clear;\n",
"// Given data\n",
"G       = 6.67*10^-11;      // Gravitational constant\n",
"M       = 5.98*10^24;       // mass of the earth in kg\n",
"Re      = 6370*10^3;        // radius of earth in m\n",
"\n",
"// Calculations\n",
"u       = G*M\n",
"Vesc    = sqrt(2*u/Re);\n",
"Ves     = Vesc/1000;    // escape velocity in km/s\n",
"\n",
"// Output\n",
"mprintf('Escape velocity = %3.1f km/s',Ves);\n",
"//------------------------------------------------------------------------------"
   ]
   }
,
{
		   "cell_type": "markdown",
		   "metadata": {},
		   "source": [
			"## Example 11.12: Finding_orbital_period.sce"
		   ]
		  },
  {
"cell_type": "code",
	   "execution_count": null,
	   "metadata": {
	    "collapsed": true
	   },
	   "outputs": [],
"source": [
"// Chapter 11 example 12\n",
"//------------------------------------------------------------------------------\n",
"clc;\n",
"clear;\n",
"// Given data\n",
"a       = 25000*10^3;      // semimajor axis in m from fig\n",
"G       = 6.67*10^-11;      // Gravitational constant\n",
"M       = 5.98*10^24;       // mass of the earth in kg\n",
"h = 0\n",
"\n",
"// Calculations\n",
"u       = G*M;\n",
"T       = 2*%pi*sqrt((a^3)/u)\n",
"hr          = T/3600                        // conv. from sec to hrs and min\n",
"t           = modulo(T,3600)                // conv. from sec to hrs and min\n",
"mi          = t/60                          // conv. from sec to hrs and min\n",
"\n",
"// Output\n",
"mprintf('Orbital time period = %d Hours %d minutes',hr,mi)"
   ]
   }
,
{
		   "cell_type": "markdown",
		   "metadata": {},
		   "source": [
			"## Example 11.13: Finding_orbital_time_period_velocity_at_apogee_and_perigee_points.sce"
		   ]
		  },
  {
"cell_type": "code",
	   "execution_count": null,
	   "metadata": {
	    "collapsed": true
	   },
	   "outputs": [],
"source": [
"// Chapter 11 example 13\n",
"//------------------------------------------------------------------------------\n",
"clc;\n",
"clear;\n",
"// Given data\n",
"apogee  = 35000;        // farthest point in kms\n",
"perigee = 500;          // closest point in kms\n",
"r       = 6360;         // radius of earth in kms\n",
"G       = 6.67*10^-11   // gravitational constant\n",
"M       = 5.98*10^24;   // mass of earth in kgs\n",
"// calculations\n",
"//funcprot(0)\n",
"apogee_dist = apogee + r       // apogee distance in kms\n",
"perigee_dist= perigee+r ;       // perigee distance in kms\n",
"a           = (apogee_dist + perigee_dist)/2;   // semi-major axis of elliptical orbit\n",
"T           = (2*%pi)*sqrt((a*10^3)^3/(G*M));          // orbital time period\n",
"hr          = T/3600                        // conv. from sec to hrs and min\n",
"t           = modulo(T,3600)                // conv. from sec to hrs and min\n",
"mi          = t/60                          // conv. from sec to hrs and min\n",
"u           = G*M\n",
"Vapogee     = sqrt(u*((2/(apogee_dist*10^3)) - (1/(a*10^3))));      // velocity at apogee point\n",
"Vperigee    = sqrt((G*M)*((2/(perigee_dist*10^3)-(1/(a*10^3)))))    // velocity at perigee point\n",
"\n",
"// Output\n",
"mprintf('Orbital Time Period = %d Hrs %d min \n Velocity at apogee = %3.3f Km/s\n Velocity at perigee = %3.3f Km/s',hr,mi,Vapogee/1000,Vperigee/1000)\n",
"mprintf('\n Note: Calculation mistake in textbook in finding velocity at apogee point')"
   ]
   }
,
{
		   "cell_type": "markdown",
		   "metadata": {},
		   "source": [
			"## Example 11.14: Finding_target_eccentricity.sce"
		   ]
		  },
  {
"cell_type": "code",
	   "execution_count": null,
	   "metadata": {
	    "collapsed": true
	   },
	   "outputs": [],
"source": [
"// Chapter 11 example 14\n",
"//------------------------------------------------------------------------------\n",
"clc;\n",
"clear;\n",
"// Given data\n",
"ra_S_rp     = 50000;        // sum of apogee and perigee distance\n",
"ra_D_rp     = 30000;        // difference of apogee and perigee distances\n",
"\n",
"// Calculations\n",
"e           = ra_D_rp/ra_S_rp;  // eccentricity\n",
"\n",
"// Output\n",
"mprintf('Target eccentricity = %3.1f',e);\n",
"//------------------------------------------------------------------------------"
   ]
   }
,
{
		   "cell_type": "markdown",
		   "metadata": {},
		   "source": [
			"## Example 11.15: Finding_apogee_and_perigee_distances.sce"
		   ]
		  },
  {
"cell_type": "code",
	   "execution_count": null,
	   "metadata": {
	    "collapsed": true
	   },
	   "outputs": [],
"source": [
"// Chapter 11 example 15\n",
"//------------------------------------------------------------------------------\n",
"clc;\n",
"clear;\n",
"// Given data\n",
"a       = 20000;            // semi major axis of elliptical sate. orbit in kms\n",
"b       = 16000;            // semi minor axis of elliptical sate. orbit in kms\n",
"\n",
"// calculations\n",
"// a = (ra + rp)/2\n",
"// b = sqrt(ra*rp)\n",
"// let k = (ra + rp)\n",
"// let l = ra*rp\n",
"k       = 2*a;              // ra+ rp ----------------1\n",
"l       = b^2;              // ra*rp -----------------2\n",
"// ra^2 -40000ra + 256000000\n",
"p       = [ 1 -k l]\n",
"x       = roots(p)\n",
"r1      = x(1)\n",
"r2      = x(2)\n",
"rp = k - r1;\n",
"mprintf('Apogee distance = %d km\n Perigee distance = %d km',r1,rp);\n",
"//------------------------------------------------------------------------------"
   ]
   }
,
{
		   "cell_type": "markdown",
		   "metadata": {},
		   "source": [
			"## Example 11.16: Finding_max_deviation_in_latitude_and_longitude.sce"
		   ]
		  },
  {
"cell_type": "code",
	   "execution_count": null,
	   "metadata": {
	    "collapsed": true
	   },
	   "outputs": [],
"source": [
"// Chapter 11 example 16\n",
"//------------------------------------------------------------------------------\n",
"clc;\n",
"clear;\n",
"// Given data\n",
"H       = 35800;        // height of orbit in kms\n",
"re      = 6364;         // radius of earth in kms\n",
"i       = 2;            // angle of inclination in degrees\n",
"\n",
"// Calculations\n",
"r       = H+re;         // radius of orbit in kms\n",
"lamdamax = i;           // max latitude deviation\n",
"long_dev = (i^2)/228;   // max. longitude deviation\n",
"disp_lamda = (r*i*%pi/180)// max disp in km due to lamdamax\n",
"max_disp1  = disp_lamda*(long_dev/lamdamax) // max disp.due to max.longitude deviation\n",
"\n",
"// Output\n",
"mprintf('Maximum deviation in latitude = %d°\n Maximum deviation in longitude = %3.4f°\n Maximum displacements due to latitude displacement = %d Km\n Maximum displacements due to longitude displacement = %3.1f Km\n',lamdamax,long_dev,disp_lamda,max_disp1 );\n",
"    "
   ]
   }
,
{
		   "cell_type": "markdown",
		   "metadata": {},
		   "source": [
			"## Example 11.17: Finding_angle_of_inclination.sce"
		   ]
		  },
  {
"cell_type": "code",
	   "execution_count": null,
	   "metadata": {
	    "collapsed": true
	   },
	   "outputs": [],
"source": [
"// Chapter 11 example 17\n",
"//------------------------------------------------------------------------------\n",
"clc;\n",
"clear;\n",
"// Given data\n",
"r       = 42164;        // orbital radius in kms\n",
"Dlamda_max = 500;       // max displacement due to latitude deviation\n",
"\n",
"// Calculations\n",
"i   = Dlamda_max/r;     // angle of inclination in radians\n",
"i_deg = i*180/%pi       // rad to deg conv\n",
"\n",
"// Output\n",
"mprintf('Angle of inclination = %3.2f°',i_deg);\n",
"//------------------------------------------------------------------------------"
   ]
   }
,
{
		   "cell_type": "markdown",
		   "metadata": {},
		   "source": [
			"## Example 11.18: Finding_maximum_coverage_angle_and_max_slant_range.sce"
		   ]
		  },
  {
"cell_type": "code",
	   "execution_count": null,
	   "metadata": {
	    "collapsed": true
	   },
	   "outputs": [],
"source": [
"// Chapter 11 example 18\n",
"//------------------------------------------------------------------------------\n",
"clc;\n",
"clear;\n",
"// Given data\n",
"H   = 35786;        // ht of orbit from earth surface\n",
"Re  = 6378          // radius of earth in kms\n",
"\n",
"// Calculations\n",
"// For theoretical max coverage angle,elevation angle E = 0 \n",
"E = 0\n",
"// max coverage angle = 2amax\n",
"// 2amax = 2asin(Re/(Re+H)cosE)\n",
"amax = 2*asin((Re/(Re+H))*cos(E))\n",
"amax_deg = amax*180/%pi     // rad to deg conversion\n",
"D   = sqrt( Re^2 + (Re+H)^2 - 2*Re*(Re + H)*asin(E + asin((Re/(Re+H))*cos(E)))) // Max slant range\n",
"\n",
"// Output\n",
"mprintf('Maximum Coverage angle = %3.1f°\n Maximum slant Range = %d Km',amax_deg,D);\n",
"//--------------------------------------------------------------------------------"
   ]
   }
,
{
		   "cell_type": "markdown",
		   "metadata": {},
		   "source": [
			"## Example 11.1: Finding_orbital_velocity.sce"
		   ]
		  },
  {
"cell_type": "code",
	   "execution_count": null,
	   "metadata": {
	    "collapsed": true
	   },
	   "outputs": [],
"source": [
"// Chapter 11 example 1\n",
"//------------------------------------------------------------------------------\n",
"clc;\n",
"clear;\n",
"\n",
"// Given data\n",
"h       = 150;      // height of satellite from earth in km\n",
"G       = 6.67*10^-11;      // Gravitational constant\n",
"M       = 5.98*10^24;       // mass of the earth in kg\n",
"Re      = 6370;             // radius of earth in km\n",
"\n",
"// Calculations\n",
"u       = G*M\n",
"V       = sqrt(u/((Re + h)*10^3))  // orbital velocity\n",
"V1      = V/1000;                  // orbital velocity in km/s\n",
"\n",
"// Output\n",
"mprintf('Orbital velocity = %3.3f km/s',V1);\n",
"//------------------------------------------------------------------------------"
   ]
   }
,
{
		   "cell_type": "markdown",
		   "metadata": {},
		   "source": [
			"## Example 11.2: Finding_orbital_eccentricity.sce"
		   ]
		  },
  {
"cell_type": "code",
	   "execution_count": null,
	   "metadata": {
	    "collapsed": true
	   },
	   "outputs": [],
"source": [
"// Chapter 11 example 2\n",
"//------------------------------------------------------------------------------\n",
"clc;\n",
"clear;\n",
"\n",
"// Given data\n",
"Ap_Pe_diff  = 30000;        // difference between apogee and perigee in Km\n",
"a           = 16000;        // semi major axis of orbit\n",
"\n",
"// Calculations\n",
"e           =  Ap_Pe_diff/(2*a);    // Eccentricity\n",
"\n",
"// Output\n",
"mprintf('Eccentricity = %3.2f',e);\n",
"//------------------------------------------------------------------------------"
   ]
   }
,
{
		   "cell_type": "markdown",
		   "metadata": {},
		   "source": [
			"## Example 11.3: Finding_relationship_between_orbital_periods.sce"
		   ]
		  },
  {
"cell_type": "code",
	   "execution_count": null,
	   "metadata": {
	    "collapsed": true
	   },
	   "outputs": [],
"source": [
"// Chapter 11 example 3\n",
"//------------------------------------------------------------------------------\n",
"clc;\n",
"clear;\n",
"\n",
"// Given data\n",
"a1      = 18000;            // semi major axis of the elliptical orbits of satellite 1\n",
"a2      = 24000;            // semi major axis of the elliptical orbits of satellite 2\n",
"\n",
"// Calculations\n",
"// T    = 2*%pi*sqrt(a^3/u);\n",
"//let K = T2/T1;\n",
"K       = (a2/a1)^(3/2);    // Ratio of orbital periods\n",
"\n",
"// Output\n",
"mprintf('The orbital period of satellite-2 is %3.2f times the orbital period of satellite-1',K);\n",
"//------------------------------------------------------------------------------"
   ]
   }
,
{
		   "cell_type": "markdown",
		   "metadata": {},
		   "source": [
			"## Example 11.4: Finding_magnitude_of_velocity_impulse.sce"
		   ]
		  },
  {
"cell_type": "code",
	   "execution_count": null,
	   "metadata": {
	    "collapsed": true
	   },
	   "outputs": [],
"source": [
"// Chapter 11 example 4\n",
"//------------------------------------------------------------------------------\n",
"clc;\n",
"clear;\n",
"\n",
"// Given data\n",
"h       = 35800;            // height of satellite orbit from earth in km\n",
"G       = 6.67*10^-11;      // Gravitational constant\n",
"M       = 5.98*10^24;       // mass of the earth in kg\n",
"Re      = 6364;             // radius of earth in km\n",
"i       = 2;                // inclination angle\n",
"\n",
"// Calculations\n",
"u       = G*M\n",
"r       = Re+h\n",
"Vi      = sqrt(u/r*10^3)*tan(i*%pi/180);     // magnitude of velocity impulse\n",
"V       = Vi/1000;                           // magnitude of velocity impulse in m/s\n",
"// Output\n",
"mprintf('Magnitude of velocity impulse = %d m/s',V);\n",
"//------------------------------------------------------------------------------"
   ]
   }
,
{
		   "cell_type": "markdown",
		   "metadata": {},
		   "source": [
			"## Example 11.5: Finding_maximum_shadow_angle_and_max_daily_eclipse_duration.sce"
		   ]
		  },
  {
"cell_type": "code",
	   "execution_count": null,
	   "metadata": {
	    "collapsed": true
	   },
	   "outputs": [],
"source": [
"// Chapter 11 example 5\n",
"//------------------------------------------------------------------------------\n",
"clc;\n",
"clear;\n",
"// Given data\n",
"h       = 13622;        // ht of circular orbit from earth's surface\n",
"Re      = 6378;         // Radius of earth in km\n",
"\n",
"// Calculations\n",
"R       = Re+h;         // Radius of circular orbit\n",
"pimax   = 180 - (2*acos(Re/R))*(180/%pi);   // Maximum shadow angle\n",
"eclipmax_time = (pimax/360)*24;             // maximum daily eclipse duration\n",
"\n",
"// output\n",
"mprintf('maximum shadow angle = %3.1f°\n Maximum daily eclipse duration = %3.2f hours',pimax,eclipmax_time);\n",
"//------------------------------------------------------------------------------"
   ]
   }
,
{
		   "cell_type": "markdown",
		   "metadata": {},
		   "source": [
			"## Example 11.6: Finding_total_time_from_first_day_of_eclipse_to_last_day_of_eclipse.sce"
		   ]
		  },
  {
"cell_type": "code",
	   "execution_count": null,
	   "metadata": {
	    "collapsed": true
	   },
	   "outputs": [],
"source": [
"//Chapter 11 example 6\n",
"//------------------------------------------------------------------------------\n",
"clc;\n",
"clear;\n",
"// Given data\n",
"h       = 35786;        // ht of geo.stationary orbit above earth surface\n",
"T       = 365;          // time in days\n",
"r       = 6378          // radius of earth in km\n",
"\n",
"// ie(t) = 23.4*sin(2*%pi*t/T)\n",
"// for a circular orbit of 20000 km radius ,phi = 37.4° ,Therefore, the time from first day of eclipse to equinox is given by substituting ie(t) = 37.4/2 = 18.7°\n",
"phi     = 37.4\n",
"ie      = (phi/2)*(%pi/180)\n",
"k       = 23.4*(%pi/180)\n",
"t       = (365/(2*%pi))*asin((ie/k)) \n",
"// for geostationary orbit\n",
"phimax  = 180 - 2*(acos(r/(r+h)))*(180/%pi)\n",
"t_geo   = (365/(2*%pi))*asin((8.7*%pi/180)/k)\n",
"\n",
"// Output\n",
"mprintf('Total time from first day of eclipse to last day of eclipse = %3.1f days\n Total time from first day of eclipse to last day of eclipse for geostationary orbit = %3.2f days',t,t_geo)\n",
"//------------------------------------------------------------------------------"
   ]
   }
,
{
		   "cell_type": "markdown",
		   "metadata": {},
		   "source": [
			"## Example 11.7: Finding_centrifugal_force.sce"
		   ]
		  },
  {
"cell_type": "code",
	   "execution_count": null,
	   "metadata": {
	    "collapsed": true
	   },
	   "outputs": [],
"source": [
"// Chapter 11 example 7\n",
"//------------------------------------------------------------------------------\n",
"clc;\n",
"clear;\n",
"// Given data\n",
"m       = 100;      // mass of satellite\n",
"V       = 8000;     // orbital velocity in m/s\n",
"Re      = 6370;     // radius of earth in Km\n",
"H       = 200;      // satellite height above earth surface\n",
"\n",
"// Calculations\n",
"CF      = (m*V^2)/((Re+H)*10^3);       //centrifugal force\n",
"\n",
"// output\n",
"mprintf('Centrifugal Force = %d Newtons',CF);\n",
"//------------------------------------------------------------------------------"
   ]
   }
,
{
		   "cell_type": "markdown",
		   "metadata": {},
		   "source": [
			"## Example 11.8: Finding_semi_major_axis.sce"
		   ]
		  },
  {
"cell_type": "code",
	   "execution_count": null,
	   "metadata": {
	    "collapsed": true
	   },
	   "outputs": [],
"source": [
"// Chapter 11 example 8\n",
"//------------------------------------------------------------------------------\n",
"clc;\n",
"clear;\n",
"// Given data\n",
"Apogee  = 30000;        // Apogee pt of satellite elliptical orbit\n",
"Perige  = 1000;         // perigee pt of satellite elliptical orbit\n",
"\n",
"// Calculations\n",
"a       = (Apogee + Perige)/2;  // semi major axis\n",
"\n",
"// output\n",
"mprintf('Semi-major axis = %d Km',a);\n",
"//------------------------------------------------------------------------------"
   ]
   }
,
{
		   "cell_type": "markdown",
		   "metadata": {},
		   "source": [
			"## Example 11.9: Finding_apogee_perigee_and_orbit_eccentricity.sce"
		   ]
		  },
  {
"cell_type": "code",
	   "execution_count": null,
	   "metadata": {
	    "collapsed": true
	   },
	   "outputs": [],
"source": [
"// Chapter 11 example 9\n",
"//------------------------------------------------------------------------------\n",
"clc;\n",
"clear;\n",
"// Given data\n",
"farth   = 30000;        // farthest point in satellite elliptic eccentric orbit\n",
"closest = 200;          // closest point in satellite elliptic eccentric orbit\n",
"Re      = 6370;         // Radius of earth in km\n",
"\n",
"// Calculations\n",
"Apogee  = farth + Re;   // Apogee in km\n",
"Perigee = closest + Re; // perigee in km\n",
"a       = (Apogee + Perigee)/(2);       // semi-major axis\n",
"e       = (Apogee - Perigee)/(2*a);     // orbit eccentricity\n",
"\n",
"// Output\n",
"mprintf('Apogee = %d km\n Perigee = %d km\n orbit eccentricity = %3.3f',Apogee,Perigee,e);\n",
"//------------------------------------------------------------------------------"
   ]
   }
],
"metadata": {
		  "kernelspec": {
		   "display_name": "Scilab",
		   "language": "scilab",
		   "name": "scilab"
		  },
		  "language_info": {
		   "file_extension": ".sce",
		   "help_links": [
			{
			 "text": "MetaKernel Magics",
			 "url": "https://github.com/calysto/metakernel/blob/master/metakernel/magics/README.md"
			}
		   ],
		   "mimetype": "text/x-octave",
		   "name": "scilab",
		   "version": "0.7.1"
		  }
		 },
		 "nbformat": 4,
		 "nbformat_minor": 0
}
