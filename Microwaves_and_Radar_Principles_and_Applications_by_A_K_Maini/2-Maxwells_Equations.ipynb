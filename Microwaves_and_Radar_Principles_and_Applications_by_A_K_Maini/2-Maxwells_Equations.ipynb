{
"cells": [
 {
		   "cell_type": "markdown",
	   "metadata": {},
	   "source": [
       "# Chapter 2: Maxwells Equations"
	   ]
	},
{
		   "cell_type": "markdown",
		   "metadata": {},
		   "source": [
			"## Example 2.10: Finding_amplitude_of_displacement_current_density.sce"
		   ]
		  },
  {
"cell_type": "code",
	   "execution_count": null,
	   "metadata": {
	    "collapsed": true
	   },
	   "outputs": [],
"source": [
"// chapter 2 example 10\n",
"//------------------------------------------------------------------------------\n",
"clc;\n",
"clear;\n",
"// given data\n",
"// D  = 3*10^-7 sin(6*10^7 - 0.35x)az\n",
"er = 100;       // relative permitivity\n",
"\n",
"// Calculations\n",
"// ∂D/∂t =  3*10^-7 * 6*10^7* cos(6*10^7 - 0.35x)az\n",
"A =  3*10^-7 * 6*10^7\n",
"\n",
"// output\n",
"mprintf('Amplitude of displacement current density = %d A/m^2',A);\n",
"//-----------------------------------------------------------------------------"
   ]
   }
,
{
		   "cell_type": "markdown",
		   "metadata": {},
		   "source": [
			"## Example 2.12: Finding_beta_and_Hm.sce"
		   ]
		  },
  {
"cell_type": "code",
	   "execution_count": null,
	   "metadata": {
	    "collapsed": true
	   },
	   "outputs": [],
"source": [
"// chapter 2 example 12\n",
"//------------------------------------------------------------------------------\n",
"clc;\n",
"clear;\n",
"// given data\n",
"// E = 40π e^j(10^9t + βz)ax\n",
"// H = Hm e^j(10^9t + βz)ay\n",
"// w/β = 1/sqrt(e*uo) = 3*10^8\n",
"w   = 10^9;       // from given expression\n",
"b   = w/3*10^8\n",
"Em  = 40*%pi      // from given expression\n",
"// E/H = 120;       // for free space\n",
"\n",
"Hm  = Em/(120*%pi);\n",
"//V * E = -∂B/∂t\n",
"//      =|     ax          ay           az|\n",
"// V*E  =|   ∂/∂x         ∂/∂y       ∂/∂t|\n",
"//      =|40π e^j(10^9t + βz) 0        0  |\n",
"// V*E  = jβ40π e^j(10^9t + βz) ay                                  ----- 1\n",
"//  -∂B/∂t = uo*∂H/∂t = -j*10^9 *uo*Hm e^j(10^9t + βz)ay            ----- 2\n",
"// Comparing 1 and 2 shoes that Hm must be negative Hence Hm = -1/3 A/m\n",
"mprintf('Hm = - %3.2f A/m',Hm);\n",
"//------------------------------------------------------------------------------"
   ]
   }
,
{
		   "cell_type": "markdown",
		   "metadata": {},
		   "source": [
			"## Example 2.13: Finding_w_and_Hm.sce"
		   ]
		  },
  {
"cell_type": "code",
	   "execution_count": null,
	   "metadata": {
	    "collapsed": true
	   },
	   "outputs": [],
"source": [
"// chapter 2 example 13\n",
"//------------------------------------------------------------------------------\n",
"clc;\n",
"clear;\n",
"// given data\n",
"// E = 20π e^j(wt - βz)ax\n",
"// H = Hm e^j(wt + βz)ay\n",
"lamda = 1.8;        // wavelength in m\n",
"c     = 3*10^8;     // vel. in m/s\n",
"er    = 49;         // relative permitivity\n",
"ur    = 1;          // relative permeability\n",
"Em    = 20*%pi      // from the given expression\n",
"// Calculations\n",
"v     = c/sqrt(er);  // velocity of propagation of wave in medium with er rel.permitivity\n",
"w     = (2*%pi*v)/lamda;\n",
"// let k = E/H\n",
"k = (120*%pi)*sqrt(ur/er);\n",
"Hm = Em/k\n",
"// sign of Hm can be determined by evaluating the maxwells eqn\n",
"// V*E = ∂B/∂x \n",
"// V*E = -j20π e^j(wt - βz)ay              ---------------- 1\n",
"// -∂B/∂x = -juow Hm e^j(wt + βz)ay        ---------------- 2\n",
"// comparing 1 and 2 singn of Hm must be positive\n",
"mprintf('w = %3.1e rad/s\n Hm = %3.2f A/m',w,Hm);\n",
"//------------------------------------------------------------------------------"
   ]
   }
,
{
		   "cell_type": "markdown",
		   "metadata": {},
		   "source": [
			"## Example 2.14: Finding_amplitude_of_displacement_current_density.sce"
		   ]
		  },
  {
"cell_type": "code",
	   "execution_count": null,
	   "metadata": {
	    "collapsed": true
	   },
	   "outputs": [],
"source": [
"// chapter 2 example 14\n",
"//------------------------------------------------------------------------------\n",
"clc;\n",
"clear;\n",
"// given data\n",
"f       = 1000;     // frequency in Hz\n",
"sigma   = 5*10^7;   // conductivity in mho/m\n",
"er      = 1;        // relative permitivity \n",
"eo      = 8.85*10^-12;  // permitivity\n",
"//J     = 10^8sin(wt-444z)ax A/m^2\n",
"\n",
"// Calculations\n",
"w       = 2*%pi*f\n",
"// J  = σE\n",
"// E  = 10^8sin(wt-444z)ax/sigma\n",
"// E  = 0.2sin(6280t-444z)ax\n",
"// D  = eoerE\n",
"// D  = 8.85*10^-12*0.2sin(6280t-444z)ax\n",
"// ∂D/∂t = 1.77*10^-12*6280cos(6280t - 444z)ax\n",
"A     =  1.77*10^-12*6280\n",
"mprintf('Amplitude of displacement current density = %3.2e A/m^2',A);\n",
"mprintf('\n Note: calculation mistake in textbook');\n",
"//------------------------------------------------------------------------------"
   ]
   }
,
{
		   "cell_type": "markdown",
		   "metadata": {},
		   "source": [
			"## Example 2.1: Finding_magnetic_field_intensity.sce"
		   ]
		  },
  {
"cell_type": "code",
	   "execution_count": null,
	   "metadata": {
	    "collapsed": true
	   },
	   "outputs": [],
"source": [
"// chapter 2 example 1\n",
"//------------------------------------------------------------------------------\n",
"clc;\n",
"clear;\n",
"// µr1 = 3;     // relative permeability of region 1\n",
"// µr2 = 5;     // relative permeability of region 2\n",
"//  H1 = (4ax + 3ay -6az)A/m;   Magnetic field intensity\n",
"// Therefore B1 = µoµr1H1\n",
"//              = µo(12ax + 9ay -18az)A/m\n",
"// since normal component of (B) is continuous across the interface\n",
"// Therefore, B2 = µo[12ax + 9(µr2/µr1)ay -18(µr2/µr1)az]\n",
"//               = µo[12ax + 15ay - 30az]\n",
"//            H2 = [12/5ax + 15/5ay - 30/5az]A/m\n",
"//            H2 = (2.4ax + 3ay - 6az)\n",
"H2      = sqrt(2.4^2 + 3^2 + 6^2);\n",
"\n",
"// output\n",
"mprintf('Magnetic field intensity in region- 2 = %3.2f A/m',H2);\n",
"//------------------------------------------------------------------------------"
   ]
   }
,
{
		   "cell_type": "markdown",
		   "metadata": {},
		   "source": [
			"## Example 2.2: finding_expressions_of_B_and_H.sce"
		   ]
		  },
  {
"cell_type": "code",
	   "execution_count": null,
	   "metadata": {
	    "collapsed": true
	   },
	   "outputs": [],
"source": [
"// chapter 2 example 2\n",
"//------------------------------------------------------------------------------\n",
"clc;\n",
"clear;\n",
"// ur1 = 3\n",
"// ur2 = 5\n",
"// B1 = 2ax + ay\n",
"// choosing the unit normal an = (ay + az)/√2\n",
"// |Bn1| = ((2ax + ay)*(ay + az))/√2 = 1/√2\n",
"//Therefore Bn1 = 1/√2an = (1/√2)*(ay + az)/√2\n",
"// Also, Bn2 = Bn1 = 0.5ay + 0.5az\n",
"// the tangential component of B1 is given by\n",
"// Bt1 = B1 - Bn1 = (2ax + ay)-(0.5ay + 0.5az)\n",
"//     = 2ax + 0.5ay - 0.5az\n",
"// this gives Ht1 = (1/µo)((2/3)ax + (0.5/3)ay - (0.5/3)az)\n",
"// Ht1  = (1/µo)*(0.66ax + 0.16ay -0.16az) = Ht2\n",
"// Bt2  = µoµr2Ht2 = 3.3ax + 0.8ay - 0.8az\n",
"// now B2 = Bn2 + Bt2 = (0.5ay + 0.5az)+(3.3ax + 0.8ay - 0.8az)\n",
"//        = (3.3ax +1.3ay - 0.3az)\n",
"// H2   = (1/µo)*((3.3/5)ax + (1.3/5)ay - (0.3/5)az)\n",
"// H2   = (1/µo)*(0.66ax +0.26ay - 0.06az)\n",
"mprintf('B2 = (3.3ax +1.3ay - 0.3az)\n H2 = (1/µo)*(0.66ax +0.26ay - 0.06az)' );\n",
"//------------------------------------------------------------------------------"
   ]
   }
,
{
		   "cell_type": "markdown",
		   "metadata": {},
		   "source": [
			"## Example 2.7: Finding_Amplitude_of_Displacement_current_density.sce"
		   ]
		  },
  {
"cell_type": "code",
	   "execution_count": null,
	   "metadata": {
	    "collapsed": true
	   },
	   "outputs": [],
"source": [
"// chapter 2 example 7\n",
"//------------------------------------------------------------------------------\n",
"clc;\n",
"clear;\n",
"\n",
"//        | ax            ay                az  |\n",
"// v*H =  | ∂/∂x         ∂/∂y             ∂/∂z | \n",
"//        | 0  10^6 *cos(377t + 1.2566*10^-6z) 0|\n",
"//     = ∂/∂z(10^6 *cos(377t + 1.2566*10^-6z))ax\n",
"//     = -1.2566*10^-6 *10^6sin(377t +1.2566*10^-6 z)\n",
"//     = -1.2566sin(377t + 1.2566*10^-6z)ax\n",
"mprintf('Amplitude of displacement current density = 1.2566 A/m^2');\n",
"//------------------------------------------------------------------------------"
   ]
   }
,
{
		   "cell_type": "markdown",
		   "metadata": {},
		   "source": [
			"## Example 2.8: Finding_amplitude_of_displacement_current_density.sce"
		   ]
		  },
  {
"cell_type": "code",
	   "execution_count": null,
	   "metadata": {
	    "collapsed": true
	   },
	   "outputs": [],
"source": [
"// chapter 2 example 8\n",
"//------------------------------------------------------------------------------\n",
"clc;\n",
"clear;\n",
"\n",
"//        | ax      ay                az            |\n",
"// v*E =  | ∂/∂x   ∂/∂y             ∂/∂z           | \n",
"//        | 0       0  80*cos(6.277*10^8t - 2.092y) |\n",
"// Electric flux density D =  εoE\n",
"//      = 8.85*10^-12 *80cos(6.277*10^8t - 2.092y)ax\n",
"//      = 708*10^-12 *cos(6.277*10^8 t -2.092y)ax\n",
"// Displacement current density = ∂D/∂t\n",
"// ∂D/∂t = -708*10^-12*6.277*10^8*sin(6.277*10^8t - 2.092y)ax\n",
"//       = -0.444sin(6.277*10^8t - 2.092y)ax\n",
"mprintf('Amplitude of displacement current density = 0.0444 A/m^2');\n",
"//------------------------------------------------------------------------------"
   ]
   }
,
{
		   "cell_type": "markdown",
		   "metadata": {},
		   "source": [
			"## Example 2.9: Finding_electric_and_magnetic_field_intensity.sce"
		   ]
		  },
  {
"cell_type": "code",
	   "execution_count": null,
	   "metadata": {
	    "collapsed": true
	   },
	   "outputs": [],
"source": [
"// chapter 2 example 9\n",
"//------------------------------------------------------------------------------\n",
"clc;\n",
"clear;\n",
"\n",
"// A   = (10^-3 y cos(3*10^8 t)cosz)az\n",
"// V   = 3*10^5 y sin(3*10^8 t)sinz volts\n",
"uo     = 4*%pi*10^-7\n",
"ur     = 1; \n",
"er     = 1;\n",
"\n",
"//        | ax      ay                az            |\n",
"// v*A =  | ∂/∂x   ∂/∂y             ∂/∂z           | \n",
"//        | 0       0    (10^-3 y cos(3*10^8 t)cosz)|\n",
"//     = ∂/∂y(10^-3 y cos(3*10^8 t)cosz)ax\n",
"//     = 10^-3 ax cos(3*10^8t)cosz\n",
"// H   = B/(µoµr)\n",
"// H   = (10^-3 ax cos(3*10^8t)cosz)/( 4*%pi*10^-7)\n",
"// H   = 796axcos(3*10^8 t)cosz\n",
"// Electric intensity can be computed from\n",
"// E   = - V V - ∂A/∂t\n",
"// Now V V = ∂V/∂x ax + ∂V/∂y ay + ∂V/∂z az\n",
"//  = 3*10^5 sin 3*10^8 t sinz + 3*10^5 y sin3*10^8 t cosz\n",
"// ∂A/∂t = -10^-3 * 3*10^8 y sin 3*10^8t cosz\n",
"// E     = 3*10^5 sin 3*10^8 t sinz + 3*10^5 y sin3*10^8 t cosz + 3*10^5 y sin 3*10^8t cosz\n",
"// E     = -3*10^5 sin 3*10^8tsinz\n",
"mprintf('magnetic field intensity = 796axcos(3*10^8 t)cosz\n Electric field intensity = -3*10^5 sin 3*10^8tsinz')"
   ]
   }
],
"metadata": {
		  "kernelspec": {
		   "display_name": "Scilab",
		   "language": "scilab",
		   "name": "scilab"
		  },
		  "language_info": {
		   "file_extension": ".sce",
		   "help_links": [
			{
			 "text": "MetaKernel Magics",
			 "url": "https://github.com/calysto/metakernel/blob/master/metakernel/magics/README.md"
			}
		   ],
		   "mimetype": "text/x-octave",
		   "name": "scilab",
		   "version": "0.7.1"
		  }
		 },
		 "nbformat": 4,
		 "nbformat_minor": 0
}
