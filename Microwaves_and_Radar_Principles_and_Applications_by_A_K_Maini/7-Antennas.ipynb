{
"cells": [
 {
		   "cell_type": "markdown",
	   "metadata": {},
	   "source": [
       "# Chapter 7: Antennas"
	   ]
	},
{
		   "cell_type": "markdown",
		   "metadata": {},
		   "source": [
			"## Example 7.10: Finding_Received_signal_strength.sce"
		   ]
		  },
  {
"cell_type": "code",
	   "execution_count": null,
	   "metadata": {
	    "collapsed": true
	   },
	   "outputs": [],
"source": [
"// chapter 7 example 10\n",
"//-----------------------------------------------------------------------------\n",
"clc;\n",
"clear;\n",
"// given data\n",
"RSSR        = 20;   // Rx signal strength in horizontal polarised antenna when rx RHCP\n",
"\n",
"// Calculations\n",
"// When incident polarisation is circularly polarised and the antenna is linearly polarised,there is a ploarisation loss of 3dB\n",
"ISS         = RSSR + 3;     \n",
"// a\n",
"// when the Rx polarisation is same as the antenna polarisation , the polarisation loss is zero\n",
"RSS_HP      = ISS;      // rx signal strength for incident wave horizontally polarised\n",
"// b\n",
"// when the incident wave is vertically polarised ,the angle between the incident polarisation and the antenna polarisation is 90\n",
"// polarisation loss = 20log(1/cos( φ))\n",
"//                   = 20log(1/cos90) = ∞\n",
"RSS_VP      = 0;        // rx signal strength for incident wave vertically polarised\n",
"// c\n",
"// When the incident wave is LHCP and the antenna polarisation is linear ,there will be a 3dB polarisation loss and the \n",
"// Rx signal strength therefore will be 20 dB only\n",
"RSS_LHCP    = RSSR;      // rx signal strength for incident wave Left hand circularly polarised\n",
"// d\n",
"// The angle between the incident wave polarisation and the antenna polarisation is 60 degrees\n",
"phi         = 60;                               // rx wave polarisation angle with horizontal\n",
"PL          = 20*log10(1/cos(60*%pi/180));      // polarisation loss in dB\n",
"RSS_Pangle  = ISS - PL;\n",
"//output\n",
"mprintf('Received signal strength if incident wave horizontally polarised = %d dB\n Received signal strength if incident wave vertically polarised = %d dB\n Received signal strength if incident wave Left hand circularly polarised is %d dB\n Received signal strength if Received wave polarisation making 60deg angle with horizontal is %3.0f dB',RSS_HP,RSS_VP,RSS_LHCP,RSS_Pangle);\n",
"//--------------------------------------------------------------------------------\n",
"\n",
""
   ]
   }
,
{
		   "cell_type": "markdown",
		   "metadata": {},
		   "source": [
			"## Example 7.11: Finding_length_of_halfwave_dipole.sce"
		   ]
		  },
  {
"cell_type": "code",
	   "execution_count": null,
	   "metadata": {
	    "collapsed": true
	   },
	   "outputs": [],
"source": [
"// chapter 7 example 11\n",
"//-----------------------------------------------------------------------------\n",
"clc;\n",
"clear;\n",
"// given data\n",
"f       = 300*10^6;     // operating frequency in Hz\n",
"c       = 3*10^10;       // velocity of EM wave in cm/s\n",
"\n",
"// Calculations\n",
"lamda   = c/f;          // wavelength in cm\n",
"// Physical length of antenna is made 5% shorter than desired length as per rule of thumb\n",
"l       = lamda/2;      // length of halfwave dipole\n",
"lphy    = l-(5/100)*l;  // as per rule of thumb\n",
"\n",
"// Output\n",
"mprintf('Length of a half wave dipole to be cut = %3.1f cm',lphy);\n",
"//------------------------------------------------------------------------------"
   ]
   }
,
{
		   "cell_type": "markdown",
		   "metadata": {},
		   "source": [
			"## Example 7.12: Finding_input_impedance.sce"
		   ]
		  },
  {
"cell_type": "code",
	   "execution_count": null,
	   "metadata": {
	    "collapsed": true
	   },
	   "outputs": [],
"source": [
"// chapter 7 example 12\n",
"//-----------------------------------------------------------------------------\n",
"clc;\n",
"clear;\n",
"// given data\n",
"Zi      = 72;       // input impedance in ohms\n",
"// A    = 1.5a      // area of cross section in sq.cm\n",
"// Zif  = Zi*[(sum of areas of cross section of various components)/(Area of cross section of the driven element )]^2\n",
"// Zif  = 72*((a + 1.5a)/a)^2;\n",
"// Zif  = 72*(2.5*a/a)^2;\n",
"Zif     = 72*(2.5)^2;\n",
"mprintf('Input impedance for a folded dipole = %d Ω',Zif);\n",
"//------------------------------------------------------------------------------"
   ]
   }
,
{
		   "cell_type": "markdown",
		   "metadata": {},
		   "source": [
			"## Example 7.13: Designing_yagi_antenna.sce"
		   ]
		  },
  {
"cell_type": "code",
	   "execution_count": null,
	   "metadata": {
	    "collapsed": true
	   },
	   "outputs": [],
"source": [
"// chapter 7 example 13\n",
"//-----------------------------------------------------------------------------\n",
"clc;\n",
"clear;\n",
"// given data\n",
"f       = 60*10^6;      // frequency in Hz\n",
"c       = 3*10^8        // velocity of EM wave in m/s\n",
"\n",
"// Calculations\n",
"lamda   = c/f;          // wavelength in m\n",
"l_dipole= lamda/2       // length of diplole\n",
"// Physical length of antenna is made 5% shorter than desired length as per rule of thumb\n",
"L       = l_dipole - (5/100)*l_dipole;  // actual physical length\n",
"L_D     = L - (4/100)*L;                // length of director\n",
"L_R     = L + (4/100)*L;                // length of reflector\n",
"DDS     = 0.12*lamda;                   // director dipole spacing\n",
"RDS     = 0.2*lamda;                    // Reflector dipole spacing\n",
"\n",
"// Output\n",
"mprintf('Length of dipole = %3.3f m\n length of Director = %3.2f m\n length of Reflector = %3.2f m\n director dipole spacing = %3.1f m\n Reflector dipole spacing = %3.1f m',L,L_D,L_R,DDS,RDS);\n",
"//------------------------------------------------------------------------------\n",
""
   ]
   }
,
{
		   "cell_type": "markdown",
		   "metadata": {},
		   "source": [
			"## Example 7.14: finding_beamwidth.sce"
		   ]
		  },
  {
"cell_type": "code",
	   "execution_count": null,
	   "metadata": {
	    "collapsed": true
	   },
	   "outputs": [],
"source": [
"// chapter 7 example 14\n",
"//-----------------------------------------------------------------------------\n",
"clc;\n",
"clear;\n",
"// given data\n",
"D       = 2;        // Mouth diameter in m\n",
"f       = 2;        // focal length in m\n",
"bw3db   = 90/100;   // beamwidth of antenna chosen to be 90% of angle subtended by feed\n",
"\n",
"// Calculations\n",
"theta   = 4*atan(1/(4*f/D));    // angle subtended by the focal point feed at edges of reflector\n",
"theta_d = theta*180/%pi\n",
"Beam_w_3dB = bw3db*theta_d;       // 3 dB beam width\n",
"NNBW    = 2*(Beam_w_3dB );\n",
"\n",
"// Output\n",
"mprintf('3 dB Beamwidth = %3.1f°\n Null-to-Null beam width = %3.2f°\n',Beam_w_3dB,NNBW);\n",
"//------------------------------------------------------------------------------"
   ]
   }
,
{
		   "cell_type": "markdown",
		   "metadata": {},
		   "source": [
			"## Example 7.15: Finding_focal_length_of_antenna.sce"
		   ]
		  },
  {
"cell_type": "code",
	   "execution_count": null,
	   "metadata": {
	    "collapsed": true
	   },
	   "outputs": [],
"source": [
"// chapter 7 example 15\n",
"//-----------------------------------------------------------------------------\n",
"clc;\n",
"clear;\n",
"f       = 3;        // focal length in m\n",
"fpos    = 1.5;      // feed is placed 1.5m from pt of intersection os sec.reflector and antenna axis\n",
"\n",
"// Calculation\n",
"f_hyp   = f-fpos;   // focal length of hyperboloid from figure;\n",
"\n",
"// Output\n",
"mprintf('focal length of hyperboloid = %3.1f m',f_hyp);\n",
"//------------------------------------------------------------------------------"
   ]
   }
,
{
		   "cell_type": "markdown",
		   "metadata": {},
		   "source": [
			"## Example 7.16: Finding_distance_of_the_feed.sce"
		   ]
		  },
  {
"cell_type": "code",
	   "execution_count": null,
	   "metadata": {
	    "collapsed": true
	   },
	   "outputs": [],
"source": [
"// chapter 7 example 16\n",
"//-----------------------------------------------------------------------------\n",
"clc;\n",
"clear;\n",
"// given data\n",
"D       = 3;        // Mouth diameter in m\n",
"//f       = 2;        // focal length in m\n",
"bw3db   = 63;      // 3dB beam width\n",
"k       = 0.9;      // beam width is k times subtended angle\n",
"\n",
"// Calculations\n",
"theta   = bw3db/k;  // subtended angle\n",
"theta_r = theta\n",
"//theta   = 4*atan(1/(4*f/D));\n",
"f       = D/(4*tan((theta_r/4)*(%pi/180)));\n",
"\n",
"// Output\n",
"mprintf('Distance of feed from the point of intersection of antenna axis and the reflector surface = %3.2f m',f);\n",
"//------------------------------------------------------------------------------"
   ]
   }
,
{
		   "cell_type": "markdown",
		   "metadata": {},
		   "source": [
			"## Example 7.17: Finding_desired_phases_of_all_elements.sce"
		   ]
		  },
  {
"cell_type": "code",
	   "execution_count": null,
	   "metadata": {
	    "collapsed": true
	   },
	   "outputs": [],
"source": [
"// chapter 7 example 17\n",
"//-----------------------------------------------------------------------------\n",
"clc;\n",
"clear;\n",
"// given data\n",
"c       = 3*10^8;       // velocity of EM waves in m/s\n",
"f       = 2.5*10^9;     // operating frequency in Ghz\n",
"S       = 10*10^-2;     // inter element spacing\n",
"theta   = 10;           // steering angle \n",
"\n",
"// Calculations\n",
"lamda   = c/f          // Wavelength in m\n",
"phi     = (360*(S/lamda))*sin(theta*(%pi/180))\n",
"phi1    = 0*phi        // phase angle for element 1\n",
"phi2    = 1*phi        // phase angle for element 2\n",
"phi3    = 2*phi        // phase angle for element 3\n",
"phi4    = 3*phi        // phase angle for element 4\n",
"phi5    = 4*phi        // phase angle for element 5\n",
"\n",
"// Output\n",
"mprintf('Phase angles for elements 1,2,3,4,5 are %d°, %d°, %d°, %d°, %d°',phi1,phi2,phi3,phi4,phi5);\n",
"//------------------------------------------------------------------------------\n",
"\n",
""
   ]
   }
,
{
		   "cell_type": "markdown",
		   "metadata": {},
		   "source": [
			"## Example 7.18: Finding_Phase_angles.sce"
		   ]
		  },
  {
"cell_type": "code",
	   "execution_count": null,
	   "metadata": {
	    "collapsed": true
	   },
	   "outputs": [],
"source": [
"// chapter 7 example 17\n",
"//-----------------------------------------------------------------------------\n",
"clc;\n",
"clear;\n",
"// Data is taken from Example 17. The beam steers towards left of the axis with all parameters remaining in Ex 17 are same\n",
"c       = 3*10^8;       // velocity of EM waves in m/s\n",
"f       = 2.5*10^9;     // operating frequency in Ghz\n",
"S       = 10*10^-2;     // inter element spacing\n",
"theta   = -10;           // steering angle \n",
"\n",
"// Calculations\n",
"lamda   = c/f          // Wavelength in m\n",
"phi     = (360*S/lamda)*sin(theta*%pi/180)\n",
"phi1    = 0*phi        // phase angle for element 1\n",
"phi2    = 1*phi        // phase angle for element 2\n",
"phi3    = 2*phi        // phase angle for element 3\n",
"phi4    = 3*phi        // phase angle for element 4\n",
"phi5    = 4*phi        // phase angle for element 5\n",
"\n",
"// Output\n",
"mprintf('Phase angles for elements 1,2,3,4,5 are %d°, %d°, %d°, %d°, %d°',phi1,phi2,phi3,phi4,phi5);\n",
"//------------------------------------------------------------------------------\n",
"\n",
""
   ]
   }
,
{
		   "cell_type": "markdown",
		   "metadata": {},
		   "source": [
			"## Example 7.19: Finding_beam_position.sce"
		   ]
		  },
  {
"cell_type": "code",
	   "execution_count": null,
	   "metadata": {
	    "collapsed": true
	   },
	   "outputs": [],
"source": [
"// chapter 7 example 8\n",
"//-----------------------------------------------------------------------------\n",
"clc;\n",
"clear;\n",
"// given data\n",
"S       = 5*10^-2;      // inter spacing distance\n",
"lamda   = 6*10^-2;      // operating wavelength in cms\n",
"phi_Az   = 25            // angle in azimuth direction\n",
"phi_E    = 35            // angle in Elevation direction\n",
"\n",
"// Calculations\n",
"theta_Az  = asin((lamda*phi_Az)/(360*S))\n",
"theta_E   = asin((lamda*phi_E)/(360*S))\n",
"Theta_Az  = theta_Az*(180/%pi)\n",
"Theta_E   = theta_E*(180/%pi)\n",
"\n",
"// Output\n",
"mprintf('Steering angle in Azimuth = %3.1f°\n Steering angle in Elevation = %3.1f°',Theta_Az,Theta_E);\n",
"//-----------------------------------------------------------------------------"
   ]
   }
,
{
		   "cell_type": "markdown",
		   "metadata": {},
		   "source": [
			"## Example 7.1: Calculating_Q.sce"
		   ]
		  },
  {
"cell_type": "code",
	   "execution_count": null,
	   "metadata": {
	    "collapsed": true
	   },
	   "outputs": [],
"source": [
"// chapter 7 example 1\n",
"//-----------------------------------------------------------------------------\n",
"clc;\n",
"clear;\n",
"// given data\n",
"Ldipole    = 50;        // Length of dipole in cm\n",
"c          = 3*10^10;   // velocity of EM wave in cm/s\n",
"BW         = 10*10^6;   // bandwidth in Hz\n",
"\n",
"// Calculations\n",
"lamda      = 2*Ldipole;     // wavelength in cm\n",
"fo         = c/lamda;       // operating frequency in Hz\n",
"Q          = fo/BW          // quality factor\n",
"\n",
"// Output\n",
"mprintf('Q = %d',Q);\n",
"//------------------------------------------------------------------------------"
   ]
   }
,
{
		   "cell_type": "markdown",
		   "metadata": {},
		   "source": [
			"## Example 7.2: Finding_Directivity.sce"
		   ]
		  },
  {
"cell_type": "code",
	   "execution_count": null,
	   "metadata": {
	    "collapsed": true
	   },
	   "outputs": [],
"source": [
"// chapter 7 example 2\n",
"//-----------------------------------------------------------------------------\n",
"clc;\n",
"clear;\n",
"// given data\n",
"Rr      = 72;       // Radiation resistance in ohms\n",
"Rl      = 8;        // Loss resistance in ohms\n",
"Ap      = 27;       // power gain \n",
"\n",
"// Calculations\n",
"n       = Rr/(Rr + Rl);     // radiation efficiency\n",
"D       = Ap/n;             // Directivity\n",
"D_dB    = 10*log10(D);      // directivity in dB\n",
"\n",
"// Output\n",
"mprintf('Directivity = %3.2f dB',D_dB );\n",
"//------------------------------------------------------------------------------"
   ]
   }
,
{
		   "cell_type": "markdown",
		   "metadata": {},
		   "source": [
			"## Example 7.3: Finding_Aperture_and_gain_of_antenna.sce"
		   ]
		  },
  {
"cell_type": "code",
	   "execution_count": null,
	   "metadata": {
	    "collapsed": true
	   },
	   "outputs": [],
"source": [
"// chapter 7 example 3\n",
"//-----------------------------------------------------------------------------\n",
"clc;\n",
"clear;\n",
"// given data\n",
"AZ_BW      = 0.5;      // beamwidth in degrees\n",
"E_BW       = 0.5;      // beamwidth in degrees\n",
"lamda      = 3*10^-2;  // radar emission wavelength\n",
"\n",
"// Calculations\n",
"\n",
"AZ_BW_r    = AZ_BW*%pi/180;     // azimuth beamwidth in radians\n",
"E_BW_r     = E_BW*%pi/180;     // elevation beamwidth in radians\n",
"G          = (4*%pi)/(AZ_BW_r *E_BW_r )     // antenna gain\n",
"G_db       = 10*log10(G)        // gain in dB\n",
"A          = (G*lamda*lamda)/(4*%pi);   // antenna aperture\n",
"\n",
"// Output\n",
"mprintf('Gain of Antenna = %3.2f dB\n Antenna Aperture = %3.3f m',G_db,A);\n",
"//------------------------------------------------------------------------------"
   ]
   }
,
{
		   "cell_type": "markdown",
		   "metadata": {},
		   "source": [
			"## Example 7.4: Finding_effective_aperture_of_antenna.sce"
		   ]
		  },
  {
"cell_type": "code",
	   "execution_count": null,
	   "metadata": {
	    "collapsed": true
	   },
	   "outputs": [],
"source": [
"// chapter 7 example 4\n",
"//-----------------------------------------------------------------------------\n",
"clc;\n",
"clear;\n",
"// given data\n",
"n_az      = 0.5;        //length efficiency in azimuth direction\n",
"n_el      = 0.7;        //length efficiency in elevation direction\n",
"A         = 10;         // area in square mts\n",
"\n",
"// Calculations\n",
"n         = n_az * n_el;    // aperture efficiency\n",
"Ae        = n*A;            // Effective aperture\n",
"\n",
"// Output\n",
"mprintf('Effective aperture of the antenna = %3.1f sq.m',Ae);\n",
"//------------------------------------------------------------------------------"
   ]
   }
,
{
		   "cell_type": "markdown",
		   "metadata": {},
		   "source": [
			"## Example 7.5: finding_Directivity.sce"
		   ]
		  },
  {
"cell_type": "code",
	   "execution_count": null,
	   "metadata": {
	    "collapsed": true
	   },
	   "outputs": [],
"source": [
"// chapter 7 example 5\n",
"//-----------------------------------------------------------------------------\n",
"clc;\n",
"clear;\n",
"// given data\n",
"Ptot        = 100;      // certain antenna radiating power\n",
"Ptot_iso    = 10*10^3;  // isotropic antenna radiating power\n",
"\n",
"// Calculations\n",
"D           = 10*log10(Ptot_iso/Ptot);  // Directivity of antenna\n",
"\n",
"// Output\n",
"mprintf('Directivity of antenna = %d dB',D);\n",
"//------------------------------------------------------------------------------"
   ]
   }
,
{
		   "cell_type": "markdown",
		   "metadata": {},
		   "source": [
			"## Example 7.6: Finding_beamwidth_effective_aperture_and_gain.sce"
		   ]
		  },
  {
"cell_type": "code",
	   "execution_count": null,
	   "metadata": {
	    "collapsed": true
	   },
	   "outputs": [],
"source": [
"// chapter 7 example 6\n",
"//-----------------------------------------------------------------------------\n",
"clc;\n",
"clear;\n",
"// given data\n",
"D       = 3;        // diameter of the antenna in m\n",
"n_l     = 0.7;      // length efficiency\n",
"nr      = 0.9;      // radiation efficiency\n",
"f       = 10*10^9;  // antenna operating freq.\n",
"c       = 3*10^8;   // vel of EM waves in m/s\n",
"\n",
"// calculations\n",
"def     = D*n_l    // Effective diameter\n",
"lamda   = c/f      // wavelength in m\n",
"Beam_w  = lamda/def // beamwidth in radian\n",
"Beam_w_d= Beam_w*180/%pi;       // beam width in degree;\n",
"n_a     = n_l * n_l;    // Aperture efficiency\n",
"AA      = (%pi*D*D)/4;  // actual area in sq m\n",
"Ae      = AA*n_a;       // Effective aperture\n",
"G       = (4*%pi*Ae)/(lamda^2); // Gain\n",
"G_db    = 10*log10(G);\n",
"\n",
"// Output\n",
"mprintf('Beam Width = %3.2f degrees\n Effective Aperture = %3.2fsq m\n Gain = %3.1f dB',Beam_w_d,Ae,G_db);\n",
"//-------------------------------------------------------------------------------"
   ]
   }
,
{
		   "cell_type": "markdown",
		   "metadata": {},
		   "source": [
			"## Example 7.7: Finding_radiation_resistance.sce"
		   ]
		  },
  {
"cell_type": "code",
	   "execution_count": null,
	   "metadata": {
	    "collapsed": true
	   },
	   "outputs": [],
"source": [
"// chapter 7 example 7\n",
"//-----------------------------------------------------------------------------\n",
"clc;\n",
"clear;\n",
"// given data\n",
"// given (lamda/10) wire dipole\n",
"// Radiation resistance of short dipoles is Rr  = 790*(1/lamda)^2;\n",
"// Rr   = 790*(lamda/(10*lamda))^2;\n",
"// Rr   = 7.9;\n",
"mprintf('Radiation resistance = 7.9 ohms');\n",
"//------------------------------------------------------------------------------"
   ]
   }
,
{
		   "cell_type": "markdown",
		   "metadata": {},
		   "source": [
			"## Example 7.8: Finding_Beamwidth_effective_aperture_and_gain.sce"
		   ]
		  },
  {
"cell_type": "code",
	   "execution_count": null,
	   "metadata": {
	    "collapsed": true
	   },
	   "outputs": [],
"source": [
"// chapter 7 example 8\n",
"//-----------------------------------------------------------------------------\n",
"clc;\n",
"clear;\n",
"// given data\n",
"a_l     = 6;        // Azimuth length in m\n",
"n_a     = 0.7;      // Azimuth length efficiency\n",
"n_e     = 0.5;      // elevation length efficiency\n",
"e_l     = 4;        // elevation length in m\n",
"w       = 6;        // width of antenna\n",
"h       = 4;        // height of antenna \n",
"lamda   = 3*10^-2;  // wavelength\n",
"\n",
"// Calculations\n",
"Eff_A_l = a_l*n_a;  // effective azimuth length\n",
"Eff_E_l = e_l*n_e;  // effective elevation length\n",
"A       = w*h       // actual area\n",
"n       = n_a*n_e;  // aperture efficiency\n",
"Ae      = A*n;      // effective aperture\n",
"Az_BW   = lamda/Eff_A_l  // Azimuth beam width\n",
"E_BW    = lamda/Eff_E_l  // elevation beam width\n",
"Az_BW_d = Az_BW*180/%pi  // rad to deg conv\n",
"E_BW_d  = E_BW*180/%pi;  // rad to deg conv\n",
"G       = (4*%pi*Ae)/(lamda^2); //Gain\n",
"G_dB    = 10*log10(G);  // gain in dB\n",
"\n",
"// Output\n",
"mprintf('Azimuth Beamwidth = %3.2f degrees\n Elevation Beamwidth = %3.2f degrees\n Gain = %3.1f dB',Az_BW_d,E_BW_d,G_dB);\n",
"//-------------------------------------------------------------------------------"
   ]
   }
,
{
		   "cell_type": "markdown",
		   "metadata": {},
		   "source": [
			"## Example 7.9: Finding_beamwidth.sce"
		   ]
		  },
  {
"cell_type": "code",
	   "execution_count": null,
	   "metadata": {
	    "collapsed": true
	   },
	   "outputs": [],
"source": [
"// chapter 7 example 9\n",
"//-----------------------------------------------------------------------------\n",
"clc;\n",
"clear;\n",
"// given data\n",
"Beam_w_3db  = 0.4;\n",
"\n",
"// Calculations\n",
"N2N_Beam_w  = 2*Beam_w_3db; // Null to Null beamwidth\n",
"\n",
"// output\n",
"mprintf('Null to Null Beam width = %3.1f degrees',N2N_Beam_w);\n",
"//------------------------------------------------------------------------------"
   ]
   }
],
"metadata": {
		  "kernelspec": {
		   "display_name": "Scilab",
		   "language": "scilab",
		   "name": "scilab"
		  },
		  "language_info": {
		   "file_extension": ".sce",
		   "help_links": [
			{
			 "text": "MetaKernel Magics",
			 "url": "https://github.com/calysto/metakernel/blob/master/metakernel/magics/README.md"
			}
		   ],
		   "mimetype": "text/x-octave",
		   "name": "scilab",
		   "version": "0.7.1"
		  }
		 },
		 "nbformat": 4,
		 "nbformat_minor": 0
}
