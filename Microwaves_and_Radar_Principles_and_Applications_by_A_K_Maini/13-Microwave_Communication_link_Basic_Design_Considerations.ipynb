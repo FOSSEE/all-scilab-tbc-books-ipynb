{
"cells": [
 {
		   "cell_type": "markdown",
	   "metadata": {},
	   "source": [
       "# Chapter 13: Microwave Communication link Basic Design Considerations"
	   ]
	},
{
		   "cell_type": "markdown",
		   "metadata": {},
		   "source": [
			"## Example 13.10: Finding_composite_Fade_margin.sce"
		   ]
		  },
  {
"cell_type": "code",
	   "execution_count": null,
	   "metadata": {
	    "collapsed": true
	   },
	   "outputs": [],
"source": [
"//Chapter 13 example 10\n",
"//------------------------------------------------------------------------------\n",
"clc;\n",
"clear;\n",
"// Given data\n",
"DFM     = 40;       // dispersive fade margin\n",
"FFM     = 30;       // flat fade margin\n",
"\n",
"// Calculations\n",
"CFM     = -10*log10(10^(-FFM/10) + 10^(-DFM/10));\n",
"\n",
"// Output\n",
"mprintf('Composite Fade Margin = %3.2f dB\n',CFM);\n",
"mprintf(' minus sign is wrongly printed in Textbook');\n",
"//------------------------------------------------------------------------------"
   ]
   }
,
{
		   "cell_type": "markdown",
		   "metadata": {},
		   "source": [
			"## Example 13.11: proof.sce"
		   ]
		  },
  {
"cell_type": "code",
	   "execution_count": null,
	   "metadata": {
	    "collapsed": true
	   },
	   "outputs": [],
"source": [
"//Chapter 13 example 11\n",
"//------------------------------------------------------------------------------\n",
"clc;\n",
"clear;\n",
"// Given data\n",
"DFM1    = 50;       // dispersive fade margin\n",
"FFM     = 30;       // flat fade margin\n",
"DFM2    = 40;       // dispersive fade margin\n",
"\n",
"// Calculations\n",
"CFM1    = -10*log10(10^(-FFM/10) + 10^(-DFM1/10));\n",
"CFM2    = -10*log10(10^(-FFM/10) + 10^(-DFM2/10));\n",
"d_CFM   = CFM1 -CFM2;\n",
"\n",
"// Output\n",
"mprintf('CFM increases by %3.2f dB for a 10 dB increase in DFM',d_CFM);\n",
"//------------------------------------------------------------------------------"
   ]
   }
,
{
		   "cell_type": "markdown",
		   "metadata": {},
		   "source": [
			"## Example 13.12: Finding_outrage_time.sce"
		   ]
		  },
  {
"cell_type": "code",
	   "execution_count": null,
	   "metadata": {
	    "collapsed": true
	   },
	   "outputs": [],
"source": [
"//Chapter 13 example 12\n",
"//------------------------------------------------------------------------------\n",
"clc;\n",
"clear;\n",
"// Given data\n",
"f       = 23;               // operating freq. of microwave link in Ghz\n",
"D       = 10;               // single hop path length in miles\n",
"a       = 1;                // topographic factor\n",
"b       = 0.5;              // climatic factor\n",
"DFM     = 40;               // dispersive fade margin\n",
"FFM     = 30;               // flat fade margin\n",
"\n",
"// Calculations\n",
"CFM     = -10*log10(10^(-FFM/10) + 10^(-DFM/10));  // composite fade margin\n",
"U       = a*b*2.5*10^-6 *f*D^3 *10^(-CFM/10);     // unavailability factor \n",
"U1      = U*525600;                               // outrage time in min per year\n",
"\n",
"// Output\n",
"mprintf('Outrage time = %3.2f minutes per year',U1);\n",
"//------------------------------------------------------------------------------"
   ]
   }
,
{
		   "cell_type": "markdown",
		   "metadata": {},
		   "source": [
			"## Example 13.13: Finding_improvement_in_MTBF.sce"
		   ]
		  },
  {
"cell_type": "code",
	   "execution_count": null,
	   "metadata": {
	    "collapsed": true
	   },
	   "outputs": [],
"source": [
"//Chapter 13 example 13\n",
"//------------------------------------------------------------------------------\n",
"clc;\n",
"clear;\n",
"// Given data\n",
"MTBF2    = 20000;       // microwave Tx output MTBF figure  \n",
"MTBF3    = 60000;       // power amplifier portion of MTBF\n",
"\n",
"// Calculations\n",
"MTBF1    = (MTBF2*MTBF3)/(MTBF3-MTBF2); \n",
"impr     = MTBF1-MTBF2      // improvement in MTBF if power amplifier not used\n",
"\n",
"// output\n",
"mprintf('Improvement in MTBF of transmitter if power amplifier is not used = %d hours',impr);\n",
"//------------------------------------------------------------------------------"
   ]
   }
,
{
		   "cell_type": "markdown",
		   "metadata": {},
		   "source": [
			"## Example 13.1: Finding_path_length.sce"
		   ]
		  },
  {
"cell_type": "code",
	   "execution_count": null,
	   "metadata": {
	    "collapsed": true
	   },
	   "outputs": [],
"source": [
"//Chapter 13 example 1\n",
"//------------------------------------------------------------------------------\n",
"clc;\n",
"clear;\n",
"// Given data\n",
"f       = 6;            // microwave terrestrial comm link oper. freq in Ghz\n",
"D       = 50;           // single hop path length in miles\n",
"// mid way of path length\n",
"D1      = 25;\n",
"D2      = 25;\n",
"N       = 3;            // N value for third fresnal zone\n",
"\n",
"// calculations\n",
"F1      = 72.2*((D1*D2)/(D*f))^0.5;     // first fresnel zone\n",
"F3      = F1*sqrt(N);               // Third fresnal zone\n",
"\n",
"// Output\n",
"mprintf('First Fresnel zone distance = %3.1f feet\n Third Fresnel zone distance = %3.1f feet\n',F1,F3);\n",
"//------------------------------------------------------------------------------"
   ]
   }
,
{
		   "cell_type": "markdown",
		   "metadata": {},
		   "source": [
			"## Example 13.2: Finding_max_tolerable_obstacle_height.sce"
		   ]
		  },
  {
"cell_type": "code",
	   "execution_count": null,
	   "metadata": {
	    "collapsed": true
	   },
	   "outputs": [],
"source": [
"//Chapter 13 example 2\n",
"//------------------------------------------------------------------------------\n",
"clc;\n",
"clear;\n",
"// Given data\n",
"f       = 4.5;          // microwave terrestrial comm link oper. freq in Ghz\n",
"D       = 40;           // single hop path length in miles\n",
"hant    = 200;          // antenna ht. above surface of earth\n",
"// from fig\n",
"D1      = 5;\n",
"D2      = 35;\n",
"K       = 1;            // for normal case\n",
"\n",
"// calculations\n",
"F1      = 72.2*((D1*D2)/(D*f))^0.5;     // first fresnel zone\n",
"// computing curvature 'h' of earth at a distance of 10 miles from Transmitter if given by (D1*D2)/(1.5*K)\n",
"h       = (D1*D2)/(1.5*K);             // curvature of earth in feet\n",
"PLabove = hant - h;                    // path line is PLabove feet above surface of earth\n",
"hmaxtol = PLabove - F1;                 // max tolerable height in feet\n",
"\n",
"// Output\n",
"mprintf('Maximum tolerable height of obstacle above surface of earth = %3.1f feet',hmaxtol);\n",
"//------------------------------------------------------------------------------"
   ]
   }
,
{
		   "cell_type": "markdown",
		   "metadata": {},
		   "source": [
			"## Example 13.3: Finding_whether_first_fresnal_zone_pass_without_any_obstruction.sce"
		   ]
		  },
  {
"cell_type": "code",
	   "execution_count": null,
	   "metadata": {
	    "collapsed": true
	   },
	   "outputs": [],
"source": [
"//Chapter 13 example 3\n",
"//------------------------------------------------------------------------------\n",
"clc;\n",
"clear;\n",
"// Given data\n",
"f       = 4.5;          // microwave terrestrial comm link oper. freq in Ghz\n",
"D       = 40;           // single hop path length in miles\n",
"hant    = 200;          // antenna ht. above surface of earth\n",
"// from fig\n",
"D1      = 5;\n",
"D2      = 35;\n",
"K       = 2/3;            // K-factor\n",
"\n",
"// calculations\n",
"F1      = 72.2*((D1*D2)/(D*f))^0.5;     // first fresnel zone\n",
"// computing curvature 'h' of earth at a distance of 10 miles from Transmitter if given by (D1*D2)/(1.5*K)\n",
"h       = (D1*D2)/(1.5*K);             // curvature of earth in feet\n",
"PLabove = hant - h;                    // path line is PLabove feet above surface of earth\n",
"if PLabove < F1 then\n",
"    mprintf('Available clearance above the surface of earth = %d feet\n Required first fresnal zone clearance = %3.1f feet,So it would be obstructed',PLabove,F1 )\n",
"end\n",
"//------------------------------------------------------------------------------"
   ]
   }
,
{
		   "cell_type": "markdown",
		   "metadata": {},
		   "source": [
			"## Example 13.4: Finding_outrage_time.sce"
		   ]
		  },
  {
"cell_type": "code",
	   "execution_count": null,
	   "metadata": {
	    "collapsed": true
	   },
	   "outputs": [],
"source": [
"//Chapter 13 example 4\n",
"//------------------------------------------------------------------------------\n",
"clc;\n",
"clear;\n",
"// Given data\n",
"UF      = 2*10^-4;      // unavailability factor\n",
"\n",
"// Calculations\n",
"outrage_t = UF*8760;    // outrage time in hours per year\n",
"\n",
"// Output\n",
"mprintf('Outrage time = %3.3f hours per year',outrage_t);\n",
"//------------------------------------------------------------------------------"
   ]
   }
,
{
		   "cell_type": "markdown",
		   "metadata": {},
		   "source": [
			"## Example 13.5: Finding_improvement_in_probability_of_fade_margin.sce"
		   ]
		  },
  {
"cell_type": "code",
	   "execution_count": null,
	   "metadata": {
	    "collapsed": true
	   },
	   "outputs": [],
"source": [
"//Chapter 13 example 5\n",
"//------------------------------------------------------------------------------\n",
"clc;\n",
"clear;\n",
"// Given data\n",
"PL      = 50;       // path length in miles from fig\n",
"FM      = 40;       // fade margin in dB\n",
"P_fm_ex = 7*10^-5;  // prob. of fade margin getting exceeding\n",
"P_fm_ex_50db    = 6*10^-6;  // prob. of fade margin getting exceeding for fade margin 50dB\n",
"p_fig_30m_40db  = 2*10^-5;  // prob fig for patl length of 30miles and fade margin 40dB \n",
"\n",
"// Calculations\n",
"impr_prob_a = P_fm_ex/P_fm_ex_50db;    // improvement in prob. of fade margin for a\n",
"impr_prob_b = P_fm_ex/p_fig_30m_40db   // improvement in prob. of fade margin for b\n",
"\n",
"// Output\n",
"mprintf('(a):\n Improvement in probability of fade margin = %3.1f\n (b):\n Improvement in probability of fade margin = %3.1f\n',impr_prob_a,impr_prob_b);\n",
"//------------------------------------------------------------------------------"
   ]
   }
,
{
		   "cell_type": "markdown",
		   "metadata": {},
		   "source": [
			"## Example 13.6: Finding_unavailability_factor.sce"
		   ]
		  },
  {
"cell_type": "code",
	   "execution_count": null,
	   "metadata": {
	    "collapsed": true
	   },
	   "outputs": [],
"source": [
"//Chapter 13 example 6\n",
"//------------------------------------------------------------------------------\n",
"clc;\n",
"clear;\n",
"// Given data\n",
"UF_sh   = 0.01;     // unavail. factor for single hop\n",
"IF_SD   = 100;      // improvement factor due to space diversity\n",
"\n",
"// Calculations\n",
"UF_4hl  = 4* UF_sh/100;     // unavail. factor for 4 hop link and conv from %\n",
"UF      = UF_sh/(100*IF_SD);// unavail. factor for single hop link if it employs space diversity\n",
"\n",
"// Output\n",
"mprintf('unavail. factor for 4 hop link = %3.4f\n unavail. factor for single hop link if it employs space diversity = %3.0e',UF_4hl,UF);\n",
"//------------------------------------------------------------------------------"
   ]
   }
,
{
		   "cell_type": "markdown",
		   "metadata": {},
		   "source": [
			"## Example 13.7: Finding_Outrage_Time.sce"
		   ]
		  },
  {
"cell_type": "code",
	   "execution_count": null,
	   "metadata": {
	    "collapsed": true
	   },
	   "outputs": [],
"source": [
"//Chapter 13 example 7\n",
"//------------------------------------------------------------------------------\n",
"clc;\n",
"clear;\n",
"// Given data\n",
"f       = 3.5;              // operating freq. of microwave link in Ghz\n",
"D       = 30;               // single hop path length in miles\n",
"a       = 1;                // roughness\n",
"b       = 0.5;              // humid climate\n",
"F       = 40;               // fade margin in dB\n",
"\n",
"// Calculations\n",
"U       = a*b*2.5*10^-6 *f*D^3 *10^(-F/10);     // unavailability factor \n",
"U1      = U*525600;                             // unavailabilty factor in minutes per year\n",
"U4      = U1*4;                                 // unavailabilty factor for 4-hop link\n",
"// Output\n",
"mprintf('Outage Time = %3.1f minutes per year',U4);\n",
"//------------------------------------------------------------------------------"
   ]
   }
,
{
		   "cell_type": "markdown",
		   "metadata": {},
		   "source": [
			"## Example 13.8: Finding_change_in_value_of_unavailability_Factor.sce"
		   ]
		  },
  {
"cell_type": "code",
	   "execution_count": null,
	   "metadata": {
	    "collapsed": true
	   },
	   "outputs": [],
"source": [
"//Chapter 13 example 8\n",
"//------------------------------------------------------------------------------\n",
"clc;\n",
"clear;\n",
"// Given data\n",
"// D2 = 2*D1            // path length is doubled\n",
"// F2 = F1+10;          // fade margin is increased by 10dB\n",
"// f2 = 1.25f1          // frequency operation increased by 25 %\n",
"\n",
"//(U1/U2)  = (f1* D1^3 * 10^(-F1/10))/ (f1* D1^3 * 10^(-F1/10))\n",
"// sub above values\n",
"//(U1/U2)  = (f1* D1^3 * 10^(-F1/10)) / (1.25*f1*8*D1^3*10^(-F1/10)*10^-1) = 1\n",
"mprintf('Unavailability Factor remains unaltered');\n",
"//------------------------------------------------------------------------------"
   ]
   }
,
{
		   "cell_type": "markdown",
		   "metadata": {},
		   "source": [
			"## Example 13.9: Finding_improvement_in_outrage_time.sce"
		   ]
		  },
  {
"cell_type": "code",
	   "execution_count": null,
	   "metadata": {
	    "collapsed": true
	   },
	   "outputs": [],
"source": [
"//Chapter 13 example 9\n",
"//------------------------------------------------------------------------------\n",
"clc;\n",
"clear;\n",
"mprintf('The improvement factor is proportional to square of antenna spacing.Therefore,it will increase by a factor of 4\n Consequently,the unavailability factor and hence the outrage time will also reduce by a factor of 4');\n",
"//------------------------------------------------------------------------------"
   ]
   }
],
"metadata": {
		  "kernelspec": {
		   "display_name": "Scilab",
		   "language": "scilab",
		   "name": "scilab"
		  },
		  "language_info": {
		   "file_extension": ".sce",
		   "help_links": [
			{
			 "text": "MetaKernel Magics",
			 "url": "https://github.com/calysto/metakernel/blob/master/metakernel/magics/README.md"
			}
		   ],
		   "mimetype": "text/x-octave",
		   "name": "scilab",
		   "version": "0.7.1"
		  }
		 },
		 "nbformat": 4,
		 "nbformat_minor": 0
}
