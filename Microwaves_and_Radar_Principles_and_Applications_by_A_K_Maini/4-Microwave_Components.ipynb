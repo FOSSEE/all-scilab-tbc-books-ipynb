{
"cells": [
 {
		   "cell_type": "markdown",
	   "metadata": {},
	   "source": [
       "# Chapter 4: Microwave Components"
	   ]
	},
{
		   "cell_type": "markdown",
		   "metadata": {},
		   "source": [
			"## Example 4.10: Finding_length_of_resonator.sce"
		   ]
		  },
  {
"cell_type": "code",
	   "execution_count": null,
	   "metadata": {
	    "collapsed": true
	   },
	   "outputs": [],
"source": [
"// chapter 4 example 10\n",
"//-----------------------------------------------------------------------------\n",
"clc;\n",
"clear;\n",
"// given data\n",
"di       = 8;        // internal diameter in cms\n",
"a        = 4;        // internal radius in cms\n",
"fo      = 10*10^9;  // operating frequency in Ghz\n",
"ha01    = 2.405;    // Eigen value of bessel function\n",
"c       = 3*10^10   // velocity of EM wave in cm/sec\n",
"// For TM011 mode\n",
"m       = 0\n",
"n       = 1\n",
"p       = 1\n",
"\n",
"// Calcultions\n",
"//f0  = (c/2*pi)*sqrt((ha/a)^2 + (p*pi/d)^2)  operating frequency\n",
"d     = (p*%pi)/(sqrt((fo*2*%pi/c)^2 - (ha01/a)^2))   //length of resonator\n",
"\n",
"// Output\n",
"mprintf('Length of resonator = %3.3f cm',d);\n",
"//------------------------------------------------------------------------------"
   ]
   }
,
{
		   "cell_type": "markdown",
		   "metadata": {},
		   "source": [
			"## Example 4.11: Finding_resonant_frequency.sce"
		   ]
		  },
  {
"cell_type": "code",
	   "execution_count": null,
	   "metadata": {
	    "collapsed": true
	   },
	   "outputs": [],
"source": [
"// chapter 4 example 11\n",
"//-----------------------------------------------------------------------------\n",
"clc;\n",
"clear;\n",
"// given data\n",
"di       = 6;        // internal diameter in cms\n",
"d        = 5;        // length in cm\n",
"a        = 4;        // internal radius in cms\n",
"fo      = 10*10^9;  // operating frequency in Ghz\n",
"ha01    = 2.405;    // Eigen value of bessel function\n",
"ha11    = 1.841;    // Eigen value of bessel function\n",
"c       = 3*10^10   // velocity of EM wave in cm/sec\n",
"// For TM011 mode and TE111 mode\n",
"m0       = 0\n",
"m1       = 1\n",
"n1       = 1\n",
"p1       = 1\n",
"p2       = 2\n",
"\n",
"// Calcultions\n",
"f0  = (c/(2*%pi))*sqrt((ha01/a)^2 + (p2*%pi/d)^2)           //resonant frequency for TM012 mode \n",
"f01  = (c/(2*%pi))*sqrt((ha11/a)^2 + (p1*%pi/d)^2)           //resonant frequency for TE111 mode \n",
"\n",
"// Output\n",
"mprintf('Resonant frequency for TM012 mode = %3.3f Ghz\n Resonant frequency for TM111 mode = %3.3f Ghz\n',f0/10^9,f01/10^9 );\n",
"//------------------------------------------------------------------------------"
   ]
   }
,
{
		   "cell_type": "markdown",
		   "metadata": {},
		   "source": [
			"## Example 4.1: Finding_power_at_coupled_port.sce"
		   ]
		  },
  {
"cell_type": "code",
	   "execution_count": null,
	   "metadata": {
	    "collapsed": true
	   },
	   "outputs": [],
"source": [
"// chapter 4 example 1\n",
"//-----------------------------------------------------------------------------\n",
"clc;\n",
"clear;\n",
"// given data\n",
"Pi      = 10;           // Input power in mW\n",
"CF      = 20;           // coupling factor in dB\n",
"\n",
"// calculations\n",
"// CF(db)   = 10log(Pi/Pc)\n",
"Pc      = Pi/(10^(CF/10))  // antilog conversion and coupling power\n",
"\n",
"// Output\n",
"mprintf('Coupled Power = %d uW',Pc*10^3);\n",
"//------------------------------------------------------------------------------"
   ]
   }
,
{
		   "cell_type": "markdown",
		   "metadata": {},
		   "source": [
			"## Example 4.2: Finding_power_available_at_the_straight_through_port_output.sce"
		   ]
		  },
  {
"cell_type": "code",
	   "execution_count": null,
	   "metadata": {
	    "collapsed": true
	   },
	   "outputs": [],
"source": [
"// chapter 4 example 2\n",
"//-----------------------------------------------------------------------------\n",
"clc;\n",
"clear;\n",
"// given data\n",
"Pi      = 10;           // Input power in mW\n",
"IL      = 0.4;          // insertion loss in dB\n",
"// calculations\n",
"// ILdb)   = 10log(Pi/Po)\n",
"Po      = Pi/(10^(IL/10))  // antilog conversion and coupling power\n",
"\n",
"// Output\n",
"mprintf('Power available at the straight through port output = %3.3f mW',Po);\n",
"//------------------------------------------------------------------------------"
   ]
   }
,
{
		   "cell_type": "markdown",
		   "metadata": {},
		   "source": [
			"## Example 4.3: Finding_directivity_power_at_isolated_port.sce"
		   ]
		  },
  {
"cell_type": "code",
	   "execution_count": null,
	   "metadata": {
	    "collapsed": true
	   },
	   "outputs": [],
"source": [
"// chapter 4 example 3\n",
"//-----------------------------------------------------------------------------\n",
"clc;\n",
"clear;\n",
"// given data\n",
"CF      = 20;       // Coupling factor in dB\n",
"I       = 50;       // Isolation in dB\n",
"Pc      = 100*10^-6; // coupling power in W\n",
"\n",
"// calculations\n",
"// D    = 10log(Pc/Piso)\n",
"D       = I - CF;           // Directivity in dB\n",
"Piso    = Pc/(10^(D/10))  // antilog conversion and coupling power\n",
"\n",
"// Output\n",
"mprintf('Directivity = %d dB\n Power at isolated port = %d nW',D,Piso*10^9);\n",
"//------------------------------------------------------------------------------"
   ]
   }
,
{
		   "cell_type": "markdown",
		   "metadata": {},
		   "source": [
			"## Example 4.4: Finding_power_available_at_output_port.sce"
		   ]
		  },
  {
"cell_type": "code",
	   "execution_count": null,
	   "metadata": {
	    "collapsed": true
	   },
	   "outputs": [],
"source": [
"// chapter 4 example 4\n",
"//-----------------------------------------------------------------------------\n",
"clc;\n",
"clear;\n",
"// given data\n",
"CF      = 20;           // coupling factor in dB\n",
"D       = 30;           // Directivity in dB\n",
"Pin     = 10;           // input power in dBm\n",
"\n",
"// Calculations\n",
"// 10logPi = Pin\n",
"Pi      = 10^(Pin/10);   // power in mW\n",
"I       = D + CF         // isolation in dB\n",
"Pc      = Pin - CF;\n",
"Pcwatts = 10^(Pc/10)     // power at coupled port in mW\n",
"Piso    = Pin - I\n",
"Pisowatts = 10^(Piso/10) // Power at isolated port in mW\n",
"Po      = Pi -(Pcwatts + Pisowatts);    // power at o/p port in mW\n",
"\n",
"// Output\n",
"mprintf('Power Available at the output port = %3.5f mW',Po);\n",
"//------------------------------------------------------------------------------"
   ]
   }
,
{
		   "cell_type": "markdown",
		   "metadata": {},
		   "source": [
			"## Example 4.5: Finding_directivity.sce"
		   ]
		  },
  {
"cell_type": "code",
	   "execution_count": null,
	   "metadata": {
	    "collapsed": true
	   },
	   "outputs": [],
"source": [
"// chapter 4 example 5\n",
"//-----------------------------------------------------------------------------\n",
"clc;\n",
"clear;\n",
"// given data\n",
"Pi      = 5*10^-3;            // Input power in W\n",
"CF      = 10;                // coupling factor\n",
"Piso    = 10*10^-6           // power at isolated port in w\n",
"// calculations\n",
"// CF   = 10log(Pi/Pc)\n",
"Pc      = Pi/(10^(CF/10))  // antilog conversion and coupling power\n",
"// D    = 10log(Pc/Piso)    // Directivity\n",
"D       = 10*log10(Pc/Piso)\n",
"// Output\n",
"mprintf('Directivity = %3.0f dB\n',D);\n",
"//------------------------------------------------------------------------------"
   ]
   }
,
{
		   "cell_type": "markdown",
		   "metadata": {},
		   "source": [
			"## Example 4.6: Finding_lowest_resonant_frequency.sce"
		   ]
		  },
  {
"cell_type": "code",
	   "execution_count": null,
	   "metadata": {
	    "collapsed": true
	   },
	   "outputs": [],
"source": [
"// chapter 4 example 6\n",
"//-----------------------------------------------------------------------------\n",
"clc;\n",
"clear;\n",
"// given data\n",
"a       = 2;        // width in cm\n",
"b       = 1;        // Height in cm\n",
"d       = 3;        // length in cm\n",
"c       = 3*10^10;   // vel in free space in cm/s\n",
"// For TE101 mode\n",
"m       = 1\n",
"n       = 0;\n",
"p       = 1;\n",
"\n",
"// Calculations\n",
"fo      = (c/2)*sqrt((m/a)^2 + (n/b)^2 + (p/d)^2);\n",
"\n",
"// Output\n",
"mprintf('Resonant Frequency = %d Ghz',fo/10^9);\n",
"//------------------------------------------------------------------------------"
   ]
   }
,
{
		   "cell_type": "markdown",
		   "metadata": {},
		   "source": [
			"## Example 4.7: Finding_resonant_frequency.sce"
		   ]
		  },
  {
"cell_type": "code",
	   "execution_count": null,
	   "metadata": {
	    "collapsed": true
	   },
	   "outputs": [],
"source": [
"// chapter 4 example 7\n",
"//-----------------------------------------------------------------------------\n",
"clc;\n",
"clear;\n",
"// given data\n",
"fo      = 10;       // resonant freq in Ghz\n",
"mprintf('The Resonant frequency for a TM mode in a rectangular cavity resonator for a given integral\n');\n",
"mprintf(' values of m,n and p is same as that of a TE mode for same values of m,n and p\n');\n",
"mprintf(' Therefore,TM111 mode resonant frequency = %d Ghz',fo);\n",
"//------------------------------------------------------------------------------"
   ]
   }
,
{
		   "cell_type": "markdown",
		   "metadata": {},
		   "source": [
			"## Example 4.8: Finding_length_of_cavity_resonator.sce"
		   ]
		  },
  {
"cell_type": "code",
	   "execution_count": null,
	   "metadata": {
	    "collapsed": true
	   },
	   "outputs": [],
"source": [
"// chapter 4 example 8\n",
"//-----------------------------------------------------------------------------\n",
"clc;\n",
"clear;\n",
"// given data\n",
"a       = 4;        // width in cm\n",
"b       = 2;        // Height in cm\n",
"c       = 3*10^10;   // vel in free space in cm/s\n",
"fo      = 6*10^9;    // resonator frequency in Ghz\n",
"// For TE101 mode\n",
"m       = 1\n",
"n       = 0;\n",
"p       = 1;\n",
"\n",
"// Calculations\n",
"//fo      = (c/2)*sqrt((m/a)^2 + (n/b)^2 + (p/d)^2);\n",
"d       = sqrt((p^2)/((2*fo/c)^2 - (m/a)^2 - (n/b)^2));\n",
"// Output\n",
"mprintf('Length of cavity resonator = %3.1f cm',d);\n",
"//------------------------------------------------------------------------------"
   ]
   }
,
{
		   "cell_type": "markdown",
		   "metadata": {},
		   "source": [
			"## Example 4.9: Finding_length_of_cavity_resonator.sce"
		   ]
		  },
  {
"cell_type": "code",
	   "execution_count": null,
	   "metadata": {
	    "collapsed": true
	   },
	   "outputs": [],
"source": [
"// chapter 4 example 9\n",
"//-----------------------------------------------------------------------------\n",
"// Note : some data from is problem is taken from Ex4.8 \n",
"clc;\n",
"clear;\n",
"// given data\n",
"a       = 4;        // width in cm\n",
"b       = 2;        // Height in cm\n",
"c       = 3*10^10;   // vel in free space in cm/s\n",
"fo      = 6*10^9;    // resonator frequency in Ghz\n",
"d       = 3.2;       // length of cavity resonator in cm\n",
"// For TE101 mode\n",
"m       = 1\n",
"n       = 0;\n",
"\n",
"// Calculations\n",
"lamda_c = 2/sqrt((m/a)^2 + (n/b)^2);        // cut-off wavelength in m\n",
"lamda   = c/fo;                             // operating wavelength in m\n",
"lamda_g = lamda/sqrt(1 - (lamda/lamda_c)^2) // guide wavelength in m\n",
"\n",
"mprintf('Length of resonator is %3.1f cm and  guide wavelength is %3.1f cm',d,lamda_g);\n",
"mprintf('\n length of resonator is half of guide wavelength');\n",
"//------------------------------------------------------------------------------"
   ]
   }
],
"metadata": {
		  "kernelspec": {
		   "display_name": "Scilab",
		   "language": "scilab",
		   "name": "scilab"
		  },
		  "language_info": {
		   "file_extension": ".sce",
		   "help_links": [
			{
			 "text": "MetaKernel Magics",
			 "url": "https://github.com/calysto/metakernel/blob/master/metakernel/magics/README.md"
			}
		   ],
		   "mimetype": "text/x-octave",
		   "name": "scilab",
		   "version": "0.7.1"
		  }
		 },
		 "nbformat": 4,
		 "nbformat_minor": 0
}
