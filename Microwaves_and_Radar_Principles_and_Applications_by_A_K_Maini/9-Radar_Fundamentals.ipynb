{
"cells": [
 {
		   "cell_type": "markdown",
	   "metadata": {},
	   "source": [
       "# Chapter 9: Radar Fundamentals"
	   ]
	},
{
		   "cell_type": "markdown",
		   "metadata": {},
		   "source": [
			"## Example 9.10: Finding_Bandwidth_and_range_resolution.sce"
		   ]
		  },
  {
"cell_type": "code",
	   "execution_count": null,
	   "metadata": {
	    "collapsed": true
	   },
	   "outputs": [],
"source": [
"// Chapter 9 example 10\n",
"//------------------------------------------------------------------------------\n",
"clc;\n",
"clear;\n",
"// Given Data\n",
"f       = 10^9;         // CW radar waveform freq.\n",
"fm      = 100;          // modulation freq. in Hz\n",
"MaxfD   = 500;          // max freq deviation in Hz\n",
"c       = 3*10^8;       // vel. of EM waves in m/s\n",
"\n",
"// Calculations\n",
"Mf      = MaxfD/fm      // Modulation index\n",
"BW      = 2*(Mf + 1)*fm // Bandwidth\n",
"RR      = c/(2*BW);     // Range Resolution in m\n",
"\n",
"// Output\n",
"mprintf('Bandwidth = %d Hz\n Range Resolution = %d Km',BW,RR/1000);\n",
"//------------------------------------------------------------------------------"
   ]
   }
,
{
		   "cell_type": "markdown",
		   "metadata": {},
		   "source": [
			"## Example 9.11: Finding_matched_bandwidth_and_center_frequency_of_spectrum.sce"
		   ]
		  },
  {
"cell_type": "code",
	   "execution_count": null,
	   "metadata": {
	    "collapsed": true
	   },
	   "outputs": [],
"source": [
"// Chapter 9 example 11\n",
"//------------------------------------------------------------------------------\n",
"clc;\n",
"clear;\n",
"// Given Data\n",
"f       = 10^9;         // Centre freq. of spectrum\n",
"t       = 13            // pulse width in us\n",
"N       = 13;           // N-bit Barker code\n",
"\n",
"// Calculations\n",
"Sub_PW  = t/N;          // sub pulsewidth\n",
"match_BW= 1/Sub_PW;     // Matched bandwidth in Mhz\n",
"\n",
"// Output\n",
"mprintf('Matched Bandwidth = %d Mhz\n Center Frequency of the spectrum = %d Ghz',match_BW,f/10^9 );\n",
"//-----------------------------------------------------------------------------"
   ]
   }
,
{
		   "cell_type": "markdown",
		   "metadata": {},
		   "source": [
			"## Example 9.12: Finding_average_power_and_look_energy.sce"
		   ]
		  },
  {
"cell_type": "code",
	   "execution_count": null,
	   "metadata": {
	    "collapsed": true
	   },
	   "outputs": [],
"source": [
"// Chapter 9 example 12\n",
"//------------------------------------------------------------------------------\n",
"clc;\n",
"clear;\n",
"// Given Data\n",
"PW      = 10^-6;            // Pulse width in sec\n",
"Pp      = 100*10^3;         // Peak power in watts\n",
"PRF     = 1000;             // pulse rep.rate\n",
"N_target= 20;               // no of target hits in 1 dwell period\n",
"\n",
"// Calculations\n",
"PE      = Pp*PW;            // Pulse energy in Joule\n",
"LE      = N_target *PE;     // look energy\n",
"DC      = PW*PRF            // Duty cycle\n",
"Pav     = Pp*DC;            // Average power\n",
"Pavg    = 10*log10(Pav);    // Avg power in dB\n",
"\n",
"// Output\n",
"mprintf('Average power = %d dB\n Look Energy = %3.0f Joules',Pavg,LE);\n",
"//-----------------------------------------------------------------------------"
   ]
   }
,
{
		   "cell_type": "markdown",
		   "metadata": {},
		   "source": [
			"## Example 9.13: finding_duty_cycle_correction_factor.sce"
		   ]
		  },
  {
"cell_type": "code",
	   "execution_count": null,
	   "metadata": {
	    "collapsed": true
	   },
	   "outputs": [],
"source": [
"// Chapter 9 example 13\n",
"// Data taken from Ex 12\n",
"//------------------------------------------------------------------------------\n",
"clc;\n",
"clear;\n",
"// Given Data\n",
"PW      = 10^-6;            // Pulse width in sec\n",
"Pp      = 100*10^3;         // Peak power in watts\n",
"PRF     = 1000;             // pulse rep.rate\n",
"N_target= 20;               // no of target hits in 1 dwell period\n",
"\n",
"// Calculations\n",
"PE      = Pp*PW;            // Pulse energy in Joule\n",
"LE      = N_target *PE;     // look energy\n",
"DC      = PW*PRF            // Duty cycle\n",
"Pav     = Pp*DC;            // Average power\n",
"Pavg    = 10*log10(Pav);    // Avg power in dB\n",
"Pp_dB   = 10*log10(Pp);     // Peak power in dB\n",
"DCCF    = Pp_dB - Pavg      // Duty cycle correction factor\n",
"// Output\n",
"mprintf('Duty cycle correction factor = %d dB',DCCF);\n",
"//-----------------------------------------------------------------------------"
   ]
   }
,
{
		   "cell_type": "markdown",
		   "metadata": {},
		   "source": [
			"## Example 9.14: Finding_Equivalent_noise_temperature.sce"
		   ]
		  },
  {
"cell_type": "code",
	   "execution_count": null,
	   "metadata": {
	    "collapsed": true
	   },
	   "outputs": [],
"source": [
"// Chapter 9 example 14\n",
"//------------------------------------------------------------------------------\n",
"clc;\n",
"clear;\n",
"// Given Data\n",
"G_rx        = 97;       // Rx gain in dB\n",
"Bn          = 5*10^6;   // Bandwidth in Hz\n",
"To          = 300;      // temperature in kelvin\n",
"K           = 1.38*10^-23;  // Boltzmann constant in J/k\n",
"n           = -3        // o/p noise power in dBm\n",
"\n",
"// calculations\n",
"Pn_dB      = n-G_rx       // input noise power\n",
"Pn         = 10^(Pn_dB/10)*10^-3       // converting from dBm to watts\n",
"// Pn      = KToBnF;\n",
"F          = Pn/(K*To*Bn)  // Noise Factor\n",
"T          = To*[F - 1]    // Equivalent Noise Temperature\n",
"\n",
"// Output\n",
"mprintf('Equivalent Noise Temperature = %d°K',T );\n",
"//------------------------------------------------------------------------------\n",
""
   ]
   }
,
{
		   "cell_type": "markdown",
		   "metadata": {},
		   "source": [
			"## Example 9.15: Determining_ratio_of_noise_powers.sce"
		   ]
		  },
  {
"cell_type": "code",
	   "execution_count": null,
	   "metadata": {
	    "collapsed": true
	   },
	   "outputs": [],
"source": [
"// Chapter 9 example 15\n",
"//------------------------------------------------------------------------------\n",
"clc;\n",
"clear;\n",
"// Given Data\n",
"Gx      = 60;       // gain of Rx 'X' in dB\n",
"Gy      = 70;       // gain of Rx 'Y' in dB\n",
"Fx      = 3;        // Noise factor of 'X'\n",
"Fy      = 2;        // Noise factor of 'Y'\n",
"\n",
"// calculations\n",
"Gx_W    = 10^(Gx/10)    // gain in watts\n",
"Gy_W    = 10^(Gy/10)    // gain in watts\n",
"// k    = Pnx/Pny;      // Ratio of noise power levels produced at the o/p's of Rx 'X' and 'Y'\n",
"k       = (Fx*Gx_W)/(Fy*Gy_W);    // Ratio of noise power levels produced at the o/p's of Rx 'X' and 'Y'\n",
"\n",
"// output\n",
"mprintf('Ratio of noise power levels produced at the outputs of Rx X and Y = %3.2f',k);\n",
"//------------------------------------------------------------------------------"
   ]
   }
,
{
		   "cell_type": "markdown",
		   "metadata": {},
		   "source": [
			"## Example 9.16: Finding_noise_power.sce"
		   ]
		  },
  {
"cell_type": "code",
	   "execution_count": null,
	   "metadata": {
	    "collapsed": true
	   },
	   "outputs": [],
"source": [
"// Chapter 9 example 16\n",
"//------------------------------------------------------------------------------\n",
"clc;\n",
"clear;\n",
"// Given Data\n",
"Pn      = -70;          // Noise power in dBm\n",
"fl      = 10^6;         // lower cut-off freq in Hz\n",
"fh      = 11*10^6;      // upper cut-off freq in Hz\n",
"BP_fl   = 13*10^6;      // Bandpass filter lower cutoff freq\n",
"BP_fh   = 14*10^6;      // Bandpass filter lower cutoff freq\n",
"\n",
"// Calculations\n",
"Pn_W    = 10^(Pn/10)*10^-3;     // coversion from dBm to Watts\n",
"BW      = fh - fl\n",
"PSD     = Pn_W/BW              // Noise power spectral density\n",
"// Since white noise has the same spectral power density through the frequency spectrum,\n",
"// therefore Noise power in second case\n",
"B       = BP_fh - BP_fl\n",
"Pn_2    = PSD*B;                // Noise power in second case\n",
"\n",
"// Output\n",
"mprintf('Noise power for BandPass filter having Cutoff frequencies 13Mhz and 14Mhz = %3.0e W',Pn_2);\n",
"//--------------------------------------------------------------------------------\n",
""
   ]
   }
,
{
		   "cell_type": "markdown",
		   "metadata": {},
		   "source": [
			"## Example 9.17: Finding_azimuth_coordinates.sce"
		   ]
		  },
  {
"cell_type": "code",
	   "execution_count": null,
	   "metadata": {
	    "collapsed": true
	   },
	   "outputs": [],
"source": [
"// Chapter 9 example 16\n",
"//------------------------------------------------------------------------------\n",
"clc;\n",
"clear;\n",
"// Given Data from Figure triagle OAB\n",
"OA      = 100       // in Km\n",
"OB      = OA*cos(60*%pi/180);       // Range of Target 2\n",
"\n",
"// Output\n",
"mprintf('Range of Target-2 = %d Km\n Azimuth angle of target-1 = 60°\n Azimuth angle of Target-2 = 120°',OB);\n",
"//------------------------------------------------------------------------------"
   ]
   }
,
{
		   "cell_type": "markdown",
		   "metadata": {},
		   "source": [
			"## Example 9.1: Finding_max_unambiguous_range_of_radar.sce"
		   ]
		  },
  {
"cell_type": "code",
	   "execution_count": null,
	   "metadata": {
	    "collapsed": true
	   },
	   "outputs": [],
"source": [
"// Chapter 9 example 1\n",
"//------------------------------------------------------------------------------\n",
"clc;\n",
"clear;\n",
"// Given Data\n",
"PRF     = 1000;         // Pulse repetitive frequency in Hz\n",
"t       = 0.15*10^-3;   // Round propagation time in s\n",
"c       = 3*10^8;       // velocity of EM waves in m/s\n",
"// calculations\n",
"R       = (c*t)/2;      // Range\n",
"Runamb  = c/(2*PRF)     // Max unambiguous range\n",
"\n",
"// Output\n",
"mprintf('Target Range = %3.1f Km\n Maximum Unambiguous range = %d Km',R/1000,Runamb/1000);\n",
"//------------------------------------------------------------------------------"
   ]
   }
,
{
		   "cell_type": "markdown",
		   "metadata": {},
		   "source": [
			"## Example 9.2: Finding_Rx_signal_frequency.sce"
		   ]
		  },
  {
"cell_type": "code",
	   "execution_count": null,
	   "metadata": {
	    "collapsed": true
	   },
	   "outputs": [],
"source": [
"// Chapter 9 example 2\n",
"//------------------------------------------------------------------------------\n",
"clc;\n",
"clear;\n",
"// Given Data\n",
"f       = 10*10^9;      // radar Tx frequency\n",
"c       = 3*10^8;       // velocity of EM waves in m/s\n",
"V       = 108;          // vel of car in kmph\n",
"\n",
"// Calculations\n",
"lamda   = c/f;          // wavelength in m\n",
"Vr      = V*(5/18);     // vel of car in m/s\n",
"fd      = (2*Vr)/lamda  // Doppler shift in Hz\n",
"fr      = f + fd        // received freq \n",
"fr_away = f-fd          // Rx frequency if the car is moving away from radar\n",
"\n",
"// Output\n",
"mprintf('Doppler Shift = %d Khz\n Frequency of Received signal = %3.6f Ghz\n Received Frequency if car is moving away from radar = %3.6f Ghz',fd/1000,fr/10^9,fr_away/10^9);\n",
"//------------------------------------------------------------------------------"
   ]
   }
,
{
		   "cell_type": "markdown",
		   "metadata": {},
		   "source": [
			"## Example 9.3: Determining_whether_radar_is_capable_of_measuring_certain_radial_velocity.sce"
		   ]
		  },
  {
"cell_type": "code",
	   "execution_count": null,
	   "metadata": {
	    "collapsed": true
	   },
	   "outputs": [],
"source": [
"// Chapter 9 example 3\n",
"//------------------------------------------------------------------------------\n",
"clc;\n",
"clear;\n",
"// Given Data\n",
"f       = 10*10^9;      // radar Tx frequency\n",
"PRF     = 2000;         // Pulse repetitive frequency in Hz\n",
"Vr      = 0.5;          // radial vel in Mach\n",
"c       = 3*10^8;       // velocity of EM waves in m/s\n",
"vs      = 330;          // velocity of sound in m/s\n",
"\n",
"// Calculations\n",
"lamda           = c/f;          // wavelength in m\n",
"max_unamb_fd    = PRF/2;        // maximum unambiguous doppler shift\n",
"Vrunamb         = (lamda*max_unamb_fd)/2; // doppler shift\n",
"Vaircraft       = 0.5*vs;       // Converting from Mach to m/s\n",
"fd_desired      = (2*Vaircraft)/lamda;\n",
"PRF_desired     = 2*fd_desired; // desired PRF\n",
"\n",
"// Output\n",
"if  Vrunamb < Vaircraft then\n",
"    mprintf('The radar is not capable of determining unambiguously the velocity of the approaching aircraft\n');\n",
"end\n",
"mprintf(' Desired Pulse Repetition Rate = %d Khz',PRF_desired/1000);\n",
"//------------------------------------------------------------------------------"
   ]
   }
,
{
		   "cell_type": "markdown",
		   "metadata": {},
		   "source": [
			"## Example 9.4: Determining_Range_Resolution.sce"
		   ]
		  },
  {
"cell_type": "code",
	   "execution_count": null,
	   "metadata": {
	    "collapsed": true
	   },
	   "outputs": [],
"source": [
"// Chapter 9 example 4\n",
"//------------------------------------------------------------------------------\n",
"clc;\n",
"clear;\n",
"// Given Data\n",
"PW_tx   = 10^-6;            // Transmitted pulse width\n",
"Rx_PW   = 10^-6;            // Received pulse width        \n",
"c       = 3*10^8;           // velocity of EM waves in m/s\n",
"\n",
"// Calculations\n",
"RR      = (c*Rx_PW)/2;      // Range Resolution in m\n",
"\n",
"// output\n",
"mprintf('This Radar can resolve upto an inter target separation in range of %d m\n Therefore,given radar will be able to resolve the targets',RR);\n",
"//------------------------------------------------------------------------------"
   ]
   }
,
{
		   "cell_type": "markdown",
		   "metadata": {},
		   "source": [
			"## Example 9.5: Determining_max_beamwidth.sce"
		   ]
		  },
  {
"cell_type": "code",
	   "execution_count": null,
	   "metadata": {
	    "collapsed": true
	   },
	   "outputs": [],
"source": [
"// Chapter 9 example 5\n",
"//------------------------------------------------------------------------------\n",
"clc;\n",
"clear;\n",
"// Given Data\n",
"CRR     = 100;      // Cross range resolution in m\n",
"R       = 3000;     // radial range\n",
"\n",
"// Calculations\n",
"// CRR  = (R*theta3)*(%pi/180);\n",
"theta3  = (180*CRR)/(%pi*R)         // 3 dB beamwidth\n",
"\n",
"// Output\n",
"mprintf('3 dB beamwidth = %3.2f°',theta3);\n",
"//------------------------------------------------------------------------------"
   ]
   }
,
{
		   "cell_type": "markdown",
		   "metadata": {},
		   "source": [
			"## Example 9.6: Finding_min_look_time.sce"
		   ]
		  },
  {
"cell_type": "code",
	   "execution_count": null,
	   "metadata": {
	    "collapsed": true
	   },
	   "outputs": [],
"source": [
"// Chapter 9 example 6\n",
"//------------------------------------------------------------------------------\n",
"clc;\n",
"clear;\n",
"// Given Data\n",
"Vs      = 330;          // velocity of sound in m/s\n",
"NM      = 1.85*(5/18)   // 1NM equivalent in m/s\n",
"V1      = 0.5;          // velocity of first aircraft in mach\n",
"V2      = 400;          // velocity of second aircraft in NM/hr\n",
"theta   = 30;           // angle with radial axis in degrees\n",
"lamda   = 3*10^-2;       // wavelength in m\n",
"\n",
"// Calculations\n",
"v1      = V1*Vs         // velocity of first aircraft in m/s\n",
"fd1     = (2*v1)/lamda  // doppler freq.\n",
"v2      = V2*NM*cos(30*(%pi/180))  // velocity of second aircraft in m/s\n",
"fd2     = (2*v2)/lamda  // doppler freq\n",
"dd      = fd2 - fd1    // doppler difference\n",
"Tl      = 1/dd         // look time in s\n",
"\n",
"// Output\n",
"mprintf('Required minimum look time = %3.2f ms',Tl/10^-3);\n",
"mprintf('\n Note: Cos(30) value is taken as 0.5 in textbook');\n",
"//------------------------------------------------------------------------------"
   ]
   }
,
{
		   "cell_type": "markdown",
		   "metadata": {},
		   "source": [
			"## Example 9.7: Significance_of_denominator.sce"
		   ]
		  },
  {
"cell_type": "code",
	   "execution_count": null,
	   "metadata": {
	    "collapsed": true
	   },
	   "outputs": [],
"source": [
"// Chapter 9 example 7\n",
"//------------------------------------------------------------------------------\n",
"clc;\n",
"clear;\n",
"// Given Data\n",
"// Rmax     = [1000000/(12.4*PRF)]NM\n",
"//          = [1000000*t/12.4]NM\n",
"mprintf('The Numerator represents round trip propagation time in us\n');\n",
"mprintf(' Therefore, number 12.4 represents the units microseconds per nautical miles\n');\n",
"mprintf(' In other words, this means that the round propagation time for one nautical mile is 12.4 us which is equivalent to 6.66us for 1km range')"
   ]
   }
,
{
		   "cell_type": "markdown",
		   "metadata": {},
		   "source": [
			"## Example 9.8: Finding_center_frequency.sce"
		   ]
		  },
  {
"cell_type": "code",
	   "execution_count": null,
	   "metadata": {
	    "collapsed": true
	   },
	   "outputs": [],
"source": [
"// Chapter 9 example 8\n",
"//------------------------------------------------------------------------------\n",
"clc;\n",
"clear;\n",
"// Given Data\n",
"PW      = 10*10^-6;         // pulse width in sec\n",
"f       = 10*10^9;          // frequency in Hz\n",
"fm      = 1000;             // modulating frequency\n",
"\n",
"// calculations\n",
"BW_M    = 1/PW              // matched bandwidth\n",
"cf1     = f+fm;             // closest freq.\n",
"cf2     = f-fm;             // closest freq.\n",
"fo      = f;                // centre freq.\n",
"\n",
"// Output\n",
"mprintf('Centre of frequency spectrum = %d Khz\n The two closet frequencies to the center of the spectrum are %d Khz and %d Khz',fo/10^3,cf1/10^3,cf2/10^3);\n",
"//------------------------------------------------------------------------------"
   ]
   }
,
{
		   "cell_type": "markdown",
		   "metadata": {},
		   "source": [
			"## Example 9.9: Finding_centre_of_spectrum_bandwidth_and_compressed_pulse_width.sce"
		   ]
		  },
  {
"cell_type": "code",
	   "execution_count": null,
	   "metadata": {
	    "collapsed": true
	   },
	   "outputs": [],
"source": [
"// Chapter 9 example 9\n",
"//------------------------------------------------------------------------------\n",
"clc;\n",
"clear;\n",
"// Given Data\n",
"fc1     = 495;      // freq in Mhz\n",
"fc2     = 505;      // freq in Mhz\n",
"\n",
"// Calculations\n",
"fo      = (fc1 + fc2)/2;        // Center of spectrum in Mhz\n",
"BW      = fc2 - fc1;            // Bandwidth in Mhz\n",
"PW      = 1/BW;                 // compressed pulse width in us\n",
"\n",
"// Output\n",
"mprintf('Center of spectrum = %d Mhz\n Matched Bandwidth = %d Mhz\n Compressed Pulse width = %3.1fus',fo,BW,PW);\n",
"//------------------------------------------------------------------------------"
   ]
   }
],
"metadata": {
		  "kernelspec": {
		   "display_name": "Scilab",
		   "language": "scilab",
		   "name": "scilab"
		  },
		  "language_info": {
		   "file_extension": ".sce",
		   "help_links": [
			{
			 "text": "MetaKernel Magics",
			 "url": "https://github.com/calysto/metakernel/blob/master/metakernel/magics/README.md"
			}
		   ],
		   "mimetype": "text/x-octave",
		   "name": "scilab",
		   "version": "0.7.1"
		  }
		 },
		 "nbformat": 4,
		 "nbformat_minor": 0
}
