{
"cells": [
 {
		   "cell_type": "markdown",
	   "metadata": {},
	   "source": [
       "# Chapter 3: Transmission Media Transmission lines and Waveguides"
	   ]
	},
{
		   "cell_type": "markdown",
		   "metadata": {},
		   "source": [
			"## Example 3.10: Finding_per_unit_inductance_Zo_phase_shift_constant_and_reflection_coefficient.sce"
		   ]
		  },
  {
"cell_type": "code",
	   "execution_count": null,
	   "metadata": {
	    "collapsed": true
	   },
	   "outputs": [],
"source": [
"// Chapter 3 example 10\n",
"//------------------------------------------------------------------------------\n",
"clc;\n",
"clear;\n",
"// Given data\n",
"C   = 30;           // per unit capacitance in pF/m\n",
"Vp  = 260;          // velocity of propagation in m/us\n",
"f   = 500*10^6      // freq in Hz\n",
"Zl  = 50;           // terminating load impedance in ohm\n",
"\n",
"// calculations\n",
"v   = Vp/10^-6      // conversion from m/us to m/s\n",
"C1  = C*10^-12      // conversion from pF/m to F/m\n",
"// 1/sqrt(LC) = Vp\n",
"L   = 1/(v^2 * C1);  // per unit inductance\n",
"Zo  = sqrt(L/C1);     // charecteristic impedance in ohm\n",
"lamda = v/f          // wavelength\n",
"b    = (2*%pi)/lamda  // phase shift constant\n",
"p    = (Zl - Zo)/(Zl + Zo);     // Reflection coefficient\n",
"\n",
"// Output\n",
"mprintf('Per Unit inductance = %d nH/m\n Charecteristic Impedance = %d ohm\n Phase shift Constant = %d rad/m\n Reflection co-efficient = %3.3f',L*10^9,Zo,b,abs(p));\n",
"//------------------------------------------------------------------------------\n",
""
   ]
   }
,
{
		   "cell_type": "markdown",
		   "metadata": {},
		   "source": [
			"## Example 3.11: showing_certain_freq_passing_through_waveguide.sce"
		   ]
		  },
  {
"cell_type": "code",
	   "execution_count": null,
	   "metadata": {
	    "collapsed": true
	   },
	   "outputs": [],
"source": [
"// Chapter 3 example 11\n",
"//------------------------------------------------------------------------------\n",
"clc;\n",
"clear;\n",
"// Given data\n",
"a   = 1.5*10^-2;        // width of waveguide \n",
"b   = 1*10^-2           // narrow dimension of waveguide\n",
"er  = 4;                // dielectric constant\n",
"f   = 8*10^9;           // frequency in Hz\n",
"c   = 3*10^8            // velocity in m/s\n",
"\n",
"// calculations\n",
"lamda_c     = 2*a;      // cut-off wavelength for TE10 mode\n",
"lamda       = c/f       // wavelength corresponding to given freq.\n",
"lamda_d     = lamda/sqrt(er);   // wavelength when waveguide filled with dielectric\n",
"if lamda_d < lamda_c then\n",
"    mprintf('8 Ghz frequency will pass through the guide');\n",
"end"
   ]
   }
,
{
		   "cell_type": "markdown",
		   "metadata": {},
		   "source": [
			"## Example 3.12: Finding_min_frequency.sce"
		   ]
		  },
  {
"cell_type": "code",
	   "execution_count": null,
	   "metadata": {
	    "collapsed": true
	   },
	   "outputs": [],
"source": [
"// Chapter 3 example 12\n",
"//------------------------------------------------------------------------------\n",
"clc;\n",
"clear;\n",
"// Given data\n",
"a   = 4*10^-2;          // width of waveguide \n",
"b   = 2*10^-2           // narrow dimension of waveguide\n",
"er  = 4;                // dielectric constant\n",
"c   = 3*10^8            // velocity in m/s\n",
"\n",
"// Calculations\n",
"lamda_c     = 2*a;      // max cut-off wavelength\n",
"fcmin       = c/lamda_c // min freq\n",
"lamda_d     = lamda_c/sqrt(er);     // wavelength if we insert dielectric\n",
"fc          = c/lamda_d             // min frequency in presence of dielectric\n",
"\n",
"// Output\n",
"mprintf('Minimum Frequency that can be passed with dielectric in waveguide is %3.1f Ghz',fc/10^9);\n",
"//-------------------------------------------------------------------------------\n",
"\n",
" "
   ]
   }
,
{
		   "cell_type": "markdown",
		   "metadata": {},
		   "source": [
			"## Example 3.13: Showing_certain_frequency_does_not_pass_through_waveguide.sce"
		   ]
		  },
  {
"cell_type": "code",
	   "execution_count": null,
	   "metadata": {
	    "collapsed": true
	   },
	   "outputs": [],
"source": [
"// Chapter 3 example 13\n",
"//------------------------------------------------------------------------------\n",
"clc;\n",
"clear;\n",
"// Given data\n",
"f   = 1*10^9;       // frequency in Hz\n",
"a   = 5*10^-2;      // wall separation\n",
"c   = 3*10^8;       // velocity of EM wave in m/s\n",
"m   = 1;            // for TE10\n",
"n   = 0;            // for TE10\n",
"\n",
"// Calculations\n",
"// lamda0   = 2/sqrt((m/a)^2 + (n/b)^2)\n",
"lamda0      = (2*a)/m\n",
"lamda_frspc = c/f;\n",
"if lamda_frspc > lamda0 then\n",
"    mprintf('1 Ghz signal cannot propagate in TE10 mode')\n",
"else\n",
"    mprintf('1 Ghz signal can propagate in TE10 mode');\n",
"end\n",
"    \n",
"    \n",
"    "
   ]
   }
,
{
		   "cell_type": "markdown",
		   "metadata": {},
		   "source": [
			"## Example 3.14: Finding_longest_cutoff_wavelength.sce"
		   ]
		  },
  {
"cell_type": "code",
	   "execution_count": null,
	   "metadata": {
	    "collapsed": true
	   },
	   "outputs": [],
"source": [
"// Chapter 3 example 14\n",
"//------------------------------------------------------------------------------\n",
"clc;\n",
"clear;\n",
"// Given data\n",
"a   = 30;            // width of waveguide\n",
"b   = 20;           // narrow dimension of waveguide\n",
"c   = 3*10^8;       // velocity of EM wave in m/s\n",
"m   = 1;            // for TE10\n",
"n   = 0;            // for TE10\n",
"\n",
"// Calculations\n",
"// lamda0   = 2/sqrt((m/a)^2 + (n/b)^2)\n",
"lamda0      = (2*a)/m;      // longest cut-off wavelength in dominant mode TE10\n",
"\n",
"// Output\n",
"mprintf('longest cut-off wavelength = %d mm',lamda0 );\n",
"//-------------------------------------------------------------------------------"
   ]
   }
,
{
		   "cell_type": "markdown",
		   "metadata": {},
		   "source": [
			"## Example 3.15: Finding_frequency_range.sce"
		   ]
		  },
  {
"cell_type": "code",
	   "execution_count": null,
	   "metadata": {
	    "collapsed": true
	   },
	   "outputs": [],
"source": [
"// Chapter 3 example 15\n",
"//------------------------------------------------------------------------------\n",
"clc;\n",
"clear;\n",
"// Given data\n",
"a   = 4*10^-2;      // width of waveguide\n",
"b   = 2*10^-2;      // narrow dimension of waveguide\n",
"c   = 3*10^8;       // velocity of EM wave in m/s\n",
"m1  = 1;            // for TE10\n",
"m2  = 2;            // for TE20\n",
"n   = 0;            // for TE10\n",
"// Calculations\n",
"lamda_c     = 2*a       // cutoff wavelength for TE10 mode\n",
"f1          = c/lamda_c // frequency in Hz\n",
"// the frequency range for single mode operation is the range of frequencies corresponding to the dominant mode and the second highest cutoff wavelength\n",
"lamda_c_2   = 2/sqrt((m2/a)^2 + (n/b)^2)\n",
"f2          = c/lamda_c_2;   // freq at second largest cutoff wavelength\n",
"\n",
"// Output\n",
"mprintf('Therefore,single mode operating range = %3.2f Ghz to %3.1f Ghz\n',f1/10^9,f2/10^9 );\n",
"mprintf(' Note: instead of 3.75,3.5 is printed in textbook');\n",
"//------------------------------------------------------------------------------\n",
""
   ]
   }
,
{
		   "cell_type": "markdown",
		   "metadata": {},
		   "source": [
			"## Example 3.16: Finding_group_and_phase_velocity.sce"
		   ]
		  },
  {
"cell_type": "code",
	   "execution_count": null,
	   "metadata": {
	    "collapsed": true
	   },
	   "outputs": [],
"source": [
"// Chapter 3 example 16\n",
"//------------------------------------------------------------------------------\n",
"clc;\n",
"clear;\n",
"// Given data\n",
"a   = 7.2       ;    // width of waveguide in cm\n",
"b   = 3.4;          // narrow dimension of waveguide in cm\n",
"c   = 3*10^10;       // free space velocity of EM wave in cm/s\n",
"f   = 2.4*10^9;     // frequency in Hz\n",
"\n",
"// Calculation\n",
"lamda   = c/f       // free space wavelength in cm\n",
"lamda_c = 2*a       // cutoff wavelength in cm\n",
"lamda_g = lamda/sqrt(1 - (lamda/lamda_c)^2); // guide wavelength in cm\n",
"vp      = (lamda_g * c)/lamda                // phase velocity in cm/s\n",
"vg      = c^2/vp;                            // group velocity in cm/s\n",
"\n",
"// Output\n",
"mprintf('Group velocity = %3.1e cm/s\n Phase Velocity = %3.1e cm/s',vg,vp);\n",
"//------------------------------------------------------------------------------"
   ]
   }
,
{
		   "cell_type": "markdown",
		   "metadata": {},
		   "source": [
			"## Example 3.18: proof.sce"
		   ]
		  },
  {
"cell_type": "code",
	   "execution_count": null,
	   "metadata": {
	    "collapsed": true
	   },
	   "outputs": [],
"source": [
"// Chapter 3 example 18\n",
"//------------------------------------------------------------------------------\n",
"clc;\n",
"clear;\n",
"// let 'a' and 'b' be the broad and narrow dimensions of the rectangular guide and 'r' be internal radius of circular guide\n",
"// Dominant mode in rectangular guide =TE10\n",
"// cutoff wavelength = 2a\n",
"// dominant mode in circular guide = TE11\n",
"// cut-off wavelength = 2*pi*r/1.841  = 3.41r\n",
"// for the two cut-off wavelengths to equal\n",
"// 2a  = 3.41r\n",
"// a = 1.705r\n",
"// now area of cross section of rectangular guide = a*b\n",
"//assuming a= 2b,which is very reasonable assumption ,we get \n",
"// area of cross section of rectangular waveguide = a*a/2 = ((1.705^2)*r*r)/2 = 1.453r^2\n",
"// area of cross-section of circular guide = pi*r*r = 3.14r^2\n",
"// ratio of two cross sectional areas = (3.14r^2)/(1.453r^2) = 2.16\n",
"mprintf('Circular guide is 2.16 times larger in cross section as compared to rectangular guide');\n",
"//------------------------------------------------------------------------------"
   ]
   }
,
{
		   "cell_type": "markdown",
		   "metadata": {},
		   "source": [
			"## Example 3.19: Finding_all_the_possible_modes_that_will_propagate_in_a_waveguide.sce"
		   ]
		  },
  {
"cell_type": "code",
	   "execution_count": null,
	   "metadata": {
	    "collapsed": true
	   },
	   "outputs": [],
"source": [
"// Chapter 3 example 19\n",
"//------------------------------------------------------------------------------\n",
"clc;\n",
"clear;\n",
"// Given data\n",
"a   = 4*10^-2;      // width of waveguide\n",
"b   = 2*10^-2;      // narrow dimension of waveguide\n",
"c   = 3*10^8;       // velocity of EM wave in m/s\n",
"f   = 5*10^9        // operating frequency in Hz\n",
"m0  = 0;            // for TE01\n",
"m1  = 1;            // for TE10 / TE11 /TM11\n",
"n0  = 0;           // for TE10\n",
"n1  = 1;            // for TE11 or TM11  \n",
"// Calculations\n",
"lamda        = c/f;                         // operating wavelength\n",
"lamda_TE01   = 2/sqrt((m0/a)^2 + (n1/b)^2)  // cutoff wavelength for TE01\n",
"lamda_TE10   = 2/sqrt((m1/a)^2 + (n0/b)^2)  // cutoff wavelength for TE10\n",
"lamda_TE11   = 2/sqrt((m1/a)^2 + (n1/b)^2)  // cutoff wavelength for TE11 or TM11\n",
"if lamda_TE01 >lamda then\n",
"    mprintf('TE01 propagates in the given guide at the given operating frequency');\n",
"    elseif lamda_TE10 >lamda then\n",
"    mprintf('TE10 propagates in the given guide at the given operating frequency');\n",
"    elseif lamda_TE11 >lamda then\n",
"    mprintf('TE11 propagates in the given guide at the given operating frequency');\n",
"end"
   ]
   }
,
{
		   "cell_type": "markdown",
		   "metadata": {},
		   "source": [
			"## Example 3.20: Finding_frequency_of_wave.sce"
		   ]
		  },
  {
"cell_type": "code",
	   "execution_count": null,
	   "metadata": {
	    "collapsed": true
	   },
	   "outputs": [],
"source": [
"// Chapter 3 example 20\n",
"//------------------------------------------------------------------------------\n",
"clc;\n",
"clear;\n",
"// Given data\n",
"a   = 4*10^-2;      // width of waveguide\n",
"b   = 2*10^-2;      // narrow dimension of waveguide\n",
"c   = 3*10^8;       // velocity of EM wave in m/s\n",
"d   = 4*10^-2;      // distance b/w field maxima and minima\n",
"// Calculations\n",
"lamda_c     = 2*a;      // cut-off wavelength in dominant mode\n",
"lamda_g     = 4*d;      // guide wavelength\n",
"// lamda_g  = lamda0/(sqrt(1 - (lamda0/lamda_c)^2))\n",
"lamda0      = sqrt((lamda_c * lamda_g)^2 / (lamda_c^2 + lamda_g^2));\n",
"f0          = c/lamda0;     // frequency of the wave\n",
"\n",
"// Output\n",
"mprintf('Frequency of the wave = %3.3f Ghz',f0/10^9);\n",
"//------------------------------------------------------------------------------"
   ]
   }
,
{
		   "cell_type": "markdown",
		   "metadata": {},
		   "source": [
			"## Example 3.21: computing_guide_wavelength_phase_shift_constant_and_phase_velocity.sce"
		   ]
		  },
  {
"cell_type": "code",
	   "execution_count": null,
	   "metadata": {
	    "collapsed": true
	   },
	   "outputs": [],
"source": [
"// Chapter 3 example 21\n",
"//------------------------------------------------------------------------------\n",
"clc;\n",
"clear;\n",
"// Given data\n",
"a   = 6;      // width of waveguide in cm\n",
"b   = 3;      // narrow dimension of waveguide in cm\n",
"lamda = 4;    // operating wavelength in cm\n",
"c   = 3*10^8;       // velocity of EM wave in cm/s\n",
"\n",
"// Calculations\n",
"lamda_c  = 2*a;      // cut-off wavelength in dominant mode\n",
"lamda_g  = lamda/(sqrt(1 - (lamda/lamda_c)^2)) // guide wavelength\n",
"Vp       = (lamda_g/lamda)*c \n",
"b        = (2*%pi)/lamda_g;     // phase shift constant\n",
"\n",
"// Output\n",
"mprintf('Guide wavelength = %3.2f cm\n Phase velocity = %3.2e m/s\n Phase shift constant = %3.2f radians/cm',lamda_g,Vp,b)   \n",
"//------------------------------------------------------------------------------"
   ]
   }
,
{
		   "cell_type": "markdown",
		   "metadata": {},
		   "source": [
			"## Example 3.22: computing_cutoff_freq_phase_velocity_and_guided_wavelength.sce"
		   ]
		  },
  {
"cell_type": "code",
	   "execution_count": null,
	   "metadata": {
	    "collapsed": true
	   },
	   "outputs": [],
"source": [
"// Chapter 3 example 22\n",
"//------------------------------------------------------------------------------\n",
"clc;\n",
"clear;\n",
"// Given data\n",
"er      = 9;        // relative permittivity\n",
"c       = 3*10^10;   // velocity of EM wave in free space\n",
"f       = 2*10^9;   // operating frequency in Ghz\n",
"a       = 7;      // width of waveguide in cm\n",
"b       = 3.5;     // narrow dimension of waveguide in cm\n",
"\n",
"// calculations\n",
"lamda_c  = 2*a;                 // cut-off wavelength in dominant mode\n",
"fc       = c/lamda_c            // cut-off frequency in Hz\n",
"lamda    = c/(sqrt(er)*f);       // operating wavelength\n",
"lamda_g  = lamda/(sqrt(1 - (lamda/lamda_c)^2)) // guide wavelength\n",
"Vp       = (lamda_g/lamda)*c\n",
"\n",
"// Output\n",
"mprintf('Cut-off frequency = %3.3f Ghz\n Phase velocity = %3.2e m/s\n Guide wavelength = %3.2f cm',fc/10^9,Vp/10^2,lamda_g);\n",
"//------------------------------------------------------------------------------"
   ]
   }
,
{
		   "cell_type": "markdown",
		   "metadata": {},
		   "source": [
			"## Example 3.2: Finding_reflection_coefficient_and_SWR.sce"
		   ]
		  },
  {
"cell_type": "code",
	   "execution_count": null,
	   "metadata": {
	    "collapsed": true
	   },
	   "outputs": [],
"source": [
"// Chapter 3 example 2\n",
"//------------------------------------------------------------------------------\n",
"clc;\n",
"clear;\n",
"// Given data\n",
"Lr      = 18;       // return loss in db\n",
"// Calculations\n",
"// Lr   = 20*log(1/p);      \n",
"p       = 1/10^(Lr/20);     // reflection co-efficient\n",
"swr     = (1 + p)/(1 - p);      // standing wave ratio\n",
"// Output\n",
"mprintf('Reflection co-efficient is %3.3f\n SWR = %3.2f',p,swr);\n",
"//------------------------------------------------------------------------------"
   ]
   }
,
{
		   "cell_type": "markdown",
		   "metadata": {},
		   "source": [
			"## Example 3.3: Finding_min_length_of_cable.sce"
		   ]
		  },
  {
"cell_type": "code",
	   "execution_count": null,
	   "metadata": {
	    "collapsed": true
	   },
	   "outputs": [],
"source": [
"// Chapter 3 example 3\n",
"//------------------------------------------------------------------------------\n",
"clc;\n",
"clear;\n",
"// Given data\n",
"PW  = 30*10^-6;     // pulse width in sec\n",
"ips = 20*10^-6;     // inter pulse separation\n",
"v   = 3*10^8;       // propagation speed in m/s\n",
"\n",
"// Calculations\n",
"T   = PW+ips+PW+ips+PW      // time duration of the pulse train for having 3 pulses on the line at a time\n",
"l   = v*T;                  // minimum length of cable required\n",
"\n",
"// Output\n",
"mprintf('Minimum length of cable required = %d km',l/1000);\n",
"//------------------------------------------------------------------------------"
   ]
   }
,
{
		   "cell_type": "markdown",
		   "metadata": {},
		   "source": [
			"## Example 3.4: Finding_reflection_coefficient_and_characteristic_impedance.sce"
		   ]
		  },
  {
"cell_type": "code",
	   "execution_count": null,
	   "metadata": {
	    "collapsed": true
	   },
	   "outputs": [],
"source": [
"// Chapter 3 example 4\n",
"//------------------------------------------------------------------------------\n",
"clc;\n",
"clear;\n",
"// Given data\n",
"RmsVmax    = 100;      // max value of RMS vtg\n",
"RmsVmin    = 25;       // min value of RMS vtg\n",
"Zl         = 300;      // load impedance in ohm\n",
"\n",
"// Calculations\n",
"VSWR       = RmsVmax/RmsVmin;   \n",
"// wkt VSWR  = Zl/Zo; assuming Zl > Zo\n",
"Zo         = Zl/VSWR;   // charecteristic impedance in ohm\n",
"p          = (Zl - Zo)/(Zl + Zo);   // reflection co-efficient\n",
"\n",
"// Output\n",
"mprintf('Reflection Co-efficient = %3.1f\n Charecteristic impedance = %d ohm',p,Zo);\n",
"//------------------------------------------------------------------------------"
   ]
   }
,
{
		   "cell_type": "markdown",
		   "metadata": {},
		   "source": [
			"## Example 3.5: Finding_load_resistance_reflection_coefficient_and_power.sce"
		   ]
		  },
  {
"cell_type": "code",
	   "execution_count": null,
	   "metadata": {
	    "collapsed": true
	   },
	   "outputs": [],
"source": [
"// Chapter 3 example 5\n",
"//------------------------------------------------------------------------------\n",
"clc;\n",
"clear;\n",
"// Given data\n",
"Zo      = 75;       // charecteristic impedance in ohm\n",
"Vref    = 100;      // reflected voltage\n",
"Pref    = 100;      // reflected power in watts\n",
"\n",
"// Calculations\n",
"Zl      = (Vref)^2 /Pref         // load impedance\n",
"p       = (Zl - Zo)/(Zl + Zo);   // reflection co-efficient\n",
"Pinc    = Pref/p                 // incident power\n",
"Pobs    = Pinc - Pref            // power obsorbed\n",
"\n",
"// Output\n",
"mprintf('Load Resistance = %d ohm\n Reflection Co-efficient = %3.3f\n incident power = %d watts\n power obsorbed = %d watts',Zl,p,Pinc,Pobs);\n",
"//------------------------------------------------------------------------------"
   ]
   }
,
{
		   "cell_type": "markdown",
		   "metadata": {},
		   "source": [
			"## Example 3.6: Finding_length_of_line_and_characteristic_impedance.sce"
		   ]
		  },
  {
"cell_type": "code",
	   "execution_count": null,
	   "metadata": {
	    "collapsed": true
	   },
	   "outputs": [],
"source": [
"// Chapter 3 example 6\n",
"//------------------------------------------------------------------------------\n",
"clc;\n",
"clear;\n",
"// Given data\n",
"c      = 3*10^8;        // velocity in m/s\n",
"f      = 100*10^6       // operating frequency in hz\n",
"Zin    = 100;\n",
"Zl     = 25;\n",
"\n",
"// Calculations\n",
"\n",
"lamda  = c/f            // wavelength in m\n",
"Lreq   = lamda/4;       // required length in m\n",
"Zo     = sqrt(Zin*Zl);  // charecteristic impedance in ohm\n",
"\n",
"// Output\n",
"mprintf('Length of line required = %d cm\n Charecteristic impedance = %d ohm',Lreq*10^2,Zo);\n",
"//------------------------------------------------------------------------------"
   ]
   }
,
{
		   "cell_type": "markdown",
		   "metadata": {},
		   "source": [
			"## Example 3.7: Finding_input_impedance.sce"
		   ]
		  },
  {
"cell_type": "code",
	   "execution_count": null,
	   "metadata": {
	    "collapsed": true
	   },
	   "outputs": [],
"source": [
"// Chapter 3 example 7\n",
"//------------------------------------------------------------------------------\n",
"clc;\n",
"clear;\n",
"// in the first case when the line is lamda/2 long, the i/p impedance is same as the load resistance\n",
"Zl      = 300;      // load resistance in ohm\n",
"Zo      = 75;       // charecteristic impedance in ohm\n",
"\n",
"// calculations\n",
"//Zi      = Zo*((Zl + iZotanβl)/(Zo + iZltanβl))\n",
"//        = Zo*(((Zl/tanβl) + iZo))/((Zl/tanβl) + iZo)))\n",
"// for l = lamda/2 βl = (2* π/lamda)*(lamda/2) =  π\n",
"// therefore tanβl = 0 which gives Zi = Zl\n",
"// in the second case when the operating frequency is halved, the wavelength is douβled which means the same line is now lamda/4 long\n",
"// for l = lamda/4 ,βl = (2* π/lamda)*(lamda/4) =  π/2\n",
"// therefore tanβl = ∞\n",
"Zi         = (Zo^2)/Zl;  // input impedance\n",
"\n",
"mprintf('Input impedance = %3.2f ohm',Zi);\n",
"//------------------------------------------------------------------------------\n",
""
   ]
   }
,
{
		   "cell_type": "markdown",
		   "metadata": {},
		   "source": [
			"## Example 3.8: Finding_expressions_for_Vin_and_Vl.sce"
		   ]
		  },
  {
"cell_type": "code",
	   "execution_count": null,
	   "metadata": {
	    "collapsed": true
	   },
	   "outputs": [],
"source": [
"// Chapter 3 example 8\n",
"//------------------------------------------------------------------------------\n",
"clc;\n",
"clear;\n",
"// Given data\n",
"f       = 100*10^6;             // operating frequency in Hz\n",
"v       = 2*10^8 ;              // propagation velocity in m/s\n",
"Zo      = 300;                  // charecteristic impedance in ohm\n",
"Zin     = 300;                  // input impedance in ohm\n",
"l       = 1;                    // length in m\n",
"V       = 100;\n",
"\n",
"// Calculations\n",
"lamda   = v/f                   // wavelength in m\n",
"if lamda/2 ==l then\n",
"    Zl  = Zin;\n",
"end\n",
"k       = (V*Zin)/(Zin+Zl)\n",
"//Vin   = k*cos(2*%pi*f*t)\n",
"// since the line is lamda/2 long ,the signal undergoes a phase delay of  βl = (2*π)/lamda *(lamda/2) = π\n",
"// Output\n",
"mprintf('Vin = %dcos(2π*%3.0et)\n Vl = %dcos(2π*%3.0et-π)',k,f,k,f );\n",
"//------------------------------------------------------------------------------"
   ]
   }
,
{
		   "cell_type": "markdown",
		   "metadata": {},
		   "source": [
			"## Example 3.9: Finding_magnitude_of_reflection_coefficient_and_frequency_of_operation.sce"
		   ]
		  },
  {
"cell_type": "code",
	   "execution_count": null,
	   "metadata": {
	    "collapsed": true
	   },
	   "outputs": [],
"source": [
"// Chapter 3 example 9\n",
"//------------------------------------------------------------------------------\n",
"clc;\n",
"clear;\n",
"// Given data\n",
"VSWR    = 3;        // voltage standing wave ratio\n",
"d       = 20*10^-2  // separation b/w 2 successive minimas\n",
"er      = 2.25;     // dielectric constant\n",
"v       = 3*10^8;   // velocity in m/s\n",
"\n",
"// Calculations\n",
"// VSWR = (1 + p)/(1 - p)\n",
"p       = (VSWR -1)/(VSWR + 1);     // reflection co-efficient\n",
"lamda   = 2*d;                      // wavelength of tx line\n",
"lamda_fr= lamda*sqrt(er);           // free space wavelength\n",
"f       = v/lamda_fr;               // operating frequency in Hz\n",
"\n",
"// output\n",
"mprintf('Magnitude of Reflection Co-efficient = %3.1f\n Frequency of Operation = %3.0f Mhz',p,f/10^6);\n",
"//------------------------------------------------------------------------------"
   ]
   }
],
"metadata": {
		  "kernelspec": {
		   "display_name": "Scilab",
		   "language": "scilab",
		   "name": "scilab"
		  },
		  "language_info": {
		   "file_extension": ".sce",
		   "help_links": [
			{
			 "text": "MetaKernel Magics",
			 "url": "https://github.com/calysto/metakernel/blob/master/metakernel/magics/README.md"
			}
		   ],
		   "mimetype": "text/x-octave",
		   "name": "scilab",
		   "version": "0.7.1"
		  }
		 },
		 "nbformat": 4,
		 "nbformat_minor": 0
}
