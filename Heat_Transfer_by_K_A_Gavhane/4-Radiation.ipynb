{
"cells": [
 {
		   "cell_type": "markdown",
	   "metadata": {},
	   "source": [
       "# Chapter 4: Radiation"
	   ]
	},
{
		   "cell_type": "markdown",
		   "metadata": {},
		   "source": [
			"## Example 4.10: Diwar_flask.sce"
		   ]
		  },
  {
"cell_type": "code",
	   "execution_count": null,
	   "metadata": {
	    "collapsed": true
	   },
	   "outputs": [],
"source": [
"clc;\n",
"clear;\n",
"//Example 4.10\n",
"e1=0.05\n",
"e2=e1\n",
"A1=0.6944;\n",
"A2=1;\n",
"T1=293  //[K]\n",
"T2=90   //[K]\n",
"sigma=5.67*10^-8    //[W/m^2.K^4]\n",
"D=0.3   //Diameter in [m]\n",
"\n",
"F12=1/(1/e1+(A1/A2)*(1/e2-1))\n",
"Q_by_A=sigma*F12*(T1^4-T2^4)    //[W/sq m]\n",
"Q=Q_by_A*%pi*(D^2)  //[kJ/h]\n",
"Q=Q*3600/1000   //[kJ/h]\n",
"lambda=21.44    //Latent heat in [kJ/kg]\n",
"m_dot=Q/lambda    //kg/h\n",
"printf('\n The liquid oxygen will evaporate at %f kg/h',m_dot);\n",
""
   ]
   }
,
{
		   "cell_type": "markdown",
		   "metadata": {},
		   "source": [
			"## Example 4.11: Heat_flow_due_to_radiatio.sce"
		   ]
		  },
  {
"cell_type": "code",
	   "execution_count": null,
	   "metadata": {
	    "collapsed": true
	   },
	   "outputs": [],
"source": [
"clc;\n",
"clear;\n",
"//Example4.11\n",
"sigma=5.67*10^-8    //W/(m^2.K^4)\n",
"e1=0.3;\n",
"e2=e1;\n",
"D1=0.3  //[m]\n",
"D2=0.5  //[m]\n",
"T1=90   //[K]\n",
"T2=313  //[K]\n",
"A1=%pi*D1^2 //Area in [sq m]\n",
"A2=%pi*D2^2//Area in [sq m]\n",
"Q1=sigma*A1*(T1^4-T2^4)/(1/e1+(A1/A2)*(1/e2-1))  //[W]\n",
"Q1=abs(Q1); //Absolute value in [W]\n",
"printf('\n Rate of heat flow due to radiation is %f W',Q1);\n",
"//When Aluminium is used\n",
"e1=0.05\n",
"e2=0.5\n",
"Q2=sigma*A1*(T1^4-T2^4)/(1/e1+(A1/A2)*(1/0.3-1))  //[W]\n",
"Q2=abs(Q2) //Absolute value in [W]\n",
"Red=(Q1-Q2)*100/Q1  //Percent reduction\n",
"printf('\n Reduction in heat flow will be %f percent ',Red);"
   ]
   }
,
{
		   "cell_type": "markdown",
		   "metadata": {},
		   "source": [
			"## Example 4.12: Heat_exchange_between_concentric_shell.sce"
		   ]
		  },
  {
"cell_type": "code",
	   "execution_count": null,
	   "metadata": {
	    "collapsed": true
	   },
	   "outputs": [],
"source": [
"\n",
"clc;\n",
"clear;\n",
"//Example 4.12\n",
"sigma=5.67*10^-8    //[W/sq m.K^4]\n",
"T1=77   //[K]\n",
"T2=303  //[K]\n",
"D1=32   //cm\n",
"D1=D1/100   //[m]\n",
"D2=36   //[cm]\n",
"D2=D2/100   //[m]\n",
"A1=%pi*D1^2 //[sq m]\n",
"A2=%pi*D2^2 //[sq m]\n",
"e1=0.03;\n",
"e2=e1;\n",
"Q=sigma*A1*(T1^4-T2^4)/(1/e1+(A1/A2)*(1/e2-1))  //[W]\n",
"Q=Q*3600/1000   //[kJ/h]\n",
"Q=abs(Q);   //[kJ/h]\n",
"lambda=201  //kJ/kg\n",
"m_dot=Q/lambda  //Evaporation rate in [kg/h]\n",
"printf('\n Nitrogen evaporates at %f kg/h',m_dot);\n",
""
   ]
   }
,
{
		   "cell_type": "markdown",
		   "metadata": {},
		   "source": [
			"## Example 4.13: Evaporation_in_concenric_vessels.sce"
		   ]
		  },
  {
"cell_type": "code",
	   "execution_count": null,
	   "metadata": {
	    "collapsed": true
	   },
	   "outputs": [],
"source": [
"\n",
"clc;\n",
"clear;\n",
"//Example 4.13\n",
"D1=250  //Inner sphere idameter[mm]\n",
"D1=D1/1000  //Outer diameter [m]\n",
"D2=350  //[mm]\n",
"D2=D2/1000  //[m]\n",
"sigma=5.67*10^-8    //W/(sq m.K^4)\n",
"A1=%pi*D1^2 //[sq m]\n",
"A2=%pi*D2^2 //[sq m]\n",
"T1=76   //[K]\n",
"T2=300  //[K]\n",
"e1=0.04;\n",
"e2=e1;\n",
"Q=sigma*A1*(T1^4-T2^4)/((1/e1)+(A1/A2)*((1/e2)-1))   //[W]\n",
"Q=-2.45     //Approximate\n",
"Q=abs(Q)    //[W]\n",
"Q=Q*3600/1000   //[kJ/h]\n",
"lambda=200  //kJ/kg\n",
"Rate=Q/lambda   //[kg/h]\n",
"printf('\n Rate of evaporation is %f kg/h(approx)',Rate);"
   ]
   }
,
{
		   "cell_type": "markdown",
		   "metadata": {},
		   "source": [
			"## Example 4.15: infinitely_long_plates.sce"
		   ]
		  },
  {
"cell_type": "code",
	   "execution_count": null,
	   "metadata": {
	    "collapsed": true
	   },
	   "outputs": [],
"source": [
"clc;\n",
"clear;\n",
"//Example 4.15\n",
"sigma=5.67*10^-8    //[W/(m^2.K^4)]\n",
"e1=0.4\n",
"e3=0.2\n",
"T1=473  //[K]\n",
"T3=303  //[K]\n",
"Q_by_a=sigma*(T1^4-T3^4)/((1/e1)+(1/e3)-1)  //[W/sq m]\n",
"//Q1_by_a=sigma*(T1^4-T2^4)/((1/e1)+(1/e2)-1)=sigma*A*(T2^4-T3^4)/((1/e2)+(1/e3)-1) //[W/sq m]\n",
"e2=0.5\n",
"//Solving we get\n",
"T2=((6/9.5)*((3.5/6)*T3^4+T1^4))^(1/4)  //[K]\n",
"Q1_by_a=sigma*(T1^4-T2^4)/((1/e1)+(1/e2)-1) //[W/sq m]\n",
"red=(Q_by_a-Q1_by_a)*100/Q_by_a\n",
"printf('\nHeat transfer rate per unit area(WITHOUT SHIELD) due to radiation is %f W/sq m\n',Q_by_a);\n",
"printf('\nHeat transfer rate per unit area(WITH SHIELD) due to radiation is %f W/sq m\n',Q1_by_a);\n",
"printf('\nReduction in heat loss is %f percent',red);\n",
""
   ]
   }
,
{
		   "cell_type": "markdown",
		   "metadata": {},
		   "source": [
			"## Example 4.16: Heat_exchange_between_parallel_plates.sce"
		   ]
		  },
  {
"cell_type": "code",
	   "execution_count": null,
	   "metadata": {
	    "collapsed": true
	   },
	   "outputs": [],
"source": [
"clc;\n",
"clear;\n",
"//Example 4.16\n",
"//In steady state,we can write:\n",
"//Qcd=Qdb\n",
"//sigma(Tc^4-Td^4)*/(1/ec+1/ed-1)=sigma(Td^4-Tb^4)/(1/ed+1/eb-1)\n",
"// i.e Td^4=0.5*(Tc^4-Tb^4)\n",
"//Given:\n",
"Ta=600  //[K]\n",
"eA=0.8;\n",
"eC=0.5;\n",
"eD=0.4;\n",
"sigma=5.67*10^-8        //For air\n",
"//(600^4-Tc^4)/2.25=(Tc^4-Td^4)/3.5\n",
"//1.56*(600^4-Tc^4)=Tc^4-Td^4\n",
"//Putting value of Td in terms of Tc\n",
"//1.56*(600^4-Tc^4)=Tc^4-0.5*(Tc^4-300^4)\n",
"function y=f(Tc)\n",
"  y=1.56*(600^4-Tc^4)-Tc^4+0.5*(Tc^4-300^4)\n",
"endfunction\n",
"Tc=fsolve(500,f);           //[K]\n",
"//or\n",
"Tc=560.94       //[K] Approximate after solving\n",
"Td=sqrt(sqrt(0.5*(Tc^4-300^4)))         //[K]\n",
"Q_by_a=sigma*(Ta^4-Tc^4)/(1/eA+1/eC-1)      //[W/sq m]\n",
"printf('\nRate of heat exchange per unit area=%f W/m^2',Q_by_a);\n",
"printf('\nSteady state temperatures,Tc=%f K,and Td=%f K',Tc,Td);"
   ]
   }
,
{
		   "cell_type": "markdown",
		   "metadata": {},
		   "source": [
			"## Example 4.17: Thermal_radiation_in_pipe.sce"
		   ]
		  },
  {
"cell_type": "code",
	   "execution_count": null,
	   "metadata": {
	    "collapsed": true
	   },
	   "outputs": [],
"source": [
"clc;\n",
"clear;\n",
"//Example 4.17\n",
"sigma=5.67*10^-8    //[W/(sq m.K^4)]\n",
"e=0.8\n",
"T1=673;  //[K]\n",
"T2=303;  //[K]\n",
"Do=200   //[mm]\n",
"Do=Do/1000  //[m]\n",
"L=1      //Let [m]\n",
"A1=%pi*Do*L //[m^2/m]\n",
"//CAse 1: Pipe to surrundings\n",
"\n",
"Q1=e*A1*sigma*(T1^4-T2^4)   //[W/m]\n",
"Q1=5600     //Approximated\n",
"//Q1=5600         //[W/m] approximated in book for calculation purpose\n",
"//Concentric cylinders\n",
"e1=0.8;\n",
"e2=0.91;\n",
"D1=0.2  //[m]\n",
"D2=0.4  //[m]\n",
"Q2=sigma*0.628*(T1^4-T2^4)/((1/e1)+(D1/D2)*((1/e2)-1))   //[W/m] length\n",
"Red=Q1-Q2   //Reduction in heat loss\n",
"\n",
"printf('\nDue to thermal radiaiton,Loss of heat to surrounding is %d W/m\n',round(Q1));\n",
"printf('\nWhen pipe is enclosed in 1 400 mm diameter brick conduit,Loss of heat is %d W/m\n',round(Q2));\n",
"printf('\n Reduction in heat loss is %d W/m\n',round(Red));"
   ]
   }
,
{
		   "cell_type": "markdown",
		   "metadata": {},
		   "source": [
			"## Example 4.18: Heat_transfer_in_concentric_tube.sce"
		   ]
		  },
  {
"cell_type": "code",
	   "execution_count": null,
	   "metadata": {
	    "collapsed": true
	   },
	   "outputs": [],
"source": [
"\n",
"\n",
"clc;\n",
"clear;\n",
"//Example 4.18\n",
"\n",
"\n",
"sigma=5.67*10^-8 ;   //[W/(sq m.K^4)]\n",
"T1=813;  //[K]\n",
"T2=473;  //[K]\n",
"e1=0.87;\n",
"e2=0.26;\n",
"D1=0.25 ;//[m]\n",
"D2=0.3; //[m]\n",
"Q_by_a1=sigma*(T1^4-T2^4)/(1/e1+(D1/D2)*(1/e2-1))   //[W/ sqm]\n",
"printf('\n Heat transfer by radiaiton is %d W/sq m',Q_by_a1);"
   ]
   }
,
{
		   "cell_type": "markdown",
		   "metadata": {},
		   "source": [
			"## Example 4.19: Heat_exchange_between_black_plates.sce"
		   ]
		  },
  {
"cell_type": "code",
	   "execution_count": null,
	   "metadata": {
	    "collapsed": true
	   },
	   "outputs": [],
"source": [
"\n",
"clc;\n",
"clear;\n",
"//Example 4.19\n",
"sigma=5.67*10^-8    //[W/sq m.K^4]\n",
"A1=0.5*1    //[sq m]\n",
"F12=0.285\n",
"T1=1273 ///[K]\n",
"T2=773  //[K]\n",
"Q=sigma*A1*F12*(T1^4-T2^4)    //[W]\n",
"printf('\n Net radiant heat exchange between plates is %d W',Q);"
   ]
   }
,
{
		   "cell_type": "markdown",
		   "metadata": {},
		   "source": [
			"## Example 4.1: Heat_loss_by_radiaito.sce"
		   ]
		  },
  {
"cell_type": "code",
	   "execution_count": null,
	   "metadata": {
	    "collapsed": true
	   },
	   "outputs": [],
"source": [
"clc;\n",
"clear;\n",
"//Example 4.1\n",
"e=0.9   //[Emissivity]\n",
"sigma=5.67*10^-8    //[W/m^2.K^4]\n",
"T1=377  //[K]\n",
"T2=283  //[K]\n",
"Qr_by_a=e*sigma*(T1^4-T2^4) //[W/sq m]\n",
"printf('Heat loss by radiation is %d W/sq m',round(Qr_by_a));"
   ]
   }
,
{
		   "cell_type": "markdown",
		   "metadata": {},
		   "source": [
			"## Example 4.20: Radiation_shield.sce"
		   ]
		  },
  {
"cell_type": "code",
	   "execution_count": null,
	   "metadata": {
	    "collapsed": true
	   },
	   "outputs": [],
"source": [
"clc;\n",
"clear;\n",
"//Example 4.20\n",
"sigma=5.67*10^-8    //[W/sq m.K^4]\n",
"T1=750  //[K]\n",
"T2=500  //[K]\n",
"e1=0.75;\n",
"e2=0.5;\n",
"//Heat transfer without shield :\n",
"\n",
"Q_by_a=sigma*(T1^4-T2^4)/((1/e1)+(1/e2)-1)  //[W/sq m]\n",
"\n",
"//Heat transfer with shield:\n",
"R1=(1-e1)/e1    //Resistance 1\n",
"\n",
"F13=1;\n",
"R2=1/F13        //Resistance 2\n",
"\n",
"e3=0.05\n",
"R3=(1-e3)/e3    //Resistance 3\n",
"\n",
"R4=(1-e3)/e3    //Resistance 4\n",
"\n",
"F32=1;\n",
"R5=1/F32        //Resistance 5\n",
"\n",
"R6=(1-e2)/e2       //Resistance 6\n",
"\n",
"Total_R=R1+R2+R3+R4+R5+R6   //Total resistance\n",
"\n",
"Q_by_as=sigma*(T1^4-T2^4)/Total_R   //[W/sq m]\n",
"\n",
"Red=(Q_by_a-Q_by_as)*100/Q_by_a     //Reduciton in heat tranfer due to shield \n",
"\n",
"printf('\n Reduction in heat transfer rate as a result of radiaiotn shield is %f percent',Red);"
   ]
   }
,
{
		   "cell_type": "markdown",
		   "metadata": {},
		   "source": [
			"## Example 4.21: Heat_transfer_with_radiaiton_shield.sce"
		   ]
		  },
  {
"cell_type": "code",
	   "execution_count": null,
	   "metadata": {
	    "collapsed": true
	   },
	   "outputs": [],
"source": [
"clc;\n",
"clear;\n",
"//Example 4.21\n",
"e1=0.3\n",
"e2=0.8\n",
"//Let sigma*(T1^4-T2^4)=z=1(const)\n",
"z=1;    //Let\n",
"Q_by_A=z/(1/e1+1/e2-1)  //W/sq m\n",
"\n",
"//Heat transfer with radiation shield \n",
"e3=0.04\n",
"F13=1;\n",
"F32=1;\n",
"//The resistances are:\n",
"R1=(1-e1)/e1\n",
"R2=1/F13\n",
"R3=(1-e3)/e3\n",
"R4=R3\n",
"R5=1/F32\n",
"R6=(1-e2)/e2\n",
"R=R1+R2+R3+R4+R5+R6     //Total resistance\n",
"Q_by_As=z/R //where z=sigma*(T1^4-T2^4) //W/sq m\n",
"red=(Q_by_A-Q_by_As)*100/Q_by_A    //Percent reduction in heat transfer\n",
"printf('\n The heat transfer is reduced by %f percent due to shield',red)"
   ]
   }
,
{
		   "cell_type": "markdown",
		   "metadata": {},
		   "source": [
			"## Example 4.22: Radiaition_shape_factor.sce"
		   ]
		  },
  {
"cell_type": "code",
	   "execution_count": null,
	   "metadata": {
	    "collapsed": true
	   },
	   "outputs": [],
"source": [
"\n",
"clc;\n",
"clear;\n",
"//Example 4.22\n",
"sigma=5.67*10^-8;\n",
"T1=1273 //[K]\n",
"T2=773  //[K]\n",
"T3=300  //[K]\n",
"A1=0.5  //[sq m]\n",
"A2=A1;  //[sq m]\n",
"F12=0.285;\n",
"F21=F12;\n",
"F13=1-F12;\n",
"F23=1-F21;\n",
"e1=0.2;\n",
"e2=0.5;\n",
"//Resistance in the network are calculated as:\n",
"R1=1-e1/(e1*A1)\n",
"R2=1-e2/(e2*A2)\n",
"R3=1/(A1*F12)\n",
"R4=1/(A1*F13)\n",
"R5=1/(A2*F23)\n",
"R6=0    //Given (1-e3)/e3*A3=0\n",
"//Also\n",
"Eb1=sigma*T1^4  //W/sq m\n",
"Eb2=sigma*T2^4   //[W/sq m]\n",
"Eb3=sigma*T3^4 //[W/sq m]\n",
"\n",
"//Equations are:\n",
"//(Eb1-J1)/2+(J2-J1)/7.018+(Eb3-J1)/2.797=0\n",
"//(J1-J2)/7.018+(Eb3-J2)/2.797+(Eb2-J2)/2=0\n",
"\n",
"//On solving we get:\n",
"J1=33515    //[W/sq m]\n",
"J2=15048    //[W/sqm]\n",
"J3=Eb3  //[W/sq m]\n",
"Q1=(Eb1-J1)/((1-e1)/(e1*A1))        //[W/sq m]\n",
"Q2=(Eb2-J2)/((1-e2)/(e2*A2))        //[W/sq m]\n",
"Q3=(J1-J3)/(1/(A1*F13))+(J2-J3)/(1/(A2*F23))    //[W/sq m]\n",
"printf('\n Total heat lost by plate 1 is %f W/sq m\n',Q1);\n",
"printf('\n Total heat lost by plate 2 is %f W/sq m\n',Q2);\n",
"printf('\nThe net energy lost by both plates must be absorbed by the room,\n %f=%f',Q3,Q1+Q2)\n",
""
   ]
   }
,
{
		   "cell_type": "markdown",
		   "metadata": {},
		   "source": [
			"## Example 4.23: Radiation_loss_in_plates.sce"
		   ]
		  },
  {
"cell_type": "code",
	   "execution_count": null,
	   "metadata": {
	    "collapsed": true
	   },
	   "outputs": [],
"source": [
"clc;\n",
"clear;\n",
"//Example 4.23\n",
"sigma=5.67*10^-8    //[W/sq m.K^4]\n",
"e1=0.7;\n",
"e2=0.7;\n",
"T1=866.5    //[K]\n",
"T2=588.8    //[K]\n",
"Q_by_A=sigma*(T1^4-T2^4)/((1/e1)+(1/e2)-1)  //[W/sq m]\n",
"e1=0.7;\n",
"e2=e1;\n",
"e3=e1;\n",
"e4=e1;\n",
"e=e1;\n",
"//Q with n shells =1/(n+1)\n",
"n=2\n",
"Q_shield=1/(n+1);\n",
"es1=e1;\n",
"es2=e1;\n",
"Q_by_A=sigma*(T1^4-T2^4)/((1/e1)+(1/e2)+2*(1/es1+1/es2)-(n+1))  //[W/sq m]\n",
"printf('\n New Radiaiton loss is %f W/sq m',Q_by_A);\n",
""
   ]
   }
,
{
		   "cell_type": "markdown",
		   "metadata": {},
		   "source": [
			"## Example 4.24: Concentric_tube.sce"
		   ]
		  },
  {
"cell_type": "code",
	   "execution_count": null,
	   "metadata": {
	    "collapsed": true
	   },
	   "outputs": [],
"source": [
"clc;\n",
"clear;\n",
"//Example 4.24\n",
"//1.WITHOUT SHIELD\n",
"sigma=5.67*10^-8        \n",
"e1=0.12;\n",
"e2=0.15;\n",
"T1=100  //[K]\n",
"T2=300  //[K]\n",
"r1=0.015    //[m]\n",
"r2=0.045    //[m]\n",
"L=1         //[m]\n",
"A1=2*%pi*r1*L   //[sq m]\n",
"Q_by_L=2*%pi*r1*sigma*(T1^4-T2^4)/(1/e1+(r1/r2)*(1/e2-1))   //[W/m]\n",
"//-ve saign indicates that the net heat flow is in the radial inward direction\n",
"//2.WITH CYLINDRICAL RADIATION SHIELD\n",
"e3=0.10;\n",
"e4=0.05;\n",
"r3=0.0225   //[m]\n",
"Qs_by_L=2*%pi*r1*sigma*(T1^4-T2^4)/(1/e1+r1/r2*(1/e2-1)+(r1/r3)*(1/e3+1/e4-1))  //[W/sq m]\n",
"red=(abs(Q_by_L)-abs(Qs_by_L))*100/abs(Q_by_L)  //percent reduction in heat gain\n",
"\n",
"//Radiation network approach\n",
"A3=2*%pi*r3     //[sq m]\n",
"A2=2*%pi*r2     //[sq m]\n",
"F13=1;\n",
"F32=1;\n",
"R1=(1-e1)/(e1*A1)\n",
"R2=1/(A1*F13)\n",
"R3=(1-e3)/(e3*A3)\n",
"R4=(1-e4)/(e4*A3)\n",
"R5=1/(A3*F32)\n",
"R6=(1-e2)/(e2*A2)\n",
"\n",
"Qs=sigma*(T1^4-T2^4)/((1-e1)/(e1*A1)+1/(A1*F13)+(1-e3)/(e3*A3)+(1-e4)/(e4*A3)+1/(A3*F32)+(1-e2)/(e2*A2))        \n",
"printf('\n With cylindrical radiaiton shield Heat gained by fluid per 1 m lengh of tube is %f W/m\n',Qs_by_L);\n",
"printf('\nPercent reduction in heat gain is %f percent\n',red);\n",
"printf('\nWith radiaiton network approach %f W/sqm ',Qs);"
   ]
   }
,
{
		   "cell_type": "markdown",
		   "metadata": {},
		   "source": [
			"## Example 4.2: Radiation_from_unlagged_steam_pipe.sce"
		   ]
		  },
  {
"cell_type": "code",
	   "execution_count": null,
	   "metadata": {
	    "collapsed": true
	   },
	   "outputs": [],
"source": [
"clc;\n",
"clear;\n",
"//Example 4.2\n",
"e=0.9   //Emissivity\n",
"T1=393  //[K]\n",
"T2=293  //[K]\n",
"sigma=5.67*10^-8    //[W/sq m.K]\n",
"Qr_by_a=e*sigma*(T1^4-T2^4) //W/sq m\n",
"printf('\n Rate of heat transfer by radiation is %f W/sq m',Qr_by_a);"
   ]
   }
,
{
		   "cell_type": "markdown",
		   "metadata": {},
		   "source": [
			"## Example 4.3: Interchange_of_radiation_energy.sce"
		   ]
		  },
  {
"cell_type": "code",
	   "execution_count": null,
	   "metadata": {
	    "collapsed": true
	   },
	   "outputs": [],
"source": [
"\n",
"clc;\n",
"clear;\n",
"//Example 4.3\n",
"L=1; //[m]\n",
"e=0.8  ; //Emissivity\n",
"sigma=5.67*10^-8 ;   //[m^2.K^4]\n",
"T1=423;  //[K]\n",
"T2=300;  //[K]\n",
"Do=60;   //[mm]\n",
"Do=Do/1000;  //[m]\n",
"A=%pi*Do*L  //[sq m]\n",
"A=0.189     //Approx in book [m^2]\n",
"Qr=e*sigma*A*(T1^4-T2^4)    //[W/m]\n",
"printf('\n Net radiaiton rate per 1 metre length of pipe is %d W/m',round(Qr));\n",
""
   ]
   }
,
{
		   "cell_type": "markdown",
		   "metadata": {},
		   "source": [
			"## Example 4.4: Heat_loss_in_unlagged_steam_pipe.sce"
		   ]
		  },
  {
"cell_type": "code",
	   "execution_count": null,
	   "metadata": {
	    "collapsed": true
	   },
	   "outputs": [],
"source": [
"clc;\n",
"clear;\n",
"//Example 4.4\n",
"e=0.9   //Emissivity\n",
"L=1 //[m]\n",
"Do=50   //[mm]\n",
"Do=Do/1000  //[m]\n",
"sigma=5.67*10^-8    //[W/(m^2.K^4)]\n",
"T1=415  //[K]\n",
"T2=290  //[K]\n",
"dT=T1-T2    //[K]\n",
"hc=1.18*(dT/Do)^(0.25)  //[W/sq m.K]\n",
"A=%pi*Do*L  //Area in [sq m]\n",
"Qc=hc*A*dT //Heat loss by convection W/m\n",
"Qr=e*sigma*A*(T1^4-T2^4)    //Heat loss by radiation per length W/m\n",
"Qt=Qc+Qr    //Total heat loss in [W/m]\n",
"printf('\n Total heat loss by convection is %f W/m',Qt);"
   ]
   }
,
{
		   "cell_type": "markdown",
		   "metadata": {},
		   "source": [
			"## Example 4.5: Loss_from_horizontal_pipe.sce"
		   ]
		  },
  {
"cell_type": "code",
	   "execution_count": null,
	   "metadata": {
	    "collapsed": true
	   },
	   "outputs": [],
"source": [
"clc;\n",
"clear;\n",
"//Example 4.5\n",
"e=0.85\n",
"sigma=5.67*10^-8    //[W/sq m.K]\n",
"T1=443  //[K]\n",
"T2=290  //[K]\n",
"dT=T1-T2    //[K]\n",
"hc=1.64*dT^0.25     //W/sq m.K\n",
"Do=60   //[mm]\n",
"Do=Do/1000  //[m]\n",
"L=6 //Length [m]\n",
"A=%pi*Do*L  //Surface area of pipe in [sq m]\n",
"Qr=e*sigma*A*(T1^4-T2^4)    // Rate of heat loss by radiaiton W\n",
"Qc=hc*A*(T1-T2) // Rate of heat loss by convection [W]\n",
"Qt=Qr+Qc    //Total heat loss  [W]\n",
"printf('\n Total heat loss is %d W',round(Qt))"
   ]
   }
,
{
		   "cell_type": "markdown",
		   "metadata": {},
		   "source": [
			"## Example 4.6: Heat_loss_by_radiation_in_tube.sce"
		   ]
		  },
  {
"cell_type": "code",
	   "execution_count": null,
	   "metadata": {
	    "collapsed": true
	   },
	   "outputs": [],
"source": [
"\n",
"clc;\n",
"clear;\n",
"//EXample 4.6\n",
"sigma=5.67*10^-8    //[W/m^2.K^4]\n",
"e1=0.79;\n",
"e2=0.93;\n",
"T1=500 ; //[K]\n",
"T2=300 ; //[K]\n",
"D=70    //[mm]\n",
"D=D/1000    //[m]\n",
"L=3 //[m]\n",
"W=0.3   //Side of conduit [m]\n",
"A1=%pi*D*L  //[sq m]\n",
"A1=0.659        //Approximate calculation in book in [m^2]\n",
"A2=4*(L*W)  //[sq m]\n",
"Q=sigma*A1*(T1^4-T2^4)/(1/e1+((A1/A2)*(1/e2-1)))    //[W]\n",
"printf('\n Heat lost by radiation is %f W',Q);"
   ]
   }
,
{
		   "cell_type": "markdown",
		   "metadata": {},
		   "source": [
			"## Example 4.7: Net_radiant_interchange.sce"
		   ]
		  },
  {
"cell_type": "code",
	   "execution_count": null,
	   "metadata": {
	    "collapsed": true
	   },
	   "outputs": [],
"source": [
"clc;\n",
"clear;\n",
"//Example 4.7\n",
"sigma=5.67*10^-8    //[W/sq m.K^4]\n",
"T1=703  //[K]\n",
"T2=513  //[K]\n",
"e1=0.85 \n",
"e2=0.75\n",
"Q_by_Ar=sigma*(T1^4-T2^4)/(1/e1+1/e2-1) //[W/sq m]\n",
"printf('\n Net radiant interchange per square metre is %d W/sq m',round(Q_by_Ar));"
   ]
   }
,
{
		   "cell_type": "markdown",
		   "metadata": {},
		   "source": [
			"## Example 4.8: Radiant_interchange_between_plates.sce"
		   ]
		  },
  {
"cell_type": "code",
	   "execution_count": null,
	   "metadata": {
	    "collapsed": true
	   },
	   "outputs": [],
"source": [
"clc;\n",
"clear;\n",
"//Example 4.8\n",
"L=3 ;//[m]\n",
"A=L^2   //Area in [sq m]\n",
"sigma=5.67*10^-8;    //[W/sq m.K^4]\n",
"T1=373;  //[K]\n",
"T2=313;  //[K]\n",
"e1=0.736;\n",
"e2=e1;\n",
"F12=1/((1/e1)+(1/e2)-1)\n",
"Q=sigma*A*F12*(T1^4-T2^4)   //[W]\n",
"printf('\n Net radiant interchange is %d W',round(Q));"
   ]
   }
,
{
		   "cell_type": "markdown",
		   "metadata": {},
		   "source": [
			"## Example 4.9: Heat_loss_from_thermflask.sce"
		   ]
		  },
  {
"cell_type": "code",
	   "execution_count": null,
	   "metadata": {
	    "collapsed": true
	   },
	   "outputs": [],
"source": [
"clc;\n",
"clear;\n",
"sigma=5.67*10^-8    //[W/sq m.K^4]\n",
"e1=0.05 \n",
"e2=0.05\n",
"//A1=A2=1 (let)\n",
"A1=1;\n",
"A2=A1;\n",
"F12=1/(1/e1+(A1/A2)*(1/e2-1))   \n",
"T1=368  //[K]\n",
"T2=293  //[K]\n",
"Q_by_A=sigma*F12*(T1^4-T2^4)    //Heat loss per unit Area  [W/sq m]\n",
"printf('\nRate of heat loss when of silvered surface is %f W/sq m',Q_by_A);\n",
"//When both the surfaces are black\n",
"e1=1;\n",
"e2=1;\n",
"F12=1/(1/e1+(A1/A2)*(1/e2-1))   \n",
"Q_by_A=sigma*F12*(T1^4-T2^4)    //[W/sq m]\n",
"printf('\n When both surfaces are black,Rate of heat loss  is %d W/sq m',round(Q_by_A));"
   ]
   }
],
"metadata": {
		  "kernelspec": {
		   "display_name": "Scilab",
		   "language": "scilab",
		   "name": "scilab"
		  },
		  "language_info": {
		   "file_extension": ".sce",
		   "help_links": [
			{
			 "text": "MetaKernel Magics",
			 "url": "https://github.com/calysto/metakernel/blob/master/metakernel/magics/README.md"
			}
		   ],
		   "mimetype": "text/x-octave",
		   "name": "scilab",
		   "version": "0.7.1"
		  }
		 },
		 "nbformat": 4,
		 "nbformat_minor": 0
}
