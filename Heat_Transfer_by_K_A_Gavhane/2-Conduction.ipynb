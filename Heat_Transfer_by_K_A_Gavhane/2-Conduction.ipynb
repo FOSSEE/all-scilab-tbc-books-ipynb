{
"cells": [
 {
		   "cell_type": "markdown",
	   "metadata": {},
	   "source": [
       "# Chapter 2: Conduction"
	   ]
	},
{
		   "cell_type": "markdown",
		   "metadata": {},
		   "source": [
			"## Example 2.10: Heat_Passed.sce"
		   ]
		  },
  {
"cell_type": "code",
	   "execution_count": null,
	   "metadata": {
	    "collapsed": true
	   },
	   "outputs": [],
"source": [
"clear;\n",
"clc;\n",
"//Example 2.10\n",
"printf('Example 2.10')\n",
"A= 1 //sq m\n",
"x1=0.15\n",
"x2=0.01\n",
"x4=0.15\n",
"T1=973  //[K]\n",
"T2=288  //[K]\n",
"dT=T1-T2  //[K]\n",
"//Thermal conductivities\n",
"k1=1.75  \n",
"k2=16.86\n",
"k3=0.033\n",
"k4=5.23\n",
"//in absence of air gap,sum of thermal resistances \n",
"sR=(x1/k1*A)+(x2/k2*A)+(x4/k4*A)\n",
"Q= dT/sR\n",
"printf('Heat lost per sq meter is %d W/sq m',Q);\n",
"//When heat loss,Q=1163,then new resistance =sR1\n",
"Q1=1163  //[W/sq m]\n",
"sR1=dT/Q1\n",
"//width of air gap be w then\n",
"w=(sR1-sR)*k3*A  // [m]\n",
"w=w*1000  //in [mm]\n",
"printf('Width of air gap is %f mm',w);"
   ]
   }
,
{
		   "cell_type": "markdown",
		   "metadata": {},
		   "source": [
			"## Example 2.11: Insulated_pipe.sce"
		   ]
		  },
  {
"cell_type": "code",
	   "execution_count": null,
	   "metadata": {
	    "collapsed": true
	   },
	   "outputs": [],
"source": [
"clear;\n",
"clc;\n",
"//Example 2.11\n",
"printf('Example 2.11');\n",
"d1=300  //[mm]\n",
"r1=d1/2  // [mm]\n",
"r1=r1/1000  //[m]\n",
"r2=r1+0.05  //[m]\n",
"r3=  r2+0.04  //[m]\n",
"x1=0.05  //[m]\n",
"x2=0.04  //[m]\n",
"k1=0.105  //W/(m.K)\n",
"k2=0.07   //W/(m.K)\n",
"rm1=  (r2-r1)/log(r2/r1);  // [m]\n",
"rm2=(r3-r2)/log(r3/r2);     //[m]\n",
"L=1  //let\n",
"A1=%pi*rm1*L   //let L=1\n",
"R1=x1/(k1*A1);\n",
"A2=%pi*rm2*L\n",
"R2=x2/(k2*A2)\n",
"T1=623  //[K]\n",
"T2=323  //[K]\n",
"dT=T1-T2  //[K]\n",
"//Part a\n",
"Q_by_L=  dT/(R1+R2)   //Heat loss\n",
"printf('Heat loss is %f W/m',Q_by_L);\n",
"//Part b:\n",
"P=2*%pi*(r1+x1+x2)  //[m]\n",
"Q_by_L_peri=Q_by_L/P  // [W/sq m]\n",
"\n",
"printf('Heat lost per sq meter of outer insulation is %f W/sq m',Q_by_L_peri);\n",
"R1=x1/(k1*A1) \n",
"sR=0.871+0.827\n",
"dT1=dT*R1/sR\n",
"printf('Temperature between two layers of insulation=%f K',(T1-dT1) );\n",
"\n",
"  "
   ]
   }
,
{
		   "cell_type": "markdown",
		   "metadata": {},
		   "source": [
			"## Example 2.12: Composite_brick.sce"
		   ]
		  },
  {
"cell_type": "code",
	   "execution_count": null,
	   "metadata": {
	    "collapsed": true
	   },
	   "outputs": [],
"source": [
"//Example 2.12\n",
"clear;\n",
"clc;\n",
"printf('Example 2.12\n')\n",
"//Given\n",
"x1=0.01  //[m]\n",
"x2=0.15  //[m]\n",
"x3=0.15  //[m]\n",
"T1=973  //[K]\n",
"T2=423  //[K]\n",
"dT=T1-T2;\n",
"//Thermal conductivities\n",
"k1=16.86  //[W/m.K]\n",
"k2=1.75  //[W/m.K]\n",
"k3=5.23  //[W/m.K]\n",
"k_air=0.0337  // [W/m.K]\n",
"A=1  //[sq m]\n",
"sigma_R=(x1/(k1*A)+x2/(k2*A)+x3/(k3*A))\n",
"Q=dT/sigma_R  //Heat flow in  [W\n",
"Tm= Q*x3/k3  //Temperature drop in magnesite brick\n",
"//Interface temperature=iT\n",
"iT=T2+Tm  //[K]\n",
"sigma_xbyk= A*dT/1163   //with air gap for reducing heat loss to 1163 per sq m\n",
"x_by_k=sigma_xbyk-sigma_R   //x/k for air\n",
"t=x_by_k*k_air\n",
"t=t*1000;\n",
"printf('Width of the air gap is %f mm',t);\n",
"\n",
" "
   ]
   }
,
{
		   "cell_type": "markdown",
		   "metadata": {},
		   "source": [
			"## Example 2.13: Heat_flow_in_a_pipe.sce"
		   ]
		  },
  {
"cell_type": "code",
	   "execution_count": null,
	   "metadata": {
	    "collapsed": true
	   },
	   "outputs": [],
"source": [
"//Example 2.13\n",
"printf('Example 2.13 \n');\n",
"L=1   //assume  [m]\n",
"k1=43.03   //[W/(m.K)\n",
"\n",
"k2=0.07    //(W/m.K)\n",
"\n",
"T1=423    //inside temperature [K]\n",
"\n",
"T2=305     // [K]\n",
"r1=0.0525    //[mm]\n",
"r2=0.0575;   //[m]\n",
"r3=0.1075 //[m]\n",
"//r3=r3/1000;  //[m]\n",
"Q=(2*%pi*L*(T1-T2))/(((log(r2/r1))/k1)+((log(r3/r2))/k2));     //Heat loss per metre \n",
"printf('Heat flow per metre of pipe is %f W/m',Q);\n",
"printf('Part 2\n');\n",
"//T=Temperature of outer surface\n",
"T=T1-(Q*log(r2/r1))/(k1*2*%pi*L);\n",
"printf('Temperature at outer surface of steel pipe: %f K',T);\n",
"printf('\nPart iii\n');\n",
"id=0.105    //inside diametre in [m]\n",
"A=%pi*id*1  //inside area in [sq m]\n",
"C=Q/(A*(T1-T2));   //conductance per length\n",
"\n",
"printf('Conductance per m length based on inside area is %f W/K',C)\n",
"  \n",
"  \n",
"  \n",
"  "
   ]
   }
,
{
		   "cell_type": "markdown",
		   "metadata": {},
		   "source": [
			"## Example 2.15: Thickness_of_insulation.sce"
		   ]
		  },
  {
"cell_type": "code",
	   "execution_count": null,
	   "metadata": {
	    "collapsed": true
	   },
	   "outputs": [],
"source": [
"//Example 2.15\n",
"printf('Example 2.15 \n')\n",
"A=1  // [sq m]\n",
"  x1=0.1    //m\n",
"  x2=0.04\n",
"  k1=0.7\n",
"  k2=0.48\n",
"  sigma=x1/(k1*A)+x2/(k2*A)   //K/W\n",
"  //Q=4.42*dT\n",
"  //Q=dT/sigma\n",
"  //with rockwool insulation added,Q_dash=0.75*Q\n",
" k3=0.065     // W/(m.K)\n",
"  //Q_dash=dT/sigma+x3/k3*A\n",
"  //On solving Q and Q_dash we get\n",
"  x3=((1/(0.75*4.42))-sigma)*k3    //[m]\n",
"  x3=x3*1000     // [mm]\n",
"  printf('Thickness of rockwool insulation required=%f mm',x3)"
   ]
   }
,
{
		   "cell_type": "markdown",
		   "metadata": {},
		   "source": [
			"## Example 2.16: Reduction_in_heat_loss_in_insulated_pipe.sce"
		   ]
		  },
  {
"cell_type": "code",
	   "execution_count": null,
	   "metadata": {
	    "collapsed": true
	   },
	   "outputs": [],
"source": [
"clc;\n",
"clear;\n",
"//Example 2.16,Page no 2.36\n",
"d1=40;   // Diameter of pipe[mm]\n",
"r1=(d1/2)/1000  //Outside radius in [m]\n",
"t1=20;    //Insulation 1 thickness in [mm]\n",
"t1=t1/1000    //[m]\n",
"t2=t1;         //Insulation 2 thickness in[m]\n",
"r2=r1+t1;     //radius after 1st insulation  in [m]\n",
"r3=r2+t2;     //Radius after second insulation in [m]\n",
"//Since Scilab does not handles symbolic constants,we will assume some values:\n",
"//(1)\n",
"printf('Let the layer M-1 be nearer to the surface')\n",
"L=1;         //[m]\n",
"T1=10;       //Temperature of inner surface of pipe [K]\n",
"T2=5;        //Temperature of outer surface of insulation [K]\n",
"k=1;         //Thermal conductivity\n",
"k1=k;        //For M-1 material\n",
"k2=3*k;      //For material M-2\n",
"Q1=(T1-T2)/(log(r2/r1)/(2*%pi*L*k1)+log(r3/r2)/(2*%pi*L*k2))\n",
"//(2)\n",
"printf('Let the layer of material M-2 be nearer to the surface');\n",
"Q2=(T1-T2)/(log(r2/r1)/(2*%pi*L*k2)+log(r3/r2)/(2*%pi*L*k1))\n",
"printf('Q1=%f and Q2= %f \n For dummy variables unity...\nFor any value of k,T1 and T2,Q1 is always less than Q2',Q1,Q2);\n",
"printf('\n So,M-1 near the surface is advisable(i.e Arrangement one will result i ,ess heat loss\n)');\n",
"per_red=(Q2-Q1)*100/Q2\n",
"printf('Percent reduction in heat loss is %f percent',per_red)\n",
"printf('\nNOTE:Slight variation in answers due to less precise calculation in book.If performed manually,this answer stands to be correct')"
   ]
   }
,
{
		   "cell_type": "markdown",
		   "metadata": {},
		   "source": [
			"## Example 2.17: Heat_loss_in_a_pipe.sce"
		   ]
		  },
  {
"cell_type": "code",
	   "execution_count": null,
	   "metadata": {
	    "collapsed": true
	   },
	   "outputs": [],
"source": [
"//Example2.17\n",
"T1=523   //[K]\n",
"  T2=323   //[K]\n",
"  r1=0.05   //[m]\n",
"  r2=0.055   //[m]\n",
"  r3=0.105   //[m]\n",
"  r4=0.155   //[m]\n",
"  k1=50      //[W/(m.K)]\n",
"  k2=0.06    //[W/(m.K)]\n",
"  k3=0.12    //W/(m.K)\n",
"  //CASE 1\n",
"  Q_by_L1=2*%pi*(T1-T2)/((log(r2/r1))/k1+(log(r3/r2))/k2+(log(r4/r3))/k3)   //[W/m]\n",
"  printf('Heat loss=%f W/m',Q_by_L1)\n",
"  //Case 2\n",
"  Q_by_L2=2*%pi*(T1-T2)/((log(r2/r1))/k1+(log(r3/r2))/k3+(log(r4/r3))/k2)\n",
" perct=(Q_by_L2-Q_by_L1)*100/Q_by_L1\n",
"  printf('If order is changed then heat loss=%f W/m',Q_by_L2) \n",
"  printf('\n loss of heat is increased by %f percent by putting material with higher thermal conductivity near the pipe surface',perct)"
   ]
   }
,
{
		   "cell_type": "markdown",
		   "metadata": {},
		   "source": [
			"## Example 2.18: Arrangements_for_heat_loss.sce"
		   ]
		  },
  {
"cell_type": "code",
	   "execution_count": null,
	   "metadata": {
	    "collapsed": true
	   },
	   "outputs": [],
"source": [
"clc;\n",
"clear;\n",
"//Example 2.18,Page no 2.38\n",
"//Given\n",
"//Assume:\n",
"L=1    //[m]\n",
"r1=0.10    //[m]    Outside radius od pipe\n",
"ia=0.025    //inner insulaiton [m]\n",
"r2=r1+ia    //Outer radius of inner insulation\n",
"r3=r2+ia    //Outer radius of outer insulation\n",
"//CASE 1:'a' near the pipe surface\n",
"//let k1=1\n",
"k1=1;    //Thermal conductivity of A[W/m.K]\n",
"//and k2=3k1=3\n",
"k2=3;    //Thermal conductivity of B[W/m.K]\n",
"//Let dT=1\n",
"dT=1\n",
"Q1=dT/(log(r2/r1)/(2*%pi*k1*L)+log(r3/r2)/(2*%pi*k2*L))\n",
"Q1=22.12    //Approximate\n",
"//CASE 2:'b' near the pipe surface \n",
"Q2=dT/(log(r2/r1)/(2*%pi*k2*L)+log(r3/r2)/(2*%pi*k1*L))\n",
"Q2=24.39       //Approximation\n",
"printf('ANSWER-(i)\nQ1=%f W \nQ2= %f W \nQ1 is less than Q2.i.e arrangement A near the pipe surface and B as outer layer gives less heat loss\n',Q1,Q2);\n",
"percent=(Q2-Q1)*100/Q1;    //percent reduction in heat loss\n",
"printf('\nANSWER-(ii) \nPercent reduction in heat loss (with near the pipe surface)=%f percent',percent);"
   ]
   }
,
{
		   "cell_type": "markdown",
		   "metadata": {},
		   "source": [
			"## Example 2.19: Insulation_thickness.sce"
		   ]
		  },
  {
"cell_type": "code",
	   "execution_count": null,
	   "metadata": {
	    "collapsed": true
	   },
	   "outputs": [],
"source": [
"clc\n",
"clear\n",
"printf('Example 2.19.Page no.2.39')\n",
"//Given\n",
"x1=0.224 // m\n",
"k1=1.3 // W/(m.K)\n",
"k2=0.346 // W/(m.K)\n",
"T1=1588 // K\n",
"T2= 299 // K\n",
"QA=1830 // W/ sq metre //heat loss\n",
"//solution\n",
"printf('Q/A=(T1-T2)/x1/k1+x2/k2');\n",
"x2=k2*((T1-T2)*1/(QA)-(x1/k1))\n",
"x2=x2*1000;\n",
"printf('Thickness of insulation=%f mm',x2)"
   ]
   }
,
{
		   "cell_type": "markdown",
		   "metadata": {},
		   "source": [
			"## Example 2.1: Thickness_of_insulation.sce"
		   ]
		  },
  {
"cell_type": "code",
	   "execution_count": null,
	   "metadata": {
	    "collapsed": true
	   },
	   "outputs": [],
"source": [
"clc;\n",
"clear;\n",
"printf('Example 2.1 \n Page no. 2.18\n Part-(a)')\n",
"A=1; //sq metre\n",
"printf('Area of heat transfer,A=%f m^2\n',A)\n",
"Q=450; // W/ sq mtre\n",
"printf('Rate of heat loss/unit area=%f W/m^2\n',Q)\n",
"dT=400; // K\n",
"printf('Temperature difference across insulation layer\t,dT=%f K\n',dT)\n",
"k=0.11 //W/(m.K)\n",
"printf('For asbestos,k=%f\n',k)\n",
"//Q=(k* A*dT)/x\n",
"x=(k*A*dT)/Q\n",
"X=x*1000;\n",
"\n",
"//for fire clay insulation\n",
"k=0.84; // W/(m.K)\n",
"printf('For fire clay insulation,k=%f W/(m.K)\n',k);\n",
"x=(k*A*dT)/Q;\n",
"X=x*1000;\n",
"printf('Ans.(A).Thickness of asbestos is: %f m=%f mm\n',x,X)\n",
"printf('Ans.(B)Thickness of fire clay insulation is: %f m =%f mm\n',x,X)\n",
""
   ]
   }
,
{
		   "cell_type": "markdown",
		   "metadata": {},
		   "source": [
			"## Example 2.20: Heat_loss_in_furnace.sce"
		   ]
		  },
  {
"cell_type": "code",
	   "execution_count": null,
	   "metadata": {
	    "collapsed": true
	   },
	   "outputs": [],
"source": [
"//Example 2.20\n",
"//Given\n",
"//for clay\n",
"k1=0.533    //[W/(m.K)]\n",
"//for red brick\n",
"k2=0.7      //[W/m.K]\n",
"//Case 1\n",
"  A=1     //Area\n",
"  x1=0.125    //[m]\n",
"  x2=0.5      //[m]\n",
"  //Resistances\n",
"  r1=x1/(k1*A) //Res of fire clay [K/W]\n",
"  r2=x2/(k2*A)  //Res of red brick[K/W]\n",
"  r=r1+r2\n",
"  //Temperatures\n",
"  T1=1373    //[K]\n",
"  T2=323     //[K]\n",
"  Q=(T1-T2)/r //[W/sq m]\n",
"  Tdash=T1-Q*r1  //[K]\n",
"//Case2\n",
" // Heat loss must remain  unchanged,Thickness of red brick also reduces to its half\n",
"  x3=x2/2   //[m]\n",
"  r3=x3/(k2*A)  //[K/W]\n",
"  Tdd= T2+(Q*r3)    //[K]\n",
"  //Thickness of diatomite be x2,km be mean conductivity\n",
"  Tm=(Tdash+Tdd)/2   //[K]\n",
"  km=0.113+(0.00016*Tm)  //[W/(m.K]\n",
"  x2=km*A*(Tdash-Tdd)/Q  //[m]\n",
"  x2=x2*1000      //[mm]\n",
"  printf('Thickness of diatomite layer=%f mm',x2)\n",
"  "
   ]
   }
,
{
		   "cell_type": "markdown",
		   "metadata": {},
		   "source": [
			"## Example 2.21: Rate_of_heat_loss_in_pipe.sce"
		   ]
		  },
  {
"cell_type": "code",
	   "execution_count": null,
	   "metadata": {
	    "collapsed": true
	   },
	   "outputs": [],
"source": [
"//Exaample2.21\n",
"//Given\n",
"k1=0.7   //common brick   W/((m.K)\n",
"k2=0.48  //gypsum layer [W/(m.K)\n",
"k3=0.065 //Rockwool    [W/m.K]\n",
"//Heat loss with insulatiob will be 20% of without insulation\n",
"A=1      //sq m\n",
"x1=0.1   //[m]\n",
"x2=0.04 //[m]\n",
"R1=x1/(k1*A)   //K/W\n",
"R2=x2/(k2*A)   //K/W\n",
"R=R1+R2        //K/W\n",
"//R3=x3/(k3*A)\n",
"QbyQd=0.2\n",
"sigRbyRd=QbyQd\n",
"x3=(R/QbyQd-R)/15.4 //m\n",
"x3=x3*1000          //[mm]\n",
"printf('Thickness of rockwool insulation =%f mm',x3)"
   ]
   }
,
{
		   "cell_type": "markdown",
		   "metadata": {},
		   "source": [
			"## Example 2.22: Heat_loss_from_insulated_steel_pipe.sce"
		   ]
		  },
  {
"cell_type": "code",
	   "execution_count": null,
	   "metadata": {
	    "collapsed": true
	   },
	   "outputs": [],
"source": [
"clc;\n",
"clear;\n",
"//Example 2.22\n",
"Ts=451;      //Steam temperature in [K]\n",
"Ta=294;      //Air temperature in [K]\n",
"Di=25;   //Internal diameter of pipe  [mm]\n",
"Di=Di/1000;              //[m]\n",
"od=33;   //Outer diameter of pipe   [mm] \n",
"od=od/1000;              //[m]\n",
"hi=5678; //Inside heat transfer coefficient [W/(m^2.K)]\n",
"ho=11.36; //Outsideheat transfer coefficient  [W/(sq m.K)]\n",
"xw=(od-Di)/2;    //Thickness of steel pipe  [m]\n",
"k2=44.97;        //k for steel in W/(m.K)\n",
"k3=0.175;        //k for rockwool in W/(m.K)\n",
"ti=38/1000;           //thickness of insulation in [m]\n",
"r1=Di/2;         //[m]\n",
"r2=od/2;         //[m]\n",
"rm1=(r2-r1)/log(r2/r1);      //[m]\n",
"r3=r2+ti;            //[m]\n",
"rm2=(r3-r2)/log(r3/r2);  //[m]\n",
"Dm1=2*rm1;               //[m]\n",
"Dm2=2*rm2;               //[m]\n",
"//Rate of heat loss = dT/(sigma_R)\n",
"L=1;             //[m]\n",
"R1=1/(hi*%pi*Di*L);  //[K/W]\n",
"R2=xw/(k2*%pi*Dm1*L);\n",
"R3=(r3-r2)/(k3*%pi*Dm2*L);\n",
"Do=(od+2*ti) ;          //[mm]\n",
"R4=1/(ho*%pi*Do*L);              //[m]\n",
"sigma_R=R1+R2+R3+R4;\n",
"//Heat loss\n",
"dT=Ts-Ta;                //[K]\n",
"Q=dT/sigma_R;            //Heat loss [W/m]\n",
"printf('\nAns:Rate of heat loss is %f W/m',Q);\n",
"printf('\n NOTE:Slight variation in final answer due to lack of precision in calculation of R1,R2,R3 and R4.In book an approximate values of these is taken\n ')"
   ]
   }
,
{
		   "cell_type": "markdown",
		   "metadata": {},
		   "source": [
			"## Example 2.23: Heat_loss_from_furnace.sce"
		   ]
		  },
  {
"cell_type": "code",
	   "execution_count": null,
	   "metadata": {
	    "collapsed": true
	   },
	   "outputs": [],
"source": [
"clc;\n",
"//Example 2.23\n",
"T1=913     //[K]\n",
"T=513     //[K]\n",
"T2=313      //[K]\n",
"//Q=(T1-T)/(x/(k*A))\n",
"//Q=(T-T2)/(1/(h*A))\n",
"//x=2k/h\n",
"//Q=(T1-T2)/(x/(kA)+1/(h*A))\n",
"//Therefore,Q=hA/3*(T1-T2)\n",
"//With increase in thickness(100%)\n",
"//x1=4*k/h\n",
"//Q2=(T1-T2)/(x1/k*A+1/(h*A))\n",
"//Q2=(h*A)/5)*(T1-T2)\n",
"//Now\n",
"h=1;    //Assume\n",
"A=1;    //Assume for calculation\n",
"Q1=(h*A/3)*(T1-T2)\n",
"Q2=((h*A)/5)*(T1-T2)\n",
"percent=(Q1-Q2)*100/Q1      //Percent reduction in heat loss\n",
"printf('\nTherefore,Percentage reduction in heat loss is %d percent',percent);"
   ]
   }
,
{
		   "cell_type": "markdown",
		   "metadata": {},
		   "source": [
			"## Example 2.24: Rate_of_heat_loss.sce"
		   ]
		  },
  {
"cell_type": "code",
	   "execution_count": null,
	   "metadata": {
	    "collapsed": true
	   },
	   "outputs": [],
"source": [
"clc;\n",
"clear;\n",
"printf('Example 2.24\n Page no. 2.47');\n",
"//given\n",
"L=1//m\n",
"thp=2//Thickness of pipe; in mm\n",
"thi=10//Thickness of insulation; in mm\n",
"T1=373//K\n",
"T2=298//K\n",
"id=30//mm\n",
"r1=id/2//mm\n",
"r2=r1+thp//mm\n",
"r3=r2+thi//mm\n",
"//In S.I units\n",
"r1=r1/1000 //m\n",
"r2=r2/1000//m\n",
"r3=r3/1000//m\n",
"k1=17.44//W/(m.K)\n",
"k2=0.58//W/(m.K)\n",
"hi=11.63//W/(sq m.K)\n",
"ho=11.63//W/(sq m.K)\n",
"//Solution\n",
"Q=(2*%pi*L*(T1-T2))/(1/(r1*hi)+(log(r2/r1))/k1+((log(r3/r2))/k2)+(1/(0.02*ho)))\n",
"printf('ANSWER: \n Rate of heat loss,Q=%f W',Q);"
   ]
   }
,
{
		   "cell_type": "markdown",
		   "metadata": {},
		   "source": [
			"## Example 2.25: Thickness_of_insulation.sce"
		   ]
		  },
  {
"cell_type": "code",
	   "execution_count": null,
	   "metadata": {
	    "collapsed": true
	   },
	   "outputs": [],
"source": [
"clc;\n",
"clear;\n",
"//Examplr 2.25\n",
"h=8.5 ;      //[W/sq m.K]\n",
"dT=175 ;     //[K]\n",
"r2=0.0167;           //[m]\n",
"Q_by_l=h*2*%pi*r2*dT        //[W/m]\n",
"k=0.07 ;         //For insulating material in  [W/m.K]\n",
"//for insulated pipe--50% reduction in heat loss\n",
"Q_by_l1=0.5*Q_by_l      //[w/m]\n",
"deff('[x]=f(r3)','x=Q_by_l1-dT/((log(r3/r2))/(2*%pi*k)+1/(2*%pi*r3*h))')\n",
"\n",
"//by trial and error method we get:\n",
"r3=fsolve(0.05,f)\n",
"t=r3-r2         //thickness of insulation in [m]\n",
"printf('\n Hence,required thickness of insulation is %f m=%f mm or %d m',t,t*1000,round(t*1000));"
   ]
   }
,
{
		   "cell_type": "markdown",
		   "metadata": {},
		   "source": [
			"## Example 2.26: Heat_loss_per_metre.sce"
		   ]
		  },
  {
"cell_type": "code",
	   "execution_count": null,
	   "metadata": {
	    "collapsed": true
	   },
	   "outputs": [],
"source": [
"//Example 2.26\n",
"//Calculate heat loss per metre length\n",
"//Given\n",
"id=0.1    //internal diameter in[m]\n",
"od=0.12    //outer diameter in [m]\n",
"T1=358    //Temperature of fluid   [K]\n",
"T2=298    //Temperature of surrounding   [K]\n",
"t=0.03    //thickness of insulation     [m]\n",
"k1=58    //[W/m.K]\n",
"k2=0.2    //W/(m.K) insulating material\n",
"h1=720    //inside heat transfer coeff [W/sq m .K]\n",
"h2=9      //W/sq m.K\n",
"r1=id/2    //[m]\n",
"r2=od/2    //[m]\n",
"r3=r2+t    //[m]\n",
"//Heat loss per meter=Q_by_L\n",
"Q_by_L=(T1-T2)/(1/(2*%pi*r1*h1)+log(r2/r1)/(2*%pi*k1)+log(r3/r2)/(2*%pi*k2)+1/(2*%pi*r3*h2)); //W/m\n",
"printf('Heat loss per metre length of pipe=%f W',Q_by_L)"
   ]
   }
,
{
		   "cell_type": "markdown",
		   "metadata": {},
		   "source": [
			"## Example 2.27: Mineral_wool_insulation.sce"
		   ]
		  },
  {
"cell_type": "code",
	   "execution_count": null,
	   "metadata": {
	    "collapsed": true
	   },
	   "outputs": [],
"source": [
"clc;\n",
"clear;\n",
"//Example 2.26\n",
"//Given:\n",
"T1=573;          //[K]\n",
"T2=323;         //[K]\n",
"T3=298;         //[K]\n",
"h1=29;           // Outside heat transfer coefficients [W/sq m.K]\n",
"h2=12;          //[W/sq m.K]\n",
"r1=0.047;            //Internal radius [m]\n",
"r2=0.05;             //Outer radius[m]\n",
"k1=58 ;              //[W/m.K]\n",
"k2=0.052;            //[W/m.K]\n",
"//Q=(T1-T2)/(1/(r1*h1)+log(r2/r1)/k1+log(r3/r2)/k2)=(T2-T3)/(1/(r3*h2))\n",
"deff('[x]=f(r3)','x=(T1-T2)/(1/(r1*h1)+log(r2/r1)/k1+log(r3/r2)/k2)-(T2-T3)/(1/(r3*h2))')\n",
"//by trial and error method :\n",
"r3=fsolve(0.05,f)\n",
"t=r3-r2             //Thickness of insulation in [m]\n",
"//Q=h2*2*%pi*r3*L*(T2-T3)\n",
"Q_by_l=h2*2*%pi*r3*(T2-T3)      //[W/m]\n",
"printf('\n Thicknesss of insulation is %d mm \n Rate of heat loss per unit length is %f W/m',round(t*1000),Q_by_l);"
   ]
   }
,
{
		   "cell_type": "markdown",
		   "metadata": {},
		   "source": [
			"## Example 2.28: Furnace_wall.sce"
		   ]
		  },
  {
"cell_type": "code",
	   "execution_count": null,
	   "metadata": {
	    "collapsed": true
	   },
	   "outputs": [],
"source": [
"clc;\n",
"clear;\n",
"//Example 2.28\n",
"//Calculate heat loss per sq m and temperature of outside surface\n",
"//Given\n",
"A=1 //assume [sq m]\n",
"x1=0.006    //[m]\n",
"x2=0.075    //[m]\n",
"x3=0.2    //[m]\n",
"k1=39    //[W/m.K]\n",
"k2=1.1    //[W/m.K]\n",
"k3=0.66    //[W/m.K]\n",
"h0=65    //W/sq m .K\n",
"T1=900    //K\n",
"T2=300    //K\n",
"sigma_R=(x1/(k1*A)+x2/(k2*A)+x3/(k3*A)+1/(h0*A));\n",
"//To calculate heat loss/sq m area\n",
"Q=(T1-T2)/sigma_R    //[W/sq m]\n",
"printf('Heat loss per sq metre area is: %f W/sq m',Q);\n",
"//Q/A=T-T2/(1/h0), where T=Temp of outside surface\n",
"//So, T=T2+Q/(A*h0)\n",
"T=Q/(A*h0)+T2    //[K]\n",
"printf('Temperature of utside surface of furnace is: %f K (%f degree C)',T,T-273)"
   ]
   }
,
{
		   "cell_type": "markdown",
		   "metadata": {},
		   "source": [
			"## Example 2.29: Thickness_of_insulating_brick.sce"
		   ]
		  },
  {
"cell_type": "code",
	   "execution_count": null,
	   "metadata": {
	    "collapsed": true
	   },
	   "outputs": [],
"source": [
"clear;\n",
"clc;\n",
"//Example 2.29\n",
"//Determine necessary thickness of insulation brick\n",
"//Given\n",
"A=1    //Assume [sq m]\n",
"x1=0.003    //[m]\n",
"x3=0.008    //[m]\n",
"k1=30    //[W/m.K]\n",
"k2=0.7    //[W/m.K]\n",
"k3=40    //[W/m.K]\n",
"T1=363    //[K]\n",
"T=333    //[K]\n",
"T2=300    //[K]\n",
"h0=10    //W/sq m.K\n",
"//Q=(T1-T2)/(x1/(k1*A)+x2/(k2*A)+x3/(k3*A)+1/(h0*A))\n",
"//Also,Q=(T-T2)/(1/(h0*A))\n",
"//So, (T1-T2)/((x1/(k1*A)+x2/(k2*A)+x3/(k3*A)+1/(h0*A))=(T-T2)/(1/(h0*A))\n",
"//or,x2=k2*A((T1-T2)/((T-T2)*h0*A)-1/(h0*A)-x1/(k1*A)-x3/(k3*A))\n",
"x2=k2*A*((T1-T2)/((T-T2)*h0*A)-1/(h0*A)-x1/(k1*A)-x3/(k3*A)); //[m]\n",
"printf('Thicknessof insulating brick required is %f mm',x2*1000);"
   ]
   }
,
{
		   "cell_type": "markdown",
		   "metadata": {},
		   "source": [
			"## Example 2.2: Heat_loss_per_metre.sce"
		   ]
		  },
  {
"cell_type": "code",
	   "execution_count": null,
	   "metadata": {
	    "collapsed": true
	   },
	   "outputs": [],
"source": [
"clc;\n",
"printf('Example 2.2,\nPage no.2.18\n');\n",
"L=1 // m\n",
"printf('Length of ppipe,L = %f m\n',L);\n",
"r1=(50/2) // in mm\n",
"r1=r1/1000 // in m\n",
"printf('r1=%f m\n',r1);\n",
"r2=(25+3)/1000 // m\n",
"printf('r2=%f m\n',r2)\n",
"rm1=(r2-r1)/log(r2/r1);\n",
"printf('rm1=%f m\n',rm1)\n",
"k1=45 //W/(m.K)\n",
"R1=(r2-r1)/(k1*(2*%pi*rm1*L)) // K/W\n",
"printf('Thermal resistance of wall pipe=R1=%f K/W\n',R1);\n",
"printf('For inner lagging:\n') ;\n",
"k2=0.08 //W/(m.K)\n",
"ri1=0.028 //m\n",
"ri2=(ri1+r1) // m\n",
"rmi1=(ri2-ri1)/log(ri2/ri1)\n",
"R2=(ri2-ri1)/(k2*2*%pi*rmi1*L)\n",
"printf('Thermal resistance of inner lagging=R2=%f K/W',R2);\n",
"printf('For  outer lagging:\n') ;\n",
"k3=0.04 //W/(m.K)\n",
"ro1=0.053 //m\n",
"ro2=(ro1+0.04) // m\n",
"rmo1=(ro2-ro1)/log(ro2/ro1)\n",
"R3=(ro2-ro1)/(k3*2*%pi*rmo1*L)\n",
"printf('Thermal resistance of inner lagging=R2=%f K/W\n',R3);\n",
"R=R1+R2+R3\n",
"Ti=550 //K //inside\n",
"To=330 //K  // outside\n",
"dT=Ti-To; //Temperature difference\n",
"Q=dT/R\n",
"printf('Rate of heat loss per metre of pipe,Q=%f W/m',Q)"
   ]
   }
,
{
		   "cell_type": "markdown",
		   "metadata": {},
		   "source": [
			"## Example 2.30: Heat_flow_through_furnace_wall.sce"
		   ]
		  },
  {
"cell_type": "code",
	   "execution_count": null,
	   "metadata": {
	    "collapsed": true
	   },
	   "outputs": [],
"source": [
"clear;\n",
"clc;\n",
"//Example 2.30\n",
"//Given\n",
"hi=75        //[W/sq m.K)\n",
"x1=0.2    //m\n",
"x2=0.1    //[m]\n",
"x3=0.1    //[m]\n",
"T1=1943    //[K]\n",
"k1=1.25    //W/m.K\n",
"k2=0.074    ///W/m.K\n",
"k3=0.555    //W/m.K\n",
"T2=343    //K\n",
"A=1    //assume [sq m]\n",
"sigma_R=1/(hi*A)+x1/(k1*A)+x2/(k2*A)+x3/(k3*A);\n",
"//Heat loss per i sq m\n",
"Q=(T1-T2)/sigma_R    //[W]\n",
"//if T=temperature between chrome brick and koalin brick then \n",
"//Q=(T1-T)/(1/(hi*A)+x1/(k1*A))\n",
"//or T=T1-(Q*(1/(hi*A)+x1/(k1*A)))\n",
"T=T1-(Q*(1/(hi*A)+x1/(k1*A)));    //[K]\n",
"printf('Temperature at inner surface of middle layer=%f K(%f degree C)',T,T-273);\n",
"//if Tdash=temperature at the outer surface of middel layer,then\n",
"//Q=(Tdash-T2)/(x3/(k1*A))\n",
"//or Tdash=T2+(Q*x3/(k3*A))\n",
"Tdash=T2+(Q*x3/(k3*A))    //[K]\n",
"printf('Temperature at outer surface of middle layer=%f K (%f degree C)',Tdash,Tdash-273);"
   ]
   }
,
{
		   "cell_type": "markdown",
		   "metadata": {},
		   "source": [
			"## Example 2.31: Heat_loss_in_pipe.sce"
		   ]
		  },
  {
"cell_type": "code",
	   "execution_count": null,
	   "metadata": {
	    "collapsed": true
	   },
	   "outputs": [],
"source": [
"clear;\n",
"clc;\n",
"//Example 2.31\n",
"//Calculate:(a) Heat loss per unit length  \n",
"//(b)Reduction in heat loss\n",
"//Given\n",
"hi=10    //W/sq m.K\n",
"h0=hi    //W/sq.m.K\n",
"r1=0.09    //m\n",
"r2=0.12    //m\n",
"t=0.05    //thickness of insulation [m]\n",
"k1=40    //W/m.K\n",
"k2=0.05    //W/m.K\n",
"T1=473    //K\n",
"T2=373    //K\n",
"Q_by_L=2*%pi*(T1-T2)/(1/(r1*hi)+log(r2/r1)/k1+1/(r2*h0));    //W/m\n",
"printf('Ans (a) Heat loss=%f W/m ',Q_by_L)\n",
"//After addition of insulation:\n",
"r3=r2+t;    //radius of outer surface of insulaiton\n",
"Q_by_L1=2*%pi*(T1-T2)/(1/(r1*hi)+log(r2/r2)/k1+log(r3/r2)/k2+1/(r3*h0));    // W\n",
"Red=Q_by_L-Q_by_L1    //Reduciton in heat loss in [W/m]\n",
"percent_red=(Red/Q_by_L)*100    //% Reduction in heat loss\n",
"printf('Ans (b) Percent reduction in heat loss is %f percent',percent_red)"
   ]
   }
,
{
		   "cell_type": "markdown",
		   "metadata": {},
		   "source": [
			"## Example 2.32: Heat_flux_through_layers.sce"
		   ]
		  },
  {
"cell_type": "code",
	   "execution_count": null,
	   "metadata": {
	    "collapsed": true
	   },
	   "outputs": [],
"source": [
"clear;\n",
"clc;\n",
"//Example 2.32\n",
"//Determine: i-Heat flux across the layers and\n",
"//ii-Interfacial temperature between the layers\n",
"//Given\n",
"T1=798    //K\n",
"T2=298    //K\n",
"x1=0.02    //m\n",
"x2=x1    //m\n",
"k1=60    //W/m.K\n",
"k2=0.1    //W/m.K\n",
"hi=100    //W/sq m.K\n",
"h0=25    //W/sq m.K\n",
"Q_by_A=(T1-T2)/(1/hi+x1/k1+x2/k2+1/h0);    //W/sq m\n",
"printf('Ans (i)- Heat flux across the layers is %f W/sq m',Q_by_A);\n",
"//If Tis the interfacial temperature between steel plate and insulating material\n",
"//Q_by_A=(T-T2)/(x2/k2+1/h0)\n",
"T=Q_by_A*(x2/k2+1/h0)+T2\n",
"printf('Ans-(ii)-Interfacial temperature between layers is %f K (%f degree C)',T,T-273);"
   ]
   }
,
{
		   "cell_type": "markdown",
		   "metadata": {},
		   "source": [
			"## Example 2.33: Conductive_conductance_furnace_wall.sce"
		   ]
		  },
  {
"cell_type": "code",
	   "execution_count": null,
	   "metadata": {
	    "collapsed": true
	   },
	   "outputs": [],
"source": [
"clc;\n",
"clear;\n",
"//Example 2.33\n",
"//Determine Temperature at the outer surface of wall and convective conductance on the outer wall\n",
"    //Temperature of hot gas:\n",
"T1=2273    //K\n",
"    //Ambient aur temperature:\n",
"T4=318    //K\n",
"    //Heat flow by radiation from gases to inside surface of wall:\n",
"Qr1_by_A=23260    //[W/sq m]\n",
"    //Heat transfer coefficient on inside wall:\n",
"hi=11.63    //W/sq m.K\n",
"    //Thermal conductivity of wall:\n",
"K=58    //W.sq m/K\n",
"    //Heat flow by radiation from external surface to ambient:\n",
"Qr4_by_A=9300   //W/sq m.\n",
"    //Inside Wall temperature:\n",
"T2=1273    //K\n",
"Qr1=Qr1_by_A    //W  for\n",
"A=1    //sq m\n",
"Qc1_by_A=hi*(T1-T2)    //W/sq m\n",
"Qc1=Qc1_by_A    //for A=1 sq m\n",
"    //Thermal resistance:\n",
"R=1/K    //K/W per sq m\n",
"//Now Q=(T2-T3)/R,i.e \n",
"//External wall temp T3=T2-Q*R\n",
"//Q entering wall=\n",
"Q_enter=Qr1+Qc1    //W\n",
"T3=T2-Q_enter*R    //K\n",
"T3=673      //Approximate\n",
"//Heat loss due to convection:\n",
"Qc4_by_A=Q_enter-Qr4_by_A    //W/sq m\n",
"//Qc4_by_A=h0*(T3-T4)\n",
"//or  h0=Qc4_by_A/(T3-T4)\n",
"h0=Qc4_by_A/(T3-T4)    //W/sq m.K\n",
"//Result\n",
"printf('Convective conductance is: %f W/sq m.K',h0)"
   ]
   }
,
{
		   "cell_type": "markdown",
		   "metadata": {},
		   "source": [
			"## Example 2.34: Critical_radius_of_insulation.sce"
		   ]
		  },
  {
"cell_type": "code",
	   "execution_count": null,
	   "metadata": {
	    "collapsed": true
	   },
	   "outputs": [],
"source": [
"clc;\n",
"clear;\n",
"//Example 2.34\n",
"//Given\n",
"T1=473    //[K]\n",
"T2=293    //[K]\n",
"k=0.17    //W/(m.K)\n",
"h=3    //W/(sq m.K)\n",
"h0=h    //W/sq m.K\n",
"rc=k/h    //m\n",
"r1=0.025    //Inside radius of insulaiton [mm]    \n",
"q_by_l1=2*%pi*(T1-T2)/(log(rc/r1)/k+1/(rc*h0))    //Heat transfer with insulation in W/m\n",
"//Without insulation:\n",
"q_by_l2=h*2*%pi*r1*(T1-T2)    //W/m\n",
"inc=(q_by_l1-q_by_l2)*100/q_by_l2    //Increase of heat transfer\n",
"printf('When covered with insulation,\n heat loss=%f W \n When without insulation,heat loss= %f W \n percent increase =%f percent',q_by_l1,q_by_l2,inc);\n",
"k=0.04    //Fibre glass insulaiton W/(sq m.K)\n",
"rc=k/h    //Critical radius of insulaiton\n",
"printf('In this case the avlue of rc=%f m is less than the outside radius of pipe (%f),\n So additon of any fibre glass would cause a decrease in the heat transfer \n',rc,r1)    "
   ]
   }
,
{
		   "cell_type": "markdown",
		   "metadata": {},
		   "source": [
			"## Example 2.36: Critical_radius_of_pipe.sce"
		   ]
		  },
  {
"cell_type": "code",
	   "execution_count": null,
	   "metadata": {
	    "collapsed": true
	   },
	   "outputs": [],
"source": [
"clear;\n",
"clc;\n",
"//Example 2.36\n",
"//Calculate the heat loss per metre of pipe and outer surface temperature\n",
"//Given\n",
"k=1    //Thermal conductivity in [W/sq m.K]\n",
"h=8    //Het transfer coeff in W/sq m.K\n",
"rc=k/h  //Critical radius in m\n",
"T1=473    //K\n",
"T2=293    //K\n",
"r1=0.055    //Outer radius =inner radius in [m]\n",
"Q_by_L=2*%pi*(T1-T2)/(log(rc/r1)/k+1/(rc*h))\n",
"printf('Heat loss per meter of pipe is %f W/m',Q_by_L)\n",
"//For outer surface\n",
"//Q_by_L=2*%pi*(T-T2)/(1/rc*h)\n",
"// implies that, T=T2+Q_by_L/(rc*2*%pi)\n",
"T=T2+Q_by_L/(rc*2*%pi*h)    //K\n",
"printf('Outer surface temperature is: %f K(%f degree C)',T,T-273)"
   ]
   }
,
{
		   "cell_type": "markdown",
		   "metadata": {},
		   "source": [
			"## Example 2.37: Time_required_for_steel_ball.sce"
		   ]
		  },
  {
"cell_type": "code",
	   "execution_count": null,
	   "metadata": {
	    "collapsed": true
	   },
	   "outputs": [],
"source": [
"clc;\n",
"clear;\n",
"//Example 2.37\n",
"//Calculate the time required for a ball to attain a temperature of 423 K\n",
"//Given\n",
"k_steel=35    //W/m.K\n",
"Cp_steel=0.46    //kJ/(kg*K)\n",
"Cp_steel=Cp_steel*1000    //J/(kg*K)\n",
"h=10    //W/sq m.K\n",
"rho_steel=7800    //kg/cubic m\n",
"dia=50    //mm\n",
"dia=dia/1000    //m\n",
"R=dia/2      //radius in m\n",
"A=4*%pi*R^2  //Area  in sq m\n",
"V=A*R/3      //Volume in cubic meter\n",
"Nbi=h*(V/A)/k_steel\n",
"//As Nbi<0.10,internal temp gradient is negligible\n",
"T=423    //K\n",
"T0=723    //K\n",
"T_inf=373    //K\n",
"//(T-T_inf)/(T0-T_inf)=e^(-h*At/rho*Cp*V)\n",
"t=-rho_steel*Cp_steel*R*log((T-T_inf)/(T0-T_inf))/(3*h);    //s\n",
"printf('Time required for a ball to attain a temperature of 423 K is %f s= %f h',t,t/(3600))"
   ]
   }
,
{
		   "cell_type": "markdown",
		   "metadata": {},
		   "source": [
			"## Example 2.38: Steel_ball_quenched.sce"
		   ]
		  },
  {
"cell_type": "code",
	   "execution_count": null,
	   "metadata": {
	    "collapsed": true
	   },
	   "outputs": [],
"source": [
"clc;\n",
"clear;\n",
"//Example 2.38\n",
"//Given\n",
"dia=50    //mm\n",
"dia=dia/1000    //m\n",
"r=dia/2    //radius in m\n",
"h=115    //W/sq m.K\n",
"rho=8000 //kg/cubic m\n",
"Cp=0.42    //kJ/kg.K\n",
"Cp=Cp*1000    //J/(kg*K)\n",
"A=4*%pi*r^2    //Area in sq m\n",
"V=A*r/3    //Volume in cubic m\n",
"T=423    //K\n",
"T_inf=363    //K\n",
"T0=723    //K\n",
"//(T-T_inf)/(T0-T_inf)=e^(-3ht/(rho*Cp*r))\n",
"t=-rho*Cp*r*log((T-T_inf)/(T0-T_inf))/(3*h);    //Time in seconds\n",
"printf('Time taken by centre of ball to reach a temperature of 423 K is %f s (=%f minutes',t,t/60);"
   ]
   }
,
{
		   "cell_type": "markdown",
		   "metadata": {},
		   "source": [
			"## Example 2.39: Ball_plunged_in_a_medium.sce"
		   ]
		  },
  {
"cell_type": "code",
	   "execution_count": null,
	   "metadata": {
	    "collapsed": true
	   },
	   "outputs": [],
"source": [
"clc;\n",
"clear;\n",
"//Example 2.39\n",
"//Given\n",
"h=11.36    //W/sq m.K\n",
"k=43.3    //w/(m.K)\n",
"r=25.4    //radius in mm\n",
"r=r/1000    // radius in m\n",
"A=4*%pi*r^2    //Area of sphere [sq m]\n",
"V=A*r/3    //Volume in [cubic m]\n",
"rho=7849    //kg/cubic m\n",
"Cp=0.4606*10^3    //J/kg.K\n",
"t=1    //hour\n",
"t=t*3600    //seconds\n",
"T_inf=394.3    //[K]\n",
"T0=700    //[K]\n",
"// (T-T_inf)/(T0-T_inf)=e^(-3*h*t/rho*Cp*V)\n",
"T=T_inf+(T0-T_inf)*(%e^((-h*A*t)/(rho*Cp*V)));\n",
"printf('Temperature of ball after 1 h= %f K (%f degree C)',T,T-273)"
   ]
   }
,
{
		   "cell_type": "markdown",
		   "metadata": {},
		   "source": [
			"## Example 2.3: Heat_Loss.sce"
		   ]
		  },
  {
"cell_type": "code",
	   "execution_count": null,
	   "metadata": {
	    "collapsed": true
	   },
	   "outputs": [],
"source": [
"clear;\n",
"clc;\n",
"printf('Example 2.3')\n",
"//Given\n",
"r1=44 // [mm]\n",
"r1=r1/1000  //[m]\n",
"r2=0.094   // [m]\n",
"r3=0.124  // [m]\n",
"T1=623  //Temperature at outer surface of wall in[K]\n",
"T3=313  //Temperature at outer surface of outer insulation  [K]\n",
"k1=0.087  //Thermal conductivity of insulation layer 1..in [W/m.K]\n",
"k2=0.064  //Thermal conductivity of insulation layer 2  [W/m.K]\n",
"l=1    // Length of pipe   [m]\n",
"rm1=(r2-r1)/log(r2/r1)  //log mean radius of insulation layer 1 [m]\n",
"rm2=(r3-r2)/log(r3/r2)  //log mean radius of insulation layer 2[m]\n",
"//Putting values in following eqn:\n",
"Q= (T1-T3)/((r2-r1)/(k1*2*%pi*rm1*l)+(r3-r2)/(k2*2*%pi*rm2*l));\n",
"printf('Heat loss per meter pipe is %f W/m',Q)"
   ]
   }
,
{
		   "cell_type": "markdown",
		   "metadata": {},
		   "source": [
			"## Example 2.40: Slab_temperature_suddenly_lowered.sce"
		   ]
		  },
  {
"cell_type": "code",
	   "execution_count": null,
	   "metadata": {
	    "collapsed": true
	   },
	   "outputs": [],
"source": [
"clc;\n",
"clear;\n",
"//Example 2.40\n",
"//Given\n",
"rho=9000; //kg/cubic m\n",
"Cp=0.38;  //kJ/(kg.K)\n",
"Cp=Cp*1000    //J/(kg.K)\n",
"k=370;    //W/m.K\n",
"h=90;     //W/sq m.K\n",
"l=400;    //mm\n",
"l=l/1000 ;   //length of copper slab\n",
"t=5/1000 ;   //thickness in [m]\n",
"A=2*l^2     //Area of slab\n",
"V=t*l^2       //Volume in [cubic m]\n",
"L_dash=V/A    //[m]\n",
"//for slab of thickness 2x\n",
"//L_dash=x\n",
"L_dash=0.025 ;   //[m]\n",
"Nbi=h*L_dash/k    //< 0.10\n",
"var=h*A/(rho*Cp*V)\n",
"//As Nbi<0.10,we can apply lumped capacity analysis\n",
"T=363    //[K]\n",
"T_inf=303    //[K]\n",
"T0=523    //[K]\n",
"t=-(log((T-T_inf)/(T0-T_inf)))/var\n",
"printf('Time at which slab temperature becomes 363 K is %f s',t)\n",
"printf('CALCULATION MISTAKE IN BOOK IN LAST LINE')"
   ]
   }
,
{
		   "cell_type": "markdown",
		   "metadata": {},
		   "source": [
			"## Example 2.41: Flow_over_a_flat_plate.sce"
		   ]
		  },
  {
"cell_type": "code",
	   "execution_count": null,
	   "metadata": {
	    "collapsed": true
	   },
	   "outputs": [],
"source": [
"clc;\n",
"clear;\n",
"//Example 2.41\n",
"//Given\n",
"rho=9000    //kg/cubic meter\n",
"Cp=0.38    //kJ/(kg.K)\n",
"Cp=Cp*1000    //J/kg.K\n",
"k=370    //W/(m.K)\n",
"T0=483    //K\n",
"T_inf=373    //K\n",
"delta_T=40    //K\n",
"T=T0-delta_T    //K\n",
"t=5    //time in [minutes]\n",
"t=t*60    //[seconds]\n",
"//A=2A.....Two faces\n",
"//V=A.2x\n",
"//2x=thickness of slab=30    mm=0.03    m\n",
"x=0.015    //[m]\n",
"th=2*x    //thickness of slab\n",
"h=-rho*Cp*x*log((T-T_inf)/(T0-T_inf))/t\n",
"printf('Heat transfer coefficient is: %f W/(sq m.K)',h)"
   ]
   }
,
{
		   "cell_type": "markdown",
		   "metadata": {},
		   "source": [
			"## Example 2.42: Stainless_steel_rod_immersed_in_water.sce"
		   ]
		  },
  {
"cell_type": "code",
	   "execution_count": null,
	   "metadata": {
	    "collapsed": true
	   },
	   "outputs": [],
"source": [
"clear;\n",
"clc;\n",
"//Example 2.42\n",
"//Given\n",
"rho=7800    //[kg per cubic m]\n",
"h=100    //W/(sq m.K)  Convective heat transfer coeff\n",
"Cp=460    //J/(kg.K)\n",
"k=40    //W/(m.K)\n",
"L=1    //[m] length ofrod\n",
"D=10    //mm    \n",
"D=D/1000    //diameter in[m]\n",
"R=D/2    //raidus in [m]\n",
"//For cylindrical rod:\n",
"A=2*%pi*R*L    //Area in [sq m]\n",
"V=%pi*R^2*L    //Volume in [cubic m]\n",
"L_dash=V/A    //[m]\n",
"Nbi=h*L_dash/k    //Biot number\n",
"//N_bi<0.10,Hence lumped heat capavity is possible\n",
"T=473    //[K]    \n",
"T_inf=393    //[K]\n",
"T0=593    //[K]\n",
"t=-rho*Cp*V*log((T-T_inf)/(T0-T_inf))/(h*A)\n",
"printf('Time required to reach temperature %f is %f s',T,t);"
   ]
   }
,
{
		   "cell_type": "markdown",
		   "metadata": {},
		   "source": [
			"## Example 2.43: Chromel_alumel_thermocouple.sce"
		   ]
		  },
  {
"cell_type": "code",
	   "execution_count": null,
	   "metadata": {
	    "collapsed": true
	   },
	   "outputs": [],
"source": [
"clear;\n",
"clc;\n",
"//Example 2.43   \n",
"//Given\n",
"rho=8600    //[kg/cubic m]\n",
"Cp=0.42    //kJ/(kg.K)\n",
"Cp=Cp*1000    //J/(kg.K)\n",
"dia=0.71    //[mm]\n",
"dia=dia/1000    //[dia in m]\n",
"R=dia/2    //radius [m]\n",
"h=600    //convective coeff W/(sq m.K)\n",
"//Let length =L=1\n",
"L=1         //[m]\n",
"A=2*%pi*R*L;\n",
"V=%pi*(R^2)*L;\n",
"tao=(rho*Cp*V)/(h*A);\n",
"printf('Time constant of the thermocouple is %f s',tao);\n",
"//at\n",
"t=tao\n",
"//From  (T-T_inf)/(T0-T_inf)=e^(-t/tao)\n",
"ratio=%e^(-t/tao)    //Ratio of thermocouple difference to initial temperature difference\n",
"printf('At the end of the time period t=tao=%f s ,Temperature difference b/n the thermocouple and the gas stream would be %f of the initial temperature difference',tao,ratio);\n",
"printf('\n It should be reordered after %f s',4*tao);"
   ]
   }
,
{
		   "cell_type": "markdown",
		   "metadata": {},
		   "source": [
			"## Example 2.44: Thermocouple_junction.sce"
		   ]
		  },
  {
"cell_type": "code",
	   "execution_count": null,
	   "metadata": {
	    "collapsed": true
	   },
	   "outputs": [],
"source": [
"clc;\n",
"clear;\n",
"//Example 2.44\n",
"rho=8000    //kg/cubic m\n",
"Cp=420    //J/(kg.K)\n",
"h_hot=60    // for hot stream W/(sq m.K)    \n",
"dia=4    //[mm]\n",
"t=10;\n",
"r=dia/(2*1000)    //radius in [m]\n",
"//For sphere\n",
"V=(4/3)*%pi*r^3    //Volume in [cubic m]\n",
"A=4*%pi*r^2        //Volume in [sq m]\n",
"tao=rho*Cp*V/(h_hot*A)    // Time constant in [s]\n",
"ratio=%e^(-t/tao)    // %e^(-t/tao)=(T-T-inf)/(T0-T_inf)\n",
"T_inf=573    //[K]\n",
"T0=313    //[K]\n",
"T=T_inf+ratio*(T0-T_inf)\n",
"//ANS-[i]\n",
"printf('\n Answer: Time constant of thermocouple is %f s',tao);\n",
"//IN STILL AIR:\n",
"h_air=10    //W/(sq m .K)\n",
"tao_air=rho*Cp*V/(h_air*A)    //[s]\n",
"t_air=20    //[s]\n",
"ratio_air=%e^(-t_air/tao_air)\n",
"T_inf_air=303    //[K]\n",
"T0_air=T;\n",
"T_air=T_inf_air+ratio_air*(T0_air-T_inf_air)\n",
"//ANS-[ii]\n",
"printf('Temperature attained by junction 20 s after removing from the hot air stream is:%d K',round(T_air))"
   ]
   }
,
{
		   "cell_type": "markdown",
		   "metadata": {},
		   "source": [
			"## Example 2.45: Batch_reactor.sce"
		   ]
		  },
  {
"cell_type": "code",
	   "execution_count": null,
	   "metadata": {
	    "collapsed": true
	   },
	   "outputs": [],
"source": [
"clc;\n",
"clear;\n",
"//Example 2.45\n",
"T_inf=390;               //[K]\n",
"U=600;                   //[W/sq m.K]\n",
"Ac=1;                     //[sq m]\n",
"Av=10                       //Vessel area in [sq m]\n",
"m=1000;                  //[kg]\n",
"Cp=3.8*10^3;            //[J/kg.K]\n",
"To=290;                  //[K]\n",
"T=360;                   //[K]\n",
"h=8.5                   //[W/sq m.K]\n",
"//Heat gained from the steam=Rate of increase of internal energy\n",
"//U*A*(T_inf-T)=m*Cp*dT\n",
"deff('[x]=f(t)','x=log((T_inf-To)/(T_inf-T))-U*Ac*t/(m*Cp)');\n",
"t=fsolve(1,f);          //[in s]\n",
"t=round(t)    //[in s]\n",
"Ts=290;\n",
"printf('\nTime taken to heat the reactants over the same temperature range is %f h',t);\n",
"function t1=g(T),t1=m*Cp/(U*Ac*(T_inf-T)-h*Av*(T-Ts)),endfunction\n",
"t1=intg(To,T,g);\n",
"deff('[m]=fx(Tmax)','m=U*Ac*(T_inf-Tmax)-h*Av*(Tmax-Ts)')\n",
"T_max=fsolve(1,fx)\n",
"printf('\nANS: In CASE 1\nTime  taken to heat the reactants = %f s .ie %f h \n',t,t/3600);\n",
"printf('\nANS: In CASE 2 \n Time  taken to heat the reactants = %f s\n',t1);\n",
"printf('\nANS.:  Maximum temperature at which temperature can be raised is %f K\n',T_max);\n",
""
   ]
   }
,
{
		   "cell_type": "markdown",
		   "metadata": {},
		   "source": [
			"## Example 2.46: Heat_dissipation_by_aluminium_rod.sce"
		   ]
		  },
  {
"cell_type": "code",
	   "execution_count": null,
	   "metadata": {
	    "collapsed": true
	   },
	   "outputs": [],
"source": [
"clc;\n",
"clear;\n",
"//Example 2.46    \n",
"dia=3    //[mm]\n",
"dia=dia/1000    //[m]\n",
"r=dia/2    //radius in[m]\n",
"k=150    //W/(m.K)\n",
"h=300    //W/(sq m.K)\n",
"T0=413    //[K]\n",
"T_inf=288    //[K]\n",
"A=%pi*(r^2)    //Area in [sq m]\n",
"P=%pi*dia      //[W/sq m.K]\n",
"Q=(T0-T_inf)*sqrt(h*P*k*A)   //Heat dissipated in [W]\n",
"printf('Heat dissipated by the rod is %f W',Q)"
   ]
   }
,
{
		   "cell_type": "markdown",
		   "metadata": {},
		   "source": [
			"## Example 2.47: Aluminium_fin_efficiency.sce"
		   ]
		  },
  {
"cell_type": "code",
	   "execution_count": null,
	   "metadata": {
	    "collapsed": true
	   },
	   "outputs": [],
"source": [
"clc;\n",
"clear;\n",
"//Example 2.47   \n",
"//Given\n",
"k=200    //W/(m.K)\n",
"h=15    //W/(sq m.K)\n",
"T0=523    //[K]\n",
"T_inf=288    //[K]\n",
"theta_0=T0-T_inf    \n",
"dia=25    //diameter[mm]\n",
"dia=dia/1000    //diameter[m]\n",
"r=dia/2    //radius in [m]\n",
"P=%pi*dia    //[m]\n",
"A=%pi*r^2    //[sq m]\n",
"//For insulated fin:\n",
"m=sqrt(h*P/(k*A))\n",
"L=100    //length of rod in [mm]\n",
"L=L/1000    //length of rod in [m]\n",
"Q=theta_0*tanh(m*L)*sqrt(h*P*k*A)    //Heat loss \n",
"//ANSWER-1\n",
"printf('Heat loss by the insulated rod is %f W \n',Q)\n",
"nf=tanh(m*L)/(m*L)    //Fin efficiency for  insulated fin\n",
"//ANSWER-2\n",
"printf('Fin efficiency is %f percent \n',nf*100)\n",
"//At the end of the fin: theta/theta_0=(cosh[m(L-x)]/cosh(mL))\n",
"//at x=L, theta/theta_0=1/(cosh(mL)\n",
"T=T_inf+(T0-T_inf)*(1/cosh(m*L))    //[K]\n",
"//ANSWER-3\n",
"printf('Temperature at the end of the fin is %f K \n',T)"
   ]
   }
,
{
		   "cell_type": "markdown",
		   "metadata": {},
		   "source": [
			"## Example 2.49: Pin_fins.sce"
		   ]
		  },
  {
"cell_type": "code",
	   "execution_count": null,
	   "metadata": {
	    "collapsed": true
	   },
	   "outputs": [],
"source": [
"clc;\n",
"clear;\n",
"//Example 2.49\n",
"//Given\n",
"k=300    //W/(m.K)\n",
"h=20    //W.(sq m.K)\n",
"P=0.05    //[m]\n",
"A=2    //[sq cm]\n",
"A=A/10000    //[sq m]\n",
"T0=503    //[K]\n",
"T_inf=303    //[K]\n",
"theta_0=T0-T_inf    //[K]\n",
"m=sqrt(h*P/(k*A))\n",
"//CASE 1:  6 Fins of 100 mm length\n",
"L1=0.1    //Length of fin in [m]\n",
"Q=sqrt(h*P*k*A)*theta_0*tanh(m*L1)    //[W]\n",
"//For 6 fins\n",
"Q=Q*6    //for 6 fins [W]\n",
"//CASE 2:  10 fins of 60 mm length\n",
"L2=60    //[mm]\n",
"L2=L2/1000    //[m]\n",
"Q2=sqrt(h*P*k*A)*theta_0*tanh(m*L2);    //[W]\n",
"Q2=Q2*10    //For 10 fins\n",
"printf('As,Q for 10 fins of 60 mm length( %f W) is more than Q for 6 fins of 100 mm length (%f W).\n The agreement-->10 fins of 60 mm length is more effective',Q2,Q); "
   ]
   }
,
{
		   "cell_type": "markdown",
		   "metadata": {},
		   "source": [
			"## Example 2.4: Heat_loss.sce"
		   ]
		  },
  {
"cell_type": "code",
	   "execution_count": null,
	   "metadata": {
	    "collapsed": true
	   },
	   "outputs": [],
"source": [
"clc;\n",
"clear;\n",
"//Example 2.4\n",
"printf('Example 2.4')\n",
"//Given\n",
"A=1 //Heat transfer area  [sq m]\n",
"x1=0.229  // thickness of fire brick in [m]\n",
"x2=0.115  // thickness of insulating brick in [m]\n",
"x3=0.229  // thickness of building brick in [m]\n",
"k1=6.05  //thermal conductivity of fir brick  [W/(m.K)]\n",
"k2=0.581  //thermal conductivity of insulating brick   [W/m.K]\n",
"k3=2.33  //thermal conductivity of building brick   [W/m.K]\n",
"T1=1223  // inside temperature [K]\n",
"T2=323 // Outside temperature[K]\n",
"dT=T1-T2  //Overall temp drop [K]\n",
"R1=(x1/k1*A) //thermal resistance 1\n",
"R2=(x2/k2*A) // Thermal resistance 2\n",
"R3=(x3/k3*A) //Thermal resistance 3\n",
"Q=dT/(R1+R2+R3) //w/SQ m\n",
"Ta=-((Q*R1)-T1)  //from  Q1=Q=(T1-Ta)/(x1/k1*A)\n",
"//Similarly\n",
"Tb=(Q*R3)+T2;\n",
"printf('Interface temperature:\n i-Between  FB-IB=%f K  \nii-Between IB-PB=%fK',Ta,Tb);\n",
""
   ]
   }
,
{
		   "cell_type": "markdown",
		   "metadata": {},
		   "source": [
			"## Example 2.50: Metallic_wall_surrounded_by_oil_and_water.sce"
		   ]
		  },
  {
"cell_type": "code",
	   "execution_count": null,
	   "metadata": {
	    "collapsed": true
	   },
	   "outputs": [],
"source": [
"clc;\n",
"clear;\n",
"//Example 2.50   \n",
"//Given\n",
"h_oil=180    //W/(sq m.K)\n",
"h_air=15    //W/(sq m.K)\n",
"T_oil=353    //[K]\n",
"T_air=293    //[K]\n",
"delta_T=T_oil-T_air;    //[K]\n",
"k=80    //Conductivity in  [W/(m.K)]\n",
"for_section=11*10^-3    //[m]\n",
"L=25    //[mm]\n",
"L=L/1000    //[m]\n",
"W=1    //[m] Width,..let\n",
"t=1    //[mm] \n",
"t=t/1000    //[m]\n",
"A=W*t    //[m]\n",
"P=2*t\n",
"Af=2*L*W    //sq m\n",
"N=1\n",
"Ab=for_section-A    //[sq m]\n",
"//CASE 1: Fin on oil side only\n",
"m=sqrt(h_oil*P/(k*A)) \n",
"nf_oil=tanh(m*L)/(m*L)\n",
"Ae_oil=Ab+nf_oil*Af*N    //[sq m]\n",
"Q=delta_T/(1/(h_oil*Ae_oil)+1/(h_air*for_section))    //[W]\n",
"printf('In oil side,Q=%f W\n',Q);\n",
"//CASE 2: Fin on  air side only\n",
"m=sqrt(h_air*P/(k*A))\n",
"nf_air=tanh(m*L)/(m*L)\n",
"nf_air=0.928        //Approximation\n",
"Ae_air=Ab+nf_air*Af*N    //[sq m]\n",
"Q=delta_T/(1/(h_oil*for_section)+1/(h_air*Ae_air))    //[W]\n",
"printf('In air side,Q=%f W',Q);\n",
"printf('\n From above results we see that more heat transfer takes place if fins are provided on the air side');"
   ]
   }
,
{
		   "cell_type": "markdown",
		   "metadata": {},
		   "source": [
			"## Example 2.51: Brass_wall.sce"
		   ]
		  },
  {
"cell_type": "code",
	   "execution_count": null,
	   "metadata": {
	    "collapsed": true
	   },
	   "outputs": [],
"source": [
"clc;\n",
"clear;\n",
"//Example 2.51\n",
"//Given\n",
"k=75    //Thermal conductivity [W/(m.K)]\n",
"T_water=363    //[K]\n",
"T_air=303    //[K]    \n",
"dT=T_water-T_air    //delta T\n",
"h1=150    // for water[W/(sq m.K)]\n",
"h2=15       //for air [W/(sq m.K)]\n",
"W=0.5    //Width of wall[m]\n",
"L=0.025    //[m]\n",
"Area=W^2    //Base Area [sq m]\n",
"t=1    //[mm]\n",
"t=t/1000    //[m]\n",
"pitch=10    //[mm]\n",
"pitch=pitch/1000    //[m]\n",
"N=W/pitch    //[No of fins]\n",
"//Calculations\n",
"A=N*W*t    //Total cross-sectional area of fins   in [sq m]\n",
"Ab=Area-A    //[sq m]\n",
"Af=2*W*L    //Surface area of fins    [sq m]\n",
"//CASE 1: HEAT TRANSFER WITHOUT FINS\n",
"A1=Area    //[sq m]\n",
"A2=A1    //[sq m]\n",
"Q=dT/(1/(h1*A1)+1/(h2*A2));        //[W]\n",
"printf('\nWithout fins,Q=%f W\n',Q);\n",
"//CASE 2: Fins on the water side\n",
"P=2*(t+W);\n",
"A=0.5*10^-3;\n",
"m=sqrt(h1*P/(k*A))\n",
"nfw=tanh(m*L)/(m*L)   //Effeciency on water side\n",
"Aew=Ab+nfw*Af*N    //Effective area on the water side    [sq m]\n",
"Q=dT/(1/(h1*Aew)+1/(h2*A2));        //[W]\n",
"printf('\n With fins on water side,Q=%f W \n',Q);\n",
"//CASE 3: FINS ON THE AIR SIDE\n",
"m=sqrt(h2*P/(k*A))\n",
"nf_air=tanh(m*L)/(m*L)    //Effeciency\n",
"Aea=Ab+nf_air*Af*N    //Effective area on air side\n",
"Q=dT/(1/(h1*A1)+1/(h2*Aea));        //[W]\n",
"printf('\n With Fins on Air side,Q=%f W \n',Q)\n",
"//BOTH SIDE:\n",
"Q=dT/(1/(h1*Aew)+1/(h2*Aea));        //[W]\n",
"printf('\n With Fins on both side,Q=%f W \n',Q);"
   ]
   }
,
{
		   "cell_type": "markdown",
		   "metadata": {},
		   "source": [
			"## Example 2.5: Heat_loss.sce"
		   ]
		  },
  {
"cell_type": "code",
	   "execution_count": null,
	   "metadata": {
	    "collapsed": true
	   },
	   "outputs": [],
"source": [
"clc;\n",
"clear;\n",
"//Example 2.5\n",
"printf('Example 2.5\nPage 2.23')\n",
"//Given\n",
"A=1;  //let [sq m]\n",
"x1=0.23;   //thickness of fir brick layer[m]\n",
"x2=0.115;   // [m]\n",
"x3=0.23;   //[m]\n",
"T1=1213;  //Temperature of furnace [K]\n",
"T2=318;   //Temperature of furnace  [K]\n",
"dT=T1-T2;  //[K]\n",
"k1=6.047;   //W/(m.K) (fire brick)\n",
"k2=0.581;   //W/(m.K) (insulating brick)\n",
"k3=2.33;   //W/(m.K) (building brick)\n",
"Q_by_A=dT/((x1/k1)+(x2/k2)+(x3/k3))  //Heat lost per unit Area in Watt\n",
"\n",
"R1=(x1/k1)  //Thermal resistance\n",
"R1=0.04     //Approximate\n",
"R2=(x2/k2)\n",
"R2=0.2025      //Approximate\n",
"R3=(x3/k3)\n",
"R3=0.1      //Approximate\n",
"Ta=T1-((dT*R1)/(R1+R2+R3))\n",
"Tb=((dT*R3)/(R1+R2+R3))+T2\n",
"Tb=565          //Approximation\n",
"printf('\nAnswer:Heat loss per unit area is %f W=%f J/s\n',Q_by_A,Q_by_A);\n",
"printf('\nAnswer:\n Ta=%f K =Temperature at the interface between fire brick and insulating brick\n Tb=%d K Temperature at the interface between insulating and building brick\n',Ta,Tb)\n",
""
   ]
   }
,
{
		   "cell_type": "markdown",
		   "metadata": {},
		   "source": [
			"## Example 2.7: Heat_loss.sce"
		   ]
		  },
  {
"cell_type": "code",
	   "execution_count": null,
	   "metadata": {
	    "collapsed": true
	   },
	   "outputs": [],
"source": [
"clc\n",
"printf('Example 2.7,Page no 2/26 \n');\n",
"printf('Part-(a)\n');\n",
"A=1; // sq metre\n",
"x1=114 // mm\n",
"x1=114/1000 // metre\n",
"k1=0.138 // W/(m.K)\n",
"R1= x1/(k1*A)\n",
"x2=229 //mm\n",
"x2= x2/1000  // metre\n",
"k2=1.38  // W/m.K\n",
"R2=x2/(k2*A)\n",
"dT=1033-349\n",
"//Heat loss\n",
"Q=dT/(R1+R2)\n",
"printf('ANSWER:Heat loss  from 1 sq metre wall=%f W',Q);\n",
"printf('Part(b)\n');\n",
"//contact resistance=cr\n",
"cr=0.09 //K/W\n",
"R=R1+R2+cr\n",
"Q=dT/R\n",
"printf('ANSWER:Heat loss from 1 sq metre when resistance present=%f W',Q);"
   ]
   }
,
{
		   "cell_type": "markdown",
		   "metadata": {},
		   "source": [
			"## Example 2.8: Loss_per_area.sce"
		   ]
		  },
  {
"cell_type": "code",
	   "execution_count": null,
	   "metadata": {
	    "collapsed": true
	   },
	   "outputs": [],
"source": [
"clear;\n",
"clc;\n",
"//Example 2.8\n",
"printf('Example 2.8 \n')\n",
"//Given:\n",
"x1=0.02  //[m]\n",
"x2=0.01  //[m]\n",
"x3=0.02  //[m]\n",
"k1=0.105  //W/(m.k)\n",
"k3=k1  //W/(m.K)\n",
"k2=0.041  //W/(m.K)\n",
"T1=303\n",
"T2=263\n",
"dT=T1-T2   //[K]\n",
"Q_by_A=dT/((x1/k1)+(x2/k2)+(x3/k3))\n",
"R=0.625  //K/W\n",
"Tx=293   //K\n",
"Rx=0.9524   //K/W\n",
"x=R*(T1-Tx)/(dT*Rx)\n",
"x=x*100  //mm\n",
"printf('The temperature of 293 K will be reached at point %f  mm from the outermost wall surface of the ice-box',x)"
   ]
   }
,
{
		   "cell_type": "markdown",
		   "metadata": {},
		   "source": [
			"## Example 2.9: Heat_loss.sce"
		   ]
		  },
  {
"cell_type": "code",
	   "execution_count": null,
	   "metadata": {
	    "collapsed": true
	   },
	   "outputs": [],
"source": [
"clc\n",
"printf('Example 2.9,Page 2.28\n');\n",
"//Given\n",
"ID=50 //mm;\n",
"dT=(573-303);\n",
"printf('Internal diameter,ID=%f mm',ID);\n",
"r1=ID/2 //mm\n",
"r1=r1/1000 // metres\n",
"OD=150 // mm\n",
"printf('Outer diameter,OD=%f mm',OD);\n",
"r2=OD/2 // mm\n",
"r2=75/1000 // m\n",
"//Thermal conductivity\n",
"k=17.45 // W/(m.K) \n",
"//Solution\n",
"printf('Q/A=dT/(r2-r1)/k\n');\n",
"A1=4*%pi*(r1^2);\n",
"A2=4*%pi*(r2^2);\n",
"A=sqrt(A1*A2)\n",
"Q=(A*k*dT)/(r2-r1)\n",
"printf('ANSWER:\nHeat loss=Q=%f W',Q);"
   ]
   }
],
"metadata": {
		  "kernelspec": {
		   "display_name": "Scilab",
		   "language": "scilab",
		   "name": "scilab"
		  },
		  "language_info": {
		   "file_extension": ".sce",
		   "help_links": [
			{
			 "text": "MetaKernel Magics",
			 "url": "https://github.com/calysto/metakernel/blob/master/metakernel/magics/README.md"
			}
		   ],
		   "mimetype": "text/x-octave",
		   "name": "scilab",
		   "version": "0.7.1"
		  }
		 },
		 "nbformat": 4,
		 "nbformat_minor": 0
}
