{
"cells": [
 {
		   "cell_type": "markdown",
	   "metadata": {},
	   "source": [
       "# Chapter 3: Convection"
	   ]
	},
{
		   "cell_type": "markdown",
		   "metadata": {},
		   "source": [
			"## Example 3.10: Rate_of_heat_transferred_in_turbulent_flow.sce"
		   ]
		  },
  {
"cell_type": "code",
	   "execution_count": null,
	   "metadata": {
	    "collapsed": true
	   },
	   "outputs": [],
"source": [
"clc;\n",
"clear;\n",
"//Example 3.10\n",
"v=16.96*10^-6    //[sq m./s]\n",
"rho=1.128    //[kg/cubic m]\n",
"Npr=0.699    //Prandtl number\n",
"k=0.0276    //[W/m.K]\n",
"u_inf=15    //[m/s]\n",
"L=0.2    //[m]\n",
"Nre_l=L*u_inf/v    //Reynold's number\n",
"//Since this is less than 3*10^5,the boundary layer is laminar over entire length\n",
"Nnu=0.664*sqrt(Nre_l)*(Npr^(1.0/3.0))\n",
"h=Nnu*k/L    //[W/sq m.K]\n",
"A=L^2    //Area in [sq m]\n",
"Tw=293    //[K]\n",
"T_inf=333    //[K]\n",
"//Rate of heat transfer from BOTH sides is:\n",
"Q=2*h*A*(T_inf-Tw)    //[W]\n",
"printf('Rate of heat transfer from both sides of plate is %f W\n',Q);\n",
"//ii-With turbulent boundary layer from the leading edge:\n",
"h=k*0.0366*(Nre_l^(0.8))*(Npr^(1.0/3.0))/L       //[W/(sq m.K)]\n",
"//Heat transfer from both sides is :\n",
"Q=2*h*A*(T_inf-Tw)            //[W]\n",
"printf('\nThese calculations sho that the that transfer rate is approximately doubled if boundary layer is turbulent from the leading edge \n');  "
   ]
   }
,
{
		   "cell_type": "markdown",
		   "metadata": {},
		   "source": [
			"## Example 3.11: Heat_transfer_from_plate_in_unit_direction.sce"
		   ]
		  },
  {
"cell_type": "code",
	   "execution_count": null,
	   "metadata": {
	    "collapsed": true
	   },
	   "outputs": [],
"source": [
"clc;\n",
"clear;\n",
"//Example 3.11\n",
"mu=1.906*10^-5    //[kg/(m.s)]\n",
"k=0.02723    //W/m.K\n",
"Cp=1.007    //[kJ/(kg.K)]\n",
"rho=1.129    //[kg/cubic m]\n",
"Npr=0.70\n",
"Mavg=29\n",
"u_inf=35    //[m/s]\n",
"L=0.75    //[m]\n",
"Tm=313    //[K]\n",
"P=101.325    //[kPa]\n",
"Nre_l=rho*u_inf*L/mu    //Reynold's number >5*10^5\n",
"Nnu=0.0366*Nre_l^(0.8)*Npr^(1.0/3.0);\n",
"h=Nnu*k/L    //[W/s m.K]\n",
"A=1*L    //[sq m]\n",
"Tw=333    //[K]\n",
"T_inf=293    //[K]\n",
"Q=h*A*(Tw-T_inf);    //[W]\n",
"printf('Heat transfer from the plate is %f W',Q);"
   ]
   }
,
{
		   "cell_type": "markdown",
		   "metadata": {},
		   "source": [
			"## Example 3.12: Heat_lost_by_sphere.sce"
		   ]
		  },
  {
"cell_type": "code",
	   "execution_count": null,
	   "metadata": {
	    "collapsed": true
	   },
	   "outputs": [],
"source": [
"clc;\n",
"clear;\n",
"//Example 3.12\n",
"v=18.23*10^-6    //sq m/s\n",
"k=0.02814    //[W/m.K]\n",
"D=0.012    //[m]\n",
"r=0.006    //[m]\n",
"u_inf=4    //[m/s]\n",
"Nre=D*u_inf/v    //Reynold's number\n",
"Nnu=0.37*Nre^(0.6);\n",
"h=Nnu*(k/D)    \n",
"A=4*%pi*r^2    //Area of sphere in [sq m]\n",
"Tw=350    //[K]\n",
"T_inf=300    //[K]\n",
"Q=h*A*(Tw-T_inf)    //Heat lost by sphere in [W]\n",
"printf('\n Heat lost by sphere is %f W',Q);"
   ]
   }
,
{
		   "cell_type": "markdown",
		   "metadata": {},
		   "source": [
			"## Example 3.13: Heat_lost_by_sphere.sce"
		   ]
		  },
  {
"cell_type": "code",
	   "execution_count": null,
	   "metadata": {
	    "collapsed": true
	   },
	   "outputs": [],
"source": [
"clc;\n",
"clear;\n",
"//Exmaple 3.13\n",
"v=15.69*10^-6    //[sq m./s]\n",
"k=0.02624    //[W/m.K]\n",
"Npr=0.708    //Prandtl number\n",
"mu=2.075*10^-5    //kg/m.s\n",
"u_inf=4    //[m/s]\n",
"mu_inf=1.8462*10^-5    //[m/s] velocity\n",
"Tw=350    //[K]\n",
"T_inf=300    //[K]\n",
"D=0.012    //[m]\n",
"r=D/2    //Radius in [m]\n",
"Nre=u_inf*D/v    //Reynold's numbe\n",
"Nnu=2+(0.4*Nre^(1.0/2.0)+0.06*Nre^(2.0/3.0))*Npr^(0.4)*(mu_inf/mu)^(1.0/4.0)\n",
"h=Nnu*k/D    //[W/sq m.K]\n",
"A=4*%pi*r^2    //Area in [sq m]\n",
"Q=h*A*(Tw-T_inf);\n",
"printf('\n Heat lost by the sphere is %f W',Q);"
   ]
   }
,
{
		   "cell_type": "markdown",
		   "metadata": {},
		   "source": [
			"## Example 3.14: Percent_power_lost_in_bulb.sce"
		   ]
		  },
  {
"cell_type": "code",
	   "execution_count": null,
	   "metadata": {
	    "collapsed": true
	   },
	   "outputs": [],
"source": [
"clc;\n",
"clear;\n",
"//Example 3.14\n",
"v=2.08*10^-5    //[sq m/s]\n",
"k=0.03    //W/(m.K)\n",
"Npr=0.697    //Prandtl number\n",
"D=0.06    //[m]\n",
"u_inf=0.3    //[m/s]\n",
"Nre=D*u_inf/v    //Reynolds number\n",
"//Average nusselt number is given by:\n",
"Nnu=0.37*(Nre^0.6);\n",
"h=Nnu*k/D    //W/sq m.K\n",
"Tw=400    //[K]\n",
"T_inf=300    //[K]\n",
"D=0.06    //[m]\n",
"r=0.03    //[m]\n",
"A=4*%pi*r^2    //Area in [sq m]\n",
"Q=h*A*(Tw-T_inf)    //[W]\n",
"per=Q*100/100    //Percent of heat lost by forced convection\n",
"printf('Heat transfer rate is %f W,And percentage of power lost by convectio is: %f percent ',Q,per);\n",
" "
   ]
   }
,
{
		   "cell_type": "markdown",
		   "metadata": {},
		   "source": [
			"## Example 3.15: Heat_lost_by_cylinder.sce"
		   ]
		  },
  {
"cell_type": "code",
	   "execution_count": null,
	   "metadata": {
	    "collapsed": true
	   },
	   "outputs": [],
"source": [
"clc;\n",
"clear;\n",
"//Example 3.15    \n",
"u_inf=50    //velocity in [m/s]\n",
"mu=2.14*10^-5    //[kg/(m.s)]\n",
"rho=0.966    //[kg/cubic m]\n",
"k=0.0312    //[W/(m.K)]\n",
"Npr=0.695    //Prandtl number\n",
"D=0.05    //Diameter in [m]\n",
"Nre=D*u_inf*rho/mu ;  //Reynold's number\n",
"printf('%f',Nre)\n",
"Nnu=0.0266*Nre^0.805*Npr^(1/3);\n",
"h=Nnu*k/D   ; //W/sq m.K\n",
"h=171.7     //Approximation\n",
"printf('\n%f',h)\n",
"Tw=423    //[K]\n",
"T_inf=308    //[K]\n",
"//Heat loss per unit length is :\n",
"Q_by_l=h*%pi*D*(Tw-T_inf);  //[W]\n",
"printf('Heat lost per unit length of cylinder is %f W(approx)',round(Q_by_l));"
   ]
   }
,
{
		   "cell_type": "markdown",
		   "metadata": {},
		   "source": [
			"## Example 3.16: Heat_transfer_in_tube.sce"
		   ]
		  },
  {
"cell_type": "code",
	   "execution_count": null,
	   "metadata": {
	    "collapsed": true
	   },
	   "outputs": [],
"source": [
"clc;\n",
"clear;\n",
"//Example 3.16\n",
"v=20.92*10^-6    //sq m/s\n",
"k=3*10^-2    //W/(m.K)\n",
"Npr=0.7\n",
"u_inf=25    //[m/s]\n",
"d=50    //[mm]\n",
"d=d/1000    //[m]\n",
"Nre=u_inf*d/v    //Reynold's number\n",
"Tw=397    //[K]\n",
"T_inf=303    //[K]\n",
"//Case 1: Circular tube\n",
"Nnu=0.0266*Nre^(0.805)*Npr^(1.0/3.0);\n",
"h=Nnu*k/d    //[W/sq m.K]\n",
"A=%pi*d    //Area in [sq m]\n",
"Q=h*A*(Tw-T_inf)    //[W]\n",
"Q_by_l1=h*%pi*d*(Tw-T_inf)    //[W/m]\n",
"//Case 2:Square tube\n",
"A=50*50    //Area in [sq mm]\n",
"P=2*(50+50)    //Perimeter [mm]\n",
"l=4*A/P       //[mm]\n",
"l=l/1000        //[m]\n",
"Nnu=0.102*(Nre^0.675)*(Npr^(1.0/3.0))\n",
"h=Nnu*k/d    //W/(sq m.K)\n",
"A=4*l*l        //[sq m]\n",
"Q=h*A*(Tw-T_inf)\n",
"Q_by_l2=Q/l    //[W/m]\n",
"printf('\nRate of heat flow from the square pipe=%f W/m  \n which is more than that from the circular pipe which is equal to %f W/m',Q_by_l2,Q_by_l1);"
   ]
   }
,
{
		   "cell_type": "markdown",
		   "metadata": {},
		   "source": [
			"## Example 3.17: Heat_transfer_coefficient.sce"
		   ]
		  },
  {
"cell_type": "code",
	   "execution_count": null,
	   "metadata": {
	    "collapsed": true
	   },
	   "outputs": [],
"source": [
"clc;\n",
"clear;\n",
"//Example 3.17\n",
"mu=0.8    //Viscosity of flowing fluid [N.s/sq m]\n",
"rho=1.1    //Density of flowinf fluid [g/cubic cm]\n",
"rho=rho*1000    //Density in [kg/cubic m]\n",
"Cp=1.26    //Specific heat [kJ/kg.K]\n",
"Cp=Cp*10^3    // in[J/(kg.K)]\n",
"k=0.384    //[W/(m.K)]\n",
"mu_w=1    //Viscosity at wall temperature [N.s/sq m]\n",
"L=5    //[m]\n",
"vfr=300    //Volumetric flow rate in [cubic cm/s]\n",
"vfr=vfr*10^-6    //[cubic m/s]\n",
"mfr=vfr*rho    //Mass flow rate of flowinf fluid [kg/s]\n",
"Di=20    //Inside diameter in[mm]\n",
"Di=Di/1000    //[m]\n",
"Area=(%pi/4)*Di^2    //Area of cross-section [sq m]\n",
"u=vfr/Area    //Veloctiy in [m/s]\n",
"Nre=Di*u*rho/mu    //Reynold's number\n",
"//As reynold's number is less than 2100,he flow is laminar\n",
"Npr=Cp*mu/k    //Prandtl number\n",
"Nnu=1.86*(Nre*Npr*Di/L)^(1.0/3.0)*(mu/mu_w)^(0.14)\n",
"hi=Nnu*k/Di    //inside heat transfer coefficient [W/sq m.K]\n",
"printf('Inside heat transfer coefficient is %f W/(sq m.K)',hi);\n",
"//Note:\n",
"printf('\n The answer given in book..ie 1225 is wrong.please redo the calculation of last line manually to check\n'); "
   ]
   }
,
{
		   "cell_type": "markdown",
		   "metadata": {},
		   "source": [
			"## Example 3.18: Heat_transfer_coefficient_in_heated_tube.sce"
		   ]
		  },
  {
"cell_type": "code",
	   "execution_count": null,
	   "metadata": {
	    "collapsed": true
	   },
	   "outputs": [],
"source": [
"clc;\n",
"clear;\n",
"//Example 3.18\n",
"m=5500    //Mass flow rate in [kg/h]\n",
"m=m/3600    //[kg/s]\n",
"rho=1.07    //Density of fluid in [g/cm^3]\n",
"rho=rho*1000    //[kg/m^3]\n",
"vfr=m/rho    //Volumetric flow rate in [m^3/s]\n",
"Di=40    //Diameter of tube [mm]\n",
"Di=Di/1000    //[m]\n",
"A=(%pi/4)*Di^2    //Area of cross-section in [sq m]\n",
"u=vfr/A    //Velocity of flowing fluid    [m/s]\n",
"rho=1070    //Density in [kg/m^3]\n",
"mu=0.004    //Viscosity in [kg/m.s]\n",
"Nre=Di*u*rho/mu\n",
"Nre=12198       //Approx\n",
"//Since this reynold's number is less than 10000,the flow is turbulent\n",
"Cp=2.72    //Specific heat in [kJ/kg.K]\n",
"Cp=Cp*10^3    //Specific heat in [J/kg.K]\n",
"k=0.256    //thermal conductivity in [W/m.K]\n",
"Npr=Cp*mu/k    //Prandtl number\n",
"Nnu=0.023*(Nre^0.8)*(Npr^0.4)    //Nusselt number\n",
"hi=k*Nnu/Di    //Inside heat transfer coefficient in [W/m^2.K]\n",
"printf('Inside heat transfer coefficient is %f W/sq m.K',hi);"
   ]
   }
,
{
		   "cell_type": "markdown",
		   "metadata": {},
		   "source": [
			"## Example 3.19: h_of_water_flowing_in_tube.sce"
		   ]
		  },
  {
"cell_type": "code",
	   "execution_count": null,
	   "metadata": {
	    "collapsed": true
	   },
	   "outputs": [],
"source": [
"clc;    \n",
"clear;\n",
"//Example 3.19\n",
"//DATA:\n",
"rho=984.1    //Density of water [kg/m^3]\n",
"Cp=4187    //Specific heat in [J/kg.K]\n",
"mu=485*10^-6    //Viscosity at 331 K[Pa.s]\n",
"k=0.657    //[W/(m.K)]\n",
"mu_w=920*10^-6    //Viscosity at 297 K [Pa.s]\n",
"//Solution\n",
"D=16    //Diameter in [mm]\n",
"D=D/1000    //Diameter in [m]\n",
"u=3    //Velocity in [m/s]\n",
"rho=984.1    //[kg/m^3]\n",
"Nre=D*u*rho/mu    //Reynolds number\n",
"Nre=round(Nre)\n",
"Npr=Cp*mu/k    //Prandtl number\n",
"//Dittus-Boelter equation (i)\n",
"Nnu=0.023*(Nre^0.8)*(Npr^0.3)    //nusselt number\n",
"h=k*Nnu/D    //Heat transfer coefficient [W/m^2.K]\n",
"printf('\nANSWER-(i) \nBy Dittus-Boelter equation we get h=%f W/sq m.K\n\n\n',h);\n",
"//sieder-tate equation (ii)\n",
"Nnu=0.023*(Nre^0.8)*(Npr^(1.0/3.0))*((mu/mu_w)^0.14)    //Nusselt number\n",
"h=k*Nnu/D    //Heat transfer coefficient in [W/sq m.K]\n",
"printf('\nAnswer-(ii)\n-By Sieder-Tate equation we get h=%f W/sq m.K\n',h);\n",
"printf('\nNOTE:Calculation mistake in book in part 2 ie sieder tate eqn\n')"
   ]
   }
,
{
		   "cell_type": "markdown",
		   "metadata": {},
		   "source": [
			"## Example 3.1: Boundary_layer_thickness.sce"
		   ]
		  },
  {
"cell_type": "code",
	   "execution_count": null,
	   "metadata": {
	    "collapsed": true
	   },
	   "outputs": [],
"source": [
"clc;\n",
"clear;\n",
"//Example 3.1\n",
"mu=10^-3        //N.s/m^2\n",
"//At distance y from surface\n",
"//ux=a+by+cy^2+dy^3\n",
"//At y=0,ux=0 therefore a=0\n",
"//i.e tao=0\n",
"//At edge of boundary layer,ie y=del\n",
"//ux=u_inf\n",
"//At y=o,c=0\n",
"//At y=del,ux=b*del+d*del^3\n",
"\n",
"//Therefore, b=-3*d*del^3\n",
"//d=-u_inf/(2*del^2)\n",
"//b=3*u_inf/(2*del)\n",
"\n",
"//For velocity profile,we have:\n",
"//del/x=4.64*(Nre_x)^(-1/2)\n",
"\n",
"//Evaluate N re_x\n",
"\n",
"x=75;        //[mm]\n",
"x=x/1000;        //[m]\n",
"u_inf=3;            //[m/s]\n",
"rho=1000            //[kg/m^3] for air\n",
"Nre_x=u_inf*rho*x/mu        //Reynold number\n",
"//Substituting the value,we get\n",
"del=x*4.64*(Nre_x^(-1/2))       //[m]\n",
"printf('\nBoundary layer thickness is del=%f m or %f mm',del,del*1000);\n",
"printf('\nWrong units in answer of book,m and mm are wrongly interchanged');"
   ]
   }
,
{
		   "cell_type": "markdown",
		   "metadata": {},
		   "source": [
			"## Example 3.20: Overall_heat_transfer_coefficient.sce"
		   ]
		  },
  {
"cell_type": "code",
	   "execution_count": null,
	   "metadata": {
	    "collapsed": true
	   },
	   "outputs": [],
"source": [
"clc;\n",
"clear;\n",
"//Example 3.20\n",
"m_dot=2250    //Mass flow arte in [kg/h]\n",
"Cp=3.35    //Specific heat in [kJ/(kg.K)]\n",
"dT=316-288.5    //Temperature drop for oil    [K]\n",
"Q=Cp*m_dot*dT    //Rate of heat transfer in [kJ/h]\n",
"Q=round(Q*1000/3600)    //[J/s] or[W]\n",
"Di=0.04    //Inside diameter [m]\n",
"Do=0.048    //Outside diamter in [m]\n",
"hi=4070    //for steam [W/sq m.K]\n",
"ho=18.26    //For oil [W/sq m.K]\n",
"Rdo=0.123    //[sq m.K/W]\n",
"Rdi=0.215    //[sq m.K/W]\n",
"Uo=1/(1/ho+Do/(hi*Di)+Rdo+Rdi*(Do/Di))    //[W/m^2.K]\n",
"Uo=2.3\n",
"dT1=373-288.5    //[K]\n",
"dT2=373-316    //[K]\n",
"dTm=(dT1-dT2)/log(dT1/dT2)    //[K]\n",
"Ao=Q/(Uo*dTm)    //Heat transfer area in [m^2]\n",
"printf('Heatr transfer area is:%f m^2',Ao);"
   ]
   }
,
{
		   "cell_type": "markdown",
		   "metadata": {},
		   "source": [
			"## Example 3.21: Number_of_tubes_in_exchanger.sce"
		   ]
		  },
  {
"cell_type": "code",
	   "execution_count": null,
	   "metadata": {
	    "collapsed": true
	   },
	   "outputs": [],
"source": [
"clc;\n",
"clear;\n",
"//Example 3.21\n",
"k_tube=111.65    //[W/m.K]\n",
"W=4500    //[kg/h]\n",
"rho=995.7    //[kg/sq m]\n",
"Cp=4.174    //[kJ/(kg.K)]\n",
"k=0.617    //[W/(m.K)]\n",
"v=0.659*10^-6    //Kinematic viscosity [sq m/s]\n",
"m_dot=1720    //kg/h\n",
"T1=293    //Initial temperature in [K]\n",
"T2=318    //Final temperature in [K]\n",
"dT=T2-T1    //[K]\n",
"Q=m_dot*Cp*dT    //Heat transfer rate in [kJ/h]\n",
"Q=Q*1000/3600    //[J/s] or [W]\n",
"Di=0.0225    //[m]\n",
"u=1.2    //[m/s]\n",
"//Nre=Di*u*rho/mu or\n",
"Nre=Di*u/v    //Reynolds number\n",
"//As Nre is greater than 10000,Dittus Boelter equation is applicable\n",
"Cp=Cp*10^3    //J/(kg.K)\n",
"mu=v*rho    //[kg/(m.s)]\n",
"Npr=Cp*mu/k    //Prandtl number\n",
"//Dittus-Boelter equation for heating is \n",
"Nnu=0.023*(Nre^0.8)*(Npr^0.4)\n",
"hi=k*Nnu/Di    //Heat transfer coefficient  [W/(sq m.K)]\n",
"Do=0.025    //[m]\n",
"Dw=(Do-Di)/log(Do/Di)    //Log mean diameter in [m]\n",
"ho=4650    //[W/sq m.K]\n",
"k=111.65    //[W/m.K]\n",
"xw=(Do-Di)/2    //[m]\n",
"Uo=1/(1/ho+Do/(hi*Di)+xw*Do/(k*Dw))    //Overall heat transfer coefficient in W/(m^2.K)\n",
"T_steam=373    //Temperature of condensing steam in [K]\n",
"dT1=T_steam-T1+10    //[K]\n",
"dT2=T_steam-T2+10    //[K]\n",
"dTm=(dT1-dT2)/log(dT1/dT2)    //[K]\n",
"Ao=Q/(Uo*dTm)//Area in [m^2]\n",
"L=4    //length of tube [m]\n",
"n=Ao/(%pi*Do*L)    //number of tubes\n",
"printf('No. of tubes required=%d\n',round(n));\n",
"printf('\n NOTE: there is an error in book in calculation of dT1 and dT2,\n 373-293 is written as 90,instead of 80...similarly in dT2,\nSo,in compliance with the book,10 is added to both of them') "
   ]
   }
,
{
		   "cell_type": "markdown",
		   "metadata": {},
		   "source": [
			"## Example 3.22: Convective_film_coefficient.sce"
		   ]
		  },
  {
"cell_type": "code",
	   "execution_count": null,
	   "metadata": {
	    "collapsed": true
	   },
	   "outputs": [],
"source": [
"clc;\n",
"clear;\n",
"//Example 3.22\n",
"m_dot=25000    //massflow rate of water [kg/h]\n",
"rho=992.2    //[kg/m^3]\n",
"k=0.634    //[W/m.K]\n",
"vfr=m_dot/rho    //[m^3/h]\n",
"Npr=4.31    //Prandtl numberl\n",
"Di=50    //[mm]\n",
"Di=0.05    //[m]\n",
"dT=10    //[K] as the wall is at a temperature of 10 K above the bulk temperature\n",
"u=(vfr/3600)/(%pi*(Di/2)^2)    //Velocity of water in [m/s]\n",
"u=3.56          //Approximation\n",
"//Nre=Di*u*rho/mu=Di*u/v    as v=mu/rho\n",
"v=0.659*10^-6;    //[m^2/s]\n",
"Nre=Di*u/v    //Reynolds number\n",
"//As it is less than 10000,the flow is in the turbulent region for heat transfer and Dittus Boelter eqn is used\n",
"Nnu=0.023*(Nre^0.8)*(Npr^0.4);    //Nusselt number\n",
"hi=Nnu*k/Di    //Heat transfer coefficiet in [W/sq m.K]\n",
"q_by_l=hi*%pi*Di*dT   //Heat transfer per unit length[kW/m]\n",
"printf('Average value of convective film coefficient is hi= %d W/sq m.K \nHeat transferred per unit length is Q/L=%f kW/m',round(hi),q_by_l/1000);\n",
" "
   ]
   }
,
{
		   "cell_type": "markdown",
		   "metadata": {},
		   "source": [
			"## Example 3.23: Length_of_tube.sce"
		   ]
		  },
  {
"cell_type": "code",
	   "execution_count": null,
	   "metadata": {
	    "collapsed": true
	   },
	   "outputs": [],
"source": [
"clc;\n",
"clear;\n",
"//Example 3.23\n",
"vfr=1200  ;  //Water flow rate in [l/h]\n",
"rho=0.98 ;   //Density of water in g/[cubic cm]\n",
"m_dot=vfr*rho    //Mass flow rate of water [kg/h]\n",
"m_dot2=m_dot/3600    //[kg/s]\n",
"Cp=4.187*10^3 ;   //[J/kg.K]\n",
"Di=0.025  ;  //Diameter in [m]\n",
"mu=0.0006 ;   //[kg/(m.s)]\n",
"Ai=%pi*((Di/2)^2)    //Area of cross-section in [m^2]\n",
"Nre=(Di/mu)*(m_dot2/Ai)    //Reynolds number\n",
"k=0.63 ; //for metal wall in [W/(m.K)]\n",
"Npr=Cp*mu/k;    //Prandtl number\n",
"//Since Nre>10000\n",
"//therefore ,Dittus boelter eqn for heating is \n",
"Nnu=0.023*(Nre^(0.8))*(Npr^(0.4))\n",
"ho=5800   ; //Film heat coefficientW/(m^2.K)\n",
"hi=Nnu*k/Di    //Heat transfer coeffcient in [W/(sq m.K)]\n",
"Do=0.028 ;   //[m]\n",
"Di=0.025 ;   //[m]\n",
"xw=(Do-Di)/2;    //[m]\n",
"Dw=(Do-Di)/log(Do/Di);    //[m]\n",
"k=50  ;  //for metal wall in [W/(m.K)]\n",
"Uo=1/(1/ho+Do/(hi*Di)+xw*Do/(k*Dw));    //in [W/sq m.K]\n",
"dT=343-303 ; //[K]\n",
"dT1=393-303 ;   //[K]\n",
"dT2=393-343 ;   //[K]\n",
"dTm=(dT1-dT2)/log(dT1/dT2);    //[K]\n",
"Cp=Cp/1000;  //[in [kJ/kg.K]]\n",
"Q=m_dot*Cp*dT;    //Rate of heat transfer in [kJ/h]\n",
"Q=Q*1000/3600;    //[J/s] or [W]\n",
"Ao=Q/(Uo*dTm);    //Heat transfer area in [sq m]\n",
"//Also,..Ao=%pi*Do*L    ..implies that\n",
"L=Ao/(%pi*Do)    //[m]\n",
"printf('Length of tube required is %f m',round(L));"
   ]
   }
,
{
		   "cell_type": "markdown",
		   "metadata": {},
		   "source": [
			"## Example 3.24: Cooling_coil.sce"
		   ]
		  },
  {
"cell_type": "code",
	   "execution_count": null,
	   "metadata": {
	    "collapsed": true
	   },
	   "outputs": [],
"source": [
"clc;\n",
"clear;\n",
"//Example 3.24\n",
"//1.For initial conditions:\n",
"T=360;           //[K]\n",
"T1=280;         //[K]\n",
"T2=320;         //[K]\n",
"dT1=T-T1;       //[K]\n",
"dT2=T-T2;       //[K]\n",
"//Q1=m1_dot*Cp1*(T2-T1)\n",
"Cp1=4.187           //Heat capacity \n",
"dTlm=(dT1-dT2)/log(dT1/dT2) //[K]\n",
"m1_by_UA=dTlm/(Cp1*(T2-T1)) \n",
"//For final conditions :\n",
"//m2_dot=m1_dot\n",
"//U2=U1\n",
"//A2=5*A1\n",
"deff('x=f(t)','x=m1_by_UA*Cp1*(t-T1)-5*((dT1-(T-t))/log(dT1/(T-t)))')\n",
"T=fsolve(350.5,f)\n",
"printf('\nOutlet temperature of water is %f K\n',T);"
   ]
   }
,
{
		   "cell_type": "markdown",
		   "metadata": {},
		   "source": [
			"## Example 3.25: Outlet_temperature_of_water.sce"
		   ]
		  },
  {
"cell_type": "code",
	   "execution_count": null,
	   "metadata": {
	    "collapsed": true
	   },
	   "outputs": [],
"source": [
"clc;\n",
"clear;\n",
"//Example 3.25\n",
"mo_dot=60   //Mass flow rate of oilin [g/s]\n",
"mo_dot=6*10^-2  //[kg/s]\n",
"Cpo=2.0     //Specific heat of oil in [kJ/(kg.K)]\n",
"T1=420  //[K]\n",
"T2=320  //[K]\n",
"Q=mo_dot*Cpo*(T1-T2)    //Rate of heat flow in [kJ/s]\n",
"mw_dot=mo_dot   //Mass flow rate of water   //kg/s\n",
"t1=290  //[K]\n",
"Cpw=4.18    //[kJ/(kg.K)]\n",
"//For finding outlet temperature of water\n",
"t2=t1+Q/(mw_dot*Cpw)    //[K]\n",
"dT1=T1-t2   //[K]\n",
"dT2=T2-t1   //[K]\n",
"dTm=(dT1-dT2)/log(dT1/dT2)  //[K]\n",
"ho=1.6  //Oil side heat transfer coefficient in [kW/(sq m.K)]\n",
"hi=3.6  //Water side heat transfer coeff in [kW/(sq m.K)]\n",
"//Overall heat transfer coefficient is:\n",
"U=1/(1/ho+1/hi) //[kW/(m^2.K)]\n",
"\n",
"A=Q/(U*dTm) //[sq m]\n",
"Do=25   //[mm]\n",
"Do=Do/1000  //[m]\n",
"L=A/(%pi*Do)    //Length of tube in [m]\n",
"printf('\nOutlet temperature of water is %f K \n',round(t2));\n",
"printf('Area of heat transfer required is %f sq m\n',A);\n",
"printf('Length of tube required is %f m',L)\n",
"\n",
""
   ]
   }
,
{
		   "cell_type": "markdown",
		   "metadata": {},
		   "source": [
			"## Example 3.26: Inside_heat_transfer_coefficient.sce"
		   ]
		  },
  {
"cell_type": "code",
	   "execution_count": null,
	   "metadata": {
	    "collapsed": true
	   },
	   "outputs": [],
"source": [
"\n",
"clc;\n",
"clear;\n",
"//Example 3.26\n",
"k=0.14  // for oil[W/m.K]\n",
"Cp=2.1 // for oil [kJ/kg.K]\n",
"Cp=Cp*10^3  //J/kg.K\n",
"mu=154  //[mN.s/sq m]\n",
"mu_w=87 //(mn.s/sq m)\n",
"L=1.5   //[m]\n",
"m_dot=0.5   //Mass flow rate of oil[kg/s]\n",
"Di=0.019 //Diameter of tube [m]\n",
"mean_T=319  //Mean temperature of oil [K]\n",
"mu=mu*10^-3 //[N.s/sq m] or [kg/(m.s)]\n",
"A=%pi*(Di/2)^2   //[sq m]\n",
"G=m_dot/A   //Mass velocity in [kg/sq m.s]\n",
"Nre=Di*G/mu  //Reynolds number\n",
"//As Nre<2100,the flow is laminar\n",
"mu_w=mu_w*10^-3 //[N.s/sq m] or kg/(m.s)\n",
"//The sieder tate equation is \n",
"hi=(k*(2.0*((m_dot*Cp)/(k*L))^(1.0/3.0)*(mu/mu_w)^(0.14)))/Di   //Heat transfer coeff in [W/sq m.K]\n",
"printf('\n The inside heat transfer coefficient is %f W/(m^2.K) ',hi);\n",
"\n",
"printf('\nNOTE:Calculation mistake in last line.ie in the calculation of hi in book,please perform the calculation manually to check the answer\n')"
   ]
   }
,
{
		   "cell_type": "markdown",
		   "metadata": {},
		   "source": [
			"## Example 3.27: Film_heat_transfer_coefficient.sce"
		   ]
		  },
  {
"cell_type": "code",
	   "execution_count": null,
	   "metadata": {
	    "collapsed": true
	   },
	   "outputs": [],
"source": [
"clc;\n",
"clear;\n",
"//Example 3.27\n",
"\n",
"m_dot=0.217 //Water flow rate in [kg/s]\n",
"Do=19   //Outside diameter in [mm]\n",
"rho=1000    //Density\n",
"t=1.6   //Wall thickness in [mm]\n",
"Di=Do-2*t   //i.d of tube in [mm]\n",
"Di=Di/1000  //[m]\n",
"Do=Do/1000  //[m]\n",
"Ai=%pi*(Di/2)^2 //Cross-sectional area in sq m\n",
"u=m_dot/(rho*Ai)  //Water velocity through tube  [m/s]\n",
"u=1.12  //approx in book\n",
"Di=0.0157   //apprx in book\n",
"T1=301  //Inlet temperature of water in [K]\n",
"T2=315  //Outlet temperature of water in [K]\n",
"T=(T1+T2)/2 //[K]\n",
"hi=(1063*(1+0.00293*T)*(u^0.8))/(Di^0.20) //Inside heat transfer coefficient W/(sq m.K)\n",
"hi=5084     //Approximation\n",
"printf('%f',hi);\n",
"hio=hi*(Di/Do)  //Inside heat transfer coeff based on outside diameter  in W/(sq m.K)\n",
"printf('%f',hio);\n",
"printf('Based on outside temperature,Inside heat transfer coefficient is  %d W/(m^2.K) or %f kW/(m^2.K)',round(hio),round(hio)/1000);\n",
""
   ]
   }
,
{
		   "cell_type": "markdown",
		   "metadata": {},
		   "source": [
			"## Example 3.28: Area_of_exchanger.sce"
		   ]
		  },
  {
"cell_type": "code",
	   "execution_count": null,
	   "metadata": {
	    "collapsed": true
	   },
	   "outputs": [],
"source": [
"clc;\n",
"clear;\n",
"//Example 3.28\n",
"mair_dot=0.90   //[kg/s]\n",
"T1=283  //[K]\n",
"T2=366  //[K]\n",
"dT=(T1+T2)/2    //[K]\n",
"Di=12   //[mm]\n",
"Di=Di/1000  //[m]\n",
"G=19.9  //[kg/(sq m.s)]\n",
"mu=0.0198   //[mN.s/(sq m)]\n",
"mu=mu*10^-3 //[N.s/sq m] or [kg/(m.s)]\n",
"Nre=Di*G/mu //Reynolds number\n",
"//It is greater than 10^4\n",
"k=0.029 //W/(m.K)\n",
"Cp=1    //[kJ/kg.K]\n",
"Cp1=Cp*10^3  //[J/kg.K]\n",
"Npr=Cp1*mu/k //Parndtl number\n",
"//Dittus-Boelter equation is\n",
"hi=0.023*(Nre^0.8)*(Npr^0.4)*k/Di   //[W/sq m.K]\n",
"ho=232  //W/sq m.K\n",
"U=1/(1/hi+1/ho) //Overall heat transfer coefficient  [W/m^2.K]\n",
"Q=mair_dot*Cp*(T2-T1)   //kJ/s\n",
"Q=Q*10^3    //[J/s] or [W]\n",
"T=700   //[K]\n",
"dT1=T-T2    //[K]\n",
"dT2=T2-T1   //[K]\n",
"dTm=(dT1-dT2)/log(dT1/dT2)  //[K]\n",
"//Q=U*A*dTm\n",
"A=Q/(U*dTm) //Area in sq m\n",
"printf('Heat transfer area of equipment is %f sq m',A);"
   ]
   }
,
{
		   "cell_type": "markdown",
		   "metadata": {},
		   "source": [
			"## Example 3.29: Natural_and_forced_convection.sce"
		   ]
		  },
  {
"cell_type": "code",
	   "execution_count": null,
	   "metadata": {
	    "collapsed": true
	   },
	   "outputs": [],
"source": [
"clc;\n",
"clear;\n",
"//Example 3.29\n",
"v=18.41*10^-6   //[sq m./s]\n",
"k=28.15*10^-3   //[W/m.K]\n",
"Npr=0.7 //Prandtl number\n",
"Beta=3.077*10^-3    //K^-1\n",
"g=9.81  //m/s^2\n",
"Tw=350  //[K]\n",
"T_inf=300   //[K]\n",
"dT=Tw-T_inf //[K]\n",
"L=0.3   //[m]\n",
"//1.Free Convection\n",
"Ngr=(g*Beta*dT*L^3)/(v^2) //Grashof number\n",
"Npr=0.7 //Prandtl number\n",
"\n",
"Nnu=0.59*(Ngr*Npr)^(1.0/4.0)    //Nusselt number\n",
"h=Nnu*k/L   //Average heat transfer coefficient [W/sq m K]\n",
"printf('\n In free convection,heat transfer coeff,h=%f W/(sq m.K)\n',h)\n",
"//2.Forced Convestion\n",
"u_inf=4 //[m/s]\n",
"Nre_l=u_inf*L/v\n",
"Nnu=0.664*(Nre_l^(1/2))*(Npr^(1.0/3.0))     //Nusselt number\n",
"h=Nnu*k/L   //[W/sq m.K]\n",
"printf('\n In forced convection,heat transfer coeff,h=%f W/(sq m.K)\n',h)\n",
"printf('\n From above it is clear that heat transfer coefficient in forced convection is much larger than that in free convection \n  ');\n",
""
   ]
   }
,
{
		   "cell_type": "markdown",
		   "metadata": {},
		   "source": [
			"## Example 3.2: Boundary_layer_thickness_of_plate.sce"
		   ]
		  },
  {
"cell_type": "code",
	   "execution_count": null,
	   "metadata": {
	    "collapsed": true
	   },
	   "outputs": [],
"source": [
"clc;\n",
"clear;\n",
"//Example3.2\n",
"//Given\n",
"mu=15*10^-6    //sq m /s\n",
"v=2    //m/s\n",
"L=2    //[m] length of plate\n",
"Nre_x=3*10^5\n",
"xc=Nre_x*mu/v    //critical length at whihc the transition takes place\n",
"//Since xc is less than 2 m.Therefore the flow is laminar\n",
"//at any distance x,.it is calculated from\n",
"//del/x=4.64/(sqrt(NRe,x))\n",
"//At x=L=2 m\n",
"Nre_l=v*L/mu\n",
"del_l=4.64*L/sqrt(Nre_l)\n",
"del_l=del_l*1000    //[mm]\n",
"printf('Boundary layerthickness at the trailing edge is %f mm',del_l);"
   ]
   }
,
{
		   "cell_type": "markdown",
		   "metadata": {},
		   "source": [
			"## Example 3.30: Natural_convection.sce"
		   ]
		  },
  {
"cell_type": "code",
	   "execution_count": null,
	   "metadata": {
	    "collapsed": true
	   },
	   "outputs": [],
"source": [
"\n",
"clc;\n",
"clear;\n",
"//Example 3.30\n",
"k=0.02685   //W/(m.K)\n",
"v=16.5*10^-6  //kg/(m.s)\n",
"Npr=0.7 //Prandtl number\n",
"Beta=3.25*10^-3 //K^-1\n",
"g=9.81  //m/(s^2)\n",
"Tw=333; //[k]\n",
"T_inf=283   //[K]\n",
"dT=Tw-T_inf  //[K]\n",
"L=4 //Length/height  of plate [m]\n",
"Ngr=(g*Beta*dT*(L^3))/(v^2)   //Grashoff number\n",
"//Let const=Ngr*Npr\n",
"const=Ngr*Npr\n",
"//Sice it is >10^9\n",
"Nnu=0.10*(const^(1.0/3.0))   //Nusselt number\n",
"h=Nnu*k/L   //W/(sq m.K)\n",
"h=4.3       //Approx in book\n",
"W=7 //width in [m]\n",
"A=L*W   //Area of heat transfer in [sq m]\n",
"Q=h*A*dT    //[W]\n",
"printf('\nHeat transferred is %d W\n',Q)"
   ]
   }
,
{
		   "cell_type": "markdown",
		   "metadata": {},
		   "source": [
			"## Example 3.31: Free_convection_in_vertical_pipe.sce"
		   ]
		  },
  {
"cell_type": "code",
	   "execution_count": null,
	   "metadata": {
	    "collapsed": true
	   },
	   "outputs": [],
"source": [
"clc;\n",
"clear;\n",
"//Example 3.31\n",
"v=18.97*10^-6   //m^2/s\n",
"k=28.96*10^-3   //W/(m.K)\n",
"Npr=0.696\n",
"D=100   //Outer diameter [mm]\n",
"D=D/1000    //[m]\n",
"Tf=333  //Film temperature in [K]\n",
"Tw=373  //[K]\n",
"T_inf=293   //[K]\n",
"dT=Tw-T_inf //[K]\n",
"Beta=1/Tf   //[K^-1]\n",
"g=9.81  //[m/s^2]\n",
"L=3 //Length of pipe [m]\n",
"Ngr=(g*Beta*dT*(L^3))/(v^2) //Grashof number\n",
"Nra=Ngr*Npr\n",
"Nnu=0.10*(Ngr*Npr)^(1.0/3.0)    //nusselt number for vertical cylinder\n",
"h=Nnu*k/L   //W/(sq m.K)\n",
"Q_by_l=h*%pi*D*dT   //Heat loss per metre length [W/m]\n",
"printf('\n Hence,Heat loss per metre length is %f W/m \n',Q_by_l);"
   ]
   }
,
{
		   "cell_type": "markdown",
		   "metadata": {},
		   "source": [
			"## Example 3.32: Heat_loss_per_unit_length.sce"
		   ]
		  },
  {
"cell_type": "code",
	   "execution_count": null,
	   "metadata": {
	    "collapsed": true
	   },
	   "outputs": [],
"source": [
"clc;\n",
"clear;\n",
"//Example 3.32\n",
"k=0.630 //W/(m.K\n",
"Beta=3.04*10^-4 //K^-1\n",
"rho=1000    //kg/m^3\n",
"mu=8.0*10^-4    //[kg/(m.s)]\n",
"Cp=4.187    //kJ/(kg.K)\n",
"g=9.81  //[m/(s^2)]\n",
"Tw=313  //[K]\n",
"T_inf=298   //[K]\n",
"dT=Tw-T_inf //[K]\n",
"D=20    //[mm]\n",
"D=D/1000    //[m]\n",
"Ngr=9.81*(rho^2)*Beta*dT*(D^3)/(mu^2)   //Grashoff number\n",
"Cp1=Cp*1000 //[J/kg.K]\n",
"Npr=Cp1*mu/k //Prandtl number\n",
"//Average nusselt number is\n",
"Nnu=0.53*(Ngr*Npr)^(1.0/4.0)\n",
"h=Nnu*k/D  //[W/ sqm.K]\n",
"Q_by_l=h*%pi*D*dT   //Heat loss per unit length [W/m]\n",
"printf('\nHeat loss per unit length of the heater is %f W/m',Q_by_l);\n",
""
   ]
   }
,
{
		   "cell_type": "markdown",
		   "metadata": {},
		   "source": [
			"## Example 3.33: Free_convection_in_pipe.sce"
		   ]
		  },
  {
"cell_type": "code",
	   "execution_count": null,
	   "metadata": {
	    "collapsed": true
	   },
	   "outputs": [],
"source": [
"clc;\n",
"clear;\n",
"//Example 3.33\n",
"k=0.03406   //[W/(m/K)]\n",
"Beta=2.47*10^-3 //K^-1\n",
"Npr=0.687   //Prandtl number\n",
"v=26.54*10^-6   //m^2/s\n",
"g=9.81  //[m/s^2]\n",
"Tw=523  //[K]\n",
"T_inf=288   //[K]\n",
"dT=Tw-T_inf //[K]\n",
"D=0.3048    //[m]\n",
"Ngr=(g*Beta*dT*(D^3))/(v^2)     //Grashof number\n",
"Nra=Ngr*Npr \n",
"//For Nra less than 10^9,we have for horizontal cylinder\n",
"Nnu=0.53*(Nra^(1.0/4.0))    //Nusselt number\n",
"h=Nnu*k/D   //[W/sq m.K]\n",
"Q_by_l=h*%pi*D*dT;  //W/m\n",
"printf('Heat loss of heat transfer per meter lengh is %f W/m',Q_by_l);"
   ]
   }
,
{
		   "cell_type": "markdown",
		   "metadata": {},
		   "source": [
			"## Example 3.34: Free_convection_in_plate.sce"
		   ]
		  },
  {
"cell_type": "code",
	   "execution_count": null,
	   "metadata": {
	    "collapsed": true
	   },
	   "outputs": [],
"source": [
"\n",
"clc;\n",
"clear;\n",
"//Example 3.34\n",
"rho=960.63  //Density in [kg/m^3]\n",
"Cp=4.216*10^3   //Specific heat in [J/(kg.K)]\n",
"D=16    //Diameter in [cm]\n",
"D=D/100 //[m]\n",
"k=0.68  //Thermal conductivity in [W/m.K]\n",
"A=(%pi*(D/2)^2)\n",
"L=A/(%pi*D)   //Length=A/P  in [m]\n",
"Beta=0.75*10^-3  //[K^-1]\n",
"alpha=1.68*10^-7    //[m^2/s]\n",
"g=9.81  //[m/s^2]\n",
"Tw=403  //[K]\n",
"T_inf=343   //[K]\n",
"dT=Tw-T_inf //[K]\n",
"v=0.294*10^-6   //[m^2/s]\n",
"Nra=(g*Beta*(L^3)*dT)/(v*alpha) \n",
"\n",
"//1.For Top surface\n",
"Nnu=0.15*(Nra)^(1.0/3.0)   //Nusselt number\n",
"ht=Nnu*k/L  //Heat transfer coeff for top surface in W/(m^2.K)\n",
"ht=round(ht)\n",
"//2.For bottom surface\n",
"Nnu=0.27*Nra^(1.0/4.0)  //Nusselt number\n",
"hb=Nnu*k/L  //[W/sq m.K]\n",
"hb=round(hb)\n",
"Q=(ht+hb)*A*dT; //[W]\n",
"printf('The rate of heat input is %f W',Q)\n",
""
   ]
   }
,
{
		   "cell_type": "markdown",
		   "metadata": {},
		   "source": [
			"## Example 3.35: Heat_transfer_from_disc.sce"
		   ]
		  },
  {
"cell_type": "code",
	   "execution_count": null,
	   "metadata": {
	    "collapsed": true
	   },
	   "outputs": [],
"source": [
"clc;\n",
"clear;\n",
"//Example 3.35\n",
"v=2*10^-5   //[m^2/s]\n",
"Npr=0.7 //Prandtl number\n",
"k=0.03  //[W/m.K]\n",
"D=0.25   //Diameter in [m]\n",
"L=0.90*D    //Characteristic length,let  [m]\n",
"T1=298  //[K]\n",
"T2=403  //[K]\n",
"dT=T2-T1    //[K]\n",
"Tf=(T1+T2)/2  //[K]\n",
"Beta=1/Tf   //[K^-1]\n",
"A=%pi*(D/2)^2   //Area in[sq m]\n",
"g=9.81  //[m/s^2]\n",
"\n",
"//Case 1: Hot surface facing up\n",
"Ngr=g*Beta*dT*(L^3)/(v^2)   //Grashoff number\n",
"Nnu=0.15*((Ngr*Npr)^(1.0/3.0))    //Nusselt number\n",
"h=Nnu*k/L   //[W/sq m.K]\n",
"Q=h*A*dT    //[W]\n",
"printf('\n Heat transferred when hot surface is facing up is %f W\n',Q);\n",
"\n",
"\n",
"//Case 2:For hot surface facing down\n",
"Nnu=0.27*(Ngr*Npr)^(1.0/4.0);   //Grashof Number\n",
"h=Nnu*k/L   //[W/sqm.K]\n",
"Q=h*A*dT    //[W]\n",
"printf('\n Heat transferred when hot surface is facing down is %f W\n',Q);"
   ]
   }
,
{
		   "cell_type": "markdown",
		   "metadata": {},
		   "source": [
			"## Example 3.36: Rate_of_heat_input_to_plate.sce"
		   ]
		  },
  {
"cell_type": "code",
	   "execution_count": null,
	   "metadata": {
	    "collapsed": true
	   },
	   "outputs": [],
"source": [
"\n",
"\n",
"clc;\n",
"clear;\n",
"//Example 3.36\n",
"rho=960 //[kg/m^3]\n",
"Beta=0.75*10^-3 //[K^-1]\n",
"k=0.68  //[W/m.K]\n",
"alpha=1.68*10^-7    //[m^2/s]\n",
"v=2.94*10^-7    //[m^2/s]\n",
"Cp=4.216    //[kJ/kg.K]\n",
"Tw=403  //[K]\n",
"T_inf=343   //[K]\n",
"dT=Tw-T_inf     //[K]\n",
"g=9.81  //[m/s^2]\n",
"l=0.8   //[m]\n",
"W=0.08  //[m]\n",
"A=l*W   //Area in [m^2]\n",
"P=2*(0.8+0.08)   //Perimeter in [m]\n",
"L=A/P   //Characteristic dimension/length,L in   [m]\n",
"Nra=g*Beta*L^3*dT/(v*alpha) \n",
"\n",
"//(i) for natural convection,heat transfer from top/upper surface heated \n",
"Nnu=0.15*(Nra^(1.0/3.0))    //Nusselt number\n",
"ht=Nnu*k/L  //[W/m^2.K]\n",
"ht=2115.3   //Approximation in book,If done manually then answer diff\n",
"//(ii)For the bottom/lower surface of the heated plate\n",
"Nnu=0.27*(Nra^(1.0/4.0))    //Nusselt number\n",
"hb=Nnu*k/L  //[W/(m^2.K)]\n",
"hb=round(hb)\n",
"//Rate of heat input is equal to rate of heat dissipation from the upper and lower surfaces of the plate\n",
"Q=(ht+hb)*A*(Tw-T_inf)   //[W]\n",
"printf('\n Rate of heat input is equal to heat dissipation =%f W',Q);"
   ]
   }
,
{
		   "cell_type": "markdown",
		   "metadata": {},
		   "source": [
			"## Example 3.37: Two_cases_in_disc.sce"
		   ]
		  },
  {
"cell_type": "code",
	   "execution_count": null,
	   "metadata": {
	    "collapsed": true
	   },
	   "outputs": [],
"source": [
"clc;\n",
"clear;\n",
"//Example 3.37\n",
"k=0.03  //W/(m.K)\n",
"Npr=0.697   //Prandtl number\n",
"v=2.076*10^-6   //m^2/s\n",
"Beta=0.002915   //K^-1\n",
"D=25 ;    //[Diameter in cm]\n",
"D=D/100 //[m]\n",
"Tf=343  //Film temperature in [K]\n",
"A=%pi*(D/2)^2   //Area in [m^2]\n",
"P=%pi*D //Perimeter [m]\n",
"T1=293  //[K]\n",
"T2=393  //[K]\n",
"g=9.81  //[m/s^2]\n",
"\n",
"//Case (i) HOT SURFACE FACING UPWARD\n",
"L=A/P   //Characteristic length in [m]\n",
"Beta=1/Tf;  //[K^-1]\n",
"dT=T2-T1    //[K]\n",
"Ngr=(g*Beta*dT*(L^3))/(v^2) //Grashoff number\n",
"Nra=Ngr*Npr \n",
"Nnu=0.15*(Nra^(1.0/3.0))    //Nusselt number\n",
"h=Nnu*k/L   //[W/m^2.K]\n",
"Q=h*A*dT    //[W]\n",
"printf('\nHeat transferred when disc is horizontal with hot surface facing upward is %f W\n',Q);\n",
"\n",
"//Case-(ii) HOT FACE FACING DOWNWARD\n",
"Nnu=0.27*(Nra^(1/4))    //Nusselt number\n",
"h=Nnu*k/L   //W/(m^2.K)\n",
"Q=h*A*dT    //[W]\n",
"printf('\nHeat transferred when disc is horizontal with hot surface facing downward is %f W\n',Q);\n",
"\n",
"\n",
"//Case-(iii)-For disc vertical \n",
"L=0.25  //Characteristic length[m]  \n",
"D=L //dia[m]\n",
"A=%pi*((D/2)^2) //[sq m]\n",
"Ngr=(g*Beta*dT*(L^3))/(v^2)     //Grashoff number\n",
"Npr=0.697\n",
"Nra=Ngr*Npr \n",
"Nnu=0.10*(Nra^(1/3))    //Nusselt number\n",
"h=Nnu*k/D   //[W/(m^2.K)]\n",
"Q=h*A*dT    //[W]\n",
"printf('For vertical disc,heat transferred is %f W',Q);"
   ]
   }
,
{
		   "cell_type": "markdown",
		   "metadata": {},
		   "source": [
			"## Example 3.38: Total_heat_loss_in_a_pipe.sce"
		   ]
		  },
  {
"cell_type": "code",
	   "execution_count": null,
	   "metadata": {
	    "collapsed": true
	   },
	   "outputs": [],
"source": [
"clc;\n",
"clear;\n",
"//Example 3.38\n",
"v=23.13*10^-6   ; //[m^2/s]\n",
"k=0.0321   ; //[W/m.K]\n",
"Beta=2.68*10^-3; //[K^-1]\n",
"Tw=443  ;//[K]\n",
"T_inf=303  ; //[K]\n",
"dT=Tw-T_inf;    //[K]\n",
"g=9.81 ; //[m/s^2]\n",
"Npr=0.688;   //Prandtl number\n",
"D=100 ;  //Diameter [mm]\n",
"D=D/1000    //Diameter [m]\n",
"Nra=(g*Beta*dT*(D^3)*Npr)/(v^2)\n",
"Nnu=0.53*(Nra^(1.0/4.0))    //Nusselt number\n",
"h=Nnu*k/D   //[W/(m^2.K)]\n",
"h=7.93      //Approximation\n",
"e=0.90; //Emissivity\n",
"sigma=5.67*10^-8    ;\n",
"//Q=Q_conv+Q_rad  //Total heat loss\n",
"//for total heat  loss per meter length\n",
"Q_by_l=h*%pi*D*dT+sigma*e*%pi*D*(Tw^4-T_inf^4)  //[W/m]\n",
"printf('Total heat loss per metre length of pipe is %f W/m',Q_by_l)\n",
""
   ]
   }
,
{
		   "cell_type": "markdown",
		   "metadata": {},
		   "source": [
			"## Example 3.39: Heat_loss_by_free_convection.sce"
		   ]
		  },
  {
"cell_type": "code",
	   "execution_count": null,
	   "metadata": {
	    "collapsed": true
	   },
	   "outputs": [],
"source": [
"clc;\n",
"clear;\n",
"//Example 3.39\n",
"k=0.035; //[W/(m.K)]\n",
"Npr=0.684   ;//Prandtl number\n",
"Beta=2.42*10^-3; //[K^-1]\n",
"v=27.8*10^-6;    //[m^2/s]\n",
"Tw=533;  //[K]\n",
"T_inf=363  ;    //[K]\n",
"dT=Tw-T_inf //[K]\n",
"D=0.01  ;//[m]\n",
"g=9.81; //[m/s^2]\n",
"Nra=(g*Beta*dT*(D^3))/(v^2)\n",
"//For this <10^5,we have for sphere\n",
"A=4*%pi*(D/2)^2 //Area of sphere in [m^2]\n",
"Nnu=(2+0.43*Nra^(1.0/4.0))//Nusslet number\n",
"h=Nnu*k/D   //W/(m^2.K)\n",
"Q=h*A*dT    //[W]\n",
"printf('\nRate of heat loss is %f W',Q)"
   ]
   }
,
{
		   "cell_type": "markdown",
		   "metadata": {},
		   "source": [
			"## Example 3.3: Thickness_of_hydrodynamic_boundary_layer.sce"
		   ]
		  },
  {
"cell_type": "code",
	   "execution_count": null,
	   "metadata": {
	    "collapsed": true
	   },
	   "outputs": [],
"source": [
"clc;\n",
"clear;\n",
"//Example 3.3\n",
"//Given\n",
"mu=15*10^-6    //Kinematic viscosity in [sq m /s]\n",
"x=0.4    //[m]\n",
"u_inf=3    //[m/s]\n",
"//At x=0.4 m,\n",
"Nre_x=u_inf*x/mu    ;\n",
"printf('Since Nre,x (%f)is Less than 3*10^5,..the boundary layer is laminar',Nre_x);\n",
"del=4.64*x/sqrt(Nre_x)    //[m]\n",
"del=del*1000    //[mm]\n",
"printf('\nThickness of boundary layer at x=%f m =%f mm\n',x,del);\n",
"Cf_x=0.664/sqrt(Nre_x);\n",
"printf('Local skin friction coefficient is :%f',Cf_x);"
   ]
   }
,
{
		   "cell_type": "markdown",
		   "metadata": {},
		   "source": [
			"## Example 3.40: Heat_loss_from_cube.sce"
		   ]
		  },
  {
"cell_type": "code",
	   "execution_count": null,
	   "metadata": {
	    "collapsed": true
	   },
	   "outputs": [],
"source": [
"\n",
"clc;\n",
"clear;\n",
"//Exampe 3.40\n",
"v=17.95*10^-6   //[m^2/s]\n",
"dT=353-293  //[K]\n",
"k=0.0283    //[W/m.K]\n",
"g=9.81  //[m/s^2]\n",
"Npr=0.698   //Prandtl number\n",
"Cp=1005 //J/(kg.K)\n",
"Tf=323  //Film temperature in [K]\n",
"Beta=1/Tf   //[K^-1]\n",
"l=1 //[m]\n",
"Nra=(g*Beta*dT*(l^3)*Npr)/(v^2)\n",
"\n",
"//In textbook result of above statement is wrongly calculated,So\n",
"Nra=3.95*10^8\n",
"//For Nra <10^9,for a vertical plate,the average nusselt number is\n",
"Nnu=0.59*Nra^(1.0/4.0)  //Nusselt number\n",
"h=Nnu*k/l   //[W/m^2.K]\n",
"h=2.35      //Approx in book\n",
"A=l^2   //Area [m^2]\n",
"//Heat loss form 4 vertical faces of 1m*1m is \n",
"Q1=4*(h*A*dT)   //[W]\n",
"//For top surface \n",
"P=4*l   //Perimeter in [m]\n",
"L=A/P   //[m]\n",
"Nra=(Npr*g*Beta*dT*(L^3))/(v^2)\n",
"Nnu=0.15*Nra^(1.0/3.0)  //Nusselt number\n",
"h=Nnu*k/L   //[W/m^2.K]\n",
"h=6.7           //Approx\n",
"Q2=h*A*dT   //[W]\n",
"Q_total=Q1+Q2   //Total heat loss[W]\n",
"printf('\n Therefore total heat loss is %d W',Q_total);"
   ]
   }
,
{
		   "cell_type": "markdown",
		   "metadata": {},
		   "source": [
			"## Example 3.41: Plate_exposed_to_heat.sce"
		   ]
		  },
  {
"cell_type": "code",
	   "execution_count": null,
	   "metadata": {
	    "collapsed": true
	   },
	   "outputs": [],
"source": [
"clc;\n",
"clear;\n",
"//Example 3.41\n",
"rho=0.910;           //Density in [kg/m^3]\n",
"Cp=1.009*1000;            //[J/kg.K]\n",
"k=0.0331;            //[W/m.K]\n",
"mu=22.65*10^-6;      //[N.s/m^2]\n",
"//Let a=smaller side\n",
"//b=bigger side\n",
"//Qa=ha*A*dT\n",
"//Qb=hb*A*dT\n",
"//Qa=1.14*Qb\n",
"//Given a*b=15*10^-4\n",
"//On solving we get:\n",
"a=0.03;          //[m]\n",
"b=0.05;          //[m]\n",
"A=a*b           //Area in [sq m]\n",
"Tf=388;          //[K]\n",
"Beta=1/Tf       //[K^-1]\n",
"T1=303;          //[K]\n",
"T2=473;         //[K]\n",
"dT=T2-T1        //[K]\n",
"v=mu/rho        \n",
"g=9.81      //m/s^2[acceleration due to gravity ]\n",
"hb=0.59*(((g*Beta*dT*(b^3))/(v^2))*Cp*mu/k)^(1/4)*(k/b)       //[W/sq m.K]\n",
"Qb=hb*A*(dT)            //[W]\n",
"\n",
"Qa=1.14*Qb              //[W]\n",
"printf('\nDimensions of the plate are %fx%f m\n',a,b);\n",
"printf('\nHeat transfer when the bigger side held vertical is %f W\n',Qb);\n",
"printf('\nHeat transfer when the small side held vertical is %f W\n',Qa);"
   ]
   }
,
{
		   "cell_type": "markdown",
		   "metadata": {},
		   "source": [
			"## Example 3.42: Nucleate_poolboiling.sce"
		   ]
		  },
  {
"cell_type": "code",
	   "execution_count": null,
	   "metadata": {
	    "collapsed": true
	   },
	   "outputs": [],
"source": [
"clc;\n",
"clear;\n",
"//Example 3.42\n",
"Ts=373  //[K]\n",
"rho_l=957.9    //rho*l[kg/m^3]\n",
"Cpl=4217    //[J/kg.K]\n",
"mu_l=27.9*10^-5 //[kg/(m.s)]\n",
"rho_v=0.5955   //[kg/m^3]\n",
"Csf=0.013\n",
"sigma=5.89*10^-2    //[N/m]\n",
"Nprl=1.76\n",
"lambda=2257 //[kJ/kg]\n",
"lambda=lambda*1000  //in [J/kg]\n",
"n=1 //for water\n",
"m_dot=30    //Mass flow rate [kg/h]\n",
"m_dot=m_dot/3600    //[kg/s]\n",
"D=30    //Diameter of pan [cm]\n",
"D=D/100 //[m]\n",
"g=9.81  //[m/s^2]\n",
"A=%pi*(D/2)^2   //Area in [sq m]\n",
"Q_by_A=m_dot*lambda/A   //[W/sq m]\n",
"//For nucleate boiling point we have:\n",
"dT=(lambda/Cpl)*Csf*(((Q_by_A)/(mu_l*lambda))*sqrt(sigma/(g*(rho_l-rho_v))))^(1.0/3.0)*(Nprl^n) //[K]\n",
"Tw=Ts+dT    //[K]\n",
"printf('\n Temperature of the bottom surface of the pan is %f W/(sq m)',Tw);"
   ]
   }
,
{
		   "cell_type": "markdown",
		   "metadata": {},
		   "source": [
			"## Example 3.43: Peak_Heat_flux.sce"
		   ]
		  },
  {
"cell_type": "code",
	   "execution_count": null,
	   "metadata": {
	    "collapsed": true
	   },
	   "outputs": [],
"source": [
"clc;\n",
"clear;\n",
"//Example 3.4\n",
"lambda=2257 //[kJ/kg]\n",
"lambda=lambda*1000  //in [J/kg]\n",
"rho_l=957.9    //rho*l[kg/m^3]\n",
"rho_v=0.5955   //[kg/m^3]\n",
"sigma=5.89*10^-2    //[N/m]\n",
"g=9.81  //[m/s^2]\n",
"//Peak heat flux is given by\n",
"Q_by_A_max=(%pi/24)*(lambda*rho_v^0.5*(sigma*g*(rho_l-rho_v))^(1/4))    //W/m^2\n",
"Q_by_A_max=Q_by_A_max/(10^6)    //MW/(sq m)\n",
"printf('\n Peak heat flux is %f MW/sq m',Q_by_A_max);"
   ]
   }
,
{
		   "cell_type": "markdown",
		   "metadata": {},
		   "source": [
			"## Example 3.44: Stable_film_pool_boiling.sce"
		   ]
		  },
  {
"cell_type": "code",
	   "execution_count": null,
	   "metadata": {
	    "collapsed": true
	   },
	   "outputs": [],
"source": [
"clc;\n",
"clear;\n",
"//Example 3.44\n",
"rho_l=957.9 //[kg/m^3]\n",
"lambda=2257 //[kJ/kg]\n",
"lambda=lambda*10^3  //[J/kg]\n",
"rho_v=31.54 //[kg/m^3]\n",
"Cpv=4.64    //[kJ/kg.K]\n",
"Cpv=Cpv*10^3    //[J/kg.K]\n",
"kv=58.3*10^-3//[W/(m.K)]\n",
"g=9.81  //[m/s^2]\n",
"mu_v=18.6*10^-6 //[kg/(m.s)]\n",
"e=1.0   //Emissivity\n",
"sigma=5.67*10^-8;\n",
"Ts=373  //[K]\n",
"Tw=628  //[K]\n",
"dT=Tw-Ts    //[K]\n",
"D=1.6*10^-3 //[m]\n",
"T=(Tw+Ts)/2 //[K]\n",
"hc=0.62*((kv^3)*rho_v*(rho_l-rho_v)*g*(lambda+0.40*Cpv*dT)/(D*mu_v*dT))^(1.0/4.0)//Convective heat transfer coeff  [W/sq m.K]\n",
"hr=e*sigma*(Tw^4-Ts^4)/(Tw-Ts)  //Radiation heat transfer coeff in [W/sq m.K]\n",
"h=hc+(3/4)*hr   //Total heat transfer coefficient W/(sq m.K)\n",
"Q_by_l=h*%pi*D*dT   //Heat dissipation rate per unit length in [kW/m]\n",
"printf('\n Stable film boiling point heat transfer coefficient is %f W/(sq m.K)',h);\n",
"Q_by_l=Q_by_l/1000  //[kW/m]\n",
"printf('\n Heat dissipated per unit length of the heater is %f kW/m',Q_by_l);"
   ]
   }
,
{
		   "cell_type": "markdown",
		   "metadata": {},
		   "source": [
			"## Example 3.45: Heat_transfer_in_tube.sce"
		   ]
		  },
  {
"cell_type": "code",
	   "execution_count": null,
	   "metadata": {
	    "collapsed": true
	   },
	   "outputs": [],
"source": [
"clc;\n",
"clear;\n",
"//Exmaple 3.45\n",
"dT=10   //[K]\n",
"P=506.625   //[kPa]\n",
"P=P/10^3    //[Mpa]\n",
"D=25.4  //Diameter [mm]\n",
"D=D/1000    //[m]\n",
"h=2.54*(dT^3)*(%e^(P/1.551))   //[W/sq m.K]\n",
"//Q=h*%pi*D*L*dT\n",
"//Heat transfer rate per meter length of tube is \n",
"Q_by_l=h*%pi*D*dT   //[W/m]\n",
"printf('\n Rate of heat transfer per 1m length of tube is %f W/m',round(Q_by_l));"
   ]
   }
,
{
		   "cell_type": "markdown",
		   "metadata": {},
		   "source": [
			"## Example 3.46: Nucleat_boiling_and_heat_flux.sce"
		   ]
		  },
  {
"cell_type": "code",
	   "execution_count": null,
	   "metadata": {
	    "collapsed": true
	   },
	   "outputs": [],
"source": [
"clc;\n",
"clear;\n",
"//Example 3.46\n",
"dT=8    //[K]\n",
"P=0.17  //[Mpa]\n",
"P=P*1000    //[kPa]\n",
"h1=2847 //[W/(sq m.K)]\n",
"P1=101.325  //[kPa]\n",
"h=5.56*(dT^3)   //[W/sq m.K]\n",
"Q_by_A=h*dT //[W/sq m]\n",
"hp=h*(P/P1)^(0.4)   //[W/sq m.K]\n",
"//Correponding heat flux is :\n",
"Q_by_A1=hp*dT //[W/sq m]\n",
"per=(Q_by_A1-Q_by_A)*100/Q_by_A //Percent increase in heat flux\n",
"printf('\nHeat flux when pressure  is 101.325 kPa is %f W/sq m\n',Q_by_A);\n",
"printf('\n Percent increase in heat flux is %f  percent',round(per));"
   ]
   }
,
{
		   "cell_type": "markdown",
		   "metadata": {},
		   "source": [
			"## Example 3.47: Dry_steam_condensate.sce"
		   ]
		  },
  {
"cell_type": "code",
	   "execution_count": null,
	   "metadata": {
	    "collapsed": true
	   },
	   "outputs": [],
"source": [
"clc;\n",
"clear;\n",
"//Example 3.47\n",
"mu=306*10^-6    //[N.s/m^2]\n",
"k=0.668 //[W/m.K]\n",
"rho=974 //[kg/m^3]\n",
"lambda=2225 //[kJ/kg]\n",
"lambda=lambda*10^3  //[J/kg.K]\n",
"g=9.81  //[m/s^2]\n",
"Ts=373  //[K]\n",
"Tw=357  //[K]\n",
"dT=Ts-Tw    //[K]\n",
"Do=25   //[mm]\n",
"Do=Do/1000  //[m]\n",
"h=0.725*((rho^2*g*lambda*k^3)/(mu*Do*dT))^(1.0/4.0) //[W/sq m.K]\n",
"Q_by_l=h*%pi*Do*dT  //[W/m]\n",
"m_dot_byl=(Q_by_l/lambda)   //[kg/s]\n",
"m_dot_byl=m_dot_byl*3600    //[kg/h]\n",
"\n",
"printf('\nMean heat transfer coefficient is %f W/(sq m.K)\n',h);\n",
"printf('\nHeat transfer per unit length is %f W/m\n',Q_by_l);\n",
"printf('\nCondensate rate per unit length is %f kg/h',m_dot_byl);"
   ]
   }
,
{
		   "cell_type": "markdown",
		   "metadata": {},
		   "source": [
			"## Example 3.48: Laminar_Condensate_film.sce"
		   ]
		  },
  {
"cell_type": "code",
	   "execution_count": null,
	   "metadata": {
	    "collapsed": true
	   },
	   "outputs": [],
"source": [
"clc;\n",
"clear;\n",
"//Example 3.48\n",
"rho=960 //[kh/m^3]\n",
"mu=2.82*10^-4   //[kg/(m.s)]\n",
"k=0.68  //[W/(m.K)]\n",
"lambda=2255 //[kJ/kg]\n",
"lambda=lambda*10^3  //[J/kg]\n",
"Ts=373  //Saturation temperature of steam [K]\n",
"Tw=371  //[K]\n",
"dT=Ts-Tw    //[K]\n",
"L=0.3   //Dimension [m]\n",
"g=9.81  //[m/s^2]\n",
"h=0.943*(rho^2*g*lambda*k^3/(L*mu*dT))^(1/4)    //W/sq m.K\n",
"A=L^2   //[sq m] \n",
"Q=h*A*(Ts-Tw)   //[W]=[J/s]\n",
"m_dot=Q/lambda  //Condensate rate[kg/s]\n",
"m_dot=m_dot*3600    //[kg/h]\n",
"printf('\n Average heat transfer coefficient is %f W/(sq m.K)\n',h);\n",
"printf('\nHeat transfer rate is %f J/kg\n',Q);\n",
"printf('\n Steam condensate rate per hour is %f kg/h\n',m_dot);"
   ]
   }
,
{
		   "cell_type": "markdown",
		   "metadata": {},
		   "source": [
			"## Example 3.49: Saturated_vapour_condensate_in_array.sce"
		   ]
		  },
  {
"cell_type": "code",
	   "execution_count": null,
	   "metadata": {
	    "collapsed": true
	   },
	   "outputs": [],
"source": [
"\n",
"clc;\n",
"clear;\n",
"//EXample 3.49\n",
"rho=1174    //[kg/m^3]\n",
"k=0.069 //[W/(m.K)]\n",
"mu=2.5*10^-4    //[N.s/m^2]\n",
"lambda=132*10^3 //[J/kg]\n",
"g=9.81  //[m/s^2]\n",
"Ts=323  //[K]\n",
"Tw=313  //[K]\n",
"dT=Ts-Tw    //[K]\n",
"//For square array,n=4\n",
"n=4 //number of tubes\n",
"Do=12   //[mm]\n",
"Do=Do/1000  //[m]\n",
"h=0.725*(rho^2*lambda*g*k^3/(n*Do*mu*dT))^(1/4) //W/(sq m.K) \n",
"//For heat transfer area calcualtion,n=16\n",
"A=n*%pi*Do //[sq m]\n",
"A=0.603\n",
"Q=h*A*dT//[W/m]\n",
"m_dot=Q/lambda  //[kg/s]\n",
"m_dot=0.049     //Appriximation in book\n",
"m_dot=m_dot*3600    //[kg/h]\n",
"printf('\n Rate of condensation per unit length is %f kg/h',m_dot);"
   ]
   }
,
{
		   "cell_type": "markdown",
		   "metadata": {},
		   "source": [
			"## Example 3.4: Flat_plate_boundary_layer.sce"
		   ]
		  },
  {
"cell_type": "code",
	   "execution_count": null,
	   "metadata": {
	    "collapsed": true
	   },
	   "outputs": [],
"source": [
"clc;\n",
"clear;\n",
"//Example 3.4\n",
"mu=1.85*10^-5           //[kg/(m.s)]\n",
"P=101.325;               //Pressure in [kPa]\n",
"M_avg=29;                //Avg molecular wt of air\n",
"R=8.31451;               //Gas constant\n",
"T=300;                   //[K]\n",
"rho=P*M_avg/(R*T)   //[kg/m^3]\n",
"u_inf=2             //Viscosity in [m/s]\n",
"//At x=20 cm =0.2 m\n",
"x=0.2;                   //[m]\n",
"Nre_x=rho*u_inf*x/mu     //[Reynolds number]\n",
"del_by_x=4.64/sqrt(Nre_x)   //[Boundary layer]\n",
"del=del_by_x*x              //[m]\n",
"//del=del*1000                //[mm]\n",
"\n",
"//At\n",
"x=0.4 ;         //[m]\n",
"Nre_x=(rho*u_inf*x)/mu      //<3*10^5\n",
"//Boundary layer is laminar\n",
"del_by_x=4.64/sqrt(Nre_x)   \n",
"del1=del_by_x*x              //[m]\n",
"//del1=del1*1000                //[mm]\n",
"d=del1-del                      //Del \n",
"function m_dot=f(y),m_dot=u_inf*(1.5*(y/d)-0.5*(y/d)^3)*rho,endfunction\n",
"m_dot=intg(0,d,f)\n",
"printf('\nBoundary layer thickness at distance 20 cm from leading edge is %f m=%f mm\n',del,del*1000);\n",
"printf('\nBoundary layer thickness at distance 40 cm from leading edge is %f m=%f mm\n',del1,del1*1000);\n",
"printf('\nThus,Mass flow rate entering the boundary layer is %f kg/s',m_dot);\n",
"\n",
""
   ]
   }
,
{
		   "cell_type": "markdown",
		   "metadata": {},
		   "source": [
			"## Example 3.50: Mass_rate_of_steam_condensation.sce"
		   ]
		  },
  {
"cell_type": "code",
	   "execution_count": null,
	   "metadata": {
	    "collapsed": true
	   },
	   "outputs": [],
"source": [
"\n",
"clc;\n",
"clear;\n",
"//Example 3.50\n",
"rho=960 //[kg/m^3]\n",
"k=0.68  //[W/m.K]\n",
"mu=282*10^-6    //[kg/(m.s)]\n",
"Tw=371  //Tube wall temperature [K]\n",
"Ts=373  //Saturation temperature in [K]\n",
"dT=Ts-Tw    //[K]\n",
"lambda=2256.9   //[kJ/kg]\n",
"lambda=lambda*10^3  //[J/kg]\n",
"//Fora square array with 100tubes,n=10\n",
"Do=0.0125 //[m]\n",
"g=9.81  //[m/s^2]\n",
"n=10\n",
"h=0.725*(((rho^2)*g*lambda*(k^3)/(mu*n*Do*dT))^(1.0/4.0)) //W/(sq m.K)\n",
"\n",
"L=1 //[m]\n",
"//n=100\n",
"n=100;\n",
"A=n*%pi*Do*L    //[m^2/m length]\n",
"Q=h*A*dT    //Heat transfer rate in [W/m]\n",
"ms_dot=Q/lambda //[kg/s]\n",
"ms_dot=ms_dot*3600  //[kg/h]\n",
"printf('\n Mass rate of steam condensation is %d kg/h\n',round(ms_dot));\n",
"\n",
"printf('\n NOTE:ERROR in Solution in book.Do is wrongly taken as 0.012 in lines 17 and 22 of the book,Also A is wrongly calculated\n')"
   ]
   }
,
{
		   "cell_type": "markdown",
		   "metadata": {},
		   "source": [
			"## Example 3.51: Saturated_tube_condensate_in_a_wall.sce"
		   ]
		  },
  {
"cell_type": "code",
	   "execution_count": null,
	   "metadata": {
	    "collapsed": true
	   },
	   "outputs": [],
"source": [
"\n",
"clc;\n",
"clear;\n",
"//Example 3.51\n",
"rho=975 //[kg/m^3]\n",
"k=0.871 //[W/m.K]\n",
"dT=10   //[K]\n",
"mu=380.5*10^-6  //[N.s/m^2]\n",
"lambda=2300 //[kJ/kg]\n",
"lambda=lambda*1000  // Latent heat of condensation [J/kg]\n",
"Do=100  //Outer diameter [mm]\n",
"Do=Do/1000  //[m]\n",
"g=9.81  //[m/s^2]\n",
"//for horizontal tube\n",
"h1=0.725*((rho^2*lambda*g*k^3)/(mu*Do*dT))^(1/4)    //Average heat transfer coefficient\n",
"//for vertical tube\n",
"//h2=0.943*((rho^2*lambda*g*k^3)/(mu*L*dT))^(1/4)    //Average heat transfer coefficient\n",
"h2=h1   //For vertical tube\n",
"//implies that\n",
"L=(0.943*((rho^2*lambda*g*k^3)^(1/4))/(h1*((mu*dT)^(1/4))))^4   //[m]\n",
"L=0.29      //Approximate in book\n",
"h=0.943*((rho^2*lambda*g*k^3)/(mu*L*dT))^(1/4)  //[W/(sq m.K)]\n",
"A=%pi*Do*L  //Area in [m^2]\n",
"Q=h*A*dT    //Heat transfer rate [W]\n",
"mc_dot=Q/lambda  //[Rate of condensation]in [kg/s]\n",
"mc_dot=mc_dot*3600  //[kg/h]\n",
"printf('\n Tube length is %f m\n',L);\n",
"printf('\n Rate of condemsation per hour is %f kg/h',mc_dot);"
   ]
   }
,
{
		   "cell_type": "markdown",
		   "metadata": {},
		   "source": [
			"## Example 3.52: Condensation_rate.sce"
		   ]
		  },
  {
"cell_type": "code",
	   "execution_count": null,
	   "metadata": {
	    "collapsed": true
	   },
	   "outputs": [],
"source": [
"clc;\n",
"clear;\n",
"//Example 3.52\n",
"m1_dot=50    // For horizontal position[kg/h]\n",
"Do=10   //[mm]\n",
"Do=Do/1000  //[m]\n",
"L=1  //[m]\n",
"//For 100 tubes n=10\n",
"n=10;\n",
"//We know that\n",
"//m_dot=Q/lambda=h*A*dT/lambda\n",
"//m_dot is proportional to  h\n",
"//m1_dot prop to h1\n",
"//m2_dot  propn to h2\n",
"//m1_dot/m2_dot=h1/h2\n",
"//or :\n",
"m2_dot=m1_dot/((0.725/0.943)*(L/(n*Do))^(1/4))  //[kg/h]\n",
"printf('\n For vertical position,Rate of condensationis %f kg/h',m2_dot);"
   ]
   }
,
{
		   "cell_type": "markdown",
		   "metadata": {},
		   "source": [
			"## Example 3.53: Condensation_on_vertical_plate.sce"
		   ]
		  },
  {
"cell_type": "code",
	   "execution_count": null,
	   "metadata": {
	    "collapsed": true
	   },
	   "outputs": [],
"source": [
"clc;\n",
"clear;\n",
"rho=975 //[kg/m^3]\n",
"k=0.671 //[W/(m.K)]\n",
"mu=3.8*10^-4    //[N.s/m^2]\n",
"dT=10   //[K]\n",
"lambda=2300*10^3    //[J/kg]\n",
"L=1 //[m]\n",
"g=9.81  //[m/s^2]\n",
"h=0.943*((rho^2*lambda*g*k^3)/(mu*L*dT))^(1/4)  //W/(sq m.K)    //[W/sq m.K]\n",
"\n",
"printf('\n (i)- Average heat transfer coefficient is %d W/(m^2.K)\n',round(h));\n",
"\n",
"//Local heat transfer coefficient\n",
"//at x=0.5  //[m]\n",
"x=0.5   //[m]\n",
"h=((rho^2*lambda*g*k^3)/(4*mu*dT*x))^(1/4)  //[W/sq m.K]\n",
"printf('\n (ii)-Local heat transfer coefficient at 0.5 m height is %d W/(sq m.K)\n',round(h));\n",
"delta=((4*mu*dT*k*x)/(lambda*rho^2*g))^(1/4)    //[m]\n",
"delta=delta*10^3    //[mm]\n",
"printf('\n (iii)-Film thickness is %f mm',delta);\n",
""
   ]
   }
,
{
		   "cell_type": "markdown",
		   "metadata": {},
		   "source": [
			"## Example 3.5: Rate_of_heat_removed_from_plate.sce"
		   ]
		  },
  {
"cell_type": "code",
	   "execution_count": null,
	   "metadata": {
	    "collapsed": true
	   },
	   "outputs": [],
"source": [
"clc;\n",
"clear;\n",
"//Example 3.5\n",
"//Given\n",
"mu=3.9*10^-4    //Kinematic viscosity in sq m/s\n",
"k=36.4*10^-3    //Thermal conductivity in W/(m.K)\n",
"Npr=0.69\n",
"u_inf=8    //[m/s]\n",
"L=1    //Lenght of plate in [m]\n",
"Nre_l=u_inf*L/mu \n",
"//Since Nre_l is less than 3*10^5 ,the flow is laminar over the entire length of plate\n",
"Nnu=0.664*sqrt(Nre_l)*Npr^(1.0/3.0)    //=hL/k\n",
"h=k*Nnu/L    //w/sq m.K\n",
"h=3.06      //Approximation   [W/sq m.K]\n",
"T_inf=523    //[K]\n",
"Tw=351    //[K]\n",
"W=0.3    //Width of plate [m]\n",
"A=W*L    //Area in [sq m]\n",
"Q=h*A*(T_inf-Tw)    // Rate of heat removal from one side in [W]\n",
"printf('\nRate of heat removal is %f W\n',Q)\n",
"//from two side:\n",
"Q=2*Q    //[W]\n",
"printf('\n %f W heat should be removed continously from the plate',Q);"
   ]
   }
,
{
		   "cell_type": "markdown",
		   "metadata": {},
		   "source": [
			"## Example 3.6: Heat_removed_from_plate.sce"
		   ]
		  },
  {
"cell_type": "code",
	   "execution_count": null,
	   "metadata": {
	    "collapsed": true
	   },
	   "outputs": [],
"source": [
"clc;\n",
"clear;\n",
"//Example 3.6\n",
"P1=101.325    //Pressure in [kPa]\n",
"mu1=30.8*10^-6    //Kinematic viscosity in[sq m /s]\n",
"k=36.4*10^-3    //[W/(m.K)]\n",
"Npr=0.69\n",
"u_inf=8    //Velocity in [m/s]\n",
"Cp=1.08    //kJ/(kg.K)\n",
"L=1.5    //Length of plate in [m]\n",
"W=0.3    //Width in [m]\n",
"A=L*W    //Area in [sq m]\n",
"//At constant temperature: mu1/mu2=P2/P1\n",
"P2=8     //[kPa]\n",
"mu2=mu1*P1/P2    //Kinematic viscosity at P2 in [sq m/s]\n",
"Nre_l=u_inf*L/mu2    //Reynold's no.\n",
"//Since this is less than 3*10^5\n",
"Nnu=0.664*sqrt(Nre_l)*(Npr^(1.0/3.0))\n",
"h=Nnu*k/L  // Heat transfer coeffficient in [W/sq m.K]\n",
"h=2.5       //Approximation in [W/sq m.K]\n",
"T_inf=523    //[K]\n",
"Tw=353    //[K]\n",
"Q=2*h*A*(T_inf-Tw)    //Heat removed from both sides in [W]\n",
"printf('Rate of heat removed from both sides of plate is %f W',Q);    "
   ]
   }
,
{
		   "cell_type": "markdown",
		   "metadata": {},
		   "source": [
			"## Example 3.7: Local_heat_transfer_coefficient.sce"
		   ]
		  },
  {
"cell_type": "code",
	   "execution_count": null,
	   "metadata": {
	    "collapsed": true
	   },
	   "outputs": [],
"source": [
"clc;\n",
"clear;\n",
"//Example 3.7\n",
"rho=0.998    //kg/cubic m\n",
"v=20.76*10^-6    //[sq m/s]\n",
"Cp=1.009    //[kJ/kg.K]\n",
"k=0.03    //[W/m.K]\n",
"u_inf=3    //[m/s]\n",
"x=0.4    //[m]\n",
"w=1.5    //[m]\n",
"Nre_x=u_inf*x/v    //Reynolds no at x=0.4 m\n",
"//Since this is less than 3*10^5.The flow is laminar upto x=0.4 m\n",
"mu=rho*v  //[kg/(m.s)]\n",
"Cp=1.009    //[kJ/kg.K]\n",
"Cp=Cp*1000    //[J/kg.K]\n",
"k=0.03    //W/(m.K)\n",
"Npr=Cp*mu/k\n",
"Nnu_x=0.332*(sqrt(Nre_x))*(Npr^(1.0/3.0))\n",
"hx=Nnu_x*k/x    //[W/(m.K)]\n",
"//Average value is twice this value\n",
"h=2*hx    //[W/(m.K)]\n",
"h=10.6      //Approximation\n",
"A=x*w    //Area in [sq m]\n",
"Tw=407    //[k]\n",
"T_inf=293    //[K]\n",
"Q=h*A*(Tw-T_inf)     //[W]\n",
"//From both sides of the plate:\n",
"Q=2*Q    //[W]\n",
"printf('The heat transferred from both sides of the plate is %d W',round(Q));"
   ]
   }
,
{
		   "cell_type": "markdown",
		   "metadata": {},
		   "source": [
			"## Example 3.8: Width_of_plate.sce"
		   ]
		  },
  {
"cell_type": "code",
	   "execution_count": null,
	   "metadata": {
	    "collapsed": true
	   },
	   "outputs": [],
"source": [
"clc;\n",
"clear;\n",
"//Example 3.8\n",
"rho=0.998    //[kg/cubic m]\n",
"v=20.76*10^-6    //[sq m/s]\n",
"k=0.03    //[W/m.K]\n",
"Npr=0.697\n",
"x=0.4    //[m] from leading edge of the plate\n",
"u_inf=3    //[m/s]\n",
"Nre_x=u_inf*x/v    //Reynold numebr at x=0.40 m\n",
"//Since this is less than 3*10^5    \n",
"//therefore flow is laminar and \n",
"Nnu_x=0.332*sqrt(Nre_x)*(Npr^(1.0/3.0));\n",
"hx=Nnu_x*k/x    //[W/sq m.K]\n",
"//Average heat tarnsfer coefficient is twice this value\n",
"h=2*hx    //[W/sq m.K]\n",
"//Given:\n",
"Q=1450    //[W]\n",
"Tw=407    //[K]\n",
"T_inf=293    //[K]\n",
"L=0.4    //[m]\n",
"//Q=h*w*L*(Tw-T_inf)\n",
"//L=Q/(h*w*(Tw-T_inf))\n",
"w=Q/(h*L*(Tw-T_inf))    //[m]\n",
"printf('\n Width of plate is %f m',w);"
   ]
   }
,
{
		   "cell_type": "markdown",
		   "metadata": {},
		   "source": [
			"## Example 3.9: Heat_transferred_in_flat_plate.sce"
		   ]
		  },
  {
"cell_type": "code",
	   "execution_count": null,
	   "metadata": {
	    "collapsed": true
	   },
	   "outputs": [],
"source": [
"clc;\n",
"clear;\n",
"//Example 3.9\n",
"v=17.36*10^-6    //Viscosity for air    [sq m./s]\n",
"k=0.0275    //for air ..[W/(m.K)]\n",
"Cp=1.006    //[kJ/(kg.K)]\n",
"Npr=0.7    //for air\n",
"u_inf=2    //[m/s]\n",
"x=0.2    //[m]\n",
"Nre_x=u_inf*x/v    //Reynolds number at x=0.2    m\n",
"//Since this is less than 3*10^5\n",
"Nnu_x=0.332*sqrt(Nre_x)*(Npr^(1.0/3.0))\n",
"hx=Nnu_x*k/x    //[W/(sq m.K]\n",
"//Average value of heat transfer coeff is twice this value\n",
"h=2*hx    //[W/sq m.K)]\n",
"h=12.3      //Approximation\n",
"w=1    //width in [m]\n",
"A=x*w    //[sq m] Area of plate\n",
"Tw=333    //[K]\n",
"T_inf=300    //[K]\n",
"Q=h*A*(Tw-T_inf)    //Heat flow in [W]\n",
"printf('\nANSWER:\nHeat flow is :%f W\n',Q)\n",
"//From both sides of plate:\n",
"Q=2*Q    //[W]\n",
"printf('\nANSWER\n Heat flow from both sides of plate is %f W',Q);\n",
" "
   ]
   }
],
"metadata": {
		  "kernelspec": {
		   "display_name": "Scilab",
		   "language": "scilab",
		   "name": "scilab"
		  },
		  "language_info": {
		   "file_extension": ".sce",
		   "help_links": [
			{
			 "text": "MetaKernel Magics",
			 "url": "https://github.com/calysto/metakernel/blob/master/metakernel/magics/README.md"
			}
		   ],
		   "mimetype": "text/x-octave",
		   "name": "scilab",
		   "version": "0.7.1"
		  }
		 },
		 "nbformat": 4,
		 "nbformat_minor": 0
}
