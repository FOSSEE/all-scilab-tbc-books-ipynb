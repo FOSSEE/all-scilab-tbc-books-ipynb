{
"cells": [
 {
		   "cell_type": "markdown",
	   "metadata": {},
	   "source": [
       "# Chapter 5: Primary Sensing Elements and Transducers"
	   ]
	},
{
		   "cell_type": "markdown",
		   "metadata": {},
		   "source": [
			"## Example 5.10: Checking_the_suitability_of_the_potentiometer.sci"
		   ]
		  },
  {
"cell_type": "code",
	   "execution_count": null,
	   "metadata": {
	    "collapsed": true
	   },
	   "outputs": [],
"source": [
"// Checking the suitability of the potentiometer\n",
"clc;\n",
"Pd=(10^2)/150;\n",
"disp(Pd,'Power dissipation (W)=')\n",
"th_pot=80+Pd*30*10^-3;\n",
"PDa=1-(10*10^-3)*(th_pot-35);\n",
"disp(PDa,'Power dissipation allowed(W)=')\n",
"disp('Since power dissipation is higher than the dissipation allowed so potentiometer is not suitable')\n",
""
   ]
   }
,
{
		   "cell_type": "markdown",
		   "metadata": {},
		   "source": [
			"## Example 5.11: Calculating_the_possion_ratio.sci"
		   ]
		  },
  {
"cell_type": "code",
	   "execution_count": null,
	   "metadata": {
	    "collapsed": true
	   },
	   "outputs": [],
"source": [
"// Calculating the possion's ratio\n",
"clc;\n",
"Gf=4.2;\n",
"v=(Gf-1)/2;\n",
"disp(v,'Possion s ratio=')"
   ]
   }
,
{
		   "cell_type": "markdown",
		   "metadata": {},
		   "source": [
			"## Example 5.12: Calculating_the_value_of_the_resistance_of_the_gauges.sci"
		   ]
		  },
  {
"cell_type": "code",
	   "execution_count": null,
	   "metadata": {
	    "collapsed": true
	   },
	   "outputs": [],
"source": [
"// Calculating the value of the resistance of the gauges\n",
"clc;\n",
"strain=-5*10^-6;\n",
"Gf=-12.1;\n",
"R=120;\n",
"dR_nickel=Gf*R*strain;\n",
"disp(dR_nickel,'change in resistance of nickel(ohm)=')\n",
"Gf=2;\n",
"R=120;\n",
"dR_nicrome=Gf*R*strain;\n",
"disp(dR_nicrome,'change in resistance of nicrome(ohm)=')"
   ]
   }
,
{
		   "cell_type": "markdown",
		   "metadata": {},
		   "source": [
			"## Example 5.13: calculate_the_percentage_change_in_value_of_the_gauge_resistance.sci"
		   ]
		  },
  {
"cell_type": "code",
	   "execution_count": null,
	   "metadata": {
	    "collapsed": true
	   },
	   "outputs": [],
"source": [
"// calculate the percentage change in value of the gauge resistance\n",
"clc;\n",
"s=100*10^6;\n",
"E=200*10^9;\n",
"strain=s/E;\n",
"Gf=2;\n",
"r_perunit=Gf*strain*100;\n",
"disp(r_perunit,'Percentage change in resistance=')"
   ]
   }
,
{
		   "cell_type": "markdown",
		   "metadata": {},
		   "source": [
			"## Example 5.14: Calculating_the_Gauge_factor.sci"
		   ]
		  },
  {
"cell_type": "code",
	   "execution_count": null,
	   "metadata": {
	    "collapsed": true
	   },
	   "outputs": [],
"source": [
"//Calculating the Gauge factor\n",
"clc;\n",
"b=0.02;\n",
"d=0.003;\n",
"I=(b*d^3)/12;\n",
"E=200*10^9;\n",
"x=12.7*10^-3;\n",
"l=0.25;\n",
"F=3*E*I*x/l^3;\n",
"x=0.15;\n",
"M=F*x;\n",
"t=0.003;\n",
"s=(M*t)/(I*2);\n",
"strain=s/E;\n",
"dR=0.152;\n",
"R=120;\n",
"Gf=(dR/R)/strain;\n",
"disp(Gf,'Gauge factor=')"
   ]
   }
,
{
		   "cell_type": "markdown",
		   "metadata": {},
		   "source": [
			"## Example 5.15: Calculating_the_change_in_length_and_the_force_applied.sci"
		   ]
		  },
  {
"cell_type": "code",
	   "execution_count": null,
	   "metadata": {
	    "collapsed": true
	   },
	   "outputs": [],
"source": [
"// Calculating the change in length and the force applied\n",
"clc;\n",
"dR=0.013;\n",
"R=240;\n",
"l=0.1;\n",
"Gf=2.2;\n",
"dl=(dR/R)*l/Gf;\n",
"disp(dl,'change in length(m)=')\n",
"strain=dl/l;\n",
"E=207*10^9;\n",
"s=E*strain;\n",
"A=4*10^-4;\n",
"F=s*A;\n",
"disp(F,'Force(N)')"
   ]
   }
,
{
		   "cell_type": "markdown",
		   "metadata": {},
		   "source": [
			"## Example 5.16: Calculate_the_linear_approximation.sci"
		   ]
		  },
  {
"cell_type": "code",
	   "execution_count": null,
	   "metadata": {
	    "collapsed": true
	   },
	   "outputs": [],
"source": [
"// Calculate the linear approximation\n",
"clc;\n",
"th1=30;\n",
"th2=60;\n",
"th0=th1+th2/2;\n",
"Rth1=4.8;\n",
"Rth2=6.2;\n",
"Rth0=5.5;\n",
"ath0=(1/Rth0)*(Rth2-Rth1)/(th2-th1);\n",
"disp(ath0,'alpha at o degree(/degree C)=')\n",
"disp('5.5[1+0.0085(th-45)]')"
   ]
   }
,
{
		   "cell_type": "markdown",
		   "metadata": {},
		   "source": [
			"## Example 5.17: Calculate_the_linear_approximation.sci"
		   ]
		  },
  {
"cell_type": "code",
	   "execution_count": null,
	   "metadata": {
	    "collapsed": true
	   },
	   "outputs": [],
"source": [
"// Calculate the linear approximation\n",
"clc;\n",
"th1=100;\n",
"th2=130;\n",
"th0=th1+th2/2;\n",
"Rth1=573.40;\n",
"Rth2=605.52;\n",
"Rth0=589.48;\n",
"ath0=(1/Rth0)*(Rth2-Rth1)/(th2-th1);\n",
"disp(ath0,'alpha at o degree(/degree C)=')\n",
"disp('Linear approximation is: Rth= 589.48[1+0.00182(th-115)]')"
   ]
   }
,
{
		   "cell_type": "markdown",
		   "metadata": {},
		   "source": [
			"## Example 5.18: Calculate_the_resistance_and_the_temperature.sci"
		   ]
		  },
  {
"cell_type": "code",
	   "execution_count": null,
	   "metadata": {
	    "collapsed": true
	   },
	   "outputs": [],
"source": [
"// Calculate the resistance and the temperature\n",
"clc;\n",
"Rth0=100;\n",
"ath0=0.00392;\n",
"dth=65-25;\n",
"R65=Rth0*[1+ath0*dth];\n",
"disp(R65,'resistance at 65 degree C(ohm)=')\n",
"\n",
"th={[(150/100)-1]/ath0}+25;\n",
"disp(th,'Temperature (degree C)')"
   ]
   }
,
{
		   "cell_type": "markdown",
		   "metadata": {},
		   "source": [
			"## Example 5.19: Calculate_the_resistance.sci"
		   ]
		  },
  {
"cell_type": "code",
	   "execution_count": null,
	   "metadata": {
	    "collapsed": true
	   },
	   "outputs": [],
"source": [
"// Calculate the resistance \n",
"clc;\n",
"Rth0=10;\n",
"ath0=0.00393;\n",
"dth=150-20;\n",
"R150=Rth0*[1+ath0*dth];\n",
"disp(R150,'resistance at 150 degree C(ohm)=')"
   ]
   }
,
{
		   "cell_type": "markdown",
		   "metadata": {},
		   "source": [
			"## Example 5.1: Calculate_the_deflection_at_center.sci"
		   ]
		  },
  {
"cell_type": "code",
	   "execution_count": null,
	   "metadata": {
	    "collapsed": true
	   },
	   "outputs": [],
"source": [
"// Calculate the deflection at center\n",
"clc;\n",
"D=15*10^-3;\n",
"P=300*10^3;\n",
"sm=300*10^6;\n",
"t=[3*D^2*P/(16*sm)]^0.5;\n",
"disp(t,' thickness(m)=')\n",
"P=150*10^3;\n",
"v=0.28;\n",
"E=200*10^9;\n",
"dm=3*(1-v^2)*D^4*P/(256*E*t^3);\n",
"disp(dm,' deflection at center for Pressure of 150 kN/m2(m)=')"
   ]
   }
,
{
		   "cell_type": "markdown",
		   "metadata": {},
		   "source": [
			"## Example 5.20: Calculate_the_time.sci"
		   ]
		  },
  {
"cell_type": "code",
	   "execution_count": null,
	   "metadata": {
	    "collapsed": true
	   },
	   "outputs": [],
"source": [
"// Calculate the time\n",
"clc;\n",
"th=30;\n",
"th0=50;\n",
"tc=120;\n",
"t=-120*[log(1-(th/th0))];\n",
"disp(t,'time(s)=')"
   ]
   }
,
{
		   "cell_type": "markdown",
		   "metadata": {},
		   "source": [
			"## Example 5.21: Calculate_the_resistance.sci"
		   ]
		  },
  {
"cell_type": "code",
	   "execution_count": null,
	   "metadata": {
	    "collapsed": true
	   },
	   "outputs": [],
"source": [
"// Calculate the resistance \n",
"clc;\n",
"R25=100;\n",
"ath=-0.05;\n",
"dth=35-25;\n",
"R35=R25*[1+ath*dth];\n",
"disp(R35,'resistance at 35 degree C(ohm)=')"
   ]
   }
,
{
		   "cell_type": "markdown",
		   "metadata": {},
		   "source": [
			"## Example 5.22: find_resistance.sci"
		   ]
		  },
  {
"cell_type": "code",
	   "execution_count": null,
	   "metadata": {
	    "collapsed": true
	   },
	   "outputs": [],
"source": [
"//\n",
"clc;\n",
"Ro=3980;\n",
"Ta=273;\n",
"disp('3980= a*3980*exp(b/273)')\n",
"Rt50=794;\n",
"Ta50=273+50;\n",
"disp('794= a*3980*exp(b/323)')\n",
"disp('on solving')\n",
"disp('a=30*10^-6', 'b=2843')\n",
"Ta40=273+40;\n",
"Rt40=(30*10^-6)*3980*exp(2843/313);\n",
"disp(Rt40,'Resistance at 40 degree C (ohm)')\n",
"Rt100=(30*10^-6)*3980*exp(2843/373);\n",
"disp(Rt100,'Resistance at 100 degree C (ohm)')"
   ]
   }
,
{
		   "cell_type": "markdown",
		   "metadata": {},
		   "source": [
			"## Example 5.23: calculating_the_change_in_temperature.sci"
		   ]
		  },
  {
"cell_type": "code",
	   "execution_count": null,
	   "metadata": {
	    "collapsed": true
	   },
	   "outputs": [],
"source": [
"// calculating the change in temperature\n",
"clc;\n",
"th=((1-1800/2000)/0.05)+70;\n",
"dth=th-70;\n",
"disp(dth,'change in temperature (degree C)')"
   ]
   }
,
{
		   "cell_type": "markdown",
		   "metadata": {},
		   "source": [
			"## Example 5.24: calculating_the_frequencies_of_oscillation.sci"
		   ]
		  },
  {
"cell_type": "code",
	   "execution_count": null,
	   "metadata": {
	    "collapsed": true
	   },
	   "outputs": [],
"source": [
"// calculating the frequencies of oscillation\n",
"clc;\n",
"C=500*10^-12;\n",
"R20=10000*(1-0.05*(20-25));\n",
"f20=1/(2*%pi*R20*C);\n",
"disp(f20,'Frequency of oscillation at 20 degree C (Hz)')\n",
"R25=10000*(1-0.05*(25-25));\n",
"f25=1/(2*%pi*R25*C);\n",
"disp(f25,'Frequency of oscillation at 25 degree C (Hz)')\n",
"R30=10000*(1-0.05*(30-25));\n",
"f30=1/(2*%pi*R30*C);\n",
"disp(f30,'Frequency of oscillation at 30 degree C (Hz)')"
   ]
   }
,
{
		   "cell_type": "markdown",
		   "metadata": {},
		   "source": [
			"## Example 5.25: Calculating_the_sensitivity_and_maximum_output_voltage.sci"
		   ]
		  },
  {
"cell_type": "code",
	   "execution_count": null,
	   "metadata": {
	    "collapsed": true
	   },
	   "outputs": [],
"source": [
"// Calculating the sensitivity and maximum output voltage\n",
"clc;\n",
"Se_thermocouple=500-(-72);\n",
"disp(Se_thermocouple,'Sensitivity of thermocouple (micro V/degree C)=')\n",
"Vo=Se_thermocouple*100*10^-6;\n",
"disp(Vo,'maximum output voltage(V)=')"
   ]
   }
,
{
		   "cell_type": "markdown",
		   "metadata": {},
		   "source": [
			"## Example 5.26: Calculating_the_temperature.sci"
		   ]
		  },
  {
"cell_type": "code",
	   "execution_count": null,
	   "metadata": {
	    "collapsed": true
	   },
	   "outputs": [],
"source": [
"// Calculating the temperature\n",
"clc;\n",
"ET=27.07+0.8;\n",
"Disp(ET,'Required e.m.f.(mV)')\n",
"disp('temperature corresponding to 27.87 mV is 620 degree C')"
   ]
   }
,
{
		   "cell_type": "markdown",
		   "metadata": {},
		   "source": [
			"## Example 5.27: Calcating_the_series_resistance_and_approximate_error.sci"
		   ]
		  },
  {
"cell_type": "code",
	   "execution_count": null,
	   "metadata": {
	    "collapsed": true
	   },
	   "outputs": [],
"source": [
"// Calcating the series resistance and approximate error\n",
"clc;\n",
"Rm=50;\n",
"Re=12;\n",
"E=33.3*10^-3;\n",
"i=0.1*10^-3;\n",
"Rs=(E/i)-Rm-Re;\n",
"disp(Rs,'series resistance (ohm)=')\n",
"Re=13;\n",
"i1=E/(Rs+Re+Rm);\n",
"AE=[(i1-i)/i]*800;\n",
"disp(AE,'approximate error due to rise in resistance of 1 ohm in Re (degree C)=')\n",
"R_change=50*0.00426*10;\n",
"i1=E/(Rs+Re+Rm+R_change);\n",
"AE=[(i1-i)/i]*800;\n",
"disp(AE,'approximate error due to rise in Temp. of 10 (degree C)=')"
   ]
   }
,
{
		   "cell_type": "markdown",
		   "metadata": {},
		   "source": [
			"## Example 5.28: Calculate_the_values_of_resistance_R1_and_R2.sci"
		   ]
		  },
  {
"cell_type": "code",
	   "execution_count": null,
	   "metadata": {
	    "collapsed": true
	   },
	   "outputs": [],
"source": [
"// Calculate the values of resistance R1 and R2\n",
"clc;\n",
"E_20=0.112*10^-3;// emf at 20degree C\n",
"E_900=8.446*10^-3;\n",
"E_1200=11.946*10^-3;\n",
"E1=E_900-E_20;\n",
"E2=E_1200-E_20;\n",
"disp('E1=1.08*R1/(R1+2.5+R2);      (i)')\n",
"disp('E2=1.08*(R1+2.5)/(R1+2.5+R2);      (ii)')\n",
"disp('on solving (i) and (ii)')\n",
"R1=5.95;\n",
"R2=762.6;\n",
"disp(R1,'value of resistance R1 (ohm)=')\n",
"disp(R2,'value of resistance R2 (ohm)=')"
   ]
   }
,
{
		   "cell_type": "markdown",
		   "metadata": {},
		   "source": [
			"## Example 5.29: Calculate_the_percentage_linearity.sci"
		   ]
		  },
  {
"cell_type": "code",
	   "execution_count": null,
	   "metadata": {
	    "collapsed": true
	   },
	   "outputs": [],
"source": [
"// Calculate the percentage linearity\n",
"clc;\n",
"linearity_percentage=(0.003/1.5)*100;\n",
"disp(linearity_percentage,'percentage linearity=')"
   ]
   }
,
{
		   "cell_type": "markdown",
		   "metadata": {},
		   "source": [
			"## Example 5.2: Calculate_the_angle_of_twist.sci"
		   ]
		  },
  {
"cell_type": "code",
	   "execution_count": null,
	   "metadata": {
	    "collapsed": true
	   },
	   "outputs": [],
"source": [
"// Calculate the angle of twist\n",
"clc;\n",
"T=100;\n",
"G=80*10^9;\n",
"d=2*15*10^-3;\n",
"th=16*T/(%pi*G*d^3)\n",
"disp(th,' angle of twist(rad)=')"
   ]
   }
,
{
		   "cell_type": "markdown",
		   "metadata": {},
		   "source": [
			"## Example 5.30: Calculate_senstivity_of_the_LVDT.sci"
		   ]
		  },
  {
"cell_type": "code",
	   "execution_count": null,
	   "metadata": {
	    "collapsed": true
	   },
	   "outputs": [],
"source": [
"// Calculate senstivity of the LVDT, Instrument and resolution of instrument in mm\n",
"clc;\n",
"displacement=0.5;\n",
"Vo=2*10^-3;\n",
"Se_LVDT=Vo/displacement;\n",
"disp(Se_LVDT,'senstivity of the LVDT (V/mm)')\n",
"Af=250;\n",
"Se_instrument=Se_LVDT*Af;\n",
"disp(Se_instrument,'senstivity of instrument (V/mm)')\n",
"sd=5/100;\n",
"Vo_min=50/5;\n",
"Re_instrument=1*1/1000;\n",
"disp(Re_instrument,'resolution of instrument in mm')"
   ]
   }
,
{
		   "cell_type": "markdown",
		   "metadata": {},
		   "source": [
			"## Example 5.31: calculate_the_deflection_maximum_and_minimum_force.sci"
		   ]
		  },
  {
"cell_type": "code",
	   "execution_count": null,
	   "metadata": {
	    "collapsed": true
	   },
	   "outputs": [],
"source": [
"// calculate the deflection, maximum and minimum force \n",
"clc;\n",
"b=0.02;\n",
"t=0.004;\n",
"I=(1/12)*b*t^3;\n",
"F=25;\n",
"l=0.25;\n",
"E=200*10^9;\n",
"x=(F*l^3)/(3*E*I);\n",
"disp(x,'deflection (m)')\n",
"DpF=x/F;\n",
"Se=DpF*0.5*1000;\n",
"Re=(10/1000)*(2/10);\n",
"F_min=Re/Se;\n",
"F_max=10/Se;\n",
"disp(F_min,'minimum force (N)')\n",
"disp(F_max,'maximum force (N)')\n",
"disp(Se,'')"
   ]
   }
,
{
		   "cell_type": "markdown",
		   "metadata": {},
		   "source": [
			"## Example 5.32: calculating_the_sensitivity_of_the_transducer.sci"
		   ]
		  },
  {
"cell_type": "code",
	   "execution_count": null,
	   "metadata": {
	    "collapsed": true
	   },
	   "outputs": [],
"source": [
"// calculating the sensitivity of the transducer\n",
"clc;\n",
"disp('permittivity of the air e0=8.85*10^-12')\n",
"e0=8.85*10^-12;\n",
"w=25*10^-3;\n",
"d=0.25*10^-3;\n",
"Se=-4*e0*w/d;\n",
"disp(Se,'sensitivity of the transducer (F/m)=')"
   ]
   }
,
{
		   "cell_type": "markdown",
		   "metadata": {},
		   "source": [
			"## Example 5.33: Calculate_the_value_of_the_capacitance_afte_the_application_of_pressure.sci"
		   ]
		  },
  {
"cell_type": "code",
	   "execution_count": null,
	   "metadata": {
	    "collapsed": true
	   },
	   "outputs": [],
"source": [
"// Calculate the value of the capacitance afte the application of pressure\n",
"clc;\n",
"C1=370*10^-12;\n",
"d1=3.5*10^-3;\n",
"d2=2.9*10^-3;\n",
"C2=C1*d1/d2;\n",
"disp(C2,'the value of the capacitance afte the application of pressure (F)=')"
   ]
   }
,
{
		   "cell_type": "markdown",
		   "metadata": {},
		   "source": [
			"## Example 5.34: Calculate_the_change_in_frequency_of_the_oscillator.sci"
		   ]
		  },
  {
"cell_type": "code",
	   "execution_count": null,
	   "metadata": {
	    "collapsed": true
	   },
	   "outputs": [],
"source": [
"// Calculate the change in frequency of the oscillator\n",
"clc;\n",
"fo1=100*10^3;\n",
"d1=4;\n",
"d2=3.7;\n",
"fo2=[(d2/d1)^0.5]*fo1;\n",
"dfo=fo1-fo2;\n",
"disp(dfo,'change in frequency of the oscillator (Hz)')"
   ]
   }
,
{
		   "cell_type": "markdown",
		   "metadata": {},
		   "source": [
			"## Example 5.35: Calculate_the_dielectric_stress_change_in_value_of_capacitance.sci"
		   ]
		  },
  {
"cell_type": "code",
	   "execution_count": null,
	   "metadata": {
	    "collapsed": true
	   },
	   "outputs": [],
"source": [
"// Calculate the dielectric stress, change in value of capacitance\n",
"clc;\n",
"L_air=(3.1-3)/2;\n",
"D_stress=100/L_air;\n",
"e0=8.85*10^-12;\n",
"l=20*10^-3;\n",
"D2=3.1;\n",
"D1=3;\n",
"C=(2*%pi)*e0*l/(log(D2/D1));\n",
"disp(C,'Capacitance(F)=')\n",
"l=(20*10^-3)-(2*10^-3);\n",
"C_new=(2*%pi)*e0*l/(log(D2/D1));\n",
"C_change=C-C_new;\n",
"disp(C_change,'change in Capacitance(F)=')"
   ]
   }
,
{
		   "cell_type": "markdown",
		   "metadata": {},
		   "source": [
			"## Example 5.36: EX5_36.sci"
		   ]
		  },
  {
"cell_type": "code",
	   "execution_count": null,
	   "metadata": {
	    "collapsed": true
	   },
	   "outputs": [],
"source": [
"//Calculate the value of time constant,phase shift, series resistance, amplitude ratio and voltage sensitivity\n",
"clc;\n",
"M=0.95;\n",
"w=2*%pi*20;\n",
"tc=(1/w)*[(M^2)/(1-M^2)]^0.5;\n",
"disp(tc,'time constant (s)')\n",
"ph={(%pi/2)-[atan(w*tc)]}*(180/%pi);\n",
"disp(ph,'phase shift(deg)')\n",
"C=(8.85*10^-12*300*10^-6)/(0.125*10^-3);\n",
"R=tc/C;\n",
"disp(R,'series resistance (ohm)')\n",
"M=1/(1+(1/(2*%pi*5*tc)^2))^0.5;\n",
"disp(M,'amplitude ratio=')\n",
"Eb=100;\n",
"x=0.125*10^-3;\n",
"Vs=Eb/x;\n",
"disp(Vs,'voltage sensitivity (V/m)')\n",
""
   ]
   }
,
{
		   "cell_type": "markdown",
		   "metadata": {},
		   "source": [
			"## Example 5.37: Calculate_the_change_in_capacitance_and_ratio.sci"
		   ]
		  },
  {
"cell_type": "code",
	   "execution_count": null,
	   "metadata": {
	    "collapsed": true
	   },
	   "outputs": [],
"source": [
"//Calculate the change in capacitance and ratio\n",
"clc;\n",
"e0=8.85*10^-12;\n",
"A=500*10^-6;\n",
"d=0.2*10^-3;\n",
"C=e0*A/d;\n",
"d1=0.18*10^-3;\n",
"C_new=e0*A/d1;\n",
"C_change=C_new-C;\n",
"Ratio=(C_change/C)/(0.02/0.2);\n",
"disp(Ratio,'ratio of per unit change of capacitance to per unit change of diaplacement')\n",
"d1=0.19*10^-3;\n",
"e1=1;\n",
"d2=0.01*10^-3;\n",
"e2=8;\n",
"C=(e0*A)/((d1/e1)+(d2/e2));\n",
"d1_new=0.17*10^-3;\n",
"C_new=(e0*A)/((d1_new/e1)+(d2/e2));\n",
"C_change=C_new-C;\n",
"Ratio=(C_change/C)/(0.02/0.2);\n",
"disp(Ratio,'ratio of per unit change of capacitance to per unit change of diaplacement')"
   ]
   }
,
{
		   "cell_type": "markdown",
		   "metadata": {},
		   "source": [
			"## Example 5.3: Calculate_the_Torque.sci"
		   ]
		  },
  {
"cell_type": "code",
	   "execution_count": null,
	   "metadata": {
	    "collapsed": true
	   },
	   "outputs": [],
"source": [
"// Calculate the Torque\n",
"clc;\n",
"\n",
"E=110*10^9;\n",
"t=0.073*10^-3;\n",
"b=0.51*10^-3;\n",
"l=370*10^-3;\n",
"th=%pi/2;\n",
"T=(E*b*t^3)*th/(12*l);\n",
"disp(T,' Controlling torque(Nm)=')"
   ]
   }
,
{
		   "cell_type": "markdown",
		   "metadata": {},
		   "source": [
			"## Example 5.40: Calculate_the_output_voltage_and_charge_sensitivity.sci"
		   ]
		  },
  {
"cell_type": "code",
	   "execution_count": null,
	   "metadata": {
	    "collapsed": true
	   },
	   "outputs": [],
"source": [
"// Calculate the output voltage and charge sensitivity\n",
"clc;\n",
"g=0.055;\n",
"t=2*10^-3;\n",
"P=1.5*10^6;\n",
"Eo=g*t*P;\n",
"disp(Eo,'output voltage(V)=')\n",
"e=40.6*10^-12;\n",
"d=e*g;\n",
"disp(d,'charge sensitivity (C/N)=')"
   ]
   }
,
{
		   "cell_type": "markdown",
		   "metadata": {},
		   "source": [
			"## Example 5.41: Calculate_the_force.sci"
		   ]
		  },
  {
"cell_type": "code",
	   "execution_count": null,
	   "metadata": {
	    "collapsed": true
	   },
	   "outputs": [],
"source": [
"// Calculate the force\n",
"clc;\n",
"g=0.055;\n",
"t=1.5*10^-3;\n",
"Eo=100;\n",
"P= Eo/(g*t);\n",
"A=25*10^-6;\n",
"F=P*A;\n",
"disp(F,'Force(N)=')"
   ]
   }
,
{
		   "cell_type": "markdown",
		   "metadata": {},
		   "source": [
			"## Example 5.42: Calculate_the_strain_charge_and_capacitance_clc.sci"
		   ]
		  },
  {
"cell_type": "code",
	   "execution_count": null,
	   "metadata": {
	    "collapsed": true
	   },
	   "outputs": [],
"source": [
"// Calculate the strain, charge and capacitance\n",
"clc;\n",
"A=25*10^-6;\n",
"F=5;\n",
"P=F/A;\n",
"d=150*10^-12;\n",
"e=12.5*10^-9;\n",
"g=d/(e);\n",
"t=1.25*10^-3;\n",
"Eo=(g*t*P);\n",
"strain=P/(12*10^6);\n",
"Q=d*F;\n",
"C=Q/Eo;\n",
"disp(strain,'strain=')\n",
"disp(Q,'charge(C)=')\n",
"disp(C,'Capacitance(F)=')"
   ]
   }
,
{
		   "cell_type": "markdown",
		   "metadata": {},
		   "source": [
			"## Example 5.43: EX5_43.sci"
		   ]
		  },
  {
"cell_type": "code",
	   "execution_count": null,
	   "metadata": {
	    "collapsed": true
	   },
	   "outputs": [],
"source": [
"// calculate peak to peak voltage swing under open and loaded conditions\n",
"// calculate maximum change in crystal thickness\n",
"clc;\n",
"d=2*10^-12;\n",
"t=1*10^-3;\n",
"Fmax=0.01;\n",
"e0=8.85*10^-12;\n",
"er=5;\n",
"A=100*10^-6;\n",
"Eo_peak_to_peak=2*d*t*Fmax/(e0*er*A);\n",
"disp(Eo_peak_to_peak,'peak voltage swing under open conditions')\n",
"Rl=100*10^6;\n",
"Cl=20*10^-12;\n",
"d1=1*10^-3;\n",
"Cp=e0*er*A/d1;\n",
"C=Cp+Cl;\n",
"w=1000;\n",
"m=[w*Cp*Rl/[1+(w*C*Rl)^2]^0.5];\n",
"El_peak_to_peak=[2*d*t*Fmax/(e0*er*A)]*m;\n",
"\n",
"disp(El_peak_to_peak,'peak voltage swing under loaded conditions')\n",
"E=90*10^9;\n",
"dt=2*Fmax*t/(A*E);\n",
"disp(dt,'maximum change in crystal thickness (m)')"
   ]
   }
,
{
		   "cell_type": "markdown",
		   "metadata": {},
		   "source": [
			"## Example 5.44: Calculate_the_minimum_frequency_and_phase_shift.sci"
		   ]
		  },
  {
"cell_type": "code",
	   "execution_count": null,
	   "metadata": {
	    "collapsed": true
	   },
	   "outputs": [],
"source": [
"// Calculate the minimum frequency and phase shift\n",
"clc;\n",
"M=0.95;\n",
"tc=1.5*10^-3;\n",
"w=(1/tc)*[(M^2)/(1-M^2)]^0.5;\n",
"disp(w,'minimum frequency (rad/s)')\n",
"ph={(%pi/2)-[atan(w*tc)]}*(180/%pi);\n",
"disp(ph,'phase shift(deg)')"
   ]
   }
,
{
		   "cell_type": "markdown",
		   "metadata": {},
		   "source": [
			"## Example 5.45: EX5_45.sci"
		   ]
		  },
  {
"cell_type": "code",
	   "execution_count": null,
	   "metadata": {
	    "collapsed": true
	   },
	   "outputs": [],
"source": [
"//calculate sensitivity of the transducer, high frequency sensitivity, Lowest frequency\n",
"// Calculate external shunt capacitance and high frequency sensitivity after connecting the external shunt capacitance\n",
"clc;\n",
"Kq=40*10^-3;\n",
"Cp=1000*10^-12;\n",
"K=Kq/Cp;\n",
"disp(K,'sensitivity of the transducer(V/m)')\n",
"Cc=300*10^-12;\n",
"Ca=50*10^-12;\n",
"C=Cp+Cc+Ca;\n",
"Hf=Kq/C;\n",
"disp(Hf,'high frequency sensitivity (V/m)')\n",
"R=1*10^6;\n",
"tc=R*C;\n",
"M=0.95;\n",
"w=(1/tc)*[(M^2)/(1-M^2)]^0.5;\n",
"f=w/(2*%pi);\n",
"disp(w,'minimum frequency (s)')\n",
"disp('now f=10Hz')\n",
"f=10;\n",
"w=2*%pi*f;\n",
"tc=(1/w)*[(M^2)/(1-M^2)]^0.5;\n",
"C_new=tc/R;\n",
"Ce=C_new-C;\n",
"disp(Ce,'external shunt capacitance(F)')\n",
"Hf_new=Kq/C_new;\n",
"disp(Hf_new,'new value of high frequency sensitivity (V/m)')"
   ]
   }
,
{
		   "cell_type": "markdown",
		   "metadata": {},
		   "source": [
			"## Example 5.46: calculate_op_volatge.sci"
		   ]
		  },
  {
"cell_type": "code",
	   "execution_count": null,
	   "metadata": {
	    "collapsed": true
	   },
	   "outputs": [],
"source": [
"//\n",
"clc;\n",
"R=10^6;\n",
"C=2500*10^-12;\n",
"tc=R*C;\n",
"t=2*10^-3;\n",
"d=100*10^-12;\n",
"F=0.1;\n",
"el=10^3*{d*F*[exp(-t/tc)]/C};\n",
"disp(el,'voltage just before t=2ms (mV)')\n",
"el_after=10^3*{d*F*[exp(-t/tc)-1]/C};\n",
"disp(el_after,'voltage just after t=2ms (mV)')\n",
"disp('when t=10ms')\n",
"t=10*10^-3;\n",
"T=2*10\n",
"e_10=10^3*{d*F*[exp((-T/tc)-1)]*{exp(-(t-T))/tc}/C}\n",
"disp(e_10,'output voltage 10 ms after the application of impulse(mV) ')"
   ]
   }
,
{
		   "cell_type": "markdown",
		   "metadata": {},
		   "source": [
			"## Example 5.47: to_prove_time_constant_should_be_approximately_20T.sci"
		   ]
		  },
  {
"cell_type": "code",
	   "execution_count": null,
	   "metadata": {
	    "collapsed": true
	   },
	   "outputs": [],
"source": [
"// to prove time constant should be approximately 20T to keep undershoot within 5%\n",
"clc;\n",
"disp('Let T=1');\n",
"T=1;\n",
"el=0.95;\n",
"tc=-T/log(el);\n",
"disp(tc,'time constant')\n",
"disp('as T=1 so time constant should be approximately equal to 20T')"
   ]
   }
,
{
		   "cell_type": "markdown",
		   "metadata": {},
		   "source": [
			"## Example 5.48: calculate_op_volatge.sci"
		   ]
		  },
  {
"cell_type": "code",
	   "execution_count": null,
	   "metadata": {
	    "collapsed": true
	   },
	   "outputs": [],
"source": [
"//\n",
"clc;\n",
"Kh=-1*10^-6;\n",
"I=3;\n",
"B=0.5;\n",
"t=2*10^-3;\n",
"Eh=Kh*I*B/t;\n",
"disp(Eh,'output voltage (V)')"
   ]
   }
,
{
		   "cell_type": "markdown",
		   "metadata": {},
		   "source": [
			"## Example 5.49: Calculate_the_threshold_wavelength.sci"
		   ]
		  },
  {
"cell_type": "code",
	   "execution_count": null,
	   "metadata": {
	    "collapsed": true
	   },
	   "outputs": [],
"source": [
"// Calculate the threshold wavelength\n",
"clc;\n",
"Th_wavelength=1.24*10^-6/1.8'\n",
"disp(Th_wavelength,'Threshold wavelength (m)')"
   ]
   }
,
{
		   "cell_type": "markdown",
		   "metadata": {},
		   "source": [
			"## Example 5.4: Calculating_the_displacement_and_resolution_of_the_potentiometer.sci"
		   ]
		  },
  {
"cell_type": "code",
	   "execution_count": null,
	   "metadata": {
	    "collapsed": true
	   },
	   "outputs": [],
"source": [
"//Calculating the displacement and resolution of the potentiometer\n",
"clc;\n",
"Rnormal=10000/2;\n",
"Rpl=10000/50;\n",
"Rc1=Rnormal-3850;\n",
"Dnormal=Rc1/Rpl;\n",
"disp(Dnormal,'Displacement(mm)=')\n",
"Rc2=Rnormal-7560;\n",
"Dnormal=Rc2/Rpl;\n",
"disp(Dnormal,'Displacement(mm)=')\n",
"disp('since one displacement is positive and other is negative so two displacements are in the opposite direction')\n",
"Re=10*1/200;\n",
"disp(Re,'Resolution (mm)=')"
   ]
   }
,
{
		   "cell_type": "markdown",
		   "metadata": {},
		   "source": [
			"## Example 5.50: Calculate_maximum_velocity_of_emitted_photo_electrons.sci"
		   ]
		  },
  {
"cell_type": "code",
	   "execution_count": null,
	   "metadata": {
	    "collapsed": true
	   },
	   "outputs": [],
"source": [
"// Calculate maximum velocity of emitted photo electrons\n",
"clc;\n",
"E_imparted=(1.24*10^-6)/(0.2537*10^-6);\n",
"B_energy=E_imparted-4.30;\n",
"em_ratio=0.176*10^12;\n",
"v=(2*B_energy*em_ratio)^0.5;\n",
"disp(v,'maximum velocity of emitted photo electrons (m/s)')"
   ]
   }
,
{
		   "cell_type": "markdown",
		   "metadata": {},
		   "source": [
			"## Example 5.51: Calculate_the_resistance_of_the_cell.sci"
		   ]
		  },
  {
"cell_type": "code",
	   "execution_count": null,
	   "metadata": {
	    "collapsed": true
	   },
	   "outputs": [],
"source": [
"// Calculate the resistance of the cell\n",
"clc;\n",
"Ri=30;\n",
"Rf=100;\n",
"t=10;\n",
"tc=72;\n",
"Rt=Ri+(Rf-Ri)*[1-exp(-t/tc)];\n",
"disp(Rt,'resistance of the cell (K ohm)')"
   ]
   }
,
{
		   "cell_type": "markdown",
		   "metadata": {},
		   "source": [
			"## Example 5.52: Calculate_incident_power_and_cut_off_frequency.sci"
		   ]
		  },
  {
"cell_type": "code",
	   "execution_count": null,
	   "metadata": {
	    "collapsed": true
	   },
	   "outputs": [],
"source": [
"//Calculate incident power and cut off frequency\n",
"clc;\n",
"I_power=250*0.2*10^-6;\n",
"disp(I_power,'incident power (W)')\n",
"Rl=10*10^3;\n",
"C=2*10^-12;\n",
"fc=1/(2*%pi*Rl*C);\n",
"disp(fc,'cut off frequency (Hz)')"
   ]
   }
,
{
		   "cell_type": "markdown",
		   "metadata": {},
		   "source": [
			"## Example 5.53: Calculate_the_internal_resistance_of_cell_and_open_circuit_voltage.sci"
		   ]
		  },
  {
"cell_type": "code",
	   "execution_count": null,
	   "metadata": {
	    "collapsed": true
	   },
	   "outputs": [],
"source": [
"// Calculate the internal resistance of cell and open circuit voltage\n",
"clc;\n",
"I=2.2*10^-3;\n",
"Eo=0.33;\n",
"Rl=100;\n",
"Ri=(Eo/I)-100;\n",
"disp(Ri,'internal resistance of cell (ohm)')\n",
"Vo=0.33*[log(25)/log(10)];\n",
"disp(Vo,'open circuit voltage for a radiant incidence of 25 W/m2 (V)=')"
   ]
   }
,
{
		   "cell_type": "markdown",
		   "metadata": {},
		   "source": [
			"## Example 5.54: Find_the_value_of_current.sci"
		   ]
		  },
  {
"cell_type": "code",
	   "execution_count": null,
	   "metadata": {
	    "collapsed": true
	   },
	   "outputs": [],
"source": [
"// Find the value of current\n",
"clc;\n",
"A=1935*10^-6;\n",
"r=0.914;\n",
"S_angle=A/r^2;\n",
"I=180;\n",
"L_flux=I*S_angle;\n",
"disp(L_flux,'lumnious flux=')\n",
"disp('Corresponding to lumnious flux o.417 lm and a load resistance of 800 ohm the current is 120 micro Ampere')"
   ]
   }
,
{
		   "cell_type": "markdown",
		   "metadata": {},
		   "source": [
			"## Example 5.5: plot_the_graph_of_error_versus_K.sci"
		   ]
		  },
  {
"cell_type": "code",
	   "execution_count": null,
	   "metadata": {
	    "collapsed": true
	   },
	   "outputs": [],
"source": [
"// plot the graph of error versus K\n",
"clc;\n",
"K=[0    0.25    0.5    0.75    1];\n",
"V=[0    -0.174    -0.454    -0.524    0];\n",
"plot(K,V)"
   ]
   }
,
{
		   "cell_type": "markdown",
		   "metadata": {},
		   "source": [
			"## Example 5.6: Calculating_the_output_voltage.sci"
		   ]
		  },
  {
"cell_type": "code",
	   "execution_count": null,
	   "metadata": {
	    "collapsed": true
	   },
	   "outputs": [],
"source": [
"//Calculating the output voltage\n",
"clc;\n",
"RAB=125;\n",
"Rtotal=5000;\n",
"R2=75/125*Rtotal;\n",
"R4=2500;\n",
"ei=5;\n",
"eo=[(R2/Rtotal)-(R4/Rtotal)]*ei;\n",
"disp(eo,'output voltage (V)=')"
   ]
   }
,
{
		   "cell_type": "markdown",
		   "metadata": {},
		   "source": [
			"## Example 5.7: Calculating_the_maximum_excitation_voltage_and_the_sensitivity.sci"
		   ]
		  },
  {
"cell_type": "code",
	   "execution_count": null,
	   "metadata": {
	    "collapsed": true
	   },
	   "outputs": [],
"source": [
"// Calculating the maximum excitation voltage and the sensitivity\n",
"clc;\n",
"Rm=10000;\n",
"Rp=Rm/15;\n",
"R=600;\n",
"P=5;\n",
"ei= (P*R)^0.5;\n",
"disp(ei,'Maximum excitation voltage (V)=')\n",
"S=ei/360;\n",
"disp(S,'Sensitivity (V/degree)=')"
   ]
   }
,
{
		   "cell_type": "markdown",
		   "metadata": {},
		   "source": [
			"## Example 5.8: Calculating_the_resolution_of_the_potentiometer.sci"
		   ]
		  },
  {
"cell_type": "code",
	   "execution_count": null,
	   "metadata": {
	    "collapsed": true
	   },
	   "outputs": [],
"source": [
"// Calculating the resolution of the potentiometer\n",
"clc;\n",
"Rwga=1/400;\n",
"Re=Rwga/5;\n",
"disp(Re,'Resolution (mm)=')"
   ]
   }
,
{
		   "cell_type": "markdown",
		   "metadata": {},
		   "source": [
			"## Example 5.9: Checking_the_suitability_of_the_potentiometer.sci"
		   ]
		  },
  {
"cell_type": "code",
	   "execution_count": null,
	   "metadata": {
	    "collapsed": true
	   },
	   "outputs": [],
"source": [
"// Checking the suitability of the potentiometer\n",
"clc;\n",
"mo=0.8;\n",
"sr=250;\n",
"sm=sr/mo;\n",
"R=sm*1;\n",
"disp(R,'resolution of 1mm movement')\n",
"Rq=300/1000;\n",
"disp(Rq,'resolution required=')\n",
"disp('since the resolution of potentiometer is higher than the resolution required so it is suitable for the application')"
   ]
   }
],
"metadata": {
		  "kernelspec": {
		   "display_name": "Scilab",
		   "language": "scilab",
		   "name": "scilab"
		  },
		  "language_info": {
		   "file_extension": ".sce",
		   "help_links": [
			{
			 "text": "MetaKernel Magics",
			 "url": "https://github.com/calysto/metakernel/blob/master/metakernel/magics/README.md"
			}
		   ],
		   "mimetype": "text/x-octave",
		   "name": "scilab",
		   "version": "0.7.1"
		  }
		 },
		 "nbformat": 4,
		 "nbformat_minor": 0
}
