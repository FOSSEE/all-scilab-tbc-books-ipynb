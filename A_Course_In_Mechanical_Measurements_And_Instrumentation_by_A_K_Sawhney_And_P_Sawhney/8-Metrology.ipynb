{
"cells": [
 {
		   "cell_type": "markdown",
	   "metadata": {},
	   "source": [
       "# Chapter 8: Metrology"
	   ]
	},
{
		   "cell_type": "markdown",
		   "metadata": {},
		   "source": [
			"## Example 8.1: calculate_the_arrangement_of_slip_gauges.sci"
		   ]
		  },
  {
"cell_type": "code",
	   "execution_count": null,
	   "metadata": {
	    "collapsed": true
	   },
	   "outputs": [],
"source": [
"// calculate the arrangement of slip gauges\n",
"clc;\n",
"Dd=52.215;\n",
"disp(Dd,'desired value=')\n",
"Pb=4;\n",
"disp(Pb,'Protected block=')\n",
"R=Dd-Pb;\n",
"disp(R,'Reminder=')\n",
"Tp=1.005;\n",
"disp(Tp,'thousand  block=')\n",
"R=R-Tp;\n",
"disp(R,'Reminder=')\n",
"Hp=1.010;\n",
"disp(Hp,'Hunderths block=')\n",
"R=R-Hp;\n",
"disp(R,'Reminder=')\n",
"Ttp=2.20;\n",
"disp(Ttp,'tenths block=')\n",
"R=R-Ttp;\n",
"disp(R,'Reminder=')\n",
"Up=4;\n",
"disp(Up,'unit block=')\n",
"R=R-Up;\n",
"disp(R,'Reminder=')\n",
"Tp=40;\n",
"disp(Tp,'Tens block=')\n",
"R=R-Tp;\n",
"disp(R,'Reminder=')\n",
"\n",
"\n",
"\n",
"\n",
""
   ]
   }
,
{
		   "cell_type": "markdown",
		   "metadata": {},
		   "source": [
			"## Example 8.2: calculate_the_sensitivity.sci"
		   ]
		  },
  {
"cell_type": "code",
	   "execution_count": null,
	   "metadata": {
	    "collapsed": true
	   },
	   "outputs": [],
"source": [
"// calculate the sensitivity\n",
"clc;\n",
"Ps=200*10^3;\n",
"r=0.6;\n",
"d2=0.5;\n",
"d1=0.5;\n",
"a=(d2/d1^2);\n",
"x1=(1.1-r)/(2*a);\n",
"disp(x1,'x1=')\n",
"r=0.8;\n",
"d2=0.5;\n",
"d1=0.5;\n",
"a=(d2/d1^2);\n",
"x2=(1.1-r)/(2*a);\n",
"disp(x2,'x2=')\n",
"x=x1-x2;\n",
"disp(x,'so the range is x (mm)')\n",
"hS=%pi*d2*10^-3;\n",
"A2=%pi*d2*10^-6*(x1+x2)/2;\n",
"pS=-0.4*Ps/A2;\n",
"pgS=25*10^-3/1000;\n",
"S=hS*pS*pgS;\n",
"disp(S,'sensitivity=')"
   ]
   }
,
{
		   "cell_type": "markdown",
		   "metadata": {},
		   "source": [
			"## Example 8.3: calculate_uncertainity_in_displacement.sci"
		   ]
		  },
  {
"cell_type": "code",
	   "execution_count": null,
	   "metadata": {
	    "collapsed": true
	   },
	   "outputs": [],
"source": [
"// calculate uncertainity in displacement\n",
"Pi=70*10^3;\n",
"r=0.4;\n",
"d2=1.6;\n",
"d1=0.75;\n",
"a=(d2/d1^2);\n",
"x1=(1.1-r)/(2*a);\n",
"disp(x1,'x1=')\n",
"r=0.9;\n",
"x2=(1.1-r)/(2*a);\n",
"disp(x2,'x2=')\n",
"x=x1-x2;\n",
"disp(x,'so the range is x (mm)')\n",
"d=-2*a;\n",
"Wr=12.5/Pi;\n",
"Wx=Wr/d;\n",
"disp(Wx,'uncertainity in displacement (mm)')"
   ]
   }
,
{
		   "cell_type": "markdown",
		   "metadata": {},
		   "source": [
			"## Example 8.4: calculate_difference_between_height_of_workpieces_and_pile_of_slip_gauges.sci"
		   ]
		  },
  {
"cell_type": "code",
	   "execution_count": null,
	   "metadata": {
	    "collapsed": true
	   },
	   "outputs": [],
"source": [
"// calculate difference between height of workpieces and pile of slip gauges\n",
"clc;\n",
"N=12;\n",
"lem=0.644;\n",
"d=N*lem/2;\n",
"disp(d,'difference between height of workpieces and pile of slip gauges (micro-meter)')"
   ]
   }
,
{
		   "cell_type": "markdown",
		   "metadata": {},
		   "source": [
			"## Example 8.5: calculate_seperation_distance_between_two_surfaces_and_angle_of_tilt.sci"
		   ]
		  },
  {
"cell_type": "code",
	   "execution_count": null,
	   "metadata": {
	    "collapsed": true
	   },
	   "outputs": [],
"source": [
"// calculate seperation distance between two surfaces and angle of tilt\n",
"clc;\n",
"N=5;\n",
"lem=546*10^-9;\n",
"d=[(2*N-1)*lem*10^6]/4;\n",
"disp(d,'seperation distance between two surfaces(micro-meter)')\n",
"x=75;\n",
"th=atan(d/x);\n",
"disp(th,'angle of tilt')"
   ]
   }
,
{
		   "cell_type": "markdown",
		   "metadata": {},
		   "source": [
			"## Example 8.6: Calculate_the_difference_in_two_diameters.sci"
		   ]
		  },
  {
"cell_type": "code",
	   "execution_count": null,
	   "metadata": {
	    "collapsed": true
	   },
	   "outputs": [],
"source": [
"// Calculate the difference in two diameters\n",
"clc;\n",
"x=20/12;\n",
"L=50-10;\n",
"lem=0.6;\n",
"d=(L*lem)/(2*x);\n",
"disp(d,'difference in diameters of the rollers(micro-meter)')"
   ]
   }
,
{
		   "cell_type": "markdown",
		   "metadata": {},
		   "source": [
			"## Example 8.7: Calculate_the_change_in_thickness_along_its_length.sci"
		   ]
		  },
  {
"cell_type": "code",
	   "execution_count": null,
	   "metadata": {
	    "collapsed": true
	   },
	   "outputs": [],
"source": [
"// Calculate the change in thickness along its length\n",
"clc;\n",
"d=4.5-2.5;\n",
"Tg=2*(0.5)*0.509;\n",
"disp(Tg,'change in thickness along its length(micro-meter)')"
   ]
   }
],
"metadata": {
		  "kernelspec": {
		   "display_name": "Scilab",
		   "language": "scilab",
		   "name": "scilab"
		  },
		  "language_info": {
		   "file_extension": ".sce",
		   "help_links": [
			{
			 "text": "MetaKernel Magics",
			 "url": "https://github.com/calysto/metakernel/blob/master/metakernel/magics/README.md"
			}
		   ],
		   "mimetype": "text/x-octave",
		   "name": "scilab",
		   "version": "0.7.1"
		  }
		 },
		 "nbformat": 4,
		 "nbformat_minor": 0
}
