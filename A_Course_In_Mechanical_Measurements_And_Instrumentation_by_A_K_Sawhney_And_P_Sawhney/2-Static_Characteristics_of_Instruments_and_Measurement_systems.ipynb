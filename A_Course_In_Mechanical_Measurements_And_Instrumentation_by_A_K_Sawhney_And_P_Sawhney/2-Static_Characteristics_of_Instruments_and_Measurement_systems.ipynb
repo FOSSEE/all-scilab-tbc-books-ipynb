{
"cells": [
 {
		   "cell_type": "markdown",
	   "metadata": {},
	   "source": [
       "# Chapter 2: Static Characteristics of Instruments and Measurement systems"
	   ]
	},
{
		   "cell_type": "markdown",
		   "metadata": {},
		   "source": [
			"## Example 2.10: calculating_the_ratio_of_output_signal_to_noise_signal.sci"
		   ]
		  },
  {
"cell_type": "code",
	   "execution_count": null,
	   "metadata": {
	    "collapsed": true
	   },
	   "outputs": [],
"source": [
"// calculating the ratio of output signal to noise signal \n",
"clc;\n",
"disp('The noise voltage is')\n",
"Bw=100*10^3;\n",
"K=1.38*10^-23;\n",
"T=300;\n",
"R=120;\n",
"A=(K*T*R*Bw)^0.5;\n",
"En=2*A;\n",
"disp(En,'Noise voltage (V)=');\n",
"Eno=0.12*10^-3;\n",
"disp(Eno,'Noise voltage at output(V)=');\n",
"Ra=Eno/En;\n",
"disp(Ra,'Ratio of signal votage to Noise voltage =');"
   ]
   }
,
{
		   "cell_type": "markdown",
		   "metadata": {},
		   "source": [
			"## Example 2.12: calculating_the_average_force_and_range_of_error.sci"
		   ]
		  },
  {
"cell_type": "code",
	   "execution_count": null,
	   "metadata": {
	    "collapsed": true
	   },
	   "outputs": [],
"source": [
"//calculating the average force and range of error\n",
"clc;\n",
"F1=10.03;\n",
"F2=10.10;\n",
"F3=10.11;\n",
"F4=10.08;\n",
"Fav=(F1+F2+F3+F4)/4;\n",
"disp(Fav,'Average Force(N) =');\n",
"Fmax=F3;\n",
"MaxR=Fmax-Fav;\n",
"Fmin=F1;\n",
"MinR=Fav-Fmin;\n",
"AvgR=(MaxR+MinR)/2;\n",
"disp(AvgR,'Average range of error (N)=')"
   ]
   }
,
{
		   "cell_type": "markdown",
		   "metadata": {},
		   "source": [
			"## Example 2.13: EX2_13.sci"
		   ]
		  },
  {
"cell_type": "code",
	   "execution_count": null,
	   "metadata": {
	    "collapsed": true
	   },
	   "outputs": [],
"source": [
"//calculating the sum of resistances connected in series with uncertainity of one unit\n",
"clc;\n",
"R1=72.3;\n",
"R2=2.73;\n",
"R3=0.612;\n",
"R=(R1+R2+R3);\n",
"disp(R,'sum of resistances(ohm) =');\n",
"\n",
"disp('the resultant resistance is 75.6 ohm with 6 as first doutful figure')"
   ]
   }
,
{
		   "cell_type": "markdown",
		   "metadata": {},
		   "source": [
			"## Example 2.14: calculating_the_power_with_uncertainity_of_one_unit_in_voltage_and_current.sci"
		   ]
		  },
  {
"cell_type": "code",
	   "execution_count": null,
	   "metadata": {
	    "collapsed": true
	   },
	   "outputs": [],
"source": [
"//calculating the power with uncertainity of one unit in voltage and current\n",
"clc;\n",
"V=12.16;\n",
"I=1.34;\n",
"P=V*I;\n",
"disp(P,'Power(W) =');\n",
"\n",
"disp('the resultant  is 16.2 W with 2 as first doutful figure')"
   ]
   }
,
{
		   "cell_type": "markdown",
		   "metadata": {},
		   "source": [
			"## Example 2.15: EX2_15.sci"
		   ]
		  },
  {
"cell_type": "code",
	   "execution_count": null,
	   "metadata": {
	    "collapsed": true
	   },
	   "outputs": [],
"source": [
"//calculating the sum of resistances connected in series with appropriate number of significant figure\n",
"clc;\n",
"R1=28.7;\n",
"R2=3.624;\n",
"\n",
"R=(R1+R2);\n",
"disp(R,'sum of resistances(ohm) =');\n",
"\n",
"disp('the resultant resistance is 32.3 ohm as one of the resistance is accurate to three significant figure')"
   ]
   }
,
{
		   "cell_type": "markdown",
		   "metadata": {},
		   "source": [
			"## Example 2.16: calculating_the_voltage_drop_with_appropriate_number_of_significant_figure.sci"
		   ]
		  },
  {
"cell_type": "code",
	   "execution_count": null,
	   "metadata": {
	    "collapsed": true
	   },
	   "outputs": [],
"source": [
"//calculating the voltage drop with appropriate number of significant figure\n",
"clc;\n",
"R=31.27;\n",
"I=4.37;\n",
"\n",
"E=I*R;\n",
"disp(E,'voltage drop(V) =');\n",
"\n",
"disp('the voltage drop is 137 V as one of the resistance is accurate to three significant figure')"
   ]
   }
,
{
		   "cell_type": "markdown",
		   "metadata": {},
		   "source": [
			"## Example 2.17: calculating_the_sensitivity_and_deflection_factor_of_wheatstone_bridge.sci"
		   ]
		  },
  {
"cell_type": "code",
	   "execution_count": null,
	   "metadata": {
	    "collapsed": true
	   },
	   "outputs": [],
"source": [
"//calculating the sensitivity and deflection factor of wheatstone bridge\n",
"clc;\n",
"Mo=3;\n",
"Mi=7;\n",
"Sen=Mo/Mi;\n",
"disp(Sen,'sensitivity(mm per ohm) =');\n",
"Df=Mi/Mo;\n",
"disp(Df,'deflection factor( ohm per mm) =');"
   ]
   }
,
{
		   "cell_type": "markdown",
		   "metadata": {},
		   "source": [
			"## Example 2.18: calculating_the_volume_of_the_mercury_thermometer.sci"
		   ]
		  },
  {
"cell_type": "code",
	   "execution_count": null,
	   "metadata": {
	    "collapsed": true
	   },
	   "outputs": [],
"source": [
"//calculating the volume of the mercury thermometer\n",
"clc;\n",
"Ac=(%pi/4)*0.25^2;\n",
"disp(Ac,'Area of mercury thermometer')\n",
"Lc=13.8*10^3;\n",
"Vc=Ac*Lc;\n",
"disp(Vc,'Volume of mercury thermometer(mm3)')"
   ]
   }
,
{
		   "cell_type": "markdown",
		   "metadata": {},
		   "source": [
			"## Example 2.19: calculating_the_maximum_position_deviation_resistance_deviation.sci"
		   ]
		  },
  {
"cell_type": "code",
	   "execution_count": null,
	   "metadata": {
	    "collapsed": true
	   },
	   "outputs": [],
"source": [
"//calculating the maximum position deviation, resistance deviation \n",
"clc;\n",
"Pl=0.001;\n",
"FSD=320;\n",
"R=10000;\n",
"MDD=(Pl*FSD);\n",
"disp(MDD,'Maximum displacement deviation(degree)=');\n",
"MRD=Pl*R;\n",
"disp(MRD,'Maximum displacement deviation(ohm)=');"
   ]
   }
,
{
		   "cell_type": "markdown",
		   "metadata": {},
		   "source": [
			"## Example 2.1: calculating_static_error_and_static_correction.sci"
		   ]
		  },
  {
"cell_type": "code",
	   "execution_count": null,
	   "metadata": {
	    "collapsed": true
	   },
	   "outputs": [],
"source": [
"// calculating static error and static correction\n",
"clc;\n",
"disp('calculating static error and static correction')\n",
"Am = 127.50;\n",
"At = 127.43;\n",
"e=Am-At;\n",
"disp(e,'Static error(V)=');\n",
"Sc=-e;\n",
"disp(Sc,'Static Correction(V)=');"
   ]
   }
,
{
		   "cell_type": "markdown",
		   "metadata": {},
		   "source": [
			"## Example 2.20: calculating_the_dead_zone.sci"
		   ]
		  },
  {
"cell_type": "code",
	   "execution_count": null,
	   "metadata": {
	    "collapsed": true
	   },
	   "outputs": [],
"source": [
"//calculating the dead zone\n",
"clc;\n",
"disp('span s=')\n",
"s=600;\n",
"Dz=0.00125*s;\n",
"disp(Dz,'Dead zone(degree C)=');"
   ]
   }
,
{
		   "cell_type": "markdown",
		   "metadata": {},
		   "source": [
			"## Example 2.22: calculating_the_Resolution.sci"
		   ]
		  },
  {
"cell_type": "code",
	   "execution_count": null,
	   "metadata": {
	    "collapsed": true
	   },
	   "outputs": [],
"source": [
"//calculating the Resolution\n",
"clc;\n",
"Fs=200;\n",
"D=100;\n",
"SD=Fs/D;\n",
"R=SD/10;\n",
"disp(R,'resolution (V)=')"
   ]
   }
,
{
		   "cell_type": "markdown",
		   "metadata": {},
		   "source": [
			"## Example 2.23: calculating_the_Resolution.sci"
		   ]
		  },
  {
"cell_type": "code",
	   "execution_count": null,
	   "metadata": {
	    "collapsed": true
	   },
	   "outputs": [],
"source": [
"//calculating the Resolution\n",
"clc;\n",
"Fs=9.999;\n",
"D=9999;\n",
"SD=Fs/D;\n",
"R=SD;\n",
"disp(R,'resolution (V)=')"
   ]
   }
,
{
		   "cell_type": "markdown",
		   "metadata": {},
		   "source": [
			"## Example 2.24: calculating_the_reading_of_the_multimeter_and_percentage_error.sci"
		   ]
		  },
  {
"cell_type": "code",
	   "execution_count": null,
	   "metadata": {
	    "collapsed": true
	   },
	   "outputs": [],
"source": [
"//calculating the reading of the multimeter and percentage error\n",
"clc;\n",
"Zl=20000;\n",
"Zo=10000;\n",
"Eo=6;\n",
"El=Eo/(1+Zo/Zl);\n",
"disp(El,'Reading of the multimeter (V)=')\n",
"PE=((El-Eo)/Eo)*100;\n",
"disp(PE,'Percentage error=')"
   ]
   }
,
{
		   "cell_type": "markdown",
		   "metadata": {},
		   "source": [
			"## Example 2.25: calculating_the_reading_of_the_multimeter_and_percentage_error.sci"
		   ]
		  },
  {
"cell_type": "code",
	   "execution_count": null,
	   "metadata": {
	    "collapsed": true
	   },
	   "outputs": [],
"source": [
"//calculating the reading of the multimeter and percentage error\n",
"clc;\n",
"Zl=20000;\n",
"Zo=1000;\n",
"Eo=6;\n",
"El=Eo/(1+Zo/Zl);\n",
"disp(El,'Reading of the multimeter (V)=')\n",
"PE=((El-Eo)/Eo)*100;\n",
"disp(PE,'Percentage error=')"
   ]
   }
,
{
		   "cell_type": "markdown",
		   "metadata": {},
		   "source": [
			"## Example 2.26: calculating_the_loading_error.sci"
		   ]
		  },
  {
"cell_type": "code",
	   "execution_count": null,
	   "metadata": {
	    "collapsed": true
	   },
	   "outputs": [],
"source": [
"//calculating the loading error\n",
"clc;\n",
"Zl=1000;\n",
"Zo=200*200/400;\n",
"Eo=100*200/400;\n",
"El=Eo/(1+Zo/Zl);\n",
"disp(El,'Reading of the multimeter (V)=')\n",
"PE=((El-Eo)/Eo)*100;\n",
"disp(PE,'Percentage loading error=')\n",
"Ac=100+PE;\n",
"disp(Ac,'Accuracy=')"
   ]
   }
,
{
		   "cell_type": "markdown",
		   "metadata": {},
		   "source": [
			"## Example 2.27: calculating_the_voltage_across_the_oscilloscope.sci"
		   ]
		  },
  {
"cell_type": "code",
	   "execution_count": null,
	   "metadata": {
	    "collapsed": true
	   },
	   "outputs": [],
"source": [
"//calculating the voltage across the oscilloscope\n",
"clc;\n",
"C=50*10^-6;\n",
"f=100000;\n",
"disp(f,'frequency=')\n",
"Xc=1/(2*%pi*f*C);\n",
"R=10^6;\n",
"Zl=(R*-%i*Xc)/(R-%i*Xc);\n",
"Eo=1;\n",
"Zo=10*10^3;\n",
"\n",
"El=Eo/(1+Zo/Zl);\n",
"disp(El,'Reading of the multimeter (V)=')"
   ]
   }
,
{
		   "cell_type": "markdown",
		   "metadata": {},
		   "source": [
			"## Example 2.28: EX2_28.sci"
		   ]
		  },
  {
"cell_type": "code",
	   "execution_count": null,
	   "metadata": {
	    "collapsed": true
	   },
	   "outputs": [],
"source": [
"//calculating the actual value of current, measured value of current and percentage error\n",
"clc;\n",
"\n",
"Eo=10-((10*1000)/(1000+1000));\n",
"Zo=((1000*1000)/(1000+1000))+500;\n",
"Io=Eo/Zo;\n",
"disp(Io,'Actual value of current (A)=')\n",
"Zl=100;\n",
"Il=Eo/(Zo+Zl);\n",
"disp(Il,'Measured value of current (A)=')\n",
"PE=((Il-Io)/Io)*100;\n",
"disp(PE,'Percentage loading error=')"
   ]
   }
,
{
		   "cell_type": "markdown",
		   "metadata": {},
		   "source": [
			"## Example 2.29: calculating_the_maximum_available_power.sci"
		   ]
		  },
  {
"cell_type": "code",
	   "execution_count": null,
	   "metadata": {
	    "collapsed": true
	   },
	   "outputs": [],
"source": [
"//calculating the maximum available power\n",
"clc;\n",
"\n",
"Eo=80*10^-3;\n",
"Il=5*10^-9;\n",
"Rl=6*10^6;\n",
"Ro=(Eo/Il)-Rl;\n",
"Pmax=(Eo^2)/(4*Ro);\n",
"\n",
"disp(Pmax,'Maximum available Power(W)=')"
   ]
   }
,
{
		   "cell_type": "markdown",
		   "metadata": {},
		   "source": [
			"## Example 2.2: calculating_true_value_of_the_temperature.sci"
		   ]
		  },
  {
"cell_type": "code",
	   "execution_count": null,
	   "metadata": {
	    "collapsed": true
	   },
	   "outputs": [],
"source": [
"// calculating true value of the temperature\n",
"clc;\n",
"disp('calculating true value of the temperature')\n",
"Am = 95.45;\n",
"Sc=-0.08;\n",
"At=Am+Sc;\n",
"disp(At,'True Temperature(Degree C)=');"
   ]
   }
,
{
		   "cell_type": "markdown",
		   "metadata": {},
		   "source": [
			"## Example 2.3: calculating_Relative_error_expressed_as_a_percentage_of_f_s_d.sci"
		   ]
		  },
  {
"cell_type": "code",
	   "execution_count": null,
	   "metadata": {
	    "collapsed": true
	   },
	   "outputs": [],
"source": [
"// calculating Relative error (expressed as a percentage of f.s.d)\n",
"clc;\n",
"disp('calculating Relative error (expressed as a percentage of f.s.d)')\n",
"Am = 1.46;\n",
"At=1.50;\n",
"e=Am-At;\n",
"disp(e,'Absolute error(V)=');\n",
"Sc=-e;\n",
"disp(Sc,'Absolute Correction(V)=');\n",
"RE=(e/At)*100;\n",
"disp(RE,'Relative Error in terms of true value(in percentage)=');\n",
"REF=(e/2.5)*100;\n",
"disp(REF,'Relative Error in terms of true value(in percentage)=');"
   ]
   }
,
{
		   "cell_type": "markdown",
		   "metadata": {},
		   "source": [
			"## Example 2.4: calculating_static_error_and_static_correction.sci"
		   ]
		  },
  {
"cell_type": "code",
	   "execution_count": null,
	   "metadata": {
	    "collapsed": true
	   },
	   "outputs": [],
"source": [
"// calculating static error and static correction\n",
"clc;\n",
"disp('calculating static error and static correction')\n",
"Am = 0.000161;\n",
"At = 0.159*10^-3;\n",
"e=Am-At;\n",
"disp(e,'Static error(m3/s)=');\n",
"Sc=-e;\n",
"disp(Sc,'Static Correction(m3/s)=');"
   ]
   }
,
{
		   "cell_type": "markdown",
		   "metadata": {},
		   "source": [
			"## Example 2.5: EX2_5.sci"
		   ]
		  },
  {
"cell_type": "code",
	   "execution_count": null,
	   "metadata": {
	    "collapsed": true
	   },
	   "outputs": [],
"source": [
"//calculating maximum static error \n",
"disp('calculating maximum static error');\n",
"//Span of the thermometer(degree C)\n",
"S=200-150;\n",
"//Accuracy of the thermometer(in terms of percentage of span)\n",
"A=0.0025;\n",
"e= A*S;\n",
"disp(e,'Maximum Static error(degree C)=');"
   ]
   }
,
{
		   "cell_type": "markdown",
		   "metadata": {},
		   "source": [
			"## Example 2.6: calculating_the_pressure_for_a_dial_reading_of_100.sci"
		   ]
		  },
  {
"cell_type": "code",
	   "execution_count": null,
	   "metadata": {
	    "collapsed": true
	   },
	   "outputs": [],
"source": [
"// calculating the pressure for a dial reading of 100\n",
"clc;\n",
"disp('calculating the pressure for a dial reading of 100')\n",
"P=((27.58-6.895)/150)*100+6.895;\n",
"\n",
"disp(P,'pressure for a dial reading of 100(kN/m2)=');"
   ]
   }
,
{
		   "cell_type": "markdown",
		   "metadata": {},
		   "source": [
			"## Example 2.7: calculating_the_noise_output_voltage_of_the_amplifier.sci"
		   ]
		  },
  {
"cell_type": "code",
	   "execution_count": null,
	   "metadata": {
	    "collapsed": true
	   },
	   "outputs": [],
"source": [
"// calculating the noise output voltage of the amplifier\n",
"clc;\n",
"disp('calculating the noise output voltage of the amplifier')\n",
"Bw=100*10^3;\n",
"Sn=7*10^-21;\n",
"R=50*10^3;\n",
"A=(Sn*R*Bw)^0.5;\n",
"En=2*A;\n",
"disp(En,'Noise voltage at input(V)=');\n",
"Ga=100;\n",
"Eno=En*Ga;\n",
"disp(Eno,'Noise voltage at output(V)=');\n",
"\n",
""
   ]
   }
,
{
		   "cell_type": "markdown",
		   "metadata": {},
		   "source": [
			"## Example 2.8: calculating_the_noise_voltage.sci"
		   ]
		  },
  {
"cell_type": "code",
	   "execution_count": null,
	   "metadata": {
	    "collapsed": true
	   },
	   "outputs": [],
"source": [
"// calculating the noise voltage\n",
"clc;\n",
"disp('calculating the noise voltage')\n",
"Sn=20;\n",
"Vs=3;\n",
"Vn=Vs/(Sn)^0.5;\n",
"disp(Vn,'noise Voltage(mV)=')"
   ]
   }
,
{
		   "cell_type": "markdown",
		   "metadata": {},
		   "source": [
			"## Example 2.9: EX2_9.sci"
		   ]
		  },
  {
"cell_type": "code",
	   "execution_count": null,
	   "metadata": {
	    "collapsed": true
	   },
	   "outputs": [],
"source": [
"// calculating the signal to noise ratio at input\n",
"// calculating the signal to noise ratio at output\n",
"//calculating the noise factor and noise figure\n",
"clc;\n",
"disp('signal to noise ratio at input')\n",
"Sni=(3*10^-6/(1*10^-6))^2;\n",
"disp(Sni,'signal to noise ratio at input=')\n",
"disp('signal to noise ratio at output')\n",
"Sno=(60*10^-6/(20*10^-6))^2;\n",
"disp(Sno,'signal to noise ratio at output=')\n",
"disp('New signal to noise ratio at output')\n",
"Snno=(60*10^-6/(25*10^-6))^2;\n",
"disp(Snno,'signal to noise ratio at output=')\n",
"F=Sni/Snno;\n",
"disp(F,'noise Factor=')\n",
"nf=10*log10(F);\n",
"disp(nf,'noise Figure(dB)=')"
   ]
   }
],
"metadata": {
		  "kernelspec": {
		   "display_name": "Scilab",
		   "language": "scilab",
		   "name": "scilab"
		  },
		  "language_info": {
		   "file_extension": ".sce",
		   "help_links": [
			{
			 "text": "MetaKernel Magics",
			 "url": "https://github.com/calysto/metakernel/blob/master/metakernel/magics/README.md"
			}
		   ],
		   "mimetype": "text/x-octave",
		   "name": "scilab",
		   "version": "0.7.1"
		  }
		 },
		 "nbformat": 4,
		 "nbformat_minor": 0
}
