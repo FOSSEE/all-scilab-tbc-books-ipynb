{
"cells": [
 {
		   "cell_type": "markdown",
	   "metadata": {},
	   "source": [
       "# Chapter 3: Errors in Measurements and Their Statistical Analysis"
	   ]
	},
{
		   "cell_type": "markdown",
		   "metadata": {},
		   "source": [
			"## Example 3.10: Calculate_the_magnitude_of_power_and_limiting_error.sci"
		   ]
		  },
  {
"cell_type": "code",
	   "execution_count": null,
	   "metadata": {
	    "collapsed": true
	   },
	   "outputs": [],
"source": [
"// Calculate the magnitude of power and limiting error\n",
"clc;\n",
"F=4.58;\n",
"L=397;\n",
"R=1202*10^-9;\n",
"t=60;\n",
"P=(2*%pi*9.81*F*L*R)/(t*10^6);\n",
"disp(P,'Magnitude of power (W)=')\n",
"dF_pu=0.02/F; // per unit error in force\n",
"dL_pu=1.3/L; // per unit error in Length\n",
"dR_pu=1/R; // per unit error in revolution\n",
"dt_pu=0.5/t; // per unit error in time\n",
"dP_pu= dF_pu+dL_pu+dR_pu+dt_pu;\n",
"dP_le=dP_pu*P;\n",
"disp(dP_le,'Magnitude of limiting error in power (W)') "
   ]
   }
,
{
		   "cell_type": "markdown",
		   "metadata": {},
		   "source": [
			"## Example 3.11: Calculate_the_magnitude_of_Force_and_limiting_error.sci"
		   ]
		  },
  {
"cell_type": "code",
	   "execution_count": null,
	   "metadata": {
	    "collapsed": true
	   },
	   "outputs": [],
"source": [
"// Calculate the magnitude of Force and limiting error\n",
"clc;\n",
"E=200*10^9;\n",
"L=25*10^-3;\n",
"b=4.75*10^-3;\n",
"d=0.9*10^-3;\n",
"I=(b*d^3)/12;\n",
"x=2.5*10^-3;\n",
"F=(3*E*I*x)/(L^3);\n",
"disp(F,'Magnitude of Force (N)=')\n",
"dE_pu=0/E; // per unit error in E\n",
"db_pu=0.0075/b; \n",
"dd_pu=0.0075/d;  \n",
"dx_pu=0.025/x; \n",
"dL_pu=0.025/L;\n",
"dF_pu= (dE_pu+db_pu+3*dd_pu+dx_pu+3*dL_pu)*10^-3;\n",
"\n",
"disp(dF_pu,'limiting error in force (N)=+/-') "
   ]
   }
,
{
		   "cell_type": "markdown",
		   "metadata": {},
		   "source": [
			"## Example 3.12: calculate_the_power_loss_and_relative_error.sci"
		   ]
		  },
  {
"cell_type": "code",
	   "execution_count": null,
	   "metadata": {
	    "collapsed": true
	   },
	   "outputs": [],
"source": [
"// calculate the power loss and relative error \n",
"clc;\n",
"I=64*10^-3;\n",
"R=3200;\n",
"P=(I^2)*R;\n",
"disp(P,'Power(W)=')\n",
"Re=2*0.75+0.2;\n",
"disp(Re,'Relative error (%)=')"
   ]
   }
,
{
		   "cell_type": "markdown",
		   "metadata": {},
		   "source": [
			"## Example 3.13: Calculate_the_true_power_as_a_percentage_of_measured_power.sci"
		   ]
		  },
  {
"cell_type": "code",
	   "execution_count": null,
	   "metadata": {
	    "collapsed": true
	   },
	   "outputs": [],
"source": [
"// Calculate the true power as a percentage of measured power\n",
"clc;\n",
"I=30.4;\n",
"R=0.015;\n",
"I_true=I*(1+0.012);\n",
"R_true=R*(1-0.003);\n",
"P_true=(I_true^2)*R_true;\n",
"P_measured=(I^2)*R;\n",
"R=P_true*100/P_measured;\n",
"disp(R,'true power as a percentage of measured power(%)=' )"
   ]
   }
,
{
		   "cell_type": "markdown",
		   "metadata": {},
		   "source": [
			"## Example 3.14: EX3_14.sci"
		   ]
		  },
  {
"cell_type": "code",
	   "execution_count": null,
	   "metadata": {
	    "collapsed": true
	   },
	   "outputs": [],
"source": [
"//calculate the total resistance, error of each register and fractional error of total resistance\n",
"clc;\n",
"R1=250;\n",
"R2=500;\n",
"R3=375;\n",
"R_true=1/((1/R1)+(1/R2)+(1/R3));\n",
"disp(R_true, 'True value of resistance(ohm)=')\n",
"dR1= 0.025*R1;\n",
"dR2=-0.36*R2;\n",
"dR3=0.014*R3;\n",
"R1_effective=R1+dR1;\n",
"R2_effective=R2+dR2;\n",
"R3_effective=R3+dR3;\n",
"R_effective=1/((1/R1_effective)+(1/R2_effective)+(1/R3_effective));\n",
"disp(R_effective, 'Effective value of resistance(ohm)=')\n",
"Fractional_error=(R_true-R_effective)/R_true;\n",
"disp(Fractional_error,'Fractional_error') "
   ]
   }
,
{
		   "cell_type": "markdown",
		   "metadata": {},
		   "source": [
			"## Example 3.15: find_the_error.sci"
		   ]
		  },
  {
"cell_type": "code",
	   "execution_count": null,
	   "metadata": {
	    "collapsed": true
	   },
	   "outputs": [],
"source": [
"//\n",
"clc;\n",
"disp('When all the components have 0% error then resonant frequency (Hz)')\n",
"L=160*10^-6;\n",
"C=160*10^-12;\n",
"fr=[1/(2*%pi)]*[1/(L*C)]^0.5;\n",
"disp(fr)\n",
"disp('When all the components have +10% error then resonant frequency (Hz)')\n",
"L_new=(160*10^-6)+0.1*L;\n",
"C_new=(160*10^-12)+0.1*C;\n",
"fr_new=[1/(2*%pi)]*[1/(L_new*C_new)]^0.5;\n",
"disp(fr_new)\n",
"error=(fr_new-fr)/fr;\n",
"disp(error,'error=')\n",
"disp('When all the components have -10% error then resonant frequency (Hz)')\n",
"L_new=(160*10^-6)-0.1*L;\n",
"C_new=(160*10^-12)-0.1*C;\n",
"fr_new=[1/(2*%pi)]*[1/(L_new*C_new)]^0.5;\n",
"disp(fr_new)\n",
"error=(fr_new-fr)/fr;\n",
"disp(error,'error=')"
   ]
   }
,
{
		   "cell_type": "markdown",
		   "metadata": {},
		   "source": [
			"## Example 3.16: calculate_the_Volume_and_relative_error.sci"
		   ]
		  },
  {
"cell_type": "code",
	   "execution_count": null,
	   "metadata": {
	    "collapsed": true
	   },
	   "outputs": [],
"source": [
"// calculate the Volume and relative error \n",
"clc;\n",
"L=250;\n",
"d=50;\n",
"V=((%pi/4)*d^2)*L;\n",
"disp(V,'Volume(mm3)=')\n",
"Re=2*0.2-0.5;\n",
"disp(Re,'Relative error (%)=')"
   ]
   }
,
{
		   "cell_type": "markdown",
		   "metadata": {},
		   "source": [
			"## Example 3.17: EX3_17.sci"
		   ]
		  },
  {
"cell_type": "code",
	   "execution_count": null,
	   "metadata": {
	    "collapsed": true
	   },
	   "outputs": [],
"source": [
"// calculate the per unit change in the value of spring for different temperature ranges\n",
"clc;\n",
"dG_pu=-240*10^-6;\n",
"dD_pu=11.8*10^-6;\n",
"disp('for temperature change of 20 degree C to 50 degree C (%) =')\n",
"d_th=30;\n",
"dK_pu=(dG_pu+dD_pu)*d_th*100;\n",
"disp(dK_pu)\n",
"disp('for temperature change of 20 degree C to -50 degree C (%) =')\n",
"d_th=-70;\n",
"dK_pu=(dG_pu+dD_pu)*d_th*100;\n",
"disp(dK_pu)"
   ]
   }
,
{
		   "cell_type": "markdown",
		   "metadata": {},
		   "source": [
			"## Example 3.18: Calculate_apparent_resistance_actual_resistance_and_error.sci"
		   ]
		  },
  {
"cell_type": "code",
	   "execution_count": null,
	   "metadata": {
	    "collapsed": true
	   },
	   "outputs": [],
"source": [
"// Calculate apparent resistance, actual resistance and error\n",
"clc;\n",
"Et=100;\n",
"It=5*10^-3;\n",
"Rt=Et/It;\n",
"disp(Rt,'apparent value of resistance (ohm)=')\n",
"Rv=1000*150;\n",
"Rx=Rt*Rv/(Rv-Rt);\n",
"disp(Rx,'true value of resistance(ohm)')\n",
"Er_percentage=[(Rt-Rx)/Rx]*100;\n",
"disp(Er_percentage,'percentage error=')"
   ]
   }
,
{
		   "cell_type": "markdown",
		   "metadata": {},
		   "source": [
			"## Example 3.19: Calculate_apparent_resistance_actual_resistance_and_error.sci"
		   ]
		  },
  {
"cell_type": "code",
	   "execution_count": null,
	   "metadata": {
	    "collapsed": true
	   },
	   "outputs": [],
"source": [
"// Calculate apparent resistance, actual resistance and error\n",
"clc;\n",
"Et=40;\n",
"It=800*10^-3;\n",
"Rt=Et/It;\n",
"disp(Rt,'apparent value of resistance (ohm)=')\n",
"Rv=1000*150;\n",
"Rx=Rt*Rv/(Rv-Rt);\n",
"disp(Rx,'true value of resistance(ohm)')\n",
"Er_percentage=[(Rt-Rx)/Rx]*100;\n",
"disp(Er_percentage,'percentage error=')"
   ]
   }
,
{
		   "cell_type": "markdown",
		   "metadata": {},
		   "source": [
			"## Example 3.1: calculating_guarantee_value_of_capacitance.sci"
		   ]
		  },
  {
"cell_type": "code",
	   "execution_count": null,
	   "metadata": {
	    "collapsed": true
	   },
	   "outputs": [],
"source": [
"// calculating guarantee value of capacitance\n",
"clc;\n",
"As = 1;\n",
"Er=0.05;\n",
"Aau=As*(1+Er);\n",
"disp(Aau,'Upper limit(micro F)=');\n",
"Aal=As*(1-Er);\n",
"disp(Aal,'Lower limit(micro F)=');"
   ]
   }
,
{
		   "cell_type": "markdown",
		   "metadata": {},
		   "source": [
			"## Example 3.20: Calculate_the_error_and_percentage_error_in_the_measurement_of_deflection.sci"
		   ]
		  },
  {
"cell_type": "code",
	   "execution_count": null,
	   "metadata": {
	    "collapsed": true
	   },
	   "outputs": [],
"source": [
"//Calculate the error and percentage error in the measurement of deflection\n",
"clc;\n",
"l=0.2;\n",
"E=200*10^9;\n",
"b=20*10^-3;\n",
"d=5*10^-3;\n",
"D=(4*l^3)/(E*b*d^3);\n",
"F=1*9.81;\n",
"x_true= D*F;\n",
"disp(x_true,'True value of deflection')\n",
"x_indicated=D*10.31/(1+.1*D);\n",
"disp(x_indicated,'Indicated value of deflection')\n",
"Er=x_indicated-x_true;\n",
"disp(Er,'error=')\n",
"Er_percentage=Er*100/x_true;\n",
"disp(Er_percentage,'Percentage error=')"
   ]
   }
,
{
		   "cell_type": "markdown",
		   "metadata": {},
		   "source": [
			"## Example 3.21: EX3_21.sci"
		   ]
		  },
  {
"cell_type": "code",
	   "execution_count": null,
	   "metadata": {
	    "collapsed": true
	   },
	   "outputs": [],
"source": [
"//to find the mean,deviations from the mean, Average deviation, standard deviation and variance\n",
"\n",
"clc;\n",
"x=[532 548 543 535 546 531 543 536];\n",
"X=sum(x);\n",
"n=8; \n",
"a=0;\n",
"Mean=X/n;\n",
"disp(X/n,'mean (kHZ)');\n",
"for i=1:n,\n",
"d(i)=x(i)-Mean\n",
"    disp(d(i),'deviations =')\n",
"  a=a+(abs(d(i)))\n",
"   end \n",
"   d_average=a/n;\n",
"disp(d_average,'Average deviation (kHz)=')\n",
"d_2=sum(d^2);\n",
"s=sqrt(d_2/(n-1))\n",
"disp(s,'standard deviation(kHz)');\n",
"V=s^2;\n",
"disp(V,'varaince (kHZ)2=')"
   ]
   }
,
{
		   "cell_type": "markdown",
		   "metadata": {},
		   "source": [
			"## Example 3.22: to_find_the_mean_standard_deviation_probable_error_and_range.sci"
		   ]
		  },
  {
"cell_type": "code",
	   "execution_count": null,
	   "metadata": {
	    "collapsed": true
	   },
	   "outputs": [],
"source": [
"//to find the mean,standard deviation, probable error and range\n",
"\n",
"clc;\n",
"x=[41.7 42 41.8 42 42.1 41.9 42 41.9 42.5 41.8];\n",
"X=sum(x); disp(X);\n",
"d=[-.27 .03 -.17 .03 .13 -.07 .03 -.07 .53 -.17];\n",
"d_2=sum(d^2);\n",
"n=10;\n",
"disp(X/n,'mean length(deg C)');\n",
"disp(sqrt(d_2/n),'standard deviation(if data is infinite)(deg C)');\n",
"disp(sqrt(d_2/(n-1)),'standard deviation(deg C)');\n",
"r1=.6745*sqrt(d_2/(n-1));\n",
"disp(r1,'probable error of 1 reading(deg C)');\n",
"disp(r1/sqrt(n-1),'probable error of mean(deg C)');\n",
"disp(max(x)-min(x),'range(deg C)');"
   ]
   }
,
{
		   "cell_type": "markdown",
		   "metadata": {},
		   "source": [
			"## Example 3.23: EX3_23.sci"
		   ]
		  },
  {
"cell_type": "code",
	   "execution_count": null,
	   "metadata": {
	    "collapsed": true
	   },
	   "outputs": [],
"source": [
"//to find the arithematic mean, maen deviation,standard deviation, prpobable error of 1 reading, standard deviation and probable error of mean, standard deviation of standard deviation\n",
"\n",
"clc;\n",
"T=[397 398 399 400 401 402 403 404 405];\n",
"f=[1 3 12 23 37 16 4 2 2];\n",
"Tf=sum(abs(T.*f));\n",
"disp(Tf/sum(f),'mean temp(deg C)');\n",
"d=[-3.78 -2.78 -1.78 -.78 .22 1.22 2.22 3.22 4.22];\n",
"disp(sum(f.*d)/sum(f),'mean deviation(deg C)');\n",
"disp(sqrt(sum(f.*d^2)/sum(f)),'standard deviation(deg C)');\n",
"disp(.6745*sqrt(sum(f.*d^2)/sum(f)),'probable error of 1 reading(deg C)');\n",
"disp((.6745*sqrt(sum(f.*d^2)/sum(f)))/sqrt(sum(f)),'probable error of mean(deg C)');\n",
"disp((sqrt(sum(f.*d^2)/sum(f)))/sqrt(sum(f)),'standard deviation of mean(deg C)');\n",
"disp((sqrt(sum(f.*d^2)/sum(f)))/sqrt(sum(f)*2),'standard deviation of standard deviation(deg C)');\n",
"\n",
" "
   ]
   }
,
{
		   "cell_type": "markdown",
		   "metadata": {},
		   "source": [
			"## Example 3.24: to_find_probable_no_of_resistors.sci"
		   ]
		  },
  {
"cell_type": "code",
	   "execution_count": null,
	   "metadata": {
	    "collapsed": true
	   },
	   "outputs": [],
"source": [
"//to find probable no of resistors\n",
"\n",
"clc;\n",
"x=.15;    //deviation \n",
"o=.1;    //standard deviation\n",
"t=x/o;\n",
"A=.4432    //area under gaussian curve corresponding to t\n",
"n=2*A*1000;\n",
"disp(floor(n),'no of resistors');"
   ]
   }
,
{
		   "cell_type": "markdown",
		   "metadata": {},
		   "source": [
			"## Example 3.25: to_find_no_of_100_rsding_exceed_30mm.sci"
		   ]
		  },
  {
"cell_type": "code",
	   "execution_count": null,
	   "metadata": {
	    "collapsed": true
	   },
	   "outputs": [],
"source": [
"//to find no of 100 rsding exceed 30mm\n",
"\n",
"clc;\n",
"x=30-26.3;    //mean value 26.3\n",
"r=2.5;\n",
"o=r/.6745;\n",
"t=x/o;\n",
"A=.3413;//area under gaussian curve corresponding to t\n",
"n=2*A*100;\n",
"nn=100-floor(n);\n",
"disp(nn/2,'no of readings exceed');"
   ]
   }
,
{
		   "cell_type": "markdown",
		   "metadata": {},
		   "source": [
			"## Example 3.26: to_find_no_of_rods_of_desired_length.sci"
		   ]
		  },
  {
"cell_type": "code",
	   "execution_count": null,
	   "metadata": {
	    "collapsed": true
	   },
	   "outputs": [],
"source": [
"//to find no of rods of desired length\n",
"\n",
"clc;\n",
"n=25000;    //no of rods\n",
"n1=12500; //length>10mm\n",
"n2=2000;    //length>10.25\n",
"a=n1-n2;    //10<length<10.25\n",
"p=a/n;\n",
"t=1.41;    //using p\n",
"t1=t*2;\n",
"p1=.4975;\n",
"b=p1*n;    //9.5<length<10\n",
"disp(a+floor(b),'total no of rods');"
   ]
   }
,
{
		   "cell_type": "markdown",
		   "metadata": {},
		   "source": [
			"## Example 3.27: to_find_standard_deviation_and_probability_of_error.sci"
		   ]
		  },
  {
"cell_type": "code",
	   "execution_count": null,
	   "metadata": {
	    "collapsed": true
	   },
	   "outputs": [],
"source": [
"//to find standard deviation and probability of error\n",
"\n",
"clc;\n",
"p=.2;\n",
"x=.8;\n",
"t=.5025;\n",
"sd=x/t;\n",
"disp(sd,'stndard deviation');\n",
"x=1.2;\n",
"t=x/sd;\n",
"p=2*.2743;\n",
"disp(p,'probability of error');"
   ]
   }
,
{
		   "cell_type": "markdown",
		   "metadata": {},
		   "source": [
			"## Example 3.28: to_find_no_of_expected_readings.sci"
		   ]
		  },
  {
"cell_type": "code",
	   "execution_count": null,
	   "metadata": {
	    "collapsed": true
	   },
	   "outputs": [],
"source": [
"//to find no of expected readings\n",
"\n",
"clc;\n",
"x=20;\n",
"h=0.04;\n",
"sd=1/(sqrt(2)*h);\n",
"t=x/sd;\n",
"\n",
"P=.3708;\n",
"disp(ceil(2*P*x),'no of expected readings');"
   ]
   }
,
{
		   "cell_type": "markdown",
		   "metadata": {},
		   "source": [
			"## Example 3.29: to_calculate_precision_index_of_instrument.sci"
		   ]
		  },
  {
"cell_type": "code",
	   "execution_count": null,
	   "metadata": {
	    "collapsed": true
	   },
	   "outputs": [],
"source": [
"//to calculate precision index of instrument\n",
"\n",
"clc;\n",
"t=.675;\n",
"x=2.4;\n",
"sd=x/t;\n",
"h=1/(sqrt(2)*sd);\n",
"disp(h,'precision index');\n",
"t=(50-44)/sd;\n",
"p=.45;\n",
"n=8*30;    //sept month no of measurements\n",
"a=((.5-p)*n);\n",
"disp(a,'no of false alarms');\n",
"\n",
"rn=a/2;    //reduced no of false alarms\n",
"p1=rn/n;\n",
"P=.5-p1;\n",
"t=1.96;\n",
"sd=(50-44)/t;\n",
"h=1/(sqrt(2)*sd);\n",
"disp(h,'precision index');"
   ]
   }
,
{
		   "cell_type": "markdown",
		   "metadata": {},
		   "source": [
			"## Example 3.2: calculating_percentage_limiting_error.sci"
		   ]
		  },
  {
"cell_type": "code",
	   "execution_count": null,
	   "metadata": {
	    "collapsed": true
	   },
	   "outputs": [],
"source": [
"// calculating percentage limiting error\n",
"clc;\n",
"As = 150;\n",
"Er=0.01;\n",
"dA=As*Er;\n",
"As1=75;\n",
"Er=(dA/As1)*100;\n",
"disp(Er,'Percentage limiting error =');"
   ]
   }
,
{
		   "cell_type": "markdown",
		   "metadata": {},
		   "source": [
			"## Example 3.30: to_find_confidence_interval_for_given_confidence_levels.sci"
		   ]
		  },
  {
"cell_type": "code",
	   "execution_count": null,
	   "metadata": {
	    "collapsed": true
	   },
	   "outputs": [],
"source": [
"//to find confidence interval for given confidence levels\n",
"\n",
"clc;\n",
"cl=[.5 .9 .95 .99];\n",
"s=.22;\n",
"d=[.7 1.83 2.26 3.25];\n",
"function [a]=ci(b)\n",
"    a=s*b;\n",
"endfunction\n",
"\n",
"CI(1)=ci(d(1));\n",
"CI(2)=ci(d(2));\n",
"CI(3)=ci(d(3));\n",
"CI(4)=ci(d(4));\n",
"\n",
"disp(CI,'confidence interval');"
   ]
   }
,
{
		   "cell_type": "markdown",
		   "metadata": {},
		   "source": [
			"## Example 3.31: to_point_out_the_reading_that_can_be_rejected_by_chavenets_criterion.sci"
		   ]
		  },
  {
"cell_type": "code",
	   "execution_count": null,
	   "metadata": {
	    "collapsed": true
	   },
	   "outputs": [],
"source": [
"//to point out the reading that can be rejected by chavenets criterion\n",
"\n",
"clc;\n",
"x=[5.3 5.73 6.77 5.26 4.33 5.45 6.09 5.64 5.81 5.75]*10^-3;\n",
"d=[-.313 .117 1.157 -.353 -1.283 -.163 .477 .027 .197 .137]*10^-3;\n",
"n=10;\n",
"X=sum(x)/n;\n",
"s=sqrt(sum(d^2)/(n-1));\n",
"a=abs(d)/s;disp(a);\n",
"\n",
"\n",
"for i=1:10,\n",
"\n",
"if a(i)>1.96 then\n",
"    disp(x(i),'rejected value');\n",
"end \n",
"  end"
   ]
   }
,
{
		   "cell_type": "markdown",
		   "metadata": {},
		   "source": [
			"## Example 3.32: calculate_standard_deviation.sci"
		   ]
		  },
  {
"cell_type": "code",
	   "execution_count": null,
	   "metadata": {
	    "collapsed": true
	   },
	   "outputs": [],
"source": [
"//calculate standard deviation\n",
"\n",
"clc;\n",
"x=[.9 2.3 3.3 4.5 5.7 6.7];\n",
"y=[1.1 1.6 2.6 3.2 4 5];\n",
"n=6;\n",
"a=((n*sum(x.*y)-(sum(x)*sum(y)))/((sum(x^2)*n)-sum(x)^2));\n",
"b=((sum(y)*sum(x^2)-(sum(x)*sum(x.*y)))/((sum(x^2)*n)-sum(x)^2));\n",
"\n",
"sdy=sqrt((1/n)*sum((a*x+b-y)^2));\n",
"sdx=sdy/a;\n",
"\n",
"sa=sqrt(n/(n*sum(x^2)-sum(x)^2))*sdy;\n",
"sb=sqrt(sum(x^2)/(n*sum(x^2)-sum(x)^2))*sdy;\n",
"disp(sa,'s_a');\n",
"disp(sb,'s_b');"
   ]
   }
,
{
		   "cell_type": "markdown",
		   "metadata": {},
		   "source": [
			"## Example 3.34: EX3_34.sci"
		   ]
		  },
  {
"cell_type": "code",
	   "execution_count": null,
	   "metadata": {
	    "collapsed": true
	   },
	   "outputs": [],
"source": [
"//determine value of total current considering errors as limiting errors ans as standrd deviations\n",
"\n",
"clc;\n",
"I1=200;\n",
"I2=100;\n",
"dI1=2;\n",
"dI2=5;\n",
"I=I1+I2;\n",
"dI=((I1/I)*(dI1/I1)+(I2/I)*(dI2/I2));\n",
"disp('error considered as limiting errors');\n",
"disp(I,'I');\n",
"disp(dI*I,'dI');\n",
"sdI=sqrt(dI1^2+dI2^2);\n",
"disp('error considered as standard deviations');\n",
"disp(I,'I');\n",
"disp(sdI,'sdI');"
   ]
   }
,
{
		   "cell_type": "markdown",
		   "metadata": {},
		   "source": [
			"## Example 3.35: determine_probable_error_in_the_computed_value_of_resistnce.sci"
		   ]
		  },
  {
"cell_type": "code",
	   "execution_count": null,
	   "metadata": {
	    "collapsed": true
	   },
	   "outputs": [],
"source": [
"//determine probable error in the computed value of resistnce\n",
"\n",
"clc;\n",
"r_V=12;\n",
"I=10;\n",
"r_Rv=r_V/I;\n",
"V=100;\n",
"r1=2;\n",
"r_Ri=V*r1/I^2;\n",
"r_R=sqrt(r_Rv^2+r_Ri^2);\n",
"disp(r_R,'r_R');"
   ]
   }
,
{
		   "cell_type": "markdown",
		   "metadata": {},
		   "source": [
			"## Example 3.37: to_find_Cq_and_its_possible_errors.sci"
		   ]
		  },
  {
"cell_type": "code",
	   "execution_count": null,
	   "metadata": {
	    "collapsed": true
	   },
	   "outputs": [],
"source": [
"//to find Cq and its possible errors\n",
"\n",
"clc;\n",
"d=12.5;\n",
"A=(%pi/4)*d^2*10^-6;\n",
"W=392;\n",
"t=600;\n",
"p=1000;\n",
"g=9.81;\n",
"h=3.66;\n",
"Cq=W/(t*p*A*sqrt(2*g*h));\n",
"disp(Cq,'Cq');\n",
"dW=.23/W;\n",
"dt=2/t;\n",
"dp=.1/100;\n",
"dA=2*.002;\n",
"dg=.1/100;\n",
"dh=.003/h;\n",
"dd=.002;\n",
"dCq=Cq*(dW+dt+dp+dA+dg/2+dh/2);\n",
"disp(dCq*100/Cq,'%age absolute error');\n",
"\n",
"sdCq=Cq*sqrt(dW^2+dt^2+dp^2+4*dd^2+.25*(dg^2+dh^2));\n",
"disp(sdCq*100/Cq,'%age standard deviation error');"
   ]
   }
,
{
		   "cell_type": "markdown",
		   "metadata": {},
		   "source": [
			"## Example 3.38: calculate_power_disipated_and_uncertaainity_in_power.sci"
		   ]
		  },
  {
"cell_type": "code",
	   "execution_count": null,
	   "metadata": {
	    "collapsed": true
	   },
	   "outputs": [],
"source": [
"//calculate power disipated and uncertaainity in power\n",
"\n",
"clc;\n",
"V=110.2;\n",
"I=5.3;\n",
"P=V*I;disp(P,'power(W) dissipated');\n",
"w_v=.2;\n",
"w_i=0.06;\n",
"dp=sqrt((w_v*I)^2+(w_i*V)^2);\n",
"disp(dp*100/P,'uncertainity in power(%)');"
   ]
   }
,
{
		   "cell_type": "markdown",
		   "metadata": {},
		   "source": [
			"## Example 3.39: to_find_uncertainity_in_combined_resistance_in_both_series_and_in_parrallel.sci"
		   ]
		  },
  {
"cell_type": "code",
	   "execution_count": null,
	   "metadata": {
	    "collapsed": true
	   },
	   "outputs": [],
"source": [
"//to find uncertainity in combined resistance in both series and in parrallel\n",
"\n",
"clc;\n",
"R1=100;\n",
"R2=50;\n",
"wR1=.1;\n",
"wR2=0.03;\n",
"disp('series conn');\n",
"R=R1+R2;disp(R,'resistance(ohm)');\n",
"dR1=1;\n",
"dR2=1;\n",
"wR=sqrt((dR1*wR1)^2+(dR2*wR2)^2);disp(wR,'uncertainity in resistance(ohm)');\n",
"\n",
"disp('parrallel conn');\n",
"R=R1*R2*(R1+R2)^-1;disp(R,'resistance(ohm)');\n",
"dR1=(R2/(R1+R2))-((R1*R2)/(R1+R2)^2);\n",
"dR2=(R1/(R1+R2))-((R1*R2)/(R1+R2)^2);\n",
"wR=sqrt((dR1*wR1)^2+(dR2*wR2)^2);disp(wR,'uncertainity in resistance(ohm)');\n",
""
   ]
   }
,
{
		   "cell_type": "markdown",
		   "metadata": {},
		   "source": [
			"## Example 3.3: Calculate_the_range_of_readings.sci"
		   ]
		  },
  {
"cell_type": "code",
	   "execution_count": null,
	   "metadata": {
	    "collapsed": true
	   },
	   "outputs": [],
"source": [
"// Calculate the range of readings\n",
"clc;\n",
"fsd=1000;\n",
"TP=100;\n",
"Efsd=(1/100)*1000;\n",
"disp(Efsd,'magnitude of Error when specified in terms of full scale deflection (w)=')\n",
"disp('Thus the meter will read between 90W and 110W')\n",
"Etv=(1/100)*100;\n",
"disp(Etv,'magnitude of Error when specified in terms of true value (w)=')\n",
"disp('Thus the meter will read between 99W and 101W')"
   ]
   }
,
{
		   "cell_type": "markdown",
		   "metadata": {},
		   "source": [
			"## Example 3.40: to_calculate_uncertainity_in_measurement.sci"
		   ]
		  },
  {
"cell_type": "code",
	   "execution_count": null,
	   "metadata": {
	    "collapsed": true
	   },
	   "outputs": [],
"source": [
"//to calculate uncertainity in measurement\n",
"\n",
"clc;\n",
"l=150;\n",
"dl=0.01;\n",
"b=50;\n",
"wA=l*dl;\n",
"disp('when no uncertainity in measurement of length');\n",
"disp(wA,'uncertainity in measurement of area(m*m)');\n",
"\n",
"disp('when no certainity in measurement of length');\n",
"wA=1.5*1.5;\n",
"wB=0.01;\n",
"wL=sqrt((wA^2-(l*wB)^2)/b^2);\n",
"disp(wL,'uncertainity in measurement of length(m)');"
   ]
   }
,
{
		   "cell_type": "markdown",
		   "metadata": {},
		   "source": [
			"## Example 3.41: to_calculate_uncertainity_in_power.sci"
		   ]
		  },
  {
"cell_type": "code",
	   "execution_count": null,
	   "metadata": {
	    "collapsed": true
	   },
	   "outputs": [],
"source": [
"//to calculate uncertainity in power\n",
"\n",
"clc;\n",
"E=100;\n",
"dE=.01;\n",
"I=10;\n",
"dI=0.01;\n",
"R=10;\n",
"dR=.01;\n",
"dP=sqrt(4*dE^2+dR^2)*100;    //P=E^2/R\n",
"disp(dP,'%age uncertainity in power measurement');\n",
"\n",
"dP=sqrt(dE^2+dI^2)*100;    //P=E*I\n",
"disp(dP,'%age uncertainity in power measurement');"
   ]
   }
,
{
		   "cell_type": "markdown",
		   "metadata": {},
		   "source": [
			"## Example 3.4: Calculate_the_limiting_error_in_percent.sci"
		   ]
		  },
  {
"cell_type": "code",
	   "execution_count": null,
	   "metadata": {
	    "collapsed": true
	   },
	   "outputs": [],
"source": [
"// Calculate the limiting error in percent\n",
"clc;\n",
"dA=0.05*5*10^-6;\n",
"As=2.5*10^-6;\n",
"Er=(dA/As)*100;\n",
"disp(Er,'percemtage limiting error =+/-')"
   ]
   }
,
{
		   "cell_type": "markdown",
		   "metadata": {},
		   "source": [
			"## Example 3.5: Calculate_the_range_of_readings_specified_interms_of_fsd_and_true_value.sci"
		   ]
		  },
  {
"cell_type": "code",
	   "execution_count": null,
	   "metadata": {
	    "collapsed": true
	   },
	   "outputs": [],
"source": [
"// Calculate the range of readings specified interms of f.s.d. and true value\n",
"clc;\n",
"disp('Range when specified interms of f.s.d.')\n",
"Error_fsd=1*1000/100'\n",
"Range_lower_value=100-Error_fsd;\n",
"disp(Range_lower_value,'Lower value of range (kN/m2)')\n",
"Range_upper_value=100+Error_fsd;\n",
"disp(Range_upper_value,'Upper value of range (kN/m2)')\n",
"disp('Range when specified interms of True value')\n",
"Error_true=1*100/100'\n",
"Range_lower_value=100-Error_true;\n",
"disp(Range_lower_value,'Lower value of range (kN/m2)')\n",
"Range_upper_value=100+Error_true;\n",
"disp(Range_upper_value,'Upper value of range (kN/m2)')"
   ]
   }
,
{
		   "cell_type": "markdown",
		   "metadata": {},
		   "source": [
			"## Example 3.6: EX3_6.sci"
		   ]
		  },
  {
"cell_type": "code",
	   "execution_count": null,
	   "metadata": {
	    "collapsed": true
	   },
	   "outputs": [],
"source": [
"// Calculate the magnitude and limiting error in ohm and in percentage of the resistance\n",
"clc;\n",
"R1=37;\n",
"R1_le=5*R1/100;\n",
"R2=75;\n",
"R2_le=5*R2/100;\n",
"R3=50;\n",
"R3_le=5*R3/100;\n",
"R=R1+R2+R3;\n",
"disp(R,'Value of resistance (ohm)=')\n",
"R_le=R1_le+R2_le+R3_le;\n",
"disp(R_le,'Limiting Value of resistance (ohm)=')\n",
"Limiting_error_percentage=R_le*100/R;\n",
"disp(Limiting_error_percentage,'Limiting Value of resistance (percentage)=+/-')"
   ]
   }
,
{
		   "cell_type": "markdown",
		   "metadata": {},
		   "source": [
			"## Example 3.7: calculate_the_value_of_relative_limiting_error_in_resistance.sci"
		   ]
		  },
  {
"cell_type": "code",
	   "execution_count": null,
	   "metadata": {
	    "collapsed": true
	   },
	   "outputs": [],
"source": [
"// calculate the value of  relative limiting error in resistance\n",
"clc;\n",
"Re_P=1.5;\n",
"Re_I=1;\n",
"Re_resistance=(Re_P+2*Re_I);\n",
"disp(Re_resistance,'the value of  relative limiting error of resistance in percentage(+/-)=')"
   ]
   }
,
{
		   "cell_type": "markdown",
		   "metadata": {},
		   "source": [
			"## Example 3.8: Calculate_the_guaranteed_values_of_the_resistance.sci"
		   ]
		  },
  {
"cell_type": "code",
	   "execution_count": null,
	   "metadata": {
	    "collapsed": true
	   },
	   "outputs": [],
"source": [
"// Calculate the guaranteed values of the resistance\n",
"clc;\n",
"R1=100;\n",
"R1_le_perunit=0.5; // R1_le_perunit indicates dR1/R1 = 0.5%\n",
"R2=1000;\n",
"R2_le_perunit=0.5;\n",
"R3=842;\n",
"R3_le_perunit=0.5;\n",
"Rx=R2*R3/R1;\n",
"disp(Rx,'Value of resistance (ohm)=')\n",
"Rx_le_perunit=R1_le_perunit+R2_le_perunit+R3_le_perunit;\n",
"\n",
"disp(Rx_le_perunit,'Limiting Value of resistance per unit (dRx/Rx)=')\n",
"Er_Le=Rx_le_perunit*Rx/100;\n",
"disp(Er_Le,'Limiting Value of resistance (ohm)=+/-')\n",
"disp('Guarantee value of the resistance (ohm)=')\n",
"G1=Rx+Er_Le;\n",
"G2=Rx-Er_Le;\n",
"disp(G1,G2,'')"
   ]
   }
,
{
		   "cell_type": "markdown",
		   "metadata": {},
		   "source": [
			"## Example 3.9: Calculate_the_percentage_limiting_error_and_range_of_resistance_values.sci"
		   ]
		  },
  {
"cell_type": "code",
	   "execution_count": null,
	   "metadata": {
	    "collapsed": true
	   },
	   "outputs": [],
"source": [
"// Calculate the percentage limiting error and range of resistance values\n",
"clc;\n",
"disp('decade a is set at 4000 ohm, so,error in decade a=')\n",
"Er_a=4000*0.1/100;\n",
"disp(Er_a)\n",
"disp('decade b is set at 600 ohm, so,error in decade b=')\n",
"Er_b=600*0.1/100;\n",
"disp(Er_b)\n",
"disp('decade c is set at 30 ohm, so,error in decade c=')\n",
"Er_c=30*0.1/100;\n",
"disp(Er_c)\n",
"disp('decade d is set at 9 ohm, so,error in decade d=')\n",
"Er_d=9*0.1/100;\n",
"disp(Er_d)\n",
"Er_total=Er_a+Er_b+Er_c+Er_d;\n",
"Re_le_percentage=Er_total*100/4639;\n",
"disp(Re_le_percentage,'Percentage Relative limiting error=')\n",
"Range_lower=4639-Er_total;\n",
"disp(Range_lower,'Lower value of range (ohm)=')\n",
"Range_upper=4639+Er_total;\n",
"disp(Range_upper,'upper value of range (ohm)=')"
   ]
   }
],
"metadata": {
		  "kernelspec": {
		   "display_name": "Scilab",
		   "language": "scilab",
		   "name": "scilab"
		  },
		  "language_info": {
		   "file_extension": ".sce",
		   "help_links": [
			{
			 "text": "MetaKernel Magics",
			 "url": "https://github.com/calysto/metakernel/blob/master/metakernel/magics/README.md"
			}
		   ],
		   "mimetype": "text/x-octave",
		   "name": "scilab",
		   "version": "0.7.1"
		  }
		 },
		 "nbformat": 4,
		 "nbformat_minor": 0
}
