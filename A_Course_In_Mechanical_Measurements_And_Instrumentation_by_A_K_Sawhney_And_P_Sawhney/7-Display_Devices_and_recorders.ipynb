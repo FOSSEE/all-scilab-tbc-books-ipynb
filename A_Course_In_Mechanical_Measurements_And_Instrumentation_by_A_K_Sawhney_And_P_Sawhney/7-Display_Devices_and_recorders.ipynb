{
"cells": [
 {
		   "cell_type": "markdown",
	   "metadata": {},
	   "source": [
       "# Chapter 7: Display Devices and recorders"
	   ]
	},
{
		   "cell_type": "markdown",
		   "metadata": {},
		   "source": [
			"## Example 7.10: Calculating_possible_phase_angles.sci"
		   ]
		  },
  {
"cell_type": "code",
	   "execution_count": null,
	   "metadata": {
	    "collapsed": true
	   },
	   "outputs": [],
"source": [
"// Calculating possible phase angles\n",
"clc;\n",
"disp ('if spot generating pattern moves in the clockwise direction')\n",
"Y1=0;\n",
"Y2=5;\n",
"PA=asind(Y1/Y2);\n",
"disp(PA,'phase angle (degree)')\n",
"Y1=2.5;\n",
"Y2=5;\n",
"PA=asind(Y1/Y2);\n",
"disp(PA,'phase angle (degree)')\n",
"Y1=3.5;\n",
"Y2=5;\n",
"PA=asind(Y1/Y2);\n",
"disp(PA,'phase angle (degree)')\n",
"Y1=2.5;\n",
"Y2=5;\n",
"PA=180-[asind(Y1/Y2)];\n",
"disp(PA,'phase angle (degree)')\n",
""
   ]
   }
,
{
		   "cell_type": "markdown",
		   "metadata": {},
		   "source": [
			"## Example 7.1: calculating_resolution.sci"
		   ]
		  },
  {
"cell_type": "code",
	   "execution_count": null,
	   "metadata": {
	    "collapsed": true
	   },
	   "outputs": [],
"source": [
"// calculating resolution \n",
"clc;\n",
"N = 4;\n",
"R=1/10^N;\n",
"disp(R,'Resolution of the meter=');\n",
"VR=1;\n",
"R1=VR*R;\n",
"disp(R1,'Resolution of the meter for voltage range 1V=');\n",
"VR1=10;\n",
"R2=VR1*R;\n",
"disp(R2,'Resolution of the meter for voltage range 10V=');"
   ]
   }
,
{
		   "cell_type": "markdown",
		   "metadata": {},
		   "source": [
			"## Example 7.2: calculating_resolution.sci"
		   ]
		  },
  {
"cell_type": "code",
	   "execution_count": null,
	   "metadata": {
	    "collapsed": true
	   },
	   "outputs": [],
"source": [
"// calculating resolution \n",
"clc;\n",
"N = 3;\n",
"R=1/10^N;\n",
"disp(R,'Resolution of the meter=');\n",
"disp('12.98 will be displayed as 12.980 on 10V scale')\n",
"VR=1;\n",
"R1=VR*R;\n",
"disp(R1,'Resolution of the meter for voltage range 1V=');\n",
"disp('0.6973 will be displayed as 0.6973 on 1V scale')\n",
"VR1=10;\n",
"R2=VR1*R;\n",
"disp(R2,'Resolution of the meter for voltage range 10V=');\n",
"disp('0.6973 will be displayed as 00.697 on 10V scale')"
   ]
   }
,
{
		   "cell_type": "markdown",
		   "metadata": {},
		   "source": [
			"## Example 7.3: calculating_Total_possible_error_and_percentage_error.sci"
		   ]
		  },
  {
"cell_type": "code",
	   "execution_count": null,
	   "metadata": {
	    "collapsed": true
	   },
	   "outputs": [],
"source": [
"// calculating Total possible error and percentage error\n",
"clc;\n",
"R=5;\n",
"V=0.005*R;\n",
"disp(V,'0.5 percent of the reading')\n",
"TPE=V+0.01;\n",
"disp(TPE,'Total possible error (V)=')\n",
"R1=0.10;\n",
"V1=0.005*R1;\n",
"TPE1=V1+0.01;\n",
"disp(TPE1,'Total possible error (V)=')\n",
"PE=(TPE1/0.1)*100;\n",
"disp(PE,'Percentage error=')"
   ]
   }
,
{
		   "cell_type": "markdown",
		   "metadata": {},
		   "source": [
			"## Example 7.4: calculating_frequency.sci"
		   ]
		  },
  {
"cell_type": "code",
	   "execution_count": null,
	   "metadata": {
	    "collapsed": true
	   },
	   "outputs": [],
"source": [
"// calculating frequency\n",
"clc;\n",
"N=034;\n",
"t=10*10^-3;\n",
"f=N/t;\n",
"disp(f,'frequency(Hz)=')"
   ]
   }
,
{
		   "cell_type": "markdown",
		   "metadata": {},
		   "source": [
			"## Example 7.5: calculating_maximum_error.sci"
		   ]
		  },
  {
"cell_type": "code",
	   "execution_count": null,
	   "metadata": {
	    "collapsed": true
	   },
	   "outputs": [],
"source": [
"// calculating maximum error\n",
"clc;\n",
"R=5*10^6;\n",
"V=0.00005*R;\n",
"disp(V,'0.005 percent of the reading(micro sec)=');\n",
"LSD=1;\n",
"ME=V+1;\n",
"disp(ME,'Maximum error (micro sec)=')\n",
"R=500;\n",
"V=0.00005*R;\n",
"disp(V,'0.005 percent of the reading(sec)=');\n",
"LSD=1;\n",
"ME=V+1;\n",
"disp(ME,'Maximum error (sec)=')"
   ]
   }
,
{
		   "cell_type": "markdown",
		   "metadata": {},
		   "source": [
			"## Example 7.6: calculating_number_of_turns_and_current.sci"
		   ]
		  },
  {
"cell_type": "code",
	   "execution_count": null,
	   "metadata": {
	    "collapsed": true
	   },
	   "outputs": [],
"source": [
"// calculating number of turns and current\n",
"clc;\n",
"D=8*10^-3;\n",
"A=D^2;\n",
"disp(A,'A=')\n",
"J=8*10^-3;\n",
"K=16*10^-3;\n",
"B=4*J*K;\n",
"disp (B,'B=')\n",
"disp('since A<B so the instrument is underdanped')\n",
"th=(100*%pi)/180;\n",
"i=10*10^-3;\n",
"F=0.2*10^-6;\n",
"G=(K*th+F)/i;\n",
"l=65*10^-3;\n",
"d=25*10^-3;\n",
"N=G/(B*l*d);\n",
"disp(N,'number of turns=')\n",
"i=F/G;\n",
"disp(i,'current required to overcome friction (A)')"
   ]
   }
,
{
		   "cell_type": "markdown",
		   "metadata": {},
		   "source": [
			"## Example 7.7: calculating_speed_of_the_tape.sci"
		   ]
		  },
  {
"cell_type": "code",
	   "execution_count": null,
	   "metadata": {
	    "collapsed": true
	   },
	   "outputs": [],
"source": [
"// calculating speed of the tape\n",
"clc;\n",
"Lam=2.5*6.25;\n",
"f=50000;\n",
"S=Lam*10^-6*f;\n",
"disp(S,'speed(m/s)=')"
   ]
   }
,
{
		   "cell_type": "markdown",
		   "metadata": {},
		   "source": [
			"## Example 7.8: calculating_number_density_of_the_tape.sci"
		   ]
		  },
  {
"cell_type": "code",
	   "execution_count": null,
	   "metadata": {
	    "collapsed": true
	   },
	   "outputs": [],
"source": [
"// calculating number density of the tape\n",
"clc;\n",
"ND=12000/1.5;\n",
"disp(ND,'Number density (numbers/mm)')"
   ]
   }
,
{
		   "cell_type": "markdown",
		   "metadata": {},
		   "source": [
			"## Example 7.9: Calculating_possible_phase_angles.sci"
		   ]
		  },
  {
"cell_type": "code",
	   "execution_count": null,
	   "metadata": {
	    "collapsed": true
	   },
	   "outputs": [],
"source": [
"// Calculating possible phase angles\n",
"clc;\n",
"Y1=1.25;\n",
"Y2=2.5;\n",
"PA=asind(Y1/Y2);\n",
"disp(PA,'phase angle (degree)')\n",
"disp('possible angle are 30 degree and 330 degree')"
   ]
   }
],
"metadata": {
		  "kernelspec": {
		   "display_name": "Scilab",
		   "language": "scilab",
		   "name": "scilab"
		  },
		  "language_info": {
		   "file_extension": ".sce",
		   "help_links": [
			{
			 "text": "MetaKernel Magics",
			 "url": "https://github.com/calysto/metakernel/blob/master/metakernel/magics/README.md"
			}
		   ],
		   "mimetype": "text/x-octave",
		   "name": "scilab",
		   "version": "0.7.1"
		  }
		 },
		 "nbformat": 4,
		 "nbformat_minor": 0
}
