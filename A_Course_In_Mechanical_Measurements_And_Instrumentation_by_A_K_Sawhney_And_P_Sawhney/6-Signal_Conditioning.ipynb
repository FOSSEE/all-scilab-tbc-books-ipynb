{
"cells": [
 {
		   "cell_type": "markdown",
	   "metadata": {},
	   "source": [
       "# Chapter 6: Signal Conditioning"
	   ]
	},
{
		   "cell_type": "markdown",
		   "metadata": {},
		   "source": [
			"## Example 6.10: Calculating_Difference_mode_gain_and_output_voltage.sci"
		   ]
		  },
  {
"cell_type": "code",
	   "execution_count": null,
	   "metadata": {
	    "collapsed": true
	   },
	   "outputs": [],
"source": [
"// Calculating Difference mode gain and output voltage\n",
"clc;\n",
"V2=5*10^-3;\n",
"V1=3*10^-3;\n",
"Vo=300*10^-3;\n",
"Vd=V2-V1;\n",
"Ad=Vo/Vd;\n",
"disp(Ad,'difference mode gain=')\n",
"V2=155*10^-3;\n",
"V1=153*10^-3;\n",
"Vo=Ad*(V2-V1);\n",
"disp(Vo,'output voltage (V)=')"
   ]
   }
,
{
		   "cell_type": "markdown",
		   "metadata": {},
		   "source": [
			"## Example 6.11: Calculating_Difference_mode_Common_mode_gain_and_CMRR.sci"
		   ]
		  },
  {
"cell_type": "code",
	   "execution_count": null,
	   "metadata": {
	    "collapsed": true
	   },
	   "outputs": [],
"source": [
"// Calculating Difference mode, Common mode gain and CMRR\n",
"clc;\n",
"Vo=3;\n",
"Vd=30*10^-3;\n",
"Ad=Vo/Vd;\n",
"disp(Ad,'difference mode gain=')\n",
"Vo=5*10^-3;\n",
"Vc=500*10^-3;\n",
"Ac=Vo/Vc;\n",
"disp(Ac,'Common mode gain=')\n",
"CMRR=Ad/Ac;\n",
"disp(CMRR,'Common mode rejection ratio=')"
   ]
   }
,
{
		   "cell_type": "markdown",
		   "metadata": {},
		   "source": [
			"## Example 6.12: Calculating_Signal_to_noise_ratio_and_CMRR.sci"
		   ]
		  },
  {
"cell_type": "code",
	   "execution_count": null,
	   "metadata": {
	    "collapsed": true
	   },
	   "outputs": [],
"source": [
"// Calculating Signal to noise ratio and CMRR\n",
"clc;\n",
"V2=30*10^-3;\n",
"V1=-30*10^-3;\n",
"Vd=V2-V1;\n",
"Ad=150;\n",
"Vos=Ad*Vd;\n",
"Ac=0.04;\n",
"Vc=600*10^-3;\n",
"Von=Ac*Vc;\n",
"SNR=Vos/Von;\n",
"CMRR=Ad/Ac;\n",
"disp(SNR,'Signal to Noise Ratio=')\n",
"\n",
"disp(CMRR,'CMRR=')"
   ]
   }
,
{
		   "cell_type": "markdown",
		   "metadata": {},
		   "source": [
			"## Example 6.13: Calculating_sensitivity_and_output_voltage.sci"
		   ]
		  },
  {
"cell_type": "code",
	   "execution_count": null,
	   "metadata": {
	    "collapsed": true
	   },
	   "outputs": [],
"source": [
"// Calculating sensitivity and output voltage\n",
"clc;\n",
"Ci=10*10^-12;\n",
"Vi=10;\n",
"Eo=8.85*10^-12;\n",
"A=200*10^-6;\n",
"K=-Ci*Vi/(Eo*A);\n",
"disp(K,'sensitivity (V/mm)=')\n",
"d=1*10^-6;\n",
"Vo=K*d;\n",
"disp(Vo,'output voltage (V)=')"
   ]
   }
,
{
		   "cell_type": "markdown",
		   "metadata": {},
		   "source": [
			"## Example 6.14: calculating_minimum_maximum_time_constants_and_value_of_frequencies.sci"
		   ]
		  },
  {
"cell_type": "code",
	   "execution_count": null,
	   "metadata": {
	    "collapsed": true
	   },
	   "outputs": [],
"source": [
"// calculating minimum, maximum time constants and value of frequencies\n",
"clc;\n",
"MXtc= 10^10*1000*10^-12;\n",
"disp(MXtc,'Maximum time constant (s)');\n",
"MNtc= 10^8*10*10^-12;\n",
"disp(MNtc,'Minimum time constant (s)');\n",
"AR=0.95;\n",
"fmin=(AR)/[2*%pi*MXtc*(1-AR^2)^0.5];\n",
"disp(fmin,'minimum frequency (Hz)')\n",
"fmax=(AR)/[2*%pi*MNtc*(1-AR^2)^0.5];\n",
"disp(fmax,'Maximum frequency (Hz)')"
   ]
   }
,
{
		   "cell_type": "markdown",
		   "metadata": {},
		   "source": [
			"## Example 6.15: calculating_time_constant_and_value_of_capacitance.sci"
		   ]
		  },
  {
"cell_type": "code",
	   "execution_count": null,
	   "metadata": {
	    "collapsed": true
	   },
	   "outputs": [],
"source": [
"// calculating  time constant and value of capacitance\n",
"clc;\n",
"g=0.501;\n",
"f=50;\n",
"w=2*%pi*f;\n",
"tc=(1-g^2)^0.5/(w*g);\n",
"disp(tc,'time constant (s)')\n",
"R=10000;\n",
"C=(tc/R)*10^6;\n",
"disp(C,'capacitance (micro-F)')"
   ]
   }
,
{
		   "cell_type": "markdown",
		   "metadata": {},
		   "source": [
			"## Example 6.16: calcuating_the_passband_gain_and_upper_and_lower_cut_off_frequencies.sci"
		   ]
		  },
  {
"cell_type": "code",
	   "execution_count": null,
	   "metadata": {
	    "collapsed": true
	   },
	   "outputs": [],
"source": [
"// calcuating the passband gain and upper & lower cut off frequencies\n",
"clc;\n",
"R1=10*10^3;\n",
"R2=1*10^6;\n",
"A=R2/(R1+R2);\n",
"disp(A,'gain=')\n",
"C2=(0.01)*10^-6;\n",
"C1=100*10^-12;\n",
"fcl=1/(2*%pi*C2*R2);\n",
"disp(fcl,'lower cut off frequency (Hz)')\n",
"fcu=1/(2*%pi*R1*C1);\n",
"disp(fcu,'upper cut off frequency (Hz)')"
   ]
   }
,
{
		   "cell_type": "markdown",
		   "metadata": {},
		   "source": [
			"## Example 6.17: calcuating_the_value_of_C.sci"
		   ]
		  },
  {
"cell_type": "code",
	   "execution_count": null,
	   "metadata": {
	    "collapsed": true
	   },
	   "outputs": [],
"source": [
"// calcuating the value of C\n",
"clc;\n",
"R=1*10^6;\n",
"fo=10*10^3;\n",
"C=1/(2*%pi*fo*R);\n",
"disp(C,'the value of C (F)')"
   ]
   }
,
{
		   "cell_type": "markdown",
		   "metadata": {},
		   "source": [
			"## Example 6.19: calculate_the_output_voltage_and_sensitivity.sci"
		   ]
		  },
  {
"cell_type": "code",
	   "execution_count": null,
	   "metadata": {
	    "collapsed": true
	   },
	   "outputs": [],
"source": [
"// calculate the output voltage and sensitivity\n",
"clc;\n",
"Rt=100;\n",
"K=1;\n",
"Rb=K*Rt;\n",
"ei=10;\n",
"disp('When K=1')\n",
"eo=[(K*Rt/Rb)/(1+(K*Rt/Rb))]*ei;\n",
"disp(eo,'output voltage (V)= ')\n",
"Se=(ei*Rb)/[(Rb+K*Rt)^2];\n",
"disp(Se,'sensitivity (V/ohm)= ')\n",
"K=0.95;\n",
"disp('When K=0.95')\n",
"eo=[(K*Rt/Rb)/(1+(K*Rt/Rb))]*ei;\n",
"disp(eo,'output voltage (V)= ')\n",
"Se=(ei*Rb)/[(Rb+K*Rt)^2];\n",
"disp(Se,'sensitivity (V/ohm)= ')"
   ]
   }
,
{
		   "cell_type": "markdown",
		   "metadata": {},
		   "source": [
			"## Example 6.1: calculating_feedback_resistance.sci"
		   ]
		  },
  {
"cell_type": "code",
	   "execution_count": null,
	   "metadata": {
	    "collapsed": true
	   },
	   "outputs": [],
"source": [
"// calculating feedback resistance \n",
"clc;\n",
"A=100;\n",
"R1=1*10^3;\n",
"Rf=-A*R1;\n",
"disp(Rf,'feedback resistance (ohm)=');"
   ]
   }
,
{
		   "cell_type": "markdown",
		   "metadata": {},
		   "source": [
			"## Example 6.20: calculate_the_output_voltage_for_different_values_of_K.sci"
		   ]
		  },
  {
"cell_type": "code",
	   "execution_count": null,
	   "metadata": {
	    "collapsed": true
	   },
	   "outputs": [],
"source": [
"// calculate the output voltage for different values of K\n",
"clc;\n",
"ei=100;\n",
"K=0.25;\n",
"disp('When K=0.25')\n",
"eo=[(K/6)/(1+(K/6))]*ei;\n",
"disp(eo,'output voltage (V)= ')\n",
"K=0.5;\n",
"disp('When K=0.5')\n",
"eo=[(K/6)/(1+(K/6))]*ei;\n",
"disp(eo,'output voltage (V)= ')\n",
"K=0.6;\n",
"disp('When K=0.6')\n",
"eo=[(K/6)/(1+(K/6))]*ei;\n",
"disp(eo,'output voltage (V)= ')\n",
"K=0.8;\n",
"disp('When K=0.8')\n",
"eo=[(K/6)/(1+(K/6))]*ei;\n",
"disp(eo,'output voltage (V)= ')"
   ]
   }
,
{
		   "cell_type": "markdown",
		   "metadata": {},
		   "source": [
			"## Example 6.21: calculating_the_resistance_and_output_voltage.sci"
		   ]
		  },
  {
"cell_type": "code",
	   "execution_count": null,
	   "metadata": {
	    "collapsed": true
	   },
	   "outputs": [],
"source": [
"// calculating the resistance and output voltage\n",
"clc;\n",
"R2=119;\n",
"R3=119.7;\n",
"R1=120.4;\n",
"R4=R2*R3/R1;\n",
"R4=121.2;\n",
"ei=12;\n",
"eo=[(R1*R4-R2*R3)/((R1+R3)*(R2+R4))]*ei;\n",
"disp(eo, 'output voltage (V)=')"
   ]
   }
,
{
		   "cell_type": "markdown",
		   "metadata": {},
		   "source": [
			"## Example 6.22: Calculating_the_bridge_output.sci"
		   ]
		  },
  {
"cell_type": "code",
	   "execution_count": null,
	   "metadata": {
	    "collapsed": true
	   },
	   "outputs": [],
"source": [
"// Calculating the bridge output\n",
"clc;\n",
"ei=6;\n",
"R=10000;\n",
"disp('if dR=0.05R')\n",
"dR=0.05*R;\n",
"eo=[(dR/R)/(4+2*(dR/R))]*ei;\n",
"disp(eo,'output voltage (V)')\n",
"disp('if dR=-0.05R')\n",
"dR=-0.05*R;\n",
"eo=[(dR/R)/(4+2*(dR/R))]*ei;\n",
"disp(eo,'output voltage (V)')"
   ]
   }
,
{
		   "cell_type": "markdown",
		   "metadata": {},
		   "source": [
			"## Example 6.23: Calculating_the_resistance_of_unknown_resistance.sci"
		   ]
		  },
  {
"cell_type": "code",
	   "execution_count": null,
	   "metadata": {
	    "collapsed": true
	   },
	   "outputs": [],
"source": [
"// Calculating the resistance of unknown resistance\n",
"clc;\n",
"R2=800;\n",
"R3=800;\n",
"R4=800;\n",
"Rm=100;\n",
"R=800;\n",
"ei=4;\n",
"im=0.8*10^-6;\n",
"dR=(im*R^2)*(4*(1+Rm/R))/ei;\n",
"R1=R+dR;\n",
"disp(R1,'Resistance of unknown resistor (ohm)=')"
   ]
   }
,
{
		   "cell_type": "markdown",
		   "metadata": {},
		   "source": [
			"## Example 6.24: calculating_the_current.sci"
		   ]
		  },
  {
"cell_type": "code",
	   "execution_count": null,
	   "metadata": {
	    "collapsed": true
	   },
	   "outputs": [],
"source": [
"// calculating the current\n",
"clc;\n",
"R2=1000;\n",
"R3=1000;\n",
"R1=1010;\n",
"R4=1000;\n",
"ei=100;\n",
"eo=[(R1*R4-R2*R3)/((R1+R3)*(R2+R4))]*ei;\n",
"disp(eo, 'open circuit voltage (V)=')\n",
"Ro=[R1*R4/(R1+R4)]+[R2*R3/(R2+R3)];\n",
"Rm=4000;\n",
"im=eo/(Ro+Rm);\n",
"disp(im,'current (A)=')"
   ]
   }
,
{
		   "cell_type": "markdown",
		   "metadata": {},
		   "source": [
			"## Example 6.25: EX6_25.sci"
		   ]
		  },
  {
"cell_type": "code",
	   "execution_count": null,
	   "metadata": {
	    "collapsed": true
	   },
	   "outputs": [],
"source": [
"// Calculating maximum permissible current through strain gauge, supply voltage\n",
"// and Power dissipation in series resistance \n",
"clc;\n",
"R=100;\n",
"P=250*10^-3;\n",
"i=(P/R)^0.5;\n",
"disp(i,'maximum permissible current (A)=') \n",
"ei=2*i*R;\n",
"disp(ei,'maximum supply voltage (V)=')\n",
"Rs=100;\n",
"Ps=10^2/Rs;\n",
"disp(Ps,'Power dissipation in series resistance (W)')"
   ]
   }
,
{
		   "cell_type": "markdown",
		   "metadata": {},
		   "source": [
			"## Example 6.26: Calculating_the_maximum_voltage_sensitivity_of_the_bridge.sci"
		   ]
		  },
  {
"cell_type": "code",
	   "execution_count": null,
	   "metadata": {
	    "collapsed": true
	   },
	   "outputs": [],
"source": [
"// Calculating  the maximum voltage sensitivity of the bridge\n",
"clc;\n",
"P=(0.1/0.2)*10^-3;\n",
"R=1000;\n",
"eim=2*(P*R)^0.5;\n",
"dth=0.1;\n",
"dR=(4.5/100)*dth*R;\n",
"eom=(dR/(4*R))*eim;\n",
"Sem=eom/dth;\n",
"disp(Sem,'maximum voltage sensitivity of the bridge (V)=')"
   ]
   }
,
{
		   "cell_type": "markdown",
		   "metadata": {},
		   "source": [
			"## Example 6.27: EX6_27.sci"
		   ]
		  },
  {
"cell_type": "code",
	   "execution_count": null,
	   "metadata": {
	    "collapsed": true
	   },
	   "outputs": [],
"source": [
"// Calculating the resolution of the instrument, quantization error and decesion levels\n",
"clc;\n",
"Reso=10*10^-3/10;\n",
"disp (Reso,'resolution of the instrument=')\n",
"n=10;\n",
"Q=10/2^n;\n",
"Eq=Q/(2*3^0.5);\n",
"disp (Eq,'quantization error=')\n",
"D=(2^n)-1;\n",
"disp (D,'decesion levels=')"
   ]
   }
,
{
		   "cell_type": "markdown",
		   "metadata": {},
		   "source": [
			"## Example 6.28: Calculating_the_weight_of_MSB_and_LSB.sci"
		   ]
		  },
  {
"cell_type": "code",
	   "execution_count": null,
	   "metadata": {
	    "collapsed": true
	   },
	   "outputs": [],
"source": [
"// Calculating the weight of MSB and LSB\n",
"clc;\n",
"Ra=10;\n",
"b=5;\n",
"Wmsb=Ra/2;\n",
"disp(Wmsb,'weight of MSB (V)=')\n",
"Wlsb=Ra/2^b;\n",
"disp(Wlsb,'weight of LSB (V)=')"
   ]
   }
,
{
		   "cell_type": "markdown",
		   "metadata": {},
		   "source": [
			"## Example 6.29: Calculating_reference_voltage_and_percentage_change.sci"
		   ]
		  },
  {
"cell_type": "code",
	   "execution_count": null,
	   "metadata": {
	    "collapsed": true
	   },
	   "outputs": [],
"source": [
"// Calculating reference voltage and percentage change\n",
"clc;\n",
"E=10;\n",
"ER=E*256/255;\n",
"disp(ER,'Reference voltage (V)=')\n",
"n=8;\n",
"CVlsb=(2^-n)*ER;\n",
"PC=CVlsb*100/E;\n",
"disp(PC,'Percentage change =')"
   ]
   }
,
{
		   "cell_type": "markdown",
		   "metadata": {},
		   "source": [
			"## Example 6.2: calculating_the_closed_loop_gain.sci"
		   ]
		  },
  {
"cell_type": "code",
	   "execution_count": null,
	   "metadata": {
	    "collapsed": true
	   },
	   "outputs": [],
"source": [
"// calculating the closed loop gain\n",
"clc;\n",
"Rf=10;\n",
"R1=1;\n",
"Avol=200000;\n",
"A=-(Rf/R1)*(1/[1+(1/Avol)*((R1+Rf)/R1)]);\n",
"disp(A,'closed loop gain=')"
   ]
   }
,
{
		   "cell_type": "markdown",
		   "metadata": {},
		   "source": [
			"## Example 6.30: EX6_30.sci"
		   ]
		  },
  {
"cell_type": "code",
	   "execution_count": null,
	   "metadata": {
	    "collapsed": true
	   },
	   "outputs": [],
"source": [
"// Calculating the number of bits, Value of LSB, Quantization error,minimum sampling rate Aperature time and dynamic range\n",
"clc;\n",
"n=14;\n",
"disp(n,'number of bits =')\n",
"E=10;\n",
"Q=10;\n",
"LSB=E/2^n;\n",
"disp(LSB,'Value of LSB (V) =')\n",
"Eq=Q/(2*(3^0.5));\n",
"disp(Eq,'Quantization error (V) =')\n",
"fh=1000;\n",
"fs=5*fh;\n",
"disp(fs,'minimum sampling rate (Hz) =')\n",
"a=1/16384;\n",
"ta=1/(2*%pi*fh)*a;\n",
"disp(ta,'Aperature time (s) =')\n",
"Dr=6*n;\n",
"disp(Dr,'dynamic range (db) =')"
   ]
   }
,
{
		   "cell_type": "markdown",
		   "metadata": {},
		   "source": [
			"## Example 6.31: Calculating_the_value_of_resistance_and_smallest_output_current.sci"
		   ]
		  },
  {
"cell_type": "code",
	   "execution_count": null,
	   "metadata": {
	    "collapsed": true
	   },
	   "outputs": [],
"source": [
"// Calculating the value of resistance and smallest output current\n",
"clc;\n",
"ER=10;\n",
"n=6;\n",
"Imax=10*10^-3;\n",
"R=ER*((2^n)-1)/[(2^(n-2))*Imax];\n",
"disp(R,'resistance (ohm)=')\n",
"LSB=ER/[(2^(n-1))*R];\n",
"disp(LSB,'smallest output current (A)')"
   ]
   }
,
{
		   "cell_type": "markdown",
		   "metadata": {},
		   "source": [
			"## Example 6.32: Calculating_the_output_voltage.sci"
		   ]
		  },
  {
"cell_type": "code",
	   "execution_count": null,
	   "metadata": {
	    "collapsed": true
	   },
	   "outputs": [],
"source": [
"// Calculating the output voltage\n",
"clc;\n",
"n=6;\n",
"R=10000;\n",
"Io= (10/10*10^3)*{1*1+1*0.5+1*0.25+0*0.125+1*0.0625}*10^-6;\n",
"Rf=5000;\n",
"Eo=-Io*Rf;\n",
"disp(Eo,'Output voltage (V)=')"
   ]
   }
,
{
		   "cell_type": "markdown",
		   "metadata": {},
		   "source": [
			"## Example 6.33: Calculate_the_output_of_successive_approximation_A_to_D.sci"
		   ]
		  },
  {
"cell_type": "code",
	   "execution_count": null,
	   "metadata": {
	    "collapsed": true
	   },
	   "outputs": [],
"source": [
"// Calculate the output of successive approximation A/D\n",
"clc;\n",
"disp('Set d3=1')\n",
"Output=5/2^1;\n",
"disp('since 3.217>2.5  so d3=1')\n",
"disp('Set d2=1')\n",
"Output=(5/2^1)+(5/2^2);\n",
"disp('since 3.217< 3.75  so d2=0')\n",
"disp('Set d1=1')\n",
"Output=(5/2^1)+(5/2^3);\n",
"disp('since 3.217>3.125  so d1=1')\n",
"disp('Set d0=1')\n",
"Output=(5/2^1)+(5/2^3)+(5/2^4);\n",
"disp('since 3.217<3.4375  so d0=0')\n",
"disp('Output of successive approximation A/D = 1010')"
   ]
   }
,
{
		   "cell_type": "markdown",
		   "metadata": {},
		   "source": [
			"## Example 6.34: to_calculate_op_dc_voltage.sci"
		   ]
		  },
  {
"cell_type": "code",
	   "execution_count": null,
	   "metadata": {
	    "collapsed": true
	   },
	   "outputs": [],
"source": [
"//to calculate o/p dc voltage\n",
"\n",
"clc;\n",
"t=400;\n",
"T=t/4;\n",
"C=1*10^-6;\n",
"v=20;\n",
"i=C*100*v/(T);\n",
"R=1*10^3;\n",
"e_o=i*R;\n",
"disp(e_o,'output voltage(V)');"
   ]
   }
,
{
		   "cell_type": "markdown",
		   "metadata": {},
		   "source": [
			"## Example 6.3: calculating_the_maximum_output_voltage.sci"
		   ]
		  },
  {
"cell_type": "code",
	   "execution_count": null,
	   "metadata": {
	    "collapsed": true
	   },
	   "outputs": [],
"source": [
"// calculating the maximum output voltage\n",
"clc;\n",
"Sa=10;\n",
"disp(Sa, 'saturation voltage=')\n",
"Vom=Sa;\n",
"disp(Vom,'maximum output voltage')"
   ]
   }
,
{
		   "cell_type": "markdown",
		   "metadata": {},
		   "source": [
			"## Example 6.4: calculating_output_voltage_due_to_offset_voltage.sci"
		   ]
		  },
  {
"cell_type": "code",
	   "execution_count": null,
	   "metadata": {
	    "collapsed": true
	   },
	   "outputs": [],
"source": [
"// calculating output voltage due to offset voltage\n",
"clc;\n",
"Vos=5*10^-3;\n",
"Rf=10;\n",
"R1=1;\n",
"Vo=-Vos*(1+Rf/R1);\n",
"disp(Vo,'output voltage due to offset voltage (V)=')"
   ]
   }
,
{
		   "cell_type": "markdown",
		   "metadata": {},
		   "source": [
			"## Example 6.5: calculating_Amplification_factor.sci"
		   ]
		  },
  {
"cell_type": "code",
	   "execution_count": null,
	   "metadata": {
	    "collapsed": true
	   },
	   "outputs": [],
"source": [
"// calculating Amplification factor\n",
"clc;\n",
"\n",
"Rf=10;\n",
"R1=1;\n",
"A=Rf/R1;\n",
"disp(A,'Amplification Factor=')"
   ]
   }
,
{
		   "cell_type": "markdown",
		   "metadata": {},
		   "source": [
			"## Example 6.6: calculating_output_voltage_due_to_offset_voltage.sci"
		   ]
		  },
  {
"cell_type": "code",
	   "execution_count": null,
	   "metadata": {
	    "collapsed": true
	   },
	   "outputs": [],
"source": [
"// calculating output voltage due to offset voltage\n",
"clc;\n",
"V1=1;\n",
"V2=-2;\n",
"Rf=500;\n",
"R1=250;\n",
"R2=100;\n",
"Vo=-{[(Rf/R1)*V1]+[(Rf/R2)*V2]};\n",
"disp(Vo,'output voltage(V)=')"
   ]
   }
,
{
		   "cell_type": "markdown",
		   "metadata": {},
		   "source": [
			"## Example 6.7: calculating_gain_and_feedback_resistance.sci"
		   ]
		  },
  {
"cell_type": "code",
	   "execution_count": null,
	   "metadata": {
	    "collapsed": true
	   },
	   "outputs": [],
"source": [
"// calculating gain and feedback resistance\n",
"clc;\n",
"\n",
"Rf=100*10^3;\n",
"R1=1*10^3;\n",
"A=Rf/R1;\n",
"disp(A,'Gain=')\n",
"disp('If multiplier is 10')\n",
"A=10;\n",
"Rf=A*R1;\n",
"disp(Rf, 'feedback resistance (Ohm)=')"
   ]
   }
,
{
		   "cell_type": "markdown",
		   "metadata": {},
		   "source": [
			"## Example 6.8: Calculating_the_values_of_resistances.sci"
		   ]
		  },
  {
"cell_type": "code",
	   "execution_count": null,
	   "metadata": {
	    "collapsed": true
	   },
	   "outputs": [],
"source": [
"// Calculating the values of resistances\n",
"clc;\n",
"g=10;\n",
"Rf=10;\n",
"R1=Rf/g;\n",
"disp(R1,'resistance R1(Kilo-ohms)=')\n",
"R2=Rf/(0.5*g);\n",
"disp(R2,'resistance R1(Kilo-ohms)=')\n",
"R3=Rf/(0.333*g);\n",
"disp(R3,'resistance R1(Kilo-ohms)=')"
   ]
   }
,
{
		   "cell_type": "markdown",
		   "metadata": {},
		   "source": [
			"## Example 6.9: Calculating_the_value_of_resistance_and_capacitance.sci"
		   ]
		  },
  {
"cell_type": "code",
	   "execution_count": null,
	   "metadata": {
	    "collapsed": true
	   },
	   "outputs": [],
"source": [
"// Calculating the value of resistance and capacitance\n",
"clc;\n",
"Voramp=-10;\n",
"disp('if voltage source is 10V then RC= 1 ms and if C=1 micro-F')\n",
"C=1;\n",
"R=1*10^-3*10^6;\n",
"disp(R,'value of resistance (ohm)= ')"
   ]
   }
],
"metadata": {
		  "kernelspec": {
		   "display_name": "Scilab",
		   "language": "scilab",
		   "name": "scilab"
		  },
		  "language_info": {
		   "file_extension": ".sce",
		   "help_links": [
			{
			 "text": "MetaKernel Magics",
			 "url": "https://github.com/calysto/metakernel/blob/master/metakernel/magics/README.md"
			}
		   ],
		   "mimetype": "text/x-octave",
		   "name": "scilab",
		   "version": "0.7.1"
		  }
		 },
		 "nbformat": 4,
		 "nbformat_minor": 0
}
