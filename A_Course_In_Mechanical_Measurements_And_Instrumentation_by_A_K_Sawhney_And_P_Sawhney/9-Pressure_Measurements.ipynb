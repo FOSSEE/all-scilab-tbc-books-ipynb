{
"cells": [
 {
		   "cell_type": "markdown",
	   "metadata": {},
	   "source": [
       "# Chapter 9: Pressure Measurements"
	   ]
	},
{
		   "cell_type": "markdown",
		   "metadata": {},
		   "source": [
			"## Example 9.10: calculate_diameter_of_the_tube.sci"
		   ]
		  },
  {
"cell_type": "code",
	   "execution_count": null,
	   "metadata": {
	    "collapsed": true
	   },
	   "outputs": [],
"source": [
"// calculate diameter of the tube\n",
"clc;\n",
"P=100*10^3;\n",
"g=9.81;\n",
"di=10*10^-3;\n",
"D=40*10^-3;\n",
"A= (%pi/4)*D^2;\n",
"dm=13.6*10^3;\n",
"a=A/[P/(dm*g*di)-1];\n",
"d=(4*a/%pi)^0.5*10^3;\n",
"disp(d,'diameter of the tube(mm)')"
   ]
   }
,
{
		   "cell_type": "markdown",
		   "metadata": {},
		   "source": [
			"## Example 9.11: calculate_amplification_ratio_and_percentage_error.sci"
		   ]
		  },
  {
"cell_type": "code",
	   "execution_count": null,
	   "metadata": {
	    "collapsed": true
	   },
	   "outputs": [],
"source": [
"// calculate amplification ratio and percentage error\n",
"clc;\n",
"AR=1/(0.83-0.8);\n",
"disp(AR,'Amplification ratio')\n",
"D=50*10^-3;\n",
"A= (%pi/4)*D^2;\n",
"d=6*10^-3;\n",
"a= (%pi/4)*d^2;\n",
"PR=(a/A)*100;\n",
"disp(PR,'percentage error')"
   ]
   }
,
{
		   "cell_type": "markdown",
		   "metadata": {},
		   "source": [
			"## Example 9.12: calculate_value_of_counter_weight_required.sci"
		   ]
		  },
  {
"cell_type": "code",
	   "execution_count": null,
	   "metadata": {
	    "collapsed": true
	   },
	   "outputs": [],
"source": [
"// calculate value of counter weight required\n",
"clc;\n",
"P=981;\n",
"g=9.81;\n",
"d=500*10^-3;\n",
"A= (%pi/4)*(10*10^-3)^2;\n",
"R=275*10^-3;\n",
"th=30;\n",
"W=A*d*P/(2*g*R*sind(th));\n",
"disp(W,'value of counter weight required(kg)')"
   ]
   }
,
{
		   "cell_type": "markdown",
		   "metadata": {},
		   "source": [
			"## Example 9.13: EX9_13.sci"
		   ]
		  },
  {
"cell_type": "code",
	   "execution_count": null,
	   "metadata": {
	    "collapsed": true
	   },
	   "outputs": [],
"source": [
"// calculate damping factor, time constant, error and time lag\n",
"// calculate damping factor, natural frequency, time constant, error and time lag\n",
"clc;\n",
"Mp1=20/40;\n",
"Mp2=10/40;\n",
"Mp3=5/40;\n",
"Eta=0.225;\n",
"disp(Eta,'damping factor')\n",
"Td=1.2;\n",
"wd=2*%pi/Td;\n",
"wn=wd/[(1-Eta^2)^0.5];\n",
"tc=1/wn;\n",
"disp(tc,'time constant(s)')\n",
"ess=2*Eta/wn;\n",
"ess5=5*ess;\n",
"disp(ess5,'error for 5mm/s ramp(mm)')\n",
"Tlag=2*Eta*tc;\n",
"disp(Tlag,'time lag(s)')\n",
"Eta1=Eta*(0.5)^0.5;\n",
"disp(Eta1,'New damping factor')\n",
"Td=1.2;\n",
"wn1 = wn*(0.5)^0.5;\n",
"disp(wn1,'New natural frequency(rad/s)')\n",
"tc1=1/wn;\n",
"disp(tc1,'New time constant(s)')\n",
"ess51=ess5;\n",
"disp(ess51,'new error for 5mm/s ramp(mm)')\n",
"Tlag1=Tlag;\n",
"disp(Tlag1,'new time lag(s)');"
   ]
   }
,
{
		   "cell_type": "markdown",
		   "metadata": {},
		   "source": [
			"## Example 9.14: calculate_thickness_of_diaphram_and_natural_frequency.sci"
		   ]
		  },
  {
"cell_type": "code",
	   "execution_count": null,
	   "metadata": {
	    "collapsed": true
	   },
	   "outputs": [],
"source": [
"// calculate thickness of diaphram and natural frequency\n",
"clc;\n",
"P=7*10^6;\n",
"R=6.25*10^-3;\n",
"v=0.28;\n",
"E=200*10^9;\n",
"t={[9*P*R^4*(1-v^2)/(16*E)]^0.25}*10^3;\n",
"disp(t,'thickness of diaphram(mm)')\n",
"ds=7800;\n",
"fn=[2.5*t/(%pi*R^2)]*[E/(3*ds*(1-v^2))]^0.5;\n",
"disp(fn,'natural frequency(Hz)')"
   ]
   }
,
{
		   "cell_type": "markdown",
		   "metadata": {},
		   "source": [
			"## Example 9.15: calculate_the_natural_length_of_the_spring_and_dispacement.sci"
		   ]
		  },
  {
"cell_type": "code",
	   "execution_count": null,
	   "metadata": {
	    "collapsed": true
	   },
	   "outputs": [],
"source": [
"// calculate the natural length of the spring and dispacement\n",
"clc;\n",
"P=100*10^3;\n",
"A=1500*10^-6;\n",
"F=P*A;\n",
"Cs=F/3;\n",
"Ls=Cs+40;\n",
"disp(Ls,'natural length of spring(mm)')\n",
"P1=10*10^3;\n",
"F1=P1*A;\n",
"Ss=3+2*.5;\n",
"D=F1/Ss;\n",
"disp(D,'displacement (mm)')"
   ]
   }
,
{
		   "cell_type": "markdown",
		   "metadata": {},
		   "source": [
			"## Example 9.16: calculate_the_open_circuit_voltage.sci"
		   ]
		  },
  {
"cell_type": "code",
	   "execution_count": null,
	   "metadata": {
	    "collapsed": true
	   },
	   "outputs": [],
"source": [
"// calculate the open circuit voltage\n",
"clc;\n",
"P=200*10^3;\n",
"R=70*10^-3;\n",
"v=0.25;\n",
"t=1*10^-3;\n",
"r=60*10^-3;\n",
"E=200*10^9;\n",
"Sr=[3*P*R^2*v/(8*t^2)]*{(1/v+1)-(3/v+1)*(r/R)^2};\n",
"St=[3*P*R^2*v/(8*t^2)]*{(1/v+1)-(1/v+3)*(r/R)^2};\n",
"Sta2=(Sr-v*St)/E;\n",
"Sta3=(Sr-v*St)/E;\n",
"r0=10*10^-3;\n",
"Sr1=[3*P*R^2*v/(8*t^2)]*{(1/v+1)-(3/v+1)*(r0/R)^2};\n",
"St1=[3*P*R^2*v/(8*t^2)]*{(1/v+1)-(1/v+3)*(r0/R)^2};\n",
"Sta1=(Sr1-v*St1)/E;\n",
"Sta4=(Sr1-v*St1)/E;\n",
"Gf=1.8;\n",
"ei=12;\n",
"eo=(Sta1+Sta4-Sta2-Sta3)*Gf*ei/4;\n",
"disp(eo,'output voltage (V)')"
   ]
   }
,
{
		   "cell_type": "markdown",
		   "metadata": {},
		   "source": [
			"## Example 9.17: calculate_the_optimum_setting.sci"
		   ]
		  },
  {
"cell_type": "code",
	   "execution_count": null,
	   "metadata": {
	    "collapsed": true
	   },
	   "outputs": [],
"source": [
"// calculate the optimum setting\n",
"clc;\n",
"Aou=700*25*1/100;\n",
"Aol=100*25*1/100;\n",
"AouPtP= 2*Aou;\n",
"AolPtP= 2*Aol;\n",
"Se1=1;\n",
"D1=AouPtP/Se1;\n",
"disp(D1,'deflection of screen corresponding to maximum pressure for sensitivity of 1mV/mm (mm)')\n",
"disp('sinch the length of the screen is 100mm so waveform is out of range and hence sensitivity setting of 1mV/mm should not be used')\n",
"Se2=5;\n",
"D2=AouPtP/Se2;\n",
"disp(D2,'deflection of screen corresponding to maximum pressure for sensitivity of 5mV/mm (mm)')\n",
"disp('delection is within the range')\n",
"Se3=20;\n",
"D3=AouPtP/Se3;\n",
"disp(D3,'deflection of screen corresponding to maximum pressure for sensitivity of 20mV/mm (mm)')\n",
"disp('delection is within the range')\n",
"Se4=100;\n",
"D4=AouPtP/Se4;\n",
"disp(D4,'deflection of screen corresponding to maximum pressure for sensitivity of 100mV/mm (mm)')\n",
"disp('delection is within the range')\n",
"Se5=500;\n",
"D5=AouPtP/Se5;\n",
"disp(D5,'deflection of screen corresponding to maximum pressure for sensitivity of 500mV/mm (mm)')\n",
"disp('delection is within the range')\n",
"disp('since the sensitivity of 5mV/mm gives higher deflection so it is the optimum sensitivity')"
   ]
   }
,
{
		   "cell_type": "markdown",
		   "metadata": {},
		   "source": [
			"## Example 9.18: calculate_the_output_voltage_of_bridge.sci"
		   ]
		  },
  {
"cell_type": "code",
	   "execution_count": null,
	   "metadata": {
	    "collapsed": true
	   },
	   "outputs": [],
"source": [
"// calculate the output voltage of bridge\n",
"clc;\n",
"dP=(7000*10^3)-(100*10^3);\n",
"b=25*10^-12;\n",
"R1=100;\n",
"dR=R1*b*dP;\n",
"ei=5;\n",
"deo=dR*ei/(4*R1)\n",
"disp(deo,'output voltage of bridge(V)')"
   ]
   }
,
{
		   "cell_type": "markdown",
		   "metadata": {},
		   "source": [
			"## Example 9.19: calculate_attenuation.sci"
		   ]
		  },
  {
"cell_type": "code",
	   "execution_count": null,
	   "metadata": {
	    "collapsed": true
	   },
	   "outputs": [],
"source": [
"// calculate attenuation\n",
"clc;\n",
"T=273+20;\n",
"P=101.3*10^3;\n",
"R=287;\n",
"de=P/(R*T);\n",
"C=20.04*T^0.5;\n",
"r=6.25*10^-3;\n",
"L=0.6;\n",
"V=%pi*[(12.5*10^-3)^2]*(12.5*10^-3);\n",
"wn=C*r*(%pi/(V*(L+0.5*%pi*r)))^0.5;\n",
"fn=wn/(2*%pi);\n",
"f=1000;\n",
"u=f/fn;\n",
"mu=19.1*10^-6;\n",
"eta=[2*mu/(de*C*r^3)]*[3*L*V/%pi]^0.5;\n",
"M=1/{[(1-u^2)^2]+[(2*eta*u)^2]}^0.5;\n",
"%M=M*100;\n",
"disp(%M,'attenuation=')"
   ]
   }
,
{
		   "cell_type": "markdown",
		   "metadata": {},
		   "source": [
			"## Example 9.1: calculating_the_length_of_mean_free_path.sci"
		   ]
		  },
  {
"cell_type": "code",
	   "execution_count": null,
	   "metadata": {
	    "collapsed": true
	   },
	   "outputs": [],
"source": [
"// calculating the length of mean free path\n",
"clc;\n",
"T=273+20;\n",
"P=101.3*10^3;\n",
"mfp=22.7*10^-6*T/P;\n",
"disp(mfp,'length of mean free path when pressure is one atmospheric pressure(m)')\n",
"P=133;\n",
"mfp=22.7*10^-6*T/P;\n",
"disp(mfp,'length of mean free path when pressure is one torr(m)')\n",
"P=133*10^-3;\n",
"mfp=22.7*10^-6*T/P;\n",
"disp(mfp,'length of mean free path when pressure is one micrometer of Hg(m)')\n",
"P=249.1;\n",
"mfp=22.7*10^-6*T/P;\n",
"disp(mfp,'length of mean free path when pressure is one inch of water(m)')\n",
"P=133*10^-6;\n",
"mfp=22.7*10^-6*T/P;\n",
"disp(mfp,'length of mean free path when pressure is 10^-3 micrometer of Hg(m)')\n",
"\n",
"\n",
"\n",
""
   ]
   }
,
{
		   "cell_type": "markdown",
		   "metadata": {},
		   "source": [
			"## Example 9.20: calculate_error.sci"
		   ]
		  },
  {
"cell_type": "code",
	   "execution_count": null,
	   "metadata": {
	    "collapsed": true
	   },
	   "outputs": [],
"source": [
"// calculate error\n",
"clc;\n",
"d=1;\n",
"At=(%pi*d^2)*10^-6/4;\n",
"V=100*10^-6;\n",
"h=30*10^-3;\n",
"P1=(At*h^2)/V;\n",
"P2=(At*h^2)/(V-At*h);\n",
"e=P2-P1;\n",
"disp(e,'error=' )"
   ]
   }
,
{
		   "cell_type": "markdown",
		   "metadata": {},
		   "source": [
			"## Example 9.2: Calculate_Pressure_of_air_source.sci"
		   ]
		  },
  {
"cell_type": "code",
	   "execution_count": null,
	   "metadata": {
	    "collapsed": true
	   },
	   "outputs": [],
"source": [
"//Calculate Pressure of air source\n",
"clc;\n",
"T=273+25;\n",
"P=99.22*10^3;\n",
"R=288;\n",
"df=P/(R*T);\n",
"dm=0.82*996;\n",
"g=9.81;\n",
"h=200*10^-6;\n",
"P1=g*h*(dm-df)*10^3;\n",
"Pa=P+P1;\n",
"disp(Pa,'Pressure of air source(N/m2)')"
   ]
   }
,
{
		   "cell_type": "markdown",
		   "metadata": {},
		   "source": [
			"## Example 9.3: Calculate_Pressure_head.sci"
		   ]
		  },
  {
"cell_type": "code",
	   "execution_count": null,
	   "metadata": {
	    "collapsed": true
	   },
	   "outputs": [],
"source": [
"//Calculate Pressure head\n",
"clc;\n",
"df=1*10^3;\n",
"dm=13.56*10^3;\n",
"g=9.81;\n",
"h=130*10^-3;\n",
"P=g*h*(dm-df);\n",
"Ph=P/9.81;\n",
"disp(Ph,'Pressure head(mm of water)')"
   ]
   }
,
{
		   "cell_type": "markdown",
		   "metadata": {},
		   "source": [
			"## Example 9.4: calculate_height.sci"
		   ]
		  },
  {
"cell_type": "code",
	   "execution_count": null,
	   "metadata": {
	    "collapsed": true
	   },
	   "outputs": [],
"source": [
"// calculate hight\n",
"clc;\n",
"hn =250;\n",
"d=5;\n",
"D=25;\n",
"h=hn*(1+(d/D)^2);\n",
"disp(h,'height')"
   ]
   }
,
{
		   "cell_type": "markdown",
		   "metadata": {},
		   "source": [
			"## Example 9.6: calculate_error_interms_of_pressure.sci"
		   ]
		  },
  {
"cell_type": "code",
	   "execution_count": null,
	   "metadata": {
	    "collapsed": true
	   },
	   "outputs": [],
"source": [
"// calculate error interms of pressure\n",
"clc;\n",
"P=8*133;\n",
"h=P/(800*9.81);\n",
"d=2;\n",
"D=50;\n",
"hn=h/(1+(d/D)^2);\n",
"e=(hn-h)/h*100;\n",
"eP=0.8*1000*9.81*(hn-h);\n",
"disp(eP,'error interms of pressure(N/m2)')"
   ]
   }
,
{
		   "cell_type": "markdown",
		   "metadata": {},
		   "source": [
			"## Example 9.7: calculate_angle_to_which_tube_is_incliend_to_vertical.sci"
		   ]
		  },
  {
"cell_type": "code",
	   "execution_count": null,
	   "metadata": {
	    "collapsed": true
	   },
	   "outputs": [],
"source": [
"// calculate angle to which tube is incliend to vertical\n",
"clc;\n",
"P=133;\n",
"g=9.81;\n",
"dm=13.56*10^3;\n",
"R=10^-3;\n",
"d=4;\n",
"D=20;\n",
"th=asind(P/(g*dm*R*(1+(d/D)^2)));\n",
"thV=90-th;\n",
"disp(thV,'angle to which tube is incliend to vertical(degree)')"
   ]
   }
,
{
		   "cell_type": "markdown",
		   "metadata": {},
		   "source": [
			"## Example 9.8: calculate_angle_to_which_tube_is_incliend_to_horizontal.sci"
		   ]
		  },
  {
"cell_type": "code",
	   "execution_count": null,
	   "metadata": {
	    "collapsed": true
	   },
	   "outputs": [],
"source": [
"// calculate angle to which tube is incliend to horizontal\n",
"clc;\n",
"P=9.81;\n",
"g=9.81;\n",
"dm=0.864*10^3;\n",
"R=4*10^-3;\n",
"d=2;\n",
"D=20;\n",
"th=asind(P/(g*dm*R*(1+(d/D)^2)));\n",
"disp(th,'angle to which tube is incliend to horizontal(degree)')"
   ]
   }
,
{
		   "cell_type": "markdown",
		   "metadata": {},
		   "source": [
			"## Example 9.9: calculate_Length_of_scale_angle_to_which_tube_is_incliend_to_horizontal.sci"
		   ]
		  },
  {
"cell_type": "code",
	   "execution_count": null,
	   "metadata": {
	    "collapsed": true
	   },
	   "outputs": [],
"source": [
"// calculate Length of scale angle to which tube is incliend to horizontal\n",
"clc;\n",
"P=500*9.81;\n",
"g=9.81;\n",
"d=8;\n",
"a= (%pi/4)*d^2;\n",
"A=1200;\n",
"dm=0.8*10^3;\n",
"hn=P/(g*dm*(1+(a/A)));\n",
"disp(hn,'Length of scale(m)')\n",
"R=0.6;\n",
"P1=50*9.81;\n",
"th=asind(P1/(g*dm*R*[1+(a/A)]));\n",
"disp(th,'angle to which tube is incliend to horizontal(degree)')"
   ]
   }
],
"metadata": {
		  "kernelspec": {
		   "display_name": "Scilab",
		   "language": "scilab",
		   "name": "scilab"
		  },
		  "language_info": {
		   "file_extension": ".sce",
		   "help_links": [
			{
			 "text": "MetaKernel Magics",
			 "url": "https://github.com/calysto/metakernel/blob/master/metakernel/magics/README.md"
			}
		   ],
		   "mimetype": "text/x-octave",
		   "name": "scilab",
		   "version": "0.7.1"
		  }
		 },
		 "nbformat": 4,
		 "nbformat_minor": 0
}
