{
"cells": [
 {
		   "cell_type": "markdown",
	   "metadata": {},
	   "source": [
       "# Chapter 4: Dynamic Characteristics of Instruments and Measurement systems"
	   ]
	},
{
		   "cell_type": "markdown",
		   "metadata": {},
		   "source": [
			"## Example 4.10: Calculate_the_temperature_at_a_depth_of_1000_m.sci"
		   ]
		  },
  {
"cell_type": "code",
	   "execution_count": null,
	   "metadata": {
	    "collapsed": true
	   },
	   "outputs": [],
"source": [
"// Calculate the temperature at a depth of 1000 m\n",
"clc;\n",
"th0=20;\n",
"t=2000;\n",
"thr=th0-0.005*(t-50)-0.25*exp(-t/50);\n",
"disp(thr,'temperature at a depth of 1000 m (degree C)')"
   ]
   }
,
{
		   "cell_type": "markdown",
		   "metadata": {},
		   "source": [
			"## Example 4.11: Calculate_the_value_of_resistance_at_different_values_of_time.sci"
		   ]
		  },
  {
"cell_type": "code",
	   "execution_count": null,
	   "metadata": {
	    "collapsed": true
	   },
	   "outputs": [],
"source": [
"// Calculate the value of resistance at different values of time\n",
"clc;\n",
"Gain=0.3925;\n",
"T=75;\n",
"p_duration=Gain*T;\n",
"tc=5.5;\n",
"Rin=100;\n",
"t=1;\n",
"Rt=p_duration*(1-exp(-t/tc))+Rin;\n",
"disp(Rt,'Value of resistance after 1s(ohm)=')\n",
"t=2;\n",
"Rt=p_duration*(1-exp(-t/tc))+Rin;\n",
"disp(Rt,'Value of resistance after 2s(ohm)=')\n",
"t=3;\n",
"Rt=p_duration*(1-exp(-t/tc))+Rin;\n",
"disp(Rt,'Value of resistance after 3s(ohm)=')\n",
"R_inc=Rt-Rin;\n",
"t=5;\n",
"Rt=(R_inc)*[exp(-(t-3)/(5.5))]+Rin;\n",
"disp(Rt,'Value of resistance after 5s(ohm)=')\n",
"t=10;\n",
"Rt=(R_inc)*[exp(-(t-3)/(5.5))]+Rin;\n",
"disp(Rt,'Value of resistance after 10s(ohm)=')\n",
"t=20;\n",
"Rt=(R_inc)*[exp(-(t-3)/(5.5))]+Rin;\n",
"disp(Rt,'Value of resistance after 20s(ohm)=')\n",
"t=30;\n",
"Rt=(R_inc)*[exp(-(t-3)/(5.5))]+Rin;\n",
"disp(Rt,'Value of resistance after 30s(ohm)=')"
   ]
   }
,
{
		   "cell_type": "markdown",
		   "metadata": {},
		   "source": [
			"## Example 4.12: calculate_the_value_of_damping_constant_and_frequency_of_damped_oscillations.sci"
		   ]
		  },
  {
"cell_type": "code",
	   "execution_count": null,
	   "metadata": {
	    "collapsed": true
	   },
	   "outputs": [],
"source": [
"// calculate the value of damping constant and frequency of damped oscillations\n",
"clc;\n",
"M=8*10^-3;\n",
"K=1000;\n",
"wn=(K/M)^0.5;\n",
"disp('for critically damped system eta=1')\n",
"B=2*(K*M);\n",
"disp(B,'Damping constant for critically damped system (N/ms-1)=')\n",
"eta=0.6;\n",
"wd=wn*(1-eta^2)^0.5;\n",
"disp(wd,'frequency of damped oscillations (rad/s)=')"
   ]
   }
,
{
		   "cell_type": "markdown",
		   "metadata": {},
		   "source": [
			"## Example 4.13: EX4_13.sci"
		   ]
		  },
  {
"cell_type": "code",
	   "execution_count": null,
	   "metadata": {
	    "collapsed": true
	   },
	   "outputs": [],
"source": [
"// Calculate damping ratio, natural frequency, frequency of damped oscillations, time constant\n",
"// and steady state error for ramp signal of 5V/s\n",
"clc;\n",
"K=(40*10^-6)/(%pi/2);\n",
"J=0.5*10^-6;\n",
"B=5*10^-6;\n",
"eta=B/(2*(K*J)^0.5);\n",
"disp(eta,'damping ratio=')\n",
"wn=(K/J)^0.5;\n",
"disp(wn,'natural frequency (rad/sec)')\n",
"wd=wn*(1-(eta)^2)^0.5;\n",
"disp(wd,'frequency of damped oscillations (rad/s)')\n",
"tc=1/wn;\n",
"disp(tc,'time constant (s)')\n",
"ess=2*eta/wn;\n",
"disp('for a ramp input of 5V, steady state error (V) =')\n",
"ess=5*2*eta/wn;\n",
"disp(ess,'')\n",
"T_lag=2*eta*tc;\n",
"disp(T_lag,'Time lag (s)')"
   ]
   }
,
{
		   "cell_type": "markdown",
		   "metadata": {},
		   "source": [
			"## Example 4.14: Calculate_the_natural_frequency.sci"
		   ]
		  },
  {
"cell_type": "code",
	   "execution_count": null,
	   "metadata": {
	    "collapsed": true
	   },
	   "outputs": [],
"source": [
"// Calculate the natural  frequency \n",
"clc;\n",
"wn=2*%pi*30;\n",
"disp( 'for a frequency of 30 Hz  wn=(K/M+5*10^-3)^0.5.........(i)');\n",
"disp('But wn=(K/M)^0.5.........(ii)');\n",
"disp('for a frequency of 25 Hz  wn=(K/M+5*10^-3+5*10^-3)^0.5.........(iii) ')\n",
"disp('on solving (i), (ii) and (iii)')\n",
"M=6.36*10^-3;\n",
"K=403.6;\n",
"disp(M,'M=')\n",
"disp(K,'K=')\n",
"wn=(K/M)^0.5;\n",
"f=wn/(2*%pi);\n",
"disp(f,'natural frequency (Hz)')"
   ]
   }
,
{
		   "cell_type": "markdown",
		   "metadata": {},
		   "source": [
			"## Example 4.15: Calculate_natural_frequency_and_setteling_time.sci"
		   ]
		  },
  {
"cell_type": "code",
	   "execution_count": null,
	   "metadata": {
	    "collapsed": true
	   },
	   "outputs": [],
"source": [
"// Calculate natural frequency and setteling time\n",
"clc;\n",
"K=60*10^3;\n",
"M=30;\n",
"wn=(K/M)^0.5;\n",
"disp(wn,'natural frequency (rad/sec)')\n",
"eta=0.7;\n",
"ts=4/(eta*wn);\n",
"disp(ts,'setteling time (s)')"
   ]
   }
,
{
		   "cell_type": "markdown",
		   "metadata": {},
		   "source": [
			"## Example 4.16: Calculate_time_lag_and_ratio_of_output_and_input.sci"
		   ]
		  },
  {
"cell_type": "code",
	   "execution_count": null,
	   "metadata": {
	    "collapsed": true
	   },
	   "outputs": [],
"source": [
"// Calculate time lag and ratio of output and input\n",
"clc;\n",
"disp('when time period is 600s')\n",
"w=2*%pi/600;\n",
"tc=60;\n",
"T_lag=(1/w)*atan(w*tc);\n",
"disp(T_lag,'time lag (s)=')\n",
"M=1/((1+(w*tc)^2)^0.5);\n",
"disp(M,'ratio of output and input=')\n",
"disp('when time period is 120s')\n",
"w=2*%pi/120;\n",
"tc=60;\n",
"T_lag=(1/w)*atan(w*tc);\n",
"disp(T_lag,'time lag (s)=')\n",
"M=1/((1+(w*tc)^2)^0.5);\n",
"disp(M,'ratio of output and input=')"
   ]
   }
,
{
		   "cell_type": "markdown",
		   "metadata": {},
		   "source": [
			"## Example 4.17: Calculate_the_maximum_allowable_time_constant_and_phase_shift.sci"
		   ]
		  },
  {
"cell_type": "code",
	   "execution_count": null,
	   "metadata": {
	    "collapsed": true
	   },
	   "outputs": [],
"source": [
"// Calculate the maximum allowable time constant and phase shift\n",
"clc;\n",
"M=1-0.05;\n",
"w=2*%pi*100;\n",
"tc={[(1/M^2)-1]/(w^2)}^0.5;\n",
"disp(tc,'maximum allowable time constant (s)')\n",
"disp('phase shift at 50 Hz (degree)=')\n",
"ph=[-atan(2*%pi*50*tc)]*(180/%pi);\n",
"disp(ph,'')\n",
"disp('phase shift at 100 Hz (degree)=')\n",
"ph=[-atan(2*%pi*100*tc)]*(180/%pi);\n",
"disp(ph,)"
   ]
   }
,
{
		   "cell_type": "markdown",
		   "metadata": {},
		   "source": [
			"## Example 4.18: Calculate_maximum_value_of_indicated_temperature_and_delay_time.sci"
		   ]
		  },
  {
"cell_type": "code",
	   "execution_count": null,
	   "metadata": {
	    "collapsed": true
	   },
	   "outputs": [],
"source": [
"// Calculate maximum value of indicated temperature and delay time\n",
"clc;\n",
"T=120;\n",
"w=2*%pi/T;\n",
"tc1=40;\n",
"tc2=20;\n",
"M=[1/((1+(w*tc1)^2)^0.5)]*[1/((1+(w*tc2)^2)^0.5)];\n",
"M_temp=M*10;\n",
"disp(M_temp,'maximum value of indicated temperature (degree C)')\n",
"ph=[{atan(w*tc1)+atan(w*tc2)}];\n",
"T_lag=ph/w;\n",
"disp(T_lag,'Time lag (s)')"
   ]
   }
,
{
		   "cell_type": "markdown",
		   "metadata": {},
		   "source": [
			"## Example 4.19: Find_the_output.sci"
		   ]
		  },
  {
"cell_type": "code",
	   "execution_count": null,
	   "metadata": {
	    "collapsed": true
	   },
	   "outputs": [],
"source": [
"// Find the output \n",
"clc;\n",
"disp('when tc=0.2);\n",
"disp('output=1/(1+(2*0.2)^2)^0.5]sin[2t-atan(2*0.2)]+3/(1+(2*0.2)^2)^0.5]sin[20t-atan(20*0.2)]')\n",
"disp('on solving   output=0.93 sin(2t-21.8)+0.073 sin(20t-76)')\n",
"disp('when tc=0.002);\n",
"disp('output=1/(1+(2*0.002)^2)^0.5]sin[2t-atan(2*0.002)]+3/(1+(2*0.002)^2)^0.5]sin[20t-atan(20*0.002)]')\n",
"disp('on solving   output= 1sin(2t-0.23)+0.3 sin(20t-2.3)')"
   ]
   }
,
{
		   "cell_type": "markdown",
		   "metadata": {},
		   "source": [
			"## Example 4.1: calculating_the_temperature.sci"
		   ]
		  },
  {
"cell_type": "code",
	   "execution_count": null,
	   "metadata": {
	    "collapsed": true
	   },
	   "outputs": [],
"source": [
"// calculating the temperature after 1.5 s\n",
"clc;\n",
"th0=100;\n",
"t=1.5;\n",
"tc=3.5;\n",
"th=th0*[1-exp(-t/tc)];\n",
"disp(th,'temperature after 1.5 s (degree C)')"
   ]
   }
,
{
		   "cell_type": "markdown",
		   "metadata": {},
		   "source": [
			"## Example 4.20: EX4_20.sci"
		   ]
		  },
  {
"cell_type": "code",
	   "execution_count": null,
	   "metadata": {
	    "collapsed": true
	   },
	   "outputs": [],
"source": [
"//Calculate maximum and minimum value of indicated temperature, phase shift, time lag \n",
"clc;\n",
"T_max=640;\n",
"T_min=600;\n",
"T_mean=(T_max+T_min)/2;\n",
"Ai=T_mean-T_min;\n",
"w=2*%pi/80;\n",
"tc=10;\n",
"Ao=Ai/{(1+(w*tc)^2)}^0.5;\n",
"T_max_indicated=T_mean+Ao;\n",
"disp(T_max_indicated,'Maximum value of indicated temperature(degree C)=')\n",
"T_min_indicated=T_mean-Ao;\n",
"disp(T_min_indicated,'Minimum value of indicated temperature(degree C)=')\n",
"ph=-atan(w*tc);\n",
"Time_lag=-ph/w;\n",
"disp(Time_lag,'Time lag (s)') "
   ]
   }
,
{
		   "cell_type": "markdown",
		   "metadata": {},
		   "source": [
			"## Example 4.21: determine_damping_ratio.sci"
		   ]
		  },
  {
"cell_type": "code",
	   "execution_count": null,
	   "metadata": {
	    "collapsed": true
	   },
	   "outputs": [],
"source": [
"// determine damping ratio\n",
"clc;\n",
"w=2;\n",
"K=1.5;\n",
"J=200*10^-3;\n",
"wn=(K/J)^0.5;\n",
"u=w/wn;\n",
"M=1.1;\n",
"eta=[{[1/(M^2)]-[(1-u^2)^2]}/(2*u)^2]^0.5;\n",
"disp(eta,'damping ratio=')"
   ]
   }
,
{
		   "cell_type": "markdown",
		   "metadata": {},
		   "source": [
			"## Example 4.22: Calculate_the_frequency_range.sci"
		   ]
		  },
  {
"cell_type": "code",
	   "execution_count": null,
	   "metadata": {
	    "collapsed": true
	   },
	   "outputs": [],
"source": [
"// Calculate the frequency range\n",
"clc;\n",
"eta=0.6;\n",
"fn=1000;\n",
"M=1.1;\n",
"disp('M=1/[[(1-u^2)^2]+(2*u*eta)^2]^0.5; ..........(i)')\n",
"disp('on solving u^4-0.5u^2+0.173=0')\n",
"disp('the above equation gives imaginary values for frequency so for eta=0.6 the output is not 1.1')\n",
"disp('Now let M=0.9, on solving equation (i) we have')\n",
"disp('u^4-0.56u^2-0.234=0')\n",
"disp('on solving u=0.916')\n",
"u=0.916;\n",
"f=u*fn;\n",
"disp(f,'maximum value of range (Hz)=')\n",
"disp('So, the range of the frequency is from 0 to 916 Hz')\n",
""
   ]
   }
,
{
		   "cell_type": "markdown",
		   "metadata": {},
		   "source": [
			"## Example 4.23: determine_the_error.sci"
		   ]
		  },
  {
"cell_type": "code",
	   "execution_count": null,
	   "metadata": {
	    "collapsed": true
	   },
	   "outputs": [],
"source": [
"// determine the error\n",
"clc;\n",
"w=6;\n",
"wn=4;\n",
"u=w/wn;\n",
"eta=0.66;\n",
"M=1/{[(1-u^2)^2]+(2*eta*u)^2}^0.5;\n",
"Error=(M-1)*100;\n",
"disp(Error,'error (%)=')"
   ]
   }
,
{
		   "cell_type": "markdown",
		   "metadata": {},
		   "source": [
			"## Example 4.2: calculate_time_to_read_half_of_the_temperature_difference.sci"
		   ]
		  },
  {
"cell_type": "code",
	   "execution_count": null,
	   "metadata": {
	    "collapsed": true
	   },
	   "outputs": [],
"source": [
"// calculate time to read half of the temperature difference\n",
"clc;\n",
"tc=10/5;\n",
"th=1;\n",
"th0=2;\n",
"t=-tc*log(1-(th/th0));\n",
"disp(t,'Time to read half of the temperature difference (s)')"
   ]
   }
,
{
		   "cell_type": "markdown",
		   "metadata": {},
		   "source": [
			"## Example 4.4: Calculate_the_temperature_after_10s.sci"
		   ]
		  },
  {
"cell_type": "code",
	   "execution_count": null,
	   "metadata": {
	    "collapsed": true
	   },
	   "outputs": [],
"source": [
"// Calculate the temperature after 10s\n",
"clc;\n",
"th0=25;\n",
"thi=150;\n",
"t=10;\n",
"tc=6;\n",
"th=th0+(thi-th0)*[exp(-t/tc)];\n",
"disp(th,'the temperature after 10s (degree C)')"
   ]
   }
,
{
		   "cell_type": "markdown",
		   "metadata": {},
		   "source": [
			"## Example 4.5: Calculate_the_value_of_resistance_after_15s.sci"
		   ]
		  },
  {
"cell_type": "code",
	   "execution_count": null,
	   "metadata": {
	    "collapsed": true
	   },
	   "outputs": [],
"source": [
"// Calculate the value of resistance after 15s\n",
"clc;\n",
"R0=29.44;\n",
"Rs=100;\n",
"t=15;\n",
"tc=5.5;\n",
"R_15=Rs+R0*[1-exp(-t/tc)];\n",
"disp(R_15,'value of resistance after 15s(ohm)')"
   ]
   }
,
{
		   "cell_type": "markdown",
		   "metadata": {},
		   "source": [
			"## Example 4.6: Calculate_the_depth_after_one_hour.sci"
		   ]
		  },
  {
"cell_type": "code",
	   "execution_count": null,
	   "metadata": {
	    "collapsed": true
	   },
	   "outputs": [],
"source": [
"// Calculate the depth after one hour\n",
"clc;\n",
"Qm=0.16*10^-3;\n",
"Hin=1.2;\n",
"K1=Qm/(Hin)^0.5;\n",
"Qo=0.2*10^-3;\n",
"Ho=(Qo/K1)^2;\n",
"R=Hin/Qm;\n",
"C=0.1;\n",
"tc=R*C;\n",
"t=3600;\n",
"H=Ho+(Hin-Ho)*exp(-t/tc);\n",
"disp(H,'the depth after one hour(m)')"
   ]
   }
,
{
		   "cell_type": "markdown",
		   "metadata": {},
		   "source": [
			"## Example 4.8: Calculate_time_constant.sci"
		   ]
		  },
  {
"cell_type": "code",
	   "execution_count": null,
	   "metadata": {
	    "collapsed": true
	   },
	   "outputs": [],
"source": [
"//Calculate time constant\n",
"clc;\n",
"S=3.5;\n",
"Ac=(%pi/4)*(0.25)^2;\n",
"alpha=0.18*10^-3;\n",
"Vb=S*Ac/alpha;\n",
"disp(Vb,'volume of bulb(mm2)')\n",
"\n",
"Rb=[(Vb/%pi)*(3/4)]^(1/3);\n",
"Ab=4*%pi*Rb^2;\n",
"D=13.56*10^3;\n",
"s=139;\n",
"H=12;\n",
"tc=(D*s*Vb*10^-9)/(H*Ab*10^-6);\n",
"disp(tc,'time constant (s)')"
   ]
   }
,
{
		   "cell_type": "markdown",
		   "metadata": {},
		   "source": [
			"## Example 4.9: Calculate_the_temperature_after_10s.sci"
		   ]
		  },
  {
"cell_type": "code",
	   "execution_count": null,
	   "metadata": {
	    "collapsed": true
	   },
	   "outputs": [],
"source": [
"// Calculate the time constant\n",
"ess=5;\n",
"A=0.1;\n",
"tc=ess/A;\n",
"disp(tc,'time constant(s)')"
   ]
   }
],
"metadata": {
		  "kernelspec": {
		   "display_name": "Scilab",
		   "language": "scilab",
		   "name": "scilab"
		  },
		  "language_info": {
		   "file_extension": ".sce",
		   "help_links": [
			{
			 "text": "MetaKernel Magics",
			 "url": "https://github.com/calysto/metakernel/blob/master/metakernel/magics/README.md"
			}
		   ],
		   "mimetype": "text/x-octave",
		   "name": "scilab",
		   "version": "0.7.1"
		  }
		 },
		 "nbformat": 4,
		 "nbformat_minor": 0
}
