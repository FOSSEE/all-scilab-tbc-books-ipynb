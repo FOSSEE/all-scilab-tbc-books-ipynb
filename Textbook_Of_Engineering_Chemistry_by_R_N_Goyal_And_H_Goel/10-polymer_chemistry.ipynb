{
"cells": [
 {
		   "cell_type": "markdown",
	   "metadata": {},
	   "source": [
       "# Chapter 10: polymer chemistry"
	   ]
	},
{
		   "cell_type": "markdown",
		   "metadata": {},
		   "source": [
			"## Example 10.1: number_average_and_weight_average_molecular_mass.sce"
		   ]
		  },
  {
"cell_type": "code",
	   "execution_count": null,
	   "metadata": {
	    "collapsed": true
	   },
	   "outputs": [],
"source": [
"//polymer chemistry//\n",
"//example 10.1//\n",
"N1=5;//no of molecules//\n",
"N2=10;\n",
"N3=20;\n",
"N4=20;\n",
"N5=10;\n",
"M1=5000;//molecular mass of each molecule//\n",
"M2=6000;\n",
"M3=10000;\n",
"M4=15000;\n",
"M5=25000;\n",
"M=(M1*N1+M2*N2+M3*N3+M4*N4+M5*N5)/(N1+N2+N3+N4+N5);//formula for number average molecular mass//\n",
"printf('The number average molecular mass is %f',M);\n",
"Mw=(N1*M1^2+N2*M2^2+N3*M3^2+N4*M4^2+N5*M5^2)/(M1*N1+M2*N2+M3*N3+M4*N4+M5*N5);//formula of weight-average molecular mass//\n",
"printf('\nThe weight average molecular mass is %f',Mw);"
   ]
   }
],
"metadata": {
		  "kernelspec": {
		   "display_name": "Scilab",
		   "language": "scilab",
		   "name": "scilab"
		  },
		  "language_info": {
		   "file_extension": ".sce",
		   "help_links": [
			{
			 "text": "MetaKernel Magics",
			 "url": "https://github.com/calysto/metakernel/blob/master/metakernel/magics/README.md"
			}
		   ],
		   "mimetype": "text/x-octave",
		   "name": "scilab",
		   "version": "0.7.1"
		  }
		 },
		 "nbformat": 4,
		 "nbformat_minor": 0
}
