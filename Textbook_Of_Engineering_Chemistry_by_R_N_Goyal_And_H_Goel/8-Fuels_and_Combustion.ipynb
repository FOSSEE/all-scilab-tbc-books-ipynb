{
"cells": [
 {
		   "cell_type": "markdown",
	   "metadata": {},
	   "source": [
       "# Chapter 8: Fuels and Combustion"
	   ]
	},
{
		   "cell_type": "markdown",
		   "metadata": {},
		   "source": [
			"## Example 8.10: percentage_of_contents_in_the_sample.sce"
		   ]
		  },
  {
"cell_type": "code",
	   "execution_count": null,
	   "metadata": {
	    "collapsed": true
	   },
	   "outputs": [],
"source": [
"//Fuels and Combustion//\n",
"//Example 8.10//\n",
"C=810;//weight of carbon in 1kg of coal sample in grams//\n",
"O=80;//weight of oxygen in 1kg of coal sample in grams//\n",
"S=10;//weight of Sulphur in 1kg of coal sample in grams//\n",
"N=10;//weight of nytrogen in 1kg of coal sample in grams//\n",
"H=50;//weight of hydrogen in 1kg of coal sample in grams//\n",
"MO=C*32/12+H*16/2+S*32/32;//minimum weight of oxygen needed in grams//\n",
"printf('minimum weight of oxygen needed=MO=%fg',MO);\n",
"printf('\nOxygen already available in fuel=80grams\nNet oxygen needed=2490grams');\n",
"MA=2490*100/23;//minimum weight of air needed in grams//\n",
"printf('\nminimum amount of air needed=MA=%fg',MA);\n",
"printf('\nProducts of combustion are CO2 and SO2');\n",
"printf('\nFrom the equations written above,44grams of CO2 is obtained 12grams of carbon\nhence,weight of CO2 obtained from 810grams of carbon=810*44/12=2970grams');\n",
"printf('\nSimilarly,weight of SO2 obtained from 10grams of sulphur=10*64/32=20grams');\n",
"NF=10+MA*0.77;//weight of nitrogen present in the products in grams//\n",
"printf('\nWeight of nitrogen present in the products=NF=%fg',NF);\n",
"WD=2970+20+8346;//total weight of dry products in grams//\n",
"printf('\nTotal weight of dry products=WD=%fg',WD);\n",
"PCO2=2970*100/WD;//percentage composition of CO2//\n",
"printf('\nPercentage composition of CO2=PCO2=%f',PCO2);\n",
"PSO2=20*100/WD;//percentage composition of SO2//\n",
"printf('\nPercentage composition of SO2=%f',PSO2);\n",
"PN2=8346*100/WD;//percentage composition of N2//\n",
"printf('\nPercentage composition of N2=PN2=%f',PN2);\n",
""
   ]
   }
,
{
		   "cell_type": "markdown",
		   "metadata": {},
		   "source": [
			"## Example 8.11: percentage_of_contents_in_the_sample.sce"
		   ]
		  },
  {
"cell_type": "code",
	   "execution_count": null,
	   "metadata": {
	    "collapsed": true
	   },
	   "outputs": [],
"source": [
"//Fuels and Combustion//\n",
"//Example 8.11//\n",
"CO=0.205;//volume of carbon monoxide in 1kg of gas sample in m3//\n",
"CO2=0.060;//volume of CO2 in 1kg of gas sample in m3//\n",
"CH4=0.042;//volume of CH4 in 1kg of gas sample in m3//\n",
"N=0.501;//volume of nytrogen in 1kg of gas sample in m3//\n",
"H2=0.194;//volume of hydrogen in 1kg of gas sample in m3//\n",
"printf('Corresponding to Combustion reactions involved we will get\nVolume of H2 needed=0.194*0.5=0.097m3\nVolume of CO needed=0.205*0.5=0.102m3\nVolume of CH4 needed=0.042*2.0=0.084m3');\n",
"printf('\nTotal volume of gases needed=0.283m3');\n",
"VA=0.283*(100/21)*(130/100);//volume of air needed in m3//\n",
"printf('\nVolume of air needed=VA=%fm3',VA);\n",
"VDCO2=0.06+0.205*1+0.042*1;//volume of dry products containig CO2 formed in m3//\n",
"printf('\nVolume of dry products containing CO2 formed=VDCO2=%fm3',VDCO2);\n",
"VDN2=0.501+1.752*79/100;//volume of dry products containig N2 formed in m3//\n",
"printf('\nVolume of dry products containing N2 formed=VDN2=%fm3',VDN2);\n",
"VDO2=1.755*21/100;//volume of dry products containig O2 formed in m3//\n",
"printf('\nVolume of dry products containing O2 formed=VDO2=%fm3',VDO2);\n",
"TVD=VDCO2+VDN2+VDO2;//total volume of dry products formed in m3//\n",
"printf('\nTotal volume of dry products formed=TVD=%fm3',TVD);\n",
"PDCO2=VDCO2*100/TVD;//percentage of dry products containig CO2 formed//\n",
"printf('\nPercentage of dry products containing CO2 formed=PDCO2=%f',PDCO2);\n",
"PDN2=VDN2*100/TVD;//percentage of dry products containig N2 formed//\n",
"printf('\nPercentage of dry products containing N2 formed=PDN2=%f',PDN2);\n",
"PDO2=VDO2*100/TVD;//percentage of dry products containig O2 formed//\n",
"printf('\nPercentage of dry products containing O2 formed=PDO2=%f',PDO2);\n",
"\n",
""
   ]
   }
,
{
		   "cell_type": "markdown",
		   "metadata": {},
		   "source": [
			"## Example 8.12: Amount_of_Air_and_Oxygen_needed.sce"
		   ]
		  },
  {
"cell_type": "code",
	   "execution_count": null,
	   "metadata": {
	    "collapsed": true
	   },
	   "outputs": [],
"source": [
"//Fuels and Combustion//\n",
"//Example 8.12//\n",
"C=780;//weight of carbon in 1kg of coal sample in grams//\n",
"O=120;//weight of oxygen in 1kg of coal sample in grams//\n",
"S=12;//weight of Sulphur in 1kg of coal sample in grams//\n",
"N=21;//weight of nytrogen in 1kg of coal sample in grams//\n",
"H=41;//weight of hydrogen in 1kg of coal sample in grams//\n",
"MO=C*32/12+H*16/2+S*32/32-O;//minimum weight of oxygen needed in grams//\n",
"printf('minimum weight of oxygen needed=MO=%fg',MO);\n",
"MA=MO*100/23;//minimum weight of air needed in grams//\n",
"printf('\nminimum amount of air needed=MA=%fg',MA);\n",
""
   ]
   }
,
{
		   "cell_type": "markdown",
		   "metadata": {},
		   "source": [
			"## Example 8.13: Amount_and_Volume_of_Air_and_Oxygen_needed.sce"
		   ]
		  },
  {
"cell_type": "code",
	   "execution_count": null,
	   "metadata": {
	    "collapsed": true
	   },
	   "outputs": [],
"source": [
"//Fuels and Combustion//\n",
"//Example 8.13//\n",
"C=1.5;//weight of carbon in 1kg of coal sample in Kilograms//\n",
"WO2=C*32/12;//weight of oxygen in carbon sample in Kilograms//\n",
"printf('weight of oxygen needed=WO2=%fKg',WO2);\n",
"WA=WO2*100/23;//weight of air in the carbon sample in Kilograms//\n",
"printf('\nweight of air in the carbon sample=WA=%fKg',WA);\n",
"printf('\nAs 32grams of oxygen occupies 22.4litres at NTP\n4000grams of oxygen occupies=22.4*4000/32=2800litres');\n",
"printf('\nHence volume of air is=100*2800/21=13333litres=13.33m3');"
   ]
   }
,
{
		   "cell_type": "markdown",
		   "metadata": {},
		   "source": [
			"## Example 8.14: percentage_of_contents_in_the_sample.sce"
		   ]
		  },
  {
"cell_type": "code",
	   "execution_count": null,
	   "metadata": {
	    "collapsed": true
	   },
	   "outputs": [],
"source": [
"//Fuels and Combustion//\n",
"//Example 8.14//\n",
"WC=1.508;//weight of coal sample in grams//\n",
"WH110=1.478;//weight of sample after heating at 110 degrees in grams//\n",
"m=WC-WH110;//weight of moisture in the sample//\n",
"printf('weight of moisture in the sample=m=%fg',m);\n",
"pm=m*100/WC;//percentage of moisture in the sample//\n",
"printf('\npercentage of moisture in the sample=pm=%f',pm);\n",
"WH950=1.068;//weight of sample after heating at 950 degrees in grams//\n",
"vm=WH110-WH950;//volatile matter in grams//\n",
"printf('\nWeight of volatile matter in the sample=vm=%fg',vm);\n",
"pvm=vm*100/WC;//percentage of voltaile matter//\n",
"printf('\npercentage of volatile matter in the sample=pvm=%f',pvm);"
   ]
   }
,
{
		   "cell_type": "markdown",
		   "metadata": {},
		   "source": [
			"## Example 8.15: Efficiency_of_fuel.sce"
		   ]
		  },
  {
"cell_type": "code",
	   "execution_count": null,
	   "metadata": {
	    "collapsed": true
	   },
	   "outputs": [],
"source": [
"//Fuels and Combustion//\n",
"//Example 8.15//\n",
"CR=7.8;//compression ratio for first case//\n",
"E1=1-(1/CR)^0.258;//Energy efficiency corresponding to CR value 7.8//\n",
"printf('Efficiency of the engine in the first case=E1=%f',E1);\n",
"CR=9.5;//compreesion ratio for second case//\n",
"E2=1-(1/CR)^0.258;//Energy efficiency corresponding to CR value 9.5//\n",
"printf('\nEfficiency of the engine in the second case=E2=%f',E2);\n",
"IE=E2-E1;//Increase in efficiency//\n",
"printf('\nIncrease in efficiency=IE=%f',IE);\n",
"PIE=IE*100/E2;//percentage of increase in efficiency//\n",
"printf('\nPercentage of increase in efficiency=PIE=%f',PIE);"
   ]
   }
,
{
		   "cell_type": "markdown",
		   "metadata": {},
		   "source": [
			"## Example 8.16: Amount_and_Volume_of_Air_needed.sce"
		   ]
		  },
  {
"cell_type": "code",
	   "execution_count": null,
	   "metadata": {
	    "collapsed": true
	   },
	   "outputs": [],
"source": [
"//Fuels and Combustion//\n",
"//Example 8.16//\n",
"C=3;//weight of carbon in 1kg of coal sample in Kilograms//\n",
"WO2=C*32/12;//weight of oxygen in carbon sample in Kilograms//\n",
"WA=WO2*100/23;//weight of air in the carbon sample in Kilograms//\n",
"printf('weight of air required for combustion of carbon=WA=%fKg',WA);\n",
"MA=WA/28.92;//mol of air in kilograms//\n",
"VA=MA*22.4;//Volume of air required in m3 air//\n",
"printf('\nVolume of air required=VA=%fm3',VA);"
   ]
   }
,
{
		   "cell_type": "markdown",
		   "metadata": {},
		   "source": [
			"## Example 8.17: Amount_and_Volume_of_Air_needed.sce"
		   ]
		  },
  {
"cell_type": "code",
	   "execution_count": null,
	   "metadata": {
	    "collapsed": true
	   },
	   "outputs": [],
"source": [
"//Fuels and Combustion//\n",
"//Example 8.17//\n",
"CO=0.46;//volume of carbon monoxide in 1kg of gas sample in m3//\n",
"C2H2=0.020;//volume of C2H2 in 1kg of gas sample in m3//\n",
"CH4=0.1;//volume of CH4 in 1kg of gas sample in m3//\n",
"N2=0.01;//volume of nytrogen in 1kg of gas sample in m3//\n",
"H2=0.40;//volume of hydrogen in 1kg of gas sample in m3//\n",
"printf('Corresponding to Combustion reactions involved we will get\nVolume of H2 needed=0.4*0.5=0.20m3\nVolume of CO needed=0.46*0.5=0.23m3\nVolume of CH4 needed=0.1*2.0=0.20m3\nVolume of C2H2 needed=0.02*2.5=0.05m3');\n",
"printf('\nTotal volume of gases needed=0.68m3');\n",
"VA=0.68*(100/21);//volume of air needed in m3//\n",
"printf('\nVolume of air needed=VA=%fm3',VA);\n",
"\n",
""
   ]
   }
,
{
		   "cell_type": "markdown",
		   "metadata": {},
		   "source": [
			"## Example 8.18: weight_of_contents_in_the_sample.sce"
		   ]
		  },
  {
"cell_type": "code",
	   "execution_count": null,
	   "metadata": {
	    "collapsed": true
	   },
	   "outputs": [],
"source": [
"//Fuels and Combustion//\n",
"//Example 8.18//\n",
"C=624;//weight of carbon in 1kg of coal sample in grams//\n",
"O=69;//weight of oxygen in 1kg of coal sample in grams//\n",
"S=8;//weight of Sulphur in 1kg of coal sample in grams//\n",
"N=12;//weight of nytrogen in 1kg of coal sample in grams//\n",
"H=41;//weight of hydrogen in 1kg of coal sample in grams//\n",
"CO2=129;//weight of CO2 in 1kg of coal sample in grams//\n",
"CO=2;//weight of CO in 1kg of coal sample in grams//\n",
"MO=C*32/12+H*16/2+S*32/32-O;//minimum weight of oxygen needed in grams//\n",
"MA=MO*0.1/23;//minimum weight of air needed in kilograms//\n",
"printf('minimum amount of air needed=MA=%fkg',MA);\n",
"WC=CO2*(12/44)+CO*(12/28);//weight of C in fuel gas/kg//\n",
"printf('\nWeight of C in fuel gas/kg=WC=%fg',WC);\n",
"WF=C/WC;//Weight of fuel gas/kg of coal in g//\n",
"printf('\nweight of fuel gas/kg of coal=WF=%fg',WF);\n",
"O2=2*16/28;//O2 needed to convert CO to CO2 in Kg//\n",
"RWO2=(61-O2)/1000;//remaining weight of O2/kg of fuel gas in Kg//\n",
"printf('\nRemaining weight of O2/kg of fuel gas=RWO2=%fkg',RWO2);\n",
"WO2=WF*RWO2;//weight of O2 obtained by burning 1kg coal in kg//\n",
"printf('\nWeight of O2 obtained by burning coal=WO2=%fkg',WO2);\n",
"AR=WO2*100/23;//air required in kilograms//\n",
"printf('\nAir required=AR=%fkg',AR);\n",
"WAS=MA+AR;//weight of air actually supplied/kg coal burnt in kg//\n",
"printf('\nWeight of air actually supplied/kg coal burnt=WAS=%fkg',WAS);\n",
""
   ]
   }
,
{
		   "cell_type": "markdown",
		   "metadata": {},
		   "source": [
			"## Example 8.19: calorific_value.sce"
		   ]
		  },
  {
"cell_type": "code",
	   "execution_count": null,
	   "metadata": {
	    "collapsed": true
	   },
	   "outputs": [],
"source": [
"//Fuels and Combustion//\n",
"//Example 8.19//\n",
"w=1080;//quantity of water in grams//\n",
"W=150;//Water equivalent of calorimeter in grams//\n",
"x=0.681;//quantity of fuel carried out in combustion in grams//\n",
"dt=3.61;//rise in temperature of water in degree C//\n",
"Q=(w+W)*(dt)/x;//calorific value of the fuel in cal per grams//\n",
"printf('Calorific value of the fuel=Q=%fcal/g',Q);"
   ]
   }
,
{
		   "cell_type": "markdown",
		   "metadata": {},
		   "source": [
			"## Example 8.1: calorific_value.sce"
		   ]
		  },
  {
"cell_type": "code",
	   "execution_count": null,
	   "metadata": {
	    "collapsed": true
	   },
	   "outputs": [],
"source": [
"//Fuels and Combustion//\n",
"//Example 8.1//\n",
"w=1500;//quantity of water in grams//\n",
"W=125;//Water equivalent of calorimeter in grams//\n",
"x=1.050;//quantity of fuel carried out in combustion in grams//\n",
"t1=25;//initial temperature of water in degree C//\n",
"t2=27.8;//final temperature of water in degree C//\n",
"Q=(w+W)*(t2-t1)/x;//calorific value of the fuel in cal per grams//\n",
"printf('Calorific value of the fuel=Q=%fcal/g',Q);"
   ]
   }
,
{
		   "cell_type": "markdown",
		   "metadata": {},
		   "source": [
			"## Example 8.20: Gross_calorific_value.sce"
		   ]
		  },
  {
"cell_type": "code",
	   "execution_count": null,
	   "metadata": {
	    "collapsed": true
	   },
	   "outputs": [],
"source": [
"//Fuels and Combustion//\n",
"//Example 8.20//\n",
"w=1080;//quantity of water taken in grams//\n",
"W=150;//Water equivalent of calorimeter in grams//\n",
"m=0.681;//weight of coal taken or mass of fuel in grams//\n",
"dt=3.61;//rise in temperature of water in degree C//\n",
"AC=50;//Acid correction in calories//\n",
"FC=5;//Fuse wire correction in calories//\n",
"CC=0.05;//cooling correction in calories//\n",
"GCV=((w+W)*(dt+CC)-(AC+FC))/m;//Gross calorific value of the sample in cal per grams//\n",
"printf('Gross Calorific value of the fuel=GCV=%fcal/g',GCV);"
   ]
   }
,
{
		   "cell_type": "markdown",
		   "metadata": {},
		   "source": [
			"## Example 8.21: Gross_calorific_value.sce"
		   ]
		  },
  {
"cell_type": "code",
	   "execution_count": null,
	   "metadata": {
	    "collapsed": true
	   },
	   "outputs": [],
"source": [
"//Fuels and Combustion//\n",
"//Example 8.21//\n",
"C=90.2;//percentage of carbon//\n",
"O=2.9;//percentage of oxygen//\n",
"H=2.40;//percentage of hydrogen//\n",
"GCV=(8080*C+34400*(H-O/8))/100;//Gross calorific value of the sample in cal per grams//\n",
"printf('\nGross Calorific value of the fuel=GCV=%fcal/g',GCV);"
   ]
   }
,
{
		   "cell_type": "markdown",
		   "metadata": {},
		   "source": [
			"## Example 8.22: Maximum_temperature_that_can_be_achieved.sce"
		   ]
		  },
  {
"cell_type": "code",
	   "execution_count": null,
	   "metadata": {
	    "collapsed": true
	   },
	   "outputs": [],
"source": [
"//Fuels and Combustion//\n",
"//Example 8.22//\n",
"a=0.9;//absorptivity//\n",
"e=0.04;//emissivity//\n",
"P=750;//Sun light energy available in W/m2//\n",
"Q=5.67;//conductivity in 10^-8//\n",
"T4=a*P/(Q*e);\n",
"T=738;//maximum temperature that can be achieved//\n",
"printf('Maximum temeperature that can be achieved=T=%fK',T);"
   ]
   }
,
{
		   "cell_type": "markdown",
		   "metadata": {},
		   "source": [
			"## Example 8.2: Gross_calorific_value.sce"
		   ]
		  },
  {
"cell_type": "code",
	   "execution_count": null,
	   "metadata": {
	    "collapsed": true
	   },
	   "outputs": [],
"source": [
"//Fuels and Combustion//\n",
"//Example 8.2//\n",
"C=90;//percentage of carbon//\n",
"O=3.0;//percentage of oxygen//\n",
"S=0.5;//percentage of sulphur//\n",
"N=0.5;//percentage of nytrogen//\n",
"H=4.60;//percentage of hydrogen//\n",
"LCV=8500;//Law calorific value of the coal in Kcal/Kg//\n",
"printf('percentage of hydrogen=H=%f',H);\n",
"GCV=(8080*C+34500*(H-O/8)+2240*S)/100;//Gross calorific value of the sample in cal per grams//\n",
"printf('\nGross Calorific value of the fuel=GCV=%fcal/g',GCV);"
   ]
   }
,
{
		   "cell_type": "markdown",
		   "metadata": {},
		   "source": [
			"## Example 8.3: Gross_and_Net_calorific_value.sce"
		   ]
		  },
  {
"cell_type": "code",
	   "execution_count": null,
	   "metadata": {
	    "collapsed": true
	   },
	   "outputs": [],
"source": [
"//Fuels and Combustion//\n",
"//Example 8.3//\n",
"w=500;//quantity of water taken in grams//\n",
"W=2000;//Water equivalent of calorimeter in grams//\n",
"m=1.000;//weight of coal taken or mass of fuel in grams//\n",
"t1=24;//initial temperature of water in degree C//\n",
"t2=26.2;//final temperature of water in degree C//\n",
"AC=50;//Acid correction in calories//\n",
"FC=10;//Fuse wire correction in calories//\n",
"CC=0;//cooling correction in calories//\n",
"GCV=((w+W)*(t2-t1+CC)-(AC+FC))/m;//Gross calorific value of the sample in cal per grams//\n",
"printf('Gross Calorific value of the fuel=GCV=%fcal/g',GCV);\n",
"H=6;//percentage of hydrogen//\n",
"C=93;//percentage of carbon//\n",
"LCV=GCV-(9*H*580/100);//Net calorific value of the sample in cal per gram//\n",
"printf('\nNet calorific value of the sample=LCV=%fcal/g',LCV);"
   ]
   }
,
{
		   "cell_type": "markdown",
		   "metadata": {},
		   "source": [
			"## Example 8.4: percentage_of_contents_in_the_sample.sce"
		   ]
		  },
  {
"cell_type": "code",
	   "execution_count": null,
	   "metadata": {
	    "collapsed": true
	   },
	   "outputs": [],
"source": [
"//Fuels and Combustion//\n",
"//Example 8.4//\n",
"WC=1.5642;//weight of coal sample in grams//\n",
"WH110=1.5022;//weight of sample after heating at 110 degrees in grams//\n",
"m=WC-WH110;//weight of moisture in the sample//\n",
"printf('weight of moisture in the sample=m=%fg',m);\n",
"pm=m*100/WC;//percentage of moisture in the sample//\n",
"printf('\npercentage of moisture in the sample=pm=%f',pm);\n",
"WH950=0.7628;//weight of sample after heating at 950 degrees in grams//\n",
"vm=WH110-WH950;//volatile matter in grams//\n",
"printf('\nWeight of volatile matter in the sample=vm=%fg',vm);\n",
"pvm=vm*100/WC;//percentage of voltaile matter//\n",
"printf('\npercentage of volatile matter in the sample=pvm=%f',pvm);\n",
"ac=0.2140;//Ash content left in the last in grams//\n",
"pac=ac*100/WC;//percentage of Ash content laft//\n",
"printf('\npercentage of Ash content in the sample=pac=%f',pac);\n",
"pfc=100-(pm+pvm-pac);//percentage of fixaed carbon//\n",
"printf('\npercentage of fixed carbon in the sample=pfc=%f',pfc);"
   ]
   }
,
{
		   "cell_type": "markdown",
		   "metadata": {},
		   "source": [
			"## Example 8.5: percentage_of_sulphur.sce"
		   ]
		  },
  {
"cell_type": "code",
	   "execution_count": null,
	   "metadata": {
	    "collapsed": true
	   },
	   "outputs": [],
"source": [
"//Fuels and Combustion//\n",
"//Example 8.5//\n",
"WBaSO4=0.0482;//weight of BaSO4 in grams//\n",
"W=0.5248;//weight of sample in grams//\n",
"PS=32*WBaSO4*100/(233*W);//percentage of sulphur in the sample//\n",
"printf('percentage of sulphur in the sample=PS=%f',PS);"
   ]
   }
,
{
		   "cell_type": "markdown",
		   "metadata": {},
		   "source": [
			"## Example 8.6: Gross_and_Net_calorific_value.sce"
		   ]
		  },
  {
"cell_type": "code",
	   "execution_count": null,
	   "metadata": {
	    "collapsed": true
	   },
	   "outputs": [],
"source": [
"//Fuels and Combustion//\n",
"//Example 8.6//\n",
"W=10;//weight of Water heated of calorimeter in Kilograms//\n",
"V=0.1;//volume of gas used in metrecube//\n",
"t1=22;//inlet temperature of water in degree C//\n",
"t2=30;//outlet temperature of water in degree C//\n",
"GCV=W*(t2-t1)/V;//Gross calorific value of the sample in Kilocal per metre3//\n",
"printf('Gross Calorific value of the fuel=GCV=%fKcal/m3',GCV);\n",
"L=580;//latent heat of water in cal/g//\n",
"Ws=0.025;//weight of steam condensed in grams//\n",
"LCV=GCV-(Ws*L/V);//Net calorific value of the sample in Kcal per meter3//\n",
"printf('\nNet calorific value of the sample=LCV=%fKcal/m3',LCV);"
   ]
   }
,
{
		   "cell_type": "markdown",
		   "metadata": {},
		   "source": [
			"## Example 8.7: amount_of_air_needed.sce"
		   ]
		  },
  {
"cell_type": "code",
	   "execution_count": null,
	   "metadata": {
	    "collapsed": true
	   },
	   "outputs": [],
"source": [
"//Fuels and Combustion//\n",
"//Example 8.7//\n",
"C=90;//percentage of carbon//\n",
"O=3.0;//percentage of oxygen//\n",
"S=0.5;//percentage of sulphur//\n",
"N=0.5;//percentage of nytrogen//\n",
"H=3.5;//percentage of hydrogen//\n",
"H2O=0.1;//percentage of H2O//\n",
"printf('12grams of carbon will need 32grams of oxygen\n2grams of hydrogen will need 16grams of oxygen\n32grams of sulphur will need 32grams of oxygen');\n",
"AO=900*32/12+35*16/2+5*32/32;//amount of oxygen required in grams//\n",
"printf('\nBut we already have 30grams of oxygen \nso amount of oxygen we require is 2655grams');\n",
"AN=2655*100/23;//amount of air needed in grams//\n",
"printf('\namount of air needed=AN=%fg',AN);"
   ]
   }
,
{
		   "cell_type": "markdown",
		   "metadata": {},
		   "source": [
			"## Example 8.8: Amount_and_Volume_of_Air_and_Oxygen_needed.sce"
		   ]
		  },
  {
"cell_type": "code",
	   "execution_count": null,
	   "metadata": {
	    "collapsed": true
	   },
	   "outputs": [],
"source": [
"//Fuels and Combustion//\n",
"//Example 8.8//\n",
"CH4=0.14;//volume of CH4 in 1m3 volume of gaseous fuel in m3//\n",
"H2=0.32;//volume of H2 in 1m3 volume of gaseous fuel in m3//\n",
"N2=0.40;//volume of N2 in 1m3 volume of gaseous fuel in m3//\n",
"O2=0.14;//volume of O2 in 1m3 volume of gaseous fuel in m3//\n",
"printf('Volume of oxygen required for CH4=0.14*2=0.28m3');\n",
"printf('\nVolume of oxygen required for H2=0.32*0.5=0.16m3');\n",
"printf('\nTotal oxygen required=0.28+0.16=0.44m3');\n",
"printf('\nOxygen already present=0.14m3');\n",
"printf('\nNet oxygen required=0.44-0.14=0.30m3=300Letres');\n",
"printf('\nVolume of air required assuming 21percent oxygen in air by volume=300*(100/21)*(125/100)=1785.7Letres');"
   ]
   }
,
{
		   "cell_type": "markdown",
		   "metadata": {},
		   "source": [
			"## Example 8.9: Gross_and_Net_calorific_value.sce"
		   ]
		  },
  {
"cell_type": "code",
	   "execution_count": null,
	   "metadata": {
	    "collapsed": true
	   },
	   "outputs": [],
"source": [
"//Fuels and Combustion//\n",
"//Example 8.9//\n",
"C=750;//weight of carbon in 1kg of coal sample in grams//\n",
"O=121;//weight of oxygen in 1kg of coal sample in grams//\n",
"A=45;//weight of Ash in 1kg of coal sample in grams//\n",
"N=32;//weight of nytrogen in 1kg of coal sample in grams//\n",
"H=52;//weight of hydrogen in 1kg of coal sample in grams//\n",
"MO=C*32/12+H*16/2-O;//minimum weight of oxygen needed in grams//\n",
"printf('minimum weight of oxygen needed=MO=%fg',MO);\n",
"MA=MO*100/23;//minimum weight of air needed in grams//\n",
"printf('\nminimum amount of air needed=MA=%fg',MA);\n",
"GCV=(808*C+3450*(H-O/8))/100;//Gross calorific value of the sample in cal per grams//\n",
"printf('\nGross Calorific value of the fuel=GCV=%fcal/g',GCV);\n",
"LCV=GCV-0.09*H*0.1*587;//law calorific value of the sample in cal/gram//\n",
"printf('\nLaw calorific value of the sample=LCV=%fcal/g',LCV);"
   ]
   }
],
"metadata": {
		  "kernelspec": {
		   "display_name": "Scilab",
		   "language": "scilab",
		   "name": "scilab"
		  },
		  "language_info": {
		   "file_extension": ".sce",
		   "help_links": [
			{
			 "text": "MetaKernel Magics",
			 "url": "https://github.com/calysto/metakernel/blob/master/metakernel/magics/README.md"
			}
		   ],
		   "mimetype": "text/x-octave",
		   "name": "scilab",
		   "version": "0.7.1"
		  }
		 },
		 "nbformat": 4,
		 "nbformat_minor": 0
}
