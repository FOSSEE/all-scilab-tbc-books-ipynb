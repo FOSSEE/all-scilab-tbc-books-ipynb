{
"cells": [
 {
		   "cell_type": "markdown",
	   "metadata": {},
	   "source": [
       "# Chapter 2: acids and bases"
	   ]
	},
{
		   "cell_type": "markdown",
		   "metadata": {},
		   "source": [
			"## Example 2.10: hydrogen_ion_concentration.sce"
		   ]
		  },
  {
"cell_type": "code",
	   "execution_count": null,
	   "metadata": {
	    "collapsed": true
	   },
	   "outputs": [],
"source": [
"//acids and bases//\n",
"//example 2.10//\n",
"W=0.092;//weight of Formic acid per litre in grams//\n",
"M=46;//molecular weight of Formic acid//\n",
"N=W/M;\n",
"printf('The normality of Formic acid is %fg.equivalent/lit',N);\n",
"V=1/N;\n",
"K=2.4*10^-4;//Dissociation constant of Formic acid at 25C//\n",
"a=sqrt(K*V);//For weak acids//\n",
"printf('\nDegree of dissociation is %f',a);\n",
"H=a*N;\n",
"printf('\n The H+ concentration of the solution is %fg.ion/lit',H);"
   ]
   }
,
{
		   "cell_type": "markdown",
		   "metadata": {},
		   "source": [
			"## Example 2.11: concentration_of_hydroxyl_ion.sce"
		   ]
		  },
  {
"cell_type": "code",
	   "execution_count": null,
	   "metadata": {
	    "collapsed": true
	   },
	   "outputs": [],
"source": [
"//acids and bases//\n",
"//example 2.11//\n",
"disp('In the presence of highly ionised NH4Cl,ammonium hydroxide is practically unionised.Thus all NH4+ ions are obtained from the dissociation of NH4Cl');\n",
"k=2.5*10^-5;//dissociation constant of NH4OH//\n",
"N=1/100;//normality of NH4OH//\n",
"C=N;//since volume of solution is one litre//\n",
"NH=C;\n",
"printf('NH4+ concentration is %fg.ion/lit',NH);\n",
"NHOH=C;\n",
"printf('\nNH4OH concentration is %fg.ion/lit',NHOH);\n",
"OH1=k*NHOH/NH;\n",
"OH=OH1/10^-5;\n",
"printf('\nHydroxyl ion concentration in the solution is %f*10^-5',OH);\n",
"a=OH1/N;\n",
"printf('\nDegree of dissociation of the solution is %f',a);"
   ]
   }
,
{
		   "cell_type": "markdown",
		   "metadata": {},
		   "source": [
			"## Example 2.12: concentration_hydroxyl_ion.sce"
		   ]
		  },
  {
"cell_type": "code",
	   "execution_count": null,
	   "metadata": {
	    "collapsed": true
	   },
	   "outputs": [],
"source": [
"\n",
"//acids and bases//\n",
"//example 2.12//\n",
"K=1.7*10^-5;//Dissociation constant of NH4OH//\n",
"N=0.01;//Normality of NH4OH solution//\n",
"V=1/N;\n",
"a=sqrt(K*V);//since a is very small//\n",
"printf('percentage of ionization is %f',a);\n",
"OH=a*N;\n",
"printf('\n concentration of OH- ions before addition of NH4Cl is %fg.ion/lit',OH);\n",
"disp('concentration of hydroxyl ions after adding NH4Cl:');\n",
"disp(' In the presence of highly ionized NH4Cl,ammonium-hydroxide will remain practically unionized.Thus,all NH4+ ions will be obtained from dissociation of NH4Cl');\n",
"NH4=0.05;//concentration of NH4+ in g.ion/lit//\n",
"NH4OH=0.01;//concentration of NH4OH in g.mol/lit//\n",
"OH=K*NH4OH/NH4;\n",
"OH=OH/10^-6;\n",
"printf('\n the concentration of hydroxyl ions after adding NH4Cl is %fmg.ion/lit',OH);\n",
"disp(' A comparision of OH- concentration under two conditions indicate that hydroxyl ion concentration is decreased by addition of ammonium chloride');"
   ]
   }
,
{
		   "cell_type": "markdown",
		   "metadata": {},
		   "source": [
			"## Example 2.13: degree_of_dissociatio.sce"
		   ]
		  },
  {
"cell_type": "code",
	   "execution_count": null,
	   "metadata": {
	    "collapsed": true
	   },
	   "outputs": [],
"source": [
"//acids and bases//\n",
"//example 2.13//\n",
"k=1.8*10^-5;//dissociation constant of acetic acid at 18C//\n",
"N=0.25;//normality of acetic acid solution//\n",
"V=1/N;\n",
"a=sqrt(k*V);//formula of degree of dissociation for weak acids//\n",
"a1=a/10^-3;\n",
"printf('Degree of dissociation of acetic acid is %f*10^-3',a1);\n",
"H=N*a;\n",
"H1=H/10^-3;\n",
"printf('\nH+ concentration of the solution is %f*10^-3g.ion/litre',H1);\n",
"N2=0.25//normality os sodium acetate added//\n",
"printf('\nIn presence of completely dissociated sodium acetate,acetic acid will be practically unionisad.Thus,all the acetate ions are obtained from dissociation of sodium acetate.');\n",
"CH3COO=N2;\n",
"printf('\nConcentration of CH3COO- is %fg.ion/litre',CH3COO);\n",
"CH3COOH=N2;\n",
"printf('\nConcentration of CH3COOH is %fg.ions/lit',CH3COOH);\n",
"H2=k*CH3COOH/CH3COO;\n",
"H3=H2/10^-5;\n",
"printf('\nH+ ion concentration after adding sodium acetate is %f*10^-5',H3);\n",
"a2=H2/N2;\n",
"a3=a2/10^-5;\n",
"printf('\nDegree of dissociation after adding sodium acetate is %f*10^-5',a3);"
   ]
   }
,
{
		   "cell_type": "markdown",
		   "metadata": {},
		   "source": [
			"## Example 2.14: pH_of_buffer_solutio.sce"
		   ]
		  },
  {
"cell_type": "code",
	   "execution_count": null,
	   "metadata": {
	    "collapsed": true
	   },
	   "outputs": [],
"source": [
"//acids and bases//\n",
"//example 2.14//\n",
"C1=0.06;//concentration od acetic acid in g.mol/lit//\n",
"C2=0.04;//concentration of sodium acetate in g.mol/li//\n",
"disp('Due to the fact sodium acetate being completely dissociated avd acetic acid in the presence of former,the acetate ions are mainly obtained from the former');\n",
"printf('the concentration of acetate ions are %fg.ion/lit',C2);\n",
"K=1.8*10^-5;//dissociation constant of acetic acid//\n",
"H=K*C1/C2;\n",
"printf('\nthe H+ concentration of the solution is %fg.ion/lit',H);\n",
"pH=-log10(H);\n",
"printf('\nThe pH of solution is %f',pH);"
   ]
   }
,
{
		   "cell_type": "markdown",
		   "metadata": {},
		   "source": [
			"## Example 2.15: pH_of_buffer_solutio.sce"
		   ]
		  },
  {
"cell_type": "code",
	   "execution_count": null,
	   "metadata": {
	    "collapsed": true
	   },
	   "outputs": [],
"source": [
"//acids and bases//\n",
"//example 2.15//\n",
"M1=0.2;//molarity of acetic acid//\n",
"M2=0.2;//molarity of sodium acetate//\n",
"K=1.8*10^-5;\n",
"pH=-log10(K)+log10(M2/M1);//by using Henderson's equation//\n",
"printf('The pH value of buffer solution is %f',pH);"
   ]
   }
,
{
		   "cell_type": "markdown",
		   "metadata": {},
		   "source": [
			"## Example 2.16: hydrogen_ion_concentration.sce"
		   ]
		  },
  {
"cell_type": "code",
	   "execution_count": null,
	   "metadata": {
	    "collapsed": true
	   },
	   "outputs": [],
"source": [
"//acids and bases//\n",
"//example 2.16//\n",
"N=1/100;//normality of acetic acid//\n",
"V=1/N;\n",
"k=1.8*10^-5;//dissociation constant of acetic acid//\n",
"a=sqrt(k*V);//formula of degree of dissociation for weak acids//\n",
"H=a*N;\n",
"H=H/10^-4;\n",
"printf('H+ concentration of the solution is %f*10^-4',H);\n",
"n=0.01;//sodium acetate added in moles to one litre of acetic acid solution//\n",
"CH3COO=n;\n",
"printf('\nCH3COO- concentration is %fg.ion/lit',CH3COO);\n",
"CH3COOH=n;\n",
"printf('\nCH3COOH concentration is %fg.ion/lit',CH3COOH);\n",
"H1=k*CH3COOH/CH3COO;\n",
"printf('\nH+ ion concentration in the solution after adding the sodium acetate is %fg.ions/litre',H1);"
   ]
   }
,
{
		   "cell_type": "markdown",
		   "metadata": {},
		   "source": [
			"## Example 2.17: hydrogen_ion_concentration.sce"
		   ]
		  },
  {
"cell_type": "code",
	   "execution_count": null,
	   "metadata": {
	    "collapsed": true
	   },
	   "outputs": [],
"source": [
"//acids and bases//\n",
"//example 2.17//\n",
"V=10;//volume of water in litres//\n",
"N1=0.10;//moles of HCN added in solution//\n",
"N2=0.10;//moles of NaCN added in solution//\n",
"K=7.2*10^-10;//dissociation constant of HCN//\n",
"CN=0.1;//CN- concentration//\n",
"HCN=0.1;//HCN concentration//\n",
"H1=K*HCN/CN;\n",
"H=H1/10^-10;\n",
"k=1*10^-14;//ionization constant of water//\n",
"printf('H+ concentration in the solution is %f*10^-10',H);\n",
"OH=k/H1;\n",
"OH=OH/10^-5;\n",
"printf('\nOH- concentration in the solution is %f*10^-5',OH);"
   ]
   }
,
{
		   "cell_type": "markdown",
		   "metadata": {},
		   "source": [
			"## Example 2.18: ratio_of_salt_to_acid.sce"
		   ]
		  },
  {
"cell_type": "code",
	   "execution_count": null,
	   "metadata": {
	    "collapsed": true
	   },
	   "outputs": [],
"source": [
"//acids and bases//\n",
"//example 2.18//\n",
"K=1.7*10^-5;//dissociation constant of acid//\n",
"pH=3.77//pH value of buffer solution//\n",
"M=pH+log10(K);\n",
"N=10^M;//ratio of salt to acid//\n",
"L=1/N\n",
"printf('The ratio of salt to acid in buffer is %f',L);"
   ]
   }
,
{
		   "cell_type": "markdown",
		   "metadata": {},
		   "source": [
			"## Example 2.19: degree_of_dissociation_and_pH.sce"
		   ]
		  },
  {
"cell_type": "code",
	   "execution_count": null,
	   "metadata": {
	    "collapsed": true
	   },
	   "outputs": [],
"source": [
"//acids and bases//\n",
"//example 2.19//\n",
"k=1.8*10^-5;//dissociation constant of acetic acid//\n",
"M=0.01;//molarity of acetic acid//\n",
"N=M*1;//normality of acetic acid//\n",
"V=1/N;\n",
"a=sqrt(k*V)//degree of dissociation for weak acids//\n",
"printf('degree of dissociation of solution is %f',a);\n",
"H1=a/V;\n",
"H=H1/10^-4;\n",
"printf('\nH+ concentration in solution is %f*10^-4g.ion/lit',H);\n",
"pH=-log10(H1);\n",
"printf('\npH of the solution is %f',pH);"
   ]
   }
,
{
		   "cell_type": "markdown",
		   "metadata": {},
		   "source": [
			"## Example 2.1: pH_calculatio.sce"
		   ]
		  },
  {
"cell_type": "code",
	   "execution_count": null,
	   "metadata": {
	    "collapsed": true
	   },
	   "outputs": [],
"source": [
"//acids and bases//\n",
"//example 2.1//\n",
"//(a)//\n",
"N1=1/1000;//normality of HCl//\n",
"a=100;//percentage of ionization//\n",
"C1=N1*a/100;\n",
"printf('The concentration of H+ ion in HCl solution is %fg.ion/lit',C1);\n",
"pH1=-log10(C1);\n",
"printf('\nThe pH of N/1000 HCl solution is %f',pH1);\n",
"N2=1/10000;//normality of NaOH solution//\n",
"C2=N2*a/100;\n",
"C2a=C2/10^-4;\n",
"printf('\nThe concentration of OH- ions in N/10000 NaOH solution is %f*10^-4g.ion/lit',C2a);\n",
"k=10^-14;//dissociation constant of water//\n",
"H2=k/C2;\n",
"H2a=H2/10^-10;\n",
"printf('\nThe H+ concentration in N/10000 NaOH solution is %f*10^-10g.ion/lit',H2a);\n",
"pH2=-log10(H2);\n",
"printf('\nThe pH of the N/10000 solution is %f',pH2);\n",
"N3=1/1000;//normality of NaOH solution//\n",
"C3=N3*a/100;\n",
"C3a=C3/10^-3;\n",
"printf('\nThe concentration of OH- ions in N/1000 NaOH solution is %f*10^-3g.ion/lit',C3a);\n",
"H3=k/C3;\n",
"H3a=H3/10^-11;\n",
"printf('\nThe H+ concentration in N/1000 NaOH solution is %f*10^-11g.ion/lit',H3a);\n",
"pH3=-log10(H3);\n",
"printf('\nThe pH of the N/1000 solution is %f',pH3);\n",
"//(b)//\n",
"N=0.1;//normality of given weak base//\n",
"pH=9;//pH of the base//\n",
"H=10^(-pH);\n",
"Ha=H/10^-9\n",
"printf('\nH+ concentration of the weak base is %f*10^-9g.ion/lit',Ha);\n",
"OH=k/H;\n",
"OHa=OH/10^-5;\n",
"printf('\nOH- concentration of the base is %f*10^-5g.ion/lt',OHa);\n",
"a1=OH/N;\n",
"a1b=a1/10^-4;\n",
"printf('\nDegree of ionization of given weak base is %f*10^-4',a1b);"
   ]
   }
,
{
		   "cell_type": "markdown",
		   "metadata": {},
		   "source": [
			"## Example 2.20: pH_of_resultant_liquid.sce"
		   ]
		  },
  {
"cell_type": "code",
	   "execution_count": null,
	   "metadata": {
	    "collapsed": true
	   },
	   "outputs": [],
"source": [
"//acids and bases//\n",
"//example 2.20//\n",
"N1=0.2//concentration of acetic acid in g.molecule/lit//\n",
"N2=0.25//concentration of sodium acetate in g.molecule/lit//\n",
"K=1.8*10^-5//ionization constant of acetic acid at room temparature//\n",
"pH1=-log10(K)+log10(N2/N1);\n",
"printf('pH value of the solution before adding HCl is %f',pH1);\n",
"N=1//normality of HCl added//\n",
"V=0.5*10^-3//amount of HCl added in lit//\n",
"M=N*V\n",
"printf('\nThe amount of HCl added in moles is %f',M);\n",
"printf('\nassuming HCl to be completely ionized,the amount of H+ ions added will be %f mole',M);\n",
"printf('\n due to addition of H+ ions the amount of acetic acid will increase and that of salt will correspondingly decrease by %f moles',M);\n",
"C1=N1+M//concentration of CH3COOH in moles/lit//\n",
"C2=N2-M//concentration of CH3COONa in moles/lit//\n",
"pH2=-log10(K)+log10(C2/C1);\n",
"printf('\nThe pH of the solution after adding HCl is %f',pH2);\n",
"pH=pH1-pH2;\n",
"printf('\nThe change of pH is %f',pH);"
   ]
   }
,
{
		   "cell_type": "markdown",
		   "metadata": {},
		   "source": [
			"## Example 2.21: hydroxyl_ion_concentration.sce"
		   ]
		  },
  {
"cell_type": "code",
	   "execution_count": null,
	   "metadata": {
	    "collapsed": true
	   },
	   "outputs": [],
"source": [
"//acids and bases//\n",
"//example 2.21//\n",
"K=18*10^-6;//dissociation constant of NH4OH//\n",
"N1=0.1;//normality of NH4OH solution//\n",
"V=1/N1;\n",
"a=sqrt(K*V)//since a is very small//\n",
"printf('degree of dissociation is %f',a);\n",
"OH=a/V;\n",
"printf('\nThe concentration of hydroxyl ion before adding of NH4Cl is %fg.ion/lit',OH);\n",
"W=2//weight of added NH4Cl in grams//\n",
"M=53//molecular weight of NH4Cl//\n",
"C=W/M;\n",
"printf('\nThe concentration of NH4+ ions is %fg.mol/lit',C);\n",
"C1=0.1;//concentration of NH4OH in g.mol/lit//\n",
"OH2=K*C1/C;\n",
"printf('\nThe concentration of hydroxyl ion after adding 2g of NH4Cl is %fg.ion/lit',OH2);"
   ]
   }
,
{
		   "cell_type": "markdown",
		   "metadata": {},
		   "source": [
			"## Example 2.22: dissociation_constant_and_pH_of_aceticacid.sce"
		   ]
		  },
  {
"cell_type": "code",
	   "execution_count": null,
	   "metadata": {
	    "collapsed": true
	   },
	   "outputs": [],
"source": [
"//acids and bases//\n",
"//example 2.22//\n",
"ly=11.92;//equivalent conductvity of 0.02acetic acid solution in mho at 20C//\n",
"lih=360;//the equivalent ionic conductance of an infinite dillution of hydrogen ion in mho//\n",
"lic=40;//of acetate ion//\n",
"li=lih+lic;//of acetic acid//\n",
"a=ly/li;//degree of dissociation//\n",
"N=0.02;//normality of acetic acid//\n",
"V=1/N;\n",
"K=(a^2)/V;\n",
"Ka=K/10^-6;\n",
"printf('Dissociation constant of acetic acid is %f*10^-6',Ka);\n",
"W=82;//mol.wt of CH3COONa//\n",
"M=8.2//amount of sodium acetate added in g per litre solution//\n",
"printf('\nIn the presence of sodium acetate,all the acetate ions are obtained from sodium acetate only');\n",
"CH3COO=M/W;\n",
"printf('\nCH3COO- ion concentration is %fg.ion/lit',CH3COO);\n",
"printf('\nCH3COOH concentration is %fg.mol/lit',N);\n",
"H=K*N/CH3COO;\n",
"pH=-log10(K*N/CH3COO);\n",
"printf('\npH of the solution is %f',pH);"
   ]
   }
,
{
		   "cell_type": "markdown",
		   "metadata": {},
		   "source": [
			"## Example 2.23: hydrogen_ion_concentration_in_cleaning_solution.sce"
		   ]
		  },
  {
"cell_type": "code",
	   "execution_count": null,
	   "metadata": {
	    "collapsed": true
	   },
	   "outputs": [],
"source": [
"//acids and bases//\n",
"//example 2.23//\n",
"OH=0.0025;//OH- concentration//\n",
"K=1*10^-14//water ionization constant//\n",
"H=K/OH;\n",
"H=H/10^-12;\n",
"printf('The concentration of H+ ions is %f*10^-12M',H);\n",
"printf('\nThe concentration of OH- ions is %fM',OH);\n",
"printf('\nAs concentration of H+ is lesser than the concentration of OH- the cleaning solution will be basic in nature');"
   ]
   }
,
{
		   "cell_type": "markdown",
		   "metadata": {},
		   "source": [
			"## Example 2.24: pH_oh_human_blood.sce"
		   ]
		  },
  {
"cell_type": "code",
	   "execution_count": null,
	   "metadata": {
	    "collapsed": true
	   },
	   "outputs": [],
"source": [
"//acids and bases//\n",
"//example 2.24//\n",
"pH=7.3;//pH value of human blood//\n",
"H=10^-pH;\n",
"H1=H/10^-6\n",
"printf('H+ concentration of human blood is %f*10^-6M',H1);\n",
"k=1*10^-14;//water ionization constant//\n",
"OH=k/H;\n",
"OH=OH/10^-6;\n",
"printf('\nOH- concentration of human blood is %f*10^-6M',OH);"
   ]
   }
,
{
		   "cell_type": "markdown",
		   "metadata": {},
		   "source": [
			"## Example 2.25: pH_of_HCl_and_NaOH_solution.sce"
		   ]
		  },
  {
"cell_type": "code",
	   "execution_count": null,
	   "metadata": {
	    "collapsed": true
	   },
	   "outputs": [],
"source": [
"//acids and bases//\n",
"//example 2.25//\n",
"N1=0.2;//normality of HCl//\n",
"V1=25;//volume of HCl in ml//\n",
"M2=0.25;//molarity of NaOH//\n",
"N2=M2*1;//normality of NaOH//\n",
"V2=50;//volume of NaOH in ml//\n",
"V=V1+V2;//volume of resulting solution//\n",
"N=(N2*V2-N1*V1)/V;//normality of resulting solution//\n",
"printf('Concentration of OH- per litre in the mixure will be %fM',N);\n",
"K=1*10^-14;//ionization constant of water//\n",
"H=K/N;\n",
"H1=H/10^-13;\n",
"printf('\nH+ concentration of the solution is %f*10^-13M',H1);\n",
"pH=-log10(H);\n",
"printf('\npH of the mixure will be %f',pH)"
   ]
   }
,
{
		   "cell_type": "markdown",
		   "metadata": {},
		   "source": [
			"## Example 2.26: change_in_pH_in_buffer_solution.sce"
		   ]
		  },
  {
"cell_type": "code",
	   "execution_count": null,
	   "metadata": {
	    "collapsed": true
	   },
	   "outputs": [],
"source": [
"//acids and bases//\n",
"//example 2.26//\n",
"S=0.2;//salt concentration//\n",
"A=0.2;//acid concentration//\n",
"k=1.8*10^-5;//dissociation constant of acetic acid//\n",
"pH=-log10(k)+log10(S/A);\n",
"printf('pH of the buffer solution before adding HCl is %f',pH);\n",
"v=1*10^-3;//amount of HCl added in lit//\n",
"M=1;//molarity of HCl added//\n",
"n=v*M;//no of moles of HCl added per litre//\n",
"A1=A+n;\n",
"printf('\nAcetic acid concentration after adding HCl will be %fM',A1);\n",
"S1=S-n;\n",
"printf('\nAcetate concentration after adding HCl will be %fM',S1);\n",
"pH2=-log10(k)+log10(S1/A1);\n",
"printf('\npH of the buffer solution after adding HCl is %f',pH2);\n",
"p=pH-pH2;\n",
"printf('\nChange in pH is %f',p);"
   ]
   }
,
{
		   "cell_type": "markdown",
		   "metadata": {},
		   "source": [
			"## Example 2.2: pH_of_solutio.sce"
		   ]
		  },
  {
"cell_type": "code",
	   "execution_count": null,
	   "metadata": {
	    "collapsed": true
	   },
	   "outputs": [],
"source": [
"//acids and bases//\n",
"//example 2.2//\n",
"//(a)//\n",
"N=0.002;//normality of acetic acid solution//\n",
"a=2.3;//percentage of ionization//\n",
"H=N*a/100;//concentration of H+ ion//\n",
"printf('the concentration of H+ ions is %fg.ion/lit',H);\n",
"pH=-log10(H);\n",
"printf('\n pH value of acid solution is %f',pH);\n",
"//(b)(i)//\n",
"N1=0.01;//normality of acetic acid solution//\n",
"a1=60;//percentage of ionization//\n",
"H1=N1*a1/100;//concentration of H+ ion//\n",
"printf('\nthe concentration of H+ ions is %fg.ion/lit',H1);\n",
"pH1=-log10(H1);\n",
"printf('\n pH value of acid solution is %f',pH1);\n",
"//(b)(ii)//\n",
"N2=0.1;//normality of acetic acid solution//\n",
"a2=1.8;//percentage of ionization//\n",
"H2=N2*a2/100;//concentration of H+ ion//\n",
"printf('\nthe concentration of H+ ions is %fg.ion/lit',H2);\n",
"pH2=-log10(H2);\n",
"printf('\n pH value of acid solution is %f',pH2);\n",
"//(b)(iii)//\n",
"N3=0.04;//normality of HNO3//\n",
"a3=100;//percentage of ionization//\n",
"H3=N3*a3/100;\n",
"printf('\nthe concentration of H+ ions is %fg.ion/lit',H3);\n",
"pH3=-log10(H3);\n",
"printf('\n the pH of 0.04NHNO3 solution is %f',pH3);\n",
"N4=0.0001;//normality of Hcl//\n",
"a4=100;//percentage of ionization//\n",
"H4=N4*a4/100;\n",
"printf('\nthe concentration of H+ ions is %fg.ion/lit',H4);\n",
"pH4=-log10(H4);\n",
"printf('\n the pH of 0.0001NHcl solution is %f',pH4);\n",
"N5=1;//normality of Hcl//\n",
"a5=100;//percentage of ionization//\n",
"H5=N5*a5/100;\n",
"printf('\nthe concentration of H+ ions is %fg.ion/lit',H5);\n",
"pH5=-log10(H5);\n",
"printf('\n the pH of 1NHcl solution is %f',pH5);\n",
"N6=0.1;//normality of HNO3//\n",
"a6=100;//percentage of ionization//\n",
"OH6=N6*a6/100;\n",
"printf('\nthe concentration of OH- ions is %fg.ion/lit',OH6);\n",
"Kw=10^-14;\n",
"H6=Kw/OH6;\n",
"pH6=-log10(H6);\n",
"printf('\n the pH of 0.1N NaOH solution is %f',pH6);\n",
"N7=0.001;//normality of NaOH//\n",
"a7=100;//percentage of ionization//\n",
"OH7=N7*a7/100;\n",
"printf('\nthe concentration of OH- ions is %fg.ion/lit',OH7);\n",
"Kw=10^-14;\n",
"H7=Kw/OH7;\n",
"pH7=-log10(H7);\n",
"printf('\n the pH of 0.01NaOH solution is %f',pH7);\n",
"//(b)(iv)//\n",
"W=4;//weight of NaOH dissolved in water in grams//\n",
"EW=40;//equivalent weight weight of NaOH//\n",
"N8=W/EW;\n",
"printf('\nnormality of NaOH is %fN',N8);\n",
"a8=100;//percentage of ionization//\n",
"OH8=N8*a8/100;\n",
"printf('\nthe concentration of OH- ions is %fg.ion/lit',OH8);\n",
"Kw=10^-14;\n",
"H8=Kw/OH8;\n",
"pH8=-log10(H8);\n",
"printf('\n the pH of NaOH solution is %f',pH8);"
   ]
   }
,
{
		   "cell_type": "markdown",
		   "metadata": {},
		   "source": [
			"## Example 2.3: hydrogen_ion_concentration.sce"
		   ]
		  },
  {
"cell_type": "code",
	   "execution_count": null,
	   "metadata": {
	    "collapsed": true
	   },
	   "outputs": [],
"source": [
"//acida and bases//\n",
"//example 2.3//\n",
"//(a)//\n",
"N1=0.1;//normality of acetic acid//\n",
"a1=1.3;//percentage of ionization//\n",
"H1=N1*a1/100;\n",
"printf('the hydrogen ion concentration of solution is %fg.ion/lit',H1);\n",
"//(b)//\n",
"M1=10^-8;//molarity of hcl solution//\n",
"a=100;//percentage of ionization//\n",
"H=M1*a/100;\n",
"\n",
"pH=-log10(H);\n",
"printf('\nthe pH of the Hcl solution is %f',pH);\n",
"disp('Theoretically the pH should be 8,however,the value will be close to 7 because H+ ions of water also plays a role');\n",
"//(c)//\n",
"N2=0.05;//normality of Hcl//\n",
"a2=100;//percentage of ionization//\n",
"pH2=-log10(N2*a2/100);\n",
"printf('\nthe pH of 0.05 Hcl solution is %f',pH2);\n",
"M3=0.05;//molarity os H2SO4//\n",
"N3=M3*2;//normality//\n",
"a3=100;//percentage of ionization//\n",
"pH3=-log10(N3*a3/100);\n",
"printf('\n the pH of 0.05M H2SO4 solution is %f',pH3);"
   ]
   }
,
{
		   "cell_type": "markdown",
		   "metadata": {},
		   "source": [
			"## Example 2.4: pH_calculatio.sce"
		   ]
		  },
  {
"cell_type": "code",
	   "execution_count": null,
	   "metadata": {
	    "collapsed": true
	   },
	   "outputs": [],
"source": [
"//acids and bases//\n",
"//example 2.4//\n",
"H1=0.005;//H+ ion concentration of solution in g.ion/lit//\n",
"pH1=-log10(H1);\n",
"printf('The pH value of solution whose H+ ion concentration is 0.005g.ion/lit is %f',pH1);\n",
"H2=3*10^-4;//H+ concentration of the solution//\n",
"pH2=-log10(H2);\n",
"printf('\nThe pH of a solution in which H+ is 3*10^-4 is %f',pH2);\n",
"pOH2=14-pH2;\n",
"printf('\npOH of the solution is %f',pOH2);\n",
"k=10^-14;//dissociation constant of water//\n",
"OH2=k/H2;\n",
"OH2a=OH2/10^-11;\n",
"printf('\nOH- concentration for a solution is %f*10^-11M',OH2a);\n",
"OH3=0.1//hydroxyl concentration of a solution//\n",
"H3=k/OH3;\n",
"pH3=-log10(H3);\n",
"printf('\npH of the solution whose hydroxyl concentration is N/10g.ion/lit is %f',pH3);\n",
"k4=1.8*10^-5//dissociation constant of acetic acid at 180C//\n",
"N4=0.1;//normality of acetic acid//\n",
"V4=1/N4;\n",
"a4=sqrt(k4*V4);//formula for degree of dissociation//\n",
"H4=N4*a4;//H+ ion concentration//\n",
"pH4=-log10(H4);\n",
"printf('\npH of 0.1N acetic acid solution is %f',pH4);\n",
"N5=0.01;//normality of acetic acid//\n",
"V5=1/N5;\n",
"a5=sqrt(k4*V5);//formula for degree of dissociation//\n",
"H5=N5*a5;//H+ ion concentration//\n",
"pH5=-log10(H5);\n",
"printf('\npH of 0.01N acetic acid solution is %f',pH5);\n",
"N6=0.001;//normality of acetic acid//\n",
"V6=1/N6;\n",
"a6=sqrt(k4*V6);//formula for degree of dissociation//\n",
"H6=N6*a6;//H+ ion concentration//\n",
"pH6=-log10(H6);\n",
"printf('\npH of 0.001N acetic acid solution is %f',pH6);"
   ]
   }
,
{
		   "cell_type": "markdown",
		   "metadata": {},
		   "source": [
			"## Example 2.5: pH_calculatio.sce"
		   ]
		  },
  {
"cell_type": "code",
	   "execution_count": null,
	   "metadata": {
	    "collapsed": true
	   },
	   "outputs": [],
"source": [
"//acids and bases//\n",
"//example 2.5//\n",
"K1=10^-8;//dissociation constant of weak mono basic acid//\n",
"N1=0.01;//normality of the acid//\n",
"V1=1/N1;\n",
"a1=sqrt(K1*V1);//degree of dissociation for weak acids//\n",
"H1=N1*a1;//H+ concentration of the solution//\n",
"pH1=-log10(H1);\n",
"printf('pH value of 0.01N solution of a weak mono basic acid is %f',pH1);\n",
"a2=4/100;//percentage of dissociation of acid at 20C//\n",
"N2=0.1;//normality of acid//\n",
"V2=1/N2;\n",
"K2=(a2^2)/V2;\n",
"K2a=K2/10^-4;\n",
"printf('\nThe dissociation constant of the acid is %f*10^-4',K2a);\n",
"N3=0.1;//normality of HCl//\n",
"pH3=-log10(N3);\n",
"printf('\nThe pH of the 0.1N HCl solution is %f',pH3);\n",
"N4=1/50;//normality of HCl//\n",
"pH4=-log10(N4);\n",
"printf('\nThe pH of the 1/50N HCl solution is %f',pH4);\n",
"N5=0.01;//normality of H2SO4//\n",
"pH5=-log10(N5);\n",
"printf('\nThe pH of the 0.01N H2SO4 solution is %f',pH5);"
   ]
   }
,
{
		   "cell_type": "markdown",
		   "metadata": {},
		   "source": [
			"## Example 2.6: pH_of_mixure.sce"
		   ]
		  },
  {
"cell_type": "code",
	   "execution_count": null,
	   "metadata": {
	    "collapsed": true
	   },
	   "outputs": [],
"source": [
"//acids and bases//\n",
"//example 2.6//\n",
"V1=50;//volume of Hcl in ml//\n",
"V2=30;//volume of NaOH in ml//\n",
"N1=1;//normality of Hcl//\n",
"N2=1;//nomality of NaOH//\n",
"V=V1+V2;//total volume of mixure of solutions//\n",
"a=100;//percentage of ionization//\n",
"N=(N1*V1-N2*V2)/V;\n",
"printf('The normality of resultant solution is %fg.equivalent/lit',N);\n",
"H=N*a/100;\n",
"printf('\n the H+ concentration of resultant solution is %fg.ion/lit',H);\n",
"pH=-log10(H);\n",
"printf('\n the pH of resultant solution is %f',pH);\n",
""
   ]
   }
,
{
		   "cell_type": "markdown",
		   "metadata": {},
		   "source": [
			"## Example 2.7: pH_of_the_solutio.sce"
		   ]
		  },
  {
"cell_type": "code",
	   "execution_count": null,
	   "metadata": {
	    "collapsed": true
	   },
	   "outputs": [],
"source": [
"//acids and bases//\n",
"//example 2.7//\n",
"N1=1/10;//normality of NaOH//\n",
"N2=1/20;//normality of HCl//\n",
"V1=1;//volume of NaOH in lit//\n",
"V2=1;//volume of HCl in lit//\n",
"printf('Since NaOH is stronger than HCl,the resultant solution will contain excess of NaOH');\n",
"V=V1+V2;//volume of resultant solution//\n",
"N=(N1*V1-N2*V2)/V;\n",
"printf('\nOH- ion concentration is %fg.ion/lit',N);\n",
"k=1*10^-14;//ionization constant of water//\n",
"H1=k/N;\n",
"H=H1/10^-13;\n",
"printf('\nH+ ion concentration is %f*10^-13g.ion/lit',H);\n",
"pH=-log10(H1);\n",
"printf('\npH of the solution is %f',pH);"
   ]
   }
,
{
		   "cell_type": "markdown",
		   "metadata": {},
		   "source": [
			"## Example 2.8: pH_of_solutio.sce"
		   ]
		  },
  {
"cell_type": "code",
	   "execution_count": null,
	   "metadata": {
	    "collapsed": true
	   },
	   "outputs": [],
"source": [
"//acids and bases//\n",
"//example 2.8//\n",
"W=2;//weight of NaOH dissolved in water in grams//\n",
"M=40;//molecular weight of NaOH//\n",
"N=W/M;//normality//\n",
"a=100;//percentage of ionization//\n",
"printf('the normality of NaOH solution is %fg.equivalent/lit',N);\n",
"OH=N*a/100;//the OH- ion concentration of solution//\n",
"Kw=10^-14;\n",
"H=Kw/OH;\n",
"pH=-log10(H);\n",
"printf('\n The pH of the NaOH solution is %f',pH);"
   ]
   }
,
{
		   "cell_type": "markdown",
		   "metadata": {},
		   "source": [
			"## Example 2.9: pH_of_benzoic_acid.sce"
		   ]
		  },
  {
"cell_type": "code",
	   "execution_count": null,
	   "metadata": {
	    "collapsed": true
	   },
	   "outputs": [],
"source": [
"//acids and bases//\n",
"//example 2.9//\n",
"M=0.001;//molarity of benzoic acid//\n",
"N=M;//normality of benzoic acid//\n",
"V=1/N;\n",
"K=7.3*10^-5;//dissociation constant of benzoic acid//\n",
"a=sqrt(K*V);//since benzoic acid is very weak//\n",
"printf('the degree of ionization of the solution is %f',a);\n",
"H=N*a;\n",
"printf('\n The H+ concentration of the solution is %fg.ion/lit',H);\n",
""
   ]
   }
],
"metadata": {
		  "kernelspec": {
		   "display_name": "Scilab",
		   "language": "scilab",
		   "name": "scilab"
		  },
		  "language_info": {
		   "file_extension": ".sce",
		   "help_links": [
			{
			 "text": "MetaKernel Magics",
			 "url": "https://github.com/calysto/metakernel/blob/master/metakernel/magics/README.md"
			}
		   ],
		   "mimetype": "text/x-octave",
		   "name": "scilab",
		   "version": "0.7.1"
		  }
		 },
		 "nbformat": 4,
		 "nbformat_minor": 0
}
