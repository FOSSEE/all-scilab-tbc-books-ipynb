{
"cells": [
 {
		   "cell_type": "markdown",
	   "metadata": {},
	   "source": [
       "# Chapter 7: water chemistry"
	   ]
	},
{
		   "cell_type": "markdown",
		   "metadata": {},
		   "source": [
			"## Example 7.10: alkalinity_hardness_salts.sce"
		   ]
		  },
  {
"cell_type": "code",
	   "execution_count": null,
	   "metadata": {
	    "collapsed": true
	   },
	   "outputs": [],
"source": [
"//water chemistry//\n",
"//example 7.10//\n",
"W1=40;//amount of Ca2+ in water in mg/l//\n",
"W2=24;//amount of Mg2+ in water in mg/l//\n",
"W3=8.05;//amount of Na+ in water in mg/l//\n",
"W4=183;//amount of (HCO3)- in water in mg/l//\n",
"W5=55.68;//amount of (SO4)2- in water in mg/l//\n",
"W6=6.74;//amount of Cl- in water in mg/l//\n",
"M1=100/40;//multiplication factor of Ca2+//\n",
"M2=100/24;//multiplication factor of Mg2+//\n",
"M3=100/(23*2);//multiplication factor of Na+//\n",
"M4=100/(61*2);//multiplication factor of (HCO3)-//\n",
"M5=100/96;//multiplication factor of (SO4)2-//\n",
"M6=100/(35.5*2);//multiplication factor of Cl-//\n",
"P1=W1*M1;//in terms of CaCO3//\n",
"P2=W2*M2;//in terms of CaCO3//\n",
"P3=W3*M3;//in terms of CaCO3//\n",
"P4=W4*M4;//in terms of CaCO3//\n",
"P5=W5*M5;//in terms of CaCO3//\n",
"P6=W6*M6;//in terms of CaCO3//\n",
"\n",
"\n",
"printf('magnesium alkalinity is %fppm',P4-P1);\n",
"printf('\ncalsium alkalinity is %fppm',P1);\n",
"printf('\ntotal alkalinity is %fppm',P1+P4-P1);\n",
"printf('\ntotal hardness is %fppm',P1+P2);\n",
"printf('\ncalsium temporary hardness is %fppm',P1);\n",
"printf('\nMagnesium temporary hardness id %fppm',P4-P1);\n",
"printf('\nMagnesium permanant hardness is %fppm',P2-(P4-P1));\n",
"printf('\n Ca(HCO3)2 salt is %fppm',P1);\n",
"printf('\nMg(HCO3)2 salt is %fppm',P4-P1);\n",
"printf('\nMgSO4 salt is %fppm',P2-(P4-P1));\n",
"printf('\nNaCl salt is %fppm',P6);"
   ]
   }
,
{
		   "cell_type": "markdown",
		   "metadata": {},
		   "source": [
			"## Example 7.11: type_and_amount_of_alkalinity.sce"
		   ]
		  },
  {
"cell_type": "code",
	   "execution_count": null,
	   "metadata": {
	    "collapsed": true
	   },
	   "outputs": [],
"source": [
"//water chemistry//\n",
"//example 7.11//\n",
"P=0;//phenolplthalein alkalinity in water sample//\n",
"V=16.9;//required HCl in ml for 100 ml water sample//\n",
"N=0.02;//normality of HCl//\n",
"printf('Since P=0 the alkalinity is due to HCO3- ions');\n",
"C=50;//equivalent of CaCO3 in mg for 1 ml 1N of HCl//\n",
"A=C*V*N;\n",
"printf('\nIn 100ml water sample the alkalinity is %fmg',A);\n",
"B=A*1000/100;\n",
"printf('\nFor 1 litre of water the alkalinity is %fmg/l',B);"
   ]
   }
,
{
		   "cell_type": "markdown",
		   "metadata": {},
		   "source": [
			"## Example 7.12: type_and_amount_of_alkalinity.sce"
		   ]
		  },
  {
"cell_type": "code",
	   "execution_count": null,
	   "metadata": {
	    "collapsed": true
	   },
	   "outputs": [],
"source": [
"//water chemistry//\n",
"//example 7.12//\n",
"P=4.7;//required HCl in ml using HpH indicator //\n",
"H=10.5;//required HCl im ml using MeOH indicator//\n",
"M=P+H;\n",
"N=0.02;//normality of HCl//\n",
"printf('M=%fml',M)\n",
"printf('\nSince P<0.5*M sample contain (CO3)2- and (HCO3)- alkalinity');\n",
"printf('\nVol of 0.02N HCl for (CO3)2- in 100 ml of water sample is %fml',2*P);\n",
"C=50;//equivalent of CaCO3 in mg for 1ml 1N HCl//\n",
"A=C*(2*P)*N;//amount of (CO3)2- alkalinity in mg in 100 ml of water//\n",
"B=A*1000/100;\n",
"printf('\nThe amount of (CO3)2- alkalinity in 1 litre water is %fppm',B);\n",
"printf('\nVol of 0.02N HCl for (HCO3)- in 100 ml of water sample is %fml',M-2*P);\n",
"D=C*(M-2*P)*N;//the amount of (HCO3)- alkalinity in mg in 100 ml of water//\n",
"E=D*1000/100;\n",
"printf('\nThe amount of (HCO3)- alkalinity in 1 litre water is %fppm',E);\n",
"T=B+E;\n",
"printf('\nTotal alkalinity is %fmg/l or ppm',T);"
   ]
   }
,
{
		   "cell_type": "markdown",
		   "metadata": {},
		   "source": [
			"## Example 7.13: calculation_of_required_lime_and_soda.sce"
		   ]
		  },
  {
"cell_type": "code",
	   "execution_count": null,
	   "metadata": {
	    "collapsed": true
	   },
	   "outputs": [],
"source": [
"//water chemistry//\n",
"//example 7.13//\n",
"W1=160;//amount of Ca2+ in ppm//\n",
"W2=88;//amount of Mg2+ in ppm//\n",
"W3=72;//amount of CO2 in ppm//\n",
"W4=488;//amount of (HCO3)- in ppm//\n",
"W5=139;//amount of (FeSO4).7H2O in ppm//\n",
"M1=100/40;//multiplication factor of Ca2+//\n",
"M2=100/24;//multiplication factor of Mg2+//\n",
"M3=100/44;//multiplication factor of CO2//\n",
"M4=100/(61*2);//multiplication factor of (HCO3)-//\n",
"M5=100/278;//multiplication factor of (FeSO4).7H2O//\n",
"P1=W1*M1;//in terms of CaCO3//\n",
"P2=W2*M2;//in terms of CaCO3//\n",
"P3=W3*M3;//in terms of CaCO3//\n",
"P4=W4*M4;//in terms of CaCO3//\n",
"P5=W5*M5;//in terms of CaCO3//\n",
"V=100000;//volume of water in litres//\n",
"L=0.74*(P2+P3+P4+P5)*V;//lime required in mg//\n",
"L=L/10^6;\n",
"printf('Lime required is %fkg',L);\n",
"S=1.06*(P1+P2+P5-P4)*V;//soda required in mg//\n",
"S=S/10^6;\n",
"printf('\nSoda required is %fkg',S);"
   ]
   }
,
{
		   "cell_type": "markdown",
		   "metadata": {},
		   "source": [
			"## Example 7.14: hardness_of_water.sce"
		   ]
		  },
  {
"cell_type": "code",
	   "execution_count": null,
	   "metadata": {
	    "collapsed": true
	   },
	   "outputs": [],
"source": [
"//water chemistry//\n",
"//example 7.14//\n",
"W=50;//amount of NaCl in g/l in NaCl solution//\n",
"V=200;//volume of NaCl solution in litres//\n",
"A=W*V;\n",
"V=10000;//volume of hard water passed through Zeolite softener//\n",
"printf('The amount of NaCl used for %f litres of water is %fg',V,A);\n",
"M=100/(58.5*2);//multiplication factor of NaCl//\n",
"P=M*A;\n",
"printf('\nIn terms of CaCO3=%fgCaCO3',P);\n",
"B=P*1000/V;\n",
"printf('\nFor 1 litre of hard water=%fmg/l or ppm',B);"
   ]
   }
,
{
		   "cell_type": "markdown",
		   "metadata": {},
		   "source": [
			"## Example 7.15: calculation_of_temporary_and_permanant_hardness.sce"
		   ]
		  },
  {
"cell_type": "code",
	   "execution_count": null,
	   "metadata": {
	    "collapsed": true
	   },
	   "outputs": [],
"source": [
"//water chemistry//\n",
"//example 7.15//\n",
"W1=0.28;//amount of CaCO3 in grams dissolved in 1 litre of water//\n",
"V1=28;//required EDTA in ml on titration of 100ml of CaCO3 solution//\n",
"V2=33;//required EDTA in ml for 100ml of unknown hard water sample//\n",
"V3=10;//required EDTA in ml for 100 ml of unknown sample after boiling and cooling//\n",
"M1=100/100;//multiplication factor of CaCO3//\n",
"C=W1*M1;\n",
"printf('1 litre sample have %fg in terms of CaCO3',C);\n",
"printf('\n1 ml sample have %fmgCaCO3',C);\n",
"A=C*100//for 100 ml of sample equivalent to 28 ml of EDTA//\n",
"B=A/V1;\n",
"printf('\n1ml of EDTA=%fmg CaCO3',B);\n",
"D=V2*B;//for 100 ml//\n",
"D=D*1000/100;\n",
"printf('\n1000ml of unknown water contains %fmgCaCO3',D);\n",
"printf('\nTotal hardness is %fmg/lCaCO3 or ppm',D);\n",
"E=V3*B;//for 100 ml//\n",
"E=E*1000/100;\n",
"printf('\n1000ml of boiled unknown water contains %fmgCaCO3',E);\n",
"printf('\nPermanant hardness is %fmg/l CaCO3 or ppm',E);\n",
"T=D-E;\n",
"printf('\nTemporary hardness is %fmg/l CaCO3 or ppm',T);\n",
""
   ]
   }
,
{
		   "cell_type": "markdown",
		   "metadata": {},
		   "source": [
			"## Example 7.1: hardness_calculation.sce"
		   ]
		  },
  {
"cell_type": "code",
	   "execution_count": null,
	   "metadata": {
	    "collapsed": true
	   },
	   "outputs": [],
"source": [
"//water chemistry//\n",
"//example 7.1//\n",
"W1=16.2;//Ca(HCO3)2 in water in mg/lit//\n",
"W2=7.3;//MgHCO3 in water in mg/lit//\n",
"W3=13.6;//CaSO4 in water in mg/lit//\n",
"W4=9.5;//MgCl2 in water in mg/lit//\n",
"M1=100/162;//multiplication factor of Ca(HCO3)2//\n",
"M2=100/146;//multiplication factor of MgHCO3//\n",
"M3=100/136;//multiplication factor of CaSO4//\n",
"M4=100/95;//multiplication factor of MgCl2//\n",
"P1=W1*M1;//Ca(HCO3)2 in terms of CaCO3 or //\n",
"P2=W2*M2;//MgHCO3 in terms of CaCO3 or //\n",
"P3=W3*M3;//CaSO4  in terms of CaCO3 or //\n",
"P4=W4*M4;//MgCl2 in terms of CaCO3 or //\n",
"T=P1+P2;\n",
"printf('Temporary hardness is %fmg/l or ppm',T);\n",
"P=P3+P4;\n",
"printf('\nPermanant hardness is %fmg/l or ppm',P);\n",
"To=T+P;\n",
"printf('\nTotal hardness is %fmg/l or ppm',To);"
   ]
   }
,
{
		   "cell_type": "markdown",
		   "metadata": {},
		   "source": [
			"## Example 7.2: dissolved_FeSO4.sce"
		   ]
		  },
  {
"cell_type": "code",
	   "execution_count": null,
	   "metadata": {
	    "collapsed": true
	   },
	   "outputs": [],
"source": [
"//water chemistry//\n",
"//example 7.2//\n",
"F=56;//atomic weight of ferrus//\n",
"S=32;//atomic weight of sulphur//\n",
"O=16;//atomic weight of oxygen//\n",
"Ca=40;//atomic weight of calsium//\n",
"C=12;//atomic weight of carbon//\n",
"W1=F+S+(4*O);//molecular weight of FeSO4//\n",
"W2=Ca+C+(3*O);//molecular weight of CaCO3//\n",
"A=(W1/W2)*100;\n",
"printf('Required FeSO4 for 100ppm of hardness is %fmg/lit',A);\n",
"P=210.5;//required ppm of hardness//\n",
"B=(A/100)*P;\n",
"printf('\nRequired FeSO4 for 210.5ppm of hardness is %fmg/lit or ppm of FeSO4',B);"
   ]
   }
,
{
		   "cell_type": "markdown",
		   "metadata": {},
		   "source": [
			"## Example 7.3: hardness_calculation.sce"
		   ]
		  },
  {
"cell_type": "code",
	   "execution_count": null,
	   "metadata": {
	    "collapsed": true
	   },
	   "outputs": [],
"source": [
"//water chemistry//\n",
"//example 7.3//\n",
"W1=162;//Ca(HCO3)2 in water in mg/lit//\n",
"W2=73;//MgHCO3 in water in mg/lit//\n",
"W3=136;//CaSO4 in water in mg/lit//\n",
"W4=95;//MgCl2 in water in mg/lit//\n",
"W5=111;//CaCl2 in water in mg/lit//\n",
"W6=100;//NaCl in water in mg/lit//\n",
"M1=100/162;//multiplication factor of Ca(HCO3)2//\n",
"M2=100/146;//multiplication factor of MgHCO3//\n",
"M3=100/136;//multiplication factor of CaSO4//\n",
"M4=100/95;//multiplication factor of MgCl2//\n",
"M5=100/111;//multiplication factor of CaCl2//\n",
"M6=100/100;//multiplication factor of NaCl//\n",
"P1=W1*M1;//Ca(HCO3)2 in terms of CaCO3 or //\n",
"P2=W2*M2;//MgHCO3 in terms of CaCO3 or //\n",
"P3=W3*M3;//CaSO4  in terms of CaCO3 or //\n",
"P4=W4*M4;//MgCl2 in terms of CaCO3 or //\n",
"P5=W5*M5;//CaCl2 in terms of CaCO3 or //\n",
"printf('We do not take NaCl since it does not contribute to hardness');\n",
"T=P1+P2;\n",
"printf('\nTemporary hardness is %fmg/l or ppm',T);\n",
"P=P3+P4+P5;\n",
"printf('\nPermanant hardness is %fmg/l or ppm',P);\n",
"To=T+P;\n",
"printf('\nTotal hardness is %fmg/l or ppm',To);"
   ]
   }
,
{
		   "cell_type": "markdown",
		   "metadata": {},
		   "source": [
			"## Example 7.4: hardness_calculation.sce"
		   ]
		  },
  {
"cell_type": "code",
	   "execution_count": null,
	   "metadata": {
	    "collapsed": true
	   },
	   "outputs": [],
"source": [
"//water chemistry//\n",
"//example 7.4//\n",
"N=0.08;//normality of MgSO4//\n",
"V1=12.5;//volume of MgSO4 in ml//\n",
"V2=100;//volume of water sample//\n",
"M=N/2;//molarity of MgSO4//\n",
"N1=(M*12.5)/1000;//no of moles of MgSO4 in 100 ml water//\n",
"N2=(N1*1000)/100;//no of moles of MgSO4 in one litre water//\n",
"W=100;//molecular weight of CaCO3\n",
"W1=N2*W*1000;//MgSO4 in terms of CaCO3 in mg/lit//\n",
"printf('\nThe hardness due to MgSO4 is %fmg/l CaCO3 or ppm of CaCO3',W1);"
   ]
   }
,
{
		   "cell_type": "markdown",
		   "metadata": {},
		   "source": [
			"## Example 7.5: quantity_of_lime_and_soda.sce"
		   ]
		  },
  {
"cell_type": "code",
	   "execution_count": null,
	   "metadata": {
	    "collapsed": true
	   },
	   "outputs": [],
"source": [
"//water chemistry//\n",
"//example 7.5//\n",
"W1=144;//MgCO3 in water in mg/lit//\n",
"W2=25;//CaCO3 in water in mg/lit//\n",
"W3=111;//CaCl2 in water in mg/lit//\n",
"W4=95;//MgCl2 in water in mg/lit//\n",
"M1=100/84;//multiplication factor of MgCO3//\n",
"M2=100/100;//multiplication factor of CaCO3//\n",
"M3=100/111;//multiplication factor of CaCl2//\n",
"M4=100/95;//multiplication factor of MgCl2//\n",
"P1=W1*M1;//MgCO3 in terms of CaCO3 or ppm//\n",
"P2=W2*M2;//CaCO3 in terms of CaCO3 or ppm//\n",
"P3=W3*M3;//CaCl2  in terms of CaCO3 or ppm//\n",
"P4=W4*M4;//MgCl2 in terms of CaCO3 or ppm//\n",
"V=50000;//volume of water in lit//\n",
"L=0.74*(2*P1+P2+P4)*V;\n",
"printf('Requirement of lime is %fmg',L);\n",
"S=1.06*(P1+P3+P4)*V;\n",
"printf('\nRequirement of soda is %fmg',S);"
   ]
   }
,
{
		   "cell_type": "markdown",
		   "metadata": {},
		   "source": [
			"## Example 7.6: lime_requirement.sce"
		   ]
		  },
  {
"cell_type": "code",
	   "execution_count": null,
	   "metadata": {
	    "collapsed": true
	   },
	   "outputs": [],
"source": [
"//water chemistry//\n",
"//example 7.6//\n",
"W1=12;//Mg2+ in water in ppm or mg/l//\n",
"W2=40;//Ca2+ in water in ppm or mg/l//\n",
"W3=164.7;//HCO3- in water in ppm or mg/l//\n",
"W4=30.8;//CO2 in water in ppm or mg/l//\n",
"M1=100/24;//multiplication factor of Mg2+//\n",
"M2=100/40;//multiplication factor of Mg2+//\n",
"M3=100/61;//multiplication factor of Mg2+//\n",
"M4=100/44;//multiplication factor of Mg2+//\n",
"P1=W1*M1;// in terms of CaCO3//\n",
"P2=W2*M2;// in terms of CaCO3//\n",
"P3=W3*M3;// in terms of CaCO3//\n",
"P4=W4*M4;// in terms of CaCO3//\n",
"V=50000//volume of water in lit//\n",
"L=0.74*(P1+P3+P4)*V;\n",
"printf('Lime required is %fmg',L);"
   ]
   }
,
{
		   "cell_type": "markdown",
		   "metadata": {},
		   "source": [
			"## Example 7.7: lime_soda_requirement.sce"
		   ]
		  },
  {
"cell_type": "code",
	   "execution_count": null,
	   "metadata": {
	    "collapsed": true
	   },
	   "outputs": [],
"source": [
"//water chemistry//\n",
"//example 7.7//\n",
"W1=160;//Ca2+ in water in mg/l or ppm//\n",
"W2=72;//Mg2+ in water in mg/l or ppm//\n",
"W3=732;//HCO3- in water in mg/l or ppm//\n",
"W4=44;//CO2 in water in mg/l or ppm//\n",
"W5=16.4;//NaAlO2 in water in mg/l or ppm//\n",
"W6=30;//(CO3)2- in water in mg/l or ppm//\n",
"W7=17;//OH- in water in mg/l or ppm//\n",
"M1=100/40;//multiplication factor of Ca2+//\n",
"M2=100/24;//multiplication factor of Ca2+//\n",
"M3=100/(61*2);//multiplication factor of Ca2+//\n",
"M4=100/44;//multiplication factor of Ca2+//\n",
"M5=100/(82*2);//multiplication factor of Ca2+//\n",
"M6=100/60;//multiplication factor of Ca2+//\n",
"M7=100/(17*2);//multiplication factor of Ca2+//\n",
"P1=W1*M1;//in terms of CaCO3//\n",
"P2=W2*M2;//in terms of CaCO3//\n",
"P3=W3*M3;//in terms of CaCO3//\n",
"P4=W4*M4;//in terms of CaCO3//\n",
"P5=W5*M5;//in terms of CaCO3//\n",
"P6=W6*M6;//in terms of CaCO3//\n",
"P7=W7*M7;//in terms of CaCO3//\n",
"V=200000;//volume of water in lit//\n",
"L=0.74*(P2+P3+P4-P5+P7)*V;\n",
"L=L/10^6;//in kgs//\n",
"printf('Lime required is %fkg',L);\n",
"S=1.06*(P1+P2-P3-P5-P6+P7)*V;\n",
"S=S/10^6;//in kgs//\n",
"printf('\nSoda required is %fkg',S);"
   ]
   }
,
{
		   "cell_type": "markdown",
		   "metadata": {},
		   "source": [
			"## Example 7.8: hardness_of_water.sce"
		   ]
		  },
  {
"cell_type": "code",
	   "execution_count": null,
	   "metadata": {
	    "collapsed": true
	   },
	   "outputs": [],
"source": [
"//water chemistry//\n",
"//example 7.8//\n",
"N=150;//amount of NaCl in solution in g/l//\n",
"V=8;//volume of NaCl solution//\n",
"M=N*V;\n",
"printf('The amount of NaCl in 8 lit of solution is %fgms',M);\n",
"V=10000;//volume of hard water//\n",
"W=58.5;//molecular weight of NaCl//\n",
"K=(M*100/(W*2))/V;\n",
"printf('\nfor 1 litre hardness is %fg/l',K);\n",
"J=K*1000;\n",
"printf('\nHardness of water is %fmg/l or ppm',J);"
   ]
   }
,
{
		   "cell_type": "markdown",
		   "metadata": {},
		   "source": [
			"## Example 7.9: total_cost.sce"
		   ]
		  },
  {
"cell_type": "code",
	   "execution_count": null,
	   "metadata": {
	    "collapsed": true
	   },
	   "outputs": [],
"source": [
"//water chemistry//\n",
"//example 7.8//\n",
"W1=219;//amount of Mg(HCO3)2 in water in ppm//\n",
"W2=36;//amount of Mg2+ in water in ppm//\n",
"W3=18.3;//amount of (HCO3)- in water in ppm//\n",
"W4=1.5;//amount of H+_in water in ppm//\n",
"M1=100/146;//multiplication factor of Mg(HCO3)2//\n",
"M2=100/24;//multiplication factor of Mg(HCO3)2//\n",
"M3=100/122;//multiplication factor of Mg(HCO3)2//\n",
"M4=100/2;//multiplication factor of Mg(HCO3)2//\n",
"P1=W1*M1;//in terms of CaCO3//\n",
"P2=W2*M2;//in terms of CaCO3//\n",
"P3=W3*M3;//in terms of CaCO3//\n",
"P4=W4*M4;//in terms of CaCO3//\n",
"L=0.74*((2*P1)+P2+P3+P4);\n",
"printf('Lime required is %fmg/l',L);\n",
"R=1;//water supply rate in m^3/s//\n",
"D=R*60*60*24*L;\n",
"printf('\nLime required for one day is %fm^3/day',D);\n",
"K=D*1000;//in lit/day//\n",
"T=K/10^9;//in tonnes//\n",
"S=1.06*(P2+P4-P3);\n",
"printf('\nSoda required is %fmg/l',S);\n",
"D2=R*60*60*24*S;\n",
"printf('\nSoda required per day is %fm^3/day',D2);\n",
"A=D2*1000;//in lit/day//\n",
"B=A/10^9;//in tonnes//\n",
"J1=90/100;//purity of lime//\n",
"J2=95/100;//purity of soda//\n",
"C1=500;//cost of one tonne lime//\n",
"C2=7000;//cost of one tonne soda//\n",
"CL=T*C1/J1;\n",
"printf('\ncost of lime is %fRs',CL);\n",
"CS=B*C2/J2;\n",
"printf('\ncost of soda is %fRs',CS);\n",
"C=CL+CS;\n",
"printf('\ntotal cost is %fRs',C);\n",
"\n",
""
   ]
   }
],
"metadata": {
		  "kernelspec": {
		   "display_name": "Scilab",
		   "language": "scilab",
		   "name": "scilab"
		  },
		  "language_info": {
		   "file_extension": ".sce",
		   "help_links": [
			{
			 "text": "MetaKernel Magics",
			 "url": "https://github.com/calysto/metakernel/blob/master/metakernel/magics/README.md"
			}
		   ],
		   "mimetype": "text/x-octave",
		   "name": "scilab",
		   "version": "0.7.1"
		  }
		 },
		 "nbformat": 4,
		 "nbformat_minor": 0
}
