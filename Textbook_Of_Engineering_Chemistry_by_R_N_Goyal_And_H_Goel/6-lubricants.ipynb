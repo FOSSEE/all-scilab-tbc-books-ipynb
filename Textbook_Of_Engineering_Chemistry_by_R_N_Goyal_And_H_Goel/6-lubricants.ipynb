{
"cells": [
 {
		   "cell_type": "markdown",
	   "metadata": {},
	   "source": [
       "# Chapter 6: lubricants"
	   ]
	},
{
		   "cell_type": "markdown",
		   "metadata": {},
		   "source": [
			"## Example 6.1: viscocity_index.sce"
		   ]
		  },
  {
"cell_type": "code",
	   "execution_count": null,
	   "metadata": {
	    "collapsed": true
	   },
	   "outputs": [],
"source": [
"//lubricants//\n",
"//example 6.1//\n",
"d=760;//viscocity of Pennysylvanian oil in s at 37C//\n",
"a=528;//viscocity of lubricating oil in s at 37C//\n",
"c=480;//viscocity of Gulf oil in s at 37C//\n",
"V=((d-a)/(d-c))*(100);//formula of viscocity index//\n",
"printf('Viscocity index of the lubricating oil is %f',V);"
   ]
   }
,
{
		   "cell_type": "markdown",
		   "metadata": {},
		   "source": [
			"## Example 6.2: API_gravity.sce"
		   ]
		  },
  {
"cell_type": "code",
	   "execution_count": null,
	   "metadata": {
	    "collapsed": true
	   },
	   "outputs": [],
"source": [
"//lubricants//\n",
"//example 6.2//\n",
"s=0.86;//specific gravity of lubricating oil//\n",
"A=(141.5/s)-131.5;//formula of API gravity//\n",
"printf('The gravity of lubricating oil is %f',A);"
   ]
   }
],
"metadata": {
		  "kernelspec": {
		   "display_name": "Scilab",
		   "language": "scilab",
		   "name": "scilab"
		  },
		  "language_info": {
		   "file_extension": ".sce",
		   "help_links": [
			{
			 "text": "MetaKernel Magics",
			 "url": "https://github.com/calysto/metakernel/blob/master/metakernel/magics/README.md"
			}
		   ],
		   "mimetype": "text/x-octave",
		   "name": "scilab",
		   "version": "0.7.1"
		  }
		 },
		 "nbformat": 4,
		 "nbformat_minor": 0
}
