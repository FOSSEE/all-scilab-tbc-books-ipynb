{
"cells": [
 {
		   "cell_type": "markdown",
	   "metadata": {},
	   "source": [
       "# Chapter 3: chemical kinetics and catalysis"
	   ]
	},
{
		   "cell_type": "markdown",
		   "metadata": {},
		   "source": [
			"## Example 3.10: first_order_reactio.sce"
		   ]
		  },
  {
"cell_type": "code",
	   "execution_count": null,
	   "metadata": {
	    "collapsed": true
	   },
	   "outputs": [],
"source": [
"//chemical kinetics and catalysis//\n",
"//example 3.10//\n",
"t1=40;\n",
"t2=80;\n",
"t3=120;\n",
"t4=160;\n",
"t5=240;\n",
"vi=0;//volume of oxygen collected at constant pressure in ml at t=0//\n",
"v1=15.6;//volume of oxygen collected at constant pressure in ml at t=40//\n",
"v2=27.6;//volume of oxygen collected at constant pressure in ml at t=80//\n",
"v3=37.7;//volume of oxygen collected at constant pressure in ml at t=120//\n",
"v4=45.8;//volume of oxygen collected at constant pressure in ml at t=160//\n",
"v5=58.3;//volume of oxygen collected at constant pressure in ml at t=200//\n",
"vf=84.6;//volume of oxygen collected at constant pressure in ml at t=infinity//\n",
"a=vf-vi;//the initial concentration of N2O5 in solution i.e a//\n",
"a1=vf-v1;//a-x value at t=40min//\n",
"a2=vf-v2;//a-x value at t=80min//\n",
"a3=vf-v3;//a-x value at t=120min//\n",
"a4=vf-v4;//a-x value at t=160min//\n",
"a5=vf-v5;//a-x value at t=200min//\n",
"k1=(1/t1)*log(a/a1);\n",
"printf('Rate constant value at t=40min is %f/min',k1);\n",
"k2=(1/t2)*log(a/a2);\n",
"printf('\nRate constant value at t=80min is %f/min',k2);\n",
"k3=(1/t3)*log(a/a3);\n",
"printf('\nRate constant value at t=120min is %f/min',k3);\n",
"k4=(1/t4)*log(a/a4);\n",
"printf('\nRate constant value at t=160min is %f/min',k4);\n",
"k5=(1/t5)*log(a/a5);\n",
"printf('\nRate constant value at t=200min is %f/min',k5);\n",
"printf('\nAs k value is fairly constant the reaction is first oredr');"
   ]
   }
,
{
		   "cell_type": "markdown",
		   "metadata": {},
		   "source": [
			"## Example 3.11: second_order_rate_constant.sce"
		   ]
		  },
  {
"cell_type": "code",
	   "execution_count": null,
	   "metadata": {
	    "collapsed": true
	   },
	   "outputs": [],
"source": [
"//chemical kinetics and catalysis//\n",
"//example 3.11//\n",
"t1=120;//time in sec//\n",
"t2=240;\n",
"t3=530;\n",
"t4=600;\n",
"a=0.05;//initial concentration//\n",
"x1=32.95;//extent of reaction or x value at t=120sce//\n",
"x2=48.8;//extent of reaction or x value at t=240sce//\n",
"x3=69;//extent of reaction or x value at t=530sce//\n",
"x4=70.35;//extent of reaction or x value at t=600sce//\n",
"a1=100-x1;//extent of left out or a-x value at t=120sec//\n",
"a2=100-x2;//extent of left out or a-x value at t=240sec//\n",
"a3=100-x3;//extent of left out or a-x value at t=530sec//\n",
"a4=100-x4;//extent of left out or a-x value at t=600sec//\n",
"k1=(1/(a*t1))*(x1/a1);\n",
"printf('Rate constant value at t=120sec is %fdm^3/mol.sec',k1);\n",
"k2=(1/(a*t2))*(x2/a2);\n",
"printf('\nRate constant value at t=240sec is %fdm^3/mol.sec',k2);\n",
"k3=(1/(a*t3))*(x3/a3);\n",
"printf('\nRate constant value at t=530sec is %fdm^3/mol.sec',k3);\n",
"k4=(1/(a*t4))*(x4/a4);\n",
"printf('\nRate constant value at t=600sec is %fdm^3/mol.sec',k4);\n",
"k=(k1+k2+k3+k4)/4;\n",
"printf('\nAverage value of rate constant is %fdm^3/mol.sec',k);"
   ]
   }
,
{
		   "cell_type": "markdown",
		   "metadata": {},
		   "source": [
			"## Example 3.13: first_order_reactio.sce"
		   ]
		  },
  {
"cell_type": "code",
	   "execution_count": null,
	   "metadata": {
	    "collapsed": true
	   },
	   "outputs": [],
"source": [
"//chemical kinetics and catalysis//\n",
"t1=75;//time in min//\n",
"t2=119;\n",
"t3=183;\n",
"vi=9.62;//volume of alkali used in ml at t=0min//\n",
"v1=12.10;//volume of alkali used in ml at t=75min//\n",
"v2=13.10;//volume of alkali used in ml at t=119min//\n",
"v3=14.75;//volume of alkali used in ml at t=183min//\n",
"vf=21.05;//volume of alkali used in ml at t=infinity//\n",
"k1=(1/t1)*log((vf-vi)/(vf-v1));//formula of rate constant for first order reactions//\n",
"printf('\nRate constant value at t=75min is %f/min',k1);\n",
"k2=(1/t2)*log((vf-vi)/(vf-v2));\n",
"printf('\nRate constant value at t=119min is %f/min',k2);\n",
"k3=(1/t3)*log((vf-vi)/(vf-v3));\n",
"printf('\nRate constant value at t=183min is %f/min',k3);\n",
"printf('\nAn almost constant value of k shows that the hydrolysis of ethyl acetateis a first order reaction');\n",
""
   ]
   }
,
{
		   "cell_type": "markdown",
		   "metadata": {},
		   "source": [
			"## Example 3.14: rate_constant_of_first_order_rection.sce"
		   ]
		  },
  {
"cell_type": "code",
	   "execution_count": null,
	   "metadata": {
	    "collapsed": true
	   },
	   "outputs": [],
"source": [
"//chemical kinetics and catalysis//\n",
"//example 3.14//\n",
"t=15;//the half time of given first order reaction in min//\n",
"k=0.693/t;//formula of rate constant//\n",
"printf('The rate constant value of the given first order reaction is %f/min is',k);\n",
"a=100;//percentage of initial concentration//\n",
"x=80;//percentage of completed reaction//\n",
"a1=a-x;//percentage of left out concentration//\n",
"t1=(2.303/k)*(log10(a/a1));//formula to find time taken//\n",
"t2=t1*60;\n",
"printf('\nThe time taken to complete 80 percentage of the reaction is %fmin or %fsec',t1,t2);"
   ]
   }
,
{
		   "cell_type": "markdown",
		   "metadata": {},
		   "source": [
			"## Example 3.15: first_order_reaction_optical_rotation.sce"
		   ]
		  },
  {
"cell_type": "code",
	   "execution_count": null,
	   "metadata": {
	    "collapsed": true
	   },
	   "outputs": [],
"source": [
"//chemical kinetics and catalysis//\n",
"//example 3.15//\n",
"t1=6.18;//time in min//\n",
"t2=18;\n",
"t3=27.05;\n",
"ri=24.09;//rotation in degrees when t=0min//\n",
"r1=21.4;//rotation in degrees when t=6.18min//\n",
"r2=17.7;//rotation in degrees when t=18min//\n",
"r3=15.0;//rotation in degrees when t=27.05min//\n",
"rf=-10.74;//rotation in degrees when t=infinity//\n",
"a=ri-rf;//a value//\n",
"a1=r1-rf;//a-x value at t=6.18min//\n",
"a2=r2-rf;//a-x value at t=18min//\n",
"a3=r3-rf;//a-x value at t=27.05min//\n",
"k1=(2.303/t1)*log10(a/a1);\n",
"printf('Rate constant value at t=6.18min %f/min',k1);\n",
"k2=(2.303/t2)*log10(a/a2);\n",
"printf('\nRate constant value at t=18min %f/min',k2);\n",
"k3=(2.303/t3)*log10(a/a3);\n",
"printf('\nRate constant value at t=27.05min %f/min',k3);\n",
"printf('\nSince rate constant values are nearly same,hence reaction is of first order');"
   ]
   }
,
{
		   "cell_type": "markdown",
		   "metadata": {},
		   "source": [
			"## Example 3.16: optical_rotation_of_sucrose_solution.sce"
		   ]
		  },
  {
"cell_type": "code",
	   "execution_count": null,
	   "metadata": {
	    "collapsed": true
	   },
	   "outputs": [],
"source": [
"//chemical kinetics and catalysis//\n",
"//example 3.16//\n",
"t1=10//time in min//\n",
"t2=20;\n",
"t3=30;\n",
"t4=40;\n",
"ri=32.4;//rotation in degrees when t=0min//\n",
"r1=28.8;//rotation in degrees when t=10min//\n",
"r2=25.5;//rotation in degrees when t=20min//\n",
"r3=22.4;//rotation in degrees when t=30min//\n",
"r4=19.6;//rotation in degrees when t=40min//\n",
"rf=-11.1;//rotation in degrees when t=0min//\n",
"a=ri-rf;//a value//\n",
"a1=r1-rf;//a-x value at t=10min//\n",
"a2=r2-rf;//a-x value at t=20min//\n",
"a3=r3-rf;//a-x value at t=30min//\n",
"a4=r4-rf;//a-x value at t=40min//\n",
"k1=(1/t1)*log(a/a1);\n",
"printf('Rate constant value at t=10min %f/min',k1);\n",
"k2=(1/t2)*log(a/a2);\n",
"printf('\nRate constant value at t=20min %f/min',k2);\n",
"k3=(1/t3)*log(a/a3);\n",
"printf('\nRate constant value at t=30min %f/min',k3);\n",
"k4=(1/t4)*log(a/a4);\n",
"printf('\nRate constant value at t=40min %f/min',k4);\n",
"printf('\nSince rate constant values are nearly same,hence inversion of sucrose is of first order');"
   ]
   }
,
{
		   "cell_type": "markdown",
		   "metadata": {},
		   "source": [
			"## Example 3.17: activation_energy_of_the_reaction.sce"
		   ]
		  },
  {
"cell_type": "code",
	   "execution_count": null,
	   "metadata": {
	    "collapsed": true
	   },
	   "outputs": [],
"source": [
"//chemical kinetics and catalysis//\n",
"//example 3.17//\n",
"T1=27;//initial temparature in C//\n",
"T1=T1+273;//in kelvin//\n",
"Tr=10;//rise in temparature//\n",
"T2=T1+Tr;//final temparature in kelvin//\n",
"r=2;//ratio of final to initial rates of chemical reactions(k1/k2)//\n",
"R=8.314;//value of constant R in J/K.mol//\n",
"E=log(r)*R*T1*T2/Tr;//from equation k=A*e^(-E/R*T)//\n",
"printf('Activation energy of the reaction is %fKJ/mol',E);"
   ]
   }
,
{
		   "cell_type": "markdown",
		   "metadata": {},
		   "source": [
			"## Example 3.18: temperature_for_given_k.sce"
		   ]
		  },
  {
"cell_type": "code",
	   "execution_count": null,
	   "metadata": {
	    "collapsed": true
	   },
	   "outputs": [],
"source": [
"//chemical kinetics and catalysis//\n",
"//example 3.18//\n",
"k=4.5*10^3;//value of k in /sec of a first order reaction at 1C//\n",
"E=58*10^3;//activation energy in J/mol//\n",
"T=1;//temperature in C//\n",
"T1=T+273;//in kelvin//\n",
"R=8.314;//value of constant R in J/K.mol//\n",
"lA=log10(k)+(E/(2.303*R*T1));\n",
"k1=10^4;//value of k in /sec at some temperature//\n",
"a=log10(k1);\n",
"b=lA-a;\n",
"T2=E/(2.303*R*b);\n",
"printf('The temperature at which k=1*10^4/sec is %fK',T2);"
   ]
   }
,
{
		   "cell_type": "markdown",
		   "metadata": {},
		   "source": [
			"## Example 3.19: energy_of_activation_of_the_reaction.sce"
		   ]
		  },
  {
"cell_type": "code",
	   "execution_count": null,
	   "metadata": {
	    "collapsed": true
	   },
	   "outputs": [],
"source": [
"//chemical kinetics and catalysis//\n",
"//example 3.19//\n",
"T1=300;//temperature in kelvin//\n",
"t1=20;//half time of chemical reaction in min at T=300K//\n",
"k1=0.6932/t1;\n",
"printf('Rate constant of the reaction at T=300k is %f/min',k1);\n",
"T2=350;//temperature in kelvin//\n",
"t2=5;//half time of chemical reaction in min at T=350K//\n",
"k2=0.6932/t2;\n",
"printf('\nRate constant of the reaction at T=350k is %f/min',k2);\n",
"l=log10(k2/k1);\n",
"R=8.314;//value of constant R in J/K.mol//\n",
"E=l*2.303*R*T1*T2/(T2-T1);\n",
"printf('\nActivation energy of the reaction is %fJ/mol',E);"
   ]
   }
,
{
		   "cell_type": "markdown",
		   "metadata": {},
		   "source": [
			"## Example 3.20: rate_of_constant_of_first_order_reaction.sce"
		   ]
		  },
  {
"cell_type": "code",
	   "execution_count": null,
	   "metadata": {
	    "collapsed": true
	   },
	   "outputs": [],
"source": [
"//chemical kinetics and catalysis//\n",
"//example 3.20//\n",
"R=8.314;//value of constant R in J/K.mol//\n",
"H=1.25*10^4;//value of E/(2.303*R).It is given in the question//\n",
"E=H*2.303*R;\n",
"printf('activation energy is %fJ/mol or %fKJ/mol',E,E/1000);\n",
"la=14.34;//value of log(a)//\n",
"T=670;//temperature in kelvin//\n",
"lk=la-(H/T);\n",
"k=10^lk;\n",
"printf('\nRate constant at 670K is %f/s',k);"
   ]
   }
,
{
		   "cell_type": "markdown",
		   "metadata": {},
		   "source": [
			"## Example 3.21: activation_energy_of_the_reaction.sce"
		   ]
		  },
  {
"cell_type": "code",
	   "execution_count": null,
	   "metadata": {
	    "collapsed": true
	   },
	   "outputs": [],
"source": [
"//chemical kinetics and catalysis//\n",
"//example 3.21//\n",
"Ti=27;//given temperature in C//\n",
"T1=Ti+273;//in kelvin//\n",
"Tr=10;//rise in temperature//\n",
"T2=T1+Tr;\n",
"k=3;//value of k1/k2//\n",
"R=8.314;//value of constant R in J/K.mol//\n",
"E=log(k)*R*T1*T2/(T2-T1);\n",
"printf('Activation energy of the reaction is %fJ/mol or %fKJ/mol',E,E/1000);"
   ]
   }
,
{
		   "cell_type": "markdown",
		   "metadata": {},
		   "source": [
			"## Example 3.2: rate_constant.sce"
		   ]
		  },
  {
"cell_type": "code",
	   "execution_count": null,
	   "metadata": {
	    "collapsed": true
	   },
	   "outputs": [],
"source": [
"//chemical kinetics and catalysis//\n",
"//example 3.2//\n",
"T1=10;//in min//\n",
"T2=20;//in min//\n",
"a=25;//amount of KMnO4 in ml at t=0min//\n",
"a1=20;//amount of KMnO4 in ml at t=10min or a-x value at t=10//\n",
"a2=15.7;//a-x value at t=20min//\n",
"k1=(2.303/T1)*log10(a/a1);//formula of rate constant for first order reaction//\n",
"printf('At t=10min rate constant k=%f/min',k1);\n",
"k2=(2.303/T2)*log10(a/a2);//rate constant formula//\n",
"printf('\nAt t=20min rate constant k=%f/min',k2);\n",
"printf('\nIf we calculate the rate constant at other t values we will see that k values are almost constnat');"
   ]
   }
,
{
		   "cell_type": "markdown",
		   "metadata": {},
		   "source": [
			"## Example 3.3: rate_constant_calculation.sce"
		   ]
		  },
  {
"cell_type": "code",
	   "execution_count": null,
	   "metadata": {
	    "collapsed": true
	   },
	   "outputs": [],
"source": [
"//chemical kinetics and catalysis//\n",
"//example 3.3//\n",
"T=40.5;//in min//\n",
"R1=25;//percentage of decomposed reactant//\n",
"R2=100-R1;//percentage of left out reactant which is a-x value//\n",
"R3=100/R2;//value of a/(a-x)//\n",
"K=(2.303/T)*log10(R3);//formula of rate constant for first order reaction//\n",
"printf('The rate constant of the reaction is %f/min',K);"
   ]
   }
,
{
		   "cell_type": "markdown",
		   "metadata": {},
		   "source": [
			"## Example 3.4: rate_constant_of_first_order_reaction.sce"
		   ]
		  },
  {
"cell_type": "code",
	   "execution_count": null,
	   "metadata": {
	    "collapsed": true
	   },
	   "outputs": [],
"source": [
"//chemical kinetics and catalysis//\n",
"//example 3.4//\n",
"pi=0;//pressure of N2 at t=0//\n",
"t1=2;\n",
"t2=8;\n",
"t3=16;\n",
"t4=24;\n",
"t5=50;\n",
"pf=34;//pressure of N2 at infinity//\n",
"p1=1.6;//pressure of N2 at t=2min//\n",
"p2=6.2;//pressure of N2 at t=8min//\n",
"p3=11.2;//pressure Of N2 at t=16min//\n",
"p4=15.5;//pressure of N2 at t=24min//\n",
"p5=24.4;//pressure of N2 at t=50min//\n",
"a=pf-pi;//value of a//\n",
"a1=pf-p1;//a-x value at t=2min//\n",
"a2=pf-p2;//a-x value at t=8min//\n",
"a3=pf-p3;//a-x value at t=16min//\n",
"a4=pf-p4;//a-x value at t=24min//\n",
"a5=pf-p5;//a-x value at t=50min//\n",
"k1=(1/t1)*log(a/a1);//rate constant at t=2min//\n",
"printf('Rate constant at t=2min is %f/min',k1);\n",
"k2=(1/t2)*log(a/a2);//rate constant at t=8min//\n",
"printf('\nRate constant at t=8min is %f/min',k2);\n",
"k3=(1/t3)*log(a/a3);//rate constant at t=16min//\n",
"printf('\nRate constant at t=16min is %f/min',k3);\n",
"k4=(1/t4)*log(a/a4);//rate constant at t=24min//\n",
"printf('\nRate constant at t=24min is %f/min',k4);\n",
"k5=(1/t5)*log(a/a5);//rate constant at t=50min//\n",
"printf('\nRate constant at t=50min is %f/min',k5);\n",
"k=(k1+k2+k3+k4+k5)/5;\n",
"printf('\nAverage rate constant is %f/min',k);"
   ]
   }
,
{
		   "cell_type": "markdown",
		   "metadata": {},
		   "source": [
			"## Example 3.5: second_order_reaction.sce"
		   ]
		  },
  {
"cell_type": "code",
	   "execution_count": null,
	   "metadata": {
	    "collapsed": true
	   },
	   "outputs": [],
"source": [
"//chemical kinetics and catalysis//\n",
"//example 3.5//\n",
"t1=0;\n",
"t2=4.89;\n",
"t3=10.07;\n",
"t4=23.66;\n",
"v1=47.65;//ml of alkali used  at t=0min or a value//\n",
"v2=38.92;//ml of alkali used or a-x value at t=4.89min//\n",
"v3=32.62;//ml of alkali used or a-x value at t=10.07min//\n",
"v4=22.58;//ml of alkali used or a-x value at t=23.66min//\n",
"x2=v1-v2;//x value at t=4.89min//\n",
"x3=v1-v3;//x value at t=10.07min//\n",
"x4=v1-v4;//x value at t=23.66min//\n",
"k22=(1/t2)*(x2/(v1*v2));//rate constant for second order equation//\n",
"printf('Rate constant k2 value at t=4.89min is %f/min',k22);\n",
"k23=(1/t3)*(x3/(v1*v3));//rate constant for second order equation//\n",
"printf('\nRate constant k2 value at t=10.07min is %f/min',k23);\n",
"k24=(1/t4)*(x4/(v1*v4));//rate constant for second order equation//\n",
"printf('\nRate constant k2 value at t=23.66min is %f/min',k24);\n",
"printf('\nAlmost constant values of k2 indicate that reaction is second order');"
   ]
   }
,
{
		   "cell_type": "markdown",
		   "metadata": {},
		   "source": [
			"## Example 3.6: value_of_decay_constant.sce"
		   ]
		  },
  {
"cell_type": "code",
	   "execution_count": null,
	   "metadata": {
	    "collapsed": true
	   },
	   "outputs": [],
"source": [
"//chemical kinetics and catalysis//\n",
"//example 3.6//\n",
"t=1590;//half life of given radio active element in years//\n",
"k=0.693/t;//formula of decay constant for first order reactions//\n",
"printf('the value of decay constant is %f/year',k);"
   ]
   }
,
{
		   "cell_type": "markdown",
		   "metadata": {},
		   "source": [
			"## Example 3.8: rate_constant_of_reaction.sce"
		   ]
		  },
  {
"cell_type": "code",
	   "execution_count": null,
	   "metadata": {
	    "collapsed": true
	   },
	   "outputs": [],
"source": [
"//chemical kinetics and catalysis//\n",
"//example 3.8//\n",
"t1=5;\n",
"t2=15;\n",
"t3=25;\n",
"t4=45;\n",
"a=37;//volume of KMnO4 in cm^3 at t=0 or value of a//\n",
"a1=29.8;//volume of KMnO4 in cm^3 or a-x value at t=5min//\n",
"a2=19.6;//volume of KMnO4 in cm^3 or a-x value at t=15min//\n",
"a3=12.3;//volume of KMnO4 in cm^3 or a-x value at t=25min//\n",
"a4=5;//volume of KMnO4 in cm^3 or a-x value at t=45min//\n",
"k1=(2.303/t1)*log10(a/a1);\n",
"printf('\nRate constant value at t=5min is %f/min',k1);\n",
"k2=(2.303/t2)*log10(a/a2);\n",
"printf('\nRate constant value at t=15min is %f/min',k2);\n",
"k3=(2.303/t3)*log10(a/a3);\n",
"printf('\nRate constant value at t=25min is %f/min',k3);\n",
"k4=(2.303/t4)*log10(a/a4);\n",
"printf('\nRate constant value at t=45min is %f/min',k4);\n",
"printf('\nAs the different values of k are nearly same,the reaction is of first oredr.');\n",
"k=(k1+k2+k3+k4)/4;\n",
"printf('\nThe average value of k is %f/min',k);"
   ]
   }
,
{
		   "cell_type": "markdown",
		   "metadata": {},
		   "source": [
			"## Example 3.9: rate_constant_and_half_life.sce"
		   ]
		  },
  {
"cell_type": "code",
	   "execution_count": null,
	   "metadata": {
	    "collapsed": true
	   },
	   "outputs": [],
"source": [
"//chemical kinetics and catalysis//\n",
"//example 3.9//\n",
"k=6*10^-4;//rate constant of first order decomposition of N2O5 in CCl4 in /min//\n",
"k1=k/60;\n",
"printf('Rate constant in terms of seconds is %f/s',k1);\n",
"t=0.693/k;\n",
"printf('\nHalf life of the reaction is %fmin',t);"
   ]
   }
],
"metadata": {
		  "kernelspec": {
		   "display_name": "Scilab",
		   "language": "scilab",
		   "name": "scilab"
		  },
		  "language_info": {
		   "file_extension": ".sce",
		   "help_links": [
			{
			 "text": "MetaKernel Magics",
			 "url": "https://github.com/calysto/metakernel/blob/master/metakernel/magics/README.md"
			}
		   ],
		   "mimetype": "text/x-octave",
		   "name": "scilab",
		   "version": "0.7.1"
		  }
		 },
		 "nbformat": 4,
		 "nbformat_minor": 0
}
