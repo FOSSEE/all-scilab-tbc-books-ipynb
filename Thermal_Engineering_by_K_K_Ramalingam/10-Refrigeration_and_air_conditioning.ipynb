{
"cells": [
 {
		   "cell_type": "markdown",
	   "metadata": {},
	   "source": [
       "# Chapter 10: Refrigeration and air conditioning"
	   ]
	},
{
		   "cell_type": "markdown",
		   "metadata": {},
		   "source": [
			"## Example 10.1: Power_rating.sce"
		   ]
		  },
  {
"cell_type": "code",
	   "execution_count": null,
	   "metadata": {
	    "collapsed": true
	   },
	   "outputs": [],
"source": [
"clc\n",
"clear\n",
"//Input data\n",
"T1=273;//The temperature of ice in K\n",
"T2=298;//Temperature of water at room in K\n",
"COP=2.1;//Cop of the plant\n",
"ne=90;//Overall electrochemical efficiency in percentage\n",
"w=15;//Weight of ice produced per day in tonnes\n",
"cw=4.187;//Specific heat of water in kJ/kg degrees celcius\n",
"Li=335;//Latent heat of ice in kJ/kg\n",
"mi=1;//Mass of ice produced at 0 degrees celcius\n",
"\n",
"//Calculations\n",
"m=(w*1000)/(24*60);//Mass of ice produced in kg/min\n",
"h=(mi*cw*(T2-T1))+Li;//Heat extracted from 1kg of water at 25 degrees celcius to produce 1kg of ice at 0 degrees celcius in kJ/kg\n",
"Q=m*h;//Total heat extracted in kJ\n",
"W=Q/COP;//Work done by the compressor in kJ/kg\n",
"P=W/(60*(ne/100));//Power of compressor in kW\n",
"\n",
"//Output\n",
"printf('Power rating of the compressor-motor unit if the cop of the plant is 2.1 is %3.1f kW',P)"
   ]
   }
,
{
		   "cell_type": "markdown",
		   "metadata": {},
		   "source": [
			"## Example 10.2: Refrigeration_capacity.sce"
		   ]
		  },
  {
"cell_type": "code",
	   "execution_count": null,
	   "metadata": {
	    "collapsed": true
	   },
	   "outputs": [],
"source": [
"clc\n",
"clear\n",
"//Input data\n",
"m=400;//Mass of fruits supplied to a cold storage in kg\n",
"T1=293;//Temperature at which fruits are stored in K\n",
"T2=268;//Temperature of cold storage in K\n",
"t=8;//The time untill which fruits are cooled in hours\n",
"hfg=105;//Latent heat of freezing in kJ/kg\n",
"Cf=1.25;//Specific heat of fruit\n",
"TR=210;//One tonne refrigeration in kJ/min\n",
"\n",
"//Calculations\n",
"Q1=m*Cf*(T1-T2);//Sensible heat in kJ\n",
"Q2=m*hfg;//Latent heat of freezing in kJ\n",
"Q=Q1+Q2;//Heat removed from fruits in 8 hrs\n",
"Th=(Q1+Q2)/(t*60);//Total heat removed in one minute in kJ/kg\n",
"Rc=Th/TR;//Refrigerating capacity of the plant in TR\n",
"\n",
"//Output\n",
"printf('The refrigeration capacity of the plant is %3.3f TR',Rc)"
   ]
   }
,
{
		   "cell_type": "markdown",
		   "metadata": {},
		   "source": [
			"## Example 10.3: COP_of_a_heat_pump.sce"
		   ]
		  },
  {
"cell_type": "code",
	   "execution_count": null,
	   "metadata": {
	    "collapsed": true
	   },
	   "outputs": [],
"source": [
"clc\n",
"clear\n",
"//Input data\n",
"T1=300;//The maximum temperature at which carnot cycle operates in K\n",
"T2=250;//The minimum temperature at which carnot cycle operates in K\n",
"\n",
"//Calculations\n",
"COPr=T2/(T1-T2);//COP of the refrigerating machine\n",
"COPh=T1/(T1-T2)//COP of heat pump\n",
"n=((T1-T2)/T1)*100;//COP or efficiency of the heat engine in percentage\n",
"\n",
"//Output data\n",
"printf('(a)COP of the machine when it is operated as a refrigerating machine is %3.2f\n (b)COP when it is operated as heat pump is %3.2f\n (c)COP or efficiency of the Heat engine is %3.2f percent',COPr,COPh,n)"
   ]
   }
,
{
		   "cell_type": "markdown",
		   "metadata": {},
		   "source": [
			"## Example 10.4: Time_taken_to_achieve_cooling.sce"
		   ]
		  },
  {
"cell_type": "code",
	   "execution_count": null,
	   "metadata": {
	    "collapsed": true
	   },
	   "outputs": [],
"source": [
"clc\n",
"clear\n",
"//Input data\n",
"m=20000;//The storage capacity of fish in a storage plant in kg\n",
"T1=298;//Supplied temperature of fish in K\n",
"T2=263;//Temperature of cold storage in which fish are stored in K\n",
"T3=268;//Freezing point of fish in K\n",
"Caf=2.95;//Specific heat of fish above freezing point in kJ/kg K\n",
"Cbf=1.25;//Specific heat of below freezing point in kJ/kg K\n",
"W=75;//Work required by the plant in kW\n",
"TR=210;//One tonne refrigeration in kJ/min\n",
"hfg=230;//Latent heat of fish in kJ/kg\n",
"\n",
"//Calculations\n",
"COPr=T2/(T1-T2);//COP of reversed carnot cycle\n",
"COPa=0.3*COPr;//Given that actual COP is 0.3 times of reversed COP\n",
"Hr=(COPa*W)*60;//Heat removed by the plant in kJ/min\n",
"C=Hr/TR;//Capacity of the plant in TR\n",
"Q1=m*Caf*(T1-T3);//Heat removed from the fish above freezing point in kJ\n",
"Q2=m*Cbf*(T3-T2);//Heat removed from fish below freezing point in kJ\n",
"Q3=m*hfg;//Total latent heat of the fish in kJ\n",
"Q=Q1+Q2+Q3;//Total heat removed by the plant in kJ\n",
"T=(Q/Hr)/60;//Time taken to achieve cooling in hrs \n",
"\n",
"//Output data\n",
"printf('(a)Capacity of the plant is %3.2f TR\n (b)Time taken to achieve cooling is %3.2f hours',C,T)"
   ]
   }
,
{
		   "cell_type": "markdown",
		   "metadata": {},
		   "source": [
			"## Example 10.5: Theoretical_COP.sce"
		   ]
		  },
  {
"cell_type": "code",
	   "execution_count": null,
	   "metadata": {
	    "collapsed": true
	   },
	   "outputs": [],
"source": [
"clc\n",
"clear\n",
"//Input data\n",
"T2=298;//Maximum temperature at which CO2 machine works in K\n",
"T1=268;//Minimum temperature at which CO2 machine works in K\n",
"sf1=-0.042;//Liquid entropy at 268 K in kJ/kg K\n",
"hfg1=245.3;//Latent heat of gas at 268 K in kJ/kg\n",
"sf2=0.251;//Liquid entropy in kJ/kg K\n",
"hfg2=121.4;//Latent heat of gas at 298 K in kJ/kg\n",
"hf1=-7.54;//Liquid enthalpy at 268 K in kJ/kg\n",
"hf2=81.3;//Liquid enthalpy at 298 K in kJ/kg\n",
"hf3=81.3;//Enthalpy at point 3 in graph in kJ/kg\n",
"\n",
"//Calculations\n",
"s2=sf2+(hfg2/T2);//Entropy at point 2 from the graph in kJ/kg K\n",
"x1=(s2-sf1)/(hfg1/T1);//Dryness fraction at point 1\n",
"h1=hf1+(x1*hfg1);//Enthalpy at point 1 in kJ/kg\n",
"h2=hf2+hfg2;//Enthalpy at point 2 in kJ/kg\n",
"COP=(h1-hf3)/(h2-h1);//Coefficient of performance for a CO2 machine working at given temperatures\n",
"\n",
"//Output data\n",
"printf('Theoretical COP for a CO2 machine working at given temperatures is %3.2f',COP)"
   ]
   }
,
{
		   "cell_type": "markdown",
		   "metadata": {},
		   "source": [
			"## Example 10.6: Capacity_of_refrigerator.sce"
		   ]
		  },
  {
"cell_type": "code",
	   "execution_count": null,
	   "metadata": {
	    "collapsed": true
	   },
	   "outputs": [],
"source": [
"clc\n",
"clear\n",
"//Input data\n",
"T2=298;//Maximum temperature at which ammonia refrigerating system works in K\n",
"T1=263;//Minimum temperature at which ammonia refrigerating system works in K\n",
"mf=5;//Fluid flow rate in kg/min\n",
"sf1=0.5443;//Liquid entropy at 298 K in kJ/kg K\n",
"sf2=1.1242;//Liquid entropy at 263 K in kJ/kg K\n",
"hfg1=1297.68;//Latent heat at 298 K in kJ/kg\n",
"hfg2=1166.94;//Latent heat at 263 K in kJ/kg\n",
"hf1=135.37;//Liquid enthalpy at point 1 in graph in kJ/kg\n",
"hf2=298.9;//Liquid enthalpy at point 2 in graph in kJ/kg\n",
"TR=210;//One tonne refrigeration in TR\n",
"\n",
"//Calculations\n",
"s2=sf2+(hfg2/T2);//Entropy at point 2 in kJ/kg\n",
"x1=(s2-sf1)/(hfg1/T1);//Dryness fraction at point 1\n",
"h1=hf1+(x1*hfg1);//Enthalpy at point 1 in kJ/kg\n",
"h=h1-hf2;//Heat extracted of refrigerating effect produced per kg of refrigerant in kJ/kg\n",
"ht=mf*h;//Total heat extracted at a fluid flow rate of 5 kg/min in kJ/min\n",
"C=ht/TR;//Capacity of refrigerating in TR\n",
"\n",
"//Output\n",
"printf('The capacity of refrigerator is %3.0f TR',C)"
   ]
   }
,
{
		   "cell_type": "markdown",
		   "metadata": {},
		   "source": [
			"## Example 10.7: Theoretical_COP.sce"
		   ]
		  },
  {
"cell_type": "code",
	   "execution_count": null,
	   "metadata": {
	    "collapsed": true
	   },
	   "outputs": [],
"source": [
"clc\n",
"clear\n",
"//Input data\n",
"T1=263;//Minimum temperature at which ammonia refrigerating machine works in K\n",
"T2=303;//Maximum temperature at which ammonia refrigerating machine works in K\n",
"x1=0.6;//Dryness fraction of ammonia during suction stroke\n",
"sf1=0.5443;//Liquid entropy at 263 K in kJ/kg K\n",
"hfg1=1297.68;//Latent heat at 263 K in kJ/kg\n",
"sf2=1.2037;//Liquid entropy at 303 K in kJ/kg K\n",
"hfg2=1145.8;//Latent heat at 303 K in kJ/kg\n",
"hf1=135.37;//Liquid enthalpy at 263 K in kJ/kg\n",
"hf2=323.08;//Liquid enthalpy at 303 K in kJ/kg\n",
"\n",
"//Calculations\n",
"s1=sf1+((x1*hfg1)/T1);//Entropy at point 1 in kJ/kg K\n",
"x2=(s1-sf2)/(hfg2/T2);//Entropy at point 2 in kJ/kg K\n",
"h1=hf1+(x1*hfg1);//Enthalpy at point 1 in kJ/kg\n",
"h2=hf2+(x2*hfg2);//Enthalpy at point 2 in kJ/kg\n",
"COP=(h1-hf2)/(h2-h1);//Theoretical COP of ammonia refrigerating machine\n",
"\n",
"//Output\n",
"printf('The theoretical COP of a ammonia refrigerating machine working between given temperatures is %3.2f',COP)"
   ]
   }
,
{
		   "cell_type": "markdown",
		   "metadata": {},
		   "source": [
			"## Example 10.8: Ice_produced.sce"
		   ]
		  },
  {
"cell_type": "code",
	   "execution_count": null,
	   "metadata": {
	    "collapsed": true
	   },
	   "outputs": [],
"source": [
"clc\n",
"clear\n",
"//Input data\n",
"T1=263;//Minimum temperature at which Vapour compression refrigerator using methyl chloride operates in K\n",
"T2=318;//Maximum temperature at which Vapour compression refrigerator using methyl chloride operates in K\n",
"sf1=0.183;//Entropy of the liquid in kJ/kg K\n",
"hfg1=460.7;//Enthalpy of the liquid in kJ/kg\n",
"sf2=0.485;//Entropy of the liquid in kJ/kg K\n",
"hfg2=483.6;//Enthalpy of the liquid in kJ/kg\n",
"x2=0.95;//Dryness fraction at point 2\n",
"hf3=133.0;//Enthalpy of the liquid in kJ/kg\n",
"W=3600;//Work to be spent corresponding to 1kW/hour\n",
"Cw=4.187;//Specific heat of water in kJ/kg degrees celcius\n",
"mi=1;//Mass of ice produced at 0 degrees celcius\n",
"Li=335;//Latent heat of ice in kJ/kg\n",
"hf1=45.4;//Enthalpy of liquid at 263 K in kJ/kg\n",
"hf2=133;//Enthalpy of liquid at 318 K in kJ/kg\n",
"\n",
"//Calculations\n",
"s2=sf2+((x2*(hfg2-hf2))/T2);//Enthalpy at point 2 in kJ/kg\n",
"x1=(s2-sf1)/((hfg1-hf1)/T1);//Dryness fraction at point 1\n",
"h1=hf1+(x1*hfg1);//Enthalpy at point 1 in kJ/kg\n",
"h2=hf2+(x2*hfg2);//Enthalpy at point 2 in kJ/kg\n",
"COP=(h1-hf3)/(h2-h1);//Theoretical COP\n",
"COPa=0.6*COP;//Actual COP which is 60 percent of theoretical COP\n",
"H=W*COPa;//Heat extracted or refrigeration effect produced per kW hour in kJ\n",
"Hw=(mi*Cw*10)+Li;//Heat extracted from water at 10 degrees celcius for the formation of 1 kg of ice at 0 degrees celcius\n",
"I=H/Hw;//Amount of ice produced in kg/kW hr\n",
"\n",
"//Output\n",
"printf('The amount of ice produced is %3.2f kg/kW hr',I)"
   ]
   }
],
"metadata": {
		  "kernelspec": {
		   "display_name": "Scilab",
		   "language": "scilab",
		   "name": "scilab"
		  },
		  "language_info": {
		   "file_extension": ".sce",
		   "help_links": [
			{
			 "text": "MetaKernel Magics",
			 "url": "https://github.com/calysto/metakernel/blob/master/metakernel/magics/README.md"
			}
		   ],
		   "mimetype": "text/x-octave",
		   "name": "scilab",
		   "version": "0.7.1"
		  }
		 },
		 "nbformat": 4,
		 "nbformat_minor": 0
}
