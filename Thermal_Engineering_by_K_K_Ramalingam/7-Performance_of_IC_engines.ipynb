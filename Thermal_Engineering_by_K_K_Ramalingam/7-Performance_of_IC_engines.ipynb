{
"cells": [
 {
		   "cell_type": "markdown",
	   "metadata": {},
	   "source": [
       "# Chapter 7: Performance of IC engines"
	   ]
	},
{
		   "cell_type": "markdown",
		   "metadata": {},
		   "source": [
			"## Example 7.10: Volumetric_efficiency.sce"
		   ]
		  },
  {
"cell_type": "code",
	   "execution_count": null,
	   "metadata": {
	    "collapsed": true
	   },
	   "outputs": [],
"source": [
"clc\n",
"clear\n",
"//Input data\n",
"d=6;//Diameter of the bore in cm\n",
"l=9;//Length of the stroke in cm\n",
"m=0.00025;//Mass of charge admitted in each suction stroke\n",
"R=29.27;//Gas constant Kgfm/kg K\n",
"p=1;//Normal pressure in kgf/cm^2\n",
"T=273;//Temperature in K\n",
"\n",
"//Calculations\n",
"V=(m*R*T)*10^6/(p*10^4);//Volume of charge admitted in each cycle in m^3\n",
"Vs=(3.14*d^2*l)/4;//Swept volume of the cylinder\n",
"nv=(V/Vs)*100;//Volumetric efficiency in percentage\n",
"\n",
"//Output\n",
"printf('The volumetric efficiency is %3.1f percent',nv)"
   ]
   }
,
{
		   "cell_type": "markdown",
		   "metadata": {},
		   "source": [
			"## Example 7.11: Volumetric_efficiency.sce"
		   ]
		  },
  {
"cell_type": "code",
	   "execution_count": null,
	   "metadata": {
	    "collapsed": true
	   },
	   "outputs": [],
"source": [
"clc\n",
"clear\n",
"//Input data\n",
"d=0.12;//Diameter of the bore in m\n",
"l=0.13;//Length of stroke in m\n",
"N=2500;//Speed of the engine in rpm\n",
"d1=0.06;//Diameter of the orifice in m\n",
"Cd=0.70;//Discharge coefficient of orifice\n",
"hw=33;//Heat causing air flow through orifice in cm of water\n",
"p=760;//Barometric reading in mm of Hg\n",
"T1=298;//Ambient temperature in degree K\n",
"p1=1.013;//Pressure of air at the end of suction in bar\n",
"T2=22;//Temperature of air at the end of suction in degree C\n",
"R=0.287;//Universal gas constant\n",
"n=6;//Number of cylinders in the engine\n",
"n1=1250;//Number of strokes per minute for a four stroke engine operating at 2500 rpm\n",
"\n",
"//Calculations\n",
"V=(3.14*d^2*l)/4;//Swept volume of piston in m^3\n",
"Ao=(3.14*d1^2)/4;//Area of the orifice in m^2\n",
"rho=p1*10^5/((R*T1)*1000);//Density of air at 1.013 bar and 22 degrees C\n",
"Va=840*Cd*Ao*(hw/rho)^(1/2);//Volume of air passing through the orifice in m^3/min\n",
"V1=8.734/n;//Actual volume of air per cylinder in m^3/min\n",
"As=V1/n1;//Air supplied per cycle per cylinder in m^3\n",
"nv=(As/V)*100;//Volumetric efficiency of the engine in percentage\n",
"\n",
"//Output\n",
"printf('The volumetric efficiency of the engine is %3.2f percent',nv)"
   ]
   }
,
{
		   "cell_type": "markdown",
		   "metadata": {},
		   "source": [
			"## Example 7.12: Air_standard_efficiency.sce"
		   ]
		  },
  {
"cell_type": "code",
	   "execution_count": null,
	   "metadata": {
	    "collapsed": true
	   },
	   "outputs": [],
"source": [
"clc\n",
"clear\n",
"//Input data\n",
"d=0.15;//Diameter of the piston in m\n",
"l=0.19;//Length of the stroke in m\n",
"V=0.00091;//Clearance volume in m^3\n",
"N=250;//Speed of the engine in rpm\n",
"M=6.5;//Indicated mean effective pressure in bar\n",
"c=6.3;//Gas consumption in m^3/hr\n",
"H=16000;//Calorific value of the has in kJ/m^3\n",
"r1=1.4;//Polytropic index\n",
"\n",
"//Calculations\n",
"Vs=(3.14*d^2*l)/4;//Swept volume in m^3\n",
"Vt=Vs+V;//Total cylinder volume in m^3\n",
"r=Vt/V;//Compression ratio\n",
"na=(1-(1/r^(r1-1)))*100;//Air standard efficiency in percent\n",
"A=(3.14*d^2)/4;//Area of the bore in m\n",
"I=(M*10^5*l*A*N)/(1000*60);//Indicated power in kW\n",
"Hs=(c*H)/(60*60);//Heat supplied per second\n",
"nt=(I/Hs)*100;//Indicated thermal efficiency in percent\n",
"\n",
"//Output\n",
"printf('(a)The air standard efficiency is %3.1f percent\n (b)Indicated power is %3.3f kW\n (c)Indicated thermal efficiency is %3.1f percent',na,I,nt)"
   ]
   }
,
{
		   "cell_type": "markdown",
		   "metadata": {},
		   "source": [
			"## Example 7.13: Diameter_of_venturi.sce"
		   ]
		  },
  {
"cell_type": "code",
	   "execution_count": null,
	   "metadata": {
	    "collapsed": true
	   },
	   "outputs": [],
"source": [
"clc\n",
"clear\n",
"//Input data\n",
"ma=6;//Air supplied per minute by a single jet carburetor in kg/min\n",
"mf=0.44;//Mass flow rate of petrol in kg/min\n",
"s=0.74;//Specific gravity of petrol in kg/m^3\n",
"p1=1;//Initial pressure of air in bar\n",
"T1=300;//Initial temperature of air in K\n",
"Ci=1.35;//Isentropic coefficient of air\n",
"V=90;//Speed of air in the venturi in m/s\n",
"Vc=0.85;//Velocity coefficient of the venturi in m/s\n",
"Cf=0.66;//Coefficient of discharge for the jet\n",
"Cp=1005;//Coefficient of pressure in J/kg K\n",
"n=1.35;//Isentropic coefficient of air\n",
"R=0.281;//Real gas constant in Nm/kg K\n",
"rhof=740;//Density of fuel in mm of Hg\n",
"\n",
"//Calculations\n",
"p2=(1-((V/Vc)^(2)/(2*T1*Cp)))^((n)/(n-1));//Pressure at the venturi in bar\n",
"V1=((R*T1)/(p1*10^5))*1000;//Initial volume in m^3/kg\n",
"V2=V1*((p1/p2)^(0.741));//Final volume in m^3/kg\n",
"A2=((ma*V2)/(V*60))*10^4;//Throat area of venturi in cm^2\n",
"d=((A2*4)/3.14)^(0.5);//Diameter of venturi in cm\n",
"deltaPa=1-p2;//Pressure drop causing air flow in bar\n",
"deltaPf=0.8*deltaPa;//Pressure drop causing fuel flow in bar\n",
"Af=(mf/60)*(10^4)/((Cf)*(2*rhof*deltaPf*10^5)^(1/2));//Area through which fuel flows in cm^2\n",
"df=((Af*(4/3.14))^(1/2))*10;//Diameter of fuel jet in mm\n",
"\n",
"printf('(a)The diameter of the venturi of the venturi if the air speed is 90 m/s is %3.2f cm\n (b)The diameter of the jet if the pressure drop at the jet is 0.8 times the pressure drop at the venturi is %3.4f mm',d,df)"
   ]
   }
,
{
		   "cell_type": "markdown",
		   "metadata": {},
		   "source": [
			"## Example 7.14: Fuel_supplied.sce"
		   ]
		  },
  {
"cell_type": "code",
	   "execution_count": null,
	   "metadata": {
	    "collapsed": true
	   },
	   "outputs": [],
"source": [
"clc\n",
"clear\n",
"//Input data\n",
"r=14;//The compression ratio of a diesel engine\n",
"Vc=1;//Clearance volume in m^3\n",
"c=0.08;//Fuel supply cut off point\n",
"nr=0.55;//Relative efficiency\n",
"H=10000;//Calorific value of fuel in kcal/kg\n",
"r1=1.4;//Ratio of specific heat of air\n",
"Vs=13;//Stroke volume in m^3\n",
"\n",
"//Calculations\n",
"rho=Vc+(c*Vs);//Cut off ratio\n",
"na=1-(1*(rho^r1-1)/((r^(r1-1)*r1)*(rho-1)));//Air standard efficiency of diesel cycle in percent\n",
"In=(na*nr);//Indicated thermal efficiency in percent\n",
"H1=(4500*60)/(In*427);//Heat in fuel supplied/1HP hr\n",
"W=H1/10^4;//Weight of fuel required/1HP hr\n",
"\n",
"//Output\n",
"printf('The weight of fuel required per 1HP hr is %3.4f kg',W)"
   ]
   }
,
{
		   "cell_type": "markdown",
		   "metadata": {},
		   "source": [
			"## Example 7.15: Fuel_to_be_injected.sce"
		   ]
		  },
  {
"cell_type": "code",
	   "execution_count": null,
	   "metadata": {
	    "collapsed": true
	   },
	   "outputs": [],
"source": [
"clc\n",
"clear\n",
"//Input data\n",
"P=120;//Power developed by a six cykinder four stroke diesel engine\n",
"N=2400;//Speed in rpm\n",
"f=0.2;//Brake specific fuel consumption in kg/kWh\n",
"s=0.85;//Specific gravity of fuel\n",
"\n",
"//Calculations\n",
"F=f*P;//Fuel consumed per hour in kg\n",
"F1=F/6;//Fuel consumed per cylinder in kg/h\n",
"n=(N*60)/2;//Number of cycles per hour\n",
"F2=(F1/n)*10^3;//Fuel consumption per cycle in gm\n",
"V=F2/s;//Volume of fuel to be injected per cycle in cc\n",
"\n",
"//Output\n",
"printf('The quantity kof fuel to be injected per cycle per cylinder is %3.4f cc',V)"
   ]
   }
,
{
		   "cell_type": "markdown",
		   "metadata": {},
		   "source": [
			"## Example 7.16: Diameter_of_orifice.sce"
		   ]
		  },
  {
"cell_type": "code",
	   "execution_count": null,
	   "metadata": {
	    "collapsed": true
	   },
	   "outputs": [],
"source": [
"clc\n",
"clear\n",
"//Input data\n",
"P=20;//Power developed by a four stroke diesel engine per cylinder in kW\n",
"N=2000;//Operating speed of the diesel engine in rpm\n",
"s=0.25;//Specific fuel consumption in kh/kW\n",
"p1=180;//Pressure of fuel injected in bar\n",
"d=25;//Distance travelled by crank in degrees\n",
"p2=38;//Pressure in the combustion chamber in bar\n",
"Cd=0.85;//Coefficient of velocity\n",
"A=30;//API in degrees\n",
"\n",
"//Calculations\n",
"T=d/(360*(N/60));//Duration of fuel injection in s\n",
"SG=(141.5/(131.5+A))*10^3;//Specific gravity of fuel\n",
"V=Cd*(2*(p1-p2)*10^5/SG)^(1/2);//Velocity of fuel injection in m/s\n",
"Vf=(s/60)*P/((N/2)*SG);//Volume of fuel injected per cycle in m^3/cycle\n",
"Na=Vf/(V*T);//Nozzle orifice area in m^2\n",
"d=(((4*Na)/3.14)^(1/2))*10^3;//Diameter of the orifice of the fuel injector in mm\n",
"\n",
"//Output\n",
"printf('The diameter of the orifice is %3.4f mm',d)"
   ]
   }
,
{
		   "cell_type": "markdown",
		   "metadata": {},
		   "source": [
			"## Example 7.17: Total_orifice_area.sce"
		   ]
		  },
  {
"cell_type": "code",
	   "execution_count": null,
	   "metadata": {
	    "collapsed": true
	   },
	   "outputs": [],
"source": [
"clc\n",
"clear\n",
"//Input data\n",
"P=200;//Power developed by a six cylinder diesel engine in kW\n",
"N=2000;//Operating speed of the engine in rpm\n",
"bs=0.2;//The brake specific fuel consumption in kg/kWh\n",
"p1=35;//The pressure of air in the cylinder at the beginning of injection in bar\n",
"p2=55;//Maximum cylinder pressure in bar\n",
"p3=180;//Initial injection pressure in bar\n",
"p4=520;//Maximum pressure at the injector in bar\n",
"Cd=0.75;//Coefficient of discharge\n",
"S=850;//Specific gravity of fuel\n",
"p5=1;//Atmospheric pressure in bar\n",
"a=16;//The crank angle over which injection takes place in degrees\n",
"\n",
"//Calculations\n",
"Po=P/6;//Power output per cylinder in kW\n",
"F=(Po*bs)/60;//Fuel consumed per cylinder in kg/min\n",
"Fi=F/(N/2);//Fuel injected per cycle in kg\n",
"T=a/(360*(N/60));//Duration of injection in s\n",
"deltaP1=p3-p1;//Pressure difference at the beginning of injection in bar\n",
"deltaP2=p4-p2;//Pressure difference at the end of injection in bar\n",
"avP=(deltaP1+deltaP2)/2;//Average pressure difference in bar\n",
"V=Cd*(2*(avP*10^5)/S)^(1/2);//Velocity of injection of fuel jet in m/s\n",
"Vo=Fi/S;//Volume of fuel injected per cycle in m^3/cycle\n",
"A=(Vo/(V*T))*10^6;//Area of fuel orifices in mm^2\n",
"\n",
"//Output\n",
"printf('The total orifice area required per injector if the injection takes place over 16 degree crank angle is %3.4f mm^2',A)"
   ]
   }
,
{
		   "cell_type": "markdown",
		   "metadata": {},
		   "source": [
			"## Example 7.18: Indicated_power.sce"
		   ]
		  },
  {
"cell_type": "code",
	   "execution_count": null,
	   "metadata": {
	    "collapsed": true
	   },
	   "outputs": [],
"source": [
"clc\n",
"clear\n",
"//Input data\n",
"A=450;//Area of indicator diagram in mm^2\n",
"l=60;//Length of indicator diagram in mm\n",
"s=1.1;//Spring number in bar/mm\n",
"d=0.1;//Diameter of piston in m\n",
"L=0.13;//Length of stroke in m\n",
"N=400;//Operating speed of the engine in rpm\n",
"\n",
"//Calculations\n",
"Av=A/l;//Average height of indicator diagram in mm\n",
"pm=Av*s;//Mean effective pressure in bar\n",
"np=N/2;//Number of power strokes per minute for a four stroke diesel engine\n",
"Ar=(3.14*d^2)/4;//Area of the piston in m^2\n",
"I=(pm*10^5*L*Ar*np)/(1000*60);//Indicated power in kW\n",
"\n",
"//Output\n",
"printf('(a)The indicated mean effective pressure is %3.2f bar\n (b)Indicated power is %3.2f kW',pm,I)"
   ]
   }
,
{
		   "cell_type": "markdown",
		   "metadata": {},
		   "source": [
			"## Example 7.19: BHP.sce"
		   ]
		  },
  {
"cell_type": "code",
	   "execution_count": null,
	   "metadata": {
	    "collapsed": true
	   },
	   "outputs": [],
"source": [
"clc\n",
"clear\n",
"//Input data\n",
"d=25;//Diameter of the bore in cm\n",
"l=0.4;//Stroke length in m\n",
"N=300;//Operating speed of the engine in rpm\n",
"n=120;//Number of explosions per minute\n",
"pm=6.7;//Mean effective pressure in kgf/cm^2\n",
"Tnet=90;//Net brake load in kg\n",
"R=0.75;//Radius of brake drum in m\n",
"f=0.22;//Fuel supplied per minute in m^3\n",
"C=4500;//Calorific value of fuel in kcal/m^3\n",
"\n",
"//Calculations\n",
"BHP=(2*3.14*R*N*Tnet)/4500;//Brake horse power in kW\n",
"A=(3.14*d^2)/4;//Area of the cylinder in cm^2\n",
"IHP=(pm*l*A*n)/4500;//Indicated horse power in kW\n",
"H=f*C;//Heat supplied by fuel per minute in kcal\n",
"nt1=((IHP*C)/(990*427))*100;//Thermal efficiency on IHP basis in percent\n",
"nt2=((BHP*C)/(990*427))*100;//Thermal efficiency on BHP basis in percent\n",
"\n",
"//Output\n",
"printf('(a)The brake horse power is %3.2f kW\n (b)Indicated horse power is %3.3f kW\n (c)Thermal efficiency on IHP basis is %3.2f percent\n (d)Thermal efficiency on BHP basis is %3.2f percent',BHP,IHP,nt1,nt2)"
   ]
   }
,
{
		   "cell_type": "markdown",
		   "metadata": {},
		   "source": [
			"## Example 7.1: Brake_torque.sce"
		   ]
		  },
  {
"cell_type": "code",
	   "execution_count": null,
	   "metadata": {
	    "collapsed": true
	   },
	   "outputs": [],
"source": [
"clc\n",
"clear\n",
"//Input data\n",
"N=1500;//Engine speed in rpm\n",
"p=110;//Load on brakes in kg\n",
"L=900;//Length of brake arm in mm\n",
"g=9.81;//Gravitational force in N/m^2\n",
"pi=3.14;//Mathematical constant\n",
"\n",
"//Calculations\n",
"T=((p*g)*(L/1000));//Braking torque in Nm\n",
"P=((T/1000)*((2*3.14*N)/60));//Power available at the brakes of the engine in kW\n",
"\n",
"//Output\n",
"printf('(a) Brake torque is %3.1f Nm \n (b)Power available at the brakes of the engine is %3.2f kW',T,P)"
   ]
   }
,
{
		   "cell_type": "markdown",
		   "metadata": {},
		   "source": [
			"## Example 7.20: IHP.sce"
		   ]
		  },
  {
"cell_type": "code",
	   "execution_count": null,
	   "metadata": {
	    "collapsed": true
	   },
	   "outputs": [],
"source": [
"clc\n",
"clear\n",
"//Input data\n",
"D=0.6;//Brake wheel diameter of a constant speed compression ignition engine operating on four stroke cycle in m\n",
"t=0.01;//Thickness of brake band in m\n",
"N=500;//Operating speed of the engine in rpm\n",
"W=20;//Load on brake band in kgf\n",
"S=3;//Spring balance reading in kgf\n",
"l=6.25;//Length of indicator diagram in cm\n",
"A=4.35;//Area of indicator diagram in cm^2\n",
"Sn=11;//Spring number in kgf/cm^2/cm\n",
"d=10;//Diameter of the bore in cm\n",
"L=0.13;//Length of the stroke in m\n",
"F=0.23;//Specific fuel consumption in kg/BHP hr\n",
"CV=10000;//Heating value of fuel in kcal/kg\n",
"\n",
"//Calculations\n",
"BHP=(3.14*(D+t)*N*(W-S))/4500;//Brake horse power in kW\n",
"MEP=(A*Sn)/l;//Mean effective pressure in kgf/cm^2\n",
"Ar=(3.14*d^2)/4;//Area of the cylinder in cm^2\n",
"np=N/2;//Number of explosions per minute\n",
"IHP=(MEP*L*Ar*np)/4500;//Indicated horse power in kW\n",
"nm=(BHP/IHP)*100;//Mechanical efficiency in percentage\n",
"Wf=F*BHP;//Fuel consumption per hr in kg/hr\n",
"nt=((IHP*4500*60)/(Wf*CV*427))*100;//Indicated thermal efficiency in percentage\n",
"nb=((BHP*4500*60)/(Wf*CV*427))*100;//Brake thermal efficiency in kW\n",
"\n",
"//Output\n",
"printf('(a)The brake horse power is %3.2f kW\n (b)Indicated horse power is %3.3f kW\n (c)Mechanical efficiency is %3.1f percent\n (d)Indicated thermal efficiency is %3.0f percent\n (e)Brake thermal efficiency is %3.1f percent',BHP,IHP,nm,nt,nb)"
   ]
   }
,
{
		   "cell_type": "markdown",
		   "metadata": {},
		   "source": [
			"## Example 7.21: Indicated_thermal_efficiency.sce"
		   ]
		  },
  {
"cell_type": "code",
	   "execution_count": null,
	   "metadata": {
	    "collapsed": true
	   },
	   "outputs": [],
"source": [
"clc\n",
"clear\n",
"//Input data\n",
"N=1200;//Operating speed of a four cylinder engine in rpm\n",
"BHP=25.3;//The brake horse power when all 4 cylinders are operating in kW\n",
"T=10.5;//The average torque when one cylinder was cut out in mkgf\n",
"CV=10000;//Calorific value of the fuel used in kcal/kg\n",
"f=0.25;//The amount of petrol used in engine per BHP hour\n",
"J=427;//\n",
"\n",
"//Calculations\n",
"BHP1=(2*3.14*N*T)/4500;//BHP for 3 cylinders when 1 cylinder is cut out in kW\n",
"IHP=BHP-BHP1;//IHP of one cylinder in kW\n",
"IHPt=IHP*4;//Total IHP of the engine with 4 cylinders\n",
"Wf=(f*BHP)/60;//Fuel used per minute in kg\n",
"ni=((IHPt*4500)/(Wf*CV*J))*100;//Indicated thermal efficiency in percent\n",
"nm=(BHP/IHPt)*100;//Mechanical efficiency in percent\n",
"nb=(IHPt*nm)/100;//Brake thermal efficiency in percent\n",
"\n",
"//Output\n",
"printf('The indicated thermal efficiency is %3.1f percent',ni)"
   ]
   }
,
{
		   "cell_type": "markdown",
		   "metadata": {},
		   "source": [
			"## Example 7.22: IHP.sce"
		   ]
		  },
  {
"cell_type": "code",
	   "execution_count": null,
	   "metadata": {
	    "collapsed": true
	   },
	   "outputs": [],
"source": [
"clc\n",
"clear\n",
"//Input data\n",
"B=32;//Brake horse power in kW with all cylinders working\n",
"B1=21.6;//BHP with number 1 cylinder cut out in kW\n",
"B2=22.3;//BHP with number 2 cylinder cut out in kW\n",
"B3=22.5;//BHP with number 3 cylinder cut out in kW\n",
"B4=23;//BHP with number 4 cylinder cut out in kW\n",
"\n",
"//Calculations\n",
"I1=B-B1;//Indicated horse power of number 1 cylinder in kW\n",
"I2=B-B2;//IHP of number 2 cylinder in kW\n",
"I3=B-B3;//IHP of number 3 cylinder in kW\n",
"I4=B-B4;//IHP of number 4 cylinder in kW\n",
"I=I1+I2+I3+I4;//Total IHP of the engine in kW\n",
"nm=(B/I)*100;//Mechanical efficiency in percent\n",
"\n",
"//Output\n",
"printf('(a)The IHP of the engine is %3.1f kW\n (b)Mechanical efficiency is %3.1f percent',I,nm)"
   ]
   }
,
{
		   "cell_type": "markdown",
		   "metadata": {},
		   "source": [
			"## Example 7.23: Compression_ratio.sce"
		   ]
		  },
  {
"cell_type": "code",
	   "execution_count": null,
	   "metadata": {
	    "collapsed": true
	   },
	   "outputs": [],
"source": [
"clc\n",
"clear\n",
"//Input data\n",
"r=15;//The air fuel ratio by weight\n",
"CV=45000;//Calorific value of fuel in kJ/kg\n",
"nm=85;//Mechanical efficiency of 4 stroke 4 cylinder engine in percent\n",
"na=53;//Air standard efficiency of the engine in percent\n",
"nr=65;//Relative efficiency of the engine in percent\n",
"nv=80;//Volumetric efficiency of the engine in percent\n",
"r1=1.3;//Stroke to bore ratio\n",
"p1=1;//Suction pressure in bar\n",
"T=303;//Suction temperature in K\n",
"S=3000;//The operating speed of the engine in rpm\n",
"P=75;//Power at brakes in kW\n",
"r2=1.4;//Ratio of specific heats for air\n",
"R1=0.287;//Characteristic gas constant for air fuel mixture in kJ/kg K\n",
"\n",
"//Calculations\n",
"R=(1/(1-(na/100)))^(1/(r2-1));//Compression ratio of the engine\n",
"nti=((na/100)*(nr/100))*100;//The indicated thermal efficiency in percent\n",
"Pi=P/(nm/100);//Indicated power in kW\n",
"F=Pi/((nti*CV)/100);//Fuel per second injected in kg/sec\n",
"B=F/P;//Brake specific fuel consumption in kg/kWsec\n",
"A=1+r;//Mass of fuel mixture entering the engine foe every one kg of fuel in kg\n",
"m=A*F;//Mass of air fuel mixture per second in kg\n",
"V=(m*R1*T)/(p1*10^5/1000);//Volume of air fuel mixture supplied to the engine per sec\n",
"Vs=V/(nv/100);//Swept volume per second in m^3/sec\n",
"d=((Vs*2*60*4)/(S*3.14*r1*4))^(1/3)*1000;//Diameter of the bore in mm\n",
"L=r1*d;//Stroke length in mm\n",
"\n",
"//Output\n",
"printf('(a)Compression ratio is %3.1f \n (b)Indicated thermal efficiency is %3.1f percent\n (c)Brake specific fuel consumption is %3.7f kg/kW sec\n (d)Bore diameter of the engine is %3.1f mm\n (e)Stroke length of the engine is %3.1f mm',R,nti,B,d,L)"
   ]
   }
,
{
		   "cell_type": "markdown",
		   "metadata": {},
		   "source": [
			"## Example 7.24: Heat_balance.sce"
		   ]
		  },
  {
"cell_type": "code",
	   "execution_count": null,
	   "metadata": {
	    "collapsed": true
	   },
	   "outputs": [],
"source": [
"clc\n",
"clear\n",
"//Input data\n",
"d=0.3;//Diameter of the bore in m\n",
"L=0.45;//Stroke length in m\n",
"N=220;//Operating speed of the engine in rpm\n",
"T=3600;//Duration of trial in sec\n",
"F=7;//Fuel consumption in kg per minute\n",
"CV=45000;//Calorific value of fuel in kJ/kg\n",
"A=320;//Area of indicator diagram in mm^2\n",
"l=60;//Length of indicator diagram in mm\n",
"S=1.1;//Spring index in bar/mm\n",
"W=130;//Net load on brakes in kg\n",
"D=1.65;//Diameter of brake drum in m\n",
"W1=500;//Total weight of jacket cooling water in kg\n",
"t=40;//Temperature rise of jacket cooling water in degrees celsius\n",
"t1=300;//Temperature of exhaust gases in degrees celsius\n",
"ma=300;//Air consumption in kg\n",
"sg=1.004;//Specific heat of exhaust gas in kJ/kgK\n",
"sw=4.185;//Specific heat of water in kJ/kgK\n",
"t2=25;//Room temperature in degrees celsius\n",
"g=9.81;//gravity\n",
"\n",
"//Calculations\n",
"P=(W*g*3.14*D*N)/(1000*60);//Power available at brakes in kW\n",
"pm=(A*S)/l;//Mean effective pressure in bar\n",
"I=(pm*10^5*L*((3.14*d^2)/4)*N)/(1000*2*60);//Indicated power developed in kW\n",
"nm=(P/I)*100;//Mechanical efficiency in percent\n",
"nt=(P/((F/T)*CV))*100;//Brake thermal efficiency in percent\n",
"ni=(I/((F/T)*CV))*100;//Indicated thermal efficiency in percent\n",
"Hs=F*CV;//Heat supplied on one hour basis\n",
"Hp=P*T;//Heat equivalent of brake power in kJ\n",
"Hf=I-P;//Heat lost in friction in kJ\n",
"Hc=W1*t*sw;//Heat carried away by cooling water in kJ\n",
"He=(ma+F)*(t1-t2)*sg;//Heat carried away by exhaust gas in kJ\n",
"Hu=Hs-(He+Hf+Hc+He);//Heat unaccounted in kJ\n",
"nb=(He/Hs)*100;//Heat equivalent of power at brakes in percent\n",
"nf=(Hf/Hs)*100;//Heat lost in friction in percent\n",
"nw=(Hc/Hs)*100;//Heat removed by jacket water in percent\n",
"ne=(He/Hs)*100;//Heat carried away by exhaust gases in percent\n",
"nu=(Hu/Hs)*100;//Heat unaccounted in percent\n",
"\n",
"//Output\n",
"printf('(a)Power available at brakes is %3.2f kW\n (b)Indicated power developed is %3.2f kW\n (c)Mechanical efficiency is %3.2f percent\n (d)Brake Thermal efficiency is %3.2f percent\n (e)Indicated thermal efficiency is %3.2f percent',P,I,nm,nt,ni)"
   ]
   }
,
{
		   "cell_type": "markdown",
		   "metadata": {},
		   "source": [
			"## Example 7.25: BHP.sce"
		   ]
		  },
  {
"cell_type": "code",
	   "execution_count": null,
	   "metadata": {
	    "collapsed": true
	   },
	   "outputs": [],
"source": [
"clc\n",
"clear\n",
"//Input data\n",
"d=25;//The bore diameter of a single cylinder 4 stroke engine in cm\n",
"l=0.38;//Stroke length in m\n",
"t=3600;//Duration of test in sec\n",
"r=19710;//Total number of revolutions\n",
"F=6.25;//Fuel oil used in kg\n",
"A=5.7;//Area of indicator diagram in cm^2\n",
"L=7.6;//Length of indicator diagram in cm\n",
"S=8.35;//Spring number in kgf/cm^3\n",
"P=63.5;//Net load on brake drum in kg\n",
"R=1.2;//Radius of brake drum in m\n",
"Ww=5.7;//Rate of coolant flow in kg/min\n",
"deltaT=44;//Temperature rise of coolant in degrees celsius\n",
"T1=15.5;//Atmospheric temperature in degrees celsius\n",
"As=30;//Air supplied per kg of fuel\n",
"CV=10600;//Calorific value of fuel in kcal/kg\n",
"Te=390;//Exhaust gas temperature in degrees celsius\n",
"sm=0.25;//Mean specific heat of exhaust gas\n",
"\n",
"//Calculations\n",
"Hs=(F*CV)/60;//Heat supplied by fuel per minute in kcal\n",
"pm=(A*S)/L;//Mean effective pressure in kgf/cm^2\n",
"I=(pm*l*(3.14*d^2)*r)/(4*60*2*4500);//Indicated horse power in kW\n",
"B=(P*R*2*3.14*r)/(4500*60);//Brake horse power in kW\n",
"Hei=(I*4500)/427;//Heat equivalent of IHP/min in kcal\n",
"Heb=(B*4500)/427;//Heat equivalent of BHP/min in kcal\n",
"Hf=Hei-Heb;//Heat in friction per minute in kcal\n",
"Hc=Ww*deltaT;//Heat carried away by coolant in kcal\n",
"We=(F+(As*F))/60;//Weight of exhaust gases per minute\n",
"He=We*(Te-T1)*sm;//Heat carried away by exhaust gases in kcal\n",
"\n",
"//Output\n",
"printf('(a)Indicated horse power is %3.2f kcal\n (b)Brake horse power developed is %3.2f kcal\n (c)Heat equivalent of friction is %3.1f kcal',I,B,Hf)"
   ]
   }
,
{
		   "cell_type": "markdown",
		   "metadata": {},
		   "source": [
			"## Example 7.26: Percentage_of_heat_carried_away_by_exhaust_gas.sce"
		   ]
		  },
  {
"cell_type": "code",
	   "execution_count": null,
	   "metadata": {
	    "collapsed": true
	   },
	   "outputs": [],
"source": [
"clc\n",
"clear\n",
"//Input\n",
"F=10;//Quantity of fuel supplied during the trial of a diesel engine in kg/hr\n",
"CV=42500;//Calorific value of fuel in kJ/kg\n",
"r=20;//Air fuel ratio\n",
"T=20;//Ambient temperature in degrees celsius\n",
"mw=585;//Water circulated through the gas calorimeter in litres/hr\n",
"T1=35;//Temperature rise of water through the calorimeter in degrees celsius\n",
"T2=95;//Temperature of gases at exit from the calorimeter in degrees celsius\n",
"se=1.05;//Specific heat of exhaust gases in kJ/kgK\n",
"sw=4.186;//Specific heat of water in kJ/kgK\n",
"\n",
"//Calculations\n",
"M=(F/60)*(r+1);//Mass of exhaust gases formed per minute\n",
"H=((mw/60)*sw*T1)+(M*se*(T2-T));//Heat carried away by the exhaust gases per minute in kJ/min\n",
"Hs=(F/60)*CV;//Heat supplied by fuel per minute in kJ/min\n",
"nh=(H/Hs)*100;//Percentage of heat carried away by the exhaust gas\n",
"\n",
"//Output\n",
"printf('Percentage of heat carried away by exhaust gas is %3.2f percent',nh)"
   ]
   }
,
{
		   "cell_type": "markdown",
		   "metadata": {},
		   "source": [
			"## Example 7.27: Percentage_of_heat_carried_away_by_exhaust_gases.sce"
		   ]
		  },
  {
"cell_type": "code",
	   "execution_count": null,
	   "metadata": {
	    "collapsed": true
	   },
	   "outputs": [],
"source": [
"clc\n",
"clear\n",
"//Input data\n",
"F=11;//Fuel used per hour observed during the trial of a single cylinder four stroke diesel engine in kg\n",
"mc=85;//Carbon present in the fuel in percent\n",
"mh=14;//Hydrogen present in the fuel in percent\n",
"mn=1;//Non combustibles present in the fuel in percent\n",
"CV=50000;//Calorific value of fuel in kJ/kg\n",
"Vc=8.5;//Percentage of carbon dioxide present in exhaust gas by Volumetric analysis\n",
"Vo=10;//Oxygen present in exhaust gases in percent\n",
"Vn=81.5;//Nitrogen present in exhaust gases in percent\n",
"Te=400;//Temperature of exhaust gases in degrees celsius\n",
"se=1.05;//Specific heat of exhaust gas in kJ/kg\n",
"Pp=0.030;//Partial pressure of steam in the exhaust in bar\n",
"Ta=20;//Ambient temperature in degrees celsius\n",
"hs=2545.6;//Enthalpy of saturated steam in kJ/kg\n",
"Tsa=24.1;//Saturation temperature from graph in degrees celcius\n",
"Cp=2.1;//Specific heat in kJ/kg K\n",
"hst=3335;//Enthalpy of super heated steam in kJ/kg\n",
"\n",
"//Calculations\n",
"Ma=(Vn*mc)/(33*Vc);//Mass of air supplied per kg of fuel in kg\n",
"Me=Ma+1;//Mass of exhaust gases formed per kg of fuel in kg\n",
"me=(Me*F)/60;//Mass of exhaust gases formed per minute in kg\n",
"ms=F*(mh/100);//Mass of steam formed per kg of fuel in kg\n",
"ms1=(ms*F)/60;//Mass of steam formed per minute in kg\n",
"mde=me-ms1;//Mass of dry exhaust gases formed per minute in kg\n",
"H=mde*se*(Te-Ta);//Heat carried away by the dry exhaust gases per minute in kJ/min\n",
"Es=hs+(Cp*(Te-Tsa));//Enthalpy of superheated steam in kJ/kg\n",
"He=ms1*hst;//Heat carried away by steam in the exhaust gases in kJ/min\n",
"Hl=H+He;//Total heat lost through dry exhaust gases and steam in kJ/min\n",
"Hf=(F/60)*CV;//Heat supplied by fuel per minute in kJ/min\n",
"nh=(Hl/Hf)*100;//Percentage of heat carried away by exhaust gases\n",
"\n",
"//Output\n",
"printf('Percentage of heat carried away by exhaust gases is %3.1f percent',nh)"
   ]
   }
,
{
		   "cell_type": "markdown",
		   "metadata": {},
		   "source": [
			"## Example 7.28: Increase_in_brake_power_of_engine_due_to_supercharging.sce"
		   ]
		  },
  {
"cell_type": "code",
	   "execution_count": null,
	   "metadata": {
	    "collapsed": true
	   },
	   "outputs": [],
"source": [
"clc\n",
"clear\n",
"//Input data\n",
"C=0.0033;//The capacity of a four stroke engine of compression ignition type\n",
"I=13;//Average indicated power developed in kW/m^3\n",
"N=3500;//Operating speed of the engine\n",
"nv=80;//Volumetric efficiency in percentage\n",
"p1=1.013;//Initial pressure in bar\n",
"T1=298;//Initial temperature in K\n",
"r=1.75;//Pressure ratio of the engine\n",
"ni=75;//The isentropic efficiency in percentage\n",
"nm=80;//mechanical efficiency in percentage\n",
"r1=1.4;//Polytropic index\n",
"\n",
"//Calculations\n",
"Vs=(N/2)*C;//Swept volume in m^3/min\n",
"Vi=Vs*(nv/100);//Unsupercharged engine inducted volume in m^3/min\n",
"Pb=p1*r;//Blower delivery pressure in bar\n",
"T2s=((r)^((r1-1)/r1))*T1;//Final temperature in K\n",
"T2=((T2s-T1)/(ni/100))+T1;//Blower delivery temperature in K\n",
"Ve=((Pb*Vs)*T1)/(T2*p1);//Equivalent volume at 1.013 bar and 298K in m^3/min\n",
"Vin=Ve-Vi;//Increase in inducted volume of air in m^3/min\n",
"Pin=Vin*I;//Increase in indicated power due to extra air inducted in kW\n",
"Pinp=((Pb-p1)*Vs*100)/60;//Increase in indicated power due to increase in induction pressure in kW\n",
"Pt=Pin+Pinp;//Total increase in indicated power in kW\n",
"nb=Pt*(nm/100);//Total increase in brake power efficiency in kW\n",
"ma=(Pb*Vs*100)/(60*0.287*T2);//Mass of air delivered by the blower in kg/s\n",
"Wb=ma*1.005*(T2-T1);//Work input to air by blower in kW\n",
"Pb1=Wb/(nv/100);//Power required to drive the blower in kW\n",
"Pb2=nb-Pb1;//Net increase in brake power in kW\n",
"\n",
"//Output\n",
"printf('The net increase in brake power is %3.2f kW',Pb2)"
   ]
   }
,
{
		   "cell_type": "markdown",
		   "metadata": {},
		   "source": [
			"## Example 7.2: Power_available_at_brakes.sce"
		   ]
		  },
  {
"cell_type": "code",
	   "execution_count": null,
	   "metadata": {
	    "collapsed": true
	   },
	   "outputs": [],
"source": [
"clc\n",
"clear\n",
"//Input data\n",
"N=700;//Engine speed in rpm\n",
"D=0.6;//Diameter of brake drum in m\n",
"d=0.05;//Diameter of rope in m\n",
"W=35;//Dead load on the brake drum in kg\n",
"S=4.5;//Spring balance reading in kg\n",
"g=9.81;//Gravitational constant in N/m^2\n",
"pi=3.14;//Mathematical constant\n",
"\n",
"//Calculations\n",
"P=(((W-S)*g*pi*(D+d))/1000)*(N/60);//Power in kW\n",
"\n",
"//Output\n",
"printf(' The power available at the brakes is %3.3f kW',P)"
   ]
   }
,
{
		   "cell_type": "markdown",
		   "metadata": {},
		   "source": [
			"## Example 7.3: Brake_thermal_efficiency.sce"
		   ]
		  },
  {
"cell_type": "code",
	   "execution_count": null,
	   "metadata": {
	    "collapsed": true
	   },
	   "outputs": [],
"source": [
"clc\n",
"clear\n",
"//Input data\n",
"W=950;//Load on hydraulic dynamometer in N\n",
"C=7500;//Dynamometer constant\n",
"f=10.5;//Fuel used per hour in kg\n",
"h=50000;//Calorific value of fuel in kJ/kg\n",
"N=400;//Engine speed in rpm\n",
"\n",
"//Calculations\n",
"P=(W*N)/C;//Power available at the brakes in kW\n",
"H=P*60;//Heat equivalent of power at brakes in kJ/min\n",
"Hf=(f*h)/60;//Heat supplied by fuel per minute in kJ/min\n",
"n=(H/Hf)*100;//Brake thermal efficiency in percentage\n",
"\n",
"//Output\n",
"printf(' Brake thermal efficiency of the engine is %3.2f percent',n)"
   ]
   }
,
{
		   "cell_type": "markdown",
		   "metadata": {},
		   "source": [
			"## Example 7.4: Specific_fuel_consumption.sce"
		   ]
		  },
  {
"cell_type": "code",
	   "execution_count": null,
	   "metadata": {
	    "collapsed": true
	   },
	   "outputs": [],
"source": [
"clc\n",
"clear\n",
"//Input data\n",
"n1=50.5;//Air standard efficiency in percentage\n",
"n2=50;//Brake thermal efficiency in percentage\n",
"N=3000;//Engine speed in rpm\n",
"H=10500;//Heating value of fuel in kcal/kg\n",
"T=7.2;//Torque developed in kgf*m\n",
"B=6.3;//Bore diameter in cm\n",
"S=0.095;//stroke in m\n",
"\n",
"//Calculations\n",
"nbt=(n1/100)*(n2/100);//Brake thermal efficiency in percentage\n",
"B1=(2*(22/7)*N*T)/4500;//Brake horse power in kW\n",
"B2=B1/4;//Brake horse power per cylinder in kW\n",
"Bsf=(4500*60)/(H*427*nbt);//Brake specific fuel consumption in kg/BHP hr\n",
"bmep=(B2*4500)/(S*(3.14*B^2/4)*(N/2));//Brake mean effective pressure in kgf/cm^2\n",
"\n",
"//Output\n",
"printf('(a)Specific fuel consumption is %3.3f kg/BHP hr\n (b)Brake mean effective pressure is %3.3f kgf/cm^2',Bsf,bmep)"
   ]
   }
,
{
		   "cell_type": "markdown",
		   "metadata": {},
		   "source": [
			"## Example 7.5: Mechanical_efficiency.sce"
		   ]
		  },
  {
"cell_type": "code",
	   "execution_count": null,
	   "metadata": {
	    "collapsed": true
	   },
	   "outputs": [],
"source": [
"clc\n",
"clear\n",
"//Input data\n",
"W=30;//The net dynamometer load in kg\n",
"R=0.5;//Radius in m\n",
"N=2400;//Speed in rpm\n",
"FHP=6.5;//Engine power in hp\n",
"\n",
"//Calculations\n",
"BHP=(2*3.14*R*N*W)/4500;//Brake horse power in kW\n",
"IHP=BHP+FHP;//Indicated horse power in kW\n",
"nm=(BHP/IHP)*100;//Mechanical efficiency in percentage\n",
"\n",
"//Output\n",
"printf('Mechanical efficiency of the engine is %3.2f percent',nm)"
   ]
   }
,
{
		   "cell_type": "markdown",
		   "metadata": {},
		   "source": [
			"## Example 7.6: IHP.sce"
		   ]
		  },
  {
"cell_type": "code",
	   "execution_count": null,
	   "metadata": {
	    "collapsed": true
	   },
	   "outputs": [],
"source": [
"clc\n",
"clear\n",
"//Input data\n",
"d=25;//Diameter of cylinder in cm\n",
"l=0.4;//Stroke of piston in m\n",
"N=200;//Speed in rpm\n",
"m=10;//Misfires per minute\n",
"M=6.2;//Mean effective pressure in kgf/cm^2\n",
"nm=0.8;//Mechanical efficiency in percent\n",
"\n",
"//Calculations\n",
"np=(N/2)-m;//Number of power strokes per minute\n",
"A=(3.14*d^2)/4;//Area of the cylinder\n",
"I=(M*l*A*np)/4500;//Indicated horse power in kW\n",
"B=I*nm;//Brake horse power in kW\n",
"F=I-B;//Friction horse power in kW\n",
"\n",
"//Output\n",
"printf('(a)The indicated horse power is %3.2f kW \n (b)The brake horse power is %3.2f kW \n (c)Friction horse power is %3.2f kW',I,B,F)"
   ]
   }
,
{
		   "cell_type": "markdown",
		   "metadata": {},
		   "source": [
			"## Example 7.7: Average_piston_speed.sce"
		   ]
		  },
  {
"cell_type": "code",
	   "execution_count": null,
	   "metadata": {
	    "collapsed": true
	   },
	   "outputs": [],
"source": [
"clc\n",
"clear\n",
"//Input data\n",
"I=5;//Indicated power developed by single cylinder of 2 stroke petrol engine\n",
"M=6.5;//Mean effective pressure in bar\n",
"d=0.1;//Diameter of piston in m\n",
"\n",
"//Calculations\n",
"A=(3.14*d^2)/4;//Area of the cylinder\n",
"LN=(I*1000*60)/(M*10^5*A);//Product of length of stroke and engine speed\n",
"S=2*LN;//Average piston speed in m/s\n",
"\n",
"//Output\n",
"printf('The average piston speed is %3.2f m/s',S)"
   ]
   }
,
{
		   "cell_type": "markdown",
		   "metadata": {},
		   "source": [
			"## Example 7.8: Dimensions_of_cylinder.sce"
		   ]
		  },
  {
"cell_type": "code",
	   "execution_count": null,
	   "metadata": {
	    "collapsed": true
	   },
	   "outputs": [],
"source": [
"clc\n",
"clear\n",
"//Input data\n",
"P=60;//Power developed by oil engine in kW\n",
"M=6.5;//Mean effective pressure in kgf/cm^2\n",
"N=85;//Number of explosions per minute\n",
"r=1.75;//Ratio of stroke to bore diameter\n",
"nm=0.8;//Mechanical efficiency \n",
"\n",
"//Calculations\n",
"I=P/nm;//Indicated horse power\n",
"d=((I*100*4*4500)/(M*r*3.14*N))^(1/3);//Bore diameter in cm\n",
"l=r*d;//Stroke length in cm\n",
"\n",
"//Output\n",
"printf('(a)Diameter of the bore is %3.2f cm \n (b)Stroke length of the piston is %3.2f cm',d,l)"
   ]
   }
,
{
		   "cell_type": "markdown",
		   "metadata": {},
		   "source": [
			"## Example 7.9: Bore_and_stroke_of_piston.sce"
		   ]
		  },
  {
"cell_type": "code",
	   "execution_count": null,
	   "metadata": {
	    "collapsed": true
	   },
	   "outputs": [],
"source": [
"clc\n",
"clear\n",
"//Input data \n",
"I=45;//Power developed by two cylinder internal combustion engine operating on two stroke principle\n",
"N=1100;//Speed in rpm\n",
"M=6;//Mean effective pressure in kgf/cm^2\n",
"r=1.3;//Ratio of stroke to the bore\n",
"nc=2;//Number of cylinders\n",
"\n",
"//Calculations\n",
"d=((I*4500*4)/(M*(r/100)*3.14*N*nc))^(1/3);//Diameter of the bore in cm\n",
"l=1.3*d;//Stroke length in cm\n",
"\n",
"//Output\n",
"printf('(a)The bore diameter of the cylinder is %3.2f cm\n (b)Stroke length of the piston is %3.2f cm',d,l)"
   ]
   }
],
"metadata": {
		  "kernelspec": {
		   "display_name": "Scilab",
		   "language": "scilab",
		   "name": "scilab"
		  },
		  "language_info": {
		   "file_extension": ".sce",
		   "help_links": [
			{
			 "text": "MetaKernel Magics",
			 "url": "https://github.com/calysto/metakernel/blob/master/metakernel/magics/README.md"
			}
		   ],
		   "mimetype": "text/x-octave",
		   "name": "scilab",
		   "version": "0.7.1"
		  }
		 },
		 "nbformat": 4,
		 "nbformat_minor": 0
}
