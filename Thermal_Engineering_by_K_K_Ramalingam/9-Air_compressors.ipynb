{
"cells": [
 {
		   "cell_type": "markdown",
	   "metadata": {},
	   "source": [
       "# Chapter 9: Air compressors"
	   ]
	},
{
		   "cell_type": "markdown",
		   "metadata": {},
		   "source": [
			"## Example 9.10: Work_done_by_compressor.sce"
		   ]
		  },
  {
"cell_type": "code",
	   "execution_count": null,
	   "metadata": {
	    "collapsed": true
	   },
	   "outputs": [],
"source": [
"clc\n",
"clear\n",
"//Input data\n",
"D=0.15;//Diameter of the bore of a single stage single acting reciprocating air compressor in m\n",
"L=0.225;//Stroke length in m\n",
"P1=1;//Pressure of air received in bar\n",
"T1=308;//Temperature of initial air in K\n",
"P2=6.5;//Delivery pressure in bar\n",
"n=1.3;//Polytropic index\n",
"\n",
"//Calculations\n",
"Vs=(3.14*D^2*L)/4;//Stroke volume of the compressor in m^3\n",
"Vc=0.05*Vs;//Clearance volume in m^3\n",
"V1=Vs+Vc;//Initial volume of air in m^3\n",
"V4=Vc*(P2/P1)^(1/n);//The air in the clearance volume expands during suction stroke in m^3\n",
"V=V1-V4;//Effective swept volume in m^3\n",
"W=((n/(n-1))*P1*10^5*(V1-V4)*(((P2/P1)^((n-1)/n))-1));//Work done by the compressor per cycle in Nm\n",
"\n",
"//Output\n",
"printf('Work done by the compressor per cycle is %3.1f Nm',W)"
   ]
   }
,
{
		   "cell_type": "markdown",
		   "metadata": {},
		   "source": [
			"## Example 9.11: Volume_of_free_air.sce"
		   ]
		  },
  {
"cell_type": "code",
	   "execution_count": null,
	   "metadata": {
	    "collapsed": true
	   },
	   "outputs": [],
"source": [
"clc\n",
"clear\n",
"//Input data\n",
"D=0.1;//Diameter of the bore of a single acting compressor in m\n",
"L=0.1;//Length of the stroke in m\n",
"N=400;//Operating speed of the compressor in in rpm\n",
"Vc=0.00008;//Clearance volume in m^3\n",
"n=1.2;//Polytropic index\n",
"T1=303;//Initial temperature in K\n",
"Tf=293;//Final temperature in K\n",
"P1=0.95;//Initial pressure in bar\n",
"P2=8;//Final pressure in bar\n",
"Pf=1.013;//Free air pressure in bar\n",
"\n",
"//Calculations\n",
"Vs=(3.14*D^2*L)/4;//Stroke volume of the compressors in m^3\n",
"V1=Vc+Vs;//Initial volume of air is equal to cylinder volume in m^3\n",
"V4=Vc*(P2/P1)^(1/n);//Air in the clearance volume expands during suction stroke to V4\n",
"Ve=V1-V4;//Effective swept volume in m^3\n",
"Vf=(P1*(V1-V4)*Tf)/(T1*Pf);//Free air delivered per cycle can be obtained in m^3\n",
"A=Vf*N;//Free air delivered per minute in m^3/min\n",
"\n",
"//Output\n",
"printf('(a)Free air delivered per cycle is %3.6f m^3\n (b)Free air delivered per minute is %3.4f m^3/min',Vf,A)"
   ]
   }
,
{
		   "cell_type": "markdown",
		   "metadata": {},
		   "source": [
			"## Example 9.12: Power_of_the_compressor.sce"
		   ]
		  },
  {
"cell_type": "code",
	   "execution_count": null,
	   "metadata": {
	    "collapsed": true
	   },
	   "outputs": [],
"source": [
"clc\n",
"clear\n",
"//Input data\n",
"P1=1;//Pressure of air drawn by a two stage single acting reciprocating air compressor in bar\n",
"T1=293;//Initial temperature in K\n",
"P3=60;//Final pressure after the compression in bar\n",
"P2=10;//Pressure after compression in the LP cylinder in bar\n",
"T2=303;//Temperature after cooling in K\n",
"D=0.16;//Diameter of a cylinder in m\n",
"L=0.2;//Stroke length of the cylinder in m\n",
"n=1.3;//Polytropic index\n",
"N=300;//Operating speed of the compressor in rpm\n",
"R=287;//Gas constant in J/kg K\n",
"\n",
"//Calculations\n",
"V1=(3.14*D^2*L)/4;//Volume of the LP cylinder in m^3\n",
"V2=(P1*V1*T2)/(T1*P2);//Volume of the HP cylinder in m^3\n",
"W=(n/(n-1))*(P1*10^5*V1*(((P2/P1)^((n-1)/n))-1)+(P2*10^5*V2*(((P3/P2)^((n-1)/n))-1)));//Work done by the compressor per working cycle in N m\n",
"P=(W*N)/(60*1000);//Power of the compressor in kW\n",
"\n",
"//Output\n",
"printf('Power of the compressor when it runs at 300 rpm is %3.3f kW',P)"
   ]
   }
,
{
		   "cell_type": "markdown",
		   "metadata": {},
		   "source": [
			"## Example 9.13: Percentage_saving_in_work.sce"
		   ]
		  },
  {
"cell_type": "code",
	   "execution_count": null,
	   "metadata": {
	    "collapsed": true
	   },
	   "outputs": [],
"source": [
"clc\n",
"clear\n",
"//Input data\n",
"P1=1;//Initial pressure in bar\n",
"P3=9;//Final pressure in bar\n",
"n=1.3;//Compression index\n",
"\n",
"//Calculations\n",
"W1=(n/(n-1))*(P1*10^5*(((P3/P1)^((n-1)/n))-1));//Work done in compression in a single stage per unit volume per kg of air in N m \n",
"P2=(P1*P3)^(0.5);//Intercooler pressure for perfect intercooling in bar\n",
"W2=2*(n/(n-1))*(P1*10^5*(((P2/P1)^((n-1)/n))-1));//Work done in compression in a two stage compressor per unit volume per kg of air in N m\n",
"Wc=W1-W2;//Saving in work of compression in N m\n",
"nw=((W1-W2)/W1)*100;//Percentage saving in work of compression in percentage\n",
"\n",
"//Output\n",
"printf('Percentage saving in the work of compression of air in two stages instead of single stage is %3.2f percent',nw)"
   ]
   }
,
{
		   "cell_type": "markdown",
		   "metadata": {},
		   "source": [
			"## Example 9.14: Work_required.sce"
		   ]
		  },
  {
"cell_type": "code",
	   "execution_count": null,
	   "metadata": {
	    "collapsed": true
	   },
	   "outputs": [],
"source": [
"clc\n",
"clear\n",
"//Input data\n",
"m=1;//Mass of air to be compressed in kg\n",
"P1=1;//Pressure of air before compression in bar\n",
"T1=303;//Initial temperature in K\n",
"P3=25;//Final pressure of air after compression in bar\n",
"n=1.3;//Polytropic index\n",
"R=287;//Gas constant in J/kg K\n",
"\n",
"//Calculations\n",
"P2=(P1*P3)^(0.5);//Intermediate pressure in the case of perfect intercooling in bar\n",
"W=2*(n/(n-1))*(m*R*T1*(((P2/P1)^((n-1)/n))-1));//Work done in compression in a two stage compressor per unit volume per kg of air in N m\n",
"\n",
"//Output data\n",
"printf('Minimum work required to compress 1kg of air for given conditions is %3.0f N m',W)"
   ]
   }
,
{
		   "cell_type": "markdown",
		   "metadata": {},
		   "source": [
			"## Example 9.15: Power_required_to_drive_compressor.sce"
		   ]
		  },
  {
"cell_type": "code",
	   "execution_count": null,
	   "metadata": {
	    "collapsed": true
	   },
	   "outputs": [],
"source": [
"clc\n",
"clear\n",
"//Input data\n",
"V1=3;//Volume of air sucked in by a two stage compressor in m^3\n",
"P1=1.04;//Initial pressure in bar\n",
"T1=298;//Initial temperature in K\n",
"P2=9;//Delivery pressure in bar\n",
"n=1.25;//Polytropic index\n",
"\n",
"//Calculations\n",
"P2=(P1*P2)^(0.5);//Intermediate pressure for perfect intercooling and for minimum work of compression in bar\n",
"W=2*(n/(n-1))*(P1*10^5*V1*(((P2/P1)^((n-1)/n))-1));//Work done in compression in a two stage compressor per unit volume per kg of air in Nm\n",
"P=W/(60*1000);//Power required to drive the compressor in kW\n",
"\n",
"//Output\n",
"printf('The minimum power required to drive the compressor is %3.3f kW',P)"
   ]
   }
,
{
		   "cell_type": "markdown",
		   "metadata": {},
		   "source": [
			"## Example 9.16: Mass_of_water.sce"
		   ]
		  },
  {
"cell_type": "code",
	   "execution_count": null,
	   "metadata": {
	    "collapsed": true
	   },
	   "outputs": [],
"source": [
"clc\n",
"clear\n",
"//Input data\n",
"P1=1;//Initial pressure of a two stage air compressor in bar\n",
"P3=36;//Final pressure in bar\n",
"T1=298;//Initial temperature in K\n",
"n=1.35;//Polytropic index\n",
"T3=298;//Temperature after intercooling in K\n",
"Tc=20;//Permissible temperature rise of the cooling water in K\n",
"R=287;//Gas constant in J/kg K\n",
"Cp=1;//Specific heat of air in kJ/kg K\n",
"Cw=4.2;//Specific heat of water in kJ/kg K\n",
"ma=1;//Mass of air in the compressor in kg\n",
"\n",
"//Calculations\n",
"P2=(P1*P3)^(0.5);//Intercooler pressure for complete intercooling and for minimum work of compression in bar\n",
"T2=T1*(P2/P1)^((n-1)/n);//Temperature after the compression process in K\n",
"mw=(ma*Cp*(T2-T3))/(Cw*(Tc));//Mass of water to circulate in the intercooler per kg of air in kg\n",
"\n",
"//Output\n",
"printf('Mass of water to circulate in the intercooler for abstracting heat is %3.3f kg',mw)"
   ]
   }
,
{
		   "cell_type": "markdown",
		   "metadata": {},
		   "source": [
			"## Example 9.17: Volume_ratio_of_LP_to_HP_cylinders.sce"
		   ]
		  },
  {
"cell_type": "code",
	   "execution_count": null,
	   "metadata": {
	    "collapsed": true
	   },
	   "outputs": [],
"source": [
"clc\n",
"clear\n",
"//Input data\n",
"V1=0.2;//Volume of air flow per second in a two stage single acting reciprocating compressor in m^3\n",
"P1=0.1;//Intake pressure of air in MPa\n",
"T1=293;//Initial temperature in K\n",
"P3=0.8;//Final pressure after the air is compressed in MPa\n",
"N=600;//Operating speed of the compressor in rpm\n",
"\n",
"//Calculations\n",
"P2=(P1*P3)^(0.5);//Intercooler pressure for perfect intercooling and for minimum work of compression in bar\n",
"Vl=(V1*60)/600;//Volume of the LP cylinder in m^3\n",
"Vh=(P1*Vl)/P2;//Volume of the high pressure cylinder in m^3\n",
"R=Vl/Vh;//Ratio of cylinder volumes\n",
"\n",
"//Output\n",
"printf('The volume ratio of LP to HP cylinders is %3.2f',R)"
   ]
   }
,
{
		   "cell_type": "markdown",
		   "metadata": {},
		   "source": [
			"## Example 9.18: Ratio_of_cylinder_diameters.sce"
		   ]
		  },
  {
"cell_type": "code",
	   "execution_count": null,
	   "metadata": {
	    "collapsed": true
	   },
	   "outputs": [],
"source": [
"clc\n",
"clear\n",
"//Input data\n",
"P1=1;//Initial pressure of air entering a two stage air compressor with complete intercooling in bar\n",
"P3=25;//Delivery pressure of air toe the mains in bar\n",
"T1=303;//Initial temperature in K\n",
"n=1.35;//Compression index\n",
"\n",
"//Calculations\n",
"P2=(P1*P3)^(0.5);//Inter cooler pressure for perfect intercooling in bar\n",
"R=(P2/P1)^(0.5);//Ratio of cylindrical diameters\n",
"\n",
"//Output\n",
"printf('The ratio of cylinder diameters for the efficiency of compression to be maximum is %3.3f',R)"
   ]
   }
,
{
		   "cell_type": "markdown",
		   "metadata": {},
		   "source": [
			"## Example 9.19: Number_of_stages.sce"
		   ]
		  },
  {
"cell_type": "code",
	   "execution_count": null,
	   "metadata": {
	    "collapsed": true
	   },
	   "outputs": [],
"source": [
"clc\n",
"clear\n",
"//Input data\n",
"P1=1;//Initial pressure of a multistage compression in bar\n",
"Pn1=120;//Final pressure in bar\n",
"r=4;//Permissible pressure ratios per stage\n",
"\n",
"//Calculations\n",
"n=log(Pn1/P1)/log(r)\n",
"n1=4;//As n=3.45 say 4 stages\n",
"P5=Pn1;//Since number of stages is 4\n",
"P4=P5/(Pn1/P1)^(1/n1);//Pressure after the stage 3 in bar\n",
"P3=P4/(Pn1/P1)^(1/n1);//Pressure after the stage 2 in bar\n",
"P2=P3/(Pn1/P1)^(1/n1);//Pressure after the stage 1 in bar\n",
"\n",
"//Output\n",
"printf('(a)Number of stages are %3.0f\n (b)Intermediate pressures are, P2 = %3.2f bar, P3 = %3.2f bar, P4 = %3.2f bar',n1,P2,P3,P4)"
   ]
   }
,
{
		   "cell_type": "markdown",
		   "metadata": {},
		   "source": [
			"## Example 9.1: Isothermal_compressio.sce"
		   ]
		  },
  {
"cell_type": "code",
	   "execution_count": null,
	   "metadata": {
	    "collapsed": true
	   },
	   "outputs": [],
"source": [
"clc\n",
"clear\n",
"//Input data\n",
"m=1;//Mass of air that has to be compressed in kg\n",
"P1=1;//Initial pressure of a single stage reciprocating air compressor in bar\n",
"P2=6;//Final pressure in bar\n",
"T1=303;//Initial temperature of air in K\n",
"n=1.2;//Polytropic index of air\n",
"R=287;//Gas constant for air in J/kg K\n",
"r=1.4;//Isentropic index\n",
"\n",
"//Calculations\n",
"W1=(m*R*T1*log(P2/P1))/1000;//Work required for compression in kJ/kg in Isothermal compression process\n",
"W2=((n/(n-1))*m*R*T1*((P2/P1)^((n-1)/n)-1))/1000;//Work required for compression in a polytropic compression process in kJ/kg\n",
"W3=((r/(r-1))*m*R*T1*((P2/P1)^((r-1)/r)-1))/1000;//Work required for compression in a Isentropic compression process in kJ/kg\n",
"\n",
"//Output\n",
"printf('(a)Work required in a isothermal compression is %3.3f kJ/kg \n(b)Work required in a polytropic compression is %3.3f kJ/kg \n(c)Work required in a isentropic compression is %3.3f kJ/kg',W1,W2,W3)"
   ]
   }
,
{
		   "cell_type": "markdown",
		   "metadata": {},
		   "source": [
			"## Example 9.20: Intermediate_pressures.sce"
		   ]
		  },
  {
"cell_type": "code",
	   "execution_count": null,
	   "metadata": {
	    "collapsed": true
	   },
	   "outputs": [],
"source": [
"clc\n",
"clear\n",
"//Input data\n",
"P1=1;//Initial pressure of a 3 stage compressor in bar\n",
"P4=40;//Final pressure in bar\n",
"T1=293;//Initial temperature in K\n",
"n=1.3;//Polytropic index\n",
"V1=15;//Air delivered per minute in m^3/min\n",
"\n",
"//Calculations\n",
"W=((3*n)/(n-1))*P1*10^5*V1*(((P4/P1)^((n-1)/(3*n)))-1);//Work done by the compressor in kJ/min\n",
"P=W/(60*1000);//Power required to deliver 15 m^3/min air in kW\n",
"P2=P1*(P4/P1)^(1/3);//Intermediate pressure after stage 1 in bar\n",
"P3=P2*(P4/P1)^(1/3);//Intermediate pressure after stage 2 in bar\n",
"\n",
"//Output\n",
"printf('(a)Power required to deliver 15 m^3/min air at suction condition is %3.1f kW\n (b)Intermediate pressures are P2 = %3.3f bar P3 = %3.3f bar',P,P2,P3)"
   ]
   }
,
{
		   "cell_type": "markdown",
		   "metadata": {},
		   "source": [
			"## Example 9.21: Heat_rejected.sce"
		   ]
		  },
  {
"cell_type": "code",
	   "execution_count": null,
	   "metadata": {
	    "collapsed": true
	   },
	   "outputs": [],
"source": [
"clc\n",
"clear\n",
"//Input data\n",
"P1=1;//Atmospheric pressure in bar\n",
"P4=60;//Delivery pressure in bar\n",
"T1=303;//Initial temperature in K\n",
"n=1.3;//Index of compression\n",
"Cp=1.005;//Specific heat of air at constant pressure in kJ/kg K\n",
"S=3;//Number of stages\n",
"\n",
"//Calculations\n",
"P2=P1*(P4/P1)^(1/3);//Intermediate pressure in bar\n",
"T2=T1*(P2/P1)^((n-1)/n);//Temperature of air entering the intercoolers in K\n",
"H=Cp*(T2-T1);//Heat rejected in each intercooler in kJ\n",
"\n",
"//Output\n",
"printf('Amount of heat rejected in each intercooler is %3.0f kJ',H)"
   ]
   }
,
{
		   "cell_type": "markdown",
		   "metadata": {},
		   "source": [
			"## Example 9.22: Ratio_of_cylinder_volumes.sce"
		   ]
		  },
  {
"cell_type": "code",
	   "execution_count": null,
	   "metadata": {
	    "collapsed": true
	   },
	   "outputs": [],
"source": [
"clc\n",
"clear\n",
"//Input data\n",
"P1=1;//Pressure at the end of suction stroke in LP cylinder of a 3 stage single acting reciprocating compressor in bar\n",
"T1=293;//Temperature at the end of suction stroke in LP cylinder in K\n",
"V=9;//Free air delivered by the compressor in m^3\n",
"P4=65;//Pressure delivered by the compressor in bar\n",
"n=1.25;//Polytropic index\n",
"\n",
"//Calculations\n",
"P2=P1*(P4/P1)^(1/3);//Intermediate pressure after stage 1 in bar\n",
"P3=P2*(P4/P1)^(1/3);//Intermediate pressure after stage 2 in bar\n",
"V3=1;//The volume of cylinder for the third stage in m^3\n",
"V2=V3*(P3/P2);//Volume of the cylinder for second stage in m^3\n",
"V1=(P2/P1)*V2;//Volume of the cylinder for first stage in m^3\n",
"W=(((3*n)/(n-1))*P1*10^5*V*(((P4/P1)^((n-1)/(3*n)))-1))/1000;//Work done by the compressor in kJ/min\n",
"Pi=W/60;//Indicated power in kW\n",
"\n",
"//Output\n",
"printf('(a)L.P. and I.P.compressor delivery pressure is P2 = %3.3f bar P3 = %3.2f bar\n (b)Ratio of cylinder volumes is V1:V2:V3 = %3.2f:%3.3f:%3.0f\n (c)Total indicated power is %3.2f kW',P2,P3,V1,V2,V3,Pi)"
   ]
   }
,
{
		   "cell_type": "markdown",
		   "metadata": {},
		   "source": [
			"## Example 9.2: Size_of_the_cylinder.sce"
		   ]
		  },
  {
"cell_type": "code",
	   "execution_count": null,
	   "metadata": {
	    "collapsed": true
	   },
	   "outputs": [],
"source": [
"clc\n",
"clear\n",
"//Input data\n",
"Pi=60000;//Indicated power of a double acting air compressor in W\n",
"P1=1;//Initial pressure in bar\n",
"T1=293;//Initial temperature in K\n",
"n=1.2;//Polytropic index of the process\n",
"P2=8;//Final pressure in bar\n",
"N=120;//Speed at which the cylinder operates in rpm\n",
"S=150;//Average piston speed in m/min\n",
"\n",
"//Calculations\n",
"L=S/(2*N);//Length of the stroke in m\n",
"X=(3.14*L)/4;//X=V/D^2 i.e.,Volume of air before compression/square of the diameter in m\n",
"Y=((n/(n-1))*P1*10^5*X*(((P2/P1)^((n-1)/n))-1));//Y=W/D^2 Work done by the compressor per cycle in N/m\n",
"Nw=2*N;//Number of working strokes per minute since it is a double acting cylinder\n",
"D=(((Pi*60)/(Y*Nw))^(0.5))*1000;//Diameter of the cylinder in mm\n",
"\n",
"//Output\n",
"printf('(a)Length of the cylinder is %3.3f m \n (b)Diameter of the cylinder is %3.0f mm',L,D)"
   ]
   }
,
{
		   "cell_type": "markdown",
		   "metadata": {},
		   "source": [
			"## Example 9.3: Indicated_power.sce"
		   ]
		  },
  {
"cell_type": "code",
	   "execution_count": null,
	   "metadata": {
	    "collapsed": true
	   },
	   "outputs": [],
"source": [
"clc\n",
"clear\n",
"//Input data\n",
"D=0.15;//Diameter of a cylinder of a single acting reciprocating air compressor in m\n",
"L=0.2;//Length of the stroke in m\n",
"P1=1;//The pressure at which compressor sucks air in bar\n",
"P2=10;//Final pressure in bar\n",
"T1=298;//Initial Temperature in K\n",
"N=150;//Operating speed of the compressor in rpm\n",
"n=1.3;//Polytropic index of the process\n",
"\n",
"//Calculations\n",
"V1=((3.14*D^2*L)/4);//Volume of air before compression in m^3\n",
"W=((n/(n-1))*P1*10^5*V1*((P2/P1)^((n-1)/n)-1));//Work done by the compressor for a polytropic compression of air in Nm\n",
"Pi=((W*N)/60)/1000;//Indicated power of the compressor in kW\n",
"\n",
"//Output\n",
"printf('The indicated power of the compressor is %3.3f kW',Pi)"
   ]
   }
,
{
		   "cell_type": "markdown",
		   "metadata": {},
		   "source": [
			"## Example 9.4: Mass_of_air_delivered_per_minute.sce"
		   ]
		  },
  {
"cell_type": "code",
	   "execution_count": null,
	   "metadata": {
	    "collapsed": true
	   },
	   "outputs": [],
"source": [
"clc\n",
"clear\n",
"//Input data\n",
"D=0.25;//Diameter of the cylinder of a single acting air compressor in m\n",
"L=0.4;//Length of the stroke in m\n",
"P1=1;//Initial Pressure of the compressor in bar\n",
"T1=303;//Initial temperature of the compressor in K\n",
"P2=6;//Pressure during running in bar\n",
"N=250;//Operating speed of the compressor in rpm\n",
"R=287;//Gas constant in J/kg K \n",
"\n",
"//Calculations\n",
"V1=(3.14*D^2*L)/4;//Volume of air before compression in m^3\n",
"m=(P1*10^5*V1)/(R*T1);//Mass of air delivered by the compressor per stroke in kg/stroke\n",
"Nw=N;//Since single acting cylinder number of working stroke is equal to Operating speed of the compressor in rpm\n",
"ma=m*Nw;//Mass of air delivered per minute in kg/min\n",
"\n",
"//Output\n",
"printf('Mass of air delivered per minute is %3.2f kg/min',ma)"
   ]
   }
,
{
		   "cell_type": "markdown",
		   "metadata": {},
		   "source": [
			"## Example 9.5: Temperature.sce"
		   ]
		  },
  {
"cell_type": "code",
	   "execution_count": null,
	   "metadata": {
	    "collapsed": true
	   },
	   "outputs": [],
"source": [
"clc\n",
"clear\n",
"//Input data\n",
"P1=1;//Initial pressure of a single acting compressor in bar\n",
"P2=12;//Final pressure in bar\n",
"N=500;//Operating speed of the compressor in rpm\n",
"T1=308;//Inlet air temperature in K\n",
"n=1.3;//Polytropic index\n",
"\n",
"//Calculations\n",
"T2=T1*(P2/P1)^((n-1)/n);//Temperature of air delivered by the compressor in K\n",
"\n",
"//Output\n",
"printf('Temperature of air delivered by the compressor is %3.2f K',T2)"
   ]
   }
,
{
		   "cell_type": "markdown",
		   "metadata": {},
		   "source": [
			"## Example 9.6: Isentropic_compression.sce"
		   ]
		  },
  {
"cell_type": "code",
	   "execution_count": null,
	   "metadata": {
	    "collapsed": true
	   },
	   "outputs": [],
"source": [
"clc\n",
"clear\n",
"//Input data\n",
"P1=1;//Pressure at which air is sucked by a compressor in bar\n",
"T1=293;//Initial temperature in K\n",
"P2=9;//Delivery pressure after compression in bar\n",
"r=1.41;//Isentropic index\n",
"n=1.3;//Polytropic index\n",
"\n",
"//Calculations\n",
"T21=T1*((P2/P1)^((r-1)/r));//Temperature at the end of isentropic compression process in K\n",
"T22=T1*((P2/P1)^((n-1)/n));//Temperature at the end of isentropic compression process in K\n",
"T23=T1;//Temperature at the end of isotropic compression process in K (Temperature remains constant)\n",
"\n",
"//Output\n",
"printf('(a)Temperature at the end of isentropic compression is %3.2f K\n (b)Temperature at the end of polytropic compression is %3.2f K\n (c)Temperature at the end of isotropic compression is %3.0f K',T21,T22,T23)"
   ]
   }
,
{
		   "cell_type": "markdown",
		   "metadata": {},
		   "source": [
			"## Example 9.7: Work_done_by_air_during_suction.sce"
		   ]
		  },
  {
"cell_type": "code",
	   "execution_count": null,
	   "metadata": {
	    "collapsed": true
	   },
	   "outputs": [],
"source": [
"clc\n",
"clear\n",
"//Input data\n",
"V1=0.07;//Displacement of the piston of a single stage single cylinder air compressor in m^3\n",
"P1=1;//Initial pressure in bar\n",
"T1=308;//Initial temperature of air in K\n",
"P2=8.5;//Pressure after the compression process in bar\n",
"r=1.4;//Isentropic compression \n",
"\n",
"//Calculations\n",
"V2=V1*((P1/P2)^(1/1.4));//Final volume of the cylinder in m^3\n",
"W1=P1*10^5*V1;//Work done by air during suction in Nm (or) J\n",
"W2=(P1*10^5*V1*(1-(P2/P1)^((r-1)/r)))/(r-1);//Work done by air during compression in Nm or J\n",
"Wa1=P2*10^5*V2;//Work done on air during delivery in Nm or J\n",
"Wa2=((-W2)+Wa1-W1)/1000;//Net work done on air during the cycle in kJ\n",
"\n",
"//Output\n",
"printf('(a)Work done by air during suction is %3.0f J\n (b)Work done on air during compression is %3.0f J\n (c)Work done on air during delivery is %3.0f J\n (d)Net work done on air during the cycle is %3.3f kJ',W1,W2,Wa1,Wa2)"
   ]
   }
,
{
		   "cell_type": "markdown",
		   "metadata": {},
		   "source": [
			"## Example 9.8: Work_done_on_air_during_delivery.sce"
		   ]
		  },
  {
"cell_type": "code",
	   "execution_count": null,
	   "metadata": {
	    "collapsed": true
	   },
	   "outputs": [],
"source": [
"clc\n",
"clear\n",
"//Input data\n",
"V1=0.05;//displacement of a piston of a single cylinder single stage reciprocating compressor in m^3\n",
"P1=1;//pressure of air sucked in the compressor in bar\n",
"T1=300;//Initial Temperature of air in K\n",
"P2=7;//Pressure after the compression process in bar\n",
"\n",
"//Calculations\n",
"V2=(P1*V1)/P2;//Volume after the compression in m^3\n",
"W1=P1*10^5*V1;//Work done by air during suction in Nm\n",
"W2=P1*10^5*V1*log(V2/V1);//Work done on sir during isothermal compression in Nm\n",
"H=-W2;//Heat transferred to the cylinder walls in Nm or J\n",
"W3=P1*10^5*V1;//Work done on air during delivery in Nm\n",
"Wn=W1+(-W2)-W3;//Net work done during the cycke in N m\n",
"\n",
"//Output\n",
"printf('(a)Work done by air during suction is %3.0f Nm\n (b)Work done on air during Isothermal compression is %3.0f Nm\n (c)Heat transferred during this process is %3.0f J\n (d)Work done on air during delivery is %3.0f Nm\n (e)Net work done during the cycle is %3.0f Nm',W1,W2,H,W3,Wn)"
   ]
   }
,
{
		   "cell_type": "markdown",
		   "metadata": {},
		   "source": [
			"## Example 9.9: Power_required.sce"
		   ]
		  },
  {
"cell_type": "code",
	   "execution_count": null,
	   "metadata": {
	    "collapsed": true
	   },
	   "outputs": [],
"source": [
"clc\n",
"clear\n",
"//Input data\n",
"m=2;//Mass of air delivered per second in kg\n",
"P1=1;//Initial pressure of a single stage compressor in bar\n",
"T1=293;//Initial temperature in K\n",
"P2=7;//Final pressure in bar\n",
"n=1.4;//Polytropic index\n",
"R=287;//Gas constant in J/kg K\n",
"\n",
"//Calculations\n",
"W=((n/(n-1))*m*R*T1*(((P2/P1)^((n-1)/n))-1))/(60*1000);//Work done by compressor in kW\n",
"\n",
"//Output\n",
"printf('Power required to compress and deliver 2kg of air per minute is %3.3f kW',W)"
   ]
   }
],
"metadata": {
		  "kernelspec": {
		   "display_name": "Scilab",
		   "language": "scilab",
		   "name": "scilab"
		  },
		  "language_info": {
		   "file_extension": ".sce",
		   "help_links": [
			{
			 "text": "MetaKernel Magics",
			 "url": "https://github.com/calysto/metakernel/blob/master/metakernel/magics/README.md"
			}
		   ],
		   "mimetype": "text/x-octave",
		   "name": "scilab",
		   "version": "0.7.1"
		  }
		 },
		 "nbformat": 4,
		 "nbformat_minor": 0
}
