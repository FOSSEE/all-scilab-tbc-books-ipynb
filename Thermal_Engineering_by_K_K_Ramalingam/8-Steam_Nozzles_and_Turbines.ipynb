{
"cells": [
 {
		   "cell_type": "markdown",
	   "metadata": {},
	   "source": [
       "# Chapter 8: Steam Nozzles and Turbines"
	   ]
	},
{
		   "cell_type": "markdown",
		   "metadata": {},
		   "source": [
			"## Example 8.1: Final_velocity_of_steam.sce"
		   ]
		  },
  {
"cell_type": "code",
	   "execution_count": null,
	   "metadata": {
	    "collapsed": true
	   },
	   "outputs": [],
"source": [
"clc\n",
"clear\n",
"//Input data\n",
"P1=12;//Pressure of Dry saturated steam entering a steam nozzle in bar\n",
"P2=1.5;//Discharge pressure of Dry saturated steam in bar\n",
"f=0.95;//Dryness fraction of the discharged steam\n",
"l=12;//Heat drop lost in friction in percentage\n",
"hg1=2784.8;//Specific enthalpy of steam at 12 bar from steam tables in kJ/kg\n",
"hg2=2582.3;//Specific enthalpy of 0.95 dry steam at 1.5 bar from steam tables in kJ/kg\n",
"\n",
"//Calculations\n",
"hd=hg1-hg2;//Heat drop in kJ/kg\n",
"V1=44.72*(hd)^(0.5);//Velocity of steam at discharge from the nozzle in m/s\n",
"n=1-(l/100);//Nozzle coefficient when 12 percent heat drop is lost in friction\n",
"V2=44.72*(n*hd)^(0.5);//Velocity of steam in m/s\n",
"percentV=((V1-V2)/V1)*100;//Percentage reduction in velocity\n",
"\n",
"//Output\n",
"printf('(a)Final velocity of steam is %3.1f m/s\n (b)Percentage reduction in velocity is %3.2f percent',V1,percentV)"
   ]
   }
,
{
		   "cell_type": "markdown",
		   "metadata": {},
		   "source": [
			"## Example 8.2: Mass_of_steam_discharged.sce"
		   ]
		  },
  {
"cell_type": "code",
	   "execution_count": null,
	   "metadata": {
	    "collapsed": true
	   },
	   "outputs": [],
"source": [
"clc\n",
"clear\n",
"//Input data\n",
"P1=12;//Initial pressure of dry saturated steam expanded in a nozzle in bar\n",
"P2=0.95;//Final pressure of dry saturated steam expanded in a nozzle in bar\n",
"f=10;//Frictional loss in the nozzle of the total heat drop in percentage\n",
"d=12;//Exit diameter of the nozzle in mm\n",
"hd=437.1;//Heat drop in kJ/kg from steam tables\n",
"q=0.859;//Dryness fraction of steam at discharge pressure\n",
"vg=1.777;//Specific volume of dry saturated steam at 0.95 bar\n",
"\n",
"//Calculations\n",
"n=1-(f/100);//Nozzle coefficient from moiller chart\n",
"V2=44.72*(n*hd)^(0.5);//Velocity of steam at nozzle exit in m/s\n",
"A=(3.14/4)*(0.012)^(2);//Area of the nozzle at the exit in mm^2\n",
"m=((A*V2)/(q*vg))*3600;//Mass of steam discharged through the nozzle per hour in kg/hour\n",
"\n",
"//Output\n",
"printf('The mass of steam discharged,when the exit diameter of the nozzle is 12mm is %3.1f kg/hour',m)"
   ]
   }
,
{
		   "cell_type": "markdown",
		   "metadata": {},
		   "source": [
			"## Example 8.3: Throat_area.sce"
		   ]
		  },
  {
"cell_type": "code",
	   "execution_count": null,
	   "metadata": {
	    "collapsed": true
	   },
	   "outputs": [],
"source": [
"clc\n",
"clear\n",
"//Input data\n",
"P1=12;//Inlet pressure of steam nozzle in bar\n",
"T1=250;//Inlet temperature of steam nozzle in degrees celcius\n",
"P2=2;//Final pressure of the steam nozzle in bar\n",
"n=1.3;//Polytropic constant for superheated steam\n",
"St=6.831;//For isentropic expansion, entropy remains constant in kJ/kg\n",
"h1=2935.4//Enthalpy of steam at P1 from steam table in kJ/kg\n",
"ht=2860;//Enthalpy of steam at pt in kJ/kg\n",
"vt=0.325;//Specific volume of steam at the throat conditions in m^3/kg\n",
"m=0.2;//Mass of steam discharged through the nozzle in kg/hour\n",
"q=0.947;//The dryness fraction of steam at exit from steam tables\n",
"hg=2589.6;//Enthalpy of steam at exit in kJ/kg\n",
"vs=0.8854;//Specific volume of saturated steam in m^3/kg\n",
"\n",
"//Calculations\n",
"pt=(P2/(n+1))^(n/(n-1))*P1;//Critical pressure ratio i.e.,Throat pressure in bar\n",
"Vt=(2*1000*(h1-ht))^(0.5);//Velocity of steam at throat in m/s\n",
"At=((m*vt)/Vt)*10^4;//Area of the throat in cm^2 from continuity equation\n",
"ve=q*vs;//Specific volume of steam at exit in m^3/kg\n",
"Ve=(2*1000*(h1-hg))^(0.5);//Velocity of steam at nozzle exit in m/s\n",
"Ae=((m*ve)/Ve)*10^4;//Exit area in cm^2\n",
"\n",
"//Output\n",
"printf('(a)Throat area of steam nozzle is %3.3f cm^2\n (b)Exit area of steam nozzle is %3.3f cm^2\n (c)Exit velocity of the nozzle is %3.1f m/s',At,Ae,Ve)"
   ]
   }
,
{
		   "cell_type": "markdown",
		   "metadata": {},
		   "source": [
			"## Example 8.4: Final_exit_velocity_of_steam.sce"
		   ]
		  },
  {
"cell_type": "code",
	   "execution_count": null,
	   "metadata": {
	    "collapsed": true
	   },
	   "outputs": [],
"source": [
"clc\n",
"clear\n",
"//Input data\n",
"P1=10;//Pressure of steam in bar\n",
"f=0.9;//Dryness fraction of steam\n",
"At=350;//Throat area in mm^2\n",
"Pb=1.4;//Back pressure in bar\n",
"h1=2574.8;//Enthalpy of steam at nozzle inlet from steam tables in kJ/kg\n",
"ft=0.87;//Dryness fraction of steam at throat pressure\n",
"fe=0.81;//Dryness fraction of steam at exit pressure\n",
"ht=2481;//Enthalpy of steam at throat pressure at ft in kJ/kg\n",
"vt=0.285;//Specific volume of steam at throat in m^3/kg\n",
"he=2266.2;//Enthalpy of steam at exit conditions in kJ/kg\n",
"ve=1.001;//Specific volume of steam at exit conditions in m^3/kg\n",
"\n",
"//Calculations\n",
"Pt=0.582*P1;//Steam pressure at the throat in bar\n",
"hd=h1-ht;//Enthalpy drop upto the throat in kJ/kg\n",
"Vt=44.7*(hd)^(0.5);//Velocity of steam at the throat in m/s\n",
"hde=h1-he;//Enthalpy drop from nozzle entrance to exit in kJ/kg\n",
"Ve=44.7*(hde)^(0.5);//Velocity of steam at nozzle exit in m/s\n",
"Ae=(At*Vt*ve)/(Ve*vt);//Exit area of nozzle from the mass rate of flow equation in mm^2\n",
"\n",
"//Output\n",
"printf('(a)Final exit velocity of steam is %3.1f m/s\n (b)Cross sectional area of the nozzle at exit for maximum discharge is %3.0f mm^2',Ve,Ae)"
   ]
   }
,
{
		   "cell_type": "markdown",
		   "metadata": {},
		   "source": [
			"## Example 8.5: Velocity_of_steam_at_the_throat.sce"
		   ]
		  },
  {
"cell_type": "code",
	   "execution_count": null,
	   "metadata": {
	    "collapsed": true
	   },
	   "outputs": [],
"source": [
"clc\n",
"clear\n",
"//Input data\n",
"P1=7;//Inlet pressure of a convergent divergent steam nozzle in bar\n",
"T1=275;//Inlet temperature of the nozzle in degrees celcius\n",
"P2=1;//Discharge pressure of steam in bar\n",
"l=60;//Length of diverging portion of the nozzle in mm\n",
"dt=6;//Diameter of the throat in mm\n",
"f1=10;//Percent of total available enthalpy drop lost in friction in the diverging portion in percentage\n",
"h1=3006.9;//Enthalpy of steam at 7bar pressure and 275 degrees celcius in kJ/kg\n",
"ht=2865.9;//Enthalpy at the throat from Moiller chart in kJ/kg\n",
"he=2616.7;//Enthalpy at the exit from moiller chart in kJ/kg\n",
"vt=0.555;//Specific volume of steam at throat in m^3/kg\n",
"Tt=202.8;//Temperature of steam at throat in degrees celcius from moiller chart\n",
"ve=1.65;//Volume of steam at exit in m^3/kg\n",
"\n",
"//Calculations\n",
"Pt=0.546*P1;//The throat pressure for maximum discharge in bar\n",
"hd=h1-ht;//Enthalpy drop upto throat in kJ/kg\n",
"Vt=44.7*(hd)^(0.5);//Velocity of steam at throat in m/s\n",
"hid=h1-he;//Total isentropic drop from 7 bar,275 degrees celcius to 1 bar in kJ/kg\n",
"hda=(1-(f1/100))*(hid);//Actual heat drop in kJ/kg\n",
"Ve=44.7*(hda)^(0.5);//Velocity at exit in m/s\n",
"At=(3.14/4)*(6/1000)^(2);//Throat area of the nozzle in m^2\n",
"m=(At*Vt)/vt;//Mass flow rate at nozzle throat in kg/s\n",
"Ae=((m*ve)/Ve)*10^4;//Exit area of the nozzle in cm^2\n",
"de=(((Ae*4)/3.14)^(0.5))*10;//Diameter of the nozzle at exit in mm\n",
"alpha=atand((de-dt)/(2*60));//Half of the cone angle of the nozzle in degrees\n",
"alpha1=2*alpha;//Cone angle of the nozzle in degrees\n",
"\n",
"//Output\n",
"printf('(a)Velocity of steam at throat is %3.0f m/s\n (b)Temperature of steam at the throat is %3.1f degrees celcius\n (c)Cone angle of the divergent portion is %3.3f degrees',Vt,Tt,alpha1)"
   ]
   }
],
"metadata": {
		  "kernelspec": {
		   "display_name": "Scilab",
		   "language": "scilab",
		   "name": "scilab"
		  },
		  "language_info": {
		   "file_extension": ".sce",
		   "help_links": [
			{
			 "text": "MetaKernel Magics",
			 "url": "https://github.com/calysto/metakernel/blob/master/metakernel/magics/README.md"
			}
		   ],
		   "mimetype": "text/x-octave",
		   "name": "scilab",
		   "version": "0.7.1"
		  }
		 },
		 "nbformat": 4,
		 "nbformat_minor": 0
}
