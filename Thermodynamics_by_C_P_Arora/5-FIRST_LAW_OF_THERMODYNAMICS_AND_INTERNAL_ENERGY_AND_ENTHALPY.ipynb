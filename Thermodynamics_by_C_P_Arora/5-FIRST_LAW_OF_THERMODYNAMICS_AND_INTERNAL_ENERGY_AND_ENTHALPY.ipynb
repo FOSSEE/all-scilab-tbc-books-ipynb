{
"cells": [
 {
		   "cell_type": "markdown",
	   "metadata": {},
	   "source": [
       "# Chapter 5: FIRST LAW OF THERMODYNAMICS AND INTERNAL ENERGY AND ENTHALPY"
	   ]
	},
{
		   "cell_type": "markdown",
		   "metadata": {},
		   "source": [
			"## Example 5.10: CALCULATION_OF_WORKDONE_AND_HEAT_TRANSFER.sce"
		   ]
		  },
  {
"cell_type": "code",
	   "execution_count": null,
	   "metadata": {
	    "collapsed": true
	   },
	   "outputs": [],
"source": [
"clc;\n",
"p1=1; // initial pressure of air in piston cylinder arrangement in bar\n",
"T=300; // Temperature of air in piston cylinder arrangement in kelvin\n",
"p2=10; // Final pressure of air in piston cylinder arrangement in bar\n",
"R=0.287; // Characteristic gas constant of air in kJ/kg K\n",
"disp('The change in internal energy during the isothermal process is zero');\n",
"w=R*T*log (p1/p2); // Work done\n",
"disp ('kJ/kg',w,'Work done = ');\n",
"q=w; // From first law of thermodynamics\n",
"disp ('kJ/kg',q,'Heat transfer = ');"
   ]
   }
,
{
		   "cell_type": "markdown",
		   "metadata": {},
		   "source": [
			"## Example 5.12: EXPANSION_OF_AIR.sce"
		   ]
		  },
  {
"cell_type": "code",
	   "execution_count": null,
	   "metadata": {
	    "collapsed": true
	   },
	   "outputs": [],
"source": [
"clc;\n",
"p1=65;// (Error in textbook) // Pressure of air at state 1 in bar\n",
"v1=0.0135; // Volume of air at state 1 in m^3\n",
"v2=0.1; // Volume of air at state 2 in m^3\n",
"R=0.287; // Characteristic gas constant of air in kJ/kg K\n",
"Cvo=0.7165; // Specific heat at constant volume in kJ/kg K\n",
"// (a).Adiabatic process\n",
"k=1.4; // Index of adiabatic process\n",
"p2=p1*(v1/v2)^k; // Pressure of air at state 2 \n",
"T1=p1*10^2*v1/R;// Tempewrature of air at state 1\n",
"T2=p2*10^2*v2/R;// Tempewrature of air at state 2\n",
"w=R*(T2-T1)/(1-k); // work done\n",
"q=0; // Adiabatic expansion process\n",
"delta_u=Cvo*(T2-T1); // Change in internal energy of air\n",
"disp ('kJ',q,'Heat Ineraction = ','kJ',delta_u,'Change in internal energy of air = ','kJ',w,'Work done = ','K',T2,'Final Temperature = ','(a).Adiabatic Process');\n",
"// (b).Polytropic  process\n",
"n=1.3; // Index of adiabatic process\n",
"p2=p1*(v1/v2)^n; // Pressure of air at state 2 \n",
"T1=p1*10^2*v1/R;// Tempewrature of air at state 1\n",
"T2=p2*10^2*v2/R;// Tempewrature of air at state 2\n",
"w=R*(T2-T1)/(1-n); // work done\n",
"delta_u=Cvo*(T2-T1); // Change in internal energy of air\n",
"q=delta_u+w; // Adiabatic expansion process\n",
"disp ('kJ',q,'Heat Ineraction = ','kJ',delta_u,'Change in internal energy of air = ','kJ',w,'Work done = ','K',T2,'Final Temperature = ','(b).Polytropic Process');\n",
"// (c).Isothermal process\n",
"T1=p1*10^2*v1/R;// Tempewrature of air at state 1\n",
"T2=T1; // Tempewrature of air at state 2\n",
"p2=p1*(v1/v2); // Pressure of air at state 2\n",
"w=R*T1*log (v2/v1); // work done\n",
"delta_u=Cvo*(T2-T1); // Change in internal energy of air\n",
"q=delta_u+w; // Adiabatic expansion process\n",
"disp ('kJ',q,'Heat Ineraction = ','kJ',delta_u,'Change in internal energy of air = ','kJ',w,'Work done = ','K',T2,'Final Temperature = ','(c).Isothermal Process');"
   ]
   }
,
{
		   "cell_type": "markdown",
		   "metadata": {},
		   "source": [
			"## Example 5.13: ANALYSIS_OF_CONTROL_VOLUME.sce"
		   ]
		  },
  {
"cell_type": "code",
	   "execution_count": null,
	   "metadata": {
	    "collapsed": true
	   },
	   "outputs": [],
"source": [
"clc;\n",
"m=10; // mass flow rate of chilled water in kg/s\n",
"V1=50; //velocity of chilled water at section 1 in m/s\n",
"z1=30; // Elevation of section 1 in m\n",
"V2=10; //velocity of chilled water at section 2 in m/s\n",
"z2=60; // Elevation of section 2 in m\n",
"h1=21; // Enthalpy of chilled water at section 1 in kJ/kg\n",
"h2=43; // Enthalpy of chilled water at section 2 in kJ/kg\n",
"W=35; // Rate of work done by pump in kW\n",
"g=9.80665; // Acceleration due to gravity in m/s^2\n",
"Q=m*(h2-h1)+(m*(V2^2-V1^2)/2000)+(m*g*(z2-z1)/1000)-W; // Steady flow energy equation\n",
"disp ('kW',Q,'The rate of Heat Transfer From Building (Error in textbook)= ');"
   ]
   }
,
{
		   "cell_type": "markdown",
		   "metadata": {},
		   "source": [
			"## Example 5.14: A_RECIPROCATING_COMPRESSOR.sce"
		   ]
		  },
  {
"cell_type": "code",
	   "execution_count": null,
	   "metadata": {
	    "collapsed": true
	   },
	   "outputs": [],
"source": [
"clc;\n",
"p1=1; // Suction pressure of air in bar\n",
"p2=5; // Delivery pressure of air in bar\n",
"T1=310; // Suction Temperature of air in kelvin\n",
"Cpo=1.0035; // Specific heat at constant pressure in kJ/kg K\n",
"// (a) Polytropic compression\n",
"T2=475; // Delivery Temperature of air in kelvin\n",
"Q=-0.15; // Heat loss to the cooling water in kW\n",
"Wpoly=-5.3; // Power consumption of compressor in kW\n",
"m=(-Wpoly+Q)/(Cpo*(T2-T1)); // mass flow rate of air from SSSF energy equation\n",
"n=1/((1-((log (T2/T1))/(log (p2/p1))))); // Index of polytropic process\n",
"disp (n,'Index of polytropic process = ','kg/s',m,'mass flow rate of air = ','(a).Polytropic compression');\n",
"// (b) Adiabatic compression\n",
"k=1.4; // Index of adiabatic process\n",
"Wad=-m*Cpo*T1*((p2/p1)^((k-1)/k)-1); // power consumption of compressor\n",
"disp ('kW',Wad,'Power consumption of compressor = ','(b).Adiabatic compression');\n",
"// (c).Difference between specific work\n",
"wdiff=(abs(Wad)-abs(Wpoly))/m; // Difference between specific work\n",
"disp ('kJ/kg',wdiff,'Difference between specific work = ','(c).Difference between specific work');"
   ]
   }
,
{
		   "cell_type": "markdown",
		   "metadata": {},
		   "source": [
			"## Example 5.15: APPLICATION_OF_SSSF_ENERGY_EQUATION_TO_A_STEAM_TURBINE.sce"
		   ]
		  },
  {
"cell_type": "code",
	   "execution_count": null,
	   "metadata": {
	    "collapsed": true
	   },
	   "outputs": [],
"source": [
"clc;\n",
"W=500; // Power output from steam turbine in MW\n",
"Q=10; // Heat loss to surroundings in MW\n",
"p1=12.5; // Pressure of staem at steam turbine inlet in MPa\n",
"p2=10; // Pressure of staem at steam turbine outlet in kPa\n",
"V1=50; // Velocity of steam at steam turbine inlet in m/s\n",
"V2=100; // Velocity of steam at steam turbine outlet in m/s\n",
"x2=0.85; // Quality of steam at steam turbine outlet\n",
"h1=3341.8; // Specific enthalpy of staem at inlet from steam table in kJ/kg\n",
"hf2=191.83; hg2=2584.7;// Specific enthalpies of fluid and steam at outlet from steam table in kJ/kg\n",
"h2=(1-x2)*hf2+x2*hg2;// Specific enthalpy of staem at outlet in kJ/kg\n",
"m=(W-Q)*10^3/((h1-h2)+(V1^2-V2^2)/2000); // Mass flow rate of steam\n",
"disp ('kg/s',m,'Mass flow rate of steam = ');"
   ]
   }
,
{
		   "cell_type": "markdown",
		   "metadata": {},
		   "source": [
			"## Example 5.16: COMBINATION_OF_COMBUSTION_CHAMBER_AIR_TURBINE_AND_NOZZLE.sce"
		   ]
		  },
  {
"cell_type": "code",
	   "execution_count": null,
	   "metadata": {
	    "collapsed": true
	   },
	   "outputs": [],
"source": [
"clc;\n",
"p1=3; // Pressre of air at state 1 in bar\n",
"p2=p1; // constant pressure process\n",
"T1=450; // Temperature of air at state 1 in kelvin\n",
"T2=1250; // Temperature of air at state 2 in kelvin\n",
"T3=1000; // Temperature of air at state 3 in kelvin\n",
"V3=50; // Velocity of air at state 3 in m/s\n",
"T4=800; // Temperature of air at state 4 in kelvin\n",
"Cpo=1.0035; // Specific heat at constant pressure in kJ/kg K\n",
"// (a).Combustion chamber\n",
"q=Cpo*(T2-T1); // Heat added to air\n",
"disp ('kJ/kg   (round off error)',q,'Heat added to air = ','(a).Combustion chamber');\n",
"// (b).Turbine \n",
"k=1.4; // Index of adiabatic process\n",
"w=Cpo*(T2-T3)-V3^2/2000; // Work done \n",
"disp ('kJ/kg   (round off error)',w,'Work done = ',('(b).Turbine)'));\n",
"// (c).Nozzle\n",
"V4=sqrt (2*Cpo*10^3*(T3-T4)+V3^2); // Velocity of air leaving the nozzle\n",
"disp ('m/s   (round off error)',V4,'Velocity of air leaving the nozzle = ','(c).Nozzle');\n",
"// (d).Pressure drop\n",
"p3=p2*(T3/T2)^(k/(k-1)); // Pressure of air leaving turbine\n",
"p4=p3*(T4/T3)^(k/(k-1)); // Pressure of air leaving nozzle\n",
"disp ('bar   ',p4,'Pressure of air leaving nozzle = ','bar',p3,'Pressure of air leaving turbine = ','(d).Pressure drop');"
   ]
   }
,
{
		   "cell_type": "markdown",
		   "metadata": {},
		   "source": [
			"## Example 5.17: DIFFUSER.sce"
		   ]
		  },
  {
"cell_type": "code",
	   "execution_count": null,
	   "metadata": {
	    "collapsed": true
	   },
	   "outputs": [],
"source": [
"clc;\n",
"V=1000; // Speed of aircraft in kmph\n",
"p1=0.35; // Ambient pressure in bar\n",
"T1=258; // Ambient temperature in kelvin\n",
"V1=V*1000/3600; // unit conversion kmph into m/s\n",
"p=1.01325; // Atmospheric pressure in bar\n",
"Cpo=1.0035; // Specific heat at constant pressure in kJ/kg K\n",
"k=1.4; // Index of compression process\n",
"T2=T1+(V1^2)/(2*Cpo*10^3); // The temperature after leaving inlet diffuser\n",
"p2=p1*(T2/T1)^(k/(k-1)); // Pressure after leaving inlet diffuser\n",
"r=p/p2; // Pressre ratio of compressor required for pressurization\n",
"disp ('K',T2,'The temperature after leaving inlet diffuser = ');\n",
"disp (r,'Pressre ratio of compressor required for pressurization = ');"
   ]
   }
,
{
		   "cell_type": "markdown",
		   "metadata": {},
		   "source": [
			"## Example 5.18: AREA_OF_DIFFUSER.sce"
		   ]
		  },
  {
"cell_type": "code",
	   "execution_count": null,
	   "metadata": {
	    "collapsed": true
	   },
	   "outputs": [],
"source": [
"clc;\n",
"p1=50; // Pressre of steam at diffuser inlet in kPa\n",
"T1=150; // Temperature of steam at diffuser inlet in degree celcius\n",
"V1=180; // Velocity of steam at diffuser inlet in m/s\n",
"A1=1000; // area of diffuser inlet in cm^2\n",
"V2=90; // Velocity of steam at diffuser outlet in m/s\n",
"p2=1; // Pressre of steam at diffuser outlet in bar\n",
"Q=120; // Heat loss to the surroundings in kW\n",
"v1=3.24; // Specific volume of steam from superheated steam table in m^3/kg at inlet\n",
"h1=2645.9; //  // Specific enthalpy of steam from superheated steam table in m^3/kg at inlet\n",
"m=V1*A1*10^-4/v1; // Mass flow rate of steam\n",
"q=Q/m; // Heat transfer per unit mass of steam\n",
"h2=q+h1+(V1^2-V2^2)/2000; //  Specific enthalpy of steam from SSSF energy equationat outlet\n",
"v2=1.704; // Specific volume of steam from superheated steam table in m^3/kg at outlet\n",
"A2=m*v2/V2; // Area of diffuser exit \n",
"disp ('cm^2',A2*10^4,'Area of diffuser exit (Error in textbook)= ');"
   ]
   }
,
{
		   "cell_type": "markdown",
		   "metadata": {},
		   "source": [
			"## Example 5.19: FLASH_CHAMBER.sce"
		   ]
		  },
  {
"cell_type": "code",
	   "execution_count": null,
	   "metadata": {
	    "collapsed": true
	   },
	   "outputs": [],
"source": [
"clc;\n",
"p=0.15; // Pressure of Freon-12 gas in MPa\n",
"T1=10; // Temperature of Freon-12 gas in degree celcius\n",
"T2=35; // Temperature of Freon-12 gas in degree celcius\n",
"h1=196.762; // Specific enthalpy of Freon-12 from table at 1 in kJ/kg \n",
"h2=69.49; // Specific enthalpy of Freon-12 from table at 2 in kJ/kg \n",
"h3=178.54; // Specific enthalpy of Freon-12 from table at 3 in kJ/kg \n",
"// For solving Conservation of mass and SSSF energy equations\n",
"A=[1 -1; h3 -h2];\n",
"B=[1 ; h1];\n",
"M=A\B;\n",
"disp ('kg/s',M(1),'Mass of saturated vapour at 0.15 MPa = ','kg/s',M(2),'Mass of saturated liquid at 35 oC = ');"
   ]
   }
,
{
		   "cell_type": "markdown",
		   "metadata": {},
		   "source": [
			"## Example 5.1: CHARGING_AND_DISCHARGING_OF_BATTERY.sce"
		   ]
		  },
  {
"cell_type": "code",
	   "execution_count": null,
	   "metadata": {
	    "collapsed": true
	   },
	   "outputs": [],
"source": [
"clc;\n",
"Q12=-250; // Heat transfer during Discharging of battery in kcal\n",
"W21=-0.53; // Consumption of electricity dring Charging process in kWh\n",
"Q21=(W21*3600)-(Q12*4.1868); // First law of thermodynamics\n",
"disp ('kJ',Q21,'Heat loss from battery during charging process');"
   ]
   }
,
{
		   "cell_type": "markdown",
		   "metadata": {},
		   "source": [
			"## Example 5.20: EXHAUXT_STEAM_CONDENSER.sce"
		   ]
		  },
  {
"cell_type": "code",
	   "execution_count": null,
	   "metadata": {
	    "collapsed": true
	   },
	   "outputs": [],
"source": [
"clc;\n",
"p1=15;// Inlet pressure of condenser in kPa\n",
"x=0.92; // Quality of steam\n",
"ms=25; // mass flow rate of steam in kg/s\n",
"d_t=12; // temperature rise of water \n",
"Cpw=4.1868; // Specific heat of water in kJ/kg K\n",
"hfg=225.94; h4_3=2599.1; // specific enthalpy in kJ/kg\n",
"h1=(1-x)*hfg+x*h4_3; // specific enthalpy \n",
"h2=225.94; // specific enthalpy in kJ/kg\n",
"Q=ms*(h1-h2); // Heat transfer rate in condenser\n",
"mw=Q/(Cpw*d_t); // Mass flow rate of water \n",
"disp ('kg/s',mw,'Mass flow rate of water = ','kW',Q,'Heat transfer rate in condenser = ');"
   ]
   }
,
{
		   "cell_type": "markdown",
		   "metadata": {},
		   "source": [
			"## Example 5.2: BOMB_CALORIMETER.sce"
		   ]
		  },
  {
"cell_type": "code",
	   "execution_count": null,
	   "metadata": {
	    "collapsed": true
	   },
	   "outputs": [],
"source": [
"clc;\n",
"m=5; // Mass of water in a tank in kg\n",
"T1=30; // Temperature of water at initial state (1) in degree celcius\n",
"T2=95; // Temperature of water at final state (2) in degree celcius\n",
"Qout=70; // Heat transfer from the water tank to the surrounding air in kJ\n",
"W=75; //Electric energy input to a stirrer inside water in kJ\n",
"mf=32.3; // Mass of fel in bomb in grams\n",
"u1=125.78; // Internal energy of water from steam table (uf at T1) in kJ/kg\n",
"u2=397.88; // Internal energy of water from steam table (uf at T2) in kJ/kg\n",
"Qf=m*(u2-u1)-W+Qout; // From First law of thermodynamics\n",
"qf=Qf/(mf*10^-3); // Heat consumption per unit mass of fuel \n",
"disp ('kJ/kg',qf,'Heat consumption per unit mass of fuel =');"
   ]
   }
,
{
		   "cell_type": "markdown",
		   "metadata": {},
		   "source": [
			"## Example 5.3: CALCULATION_OF_HEAT_TRANSFER.sce"
		   ]
		  },
  {
"cell_type": "code",
	   "execution_count": null,
	   "metadata": {
	    "collapsed": true
	   },
	   "outputs": [],
"source": [
"clc;\n",
"V=50; // Volume of water in a tank in litres\n",
"T1=120; // Temperature of water at initial state (1) in degree celcius\n",
"x1=0.6; // Dryness fraction at initial state (1)\n",
"T2=-10; // Temperature of water at final state (2) in degree celcius\n",
"vf1=0.00106; // specific volume of water from steam tables at T1 in m^3/kg\n",
"vg1=0.8919; // specific volume of water from steam tables at T1 in m^3/kg\n",
"v1=(1-x1)*vf1+x1*vg1; // Specific volume of misture of liquid and water at state (1)\n",
"m=(V*10^-3)/v1; // Mass of water in the tank\n",
"vs2=0.0010891; // Specific volume of saturated ice at T2 in m^3/kg\n",
"vg2=466.7; // Specific volume of water vapour at T2 in m^3/kg\n",
"v2=v1; // constant specific volume during cooling process\n",
"x2=(v2-vs2)/(vg2-vs2); // Dryness fraction at state (2)\n",
"uf1=503.5; // Specific internal energy at state (1) in kJ/kg\n",
"ug1=2529.3; // Specific internal energy at state (1) in kJ/kg\n",
"us2=-354.09; // Specific internal energy at state (2) in kJ/kg\n",
"ug2=2361.4; // Specific internal energy at state (2) in kJ/kg\n",
"u1=(1-x1)*uf1+x1*ug1; // Total Specific internal energy at state (1) in kJ/kg\n",
"u2=(1-x2)*us2+x2*ug2; // Total Specific internal energy at state (2) in kJ/kg\n",
"Q12=m*(u2-u1); // Heat transfer during cooling pocess\n",
"disp ('kJ',Q12,'Heat transfer during cooling pocess = ');"
   ]
   }
,
{
		   "cell_type": "markdown",
		   "metadata": {},
		   "source": [
			"## Example 5.4: CALCULATION_OF_OVERALL_HEAT_TRANSFER_AND_WORKDONE.sce"
		   ]
		  },
  {
"cell_type": "code",
	   "execution_count": null,
	   "metadata": {
	    "collapsed": true
	   },
	   "outputs": [],
"source": [
"clc;\n",
"V1=0.3; // Initial volume of water upto stop 1 in m^3\n",
"p1=1; // Initial pressure of water in bar\n",
"x1=0.2; // Dryness fraction at initial state (1)\n",
"p2=3; // Pressur required to lift the piston in bar\n",
"V4=0.45; // Volume of water upto stop 2 in m^3\n",
"vf1=0.001043; // Specific volume at state (1) from steam table in m^3/kg\n",
"vg1=1.694; // Specific volume at state (1) from steam table in m^3/kg\n",
"v1=vf1+x1*(vg1-vf1); // Total Specific volume at state (1) from steam table in m^3/kg\n",
"m=V1/v1; // Mass of water\n",
"v3=V4/m; // Specific volume at stop 2\n",
"v2=v1; p3=p2; v4=v3; V3=V4; V2=V1; // From process diagram\n",
"//  (a)\n",
"p4=0.361; // Final Pressure at v4 from steam table in Mpa\n",
"disp ('MPa',p4,'Fianl pressure = ','(a)');\n",
"//  (b)\n",
"W14=p2*10^2*(V3-V2); // Work done in process \n",
"uf1=417.36; // Specific internal energ at initial state in kJ/kg\n",
"ufg1=2088.7; // Specific internal energ at initial state in kJ/kg\n",
"u1=uf1+x1*ufg1;  // Total Specific internal energr at initial state in kJ.kg\n",
"u4=2550.2; // Specific internal energ at final state in kJ/kg\n",
"Q14=m*(u4-u1)+W14; // From first law of thermodynamics\n",
"disp ('kJ',W14,'Work done during the process = ','(b)');\n",
"disp ('kJ',Q14,'Heat transfer during the process = ');"
   ]
   }
,
{
		   "cell_type": "markdown",
		   "metadata": {},
		   "source": [
			"## Example 5.5: WORKDONE_IN_A_POLYTROPIC_COMPRESSION_PROCESS.sce"
		   ]
		  },
  {
"cell_type": "code",
	   "execution_count": null,
	   "metadata": {
	    "collapsed": true
	   },
	   "outputs": [],
"source": [
"clc;\n",
"V1=0.01; // Initial Volume of Freon 12 vapour in cylinder in m^3\n",
"T1=15; // Initial Temperature of Freon 12 vapour in degree celcius\n",
"p1=4.914; // Initial pressure (Psat at T1) in bar\n",
"p2=9; // Final pressure of Freon 12 vapour after compression in bar\n",
"T2=65; // Final temperature of Freon 12 vapour after compression in degree celcius\n",
"Q=-0.5; // Heat lost to surroundings during compresson process in kJ\n",
"v1=0.035413; // Initial specific volume of Freon 12 vapour from table in m^3/kg\n",
"m=V1/v1; // Mass of vapour\n",
"hg1=193.644; // specific enthalpy of Freon 12 vopour at state 1 in kJ/kg\n",
"u1=hg1-(p1*10^2*v1); // Total Specific internal energy at state 1\n",
"h2=222.9; // specific enthalpy of Freon 12 vapour at state 2 in kJ/kg\n",
"v2=0.022537; // specific volume of Freon 12 vapour at state 2 in m^3/kg\n",
"u2=h2-(p2*10^2*v2); // Total Specific internal energy at state 2\n",
"W=-m*(u2-u1)+Q; // From first law of thermodynamics\n",
"disp ('kJ',W,'Work of compression = ');"
   ]
   }
,
{
		   "cell_type": "markdown",
		   "metadata": {},
		   "source": [
			"## Example 5.6: COOLING_OF_ICE.sce"
		   ]
		  },
  {
"cell_type": "code",
	   "execution_count": null,
	   "metadata": {
	    "collapsed": true
	   },
	   "outputs": [],
"source": [
"clc;\n",
"tS=-10; // initial temperature of ice in degree celcius\n",
"ts=0; // Melting temperature of ice in degree celcius\n",
"Cs=1.94; // Specific heat of ice in kJ/kg k\n",
"m=1000; // Mass of ice in kg\n",
"tF=10; // Temperature of water after 24 hours in degree celcius\n",
"tf=0; // Freezing temperature of water in degree celcius\n",
"Cf=4.1868; // Specific heat of water in kJ/kg K\n",
"hsg=335; // Latent heat of fusion of ice in kJ/kg\n",
"Q=m*(Cs*(ts-tS)+hsg+Cf*(tF-tf)); // Heat gain of water\n",
"Q_dot=Q/(24*3600); // Rate of cooling\n",
"disp ('kW',Q_dot,'Rate of cooling = ');"
   ]
   }
,
{
		   "cell_type": "markdown",
		   "metadata": {},
		   "source": [
			"## Example 5.7: CHANGE_IN_ENTHALPY_OF_AIR.sce"
		   ]
		  },
  {
"cell_type": "code",
	   "execution_count": null,
	   "metadata": {
	    "collapsed": true
	   },
	   "outputs": [],
"source": [
"clc;\n",
"T1=300; // Temperature of air at state 1 in Kelvin\n",
"T2=500; // Temperature of air at state 2 in Kelvin\n",
"m_=28.966; // Molecular weight oh air in kg\n",
"Cpoav=1.017; // Average value of specific heat of air in kJ/kg K\n",
"// (a). change in enthalpy\n",
"h_=27.43*(T2-T1)+3.09*10^-3*(T2^2-T1^2)-0.2296*10^-6*(T2^3-T1^3); //change in enthalpy during process in kJ/kmol\n",
"h=h_/m_; // change in enthalpy during process in kJ/kg\n",
"disp ('kJ/kg',h,'(a).change in enthalpy during process = ');\n",
"// (b).change in enthalpy\n",
"h=Cpoav*(T2-T1); // change in enthalpy in kJ/kg\n",
"disp ('kJ/kg',h,'(b).change in enthalpy during process with average specfic heat = ');"
   ]
   }
,
{
		   "cell_type": "markdown",
		   "metadata": {},
		   "source": [
			"## Example 5.8: DIRECTION_AND_MAGNITUDE_OF_WORKDONE.sce"
		   ]
		  },
  {
"cell_type": "code",
	   "execution_count": null,
	   "metadata": {
	    "collapsed": true
	   },
	   "outputs": [],
"source": [
"clc;\n",
"m=0.1; // mass of nitrogen gas in kg\n",
"V1=0.1; // Initial volme of nitrogen gas in m^3\n",
"p1=1.2; // Initial pressure of nitrogen gas in bar\n",
"V2=0.075; // Final volume of nitrogen gas in m^3\n",
"Cpo=1.041; // Specific heat at constant pressure of nitrogen in kJ/kg K\n",
"R=0.2969393; // Characteristic gas constant of nitrogen in Kj/kg K\n",
"T1=(p1*10^2*V1)/(m*R); // Initial temperature of nitrogen gas \n",
"T2=T1*(V2/V1); // Final temperature of nitrogen gas (constant pressure process)\n",
"Q=m*Cpo*(T2-T1); // Heat transfer to surroundings\n",
"W=p1*10^2*(V2-V1); // Work done\n",
"disp ('K',T2,'Final Temperature of nitrogen gas = ');\n",
"disp ('kJ',Q,'Heat transfer to surroundings = ');\n",
"disp ('The Work is done on the gas','kJ',W,'Work done = ');"
   ]
   }
,
{
		   "cell_type": "markdown",
		   "metadata": {},
		   "source": [
			"## Example 5.9: QUASI_EQUILIBRIUM_PROCESS.sce"
		   ]
		  },
  {
"cell_type": "code",
	   "execution_count": null,
	   "metadata": {
	    "collapsed": true
	   },
	   "outputs": [],
"source": [
"clc;\n",
"p=1; // pressure inside piston cylinder arrangement in MPa\n",
"// stae 1 = saturated liquid\n",
"// state 2 = saturated vapour\n",
"// state 3 = superheated vapour\n",
"v1=0.001127; // specific volume at state 1 in m^3/kg\n",
"v2=0.19444; // specific volume at state 2 in m^3/kg\n",
"v3=0.4011; // specific volume at state 3 in m^3/kg\n",
"u1=761.68; // specific internal energy at state 1 in kK/kg\n",
"u2=2583.6; // specific internal energy at state 2 in kK/kg\n",
"u3=3296.8; // specific internal energy at state 3 in kK/kg\n",
"h1=762.81; // specific enthalpy at state 1 in kJ/kg\n",
"h2=2778.1; // specific enthalpy at state 2 in kJ/kg\n",
"h3=3697.9; // specific enthalpy at state 3 in kJ/kg\n",
"w12=p*10^3*(v2-v1); // Work done during process 1-2\n",
"w23=p*10^3*(v3-v2); // Work done during process 2-3\n",
"wtotal=w12+w23; // Total work done\n",
"disp ('kJ/kg',wtotal,'Work done = ');\n",
"// Calculation of heat transfer\n",
"// Method I\n",
"q12=(u2-u1)+w12; // Heat transfer during process 1-2\n",
"q23=(u3-u2)+w23; // Heat transfer during process 2-3\n",
"qtotal=q12+q23; // Total Heat transfer\n",
"disp ('kJ/kg',qtotal,'Heat Transfer = ','Method I','Calculation of Heat Transfer');\n",
"// Method II\n",
"q12=h2-h1; // Heat transfer during process 1-2\n",
"q23=h3-h2; // Heat transfer during process 2-3\n",
"qtotal=q12+q23; // Total Heat transfer\n",
"disp ('kJ/kg',qtotal,'Heat Transfer = ','Method II');"
   ]
   }
],
"metadata": {
		  "kernelspec": {
		   "display_name": "Scilab",
		   "language": "scilab",
		   "name": "scilab"
		  },
		  "language_info": {
		   "file_extension": ".sce",
		   "help_links": [
			{
			 "text": "MetaKernel Magics",
			 "url": "https://github.com/calysto/metakernel/blob/master/metakernel/magics/README.md"
			}
		   ],
		   "mimetype": "text/x-octave",
		   "name": "scilab",
		   "version": "0.7.1"
		  }
		 },
		 "nbformat": 4,
		 "nbformat_minor": 0
}
