{
"cells": [
 {
		   "cell_type": "markdown",
	   "metadata": {},
	   "source": [
       "# Chapter 9: GAS CYCLES"
	   ]
	},
{
		   "cell_type": "markdown",
		   "metadata": {},
		   "source": [
			"## Example 9.1: OTTO_CYCLE.sce"
		   ]
		  },
  {
"cell_type": "code",
	   "execution_count": null,
	   "metadata": {
	    "collapsed": true
	   },
	   "outputs": [],
"source": [
"clc;\n",
"r=8; // Compression ratio of an engine\n",
"p1=100; // Pressure of air before compression in lPa\n",
"T1=300; // Temperature air before compression in kelvin\n",
"qH=1800; // Heat added to the air in kJ/kg\n",
"k=1.4; // Index of reversible adiabatic process\n",
"Cvo=0.7165; // Specific heat at constant volume in kJ/kg K\n",
"Cpo=1.0035; // Specific heat at constant pressure in kJ/kg K\n",
"R=0.287; // characteristic gas constant of air in kJ/kg K\n",
"// Otto cycle\n",
"//  (1) state 2\n",
"p2=p1*(r)^k; // Pressure at the end of compression\n",
"T2=T1*(p2/p1)^((k-1)/k);// Temperature at the end of compression\n",
"disp ('K',T1,'Temperature air before compression =','kPa',p1,'Pressure of air before compression = ','(1).state 1');\n",
"disp ('K',T2,'Temperature at the end of compression =','kPa',p2,'Pressure of air at the end of compression = ','state 2');\n",
"// state 3\n",
"T3=(qH/Cvo)+T2; // Temperatue after heat addition\n",
"p3=p2*(T3/T2); // Pressure after heat addition\n",
"disp ('K   (round off error)',T3,'Temperature after heat addition =','kPa   (round off error)',p3,'Pressure after heat addition = ','state 3');\n",
"// state 4\n",
"p4=p3*(1/r)^k; // Pressure after expansion\n",
"T4=T3*(p4/p3)^((k-1)/k);// Temperature after expansion\n",
"disp ('K   (round off error)',T4,'Temperature after expansion =','kPa   (round off error)',p4,'Pressure after expansion = ','state 4');\n",
"//  (2).Thermal efficiency\n",
"qL=Cvo*(T4-T1); // Heat rejected\n",
"eff_th=1-qL/qH; // thermal efficiency\n",
"//   (3). Mean effective pressure\n",
"wnet=qH-qL; // net work\n",
"v1=R*T1/p1; // Specific volume at state 1\n",
"v2=v1/r; // Specific volume at state 2\n",
"pm=wnet/(v1-v2); // Mean effective pressure\n",
"disp ('kPa',pm,'(3).Mean effective pressure = ','%   (round off error)',eff_th*100,'(2).Thermal efficienvy = ');"
   ]
   }
,
{
		   "cell_type": "markdown",
		   "metadata": {},
		   "source": [
			"## Example 9.2: DIESEL_CYCLE.sce"
		   ]
		  },
  {
"cell_type": "code",
	   "execution_count": null,
	   "metadata": {
	    "collapsed": true
	   },
	   "outputs": [],
"source": [
"clc;\n",
"r=18; // Compression ratio of an engine\n",
"p1=100; // Pressure of air before compression in lPa\n",
"T1=300; // Temperature air before compression in kelvin\n",
"qH=1800; // Heat added to the air in kJ/kg\n",
"k=1.4; // Index of reversible adiabatic process\n",
"Cvo=0.7165; // Specific heat at constant volume in kJ/kg K\n",
"Cpo=1.0035; // Specific heat at constant pressure in kJ/kg K\n",
"R=0.287; // characteristic gas constant of air in kJ/kg K\n",
"//   Diesel cycle\n",
"// state 2\n",
"T2=T1*(r)^(k-1); // Temperature at the end of compression\n",
"p2=p1*(r)^k; // Pressure at the end of compression\n",
"// state 3\n",
"T3=(qH/Cpo)+T2; // Temperatue after heat addition\n",
"p3=p2; //constant pressure\n",
"Tmax=T3; // maximum temperature\n",
"Pmax=p3; // Maximum pressure\n",
"// state 4\n",
"v3=R*T3/p3; // Specific volume at state 3\n",
"v4=R*T1/p1; // Specific volume at state 4\n",
"T4=T3*(v3/v4)^(k-1); // Temperature after expansion\n",
"p4=p3*(v3/v4)^k; // Pressure after expansion\n",
"qL=Cvo*(T4-T1); // Heat rejected\n",
"wnet=qH-qL; // net work\n",
"eff_th=wnet/qH; // thermal efficiency\n",
"v1=R*T1/p1; // Specific volume at state 1\n",
"v2=v1/r; // Specific volume at state 2\n",
"pm=wnet/(v1-v2); // Mean effective pressure\n",
"disp ('kPa',pm,'Mean effective pressure = (Error in textbook) ','%',eff_th*100,'Thermal efficienvy = ','K',Tmax,'Maximum Temperature = ','kPa',Pmax,'Maximum pressure = ');"
   ]
   }
,
{
		   "cell_type": "markdown",
		   "metadata": {},
		   "source": [
			"## Example 9.3: STANDARD_BRAYTON_CYCLE.sce"
		   ]
		  },
  {
"cell_type": "code",
	   "execution_count": null,
	   "metadata": {
	    "collapsed": true
	   },
	   "outputs": [],
"source": [
"clc;\n",
"p1=0.1; // Pressure of air at inlet in MPa\n",
"T1=300; // Temperature of air at inlet in kelvin\n",
"p2=0.6; // Pressure of air at exit in MPa\n",
"T3=1200; // Maximun temperature of air in kelvin\n",
"k=1.4; // Index of reversible adiabatic process\n",
"Cvo=0.7165; // Specific heat at constant volume in kJ/kg K\n",
"Cpo=1.0035; // Specific heat at constant pressure in kJ/kg K\n",
"R=0.287; // characteristic gas constant of air in kJ/kg K\n",
"// Brayton cycle\n",
"rp=p2/p1; // pressure ratio\n",
"T2=T1*(p2/p1)^((k-1)/k);// Temperature at the end of compression\n",
"wc=Cpo*(T2-T1); // compressor work\n",
"T4=T3*(p1/p2)^((k-1)/k);// Temperature at the end of expansion\n",
"wT=Cpo*(T3-T4); // Turbine work\n",
"qH=Cpo*(T3-T2); // heat addition\n",
"wnet=wT-wc; // net work\n",
"eff_th=wnet/qH; // thermal efficiency\n",
"rw=wnet/wT; // worh ratio\n",
"disp (rw,'Work Ratio = ','%',eff_th*100,'Thermal Efficiency = ');"
   ]
   }
,
{
		   "cell_type": "markdown",
		   "metadata": {},
		   "source": [
			"## Example 9.4: ACTUAL_GAS_TURBINE_CYCLE.sce"
		   ]
		  },
  {
"cell_type": "code",
	   "execution_count": null,
	   "metadata": {
	    "collapsed": true
	   },
	   "outputs": [],
"source": [
"clc;\n",
"p1=0.1; // Pressure of air at inlet in MPa\n",
"T1=300; // Temperature of air at inlet in kelvin\n",
"p2=0.6; // Pressure of air at exit in MPa\n",
"T3=1200; // Maximun temperature of air in kelvin\n",
"k=1.4; // Index of reversible adiabatic process\n",
"Cvo=0.7165; // Specific heat at constant volume in kJ/kg K\n",
"Cpo=1.0035; // Specific heat at constant pressure in kJ/kg K\n",
"R=0.287; // characteristic gas constant of air in kJ/kg K\n",
"eff_t=0.85; // Turbine efficiency\n",
"eff_c=0.8; // Compressor efficienct\n",
"// Brayton cycle\n",
"rp=p2/p1; // pressure ratio\n",
"T2s=T1*(p2/p1)^((k-1)/k);// Isentropic Temperature at the end of compression\n",
"T2=((T2s-T1)/eff_c)+T1; // Actual Temperature at the end of compression\n",
"p3=0.585; // as per given in MPa\n",
"p4s=0.11; // As per given in MPa\n",
"T4s=T3*(p4s/p3)^((k-1)/k); // Isentropic temperature after reversible adiabatic expansion\n",
"T4=T3-(eff_t*(T3-T4s));// Actual temperature at state 4\n",
"wc=Cpo*(T2-T1); // compressor work\n",
"wT=Cpo*(T3-T4); // Turbine work\n",
"qH=Cpo*(T3-T2); // heat addition\n",
"wnet=wT-wc; // net work\n",
"eff_th=wnet/qH; // thermal efficiency\n",
"rw=wnet/wT; // worh ratio\n",
"disp (rw,'Work Ratio = ','%',eff_th*100,'Thermal Efficiency = ');"
   ]
   }
,
{
		   "cell_type": "markdown",
		   "metadata": {},
		   "source": [
			"## Example 9.5: AN_IDEAL_REGENERATOR.sce"
		   ]
		  },
  {
"cell_type": "code",
	   "execution_count": null,
	   "metadata": {
	    "collapsed": true
	   },
	   "outputs": [],
"source": [
"clc;\n",
"p1=0.1; // Pressure of air at inlet in MPa\n",
"T1=300; // Temperature of air at inlet in kelvin\n",
"p2=0.6; // Pressure of air at exit in MPa\n",
"T3=1200; // Maximun temperature of air in kelvin\n",
"k=1.4; // Index of reversible adiabatic process\n",
"Cvo=0.7165; // Specific heat at constant volume in kJ/kg K\n",
"Cpo=1.0035; // Specific heat at constant pressure in kJ/kg K\n",
"R=0.287; // characteristic gas constant of air in kJ/kg K\n",
"// Brayton cycle\n",
"rp=p2/p1; // pressure ratio\n",
"T2=T1*(p2/p1)^((k-1)/k);// Temperature at the end of compression\n",
"T4=T3*(p1/p2)^((k-1)/k);// Temperature at state 4\n",
"Tx=T4; Ty=T2; // regenerator temperatures\n",
"qH=Cpo*(T3-Tx); // Heat added in the cycle with regenerator\n",
"qL=Cpo*(Ty-T1);// Heat rejected in the cycle with regenerator\n",
"eff_th=1-qL/qH; // Thermal efficiency\n",
"disp('%',eff_th*100,'Thermal efficiency with regenerator = ');"
   ]
   }
,
{
		   "cell_type": "markdown",
		   "metadata": {},
		   "source": [
			"## Example 9.6: AIR_STANDARD_CYCLE_FOR_JET_PROPULSION.sce"
		   ]
		  },
  {
"cell_type": "code",
	   "execution_count": null,
	   "metadata": {
	    "collapsed": true
	   },
	   "outputs": [],
"source": [
"clc;\n",
"V1=250; // Velocoty of jet aircraft in m/s\n",
"p1=60; // Atmospheric pressure in kPa\n",
"T1=260; // Atmospheric temperature in kelvin\n",
"rp=8; // Pressure ratio of compressor\n",
"T4=1350; // Temperature of gas at turbine inlet in kelvin\n",
"k=1.4; // Index of reversible adiabatic process\n",
"Cvo=0.7165; // Specific heat at constant volume in kJ/kg K\n",
"Cpo=1.0035; // Specific heat at constant pressure in kJ/kg K\n",
"R=0.287; // characteristic gas constant of air in kJ/kg K\n",
"// (a).The pressure and temperature at each point of the cycle\n",
"// process 1-2 isentropic diffusion\n",
"T2=T1+(V1^2)/(2*Cpo*10^3); // Temperature at state 2\n",
"p2=p1*(T2/T1)^(k/(k-1)); // Pressure at state 2\n",
"// process 2-3 isentropic compression\n",
"p3=rp*p2; // perssure at state 3\n",
"T3=T2*(p3/p2)^((k-1)/k); // Temperature at state 3\n",
"wc=Cpo*(T3-T2); // compressor work\n",
"// process 3-4 Constant pressur heat addition\n",
"qH=Cpo*(T4-T3); // heat addition\n",
"p4=p3; // constant pressure\n",
"// process 4-5 isentropic expansion in turbine\n",
"wT=wc;\n",
"T5=T4-(wT/Cpo); // Temperature at state 5\n",
"p5=p4*(T5/T4)^(k/(k-1)); // Pressure at state 5\n",
"// process 5-6 Isentropic expansion in nozzle\n",
"p6=p1;\n",
"T6=T5*(p6/p5)^((k-1)/k); // Temperature at state 6\n",
"disp ('K',T6,'T6 = ','kPa',p6,'p6 = ','state 6','K',T5,'T5 = ','kPa',p5,'p5 = ','State 5','K',T4,'T4 = ','kPa',p4,'p4 =','State 4','K',T3,'T3 = ','kPa',p3,'p3 =','State 3','K',T2,'T2 =','kPa',p2,'p2 =','State 2','K',T1,'T1 =','kPa',p1,'p1 =  ','State 1','(a).The pressure and temperature at each point of the cycle');\n",
"// (b).Exit velocity of jet\n",
"V6=sqrt (2*Cpo*10^3*(T5-T6)); // Exit velocity of jet\n",
"disp ('m/s',V6,'(b).Exit velocity of jet =');\n",
"//   (c).Specific thrust and work output\n",
"F_mair=(V6-V1); // Specific thrust \n",
"w=F_mair*V1/1000; // Work output\n",
"disp ('kJ/kg',w,'Work output = ','N',F_mair,'Specific thrust =','(c).Specific thrust and work output');\n",
"//   (d).Propulsion efficiency\n",
"eff_p=w/(w+(V6^2-V1^2)/2000);// Propulsion efficiency\n",
"disp ('%',eff_p*100,'(d).Propulsion efficiency =');\n",
"//    (e).Overall thermal efficiency\n",
"eff_th=w/qH; // Overall thermal efficiency\n",
"disp ('%',eff_th*100,'(e).Overall thermal efficiency =');"
   ]
   }
,
{
		   "cell_type": "markdown",
		   "metadata": {},
		   "source": [
			"## Example 9.7: REVERSED_BRAYTON_CYCLE.sce"
		   ]
		  },
  {
"cell_type": "code",
	   "execution_count": null,
	   "metadata": {
	    "collapsed": true
	   },
	   "outputs": [],
"source": [
"clc;\n",
"p1=100; // Pressure of air at inlet in kPa\n",
"T1=288; // Temperature of air at inlet in kelvin\n",
"rp=12; // Pressure ratio of the compressor\n",
"k=1.4; // Index of reversible adiabatic process\n",
"Cvo=0.7165; // Specific heat at constant volume in kJ/kg K\n",
"Cpo=1.0035; // Specific heat at constant pressure in kJ/kg K\n",
"R=0.287; // characteristic gas constant of air in kJ/kg K\n",
"T3=T1; // From figure\n",
"// process 1-2\n",
"p2=12*p1; // Pressure at state 2\n",
"T2=T1*(p2/p1)^((k-1)/k); // Temperature at state 2\n",
"wc=Cpo*(T2-T1); // Compressor work\n",
"// process 2-3\n",
"qH=Cpo*(T2-T3); // Heat added\n",
"// process 3-4\n",
"T4=T3*(1/rp)^((k-1)/k); // Temperature at state 4\n",
"// process 4-1 Refrigerating coil\n",
"qL=Cpo*(T1-T4); // heat rejected\n",
"wnet=qH-qL; // net work\n",
"cop=qL/wnet; // Cop of plant\n",
"pc=wnet/qL; // Power consumption per kW of refrigeration\n",
"disp ('kW/kW',pc,'Power consumption per kW of refrigeration =',cop,'COP of the cycle =');"
   ]
   }
,
{
		   "cell_type": "markdown",
		   "metadata": {},
		   "source": [
			"## Example 9.8: A_REGENERATIVE_HEAT_EXCHANGER.sce"
		   ]
		  },
  {
"cell_type": "code",
	   "execution_count": null,
	   "metadata": {
	    "collapsed": true
	   },
	   "outputs": [],
"source": [
"clc;\n",
"p1=100; // Pressure of air at inlet in kPa\n",
"T1=288; // Temperature of air at inlet in kelvin\n",
"rp=12; // Pressure ratio of the compressor\n",
"T4=223; // Temperature at state 4\n",
"k=1.4; // Index of reversible adiabatic process\n",
"Cvo=0.7165; // Specific heat at constant volume in kJ/kg K\n",
"Cpo=1.0035; // Specific heat at constant pressure in kJ/kg K\n",
"R=0.287; // characteristic gas constant of air in kJ/kg K\n",
"T3=T1; // From figure\n",
"// process 1-2\n",
"p2=12*p1; // Pressure at state 2\n",
"T2=T1*(p2/p1)^((k-1)/k); // Temperature at state 2\n",
"wc=Cpo*(T2-T1); // Compressor work\n",
"// process 2-3\n",
"qH=Cpo*(T2-T3); // Heat added\n",
"// process 3-4 cooling in regenerative heat exchanger\n",
"qregen=Cpo*(T3-T4); // cooling in regenerative heat exchanger\n",
"// process 4-5 Expander\n",
"T5=T4*(1/rp)^((k-1)/k); // Temperature at state 5\n",
"wE=Cpo*(T4-T5); // Expander work\n",
"// process 5-6 Refrigerating coil\n",
"T6=T4; // From figure 9.32\n",
"qL=Cpo*(T6-T5); // Heat rejected\n",
"// process 6-1 Heating in regenerative heat exchanger\n",
"qregen=Cpo*(T1-T6); // Heat supplied\n",
"wnet=qH-qL; // net work\n",
"cop=qL/wnet; // Cop of plant\n",
"disp (cop,'COP of the modified cycle =');"
   ]
   }
],
"metadata": {
		  "kernelspec": {
		   "display_name": "Scilab",
		   "language": "scilab",
		   "name": "scilab"
		  },
		  "language_info": {
		   "file_extension": ".sce",
		   "help_links": [
			{
			 "text": "MetaKernel Magics",
			 "url": "https://github.com/calysto/metakernel/blob/master/metakernel/magics/README.md"
			}
		   ],
		   "mimetype": "text/x-octave",
		   "name": "scilab",
		   "version": "0.7.1"
		  }
		 },
		 "nbformat": 4,
		 "nbformat_minor": 0
}
