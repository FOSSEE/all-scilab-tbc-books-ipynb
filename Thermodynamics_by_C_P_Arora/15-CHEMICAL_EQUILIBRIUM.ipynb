{
"cells": [
 {
		   "cell_type": "markdown",
	   "metadata": {},
	   "source": [
       "# Chapter 15: CHEMICAL EQUILIBRIUM"
	   ]
	},
{
		   "cell_type": "markdown",
		   "metadata": {},
		   "source": [
			"## Example 15.1: METHANE_WATER_REACTION.sce"
		   ]
		  },
  {
"cell_type": "code",
	   "execution_count": null,
	   "metadata": {
	    "collapsed": true
	   },
	   "outputs": [],
"source": [
"clc;\n",
"// (b).Number of moles of each constituents\n",
"nCH4=2; // Number of moles of CH4\n",
"E=3-nCH4; // Amount of reaction from (a) and refer example 15.1 (a)\n",
"nH2O=1-E;// Number of moles of H2O\n",
"nCO=1+E;// Number of moles of CO\n",
"nH2=4+3*E;// Number of moles of H2\n",
"disp (nH2,'Number of moles of H2 = ',nCO,'Number of moles of CO = ',nH2O,'Number of moles of H2O = ','(b).Number of moles of each constituents');"
   ]
   }
,
{
		   "cell_type": "markdown",
		   "metadata": {},
		   "source": [
			"## Example 15.2: EQUILIBRIUM_CONSTANTS_FOR_COMBUSTION_OF_CO.sce"
		   ]
		  },
  {
"cell_type": "code",
	   "execution_count": null,
	   "metadata": {
	    "collapsed": true
	   },
	   "outputs": [],
"source": [
"clc;\n",
"T0=298; // Given temperature in kelvin\n",
"R_1=8.314; // Universal gas constant in kJ/kg mol K\n",
"// (a).CO+1/2 O2 = CO2\n",
"// From table of properties of combustion\n",
"del_hfco2=-393509;// Enthalpy of heat \n",
"del_hfco=-110525;// Enthalpy of heat \n",
"s_co2=213.795;// Entropy of heat \n",
"s_co=197.652;// Entropy of heat \n",
"s_o2=205.142;// Entropy of heat \n",
"del_Ga=(del_hfco2-del_hfco-T0*(s_co2-s_co-(1/2*s_o2)));\n",
"Ka=exp (abs (del_Ga)/(R_1*1000*T0));\n",
"disp ('(a).CO+1/2 O2 = CO2');\n",
"printf ('\n The equilibrium constant at 298 K = %0.3f (Error in textbook) \n',Ka);\n",
"// (b).2CO + O2 = 2CO2\n",
"Kb=exp (2*abs (del_Ga)/(R_1*1000*T0));\n",
"disp ('(b).2CO + O2 = 2CO2');\n",
"printf ('\nThe equilibrium constant at 298 K = %0.3f (Error in textbook)',Kb);\n",
""
   ]
   }
,
{
		   "cell_type": "markdown",
		   "metadata": {},
		   "source": [
			"## Example 15.3: EQUILIBRIUM_CONSTANT_AT_GIVEM_TEMPERATURE.sce"
		   ]
		  },
  {
"cell_type": "code",
	   "execution_count": null,
	   "metadata": {
	    "collapsed": true
	   },
	   "outputs": [],
"source": [
"clc;\n",
"T0=298; // Temperature of surroundings in kelvin\n",
"R_1=8.314; // Universal gas constant in kJ/kg mol K\n",
"T=2800; // Given Temperature in kelvin\n",
"// From table of properties of combustion\n",
"del_hfco2=-393509; // Enthalpy of heat \n",
"del_hfco=-110525; // Enthalpy of heat \n",
"del_H=del_hfco2-del_hfco; // Standard enthalpy of reaction\n",
"Ka=1.229D+45; // The equilibrium constant From the example 15.2\n",
"K1=log (Ka);\n",
"K=exp(-(del_H/R_1)*((1/T)-(1/T0))+K1);\n",
"disp (K,'K =');"
   ]
   }
,
{
		   "cell_type": "markdown",
		   "metadata": {},
		   "source": [
			"## Example 15.5: ACTUAL_COMBUSTION_OF_CO.sce"
		   ]
		  },
  {
"cell_type": "code",
	   "execution_count": null,
	   "metadata": {
	    "collapsed": true
	   },
	   "outputs": [],
"source": [
"clc;\n",
"T=2800; // Temperature of combustion in kelvin\n",
"p=1; // Pressure of combustion in atm\n",
"// For this reverse reaction at 2800K and 1atm, from Table 15.1\n",
"K=44.168; // K=e^3.788;\n",
"K=sqrt (K); // For stoichiometric equation CO+1/2 O2 = CO2 which is halved\n",
"// From equation 15.24a and by the iteration process we get the following\n",
"a=0.198;\n",
"b=(1+a)/2;\n",
"c=1-a;\n",
"disp (c,b,a,'The balance for the actual reaction equation CO + O2 → aCO + bO2 + cCO2 is given by ');"
   ]
   }
,
{
		   "cell_type": "markdown",
		   "metadata": {},
		   "source": [
			"## Example 15.6: EFFECT_OF_PLEASURE_ON_OBTAINING_COMPLETE_COMBUSTION.sce"
		   ]
		  },
  {
"cell_type": "code",
	   "execution_count": null,
	   "metadata": {
	    "collapsed": true
	   },
	   "outputs": [],
"source": [
"clc;\n",
"// By driving the equation for equilibrium constant as shown in example 15.6 we get 6.646(6)^(1/6)=((1-a)/a)((3+a)/(1+a))^1/2\n",
"// by simple iteration process we get\n",
"a=0.095;\n",
"b=(1+a)/2;\n",
"c=1-a;\n",
"disp ('mol',c,'The equilibrium composition of CO2 = ','mol',b,'The equilibrium composition of O2 = ','mol',a,'The equilibrium composition of CO = ');"
   ]
   }
,
{
		   "cell_type": "markdown",
		   "metadata": {},
		   "source": [
			"## Example 15.7: EFFECT_OF_INERT_GAS_N2_IN_COMBUSTION.sce"
		   ]
		  },
  {
"cell_type": "code",
	   "execution_count": null,
	   "metadata": {
	    "collapsed": true
	   },
	   "outputs": [],
"source": [
"clc;\n",
"T=2800; // Temperature of combustion in kelvin\n",
"p=1; // Pressure of combustion in atm\n",
"// For this reverse reaction at 2800K and 1atm, from Table 15.1\n",
"K=44.168; // K=e^3.788;\n",
"K=sqrt (K); // For stoichiometric equation CO+1/2 O2 = CO2 which is halved\n",
"// From equation 15.24a and by the iteration process we get the following\n",
"a=0.302;\n",
"b=(1+a)/2;\n",
"c=1-a;\n",
"disp (c,b,a,'The balance for the actual reaction equation CO + 1/2O2 + 1.88N2 ↔ aCO + bO2 + cCO2 +3.76N2 is given  by ');"
   ]
   }
,
{
		   "cell_type": "markdown",
		   "metadata": {},
		   "source": [
			"## Example 15.8: FORMATION_OF_NITROGEN_OXIDES_Nox_IN_IC_ENGINES.sce"
		   ]
		  },
  {
"cell_type": "code",
	   "execution_count": null,
	   "metadata": {
	    "collapsed": true
	   },
	   "outputs": [],
"source": [
"clc;\n",
"T=3000; // Temperature of combustion in kelvin\n",
"p=1; // Pressure of combustion in atm\n",
"T0=298; // Temperature of surroundings in kelvin\n",
"R_1=8.314; // Universal gas constant in kJ/kg mol K\n",
"// Gibbs functions at 298K from Table 14.1\n",
"del_gNO=86550; // In kJ/kmol\n",
"del_gNO2=51310; // In kJ/kmol\n",
"// From table of properties of combustion\n",
"del_hfNO=90250; // Enthalpy of heat \n",
"del_hfNO2=33180; // Enthalpy of heat \n",
"K1=exp (-(del_hfNO/R_1)*((1/T)-(1/T0))-((del_gNO)/(R_1*T0)));\n",
"K2=exp (-(del_hfNO2/R_1)*((1/T)-(1/T0))-((del_gNO2)/(R_1*T0)));\n",
"// By solving equilibrium equations by iteration method\n",
"E1=0.228; E2=0.0007;\n",
"yNO=E1/4.76; // Mole fraction of NO in exhaust gas\n",
"yNO2=E2/4.76; // Mole fraction of NO2 in exhaust gas\n",
"disp ('%',yNO2*100,'Mole fraction of NO2 in exhaust gas = ','%',yNO*100,'Mole fraction of NO in exhaust gas = ','Percentage of NOx present in the exhaust gas ');"
   ]
   }
],
"metadata": {
		  "kernelspec": {
		   "display_name": "Scilab",
		   "language": "scilab",
		   "name": "scilab"
		  },
		  "language_info": {
		   "file_extension": ".sce",
		   "help_links": [
			{
			 "text": "MetaKernel Magics",
			 "url": "https://github.com/calysto/metakernel/blob/master/metakernel/magics/README.md"
			}
		   ],
		   "mimetype": "text/x-octave",
		   "name": "scilab",
		   "version": "0.7.1"
		  }
		 },
		 "nbformat": 4,
		 "nbformat_minor": 0
}
