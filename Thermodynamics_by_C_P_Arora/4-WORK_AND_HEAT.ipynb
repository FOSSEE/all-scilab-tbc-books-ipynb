{
"cells": [
 {
		   "cell_type": "markdown",
	   "metadata": {},
	   "source": [
       "# Chapter 4: WORK AND HEAT"
	   ]
	},
{
		   "cell_type": "markdown",
		   "metadata": {},
		   "source": [
			"## Example 4.10: ECONOMISER_SURFACE_AREA.sce"
		   ]
		  },
  {
"cell_type": "code",
	   "execution_count": null,
	   "metadata": {
	    "collapsed": true
	   },
	   "outputs": [],
"source": [
"clc;\n",
"Tc1=10; // Feed water inlet temperature in degree celcius\n",
"Tc2=77; // Feed water outlet temperature in degree celcius\n",
"th1=166; // Initial temperature of flue gas in degree celcius\n",
"r=4; // Ratio of mass flow rates of flue gases and water\n",
"Ch=1.05; // The specific heat of flue gas in kJ/kg K\n",
"Cc=4.187; // The specific heat of feed water in kJ/kg K\n",
"U=114; // Overall heat transfer coefficient in W/m^2\n",
"mc=1; // massflowrate of feed water in kg/s\n",
"th2=th1-((Cc*(Tc2-Tc1))/(r*Ch)); // Outlet temperature of flue gas in degree celcius\n",
"Q=mc/3600*Cc*(Tc2-Tc1); // Heat transfer rate per kg/h of water flow\n",
"// Parallel flow    \n",
"del_Tm=((th1-Tc1)-(th2-Tc2))/log ((th1-Tc1)/(th2-Tc2)); // Logarthamic Mean Temperature Difference in degree celcius\n",
"A=Q*10^3/(U*del_Tm); // Economiser surface area\n",
"disp ('degree celcius',del_Tm,'Logarthamic Mean Temperature Difference=',' (a)Parallel flow');\n",
"disp ('m^2',A,'Economiser surface area =');\n",
"// Counter flow\n",
"del_Tm=((th1-Tc2)-(th2-Tc1))/log ((th1-Tc2)/(th2-Tc1)); // Logarthamic Mean Temperature Difference in degree celcius\n",
"A=Q*10^3/(U*del_Tm); // Economiser surface area\n",
"disp ('degree celcius',del_Tm,'Logarthamic Mean Temperature Difference=',' (b) Counter flow');\n",
"disp ('m^2',A,'Economiser surface area =');"
   ]
   }
,
{
		   "cell_type": "markdown",
		   "metadata": {},
		   "source": [
			"## Example 4.1: CALCULATION_OF_WORKDONE_DURING_POLYTROPIC_PROCESS.sce"
		   ]
		  },
  {
"cell_type": "code",
	   "execution_count": null,
	   "metadata": {
	    "collapsed": true
	   },
	   "outputs": [],
"source": [
"clc;\n",
"p1=5; // Pressure of Helium gas at initial state in bar\n",
"T1=222; // Temperature of Helium gas at initial state in K\n",
"V1=0.055; // Volume of Helium gas at initial state in m^3\n",
"n=1.5; // Index of expansion process\n",
"R=2.078;// Characteristic gas constant of Helium gas in kJ/kg K\n",
"p2=2; // Pressure of Helium gas at final state (after expansion) in bar\n",
"disp ('Method I');\n",
"V2=V1*(p1/p2)^(1/n);// From Polytropic process relation for final volume\n",
"W=((p2*10^2*V2)-(p1*10^2*V1))/(n-1); // Work done from Polytropic process relation\n",
"disp ('kJ',W,'Work done =');\n",
"disp ('Method II');\n",
"m=(p1*10^2*V1)/(R*T1); // ideal gas equation\n",
"T2=T1*(p2/p1)^((n-1)/n); // From Polytropic process relation of final temperature\n",
"W=(m*R*(T1-T2))/(1-n); // Work done from Polytropic process relation\n",
"disp ('kJ',W,'Work done =');"
   ]
   }
,
{
		   "cell_type": "markdown",
		   "metadata": {},
		   "source": [
			"## Example 4.3: CALCULATION_OF_WORKDONE.sce"
		   ]
		  },
  {
"cell_type": "code",
	   "execution_count": null,
	   "metadata": {
	    "collapsed": true
	   },
	   "outputs": [],
"source": [
"clc;\n",
"p1=1.3; // Initial pressure of gas in bar\n",
"V1=0.03; // Initial volume of gas in m^3\n",
"V2=0.1; // Final volume of gas in m^3\n",
"disp ('(a).Constant pressure process');\n",
"W=p1*10^2*(V2-V1); // work done by gas\n",
"disp('kJ',W,'work done by gas =');\n",
"disp ('(b).Constant Temperature process');\n",
"W=p1*10^2*V1*log(V2/V1);// Work done by gas\n",
"disp('kJ',W,'work done by gas =');\n",
"disp ('(c).polytropic process of index 1.3');\n",
"n=1.3; //index of polytropic process \n",
"p2=p1*(V1/V2)^n; // From Polytropic process relation for final pressure\n",
"W=((p2*10^2*V2)-(p1*10^2*V1))/(1-n); // Work done by gas\n",
"disp('kJ',W,'work done by gas =');"
   ]
   }
,
{
		   "cell_type": "markdown",
		   "metadata": {},
		   "source": [
			"## Example 4.4: FREE_EXPANSION_OF_FREON_12.sce"
		   ]
		  },
  {
"cell_type": "code",
	   "execution_count": null,
	   "metadata": {
	    "collapsed": true
	   },
	   "outputs": [],
"source": [
"clc;\n",
"patm=1; // Atmospheric pressure in bar\n",
"V1=0.0135; // Volume of Freon 12 at initial state in m^3\n",
"D=9; // Diameter of the cylinder in cm\n",
"m=90; // Mass of the piston in kg\n",
"g=9.80665; // acceleration due to gravity in m/s^2\n",
"// (a). Determination of the final pressure and volume of the system\n",
"A=%pi/4 * (D*10^-2)^2; // Area of the cylinder\n",
"p1=0.7449; // Initial pressure of saturated vapour at 30 degree celcius in MPa\n",
"v1=0.023508; // Initial specific volume of saturated vapour at 30 degree celcius in m^3/kg\n",
"p2=(patm*10^5)+(m*g)/A; // Final pressure of Freon 12\n",
"v2=0.084022; // Final specific volume from superheated table at p2 and 30 degree celcius in m^3/kg\n",
"mf=V1/v1; // Mass of Freon 12\n",
"V2=mf*v2; // Final volume of Freon 12\n",
"disp ('Pa',p2,'Final pressure = ','(a)');\n",
"disp ('m^3   (round off error)',V2,'Final volume = ');\n",
"// (b). Calculation of workdone by Freon 12 during this process\n",
"Wirrev=p2*(V2-V1);  // P dv Work done \n",
"disp ('kJ   (round off error)',Wirrev/1000,'Work done = ','(b)');\n",
"// (c). Calculation of workdone by Freon 12 during reversible process\n",
"Wrev=p1*10^6*V1*log (V2/V1);//From reversible process relation for work done\n",
"disp ('kJ   (round off error)',Wrev/1000,'Work done in reveersible process = ','(c)');"
   ]
   }
,
{
		   "cell_type": "markdown",
		   "metadata": {},
		   "source": [
			"## Example 4.5: CALCULATION_OF_POWER_AND_CLEARENCE_VOLUMETRIC_EFFICIENCY.sce"
		   ]
		  },
  {
"cell_type": "code",
	   "execution_count": null,
	   "metadata": {
	    "collapsed": true
	   },
	   "outputs": [],
"source": [
"clc;\n",
"p1=0.1; // Initial pressure (before compression) of air in MPa\n",
"T1=30; // Initial temperature (before compression) of air in degree celcius\n",
"p2=0.9; // Final pressure (after compression) of air in MPa\n",
"R=0.287; // Characteristic constant of air in kJ/kg k\n",
"// (i) Actual work in the flow process\n",
"// (a).Isothermal Process\n",
"w=-R*(T1+273)*log (p2/p1); // work done for isothermal process\n",
"disp ('kJ/kg',w,'work done = ','(a).Isothermal Process','(i) Actual work in the flow process');\n",
"// (b).Polytropic process\n",
"n=1.4; // Index of polytropic process\n",
"T2=(T1+273)*(p2/p1)^((n-1)/n); // From Polytropic process relation for final temperature\n",
"w=(n/(1-n))*R*(T2-(T1+273)); // work done for polytropic process\n",
"disp ('kJ/kg',w,'compression work = ','(b).Polytropic process');\n",
"// (ii).Nonflow work\n",
"// (a).Isothermal Process\n",
"w=-R*(T1+273)*log (p2/p1); // work done for isothermal process\n",
"disp ('kJ/kg',w,'work done = ','(a).Isothermal Process','(ii).Nonflow work');\n",
"// (b).Polytropic process\n",
"w=(1/(1-n))*R*(T2-(T1+273));// work done for polytropic process\n",
"disp ('kJ/kg',w,'compression work = ','(b).Polytropic process');"
   ]
   }
,
{
		   "cell_type": "markdown",
		   "metadata": {},
		   "source": [
			"## Example 4.6: WORK_OF_COMPRESSION.sce"
		   ]
		  },
  {
"cell_type": "code",
	   "execution_count": null,
	   "metadata": {
	    "collapsed": true
	   },
	   "outputs": [],
"source": [
"clc;\n",
"p1=1; // Initial pressure (before compression) of air in bar\n",
"p2=8; // Final pressure (after compression) of air in bar\n",
"Vp=15; // Displacement volume of reciprocating air compressor in litres\n",
"Vc=0.05*Vp; // Clearance volume of reciprocating air compressor in litres\n",
"N=600; // Speed of compressor in rpm\n",
"V1=Vc+Vp; // Total volume of reciprocating air compressor in litres\n",
"p3=p2; // constant pressure process\n",
"p4=p1; // constant pressure process\n",
"V3=Vc;// Clearance volume of reciprocating air compressor in litres\n",
"n=1.3; // Index of reversible adiabatic compression process\n",
"m=1.4; // Index of reversible adiabatic expansion process\n",
"V4=V3*(p3/p4)^(1/m);\n",
"// (a).Work per machine cycle\n",
"Wcycle = ((n/(n-1))*p1*10^2*V1*10^-3*(1-(p2/p1)^((n-1)/n)))-((m/(m-1))*p4*10^2*V4*10^-3*(1-(p3/p4)^((m-1)/m))); // Work per machine cycle\n",
"disp ('kJ',Wcycle,'Work per machine cycle (Error in textbook)','(a)');\n",
"Wpower=abs (Wcycle)*(N/60); // Power consumption of the compressor\n",
"disp ('kW',Wpower,'Power consumption of the compressor');\n",
"// (b).Work of the cycle if m=n\n",
"m=n;\n",
"W_cycle=(n/(n-1))*p1*10^2*(V1-V4)*10^-3*(1-(p2/p1)^((n-1)/n)); // Work per machine cycle\n",
"disp ('kJ',W_cycle,'Work per machine cycle','(b)');\n",
"er=((W_cycle-Wcycle)/Wcycle) * 100 // Error involved in calculating work if m=n\n",
"disp ('%',er,'Error (Error in textbook)= ');\n",
"// (c).Clearance volumetric efficiency\n",
"C=Vc/Vp;\n",
"eff = 1+C+-C*(p2/p1)^(1/n); // Clearance volumetric efficiency\n",
"disp ('%',eff*100,'Clearance volumetric efficiency = ','(c).Clearance volumetric efficiency');\n",
""
   ]
   }
,
{
		   "cell_type": "markdown",
		   "metadata": {},
		   "source": [
			"## Example 4.7: WORK_OF_STEAM_ENGINE.sce"
		   ]
		  },
  {
"cell_type": "code",
	   "execution_count": null,
	   "metadata": {
	    "collapsed": true
	   },
	   "outputs": [],
"source": [
"clc;\n",
"D=150; // Cylinder Diameter in mm\n",
"L=200; // Piston stroke in mm\n",
"C=0.05; // Clearance factor\n",
"p1=15; // Steam inlet conditions (saturated) in bar\n",
"p4=1; // Exhaust or back pressure in bar\n",
"p2=p1; // Constant pressure process\n",
"p5=p4; // Constant pressure process\n",
"Vp=(%pi*(D*10^-3)^2*L*10^-3)/4; // Swept volme of cylinder\n",
"Vc=C*Vp; // Clearance volume of cylinder\n",
"V3=Vc+Vp; // Total volume of cylinder\n",
"V1=Vc; // Clearance volume\n",
"V6=V1; // constant volume process\n",
"V4=V3; // constant volume process\n",
"V5=Vc+0.3*Vp; // Compression begins at 30% of stroke\n",
"V2=Vc+0.4*Vp; // Cut-off occurs at 40% of stroke\n",
"p6=p5*(V5/V6); // Pressure after compression\n",
"Wcycle=(p1*10^2*(V2-V1))+(p2*10^2*V2*log (V3/V2))-(p4*10^2*(V4-V5))-(p5*10^2*V5* log(V5/V6)); // Work per Cycle\n",
"disp('kJ',Wcycle,'Work per cycle =');"
   ]
   }
,
{
		   "cell_type": "markdown",
		   "metadata": {},
		   "source": [
			"## Example 4.8: INDICATOR_WORK.sce"
		   ]
		  },
  {
"cell_type": "code",
	   "execution_count": null,
	   "metadata": {
	    "collapsed": true
	   },
	   "outputs": [],
"source": [
"clc;\n",
"D=10; //Bore in cm\n",
"L=12.5; //Stroke length in cm\n",
"a=9.68; // Area of indicator card in cm^2\n",
"l=5.33; // Card length in cm\n",
"Ks=21.7; // Indicator spring constant per meter of card length\n",
"A=(%pi*(D*10^-2)^2)/4; // Area of pisaton\n",
"Pm=(a/l)*10^-2*Ks*10^6; // Mean effective pressure\n",
"W=Pm*A*L*10^-2; // Work done by cycle\n",
"disp('kJ',W,'Work done by cycle = ');"
   ]
   }
,
{
		   "cell_type": "markdown",
		   "metadata": {},
		   "source": [
			"## Example 4.9: DOUBLE_ACTING_STEAM_ENGINE.sce"
		   ]
		  },
  {
"cell_type": "code",
	   "execution_count": null,
	   "metadata": {
	    "collapsed": true
	   },
	   "outputs": [],
"source": [
"clc;\n",
"D=152; // Bore of steam engine in mm\n",
"l=89; // Stroke length of steam engine in mm\n",
"a1=8;a2=10; // area of indicatior diagram on two sides\n",
"Ks=50; // Indicator spring constant in lbf/in^2/in\n",
"N=310; // Engine speed in rpm\n",
"d=0.664; // Diameter of flywheel in m\n",
"// (a)\n",
"a=(a1+a2)/2; // Average area of indicator diagram\n",
"Ks=50*4.44822/(0.0254)^3; // Unit conversion from lbf/in^2/in to N/m^2\n",
"pm=(a/(l/10))*10^-2*Ks; // Mean effective pressure \n",
"A=(%pi*(D*10^-3)^2)/4; // Area of the piston\n",
"IP=2*pm*l*10^-3*A*N/60; // Indicated power\n",
"disp ('kW',IP/1000,'Indicated power of Engine =','(a)');\n",
"// (b)\n",
"F=12-1.5; // Tangential force on the brake drum in kgf\n",
"BP=F*9.81*d/2*2*%pi*N/60; // Brake power of Engine\n",
"eff=BP/IP *100 ; // Mechanical efficiency \n",
"disp ('kW',BP/1000,'Brake power of Engine = ','(b)');\n",
"disp ('%',eff,'Mechanical efficiency of Engine =');"
   ]
   }
],
"metadata": {
		  "kernelspec": {
		   "display_name": "Scilab",
		   "language": "scilab",
		   "name": "scilab"
		  },
		  "language_info": {
		   "file_extension": ".sce",
		   "help_links": [
			{
			 "text": "MetaKernel Magics",
			 "url": "https://github.com/calysto/metakernel/blob/master/metakernel/magics/README.md"
			}
		   ],
		   "mimetype": "text/x-octave",
		   "name": "scilab",
		   "version": "0.7.1"
		  }
		 },
		 "nbformat": 4,
		 "nbformat_minor": 0
}
