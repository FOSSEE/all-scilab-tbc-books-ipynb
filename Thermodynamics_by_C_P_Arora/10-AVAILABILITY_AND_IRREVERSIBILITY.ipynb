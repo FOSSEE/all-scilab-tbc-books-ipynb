{
"cells": [
 {
		   "cell_type": "markdown",
	   "metadata": {},
	   "source": [
       "# Chapter 10: AVAILABILITY AND IRREVERSIBILITY"
	   ]
	},
{
		   "cell_type": "markdown",
		   "metadata": {},
		   "source": [
			"## Example 10.10: FIRST_AND_SECOND_LAW_EFFICIENCY.sce"
		   ]
		  },
  {
"cell_type": "code",
	   "execution_count": null,
	   "metadata": {
	    "collapsed": true
	   },
	   "outputs": [],
"source": [
"clc;\n",
"// State after reversible adiabatic expansion\n",
"p2=50; // pressure in kPa\n",
"s2s=6.4844; s1=6.4844; s2=6.944; // specific entropy in kJ/kg K\n",
"x2s=0.829; // Quality of steam \n",
"h2s=2252.6; h1=3256.6; // specific enthalpy in kJ/kg \n",
"T2=81.33; T0=27; // Temperature in degree celcius\n",
"ws=h1-h2s; // Reversible adiabatic work\n",
"wa=831.2; // Actual work output in kJ/kg\n",
"d_AE=979.1; // Decrease in availability in kJ/LG\n",
"eff_I=wa/ws; // First law efficiency of turbine\n",
"eff_II=wa/d_AE; // Second law efficiency of turbine\n",
"disp ('%',eff_II*100,'Second law efficiency of turbine = ','%',eff_I*100,'First law efficiency of turbine = ');\n",
"w2srev2=(T2-T0)*(s2-s1); // Negative work\n",
"w1rev2=ws-w2srev2; // Decrease in availability\n",
"disp ('kJ/kg',w1rev2,'Dcresase in Availability =  ','kJ/kg',w2srev2,'Negative work = ');"
   ]
   }
,
{
		   "cell_type": "markdown",
		   "metadata": {},
		   "source": [
			"## Example 10.11: AIR_COMPRESSOR.sce"
		   ]
		  },
  {
"cell_type": "code",
	   "execution_count": null,
	   "metadata": {
	    "collapsed": true
	   },
	   "outputs": [],
"source": [
"clc;\n",
"p1=100; // Pressure at inlet in kPa\n",
"T1=30; // Temperature at inlet in degree celcius\n",
"V1=0; // Velocity at inlet in m/s\n",
"p2=350; // Pressure at outlet in kPa\n",
"T2=141; // Temperature at exit in degree celcius\n",
"V2=90; // Velocity at exit in m/s\n",
"p0=100; // Pressure of Surroundings in kPa\n",
"T0=30; // temperature of Surroundings in degree celcius\n",
"k=1.4; // Index of the Isentropic compression process\n",
"Cpo=1.0035; // Specific heat at constant pressure in kJ/kg K\n",
"R=0.287; // characteristic gas constant of air in kJ/kg K\n",
"// (a).Adiabatic or polytropic compression\n",
"T2s=(T1+273)*(p2/p1)^((k-1)/k); // Temperature after isentropic compression\n",
"disp ('T2s>T2. Hence there is cooling . Compression is polytropic.','K',T2s,'Temperature after isentropic compression =', '(a).Adiabatic or polytropic compression');\n",
"// (b).The first law efficiency of the compressor\n",
"wa=Cpo*(T1-T2)-V2^2/2000; //Actual work of compression\n",
"wT=(-R*(T1+273)*log (p2/p1))-(V2^2/2000); // Isothermal work\n",
"eff_Ilaw=wT/wa; // The first law efficiency of the compressor\n",
"disp ('%',eff_Ilaw,'(b).The first law efficiency of the compressor = ');\n",
"// (c).Minimum work input & Irreversibility\n",
"d_AE=(Cpo*(T1-T2))+((T0+273)*((R*log (p2/p1))-(Cpo*log ((T2+273)/(T1+273)))))-V2^2/2000; // decrease in availability\n",
"wmin=d_AE; // Minimum work input\n",
"wrev=wmin;\n",
"I=wrev-wa; // Irreversibility\n",
"disp ('kJ/kg',I,'Irreversibility =','kJ/kg',wmin,'Minimum work input =','(c).Minimum work input & Irreversibility');\n",
"// (d).Second law efficiency of the compressor\n",
"eff_IIlaw=wmin/wa; // Second law efficiency of the compressor\n",
"disp ('%',eff_IIlaw*100,'(d).Second law efficiency of the compressor =');\n",
""
   ]
   }
,
{
		   "cell_type": "markdown",
		   "metadata": {},
		   "source": [
			"## Example 10.12: LOST_WORK_AND_SECOND_LAW_EFFICIENCY_OF_VAPOUR_COMPRESSOR_CYCLE.sce"
		   ]
		  },
  {
"cell_type": "code",
	   "execution_count": null,
	   "metadata": {
	    "collapsed": true
	   },
	   "outputs": [],
"source": [
"clc;\n",
"T0=313; // Surroundings temperature in kelvin\n",
"TL=233; // Refrigerated space temperature in kelvin\n",
"QL=3.5167; // Refrigeration load in kW\n",
"// (a).Carnot cycle\n",
"COPcarnot=TL/(T0-TL); // COP of carnot cycle\n",
"Wcarnot=QL/COPcarnot; // Work done\n",
"Q0=QL+Wcarnot; // Heat rejected\n",
"d_SL=-QL/TL;//  Entropy change of refrigerated space\n",
"d_S0=Q0/T0; //Entropy change of surroundings\n",
"d_Sgen= d_SL+ d_S0; // Entropy generation\n",
"disp (COPcarnot,'COP of carnot cycle = ','kW',Wcarnot,'Work done = ','(a).Carnot cycle');\n",
"printf (' \n Entropy generation = %d  \n \n kJ/K s \n',d_Sgen);\n",
"// (b).Vapour compression cycle\n",
"// From Freon-12 property table & figure 10.17\n",
"p1=0.0642; p2=0.9607; // Pressure in MPa\n",
"h1=169.5; h3=74.5; // specific enthalpy in kJ/kg \n",
"s1=0.7269; s3=0.2716;// specific entropy in kJ/kg K\n",
"// By calculations s2=s1 gives the following from property table\n",
"t2=58.9; // Temperature in degree celcius\n",
"h2=217.6; // specific enthalpy in kJ/kg \n",
"// From h4=h3 gives the following from chart\n",
"h4=h3;\n",
"x4=0.44; // Quality of vapour\n",
"s4=0.3195;// specific entropy in kJ/kg K\n",
"m=QL/(h1-h4); // Mass flow rate of refrigerant\n",
"W=m*(h2-h1); // Work done of vapour compression cycle\n",
"COP=QL/W; // COP of vapour compression cycle\n",
"QH=QL+W; // Heat rejected to surroundings\n",
"d_SL=-QL/TL;//  Entropy change of refrigerated space\n",
"d_S0=QH/T0; //Entropy change of surroundings\n",
"d_Sgen= d_SL+ d_S0; // Entropy generation\n",
"disp (COP,'COP of vapour compression cycle = ','kW',W,'Work done = ','(b).Vapour compression cycle');\n",
"printf (' \n Entropy generation = %f \n \n kJ/K s \n',d_Sgen);\n",
"// (c).Difference in work = Lost work of the cycle\n",
"d_work=W-Wcarnot; // Difference in work\n",
"LWcycle=QH-T0*QL/TL; // Lost work of the cycle\n",
"disp ('which is same as Difference in work','kW',LWcycle,'Lost work of the cycle= ','kW',d_work,'Difference in work = ','(c).Difference in work = Lost work of the cycle');\n",
"// (d).Second Law efficiency of the vapour compression cycle\n",
"eff_II=COP/COPcarnot; //Second Law efficiency\n",
"disp ('%',eff_II*100,'(d).Second Law efficiency of the vapour compression cycle = ');"
   ]
   }
,
{
		   "cell_type": "markdown",
		   "metadata": {},
		   "source": [
			"## Example 10.1: AVAILABLE_ENERGY.sce"
		   ]
		  },
  {
"cell_type": "code",
	   "execution_count": null,
	   "metadata": {
	    "collapsed": true
	   },
	   "outputs": [],
"source": [
"clc;\n",
"m=100; // Mass of water in kg\n",
"T0=90; // Initial temperature of water in degree celcius\n",
"T=30; // temperature of Surroundings in degree celcius\n",
"C=4.1868; // Specific heat in kJ/kg K\n",
"AE=m*C*((T0-T)-(T+273)*log ((T0+273)/(T+273))); // Available energy\n",
"Q=m*C*(T0-T); // Heat supplied\n",
"UE=Q-AE; // Unavailable energy\n",
"disp ('kJ',AE,'Available energy =');\n",
"disp ('kJ',UE,'Unavailable energy = ','kJ',Q,'Heat supplied = ');"
   ]
   }
,
{
		   "cell_type": "markdown",
		   "metadata": {},
		   "source": [
			"## Example 10.2: LOSS_OF_AE_DURING_HEAT_TRANSFER_IN_A_BOILER.sce"
		   ]
		  },
  {
"cell_type": "code",
	   "execution_count": null,
	   "metadata": {
	    "collapsed": true
	   },
	   "outputs": [],
"source": [
"clc;\n",
"T=250; // Evaporation teemperature of water in degree celcius\n",
"Ta=1250; // Initial temperature of combustion gas in degree celcius\n",
"Tb=350; // Final temperature of combustion gas in degree celcius\n",
"C=1.08; // Specific heat of gas in kJ/kg K\n",
"T0=30; // temperature of Surroundings in degree celcius\n",
"hfg=1716.2; // Enthalpy of evaporation at T temperature\n",
"del_SH2O=hfg/(T+273); // Entropy change of water\n",
"mgas=hfg/(C*(Ta-Tb)); // Mass of gas\n",
"del_Sgas=mgas*C*log ((Tb+273)/(Ta+273)); // Enthalpy change of gas\n",
"del_Stotal=del_SH2O+del_Sgas; // Total entropy change\n",
"l_AE=(T0+273)*del_Stotal; // Loss of available energy\n",
"disp ('kJ',l_AE,'Loss of available energy = ');"
   ]
   }
,
{
		   "cell_type": "markdown",
		   "metadata": {},
		   "source": [
			"## Example 10.3: STEAM_POWER_PLANT.sce"
		   ]
		  },
  {
"cell_type": "code",
	   "execution_count": null,
	   "metadata": {
	    "collapsed": true
	   },
	   "outputs": [],
"source": [
"clc;\n",
"Cp=1.1; // Specific heat of combustion gas in kJ/kg K\n",
"T3=1600; // Initial temperature of combustion gas in Kelvin\n",
"T4=1150; // Final temperature of combustion gas in Kelvin\n",
"p1=0.1; // Pressure at inlet of boiler in MPa\n",
"p2=8;// Pressure at outlet of boiler in MPa\n",
"T2=600; // Temperature at outlet of boiler in degree celcius\n",
"m=1; // Mass of water in kg\n",
"T0=298; // temperature of Surroundings in kelvin\n",
"// (b).mass flow rate of gases per kg of water\n",
"// From steam table \n",
"h1=2758; h2=3642;// specific enthalpy in kJ/kg \n",
"s1=5.7432; s2=7.0206; // specific entropy in kJ/kg K\n",
"mgas=(h2-h1)/(Cp*(T3-T4)); //mass flow rate of gases per kg of water\n",
"disp ('kg gas / kg water',mgas,'(b).mass flow rate of gases per kg of water =');\n",
"// (c). Degrease in Available energy\n",
"S21=s2-s1; // Change in entropy of water\n",
"S34=mgas*Cp*log (T3/T4); // Change in entropy of gases\n",
"UEgases=T0*S34; // UnAvailable energy of gas\n",
"UEsteam=T0*S21; // UnAvailable energy of steam\n",
"d_AE=UEsteam-UEgases; // Degrease in Available energy\n",
"disp ('kJ/K',-S34,'Change in entropy of gas = ','kJ/K',S21,'Change in entropy of water = ','(c).');\n",
"disp ('kJ',UEsteam,'Unavailable energy of steam =','kJ',UEgases,'Unavailable energy of gas = ');\n",
"disp ('kJ',d_AE,' Degrease in Available energy = ');"
   ]
   }
,
{
		   "cell_type": "markdown",
		   "metadata": {},
		   "source": [
			"## Example 10.5: AVAILABLE_ENERGY_IN_EXHAUST_GAS.sce"
		   ]
		  },
  {
"cell_type": "code",
	   "execution_count": null,
	   "metadata": {
	    "collapsed": true
	   },
	   "outputs": [],
"source": [
"clc;\n",
"T=700;// Exhaust gas temperature in degree celcius\n",
"p=120;// Exhaust gas pressure in kPa\n",
"Cpo=1.089; // Specific heat at constant pressure in kJ/kg K\n",
"R=0.287; // characteristic gas constant  in kJ/kg K\n",
"p0=100; // Pressure of Surroundings in kPa\n",
"T0=30; // temperature of Surroundings in degree celcius\n",
"Cvo=Cpo-R;  // Specific heat at constant volume\n",
"AE=(Cvo*(T-T0))+(p0*R*((T+273)/p-(T0+273)/p0))-((T0+273)*((Cpo*log((T+273)/(T0+273)))-(R*log (p/p0)))); // Available energy\n",
"disp ('kJ',AE,'Available energy in Exhaust gas =');"
   ]
   }
,
{
		   "cell_type": "markdown",
		   "metadata": {},
		   "source": [
			"## Example 10.6: IRREVERSIBILITY_OF_THE_PROCESS.sce"
		   ]
		  },
  {
"cell_type": "code",
	   "execution_count": null,
	   "metadata": {
	    "collapsed": true
	   },
	   "outputs": [],
"source": [
"clc;\n",
"p1=450; // Initial pressure in kPa\n",
"T=600; // Initial temperature in kelvin\n",
"V1=0.01; // Initial volume in m^3\n",
"TR=1200; // Temperature of heat source in Kelvin\n",
"V2=0.02; // Final volume in m^3\n",
"p0=100; // Pressure of Surroundings in kPa\n",
"T0=300; // temperature of Surroundings in kelvin\n",
"// Useful Work\n",
"W=p1*V1*log (V2/V1); // Actual work\n",
"Wsurr=p0*(V2-V1); // Surrounding work\n",
"Wu=W-Wsurr; // Useful work\n",
"disp ('kJ',Wu,'Useful Work for the process =');\n",
"// Reversible work\n",
"Q=W; // For isothermal process\n",
"S21=Q/T; // Entropy change of system\n",
"Wrev=T0*S21-Wsurr+Q*(1-T0/TR); // reversible work\n",
"disp ('kJ',Wrev,'Reversible work for the provess =');\n",
"// Irreversibility of the process\n",
"I=Wrev-Wu; // Irreversibility\n",
"disp ('kJ',I,'Irreversibility of the process = ');\n",
"// Entropy generation \n",
"del_Sgen=S21-Q/TR;//Entropy generation\n",
"disp ('kJ/kg',del_Sgen,'Entropy generation of the process = ');"
   ]
   }
,
{
		   "cell_type": "markdown",
		   "metadata": {},
		   "source": [
			"## Example 10.7: IRREVERSIBILITY_IN_TURBINE_AND_COMPRESSOR.sce"
		   ]
		  },
  {
"cell_type": "code",
	   "execution_count": null,
	   "metadata": {
	    "collapsed": true
	   },
	   "outputs": [],
"source": [
"clc;\n",
"// (i).Irreversibility in Turbine\n",
"p1=9; // Steam pressure at turbine inlet in MPa\n",
"T1=450; // Steam temperature at turbine inlet in degree celcius\n",
"p2=50; // Steam pressure at turbine outlet in MPa\n",
"x2=0.95; // Quality of steam \n",
"p0=100; // Pressure of Surroundings in kPa\n",
"T0=300; // temperature of Surroundings in kelvin\n",
"q=-10; // Heat loss in kJ/kg\n",
"// (a).Decrease in availability\n",
"// from steam table\n",
"h1=3256.6; h2=2415.4;// specific enthalpy in kJ/kg \n",
"s1=6.4844; s2=6.944; // specific entropy in kJ/kg K\n",
"d_AE=(h1-h2)-(T0*(s1-s2)); // Decrease in availability\n",
"disp ('kJ/kg',d_AE,'(a).Decrease in availability =','(i).Irreversibility in turbine');\n",
"// (b).Maxximum work output\n",
"wrev=d_AE; //Maxximum work output\n",
"disp ('kJ/kg',wrev,'(b).Maxximum work output =');\n",
"// (c).Actual work output \n",
"w=(h1-h2)+q; // From SSSF energy equation\n",
"disp ('kJ/kg',w,'(c).Actual work output  = ');\n",
"// (d).Irreversibility\n",
"I=wrev-w; //Irreversibility\n",
"disp ('kJ/kg',I,'(d).Irreversibility = ');\n",
"// (ii).Ammonia compressor\n",
"T1=-10; // Temperature at inlet in degree celcius\n",
"p2=1.554; // Pressure at outlet in MPa\n",
"T2=140; // Temperature at outlet in degree celcius\n",
"T0=298; // temperature of Surroundings in kelvin\n",
"//from ammonia tables \n",
"h1=1433; h2=1752;// specific enthalpy in kJ/kg \n",
"s1=5.477; s2=5.655; // specific entropy in kJ/kg K\n",
"wactual=-(h2-h1); // Actual work\n",
"wmin=-((h2-h1)-(T0*(s2-s1)));// mimimum work\n",
"I=wmin-wactual;// Irreversibility\n",
"disp ('kJ/kg',I,'Irreversibility =','kJ/kg',wmin,'Minimum work =','kJ/kg',wactual,'Actual work = ','(ii).Ammonia compressor');"
   ]
   }
,
{
		   "cell_type": "markdown",
		   "metadata": {},
		   "source": [
			"## Example 10.8: IRREVERSIBILITY_IN_A_BOILER.sce"
		   ]
		  },
  {
"cell_type": "code",
	   "execution_count": null,
	   "metadata": {
	    "collapsed": true
	   },
	   "outputs": [],
"source": [
"clc;\n",
"Cp=1.1; // Specific heat of combustion gas in kJ/kg K\n",
"T3=1600; // Initial temperature of combustion gas in Kelvin\n",
"T4=1150; // Final temperature of combustion gas in Kelvin\n",
"p1=0.1; // Pressure at inlet of boiler in MPa\n",
"p2=8;// Pressure at outlet of boiler in MPa\n",
"T2=600; // Temperature at outlet of boiler in degree celcius\n",
"m=1; // Mass of water in kg\n",
"T0=298; // temperature of Surroundings in kelvin\n",
"// From steam table \n",
"h1=2758; h2=3642;// specific enthalpy in kJ/kg \n",
"s1=5.7432; s2=7.0206; // specific entropy in kJ/kg K\n",
"mgas=(h2-h1)/(Cp*(T3-T4)); //mass flow rate of gases per kg of water\n",
"S21=s2-s1; // Change in entropy of water\n",
"S34=mgas*Cp*log (T3/T4); // Change in entropy of gases\n",
"// (a).Decrease in availability of gases\n",
"d_AEgas=mgas*Cp*(T3-T4)-T0*S34//Decrease in availability of gases\n",
"disp ('kJ',d_AEgas,'(a).Decrease in availability of gases = ');\n",
"// (b).Decrease in availability of water\n",
"d_AEwater=(h1-h2)-T0*(s1-s2);// Decrease in availability of water\n",
"disp ('kJ',d_AEwater,'(b).Decrease in availability of water =');\n",
"// (c).Reversible work for the process\n",
"Wrev=d_AEgas+d_AEwater; //Reversible work for the process\n",
"disp ('kJ',Wrev,'(c).Reversible work for the process=');\n",
"// (d).Actual work for the process\n",
"W=0; // Actual work\n",
"disp ('kJ',W,'(d).Actual work for the process =');\n",
"// (e).Irreversibility\n",
"I=Wrev-W; //Irreversibility\n",
"disp ('kJ',I,'(e).Irreversibility = ');"
   ]
   }
,
{
		   "cell_type": "markdown",
		   "metadata": {},
		   "source": [
			"## Example 10.9: LOST_WORK_IN_RANKINE_CYCLE.sce"
		   ]
		  },
  {
"cell_type": "code",
	   "execution_count": null,
	   "metadata": {
	    "collapsed": true
	   },
	   "outputs": [],
"source": [
"clc;\n",
"TH=600; // Temperature of heat sorce in degree celcius\n",
"T3=311.06; // Boiler temperature in degree celcius\n",
"p3=10; // Boiler pressure in MPa\n",
"T4=32.88; // Condensor temperature in degree celcius\n",
"p4=5; // Condensor pressure in kPa\n",
"T0=288;// Temperature of surroundings in kelvin\n",
"// From steam table and refer figure 10.10 for states\n",
"h1=137.82; h2=147.82; h3=2724.7; hf4=197.82; hfg4=2423.7; h4=1913.6; // specific enthalpy in kJ/kg \n",
"s1=0.4764; s2=s1; s3=5.6141; s4=s3;  sf4=0.4764; sfg4=7.9187; s4=6.2782; // specific entropy in kJ/kg K\n",
"wT=h3-h4; // Turbine work\n",
"wp=h2-h1; // Pump work\n",
"wnet=wT-wp; // Net work\n",
"qH=h3-h2; // Heat supplied in boiler\n",
"qL=h4-h1; // Heat rejected in condensor\n",
"Wrev_Wpump=T0*(s2-s1); \n",
"Wrev_Wboiler=T0*(s3-s2)-T0*qH/(TH+273);\n",
"Wrev_Wturbine=T0*(s4-s3);\n",
"Wrev_Wcondenser=T0*(s1-s4)+qL;\n",
"Wrev_Wcycle=Wrev_Wpump+Wrev_Wboiler+Wrev_Wturbine+Wrev_Wcondenser; \n",
"disp ('kJ/kg',Wrev_Wcycle,'The lost (Wrev-W)for the overall cycle = ','kJ/kg',Wrev_Wcondenser,'The lost (Wrev-W)for the condensor = ','kJ/kg',Wrev_Wturbine,'The lost (Wrev-W)for the Turbine = ','kJ/kg',Wrev_Wboiler,'The lost (Wrev-W)for the Boiler = ','kJ/kg',Wrev_Wpump,'The lost (Wrev-W)for the Pump = ');"
   ]
   }
],
"metadata": {
		  "kernelspec": {
		   "display_name": "Scilab",
		   "language": "scilab",
		   "name": "scilab"
		  },
		  "language_info": {
		   "file_extension": ".sce",
		   "help_links": [
			{
			 "text": "MetaKernel Magics",
			 "url": "https://github.com/calysto/metakernel/blob/master/metakernel/magics/README.md"
			}
		   ],
		   "mimetype": "text/x-octave",
		   "name": "scilab",
		   "version": "0.7.1"
		  }
		 },
		 "nbformat": 4,
		 "nbformat_minor": 0
}
