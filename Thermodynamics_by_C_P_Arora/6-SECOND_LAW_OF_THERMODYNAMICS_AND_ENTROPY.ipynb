{
"cells": [
 {
		   "cell_type": "markdown",
	   "metadata": {},
	   "source": [
       "# Chapter 6: SECOND LAW OF THERMODYNAMICS AND ENTROPY"
	   ]
	},
{
		   "cell_type": "markdown",
		   "metadata": {},
		   "source": [
			"## Example 6.10: ENTROPY_CHANGE_OF_AIR.sce"
		   ]
		  },
  {
"cell_type": "code",
	   "execution_count": null,
	   "metadata": {
	    "collapsed": true
	   },
	   "outputs": [],
"source": [
"clc;\n",
"p1=3; // initial pressure of air in bar\n",
"T1=200; // initial temperature of air in degree celcius\n",
"p2=1.5; // final pressure of air in bar\n",
"T2=105; // final temperature of air in degree celcius\n",
"Cpo=1.0035; // Specific heat at constant pressure in kJ/kg K\n",
"R=0.287; // characteristic gas constant of air in kJ/kg K\n",
"delta_s= Cpo*log (T2/T1)- R*log (p2/p1); // change in entropy during irreversible process\n",
"disp ('kJ/kg K',delta_s,'change in entropy during irreversible process = ');"
   ]
   }
,
{
		   "cell_type": "markdown",
		   "metadata": {},
		   "source": [
			"## Example 6.11: ENTROPY_CHANGE_OF_ARGON_GAS.sce"
		   ]
		  },
  {
"cell_type": "code",
	   "execution_count": null,
	   "metadata": {
	    "collapsed": true
	   },
	   "outputs": [],
"source": [
"clc;\n",
"p1=5; // Initial pressure of argon gas in bar\n",
"T1=30; // Initial temperature of argon gas in degree celcius\n",
"v1=1; // Initial volume of argon gas in m^3 by assumption\n",
"v2=2*v1; // Final volume of argon gas in m^3\n",
"R=8.3144/40; // Characteristic gas constant of argon gas in kJ/kg K\n",
"p2=p1*(v1/v2); // Final pressure of argon gas\n",
"delta_s= R*log (v2/v1); // change in entropy (choosing the reversible isothermal path)\n",
"disp ('kJ/kg K',delta_s,'change in entropy (choosing the reversible isothermal path) = ','bar',p2,'Final pressure of argon gas =');"
   ]
   }
,
{
		   "cell_type": "markdown",
		   "metadata": {},
		   "source": [
			"## Example 6.12: INTERNAL_COMBUSTION_ENGINE.sce"
		   ]
		  },
  {
"cell_type": "code",
	   "execution_count": null,
	   "metadata": {
	    "collapsed": true
	   },
	   "outputs": [],
"source": [
"clc;\n",
"p1=1; // Atmospheric pressure in bar\n",
"T1=348; // Atmospheric temperature in kelvin\n",
"V1=800; // Volume of air sucked into the cylinder in cm^3\n",
"p2=15; // pressure of air after compression in bar\n",
"V2=V1/8; // volume of air after compression in cm^3\n",
"p3=50; // pressure of air after heat addition in bar\n",
"Cvo=0.7165; // Specific heat at constant volme in kJ/kg K\n",
"R=0.287; // characteristic gas constant of air in kJ/kg K\n",
"//   (a).Index of compression process\n",
"n=log (p2/p1)/log (V1/V2); // Index of compression process\n",
"disp ('which is less than 1.4. The compression process is polytropic.',n,'Index of compression process = ','(a).Index of compression process');\n",
"//   (b).Change in entropy of air during each process\n",
"m=(p1*10^2*V1*10^-6)/(R*T1); // Mass of air in cylinder\n",
"T2=T1*(p2/p1)*(V2/V1); // Temperature after compression\n",
"T3=T2*(p3/p2); // Temperature after heat addition\n",
"delta_s21=m*(Cvo*log (T2/T1)+R*log (V2/V1)); // change in entropy during compression\n",
"delta_s32=m*Cvo*log (T3/T2); //change in entropy during heat addition\n",
"disp ('kJ/K',delta_s32,'change in entropy during heat addition = (Error in textbook)','kJ/K',delta_s21,'change in entropy during compression = (Error in textbook)','(b).Change in entropy of air during each process');\n",
"//   (c).Heat transfer during polytropic compression process\n",
"k=1.4;// Index of isentropic preocess\n",
"Q=m*Cvo*((k-n)/(1-n))*(T2-T1); // Heat transfer during polytropic compression process\n",
"disp ('kJ',Q,'Heat transfer during polytropic compression process = (Error in textbook)','(c).Heat transfer during polytropic compression process');\n",
""
   ]
   }
,
{
		   "cell_type": "markdown",
		   "metadata": {},
		   "source": [
			"## Example 6.13: FREE_EXPANSION_OF_STEAM.sce"
		   ]
		  },
  {
"cell_type": "code",
	   "execution_count": null,
	   "metadata": {
	    "collapsed": true
	   },
	   "outputs": [],
"source": [
"clc;\n",
"p1=0.3; // initial pressure of ateam in MPa\n",
"T1=350; // Initial temperature of steam in degree celcius\n",
"// following are the values taken from steam table for initial state \n",
"v1=0.9535; // specific volume in m^3/kg\n",
"u1=2886.2; // specific internal energy in kJ/kg\n",
"s1=7.868; // specific entropy in kJ/kg K\n",
"v2=2*v1; // final specific volume of steam\n",
"u2=u1;\n",
"// following are the values taken from steam table final state\n",
"T2=349; // Final temperature of steam in degree celcius\n",
"p2=0.167; // Final pressure of ateam in MPa\n",
"s2=8.164; // specific entropy in kJ/kg K\n",
"delta_s=s2-s1; // Entropy generation\n",
"LW=(T1+T2)/2 * delta_s; // Lost work\n",
"disp ('kJ',LW,'Lost work = ','kJ/kg K',delta_s,'Entropy Generation =');"
   ]
   }
,
{
		   "cell_type": "markdown",
		   "metadata": {},
		   "source": [
			"## Example 6.15: ENTROPY_CHANGE_OF_UNIVERSE.sce"
		   ]
		  },
  {
"cell_type": "code",
	   "execution_count": null,
	   "metadata": {
	    "collapsed": true
	   },
	   "outputs": [],
"source": [
"clc;\n",
"m=1; // Mass of water in kg\n",
"T1=300; // Temperature of water in kelvin\n",
"C=4.1868; // Specific heat in kJ/kg K\n",
"// (a). Heat Transfer\n",
"T2=500; // Temperature of heat reservoir in kelvin\n",
"Q=m*C*(T2-T1); // Heat transfer\n",
"del_Swater=m*C*log (T2/T1); // Entropy change of water\n",
"del_Sreservoir=-Q/T2;  // Entropy change of reservoir\n",
"del_Suniverse=del_Swater+del_Sreservoir; // Entropy change of universe\n",
"disp ('kJ/K',del_Suniverse,'Entropy change of universe =','(a).Heat Transfer');\n",
"//   (b).Heat Transfer in each reservoir\n",
"T2=400; // Temperature of intermediate reservoir in kelvin\n",
"T3=500; // Temperature of heat reservoir in kelvin\n",
"Q=m*C*(T3-T2); // Heat transfer\n",
"del_Swater=m*C*(log (T2/T1)+log (T3/T2)); // Entropy change of water\n",
"del_SreservoirI=-Q/T2;  // Entropy change of reservoir I\n",
"del_SreservoirII=-Q/T3;  // Entropy change of reservoir II\n",
"del_Suniverse=del_Swater+del_SreservoirI+del_SreservoirII; // Entropy change of universe\n",
"disp ('kJ/K',del_Suniverse,'Entropy change of universe =','(b).Heat Transfer in each reservoir');"
   ]
   }
,
{
		   "cell_type": "markdown",
		   "metadata": {},
		   "source": [
			"## Example 6.16: AFFECTING_REVERSIBLE_HEAT_TRANSFER_THROUGH_A_FINITE_TEMPERATURE_DIFFERENCE.sce"
		   ]
		  },
  {
"cell_type": "code",
	   "execution_count": null,
	   "metadata": {
	    "collapsed": true
	   },
	   "outputs": [],
"source": [
"clc;\n",
"m=1; // Mass of saturated steam in kg\n",
"T=100; // Teamperature of steam in degree celcius\n",
"T0=303; // temperature of Surroundings in kelvin\n",
"hfg=2257; // Latent heat of evaporation in kJ/kg\n",
"sfg=6.048; // specific entropy in kJ/kg K\n",
"// (a).Entropy change\n",
"Q=m*hfg; // Heat transfer\n",
"del_Ssystem=-m*sfg; // Change of entropy of system\n",
"del_Ssurr=Q/T0; // Change of entropy of surroundings\n",
"del_Suniverse=del_Ssystem+del_Ssurr; // Change of entropy of universe\n",
"disp ('kJ/K',del_Suniverse,'Change of entropy of universe =','kJ/K',del_Ssurr,'Change of entropy of surroundings =','kJ/K',del_Ssystem,'Change of entropy of system =','(a).Entropy change');\n",
"// (b).Effect of heat transfer\n",
"del_Suniverse=0; // process is reversible\n",
"del_Ssurr=del_Suniverse-del_Ssystem; //Change of entropy of surroundings\n",
"QH=hfg; // Heat transfer from the condensing steam to reversible heat engine\n",
"QL=T0*del_Ssurr; // Heat receiveded by the surroundins reversible heat engine\n",
"W=QH-QL; //work output of reversible heat engine\n",
"disp ('Difference between QH & QL is converted into work output in a reversible cyclic process','kJ',W,'work output of reversible heat engine =','kJ',QL,'Heat receiveded by the surroundins reversible heat engine =','kJ',QH,'Heat transfer from the condensing steam to reversible heat engine =','(b).Effect of heat transfer');"
   ]
   }
,
{
		   "cell_type": "markdown",
		   "metadata": {},
		   "source": [
			"## Example 6.17: ENTROPY_CHANGE_OF_ICE.sce"
		   ]
		  },
  {
"cell_type": "code",
	   "execution_count": null,
	   "metadata": {
	    "collapsed": true
	   },
	   "outputs": [],
"source": [
"clc;\n",
"m=1; // Mass of ice in kg\n",
"T1=258;// Temperature of ice in kelvin\n",
"Tm=273; // Melting point of ice in kelvin\n",
"T2=303; // temperature of Surroundings in kelvin\n",
"Cpice=2.095; // Specific heat of ice in kJ/kg K\n",
"hsg=333.5; // Latent heat of fusion in kJ/kg\n",
"Cpw=4.1868; // Specific heat of water in kJ/kg K\n",
"// (a).Change of entropy\n",
"Q=m*(Cpice*(Tm-T1)+hsg+Cpw*(T2-Tm));// Heat transfer\n",
"del_Ssystem=m*((Cpice*log (Tm/T1))+(hsg/Tm)+(Cpw*log (T2/Tm)));// Change of entropy of system\n",
"del_Ssurr=-Q/T2; // Change of entropy of surroundings\n",
"del_Suniverse=del_Ssystem+del_Ssurr; // Change of entropy of universe\n",
"disp ('kJ/K',del_Suniverse,'Change of entropy of universe =','kJ/K',del_Ssurr,'Change of entropy of surroundings =','kJ/K',del_Ssystem,'Change of entropy of system =','(a).Entropy change');\n",
"// (b).The minimum work of restoring water back to ice\n",
"QL=Q; // Refrigerating effect\n",
"W=T2*del_Ssystem-QL; // The minimum work of restoring water back to ice\n",
"disp ('kJ',W,'(b).The minimum work of restoring water back to ice = ');"
   ]
   }
,
{
		   "cell_type": "markdown",
		   "metadata": {},
		   "source": [
			"## Example 6.18: DIRECTION_OF_AIR_FLOW.sce"
		   ]
		  },
  {
"cell_type": "code",
	   "execution_count": null,
	   "metadata": {
	    "collapsed": true
	   },
	   "outputs": [],
"source": [
"clc;\n",
"TA=323;// Temperature at section A in kelvin\n",
"PA=125; // Pressure at section A in kPa\n",
"TB=287;// Temperature at section B in kelvin\n",
"PB=100; // Pressure at section B in kPa\n",
"Cpo=1.0035; // Specific heat at constant pressure in kJ/kg K\n",
"R=0.287; // characteristic gas constant of air in kJ/kg K\n",
"SBA=(Cpo*log (TB/TA))-(R*log (PB/PA)); // Change in entropy\n",
"disp('Hence SA>SB. Therefore B to A','kJ/kg',SBA,'Change in entropy from B to A =');"
   ]
   }
,
{
		   "cell_type": "markdown",
		   "metadata": {},
		   "source": [
			"## Example 6.19: ADIABATIC_TURBINE.sce"
		   ]
		  },
  {
"cell_type": "code",
	   "execution_count": null,
	   "metadata": {
	    "collapsed": true
	   },
	   "outputs": [],
"source": [
"clc;\n",
"p1=12.5; // Pressure of steam at inlet in MPa\n",
"T1=500; // Temperature of steam at inlet in degree celcius\n",
"V1=50; // Velocity of steam at inlet in m/s\n",
"p2=10; // Pressure of steam at outlet in kPa\n",
"V2=100; // Velocity of steam at outlet in m/s\n",
"// (a).Actual expansion\n",
"x2=0.85; // Quality of steam\n",
"// From steam table\n",
"h1=3341.8; hf2=191.83; hg2=2584.7;  // specific enthalpy in kJ/kg \n",
"s1=6.4618; sf2=0.6493; sfg2=7.5009; // specific entropy in kJ/kg K\n",
"h2a=(1-x2)*hf2+x2*hg2; // specific enthalpy in kJ/kg \n",
"wa=(h1-h2a)+((V1^2-V2^2)/2000); // Actual work output\n",
"disp ('kJ',wa,'(a).Actual work output of turbine = ');\n",
"// (b).Reversible adiabatic expansion\n",
"x2s=(s1-sf2)/sfg2; // Quality of steam after reversible adiabatic expansion\n",
"h2s=(1-x2s)*hf2+x2s*hg2; // specific enthalpy in kJ/kg \n",
"ws=(h1-h2s)+((V1^2-V2^2)/2000); // Reversible adiabatic work output\n",
"L=ws-wa; // Lost of work\n",
"disp ('kJ/kg',L,'Lost of work due to irreversibity of expansion process =','kJ/kg',ws,'Reversible adiabatic work output = ','(b).Reversible adiabatic expansion');\n",
"// (c).Entropy Generation\n",
"s2a=sf2+x2*sfg2; // actual specific entropy in kJ/kg K\n",
"Sgen=s2a-s1; // Entropy generation\n",
"disp ('kJ/kg K',Sgen,'(c).Entropy Generation =');"
   ]
   }
,
{
		   "cell_type": "markdown",
		   "metadata": {},
		   "source": [
			"## Example 6.1: CLAIM_OF_THE_MANUFACTURE.sce"
		   ]
		  },
  {
"cell_type": "code",
	   "execution_count": null,
	   "metadata": {
	    "collapsed": true
	   },
	   "outputs": [],
"source": [
"clc;\n",
"QH=500; // Heat supplied in kJ\n",
"QL=200; // Heat rejected in kJ\n",
"TH=720; // Resorvior Temperature in kelvin\n",
"TL=360; // Resorvior Temperature in kelvin\n",
"W=260; // Work developed in kJ\n",
"e_max=1-TL/TH; // maximum efficiency\n",
"e_clamied=W/QH; // Efficiency clamied\n",
"if (e_clamied<e_max) then\n",
"    disp ('It obeys the second law of thermodynamics.The claim is true');\n",
"else \n",
"    disp ('It violates the second law of thermodynamics.The claim is False');\n",
"end"
   ]
   }
,
{
		   "cell_type": "markdown",
		   "metadata": {},
		   "source": [
			"## Example 6.20: COMPARSION_OF_PUMP_WORK_AND_COMPRESSOR_WORK.sce"
		   ]
		  },
  {
"cell_type": "code",
	   "execution_count": null,
	   "metadata": {
	    "collapsed": true
	   },
	   "outputs": [],
"source": [
"clc;\n",
"p1=0.1; // pressure at state 1 in MPa\n",
"p2=6; // Pressure at state 2 in MPa\n",
"// (a).Pump work for water\n",
"vf1=0.001043; // specific volume in m^3/kg\n",
"wp=-vf1*(p2-p1)*10^3; // Pump work for water\n",
"disp ('kJ',wp,'(a).Pump work for water =');\n",
"// (b).For steam\n",
"h1=2675.5;// specific enthalpy in kJ/kg \n",
"s1=7.3595;// specific entropy in kJ/kg K\n",
"// From superheated steam table\n",
"t2=675; // Temperature at state 2 in degree celcius\n",
"h2=3835.3;// specific enthalpy in kJ/kg \n",
"wc=-(h2-h1); // Compressor work for steam\n",
"disp ('kJ/kg',wc,'(b).Compressor work for steam =');"
   ]
   }
,
{
		   "cell_type": "markdown",
		   "metadata": {},
		   "source": [
			"## Example 6.21: THROTTLING_PROCESS.sce"
		   ]
		  },
  {
"cell_type": "code",
	   "execution_count": null,
	   "metadata": {
	    "collapsed": true
	   },
	   "outputs": [],
"source": [
"clc;\n",
"// (a).Restoring to initial state by throttling process\n",
"T1=303; //Temperature of air at state 1 in kelvin\n",
"p1=1;  //Pressure of air at state 1 in bar\n",
"p2=5; //Pressure of air at state 2 in bar\n",
"p3=1;//Pressure of air at state 3 in bar\n",
"T3=303; //Temperature of air at state 3 in kelvin\n",
"Cpo=1.0035; // Specific heat at constant pressure in kJ/kg K\n",
"R=0.287; // characteristic gas constant of air in kJ/kg K\n",
"k=1.4; // Index of reversible adiabatic compression\n",
"T2=T1*(p2/p1)^((k-1)/k); // Temperature after reversible adiabatic compression\n",
"w12=Cpo*(T2-T1); // Work of reversible adiabatic compression\n",
"s21=0; // Entropy change of air\n",
"s32=-R*log (p3/p2); // Entropy change \n",
"s31=s32; // Net entropy change of air\n",
"d_Ssurr=0; // Entropy change of surroundings because There is no heat transfer\n",
"d_Suniv=s31+d_Ssurr; // Net Entropy change of universe\n",
"disp ('kJ/kg K',d_Suniv,'Net Entropy change of universe = ','kJ/kg',w12,'Work of reversible adiabatic compression = ','(a).Restoring to initial state by throttling process');\n",
"// (b).Restoring to initial state by by completing cycle\n",
"T0=298; // Temperature of surroundings in kelvin\n",
"d_Ssystem=0; // Entropy change of systrem is zero because it is cyclic process\n",
"q31=Cpo*(T2-T3); // Heat rejected to the surroundings\n",
"d_Ssurr=q31/T0; //  Entropy change of surroundings\n",
"d_Suniv=d_Ssystem+d_Ssurr; // Increase in entropy of the universe\n",
"disp ('kJ/kg K',d_Suniv,'Net Entropy change of universe = ','(b).Restoring to initial state by by completing cycle');"
   ]
   }
,
{
		   "cell_type": "markdown",
		   "metadata": {},
		   "source": [
			"## Example 6.2: CHECKING_OF_REVERSIBLE_IRREVERSIBLE_OR_IMPOSSIBLE_MACHINE.sce"
		   ]
		  },
  {
"cell_type": "code",
	   "execution_count": null,
	   "metadata": {
	    "collapsed": true
	   },
	   "outputs": [],
"source": [
"clc;\n",
"QH=325; // Heat supplied in kJ\n",
"QL=125; // Heat rejected in kJ\n",
"TH=1000; // Resorvior Temperature in kelvin\n",
"TL=400; // Resorvior Temperature in kelvin\n",
"W=200; // Work developed in kJ\n",
"e_carnot=1-TL/TH; // maximum efficiency\n",
"e_clamied=W/QH; // Efficiency clamied\n",
"disp (e_carnot,'e_carnot =');\n",
"disp (e_clamied,'e_clamied =');\n",
"if (e_carnot==e_clamied) then\n",
"    disp ('The machine is reversible');\n",
"elseif (e_carnot>e_clamied)\n",
"    disp ('The machine is irreversible');\n",
"else\n",
"    disp ('Here e_clamied > e_carnot so the cyclic machine is impossible.')\n",
"end\n",
"disp ('It would be reversible if its thermal efficiency  is equal to Carnot efficiency, and irreversible if it is less than Carnot efficiency.')"
   ]
   }
,
{
		   "cell_type": "markdown",
		   "metadata": {},
		   "source": [
			"## Example 6.3: A_CARNOT_REFRIGERATION.sce"
		   ]
		  },
  {
"cell_type": "code",
	   "execution_count": null,
	   "metadata": {
	    "collapsed": true
	   },
	   "outputs": [],
"source": [
"clc;\n",
"// Air conditioning unit\n",
"TL=278; // Operating temperature in kelvin\n",
"TH=318; // Operating temperature in kelvin\n",
"COP1=TL/(TH-TL); // COP of Air conditioning unit\n",
"QL=1; // For some calculation purpose\n",
"W1=QL/COP1; // Work input of Air conditioning unit\n",
"// Food refrigeration unit\n",
"TL=258; // Operating temperature in kelvin\n",
"TH=318; // Operating temperature in kelvin\n",
"COP2=TL/(TH-TL); // COP of Food refrigeration unit\n",
"W2=QL/COP2; // Work input of Food refrigeration unit\n",
"Wper=(W2-W1)/W1; // Increase in work input\n",
"disp ('%',Wper*100,'Increase in work input = ');"
   ]
   }
,
{
		   "cell_type": "markdown",
		   "metadata": {},
		   "source": [
			"## Example 6.4: YEAR_ROUND_AIR_CONDITIONING_UNIT.sce"
		   ]
		  },
  {
"cell_type": "code",
	   "execution_count": null,
	   "metadata": {
	    "collapsed": true
	   },
	   "outputs": [],
"source": [
"clc;\n",
"//(a).Summer air conditioning (cooling)\n",
"TL=298; // Operating temperature in kelvin\n",
"TH=318; // Operating temperature in kelvin\n",
"q=0.75; // Heat Transfer from fabric of room per degree of temperature difference in kW\n",
"QL=q*(TH-TL); // Heat Transfer from fabric of room\n",
"COPc=TL/(TH-TL); // COP of Air conditioning unit\n",
"W=QL/COPc; // Work input of Air conditioning unit\n",
"disp ('kW',W,'Work input of Air conditioning unit = ','(a).Summer air conditioning (cooling)');\n",
"// (b).Winter air conditioning (recerse cycle heating)\n",
"TH=293; // Operating temperature in kelvin\n",
"TL=(-(-2*q*TH)-sqrt ((-2*q*TH)^2-(4*q*(q*TH^2-TH))))/(2*q);// Lowest outdoor Temperature by root\n",
"disp ('K',TL,'Lowest outdoor Temperature  = ','(b).Winter air conditioning (recerse cycle heating)');"
   ]
   }
,
{
		   "cell_type": "markdown",
		   "metadata": {},
		   "source": [
			"## Example 6.5: DECREASE_IN_COP_WITH_LOWERING_OF_REFRIGERATION_TEMPERATURE.sce"
		   ]
		  },
  {
"cell_type": "code",
	   "execution_count": null,
	   "metadata": {
	    "collapsed": true
	   },
	   "outputs": [],
"source": [
"clc;\n",
"// (a).For the refrigerator \n",
"TL=258; // Operating temperature in kelvin\n",
"TH=313; // Operating temperature in kelvin\n",
"QL=3.5167; // Ton of refrigeration in kW\n",
"COP=TL/(TH-TL); // COP of Refrigeration unit\n",
"W=QL/COP; // Power comsumption of refrigerator\n",
"disp ('kW',W,'Power comsumption of refrigerator = ','(a).For the refrigerator');\n",
"// (b). For the freezer\n",
"TL=248; // Operating temperature in kelvin\n",
"TH=313; // Operating temperature in kelvin\n",
"COP=TL/(TH-TL); // COP of Freezer unit\n",
"QL=W*COP; // Refrigeration produced\n",
"disp ('kW',QL,'Refrigeration produced = ','(b). For the freezer')"
   ]
   }
,
{
		   "cell_type": "markdown",
		   "metadata": {},
		   "source": [
			"## Example 6.6: CALCULATION_OF_ENTROPY_OF_VAPORIZATION.sce"
		   ]
		  },
  {
"cell_type": "code",
	   "execution_count": null,
	   "metadata": {
	    "collapsed": true
	   },
	   "outputs": [],
"source": [
"clc;\n",
"Psat=200;//Pressure of water in kPa\n",
"Tsat=393.38; // Saturation temperaure at Psat in kelvin\n",
"// (i).From the equation Tds=du+pdv \n",
"// Following are from steam table at Psat\n",
"ufg=2025; // specific internal energy of vapourization in kJ/kg\n",
"vg=0.8857; // specific volume in m^3/kg\n",
"vf=0.001061; // specific volume in m^3/kg\n",
"sfg=(ufg/Tsat)+(Psat*(vg-vf)/Tsat); // specific entropy of vapourization\n",
"disp ('kJ/kg K',sfg,'specific entropy of vapourization = ','(i).From the equation Tds=du+pdv ');\n",
"// (ii).From the equation Tds=dh-vdp\n",
"hfg=2201.9; // Specific enthalpy of vapourization in kJ/kg\n",
"sfg=hfg/Tsat; // specific entropy of vapourization\n",
"disp ('kJ/kg K',sfg,'specific entropy of vapourization = ','(ii).From the equation Tds=dh-vdp ');"
   ]
   }
,
{
		   "cell_type": "markdown",
		   "metadata": {},
		   "source": [
			"## Example 6.7: REVERSIBLE_ISOTHERMAL_PROCESS.sce"
		   ]
		  },
  {
"cell_type": "code",
	   "execution_count": null,
	   "metadata": {
	    "collapsed": true
	   },
	   "outputs": [],
"source": [
"clc;\n",
"p1=1; // Pressure of steam at state 1 in bar\n",
"T=473; // Temperature of steam at state 1 in kelvin\n",
"// (i).Pressure after compression\n",
"p2=1.5538; // Pressure after compression at (Psat)T from steam table in MPa\n",
"disp ('MPa',p2,'Pressure after compression = ','(i).Pressure after compression');\n",
"// (ii).Heat Transfer and work done during the process\n",
"// Following are from steam table \n",
"s2=6.4323; // specific entropy of steam at state 2 in kJ/kg K\n",
"s1=7.8343; // specific entropy of steam at state 1 in kJ/kg K\n",
"u2=2595.3; // specific internal energy of steam at state 2 in kJ/kg \n",
"u1=2658.1; // specific internal energy of steam at state 1 in kJ/kg \n",
"q=T*(s2-s1); // Heat transfer during the process\n",
"w=q-(u2-u1); // Work done during the process\n",
"disp ('kJ',w,'Work done during the process = ','kJ',q,'Heat transfer during the process = ','(ii).Heat Transfer and work done during the process');"
   ]
   }
,
{
		   "cell_type": "markdown",
		   "metadata": {},
		   "source": [
			"## Example 6.8: ENTROPY_CHANGE_OF_STEAM.sce"
		   ]
		  },
  {
"cell_type": "code",
	   "execution_count": null,
	   "metadata": {
	    "collapsed": true
	   },
	   "outputs": [],
"source": [
"clc;\n",
"p1=6; // Initial pressure of steam in MPa\n",
"T1=500; // Initial temperature of steam in degree celcius\n",
"p2=10; // Final pressure of steam in bar\n",
"// From steam tables\n",
"s1=6.8803; sf2=1.3026; sfg2=6.0568; // specific entropy in kJ/kg K\n",
"u1=3082.2; uf2=761.68; ufg2=1822; // specific internal energy in kJ/kg\n",
"v1=0.05665; vf2=0.001043; vg2=1.694; // specific volume in m^3/kg\n",
"x2=(v1-vf2)/(vg2-vf2);// Quality of steam\n",
"u2=uf2+x2*ufg2; // specific internal energy in kJ/kg \n",
"s2=sf2+x2*sfg2; // specific entropy in kJ/kg K\n",
"s21=s2-s1; // Entropy change\n",
"q=u2-u1; // Heat transfer\n",
"disp ('kJ',q,'Heat transfer for the process =','kJ/kg',s21,'Entropy change of the process = ');"
   ]
   }
],
"metadata": {
		  "kernelspec": {
		   "display_name": "Scilab",
		   "language": "scilab",
		   "name": "scilab"
		  },
		  "language_info": {
		   "file_extension": ".sce",
		   "help_links": [
			{
			 "text": "MetaKernel Magics",
			 "url": "https://github.com/calysto/metakernel/blob/master/metakernel/magics/README.md"
			}
		   ],
		   "mimetype": "text/x-octave",
		   "name": "scilab",
		   "version": "0.7.1"
		  }
		 },
		 "nbformat": 4,
		 "nbformat_minor": 0
}
