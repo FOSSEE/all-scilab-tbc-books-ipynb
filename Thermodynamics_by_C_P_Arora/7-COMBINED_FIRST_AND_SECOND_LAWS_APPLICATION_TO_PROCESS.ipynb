{
"cells": [
 {
		   "cell_type": "markdown",
	   "metadata": {},
	   "source": [
       "# Chapter 7: COMBINED FIRST AND SECOND LAWS APPLICATION TO PROCESS"
	   ]
	},
{
		   "cell_type": "markdown",
		   "metadata": {},
		   "source": [
			"## Example 7.10: NOZZLE_VELOCITY.sce"
		   ]
		  },
  {
"cell_type": "code",
	   "execution_count": null,
	   "metadata": {
	    "collapsed": true
	   },
	   "outputs": [],
"source": [
"clc;\n",
"p1=3; // Pressure of fluid at inlet in bar\n",
"T1=150; // Temperature of fluid at inlet in degree celcius\n",
"V1=90; // Velocity of fluid at inlet in m/s \n",
"eff_nozzle=0.85; // Nozzle efficiency\n",
"k=1.4; // Index of reversible adiabatic process\n",
"p2=1/3*p1;\n",
"//   (a).Steam\n",
"// Following are taken from steam table\n",
"h1=2761; // specific enthalpy in kJ/kg \n",
"s1=7.0778;// specific entropy in kJ/kg K\n",
"s2s=s1; // Isentropic process\n",
"sf2s=1.3026; sfg2s=6.0568;// specific entropy in kJ/kg K\n",
"hf2=417.46; hfg2=2258; // specific enthalpy in kJ/kg \n",
"x2s=(s2s-sf2s)/sfg2s; // Quality of steam\n",
"h2s=hf2+x2s*hfg2;\n",
"V2s=sqrt (2000*(h1-h2s)+V1^2); // Isentropic Velocity \n",
"V2=sqrt (eff_nozzle) *V2s; // Actual nozzle exit velocity\n",
"disp ('m/s   (round off error)',V2,' Actual nozzle exit velocity = ','(a).Steam');\n",
"//   (b).Air\n",
"Cpo=1.0035; // Specific heat at constant pressure in kJ/kg K\n",
"T2s=(T1+273)*(p2/p1)^((k-1)/k); // Isentropic temperature\n",
"V2s=sqrt ((2000*Cpo*((T1+273)-T2s))+V1^2); // Isentropic Velocity and (answer mentioned in the textbook is wrong)\n",
"V2=sqrt (eff_nozzle) *V2s; // Actual nozzle exit velocity\n",
"disp ('m/s   (answer mentioned in the textbook is wrong)',V2,' Actual nozzle exit velocity = ','(b).Air');"
   ]
   }
,
{
		   "cell_type": "markdown",
		   "metadata": {},
		   "source": [
			"## Example 7.11: DIFFUSION_PROCESS.sce"
		   ]
		  },
  {
"cell_type": "code",
	   "execution_count": null,
	   "metadata": {
	    "collapsed": true
	   },
	   "outputs": [],
"source": [
"clc;\n",
"p1=200; // Pressure of fluid at inlet in kPa\n",
"T1=200; // Temperature of fluid at inlet in degree celcius\n",
"V1=700; // Velocity of fluid at inlet in m/s \n",
"V2=70; // Velocity of fluid at outlet in m/s \n",
"//   (a).Reversible Adiabatic process\n",
"// state of steam entering diffuser (superheated)\n",
"h1=2870.5;// specific enthalpy in kJ/kg \n",
"s1=7.5066; // specific entropy in kJ/kg K\n",
"h2=h1+(V1^2-V2^2)/2000; // From first and second laws\n",
"s2=s1; // Isentropic peocess\n",
"// From superheated table\n",
"p2s=550; // Pressure of fluid at outlet in kPa\n",
"T2=324; // Temperature of fluid at outlet in degree celcius\n",
"disp ('oC',T2,'Temperature of fluid at outlet =','kPa',p2s,'Pressure of fluid at outlet = ','(a).Reversible adiabatic process');\n",
"//   (b).Actual diffusion\n",
"// for the same change in K.E, from first law\n",
"h2=3113.1;// specific enthalpy in kJ/kg\n",
"p2=400; // Actual exit pressure in kPa\n",
"t2=322.4; // from superheated table in degree celcius\n",
"eff_d=(p2-p1)/(p2s-p1); // Diffuser efficiency\n",
"disp ('%',eff_d*100,'Diffuser efficiency = ','oC',t2,'The exit temperature =','(b).Actual diffusion');"
   ]
   }
,
{
		   "cell_type": "markdown",
		   "metadata": {},
		   "source": [
			"## Example 7.12: REVERSIBLE_ADIABATIC_EFFICIENCY_OF_DIFFUSER.sce"
		   ]
		  },
  {
"cell_type": "code",
	   "execution_count": null,
	   "metadata": {
	    "collapsed": true
	   },
	   "outputs": [],
"source": [
"clc;\n",
"p1=1; // Pressure of fluid at inlet in bar\n",
"T1=60; // Temperature of fluid at inlet in degree celcius\n",
"p2=2.8; // Pressure of fluid at outlet in bar\n",
"eff_d=0.80; // Diffuser efficiency\n",
"k=1.4; // Index of reversible adiabatic process\n",
"Cpo=1.0035; // Specific heat at constant pressure in kJ/kg K\n",
"//   (a).Actual Diffuser\n",
"p2s=((p2-p1)/eff_d)+p1; // Isentropic pressure\n",
"T2=(T1+273)*(p2s/p1)^((k-1)/k); // Exit temperature\n",
"V1=sqrt (2000*Cpo*(T2-(T1+273))); // Initial Velocity\n",
"disp ('m/s',V1,'Initial Velocity =','K',T2,'Temperature of air leaving diffuser =','(a).Actual Diffuser');\n",
"//   (b).Reversible Adiabatic diffuser\n",
"T2s=(T1+273)*(p2/p1)^((k-1)/k); // Isentropic exit temperature\n",
"V1=sqrt (2000*Cpo*(T2s-(T1+273))); // Initial Velocity\n",
"disp ('m/s',V1,'Initial Velocity =','K',T2s,'Temperature of air leaving diffuser =','(b).Reversible Adiabatic diffuser');"
   ]
   }
,
{
		   "cell_type": "markdown",
		   "metadata": {},
		   "source": [
			"## Example 7.13: USE_OF_EXHAUST_GAS_DIFFUSER.sce"
		   ]
		  },
  {
"cell_type": "code",
	   "execution_count": null,
	   "metadata": {
	    "collapsed": true
	   },
	   "outputs": [],
"source": [
"clc;\n",
"m=18; // mass flow rate of air in kg/s\n",
"p1=3.6; // Pressure of fluid at inlet of turbine in MPa\n",
"T1=800; // Temperature of fluid at inlet of turbine in Kelvin\n",
"V1=100; // Velocity of fluid at inlet of turbine in m/s \n",
"V2=150; // Velocity of fluid at outlet of turbine in m/s\n",
"W=3.6; // Power output of turbine in MW\n",
"p3=1.01; // pressure at diffuser outlet in bar\n",
"k=1.4; // Index of reversible adiabatic process\n",
"Cpo=1.0035; // Specific heat at constant pressure in kJ/kg K\n",
"// (a)    Pressure at diffuser inlet\n",
"T2=((Cpo*T1)-((W*10^3)/m+(V2^2-V1^2)/2000))/Cpo; // Temperature at outlet of turbine\n",
"T3=(T2+273)+((V2^2)/(2*Cpo*10^3)); // Temperature of fluid at diffuser inlet\n",
"p2=p3*((T2+273)/T3)^(k/(k-1)); //pressure at diffuser inlet\n",
"disp ('bar',p2,'(a).pressure at diffuser inlet =');"
   ]
   }
,
{
		   "cell_type": "markdown",
		   "metadata": {},
		   "source": [
			"## Example 7.14: FLASHING_DURING_THROTTLING.sce"
		   ]
		  },
  {
"cell_type": "code",
	   "execution_count": null,
	   "metadata": {
	    "collapsed": true
	   },
	   "outputs": [],
"source": [
"clc;\n",
"T1=35; // Temperature of freon 12 before throttling in degree celcius\n",
"T2=5; // Temperature of freon 12 after throttling in degree celcius\n",
"// from property table of freon 12\n",
"h1=69.49;// specific enthalpy in kJ/kg \n",
"hf2=40.66; hfg2=148.86; // specific enthalpy in kJ/kg \n",
"h2=h1; // throttling process\n",
"x2=(h2-hf2)/hfg2; // Quality of Freon 12 vapour\n",
"disp (x2,'Quality of Freon 12 vapour = ');"
   ]
   }
,
{
		   "cell_type": "markdown",
		   "metadata": {},
		   "source": [
			"## Example 7.15: SEPARATING_AND_THROTTLING_CALORIMETER.sce"
		   ]
		  },
  {
"cell_type": "code",
	   "execution_count": null,
	   "metadata": {
	    "collapsed": true
	   },
	   "outputs": [],
"source": [
"clc;\n",
"p2=276; // Pressure at inlet in kPa\n",
"p=6.5; // gauge pressure at outlet in cm Hg\n",
"T3=110; // Temperature at outlet in degree celcius\n",
"pa=756; // Barometric pressure in mm Hg\n",
"mc=760;// Mass of condensed steam in g\n",
"ms=25; // Mass of separated water in g\n",
"den=13600; // Density of mercury in kg/m^3\n",
"g=9.81; // Acceleration due to gravity in m/s^2\n",
"z=(pa*10^-3)+(p*10^-2);// absolute pressure in m Hg\n",
"p3=den*g*z; // Pressure after throttling\n",
"h3=2697.4;// specific enthalpy in kJ/kg \n",
"hf2=545.31; hfg2=2175.2; // specific enthalpy in kJ/kg \n",
"x2=(h3-hf2)/hfg2; // Quality of steam\n",
"x1=(mc/(mc+ms))*x2; // Quality of steam in the main line\n",
"disp (x1,'Quality of steam in the main line =');"
   ]
   }
,
{
		   "cell_type": "markdown",
		   "metadata": {},
		   "source": [
			"## Example 7.1: CHANGE_IN_ENTROPY_OF_THE_FLUID.sce"
		   ]
		  },
  {
"cell_type": "code",
	   "execution_count": null,
	   "metadata": {
	    "collapsed": true
	   },
	   "outputs": [],
"source": [
"clc;\n",
"p1=1; // Initial pressure of fluid in MPa\n",
"T1=250; // Initial temperture of fluid in degree celcius\n",
"V=0.28; // Volume of container in m^3\n",
"p2=0.35; // Initial pressure of the fluid in MPa\n",
"//   (a).Water\n",
"v1=0.2327; // specific volume of vapour from steam table at state 1 in m^3/kg\n",
"v2=v1; // constant volume process\n",
"vf2=0.001079; vfg2=0.5232; //  specific volume of vapour from steam table at state 2 in m^3/kg\n",
"m=V/v1; // mass of steam\n",
"x2=(v2-vf2)/vfg2; // quality of steam at state 2\n",
"t2=138.88; // Final temperature of fluid in degree celcius (saturation temperature at p2)\n",
"// following are the values taken from steam tables\n",
"u1=2709.9; // specific internal energy at state 1 in kJ/kg\n",
"s1=6.9247; // Specific entropy at state 1 in kJ/kg K\n",
"uf2=582.95; ug2=2548.9; // specific internal energy at state 2 in kJ/kg\n",
"sf2=1.7245; sg2=6.9405; // Specific entropy at state 2 in kJ/kg K\n",
"u2=(1-x2)*uf2+x2*ug2; // specific internal energy at state 2 \n",
"s2=(1-x2)*sf2+x2*sg2; // specific enropy  at state 2 \n",
"Q=m*(u2-u1); // Heat transferred\n",
"S21=m*(s2-s1); // Entropy change\n",
"disp ('kJ/kg K   (round off error)',S21,'Entropy change = ','kJ   (answer mentioned in the textbook is wrong)',Q,'Heat transferred = ','oC',t2,'Final Temperature = ','(a).Water');\n",
"//   (b).Air\n",
"Cvo=0.7165; // Specific heat at constant volume in kJ/kg K\n",
"R=0.287; // characteristic gas constant of air in kJ/kg K\n",
"m=(p1*10^3*V)/(R*(T1+273)); // Mass of air\n",
"T2=(p2/p1)*(273+T1); // Final temperature of air\n",
"Q=m*Cvo*(T2-(T1+273)); // Heat transferred\n",
"S21=m*Cvo*log (T2/(273+T1)); // Change in entropy\n",
"disp ('kJ/kg K   (round off error)',S21,'Entropy change = ','kJ   (round off error)',Q,'Heat transferred = ','K ',T2,'Final Temperature = ','(b).Air');"
   ]
   }
,
{
		   "cell_type": "markdown",
		   "metadata": {},
		   "source": [
			"## Example 7.2: EXPANSION_OF_FLUID.sce"
		   ]
		  },
  {
"cell_type": "code",
	   "execution_count": null,
	   "metadata": {
	    "collapsed": true
	   },
	   "outputs": [],
"source": [
"clc;\n",
"p1=1.0021; // Initial pressure of the fluid in MPa\n",
"T1=180; // Initial temperature of the fluid in degree celcius\n",
"m=0.5; // Mass of the fluid in kg\n",
"p2=p1; // Constant pressure process\n",
"//   (a).Steam\n",
"x1=0.8; // Quality of the steam at state 1\n",
"// Following are the values taken from steam table \n",
"vf1=0.001127; vfg1=0.1929; // specific volume of the steam in m^3/kg\n",
"hf1=763.2; hfg1=2015; // specific enthalpy in kJ/kg \n",
"sf1=2.1396; sfg1=4.4460; // specific entropy in kJ/kg K\n",
"v1=vf1+x1*vfg1; // specific volume in m^3/kg\n",
"h1=hf1+x1*hfg1; // specific enthalpy in kJ/kg \n",
"s1=sf1+x1*sfg1; // specific entropy in kJ/kg K\n",
"v2=2*v1; // Final volume of the fluid\n",
"t2=410.5; // Final temperature of steam in degree celcius (from superheated steam table)\n",
"h2=3286.4; // specific enthalpy in kJ/kg \n",
"s2=7.525; // specific entropy in kJ/kg K\n",
"S21=m*(s2-s1); // Change in entropy\n",
"W=m*p1*10^3*(v2-v1); // Work done\n",
"Q=m*(h2-h1); // Heat transferred\n",
"disp ('kJ',Q,'Heat transferred = ','kJ',W,'Work done = ','kJ/K',S21,'Change in entropy = ','K',t2+273,'Final Temperature = ','(a).Steam');\n",
"// (b).Air\n",
"Cpo=1.0035; // Specific heat at constant pressure in kJ/kg K\n",
"R=0.287; // characteristic gas constant of air in kJ/kg K\n",
"V1=m*R*(T1+273)/(p1*10^3); // Initil volume\n",
"V2=2*V1; // Final volume\n",
"T2=(T1+273)*V2/V1; // Final temperature\n",
"S21=m*Cpo*log (V2/V1); // Change in entropy\n",
"W=p1*10^3*(V2-V1); // Work done\n",
"Q=m*Cpo*(T2-(T1+273));// Heat transferred\n",
"disp ('kJ',Q,'Heat transferred = ','kJ',W,'Work done = ','kJ/K',S21,'Change in entropy = ','K',T2,'Final Temperature = ','(b).Air');"
   ]
   }
,
{
		   "cell_type": "markdown",
		   "metadata": {},
		   "source": [
			"## Example 7.3: CHANGE_IN_INTERNAL_ENERGY_AND_ENTROPY_OF_FLUID.sce"
		   ]
		  },
  {
"cell_type": "code",
	   "execution_count": null,
	   "metadata": {
	    "collapsed": true
	   },
	   "outputs": [],
"source": [
"clc;\n",
"m=1.5; // Mass of the fluid in kg\n",
"p1=1; // Initial pressure of fluid in bar\n",
"T1=150; // Initial temperture of fluid in degree celcius\n",
"v2=0.3; // Final specific volume in m^3/kg\n",
"//   (a).Steam\n",
"// Following are the values taken from steam table \n",
"u1=2582.8; // specific internal energy in kJ/kg\n",
"s1=7.6134; // specific entropy in kJ/kg K\n",
"vf2=0.001091; vfg2=0.3917; // specific volume of the steam in m^3/kg\n",
"sf2=1.8418; sfg2=4.9961; // specific entropy in kJ/kg K\n",
"uf2=631.7; ufg2=1927.8; // specific internal energy in kJ/kg\n",
"x2=(v2-vf2)/vfg2; // Quality of steam at state 2\n",
"s2=sf2+x2*sfg2; // specific entropy in kJ/kg K\n",
"u2=uf2+x2*ufg2; // specific internal energy in kJ/kg\n",
"S21=m*(s2-s1); // Change in entropy\n",
"U21=m*(u2-u1); // Change in internal energy\n",
"Q=(T1+273)*(S21); // Heat transferred\n",
"W=Q-U21; // Work done\n",
"disp ('kJ',Q,'Heat transferred = ','kJ',W,'Work done = ','kJ/K',S21,'Change in entropy = ','kJ',U21,'Change in internal energy = ','(a).Steam');\n",
"//   (b).Air\n",
"R=0.287; // characteristic gas constant of air in kJ/kg K\n",
"v1=(R*(T1+273))/(p1*10^2); // initial specific volume\n",
"S21=m*R*log (v2/v1); // Change in entropy\n",
"Q=(T1+273)*(S21); // Heat transferred\n",
"W=Q; // Work done\n",
"disp ('kJ',Q,'Heat transferred = ','kJ',W,'Work done = ','kJ/K',S21,'Change in entropy = ','kJ',U21,'Change in internal energy = ','(b).Air');"
   ]
   }
,
{
		   "cell_type": "markdown",
		   "metadata": {},
		   "source": [
			"## Example 7.4: WORKDONE_OF_FLUID.sce"
		   ]
		  },
  {
"cell_type": "code",
	   "execution_count": null,
	   "metadata": {
	    "collapsed": true
	   },
	   "outputs": [],
"source": [
"clc;\n",
"m=1.5; // Mass of the fluid in kg\n",
"p1=1.6; // Initial pressure of fluid in MPa\n",
"T1=250; // Initial temperture of fluid in degree celcius\n",
"p2=150; // Initial pressure of the fluid in kPa\n",
"//   (a).Steam\n",
"// Following are the values taken from steam table \n",
"// state 1 is superheated\n",
"u1=2692.3; // specific internal energy in kJ/kg\n",
"s1=6.6732; // specific entropy in kJ/kg K\n",
"v1=0.14184; // specific volume of the steam in m^3/kg\n",
"// State 2 is wet (s1=s2<sg2)\n",
"T2=111.37; // Final temperature of steam in degree celcius\n",
"sf2=1.4336; sfg2=5.7897; // specific entropy in kJ/kg K\n",
"uf2=466.94; ufg2=2052.7; // specific internal energy in kJ/kg\n",
"x2=(s1-sf2)/sfg2; // Quality of steam at state 2\n",
"u2=uf2+x2*ufg2; // specific internal energy in kJ/kg\n",
"W=-m*(u2-u1);// Work done\n",
"disp ('kJ',W,'Work done = ','K',T2+273,'Final temperature of steam =','(a).Steam');\n",
"//   (b).Air\n",
"Cvo=0.7165; // Specific heat at constant volume in kJ/kg K\n",
"k=1.4; // index of reversible adiabatic process\n",
"T2=(T1+273)*((p2*10^-3)/p1)^((k-1)/k); // Final temperature of air\n",
"W=-m*Cvo*(T2-(T1+273)); // Work done\n",
"disp ('kJ',W,'Work done = ','K',T2,'Final temperature of  =','(b).Air');"
   ]
   }
,
{
		   "cell_type": "markdown",
		   "metadata": {},
		   "source": [
			"## Example 7.5: REVERSIBLE_AND_POLYTROPIC_PROCESS.sce"
		   ]
		  },
  {
"cell_type": "code",
	   "execution_count": null,
	   "metadata": {
	    "collapsed": true
	   },
	   "outputs": [],
"source": [
"clc;\n",
"m=1.5; // Mass of the fluid in kg\n",
"p1=1.6; // Initial pressure of fluid in MPa\n",
"T1=250; // Initial temperture of fluid in degree celcius\n",
"p2=150; // Initial pressure of the fluid in kPa\n",
"n=1.25; // Index of polytropic process\n",
"//   (a).Steam\n",
"// Following are the values taken from steam table \n",
"// state 1 is superheated\n",
"u1=2692.3; // specific internal energy in kJ/kg\n",
"s1=6.6732; // specific entropy in kJ/kg K\n",
"v1=0.14184; // specific volume of the steam in m^3/kg\n",
"v2=v1*(p1/(p2*10^-3))^(1/n); // specific volume of the steam at state 2\n",
"// State 2 is wet \n",
"T2=111.37; // Final temperature of steam in degree celcius\n",
"vf2=0.0010531; vfg2=1.1582; // specific volume of the steam in m^3/kg\n",
"x2=(v2-vf2)/vfg2; // Quality of steam at state 2\n",
"sf2=1.4336; sfg2=5.7897; // specific entropy in kJ/kg K\n",
"uf2=466.94; ufg2=2052.7; // specific internal energy in kJ/kg\n",
"s2=sf2+x2*sfg2; // specific entropy in kJ/kg K\n",
"u2=uf2+x2*ufg2; // specific internal energy in kJ/kg\n",
"W=m*((p2*v2)-(p1*10^3*v1))/(1-n); // Work done\n",
"Q=m*(u2-u1)+W; // Heat ttransferred\n",
"S21=m*(s2-s1); // Change in entropy\n",
"disp ('kJ',Q,'Heat transferred = ','kJ',W,'Work done = ','kJ/K',S21,'Change in entropy = ','K',T2+273,'Final Temperature = ','(a).Steam');\n",
"//   (b).Air\n",
"R=0.287; // characteristic gas constant of air in kJ/kg K\n",
"Cvo=0.7165; // Specific heat at constant volume in kJ/kg K\n",
"T2=(T1+273)*((p2*10^-3)/p1)^((n-1)/n); // Final temperature of air\n",
"W=m*R*(T2-(T1+273))/(1-n); // Work done\n",
"Q=m*Cvo*(T2-(T1+273))+W; // Heat transferred\n",
"S21=m*(Cvo+R/(1-n))*log (T2/(T1+273)); // Change in entropy\n",
"disp ('kJ',Q,'Heat transferred = ','kJ',W,'Work done = ','kJ/K',S21,'Change in entropy = ','K',T2,'Final Temperature = ','(b).Air');"
   ]
   }
,
{
		   "cell_type": "markdown",
		   "metadata": {},
		   "source": [
			"## Example 7.6: ISENTROPIC_EFFICIENCY_OF_TURBINE.sce"
		   ]
		  },
  {
"cell_type": "code",
	   "execution_count": null,
	   "metadata": {
	    "collapsed": true
	   },
	   "outputs": [],
"source": [
"clc;\n",
"m=1; // Massflow rate of the steam in kg/s\n",
"p1=3.5; // Pressure at inlet in MPa\n",
"T1=400; // Temperature at inlet in degree celcius\n",
"V1=250; // Velocity of stesm at inlet in m/s\n",
"p2=50; // Pressure at outlet in kPa\n",
"T2=100; // Temperature at outlet in degree celcius\n",
"V2=30; // Velocity of stesm at outlet in m/s\n",
"// For actual expansion in the turbine\n",
"h1=3222.3; h2=2682.5; // specific enthalpy in kJ/kg at inlet and exit\n",
"wa=h1-h2+(V1^2-V2^2)/2000; // Work done\n",
"W=m*wa; // Power output\n",
"disp ('kW',W,'Power output of the turbine = (Error in textbook)');\n",
"// For reversible adiabatic expansion\n",
"// Following are the values taken from steam table \n",
"s1=6.8405; // specific entropy in kJ/kg K\n",
"s2s=s1; // Isentropic expansion\n",
"sf2=1.091; sfg2=6.5029; // specific entropy in kJ/kg K\n",
"hf2=340.49; hfg2=2305.4; // specific enthalpy in kJ/kg\n",
"x2s=(s1-sf2)/sfg2; // Quality of steam at state 2\n",
"h2s=hf2+x2s*hfg2; // specific enthalpy in kJ/kg\n",
"ws=h1-h2s+(V1^2-V2^2)/2000; // Isentropic Work done\n",
"eff_isen=wa/ws; // Isentropic efficiency of the turbine\n",
"disp('%',eff_isen*100,'Isentropic efficiency of the turbine = (Error in textbook)')"
   ]
   }
,
{
		   "cell_type": "markdown",
		   "metadata": {},
		   "source": [
			"## Example 7.7: POWER_OF_AIRTRBINE.sce"
		   ]
		  },
  {
"cell_type": "code",
	   "execution_count": null,
	   "metadata": {
	    "collapsed": true
	   },
	   "outputs": [],
"source": [
"clc;\n",
"m=1; // Massflow rate of the steam in kg/s\n",
"p1=3.5; // Pressure at inlet in bar\n",
"T1=160; // Temperature at inlet in degree celcius\n",
"p2=1; // Pressure at outlet in bar\n",
"Cpo=1.005; // Specific heat at constant pressure in kJ/kg K\n",
"eff_isen=0.85; // Isentropic efficiency of the turbine\n",
"k=1.4; // index of isentropic process\n",
"T2s=(T1+273)*(p2/p1)^((k-1)/k); // Final temperature after isentropic expansion\n",
"Ws=m*Cpo*((T1+273)-T2s); // Isentropic power developed\n",
"Wa=eff_isen*Ws; // Actual power developed\n",
"T2=(T1+273)-(Wa/(m*Cpo)); // Final temperature after expansion\n",
"disp ('K',T2,'Final temperature after expansion = ','kW',Wa,'Actual power developed (Error in textbook)=');"
   ]
   }
,
{
		   "cell_type": "markdown",
		   "metadata": {},
		   "source": [
			"## Example 7.8: ADIABATIC_EFFICIENCY_OF_COMPRESSOR.sce"
		   ]
		  },
  {
"cell_type": "code",
	   "execution_count": null,
	   "metadata": {
	    "collapsed": true
	   },
	   "outputs": [],
"source": [
"clc;\n",
"m=0.05; // mass flowrate of Freon 12 in kg/s\n",
"p1=300; // Pressure of Freon 12 at inlet in kpa\n",
"t1=5; // Temperature of Freon 12 at inlet in degree celcius\n",
"p2=1.2; // Pressure of Freon 12 at outlet in MPa\n",
"t2=80; // Temperature of Freon 12 at outlet in degree celcius\n",
"W=-2.3; // Power consumption of compressor in kW\n",
"//   (a).Heat transfer from the body of compressor to environment\n",
"// From  the table of properties of Freon 12\n",
"h1= 190.8; h2=230.4; // specific enthalpy in kJ/kg \n",
"s1=0.71; s2=0.7514 // specific entropy in kJ/kg K\n",
"Q=m*(h2-h1)+W; // Heat transfer \n",
"disp ('kW',Q,'(a).Heat transfer from the body of compressor to environment =');\n",
"//   (b).Adiabatic efficiency of the compressor\n",
"// For adiabatic compression p2=1.2Mpa,s2s=s1\n",
"t2s=61.7;// Temperature of Freon 12 at outlet in degree celcius\n",
"h2s=216.14; // specific enthalpy in kJ/kg \n",
"ws=(h2s-h1); // Reversible adiabatic work\n",
"wa=W/m; // Actual work\n",
"eff_com=abs (ws/wa); // Adiabatic efficiency\n",
"disp ('%',eff_com*100,'(b).Adiabatic efficiency of the compressor = ');"
   ]
   }
,
{
		   "cell_type": "markdown",
		   "metadata": {},
		   "source": [
			"## Example 7.9: COMPRESSOR_OF_GAS_TURBINE.sce"
		   ]
		  },
  {
"cell_type": "code",
	   "execution_count": null,
	   "metadata": {
	    "collapsed": true
	   },
	   "outputs": [],
"source": [
"clc;\n",
"p1=1; // Pressure of air at inlet of compressor in bar\n",
"T1=30; // Temperature of air at inlet of compressor in degree celcius\n",
"p2=12; // Delivery pressure of air in bar\n",
"T2=400; // Temperature of air at inlet of compressor in degree celcius\n",
"V2=90; // Velocity of air at exit in m/s\n",
"w=3740; // Power input to compressor in kW\n",
"k=1.4; // Index of reversible adiabatic process\n",
"Cpo=1.0035; // Specific heat at constant pressure in kJ/kg K\n",
"wa=Cpo*(T2-T1)+V2^2/2000; // Actual specific work input\n",
"m=w/wa; // Mass flow rate of air\n",
"T2s=(T1+273)*(p2/p1)^((k-1)/k);// Isentropic discharge temperature\n",
"ws=Cpo*(T2s-(T1+273))+V2^2/2000; // Isentropic work\n",
"eff_com=ws/wa; // Isentrpic efficiency\n",
"disp ('%',eff_com*100,'Isentrpic efficiency of compressor =','K',T2s,'Isentropic discharge temperature = ');"
   ]
   }
],
"metadata": {
		  "kernelspec": {
		   "display_name": "Scilab",
		   "language": "scilab",
		   "name": "scilab"
		  },
		  "language_info": {
		   "file_extension": ".sce",
		   "help_links": [
			{
			 "text": "MetaKernel Magics",
			 "url": "https://github.com/calysto/metakernel/blob/master/metakernel/magics/README.md"
			}
		   ],
		   "mimetype": "text/x-octave",
		   "name": "scilab",
		   "version": "0.7.1"
		  }
		 },
		 "nbformat": 4,
		 "nbformat_minor": 0
}
