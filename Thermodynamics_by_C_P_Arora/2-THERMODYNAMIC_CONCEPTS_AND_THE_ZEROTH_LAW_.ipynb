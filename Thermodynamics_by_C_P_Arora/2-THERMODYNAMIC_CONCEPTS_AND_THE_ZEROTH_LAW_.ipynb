{
"cells": [
 {
		   "cell_type": "markdown",
	   "metadata": {},
	   "source": [
       "# Chapter 2: THERMODYNAMIC CONCEPTS AND THE ZEROTH LAW "
	   ]
	},
{
		   "cell_type": "markdown",
		   "metadata": {},
		   "source": [
			"## Example 2.1: MASS_OF_PISTON.sce"
		   ]
		  },
  {
"cell_type": "code",
	   "execution_count": null,
	   "metadata": {
	    "collapsed": true
	   },
	   "outputs": [],
"source": [
"clc;\n",
"patm = 14.5 ; // atmospheric pressure in psia\n",
"pgauge = 2.5; // gauge pressure in psia\n",
"A = 10; // Area of the piston in in^2\n",
"g=9.80665; // Acceleration due to gravity in m/s^2\n",
"p = patm + pgauge; //total pressure of gas\n",
"m=(p-patm)*A ; //mass of the piston\n",
"disp('lbm',m,'Mass of the piston =','In English units');\n",
"p=(p*0.454*g)/(0.0254^2); // conversion of English unit to SI units\n",
"patm=(patm*0.454*g)/(0.0254^2); // conversion of English unit to SI units\n",
"m = ((p-patm)*(A*2.54^2*10^-4))/g; // Mass of the piston\n",
"disp('kg',m,'Mass of the piston =','In SI units');"
   ]
   }
,
{
		   "cell_type": "markdown",
		   "metadata": {},
		   "source": [
			"## Example 2.2: INCLINED_MANOMETER.sce"
		   ]
		  },
  {
"cell_type": "code",
	   "execution_count": null,
	   "metadata": {
	    "collapsed": true
	   },
	   "outputs": [],
"source": [
"clc;\n",
"d_r = 13600; // Density of manometric fluid (mercury) in kg/m^3\n",
"g = 8.92; // Gravitational acceleration in m/s^2\n",
"z1=0.589*sind(60); // vertical height of fluid at section 1\n",
"z2=2*sind(30); // vertical height of fluid at section 2\n",
"z=z2-z1; // Difference in vertical heights of fluid\n",
"patm = 14.7; // Atmospheric pressure in lbf/in^2\n",
"patm=(patm*4.44822*144/0.3048^2); // conversion of lbf/in^2 unit to N/m^2 unit\n",
"p=patm + (d_r*g*(z2-z1)); // Balance of force at A\n",
"disp ('m',z,'Difference in vertical heights of fluid');\n",
"disp ('kPa',p/1000,'The pressure of fluid in the vessel');"
   ]
   }
],
"metadata": {
		  "kernelspec": {
		   "display_name": "Scilab",
		   "language": "scilab",
		   "name": "scilab"
		  },
		  "language_info": {
		   "file_extension": ".sce",
		   "help_links": [
			{
			 "text": "MetaKernel Magics",
			 "url": "https://github.com/calysto/metakernel/blob/master/metakernel/magics/README.md"
			}
		   ],
		   "mimetype": "text/x-octave",
		   "name": "scilab",
		   "version": "0.7.1"
		  }
		 },
		 "nbformat": 4,
		 "nbformat_minor": 0
}
