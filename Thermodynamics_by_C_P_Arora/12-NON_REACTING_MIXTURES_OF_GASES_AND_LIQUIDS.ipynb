{
"cells": [
 {
		   "cell_type": "markdown",
	   "metadata": {},
	   "source": [
       "# Chapter 12: NON REACTING MIXTURES OF GASES AND LIQUIDS"
	   ]
	},
{
		   "cell_type": "markdown",
		   "metadata": {},
		   "source": [
			"## Example 12.1: PROPERTIES_OF_DRY_AIR.sce"
		   ]
		  },
  {
"cell_type": "code",
	   "execution_count": null,
	   "metadata": {
	    "collapsed": true
	   },
	   "outputs": [],
"source": [
"clc;\n",
"M1=28.02; // Molecular mass of N2\n",
"M2=32; // Molecular mass of O2\n",
"M3=39.91; // Molecular mass of Ar\n",
"M4=44; // Molecular mass of CO2\n",
"M5=2.02; // Molecular mass of H2\n",
"y1=0.7803; // Part by volume of N2 in dry atmospheric air\n",
"y2=0.2099; // Part by volume of O2 in dry atmospheric air\n",
"y3=0.0094; // Part by volume of Ar in dry atmospheric air\n",
"y4=0.0003; // Part by volume of CO2 in dry atmospheric air\n",
"y5=0.0001; // Part by volume of H2 in dry atmospheric air\n",
"R_1=8.3143; // Universal gas constant of air in kJ/kmol K\n",
"// (a).Average molecular mass and apperent gas constant of dry atmospheric air\n",
"M=(y1*M1)+(y2*M2)+(y3*M3)+(y4*M4)+(y5*M5); // Average molecular mass\n",
"R=R_1/M; //Apperent gas constant of dry atmospheric air\n",
"disp ('kJ/kg K',R,'Apperent gas constant of dry atmospheric air =','kmol',M,'Average molecular mass = ','(a).Average molecular mass and apperent gas constant of dry atmospheric air');\n",
"// (b).The fraction of each component\n",
"m1=(M1*y1)/M;//The fraction of N2 component\n",
"m2=(M2*y2)/M;//The fraction of O2 component\n",
"m3=(M3*y3)/M;//The fraction of Ar component\n",
"m4=(M4*y4)/M;//The fraction of CO2 component\n",
"m5=(M5*y5)/M;//The fraction of H2 component\n",
"disp (m5,m4,m3,m2,m1,'(b).The fraction of N2,O2,Ar,CO2,H2 components are given below respectively ');\n",
""
   ]
   }
,
{
		   "cell_type": "markdown",
		   "metadata": {},
		   "source": [
			"## Example 12.2: EXHAUST_GAS_ANALYSIS.sce"
		   ]
		  },
  {
"cell_type": "code",
	   "execution_count": null,
	   "metadata": {
	    "collapsed": true
	   },
	   "outputs": [],
"source": [
"clc;\n",
"M1=44; // Molecular mass of CO2\n",
"M2=32; // Molecular mass of O2\n",
"M3=28; // Molecular mass of CO\n",
"M4=28; // Molecular mass of N2\n",
"y1=0.1; // Part by volume of CO2 in exhaust gas\n",
"y2=0.06; // Part by volume of O2 in exhaust gas\n",
"y3=0.03; // Part by volume of CO in exhaust gas\n",
"y4=0.81; // Part by volume of N2 in exhaust gas\n",
"R_1=8.3143; // Universal gas constant  in kJ/kmol K\n",
"// (a).Average molecular mass and apperent gas constant of exhaust gas\n",
"M=(y1*M1)+(y2*M2)+(y3*M3)+(y4*M4); // Average molecular mass\n",
"R=R_1/M; //Apperent gas constant of dry atmospheric air\n",
"disp ('kJ/kg K',R,'Apperent gas constant of dry atmospheric air =','kmol',M,'Average molecular mass = ','(a).Average molecular mass and apperent gas constant of exhaust gas');\n",
"// (b).The fraction of each component\n",
"m1=(M1*y1)/M;//The fraction of CO2 component\n",
"m2=(M2*y2)/M;//The fraction of O2 component\n",
"m3=(M3*y3)/M;//The fraction of CO component\n",
"m4=(M4*y4)/M;//The fraction of N2 component\n",
"disp (m4,m3,m2,m1,'(b).The fraction of CO2,O2,CO,N2 components are given below respectively ');"
   ]
   }
,
{
		   "cell_type": "markdown",
		   "metadata": {},
		   "source": [
			"## Example 12.3: MINIMUM_WORK_OF_SEPARATION_OF_GASES.sce"
		   ]
		  },
  {
"cell_type": "code",
	   "execution_count": null,
	   "metadata": {
	    "collapsed": true
	   },
	   "outputs": [],
"source": [
"clc;\n",
"y1=0.79; // Volume of Nitrogen in 1 kg of air\n",
"y2=0.21; // Volume of Oxygen in 1 kg of air\n",
"R_1=8.3143; // Universal gas constant of air in kJ/kmol K\n",
"T0=298; // temperature of Surroundings in kelvin\n",
"del_Sgen=-R_1*((y1*log (y1))+(y2*log (y2))); //Entropy generation\n",
"LW=T0*del_Sgen; // Minimum work\n",
"disp ('kJ/kmmol K',LW,'The minimum work required for separation of two gases = ');"
   ]
   }
,
{
		   "cell_type": "markdown",
		   "metadata": {},
		   "source": [
			"## Example 12.4: MEASUREMENT_OF_HUMIDITY.sce"
		   ]
		  },
  {
"cell_type": "code",
	   "execution_count": null,
	   "metadata": {
	    "collapsed": true
	   },
	   "outputs": [],
"source": [
"clc;\n",
"DPT=8; // Dew point temperature in degree celcius\n",
"p=100; // Pressure of air in kPa\n",
"T=25; // Temperature of air in degree celcius\n",
"// (a).partial pressure of water vapour in air\n",
"pv=1.0584; // Saturation pressure of water at DBT in kPa\n",
"disp ('kPa',pv,'(a).partial pressure of water vapour in air = ');\n",
"// (b).Specific humidity\n",
"sh=0.622*pv/(p-pv);//Specific humidity\n",
"disp ('kg of water vapour /kg of dry air',sh,'(b).Specific humidity =');\n",
"// (c).Relative humidity\n",
"pg=3.169; // Saturation pressure of water at T in kPa\n",
"RH=pv/pg; //Relative humidity\n",
"disp ('%',RH*100,'(c).Relative humidity =');"
   ]
   }
,
{
		   "cell_type": "markdown",
		   "metadata": {},
		   "source": [
			"## Example 12.5: CALCLATIONS_OF_PROPERTIES_FOR_THE_AIR.sce"
		   ]
		  },
  {
"cell_type": "code",
	   "execution_count": null,
	   "metadata": {
	    "collapsed": true
	   },
	   "outputs": [],
"source": [
"clc;\n",
"DBT=35; // Dry bulb temperature in degree celcius\n",
"WBT=23; // Wet bulb temperature in degree celcius\n",
"P=100; // Pressure of air in kPa\n",
"Cpo=1.0035; // Specific heat at constant pressure in kJ/kg K\n",
"R=0.287; // characteristic gas constant of air in kJ/kg K\n",
"// (a).Humidity ratio\n",
"hv=2565.3; // specific enthalpy hg at DBT in kJ/kg \n",
"hfWBT=96.52; hfgWBT=2443; // specific enthalpy at WBT in kJ/kg \n",
"PsatWBT=2.789;// Saturation pressure at WBT in kPa\n",
"shWBT=0.622*PsatWBT/(P-PsatWBT);// specific humidity\n",
"sh=((Cpo*(WBT-DBT))+(shWBT*hfgWBT))/(hv-hfWBT); // Humidity ratio\n",
"disp ('kg w.v /kg d.a',sh,'(a).Humidity ratio =');\n",
"// (b).Relative Humidity\n",
"pv=sh*P/(0.622+sh); // Partial pressure of water vapour\n",
"pg=5.628; // Saturation pressure at DBT in kPa\n",
"RH=pv/pg; //Relative Humidity\n",
"disp ('%',RH*100,'(b).Relative Humidity =');\n",
"// (d).Dew point temperature\n",
"DPT=17.5; // Saturation temperature at pg in degree celcius\n",
"disp ('oC',DPT,'(d).Dew point temperature =');\n",
"// (e).Specific volume\n",
"v=(R*(DBT+273))/(P-pv); // Specific volume\n",
"disp ('m^3/kg',v,'(e).Specific volume = ');\n",
"// (d).Enthalpy of air\n",
"h=(Cpo*DBT)+(sh*hv); //Enthalpy of air\n",
"disp ('kJ/kg d.a',h,'(d).Enthalpy of air =');"
   ]
   }
,
{
		   "cell_type": "markdown",
		   "metadata": {},
		   "source": [
			"## Example 12.6: COOLING_AND_DEHUMIDIFICATION_OF_MOIST_AIR.sce"
		   ]
		  },
  {
"cell_type": "code",
	   "execution_count": null,
	   "metadata": {
	    "collapsed": true
	   },
	   "outputs": [],
"source": [
"clc;\n",
"DPT1=30; // Dew point temperature at inlet in degree celcius\n",
"DPT2=15; // Dew point temperature at outlet in degree celcius\n",
"RH1=0.50; // Relative humidity  at inlet\n",
"RH2=0.80; // Relative humidity  at outlet\n",
"p=101.325; // Atmospheric pressure in kPa\n",
"Cpo=1.0035; // Specific heat at constant pressure in kJ/kg K\n",
"pg1=4.246; // saturation pressure of water at DBT1 in kPa\n",
"pg2=1.7051;  // saturation pressure of water at DBT2 in kPa\n",
"pv1=RH1*pg1; pv2=RH2*pg2; // Partial pressure of water vapour in air at inlet and outlet\n",
"sh1=0.622*pv1/(p-pv1); sh2=0.622*pv2/(p-pv2); // Specific humidities at inlet and outlet\n",
"hv1=2556.3;// specific enthalpy hg at DBT1 in kJ/kg\n",
"hv2=2528.9;// specific enthalpy hg at DBT2 in kJ/kg\n",
"hv3=63;// specific enthalpy hf at DBT 2in kJ/kg\n",
"q=(Cpo*(DPT2-DPT1))+(sh2*hv2)-(sh1*hv1)+((sh1-sh2)*hv3); // Heat transfer\n",
"disp ('kJ/kg of dry air',q,'Heat removed from the air =');"
   ]
   }
,
{
		   "cell_type": "markdown",
		   "metadata": {},
		   "source": [
			"## Example 12.7: MOLAR_VOLUMES_OF_GAS_MIXTURES.sce"
		   ]
		  },
  {
"cell_type": "code",
	   "execution_count": null,
	   "metadata": {
	    "collapsed": true
	   },
	   "outputs": [],
"source": [
"clc;\n",
"y1=0.5; // Molecular mass of CH4 in kmol\n",
"y2=0.5; // Molecular mass of C3H8 in kmol\n",
"T=363; // Temperature of gas in kelvin\n",
"p=5.06; // Pressure of gas in MPa\n",
"v=0.48; // volume of cylinder in m^3\n",
"R_1=8.3143; // Universal gas constant of air in kJ/kmol K\n",
"\n",
"// (a).Using kay’s rule\n",
"// let component 1 refer to methane and component 2 to propane\n",
"// the critical properties\n",
"Tc1=190.7; Tc2=370; // temperature in kelvin\n",
"Pc1=46.4; Pc2=42.7; // Pressure in bar\n",
"// using kay’s rule for the mixture\n",
"Tcmix=y1*Tc1+y2*Tc2;\n",
"Pcmix=y1*Pc1+y2*Pc2;\n",
"// reduced properties\n",
"Tr=T/Tcmix; Pr=p/Pcmix;\n",
"// From generalized chart\n",
"z=0.832;\n",
"v_1=z*R_1*T/(p*10^3); // molar volume of the mixture\n",
"d=(v-v_1)/v; // Percentage deviation from actual value\n",
"disp ('%',d*100,'Percentage deviation from actual value = ','(a).Using kay’s rule');\n",
"// (b).Using Redlich-Kwong equation of state\n",
"a1=0.42748*R_1*Tc1^2.5/Pc1;\n",
"a2=0.42748*R_1*Tc2^2.5/Pc2;\n",
"b1=0.08664*R_1*Tc1/Pc1;\n",
"b2=0.08664*R_1*Tc2/Pc2;\n",
"// Substituting these values in the equation 12.16\n",
"// And solving these equation by iteration method we get\n",
"v_1=0.47864;// molar volume of the mixture\n",
"d=(v-v_1)/v; // Percentage deviation from actual value\n",
"disp ('%',d*100,'Percentage deviation from actual value = ','(b).Using Redlich-Kwong equation of state');"
   ]
   }
,
{
		   "cell_type": "markdown",
		   "metadata": {},
		   "source": [
			"## Example 12.8: FUGACITY_FROM_COMPRESSIBILITY_DATA_OF_A_MIXTURE.sce"
		   ]
		  },
  {
"cell_type": "code",
	   "execution_count": null,
	   "metadata": {
	    "collapsed": true
	   },
	   "outputs": [],
"source": [
"clc;\n",
"ln_piCH4=-0.0323;\n",
"pi_CH4=0.9683;\n",
"p=6895; // Pressure in kPa\n",
"T=104.4; // Temperature in degree celcius\n",
"a=0.784;\n",
"f_CH4=pi_CH4*a*p; // Faguacity\n",
"disp('kPa',f_CH4,'The Required Faguacity = ');"
   ]
   }
],
"metadata": {
		  "kernelspec": {
		   "display_name": "Scilab",
		   "language": "scilab",
		   "name": "scilab"
		  },
		  "language_info": {
		   "file_extension": ".sce",
		   "help_links": [
			{
			 "text": "MetaKernel Magics",
			 "url": "https://github.com/calysto/metakernel/blob/master/metakernel/magics/README.md"
			}
		   ],
		   "mimetype": "text/x-octave",
		   "name": "scilab",
		   "version": "0.7.1"
		  }
		 },
		 "nbformat": 4,
		 "nbformat_minor": 0
}
