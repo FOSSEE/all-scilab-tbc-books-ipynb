{
"cells": [
 {
		   "cell_type": "markdown",
	   "metadata": {},
	   "source": [
       "# Chapter 8: VAPOUR CYCLES"
	   ]
	},
{
		   "cell_type": "markdown",
		   "metadata": {},
		   "source": [
			"## Example 8.1: A_CARNOT_STEAM_CYCLE.sce"
		   ]
		  },
  {
"cell_type": "code",
	   "execution_count": null,
	   "metadata": {
	    "collapsed": true
	   },
	   "outputs": [],
"source": [
"clc;\n",
"TH=311.06; // Source temperature in degree celcius\n",
"pb=10; // Boiler pressure in MPa\n",
"TL=32.88; // Sink temperature in degree celcius \n",
"pc=5; // Condenser pressure in kPa\n",
"// From steam tables at pb\n",
"h2=1407.56; // specific enthalpy in kJ/kg \n",
"h3=2724.7; // specific enthalpy in kJ/kg \n",
"s2=3.3596; // specific entropy in kJ/kg K\n",
"s3=5.6141; // specific entropy in kJ/kg K\n",
"// From steam tables at pc\n",
"hf=137.82; hfg=2423.7; // specific enthalpy in kJ/kg \n",
"sf=0.4764; sfg=7.9187; // specific entropy in kJ/kg K\n",
"x1=(s2-sf)/sfg; // quality of steam at state 1\n",
"x4=(s3-sf)/sfg; // quality of steam at state 4\n",
"h1=hf+x1*hfg; // specific enthalpy at state 1\n",
"h4=hf+x4*hfg; // specific enthalpy at state 4\n",
"wT=h3-h4; // Turbine work\n",
"wC=h2-h1; // Compressor work\n",
"wnet=wT-wC; // Net work output\n",
"qH=h3-h2; // Heat added\n",
"rw=wnet/wT; // Ratio of net work to trbine work\n",
"eff_th=wnet/qH; // Thermal efficiency\n",
"SSC=3600/wnet; // specific steam consumption\n",
"disp ('kg/kWh',SSC,'specific steam consumption =','%',eff_th*100,'Thermal efficiency =',rw,'Ratio of net work to trbine work =');"
   ]
   }
,
{
		   "cell_type": "markdown",
		   "metadata": {},
		   "source": [
			"## Example 8.2: SIMPLE_RANKINE_CYCLE.sce"
		   ]
		  },
  {
"cell_type": "code",
	   "execution_count": null,
	   "metadata": {
	    "collapsed": true
	   },
	   "outputs": [],
"source": [
"clc;\n",
"TH=311.06; // Source temperature in degree celcius\n",
"p2=10; // Boiler pressure in MPa\n",
"TL=32.88; // Sink temperature in degree celcius \n",
"p1=5; // Condenser pressure in kPa\n",
"// From steam tables at p2\n",
"h3=2724.7; // specific enthalpy in kJ/kg \n",
"s3=5.6141; // specific entropy in kJ/kg K\n",
"// From steam tables at p1\n",
"hf=137.82; hfg=2423.7; // specific enthalpy in kJ/kg \n",
"sf=0.4764; sfg=7.9187; // specific entropy in kJ/kg K\n",
"x4=(s3-sf)/sfg; // quality of steam at state 4\n",
"h4=hf+x4*hfg; // specific enthalpy at state 4\n",
"h1=137.82; // specific enthalpy at state 1 in kJ/kg \n",
"s1=0.4764; // specific entropy at state in kJ/kgK\n",
"v1=0.001005; // specific volume in m^3/kg\n",
"wp=abs (v1*(p2*10^3-p1)); // Pump work (absolute value)\n",
"h2=h1+wp; // specific enthalpy at state 2\n",
"wT=h3-h4; // Turbine work\n",
"wnet=wT-wp; // Net work output\n",
"qH=h3-h2; // Heat added\n",
"rw=wnet/wT; // Ratio of net work to trbine work\n",
"eff_th=wnet/qH; // Thermal efficiency\n",
"SSC=3600/wnet; // specific steam consumption\n",
"disp ('kg/kWh',SSC,'specific steam consumption =','%',eff_th*100,'Thermal efficiency =',rw,'Ratio of net work to trbine work =');"
   ]
   }
,
{
		   "cell_type": "markdown",
		   "metadata": {},
		   "source": [
			"## Example 8.3: COMPARSION_OF_CARNOT_AND_RANKINE_CYCLE.sce"
		   ]
		  },
  {
"cell_type": "code",
	   "execution_count": null,
	   "metadata": {
	    "collapsed": true
	   },
	   "outputs": [],
"source": [
"clc;\n",
"TH=311.06; // Source temperature in degree celcius\n",
"p2=10; // Boiler pressure in MPa\n",
"TL=32.88; // Sink temperature in degree celcius \n",
"p1=5; // Condenser pressure in kPa\n",
"// (a).Actual carnot cycle\n",
"eff_Tur=0.8; // Efficiency of turbine\n",
"eff_com=0.6; // Efficiency of compressure\n",
"// From steam tables at p2\n",
"h3=2724.7; // specific enthalpy in kJ/kg \n",
"s3=5.6141; // specific entropy in kJ/kg K\n",
"s2=3.3596; // specific entropy in kJ/kg K\n",
"h2=1407.56; // specific enthalpy in kJ/kg \n",
"// From steam tables at p1\n",
"hf=137.82; hfg=2423.7; // specific enthalpy in kJ/kg \n",
"sf=0.4764; sfg=7.9187; // specific entropy in kJ/kg K\n",
"x1=(s2-sf)/sfg; // quality of steam at state 1\n",
"x4=(s3-sf)/sfg; // quality of steam at state 4\n",
"h1=hf+x1*hfg; // specific enthalpy at state 1\n",
"h4=hf+x4*hfg; // specific enthalpy at state 4\n",
"wTs=h3-h4; // Turbine work\n",
"wT=eff_Tur*wTs; // Actual turbine work\n",
"wCs=h2-h1; // Compressor work\n",
"wC=wCs/eff_com; // Actual compressor work\n",
"wnet=wT-wC; // Net work output\n",
"h2a=h1+wC; // specific enthalpy\n",
"qH=h3-h2a; // Heat added\n",
"rw=wnet/wT; // Ratio of net work to trbine work\n",
"eff_th=wnet/qH; // Thermal efficiency\n",
"SSC=3600/wnet; // specific steam consumption\n",
"disp ('kg/kWh',SSC,'specific steam consumption =','%',eff_th*100,'Thermal efficiency =',rw,'Ratio of net work to trbine work =','(a).Actual carnot cycle');\n",
"//   (b).Actual Rankine cycle\n",
"eff_Tur=0.8; // Efficiency of turbine\n",
"eff_pump=0.9; // Efficiency of Pump\n",
"// From steam tables at p1\n",
"h1=137.82; // specific enthalpy at state 1 in kJ/kg \n",
"s1=0.4764; // specific entropy at state in kJ/kgK\n",
"v1=0.001005; // specific volume in m^3/kg\n",
"wps=abs (v1*(p2*10^3-p1)); // Pump work (absolute value)\n",
"wp=wps/eff_pump; // Actual pmp work\n",
"h2a=h1+wp; // // specific enthalpy at state 2\n",
"wnet=wT-wp; // Net work output\n",
"qH=h3-h2a; // Heat added\n",
"rw=wnet/wT; // Ratio of net work to trbine work\n",
"eff_th=wnet/qH; // Thermal efficiency\n",
"SSC=3600/wnet; // specific steam consumption\n",
"disp ('kg/kWh',SSC,'specific steam consumption =','%',eff_th*100,'Thermal efficiency =',rw,'Ratio of net work to trbine work =','(b).Actual Rankine cycle');"
   ]
   }
,
{
		   "cell_type": "markdown",
		   "metadata": {},
		   "source": [
			"## Example 8.4: DETERMINATION_OF_QUALITY_OF_EXHAST_STEAM_AND_SSC.sce"
		   ]
		  },
  {
"cell_type": "code",
	   "execution_count": null,
	   "metadata": {
	    "collapsed": true
	   },
	   "outputs": [],
"source": [
"clc;\n",
"T3=450; // temperature of steam at state 3 in degree celcius\n",
"p3=10; // Boiler pressure in MPa \n",
"p6=5; // Condenser pressure in kPa\n",
"// From steam tables at state 1\n",
"hf=137.82; hfg=2423.7; // specific enthalpy in kJ/kg \n",
"sf=0.4764; sfg=7.9187; // specific entropy in kJ/kg K\n",
"h1=137.82; // specific enthalpy at state 1 in kJ/kg \n",
"s1=0.4764; // specific entropy at state in kJ/kgK\n",
"v1=0.001005; // specific volume in m^3/kg\n",
"wp=abs (v1*(p3*10^3-p6)); // Pump work (absolute value)\n",
"h2=h1+wp; // specific enthalpy at state 2\n",
"//   (a).Rankine cycle with superheat\n",
"// From steam tables at state 3\n",
"h3=3240.9;// specific enthalpy in kJ/kg\n",
"s3=6.419; // specific entropy in kJ/kg K\n",
"// State 4_1\n",
"x4_1=(s3-sf)/sfg; // Quality of steam at state 4_1\n",
"h4_1=hf+x4_1*hfg; // specific enthalpy at state 4_1\n",
"wT=h3-h4_1; // Turbine work\n",
"wnet=wT-wp; // Net work output\n",
"qH=h3-h2; // Heat added\n",
"eff_th=wnet/qH; // Thermal efficiency\n",
"SSC=3600/wnet; // specific steam consumption\n",
"disp ('kg/kWh',SSC,'specific steam consumption =','%',eff_th*100,'Thermal efficiency =',x4_1,'Quality of steam at exhaust = ','(a).Rankine cycle with superheat');\n",
"//   (b).Reheat cycle\n",
"s4=s3; // isentropic expansion\n",
"x4=0.975; // Quality of steam at state 4\n",
"// from steam table intermediate pressure is selected for s4 & x4 by interpolation and assumed by round value\n",
"p4=1.2; // Intermediate pressure in MPa\n",
"// From steam tables at state 4\n",
"hf4=798.6; hfg4=1986.2; // specific enthalpy in kJ/kg \n",
"h4=hf4+x4*hfg4; // specific enthalpy in kJ/kg \n",
"// From steam tables at state 5\n",
"h5=3368.5;// specific enthalpy in kJ/kg\n",
"s5=7.5266; // specific entropy in kJ/kg K\n",
"x6=(s5-sf)/sfg; // Quality of steam at state 6\n",
"h6=hf+x6*hfg; // specific enthalpy in kJ/kg \n",
"wT=(h3-h4)+(h5-h6); // Turbine work\n",
"wnet=wT-wp; // Net work output\n",
"qH=(h3-h2)+(h5-h4); // Heat added\n",
"eff_th=wnet/qH; // Thermal efficiency\n",
"SSC=3600/wnet; // specific steam consumption\n",
"disp ('kg/kWh',SSC,'specific steam consumption =','%',eff_th*100,'Thermal efficiency =',x6,'Quality of steam at exhaust = ','(b).Reheat cycle');"
   ]
   }
,
{
		   "cell_type": "markdown",
		   "metadata": {},
		   "source": [
			"## Example 8.5: BLEEDING_OF_STEAM.sce"
		   ]
		  },
  {
"cell_type": "code",
	   "execution_count": null,
	   "metadata": {
	    "collapsed": true
	   },
	   "outputs": [],
"source": [
"clc;\n",
"T5=311.06; // temperature of steam at state 5  in degree celcius\n",
"p5=10; // Boiler pressure in MPa\n",
"p4=p5;\n",
"T7=32.88; // temperature of steam at state 7  in degree celcius \n",
"p7=5; // Condenser pressure in kPa\n",
"p1=p7;\n",
"// From steam tables at p7\n",
"h1=137.82; // specific enthalpy at state 1 in kJ/kg \n",
"s1=0.4764; // specific entropy at state 1 in kJ/kgK\n",
"v1=0.001005; // specific volume in m^3/kg\n",
"wp=abs (v1*(p5*10^3-p7)); // Pump work (absolute value)\n",
"h2=h1+wp; // specific enthalpy at state 2\n",
"T6=(T5+T7)/2; // Temperature of bleed system\n",
"h5=2724.7; // specific enthalpy at state 5 in kJ/kg \n",
"s5=5.6141; // specific entropy at state 5 in kJ/kgK\n",
"// From steam tables at state 6\n",
"p6=791.5; // bleed steam pressure in kPa\n",
"p2=p6; p3=p6;\n",
"vf6=0.00114; // specific volume in m^3/kg\n",
"v3=vf6;\n",
"hf6=719.21; hfg6=2049.5; // specific enthalpy in kJ/kg \n",
"sf6=2.0419; sfg6=4.6244; // specific entropy in kJ/kg K\n",
"x6=(s5-sf6)/sfg6; // quality of steam at state 6\n",
"h6=hf6+x6*hfg6; // specific enthalpy at state 6\n",
"h3=hf6; // specific enthalpy at state 3\n",
"m1=(h3-h2)/(h6-h2); // Fraction of bleed steam\n",
"wLP=abs (v1*(p2-p1)); // LP work\n",
"wHP=abs (v3*(p4*10^3-p3)); // HP work\n",
"wp=(1-m1)*wLP+wHP; // Total pump work\n",
"h2=h1+wp; h4=h3+wp; // Specific Enthalpies of water\n",
"// From steam tables at pc\n",
"hf7=137.82; hfg7=2423.7; // specific enthalpy in kJ/kg \n",
"sf7=0.4764; sfg7=7.9187; // specific entropy in kJ/kg K\n",
"x7=(s5-sf7)/sfg7; // quality of steam at state 7\n",
"h7=hf7+x7*hfg7; // specific enthalpy at state 4\n",
"wT=(h5-h6)+(1-m1)*(h6-h7); // Turbine work\n",
"wnet=wT-wp; // Net work output\n",
"qH=h5-h4; // Heat added\n",
"eff_th=wnet/qH; // Thermal efficiency\n",
"SSC=3600/wnet; // specific steam consumption\n",
"disp ('kg/kWh',SSC,'specific steam consumption =','%',eff_th*100,'Thermal efficiency =');"
   ]
   }
,
{
		   "cell_type": "markdown",
		   "metadata": {},
		   "source": [
			"## Example 8.6: BOILER_EFFICIENCY.sce"
		   ]
		  },
  {
"cell_type": "code",
	   "execution_count": null,
	   "metadata": {
	    "collapsed": true
	   },
	   "outputs": [],
"source": [
"clc;\n",
"ps=6.89+1; // Pressure of steam produced in bar (Absolute)\n",
"x=0.96; // Quality of steam produced\n",
"f=75; // Steady flow of water in litres\n",
"t=9.5; // Time consumption of water in minutes\n",
"tf=685; //Time consumption of 10 litre fuel in seconds\n",
"Vf=10; // consumption of fuel in litres\n",
"Sf=0.85; // specific gravity of water\n",
"CV=43125; // Calorific value of fuel in kJ/kg\n",
"ms=f/(t*60);// Steam generation\n",
"mf=Vf*Sf/tf; // consumption of fuel\n",
"// From steam tables at ps\n",
"hf=718.5; hfg=2050; // specific enthalpy in kJ/kg \n",
"hs=hf+x*hfg; // specific enthalpy of steam produced\n",
"hFW=146.7; // Enthalpy of feed water at 35 degree celcius\n",
"eff_boiler=(ms*(hs-hFW))/(mf*CV); // Boiler Efficiency\n",
"disp ('%',eff_boiler*100,'Boiler Efficiency = ');"
   ]
   }
,
{
		   "cell_type": "markdown",
		   "metadata": {},
		   "source": [
			"## Example 8.7: A_CARNOT_REFRIGERATOR.sce"
		   ]
		  },
  {
"cell_type": "code",
	   "execution_count": null,
	   "metadata": {
	    "collapsed": true
	   },
	   "outputs": [],
"source": [
"clc;\n",
"TL=-15; // Source temperature in degree celcius\n",
"TH=40; // Sink temperature in degree celcius\n",
"// From the table of properties of Freon - 12\n",
"h2=203.05; h3=74.53; hf4=22.31; hg4=180.85; // specific enthalpy in kJ/kg \n",
"s1=0.682; s3=0.2716; sf4=0.0906; sg4=0.7046; sfg4=sg4-sf4;// specific entropy in kJ/kg K\n",
"sf1=sf4; sfg1=sfg4; s2=s1; s4=s3; hf1=hf4; hg1=hg4; hfg4=hg4-hf4; hfg1=hfg4;// refer figure 8.20 \n",
"x1=(s1-sf1)/sfg1; // Dryness fraction at state 1\n",
"x4=(s4-sf4)/sfg4; // dryness fraction at state 4\n",
"h1=hf1+x1*hfg1; h4=hf4+x4*hfg4; // specific enthalpy in kJ/kg \n",
"wc=h2-h1; // work of compression\n",
"wE=h3-h4; // Work of expansion\n",
"qL=h1-h4; // Refrigerating effect\n",
"qH=h2-h3; // Heat rejected\n",
"wnet=wc-wE; // Net work\n",
"COPc=qL/wnet; // COP of the cycle\n",
"disp (COPc,'COP of the cycle =','kJ/kg',qH,'Heat rejected =','kJ/kg',qL,'Refrigerating effect = ','kJ/kg',wE,'Work of expansion =','kJ/kg',wc,'Work of compression = ');"
   ]
   }
,
{
		   "cell_type": "markdown",
		   "metadata": {},
		   "source": [
			"## Example 8.8: VAPOUR_COMPRESSION_CYCLE.sce"
		   ]
		  },
  {
"cell_type": "code",
	   "execution_count": null,
	   "metadata": {
	    "collapsed": true
	   },
	   "outputs": [],
"source": [
"clc;\n",
"TL=-15; // Source temperature in degree celcius\n",
"TH=40; // Sink temperature in degree celcius\n",
"// From the table of properties of Freon - 12\n",
"h3=74.53; h1=180.85; h4=h3; // specific enthalpy in kJ/kg \n",
"s1=0.7046; s2=0.682; // specific entropy in kJ/kg K\n",
"// (a)               \n",
"// (i).Condensor and Evaporator pressure\n",
"pc=0.9607; // Saturation pressure at TH in MPa\n",
"pE=0.1826; // Saturation pressure at TL in MPa\n",
"disp ('MPa',pE,'Evaporator pressure = ','MPa',pc,'Condensor pressure = ','(i).Condensor and Evaporator pressure','(a)');\n",
"// (ii).Compressor discharge temperature  & Enthalpy\n",
"p2=pc; // Condensor pressure\n",
"s2=s1; // refer figure 8.25\n",
"// From the table of properties of Freon - 12 at pc\n",
"t2=46.8; // Compressor discharge temperature in degree celcius\n",
"h2=208.3; // specific enthalpy in kJ/kg \n",
"disp ('kJ/kg',h2,'Enthalpy = ','oC',t2,'Compressor discharge temperature = ','(ii).Compressor discharge temperature  & Enthalpy');\n",
"// (iii).Ratio of COP of the cycle to Carnot COP\n",
"w=h2-h1; // Compressor work\n",
"qL=h1-h4; // Refrigeration effect\n",
"COP=qL/w; // COP of the cycle\n",
"COPc=4.68; // COP of carnot cycle from example 8.7\n",
"r=COP/COPc; // Ratio of COP of the cycle to Carnot COP\n",
"disp (r,'(iii).Ratio of COP of the cycle to Carnot COP = ');\n",
"// (b)                \n",
"QL=0.440; // Capacity of refrigerator in kW (1/8 ton of refrigeration)\n",
"m=QL/qL; // Mass flow rate of refrigerant\n",
"W=m*w; // Power consumption of compressor\n",
"QH=QL+W; // Heat rejected\n",
"disp ('kW',QH,'Heat rejected to surroundings = ','kW',W,'Power consumption of compressor = ','kg/s',m,'Mass flow rate of refrigerant = ','(b)');"
   ]
   }
],
"metadata": {
		  "kernelspec": {
		   "display_name": "Scilab",
		   "language": "scilab",
		   "name": "scilab"
		  },
		  "language_info": {
		   "file_extension": ".sce",
		   "help_links": [
			{
			 "text": "MetaKernel Magics",
			 "url": "https://github.com/calysto/metakernel/blob/master/metakernel/magics/README.md"
			}
		   ],
		   "mimetype": "text/x-octave",
		   "name": "scilab",
		   "version": "0.7.1"
		  }
		 },
		 "nbformat": 4,
		 "nbformat_minor": 0
}
