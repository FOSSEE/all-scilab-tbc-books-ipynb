{
"cells": [
 {
		   "cell_type": "markdown",
	   "metadata": {},
	   "source": [
       "# Chapter 13: Interference"
	   ]
	},
{
		   "cell_type": "markdown",
		   "metadata": {},
		   "source": [
			"## Example 13.1: Determine_the_carrier_to_interference_ratio_at_the_ground_receiving_antenna.sce"
		   ]
		  },
  {
"cell_type": "code",
	   "execution_count": null,
	   "metadata": {
	    "collapsed": true
	   },
	   "outputs": [],
"source": [
"//Variable Declaration\n",
"EIRP1=34     //desired carrier EIRP from satellite(dB)\n",
"G1=44    // ground station receiving antenna gain(dB)\n",
"G2=24.47 //Gain in desired direction(dB)\n",
"EIRP2=34  //EIRP by interfering satellite(dB)\n",
"PD=4      //Polarization discrimination(dB)\n",
"//Calculation\n",
"CIR=EIRP1-EIRP2+G1-G2+PD  //Carrier to Interference ratio(dB)\n",
"//Result\n",
"printf('The Carrier to interfernce ratio at the ground receiving antenna is %.2f dB',CIR)"
   ]
   }
,
{
		   "cell_type": "markdown",
		   "metadata": {},
		   "source": [
			"## Example 13.2: Calculate_the_C_I_ratio_on_the_uplink.sce"
		   ]
		  },
  {
"cell_type": "code",
	   "execution_count": null,
	   "metadata": {
	    "collapsed": true
	   },
	   "outputs": [],
"source": [
"//Variable Decalration\n",
"PA=24   //Transmit power by station A(dBW)\n",
"G1=54   //Antenna Gain(dB)\n",
"PC=30   //Transmit power by station C(dBW)\n",
"G2=24.47//off-axis gain in the S1 direction(dB)\n",
"PD=4      //Polarization discrimination(dB)\n",
"//Calculation\n",
"CIR=PA-PC+G1-G2+PD   //Carrier to Interference ratio(dB)\n",
"//Result\n",
"printf('The Carrier to interfernce ratio on uplink is %.2f dB',CIR)"
   ]
   }
,
{
		   "cell_type": "markdown",
		   "metadata": {},
		   "source": [
			"## Example 13.3: find_the_overall_ratio.sce"
		   ]
		  },
  {
"cell_type": "code",
	   "execution_count": null,
	   "metadata": {
	    "collapsed": true
	   },
	   "outputs": [],
"source": [
"//Variable Declaration\n",
"CIR1=27.53   //Carrier to interference ratio from Example 13.1(dB)\n",
"CIR2=23.53   //Carrier to interference ratio from Example 13.2(dB)\n",
"//Calculation\n",
"ICRu=10**(-CIR1/10)  //Interferece to carrier ratio for uplink\n",
"ICRd=10**(-CIR2/10)  //Interferece to carrier ratio for downlink\n",
"ICRant=ICRu+ICRd   //Overall Interferece to carrier ratio\n",
"CIRant=-10*log10(ICRant)//Overall Carrier to interference ratio (dB)\n",
"//Result\n",
"printf('The overall carrier to interference ratio is %.2f dB',CIRant)"
   ]
   }
,
{
		   "cell_type": "markdown",
		   "metadata": {},
		   "source": [
			"## Example 13.4: Determine_the_degradation_in_the_downlink.sce"
		   ]
		  },
  {
"cell_type": "code",
	   "execution_count": null,
	   "metadata": {
	    "collapsed": true
	   },
	   "outputs": [],
"source": [
"//Variable Declaration\n",
"SSi=4 //Initial satellite spacing(degrees)\n",
"SSl=2 //Later Satellite spacing(degrees)\n",
"//Calculation\n",
"IIR=(29-25*log10(SSl))-(29-25*log10(SSi))  //Increase in Interference(dB)\n",
"//Result\n",
"printf('The degradation in downlink C/I is %.1f dB',IIR)"
   ]
   }
,
{
		   "cell_type": "markdown",
		   "metadata": {},
		   "source": [
			"## Example 13.5: Calculate_the_protection_ratio_required_to_give_a_quality_impairment_factor.sce"
		   ]
		  },
  {
"cell_type": "code",
	   "execution_count": null,
	   "metadata": {
	    "collapsed": true
	   },
	   "outputs": [],
"source": [
"//Variable Declaration\n",
"f=4.2       //modualating frequency(MHz)\n",
"m=2.571     //Modulation index\n",
"QIF1=4.2    //Quality Impairment factor(a)\n",
"QIF2=4.5    //Quality Impairment factor(b)\n",
"//Calculation\n",
"Dv=2*m*f  //Peak to peak deviation(MHz)\n",
"PR1=12.5-20*log10(Dv/12)-QIF1+1.1*QIF1**2 //Protection ratio for case(a)\n",
"PR2=12.5-20*log10(Dv/12)-QIF2+1.1*QIF2**2 //Protection ratio for case(b)\n",
"//Results\n",
"printf('The protection ratio for quality impairment factor of 4.2 is %.1f dB',PR1)\n",
"printf('The protection ratio for quality impairment factor of 4.5 is %.1f dB',PR2)"
   ]
   }
,
{
		   "cell_type": "markdown",
		   "metadata": {},
		   "source": [
			"## Example 13.6: Calculate_the_transmission_gain_y.sce"
		   ]
		  },
  {
"cell_type": "code",
	   "execution_count": null,
	   "metadata": {
	    "collapsed": true
	   },
	   "outputs": [],
"source": [
"//Variable Decalration\n",
"LU=200   //Uplink propogation loss(dB)\n",
"LD=196   //Downlink propogation loss(dB)\n",
"GE=25    //Receiving gain of earth station(dB)\n",
"GE1=25   //Transmit gain of E1 in the direction of S(dB)\n",
"GS=9     //receive gain of S in the direction of E1(dB)\n",
"GS1=9   //Transmit gain of satellite S1 in the direction of E(dB)\n",
"GTE=48  //Transmit gain of E(dB)\n",
"GRE=48  //Receive gain of E(dB)\n",
"GRS=19  //Receive gain of S(dB)\n",
"GTS=19  //Transmit gain of S(dB)\n",
"US=-60    //Maximum power spectral density(dBJ)\n",
"US1=1   //Maximum power spectral density(uJ)\n",
"UE1=10  //Maximum power spectral density transmitted by earth station(uJ)\n",
"UE=-50  //Maximum power spectral density transmitted by earth station(dBJ)\n",
"k=-228.6\n",
"//Calculation\n",
"URS=UE+GTE+GRS-LU//Received power spectral density at satellite S(dB)\n",
"URE=US+GTS+GRE-LD//Received power spectral density at satellite E(dB)\n",
"y=URE-URS    //Transmission gain for network R(dB)\n",
"I1=US+GS1+GE-LD  //Interference received by earth station(dB)\n",
"I2=UE+GE1+GS-LU  //Uplink Interference(dB)\n",
"delTE=I1-k   //Earth station receiver input(dBK)\n",
"delTE=10**(delTE/10)   //Earth station receiver input(K)\n",
"delTS=I2-k   //Noise temperature at satellite receiver input(dBK)\n",
"delTSE=y+delTS  //Noise Temperature rise(dBKelvin)\n",
"delTSE=10**(delTSE/10)  //Noise Temperature rise(Kelvin)\n",
"delT=delTSE+delTE  //Equivalent noise temperature rise\n",
"disp(URE)\n",
"disp(URS)\n",
"//Results\n",
"printf('The transmission gain is %.f dB',y)\n",
"printf('The interference levels I1 an I2 are %.f %.f dBJ respectively',I1,I2)\n",
"printf('The equivalent temperature rise overall is %.2f Kelvin',delT)"
   ]
   }
],
"metadata": {
		  "kernelspec": {
		   "display_name": "Scilab",
		   "language": "scilab",
		   "name": "scilab"
		  },
		  "language_info": {
		   "file_extension": ".sce",
		   "help_links": [
			{
			 "text": "MetaKernel Magics",
			 "url": "https://github.com/calysto/metakernel/blob/master/metakernel/magics/README.md"
			}
		   ],
		   "mimetype": "text/x-octave",
		   "name": "scilab",
		   "version": "0.7.1"
		  }
		 },
		 "nbformat": 4,
		 "nbformat_minor": 0
}
