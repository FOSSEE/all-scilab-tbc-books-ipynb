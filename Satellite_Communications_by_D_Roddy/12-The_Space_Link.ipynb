{
"cells": [
 {
		   "cell_type": "markdown",
	   "metadata": {},
	   "source": [
       "# Chapter 12: The Space Link"
	   ]
	},
{
		   "cell_type": "markdown",
		   "metadata": {},
		   "source": [
			"## Example 12.10: Calculate_the_earth_station_EIRP_required_for_saturation.sce"
		   ]
		  },
  {
"cell_type": "code",
	   "execution_count": null,
	   "metadata": {
	    "collapsed": true
	   },
	   "outputs": [],
"source": [
"//Variable Declaration\n",
"f=14        //Frequency(GHz)\n",
"Ps=-120     //Flux density required to saturate the transponder(dBW/m2)\n",
"LOSSES=2    //Propogation Losses(dB)\n",
"FSL=207     //Free-space loss(dB)\n",
"//Calculation\n",
"A0=-21.45-20*log10(f)   //Effective antenna aperture(dB)\n",
"EIRP=Ps+A0+LOSSES+FSL //Equivalent isotropically radiated power(dB)\n",
"//Result\n",
"printf('The earth station EIRP required for saturation is %.2f dBW',EIRP)"
   ]
   }
,
{
		   "cell_type": "markdown",
		   "metadata": {},
		   "source": [
			"## Example 12.11: Calculate_the_carrier_to_noise_density_ratio.sce"
		   ]
		  },
  {
"cell_type": "code",
	   "execution_count": null,
	   "metadata": {
	    "collapsed": true
	   },
	   "outputs": [],
"source": [
"//Variable Declaration\n",
"Ps=-91.4      //saturation flux density(dBW/m2)\n",
"f=14          //uplink frequency(GHz)\n",
"GTR=-6.7      //G/T (dB/k)\n",
"BO=11        //Input Back off(dB)\n",
"k=-228.6       //Value of k(dB)\n",
"RFL=0.6      //receiver feeder loss\n",
"//Calculation\n",
"A0=-21.5-20*log10(f)   //Effective antenna aperture(dB)\n",
"CNR=Ps+A0-BO+GTR-k-RFL    //carrier to noise ratio(dB)\n",
"//Result\n",
"disp(A0)\n",
"printf('The carrier to noise ratio is %.1f dB',CNR)"
   ]
   }
,
{
		   "cell_type": "markdown",
		   "metadata": {},
		   "source": [
			"## Example 12.12: calculate_the_satellite_EIRP_required.sce"
		   ]
		  },
  {
"cell_type": "code",
	   "execution_count": null,
	   "metadata": {
	    "collapsed": true
	   },
	   "outputs": [],
"source": [
"//Variable Declaration\n",
"B=36     //Transponder Bandwidth(MHz)\n",
"CNR=22   //Carrier to noise ratio(dB)\n",
"LOSSES=200  //Total transmission losses(dB)\n",
"GTR=31     //Earth station G/T (dB/K)\n",
"k=-228.6   //Value of k(dB)\n",
"//Calculation\n",
"B=10*log10(B*10**6)   //Converting Bandwidth to dB\n",
"EIRP=CNR-GTR+LOSSES+k+B    //Equivalent isotropically radiated power(dB)\n",
"//Result\n",
"printf('Satellite EIRP required is %.0f dB',EIRP)"
   ]
   }
,
{
		   "cell_type": "markdown",
		   "metadata": {},
		   "source": [
			"## Example 12.13: Calculate_the_bit_rate_which_can_be_accomodated_and_the_EIRP_required.sce"
		   ]
		  },
  {
"cell_type": "code",
	   "execution_count": null,
	   "metadata": {
	    "collapsed": true
	   },
	   "outputs": [],
"source": [
"//Variable Declaration\n",
"B=36*10**6      //Transponder Bandwidth(Hz)\n",
"R=0.2     //Roll off factor \n",
"GTR=31    //Earth station G/T(dB/K)\n",
"LOSSES=200  //Total transmission losses(dB)\n",
"k=-228.6    //Value of k(dB)\n",
"BER=10**-5  //Value of Bit error rate\n",
"EbN0R=9.6   //Value of Eb/N0 from fig.10.17\n",
"//Calculation\n",
"Rb=2*B/(1+R)      //Bit rate(sec^-1)\n",
"Rb=10*log10(Rb)  //Converting Rb into decibels\n",
"CNR=EbN0R+Rb      //Carrier to noise ratio(dB)\n",
"EIRP=CNR-GTR+LOSSES+k  //Equivalent Isotropically radiated power(dBW)\n",
"//Results\n",
"printf('Bit rate that can be accommodated is %.1f dB',Rb)\n",
"printf('The EIRP required is %.1f dBW',EIRP)"
   ]
   }
,
{
		   "cell_type": "markdown",
		   "metadata": {},
		   "source": [
			"## Example 12.14: Calculate_the_carrier_to_noise_ratio_at_the_earth_station.sce"
		   ]
		  },
  {
"cell_type": "code",
	   "execution_count": null,
	   "metadata": {
	    "collapsed": true
	   },
	   "outputs": [],
"source": [
"//Variable Declaration\n",
"EIRP=25    //Satellite saturation value(dBW)\n",
"BO=6       //Output Backoff loss(dB)\n",
"FSL=196    //Free space loss(dB)\n",
"DL=1.5     //Downlink losses(dB)\n",
"GTR=41     //Earth station G/T(dB/K)\n",
"k=-228.6   //Value of k(dB)\n",
"//Calculation\n",
"CNR=EIRP-BO+GTR-FSL-DL-k  //Carrier to noise ratio(dB)\n",
"//Result\n",
"printf('The Carrier to noise density ratio at the earth station is %.1f dB',CNR)"
   ]
   }
,
{
		   "cell_type": "markdown",
		   "metadata": {},
		   "source": [
			"## Example 12.15: Calculate_the_power_output_of_the_TWTA_required_for_full_saturated_EIRP.sce"
		   ]
		  },
  {
"cell_type": "code",
	   "execution_count": null,
	   "metadata": {
	    "collapsed": true
	   },
	   "outputs": [],
"source": [
"//Variable Declaration\n",
"EIRP=56   //Equivalent Isotropically radiated power(dBW)\n",
"BO=6      //Output Backoff(dB)\n",
"TFL=2     //Transmitter feeder loss(dB)\n",
"GT=50     //Antenna gain(dB)\n",
"//Calculation\n",
"PTWTA=EIRP-GT+TFL   //Power output of TWTA(dBW)\n",
"PTWTAS=PTWTA+BO     //Saturated power output of TWTA(dBW)\n",
"//Result\n",
"printf('Power output of the TWTA required for full saturated EIRP is %.f dBW',PTWTAS)"
   ]
   }
,
{
		   "cell_type": "markdown",
		   "metadata": {},
		   "source": [
			"## Example 12.16: calculate_the_value.sce"
		   ]
		  },
  {
"cell_type": "code",
	   "execution_count": null,
	   "metadata": {
	    "collapsed": true
	   },
	   "outputs": [],
"source": [
"//Variable Declaration\n",
"alpha=1.9    //Rain attenuation(dB)\n",
"CNR=20       //Downlink carrier to noise ratio(dB)\n",
"Tn=400       //Effective Noise temperature(Kelvin)\n",
"Ta=280       //Reference temperature(Kelvin)\n",
"//Calculation\n",
"alpha1=10**(alpha/10)  //Converting alpha to ratio\n",
"Trn=Ta*(1-1/alpha1)    //Equivalent noise temperature of rain(kelvin)\n",
"Ts=Tn+Trn        //New system noise temperature\n",
"delp=10*log10(Ts/Tn)  //Decibel increase in noise power\n",
"CNRN=CNR-delp-alpha   //Value below which CNR falls(dB)\n",
"//Result\n",
"printf('The value below which C/N falls for 0.1 percent of time is %.2f dB',CNRN)"
   ]
   }
,
{
		   "cell_type": "markdown",
		   "metadata": {},
		   "source": [
			"## Example 12.17: Calculate_the_percentage_of_time_the_system_stays_above_the_threshold.sce"
		   ]
		  },
  {
"cell_type": "code",
	   "execution_count": null,
	   "metadata": {
	    "collapsed": true
	   },
	   "outputs": [],
"source": [
"//Variable Declaration\n",
"CNR=17.4   //Clear sky input C/N (dB)\n",
"T=10       //Threshold level for FM etector(dB)\n",
"Ta=272     //Value of Ta(Kelvin)\n",
"Tscs=544   //Value of Tscs(Kelvin)\n",
"//Calculation\n",
"TM=CNR-T    //Threshold margin at FM detector(dB)\n",
"CNR=10**(CNR/10)  //Converting CNR to ratio\n",
"NCR=1/CNR\n",
"function [y]=f(A)\n",
"    y=0.1-NCR*(A+(A-1)*Ta/Tscs)\n",
"endfunction    \n",
"A=fsolve(2,f)\n",
"A=10*log10(A)  //Converting A into decibels\n",
"A=round(A)\n",
"// Getting the value of probablity of exceeding A from the curve\n",
"if (A==6) then\n",
"   P=2.5*10**-4 \n",
"else\n",
"   printf('error')\n",
"end\n",
"Av=100*(1-P)  //Availability(percentage)\n",
"//Result\n",
"printf('The time system stays above threshold is %.3f percentage',Av)"
   ]
   }
,
{
		   "cell_type": "markdown",
		   "metadata": {},
		   "source": [
			"## Example 12.18: Calculate_the_combined_C_N0_ratio.sce"
		   ]
		  },
  {
"cell_type": "code",
	   "execution_count": null,
	   "metadata": {
	    "collapsed": true
	   },
	   "outputs": [],
"source": [
"//Variable Declaration\n",
"Nu=100   //Noise spectral density for uplink(dBHz)\n",
"Nd=87    //Noise spectral density for downlink(dBHz)\n",
"//Calculation\n",
"N0CR=10**(-Nu/10)+10**(-Nd/10)  //Noise to carrier ratio\n",
"CNR=-10*log10(N0CR)   //Combined c/N0 ratio(dBHz)\n",
"//Result\n",
"printf('The combined carrier to noise ratio is %.2f dBHz',CNR)"
   ]
   }
,
{
		   "cell_type": "markdown",
		   "metadata": {},
		   "source": [
			"## Example 12.19: Calculate_the_C_N_for_both_links.sce"
		   ]
		  },
  {
"cell_type": "code",
	   "execution_count": null,
	   "metadata": {
	    "collapsed": true
	   },
	   "outputs": [],
"source": [
"//Variable declaration\n",
"//For uplink\n",
"Ps=-67.5   //Saturation flux density(dB)\n",
"A0=-37     //Antenna aperture at 6GHz(dB)\n",
"IBO=-11    //Input Backoff(dB)\n",
"GTRs=-11.6 //Satellite saturation G/T (dB)\n",
"k=-228.6   //Value of k(dB)\n",
"//For Downlink\n",
"EIRP=26.6  //Satellite EIRP(dB)\n",
"OBO=-6     //output Backoff(dB)\n",
"FSL=-196.7 //Free Space loss(dB)\n",
"GTRe=40.7  //Earth station G/T(dB)\n",
"//Calculation\n",
"CNRu=Ps+A0+IBO+GTRs-k     //Carrier to noise ratio for uplink(dB)\n",
"CNRd=EIRP+OBO+FSL+GTRe-k//Carrier to noise ratio for downlink(dB)\n",
"N0CR=10**(-CNRu/10)+10**(-CNRd/10)  //Noise to carrier ratio\n",
"CNR=-10*log10(N0CR)   //Combined c/N0 ratio(dBHz)\n",
"//results\n",
"printf('The Carrier to noise ratio for uplink is %.2f dB',CNRu)\n",
"printf('The Carrier to noise ratio for downlink is %.2f dB',CNRd)\n",
"printf('The combined carrier to noise ratio is %.2f dBHz',CNR)"
   ]
   }
,
{
		   "cell_type": "markdown",
		   "metadata": {},
		   "source": [
			"## Example 12.1: Calculate_the_EIRP_in_dBW.sce"
		   ]
		  },
  {
"cell_type": "code",
	   "execution_count": null,
	   "metadata": {
	    "collapsed": true
	   },
	   "outputs": [],
"source": [
"//Variable Declaration\n",
"P=6  //Transmit power(Watts)\n",
"G=48.2 //Antenna Gain(dB)\n",
"//Calculation\n",
"EIRP=10*log10(P)+G  //Equivalent isotropic radiated power(dB)\n",
"//Result\n",
"printf('Hence the Equivalent isotropic radiated power is %.0f dBW',EIRP)"
   ]
   }
,
{
		   "cell_type": "markdown",
		   "metadata": {},
		   "source": [
			"## Example 12.20: Calculate_the_overall_carrier_to_noise_ratio_in_decibels.sce"
		   ]
		  },
  {
"cell_type": "code",
	   "execution_count": null,
	   "metadata": {
	    "collapsed": true
	   },
	   "outputs": [],
"source": [
"//Variable Declaration\n",
"CNRu=23   //carrier to noise ratio for uplink(dB)\n",
"CNRd=20   //carrier to noise ratio for downlink(dB)\n",
"CNRm=24   //carrier to noise ratio for intermodulation(dB)\n",
"//Calculation\n",
"NCR=10**(-CNRu/10)+10**(-CNRd/10)+10**(-CNRm/10)  //Combined Noise to carrier ratio\n",
"CNR=-10*log10(NCR)  //Combined carrier to noise ratio(dB)\n",
"//Result\n",
"printf('The combined carrier to noise ratio is %.2f dB',CNR)"
   ]
   }
,
{
		   "cell_type": "markdown",
		   "metadata": {},
		   "source": [
			"## Example 12.2: Calculate_the_gain_of_a_3_m_paraboloidal_antenna_operating.sce"
		   ]
		  },
  {
"cell_type": "code",
	   "execution_count": null,
	   "metadata": {
	    "collapsed": true
	   },
	   "outputs": [],
"source": [
"//Variable Declaration\n",
"D=3  //Antenna size(m)\n",
"f=12 //Operating Frequency(GHz)\n",
"n=0.55 //Aperture efficiency\n",
"//Calculation\n",
"G=n*(10.472*f*D)**2  //Antenna Gain\n",
"G=10*log10(G)  //Converting Antenna gain to dB\n",
"//Result\n",
"printf('The Antenna gain with given parameters is %.1f dB', G)"
   ]
   }
,
{
		   "cell_type": "markdown",
		   "metadata": {},
		   "source": [
			"## Example 12.3: Calculate_the_free_space_loss_at_a_frequency_of_6_GHz.sce"
		   ]
		  },
  {
"cell_type": "code",
	   "execution_count": null,
	   "metadata": {
	    "collapsed": true
	   },
	   "outputs": [],
"source": [
"//Variable Declaration\n",
"r=42000      //Range between ground station and satellite\n",
"f=6000          //Frequency(MHz)\n",
"//Calculation\n",
"FSL=32.4+20*log10(r)+20*log10(f)  //Free space loss(dB)\n",
"//Result\n",
"printf('The free space loss at given frequency is %.1f dB', FSL)"
   ]
   }
,
{
		   "cell_type": "markdown",
		   "metadata": {},
		   "source": [
			"## Example 12.4: Calculate_the_total_link_for_clear_sky_conditions.sce"
		   ]
		  },
  {
"cell_type": "code",
	   "execution_count": null,
	   "metadata": {
	    "collapsed": true
	   },
	   "outputs": [],
"source": [
"//Variable Declaration\n",
"FSL=207   //Free space loss(dB)\n",
"RFL=1.5   //receiver feeder loss(dB)\n",
"AA=0.5    //Atmospheric Absorption loss(dB)\n",
"AML=0.5   //Antenna Alignment loss(dB)\n",
"//Calculation\n",
"LOSSES=FSL+RFL+AA+AML   //Total link loss (dB)\n",
"//Results\n",
"printf('The total link loss is %.1f dB', LOSSES)"
   ]
   }
,
{
		   "cell_type": "markdown",
		   "metadata": {},
		   "source": [
			"## Example 12.5: Calculate_the_noise_power_density_and_the_noise_power_for_a_bandwidth_of_36_MHz.sce"
		   ]
		  },
  {
"cell_type": "code",
	   "execution_count": null,
	   "metadata": {
	    "collapsed": true
	   },
	   "outputs": [],
"source": [
"//Variable Declaration\n",
"TAn=35  // Antenna Noise Temperature(Kelvin)\n",
"TRn=100 // Receiver Noise Temperature(Kelvin)\n",
"k=1.38*10**-23  //Boltzman constant(joules)\n",
"B=36*10**6  //Bandwidth\n",
"//Calculation\n",
"N0=(TAn+TRn)*k   //noise power density(10**-21 joules)\n",
"PN=N0*B/10**-12         //Noise power for given bandwidth(picoWatts)\n",
"//Results\n",
"printf('The noise Power density is %.2e Joules',N0)\n",
"printf('The noise power for given bandwidth is %.3f pW',PN)"
   ]
   }
,
{
		   "cell_type": "markdown",
		   "metadata": {},
		   "source": [
			"## Example 12.6: Calculate_the_overall_noise_temperature_referred_to_the_LNA_input.sce"
		   ]
		  },
  {
"cell_type": "code",
	   "execution_count": null,
	   "metadata": {
	    "collapsed": true
	   },
	   "outputs": [],
"source": [
"//Variable Declaration\n",
"TRn=12   //Receiver Noise figure(dB)\n",
"G=40     //Gain of LNA(dB)\n",
"T0=120  //Noise temperature(Kelvin)\n",
"//Calculation\n",
"F=10**(TRn/(10))   //Converting noise power to ratio\n",
"Te=(F-1)*290     //Noise Temperature of the amplifier\n",
"G=10**(G/10)     //Converting Gain of LNA to ratio\n",
"Tn=T0+Te/G       //Overall Noise Temperature(Kelvin)\n",
"//Result\n",
"printf('The overall noise temperature is %.2f Kelvin', Tn)"
   ]
   }
,
{
		   "cell_type": "markdown",
		   "metadata": {},
		   "source": [
			"## Example 12.7: Calculate_the_noise_temperature_to_the_input.sce"
		   ]
		  },
  {
"cell_type": "code",
	   "execution_count": null,
	   "metadata": {
	    "collapsed": true
	   },
	   "outputs": [],
"source": [
"//Variable Declaration\n",
"Tant=35     //Antenna noise temperature(kelvin)\n",
"Te1=150     //Receiver noise temperature(kelvin)\n",
"L=5         //Cable Loss (dB)\n",
"T0=290    \n",
"G1=10**5    //LNA Gain\n",
"F=12        //Receiver Noise figure(dB)\n",
"//Calculation\n",
"L=10**(L/10)  //Converting L into ratio\n",
"F=10**(F/10)  //Converting F into ratio\n",
"Ts=Tant+Te1+(L-1)*T0/G1+L*(F-1)*T0/G1  //Noise Temperature referred to the input(Kelvin)\n",
"//Result\n",
"printf('The noise temperature referred to the input is %.0f Kelvini',Ts)"
   ]
   }
,
{
		   "cell_type": "markdown",
		   "metadata": {},
		   "source": [
			"## Example 12.8: Repeat_Example_7.sce"
		   ]
		  },
  {
"cell_type": "code",
	   "execution_count": null,
	   "metadata": {
	    "collapsed": true
	   },
	   "outputs": [],
"source": [
"//Variable Declaration\n",
"Tant=35     //Antenna noise temperature(kelvin)\n",
"Te1=150     //Receiver noise temperature(kelvin)\n",
"L=5         //Cable Loss (dB)\n",
"T0=290    \n",
"G1=10**5    //LNA Gain\n",
"F=12        //Receiver Noise figure(dB)\n",
"//Calculation\n",
"L=10**(L/10)  //Converting L into ratio\n",
"F=10**(F/10)  //Converting F into ratio\n",
"Ts=Tant+(L-1)*T0+L*Te1+L*(F-1)*T0/G1  //Noise Temperature referred to the input(Kelvin)\n",
"//Result\n",
"printf('The noise temperature referred to the input is %.0f Kelvin',Ts)"
   ]
   }
,
{
		   "cell_type": "markdown",
		   "metadata": {},
		   "source": [
			"## Example 12.9: Calculate_the_carrier_to_noise_spectral_density_ratio.sce"
		   ]
		  },
  {
"cell_type": "code",
	   "execution_count": null,
	   "metadata": {
	    "collapsed": true
	   },
	   "outputs": [],
"source": [
"//Variable Declaration\n",
"FSL=206    //Free space loss(dB)\n",
"APL=1      //Antenna Pointing loss(dB)\n",
"AAL=2      //Atmospheric Absorption loss(dB)\n",
"RFL=1      //Receiver feeder loss(dB)\n",
"EIRP=48    //Equivalent isotropically radiated power(dBW)\n",
"f=12       //Frequency(GHz)\n",
"GTR=19.5   //G/T ratio(dB/K)\n",
"k=-228.60  //Value of k(dB)\n",
"//Calculation\n",
"LOSSES=FSL+APL+AAL+RFL //Total loss(dB)\n",
"CNR=EIRP+GTR-LOSSES-k  //Carrier to noise ratio(dBHz)\n",
"//Result\n",
"printf('The carrier to noise ratio is %.2f dB',CNR)"
   ]
   }
],
"metadata": {
		  "kernelspec": {
		   "display_name": "Scilab",
		   "language": "scilab",
		   "name": "scilab"
		  },
		  "language_info": {
		   "file_extension": ".sce",
		   "help_links": [
			{
			 "text": "MetaKernel Magics",
			 "url": "https://github.com/calysto/metakernel/blob/master/metakernel/magics/README.md"
			}
		   ],
		   "mimetype": "text/x-octave",
		   "name": "scilab",
		   "version": "0.7.1"
		  }
		 },
		 "nbformat": 4,
		 "nbformat_minor": 0
}
