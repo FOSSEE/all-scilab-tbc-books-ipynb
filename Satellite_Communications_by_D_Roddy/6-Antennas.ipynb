{
"cells": [
 {
		   "cell_type": "markdown",
	   "metadata": {},
	   "source": [
       "# Chapter 6: Antennas"
	   ]
	},
{
		   "cell_type": "markdown",
		   "metadata": {},
		   "source": [
			"## Example 6.1: Plot_the_E_Plane_and_H_Plane_radiation.sce"
		   ]
		  },
  {
"cell_type": "code",
	   "execution_count": null,
	   "metadata": {
	    "collapsed": true
	   },
	   "outputs": [],
"source": [
"//Variable Decalration\n",
"a=3\n",
"b=2\n",
"dB=1\n",
"//Calculation\n",
"//Initializations\n",
"tita= -90:2:91\n",
"tita(46) = 1\n",
"tita1= -90:2:91\n",
"Y=linspace(0,0,91)\n",
"E=linspace(0,0,91)\n",
"gE=linspace(0,0,91)\n",
"GE=linspace(0,0,91)\n",
"X=linspace(0,0,91)\n",
"E1=linspace(0,0,91)\n",
"gH=linspace(0,0,91)\n",
"GH=linspace(0,0,91)\n",
"for i = 1:length(Y)-1\n",
"   Y(i)=%pi*b*sin(tita(i)*3.142/180)\n",
"   X(i)=%pi*a*sin(tita(i)*3.142/180)\n",
"   E(i)=(sin(Y(i)))/Y(i)   \n",
"   E1(i)=cos(tita1(i)*3.142/180)*(sin(X(i)))/X(i)\n",
"   gE(i)=(E(i))**2   //Raiation pattern in E-Plane\n",
"   gH(i)=E1(i)**2    //Raiation pattern in H-Plane\n",
"   GE(i)=10*log10(gE(i))  //Raiation pattern in E-Plane(dB)\n",
"   GH(i)=10*log10(gH(i))  //Raiation pattern in H-Plane(dB)\n",
"end;\n",
"//Results\n",
"subplot(211)\n",
"plot(tita,GE)   //Plotting E-Plane radiation pattern\n",
"xtitle('','tita degrees','GE(tita)' )\n",
"subplot(212)\n",
"plot(tita1,GH)  //Plotting H-Plane radiation pattern\n",
"xtitle('','tita degrees','GH(tita)')\n",
"    "
   ]
   }
,
{
		   "cell_type": "markdown",
		   "metadata": {},
		   "source": [
			"## Example 6.2: Plot_the_magnitue_of_the_array_factor_as_a_function_of_phi.sce"
		   ]
		  },
  {
"cell_type": "code",
	   "execution_count": null,
	   "metadata": {
	    "collapsed": true
	   },
	   "outputs": [],
"source": [
"//Varable Declaration\n",
"N=5   //Number of elements of dipole\n",
"s=0.25 //Space between dipole elements(wavelengths)\n",
"phi0=0//Angle between array factor and array(degrees)\n",
"//Calculation\n",
"alpha=-2*3.142*s*cos(phi0)  //Current phase(radians)\n",
"phi= -180:2:182\n",
"for k = 1:180\n",
"    Si(k)=alpha+2*3.142*s*cos(phi(k)*3.142/180)\n",
"end;    \n",
"AFR=linspace(0,0,181)\n",
"AFI=linspace(0,0,181)\n",
"for i = 1:180\n",
"  for j = 1:N-1\n",
"     AFR(i)=AFR(i)+cos(j*Si(i))  //Real part of Array factor\n",
"     AFI(i)=AFI(i)+sin(j*Si(i))//Imaginary part of Array factor\n",
"end\n",
"end\n",
"teta= linspace(-3.142,3.142,181)\n",
"for k = 1:length(teta)\n",
"   AF(k)=(AFR(k)**2+AFI(k)**2)**0.5\n",
"end\n",
"//Result\n",
"polarplot(teta,AF)"
   ]
   }
,
{
		   "cell_type": "markdown",
		   "metadata": {},
		   "source": [
			"## Example 6.3: for_phi_90_degrees.sce"
		   ]
		  },
  {
"cell_type": "code",
	   "execution_count": null,
	   "metadata": {
	    "collapsed": true
	   },
	   "outputs": [],
"source": [
"//Varable Declaration\n",
"N=5   //Number of elements of dipole\n",
"s=0.25 //Space between dipole elements(wavelengths)\n",
"phi0=90*3.142/180 //Angle between array factor and array(radians)\n",
"//Calculation\n",
"alpha=-2*3.142*s*cos(phi0)  //Current phase(radians)\n",
"phi= -180:2:182\n",
"for k = 1:180\n",
"    Si(k)=alpha+2*3.142*s*cos(phi(k)*3.142/180)\n",
"end    \n",
"AFR = linspace(0,0,180)\n",
"AFI = linspace(0,0,180)\n",
"for i = 1:180\n",
"  for j = 1:N-1\n",
"     AFR(i)=AFR(i)+cos(j*Si(i))  //Real part of Array factor\n",
"     AFI(i)=AFI(i)+sin(j*Si(i))//Imaginary part of Array factor\n",
"end\n",
"end;\n",
"teta=linspace(-3.142,3.142,180)\n",
"AF = linspace(0,0,180)\n",
"for k  = 1:180\n",
"   AF(k)=AF(k)+(AFR(k)**2+AFI(k)**2)**0.5\n",
"end\n",
"//Result\n",
"polarplot(teta,AF)"
   ]
   }
],
"metadata": {
		  "kernelspec": {
		   "display_name": "Scilab",
		   "language": "scilab",
		   "name": "scilab"
		  },
		  "language_info": {
		   "file_extension": ".sce",
		   "help_links": [
			{
			 "text": "MetaKernel Magics",
			 "url": "https://github.com/calysto/metakernel/blob/master/metakernel/magics/README.md"
			}
		   ],
		   "mimetype": "text/x-octave",
		   "name": "scilab",
		   "version": "0.7.1"
		  }
		 },
		 "nbformat": 4,
		 "nbformat_minor": 0
}
