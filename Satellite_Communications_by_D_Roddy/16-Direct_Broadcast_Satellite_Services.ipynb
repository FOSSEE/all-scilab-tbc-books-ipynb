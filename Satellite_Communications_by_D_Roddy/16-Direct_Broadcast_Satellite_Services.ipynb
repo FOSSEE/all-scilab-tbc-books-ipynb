{
"cells": [
 {
		   "cell_type": "markdown",
	   "metadata": {},
	   "source": [
       "# Chapter 16: Direct Broadcast Satellite Services"
	   ]
	},
{
		   "cell_type": "markdown",
		   "metadata": {},
		   "source": [
			"## Example 16.1: Calculate_the_look_angles_for_the_antenna_the_range_and_the_Eb_N0_at_the_IRD.sce"
		   ]
		  },
  {
"cell_type": "code",
	   "execution_count": null,
	   "metadata": {
	    "collapsed": true
	   },
	   "outputs": [],
"source": [
"//Varaible Declaration\n",
"EIRP=55  //EIRP for satellite(dBW)\n",
"fD=12.5  //Downlink frequency(GHz)\n",
"Pss=-101 //Receiving at ground station direction(degrees west)\n",
"Rb=40*10**6  //Transmission Rate(Hz)\n",
"D=18   //Diameter of antenna(inches)\n",
"n=0.55 //Efficiency of antenna\n",
"Tant=70 //Antenna noise(Kelvin)\n",
"Teq=100 //Equivalent noise temperature at LNA(Kelvin)\n",
"R=6371  //Radius of earth(Km)\n",
"L=2   //Transmission losses(dB)\n",
"aGSO=42164  //Circumference of earth(km)\n",
"k=-228.6   //Boltzmann's constant (dB)\n",
"PE=-90  //Longitude of Earth station(degrees west)\n",
"LE=45   //Latitude of Earth station(degrees north)\n",
"f=14    //Frequency(GHz)\n",
"//Calculation\n",
"B=PE-Pss\n",
"b=acos(cos(B*3.142/180)*cos(LE*3.142/180))\n",
"b=b*180/3.142\n",
"A=asin(sin(abs(B)*3.142/180)/sin(b*3.142/180))\n",
"A=A*180/3.142\n",
"Az=180+A  //Azimuth angle of antenna(degrees)\n",
"d=(R**2+aGSO**2-2*R*aGSO*cos(b*3.142/180))**0.5 //Range of antenna(km)\n",
"El=acos(aGSO*sin(b*3.142/180)/d)  //Elevation angle of antenna(radians)\n",
"El=El*180/3.142  //Elevation angle of antenna(degrees)\n",
"El=round(El)\n",
"d=round(d)\n",
"FSL=32.4+20*log10(d)+20*log10(f*10**3)  //Free space loss(dB)\n",
"LOSSES=FSL+L  //Total Transmission Losses\n",
"Ts=Teq+Tant   //Total system noise temperature(Kelvin)\n",
"T=10*log10(Ts)  //Total system noise temperature(dBK)\n",
"G=n*(3.192*f*(D/(12)))**2\n",
"G=10*log10(G)  //Antenna Gain(dB)\n",
"GTR=G-T   //G/T ratio(dB)\n",
"CNR=EIRP+GTR-LOSSES-k  //Carrier to noise ratio(dB)\n",
"Rb=10*log10(Rb) //Transmission Rate(dBHz)\n",
"EbN0R=CNR-Rb   //Eb/N0 ratio at IRD(dB)\n",
"//Results\n",
"printf('The Azimuth angle of antenna is %.1f degrees' ,Az)\n",
"printf('The Elevaation Angle of Antenna is %.f degrees',El)\n",
"printf('The Range of Antenna is %.f km',d)\n",
"printf('The Eb/N0 ratio at IRD is %.1f dB',EbN0R)"
   ]
   }
,
{
		   "cell_type": "markdown",
		   "metadata": {},
		   "source": [
			"## Example 16.2: Calculate_the_upper_limit.sce"
		   ]
		  },
  {
"cell_type": "code",
	   "execution_count": null,
	   "metadata": {
	    "collapsed": true
	   },
	   "outputs": [],
"source": [
"//Varaible Declaration\n",
"R01=42  //Rainfall at earth station(mm/hr)\n",
"p=0.01  //Percentage of time for which rain exceeds\n",
"LE=45   //Latitue of earth station(degrees)\n",
"hR=3.5   //Rain Height(km)\n",
"h0=0    //Mean Sea level(km)\n",
"Ta=272  //\n",
"El=37   //Elevation angle of the antenna(degrees)\n",
"Ts=170   //Total system noise temperature(Kelvin)\n",
"NCR=2.3*10**-9 //Carrier to noise ratio\n",
"fD=12.5 //Frequency of operation(GHz)\n",
"f12=12   //Frequency 12GHz(GHz)\n",
"f15=15   //Frequency 15GHz(GHz)\n",
"//Coefficients for horizontal and vertical polarizations at 12GHz and 15GHz as given in Table 4.2\n",
"ah12=0.0188\n",
"av12=0.0168\n",
"bh12=1.217\n",
"bv12=1.2\n",
"      \n",
"ah15=0.0367\n",
"av15=0.0335\n",
"bh15=1.154\n",
"bv15=1.128\n",
"//Calculation\n",
"//Using Interpolation to find coefficients at 12.5 GHz\n",
"ah= ah12+(ah15-ah12)*(fD-f12)/(f15-f12)\n",
"bh= bh12+(bh15-bh12)*(fD-f12)/(f15-f12)\n",
"av=av12+(av15-av12)*(fD-f12)/(f15-f12)\n",
"bv= bv12+(bv15-bv12)*(fD-f12)/(f15-f12)\n",
"//Coefficients for circular polarization\n",
"ac=(ah+av)/2\n",
"bc=(ah*bh+av*bv)/(2*ac)\n",
"Ls1=(hR-h0)/sin(El*3.142/180)     //Slant Path Length(km)\n",
"Ls= Ls1                         //Slant Path Length(km)\n",
"LG= Ls*cos(El*3.142/180)       //Horizontal projection of slant path length(km)\n",
"r011=90/(90+4*LG)                      //Reduction Factor\n",
"r01= r011                        //Reduction Factor\n",
"L= Ls1*r01                     //Effective path length(km)\n",
"alpha= ac*R01**bc              //Specific attenuation(dB/km)\n",
"A= 10**(alpha*L/(10))    //Total Attenuation(dB)\n",
"Trn=Ta*(1-1/A) //noise temperature with effect of rain\n",
"Tscs=Ts\n",
"NCrain=NCR*(A+(A-1)*Ta/Tscs) //Noise to carrier ratio due to rain\n",
"CNrain=-10*log10(NCrain)//Noise to carrier ratio due to rain(dB)\n",
"Rb=10*log10(40*10**6) //Transmission rate(dB)\n",
"EbN0rain= CNrain-Rb   //Upper limit of Eb/N0 ratio in prescence of rain(dB)\n",
"//Result\n",
"printf('Hence the upper limit for Eb/N0 for given conditions is %.1f dB',EbN0rain)"
   ]
   }
],
"metadata": {
		  "kernelspec": {
		   "display_name": "Scilab",
		   "language": "scilab",
		   "name": "scilab"
		  },
		  "language_info": {
		   "file_extension": ".sce",
		   "help_links": [
			{
			 "text": "MetaKernel Magics",
			 "url": "https://github.com/calysto/metakernel/blob/master/metakernel/magics/README.md"
			}
		   ],
		   "mimetype": "text/x-octave",
		   "name": "scilab",
		   "version": "0.7.1"
		  }
		 },
		 "nbformat": 4,
		 "nbformat_minor": 0
}
