{
"cells": [
 {
		   "cell_type": "markdown",
	   "metadata": {},
	   "source": [
       "# Chapter 4: Radio Wave Propagation"
	   ]
	},
{
		   "cell_type": "markdown",
		   "metadata": {},
		   "source": [
			"## Example 4.1: Calculate_for_the_frequency.sce"
		   ]
		  },
  {
"cell_type": "code",
	   "execution_count": null,
	   "metadata": {
	    "collapsed": true
	   },
	   "outputs": [],
"source": [
"//Variable Declaration\n",
"El=50  //Elevation Angle(degrees)\n",
"h0=0.6 //Earth station altitude(km)\n",
"hr=3   //Rain height(km)\n",
"R01=10 //Point Rain Rate(mm/hr)\n",
"f=12   //frequency(GHz)\n",
"ah=0.0188\n",
"bh=1.217\n",
"av=0.0168\n",
"bv=1.2\n",
"//Calculation\n",
"Ls=(hr-h0)/sin(El*3.142/180) //Slant path length(km)\n",
"LG=Ls*cos(El*3.142/180)      //Horizontal projection(km)\n",
"r01=90/(90+4*LG)      //Reduction factor\n",
"L=Ls*r01              //Effective path length(km)\n",
"alphah=ah*R01**bh     //Specific Attenuation\n",
"AdBh=alphah*L         //Rain Attenuation for horizontal polarization\n",
"alphav=av*R01**bv       //Specific Attenuation\n",
"AdBv= alphav*L          //Rain Attenuation for vertical polarization\n",
"//Results\n",
"printf('Rain Attenuation for given conditions and horizontal polarization is %.2f dB',AdBh)\n",
"printf('Rain Attenuation for given conditions and vertical polarization is %.2f dB',AdBv)"
   ]
   }
,
{
		   "cell_type": "markdown",
		   "metadata": {},
		   "source": [
			"## Example 4.2: circular_polarizatio.sce"
		   ]
		  },
  {
"cell_type": "code",
	   "execution_count": null,
	   "metadata": {
	    "collapsed": true
	   },
	   "outputs": [],
"source": [
"//Variable Declaration\n",
"ah=0.0188\n",
"bh=1.217\n",
"av=0.0168\n",
"bv=1.2\n",
"R01=10        //Point Rain Rate(mm/hr)\n",
"L=2.8753812  //Effective path length calculated in Example 4.1(km)\n",
"//Calculation\n",
"//Factors depending on frequency and polarization\n",
"ac=(ah+av)/2 //a for circular polarization\n",
"bc=(ah*bh+av*bv)/(2*ac) //b for circular polarization\n",
"alpha=ac*R01**bc  //Specific Attenuation(dB)\n",
"AdB= alpha*L     //Rain Attenuation(dB)\n",
"//Results\n",
"printf('The Rain Attenuation for circular polarization is %.2f dB',AdB);"
   ]
   }
],
"metadata": {
		  "kernelspec": {
		   "display_name": "Scilab",
		   "language": "scilab",
		   "name": "scilab"
		  },
		  "language_info": {
		   "file_extension": ".sce",
		   "help_links": [
			{
			 "text": "MetaKernel Magics",
			 "url": "https://github.com/calysto/metakernel/blob/master/metakernel/magics/README.md"
			}
		   ],
		   "mimetype": "text/x-octave",
		   "name": "scilab",
		   "version": "0.7.1"
		  }
		 },
		 "nbformat": 4,
		 "nbformat_minor": 0
}
