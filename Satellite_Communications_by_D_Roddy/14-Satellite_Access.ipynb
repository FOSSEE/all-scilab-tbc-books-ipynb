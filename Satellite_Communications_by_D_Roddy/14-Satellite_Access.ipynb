{
"cells": [
 {
		   "cell_type": "markdown",
	   "metadata": {},
	   "source": [
       "# Chapter 14: Satellite Access"
	   ]
	},
{
		   "cell_type": "markdown",
		   "metadata": {},
		   "source": [
			"## Example 14.1: Compare_this_with_when_no_backoff_needed.sce"
		   ]
		  },
  {
"cell_type": "code",
	   "execution_count": null,
	   "metadata": {
	    "collapsed": true
	   },
	   "outputs": [],
"source": [
"//Variable Declaration\n",
"Btr=36  //Transponder Bandwidth(MHz)\n",
"B=3    //Carrier Bandwidth(MHz)\n",
"EIRP=27  //saturated EIRP(dBW)\n",
"BO=6   //Back off loss(dB)\n",
"LOSSES=196  //Combined losses(dB)\n",
"GTR=30   //Earth station G/T ratio(dB)\n",
"k=228.6  //Value of k(dB)\n",
"//Calculation\n",
"Btr1=10*log10(Btr*10**6)  //Converting transponder Bandwidth into decibels\n",
"B1=10*log10(B*10**6)  //Converting carrier Bandwidth into decibels\n",
"CNR=EIRP+GTR-LOSSES+k-Btr1 //Carrier to noise ratio for single carrier operation(dB)\n",
"CNR=round(CNR)\n",
"alpha=-BO\n",
"K=alpha+Btr1-B1  //Fraction of Bandwidth actually occupied(dB)\n",
"K=10**(K/10)  //Converting decibels to ratio\n",
"K=round(K)\n",
"//Results\n",
"printf('The downlink carrier to noise ratio is %.0f dB',CNR)\n",
"printf('Fraction of Bandwidth actually occupied is %.0f',K)\n",
"printf('No. of carriers that would be accommodated without backoff is %.f',Btr/B)"
   ]
   }
,
{
		   "cell_type": "markdown",
		   "metadata": {},
		   "source": [
			"## Example 14.2: Determine_the_miss_probabilty.sce"
		   ]
		  },
  {
"cell_type": "code",
	   "execution_count": null,
	   "metadata": {
	    "collapsed": true
	   },
	   "outputs": [],
"source": [
"//Variable decalration\n",
"N=40     //No.of bits\n",
"E=5      //Maximum number of errors allowed\n",
"p=10**-3 //Average probability of error in transmission\n",
"//Calculation\n",
"Pmiss=0\n",
"for i = E+1:N\n",
"  Pmiss=Pmiss+(factorial(N)/((factorial(i)*factorial(N-i))))*(p**i)*((1-p)**(N-i))\n",
"end\n",
"Pmiss=Pmiss*10**12\n",
"//Result\n",
"printf('The probability of miss is %.1f * 10^-12',Pmiss)"
   ]
   }
,
{
		   "cell_type": "markdown",
		   "metadata": {},
		   "source": [
			"## Example 14.3: Determine_the_probability_of_false_detection.sce"
		   ]
		  },
  {
"cell_type": "code",
	   "execution_count": null,
	   "metadata": {
	    "collapsed": true
	   },
	   "outputs": [],
"source": [
"//Variable decalration\n",
"N=40     //No.of bits\n",
"E=5      //Maximum number of errors allowed\n",
"//Calculation\n",
"Pfalse=0\n",
"for i = 0:E\n",
"  Pfalse=Pfalse+(factorial(N)*2**-N)/((factorial(i)*factorial(N-i)))\n",
"end\n",
"Pfalse=Pfalse*10**7\n",
"//Result\n",
"printf('The probability of miss is %.1f * 10^-7',Pfalse)"
   ]
   }
,
{
		   "cell_type": "markdown",
		   "metadata": {},
		   "source": [
			"## Example 14.4: Calculate_the_frame_efficiency.sce"
		   ]
		  },
  {
"cell_type": "code",
	   "execution_count": null,
	   "metadata": {
	    "collapsed": true
	   },
	   "outputs": [],
"source": [
"//Variable ecalration\n",
"Lf=120832     //Total frame length\n",
"Tb=14         //Traffic burts per frame\n",
"Rb=2          //Reference bursts per frame\n",
"T=103         //Guard interval(symbols)\n",
"P=280         //Preamble Symbols\n",
"R=P+8         //Reference channel symbols with addition of CDC\n",
"//Calculation\n",
"OH=2*(T+R)+Tb*(T+P)   //Overhead Symbols\n",
"nF=1-(OH/(Lf))   //Frame Efficiency\n",
"//Result\n",
"printf('Hence the frame efficiency of INTELSAT frame is %.3f',nF)"
   ]
   }
,
{
		   "cell_type": "markdown",
		   "metadata": {},
		   "source": [
			"## Example 14.5: Calculate_the_voice_channel_capacity_for_the_INTELSAT_frame.sce"
		   ]
		  },
  {
"cell_type": "code",
	   "execution_count": null,
	   "metadata": {
	    "collapsed": true
	   },
	   "outputs": [],
"source": [
"//Variable Declaration\n",
"Lf=120832   //Number of symbols per frame\n",
"Tf=2        //Frame period(ms)\n",
"nF=0.949    //INTELSAT fram efficiency from Example 14.4\n",
"//Calculation\n",
"Rs=(Lf/(Tf))*10**-3  //Symbol rate(megasymbol/s)\n",
"Rt=Rs*2     //Transmission Rate\n",
"n=nF*Rt*10**3/64   //Voice channel capacity\n",
"n=round(n)\n",
"//Result\n",
"printf(' The voice channel capacity for the INTELSAT frame is %.0f Channels',n)"
   ]
   }
,
{
		   "cell_type": "markdown",
		   "metadata": {},
		   "source": [
			"## Example 14.6: Calculate_the_maximum_transmission_rate.sce"
		   ]
		  },
  {
"cell_type": "code",
	   "execution_count": null,
	   "metadata": {
	    "collapsed": true
	   },
	   "outputs": [],
"source": [
"//Variable Declaration\n",
"CNR=87.3   //Downlink Carrier to noise ratio(dBHz)\n",
"BER=10**-5  //Bit Error Rate Required\n",
"R=0.2   //Roll off factor\n",
"EbN0R=9.5   //Eb/N0 ratio(dB)\n",
"//Calculation\n",
"Rb=CNR-EbN0R  //Maximum Transmission Rate(dBb/s)\n",
"Rb1=10**(Rb/10) //Maximum Transmission Rate(b/s)\n",
"BIF=Rb1*1.2*10**-6/2  //IF Bandwith required\n",
"//Result\n",
"printf('The Maximum Transmission rate is %.2f dBb/s',Rb)\n",
"printf('The IF bandwidth required is %.2f MHz',BIF)"
   ]
   }
,
{
		   "cell_type": "markdown",
		   "metadata": {},
		   "source": [
			"## Example 14.7: calculate_the_earth_station_transmitter_power_needed_for_transmission.sce"
		   ]
		  },
  {
"cell_type": "code",
	   "execution_count": null,
	   "metadata": {
	    "collapsed": true
	   },
	   "outputs": [],
"source": [
"//Variable Declaration\n",
"T1=1.544  //Bit rate from sec.10.4(Mb/s)\n",
"R=62     //Bit rate from sec.10.4(dBMb/s)\n",
"EbN0R=12 //Required Eb/N0 ratio for uplink(dB)\n",
"LOSSES=212 //Transmission losses of uplink(dB)\n",
"GTR=10   //G/T ratio for earth station(dB/K)\n",
"G1=46   //Uplink antenna gain(dB)\n",
"Rd=74   //Downlink Transmission Rate(dBb/s)\n",
"//Calculation\n",
"CNR=EbN0R+R  //Carrier to noise ratio for uplink(dB)\n",
"EIRP=CNR-GTR+LOSSES-228.6 //EIRP of earth station antenna\n",
"P=EIRP-G1   //Transmitted Power Required(dBW)\n",
"P=10**(P/(10))   //Transmitted Power Required(Watts)\n",
"Ri=Rd-R   //Rate increase with TDMA operation(dB)\n",
"P1=1.4+Ri  //Uplink power increase required for TDMA operation(Watts)\n",
"P2=10**(P1/(10))\n",
"//Results\n",
"printf('Earth station transmission power required for transmission of T1 baseband signal is %.2f Watts',P)\n",
"printf('Uplink power increase required for TDMA operation is %f dBWatts or %.1f Watts',P1,P2)"
   ]
   }
,
{
		   "cell_type": "markdown",
		   "metadata": {},
		   "source": [
			"## Example 14.8: Calculate_the_processing_gain_in_decibels.sce"
		   ]
		  },
  {
"cell_type": "code",
	   "execution_count": null,
	   "metadata": {
	    "collapsed": true
	   },
	   "outputs": [],
"source": [
"//Variable Declaration\n",
"BIF=36   //Bandwidth of channel over which carriers are spread(MHz)\n",
"R=0.4  //Rolloff factor for filtering\n",
"Rb=64   //Information bit rate(kb/s)\n",
"BER=10**-5  //Bit error rate required\n",
"EbN0R=9.6 //Eb/N0 ratio for BER given from Fig.10.18\n",
"//Calculation\n",
"Rch=BIF*10**6/(1+R) //Rate of unspreaded signal(chips/s)\n",
"Gp=Rch/(Rb*10**3)     //Processing gain\n",
"Gp1=round(10*log10(Gp))  //Processing gain(dB)\n",
"EbN0R1=10**(EbN0R/(10))  //Converting Eb/N0 into ratio\n",
"K=1+(1.4*Gp/EbN0R1)  //Number of channels\n",
"K=floor(K)\n",
"//Result\n",
"printf('The Processing Gain is %.f dB',Gp1)\n",
"printf('An estimate of maximum number of channels that can access the system is %.f',K)"
   ]
   }
],
"metadata": {
		  "kernelspec": {
		   "display_name": "Scilab",
		   "language": "scilab",
		   "name": "scilab"
		  },
		  "language_info": {
		   "file_extension": ".sce",
		   "help_links": [
			{
			 "text": "MetaKernel Magics",
			 "url": "https://github.com/calysto/metakernel/blob/master/metakernel/magics/README.md"
			}
		   ],
		   "mimetype": "text/x-octave",
		   "name": "scilab",
		   "version": "0.7.1"
		  }
		 },
		 "nbformat": 4,
		 "nbformat_minor": 0
}
