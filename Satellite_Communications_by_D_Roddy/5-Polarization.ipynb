{
"cells": [
 {
		   "cell_type": "markdown",
	   "metadata": {},
	   "source": [
       "# Chapter 5: Polarization"
	   ]
	},
{
		   "cell_type": "markdown",
		   "metadata": {},
		   "source": [
			"## Example 5.1: Determine_the_angle_of_polarization.sce"
		   ]
		  },
  {
"cell_type": "code",
	   "execution_count": null,
	   "metadata": {
	    "collapsed": true
	   },
	   "outputs": [],
"source": [
"//Variable Declararion\n",
"L=18    //Latitude of earth station(degrees)\n",
"PE=-73  //Longitude of earth station(degrees)\n",
"Pss=-105 //Satellite location(degrees)\n",
"aGSO=42164 //Circumference of earth (km)\n",
"R=6371 //Radius of earth(km)\n",
"//Calculation\n",
"function [ans] = mycross(A,B)\n",
"    i = A(2)*B(3) - B(2)*A(3)\n",
"    j = A(1)*B(3) - B(1)*A(3)\n",
"    k = A(1)*B(2) - B(1)*A(2)\n",
"    ans = [i,j,k]\n",
"endfunction\n",
"B=PE-Pss  //Angle between the planes containing a and c (degrees)\n",
"Rx=R*cos(L*3.142/180)*cos(B*3.142/180) //Geocentric-equitorial coordinate(km)\n",
"Ry=R*cos(L*3.142/180)*sin(B*3.142/180) //Geocentric-equitorial coordinate(km)\n",
"Rz=R*sin(L*3.142/180) //Geocentric-equitorial coordinate(km)\n",
"r= [Rx,Ry,Rz]        //Coordinates for local gravity direction\n",
"k=[Rx-aGSO,Ry,Rz]   //geocentric-equitorial coordinates for propagation direction\n",
"e=[0,0,1]            //geocentric-equitorial coordinates for polarization vector\n",
"f=mycross(k,r) //Direction of normal to reference plane\n",
"modf = (f(1)**2+f(2)**2+f(3)**2)**0.5\n",
"g = mycross(k,e)// Direction of normal to plane contaning e and k\n",
"h=mycross(g,k) //Direction of polarization of the plane \n",
"modh=(h(1)**2+h(2)**2+h(3)**2)**0.5\n",
"p=(h/modh)\n",
"E = asin((p.*f)/modf)*180/3.142\n",
"printf('The Angle of polarization at given location is %.2f degrees',E(3))\n",
"// Note : cross() function did not work, so i have wrote mycross() function. Answers would be differ because of rounding error."
   ]
   }
],
"metadata": {
		  "kernelspec": {
		   "display_name": "Scilab",
		   "language": "scilab",
		   "name": "scilab"
		  },
		  "language_info": {
		   "file_extension": ".sce",
		   "help_links": [
			{
			 "text": "MetaKernel Magics",
			 "url": "https://github.com/calysto/metakernel/blob/master/metakernel/magics/README.md"
			}
		   ],
		   "mimetype": "text/x-octave",
		   "name": "scilab",
		   "version": "0.7.1"
		  }
		 },
		 "nbformat": 4,
		 "nbformat_minor": 0
}
