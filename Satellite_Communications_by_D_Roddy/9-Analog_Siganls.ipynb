{
"cells": [
 {
		   "cell_type": "markdown",
	   "metadata": {},
	   "source": [
       "# Chapter 9: Analog Siganls"
	   ]
	},
{
		   "cell_type": "markdown",
		   "metadata": {},
		   "source": [
			"## Example 9.1: Calculate_the_peak_deviation_and_the_signal_bandwidth.sce"
		   ]
		  },
  {
"cell_type": "code",
	   "execution_count": null,
	   "metadata": {
	    "collapsed": true
	   },
	   "outputs": [],
"source": [
"//Variable Declaration\n",
"Bs=4.2  //Signal Bandwidth(MHz)\n",
"delf=2.56  //Deviation Ratio\n",
"//Calculation\n",
"delF=Bs*delf  //Peak Deviation(MHz)\n",
"BIF=2*(delF+Bs)  //Signal Bandwidth(MHz)\n",
"BIF=BIF\n",
"//Results\n",
"printf('The peak deviation is: %.3f MHz', delF)\n",
"printf('Signal Bandwidth is : %.1f MHz',BIF)"
   ]
   }
,
{
		   "cell_type": "markdown",
		   "metadata": {},
		   "source": [
			"## Example 9.2: Calculate_the_modulation_index_and_the_Bandwidth.sce"
		   ]
		  },
  {
"cell_type": "code",
	   "execution_count": null,
	   "metadata": {
	    "collapsed": true
	   },
	   "outputs": [],
"source": [
"//Variable Declaration\n",
"delF=200 //Peak Deviation(kHz)\n",
"f=0.8    //Test tone frequency (kHz)\n",
"//Calculation\n",
"m=delF/f  //Modualtion index\n",
"B=2*(delF+f)  //Bandwidth of the signal(kHz)\n",
"//Results\n",
"printf('The modulation index is %.f' , m)\n",
"printf('Bandwidth of the signal is %.1f kHz',B)"
   ]
   }
,
{
		   "cell_type": "markdown",
		   "metadata": {},
		   "source": [
			"## Example 9.3: Recalculate_the_bandwidths.sce"
		   ]
		  },
  {
"cell_type": "code",
	   "execution_count": null,
	   "metadata": {
	    "collapsed": true
	   },
	   "outputs": [],
"source": [
"//Variable Declaration\n",
"Bs1=4.2  //Signal Bandwidth(MHz) of Example 9.1\n",
"delf=2.56  //Deviation Ratio of Example 9.1\n",
"delF2=200 //Peak Deviation(kHz) of Example 9.2\n",
"Bs2=0.8    //Test tone frequency (kHz) of Example 9.2\n",
"//Calculation\n",
"delF1=Bs1*delf  //Peak Deviation(MHz) of Example 9.1\n",
"BIF1=2*(delF1+2*Bs1)  //Signal Bandwidth(MHz) of Example 9.1 according to Carson's rule\n",
"BIF2=2*(delF2+2*Bs2)  //Signal Bandwidth(kHz) of Example 9.2 according to Carson's rule.\n",
"//Results\n",
"printf('Signal Bandwidth of Example 9.1 by Carsons rule is %.1f MHz',BIF1)\n",
"printf('\nSignal Bandwidth of Example 9.2 by Carsons rule is %.1f kHz',BIF2)"
   ]
   }
,
{
		   "cell_type": "markdown",
		   "metadata": {},
		   "source": [
			"## Example 9.4: calculate_the_receiver_processing_gain_and_the_postdetector.sce"
		   ]
		  },
  {
"cell_type": "code",
	   "execution_count": null,
	   "metadata": {
	    "collapsed": true
	   },
	   "outputs": [],
"source": [
"//Variable Declaration\n",
"delf=5 //Deviation frequency (kHz)\n",
"Bs=1   //Test Tone Frequency (kHz)\n",
"CNR=30  //Carrier to noise ration(dB)\n",
"//Calculation\n",
"m=delf/Bs  //Modulation Index\n",
"Gp=3*(m**2)*(m+1)  //Processing gain for sinusoidal modulation\n",
"Gp=10*log10(Gp) //Converting Gp into dB\n",
"SNR=CNR+Gp\n",
"//Results\n",
"printf('The receiver processing gain is %.1f dB',Gp)\n",
"printf('\nThe Signal to noise ratio is %.1f dB',SNR)"
   ]
   }
,
{
		   "cell_type": "markdown",
		   "metadata": {},
		   "source": [
			"## Example 9.5: Calculate_the_signal_to_noise_ratio.sce"
		   ]
		  },
  {
"cell_type": "code",
	   "execution_count": null,
	   "metadata": {
	    "collapsed": true
	   },
	   "outputs": [],
"source": [
"//Variable Declaration\n",
"n=24  //Number of channels\n",
"g=13.57  //Peak/rms factor(dB)\n",
"b=3.1  //Channel Bandwidth(kHz)\n",
"P=4     //Emphasis improvement (dB)\n",
"W=2.5   //Noise weighting improvement(dB)\n",
"CNR=25  //Carrier to noise ratio (dB)\n",
"delFrms=35  //rms value of Peak Deviation(kHz)\n",
"fm=108    //Baseband frequency (kHz)\n",
"//Calculation\n",
" \n",
"L=10**((-1+4*log10(n))/20)\n",
"g=10**(g/20)  //Converting process gain to ratio\n",
"delF=g*delFrms*L  //Peak Deviation(Hz)\n",
"BIF=2*(delF+fm)   //Signal Bandwidth(kHz) by Carson's rule\n",
"Gp=(BIF/b)*((delFrms/fm)**2)  //Processing Gain\n",
"Gp=10*log10(Gp)  //Converting Gp to dB\n",
"SNR=CNR+Gp+P+W  //Signal to noise ratio for top channel in 24-channel FDM basseband signal\n",
"//Results\n",
"printf('Signal to noise ratio for top channel in 24-channel FDM Baseband signal is %.1f db', SNR)"
   ]
   }
,
{
		   "cell_type": "markdown",
		   "metadata": {},
		   "source": [
			"## Example 9.6: Calculate_the_carrier_to_noise_ratio_required_at_the_input_to_the_FM_detector.sce"
		   ]
		  },
  {
"cell_type": "code",
	   "execution_count": null,
	   "metadata": {
	    "collapsed": true
	   },
	   "outputs": [],
"source": [
"//Variable Declaration\n",
"delF=9  //Peak Deviation (MHz) \n",
"fm=4.2  //Baseband frequency(MHz)\n",
"SNR=62  //Signal to noise ration(dB)\n",
"M=11.8  //Noise weighing(P)+emphasis improvement(W)-implementation margin(IMP)\n",
"//Calculation\n",
"D=delF/fm  //Modulation Index\n",
"GPV=12*(D**2)*(D+1)  //Processing Gain for TV\n",
"GPV=10*log10(GPV)  //Converting GPV into dB\n",
"CNR=SNR-GPV-M   //carrier to noise ratio(dB)\n",
"//Results\n",
"printf('The Carrier to noise ratio required at the input of FM detector is %.1f dB',CNR)"
   ]
   }
],
"metadata": {
		  "kernelspec": {
		   "display_name": "Scilab",
		   "language": "scilab",
		   "name": "scilab"
		  },
		  "language_info": {
		   "file_extension": ".sce",
		   "help_links": [
			{
			 "text": "MetaKernel Magics",
			 "url": "https://github.com/calysto/metakernel/blob/master/metakernel/magics/README.md"
			}
		   ],
		   "mimetype": "text/x-octave",
		   "name": "scilab",
		   "version": "0.7.1"
		  }
		 },
		 "nbformat": 4,
		 "nbformat_minor": 0
}
