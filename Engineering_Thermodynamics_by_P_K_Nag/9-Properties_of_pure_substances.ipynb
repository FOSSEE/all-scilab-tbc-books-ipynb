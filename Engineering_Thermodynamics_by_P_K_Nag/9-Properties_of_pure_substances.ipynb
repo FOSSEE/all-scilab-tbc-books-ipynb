{
"cells": [
 {
		   "cell_type": "markdown",
	   "metadata": {},
	   "source": [
       "# Chapter 9: Properties of pure substances"
	   ]
	},
{
		   "cell_type": "markdown",
		   "metadata": {},
		   "source": [
			"## Example 9.10: Finding_the_quantity_of_steam_in_pipeline.sce"
		   ]
		  },
  {
"cell_type": "code",
	   "execution_count": null,
	   "metadata": {
	    "collapsed": true
	   },
	   "outputs": [],
"source": [
"// At 0.1Mpa, 110 degree\n",
"h2 = 2696.2; hf = 844.89; hfg = 1947.3;\n",
"x2 = (h2-hf)/hfg;\n",
"vf = 0.001023; // at T = 70 degree\n",
"V = 0.000150; // In m3\n",
"m1 = V/vf;\n",
"m2 = 3.24;\n",
"x1 = (x2*m2)/(m1+m2);\n",
"disp(x1,'The quality of the steam in the pipe line is')"
   ]
   }
,
{
		   "cell_type": "markdown",
		   "metadata": {},
		   "source": [
			"## Example 9.11: Calculation_of_heat_transferred_in_a_steam_bolier.sce"
		   ]
		  },
  {
"cell_type": "code",
	   "execution_count": null,
	   "metadata": {
	    "collapsed": true
	   },
	   "outputs": [],
"source": [
"// P = 1MPa\n",
"vf = 0.001127; vg = 0.1944;\n",
"hg = 2778.1; uf = 761.68;\n",
"ug = 2583.6; ufg = 1822;\n",
"// Initial anf final mass\n",
"Vis = 5; Viw = 5;\n",
"Vfs = 6 ; Vfw = 4 ;\n",
"//\n",
"ms = ((Viw/vf)+(Vis/vg)) - ((Vfw/vf)+(Vfs/vg)) ;\n",
"U1 =  ((Viw*uf/vf)+(Vis*ug/vg));\n",
"Uf =  ((Vfw*uf/vf)+(Vfs*ug/vg));\n",
"Q = Uf-U1+(ms*hg)\n",
"disp('kJ',Q,'The heat transfer during the process is')"
   ]
   }
,
{
		   "cell_type": "markdown",
		   "metadata": {},
		   "source": [
			"## Example 9.12: Calculations_on_heat_transfer_in_a_cylinder_and_piston_system.sce"
		   ]
		  },
  {
"cell_type": "code",
	   "execution_count": null,
	   "metadata": {
	    "collapsed": true
	   },
	   "outputs": [],
"source": [
"m = 0.02; d = 0.28; l = 0.305;\n",
"P1 = 0.6e06; P2 = 0.12e06;\n",
"// At 0.6MPa, t = 200 degree\n",
"v1 = 0.352; h1 = 2850.1;\n",
"V1 = m*v1;\n",
"Vd = (%pi/4)*d^2*l;\n",
"V2 = V1+Vd ; \n",
"n = log(P1/P2)/log(V2/V1);\n",
"W12 = ((P1*V1)-(P2*V2))/(n-1);\n",
"disp(n,'The value of n is');\n",
"disp('J',W12,'The work done by the steam is')\n",
"v2 = V2/m;\n",
"vf = 0.0010476; vfg = 1.4271;\n",
"x2 = (v2-vf)/vfg ;\n",
"// At 0.12MPa\n",
"uf = 439.3; ug = 2512.0;\n",
"u2 = uf + (x2*(ug-uf));\n",
"u1 = h1-(P1*v1*1e-03);\n",
"Q12 = m*(u2-u1)+ (W12/1000);\n",
"disp('kJ',Q12,'The heat transfer is')"
   ]
   }
,
{
		   "cell_type": "markdown",
		   "metadata": {},
		   "source": [
			"## Example 9.13: Energy_calculations_in_an_insulated_vessel.sce"
		   ]
		  },
  {
"cell_type": "code",
	   "execution_count": null,
	   "metadata": {
	    "collapsed": true
	   },
	   "outputs": [],
"source": [
"x1 = 1; x2 = 0.8;\n",
"// at 0.2MPa\n",
"vg = 0.8857; v1 = vg; hg = 2706.7; h1 = hg; \n",
"m1 = 5 ; V1 = m1*v1;\n",
"// at 0.5MPa\n",
"m2 = 10; \n",
"hf = 640.23; hfg = 2108.5\n",
"vf = 0.001093; vfg = 0.3749;\n",
"v2 = vf+(x2*vfg);\n",
"V2 = m2*v2;\n",
"//\n",
"Vm = V1+V2;\n",
"m = m1+m2;\n",
"vm = Vm/m;\n",
"u1 = h1;\n",
"h2 = hf+(x2*hfg);\n",
"u2 = h2;\n",
"m3 = m;\n",
"h3 = ((m1*u1)+(m2*u2))/m3;\n",
"u3 = h3; \n",
"v3 = vm;\n",
"// From mollier diagram\n",
"x3 = 0.870; p3 = 3.5; s3 = 6.29;\n",
"s1 = 7.1271;\n",
"sf = 1.8607; sfg = 4.9606;\n",
"s2 = sf+(x2*sfg);\n",
"E = m3*s3-((m1*s1)+(m2*s2));\n",
"disp('bar',p3,'Final pressure is')\n",
"disp(x3,'Steam quality is')\n",
"disp('kJ/K',E,'Entropy change during the process is')\n",
"\n",
""
   ]
   }
,
{
		   "cell_type": "markdown",
		   "metadata": {},
		   "source": [
			"## Example 9.14: Energy_calculation_on_steam_passing_through_turbine.sce"
		   ]
		  },
  {
"cell_type": "code",
	   "execution_count": null,
	   "metadata": {
	    "collapsed": true
	   },
	   "outputs": [],
"source": [
"// At 6 MPa, 400 degree\n",
"h1 = 3177.2; s1 = 6.5408;\n",
"// At 20 degree\n",
"h0= 83.96; s0 = 0.2966;\n",
"T0 = 293;\n",
"f1 = (h1-h0)-T0*(s1-s0);\n",
"// By interpolation \n",
"t2 = 273 + 393;\n",
"s2 = 6.63;\n",
"h2 = h1;\n",
"f2 = (h2-h0)-T0*(s2-s0);\n",
"df = f1-f2;\n",
"x3s = (s2-1.5301)/(7.1271-1.5301);\n",
"h3s = 504.7+(x3s*2201.9);\n",
"eis = 0.82;\n",
"h3 = h2-eis*(h1-h3s);\n",
"x3 = (h3-504.7)/2201.7;\n",
"s3 = 1.5301+(x3*5.597);\n",
"f3 = (h3-h0)-T0*(s3-s0);\n",
"disp('kJ/kg',f1,'The availability of the steam before the throttle valve')\n",
"disp('kJ/kg',f2,'The availability of the steam after the throttle valve')\n",
"disp('kJ/kg',f3,'The availability of the steam at the turbine exhaust')\n",
"disp('kJ/kg',h2-h3,'The specific work output from the turbine is')"
   ]
   }
,
{
		   "cell_type": "markdown",
		   "metadata": {},
		   "source": [
			"## Example 9.15: Energy_calculation_on_a_steam_turbine.sce"
		   ]
		  },
  {
"cell_type": "code",
	   "execution_count": null,
	   "metadata": {
	    "collapsed": true
	   },
	   "outputs": [],
"source": [
"// At 25 bar, 350 degree\n",
"h1 = 3125.87; s1 = 6.8481;\n",
"// 30 degree\n",
"h0 = 125.79; s0 = 0.4369;\n",
"// At 3 bar, 200 degree\n",
"h2 = 2865.5; s2 = 7.3115;\n",
"// At 0.2 bar 0.95 dry\n",
"hf = 251.4; hfg = 2358.3;\n",
"sf = 0.8320; sg = 7.0765;\n",
"h3 = hf+0.92*hfg;\n",
"s3 = sf+(0.92*sg);\n",
"// Part (a)\n",
"T0 = 303;\n",
"f1 = (h1-h0)-(T0*(s1-s0));\n",
"f2 = (h2-h0)-(T0*(s2-s0));\n",
"f3 = (h3-h0)-(T0*(s3-s0));\n",
"disp('kJ/kg',f1,'Availability of steam entering at state 1')\n",
"disp('kJ/kg',f2,'Availability of steam leaving  at state 2')\n",
"disp('kJ/kg',f3,'Availability of steam leaving  at state 3')\n",
"// Part (b)\n",
"m2m1 = 0.25; m3m1 = 0.75;\n",
"Wrev = f1-(m2m1*f2)-(m3m1*f3);\n",
"disp('kJ/kg',Wrev,'Maximum work is')\n",
"// Part (c)\n",
"w1 = 600; w2 = 150; w3 = 450;\n",
"Q = -10*3600;  // For 1 hour\n",
"I = T0*(w2*s2+w3*s3-w1*s1)-Q;\n",
"disp('kJ/h',I,'Irreversibility is')"
   ]
   }
,
{
		   "cell_type": "markdown",
		   "metadata": {},
		   "source": [
			"## Example 9.16: Determination_of_energy_of_different_phases_of_water.sce"
		   ]
		  },
  {
"cell_type": "code",
	   "execution_count": null,
	   "metadata": {
	    "collapsed": true
	   },
	   "outputs": [],
"source": [
"// At dead state of 1 bar, 300K\n",
"u0 = 113.1; h0 = 113.2;\n",
"v0 = 0.001005; s0 = 0.0395;\n",
"T0 = 300; P0 = 100;\n",
"K = h0-(T0*s0);\n",
"// Part (a)\n",
"u = 376.9; h = 377; \n",
"v = 0.001035; s = 1.193;\n",
"m = 3; \n",
"fi = m*(h-(T0*s)-K); // As P = P0 = 1 bar\n",
"disp('kJ',fi,'Energy of system in Part (a) is')\n",
"// Part (b)\n",
"u = 3099.8; h = 3446.3; v = 0.08637; s = 7.090; // At P = 4 Mpa, t = 500 degree\n",
"m = 0.2;\n",
"fib = m*(u+P0*v-T0*s-K);\n",
"disp('kJ',fib,'Energy of system in Part (b) is')\n",
"// Part (c)\n",
"m = 0.4;\n",
"x = 0.85; // Quality\n",
"u = 192+x*2245;\n",
"h = 192+x*2392;\n",
"s = 0.649+x*7.499;\n",
"v = 0.001010+x*14.67;\n",
"fic = m*(u+P0*v-T0*s-K);\n",
"disp('kJ',fic,'Energy of system in Part (c) is')\n",
"// Part (d)\n",
"m = 3;\n",
"h = -354.1; s = -1.298; // at 1000kPa, -10 degree\n",
"fid = m*((h-h0)-T0*(s-s0));\n",
"disp('kJ',fid,'Energy of system in Part (d) is')"
   ]
   }
,
{
		   "cell_type": "markdown",
		   "metadata": {},
		   "source": [
			"## Example 9.17: Calculations_on_a_heat_exchanger.sce"
		   ]
		  },
  {
"cell_type": "code",
	   "execution_count": null,
	   "metadata": {
	    "collapsed": true
	   },
	   "outputs": [],
"source": [
"// Given\n",
"th1 = 90+273;\n",
"tc1 = 25+273;\n",
"tc2 = 50+273;\n",
"mc = 1; T0 = 300;\n",
"th2p = 60+273; // Parallel\n",
"th2c = 35+273; // Counter\n",
"mhp = (tc2-tc1)/(th1-th2p); // Parallel\n",
"mhc = (tc2-tc1)/(th1-th2c); // Counter\n",
"h0 = 113.2; s0 = 0.395; T0 = 300; // At 300 K\n",
"h1 = 376.92; s1 = 1.1925; // At 90 degree\n",
"af1 = mhp*((h1-h0)-T0*(s1-s0));\n",
"// Parallel Flow\n",
"h2 = 251.13; s2 =0.8312; // At 60 degree\n",
"h3 = 104.89; s3 = 0.3674; // At 25 degree\n",
"h4 = 209.33; s4 = 0.7038; // At 50 degree\n",
"REG = mc*((h4-h3)-T0*(s4-s3)); // Rate of energy gain\n",
"REL = mhp*((h1-h2)-T0*(s1-s2)); // Rate of energy loss\n",
"Ia = REL-REG; // Energy destruction\n",
"n2a = REG/REL; // Second law efficiency\n",
"disp('In parallel flow')\n",
"disp('kW',Ia,'The rate of irreversibility is')\n",
"disp('%',n2a*100,'The Second law efficiency is')\n",
"// Counter flow\n",
"h2 = 146.68; s2 = 0.5053; // At 35 degree\n",
"REG_b = REG; // Rate of energy gain by hot water is same in both flows\n",
"REL_b = mhc*((h1-h2)-T0*(s1-s2));\n",
"Ib = REL_b-REG_b; // Energy destruction\n",
"n2b = REG_b/REL_b; // Second law efficiency\n",
"disp('In Counter flow')\n",
"disp('kW',Ib,'The rate of irreversibility is')\n",
"disp('%',n2b*100,'The Second law efficiency is')"
   ]
   }
,
{
		   "cell_type": "markdown",
		   "metadata": {},
		   "source": [
			"## Example 9.18: Estimation_of_max_cooling_rate_of_a_system.sce"
		   ]
		  },
  {
"cell_type": "code",
	   "execution_count": null,
	   "metadata": {
	    "collapsed": true
	   },
	   "outputs": [],
"source": [
"m = 50 ; // in kg/h\n",
"Th = 23+273; // Home temperature\n",
"// State 1\n",
"T1 = 150+273;\n",
"h1 = 2746.4;\n",
"s1 = 6.8387;\n",
"// State 2\n",
"h2 = 419.0;\n",
"s2 = 1.3071;\n",
"T0 = 318;\n",
"//\n",
"b1 = h1-(T0*s1);\n",
"b2 = h2-(T0*s2);\n",
"Q_max = m*(b1-b2)/(T0/Th-1);\n",
"disp('kW',Q_max/3600,'The maximum cooling rate is')"
   ]
   }
,
{
		   "cell_type": "markdown",
		   "metadata": {},
		   "source": [
			"## Example 9.1: Calculations_on_vapourization_of_steam.sce"
		   ]
		  },
  {
"cell_type": "code",
	   "execution_count": null,
	   "metadata": {
	    "collapsed": true
	   },
	   "outputs": [],
"source": [
"// At 1 MPa\n",
"tsat = 179.91;\n",
"vf = 0.001127;\n",
"vg = 0.19444;\n",
"vfg = vg-vf;\n",
"sf = 2.1387;\n",
"sg = 6.5865;\n",
"sfg = sg-sf;\n",
"disp('degree',tsat,'At 1 Mpa saturation temperature is')\n",
"disp('m3/kg',vfg,'Changes in specific volume is')\n",
"disp('kJ/kg K',sfg,'Change in entropy during evaporation is')"
   ]
   }
,
{
		   "cell_type": "markdown",
		   "metadata": {},
		   "source": [
			"## Example 9.3: Finding_the_entropy_and_enthalpy_of_steam.sce"
		   ]
		  },
  {
"cell_type": "code",
	   "execution_count": null,
	   "metadata": {
	    "collapsed": true
	   },
	   "outputs": [],
"source": [
"v = 0.09; vf = 0.001177; vg = 0.09963;\n",
"x = (v-vf)/(vg-vf);\n",
"hf = 908.79; hfg = 1890.7;\n",
"sf = 2.4474; sfg = 3.8935;\n",
"h = hf+(x*hfg);\n",
"s = sf+(x*sfg);\n",
"disp('kJ/kg and kJ/kg K respectively',s,'and',h,'The enthalpy and entropy og the system are')"
   ]
   }
,
{
		   "cell_type": "markdown",
		   "metadata": {},
		   "source": [
			"## Example 9.4: Finding_the_entropy_and_enthalpyand_volume_of_steam.sce"
		   ]
		  },
  {
"cell_type": "code",
	   "execution_count": null,
	   "metadata": {
	    "collapsed": true
	   },
	   "outputs": [],
"source": [
"// for T = 350 degree\n",
"T1 = 350; v1 = 0.2003; h1 = 3149.5; s1 = 7.1369;\n",
"// for T = 400 degree\n",
"T2 = 400; v2 = 0.2178; h2 = 3257.5; s2 = 7.3026;\n",
"// Interpolation for T = 380;\n",
"T = [T1 T2];\n",
"v = [v1 v2];\n",
"h = [h1 h2];\n",
"s = [s1 s2];\n",
"v3 = interpln([T;v],380);\n",
"h3 = interpln([T;h],380);\n",
"s3 = interpln([T;s],380);\n",
"disp('m3/kg respectively',v3,'kJ/kg',h3,'kJ/kg K',s3,'The entropy, enthalpy and volume of stem at 1.4MPa and 380 degree is')\n",
""
   ]
   }
,
{
		   "cell_type": "markdown",
		   "metadata": {},
		   "source": [
			"## Example 9.5: Calculations_of_thermodynamics_properties_of_mixture_of_air_and_steam.sce"
		   ]
		  },
  {
"cell_type": "code",
	   "execution_count": null,
	   "metadata": {
	    "collapsed": true
	   },
	   "outputs": [],
"source": [
"Psat = 3.973e06;\n",
"vf = 0.0012512; vg = 0.05013;\n",
"hf = 1085.36; hfg = 1716.2;\n",
"sf = 2.7927; sfg = 3.2802;\n",
"mf = 9; V = 0.04;\n",
"Vf = mf*vf;\n",
"Vg = V-Vf;\n",
"mg = Vg/vg;\n",
"m = mf+mg;\n",
"x = mg/m;\n",
"v = vf+x*(vg-vf);\n",
"h = hf+x*hfg;\n",
"s = sf+(x*sfg);\n",
"u = h-Psat*v*1e-03;\n",
"// at T = 250\n",
"uf = 1080.39; ufg = 1522;\n",
"u_ = uf+x*ufg;\n",
"disp('Pa',Psat,'The pressure is')\n",
"disp('kg',m,'The mass is')\n",
"disp('m3/kg',v,'Specific volume is')\n",
"disp('kJ/kg',h,'Enthalpy is')\n",
"disp('kJ/kg K',s,'The entropy is')\n",
"disp('kJ/kg',u,'The interal energy is')"
   ]
   }
,
{
		   "cell_type": "markdown",
		   "metadata": {},
		   "source": [
			"## Example 9.6: energy_calculation_on_cooling_of_steam.sce"
		   ]
		  },
  {
"cell_type": "code",
	   "execution_count": null,
	   "metadata": {
	    "collapsed": true
	   },
	   "outputs": [],
"source": [
"// Part (a)\n",
"vg1_ = 0.8919; T1_ = 120;\n",
"vg2_ = 0.77076; T2_ = 125;\n",
"vg_ = [vg1_ vg2_]; T_ = [T1 T2];\n",
"v1 = 0.7964;\n",
"h1 = 2967.6;\n",
"P1 = 0.3e03; // in Kpa\n",
"T1 = interpln([vg_;T_],v1);\n",
"disp('degree',T3,'The steam become saturated at ')\n",
"// Part (b)\n",
"vf = 0.001029; vg = 3.407;\n",
"hf = 334.91; hfg = 2308.8;\n",
"Psat = 47.39; // In kPa\n",
"v2 = v1;\n",
"x2 = (v1-vf)/(vg-vf);\n",
"h2 = hf+x2*hfg;\n",
"P2 = Psat;\n",
"Q12 = (h2-h1)+v1*(P1-P2);\n",
"disp(x2,'The quality factor at t  =80 degree is')\n",
"disp('kJ/kg',Q12,'The heat transfered per kg of steam in cooling from 250 degree to 80 degree')\n",
""
   ]
   }
,
{
		   "cell_type": "markdown",
		   "metadata": {},
		   "source": [
			"## Example 9.7: energy_calculation_on_expansion_of_steam.sce"
		   ]
		  },
  {
"cell_type": "code",
	   "execution_count": null,
	   "metadata": {
	    "collapsed": true
	   },
	   "outputs": [],
"source": [
"// At T = 40 degree\n",
"Psat = 7.384e06;\n",
"sf = 0.5725; sfg = 7.6845;\n",
"hf = 167.57; hfg = 2406.7;\n",
"//\n",
"s1 = 6.9189; h1 = 3037.6;\n",
"x2 = (s1-sf)/sfg ;\n",
"h2 = hf+(x2*hfg);\n",
"W = h1-h2;\n",
"disp('kJ/Kg',W,'The ideal work output of the turbine is')"
   ]
   }
,
{
		   "cell_type": "markdown",
		   "metadata": {},
		   "source": [
			"## Example 9.8: Determination_of_velocity_of_steam_leaving_through_steam.sce"
		   ]
		  },
  {
"cell_type": "code",
	   "execution_count": null,
	   "metadata": {
	    "collapsed": true
	   },
	   "outputs": [],
"source": [
"w3 = 2.3; w1 = 1.0;\n",
"w2 = w3-w1;\n",
"h1 = 2950.0;\n",
"// At 0.8MPa, 0.95 dry\n",
"x = 0.95;\n",
"hf = 721.11; hfg = 2048;\n",
"h2 = hf + (x*hfg);\n",
"h3 = ((w1*h1)+(w2*h2))/w3;\n",
"// Interpolation\n",
"H = [2769.1 2839.3];\n",
"T = [170.43 200];\n",
"t3 = interpln([H;T],2790);\n",
"s3 = 6.7087; \n",
"s4 = s3;\n",
"x4 = (s3-1.7766)/5.1193;\n",
"h4 = 604.74+(x4*2133.8);\n",
"V4 = sqrt(2000*(h3-h4));\n",
"disp('degree',t3-T(1),'The condition of superheat after mixing')\n",
"disp('m/sec',V4,'The velocity of steam leaving the nozzle is')"
   ]
   }
,
{
		   "cell_type": "markdown",
		   "metadata": {},
		   "source": [
			"## Example 9.9: Calculation_of_moisture_of_steam.sce"
		   ]
		  },
  {
"cell_type": "code",
	   "execution_count": null,
	   "metadata": {
	    "collapsed": true
	   },
	   "outputs": [],
"source": [
"h2 = 2716.2; hf = 844.89; hfg = 1947.3;\n",
"x1 = (h2-hf)/hfg;\n",
"h3 = 2685.5;\n",
"x4 = (h3-hf)/hfg;\n",
"disp(x1,'The quality of steam in pipe line is')\n",
"disp('%',100-(x4*100),'Maximum moisture is')"
   ]
   }
],
"metadata": {
		  "kernelspec": {
		   "display_name": "Scilab",
		   "language": "scilab",
		   "name": "scilab"
		  },
		  "language_info": {
		   "file_extension": ".sce",
		   "help_links": [
			{
			 "text": "MetaKernel Magics",
			 "url": "https://github.com/calysto/metakernel/blob/master/metakernel/magics/README.md"
			}
		   ],
		   "mimetype": "text/x-octave",
		   "name": "scilab",
		   "version": "0.7.1"
		  }
		 },
		 "nbformat": 4,
		 "nbformat_minor": 0
}
