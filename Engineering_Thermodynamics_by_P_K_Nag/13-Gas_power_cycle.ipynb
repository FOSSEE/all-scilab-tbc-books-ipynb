{
"cells": [
 {
		   "cell_type": "markdown",
	   "metadata": {},
	   "source": [
       "# Chapter 13: Gas power cycle"
	   ]
	},
{
		   "cell_type": "markdown",
		   "metadata": {},
		   "source": [
			"## Example 13.10: Calculations_on_air_flying_through_the_engine_of_a_turbojet_aircraft.sce"
		   ]
		  },
  {
"cell_type": "code",
	   "execution_count": null,
	   "metadata": {
	    "collapsed": true
	   },
	   "outputs": [],
"source": [
"T1 = 233; V1 = 300; cp = 1.005; g = 1.4;\n",
"T2 = T1+((V1^2)/(2*cp))*1e-03 ;\n",
"P1 = 35;\n",
"P2 = P1*(T2/T1)^(g/(g-1));\n",
"rp = 10; // Pressure ratio\n",
"P3 = rp*P2;\n",
"T3 = T2*(P3/P2)^((g-1)/g);\n",
"T4 = 1373;\n",
"T5 = T4-T3+T2;\n",
"P4 = P3;\n",
"P5 = P4*(T5/T4)^(g/(g-1));\n",
"disp('K',T5,'Temperature at the turbine exit is')\n",
"disp('kPa',P5,'Pressure at the turbine exit is')\n",
"P6 = P1;\n",
"T6 = T5*(P6/P5)^((g-1)/g);\n",
"V6 = (2*cp*1000*(T5-T6))^0.5 ;\n",
"disp('m/s',V6,'Velocity of the gas at the nozzle exit is')\n",
"w = 50;\n",
"Ve = V6; Vi = 300;\n",
"Wp_dot = w*Vi*(Ve-Vi);\n",
"h4 = 1373; h3 = 536.66;\n",
"Q1 = w*cp*(h4-h3); // in kJ/kg\n",
"np = Wp_dot/(Q1*1000);\n",
"disp('%',np*100,'The propulsive efficiency of the cycle is')"
   ]
   }
,
{
		   "cell_type": "markdown",
		   "metadata": {},
		   "source": [
			"## Example 13.11: Calculations_on_a_combined_GT_ST_plant.sce"
		   ]
		  },
  {
"cell_type": "code",
	   "execution_count": null,
	   "metadata": {
	    "collapsed": true
	   },
	   "outputs": [],
"source": [
"Ta = 288;\n",
"rp = 8; // Pb/Pa\n",
"g = 1.33; g1 = 1.44; cv = 0.718; cpa = 1.005; cpg = 1.11; R = 0.287;\n",
"Tb = Ta*(rp)^((g1-1)/g1);\n",
"Tc = 1073; Tm = 800+273; Tmin = 100+273;\n",
"Td = Tc/(rp^((g-1)/g));\n",
"Wgt = cpg*(Tc-Td)-cpa*(Tb-Ta);\n",
"Q1 = cpg*(Tc-Tb);\n",
"Q1_ = cpg*(Tc-Td);\n",
"h1 = 3775; h2 = 2183; h3 = 138; h4 = h3;\n",
"Q1_st = h1-h3; // Q1'\n",
"Q_fe = cpg*(Tm-Tmin);\n",
"was = Q1_st/Q_fe; // wa/ws\n",
"Wst = h1-h2;\n",
"PO = 190e03; // in kW\n",
"ws = PO/(was*Wgt+Wst);\n",
"wa = was*ws;\n",
"CV = 43300; // in kJ/kg\n",
"waf = CV/(Q1+Q1_);\n",
"FEI = (wa/waf)*CV;\n",
"noA = PO/FEI;\n",
"disp(waf,'Air fuel ratio is')\n",
"disp('%',noA*100,'Overall efficiency of combined plant is')\n",
"\n",
"\n",
""
   ]
   }
,
{
		   "cell_type": "markdown",
		   "metadata": {},
		   "source": [
			"## Example 13.1: Calculations_on_otto_cycle.sce"
		   ]
		  },
  {
"cell_type": "code",
	   "execution_count": null,
	   "metadata": {
	    "collapsed": true
	   },
	   "outputs": [],
"source": [
"T1 = 273+35;\n",
"P1 = 100e03; // in kN/m2\n",
"Q1 = 2100;\n",
"R = 0.287;\n",
"v1 = 0.884; v2 = 0.11; v3 = v2;\n",
"rk = 8; g = 1.4; // gamma\n",
"n_cycle = 1-(1/rk^(1.4-1));\n",
"v12 = 8; // v1/v2\n",
"v1 = (R*T1)/P1;\n",
"v2 = v1/8;\n",
"T2 = T1*(v1/v2)^(g-1);\n",
"cv = 0.718;\n",
"T3 = Q1/cv + T2\n",
"P21 = (v1/v2)^g;\n",
"P2 = P21*P1;\n",
"P3 = P2*(T3/T2);\n",
"Wnet = Q1*n_cycle;\n",
"Pm = Wnet/(v1-v2);\n",
"disp('MPa',P3/1e06,'Maximum pressure is')\n",
"disp('K',T3,'Temperature of the cycle is')\n",
"disp('%',n_cycle*100,'Cycle efficiency is')\n",
"disp('MPa',Pm/1e06,'Mean effective pressure is')\n",
"\n",
"\n",
""
   ]
   }
,
{
		   "cell_type": "markdown",
		   "metadata": {},
		   "source": [
			"## Example 13.2: Calculations_on_a_diesel_engine.sce"
		   ]
		  },
  {
"cell_type": "code",
	   "execution_count": null,
	   "metadata": {
	    "collapsed": true
	   },
	   "outputs": [],
"source": [
"rk = 14;\n",
"k = 0.06\n",
"rc = k*(14-1)+1;\n",
"g = 1.4;\n",
"n_diesel = 1-((1/g))*(1/rk^(g-1))*((rc^(g-1))/(rc-1));\n",
"disp('%',n_diesel*100,'Air standard efficiency is')\n",
""
   ]
   }
,
{
		   "cell_type": "markdown",
		   "metadata": {},
		   "source": [
			"## Example 13.3: Calculations_on_air_standard_diesel_cycle.sce"
		   ]
		  },
  {
"cell_type": "code",
	   "execution_count": null,
	   "metadata": {
	    "collapsed": true
	   },
	   "outputs": [],
"source": [
"rk = 16;\n",
"T1 = 273+15;\n",
"P1 = 100; // in kN/m2\n",
"T3 = 1480+273;\n",
"g = 1.4; // gamma \n",
"R = 0.287;\n",
"T2 = 288*(rk^(g-1));\n",
"rc =  T3/T2 ;\n",
"cp = 1.005; cv = 0.718;\n",
"Q1 = cp*(T3-T2);\n",
"T4 = T3*((rc/rk)^(g-1));\n",
"Q2 = cv*(T4-T1);\n",
"n = 1-(Q2/Q1); // cycle efficiency\n",
"n_ = 1-((1/g))*(1/rk^(g-1))*((rc^(g-1))/(rc-1)); // cycle efficiency from another formula\n",
"Wnet = Q1*n;\n",
"v1 = (R*T1)/P1 ;\n",
"v2 = v1/rk;\n",
"Pm = Wnet/(v1-v2);\n",
"disp(rc,'cut-off ratio is')\n",
"disp('kJ/kg',Q1,'Heat supplied per kg of air is')\n",
"disp('%',n*100,'Cycle efficiency is')\n",
"disp('KPa',Pm,'Mean effective pressure is')\n",
""
   ]
   }
,
{
		   "cell_type": "markdown",
		   "metadata": {},
		   "source": [
			"## Example 13.4: Calculations_on_air_standard_dual_cycle.sce"
		   ]
		  },
  {
"cell_type": "code",
	   "execution_count": null,
	   "metadata": {
	    "collapsed": true
	   },
	   "outputs": [],
"source": [
"T1 = 273+50;\n",
"rk = 16;\n",
"g = 1.4; // gamma\n",
"P3 = 70; cv = 0.718; cp = 1.005; R = 0.287;\n",
"T2 = T1*((rk^(g-1)));\n",
"P1 = 1; // in bar\n",
"P2 = P1*(rk)^g;\n",
"T3 = T2*(P3/P2);\n",
"Q23 = cv*(T3-T2);\n",
"T4 = (Q23/cp)+T3;\n",
"v43 = T4/T3; // v4/v3\n",
"v54 = rk/v43; // v5/v4 = (v1/v2)*(v3/v4)\n",
"T5 = T4*(1/v54)^(g-1);\n",
"P5 = P1*(T5/T1);\n",
"Q1 = cv*(T3-T2)+cp*(T4-T3);\n",
"Q2 = cv*(T5-T1);\n",
"n_cycle = 1-(Q2/Q1);\n",
"v1 = (R*T1)/P1;\n",
"v12 = (15/16)*v1; // v1-v2\n",
"Wnet = Q1*n1;\n",
"Pm = Wnet/(v12);\n",
"disp('%',n*100,'Efficiency of the cycle is')\n",
"disp('bar',Pm,'Mean effective pressure is')"
   ]
   }
,
{
		   "cell_type": "markdown",
		   "metadata": {},
		   "source": [
			"## Example 13.5: finding_the_increase_in_cycle_efficiency_of_gas_turbine_plant.sce"
		   ]
		  },
  {
"cell_type": "code",
	   "execution_count": null,
	   "metadata": {
	    "collapsed": true
	   },
	   "outputs": [],
"source": [
"P1 = 0.1e06;\n",
"T1 = 303;\n",
"T3 = 1173;\n",
"PR = 6; // Pressure ratio\n",
"rp = 6; nt = 0.8; nc = 0.8;\n",
"g = 1.4; cv = 0.718; cp = 1.005; R = 0.287;\n",
"j = (PR)^((g-1)/g);\n",
"T2s = j*T1;\n",
"T4s = T3/j;\n",
"T21 = (T2s-T1)/nc ; // T2-T1\n",
"T34 = nt*(T3-T4s); // T3-T4\n",
"Wt = cp*T34;\n",
"Wc = cp*T21;\n",
"T2 = T21+T1;\n",
"Q1 = cp*(T3-T2);\n",
"n = (Wt-Wc)/Q1;\n",
"T4 = T3-375;\n",
"T6 = 0.75*(T4-T2) + T2 ;\n",
"Q1_ = cp*(T3-T6);\n",
"n_ = (Wt-Wc)/Q1_;\n",
"I = (n_-n)/n ;\n",
"disp('%',I*100,'The percentage efficiency in cycle efficiency due to regeneration is')"
   ]
   }
,
{
		   "cell_type": "markdown",
		   "metadata": {},
		   "source": [
			"## Example 13.6: Calculations_on_gas_turbine_plant_operating_on_bryton_cycle.sce"
		   ]
		  },
  {
"cell_type": "code",
	   "execution_count": null,
	   "metadata": {
	    "collapsed": true
	   },
	   "outputs": [],
"source": [
"cp = 1.005;\n",
"Tmax = 1073; Tmin = 300;\n",
"Wnet_max = cp*(sqrt(Tmax)-sqrt(Tmin))^2;\n",
"n_cycle = 1-sqrt(Tmin/Tmax);\n",
"n_carnot = 1-(Tmin/Tmax);\n",
"r = n_cycle/n_carnot;\n",
"disp('kJ/kg',Wnet_max,'Maximum work done per kg of air is')\n",
"disp('%',n_cycle*100,'cycle efficiency is')\n",
"disp(r,'ratio of brayton and carnot efficiency is')"
   ]
   }
,
{
		   "cell_type": "markdown",
		   "metadata": {},
		   "source": [
			"## Example 13.7: Calculations_on_an_ideal_bryton_cycle.sce"
		   ]
		  },
  {
"cell_type": "code",
	   "execution_count": null,
	   "metadata": {
	    "collapsed": true
	   },
	   "outputs": [],
"source": [
"rp = 6;\n",
"g = 1.4; cv = 0.718; cp = 1.005; R = 0.287;\n",
"T1 = 300; T3 = 1100; T0 = 300;\n",
"n_cycle = 1-(1/rp^((g-1)/g));\n",
"j = rp^((g-1)/g);\n",
"T2 = T1*j;\n",
"T4 = T3/j;\n",
"Wc = cp*(T2-T1);\n",
"Wt = cp*(T3-T4);\n",
"WR = (Wt-Wc)/Wt;\n",
"Q1 = 100; // in MW\n",
"PO = n_cycle*Q1;\n",
"m_dot = (Q1*1e06)/(cp*(T3-T2));\n",
"R = m_dot*cp*T0*((T4/T0)-1-log(T4/T0));\n",
"disp('%',n_cycle*100,'The thermal efficiency of the cycle is')\n",
"disp(WR,'Work ratio is')\n",
"disp('MW',PO,'Power output is')\n",
"disp('MW',R/1e06,'Energy flow rate of the exhaust gas stream is')"
   ]
   }
,
{
		   "cell_type": "markdown",
		   "metadata": {},
		   "source": [
			"## Example 13.8: Calculations_on_stationary_gas_turbine.sce"
		   ]
		  },
  {
"cell_type": "code",
	   "execution_count": null,
	   "metadata": {
	    "collapsed": true
	   },
	   "outputs": [],
"source": [
"nc = 0.87; nt = 0.9; T1 = 311; \n",
"rp = 8; // P2/P1\n",
"P1 = 1; P2 = 8; P3 = 0.95*P2; P4 = 1;\n",
"g = 1.4; cv = 0.718; cp = 1.005; R = 0.287;\n",
"// With no cooling\n",
"T2s = T1*((P2/P1)^((g-1)/g));\n",
"T2 = T1 + (T2s-T1)/0.87;\n",
"T4s = T3*(P4/P3)^((g-1)/g);\n",
"n = (((T3-T4s)*nt)-((T2s-T1)/nc))/(T3-T2);\n",
"// With cooling\n",
"n_cycle = n-0.05;\n",
"x = 0.13;\n",
"r = 0.13/1.13;\n",
"disp('%',r*100,'Percentage of air that may be taken from the compressor is')\n",
""
   ]
   }
],
"metadata": {
		  "kernelspec": {
		   "display_name": "Scilab",
		   "language": "scilab",
		   "name": "scilab"
		  },
		  "language_info": {
		   "file_extension": ".sce",
		   "help_links": [
			{
			 "text": "MetaKernel Magics",
			 "url": "https://github.com/calysto/metakernel/blob/master/metakernel/magics/README.md"
			}
		   ],
		   "mimetype": "text/x-octave",
		   "name": "scilab",
		   "version": "0.7.1"
		  }
		 },
		 "nbformat": 4,
		 "nbformat_minor": 0
}
