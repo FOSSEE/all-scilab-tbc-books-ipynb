{
"cells": [
 {
		   "cell_type": "markdown",
	   "metadata": {},
	   "source": [
       "# Chapter 1: Introduction"
	   ]
	},
{
		   "cell_type": "markdown",
		   "metadata": {},
		   "source": [
			"## Example 1.1: Calculting_gas_pressure.sce"
		   ]
		  },
  {
"cell_type": "code",
	   "execution_count": null,
	   "metadata": {
	    "collapsed": true
	   },
	   "outputs": [],
"source": [
"d_r = 13640; // Density of mercury in kg/m3\n",
"g = 9.79; // Acceleration due to gravity in m/s2\n",
"z = 562e-03; // Difference in height in m\n",
"z0 = 761e-03; // Reading of barometer in m\n",
"P = (d_r*g*(z+z0))*(0.987/1e05); // Gas Pressure in bar\n",
"disp('bar',P,'Gas Pressure is ')"
   ]
   }
,
{
		   "cell_type": "markdown",
		   "metadata": {},
		   "source": [
			"## Example 1.2: Calculating_inlet_and_exhaust_pressure_in_pascals.sce"
		   ]
		  },
  {
"cell_type": "code",
	   "execution_count": null,
	   "metadata": {
	    "collapsed": true
	   },
	   "outputs": [],
"source": [
"d_r = 13.6e03; // Density of mercury in kg/m3\n",
"g = 9.81; // Acceleration due to gravity in m/s2\n",
"z = 710e-03; // Stean flow pressure in m\n",
"z0 = 772e-03; // Reading of barometer in m\n",
"P = 1.4e06; // Gauge pressure of applied steam in Pa\n",
"P0 = d_r*g*z0; // Atmospheric pressure in Pa\n",
"Pi = P+P0 ; // Inlet steam pressure in Pa\n",
"Pc = d_r*g*(z0-z); // Condenser pressure in Pa\n",
"disp('Pa',Pi,'Inlet steam pressure is')\n",
"disp('Pa',Pc,'Condenser pressure is')\n",
"\n",
"\n",
""
   ]
   }
,
{
		   "cell_type": "markdown",
		   "metadata": {},
		   "source": [
			"## Example 1.3: Converting_various_readings_of_pressure_in_kPa.sce"
		   ]
		  },
  {
"cell_type": "code",
	   "execution_count": null,
	   "metadata": {
	    "collapsed": true
	   },
	   "outputs": [],
"source": [
"z = 0.760; // Barometer reading in m\n",
"// Part (a)\n",
"h1 = 40e-02; // Mercury height in vaccume in m\n",
"d_r = 13.6e03; // Density of mercury in kg/m3\n",
"g = 9.80; // Acceleration due to gravity in m/s2\n",
"Patm = z*d_r*g; // Atmospheric pressure in Pas\n",
"Pv = h1*d_r*g; // Pressue in vaccume in Pa\n",
"Pabs = Patm-Pv; // Absolute pressure in Pa\n",
"disp('Pa',Pabs,' 40cmHg vaccume is')\n",
"// Part (b)\n",
"h2 = 90e-02; // Mercury height in gauge in m\n",
"Pg = h2*d_r*g; // Gauge Pressure in Pa\n",
"Pabs1 = Patm + Pg ; // Absolute pressure in Pa\n",
"disp('Pa',Pabs1,'90cmHg gauge is')\n",
"// Part(c)\n",
"d_w = 1e03 ; // Density of water in kg/m3\n",
"h3 = 1.2 ; // Gauge Pressure water height in m\n",
"Pga = d_w*h3*g; // Gauge Pressure in Pa\n",
"Pabs3 = Patm + Pga ; // Absolute pressure in Pa\n",
"disp('Pa',Pabs3,'1.2 m H2O gauge is')"
   ]
   }
,
{
		   "cell_type": "markdown",
		   "metadata": {},
		   "source": [
			"## Example 1.4: Calculating_the_depth_of_earth_atmosphere_required_to_produce_given_pressure.sce"
		   ]
		  },
  {
"cell_type": "code",
	   "execution_count": null,
	   "metadata": {
	    "collapsed": true
	   },
	   "outputs": [],
"source": [
"Pr = 1.033e05; // Required Pressure in bar\n",
"function y = pressure(p)\n",
"  y = p^(-0.714);\n",
"endfunction;\n",
"g = 9.81; // Acceleration due to gravity in m/s2\n",
"H = ((2.5e05^0.714)/g)*intg(0,Pr,pressure); // Depth of atmosphere required in m\n",
"disp('Km',H/1000,'The depth of atmosphere required is ') \n",
"  "
   ]
   }
,
{
		   "cell_type": "markdown",
		   "metadata": {},
		   "source": [
			"## Example 1.5: Determining_net_upward_force_experienced_by_astrounaut.sce"
		   ]
		  },
  {
"cell_type": "code",
	   "execution_count": null,
	   "metadata": {
	    "collapsed": true
	   },
	   "outputs": [],
"source": [
"m = 68 ; // Astronaut mass in Kg\n",
"g = 9.806; // Acceleration due to gravity in m/s2\n",
"a = 10*g ; // Lift off acceleration in m/s2\n",
"F = m*a; // Net vertical force in N\n",
"disp('N',F,'Net vertical force experienced by astronaut is')"
   ]
   }
],
"metadata": {
		  "kernelspec": {
		   "display_name": "Scilab",
		   "language": "scilab",
		   "name": "scilab"
		  },
		  "language_info": {
		   "file_extension": ".sce",
		   "help_links": [
			{
			 "text": "MetaKernel Magics",
			 "url": "https://github.com/calysto/metakernel/blob/master/metakernel/magics/README.md"
			}
		   ],
		   "mimetype": "text/x-octave",
		   "name": "scilab",
		   "version": "0.7.1"
		  }
		 },
		 "nbformat": 4,
		 "nbformat_minor": 0
}
