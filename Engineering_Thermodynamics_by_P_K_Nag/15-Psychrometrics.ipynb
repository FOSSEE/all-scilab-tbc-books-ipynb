{
"cells": [
 {
		   "cell_type": "markdown",
	   "metadata": {},
	   "source": [
       "# Chapter 15: Psychrometrics"
	   ]
	},
{
		   "cell_type": "markdown",
		   "metadata": {},
		   "source": [
			"## Example 15.1: Calculations_on_atmospheric_air.sce"
		   ]
		  },
  {
"cell_type": "code",
	   "execution_count": null,
	   "metadata": {
	    "collapsed": true
	   },
	   "outputs": [],
"source": [
"Ps = 0.033363; P = 1.0132;\n",
"W2 = (0.622*Ps)/(P-Ps);\n",
"hfg2 = 2439.9; hf2 = 109.1; cpa = 1.005;\n",
"hg = 2559.9; hw1 = hg;\n",
"T2 = 25+273; T1 = 32+273;\n",
"W1 = (cpa*(T2-T1)+(W2*hfg2))/(hw1-hf2);\n",
"Pw = ((W1/0.622)*P)/(1+(W1/0.622));\n",
"disp('kg vap./kg dry air',W1,'Specific humidity is')\n",
"disp('bar',Pw,'Partial pressure of water vapour is')\n",
"disp('degree',24.1,'Dew point temperature is') // saturation temperature at 0.03 bar\n",
"Psat = 0.048; // at 32 degree\n",
"fi = Pw/Psat;\n",
"disp('%',fi*100,'Relative humidity is')\n",
"mu = (Pw/Ps)*((P-Ps)/(P-Pw));\n",
"disp(mu,'Degree of saturation is')\n",
"Pa = P-Pw;\n",
"Ra = 0.287; Tab = T1;\n",
"rho_a = (Pa*100)/(Ra*Tab);\n",
"disp('kg/m3',rho_a,'Density of dry air is')\n",
"rho_w = W1*rho_a;\n",
"disp('kg/m3',rho_w,'Density of water vapour is')\n",
"ta = 32; tdb = 32; tdp = 24.1;\n",
"h = cpa*ta + W1*(hg+1.88*(tdb-tdp));\n",
"disp('kJ/kg',h,'Enthalpy of the mixture is')"
   ]
   }
,
{
		   "cell_type": "markdown",
		   "metadata": {},
		   "source": [
			"## Example 15.2: Calculating_the_humidity_of_air_water_mixture.sce"
		   ]
		  },
  {
"cell_type": "code",
	   "execution_count": null,
	   "metadata": {
	    "collapsed": true
	   },
	   "outputs": [],
"source": [
"Ps = 2.339; P = 100;\n",
"W2 = (0.622*Ps)/(P-Ps);\n",
"hfg2 = 2454.1; hf2 = 83.96; cpa = 1.005;\n",
"hw1 = 2556.3;\n",
"T2 = 20; T1 = 30;\n",
"W1 = (cpa*(T2-T1)+(W2*hfg2))/(hw1-hf2);\n",
"Pw1 = ((W1/0.622)*P)/(1+(W1/0.622));\n",
"Ps1 = 4.246;\n",
"fi = (Pw1/Ps1);\n",
"disp('%',fi*100,'Relative humidity is')\n",
"disp('kg vap./kg dry air',W1,'Humidity ratio of inlet mixture is')"
   ]
   }
,
{
		   "cell_type": "markdown",
		   "metadata": {},
		   "source": [
			"## Example 15.3: Calculations_on_air_temperature_and_mass_of_water.sce"
		   ]
		  },
  {
"cell_type": "code",
	   "execution_count": null,
	   "metadata": {
	    "collapsed": true
	   },
	   "outputs": [],
"source": [
"Psat = 2.339;\n",
"fi3 = 0.50;\n",
"P = 101.3; cp = 1.005;\n",
"Pw3 = fi3*Psat;\n",
"Pa3 = P-Pw3;\n",
"W3 = 0.622*(Pw3/Pa3);\n",
"Psa1_1 = 0.7156;\n",
"Pw1 = 0.7156;\n",
"Pa1 = P-Pw1;\n",
"W1 = 0.622*(Pw1/Pa1); W2 = W1;\n",
"T3 = 293; Ra = 0.287; Pa3 = 100.13;\n",
"va3 = (Ra*T3)/Pa3;\n",
"SW = (W3-W1)/va3;\n",
"t3 = 20; tsat = 9.65; hg = 2518; h4 = 10;\n",
"t2 = ( W3*(hg+1.884*(t3-tsat))-W2*(hg-1.884*tsat) + cp*t3 - (W3-W2)*h4 )/ (cp+W2*1.884)\n",
"disp('kg moisture/m3',SW,'Mass of spray water required is')\n",
"disp('degree',t2,'Temperature to which air must be heated is')\n",
""
   ]
   }
,
{
		   "cell_type": "markdown",
		   "metadata": {},
		   "source": [
			"## Example 15.4: Calculations_on_an_air_conditioning_system.sce"
		   ]
		  },
  {
"cell_type": "code",
	   "execution_count": null,
	   "metadata": {
	    "collapsed": true
	   },
	   "outputs": [],
"source": [
"h1 = 82; h2 = 52; h3 = 47; h4 = 40;\n",
"W1 = 0.020; W2 = 0.0115; W3 = W2;\n",
"v1 = 0.887;\n",
"v = 3.33; // amount of free sir circulated\n",
"G = v/v1;\n",
"CC = (G*(h1-h3)*3600)/14000; // in tonns\n",
"R = G*(W1-W3);\n",
"disp('tonnes',CC,'Capacity of the cooling coil in tonnes')\n",
"disp('kg/s',R,'Rate of water vapour removed is')"
   ]
   }
,
{
		   "cell_type": "markdown",
		   "metadata": {},
		   "source": [
			"## Example 15.5: Calculation_on_air_mixed_with_RH.sce"
		   ]
		  },
  {
"cell_type": "code",
	   "execution_count": null,
	   "metadata": {
	    "collapsed": true
	   },
	   "outputs": [],
"source": [
"W1 = 0.0058; W2 = 0.0187; \n",
"h1 = 35; h2 = 90;\n",
"G12 = 1/2; // G12 = G1/G2 \n",
"W3 = (W2+G12*W1)/(1+G12);\n",
"h3 = (2/3)*h2 + (1/3)*h1;\n",
"disp('Final condition of air is given by')\n",
"disp('kg vap./kg dry air',W3,'W3 = ')\n",
"disp('kJ/kg dry air',h3,'h3 = ')"
   ]
   }
,
{
		   "cell_type": "markdown",
		   "metadata": {},
		   "source": [
			"## Example 15.7: Calculation_on_the_airconditioning_of_a_hall.sce"
		   ]
		  },
  {
"cell_type": "code",
	   "execution_count": null,
	   "metadata": {
	    "collapsed": true
	   },
	   "outputs": [],
"source": [
"h1 = 57; h2 = h1;\n",
"h3 = 42;\n",
"W1 = 0.0065; W2 = 0.0088; W3 = W2;\n",
"t2 = 34.5; v1 = 0.896;\n",
"n = 1500; // seating capacity of hall\n",
"a = 0.3; // amount of out door air suplied\n",
"G = (n*a)/0.896 ; // Amount of dry air suplied\n",
"CC = (G*(h2-h3)*60)/14000; // in tonns\n",
"R = G*(W2-W1)*60;\n",
"disp('tonnes',CC,'Capacity of the cooling coil in tonnes')\n",
"disp('kg/h',R,'Capacity of humidifier')"
   ]
   }
,
{
		   "cell_type": "markdown",
		   "metadata": {},
		   "source": [
			"## Example 15.8: Calculations_on_water_into_a_cooling_tower.sce"
		   ]
		  },
  {
"cell_type": "code",
	   "execution_count": null,
	   "metadata": {
	    "collapsed": true
	   },
	   "outputs": [],
"source": [
"twb1 = 15.2; twb2 = 26.7; tw3 = 30;\n",
"h1 = 43; h2 = 83.5; hw = 84; mw = 1.15;\n",
"W1 = 0.0088; W2 = 0.0213;\n",
"hw3 = 125.8; hm = 84;\n",
"G = 1;\n",
"hw34 = (G/mw)*((h2-h1)-(W2-W1)*hw);  // hw3-hw4\n",
"tw4 = tw3-(hw34/4.19);\n",
"A = tw4-twb1;\n",
"R = tw3-tw4;\n",
"x = G*(W2-W1);\n",
"disp('degree',tw4,'Temperature of water leaving the tower is')\n",
"disp('kg/kg dry sir',x,'Fraction of water evoporated is')\n",
"disp('degree',R,'Range of cooling water is')\n",
"disp('degree',A,'Approach of cooling water is')\n",
""
   ]
   }
,
{
		   "cell_type": "markdown",
		   "metadata": {},
		   "source": [
			"## Example 15.9: Calculations_on_air_flow_rate_into_a_cooling_tower.sce"
		   ]
		  },
  {
"cell_type": "code",
	   "execution_count": null,
	   "metadata": {
	    "collapsed": true
	   },
	   "outputs": [],
"source": [
"Psat1 = 0.01705; hg1 = 2528.9; // at 15 degree\n",
"Psat2 = 0.05628; hg2 = 2565.3; // At 35 degree\n",
"fi1 = 0.55;\n",
"Pw1 = fi1*Psat1;\n",
"fi2 = 1;\n",
"Pw2 = fi2*Psat2;\n",
"P = 1;\n",
"W1 = (0.622*Pw1)/(P-Pw1);\n",
"W2 = (0.622*Pw2)/(P-Pw2);\n",
"MW = W2-W1;\n",
"t2 = 35; t1 = 15; \n",
"m_dot = 2.78;\n",
"cpa = 1.005;\n",
"h43 = 35*4.187; // h4-h3\n",
"h5 = 14*4.187;\n",
"m_dot_w = (-(W2-W1)*h5 - W1*hg1 + W2*hg2 + cpa*(t2-t1))/(h43) ;\n",
"R = m_dot/m_dot_w ;\n",
"MW = (W2-W1)*R;\n",
"RWA = R*(1+W1);\n",
"R = 0.287; T = 288; \n",
"V_dot = (RWA*R*T)/(P*1e02) ; // Pressure is in kilo Pascal\n",
"disp('kg/s',MW,'Make up water flow rate is')\n",
"disp('m3/s',V_dot,'Volume flow rate of air is')"
   ]
   }
],
"metadata": {
		  "kernelspec": {
		   "display_name": "Scilab",
		   "language": "scilab",
		   "name": "scilab"
		  },
		  "language_info": {
		   "file_extension": ".sce",
		   "help_links": [
			{
			 "text": "MetaKernel Magics",
			 "url": "https://github.com/calysto/metakernel/blob/master/metakernel/magics/README.md"
			}
		   ],
		   "mimetype": "text/x-octave",
		   "name": "scilab",
		   "version": "0.7.1"
		  }
		 },
		 "nbformat": 4,
		 "nbformat_minor": 0
}
