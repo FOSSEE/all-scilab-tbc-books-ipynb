{
"cells": [
 {
		   "cell_type": "markdown",
	   "metadata": {},
	   "source": [
       "# Chapter 18: Gas compressors"
	   ]
	},
{
		   "cell_type": "markdown",
		   "metadata": {},
		   "source": [
			"## Example 18.10: Calculations_on_a_rotatry_compressor.sce"
		   ]
		  },
  {
"cell_type": "code",
	   "execution_count": null,
	   "metadata": {
	    "collapsed": true
	   },
	   "outputs": [],
"source": [
"T1 = 278; P21 = 2.5; // P2/P1\n",
"cp = 1.005; ns = 0.84; V2 = 120;\n",
"T2s = T1*(P21)^((g-1)/g);\n",
"T2 = T1 + (T2s-T1)/ns;\n",
"mg = 0.04*(13+1);\n",
"P = mg*cp*(T2-T1);\n",
"T02 = T2 + V2^2/(2*cp*1000);\n",
"P1 = 0.6;\n",
"P2 = P21*0.6;\n",
"P02 = P2*(T02/T2)^(g/(g-1));\n",
"disp('kW',P,'Power required to drive the compressor is')\n",
"disp('K',T02,'Stagnation temperature is')\n",
"disp('bar',P02,'Stagnation pressure is')\n",
""
   ]
   }
,
{
		   "cell_type": "markdown",
		   "metadata": {},
		   "source": [
			"## Example 18.1: Calculations_on_a_single_reciprocating_compressor.sce"
		   ]
		  },
  {
"cell_type": "code",
	   "execution_count": null,
	   "metadata": {
	    "collapsed": true
	   },
	   "outputs": [],
"source": [
"T2 = 488; T1 = 298; n = 1.3; R =8314/44;\n",
"rp = (T2/T1)^(n/(n-1));\n",
"disp(rp,'Pressure ratio is')\n",
"b = 0.12; // Bore of compressor\n",
"L = 0.15; // Stroke of compressor\n",
"V1 = (%pi/4)*(b)^2*L ; \n",
"P1 = 120e03; // in kPa\n",
"W = ((n*P1*V1)/(n-1))*(((rp)^((n-1)/n))-1);\n",
"P = (W*1200*0.001)/60 ; \n",
"disp('kW',P,'Indicated power is')\n",
"disp('kW',P/0.8,'Shaft power is')\n",
"V1_dot = V1*(1200/60);\n",
"m_dot = (P1*V1_dot)/(R*T1);\n",
"disp('kg/s',m_dot,'Mass flow rate is')\n",
"rp_1 = rp^2;\n",
"disp(rp_1,'Pressure ratio when second stage is added is')\n",
"V2 = (1/rp)^(1/n)*V1;\n",
"disp('m3',V2,'Volume derived per cycle is V2')\n",
"d = sqrt((V2*4)/(L*%pi));\n",
"disp('mm',d*1000,'Second stage bore would be')"
   ]
   }
,
{
		   "cell_type": "markdown",
		   "metadata": {},
		   "source": [
			"## Example 18.2: Calculations_on_a_single_reciprocating_air_compressor.sce"
		   ]
		  },
  {
"cell_type": "code",
	   "execution_count": null,
	   "metadata": {
	    "collapsed": true
	   },
	   "outputs": [],
"source": [
"P1 = 101.3e03; P4 = P1; // in Pa\n",
"P2 = 8*P1;  P3 = P2;\n",
"T1 = 288; Vs = 2000;\n",
"V3 = 100; Vc = V3;\n",
"V1 = Vs + Vc ;\n",
"n = 1.25; R = 287;\n",
"V4 = ((P3/P4)^(1/n))*V3;\n",
"W = ((n*P1*(V1-V4)*1e-06)/(n-1))*(((P2/P1)^((n-1)/n))-1);\n",
"P = (W*800*0.001)/60 ; \n",
"disp('kW',P,'Indicated poer is')\n",
"disp('%',100*(V1-V4)/Vs,'Volumetric efficiency is')\n",
"m = (P1*(V1-V4)*1e-06)/(R*T1);\n",
"m_dot = m*800;\n",
"disp('kg/min',m_dot,'Mass flow rate is')\n",
"FAD = (V1-V4)*1e-06*800;\n",
"disp('m3/min',FAD,'Free air delivery is')\n",
"Wt = P1*(V1-V4)*1e-06*log(P2/P1);\n",
"n_isothermal = (Wt*800*0.001)/(P*60);\n",
"disp('%',100*n_isothermal,'Isothermal efficiency is')\n",
"Pi = P/0.85;\n",
"disp('kW',Pi,'Input power is')"
   ]
   }
,
{
		   "cell_type": "markdown",
		   "metadata": {},
		   "source": [
			"## Example 18.3: Calculations_on_a_two_stage_air_compressor_with_perfect_intercoolings.sce"
		   ]
		  },
  {
"cell_type": "code",
	   "execution_count": null,
	   "metadata": {
	    "collapsed": true
	   },
	   "outputs": [],
"source": [
"P1 = 1; P3 = 9;\n",
"P2 = sqrt(P1*P3);\n",
"T1 = 300; cp = 1.005;\n",
"R = 0.287; n = 1.3;\n",
"W = ((2*n*R*T1)/(n-1))*((P2/P1)^((n-1)/n)-1);\n",
"T2 = T1*(P2/P1)^((n-1)/n);\n",
"H = cp*(T2-T1);\n",
"disp('kJ/kg',H,'Heat rejected to the intercooler is')"
   ]
   }
,
{
		   "cell_type": "markdown",
		   "metadata": {},
		   "source": [
			"## Example 18.4: Calculations_on_a_single_acting_two_stage_air_compressors.sce"
		   ]
		  },
  {
"cell_type": "code",
	   "execution_count": null,
	   "metadata": {
	    "collapsed": true
	   },
	   "outputs": [],
"source": [
"P1 = 1.013; P4 = 80;\n",
"P2 = sqrt(P1*P4);\n",
"V_dot = 4/60; // in m3/s\n",
"n = 1.25;\n",
"n_mech = 0.75;\n",
"W_dot = ((2*n)/(n-1))*((P1*100*V_dot)/n_mech)*((P2/P1)^((n-1)/n)-1);\n",
"N = 250;\n",
"L = (3*60)/(2*N); // Stroke length of piston in m\n",
"Vlp = 4/N;\n",
"n_vol = 0.8;\n",
"Dlp = sqrt((Vlp*4)/(n_vol*L*%pi));\n",
"Dhp = Dlp*sqrt(P1/P2);\n",
"disp('kW',W_dot,'Minimum power required is')\n",
"disp('cm',L*100,'Stroke of the compressor is')\n",
"disp('cm',Dhp*100,'Bore of high pressure compressure is')\n",
"disp('cm',Dlp*100,'Bore of lo pressure compressure is')"
   ]
   }
,
{
		   "cell_type": "markdown",
		   "metadata": {},
		   "source": [
			"## Example 18.5: Determination_of_out_put_power_of_an_air_engine.sce"
		   ]
		  },
  {
"cell_type": "code",
	   "execution_count": null,
	   "metadata": {
	    "collapsed": true
	   },
	   "outputs": [],
"source": [
"V12 = 0.4; // V12 = V1/V2\n",
"T1 = 38+273; n = 1.3; P3 = 112; // back pressure\n",
"m = 1.25; R = 0.287;\n",
"T2 = ((V12)^(n-1))*T1;\n",
"P1 = 700; // in kPa\n",
"P2 = P1*(V12)^n;\n",
"V2 = (m*R*T2)/P2;\n",
"v2 = V2/m ;\n",
"A = R*T1 + R*(T1-T2)/(n-1) - P3*v2; // Area of indicator diagram\n",
"IO = A*0.85*m;\n",
"disp('kJ',IO,'Indicated output is')\n",
""
   ]
   }
,
{
		   "cell_type": "markdown",
		   "metadata": {},
		   "source": [
			"## Example 18.6: Calculations_on_a_three_stage_acting_reciprocating_air_compressor.sce"
		   ]
		  },
  {
"cell_type": "code",
	   "execution_count": null,
	   "metadata": {
	    "collapsed": true
	   },
	   "outputs": [],
"source": [
"P1 = 1; P41 = 15; // P41 = P4/P1\n",
"P21 = (P41)^(1/3);\n",
"P2 = P21*P1; n = 1.3; R = 0.287;\n",
"P3 = P21*P2;\n",
"P11 = P2; P12 = P1;\n",
"b = 0.45; s = 0.3; // Bore and stroke of cylinder\n",
"Vs = (%pi/4)*b^2*s; // Swept volume of the cylinder\n",
"V11 = 0.05*Vs; // Clearance volume\n",
"V1 = V11+Vs;\n",
"V12 = V11*(P11/P12)^(1/n);\n",
"disp('m3',V1-V12,'Effective swept volume of the LP cylinder is')\n",
"T1 = 291; T3 = T1; T5 = T1;\n",
"P43 = P21; // P4/P3\n",
"T6 = T5*(P43)^((n-1)/n);\n",
"disp('K',T6,'Delivery temperature is')\n",
"P4 = 15; // Delivery pressure\n",
"V6_7 = (P1/P4)*(T6/T1)*(V1-V12); // V6-V7\n",
"disp('m3',V6_7,'Volume of the air delivered')\n",
"W = ((3*n*R*T1)/(n-1))*((P21)^((n-1)/n)-1);\n",
"disp('kJ',W,'Work done per kg of the air is')"
   ]
   }
,
{
		   "cell_type": "markdown",
		   "metadata": {},
		   "source": [
			"## Example 18.7: Determining_the_work_input_for_a_vane_type_compressor.sce"
		   ]
		  },
  {
"cell_type": "code",
	   "execution_count": null,
	   "metadata": {
	    "collapsed": true
	   },
	   "outputs": [],
"source": [
"P1 = 1.013;\n",
"P2 = 1.5*P1;\n",
"Vs = 0.03; Va = Vs;\n",
"WD = (P2-P1)*Vs*100;\n",
"Pi = (P1+P2)/2;\n",
"g = 1.4;\n",
"Aa = ((g*P1*100*Vs)/(g-1))*((Pi/P1)^((g-1)/g)-1);\n",
"Vb = Va *(P1/Pi)^(1/g);\n",
"Ab = Vb*(P2-Pi)*100;\n",
"WR = Aa+Ab;\n",
"disp('kJ/rev',WR,'Work required is')"
   ]
   }
,
{
		   "cell_type": "markdown",
		   "metadata": {},
		   "source": [
			"## Example 18.8: Determination_of_power_required_to_drive_the_roots_blower.sce"
		   ]
		  },
  {
"cell_type": "code",
	   "execution_count": null,
	   "metadata": {
	    "collapsed": true
	   },
	   "outputs": [],
"source": [
"// For Blower\n",
"m_dot = 1; R = 0.287; T1 = 343;\n",
"P1 = 100; P2 = 2*P1; g = 1.4;\n",
"V_dot = (m_dot*R*T1)/P1;\n",
"PRb = V_dot*(P2-P1);\n",
"disp('kW',PRb,'Power required by the blower is')\n",
"// For van compressor\n",
"P1v = 1; V21 = 0.7 // V2/V1\n",
"P2v = P1v*(1/V12)^g;\n",
"V2_dot = 0.7;\n",
"V1_dot = 0.7*V_dot;\n",
"P3v = 2;\n",
"PRv = ((g*P1v*100*V_dot)/(g-1))*((P2v/P1v)^((g-1)/g)-1) + V1_dot*100*(P3v-P2v);\n",
"disp('kW',PRv,'Power Required by van compressor is')\n",
""
   ]
   }
,
{
		   "cell_type": "markdown",
		   "metadata": {},
		   "source": [
			"## Example 18.9: Calculations_on_a_gas_turbine_utilizing_a_two_stage_centrifugal_compressor.sce"
		   ]
		  },
  {
"cell_type": "code",
	   "execution_count": null,
	   "metadata": {
	    "collapsed": true
	   },
	   "outputs": [],
"source": [
"T1 = 283; P21 = 2.5; // P2/P1\n",
"P32 = 2.1; // P3/P2\n",
"ns = 0.85; ma = 5; cp = 1.005;\n",
"T2s = T1*(P21)^((g-1)/g);\n",
"T2 = T1 + (T2s-T1)/ns;\n",
"T3 = T2-50;\n",
"T4s = T3*(P32)^((g-1)/g);\n",
"T4 = T3 + (T4s-T3)/ns;\n",
"P = ma*cp*((T2-T1)+(T4-T3));\n",
"disp('kW',P,'Total compressor power is')"
   ]
   }
],
"metadata": {
		  "kernelspec": {
		   "display_name": "Scilab",
		   "language": "scilab",
		   "name": "scilab"
		  },
		  "language_info": {
		   "file_extension": ".sce",
		   "help_links": [
			{
			 "text": "MetaKernel Magics",
			 "url": "https://github.com/calysto/metakernel/blob/master/metakernel/magics/README.md"
			}
		   ],
		   "mimetype": "text/x-octave",
		   "name": "scilab",
		   "version": "0.7.1"
		  }
		 },
		 "nbformat": 4,
		 "nbformat_minor": 0
}
