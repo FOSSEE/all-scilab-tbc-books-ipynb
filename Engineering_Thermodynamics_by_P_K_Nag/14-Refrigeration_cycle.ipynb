{
"cells": [
 {
		   "cell_type": "markdown",
	   "metadata": {},
	   "source": [
       "# Chapter 14: Refrigeration cycle"
	   ]
	},
{
		   "cell_type": "markdown",
		   "metadata": {},
		   "source": [
			"## Example 14.1: Finding_the_power_required_to_drive_a_cold_storage_plant.sce"
		   ]
		  },
  {
"cell_type": "code",
	   "execution_count": null,
	   "metadata": {
	    "collapsed": true
	   },
	   "outputs": [],
"source": [
"T2 = 268; T1 = 308;\n",
"COP = T2/(T1-T2);\n",
"ACOP = COP/3; // Actual COP\n",
"Q2 = 29; // in kW\n",
"W = Q2/ACOP;\n",
"disp('kW',W,'Power required to derive the plane is')"
   ]
   }
,
{
		   "cell_type": "markdown",
		   "metadata": {},
		   "source": [
			"## Example 14.2: Heat_calculations_on_a_refrigerator.sce"
		   ]
		  },
  {
"cell_type": "code",
	   "execution_count": null,
	   "metadata": {
	    "collapsed": true
	   },
	   "outputs": [],
"source": [
"h1 = 236.04; s1 = 0.9322; s2 = s1;\n",
"P2 = 0.8; // in MPa\n",
"h2 = 272.05; h3 = 93.42; h4 = h3;\n",
"m = 0.06; // mass flow rate\n",
"Q2 = m*(h1-h4);\n",
"Wc = m*(h2-h1);\n",
"Q1 = m*(h2-h4);\n",
"COP = Q2/Wc;\n",
"disp('kW',Q2,'The rate of heat removal is')\n",
"disp('kW',Wc,'Power input to the compressor is')\n",
"disp('kW',Q1,'The heat rejection rate in the condenser is')\n",
"disp(COP,'COP is')"
   ]
   }
,
{
		   "cell_type": "markdown",
		   "metadata": {},
		   "source": [
			"## Example 14.3: Calculations_on_refrigeration_by_a_simple_R_12_plant.sce"
		   ]
		  },
  {
"cell_type": "code",
	   "execution_count": null,
	   "metadata": {
	    "collapsed": true
	   },
	   "outputs": [],
"source": [
"h1 = 183.19; h2 = 209.41; h3 = 74.59; h4 = h3;\n",
"T1 = 313; T2 = 263;\n",
"W = 70000/3600; // Plant capacity in kW\n",
"w = W/(h1-h4); // Refrigerant flow rate\n",
"v1 = 0.077;\n",
"VFR = w*v1;\n",
"T = 48; // in degree\n",
"P2 = 9.6066; P1 = 2.1912;\n",
"rp = P2/P1; // Pressure ratio\n",
"Q1 = w*(h2-h3);\n",
"hf = 26.87; hfg = 156.31;\n",
"x4 = (h4-hf)/hfg;\n",
"COP = (h1-h4)/(h2-h1);\n",
"PI = w*(h2-h1);\n",
"COP = T2/(T1-T2);\n",
"COP_v = 4.14;\n",
"r = COP_v/COP;\n",
"disp('kg/s',w,'Refrigerant flow rate is')\n",
"disp('m3/s',VFR,'Volume flow rate is')\n",
"disp('degree',T,'Compressor discharge temperature is')\n",
"disp(rp,'Pressure ratio is')\n",
"disp('kW',Q1,'Heat rejected to the condenser is')\n",
"disp('%',x4*100,'Flash gas percentage is')\n",
"disp(COP,'COP is')\n",
"disp('kW',PI,'Power required to drive the compressor is')\n",
"disp(r,'Ratio of COP of carnot refrigerator is')\n",
"\n",
"\n",
""
   ]
   }
,
{
		   "cell_type": "markdown",
		   "metadata": {},
		   "source": [
			"## Example 14.4: Calculations_on_R_12_vapour_compression_plant.sce"
		   ]
		  },
  {
"cell_type": "code",
	   "execution_count": null,
	   "metadata": {
	    "collapsed": true
	   },
	   "outputs": [],
"source": [
"h3 = 882; h2 = 1034;\n",
"h6 = 998; h1 = 1008;\n",
"v1 = 0.084;\n",
"h4 = h3-h1+h6; h5 = h4;\n",
"t4 = 25+273;\n",
"disp('kJ/kg',h6-h5,'Refrigeration effect is')\n",
"m = 10;\n",
"w = (m*14000)/((h6-h5)*3600); // in kg/s\n",
"disp('kg/s',w,'Refrigerant flow rate is')\n",
"v1 = 0.084;\n",
"VFR = w*3600*v1; // in kg/h\n",
"ve = 0.8; // volumetric efficiency\n",
"CD = VFR/(ve*60); // in m3/min\n",
"N = 900;\n",
"n = 2;\n",
"D = ((CD*4)/(%pi*1.1*N*n))^(1/3); // L = 1.1D L = length D = diameter\n",
"L = 1.1*D;\n",
"disp('cm',D*100,'Diameter of cylinder is')\n",
"disp('cm',L*100,'Length of cylinder is')\n",
"COP = (h6-h5)/(h2-h1);\n",
"PI = w*(h2-h1);\n",
"disp('kW',PI,'Power required to drive the compresor is')\n",
"disp(COP,'COP is')\n",
""
   ]
   }
,
{
		   "cell_type": "markdown",
		   "metadata": {},
		   "source": [
			"## Example 14.5: Calculation_on_work_and_COP_of_two_stage_refrigeration_system.sce"
		   ]
		  },
  {
"cell_type": "code",
	   "execution_count": null,
	   "metadata": {
	    "collapsed": true
	   },
	   "outputs": [],
"source": [
"P2 = 1554.3;\n",
"P1 = 119.5;\n",
"Pi = sqrt(P1*P2);\n",
"h1 = 1404.6; h2 = 1574.3; h3 = 1443.5; h4 = 1628.1;\n",
"h5 = 371.7; h6 = h5; h7 = 181.5;\n",
"w = 30; // capacity of plant\n",
"m2_dot = (3.89*30)/(h1-h7);\n",
"m1_dot = m2_dot*((h2-h7)/(h3-h6));\n",
"Wc_dot = m2_dot*(h2-h1)+m1_dot*(h4-h3);\n",
"COP = w*3.89/Wc_dot;\n",
"// single stage\n",
"h1_ = 1404.6; h2_ = 1805.1;\n",
"h3_ = 371.1; h4_ = h3_;\n",
"m_dot = (3.89*30)/(h1_-h4_);\n",
"Wc = m_dot*(h2_-h1_);\n",
"COP_ = w*3.89/Wc;\n",
"IW = (Wc-Wc_dot)/Wc_dot;\n",
"ICOP = (COP-COP_)/COP_\n",
"disp('%',IW*100,'Increase in work of compression is')\n",
"disp('%',ICOP*100,'Increase in COP for 2 stage compression is')"
   ]
   }
,
{
		   "cell_type": "markdown",
		   "metadata": {},
		   "source": [
			"## Example 14.6: Estimation_of_COP_of_refrigeration.sce"
		   ]
		  },
  {
"cell_type": "code",
	   "execution_count": null,
	   "metadata": {
	    "collapsed": true
	   },
	   "outputs": [],
"source": [
"tsat = 120.2+273; hfg = 2201.9;\n",
"T1 = 120.2+273;\n",
"T2 = 30+273;\n",
"Tr = -10+273;\n",
"COP_max = ((T1-T2)*Tr)/((T2-Tr)*T1);\n",
"ACOP = 0.4*COP_max;\n",
"Qe = (20*14000)/3600; // in KW\n",
"Qg = Qe/ACOP;\n",
"x = 0.9; \n",
"H = x*hfg;\n",
"SFR = Qg/H;\n",
"disp('kg/s',SFR,'Steam flow rate required is')"
   ]
   }
,
{
		   "cell_type": "markdown",
		   "metadata": {},
		   "source": [
			"## Example 14.7: Calculations_on_a_aircraft_cooling_system.sce"
		   ]
		  },
  {
"cell_type": "code",
	   "execution_count": null,
	   "metadata": {
	    "collapsed": true
	   },
	   "outputs": [],
"source": [
"T1 = 277; T3 = 273+55;\n",
"rp = 3; // Pressure ratio\n",
"g = 1.4; cp = 1.005;\n",
"T2s = T1*(rp^((g-1)/g));\n",
"T2 = T1+(T2s-T1)/0.72\n",
"T4s = T3/(rp^((g-1)/g));\n",
"T34 = 0.78*(T3-T4s); // T3-T4\n",
"T4 = T3-T34;\n",
"COP = (T1-T4)/((T2-T1)-(T3-T4));\n",
"disp(COP,'COP of the refrigerator is')\n",
"P = (3*14000)/(COP*3600)\n",
"disp('kW',P,'Driving power required is')\n",
"m = (3*14000)/(cp*(T1-T4));\n",
"disp('kg/s',m/3600,'Mass flow rate is')"
   ]
   }
,
{
		   "cell_type": "markdown",
		   "metadata": {},
		   "source": [
			"## Example 14.8: Calculations_on_a_vapour_compression_heat_pump.sce"
		   ]
		  },
  {
"cell_type": "code",
	   "execution_count": null,
	   "metadata": {
	    "collapsed": true
	   },
	   "outputs": [],
"source": [
"P1 = 2.4; T1 = 0+273;\n",
"h1 = 188.9; s1 = 0.7177; v1 = 0.0703;\n",
"P2 = 9; T2 = 60+273;\n",
"h2 = 219.37;\n",
"h2s = 213.27;\n",
"h3 = 71.93; h4 = h3;\n",
"v1 = 0.0703;\n",
"A1V1 = 0.6/60;\n",
"m_dot = A1V1/0.0703;\n",
"Wc_dot = m_dot*(h2-h1);\n",
"Q1_dot = m_dot*(h2-h3);\n",
"COP = Q1_dot/Wc_dot;\n",
"nis = (h2s-h1)/(h2-h1);\n",
"disp('kW',Wc_dot,'Power input is')\n",
"disp('kW',Q1_dot,'Heating capacity is')\n",
"disp(COP,'COP is')\n",
"disp('%',nis*100,'The isentropic compressor efficiency is')"
   ]
   }
,
{
		   "cell_type": "markdown",
		   "metadata": {},
		   "source": [
			"## Example 14.9: Calculations_on_air_refrigeration_system_cycle.sce"
		   ]
		  },
  {
"cell_type": "code",
	   "execution_count": null,
	   "metadata": {
	    "collapsed": true
	   },
	   "outputs": [],
"source": [
"T1 = 275; T3 = 310;\n",
"P1 = 1 ; P2 = 4;\n",
"T2s = T1*(P2/P1);\n",
"nc = 0.8;\n",
"T2 = T1 + (T2s-T1)*nc;\n",
"pr = 0.1;\n",
"P3 = P2-0.1;\n",
"P4 = P1+0.08;\n",
"PR = P3/P4;\n",
"disp(PR,'Pressure ratio for the turbine is')\n",
"T4s = T3*(1/PR)^(0.286);\n",
"nt = 0.85;\n",
"T4 = T3-(T3-T4s)*nt;\n",
"COP = (T1-T4)/((T2-T3)-(T1-T4));\n",
"disp(COP,'COP is')"
   ]
   }
],
"metadata": {
		  "kernelspec": {
		   "display_name": "Scilab",
		   "language": "scilab",
		   "name": "scilab"
		  },
		  "language_info": {
		   "file_extension": ".sce",
		   "help_links": [
			{
			 "text": "MetaKernel Magics",
			 "url": "https://github.com/calysto/metakernel/blob/master/metakernel/magics/README.md"
			}
		   ],
		   "mimetype": "text/x-octave",
		   "name": "scilab",
		   "version": "0.7.1"
		  }
		 },
		 "nbformat": 4,
		 "nbformat_minor": 0
}
