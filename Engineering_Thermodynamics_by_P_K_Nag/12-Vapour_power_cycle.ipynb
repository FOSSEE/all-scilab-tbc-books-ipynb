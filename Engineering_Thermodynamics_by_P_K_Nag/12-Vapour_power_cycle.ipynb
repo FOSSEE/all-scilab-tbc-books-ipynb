{
"cells": [
 {
		   "cell_type": "markdown",
	   "metadata": {},
	   "source": [
       "# Chapter 12: Vapour power cycle"
	   ]
	},
{
		   "cell_type": "markdown",
		   "metadata": {},
		   "source": [
			"## Example 12.10: Calculation_of_oil_consumption_per_day_in_a_factory.sce"
		   ]
		  },
  {
"cell_type": "code",
	   "execution_count": null,
	   "metadata": {
	    "collapsed": true
	   },
	   "outputs": [],
"source": [
"h1 = 3037.3; h2 = 561+(0.96*2163.8);\n",
"s2 = 1.6718+(0.96*5.3201);\n",
"s3s = s2;\n",
"x3s = (s3s-0.6493)/7.5009;\n",
"h3s = 191.83+(x3s*2392.8);\n",
"h23 = 0.8*(h2-h3s); // h2-h3\n",
"h3 = h2-h23;\n",
"h5 = 561.47; h4 = 191.83;\n",
"Qh = 3500; // in kJ/s\n",
"w = Qh/(h2-h5);\n",
"Wt = 1500;\n",
"ws = (Wt+w*(h2-h3))/(h1-h3); \n",
"ws_ = 3600*ws ; // in kg/h\n",
"h6 = ((ws-w)*h4+w*h5)/ws;\n",
"h7 = h6;\n",
"n_boiler = 0.85;\n",
"CV = 44000; // in kJ/kg\n",
"wf = (1.1*ws_*(h1-h7))/(n_boiler*CV);\n",
"disp('kg/h',wf,'Fuel buring rate is')"
   ]
   }
,
{
		   "cell_type": "markdown",
		   "metadata": {},
		   "source": [
			"## Example 12.11: Calculations_on_a_steam_turbine.sce"
		   ]
		  },
  {
"cell_type": "code",
	   "execution_count": null,
	   "metadata": {
	    "collapsed": true
	   },
	   "outputs": [],
"source": [
"h1 = 3285; h2s = 3010; h3 = 3280; h4s = 3030;\n",
"h4 = h3-0.83*(h3-h4s);\n",
"h5s = 2225;\n",
"h5 = h4-0.83*(h4-h5s);\n",
"h6 = 162.7; h7 = h6;\n",
"h8 = 762.81;\n",
"h2 = h1-0.785*(h1-h2s);\n",
"m = (h8-h7)/(h4-h7);\n",
"n_cycle = ((h1-h2)+(h3-h4)+(1-m)*(h4-h5))/((h1-h8)+(h3-h2))\n",
"disp('kg/s',m,'Steam flow at turbine inlet is')\n",
"disp('%',n_cycle*100,'cycle efficiency is')"
   ]
   }
,
{
		   "cell_type": "markdown",
		   "metadata": {},
		   "source": [
			"## Example 12.12: Calculations_on_a_binary_vapour_cycle.sce"
		   ]
		  },
  {
"cell_type": "code",
	   "execution_count": null,
	   "metadata": {
	    "collapsed": true
	   },
	   "outputs": [],
"source": [
"// From table and graph \n",
"h1 = 2792.2;\n",
"h4 = 122.96;\n",
"hb = 254.88;\n",
"hc = 29.98;\n",
"ha = 355.98;\n",
"hd = hc;\n",
"h2 = 1949.27;\n",
"//\n",
"m = (h1-h4)/(hb-hc); // Amount of mercury circulating\n",
"Q1t = m*(ha-hd);\n",
"W1t = m*(ha-hb) + (h1-h2);\n",
"Nov = W1t/Q1t ;\n",
"disp('%',Nov*100,'Overall efficiency of the cycle')\n",
"S = 50000; // Stem flow rate through turbine in kg/h\n",
"wm = S*m;\n",
"disp('kg/h',wm,'Flow through the mercury turbine is')\n",
"Wt = W1t*S/3600;\n",
"disp('kW',Wt,'Useful work done in binary vapour cycle is')\n",
"nm = 0.85; // Internal efficiency of mercury turbine\n",
"ns = 0.87; // Internal efficiency of steam turbine\n",
"WTm = nm*(ha-hb);\n",
"hb_ = ha-WTm; // hb'\n",
"m_ = (h1-h4)/(hb_-hc); // m'\n",
"h1_ = 3037.3; // h'\n",
"Q1t = m_*(ha-hd)+(h1_-h1);\n",
"x2_ = (6.9160-0.4226)/(8.47-0.4226);\n",
"h2_ = 121+(0.806*2432.9);\n",
"WTst = ns*(h1_-h2_);\n",
"WTt = m_*(ha-hb_)+WTst;\n",
"Nov = WTt/Q1t;\n",
"disp('%',Nov*100,'Overall efficiency is') "
   ]
   }
,
{
		   "cell_type": "markdown",
		   "metadata": {},
		   "source": [
			"## Example 12.1: Calculation_of_work_required_for_compression_of_steam.sce"
		   ]
		  },
  {
"cell_type": "code",
	   "execution_count": null,
	   "metadata": {
	    "collapsed": true
	   },
	   "outputs": [],
"source": [
"// Part (a)\n",
"P1 = 1e05;\n",
"P2 = 10e05;\n",
"vf = 0.001043;\n",
"Wrev = vf*(P1-P2);\n",
"disp('kJ/kg',Wrev/1000,'The work required in saturated liquid form is')\n",
"// Part (b)\n",
"h1 = 2675.5; s1 = 7.3594;\n",
"s2 = s1;\n",
"h2 = 3195.5;\n",
"Wrev1 = h1-h2;\n",
"disp('kJ/kg',Wrev1,'The work required in saturated vapour form is')"
   ]
   }
,
{
		   "cell_type": "markdown",
		   "metadata": {},
		   "source": [
			"## Example 12.2: Calculations_on_steam_on_a_cycle.sce"
		   ]
		  },
  {
"cell_type": "code",
	   "execution_count": null,
	   "metadata": {
	    "collapsed": true
	   },
	   "outputs": [],
"source": [
"h1 = 3159.3; s1 = 6.9917;\n",
"h3 = 173.88; s3 = 0.5926; sfp2 = s3; hfp2 = h3;\n",
"hfgp2 = 2403.1; sgp2 = 8.2287;\n",
"vfp2 = 0.001008; sfgp2 = 7.6361;\n",
"x2s = (s1-sfp2)/(sfgp2);\n",
"h2s = hfp2+(x2s*hfgp2);\n",
"// Part (a)\n",
"P1 = 20e02; P2 = 0.08e02;\n",
"h4s = vfp2*(P1-P2)+h3 ; \n",
"Wp = h4s-h3;\n",
"Wt = h1-h2s;\n",
"Wnet = Wt-Wp;\n",
"Q1 = h1-h4s;\n",
"n_cycle = Wnet/Q1;\n",
"disp('kJ/kg',Wnet,'Net work per kg of steam is')\n",
"disp(n_cycle,'Cycle efficiency is')\n",
"// Part (b)\n",
"n_p = 0.8; n_t = 0.8;\n",
"Wp_ = Wp/n_p;\n",
"Wt_ = Wt*n_t;\n",
"Wnet_ = Wt_-Wp_;\n",
"P = 100*((Wnet-Wnet_)/Wnet) ;\n",
"n_cycle_ = Wnet_/Q1;\n",
"P_ = 100*((n_cycle-n_cycle_)/n_cycle);\n",
"disp('%',P,'Percentage reduction in net work per kg of steam is')\n",
"disp('%',P_,'Percentage reduction in cycle efficiency is')"
   ]
   }
,
{
		   "cell_type": "markdown",
		   "metadata": {},
		   "source": [
			"## Example 12.3: Calculation_on_stem_power_plant.sce"
		   ]
		  },
  {
"cell_type": "code",
	   "execution_count": null,
	   "metadata": {
	    "collapsed": true
	   },
	   "outputs": [],
"source": [
"P1 = 0.08; // in bar\n",
"sf = 0.5926; x2s = 0.85; sg = 8.2287; \n",
"s2s = sf+(x2s*(sg-sf));\n",
"s1 = s2s;\n",
"P2 = 16.832; // by steam table opposite to s1 in bar\n",
"h1 = 3165.54;\n",
"h2s = 173.88 + (0.85*2403.1);\n",
"h3 = 173.88;\n",
"vfp2 = 0.001;\n",
"h4s = h3 + (vfp2*(P2-P1)*100);\n",
"Q1 = h1-h4s;\n",
"Wt = h1-h2s;\n",
"Wp = h4s-h3;\n",
"n_cycle = 100*((Wt-Wp)/Q1);\n",
"Tm = (h1-h4s)/(s2s-sf);\n",
"disp('bar',P2,'The greatest allowable steam pressure at the turbine inlet is')\n",
"disp('%',n_cycle,'Rankine cycle efficiency is')\n",
"disp('K',Tm,'Mean temperature of heat addition is')"
   ]
   }
,
{
		   "cell_type": "markdown",
		   "metadata": {},
		   "source": [
			"## Example 12.4: Calculations_on_steam_power_plant.sce"
		   ]
		  },
  {
"cell_type": "code",
	   "execution_count": null,
	   "metadata": {
	    "collapsed": true
	   },
	   "outputs": [],
"source": [
"h1 = 3465; h2s = 3065; h3 = 3565;\n",
"h4s = 2300; x4s = 0.88; h5 = 191.83;\n",
"v = 0.001;\n",
"P = 150; // in bar\n",
"Wp = v*P*100;\n",
"h6s = 206.83;\n",
"Q1 = (h1-h6s)+(h3-h2s);\n",
"Wt = (h1-h2s)+(h3-h4s);\n",
"Wnet = Wt-Wp;\n",
"n_cycle = 100*Wnet/Q1;\n",
"sr = 3600/Wnet;\n",
"disp(0.88,'Quality at turbine exhaust is')\n",
"disp('%',n_cycle,'Cycle efficiency is')\n",
"disp('kg/kW h',sr,'steam rate is')"
   ]
   }
,
{
		   "cell_type": "markdown",
		   "metadata": {},
		   "source": [
			"## Example 12.5: Calculations_on_single_heater_regenerative_cycle.sce"
		   ]
		  },
  {
"cell_type": "code",
	   "execution_count": null,
	   "metadata": {
	    "collapsed": true
	   },
	   "outputs": [],
"source": [
"h1 = 3230.9; s1 = 6.9212; s2 = s1; s3 = s1;\n",
"h2 = 2796; sf = 0.6493; sfg = 7.5009;\n",
"x3 = (s3-sf)/sfg;\n",
"h3 = 191.83 + x3*2392.8;\n",
"h4 = 191.83; h5 = h4;\n",
"h6 = 640.23; h7 = h6;\n",
"m = (h6-h5)/(h2-h5);\n",
"Wt = (h1-h2)+(1-m)*(h2-h3);\n",
"Q1 = h1-h6;\n",
"n_cycle = 100*Wt/Q1;\n",
"sr = 3600/Wt;\n",
"s7 = 1.8607; s4 = 0.6493;\n",
"Tm = (h1-h7)/(s1-s7);\n",
"Tm1 = (h1-h4)/(s1-s4); // With out regeneration\n",
"dT = Tm-Tm1;\n",
"Wt_ = h1-h3;\n",
"sr_ = 3600/Wt_;\n",
"dsr = sr-sr_;\n",
"n_cycle_ = 100*(h1-h3)/(h1-h4);\n",
"dn = n_cycle-n_cycle_;\n",
"disp('%',n_cycle,'Efficiency of the cycle is ')\n",
"disp('kg/kW h',sr,'Steam rate of the cycle is')\n",
"disp('degree centigrade',dT,'Increase in temperature due to regeneration is')\n",
"disp('kg/kW h',dsr,'Increase in steam rate due to regeneration is')\n",
"disp('%',dn,'Increase in Efficiency of the cycle due to regeneration is')\n",
""
   ]
   }
,
{
		   "cell_type": "markdown",
		   "metadata": {},
		   "source": [
			"## Example 12.6: Calculations_on_steam_power_plant.sce"
		   ]
		  },
  {
"cell_type": "code",
	   "execution_count": null,
	   "metadata": {
	    "collapsed": true
	   },
	   "outputs": [],
"source": [
"h1 = 3023.5; s1 = 6.7664; s2 = s1; s3 = s1; s4 = s1;\n",
"t_sat_20 = 212;\n",
"t_sat_1 = 46;\n",
"dt = t_sat_20-t_sat_1;\n",
"n =3; // number of heaters\n",
"t = dt/n;\n",
"t1 = t_sat_20-t;\n",
"t2 = t1-t;\n",
"// 0.1 bar\n",
"hf = 191.83; hfg = 2392.8; sf = 0.6493;\n",
"sg = 8.1502;\n",
"// At 100 degree\n",
"hf100 = 419.04; hfg100 = 2257.0; sf100 = 1.3069; sg100 = 7.3549;\n",
"// At 150 degree\n",
"hf150 = 632.20; hfg150 = 2114.3; sf150 = 1.8418; sg150 = 6.8379;\n",
"x2 = (s1-sf150)/4.9961;\n",
"h2 = hf150+(x2*hfg150);\n",
"x3 = (s1-sf100)/6.0480;\n",
"h3 = hf100+(x3*hfg100);\n",
"x4 = (s1-sf)/7.5010;\n",
"h4 = hf+(x4*hfg);\n",
"h5 = hf; h6 = h5;\n",
"h7 = hf100; h8 = h7;\n",
"h9 = 632.2; h10 = h9;\n",
"m1 = (h9-h7)/(h2-h7);\n",
"m2 = ((1-m1)*(h7-h6))/(h3-h6);\n",
"Wt = 1*(h1-h2)+(1-m1)*(h2-h3)+(1-m1-m2)*(h3-h4);\n",
"Q1 = h1-h9;\n",
"Wp = 0 ; // Pump work is neglected\n",
"n_cycle = 100*(Wt-Wp)/Q1;\n",
"sr = 3600/(Wt-Wp); \n",
"disp('kJ/kg',Wt,'Net work per kg os stem is')\n",
"disp('%',n_cycle,'Cycle efficiency is')\n",
"disp('kg/kW h',sr,'Stream rate is')"
   ]
   }
,
{
		   "cell_type": "markdown",
		   "metadata": {},
		   "source": [
			"## Example 12.7: Calculations_on_expansion_of_steam_in_a_turbine.sce"
		   ]
		  },
  {
"cell_type": "code",
	   "execution_count": null,
	   "metadata": {
	    "collapsed": true
	   },
	   "outputs": [],
"source": [
"Ti = 2000;\n",
"Te = 450;\n",
"T0 = 300;\n",
"Q1_dot = 100e03; // in kW\n",
"cpg = 1.1;\n",
"wg = Q1_dot/(cpg*(Ti-Te));\n",
"af1 = wg*cpg*T0*((Ti/T0)-1-log(Ti/T0));\n",
"af2 = wg*cpg*T0*((Te/T0)-1-log(Te/T0));\n",
"afi = af1-af2;\n",
"h1 = 2801; h3 = 169; h4 = 172.8; h2 = 1890.2;\n",
"s1 = 6.068; s2 = s1; s3 = 0.576; s4 = s3;\n",
"Wt = h1-h2;\n",
"Wp = h4-h3;\n",
"Q1 = h1-h4;\n",
"Q2 = h2-h3;\n",
"Wnet = Wt-Wp;\n",
"ws = Q1_dot/2628;\n",
"afu = 38*(h1-h4-T0*(s1-s3));\n",
"I_dot = afi-afu;\n",
"Wnet_dot = ws*Wnet;\n",
"afc = ws*(h2-h3-T0*(s2-s3));\n",
"n2 = 100*Wnet_dot/af1;\n",
"disp('%',n2,'The second law efficiency is')"
   ]
   }
,
{
		   "cell_type": "markdown",
		   "metadata": {},
		   "source": [
			"## Example 12.8: Calculations_on_steam_power_plant.sce"
		   ]
		  },
  {
"cell_type": "code",
	   "execution_count": null,
	   "metadata": {
	    "collapsed": true
	   },
	   "outputs": [],
"source": [
"// Part (a)\n",
"h1 = 2758; h2 = 1817; h3 = 192; h4 = 200;\n",
"Wt = h1-h2; Wp = h4-h3;\n",
"Q1 = h1-h4; Wnet = Wt-Wp;\n",
"n1 = Wnet/Wt;\n",
"WR = Wnet/Wp;\n",
"Q1_ = 100;\n",
"PO = n1*Q1_;\n",
"cp = 1000;\n",
"wg = (Q1_/(833-450));\n",
"EIR = wg*cpg*((833-300)-300*(log(833/300)));\n",
"n2 = PO/EIR ;\n",
"disp('Part (a)')\n",
"disp('%',n1*100,'n1 is')\n",
"disp('%',n2*100,'n2 is')\n",
"disp(WR,'Work ratio is')\n",
"// Part (b)\n",
"h1b = 3398; h2b = 2130; h3b = 192; h4b = 200;\n",
"Wtb = 1268; Wpb = 8; Q1b = 3198;\n",
"n1b = (Wt-Wp)/Q1;\n",
"WRb = (Wt-Wp)/Wt;\n",
"EIRb = 59.3;\n",
"Wnetb = Q1b*n1b;\n",
"n2b = Wnetb/EIRb;\n",
"disp('Part (b)')\n",
"disp('%',n1b*100,'n1 is')\n",
"disp('%',n2b*100,'n2 is')\n",
"disp(WRb,'Work ratio is')\n",
"// Part (c)\n",
"h1c = 3398; h2c = 2761; h3c = 3482; h4c = 2522; h5c = 192; h6c = 200;\n",
"Wt1 = 637; Wt2 = 960; Wtc = Wt1+Wt2; Wpc = 8;\n",
"Wnetc = 1589; Q1c = 3198+721;\n",
"n1c = Wnetc/Q1c;\n",
"WRc = Wnetc/Wtc;\n",
"POc = Q1_*n1c;\n",
"EIRc = 59.3;\n",
"n2c = POc/EIRc;\n",
"disp('Part (c)')\n",
"disp('%',n1c*100,'n1 is')\n",
"disp('%',n2c*100,'n2 is')\n",
"disp(WRc,'Work ratio is')\n",
"// Part (d)\n",
"T3 = 318.8; T1 = 568;\n",
"n1d = 1-(T3/T1);\n",
"Q1d = 2758-1316;\n",
"Wnet = Q1d*n1d;\n",
"Wpd = 8; Wtd = 641;\n",
"WRd = (Wt-Wp)/Wt;\n",
"POd = Q1_*0.439;\n",
"EIRd = (Q1_/(833-593))*cpg*((833-300)-300*(log(833/300)));\n",
"n2d = POd/EIRd;\n",
"disp('Part (d)')\n",
"disp('%',n1d*100,'n1 is')\n",
"disp('%',n2d*100,'n2 is')\n",
"disp(WRd,'Work ratio is')"
   ]
   }
,
{
		   "cell_type": "markdown",
		   "metadata": {},
		   "source": [
			"## Example 12.9: Calculations_on_steam_in_a_chemical_plant.sce"
		   ]
		  },
  {
"cell_type": "code",
	   "execution_count": null,
	   "metadata": {
	    "collapsed": true
	   },
	   "outputs": [],
"source": [
"hfg = 2202.6;\n",
"Qh = 5.83;\n",
"ws = Qh/hfg;\n",
"eg = 0.9; // efficiency of generator\n",
"P = 1000;\n",
"Wnet = 1000/0.9;\n",
"nbrake = 0.8;\n",
"h1_2s = Wnet/(ws*nbrake); // h1-h2s\n",
"n_internal = 0.85;\n",
"h12 = n_internal*h1_2s;\n",
"hg = 2706.3; h2 = hg;\n",
"h1 = h12+h2;\n",
"h2s = h1-h1_2s;\n",
"hf = 503.71;\n",
"x2s = (h2s-hf)/hfg;\n",
"sf = 1.5276; sfg = 5.6020;\n",
"s2s = sf+(x2s*sfg);\n",
"s1 = s2s;\n",
"P1 = 22.5; // in bar from Moiller chart\n",
"t1 = 360;\n",
"disp('degree',t1,'Temperature of the steam is')\n",
"disp('bar',P1,'Pressure of the steam is ')"
   ]
   }
],
"metadata": {
		  "kernelspec": {
		   "display_name": "Scilab",
		   "language": "scilab",
		   "name": "scilab"
		  },
		  "language_info": {
		   "file_extension": ".sce",
		   "help_links": [
			{
			 "text": "MetaKernel Magics",
			 "url": "https://github.com/calysto/metakernel/blob/master/metakernel/magics/README.md"
			}
		   ],
		   "mimetype": "text/x-octave",
		   "name": "scilab",
		   "version": "0.7.1"
		  }
		 },
		 "nbformat": 4,
		 "nbformat_minor": 0
}
