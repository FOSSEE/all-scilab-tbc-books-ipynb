{
"cells": [
 {
		   "cell_type": "markdown",
	   "metadata": {},
	   "source": [
       "# Chapter 16: Reactive systems"
	   ]
	},
{
		   "cell_type": "markdown",
		   "metadata": {},
		   "source": [
			"## Example 16.10: Calculations_on_burning_of_liquid_octane.sce"
		   ]
		  },
  {
"cell_type": "code",
	   "execution_count": null,
	   "metadata": {
	    "collapsed": true
	   },
	   "outputs": [],
"source": [
"Hr1 = -249952; // For octane\n",
"Hp1 = Hr1;\n",
"// Below values are calculated using value fron table 16.4\n",
"T2 = 1000; \n",
"Hp2 = -1226577\n",
"T3 = 1200;\n",
"Hp3 = 46537;\n",
"T4 = 1100;\n",
"Hp4 = -595964;\n",
"Hp = [Hp2 Hp3 Hp4]\n",
"T = [T2 T3 T4]\n",
"T1 = interpln([Hp ; T],Hp1); // Interpolation to find temperature at Hp1\n",
"disp('K',T1,'the adeabatic flame temperature is')"
   ]
   }
,
{
		   "cell_type": "markdown",
		   "metadata": {},
		   "source": [
			"## Example 16.11: Calculations_on_burning_of_gaseous_propane.sce"
		   ]
		  },
  {
"cell_type": "code",
	   "execution_count": null,
	   "metadata": {
	    "collapsed": true
	   },
	   "outputs": [],
"source": [
"// Refer table 16.4 for values\n",
"T0 = 298;\n",
"Wrev = -23316-3*(-394374)-4*(-228583);\n",
"Wrev_ = Wrev/44; // in kJ/kg\n",
"Hr = -103847;\n",
"T = 980; // Through trial and error\n",
"Sr = 270.019+20*205.142+75.2*191.611;\n",
"Sp = 3*268.194 + 4*231.849 + 15*242.855 + 75.2*227.485;\n",
"IE = Sp-Sr; // Increase in entropy\n",
"I = T0*3699.67/44;\n",
"Si = Wrev_ - I;\n",
"disp('kJ/kg',Wrev_,'Reversible work is')\n",
"disp('kj/kg mol K',Sp-Sr,'Increase in entropy during combustion is')\n",
"disp('kJ/kg',I,'Irreversibility of the process')\n",
"disp('kJ/kg',Si,'Availability of products of combustion is')"
   ]
   }
,
{
		   "cell_type": "markdown",
		   "metadata": {},
		   "source": [
			"## Example 16.12: Determination_of_chemical_energy_of_phases_of_water.sce"
		   ]
		  },
  {
"cell_type": "code",
	   "execution_count": null,
	   "metadata": {
	    "collapsed": true
	   },
	   "outputs": [],
"source": [
"T0 = 298.15; P0 = 1; R = 8.3143;\n",
"xn2 = 0.7567; xo2 = 0.2035; xh2o = 0.0312; xco2 = 0.0003;\n",
"// Part (a)\n",
"g_o2 = 0; g_c = 0; g_co2 = -394380; \n",
"A = -g_co2 + R*T0*log(xo2/xco2);\n",
"disp('kJ/k mol',A,'The chemical energy of carbon is')\n",
"// Part (b)\n",
"g_h2 = 0; g_h2o_g = -228590;\n",
"B = g_h2 + g_o2/2 - g_h2o_g + R*T0*log(xo2^0.5/xh2o);\n",
"disp('kJ/k mol',B,'The chemical energy of hydrogen is')\n",
"// Part (c)\n",
"g_ch4 = -50790;\n",
"C = g_ch4 + 2*g_o2 - g_co2 - 2*g_h2o_g + R*T0*log((xo2^2)/(xco2*xh2o));\n",
"disp('kJ/k mol',C,'The chemical energy of methane is')\n",
"// Part (d)\n",
"g_co = -137150;\n",
"D =  g_co + g_o2/2 - g_co2 + R*T0*log((xo2^0.5)/xco2);\n",
"disp('kJ/k mol',D,'The chemical energy of Carbonmonoxide is')\n",
"// Part (e)\n",
"g_ch3oh = -166240;\n",
"E = g_ch3oh + 1.5*g_o2 - g_co2 - 2*g_h2o_g + R*T0*log((xo2^1.5)/(xco2*(xh2o^2)))\n",
"disp('kJ/k mol',E,'The chemical energy of methanol is')\n",
"// Part (f)\n",
"F = R*T0*log(1/xn2);\n",
"disp('kJ/k mol',F,'The chemical energy of nitrogen is')\n",
"// Part (g)\n",
"G = R*T0*log(1/xo2);\n",
"disp('kJ/k mol',G,'The chemical energy of Oxygen is')\n",
"// Part (h)\n",
"H = R*T0*log(1/xco2);\n",
"disp('kJ/k mol',H,'The chemical energy of carbondioxide is')\n",
"// Part (i)\n",
"g_h2o_l = -237180;\n",
"I = g_h2o_l - g_h2o_g + R*T0*log(1/xh2o);\n",
"disp('kJ/k mol',I,'The chemical energy of water is')"
   ]
   }
,
{
		   "cell_type": "markdown",
		   "metadata": {},
		   "source": [
			"## Example 16.13: Calculation_on_burning_of_liquid_octane.sce"
		   ]
		  },
  {
"cell_type": "code",
	   "execution_count": null,
	   "metadata": {
	    "collapsed": true
	   },
	   "outputs": [],
"source": [
"b = 8/(0.114+0.029); // By carbon balance\n",
"C = 18/2; // By hydrogen balance\n",
"a = b*0.114 + (b/2)*0.029 + b*0.016 + C/2 ; // By oxygen balance\n",
"Wcv = 1; // Power developed by engine in kW \n",
"n_fuel = (0.57*1)/(3600*114.22);\n",
"Qcv = Wcv-n_fuel*3845872; // 5.33 \n",
"disp('kW',Qcv,'The rate of heat transfer from the engine is')\n",
"// Part (b)\n",
"ach = 5407843; // chemical energy of liquid octane\n",
"n2 = Wcv/(n_fuel*ach);\n",
"disp('%',n2*100,'The second law efficiency is')"
   ]
   }
,
{
		   "cell_type": "markdown",
		   "metadata": {},
		   "source": [
			"## Example 16.2: Dissociation_calculation_on_N2O4.sce"
		   ]
		  },
  {
"cell_type": "code",
	   "execution_count": null,
	   "metadata": {
	    "collapsed": true
	   },
	   "outputs": [],
"source": [
"eps_e = 0.27; P = 1 ;\n",
"K = (4*eps_e^2*P)/(1-eps_e^2);\n",
"P1 = 100/760; // in Pa\n",
"eps_e_1 = sqrt((K/P1)/(4+(K/P1)));\n",
"T1 = 318; T2 = 298;\n",
"R = 8.3143; K1 = 0.664; K2 = 0.141;\n",
"dH = 2.30*R*((T1*T2)/(T1-T2))*(log(K1/K2));\n",
"disp('atm',K,'K is')\n",
"disp(eps_e_1,'epislon is ')\n",
"disp('kJ/kg mol',dH,'The heat of reaction is')"
   ]
   }
,
{
		   "cell_type": "markdown",
		   "metadata": {},
		   "source": [
			"## Example 16.3: Determination_of_gubbs_constant_and_equillibrium_function.sce"
		   ]
		  },
  {
"cell_type": "code",
	   "execution_count": null,
	   "metadata": {
	    "collapsed": true
	   },
	   "outputs": [],
"source": [
"v1 = 1; v2 = v1; v3 = v2; v4 = v2;\n",
"e = 0.56; // Degree of reaction\n",
"P = 1; // Dummy\n",
"T = 1200; R = 8.3143;\n",
"x1 = (1-e)/2; x2 = (1-e)/2;\n",
"x3 = e/2; x4 = e/2;\n",
"K = (((x3^v3)*(x4^v4))/((x1^v1)*(x2^v2)))*P^(v3+v4-v1-v2); // Equillibrium constant\n",
"dG = -R*T*log(K);\n",
"disp(K,'Equillibrium constant is')\n",
"disp('J/gmol',dG,'Gibbs function change is')"
   ]
   }
,
{
		   "cell_type": "markdown",
		   "metadata": {},
		   "source": [
			"## Example 16.5: Calculation_of_equillibrium_constant.sce"
		   ]
		  },
  {
"cell_type": "code",
	   "execution_count": null,
	   "metadata": {
	    "collapsed": true
	   },
	   "outputs": [],
"source": [
"Veo = 1.777; // Ve/Vo\n",
"e = 1-Veo; // Degree of dissociation\n",
"P = 0.124; // in atm\n",
"K = (4*e^2*P)/(1-e^2);\n",
"disp('atm',K,'The value of equillibrium constant is')"
   ]
   }
,
{
		   "cell_type": "markdown",
		   "metadata": {},
		   "source": [
			"## Example 16.6: Estimation_of_Cp_of_H2O_dissociation.sce"
		   ]
		  },
  {
"cell_type": "code",
	   "execution_count": null,
	   "metadata": {
	    "collapsed": true
	   },
	   "outputs": [],
"source": [
"v1 = 1; v2 = 0; v3 = 1; v4 = 1/2;\n",
"dH = 250560; e = 3.2e-03;\n",
"R = 8.3143; T = 1900;\n",
"Cp = ((dH^2)*(1+e/2)*e*(1+e))/(R*T^2*(v1+v2)*(v3+v4));\n",
"disp('j/gmol K',Cp,'Cp is')"
   ]
   }
,
{
		   "cell_type": "markdown",
		   "metadata": {},
		   "source": [
			"## Example 16.7: Calculations_on_combustion_of_unknown_hydrocarbon.sce"
		   ]
		  },
  {
"cell_type": "code",
	   "execution_count": null,
	   "metadata": {
	    "collapsed": true
	   },
	   "outputs": [],
"source": [
"a = 21.89;\n",
"y = 18.5;\n",
"x = 8.9;\n",
"PC = 100*(x*12)/((8.9*12)+(18.5*1));\n",
"PH = 100-PC;\n",
"AFR = ((32*a)+(3.76*a*28))/((12*x)+y);\n",
"EAU = (8.8*32)/((21.89*32)-(8.8*32));\n",
"disp('%',PH,'Hydrogen','%',PC,'carbon','The composition of fuel is')\n",
"disp(AFR,'Air fuel ratio is')\n",
"disp('%',EAU*100,'Percentage of excess air used is')"
   ]
   }
,
{
		   "cell_type": "markdown",
		   "metadata": {},
		   "source": [
			"## Example 16.8: Determination_of_heat_transfer_in_per_kg_mol_of_a_fuel.sce"
		   ]
		  },
  {
"cell_type": "code",
	   "execution_count": null,
	   "metadata": {
	    "collapsed": true
	   },
	   "outputs": [],
"source": [
"hf_co2 = -393522;\n",
"hf_h20 = -285838;\n",
"hf_ch4 = -74874;\n",
"D = hf_co2 + (2*hf_h20);\n",
"QCV = hf_ch4;\n",
"disp('kJ',D,'Heat transfer per kg mol of fuel is')\n",
"\n",
""
   ]
   }
,
{
		   "cell_type": "markdown",
		   "metadata": {},
		   "source": [
			"## Example 16.9: Calculations_on_a_gasoline_engine.sce"
		   ]
		  },
  {
"cell_type": "code",
	   "execution_count": null,
	   "metadata": {
	    "collapsed": true
	   },
	   "outputs": [],
"source": [
"// Below values are taken fron table 16.4\n",
"Hr = -249952+(18.7*560)+(70*540);\n",
"Hp = 8*(-393522+20288)+9*(-241827+16087)+6.25*14171+70*13491;\n",
"Wcv = 150; // Energy out put from engine in kW\n",
"Qcv = -205; // Heat transfer from engine in kW\n",
"n = (Wcv-Qcv)*3600/(Hr-Hp);\n",
"disp('kg/h',n*114,'Fuel consumption rate is')"
   ]
   }
],
"metadata": {
		  "kernelspec": {
		   "display_name": "Scilab",
		   "language": "scilab",
		   "name": "scilab"
		  },
		  "language_info": {
		   "file_extension": ".sce",
		   "help_links": [
			{
			 "text": "MetaKernel Magics",
			 "url": "https://github.com/calysto/metakernel/blob/master/metakernel/magics/README.md"
			}
		   ],
		   "mimetype": "text/x-octave",
		   "name": "scilab",
		   "version": "0.7.1"
		  }
		 },
		 "nbformat": 4,
		 "nbformat_minor": 0
}
