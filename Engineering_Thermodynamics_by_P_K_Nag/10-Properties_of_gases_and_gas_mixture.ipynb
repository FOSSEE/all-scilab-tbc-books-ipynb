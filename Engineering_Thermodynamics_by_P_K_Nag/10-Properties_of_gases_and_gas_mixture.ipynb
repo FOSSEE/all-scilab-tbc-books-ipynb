{
"cells": [
 {
		   "cell_type": "markdown",
	   "metadata": {},
	   "source": [
       "# Chapter 10: Properties of gases and gas mixture"
	   ]
	},
{
		   "cell_type": "markdown",
		   "metadata": {},
		   "source": [
			"## Example 10.11: Calculation_of_work_and_heat_transfer_on_a_path.sce"
		   ]
		  },
  {
"cell_type": "code",
	   "execution_count": null,
	   "metadata": {
	    "collapsed": true
	   },
	   "outputs": [],
"source": [
"m = 0.5;\n",
"P1 = 80e03; T1 = 273+60;\n",
"P2 = 0.4e06;\n",
"R = 0.287;\n",
"V1 = (m*R*T1)/P1 ;\n",
"g = 1.4; // Gamma\n",
"T2 = T1*(P2/P1)^((g-1)/g);\n",
"W12 = (m*R*(T1-T2))/(g-1);\n",
"V2 = V1*((P1/P2)^(1/g));\n",
"W23 = P2*(V1-V2);\n",
"W = W12+W23;\n",
"V3 = V1;\n",
"T3 = T2*(V3/V2);\n",
"cp = 1.005;\n",
"Q = m*cp*(T3-T2);\n",
"disp('kJ',W,'The work transfer for the whole path is')\n",
"disp('kJ',Q,'The heat transfer for the whole path')"
   ]
   }
,
{
		   "cell_type": "markdown",
		   "metadata": {},
		   "source": [
			"## Example 10.12: Heat_calculations_over_a_cycle.sce"
		   ]
		  },
  {
"cell_type": "code",
	   "execution_count": null,
	   "metadata": {
	    "collapsed": true
	   },
	   "outputs": [],
"source": [
"P1 = 700e03; T1 = 273+260; T3 = T1;\n",
"V1 = 0.028; V2 = 0.084;\n",
"R = 0.287;\n",
"m = (P1*V1)/(R*T1);\n",
"P2 = P1;\n",
"T2 = T1*((P2*V2)/(P1*V1));\n",
"n  = 1.5;\n",
"P3 = P2*((T3/T2)^(n/(n-1)));\n",
"cp = 1.005; cv = 0.718;\n",
"Q12 = m*cp*(T2-T1);\n",
"Q23 = m*cv*(T3-T2) + (m*R*(T2-T3))/(n-1);\n",
"Q31 = m*R*T1*log(P3/P1);\n",
"Q1 = Q12;\n",
"Q2 = -(Q23+Q31);\n",
"e = 1-(Q2/Q1);\n",
"disp('J',Q1,'The heat received in the cycle is')\n",
"disp('J',Q2,'The heat rejected in the cycle')\n",
"disp(e,'The efficiency of the cycle is')"
   ]
   }
,
{
		   "cell_type": "markdown",
		   "metadata": {},
		   "source": [
			"## Example 10.13: Heat_calculations_on_an_ideal_gas.sce"
		   ]
		  },
  {
"cell_type": "code",
	   "execution_count": null,
	   "metadata": {
	    "collapsed": true
	   },
	   "outputs": [],
"source": [
"P1 = 300e03; V1 = 0.07;\n",
"m = 0.25; T1 = 80+273;\n",
"R = (P1*V1)/(1000*m*T1);\n",
"P2 = P1;\n",
"V2 = 0.1;\n",
"T2 = (P2*V2)/(1000*m*R);\n",
"W = -25;\n",
"cv = -W/(m*(T2-T1));\n",
"cp = R+cv;\n",
"S21 = m*cp*log(V2/V1); // S21 = S2-S1\n",
"disp('kJ/kg K',cv,'cv of the gas is')\n",
"disp('kJ/kg K',cp,'cp of the gas is')\n",
"disp('kJ/kg K',S21,'Increase in the entropy of the gas is')"
   ]
   }
,
{
		   "cell_type": "markdown",
		   "metadata": {},
		   "source": [
			"## Example 10.14: Calculations_on_internal_combustion_engine.sce"
		   ]
		  },
  {
"cell_type": "code",
	   "execution_count": null,
	   "metadata": {
	    "collapsed": true
	   },
	   "outputs": [],
"source": [
"P1 = 1;\n",
"P2 = 15;\n",
"V1 = 800e-06;\n",
"V2 = V1/8;\n",
"cv = 0.718; g = 1.4;\n",
"n = (log(P2/P1))/(log(V1/V2))\n",
"T1 = 348; R = 0.287;\n",
"m = (P1*100*V1)/(R*T1);\n",
"T2 = T1*((P2*V2)/(P1*V1));\n",
"P3 = 50;\n",
"T3 = T2*(P3/P2);\n",
"S21 = m*(cv*log(T2/T1)+R*log(V2/V1));\n",
"S32 = m*cv*log(T3/T2);\n",
"Q = (m*cv*(g-n)*(T2-T1))/(1-n);\n",
"disp(n,'The index of compression process is')\n",
"disp('kJ/K',S21,'S2-S1 is')\n",
"disp('kJ/K',S32,'S3-S2 is')\n",
"disp('kJ',Q,'The heat exchange is')"
   ]
   }
,
{
		   "cell_type": "markdown",
		   "metadata": {},
		   "source": [
			"## Example 10.15: Calculations_on_a_mixture_of_ideal_gases.sce"
		   ]
		  },
  {
"cell_type": "code",
	   "execution_count": null,
	   "metadata": {
	    "collapsed": true
	   },
	   "outputs": [],
"source": [
"mn = 3; // Mass of nitrogen in kg\n",
"mc = 5; // mass of CO2 in kg\n",
"an = 28; // Atomic weight of nitrogen\n",
"ac = 44; // Atomic weight of CO2\n",
"// Part (a)\n",
"xn = (mn/an)/((mn/an)+(mc/ac)); \n",
"xc = (mc/ac)/((mn/an)+(mc/ac)); \n",
"disp(xn,'Mole fraction of N2 is')\n",
"disp(xc,'Mole fraction of CO2 is')\n",
"// Part (b)\n",
"M = xn*an+xc*ac;\n",
"disp('kg',M,'Equivalant molecular weight of mixture is')\n",
"// Part (c)\n",
"R = 8.314;\n",
"Req = ((mn*R/an)+(mc*R/ac))/(mn+mc);\n",
"disp('kJ/kg K',Req,'The equivalent gas constant of the mixture is')\n",
"// Part (d)\n",
"P = 300; // Pressure in kPa\n",
"T = 20+273;\n",
"Pn = xn*P; // Partial pressure of Nitrogen\n",
"Pc = xc*P; // Partial pressure of CO2 \n",
"Vn = (mn*R*T)/(P*an); // Volume of nitrogen\n",
"Vc = (mc*R*T)/(P*ac); // Volume of CO2\n",
"disp('kPa respectively',Pc,'and',Pn,'Partial pressures of nitrogen and CO2 are')\n",
"disp('m3 respectively',Vc,'and',Vn,'Partial volume of nitrogen and CO2 are')\n",
"// Part (e)\n",
"V = (mn+mc)*Req*T/P; // Total volume\n",
"rho = (mn+mc)/V;\n",
"disp('m3',V,'Volume of mixture is')\n",
"disp('kg/m3',rho,'Density of mixture is')\n",
"// Part (f)\n",
"gn = 1.4; // Gamma\n",
"gc = 1.286;\n",
"cvn = R/((gn-1)*an); // cp and cv of N2\n",
"cpn = gn*cvn; \n",
"cvc = R/((gc-1)*ac); // cp and cv of CO2\n",
"cpc = gc*cvc;\n",
"cp = (mn*cpn+mc*cpc)/(mn+mc) ; // of mixture\n",
"cv = (mn*cvn+mc*cvc)/(mn+mc) ;\n",
"disp('kJ/kg K respectively',cv,'and',cp,'cp and cv of mixture are')\n",
"T1 = T; T2 = 40+273;\n",
"U21 = (mn+mc)*cv*(T2-T1);\n",
"H21 = (mn+mc)*cp*(T2-T1);\n",
"S21v = (mn+mc)*cv*log(T2/T1); // If heated at constant volume\n",
"disp('kJ',U21,'Change in internal energy of the system heated at constant volume is')\n",
"disp('kJ',H21,'Change in enthalpy of the system heated at constant volume is')\n",
"disp('kJ/kg K',S21v,'Change in entropy of the system heated at constant volume is')\n",
"S21p = (mn+mc)*cp*log(T2/T1); // If heated at constant Pressure\n",
"disp('kJ',S21p,'Change in entropy of the system heated at constant Pressure is')\n",
""
   ]
   }
,
{
		   "cell_type": "markdown",
		   "metadata": {},
		   "source": [
			"## Example 10.16: Finding_the_increase_in_entropy_of_gas.sce"
		   ]
		  },
  {
"cell_type": "code",
	   "execution_count": null,
	   "metadata": {
	    "collapsed": true
	   },
	   "outputs": [],
"source": [
"mo = 2; mn = 6;\n",
"muo = 32; mun = 28;\n",
"o = mo/muo;\n",
"n = mn/mun;\n",
"xo = o/(n+o);\n",
"xn = n/(n+o);\n",
"R = 8.314;\n",
"Ro = R/muo; Rn = R/mun;\n",
"dS = -mo*Ro*log(xo)-mn*Rn*log(xn);\n",
"disp('kJ/kg K',dS,'Increase in entropy is')"
   ]
   }
,
{
		   "cell_type": "markdown",
		   "metadata": {},
		   "source": [
			"## Example 10.17: Calculations_os_specific_properties_of_neon.sce"
		   ]
		  },
  {
"cell_type": "code",
	   "execution_count": null,
	   "metadata": {
	    "collapsed": true
	   },
	   "outputs": [],
"source": [
"an = 20.183; // molecular weight of neon\n",
"Pc = 2.73; // Critical pressure\n",
"Tc = 44.5;\n",
"Vc = 0.0416;\n",
"Pr = 2; // Reduced Pressure\n",
"Tr = 1.3; \n",
"Z = 0.7;\n",
"P = Pr*Pc; \n",
"T = Tr*Tc;\n",
"R = 8.314;\n",
"v = (Z*R*T)/(P*1000*an);\n",
"vr = (v*an)/Vc ;\n",
"disp('m3/kg',v,'Specific volume is')\n",
"disp('K',T,'Specific temperature is')\n",
"disp('kPa',P,'Specific pressure is')\n",
"disp(vr,'Reduced volume is')"
   ]
   }
,
{
		   "cell_type": "markdown",
		   "metadata": {},
		   "source": [
			"## Example 10.1: Finding_the_final_temperature_and_heat_transferred_in_a_fluid.sce"
		   ]
		  },
  {
"cell_type": "code",
	   "execution_count": null,
	   "metadata": {
	    "collapsed": true
	   },
	   "outputs": [],
"source": [
"// Part (a)\n",
"P1 = 100; P2 = 50;\n",
"T1 = 273+300;\n",
"T2 = (P2/P1)*T1;\n",
"R = 0.287; cv = 0.718;\n",
"V1 = 0.8;\n",
"m = (P1*V1)/(R*T1);\n",
"Q = m*cv*(T2-T1);\n",
"disp('If the fluid is in the air')\n",
"disp('K',T2,'The final temperature is ')\n",
"disp('kJ/kg',Q,'The heat transferred is')\n",
"// Part (b)\n",
"t2 = 273+81.33; vf = 0.00103; vg = 3.24;\n",
"v1 = 2.6388; u1 = 2810.4; \n",
"x2 = (v1-vf)/(vg-vf);\n",
"u2 = 340.42+(x2*2143.4);\n",
"m_ = V1/v1;\n",
"Q_ = m_*(u2-u1);\n",
"disp('If the fluid is in the steam')\n",
"disp('K',t2,'The final temperature is ')\n",
"disp('kJ/kg',Q_,'The heat transferred is')"
   ]
   }
,
{
		   "cell_type": "markdown",
		   "metadata": {},
		   "source": [
			"## Example 10.2: Finding_the_final_temperature_and_heat_transferred_in_a_fluid.sce"
		   ]
		  },
  {
"cell_type": "code",
	   "execution_count": null,
	   "metadata": {
	    "collapsed": true
	   },
	   "outputs": [],
"source": [
"// Part (a)\n",
"R = 0.287; T1 = 273+150; v1 = 0.96; v2 = 1.55; Cp = 1.005;\n",
"P = (R*T1)/v1;\n",
"W = P*(v2-v1);\n",
"T2 = (v2/v1)*T1;\n",
"Q = Cp*(T2-T1);\n",
"disp('If the fluid is in the air')\n",
"disp('K',T2,'The final temperature is ')\n",
"disp('kJ',Q,'The heat transferred is')\n",
"disp('kJ',W,'Work done is')\n",
"// Part (b)\n",
"vg = 0.3928;\n",
"P1 = 200e03;\n",
"P2 = P1;\n",
"h1 = 2768.8;\n",
"t2 = 273+400; h2 = 3276.5;\n",
"Q_ = h2-h1;\n",
"W_ = P1*(v2-v1);\n",
"disp('If the fluid is in the steam')\n",
"disp('K',t2,'The final temperature is ')\n",
"disp('kJ',Q_,'The heat transferred is')\n",
"disp('J',W_,'Work done is')"
   ]
   }
,
{
		   "cell_type": "markdown",
		   "metadata": {},
		   "source": [
			"## Example 10.3: Heat_calculation_on_a_fluid.sce"
		   ]
		  },
  {
"cell_type": "code",
	   "execution_count": null,
	   "metadata": {
	    "collapsed": true
	   },
	   "outputs": [],
"source": [
"// Part (a)\n",
"v = 16 ; // v = v1/v2\n",
"P1 = 300e03;\n",
"P2 = P1*v;\n",
"R = 0.287; T1 = 300+273;\n",
"W12 = R*T1*log(1/v);\n",
"disp('If the fluid is in the air')\n",
"disp('Pa',P2,'The final pressure is ')\n",
"disp('kJ',0,'The change in internal energy is')\n",
"disp('kJ',W12,'Work done is')\n",
"// Part (b)\n",
"v1 = 0.7664; u1 = 2728.7;\n",
"v2 = v1/16;\n",
"x2 = (v2-0.00125)/(0.05013);\n",
"s2 = 2.7927+(x2*3.2802);\n",
"u2 = 1080.37+(x2*1522.0);\n",
"du = u2-u1;\n",
"T = 250+273;\n",
"Q12 = T*(s2-s1)\n",
"disp('If the fluid is in the steam')\n",
"disp('K',T,'The final temperature is ')\n",
"disp('kJ/kg',Q12,'The heat transferred is')\n",
"disp('kJ/kg  ',du,'The change in internal energy is')"
   ]
   }
,
{
		   "cell_type": "markdown",
		   "metadata": {},
		   "source": [
			"## Example 10.4: Heat_calculation_for_a_reversible_adiabatic_process.sce"
		   ]
		  },
  {
"cell_type": "code",
	   "execution_count": null,
	   "metadata": {
	    "collapsed": true
	   },
	   "outputs": [],
"source": [
"// Part (a)\n",
"P1 = 10; P2 = 1;\n",
"T1 = 273+300;\n",
"g = 1.4;\n",
"T2 = T1*((P2/P1)^((g-1)/g));\n",
"R = 0.287;\n",
"W12 = ((R*T1)/(1-g))*(T2/T1-1);\n",
"v2 = (R*T2)/(100*P2);\n",
"disp('If the fluid is in the air')\n",
"disp('m3/kg',v2,'The specific volume is')\n",
"disp('kJ',W12,'The work done per kg of the fluid is')\n",
"// Part (b)\n",
"u1 = 2793.2; v1 = 0.2579; s1 = 7.1228;\n",
"x2 = (7.1228-1.3025)/6.0568;\n",
"u2 = 417.33+(x2*2088.7);\n",
"v2 = 0.001043+(0.96*1.693);\n",
"W12 = u1-u2;\n",
"disp('If the fluid is in the steam')\n",
"disp('m3/kg',v2,'The specific volume is')\n",
"disp('kJ',W12,'The work done per kg of the fluid is')"
   ]
   }
,
{
		   "cell_type": "markdown",
		   "metadata": {},
		   "source": [
			"## Example 10.5: Heat_calculations_on_a_reversible_polytropic_process.sce"
		   ]
		  },
  {
"cell_type": "code",
	   "execution_count": null,
	   "metadata": {
	    "collapsed": true
	   },
	   "outputs": [],
"source": [
"// Part (a)\n",
"P1 = 10; P2 = 1;\n",
"T1 = 273+200; n = 1.15; R = 0.287;\n",
"v2 = ((R*T1)/(P1*100))*((P1/P2)^(1/1.15));\n",
"v1 = ((R*T1)/(P1*100));\n",
"T2 = T1*(P2/P1)*(v2/v1);\n",
"cv = 0.716;\n",
"Q = (cv+(R/(1-n)))*(T2-T1);\n",
"disp('If the fluid is in the air')\n",
"disp('m3/kg',v2,'The specific volume is')\n",
"disp('K',T2,'The final temperature is ')\n",
"disp('kJ',Q,'Heat transferred per kg is')\n",
"// Part (b)\n",
"v1 = 0.20596; u1 = 2621.9;\n",
"v2 = v1*(P1/P2)^(1/n);\n",
"x2 = (v2-0.001043)/(1.694-0.001043);\n",
"t2 = 99.62+273;\n",
"u2 = 417.33+(x2*2088.7);\n",
"W = ((P1*100*v1)-(P2*100*v2))/(n-1);\n",
"Q = u2-u1+W;\n",
"disp('If the fluid is in the steam')\n",
"disp('m3/kg',v2,'The specific volume is')\n",
"disp('K',t2,'The final temperature is ')\n",
"disp('kJ',Q,'Heat transferred per kg is')"
   ]
   }
,
{
		   "cell_type": "markdown",
		   "metadata": {},
		   "source": [
			"## Example 10.6: Calculation_on_PV_cycle_of_ideal_monoatomic_gas.sce"
		   ]
		  },
  {
"cell_type": "code",
	   "execution_count": null,
	   "metadata": {
	    "collapsed": true
	   },
	   "outputs": [],
"source": [
"P0 = 1000;\n",
"T0 = 3; \n",
"V0 = 0.001;\n",
"R = 287;\n",
"n = (P0*V0)/(R*T0); // Number of moles\n",
"// Process ab\n",
"Wab = 0;\n",
"cv = (3/2)*R;\n",
"Ta = T0; Tb = 300;\n",
"Qab = n*cv*(Tb-Ta);\n",
"Ua = 0; // Given internal energy\n",
"Ub = Qab+Ua;\n",
"Uab = Ub-Ua;\n",
"// Process bc\n",
"Qbc = 0; Uc = 0; Ubc = Uc-Ub;\n",
"Wbc = -Ubc;\n",
"// Process ca\n",
"Tc = Ta;\n",
"g = 5/3; // gamma\n",
"Vcb = (Tb/Tc)^(3/2); // Vc/Vb\n",
"Wca = -n*R*Tc*log(Vcb);\n",
"Qca = Wca ;\n",
"Uca = 0;\n",
"//\n",
"disp('J',Wab+Wbc+Wca,'Work done in the cycle is') \n",
"disp('J',Uab+Ubc+Uca,'Internal energy change in the cycle is') \n",
"disp('J',Qab+Qbc+Qca,'Heat transfer in the cycle is') \n",
"// Part (b)\n",
"e = (Qab+Qca)/Qab;\n",
"disp('%',e*100,'Thermal efficiency of the system is')"
   ]
   }
,
{
		   "cell_type": "markdown",
		   "metadata": {},
		   "source": [
			"## Example 10.7: Pressure_calculation_in_a_system_of_two_vessels.sce"
		   ]
		  },
  {
"cell_type": "code",
	   "execution_count": null,
	   "metadata": {
	    "collapsed": true
	   },
	   "outputs": [],
"source": [
"Pa = 1.5; Ta = 273+50; ca = 0.5;\n",
"Pb = 0.6; Tb = 20+273; mb = 2.5;\n",
"R = 8.3143;\n",
"Va = (ca*R*Ta)/(Pa*1e03);\n",
"ma = ca*28;\n",
"Rn = R/28;\n",
"Vb = (mb*Rn*Tb)/(Pb*1e03);\n",
"V = Va + Vb ;\n",
"m = ma + mb ;\n",
"Tf = 27+273;\n",
"P = (m*Rn*Tf)/V;\n",
"g = 1.4;\n",
"cv  = Rn/(g-1);\n",
"U1 = cv*(ma*Ta+mb*Tb);\n",
"U2 = m*cv*Tf;\n",
"Q = U2-U1;\n",
"disp('KPa',P,'The final equillibrium pressure is')\n",
"disp('kJ',Q,'The amount of heat transferred to the surrounding is')\n",
"T_ = (ma*Ta+mb*Tb)/m ;\n",
"P_ = (m*Rn*T_)/V;\n",
"disp('If the vessele is perfectly inslulated')\n",
"disp('K',T_,'The final temperature is')\n",
"disp('KPa',P_,'The final pressure is')"
   ]
   }
,
{
		   "cell_type": "markdown",
		   "metadata": {},
		   "source": [
			"## Example 10.8: Heat_calculation_on_a_gas_in_constant_volume_chamber.sce"
		   ]
		  },
  {
"cell_type": "code",
	   "execution_count": null,
	   "metadata": {
	    "collapsed": true
	   },
	   "outputs": [],
"source": [
"cp = 1.968; cv = 1.507;\n",
"R_ = 8.314;\n",
"V = 0.3; m = 2; \n",
"T1 = 5+273; T2 = 100+273;\n",
"R = cp-cv;\n",
"mu = R_/R;\n",
"Q12 = m*cv*(T2-T1);\n",
"W12 = 0 ;\n",
"U21 = Q12;\n",
"H21= m*cp*(T2-T1);\n",
"S21 = m*cv*log(T2/T1);\n",
"disp('kJ/kg K',R,'kg/kg mol and',mu,'Molecular weight and the gas constant of the gas are')\n",
"disp('kJ',0,'Work done')\n",
"disp('kJ',Q12,'The heat transferred')\n",
"disp('kJ',U21,'The change in internal energy ')\n",
"disp('kJ',S21,'entropy')\n",
"disp('kJ/K',H21,'enthalpy')"
   ]
   }
,
{
		   "cell_type": "markdown",
		   "metadata": {},
		   "source": [
			"## Example 10.9: Calculation_of_work_done_in_expansion_of_a_gas.sce"
		   ]
		  },
  {
"cell_type": "code",
	   "execution_count": null,
	   "metadata": {
	    "collapsed": true
	   },
	   "outputs": [],
"source": [
"m = 1.5;\n",
"P1 = 5.6; V1 = 0.06;\n",
"T2 = 273+240;\n",
"a = 0.946; b = 0.662;\n",
"k = 0.0001;\n",
"// Part (b)\n",
"R = a-b;\n",
"T1 = (P1*1e03*V1)/(m*R);\n",
"W12 = -integrate('m*(b+k*T)','T',T1,T2);\n",
"disp('kJ',W12,'The work done in the expansion is')"
   ]
   }
],
"metadata": {
		  "kernelspec": {
		   "display_name": "Scilab",
		   "language": "scilab",
		   "name": "scilab"
		  },
		  "language_info": {
		   "file_extension": ".sce",
		   "help_links": [
			{
			 "text": "MetaKernel Magics",
			 "url": "https://github.com/calysto/metakernel/blob/master/metakernel/magics/README.md"
			}
		   ],
		   "mimetype": "text/x-octave",
		   "name": "scilab",
		   "version": "0.7.1"
		  }
		 },
		 "nbformat": 4,
		 "nbformat_minor": 0
}
