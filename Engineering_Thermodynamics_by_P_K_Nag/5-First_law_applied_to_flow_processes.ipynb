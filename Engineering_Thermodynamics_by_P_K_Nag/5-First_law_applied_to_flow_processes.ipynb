{
"cells": [
 {
		   "cell_type": "markdown",
	   "metadata": {},
	   "source": [
       "# Chapter 5: First law applied to flow processes"
	   ]
	},
{
		   "cell_type": "markdown",
		   "metadata": {},
		   "source": [
			"## Example 5.1: Calculation_on_an_air_compressor.sce"
		   ]
		  },
  {
"cell_type": "code",
	   "execution_count": null,
	   "metadata": {
	    "collapsed": true
	   },
	   "outputs": [],
"source": [
"// Part(a)\n",
"V1 = 0.95;\n",
"P1 = 100e03;\n",
"v1 = 7;\n",
"V2 = 0.19;\n",
"P2 = 700e03;\n",
"v2 = 5;\n",
"w = 0.5;\n",
"u21 = 90e03; // u21 = u2-u1\n",
"Q = -58e03; // As heat is added Q = dQ/dt\n",
"W =  - w*( u21 + (P2*V2-P1*V1) + ((v2^2-v1^2)/2) ) + Q; // W = dW/dt  \n",
"disp('Watt',W,'The rate of work input is')\n",
"// Part (b)\n",
"A = (v2/v1)*(V1/V2); // A = A1/A2\n",
"d = sqrt(A); // d = d1/d2\n",
"disp(d,'The ratio of the inlet pipe diameter and outer pipe diameter is')"
   ]
   }
,
{
		   "cell_type": "markdown",
		   "metadata": {},
		   "source": [
			"## Example 5.2: Calculations_across_a_control_volume.sce"
		   ]
		  },
  {
"cell_type": "code",
	   "execution_count": null,
	   "metadata": {
	    "collapsed": true
	   },
	   "outputs": [],
"source": [
"V1 = 0.37;\n",
"P1 = 600e03;\n",
"v1 = 16;\n",
"V2 = 0.62; \n",
"P2 = 100e03;\n",
"v2 = 270;\n",
"Z1 = 32;\n",
"Z2 = 0;\n",
"g = 9.81; \n",
"Q = -9e03; // heat loss Q = dQ/dt\n",
"W = 135e03; // Work done W = dW/dt\n",
"U12 = (P2*V2-P1*V1) + ((v2^2-v1^2)/2) + (Z2-Z1)*g + W - Q; // U12 = U1-U2\n",
"disp('Joule',U12,'The internal energy decreases by') "
   ]
   }
,
{
		   "cell_type": "markdown",
		   "metadata": {},
		   "source": [
			"## Example 5.3: Calculation_of_steam_flow_rate_between_a_boiler_and_turbine.sce"
		   ]
		  },
  {
"cell_type": "code",
	   "execution_count": null,
	   "metadata": {
	    "collapsed": true
	   },
	   "outputs": [],
"source": [
"P1 = 4e06;\n",
"t1 = 400;\n",
"h1 = 3213e03;\n",
"V1 = 0.073;\n",
"P2 = 3.5e06;\n",
"t2 = 392;\n",
"h2 = 3202e03;\n",
"V2 = 0.084;\n",
"Q = -8.5e03;\n",
"v1 = sqrt((2*(h1-h2+Q))/(1.15^2-1));\n",
"A1 = (%pi/4)*0.2^2;\n",
"w = (A1*v1)/V1;\n",
"disp('Kg/s',w,'The stean flow rate is')"
   ]
   }
,
{
		   "cell_type": "markdown",
		   "metadata": {},
		   "source": [
			"## Example 5.4: Calculation_of_quantity_of_steam_supplied_to_a_heater.sce"
		   ]
		  },
  {
"cell_type": "code",
	   "execution_count": null,
	   "metadata": {
	    "collapsed": true
	   },
	   "outputs": [],
"source": [
"h1 = 313.93;\n",
"h2 = 2676;\n",
"h3 = 419;\n",
"w1 = 4.2;\n",
"w = poly(0,'w') // w = w2\n",
"P = w1*h1 + w*h2 - h3*(4.2+w)\n",
"function [x] = stress(a,b,f)\n",
"  N = 100;\n",
"  eps = 1e-5;\n",
"  if((f(a)*f(b))>0) then\n",
"    error('no root possible f(a)*f(b)>0');\n",
"    abort;\n",
"  end;\n",
"  if(abs(f(a))<eps) then\n",
"    error('solution at a');\n",
"    abort;\n",
"  end\n",
"  if(abs(f(b))<eps) then\n",
"    error('solution at b');\n",
"    abort;\n",
"  end\n",
"  while(N>0)\n",
"    c = (a+b)/2\n",
"    if(abs(f(c))<eps) then\n",
"      x = c ;\n",
"      x;\n",
"      return;\n",
"    end;\n",
"    if((f(a)*f(c))<0 ) then\n",
"      b = c ;\n",
"    else\n",
"      a = c ;\n",
"    end\n",
"    N = N-1;\n",
"  end\n",
"  error('no convergence');\n",
"  abort;\n",
"endfunction\n",
"\n",
"deff('[y]=p(w)',['y = - 441.294 + 2257*w '])\n",
"w = stress(0.1,0.2,p);\n",
"disp('Kg/h',w*3600,'The amount of heat that should be supplied is')\n",
"\n",
"\n",
""
   ]
   }
,
{
		   "cell_type": "markdown",
		   "metadata": {},
		   "source": [
			"## Example 5.5: Calculations_across_a_heat_exchanger.sce"
		   ]
		  },
  {
"cell_type": "code",
	   "execution_count": null,
	   "metadata": {
	    "collapsed": true
	   },
	   "outputs": [],
"source": [
"t1 = 15; t2 = 800; t3 = 650; t4 = 500;\n",
"v1 = 30; v2 = 30 ; v3 = 60; \n",
"w = 2;\n",
"cp = 1005;\n",
"Q1_2 = w*cp*(t2-t1);\n",
"disp('KJ/s',Q1_2/1000,'The rate of heat transfer to the air in the heat exchanger is')\n",
"W_T = w*( ((v2^2-v3^2)/2) + cp*(t2-t3));\n",
"disp('KW',W_T/1000,'The power output from the turbine assuming no heat loss')\n",
"v4 = sqrt( (v3^2) + (2*cp*(t3-t4)) );\n",
"disp('m/s',v4,'The velocity at the exit of the nozzle is')"
   ]
   }
,
{
		   "cell_type": "markdown",
		   "metadata": {},
		   "source": [
			"## Example 5.6: Calculations_on_a_gas_turbine.sce"
		   ]
		  },
  {
"cell_type": "code",
	   "execution_count": null,
	   "metadata": {
	    "collapsed": true
	   },
	   "outputs": [],
"source": [
"w = 5;\n",
"h1 = 900e03;\n",
"h2 = 400e03;\n",
"v1 = 50; v2 = 150;\n",
"Q = -25*5; // Q = dQ/dt for w = 5kg\n",
"W = w*( (h1-h2) + ((v1^2-v2^2)/2) ) + Q; // W = dW/dt\n",
"disp('kW',W/1000,'The power output of the turbine is')\n",
"R = 285; T1 = 300; P1 = 100e03;\n",
"V = (w*R*T1)/P1; // V = dV/dt\n",
"A1 = V/v1; \n",
"D1 = sqrt((4*A1)/%pi);\n",
"disp('m',D1,'The diameter of the inlet pipe is')"
   ]
   }
,
{
		   "cell_type": "markdown",
		   "metadata": {},
		   "source": [
			"## Example 5.7: Calculation_of_velocity_of_exhaust_jet.sce"
		   ]
		  },
  {
"cell_type": "code",
	   "execution_count": null,
	   "metadata": {
	    "collapsed": true
	   },
	   "outputs": [],
"source": [
"ha = 260; // Enthalpy of air\n",
"hg = 912; // Enthalpy of gas\n",
"Va = 270; // Velocity of air\n",
"f = 0.0190; // Fuel to air ratio wf/wa\n",
"Ef = 44500; // Chemical energy of fuel in kJ/kg\n",
"Q = 21; // Heat loss from the engine\n",
"Eg = 0.05*f*Ef/(1+f); // As 5% of chemical energy is not released in reaction\n",
"Vg = sqrt(2000*(((ha+(Va^2*0.001)/2+(f*Ef)-Q)/(1+f))-hg-Eg));\n",
"disp('m/s',Vg,'Velocity of exhaust gas is')"
   ]
   }
,
{
		   "cell_type": "markdown",
		   "metadata": {},
		   "source": [
			"## Example 5.9: Thermodynamics_calculations_of_air_with_given_internal_energy_function.sce"
		   ]
		  },
  {
"cell_type": "code",
	   "execution_count": null,
	   "metadata": {
	    "collapsed": true
	   },
	   "outputs": [],
"source": [
"u0 = 0.718*273*1e03;\n",
"t = poly(0,'t');\n",
"u = u0+718*t; // in SI unit\n",
"hp = u + 285*(t+273); // ''\n",
"h = horner(hp,150); // h = hp(150)\n",
"W = 100; // W = dW/dt\n",
"m = W/h;\n",
"disp('kg/h',m*3600,'The rate at which air flows out of the tank')"
   ]
   }
],
"metadata": {
		  "kernelspec": {
		   "display_name": "Scilab",
		   "language": "scilab",
		   "name": "scilab"
		  },
		  "language_info": {
		   "file_extension": ".sce",
		   "help_links": [
			{
			 "text": "MetaKernel Magics",
			 "url": "https://github.com/calysto/metakernel/blob/master/metakernel/magics/README.md"
			}
		   ],
		   "mimetype": "text/x-octave",
		   "name": "scilab",
		   "version": "0.7.1"
		  }
		 },
		 "nbformat": 4,
		 "nbformat_minor": 0
}
