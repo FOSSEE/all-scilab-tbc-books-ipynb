{
"cells": [
 {
		   "cell_type": "markdown",
	   "metadata": {},
	   "source": [
       "# Chapter 2: Temperature"
	   ]
	},
{
		   "cell_type": "markdown",
		   "metadata": {},
		   "source": [
			"## Example 2.1: Calculations_on_straight_bore_thermometer.sce"
		   ]
		  },
  {
"cell_type": "code",
	   "execution_count": null,
	   "metadata": {
	    "collapsed": true
	   },
	   "outputs": [],
"source": [
"d = 1; l = 1; // Assuming\n",
"A_ACDB = (%pi/4)*(1/3)*((1.05*d)^2)*10.5*l - (%pi/4)*(1/3)*d^2*10*l ; // Area of ABCD\n",
"A_AEFB = (%pi/4)*(1/3)*((1.1*d)^2)*11*l - (%pi/4)*(1/3)*d^2*10*l;\n",
"t = 100*(A_ACDB/A_AEFB);\n",
"disp('degree Celcius',t,'The straight bore thermometer reading would e')"
   ]
   }
,
{
		   "cell_type": "markdown",
		   "metadata": {},
		   "source": [
			"## Example 2.2: Calculation_of_thermometer_reading.sce"
		   ]
		  },
  {
"cell_type": "code",
	   "execution_count": null,
	   "metadata": {
	    "collapsed": true
	   },
	   "outputs": [],
"source": [
"t = poly(0,'t');\n",
"e = (0.2*t)-(5e-04*t^2); // e.m.f. as a function of temperature in mV\n",
"e0 = horner(e, 0); // e.m.f. at t = 0 degree\n",
"e100 = horner(e, 100); // e.m.f. at t = 100 degree\n",
"e50 = horner(e, 50); // e.m.f. at t = 50 degreer\n",
"r = (100/e100)*e50; // Reading of thermocouple at t = 50degree\n",
"disp('degree',r,'Reading of thermocouple at t = 50degree is')"
   ]
   }
,
{
		   "cell_type": "markdown",
		   "metadata": {},
		   "source": [
			"## Example 2.3: Calculting_temperature_for_given_resistance.sce"
		   ]
		  },
  {
"cell_type": "code",
	   "execution_count": null,
	   "metadata": {
	    "collapsed": true
	   },
	   "outputs": [],
"source": [
"R0 = 2.8; // Resistence at t=0 degree in ohm\n",
"R100 = 3.8; // Resistence at t = 100 degree in ohm\n",
"a = (R100/R0 - 1)*0.01; // alpha\n",
"R = 5.8; // Indicated ressistace in ohm\n",
"t = (R/R0 - 1)/a; // Temperature in degree\n",
"disp('degree',t,'The temperature when indicated resistance is 5.8 ohm is ')"
   ]
   }
],
"metadata": {
		  "kernelspec": {
		   "display_name": "Scilab",
		   "language": "scilab",
		   "name": "scilab"
		  },
		  "language_info": {
		   "file_extension": ".sce",
		   "help_links": [
			{
			 "text": "MetaKernel Magics",
			 "url": "https://github.com/calysto/metakernel/blob/master/metakernel/magics/README.md"
			}
		   ],
		   "mimetype": "text/x-octave",
		   "name": "scilab",
		   "version": "0.7.1"
		  }
		 },
		 "nbformat": 4,
		 "nbformat_minor": 0
}
