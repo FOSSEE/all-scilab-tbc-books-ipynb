{
"cells": [
 {
		   "cell_type": "markdown",
	   "metadata": {},
	   "source": [
       "# Chapter 11: Thermodynamic relations Equilibrium and stability"
	   ]
	},
{
		   "cell_type": "markdown",
		   "metadata": {},
		   "source": [
			"## Example 11.3: Finding_the_vapour_pressure_of_benzene.sce"
		   ]
		  },
  {
"cell_type": "code",
	   "execution_count": null,
	   "metadata": {
	    "collapsed": true
	   },
	   "outputs": [],
"source": [
"Tb = 353;\n",
"T = 303;\n",
"R = 8.3143;\n",
"P = 101.325*exp((88/R)*(1-(Tb/T)));\n",
"disp('kPa',P,'Vapour pressure of benzene is ')"
   ]
   }
,
{
		   "cell_type": "markdown",
		   "metadata": {},
		   "source": [
			"## Example 11.4: Calculations_on_vapours_of_benzene.sce"
		   ]
		  },
  {
"cell_type": "code",
	   "execution_count": null,
	   "metadata": {
	    "collapsed": true
	   },
	   "outputs": [],
"source": [
"T = (3754-3063)/(23.03-19.49);\n",
"P = exp(23.03-(3754/195.2));\n",
"R = 8.3143;\n",
"Lsub = R*3754;\n",
"Lvap = 3063*R;\n",
"Lfu = Lsub-Lvap;\n",
"disp('K',T,'Temperature of triple point is')\n",
"disp('mm Hg',P,'Pressure of triple point is')\n",
"disp('kJ/kg mol',Lsub,'Latent heat of sublimation is')\n",
"disp('kJ/kg mol',Lvap,'Latent heat of vapourization is')\n",
"disp('kJ/kg mol',Lfu,'Latent heat of fusion is')"
   ]
   }
,
{
		   "cell_type": "markdown",
		   "metadata": {},
		   "source": [
			"## Example 11.6: Thermodynamic_calculation_on_a_system_of_two_simple_systems.sce"
		   ]
		  },
  {
"cell_type": "code",
	   "execution_count": null,
	   "metadata": {
	    "collapsed": true
	   },
	   "outputs": [],
"source": [
"R = 8.314;\n",
"N1 = 0.5e-03; N2 = 0.75e-03; // Mole number of system 1 and 2 in kg/mol\n",
"T1 = 200; T2 = 300; \n",
"V = 0.02;\n",
"Tf = ((N1*T1)+(N2*T2))/(N1+N2); // Final temperature\n",
"Uf1 = (3/2)*R*N1*Tf;\n",
"Uf2 = (3/2)*R*N2*Tf;\n",
"Pf = (R*Tf*(N1+N2))/V;\n",
"Vf1 = (R*N1*Tf)/Pf;\n",
"Vf2 = V - Vf1;\n",
"disp('System 1')\n",
"disp('m3',Vf1,'Volume is')\n",
"disp('kJ',Uf1,'Energy is')\n",
"disp('System 2')\n",
"disp('m3',Vf2,'Volume is')\n",
"disp('kJ',Uf2,'Energy is')\n",
"disp('K',Tf,'Final temperature is')\n",
"disp('kPa',Pf,'Final Pressure is')"
   ]
   }
],
"metadata": {
		  "kernelspec": {
		   "display_name": "Scilab",
		   "language": "scilab",
		   "name": "scilab"
		  },
		  "language_info": {
		   "file_extension": ".sce",
		   "help_links": [
			{
			 "text": "MetaKernel Magics",
			 "url": "https://github.com/calysto/metakernel/blob/master/metakernel/magics/README.md"
			}
		   ],
		   "mimetype": "text/x-octave",
		   "name": "scilab",
		   "version": "0.7.1"
		  }
		 },
		 "nbformat": 4,
		 "nbformat_minor": 0
}
