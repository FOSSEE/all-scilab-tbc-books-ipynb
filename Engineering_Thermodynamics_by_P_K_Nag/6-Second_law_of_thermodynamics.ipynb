{
"cells": [
 {
		   "cell_type": "markdown",
	   "metadata": {},
	   "source": [
       "# Chapter 6: Second law of thermodynamics"
	   ]
	},
{
		   "cell_type": "markdown",
		   "metadata": {},
		   "source": [
			"## Example 6.1: Calculation_of_least_rate_of_heat_rejection_by_a_cyclic_heat_engine.sce"
		   ]
		  },
  {
"cell_type": "code",
	   "execution_count": null,
	   "metadata": {
	    "collapsed": true
	   },
	   "outputs": [],
"source": [
"T1 = 800;\n",
"T2 = 30;\n",
"e_max = 1-((T2+273)/(T1+273));\n",
"Wnet = 1; // in kW\n",
"Q1 = Wnet/e_max;\n",
"Q2 = Q1-Wnet;\n",
"disp('KW',Q2,'Least rate of heat rejection is')"
   ]
   }
,
{
		   "cell_type": "markdown",
		   "metadata": {},
		   "source": [
			"## Example 6.2: Calculation_of_least_power_for_a_domestic_food_freezer.sce"
		   ]
		  },
  {
"cell_type": "code",
	   "execution_count": null,
	   "metadata": {
	    "collapsed": true
	   },
	   "outputs": [],
"source": [
"T1 = -15+273;\n",
"T2 = 30+273;\n",
"Q2 = 1.75; // in kJ/sec\n",
"Q1 = (T1/T2)*Q2;\n",
"W = Q1-Q2;\n",
"disp('kW',W,'Least Power necessary to pump the heat out is')\n",
"\n",
"// There is a calculation mistake in the book "
   ]
   }
,
{
		   "cell_type": "markdown",
		   "metadata": {},
		   "source": [
			"## Example 6.4: Calculations_on_a_carnot_engine.sce"
		   ]
		  },
  {
"cell_type": "code",
	   "execution_count": null,
	   "metadata": {
	    "collapsed": true
	   },
	   "outputs": [],
"source": [
"Q1 = 200;\n",
"T1 = 373.15;\n",
"T2 = 273.16;\n",
"Q2 = Q1*(T2/T1);\n",
"W = Q1-Q2;\n",
"e = W/Q1;\n",
"disp('respectively',e,'J',W,'J',Q2,'The heat rejected, the work done and the thermal effiency of the engine is')"
   ]
   }
,
{
		   "cell_type": "markdown",
		   "metadata": {},
		   "source": [
			"## Example 6.5: Calculations_on_reversible_heat_engine.sce"
		   ]
		  },
  {
"cell_type": "code",
	   "execution_count": null,
	   "metadata": {
	    "collapsed": true
	   },
	   "outputs": [],
"source": [
"T1 = 873;\n",
"T2 = 313;\n",
"T3 = 253;\n",
"Q1 = 2000e03; // In joule\n",
"W = 360e03; // in joule\n",
"// Part (a)\n",
"e_max = 1-(T2/T1);\n",
"W1 = e_max*Q1;\n",
"COP = T3/(T2-T3);\n",
"W2 = W1-W;\n",
"Q4 = COP*W2;\n",
"Q3 = Q4+W2;\n",
"Q2 = Q1-W1;\n",
"disp('J',Q2+Q3,'The heat rejection to the 40 degree reservior is')\n",
"// Part (b)\n",
"e_max_ = 0.4*e_max;\n",
"W1_ = e_max_*Q1;\n",
"W2_ = W1_-W;\n",
"COP_ = 0.4*COP;\n",
"Q4_ = COP_*W2_;\n",
"Q3_ = Q4_+W2_;\n",
"Q2_ = Q1-W1_;\n",
"disp('J',Q2_+Q3_,'The heat rejection to the 40 degree reservior is')"
   ]
   }
,
{
		   "cell_type": "markdown",
		   "metadata": {},
		   "source": [
			"## Example 6.7: Determination_of_heat_multiplication_factor.sce"
		   ]
		  },
  {
"cell_type": "code",
	   "execution_count": null,
	   "metadata": {
	    "collapsed": true
	   },
	   "outputs": [],
"source": [
"T1 = 473;\n",
"T2 = 293;\n",
"T3 = 273;\n",
"MF = (T2*(T1-T3))/(T1*(T2-T3));\n",
"disp(MF,' The multiplication factor is ')"
   ]
   }
,
{
		   "cell_type": "markdown",
		   "metadata": {},
		   "source": [
			"## Example 6.8: Estimation_of_minimum_collector_area_of_solar_area.sce"
		   ]
		  },
  {
"cell_type": "code",
	   "execution_count": null,
	   "metadata": {
	    "collapsed": true
	   },
	   "outputs": [],
"source": [
"T1 = 363;\n",
"T2 = 293;\n",
"W = 1; // Kj/s\n",
"e_max = 1-(T2/T1);\n",
"Qmin = W/e_max ;\n",
"Qmin_ = Qmin*3600;\n",
"E = 1880; // in kJ/m2 h\n",
"Amin = Qmin_/E ;\n",
"disp('m2',Amin,'Minimum area required for the collector plate')"
   ]
   }
,
{
		   "cell_type": "markdown",
		   "metadata": {},
		   "source": [
			"## Example 6.9: Determination_of_minimum_solar_panel_area.sce"
		   ]
		  },
  {
"cell_type": "code",
	   "execution_count": null,
	   "metadata": {
	    "collapsed": true
	   },
	   "outputs": [],
"source": [
"T1 = 1000;\n",
"W = 1000; // in W\n",
"K = 5.67e-08;\n",
"Amin = (256*W)/(27*K*T1^4);\n",
"disp('m2',Amin,'Area of the panel')"
   ]
   }
],
"metadata": {
		  "kernelspec": {
		   "display_name": "Scilab",
		   "language": "scilab",
		   "name": "scilab"
		  },
		  "language_info": {
		   "file_extension": ".sce",
		   "help_links": [
			{
			 "text": "MetaKernel Magics",
			 "url": "https://github.com/calysto/metakernel/blob/master/metakernel/magics/README.md"
			}
		   ],
		   "mimetype": "text/x-octave",
		   "name": "scilab",
		   "version": "0.7.1"
		  }
		 },
		 "nbformat": 4,
		 "nbformat_minor": 0
}
