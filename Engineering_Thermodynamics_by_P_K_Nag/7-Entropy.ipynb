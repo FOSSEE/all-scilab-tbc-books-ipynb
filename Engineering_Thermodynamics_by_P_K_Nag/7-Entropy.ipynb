{
"cells": [
 {
		   "cell_type": "markdown",
	   "metadata": {},
	   "source": [
       "# Chapter 7: Entropy"
	   ]
	},
{
		   "cell_type": "markdown",
		   "metadata": {},
		   "source": [
			"## Example 7.10: Heat_calculation_for_a_reversible_adiabatic_compression_cycle.sce"
		   ]
		  },
  {
"cell_type": "code",
	   "execution_count": null,
	   "metadata": {
	    "collapsed": true
	   },
	   "outputs": [],
"source": [
"P1 = 0.5e06;\n",
"V1 = 0.2; V2 = 0.05;\n",
"n = 1.3\n",
"P2 = P1*(V1/V2)^n;\n",
"function y = H(p)\n",
"  y = ((P1*V1^n)/p)^(1/n);\n",
"endfunction\n",
"H = integrate('H','p',P1,P2); // H = H2-H1\n",
"U = H-(P2*V2-P1*V1);\n",
"W12 = -U;\n",
"disp('kJ',H/1000,'Change in enthalpy is')\n",
"disp('kJ',U/1000,'Change in internal energy is')\n",
"disp('kJ',0,'and',0,'The change in entropy and heat transfer are')\n",
"disp('kJ',W12/1000,'The work transfer during the process is ')"
   ]
   }
,
{
		   "cell_type": "markdown",
		   "metadata": {},
		   "source": [
			"## Example 7.11: Establishment_of_direction_of_flow_in_a_insulated_duct.sce"
		   ]
		  },
  {
"cell_type": "code",
	   "execution_count": null,
	   "metadata": {
	    "collapsed": true
	   },
	   "outputs": [],
"source": [
"Pa = 130e03; Pb = 100e03;\n",
"Ta = 50+273; Tb = 13+273;\n",
"cp = 1.005;\n",
"Ss = integrate('cp/T','T',Ta,Tb)-integrate('0.287/p','p',Pa,Pb);\n",
"Ssy = 0;\n",
"Su = Ss+Ssy;\n",
"disp('kJ/Kg K',Su,'Change in the entropy of the universe is')\n",
"disp('As the change in entropy of the universe in the process A-B is negative so the flow must be from B-A')"
   ]
   }
,
{
		   "cell_type": "markdown",
		   "metadata": {},
		   "source": [
			"## Example 7.12: Determination_of_possibility_of_a_hypothetical_device_thermodynamically.sce"
		   ]
		  },
  {
"cell_type": "code",
	   "execution_count": null,
	   "metadata": {
	    "collapsed": true
	   },
	   "outputs": [],
"source": [
"T1 = 300; T2 = 330; T3 = 270;\n",
"P1 = 4; P2 =1 ; P3 =1 ;\n",
"cp = 1.0005; R = 0.287;\n",
"S21 = cp*log(T2/T1)-R*log(P2/P1); // S21 = S2-S1\n",
"S31 = cp*log(T3/T1)-R*log(P3/P1); // S31 = S3-S1\n",
"Sgen = 1*S21 + 1*S31;\n",
"disp('kW/K',Sgen,'The entropy generated during the process is')\n",
"disp('As the entropy generated is positive so such device is possible')"
   ]
   }
,
{
		   "cell_type": "markdown",
		   "metadata": {},
		   "source": [
			"## Example 7.13: Calculation_of_heat_transfer_through_a_room.sce"
		   ]
		  },
  {
"cell_type": "code",
	   "execution_count": null,
	   "metadata": {
	    "collapsed": true
	   },
	   "outputs": [],
"source": [
"A = 5*7;\n",
"k = 0.71;\n",
"L = 0.32;\n",
"Ti = 21+273;\n",
"To = 6+273;\n",
"Q = k*A*(Ti-To)/L ;\n",
"disp('W',Q,'The rate of heat transfer through the wall is')\n",
"Sgen_wall = Q/To - Q/Ti;\n",
"disp('W/K',Sgen_wall,'The rate of entropy through the wall is')\n",
"Tr = 27+273;\n",
"Ts = 2+273;\n",
"Sgen_total = Q/Ts-Q/Tr;\n",
"disp('W/K',Sgen_total,'The rate of total entropy generation with this heat transfer process is')"
   ]
   }
,
{
		   "cell_type": "markdown",
		   "metadata": {},
		   "source": [
			"## Example 7.1: Calculation_of_entropy_change_of_water.sce"
		   ]
		  },
  {
"cell_type": "code",
	   "execution_count": null,
	   "metadata": {
	    "collapsed": true
	   },
	   "outputs": [],
"source": [
"T1 = 37+273;\n",
"T2 = 35+273;\n",
"m = 1 ;\n",
"cv = 4.187;\n",
"S = m*cv*log(T2/T1); // S = S2-S1\n",
"disp('KJ/K',S,'Change in the entropy of the water is')"
   ]
   }
,
{
		   "cell_type": "markdown",
		   "metadata": {},
		   "source": [
			"## Example 7.2: Entropy_change_calculations_of_a_heat_reservoir_and_universe.sce"
		   ]
		  },
  {
"cell_type": "code",
	   "execution_count": null,
	   "metadata": {
	    "collapsed": true
	   },
	   "outputs": [],
"source": [
"// Part (a)\n",
"T1 = 273;\n",
"T2 = 373;\n",
"m = 1 ;\n",
"cv = 4.187;\n",
"Ss = m*cv*log(T2/T1); // S = S2-S1\n",
"Q = m*cv*(T2-T1);\n",
"Sr = -(Q/T2);\n",
"S = Ss+Sr;\n",
"disp('kJ/K',S,'The entropy change of the universe is')\n",
"// Part (b)\n",
"T3 = 323;\n",
"Sw = m*cv*(log(T3/T1)+log(T2/T3));\n",
"Sr1 = -m*cv*(T3-T1)/T3;\n",
"Sr2 = -m*cv*(T2-T3)/T2;\n",
"Su = Sw+Sr1+Sr2;\n",
"disp('kJ/K',Su,'The entropy change of the universe is')"
   ]
   }
,
{
		   "cell_type": "markdown",
		   "metadata": {},
		   "source": [
			"## Example 7.3: Entropy_change_calculations_between_ice_and_universe.sce"
		   ]
		  },
  {
"cell_type": "code",
	   "execution_count": null,
	   "metadata": {
	    "collapsed": true
	   },
	   "outputs": [],
"source": [
"// Part (a)\n",
"m = 1;\n",
"T1 = -5+273;\n",
"T2 = 20+273;\n",
"T0 = 0+273;\n",
"cp = 2.093;\n",
"cv = 4.187;\n",
"lf = 333.3;\n",
"Q = m*cp*(T0-T1)+1*333.3+m*cv*(T2-T0);\n",
"Sa = -Q/T2;\n",
"Ss1 = m*cp*log(T0/T1);\n",
"Ss2 = lf/T0;\n",
"Ss3 = m*cv*log(T2/T0);\n",
"St = Ss1+Ss2+Ss3;\n",
"Su = St+Sa;\n",
"disp('kJ/K',Su,'The entropy change of the universe is')\n",
"// Part (b)\n",
"S = 1.5549; // S = S4-S1\n",
"Wmin = T2*(S)-Q;\n",
"disp('kJ',Wmin,'The minimum risk required is')"
   ]
   }
,
{
		   "cell_type": "markdown",
		   "metadata": {},
		   "source": [
			"## Example 7.5: Calculation_of_entropy_change_for_a_gas.sce"
		   ]
		  },
  {
"cell_type": "code",
	   "execution_count": null,
	   "metadata": {
	    "collapsed": true
	   },
	   "outputs": [],
"source": [
"Vo = 8.4;\n",
"Vh = 14;\n",
"n1 = Vo/22.4; n2 = Vh/22.4;\n",
"R = 8.31;\n",
"x1 = n1/(n1+n2);\n",
"x2 = n2/(n1+n2);\n",
"S = -R*(n1*log(x1)+n2*log(x2));\n",
"disp('J/K',S,'Entropy change for the process is')"
   ]
   }
,
{
		   "cell_type": "markdown",
		   "metadata": {},
		   "source": [
			"## Example 7.8: EX7_8.sce"
		   ]
		  },
  {
"cell_type": "code",
	   "execution_count": null,
	   "metadata": {
	    "collapsed": true
	   },
	   "outputs": [],
"source": [
"T = poly(0,'T'); // T = Tf\n",
"Tf_ = 700-2*T; // Tf_ = Tf'\n",
"// Bisection method to solve for the polynomial\n",
"function [x] = Temperature(a,b,f)\n",
"  N = 100;\n",
"  eps = 1e-5;\n",
"  if((f(a)*f(b))>0) then\n",
"    error('no root possible f(a)*f(b)>0');\n",
"    abort;\n",
"  end;\n",
"  if(abs(f(a))<eps) then\n",
"    error('solution at a');\n",
"    abort;\n",
"  end\n",
"  if(abs(f(b))<eps) then\n",
"    error('solution at b');\n",
"    abort;\n",
"  end\n",
"  while(N>0)\n",
"    c = (a+b)/2\n",
"    if(abs(f(c))<eps) then\n",
"      x = c ;\n",
"      x;\n",
"      return;\n",
"    end;\n",
"    if((f(a)*f(c))<0 ) then\n",
"      b = c ;\n",
"    else\n",
"      a = c ;\n",
"    end\n",
"    N = N-1;\n",
"  end\n",
"  error('no convergence');\n",
"  abort;\n",
"endfunction\n",
"deff('[y]=p(T)',['y = 2*T^3-700*T^2+9000000 '])\n",
"T = Temperature(100,200,p);\n",
"\n",
"Tf_ = horner(Tf_,T);\n",
"disp('K',Tf_,'The final temperature of the body C is')"
   ]
   }
,
{
		   "cell_type": "markdown",
		   "metadata": {},
		   "source": [
			"## Example 7.9: Calculation_of_mxaximum_amount_of_work_for_a_system_with_given_heat_capacity.sce"
		   ]
		  },
  {
"cell_type": "code",
	   "execution_count": null,
	   "metadata": {
	    "collapsed": true
	   },
	   "outputs": [],
"source": [
"T1 = 200;\n",
"T2 = 100;\n",
"A = 0.042;\n",
"Q1 = integrate('A*T^2','T',T1,T2);\n",
"S =  integrate('A*T^2/T','T',T1,T2);\n",
"W = poly(0,'W');\n",
"Z = (-Q1-W)/T2 + S; // Polynomial to be solved for W\n",
"// Bisection method to solve for the Work\n",
"function [x] = Work(a,b,f)\n",
"  N = 100;\n",
"  eps = 1e-5;\n",
"  if((f(a)*f(b))>0) then\n",
"    error('no root possible f(a)*f(b)>0');\n",
"    abort;\n",
"  end;\n",
"  if(abs(f(a))<eps) then\n",
"    error('solution at a');\n",
"    abort;\n",
"  end\n",
"  if(abs(f(b))<eps) then\n",
"    error('solution at b');\n",
"    abort;\n",
"  end\n",
"  while(N>0)\n",
"    c = (a+b)/2\n",
"    if(abs(f(c))<eps) then\n",
"      x = c ;\n",
"      x;\n",
"      return;\n",
"    end;\n",
"    if((f(a)*f(c))<0 ) then\n",
"      b = c ;\n",
"    else\n",
"      a = c ;\n",
"    end\n",
"    N = N-1;\n",
"  end\n",
"  error('no convergence');\n",
"  abort;\n",
"endfunction\n",
"deff('[y]=p(W)',['y = 350-0.01*W '])\n",
"W = Work(34000,36000,p);\n",
"\n",
"disp('kJ',W/1000,'The maximum work that can be recovered is')"
   ]
   }
],
"metadata": {
		  "kernelspec": {
		   "display_name": "Scilab",
		   "language": "scilab",
		   "name": "scilab"
		  },
		  "language_info": {
		   "file_extension": ".sce",
		   "help_links": [
			{
			 "text": "MetaKernel Magics",
			 "url": "https://github.com/calysto/metakernel/blob/master/metakernel/magics/README.md"
			}
		   ],
		   "mimetype": "text/x-octave",
		   "name": "scilab",
		   "version": "0.7.1"
		  }
		 },
		 "nbformat": 4,
		 "nbformat_minor": 0
}
