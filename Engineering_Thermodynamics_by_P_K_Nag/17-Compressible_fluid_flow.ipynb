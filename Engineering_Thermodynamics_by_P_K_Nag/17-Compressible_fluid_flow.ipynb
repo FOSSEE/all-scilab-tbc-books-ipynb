{
"cells": [
 {
		   "cell_type": "markdown",
	   "metadata": {},
	   "source": [
       "# Chapter 17: Compressible fluid flow"
	   ]
	},
{
		   "cell_type": "markdown",
		   "metadata": {},
		   "source": [
			"## Example 17.1: Calculation_s_on_flow_of_air_through_a_duct.sce"
		   ]
		  },
  {
"cell_type": "code",
	   "execution_count": null,
	   "metadata": {
	    "collapsed": true
	   },
	   "outputs": [],
"source": [
"T0 = 37+273; P = 40; g = 1.4;\n",
"function [x] = speed(a,b,f)\n",
"  N = 100;\n",
"  eps = 1e-5;\n",
"  if((f(a)*f(b))>0) then\n",
"    error('no root possible f(a)*f(b)>0');\n",
"    abort;\n",
"  end;\n",
"  if(abs(f(a))<eps) then\n",
"    error('solution at a');\n",
"    abort;\n",
"  end\n",
"  if(abs(f(b))<eps) then\n",
"    error('solution at b');\n",
"    abort;\n",
"  end\n",
"  while(N>0)\n",
"    c = (a+b)/2\n",
"    if(abs(f(c))<eps) then\n",
"      x = c ;\n",
"      x;\n",
"      return;\n",
"    end;\n",
"    if((f(a)*f(c))<0 ) then\n",
"      b = c ;\n",
"    else\n",
"      a = c ;\n",
"    end\n",
"    N = N-1;\n",
"  end\n",
"  error('no convergence');\n",
"  abort;\n",
"endfunction\n",
"\n",
"deff('[y]=p(x)',['y = x^4 + (5*(x^2)) - 3.225 '])\n",
"x = speed(0.5,1,p);\n",
"M = x; // Mach number\n",
"g = 1.4; // gamma\n",
"R = 0.287;\n",
"T = T0/(1+((g-1)/2)*M^2);\n",
"c = sqrt(g*R*T*1000);\n",
"V = c*M;\n",
"P0 = P*((T0/T)^(g/(g-1)));\n",
"disp(M,'Mach number is')\n",
"disp('m/s',V,'Velocity is')\n",
"disp('kPa',P0,'Stagnation pressure is')"
   ]
   }
,
{
		   "cell_type": "markdown",
		   "metadata": {},
		   "source": [
			"## Example 17.2: Calculations_on_canonical_air_diffuser.sce"
		   ]
		  },
  {
"cell_type": "code",
	   "execution_count": null,
	   "metadata": {
	    "collapsed": true
	   },
	   "outputs": [],
"source": [
"P1 = 0.18e03; // in Kpa\n",
"R = 0.287; T1 = 310; P0 = 0.1e03;\n",
"A1 = 0.11; V1 = 267;\n",
"w = (P1/(R*T1))*A1*V1;\n",
"g = 1.4;\n",
"c1 = sqrt(g*R*T1*1000);\n",
"M1 = V1/c1;\n",
"A1A_ = 1.0570; // A1/A* A* = A_\n",
"P1P01 = 0.68207;\n",
"T1T01 = 0.89644;\n",
"F1F_ = 1.0284;\n",
"A2A1 = 0.44/0.11 ; // A2A1 = A2/A1\n",
"A2A_ = A2A1*A1A_;\n",
"M2 = 0.135; P2P02 = 0.987; T2T02 = 0.996; F2F_ = 3.46;\n",
"P2P1 = P2P02/P1P01;\n",
"T2T1 = T2T02/T1T01;\n",
"F2F1 = F2F_/F1F_;\n",
"P2 = P2P1*P1;\n",
"T2 = T2T1*T1;\n",
"A2 = A2A1*A1;\n",
"F1 = P1*A1*(1+g*M1^2);\n",
"F2 = F2F1*F1;\n",
"Tint = F2-F1;\n",
"Text = P0*(A2-A1);\n",
"NT = Tint - Text ;\n",
"disp('kN',NT,'Net thrust is') "
   ]
   }
,
{
		   "cell_type": "markdown",
		   "metadata": {},
		   "source": [
			"## Example 17.3: Calculations_on_air_flow_through_convergent_divergent_nozzle.sce"
		   ]
		  },
  {
"cell_type": "code",
	   "execution_count": null,
	   "metadata": {
	    "collapsed": true
	   },
	   "outputs": [],
"source": [
"M2 = 2.197; P2P0 = 0.0939; T2T0 = 0.5089;\n",
"P0 = 1000; T0 = 360; g = 1.4; R = 0.287; \n",
"P2 = P2P0*P0;\n",
"T2 = T2T0*T0;\n",
"c2 = sqrt(g*R*T2*1000);\n",
"V2 = c2*M2;\n",
"// for air\n",
"P_P0 = 0.528; T_T0 = 0.833; // T_ == T*\n",
"P_ = P_P0*P0; T_ = T_T0*T0;\n",
"rho_ = P_/(R*T_);\n",
"V_ = sqrt(g*R*T_*1000);\n",
"At = 500e-06; // throat area\n",
"w = At*V_*rho_;\n",
"disp('When divergent section act as a nozzle')\n",
"disp('kg/s',w,'Maximum flow rate of air is')\n",
"disp('K',T2,'Static temperature is')\n",
"disp('kPa',P2,'Static Pressure is')\n",
"disp('m/s',V2,'Velocity at the exit from the nozzle is')\n",
"// Part (b)\n",
"Mb = 0.308; \n",
"P2P0b = 0.936;\n",
"T2T0b = 0.9812;\n",
"P2b = P2P0b*P0;\n",
"T2b = T2T0b*T0;\n",
"c2b = sqrt(g*R*T2b*1000);\n",
"V2b = c2b*Mb; \n",
"disp('When divergent section act as a diffuser')\n",
"disp('kg/s',w,'Maximum flow rate of air is')\n",
"disp('K',T2b,'Static temperature is')\n",
"disp('kPa',P2b,'Static Pressure is')\n",
"disp('m/s',V2b,'Velocity at the exit from the nozzle is')\n",
"\n",
" \n",
"\n",
""
   ]
   }
,
{
		   "cell_type": "markdown",
		   "metadata": {},
		   "source": [
			"## Example 17.4: Calculations_on_pitot_tube_immersed_in_a_supersonic_flow.sce"
		   ]
		  },
  {
"cell_type": "code",
	   "execution_count": null,
	   "metadata": {
	    "collapsed": true
	   },
	   "outputs": [],
"source": [
"Px = 16kPa; Poy = 70kPa;\n",
"Mx = 1.735; Pyx = 3.34; // Pyx = Py/Px\n",
"rho_yx = 2.25;\n",
"Tyx = 1.483; Poyox = 0.84; My = 0.631;\n",
"Tox = 573; Toy = Tox;\n",
"Tx = Tox/(1+((g-1)/2)*Mx^2);\n",
"Ty = Tyx*Tx;\n",
"Pox = Poy/Poyox ;\n",
"// From table\n",
"Mx = 1.735;\n",
"disp(Mx,'Mach number of the tunnel is')"
   ]
   }
,
{
		   "cell_type": "markdown",
		   "metadata": {},
		   "source": [
			"## Example 17.5: Calculations_on_a_CD_nozzle_operating_at_off_design_condition.sce"
		   ]
		  },
  {
"cell_type": "code",
	   "execution_count": null,
	   "metadata": {
	    "collapsed": true
	   },
	   "outputs": [],
"source": [
"Ax = 18.75; A_ = 12.50; // A_= A*\n",
"AA_ = 1.5; // A/A*\n",
"Mx = 1.86; Pxox = 0.159; R = 0.287;\n",
"Pox = 0.21e03; // in kPa\n",
"Px = Pxox*Pox;\n",
"// from the gas table on normal shock\n",
"Mx = 1.86; My = 0.604; Pyx = 3.87; Poyx = 4.95; Poyox = 0.786;\n",
"Py = Pyx*Px;\n",
"Poy = Poyx*Px;\n",
"My = 0.604;\n",
"Ay_ = 1.183;\n",
"A2 = 25; Ay = 18.75;\n",
"A2_ = (A2/Ay)*Ay_;\n",
"// From isentropic table \n",
"M2 = 0.402;\n",
"P2oy = 0.895;\n",
"P2 = P2oy*Poy;\n",
"syx = -R*log(Poy/Pox); // sy-sx\n",
"disp(M2,'Exit mach number is M2')\n",
"disp('kPa',P2,'Exit pressure is')\n",
"disp('kPa',Pox-Poy,'Exit Stagnation pressure is')\n",
"disp('kJ/kg K',syx,'Entropy increase is')"
   ]
   }
,
{
		   "cell_type": "markdown",
		   "metadata": {},
		   "source": [
			"## Example 17.6: Calculations_on_expansion_of_air_through_a_convergent_nozzle.sce"
		   ]
		  },
  {
"cell_type": "code",
	   "execution_count": null,
	   "metadata": {
	    "collapsed": true
	   },
	   "outputs": [],
"source": [
"g = 1.4;R = 0.287;  d = 1.4; // del \n",
"P0 = 1.4; // in bar\n",
"T0 = 280; T1 = T0;\n",
"cp = 1.005; A2 = 0.0013\n",
"P_ = P0/((g+1)/2)^(d/(d-1)) ; // P_ = P*\n",
"P1 = P0; Pb = 1; P2 = Pb;\n",
"T2 = T1*(P2/P1)^((d-1)/d);\n",
"V2 = sqrt(2*cp*(T1-T2)*1000);\n",
"m_dot = (A2*V2*P2*100)/(R*T2);\n",
"disp('kg/s',m_dot,'Mass flow rate is')\n",
"disp('The mass flow rate can be increased by raising the supply pressure')"
   ]
   }
,
{
		   "cell_type": "markdown",
		   "metadata": {},
		   "source": [
			"## Example 17.7: Calculations_on_an_ideal_gas_undergoing_a_normal_shock.sce"
		   ]
		  },
  {
"cell_type": "code",
	   "execution_count": null,
	   "metadata": {
	    "collapsed": true
	   },
	   "outputs": [],
"source": [
"Mx = 1.8; Pyx = 3.6133;\n",
"Px = 0.5; Tx = 280; Ty = 429;\n",
"Py = Pyx*Px; cp = 1.005;\n",
"disp('bar',Py,'Pressure Py is')\n",
"Pxox = 0.17404;\n",
"Pox = Px/Pxox;\n",
"disp('bar',Pox,'Stagnation pressure is')\n",
"Txox = 0.60680;\n",
"Tox = Tx/Txox; \n",
"disp('K',Tox,'Stagnation temperature is')\n",
"sysx = cp*log(Ty/Tx)-R*log(Py/Px);\n",
"disp('kJ/kg K',syx,'The change in specific entropy is')"
   ]
   }
],
"metadata": {
		  "kernelspec": {
		   "display_name": "Scilab",
		   "language": "scilab",
		   "name": "scilab"
		  },
		  "language_info": {
		   "file_extension": ".sce",
		   "help_links": [
			{
			 "text": "MetaKernel Magics",
			 "url": "https://github.com/calysto/metakernel/blob/master/metakernel/magics/README.md"
			}
		   ],
		   "mimetype": "text/x-octave",
		   "name": "scilab",
		   "version": "0.7.1"
		  }
		 },
		 "nbformat": 4,
		 "nbformat_minor": 0
}
