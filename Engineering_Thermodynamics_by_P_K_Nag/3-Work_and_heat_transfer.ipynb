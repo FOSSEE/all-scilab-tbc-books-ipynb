{
"cells": [
 {
		   "cell_type": "markdown",
	   "metadata": {},
	   "source": [
       "# Chapter 3: Work and heat transfer"
	   ]
	},
{
		   "cell_type": "markdown",
		   "metadata": {},
		   "source": [
			"## Example 3.10: Calculation_of_work_done_by_piston_cylinder_system.sce"
		   ]
		  },
  {
"cell_type": "code",
	   "execution_count": null,
	   "metadata": {
	    "collapsed": true
	   },
	   "outputs": [],
"source": [
"P1 = 100; P2 = 37.9; P3 = 14.4;\n",
"V1 = 0.1; V2 = 0.2; V3 = 0.4;\n",
"n1 = (log(P1/P2))/(log(V2/V1));\n",
"n2 = (log(P2/P3))/(log(V3/V2));\n",
"// n1 = n2\n",
"W = ((P1*V1)-(P3*V3))/(n1-1);\n",
"disp('kJ',W,'Work done by the system is')"
   ]
   }
,
{
		   "cell_type": "markdown",
		   "metadata": {},
		   "source": [
			"## Example 3.11: Calculation_of_work_done_in_PV_cycle.sce"
		   ]
		  },
  {
"cell_type": "code",
	   "execution_count": null,
	   "metadata": {
	    "collapsed": true
	   },
	   "outputs": [],
"source": [
"P1 = 20*1.01325e05;\n",
"V1 = 0.04; V2 = 2*V1;\n",
"n = 1.45;\n",
"P2 = (V1/V2)^n*P1;\n",
"W12 = ((P1*V1)-(P2*V2))/(n-1);\n",
"W23 = P2*(V2-V1);\n",
"Wc = W12-W23;\n",
"disp('J',Wc,'Work done in the cycle is') "
   ]
   }
,
{
		   "cell_type": "markdown",
		   "metadata": {},
		   "source": [
			"## Example 3.1: Calculation_of_magnitude_of_velocity.sce"
		   ]
		  },
  {
"cell_type": "code",
	   "execution_count": null,
	   "metadata": {
	    "collapsed": true
	   },
	   "outputs": [],
"source": [
"V1 = 100; // Initial velocity in m/s\n",
"g = 9.81; // Acceleration due to gravity in m/s2\n",
"z1 = 100; // Initial elevation in m\n",
"V = sqrt((2*g*z1)+(V1)^2); // Final velocity in m/s2\n",
"disp('m/s',V,'The velocity of the object just before ir hits the ground is')"
   ]
   }
,
{
		   "cell_type": "markdown",
		   "metadata": {},
		   "source": [
			"## Example 3.2: Calculation_of_work_done_on_atmosphere_by_balloon.sce"
		   ]
		  },
  {
"cell_type": "code",
	   "execution_count": null,
	   "metadata": {
	    "collapsed": true
	   },
	   "outputs": [],
"source": [
"dV = 0.5; // Change in volume in m3\n",
"P = 101.325e03; // Atmospheric pressure in N/m2\n",
"Wd = P*dV; // Work done in J\n",
"disp('KJ',Wd/1000,'The amount of work done upon the atmosphere by the ballon is')"
   ]
   }
,
{
		   "cell_type": "markdown",
		   "metadata": {},
		   "source": [
			"## Example 3.3: Calculation_of_work_done_by_atmosphere.sce"
		   ]
		  },
  {
"cell_type": "code",
	   "execution_count": null,
	   "metadata": {
	    "collapsed": true
	   },
	   "outputs": [],
"source": [
"dV = 0.6; // Change in volume in m3\n",
"P = 101.325e03; // Atmospheric pressure in N/m2\n",
"Wd = P*dV; // Work done in J\n",
"disp('KJ',Wd/1000,'The displacement work done by the air is')"
   ]
   }
,
{
		   "cell_type": "markdown",
		   "metadata": {},
		   "source": [
			"## Example 3.4: Calculation_of_net_work_transfer_for_the_system.sce"
		   ]
		  },
  {
"cell_type": "code",
	   "execution_count": null,
	   "metadata": {
	    "collapsed": true
	   },
	   "outputs": [],
"source": [
"T = 1.275e-03; // Torque acting against the fluid in N\n",
"N = 10000; // Number of revolutions\n",
"W1 = 2*%pi*T*N; // Work done by stirring device upon the system\n",
"P = 101.325e03; // Atmospheric pressure in N/m2\n",
"d = 0.6; // Piston diameter in m\n",
"A = (%pi/4)*(d)^2; // Piston area in m\n",
"L = 0.80; // Displacement of diameter in m\n",
"W2 = (P*A*L)/1000; // Work done by the system on the surroundings i KJ\n",
"W = -W1+W2; // Net work tranfer for the system\n",
"disp('KJ',W,'The Net work tranfer for the system is')"
   ]
   }
,
{
		   "cell_type": "markdown",
		   "metadata": {},
		   "source": [
			"## Example 3.5: Calculation_of_net_rate_of_work_transfer_from_the_gas_to_piston.sce"
		   ]
		  },
  {
"cell_type": "code",
	   "execution_count": null,
	   "metadata": {
	    "collapsed": true
	   },
	   "outputs": [],
"source": [
"ad = 5.5e-04; // Area of indicator diagram\n",
"ld = 0.06; // Length of diagram\n",
"k = 147e06; // Spring constant in MPa/m\n",
"w = 150; // Speed of engine\n",
"L = 1.2 ; // Stroke of piston\n",
"d = 0.8; // Diameter of the cylinder in m\n",
"A = (%pi/4)*(0.8^2); // Area of cylinder\n",
"Pm = (ad/ld)*k; // Effective pressure\n",
"W1 = Pm*L*A*w; // Work done in 1 minute\n",
"W = (12*W1)/60; // The rate of work transfer gas to the piston in MJ/s\n",
"disp('kW',W/1000,'The rate of work transfer gas to the piston is')"
   ]
   }
,
{
		   "cell_type": "markdown",
		   "metadata": {},
		   "source": [
			"## Example 3.6: Calculation_of_dimension_of_cylindrical_furnace.sce"
		   ]
		  },
  {
"cell_type": "code",
	   "execution_count": null,
	   "metadata": {
	    "collapsed": true
	   },
	   "outputs": [],
"source": [
"Tm = 1535; // Melting point of iron on degree\n",
"Ti = 15; // Initial temperature\n",
"Tf = 1650; // Final temperature\n",
"Lh = 270e03; // Latent heat of iron in J/Kg\n",
"ml = 29.93; // Atomic weight of iron in liquid state\n",
"m = 56; // Atomoc weight of iron\n",
"sh = 0.502e03; // Specific heat of iron in J/Kg\n",
"d = 6900; // Density of molten metal in kg/m3\n",
"H = (Tm-Ti)*sh + Lh + (ml/m)*(Tf-Tm)*1000; // Heat required\n",
"Mr = 5e03; // Melting rate in Kg/h\n",
"Hr = H*Mr ; // Rate of heat suppy\n",
"HrA = Hr/(0.7*3600) // Actual rate of heat supply\n",
"disp('W',HrA,'Rating of furnace would be')\n",
"V = (3*Mr)/d; // Volume required in m3\n",
"d = ((V/2)*(4/%pi))*(1/3); // Diameter of cylinder of furnace in m\n",
"l = 2*d; // Length of cylinder of furnace in m\n",
"disp('m',l,' Length of cylinder of furnace is')"
   ]
   }
,
{
		   "cell_type": "markdown",
		   "metadata": {},
		   "source": [
			"## Example 3.7: Calculations_on_alluminium_furnace.sce"
		   ]
		  },
  {
"cell_type": "code",
	   "execution_count": null,
	   "metadata": {
	    "collapsed": true
	   },
	   "outputs": [],
"source": [
"SH = 0.9; // Specific heat of alluminium in solid state \n",
"L = 390; // Latent heat\n",
"aw = 27; // Atomic weight\n",
"D = 2400; // Density in molten state\n",
"Tf = 700+273; // Final temperature\n",
"Tm = 660+273; // Melting point of aluminium\n",
"Ti = 15+273; // Intial temperature\n",
"HR = SH*(Tm-Ti)+L+(29.93/27)*(Tf-Tm); // Heat requires\n",
"HS = HR/0.7 ; // Heat supplied\n",
"RM = 217*1000*3600/HS ; // From the data of problem 3.7\n",
"V = 2.18; // Volume\n",
"M = V*D;\n",
"disp('tonnes',M*0.001,'Mass of alluminium that can be melted is')\n",
"disp('kg/h',RM,'Rate at which alluminium can be melted is')"
   ]
   }
,
{
		   "cell_type": "markdown",
		   "metadata": {},
		   "source": [
			"## Example 3.8: Calculation_on_work_required_for_automization.sce"
		   ]
		  },
  {
"cell_type": "code",
	   "execution_count": null,
	   "metadata": {
	    "collapsed": true
	   },
	   "outputs": [],
"source": [
"dd = 60e-06;\n",
"mw = 1;\n",
"st = 0.07;\n",
"dw = 1000;\n",
"dp = 15e-03;\n",
"N = (mw*6)/(%pi*dd^3*dw);\n",
"Af = %pi*dd^2*N;\n",
"S_L = 4/(dp*dw);\n",
"W = st*(100-S_L);\n",
"disp('J',W,'Work done during automization is')"
   ]
   }
,
{
		   "cell_type": "markdown",
		   "metadata": {},
		   "source": [
			"## Example 3.9: Calcultion_on_electric_motor.sce"
		   ]
		  },
  {
"cell_type": "code",
	   "execution_count": null,
	   "metadata": {
	    "collapsed": true
	   },
	   "outputs": [],
"source": [
"dc = 40e-02;\n",
"L = 30e-02;\n",
"P = 1e05; // Pressure in Pascal\n",
"I = 0.5;\n",
"V = 24;\n",
"t = 15*60; // in seconds\n",
"Wm = V*I*t;\n",
"Ws = 0.9*Wm;\n",
"W = P*(%pi/4)*dc^2*L;\n",
"disp('J',Wm,'Work input to the motor is')\n",
"disp('J',Ws,'Work input to the stirrer is')\n",
"disp('J',W,'Work done by the fluid on the atmosphere is')"
   ]
   }
],
"metadata": {
		  "kernelspec": {
		   "display_name": "Scilab",
		   "language": "scilab",
		   "name": "scilab"
		  },
		  "language_info": {
		   "file_extension": ".sce",
		   "help_links": [
			{
			 "text": "MetaKernel Magics",
			 "url": "https://github.com/calysto/metakernel/blob/master/metakernel/magics/README.md"
			}
		   ],
		   "mimetype": "text/x-octave",
		   "name": "scilab",
		   "version": "0.7.1"
		  }
		 },
		 "nbformat": 4,
		 "nbformat_minor": 0
}
