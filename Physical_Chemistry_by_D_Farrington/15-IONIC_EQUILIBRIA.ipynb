{
"cells": [
 {
		   "cell_type": "markdown",
	   "metadata": {},
	   "source": [
       "# Chapter 15: IONIC EQUILIBRIA"
	   ]
	},
{
		   "cell_type": "markdown",
		   "metadata": {},
		   "source": [
			"## Example 15.10: example_10.sce"
		   ]
		  },
  {
"cell_type": "code",
	   "execution_count": null,
	   "metadata": {
	    "collapsed": true
	   },
	   "outputs": [],
"source": [
"clc\n",
"//initialisation of variables\n",
"pH= 9.26\n",
"M= 0.02 //N\n",
"M1= 0.01 ///N\n",
"//CALCULATIONS\n",
"pH1= pH+log(M1/M)\n",
"//RESULTS\n",
"printf ('pH = %.2f ',pH1)"
   ]
   }
,
{
		   "cell_type": "markdown",
		   "metadata": {},
		   "source": [
			"## Example 15.11: example_11.sce"
		   ]
		  },
  {
"cell_type": "code",
	   "execution_count": null,
	   "metadata": {
	    "collapsed": true
	   },
	   "outputs": [],
"source": [
"clc\n",
"//initialisation of variables\n",
"pKa= 6.84\n",
"n= 0.04 //mole\n",
"n1= 0.02 //mole\n",
"n2= 0.001 //mole\n",
"pH3= 7\n",
"//CALCULATIONS\n",
"pH= pKa+log10(n/n1)\n",
"pH1= pKa+log10((n-n2)/(n1+n2))\n",
"dpH= pH-pH1\n",
"pH2= -log10(n2)\n",
"dpH1= pH3-pH2\n",
"//RESULTS\n",
"printf ('pH = %.2f ',pH1)\n",
"printf ('\n dpH = %.2f ',dpH)\n",
"printf ('\n dpH = %.2f ',dpH1)"
   ]
   }
,
{
		   "cell_type": "markdown",
		   "metadata": {},
		   "source": [
			"## Example 15.1: example_1.sce"
		   ]
		  },
  {
"cell_type": "code",
	   "execution_count": null,
	   "metadata": {
	    "collapsed": true
	   },
	   "outputs": [],
"source": [
"clc\n",
"//initialisation of variables\n",
"c= 8*10^-5 //molar\n",
"n= 2\n",
"//CALCULATIONS\n",
"Ksp= c^3*n^2\n",
"x= Ksp*10^6\n",
"//RESULTS\n",
"printf ('solubility product = %.1e ',Ksp)\n",
"printf ('\n solubility = %.1e ',x)"
   ]
   }
,
{
		   "cell_type": "markdown",
		   "metadata": {},
		   "source": [
			"## Example 15.2: example_2.sce"
		   ]
		  },
  {
"cell_type": "code",
	   "execution_count": null,
	   "metadata": {
	    "collapsed": true
	   },
	   "outputs": [],
"source": [
"clc\n",
"//initialisation of variables\n",
"Ksp= 2*10^-12\n",
"M= 8.84*10^-5 //molar\n",
"n= 2\n",
"//CALCULATIONS\n",
"r= (Ksp/(n^2*M^3))^(1/3)\n",
"//RESULTS\n",
"printf ('mean ionic activity coefficient = %.1f ',r)"
   ]
   }
,
{
		   "cell_type": "markdown",
		   "metadata": {},
		   "source": [
			"## Example 15.3: example_3.sce"
		   ]
		  },
  {
"cell_type": "code",
	   "execution_count": null,
	   "metadata": {
	    "collapsed": true
	   },
	   "outputs": [],
"source": [
"clc\n",
"//initialisation of variables\n",
"n= 2\n",
"C= 0.01 //M\n",
"//CALCULATIONS\n",
"r= 10^(-0.509*n*sqrt(C))\n",
"//RESULTS\n",
"printf ('mean ionic activity coefficient = %.2f ',r)"
   ]
   }
,
{
		   "cell_type": "markdown",
		   "metadata": {},
		   "source": [
			"## Example 15.4: example_4.sce"
		   ]
		  },
  {
"cell_type": "code",
	   "execution_count": null,
	   "metadata": {
	    "collapsed": true
	   },
	   "outputs": [],
"source": [
"clc\n",
"//initialisation of variables\n",
"M= 18 //gms\n",
"k= 5.5*10^-8 //ohm^-1 cm^-1\n",
"lc= 349.8 //cm^2 equiv^-1 ohm^-1\n",
"la= 198 //cm^2 equiv^-1 ohm^-1\n",
"//CALCULATIONS\n",
"A= M*k\n",
"A0= lc+la\n",
"a= A/A0\n",
"a1= 1000*a/M\n",
"Kw= a1*a1\n",
"//RESULTS\n",
"printf ('degree of ionisation = %.1e ',a1)\n",
"printf ('\n ion product of water = %.1e ',Kw)"
   ]
   }
,
{
		   "cell_type": "markdown",
		   "metadata": {},
		   "source": [
			"## Example 15.5: example_5.sce"
		   ]
		  },
  {
"cell_type": "code",
	   "execution_count": null,
	   "metadata": {
	    "collapsed": true
	   },
	   "outputs": [],
"source": [
"clc\n",
"//initialisation of variables\n",
"Ka= 1.772*10^-4\n",
"//CALCULATIONS\n",
"pK= -log10(Ka)\n",
"//RESULTS\n",
"printf ('pKa = %.2f ',pK)"
   ]
   }
,
{
		   "cell_type": "markdown",
		   "metadata": {},
		   "source": [
			"## Example 15.6: example_6.sce"
		   ]
		  },
  {
"cell_type": "code",
	   "execution_count": null,
	   "metadata": {
	    "collapsed": true
	   },
	   "outputs": [],
"source": [
"clc\n",
"//initialisation of variables\n",
"K= 1.75*10^-5\n",
"c= 0.01 //M\n",
"//CALCULATIONS\n",
"r= 10^(-0.509*sqrt(c))\n",
"Ka= K/r^2\n",
"//RESULTS\n",
"printf ('ionisation constant = %.2e ',Ka)"
   ]
   }
,
{
		   "cell_type": "markdown",
		   "metadata": {},
		   "source": [
			"## Example 15.7: example_7.sce"
		   ]
		  },
  {
"cell_type": "code",
	   "execution_count": null,
	   "metadata": {
	    "collapsed": true
	   },
	   "outputs": [],
"source": [
"clc\n",
"//initialisation of variables\n",
"ka= 1.75*10^-5\n",
"ca= 0.1 //mole lit\n",
"//CALCULATIONS\n",
"pH= -log10(sqrt(ka*ca))\n",
"//RESULTS\n",
"printf ('pH = %.2f ',pH)"
   ]
   }
,
{
		   "cell_type": "markdown",
		   "metadata": {},
		   "source": [
			"## Example 15.8: example_8.sce"
		   ]
		  },
  {
"cell_type": "code",
	   "execution_count": null,
	   "metadata": {
	    "collapsed": true
	   },
	   "outputs": [],
"source": [
"clc\n",
"//initialisation of variables\n",
"kw= 10^-14 \n",
"ka= 2.69*10^-5\n",
"c= 0.1 //N\n",
"//CALCULATIONS\n",
"pH= -log10(sqrt(kw*ka/c))\n",
"//RESULTS\n",
"printf ('pH = %.2f ',pH)"
   ]
   }
,
{
		   "cell_type": "markdown",
		   "metadata": {},
		   "source": [
			"## Example 15.9: example_9.sce"
		   ]
		  },
  {
"cell_type": "code",
	   "execution_count": null,
	   "metadata": {
	    "collapsed": true
	   },
	   "outputs": [],
"source": [
"clc\n",
"//initialisation of variables\n",
"pH= 4.57\n",
"M= 0.03 //mole litre^-1\n",
"M1= 0.1 //mole litre^-1\n",
"//CALCULATIONS\n",
"pH1= pH+log10(M1/M)\n",
"//RESULTS\n",
"printf ('pH = %.2f ',pH1)"
   ]
   }
],
"metadata": {
		  "kernelspec": {
		   "display_name": "Scilab",
		   "language": "scilab",
		   "name": "scilab"
		  },
		  "language_info": {
		   "file_extension": ".sce",
		   "help_links": [
			{
			 "text": "MetaKernel Magics",
			 "url": "https://github.com/calysto/metakernel/blob/master/metakernel/magics/README.md"
			}
		   ],
		   "mimetype": "text/x-octave",
		   "name": "scilab",
		   "version": "0.7.1"
		  }
		 },
		 "nbformat": 4,
		 "nbformat_minor": 0
}
