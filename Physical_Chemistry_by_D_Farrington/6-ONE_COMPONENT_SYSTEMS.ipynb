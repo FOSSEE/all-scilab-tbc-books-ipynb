{
"cells": [
 {
		   "cell_type": "markdown",
	   "metadata": {},
	   "source": [
       "# Chapter 6: ONE COMPONENT SYSTEMS"
	   ]
	},
{
		   "cell_type": "markdown",
		   "metadata": {},
		   "source": [
			"## Example 6.1: example_1.sce"
		   ]
		  },
  {
"cell_type": "code",
	   "execution_count": null,
	   "metadata": {
	    "collapsed": true
	   },
	   "outputs": [],
"source": [
"clc \n",
"//initialisation of variables\n",
"G= 28.6 //gms\n",
"R= 0.08205 //l-atm mole^-1 deg^-1\n",
"T= 30 //C\n",
"M= 153.8 //gms\n",
"v= 20.01 //l\n",
"//CAALCULATIONS\n",
"p= G*R*(273.1+T)*760/(M*v)\n",
"p1= p/(1+(p/760))\n",
"//RESULTS\n",
"printf ('vapour pressure using ideal gas = %.f mm',p)\n",
"printf ('\n vapour pressure using equation = %.f mm',p1)\n",
""
   ]
   }
,
{
		   "cell_type": "markdown",
		   "metadata": {},
		   "source": [
			"## Example 6.2: example_2.sce"
		   ]
		  },
  {
"cell_type": "code",
	   "execution_count": null,
	   "metadata": {
	    "collapsed": true
	   },
	   "outputs": [],
"source": [
"clc \n",
"//initialisation of variables\n",
"T= 100 //C\n",
"Vv= 30.199 //l mole^-1\n",
"Vl= 0.01878 //l mole^-1\n",
"H= 539.7//cal g^-1\n",
"m= 18.01 //g mole^-1\n",
"R= 0.04129 //l-atm cal^-1\n",
"//CALCULATIONS\n",
"r= H*m*R*760/((273.1+T)*(Vv-Vl))\n",
"r1= 1/r\n",
"//RESULTS\n",
"printf ('change in boling point of water per mm = %.3f deg mm^-1',r1)\n",
""
   ]
   }
,
{
		   "cell_type": "markdown",
		   "metadata": {},
		   "source": [
			"## Example 6.3: example_3.sce"
		   ]
		  },
  {
"cell_type": "code",
	   "execution_count": null,
	   "metadata": {
	    "collapsed": true
	   },
	   "outputs": [],
"source": [
"clc \n",
"//initialisation of variables\n",
"T= 0 //C\n",
"H= 79.7 //cal g^-1\n",
"vd= -9.06*10^-5 //l g^-1\n",
"R= 0.04129 //l-atm cal^-1\n",
"//CALCULATIONS\n",
"r= H*R/((273.15+T)*vd)\n",
"//RESULTS\n",
"printf ('change in pressure per degree= %.f atm deg^-1',r)"
   ]
   }
,
{
		   "cell_type": "markdown",
		   "metadata": {},
		   "source": [
			"## Example 6.4: example_4.sce"
		   ]
		  },
  {
"cell_type": "code",
	   "execution_count": null,
	   "metadata": {
	    "collapsed": true
	   },
	   "outputs": [],
"source": [
"clc \n",
"//initialisation of variables\n",
"y1= 32.47*10^-4\n",
"y2= 34.71*10^-4 \n",
"x1= 1.625\n",
"x2= 1.107\n",
"R= 1.987 //cal mole^-1 K^-1\n",
"//CALCULATIONS\n",
"slope= (x2-x1)/(y2-y1)\n",
"Hvap= -slope*2.303*R\n",
"//RESULTS\n",
"printf ('Heat of vapourization= %.f cal mole^-1',Hvap)"
   ]
   }
,
{
		   "cell_type": "markdown",
		   "metadata": {},
		   "source": [
			"## Example 6.5: example_5.sce"
		   ]
		  },
  {
"cell_type": "code",
	   "execution_count": null,
	   "metadata": {
	    "collapsed": true
	   },
	   "outputs": [],
"source": [
"clc \n",
"//initialisation of variables\n",
"H= 342 //cal mole^-1 g^-1\n",
"G= 21 //gms\n",
"T= 60 //C\n",
"R= 1.987 //cal / mol K\n",
"//CALCULATIONS\n",
"Hvap= G*H\n",
"P1= 1/(%e^(Hvap*9/(2.303*R*(273.1+T)*H)))\n",
"//RESULTS\n",
"printf ('molar heat of vapourization = %.f cal mole^-1',Hvap)\n",
""
   ]
   }
],
"metadata": {
		  "kernelspec": {
		   "display_name": "Scilab",
		   "language": "scilab",
		   "name": "scilab"
		  },
		  "language_info": {
		   "file_extension": ".sce",
		   "help_links": [
			{
			 "text": "MetaKernel Magics",
			 "url": "https://github.com/calysto/metakernel/blob/master/metakernel/magics/README.md"
			}
		   ],
		   "mimetype": "text/x-octave",
		   "name": "scilab",
		   "version": "0.7.1"
		  }
		 },
		 "nbformat": 4,
		 "nbformat_minor": 0
}
