{
"cells": [
 {
		   "cell_type": "markdown",
	   "metadata": {},
	   "source": [
       "# Chapter 14: ELECTROMOTIVE FORCE"
	   ]
	},
{
		   "cell_type": "markdown",
		   "metadata": {},
		   "source": [
			"## Example 14.10: example_10.sce"
		   ]
		  },
  {
"cell_type": "code",
	   "execution_count": null,
	   "metadata": {
	    "collapsed": true
	   },
	   "outputs": [],
"source": [
"clc\n",
"//initialisation of variables\n",
"n= 2\n",
"R= 0.0591\n",
"C= 0.01 //M\n",
"C1= 0.1 //M\n",
"//CALCULATIONS\n",
"E= -R*log10(C/C1)/n\n",
"//RESULTS\n",
"printf ('electromotive force of the cell = %.4f volt',E)"
   ]
   }
,
{
		   "cell_type": "markdown",
		   "metadata": {},
		   "source": [
			"## Example 14.1: example_1.sce"
		   ]
		  },
  {
"cell_type": "code",
	   "execution_count": null,
	   "metadata": {
	    "collapsed": true
	   },
	   "outputs": [],
"source": [
"clc\n",
"//initialisation of variables\n",
"n=2\n",
"V= 0.67533 //volt\n",
"E= 23060 //cal volt^-1\n",
"Tc= -6.5*10^-4 //volt deg^-1\n",
"T= 25 //C\n",
"//CALCULATIONS\n",
"G= -n*V*E\n",
"S= n*E*Tc\n",
"H= -n*E*V+n*Tc*E*(273+T)\n",
"//RESULTS\n",
"printf ('dG = %.f cal',G)\n",
"printf ('\n dS = %.f cal deg^-1',S)\n",
"printf ('\n dH = %.f cal',H)"
   ]
   }
,
{
		   "cell_type": "markdown",
		   "metadata": {},
		   "source": [
			"## Example 14.3: example_3.sce"
		   ]
		  },
  {
"cell_type": "code",
	   "execution_count": null,
	   "metadata": {
	    "collapsed": true
	   },
	   "outputs": [],
"source": [
"clc\n",
"//initialisation of variables\n",
"C= 0.01 //M\n",
"C1= 0.02 //M\n",
"n=1\n",
"n1=2\n",
"//CALCULATIONS\n",
"I= 0.5*(C*n^2+C^n^2)\n",
"I1= 0.5*(C1*n^2+C*n1^2)\n",
"I2= 0.5*(C*n1^2+C*n1^2)\n",
"//RESULTS\n",
"printf ('ionic strength of NaCl = %.2f ',I)\n",
"printf ('\n ionic strength of Li2SO4 = %.2f ',I1)\n",
"printf ('\n ionic strength of CuSO4 = %.2f ',I2)"
   ]
   }
,
{
		   "cell_type": "markdown",
		   "metadata": {},
		   "source": [
			"## Example 14.4: example_4.sce"
		   ]
		  },
  {
"cell_type": "code",
	   "execution_count": null,
	   "metadata": {
	    "collapsed": true
	   },
	   "outputs": [],
"source": [
"clc\n",
"//initialisation of variables\n",
"C= 0.1 //M\n",
"V= 0.3524 //volt\n",
"V1= 0.2224 //volt\n",
"V2= 0.1183 //volt\n",
"//CLACULATIONS\n",
"r= 10^((-V+V1+V2)/V2)\n",
"//RESULTS\n",
"printf ('mean ionic activity = %.3f ',r)"
   ]
   }
,
{
		   "cell_type": "markdown",
		   "metadata": {},
		   "source": [
			"## Example 14.5: example_5.sce"
		   ]
		  },
  {
"cell_type": "code",
	   "execution_count": null,
	   "metadata": {
	    "collapsed": true
	   },
	   "outputs": [],
"source": [
"clc\n",
"//initialisation of variables\n",
"n=2 \n",
"F= 96500 //coloumbs\n",
"E= 0.337 //volt\n",
"E1= -0.403 //volt\n",
"//CALCULATIONS\n",
"E0= E-E1\n",
"G= -n*F*E0/4.184\n",
"//RESULTS\n",
"printf ('voltage of cell = %.3f volt',E0)\n",
"printf ('\n gibbs free energy= %.f cal',G)"
   ]
   }
,
{
		   "cell_type": "markdown",
		   "metadata": {},
		   "source": [
			"## Example 14.6: example_6.sce"
		   ]
		  },
  {
"cell_type": "code",
	   "execution_count": null,
	   "metadata": {
	    "collapsed": true
	   },
	   "outputs": [],
"source": [
"clc\n",
"//initialisation of variables\n",
"E= -0.403 //volt\n",
"E1= -0.763 //volt\n",
"//CALCULATIONS\n",
"E0= E-E1\n",
"//RESULTS\n",
"printf ('voltage of cell = %.3f volt',E0)"
   ]
   }
,
{
		   "cell_type": "markdown",
		   "metadata": {},
		   "source": [
			"## Example 14.7: example_7.sce"
		   ]
		  },
  {
"cell_type": "code",
	   "execution_count": null,
	   "metadata": {
	    "collapsed": true
	   },
	   "outputs": [],
"source": [
"clc\n",
"//initialisation of variables\n",
"E= 1.360 //volt\n",
"E1= 0.337 //volt\n",
"F= 965000 //coloumbs\n",
"//CALCULATIONS\n",
"G= -F*(E-E1)/4.1840\n",
"//RESULTS\n",
"printf ('Gibbs free energy = %.f cal',G)"
   ]
   }
,
{
		   "cell_type": "markdown",
		   "metadata": {},
		   "source": [
			"## Example 14.8: example_8.sce"
		   ]
		  },
  {
"cell_type": "code",
	   "execution_count": null,
	   "metadata": {
	    "collapsed": true
	   },
	   "outputs": [],
"source": [
"clc\n",
"//initialisation of variables\n",
"E= -0.126 //volt\n",
"E1= -0.140 //volt\n",
"n=2\n",
"R= 0.0591 //volt\n",
"//CALCULATIONS\n",
"E0= E-E1\n",
"K= 10^((E-E1)*n/R)\n",
"//RESULTS\n",
"printf ('equilibrium constant = %.2f ',K)"
   ]
   }
,
{
		   "cell_type": "markdown",
		   "metadata": {},
		   "source": [
			"## Example 14.9: example_9.sce"
		   ]
		  },
  {
"cell_type": "code",
	   "execution_count": null,
	   "metadata": {
	    "collapsed": true
	   },
	   "outputs": [],
"source": [
"clc\n",
"//initialisation of variables\n",
"E0= 0.0140 //volt\n",
"n= 2\n",
"r= 2\n",
"V= 96500 //coloumbs\n",
"//CALCULATIONS\n",
"E= E0-0.0576*log10(n)\n",
"G= -n*V*E/4.1840\n",
"//RESULTS\n",
"printf ('gibbs free energy = %.f cal',G)"
   ]
   }
],
"metadata": {
		  "kernelspec": {
		   "display_name": "Scilab",
		   "language": "scilab",
		   "name": "scilab"
		  },
		  "language_info": {
		   "file_extension": ".sce",
		   "help_links": [
			{
			 "text": "MetaKernel Magics",
			 "url": "https://github.com/calysto/metakernel/blob/master/metakernel/magics/README.md"
			}
		   ],
		   "mimetype": "text/x-octave",
		   "name": "scilab",
		   "version": "0.7.1"
		  }
		 },
		 "nbformat": 4,
		 "nbformat_minor": 0
}
