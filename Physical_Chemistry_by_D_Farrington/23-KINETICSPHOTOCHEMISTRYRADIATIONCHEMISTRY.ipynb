{
"cells": [
 {
		   "cell_type": "markdown",
	   "metadata": {},
	   "source": [
       "# Chapter 23: KINETICSPHOTOCHEMISTRYRADIATIONCHEMISTRY"
	   ]
	},
{
		   "cell_type": "markdown",
		   "metadata": {},
		   "source": [
			"## Example 23.1: example_1.sce"
		   ]
		  },
  {
"cell_type": "code",
	   "execution_count": null,
	   "metadata": {
	    "collapsed": true
	   },
	   "outputs": [],
"source": [
"clc\n",
"//initialisation of variables\n",
"k= 9.12*10^-4 //sec^-1\n",
"H= 25100 //cal mole^-1\n",
"S= -10.6 //cal deg^-1 mole^-1\n",
"//RESULTS\n",
"printf ('Entropy of activation = %.1f cal deg^-1 mole^-1',S)"
   ]
   }
,
{
		   "cell_type": "markdown",
		   "metadata": {},
		   "source": [
			"## Example 23.2: example_2.sce"
		   ]
		  },
  {
"cell_type": "code",
	   "execution_count": null,
	   "metadata": {
	    "collapsed": true
	   },
	   "outputs": [],
"source": [
"clc\n",
"//initialisation of variables\n",
"h= 6.62*10^-27 //ergs/sec\n",
"c= 3*10^10 //cm/sec\n",
"wl= 4358 //A\n",
"I= 14000 //ergs sec^-1\n",
"p= 80.1 //percent\n",
"t= 1105 //sec\n",
"n= 0.075 //millimole\n",
"//CALCULATIONS\n",
"E= h*c/(wl*10^-8)\n",
"q= I*p*t/(100*E)\n",
"M= 6*10^23*n*10^-3\n",
"P= M/q\n",
"//RESULTS\n",
"printf ('quantum yield = %.1f ',P)"
   ]
   }
,
{
		   "cell_type": "markdown",
		   "metadata": {},
		   "source": [
			"## Example 23.4: example_4.sce"
		   ]
		  },
  {
"cell_type": "code",
	   "execution_count": null,
	   "metadata": {
	    "collapsed": true
	   },
	   "outputs": [],
"source": [
"clc\n",
"//initialisation of variables\n",
"a= 43560 //ft^-2\n",
"t= 500 //min day^-1\n",
"E= 1000 //cal min^-1 ft^-2\n",
"m= 2 //tons acre^-1\n",
"E1= 4000 //cal gram^-1\n",
"M= 9.07*10^5 //gram ton^-1\n",
"//CALCULATIONS\n",
"Sh= a*t*E*365.26\n",
"Hs= m*M*E1\n",
"r= Hs/Sh\n",
"//RESULTS\n",
"printf ('fraction of solar energy stored = %.3f ',r)"
   ]
   }
,
{
		   "cell_type": "markdown",
		   "metadata": {},
		   "source": [
			"## Example 23.5: example_5.sce"
		   ]
		  },
  {
"cell_type": "code",
	   "execution_count": null,
	   "metadata": {
	    "collapsed": true
	   },
	   "outputs": [],
"source": [
"clc\n",
"//initialisation of variables\n",
"h= 6.625*10^-27 //ergs/mole\n",
"f= 2.65*10^-5 //sec^-1\n",
"c= 3*10^10 //cm/sec\n",
"t= 2\n",
"N= 6*10^23 //molecules\n",
"M= 382 //gms\n",
"E1= 750 //ergs\n",
"//CALCULATIONS\n",
"E= h*c/f\n",
"n1= E1/E\n",
"m= n1/(t*7)\n",
"G= m*M/N\n",
"//RESULTS\n",
"printf ('number of quanta = %.2e ',n1)\n",
"printf ('\n number of quanta = %.2e molecules',m)\n",
"printf ('\n grams per day= %.2e gms',G)"
   ]
   }
],
"metadata": {
		  "kernelspec": {
		   "display_name": "Scilab",
		   "language": "scilab",
		   "name": "scilab"
		  },
		  "language_info": {
		   "file_extension": ".sce",
		   "help_links": [
			{
			 "text": "MetaKernel Magics",
			 "url": "https://github.com/calysto/metakernel/blob/master/metakernel/magics/README.md"
			}
		   ],
		   "mimetype": "text/x-octave",
		   "name": "scilab",
		   "version": "0.7.1"
		  }
		 },
		 "nbformat": 4,
		 "nbformat_minor": 0
}
