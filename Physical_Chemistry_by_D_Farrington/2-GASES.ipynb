{
"cells": [
 {
		   "cell_type": "markdown",
	   "metadata": {},
	   "source": [
       "# Chapter 2: GASES"
	   ]
	},
{
		   "cell_type": "markdown",
		   "metadata": {},
		   "source": [
			"## Example 2.1: example_1.sce"
		   ]
		  },
  {
"cell_type": "code",
	   "execution_count": null,
	   "metadata": {
	    "collapsed": true
	   },
	   "outputs": [],
"source": [
"clc \n",
"//initialisation of variables\n",
"G= 20 //gram\n",
"R= 0.08205 //l-atm /mole K\n",
"T= 30 //C\n",
"P= 740 //mm\n",
"M= 44.01 //l\n",
"//CALCULATIONS\n",
"V= G*R*(273.15+T)*760/(P*M)\n",
"//RESULTS\n",
"printf ('volume occupied by 20 grmas of carbon dioxide= %.1f litre',V)"
   ]
   }
,
{
		   "cell_type": "markdown",
		   "metadata": {},
		   "source": [
			"## Example 2.2: example_2.sce"
		   ]
		  },
  {
"cell_type": "code",
	   "execution_count": null,
	   "metadata": {
	    "collapsed": true
	   },
	   "outputs": [],
"source": [
"clc \n",
"//initialisation of variables\n",
"G= 0.110 //gram\n",
"R= 0.08205 //l-atm /mole K\n",
"T= 26.1 //C\n",
"P= 743 //mm\n",
"V= 0.0270 //l\n",
"//CALCULATIONS\n",
"M= G*R*(273.15+T)*760/(P*V)\n",
"//RESULTS\n",
"printf ('molecular weight of hydrocarbon= %.f g mole^-1',M)"
   ]
   }
,
{
		   "cell_type": "markdown",
		   "metadata": {},
		   "source": [
			"## Example 2.4: example_4.sce"
		   ]
		  },
  {
"cell_type": "code",
	   "execution_count": null,
	   "metadata": {
	    "collapsed": true
	   },
	   "outputs": [],
"source": [
"clc \n",
"//initialisation of variables\n",
"R= 0.08205 //l-atm deg^-1 mole^-1\n",
"T= 25 //K\n",
"n= 1 //mole\n",
"V= 0.5 //lit\n",
"b= 0.04267 //lit mole^-1\n",
"a= 3.592 //lit^2 atm mol^-2\n",
"//CALCULATIONS\n",
"P= R*(273.15+T)/V\n",
"P1= (R*(273.15+T)/(V-b))-(a/V^2)\n",
"//RESULTS\n",
"printf ('pressure calculated using ideal gas law= %.1f atm',P)\n",
"printf ('\n pressure calculated using vander wals equation= %.1f atm',P1)"
   ]
   }
,
{
		   "cell_type": "markdown",
		   "metadata": {},
		   "source": [
			"## Example 2.5: example_5.sce"
		   ]
		  },
  {
"cell_type": "code",
	   "execution_count": null,
	   "metadata": {
	    "collapsed": true
	   },
	   "outputs": [],
"source": [
"clc \n",
"//initialisation of variables\n",
"T= -88 //C\n",
"Tc= 154.4 //K\n",
"Pc= 49.7 //atm\n",
"P= 44.7 //atm\n",
"R= 0.08205 //atm m^3 mole^-1 K^-1\n",
"r= 0.8\n",
"//CALCULATIONS\n",
"V= r*R*(273.15+T)/P\n",
"//RESULTS\n",
"printf ('volume pccupied by mole of oxygen= %.3f litre mole^-1',V)"
   ]
   }
],
"metadata": {
		  "kernelspec": {
		   "display_name": "Scilab",
		   "language": "scilab",
		   "name": "scilab"
		  },
		  "language_info": {
		   "file_extension": ".sce",
		   "help_links": [
			{
			 "text": "MetaKernel Magics",
			 "url": "https://github.com/calysto/metakernel/blob/master/metakernel/magics/README.md"
			}
		   ],
		   "mimetype": "text/x-octave",
		   "name": "scilab",
		   "version": "0.7.1"
		  }
		 },
		 "nbformat": 4,
		 "nbformat_minor": 0
}
