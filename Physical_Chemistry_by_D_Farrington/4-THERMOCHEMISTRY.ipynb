{
"cells": [
 {
		   "cell_type": "markdown",
	   "metadata": {},
	   "source": [
       "# Chapter 4: THERMOCHEMISTRY"
	   ]
	},
{
		   "cell_type": "markdown",
		   "metadata": {},
		   "source": [
			"## Example 4.10: example_10.sce"
		   ]
		  },
  {
"cell_type": "code",
	   "execution_count": null,
	   "metadata": {
	    "collapsed": true
	   },
	   "outputs": [],
"source": [
"clc \n",
"//initialisation of variables\n",
"HNaCl= -97.219 //kcal\n",
"HH2O= -68.3174 //kcal\n",
"HHcl= -39.713 //kcal\n",
"HNaOH= -112.108 //kcal\n",
"//CALCULATIONS\n",
"H298= HNaCl+HH2O-HHcl-HNaOH\n",
"//RESULTS\n",
"printf ('dH298= %.3f kcal ',H298)"
   ]
   }
,
{
		   "cell_type": "markdown",
		   "metadata": {},
		   "source": [
			"## Example 4.11: example_11.sce"
		   ]
		  },
  {
"cell_type": "code",
	   "execution_count": null,
	   "metadata": {
	    "collapsed": true
	   },
	   "outputs": [],
"source": [
"clc \n",
"//initialisation of variables\n",
"T1= 1000 //K\n",
"T2= 300 //K\n",
"k1= 6.0954 //cal deg^-1 mole^-1\n",
"k2= 3.2533*10^-3 //cal deg^-2 mole^-1\n",
"k3= -1.071*10^-6 //cal deg^-3 mole^-1\n",
"//CALCULATIONS\n",
"dH= k1*(T1-T2)+(k2*(T1^2-T2^2)/2)+(k3*(T1^3-T2^3)/3)\n",
"//RESULTS\n",
"printf ('dH= %.f cal mole^-1',dH)"
   ]
   }
,
{
		   "cell_type": "markdown",
		   "metadata": {},
		   "source": [
			"## Example 4.12: example_12.sce"
		   ]
		  },
  {
"cell_type": "code",
	   "execution_count": null,
	   "metadata": {
	    "collapsed": true
	   },
	   "outputs": [],
"source": [
"clc \n",
"//initialisation of variables\n",
"dH273= -79.7 //cal g^-1\n",
"T1= 263 //K\n",
"T2= 273 //K\n",
"dCp= -0.51 //cal mole^-1 deg^-1\n",
"//CALCULATIONS\n",
"H263= dH273+dCp*(T1-T2)\n",
"//RESULTS\n",
"printf ('H263= %.1f cal g^-1',H263)"
   ]
   }
,
{
		   "cell_type": "markdown",
		   "metadata": {},
		   "source": [
			"## Example 4.13: example_13.sce"
		   ]
		  },
  {
"cell_type": "code",
	   "execution_count": null,
	   "metadata": {
	    "collapsed": true
	   },
	   "outputs": [],
"source": [
"clc \n",
"//initialisation of variables\n",
"dH293= -115595.8 //cal \n",
"T1= 1500 //K\n",
"T2= 298 //K\n",
"k1= -5.6146 //cal deg^-1 mole^-1\n",
"k2= 1.8931*10^-3 //cal deg^-2 mole^-1\n",
"k3= 4.723*10^-7 //cal deg^-3 mole^-1\n",
"//CALCULATIONS\n",
"dH=dH293+ k1*(T1-T2)+(k2*(T1^2-T2^2)/2)+(k3*(T1^3-T2^3)/3)\n",
"//RESULTS\n",
"printf ('dH1500= %.f cal ',dH)"
   ]
   }
,
{
		   "cell_type": "markdown",
		   "metadata": {},
		   "source": [
			"## Example 4.1: example_1.sce"
		   ]
		  },
  {
"cell_type": "code",
	   "execution_count": null,
	   "metadata": {
	    "collapsed": true
	   },
	   "outputs": [],
"source": [
"clc \n",
"//initialisation of variables\n",
"E= -1148.93 //kcal mole^-1\n",
"R= 1.987 //cal mole^-1 K^-1\n",
"T= 25 //C\n",
"n=4\n",
"//CALCULATIONS\n",
"E1= (E*1000-R*n*(273.1+T))/1000\n",
"//RESULTS\n",
"printf ('heat absorbed= %.2f kcal mole^-1',E1)"
   ]
   }
,
{
		   "cell_type": "markdown",
		   "metadata": {},
		   "source": [
			"## Example 4.2: example_2.sce"
		   ]
		  },
  {
"cell_type": "code",
	   "execution_count": null,
	   "metadata": {
	    "collapsed": true
	   },
	   "outputs": [],
"source": [
"clc \n",
"//initialisation of variables\n",
"Hr1= -71.03 //kcal\n",
"Hr2= 70.96 //kcal\n",
"//CALCULATIONS\n",
"H= Hr1+Hr2\n",
"//RESULTS\n",
"printf ('Enthalpy of transition= %.2f kcal',H)"
   ]
   }
,
{
		   "cell_type": "markdown",
		   "metadata": {},
		   "source": [
			"## Example 4.3: example_3.sce"
		   ]
		  },
  {
"cell_type": "code",
	   "execution_count": null,
	   "metadata": {
	    "collapsed": true
	   },
	   "outputs": [],
"source": [
"clc \n",
"//initialisation of variables\n",
"Hr1= -70.96 //kcal\n",
"Hr2= -23.49 //kcal\n",
"Hr3= -31.14 //kcal\n",
"Hr4= -68.32 //kcal\n",
"//CALCULATIONS\n",
"H= Hr1+Hr2+Hr3+Hr4\n",
"//RESULTS\n",
"printf ('Enthalpy of formation= %.2f kcal',H)"
   ]
   }
,
{
		   "cell_type": "markdown",
		   "metadata": {},
		   "source": [
			"## Example 4.4: example_4.sce"
		   ]
		  },
  {
"cell_type": "code",
	   "execution_count": null,
	   "metadata": {
	    "collapsed": true
	   },
	   "outputs": [],
"source": [
"clc \n",
"//initialisation of variables\n",
"dH= -310.615 //kcal\n",
"HfCO2= -94.52 //kcal\n",
"HfH2O= -68.3174 //kcal\n",
"//CALCULATIONS\n",
"HfCH2= -dH+2*HfCO2+HfH2O\n",
"//RESULTS\n",
"printf ('Enthalpy of formation of acetylene= %.3f kcal mole^-1',HfCH2)"
   ]
   }
,
{
		   "cell_type": "markdown",
		   "metadata": {},
		   "source": [
			"## Example 4.5: example_5.sce"
		   ]
		  },
  {
"cell_type": "code",
	   "execution_count": null,
	   "metadata": {
	    "collapsed": true
	   },
	   "outputs": [],
"source": [
"clc \n",
"//initialisation of variables\n",
"dH= -687.982 //kcal\n",
"HCO2= -94.0518 //kcal \n",
"HH2O= -68.3174 //kcal\n",
"//CALCULATIONS\n",
"H= -dH+4*HCO2+5*HH2O\n",
"//RESULTSn\n",
"printf ('Enthalpy of formation of n butane= %.3f kcal mole^-1',H)"
   ]
   }
,
{
		   "cell_type": "markdown",
		   "metadata": {},
		   "source": [
			"## Example 4.6: example_6.sce"
		   ]
		  },
  {
"cell_type": "code",
	   "execution_count": null,
	   "metadata": {
	    "collapsed": true
	   },
	   "outputs": [],
"source": [
"clc \n",
"//initialisation of variables\n",
"HfAlO2= -399.1 //kcal\n",
"HfFe2O2= -196.5 //kcal\n",
"//CALCULATIONS\n",
"dH= HfAlO2-HfFe2O2\n",
"//RESULTS\n",
"printf ('Enthalpy change= %.1f kcal mole^-1',dH)"
   ]
   }
,
{
		   "cell_type": "markdown",
		   "metadata": {},
		   "source": [
			"## Example 4.7: example_7.sce"
		   ]
		  },
  {
"cell_type": "code",
	   "execution_count": null,
	   "metadata": {
	    "collapsed": true
	   },
	   "outputs": [],
"source": [
"clc \n",
"//initialisation of variables\n",
"Hr= -17.74 //kcal\n",
"Hr1= 15.31 //kcal\n",
"//CALCULATIONS\n",
"dH= Hr+Hr1\n",
"//RESULTS\n",
"printf ('integral heat of dilution= %.2f kcal ',dH)"
   ]
   }
,
{
		   "cell_type": "markdown",
		   "metadata": {},
		   "source": [
			"## Example 4.8: example_8.sce"
		   ]
		  },
  {
"cell_type": "code",
	   "execution_count": null,
	   "metadata": {
	    "collapsed": true
	   },
	   "outputs": [],
"source": [
"clc \n",
"//initialisation of variables\n",
"dHr= -0.56 //kcal\n",
"dHr1= -18.85 //kcal\n",
"//CALCULATIONS\n",
"dH= dHr+dHr1\n",
"//RESULTS\n",
"printf ('integral heat of hydration= %.2f kcal ',dH)"
   ]
   }
,
{
		   "cell_type": "markdown",
		   "metadata": {},
		   "source": [
			"## Example 4.9: example_9.sce"
		   ]
		  },
  {
"cell_type": "code",
	   "execution_count": null,
	   "metadata": {
	    "collapsed": true
	   },
	   "outputs": [],
"source": [
"clc \n",
"//initialisation of variables\n",
"HfHcl= -22.063 //kcal\n",
"H298= -17.74 //kcal\n",
"//CALCULATIONS\n",
"HfHcl200H2O= HfHcl+H298\n",
"//RESULTS\n",
"printf ('enthalpy of formation= %.2f kcal mole^-1',HfHcl200H2O)"
   ]
   }
],
"metadata": {
		  "kernelspec": {
		   "display_name": "Scilab",
		   "language": "scilab",
		   "name": "scilab"
		  },
		  "language_info": {
		   "file_extension": ".sce",
		   "help_links": [
			{
			 "text": "MetaKernel Magics",
			 "url": "https://github.com/calysto/metakernel/blob/master/metakernel/magics/README.md"
			}
		   ],
		   "mimetype": "text/x-octave",
		   "name": "scilab",
		   "version": "0.7.1"
		  }
		 },
		 "nbformat": 4,
		 "nbformat_minor": 0
}
