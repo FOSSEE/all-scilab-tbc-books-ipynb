{
"cells": [
 {
		   "cell_type": "markdown",
	   "metadata": {},
	   "source": [
       "# Chapter 20: MACROMOLECULES"
	   ]
	},
{
		   "cell_type": "markdown",
		   "metadata": {},
		   "source": [
			"## Example 20.1: example_1.sce"
		   ]
		  },
  {
"cell_type": "code",
	   "execution_count": null,
	   "metadata": {
	    "collapsed": true
	   },
	   "outputs": [],
"source": [
"clc\n",
"//initialisation of variables\n",
"R= 0.082 //l-atm deg^-1 mole^-1\n",
"T= 25 //C\n",
"V= 85*10^-6 //l-atm g^-1\n",
"//CALCULATIONS\n",
"M= R*(273+T)/V\n",
"//RESULTS\n",
"printf ('average molecular weight of this polystrene = %.f g mole^-1',M)"
   ]
   }
,
{
		   "cell_type": "markdown",
		   "metadata": {},
		   "source": [
			"## Example 20.2: example_2.sce"
		   ]
		  },
  {
"cell_type": "code",
	   "execution_count": null,
	   "metadata": {
	    "collapsed": true
	   },
	   "outputs": [],
"source": [
"clc\n",
"//initialisation of variables\n",
"T= 20 //C\n",
"v= 0.01005 //poise\n",
"N= 6*10^23 //molecules\n",
"D= 7.8*10^-7\n",
"//CALCULATIONS\n",
"M= 4*%pi*N/(3*0.75*(D*N*6*%pi*v/(8.31*10^7*(273+T)))^3)\n",
"//RESULTS\n",
"printf ('maximum molecular weight = %.f g mole^-1',M)"
   ]
   }
,
{
		   "cell_type": "markdown",
		   "metadata": {},
		   "source": [
			"## Example 20.3: example_3.sce"
		   ]
		  },
  {
"cell_type": "code",
	   "execution_count": null,
	   "metadata": {
	    "collapsed": true
	   },
	   "outputs": [],
"source": [
"clc\n",
"//initialisation of variables\n",
"w= 2.82*10^7\n",
"t2= 70 //min\n",
"t1= 60 //min\n",
"r2= 6.731 //cm\n",
"r1= 5.949 //cm\n",
"//CALCULATIONS\n",
"s= 2.303*log10(r2/r1)/(w*t2*t1)\n",
"//RESULTS\n",
"printf ('time = %.1e sec',s)"
   ]
   }
,
{
		   "cell_type": "markdown",
		   "metadata": {},
		   "source": [
			"## Example 20.4: example_4.sce"
		   ]
		  },
  {
"cell_type": "code",
	   "execution_count": null,
	   "metadata": {
	    "collapsed": true
	   },
	   "outputs": [],
"source": [
"clc\n",
"//initialisation of variables\n",
"R= 8.31*10^7 //ergs deg^-1 mole^-1\n",
"T= 20 //C\n",
"s= 4.3*10^-13 //sec\n",
"D= 6.15*10^-7 //cm^2 sec^-1\n",
"d= 0.9982 //g/cc\n",
"v= 0.735 //cm^3 g^-1\n",
"//CALCULATIONS\n",
"M= R*(273+T)*s/(D*(1-d*v))\n",
"//RESULTS\n",
"printf ('molecular weight serum albium = %.f g mole^-1',M)"
   ]
   }
,
{
		   "cell_type": "markdown",
		   "metadata": {},
		   "source": [
			"## Example 20.5: example_5.sce"
		   ]
		  },
  {
"cell_type": "code",
	   "execution_count": null,
	   "metadata": {
	    "collapsed": true
	   },
	   "outputs": [],
"source": [
"clc\n",
"//initialisation of variables\n",
"K= 3.7*10^-4\n",
"a= 0.62\n",
"iv= 0.74\n",
"//CALCULATIONS\n",
"M= (iv/K)^(1/a)\n",
"//RESULTS\n",
"printf ('Molecular weight = %.f g mole^-1',M)"
   ]
   }
],
"metadata": {
		  "kernelspec": {
		   "display_name": "Scilab",
		   "language": "scilab",
		   "name": "scilab"
		  },
		  "language_info": {
		   "file_extension": ".sce",
		   "help_links": [
			{
			 "text": "MetaKernel Magics",
			 "url": "https://github.com/calysto/metakernel/blob/master/metakernel/magics/README.md"
			}
		   ],
		   "mimetype": "text/x-octave",
		   "name": "scilab",
		   "version": "0.7.1"
		  }
		 },
		 "nbformat": 4,
		 "nbformat_minor": 0
}
