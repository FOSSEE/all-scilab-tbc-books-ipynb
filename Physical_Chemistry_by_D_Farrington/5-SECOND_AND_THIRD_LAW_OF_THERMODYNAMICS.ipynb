{
"cells": [
 {
		   "cell_type": "markdown",
	   "metadata": {},
	   "source": [
       "# Chapter 5: SECOND AND THIRD LAW OF THERMODYNAMICS"
	   ]
	},
{
		   "cell_type": "markdown",
		   "metadata": {},
		   "source": [
			"## Example 5.10: example_10.sce"
		   ]
		  },
  {
"cell_type": "code",
	   "execution_count": null,
	   "metadata": {
	    "collapsed": true
	   },
	   "outputs": [],
"source": [
"clc \n",
"//initialisation of variables\n",
"R= 1.987 //cal deg^-1 mole^-1\n",
"T= 27 //C\n",
"V1= 24.62 //lit\n",
"V2= 2.462 //lit\n",
"//CALCULATIONS\n",
"wmax= 2.303*R*(273.1+T)*log10(V1/V2)\n",
"dA= - wmax\n",
"dE= 0\n",
"q= dE+wmax\n",
"dH=0\n",
"dG= -R*(273.1+T)*2.303\n",
"dS= dG/(273.1+T)\n",
"dS1= (dH-dG)/(273.1+T)\n",
"//RESULTS\n",
"printf ('W= %.f cal mole^-1',wmax)\n",
"printf ('\n q= %.f cal mole^-1',q)\n",
"printf ('\n dE= %.f cal mole^-1',dE)\n",
"printf ('\n dA= %.f cal mole^-1',dA)\n",
"printf ('\n dS= %.2f cal deg^-1 mole^-1',dS1)\n",
"printf ('\n dG= %.2f cal mole^-1',dG)"
   ]
   }
,
{
		   "cell_type": "markdown",
		   "metadata": {},
		   "source": [
			"## Example 5.1: example_1.sce"
		   ]
		  },
  {
"cell_type": "code",
	   "execution_count": null,
	   "metadata": {
	    "collapsed": true
	   },
	   "outputs": [],
"source": [
"clc \n",
"//initialisation of variables\n",
"q2= 1000 //cal\n",
"T2= 100 //C\n",
"T1= 20 //C\n",
"//CALCULATIONS\n",
"wmax= q2*(T2-T1)/(273.1+T2)\n",
"//RESULTS\n",
"printf ('maximum work= %.f cal ',wmax)"
   ]
   }
,
{
		   "cell_type": "markdown",
		   "metadata": {},
		   "source": [
			"## Example 5.2: example_2.sce"
		   ]
		  },
  {
"cell_type": "code",
	   "execution_count": null,
	   "metadata": {
	    "collapsed": true
	   },
	   "outputs": [],
"source": [
"clc \n",
"//initialisation of variables\n",
"dH= 6896 //cal mole^-1\n",
"T= 68.7 //C\n",
"//CALCULATIONS\n",
"dS= dH/(273.1+T)\n",
"//RESULTS\n",
"printf ('entropy change per mole= %.2f cal deg^-1 mole^-1',dS)"
   ]
   }
,
{
		   "cell_type": "markdown",
		   "metadata": {},
		   "source": [
			"## Example 5.3: example_3.sce"
		   ]
		  },
  {
"cell_type": "code",
	   "execution_count": null,
	   "metadata": {
	    "collapsed": true
	   },
	   "outputs": [],
"source": [
"clc \n",
"//initialisation of variables\n",
"Cp= 6.09 //cal deg^-1 mole^-1\n",
"T1= 30 //C\n",
"T2= 0 //C\n",
"//CALCULATIONS\n",
"dS= 2.303*Cp*log10((273+T1)/(273+T2))\n",
"//RESULTS\n",
"printf ('increase in entropy= %.3f cal deg^-1 mole^-1',dS)"
   ]
   }
,
{
		   "cell_type": "markdown",
		   "metadata": {},
		   "source": [
			"## Example 5.4: example_4.sce"
		   ]
		  },
  {
"cell_type": "code",
	   "execution_count": null,
	   "metadata": {
	    "collapsed": true
	   },
	   "outputs": [],
"source": [
"clc \n",
"//initialisation of variables\n",
"T1= 25 //C\n",
"T2= 600 //C \n",
"k1= 6.0954 \n",
"k2= 3.2533*10^-3 //K\n",
"k3= -10.71*10^-7 //K^-1\n",
"//CALCULATIONS\n",
"dS= k1*2.303*log10((273+T2)/(273+T1))+k2*(T2-T1)+(k3/2)*((273+T2)^2-(273+T1)^2)\n",
"//RESULTS\n",
"printf ('increase in entropy= %.2f cal deg^-1 mole^-1',dS)"
   ]
   }
,
{
		   "cell_type": "markdown",
		   "metadata": {},
		   "source": [
			"## Example 5.5: example_5.sce"
		   ]
		  },
  {
"cell_type": "code",
	   "execution_count": null,
	   "metadata": {
	    "collapsed": true
	   },
	   "outputs": [],
"source": [
"clc \n",
"//initialisation of variables\n",
"n= 2 //mole\n",
"R= 1.987 //cal K^-1 mole^-1\n",
"X1= 0.5 //atm\n",
"X2= 0.5 //atm\n",
"//CALCULATIONS\n",
"S= -2.303*n*R*(X1*log10(X1)+X2*log10(X2))\n",
"//RESULTS\n",
"printf ('change in entropy= %.2f cal deg^-1 mole^-1',S)"
   ]
   }
,
{
		   "cell_type": "markdown",
		   "metadata": {},
		   "source": [
			"## Example 5.6: example_6.sce"
		   ]
		  },
  {
"cell_type": "code",
	   "execution_count": null,
	   "metadata": {
	    "collapsed": true
	   },
	   "outputs": [],
"source": [
"clc \n",
"//initialisation of variables\n",
"SH2O= 45.106 //cal deg^-1 mole^-1\n",
"SH2= 31.211 //cal deg^-1 mole^-1\n",
"SO2= 49.003 //cal deg^-1 mole^-1\n",
"//CALCULATIONS\n",
"dS= SH2O-SH2-0.5*SO2\n",
"//RESULTS\n",
"printf ('change in entropy= %.3f cal deg^-1 mole^-1',dS)"
   ]
   }
,
{
		   "cell_type": "markdown",
		   "metadata": {},
		   "source": [
			"## Example 5.7: example_7.sce"
		   ]
		  },
  {
"cell_type": "code",
	   "execution_count": null,
	   "metadata": {
	    "collapsed": true
	   },
	   "outputs": [],
"source": [
"clc \n",
"//initialisation of variables\n",
"n= 2 //moles\n",
"p= 1 //atm\n",
"p1= 0.1 //atm\n",
"T= 25 //C\n",
"R= 1.987 //cal mole^-1 K^-1\n",
"//CALCULATIONS\n",
"dG= n*R*2.303*log10(p1/p)*(273+T)\n",
"//RESULTS\n",
"printf ('change in Gibbs free energy= %.f cal ',dG)"
   ]
   }
,
{
		   "cell_type": "markdown",
		   "metadata": {},
		   "source": [
			"## Example 5.8: example_8.sce"
		   ]
		  },
  {
"cell_type": "code",
	   "execution_count": null,
	   "metadata": {
	    "collapsed": true
	   },
	   "outputs": [],
"source": [
"clc \n",
"//initialisation of variables\n",
"R= 1.987 //cal mole^-1 K^-1\n",
"T= -10 //C\n",
"P1= 2.149 //mm\n",
"P2= 1.950 //mm\n",
"//CALCULATIONS\n",
"dG= R*2.303*(273+T)*log10(P2/P1)\n",
"//RESULTS\n",
"printf ('change in Gibbs free energy= %.f cal mole^-1',dG)"
   ]
   }
,
{
		   "cell_type": "markdown",
		   "metadata": {},
		   "source": [
			"## Example 5.9: example_9.sce"
		   ]
		  },
  {
"cell_type": "code",
	   "execution_count": null,
	   "metadata": {
	    "collapsed": true
	   },
	   "outputs": [],
"source": [
"clc \n",
"//initialisation of variables\n",
"T= 100 //C\n",
"R= 1.987 //cal mole^-1 K^-1\n",
"H= 539.7 //cal g^-1\n",
"M= 18 //g mole^-1\n",
"//CALCULATIONS\n",
"w= -R*(273+T)\n",
"qp= -H*M\n",
"dE= qp-w\n",
"dA= -w\n",
"dS= qp/(273+T)\n",
"dG= qp-(273+T)*dS\n",
"//RESULTS\n",
"printf ('W= %.f cal mole^-1',w)\n",
"printf ('\n qp= %.f cal mole^-1',qp)\n",
"printf ('\n dE= %.f cal mole^-1',dE)\n",
"printf ('\n dA= %.f cal mole^-1',dA)\n",
"printf ('\n dS= %.f cal deg^-1 mole^-1',dS)\n",
"printf ('\n dG= %.f cal mole^-1',dG)"
   ]
   }
],
"metadata": {
		  "kernelspec": {
		   "display_name": "Scilab",
		   "language": "scilab",
		   "name": "scilab"
		  },
		  "language_info": {
		   "file_extension": ".sce",
		   "help_links": [
			{
			 "text": "MetaKernel Magics",
			 "url": "https://github.com/calysto/metakernel/blob/master/metakernel/magics/README.md"
			}
		   ],
		   "mimetype": "text/x-octave",
		   "name": "scilab",
		   "version": "0.7.1"
		  }
		 },
		 "nbformat": 4,
		 "nbformat_minor": 0
}
