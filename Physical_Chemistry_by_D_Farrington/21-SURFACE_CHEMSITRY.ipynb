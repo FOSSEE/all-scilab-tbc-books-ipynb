{
"cells": [
 {
		   "cell_type": "markdown",
	   "metadata": {},
	   "source": [
       "# Chapter 21: SURFACE CHEMSITRY"
	   ]
	},
{
		   "cell_type": "markdown",
		   "metadata": {},
		   "source": [
			"## Example 21.1: example_1.sce"
		   ]
		  },
  {
"cell_type": "code",
	   "execution_count": null,
	   "metadata": {
	    "collapsed": true
	   },
	   "outputs": [],
"source": [
"clc\n",
"//initialisation of variables\n",
"A= 500 //cm^2\n",
"m= 0.106 //mg\n",
"N= 6*10^23 //molecules\n",
"M= 284 //g mole^-1\n",
"d= 0.85 //g/cm^3\n",
"//CALCULATIONS\n",
"A1= A*M/(N*m^10^-3)\n",
"t= m*10^-3/(A*d)\n",
"//RESULTS\n",
"printf ('cross-sectional area = %.e cm^2 ',A1)\n",
"printf ('\n thcikness t of the film = %.e cm ',t)"
   ]
   }
,
{
		   "cell_type": "markdown",
		   "metadata": {},
		   "source": [
			"## Example 21.2: example_2.sce"
		   ]
		  },
  {
"cell_type": "code",
	   "execution_count": null,
	   "metadata": {
	    "collapsed": true
	   },
	   "outputs": [],
"source": [
"clc\n",
"//initialisation of variables\n",
"V= 129 //ml g^-1\n",
"N= 6*10^23 //molecules\n",
"A= 16.2 //A^2\n",
"//CALCULATIONS\n",
"SA= V*N*A*10^-10/(10^3*22.4)\n",
"//RESULTS\n",
"printf ('surface area per gram of gel = %.f m^2 g^-1',SA)"
   ]
   }
],
"metadata": {
		  "kernelspec": {
		   "display_name": "Scilab",
		   "language": "scilab",
		   "name": "scilab"
		  },
		  "language_info": {
		   "file_extension": ".sce",
		   "help_links": [
			{
			 "text": "MetaKernel Magics",
			 "url": "https://github.com/calysto/metakernel/blob/master/metakernel/magics/README.md"
			}
		   ],
		   "mimetype": "text/x-octave",
		   "name": "scilab",
		   "version": "0.7.1"
		  }
		 },
		 "nbformat": 4,
		 "nbformat_minor": 0
}
