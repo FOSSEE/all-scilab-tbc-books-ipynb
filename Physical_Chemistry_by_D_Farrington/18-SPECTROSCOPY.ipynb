{
"cells": [
 {
		   "cell_type": "markdown",
	   "metadata": {},
	   "source": [
       "# Chapter 18: SPECTROSCOPY"
	   ]
	},
{
		   "cell_type": "markdown",
		   "metadata": {},
		   "source": [
			"## Example 18.1: example_1.sce"
		   ]
		  },
  {
"cell_type": "code",
	   "execution_count": null,
	   "metadata": {
	    "collapsed": true
	   },
	   "outputs": [],
"source": [
"clc\n",
"//initialisation of variables\n",
"l= 3000 //A\n",
"h= 6.62*10^-27 //erg sec\n",
"c= 3*10^10 //cm/sec\n",
"N= 6*10^23\n",
"//CALCULATIONS\n",
"E= h*c/(l*10^-8)\n",
"E1= E*N/(4.18*10^7)\n",
"//RESULTS\n",
"printf (' energy in ergs = %.f cal mole^-1',E1+276)"
   ]
   }
,
{
		   "cell_type": "markdown",
		   "metadata": {},
		   "source": [
			"## Example 18.2: example_2.sce"
		   ]
		  },
  {
"cell_type": "code",
	   "execution_count": null,
	   "metadata": {
	    "collapsed": true
	   },
	   "outputs": [],
"source": [
"clc\n",
"//initialisation of variables\n",
"E= 95300 //cal mole^-1\n",
"l= 3000 //A\n",
"e= 23060 //cal mole^-1 ev^-1\n",
"//CALCULATIONS\n",
"e1= E/e\n",
"//RESULTS\n",
"printf (' energy in electron = %.2f electron volts',e1)"
   ]
   }
,
{
		   "cell_type": "markdown",
		   "metadata": {},
		   "source": [
			"## Example 18.4: example_4.sce"
		   ]
		  },
  {
"cell_type": "code",
	   "execution_count": null,
	   "metadata": {
	    "collapsed": true
	   },
	   "outputs": [],
"source": [
"clc\n",
"//initialisation of variables\n",
"a= 193 //mole^-1 cm^-1\n",
"b= 2 //cm\n",
"c= 1.55*10^-3 //mole l^-1\n",
"//CALCULATIONS\n",
"r= 100/10^(a*b*c)\n",
"//RESULTS\n",
"printf (' perentage = %.2f per cent',r)"
   ]
   }
,
{
		   "cell_type": "markdown",
		   "metadata": {},
		   "source": [
			"## Example 18.5: example_5.sce"
		   ]
		  },
  {
"cell_type": "code",
	   "execution_count": null,
	   "metadata": {
	    "collapsed": true
	   },
	   "outputs": [],
"source": [
"clc\n",
"//initialisation of variables\n",
"m= 1.008 //gms\n",
"m1= 36.98 //gms\n",
"N= 6*10^23 //molecules\n",
"r= 1.275*10^-8 //cm\n",
"//CALCULATIONS\n",
"u= m*m1/(N*(m+m1))\n",
"I= u*r^2\n",
"//RESULTS\n",
"printf (' reduced mass = %.2e g',u)\n",
"printf (' \n moment of inertia = %.2e g cm^2',I)"
   ]
   }
,
{
		   "cell_type": "markdown",
		   "metadata": {},
		   "source": [
			"## Example 18.6: example_6.sce"
		   ]
		  },
  {
"cell_type": "code",
	   "execution_count": null,
	   "metadata": {
	    "collapsed": true
	   },
	   "outputs": [],
"source": [
"clc\n",
"//initialisation of variables\n",
"h= 6.625*10^-27 //erg sec\n",
"c= 3*10^10 //cm sec^-1\n",
"k= 2.647*10^-40 //gm cm^2\n",
"//CALCULATIONS\n",
"v= h/(4*%pi^2*k*c)\n",
"//RESULTS\n",
"printf (' frequency = %.1f cm^-1',v)"
   ]
   }
,
{
		   "cell_type": "markdown",
		   "metadata": {},
		   "source": [
			"## Example 18.7: example_7.sce"
		   ]
		  },
  {
"cell_type": "code",
	   "execution_count": null,
	   "metadata": {
	    "collapsed": true
	   },
	   "outputs": [],
"source": [
"clc\n",
"//initialisation of variables\n",
"v= 8.867*10^13 //sec^-1\n",
"u= 1.628*10^-24 //gms\n",
"//CALCULATIONS\n",
"k= (%pi*2*v)^2*u\n",
"//RESULTS\n",
"printf (' force constant = %.2e dyne cm^-1',k)"
   ]
   }
,
{
		   "cell_type": "markdown",
		   "metadata": {},
		   "source": [
			"## Example 18.8: example_8.sce"
		   ]
		  },
  {
"cell_type": "code",
	   "execution_count": null,
	   "metadata": {
	    "collapsed": true
	   },
	   "outputs": [],
"source": [
"clc\n",
"//initialisation of variables\n",
"e= 23.06 //kcal mole^-1\n",
"E= 4.476 //ev\n",
"h= 6.627*10^-27 //ergs sec\n",
"c= 3*10^10 //cm/sec\n",
"v= 4395 //cm^-1\n",
"e1= 8060 //ev\n",
"N= 6*10^23\n",
"//CALCULATIONS\n",
"D= E*e+(h*c*N*v/(2*10^3*4.184*10^7))\n",
"D1= E*e1+(v/2)\n",
"//RESULTS\n",
"printf (' dissociation energy = %.1f kcal mole^-1',D)\n",
"printf (' \n dissociation energy = %.f cm^-1',D1+26)"
   ]
   }
,
{
		   "cell_type": "markdown",
		   "metadata": {},
		   "source": [
			"## Example 19.3: example_3.sce"
		   ]
		  },
  {
"cell_type": "code",
	   "execution_count": null,
	   "metadata": {
	    "collapsed": true
	   },
	   "outputs": [],
"source": [
"clc\n",
"//initialisation of variables\n",
"p= 19.2 //per cent\n",
"b= 1 //cm\n",
"c= 5*10^-4 //mole l^-1\n",
"m= 1.75*10^-4 //M\n",
"//CALCULATIONS\n",
"As= log10(100/p)\n",
"am= As/(b*c)\n",
"r= 100/10^(am*m)\n",
"//RESULTS\n",
"printf (' perentage trnasmmitancy= %.1f per cent',r)"
   ]
   }
],
"metadata": {
		  "kernelspec": {
		   "display_name": "Scilab",
		   "language": "scilab",
		   "name": "scilab"
		  },
		  "language_info": {
		   "file_extension": ".sce",
		   "help_links": [
			{
			 "text": "MetaKernel Magics",
			 "url": "https://github.com/calysto/metakernel/blob/master/metakernel/magics/README.md"
			}
		   ],
		   "mimetype": "text/x-octave",
		   "name": "scilab",
		   "version": "0.7.1"
		  }
		 },
		 "nbformat": 4,
		 "nbformat_minor": 0
}
