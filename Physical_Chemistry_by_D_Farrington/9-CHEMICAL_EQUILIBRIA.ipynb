{
"cells": [
 {
		   "cell_type": "markdown",
	   "metadata": {},
	   "source": [
       "# Chapter 9: CHEMICAL EQUILIBRIA"
	   ]
	},
{
		   "cell_type": "markdown",
		   "metadata": {},
		   "source": [
			"## Example 9.10: example_10.sce"
		   ]
		  },
  {
"cell_type": "code",
	   "execution_count": null,
	   "metadata": {
	    "collapsed": true
	   },
	   "outputs": [],
"source": [
"clc \n",
"//initialisation of variables\n",
"n= 0.6667 //mole\n",
"//CALCULATIONS\n",
"K= n^2/((1-n)^2)\n",
"//RESULTS\n",
"printf ('K= %.f  ',K)"
   ]
   }
,
{
		   "cell_type": "markdown",
		   "metadata": {},
		   "source": [
			"## Example 9.11: example_11.sce"
		   ]
		  },
  {
"cell_type": "code",
	   "execution_count": null,
	   "metadata": {
	    "collapsed": true
	   },
	   "outputs": [],
"source": [
"clc \n",
"//initialisation of variables\n",
"pN2O4= 0.141 //atm\n",
"pNO2= 1 //atm\n",
"R= 1.987 //cal mole^-1 deg^-1\n",
"T= 25 //C\n",
"//CALCULATIONS\n",
"dG= -R*2.303*(273.1+T)*log10(pN2O4/pNO2^2)\n",
"//RESULTS\n",
"printf ('dG= %.f cal ',dG)"
   ]
   }
,
{
		   "cell_type": "markdown",
		   "metadata": {},
		   "source": [
			"## Example 9.12: example_12.sce"
		   ]
		  },
  {
"cell_type": "code",
	   "execution_count": null,
	   "metadata": {
	    "collapsed": true
	   },
	   "outputs": [],
"source": [
"clc \n",
"//initialisation of variables\n",
"pN2O4= 1 //atm\n",
"pNO2= 0.141 //atm\n",
"R= 1.987 //cal mole^-1 deg^-1\n",
"T= 25 //C\n",
"//CALCULATIONS\n",
"dG= -R*2.303*(273.1+T)*log10(pN2O4/pNO2)\n",
"//RESULTS\n",
"printf ('dG= %.f cal ',dG)"
   ]
   }
,
{
		   "cell_type": "markdown",
		   "metadata": {},
		   "source": [
			"## Example 9.13: example_13.sce"
		   ]
		  },
  {
"cell_type": "code",
	   "execution_count": null,
	   "metadata": {
	    "collapsed": true
	   },
	   "outputs": [],
"source": [
"clc \n",
"//initialisation of variables\n",
"Kc= 2.7*10^2\n",
"R= 1.987 //cal mole^-1 deg^-1\n",
"T= 43.9 //c\n",
"//CALCULATIONS\n",
"dG= -R*(273.1+T)*2.303*log10(Kc)\n",
"//RESULTS\n",
"printf ('dG= %.1f cal ',dG)"
   ]
   }
,
{
		   "cell_type": "markdown",
		   "metadata": {},
		   "source": [
			"## Example 9.14: example_14.sce"
		   ]
		  },
  {
"cell_type": "code",
	   "execution_count": null,
	   "metadata": {
	    "collapsed": true
	   },
	   "outputs": [],
"source": [
"clc \n",
"//initialisation of variables\n",
"dH= -17.889 //cal deg^-1\n",
"T= 25 //C\n",
"dS= -19.28 //cal deg^-1\n",
"R= 1.987 //cal mole^-1 deg^-1\n",
"//CALCULATIONS\n",
"dG= dH-dS*(273.1+T)\n",
"Kp= 10^(dG/(-R*(273.1+T)*2.303))\n",
"///RESULTS\n",
"printf ('Kp= %.1e  ',Kp)\n",
"\n",
"\n",
"//ANSWER IN THE TEXTBOOK IS WRONG"
   ]
   }
,
{
		   "cell_type": "markdown",
		   "metadata": {},
		   "source": [
			"## Example 9.15: example_15.sce"
		   ]
		  },
  {
"cell_type": "code",
	   "execution_count": null,
	   "metadata": {
	    "collapsed": true
	   },
	   "outputs": [],
"source": [
"clc \n",
"//initialisation of variables\n",
"HCO2= -94.2598 //kcal\n",
"HH2= 0 //kcal\n",
"HCO= -32.8079 //kcal\n",
"HH2O= -54.6357 //kcal\n",
"R= 1.987 //cal deg^-1 mole^-1\n",
"T= 25 //C\n",
"//CALCULATIONS\n",
"Kp= 10^(-(HCO2-HCO-HH2O)/(R*2.303*(273.1+T)))\n",
"//RESULTS\n",
"printf ('Kp= %.2e  ',Kp)\n",
"\n",
"\n",
"//ANSWER IN THE TEXTBOO IS WRONG"
   ]
   }
,
{
		   "cell_type": "markdown",
		   "metadata": {},
		   "source": [
			"## Example 9.16: example_16.sce"
		   ]
		  },
  {
"cell_type": "code",
	   "execution_count": null,
	   "metadata": {
	    "collapsed": true
	   },
	   "outputs": [],
"source": [
"clc \n",
"//initialisation of variables\n",
"G0= 1161 //cal \n",
"R= 1.987 //cal mole^-1 deg^-1\n",
"T= 25 //C\n",
"P= 1 //atm\n",
"P1= 10 //atm\n",
"//CALCULATIONS\n",
"dG= G0+R*(273+T)*2.303*log10(P^2/P1)\n",
"//RESULTS\n",
"printf ('dG= %.f cal ',dG)"
   ]
   }
,
{
		   "cell_type": "markdown",
		   "metadata": {},
		   "source": [
			"## Example 9.17: example_17.sce"
		   ]
		  },
  {
"cell_type": "code",
	   "execution_count": null,
	   "metadata": {
	    "collapsed": true
	   },
	   "outputs": [],
"source": [
"clc \n",
"//initialisation of variables\n",
"K2500= 3.6*10^-3\n",
"K2000= 4.08*10^-4\n",
"R= 1.987 //cal mole^-1 K^-1\n",
"T1= 2500 //K\n",
"T2= 2000 //K\n",
"//CALCULATIONS\n",
"dH= log10(K2500/K2000)*2.303*R*T1*T2/(T1-T2)\n",
"//RESULTS\n",
"printf ('enthaly change= %.f cal ',dH)"
   ]
   }
,
{
		   "cell_type": "markdown",
		   "metadata": {},
		   "source": [
			"## Example 9.18: example_18.sce"
		   ]
		  },
  {
"cell_type": "code",
	   "execution_count": null,
	   "metadata": {
	    "collapsed": true
	   },
	   "outputs": [],
"source": [
"clc \n",
"//initialisation of variables\n",
"dH= -10200 ///cal\n",
"R= 1.987 //cal deg^-1 mole^-1\n",
"T1= 690 //K\n",
"T2= 800 //K\n",
"KT1= 10\n",
"//CALCULATIONS\n",
"KT2= KT1*10^(dH*(T2-T1)/(2.303*R*T1*T2))\n",
"//RESULTS\n",
"printf ('K800= %.2f  ',KT2)"
   ]
   }
,
{
		   "cell_type": "markdown",
		   "metadata": {},
		   "source": [
			"## Example 9.19: example_19.sce"
		   ]
		  },
  {
"cell_type": "code",
	   "execution_count": null,
	   "metadata": {
	    "collapsed": true
	   },
	   "outputs": [],
"source": [
"clc \n",
"//initialisation of variables\n",
"T= 1000 //K\n",
"R= 1.987 //cal mole^-1 K^-1\n",
"G= -1330 //cal mole^-1\n",
"//CALCULATIONS\n",
"Kp= 10^(G/(-R*T*2.303))\n",
"//RESULTS\n",
"printf ('Kp= %.2f  ',Kp)"
   ]
   }
,
{
		   "cell_type": "markdown",
		   "metadata": {},
		   "source": [
			"## Example 9.1: example_1.sce"
		   ]
		  },
  {
"cell_type": "code",
	   "execution_count": null,
	   "metadata": {
	    "collapsed": true
	   },
	   "outputs": [],
"source": [
"clc \n",
"//initialisation of variables\n",
"T= 400 //C\n",
"R= 0.08205 //l-atm mole^-1 deg^-1\n",
"Kp= 1.64*10^-4\n",
"n= 2\n",
"P= 10 //atm\n",
"//CALCULATIONS\n",
"Kc= Kp*(R*(273.1+T))^n\n",
"Kx= Kp*P^n\n",
"//RESULTS\n",
"printf ('Kc= %.1f l^2 mole^-2 ',Kc)\n",
"printf ('\n Kx= %.2e  ',Kx)"
   ]
   }
,
{
		   "cell_type": "markdown",
		   "metadata": {},
		   "source": [
			"## Example 9.20: example_20.sce"
		   ]
		  },
  {
"cell_type": "code",
	   "execution_count": null,
	   "metadata": {
	    "collapsed": true
	   },
	   "outputs": [],
"source": [
"clc \n",
"//initialisation of variables\n",
"Kp= 1.78\n",
"P= 0.1 //atm\n",
"//CALCULATIONS\n",
"a= sqrt(Kp/(Kp+P))*100\n",
"//RESULTS\n",
"printf ('per cent dissaciated= %.1f per cent ',a)"
   ]
   }
,
{
		   "cell_type": "markdown",
		   "metadata": {},
		   "source": [
			"## Example 9.21: example_21.sce"
		   ]
		  },
  {
"cell_type": "code",
	   "execution_count": null,
	   "metadata": {
	    "collapsed": true
	   },
	   "outputs": [],
"source": [
"clc \n",
"//initialisation of variables\n",
"R= 1.987 //cal mole^-1 K^-1\n",
"T= 2000 //K\n",
"dH= 117172 //cal mole^-1\n",
"H= -43 //cal mole^-1\n",
"n= 2\n",
"H1= -56.12 //cal mole^-1\n",
"//CALCULATIONS\n",
"K= 10^(-(1/(2.303*R))*((dH/T)+n*H-H1))\n",
"//RESULTS\n",
"printf ('equilibrium constant= %.1e  ',K)"
   ]
   }
,
{
		   "cell_type": "markdown",
		   "metadata": {},
		   "source": [
			"## Example 9.22: example_22.sce"
		   ]
		  },
  {
"cell_type": "code",
	   "execution_count": null,
	   "metadata": {
	    "collapsed": true
	   },
	   "outputs": [],
"source": [
"clc \n",
"//initialisation of variables\n",
"T= 25 //C\n",
"R= 1.987 //cal mole^-1 K^-1\n",
"n= 2\n",
"dH= -21.840 //cal mole^-1\n",
"HHCl= -37.73 //cal mole^-1\n",
"HH2= -24.44 //cal mole^-1\n",
"HCl= -45.95 //cal mole^-1\n",
"//CALCULATIONS\n",
"K= 10^((-1/(2.303*R))*((dH*n/(273.15+T))+n*HHCl-HH2-HCl))\n",
"//RESULTS\n",
"printf ('equilibrium constant= %.1e  ',K)\n",
"\n",
"\n",
"//ANSWER IN THE TEXTBOOK IS WRONG"
   ]
   }
,
{
		   "cell_type": "markdown",
		   "metadata": {},
		   "source": [
			"## Example 9.2: example_2.sce"
		   ]
		  },
  {
"cell_type": "code",
	   "execution_count": null,
	   "metadata": {
	    "collapsed": true
	   },
	   "outputs": [],
"source": [
"clc \n",
"//initialisation of variables\n",
"R= 0.08205 //l-atm mole^-1 deg^-1\n",
"T= 25 //C\n",
"g= 1.588 //gms\n",
"P= 1 //atm\n",
"V= 0.5 //lit\n",
"M1= 92.02 //g mole^-1\n",
"//CALCULATIONS\n",
"M2= R*(273.1+T)*g/(P*V)\n",
"a= (M1-M2)/M2\n",
"//RESULTS\n",
"printf ('degree of dissociation= %.4f  ',a)"
   ]
   }
,
{
		   "cell_type": "markdown",
		   "metadata": {},
		   "source": [
			"## Example 9.3: example_3.sce"
		   ]
		  },
  {
"cell_type": "code",
	   "execution_count": null,
	   "metadata": {
	    "collapsed": true
	   },
	   "outputs": [],
"source": [
"clc \n",
"//initialisation of variables\n",
"P= 1 //atm\n",
"a= 18.46 //per cent\n",
"P1= 0.5 //atm\n",
"//CALCULATIONS\n",
"Kp= P*4*(a/100)^2/(1-(a/100)^2)\n",
"//RESULTS\n",
"printf ('Kp= %.3f  ',Kp)\n",
""
   ]
   }
,
{
		   "cell_type": "markdown",
		   "metadata": {},
		   "source": [
			"## Example 9.4: example_4.sce"
		   ]
		  },
  {
"cell_type": "code",
	   "execution_count": null,
	   "metadata": {
	    "collapsed": true
	   },
	   "outputs": [],
"source": [
"clc \n",
"//initialisation of variables\n",
"M1= 208.3 //gms\n",
"g= 2.69 //gms\n",
"R= 0.08205 //l-atm mole^-1 deg^-1\n",
"T= 250 //C\n",
"P= 1 //atm\n",
"V= 1 //lit\n",
"//CALCULATIONS\n",
"M2= g*R*(273.1+T)/(P*V)\n",
"a= (M1-M2)/M2\n",
"Kp= a^2*P/(1-a^2)\n",
"//RESULTS\n",
"printf ('Kp= %.2f  ',Kp)"
   ]
   }
,
{
		   "cell_type": "markdown",
		   "metadata": {},
		   "source": [
			"## Example 9.5: example_5.sce"
		   ]
		  },
  {
"cell_type": "code",
	   "execution_count": null,
	   "metadata": {
	    "collapsed": true
	   },
	   "outputs": [],
"source": [
"clc \n",
"//initialisation of variables\n",
"x= 0.0574 //mole\n",
"n= 0.1 //mole\n",
"//CALCULATIONS\n",
"a= x/n\n",
"//RESULTS\n",
"printf ('degree of dissociation= %.3f  ',a)"
   ]
   }
,
{
		   "cell_type": "markdown",
		   "metadata": {},
		   "source": [
			"## Example 9.6: example_6.sce"
		   ]
		  },
  {
"cell_type": "code",
	   "execution_count": null,
	   "metadata": {
	    "collapsed": true
	   },
	   "outputs": [],
"source": [
"clc \n",
"//initialisation of variables\n",
"R= 0.08205 //l-atm mole^-1 deg^-1\n",
"T= 250 //C\n",
"n= 0.1 //mole\n",
"Kp= 1.78 \n",
"//CALCULATIONS\n",
"x= n+(n^2*R*(273.1+T)/Kp)\n",
"//RESULTS\n",
"printf ('x= %.3f mole ',x)"
   ]
   }
,
{
		   "cell_type": "markdown",
		   "metadata": {},
		   "source": [
			"## Example 9.7: example_7.sce"
		   ]
		  },
  {
"cell_type": "code",
	   "execution_count": null,
	   "metadata": {
	    "collapsed": true
	   },
	   "outputs": [],
"source": [
"clc \n",
"//initialisation of variables\n",
"Ppcl5= 1 //atm\n",
"Kp= 1.78\n",
"//CALCULATIONS\n",
"Ppcl2= sqrt(Kp)\n",
"P= 2*Ppcl2+Ppcl5\n",
"//RESULTS\n",
"printf ('P= %.2f atm ',P)"
   ]
   }
,
{
		   "cell_type": "markdown",
		   "metadata": {},
		   "source": [
			"## Example 9.8: example_8.sce"
		   ]
		  },
  {
"cell_type": "code",
	   "execution_count": null,
	   "metadata": {
	    "collapsed": true
	   },
	   "outputs": [],
"source": [
"clc \n",
"//initialisation of variables\n",
"Kp= 1.78\n",
"a= 0.2\n",
"//CALCULATIONS\n",
"P= Kp*(1-a^2)/a^2\n",
"//RESULTS\n",
"printf ('Kp= %.1f atm ',P)"
   ]
   }
],
"metadata": {
		  "kernelspec": {
		   "display_name": "Scilab",
		   "language": "scilab",
		   "name": "scilab"
		  },
		  "language_info": {
		   "file_extension": ".sce",
		   "help_links": [
			{
			 "text": "MetaKernel Magics",
			 "url": "https://github.com/calysto/metakernel/blob/master/metakernel/magics/README.md"
			}
		   ],
		   "mimetype": "text/x-octave",
		   "name": "scilab",
		   "version": "0.7.1"
		  }
		 },
		 "nbformat": 4,
		 "nbformat_minor": 0
}
