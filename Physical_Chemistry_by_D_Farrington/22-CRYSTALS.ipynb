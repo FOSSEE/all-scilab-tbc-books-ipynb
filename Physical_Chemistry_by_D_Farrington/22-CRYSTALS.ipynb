{
"cells": [
 {
		   "cell_type": "markdown",
	   "metadata": {},
	   "source": [
       "# Chapter 22: CRYSTALS"
	   ]
	},
{
		   "cell_type": "markdown",
		   "metadata": {},
		   "source": [
			"## Example 23.1: example_1.sce"
		   ]
		  },
  {
"cell_type": "code",
	   "execution_count": null,
	   "metadata": {
	    "collapsed": true
	   },
	   "outputs": [],
"source": [
"clc\n",
"//initialisation of variables\n",
"d= 0.856 //g/cc\n",
"N= 6*10^23 //molecules\n",
"M= 39.1 //g mole^-1\n",
"n= 2\n",
"n1= 4\n",
"n2= 12\n",
"//CALCULATIONS\n",
"a= (n*M/(N*d))^(1/3)\n",
"d= a*10^8/sqrt(n1)\n",
"d1= a*10^8/sqrt(n) \n",
"d2= a*10^8/sqrt(n2)\n",
"//RESULTS\n",
"printf ('distance between planes = %.2f A',d)\n",
"printf ('\n distance between planes = %.2f A',d1)\n",
"printf ('\n distance between planes = %.2f A',d2)"
   ]
   }
],
"metadata": {
		  "kernelspec": {
		   "display_name": "Scilab",
		   "language": "scilab",
		   "name": "scilab"
		  },
		  "language_info": {
		   "file_extension": ".sce",
		   "help_links": [
			{
			 "text": "MetaKernel Magics",
			 "url": "https://github.com/calysto/metakernel/blob/master/metakernel/magics/README.md"
			}
		   ],
		   "mimetype": "text/x-octave",
		   "name": "scilab",
		   "version": "0.7.1"
		  }
		 },
		 "nbformat": 4,
		 "nbformat_minor": 0
}
