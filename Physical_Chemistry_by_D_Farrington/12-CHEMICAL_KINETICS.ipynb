{
"cells": [
 {
		   "cell_type": "markdown",
	   "metadata": {},
	   "source": [
       "# Chapter 12: CHEMICAL KINETICS"
	   ]
	},
{
		   "cell_type": "markdown",
		   "metadata": {},
		   "source": [
			"## Example 12.1: example_1.sce"
		   ]
		  },
  {
"cell_type": "code",
	   "execution_count": null,
	   "metadata": {
	    "collapsed": true
	   },
	   "outputs": [],
"source": [
"clc \n",
"//initialisation of variables\n",
"Vs= 23.95 //ml\n",
"Ve= 34.75 //ml\n",
"//CALCULATIONS\n",
"fr= (Ve-Vs)/Ve\n",
"//RESULTS\n",
"printf ('fraction of nitrogen pentoxide remain unreacted after 1 hour= %.3f ',fr)"
   ]
   }
,
{
		   "cell_type": "markdown",
		   "metadata": {},
		   "source": [
			"## Example 12.2: example_2.sce"
		   ]
		  },
  {
"cell_type": "code",
	   "execution_count": null,
	   "metadata": {
	    "collapsed": true
	   },
	   "outputs": [],
"source": [
"clc \n",
"//initialisation of variables\n",
"Ps= 200 //mm\n",
"Pe= 390 //mm\n",
"Pt= 300 //mm\n",
"t= 500 //sec\n",
"Pe1= 400 //mm\n",
"//CALCULATIONS\n",
"r= (Pe1-Pt)/(Pe1-Ps)\n",
"//RESULTS\n",
"printf ('fraction remained undecomposed= %.1f ',r)"
   ]
   }
,
{
		   "cell_type": "markdown",
		   "metadata": {},
		   "source": [
			"## Example 12.3: example_3.sce"
		   ]
		  },
  {
"cell_type": "code",
	   "execution_count": null,
	   "metadata": {
	    "collapsed": true
	   },
	   "outputs": [],
"source": [
"clc \n",
"//initialisation of variables\n",
"V= 1200 //ml\n",
"V1= 100 //ml\n",
"t= 300 //sec\n",
"//CALCULATIONS\n",
"r= V/t\n",
"t1= V1/r\n",
"//RESULTS\n",
"printf ('time of residence of gas= %.f sec',t1)"
   ]
   }
,
{
		   "cell_type": "markdown",
		   "metadata": {},
		   "source": [
			"## Example 12.4: example_4.sce"
		   ]
		  },
  {
"cell_type": "code",
	   "execution_count": null,
	   "metadata": {
	    "collapsed": true
	   },
	   "outputs": [],
"source": [
"clc \n",
"//initialisation of variables\n",
"y= 0.550\n",
"x= 2400\n",
"d= 0.00494\n",
"//CALCULATIONS\n",
"s= y/x\n",
"k= s*2.303/d\n",
"//RESULTS\n",
"printf ('k= %.3f lit mol^-1 sec^-1',k)"
   ]
   }
,
{
		   "cell_type": "markdown",
		   "metadata": {},
		   "source": [
			"## Example 12.7: example_7.sce"
		   ]
		  },
  {
"cell_type": "code",
	   "execution_count": null,
	   "metadata": {
	    "collapsed": true
	   },
	   "outputs": [],
"source": [
"clc \n",
"//initialisation of variables\n",
"T= 393.7 //C\n",
"k= 2.6*10^-4 //lit mol^-1 sec^-1\n",
"R= 1.987 //cal mole^-1 K^-1\n",
"E= 45.6 //kcal mole^-1\n",
"wl= 3.5 //A\n",
"N= 6*10^23 //molecules\n",
"R1= 8.31*10 //ergs mole^-1 K^-1\n",
"M= 127.9 //g mole^-1\n",
"//CALCULATIONS\n",
"k= 2*10^2*N*sqrt(%pi*R1*(273.1+T)/M)*(wl*10^-8)^2*%e^(-E*10^3/(R*(273.1+T)))\n",
"//RESULTS\n",
"printf ('second order rate for this constant= %.1e lit mol^-1 sec^-1',k)"
   ]
   }
],
"metadata": {
		  "kernelspec": {
		   "display_name": "Scilab",
		   "language": "scilab",
		   "name": "scilab"
		  },
		  "language_info": {
		   "file_extension": ".sce",
		   "help_links": [
			{
			 "text": "MetaKernel Magics",
			 "url": "https://github.com/calysto/metakernel/blob/master/metakernel/magics/README.md"
			}
		   ],
		   "mimetype": "text/x-octave",
		   "name": "scilab",
		   "version": "0.7.1"
		  }
		 },
		 "nbformat": 4,
		 "nbformat_minor": 0
}
