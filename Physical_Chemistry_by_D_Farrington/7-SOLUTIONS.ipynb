{
"cells": [
 {
		   "cell_type": "markdown",
	   "metadata": {},
	   "source": [
       "# Chapter 7: SOLUTIONS"
	   ]
	},
{
		   "cell_type": "markdown",
		   "metadata": {},
		   "source": [
			"## Example 7.1: example_1.sce"
		   ]
		  },
  {
"cell_type": "code",
	   "execution_count": null,
	   "metadata": {
	    "collapsed": true
	   },
	   "outputs": [],
"source": [
"clc \n",
"//initialisation of variables\n",
"nb= 0.4\n",
"pb= 385 //mm\n",
"nt= 0.6\n",
"pt= 139 //mm\n",
"//CALCULATIONS\n",
"Pb= pb*nb\n",
"Pt= pt*nt\n",
"PT= Pb+Pt\n",
"Xt= Pt/PT\n",
"//RESULTS\n",
"printf ('mole fraction of benzene vapour= % 3f ',Xt)"
   ]
   }
,
{
		   "cell_type": "markdown",
		   "metadata": {},
		   "source": [
			"## Example 7.2: example_2.sce"
		   ]
		  },
  {
"cell_type": "code",
	   "execution_count": null,
	   "metadata": {
	    "collapsed": true
	   },
	   "outputs": [],
"source": [
"clc \n",
"//initialisation of variables\n",
"K= 1.25*10^6 \n",
"m= 1000 //gms\n",
"M= 18.02 //gms\n",
"//CALCULATIONS\n",
"nco2= 760*m/(M*K)\n",
"//RESULTS\n",
"printf ('moles of carbon dioxide= % 2e mole litre^-1',nco2)"
   ]
   }
,
{
		   "cell_type": "markdown",
		   "metadata": {},
		   "source": [
			"## Example 7.3: example_3.sce"
		   ]
		  },
  {
"cell_type": "code",
	   "execution_count": null,
	   "metadata": {
	    "collapsed": true
	   },
	   "outputs": [],
"source": [
"clc \n",
"//initialisation of variables\n",
"Vp= 1022 //mm\n",
"Vp1= 406 //mm\n",
"//CALCULATIONS\n",
"Xb= (760-Vp1)/(Vp-Vp1)\n",
"Xb1= Vp*Xb/760\n",
"//RESULTS\n",
"printf ('mole fraction of benzene= % 3f ',Xb)\n",
"printf ('\n mole fraction of benzene vapour= % 3f ',Xb1)"
   ]
   }
,
{
		   "cell_type": "markdown",
		   "metadata": {},
		   "source": [
			"## Example 7.4: example_4.sce"
		   ]
		  },
  {
"cell_type": "code",
	   "execution_count": null,
	   "metadata": {
	    "collapsed": true
	   },
	   "outputs": [],
"source": [
"clc \n",
"//initialisation of variables\n",
"P1= 731.9 //mm\n",
"P2= 712.4 //mm\n",
"Mb= 18 //gms\n",
"r= 0.188\n",
"//CALCULATIONS\n",
"Ma= r*Mb*P2/(P1-P2)\n",
"//RESULTS\n",
"printf ('molecular weight of nitro-benzene= % f g mole^-1',Ma)"
   ]
   }
],
"metadata": {
		  "kernelspec": {
		   "display_name": "Scilab",
		   "language": "scilab",
		   "name": "scilab"
		  },
		  "language_info": {
		   "file_extension": ".sce",
		   "help_links": [
			{
			 "text": "MetaKernel Magics",
			 "url": "https://github.com/calysto/metakernel/blob/master/metakernel/magics/README.md"
			}
		   ],
		   "mimetype": "text/x-octave",
		   "name": "scilab",
		   "version": "0.7.1"
		  }
		 },
		 "nbformat": 4,
		 "nbformat_minor": 0
}
