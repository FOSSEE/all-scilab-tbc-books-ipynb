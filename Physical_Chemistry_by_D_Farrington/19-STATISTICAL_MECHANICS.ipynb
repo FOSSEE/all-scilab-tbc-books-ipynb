{
"cells": [
 {
		   "cell_type": "markdown",
	   "metadata": {},
	   "source": [
       "# Chapter 19: STATISTICAL MECHANICS"
	   ]
	},
{
		   "cell_type": "markdown",
		   "metadata": {},
		   "source": [
			"## Example 19.1: example_1.sce"
		   ]
		  },
  {
"cell_type": "code",
	   "execution_count": null,
	   "metadata": {
	    "collapsed": true
	   },
	   "outputs": [],
"source": [
"clc \n",
"//initialisation of variables\n",
"Na= 1\n",
"Nb= 1\n",
"Nc= 1\n",
"Na1= 2\n",
"Nb1= 1\n",
"Nc1= 0\n",
"Na2= 3\n",
"Nb2= 0\n",
"Nc2= 0\n",
"//CALCULATIONS\n",
"Wabc= factorial(Na+Nb+Nc)/(factorial(Na)*factorial(Nb)*factorial(Nc))\n",
"Waab= factorial(Na1+Nb1+Nc1)/(factorial(Na1)*factorial(Nb1)*factorial(Nc1))\n",
"Waaa= factorial(Na2+Nb2+Nc2)/(factorial(Na2)*factorial(Nb2)*factorial(Nc2))\n",
"//RESULTS\n",
"printf ('Wabc = %.f ',Wabc)\n",
"printf ('\n Waab = %.f ',Waab)\n",
"printf ('\n Waaa = %.f ',Waaa)"
   ]
   }
,
{
		   "cell_type": "markdown",
		   "metadata": {},
		   "source": [
			"## Example 19.2: example_2.sce"
		   ]
		  },
  {
"cell_type": "code",
	   "execution_count": null,
	   "metadata": {
	    "collapsed": true
	   },
	   "outputs": [],
"source": [
"clc\n",
"//initialisation of variables\n",
"K= 4.9860 //cal deg^-1 mole^-1\n",
"K1= -31.6 //cal deg^-1 mole^-1\n",
"//CALCULATIONS\n",
"S= K-K1\n",
"//RESULTS\n",
"printf ('Enthalpy = %.1f cal deg^-1 mole^-1',S)"
   ]
   }
,
{
		   "cell_type": "markdown",
		   "metadata": {},
		   "source": [
			"## Example 19.4: example_4.sce"
		   ]
		  },
  {
"cell_type": "code",
	   "execution_count": null,
	   "metadata": {
	    "collapsed": true
	   },
	   "outputs": [],
"source": [
"clc \n",
"//initialisation of variables\n",
"No= 0.979889 \n",
"v= 2989.74 //cm^-1\n",
"rc= 1.2746 //A\n",
"T= 25 //C\n",
"E1= 6.8635 //cal deg^-1 mole^-1\n",
"E2= 11.4392 //cal deg^-1 mole^-1\n",
"E3= 7.2820 //cal deg^-1 mole^-1\n",
"E4= 4.5757 //cal deg^-1 mole^-1\n",
"E5= 2.7676 //cal deg^-1 mole^-1\n",
"r1= 0.265 //A\n",
"r= 35.99 //A\n",
"//CALCULATIONS\n",
"Et= E1*log10(r)+E2*log10(273.15+T)- E3\n",
"Ei= E4*log10(r1)+E4*log10(273.15+T)-E5\n",
"//RESULTS\n",
"printf ('Transitional energy = %.1f cal deg^-1 mole^-1',Et)\n",
"printf ('\n rorational energy = %.1f cal deg^-1 mole^-1',Ei)"
   ]
   }
],
"metadata": {
		  "kernelspec": {
		   "display_name": "Scilab",
		   "language": "scilab",
		   "name": "scilab"
		  },
		  "language_info": {
		   "file_extension": ".sce",
		   "help_links": [
			{
			 "text": "MetaKernel Magics",
			 "url": "https://github.com/calysto/metakernel/blob/master/metakernel/magics/README.md"
			}
		   ],
		   "mimetype": "text/x-octave",
		   "name": "scilab",
		   "version": "0.7.1"
		  }
		 },
		 "nbformat": 4,
		 "nbformat_minor": 0
}
