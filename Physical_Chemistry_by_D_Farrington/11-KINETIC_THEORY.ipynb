{
"cells": [
 {
		   "cell_type": "markdown",
	   "metadata": {},
	   "source": [
       "# Chapter 11: KINETIC THEORY"
	   ]
	},
{
		   "cell_type": "markdown",
		   "metadata": {},
		   "source": [
			"## Example 11.1: example_1.sce"
		   ]
		  },
  {
"cell_type": "code",
	   "execution_count": null,
	   "metadata": {
	    "collapsed": true
	   },
	   "outputs": [],
"source": [
"clc \n",
"//initialisation of variables\n",
"R= 8.31*10 //ergs mole^-1 K^-1\n",
"M= 2.016 //gms\n",
"T= 0 //C\n",
"//CALCULATIONS\n",
"vp= sqrt(2*R*(273+T)/M)\n",
"v= sqrt(8*R*(273+T))/(%pi*M)\n",
"vr= sqrt(3*R*(273+T)/M)\n",
"//RESULTS\n",
"printf ('most probabale velocity= %.2e cm sec^-1',vp)\n",
"printf ('\n arthmetic mean velocity= %.2e cm sec^-1',v)\n",
"printf ('\n root mean square velocity= %.2e cm sec^-1',vr)"
   ]
   }
,
{
		   "cell_type": "markdown",
		   "metadata": {},
		   "source": [
			"## Example 11.2: example_2.sce"
		   ]
		  },
  {
"cell_type": "code",
	   "execution_count": null,
	   "metadata": {
	    "collapsed": true
	   },
	   "outputs": [],
"source": [
"clc \n",
"//initialisation of variables\n",
"R= 8.31*10^7 //ergs mole^-1 K^-1\n",
"M= 9.013 //mg\n",
"T= 1457 //K\n",
"d= 0.318 //cm\n",
"t= 60.1 //min\n",
"m= 9.54 //mg\n",
"g= 980 //cmsec^-2\n",
"D= 13.6 //g/cc\n",
"p= 76 //cm atm^-1\n",
"//CALCULATIONS\n",
"P= sqrt(2*%pi*R*T/M)*(m*10^-3/(%pi*(d/2)^2*t*60*p*D*g))\n",
"//RESULTS\n",
"printf ('vapour pressure= %.2e atm',P)"
   ]
   }
,
{
		   "cell_type": "markdown",
		   "metadata": {},
		   "source": [
			"## Example 11.3: example_3.sce"
		   ]
		  },
  {
"cell_type": "code",
	   "execution_count": null,
	   "metadata": {
	    "collapsed": true
	   },
	   "outputs": [],
"source": [
"clc \n",
"//initialisation of variables\n",
"M1= 238 //gms\n",
"M2= 235 //gms\n",
"A= 6\n",
"N= 19\n",
"//CALCULATIONS\n",
"r= sqrt((M1+A*N)/(M2+A*N))\n",
"//RESULTS\n",
"printf ('ratio of rates= %.4f ',r)"
   ]
   }
,
{
		   "cell_type": "markdown",
		   "metadata": {},
		   "source": [
			"## Example 11.4: example_4.sce"
		   ]
		  },
  {
"cell_type": "code",
	   "execution_count": null,
	   "metadata": {
	    "collapsed": true
	   },
	   "outputs": [],
"source": [
"clc \n",
"//initialisation of variables\n",
"s= 3.61*10^-8 //cm\n",
"v= 4.44*10^4 //cm/sec\n",
"n= 2.46*10^19 //molecules\n",
"N= 6.02*10^23 //molecules\n",
"Z1= 13.6*10^16 //collisions cm^-3 sec^-1\n",
"N= 6*10^23 //molecules\n",
"//CALCULATIONS\n",
"Z= sqrt(2)*%pi*s^2*v*n^2*10^3/(2*N)\n",
"Z2= Z1*10^3/N\n",
"//RESULTS\n",
"printf ('Z= %.2e moles of collisons litre^-1 sec^-1',Z)\n",
"printf ('\n Z= %.2e moles of collisons litre^-1 sec^-1',Z2)"
   ]
   }
,
{
		   "cell_type": "markdown",
		   "metadata": {},
		   "source": [
			"## Example 11.5: example_5.sce"
		   ]
		  },
  {
"cell_type": "code",
	   "execution_count": null,
	   "metadata": {
	    "collapsed": true
	   },
	   "outputs": [],
"source": [
"clc \n",
"//initialisation of variables\n",
"n= 2.46*10^19 //molecules cm^-3\n",
"n1= 3.24*10^13 //molecules cm^-3\n",
"l= 3.61*10^-8\n",
"//CALCULATIONS\n",
"L= (sqrt(2)*%pi*l^2*n)^-1\n",
"L1=(sqrt(2)*%pi*l^2*n1)^-1 \n",
"//RESULTS\n",
"printf ('mean free path= %.2e cm',L)\n",
"printf ('\n mean free path= %.2e cm',L1)\n",
"\n",
"\n",
"//ANSWER GIVEN IN THE TEXTBOOK IS WRONG"
   ]
   }
],
"metadata": {
		  "kernelspec": {
		   "display_name": "Scilab",
		   "language": "scilab",
		   "name": "scilab"
		  },
		  "language_info": {
		   "file_extension": ".sce",
		   "help_links": [
			{
			 "text": "MetaKernel Magics",
			 "url": "https://github.com/calysto/metakernel/blob/master/metakernel/magics/README.md"
			}
		   ],
		   "mimetype": "text/x-octave",
		   "name": "scilab",
		   "version": "0.7.1"
		  }
		 },
		 "nbformat": 4,
		 "nbformat_minor": 0
}
