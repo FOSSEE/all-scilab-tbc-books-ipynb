{
"cells": [
 {
		   "cell_type": "markdown",
	   "metadata": {},
	   "source": [
       "# Chapter 13: IREVERSIBLE PROCESS IN LIQUIDS"
	   ]
	},
{
		   "cell_type": "markdown",
		   "metadata": {},
		   "source": [
			"## Example 13.10: example_10.sce"
		   ]
		  },
  {
"cell_type": "code",
	   "execution_count": null,
	   "metadata": {
	    "collapsed": true
	   },
	   "outputs": [],
"source": [
"clc \n",
"//initialisation of variables\n",
"Tn= 0.820\n",
"Tn1=0.450\n",
"A= 426.1\n",
"A1= 91\n",
"//CALCULATIONS\n",
"l= Tn*A\n",
"l1= Tn1*A1\n",
"L= l+l1\n",
"//RESULTS\n",
"printf ('A0 for acetic acid= %.1f ',L)"
   ]
   }
,
{
		   "cell_type": "markdown",
		   "metadata": {},
		   "source": [
			"## Example 13.11: example_11.sce"
		   ]
		  },
  {
"cell_type": "code",
	   "execution_count": null,
	   "metadata": {
	    "collapsed": true
	   },
	   "outputs": [],
"source": [
"clc \n",
"//initialisation of variables\n",
"T= 25 //C\n",
"n= 2\n",
"F= 96500 //coloumbs\n",
"R= 8.316 //J mole^-1 K^-1\n",
"a= 76.2*10-5\n",
"a1= 79*10^-5\n",
"A= 155.2*10^-5\n",
"//CALCULATIONS\n",
"D0= n*a*a1*R*(273+T)*10^-6/(F*A)\n",
"//RESULTS\n",
"printf ('limiting diffusion coefficient= %.2e cm^2 sec^-1',D0)"
   ]
   }
,
{
		   "cell_type": "markdown",
		   "metadata": {},
		   "source": [
			"## Example 13.1: example_1.sce"
		   ]
		  },
  {
"cell_type": "code",
	   "execution_count": null,
	   "metadata": {
	    "collapsed": true
	   },
	   "outputs": [],
"source": [
"clc \n",
"//initialisation of variables\n",
"t= 10 //min\n",
"i= 0.1 //amp\n",
"M= 63.54 //gm mole^-1\n",
"n=2\n",
"F= 96500 //amp-sec equiv^-1\n",
"Mo= 32 //g mole^-1\n",
"T= 25 //C\n",
"R= 0.08205 //l-atm deg^-1 mole^-1\n",
"p= 740\n",
"n1=4\n",
"//CALCULATIONS\n",
"m= t*60*i*M/(F*n)\n",
"V= t*60*i*Mo*R*(273+T)*760/(F*n1*Mo*p)\n",
"//RESULTS\n",
"printf ('number of grams of copper deposited at cathode= %.5f gram',m)\n",
"printf ('\n volume of oxygen liberated at anode= %.5f lit',V)"
   ]
   }
,
{
		   "cell_type": "markdown",
		   "metadata": {},
		   "source": [
			"## Example 13.2: example_2.sce"
		   ]
		  },
  {
"cell_type": "code",
	   "execution_count": null,
	   "metadata": {
	    "collapsed": true
	   },
	   "outputs": [],
"source": [
"clc \n",
"//initialisation of variables\n",
"r= 82.4 //ohms\n",
"k= 0.002768 //ohm^-1\n",
"R1= 326 //ohm\n",
"//CALCULATIONS\n",
"K= r*k\n",
"K1= (K/R1)\n",
"//RESULTS\n",
"printf ('cell constant= %.4f cm^-1',K)\n",
"printf ('\n specific conductance= %.3e ohm^-1 cm^-1',K1)"
   ]
   }
,
{
		   "cell_type": "markdown",
		   "metadata": {},
		   "source": [
			"## Example 13.3: example_3.sce"
		   ]
		  },
  {
"cell_type": "code",
	   "execution_count": null,
	   "metadata": {
	    "collapsed": true
	   },
	   "outputs": [],
"source": [
"clc \n",
"//initialisation of variables\n",
"C= 0.005 //N\n",
"k= 6.997*10^-4 //ohm^-1 cm^-1\n",
"//CALCULATIONS\n",
"A= 1000*k/C\n",
"//RESULTS\n",
"printf ('equivalent conductance= %.1f cm^2 equiv^-1 ohm^-1',A)"
   ]
   }
,
{
		   "cell_type": "markdown",
		   "metadata": {},
		   "source": [
			"## Example 13.4: example_4.sce"
		   ]
		  },
  {
"cell_type": "code",
	   "execution_count": null,
	   "metadata": {
	    "collapsed": true
	   },
	   "outputs": [],
"source": [
"clc \n",
"//initialisation of variables\n",
"AHcl= 426.1 //cm^2 equiv^-1 ohm^-1\n",
"ANaC2H3O2= 91 //cm^2 equiv^-1 ohm^-1\n",
"ANaCl= 126.5 //cm^2 equiv^-1 ohm^-1\n",
"//CALCULATIONS\n",
"AHC2H3O2= AHcl+ANaC2H3O2-ANaCl\n",
"//RESULTS\n",
"printf ('equivalent conductance of acetic acid= %.1f cm^2 equiv^-1 ohm^-1',AHC2H3O2)"
   ]
   }
,
{
		   "cell_type": "markdown",
		   "metadata": {},
		   "source": [
			"## Example 13.5: example_5.sce"
		   ]
		  },
  {
"cell_type": "code",
	   "execution_count": null,
	   "metadata": {
	    "collapsed": true
	   },
	   "outputs": [],
"source": [
"clc \n",
"//initialisation of variables\n",
"Ke= 48.15\n",
"Ki= 390.6\n",
"c= 0.001028 //N\n",
"//CALCULATIONS\n",
"a= Ke/Ki\n",
"K= a^2*c/(1-a)\n",
"//RESULTS\n",
"printf ('ionisation constant= %.2e ',K)"
   ]
   }
,
{
		   "cell_type": "markdown",
		   "metadata": {},
		   "source": [
			"## Example 13.6: example_6.sce"
		   ]
		  },
  {
"cell_type": "code",
	   "execution_count": null,
	   "metadata": {
	    "collapsed": true
	   },
	   "outputs": [],
"source": [
"clc \n",
"//initialisation of variables\n",
"i= 0.00521 //amp\n",
"A= 0.23 //cm^2\n",
"k= 0.0129 //ohm^-1 cm^-1\n",
"t= 67 //min\n",
"l= 4.64 //cm\n",
"//CALCULATIONS\n",
"r= i/(A*k)\n",
"uK= l/(t*60*r)\n",
"//RESULTS\n",
"printf ('electrical field strength= %.2f volts cm^-1',r)\n",
"printf ('\n mobility of potassium ion= %.1e cm^2 volt^-1 cm^-1',uK)"
   ]
   }
,
{
		   "cell_type": "markdown",
		   "metadata": {},
		   "source": [
			"## Example 13.7: example_7.sce"
		   ]
		  },
  {
"cell_type": "code",
	   "execution_count": null,
	   "metadata": {
	    "collapsed": true
	   },
	   "outputs": [],
"source": [
"clc \n",
"//initialisation of variables\n",
"C= 0.1 //N\n",
"F= 96500 //coloumbs\n",
"mna= 42.6*10^-5 //cm^2 volt sec^-1\n",
"mcl= 68*10^-5 // cm^2 colt sec^-1\n",
"//CALCULATIONS\n",
"k= F*(mna+mcl)*C/1000\n",
"//RESULTS\n",
"printf ('specific conductance of sodium chloride= %.5f ohm^-1 cm^-1',k)"
   ]
   }
,
{
		   "cell_type": "markdown",
		   "metadata": {},
		   "source": [
			"## Example 13.8: example_8.sce"
		   ]
		  },
  {
"cell_type": "code",
	   "execution_count": null,
	   "metadata": {
	    "collapsed": true
	   },
	   "outputs": [],
"source": [
"clc \n",
"//initialisation of variables\n",
"V= 4.9 //faraday^-1\n",
"c= 0.1 //N\n",
"//CALCULATIONS\n",
"TK= V*c\n",
"Tcl= 1-TK\n",
"//RESULTS\n",
"printf ('transference number of chlorine= %.3f ',Tcl)"
   ]
   }
,
{
		   "cell_type": "markdown",
		   "metadata": {},
		   "source": [
			"## Example 13.9: example_9.sce"
		   ]
		  },
  {
"cell_type": "code",
	   "execution_count": null,
	   "metadata": {
	    "collapsed": true
	   },
	   "outputs": [],
"source": [
"clc \n",
"//initialisation of variables\n",
"Mc= 63.54 //gms\n",
"n= 2\n",
"mc= 0.3 //gms\n",
"mc1= 1.43\n",
"mc2= 1.2140\n",
"//CALCULATIONS\n",
"Me= Mc/n\n",
"Tc= ((mc/Me)-((mc1-mc2)/Me))/(mc/Me)\n",
"Ta= 1-Tc\n",
"//RESULTS\n",
"printf ('copper transference number= %.2f ',Ta)"
   ]
   }
],
"metadata": {
		  "kernelspec": {
		   "display_name": "Scilab",
		   "language": "scilab",
		   "name": "scilab"
		  },
		  "language_info": {
		   "file_extension": ".sce",
		   "help_links": [
			{
			 "text": "MetaKernel Magics",
			 "url": "https://github.com/calysto/metakernel/blob/master/metakernel/magics/README.md"
			}
		   ],
		   "mimetype": "text/x-octave",
		   "name": "scilab",
		   "version": "0.7.1"
		  }
		 },
		 "nbformat": 4,
		 "nbformat_minor": 0
}
