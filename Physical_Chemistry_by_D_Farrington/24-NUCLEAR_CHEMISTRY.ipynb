{
"cells": [
 {
		   "cell_type": "markdown",
	   "metadata": {},
	   "source": [
       "# Chapter 24: NUCLEAR CHEMISTRY"
	   ]
	},
{
		   "cell_type": "markdown",
		   "metadata": {},
		   "source": [
			"## Example 24.1: example_1.sce"
		   ]
		  },
  {
"cell_type": "code",
	   "execution_count": null,
	   "metadata": {
	    "collapsed": true
	   },
	   "outputs": [],
"source": [
"clc\n",
"//initialisation of variables\n",
"E= 931 //Mev/amu\n",
"nc= 6\n",
"m= 1.00814 //amu\n",
"m1= 1.00898\n",
"mc= 12.0038\n",
"//CALCULAIONS\n",
"md= nc*m+nc*m1-mc\n",
"BE= E*md\n",
"//RESULTS\n",
"printf ('BInding Energy = %.1f Mev',BE)"
   ]
   }
,
{
		   "cell_type": "markdown",
		   "metadata": {},
		   "source": [
			"## Example 24.2: example_2.sce"
		   ]
		  },
  {
"cell_type": "code",
	   "execution_count": null,
	   "metadata": {
	    "collapsed": true
	   },
	   "outputs": [],
"source": [
"clc\n",
"//initialisation of variables\n",
"r= 1.07*10^-4 //ml g^-1 day^-1\n",
"N1= 3.4*10^10 //alpha particles g^-1 sec^-1\n",
"//CALCULATIONS\n",
"N= 22400*N1*24*60*60/r\n",
"//RESULTS\n",
"printf ('avagadro number = %.2e ',N)"
   ]
   }
,
{
		   "cell_type": "markdown",
		   "metadata": {},
		   "source": [
			"## Example 24.3: example_3.sce"
		   ]
		  },
  {
"cell_type": "code",
	   "execution_count": null,
	   "metadata": {
	    "collapsed": true
	   },
	   "outputs": [],
"source": [
"clc\n",
"//initialisation of variables\n",
"R= 0.08205 //l-atm mole^-1 K^-1\n",
"T= 25 //C\n",
"p= 1 //atm\n",
"Mr= 226 //gms\n",
"th= 3.82 //days\n",
"t= 1620 //years\n",
"//CALCULATIONS\n",
"NRn= th/(Mr*t*365.26)\n",
"V= NRn*R*(273+T)*1000/p\n",
"//RESULTS\n",
"printf ('millilitres of radon = %.2e ml',V)"
   ]
   }
,
{
		   "cell_type": "markdown",
		   "metadata": {},
		   "source": [
			"## Example 24.4: example_4.sce"
		   ]
		  },
  {
"cell_type": "code",
	   "execution_count": null,
	   "metadata": {
	    "collapsed": true
	   },
	   "outputs": [],
"source": [
"clc\n",
"//initialisation of variables\n",
"mli= 7.01822 //amu\n",
"mH= 1.00814 //amu\n",
"mHe= 4.00387 //amu\n",
"n=2\n",
"E= 931 //Mev/amu\n",
"//CALCULATIONS\n",
"dE= E*(-n*mHe+mH+mli)\n",
"//RESULTS\n",
"printf ('total energy of this reaction = %.2f Mev',dE)"
   ]
   }
,
{
		   "cell_type": "markdown",
		   "metadata": {},
		   "source": [
			"## Example 24.5: example_5.sce"
		   ]
		  },
  {
"cell_type": "code",
	   "execution_count": null,
	   "metadata": {
	    "collapsed": true
	   },
	   "outputs": [],
"source": [
"clc\n",
"//initialisation of variables\n",
"mr= 2.01474 //amu\n",
"mH= 0.00237 //amu\n",
"mD= 1.00814 //amu\n",
"//CALCULATIONS\n",
"mn= mr+mH-mD\n",
"//RESULTS\n",
"printf ('mass of neutron = %.5f amu',mn)"
   ]
   }
,
{
		   "cell_type": "markdown",
		   "metadata": {},
		   "source": [
			"## Example 24.6: example_6.sce"
		   ]
		  },
  {
"cell_type": "code",
	   "execution_count": null,
	   "metadata": {
	    "collapsed": true
	   },
	   "outputs": [],
"source": [
"clc\n",
"//initialisation of variables\n",
"t= 1600 //years\n",
"M= 226 //gms\n",
"k= 3.7*10^10 //disintegrations per second\n",
"//CALCULATIONS\n",
"wl= 0.693/(t*365*24*60*60)\n",
"r= wl*6.02*10^23/M\n",
"//RESULTS\n",
"printf ('wavelength = %.1e disintegrations per second',r)"
   ]
   }
,
{
		   "cell_type": "markdown",
		   "metadata": {},
		   "source": [
			"## Example 24.8: example_8.sce"
		   ]
		  },
  {
"cell_type": "code",
	   "execution_count": null,
	   "metadata": {
	    "collapsed": true
	   },
	   "outputs": [],
"source": [
"clc\n",
"//initialisation of variables\n",
"ku= 1.52*10^-10 //year^-1\n",
"ru= 0.0453\n",
"ru1= 1.0523\n",
"Mu= 238 //gms\n",
"mu= 206 //gms\n",
"//CALCULATIONS\n",
"dt= ru*Mu/(ku*ru1*mu)\n",
"t= 2.303*log10(ru1/(ru1-(ru*Mu/mu)))/(ku*10^6)\n",
"//RESULTS\n",
"printf ('age of pitchblende  = %.f million years',t)"
   ]
   }
],
"metadata": {
		  "kernelspec": {
		   "display_name": "Scilab",
		   "language": "scilab",
		   "name": "scilab"
		  },
		  "language_info": {
		   "file_extension": ".sce",
		   "help_links": [
			{
			 "text": "MetaKernel Magics",
			 "url": "https://github.com/calysto/metakernel/blob/master/metakernel/magics/README.md"
			}
		   ],
		   "mimetype": "text/x-octave",
		   "name": "scilab",
		   "version": "0.7.1"
		  }
		 },
		 "nbformat": 4,
		 "nbformat_minor": 0
}
