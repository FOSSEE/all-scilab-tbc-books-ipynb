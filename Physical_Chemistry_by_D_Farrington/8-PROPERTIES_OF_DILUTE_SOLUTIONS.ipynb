{
"cells": [
 {
		   "cell_type": "markdown",
	   "metadata": {},
	   "source": [
       "# Chapter 8: PROPERTIES OF DILUTE SOLUTIONS"
	   ]
	},
{
		   "cell_type": "markdown",
		   "metadata": {},
		   "source": [
			"## Example 8.2: example_2.sce"
		   ]
		  },
  {
"cell_type": "code",
	   "execution_count": null,
	   "metadata": {
	    "collapsed": true
	   },
	   "outputs": [],
"source": [
"clc \n",
"//initialisation of variables\n",
"R= 1.987 //cal/mole K\n",
"T= 100 //C\n",
"M1= 18.02 //gms\n",
"Hvap= 539.7 //cal g^-1\n",
"//CALCULATIONS\n",
"Kb= R*(273.1+T)^2*M1/(1000*M1*Hvap)\n",
"//RESULTS\n",
"printf ('molal boiling point constant= %.3f deg molal^-1',Kb)"
   ]
   }
,
{
		   "cell_type": "markdown",
		   "metadata": {},
		   "source": [
			"## Example 8.3: example_3.sce"
		   ]
		  },
  {
"cell_type": "code",
	   "execution_count": null,
	   "metadata": {
	    "collapsed": true
	   },
	   "outputs": [],
"source": [
"clc \n",
"//initialisation of variables\n",
"Kb= 2.53 //deg molal^-1\n",
"w2= 1 //gms\n",
"Tb= 0.3 //C\n",
"w1= 50 //gms\n",
"//CALCULATIONS\n",
"M2= Kb*w2*1000/(Tb*w1)\n",
"//RESULTS\n",
"printf ('molecular weight of dinitrozene = %.f g mole^-1',M2)"
   ]
   }
,
{
		   "cell_type": "markdown",
		   "metadata": {},
		   "source": [
			"## Example 8.4: example_4.sce"
		   ]
		  },
  {
"cell_type": "code",
	   "execution_count": null,
	   "metadata": {
	    "collapsed": true
	   },
	   "outputs": [],
"source": [
"clc \n",
"//initialisation of variables\n",
"mu= 5 //gms\n",
"Mu= 60.06 //gms\n",
"mw= 75 //gms\n",
"//CALCULATIONS\n",
"Tb= 0.513*mu*1000/(Mu*mw)\n",
"//RESULTS\n",
"printf ('boiling water of a solution= %.3f deg',Tb)"
   ]
   }
,
{
		   "cell_type": "markdown",
		   "metadata": {},
		   "source": [
			"## Example 8.5: example_5.sce"
		   ]
		  },
  {
"cell_type": "code",
	   "execution_count": null,
	   "metadata": {
	    "collapsed": true
	   },
	   "outputs": [],
"source": [
"clc \n",
"//initialisation of variables\n",
"R= 1.987 //cal mole^-1 K^-1\n",
"T= 0 //C\n",
"M= 18.02 //gms\n",
"Hf= 79.7 //cal g^-1\n",
"//CALCULATIONS\n",
"Kf= R*(273.1+T)^2*M/(1000*M*Hf)\n",
"//RESULTS\n",
"printf ('Kf of water= %.2f deg molal^-1',Kf)"
   ]
   }
,
{
		   "cell_type": "markdown",
		   "metadata": {},
		   "source": [
			"## Example 8.6: example_6.sce"
		   ]
		  },
  {
"cell_type": "code",
	   "execution_count": null,
	   "metadata": {
	    "collapsed": true
	   },
	   "outputs": [],
"source": [
"clc \n",
"//initialisation of variables\n",
"M= 18.02 //g mole^-1\n",
"d= 0.99564 //g/cc\n",
"R= 0.08205 //l-atm deg^-1 mole^-1\n",
"T= 30 //C\n",
"P1= 31.824 //mm\n",
"P10= 31.207 //mm\n",
"//CALCULATIONS\n",
"p= R*(273.15+T)*2.303*1000*d*log10(P1/P10)/M\n",
"//RESULTS\n",
"printf ('osmotic pressure of sucrose solution= %.1f atm',p)"
   ]
   }
,
{
		   "cell_type": "markdown",
		   "metadata": {},
		   "source": [
			"## Example 8.7: example_7.sce"
		   ]
		  },
  {
"cell_type": "code",
	   "execution_count": null,
	   "metadata": {
	    "collapsed": true
	   },
	   "outputs": [],
"source": [
"clc \n",
"//initialisation of variables\n",
"R= 0.082 //l-atm / mol ^-1 K^-1\n",
"T= 30 //C\n",
"V= 1 //l\n",
"//CALCULATIONS\n",
"p= R*(273.15+T)/V\n",
"//RESULTS\n",
"printf ('osmotic pressure of sucrose solution= %.1f atm',p)"
   ]
   }
],
"metadata": {
		  "kernelspec": {
		   "display_name": "Scilab",
		   "language": "scilab",
		   "name": "scilab"
		  },
		  "language_info": {
		   "file_extension": ".sce",
		   "help_links": [
			{
			 "text": "MetaKernel Magics",
			 "url": "https://github.com/calysto/metakernel/blob/master/metakernel/magics/README.md"
			}
		   ],
		   "mimetype": "text/x-octave",
		   "name": "scilab",
		   "version": "0.7.1"
		  }
		 },
		 "nbformat": 4,
		 "nbformat_minor": 0
}
