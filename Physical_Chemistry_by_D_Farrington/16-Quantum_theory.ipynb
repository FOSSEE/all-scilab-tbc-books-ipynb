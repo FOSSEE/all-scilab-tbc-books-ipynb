{
"cells": [
 {
		   "cell_type": "markdown",
	   "metadata": {},
	   "source": [
       "# Chapter 16: Quantum theory"
	   ]
	},
{
		   "cell_type": "markdown",
		   "metadata": {},
		   "source": [
			"## Example 16.1: example_1.sce"
		   ]
		  },
  {
"cell_type": "code",
	   "execution_count": null,
	   "metadata": {
	    "collapsed": true
	   },
	   "outputs": [],
"source": [
"clc\n",
"//initialisation of variables\n",
"e= 1.6*10^-19 //coloumb electron^-1\n",
"F= 96496 //coloumbs equiv^-1\n",
"//CALCULATIONS\n",
"N= F/e\n",
"//RESULTS\n",
"printf ('avagadros number = %.3e coloumbs equiv^-1',N)"
   ]
   }
,
{
		   "cell_type": "markdown",
		   "metadata": {},
		   "source": [
			"## Example 16.2: Example_2.sce"
		   ]
		  },
  {
"cell_type": "code",
	   "execution_count": null,
	   "metadata": {
	    "collapsed": true
	   },
	   "outputs": [],
"source": [
"clc\n",
"//initialisation of variables\n",
"wl= 4500 //A\n",
"c= 3*10^10 //cm/sec\n",
"//CALCULATIONS\n",
"l= wl*10^-8\n",
"l1= wl*10^-1\n",
"f= 1/l\n",
"f1= c/l\n",
"//RESULTS\n",
"printf ('wavelength in centimetres = %.1e cm',l)\n",
"printf ('\n wavelength in micrometres = %.1e cm',l1)\n",
"printf ('\n frequency of bluelight = %.2e sec^-1',f1)\n",
"printf ('\n wave number = %.2e cm^-1',f)"
   ]
   }
],
"metadata": {
		  "kernelspec": {
		   "display_name": "Scilab",
		   "language": "scilab",
		   "name": "scilab"
		  },
		  "language_info": {
		   "file_extension": ".sce",
		   "help_links": [
			{
			 "text": "MetaKernel Magics",
			 "url": "https://github.com/calysto/metakernel/blob/master/metakernel/magics/README.md"
			}
		   ],
		   "mimetype": "text/x-octave",
		   "name": "scilab",
		   "version": "0.7.1"
		  }
		 },
		 "nbformat": 4,
		 "nbformat_minor": 0
}
