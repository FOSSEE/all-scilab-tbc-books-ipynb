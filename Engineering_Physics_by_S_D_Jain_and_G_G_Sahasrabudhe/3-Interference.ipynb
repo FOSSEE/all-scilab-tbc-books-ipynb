{
"cells": [
 {
		   "cell_type": "markdown",
	   "metadata": {},
	   "source": [
       "# Chapter 3: Interference"
	   ]
	},
{
		   "cell_type": "markdown",
		   "metadata": {},
		   "source": [
			"## Example 3.10: Wedge_angle.sce"
		   ]
		  },
  {
"cell_type": "code",
	   "execution_count": null,
	   "metadata": {
	    "collapsed": true
	   },
	   "outputs": [],
"source": [
"clc();\n",
"clear;\n",
"//Given:\n",
"lambda = 6000; // wavelength in A\n",
"mu = 1; //refractive index for air\n",
"// Fringe pattern having 100 fringes per cm\n",
"betaa = 0.01; // fringe width in cm\n",
"// And,We know betaa = lambda/(2*mu*alpha) , so\n",
" // 1 A = 1.0*10^-8 cm\n",
" alpha = lambda*10^-8/(2*mu*betaa); // wedge angle in rad\n",
" printf('Wedge angle = %.3f rad',alpha);\n",
""
   ]
   }
,
{
		   "cell_type": "markdown",
		   "metadata": {},
		   "source": [
			"## Example 3.13: Interference_for_different_waves.sce"
		   ]
		  },
  {
"cell_type": "code",
	   "execution_count": null,
	   "metadata": {
	    "collapsed": true
	   },
	   "outputs": [],
"source": [
"clc();\n",
"clear;\n",
"//Given :\n",
"angle = 4*10^-2 ; // angle in rad\n",
"//1 radian = 57.2957795 degrees\n",
"theta = angle*57.2957795 ;// in degrees \n",
"//  d*sin(theta) = lambda , so  d = lambda/(sin(theta)) :\n",
"//(a)For Sound waves \n",
"lambda1 = 0.75; // Wavelength in m\n",
"d1 = lambda1/sind(theta); // distance in m \n",
"//(b)For Ultrasonic waves\n",
"lambda2 = 0.1; // Wwavelength in m\n",
"d2 =  lambda2/sind(theta); // distance in m\n",
"//(c)For microwaves \n",
"lambda3 = 2.9 ; // Wavelength in cm\n",
"//1cm = 1.0*10^-2 m\n",
"d3 = lambda3*10^-2/sind(theta); // distance in m\n",
"//(d)For IR waves\n",
"lambda4 = 10; // Wavelength in mu_m\n",
"// 1 mu_m = 1.0*10^-6 m\n",
"d4 = lambda4*10^-6/sind(theta);// distance in m\n",
"//(e)For light waves \n",
"lambda5 = 5890;// in angstroms\n",
"//1 A = 1.0*10^-10 m\n",
"d5 = lambda5*10^-10/sind(theta); // distance in m\n",
"printf(' (a)For Sound waves : %.2f m \n',d1);\n",
"printf(' (b)For Ultrasonic waves : %.2f m \n',d2);\n",
"printf(' (c)For Microwaves  : %.2f m \n',d3);\n",
"printf(' (d)For IR waves : %.1f mu m \n',d4*10^6);\n",
"printf(' (e)For Light waves : %.2f mu m \n',d5*10^6);\n",
"\n",
"\n",
"\n",
""
   ]
   }
,
{
		   "cell_type": "markdown",
		   "metadata": {},
		   "source": [
			"## Example 3.14: Intensity_distribution.sce"
		   ]
		  },
  {
"cell_type": "code",
	   "execution_count": null,
	   "metadata": {
	    "collapsed": true
	   },
	   "outputs": [],
"source": [
"clc();\n",
"clear;\n",
"//Given :\n",
"// Now, the intensity  distribution  is given by :\n",
"// I = I_1 + I_2 + 2*(I_1*I_2)^0.5 *cos(alpha1- alpha2) , Using alpha = alpha1 - alpha2  and I_1 = I_2 = I_0 \n",
"// I = 2*I_0*(1+ cos(alpha)) \n",
"nu = 1.2 * 10^6 ; // frequency in Hz\n",
"c = 3*10^8 ; // velocity of light in m/s\n",
"lambda = c/nu ; // wavelength in m\n",
"d = 500; // two identical vertical dipole antenna spaced 500 m apart\n",
"// Directions along which  the intensity is maximum :\n",
"printf('Maximum Intensity \n\n');\n",
"for n= 0 :2\n",
"theta = asind((n*lambda)/d);// in degrees\n",
"printf('---> theta = %d degrees\n',theta);\n",
"end\n",
"// Directions for which intensity is minimum :\n",
"n1 =0;\n",
"theta1 = asind(((n1 + (1/2))*lambda)/d);//in degrees\n",
"printf('Minimum Intensity \n\n');\n",
"printf('--> theta = %.1f degrees\n',theta1);\n",
"\n",
"\n",
""
   ]
   }
,
{
		   "cell_type": "markdown",
		   "metadata": {},
		   "source": [
			"## Example 3.15: Linear_expansivity.sce"
		   ]
		  },
  {
"cell_type": "code",
	   "execution_count": null,
	   "metadata": {
	    "collapsed": true
	   },
	   "outputs": [],
"source": [
"clc();\n",
"clear;\n",
"//Given :\n",
"lambda = 5900 ; //Wavelength in A\n",
"delta_T = 150; // Temperature of the metal cylinder is now raised by 150 K\n",
"p = 20 ; // p is the number of rings shifted due to increase in t_n (t_n  is the thickness of the air film)\n",
"l = 5 ; // length of the metal cyclinder in  mm\n",
"mu = 1; //refractive index for air\n",
"//Increase in length  = (p*lambda)/2*mu\n",
"// 1 A = 1.0*10^-7 mm\n",
"delta_l = (p*lambda*10^-7)/2*mu; // increase in length in mm\n",
"//Linear expansivity of the metal of the cyclinder \n",
"alpha = (delta_l)/(l*delta_T); // in 1/K\n",
"printf('The linear expansivity of the metal of the cylinder using Newtons rings apparatus is : %.1f x 10^-6/K ', alpha*10^6);"
   ]
   }
,
{
		   "cell_type": "markdown",
		   "metadata": {},
		   "source": [
			"## Example 3.16: Michelsons_interferometer.sce"
		   ]
		  },
  {
"cell_type": "code",
	   "execution_count": null,
	   "metadata": {
	    "collapsed": true
	   },
	   "outputs": [],
"source": [
"clc();\n",
"clear;\n",
"//Given :\n",
"d = 0.065; //distance in mm\n",
"p = 200 ;// 200 fringes cross the field of view\n",
"//Michelson's interferometer arrangement : 2*d = p*lambda\n",
"lambda = 2*d/p;// wavelength in mm\n",
"\n",
"printf(' Wavelength : %.1f x 10^-4 mm ',lambda*10^4);"
   ]
   }
,
{
		   "cell_type": "markdown",
		   "metadata": {},
		   "source": [
			"## Example 3.17: Newtons_ring_apparatus.sce"
		   ]
		  },
  {
"cell_type": "code",
	   "execution_count": null,
	   "metadata": {
	    "collapsed": true
	   },
	   "outputs": [],
"source": [
"clc();\n",
"clear;\n",
"//Given :\n",
"D10_air = 1.75 ;//diameter of the 10th bright ring in Newton's ring apparatus in cm\n",
"D10_liquid = 1.59 ; // diameter of the 10th bright ring in Newton's ring apparatus in cm\n",
"// The diameter of the nth bright ring in Newton's ring apparatus :  D_n = 2*(R*(n + 1/2)*(lambda/mu))^0.5\n",
"mu = (D10_air/D10_liquid)^2;\n",
"printf('The refractive index of the liquid is %.3f',mu);"
   ]
   }
,
{
		   "cell_type": "markdown",
		   "metadata": {},
		   "source": [
			"## Example 3.18: Anti_Reflection_Coating.sce"
		   ]
		  },
  {
"cell_type": "code",
	   "execution_count": null,
	   "metadata": {
	    "collapsed": true
	   },
	   "outputs": [],
"source": [
"clc();\n",
"clear;\n",
"//Given :\n",
"lambda = 5500; // Wavelength in A\n",
"mu_f = 1.38; // refractive index for MgF2\n",
"mu_f1 = 1.48; // refractive index for lucite\n",
"//The minimum thickness \n",
"t = lambda/(4*mu_f) ; // thickness in A\n",
"printf('The minimum thickness = %.1f A\n\n',t);\n",
"// Resultant reflected intensity = I = 2*I_0*(1 + cos(alpha)) \n",
"// alpha = (2*pi/lambda)*(path difference) \n",
"alpha1 = (2*%pi/lambda)*(2*mu_f*t); // angle in radians\n",
"alpha2 = (2*%pi/lambda)*(2*mu_f1*t); // angle in radians\n",
"printf(' alpha = %.3f for MgF2 and %.3f for lucite\n\n',alpha1,alpha2);\n",
"printf(' For MgF2 : I = (%f)*I_0\n\n',2*(1+cos(alpha1)));\n",
"printf(' For lucite : I = (%.3f)*I_0\n\n',2*(1+cos(alpha2)));\n",
"printf('For Lucite : (%.3f)*I_0 , indicates %.1f percentage  of the incident light is reflected ,so it is less suitable for coating.',2*(1+cos(alpha2)), 100*2*(1+cos(alpha2)));\n",
"\n",
""
   ]
   }
,
{
		   "cell_type": "markdown",
		   "metadata": {},
		   "source": [
			"## Example 3.3: Incoherence.sce"
		   ]
		  },
  {
"cell_type": "code",
	   "execution_count": null,
	   "metadata": {
	    "collapsed": true
	   },
	   "outputs": [],
"source": [
"clc();\n",
"clear;\n",
"//Given :\n",
"lambda1 = 5890 ; // Wavelength in angstroms\n",
"lambda2 = 5896 ; // Wavelength in angstroms\n",
"//For sodium doublet\n",
"nu1 = 5.0934*10^14; //Frequency in Hz\n",
"nu2 = 5.0882*10^14; //Frequency in Hz\n",
"\n",
"deltanu = nu1-nu2; // Differnece in Frequencies in Hz \n",
"Tc = 1/deltanu ; // Coherence time in s\n",
"\n",
"n1 = Tc*nu1; // Number of Cycles of wavelength 5890 angstroms\n",
"n2 = Tc*nu2;// Number of cycles of wavelegth 5896 angstrom\n",
"//in this coherence time , we have:\n",
"printf('Cycles : %d , Wavelength %d A \n',round(n1),lambda1);\n",
"printf('Cycles : %d , Wavelength %d A',round(n2),lambda2);\n",
""
   ]
   }
,
{
		   "cell_type": "markdown",
		   "metadata": {},
		   "source": [
			"## Example 3.4: Ordinary_and_Laser_source.sce"
		   ]
		  },
  {
"cell_type": "code",
	   "execution_count": null,
	   "metadata": {
	    "collapsed": true
	   },
	   "outputs": [],
"source": [
"clc();\n",
"clear;\n",
"//Given:\n",
"deltalambda1 = 0.01; // The line width of the orange line of krypton,Kr^86  in A\n",
"lambda = 6058; // Wavelength in angstroms = 6058*10^-10 m\n",
"deltalambda2 = 0.00015; // The line width of a laser source in A\n",
"c = 3*10^8 ;// Velocity of light  in vacuum in m/s \n",
"nu0 = c/(lambda*10^-10);// lambda in m , 1 A = 1.0 × 10^-10 m\n",
"//1 A = 1.0 × 10^-10 m\n",
"//For orange line of Krypton\n",
"Lc1= (lambda^2/deltalambda1)*10^-10; // coherence length in m \n",
"deltanu1 = c/Lc1 ;//  bandwidth in Hz\n",
"Tc1 = (Lc1/c);// Coherence time in s \n",
"//Xi = deltanu/nu0 , where nu0 = c/lambda which equals to (deltanu*lambda)/c, lambda in A\n",
"Xi1 = deltanu1/nu0 ; //degree of monochromaticity \n",
"//For Laser Source\n",
"Lc2= (lambda^2/deltalambda2)*10^-10;// coherence length in m\n",
"deltanu2 = c/Lc2 ;//  in Hz\n",
"Tc2 = (Lc2/c);//Calculating Coherence time in s\n",
"//Xi = deltanu/nu0 , where nu0 = c/lambda which equals to (deltanu*lambda)/c, lambda in A\n",
"Xi2 = deltanu2/nu0 ;// degree of monochromaticity \n",
"printf('For Orange line of Krypton : \n\n Coherence Length : \t %.4f m \n Bandwidth : \t\t %.2f x 10^8 Hz \n Coherence : \t\t %.2f x 10^-8 s \n Degree of Monochromaticity :  %.2f x 10^-6  \n\n',Lc1,deltanu1*10^-8,Tc1*10^8,Xi1*10^6);\n",
"printf('For Laser Source : \n\n Coherence Length : \t %.2f m \n Bandwidth : \t\t %.2f x 10^7 Hz \n Coherence : \t\t %.2f x 10^-8 s \n Degree of Monochromaticity :  %.2f x 10^-8  \n\n',Lc2,deltanu2*10^-7,Tc2*10^8,Xi2*10^8);"
   ]
   }
,
{
		   "cell_type": "markdown",
		   "metadata": {},
		   "source": [
			"## Example 3.5: Optical_path.sce"
		   ]
		  },
  {
"cell_type": "code",
	   "execution_count": null,
	   "metadata": {
	    "collapsed": true
	   },
	   "outputs": [],
"source": [
"clc();\n",
"clear;\n",
"//(a) \n",
"//Given:\n",
"lambda = 5890;// Wavelength in A\n",
"l = 5.89; //thickness of the film in mu m\n",
"mu = 1.35; //refractive index\n",
"delta = mu*l;// optical path in the medium  in m\n",
"//(b) (i)Number of waves in the medium\n",
"//1 angstrom = 1.0*10^-10 m and 1 mu m = 1*10^-6 m\n",
"N= (l*10^-6)/(lambda*10^-10/mu); \n",
"//the distance in vaccum for those waves :\n",
"delta1 =N*lambda*10^-10; // optical path in m\n",
"//(b) (ii)Phase difference in the medium \n",
"//1 angstrom = 1.0*10^-10 m and 1 mu m = 1*10^-6 m\n",
"phi = ((2*%pi)/(lambda*10^-10/mu))*(l*10^-6) ;\n",
"printf('Optical path = %.4f mu m\n',delta);\n",
"printf('Number of waves : %.1f\n',N);\n",
"printf('The distance in vaccum for those waves is : %.4f mu m  \n',delta1*10^6);\n",
"printf('Phase difference = %.3f\n',phi);\n",
""
   ]
   }
,
{
		   "cell_type": "markdown",
		   "metadata": {},
		   "source": [
			"## Example 3.6: Total_optical_path.sce"
		   ]
		  },
  {
"cell_type": "code",
	   "execution_count": null,
	   "metadata": {
	    "collapsed": true
	   },
	   "outputs": [],
"source": [
"clc();\n",
"clear;\n",
"//Given:\n",
"lambda = 5890; // Wavelength of a beam of sodium light in A\n",
"l = 100 ; // thickness  in cm\n",
"mu1 = 1.00;//refractive index of air\n",
"mu2 = 1.33;// refractive index of water\n",
"mu3 = 1.39; // refractive index of  oil\n",
"mu4 = 1.64; // refractive index of glass\n",
"c = 3*10^8 ;// Velocity of light in vacuum in m/s\n",
"//For Air :\n",
"lambda1 = lambda/mu1; // wavelength of light in A\n",
"v1 = c/mu1;// Velocity of light in air in m/s\n",
"// 1cm = 1*10^-2 m\n",
"t1 = (l*10^-2/v1); //time of travel in s\n",
"// 1 A = 1*10^-10 m\n",
"N1 = (l*10^-2)/(lambda1*10^-10);// Number of waves \n",
"delta1 = mu1*l; //Optical path in cm\n",
"//For Water :\n",
"lambda2 = lambda/mu2; // wavelength of light in A\n",
"v2 = c/mu2;// Velocity of light in water in m/s\n",
"//1cm = 1*10^-2 m\n",
"t2 = (l*10^-2/v2); //time of travel in s \n",
"//1 A = 1*10^-10 m\n",
"N2 = (l*10^-2)/(lambda2*10^-10);// Number of waves \n",
"delta2 = mu2*l; //Optical path in cm\n",
"//For Oil :\n",
"lambda3 = lambda/mu3; // wavelength of light in A\n",
"v3 = c/mu3;// Velocity of light in Oil in m/s\n",
"//1cm = 1*10^-2 m\n",
"t3 = (l*10^-2/v3); //time of travel in s\n",
"//1 A = 1*10^-10 m\n",
"N3 = (l*10^-2)/(lambda3*10^-10);// Number of waves \n",
"delta3 = mu3*l; //Optical path in cm\n",
"//For Glass: \n",
"lambda4 = lambda/mu4; // wavelength of light in A\n",
"v4 = c/mu4;// Velocity of light in Glass in m/s\n",
"// 1cm = 1*10^-2 m\n",
"t4 = (l*10^-2/v4); //time of travel in s\n",
"//1 A = 1*10^-10 m\n",
"N4 = (l*10^-2)/(lambda4*10^-10);// Number of waves \n",
"delta4 = mu4*l; //Optical path in cm\n",
"delta = delta1+delta2+delta3+delta4; // total optical path in cm\n",
"printf('Parameters \t\t\t Air \t\t\t Water \t\t\t Oil \t\t\tGlass \n\n');\n",
"printf('Wavelength : \t\t %.0f A \t\t %.1f A \t\t %.1f A \t\t %.1f A \n',lambda1,lambda2,lambda3,lambda4);\n",
"printf('Velocity : \t\t %.0f x 10^8 m/s \t\t %.2f x 10^8m/s \t %.2f x 10^8 m/s \t %.2f x 10^8 m/s \n',v1*10^-8,v2*10^-8,v3*10^-8,v4*10^-8);\n",
"printf('Time of travel : \t %2.1f x 10^-10 s\t %2.1f x 10^-10 s\t %2.1f x 10^-10 s\t %2.1f x 10^-10 s \n',t1*10^10,t2*10^10,t3*10^10,t4*10^10);\n",
"printf('Number of waves: \t %.1f x 10^6 \t\t %.1f x 10^6 \t\t %.1f x 10^6 \t\t %.1f x10^6 \n',N1*10^-6,N2*10^-6,N3*10^-6,N4*10^-6);\n",
"printf('Optical path : \t\t %d cm \t\t %d cm \t\t %d cm \t\t %d cm \n\n',delta1,delta2,delta3,delta4);\n",
"printf(' The total optical path = %d cm\n\n',delta);\n",
"\n",
"\n",
"\n",
""
   ]
   }
,
{
		   "cell_type": "markdown",
		   "metadata": {},
		   "source": [
			"## Example 3.8: Maximum_observable_fringes.sce"
		   ]
		  },
  {
"cell_type": "code",
	   "execution_count": null,
	   "metadata": {
	    "collapsed": true
	   },
	   "outputs": [],
"source": [
"clc();\n",
"clear;\n",
"//Given :\n",
"lambda = 6058;// Wavelength of light in A\n",
"deltalambda1 = 0.01; // line width for a krypton source in A\n",
"deltalambda2 = 0.00015; // line width for a laser source in A\n",
"// The maximum number of fringes is given by n_max = lambda/deltalambda\n",
"// (a) For a krypton source :\n",
"n_max1 = lambda/deltalambda1 ;\n",
"// (b) For a laser source :\n",
"n_max2 = lambda/deltalambda2;\n",
"printf('The maximum number of fringes observable are :\n\n');\n",
"printf('(a) For a krypton source : %d \n\n',n_max1);\n",
"printf('(b) For a laser source : %d \n\n',n_max2);\n",
"\n",
" "
   ]
   }
,
{
		   "cell_type": "markdown",
		   "metadata": {},
		   "source": [
			"## Example 3.9: Interference_pattern.sce"
		   ]
		  },
  {
"cell_type": "code",
	   "execution_count": null,
	   "metadata": {
	    "collapsed": true
	   },
	   "outputs": [],
"source": [
"clc();\n",
"clear;\n",
"//Given :\n",
"mu = 1.4;// refractive index of a thin film\n",
"lambda = 5890; // Wavelength of sodium light in A\n",
"deltalambda = 20; //line width in A\n",
"// For observing interference pattern, t < lambda^2/(2*mu*deltalambda)\n",
"t_max = lambda^2/(2*mu*deltalambda); //thickness of the film in A\n",
"printf(' t_max : %1.3f x 10^5 A \n\n',t_max*10^-5);\n",
"\n",
"\n",
""
   ]
   }
],
"metadata": {
		  "kernelspec": {
		   "display_name": "Scilab",
		   "language": "scilab",
		   "name": "scilab"
		  },
		  "language_info": {
		   "file_extension": ".sce",
		   "help_links": [
			{
			 "text": "MetaKernel Magics",
			 "url": "https://github.com/calysto/metakernel/blob/master/metakernel/magics/README.md"
			}
		   ],
		   "mimetype": "text/x-octave",
		   "name": "scilab",
		   "version": "0.7.1"
		  }
		 },
		 "nbformat": 4,
		 "nbformat_minor": 0
}
