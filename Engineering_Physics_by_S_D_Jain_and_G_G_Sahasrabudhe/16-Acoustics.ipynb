{
"cells": [
 {
		   "cell_type": "markdown",
	   "metadata": {},
	   "source": [
       "# Chapter 16: Acoustics"
	   ]
	},
{
		   "cell_type": "markdown",
		   "metadata": {},
		   "source": [
			"## Example 16.10: Determination_of_sea_depth.sce"
		   ]
		  },
  {
"cell_type": "code",
	   "execution_count": null,
	   "metadata": {
	    "collapsed": true
	   },
	   "outputs": [],
"source": [
"clc();\n",
"clear;\n",
"//Given :\n",
"v = 1500; // velocity of ultrasound in m/s\n",
"rt = 0.8; // recorded time in s\n",
"t = rt/2; // time in s\n",
"//Ultrasound velocity = D/t\n",
"D = v*t; // sea depth in m\n",
"printf('Depth = %d m',D);"
   ]
   }
,
{
		   "cell_type": "markdown",
		   "metadata": {},
		   "source": [
			"## Example 16.1: Increase_in_Sound_velocity.sce"
		   ]
		  },
  {
"cell_type": "code",
	   "execution_count": null,
	   "metadata": {
	    "collapsed": true
	   },
	   "outputs": [],
"source": [
"clc();\n",
"clear;\n",
"//Given :\n",
"delta_t = 1; // temperature in degrees\n",
"t1 = 27; // temperature in degrees\n",
"//Ratio = v2/v1 = 1+ (delta_t/(t1+273))\n",
"Ratio = 1 + (delta_t /(2*(t1+273)));\n",
"v1 = 343;// speed of sound at room temperature in m/s\n",
"v2 = v1*Ratio; // speed of sound in air in m/s\n",
"delta_v = v2-v1; // speed in m/s\n",
"printf('Ratio = %.4f  \n',Ratio);\n",
"printf('delta_v = %.1f m/s',delta_v);"
   ]
   }
,
{
		   "cell_type": "markdown",
		   "metadata": {},
		   "source": [
			"## Example 16.2: Limits_of_displacement_amplitudes.sce"
		   ]
		  },
  {
"cell_type": "code",
	   "execution_count": null,
	   "metadata": {
	    "collapsed": true
	   },
	   "outputs": [],
"source": [
"clc();\n",
"clear;\n",
"//Given :\n",
"p_rms = 0.0002; // in microbar\n",
"p_rms1 = 20; // in pascal\n",
"v = 343; // speed of sound in m/s\n",
"rho_0 = 1.21; // density of air in kg/m^3\n",
"f = 1000; // frequency in Hz\n",
"// p_rms = pm_min/(2)^0.5\n",
"//1 microbar = 0.1 N/m^2\n",
"pm_min = sqrt(2)*p_rms*0.1; //in N/m^2\n",
"// 1 pascal = 1 N/m^2\n",
"pm_max =sqrt(2)*p_rms1*1; // in N/m^2\n",
"// sm = pm/(v*rho_0*omega);\n",
"//omega = 2*pi*f\n",
"sm_min = pm_min/(v*rho_0*2*%pi*f); // displacement amplitude in m\n",
"sm_max = pm_max/(v*rho_0*2*%pi*f);// displacement amplitude in m\n",
"printf('Minimum displacement amplitude = %.2f  pm \n',sm_min*10^12);\n",
"printf('Maximum displacement amplitude = %.0f mu m',sm_max*10^6);"
   ]
   }
,
{
		   "cell_type": "markdown",
		   "metadata": {},
		   "source": [
			"## Example 16.3: Imax_by_Imi.sce"
		   ]
		  },
  {
"cell_type": "code",
	   "execution_count": null,
	   "metadata": {
	    "collapsed": true
	   },
	   "outputs": [],
"source": [
"clc();\n",
"clear;\n",
"//Given :\n",
"sm_min = 11*10^-12;// Minimum displacement amplitude in m\n",
"sm_max = 11*10^-6;// Maximum displacement amplitude in m\n",
"v = 343;// speed of sound in m/s\n",
"f = 1000; // frequency in Hz\n",
"rho_0 = 1.21; // density of air in kg/m^3\n",
"// Sound intensity = (rho_0*v*omega^2*sm^2)/2\n",
"//omega = 2*pi*f\n",
"I_max = (rho_0*v*((2*%pi*f)^2)*(sm_max^2))/2; // Maximum Intensity\n",
"I_min =  (rho_0*v*((2*%pi*f)^2)*(sm_min^2))/2; // Minimum Intensity\n",
"Ratio = I_max/I_min ;\n",
"printf('I_max/I_min = %.1f x 10^12 ', Ratio*10^-12);"
   ]
   }
,
{
		   "cell_type": "markdown",
		   "metadata": {},
		   "source": [
			"## Example 16.4: Sound_intensities.sce"
		   ]
		  },
  {
"cell_type": "code",
	   "execution_count": null,
	   "metadata": {
	    "collapsed": true
	   },
	   "outputs": [],
"source": [
"clc();\n",
"clear;\n",
"//Given :\n",
"I0 = 10^-12; // in W/m^2\n",
"beta1 = 0; // in dB\n",
"beta2 = 60;// in dB\n",
"beta3 = 120; // in dB\n",
"// Intensity level = beta = 10*log10(I/I0)\n",
"I1 = 10^(beta1/10)*I0; // Intensity in W/m^2\n",
"I2 = 10^(beta2/10)*I0; // Intensity in W/m^2\n",
"I3 = 10^(beta3/10)*I0; // Intensity in W/m^2\n",
"printf('Hearing Threshold : %.1f x 10^-12 W/m^2 \n',I1*10^12);\n",
"printf('Speech Activity : %.1f x 10^-6 W/m^2 \n',I2*10^6);\n",
"printf('Pain Threshold : %.1f W/m^2',I3);"
   ]
   }
,
{
		   "cell_type": "markdown",
		   "metadata": {},
		   "source": [
			"## Example 16.5: Determination_of_reverberation_time.sce"
		   ]
		  },
  {
"cell_type": "code",
	   "execution_count": null,
	   "metadata": {
	    "collapsed": true
	   },
	   "outputs": [],
"source": [
"clc();\n",
"clear;\n",
"//Given :\n",
"l = 200; // in ft\n",
"b = 50; // in ft\n",
"h = 30;// in ft\n",
"alpha = 0.25; //average absorption coefficient\n",
"V  = l*b*h; // Volume in ft^3\n",
"S = 2*((l*b)+(l*h)+(b*h)); //total surface area in ft^2\n",
"a = alpha*S;// in sabins\n",
"T = (0.049*V)/a; // reverberation time in s\n",
"//400 people present in the auditorium, 1 person is equivalent to 4.5 sabins\n",
"a1 = a+ 400*4.5; // in sabins\n",
"T1 = (0.049*V)/a1;// reverberation time in s\n",
"printf('For auditorium : %.2f s \n',T);\n",
"printf('When people are present %.2f s',T1);"
   ]
   }
,
{
		   "cell_type": "markdown",
		   "metadata": {},
		   "source": [
			"## Example 16.6: Determination_of_unknown_absorption_coefficient.sce"
		   ]
		  },
  {
"cell_type": "code",
	   "execution_count": null,
	   "metadata": {
	    "collapsed": true
	   },
	   "outputs": [],
"source": [
"clc();\n",
"clear;\n",
"//Given :\n",
"V = 9*10*11; // Volume in ft^3\n",
"T = 4; // reverberation time in s\n",
"S = 2*((9*10)+(10*11)+(11*9));// total surface area in ft^2\n",
"//T = (0.049*V)/(alpha*S)\n",
"alpha = (0.049*V)/(S*T);//average absorption coefficient \n",
"T1 = 1.3; // reverberation time in s\n",
"S1 = 50; // total surface area in ft^2\n",
"alpha_e =(((0.049*V)/S1)*((1/T1)-(1/T))) + alpha ; // effective absorption coefficient \n",
"printf('alpha = %.2f  \n',alpha);\n",
"printf('alpha_e = %.2f  ',alpha_e);"
   ]
   }
,
{
		   "cell_type": "markdown",
		   "metadata": {},
		   "source": [
			"## Example 16.7: Use_of_ultrasound_by_bats.sce"
		   ]
		  },
  {
"cell_type": "code",
	   "execution_count": null,
	   "metadata": {
	    "collapsed": true
	   },
	   "outputs": [],
"source": [
"clc();\n",
"clear;\n",
"//Given :\n",
"v = 343; // velocity of sound in m/s\n",
"lambda = 1; // wavelength in cm\n",
"// 1 cm = 1.0*10^-2 m\n",
"f = v/(lambda*10^-2); //frequency in Hz\n",
"printf('Frequency is %.1f kHz',f*10^-3);"
   ]
   }
,
{
		   "cell_type": "markdown",
		   "metadata": {},
		   "source": [
			"## Example 16.8: Ultrasonic_generators.sce"
		   ]
		  },
  {
"cell_type": "code",
	   "execution_count": null,
	   "metadata": {
	    "collapsed": true
	   },
	   "outputs": [],
"source": [
"clc();\n",
"clear;\n",
"//Given :\n",
"E1 = 8.55*10^10; //Modulus of elasticity in N/m^2\n",
"E2 = 21*10^10; // Modulus of elasticity in N/m^2\n",
"rho1 = 2650; // density of Quartz in kg/m^3\n",
"rho2 = 8800;// density of Nickel in kg/m^3\n",
"t = 2; // thickness of crystal in mm\n",
"l = 50; // rod length in mm\n",
"//Piezoelectric generator\n",
"printf('Piezoelectric generator \n\n');\n",
"for n = 1:3\n",
"    // 1 mm = 1.0*10^-3 m\n",
"    nu1 = (n/(2*t*10^-3))*sqrt(E1/rho1);// frequency in Hz \n",
"    printf('For  n = %d  , Frequency  = %.2f  MHz\n',n,nu1*10^-6);\n",
"end\n",
"//Magnetostriction generator\n",
"printf('Magnetostriction generator\n\n');\n",
"for n1 = 1:3\n",
"     // 1 mm = 1.0*10^-3 m\n",
"    nu2 = (n1/(2*l*10^-3))*sqrt(E2/rho2);// frequency in Hz \n",
"    printf('For  n = %d  , Frequency  = %.1f  kHz\n',n1,nu2*10^-3);\n",
"end\n",
"//Results differ from those in textbook, because in the formulae (n/(2*t))*sqrt(E/rho) and (n/(2*l))*sqrt(E/rho) , 2 is not multiplied with either t or l."
   ]
   }
,
{
		   "cell_type": "markdown",
		   "metadata": {},
		   "source": [
			"## Example 16.9: Noise_pollutio.sce"
		   ]
		  },
  {
"cell_type": "code",
	   "execution_count": null,
	   "metadata": {
	    "collapsed": true
	   },
	   "outputs": [],
"source": [
"clc();\n",
"clear;\n",
"//Given :\n",
"I0 = 10^-12; // in W/m^2\n",
"beta1 = 110; // in dB\n",
"beta2 = 150;// in dB\n",
"beta3 = 180; // in dB\n",
"// Intensity level = beta = 10*log10(I/I0)\n",
"I1 = 10^(beta1/10)*I0; // Intensity in W/m^2\n",
"I2 = 10^(beta2/10)*I0; // Intensity in W/m^2\n",
"I3 = 10^(beta3/10)*I0; // Intensity in W/m^2\n",
"printf('Amplified Rock Music : %.2f W/m^2 \n',I1);\n",
"printf('Jet plane  : %.1f x 10^3 W/m^2 \n',I2*10^-3);\n",
"printf('Rocket engine : %.1f x 10^6 W/m^2',I3*10^-6);"
   ]
   }
],
"metadata": {
		  "kernelspec": {
		   "display_name": "Scilab",
		   "language": "scilab",
		   "name": "scilab"
		  },
		  "language_info": {
		   "file_extension": ".sce",
		   "help_links": [
			{
			 "text": "MetaKernel Magics",
			 "url": "https://github.com/calysto/metakernel/blob/master/metakernel/magics/README.md"
			}
		   ],
		   "mimetype": "text/x-octave",
		   "name": "scilab",
		   "version": "0.7.1"
		  }
		 },
		 "nbformat": 4,
		 "nbformat_minor": 0
}
