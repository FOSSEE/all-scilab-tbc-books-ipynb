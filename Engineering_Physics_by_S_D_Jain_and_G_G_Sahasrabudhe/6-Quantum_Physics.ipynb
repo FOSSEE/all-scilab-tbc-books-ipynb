{
"cells": [
 {
		   "cell_type": "markdown",
	   "metadata": {},
	   "source": [
       "# Chapter 6: Quantum Physics"
	   ]
	},
{
		   "cell_type": "markdown",
		   "metadata": {},
		   "source": [
			"## Example 6.10: de_Broglie_wavelength.sce"
		   ]
		  },
  {
"cell_type": "code",
	   "execution_count": null,
	   "metadata": {
	    "collapsed": true
	   },
	   "outputs": [],
"source": [
"clc();\n",
"clear;\n",
"//Given :\n",
"//(a)Rock\n",
"h = 6.625*10^-34; //planck's constant in Js\n",
"m = 50 ; // mass in g\n",
"v = 40; // Speed in m/s\n",
"// m = 50*10^-3 kg , 1g = 1.0*10^-3 kg\n",
"lambda1 = h/(m*10^-3*v); // Wavelength in m\n",
"//(b)For an electron\n",
"V = 50; // in volts\n",
"lambda2 = 12.28/sqrt(V); // Wavelength in A\n",
"printf('De Broglie wavelength \n\n (a)Rock : %.2f x 10^-34 m \n (b)For an electron : %.2f A',lambda1*10^34,lambda2);"
   ]
   }
,
{
		   "cell_type": "markdown",
		   "metadata": {},
		   "source": [
			"## Example 6.14: Application_of_uncertainty_principle.sce"
		   ]
		  },
  {
"cell_type": "code",
	   "execution_count": null,
	   "metadata": {
	    "collapsed": true
	   },
	   "outputs": [],
"source": [
"clc();\n",
"clear;\n",
"//Given:\n",
"//(a) Ball\n",
"h = 6.625*10^-34; //planck's constant in Js\n",
"m1 = 45; //mass in g\n",
"v1 = 40; //Speed in m/s\n",
"prec1 = 1.5/100 ;//precision\n",
"// m1 = 45*10^-3 kg , 1 g = 1.0*10^-3 kg\n",
"p1 =m1*10^-3*v1 ; // momentum in kg m/s\n",
"//(deltap/p)*100 = 1.5\n",
"deltap1 = prec1*p1 ;\n",
"deltax1 = h/deltap1; // uncertainty in position in m\n",
"printf('Uncertainty in  position for a ball : %.2f x 10^-32 m \n',deltax1*10^32);\n",
"//(b) Electron\n",
"m2 = 9.1*10^-31; //electron mass in kg\n",
"v2 = 2*10^6 ; // Speed in m/s\n",
"prec2 = 1.5/100 ; // precision\n",
"p2 = m2*v2; // momentum in kg m/s\n",
"//(deltap/p)*100 = 1.5\n",
"deltap2 = prec2*p2 ;\n",
"deltax2 = h/deltap2; // uncertainty in position in m\n",
"// 1 A  = 1.0*10^-10 m\n",
"printf('Uncertainty in  position for an electron : %.0f A \n',deltax2/(1.0*10^-10));"
   ]
   }
,
{
		   "cell_type": "markdown",
		   "metadata": {},
		   "source": [
			"## Example 6.17: Application_of_Schrodinger_equation.sce"
		   ]
		  },
  {
"cell_type": "code",
	   "execution_count": null,
	   "metadata": {
	    "collapsed": true
	   },
	   "outputs": [],
"source": [
"clc();\n",
"clear;\n",
"//Given:\n",
"//(a) Marble\n",
"h = 6.625*10^-34; //planck's constant in Js\n",
"m1 = 10; // mass in g\n",
"L1 = 10; // width in cm\n",
"// m1 = 10*10^-3 kg , 1 g = 1.0*10^-3 kg  and L1 = 10*10^-2 m , 1 cm = 1.0*10^-2 m\n",
"printf('(a)Marble \n\n');\n",
"for n1 = 1:3\n",
"    En1 = (n1^2*h^2)/(8*m1*10^-3*(L1*10^-2)^2); // Energry  in J\n",
"    printf('E_%d : %.1f x 10^-64 J\n',n1,En1*10^64);\n",
"end\n",
"//(b) For an electron\n",
"m2 = 9.1*10^-31; //electron mass in kg\n",
"L2 = 1 ; // width in A\n",
"//L2 = 1*10^-10 m , 1 A = 1.0*10^-10 m\n",
"printf('(b)For an electron \n\n');\n",
"for n2 = 1:3\n",
"    En2 = (n2^2*h^2)/(8*m2*(L2*10^-10)^2); // Energry  in J\n",
"    printf('E_%d : %.1f eV\n',n2,(En2*6.24150934*10^18)); // 1J = 6.24150934*10^18  eV\n",
"end\n",
"\n",
"\n",
"\n",
"\n",
"\n",
"\n",
"\n",
"\n",
"\n",
"\n",
"\n",
"\n",
"\n",
"\n",
"\n",
"\n",
""
   ]
   }
,
{
		   "cell_type": "markdown",
		   "metadata": {},
		   "source": [
			"## Example 6.1: Quantised_energy_levels.sce"
		   ]
		  },
  {
"cell_type": "code",
	   "execution_count": null,
	   "metadata": {
	    "collapsed": true
	   },
	   "outputs": [],
"source": [
"//Quantised energy levels for microscopic and macroscopic systems\n",
"clc();\n",
"clear;\n",
"//Given :\n",
"// (a) For a 1s simple pendulum :\n",
"T = 1; // time period in s\n",
"nu = 1/T; //Frequency in Hz\n",
"//Planck's quantisation princple : E_n = n*h*nu\n",
"h = 6.625*10^-34 ; //Planck's constant in Js\n",
"printf('Energy at First three levels for a 1s simple pendulum :\n\n');\n",
"for n1 = 1:3\n",
"    E1 = n1*h*nu ; // Energry  in J\n",
"    printf('E_%d : %1.3f x 10^-34 J\n',n1,E1*10^34);\n",
"end\n",
"// (b) For a hydrogen electron \n",
"// E_n = (-13.6/n^2)eV\n",
" printf('Energy at First three levels  for a hydrogen electron :\n\n');\n",
"for n2 = 1:3\n",
"    E2 = (-13.6/n2^2);//Energy in eV\n",
"    printf('E_%d : %.2f J\n',n2,E2);\n",
"end\n",
"\n",
"//Now, for a simple pendulum\n",
"m = 10; // mass in g\n",
"a = 1; // amplitude in cm\n",
"omega = 2*%pi*nu; // angular frequency in rad/s\n",
"// 1 g = 1.0*10^-3 Kg and  1 cm = 1.0*10^-2 m\n",
"E = 1/2*((m*10^-3)*(omega^2)*(a*10^-2)^2); // Energy in J\n",
"//Thus,quantum number n = E/h*nu\n",
"n = E/(h*nu);\n",
"printf('Quantum number n is : %.2f x 10^28 \n\n',n*10^-28);\n",
"//(i)Pendulum :\n",
"//percentage change in energy  = (E_n+1 - E_n)*100/E_n  which is equal to [(n+1)*h*nu - n*h*nu]*100/(n*h*nu )\n",
"//Therefore , it is (1/n) * 100\n",
"pc = (1/n)*100; //percentage change in energy\n",
"printf('Percentage change in energy ( pendulum ) is %1.3f x 10^-27 \n\n',pc*10^27);\n",
"//(ii)Hyderogen electron :\n",
"n_1 = 1; //ground state\n",
"n_2 = 2; // next quantum state\n",
"E_1 = (-13.6/n_1^2); // Energy in eV\n",
"E_2 = (-13.6/n_2^2);//Energy in eV\n",
"//percentage change : |((E_2-E_1)*100)|/ |E_1|\n",
"pc1 =((E_2-E_1)*100)/(-E_1);//percentage change\n",
"printf('Percentage change in energy (hydrogen electron) is  %.1f',abs(pc1));"
   ]
   }
,
{
		   "cell_type": "markdown",
		   "metadata": {},
		   "source": [
			"## Example 6.2: Finding_Photon_Energy.sce"
		   ]
		  },
  {
"cell_type": "code",
	   "execution_count": null,
	   "metadata": {
	    "collapsed": true
	   },
	   "outputs": [],
"source": [
"clc();\n",
"clear;\n",
"//Given :\n",
"h = 6.625*10^-34;//Planck's constant in Js\n",
"c = 3*10^8 ; //velocity of light in m/s\n",
"// 1A = 1.0*10^-10 m\n",
"//(a)Energy of a photon : \n",
"// E = h*nu or E = h*c/lambda\n",
"printf('Energy of a photon is %2.4f x 10^-16 /lambda(in A)  J\n',((h*c)*10^10)*10^16);\n",
"//1eV = 1.6*10^-19 J\n",
"printf('Energy of a photon is %.0f/lambda(in A)  eV\n\n',round(((h*c)/(1.6*10^-19))*10^10));\n",
"//(b)Visible light Range is 4000-7000 A\n",
"lambda1 = 4000;//Wavelength in A\n",
"lambda2 = 7000;//Wavelength in A\n",
"// 1eV = 1.6*10^-19 J , \n",
"E1 = (h*c)/(lambda1*10^-10*1.6*10^-19); //Energy in eV\n",
"E2 = (h*c)/(lambda2*10^-10*1.6*10^-19);//Energy in eV\n",
"printf('Hence the range of energies for visible photos is  %.1f eV  to  %.1f eV',E2,E1);"
   ]
   }
,
{
		   "cell_type": "markdown",
		   "metadata": {},
		   "source": [
			"## Example 6.3: Failure_of_wave_theory.sce"
		   ]
		  },
  {
"cell_type": "code",
	   "execution_count": null,
	   "metadata": {
	    "collapsed": true
	   },
	   "outputs": [],
"source": [
"clc();\n",
"clear;\n",
"//Given :\n",
"//Power of the source = 10^-5 W = 10^-5 J/s\n",
"P = 10^-5 ; //Power in J/s\n",
"r = 10^-9; //radius in m\n",
"r1 = 5; // metal plate 5 m away from the source\n",
"WF = 5;//Work function in eV\n",
"area = %pi*(10^-9)^2 ; //area in m^2\n",
"area1 = 4*%pi*r1^2; // area in m^2\n",
"P1 = P*(area/area1); // in J/s\n",
"// 1eV = 1.6*10^-19 J\n",
"t = (WF*1.6*10^-19)/P1 ;// in s\n",
"//1 day = 24 hours * 60 minutes * 60 seconds\n",
"N = t/(24*60*60); //in days\n",
"printf(' It will take %.0f  days \n',round(N));\n",
""
   ]
   }
,
{
		   "cell_type": "markdown",
		   "metadata": {},
		   "source": [
			"## Example 6.4: Determination_of_h_and_phi.sce"
		   ]
		  },
  {
"cell_type": "code",
	   "execution_count": null,
	   "metadata": {
	    "collapsed": true
	   },
	   "outputs": [],
"source": [
"clc();\n",
"clear;\n",
"//Given :\n",
"nu1 = 10*10^14;// Frequency in Hz\n",
"nu2 = 6*10^14;// Frequency in Hz\n",
"V_01 = 2.37; //Stopping potential in volts\n",
"V_02 = 0.72; //Stopping potential in volts\n",
"//Einstein's photoeletric equation : h*nu = phi + e*V_0  \n",
"e = 1.6*10^-19 ;// Charge of an electron in C\n",
"h = (e*(V_02 - V_01))/(nu2 - nu1);//Planck's constant in Js\n",
"phi = ((h*nu1)-(e*V_01))/e ; // work function in eV\n",
"printf('Plancks constant h is %.1f x 10^-34 Js  and Work function phi is %.2f eV ',h*10^34,phi);"
   ]
   }
,
{
		   "cell_type": "markdown",
		   "metadata": {},
		   "source": [
			"## Example 6.5: Incident_wavelength_in_Compton_Scattering.sce"
		   ]
		  },
  {
"cell_type": "code",
	   "execution_count": null,
	   "metadata": {
	    "collapsed": true
	   },
	   "outputs": [],
"source": [
"clc();\n",
"clear;\n",
"//Given :\n",
"ME = 35*10^3 ; //Maximum energy in eV\n",
"theta = %pi; // photon is backscattered\n",
"h = 6.625*10^-34; //planck's constant in Js\n",
"m0 = 9.1*10^-31; //electron mass in Kg\n",
"c = 3*10^8; //Speed of light in m/s\n",
"deltalambda = (h*(1-cos(theta)))/(m0*c); // in A\n",
"// (h*c/lambda) - (h*c/lambda') = 35 KeV   or  (deltalambda/lambda*lambda1) = (35 KeV/h*c)\n",
"//Simplifying the above Equation , we will obtain : lambda^2 + 0.048 lambda - 0.017\n",
"//Roots of the quadratic equation are :\n",
"values = [-0.017,0.048,1]; // a,b,c values of the quadratic equation\n",
"equation = poly(values,'lamb','coeff'); //quadratic  equation \n",
"r = roots(equation); //Roots of the final equation\n",
"printf('Incident photon wavelength in Compton scattering is %.2f A',r(2));\n",
"\n",
"\n",
"\n",
""
   ]
   }
,
{
		   "cell_type": "markdown",
		   "metadata": {},
		   "source": [
			"## Example 6.6: Observability_of_Compton_effect.sce"
		   ]
		  },
  {
"cell_type": "code",
	   "execution_count": null,
	   "metadata": {
	    "collapsed": true
	   },
	   "outputs": [],
"source": [
"clc();\n",
"clear;\n",
"//Given :\n",
"theta = 90; //angle in degrees\n",
"m0 = 9.1*10^-31; //electron mass in kg\n",
"c = 3*10^8; //Speed of light in m/s\n",
"h = 6.625*10^-34; //planck's constant in Js\n",
"deltalambda = ((h*(1-cosd(theta)))/(m0*c))*10^10; // in A\n",
"//(a) Microwave range\n",
"lambda1 = 3.0 ;// wavelength in cm\n",
"//lambda1 = 3.0*10^8 A , 1 cm = 1*10^8 A\n",
"pc1 = ((deltalambda)*100)/((lambda1*10^8) + deltalambda) ;//percent change in photon energy\n",
"printf('Percentage change in energy for radiation in microwave range is : %.0f x 10^-9 \n',pc1*10^9);\n",
"//(b) Visible range\n",
"lambda2 = 5000 ;// wavelength in A\n",
"pc2 = ((deltalambda)/(lambda2 + deltalambda))*100 ;//percent change in photon energy\n",
"printf('Percentage change in energy for radiation in visible range is : %.0f x 10^-4 \n',pc2*10^4);\n",
"//(c) X-ray range\n",
"lambda3 = 1 ; //wavelength in A\n",
"pc3 = ((deltalambda)/(lambda3 + deltalambda))*100 ;//percent change in photon energy\n",
"printf('Percentage change in energy for radiation in X-ray range is : %.1f\n',pc3);\n",
"//(d)Gamma ray range\n",
"lambda4 = 0.012 ;// wavelength in A\n",
"pc4 = ((deltalambda)/(lambda4 + deltalambda))*100 ;//percent change in photon energy\n",
"printf('Percentage change in energy for radiation in Gamma range is : %.1f\n',pc4);\n",
""
   ]
   }
,
{
		   "cell_type": "markdown",
		   "metadata": {},
		   "source": [
			"## Example 6.7: Finding_pe_by_pp_ratio.sce"
		   ]
		  },
  {
"cell_type": "code",
	   "execution_count": null,
	   "metadata": {
	    "collapsed": true
	   },
	   "outputs": [],
"source": [
"clc();\n",
"clear;\n",
"//Given:\n",
"//Photoelectric effect\n",
"lambda1 = 2000; //wavelength in A\n",
"phi1 = 2.3;// Work function in eV\n",
"m = 9.1*10^-31; //electron mass in kg\n",
"E1 = 12422/lambda1; // Energy of photon in eV\n",
"c = 3*10^8; //Speed of light in m/s\n",
"Ee1 = (12422/lambda1)- phi1; // energy of an electron in eV\n",
"pe1 = sqrt(2*m*Ee1*1.6*10^-19); //electron momentum in kg m/s\n",
"pp1 = (E1*1.6*10^-19)/c ; // Momentum of incident photon in kg m/s\n",
"ratio1 = pe1/pp1 ; // (pe/pp)\n",
"//Compton effect\n",
"lambda2 = 1; // wavelength in A\n",
"deltalambda = 0.048; // Compton shift in A\n",
"E2 = 12422/lambda2; // Energy of photon in eV\n",
"Ee2 = (12422/lambda2)- (12422/(lambda2+deltalambda));//energy of an electron in eV\n",
"pe2 = sqrt(2*m*Ee2*1.6*10^-19); //electron momentum in kg m/s\n",
"pp2 = (E2*1.6*10^-19)/c ; // Momentum of incident photon in kg m/s\n",
"ratio2 = pe2/pp2 ; // (pe/pp)\n",
"printf('Photoelectric effect :\n\n');\n",
"printf('Electron energy : %.1f eV \n Electron momentum  : %.2f x 10^-24 kg m/s \n Momentum of incident photon : %.2f x 10^-27 kg m/s \n pe/pp : %.0f \n\n',Ee1,pe1*10^24,pp1*10^27,ratio1);\n",
"printf('Compton  effect :\n\n');\n",
"printf('Electron energy : %.1f eV \n Electron momentum  : %.1f x 10^-23 kg m/s \n Momentum of incident photon : %.2f x 10^-24 kg m/s \n pe/pp : %.2f \n\n',Ee2,pe2*10^23,pp2*10^24,ratio2);"
   ]
   }
,
{
		   "cell_type": "markdown",
		   "metadata": {},
		   "source": [
			"## Example 6.8: Wave_particle_characteristics.sce"
		   ]
		  },
  {
"cell_type": "code",
	   "execution_count": null,
	   "metadata": {
	    "collapsed": true
	   },
	   "outputs": [],
"source": [
"clc();\n",
"clear;\n",
"//Given:\n",
"//Gamma-rays,X-rays\n",
"lambda1 = 0.01;//Wavelength in A\n",
"c = 3*10^8; //Speed of light in m/s\n",
"E1 =  12422/lambda1; // Energy in A\n",
"p1 = (E1*1.6*10^-19)/c ; //Momentum in kg m/s\n",
"//UV\n",
"lambda2 = 100;//Wavelength in A\n",
"c = 3*10^8; //Speed of light in m/s\n",
"E2 =  12422/lambda2; // Energy in A\n",
"p2 = (E2*1.6*10^-19)/c ; //Momentum in kg m/s\n",
"//IR\n",
"lambda3 = 1*10^-4;//Wavelength in m\n",
"c = 3*10^8; //Speed of light in m/s\n",
"//lambda3 = 1*10^-4*10^10 A , 1 m = 1*10^10 A\n",
"E3 =  12422/(lambda3*10^10); // Energy in A\n",
"p3 = (E3*1.6*10^-19)/c ; //Momentum in kg m/s\n",
"//Microwave\n",
"lambda4 = 1;//Wavelength in m\n",
"c = 3*10^8; //Speed of light in m/s\n",
"//lambda4 = 1*10^10 A , 1 m = 1*10^10 A\n",
"E4 =  12422/(lambda4*10^10); // Energy in A\n",
"p4 = (E4*1.6*10^-19)/c ; //Momentum in kg m/s\n",
"//Radio waves\n",
"lambda5 = 100;//Wavelength in m\n",
"c = 3*10^8; //Speed of light in m/s\n",
"//lambda5 = 100*10^10 A , 1 m = 1*10^10 A\n",
"E5 =  12422/(lambda5*10^10); // Energy in A\n",
"p5 = (E5*1.6*10^-19)/c ; //Momentum in kg m/s\n",
"printf('Gamma-rays,X-rays : \n  Energy : %.2f x 10^6 eV \n Momentum : %.1f x 10^-22 kg m/s \n\n',E1*10^-6,p1*10^22);\n",
"printf(' UV : \n  Energy : %.2f eV \n Momentum : %.1f x 10^-26 kg m/s\n\n',E2,p2*10^26);\n",
"printf(' IR : \n  Energy : %.4f eV \n Momentum : %.1f x 10^-30 kg m/s\n\n',E3,p3*10^30);\n",
"printf(' Microwave : \n  Energy : %.2f x 10^-6 eV \n Momentum : %.1f x 10^-34 kg m/s\n\n',E4*10^6,p4*10^34);\n",
"printf(' Radio waves : \n  Energy : %.2f x 10^-8 eV \n Momentum : %.1f x 10^-36 kg m/s',E5*10^8,p5*10^36);\n",
"\n",
""
   ]
   }
,
{
		   "cell_type": "markdown",
		   "metadata": {},
		   "source": [
			"## Example 6.9: deBroglie_wavelength_of_an_electron.sce"
		   ]
		  },
  {
"cell_type": "code",
	   "execution_count": null,
	   "metadata": {
	    "collapsed": true
	   },
	   "outputs": [],
"source": [
"clc();\n",
"clear;\n",
"//Given :\n",
"h = 6.625*10^-34; //planck's constant in Js\n",
"m = 9.109*10^-31;// electron mass in kg\n",
"e = 1.6*10^-19; // charge of an electron in C\n",
"//Lambda = h/sqrt(2*m*eV)   here we dont have V , so let us caluclate the remaining part.\n",
"lambda = h/sqrt(2*m*e);// wavelength in A\n",
"// 1 A = 1.0*10^-10 m\n",
"printf('Lambda(A) = %.2f/sqrt(V) ',lambda/(1.0*10^-10));"
   ]
   }
],
"metadata": {
		  "kernelspec": {
		   "display_name": "Scilab",
		   "language": "scilab",
		   "name": "scilab"
		  },
		  "language_info": {
		   "file_extension": ".sce",
		   "help_links": [
			{
			 "text": "MetaKernel Magics",
			 "url": "https://github.com/calysto/metakernel/blob/master/metakernel/magics/README.md"
			}
		   ],
		   "mimetype": "text/x-octave",
		   "name": "scilab",
		   "version": "0.7.1"
		  }
		 },
		 "nbformat": 4,
		 "nbformat_minor": 0
}
