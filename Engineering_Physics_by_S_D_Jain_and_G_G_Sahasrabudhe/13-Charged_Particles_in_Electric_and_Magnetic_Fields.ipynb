{
"cells": [
 {
		   "cell_type": "markdown",
	   "metadata": {},
	   "source": [
       "# Chapter 13: Charged Particles in Electric and Magnetic Fields"
	   ]
	},
{
		   "cell_type": "markdown",
		   "metadata": {},
		   "source": [
			"## Example 13.11: Angle_of_refraction.sce"
		   ]
		  },
  {
"cell_type": "code",
	   "execution_count": null,
	   "metadata": {
	    "collapsed": true
	   },
	   "outputs": [],
"source": [
"clc();\n",
"clear;\n",
"//Given :\n",
"V1 = 250; // potential in V\n",
"V2 = 500;// potential in V\n",
"theta1 = 45;// angle in degrees\n",
"//Law of electron refraction = sin(theta1)/sin(theta2)  = (V2/V1)^0.5\n",
"theta2 = asind(((V1/V2)^(1/2))*sind(45));\n",
"printf('theta2 = %d degrees',theta2);"
   ]
   }
,
{
		   "cell_type": "markdown",
		   "metadata": {},
		   "source": [
			"## Example 13.12: Bainbridge_mass_spectograph.sce"
		   ]
		  },
  {
"cell_type": "code",
	   "execution_count": null,
	   "metadata": {
	    "collapsed": true
	   },
	   "outputs": [],
"source": [
"clc();\n",
"clear;\n",
"//Given :\n",
"M1 = 20; // neon isotope mass in amu\n",
"M2 = 22;//neon isotope mass in amu\n",
"E = 7*10^4; // Electric field in V/m\n",
"e = 1.6*10^-19;// electron charge in C\n",
"B = 0.5;// Magnetic field in Wb/m^2\n",
"B1 = 0.75; // Magnetic field in Wb/m^2\n",
"// Linear seperation = S2 - S1  = (2*E*(M2-M1))/(B*B1*e) \n",
"// 1 amu = 1.66*10^-27 kg\n",
"S2_S1 =  (2*E*(M2-M1)*1.66*10^-27)/(B*B1*e) ; // linear seperation in m\n",
"printf('S2-S1 =  %.0f mm',S2_S1*10^3);"
   ]
   }
,
{
		   "cell_type": "markdown",
		   "metadata": {},
		   "source": [
			"## Example 13.13: Deuteron_motion_in_a_cyclotron.sce"
		   ]
		  },
  {
"cell_type": "code",
	   "execution_count": null,
	   "metadata": {
	    "collapsed": true
	   },
	   "outputs": [],
"source": [
"clc();\n",
"clear;\n",
"//Given:\n",
"m = 2.01*1.66*10^-27; // deuteron mass in kg\n",
"q = 1.6*10^-19; // deuteron charge in C\n",
"//We know , 1/2(m*v^2) = q*V\n",
"//for a 5 MeV deuteron \n",
"// 1 MeV = 10^6*1.6*10^-19 J\n",
"v =((2*5*10^6*1.6*10^-19)/m)^(1/2) ; // velocity in m/s\n",
"//(a)\n",
"R = 15; // inches \n",
"//1 inch = 2.54*10^-2 m\n",
"B = (m*v)/(q*R*2.54*10^-2);// magnetic field intensity in Wb/m^2\n",
"//(b)\n",
"f = (q*B)/(2*%pi*m); // frequency in Hz\n",
"//(c)\n",
"t = 50/f; // time in s\n",
"printf('B = %.1f Wb/m^2  \n',B);\n",
"printf('f = %.2f MHz  \n',f*10^-6);\n",
"printf('t = %.2f  mu s ',t*10^6);"
   ]
   }
,
{
		   "cell_type": "markdown",
		   "metadata": {},
		   "source": [
			"## Example 13.1: Electron_in_an_electric_field.sce"
		   ]
		  },
  {
"cell_type": "code",
	   "execution_count": null,
	   "metadata": {
	    "collapsed": true
	   },
	   "outputs": [],
"source": [
"clc();\n",
"clear;\n",
"//Given :\n",
"// E = 2*10^9*t  V/m\n",
"// a_x = e*E/m , where e = 1.6*10^-19 C , m = 9.12 × 10^-31 kg\n",
"// a_x = 3.52*10^20*t m/s^2\n",
"// v_x = integral of a_x dt\n",
"//(a)\n",
"function a_x = f(t),a_x = 3.530*10^20*t,endfunction\n",
"v_x = intg(0,50*10^-9,f); // electron speed in m/s at time = 50 ns\n",
"printf('v_x = %.1f x 10^5 m/s\n',v_x*10^-5);\n",
"//(b)\n",
"//v_x = 1.76*10^20*t^2 m/s\n",
"function vx = v(t),vx = 1.76*10^20*t^2 ,endfunction\n",
"x = intg(0,50*10^-9,v);// distance covered in m  in 50 ns\n",
"printf('x = %.2f mm\n',x*10^3);\n",
"//(c)\n",
"//x = 5.87*10^19*t^3 m\n",
"X = 5*10^-2; //distance between plates in m\n",
"t = (X/(5.87*10^19))^(1/3); // time required in s\n",
"printf('t = %.2f x 10^-7 s',t*10^7);\n",
"\n",
""
   ]
   }
,
{
		   "cell_type": "markdown",
		   "metadata": {},
		   "source": [
			"## Example 13.5: Projected_electro.sce"
		   ]
		  },
  {
"cell_type": "code",
	   "execution_count": null,
	   "metadata": {
	    "collapsed": true
	   },
	   "outputs": [],
"source": [
"clc();\n",
"clear;\n",
"//Given :\n",
"u = 5*10^5; //horizontal velocity in m/s\n",
"alpha = 35; // in degrees\n",
"E = 200 ;// Electric field in V/m\n",
"e = 1.6*10^-19; // electron charge in C\n",
"m = 9.12*10^-31; // electron mass in kg\n",
"a = (-e*E)/m; // horizontal range in m/s^2\n",
"//(a);\n",
"z_max = (-(u^2)*(sind(alpha))^2)/(2*a); // maximum penetration in m\n",
"//(b)\n",
"T = (-2*u*sind(alpha))/a; // Time of flight in s\n",
"//(c)\n",
"H = (-(u^2)*(sind(2*alpha)))/a; // horizontal range in m\n",
"printf('z_max = %.1f mm \n',z_max*10^3);\n",
"printf('T = %.2f x 10^-8 s  \n',T*10^8);\n",
"printf('H = %.1f  mm',H*10^3);"
   ]
   }
,
{
		   "cell_type": "markdown",
		   "metadata": {},
		   "source": [
			"## Example 13.7: Helical_path_of_an_electron.sce"
		   ]
		  },
  {
"cell_type": "code",
	   "execution_count": null,
	   "metadata": {
	    "collapsed": true
	   },
	   "outputs": [],
"source": [
"clc();\n",
"clear;\n",
"//Given :\n",
"m = 9.12*10^-31;// electron mass in kg\n",
"e = 1.6*10^-19;// electron charge in C\n",
"u = 5*10^7; // electron speed in m/s\n",
"alpha = 30; // angle in degrees\n",
"d = 0.5; // diameter in m\n",
"//(a)\n",
"//helix radius  = (m*u*sin(alpha))/B*e \n",
"r = d/2; // radius in m\n",
"B = (m*u*sind(alpha))/(r*e); // magnetic flux density in Wb/m^2\n",
"//(b)\n",
"T = (2*%pi*m)/(B*e);// time in s\n",
"//(c)\n",
"p = T*u*cosd(alpha); // pitch in m\n",
"printf('B = %.2f x 10^-3 Wb/m^2 \n',B*10^3);\n",
"printf('T = %.2f x 10^-8 s  \n',T*10^8);\n",
"printf('p = %.2f m',p);"
   ]
   }
,
{
		   "cell_type": "markdown",
		   "metadata": {},
		   "source": [
			"## Example 13.9: Electrons_orbit_in_magnetic_field.sce"
		   ]
		  },
  {
"cell_type": "code",
	   "execution_count": null,
	   "metadata": {
	    "collapsed": true
	   },
	   "outputs": [],
"source": [
"clc();\n",
"clear;\n",
"//Given :\n",
"m = 9.109*10^-31;// eletcron mass in kg\n",
"e = 1.6*10^-19; // electron charge in C\n",
"//T = (2*pi*m)/(B*e) , here B is not given\n",
"T = (2*%pi*m)/e;// time in s\n",
"printf('T = %.2f x 10^-11 / B ',T*10^11);"
   ]
   }
],
"metadata": {
		  "kernelspec": {
		   "display_name": "Scilab",
		   "language": "scilab",
		   "name": "scilab"
		  },
		  "language_info": {
		   "file_extension": ".sce",
		   "help_links": [
			{
			 "text": "MetaKernel Magics",
			 "url": "https://github.com/calysto/metakernel/blob/master/metakernel/magics/README.md"
			}
		   ],
		   "mimetype": "text/x-octave",
		   "name": "scilab",
		   "version": "0.7.1"
		  }
		 },
		 "nbformat": 4,
		 "nbformat_minor": 0
}
