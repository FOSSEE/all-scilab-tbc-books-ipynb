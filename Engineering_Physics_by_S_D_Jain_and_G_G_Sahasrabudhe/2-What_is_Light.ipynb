{
"cells": [
 {
		   "cell_type": "markdown",
	   "metadata": {},
	   "source": [
       "# Chapter 2: What is Light"
	   ]
	},
{
		   "cell_type": "markdown",
		   "metadata": {},
		   "source": [
			"## Example 2.2: Space_and_Time_profile.sce"
		   ]
		  },
  {
"cell_type": "code",
	   "execution_count": null,
	   "metadata": {
	    "collapsed": true
	   },
	   "outputs": [],
"source": [
"clc();\n",
"clear;\n",
"// wave y= 2*sin(10*pi*t - (pi*x)/40  + pi/4)\n",
"// (a) Plot the space profile at t= T/4\n",
"// Comapring the given Equation with  y= A*sin(omega*t - k*x + phi)\n",
"omega = 10*%pi ; //Angular frequency in rad/s\n",
"k= %pi/40 ; // Wave number in rad/m\n",
"T= 1/5 ; // 2*pi/T = 10*pi , so Time period is 1/5 s\n",
"lambda = 80; // Wavelength in m ,  2*pi/lambda = pi/40 , so lambda = 80\n",
"t1= T/4; //time period in s\n",
"x1= 0;//  in m\n",
"printf('The Space profile of a wave y= 2*sin(10*pi*t - (pi*x)/40 + pi/4) when  t= T/4\n\n')\n",
"printf('\tx (in m) \t y1(x)  (in m)\n');\n",
"while x1<180\n",
"y1= 2*sin((omega*t1)-(k*x1)+ (%pi/4));\n",
"printf('\t%d\t\t%.3f\n',x1,y1);\n",
"x1 = x1+10;\n",
"end\n",
"//Now, we will plot the space profile from the values obtained for y1 for each value of x1\n",
"x_1 = [0,10,20,30,40,50,60,70,80,90,100,110,120,130,140,150,160,170];\n",
"y_1 = [1.414214,2.000000,1.414214,0.000000,-1.414214,-2.000000,-1.414214,-0.000000,1.414214,2.000000,1.414214,0.000000,-1.414214,-2.000000,-1.414214,-0.000000,1.414214,2.000000];\n",
"// axis centered at (0,0)\n",
"axis=gca(); // Handle on axes entity\n",
"axis.x_location = 'origin'; \n",
"axis.y_location = 'origin'; \n",
"plot(x_1,y_1,style=5);\n",
"xtitle('Space Profile at t = T/4 for the wave    y= 2*sin(10*pi*t - (pi*x)/40  + pi/4)','x (in m)','y1(x)  (in m)');\n",
"xpause(10000000);\n",
"//(b)\n",
"x2= lambda/8; //in m\n",
"t2=0; // time period in s\n",
"printf('The time profile of a wave y= 2*sin(10*pi*t - (pi*x)/40 + pi/4) when  x= lambda/8\n\n')\n",
"printf('\t t(in s)     \t     y2(t) (in m)\n\n');\n",
"while t2<0.4\n",
" y2=2*sin((omega*t2)-(k*x2)+ (%pi/4));\n",
" printf('\t%.3f\t\t%.3f\n',t2,y2);\n",
" t2=t2+0.025;\n",
"end\n",
"//Now,we will plot the time profile from the values obtained for y2 ,for each value of t2\n",
"x_2=[0,0.025,0.05,0.075,0.1,0.125,0.15,0.175,0.2,0.22500,0.250000,0.27500,0.30000,0.325000,0.350000,0.37500];\n",
"y_2=[0.000000,1.414214,2.000000,1.414214,0.000000,-1.414214,-2.000000,-1.414214,-0.000000,1.414214,2.000000,1.414214,0.000000,-1.414214,-2.000000,-1.414214];\n",
"// axis centered at (0,0)\n",
"axis1=gca(); // Handle on axes entity\n",
"axis1.x_location = 'origin'; \n",
"axis1.y_location = 'origin'; \n",
"plot(x_2,y_2,style= 4);\n",
"xtitle('Time Profile at x = lambda/8 for the wave    y= 2*sin(10*pi*t - (pi*x)/40  + pi/4)','t (in s)','y2(t)  (in m)');\n",
""
   ]
   }
,
{
		   "cell_type": "markdown",
		   "metadata": {},
		   "source": [
			"## Example 2.3: Wave_Parameters.sce"
		   ]
		  },
  {
"cell_type": "code",
	   "execution_count": null,
	   "metadata": {
	    "collapsed": true
	   },
	   "outputs": [],
"source": [
"clc();\n",
"clear;\n",
"//Let us consider, wave function  y = A*sin(omega*t - K*x + phi)\n",
"A= 0.02;// Amplitude in m\n",
"lambda = 6; // Wavelength (lambda) = Crest Distance = 6 m\n",
"T= 2;// Time period is s\n",
"nu =  1/T; // Frequency in Hz\n",
"omega = 2*%pi*nu ; //Angular Frequency in rad/s\n",
"k = 2*%pi/lambda; //wave number in rad/m\n",
"//from Space profile, when x=1.5 m, t= 0\n",
"y = 0.02; //in m\n",
"x=1.5;//in m\n",
"t= 0; // in s\n",
"phi = (asin(y/A) +(k*x) - (omega*t)); // Initial phase in radians\n",
"printf(' Wave parameters from the space profile and time profile\n')\n",
"printf(' (1)Amplitude is %.2f m \n (2)Wavelength  is %d m \n (3)Time period is %d s \n (4)Frequency is %.1f Hz \n (5)Angular Frequency is %.3f rad/s\n (6)Wave number is %.3f rad/m \n (7)Initial phase is %.3f radians\n',A,lambda,T,nu,omega,k,phi);\n",
"// y(x,t=0) : -0.02 = 0.02*sin(0-(pi*x)/3 + pi)\n",
"//Thus  (-pi*x)/3 + pi = -pi/2,-5*pi/2, giving x= 9/2 m,21/2m\n",
"V= omega/k; // Velocity of wave in m/s\n",
"// I is proportional to A^2\n",
"I = A^2; // Intensity in m^2 (Proportional)\n",
"printf(' (8)The velocity of wave is %d m/s \n (9)Intensity is proportional to : %.1f x 10^-4 m^2.',V,I*10^4);\n",
" "
   ]
   }
,
{
		   "cell_type": "markdown",
		   "metadata": {},
		   "source": [
			"## Example 2.6: Sound_and_Light_waves.sce"
		   ]
		  },
  {
"cell_type": "code",
	   "execution_count": null,
	   "metadata": {
	    "collapsed": true
	   },
	   "outputs": [],
"source": [
"clc();\n",
"clear;\n",
"//(a)Tunning fork \n",
"nu= 440; // Frequency in Hz\n",
"V=340; // velocity of sound in air in m/s\n",
"lambda= V/nu ;// Wavelength of sound wave in m\n",
"k= 2*%pi/lambda; // Wave number in m\n",
"//(b) Red Light \n",
"nu1 = 5*10^14;// Frequency of Red light in Hz\n",
"V1 = 3*10^8;//Velocity of light in m/s\n",
"lambda1= V1/nu1; //Wavelength of light wave in m\n",
"k1= 2*%pi/lambda1; // Wave number in m\n",
"printf('For Sound wave : \n\n Frequency: %d Hz \n Velocity: %d m/s \n Wavelegth: %.3f m\n Wave number : %.2f m \n Wave Equation for Sound wave: y =  A*sin((%.2f*x)-(%.3f*t)) \n\n',nu,V,lambda,k,k,(2*%pi*nu));\n",
"printf('For Light wave : \n\n Frequency: %.0f x 10^14 Hz \n Velocity: %d x 10^8 m/s \n Wavelegth: %.1f x 10^-7 m\n Wave number : %.2f x 10^7 m \n Wave Equation for Sound wave: y =  A*sin((%.2f*10^7*x)-(%.1f*10^15*t)) \n\n',nu1*10^-14,V1*10^-8,lambda1*10^7,k1*10^-7,k1*10^-7,(2*%pi*nu1*10^-15));"
   ]
   }
],
"metadata": {
		  "kernelspec": {
		   "display_name": "Scilab",
		   "language": "scilab",
		   "name": "scilab"
		  },
		  "language_info": {
		   "file_extension": ".sce",
		   "help_links": [
			{
			 "text": "MetaKernel Magics",
			 "url": "https://github.com/calysto/metakernel/blob/master/metakernel/magics/README.md"
			}
		   ],
		   "mimetype": "text/x-octave",
		   "name": "scilab",
		   "version": "0.7.1"
		  }
		 },
		 "nbformat": 4,
		 "nbformat_minor": 0
}
