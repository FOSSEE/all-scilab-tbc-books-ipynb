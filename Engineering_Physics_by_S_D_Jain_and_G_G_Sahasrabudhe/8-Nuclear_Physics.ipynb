{
"cells": [
 {
		   "cell_type": "markdown",
	   "metadata": {},
	   "source": [
       "# Chapter 8: Nuclear Physics"
	   ]
	},
{
		   "cell_type": "markdown",
		   "metadata": {},
		   "source": [
			"## Example 8.10: Power_output.sce"
		   ]
		  },
  {
"cell_type": "code",
	   "execution_count": null,
	   "metadata": {
	    "collapsed": true
	   },
	   "outputs": [],
"source": [
"clc();\n",
"clear;\n",
"//Given :\n",
"Na = 6.023*10^23 ; // Avogadro constant atoms/mole\n",
"LE = 200 ; // liberated energy in MeV\n",
"mm = 235*10^-3; // molar mass of U 235 in gm/mole\n",
"p = 30/100 ; // conversion efficiency\n",
"// 1 eV = 1.6*10^-19 J , 1 MeV = 1.0*10^6 eV\n",
"RE = (Na*LE*1.6*10^-19*10^6)/mm ; //released energy in J per day\n",
"// 1 day = 24 hrs * 60 mins * 60 sec\n",
"P = RE/(24*60*60); // Power output in W per day\n",
"// 1 cal = 4.187 J \n",
"EC = RE/4.187 ; // energy in cal\n",
"//Burning 1 kg of coal releases 7000 K cal of energy \n",
"Q1 = EC/(7000*10^3); // Quantity of Coal in Kg per day\n",
"EP = p*P ; // electric power in W\n",
"printf(' %.0f tonnes of Coal\n',Q1*10^-3);\n",
"printf(' Electric power for 30 percent conversion efficiency : %.1f kW',EP*10^-3);\n",
"// Results obtained differ from those in textbook , because approximate values were considered in textbook.\n",
"\n",
""
   ]
   }
,
{
		   "cell_type": "markdown",
		   "metadata": {},
		   "source": [
			"## Example 8.11: Radioactive_dating_of_a_tree.sce"
		   ]
		  },
  {
"cell_type": "code",
	   "execution_count": null,
	   "metadata": {
	    "collapsed": true
	   },
	   "outputs": [],
"source": [
"clc();\n",
"clear;\n",
"//Given :\n",
"T_half = 5730; // carbon 14 half life in years\n",
"Na = 6.023*10^23; // Avogadro constant in nuclei/mole\n",
"M = 25;// charcoal mass in gm\n",
"mm = 12;// molar mass of carbon 12 in gm/mole\n",
"a = 250 ; // disinitegrations per minute  (Carbon 14 activity)\n",
"// 1 year = 525949 minutes\n",
"lambda = 0.693/(T_half*525949);// disinitegrations per minute per nucleus\n",
"N0_1 = (Na/mm)*M ; // Number of nuclei (Carbon 12)\n",
"// Carbon 14 to Carbon 12  ratio  = 1.3*10^-12 \n",
"N0_2 = 1.3*10^-12*N0_1 ; // Number of nuclei (Carbon 14)\n",
"R0 = N0_2*lambda ; // disinitegrations per minute per nucleus\n",
"a0 = R0 ; // initial activity\n",
"t = log(a0/a)/lambda ;\n",
"// 1 year = 525949 minutes\n",
"printf('The tree died %d  years ago',t/525949 );\n",
"// Result obtained differs from the textbook, because R0 value obtained here is 375.1025, where as in textbook it is 374.  "
   ]
   }
,
{
		   "cell_type": "markdown",
		   "metadata": {},
		   "source": [
			"## Example 8.12: Radioactivity_of_iodine_131.sce"
		   ]
		  },
  {
"cell_type": "code",
	   "execution_count": null,
	   "metadata": {
	    "collapsed": true
	   },
	   "outputs": [],
"source": [
"clc();\n",
"clear;\n",
"//Given :\n",
"T_half = 8 ; // iodine 131 haf life in days\n",
"lambda = 0.693/T_half ; // decay constant in decays/day\n",
"N0 = 20 ; // mass in mg\n",
"t = 48; // time in days\n",
"N = N0*exp(-lambda*t); // in mg\n",
"printf('Original amount : %d mg \n',N0);\n",
"printf('Remaining amount after 48 days : %.3f mg',N);"
   ]
   }
,
{
		   "cell_type": "markdown",
		   "metadata": {},
		   "source": [
			"## Example 8.13: Co_60_gamma_rays.sce"
		   ]
		  },
  {
"cell_type": "code",
	   "execution_count": null,
	   "metadata": {
	    "collapsed": true
	   },
	   "outputs": [],
"source": [
"clc();\n",
"clear;\n",
"//Given :\n",
"RBE = 0.7 ; //RBE factor for cobalt 60 gamma rays\n",
"dose = 1000 ; // dose in rad\n",
"e = RBE*dose; // equivalent dose in rem \n",
"printf('Equivalent dose is %d  rem',e);"
   ]
   }
,
{
		   "cell_type": "markdown",
		   "metadata": {},
		   "source": [
			"## Example 8.1: Nuclear_and_atomic_density.sce"
		   ]
		  },
  {
"cell_type": "code",
	   "execution_count": null,
	   "metadata": {
	    "collapsed": true
	   },
	   "outputs": [],
"source": [
"clc();\n",
"clear;\n",
"//Given:\n",
"mp = 1.67*10^-27 ; // proton mass in kg\n",
"r0 = 1.2*10^-15; // constant in m\n",
"a0 = 0.5*10^-10; // atomic dimensions in m\n",
"//rho_nucleus = nuclear mass/ nuclear volume\n",
"rho_nucleus = (3*mp)/(4*%pi*r0^3); // nuclear density in kg/m^3\n",
"//ratio = rho_nucleus/rho_atom =  (a0/r0)^3\n",
"ratio = a0^3/r0^3;\n",
"printf('Nuclear density is %.1f x 10^17 kg/m^3 \n',rho_nucleus*10^-17);\n",
"printf('Nuclear density is %.1f x 10^13 times Atomic density.',ratio*10^-13);\n",
"\n",
""
   ]
   }
,
{
		   "cell_type": "markdown",
		   "metadata": {},
		   "source": [
			"## Example 8.2: Rest_mass_of_a_pio.sce"
		   ]
		  },
  {
"cell_type": "code",
	   "execution_count": null,
	   "metadata": {
	    "collapsed": true
	   },
	   "outputs": [],
"source": [
"clc();\n",
"clear;\n",
"//Given :\n",
"h = 1.05*10^-34; //planck's constant in Js\n",
"m = 9.1*10^-31; //electron rest mass in kg\n",
"c = 3*10^8; //Speed of light in m/s\n",
"b = 1.7*10^-15; // range of nuclear force in m\n",
"m_pi = h/(b*c); // rest mass of a pion in kg\n",
"t = m_pi/m; // times the rest mass of an electron\n",
"printf('Rest mass of a pion is %d times the rest mass of an electron',t);\n",
"// textbook answer is 220 , because  approximate value for m_pi was considered."
   ]
   }
,
{
		   "cell_type": "markdown",
		   "metadata": {},
		   "source": [
			"## Example 8.3: Nuclear_and_Electronic_Binding_Energy.sce"
		   ]
		  },
  {
"cell_type": "code",
	   "execution_count": null,
	   "metadata": {
	    "collapsed": true
	   },
	   "outputs": [],
"source": [
"clc();\n",
"clear;\n",
"//Given :\n",
"mp = 1.007276470 ; // proton mass in u \n",
"mn = 1.008665012; // neutron mass in u\n",
"md = 2.013553215; // deuteron mass in u\n",
"//E = ( mp + mn - md)*c^2\n",
"// 1 u * c^2 = 931.5 MeV , where 1 u = 1.66*10^-27 kg and c = 3*10^8 m/s\n",
"E = (mp + mn - md)*931.5; // Binding energy in MeV\n",
"printf('Binding energy : %.3f MeV',E);"
   ]
   }
,
{
		   "cell_type": "markdown",
		   "metadata": {},
		   "source": [
			"## Example 8.4: Average_Binding_Energy.sce"
		   ]
		  },
  {
"cell_type": "code",
	   "execution_count": null,
	   "metadata": {
	    "collapsed": true
	   },
	   "outputs": [],
"source": [
"clc();\n",
"clear;\n",
"//Given :\n",
"m_alpha = 4.001506106; // mass of an alpha particle in u\n",
"mp = 1.007276470 ; // proton mass in u \n",
"mn = 1.008665012; // neutron mass in u\n",
"//E = ( 2*mp + 2*mn - m_alpha)*c^2\n",
"// 1 u * c^2 = 931.5 MeV , where 1 u = 1.66*10^-27 kg and c = 3*10^8 m/s\n",
"E = (2*mp + 2*mn - m_alpha)*931.5; // Binding energy in MeV\n",
"printf('Average binding energy per nucleon : %.3f MeV',E/4);"
   ]
   }
,
{
		   "cell_type": "markdown",
		   "metadata": {},
		   "source": [
			"## Example 8.5: Q_value_of_a_nuclear_reaction.sce"
		   ]
		  },
  {
"cell_type": "code",
	   "execution_count": null,
	   "metadata": {
	    "collapsed": true
	   },
	   "outputs": [],
"source": [
"clc();\n",
"clear;\n",
"//Given :\n",
"Mn = 14.00753; //mass of Nitrogen 14 in u\n",
"Mo = 17.0045; // mass of Oxygen 17 in u\n",
"m_alpha = 4.00387; // mass of alpha particle in u\n",
"mp = 1.00184; // mass of proton in u\n",
"//Q = (m_alpha + Mn - Mo - mp)*c^2\n",
"//// 1 u * c^2 = 931.5 MeV , where 1 u = 1.66*10^-27 kg and c = 3*10^8 m/s\n",
"Q = (m_alpha + Mn - Mo - mp)*931.5 ;// Q value in MeV\n",
"printf('Q value is %.1f  MeV',Q);"
   ]
   }
,
{
		   "cell_type": "markdown",
		   "metadata": {},
		   "source": [
			"## Example 8.7: Angle_of_ejection.sce"
		   ]
		  },
  {
"cell_type": "code",
	   "execution_count": null,
	   "metadata": {
	    "collapsed": true
	   },
	   "outputs": [],
"source": [
"clc();\n",
"clear;\n",
"//Given :\n",
"Q = 4 ;// in MeV\n",
"Ex = 2; // in MeV\n",
"Ey = 5 ; // in MeV\n",
"mx = 4; // in u\n",
"my = 1 ; // in u\n",
"My =13; // in u\n",
"theta = acosd(( (Ey*(1 + (my/My))) - (Ex*(1 - (mx/My))) - Q )/((2/My)*sqrt(mx*Ex*my*Ey))); // angle of ejection in degrees \n",
"printf('Angle of ejection is %.0f degrees',theta);"
   ]
   }
,
{
		   "cell_type": "markdown",
		   "metadata": {},
		   "source": [
			"## Example 8.8: Electronic_and_nuclear_energy_levels.sce"
		   ]
		  },
  {
"cell_type": "code",
	   "execution_count": null,
	   "metadata": {
	    "collapsed": true
	   },
	   "outputs": [],
"source": [
"clc();\n",
"clear;\n",
"//Given :\n",
"h = 6.625*10^-34 ; //planck's constant in Js\n",
"me = 9.1*10^-31 ; //electron mass in kg\n",
"mn = 1.67*10^-27;// a nucleon mass in kg\n",
"//(a)For electron\n",
"L1 = 1; // in A\n",
"//E = (n^2*h^2)/(8*m*L^2) , here n value is not given , so let us calculate the remaining part (neglecting n^2 in the formula)\n",
"//L1 = 1*10^-10 m , 1A = 1.0*10^-10 m\n",
"E1 = h^2/(8*me*(L1*10^-10)^2); // energy in J\n",
"//(b)For nucleon\n",
"L2 = 1; // in fm\n",
"//E = (n^2*h^2)/(8*m*L^2) , here n value is not given , so let us calculate the remaining part (neglecting n^2 in the formula)\n",
"//L2 = 1*10^-15 m , 1 fm = 1.0*10^-15 m\n",
"E2 = h^2/(8*mn*(L2*10^-15)^2);//energy in J\n",
"printf('Energy for an electron : %.1f x 10^-17 x n^2  J \n',E1*10^17);\n",
"printf('Energy for a nucleon : %.2f x 10^-11 x n^2  J',E2*10^11);"
   ]
   }
,
{
		   "cell_type": "markdown",
		   "metadata": {},
		   "source": [
			"## Example 8.9: Energy_released_in_Fission.sce"
		   ]
		  },
  {
"cell_type": "code",
	   "execution_count": null,
	   "metadata": {
	    "collapsed": true
	   },
	   "outputs": [],
"source": [
"clc();\n",
"clear;\n",
"//Given :\n",
"Na = 6.023*10^23 ; // Avogadro constant in atoms/mole\n",
"LE = 200 ; // liberated energy in MeV\n",
"mm = 235; // molar mass  of U 235 in gm/mole\n",
"// 1 eV = 1.6*10^-19 J , 1 MeV = 1.0*10^6 eV\n",
"RE = (Na*LE*1.6*10^-19*10^6)/mm ; //released energy in J\n",
"// 1 cal = 4.187 J \n",
"EC = RE/4.187 ; // energy in cal\n",
"//Burning 1 kg of coal releases 7000 K cal of energy \n",
"Q1 = EC/(7000*10^3); // Quantity of Coal in Kg\n",
"//Exploding 1 kg of TNT releases 1000 cal of energy\n",
"Q2 = EC/1000; // Quantity of TNT in kg\n",
"printf('Energy released : %.0f x 10^10 cal \n',EC*10^-10);\n",
"printf(' %.1f tonnes of Coal\n',Q1*10^-3);\n",
"printf(' %.0f tonnes of TNT\n',Q2*10^-3);\n",
"// Results obtained differ from those in textbook , because approximate values were considered in textbook."
   ]
   }
],
"metadata": {
		  "kernelspec": {
		   "display_name": "Scilab",
		   "language": "scilab",
		   "name": "scilab"
		  },
		  "language_info": {
		   "file_extension": ".sce",
		   "help_links": [
			{
			 "text": "MetaKernel Magics",
			 "url": "https://github.com/calysto/metakernel/blob/master/metakernel/magics/README.md"
			}
		   ],
		   "mimetype": "text/x-octave",
		   "name": "scilab",
		   "version": "0.7.1"
		  }
		 },
		 "nbformat": 4,
		 "nbformat_minor": 0
}
