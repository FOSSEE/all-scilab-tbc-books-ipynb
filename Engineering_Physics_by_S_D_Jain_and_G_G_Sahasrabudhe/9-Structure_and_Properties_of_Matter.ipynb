{
"cells": [
 {
		   "cell_type": "markdown",
	   "metadata": {},
	   "source": [
       "# Chapter 9: Structure and Properties of Matter"
	   ]
	},
{
		   "cell_type": "markdown",
		   "metadata": {},
		   "source": [
			"## Example 9.3: Miller_indices_of_planes.sce"
		   ]
		  },
  {
"cell_type": "code",
	   "execution_count": null,
	   "metadata": {
	    "collapsed": true
	   },
	   "outputs": [],
"source": [
"clc();\n",
"clear;\n",
"//Given :\n",
"//Intercepts\n",
"ix = 1/3 ; //along x-axis\n",
"iy = 2/3; // along y-axis\n",
"iz =1; // along z-axis\n",
"//Reciprocals\n",
"rx = 1/ix;\n",
"ry = 1/iy;\n",
"rz = 1/iz;\n",
"//Conversion\n",
"x = rx*2;\n",
"y = ry*2;\n",
"z = rz*2;\n",
"printf('Miller indices of the plane are : ( %d %d %d )',x,y,z);"
   ]
   }
,
{
		   "cell_type": "markdown",
		   "metadata": {},
		   "source": [
			"## Example 9.7: Determination_of_crystal_structure.sce"
		   ]
		  },
  {
"cell_type": "code",
	   "execution_count": null,
	   "metadata": {
	    "collapsed": true
	   },
	   "outputs": [],
"source": [
"clc();\n",
"clear;\n",
"//Given:\n",
"n = 1;\n",
"theta = 30; // angle in degrees\n",
"lambda = 1.67; // wavelength in A\n",
"r = 1.25; // atomic radius in A\n",
"//Bragg's Law : 2*d*sin(theta) = n*lambda , d= d111\n",
"d111 = (n*lambda)/(2*sind(theta));\n",
"//plane (111)\n",
"h =1;k=1;l=1;\n",
"//dhkl = a/sqrt(h^2 + k^2 + l^2)\n",
"a = d111*sqrt(h^2 + k^2 + l^2); // in A\n",
"ratio = r/a;\n",
"printf(' Since, r/a = %.4f  and r = %f*a  Crystal Structure : BCC',ratio,ratio);\n",
""
   ]
   }
,
{
		   "cell_type": "markdown",
		   "metadata": {},
		   "source": [
			"## Example 9.8: Determination_of_density.sce"
		   ]
		  },
  {
"cell_type": "code",
	   "execution_count": null,
	   "metadata": {
	    "collapsed": true
	   },
	   "outputs": [],
"source": [
"clc();\n",
"clear;\n",
"//Given:\n",
"n = 1;\n",
"theta = 30; //angle in degrees\n",
"lambda = 2.88 ; // wavelength in A\n",
"M = 108; // atomic weight in kg\n",
"Z = 4; // unit cell of silver is FCC\n",
"Na = 6.023*10^26 ;// Avogadro constant in kmole\n",
"//Bragg's Law : 2*d*sin(theta) = n*lambda , d = d110\n",
"d110 = (n*lambda)/(2*sind(theta)); // in A\n",
"//plane (110)\n",
"h =1;k=1;l=0;\n",
"//dhkl = a/sqrt(h^2 + k^2 + l^2)\n",
"a = d110*sqrt(h^2 + k^2 + l^2); // in A\n",
"//1 A = 1.0*10^-10 m\n",
"rho = (Z*M)/(Na*(a*10^-10)^3); // density in kg/m^3\n",
"printf(' Density of silver : %.1f kg/m^3',rho);"
   ]
   }
],
"metadata": {
		  "kernelspec": {
		   "display_name": "Scilab",
		   "language": "scilab",
		   "name": "scilab"
		  },
		  "language_info": {
		   "file_extension": ".sce",
		   "help_links": [
			{
			 "text": "MetaKernel Magics",
			 "url": "https://github.com/calysto/metakernel/blob/master/metakernel/magics/README.md"
			}
		   ],
		   "mimetype": "text/x-octave",
		   "name": "scilab",
		   "version": "0.7.1"
		  }
		 },
		 "nbformat": 4,
		 "nbformat_minor": 0
}
