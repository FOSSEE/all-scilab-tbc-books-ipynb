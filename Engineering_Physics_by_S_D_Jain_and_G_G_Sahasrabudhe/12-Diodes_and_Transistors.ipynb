{
"cells": [
 {
		   "cell_type": "markdown",
	   "metadata": {},
	   "source": [
       "# Chapter 12: Diodes and Transistors"
	   ]
	},
{
		   "cell_type": "markdown",
		   "metadata": {},
		   "source": [
			"## Example 12.1: Determination_of_V0.sce"
		   ]
		  },
  {
"cell_type": "code",
	   "execution_count": null,
	   "metadata": {
	    "collapsed": true
	   },
	   "outputs": [],
"source": [
"clc();\n",
"clear;\n",
"//Given:\n",
"sigma_n = 10^4; //conductivity in mho/m\n",
"sigma_p = 10^2; // conductivity in mho/m\n",
"e = 1.6*10^-19;// charge of an electron in C\n",
"kT = 0.026 ;// k*T value at room temperature in eV\n",
"ni = 2.5*10^19; // per m^3\n",
"mue = 0.38; // mobility of free electrons in m^2/Vs\n",
"muh = 0.18;// mobility of free electrons in m^2/Vs\n",
"// sigma_n = e*n*mue  and sigma_p = e*p*muh\n",
"nn0 = sigma_n/(e*mue); // per m^3\n",
"pp0 = sigma_p/(e*muh);// per m^3\n",
"np0 =( ni^2)/pp0; // in m^-3\n",
"// V0 = (kT/e)*log(nn0/np0) , but we consider only kT because kT/e = 0.026 eV/e  , both the e's cancel each other.Finally we obtain the answer in Volts\n",
"V0 = (kT)*log(nn0/np0); // in V\n",
"printf('V0 = %.2f V',V0);"
   ]
   }
,
{
		   "cell_type": "markdown",
		   "metadata": {},
		   "source": [
			"## Example 12.2: Carrier_concentration.sce"
		   ]
		  },
  {
"cell_type": "code",
	   "execution_count": null,
	   "metadata": {
	    "collapsed": true
	   },
	   "outputs": [],
"source": [
"clc();\n",
"clear;\n",
"//Given :\n",
"//(a)Forward bias of 0.1 V\n",
"// np = np0*exp[eV/kT] , here we dont have np0 value, so we will calculate the remaining part.\n",
"kT = 0.026; // in eV\n",
"np = exp(0.1/kT); \n",
"printf('(a) np = %.0f x np0 \n',np);\n",
"//(b)Reverse bias of 1 V\n",
"// np = np0*exp[-eV/kT] , here we dont have np0 value, so we will calculate the remaining part.\n",
"np1 = exp(-1/kT);\n",
"printf('(b) np = %.2f x 10^-17 x np0 \n',np1*10^17);"
   ]
   }
,
{
		   "cell_type": "markdown",
		   "metadata": {},
		   "source": [
			"## Example 12.3: Current_through_pn_junction_diode.sce"
		   ]
		  },
  {
"cell_type": "code",
	   "execution_count": null,
	   "metadata": {
	    "collapsed": true
	   },
	   "outputs": [],
"source": [
"clc();\n",
"clear;\n",
"//Given :\n",
"I0 = 0.1; // muA\n",
"kT = 0.026; // kT value at room temperature\n",
"//Forward bias of 0.1 V\n",
"// I = I0[exp(eV/kT) - 1]\n",
"//  since I = I0*(exp(0.1 eV/kT (eV))), both the eV's cancel each other , so it is only  I = I0*(exp(0.1/kT) - 1) while evaluating.\n",
"I = I0*(exp(0.1/kT) - 1) // in muA\n",
"printf('Current = %.2f muA ',I);"
   ]
   }
,
{
		   "cell_type": "markdown",
		   "metadata": {},
		   "source": [
			"## Example 12.4: Voltage_regulation_using_Zener_diode.sce"
		   ]
		  },
  {
"cell_type": "code",
	   "execution_count": null,
	   "metadata": {
	    "collapsed": true
	   },
	   "outputs": [],
"source": [
"clc();\n",
"clear;\n",
"//Given :\n",
"Vin = 36; // Input Voltage in V\n",
"Vb = 6; // Zerner Breakdown Voltage in V\n",
"Vr = Vin-Vb; // Volatge drop across resistor\n",
"R = 5*10^3; // resistance in ohm\n",
"Rl = 2*10^3; // load resistance in ohm\n",
"I = Vr/R; // current in A\n",
"Il = Vb/Rl; // current  in A\n",
"Iz = I - Il ;// current in A\n",
"//(a)\n",
"Vin1 = 41; // Input Voltage in V\n",
"I1 = (Vin1-Vb)/R; // current in A\n",
"Iz1 = I1-Iz; // current in A\n",
"//(b)\n",
"Rl1 = 4*10^3; //load  resistance in ohm\n",
"Il1 = Vb/Rl1; // current in A\n",
"Iz2 = I - Il1; // current in A\n",
"printf('Input volatge = 41 V , Iz = %.0f mA\n',Iz1*10^3);\n",
"printf('Load resistance = 4k ohm , Iz = %.1f mA',Iz2*10^3);\n",
""
   ]
   }
,
{
		   "cell_type": "markdown",
		   "metadata": {},
		   "source": [
			"## Example 12.5: Voltage_gai.sce"
		   ]
		  },
  {
"cell_type": "code",
	   "execution_count": null,
	   "metadata": {
	    "collapsed": true
	   },
	   "outputs": [],
"source": [
"clc();\n",
"clear;\n",
"//Given :\n",
"deltaIE = 2; // in mA\n",
"deltaIB = 5; // in mA\n",
"Rl = 200*10^3; // load resistance in ohm\n",
"ri = 200; // input resistance in ohm\n",
"// IE= IB + IC  ,   1 muA = 1.0*10^-3 mA\n",
"deltaIC = deltaIE - deltaIB*10^-3 ;// in mA\n",
"alpha = deltaIC/deltaIE; \n",
"A = alpha*(Rl/ri);\n",
"printf('Voltage gain = %.1f ',A);"
   ]
   }
],
"metadata": {
		  "kernelspec": {
		   "display_name": "Scilab",
		   "language": "scilab",
		   "name": "scilab"
		  },
		  "language_info": {
		   "file_extension": ".sce",
		   "help_links": [
			{
			 "text": "MetaKernel Magics",
			 "url": "https://github.com/calysto/metakernel/blob/master/metakernel/magics/README.md"
			}
		   ],
		   "mimetype": "text/x-octave",
		   "name": "scilab",
		   "version": "0.7.1"
		  }
		 },
		 "nbformat": 4,
		 "nbformat_minor": 0
}
