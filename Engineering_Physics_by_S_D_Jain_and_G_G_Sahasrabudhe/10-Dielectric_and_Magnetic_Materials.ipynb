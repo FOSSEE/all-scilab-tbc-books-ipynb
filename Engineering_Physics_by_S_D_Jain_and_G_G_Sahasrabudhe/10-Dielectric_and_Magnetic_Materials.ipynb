{
"cells": [
 {
		   "cell_type": "markdown",
	   "metadata": {},
	   "source": [
       "# Chapter 10: Dielectric and Magnetic Materials"
	   ]
	},
{
		   "cell_type": "markdown",
		   "metadata": {},
		   "source": [
			"## Example 10.10: Electronic_and_Ionic_polarisability.sce"
		   ]
		  },
  {
"cell_type": "code",
	   "execution_count": null,
	   "metadata": {
	    "collapsed": true
	   },
	   "outputs": [],
"source": [
"clc();\n",
"clear;\n",
"//Given :\n",
"er = 6.75 ; // relative dielectric constant for glass\n",
"f = 10^9 ;// frequency in Hz\n",
"n = 1.5;// refractive index of glass\n",
"e0 = 8.85*10^-12; // dielectric constant in farad/m\n",
"//Pe = e0*(n^2 - 1)*E  , Pi = e0*(er - n^2)*E ,  P = Pi + Pe = e0*(er - 1)*E\n",
"//Percentage = [(e0*(er - n^2)*E)/(e0*(er -1)*E)]*100 , both the E's cancel each other\n",
"per = [(e0*(er - n^2))/(e0*(er -1))]*100;// percentage\n",
"printf('Percentage = %.1f',per);"
   ]
   }
,
{
		   "cell_type": "markdown",
		   "metadata": {},
		   "source": [
			"## Example 10.1: Electronic_polarisation.sce"
		   ]
		  },
  {
"cell_type": "code",
	   "execution_count": null,
	   "metadata": {
	    "collapsed": true
	   },
	   "outputs": [],
"source": [
"clc();\n",
"clear;\n",
"//Given:\n",
"er = 1.0000684; // relative dielectric constant\n",
"N = 2.7*10^25; // atoms/m^3\n",
"//We know, er - 1 = 4*pi*N*R^3\n",
"R = ((er-1)/(4*%pi*N))^(1/3) ; // in m\n",
"printf('R : %.1f x 10^-10 m',R*10^10);"
   ]
   }
,
{
		   "cell_type": "markdown",
		   "metadata": {},
		   "source": [
			"## Example 10.2: Diamagnetism.sce"
		   ]
		  },
  {
"cell_type": "code",
	   "execution_count": null,
	   "metadata": {
	    "collapsed": true
	   },
	   "outputs": [],
"source": [
"clc();\n",
"clear;\n",
"//Given :\n",
"R = 1; // radius in A\n",
"N = 5*10^28 ; //  atoms/m^3\n",
"mu_0 = 4*%pi*10^-7; // permiability of free space in H/m\n",
"mu_r = 1;//relative permiability\n",
"m = 9.1*10^-31 // electron mass in kg\n",
"e = 1.6*10^-19 ; // charge of an electron in C\n",
"// R = 1*10^-10 m  because 1 A = 1.0*10^-10 m\n",
"chi = -(N*e^2*(R*10^-10)^2*mu_0*mu_r)/(4*m); //Susceptibility of diamagnetic material\n",
"printf('Susceptibility of diamagnetic materials  is %.2f x 10^-5',chi*10^5);\n",
"//Result obtained differs from that in textbook, because in textbook only the order of 10 is considered .  "
   ]
   }
,
{
		   "cell_type": "markdown",
		   "metadata": {},
		   "source": [
			"## Example 10.3: Dipole_moment_and_polarisability.sce"
		   ]
		  },
  {
"cell_type": "code",
	   "execution_count": null,
	   "metadata": {
	    "collapsed": true
	   },
	   "outputs": [],
"source": [
"clc();\n",
"clear;\n",
"//Given :\n",
"e0 = 8.85*10^-12 ; // dielectric constant in farad/m\n",
"er1 = 1.006715 ; //relative dielectric constant\n",
"er2 = 1.005970;// relative dielectric constant\n",
"T1 = 300 ; // Temperature in K  (273+27 = 300 K)\n",
"T2 = 450; // Temperature in K  (273 + 177 = 450 K)\n",
"k = 1.38*10^-23; // in J/K\n",
"N = 2.44*10^25 ; // molecules/m^3\n",
"//e0*(er1 - er2)= ((N*mu_p^2)/(3*k))*((1/T1)- (1/T2))\n",
"mu_p = sqrt((e0*(er1 - er2)*3*k)/(((1/T1)-(1/T2))* N)); //dipole moment in C m\n",
"D = 3.3*10^-30; // dipole of 1 Debye is equal to 3.33 x 10^-30 C m \n",
"printf('Dipole moment = %.2f debye \n',mu_p/D);\n",
"//e0*(er1 - 1) = N*(alpha_e + alpha_i + (mu_p^2/3*k*T1))\n",
"Sum = ((e0*(er1 - 1))/N) - ((mu_p)^2/(3*k*T1)); // alpha_e + alpha_i   in farad m^2\n",
"printf('Sum =  %.1f x 10^-39 farad m^2',Sum*10^39);"
   ]
   }
,
{
		   "cell_type": "markdown",
		   "metadata": {},
		   "source": [
			"## Example 10.4: Orientational_polarisation.sce"
		   ]
		  },
  {
"cell_type": "code",
	   "execution_count": null,
	   "metadata": {
	    "collapsed": true
	   },
	   "outputs": [],
"source": [
"clc();\n",
"clear;\n",
"//Given :\n",
"mu_p = 1.2 ;// dipole moment in debye units\n",
"T = 300 ; // Temperature in Kelvin ( 273+27 = 300 K)\n",
"k = 1.38*10^-23 ; //  in J/K\n",
"per = 0.5/100 ; // percentage of saturated polarisation\n",
"// 0.05*N*mu_p = (N*(mu_p)^2*E/(3*k*T))\n",
"E = (3*k*T*per)/(mu_p*3.33*10^-30); // External field in V/m\n",
"printf(' E = %.2f x 10^7 V/m',E*10^-7);"
   ]
   }
,
{
		   "cell_type": "markdown",
		   "metadata": {},
		   "source": [
			"## Example 10.5: Susceptibility_of_paramagnetic_materials.sce"
		   ]
		  },
  {
"cell_type": "code",
	   "execution_count": null,
	   "metadata": {
	    "collapsed": true
	   },
	   "outputs": [],
"source": [
"clc();\n",
"clear;\n",
"//Given :\n",
"N = 5*10^28 ;// number of dipoles per m^3\n",
"betaa = 1;// Bohr magneton\n",
"T = 300 ; // Room temperature in k\n",
"k = 1.38*10^-23 ; //  in J/K\n",
"mu_0 = 4*%pi*10^-7 ; //Magnetic permeability in H/m\n",
"//1 Bohr magneton = 9.27 × 10^-24 Am^2.\n",
"chi = (N*mu_0*betaa*(1*9.27*10^-24)^2)/(k*T);\n",
"printf('Susceptibility = %.2f x 10^-3',chi*10^3);\n",
"//Result obtained differs from that in textbook, because in textbook only the order is considered."
   ]
   }
,
{
		   "cell_type": "markdown",
		   "metadata": {},
		   "source": [
			"## Example 10.6: Relative_dielectric_constant.sce"
		   ]
		  },
  {
"cell_type": "code",
	   "execution_count": null,
	   "metadata": {
	    "collapsed": true
	   },
	   "outputs": [],
"source": [
"clc();\n",
"clear;\n",
"//Given :\n",
"M = 32; // Atomic weight in kg/kmole\n",
"Na =6.023*10^26 ; // Avogadro constant in atoms/kmole\n",
"alpha_e = 3.28*10^-40; // electronic polarisability in farad/m^2\n",
"rho = 2.08; //density in gm/cm^3\n",
"e0 = 8.85*10^-12 ; // dielectric constant in farad/m\n",
"// (er - 1)/(er + 2)  = (N*alpha_e/3*e0)\n",
"//1 gm = 1.0*10^-3 kg , 1 cm^3 = 1.0*10^-6 m^3\n",
"N = (Na*(rho*10^3))/M; //  atoms/m^3\n",
"er =( 2*((N*alpha_e)/(3*e0)) + 1 )/(1 - ((N*alpha_e)/(3*e0)));\n",
"printf('Relative dielectric constant = %.2f ',er);\n",
"\n",
""
   ]
   }
,
{
		   "cell_type": "markdown",
		   "metadata": {},
		   "source": [
			"## Example 10.7: Power_loss_due_to_hysteresis.sce"
		   ]
		  },
  {
"cell_type": "code",
	   "execution_count": null,
	   "metadata": {
	    "collapsed": true
	   },
	   "outputs": [],
"source": [
"clc();\n",
"clear;\n",
"//Given :\n",
"area = 50000; // area of hysteresis on a graph\n",
"axis1 = 10^-4 ; // units of scale in Wb/m^2\n",
"axis2 = 10^2; // units of scale in A/m\n",
"vol = 0.01; // volume in m^3\n",
"F = 50; //frequency in Hz\n",
"E1 = area*axis1*axis2; // Energy lost per cycle in J/m^3\n",
"E2 = E1*vol ; // Energy lost in core per cycle in J\n",
"P = E2*F; // Power loss in W\n",
"printf('Power loss = %d W ',P);\n",
"\n",
""
   ]
   }
,
{
		   "cell_type": "markdown",
		   "metadata": {},
		   "source": [
			"## Example 10.8: Classical_model_of_internal_field.sce"
		   ]
		  },
  {
"cell_type": "code",
	   "execution_count": null,
	   "metadata": {
	    "collapsed": true
	   },
	   "outputs": [],
"source": [
"clc();\n",
"clear;\n",
"//Given :\n",
"mu_d = 9.27*10^-24; // Bhor magneton in Am^2\n",
"mu_0 = 4*%pi*10^-7; // Magnetic permiability in H/m\n",
"r = 2; // dipoles distance in A\n",
"//U = mu_d*B = -( mu_0*mu_d^2)/(2*pi*r)\n",
"//r = 2*10^-10 m , 1 A = 1.0*10^-10 m\n",
"U = ( mu_0*mu_d^2)/(2*%pi*(r*10^-10)^3); // Energy \n",
"printf('U = %.1f x 10^-25 ',U*10^25);"
   ]
   }
,
{
		   "cell_type": "markdown",
		   "metadata": {},
		   "source": [
			"## Example 10.9: Saturation_Magnetisation.sce"
		   ]
		  },
  {
"cell_type": "code",
	   "execution_count": null,
	   "metadata": {
	    "collapsed": true
	   },
	   "outputs": [],
"source": [
"clc();\n",
"clear;\n",
"//Given :\n",
"a = 2.87; // lattice constant in A\n",
"mu = 4; // 4 Bohr magnetons/atom\n",
"// BCC = 2 atoms/unit cell , 1 A = 1.0*10^-10 m\n",
"N = 2/(2.87*10^-10)^3; // atoms/m^3\n",
"//1 Bohr magneton = 9.27*10^-24 Am^2\n",
"Msat = N*mu*9.27*10^-24;// Saturation in magnetisation in A/m\n",
"printf(' Saturation Magnetisation = %.2f x 10^6 A/m',Msat*10^-6);"
   ]
   }
],
"metadata": {
		  "kernelspec": {
		   "display_name": "Scilab",
		   "language": "scilab",
		   "name": "scilab"
		  },
		  "language_info": {
		   "file_extension": ".sce",
		   "help_links": [
			{
			 "text": "MetaKernel Magics",
			 "url": "https://github.com/calysto/metakernel/blob/master/metakernel/magics/README.md"
			}
		   ],
		   "mimetype": "text/x-octave",
		   "name": "scilab",
		   "version": "0.7.1"
		  }
		 },
		 "nbformat": 4,
		 "nbformat_minor": 0
}
