{
"cells": [
 {
		   "cell_type": "markdown",
	   "metadata": {},
	   "source": [
       "# Chapter 7: Atomic Physics"
	   ]
	},
{
		   "cell_type": "markdown",
		   "metadata": {},
		   "source": [
			"## Example 7.1: Hydrogen_atom.sce"
		   ]
		  },
  {
"cell_type": "code",
	   "execution_count": null,
	   "metadata": {
	    "collapsed": true
	   },
	   "outputs": [],
"source": [
"clc();\n",
"clear;\n",
"//Given :\n",
"n =1 ; // ground state\n",
"m = 9.109382*10^-31; //electron mass in kg\n",
"h = 6.625*10^-34; //planck's constant in Js\n",
"e = 1.602176*10^-19; // Charge of an electron in C\n",
"e0 = 8.854188*10^-12; // Vacuum permittivity in F/m\n",
"r1 = (n^2*h^2*e0)/(%pi*m*e^2);// Radius in A\n",
"v1 = e^2/(2*h*e0*n); // Velocity in m/s\n",
"E1 = -((m*e^4)/(8*n^2*h^2*e0^2)); // Energy of an electron in eV\n",
"// 1 A = 1.0*10^-10 m , 1 eV = 1.6*10^-19 J\n",
"printf('For hydrogen atom : \n Radius  = %.2f A \n Velocity = %.1f x 10^6 m/s \n Energy of an electron = %.1f eV',r1*10^10,v1*10^-6,E1/(1.6*10^-19));"
   ]
   }
,
{
		   "cell_type": "markdown",
		   "metadata": {},
		   "source": [
			"## Example 7.2: Bohr_Theory.sce"
		   ]
		  },
  {
"cell_type": "code",
	   "execution_count": null,
	   "metadata": {
	    "collapsed": true
	   },
	   "outputs": [],
"source": [
"clc();\n",
"clear;\n",
"//Given :\n",
"//(a)\n",
"m = 9.109382*10^-31; //electron mass in kg\n",
"c = 2.997925*10^8; //Speed of light  in m/s\n",
"h = 6.626069*10^-34; //planck's constant in Js\n",
"e = 1.602176*10^-19; // Charge of an electron in C\n",
"e0 = 8.854188*10^-12; // Vacuum permittivity in F/m\n",
"R = (m*e^4)/(8*h^3*e0^2*c);// Rydberg constant in m^-1\n",
"printf('Rydberg constant for hydrogen : %.2f cm^-1\n\n',R*10^-2);\n",
"//(b)\n",
"M = 1.672622*10^-27; // proton mass in kg\n",
"R1 = ((m*e^4)/(8*h^3*e0^2*c))*(1/(1 + (m/M))); // Rydberg Constant in m^-1\n",
"//1 m^-1 = 1.0*10^-2 cm^-1\n",
"printf('Rydberg Constant is %.2f cm^-1',R1*10^-2);"
   ]
   }
,
{
		   "cell_type": "markdown",
		   "metadata": {},
		   "source": [
			"## Example 7.3: Bohrs_theory_for_helium.sce"
		   ]
		  },
  {
"cell_type": "code",
	   "execution_count": null,
	   "metadata": {
	    "collapsed": true
	   },
	   "outputs": [],
"source": [
"clc();\n",
"clear;\n",
"//Given :\n",
"RH= 109677.58; //Rydberg constant for Hydrogen in cm^-1\n",
"RHe = 109722.269; //Rydberg constant for Helium in cm^-1\n",
"//Ratio = M/m\n",
"Ratio = ((4*RH)- (RHe))/(4*(RHe-RH));\n",
"printf('M/m value is : %.1f ',Ratio);"
   ]
   }
,
{
		   "cell_type": "markdown",
		   "metadata": {},
		   "source": [
			"## Example 7.4: Bohrs_radius.sce"
		   ]
		  },
  {
"cell_type": "code",
	   "execution_count": null,
	   "metadata": {
	    "collapsed": true
	   },
	   "outputs": [],
"source": [
"clc();\n",
"clear;\n",
"//Given\n",
"h = 6.625*10^-34; //planck's constant in Js\n",
"m = 9.1*10^-31; //electron mass in kg\n",
"E1 = 13.6; //Energy of electron in eV\n",
"//1 eV = 1.6*10^-19 J\n",
"p = sqrt(2*m*E1*1.6*10^-19); //momentum in kg m/s\n",
"deltax = h/(2*%pi*p);\n",
"// 1 A = 1.0*10^-10 m\n",
"printf('Uncertainty in position : %.2f A',deltax/(1.0*10^-10));\n",
""
   ]
   }
],
"metadata": {
		  "kernelspec": {
		   "display_name": "Scilab",
		   "language": "scilab",
		   "name": "scilab"
		  },
		  "language_info": {
		   "file_extension": ".sce",
		   "help_links": [
			{
			 "text": "MetaKernel Magics",
			 "url": "https://github.com/calysto/metakernel/blob/master/metakernel/magics/README.md"
			}
		   ],
		   "mimetype": "text/x-octave",
		   "name": "scilab",
		   "version": "0.7.1"
		  }
		 },
		 "nbformat": 4,
		 "nbformat_minor": 0
}
