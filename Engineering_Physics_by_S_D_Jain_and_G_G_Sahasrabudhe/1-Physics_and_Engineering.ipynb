{
"cells": [
 {
		   "cell_type": "markdown",
	   "metadata": {},
	   "source": [
       "# Chapter 1: Physics and Engineering"
	   ]
	},
{
		   "cell_type": "markdown",
		   "metadata": {},
		   "source": [
			"## Example 1.1: Error_Estimatio.sce"
		   ]
		  },
  {
"cell_type": "code",
	   "execution_count": null,
	   "metadata": {
	    "collapsed": true
	   },
	   "outputs": [],
"source": [
"clear;\n",
"clc();\n",
"//Given:\n",
"l=9.3; // length in cm\n",
"b=8.5;// breadth in cm\n",
"h=5.4;// height in cm\n",
"V= l*b*h; // Volume in cm^3\n",
"delta_l = 0.1; delta_b = 0.1; delta_h = 0.1; // scale has a least count = 0.1 cm\n",
"// absolute error \n",
"delta_V = (b*h*delta_l + l*h*delta_b +l*b*delta_h); // in cm^3\n",
"//relative error \n",
"re = delta_V/V;\n",
"p= re*100; // Evaluating percentage error\n",
"printf('Percentage Error = %d percentage.',p);"
   ]
   }
,
{
		   "cell_type": "markdown",
		   "metadata": {},
		   "source": [
			"## Example 1.2: Error_Estimatio.sce"
		   ]
		  },
  {
"cell_type": "code",
	   "execution_count": null,
	   "metadata": {
	    "collapsed": true
	   },
	   "outputs": [],
"source": [
"clear;\n",
"clc();\n",
"//Given :\n",
"M= 10.0; //weight in g\n",
"V= 5.80;//volume in cm^3\n",
"Rho = M/V; // Density in g/cm^3\n",
"delta_M= 0.2 //  apparatus has a least count of 0.2 g\n",
"delta_V= 0.05// apparatus has a least count of 0.05 cm^3\n",
"delta_Rho = (delta_M/V) +((M*delta_V)/V^2);// absolute error in g/cm^3\n",
"re = delta_Rho/Rho ; //Evaluating Relative Error\n",
"p = re*100;// Evaluating Percentage Error\n",
"printf('Percentage error = %.1f percentage.',p);\n",
"//Result obtained differs from that in textbook, because delta_M walue is taken 0.1 g , instead of 0.2 g as mentioned in the problem statement."
   ]
   }
,
{
		   "cell_type": "markdown",
		   "metadata": {},
		   "source": [
			"## Example 1.3: Refinement_in_experiment.sce"
		   ]
		  },
  {
"cell_type": "code",
	   "execution_count": null,
	   "metadata": {
	    "collapsed": true
	   },
	   "outputs": [],
"source": [
"clc();\n",
"clear;\n",
"//Given:\n",
"//(a) \n",
"lc = 0.1// least count in cm\n",
"c = 6.9 //Circumference c in cm\n",
"r= 1.1 // radius of circle in cm\n",
"val =2*%pi;\n",
"// Circumference,c= 2*pi*r or  c/r = 2*pi\n",
"// Error in c/r is , delta(c/r)= [(c/r^2)+(1/r)](LC/2) , LC is Least Count .\n",
"E= ((c/r^2)+(1/r))*(lc/2);//Error in c/r is delta(c/r)\n",
"ob = c/r; // Observed Value\n",
"//Actual Value of c/r ranges between\n",
"ac1 = ob-E;// Evaluating Minimum value for c/r \n",
"ac2 = ob+E;// Evaluating Maximum value for c/r\n",
"p = (E/ob)*100; //Evaluating percentage error\n",
"printf('(a)Actual Value of c/r ranges between %.2f - %.2f and Percentage error =  %.2f percentage.\n ',ac1,ac2,p);\n",
"//(b)\n",
"lc1 = 0.001;//Now the least count is 0.001 cm\n",
"c1 = 6.316;//Circumference in cm\n",
"r1=1.005;//Circle radius in cm \n",
"E1 =((c1/r1^2) + (1/r1))*(lc1/2); // Error in c/r is delta(c/r)\n",
"ob1= c1/r1; //Observed Value\n",
"p1=(E1/ob1)*100;//Evaluating percentage error\n",
"//Actual Value of c/r ranges between\n",
"a1= ob1-E1;//Evaluating Minimum value for c/r\n",
"a2= ob1+E1;//Evaluating Maximum value for c/r\n",
"printf('(b)Actual Value of c/r ranges between %.3f - %.3f and Percentage error = %.2f percentage.\n',a1,a2,p1);\n",
""
   ]
   }
,
{
		   "cell_type": "markdown",
		   "metadata": {},
		   "source": [
			"## Example 1.4: Refinement_in_theory.sce"
		   ]
		  },
  {
"cell_type": "code",
	   "execution_count": null,
	   "metadata": {
	    "collapsed": true
	   },
	   "outputs": [],
"source": [
"clc();\n",
"clear;\n",
"//Given\n",
"// (a) Newton's Theory\n",
"// v= (P/rho)^2  , P= Pressure , rho = density\n",
"P = 76; // 76 cm of Hg pressure\n",
"V= 330 ; // velocity of sound in m/s\n",
"rho = 0.001293; // density for dry air at 0 degrees celsius in g/cm^3\n",
"g = 980;//gravitational acceleration in cm/s^2\n",
"//Density of mercury at room temperature is 13.6 g/cm^3 \n",
"// 1 cm^2 = 1.0*10^-4 m^2\n",
"v = sqrt(((P*13.6*g)/rho)*10^-4); // velocity of sound in m/s\n",
"p= ((V-v)/V)*100; // % lower than the experimental value\n",
"printf('(a) It is is %d percentage lower than the experimental value.\n\n',p);\n",
"\n",
"// (b) Laplace's Theory \n",
"// v= ((gama*P)/rho)^2., gamma = adiabatic index Thus,\n",
"//Given :\n",
"gama = 1.41 // Adiabatic index\n",
"//Density of mercury at room temperature is 13.6 g/cm^3 \n",
"// 1 cm^2 = 1.0*10^-4 m^2\n",
"v1 = sqrt(((gama*P*13.6*g)/rho)*10^-4);// velocity of sound in m/s\n",
"p1 = ((V-round(v1))/V)*100;// % higher than the eperimental value\n",
"printf('(b) It is %.1f  percantage  higher than the experimental value.\n',abs(p1));\n",
""
   ]
   }
],
"metadata": {
		  "kernelspec": {
		   "display_name": "Scilab",
		   "language": "scilab",
		   "name": "scilab"
		  },
		  "language_info": {
		   "file_extension": ".sce",
		   "help_links": [
			{
			 "text": "MetaKernel Magics",
			 "url": "https://github.com/calysto/metakernel/blob/master/metakernel/magics/README.md"
			}
		   ],
		   "mimetype": "text/x-octave",
		   "name": "scilab",
		   "version": "0.7.1"
		  }
		 },
		 "nbformat": 4,
		 "nbformat_minor": 0
}
