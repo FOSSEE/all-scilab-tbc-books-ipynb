{
"cells": [
 {
		   "cell_type": "markdown",
	   "metadata": {},
	   "source": [
       "# Chapter 14: Lasers"
	   ]
	},
{
		   "cell_type": "markdown",
		   "metadata": {},
		   "source": [
			"## Example 14.2: Thermal_pumping.sce"
		   ]
		  },
  {
"cell_type": "code",
	   "execution_count": null,
	   "metadata": {
	    "collapsed": true
	   },
	   "outputs": [],
"source": [
"clc();\n",
"clear;\n",
"//Given :\n",
"lambda = 6000; //wavelength in A\n",
"E2_E1 = 12422/lambda; // energy in eV\n",
"k = 8.62*10^-5; // in eV/K\n",
"T = 300; // Temperature in K\n",
"//Equilibrium ratio = N2/N1 =  exp[-(E2-E1)/k*T]\n",
"//(a)\n",
"Ratio = exp(-E2_E1/(k*T));\n",
"//(b)\n",
"T1 = (E2_E1)/(k*log(2)); // Temperature in K\n",
"printf('Ratio =  %.2f x 10^-35 \n',Ratio*10^35);\n",
"printf('T = %d K',T1);\n",
"//Resuts obtained differ from those in texbook, because approximate value of k*T was considered"
   ]
   }
,
{
		   "cell_type": "markdown",
		   "metadata": {},
		   "source": [
			"## Example 14.3: Calculating_wavelength_difference.sce"
		   ]
		  },
  {
"cell_type": "code",
	   "execution_count": null,
	   "metadata": {
	    "collapsed": true
	   },
	   "outputs": [],
"source": [
"clc();\n",
"clear;\n",
"//Given :\n",
"L =8;// in cm\n",
"lambda = 5330; //wavelength in A\n",
"// lambda = 2*L/n\n",
"// 1 A = 1.0*10^-8 cm\n",
"n= (2*L)/(lambda*10^-8); // allowed modes\n",
"//adjacent mode \n",
"n1 = round(n+1);\n",
"// 1 cm = 1.0*10^8 A\n",
"lambda1 = ((2*L)/n1)*10^8;// wavelength in A\n",
"D = lambda-lambda1; // difference in wavelengths in A\n",
"printf('Difference = %.3f A',D);"
   ]
   }
,
{
		   "cell_type": "markdown",
		   "metadata": {},
		   "source": [
			"## Example 14.5: deltalambda_by_lambda.sce"
		   ]
		  },
  {
"cell_type": "code",
	   "execution_count": null,
	   "metadata": {
	    "collapsed": true
	   },
	   "outputs": [],
"source": [
"clc();\n",
"clear;\n",
"//Given :\n",
"tau_c = 10^-5; // lifetime of lasing energy in s\n",
"tau_c1 = 10^-8; // coherence time in s\n",
"lambda = 5000; // wavelength in A\n",
"c = 3*10^8;// light speed in m/s\n",
"// Ratio = delta_lambda/lambda   = lambda/(c*tau_c)\n",
"// 1 A = 1.0*10^-10 m\n",
"//(a)Laser source\n",
"Ratio = (lambda*10^-10)/(c*tau_c);\n",
"//(b)Ordinary source\n",
"Ratio1 = (lambda*10^-10)/(c*tau_c1);\n",
"printf('Laser source = %.2f x 10^-10 \n',Ratio*10^10);\n",
"printf('Ordinary  source = %.2f x 10^-7 \n',Ratio1*10^7);\n",
"//Results obtained differ from those in textbook, beacuse only order of 10 was considered in the result."
   ]
   }
,
{
		   "cell_type": "markdown",
		   "metadata": {},
		   "source": [
			"## Example 14.6: Intensity_of_a_laser_beam.sce"
		   ]
		  },
  {
"cell_type": "code",
	   "execution_count": null,
	   "metadata": {
	    "collapsed": true
	   },
	   "outputs": [],
"source": [
"clc();\n",
"clear;\n",
"//Given :\n",
"P = 10; // Power in W\n",
"lambda =5000; // wavelength in A\n",
"SI = 7*10^3; // Sun's radiation intensity in W/cm^2\n",
"// 1 A = 1.0*10^-8 cm\n",
"I = P/(lambda*10^-8)^2; //Intensity in W/cm^2\n",
"Ratio = (I)/SI; \n",
"printf('Intensity =  %.0f x 10^6 kW/cm^2 \n',I*10^-9);\n",
"printf('Intensity of this laser source is %.1f x 10^6 times the intensity of Sun radiation',Ratio*10^-6);\n",
"//Textbook : Only order of 10 is considered in the result"
   ]
   }
,
{
		   "cell_type": "markdown",
		   "metadata": {},
		   "source": [
			"## Example 14.7: Information_capacity_of_laser.sce"
		   ]
		  },
  {
"cell_type": "code",
	   "execution_count": null,
	   "metadata": {
	    "collapsed": true
	   },
	   "outputs": [],
"source": [
"clc();\n",
"clear;\n",
"//Given :\n",
"c = 3*10^8;// light speed in m/s\n",
"//Visible range = 4000 A - 7000 A\n",
"lambda1 = 4000; // wavelength in A\n",
"lambda2 = 7000;// wavelength in A\n",
"// 1 A = 1.0*10^-10 m\n",
"nu1 = c/(lambda1*10^-10); // frequency in Hz\n",
"nu2 = c/(lambda2*10^-10);// frequency in Hz\n",
"deltanu = nu1-nu2; // in Hz\n",
"//(a)Telephone conversations\n",
"f1 = 10^3; // frequency in Hz\n",
"n1 = deltanu/f1;\n",
"//(b)Television programmes\n",
"f2 = 10^7; // frequency in Hz\n",
"n2 = deltanu/f2;\n",
"printf(' Number of Telephone conversations = %.1f x 10^11 \n',n1*10^-11);\n",
"printf(' Number of Television programmes  = %.1f x 10^7 \n',n2*10^-7);"
   ]
   }
],
"metadata": {
		  "kernelspec": {
		   "display_name": "Scilab",
		   "language": "scilab",
		   "name": "scilab"
		  },
		  "language_info": {
		   "file_extension": ".sce",
		   "help_links": [
			{
			 "text": "MetaKernel Magics",
			 "url": "https://github.com/calysto/metakernel/blob/master/metakernel/magics/README.md"
			}
		   ],
		   "mimetype": "text/x-octave",
		   "name": "scilab",
		   "version": "0.7.1"
		  }
		 },
		 "nbformat": 4,
		 "nbformat_minor": 0
}
