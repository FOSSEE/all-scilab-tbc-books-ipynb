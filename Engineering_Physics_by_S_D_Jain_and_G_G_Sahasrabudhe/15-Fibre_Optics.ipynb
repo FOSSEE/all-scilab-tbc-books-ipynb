{
"cells": [
 {
		   "cell_type": "markdown",
	   "metadata": {},
	   "source": [
       "# Chapter 15: Fibre Optics"
	   ]
	},
{
		   "cell_type": "markdown",
		   "metadata": {},
		   "source": [
			"## Example 15.1: Importance_of_cladding_material.sce"
		   ]
		  },
  {
"cell_type": "code",
	   "execution_count": null,
	   "metadata": {
	    "collapsed": true
	   },
	   "outputs": [],
"source": [
"clc();\n",
"clear;\n",
"//Given :\n",
"n0 = 1;//refractive index of outer medium\n",
"n1 = 1.5025; // refractive index of core\n",
"n2 = 1.4975; // refractive index of cladding\n",
"NA = sqrt(n1^2 - n2^2); // Numerical aperture with cladding\n",
"alpha_c = asind(NA/n0); // acceptance angle in degrees\n",
"NA1 = sqrt(n1^2 - n0^2);// Numerical aperture without cladding\n",
"printf('With cladding , NA  and Acceptance angle = %.4f  and %.3f degrees \n ',NA,alpha_c);\n",
"printf('Without cladding , NA = %.4f ',NA1);"
   ]
   }
,
{
		   "cell_type": "markdown",
		   "metadata": {},
		   "source": [
			"## Example 15.2: Number_of_reflections.sce"
		   ]
		  },
  {
"cell_type": "code",
	   "execution_count": null,
	   "metadata": {
	    "collapsed": true
	   },
	   "outputs": [],
"source": [
"clc();\n",
"clear;\n",
"//Given :\n",
"n1 = 1.5025;// refractive index of core\n",
"delta = 0.0033; // \n",
"a = 50; // core radius in mu_m\n",
"Ls = a*sqrt(2/delta);// skip distance in mu_m\n",
"// 1 mu_m = 1.0*10^-6 m\n",
"R = 1/(Ls*10^-6);// reflections per m\n",
"printf('Ls = %.1f mu_m \n',Ls);\n",
"printf('Reflections per m = %d',R);"
   ]
   }
,
{
		   "cell_type": "markdown",
		   "metadata": {},
		   "source": [
			"## Example 15.3: Determining_Limiting_Diameter.sce"
		   ]
		  },
  {
"cell_type": "code",
	   "execution_count": null,
	   "metadata": {
	    "collapsed": true
	   },
	   "outputs": [],
"source": [
"clc();\n",
"clear;\n",
"//Given :\n",
"lambda = 1.25; // wavelength in mu_m\n",
"n1 = 1.462; // refractive index of core\n",
"n2 = 1.457; // refractive index of cladding\n",
"// Single mode propogation : (2*pi*a*sqrt(n1^2 - n2^2))/lambda < 2.405\n",
"a  = (2.405*lambda)/(2*%pi*sqrt(n1^2 - n2^2)); // radius in mu_m\n",
"d = a*2; // diameter in mu_m\n",
"printf('Limiting diameter = %.2f mu_m',d);"
   ]
   }
,
{
		   "cell_type": "markdown",
		   "metadata": {},
		   "source": [
			"## Example 15.4: Calculation_of_attenuation.sce"
		   ]
		  },
  {
"cell_type": "code",
	   "execution_count": null,
	   "metadata": {
	    "collapsed": true
	   },
	   "outputs": [],
"source": [
"clc();\n",
"clear;\n",
"//Given :\n",
"n1 = 1.525; // refractive index of core\n",
"n2 = 1.500; // refractive index of cladding\n",
"d = 30; // core diameter in mu_m\n",
"a = d/2; // core radius in mu_m\n",
"ab = 0.00001/100; // percentage absorbed\n",
"delta = (n1-n2)/n1;\n",
"Ls = a*sqrt(2/delta);// skip distance in mu_m\n",
"//1 mu_m = 1.0*10^-6 m\n",
"R = 1000/(Ls*10^-6); // reflections per km (1000 m)\n",
"red_p = 1 - ab; // reduced power for each reflection\n",
"//Power P1km = P0*red_p^(6*10^6)\n",
"// A = 10*log10[P0/P1km] , P0 in the numerator and denominator will cancel each other\n",
"A = 10*log10(1/(red_p)^(R));\n",
"printf('Attenuation = %.1f dB/km',A);"
   ]
   }
,
{
		   "cell_type": "markdown",
		   "metadata": {},
		   "source": [
			"## Example 15.5: Calculation_of_maximum_delay.sce"
		   ]
		  },
  {
"cell_type": "code",
	   "execution_count": null,
	   "metadata": {
	    "collapsed": true
	   },
	   "outputs": [],
"source": [
"clc();\n",
"clear;\n",
"//Given :\n",
"n1 = 1.5025; // refractive index of core\n",
"n2 = 1.4975; // refractive index of cladding\n",
"L = 1; // length in m\n",
"F = 2*10^6; // frequency in Hz\n",
"c = 3*10^8;// light speed in m/s\n",
"delta_t = (n1*L/c)*((n1/n2)-1);// maximum delay in s;\n",
"f = 1/(2*delta_t); // bandwidth for 1 m propogation\n",
"L1 = 1/(2*F*delta_t); // distance for 2MHz bandwidth\n",
"printf('Maximum delay = %.1f ps \n',delta_t*10^12);\n",
"printf('Bandwidth of 2MHz can propogate a distance of %.1f  km ',L1*10^-3);"
   ]
   }
],
"metadata": {
		  "kernelspec": {
		   "display_name": "Scilab",
		   "language": "scilab",
		   "name": "scilab"
		  },
		  "language_info": {
		   "file_extension": ".sce",
		   "help_links": [
			{
			 "text": "MetaKernel Magics",
			 "url": "https://github.com/calysto/metakernel/blob/master/metakernel/magics/README.md"
			}
		   ],
		   "mimetype": "text/x-octave",
		   "name": "scilab",
		   "version": "0.7.1"
		  }
		 },
		 "nbformat": 4,
		 "nbformat_minor": 0
}
