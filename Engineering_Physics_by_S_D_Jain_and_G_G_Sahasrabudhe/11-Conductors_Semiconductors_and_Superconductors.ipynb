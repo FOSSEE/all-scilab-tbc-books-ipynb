{
"cells": [
 {
		   "cell_type": "markdown",
	   "metadata": {},
	   "source": [
       "# Chapter 11: Conductors Semiconductors and Superconductors"
	   ]
	},
{
		   "cell_type": "markdown",
		   "metadata": {},
		   "source": [
			"## Example 11.10: Si_doped_with_phosphorus.sce"
		   ]
		  },
  {
"cell_type": "code",
	   "execution_count": null,
	   "metadata": {
	    "collapsed": true
	   },
	   "outputs": [],
"source": [
"clc();\n",
"clear;\n",
"//Given :\n",
"Ecd = 0.045; // Ec-Ed in eV\n",
"Ecf = 0.035; // Ec-Ef in eV\n",
"Efd = 0.01;// Ef-Ed in eV\n",
"Ev = 0; // in eV\n",
"Ef = 1.065; // in eV\n",
"me = 9.1*10^-31;// electron mass in kg\n",
"m_e = 0.31*me; // free electron mass\n",
"m_h = 0.38*me;// hole mass\n",
"kT = 0.026; // kT value at room temperature\n",
"h = 6.625*10^-34; // planck's constant in Js\n",
"Nc = 2*((2*%pi*m_e*kT*1.6*10^-19)/(h^2))^(3/2); // per m^3\n",
"Nv = 2*((2*%pi*m_h*kT*1.6*10^-19)/(h^2))^(3/2); // per m^3\n",
"//(a)\n",
"// Nc*exp[-(Ec-Ef)/kT] = Nd*[1 - 1/(1+ exp[(Ed-Ef)/kT])]\n",
"//Ed - Ef = -(Ef-Ed) = - Efd\n",
"Nd = (Nc*exp(-Ecf/kT))/(1 - (1/(1+exp(-Efd/kT)))); // per m^3\n",
"//(b)\n",
"Nd_plus = Nd*(1 - (1/(1 + exp(-Efd/kT)))); // per m^3\n",
"//(c)\n",
"n = Nc*exp(-Ecf/kT); // per m^3\n",
"//(d)\n",
"p = Nv*exp((Ev-Ef)/kT);// per m^3\n",
"printf('Nd = %.1f x 10^24 / m^3 \n',Nd*10^-24);\n",
"printf('Nd_plus = %.2f x 10^24 / m^3 \n',Nd_plus*10^-24);\n",
"printf('n = %.2f x 10^24 / m^3\n',n*10^-24);\n",
"printf('p = %.1f x 10^6 / m^3',p*10^-6);"
   ]
   }
,
{
		   "cell_type": "markdown",
		   "metadata": {},
		   "source": [
			"## Example 11.11: Silicon_wafer_doped_with_phosphorus.sce"
		   ]
		  },
  {
"cell_type": "code",
	   "execution_count": null,
	   "metadata": {
	    "collapsed": true
	   },
	   "outputs": [],
"source": [
"clc();\n",
"clear;\n",
"//Given :\n",
"ni = 1.5*10^16; // ni for Si in m^-3\n",
"mue = 0.135; // mobility of free electrons in m^2/Vs\n",
"muh = 0.048; // mobility of holes in m^2/Vs\n",
"Nd = 10^21; // phosphorus atoms/m^3\n",
"e = 1.6*10^-19;// charge of an electron in C\n",
"//(a) \n",
"n = Nd; // electrons/m^3\n",
"//(b)\n",
"p = ni^2/Nd; // holes/m^3\n",
"//(c)\n",
"sigma = e*(n*mue + p*muh); // conductivity in mho m^-1\n",
"rho = 1/sigma; // resistivity in ohm m\n",
"\n",
"printf('Major carrier concentration  = %.1f x 10^21 electrons/m^3 \n',n*10^-21);\n",
"printf('Minor carrier concentration  = %.2f x 10^11 holes/m^3\n',p*10^-11);\n",
"printf('Resistivity  = %.3f ohm m',rho);"
   ]
   }
,
{
		   "cell_type": "markdown",
		   "metadata": {},
		   "source": [
			"## Example 11.12: Increase_in_conductivity.sce"
		   ]
		  },
  {
"cell_type": "code",
	   "execution_count": null,
	   "metadata": {
	    "collapsed": true
	   },
	   "outputs": [],
"source": [
"clc();\n",
"clear;\n",
"//Given :\n",
"Eg = 1.1;// Energy gap in eV\n",
"T1 = 300 ;// Temperature in K\n",
"T2 = 473; // Temperature in K (273+ 200 = 473 K)\n",
"k = 8.62*10^-5 ; // in eV\n",
"// sigma = A*exp(-Eg/(2*k*T))\n",
"//Ratio = sigma_473/sigma_300\n",
"Ratio = exp((-Eg/(2*k))*((1/T2)-(1/T1)));\n",
"printf('Thus, sigma_473 is  %d  times  sigma_300',Ratio);"
   ]
   }
,
{
		   "cell_type": "markdown",
		   "metadata": {},
		   "source": [
			"## Example 11.13: Photon_energy.sce"
		   ]
		  },
  {
"cell_type": "code",
	   "execution_count": null,
	   "metadata": {
	    "collapsed": true
	   },
	   "outputs": [],
"source": [
"clc();\n",
"clear;\n",
"//Given :\n",
"Eg1 = 0.72; // Energy gap for Ge in eV\n",
"Eg2 = 1.1; // Energy gap for Si in eV\n",
"Eg3 = 1.32; // Energy gap for GaAs in eV\n",
"// lambda = c/v = (c*h)/Eg   or lambda(A) = 12422/Eg (eV)\n",
"lambda1 = 12422/Eg1; // wavelength in A  (Ge)\n",
"lambda2 = 12422/Eg2; // wavelength in A  (Si)\n",
"lambda3 = 12422/Eg3; // wavelength in A  (GaAs)\n",
"printf('Wavelength for Ge = %.1f A \n',lambda1);\n",
"printf('Wavelength for Si = %.1f A \n',lambda2);\n",
"printf('Wavelength for GaAs = %.2f A',lambda3);"
   ]
   }
,
{
		   "cell_type": "markdown",
		   "metadata": {},
		   "source": [
			"## Example 11.14: Increase_in_conductivity.sce"
		   ]
		  },
  {
"cell_type": "code",
	   "execution_count": null,
	   "metadata": {
	    "collapsed": true
	   },
	   "outputs": [],
"source": [
"clc();\n",
"clear;\n",
"//Given :\n",
"sigma = 4*10^-4; // conductivity at room temperature in ohm^-1 m^-1\n",
"M = 28.1; // atomic weight in kg/kmole\n",
"d = 2330; // density in kg/m^3\n",
"dop = 10^8 ;// doping per 10^8 silicon atoms\n",
"e = 1.6*10^-19; // charge of an electron in C\n",
"mue = 0.135; // mobility of free electrons for silicon in m^2/Vs\n",
"Na = 6.023*10^26 ; // Avagadro's constant in atoms/kmole\n",
"N = (d*Na)/M; //atoms/m^3\n",
"Nd = N/dop; // per m^3\n",
"n = Nd; // electron concentration / m^3\n",
"sigma1 = n*e*mue; // conductivity in ohm^-1 m^-1\n",
"t = sigma1/sigma; // number of times the conductivity  increased\n",
"printf('Conductivity increased %d times .',t);\n",
"//Result obtained differs from that in textbook, because approximate value for sigma1 was considered."
   ]
   }
,
{
		   "cell_type": "markdown",
		   "metadata": {},
		   "source": [
			"## Example 11.3: Fermi_energy_in_metals.sce"
		   ]
		  },
  {
"cell_type": "code",
	   "execution_count": null,
	   "metadata": {
	    "collapsed": true
	   },
	   "outputs": [],
"source": [
"clc();\n",
"clear;\n",
"//Given :\n",
"n =8.48*10^28; // number of conduction electrons / m^3\n",
"Ef = 3.65*10^-19*(n^0.6667);//Fermi energy in eV\n",
"printf('Fermi energy : %.2f eV ',Ef);"
   ]
   }
,
{
		   "cell_type": "markdown",
		   "metadata": {},
		   "source": [
			"## Example 11.4: Fraction_of_electrons.sce"
		   ]
		  },
  {
"cell_type": "code",
	   "execution_count": null,
	   "metadata": {
	    "collapsed": true
	   },
	   "outputs": [],
"source": [
"clc();\n",
"clear;\n",
"//Given :\n",
"Ef = 7.04 ; // Ef for copper in eV\n",
"kT = 0.026; // kT value at room temperature in eV\n",
"F = (3/2)*(0.026/7.04); // Fraction of electrons \n",
"printf('Fraction of electrons which are excited  are %.4f  or %.2f percentage.',F, F*100);"
   ]
   }
,
{
		   "cell_type": "markdown",
		   "metadata": {},
		   "source": [
			"## Example 11.6: Intrinsic_resistivity.sce"
		   ]
		  },
  {
"cell_type": "code",
	   "execution_count": null,
	   "metadata": {
	    "collapsed": true
	   },
	   "outputs": [],
"source": [
"clc();\n",
"clear;\n",
"//Given :\n",
"ni1 = 2.5*10^19; // per m^3 for Ge\n",
"ni2 = 1.5*10^16; // per m^3 for Si\n",
"mu_e1 = 0.38; // mobility of free electrons for Ge in m^2/Vs\n",
"mu_h1 = 0.18; //mobility of holes for Ge in m^2/Vs\n",
"mu_e2 = 0.13;//mobility of free electrons for Si in m^2/Vs\n",
"mu_h2 = 0.05;//mobility of holes for Si in m^2/Vs\n",
"e = 1.6*10^-19; // charge of an electron in C\n",
"sigma1 = ni1*e*(mu_e1 + mu_h1); // intrinsic conductivity in mho m^-1 for Ge\n",
"sigma2 = ni2*e*(mu_e2 + mu_h2);// intrinsic conductivity in mho m^-1 for Si\n",
"rho1 = 1/sigma1; //intrinsic resistivity in ohm m for Ge\n",
"rho2 = 1/sigma2;//intrinsic resistivity in ohm m for Si\n",
"printf('Resistivity of Ge %.3f ohm m \n',rho1);\n",
"printf('Resistivity of Si %.3f x 10^3 ohm m',rho2*10^-3);"
   ]
   }
,
{
		   "cell_type": "markdown",
		   "metadata": {},
		   "source": [
			"## Example 11.7: Variation_of_n_by_N.sce"
		   ]
		  },
  {
"cell_type": "code",
	   "execution_count": null,
	   "metadata": {
	    "collapsed": true
	   },
	   "outputs": [],
"source": [
"clc();\n",
"clear;\n",
"//Given :\n",
"//Fraction F = n/N\n",
"Eg = 0.72; // Energy gap in eV\n",
"k = 0.026/300;// kT value at 300 K , so k = kT/T\n",
"T1 = 30; // Temperature in K\n",
"T2 = 300; //Temperature in K\n",
"T3 = 1210;//Temperature in K\n",
"//Fraction of electrons : n/N = exp(-Eg/2*k*T)\n",
"F1 = exp(-Eg/(2*k*T1));\n",
"F2 = exp(-Eg/(2*k*T2));\n",
"F3 = exp(-Eg/(2*k*T3));\n",
"printf(' For 30 K , n/N  = %.1f x 10^-61\n',F1*10^61);\n",
"printf(' For 300 K , n/N  = %.1f x 10^-7\n',F2*10^7);\n",
"printf(' For 1210 K , n/N  = %.3f \n',F3);"
   ]
   }
,
{
		   "cell_type": "markdown",
		   "metadata": {},
		   "source": [
			"## Example 11.8: Variation_of_n_by_N.sce"
		   ]
		  },
  {
"cell_type": "code",
	   "execution_count": null,
	   "metadata": {
	    "collapsed": true
	   },
	   "outputs": [],
"source": [
"clc();\n",
"clear;\n",
"//Given :\n",
"Eg1= 0.72; //Energy gap for Germanium in eV\n",
"Eg2= 1.10; //Energy gap for Silicon in eV\n",
"Eg3= 5.6; //Energy gap for diamond in eV\n",
"//Fraction of electron : n/N = exp(-Eg/(2*k*T)) , k*T = 0.026 eV\n",
"F1 = exp(-Eg1/(2*0.026)); // For Germanium\n",
"F2 = exp(-Eg2/(2*0.026)); // For Silicon\n",
"F3 = exp(-Eg3/(2*0.026)); // For diamond\n",
"printf('For Germanium , n/N = %.1f x 10^-7\n',F1*10^7);\n",
"printf('For Silicon , n/N = %.1f x 10^-10\n',F2*10^10);\n",
"printf('For diamond, n/N = %.1f x 10^-47',F3*10^47);"
   ]
   }
,
{
		   "cell_type": "markdown",
		   "metadata": {},
		   "source": [
			"## Example 11.9: Ef_equals_to_Ec.sce"
		   ]
		  },
  {
"cell_type": "code",
	   "execution_count": null,
	   "metadata": {
	    "collapsed": true
	   },
	   "outputs": [],
"source": [
"clc();\n",
"clear;\n",
"//Given :\n",
"D = 5*10^28; // density of atoms in silicon per m^3\n",
"C = 2.0*10^8; //donor concentration\n",
"ND = D/C; // donor atoms density per m^3\n",
"// ND = 4.82*10^21*T^(3/2)\n",
"T = (ND/(4.82*10^21))^(2/3);\n",
"printf('Temperature = %.2f K',T);"
   ]
   }
],
"metadata": {
		  "kernelspec": {
		   "display_name": "Scilab",
		   "language": "scilab",
		   "name": "scilab"
		  },
		  "language_info": {
		   "file_extension": ".sce",
		   "help_links": [
			{
			 "text": "MetaKernel Magics",
			 "url": "https://github.com/calysto/metakernel/blob/master/metakernel/magics/README.md"
			}
		   ],
		   "mimetype": "text/x-octave",
		   "name": "scilab",
		   "version": "0.7.1"
		  }
		 },
		 "nbformat": 4,
		 "nbformat_minor": 0
}
