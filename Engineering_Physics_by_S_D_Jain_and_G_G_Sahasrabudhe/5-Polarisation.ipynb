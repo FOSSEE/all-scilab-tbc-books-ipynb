{
"cells": [
 {
		   "cell_type": "markdown",
	   "metadata": {},
	   "source": [
       "# Chapter 5: Polarisation"
	   ]
	},
{
		   "cell_type": "markdown",
		   "metadata": {},
		   "source": [
			"## Example 5.4: Brewster_Law.sce"
		   ]
		  },
  {
"cell_type": "code",
	   "execution_count": null,
	   "metadata": {
	    "collapsed": true
	   },
	   "outputs": [],
"source": [
"clc();\n",
"clear;\n",
"//Given:\n",
"mu = 1.33; //Refractive index of water\n",
"//Brewster's angle, theta_p = atand(mu) ;\n",
"theta_p = atand(mu); // in degrees\n",
"theta_s = 90-theta_p ; // in degrees\n",
"printf('Angle = %.1f degrees',theta_s);"
   ]
   }
,
{
		   "cell_type": "markdown",
		   "metadata": {},
		   "source": [
			"## Example 5.5: Critical_angle_for_TIR.sce"
		   ]
		  },
  {
"cell_type": "code",
	   "execution_count": null,
	   "metadata": {
	    "collapsed": true
	   },
	   "outputs": [],
"source": [
"clc();\n",
"clear;\n",
"//Given:\n",
"r = 90; // in degrees\n",
"mu_o= 1.658 ;// Refractive index for ordinary array\n",
"mu =1.55; // Refractive index for a canada balsam material\n",
"//Snell's Law,mu1*sin(i) = mu2*sin(r), we have :\n",
"i = asind((mu*sind(90))/mu_o); // angle in degrees\n",
"printf('Critical angle =  %d degrees',i);\n",
""
   ]
   }
,
{
		   "cell_type": "markdown",
		   "metadata": {},
		   "source": [
			"## Example 5.6: Minimum_thickness_of_wave_plate.sce"
		   ]
		  },
  {
"cell_type": "code",
	   "execution_count": null,
	   "metadata": {
	    "collapsed": true
	   },
	   "outputs": [],
"source": [
"clc();\n",
"clear;\n",
"//Given :\n",
"mu_o = 1.544; //Refractive index for ordinary ray\n",
"mu_e = 1.553;//Refractive index for extraordinary ray\n",
"lambda = 5890;//Wavelength in A\n",
"//(a)Plane polarised light :\n",
"//lambda is converted from A to cm , 1 A = 1.0*10^-8 cm\n",
"t1 = (lambda*10^-8)/(2*(mu_e-mu_o));//Minimum thickness in cm\n",
"//(b)Circularly polarised light :\n",
"t2 = (lambda*10^-8)/(4*(mu_e-mu_o));// Minimum thickness in cm\n",
"printf('Minimum thickness :\n\n');\n",
"printf('(a)Plane polarised light : %.2f x 10^-3 cm \n\n',t1*10^3);\n",
"printf('(b)Circularly polarised light : %.2f x 10^-3 cm ',t2*10^3);\n",
""
   ]
   }
,
{
		   "cell_type": "markdown",
		   "metadata": {},
		   "source": [
			"## Example 5.7: Birefringent_crystal.sce"
		   ]
		  },
  {
"cell_type": "code",
	   "execution_count": null,
	   "metadata": {
	    "collapsed": true
	   },
	   "outputs": [],
"source": [
"clc();\n",
"clear;\n",
"//Given :\n",
"lambda = 5890; //Wavelength in A\n",
"//(a)Calcite crystal\n",
"mu1_o = 1.658;//refractive index for ordinary ray\n",
"mu1_e = 1.486;//refractive index for extraordinary ray\n",
"t1 = 0.0052 ; //thickness in mm\n",
"// 1 A = 1.0*10^-7 mm\n",
"alpha1 = ((2*%pi*(mu1_o-mu1_e)*t1)/(lambda*10^-7)); // phase difference in radians\n",
"//(b) Quartz crystal\n",
"mu2_o = 1.544; //refractive index for ordinary ray\n",
"mu2_e = 1.553; //refractive index for extraordinary ray\n",
"t2 = 0.0234;//thickness in mm\n",
"alpha2 = ((2*%pi*(mu2_e-mu2_o)*t2)/(lambda*10^-7)); // phase difference in radians\n",
"printf('(a)Calcite crystal : \n  Phase difference is %.3f radians \n',alpha1);\n",
"printf('(a)Quartz crystal : \n  Phase difference is %.3f radians',alpha2);\n",
"\n",
""
   ]
   }
,
{
		   "cell_type": "markdown",
		   "metadata": {},
		   "source": [
			"## Example 5.9: Application_of_Optical_Activity.sce"
		   ]
		  },
  {
"cell_type": "code",
	   "execution_count": null,
	   "metadata": {
	    "collapsed": true
	   },
	   "outputs": [],
"source": [
"clc();\n",
"clear;\n",
"//Given :\n",
"rho = 6.6; // Specific rotation of sugar in degrees g^-1 cm^2\n",
"l = 20; //length in cm\n",
"deltad = 1*10^-3;//difference in sugar concentration in g/cm^3\n",
"lc = 0.1; // least count in degrees\n",
"//Rotation due to optical activity  = rho*l*d\n",
"deltatheta = rho*l*deltad; // in degrees\n",
"printf('Change in theta :%1.3f degrees.\n\n',deltatheta);\n",
"\n",
"if(deltatheta > lc)\n",
"    printf('The concentration of 1 mg/cm^3 will be detected by the given urinalysis tube.');\n",
"  else\n",
"      printf('The concentration of 1 mg/cm^3 will not be detected.');\n",
"end      "
   ]
   }
],
"metadata": {
		  "kernelspec": {
		   "display_name": "Scilab",
		   "language": "scilab",
		   "name": "scilab"
		  },
		  "language_info": {
		   "file_extension": ".sce",
		   "help_links": [
			{
			 "text": "MetaKernel Magics",
			 "url": "https://github.com/calysto/metakernel/blob/master/metakernel/magics/README.md"
			}
		   ],
		   "mimetype": "text/x-octave",
		   "name": "scilab",
		   "version": "0.7.1"
		  }
		 },
		 "nbformat": 4,
		 "nbformat_minor": 0
}
