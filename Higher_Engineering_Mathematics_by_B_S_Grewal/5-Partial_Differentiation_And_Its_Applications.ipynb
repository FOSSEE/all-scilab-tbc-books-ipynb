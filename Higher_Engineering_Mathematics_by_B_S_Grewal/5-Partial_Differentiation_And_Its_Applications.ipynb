{
"cells": [
 {
		   "cell_type": "markdown",
	   "metadata": {},
	   "source": [
       "# Chapter 5: Partial Differentiation And Its Applications"
	   ]
	},
{
		   "cell_type": "markdown",
		   "metadata": {},
		   "source": [
			"## Example 5.14: Partial_derivative_of_given_function.sce"
		   ]
		  },
  {
"cell_type": "code",
	   "execution_count": null,
	   "metadata": {
	    "collapsed": true
	   },
	   "outputs": [],
"source": [
"clc\n",
"syms x y\n",
"u=asin((x+y)/(x^0.5+y^0.5))\n",
"a=diff(u,x)\n",
"b=diff(u,y)\n",
"c=diff(a,x)\n",
"d=diff(b,y)\n",
"e=diff(b,x)\n",
"x*a+y*b\n",
"(1/2)*tan(u)\n",
"(x^2)*c+2*x*y*e+(y^2)*d\n",
"(-sin(u)*cos(2*u))/(4*(cos(u))^3)"
   ]
   }
,
{
		   "cell_type": "markdown",
		   "metadata": {},
		   "source": [
			"## Example 5.25_1: Partial_derivative_of_given_function.sce"
		   ]
		  },
  {
"cell_type": "code",
	   "execution_count": null,
	   "metadata": {
	    "collapsed": true
	   },
	   "outputs": [],
"source": [
"clc\n",
"syms r l\n",
"x=r*cos(l)\n",
"y=r*sin(l)\n",
"a=diff(x,r)\n",
"b=diff(x,l)\n",
"c=diff(y,r)\n",
"d=diff(y,l)\n",
"A=[a b;c d]\n",
"det(A)"
   ]
   }
,
{
		   "cell_type": "markdown",
		   "metadata": {},
		   "source": [
			"## Example 5.25_2: Partial_derivative_of_given_function.sce"
		   ]
		  },
  {
"cell_type": "code",
	   "execution_count": null,
	   "metadata": {
	    "collapsed": true
	   },
	   "outputs": [],
"source": [
"clc\n",
"syms r l z\n",
"x=r*cos(l)\n",
"y=r*sin(l)\n",
"m=z\n",
"a=diff(x,r)\n",
"b=diff(x,l)\n",
"c=diff(x,z)\n",
"d=diff(y,r)\n",
"e=diff(y,l)\n",
"f=diff(y,z)\n",
"g=diff(m,r)\n",
"h=diff(m,l)\n",
"i=diff(m,z)\n",
"A=[a b c;d e f;g h i]\n",
"det(A)"
   ]
   }
,
{
		   "cell_type": "markdown",
		   "metadata": {},
		   "source": [
			"## Example 5.25_3: Partial_derivative_of_given_function.sce"
		   ]
		  },
  {
"cell_type": "code",
	   "execution_count": null,
	   "metadata": {
	    "collapsed": true
	   },
	   "outputs": [],
"source": [
"clc\n",
"syms r l m\n",
"x=r*cos(l)*sin(m)\n",
"y=r*sin(l)*sin(m)\n",
"z=r*cos(m)\n",
"a=diff(x,r)\n",
"b=diff(x,m)\n",
"c=diff(x,l)\n",
"d=diff(y,r)\n",
"e=diff(y,m)\n",
"f=diff(y,l)\n",
"g=diff(z,r)\n",
"h=diff(z,m)\n",
"i=diff(z,l)\n",
"A=[a b c;d e f;g h i]\n",
"det(A)"
   ]
   }
,
{
		   "cell_type": "markdown",
		   "metadata": {},
		   "source": [
			"## Example 5.26: Partial_derivative_of_given_function.sce"
		   ]
		  },
  {
"cell_type": "code",
	   "execution_count": null,
	   "metadata": {
	    "collapsed": true
	   },
	   "outputs": [],
"source": [
"clc\n",
"syms x1 x2 x3\n",
"y1=(x2*x3)/x1\n",
"y2=(x3*x1)/x2\n",
"y3=(x1*x2)/x3\n",
"a=diff(y1,x1)\n",
"b=diff(y1,x2)\n",
"c=diff(y1,x3)\n",
"d=diff(y2,x1)\n",
"e=diff(y2,x2)\n",
"f=diff(y2,x3)\n",
"g=diff(y3,x1)\n",
"h=diff(y3,x2)\n",
"i=diff(y3,x3)\n",
"A=[a b c;d e f;g h i]\n",
"det(A)"
   ]
   }
,
{
		   "cell_type": "markdown",
		   "metadata": {},
		   "source": [
			"## Example 5.30: Partial_derivative_of_given_function.sce"
		   ]
		  },
  {
"cell_type": "code",
	   "execution_count": null,
	   "metadata": {
	    "collapsed": true
	   },
	   "outputs": [],
"source": [
"clc\n",
"syms x y \n",
"u=x*(1-y^2)^0.5+y*(1-x^2)^0.5\n",
"v=asin(x)+asin(y)\n",
"a=diff(u,x)\n",
"b=diff(u,y)\n",
"c=diff(v,x)\n",
"d=diff(v,y)\n",
"A=[a b; c d ]\n",
"det(A)"
   ]
   }
,
{
		   "cell_type": "markdown",
		   "metadata": {},
		   "source": [
			"## Example 5.5: Partial_derivative_of_given_function.sce"
		   ]
		  },
  {
"cell_type": "code",
	   "execution_count": null,
	   "metadata": {
	    "collapsed": true
	   },
	   "outputs": [],
"source": [
"clc\n",
"syms x y z\n",
"v=(x^2+y^2+z^2)^(-1/2)\n",
"a=diff(v,x,2)\n",
"b=diff(v,y,2) \n",
"c=diff(v,z,2)\n",
"a+b+c"
   ]
   }
],
"metadata": {
		  "kernelspec": {
		   "display_name": "Scilab",
		   "language": "scilab",
		   "name": "scilab"
		  },
		  "language_info": {
		   "file_extension": ".sce",
		   "help_links": [
			{
			 "text": "MetaKernel Magics",
			 "url": "https://github.com/calysto/metakernel/blob/master/metakernel/magics/README.md"
			}
		   ],
		   "mimetype": "text/x-octave",
		   "name": "scilab",
		   "version": "0.7.1"
		  }
		 },
		 "nbformat": 4,
		 "nbformat_minor": 0
}
