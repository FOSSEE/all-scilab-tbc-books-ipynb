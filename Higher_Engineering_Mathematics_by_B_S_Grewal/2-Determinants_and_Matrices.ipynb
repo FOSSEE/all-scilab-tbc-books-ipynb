{
"cells": [
 {
		   "cell_type": "markdown",
	   "metadata": {},
	   "source": [
       "# Chapter 2: Determinants and Matrices"
	   ]
	},
{
		   "cell_type": "markdown",
		   "metadata": {},
		   "source": [
			"## Example 2.16: product_of_two_matrices.sce"
		   ]
		  },
  {
"cell_type": "code",
	   "execution_count": null,
	   "metadata": {
	    "collapsed": true
	   },
	   "outputs": [],
"source": [
"clear\n",
"clc\n",
"A=[0 1 2;1 2 3;2 3 4]\n",
"B=[1 -2;-1 0;2 -1]\n",
"disp('AB= ')\n",
"A*B\n",
"disp('BA= ')\n",
"B*A"
   ]
   }
,
{
		   "cell_type": "markdown",
		   "metadata": {},
		   "source": [
			"## Example 2.17: Product_of_two_matrices.sce"
		   ]
		  },
  {
"cell_type": "code",
	   "execution_count": null,
	   "metadata": {
	    "collapsed": true
	   },
	   "outputs": [],
"source": [
"clear\n",
"clc\n",
"A=[1 3 0;-1 2 1;0 0 2]\n",
"B=[2 3 4;1 2 3;-1 1 2]\n",
"disp('AB= ')\n",
"A*B\n",
"disp('BA= ')\n",
"B*A\n",
"disp('clearly AB is not equal to BA')"
   ]
   }
,
{
		   "cell_type": "markdown",
		   "metadata": {},
		   "source": [
			"## Example 2.18: Product_and_inverse_of_matrices.sce"
		   ]
		  },
  {
"cell_type": "code",
	   "execution_count": null,
	   "metadata": {
	    "collapsed": true
	   },
	   "outputs": [],
"source": [
"clear\n",
"clc\n",
"A=[3 2 2;1 3 1;5 3 4]\n",
"C=[3 4 2;1 6 1;5 6 4]\n",
"disp('AB=C -->B=inv(A)*C')\n",
"B=inv(A)*C"
   ]
   }
,
{
		   "cell_type": "markdown",
		   "metadata": {},
		   "source": [
			"## Example 2.19: Solving_equation_of_matrices.sce"
		   ]
		  },
  {
"cell_type": "code",
	   "execution_count": null,
	   "metadata": {
	    "collapsed": true
	   },
	   "outputs": [],
"source": [
"clear\n",
"clc\n",
"A=[1 3 2;2 0 -1;1 2 3]\n",
"I=eye(3,3)\n",
"disp('A^3-4*A^2-3A+11I=')\n",
"A^3-4*A*A-3*A+11*I"
   ]
   }
,
{
		   "cell_type": "markdown",
		   "metadata": {},
		   "source": [
			"## Example 2.1: Calculating_Determinant.sce"
		   ]
		  },
  {
"cell_type": "code",
	   "execution_count": null,
	   "metadata": {
	    "collapsed": true
	   },
	   "outputs": [],
"source": [
"clc\n",
"syms a;\n",
"syms h;\n",
"syms g;\n",
"syms b;\n",
"syms f;\n",
"syms c;\n",
"A=[a h g;h b f;g f c]\n",
"det(A)"
   ]
   }
,
{
		   "cell_type": "markdown",
		   "metadata": {},
		   "source": [
			"## Example 2.20: Nth_power_of_a_given_matrix.sce"
		   ]
		  },
  {
"cell_type": "code",
	   "execution_count": null,
	   "metadata": {
	    "collapsed": true
	   },
	   "outputs": [],
"source": [
"clc\n",
"A=[11 -25;4 -9]\n",
"n=input('Enter the value of n ');\n",
"disp('calculating  A^n ');\n",
"A^n"
   ]
   }
,
{
		   "cell_type": "markdown",
		   "metadata": {},
		   "source": [
			"## Example 2.23: Inverse_of_matrix.sce"
		   ]
		  },
  {
"cell_type": "code",
	   "execution_count": null,
	   "metadata": {
	    "collapsed": true
	   },
	   "outputs": [],
"source": [
"clear\n",
"clc\n",
"A=[1 1 3;1 3 -3;-2 -4 -4]\n",
"disp('inverse of A is ')\n",
"inv(A)"
   ]
   }
,
{
		   "cell_type": "markdown",
		   "metadata": {},
		   "source": [
			"## Example 2.24_1: Rank_of_a_matrix.sce"
		   ]
		  },
  {
"cell_type": "code",
	   "execution_count": null,
	   "metadata": {
	    "collapsed": true
	   },
	   "outputs": [],
"source": [
"clear\n",
"clc\n",
"A=[1 2 3;1 4 2;2 6 5]\n",
"disp('Rank of A is ')\n",
"rank(A)"
   ]
   }
,
{
		   "cell_type": "markdown",
		   "metadata": {},
		   "source": [
			"## Example 2.24_2: Rank_of_a_matrix.sce"
		   ]
		  },
  {
"cell_type": "code",
	   "execution_count": null,
	   "metadata": {
	    "collapsed": true
	   },
	   "outputs": [],
"source": [
"clear\n",
"clc\n",
"A=[0 1 -3 -1;1 0 1 1;3 1 0 2;1 1 -2 0]\n",
"disp('Rank of A is ')\n",
"rank(A)"
   ]
   }
,
{
		   "cell_type": "markdown",
		   "metadata": {},
		   "source": [
			"## Example 2.25: Inverse_of_matrix.sce"
		   ]
		  },
  {
"cell_type": "code",
	   "execution_count": null,
	   "metadata": {
	    "collapsed": true
	   },
	   "outputs": [],
"source": [
"clear\n",
"clc\n",
"A=[1 1 3;1 3 -3;-2 -4 -4]\n",
"disp('inverse of A is ')\n",
"inv(A)"
   ]
   }
,
{
		   "cell_type": "markdown",
		   "metadata": {},
		   "source": [
			"## Example 2.26: eigen_values_vectors_rank_of_matrix.sce"
		   ]
		  },
  {
"cell_type": "code",
	   "execution_count": null,
	   "metadata": {
	    "collapsed": true
	   },
	   "outputs": [],
"source": [
"clear\n",
"clc\n",
"A=[2 3 -1 -1;1 -1 -2 -4;3 1 3 -2;6 3 0 -7]\n",
"[R P]=spec(A)\n",
"disp('rank of A')\n",
"rank(A)"
   ]
   }
,
{
		   "cell_type": "markdown",
		   "metadata": {},
		   "source": [
			"## Example 2.28: Inverse_of_a_matrix.sce"
		   ]
		  },
  {
"cell_type": "code",
	   "execution_count": null,
	   "metadata": {
	    "collapsed": true
	   },
	   "outputs": [],
"source": [
"clear\n",
"clc\n",
"A=[1 1 1;4 3 -1;3 5 3]\n",
"disp('inverse of A =')\n",
"inv(A)"
   ]
   }
,
{
		   "cell_type": "markdown",
		   "metadata": {},
		   "source": [
			"## Example 2.2: Calculating_Determinant.sce"
		   ]
		  },
  {
"cell_type": "code",
	   "execution_count": null,
	   "metadata": {
	    "collapsed": true
	   },
	   "outputs": [],
"source": [
"clear\n",
"clc\n",
"a=[0 1 2 3;1 0 3 0;2 3 0 1;3 0 1 2]\n",
"disp('determinant of a is ')\n",
"det(a)"
   ]
   }
,
{
		   "cell_type": "markdown",
		   "metadata": {},
		   "source": [
			"## Example 2.31: Solving_equation_using_matrices.sce"
		   ]
		  },
  {
"cell_type": "code",
	   "execution_count": null,
	   "metadata": {
	    "collapsed": true
	   },
	   "outputs": [],
"source": [
"clear\n",
"clc\n",
"disp('the equations can be re written as AX=B where X=[x1;x2;x3;x4] and ')\n",
"A=[1 -1 1 1;1 1 -1 1;1 1 1 -1;1 1 1 1]\n",
"B=[2;-4;4;0]\n",
"disp('determinant of A=')\n",
"det(A)\n",
"disp('inverse of A =')\n",
"inv(A)\n",
"disp('X=')\n",
"inv(A)*B"
   ]
   }
,
{
		   "cell_type": "markdown",
		   "metadata": {},
		   "source": [
			"## Example 2.32: Solving_equation_using_matrices.sce"
		   ]
		  },
  {
"cell_type": "code",
	   "execution_count": null,
	   "metadata": {
	    "collapsed": true
	   },
	   "outputs": [],
"source": [
"clear\n",
"clc\n",
"disp('the equations can be re written as AX=B where X=[x;y;z] and ')\n",
"A=[5 3 7;3 26 2;7 2 10]\n",
"B=[4;9;5]\n",
"disp('determinant of A=')\n",
"det(A)\n",
"disp('Since det(A)=0,hence,this system of equation will have infinite solutions..hence,the system is consistent')"
   ]
   }
,
{
		   "cell_type": "markdown",
		   "metadata": {},
		   "source": [
			"## Example 2.34_1: predicting_nature_of_equation_using_rank_of_matrix.sce"
		   ]
		  },
  {
"cell_type": "code",
	   "execution_count": null,
	   "metadata": {
	    "collapsed": true
	   },
	   "outputs": [],
"source": [
"clc\n",
"A=[1 2 3;3 4 4;7 10 12]\n",
"disp('rank of A is')\n",
"p=rank(A)\n",
"if p==3 then\n",
"  disp('equations have only a trivial solution:x=y=z=0')\n",
"else \n",
"  disp('equations have infinite no. of solutions.')\n",
"  end"
   ]
   }
,
{
		   "cell_type": "markdown",
		   "metadata": {},
		   "source": [
			"## Example 2.34_2: predicting_nature_of_equation_using_rank_of_matrix.sce"
		   ]
		  },
  {
"cell_type": "code",
	   "execution_count": null,
	   "metadata": {
	    "collapsed": true
	   },
	   "outputs": [],
"source": [
"clc\n",
"A=[4 2 1 3;6 3 4 7;2 1 0 1]\n",
"disp('rank of A is')\n",
"p=rank(A)\n",
"if p==4 then\n",
"  disp('equations have only a trivial solution:x=y=z=0')\n",
"else \n",
"  disp('equations have infinite no. of solutions.')\n",
"  end"
   ]
   }
,
{
		   "cell_type": "markdown",
		   "metadata": {},
		   "source": [
			"## Example 2.38: Inverse_of_a_matrix.sce"
		   ]
		  },
  {
"cell_type": "code",
	   "execution_count": null,
	   "metadata": {
	    "collapsed": true
	   },
	   "outputs": [],
"source": [
"clear;\n",
"clc;\n",
"disp('the given equations can be written as Y=AX where ')\n",
"A=[2 1 1;1 1 2;1 0 -2]\n",
"disp('determinant of A is')\n",
"det(A)\n",
"disp('since,its non-singular,hence transformation is regular ')\n",
"disp('inverse of A is ')\n",
"inv(A)"
   ]
   }
,
{
		   "cell_type": "markdown",
		   "metadata": {},
		   "source": [
			"## Example 2.39: Transpose_and_product_of_matrices.sce"
		   ]
		  },
  {
"cell_type": "code",
	   "execution_count": null,
	   "metadata": {
	    "collapsed": true
	   },
	   "outputs": [],
"source": [
"clear\n",
"clc\n",
"A=[-2/3 1/3 2/3;2/3 2/3 1/3;1/3 -2/3 2/3]\n",
"disp('A transpose is equal to ')\n",
"A'\n",
"disp('A*(transpose of A)=')\n",
"A*A'\n",
"disp('hence,A is orthogonal ')"
   ]
   }
,
{
		   "cell_type": "markdown",
		   "metadata": {},
		   "source": [
			"## Example 2.3: Calculating_Determinant.sce"
		   ]
		  },
  {
"cell_type": "code",
	   "execution_count": null,
	   "metadata": {
	    "collapsed": true
	   },
	   "outputs": [],
"source": [
"clc\n",
"syms a;\n",
"syms b;\n",
"syms c;\n",
"A=[a a^2 a^3-1;b b^2 b^3-1;c c^2 c^3-1]\n",
"det(A)"
   ]
   }
,
{
		   "cell_type": "markdown",
		   "metadata": {},
		   "source": [
			"## Example 2.42: eigen_values_and_vectors_of_given_matrix.sce"
		   ]
		  },
  {
"cell_type": "code",
	   "execution_count": null,
	   "metadata": {
	    "collapsed": true
	   },
	   "outputs": [],
"source": [
"clear\n",
"clc\n",
"A=[5 4;1 2]\n",
"disp('let R represents the matrix of transformation and P represents a diagonal matrix whose values are the eigen values of A.then ')\n",
"[R P]=spec(A)\n",
"disp('R is normalised.let U represents unnormalised version of r ')\n",
"U(:,1)=R(:,1)*sqrt(17);\n",
"U(:,2)=R(:,2)*sqrt(2)\n",
"disp('two eigen vectors are the two columns of U')"
   ]
   }
,
{
		   "cell_type": "markdown",
		   "metadata": {},
		   "source": [
			"## Example 2.43: eigen_values_and_vectors_of_given_matrix.sce"
		   ]
		  },
  {
"cell_type": "code",
	   "execution_count": null,
	   "metadata": {
	    "collapsed": true
	   },
	   "outputs": [],
"source": [
"clear\n",
"clc\n",
"A=[1 1 3;1 5 1;3 1 1]\n",
"disp('let R represents the matrix of transformation and P represents a diagonal matrix whose values are the eigen values of A.then ')\n",
"[R P]=spec(A)\n",
"disp('R is normalised.let U represents unnormalised version of r ')\n",
"U(:,1)=R(:,1)*sqrt(2);\n",
"U(:,2)=R(:,2)*sqrt(3);\n",
"U(:,3)=R(:,3)*sqrt(6)\n",
"disp('three eigen vectors are the three columns of U')"
   ]
   }
,
{
		   "cell_type": "markdown",
		   "metadata": {},
		   "source": [
			"## Example 2.44: eigen_values_and_vectors_of_given_matrix.sce"
		   ]
		  },
  {
"cell_type": "code",
	   "execution_count": null,
	   "metadata": {
	    "collapsed": true
	   },
	   "outputs": [],
"source": [
"clear\n",
"clc\n",
"A=[3 1 4;0 2 6;0 0 5]\n",
"disp('let R represents the matrix of transformation and P represents a diagonal matrix whose values are the eigen values of A.then ')\n",
"[R P]=spec(A)\n",
"disp('R is normalised.let U represents unnormalised version of r ')\n",
"U(:,1)=R(:,1)*sqrt(1);\n",
"U(:,2)=R(:,2)*sqrt(2);\n",
"U(:,3)=R(:,3)*sqrt(14)\n",
"disp('three eigen vectors are the three columns of U')"
   ]
   }
,
{
		   "cell_type": "markdown",
		   "metadata": {},
		   "source": [
			"## Example 2.45: eigen_values_and_characteristic_equation.sce"
		   ]
		  },
  {
"cell_type": "code",
	   "execution_count": null,
	   "metadata": {
	    "collapsed": true
	   },
	   "outputs": [],
"source": [
"clear\n",
"clc\n",
"x=poly([0],'x')\n",
"A=[1 4;2 3]\n",
"I=eye(2,2)\n",
"disp('eigen values of A are ')\n",
"spec(A)\n",
"disp('let ')\n",
"a=-1;  \n",
"b=5;\n",
"disp('hence,the characteristic equation is (x-a)(x-b) ')\n",
"p=(x-a)*(x-b)\n",
"disp('A^2-4*A-5*I=')\n",
"A^2-4*A-5*I\n",
"disp('inverse of A= ')\n",
"inv(A)"
   ]
   }
,
{
		   "cell_type": "markdown",
		   "metadata": {},
		   "source": [
			"## Example 2.46: eigen_values_and_characteristic_equation.sce"
		   ]
		  },
  {
"cell_type": "code",
	   "execution_count": null,
	   "metadata": {
	    "collapsed": true
	   },
	   "outputs": [],
"source": [
"clear\n",
"clc\n",
"x=poly([0],'x')\n",
"A=[1 1 3;1 3 -3;-2 -4 -4]\n",
"disp('eigen values of A are ')\n",
"spec(A)\n",
"disp('let ')\n",
"a=4.2568381;  \n",
"b=0.4032794;  \n",
"c=-4.6601175; \n",
"disp('hence,the characteristic equation is (x-a)(x-b)(x-c) ')\n",
"p=(x-a)*(x-b)*(x-c)\n",
"disp('inverse of A= ')\n",
"inv(A)"
   ]
   }
,
{
		   "cell_type": "markdown",
		   "metadata": {},
		   "source": [
			"## Example 2.47: eigen_values_and_characteristic_equation.sce"
		   ]
		  },
  {
"cell_type": "code",
	   "execution_count": null,
	   "metadata": {
	    "collapsed": true
	   },
	   "outputs": [],
"source": [
"clear\n",
"clc\n",
"x=poly([0],'x')\n",
"A=[2 1 1;0 1 0;1 1 2]\n",
"I=eye(3,3)\n",
"disp('eigen values of A are ')\n",
"spec(A)\n",
"disp('let ')\n",
"a=1;\n",
"b=1;\n",
"c=3;\n",
"disp('hence,the characteristic equation is (x-a)(x-b)(x-c) ')\n",
"p=(x-a)*(x-b)*(x-c)\n",
"disp('A^8-5*A^7+7*A^6-3*A^5+A^4-5*A^3+8*A^2-2*A+I =')\n",
"A^8-5*A^7+7*A^6-3*A^5+A^4-5*A^3+8*A^2-2*A+I"
   ]
   }
,
{
		   "cell_type": "markdown",
		   "metadata": {},
		   "source": [
			"## Example 2.48: eigen_values_and_vectors_of_given_matrix.sce"
		   ]
		  },
  {
"cell_type": "code",
	   "execution_count": null,
	   "metadata": {
	    "collapsed": true
	   },
	   "outputs": [],
"source": [
"clear\n",
"clc\n",
"A=[-1 2 -2;1 2 1;-1 -1 0]\n",
"disp('R is matrix of transformation and D is a diagonal matrix ')\n",
"[R D]=spec(A)"
   ]
   }
,
{
		   "cell_type": "markdown",
		   "metadata": {},
		   "source": [
			"## Example 2.49: eigen_values_and_vectors_of_given_matrix.sce"
		   ]
		  },
  {
"cell_type": "code",
	   "execution_count": null,
	   "metadata": {
	    "collapsed": true
	   },
	   "outputs": [],
"source": [
"clear\n",
"clc\n",
"A=[1 1 3;1 5 1;3 1 1]\n",
"disp('R is matrix of transformation and D is a diagonal matrix ')\n",
"[R D]=spec(A)\n",
"disp('R is normalised,let P denotes unnormalised version of R.Then ')\n",
"P(:,1)=R(:,1)*sqrt(2);\n",
"P(:,2)=R(:,2)*sqrt(3);\n",
"P(:,3)=R(:,3)*sqrt(6)\n",
"disp('A^4=')\n",
"A^4"
   ]
   }
,
{
		   "cell_type": "markdown",
		   "metadata": {},
		   "source": [
			"## Example 2.4: Calculating_Determinant.sce"
		   ]
		  },
  {
"cell_type": "code",
	   "execution_count": null,
	   "metadata": {
	    "collapsed": true
	   },
	   "outputs": [],
"source": [
"clear\n",
"clc\n",
"a=[21 17 7 10;24 22 6 10;6 8 2 3;6 7 1 2]\n",
"disp('determinant of a is ')\n",
"det(a)"
   ]
   }
,
{
		   "cell_type": "markdown",
		   "metadata": {},
		   "source": [
			"## Example 2.50: eigen_values_and_vectors_of_given_matrix.sce"
		   ]
		  },
  {
"cell_type": "code",
	   "execution_count": null,
	   "metadata": {
	    "collapsed": true
	   },
	   "outputs": [],
"source": [
"clear\n",
"clc\n",
"disp('3*x^2+5*y^2+3*z^2-2*y*z+2*z*x-2*x*y')\n",
"disp('The matrix of the given quadratic form is ')\n",
"A=[3 -1 1;-1 5 -1;1 -1 3]\n",
"disp('let R represents the matrix of transformation and P represents a diagonal matrix whose values are the eigen values of A.then ')\n",
"[R P]=spec(A)\n",
"disp('so,canonical form is 2*x^2+3*y^2+6*z^2')"
   ]
   }
,
{
		   "cell_type": "markdown",
		   "metadata": {},
		   "source": [
			"## Example 2.51: eigen_values_and_vectors_of_given_matrix.sce"
		   ]
		  },
  {
"cell_type": "code",
	   "execution_count": null,
	   "metadata": {
	    "collapsed": true
	   },
	   "outputs": [],
"source": [
"clear\n",
"clc\n",
"disp('2*x1*x2+2*x1*x3-2*x2*x3 ')\n",
"disp('The matrix of the given quadratic form is ')\n",
"A=[0 1 1;1 0 -1;1 -1 0]\n",
"disp('let R represents the matrix of transformation and P represents a diagonal matrix whose values are the eigen values of A.then ')\n",
"[R P]=spec(A)\n",
"disp('so,canonical form is -2*x^2+y^2+z^2')"
   ]
   }
,
{
		   "cell_type": "markdown",
		   "metadata": {},
		   "source": [
			"## Example 2.52: Hermitian_matrix.sce"
		   ]
		  },
  {
"cell_type": "code",
	   "execution_count": null,
	   "metadata": {
	    "collapsed": true
	   },
	   "outputs": [],
"source": [
"clear\n",
"clc\n",
"A=[2+%i 3 -1+3*%i;-5 %i 4-2*%i]\n",
"disp('A*=')\n",
"A'\n",
"disp('AA*=')\n",
"A*A'\n",
"disp('clearly,AA* is hermitian matrix ')"
   ]
   }
,
{
		   "cell_type": "markdown",
		   "metadata": {},
		   "source": [
			"## Example 2.53: tranpose_and_inverse_of_complex_matrix.sce"
		   ]
		  },
  {
"cell_type": "code",
	   "execution_count": null,
	   "metadata": {
	    "collapsed": true
	   },
	   "outputs": [],
"source": [
"clear\n",
"clc\n",
"A=[(1/2)*(1+%i) (1/2)*(-1+%i);(1/2)*(1+%i) (1/2)*(1-%i)]\n",
"disp('A*=')\n",
"A'\n",
"disp('AA*=')\n",
"A*A'\n",
"disp('A*A=')\n",
"A'*A\n",
"disp('inverse of A is ')\n",
"inv(A)"
   ]
   }
,
{
		   "cell_type": "markdown",
		   "metadata": {},
		   "source": [
			"## Example 2.54: Unitary_matrix.sce"
		   ]
		  },
  {
"cell_type": "code",
	   "execution_count": null,
	   "metadata": {
	    "collapsed": true
	   },
	   "outputs": [],
"source": [
"clear\n",
"clc\n",
"A=[0 1+2*%i;-1+2*%i 0]\n",
"I=eye(2,2)\n",
"disp('I-A= ')\n",
"I-A\n",
"disp('inverse of (I+A)= ')\n",
"inv(I+A)\n",
"disp('((I-A)(inverse(I+A)))*((I-A)(inverse(I+A)))=')\n",
"(((I-A)*(inv(I+A)))')*((I-A)*(inv(I+A)))\n",
"disp('((I-A)(inverse(I+A)))((I-A)(inverse(I+A)))*=')\n",
"((I-A)*(inv(I+A)))*(((I-A)*(inv(I+A)))')\n",
"disp('clearly,the product is an identity matrix.hence,it is a unitary matrix')"
   ]
   }
,
{
		   "cell_type": "markdown",
		   "metadata": {},
		   "source": [
			"## Example 5.8: Partial_derivative_of_given_function.sce"
		   ]
		  },
  {
"cell_type": "code",
	   "execution_count": null,
	   "metadata": {
	    "collapsed": true
	   },
	   "outputs": [],
"source": [
"clc\n",
"syms x y \n",
"u=x^y\n",
"a=diff(u,y)\n",
"b=diff(a,x)\n",
"c=diff(b,x)\n",
"d=diff(u,x)\n",
"e=diff(d,y)\n",
"f=diff(e,x)\n",
"disp('clearly,c=f')"
   ]
   }
],
"metadata": {
		  "kernelspec": {
		   "display_name": "Scilab",
		   "language": "scilab",
		   "name": "scilab"
		  },
		  "language_info": {
		   "file_extension": ".sce",
		   "help_links": [
			{
			 "text": "MetaKernel Magics",
			 "url": "https://github.com/calysto/metakernel/blob/master/metakernel/magics/README.md"
			}
		   ],
		   "mimetype": "text/x-octave",
		   "name": "scilab",
		   "version": "0.7.1"
		  }
		 },
		 "nbformat": 4,
		 "nbformat_minor": 0
}
