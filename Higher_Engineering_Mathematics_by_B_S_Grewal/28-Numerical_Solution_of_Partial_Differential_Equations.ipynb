{
"cells": [
 {
		   "cell_type": "markdown",
	   "metadata": {},
	   "source": [
       "# Chapter 28: Numerical Solution of Partial Differential Equations"
	   ]
	},
{
		   "cell_type": "markdown",
		   "metadata": {},
		   "source": [
			"## Example 28.1: classification_of_partial_differential_equation.sce"
		   ]
		  },
  {
"cell_type": "code",
	   "execution_count": null,
	   "metadata": {
	    "collapsed": true
	   },
	   "outputs": [],
"source": [
"//ques 28.1\n",
"clear\n",
"clc\n",
"disp('D=B^2-4AC');\n",
"disp('if D<0 then elliptic    if D=0 then parabolic    if D>0 then hyperboic');\n",
"disp('(i) A=x^2,B1-y^2    D=4^2-4*1*4=0    so The equation is PARABOLIC');\n",
"disp('(ii) D=4x^2(y^2-1)');\n",
"disp('for -inf<x<inf and -1<y<1 D<0');\n",
"disp('So the equation is ELLIPTIC');\n",
"disp('(iii) A=1+x^2,B=5+2x^2,C=4+x^2');\n",
"disp('D=9>0');\n",
"disp('So the equation is HYPERBOLIC');"
   ]
   }
,
{
		   "cell_type": "markdown",
		   "metadata": {},
		   "source": [
			"## Example 28.2: solving_elliptical_equation.sce"
		   ]
		  },
  {
"cell_type": "code",
	   "execution_count": null,
	   "metadata": {
	    "collapsed": true
	   },
	   "outputs": [],
"source": [
"//ques28.2\n",
"disp('See figure in question');\n",
"disp('From symmetry u7=u1 , u8=u2 , u9=u3 , u3=u1 , u6=u4, u9=u7');\n",
"disp('u5=1/4*(2000+2000+1000+1000)=1500');\n",
"u5=1500;\n",
"disp('u1=1/4(0=1500+1000+2000)=1125');\n",
"u1=1125;\n",
"disp('u2=1/4*(1125+1125+1000+1500)=1188');\n",
"u2=1188;\n",
"disp('u4=1/4(2000+1500+1125+1125)=1438');\n",
"u4=1438;\n",
"disp(u1,u2,u4,u5)\n",
"disp('Iterations : ');\n",
"//n=input('Input the number of iterations required : ');\n",
"for i=1:6\n",
"u11=1/4*(1000+u2+500+u4);\n",
"u22=1/4*(u11+u1+1000+u5);\n",
"u44=1/4*(2000+u5+u11+u1);\n",
"u55=1/4*(u44+u4+u22+u2);\n",
"disp(' ');\n",
"disp(u55,u44,u22,u11);\n",
"u1=u11;\n",
"u2=u22;\n",
"u4=u44;\n",
"u5=u55;\n",
"end"
   ]
   }
,
{
		   "cell_type": "markdown",
		   "metadata": {},
		   "source": [
			"## Example 28.3: evaluating_function_satisfying_laplace_equation.sce"
		   ]
		  },
  {
"cell_type": "code",
	   "execution_count": null,
	   "metadata": {
	    "collapsed": true
	   },
	   "outputs": [],
"source": [
"//ques3\n",
"clear\n",
"clc\n",
"disp('See figure in question');\n",
"disp('To find the initial values of u1 u2 u3 u4 we assume u4=0');\n",
"disp('u1=1/4*(1000+0+1000+2000)=1000');\n",
"u1=1000;\n",
"disp('u2=1/4(1000+500+1000+500)=625');\n",
"u2=625;\n",
"disp('u3=1/4*(2000+0+1000+500)=875');\n",
"u3=875;\n",
"disp('u4=1/4(875+0+625+0)=375');\n",
"u4=375;\n",
"disp(u1,u2,u3,u4)\n",
"disp('Iterations : ');\n",
"//n=input('Input the number of iterations required : ');\n",
"for i=1:6\n",
"u11=1/4*(2000+u2+1000+u3);\n",
"u22=1/4*(u11+500+1000+u4);\n",
"u33=1/4*(2000+u4+u11+500);\n",
"u44=1/4*(u33+0+u22+0);\n",
"disp(' ');\n",
"disp(u44,u33,u22,u11);\n",
"u1=u11;\n",
"u2=u22;\n",
"u4=u44;\n",
"u3=u33;\n",
"end"
   ]
   }
,
{
		   "cell_type": "markdown",
		   "metadata": {},
		   "source": [
			"## Example 28.4: solution_of_poissons_equation.sce"
		   ]
		  },
  {
"cell_type": "code",
	   "execution_count": null,
	   "metadata": {
	    "collapsed": true
	   },
	   "outputs": [],
"source": [
"//ques4\n",
"clear\n",
"clc\n",
"disp('See figure in question');\n",
"disp('using numerical poissons equation u(i-1)(j)+u(i+1)(j)+u(i)(j-1)+u(i)(j+1)=h^2f(ih,jh)');\n",
"disp('Here f(x,y)=-10(x^2+y^2+10');\n",
"disp('Here for u1 i=1,j=2 putting in equation this gives : ');\n",
"disp('u1=1/4(u2+u3+150');\n",
"disp('similarly ');\n",
"disp('u2=1/4(u1+u4+180');\n",
"disp('u3=1/4(u1+u4+120');\n",
"disp('u4=1/4(u2+u3+150');\n",
"disp('reducing therse equations since u4=u1');\n",
"disp('4u1-u2-u3-150=0');\n",
"disp('u1-2u2+90=0');\n",
"disp('u1-2u3+60=0');\n",
"disp('Solvng these equations by Gauss jordon method ');\n",
"A=[4 -1 -1;1 -2 0;1 0 -2];\n",
"r=[150;-90;-60]; \n",
"D=A;d=r;\n",
"n=3;\n",
"\n",
"//create upper triangular matrix \n",
"s=0;\n",
"for j=1:n-1 \n",
"    if A(j,j)==0\n",
"        k=j;\n",
"        for k=k+1:n\n",
"            if A(k,j)==0\n",
"                continue \n",
"            end\n",
"            break\n",
"        end\n",
"        B=A(j,:); C=r(j); \n",
"        A(j,:)=A(k,:); r(j)=r(k);\n",
"        A(k,:)=B; r(k)=C;\n",
"    end\n",
"    for i=1+s:n-1\n",
"        L=A(i+1,j)/A(j,j);\n",
"        A(i+1,:)=A(i+1,:)-L*A(j,:);\n",
"        r(i+1)=r(i+1)-L*r(j);\n",
"    end\n",
"    s=s+1;\n",
"end \n",
"//Solution of equations\n",
"x(n)=r(n)/A(n,n);\n",
"for i=n-1:-1:1\n",
"    sum=0;\n",
"    for j=i+1:n \n",
"        sum=sum+A(i,j)*x(j);\n",
"    end\n",
"    x(i)=(1/A(i,i))*(r(i)-sum);\n",
"end\n",
"\n",
"//hecking with scilab functions\n",
"p=inv(D)*d;\n",
"//Output\n",
"disp('@----------------------------------------------------------@')\n",
"disp('Output [B][x]=[b]')\n",
"disp('Upper riangular Matrix [B] =');disp(A)\n",
"disp('Matrix [b] =');disp(r)\n",
"disp('solution of linear equations :');disp(x')"
   ]
   }
,
{
		   "cell_type": "markdown",
		   "metadata": {},
		   "source": [
			"## Example 28.5: solving_parabolic_equation.sce"
		   ]
		  },
  {
"cell_type": "code",
	   "execution_count": null,
	   "metadata": {
	    "collapsed": true
	   },
	   "outputs": [],
"source": [
"//ques5\n",
"clear\n",
"clc\n",
"disp('Here c^2=4 , h=1 , k=1/8 ,  therefore alpha=(c^2)*k/(h^2)');\n",
"disp('Using bendre-schmidits recurrence relation ie u(i)(j+1)=t*u(i-1)(j)+t*u(i+1)(j)+(1-2t)*u(i,j)');\n",
"disp('Now since u(0,t)=0=u(8,t) therefore  u(0,i)=0 and u(8,j)=0 and u(x,0)=4x-1/2x^2');\n",
"c=2;\n",
"h=1;\n",
"k=1/8;\n",
"t=(c^2)*k/(h^2);\n",
"A=ones(9,9);\n",
"\n",
"for i=1:9\n",
"  for j=1:9\n",
"  A(1,i)=0;\n",
"  A(9,i)=0;\n",
"  A(i,1)=4*(i-1)-1/2*(i-1)^2;\n",
"  \n",
"end\n",
"end\n",
"//i=2;\n",
"//j=2;\n",
"for i=2:8\n",
"  for j=2:7\n",
" // A(i,j)=1/2*(A(i-1,j-1)+A(i+1,j-1));\n",
" A(i,j)=t*A(i-1,j-1)+t*A(i+1,j-1)+(1-2*t)*A(i-1,j-1);\n",
" end\n",
"end\n",
"for i=2:8\n",
"   j=2;\n",
"  disp(A(i,j));\n",
"\n",
"end"
   ]
   }
,
{
		   "cell_type": "markdown",
		   "metadata": {},
		   "source": [
			"## Example 28.6: solving_heat_equation.sce"
		   ]
		  },
  {
"cell_type": "code",
	   "execution_count": null,
	   "metadata": {
	    "collapsed": true
	   },
	   "outputs": [],
"source": [
"//ques5\n",
"clear\n",
"clc\n",
"disp('Here c^2=1 , h=1/3 , k=1/36 ,  therefore t=(c^2)*k/(h^2)=1/4');\n",
"disp('So bendre-schmidits recurrence relation ie u(i)(j+1)=1/4(u(i-1)(j)+u(i+1)(j)+2u(i,j)');\n",
"disp('Now since u(0,t)=0=u(1,t) therefore  u(0,i)=0 and u(1,j)=0 and u(x,0)=sin(%pi)x');\n",
"c=1;\n",
"h=1/3;\n",
"k=1/36;\n",
"t=(c^2)*k/(h^2);\n",
"A=ones(9,9);\n",
"\n",
"for i=1:9\n",
"  for j=1:9\n",
"  A(1,i)=0;\n",
"  A(2,i)=0;\n",
"  A(i,1)=sin(%pi/3*(i-1));\n",
"  \n",
"end\n",
"end\n",
"//A(2,1)=0.866;\n",
"//A(3,1)=0.866;\n",
"for i=2:8\n",
"  for j=2:8\n",
"    // A(i,j)=1/4*(A(i-1,j-1)+A(i+1,j-1)+2*A(i-1,j-1));\n",
"     A(i,j)=t*A(i-1,j-1)+t*A(i+1,j-1)+(1-2*t)*A(i-1,j-1);\n",
"end\n",
"end\n",
"for i=2:8\n",
"   j=2;\n",
"  disp(A(i,j));\n",
"\n",
"end"
   ]
   }
,
{
		   "cell_type": "markdown",
		   "metadata": {},
		   "source": [
			"## Example 28.7: solving_wave_equation.sce"
		   ]
		  },
  {
"cell_type": "code",
	   "execution_count": null,
	   "metadata": {
	    "collapsed": true
	   },
	   "outputs": [],
"source": [
"//ques7\n",
"clear\n",
"clc\n",
"disp('Here c^2=16 , taking h=1 , finding k such that c^2t^2=1 ');\n",
"disp('So bendre-schmidits recurrence relation ie u(i)(j+1)=(16t^2(u(i-1)(j)+u(i+1)(j))+2(1-16*t^2u(i,j)-u(i)(j-1)');\n",
"disp('Now since u(0,t)=0=u(5,t) therefore  u(0,i)=0 and u(5,j)=0 and u(x,0)=x^2(5-x)');\n",
"c=4;\n",
"h=1;\n",
"k=(h/c);\n",
"t=k/h;\n",
"A=zeros(6,6);\n",
"disp('Also from 1st derivative (u(i)(j+1)-u(i,j-1))/2k=g(x)  and g(x)=0 in this case');\n",
"disp('So if j=0 this gives u(i)(1)=1/2*(u(i-1)(0)+u(i+1)(0))')\n",
"for i=0:5\n",
"  for j=2:9\n",
"  A(1,i+1)=0;\n",
"  A(6,i+1)=0;\n",
"  A(i+1,1)=(i)^2*(5-i);\n",
" \n",
"    \n",
"end\n",
"end\n",
"for i=1:4\n",
"    A(i+1,2)=1/2*(A(i,1)+A(i+2,1));\n",
"  \n",
"  end\n",
"  for i=3:5\n",
"  for j=3:5\n",
"    \n",
"    A(i-1,j)=(c*t)^2*(A(i-2,j-1)+A(i,j-1))+2*(1-(c*t)^2)*A(i-1,j-1)-A(i-1,j-2);\n",
"end\n",
"end\n",
"\n",
"for i=1:5\n",
"for j=1:5\n",
"  disp(A(i,j));\n",
"end\n",
"end"
   ]
   }
,
{
		   "cell_type": "markdown",
		   "metadata": {},
		   "source": [
			"## Example 28.8: solving_wave_equation.sce"
		   ]
		  },
  {
"cell_type": "code",
	   "execution_count": null,
	   "metadata": {
	    "collapsed": true
	   },
	   "outputs": [],
"source": [
"//ques8\n",
"clear\n",
"clc\n",
"disp('Here c^2=4 , taking h=1 , finding k such that c^2t^2=1 ');\n",
"disp('So bendre-schmidits recurrence relation ie u(i)(j+1)=(16t^2(u(i-1)(j)+u(i+1)(j))+2(1-16*t^2u(i,j)-u(i)(j-1)');\n",
"disp('Now since u(0,t)=0=u(4,t) therefore  u(0,i)=0 and u(4,j)=0 and u(x,0)=x(4-x)');\n",
"c=2;\n",
"h=1;\n",
"k=(h/c);\n",
"t=k/h;\n",
"A=zeros(6,6);\n",
"disp('Also from 1st derivative (u(i)(j+1)-u(i,j-1))/2k=g(x)  and g(x)=0 in this case');\n",
"disp('So if j=0 this gives u(i)(1)=1/2*(u(i-1)(0)+u(i+1)(0))')\n",
"for i=0:5\n",
"  for j=2:9\n",
"  A(1,i+1)=0;\n",
"  A(5,i+1)=0;\n",
"  A(i+1,1)=(i)*(4-i);\n",
" \n",
"    \n",
"end\n",
"end\n",
"for i=1:4\n",
"    A(i+1,2)=1/2*(A(i,1)+A(i+2,1));\n",
"  \n",
"  end\n",
"  for i=3:5\n",
"  for j=3:5\n",
"    \n",
"    A(i-1,j)=(c*t)^2*(A(i-2,j-1)+A(i,j-1))+2*(1-(c*t)^2)*A(i-1,j-1)-A(i-1,j-2);\n",
"end\n",
"end\n",
"\n",
"for i=1:5\n",
"for j=1:5\n",
"  disp(A(i,j));\n",
"end\n",
"end"
   ]
   }
],
"metadata": {
		  "kernelspec": {
		   "display_name": "Scilab",
		   "language": "scilab",
		   "name": "scilab"
		  },
		  "language_info": {
		   "file_extension": ".sce",
		   "help_links": [
			{
			 "text": "MetaKernel Magics",
			 "url": "https://github.com/calysto/metakernel/blob/master/metakernel/magics/README.md"
			}
		   ],
		   "mimetype": "text/x-octave",
		   "name": "scilab",
		   "version": "0.7.1"
		  }
		 },
		 "nbformat": 4,
		 "nbformat_minor": 0
}
