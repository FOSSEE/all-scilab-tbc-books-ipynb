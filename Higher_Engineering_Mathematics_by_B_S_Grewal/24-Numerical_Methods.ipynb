{
"cells": [
 {
		   "cell_type": "markdown",
	   "metadata": {},
	   "source": [
       "# Chapter 24: Numerical Methods"
	   ]
	},
{
		   "cell_type": "markdown",
		   "metadata": {},
		   "source": [
			"## Example 24.10: solving_equations_by_guass_elimination_method.sce"
		   ]
		  },
  {
"cell_type": "code",
	   "execution_count": null,
	   "metadata": {
	    "collapsed": true
	   },
	   "outputs": [],
"source": [
"//ques 10 , ques 11\n",
"//Linear equation system 'Ax=r' by Gauss elimination method.\n",
"clc\n",
"clear\n",
"\n",
"disp('Solution of N-equation [A][X]=[r]')\n",
"n=input ('Enter number of Equations :');\n",
"A=input ('Enter Matrix [A]:');\n",
"r=input ('Enter Matrix [r]:'); \n",
"D=A;d=r;\n",
"\n",
"//create upper triangular matrix \n",
"s=0;\n",
"for j=1:n-1 \n",
"    if A(j,j)==0\n",
"        k=j;\n",
"        for k=k+1:n\n",
"            if A(k,j)==0\n",
"                continue \n",
"            end\n",
"            break\n",
"        end\n",
"        B=A(j,:); C=r(j); \n",
"        A(j,:)=A(k,:); r(j)=r(k);\n",
"        A(k,:)=B; r(k)=C;\n",
"    end\n",
"    for i=1+s:n-1\n",
"        L=A(i+1,j)/A(j,j);\n",
"        A(i+1,:)=A(i+1,:)-L*A(j,:);\n",
"        r(i+1)=r(i+1)-L*r(j);\n",
"    end\n",
"    s=s+1;\n",
"end \n",
"//Solution of equations\n",
"x(n)=r(n)/A(n,n);\n",
"for i=n-1:-1:1\n",
"    sum=0;\n",
"    for j=i+1:n \n",
"        sum=sum+A(i,j)*x(j);\n",
"    end\n",
"    x(i)=(1/A(i,i))*(r(i)-sum);\n",
"end\n",
"\n",
"//hecking with scilab functions\n",
"p=inv(D)*d;\n",
"//Output\n",
"disp('@----------------------------------------------------------@')\n",
"disp('Output [B][x]=[b]')\n",
"disp('Upper riangular Matrix [B] =');disp(A)\n",
"disp('Matrix [b] =');disp(r)\n",
"disp('solution of linear equations :');disp(x')\n",
"disp('solve with matlab functions(for checking):');disp(p) "
   ]
   }
,
{
		   "cell_type": "markdown",
		   "metadata": {},
		   "source": [
			"## Example 24.12: solving_equations_by_guass_elimination_method.sce"
		   ]
		  },
  {
"cell_type": "code",
	   "execution_count": null,
	   "metadata": {
	    "collapsed": true
	   },
	   "outputs": [],
"source": [
"//ques 10 , ques 11\n",
"//Linear equation system 'Ax=r' by Gauss elimination method.\n",
"clc\n",
"clear\n",
"\n",
"disp('Solution of N-equation [A][X]=[r]')\n",
"n=input ('Enter number of Equations :');\n",
"A=input ('Enter Matrix [A]:');\n",
"r=input ('Enter Matrix [r]:'); \n",
"D=A;d=r;\n",
"\n",
"//create upper triangular matrix \n",
"s=0;\n",
"for j=1:n-1 \n",
"    if A(j,j)==0\n",
"        k=j;\n",
"        for k=k+1:n\n",
"            if A(k,j)==0\n",
"                continue \n",
"            end\n",
"            break\n",
"        end\n",
"        B=A(j,:); C=r(j); \n",
"        A(j,:)=A(k,:); r(j)=r(k);\n",
"        A(k,:)=B; r(k)=C;\n",
"    end\n",
"    for i=1+s:n-1\n",
"        L=A(i+1,j)/A(j,j);\n",
"        A(i+1,:)=A(i+1,:)-L*A(j,:);\n",
"        r(i+1)=r(i+1)-L*r(j);\n",
"    end\n",
"    s=s+1;\n",
"end \n",
"//Solution of equations\n",
"x(n)=r(n)/A(n,n);\n",
"for i=n-1:-1:1\n",
"    sum=0;\n",
"    for j=i+1:n \n",
"        sum=sum+A(i,j)*x(j);\n",
"    end\n",
"    x(i)=(1/A(i,i))*(r(i)-sum);\n",
"end\n",
"\n",
"//hecking with scilab functions\n",
"p=inv(D)*d;\n",
"//Output\n",
"disp('@----------------------------------------------------------@')\n",
"disp('Output [B][x]=[b]')\n",
"disp('Upper riangular Matrix [B] =');disp(A)\n",
"disp('Matrix [b] =');disp(r)\n",
"disp('solution of linear equations :');disp(x')\n",
"disp('solve with matlab functions(for checking):');disp(p) "
   ]
   }
,
{
		   "cell_type": "markdown",
		   "metadata": {},
		   "source": [
			"## Example 24.13: solving_equations_by_guass_elimination_method.sce"
		   ]
		  },
  {
"cell_type": "code",
	   "execution_count": null,
	   "metadata": {
	    "collapsed": true
	   },
	   "outputs": [],
"source": [
"//ques 10 , ques 11\n",
"//Linear equation system 'Ax=r' by Gauss elimination method.\n",
"clc\n",
"clear\n",
"\n",
"disp('Solution of N-equation [A][X]=[r]')\n",
"n=input ('Enter number of Equations :');\n",
"A=input ('Enter Matrix [A]:');\n",
"r=input ('Enter Matrix [r]:'); \n",
"D=A;d=r;\n",
"\n",
"//create upper triangular matrix \n",
"s=0;\n",
"for j=1:n-1 \n",
"    if A(j,j)==0\n",
"        k=j;\n",
"        for k=k+1:n\n",
"            if A(k,j)==0\n",
"                continue \n",
"            end\n",
"            break\n",
"        end\n",
"        B=A(j,:); C=r(j); \n",
"        A(j,:)=A(k,:); r(j)=r(k);\n",
"        A(k,:)=B; r(k)=C;\n",
"    end\n",
"    for i=1+s:n-1\n",
"        L=A(i+1,j)/A(j,j);\n",
"        A(i+1,:)=A(i+1,:)-L*A(j,:);\n",
"        r(i+1)=r(i+1)-L*r(j);\n",
"    end\n",
"    s=s+1;\n",
"end \n",
"//Solution of equations\n",
"x(n)=r(n)/A(n,n);\n",
"for i=n-1:-1:1\n",
"    sum=0;\n",
"    for j=i+1:n \n",
"        sum=sum+A(i,j)*x(j);\n",
"    end\n",
"    x(i)=(1/A(i,i))*(r(i)-sum);\n",
"end\n",
"\n",
"//hecking with scilab functions\n",
"p=inv(D)*d;\n",
"//Output\n",
"disp('@----------------------------------------------------------@')\n",
"disp('Output [B][x]=[b]')\n",
"disp('Upper riangular Matrix [B] =');disp(A)\n",
"disp('Matrix [b] =');disp(r)\n",
"disp('solution of linear equations :');disp(x')\n",
"disp('solve with matlab functions(for checking):');disp(p) "
   ]
   }
,
{
		   "cell_type": "markdown",
		   "metadata": {},
		   "source": [
			"## Example 24.1: finding_the_roots_of_equation.sce"
		   ]
		  },
  {
"cell_type": "code",
	   "execution_count": null,
	   "metadata": {
	    "collapsed": true
	   },
	   "outputs": [],
"source": [
"clc\n",
"clear\n",
"x=poly(0,'x');\n",
"p=x^3-4*x-9\n",
"disp('Finding roots of this equation by bisection method');\n",
"disp('f(2) is -ve and f(3) is +ve so a root lies between 2 and 3');\n",
"l=2;\n",
"m=3;\n",
"function y=f(x)\n",
"  y=x^3-4*x-9;\n",
"endfunction\n",
"for i=1:4\n",
"    k=1/2*(l+m);\n",
"if(f(k)<0)\n",
"    l=k;\n",
"else \n",
"  m=k; \n",
"  end \n",
"end\n",
"disp(k)"
   ]
   }
,
{
		   "cell_type": "markdown",
		   "metadata": {},
		   "source": [
			"## Example 24.3: finding_the_roots_of_equation_by_the_method_of_false_statement.sce"
		   ]
		  },
  {
"cell_type": "code",
	   "execution_count": null,
	   "metadata": {
	    "collapsed": true
	   },
	   "outputs": [],
"source": [
"//ques 2\n",
"disp('f(x)=xe^x-cos(x)');\n",
"function y=f(x)\n",
"  y=x*%e^(x)-cos(x);\n",
"endfunction\n",
"\n",
"disp('we are required to find the roots of f(x) by the method of false position');\n",
"disp('f(0)=-ve and f(1)=+ve so s root lie between 0 and 1');\n",
"disp('finding the roots by false position method');\n",
"\n",
"l=0;\n",
"m=1;\n",
"for i=1:10\n",
"   k=l-(m-l)*f(l)/(f(m)-f(l));\n",
"  if(f(k)<0)\n",
"    l=k;\n",
"  else\n",
"    m=k;\n",
"  end\n",
"end\n",
"//fprintf('The roots of the equation is %g',k)\n",
"disp('The root of the equation is :');\n",
"disp(k);\n",
"\n",
" "
   ]
   }
,
{
		   "cell_type": "markdown",
		   "metadata": {},
		   "source": [
			"## Example 24.4: finding_rea_roots_of_equation_by_regula_falsi_method.sce"
		   ]
		  },
  {
"cell_type": "code",
	   "execution_count": null,
	   "metadata": {
	    "collapsed": true
	   },
	   "outputs": [],
"source": [
"//ques 2\n",
"disp('f(x)=x*log(x)-1.2');\n",
"function y=f(x)\n",
"  y=x*log10(x)-1.2;\n",
"endfunction\n",
"\n",
"disp('we are required to find the roots of f(x) by the method of false position');\n",
"disp('f(2)=-ve and f(3)=+ve so s root lie between 2 and 3');\n",
"disp('finding the roots by false position method');\n",
"\n",
"l=2;\n",
"m=3;\n",
"for i=1:3\n",
"   k=l-(m-l)*f(l)/(f(m)-f(l));\n",
"  if(f(k)<0)\n",
"    l=k;\n",
"  else\n",
"    m=k;\n",
"  end\n",
"end\n",
"//fprintf('The roots of the equation is %g',k)\n",
"disp('The root of the equation is :');\n",
"disp(k);\n",
"\n",
" "
   ]
   }
,
{
		   "cell_type": "markdown",
		   "metadata": {},
		   "source": [
			"## Example 24.5: real_roots_of_equation_by_newtons_method.sce"
		   ]
		  },
  {
"cell_type": "code",
	   "execution_count": null,
	   "metadata": {
	    "collapsed": true
	   },
	   "outputs": [],
"source": [
"//ques 5\n",
"disp(' To find the roots of f(x)=3x-cos(x)-1 by newtons method ');\n",
"disp('f(0)=-ve and f(1) is +ve so a root lies between 0 and 1');\n",
"l=0;\n",
"m=1;\n",
"function y=f(x)\n",
"  y=3*x-cos(x)-1;\n",
"endfunction\n",
"x0=0.6;\n",
"disp('let us take x0=0.6 as the root is closer to 1');\n",
"disp('Root is given by r=x0-f(xn)/der(f(xn)) ');\n",
"disp('approximated root in each steps are');\n",
"for i=1:3\n",
"  k=x0-f(x0)/derivative(f,x0);\n",
"  disp(k);\n",
"  x0=k;\n",
"end"
   ]
   }
,
{
		   "cell_type": "markdown",
		   "metadata": {},
		   "source": [
			"## Example 24.6: real_roots_of_equation_by_newtons_method.sce"
		   ]
		  },
  {
"cell_type": "code",
	   "execution_count": null,
	   "metadata": {
	    "collapsed": true
	   },
	   "outputs": [],
"source": [
"//ques 7\n",
"clear\n",
"clc\n",
"disp('To find squareroot of 28 by newtons method let x=sqrt(28) ie x^2-28=0');\n",
"function y=f(x)\n",
"  y=x^2-28;\n",
"endfunction\n",
"disp(' To find the roots by newtons method ');\n",
"disp('f(5)=-ve and f(6) is +ve so a root lies between 5 and 6');\n",
"l=5;\n",
"m=6;\n",
"disp('let us take x0=5.5');\n",
"disp('Root is given by rn=xn-f(xn)/der(f(xn)) ');\n",
"disp('approximated root in each steps are');\n",
"x0=5.5;\n",
"for i=1:4\n",
"  k=x0-f(x0)/derivative(f,x0);\n",
"  disp(k);\n",
"  x0=k;\n",
"end"
   ]
   }
,
{
		   "cell_type": "markdown",
		   "metadata": {},
		   "source": [
			"## Example 24.7: evaluating_square_root_by_newtons_iterative_method.sce"
		   ]
		  },
  {
"cell_type": "code",
	   "execution_count": null,
	   "metadata": {
	    "collapsed": true
	   },
	   "outputs": [],
"source": [
"//ques 7\n",
"clear\n",
"clc\n",
"disp('To find squareroot of 28 by newtons method let x=sqrt(28) ie x^2-28=0');\n",
"function y=f(x)\n",
"  y=x^2-28;\n",
"endfunction\n",
"disp(' To find the roots by newtons method ');\n",
"disp('f(5)=-ve and f(6) is +ve so a root lies between 5 and 6');\n",
"l=5;\n",
"m=6;\n",
"disp('let us take x0=5.5');\n",
"disp('Root is given by rn=xn-f(xn)/der(f(xn)) ');\n",
"disp('approximated root in each steps are');\n",
"x0=5.5;\n",
"for i=1:4\n",
"  k=x0-f(x0)/derivative(f,x0);\n",
"  disp(k);\n",
"  x0=k;\n",
"end"
   ]
   }
],
"metadata": {
		  "kernelspec": {
		   "display_name": "Scilab",
		   "language": "scilab",
		   "name": "scilab"
		  },
		  "language_info": {
		   "file_extension": ".sce",
		   "help_links": [
			{
			 "text": "MetaKernel Magics",
			 "url": "https://github.com/calysto/metakernel/blob/master/metakernel/magics/README.md"
			}
		   ],
		   "mimetype": "text/x-octave",
		   "name": "scilab",
		   "version": "0.7.1"
		  }
		 },
		 "nbformat": 4,
		 "nbformat_minor": 0
}
