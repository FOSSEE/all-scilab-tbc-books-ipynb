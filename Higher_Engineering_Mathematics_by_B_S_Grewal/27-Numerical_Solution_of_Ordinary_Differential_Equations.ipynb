{
"cells": [
 {
		   "cell_type": "markdown",
	   "metadata": {},
	   "source": [
       "# Chapter 27: Numerical Solution of Ordinary Differential Equations"
	   ]
	},
{
		   "cell_type": "markdown",
		   "metadata": {},
		   "source": [
			"## Example 27.10: solving_ODE_using_runge_method.sce"
		   ]
		  },
  {
"cell_type": "code",
	   "execution_count": null,
	   "metadata": {
	    "collapsed": true
	   },
	   "outputs": [],
"source": [
"//ques10\n",
"disp('Runges method');\n",
"function y=f(x,y)\n",
"  y=x+y;\n",
"endfunction\n",
"\n",
"x=0;\n",
"y=1;\n",
"h=0.2;\n",
"k1=h*f(x,y);\n",
"k2=h*f(x+1/2*h,y+1/2*k1);\n",
"kk=h*f(x+h,y+k1);\n",
"k3=h*f(x+h,y+kk);\n",
"k=1/6*(k1+4*k2+k3);\n",
"disp('the required approximate value is :-');\n",
"y=y+k;\n",
"disp(y);"
   ]
   }
,
{
		   "cell_type": "markdown",
		   "metadata": {},
		   "source": [
			"## Example 27.11: solving_ODE_using_runge_kutta_method.sce"
		   ]
		  },
  {
"cell_type": "code",
	   "execution_count": null,
	   "metadata": {
	    "collapsed": true
	   },
	   "outputs": [],
"source": [
"//ques11\n",
"disp('Runga kutta method');\n",
"function y=f(x,y)\n",
"  y=x+y;\n",
"endfunction\n",
"\n",
"x=0;\n",
"y=1;\n",
"h=0.2;\n",
"k1=h*f(x,y);\n",
"k2=h*f(x+1/2*h,y+1/2*k1);\n",
"k3=h*f(x+1/2*h,y+1/2*k2);\n",
"k4=h*f(x+h,y+k3);\n",
"k=1/6*(k1+2*k2+2*k3+k4);\n",
"disp('the required approximate value is :-');\n",
"y=y+k;\n",
"disp(y);"
   ]
   }
,
{
		   "cell_type": "markdown",
		   "metadata": {},
		   "source": [
			"## Example 27.12: solving_ODE_using_runge_kutta_method.sce"
		   ]
		  },
  {
"cell_type": "code",
	   "execution_count": null,
	   "metadata": {
	    "collapsed": true
	   },
	   "outputs": [],
"source": [
"//ques12\n",
"clc\n",
"disp('Runga kutta method');\n",
"function y=f(x,y)\n",
"  y=(y^2-x^2)/(x^2+y^2);\n",
"endfunction\n",
"\n",
"x=0;\n",
"y=1;\n",
"h=0.2;\n",
"k1=h*f(x,y);\n",
"k2=h*f(x+1/2*h,y+1/2*k1);\n",
"k3=h*f(x+1/2*h,y+1/2*k2);\n",
"k4=h*f(x+h,y+k3);\n",
"k=1/6*(k1+2*k2+2*k3+k4);\n",
"disp('the required approximate value is :-');\n",
"y=y+k;\n",
"disp(y);\n",
"disp('to find y(0.4) put x=0.2 y=above value ie 1.196 h=0.2 ');\n",
"x=0.2;\n",
"h=0.2;\n",
"k1=h*f(x,y);\n",
"k2=h*f(x+1/2*h,y+1/2*k1);\n",
"k3=h*f(x+1/2*h,y+1/2*k2);\n",
"k4=h*f(x+h,y+k3);\n",
"k=1/6*(k1+2*k2+2*k3+k4);\n",
"disp('the required approximate value is :-');\n",
"y=y+k;\n",
"disp(y);"
   ]
   }
,
{
		   "cell_type": "markdown",
		   "metadata": {},
		   "source": [
			"## Example 27.13: solving_ODE_using_runge_kutta_method.sce"
		   ]
		  },
  {
"cell_type": "code",
	   "execution_count": null,
	   "metadata": {
	    "collapsed": true
	   },
	   "outputs": [],
"source": [
"//ques12\n",
"clc\n",
"disp('Runga kutta method');\n",
"function yy=f(x,y)\n",
"  yy=x+y^2;\n",
"endfunction\n",
"\n",
"x=0;\n",
"y=1;\n",
"h=0.1;\n",
"k1=h*f(x,y);\n",
"k2=h*f(x+1/2*h,y+1/2*k1);\n",
"k3=h*f(x+1/2*h,y+1/2*k2);\n",
"k4=h*f(x+h,y+k3);\n",
"k=1/6*(k1+2*k2+2*k3+k4);\n",
"disp('the required approximate value is :-');\n",
"y=y+k;\n",
"disp(y);\n",
"disp('to find y(0.4) put x=0.2 y=above value ie 1.196 h=0.2 ');\n",
"x=0.1;\n",
"h=0.1;\n",
"k1=h*f(x,y);\n",
"k2=h*f(x+1/2*h,y+1/2*k1);\n",
"k3=h*f(x+1/2*h,y+1/2*k2);\n",
"k4=h*f(x+h,y+k3);\n",
"k=1/6*(k1+2*k2+2*k3+k4);\n",
"disp('the required approximate value is :-');\n",
"y=y+k;\n",
"disp(y);"
   ]
   }
,
{
		   "cell_type": "markdown",
		   "metadata": {},
		   "source": [
			"## Example 27.14: solving_ODE_using_milnes_method.sce"
		   ]
		  },
  {
"cell_type": "code",
	   "execution_count": null,
	   "metadata": {
	    "collapsed": true
	   },
	   "outputs": [],
"source": [
"//ques14\n",
"clc\n",
"syms x\n",
"yo=0;\n",
"y=0;\n",
"h=0.2;\n",
"f=x-y^2;\n",
"y=integ(f,x,0,x);\n",
"y1=eval(yo+y);\n",
"disp('y1=');\n",
"disp(float(y1));\n",
"f=x-y^2;\n",
"y=integ(f,x,0,x);\n",
"y2=yo+y;\n",
"disp('y2=');\n",
"disp(float(y2));\n",
"//function y=f(x,y)\n",
"  y=x-y^2;\n",
"//endfunction\n",
"\n",
"y=integ(f,x,0,x);\n",
"y3=yo+y;\n",
"disp('y3=');\n",
"disp(float(y3));\n",
"disp('determining the initial values for milnes method using y3 ');\n",
"disp('x=0.0  y0=0.0  f0=0');\n",
"disp('x=0.2  y1=');\n",
"x=0.2;\n",
"disp(eval(y1));\n",
"y1=eval(y1);\n",
"disp('f1=');\n",
"f1=float(eval(x-y1^2));\n",
"disp(f1);\n",
"disp('x=0.4  y2=');\n",
"x=0.4;\n",
"disp(float(eval(y2)));\n",
"disp('f2=');\n",
"f2=float(eval(x-y2^2));\n",
"disp(f2);\n",
"\n",
"disp('x=0.6  y3=');\n",
"x=0.6;\n",
"disp(eval(y3));\n",
"disp('f3=');\n",
"f3=float(eval(x-y3^2));\n",
"disp(f3);\n",
"//---------------------------------------------\n",
"disp('Using predictor method to find y4');\n",
"x=0.8;\n",
"y4=eval(yo+4/3*h*(2*f1-f2+2*f3));\n",
"disp('y4=');\n",
"disp(float(y4));\n",
"f4=float(eval(x-y^2));\n",
"disp('f4=');\n",
"disp(f4);\n",
"disp('Using predictor method to find y5');\n",
"x=1.0;\n",
"y5=eval(y1+4/3*h*(2*f2-f3+2*f4));\n",
"disp(float(y5));\n",
"f5=float(eval(x-y^2));\n",
"disp('f5=');\n",
"disp(f5);\n",
"disp('Hence y(1)=');\n",
"disp(float(y5));"
   ]
   }
,
{
		   "cell_type": "markdown",
		   "metadata": {},
		   "source": [
			"## Example 27.15: solving_ODE_using_runge_kutta_and_milnes_method.sce"
		   ]
		  },
  {
"cell_type": "code",
	   "execution_count": null,
	   "metadata": {
	    "collapsed": true
	   },
	   "outputs": [],
"source": [
"//ques15\n",
"clc\n",
"disp('Runga kutta method');\n",
"\n",
"function yy=f(x,y)\n",
"  yy=x*y+y^2;\n",
"endfunction\n",
"y0=1;\n",
"x=0;\n",
"y=1;\n",
"h=0.1;\n",
"k1=h*f(x,y);\n",
"k2=h*f(x+1/2*h,y+1/2*k1);\n",
"k3=h*f(x+1/2*h,y+1/2*k2);\n",
"k4=h*f(x+h,y+k3);\n",
"ka=1/6*(k1+2*k2+2*k3+k4);\n",
"disp('the required approximate value is :-');\n",
"y1=y+ka;\n",
"y=y+ka;\n",
"disp(y);\n",
"//x=0.1;\n",
"//y1=float(eval(y));\n",
"\n",
"disp('to find y(0.4) put x=0.2 y=above value ie 1.196 h=0.2 ');\n",
"x=0.1;\n",
"h=0.1;\n",
"k1=h*f(x,y);\n",
"k2=h*f(x+1/2*h,y+1/2*k1);\n",
"k3=h*f(x+1/2*h,y+1/2*k2);\n",
"k4=h*f(x+h,y+k3);\n",
"kb=1/6*(k1+2*k2+2*k3+k4);\n",
"disp('the required approximate value is :-');\n",
"y2=y+kb;\n",
"y=y+kb;\n",
"disp(y);\n",
"//x=0.2;\n",
"//y2=float(eval(y));\n",
"\n",
"disp('to find y(0.4) put x=0.2 y=above value ie 1.196 h=0.2 ');\n",
"x=0.2;\n",
"h=0.1;\n",
"k1=h*f(x,y);\n",
"k2=h*f(x+1/2*h,y+1/2*k1);\n",
"k3=h*f(x+1/2*h,y+1/2*k2);\n",
"k4=h*f(x+h,y+k3);\n",
"kc=1/6*(k1+2*k2+2*k3+k4);\n",
"disp('the required approximate value is :-');\n",
"y3=y+kc;\n",
"y=y+kc;\n",
"disp(y);\n",
"//x=0.3;\n",
"//y3=float(eval(y));\n",
"f0=f(0,y0);\n",
"f1=f(0.1,y1);\n",
"f2=f(0.2,y2);\n",
"f3=f(0.3,y3);\n",
"disp('y0 y1 y2 y3 are respectively : ');\n",
"disp(y3,y2,y1,y0);\n",
"disp('f0 f1 f2 f3 are respectively : ');\n",
"disp(f3 ,f2, f1 ,f0 );\n",
"disp('finding y4 using predictors milne method x=0.4');\n",
"h=0.1;\n",
"y4=y0+4*h/3*(2*f1-f2+2*f3);\n",
"disp('y4=');\n",
"disp(y4);\n",
"disp('f4=');\n",
"f4=f(0.4,y4);\n",
"\n",
"disp('using corrector method :');\n",
"y4=y2+h/3*(f2+4*f3+f4);\n",
"disp('y4=');\n",
"disp(y4);\n",
"disp('f4=');\n",
"f4=f(0.4,y4);\n",
"disp(f4);"
   ]
   }
,
{
		   "cell_type": "markdown",
		   "metadata": {},
		   "source": [
			"## Example 27.16: solving_ODE_using_adamsbashforth_method.sce"
		   ]
		  },
  {
"cell_type": "code",
	   "execution_count": null,
	   "metadata": {
	    "collapsed": true
	   },
	   "outputs": [],
"source": [
"//ques16\n",
"clc\n",
"function yy=f(x,y)\n",
"  yy=x^2*(1+y);\n",
"endfunction\n",
"\n",
"y3=1\n",
"y2=1.233\n",
"y1=1.548\n",
"y0=1.979\n",
"\n",
"f3=f(1,y3)\n",
"f2=f(1.1,y2)\n",
"f1=f(1.2,y1)\n",
"f0=f(1.3,y0)\n",
"disp('using predictor method');\n",
"h=0.1\n",
"y11=y0+h/24*(55*f0-59*f1+37*f2-9*f3)\n",
"disp('y11=');\n",
"disp(y11);\n",
"x=1.4;\n",
"f11=f(1.4,y11);\n",
"disp('using corrector method');\n",
"y11=y0+h/24*(9*f11+19*f0-5*f1+f2);\n",
"disp('y11=');\n",
"disp(y11);\n",
"f11=f(1.4,y11);\n",
"disp('f11=');\n",
"disp(f11);"
   ]
   }
,
{
		   "cell_type": "markdown",
		   "metadata": {},
		   "source": [
			"## Example 27.17: solving_ODE_using_runge_kutta_and_adams_method.sce"
		   ]
		  },
  {
"cell_type": "code",
	   "execution_count": null,
	   "metadata": {
	    "collapsed": true
	   },
	   "outputs": [],
"source": [
"//ques17\n",
"clc\n",
"disp('Runga kutta method');\n",
"\n",
"function yy=f(x,y)\n",
"  yy=x-y^2;\n",
"endfunction\n",
"y0=1;\n",
"x=0;\n",
"y=1;\n",
"h=0.1;\n",
"k1=h*f(x,y);\n",
"k2=h*f(x+1/2*h,y+1/2*k1);\n",
"k3=h*f(x+1/2*h,y+1/2*k2);\n",
"k4=h*f(x+h,y+k3);\n",
"ka=1/6*(k1+2*k2+2*k3+k4);\n",
"disp('the required approximate value is :-');\n",
"y1=y+ka;\n",
"y=y+ka;\n",
"disp(y);\n",
"//x=0.1;\n",
"//y1=float(eval(y));\n",
"\n",
"disp('to find y(0.4) put x=0.2 y=above value ie 1.196 h=0.2 ');\n",
"x=0.1;\n",
"h=0.1;\n",
"k1=h*f(x,y);\n",
"k2=h*f(x+1/2*h,y+1/2*k1);\n",
"k3=h*f(x+1/2*h,y+1/2*k2);\n",
"k4=h*f(x+h,y+k3);\n",
"kb=1/6*(k1+2*k2+2*k3+k4);\n",
"disp('the required approximate value is :-');\n",
"y2=y+kb;\n",
"y=y+kb;\n",
"disp(y);\n",
"//x=0.2;\n",
"//y2=float(eval(y));\n",
"\n",
"disp('to find y(0.4) put x=0.2 y=above value ie 1.196 h=0.2 ');\n",
"x=0.2;\n",
"h=0.1;\n",
"k1=h*f(x,y);\n",
"k2=h*f(x+1/2*h,y+1/2*k1);\n",
"k3=h*f(x+1/2*h,y+1/2*k2);\n",
"k4=h*f(x+h,y+k3);\n",
"kc=1/6*(k1+2*k2+2*k3+k4);\n",
"disp('the required approximate value is :-');\n",
"y3=y+kc;\n",
"y=y+kc;\n",
"disp(y);\n",
"//x=0.3;\n",
"//y3=float(eval(y));\n",
"f0=f(0,y0);\n",
"f1=f(0.1,y1);\n",
"f2=f(0.2,y2);\n",
"f3=f(0.3,y3);\n",
"disp('y0 y1 y2 y3 are respectively : ');\n",
"disp(y3,y2,y1,y0);\n",
"disp('f0 f1 f2 f3 are respectively : ');\n",
"disp(f3 ,f2, f1 ,f0 );\n",
"disp('Using adams method');\n",
"disp('Using the predictor ');\n",
"h=0.1;\n",
"y4=y3+h/24*(55*f3-59*f2+37*f1-9*f0);\n",
"x=0.4;\n",
"f4=f(0.4,y4);\n",
"disp('y4=');\n",
"disp(y4);\n",
"disp('using corrector method');\n",
"y4=y3+h/24*(9*f4+19*f3-5*f2+f1);\n",
"disp('y4=');\n",
"disp(y4);\n",
"f4=f(0.4,y4);\n",
"disp('f4=');\n",
"disp(f4);"
   ]
   }
,
{
		   "cell_type": "markdown",
		   "metadata": {},
		   "source": [
			"## Example 27.18: solving_simultanious_ODE_using_picards_method.sce"
		   ]
		  },
  {
"cell_type": "code",
	   "execution_count": null,
	   "metadata": {
	    "collapsed": true
	   },
	   "outputs": [],
"source": [
"//ques18\n",
"clc\n",
"disp('Picards method');\n",
"x0=0;\n",
"y0=2;\n",
"z0=1;\n",
"syms x\n",
"function yy=f(x,y,z)\n",
"  yy=x+z;\n",
"endfunction\n",
"\n",
"function yy=g(x,y,z)\n",
"  yy=x-y^2;\n",
"endfunction\n",
"disp('first approximation');\n",
"y1=y0+integ(f(x,y0,z0),x,x0,x);\n",
"disp('y1=');\n",
"disp(y1);\n",
"z1=z0+integ(g(x,y0,z0),x,x0,x);\n",
"disp('z1=');\n",
"disp(z1);\n",
"\n",
"disp('second approximation');\n",
"y2=y0+integ(f(x,y1,z1),x,x0,x);\n",
"disp('y2=');\n",
"disp(y2);\n",
"z2=z0+integ(g(x,y1,z1),x,x0,x);\n",
"disp('z2=');\n",
"disp(z2);\n",
"\n",
"disp('third approximation');\n",
"y3=y0+integ(f(x,y2,z2),x,x0,x);\n",
"disp('y3=');\n",
"disp(y3);\n",
"z3=z0+integ(g(x,y2,z2),x,x0,x);\n",
"disp('z3=');\n",
"disp(z3);\n",
"x=0.1;\n",
"disp('y(0.1)=');\n",
"disp(float(eval(y3)));\n",
"disp('z(0.1)=');\n",
"disp(float(eval(z3)));"
   ]
   }
,
{
		   "cell_type": "markdown",
		   "metadata": {},
		   "source": [
			"## Example 27.19: solving_ssecond_ODE_using_runge_kutta_method.sce"
		   ]
		  },
  {
"cell_type": "code",
	   "execution_count": null,
	   "metadata": {
	    "collapsed": true
	   },
	   "outputs": [],
"source": [
"//ques19\n",
"clc\n",
"syms x\n",
"function yy=f(x,y,z)\n",
"  yy=z;\n",
"endfunction\n",
"function yy=g(x,y,z)\n",
"  yy=x*y^2-y^2;\n",
"endfunction\n",
"x0=0;\n",
"y0=1;\n",
"z0=0;\n",
"h=0.2;\n",
"disp('using k1 k2.. for f and l1 l2...for g runga kutta formulae becomes ');\n",
"h=0.2;\n",
"k1=h*f(x0,y0,z0);\n",
"l1=h*g(x0,y0,z0);\n",
"k2=h*f(x0+1/2*h,y0+1/2*k1,z0+1/2*l1);\n",
"l2=h*g(x0+1/2*h,y0+1/2*k1,z0+1/2*l1);\n",
"k3=h*f(x0+1/2*h,y0+1/2*k2,z0+1/2*l2);\n",
"l3=h*g(x0+1/2*h,y0+1/2*k2,z0+1/2*l2);\n",
"k4=h*f(x0+h,y0+k3,z0+l3);\n",
"l4=h*g(x0+h,y0+k3,z0+l3);\n",
"k=1/6*(k1+2*k2+2*k3+k4);\n",
"l=1/6*(l1+2*l2+2*l3+2*l4);\n",
"//at x=0.2\n",
"x=0.2;\n",
"y=y0+k;\n",
"y1=z0+l;\n",
"disp('y=');\n",
"disp(float(y));\n",
"disp('y1=');\n",
"disp(float(y1));\n",
"\n",
"y"
   ]
   }
,
{
		   "cell_type": "markdown",
		   "metadata": {},
		   "source": [
			"## Example 27.1: solving_ODE_with_picards_method.sce"
		   ]
		  },
  {
"cell_type": "code",
	   "execution_count": null,
	   "metadata": {
	    "collapsed": true
	   },
	   "outputs": [],
"source": [
"//ques1\n",
"syms x \n",
"disp('solution through picards method');\n",
"n=input('The no of iterations required');\n",
"disp('y(0)=1 and y(x)=x+y');\n",
"yo=1;\n",
"yn=1;\n",
"for i = 1:n\n",
"  yn=yo+integ(yn+x,x,0,x);\n",
"end\n",
"disp('y=');\n",
"disp(yn);"
   ]
   }
,
{
		   "cell_type": "markdown",
		   "metadata": {},
		   "source": [
			"## Example 27.20: solving_ODE_using_milnes_method.sce"
		   ]
		  },
  {
"cell_type": "code",
	   "execution_count": null,
	   "metadata": {
	    "collapsed": true
	   },
	   "outputs": [],
"source": [
"//ques20\n",
"clc"
   ]
   }
,
{
		   "cell_type": "markdown",
		   "metadata": {},
		   "source": [
			"## Example 27.2: solving_ODE_with_picards_method.sce"
		   ]
		  },
  {
"cell_type": "code",
	   "execution_count": null,
	   "metadata": {
	    "collapsed": true
	   },
	   "outputs": [],
"source": [
"//error\n",
"//ques2\n",
"syms x \n",
"disp('solution through picards method');\n",
"n=input('The no of iterations required');\n",
"disp('y(0)=1 and y(x)=x+y');\n",
"yo=1;\n",
"y=1;\n",
"for i = 1:n\n",
" \n",
"  f=(y-x)/(y+x);\n",
"  y=yo+integ(f,x,0,x);\n",
"end\n",
"disp('y=');\n",
"x=0.1;\n",
"disp(eval(y));"
   ]
   }
,
{
		   "cell_type": "markdown",
		   "metadata": {},
		   "source": [
			"## Example 27.5: solving_ODE_using_Eulers_method.sce"
		   ]
		  },
  {
"cell_type": "code",
	   "execution_count": null,
	   "metadata": {
	    "collapsed": true
	   },
	   "outputs": [],
"source": [
"//ques5\n",
"clc\n",
"disp('Solution using Eulers Method ');\n",
"disp x y;\n",
"n=input('Input the number of iteration :-');\n",
"x=0;\n",
"y=1;\n",
"for i=1:n\n",
"  \n",
"y1=x+y;\n",
"y=y+0.1*y1;\n",
"x=x+0.1;\n",
"end\n",
"disp('The value of y is :-');\n",
"disp(y);"
   ]
   }
,
{
		   "cell_type": "markdown",
		   "metadata": {},
		   "source": [
			"## Example 27.6: solving_ODE_using_Eulers_method.sce"
		   ]
		  },
  {
"cell_type": "code",
	   "execution_count": null,
	   "metadata": {
	    "collapsed": true
	   },
	   "outputs": [],
"source": [
"//ques5\n",
"clc\n",
"disp('Solution using Eulers Method ');\n",
"disp x y;\n",
"n=input('Input the number of iteration :-');\n",
"x=0;\n",
"y=1;\n",
"for i=1:n\n",
"  \n",
"y1=(y-x)/(y+x);\n",
"y=y+0.02*y1;\n",
"x=x+0.1;\n",
"disp(y);\n",
"end\n",
"disp('The value of y is :-');\n",
"disp(y);"
   ]
   }
,
{
		   "cell_type": "markdown",
		   "metadata": {},
		   "source": [
			"## Example 27.7: solving_ODE_using_Modified_Eulers_method.sce"
		   ]
		  },
  {
"cell_type": "code",
	   "execution_count": null,
	   "metadata": {
	    "collapsed": true
	   },
	   "outputs": [],
"source": [
"//ques7\n",
"clc\n",
"disp('Solution using Eulers Method ');\n",
"disp x y;\n",
"n=input('Input the number of iteration :-');\n",
"x=0.1;\n",
"m=1;\n",
"y=1;\n",
"yn=1;\n",
"y1=1;\n",
"k=1;\n",
"for i=1:n\n",
"\n",
"yn=y;\n",
"\n",
"\n",
"  for i=1:4\n",
"  m=(k+y1)/2;\n",
"  yn=y+0.1*m;\n",
"  y1=(yn+x);\n",
"  disp(yn); \n",
"end\n",
"disp('-----------------------');\n",
"y=yn;\n",
"m=y1;\n",
"  yn=yn+0.1*m;\n",
"  disp(yn); \n",
"  x=x+0.1;\n",
"  yn=y;\n",
"  k=m;\n",
"end\n",
"disp('The value of y is :-');\n",
"disp(y);"
   ]
   }
,
{
		   "cell_type": "markdown",
		   "metadata": {},
		   "source": [
			"## Example 27.8: solving_ODE_using_Modified_Eulers_method.sce"
		   ]
		  },
  {
"cell_type": "code",
	   "execution_count": null,
	   "metadata": {
	    "collapsed": true
	   },
	   "outputs": [],
"source": [
"//ques7\n",
"clc\n",
"disp('Solution using Eulers Method ');\n",
"disp x y;\n",
"n=input('Input the number of iteration :-');\n",
"x=0.2;\n",
"m=0.301;\n",
"y=2;\n",
"yn=2;\n",
"y1=log10(2);\n",
"k=0.301;\n",
"for i=1:n\n",
"\n",
"yn=y;\n",
"\n",
"\n",
"  for i=1:4\n",
"  m=(k+y1)/2;\n",
"  yn=y+0.2*m;\n",
"  y1=log10(yn+x);\n",
"  disp(yn); \n",
"end\n",
"disp('-----------------------');\n",
"y=yn;\n",
"m=y1;\n",
"  yn=yn+0.2*m;\n",
"  disp(yn); \n",
"  x=x+0.2;\n",
"  yn=y;\n",
"  k=m;\n",
"end\n",
"disp('The value of y is :-');\n",
"disp(y);"
   ]
   }
,
{
		   "cell_type": "markdown",
		   "metadata": {},
		   "source": [
			"## Example 27.9: solving_ODE_using_Modified_Eulers_method.sce"
		   ]
		  },
  {
"cell_type": "code",
	   "execution_count": null,
	   "metadata": {
	    "collapsed": true
	   },
	   "outputs": [],
"source": [
"//ques7\n",
"clc\n",
"disp('Solution using Eulers Method ');\n",
"disp x y;\n",
"n=input('Input the number of iteration :-');\n",
"x=0.2;\n",
"m=1;\n",
"y=1;\n",
"yn=1;\n",
"y1=1;\n",
"k=1;\n",
"for i=1:n\n",
"\n",
"yn=y;\n",
"\n",
"\n",
"  for i=1:4\n",
"  m=(k+y1)/2;\n",
"  yn=y+0.2*m;\n",
"  y1=(sqrt(yn)+x);\n",
"  disp(yn); \n",
"end\n",
"disp('-----------------------');\n",
"y=yn;\n",
"m=y1;\n",
"  yn=yn+0.2*m;\n",
"  disp(yn); \n",
"  x=x+0.2;\n",
"  yn=y;\n",
"  k=m;\n",
"end\n",
"disp('The value of y is :-');\n",
"disp(y);"
   ]
   }
],
"metadata": {
		  "kernelspec": {
		   "display_name": "Scilab",
		   "language": "scilab",
		   "name": "scilab"
		  },
		  "language_info": {
		   "file_extension": ".sce",
		   "help_links": [
			{
			 "text": "MetaKernel Magics",
			 "url": "https://github.com/calysto/metakernel/blob/master/metakernel/magics/README.md"
			}
		   ],
		   "mimetype": "text/x-octave",
		   "name": "scilab",
		   "version": "0.7.1"
		  }
		 },
		 "nbformat": 4,
		 "nbformat_minor": 0
}
