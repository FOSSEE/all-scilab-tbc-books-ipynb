{
"cells": [
 {
		   "cell_type": "markdown",
	   "metadata": {},
	   "source": [
       "# Chapter 26: Difference Equations and Z Transform"
	   ]
	},
{
		   "cell_type": "markdown",
		   "metadata": {},
		   "source": [
			"## Example 26.10: solving_difference_equation.sce"
		   ]
		  },
  {
"cell_type": "code",
	   "execution_count": null,
	   "metadata": {
	    "collapsed": true
	   },
	   "outputs": [],
"source": [
"//ques10\n",
"clc\n",
"syms  c1 c2 c3 n\n",
"disp('Cumulative function is given by E^2-4    =0 ');\n",
"E=poly(0,'E');\n",
"f=E^2-4;\n",
"r=roots(f);\n",
"disp(r);\n",
"disp('There for the complete solution is = cf + pi');\n",
"cf=(c1+c2*n)*r(1)^n;\n",
"disp('CF=');\n",
"disp(cf);\n",
"//particular integral calulation manually\n",
"disp('PI = 1/(E^2-4)[n^2+n-1]');\n",
"disp('We get PI=-n^2/3-7/9*n-17/27');\n",
"pi=-n^2/3-7/9*n-17/27;\n",
"un=cf+pi;\n",
"disp('un=');\n",
"disp(un);\n",
"\n",
""
   ]
   }
,
{
		   "cell_type": "markdown",
		   "metadata": {},
		   "source": [
			"## Example 26.11: solving_difference_equation.sce"
		   ]
		  },
  {
"cell_type": "code",
	   "execution_count": null,
	   "metadata": {
	    "collapsed": true
	   },
	   "outputs": [],
"source": [
"//ques11\n",
"clc\n",
"syms  c1 c2 c3 n\n",
"disp('Cumulative function is given by E^2-2*E+1    =0 ');\n",
"E=poly(0,'E');\n",
"f=E^2+2*E-1;\n",
"r=roots(f);\n",
"disp(r);\n",
"disp('There for the complete solution is = cf + pi');\n",
"cf=(c1+c2*n)*r(1)^n;\n",
"disp('CF=');\n",
"disp(cf);\n",
"//particular integral calulation manually\n",
"disp('PI = 1/(E-1)^2[n^2*2^n]');\n",
"disp('We get PI=2^n*(n^2-8*n+20');\n",
"pi=2^n*(n^2-8*n+20);\n",
"un=cf+pi;\n",
"disp('un=');\n",
"disp(un);\n",
"\n",
""
   ]
   }
,
{
		   "cell_type": "markdown",
		   "metadata": {},
		   "source": [
			"## Example 26.12: solving_simultanious_difference_equation.sce"
		   ]
		  },
  {
"cell_type": "code",
	   "execution_count": null,
	   "metadata": {
	    "collapsed": true
	   },
	   "outputs": [],
"source": [
"//ques12\n",
"clc\n",
"disp('simplified equations are :');\n",
"disp('(E-3)ux+vx=x.....(i) 3ux+(E-5)*vx=4^x......(ii) ');\n",
"disp('Simplifying we get (E^2-8E+12)ux=1-4x-4^x ');\n",
"syms  c1 c2 c3 x\n",
"disp('Cumulative function is given by E^2-8*E+12    =0 ');\n",
"E=poly(0,'E');\n",
"f=E^2-8*E+12;\n",
"r=roots(f);\n",
"disp(r);\n",
"disp('There for the complete solution is = cf + pi');\n",
"cf=c1*r(1)^x+c2*r(2)^x;\n",
"disp('CF=');\n",
"disp(cf);\n",
"//particular integral calulation manually\n",
"disp('solving for PI ');\n",
"disp('We get PI=');\n",
"pi=-4/5*x-19/25+4^x/4;\n",
"ux=cf+pi;\n",
"disp('ux=');\n",
"disp(ux);\n",
"disp('Putting in (i) we get vx=');\n",
"vx=c1*2^x-3*c2*6^x-3/5*x-34/25-4^x/4;\n",
"disp(vx);"
   ]
   }
,
{
		   "cell_type": "markdown",
		   "metadata": {},
		   "source": [
			"## Example 26.15_2: Z_transform.sce"
		   ]
		  },
  {
"cell_type": "code",
	   "execution_count": null,
	   "metadata": {
	    "collapsed": true
	   },
	   "outputs": [],
"source": [
"//ques15(ii)\n",
"syms n z\n",
"y=z^(-n);\n",
"f=symsum(y,n,0,%inf);\n",
"disp(f);"
   ]
   }
,
{
		   "cell_type": "markdown",
		   "metadata": {},
		   "source": [
			"## Example 26.16: evaluating_u2_and_u3.sce"
		   ]
		  },
  {
"cell_type": "code",
	   "execution_count": null,
	   "metadata": {
	    "collapsed": true
	   },
	   "outputs": [],
"source": [
"//ques16\n",
"syms z\n",
"//f=(2/z^2+5/z^3+14/z^4)/(1-1/z)^4\n",
"f=(2/z^2+5/z+14)/(1/z-1)^4\n",
"u0=limit(f,z,0);\n",
"u1=limit(1/z*(f-u0),z,0);\n",
"u2=limit(1/z^2*(f-u0-u1*z),z,0);\n",
"disp('u2=');\n",
"disp(u2);\n",
"u3=limit(1/z^3*(f-u0-u1*z-u2*z^2),z,0);\n",
"disp('u3=');\n",
"disp(u3);"
   ]
   }
,
{
		   "cell_type": "markdown",
		   "metadata": {},
		   "source": [
			"## Example 26.2: finding_difference_equation.sce"
		   ]
		  },
  {
"cell_type": "code",
	   "execution_count": null,
	   "metadata": {
	    "collapsed": true
	   },
	   "outputs": [],
"source": [
"//ques2\n",
"syms n a b yn0 yn1 yn2 \n",
"yn=a*2^n+b*(-2)^n;\n",
"disp('yn=');\n",
"disp(yn);\n",
"n=n+1;\n",
"yn=eval(yn);\n",
"disp('y(n+1)=yn1=');\n",
"disp(yn);\n",
"n=n+1;\n",
"yn=eval(yn);\n",
"disp('y(n+2)=yn2=');\n",
"disp(yn);\n",
"disp('Eliminating a b fropm these equations we get : ');\n",
"A=[yn0 1 1;yn1 2 -2;yn2 4 4]\n",
"y=det(A);\n",
"disp('The required difference equation :');\n",
"disp(y);\n",
"disp('=0');"
   ]
   }
,
{
		   "cell_type": "markdown",
		   "metadata": {},
		   "source": [
			"## Example 26.3: solving_difference_equation.sce"
		   ]
		  },
  {
"cell_type": "code",
	   "execution_count": null,
	   "metadata": {
	    "collapsed": true
	   },
	   "outputs": [],
"source": [
"//ques3\n",
"syms  c1 c2 c3\n",
"disp('Cumulative function is given by E^3-2*E^2-5*E+6    =0 ');\n",
"E=poly(0,'E');\n",
"f=E^3-2*E^2-5*E+6;\n",
"r=roots(f);\n",
"disp(r);\n",
"disp('There for the complete solution is :');\n",
"un=c1*(r(1))^n+c2*(r(2))^n+c3*(r(3))^n;\n",
"disp('un=');\n",
"disp(un);\n",
""
   ]
   }
,
{
		   "cell_type": "markdown",
		   "metadata": {},
		   "source": [
			"## Example 26.4: solving_difference_equation.sce"
		   ]
		  },
  {
"cell_type": "code",
	   "execution_count": null,
	   "metadata": {
	    "collapsed": true
	   },
	   "outputs": [],
"source": [
"//ques4\n",
"syms  c1 c2 c3 n\n",
"disp('Cumulative function is given by E^2-2*E+1    =0 ');\n",
"E=poly(0,'E');\n",
"f=E^2-2*E+1;\n",
"r=roots(f);\n",
"disp(r);\n",
"disp('There for the complete solution is :');\n",
"un=(c1+c2*n)*(r(1))^n;\n",
"disp('un=');\n",
"disp(un);\n",
""
   ]
   }
,
{
		   "cell_type": "markdown",
		   "metadata": {},
		   "source": [
			"## Example 26.6: firming_fibonacci_difference_equation.sce"
		   ]
		  },
  {
"cell_type": "code",
	   "execution_count": null,
	   "metadata": {
	    "collapsed": true
	   },
	   "outputs": [],
"source": [
"//ques6\n",
"syms  c1 c2 c3 n\n",
"disp('For Fibonacci Series yn2=yn1+yn0');\n",
"disp('so Cumulative function is given by E^2-E-1    =0 ');\n",
"E=poly(0,'E');\n",
"f=E^2-E-1;\n",
"r=roots(f);\n",
"disp(r);\n",
"disp('There for the complete solution is :');\n",
"un=(c1)*(r(1))^n+c2*(r(2))^n;\n",
"disp('un=');\n",
"disp(un);\n",
"disp('Now puttting n=1, y=0 and n=2 , y=1 we get');\n",
"disp('c1=(5-sqrt(5))/10  c2=(5+sqrt(5))/10 ');\n",
"c1=(5-sqrt(5))/10;\n",
"c2=(5+sqrt(5))/10;\n",
"un=eval(un);\n",
"disp(un);\n",
"\n",
"\n",
"\n",
""
   ]
   }
,
{
		   "cell_type": "markdown",
		   "metadata": {},
		   "source": [
			"## Example 26.7: solving_difference_equation.sce"
		   ]
		  },
  {
"cell_type": "code",
	   "execution_count": null,
	   "metadata": {
	    "collapsed": true
	   },
	   "outputs": [],
"source": [
"//ques4\n",
"syms  c1 c2 c3 n\n",
"disp('Cumulative function is given by E^2-4*E+3    =0 ');\n",
"E=poly(0,'E');\n",
"f=E^2-4*E+3;\n",
"r=roots(f);\n",
"disp(r);\n",
"disp('There for the complete solution is = cf + pi');\n",
"cf=c1*(r(1))^n+c2*r(2)^n;\n",
"disp('CF=');\n",
"disp(cf);\n",
"disp('PI = 1/(E^2-4E+3)[5^n]');\n",
"disp('put E=5');\n",
"disp('We get PI=5^n/8');\n",
"pi=5^n/8;\n",
"un=cf+pi;\n",
"disp('un=');\n",
"disp(un);\n",
"\n",
""
   ]
   }
,
{
		   "cell_type": "markdown",
		   "metadata": {},
		   "source": [
			"## Example 26.8: solving_difference_equation.sce"
		   ]
		  },
  {
"cell_type": "code",
	   "execution_count": null,
	   "metadata": {
	    "collapsed": true
	   },
	   "outputs": [],
"source": [
"//ques4\n",
"syms  c1 c2 c3 n\n",
"disp('Cumulative function is given by E^2-4*E+4    =0 ');\n",
"E=poly(0,'E');\n",
"f=E^2-4*E+4;\n",
"r=roots(f);\n",
"disp(r);\n",
"disp('There for the complete solution is = cf + pi');\n",
"cf=(c1+c2*n)*r(1)^n;\n",
"disp('CF=');\n",
"disp(cf);\n",
"disp('PI = 1/(E^2-4E+4)[2^n]');\n",
"disp('We get PI=n*(n-1)/2*2^(n-2)');\n",
"pi=n*(n-1)/factorial(2)*2^(n-2);\n",
"un=cf+pi;\n",
"disp('un=');\n",
"disp(un);\n",
"\n",
""
   ]
   }
],
"metadata": {
		  "kernelspec": {
		   "display_name": "Scilab",
		   "language": "scilab",
		   "name": "scilab"
		  },
		  "language_info": {
		   "file_extension": ".sce",
		   "help_links": [
			{
			 "text": "MetaKernel Magics",
			 "url": "https://github.com/calysto/metakernel/blob/master/metakernel/magics/README.md"
			}
		   ],
		   "mimetype": "text/x-octave",
		   "name": "scilab",
		   "version": "0.7.1"
		  }
		 },
		 "nbformat": 4,
		 "nbformat_minor": 0
}
