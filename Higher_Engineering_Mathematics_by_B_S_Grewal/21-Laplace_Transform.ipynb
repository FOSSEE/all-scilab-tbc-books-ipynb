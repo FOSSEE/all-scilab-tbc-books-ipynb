{
"cells": [
 {
		   "cell_type": "markdown",
	   "metadata": {},
	   "source": [
       "# Chapter 21: Laplace Transform"
	   ]
	},
{
		   "cell_type": "markdown",
		   "metadata": {},
		   "source": [
			"## Example 21.10_1: finding_laplace_transform.sce"
		   ]
		  },
  {
"cell_type": "code",
	   "execution_count": null,
	   "metadata": {
	    "collapsed": true
	   },
	   "outputs": [],
"source": [
"//ques10(i)\n",
"clc\n",
"disp('To find the the given integral find the laplace of tsin(t) and put s=2 ');\n",
"syms t s m\n",
"f=sin(t)*t;\n",
"\n",
"l=laplace(f,t,s)\n",
"s=2\n",
"\n",
"disp(eval(l));"
   ]
   }
,
{
		   "cell_type": "markdown",
		   "metadata": {},
		   "source": [
			"## Example 21.10_3: finding_laplace_transform.sce"
		   ]
		  },
  {
"cell_type": "code",
	   "execution_count": null,
	   "metadata": {
	    "collapsed": true
	   },
	   "outputs": [],
"source": [
"//error\n",
"//ques10\n",
"clc\n",
"disp('To find the laplace of given function in t ');\n",
"syms t s a b\n",
"f=integ(exp(t)*sin(t)/t,t,0,t);\n",
"\n",
"l=laplace(f,t,s)\n",
"disp(l);"
   ]
   }
,
{
		   "cell_type": "markdown",
		   "metadata": {},
		   "source": [
			"## Example 21.11_1: finding_inverse_laplace_transform.sce"
		   ]
		  },
  {
"cell_type": "code",
	   "execution_count": null,
	   "metadata": {
	    "collapsed": true
	   },
	   "outputs": [],
"source": [
"//ques11\n",
"disp('To find the inverse laplace transform of the function');\n",
"syms s t\n",
"f=(s^2-3*s+4)/s^3;\n",
"il=ilaplace(f,s,t);\n",
"disp(il);"
   ]
   }
,
{
		   "cell_type": "markdown",
		   "metadata": {},
		   "source": [
			"## Example 21.11_2: finding_inverse_laplace_transform.sce"
		   ]
		  },
  {
"cell_type": "code",
	   "execution_count": null,
	   "metadata": {
	    "collapsed": true
	   },
	   "outputs": [],
"source": [
"//ques11\n",
"disp('To find the inverse laplace transform of the function');\n",
"syms s t\n",
"f=(s+2)/(2*s^2-4*s+13));\n",
"il=ilaplace(f,s,t);\n",
"disp(il);"
   ]
   }
,
{
		   "cell_type": "markdown",
		   "metadata": {},
		   "source": [
			"## Example 21.1_1: finding_laplace_transform.sce"
		   ]
		  },
  {
"cell_type": "code",
	   "execution_count": null,
	   "metadata": {
	    "collapsed": true
	   },
	   "outputs": [],
"source": [
"//ques1(i)\n",
"disp('To find the laplace of given function in t ');\n",
"syms t s\n",
"disp(laplace(sin(2*t)*sin(3*t),t,s));"
   ]
   }
,
{
		   "cell_type": "markdown",
		   "metadata": {},
		   "source": [
			"## Example 21.12_1: finding_inverse_laplace_transform.sce"
		   ]
		  },
  {
"cell_type": "code",
	   "execution_count": null,
	   "metadata": {
	    "collapsed": true
	   },
	   "outputs": [],
"source": [
"//ques11\n",
"disp('To find the inverse laplace transform of the function');\n",
"syms s t\n",
"f=((2*s^2-6*s+5)/(s^3-6*s^2+11*s-6);\n",
"il=ilaplace(f,s,t);\n",
"disp(il);"
   ]
   }
,
{
		   "cell_type": "markdown",
		   "metadata": {},
		   "source": [
			"## Example 21.12_3: finding_inverse_laplace_transform.sce"
		   ]
		  },
  {
"cell_type": "code",
	   "execution_count": null,
	   "metadata": {
	    "collapsed": true
	   },
	   "outputs": [],
"source": [
"//ques11\n",
"disp('To find the inverse laplace transform of the function');\n",
"syms s t\n",
"f=(4*s+5)/((s-1)^2*(s+2));\n",
"il=ilaplace(f,s,t);\n",
"disp(il);"
   ]
   }
,
{
		   "cell_type": "markdown",
		   "metadata": {},
		   "source": [
			"## Example 21.1_2: finding_laplace_transform.sce"
		   ]
		  },
  {
"cell_type": "code",
	   "execution_count": null,
	   "metadata": {
	    "collapsed": true
	   },
	   "outputs": [],
"source": [
"//ques1(ii)\n",
"disp('To find the laplace of given function in t ');\n",
"syms t s\n",
"disp(laplace((cos(t))^2,t,s));"
   ]
   }
,
{
		   "cell_type": "markdown",
		   "metadata": {},
		   "source": [
			"## Example 21.13_1: finding_inverse_laplace_transform.sce"
		   ]
		  },
  {
"cell_type": "code",
	   "execution_count": null,
	   "metadata": {
	    "collapsed": true
	   },
	   "outputs": [],
"source": [
"//ques11\n",
"disp('To find the inverse laplace transform of the function');\n",
"syms s t\n",
"f=(5*s+3)/((s-1)*(s^2+2*s+5));\n",
"il=ilaplace(f,s,t);\n",
"disp(il);"
   ]
   }
,
{
		   "cell_type": "markdown",
		   "metadata": {},
		   "source": [
			"## Example 21.13_2: finding_inverse_laplace_transform.sce"
		   ]
		  },
  {
"cell_type": "code",
	   "execution_count": null,
	   "metadata": {
	    "collapsed": true
	   },
	   "outputs": [],
"source": [
"//error no output\n",
"//ques11\n",
"\n",
"disp('To find the inverse laplace transform of the function');\n",
"syms s t a\n",
"f=s/(s^4+4*a^4);\n",
"il=ilaplace(f,s,t);\n",
"disp(il);"
   ]
   }
,
{
		   "cell_type": "markdown",
		   "metadata": {},
		   "source": [
			"## Example 21.1_3: finding_laplace_transform.sce"
		   ]
		  },
  {
"cell_type": "code",
	   "execution_count": null,
	   "metadata": {
	    "collapsed": true
	   },
	   "outputs": [],
"source": [
"//ques1(ii)\n",
"disp('To find the laplace of given function in t ');\n",
"syms t s\n",
"disp(laplace((sin(t))^3,t,s));"
   ]
   }
,
{
		   "cell_type": "markdown",
		   "metadata": {},
		   "source": [
			"## Example 21.14_1: finding_inverse_laplace_transform.sce"
		   ]
		  },
  {
"cell_type": "code",
	   "execution_count": null,
	   "metadata": {
	    "collapsed": true
	   },
	   "outputs": [],
"source": [
"\n",
"//ques14\n",
"disp('To find the inverse laplace transform of the function');\n",
"syms s t a\n",
"f=s^2/(s-2)^3;\n",
"il=ilaplace(f,s,t);\n",
"disp(il);\n",
""
   ]
   }
,
{
		   "cell_type": "markdown",
		   "metadata": {},
		   "source": [
			"## Example 21.14_2: finding_inverse_laplace_transform.sce"
		   ]
		  },
  {
"cell_type": "code",
	   "execution_count": null,
	   "metadata": {
	    "collapsed": true
	   },
	   "outputs": [],
"source": [
"\n",
"//ques14\n",
"disp('To find the inverse laplace transform of the function');\n",
"syms s t a\n",
"f=(s+3)/((s^2-4*s+13));\n",
"il=ilaplace(f,s,t);\n",
"disp(il);\n",
""
   ]
   }
,
{
		   "cell_type": "markdown",
		   "metadata": {},
		   "source": [
			"## Example 21.15_1: finding_inverse_laplace_transform.sce"
		   ]
		  },
  {
"cell_type": "code",
	   "execution_count": null,
	   "metadata": {
	    "collapsed": true
	   },
	   "outputs": [],
"source": [
"//no outp\n",
"//ques15\n",
"disp('To find the inverse laplace transform of the function');\n",
"syms s t a\n",
"f=1/(s*(s^2+a^2));\n",
"il=ilaplace(f,s,t);\n",
"disp(il);\n",
""
   ]
   }
,
{
		   "cell_type": "markdown",
		   "metadata": {},
		   "source": [
			"## Example 21.15_2: finding_inverse_laplace_transform.sce"
		   ]
		  },
  {
"cell_type": "code",
	   "execution_count": null,
	   "metadata": {
	    "collapsed": true
	   },
	   "outputs": [],
"source": [
"\n",
"//ques15\n",
"disp('To find the inverse laplace transform of the function');\n",
"syms s t a\n",
"f=1/(s*(s+a)^3);\n",
"il=ilaplace(f,s,t);\n",
"disp(il);\n",
""
   ]
   }
,
{
		   "cell_type": "markdown",
		   "metadata": {},
		   "source": [
			"## Example 21.16_1: finding_inverse_laplace_transform.sce"
		   ]
		  },
  {
"cell_type": "code",
	   "execution_count": null,
	   "metadata": {
	    "collapsed": true
	   },
	   "outputs": [],
"source": [
"//no outp\n",
"//ques15\n",
"disp('To find the inverse laplace transform of the function');\n",
"syms s t a\n",
"f=s/((s^2+a^2)^2);\n",
"il=ilaplace(f,s,t);\n",
"disp(il);\n",
""
   ]
   }
,
{
		   "cell_type": "markdown",
		   "metadata": {},
		   "source": [
			"## Example 21.16_2: finding_inverse_laplace_transform.sce"
		   ]
		  },
  {
"cell_type": "code",
	   "execution_count": null,
	   "metadata": {
	    "collapsed": true
	   },
	   "outputs": [],
"source": [
"//no output\n",
"//ques15\n",
"disp('To find the inverse laplace transform of the function');\n",
"syms s t a\n",
"f=s^2/((s^2+a^2)^2);\n",
"il=ilaplace(f,s,t);\n",
"disp(il);\n",
""
   ]
   }
,
{
		   "cell_type": "markdown",
		   "metadata": {},
		   "source": [
			"## Example 21.16_3: finding_inverse_laplace_transform.sce"
		   ]
		  },
  {
"cell_type": "code",
	   "execution_count": null,
	   "metadata": {
	    "collapsed": true
	   },
	   "outputs": [],
"source": [
"//no output\n",
"//ques15\n",
"disp('To find the inverse laplace transform of the function');\n",
"syms s t a\n",
"\n",
"f=1/((s^2+a^2)^2);\n",
"il=ilaplace(f,s,t);\n",
"disp(il);\n",
""
   ]
   }
,
{
		   "cell_type": "markdown",
		   "metadata": {},
		   "source": [
			"## Example 21.17_1: finding_inverse_laplace_transform.sce"
		   ]
		  },
  {
"cell_type": "code",
	   "execution_count": null,
	   "metadata": {
	    "collapsed": true
	   },
	   "outputs": [],
"source": [
"//no output\n",
"//ques15\n",
"disp('To find the inverse laplace transform of the function');\n",
"syms s t a\n",
"\n",
"f=(s+2)/(s^2*(s+1)*(s-2));\n",
"il=ilaplace(f,s,t);\n",
"disp(il);\n",
""
   ]
   }
,
{
		   "cell_type": "markdown",
		   "metadata": {},
		   "source": [
			"## Example 21.17_2: finding_inverse_laplace_transform.sce"
		   ]
		  },
  {
"cell_type": "code",
	   "execution_count": null,
	   "metadata": {
	    "collapsed": true
	   },
	   "outputs": [],
"source": [
"//no output\n",
"//ques15\n",
"disp('To find the inverse laplace transform of the function');\n",
"syms s t a\n",
"\n",
"f=(s+2)/(s^2+4*s+5)^2;\n",
"il=ilaplace(f,s,t);\n",
"disp(il);\n",
""
   ]
   }
,
{
		   "cell_type": "markdown",
		   "metadata": {},
		   "source": [
			"## Example 21.19_1: finding_inverse_laplace_transform.sce"
		   ]
		  },
  {
"cell_type": "code",
	   "execution_count": null,
	   "metadata": {
	    "collapsed": true
	   },
	   "outputs": [],
"source": [
"//error no output\n",
"//ques18\n",
"disp('To find the inverse laplace transform of the function');\n",
"syms s t a\n",
"\n",
"f=s/(s^2+a^2)^2;\n",
"il=ilaplace(f,s,t);\n",
"disp(il);\n",
""
   ]
   }
,
{
		   "cell_type": "markdown",
		   "metadata": {},
		   "source": [
			"## Example 21.19_2: finding_inverse_laplace_transform.sce"
		   ]
		  },
  {
"cell_type": "code",
	   "execution_count": null,
	   "metadata": {
	    "collapsed": true
	   },
	   "outputs": [],
"source": [
"//error no output\n",
"//ques18\n",
"disp('To find the inverse laplace transform of the function');\n",
"syms s t a b\n",
"\n",
"f=s^2/((s^2+a^2)*(s^2+b^2));\n",
"il=ilaplace(f,s,t);\n",
"disp(il);\n",
""
   ]
   }
,
{
		   "cell_type": "markdown",
		   "metadata": {},
		   "source": [
			"## Example 21.2_1: finding_laplace_transform.sce"
		   ]
		  },
  {
"cell_type": "code",
	   "execution_count": null,
	   "metadata": {
	    "collapsed": true
	   },
	   "outputs": [],
"source": [
"//ques1(ii)\n",
"disp('To find the laplace of given function in t ');\n",
"syms t s\n",
"f=exp(-3*t)*(2*cos(5*t)-3*sin(5*t));\n",
"disp(laplace(f,t,s));"
   ]
   }
,
{
		   "cell_type": "markdown",
		   "metadata": {},
		   "source": [
			"## Example 21.2_2: finding_laplace_transform.sce"
		   ]
		  },
  {
"cell_type": "code",
	   "execution_count": null,
	   "metadata": {
	    "collapsed": true
	   },
	   "outputs": [],
"source": [
"//ques1(ii)\n",
"clc\n",
"disp('To find the laplace of given function in t ');\n",
"syms t s\n",
"f=exp(3*t)*(sin(t))^2;\n",
"disp(laplace(f,t,s));"
   ]
   }
,
{
		   "cell_type": "markdown",
		   "metadata": {},
		   "source": [
			"## Example 21.2_3: finding_laplace_transform.sce"
		   ]
		  },
  {
"cell_type": "code",
	   "execution_count": null,
	   "metadata": {
	    "collapsed": true
	   },
	   "outputs": [],
"source": [
"//ques1(ii)\n",
"clc\n",
"disp('To find the laplace of given function in t ');\n",
"syms t s\n",
"f=exp(4*t)*(cos(t)*sin(2*t));\n",
"disp(laplace(f,t,s));"
   ]
   }
,
{
		   "cell_type": "markdown",
		   "metadata": {},
		   "source": [
			"## Example 21.28_1: finding_laplace_transform.sce"
		   ]
		  },
  {
"cell_type": "code",
	   "execution_count": null,
	   "metadata": {
	    "collapsed": true
	   },
	   "outputs": [],
"source": [
"//ques28\n",
"syms s t\n",
"f=integ(exp(-s*t)*(t-1),t,1,2)+integ(exp(-s*t)*(3-t),t,2,3);\n",
"disp('Laplace of given function is');\n",
"disp(f);\n",
""
   ]
   }
,
{
		   "cell_type": "markdown",
		   "metadata": {},
		   "source": [
			"## Example 21.28_2: finding_laplace_transform.sce"
		   ]
		  },
  {
"cell_type": "code",
	   "execution_count": null,
	   "metadata": {
	    "collapsed": true
	   },
	   "outputs": [],
"source": [
"//ques28\n",
"syms s t\n",
"f=integ(exp(-s*t)*exp(-t),t,0,2);\n",
"disp('Laplace of given function is');\n",
"disp(f);\n",
""
   ]
   }
,
{
		   "cell_type": "markdown",
		   "metadata": {},
		   "source": [
			"## Example 21.34: finding_laplace_transform.sce"
		   ]
		  },
  {
"cell_type": "code",
	   "execution_count": null,
	   "metadata": {
	    "collapsed": true
	   },
	   "outputs": [],
"source": [
"//error no output\n",
"//ques34\n",
"disp('to find the laplace transform of periodic function ');\n",
"syms w t s\n",
"f=1/(1-exp(-2*%pi*s/w))*integ(exp(-1*s*t)*sin(w*t),t,0,%pi/w);\n",
"disp(f)"
   ]
   }
,
{
		   "cell_type": "markdown",
		   "metadata": {},
		   "source": [
			"## Example 21.4_1: finding_laplace_transform.sce"
		   ]
		  },
  {
"cell_type": "code",
	   "execution_count": null,
	   "metadata": {
	    "collapsed": true
	   },
	   "outputs": [],
"source": [
"//ques1(ii)\n",
"clc\n",
"disp('To find the laplace of given function in t ');\n",
"syms t s a\n",
"f=t*sin(a*t);\n",
"disp(laplace(f,t,s));"
   ]
   }
,
{
		   "cell_type": "markdown",
		   "metadata": {},
		   "source": [
			"## Example 21.4_2: finding_laplace_transform.sce"
		   ]
		  },
  {
"cell_type": "code",
	   "execution_count": null,
	   "metadata": {
	    "collapsed": true
	   },
	   "outputs": [],
"source": [
"//ques4(ii)\n",
"clc\n",
"disp('To find the laplace of given function in t ');\n",
"syms t s a\n",
"f=t*cos(a*t);\n",
"l=laplace(f,t,s);\n",
"disp(l);"
   ]
   }
,
{
		   "cell_type": "markdown",
		   "metadata": {},
		   "source": [
			"## Example 21.5: finding_laplace_transform.sce"
		   ]
		  },
  {
"cell_type": "code",
	   "execution_count": null,
	   "metadata": {
	    "collapsed": true
	   },
	   "outputs": [],
"source": [
"//error\n",
"//ques5\n",
"clc\n",
"syms t  s u\n",
"f=integ(exp(-s*t)*t/u,t,0,u)+integ(exp(-s*t),t,u,%inf);\n",
"disp(f);"
   ]
   }
,
{
		   "cell_type": "markdown",
		   "metadata": {},
		   "source": [
			"## Example 21.7: finding_laplace_transform.sce"
		   ]
		  },
  {
"cell_type": "code",
	   "execution_count": null,
	   "metadata": {
	    "collapsed": true
	   },
	   "outputs": [],
"source": [
"//ques7\n",
"clc\n",
"disp('To find the laplace of given function in t ');\n",
"syms t s a\n",
"f=sin(a*t)/t;\n",
"disp(laplace(f,t,s));"
   ]
   }
,
{
		   "cell_type": "markdown",
		   "metadata": {},
		   "source": [
			"## Example 21.8_1: finding_laplace_transform.sce"
		   ]
		  },
  {
"cell_type": "code",
	   "execution_count": null,
	   "metadata": {
	    "collapsed": true
	   },
	   "outputs": [],
"source": [
"//ques7\n",
"clc\n",
"disp('To find the laplace of given function in t ');\n",
"syms t s a\n",
"f=t*cos(a*t);\n",
"disp(laplace(f,t,s));"
   ]
   }
,
{
		   "cell_type": "markdown",
		   "metadata": {},
		   "source": [
			"## Example 21.8_2: finding_laplace_transform.sce"
		   ]
		  },
  {
"cell_type": "code",
	   "execution_count": null,
	   "metadata": {
	    "collapsed": true
	   },
	   "outputs": [],
"source": [
"//ques7\n",
"clc\n",
"disp('To find the laplace of given function in t ');\n",
"syms t s a\n",
"f=t^2*sin(a*t);\n",
"disp(laplace(f,t,s));"
   ]
   }
,
{
		   "cell_type": "markdown",
		   "metadata": {},
		   "source": [
			"## Example 21.8_3: finding_laplace_transform.sce"
		   ]
		  },
  {
"cell_type": "code",
	   "execution_count": null,
	   "metadata": {
	    "collapsed": true
	   },
	   "outputs": [],
"source": [
"//ques7\n",
"clc\n",
"disp('To find the laplace of given function in t ');\n",
"syms t s a\n",
"f=exp(-3*t)*t^3;\n",
"l=laplace(f,t,s)\n",
"disp(l);"
   ]
   }
,
{
		   "cell_type": "markdown",
		   "metadata": {},
		   "source": [
			"## Example 21.8_4: finding_laplace_transform.sce"
		   ]
		  },
  {
"cell_type": "code",
	   "execution_count": null,
	   "metadata": {
	    "collapsed": true
	   },
	   "outputs": [],
"source": [
"//ques7\n",
"clc\n",
"disp('To find the laplace of given function in t ');\n",
"syms t s a\n",
"f=exp(-t)*t*sin(3*t);\n",
"l=laplace(f,t,s)\n",
"disp(l);"
   ]
   }
,
{
		   "cell_type": "markdown",
		   "metadata": {},
		   "source": [
			"## Example 21.9_1: finding_laplace_transform.sce"
		   ]
		  },
  {
"cell_type": "code",
	   "execution_count": null,
	   "metadata": {
	    "collapsed": true
	   },
	   "outputs": [],
"source": [
"//error\n",
"//ques7\n",
"clc\n",
"disp('To find the laplace of given function in t ');\n",
"syms t s a\n",
"f=(1-exp(t))/t;\n",
"\n",
"l=laplace(f,t,s)\n",
"disp(l);"
   ]
   }
,
{
		   "cell_type": "markdown",
		   "metadata": {},
		   "source": [
			"## Example 21.9_2: finding_laplace_transform.sce"
		   ]
		  },
  {
"cell_type": "code",
	   "execution_count": null,
	   "metadata": {
	    "collapsed": true
	   },
	   "outputs": [],
"source": [
"//ques9\n",
"clc\n",
"disp('To find the laplace of given function in t ');\n",
"syms t s a b\n",
"f=(cos(a*t)-cos(b*t))/t;\n",
"\n",
"l=laplace(f,t,s)\n",
"disp(l);"
   ]
   }
],
"metadata": {
		  "kernelspec": {
		   "display_name": "Scilab",
		   "language": "scilab",
		   "name": "scilab"
		  },
		  "language_info": {
		   "file_extension": ".sce",
		   "help_links": [
			{
			 "text": "MetaKernel Magics",
			 "url": "https://github.com/calysto/metakernel/blob/master/metakernel/magics/README.md"
			}
		   ],
		   "mimetype": "text/x-octave",
		   "name": "scilab",
		   "version": "0.7.1"
		  }
		 },
		 "nbformat": 4,
		 "nbformat_minor": 0
}
