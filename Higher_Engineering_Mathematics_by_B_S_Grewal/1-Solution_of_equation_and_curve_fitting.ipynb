{
"cells": [
 {
		   "cell_type": "markdown",
	   "metadata": {},
	   "source": [
       "# Chapter 1: Solution of equation and curve fitting"
	   ]
	},
{
		   "cell_type": "markdown",
		   "metadata": {},
		   "source": [
			"## Example 1.11: forming_an_equation_with_known_roots.sce"
		   ]
		  },
  {
"cell_type": "code",
	   "execution_count": null,
	   "metadata": {
	    "collapsed": true
	   },
	   "outputs": [],
"source": [
"clear\n",
"clc\n",
"x=poly([0],'x');\n",
"x1=poly([0],'x1');\n",
"x2=poly([0],'x2');\n",
"x3=poly([0],'x3');\n",
"p=x^3-3*(x^2)+1\n",
"disp('the roots of above equation are ')\n",
"roots(p)\n",
"disp('let ')\n",
"x1=0.6527036  \n",
"x2=-0.5320889  \n",
"x3=2.8793852 \n",
"disp('so the equation whose roots are cube of the roots of above equation is (x-x1^3)*(x-x2^3)*(x-x3^3)=0 => ')\n",
"p1=(x-x1^3)*(x-x2^3)*(x-x3^3)"
   ]
   }
,
{
		   "cell_type": "markdown",
		   "metadata": {},
		   "source": [
			"## Example 1.12: forming_an_equation_under_restricted_conditions.sce"
		   ]
		  },
  {
"cell_type": "code",
	   "execution_count": null,
	   "metadata": {
	    "collapsed": true
	   },
	   "outputs": [],
"source": [
"clear\n",
"clc\n",
"x=poly([0],'x');\n",
"x1=poly([0],'x1');\n",
"x2=poly([0],'x2');\n",
"x3=poly([0],'x3');\n",
"x4=poly([0],'x4');\n",
"x5=poly([0],'x5');\n",
"x6=poly([0],'x6');\n",
"p=x^3-6*(x^2)+5*x+8\n",
"disp('the roots of above equation are ')\n",
"roots(p)\n",
"disp('let ')\n",
"x1=-0.7784571  \n",
"x2=2.2891685  \n",
"x3=4.4892886  \n",
"disp(' now, since we want equation whose sum of roots is 0.sum of roots of above equation is 6,so we will decrease')\n",
"disp('value of each root by 2 i.e. x4=x1-2 ')\n",
"x4=x1-2  \n",
"disp('x5=x2-2') \n",
"x5=x2-2  \n",
"disp('x6=x3-2')\n",
"x6=x3-2\n",
"disp('hence,the required equation is (x-x4)*(x-x5)*(x-x6)=0 -->')\n",
"p1=(x-x4)*(x-x5)*(x-x6)"
   ]
   }
,
{
		   "cell_type": "markdown",
		   "metadata": {},
		   "source": [
			"## Example 1.13: finding_the_roots_of_equation_containing_one_variable.sce"
		   ]
		  },
  {
"cell_type": "code",
	   "execution_count": null,
	   "metadata": {
	    "collapsed": true
	   },
	   "outputs": [],
"source": [
"clear\n",
"clc\n",
"x=poly([0],'x');\n",
"p=6*(x^5)-41*(x^4)+97*(x^3)-97*(x^2)+41*x-6\n",
"disp('the roots of above equation are ')\n",
"roots(p)"
   ]
   }
,
{
		   "cell_type": "markdown",
		   "metadata": {},
		   "source": [
			"## Example 1.14: finding_the_roots_of_equation_containing_one_variable.sce"
		   ]
		  },
  {
"cell_type": "code",
	   "execution_count": null,
	   "metadata": {
	    "collapsed": true
	   },
	   "outputs": [],
"source": [
"clear\n",
"clc\n",
"x=poly([0],'x');\n",
"p=6*(x^6)-25*(x^5)+31*(x^4)-31*(x^2)+25*x-6\n",
"disp('the roots of above equation are ')\n",
"roots(p)"
   ]
   }
,
{
		   "cell_type": "markdown",
		   "metadata": {},
		   "source": [
			"## Example 1.15: finding_the_roots_of_equation_containing_one_variable.sce"
		   ]
		  },
  {
"cell_type": "code",
	   "execution_count": null,
	   "metadata": {
	    "collapsed": true
	   },
	   "outputs": [],
"source": [
"clear\n",
"clc\n",
"x=poly([0],'x');\n",
"p=x^3-3*(x^2)+12*x+16\n",
"disp('the roots of above equation are ')\n",
"roots(p)"
   ]
   }
,
{
		   "cell_type": "markdown",
		   "metadata": {},
		   "source": [
			"## Example 1.16: finding_the_roots_of_equation_containing_one_variable.sce"
		   ]
		  },
  {
"cell_type": "code",
	   "execution_count": null,
	   "metadata": {
	    "collapsed": true
	   },
	   "outputs": [],
"source": [
"clear\n",
"clc\n",
"x=poly([0],'x');\n",
"p=28*(x^3)-9*(x^2)+1\n",
"disp('the roots of above equation are ')\n",
"roots(p)"
   ]
   }
,
{
		   "cell_type": "markdown",
		   "metadata": {},
		   "source": [
			"## Example 1.17: finding_the_roots_of_equation_containing_one_variable.sce"
		   ]
		  },
  {
"cell_type": "code",
	   "execution_count": null,
	   "metadata": {
	    "collapsed": true
	   },
	   "outputs": [],
"source": [
"clear\n",
"clc\n",
"x=poly([0],'x');\n",
"p=x^3+x^2-16*x+20\n",
"disp('the roots of above equation are ')\n",
"roots(p)"
   ]
   }
,
{
		   "cell_type": "markdown",
		   "metadata": {},
		   "source": [
			"## Example 1.18: Finding_the_roots_of_equation_containing_one_variable.sce"
		   ]
		  },
  {
"cell_type": "code",
	   "execution_count": null,
	   "metadata": {
	    "collapsed": true
	   },
	   "outputs": [],
"source": [
"clear\n",
"clc\n",
"x=poly([0],'x');\n",
"p=x^3-3*(x^2)+3\n",
"disp('the roots of above equation are ')\n",
"roots(p)"
   ]
   }
,
{
		   "cell_type": "markdown",
		   "metadata": {},
		   "source": [
			"## Example 1.19: Finding_the_roots_of_equation_containing_one_variable.sce"
		   ]
		  },
  {
"cell_type": "code",
	   "execution_count": null,
	   "metadata": {
	    "collapsed": true
	   },
	   "outputs": [],
"source": [
"clear\n",
"clc\n",
"x=poly([0],'x');\n",
"p=x^4-12*(x^3)+41*(x^2)-18*x-72\n",
"disp('the roots of above equation are ')\n",
"roots(p)"
   ]
   }
,
{
		   "cell_type": "markdown",
		   "metadata": {},
		   "source": [
			"## Example 1.1: finding_the_roots_of_quadratic_equations.sce"
		   ]
		  },
  {
"cell_type": "code",
	   "execution_count": null,
	   "metadata": {
	    "collapsed": true
	   },
	   "outputs": [],
"source": [
"clear\n",
"clc\n",
"x=poly([0],'x');\n",
"p=2*(x^3)+x^2-13*x+6\n",
"disp('the roots of above equation are ')\n",
"roots(p)"
   ]
   }
,
{
		   "cell_type": "markdown",
		   "metadata": {},
		   "source": [
			"## Example 1.20: Finding_the_roots_of_equation_containing_one_variable.sce"
		   ]
		  },
  {
"cell_type": "code",
	   "execution_count": null,
	   "metadata": {
	    "collapsed": true
	   },
	   "outputs": [],
"source": [
"clear\n",
"clc\n",
"x=poly([0],'x');\n",
"p=x^4-2*(x^3)-5*(x^2)+10*x-3\n",
"disp('the roots of above equation are ')\n",
"roots(p)"
   ]
   }
,
{
		   "cell_type": "markdown",
		   "metadata": {},
		   "source": [
			"## Example 1.21: Finding_the_roots_of_equation_containing_one_variable.sce"
		   ]
		  },
  {
"cell_type": "code",
	   "execution_count": null,
	   "metadata": {
	    "collapsed": true
	   },
	   "outputs": [],
"source": [
"clear\n",
"clc\n",
"x=poly([0],'x');\n",
"p=x^4-8*(x^2)-24*x+7\n",
"disp('the roots of above equation are ')\n",
"roots(p)"
   ]
   }
,
{
		   "cell_type": "markdown",
		   "metadata": {},
		   "source": [
			"## Example 1.22: Finding_the_roots_of_equation_containing_one_variable.sce"
		   ]
		  },
  {
"cell_type": "code",
	   "execution_count": null,
	   "metadata": {
	    "collapsed": true
	   },
	   "outputs": [],
"source": [
"clear\n",
"clc\n",
"x=poly([0],'x');\n",
"p=x^4-6*(x^3)-3*(x^2)+22*x-6\n",
"disp('the roots of above equation are ')\n",
"roots(p)"
   ]
   }
,
{
		   "cell_type": "markdown",
		   "metadata": {},
		   "source": [
			"## Example 1.23: Finding_the_solution_of_equation_by_drawing_graphs.sce"
		   ]
		  },
  {
"cell_type": "code",
	   "execution_count": null,
	   "metadata": {
	    "collapsed": true
	   },
	   "outputs": [],
"source": [
"clear\n",
"clc\n",
"xset('window',1)\n",
"xtitle('My Graph','X axis','Y axis')\n",
"x=linspace(1,3,30)\n",
"y1=3-x\n",
"y2=%e^(x-1)\n",
"plot(x,y1,'o-') \n",
"plot(x,y2,'+-')\n",
"legend('3-x','%e^(x-1)')\n",
"disp('from the graph,it is clear that the point of intersection is nearly x=1.43 ')"
   ]
   }
,
{
		   "cell_type": "markdown",
		   "metadata": {},
		   "source": [
			"## Example 1.24: Finding_the_solution_of_equation_by_drawing_graphs.sce"
		   ]
		  },
  {
"cell_type": "code",
	   "execution_count": null,
	   "metadata": {
	    "collapsed": true
	   },
	   "outputs": [],
"source": [
"clear\n",
"clc\n",
"xset('window',2)\n",
"xtitle('My Graph','X axis','Y axis')\n",
"x=linspace(1,3,30)\n",
"y1=x\n",
"y2=sin(x)+%pi/2\n",
"plot(x,y1,'o-') \n",
"plot(x,y2,'+-')\n",
"legend('x','sin(x)+%pi/2')\n",
"disp('from the graph,it is clear that the point of intersection is nearly x=2.3 ')"
   ]
   }
,
{
		   "cell_type": "markdown",
		   "metadata": {},
		   "source": [
			"## Example 1.25: Finding_the_solution_of_equation_by_drawing_graphs.sce"
		   ]
		  },
  {
"cell_type": "code",
	   "execution_count": null,
	   "metadata": {
	    "collapsed": true
	   },
	   "outputs": [],
"source": [
"clear\n",
"clc\n",
"xset('window',3)\n",
"xtitle('My Graph','X axis','Y axis')\n",
"x=linspace(0,3,30)\n",
"y1=-sec(x)\n",
"y2=cosh(x)\n",
"plot(x,y1,'o-') \n",
"plot(x,y2,'+-')\n",
"legend('-sec(x)','cosh(x)')\n",
"disp('from the graph,it is clear that the point of intersection is nearly x=2.3 ')"
   ]
   }
,
{
		   "cell_type": "markdown",
		   "metadata": {},
		   "source": [
			"## Example 1.2: finding_the_roots_of_equation_containing_one_variable.sce"
		   ]
		  },
  {
"cell_type": "code",
	   "execution_count": null,
	   "metadata": {
	    "collapsed": true
	   },
	   "outputs": [],
"source": [
"clear\n",
"clc\n",
"x=poly([0],'x');\n",
"p=3*(x^3)-4*(x^2)+x+88\n",
"disp('the roots of above equation are ')\n",
"roots(p)"
   ]
   }
,
{
		   "cell_type": "markdown",
		   "metadata": {},
		   "source": [
			"## Example 1.3: finding_the_roots_of_equation_containing_one_variable.sce"
		   ]
		  },
  {
"cell_type": "code",
	   "execution_count": null,
	   "metadata": {
	    "collapsed": true
	   },
	   "outputs": [],
"source": [
"clear\n",
"clc\n",
"x=poly([0],'x');\n",
"p=x^3-7*(x^2)+36\n",
"disp('the roots of above equation are ')\n",
"roots(p)"
   ]
   }
,
{
		   "cell_type": "markdown",
		   "metadata": {},
		   "source": [
			"## Example 1.6: finding_the_roots_of_equation_containing_one_variable.sce"
		   ]
		  },
  {
"cell_type": "code",
	   "execution_count": null,
	   "metadata": {
	    "collapsed": true
	   },
	   "outputs": [],
"source": [
"clear\n",
"clc\n",
"x=poly([0],'x');\n",
"p=x^4-2*(x^3)-21*(x^2)+22*x+40\n",
"disp('the roots of above equation are ')\n",
"roots(p)"
   ]
   }
,
{
		   "cell_type": "markdown",
		   "metadata": {},
		   "source": [
			"## Example 1.7: finding_the_roots_of_equation_containing_one_variable.sce"
		   ]
		  },
  {
"cell_type": "code",
	   "execution_count": null,
	   "metadata": {
	    "collapsed": true
	   },
	   "outputs": [],
"source": [
"clear\n",
"clc\n",
"x=poly([0],'x');\n",
"p=2*(x^4)-15*(x^3)+35*(x^2)-30*x+8\n",
"disp('the roots of above equation are ')\n",
"roots(p)"
   ]
   }
],
"metadata": {
		  "kernelspec": {
		   "display_name": "Scilab",
		   "language": "scilab",
		   "name": "scilab"
		  },
		  "language_info": {
		   "file_extension": ".sce",
		   "help_links": [
			{
			 "text": "MetaKernel Magics",
			 "url": "https://github.com/calysto/metakernel/blob/master/metakernel/magics/README.md"
			}
		   ],
		   "mimetype": "text/x-octave",
		   "name": "scilab",
		   "version": "0.7.1"
		  }
		 },
		 "nbformat": 4,
		 "nbformat_minor": 0
}
