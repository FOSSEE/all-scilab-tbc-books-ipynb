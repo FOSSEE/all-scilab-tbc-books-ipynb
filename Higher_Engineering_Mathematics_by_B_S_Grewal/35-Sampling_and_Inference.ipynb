{
"cells": [
 {
		   "cell_type": "markdown",
	   "metadata": {},
	   "source": [
       "# Chapter 35: Sampling and Inference"
	   ]
	},
{
		   "cell_type": "markdown",
		   "metadata": {},
		   "source": [
			"## Example 34.15: Standard_deviation_of_a_sample.sce"
		   ]
		  },
  {
"cell_type": "code",
	   "execution_count": null,
	   "metadata": {
	    "collapsed": true
	   },
	   "outputs": [],
"source": [
"clear\n",
"clc\n",
"n=11\n",
"disp('the first row denotes the boy no. ')\n",
"A(1,:)=[1 2 3 4 5 6 7 8 9 10 11];\n",
"disp('the second row denotes the marks in test I (x1) ')\n",
"A(2,:)=[23 20 19 21 18 20 18 17 23 16 19];\n",
"disp('the third row denotes the marks in test I (x2) ')\n",
"A(3,:)=[24 19 22 18 20 22 20 20 23 20 17];\n",
"disp('the fourth row denotes the difference of marks in two tests (d)')\n",
"for i=1:11\n",
"  A(4,i)=A(3,i)-A(2,i);\n",
"end\n",
"disp('the fifth row denotes the  (d-1) ')\n",
"for i=1:11\n",
"  A(5,i)=A(4,i)-1;\n",
"end\n",
"disp('the sixth row denotes the square of elements of fourth row')\n",
"for i=1:11\n",
"  A(6,i)=A(4,i)^2;\n",
"end\n",
"A\n",
"a=0;\n",
"disp('the sum of elements of fourth row= ')\n",
"for i=1:11\n",
"  a=a+A(4,i);\n",
"end\n",
"a\n",
"b=0;\n",
"disp('the sum of elements of sixth row= ')\n",
"for i=1:11\n",
"  b=b+A(6,i);\n",
"end\n",
"b\n",
"disp('standard deviation')\n",
"d=(b/(n-1))^0.5\n",
"t=(1-0)*(n)^0.5/2.24"
   ]
   }
,
{
		   "cell_type": "markdown",
		   "metadata": {},
		   "source": [
			"## Example 35.10: calculating_SE_of_difference_of_mean_hieghts.sce"
		   ]
		  },
  {
"cell_type": "code",
	   "execution_count": null,
	   "metadata": {
	    "collapsed": true
	   },
	   "outputs": [],
"source": [
"clc\n",
"disp('m1,d1 and n1 denotes mean,deviation and no. of objects in first sample')\n",
"m1=67.85\n",
"d1=2.56\n",
"n1=6400\n",
"disp('m2,d2 and n2 denotes mean,deviation and no. of objects in second sample')\n",
"m2=68.55\n",
"d2=2.52\n",
"n2=1600\n",
"disp('S.E. of the difference of the mean heights is ')\n",
"e=((d1^2/n1)+(d2^2/n2))^0.5\n",
"m1-m2\n",
"disp('|m1-m2| > 10e,this is highly significant.hence,the data indicates that the sailors are on the average taller than the soldiers.')"
   ]
   }
,
{
		   "cell_type": "markdown",
		   "metadata": {},
		   "source": [
			"## Example 35.12: Mean_and_standard_deviation_of_a_given_sample.sce"
		   ]
		  },
  {
"cell_type": "code",
	   "execution_count": null,
	   "metadata": {
	    "collapsed": true
	   },
	   "outputs": [],
"source": [
"clear\n",
"clc\n",
"n=9\n",
"disp('first of row denotes the different values of sample ')\n",
"A(1,:)=[45 47 50 52 48 47 49 53 51];\n",
"disp('the second row denotes the corresponding deviation ')\n",
"for i=1:9\n",
"  A(2,i)=A(1,i)-48;\n",
"end\n",
"disp('the third row denotes the corresponding square of deviation')\n",
"for i=1:9\n",
"  A(3,i)=A(2,i)^2;\n",
"end\n",
"disp('the sum of second row elements =')\n",
"a=0;\n",
"for i=1:9\n",
"  a=a+A(2,i);\n",
"end\n",
"a\n",
"disp('the sum of third row elements ')\n",
"b=0;\n",
"for i=1:9\n",
"  b=b+A(3,i);\n",
"end\n",
"b\n",
"disp('let m be the mean ')\n",
"m=48+a/n\n",
"disp('let d be the standard deviation ')\n",
"d=((b/n)-(a/n)^2)^0.5\n",
"t=(m-47.5)*(n-1)^0.5/d"
   ]
   }
,
{
		   "cell_type": "markdown",
		   "metadata": {},
		   "source": [
			"## Example 35.13: Mean_and_standard_deviation_of_a_given_sample.sce"
		   ]
		  },
  {
"cell_type": "code",
	   "execution_count": null,
	   "metadata": {
	    "collapsed": true
	   },
	   "outputs": [],
"source": [
"clc\n",
"disp('d and n represents the deviation and no. of objects in given sample')\n",
"n=10\n",
"d=0.04\n",
"m=0.742\n",
"M=0.700\n",
"disp('taking the hypothesis that the product is not inferior i.e. there is no significant differene between m and M')\n",
"t=(m-M)*(n-1)^0.5/d\n",
"disp('degrees of freedom=')\n",
"f=n-1"
   ]
   }
,
{
		   "cell_type": "markdown",
		   "metadata": {},
		   "source": [
			"## Example 35.1: calculating_the_SD_of_given_sample.sce"
		   ]
		  },
  {
"cell_type": "code",
	   "execution_count": null,
	   "metadata": {
	    "collapsed": true
	   },
	   "outputs": [],
"source": [
"clc\n",
"disp('suppose the coin is unbiased ')\n",
"disp('then probability of getting the head in a toss=1/2')\n",
"disp('then,expected no. of successes=a=1/2*400 ')\n",
"a=1/2*400 \n",
"disp('observed no. of successes =216')\n",
"b=216\n",
"disp('the excess of observed value over expected value=')\n",
"b-a\n",
"disp('S.D. of simple sampling = (n*p*q)^0.5=c')\n",
"c=(400*0.5*0.5)^0.5\n",
"disp('hence,z=(b-a)/c=')\n",
"(b-a)/c\n",
"disp('as z<1.96,the hypothesis is accepted at  5% level of significance')"
   ]
   }
,
{
		   "cell_type": "markdown",
		   "metadata": {},
		   "source": [
			"## Example 35.2: Calculating_SD_of_sample.sce"
		   ]
		  },
  {
"cell_type": "code",
	   "execution_count": null,
	   "metadata": {
	    "collapsed": true
	   },
	   "outputs": [],
"source": [
"clc\n",
"disp('suppose the die is unbiased ')\n",
"disp('then probability of getting 5 or 6 with one die=1/3')\n",
"disp('then,expected no. of successes=a=1/3*9000 ')\n",
"a=1/3*9000 \n",
"disp('observed no. of successes =3240')\n",
"b=3240\n",
"disp('the excess of observed value over expected value=')\n",
"b-a\n",
"disp('S.D. of simple sampling = (n*p*q)^0.5=c')\n",
"c=(9000*(1/3)*(2/3))^0.5\n",
"disp('hence,z=(b-a)/c=')\n",
"(b-a)/c\n",
"disp('as z>2.58,the hypothesis has to be rejected  at  1% level of significance')"
   ]
   }
,
{
		   "cell_type": "markdown",
		   "metadata": {},
		   "source": [
			"## Example 35.3: Analysis_of_sample.sce"
		   ]
		  },
  {
"cell_type": "code",
	   "execution_count": null,
	   "metadata": {
	    "collapsed": true
	   },
	   "outputs": [],
"source": [
"clc\n",
"p=206/840\n",
"disp('q=1-p')\n",
"q=1-p\n",
"n=840\n",
"disp('standard error of the population of families having a monthly income of rs. 250 or less=(p*q/n)^0.5=')\n",
"(p*q/n)^0.5\n",
"disp('hence taking 103/420 to be the estimate of families having a monthly income of rs. 250 or less,the limits are 20% and 29%  approximately')"
   ]
   }
,
{
		   "cell_type": "markdown",
		   "metadata": {},
		   "source": [
			"## Example 35.4: Analysis_of_sample.sce"
		   ]
		  },
  {
"cell_type": "code",
	   "execution_count": null,
	   "metadata": {
	    "collapsed": true
	   },
	   "outputs": [],
"source": [
"clear\n",
"clc\n",
"n1=900\n",
"n2=1600\n",
"p1=20/100\n",
"p2=18.5/100\n",
"disp('p=(n1*p1+n2*p2)/(n1+n2) ')\n",
"p=(n1*p1+n2*p2)/(n1+n2)\n",
"disp('q=1-p')\n",
"q=1-p\n",
"disp('e=(p*q*(1/n1+1/n2))^0.5 ')\n",
"e=(p*q*((1/n1)+(1/n2)))^0.5\n",
"z=(p1-p2)/e\n",
"disp('as z<1,the difference between the proportions is not significant.')"
   ]
   }
,
{
		   "cell_type": "markdown",
		   "metadata": {},
		   "source": [
			"## Example 35.5: Checking_whether_real_difference_will_be_hidden.sce"
		   ]
		  },
  {
"cell_type": "code",
	   "execution_count": null,
	   "metadata": {
	    "collapsed": true
	   },
	   "outputs": [],
"source": [
"clear\n",
"clc\n",
"p1=0.3\n",
"p2=0.25\n",
"disp('q1=1-p1')\n",
"q1=1-p1\n",
"disp('q2=1-p2')\n",
"q2=1-p2\n",
"n1=1200\n",
"n2=900\n",
"disp('e=((p1*q1/n1)+(p2*q2/n2))^0.5 ')\n",
"e=((p1*q1/n1)+(p2*q2/n2))^0.5\n",
"z=(p1-p2)/e\n",
"disp('hence,it is likely that real difference will be hidden.')"
   ]
   }
,
{
		   "cell_type": "markdown",
		   "metadata": {},
		   "source": [
			"## Example 35.6: Checking_whether_given_sample_can_be_regarded_as_a_random_sample.sce"
		   ]
		  },
  {
"cell_type": "code",
	   "execution_count": null,
	   "metadata": {
	    "collapsed": true
	   },
	   "outputs": [],
"source": [
"clear\n",
"clc\n",
"disp('m and n represents mean and number of objects in sample respectively')\n",
"m=3.4\n",
"n=900\n",
"M=3.25\n",
"d=1.61\n",
"disp('z=(m-M)/(d/(n^0.5)')\n",
"z=(m-M)/(d/(n^0.5))\n",
"disp('as z>1.96,it cannot be regarded as a random sample ')"
   ]
   }
,
{
		   "cell_type": "markdown",
		   "metadata": {},
		   "source": [
			"## Example 35.9: Checking_whethet_samples_can_be_regarded_as_taken_from_the_same_population.sce"
		   ]
		  },
  {
"cell_type": "code",
	   "execution_count": null,
	   "metadata": {
	    "collapsed": true
	   },
	   "outputs": [],
"source": [
"clc\n",
"disp('m1 and n1 represents mean and no. of objects in sample 1')\n",
"disp('m2 and n2 represents mean and no. of objects in sample 2')\n",
"m1=67.5\n",
"m2=68\n",
"n1=1000\n",
"n2=2000\n",
"d=2.5\n",
"disp('on the hypothesis that the samples are drawn from the same population of d=2.5,we get ')\n",
"z=(m1-m2)/(d*((1/n1)+(1/n2))^0.5)\n",
"disp('since |z|> 1.96,thus samples cannot be regarded as drawn from the same population ')"
   ]
   }
],
"metadata": {
		  "kernelspec": {
		   "display_name": "Scilab",
		   "language": "scilab",
		   "name": "scilab"
		  },
		  "language_info": {
		   "file_extension": ".sce",
		   "help_links": [
			{
			 "text": "MetaKernel Magics",
			 "url": "https://github.com/calysto/metakernel/blob/master/metakernel/magics/README.md"
			}
		   ],
		   "mimetype": "text/x-octave",
		   "name": "scilab",
		   "version": "0.7.1"
		  }
		 },
		 "nbformat": 4,
		 "nbformat_minor": 0
}
