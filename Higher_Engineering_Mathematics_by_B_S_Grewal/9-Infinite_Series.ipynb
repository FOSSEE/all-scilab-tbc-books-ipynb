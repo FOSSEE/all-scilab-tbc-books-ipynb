{
"cells": [
 {
		   "cell_type": "markdown",
	   "metadata": {},
	   "source": [
       "# Chapter 9: Infinite Series"
	   ]
	},
{
		   "cell_type": "markdown",
		   "metadata": {},
		   "source": [
			"## Example 9.10_1: to_find_the_limit_at_infinity.sce"
		   ]
		  },
  {
"cell_type": "code",
	   "execution_count": null,
	   "metadata": {
	    "collapsed": true
	   },
	   "outputs": [],
"source": [
"clc\n",
"syms x n;\n",
"u=1/(1+x^(-n));\n",
"v=1/(1+x^(-n-1));        \n",
"disp(limit(u/v,n,0));"
   ]
   }
,
{
		   "cell_type": "markdown",
		   "metadata": {},
		   "source": [
			"## Example 9.10_2: to_find_the_limit_at_infinity.sce"
		   ]
		  },
  {
"cell_type": "code",
	   "execution_count": null,
	   "metadata": {
	    "collapsed": true
	   },
	   "outputs": [],
"source": [
"clc\n",
"syms a b n;\n",
"l=(b+1/n)/(a+1/n)\n",
"disp(limit(l,n,0));\n",
""
   ]
   }
,
{
		   "cell_type": "markdown",
		   "metadata": {},
		   "source": [
			"## Example 9.11_1: to_find_the_limit_at_infinity.sce"
		   ]
		  },
  {
"cell_type": "code",
	   "execution_count": null,
	   "metadata": {
	    "collapsed": true
	   },
	   "outputs": [],
"source": [
"clc\n",
"syms x n;\n",
"disp('u=((4.7....(3n+1))*x^n)/(1.2.....n)')\n",
"disp('v=((4.7....(3n+4)*x^(n+1))/(1.2.....(n+1))')\n",
"disp('l=u/v=>')\n",
"l=(1+n)/((3+4*n)*x)\n",
"disp(limit(l,n,0))"
   ]
   }
,
{
		   "cell_type": "markdown",
		   "metadata": {},
		   "source": [
			"## Example 9.11_2: to_find_the_limit_at_infinity.sce"
		   ]
		  },
  {
"cell_type": "code",
	   "execution_count": null,
	   "metadata": {
	    "collapsed": true
	   },
	   "outputs": [],
"source": [
"clc\n",
"syms x n;\n",
"u=(((factorial(n))^2)*x^(2*n))/factorial(2*n)\n",
"v=(((factorial(n+1))^2)*x^(2*(n+1)))/factorial(2*(n+1))\n",
"limit(u/v,n,%inf)"
   ]
   }
,
{
		   "cell_type": "markdown",
		   "metadata": {},
		   "source": [
			"## Example 9.1_3: to_find_the_limit_at_infinity.sce"
		   ]
		  },
  {
"cell_type": "code",
	   "execution_count": null,
	   "metadata": {
	    "collapsed": true
	   },
	   "outputs": [],
"source": [
"clc\n",
"syms n;\n",
"f=3+(-1)^n\n",
"limit(f,n,%inf)"
   ]
   }
,
{
		   "cell_type": "markdown",
		   "metadata": {},
		   "source": [
			"## Example 9.1: to_find_the_limit_at_infinity.sce"
		   ]
		  },
  {
"cell_type": "code",
	   "execution_count": null,
	   "metadata": {
	    "collapsed": true
	   },
	   "outputs": [],
"source": [
"clc\n",
"syms n;\n",
"f=((1/n)^2-2*(1/n))/(3*(1/n)^2+(1/n))\n",
"disp(limit(f,n,0));"
   ]
   }
,
{
		   "cell_type": "markdown",
		   "metadata": {},
		   "source": [
			"## Example 9.2_1: to_find_the_sum_of_series_upto_infinity.sce"
		   ]
		  },
  {
"cell_type": "code",
	   "execution_count": null,
	   "metadata": {
	    "collapsed": true
	   },
	   "outputs": [],
"source": [
"clc\n",
"syms n\n",
"disp('1+2+3+4+5+6+7+....+n+.....=')\n",
"p=1/n*(1/n+1)/2\n",
"disp(limit(p,n,0));"
   ]
   }
,
{
		   "cell_type": "markdown",
		   "metadata": {},
		   "source": [
			"## Example 9.2_2: to_check_for_the_type_of_series.sce"
		   ]
		  },
  {
"cell_type": "code",
	   "execution_count": null,
	   "metadata": {
	    "collapsed": true
	   },
	   "outputs": [],
"source": [
"clc\n",
"disp('5-4-1+5-4-1+5-4-1+5-4-1+.........=0,5,1 according to the no. of terms.')\n",
"disp('clearly,in this case sum doesnt tend to a unique limit.hence,series is oscillatory.')"
   ]
   }
,
{
		   "cell_type": "markdown",
		   "metadata": {},
		   "source": [
			"## Example 9.5_1: to_check_the_type_of_infinite_series.sce"
		   ]
		  },
  {
"cell_type": "code",
	   "execution_count": null,
	   "metadata": {
	    "collapsed": true
	   },
	   "outputs": [],
"source": [
"clc\n",
"syms n;\n",
"v=1/((1/n)^2)\n",
"u=(2/n-1)/(1/n*(1/n+1)*(1/n+2))\n",
"disp(limit(u/v,n,0));\n",
"disp('both u and v converge and diverge together,hence u is convergent')"
   ]
   }
,
{
		   "cell_type": "markdown",
		   "metadata": {},
		   "source": [
			"## Example 9.5_2: to_check_the_type_of_infinite_series.sce"
		   ]
		  },
  {
"cell_type": "code",
	   "execution_count": null,
	   "metadata": {
	    "collapsed": true
	   },
	   "outputs": [],
"source": [
"clc\n",
"syms n;\n",
"v=n\n",
"u=((1/n)^2)/((3/n+1)*(3/n+4)*(3/n+7))\n",
"disp(limit(u/v,n,0));\n",
"disp('both u and v converge and diverge together,hence u is divergent')"
   ]
   }
,
{
		   "cell_type": "markdown",
		   "metadata": {},
		   "source": [
			"## Example 9.7_1: to_check_the_type_of_infinite_series.sce"
		   ]
		  },
  {
"cell_type": "code",
	   "execution_count": null,
	   "metadata": {
	    "collapsed": true
	   },
	   "outputs": [],
"source": [
"clc\n",
"syms n\n",
"disp('u=((n+1)^0.5-1)/((n+2)^3-1)=>')\n",
"//put n=1/n\n",
"u=((1+1/(1/n))-(1/n)^(-0.5))/(((1/n)^5/2)*((1+2/(1/n))^3-(1/n)^(-3)))\n",
"v=(1/n)^(-5/2)\n",
"disp(limit(u/v,n,0));\n",
"//disp('=1')\n",
"disp('since , v is convergent,so u is also conzavergent.')"
   ]
   }
,
{
		   "cell_type": "markdown",
		   "metadata": {},
		   "source": [
			"## Example 9.7_3: to_check_the_type_of_infinite_series.sce"
		   ]
		  },
  {
"cell_type": "code",
	   "execution_count": null,
	   "metadata": {
	    "collapsed": true
	   },
	   "outputs": [],
"source": [
"clc\n",
"syms n\n",
"disp(integ(1/(n*log(n)),n,2,%inf));"
   ]
   }
,
{
		   "cell_type": "markdown",
		   "metadata": {},
		   "source": [
			"## Example 9.8_1: to_find_the_sum_of_series_upto_infinity.sce"
		   ]
		  },
  {
"cell_type": "code",
	   "execution_count": null,
	   "metadata": {
	    "collapsed": true
	   },
	   "outputs": [],
"source": [
"clc\n",
"syms x n;\n",
"//put n=1/n\n",
"u=(x^(2*(1/n)-2))/(((1/n)+1)*(1/n)^0.5)\n",
"v=(x^(2*(1/n)))/((1/n+2)*(1/n+1)^0.5)\n",
"disp(limit(u/v,n,0));"
   ]
   }
,
{
		   "cell_type": "markdown",
		   "metadata": {},
		   "source": [
			"## Example 9.8_2: to_find_the_limit_at_infinity.sce"
		   ]
		  },
  {
"cell_type": "code",
	   "execution_count": null,
	   "metadata": {
	    "collapsed": true
	   },
	   "outputs": [],
"source": [
"clc\n",
"syms x n;\n",
"//put n=1/n\n",
"u=((2^(1/n)-2)*(x^(1/n-1)))/(2^(1/n)+1)\n",
"v=((2^((1/n)+1)-2)*(x^(1/n)))/(2^(1/n+1)+1)\n",
"disp(limit(u/v,n,0));"
   ]
   }
],
"metadata": {
		  "kernelspec": {
		   "display_name": "Scilab",
		   "language": "scilab",
		   "name": "scilab"
		  },
		  "language_info": {
		   "file_extension": ".sce",
		   "help_links": [
			{
			 "text": "MetaKernel Magics",
			 "url": "https://github.com/calysto/metakernel/blob/master/metakernel/magics/README.md"
			}
		   ],
		   "mimetype": "text/x-octave",
		   "name": "scilab",
		   "version": "0.7.1"
		  }
		 },
		 "nbformat": 4,
		 "nbformat_minor": 0
}
