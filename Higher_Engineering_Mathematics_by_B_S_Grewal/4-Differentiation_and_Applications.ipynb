{
"cells": [
 {
		   "cell_type": "markdown",
	   "metadata": {},
	   "source": [
       "# Chapter 4: Differentiation and Applications"
	   ]
	},
{
		   "cell_type": "markdown",
		   "metadata": {},
		   "source": [
			"## Example 4.10: proving_the_given_differential_equation.sce"
		   ]
		  },
  {
"cell_type": "code",
	   "execution_count": null,
	   "metadata": {
	    "collapsed": true
	   },
	   "outputs": [],
"source": [
"clc\n",
"disp(' y^(1/m)+y^-(1/m)=2x  ');\n",
"disp(' OR y^(2/m)-2xy^(1/m)+1');\n",
"disp('OR y=[x+(x^2-1)]^m and y=[x-(x^2-1)]^m ');\n",
"\n",
"syms x m\n",
"disp('For y=[x+(x^2-1)]^m ');\n",
" y=(x+(x^2-1))^m\n",
"disp('we have to prove (x^2-1)y(n+2)+(2n+1)xy(n+1)+(n^2-m^2)yn ') ;\n",
"//n=input('Enter the order of differentiation ');\n",
"disp('calculating  yn for various values of n');\n",
"for n=1:4\n",
"  \n",
"  //yn=diff(F,x,n)\n",
"  F=(x^2-1)*diff(y,x,n+2)+(2*n+1)*x*diff(y,x,n+1)+(n^2-m^2)*diff(y,x,n);\n",
"  disp(n); \n",
"  disp('the expression for yn is ');\n",
"  disp(F);\n",
"  disp('Which is equal to 0 ');\n",
"\n",
"end\n",
"disp('For y=[x-(x^2-1)]^m ');\n",
" y=(x-(x^2-1))^m\n",
"disp('we have to prove (x^2-1)y(n+2)+(2n+1)xy(n+1)+(n^2-m^2)yn ') ;\n",
"//n=input('Enter the order of differentiation ');\n",
"disp('calculating  yn for various values of n');\n",
"for n=1:4\n",
"  \n",
"  //yn=diff(F,x,n)\n",
"  F=(x^2-1)*diff(y,x,n+2)+(2*n+1)*x*diff(y,x,n+1)+(n^2-m^2)*diff(y,x,n);\n",
"  disp(n); \n",
"  disp('the expression for yn is ');\n",
"  disp(F);\n",
"  disp('Which is equal to 0 ');\n",
"\n",
"end\n",
"disp('Hence proved');"
   ]
   }
,
{
		   "cell_type": "markdown",
		   "metadata": {},
		   "source": [
			"## Example 4.11: verify_roles_theorem.sce"
		   ]
		  },
  {
"cell_type": "code",
	   "execution_count": null,
	   "metadata": {
	    "collapsed": true
	   },
	   "outputs": [],
"source": [
"clc\n",
"disp('for roles theorem F9x) should be differentiable in (a,b) and f(a)=f(b)');\n",
"disp(' Here f(x)=sin(x)/e^x');\n",
"disp('');\n",
"syms x\n",
"y=sin(x)/%e^x;\n",
"\n",
"y1=diff(y,x);\n",
"disp(y1);\n",
"disp('putting this to zero we get tan(x)=1 ie x=pi/4');\n",
"disp('value pi/2 lies b/w 0 and pi. Hence roles theorem is verified');"
   ]
   }
,
{
		   "cell_type": "markdown",
		   "metadata": {},
		   "source": [
			"## Example 4.16: expansion_using_maclaurins_series.sce"
		   ]
		  },
  {
"cell_type": "code",
	   "execution_count": null,
	   "metadata": {
	    "collapsed": true
	   },
	   "outputs": [],
"source": [
"//ques16\n",
"disp('Maclaurins series');\n",
"disp('f(x)=f(0)+xf1(0)+x^2/2!*f2(0)+x^3/3!*f3(0)+......');\n",
"syms x a\n",
"//function y=f(a)\n",
"  y=tan(a);\n",
"//endfunction\n",
"n=input('enter the number of expression in series : ');\n",
"a=1;\n",
"t=eval(y);\n",
"a=0;\n",
"for i=2:n\n",
"  y1=diff(y,'a',i-1);\n",
"  t=t+x^(i-1)*eval(y1)/factorial(i-1);\n",
"end\n",
"disp(t)"
   ]
   }
,
{
		   "cell_type": "markdown",
		   "metadata": {},
		   "source": [
			"## Example 4.17: expanding_function_as_fourier_series_of_sine_term.sce"
		   ]
		  },
  {
"cell_type": "code",
	   "execution_count": null,
	   "metadata": {
	    "collapsed": true
	   },
	   "outputs": [],
"source": [
"//ques16\n",
"disp('Maclaurins series');\n",
"disp('f(x)=f(0)+xf1(0)+x^2/2!*f2(0)+x^3/3!*f3(0)+......');\n",
"syms x a\n",
"\n",
"  y=%e^(sin(a));\n",
"  n=input('enter the number of expression in seris : ');\n",
"  a=0;\n",
"t=eval(y);\n",
"a=0;\n",
"for i=2:n\n",
"  y1=diff(y,'a',i-1);\n",
"   t=t+x^(i-1)*eval(y1)/factorial(i-1);\n",
"end\n",
"disp(t)\n",
""
   ]
   }
,
{
		   "cell_type": "markdown",
		   "metadata": {},
		   "source": [
			"## Example 4.18: expansion_using_maclaurins_series.sce"
		   ]
		  },
  {
"cell_type": "code",
	   "execution_count": null,
	   "metadata": {
	    "collapsed": true
	   },
	   "outputs": [],
"source": [
"//ques18\n",
"disp('Maclaurins series');\n",
"disp('f(x)=f(0)+xf1(0)+x^2/2!*f2(0)+x^3/3!*f3(0)+......');\n",
"syms x a\n",
"\n",
"  y=log(1+(sin(a))^2);\n",
"  n=input('enter the number of differentiation involved in  maclaurins series : ');\n",
"  a=0;\n",
"t=eval(y);\n",
"a=0;\n",
"for i=2:n\n",
"  y1=diff(y,'a',i-1);\n",
"   t=t+x^(i-1)*eval(y1)/factorial(i-1);\n",
"end\n",
"disp(t)\n",
""
   ]
   }
,
{
		   "cell_type": "markdown",
		   "metadata": {},
		   "source": [
			"## Example 4.19: expansion_using_maclaurins_series.sce"
		   ]
		  },
  {
"cell_type": "code",
	   "execution_count": null,
	   "metadata": {
	    "collapsed": true
	   },
	   "outputs": [],
"source": [
"//ques19\n",
"disp('Maclaurins series');\n",
"disp('f(x)=f(0)+xf1(0)+x^2/2!*f2(0)+x^3/3!*f3(0)+......');\n",
"syms x a b\n",
"\n",
"  y=%e^(a*asin(b));\n",
"  n=input('enter the number of expression in seris : ');\n",
"  b=0;\n",
"t=eval(y);\n",
"\n",
"for i=2:n\n",
"  y1=diff(y,'b',i-1);\n",
"   t=t+x^(i-1)*eval(y1)/factorial(i-1);\n",
"end\n",
"disp(t)\n",
""
   ]
   }
,
{
		   "cell_type": "markdown",
		   "metadata": {},
		   "source": [
			"## Example 4.20: expansion_using_taylors_series.sce"
		   ]
		  },
  {
"cell_type": "code",
	   "execution_count": null,
	   "metadata": {
	    "collapsed": true
	   },
	   "outputs": [],
"source": [
"//ques20 \n",
"disp('Advantage of scilab is that we can calculate log1.1 directly without using Taylor series');\n",
"disp(' Use of taylor series are given in subsequent examples');\n",
"y=log(1.1);\n",
"disp('log(1.1)= ');\n",
"disp(log(1.1));"
   ]
   }
,
{
		   "cell_type": "markdown",
		   "metadata": {},
		   "source": [
			"## Example 4.21: taylor_series.sce"
		   ]
		  },
  {
"cell_type": "code",
	   "execution_count": null,
	   "metadata": {
	    "collapsed": true
	   },
	   "outputs": [],
"source": [
"//ques21\n",
"disp('Taylor series');\n",
"disp('f(x+h)=f(x)+hf1(x)+h^2/2!*f2(x)+h^3/3!*f3(x)+......');\n",
"disp('To finf the taylor expansion of tan-1(x+h)')\n",
"syms x h\n",
"\n",
"  y=atan(x);\n",
"  n=input('enter the number of expression in seris : ');\n",
"  \n",
"t=y;\n",
"\n",
"for i=2:n\n",
"  y1=diff(y,'x',i-1);\n",
"   t=t+h^(i-1)*(y1)/factorial(i-1);\n",
"end\n",
"disp(t)\n",
""
   ]
   }
,
{
		   "cell_type": "markdown",
		   "metadata": {},
		   "source": [
			"## Example 4.22: evaluating_limit.sce"
		   ]
		  },
  {
"cell_type": "code",
	   "execution_count": null,
	   "metadata": {
	    "collapsed": true
	   },
	   "outputs": [],
"source": [
"//ques22\n",
"disp('Here we need to find find the limit of f(x) at x=0')\n",
"syms x\n",
"y=(x*%e^x-log(1+x))/x^2;\n",
"//disp('The limit at x=0 is : ');\n",
"//l=limit(y,x,0);\n",
"//disp(l)\n",
"f=1;\n",
"while f==1\n",
"yn=x*%e^x-log(1+x);\n",
"yd=x^2;\n",
"yn1=diff(yn,'x',1);\n",
"yd1=diff(yd,'x',1);\n",
"x=0;\n",
"a=eval(yn1);\n",
"b=eval(yd1);\n",
"if a==b then\n",
"  yn=yn1;\n",
"  yd=yd1;\n",
"else\n",
"  f=0;\n",
"\n",
"end\n",
"end\n",
"h=a/b;\n",
"disp(h);\n",
"  "
   ]
   }
,
{
		   "cell_type": "markdown",
		   "metadata": {},
		   "source": [
			"## Example 4.32: tangent_to_curve.sce"
		   ]
		  },
  {
"cell_type": "code",
	   "execution_count": null,
	   "metadata": {
	    "collapsed": true
	   },
	   "outputs": [],
"source": [
"//ques 32\n",
"disp('Equation of tangent');\n",
"syms x a y;\n",
"f=(a^(2/3)-x^(2/3))^(3/2);\n",
"s=diff(f,x);\n",
"\n",
"Y1=s*(-x)+y;\n",
"X1=-y/s*x;\n",
"g=x-(Y1-s*(X1-x));\n",
"disp('Equation is g=0 where g is');\n",
"disp(g);\n",
""
   ]
   }
,
{
		   "cell_type": "markdown",
		   "metadata": {},
		   "source": [
			"## Example 4.34: finding_equation_of_normal.sce"
		   ]
		  },
  {
"cell_type": "code",
	   "execution_count": null,
	   "metadata": {
	    "collapsed": true
	   },
	   "outputs": [],
"source": [
"//ques34\n",
"disp('Equation of tangent');\n",
"syms x a t y\n",
"xo=a*(cos(t)+t*sin(t));\n",
"yo=a*(sin(t)-t*cos(t));\n",
"s=diff(xo,t)/diff(yo,t);\n",
"y=yo+s*(x-xo);\n",
"disp('y=');\n",
"disp(y);\n",
""
   ]
   }
,
{
		   "cell_type": "markdown",
		   "metadata": {},
		   "source": [
			"## Example 4.35: finding_angle_of_intersection_of_curve.sce"
		   ]
		  },
  {
"cell_type": "code",
	   "execution_count": null,
	   "metadata": {
	    "collapsed": true
	   },
	   "outputs": [],
"source": [
"//ques35\n",
"disp('The two given curves are x^=4y and y^2=4x which intersects at (0,0) and (4,4)');\n",
"disp('for (4,4)');\n",
"x=4;\n",
"syms x\n",
"y1=x^2/4;\n",
"y2=2*x^(1/2);\n",
"m1=diff(y1,x,1);\n",
"m2=diff(y2,x,1);\n",
"x=4;\n",
"m1=eval(m1);\n",
"m2=eval(m2);\n",
"\n",
"disp('Angle between them is(radians) :-');\n",
"t=atan((m1-m2)/(1+m1*m2));\n",
"disp(t);\n",
""
   ]
   }
,
{
		   "cell_type": "markdown",
		   "metadata": {},
		   "source": [
			"## Example 4.37: prove_given_tangent_statement.sce"
		   ]
		  },
  {
"cell_type": "code",
	   "execution_count": null,
	   "metadata": {
	    "collapsed": true
	   },
	   "outputs": [],
"source": [
"//ques37\n",
"syms a t\n",
"x=a*(cos(t)+log(tan(t/2)));\n",
"y=a*sin(t);\n",
"s=diff(x,t,1)/diff(y,t,1);\n",
"disp('length of tangent ');\n",
"l=y*(1+s)^(0.5);\n",
"disp(l);\n",
"disp('checking for its dependency on t')\n",
"\n",
"f=1\n",
"t=0;\n",
"k=eval(l);\n",
"for i=1:10\n",
"  t=i;\n",
"  if(eval(l)~=k)\n",
"    f=0;\n",
"  end\n",
"end\n",
"if(f==1)\n",
"  disp('verified and equal to a');\n",
"  disp('subtangent');\n",
"  m=y/s;\n",
"  disp(m);\n",
"   \n",
"    "
   ]
   }
,
{
		   "cell_type": "markdown",
		   "metadata": {},
		   "source": [
			"## Example 4.39: finding_angle_of_intersection_of_curve.sce"
		   ]
		  },
  {
"cell_type": "code",
	   "execution_count": null,
	   "metadata": {
	    "collapsed": true
	   },
	   "outputs": [],
"source": [
"//ques39\n",
"clc\n",
"disp('Angle of intersection');\n",
"disp('point of intersection of r=sint+cost and r=2sint is t=pi/4 ');\n",
"disp('tanu=dQ/dr*r');\n",
"syms Q ;\n",
"\n",
"r1=2*sin(Q);\n",
"r2=sin(Q)+cos(Q);\n",
"u=atan(r1*diff(r2,Q,1));\n",
"Q=%pi/4;\n",
"u=eval(u);\n",
"disp('The angle at point of intersection in radians is : ');\n",
"disp(u);"
   ]
   }
,
{
		   "cell_type": "markdown",
		   "metadata": {},
		   "source": [
			"## Example 4.4_1: finding_nth_derivative.sce"
		   ]
		  },
  {
"cell_type": "code",
	   "execution_count": null,
	   "metadata": {
	    "collapsed": true
	   },
	   "outputs": [],
"source": [
"//ques4.1\n",
"//clear\n",
"//cd SCI\n",
"//cd ('..')\n",
"//cd ('..')\n",
"//exec symbolic.sce \n",
"clc\n",
"disp(' we have to find yn for F=cosxcos2xcos3x ');\n",
"syms x\n",
"F=cos(x)*cos(2*x)*cos(3*x);\n",
"n=input('Enter the order of differentiation ');\n",
"disp('calculating  yn ');\n",
"yn=diff(F,x,n)\n",
"disp('the expression for yn is ');\n",
"disp(yn);\n",
"\n",
""
   ]
   }
,
{
		   "cell_type": "markdown",
		   "metadata": {},
		   "source": [
			"## Example 4.41: finding_pedal_equation_of_parabola.sce"
		   ]
		  },
  {
"cell_type": "code",
	   "execution_count": null,
	   "metadata": {
	    "collapsed": true
	   },
	   "outputs": [],
"source": [
"//ques41\n",
"clc\n",
"disp('tanu=dQ/dr*r');\n",
"syms Q a;\n",
"\n",
"r=2*a/(1-cos(Q));\n",
"\n",
"u=atan(r/diff(r2,Q,1));\n",
"u=eval(u);\n",
"p=r*sin(u);\n",
"syms r;\n",
"Q=acos(1-2*a/r);\n",
"\n",
"//cos(Q)=1-2*a/r;\n",
"p=eval(p);\n",
"disp(p);"
   ]
   }
,
{
		   "cell_type": "markdown",
		   "metadata": {},
		   "source": [
			"## Example 4.43: finding_radius_of_curvature_of_cycloid.sce"
		   ]
		  },
  {
"cell_type": "code",
	   "execution_count": null,
	   "metadata": {
	    "collapsed": true
	   },
	   "outputs": [],
"source": [
"//ques43\n",
"syms a t\n",
"x=a*(t+sin(t));\n",
"y=a*(1-cos(t));\n",
"s2=diff(y,t,2)/diff(x,t,2);\n",
"s1=diff(y,t,1)/diff(x,t,1);\n",
"\n",
"r=(1+s1^2)^(3/2)/s2;\n",
"disp('The radius of curvature is : ');\n",
"disp(r);\n",
""
   ]
   }
,
{
		   "cell_type": "markdown",
		   "metadata": {},
		   "source": [
			"## Example 4.46: radius_of_curvature_of_cardoid.sce"
		   ]
		  },
  {
"cell_type": "code",
	   "execution_count": null,
	   "metadata": {
	    "collapsed": true
	   },
	   "outputs": [],
"source": [
"//ques46\n",
"disp('radius of curvature');\n",
"syms a t\n",
"r=a*(1-cos(t));\n",
"r1=diff(r,t,1);\n",
"l=(r^2+r1^2)^(3/2)/(r^2+2*r1^2-r*r1);\n",
"syms r;\n",
"t=acos(1-r/a);\n",
"l=eval(l);\n",
"disp(l);\n",
"disp('Which is proportional to r^0.5');"
   ]
   }
,
{
		   "cell_type": "markdown",
		   "metadata": {},
		   "source": [
			"## Example 4.47: cordinates_of_centre_of_curvature.sce"
		   ]
		  },
  {
"cell_type": "code",
	   "execution_count": null,
	   "metadata": {
	    "collapsed": true
	   },
	   "outputs": [],
"source": [
"//qus47\n",
"disp('The centre of curvature');\n",
"syms x a y\n",
"y=2*(a*x)^0.5;\n",
"y1=diff(y,x,1);\n",
"y2=diff(y,x,2);\n",
"xx=x-y1*(1+y1)^2/y2;\n",
"yy=y+(1+y1^2)/y2;\n",
"disp('the coordinates x,y are resp :');\n",
"\n",
"disp(xx);\n",
"disp(yy);\n",
"\n",
""
   ]
   }
,
{
		   "cell_type": "markdown",
		   "metadata": {},
		   "source": [
			"## Example 4.48: proof_statement_cycloid.sce"
		   ]
		  },
  {
"cell_type": "code",
	   "execution_count": null,
	   "metadata": {
	    "collapsed": true
	   },
	   "outputs": [],
"source": [
"//ques48\n",
"disp('centre of curvature of given cycloid ');\n",
"syms a t\n",
"x=a*(t-sin(t));\n",
"y=a*(1-cos(t));\n",
"y1=diff(y,t,1);\n",
"y2=diff(y,t,2);\n",
"xx=x-y1*(1+y1)^2/y2;\n",
"yy=y+(1+y1^2)/y2;\n",
"\n",
"disp('the coordinates x,y are resp :');\n",
"disp(xx);\n",
"disp(yy);\n",
"disp('which another parametric equation of cycloid ');"
   ]
   }
,
{
		   "cell_type": "markdown",
		   "metadata": {},
		   "source": [
			"## Example 4.52: maxima_and_minima.sce"
		   ]
		  },
  {
"cell_type": "code",
	   "execution_count": null,
	   "metadata": {
	    "collapsed": true
	   },
	   "outputs": [],
"source": [
"//error\n",
"//ques52\n",
"disp('To find the maxima and minima of given function put f1(x)=0');\n",
"syms x\n",
"//x=poly(0,'x');\n",
"f=3*x^4-2*x^3-6*x^2+6*x+1;\n",
"k=diff(f,x);\n",
"x=poly(0,'x');\n",
"k=eval(k);\n",
""
   ]
   }
,
{
		   "cell_type": "markdown",
		   "metadata": {},
		   "source": [
			"## Example 4.5: finding_nth_derivative.sce"
		   ]
		  },
  {
"cell_type": "code",
	   "execution_count": null,
	   "metadata": {
	    "collapsed": true
	   },
	   "outputs": [],
"source": [
"//ques4.1\n",
"//clear\n",
"//cd SCI\n",
"//cd ('..')\n",
"//cd ('..')\n",
"//exec symbolic.sce \n",
"clc\n",
"disp(' we have to find yn for F=cosxcos2xcos3x ');\n",
"syms x\n",
"F=x/((x-1)*(2*x+3));\n",
"n=input('Enter the order of differentiation :  ');\n",
"disp('calculating  yn ');\n",
"yn=diff(F,x,n)\n",
"disp('the expression for yn is ');\n",
"disp(yn);\n",
"\n",
""
   ]
   }
,
{
		   "cell_type": "markdown",
		   "metadata": {},
		   "source": [
			"## Example 4.61: finding_the_asymptotes_of_curve.sce"
		   ]
		  },
  {
"cell_type": "code",
	   "execution_count": null,
	   "metadata": {
	    "collapsed": true
	   },
	   "outputs": [],
"source": [
"//ques 61\n",
"clc\n",
"disp('to find the assymptote of given curve ');\n",
"syms x y\n",
"f=x^2*y^2-x^2*y-x*y^2+x+y+1;\n",
"//a=degrees(f,x);\n",
"f1=coeffs(f,x,2);\n",
"disp('assymptotes parallel to x-xis is given by f1=0 where f1 is :');\n",
"disp(factor(f1));\n",
"f2=coeffs(f,y,2);\n",
"disp('assymptotes parallel to y-axis is given by f2=0 and f2 is :');\n",
"disp(factor(f2));\n",
" "
   ]
   }
,
{
		   "cell_type": "markdown",
		   "metadata": {},
		   "source": [
			"## Example 4.6: finding_nth_derivative.sce"
		   ]
		  },
  {
"cell_type": "code",
	   "execution_count": null,
	   "metadata": {
	    "collapsed": true
	   },
	   "outputs": [],
"source": [
"//ques4.1\n",
"//clear\n",
"//cd SCI\n",
"//cd ('..')\n",
"//cd ('..')\n",
"//exec symbolic.sce \n",
"clc\n",
"disp(' we have to find yn for F=cosxcos2xcos3x ');\n",
"syms x a \n",
"F=x/(x^2+a^2);\n",
"n=input('Enter the order of differentiation :  ');\n",
"disp('calculating  yn ');\n",
"yn=diff(F,x,n)\n",
"disp('the expression for yn is ');\n",
"disp(yn);\n",
"\n",
""
   ]
   }
,
{
		   "cell_type": "markdown",
		   "metadata": {},
		   "source": [
			"## Example 4.7: finding_nth_derivative.sce"
		   ]
		  },
  {
"cell_type": "code",
	   "execution_count": null,
	   "metadata": {
	    "collapsed": true
	   },
	   "outputs": [],
"source": [
"//ques4.1\n",
"//clear\n",
"//cd SCI\n",
"//cd ('..')\n",
"//cd ('..')\n",
"//exec symbolic.sce \n",
"clc\n",
"disp(' we have to find yn for F=cosxcos2xcos3x ');\n",
"syms x a \n",
"F=%e^(x)*(2*x+3)^3;\n",
"//n=input('Enter the order of differentiation :  ');\n",
"disp('calculating  yn ');\n",
"yn=diff(F,x,n)\n",
"disp('the expression for yn is ');\n",
"disp(yn);\n",
"\n",
""
   ]
   }
,
{
		   "cell_type": "markdown",
		   "metadata": {},
		   "source": [
			"## Example 4.8: proving_the_given_differential_equation.sce"
		   ]
		  },
  {
"cell_type": "code",
	   "execution_count": null,
	   "metadata": {
	    "collapsed": true
	   },
	   "outputs": [],
"source": [
"//ques4.1\n",
"//clear\n",
"//cd SCI\n",
"//cd ('..')\n",
"//cd ('..')\n",
"//exec symbolic.sce \n",
"clc\n",
"disp(' y=(sin^-1)x) --sign inverse x ');\n",
"syms x\n",
"y=(asin(x))^2;\n",
"disp('we have to prove (1-x^2)y(n+2)-(2n+1)xy(n+1)-n^2yn ') ;\n",
"//n=input('Enter the order of differentiation ');\n",
"disp('calculating  yn for various values of n');\n",
"for n=1:4\n",
"  \n",
"  F=(1-x^2)*diff(y,x,n+2)-(2*n+1)*x*diff(y,x,n+1)-(n^2+a^2)*diff(y,x,n);\n",
"  disp(n); \n",
"  disp('the expression for yn is ');\n",
"  disp(F);\n",
"  disp('Which is equal to 0 ');\n",
"\n",
"end\n",
"disp('Hence proved');"
   ]
   }
,
{
		   "cell_type": "markdown",
		   "metadata": {},
		   "source": [
			"## Example 4.9: proving_the_given_differential_equation.sce"
		   ]
		  },
  {
"cell_type": "code",
	   "execution_count": null,
	   "metadata": {
	    "collapsed": true
	   },
	   "outputs": [],
"source": [
"//ques4.1\n",
"//clear\n",
"//cd SCI\n",
"//cd ('..')\n",
"//cd ('..')\n",
"//exec symbolic.sce \n",
"clc\n",
"disp(' y=e^(a(sin^-1)x)) --sign inverse x ');\n",
"syms x a\n",
"y=%e^(a*(asin(x)));\n",
"disp('we have to prove (1-x^2)y(n+2)-(2n+1)xy(n+1)-(n^2+a^2)yn ') ;\n",
"//n=input('Enter the order of differentiation ');\n",
"disp('calculating  yn for various values of n');\n",
"for n=1:4\n",
"  \n",
"  //yn=diff(F,x,n)\n",
"  F=(1-x^2)*diff(y,x,n+2)-(2*n+1)*x*diff(y,x,n+1)-(n^2+a^2)*diff(y,x,n);\n",
"  disp(n); \n",
"  disp('the expression for yn is ');\n",
"  disp(F);\n",
"  disp('Which is equal to 0 ');\n",
"\n",
"end\n",
"disp('Hence proved');"
   ]
   }
],
"metadata": {
		  "kernelspec": {
		   "display_name": "Scilab",
		   "language": "scilab",
		   "name": "scilab"
		  },
		  "language_info": {
		   "file_extension": ".sce",
		   "help_links": [
			{
			 "text": "MetaKernel Magics",
			 "url": "https://github.com/calysto/metakernel/blob/master/metakernel/magics/README.md"
			}
		   ],
		   "mimetype": "text/x-octave",
		   "name": "scilab",
		   "version": "0.7.1"
		  }
		 },
		 "nbformat": 4,
		 "nbformat_minor": 0
}
