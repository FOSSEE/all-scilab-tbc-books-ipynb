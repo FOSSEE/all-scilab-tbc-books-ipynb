{
"cells": [
 {
		   "cell_type": "markdown",
	   "metadata": {},
	   "source": [
       "# Chapter 10: Fourier Series"
	   ]
	},
{
		   "cell_type": "markdown",
		   "metadata": {},
		   "source": [
			"## Example 10.10: finding_half_range_cosine_series_of_given_function.sce"
		   ]
		  },
  {
"cell_type": "code",
	   "execution_count": null,
	   "metadata": {
	    "collapsed": true
	   },
	   "outputs": [],
"source": [
"//ques10\n",
"clc\n",
"disp('finding the fourier series of given function');\n",
"syms  x \n",
"ao=2/2*(integ(x,x,0,2));\n",
"s=ao/2;\n",
"n=input('enter the no of terms upto each of sin or cos terms in the expansion : ');\n",
"for i=1:n\n",
"  ai=2/2*(integ(x*cos(i*%pi*x/2),x,0,2));\n",
"  //bi=1/%pi*(integ(-1*%pi*x^0*sin(i*x),x,-1*%pi,0)+integ(x*sin(i*x),x,0,%pi));\n",
"  s=s+float(ai)*cos(i*%pi*x/2);\n",
"end\n",
"disp(float(s));"
   ]
   }
,
{
		   "cell_type": "markdown",
		   "metadata": {},
		   "source": [
			"## Example 10.11: expanding_function_as_fourier_series_of_sine_term.sce"
		   ]
		  },
  {
"cell_type": "code",
	   "execution_count": null,
	   "metadata": {
	    "collapsed": true
	   },
	   "outputs": [],
"source": [
"//ques3\n",
"clc\n",
"disp('finding the fourier series of given function');\n",
"syms  x \n",
"ao=0;\n",
"s=ao;\n",
"n=input('enter the no of terms upto each of sin or cos terms in the expansion : ');\n",
"for i=1:n\n",
"    bi=2/1*(integ((1/4-x)*sin(i*%pi*x),x,0,1/2)+integ((x-3/4)*sin(i*%pi*x),x,1/2,1));\n",
"  s=s+float(bi)*sin(i*%pi*x);\n",
"end\n",
"disp(float(s));"
   ]
   }
,
{
		   "cell_type": "markdown",
		   "metadata": {},
		   "source": [
			"## Example 10.12: finding_fourier_series_of_given_function.sce"
		   ]
		  },
  {
"cell_type": "code",
	   "execution_count": null,
	   "metadata": {
	    "collapsed": true
	   },
	   "outputs": [],
"source": [
"//ques1\n",
"clc\n",
"disp('finding the fourier series of given function');\n",
"syms  x \n",
"ao=1/%pi*integ(x^2,x,-%pi,%pi);\n",
"s=ao/2;\n",
"n=input('enter the no of terms upto each of sin or cos terms in the expansion : ');\n",
"for i=1:n\n",
"  ai=1/%pi*integ((x^2)*cos(i*x),x,-%pi,%pi);\n",
"  bi=1/%pi*integ((x^2)*sin(i*x),x,-%pi,%pi);\n",
"  s=s+float(ai)*cos(i*x)+float(bi)*sin(i*x);\n",
"end\n",
"disp(float(s));"
   ]
   }
,
{
		   "cell_type": "markdown",
		   "metadata": {},
		   "source": [
			"## Example 10.13: finding_complex_form_of_fourier_series.sce"
		   ]
		  },
  {
"cell_type": "code",
	   "execution_count": null,
	   "metadata": {
	    "collapsed": true
	   },
	   "outputs": [],
"source": [
"//ques13\n",
"clc\n",
"disp('The complex form of series is summation of f(n,x) where n varies from -%inf to %inf and f(n,x) is given by :');\n",
"syms n x\n",
"cn=1/2*integ(exp(-x)*exp(-%i*%pi*n*x),x,-1,1);\n",
"fnx=float(cn)*exp(%i*n*%pi*x);\n",
"\n",
"disp(float(fnx));"
   ]
   }
,
{
		   "cell_type": "markdown",
		   "metadata": {},
		   "source": [
			"## Example 10.14: practical_harmonic_analysis.sce"
		   ]
		  },
  {
"cell_type": "code",
	   "execution_count": null,
	   "metadata": {
	    "collapsed": true
	   },
	   "outputs": [],
"source": [
"//ques15\n",
"//yo=[1.80 1.10 0.30 0.16 1.50 1.30 2.16 1.25 1.30 1.52 1.76 2.00]\n",
"//x0=[0 %pi/6 %pi/3 %pi/2 2*%pi/3 5*%pi/6 %pi 7*%pi/6 4*%pi/3 3*%pi/2 5*%pi/3 11*%pi/6]\n",
"disp('Practical harmonic analysis');\n",
"syms x \n",
"xo=input('Input xo matrix : ');\n",
"yo=input('Input yo matrix : ');\n",
"ao=2*sum(yo)/length(xo);\n",
"s=ao/2;\n",
"n=input('No of sin or cos term in expansion : ');\n",
"for i=1:n\n",
"  an=2*sum(yo.*cos(i*xo))/length(yo);\n",
"  bn=2*sum(yo.*sin(i*xo))/length(yo);\n",
"  s=s+float(an)*cos(i*x)+float(bn)*sin(i*x);\n",
"    \n",
"  end\n",
"  disp(s);\n",
"  "
   ]
   }
,
{
		   "cell_type": "markdown",
		   "metadata": {},
		   "source": [
			"## Example 10.15: practical_harmonic_analysis.sce"
		   ]
		  },
  {
"cell_type": "code",
	   "execution_count": null,
	   "metadata": {
	    "collapsed": true
	   },
	   "outputs": [],
"source": [
"//error\n",
"//ques15,16,17\n",
"//yo=[1.98 1.30 1.05 1.30 -0.88 -.25 1.98]\n",
"//x0=[0 1/6 1/3 1/2 2/3 5/6 1]\n",
"disp('Practical harmonic analysis');\n",
"syms x T\n",
"xo=input('Input xo matrix (in factor of T) : ');\n",
"yo=input('Input yo matrix : ');\n",
"ao=2*sum(yo)/length(xo);\n",
"s=ao/2;\n",
"n=input('No of sin or cos term in expansion : ');\n",
" i=1\n",
"  an=2*(yo.*cos(i*xo*2*%pi))/length(yo);\n",
"  bn=2*(yo.*sin(i*xo*2*%pi))/length(yo);\n",
"  s=s+float(an)*cos(i*x*2*%pi/T)+float(bn)*sin(i*x*2*%pi/T);\n",
"    \n",
"  disp(s);\n",
"  disp('Direct current :');\n",
" i=sqrt(an^2+bn^2);  "
   ]
   }
,
{
		   "cell_type": "markdown",
		   "metadata": {},
		   "source": [
			"## Example 10.16: practical_harmonic_analysis.sce"
		   ]
		  },
  {
"cell_type": "code",
	   "execution_count": null,
	   "metadata": {
	    "collapsed": true
	   },
	   "outputs": [],
"source": [
"//error\n",
"//ques15,16,17\n",
"//yo=[1.98 1.30 1.05 1.30 -0.88 -.25 1.98]\n",
"//x0=[0 1/6 1/3 1/2 2/3 5/6 1]\n",
"disp('Practical harmonic analysis');\n",
"syms x T\n",
"xo=input('Input xo matrix (in factor of T) : ');\n",
"yo=input('Input yo matrix : ');\n",
"ao=2*sum(yo)/length(xo);\n",
"s=ao/2;\n",
"n=input('No of sin or cos term in expansion : ');\n",
" i=1\n",
"  an=2*(yo.*cos(i*xo*2*%pi))/length(yo);\n",
"  bn=2*(yo.*sin(i*xo*2*%pi))/length(yo);\n",
"  s=s+float(an)*cos(i*x*2*%pi/T)+float(bn)*sin(i*x*2*%pi/T);\n",
"    \n",
"  disp(s);\n",
"  disp('Direct current :');\n",
" i=sqrt(an^2+bn^2);  "
   ]
   }
,
{
		   "cell_type": "markdown",
		   "metadata": {},
		   "source": [
			"## Example 10.17: practical_harmonic_analysis.sce"
		   ]
		  },
  {
"cell_type": "code",
	   "execution_count": null,
	   "metadata": {
	    "collapsed": true
	   },
	   "outputs": [],
"source": [
"//error\n",
"//ques15,16,17\n",
"//yo=[1.98 1.30 1.05 1.30 -0.88 -.25 1.98]\n",
"//x0=[0 1/6 1/3 1/2 2/3 5/6 1]\n",
"disp('Practical harmonic analysis');\n",
"syms x T\n",
"xo=input('Input xo matrix (in factor of T) : ');\n",
"yo=input('Input yo matrix : ');\n",
"ao=2*sum(yo)/length(xo);\n",
"s=ao/2;\n",
"n=input('No of sin or cos term in expansion : ');\n",
" i=1\n",
"  an=2*(yo.*cos(i*xo*2*%pi))/length(yo);\n",
"  bn=2*(yo.*sin(i*xo*2*%pi))/length(yo);\n",
"  s=s+float(an)*cos(i*x*2*%pi/T)+float(bn)*sin(i*x*2*%pi/T);\n",
"    \n",
"  disp(s);\n",
"  disp('Direct current :');\n",
" i=sqrt(an^2+bn^2);  "
   ]
   }
,
{
		   "cell_type": "markdown",
		   "metadata": {},
		   "source": [
			"## Example 10.1: finding_fourier_series_of_given_function.sce"
		   ]
		  },
  {
"cell_type": "code",
	   "execution_count": null,
	   "metadata": {
	    "collapsed": true
	   },
	   "outputs": [],
"source": [
"//ques1\n",
"clc\n",
"disp('finding the fourier series of given function');\n",
"syms  x \n",
"ao=1/%pi*integ(exp(-1*x),x,0,2*%pi);\n",
"s=ao/2;\n",
"n=input('enter the no of terms upto each of sin or cos terms in the expansion : ');\n",
"for i=1:n\n",
"  ai=1/%pi*integ(exp(-x)*cos(i*x),x,0,2*%pi);\n",
"  bi=1/%pi*integ(exp(-x)*sin(i*x),x,0,2*%pi);\n",
"  s=s+float(ai)*cos(i*x)+float(bi)*sin(i*x);\n",
"end\n",
"disp(float(s));"
   ]
   }
,
{
		   "cell_type": "markdown",
		   "metadata": {},
		   "source": [
			"## Example 10.2: finding_fourier_series_of_given_function.sce"
		   ]
		  },
  {
"cell_type": "code",
	   "execution_count": null,
	   "metadata": {
	    "collapsed": true
	   },
	   "outputs": [],
"source": [
"//error\n",
"//ques2\n",
"disp('To find the fourier transform of given function ');\n",
"syms x  s\n",
"F=integ(exp(%i*s*x),x,-1,1);\n",
"disp(F);\n",
"//produces error->\n",
"F1=integ(sin(x)/x,x,0,%inf);"
   ]
   }
,
{
		   "cell_type": "markdown",
		   "metadata": {},
		   "source": [
			"## Example 10.3: finding_fourier_series_of_given_function.sce"
		   ]
		  },
  {
"cell_type": "code",
	   "execution_count": null,
	   "metadata": {
	    "collapsed": true
	   },
	   "outputs": [],
"source": [
"//ques3\n",
"clc\n",
"disp('finding the fourier series of given function');\n",
"syms  x \n",
"ao=1/%pi*(integ(-1*%pi*x^0,x,-%pi,0)+integ(x,x,0,%pi));\n",
"s=ao/2;\n",
"n=input('enter the no of terms upto each of sin or cos terms in the expansion : ');\n",
"for i=1:n\n",
"  ai=1/%pi*(integ(-1*%pi*cos(i*x),x,-1*%pi,0)+integ(x*cos(i*x),x,0,%pi));\n",
"  bi=1/%pi*(integ(-1*%pi*x^0*sin(i*x),x,-1*%pi,0)+integ(x*sin(i*x),x,0,%pi));\n",
"  s=s+float(ai)*cos(i*x)+float(bi)*sin(i*x);\n",
"end\n",
"disp(float(s));"
   ]
   }
,
{
		   "cell_type": "markdown",
		   "metadata": {},
		   "source": [
			"## Example 10.4: finding_fourier_series_of_given_function.sce"
		   ]
		  },
  {
"cell_type": "code",
	   "execution_count": null,
	   "metadata": {
	    "collapsed": true
	   },
	   "outputs": [],
"source": [
"//ques4\n",
"clc\n",
"disp('finding the fourier series of given function');\n",
"syms  x l\n",
"ao=1/l*integ(exp(-1*x),x,-l,l);\n",
"s=ao/2\n",
"n=input('enter the no of terms upto each of sin or cos terms in the expansion : ');\n",
"for i=1:n\n",
"  ai=1/l*integ(exp(-x)*cos(i*%pi*x/l),x,-l,l);\n",
"  bi=1/l*integ(exp(-x)*sin(i*%pi*x/l),x,-l,l);\n",
"  s=s+float(ai)*cos(i*%pi*x/l)+float(bi)*sin(i*%pi*x/l);\n",
"end\n",
"disp(float(s));"
   ]
   }
,
{
		   "cell_type": "markdown",
		   "metadata": {},
		   "source": [
			"## Example 10.5: finding_fourier_series_of_given_function_in_interval_minus_pi_to_pi.sce"
		   ]
		  },
  {
"cell_type": "code",
	   "execution_count": null,
	   "metadata": {
	    "collapsed": true
	   },
	   "outputs": [],
"source": [
"//ques5\n",
"clc\n",
"disp('finding the fourier series of given function');\n",
"syms  x l\n",
"s=0;\n",
"n=input('enter the no of terms upto each of sin terms in the expansion : ');\n",
"for i=1:n\n",
"  \n",
"   bi=2/%pi*integ(x*sin(i*x),x,0,%pi);\n",
"  s=s+float(bi)*sin(i*x);\n",
"end\n",
"disp(float(s));"
   ]
   }
,
{
		   "cell_type": "markdown",
		   "metadata": {},
		   "source": [
			"## Example 10.6: finding_fourier_series_of_given_function_in_interval_minus_l_to_l.sce"
		   ]
		  },
  {
"cell_type": "code",
	   "execution_count": null,
	   "metadata": {
	    "collapsed": true
	   },
	   "outputs": [],
"source": [
"//error no output\n",
"//ques6\n",
"clc\n",
"disp('finding the fourier series of given function');\n",
"syms  x l\n",
"ao=2/l*integ(x^2,x,0,l);\n",
"s=float(ao)/2;\n",
"n=input('enter the no of terms upto each of sin or cos terms in the expansion : ');\n",
"for i=1:n\n",
"  ai=2/l*integ(x^2*cos(i*%pi*x/l),x,0,l);\n",
"  //bi=1/l*integ(exp(-x)*sin(i*x),x,-l,l);\n",
"  s=s+float(ai)*cos(i*%pi*x/l);\n",
"  end\n",
"disp(float(s));"
   ]
   }
,
{
		   "cell_type": "markdown",
		   "metadata": {},
		   "source": [
			"## Example 10.7: finding_fourier_series_of_given_function_in_interval_minus_pi_to_pi.sce"
		   ]
		  },
  {
"cell_type": "code",
	   "execution_count": null,
	   "metadata": {
	    "collapsed": true
	   },
	   "outputs": [],
"source": [
"//ques1\n",
"clc\n",
"disp('finding the fourier series of given function');\n",
"syms  x \n",
"ao=2/%pi*(integ(cos(x),x,0,%pi/2)+integ(-cos(x),x,%pi/2,%pi));\n",
"s=ao/2;\n",
"n=input('enter the no of terms upto each of sin or cos terms in the expansion : ');\n",
"for i=1:n\n",
"  ai=2/%pi*(integ(cos(x)*cos(i*x),x,0,%pi/2)+integ(-cos(x)*cos(i*x),x,%pi/2,%pi));\n",
"  //bi=1/%pi*(integ(-1*%pi*x^0*sin(i*x),x,-1*%pi,0)+integ(x*sin(i*x),x,0,%pi));\n",
"  s=s+float(ai)*cos(i*x);\n",
"end\n",
"disp(float(s));"
   ]
   }
,
{
		   "cell_type": "markdown",
		   "metadata": {},
		   "source": [
			"## Example 10.8: finding_fourier_series_of_given_function_in_interval_minus_pi_to_pi.sce"
		   ]
		  },
  {
"cell_type": "code",
	   "execution_count": null,
	   "metadata": {
	    "collapsed": true
	   },
	   "outputs": [],
"source": [
"//ques8\n",
"clc\n",
"disp('finding the fourier series of given function');\n",
"syms  x \n",
"ao=2/%pi*(integ((1-2*x/%pi),x,0,%pi));\n",
"s=ao/2;\n",
"n=input('enter the no of terms upto each of sin or cos terms in the expansion : ');\n",
"for i=1:n\n",
"  ai=2/%pi*(integ((1-2*x/%pi)*cos(i*x),x,0,%pi));\n",
"  //bi=1/%pi*(integ(-1*%pi*x^0*sin(i*x),x,-1*%pi,0)+integ(x*sin(i*x),x,0,%pi));\n",
"  s=s+float(ai)*cos(i*x);\n",
"end\n",
"disp(float(s));"
   ]
   }
,
{
		   "cell_type": "markdown",
		   "metadata": {},
		   "source": [
			"## Example 10.9: finding_half_range_sine_series_of_given_function.sce"
		   ]
		  },
  {
"cell_type": "code",
	   "execution_count": null,
	   "metadata": {
	    "collapsed": true
	   },
	   "outputs": [],
"source": [
"//ques9\n",
"clc\n",
"disp('finding the fourier series of given function');\n",
"syms  x l\n",
"\n",
"s=0;\n",
"n=input('enter the no of terms upto each of sin or cos terms in the expansion : ');\n",
"for i=1:n\n",
"//  ai=1/l*integ(exp(-x)*cos(i*%pi*x/l),x,-l,l);\n",
"  bi=integ(x*sin(i*%pi*x/2),x,0,2);\n",
"  s=s+float(bi)*sin(i*%pi*x/2);\n",
"end\n",
"disp(float(s));\n",
""
   ]
   }
],
"metadata": {
		  "kernelspec": {
		   "display_name": "Scilab",
		   "language": "scilab",
		   "name": "scilab"
		  },
		  "language_info": {
		   "file_extension": ".sce",
		   "help_links": [
			{
			 "text": "MetaKernel Magics",
			 "url": "https://github.com/calysto/metakernel/blob/master/metakernel/magics/README.md"
			}
		   ],
		   "mimetype": "text/x-octave",
		   "name": "scilab",
		   "version": "0.7.1"
		  }
		 },
		 "nbformat": 4,
		 "nbformat_minor": 0
}
