{
"cells": [
 {
		   "cell_type": "markdown",
	   "metadata": {},
	   "source": [
       "# Chapter 6: Integration and its Applications"
	   ]
	},
{
		   "cell_type": "markdown",
		   "metadata": {},
		   "source": [
			"## Example 4.2_3: definite_integral.sce"
		   ]
		  },
  {
"cell_type": "code",
	   "execution_count": null,
	   "metadata": {
	    "collapsed": true
	   },
	   "outputs": [],
"source": [
"//error no output\n",
"//ques4\n",
"clc\n",
"disp('definite integral');\n",
"syms x a\n",
"g=x^3*(2*a*x-x^2)^(1/2);\n",
"f=integ(g,x,0,2*a);\n",
"disp(f);"
   ]
   }
,
{
		   "cell_type": "markdown",
		   "metadata": {},
		   "source": [
			"## Example 4.4_2: definite_integral.sce"
		   ]
		  },
  {
"cell_type": "code",
	   "execution_count": null,
	   "metadata": {
	    "collapsed": true
	   },
	   "outputs": [],
"source": [
"//ques4\n",
"clc\n",
"disp('definite integral');\n",
"syms x \n",
"g=x^4*(1-x^2)^(3/2);\n",
"f=integ(g,x,0,1);\n",
"disp(float(f));"
   ]
   }
,
{
		   "cell_type": "markdown",
		   "metadata": {},
		   "source": [
			"## Example 6.10: definite_integral.sce"
		   ]
		  },
  {
"cell_type": "code",
	   "execution_count": null,
	   "metadata": {
	    "collapsed": true
	   },
	   "outputs": [],
"source": [
"\n",
"//ques8\n",
"clc\n",
"syms x\n",
"g=x*sin(x)^6*cos(x)^4;\n",
"f=integ(g,x,0,%pi);\n",
"disp(float(f));"
   ]
   }
,
{
		   "cell_type": "markdown",
		   "metadata": {},
		   "source": [
			"## Example 6.1_1: indefinite_integral.sce"
		   ]
		  },
  {
"cell_type": "code",
	   "execution_count": null,
	   "metadata": {
	    "collapsed": true
	   },
	   "outputs": [],
"source": [
"//ques1\n",
"disp('Indefinite integral');\n",
"syms x\n",
"f=integ((sin(x))^4,x);\n",
"disp(f);"
   ]
   }
,
{
		   "cell_type": "markdown",
		   "metadata": {},
		   "source": [
			"## Example 6.12: Definite_Integration_of_a_function.sce"
		   ]
		  },
  {
"cell_type": "code",
	   "execution_count": null,
	   "metadata": {
	    "collapsed": true
	   },
	   "outputs": [],
"source": [
"clear\n",
"clc\n",
"integrate('sin(x)^0.5/(sin(x)^0.5+cos(x)^0.5)','x',0,%pi/2)  "
   ]
   }
,
{
		   "cell_type": "markdown",
		   "metadata": {},
		   "source": [
			"## Example 6.1_2: indefinite_integral.sce"
		   ]
		  },
  {
"cell_type": "code",
	   "execution_count": null,
	   "metadata": {
	    "collapsed": true
	   },
	   "outputs": [],
"source": [
"//ques1\n",
"disp('Indefinite integral');\n",
"syms x\n",
"f=integ((cos(x))^7,x);\n",
"disp(f);"
   ]
   }
,
{
		   "cell_type": "markdown",
		   "metadata": {},
		   "source": [
			"## Example 6.13: sum_of_infinite_series.sce"
		   ]
		  },
  {
"cell_type": "code",
	   "execution_count": null,
	   "metadata": {
	    "collapsed": true
	   },
	   "outputs": [],
"source": [
"\n",
"//ques13\n",
"clc\n",
"syms x\n",
"disp('The summation is equivalent to integration of 1/(1+x^2) from 0 to 1 '); \n",
"g=1/(1+x^2);\n",
"f=integ(g,x,0,1);\n",
"disp(float(f));"
   ]
   }
,
{
		   "cell_type": "markdown",
		   "metadata": {},
		   "source": [
			"## Example 6.14: finding_the_limit_of_the_function.sce"
		   ]
		  },
  {
"cell_type": "code",
	   "execution_count": null,
	   "metadata": {
	    "collapsed": true
	   },
	   "outputs": [],
"source": [
"//ques14\n",
"clc\n",
"syms x\n",
"disp('The summation is equivalent to integration of log(1+x) from 0 to 1 '); \n",
"g=log(1+x);\n",
"f=integ(g,x,0,1);\n",
"disp(float(f));"
   ]
   }
,
{
		   "cell_type": "markdown",
		   "metadata": {},
		   "source": [
			"## Example 6.15: Definite_Integration_of_a_function.sce"
		   ]
		  },
  {
"cell_type": "code",
	   "execution_count": null,
	   "metadata": {
	    "collapsed": true
	   },
	   "outputs": [],
"source": [
"clear\n",
"clc\n",
"integrate('x*sin(x)^8*cos(x)^4','x',0,%pi)  "
   ]
   }
,
{
		   "cell_type": "markdown",
		   "metadata": {},
		   "source": [
			"## Example 6.16: Definite_Integration_of_a_function.sce"
		   ]
		  },
  {
"cell_type": "code",
	   "execution_count": null,
	   "metadata": {
	    "collapsed": true
	   },
	   "outputs": [],
"source": [
"clear\n",
"clc\n",
"integrate('log(sin(x))','x',0,%pi/2)  "
   ]
   }
,
{
		   "cell_type": "markdown",
		   "metadata": {},
		   "source": [
			"## Example 6.2_1: definite_integral.sce"
		   ]
		  },
  {
"cell_type": "code",
	   "execution_count": null,
	   "metadata": {
	    "collapsed": true
	   },
	   "outputs": [],
"source": [
"//ques1\n",
"disp('definite integral');\n",
"syms x\n",
"f=integ((cos(x))^6,x,0,%pi/2);\n",
"disp(float(f));"
   ]
   }
,
{
		   "cell_type": "markdown",
		   "metadata": {},
		   "source": [
			"## Example 6.2_2: Definite_Integration_of_a_function.sce"
		   ]
		  },
  {
"cell_type": "code",
	   "execution_count": null,
	   "metadata": {
	    "collapsed": true
	   },
	   "outputs": [],
"source": [
"//no output\n",
"//ques1\n",
"clc\n",
"disp('definite integral');\n",
"syms x a\n",
"g=x^7/(a^2-x^2)^1/2\n",
"f=integ(g,x,0,a);\n",
"disp(float(f));"
   ]
   }
,
{
		   "cell_type": "markdown",
		   "metadata": {},
		   "source": [
			"## Example 6.2_3: definite_integral.sce"
		   ]
		  },
  {
"cell_type": "code",
	   "execution_count": null,
	   "metadata": {
	    "collapsed": true
	   },
	   "outputs": [],
"source": [
"//no output\n",
"//ques1\n",
"clc\n",
"disp('definite integral');\n",
"syms x a n\n",
"g=1/(a^2+x^2)^n;\n",
"f=integ(g,x,0,%inf);\n",
"disp(f);"
   ]
   }
,
{
		   "cell_type": "markdown",
		   "metadata": {},
		   "source": [
			"## Example 6.24: Calculating_the_area_under_two_curves.sce"
		   ]
		  },
  {
"cell_type": "code",
	   "execution_count": null,
	   "metadata": {
	    "collapsed": true
	   },
	   "outputs": [],
"source": [
"clear\n",
"clc\n",
"xset('window',1)\n",
"xtitle('My Graph','X axis','Y axis')\n",
"x=linspace(-5,10,70)\n",
"y1=(x+8)/2\n",
"y2=x^2/8\n",
"plot(x,y1,'o-') \n",
"plot(x,y2,'+-')\n",
"legend('(x+8)/2','x^2/8')\n",
"disp('from the graph,it is clear that the points of intersection are x=-4 and x=8.')\n",
"disp('So,our region of integration is from x=-4 to x=8')\n",
"integrate('(x+8)/2-x^2/8','x',-4,8)"
   ]
   }
,
{
		   "cell_type": "markdown",
		   "metadata": {},
		   "source": [
			"## Example 6.4_1: definite_integral.sce"
		   ]
		  },
  {
"cell_type": "code",
	   "execution_count": null,
	   "metadata": {
	    "collapsed": true
	   },
	   "outputs": [],
"source": [
"//ques4\n",
"clc\n",
"disp('definite integral');\n",
"syms x \n",
"g=(sin(6*x))^3*(cos(3*x))^7;\n",
"f=integ(g,x,0,%pi/6);\n",
"disp(float(f));"
   ]
   }
,
{
		   "cell_type": "markdown",
		   "metadata": {},
		   "source": [
			"## Example 6.5: definite_integral.sce"
		   ]
		  },
  {
"cell_type": "code",
	   "execution_count": null,
	   "metadata": {
	    "collapsed": true
	   },
	   "outputs": [],
"source": [
"//error no internal error\n",
"//ques5\n",
"clc\n",
"disp('definite integral');\n",
"syms x m n\n",
"n=input('Enter n :');\n",
"m=input('Enter m : ');\n",
"g=(cos(x))^m*cos(n*x);\n",
"f=integ(g,x,0,%pi/2);\n",
"disp(float(f));\n",
"g2=(cos(x))^(m-1)*cos((n-1)*x);\n",
"f2=m/(m+n)*integ(g2,x,0,%pi/2);\n",
"disp(float(f2));\n",
"disp('Equal');\n",
"\n",
""
   ]
   }
,
{
		   "cell_type": "markdown",
		   "metadata": {},
		   "source": [
			"## Example 6.6_1: reducing_indefinite_integral_to_simpler_form.sce"
		   ]
		  },
  {
"cell_type": "code",
	   "execution_count": null,
	   "metadata": {
	    "collapsed": true
	   },
	   "outputs": [],
"source": [
"//ques6\n",
"clc\n",
"disp('definite integral');\n",
"syms x a \n",
"n=input('Enter n :');\n",
"g=exp(a*x)*(sin(x))^n;\n",
"\n",
"f=integ(g,x);\n",
"disp(f);"
   ]
   }
,
{
		   "cell_type": "markdown",
		   "metadata": {},
		   "source": [
			"## Example 6.7_1: Indefinite_Integration_of_a_function.sce"
		   ]
		  },
  {
"cell_type": "code",
	   "execution_count": null,
	   "metadata": {
	    "collapsed": true
	   },
	   "outputs": [],
"source": [
"clc\n",
"syms x\n",
"disp(integ(tan(x)^5,x))  "
   ]
   }
,
{
		   "cell_type": "markdown",
		   "metadata": {},
		   "source": [
			"## Example 6.8: Getting_the_manual_input_of_a_variable_and_integration.sce"
		   ]
		  },
  {
"cell_type": "code",
	   "execution_count": null,
	   "metadata": {
	    "collapsed": true
	   },
	   "outputs": [],
"source": [
"clc\n",
"n=input('Enter the value of n ');\n",
"p=integrate('(tan(x))^(n-1)','x',0,%pi/4)  \n",
"q=integrate('(tan(x))^(n+1)','x',0,%pi/4)  \n",
"disp('n(p+q)=')\n",
"disp(n*(p+q))"
   ]
   }
,
{
		   "cell_type": "markdown",
		   "metadata": {},
		   "source": [
			"## Example 6.9_1: Definite_Integration_of_a_function.sce"
		   ]
		  },
  {
"cell_type": "code",
	   "execution_count": null,
	   "metadata": {
	    "collapsed": true
	   },
	   "outputs": [],
"source": [
"clear\n",
"clc\n",
"integrate('sec(x)^4','x',0,%pi/4)  "
   ]
   }
,
{
		   "cell_type": "markdown",
		   "metadata": {},
		   "source": [
			"## Example 6.9_2: Definite_Integration_of_a_function.sce"
		   ]
		  },
  {
"cell_type": "code",
	   "execution_count": null,
	   "metadata": {
	    "collapsed": true
	   },
	   "outputs": [],
"source": [
"clear\n",
"clc\n",
"integrate('1/sin(x)^3','x',%pi/3,%pi/2)  "
   ]
   }
],
"metadata": {
		  "kernelspec": {
		   "display_name": "Scilab",
		   "language": "scilab",
		   "name": "scilab"
		  },
		  "language_info": {
		   "file_extension": ".sce",
		   "help_links": [
			{
			 "text": "MetaKernel Magics",
			 "url": "https://github.com/calysto/metakernel/blob/master/metakernel/magics/README.md"
			}
		   ],
		   "mimetype": "text/x-octave",
		   "name": "scilab",
		   "version": "0.7.1"
		  }
		 },
		 "nbformat": 4,
		 "nbformat_minor": 0
}
