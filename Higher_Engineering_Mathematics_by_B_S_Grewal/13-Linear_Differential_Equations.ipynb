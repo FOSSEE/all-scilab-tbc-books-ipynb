{
"cells": [
 {
		   "cell_type": "markdown",
	   "metadata": {},
	   "source": [
       "# Chapter 13: Linear Differential Equations"
	   ]
	},
{
		   "cell_type": "markdown",
		   "metadata": {},
		   "source": [
			"## Example 13.10: finding_particular_integral.sce"
		   ]
		  },
  {
"cell_type": "code",
	   "execution_count": null,
	   "metadata": {
	    "collapsed": true
	   },
	   "outputs": [],
"source": [
"//error\n",
"clc\n",
"disp('solution of the given linear differential equation is given by : ');"
   ]
   }
,
{
		   "cell_type": "markdown",
		   "metadata": {},
		   "source": [
			"## Example 13.11: solving_the_given_linear_equation.sce"
		   ]
		  },
  {
"cell_type": "code",
	   "execution_count": null,
	   "metadata": {
	    "collapsed": true
	   },
	   "outputs": [],
"source": [
"//ques11\n",
"clc\n",
"disp('solution of the given linear differential equation is given by : ');\n",
"disp('CF + PI');\n",
"syms c1 c2 x\n",
"m=poly(0,'m');\n",
"f=(m-2)^2;\n",
"r=roots(f);\n",
"disp(r);\n",
"disp('CF is given by ');\n",
"cf=(c1+c2*x)*exp(r(1)*x);\n",
"disp(cf);\n",
"disp('----------------------------------');\n",
"disp('PI =8*{1/(D-2)^2[exp(2x)]+{1/(D-2)^2[sin(2x)]+{1/(D-2)^2[x^2]}');\n",
"disp('using identities it reduces to : ');\n",
"pi=4*x^2*exp(2*x)+cos(2*x)+4*x+3;\n",
"disp(pi);\n",
"y=cf+pi;\n",
"disp('The solution is : y=');\n",
"disp(y);\n",
""
   ]
   }
,
{
		   "cell_type": "markdown",
		   "metadata": {},
		   "source": [
			"## Example 13.12: solving_the_given_linear_equation.sce"
		   ]
		  },
  {
"cell_type": "code",
	   "execution_count": null,
	   "metadata": {
	    "collapsed": true
	   },
	   "outputs": [],
"source": [
"//ques12\n",
"clc\n",
"\n",
"disp('solution of the given linear differential equation is given by : ');\n",
"disp('CF + PI');\n",
"syms c1 c2 x\n",
"m=poly(0,'m');\n",
"f=(m^2-4);\n",
"r=roots(f);\n",
"disp(r);\n",
"disp('CF is given by ');\n",
"cf=c1*exp(r(1)*x)+c2*exp(r(2)*x);\n",
"disp(cf);\n",
"disp('----------------------------------');\n",
"disp('PI =8*{1/(D^2-4)[x*sinh(x)]');\n",
"disp('using identities it reduces to : ');\n",
"pi=-x/6*(exp(x)-exp(-x))-2/18*(exp(x)+exp(-x));\n",
"disp(pi);\n",
"y=cf+pi;\n",
"disp('The solution is : y=');\n",
"disp(y);\n",
""
   ]
   }
,
{
		   "cell_type": "markdown",
		   "metadata": {},
		   "source": [
			"## Example 13.13: solving_the_given_linear_equation.sce"
		   ]
		  },
  {
"cell_type": "code",
	   "execution_count": null,
	   "metadata": {
	    "collapsed": true
	   },
	   "outputs": [],
"source": [
"//ques12\n",
"clc\n",
"\n",
"disp('solution of the given linear differential equation is given by : ');\n",
"disp('CF + PI');\n",
"syms c1 c2 x\n",
"m=poly(0,'m');\n",
"f=(m^2-1);\n",
"r=roots(f);\n",
"disp(r);\n",
"disp('CF is given by ');\n",
"cf=c1*exp(r(1)*x)+c2*exp(r(2)*x);\n",
"disp(cf);\n",
"disp('----------------------------------');\n",
"disp('PI =*{1/(D^2-1)[x*sin(3x)+cos(x)]');\n",
"disp('using identities it reduces to : ');\n",
"pi=-1/10*(x*sin(3*x)+3/5*cos(3*x))-cos(x)/2;\n",
"disp(pi);\n",
"y=cf+pi;\n",
"disp('The solution is : y=');\n",
"disp(y);\n",
""
   ]
   }
,
{
		   "cell_type": "markdown",
		   "metadata": {},
		   "source": [
			"## Example 13.14: solving_the_given_linear_equation.sce"
		   ]
		  },
  {
"cell_type": "code",
	   "execution_count": null,
	   "metadata": {
	    "collapsed": true
	   },
	   "outputs": [],
"source": [
"//ques14\n",
"clc\n",
"\n",
"disp('solution of the given linear differential equation is given by : ');\n",
"disp('CF + PI');\n",
"syms c1 c2 c3 c4 x\n",
"m=poly(0,'m');\n",
"f=(m^4+2*m^2+1);\n",
"r=roots(f);\n",
"disp(r);\n",
"disp('CF is given by ');\n",
"cf=real((c1+c2*x)*exp(r(1)*x)+(c3+c4*x)*exp(r(3)*x));\n",
"disp(cf);\n",
"disp('----------------------------------');\n",
"disp('PI =*{1/(D^4+2*D+1)[x^2*cos(x)]');\n",
"disp('using identities it reduces to : ');\n",
"pi=-1/48*((x^4-9*x^2)*cos(x)-4*x^3*sin(x));\n",
"disp(pi);\n",
"y=cf+pi;\n",
"disp('The solution is : y=');\n",
"disp(y);\n",
""
   ]
   }
,
{
		   "cell_type": "markdown",
		   "metadata": {},
		   "source": [
			"## Example 13.1: solvinf_linear_differential_equation.sce"
		   ]
		  },
  {
"cell_type": "code",
	   "execution_count": null,
	   "metadata": {
	    "collapsed": true
	   },
	   "outputs": [],
"source": [
"//ques1\n",
"clc\n",
"disp('solution of the given linear differential equation is given by : ');\n",
"syms c1 c2 x\n",
"m=poly(0,'m');\n",
"f=m^2+m-2;\n",
"r=roots(f);\n",
"disp(r);\n",
"y=0;\n",
"//for i=1:length(r)\n",
"  //syms c(i)\n",
"  //y=y+c(i)*exp(r(i)*x);\n",
"  //end\n",
"  y=c1*exp(r(1)*x)+c2*exp(r(2)*x);\n",
"  disp('y=');\n",
"  disp(y);"
   ]
   }
,
{
		   "cell_type": "markdown",
		   "metadata": {},
		   "source": [
			"## Example 13.2: solving_linear_differential_equation.sce"
		   ]
		  },
  {
"cell_type": "code",
	   "execution_count": null,
	   "metadata": {
	    "collapsed": true
	   },
	   "outputs": [],
"source": [
"//ques2\n",
"clc\n",
"disp('solution of the given linear differential equation is given by : ');\n",
"syms c1 c2 x;\n",
"m=poly(0,'m');\n",
"f=m^2+6*m+9;\n",
"r=roots(f);\n",
"disp(r);\n",
"disp('roots are equal so solution is given by :');\n",
"disp('y=');\n",
"y=(c1+x*c2)*exp(r(1)*x);\n",
"disp(y);"
   ]
   }
,
{
		   "cell_type": "markdown",
		   "metadata": {},
		   "source": [
			"## Example 13.3: solving_linear_differential_equation.sce"
		   ]
		  },
  {
"cell_type": "code",
	   "execution_count": null,
	   "metadata": {
	    "collapsed": true
	   },
	   "outputs": [],
"source": [
"//ques4\n",
"clc\n",
"disp('solution of the given linear differential equation is given by : ');\n",
"syms c1 c2 c3 x\n",
"m=poly(0,'m');\n",
"f=m^3+m^2+4*m+4;\n",
"r=roots(f);\n",
"disp(r);\n",
"y=c1*exp(r(1)*x)+c2*exp(r(2)*x)+c3*exp(r(3)*x);\n",
"disp('y=');\n",
"disp(real(y));"
   ]
   }
,
{
		   "cell_type": "markdown",
		   "metadata": {},
		   "source": [
			"## Example 13.4: solving_linear_differential_equation.sce"
		   ]
		  },
  {
"cell_type": "code",
	   "execution_count": null,
	   "metadata": {
	    "collapsed": true
	   },
	   "outputs": [],
"source": [
"//ques4\n",
"clc\n",
"disp('solution of the given linear differential equation is given by : ');\n",
"m=poly(0,'m');\n",
"syms c1 c2 c3 c4 x\n",
"f=m^4+4;\n",
"r=roots(f);\n",
"disp(r);\n",
"y=c1*exp(r(1)*x)+c2*exp(r(2)*x)+c3*exp(r(3)*x)+c4*exp(r(4)*x);\n",
"disp('y=');\n",
"disp(real(y));"
   ]
   }
,
{
		   "cell_type": "markdown",
		   "metadata": {},
		   "source": [
			"## Example 13.5: finding_particular_integral.sce"
		   ]
		  },
  {
"cell_type": "code",
	   "execution_count": null,
	   "metadata": {
	    "collapsed": true
	   },
	   "outputs": [],
"source": [
"//ques5\n",
"clc\n",
"disp('solution of the given linear differential equation is given by : ');\n",
"m=poly(0,'m');\n",
"f=m^2+5*m+6;\n",
"//for particular solution a=1\n",
"y=exp(x)/horner(f,1);\n",
"disp('y-');\n",
"disp(y);"
   ]
   }
,
{
		   "cell_type": "markdown",
		   "metadata": {},
		   "source": [
			"## Example 13.6: finding_particular_integral.sce"
		   ]
		  },
  {
"cell_type": "code",
	   "execution_count": null,
	   "metadata": {
	    "collapsed": true
	   },
	   "outputs": [],
"source": [
"//ques6\n",
"clc\n",
"disp('solution of the given linear differential equation is given by : ');\n",
"m=poly(0,'m');\n",
"f=(m+2)*(m-1)^2;\n",
"r=roots(f);\n",
"disp(r);\n",
"disp('y=1/f(D)*[exp(-2x)+exp(x)-exp(-x)');\n",
"disp('using 1/f(D)exp(ax)=x/f1(D)*exp(ax) if f(m)=0');\n",
"y1=x*exp(-2*x)/9;\n",
"y2=exp(-x)/4;\n",
"y3=x^2*exp(x)/6;\n",
"y=y1+y2+y3;\n",
"disp('y=');\n",
"disp(y);"
   ]
   }
,
{
		   "cell_type": "markdown",
		   "metadata": {},
		   "source": [
			"## Example 13.7: finding_particular_integral.sce"
		   ]
		  },
  {
"cell_type": "code",
	   "execution_count": null,
	   "metadata": {
	    "collapsed": true
	   },
	   "outputs": [],
"source": [
"//ques7\n",
"clc\n",
"disp('solution of the given linear differential equation is given by : ');\n",
"m=poly(0,'m');\n",
"f=m^3+1;\n",
"disp('Using the identity 1/f(D^2)*sin(ax+b)[or cos(ax+b)]=1/f(-a^2)*sin(ax+b)[or cos(ax+b)] this equation can be reduced to ');\n",
"disp('y=(4D+1)/65*cos(2x-1)');\n",
"y=(cos(2*x-1)+4*diff(cos(2*x-1),x))/65;\n",
"disp('y=');\n",
"disp(y);"
   ]
   }
,
{
		   "cell_type": "markdown",
		   "metadata": {},
		   "source": [
			"## Example 13.8: finding_particular_integral.sce"
		   ]
		  },
  {
"cell_type": "code",
	   "execution_count": null,
	   "metadata": {
	    "collapsed": true
	   },
	   "outputs": [],
"source": [
"//ques8\n",
"clc\n",
"disp('solution of the given linear differential equation is given by : ');\n",
"m=poly(0,'m');\n",
"f=m^3+4*m;\n",
"disp('using 1/f(D)exp(ax)=x/f1(D)*exp(ax) if f(m)=0');\n",
"disp('y=x*1/(3D^2+4)*sin2x');\n",
"disp('Using the identity 1/f(D^2)*sin(ax+b)[or cos(ax+b)]=1/f(-a^2)*sin(ax+b)[or cos(ax+b)] this equation can be reduced to ');\n",
"disp('y=-x/8*sin2x');\n",
"disp('y=');\n",
"y=-x*sin(2*x)/8;\n",
"disp(y);"
   ]
   }
,
{
		   "cell_type": "markdown",
		   "metadata": {},
		   "source": [
			"## Example 13.9: finding_particular_integral.sce"
		   ]
		  },
  {
"cell_type": "code",
	   "execution_count": null,
	   "metadata": {
	    "collapsed": true
	   },
	   "outputs": [],
"source": [
"//ques9\n",
"clc\n",
"disp('solution of the given linear differential equation is given by : ');\n",
"m=poly(0,'m');\n",
"\n",
"disp('y=1/(D(D+1))[x^2+2x+4] can be written as (1-D+D^2)/D[x^2+2x+4] which is combination of differentiation and integration ');\n",
"g=x^2+2*x+4;\n",
"f=g-diff(g,x)+diff(g,x,2);\n",
"y=integ(f,x);\n",
"disp('y=');\n",
"disp(y);"
   ]
   }
],
"metadata": {
		  "kernelspec": {
		   "display_name": "Scilab",
		   "language": "scilab",
		   "name": "scilab"
		  },
		  "language_info": {
		   "file_extension": ".sce",
		   "help_links": [
			{
			 "text": "MetaKernel Magics",
			 "url": "https://github.com/calysto/metakernel/blob/master/metakernel/magics/README.md"
			}
		   ],
		   "mimetype": "text/x-octave",
		   "name": "scilab",
		   "version": "0.7.1"
		  }
		 },
		 "nbformat": 4,
		 "nbformat_minor": 0
}
