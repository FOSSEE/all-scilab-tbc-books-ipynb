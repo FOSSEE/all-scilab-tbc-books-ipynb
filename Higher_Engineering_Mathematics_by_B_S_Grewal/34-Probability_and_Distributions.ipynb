{
"cells": [
 {
		   "cell_type": "markdown",
	   "metadata": {},
	   "source": [
       "# Chapter 34: Probability and Distributions"
	   ]
	},
{
		   "cell_type": "markdown",
		   "metadata": {},
		   "source": [
			"## Example 34.13: probability_of_drawing_an_ace_or_spade_from_pack_of_52_cards.sce"
		   ]
		  },
  {
"cell_type": "code",
	   "execution_count": null,
	   "metadata": {
	    "collapsed": true
	   },
	   "outputs": [],
"source": [
"clear\n",
"clc\n",
"disp('probability of drawing an ace or spade or both from pack of 52 cards=4/52+13/52-1/52=')\n",
"4/52+13/52-1/52"
   ]
   }
,
{
		   "cell_type": "markdown",
		   "metadata": {},
		   "source": [
			"## Example 34.14_1: Finding_the_probability.sce"
		   ]
		  },
  {
"cell_type": "code",
	   "execution_count": null,
	   "metadata": {
	    "collapsed": true
	   },
	   "outputs": [],
"source": [
"clear\n",
"clc\n",
"disp('probability of first card being a king=4/52')\n",
"4/52\n",
"disp('probability of second card being a queen=4/52')\n",
"4/52\n",
"disp('probability of drawing both cards in succession=4/52*4/52=')\n",
"4/52*4/52"
   ]
   }
,
{
		   "cell_type": "markdown",
		   "metadata": {},
		   "source": [
			"## Example 34.15_1: Finding_the_probability.sce"
		   ]
		  },
  {
"cell_type": "code",
	   "execution_count": null,
	   "metadata": {
	    "collapsed": true
	   },
	   "outputs": [],
"source": [
"clear\n",
"clc\n",
"disp('probability of getting 7 in first toss and not getting it in second toss=1/6*5/6')\n",
"1/6*5/6\n",
"disp('probability of not getting 7 in first toss and getting it in second toss=5/6*1/6')\n",
"5/6*1/6\n",
"disp('required probability=1/6*5/6+5/6*1/6')\n",
"1/6*5/6+5/6*1/6"
   ]
   }
,
{
		   "cell_type": "markdown",
		   "metadata": {},
		   "source": [
			"## Example 34.15_2: Finding_the_probability.sce"
		   ]
		  },
  {
"cell_type": "code",
	   "execution_count": null,
	   "metadata": {
	    "collapsed": true
	   },
	   "outputs": [],
"source": [
"clear\n",
"clc\n",
"disp('probability of not getting 7 in either toss=5/6*5/6')\n",
"5/6*5/6\n",
"disp('probability of getting 7 at least once=1-5/6*5/6')\n",
"1-5/6*5/6"
   ]
   }
,
{
		   "cell_type": "markdown",
		   "metadata": {},
		   "source": [
			"## Example 34.15_3: Finding_the_probability.sce"
		   ]
		  },
  {
"cell_type": "code",
	   "execution_count": null,
	   "metadata": {
	    "collapsed": true
	   },
	   "outputs": [],
"source": [
"clear\n",
"clc\n",
"disp('probability of getting 7 twice=1/6*1/6')\n",
"1/6*1/6"
   ]
   }
,
{
		   "cell_type": "markdown",
		   "metadata": {},
		   "source": [
			"## Example 34.16: Finding_the_probability.sce"
		   ]
		  },
  {
"cell_type": "code",
	   "execution_count": null,
	   "metadata": {
	    "collapsed": true
	   },
	   "outputs": [],
"source": [
"clear\n",
"clc\n",
"disp('probability of engineering subject being chooosen=(1/3*3/8)+(2/3*5/8)=')\n",
"(1/3*3/8)+(2/3*5/8)"
   ]
   }
,
{
		   "cell_type": "markdown",
		   "metadata": {},
		   "source": [
			"## Example 34.17: Finding_the_probability.sce"
		   ]
		  },
  {
"cell_type": "code",
	   "execution_count": null,
	   "metadata": {
	    "collapsed": true
	   },
	   "outputs": [],
"source": [
"clear\n",
"clc\n",
"disp('probability of white ball being choosen=2/6*6/13+4/6*5/13=' )\n",
"2/6*6/13+4/6*5/13"
   ]
   }
,
{
		   "cell_type": "markdown",
		   "metadata": {},
		   "source": [
			"## Example 34.18: Finding_the_probability.sce"
		   ]
		  },
  {
"cell_type": "code",
	   "execution_count": null,
	   "metadata": {
	    "collapsed": true
	   },
	   "outputs": [],
"source": [
"clear\n",
"clc\n",
"disp('chances of winning of A=1/2+(1/2)^2*(1/2)+(1/2)^4*(1/2)+(1/2)^6*(1/2)+..=' )\n",
"(1/2)/(1-(1/2)^2)\n",
"disp('chances of winning of B=1-chances of winning of A')\n",
"1-2/3"
   ]
   }
,
{
		   "cell_type": "markdown",
		   "metadata": {},
		   "source": [
			"## Example 34.19_1: Finding_the_probability.sce"
		   ]
		  },
  {
"cell_type": "code",
	   "execution_count": null,
	   "metadata": {
	    "collapsed": true
	   },
	   "outputs": [],
"source": [
"clear\n",
"clc\n",
"function [x]=C(a,b)\n",
"x=factorial(a)/(factorial(b)*factorial(a-b))\n",
"endfunction\n",
"disp('total no.of possible outcomes=C(10,2)=')\n",
"C(10,2)\n",
"disp('no. of favourable outcomes=5*5=')\n",
"5*5\n",
"disp('p=')\n",
"25/49"
   ]
   }
,
{
		   "cell_type": "markdown",
		   "metadata": {},
		   "source": [
			"## Example 34.19_2: Finding_the_probability.sce"
		   ]
		  },
  {
"cell_type": "code",
	   "execution_count": null,
	   "metadata": {
	    "collapsed": true
	   },
	   "outputs": [],
"source": [
"clear\n",
"clc\n",
"disp('total no.of possible outcomes=10*9=')\n",
"10*9\n",
"disp('no. of favourable outcomes=5*5+5*5=')\n",
"5*5+5*5\n",
"disp('p=')\n",
"50/90"
   ]
   }
,
{
		   "cell_type": "markdown",
		   "metadata": {},
		   "source": [
			"## Example 34.19_3: Finding_the_probability.sce"
		   ]
		  },
  {
"cell_type": "code",
	   "execution_count": null,
	   "metadata": {
	    "collapsed": true
	   },
	   "outputs": [],
"source": [
"clear\n",
"clc\n",
"disp('total no.of possible outcomes=10*9=')\n",
"10*10\n",
"disp('no. of favourable outcomes=5*5+5*5=')\n",
"5*5+5*5\n",
"disp('p=')\n",
"50/100"
   ]
   }
,
{
		   "cell_type": "markdown",
		   "metadata": {},
		   "source": [
			"## Example 34.1: Calculating_probability.sce"
		   ]
		  },
  {
"cell_type": "code",
	   "execution_count": null,
	   "metadata": {
	    "collapsed": true
	   },
	   "outputs": [],
"source": [
"clear\n",
"clc\n",
"disp('from the principle of counting,the required no.of ways are 12*11*10*9=')\n",
"12*11*10*9"
   ]
   }
,
{
		   "cell_type": "markdown",
		   "metadata": {},
		   "source": [
			"## Example 34.20: Finding_the_probability.sce"
		   ]
		  },
  {
"cell_type": "code",
	   "execution_count": null,
	   "metadata": {
	    "collapsed": true
	   },
	   "outputs": [],
"source": [
"clear\n",
"clc\n",
"A=1/4\n",
"B=1/3\n",
"AorB=1/2\n",
"AandB=A+B-AorB\n",
"disp('probability of A/B=AandB/B=')\n",
"AandB/B\n",
"disp('probability of B/A=AandB/A=')\n",
"AandB/A\n",
"disp('probability of AandBnot=A-AandB=')\n",
"A-AandB\n",
"disp('probability of A/Bnot=AandBnot/Bnot=')\n",
"(1/6)/(1-1/3)"
   ]
   }
,
{
		   "cell_type": "markdown",
		   "metadata": {},
		   "source": [
			"## Example 34.2_1: Calculating_the_number_of_permutations.sce"
		   ]
		  },
  {
"cell_type": "code",
	   "execution_count": null,
	   "metadata": {
	    "collapsed": true
	   },
	   "outputs": [],
"source": [
"clear\n",
"clc\n",
"disp('no.of permutations=9!/(2!*2!*2!) ')\n",
"factorial(9)/(factorial(2)*factorial(2)*factorial(2))"
   ]
   }
,
{
		   "cell_type": "markdown",
		   "metadata": {},
		   "source": [
			"## Example 34.22: Finding_the_probability.sce"
		   ]
		  },
  {
"cell_type": "code",
	   "execution_count": null,
	   "metadata": {
	    "collapsed": true
	   },
	   "outputs": [],
"source": [
"clear\n",
"clc\n",
"disp('probability of A hitting target=3/5')\n",
"disp('probability of B hitting target=2/5')\n",
"disp('probability of C hitting target=3/4')\n",
"disp('probability that two shots hit=3/5*2/5*(1-3/4)+2/5*3/4*(1-3/5)+3/4*3/5*(1-2/5)')\n",
"3/5*2/5*(1-3/4)+2/5*3/4*(1-3/5)+3/4*3/5*(1-2/5)"
   ]
   }
,
{
		   "cell_type": "markdown",
		   "metadata": {},
		   "source": [
			"## Example 34.2_2: Number_of_permutations.sce"
		   ]
		  },
  {
"cell_type": "code",
	   "execution_count": null,
	   "metadata": {
	    "collapsed": true
	   },
	   "outputs": [],
"source": [
"clear\n",
"clc\n",
"disp('no.of permutations=9!/(2!*2!*3!*3!) ')\n",
"factorial(9)/(factorial(2)*factorial(2)*factorial(3)*factorial(3))"
   ]
   }
,
{
		   "cell_type": "markdown",
		   "metadata": {},
		   "source": [
			"## Example 34.23: Finding_the_probability.sce"
		   ]
		  },
  {
"cell_type": "code",
	   "execution_count": null,
	   "metadata": {
	    "collapsed": true
	   },
	   "outputs": [],
"source": [
"clear\n",
"clc\n",
"disp('probability of problem not getting solved=1/2*2/3*3/4=')\n",
"1/2*2/3*3/4\n",
"disp('probability of problem getting solved=1-(1/2*2/3*3/4)=')\n",
"1-(1/2*2/3*3/4)"
   ]
   }
,
{
		   "cell_type": "markdown",
		   "metadata": {},
		   "source": [
			"## Example 34.25: finding_the_probability.sce"
		   ]
		  },
  {
"cell_type": "code",
	   "execution_count": null,
	   "metadata": {
	    "collapsed": true
	   },
	   "outputs": [],
"source": [
"clc\n",
"disp('total frequency= integrate (f,x,0,2 )=')\n",
"n=integrate ('x^3','x',0,1)+integrate ('(2-x)^3','x',1,2)\n",
"disp('u1 about origin=')\n",
"u1=(1/n)*(integrate ('(x)*(x^3)','x',0,1)+integrate ('(x)*((2-x)^3)','x',1,2))\n",
"disp('u2 about origin=')\n",
"u2=(1/n)*(integrate ('(x^2)*(x^3)','x',0,1)+integrate('(x^2)*((2-x)^3)','x',1,2))\n",
"disp('standard deviation=(u2-u1^2)^0.5=')\n",
"(u2-u1^2)^0.5\n",
"disp('mean deviation about the mean=(1/n)*(integrate (|x-1|*(x^3),x,0,1)+integrate(|x-1|*((2-x)^3),x,1,2`)')\n",
"(1/n)*(integrate ('(1-x)*(x^3)','x',0,1)+integrate('(x-1)*((2-x)^3)','x',1,2))"
   ]
   }
,
{
		   "cell_type": "markdown",
		   "metadata": {},
		   "source": [
			"## Example 34.26: finding_the_probability.sce"
		   ]
		  },
  {
"cell_type": "code",
	   "execution_count": null,
	   "metadata": {
	    "collapsed": true
	   },
	   "outputs": [],
"source": [
"clear\n",
"clc\n",
"disp('probability=(0.45*0.03)/(0.45*0.03+0.25*0.05+0.3*0.04=')\n",
"(0.45*0.03)/(0.45*0.03+0.25*0.05+0.3*0.04)"
   ]
   }
,
{
		   "cell_type": "markdown",
		   "metadata": {},
		   "source": [
			"## Example 34.27: finding_the_probability.sce"
		   ]
		  },
  {
"cell_type": "code",
	   "execution_count": null,
	   "metadata": {
	    "collapsed": true
	   },
	   "outputs": [],
"source": [
"clear\n",
"clc\n",
"disp('probability=(1/3*2/6*3/5)/(1/3*2/6*3/5+1/3*1/6*2/5+1/3*3/6*1/5')\n",
"(1/3*2/6*3/5)/(1/3*2/6*3/5+1/3*1/6*2/5+1/3*3/6*1/5)"
   ]
   }
,
{
		   "cell_type": "markdown",
		   "metadata": {},
		   "source": [
			"## Example 34.28: finding_the_probability.sce"
		   ]
		  },
  {
"cell_type": "code",
	   "execution_count": null,
	   "metadata": {
	    "collapsed": true
	   },
	   "outputs": [],
"source": [
"clc\n",
"disp('probability of no success=8/27')\n",
"disp('probability of a success=1/3')\n",
"disp('probability of one success=4/9')\n",
"disp('probability of two successes=2/9')\n",
"disp('probability of three successes=2/9')\n",
"A=[0 1 2 3;8/27 4/9 2/9 1/27]\n",
"disp('mean=sum of i*pi=')\n",
"A(1,1)*A(2,1)+A(1,2)*A(2,2)+A(1,4)*A(2,4)+A(1,3)*A(2,3)\n",
"disp('sum of i*pi^2=')\n",
"A(1,1)^2*A(2,1)+A(1,2)^2*A(2,2)+A(1,4)^2*A(2,4)+A(1,3)^2*A(2,3)\n",
"disp('variance=(sum of i*pi^2)-1=')\n",
"A(1,1)^2*A(2,1)+A(1,2)^2*A(2,2)+A(1,4)^2*A(2,4)+A(1,3)^2*A(2,3)-1"
   ]
   }
,
{
		   "cell_type": "markdown",
		   "metadata": {},
		   "source": [
			"## Example 34.29: finding_the_probability.sce"
		   ]
		  },
  {
"cell_type": "code",
	   "execution_count": null,
	   "metadata": {
	    "collapsed": true
	   },
	   "outputs": [],
"source": [
"clc\n",
"syms k\n",
"A=[0 1 2 3 4 5 6;k 3*k 5*k 7*k 9*k 11*k 13*k]\n",
"disp('sumof all pi=1')\n",
"//A(2,1)+A(2,2)+A(2,3)+(A(2,4)+A(2,5)+A(2,6)+A(2,7)\n",
"disp('hence, ')\n",
"k=1/49\n",
"disp('p(x<4)=')\n",
"a=A(2,1)+A(2,2)+A(2,4)+A(2,3)\n",
"eval(a)\n",
"disp(eval(a))\n",
"disp('p(x>=5)=')\n",
"b=A(2,6)+A(2,7)\n",
"eval(b)\n",
"disp(eval(b))\n",
"disp('p(3<x<=6)=')\n",
"c=A(2,5)+A(2,6)+A(2,7)\n",
"eval(c)\n",
"disp(eval(c))\n",
"disp('p(x<=2)=')\n",
"c=A(2,1)+A(2,2) +A(2,3)"
   ]
   }
,
{
		   "cell_type": "markdown",
		   "metadata": {},
		   "source": [
			"## Example 34.30: finding_the_probability.sce"
		   ]
		  },
  {
"cell_type": "code",
	   "execution_count": null,
	   "metadata": {
	    "collapsed": true
	   },
	   "outputs": [],
"source": [
"clc\n",
"syms k\n",
"A=[0 1 2 3 4 5 6 7;0 k 2*k 2*k 3*k k^2 2*k^2 7*k^2+k]\n",
"disp('sumof all pi=1')\n",
"//A(2,1)+A(2,2)+A(2,3)+(A(2,4)+A(2,5)+A(2,6)+A(2,7)\n",
"disp('hence, ')\n",
"k=1/10\n",
"disp('p(x<6)=')\n",
"a=A(2,1)+A(2,2)+A(2,4)+A(2,3)+A(2,4)+A(2,5)+A(2,6)\n",
"eval(a)\n",
"disp(eval(a))\n",
"disp('p(x>=6)=')\n",
"b=A(2,7)+A(2,8)\n",
"eval(b)\n",
"disp(eval(b))\n",
"disp('p(3<x<5)=')\n",
"c=A(2,2)+A(2,3)+A(2,4)+A(2,5)\n",
"eval(c)\n",
"disp(eval(c))"
   ]
   }
,
{
		   "cell_type": "markdown",
		   "metadata": {},
		   "source": [
			"## Example 34.3_1: Calculating_the_number_of_committees.sce"
		   ]
		  },
  {
"cell_type": "code",
	   "execution_count": null,
	   "metadata": {
	    "collapsed": true
	   },
	   "outputs": [],
"source": [
"clear\n",
"clc\n",
"function [x]=C(a,b)\n",
"x=factorial(a)/(factorial(b)*factorial(a-b))\n",
"endfunction\n",
"disp('no. of committees=C(6,3)*C(5,2)=')\n",
"C(6,3)*C(5,2)"
   ]
   }
,
{
		   "cell_type": "markdown",
		   "metadata": {},
		   "source": [
			"## Example 34.31: finding_the_probability.sce"
		   ]
		  },
  {
"cell_type": "code",
	   "execution_count": null,
	   "metadata": {
	    "collapsed": true
	   },
	   "outputs": [],
"source": [
"clc\n",
"syms x;\n",
"f=%e^(-x)\n",
"disp('clearly,f>0 for every x in(1,2) and integrate (f,x,0,%inf )=')\n",
"integrate ('%e^(-y)','y',0,%inf )\n",
"disp('required probability=p(1<=x<=2)=integrate(f,x,1,2)=')\n",
"integrate('%e^(-y)','y',1,2)\n",
"disp('cumulative probability function f(2)=integrate(f,x,-%inf,2)=')\n",
"integrate('%e^(-y)','y',0,2)"
   ]
   }
,
{
		   "cell_type": "markdown",
		   "metadata": {},
		   "source": [
			"## Example 34.3_2: Finding_the_number_of_committees.sce"
		   ]
		  },
  {
"cell_type": "code",
	   "execution_count": null,
	   "metadata": {
	    "collapsed": true
	   },
	   "outputs": [],
"source": [
" clear\n",
"clc\n",
"function [x]=C(a,b)\n",
"x=factorial(a)/(factorial(b)*factorial(a-b))\n",
"endfunction\n",
"disp('no. of committees=C(4,1)*C(5,2)=')\n",
"C(4,1)*C(5,2)"
   ]
   }
,
{
		   "cell_type": "markdown",
		   "metadata": {},
		   "source": [
			"## Example 34.3_3: Finding_the_number_of_committees.sce"
		   ]
		  },
  {
"cell_type": "code",
	   "execution_count": null,
	   "metadata": {
	    "collapsed": true
	   },
	   "outputs": [],
"source": [
"clear\n",
"clc\n",
"function [x]=C(a,b)\n",
"x=factorial(a)/(factorial(b)*factorial(a-b))\n",
"endfunction\n",
"disp('no. of committees=C(6,3)*C(4,2)=')\n",
"C(6,3)*C(4,2)"
   ]
   }
,
{
		   "cell_type": "markdown",
		   "metadata": {},
		   "source": [
			"## Example 34.33: finding_the_probability.sce"
		   ]
		  },
  {
"cell_type": "code",
	   "execution_count": null,
	   "metadata": {
	    "collapsed": true
	   },
	   "outputs": [],
"source": [
"clc\n",
"syms k;\n",
"disp('total probability= integrate (f,x,0,6 )=')\n",
"p=integrate ('k*x','x',0,2)\n",
"q=integrate ('2*k','x',2,4)\n",
"r=integrate ('-k*x+6*k','x',4,6)"
   ]
   }
,
{
		   "cell_type": "markdown",
		   "metadata": {},
		   "source": [
			"## Example 34.34: finding_the_probability.sce"
		   ]
		  },
  {
"cell_type": "code",
	   "execution_count": null,
	   "metadata": {
	    "collapsed": true
	   },
	   "outputs": [],
"source": [
"clc\n",
"A=[-3 6 9;1/6 1/2 1/3]\n",
"disp('first row of A displays the value of x')\n",
"disp('the second row of x displays the probability of corresponding to x')\n",
"disp('E(x)=')\n",
"c=A(1,1)*A(2,1)+A(1,2)*(2,2)+A(1,3)*A(2,3)\n",
"disp('E(x)^2=')\n",
"b=A(1,1)^2*A(2,1)+A(1,2)^2*(2,2)+A(1,3)^2*A(2,3)\n",
"disp('E(2*x+1)^2=E(4*x^2+4*x+1)'\n",
"4*b+4*c+1"
   ]
   }
,
{
		   "cell_type": "markdown",
		   "metadata": {},
		   "source": [
			"## Example 34.35: finding_the_probability.sce"
		   ]
		  },
  {
"cell_type": "code",
	   "execution_count": null,
	   "metadata": {
	    "collapsed": true
	   },
	   "outputs": [],
"source": [
"clc\n",
"disp('total frequency= integrate (f,x,0,2 )=')\n",
"n=integrate ('x^3','x',0,1)+integrate ('(2-x)^3','x',1,2)\n",
"disp('u1 about origin=')\n",
"u1=(1/n)*(integrate ('(x)*(x^3)','x',0,1)+integrate ('(x)*((2-x)^3)','x',1,2))\n",
"disp('u2 about origin=')\n",
"u2=(1/n)*(integrate ('(x^2)*(x^3)','x',0,1)+integrate('(x^2)*((2-x)^3)','x',1,2))\n",
"disp('standard deviation=(u2-u1^2)^0.5=')\n",
"(u2-u1^2)^0.5\n",
"disp('mean deviation about the mean=(1/n)*(integrate (|x-1|*(x^3),x,0,1)+integrate(|x-1|*((2-x)^3),x,1,2`)')\n",
"(1/n)*(integrate ('(1-x)*(x^3)','x',0,1)+integrate('(x-1)*((2-x)^3)','x',1,2))"
   ]
   }
,
{
		   "cell_type": "markdown",
		   "metadata": {},
		   "source": [
			"## Example 34.38: finding_the_probability.sce"
		   ]
		  },
  {
"cell_type": "code",
	   "execution_count": null,
	   "metadata": {
	    "collapsed": true
	   },
	   "outputs": [],
"source": [
" clear\n",
"clc\n",
"function [x]=C(a,b)\n",
"x=factorial(a)/(factorial(b)*factorial(a-b))\n",
"endfunction\n",
"disp('probability that exactly two will be defective=C(12,2)*(0.1)^2*(0.9)^10=')\n",
"C(12,2)*(0.1)^2*(0.9)^10\n",
"disp('probability that at least two will be defective=1-(C(12,0)*(0.9)^12+C(12,1)*(0.1)*(0.9)^11)=')\n",
"1-(C(12,0)*(0.9)^12+C(12,1)*(0.1)*(0.9)^11)\n",
"disp('the probability that none will be defective =C(12,12)*(0.9)^12=')\n",
"C(12,12)*(0.9)^12"
   ]
   }
,
{
		   "cell_type": "markdown",
		   "metadata": {},
		   "source": [
			"## Example 34.39: finding_the_probability.sce"
		   ]
		  },
  {
"cell_type": "code",
	   "execution_count": null,
	   "metadata": {
	    "collapsed": true
	   },
	   "outputs": [],
"source": [
"clear\n",
"clc\n",
"function [x]=C(a,b)\n",
"x=factorial(a)/(factorial(b)*factorial(a-b))\n",
"endfunction\n",
"disp('probability of 8 heads and 4 tails in 12 trials=p(8)=C(12,8)*(1/2)^8*(1/2)^4=')\n",
"C(12,8)*(1/2)^8*(1/2)^4\n",
"disp('the expected no. of such cases in 256 sets =256*p(8) =')\n",
"256*(495/4096)"
   ]
   }
,
{
		   "cell_type": "markdown",
		   "metadata": {},
		   "source": [
			"## Example 34.40: finding_the_probability.sce"
		   ]
		  },
  {
"cell_type": "code",
	   "execution_count": null,
	   "metadata": {
	    "collapsed": true
	   },
	   "outputs": [],
"source": [
"clear\n",
"clc\n",
"function [x]=C(a,b)\n",
"x=factorial(a)/(factorial(b)*factorial(a-b))\n",
"endfunction\n",
"disp('probability of a defective part=2/20=0.1')\n",
"disp('probability of a non defective part=0.9')\n",
"disp('probabaility of at least three defectives ina sample =')\n",
"1-(C(20,0)*(0.9)^20+C(20,1)*(0.1)*(0.9)^19+C(20,2)*(0.1)^2*(0.9)^18')\n",
"disp('no. of samples having three defective parts=1000*0.323=')\n",
"1000*0.323"
   ]
   }
,
{
		   "cell_type": "markdown",
		   "metadata": {},
		   "source": [
			"## Example 34.4_1: Finding_the_probability_of_getting_a_four_in_a_single_throw_of_a_die.sce"
		   ]
		  },
  {
"cell_type": "code",
	   "execution_count": null,
	   "metadata": {
	    "collapsed": true
	   },
	   "outputs": [],
"source": [
"clear\n",
"clc\n",
"disp('the probability of getting a four is 1/6=')\n",
"1/6"
   ]
   }
,
{
		   "cell_type": "markdown",
		   "metadata": {},
		   "source": [
			"## Example 34.4_2: Finding_the_probability_of_getting_an_even_number_in_a_single_throw_of_a_die.sce"
		   ]
		  },
  {
"cell_type": "code",
	   "execution_count": null,
	   "metadata": {
	    "collapsed": true
	   },
	   "outputs": [],
"source": [
"clear\n",
"clc\n",
"disp('the probability of getting an even no. 1/2=')\n",
"1/2"
   ]
   }
,
{
		   "cell_type": "markdown",
		   "metadata": {},
		   "source": [
			"## Example 34.5: Finding_the_probability_of_53_sundays_in_a_leap_year.sce"
		   ]
		  },
  {
"cell_type": "code",
	   "execution_count": null,
	   "metadata": {
	    "collapsed": true
	   },
	   "outputs": [],
"source": [
"clear\n",
"clc\n",
"disp('the probability of 53 sundays is 2/7=')\n",
"2/7"
   ]
   }
,
{
		   "cell_type": "markdown",
		   "metadata": {},
		   "source": [
			"## Example 34.6: probability_of_getting_a_number_divisible_by_4_under_given_conditions.sce"
		   ]
		  },
  {
"cell_type": "code",
	   "execution_count": null,
	   "metadata": {
	    "collapsed": true
	   },
	   "outputs": [],
"source": [
"clear\n",
"clc\n",
"disp('the five digits can be arranged in 5! ways =')\n",
"factorial(5)\n",
"disp('of which 4! will begin with 0=')\n",
"factorial(4)\n",
"disp('so,total no. of five digit numbers=5!-4!=')\n",
"factorial(5)-factorial(4) \n",
"disp('the numbers ending in 04,12,20,24,32,40 will be divisible by 4')\n",
"disp('numbers ending in 04=3!')\n",
"factorial(3)\n",
"disp('numbers ending in 12=3!-2!')\n",
"factorial(3)-factorial(2)\n",
"disp('numbers ending in 20=3!')\n",
"factorial(3)\n",
"disp('numbers ending in 24=3!-2!')\n",
"factorial(3)-factorial(2)\n",
"disp('numbers ending in 32=3!-2!')\n",
"factorial(3)-factorial(2)\n",
"disp('numbers ending in 40=3!')\n",
"factorial(3)\n",
"disp('so,total no. of favourable ways=6+4+6+4+4+6=')\n",
"6+4+6+4+4+6\n",
"disp('probability=30/96=')\n",
"30/96"
   ]
   }
,
{
		   "cell_type": "markdown",
		   "metadata": {},
		   "source": [
			"## Example 34.7: Finding_the_probability.sce"
		   ]
		  },
  {
"cell_type": "code",
	   "execution_count": null,
	   "metadata": {
	    "collapsed": true
	   },
	   "outputs": [],
"source": [
"clear\n",
"clc\n",
"function [x]=C(a,b)\n",
"x=factorial(a)/(factorial(b)*factorial(a-b))\n",
"endfunction\n",
"disp('total no.of possible cases=C(40,4)')\n",
"C(40,4)\n",
"disp('favourable outcomes=C(24,2)*C(15,1)=')\n",
"C(24,2)*C(15,1)\n",
"disp('probability=')\n",
"(C(24,2)*C(15,1))/C(40,4)"
   ]
   }
,
{
		   "cell_type": "markdown",
		   "metadata": {},
		   "source": [
			"## Example 34.8: Finding_the_probability.sce"
		   ]
		  },
  {
"cell_type": "code",
	   "execution_count": null,
	   "metadata": {
	    "collapsed": true
	   },
	   "outputs": [],
"source": [
"clear\n",
"clc\n",
"function [x]=C(a,b)\n",
"x=factorial(a)/(factorial(b)*factorial(a-b))\n",
"endfunction\n",
"disp('total no.of possible cases=C(40,4)')\n",
"C(15,8)\n",
"disp('favourable outcomes=C(24,2)*C(15,1)=')\n",
"C(5,2)*C(10,6)\n",
"disp('probability=')\n",
"(C(5,2)*C(10,6))/C(15,8)"
   ]
   }
,
{
		   "cell_type": "markdown",
		   "metadata": {},
		   "source": [
			"## Example 34.9_1: Finding_the_probability.sce"
		   ]
		  },
  {
"cell_type": "code",
	   "execution_count": null,
	   "metadata": {
	    "collapsed": true
	   },
	   "outputs": [],
"source": [
"clear\n",
"clc\n",
"function [x]=C(a,b)\n",
"x=factorial(a)/(factorial(b)*factorial(a-b))\n",
"endfunction\n",
"disp('total no.of possible cases=C(9,3)')\n",
"C(9,3)\n",
"disp('favourable outcomes=C(2,1)*C(3,1)*C(4,1)=')\n",
"C(2,1)*C(3,1)*C(4,1)\n",
"disp('probability=')\n",
"(C(2,1)*C(3,1)*C(4,1))/C(9,3)"
   ]
   }
,
{
		   "cell_type": "markdown",
		   "metadata": {},
		   "source": [
			"## Example 34.9_2: Finding_the_probability.sce"
		   ]
		  },
  {
"cell_type": "code",
	   "execution_count": null,
	   "metadata": {
	    "collapsed": true
	   },
	   "outputs": [],
"source": [
"clear\n",
"clc\n",
"function [x]=C(a,b)\n",
"x=factorial(a)/(factorial(b)*factorial(a-b))\n",
"endfunction\n",
"disp('total no.of possible cases=C(9,3)')\n",
"C(9,3)\n",
"disp('favourable outcomes=C(2,2)*C(7,1)+C(3,2)*C(6,1)+C(4,2)*C(5,1)=')\n",
"C(2,2)*C(7,1)+C(3,2)*C(6,1)+C(4,2)*C(5,1)\n",
"disp('probability=')\n",
"(C(2,2)*C(7,1)+C(3,2)*C(6,1)+C(4,2)*C(5,1))/C(9,3)"
   ]
   }
,
{
		   "cell_type": "markdown",
		   "metadata": {},
		   "source": [
			"## Example 34.9_3: Finding_the_probability.sce"
		   ]
		  },
  {
"cell_type": "code",
	   "execution_count": null,
	   "metadata": {
	    "collapsed": true
	   },
	   "outputs": [],
"source": [
"clear\n",
"clc\n",
"function [x]=C(a,b)\n",
"x=factorial(a)/(factorial(b)*factorial(a-b))\n",
"endfunction\n",
"disp('total no.of possible cases=C(9,3)')\n",
"C(9,3)\n",
"disp('favourable outcomes=C(3,3)+C(4,3)=')\n",
"C(3,3)+C(4,3)\n",
"disp('probability=')\n",
"5/84       "
   ]
   }
],
"metadata": {
		  "kernelspec": {
		   "display_name": "Scilab",
		   "language": "scilab",
		   "name": "scilab"
		  },
		  "language_info": {
		   "file_extension": ".sce",
		   "help_links": [
			{
			 "text": "MetaKernel Magics",
			 "url": "https://github.com/calysto/metakernel/blob/master/metakernel/magics/README.md"
			}
		   ],
		   "mimetype": "text/x-octave",
		   "name": "scilab",
		   "version": "0.7.1"
		  }
		 },
		 "nbformat": 4,
		 "nbformat_minor": 0
}
