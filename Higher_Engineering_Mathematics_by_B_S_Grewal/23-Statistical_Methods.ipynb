{
"cells": [
 {
		   "cell_type": "markdown",
	   "metadata": {},
	   "source": [
       "# Chapter 23: Statistical Methods"
	   ]
	},
{
		   "cell_type": "markdown",
		   "metadata": {},
		   "source": [
			"## Example 23.10: EX23_10.sce"
		   ]
		  },
  {
"cell_type": "code",
	   "execution_count": null,
	   "metadata": {
	    "collapsed": true
	   },
	   "outputs": [],
"source": [
"clear\n",
"clc\n",
"disp('if m is the mean of entire data,then ')\n",
"m=(50*113+60*120+90*115)/(50+60+90)\n",
"disp('if s is the standard deviation of entire data,then ')\n",
"s=(((50*6^2)+(60*7^2)+(90*8^2)+(50*3^2)+(60*4^2)+(90*1^2))/200)^0.5"
   ]
   }
,
{
		   "cell_type": "markdown",
		   "metadata": {},
		   "source": [
			"## Example 23.12: EX23_12.sce"
		   ]
		  },
  {
"cell_type": "code",
	   "execution_count": null,
	   "metadata": {
	    "collapsed": true
	   },
	   "outputs": [],
"source": [
"clear\n",
"clc\n",
"disp('the first row of A denotes the no. of persons falling in the weight  group starting from (70-80)...till (140-150)')\n",
"A(1,:)=[12 18 35 42 50 45 20 8];\n",
"disp('the second row denotes cumulative frequency')\n",
"A(2,1)=12;\n",
"for i=2:8\n",
"  A(2,i)=A(2,i-1)+A(1,i);\n",
"  end\n",
"disp('median falls in the class (110-120) = l+((n/2-c)*h)/f=')\n",
"Q2=110+(8*10)/50\n",
"disp('lower quartile also falls in the class (90-100)=')\n",
"Q1=90+(57.5-30)*10/35\n",
"disp('upper quartile also falls in the class (120-130)=')\n",
"Q3=120+(172.5-157)*10/45\n",
"disp('quartile coefficient of skewness=')\n",
"(Q1 +Q3-2*Q2)/(Q3-Q1)"
   ]
   }
,
{
		   "cell_type": "markdown",
		   "metadata": {},
		   "source": [
			"## Example 23.13: Calculating_coefficient_of_correlation.sce"
		   ]
		  },
  {
"cell_type": "code",
	   "execution_count": null,
	   "metadata": {
	    "collapsed": true
	   },
	   "outputs": [],
"source": [
"clear\n",
"clc\n",
"disp('the first row of A denotes the corresponding I.R. of students ')\n",
"A(1,:)=[105 104 102 101 100 99 98 96 93 92];\n",
"disp('the second row denotes the corresponding deviation of I.R.')\n",
"for i=1:10\n",
"  A(2,i)=A(1,i)-99;\n",
"end\n",
"disp('the third row denotes the square of corresponding deviation of I.R. ')\n",
"for i=1:10\n",
"  A(3,i)=A(2,i)^2;\n",
"end\n",
"disp('the fourth row denotes the corresponding  E.R. of students ')\n",
"  A(4,:)=[101 103 100 98 95 96 104 92 97 94];\n",
"disp('the fifth row denotes the corresponding deviation of E.R. ')\n",
"for i=1:10\n",
"  A(5,i)=A(4,i)-98;\n",
"end\n",
"disp('the sixth row denotes the square of corresponding deviation of E.R. ')\n",
"for i=1:10\n",
"  A(6,i)=A(5,i)^2;\n",
"end\n",
"disp('the seventh row denotes the product of the two corresponding deviations ')\n",
"for i=1:10\n",
"  A(7,i)=A(2,i)*A(5,i);\n",
"end\n",
"A\n",
"a=0;\n",
"disp('the sum of elements of  first row=a')\n",
"for i=1:10\n",
"  a=a+A(1,i);\n",
"end\n",
"a\n",
"b=0;\n",
"disp('the sum of elements of  second row=b')\n",
"for i=1:10\n",
"  b=b+A(2,i);\n",
"end\n",
"b\n",
"c=0;\n",
"disp('the sum of elements of  third  row=c')\n",
"for i=1:10\n",
"  c=c+A(3,i);\n",
"end\n",
"c\n",
"d=0;\n",
"disp('the sum of elements of  fourth row=d')\n",
"for i=1:10\n",
"  d=d+A(4,i);\n",
"end\n",
"d\n",
"e=0;\n",
"disp('the sum of elements of  fifth row=e')\n",
"for i=1:10\n",
"  e=e+A(5,i);\n",
"end\n",
"e\n",
"f=0;\n",
"disp('the sum of elements of  sixth row=d')\n",
"for i=1:10\n",
"  f=f+A(6,i);\n",
"end\n",
"f\n",
"g=0;\n",
"disp('the sum of elements of  seventh row=d')\n",
"for i=1:10\n",
"  g=g+A(7,i);\n",
"end\n",
"g\n",
"disp('coefficient of correlation=')\n",
"g/(c*f)^0.5"
   ]
   }
,
{
		   "cell_type": "markdown",
		   "metadata": {},
		   "source": [
			"## Example 23.1: Calculating_cumulative_frequencies_of_given_using_iterations_on_matrices.sce"
		   ]
		  },
  {
"cell_type": "code",
	   "execution_count": null,
	   "metadata": {
	    "collapsed": true
	   },
	   "outputs": [],
"source": [
"clear\n",
"clc\n",
"disp('the first row of A denotes the no. of students falling in the marks group starting from (5-10)...till (40-45)')\n",
"A(1,:)=[5 6 15 10 5 4 2 2];\n",
"disp('the second row denotes cumulative frequency (less than)')\n",
"A(2,1)=5;\n",
"for i=2:8\n",
"  A(2,i)=A(2,i-1)+A(1,i);\n",
"end\n",
"disp('the third row denotes cumulative frequency (more than)')\n",
"A(3,1)=49;\n",
"for i=2:8\n",
"  A(3,i)=A(3,i-1)-A(1,i-1);\n",
"end\n",
"disp(A)"
   ]
   }
,
{
		   "cell_type": "markdown",
		   "metadata": {},
		   "source": [
			"## Example 23.2: Calculating_mean_of_of_statistical_data_performing_iterations_matrices.sce"
		   ]
		  },
  {
"cell_type": "code",
	   "execution_count": null,
	   "metadata": {
	    "collapsed": true
	   },
	   "outputs": [],
"source": [
"clc\n",
"disp('the first row of A represents the mid values of weekly earnings having interval of 2 in each class=x')\n",
"A(1,:)=[11 13 15 17 19 21 23 25 27 29 31 33 35 37 39 41]\n",
"disp('the second row denotes the no. of employees or in other words frequency=f')\n",
"A(2,:)=[3 6 10 15 24 42 75 90 79 55 36 26 19 13 9 7]\n",
"disp('third row denotes f*x')\n",
"for i=1:16\n",
"  A(3,i)=A(1,i)*A(2,i);\n",
"end\n",
"disp('fourth row denotes u=(x-25)/2')\n",
"for i=1:16\n",
"  A(4,i)=(A(1,i)-25)/2\n",
"end\n",
"disp('fifth row denotes f*x')\n",
"for i=1:16\n",
"  A(5,i)=A(4,i)*A(2,i);\n",
"end\n",
"A\n",
"b=0;\n",
"disp('sum of all elements of third row=')\n",
"for i=1:16\n",
"  b+=A(3,i)\n",
"end\n",
"disp(b)\n",
"f=0;\n",
"disp('sum of all elements of second row=')\n",
"for i=1:16\n",
"  f+=A(2,i)\n",
"end\n",
"disp(f)\n",
"disp('mean=')\n",
"b/f\n",
"d=0;\n",
"disp('sum of all elements of fifth row=')\n",
"for i=1:16\n",
"  d+=A(5,i)\n",
"end\n",
"disp('mean  by step deviation method=')\n",
"25+(2*d/f)"
   ]
   }
,
{
		   "cell_type": "markdown",
		   "metadata": {},
		   "source": [
			"## Example 23.3: Analysis_of_statistical_data_performing_iterations_on_matrices.sce"
		   ]
		  },
  {
"cell_type": "code",
	   "execution_count": null,
	   "metadata": {
	    "collapsed": true
	   },
	   "outputs": [],
"source": [
"clear\n",
"clc\n",
"disp('the first row of A denotes the no. of students falling in the marks group starting from (5-10)...till (40-45)')\n",
"A(1,:)=[5 6 15 10 5 4 2 2];\n",
"disp('the second row denotes cumulative frequency (less than)')\n",
"A(2,:)=[5 11 26 36 41 45 47 49]\n",
"disp('the third row denotes cumulative frequency (more than)')\n",
"A(3,:)=[49 44 38 23 13 8 4 2]\n",
"disp('median falls in the class (15-20) = l+((n/2-c)*h)/f=')\n",
"15+((49/2-11)*5)/15\n",
"disp('lower quartile also falls in the class (15-20)=')\n",
"Q1=15+((49/4-11)*5)/15\n",
"disp('upper quartile also falls in the class (25-30)=')\n",
"Q3=25+((3*49/4-36)*5)/5\n",
"disp('semi interquartile range=')\n",
"(Q3-Q1)/2   "
   ]
   }
,
{
		   "cell_type": "markdown",
		   "metadata": {},
		   "source": [
			"## Example 23.4: Analysis_of_statistical_data.sce"
		   ]
		  },
  {
"cell_type": "code",
	   "execution_count": null,
	   "metadata": {
	    "collapsed": true
	   },
	   "outputs": [],
"source": [
"clear\n",
"clc\n",
"disp('the first row of A denotes the roll no. of students form 1 to 10  and that of B denotes form 11 to 20')\n",
"A(1,:)=[1 2 3 4 5 6 7 8 9 10];\n",
"B(1,:)=[11 12 13 14 15 16 17 18 19 20];\n",
"disp('the second row of A annd B denotes the corresponding marks in physics ')\n",
"A(2,:)=[53 54 52 32 30 60 47 46 35 28];\n",
"B(2,:)=[25 42 33 48 72 51 45 33 65 29];\n",
"disp('the third row denotes the corresponding marks in chemistry ')\n",
"A(3,:)=[58 55 25 32 26 85 44 80 33 72];\n",
"B(3,:)=[10 42 15 46 50 64 39 38 30 36];\n",
"disp('median marks in physics =arithmetic mean of 10 thand 11 th student =')\n",
"(28+25)/2\n",
"disp('median marks in chemistry =arithmetic mean of 10 thand 11 th student =')\n",
"(72+10)/2"
   ]
   }
,
{
		   "cell_type": "markdown",
		   "metadata": {},
		   "source": [
			"## Example 23.5: Finding_the_missing_frequency_of_given_statistical_data_using_given_constants.sce"
		   ]
		  },
  {
"cell_type": "code",
	   "execution_count": null,
	   "metadata": {
	    "collapsed": true
	   },
	   "outputs": [],
"source": [
"clear\n",
"clc\n",
"disp('let the misssing frequencies be f1and f2')\n",
"disp('sum of given frequencies=12+30+65+25+18=')\n",
"c=12+30+65+25+18\n",
"disp('so,f1+f2=229-c=')\n",
"229-c\n",
"disp('median=46=40+(114.5-(12+30+f1))*10/65)')\n",
"disp('f1=33.5=34')\n",
"f1=34\n",
"f2=45"
   ]
   }
,
{
		   "cell_type": "markdown",
		   "metadata": {},
		   "source": [
			"## Example 23.6: Calculating_average_speed.sce"
		   ]
		  },
  {
"cell_type": "code",
	   "execution_count": null,
	   "metadata": {
	    "collapsed": true
	   },
	   "outputs": [],
"source": [
"clear\n",
"clc\n",
"syms s;\n",
"disp('let the eqidistance be s,then')\n",
"t1=s/30\n",
"t2=s/40\n",
"t3=s/50\n",
"disp('average speed=total distance/total time taken')\n",
"3*s/(t1+t2+t3)"
   ]
   }
,
{
		   "cell_type": "markdown",
		   "metadata": {},
		   "source": [
			"## Example 23.7: Calculating_mean_and_standard_deviation_performing_iterations_on_matrices.sce"
		   ]
		  },
  {
"cell_type": "code",
	   "execution_count": null,
	   "metadata": {
	    "collapsed": true
	   },
	   "outputs": [],
"source": [
"clear\n",
"clc\n",
"disp('the first row denotes the size of item')\n",
"A(1,:)=[6 7 8 9 10 11 12];\n",
"disp('the second row denotes the corresponding frequency (f)')\n",
"A(2,:)=[3 6 9 13 8 5 4];\n",
"disp('the third row denotesthe corresponding deviation (d)')\n",
"A(3,:)=[-3 -2 -1 0 1 2 3];\n",
"disp('the fourth row denotes the corresponding f*d ')\n",
"for i=1:7\n",
"  A(4,i)=A(2,i)*A(3,i);\n",
"end\n",
"disp('the fifth row denotes the corresponding f*d^2')\n",
"for i=1:7\n",
"  A(5,i)=A(2,i)*(A(3,i)^2);\n",
"end\n",
"A\n",
"b=0;\n",
"disp('sum of fourth row elements=')\n",
"for i=1:7\n",
"  b=b+A(4,i);\n",
"end\n",
"disp(b)\n",
"c=0\n",
"disp('sum of fifth row elements=')\n",
"for i=1:7\n",
"  c=c+A(5,i);\n",
"end\n",
"disp(c)\n",
"d=0;\n",
"disp('sum of all frequencies=')\n",
"for i=1:7\n",
"  d=d+A(2,i);\n",
"end\n",
"disp(d)\n",
"disp('mean=9+b/d=')\n",
"9+b/d\n",
"disp('standard deviation=(c/d)^0.5')\n",
"(c/d)^0.5"
   ]
   }
,
{
		   "cell_type": "markdown",
		   "metadata": {},
		   "source": [
			"## Example 23.8: Calculating_mean_and_standard_deviation_performing_iterations_on_matrices.sce"
		   ]
		  },
  {
"cell_type": "code",
	   "execution_count": null,
	   "metadata": {
	    "collapsed": true
	   },
	   "outputs": [],
"source": [
"clc\n",
"disp('the first row of A represents the mid values of wage classes having interval of 8 in each class=x')\n",
"A(1,:)=[8.5 16.5 24.5 32.5 40.5 48.5 56.5 64.5 72.5]\n",
"disp('the second row denotes the no. of men or in other words frequency=f')\n",
"A(2,:)=[2 24 21 18 5 3 5 8 2]\n",
"disp('third row denotes f*x')\n",
"for i=1:9\n",
"  A(3,i)=A(1,i)*A(2,i);\n",
"end\n",
"disp('fourth row denotes d=(x-32.5)/8')\n",
"for i=1:9\n",
"  A(4,i)=(A(1,i)-32.5)/8\n",
"end\n",
"disp('fifth row denotes f*d')\n",
"for i=1:9\n",
"  A(5,i)=A(4,i)*A(2,i);\n",
"end\n",
"disp('sixth row denotes f*(d^2)  ')\n",
"for i=1:9\n",
"  A(6,i)=A(4,i)^2*A(2,i);\n",
"end\n",
"A\n",
"b=0;\n",
"disp('sum of all elements of sixth row=')\n",
"for i=1:9\n",
"  b+=A(6,i)\n",
"end\n",
"disp(b)\n",
"f=0;\n",
"disp('sum of all elements of second row=')\n",
"for i=1:9\n",
"  f+=A(2,i)\n",
"end\n",
"disp(f)\n",
"disp('mean=')\n",
"b/f\n",
"d=0;\n",
"disp('sum of all elements of fifth row=')\n",
"for i=1:9\n",
"  d+=A(5,i)\n",
"end\n",
"disp('mean wage=')\n",
"32.5+(8*d/f)\n",
"disp('standard deviation=')\n",
"8*(b/f-(d/f)^2)"
   ]
   }
,
{
		   "cell_type": "markdown",
		   "metadata": {},
		   "source": [
			"## Example 23.9: Analysis_of_statistical_data_performing_iterations_on_matrices.sce"
		   ]
		  },
  {
"cell_type": "code",
	   "execution_count": null,
	   "metadata": {
	    "collapsed": true
	   },
	   "outputs": [],
"source": [
"clear\n",
"clc\n",
"disp('the first row of A denotes the scores of A  and that of B denotes that of B')\n",
"A(1,:)=[12 115 6 73 7 19 119 36 84 29];\n",
"B(1,:)=[47 12 16 42 4  51 37 48 13 0];\n",
"disp('the second row of A annd B denotes the corresponding deviation ')\n",
"for i=1:10\n",
"  A(2,i)= A(1,i)-51;\n",
"  B(2,i)=B(1,i)-51;\n",
"    end\n",
"disp('the third row of A and B denotes the corresponding deviation square')\n",
"for i=1:10\n",
"  A(3,i)= A(2,i)^2;\n",
"  B(3,i)=B(2,i)^2;\n",
"end\n",
"A\n",
"B\n",
"b=0;\n",
"disp('sum of second row elements of A=b=')\n",
"for i=1:10\n",
"  b=b+A(2,i);\n",
"  end\n",
"  disp(b)\n",
"  c=0;\n",
"disp('sum of second row elements of B=c=')\n",
"for i=1:10\n",
"  c=c+B(2,i);\n",
"  end\n",
"  disp(c)\n",
"  d=0;\n",
"disp('sum of third  row elements of A=d=')\n",
"for i=1:10\n",
"  d=d+A(3,i);\n",
"  end\n",
"  disp(d)\n",
"  e=0;\n",
"disp('sum of second row elements of B=e=')\n",
"for i=1:10\n",
"  e=e+B(3,i);\n",
"  end\n",
"  disp(e)\n",
"  disp('arithmetic mean of A=')\n",
"  f=51+b/10\n",
"  disp('standard deviation of A=')\n",
"  g=(d/10-(b/10)^2)^0.5\n",
"  disp('arithmetic mean of B=')\n",
"  h=51+c/10\n",
"  disp('standard deviation of A=')\n",
"  i=(e/10-(c/10)^2)^0.5\n",
"  disp('coefficient of variation of A=')\n",
"  (g/f)*100\n",
"  disp('coefficient of variation of B=')\n",
"  (i/h)*100"
   ]
   }
],
"metadata": {
		  "kernelspec": {
		   "display_name": "Scilab",
		   "language": "scilab",
		   "name": "scilab"
		  },
		  "language_info": {
		   "file_extension": ".sce",
		   "help_links": [
			{
			 "text": "MetaKernel Magics",
			 "url": "https://github.com/calysto/metakernel/blob/master/metakernel/magics/README.md"
			}
		   ],
		   "mimetype": "text/x-octave",
		   "name": "scilab",
		   "version": "0.7.1"
		  }
		 },
		 "nbformat": 4,
		 "nbformat_minor": 0
}
