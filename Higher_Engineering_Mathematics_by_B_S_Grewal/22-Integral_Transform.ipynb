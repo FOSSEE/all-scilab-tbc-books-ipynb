{
"cells": [
 {
		   "cell_type": "markdown",
	   "metadata": {},
	   "source": [
       "# Chapter 22: Integral Transform"
	   ]
	},
{
		   "cell_type": "markdown",
		   "metadata": {},
		   "source": [
			"## Example 22.1: finding_fourier_sine_integral.sce"
		   ]
		  },
  {
"cell_type": "code",
	   "execution_count": null,
	   "metadata": {
	    "collapsed": true
	   },
	   "outputs": [],
"source": [
"//error\n",
"//ques1\n",
"disp('To find the fourier sine integral');\n",
"syms x t u\n",
"fs=2/%pi*integ(sin(u*x),u,0,%inf)*(integ(x^0*sin(u*t),t,0,%inf));\n",
"disp(fs);"
   ]
   }
,
{
		   "cell_type": "markdown",
		   "metadata": {},
		   "source": [
			"## Example 22.2: finding_fourier_transform.sce"
		   ]
		  },
  {
"cell_type": "code",
	   "execution_count": null,
	   "metadata": {
	    "collapsed": true
	   },
	   "outputs": [],
"source": [
"//error\n",
"//ques2\n",
"disp('To find the fourier transform of given function ');\n",
"syms x  s\n",
"F=integ(exp(%i*s*x),x,-1,1);\n",
"disp(F);\n",
"//produces error->\n",
"F1=integ(sin(x)/x,x,0,%inf);"
   ]
   }
,
{
		   "cell_type": "markdown",
		   "metadata": {},
		   "source": [
			"## Example 22.3: finding_fourier_transform.sce"
		   ]
		  },
  {
"cell_type": "code",
	   "execution_count": null,
	   "metadata": {
	    "collapsed": true
	   },
	   "outputs": [],
"source": [
"//error\n",
"//ques3\n",
"disp('To find the fourier transform of given function ');\n",
"syms x  s\n",
"F=integ(exp(%i*s*x)*(1-x^2),x,-1,1);\n",
"disp(F);\n",
"//produces error->\n",
"F1=integ((x*cos(x)-sin(x))/x^3*cos(x/2),x,0,%inf);"
   ]
   }
,
{
		   "cell_type": "markdown",
		   "metadata": {},
		   "source": [
			"## Example 22.4: finding_fourier_sine_transform.sce"
		   ]
		  },
  {
"cell_type": "code",
	   "execution_count": null,
	   "metadata": {
	    "collapsed": true
	   },
	   "outputs": [],
"source": [
"//error\n",
"//ques1\n",
"disp('To find the fourier sine transform');\n",
"syms x s m\n",
"//functtion fs=f(x)\n",
"fs=integ(sin(s*x)*exp(-x),x,0,%inf);\n",
"disp(fs);\n",
"//integ produces error\n",
"f=integ(x*sin(m*x)/(1+x^2),x,0,%inf);\n",
"disp(f);"
   ]
   }
,
{
		   "cell_type": "markdown",
		   "metadata": {},
		   "source": [
			"## Example 22.5: finding_fourier_cosine_transform.sce"
		   ]
		  },
  {
"cell_type": "code",
	   "execution_count": null,
	   "metadata": {
	    "collapsed": true
	   },
	   "outputs": [],
"source": [
"//ques5\n",
"syms x s\n",
"disp('Fourier cosine transform');\n",
"f=integ(x*cos(s*x),x,0,1)+integ((2-x)*cos(s*x),x,1,2);\n",
"disp(f)"
   ]
   }
,
{
		   "cell_type": "markdown",
		   "metadata": {},
		   "source": [
			"## Example 22.6: finding_fourier_sine_transform.sce"
		   ]
		  },
  {
"cell_type": "code",
	   "execution_count": null,
	   "metadata": {
	    "collapsed": true
	   },
	   "outputs": [],
"source": [
"//ques6\n",
"syms x s a\n",
"disp('Fourier cosine transform');\n",
"f=integ(exp(-a*x)/x*sin(s*x),x,0,%inf);\n",
"disp(f)"
   ]
   }
],
"metadata": {
		  "kernelspec": {
		   "display_name": "Scilab",
		   "language": "scilab",
		   "name": "scilab"
		  },
		  "language_info": {
		   "file_extension": ".sce",
		   "help_links": [
			{
			 "text": "MetaKernel Magics",
			 "url": "https://github.com/calysto/metakernel/blob/master/metakernel/magics/README.md"
			}
		   ],
		   "mimetype": "text/x-octave",
		   "name": "scilab",
		   "version": "0.7.1"
		  }
		 },
		 "nbformat": 4,
		 "nbformat_minor": 0
}
