{
"cells": [
 {
		   "cell_type": "markdown",
	   "metadata": {},
	   "source": [
       "# Chapter 2: Semiconductor Physics"
	   ]
	},
{
		   "cell_type": "markdown",
		   "metadata": {},
		   "source": [
			"## Example 2.21_1: calculate_mobility_of_electro.sce"
		   ]
		  },
  {
"cell_type": "code",
	   "execution_count": null,
	   "metadata": {
	    "collapsed": true
	   },
	   "outputs": [],
"source": [
"//Chapter-2,Example2_21_1,pg 2-47\n",
"\n",
"ro=1.72*10^-8                           //resistivity of Cu\n",
"\n",
"s=1/ro                                  //conductivity of Cu\n",
"\n",
"n=10.41*10^28                           //no of electron per unit volume\n",
"\n",
"e=1.6*10^-19                            //charge on electron\n",
"\n",
"u=s/(n*e)\n",
"\n",
"printf('mobility of electron in Cu =')\n",
"\n",
"disp(u)\n",
"\n",
"printf('m^2/volt-sec')"
   ]
   }
,
{
		   "cell_type": "markdown",
		   "metadata": {},
		   "source": [
			"## Example 2.21_2: calculate_Resistivity_of_Cu.sce"
		   ]
		  },
  {
"cell_type": "code",
	   "execution_count": null,
	   "metadata": {
	    "collapsed": true
	   },
	   "outputs": [],
"source": [
"//Chapter-2,Example2_21_2,pg 2-47\n",
"\n",
"m=63.5                                  //atomic weight\n",
"\n",
"u=43.3                                  //mobility of electron\n",
"\n",
"e=1.6*10^-19                            //charge on electron\n",
"\n",
"N=6.02*10^23                            //Avogadro's number\n",
"\n",
"d=8.96                                  //density\n",
"\n",
"Ad=N*d/m                                //Atomic density\n",
"\n",
"n=1*Ad\n",
"\n",
"ro=1/(n*e*u)\n",
"\n",
"printf('Resistivity of Cu =')\n",
"\n",
"disp(ro)\n",
"\n",
"printf('ohm-cm')"
   ]
   }
,
{
		   "cell_type": "markdown",
		   "metadata": {},
		   "source": [
			"## Example 2.21_3: calculate_Resistivity_of_Ge.sce"
		   ]
		  },
  {
"cell_type": "code",
	   "execution_count": null,
	   "metadata": {
	    "collapsed": true
	   },
	   "outputs": [],
"source": [
"//Chapter-2,Example2_21_3,pg 2-47\n",
"\n",
"e=1.6*10^-19                            //charge on electron\n",
"\n",
"ne=2.5*10^19                            //density of carriers\n",
"\n",
"nh=ne                                   //for intrinsic semiconductor\n",
"\n",
"ue=0.39                                 //mobility of electron\n",
"\n",
"uh=0.19                                 //mobility of hole\n",
"\n",
"s=ne*e*ue+nh*e*uh                       //conductivity of Ge\n",
"\n",
"ro=1/s                                  //resistivity of Ge\n",
"\n",
"printf('Resistivity of Ge =')\n",
"\n",
"disp(ro)\n",
"\n",
"printf('ohm-m')"
   ]
   }
,
{
		   "cell_type": "markdown",
		   "metadata": {},
		   "source": [
			"## Example 2.21_5: calculate_Ratio_between_conductivity.sce"
		   ]
		  },
  {
"cell_type": "code",
	   "execution_count": null,
	   "metadata": {
	    "collapsed": true
	   },
	   "outputs": [],
"source": [
"//Chapter-2,Example2_21_5,pg 2-48\n",
"\n",
"Eg=1.2                                  //energy gap\n",
"\n",
"T1=600                                  //temperature\n",
"\n",
"T2=300                                  //temperature\n",
"\n",
"//since ue>>uh for intrinsic semiconductor\n",
"\n",
"//s=ni*e*ue\n",
"\n",
"K=8.62*10^-5                            //Boltzman constant\n",
"\n",
"s=%s\n",
"\n",
"s1=s*exp((-Eg)/(2*K*T1))\n",
"\n",
"s2=s*exp((-Eg)/(2*K*T2))\n",
"\n",
"m=(s1/s2)\n",
"\n",
"printf('Ratio between conductivity =')\n",
"\n",
"disp(m)"
   ]
   }
,
{
		   "cell_type": "markdown",
		   "metadata": {},
		   "source": [
			"## Example 2.21_6: calculate_conductivity.sce"
		   ]
		  },
  {
"cell_type": "code",
	   "execution_count": null,
	   "metadata": {
	    "collapsed": true
	   },
	   "outputs": [],
"source": [
"//Chapter-2,Example2_21_6,pg 2-49\n",
"\n",
"c=5*10^28                               //concentration of Si atoms\n",
"\n",
"e=1.6*10^-19                            //charge on electron\n",
"\n",
"u=0.048                                 //mobility of hole\n",
"\n",
"s=4.4*10^-4                             //conductivity of Si\n",
"\n",
"//since millionth Si atom is replaced by an indium atom\n",
"\n",
"n=c*10^-6\n",
"\n",
"sp=u*e*n                                //conductivity of resultant\n",
"\n",
"printf('conductivity =')\n",
"\n",
"disp(sp)\n",
"\n",
"printf('mho/m')"
   ]
   }
,
{
		   "cell_type": "markdown",
		   "metadata": {},
		   "source": [
			"## Example 2.21_7: calculate_hole_concentration_and_mobility.sce"
		   ]
		  },
  {
"cell_type": "code",
	   "execution_count": null,
	   "metadata": {
	    "collapsed": true
	   },
	   "outputs": [],
"source": [
"//Chapter-2,Example2_21_7,pg 2-49\n",
"\n",
"m=28.1                                  //atomic weight of Si\n",
"\n",
"e=1.6*10^-19                            //charge on electron\n",
"\n",
"N=6.02*10^26                            //Avogadro's number\n",
"\n",
"d=2.4*10^3                              //density of Si\n",
"\n",
"p=0.25                                  //resistivity\n",
"\n",
"//no. of Si atom/m^3\n",
"\n",
"Ad=N*d/m                                //Atomic density\n",
"\n",
"//impurity level is 0.01 ppm i.e. 1 atom in every 10^8 atoms of Si\n",
"\n",
"n=Ad/10^8                               //no of impurity atoms\n",
"\n",
"//since each impurity produce 1 hole\n",
"\n",
"nh=n\n",
"\n",
"printf('1) hole concentration =')\n",
"\n",
"disp(n)\n",
"\n",
"printf('holes/m^3')\n",
"\n",
"up=1/(e*p*nh)\n",
"\n",
"printf('     2) mobility =')\n",
"\n",
"disp(up)\n",
"\n",
"printf('m^2/volt.sec') "
   ]
   }
,
{
		   "cell_type": "markdown",
		   "metadata": {},
		   "source": [
			"## Example 2.22_1: calculate_probability_of_an_electron.sce"
		   ]
		  },
  {
"cell_type": "code",
	   "execution_count": null,
	   "metadata": {
	    "collapsed": true
	   },
	   "outputs": [],
"source": [
"//Chapter-2,Example2_22_1,pg 2-50\n",
"\n",
"t=27                                    //temp in degree \n",
"\n",
"T=t+273                                 //temp in kelvin\n",
"\n",
"K=8.62*10^-5                            //Boltzman constant in eV\n",
"\n",
"Eg=1.12                                 //Energy band gap\n",
"\n",
"//For intrensic semiconductor (Ec-Ev)=Eg/2\n",
"\n",
"//let (Ec-Ev)=m\n",
"\n",
"m=Eg/2\n",
"\n",
"a=(m/(K*T))\n",
"\n",
"//probability f(Ec)=1/(1+exp((Ec-Ev)/(K*T))\n",
"\n",
"p=1/(1+exp(a))\n",
"\n",
"\n",
"printf('probability of an electron being thermally excited to conduction band=')\n",
"\n",
"disp(p)"
   ]
   }
,
{
		   "cell_type": "markdown",
		   "metadata": {},
		   "source": [
			"## Example 2.22_2: calculate_probability_of_an_electron.sce"
		   ]
		  },
  {
"cell_type": "code",
	   "execution_count": null,
	   "metadata": {
	    "collapsed": true
	   },
	   "outputs": [],
"source": [
"//Chapter-2,Example2_22_2,pg 2-50\n",
"\n",
"T=300                                   //temp in kelvin\n",
"\n",
"K=8.62*10^-5                            //Boltzman constant in eV\n",
"\n",
"m=0.012                                 //energy level(Ef-E)\n",
"\n",
"a=(m/(K*T))\n",
"\n",
"//probability f(Ec)=1/(1+exp((Ec-Ev)/(K*T))\n",
"\n",
"p=1/(1+exp(a))\n",
"\n",
"p1=1-p\n",
"\n",
"printf('probability of an energy level not being occupied by an electron=')\n",
"\n",
"disp(p1)"
   ]
   }
,
{
		   "cell_type": "markdown",
		   "metadata": {},
		   "source": [
			"## Example 2.22_3: calculate_probability_of_an_electron.sce"
		   ]
		  },
  {
"cell_type": "code",
	   "execution_count": null,
	   "metadata": {
	    "collapsed": true
	   },
	   "outputs": [],
"source": [
"//Chapter-2,Example2_22_3,pg 2-51\n",
"\n",
"t=20                                    //temp in degree \n",
"\n",
"T=t+273                                 //temp in kelvin\n",
"\n",
"K=8.62*10^-5                            //Boltzman constant in eV\n",
"\n",
"Eg=1.12                                 //Energy band gap\n",
"\n",
"//For intrensic semiconductor (Ec-Ev)=Eg/2\n",
"\n",
"//let (Ec-Ev)=m\n",
"\n",
"m=Eg/2\n",
"\n",
"a=(m/(K*T))\n",
"\n",
"//probability f(Ec)=1/(1+exp((Ec-Ev)/(K*T))\n",
"\n",
"p=1/(1+exp(a))\n",
"\n",
"\n",
"printf('probability of an electron being thermally excited to conduction band=')\n",
"\n",
"disp(p)"
   ]
   }
,
{
		   "cell_type": "markdown",
		   "metadata": {},
		   "source": [
			"## Example 2.22_4: calculate_energy_for_different_probability.sce"
		   ]
		  },
  {
"cell_type": "code",
	   "execution_count": null,
	   "metadata": {
	    "collapsed": true
	   },
	   "outputs": [],
"source": [
"//Chapter-2,Example2_22_4,pg 2-51\n",
"\n",
"T=300                                   //temp in kelvin\n",
"\n",
"K=8.62*10^-5                            //Boltzman constant in eV\n",
"\n",
"Eg=2.1                                  //Energy band gap\n",
"\n",
"//probability f(Ec)=1/(1+exp((Ec-Ev)/(K*T))\n",
"\n",
"m=K*T\n",
"\n",
"//for f(E)=0.99\n",
"\n",
"p1=0.99\n",
"\n",
"b=1-1/p1\n",
"\n",
"a=log(b)                             //a=(E-2.1)/m\n",
"\n",
"E=2.1+m*a\n",
"\n",
"printf('1) Energy for which probability  is 0.99=')\n",
"\n",
"disp(real(E))\n",
"\n",
"printf('eV')\n",
"\n",
"//for f(E)=0.01\n",
"\n",
"p2=0.01\n",
"\n",
"b2=1-1/p2\n",
"\n",
"a1=log(b2)                            //a=(E-2.1)/m\n",
"\n",
"E1=2.1+m*a1\n",
"\n",
"printf('2)Energy for which probability  is 0.01=')\n",
"\n",
"disp(real(E1))\n",
"\n",
"printf('eV')\n",
""
   ]
   }
,
{
		   "cell_type": "markdown",
		   "metadata": {},
		   "source": [
			"## Example 2.23_1: calculate_Potential_barrier_for_Ge.sce"
		   ]
		  },
  {
"cell_type": "code",
	   "execution_count": null,
	   "metadata": {
	    "collapsed": true
	   },
	   "outputs": [],
"source": [
"//Chapter-2,Example2_23_1,pg 2-52\n",
"\n",
"ni=2.4*10^19                            //density of intrensic semiconductor\n",
"\n",
"n=4.4*10^28                             //no atom in Ge crystal\n",
"\n",
"Nd=n/10^6                               //density\n",
"\n",
"Na=Nd\n",
"\n",
"e=1.6*10^-19                            //charge on electron\n",
"\n",
"T=300                                   //temerature at N.T.P.\n",
"\n",
"K=1.38*10^-23                           //Boltzman constant\n",
"\n",
"Vo=(K*T/e)*log(Na*Nd/(ni^2))\n",
"\n",
"printf('Potential barrier for Ge =')\n",
"\n",
"disp(Vo)\n",
"\n",
"printf('Volts')\n",
"\n",
""
   ]
   }
,
{
		   "cell_type": "markdown",
		   "metadata": {},
		   "source": [
			"## Example 2.23_2: calculate_Hall_voltage.sce"
		   ]
		  },
  {
"cell_type": "code",
	   "execution_count": null,
	   "metadata": {
	    "collapsed": true
	   },
	   "outputs": [],
"source": [
"//Chapter-2,Example2_23_2,pg 2-52\n",
"\n",
"B=0.6                                   //magnetic field\n",
"\n",
"d=5*10^-3                               //distancebetween surface\n",
"\n",
"J=500                                   //current density\n",
"\n",
"Nd=10^21                                //density\n",
"\n",
"e=1.6*10^-19                            //charge on electron\n",
"\n",
"Vh=(B*J*d)/(Nd*e)                       //due to Hall effect\n",
"\n",
"printf('Hall voltage =')\n",
"\n",
"disp(Vh)\n",
"\n",
"printf('Volts')"
   ]
   }
,
{
		   "cell_type": "markdown",
		   "metadata": {},
		   "source": [
			"## Example 2.23_3: calculate_Hall_voltage.sce"
		   ]
		  },
  {
"cell_type": "code",
	   "execution_count": null,
	   "metadata": {
	    "collapsed": true
	   },
	   "outputs": [],
"source": [
"//Chapter-2,Example2_23_3,pg 2-53\n",
"\n",
"Rh=6*10^-7                              //Hall coefficient\n",
"\n",
"B=1.5                                   //magnetic field\n",
"\n",
"I=200                                   //current in strip\n",
"\n",
"W=1*10^-3                               //thickness of strip\n",
"\n",
"Vh=Rh*(B*I)/W                           //due to Hall effect\n",
"\n",
"printf('Hall voltage =')\n",
"\n",
"disp(Vh)\n",
"\n",
"printf('Volt')"
   ]
   }
,
{
		   "cell_type": "markdown",
		   "metadata": {},
		   "source": [
			"## Example 2.23_4: calculate_Resistivity_of_P_type_silico.sce"
		   ]
		  },
  {
"cell_type": "code",
	   "execution_count": null,
	   "metadata": {
	    "collapsed": true
	   },
	   "outputs": [],
"source": [
"//Chapter-2,Example2_23_4,pg 2-53\n",
"\n",
"Rh=2.25*10^-5                           //Hall coefficient\n",
"\n",
"u=0.025                                 //mobility of hole\n",
"\n",
"r=Rh/u\n",
"\n",
"printf('Resistivity of P type silicon =')\n",
"\n",
"disp(r)\n",
"\n",
"printf('ohm-m')\n",
""
   ]
   }
,
{
		   "cell_type": "markdown",
		   "metadata": {},
		   "source": [
			"## Example 2.23_5: calculate_hall_voltage_hall_coefficient_and_hall_angle.sce"
		   ]
		  },
  {
"cell_type": "code",
	   "execution_count": null,
	   "metadata": {
	    "collapsed": true
	   },
	   "outputs": [],
"source": [
"//Chapter-2,Example2_23_5,pg 2-53\n",
"\n",
"B=0.55                                  //magnetic field\n",
"\n",
"d=4.5*10^-3                             //distancebetween surface\n",
"\n",
"J=500                                   //current density\n",
"\n",
"n=10^20                                 //density\n",
"\n",
"e=1.6*10^-19                            //charge on electron\n",
"\n",
"Rh=1/(n*e)                              //Hall coefficient\n",
"\n",
"Vh=Rh*B*J*d                             //Hall voltage\n",
"\n",
"printf('          1) Hall voltage =')\n",
"\n",
"disp(Vh)\n",
"\n",
"printf('Volts')\n",
"\n",
"printf('     2) Hall coefficient =')\n",
"\n",
"disp(Rh)\n",
"\n",
"printf('m^3/C')\n",
"\n",
"u=0.17                                  //mobility of electrom\n",
"\n",
"m=atan(u*B)\n",
"\n",
"a=m*180/%pi                             //conversion randian into degree\n",
"\n",
"printf('     3) Hall angle =')\n",
"\n",
"disp(a)\n",
"\n",
"printf('degree')"
   ]
   }
,
{
		   "cell_type": "markdown",
		   "metadata": {},
		   "source": [
			"## Example 2.23_6: calculate_density_and_mobility.sce"
		   ]
		  },
  {
"cell_type": "code",
	   "execution_count": null,
	   "metadata": {
	    "collapsed": true
	   },
	   "outputs": [],
"source": [
"//Chapter-2,Example2_23_6,pg 2-54\n",
"\n",
"Rh=3.66*10^-4                           //Hall coefficient\n",
"\n",
"r=8.93*10^-3                            //resistivity \n",
"\n",
"e=1.6*10^-19                            //charge on electron\n",
"\n",
"//Hall coefficient Rh=1/(n*e)\n",
"\n",
"n=1/(Rh*e)                              //density\n",
"\n",
"printf('         1) density(n) =')\n",
"\n",
"disp(n)\n",
"\n",
"printf('/m^3')\n",
"\n",
"u=Rh/r                                  //mobility of electron\n",
"\n",
"printf('     2) mobility (u) =')\n",
"\n",
"disp(u)\n",
"\n",
"printf('m^2/v-s')"
   ]
   }
,
{
		   "cell_type": "markdown",
		   "metadata": {},
		   "source": [
			"## Example 2.23_7: calculate_Hall_voltage.sce"
		   ]
		  },
  {
"cell_type": "code",
	   "execution_count": null,
	   "metadata": {
	    "collapsed": true
	   },
	   "outputs": [],
"source": [
"//Chapter-2,Example2_23_7,pg 2-55\n",
"\n",
"B=0.2                                   //magnetic field\n",
"\n",
"e=1.6*10^-19                            //charge on electron\n",
"\n",
"ue=0.39                                 //mobility of electron\n",
"\n",
"l=0.01                                  //length\n",
"\n",
"A=0.001*0.001                           //cross section area of bar\n",
"\n",
"V=1*10^-3                               //Applied voltage\n",
"\n",
"d=0.001                                 //sample of width \n",
"\n",
"r=1/(ue*e)                              //resistivity\n",
"\n",
"R=r*l/A                                 //resistance of Ge bar\n",
"\n",
"//using ohm's law\n",
"\n",
"I=V/R\n",
"\n",
"Rh=r*ue                                 //hall coefficient\n",
"\n",
"//using formulae for hall effect\n",
"\n",
"J=I/A                                   //current density\n",
"\n",
"Vh=Rh*B*J*d\n",
"\n",
"printf('Hall voltage =')\n",
"\n",
"disp(Vh)"
   ]
   }
,
{
		   "cell_type": "markdown",
		   "metadata": {},
		   "source": [
			"## Example 2.24_1: calculate_fermi_level.sce"
		   ]
		  },
  {
"cell_type": "code",
	   "execution_count": null,
	   "metadata": {
	    "collapsed": true
	   },
	   "outputs": [],
"source": [
"//Chapter-2,Example2_24_1,pg 2-55\n",
"\n",
"x1=0.4                                  //difference between fermi level and conduction band(Ec-Ef)\n",
"\n",
"T=300                                   //temp in kelvin\n",
"\n",
"K=8.62*10^-5                            //Boltzman constant in eV\n",
"\n",
"//ne=N*e^(-(Ec-Ef)/(K*T))\n",
"\n",
"//ne is no of electron in conduction band\n",
"\n",
"//since concentration of donor electron is doubled\n",
"\n",
"a=2                                     //ratio of no of electron\n",
"\n",
"//let x2 be the difference between new fermi level and conduction band(Ec-Ef')\n",
"\n",
"x2=-log(a)*(K*T)+x1                     //arranging equation ne=N*e^(-(Ec-Ef)/(K*T))\n",
"\n",
"printf('Fermi level will be shifted towards conduction band by')\n",
"\n",
"disp(x2)\n",
"\n",
"printf('eV')"
   ]
   }
],
"metadata": {
		  "kernelspec": {
		   "display_name": "Scilab",
		   "language": "scilab",
		   "name": "scilab"
		  },
		  "language_info": {
		   "file_extension": ".sce",
		   "help_links": [
			{
			 "text": "MetaKernel Magics",
			 "url": "https://github.com/calysto/metakernel/blob/master/metakernel/magics/README.md"
			}
		   ],
		   "mimetype": "text/x-octave",
		   "name": "scilab",
		   "version": "0.7.1"
		  }
		 },
		 "nbformat": 4,
		 "nbformat_minor": 0
}
