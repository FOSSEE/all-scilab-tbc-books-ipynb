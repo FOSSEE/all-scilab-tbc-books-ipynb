{
"cells": [
 {
		   "cell_type": "markdown",
	   "metadata": {},
	   "source": [
       "# Chapter 3: Dielectric And Magnetic Materials"
	   ]
	},
{
		   "cell_type": "markdown",
		   "metadata": {},
		   "source": [
			"## Example 3.17_10: calculate_Horizontal_component_of_magnetic_field.sce"
		   ]
		  },
  {
"cell_type": "code",
	   "execution_count": null,
	   "metadata": {
	    "collapsed": true
	   },
	   "outputs": [],
"source": [
"//Chapter-3,Example3_17_10,pg 3-38\n",
"\n",
"u0=4*%pi*10^-7                          //permeability of free space\n",
"\n",
"B=10.9*10^-5                            //flux density\n",
"\n",
"H=B/u0                                  //magnetic field\n",
"\n",
"printf('Horizontal component of magnetic field =')\n",
"\n",
"disp(H)\n",
"\n",
"printf('A-m')"
   ]
   }
,
{
		   "cell_type": "markdown",
		   "metadata": {},
		   "source": [
			"## Example 3.17_11: calculate_current_required.sce"
		   ]
		  },
  {
"cell_type": "code",
	   "execution_count": null,
	   "metadata": {
	    "collapsed": true
	   },
	   "outputs": [],
"source": [
"//Chapter-3,Example3_17_11,pg 3-39\n",
"\n",
"phi=5.9*10^-3                           //magnetic flux\n",
"\n",
"ur=900                                  //relative permeability of material\n",
"\n",
"n=700                                   //number of turns\n",
"\n",
"u0=4*%pi*10^-7                          //permeability of free space\n",
"\n",
"A=60*10^-4                              //cross section area of ring\n",
"\n",
"l=2                                     //mean circumference of ring\n",
"\n",
"B=phi/A                                 //flux density\n",
"\n",
"H=B/(u0*ur)                             //magnetic field\n",
"\n",
"At=H*l                                  //Amp-turns required\n",
"\n",
"I=At/n                                  //current required\n",
"\n",
"printf('Current required to produce a flux=')\n",
"\n",
"disp(I)\n",
"\n",
"printf('Amp')\n",
"\n",
"\n",
""
   ]
   }
,
{
		   "cell_type": "markdown",
		   "metadata": {},
		   "source": [
			"## Example 3.17_12: calculate_Current_required.sce"
		   ]
		  },
  {
"cell_type": "code",
	   "execution_count": null,
	   "metadata": {
	    "collapsed": true
	   },
	   "outputs": [],
"source": [
"//Chapter-3,Example3_17_12,pg 3-39\n",
"\n",
"phi=2.7*10^-3                           //magnetic flux\n",
"\n",
"A=25*10^-4                              //cross section area of ring\n",
"\n",
"r=25*10^-2                              //mean circumference of ring\n",
"\n",
"la=10^-3                                 //air gap\n",
"\n",
"ur=900                                  //relative permeability of material\n",
"\n",
"n=400                                   //number of turns\n",
"\n",
"u0=4*%pi*10^-7                          //permeability of free space\n",
"\n",
"d=40*10^-2                              //mean diameter of ring\n",
"\n",
"li=2*%pi*r                              //mean circumference of ring\n",
"\n",
"B=phi/A                                 //flux density\n",
"\n",
"//for air gap\n",
"\n",
"Ha=B/(u0)                               //magnetic field for air gap\n",
"\n",
"//for iron ring\n",
"\n",
"Hi=B/(u0*ur)                            //magnetic field for iron ring\n",
"\n",
"//therefore, Amp turn in air gap\n",
"\n",
"Ata=Ha*la                               //Amp-turns required\n",
"\n",
"//therefore, Amp-turn in ring\n",
"\n",
"Ati=Hi*li                               //Amp-turns required\n",
"\n",
"//therrfore total mmf required\n",
"\n",
"mmf=Ata+Ati\n",
"\n",
"//Current required\n",
"\n",
"I=mmf/n                                  //current required\n",
"\n",
"printf('Current required =')\n",
"\n",
"disp(I)\n",
"\n",
"printf('Amp')"
   ]
   }
,
{
		   "cell_type": "markdown",
		   "metadata": {},
		   "source": [
			"## Example 3.17_13: calculate_1_magnetic_intensity_2_magnetization_3_Relative_Permeability.sce"
		   ]
		  },
  {
"cell_type": "code",
	   "execution_count": null,
	   "metadata": {
	    "collapsed": true
	   },
	   "outputs": [],
"source": [
"//Chapter-3,Example3_17_13,pg 3-40\n",
"\n",
"n1=10                                    //no of turns per cm\n",
"\n",
"i=2                                     //current\n",
"\n",
"B=1                                     //flux density\n",
"\n",
"u0=4*%pi*10^-7                          //permeability of free space\n",
"\n",
"n=n1*100                                //no turns per m\n",
"\n",
"H=n*i\n",
"\n",
"printf('                   1) magnetic intensity =')\n",
"\n",
"disp(H)\n",
"\n",
"printf('Amp-turn/meter')\n",
"\n",
"//calculation for magnetization\n",
"\n",
"I=B/u0-H\n",
"\n",
"printf('     2) magnetization =')\n",
"\n",
"disp(I)\n",
"\n",
"printf('Amp-turn/meter')\n",
"\n",
"//relative permeability\n",
"\n",
"ur=B/(u0*H)\n",
"\n",
"printf('     3) Relative Permeability of the ring =')\n",
"\n",
"disp(int(ur))"
   ]
   }
,
{
		   "cell_type": "markdown",
		   "metadata": {},
		   "source": [
			"## Example 3.17_14: calculate_Loss_of_energy.sce"
		   ]
		  },
  {
"cell_type": "code",
	   "execution_count": null,
	   "metadata": {
	    "collapsed": true
	   },
	   "outputs": [],
"source": [
"//Chapter-3,Example3_17_14,pg 3-40\n",
"\n",
"m=40                                    //wt of the core\n",
"\n",
"d=7.5*10^3                              //density of iron\n",
"\n",
"n=100                                   //frequency\n",
"\n",
"V=m/d                                   //volume of the iron core\n",
"\n",
"E1=3800*10^-1                           //loss of energy in core per cycles/cc\n",
"\n",
"E2=E1*V                                 //loss of energy in core per cycles\n",
"\n",
"N=60*n                                  //no of cycles per minute\n",
"\n",
"E=E2*N                                  //loss of energy per minute\n",
"\n",
"printf('Loss of energy per minute =')\n",
"\n",
"disp(E)\n",
"\n",
"printf('Joule')\n",
""
   ]
   }
,
{
		   "cell_type": "markdown",
		   "metadata": {},
		   "source": [
			"## Example 3.17_15: calculate_various_parameter_of_magnetic_field.sce"
		   ]
		  },
  {
"cell_type": "code",
	   "execution_count": null,
	   "metadata": {
	    "collapsed": true
	   },
	   "outputs": [],
"source": [
"//Chapter-3,Example3_17_15,pg 3-40\n",
"\n",
"l=30*10^-2                              //length of ring\n",
"\n",
"A=1*10^-4                               //cross section area of ring\n",
"\n",
"i=0.032                                 //current\n",
"\n",
"phi=2*10^-6                             //magnetic flux\n",
"\n",
"u0=4*%pi*10^-7                          //permeability of free space\n",
"\n",
"N=300                                   //no of turns in the coil\n",
"\n",
"//1) flux density\n",
"\n",
"B=phi/A                                 //flux density\n",
"\n",
"printf('1) Flux density in the ring =')\n",
"\n",
"disp(B)\n",
"\n",
"printf('Wb/m^2')\n",
"\n",
"//2) magnetic intensity of ring\n",
"\n",
"n=N/l                                   //no of turns per unit length\n",
"\n",
"H=n*i                                   //magnetic intensity\n",
"\n",
"printf('              2) magnetic intensity =')\n",
"\n",
"disp(H)\n",
"\n",
"printf('Amp-turn/meter')\n",
"\n",
"//3) permeability and relative permeability of the ring\n",
"\n",
"u=B/H\n",
"\n",
"printf('      3) Permeability of the ring =')\n",
"\n",
"disp(u)\n",
"\n",
"printf('Wb/A-m')\n",
"\n",
"ur=u/u0\n",
"\n",
"printf('              4) Relative Permeability of the ring =')\n",
"\n",
"disp(ur)\n",
"\n",
"//4)Susceptibility\n",
"\n",
"Xm=ur-1\n",
"\n",
"printf('5) magnetic Susceptibility of the ring =')\n",
"\n",
"disp(Xm)\n",
""
   ]
   }
,
{
		   "cell_type": "markdown",
		   "metadata": {},
		   "source": [
			"## Example 3.17_16: calculate_loss_of_energy_per_hour.sce"
		   ]
		  },
  {
"cell_type": "code",
	   "execution_count": null,
	   "metadata": {
	    "collapsed": true
	   },
	   "outputs": [],
"source": [
"//Chapter-3,Example3_17_16,pg 3-41\n",
"\n",
"E=3000                                  //loss of energy per cycle per cm^3\n",
"\n",
"m=12*10^3                               //wt of the core\n",
"\n",
"d=7.5                                   //density of iron\n",
"\n",
"n=50                                    //frequency\n",
"\n",
"V=m/d                                   //volume of the core\n",
"\n",
"El=E*V*n*60*60                          //loss of energy per hour\n",
"\n",
"printf('Loss of energy per hour =')\n",
"\n",
"disp(El)\n",
"\n",
"printf('Erg')"
   ]
   }
,
{
		   "cell_type": "markdown",
		   "metadata": {},
		   "source": [
			"## Example 3.17_17: calculate_Hysteresis_power_loss.sce"
		   ]
		  },
  {
"cell_type": "code",
	   "execution_count": null,
	   "metadata": {
	    "collapsed": true
	   },
	   "outputs": [],
"source": [
"//Chapter-3,Example3_17_17,pg 3-41\n",
"\n",
"n=50                                    //frequency\n",
"\n",
"V=10^-3                                 //volume of the specimen\n",
"\n",
"//Area of B-H loop\n",
"\n",
"A=0.5*10^3*1\n",
"\n",
"P=n*V*A\n",
"\n",
"printf('Hysteresis power loss =')\n",
"\n",
"disp(P)\n",
"\n",
"printf('Watt')"
   ]
   }
,
{
		   "cell_type": "markdown",
		   "metadata": {},
		   "source": [
			"## Example 3.17_18: calculate_current_required.sce"
		   ]
		  },
  {
"cell_type": "code",
	   "execution_count": null,
	   "metadata": {
	    "collapsed": true
	   },
	   "outputs": [],
"source": [
"//Chapter-3,Example3_17_18,pg 3-42\n",
"\n",
"phi=1.5*10^-4                           //magnetic flux\n",
"\n",
"ur=900                                  //relative permeability of material\n",
"\n",
"n=600                                   //number of turns\n",
"\n",
"u0=4*%pi*10^-7                          //permeability of free space\n",
"\n",
"A=5.8*10^-4                             //cross section area of ring\n",
"\n",
"d=40*10^-2                              //mean diameter of ring\n",
"\n",
"li=%pi*d                                //mean circumference of ring\n",
"\n",
"la=5*10^-3                              //air gap\n",
"\n",
"B=phi/A                                 //flux density\n",
"\n",
"//for air gap\n",
"\n",
"Ha=B/(u0)                               //magnetic field for air gap\n",
"\n",
"//for iron ring\n",
"\n",
"Hi=B/(u0*ur)                            //magnetic field for iron ring\n",
"\n",
"//therefore, Amp turn in air gap\n",
"\n",
"Ata=Ha*la                               //Amp-turns required\n",
"\n",
"//therefore, Amp-turn in ring\n",
"\n",
"Ati=Hi*li                               //Amp-turns required\n",
"\n",
"//therrfore total mmf required\n",
"\n",
"mmf=Ata+Ati\n",
"\n",
"//Current required\n",
"\n",
"I=mmf/n                                  //current required\n",
"\n",
"printf('Current required =')\n",
"\n",
"disp(I)\n",
"\n",
"printf('Amp')"
   ]
   }
,
{
		   "cell_type": "markdown",
		   "metadata": {},
		   "source": [
			"## Example 3.17_19: calculate_reluctance_and_mmf.sce"
		   ]
		  },
  {
"cell_type": "code",
	   "execution_count": null,
	   "metadata": {
	    "collapsed": true
	   },
	   "outputs": [],
"source": [
"//Chapter-3,Example3_17_19,pg 3-42\n",
"\n",
"la=1*10^-2                              //air gap\n",
"\n",
"r=0.5                                   //radius of ring\n",
"\n",
"A=5*10^-4                               //cross section area of ring\n",
"\n",
"i=5                                     //current\n",
"\n",
"u=6*10^-3                               //permeability of iron\n",
"\n",
"u0=4*%pi*10^-7                          //permeability of free space\n",
"\n",
"N=900                                   //no of turns in the coil\n",
"\n",
"//let reluctance of iron ring with air gap be S\n",
"\n",
"S=la/(u0*A)+(2*%pi*r-la)/(u*A)\n",
"\n",
"printf('        1) Reluctance =')\n",
"\n",
"disp(S)\n",
"\n",
"printf('A-T/Wb')\n",
"\n",
"mmf=N*i\n",
"\n",
"printf('  2) m.m.f =')\n",
"\n",
"disp(mmf)\n",
"\n",
"printf('Amp-turn')\n",
"\n",
"\n",
""
   ]
   }
,
{
		   "cell_type": "markdown",
		   "metadata": {},
		   "source": [
			"## Example 3.17_1: calculate_resultant_voltage.sce"
		   ]
		  },
  {
"cell_type": "code",
	   "execution_count": null,
	   "metadata": {
	    "collapsed": true
	   },
	   "outputs": [],
"source": [
"//Chapter-3,Example3_17_1,pg 3-35\n",
"\n",
"A=650*10^-6                             //area\n",
"\n",
"d=4*10^-3                               //seperation of plate\n",
"\n",
"Q=2*10^-10                              //charge\n",
"\n",
"er=3.5                                  //relative permitivity\n",
"\n",
"e0=8.85*10^-12                          //absolute permitivity\n",
"\n",
"V=(Q*d)/(e0*er*A)\n",
"\n",
"printf('voltage across capacitor =')\n",
"\n",
"disp(V)\n",
"\n",
"printf('Volt')"
   ]
   }
,
{
		   "cell_type": "markdown",
		   "metadata": {},
		   "source": [
			"## Example 3.17_20: calculate_current.sce"
		   ]
		  },
  {
"cell_type": "code",
	   "execution_count": null,
	   "metadata": {
	    "collapsed": true
	   },
	   "outputs": [],
"source": [
"//Chapter-3,Example3_17_20,pg 3-43\n",
"\n",
"//the magnetization force is given by,\n",
"\n",
"//H=NI/l\n",
"\n",
"H=5*10^3                                //coercivity of bar magnet\n",
"\n",
"l=10*10^-2                              //length of solenoid\n",
"\n",
"N=50                                    //number of turns\n",
"\n",
"I=l*H/N\n",
"\n",
"printf('current =')\n",
"\n",
"disp(I)\n",
"\n",
"printf('Ampere')\n",
"\n",
""
   ]
   }
,
{
		   "cell_type": "markdown",
		   "metadata": {},
		   "source": [
			"## Example 3.17_21: calculate_Reluctance_and_current.sce"
		   ]
		  },
  {
"cell_type": "code",
	   "execution_count": null,
	   "metadata": {
	    "collapsed": true
	   },
	   "outputs": [],
"source": [
"//Chapter-3,Example3_17_21,pg 3-43\n",
"\n",
"ur=380                                  //relative permeability of air\n",
"\n",
"u0=4*%pi*10^-7                          //permeability of free space\n",
"\n",
"A=5*10^-4                               //cross section area of ring\n",
"\n",
"n=200                                   //number of turns\n",
"\n",
"d=20*10^-2                              //mean diameter of ring\n",
"\n",
"l=%pi*d                                 //mean circumference of ring\n",
"\n",
"phi=2*10^-3                             //magnetic flux\n",
"\n",
"S=l/(u0*ur*A)                           //reluctance\n",
"\n",
"//using ohm's law for magnetic circuit\n",
"\n",
"//phi=N*I/S\n",
"\n",
"I=S*phi/n\n",
"\n",
"printf('         1) Reluctance =')\n",
"\n",
"disp(S)\n",
"\n",
"printf('A-T/Wb')\n",
"\n",
"\n",
"printf('   2) current =')\n",
"\n",
"disp(I)\n",
"\n",
"printf('Ampere')\n",
""
   ]
   }
,
{
		   "cell_type": "markdown",
		   "metadata": {},
		   "source": [
			"## Example 3.17_22: calculate_various_parameter_of_magnetic_field.sce"
		   ]
		  },
  {
"cell_type": "code",
	   "execution_count": null,
	   "metadata": {
	    "collapsed": true
	   },
	   "outputs": [],
"source": [
"//Chapter-3,Example3_17_22,pg 3-43\n",
"\n",
"ur=1                                    //relative permeability of air\n",
"\n",
"u0=4*%pi*10^-7                          //permeability of free space\n",
"\n",
"A=6*10^-4                               //cross section area of torroid\n",
"\n",
"n=500                                   //number of turns\n",
"\n",
"r=15*10^-2                              //radius of torroid\n",
"\n",
"I=4                                     //current in coil\n",
"\n",
"l=2*%pi*r                               //mean circumference of torroid\n",
"\n",
"MMF=n*I\n",
"\n",
"printf('1) MMF (NI) =')\n",
"\n",
"disp(MMF)\n",
"\n",
"printf('AT')\n",
"\n",
"R=l/(u0*ur*A)                           //Reluctance\n",
"\n",
"printf('       2) Reluctance (R) =')\n",
"\n",
"disp(R)\n",
"\n",
"printf('AT/Wb')\n",
"\n",
"phi=MMF/R                               //flux\n",
"\n",
"printf('    3) Magnetic flux =')\n",
"\n",
"disp(phi)\n",
"\n",
"printf('Wb')\n",
"\n",
"B=phi/A                                 //flux density\n",
"\n",
"printf('       4) Flux density =')\n",
"\n",
"disp(B)\n",
"\n",
"printf('Wb/m^2')\n",
"\n",
"H=B/(u0*ur)                             //magnetic field intensity\n",
"\n",
"printf('   5) Magnetic field intensity =')\n",
"\n",
"disp(H)\n",
"\n",
"printf('A/m')"
   ]
   }
,
{
		   "cell_type": "markdown",
		   "metadata": {},
		   "source": [
			"## Example 3.17_23: calculate_Number_of_AmpereTurns.sce"
		   ]
		  },
  {
"cell_type": "code",
	   "execution_count": null,
	   "metadata": {
	    "collapsed": true
	   },
	   "outputs": [],
"source": [
"//Chapter-3,Example3_17_23,pg 3-44\n",
"\n",
"phi=10^-3                               //magnetic flux\n",
"\n",
"ur=1000                                 //relative permeability of iron\n",
"\n",
"u0=4*%pi*10^-7                          //permeability of free space\n",
"\n",
"A=5*10^-4                               //cross section area of ring\n",
"\n",
"la=2*10^-3                              //air gap\n",
"\n",
"d=20*10^-3                              //mean diameter of ring\n",
"\n",
"li=%pi*d-la                             //mean circumference of ring\n",
"\n",
"//using KVL for magnetic circuit\n",
"\n",
"//AT(total)=AT(iron)+AT(air gap)\n",
"\n",
"ATt=(phi/(u0*A))*((li/ur)+la)\n",
"\n",
"printf('Number of Ampere-Turns required =')\n",
"\n",
"disp(round(ATt))"
   ]
   }
,
{
		   "cell_type": "markdown",
		   "metadata": {},
		   "source": [
			"## Example 3.17_24: calculate_intensity_magnetization_and_flux_density.sce"
		   ]
		  },
  {
"cell_type": "code",
	   "execution_count": null,
	   "metadata": {
	    "collapsed": true
	   },
	   "outputs": [],
"source": [
"//Chapter-3,Example3_17_24,pg 3-44\n",
"\n",
"X=0.5*10^-5                             //susceptibility of material\n",
"\n",
"H=10^6                                  //magnetic field strength\n",
"\n",
"I=X*H                                   //intensity of magnetization\n",
"\n",
"u0=4*%pi*10^-7                          //permeability of free space\n",
"\n",
"B=u0*(H+I)                              //flux density\n",
"\n",
"printf('            1) intensity magnetization =')\n",
"\n",
"disp(I)\n",
"\n",
"printf('Amp/m')\n",
"\n",
"printf('       2) flux density in the material =')\n",
"\n",
"disp(B)\n",
"\n",
"printf('wb/m^2')"
   ]
   }
,
{
		   "cell_type": "markdown",
		   "metadata": {},
		   "source": [
			"## Example 3.17_2: find_capacitance_of_capacitor.sce"
		   ]
		  },
  {
"cell_type": "code",
	   "execution_count": null,
	   "metadata": {
	    "collapsed": true
	   },
	   "outputs": [],
"source": [
"//Chapter-3,Example3_17_2,pg 3-36\n",
"\n",
"A=2000*10^-6                            //area\n",
"\n",
"d=0.5*10^-6                             //seperation of plate\n",
"\n",
"er=8                                    //relative permitivity\n",
"\n",
"e0=8.85*10^-12                          //absolute permitivity\n",
"\n",
"C=(e0*er*A)/d\n",
"\n",
"printf('capacitance for capacitor =')\n",
"\n",
"disp(C)\n",
"\n",
"printf('Faraday')"
   ]
   }
,
{
		   "cell_type": "markdown",
		   "metadata": {},
		   "source": [
			"## Example 3.17_3: calculate_relative_permittivity.sce"
		   ]
		  },
  {
"cell_type": "code",
	   "execution_count": null,
	   "metadata": {
	    "collapsed": true
	   },
	   "outputs": [],
"source": [
"//Chapter-3,Example3_17_3,pg 3-36\n",
"\n",
"E=1000                                  //electric field\n",
"\n",
"P=4.3*10^-8                             //polarization\n",
"\n",
"e0=8.854*10^-12                         //absolute permitivity\n",
"\n",
"er=(P/(e0*E))+1                         //as P/E=e0(er-1)\n",
"\n",
"printf('relative permittivity =')\n",
"\n",
"disp(er)"
   ]
   }
,
{
		   "cell_type": "markdown",
		   "metadata": {},
		   "source": [
			"## Example 3.17_4: ratio_of_two_capacitor.sce"
		   ]
		  },
  {
"cell_type": "code",
	   "execution_count": null,
	   "metadata": {
	    "collapsed": true
	   },
	   "outputs": [],
"source": [
"//Chapter-3,Example3_17_4,pg 3-36\n",
"\n",
"//As C=e0*er*A/d\n",
"\n",
"e0=%e                                   //absolute permitivity\n",
"\n",
"Ag=%s\n",
"\n",
"Ap=Ag                                   //Assuming Area of glass plate and plastic film is same\n",
"\n",
"//for glass\n",
"\n",
"erg=6                                   //relative permitivity\n",
"\n",
"dg=0.25                                 //thickness\n",
"\n",
"Cg=e0*erg*Ag/dg\n",
"\n",
"//for plastic film\n",
"\n",
"erp=3                                   //relative permitivity\n",
"\n",
"dp=0.1                                  //thickness\n",
"\n",
"Cp=e0*erp*Ap/dp\n",
"\n",
"m=Cg/Cp\n",
"\n",
"printf('since Cg/Cp=')\n",
"\n",
"disp(m)\n",
"\n",
"printf('plastic film holds more charge')"
   ]
   }
,
{
		   "cell_type": "markdown",
		   "metadata": {},
		   "source": [
			"## Example 3.17_5: calculate_electronic_polarizability_and_radius_of_He_atom.sce"
		   ]
		  },
  {
"cell_type": "code",
	   "execution_count": null,
	   "metadata": {
	    "collapsed": true
	   },
	   "outputs": [],
"source": [
"//Chapter-3,Example3_17_5,pg 3-37\n",
"\n",
"N=2.7*10^25                             //no of atoms per m^3\n",
"\n",
"er=1.0000684                            //dielectric constant of He atom at NTP\n",
"\n",
"e0=8.854*10^-12                         //absolute permitivity\n",
"\n",
"a=e0*(er-1)/N                           //electronic polarizability\n",
"\n",
"printf('1) electronic polarizability=')\n",
"\n",
"disp(a)\n",
"\n",
"R=(a/(4*%pi*e0))^(1/3)                  //radius of helium atom\n",
"\n",
"printf('2) radius of He atoms =')\n",
"\n",
"disp(R)\n",
"\n",
"printf('meter')"
   ]
   }
,
{
		   "cell_type": "markdown",
		   "metadata": {},
		   "source": [
			"## Example 3.17_6: calculate_electric_susceptibility.sce"
		   ]
		  },
  {
"cell_type": "code",
	   "execution_count": null,
	   "metadata": {
	    "collapsed": true
	   },
	   "outputs": [],
"source": [
"//Chapter-3,Example3_17_6,pg 3-37\n",
"\n",
"er=1.000014                             //dielectric constant of He atom at NTP\n",
"\n",
"Xe=er-1                                 //electric susceptibility\n",
"\n",
"printf('electric susceptibility =')\n",
"\n",
"disp(Xe)"
   ]
   }
,
{
		   "cell_type": "markdown",
		   "metadata": {},
		   "source": [
			"## Example 3.17_7: calculate_relative_permeability.sce"
		   ]
		  },
  {
"cell_type": "code",
	   "execution_count": null,
	   "metadata": {
	    "collapsed": true
	   },
	   "outputs": [],
"source": [
"//Chapter-3,Example3_17_7,pg 3-37\n",
"\n",
"T=300                                   //temperature of paramagnetic material\n",
"\n",
"X=3.7*10^-3                             //susceptibility of material\n",
"\n",
"C=X*T                                   //using Curie's law\n",
"\n",
"T1=250                                  //temperature\n",
"\n",
"T2=600                                  //temperature\n",
"\n",
"u1=C/T1                                 //relative permeability of material at 250k\n",
"\n",
"u2=C/T2                                 //relative permeability of material at 350k\n",
"\n",
"printf('relative permeability at temp 250K=')\n",
"\n",
"disp(u1)\n",
"\n",
"printf('relative permeability at temp 600K =')\n",
"\n",
"disp(u2)"
   ]
   }
,
{
		   "cell_type": "markdown",
		   "metadata": {},
		   "source": [
			"## Example 3.17_8: calculate_Temperature.sce"
		   ]
		  },
  {
"cell_type": "code",
	   "execution_count": null,
	   "metadata": {
	    "collapsed": true
	   },
	   "outputs": [],
"source": [
"//Chapter-3,Example3_17_8,pg 3-38\n",
"\n",
"u=0.8*10^-23                            //magnetic dipole moment of an atom \n",
"\n",
"B=0.8                                   //magnetic field\n",
"\n",
"K=1.38*10^-23                           //boltzmann constant\n",
"\n",
"T=(2*u*B)/(3*K)                         //temperature\n",
"\n",
"printf('Temperature at which average thermal energy of an atom is equal to magntic energy=')\n",
"\n",
"disp(T)\n",
"\n",
"printf('K')"
   ]
   }
,
{
		   "cell_type": "markdown",
		   "metadata": {},
		   "source": [
			"## Example 3.17_9: calculate_magnetization_of_paramagnetic_material.sce"
		   ]
		  },
  {
"cell_type": "code",
	   "execution_count": null,
	   "metadata": {
	    "collapsed": true
	   },
	   "outputs": [],
"source": [
"//Chapter-3,Example3_17_9,pg 3-38\n",
"\n",
"B=0.5                                   //magnetic field\n",
"\n",
"t=27                                    //temperature in degree celcius\n",
"\n",
"T=273+t                                 //temperature in kelvin\n",
"\n",
"u0=4*%pi*10^-7                          //permeability of free space\n",
"\n",
"C=2*10^-3                               //Curie's constant\n",
"\n",
"M=(C*B)/(u0*T)                          //magnetization of material\n",
"\n",
"printf('magnetization of paramagnetic material =')\n",
"\n",
"disp(M)\n",
"\n",
"printf('A/m')"
   ]
   }
],
"metadata": {
		  "kernelspec": {
		   "display_name": "Scilab",
		   "language": "scilab",
		   "name": "scilab"
		  },
		  "language_info": {
		   "file_extension": ".sce",
		   "help_links": [
			{
			 "text": "MetaKernel Magics",
			 "url": "https://github.com/calysto/metakernel/blob/master/metakernel/magics/README.md"
			}
		   ],
		   "mimetype": "text/x-octave",
		   "name": "scilab",
		   "version": "0.7.1"
		  }
		 },
		 "nbformat": 4,
		 "nbformat_minor": 0
}
