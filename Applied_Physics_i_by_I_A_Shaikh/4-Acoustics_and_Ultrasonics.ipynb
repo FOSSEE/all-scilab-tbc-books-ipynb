{
"cells": [
 {
		   "cell_type": "markdown",
	   "metadata": {},
	   "source": [
       "# Chapter 4: Acoustics and Ultrasonics"
	   ]
	},
{
		   "cell_type": "markdown",
		   "metadata": {},
		   "source": [
			"## Example 4.11_1: calculate_length.sce"
		   ]
		  },
  {
"cell_type": "code",
	   "execution_count": null,
	   "metadata": {
	    "collapsed": true
	   },
	   "outputs": [],
"source": [
"//Chapter-4,Example4_11_1,pg 4-17\n",
"\n",
"d=8900                                  //density\n",
"\n",
"Y=20.8*10^10                            //Young's modulus\n",
"\n",
"n=40*10^3                               //frequency of wave\n",
"\n",
"k=1                                     //consider 1st harmonic\n",
"\n",
"l=(k/(2*n))*sqrt(Y/d)                   //arranging formula of natural frequency\n",
"\n",
"printf('length =')\n",
"\n",
"disp(l)\n",
"\n",
"printf('meter')"
   ]
   }
,
{
		   "cell_type": "markdown",
		   "metadata": {},
		   "source": [
			"## Example 4.12_1: calculate_thickness.sce"
		   ]
		  },
  {
"cell_type": "code",
	   "execution_count": null,
	   "metadata": {
	    "collapsed": true
	   },
	   "outputs": [],
"source": [
"//Chapter-4,Example4_12_1,pg 4-20\n",
"\n",
"d=2.65*10^3                             //density\n",
"\n",
"Y=8*10^10                               //Young's modulus\n",
"\n",
"n=1*10^6                                //frequency of wave\n",
"\n",
"k=1                                     //consider 1st harmonic\n",
"\n",
"t=(k/(2*n))*sqrt(Y/d)                   //arranging formula of natural frequency\n",
"\n",
"printf('thickness =')\n",
"\n",
"disp(t)\n",
"\n",
"printf('meter')"
   ]
   }
,
{
		   "cell_type": "markdown",
		   "metadata": {},
		   "source": [
			"## Example 4.15_10: calculate_depth_of_seabed_and_wavelength.sce"
		   ]
		  },
  {
"cell_type": "code",
	   "execution_count": null,
	   "metadata": {
	    "collapsed": true
	   },
	   "outputs": [],
"source": [
"//Chapter-4,Example4_15_10,pg 4-31\n",
"\n",
"f=0.07*10^6                             //frequency\n",
"\n",
"t=0.65                                  //time\n",
"\n",
"v=1700                                  //velocity of sound\n",
"\n",
"d=v*t/2                                 //depth of seabed\n",
"\n",
"printf('1) depth of seabed =')\n",
"\n",
"disp(d)\n",
"\n",
"printf('meter')\n",
"\n",
"l=v/f                                   //wavelength\n",
"\n",
"printf('2) wavelength =')\n",
"\n",
"disp(l)\n",
"\n",
"printf('meter')"
   ]
   }
,
{
		   "cell_type": "markdown",
		   "metadata": {},
		   "source": [
			"## Example 4.15_11: calculate_natural_frequency.sce"
		   ]
		  },
  {
"cell_type": "code",
	   "execution_count": null,
	   "metadata": {
	    "collapsed": true
	   },
	   "outputs": [],
"source": [
"//Chapter-4,Example4_15_11,pg 4-31\n",
"\n",
"t=1*10^-3                               //thicknesss of crystal\n",
"\n",
"d=2.65*10^3                             //density\n",
"\n",
"Y=8*10^10                               //Young's modulus\n",
"\n",
"k=1                                     //consider 1st harmonic\n",
"\n",
"n=(k/(2*t))*sqrt(Y/d)                   //formula of natural frequency\n",
"\n",
"printf(' natural frequency =')\n",
"\n",
"disp(n)\n",
"\n",
"printf('Hz')"
   ]
   }
,
{
		   "cell_type": "markdown",
		   "metadata": {},
		   "source": [
			"## Example 4.15_12: calculate_thickness.sce"
		   ]
		  },
  {
"cell_type": "code",
	   "execution_count": null,
	   "metadata": {
	    "collapsed": true
	   },
	   "outputs": [],
"source": [
"//Chapter-4,Example4_15_12,pg 4-32\n",
"\n",
"d=2650                                  //density\n",
"\n",
"Y=8*10^10                               //Young's modulus\n",
"\n",
"k=1                                     //consider 1st harmonic\n",
"\n",
"//case 1\n",
"\n",
"n1=3.8*10^6                             //frequency of wave\n",
"\n",
"t1=(k/(2*n1))*sqrt(Y/d)                 //arranging formula of natural frequency\n",
"\n",
"printf('1) thickness =')\n",
"\n",
"disp(t1)\n",
"\n",
"printf('meter')\n",
"\n",
"//case 2\n",
"\n",
"n2=300*10^3                             //frequency of wave\n",
"\n",
"t2=(k/(2*n2))*sqrt(Y/d)                 //arranging formula of natural frequency\n",
"\n",
"printf('2) thickness =')\n",
"\n",
"disp(t2)\n",
"\n",
"printf('meter')"
   ]
   }
,
{
		   "cell_type": "markdown",
		   "metadata": {},
		   "source": [
			"## Example 4.15_13: calculate_thickness.sce"
		   ]
		  },
  {
"cell_type": "code",
	   "execution_count": null,
	   "metadata": {
	    "collapsed": true
	   },
	   "outputs": [],
"source": [
"//Chapter-4,Example4_15_13,pg 4-32\n",
"\n",
"d=2650                                  //density\n",
"\n",
"Y=8*10^10                               //Young's modulus\n",
"\n",
"n=2*10^6                                //frequency of wave\n",
"\n",
"k=1                                     //consider 1st harmonic\n",
"\n",
"t=(k/(2*n))*sqrt(Y/d)                   //arranging formula of natural frequency\n",
"\n",
"printf('thickness =')\n",
"\n",
"disp(t)\n",
"\n",
"printf('meter')"
   ]
   }
,
{
		   "cell_type": "markdown",
		   "metadata": {},
		   "source": [
			"## Example 4.15_14: calculate_distance_between_two_ships.sce"
		   ]
		  },
  {
"cell_type": "code",
	   "execution_count": null,
	   "metadata": {
	    "collapsed": true
	   },
	   "outputs": [],
"source": [
"//Chapter-4,Example4_15_14,pg 4-33\n",
"\n",
"f=50*10^3                               //frequency\n",
"\n",
"v1=348                                  //velocity of ultrasound in atmosphere\n",
"\n",
"v2=1392                                 //velocity of ultrasound in sea water\n",
"\n",
"t=2                                     //time difference\n",
"\n",
"//distance is constant hence v1*t1=v2*t2\n",
"\n",
"m=v2/v1                                 //assuming constant as m\n",
"\n",
"//(t1-t2=d) and (t1=m*t2) therefore\n",
"\n",
"t2=t/(m-1)\n",
"\n",
"d=v2*t2                                 //distance between two ship\n",
"\n",
"printf('distance between two ships =')\n",
"\n",
"disp(d)\n",
"\n",
"printf('meter')"
   ]
   }
,
{
		   "cell_type": "markdown",
		   "metadata": {},
		   "source": [
			"## Example 4.15_15: calculate_natural_frequency_and_change_in_thickness.sce"
		   ]
		  },
  {
"cell_type": "code",
	   "execution_count": null,
	   "metadata": {
	    "collapsed": true
	   },
	   "outputs": [],
"source": [
"//Chapter-4,Example4_15_15,pg 4-34\n",
"\n",
"//for case1\n",
"t1=2*10^-3                              //thicknesss of plate\n",
"\n",
"d=2.65*10^3                             //density\n",
"\n",
"Y=8*10^10                               //Young's modulus\n",
"\n",
"k=1                                     //consider 1st harmonic\n",
"\n",
"n1=(k/(2*t1))*sqrt(Y/d)                 //formula of natural frequency\n",
"\n",
"printf('       1)natural frequency =')\n",
"\n",
"disp(n1)\n",
"\n",
"printf('Hz')\n",
"\n",
"//for case2\n",
"\n",
"n2=3*10^6                               //frequency\n",
"\n",
"t2=(k/(2*n2))*sqrt(Y/d)                 //arranging formula of natural frequency\n",
"\n",
"t=t1-t2                                 //change in thickness\n",
"\n",
"printf('     2)change in thickness =')\n",
"\n",
"disp(t)\n",
"\n",
"printf('meter')"
   ]
   }
,
{
		   "cell_type": "markdown",
		   "metadata": {},
		   "source": [
			"## Example 4.15_16: calculate_depth_of_sea_bed.sce"
		   ]
		  },
  {
"cell_type": "code",
	   "execution_count": null,
	   "metadata": {
	    "collapsed": true
	   },
	   "outputs": [],
"source": [
"//Chapter-4,Example4_15_16,pg 4-34\n",
"\n",
"S=10                                    //salinity\n",
"\n",
"t=2                                     //time\n",
"\n",
"T=20                                    //temperature\n",
"\n",
"v=1510+1.14*S+4.21*T-0.037*T^2          //velocity of ultrasound in sea\n",
"\n",
"d=v*t/2                                 //depth of sea bed\n",
"\n",
"printf('depth of sea bed =')\n",
"\n",
"disp(d)\n",
"\n",
"printf('meter')"
   ]
   }
,
{
		   "cell_type": "markdown",
		   "metadata": {},
		   "source": [
			"## Example 4.15_17: calculate_depth_of_sea_bed_and_frequency.sce"
		   ]
		  },
  {
"cell_type": "code",
	   "execution_count": null,
	   "metadata": {
	    "collapsed": true
	   },
	   "outputs": [],
"source": [
"//Chapter-4,Example4_15_17,pg 4-35\n",
"\n",
"S=29                                    //salinity\n",
"\n",
"t=2                                     //time\n",
"\n",
"l=0.01                                  //wavelength\n",
"\n",
"T=30                                    //temperature\n",
"\n",
"v=1510+1.14*S+4.21*T-0.037*T^2          //velocity of ultrasound in sea\n",
"\n",
"d=v*t/2                                 //depth of sea bed\n",
"\n",
"printf('1)depth of sea bed =')\n",
"\n",
"disp(d)\n",
"\n",
"printf('meter')\n",
"\n",
"f=v/l                                   //frequency\n",
"\n",
"printf('2) frequency =')\n",
"\n",
"disp(f)\n",
"\n",
"printf('Hz')"
   ]
   }
,
{
		   "cell_type": "markdown",
		   "metadata": {},
		   "source": [
			"## Example 4.15_18: calculate_real_thickness.sce"
		   ]
		  },
  {
"cell_type": "code",
	   "execution_count": null,
	   "metadata": {
	    "collapsed": true
	   },
	   "outputs": [],
"source": [
"//Chapter-4,Example4_15_18,pg 4-35\n",
"\n",
"v1=5.9*10^3                             //velocity of UW in mild steel\n",
"\n",
"v2=4.3*10^3                             //velocity of UW in brass\n",
"\n",
"t2=15*10^-3                             //thickness of brass plate\n",
"\n",
"t1=v2*t2/v1                             //since ve;ocity is inversly proportional to thickness\n",
"\n",
"printf('real thickness =')\n",
"\n",
"disp(t1)\n",
"\n",
"printf('meter')"
   ]
   }
,
{
		   "cell_type": "markdown",
		   "metadata": {},
		   "source": [
			"## Example 4.15_19: calculate_thickness_of_crystal.sce"
		   ]
		  },
  {
"cell_type": "code",
	   "execution_count": null,
	   "metadata": {
	    "collapsed": true
	   },
	   "outputs": [],
"source": [
"//Chapter-4,Example4_15_19,pg 4-36\n",
"\n",
"t1=4*10^-3                              //thickness of 1st crystal\n",
"\n",
"n1=400*10^3                             //frequency of 1st crystal\n",
"\n",
"n2=500*10^3                             //frequency of 2nd crystal\n",
"\n",
"t2=n1*t1/n2                             //since frquency is inversly proportional to thickness\n",
"\n",
"printf('thickness of 2nd crystal =')\n",
"\n",
"disp(t2)\n",
"\n",
"printf('meter')"
   ]
   }
,
{
		   "cell_type": "markdown",
		   "metadata": {},
		   "source": [
			"## Example 4.15_1: calculate_Reverberation_time.sce"
		   ]
		  },
  {
"cell_type": "code",
	   "execution_count": null,
	   "metadata": {
	    "collapsed": true
	   },
	   "outputs": [],
"source": [
"//Chapter-4,Example4_15_1,pg 4-25\n",
"\n",
"l=20                                    //length of room\n",
"\n",
"b=15                                    //bredth of room\n",
"\n",
"h=10                                    //height of room\n",
"\n",
"V=l*b*h                                 //volume of room\n",
"\n",
"a=0.106                                 //absorption coefficient\n",
"\n",
"S=2*(l*b+b*h+h*l)                       //surface area of hall\n",
"\n",
"T=(0.161*V)/(a*S)                       //Reverberation time,using Sabine's formula\n",
"\n",
"printf('Reverberation time =')\n",
"\n",
"disp(T)\n",
"\n",
"printf('sec')\n",
""
   ]
   }
,
{
		   "cell_type": "markdown",
		   "metadata": {},
		   "source": [
			"## Example 4.15_20: calculate_distance_at_which_defect_has_occurred.sce"
		   ]
		  },
  {
"cell_type": "code",
	   "execution_count": null,
	   "metadata": {
	    "collapsed": true
	   },
	   "outputs": [],
"source": [
"//Chapter-4,Example4_15_20,pg 4-36\n",
"\n",
"t2=30*10^-6                             //pulse arrival time of defective steel bar\n",
"\n",
"t1=80*10^-6                             //pulse arrival time of non defective steel bar\n",
"\n",
"d=40*10^-2                              //bar thickness\n",
"\n",
"x=(t2/t1)*d\n",
"\n",
"printf('distance at which defect has occurred =')\n",
"\n",
"disp(x)\n",
"\n",
"printf('meter')"
   ]
   }
,
{
		   "cell_type": "markdown",
		   "metadata": {},
		   "source": [
			"## Example 4.15_21: calculate_echo_time.sce"
		   ]
		  },
  {
"cell_type": "code",
	   "execution_count": null,
	   "metadata": {
	    "collapsed": true
	   },
	   "outputs": [],
"source": [
"//Chapter-4,Example4_15_21,pg 4-37\n",
"\n",
"d=18*10^-3                              //thickness\n",
"\n",
"v=5.9*10^3                              //velocity\n",
"\n",
"t=(2*d)/v                               //echo time\n",
"\n",
"printf('echo time =')\n",
"\n",
"disp(t)\n",
"\n",
"printf('sec')"
   ]
   }
,
{
		   "cell_type": "markdown",
		   "metadata": {},
		   "source": [
			"## Example 4.15_22: calculate_frquency_of_vibration.sce"
		   ]
		  },
  {
"cell_type": "code",
	   "execution_count": null,
	   "metadata": {
	    "collapsed": true
	   },
	   "outputs": [],
"source": [
"//Chapter-4,Example4_15_22,pg 4-37\n",
"\n",
"t=1*10^-3                               //thickness of quartz crystal\n",
"\n",
"//given t=l/2\n",
"\n",
"l=t*2                                   //wavelength\n",
"\n",
"Y=7.9*10^10                             //young's module of crystal\n",
"\n",
"p=2650                                  //density of crystal\n",
"\n",
"v=sqrt(Y/p)                             //velocity of vibration\n",
"\n",
"n=v/l                                   //frequency of vibration\n",
"\n",
"printf('frquency of vibration =')\n",
"\n",
"disp(n)\n",
"\n",
"printf('Hz')\n",
"\n",
""
   ]
   }
,
{
		   "cell_type": "markdown",
		   "metadata": {},
		   "source": [
			"## Example 4.15_23: calculate_length.sce"
		   ]
		  },
  {
"cell_type": "code",
	   "execution_count": null,
	   "metadata": {
	    "collapsed": true
	   },
	   "outputs": [],
"source": [
"//Chapter-4,Example4_15_23,pg 4-38\n",
"\n",
"d=7.23*10^3                             //density\n",
"\n",
"Y=11.6*10^10                            //Young's modulus\n",
"\n",
"n=20*10^3                               //frequency of wave\n",
"\n",
"k=1                                     //consider 1st harmonic\n",
"\n",
"l=(k/(2*n))*sqrt(Y/d)                   //arranging formula of natural frequency\n",
"\n",
"printf('length =')\n",
"\n",
"disp(l)\n",
"\n",
"printf('meter')"
   ]
   }
,
{
		   "cell_type": "markdown",
		   "metadata": {},
		   "source": [
			"## Example 4.15_24: calculate_natural_frequency_and_change_in_thickness.sce"
		   ]
		  },
  {
"cell_type": "code",
	   "execution_count": null,
	   "metadata": {
	    "collapsed": true
	   },
	   "outputs": [],
"source": [
"//Chapter-4,Example4_15_24,pg 4-38\n",
"\n",
"//for case1\n",
"t1=2*10^-3                              //thicknesss of plate\n",
"\n",
"d=2.65*10^3                             //density\n",
"\n",
"Y=8*10^10                               //Young's modulus\n",
"\n",
"k=1                                     //consider 1st harmonic\n",
"\n",
"n1=(k/(2*t1))*sqrt(Y/d)                 //formula of natural frequency\n",
"\n",
"printf('       1)natural frequency =')\n",
"\n",
"disp(n1)\n",
"\n",
"printf('Hz')\n",
"\n",
"//for case2\n",
"\n",
"n2=3*10^6                               //frequency\n",
"\n",
"t2=(k/(2*n2))*sqrt(Y/d)                 //arranging formula of natural frequency\n",
"\n",
"t=t1-t2                                 //change in thickness\n",
"\n",
"printf('     2)change in thickness =')\n",
"\n",
"disp(t)\n",
"\n",
"printf('meter')\n",
""
   ]
   }
,
{
		   "cell_type": "markdown",
		   "metadata": {},
		   "source": [
			"## Example 4.15_25: calculate_average_absorption_coefficien_and_total_absorption.sce"
		   ]
		  },
  {
"cell_type": "code",
	   "execution_count": null,
	   "metadata": {
	    "collapsed": true
	   },
	   "outputs": [],
"source": [
"//Chapter-4,Example4_15_25,pg 4-39\n",
"\n",
"l=20                                    //length of room\n",
"\n",
"b=15                                    //bredth of room\n",
"\n",
"h=10                                    //height of room\n",
"\n",
"V=l*b*h                                 //volume of room\n",
"\n",
"S=2*(l*b+b*h+h*l)                       //surface area of hall\n",
"\n",
"T=3                                     //Reverberation time\n",
"\n",
"a=(0.161*V)/(T*S)                       //using Sabine's formula\n",
"\n",
"printf('1) average absorption coefficient =')\n",
"\n",
"disp(a)\n",
"\n",
"m=a*S                                   //total absorption\n",
"\n",
"printf('2) total absorption of surface =')\n",
"\n",
"disp(m)\n",
"\n",
"printf('m^2/sec')"
   ]
   }
,
{
		   "cell_type": "markdown",
		   "metadata": {},
		   "source": [
			"## Example 4.15_26: calculate_natural_frequency_and_change_in_thickness.sce"
		   ]
		  },
  {
"cell_type": "code",
	   "execution_count": null,
	   "metadata": {
	    "collapsed": true
	   },
	   "outputs": [],
"source": [
"//Chapter-4,Example4_15_26,pg 4-39\n",
"\n",
"//for case1\n",
"t1=1.8*10^-3                            //thicknesss of plate\n",
"\n",
"d=2.65*10^3                             //density\n",
"\n",
"Y=8*10^10                               //Young's modulus\n",
"\n",
"k=1                                     //consider 1st harmonic\n",
"\n",
"n1=(k/(2*t1))*sqrt(Y/d)                 //formula of natural frequency\n",
"\n",
"printf('       1)natural frequency =')\n",
"\n",
"disp(n1)\n",
"\n",
"printf('Hz')\n",
"\n",
"//for case2\n",
"\n",
"n2=2*10^6                               //frequency\n",
"\n",
"t2=(k/(2*n2))*sqrt(Y/d)                 //arranging formula of natural frequency\n",
"\n",
"t=t1-t2                                 //change in thickness\n",
"\n",
"printf('     2)change in thickness =')\n",
"\n",
"disp(t)\n",
"\n",
"printf('meter')\n",
""
   ]
   }
,
{
		   "cell_type": "markdown",
		   "metadata": {},
		   "source": [
			"## Example 4.15_27: calculate_Youngs_modulus.sce"
		   ]
		  },
  {
"cell_type": "code",
	   "execution_count": null,
	   "metadata": {
	    "collapsed": true
	   },
	   "outputs": [],
"source": [
"//Chapter-4,Example4_15_27,pg 4-39\n",
"\n",
"n=0.4999*10^6                           //frequency\n",
"\n",
"t=5.5*10^-3                             //thicknesss of plate\n",
"\n",
"d=2.65*10^3                             //density\n",
"\n",
"k=1                                     //consider 1st harmonic\n",
"\n",
"Y=4*(t^2)*(n^2)*d/k                     //arranging formula of natural frequency\n",
"\n",
"printf('Youngs modulus =')\n",
"\n",
"disp(Y)\n",
"\n",
"printf('N/m^2')"
   ]
   }
,
{
		   "cell_type": "markdown",
		   "metadata": {},
		   "source": [
			"## Example 4.15_2: calculate_change_in_intensity_level.sce"
		   ]
		  },
  {
"cell_type": "code",
	   "execution_count": null,
	   "metadata": {
	    "collapsed": true
	   },
	   "outputs": [],
"source": [
"//Chapter-4,Example4_15_2,pg 4-26\n",
"\n",
"m=%i                                    //original sound intensity\n",
"\n",
"n=1000*%i                               //increased intensity value\n",
"\n",
"l=10*log10(n/m)                         //change in intensity level\n",
"\n",
"printf('change in intensity level =')\n",
"\n",
"disp(l)\n",
"\n",
"printf('dB')"
   ]
   }
,
{
		   "cell_type": "markdown",
		   "metadata": {},
		   "source": [
			"## Example 4.15_3: clculate_average_sound_absorption_coefficient_and_reverberation_time.sce"
		   ]
		  },
  {
"cell_type": "code",
	   "execution_count": null,
	   "metadata": {
	    "collapsed": true
	   },
	   "outputs": [],
"source": [
"//Chapter-4,Example4_15_3,pg 4-26\n",
"\n",
"S1=220                                  //wall area\n",
"\n",
"a1=0.03                                 //absorption coefficient for the wall\n",
"\n",
"S2=120                                  //floor area\n",
"\n",
"a2=0.8                                  //absorption coefficient for the floor\n",
"\n",
"S3=120                                  //ceiling area\n",
"\n",
"a3=0.06                                 //absorption coefficient for the ceiling\n",
"\n",
"V=600                                   //volume of room\n",
"\n",
"S=S1+S2+S3                              //total surface area\n",
"\n",
"a=(a1*S1+a2*S2+a3*S3)/S                 //average sound absorption coefficient\n",
"\n",
"printf('1) average sound absorption coefficient =')\n",
"\n",
"disp(a)\n",
"\n",
"T=(0.161*V)/(a*S)                       //Reverberation time,using Sabine's formula\n",
"\n",
"printf('2) Reverberation time =')\n",
"\n",
"disp(T)\n",
"\n",
"printf('sec')"
   ]
   }
,
{
		   "cell_type": "markdown",
		   "metadata": {},
		   "source": [
			"## Example 4.15_4: calculate_average_absorption_coefficient.sce"
		   ]
		  },
  {
"cell_type": "code",
	   "execution_count": null,
	   "metadata": {
	    "collapsed": true
	   },
	   "outputs": [],
"source": [
"//Chapter-4,Example4_15_4,pg 4-27\n",
"\n",
"V=5500                                  //volume\n",
"\n",
"T=2.3                                   //Reverberation time\n",
"\n",
"S=750                                   //sound absorption coefficient\n",
"\n",
"a=(0.161*V)/(S*T)                       //using Sabine's formula\n",
"\n",
"printf('average absorption coefficient =')\n",
"\n",
"disp(a)"
   ]
   }
,
{
		   "cell_type": "markdown",
		   "metadata": {},
		   "source": [
			"## Example 4.15_5: claculate_average_absorption_coefficient_and_area_of_floor.sce"
		   ]
		  },
  {
"cell_type": "code",
	   "execution_count": null,
	   "metadata": {
	    "collapsed": true
	   },
	   "outputs": [],
"source": [
"//Chapter-4,Example4_15_5,pg 4-27\n",
"\n",
"l=20                                    //length of room\n",
"\n",
"b=12                                    //bredth of room\n",
"\n",
"h=12                                    //height of room\n",
"\n",
"V=l*b*h                                 //volume of room\n",
"\n",
"S=2*(l*b+b*h+h*l)                       //surface area of hall\n",
"\n",
"T1=2.5                                  //Reverberation time\n",
"\n",
"a=(0.161*V)/(T1*S)                      //using Sabine's formula\n",
"\n",
"printf('1) average absorption coefficient =')\n",
"\n",
"disp(a)\n",
"\n",
"a1=0.5                                  //absorption coefficient\n",
"\n",
"T2=2                                    //Reverberation time\n",
"\n",
"S1=(0.161*V/(a1-a))*(1/T2-1/T1)\n",
"\n",
"printf('2) carpet area required =')\n",
"\n",
"disp(S1)\n",
"\n",
"printf('m^2')"
   ]
   }
,
{
		   "cell_type": "markdown",
		   "metadata": {},
		   "source": [
			"## Example 4.15_6: calculate_reverberation_time_for_various_case.sce"
		   ]
		  },
  {
"cell_type": "code",
	   "execution_count": null,
	   "metadata": {
	    "collapsed": true
	   },
	   "outputs": [],
"source": [
"//Chapter-4,Example4_15_6,pg 4-28\n",
"\n",
"Ac=10*12                                //area of carpet covering entire floor\n",
"\n",
"ac=0.06                                 //absorption coefficient of carpet\n",
"\n",
"aS1=Ac*ac                               //absorption due to carpet\n",
"\n",
"Af=10*12                                //area of false celling\n",
"\n",
"af=0.03                                 //absorption coefficient of celling\n",
"\n",
"aS2=Af*af                               //absorption due to celling\n",
"\n",
"As=100*1                                //area of cushioned sets\n",
"\n",
"as=1                                    //absorption coefficient of cushion sets\n",
"\n",
"aS3=As*as                               //absorption due to cusion sets\n",
"\n",
"Aw=346*1                                //area of walls covered with absorbent\n",
"\n",
"aw=0.2                                  //absorption coefficient of walls\n",
"\n",
"aS4=Aw*aw                               //absorption due to walls\n",
"\n",
"Ad=346*1                                //area of wooden door\n",
"\n",
"ad=0.2                                  //absorption coefficient of wooden door\n",
"\n",
"aS5=Ad*ad                               //absorption due to wooden door\n",
"\n",
"aS=aS1+aS2+aS3+aS4                      //total absorption\n",
"\n",
"ap=0.46                                 //absorption coefficient of audience/person\n",
"\n",
"l=12                                    //assuming length of wall\n",
"\n",
"b=10                                    //assuming breadth of wall\n",
"\n",
"h=8                                     //assuming height of wall\n",
"\n",
"V=l*b*h                                 //volume of hall\n",
"\n",
"//case 1 :(no one inside/emptey  hall)\n",
"\n",
"T1=(0.161*V)/aS                         //reverberation time\n",
"\n",
"printf('     1)reverberation time of empty hall =')\n",
"\n",
"disp(T1)\n",
"\n",
"printf('sec')\n",
"\n",
"//case 2 :(50 person inside hall)\n",
"\n",
"T2=(0.161*V)/(aS+50*0.46)               //reverberation time\n",
"\n",
"printf('  2)reverberation time of hall with 50 person =')\n",
"\n",
"disp(T2)\n",
"\n",
"printf('sec')\n",
"\n",
"//case 2 :(100 person inside hall/full capacity of hall)\n",
"\n",
"T3=(0.161*V)/(aS+100*0.46)              //reverberation time\n",
"\n",
"printf('  3)reverberation time of hall with 100 person =')\n",
"\n",
"disp(T3)\n",
"\n",
"printf('sec')\n",
""
   ]
   }
,
{
		   "cell_type": "markdown",
		   "metadata": {},
		   "source": [
			"## Example 4.15_7: calculate_average_absorption_coefficient_and_total_absorption.sce"
		   ]
		  },
  {
"cell_type": "code",
	   "execution_count": null,
	   "metadata": {
	    "collapsed": true
	   },
	   "outputs": [],
"source": [
"//Chapter-4,Example4_15_7,pg 4-30\n",
"\n",
"l=20                                    //length of room\n",
"\n",
"b=15                                    //bredth of room\n",
"\n",
"h=5                                     //height of room\n",
"\n",
"V=l*b*h                                 //volume of room\n",
"\n",
"S=2*(l*b+b*h+h*l)                       //surface area of hall\n",
"\n",
"T=3.5                                   //Reverberation time\n",
"\n",
"a=(0.161*V)/(T*S)                       //using Sabine's formula\n",
"\n",
"printf('1) average absorption coefficient =')\n",
"\n",
"disp(a)\n",
"\n",
"avg=a*S                                 //average total absorption\n",
"\n",
"printf('2) average total absorption =')\n",
"\n",
"disp(avg)\n",
"\n",
"printf('m^2.S')"
   ]
   }
,
{
		   "cell_type": "markdown",
		   "metadata": {},
		   "source": [
			"## Example 4.15_8: calculate_change_in_reverberation_time.sce"
		   ]
		  },
  {
"cell_type": "code",
	   "execution_count": null,
	   "metadata": {
	    "collapsed": true
	   },
	   "outputs": [],
"source": [
"//Chapter-4,Example4_15_8,pg 4-30\n",
"\n",
"l=20                                    //length of room\n",
"\n",
"b=15                                    //bredth of room\n",
"\n",
"h=10                                    //height of room\n",
"\n",
"V=l*b*h                                 //volume of room\n",
"\n",
"a=0.1                                   //absorption coefficient\n",
"\n",
"S=2*(l*b+b*h+h*l)                       //surface area of hall\n",
"\n",
"T1=(0.161*V)/(a*S)                      //Reverberation time,using Sabine's formula\n",
"\n",
"printf('1) Reverberation time =')\n",
"\n",
"disp(T1)\n",
"\n",
"printf('sec')\n",
"\n",
"a2=0.66                                 //absorption coefficient of curtain cloth\n",
"\n",
"S2=100                                  //surface area of a curtain cloth\n",
"\n",
"T2=(0.161*V)/(a*S+a2*S2*2)              //Reverberation time,using Sabine's formula\n",
"\n",
"T=T1-T2                                 //change in Reverberation time\n",
"\n",
"printf('2) change in Reverberation time =')\n",
"\n",
"disp(T)\n",
"\n",
"printf('sec')"
   ]
   }
,
{
		   "cell_type": "markdown",
		   "metadata": {},
		   "source": [
			"## Example 4.15_9: calculate_average_absorption_coefficient_and_reverberation_time.sce"
		   ]
		  },
  {
"cell_type": "code",
	   "execution_count": null,
	   "metadata": {
	    "collapsed": true
	   },
	   "outputs": [],
"source": [
"//Chapter-4,Example4_15_9,pg 4-30\n",
"\n",
"S1=220                                  //wall area\n",
"\n",
"a1=0.03                                 //absorption coefficient for the wall\n",
"\n",
"S2=120                                  //floor area\n",
"\n",
"a2=0.8                                  //absorption coefficient for the floor\n",
"\n",
"S3=120                                  //ceiling area\n",
"\n",
"a3=0.06                                 //absorption coefficient for the ceiling\n",
"\n",
"V=600                                   //volume of room\n",
"\n",
"S=S1+S2+S3                              //total surface area\n",
"\n",
"a=(a1*S1+a2*S2+a3*S3)/S                 //average sound absorption coefficient\n",
"\n",
"printf('1) average sound absorption coefficient =')\n",
"\n",
"disp(a)\n",
"\n",
"T=(0.161*V)/(a*S)                       //Reverberation time,using Sabine's formula\n",
"\n",
"printf('2) Reverberation time =')\n",
"\n",
"disp(T)\n",
"\n",
"printf('sec')"
   ]
   }
],
"metadata": {
		  "kernelspec": {
		   "display_name": "Scilab",
		   "language": "scilab",
		   "name": "scilab"
		  },
		  "language_info": {
		   "file_extension": ".sce",
		   "help_links": [
			{
			 "text": "MetaKernel Magics",
			 "url": "https://github.com/calysto/metakernel/blob/master/metakernel/magics/README.md"
			}
		   ],
		   "mimetype": "text/x-octave",
		   "name": "scilab",
		   "version": "0.7.1"
		  }
		 },
		 "nbformat": 4,
		 "nbformat_minor": 0
}
