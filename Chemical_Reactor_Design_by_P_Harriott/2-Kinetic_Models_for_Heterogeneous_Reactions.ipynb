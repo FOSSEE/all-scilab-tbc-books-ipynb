{
"cells": [
 {
		   "cell_type": "markdown",
	   "metadata": {},
	   "source": [
       "# Chapter 2: Kinetic Models for Heterogeneous Reactions"
	   ]
	},
{
		   "cell_type": "markdown",
		   "metadata": {},
		   "source": [
			"## Example 2.1: Effectiveness_factor_for_solid_catalyzed_reaction.sce"
		   ]
		  },
  {
"cell_type": "code",
	   "execution_count": null,
	   "metadata": {
	    "collapsed": true
	   },
	   "outputs": [],
"source": [
"//Harriot P.,2003,Chemical Reactor Design (I-Edition) Marcel Dekker,Inc. USA,pp 436.\n",
"//Chapter-2 Ex2.1 Pg No.52\n",
"//Title: Effectiveness factor for solid catalyzed reaction\n",
"//======================================================================================================================\n",
"clear\n",
"clc\n",
"clf\n",
"//INPUT\n",
"// Case: I  constant hydrogen pressure: P_H2= 2110 torr  \n",
"P_B=[70 185 286];// Benzene Pressure (torr)\n",
"r_1=1E-3 *[4.27 5.4 6.12];//(mol/hr g) observed rates\n",
"P_H2_const=2110;//Constant Hydrogen Pressure (torr)\n",
"\n",
"\n",
"// Case: II  Constant benzene pressure P_B_const=70 torr\n",
"P_H2=[1050 2105 2988];// Hydrogen Pressure (torr)\n",
"r_2=1E-3 * [3.81 4.27 4.5];//(mol/hr g) observed rates\n",
"P_B_const=70;//Constant Benzene Pressure (torr)\n",
"\n",
"//CALCULATION\n",
"// Case: I  constant hydrogen pressure: P_H2= 2110 torr \n",
"\n",
"n=length(P_B)\n",
"for i=1:n\n",
"    Y_1(i)=(P_B(i)*P_H2_const/r_1(i))^(1/3);\n",
"    X_1(i)=P_B(i);\n",
"end\n",
"coefs_I=regress(X_1',Y_1');\n",
"intercept_1=coefs_I(1)\n",
"slope_1=coefs_I(2)\n",
"\n",
"// Case: II  Constant benzene pressure P_B_const=70 torr\n",
"m=length(P_H2)\n",
"for i=1:n\n",
"    Y_2(i)=(P_B_const*P_H2(i)/r_2(i))^(1/3);\n",
"    X_2(i)=(P_H2(i))^0.5;\n",
"end\n",
"coefs_II=regress(X_2',Y_2');\n",
"intercept_2=coefs_II(1);\n",
"slope_2=coefs_II(2);\n",
"coef_1=(intercept_1)^0.5;\n",
"coef_2=(slope_1*slope_2)^(1/2)*(slope_1/slope_2)*intercept_1;\n",
"\n",
"function y=funct1(K_H2)\n",
"    y=coef_2*K_H2^0.5-coef_1*K_H2^(4/3)-1\n",
"endfunction\n",
"\n",
"[K_H2_res]=fsolve(0,funct1);\n",
"\n",
"K_B=K_H2_res^(4/3)*(slope_1/slope_2);\n",
"\n",
"k=(0.635)^(-1/3)*K_B^2/K_H2_res;\n",
"scf(0)\n",
"plot(X_1,Y_1,'-*-')\n",
"xtitle('Benzene Hydrogenation(a)Variable benzene pressure')\n",
"xlabel('P_B (torr)');\n",
"ylabel('(P_H2 P_B/10^3 r)^(1/3)');\n",
"legend('T=67.6 °C');\n",
"\n",
"scf(1)\n",
"plot(X_2,Y_2,'-*-')\n",
"xtitle('Benzene Hydrogenation(b)Variable hydrogen pressure')\n",
"xlabel('P_H2 (torr)');\n",
"ylabel('(P_H2 P_B/10^3 r)^(1/3)');\n",
"legend('T=67.6 °C');\n",
"\n",
"//OUTPUT\n",
"mprintf('\n Solving for the three parameters gives');\n",
"mprintf('\n K_H2 = %f torr^-1',K_H2_res);\n",
"mprintf('\n K_B = %f torr^-1',K_B);\n",
"mprintf('\n k = %E ',k);\n",
"\n",
"//FILE OUTPUT\n",
"fid= mopen('.\Chapter2-Ex1-Output.txt','w');\n",
"mfprintf(fid,'\n Solving for the three parameters gives');\n",
"mfprintf(fid,'\n K_H2 = %f torr^-1',K_H2_res);\n",
"mfprintf(fid,'\n K_B = %f torr^-1',K_B);\n",
"mfprintf(fid,'\n k = %E ',k);\n",
"mclose(fid);\n",
"\n",
"//===============================================================================================================================================================\n",
"//Disclaimer: Page 53 There is a typo in the equation for Y obtained for Model case I: Constant hydrogen pressure and variable benzene pressure formulation\n",
"// From Fig 2.7(a), It is evident that for P_H2 = 2110 torr, three experimental points are considered for linear regression. However, from table 2.1, only two points corresponds to P_H2 = 2110 torr. In comparison with Fig. 2.7(a), the table value corresponding to P_H2 = 2105 is also read as P_H2 = 2110. \n",
"//Therefore the values of the constants are different from that obtained in the textbook. Also regression is used to obtain the values of slopes and intercept whereas the textbook considers graphical method for the computation of the codes"
   ]
   }
],
"metadata": {
		  "kernelspec": {
		   "display_name": "Scilab",
		   "language": "scilab",
		   "name": "scilab"
		  },
		  "language_info": {
		   "file_extension": ".sce",
		   "help_links": [
			{
			 "text": "MetaKernel Magics",
			 "url": "https://github.com/calysto/metakernel/blob/master/metakernel/magics/README.md"
			}
		   ],
		   "mimetype": "text/x-octave",
		   "name": "scilab",
		   "version": "0.7.1"
		  }
		 },
		 "nbformat": 4,
		 "nbformat_minor": 0
}
