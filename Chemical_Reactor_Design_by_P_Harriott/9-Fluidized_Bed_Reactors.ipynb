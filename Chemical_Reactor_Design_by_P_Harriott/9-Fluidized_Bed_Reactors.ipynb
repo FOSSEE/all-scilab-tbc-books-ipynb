{
"cells": [
 {
		   "cell_type": "markdown",
	   "metadata": {},
	   "source": [
       "# Chapter 9: Fluidized Bed Reactors"
	   ]
	},
{
		   "cell_type": "markdown",
		   "metadata": {},
		   "source": [
			"## Example 9.1: Model_II_Volumetric_Mass_Transfer_Coefficient_K.sce"
		   ]
		  },
  {
"cell_type": "code",
	   "execution_count": null,
	   "metadata": {
	    "collapsed": true
	   },
	   "outputs": [],
"source": [
"//Harriot P.,2003,Chemical Reactor Design (I-Edition) Marcel Dekker,Inc.,USA,pp 436.\n",
"//Chapter-9 Ex9.1 Pg No.376\n",
"//Title:Model II- Volumetric Mass Transfer Coefficient (K)\n",
"//============================================================================================================\n",
"\n",
"clear\n",
"clc\n",
"//INPUT\n",
"u0=[ 0.1 0.3 0.5 0.75 0.95 1.15];//Fluid Velocities (m/sec)\n",
"X=[0.923 0.872 0.846 0.775 0.728 0.664];//Conversion\n",
"h_by_h0=[1.26 1.44 1.66 2.0 2.3 2.7];//Height of bed under fluidized condition by height of packed bed\n",
"Epsilon_m=0.456;//Fraction of voids in packed bed\n",
"h0=0.75;//Height of packed bed (m)\n",
"k_r=4.45 ;//Reaction rate constant(sec-1)\n",
"W=5;//Weight of the bed (kg)\n",
"\n",
"\n",
"//CALCULATION\n",
"n=length(X);\n",
"for i=1:n\n",
"    K0_L_by_u0(i)=log(1/(1-X(i)));//Refer equation 9.21 Pg No.371\n",
"    L(i)=h_by_h0(i)*h0;\n",
"    one_minus_epsilon(i)=(1-Epsilon_m)/h_by_h0(i); \n",
"    k_rhob(i)=k_r*one_minus_epsilon(i); \n",
"    K0(i)=K0_L_by_u0(i)*u0(i)/L(i);\n",
"    K(i)=1/((K0(i).^(-1))-(1/k_rhob(i))); //Refer equation 9.19 Pg No.371\n",
"end\n",
"\n",
"\n",
"//OUTPUT\n",
"mprintf('\nThe values of K for given velocities')\n",
"mprintf('\n u (m/sec) \t K (sec-1) ');\n",
"mprintf('\n===================================================================');\n",
"for i=1:n\n",
"    mprintf('\n %.3g \t \t %0.3f',u0(i),K(i));            \n",
"end\n",
"\n",
"//FILE OUTPUT\n",
"fid= mopen('.\Chapter9-Ex1-Output.txt','w');\n",
"mfprintf(fid,'\nThe values of K for given velocities')\n",
"mfprintf(fid,'\n u (m/sec) \t K (sec-1) ');\n",
"mfprintf(fid,'\n===================================================================');\n",
"for i=1:n\n",
"    mfprintf(fid,'\n %.3g \t \t %0.3f',u0(i),K(i));            \n",
"end    \n",
"\n",
"//==============================================END OF PROGRAM=============================================    \n",
"    "
   ]
   }
,
{
		   "cell_type": "markdown",
		   "metadata": {},
		   "source": [
			"## Example 9.2: Model_II_Fraction_unconverted_naphthalene.sce"
		   ]
		  },
  {
"cell_type": "code",
	   "execution_count": null,
	   "metadata": {
	    "collapsed": true
	   },
	   "outputs": [],
"source": [
"//Harriot P.,2003,Chemical Reactor Design (I-Edition) Marcel Dekker,Inc.,USA,pp 436.\n",
"//Chapter-9 Ex9.2 Pg No.389\n",
"//Title: Model II-Fraction unconverted naphthalene\n",
"//===========================================================================================================\n",
"clear\n",
"clc\n",
"//INPUT\n",
"D=2.13 ;//Reactor Diameter(m)\n",
"L=7.9;//Reactor length (m)\n",
"dp_bar= 53*10^(-6);//Particle size (m)\n",
"u_mf=0.077;//Minimum fluidzation velocity(cm/s)\n",
"u_mb=0.5;//Minimum bubbling velocity(cm/s)\n",
"rho_bulk=770;//Bulk density (kg/m3)\n",
"rho_b=350;//Density (kg/m3)\n",
"Epsilon_m=0.44;//Porosity of bed\n",
"T_K=636;//Reaction Temperature (K)\n",
"P=266;//Reaction Pressure (kPa)\n",
"k_1=1.8;//Reaction rate constant (sec-1)\n",
"k_2=k_1;\n",
"u0=0.43;//Velocity (m/sec)\n",
"C0=2*10^(-2);//Initial concentration (%)\n",
"\n",
"//CALCULATION\n",
"k=k_1+k_2;\n",
"one_minus_epsilon=(1-Epsilon_m)*(rho_b/rho_bulk);\n",
"k_corrected=k*one_minus_epsilon;//based on bed volume\n",
"Nr=k_corrected*L/u0;\n",
"K=0.8;//From figure 9.12 at u0=0.43m/sec Pg No.376\n",
"Nm=K*L/u0;//Refer equation 9.21 Pg No.371\n",
"N=1/((1/Nm)+(1/Nr));//Refer equation 9.22 Pg No.371\n",
"X=(1-exp(-N));//Refer equation 9.23 Pg No.371\n",
"C_out=(1-X)*C0;\n",
"C_out_ppm=C_out*(10^6);\n",
"\n",
"//OUTPUT\n",
"mprintf('\nThe fraction of naphthalene unconverted is %0.0f ppm ',C_out_ppm);\n",
"\n",
"//FILE OUTPUT\n",
"fid= mopen('.\Chapter9-Ex2-Output.txt','w');\n",
"mfprintf(fid,'\nThe fraction of naphthalene unconverted is %0.0f ppm ',C_out_ppm);\n",
"mclose(fid);\n",
"\n",
"\n",
"//===========================================END OF PROGRAM=================================================\n",
"\n",
"\n",
""
   ]
   }
],
"metadata": {
		  "kernelspec": {
		   "display_name": "Scilab",
		   "language": "scilab",
		   "name": "scilab"
		  },
		  "language_info": {
		   "file_extension": ".sce",
		   "help_links": [
			{
			 "text": "MetaKernel Magics",
			 "url": "https://github.com/calysto/metakernel/blob/master/metakernel/magics/README.md"
			}
		   ],
		   "mimetype": "text/x-octave",
		   "name": "scilab",
		   "version": "0.7.1"
		  }
		 },
		 "nbformat": 4,
		 "nbformat_minor": 0
}
