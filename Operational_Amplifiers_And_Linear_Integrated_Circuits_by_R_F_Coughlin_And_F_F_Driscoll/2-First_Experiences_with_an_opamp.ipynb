{
"cells": [
 {
		   "cell_type": "markdown",
	   "metadata": {},
	   "source": [
       "# Chapter 2: First Experiences with an opamp"
	   ]
	},
{
		   "cell_type": "markdown",
		   "metadata": {},
		   "source": [
			"## Example 2.1: ProbOnOutputvoltage.sce"
		   ]
		  },
  {
"cell_type": "code",
	   "execution_count": null,
	   "metadata": {
	    "collapsed": true
	   },
	   "outputs": [],
"source": [
"//Chapter 2\n",
"//Example 2-1\n",
"//ProbOnOutputvoltage \n",
"//Page 19,figure 2-3\n",
"clear;clc;\n",
"//Given\n",
"Vplus=15;Vminus=-15;Vsatp=13;Vsatm=-13;//All in Volts\n",
"Aol=200000;//gain\n",
"//Example 2-1(a)\n",
"Vam=-10*(10^-6);//voltage at minus input\n",
"Vap=-15*(10^-6);//voltage at plus input\n",
"Ed1=Vap-Vam;//Differential Input Voltage\n",
"Vout1=Ed1*Aol;//Output Voltage\n",
"format(10);\n",
"if(Vout1>15) then\n",
"  disp('Value of o/p voltage1 = 13.0000V') //positive saturation voltage\n",
"elseif(Vout1<-15) then\n",
"  disp('Value of o/p voltage1 = -13.0000V')//negative saturation voltage\n",
"else  \n",
"  printf('\n\n Value of o/p voltage1 =  %.4f V \n\n',Vout1)\n",
"end\n",
"\n",
"//Example 2-1(b)\n",
"Vbm=-10*(10^-6);//voltage at minus input\n",
"Vbp=+15*(10^-6);//voltage at plus input\n",
"Ed2=Vbp-Vbm;//Differential Input Voltage\n",
"Vout2=Ed2*Aol;//Output Voltage\n",
"format(10);\n",
"if(Vout2>15) then\n",
"  disp('Value of o/p voltage2 = 13.0000V')//positive saturation voltage\n",
"elseif(Vout2<-15) then\n",
"  disp('Value of o/p voltage2 = -13.0000V')//negative saturation voltage\n",
"else  \n",
"  printf('\n\n Value of o/p voltage2 =  %.4f V \n\n',Vout2)\n",
"end\n",
"\n",
"//Example 2-1(c)\n",
"Vcm=-10*(10^-6);//voltage at minus input\n",
"Vcp=-5*(10^-6);//voltage at plus input\n",
"Ed3=Vcp-Vcm;//Differential Input Voltage\n",
"Vout3=Ed3*Aol;//Output Voltage\n",
"format(10);\n",
"if(Vout3>15) then\n",
"  disp('Value of o/p voltage3 = 13.0000V')//positive saturation voltage\n",
"elseif(Vout3<-15) then\n",
"  disp('Value of o/p voltage3 = -13.0000V')//negative saturation voltage\n",
"else  \n",
"  printf('\n\n Value of o/p voltage3 =  %.4f V \n\n',Vout3)\n",
"end\n",
"\n",
"//Example 2-1(d)\n",
"Vdm=+1.000001;//voltage at minus input\n",
"Vdp=+1.000000;//voltage at plus input\n",
"Ed4=Vdp-Vdm;//Differential Input Voltage\n",
"Vout4=Ed4*Aol;//Output Voltage\n",
"format(10);\n",
"if(Vout4>15) then\n",
"  disp('Value of o/p voltage4 = 13.0000V')//positive saturation voltage\n",
"elseif(Vout4<-15) then\n",
"  disp('Value of o/p voltage4 = -13.0000V')//negative saturation voltage\n",
"else  \n",
"  printf('\n\n Value of o/p voltage4 =  %.4f V \n\n',Vout4)\n",
"end\n",
"\n",
"//Example 2-1(e)\n",
"Vem=+5*(10^-3);//voltage at minus input\n",
"Vep=0;//voltage at plus input\n",
"Ed5=Vep-Vem;//Differential Input Voltage\n",
"Vout5=Ed5*Aol;//Output Voltage\n",
"format(10);\n",
"if(Vout5>15) then\n",
"  disp('Value of o/p voltage5 = 13.0000V')//positive saturation voltage\n",
"elseif(Vout5<-15) then\n",
"  disp('Value of o/p voltage5 = -13.0000V')//negative saturation voltage\n",
"else  \n",
"  printf('\n\n Value of o/p voltage5 =  %.4f V \n\n',Vout5)\n",
"end\n",
"\n",
"//Example 2-1(f)\n",
"Vfm=0;//voltage at minus input\n",
"Vfp=+5*(10^-3);//voltage at plus input\n",
"Ed6=Vfp-Vfm;//Differential Input Voltage\n",
"Vout6=Ed6*Aol;//Output Voltage\n",
"format(10);\n",
"if(Vout6>15) then\n",
"  disp('Value of o/p voltage6 = 13.0000V')//positive saturation voltage\n",
"elseif(Vout6<-15) then\n",
"  disp('Value of o/p voltage6 = -13.0000V')//negative saturation voltage\n",
"else  \n",
"  printf('\n\n Value of o/p voltage6 =  %.4f V \n\n',Vout6)\n",
"end"
   ]
   }
,
{
		   "cell_type": "markdown",
		   "metadata": {},
		   "source": [
			"## Example 2.2: ProbOnPWM.sce"
		   ]
		  },
  {
"cell_type": "code",
	   "execution_count": null,
	   "metadata": {
	    "collapsed": true
	   },
	   "outputs": [],
"source": [
"//Chapter 2\n",
"//Example 2-2\n",
"//ProbOnPWM \n",
"//Page 34\n",
"clear;clc;\n",
"//Given\n",
"f=50;//in Hz\n",
"Vtemp=4; //input signal in volts\n",
"Ecm=10; //maximum peak voltage of sawtooth carrier wave in volts \n",
"//Example 2-2(a)\n",
"T=1/f;\n",
"Th=(Vtemp*T)/Ecm;//High time in seconds\n",
"printf('\n\n High Time = %.4f s \n\n',Th)\n",
"//Example 2-2(b)\n",
"d=(Th/T)*100;//duty cycle in percentage\n",
"printf('\n\n Duty cycle = %.4f percent \n\n',d)"
   ]
   }
,
{
		   "cell_type": "markdown",
		   "metadata": {},
		   "source": [
			"## Example 2.3: ProbOnHighTime.sce"
		   ]
		  },
  {
"cell_type": "code",
	   "execution_count": null,
	   "metadata": {
	    "collapsed": true
	   },
	   "outputs": [],
"source": [
"//Chapter 2\n",
"//Example 2-3\n",
"//ProbOnHighTime \n",
"//Page 34,35,figure 2-16(d)\n",
"clear;clc;\n",
"//Given\n",
"Vtemp=4;//in volts\n",
"Ecm=5;//maximum peak voltage of a sawtooth carrier wave\n",
"T=0.01;//in seconds\n",
"//calculate\n",
"Th=T*(1-(Vtemp/Ecm));//High Time\n",
"printf('\n\n High Time = %.4f s \n\n',Th)"
   ]
   }
],
"metadata": {
		  "kernelspec": {
		   "display_name": "Scilab",
		   "language": "scilab",
		   "name": "scilab"
		  },
		  "language_info": {
		   "file_extension": ".sce",
		   "help_links": [
			{
			 "text": "MetaKernel Magics",
			 "url": "https://github.com/calysto/metakernel/blob/master/metakernel/magics/README.md"
			}
		   ],
		   "mimetype": "text/x-octave",
		   "name": "scilab",
		   "version": "0.7.1"
		  }
		 },
		 "nbformat": 4,
		 "nbformat_minor": 0
}
