{
"cells": [
 {
		   "cell_type": "markdown",
	   "metadata": {},
	   "source": [
       "# Chapter 6: Signal Generators"
	   ]
	},
{
		   "cell_type": "markdown",
		   "metadata": {},
		   "source": [
			"## Example 6.10: ProbOnFrequency.sce"
		   ]
		  },
  {
"cell_type": "code",
	   "execution_count": null,
	   "metadata": {
	    "collapsed": true
	   },
	   "outputs": [],
"source": [
"//Chapter 6\n",
"//Example 6-10\n",
"//ProbOnFrequency \n",
"//Page 164\n",
"clear;clc;\n",
"//Given\n",
"Ri = 10*10^3 ;\n",
"Ci = 0.1*10^-6 ;\n",
"Ei = 2 ;\n",
"Vref = 2 ;\n",
"f = Ei / (Ri*Ci*Vref) ;\n",
"printf ( '\n\n Frequency is %.4f Hz ', f )"
   ]
   }
,
{
		   "cell_type": "markdown",
		   "metadata": {},
		   "source": [
			"## Example 6.12: ProbOnAD639A.sce"
		   ]
		  },
  {
"cell_type": "code",
	   "execution_count": null,
	   "metadata": {
	    "collapsed": true
	   },
	   "outputs": [],
"source": [
"//Chapter 6\n",
"//Example 6-12\n",
"//ProbOnAD639A \n",
"//Page 170,171, Figure 6-11\n",
"clear;clc;\n",
"//Given\n",
"Ei = 1 ;\n",
"t1 = 45 ; t2 = 90 ; t3 = 225 ; t4 = 405;\n",
"Vang1 = (20*10^-3)*t1 ;//example 6-12(a) \n",
"Vang2 = (20*10^-3)*t2 ;//example 6-12(b) \n",
"Vang3 = (20*10^-3)*t3 ;//example 6-12(c) \n",
"Vang4 = (20*10^-3)*t4 ;//example 6-12(d)\n",
"Vo1 = Ei*sin(t1);//example 6-12(a)\n",
"Vo2 = Ei*sin(t2);//example 6-12(b)\n",
"Vo3 = Ei*sin(t3);//example 6-12(c)\n",
"Vo4 = Ei*sin(t4);//example 6-12(d)\n",
"printf ( '\n\n Input Voltages are %.4f,%.4f,%.4f,%.4f V', Vang1,Vang2,Vang3,Vang4 ) \n",
"printf ( '\n\n Output Voltages are %.4f,%.4f,%.4f,%.4f V ', Vo1,Vo2,Vo3,Vo4 )  \n",
"printf ( '\n\n Angles are in radians ' )"
   ]
   }
,
{
		   "cell_type": "markdown",
		   "metadata": {},
		   "source": [
			"## Example 6.13: ProbOnFrequency.sce"
		   ]
		  },
  {
"cell_type": "code",
	   "execution_count": null,
	   "metadata": {
	    "collapsed": true
	   },
	   "outputs": [],
"source": [
"//Chapter 6\n",
"//Example 6-13\n",
"//ProbOnFrequency \n",
"//Page 173,174, Figure 6-12(a)\n",
"clear;clc;\n",
"//Given\n",
"R1 = 10*10^3 ;\n",
"R2 = 100*10^3 ;\n",
"C = 0.025*10^-6;\n",
"f1 = 1 / (4*R1*C) ;\n",
"f2 = 1 / (4*R2*C) ;\n",
"printf ( '\n\n Frequency when Ri is 10KiloOhm is %.4f Hz ' , f1 )\n",
"printf ( '\n\n Frequency when Ri is 100KiloOhm is %.4f Hz ' , f2 )\n",
" "
   ]
   }
,
{
		   "cell_type": "markdown",
		   "metadata": {},
		   "source": [
			"## Example 6.1: ProbOnThresholdVoltage.sce"
		   ]
		  },
  {
"cell_type": "code",
	   "execution_count": null,
	   "metadata": {
	    "collapsed": true
	   },
	   "outputs": [],
"source": [
"//Chapter 6\n",
"//Example 6-1\n",
"//ProbOnThresholdVoltage \n",
"//Page 149,151, Figure 6-1 \n",
"clear;clc;\n",
"//Given\n",
"R1 = 100*10^3 ;\n",
"R2 = 86*10^3 ;\n",
"Vsatp = 15 ; Vsatm = -15 ;//Saturation voltages\n",
"Vut = (R2 * Vsatp)/(R1 + R2);\n",
"Vlt = (R2 * Vsatm)/(R1 + R2);\n",
"printf ( '\n\n Upper Threshold Voltage = %.4f V ', Vut )\n",
"printf ( '\n\n Lower Threshold Voltage = %.4f V ', Vlt )"
   ]
   }
,
{
		   "cell_type": "markdown",
		   "metadata": {},
		   "source": [
			"## Example 6.2: ProbOnMultivibrator.sce"
		   ]
		  },
  {
"cell_type": "code",
	   "execution_count": null,
	   "metadata": {
	    "collapsed": true
	   },
	   "outputs": [],
"source": [
"//Chapter 6\n",
"//Example 6-2\n",
"//ProbOnMultivibrator \n",
"//Page 151\n",
"clear;clc;\n",
"//Given\n",
"Rf = 100*10^3;//Feedback Resistance\n",
"C = 0.1*10^-6 ;\n",
"T = 2 * Rf * C;\n",
"printf ('\n\n Period = %.4f sec ', T )"
   ]
   }
,
{
		   "cell_type": "markdown",
		   "metadata": {},
		   "source": [
			"## Example 6.3: ProbOnFrequency.sce"
		   ]
		  },
  {
"cell_type": "code",
	   "execution_count": null,
	   "metadata": {
	    "collapsed": true
	   },
	   "outputs": [],
"source": [
"//Chapter 6\n",
"//Example 6-3\n",
"//ProbOnFrequency \n",
"//Page 151\n",
"clear;clc;\n",
"//Given\n",
"T = 20*10^-3; //Period \n",
"f = 1 / T;\n",
"printf ('\n\n Frequency = %.4f Hz ', f )"
   ]
   }
,
{
		   "cell_type": "markdown",
		   "metadata": {},
		   "source": [
			"## Example 6.5: ProbOnDurationOfOutputPulse.sce"
		   ]
		  },
  {
"cell_type": "code",
	   "execution_count": null,
	   "metadata": {
	    "collapsed": true
	   },
	   "outputs": [],
"source": [
"//Chapter 6\n",
"//Example 6-5\n",
"//ProbOnDurationOfOutputPulse \n",
"//Page 155\n",
"clear;clc;\n",
"//Given\n",
"Rf = 100*10^3 ;//Feedback Resistance\n",
"C = 0.1*10^-6 ;\n",
"t = (Rf * C)/ 5 ;\n",
"printf ( '\n\n Duration of output pulse of one-shot = %.4f sec ', t )"
   ]
   }
,
{
		   "cell_type": "markdown",
		   "metadata": {},
		   "source": [
			"## Example 6.6: ProbonTriangularGenerator.sce"
		   ]
		  },
  {
"cell_type": "code",
	   "execution_count": null,
	   "metadata": {
	    "collapsed": true
	   },
	   "outputs": [],
"source": [
"//Chapter 6\n",
"//Example 6-6\n",
"//ProbonTriangularGenerator \n",
"//Page 157,158, Figure 6-6\n",
"clear;clc;\n",
"//Given\n",
"Vsatm = -13.8 ; \n",
"Vut = 5 ; //Upper Threshold Voltage\n",
"R = 10*10^3 ;\n",
"f = 1000;//Frequency\n",
"C = 0.05*10^-6 ;\n",
"p = -Vsatm / Vut ;\n",
"p1 = p * R ;\n",
"Ri = p / (4*f*C); \n",
"printf ( '\n\n Value of p = %.4f ', p )\n",
"printf ( '\n\n Value of p1 = %.4f ', p1 )\n",
"printf ( '\n\n Value of Ri = %.4f ', Ri )"
   ]
   }
,
{
		   "cell_type": "markdown",
		   "metadata": {},
		   "source": [
			"## Example 6.7: ProbOnUnipolarTriangularWaveGenerator.sce"
		   ]
		  },
  {
"cell_type": "code",
	   "execution_count": null,
	   "metadata": {
	    "collapsed": true
	   },
	   "outputs": [],
"source": [
"//Chapter 6\n",
"//Example 6-7\n",
"//ProbOnUnipolarTriangularWaveGenerator \n",
"//Page 159\n",
"clear;clc;\n",
"//Given\n",
"p = 2.8 ;\n",
"Vsatm = -13.8 ;\n",
"Ri = 28*10^3 ;\n",
"C = 0.05*10^-6;\n",
"Vut = - ((Vsatm+0.6)/p);\n",
"f = p / (2*Ri*C);\n",
"printf ( '\n\n Peak Voltage = %.4f V ', Vut )\n",
"printf ( '\n\n frequency = %.4f Hz ', f )"
   ]
   }
,
{
		   "cell_type": "markdown",
		   "metadata": {},
		   "source": [
			"## Example 6.8: DesignOnSawtoothWaveGenerator.sce"
		   ]
		  },
  {
"cell_type": "code",
	   "execution_count": null,
	   "metadata": {
	    "collapsed": true
	   },
	   "outputs": [],
"source": [
"//Chapter 6\n",
"//Example 6-8\n",
"//DesignOnSawtoothWaveGenerator \n",
"//Page 163\n",
"clear;clc;\n",
"//Design a voltage divider to give voltage reference 10 V\n",
"//Here Ri = 10 KiloOhm and C = 0.1microfarad\n",
"//The Circuit will be as shown below\n",
"xcos('Figure6_8.xcos');\n",
"//Checking Frequency value\n",
"Ri = 10*10^3 ;\n",
"Ci = 0.1*10^-6 ;\n",
"Ei = 1 ;\n",
"Vref = 10 ;\n",
"f = Ei / (Ri*Ci*Vref) ;\n",
"printf ( '\n\n Frequency is %.4f Hz ', f )"
   ]
   }
,
{
		   "cell_type": "markdown",
		   "metadata": {},
		   "source": [
			"## Example 6.9: ProbOnFrequency.sce"
		   ]
		  },
  {
"cell_type": "code",
	   "execution_count": null,
	   "metadata": {
	    "collapsed": true
	   },
	   "outputs": [],
"source": [
"//Chapter 6\n",
"//Example 6-9\n",
"//ProbOnFrequency \n",
"//Page 164\n",
"clear;clc;\n",
"//Given\n",
"Ri = 10*10^3 ;\n",
"Ci = 0.1*10^-6 ;\n",
"Ei = 2 ;\n",
"Vref = 10 ;\n",
"f = Ei / (Ri*Ci*Vref) ;\n",
"printf ( '\n\n Frequency is %.4f Hz ', f )"
   ]
   }
],
"metadata": {
		  "kernelspec": {
		   "display_name": "Scilab",
		   "language": "scilab",
		   "name": "scilab"
		  },
		  "language_info": {
		   "file_extension": ".sce",
		   "help_links": [
			{
			 "text": "MetaKernel Magics",
			 "url": "https://github.com/calysto/metakernel/blob/master/metakernel/magics/README.md"
			}
		   ],
		   "mimetype": "text/x-octave",
		   "name": "scilab",
		   "version": "0.7.1"
		  }
		 },
		 "nbformat": 4,
		 "nbformat_minor": 0
}
