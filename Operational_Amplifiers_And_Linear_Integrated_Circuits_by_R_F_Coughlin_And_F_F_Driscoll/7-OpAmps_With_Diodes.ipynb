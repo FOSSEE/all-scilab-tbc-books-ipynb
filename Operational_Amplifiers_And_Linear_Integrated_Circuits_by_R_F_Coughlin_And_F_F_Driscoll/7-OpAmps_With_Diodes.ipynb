{
"cells": [
 {
		   "cell_type": "markdown",
	   "metadata": {},
	   "source": [
       "# Chapter 7: OpAmps With Diodes"
	   ]
	},
{
		   "cell_type": "markdown",
		   "metadata": {},
		   "source": [
			"## Example 7.1: ProbOnDeadZoneCircuit.sce"
		   ]
		  },
  {
"cell_type": "code",
	   "execution_count": null,
	   "metadata": {
	    "collapsed": true
	   },
	   "outputs": [],
"source": [
"//Chapter 7\n",
"//Example 7-1\n",
"//ProbOnDeadZoneCircuit \n",
"//Page 201,202, Figure 7-15\n",
"clear;clc;\n",
"V = 15 ;\n",
"mR = 30*10^3 ;\n",
"R = 10*10^3 ; \n",
"Ei = -10 ; \n",
"Vref = V / 3 ;\n",
"Voa = -Ei-Vref ; \n",
"Vob = Ei / 2 ;\n",
"printf ( '\n\n Values of Voa and Vob are %.4f V , %.4f V' , Voa, Vob)"
   ]
   }
],
"metadata": {
		  "kernelspec": {
		   "display_name": "Scilab",
		   "language": "scilab",
		   "name": "scilab"
		  },
		  "language_info": {
		   "file_extension": ".sce",
		   "help_links": [
			{
			 "text": "MetaKernel Magics",
			 "url": "https://github.com/calysto/metakernel/blob/master/metakernel/magics/README.md"
			}
		   ],
		   "mimetype": "text/x-octave",
		   "name": "scilab",
		   "version": "0.7.1"
		  }
		 },
		 "nbformat": 4,
		 "nbformat_minor": 0
}
