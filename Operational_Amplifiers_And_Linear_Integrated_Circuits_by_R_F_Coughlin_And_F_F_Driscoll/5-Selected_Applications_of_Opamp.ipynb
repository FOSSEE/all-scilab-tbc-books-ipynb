{
"cells": [
 {
		   "cell_type": "markdown",
	   "metadata": {},
	   "source": [
       "# Chapter 5: Selected Applications of Opamp"
	   ]
	},
{
		   "cell_type": "markdown",
		   "metadata": {},
		   "source": [
			"## Example 5.10: ProbOnPhotoDetector.sce"
		   ]
		  },
  {
"cell_type": "code",
	   "execution_count": null,
	   "metadata": {
	    "collapsed": true
	   },
	   "outputs": [],
"source": [
"//Chapter 5\n",
"//Example 5-10\n",
"//ProbOnPhotoDetector \n",
"//Page 134,135, Figure 5-9\n",
"clear;clc;\n",
"//Given\n",
"Rf = 100*10^3 ;//Feedback Resistance\n",
"//example 5-10(a)\n",
"Il1 = 1*10^-6 ; //Load current 1\n",
"Vo1 = Rf * Il1 ; //Output voltage in photo detector\n",
"printf ( '\n\n Output Voltage in photo detector for Il1 = %.4f V ',Vo1 )\n",
"//example 5-10(b)\n",
"Il2 = 50*10^-6 ; // Load  current 2\n",
"Vo2 = Rf * Il2 ; //Output Voltage in photo detector\n",
"printf ( '\n\n Output Voltage in photo detector for Il2 = %.4f V ',Vo2 ) "
   ]
   }
,
{
		   "cell_type": "markdown",
		   "metadata": {},
		   "source": [
			"## Example 5.11: ProbOnOpticalCoupler.sce"
		   ]
		  },
  {
"cell_type": "code",
	   "execution_count": null,
	   "metadata": {
	    "collapsed": true
	   },
	   "outputs": [],
"source": [
"//Chapter 5\n",
"//Example 5-11\n",
"//ProbOnOpticalCoupler \n",
"//Page 136, Figure 5-10\n",
"clear;clc;\n",
"//Given\n",
"R = 1*10^3;\n",
"R1 = 99*10^3 ; \n",
"m = R1 / R ; //multiplier\n",
"Isc = 10*10^-6; //Current on short-circuit condition\n",
"Il = (1 + m)*Isc ;\n",
"printf ( '\n\n Load current = %.4f A ', Il)"
   ]
   }
,
{
		   "cell_type": "markdown",
		   "metadata": {},
		   "source": [
			"## Example 5.12: ProbonCurrentDivider.sce"
		   ]
		  },
  {
"cell_type": "code",
	   "execution_count": null,
	   "metadata": {
	    "collapsed": true
	   },
	   "outputs": [],
"source": [
"//Chapter 5\n",
"//Example 5-12\n",
"//ProbonCurrentDivider \n",
"//Page 138, Figure 5-12\n",
"clear;clc;\n",
"//Given\n",
"Im = 100*10^-6;//Meter current \n",
"Isc = 0.5;// Current in short-circuit condition\n",
"Rf = 20 ; // Feedback resistance\n",
"Rm = 0.8*10^3 ; //Meter resistance\n",
"d = Isc / Im ;//Current divider\n",
"R1 = d * Rf ;\n",
"Rscale = R1 - Rm ;\n",
"printf ( '\n\n Resistance dRf = %.4f ohm ', R1 )\n",
"printf ( '\n\n Rscale = %.4f ohm ', Rscale )"
   ]
   }
,
{
		   "cell_type": "markdown",
		   "metadata": {},
		   "source": [
			"## Example 5.13: ProbOnPhaseShifter.sce"
		   ]
		  },
  {
"cell_type": "code",
	   "execution_count": null,
	   "metadata": {
	    "collapsed": true
	   },
	   "outputs": [],
"source": [
"//Chapter 5\n",
"//Example 5-13\n",
"//ProbOnPhaseShifter \n",
"//Page 140, Figure 5-13(b)\n",
"clear;clc;\n",
"//Given\n",
"f = 10^3 ; //Frequency of Ei in Hz\n",
"Ci = 0.01*10^-6 ; \n",
"m = tan(%pi/4);\n",
"Ri = m / (2*%pi*f*Ci);\n",
"printf ('\n\n Value of Ri = %.4f ohm ', Ri )"
   ]
   }
,
{
		   "cell_type": "markdown",
		   "metadata": {},
		   "source": [
			"## Example 5.14: ProbOnPhaseAngle.sce"
		   ]
		  },
  {
"cell_type": "code",
	   "execution_count": null,
	   "metadata": {
	    "collapsed": true
	   },
	   "outputs": [],
"source": [
"//Chapter 5\n",
"//Example 5-14\n",
"//ProbOnPhaseAngle \n",
"//Page 140, Figure 5-13(b)\n",
"clear;clc;\n",
"//Given\n",
"f = 10^3 ;\n",
"Ri = 100*10^3 ; \n",
"Ci = 0.01*10^-6;\n",
"phaseangle = 2*atan(2*%pi*f*Ri*Ci);\n",
"printf ('\n\n Phase angle = %.4f radians ', phaseangle)"
   ]
   }
,
{
		   "cell_type": "markdown",
		   "metadata": {},
		   "source": [
			"## Example 5.1: ProbOnMeterCurrent.sce"
		   ]
		  },
  {
"cell_type": "code",
	   "execution_count": null,
	   "metadata": {
	    "collapsed": true
	   },
	   "outputs": [],
"source": [
"//Chapter 5\n",
"//Example 5-1\n",
"//ProbOnMeterCurrent \n",
"//Page 121,122, Figure 5-1\n",
"clear;clc;\n",
"//Given\n",
"Ei = 0.5;//Input voltage\n",
"Ri = 1*10^3;//Input resistance in ohm\n",
"Im = Ei / Ri ;//Meter Current\n",
"printf (' \n\n Meter Current = %.4f ', Im ) "
   ]
   }
,
{
		   "cell_type": "markdown",
		   "metadata": {},
		   "source": [
			"## Example 5.2: ProbOnInputResistance.sce"
		   ]
		  },
  {
"cell_type": "code",
	   "execution_count": null,
	   "metadata": {
	    "collapsed": true
	   },
	   "outputs": [],
"source": [
"//Chapter 5\n",
"//Example 5-2\n",
"//ProbOnInputResistance \n",
"//Page 121,122, Figure  5-1\n",
"clear;clc;\n",
"//Given\n",
"Efs = 5 ;//Full scale Voltage\n",
"Ifs = 50*10^-6;//Full scale Meter Current\n",
"Ri = Efs / Ifs ;// Input Resistance\n",
"printf ( '\n\n Input Resistance = %.4f ', Ri )"
   ]
   }
,
{
		   "cell_type": "markdown",
		   "metadata": {},
		   "source": [
			"## Example 5.3: DesignASimpleSwitchArrangement.sce"
		   ]
		  },
  {
"cell_type": "code",
	   "execution_count": null,
	   "metadata": {
	    "collapsed": true
	   },
	   "outputs": [],
"source": [
"//Chapter 5\n",
"//Example 5-3\n",
"//DesignASimpleSwitchArrangement \n",
"//Page 124\n",
"clear;clc;\n",
"//Given\n",
"Edc = 5 ; Erms = 5 ; Epeak = 5 ; Eptop = 5 ;// Voltages of meters \n",
"Ifs = 50*10^-6 ; // Full scale Meter Current\n",
"Ri1 = Edc / Ifs ; // DC Voltmeter\n",
"Ri2 = 0.90 * (Erms / Ifs );// Rms ac voltmeter ( Sine wave only )\n",
"Ri3 = 0.636 * (Epeak / Ifs );//Peak Reading Voltmeter ( Sine wave only )\n",
"Ri4 = 0.318 * (Eptop / Ifs );//Peak-to-Peak ac Voltmeter(sine wave only)\n",
"printf ( '\n\n Ri1 = %.4f ohm', Ri1 )\n",
"printf ( '\n\n Ri2 = %.4f ohm', Ri2 )\n",
"printf ( '\n\n Ri3 = %.4f ohm', Ri3 )\n",
"printf ( '\n\n Ri4 = %.4f ohm', Ri4 ) \n",
"xcos ('Figure5_3.xcos')"
   ]
   }
,
{
		   "cell_type": "markdown",
		   "metadata": {},
		   "source": [
			"## Example 5.4: ProbOnZenerCurrentAndVoltage.sce"
		   ]
		  },
  {
"cell_type": "code",
	   "execution_count": null,
	   "metadata": {
	    "collapsed": true
	   },
	   "outputs": [],
"source": [
"//Chapter 5\n",
"//Example 5-4\n",
"//ProbOnZenerCurrentAndVoltage \n",
"//Page 125,126, Figure 5-3(a)\n",
"clear;clc;\n",
"//Given\n",
"Vo = 10.3 ; //Voltage across the load resistor\n",
"Ei = 5 ; //Input voltage\n",
"Ri = 1*10^3 ; //Input Resistance\n",
"//Example 5-4(a)\n",
"I = Ei / Ri ; //Zener Current\n",
"printf ( '\n\n Zener Current = %.4f A', I )\n",
"//Example 5-4(b)\n",
"Vt = Vo - Ei ; //Zener Voltage\n",
"printf ( '\n\n Zener Voltage = %.4f V', Vt )"
   ]
   }
,
{
		   "cell_type": "markdown",
		   "metadata": {},
		   "source": [
			"## Example 5.5: ProbOnOpampParameters.sce"
		   ]
		  },
  {
"cell_type": "code",
	   "execution_count": null,
	   "metadata": {
	    "collapsed": true
	   },
	   "outputs": [],
"source": [
"//Chapter 5\n",
"//Example 5-5\n",
"//ProbOnOpampParameters \n",
"//Page 126, Figure 5-3(b)\n",
"clear;clc;\n",
"//Given\n",
"Ei = 1 ; //Reference voltage\n",
"Ri = 1*10^3 ; //Input Resistance\n",
"Vo = 0.6 ; //Outpur Voltage\n",
"//example 5-5(a)\n",
"I = Ei / Ri ; //Diode Current\n",
"printf ( '\n\n Diode Current = %.4f A ', I )\n",
"//example 5-5(b)\n",
"Vdiode = Vo ;\n",
"printf ( '\n\n Voltage drop across the diode = %.4f V ', Vdiode )"
   ]
   }
,
{
		   "cell_type": "markdown",
		   "metadata": {},
		   "source": [
			"## Example 5.6: ProbOnOpampParameters.sce"
		   ]
		  },
  {
"cell_type": "code",
	   "execution_count": null,
	   "metadata": {
	    "collapsed": true
	   },
	   "outputs": [],
"source": [
"//Chapter 5\n",
"//Example 5-6\n",
"//ProbOnOpampParameters \n",
"//Page 128,129, Figure 5-5\n",
"clear;clc;\n",
"//Given\n",
"R = 10*10^3 ; //Resistance\n",
"E2 = 0 ; //Source across negative terminal\n",
"Rl = 5*10^3 ; // Load Resistance\n",
"E1 = 5 ; // source across positive terminal\n",
"//example 5-6(a)\n",
"Il = (E1 - E2)/R ; //Load Current\n",
"printf ('\n\n Load current across Rl = %.4f A ' , Il )\n",
"//example 5-6(b)\n",
"Vl = Il * Rl ; // Voltage across Rl \n",
"printf ('\n\n Voltage across load resistance = %.4f V ' , Vl )\n",
"//example 5-6(c)\n",
"Vo = (2*Vl)-E2 ; //Output voltage\n",
"printf ( '\n\n Output Voltage = %.4f V ', Vo )"
   ]
   }
,
{
		   "cell_type": "markdown",
		   "metadata": {},
		   "source": [
			"## Example 5.7: ProbOnOpampParameters.sce"
		   ]
		  },
  {
"cell_type": "code",
	   "execution_count": null,
	   "metadata": {
	    "collapsed": true
	   },
	   "outputs": [],
"source": [
"//Chapter 5\n",
"//Example 5-7\n",
"//ProbOnOpampParameters \n",
"//Page 128,129, Figure 5-5\n",
"clear;clc;\n",
"//Given\n",
"R = 10*10^3 ; //Resistance\n",
"E2 = 5 ; //Source across negative terminal\n",
"Rl = 5*10^3 ; // Load Resistance\n",
"E1 = 0 ; // source across positive terminal\n",
"//example 5-6(a)\n",
"Il = (E1 - E2)/R ; //Load Current\n",
"printf ('\n\n Load current across Rl = %.4f A ' , Il )\n",
"//example 5-6(b)\n",
"Vl = Il * Rl ; // Voltage across Rl \n",
"printf ('\n\n Voltage across load resistance = %.4f V ' , Vl )\n",
"//example 5-6(c)\n",
"Vo = (2*Vl)-E2 ; //Output voltage\n",
"printf ( '\n\n Output Voltage = %.4f V ', Vo )\n",
"printf ( '\n\n Vl and Il are reversed in polarity and direction respectively from example 5-6. If the polarity of E2 is reversed , Il and Vl change sign but not magnitude ') "
   ]
   }
,
{
		   "cell_type": "markdown",
		   "metadata": {},
		   "source": [
			"## Example 5.8: ProbOnShortCircuitCurrent.sce"
		   ]
		  },
  {
"cell_type": "code",
	   "execution_count": null,
	   "metadata": {
	    "collapsed": true
	   },
	   "outputs": [],
"source": [
"//Chapter 5\n",
"//Example 5-8\n",
"//ProbOnShortCircuitCurrent \n",
"//Page 133,134, Figure 5-8(c)\n",
"clear;clc;\n",
"//Given\n",
"Vo = 5 ;//Output Voltage\n",
"Rf = 100*10^3 ; //Feedback Resistance\n",
"Isc = Vo / Rf ; //Short Circuit Current\n",
"printf ( '\n\n Short Circuit Current = %.7f A ' , Isc )"
   ]
   }
,
{
		   "cell_type": "markdown",
		   "metadata": {},
		   "source": [
			"## Example 5.9: ProbOnPhotoDetectors.sce"
		   ]
		  },
  {
"cell_type": "code",
	   "execution_count": null,
	   "metadata": {
	    "collapsed": true
	   },
	   "outputs": [],
"source": [
"//Chapter 5\n",
"//Example 5-9\n",
"//ProbOnPhotoDetectors \n",
"//Page 134,135, Figure 5-9\n",
"clear;clc;\n",
"//Given \n",
"Rf = 10*10^3 ;//Feedback Resistance\n",
"I = 10*10^-6 ; //Current through Photo Detector\n",
"//example 5-9(a)\n",
"Vo = Rf * I ;//Vo for Dark Condition\n",
"printf ( '\n\n Output Voltage for dark Condition = %.4f V ', Vo )\n",
"//example 5-9(b)\n",
"I1 = 1*10^-3 ; //Current in presence of sunlight\n",
"Vo1 = Rf * I1 ; //output voltage in light condition\n",
"printf ( '\n\n Output voltage in light condition = %.4f V ', Vo1 )"
   ]
   }
],
"metadata": {
		  "kernelspec": {
		   "display_name": "Scilab",
		   "language": "scilab",
		   "name": "scilab"
		  },
		  "language_info": {
		   "file_extension": ".sce",
		   "help_links": [
			{
			 "text": "MetaKernel Magics",
			 "url": "https://github.com/calysto/metakernel/blob/master/metakernel/magics/README.md"
			}
		   ],
		   "mimetype": "text/x-octave",
		   "name": "scilab",
		   "version": "0.7.1"
		  }
		 },
		 "nbformat": 4,
		 "nbformat_minor": 0
}
