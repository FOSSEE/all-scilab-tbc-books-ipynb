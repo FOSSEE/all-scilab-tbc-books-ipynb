{
"cells": [
 {
		   "cell_type": "markdown",
	   "metadata": {},
	   "source": [
       "# Chapter 3: Inverting and Noninverting Amplifiers"
	   ]
	},
{
		   "cell_type": "markdown",
		   "metadata": {},
		   "source": [
			"## Example 3.10: ProbOnDCVoltage.sce"
		   ]
		  },
  {
"cell_type": "code",
	   "execution_count": null,
	   "metadata": {
	    "collapsed": true
	   },
	   "outputs": [],
"source": [
"//Chapter 3\n",
"//Example 3-10\n",
"//ProbOnDCVoltage \n",
"//Page 53,54\n",
"clear;clc;\n",
"xcos('Figure3_10.xcos');\n",
"//Figure 3-5(b)\n",
"x=[0 1 2]\n",
"y=[-5,5,-5]\n",
"subplot(2,2,1)\n",
"a=gca()\n",
"a.thickness = 1;\n",
"a.x_location = 'middle';\n",
"plot2d(x,y,style=3,rect=[0,-5,2,5])\n",
"xtitle ( ' Eac Vs t ' , ' t(ms) ' , ' Eac(V) ' );\n",
"subplot(2,2,2)\n",
"x1=[0 0.5 1 1.5 2]\n",
"y1=[10 5 0 5 10]\n",
"a=gca()\n",
"a.thickness = 1;\n",
"a.x_location = 'middle';\n",
"plot2d(x1,y1,style=3,rect=[0,-15,2,15])\n",
"xtitle ('Edc Vs t' , ' t(ms)', ' Edc(V)');\n",
"y2=[5 0 -5 0 5]\n",
"y3=[-2.5 -7 -12.5 -7 -2.5]\n",
"plot2d(x1,y2,style=2)\n",
"plot2d(x1,y3,style=1)\n",
"legend ( ' Edc= - 5 V ' , ' Edc= 0 V ', ' Edc= 7 V' );\n",
"xtitle (' Waveshapes of Vo for Edc = 0V, -5V , 7V')\n",
"//Figure 3-5(c)\n",
"subplot(2,2,3)\n",
"x4=[-5 0 5]\n",
"y4=[10 5 0]\n",
"y5=[5 0 -5]\n",
"y6=[-2.5 -7.5 -12.5]\n",
"a=gca()\n",
"a.thickness = 1;\n",
"a.y_location = 'middle';\n",
"a.x_location = 'middle';\n",
"plot2d(x4,y4,style=3,rect=[-5,-15,5,15])\n",
"plot2d(x4,y5,style=2,rect=[-5,-15,5,15])\n",
"plot2d(x4,y6,style=1,rect=[-5,-15,5,15])\n",
"legend ( ' Edc= - 5 V ' , ' Edc= 0 V ', ' Edc= 7 V' );\n",
"xtitle (' Vo Vs Eac ' , ' Eac(V)', ' Vo ');\n",
"xtitle (' Output-Input Characteristic')\n",
"printf('\n\n If Edc = 0 V , Eac appears inverted at Vo ( Gain is -1 )')\n",
"printf('\n\n If Edc = - 5 V , Eac appears at the output as a 5 V dc-offset voltage upon which rides the inverted Eac ')\n",
"printf('\n\n If Edc = 7 V , then Eac shifts down by 7 V ') \n",
"\n",
""
   ]
   }
,
{
		   "cell_type": "markdown",
		   "metadata": {},
		   "source": [
			"## Example 3.11: ProbonThreeChannelInvertingAmplifier.sce"
		   ]
		  },
  {
"cell_type": "code",
	   "execution_count": null,
	   "metadata": {
	    "collapsed": true
	   },
	   "outputs": [],
"source": [
"//Chapter 3\n",
"//Example 3-11\n",
"//ProbonThreeChannelInvertingAmplifier \n",
"//Page 56\n",
"clear;clc;\n",
"//Channel 1\n",
"Ri= 10*10^3;//Choosing Input resistance\n",
"Acl = -10 ;\n",
"Rf1 = - (Acl * Ri);\n",
"printf('\n\n Value of Rf1 =  %.4f ohm \n\n',Rf1)\n",
"//Channel 2\n",
"Acl1 = -5;\n",
"Rf2 = - (Acl1 * Ri);\n",
"printf('\n\n Value of Rf2 =  %.4f ohm \n\n',Rf2)\n",
"//channel 3\n",
"Acl2 = -2;\n",
"Rf3 = - (Acl2 * Ri);\n",
"printf('\n\n Value of Rf3 =  %.4f ohm \n\n',Rf3)"
   ]
   }
,
{
		   "cell_type": "markdown",
		   "metadata": {},
		   "source": [
			"## Example 3.12: ProbOnOutputvoltage.sce"
		   ]
		  },
  {
"cell_type": "code",
	   "execution_count": null,
	   "metadata": {
	    "collapsed": true
	   },
	   "outputs": [],
"source": [
"//Chapter 3\n",
"//Example 3-12\n",
"//ProbOnOutputvoltage \n",
"//Page 57\n",
"clear;clc;\n",
"//Given\n",
"R1=100000;R2=100000;R3=100000;R=100000//in ohm\n",
"Rf=33*10^3;//in ohm\n",
"E1=5;E2=5;E3=-1;//in volts\n",
"n=3;//number of inputs\n",
"Vout=-(E1+E2+E3)/n;//output voltage\n",
"printf('\n\n Value of output voltage =  %.4f V \n\n',Vout)"
   ]
   }
,
{
		   "cell_type": "markdown",
		   "metadata": {},
		   "source": [
			"## Example 3.13: ProbOnOpampParameters.sce"
		   ]
		  },
  {
"cell_type": "code",
	   "execution_count": null,
	   "metadata": {
	    "collapsed": true
	   },
	   "outputs": [],
"source": [
"//Chapter 3\n",
"//Example 3-13\n",
"//ProbOnOpampParameters \n",
"//Page 58,Figure 3-8\n",
"clear;clc;\n",
"//Given\n",
"Ei=4;//in volts\n",
"Rl=10*10^3;//in ohm\n",
"I=0;//in ampere\n",
"Vout=Ei;//output voltage\n",
"Il=Vout/Rl;//load current\n",
"I0=I+Il;//output current \n",
"printf('\n\n Value of o/p voltage =  %.4f V \n\n',Vout)\n",
"printf('\n\n Value of load current =  %.4f A \n\n',Il)\n",
"printf('\n\n Value of output current =  %.4f A \n\n',I0)"
   ]
   }
,
{
		   "cell_type": "markdown",
		   "metadata": {},
		   "source": [
			"## Example 3.14: ProbOnVoltageGain.sce"
		   ]
		  },
  {
"cell_type": "code",
	   "execution_count": null,
	   "metadata": {
	    "collapsed": true
	   },
	   "outputs": [],
"source": [
"//Chapter 3\n",
"//Example 3-14\n",
"//ProbOnVoltageGain \n",
"//Page 62,63, Figure 3-11\n",
"clear;clc;\n",
"//Given\n",
"Rf = 40*10^3;\n",
"R1 = 10*10^3;\n",
"//Example 3-14(a)\n",
"Acl = (Rf + R1)/R1;\n",
"printf('\n\n Value of Voltage Gain =  %.4f \n\n',Acl)\n",
"//Example 3-14(b)\n",
"x=[0 2.5 5 7.5 10]\n",
"y=[-2 0 2 0 -2]\n",
"subplot(2,2,1)\n",
"a=gca()\n",
"a.thickness = 1;\n",
"a.x_location = 'middle';\n",
"plot2d(x,y,style=3,rect=[0,-2,10,2])\n",
"xtitle ( ' Ei Vs t ' , ' t(ms) ' , ' Ei(V) ' );\n",
"subplot(2,2,2)\n",
"x1=[0 2.5 5 7.5 10]\n",
"y1=[-10 0 10 0 -10]\n",
"x2=[0 2.5 5 7.5 10]\n",
"y2=[-2 0 2 0 -2]\n",
"a=gca()\n",
"a.thickness = 1;\n",
"a.x_location = 'middle';\n",
"plot2d(x1,y1,style=3,rect=[0,-15,10,15])\n",
"plot2d(x2,y2,style=1)\n",
"xtitle ( ' Vo Vs t  ' , ' t(ms) ' , ' Vo and Ei ' );\n",
"legend ( ' Vo Vs t ' , ' Ei Vs t ');\n",
"xtitle ( ' CRO waveshape of Vo and Ei Vs t ')\n",
"subplot(2,2,3)\n",
"//Example 3-14(c)\n",
"x=[-2 -1 0 1 2]\n",
"y=[-10 -5 0 5 10]\n",
"a=gca()\n",
"a.thickness = 1;\n",
"a.x_location = 'middle';\n",
"a.y_location = 'middle';\n",
"plot2d(x,y,style=3,rect=[-2,-15,2,15])\n",
"xtitle ( ' Vo Vs Ei  ' , ' Ei(V) ' , 'Vo(V) ' );\n",
"legend ( ' Slope = +5 ');\n",
"xtitle ( 'Input-output characteristic of a noninverting Amplifier')"
   ]
   }
,
{
		   "cell_type": "markdown",
		   "metadata": {},
		   "source": [
			"## Example 3.15: DesignAnAmplifier.sce"
		   ]
		  },
  {
"cell_type": "code",
	   "execution_count": null,
	   "metadata": {
	    "collapsed": true
	   },
	   "outputs": [],
"source": [
"//Chapter 3\n",
"//Example 3-15\n",
"//DesignAnAmplifier \n",
"//Page 64\n",
"clear;clc;\n",
"//Given \n",
"Acl = 10;// Gain is positive, so choose noninvering amplifier\n",
"R1 = 10*10^3;\n",
"Rf = (Acl*R1)-R1;\n",
"printf('\n\n Value of Rf =  %.4f ohm \n\n',Rf)\n",
"xcos('Figure3_15.xcos')//Design will be as shown in the figure"
   ]
   }
,
{
		   "cell_type": "markdown",
		   "metadata": {},
		   "source": [
			"## Example 3.16: ProbOnServoAmplifier.sce"
		   ]
		  },
  {
"cell_type": "code",
	   "execution_count": null,
	   "metadata": {
	    "collapsed": true
	   },
	   "outputs": [],
"source": [
"//Chapter 3\n",
"//Example 3-16\n",
"//ProbOnServoAmplifier \n",
"//Page 72\n",
"clear;clc;\n",
"//Given\n",
"Ei=2;//in volts\n",
"Vf=Ei;//feedback voltage\n",
"Vout=2*Vf;//output voltage\n",
"Vr=-Vout;//Reference voltage\n",
"Vcap=3*Ei;//capacitor voltage\n",
"printf('\n\n Value of feedback voltage =  %.4f V \n\n',Vf)\n",
"printf('\n\n Value of output voltage =  %.4f V \n\n',Vout)\n",
"printf('\n\n Value of reference voltage =  %.4f V \n\n',Vr)\n",
"printf('\n\n Value of capacitor voltage =  %.4f V \n\n',Vcap)"
   ]
   }
,
{
		   "cell_type": "markdown",
		   "metadata": {},
		   "source": [
			"## Example 3.17: ProbOnEquilibriumVoltage.sce"
		   ]
		  },
  {
"cell_type": "code",
	   "execution_count": null,
	   "metadata": {
	    "collapsed": true
	   },
	   "outputs": [],
"source": [
"//Chapter 3\n",
"//Example 3-17\n",
"//ProbOnEquilibriumVoltage \n",
"//Page 72\n",
"clear;clc;\n",
"//Given\n",
"Ei=4;//in volts\n",
"Vf=Ei;//feedback voltage\n",
"Vout=2*Vf;//output voltage\n",
"Vr=-Vout;//Reference voltage\n",
"Vcap=3*Ei;//capacitor voltage\n",
"printf('\n\n Value of feedback voltage =  %.4f V \n\n',Vf)\n",
"printf('\n\n Value of output voltage =  %.4f V \n\n',Vout)\n",
"printf('\n\n Value of reference voltage =  %.4f V \n\n',Vr)\n",
"printf('\n\n Value of capacitor voltage =  %.4f V \n\n',Vcap)"
   ]
   }
,
{
		   "cell_type": "markdown",
		   "metadata": {},
		   "source": [
			"## Example 3.18: ProbOnEquilibriumTime.sce"
		   ]
		  },
  {
"cell_type": "code",
	   "execution_count": null,
	   "metadata": {
	    "collapsed": true
	   },
	   "outputs": [],
"source": [
"//Chapter 3\n",
"//Example 3-18\n",
"//ProbOnEquilibriumTime \n",
"//Page 73,Figure 3-17\n",
"clear;clc;\n",
"//Given\n",
"Ri=10^5;//in ohm\n",
"C=10^-6;//in farad\n",
"T=3*Ri*C;//Time constant\n",
"ETime=5*T;//equilibrium time\n",
"printf('\n\n Value of Equilibrium Time =  %.4f s \n\n',ETime)"
   ]
   }
,
{
		   "cell_type": "markdown",
		   "metadata": {},
		   "source": [
			"## Example 3.1: ProbOnOpampDescriptions.sce"
		   ]
		  },
  {
"cell_type": "code",
	   "execution_count": null,
	   "metadata": {
	    "collapsed": true
	   },
	   "outputs": [],
"source": [
"//Chapter 3\n",
"//Example 3-1\n",
"//ProbOnOpampDescriptions \n",
"//Page 46,47 figure 3-1\n",
"clear;clc;\n",
"//Given\n",
"Rf=100*(10^3);//Feedback Resistance in ohms\n",
"Ri=10*(10^3);//Input Resistance in ohms\n",
"Ei=1;//Input volts\n",
"//Calculate \n",
"//Example 3-1(a)\n",
"I=Ei/Ri;//Equation for current through Rf\n",
"printf('\n\n Current through Rf =  %.4f A \n\n',I)\n",
"//Example 3-1(b)\n",
"Vout=-(Rf/Ri)*Ei;//Equation for Output Voltage\n",
"printf('\n\n Value of output voltage =  %.4f V \n\n',Vout)\n",
"//Example 3-1(c)\n",
"Acl=-(Rf/Ri);//Closed loop gain of the amplifier \n",
"printf('\n\n Value of closed loop gain =  %.4f \n\n',Acl)"
   ]
   }
,
{
		   "cell_type": "markdown",
		   "metadata": {},
		   "source": [
			"## Example 3.2: ProbOnCurrentinOpamp.sce"
		   ]
		  },
  {
"cell_type": "code",
	   "execution_count": null,
	   "metadata": {
	    "collapsed": true
	   },
	   "outputs": [],
"source": [
"//Chapter 3\n",
"//Example 3-2\n",
"//ProbOnCurrentinOpamp \n",
"//Page 47,figure 3-2\n",
"clear;clc;\n",
"//Given\n",
"Vout=10;//output voltage\n",
"I=0.1*(10^-3);//current through Rf in amperes\n",
"Rl=25*(10^3);//Load resistance in ohms\n",
"//Calculate\n",
"//Example 3-1(a)\n",
"Il=Vout/Rl;\n",
"printf('\n\n Value of load current =  %.4f A \n\n',Il)\n",
"//Example 3-1(b)\n",
"Iout=I+Il;\n",
"printf('\n\n Total current into the output pin of the opamp =  %.4f A \n\n',Iout)\n",
"printf('\n\n The input resistance seen by Ei is Ri. In order to keep input resistance of the circuit high. Ri should be equal to or greater than 10KiloOhm') "
   ]
   }
,
{
		   "cell_type": "markdown",
		   "metadata": {},
		   "source": [
			"## Example 3.3: ProbOnOpampParameters.sce"
		   ]
		  },
  {
"cell_type": "code",
	   "execution_count": null,
	   "metadata": {
	    "collapsed": true
	   },
	   "outputs": [],
"source": [
"//Chapter 3\n",
"//Example 3-3\n",
"//ProbOnOpampParameters \n",
"//Page 48,49,figure 3-2\n",
"clear;clc;\n",
"//Given\n",
"Rf=250*(10^3);//Feedback Resistance in Ohms\n",
"Ri=10*(10^3);//Input Resistance in Ohms\n",
"Ei=0.5;//Input voltage\n",
"//Calculate\n",
"//Example 3-3(a)\n",
"I=Ei/(Ri);\n",
"printf('\n\n Value of current through Rf =  %.6f A \n\n',I)\n",
"//Example 3-3(b)\n",
"VRf=I*Rf;\n",
"printf('\n\n Voltage through Rf =  %.4f V \n\n',VRf)\n",
"//Example 3-3(c)\n",
"Ei1=-0.5;\n",
"Vout=-(Rf/Ri)*Ei1;\n",
"printf('\n\n Output Voltage =  %.4f V \n\n',Vout)\n",
"printf('\n\n Thus the magnitude of the output voltage does equal the voltage across Rf and Acl=-25')"
   ]
   }
,
{
		   "cell_type": "markdown",
		   "metadata": {},
		   "source": [
			"## Example 3.4: ProbOnOpampResistance.sce"
		   ]
		  },
  {
"cell_type": "code",
	   "execution_count": null,
	   "metadata": {
	    "collapsed": true
	   },
	   "outputs": [],
"source": [
"//Chapter 3\n",
"//Example 3-4\n",
"//ProbOnOpampResistance \n",
"//Page 49\n",
"clear;clc;\n",
"//Given\n",
"Vout=12.5;//in volts\n",
"Il=2*10^-3;//in amperes\n",
"Rl=Vout/Il;//Load resistance in ohm\n",
"//example 3-4(a)\n",
"printf('\n\n Value of Load Resistance =  %.8f ohm \n\n',Rl)\n",
"//example 3-4(b)\n",
"I=0.05*10^-3;\n",
"Iout=I+Il;\n",
"printf('\n\n Value of output current =  %.8f amp \n\n',Iout)\n",
"//example 3-4(c)\n",
"printf('\n\n The circuit input resistance is Rl=10Kohm')"
   ]
   }
,
{
		   "cell_type": "markdown",
		   "metadata": {},
		   "source": [
			"## Example 3.5: ProbOnVoltageGain.sce"
		   ]
		  },
  {
"cell_type": "code",
	   "execution_count": null,
	   "metadata": {
	    "collapsed": true
	   },
	   "outputs": [],
"source": [
"//Chapter 3\n",
"//Example 3-5\n",
"//ProbOnVoltageGain \n",
"//Page 50,figure 3-3\n",
"clear;clc;\n",
"//Given\n",
"Rf=20*10^3;\n",
"Ri=10*10^3;\n",
"Acl=-(Rf/Ri);//Voltage Gain\n",
"printf('\n\n Value of Voltage Gain =  %.6f  \n\n',Acl)"
   ]
   }
,
{
		   "cell_type": "markdown",
		   "metadata": {},
		   "source": [
			"## Example 3.6: ProbonOutputVoltage.sce"
		   ]
		  },
  {
"cell_type": "code",
	   "execution_count": null,
	   "metadata": {
	    "collapsed": true
	   },
	   "outputs": [],
"source": [
"//Chapter 3\n",
"//Example 3-6\n",
"//ProbonOutputVoltage \n",
"//Page 51\n",
"clear;clc;\n",
"Ei=-5;//input voltage\n",
"Acl=-2;//Voltage Gain\n",
"Vout=Ei*Acl;//output voltage\n",
"printf('\n\n Value of Output Voltage =  %.4f V \n\n',Vout)"
   ]
   }
,
{
		   "cell_type": "markdown",
		   "metadata": {},
		   "source": [
			"## Example 3.7: ProbOnOutputvoltage.sce"
		   ]
		  },
  {
"cell_type": "code",
	   "execution_count": null,
	   "metadata": {
	    "collapsed": true
	   },
	   "outputs": [],
"source": [
"//Chapter 3\n",
"//Example 3-7\n",
"//ProbOnO/Pvoltage \n",
"//Page 51\n",
"clear;clc;\n",
"Ri=10*10^3;//input resistance in ohm\n",
"Gain= 25;\n",
"Rf=Gain*Ri;//feedback resistance in ohm\n",
"printf('\n\n Value of Rf =  %.4f ohm \n\n',Rf)\n",
"xcos('Figure3_7.xcos');"
   ]
   }
,
{
		   "cell_type": "markdown",
		   "metadata": {},
		   "source": [
			"## Example 3.8: ProbOnOutputvoltage.sce"
		   ]
		  },
  {
"cell_type": "code",
	   "execution_count": null,
	   "metadata": {
	    "collapsed": true
	   },
	   "outputs": [],
"source": [
"//Chapter 3\n",
"//Example 3-8\n",
"//ProbOnO/Pvoltage \n",
"//Page 52,Figure 3-4\n",
"clear;clc;\n",
"//Given\n",
"E1=2;E2=3;E3=1;//input voltage\n",
"R=10*10^3;//in ohm\n",
"Vout=-(E1+E2+E3);\n",
"printf('\n\n Value of o/p voltage =  %.4f V \n\n',Vout)"
   ]
   }
,
{
		   "cell_type": "markdown",
		   "metadata": {},
		   "source": [
			"## Example 3.9: ProbOnOutputvoltage.sce"
		   ]
		  },
  {
"cell_type": "code",
	   "execution_count": null,
	   "metadata": {
	    "collapsed": true
	   },
	   "outputs": [],
"source": [
"//Chapter 3\n",
"//Example 3-9\n",
"//ProbOnO/Pvoltage \n",
"//Page 53,Figure 3-4\n",
"clear;clc;\n",
"//Given\n",
"E1=2;E2=3;E3=-1;//input voltage\n",
"R=10*10^3;//in ohm\n",
"Vout=-(E1+E2+E3);\n",
"printf('\n\n Value of o/p voltage =  %.4f V \n\n',Vout)"
   ]
   }
],
"metadata": {
		  "kernelspec": {
		   "display_name": "Scilab",
		   "language": "scilab",
		   "name": "scilab"
		  },
		  "language_info": {
		   "file_extension": ".sce",
		   "help_links": [
			{
			 "text": "MetaKernel Magics",
			 "url": "https://github.com/calysto/metakernel/blob/master/metakernel/magics/README.md"
			}
		   ],
		   "mimetype": "text/x-octave",
		   "name": "scilab",
		   "version": "0.7.1"
		  }
		 },
		 "nbformat": 4,
		 "nbformat_minor": 0
}
