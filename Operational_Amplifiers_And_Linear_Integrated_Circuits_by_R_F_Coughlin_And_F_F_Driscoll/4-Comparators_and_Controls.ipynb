{
"cells": [
 {
		   "cell_type": "markdown",
	   "metadata": {},
	   "source": [
       "# Chapter 4: Comparators and Controls"
	   ]
	},
{
		   "cell_type": "markdown",
		   "metadata": {},
		   "source": [
			"## Example 4.1: ProbOnThresholdVoltage.sce"
		   ]
		  },
  {
"cell_type": "code",
	   "execution_count": null,
	   "metadata": {
	    "collapsed": true
	   },
	   "outputs": [],
"source": [
"//Chapter 4\n",
"//Example 4-1\n",
"//ProbOnThresholdVoltage \n",
"//Page 90\n",
"clear;clc;\n",
"//Given\n",
"Vsat = 14;//Saturation Voltage\n",
"R1 = 1000; R2 = 100 ; //Load resistances\n",
"Vut = (R2/(R1*R2))*Vsat;\n",
"printf('\n\n Value of Upper Threshold Voltage =  %.6f V \n\n',Vut)"
   ]
   }
,
{
		   "cell_type": "markdown",
		   "metadata": {},
		   "source": [
			"## Example 4.2: ProbOnLowerThresholdVoltage.sce"
		   ]
		  },
  {
"cell_type": "code",
	   "execution_count": null,
	   "metadata": {
	    "collapsed": true
	   },
	   "outputs": [],
"source": [
"//Chapter 4\n",
"//Example 4-2\n",
"//ProbOnLowerThresholdVoltage \n",
"//Page 91\n",
"clear;clc;\n",
"//Given\n",
"Vsat = -13;//Saturation Voltage\n",
"R1 = 1000; R2 = 100 ; //Load resistances\n",
"Vlt = (R2/(R1*R2))*Vsat;\n",
"printf('\n\n Value of Lower Threshold Voltage =  %.6f V \n\n',Vlt)"
   ]
   }
,
{
		   "cell_type": "markdown",
		   "metadata": {},
		   "source": [
			"## Example 4.3: ProbOnOutputvoltage.sce"
		   ]
		  },
  {
"cell_type": "code",
	   "execution_count": null,
	   "metadata": {
	    "collapsed": true
	   },
	   "outputs": [],
"source": [
"//Chapter 4\n",
"//Example 4-3\n",
"//ProbOnOutputVoltage \n",
"//Page 91,Figure 4-4\n",
"clear;clc;\n",
"printf ('\n\n The dashed lines drawn on Ei in thew figure locate Vut and Vlt.\n\n At time t=0, Ei is below Vlt, so Vo is at +Vsat. When Ei goes above Vut, at times (a) and (c), Vo switches quickly to -Vsat. \n\nWhen Ei again goes below Vlt, at times (b) and (d), Vo switches quickly to +Vsat. \n\nObserve how positive feedback has eliminated the false crossings ') "
   ]
   }
,
{
		   "cell_type": "markdown",
		   "metadata": {},
		   "source": [
			"## Example 4.4: DesignUsingVutAndVlt.sce"
		   ]
		  },
  {
"cell_type": "code",
	   "execution_count": null,
	   "metadata": {
	    "collapsed": true
	   },
	   "outputs": [],
"source": [
"//Chapter 4\n",
"//Example 4-4\n",
"//DesignUsingVutAndVlt \n",
"//Page 96\n",
"clear;clc;\n",
"//Given\n",
"Vut = 12 ; Vlt = 8 ; //Upper and Lower Threshold Voltages \n",
"Vsatp = 15 ; Vsatm = -15 ;// Saturation Voltages\n",
"R = 10*10^3 ;//Choosing R\n",
"//Design\n",
"Vh = Vut - Vlt ; // Hysteresis Voltage \n",
"Vctr = (Vut + Vlt)/2;//Center Voltage\n",
"n = (Vsatp - Vsatm)/Vh ; // Resistor Factor\n",
"Vref = Vctr / (1 + (1/n)); //Reference Voltage\n",
"Resistance = n * R;\n",
"printf ( '\n\n Hysteresis Voltage = %.4f V \n\n',Vh )\n",
"printf ( '\n\n Center Voltage = %.4f V \n\n', Vctr )\n",
"printf ( '\n\n Resistor Factor = %.4f \n\n' , n )\n",
"printf ( '\n\n Reference Voltage = %.4f \n\n', Vref)\n",
"printf ( '\n\n Feedback resistor = %.4f \n\n', Resistance)"
   ]
   }
,
{
		   "cell_type": "markdown",
		   "metadata": {},
		   "source": [
			"## Example 4.5: designInvertingVoltageDetector.sce"
		   ]
		  },
  {
"cell_type": "code",
	   "execution_count": null,
	   "metadata": {
	    "collapsed": true
	   },
	   "outputs": [],
"source": [
"//Chapter 4\n",
"//Example 4-5\n",
"//designInvertingVoltageDetector \n",
"//Page 97\n",
"clear;clc;\n",
"//Given\n",
"Vsatp = 15 ; Vsatm = -15 ;// Saturation Voltages\n",
"Vh = 4 ; //Hysteresis Voltage\n",
"Vctr = 10 ; //Center voltage\n",
"n = ((Vsatp - Vsatm)/Vh)-1 ;\n",
"R = 10*10^3 ;//Input Resistance\n",
"Vref = ((n + 1)*(Vctr))/n ; // Reference Voltage\n",
"Resistance = n * R // Feedback Resistance\n",
"printf (' \n\n Resistance Factor = %.4f ', n)\n",
"printf (' \n\n Reference Voltage = %.4f ', Vref)\n",
"printf (' \n\n Feedback Resistance = %.4f ', Resistance)\n",
"xcos('Figure4_5.xcos');"
   ]
   }
,
{
		   "cell_type": "markdown",
		   "metadata": {},
		   "source": [
			"## Example 4.6: DesignOnInvertingVoltageLevelDetector.sce"
		   ]
		  },
  {
"cell_type": "code",
	   "execution_count": null,
	   "metadata": {
	    "collapsed": true
	   },
	   "outputs": [],
"source": [
"//Chapter 4\n",
"//Example 4-6\n",
"//DesignOnInvertingVoltageLevelDetector \n",
"//Page 100\n",
"clear;clc;\n",
"//Given\n",
"Vut = 13.5 ; Vlt = 10.5 ; //Upper and Lower Threshold Voltages\n",
"Vref = -15 ; // Reference Voltage\n",
"Vsatp = 13 ; Vsatm = -13;//Saturation Voltages \n",
"R = 10*10^3 ; // Input Resistance\n",
"Vctr = (Vut + Vlt)/2;\n",
"Vh = Vut - Vlt ;\n",
"m = -(Vref / Vctr);\n",
"Resistance = m * R ;\n",
"n = (Vsatp-Vsatm)/Vh ;\n",
"Resistance1 = n * R ;\n",
"printf (' \n\n Hysteresis Voltage = %.4f ', Vh )\n",
"printf (' \n\n Center Voltage = %.4f ', Vctr )\n",
"printf (' \n\n Resistor mR = %.4f ', Resistance)\n",
"printf (' \n\n Resistor nR = %.4f ', Resistance1) "
   ]
   }
],
"metadata": {
		  "kernelspec": {
		   "display_name": "Scilab",
		   "language": "scilab",
		   "name": "scilab"
		  },
		  "language_info": {
		   "file_extension": ".sce",
		   "help_links": [
			{
			 "text": "MetaKernel Magics",
			 "url": "https://github.com/calysto/metakernel/blob/master/metakernel/magics/README.md"
			}
		   ],
		   "mimetype": "text/x-octave",
		   "name": "scilab",
		   "version": "0.7.1"
		  }
		 },
		 "nbformat": 4,
		 "nbformat_minor": 0
}
