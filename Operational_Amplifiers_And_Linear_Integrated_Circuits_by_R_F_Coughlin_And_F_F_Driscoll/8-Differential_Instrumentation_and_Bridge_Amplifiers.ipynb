{
"cells": [
 {
		   "cell_type": "markdown",
	   "metadata": {},
	   "source": [
       "# Chapter 8: Differential Instrumentation and Bridge Amplifiers"
	   ]
	},
{
		   "cell_type": "markdown",
		   "metadata": {},
		   "source": [
			"## Example 8.10: ProbOnWheatstoneBridge.sce"
		   ]
		  },
  {
"cell_type": "code",
	   "execution_count": null,
	   "metadata": {
	    "collapsed": true
	   },
	   "outputs": [],
"source": [
"//Chapter 8\n",
"//Example 8-10\n",
"//ProbOnWheatstoneBridge \n",
"//Page 232, Figure 8-12\n",
"clear;clc;\n",
"E = 1 ; \n",
"DR = 0.001 ; R = 120 ; //Resistance in Ohm\n",
"Vout = (E*DR)/(4*R) ;\n",
"printf ( '\n\n Output of the Bridge = %.9f V ', Vout )"
   ]
   }
,
{
		   "cell_type": "markdown",
		   "metadata": {},
		   "source": [
			"## Example 8.11: ProbOnAD620.sce"
		   ]
		  },
  {
"cell_type": "code",
	   "execution_count": null,
	   "metadata": {
	    "collapsed": true
	   },
	   "outputs": [],
"source": [
"//Chapter 8\n",
"//Example 8-11\n",
"//ProbOnAD620 \n",
"//Page 237,238, Figure 8-17\n",
"clear;clc;\n",
"//Given\n",
"Vout = 100*10^-3 ; E = 5 ; R = 120 ;\n",
"Gain = 1000 ;\n",
"E1 = 30 *10^6 ;\n",
"Gf = 2 ;//Gage factor\n",
"Vbridge = Vout / Gain ;\n",
"DL = 20*10^-6 ;\n",
"DR = (R * Vbridge)/E ;\n",
"Rratio = DR / R ;//Change in Resistance\n",
"Strain = DL / Gf ;//Change in Length \n",
"Stress = E1 * Strain ; \n",
"printf ( '\n\n Change in Resistance = %.4f ohm ', DR )\n",
"printf ( '\n\n Ratio of Resistance = %.9f ohm per ohm ', Rratio )\n",
"printf ( '\n\n Strain value = %.9f ', Strain )\n",
"printf ( '\n\n Stress value = %.9f psi ', Stress )"
   ]
   }
,
{
		   "cell_type": "markdown",
		   "metadata": {},
		   "source": [
			"## Example 8.1: ProbOnOutputVoltage.sce"
		   ]
		  },
  {
"cell_type": "code",
	   "execution_count": null,
	   "metadata": {
	    "collapsed": true
	   },
	   "outputs": [],
"source": [
"//Chapter 8\n",
"//Example 8-1\n",
"//ProbOnOutputVoltage \n",
"//Page 216, Figure 8-1\n",
"clear;clc;\n",
"//Given\n",
"m = 100 ; //Differential Gain\n",
"E1 = 10*10^-3; E2 = 10*10^-3;//input voltages\n",
"E3 = 0*10^-3; E4 = -20*10^-3;//input voltages\n",
"Vout1 = (m*E1)-(m*E2);//example 8-1(a)\n",
"Vout2 = (m*E1)-(m*E3);//example 8-1(b)\n",
"Vout3 = (m*E1)-(m*E4);//example 8-1(c)\n",
"printf ( '\n\n Output Voltages are %.4f V, %.4f V, %.4f V ', Vout1,Vout2,Vout3)"
   ]
   }
,
{
		   "cell_type": "markdown",
		   "metadata": {},
		   "source": [
			"## Example 8.2: ProbOnDifferentialAmplifier.sce"
		   ]
		  },
  {
"cell_type": "code",
	   "execution_count": null,
	   "metadata": {
	    "collapsed": true
	   },
	   "outputs": [],
"source": [
"//Chapter 8\n",
"//Example 8-2\n",
"//ProbOnDifferentialAmplifier \n",
"//Page 220,221, Figure 8-5(b)\n",
"clear;clc;\n",
"//Given\n",
"a = 2/9 ; //Differential Gain\n",
"E1 = 10*10^-3; E2 = 5*10^-3; //Input Voltages \n",
"Vout = (E1 - E2)*(1+(2/a));\n",
"printf ( '\n\n output voltage = %.4f V ', Vout )"
   ]
   }
,
{
		   "cell_type": "markdown",
		   "metadata": {},
		   "source": [
			"## Example 8.3: ProbOnVoltageGain.sce"
		   ]
		  },
  {
"cell_type": "code",
	   "execution_count": null,
	   "metadata": {
	    "collapsed": true
	   },
	   "outputs": [],
"source": [
"//Chapter 8\n",
"//Example 8-3\n",
"//ProbOnVoltageGain \n",
"//Page 223\n",
"clear;clc;\n",
"R = 25*10^3 ;\n",
"aR = 50 ;\n",
"a = aR / R ;\n",
"Gain = 1 + (2/a) ;\n",
"printf ( '\n\n Voltage Gain = %.4f ' , Gain )"
   ]
   }
,
{
		   "cell_type": "markdown",
		   "metadata": {},
		   "source": [
			"## Example 8.4: ProbOnVoltageGain.sce"
		   ]
		  },
  {
"cell_type": "code",
	   "execution_count": null,
	   "metadata": {
	    "collapsed": true
	   },
	   "outputs": [],
"source": [
"//Chapter 8\n",
"//Example 8-4\n",
"//ProbOnVoltageGain \n",
"//Page 223\n",
"clear;clc;\n",
"a = %i; //Infinity\n",
"Gain = 1+(2/a) ; \n",
"printf ( '\n\n Voltage Gain = %.4f ', Gain )"
   ]
   }
,
{
		   "cell_type": "markdown",
		   "metadata": {},
		   "source": [
			"## Example 8.5: ProbOnInstrumentationAmplifier.sce"
		   ]
		  },
  {
"cell_type": "code",
	   "execution_count": null,
	   "metadata": {
	    "collapsed": true
	   },
	   "outputs": [],
"source": [
"//Chapter 8\n",
"//Example 8-5\n",
"//ProbOnInstrumentationAmplifier \n",
"//Page 222,223, Figure 8-6\n",
"clear;clc;\n",
"m = 1001 ;//Gain\n",
"E1 = 5.001 ; E2 = 5.002 ; //example 8-5(a)\n",
"E3 = 5.001 ; E4 = 5.000 ; //example 8-5(b)\n",
"E5 = -1.001 ; E6 = -1.002 ; //example 8-5(c)\n",
"Vout1 = m*(E1-E2); Vout2 = m*(E3-E4); Vout3 = m*(E5-E6);\n",
"printf ( '\n\n Output Voltages are %.4f V , %.4f V, %.4f V ', Vout1,Vout2,Vout3)"
   ]
   }
,
{
		   "cell_type": "markdown",
		   "metadata": {},
		   "source": [
			"## Example 8.6: ProbOnCollectorVoltage.sce"
		   ]
		  },
  {
"cell_type": "code",
	   "execution_count": null,
	   "metadata": {
	    "collapsed": true
	   },
	   "outputs": [],
"source": [
"//Chapter 8\n",
"//Example 8-6\n",
"//ProbOnCollectorVoltage \n",
"//Page 226,227, Figure 8-9(b)\n",
"clear;clc;\n",
"//Given\n",
"Vout = 5 ; //Output Voltage\n",
"Vce = Vout ; \n",
"printf ( '\n\n Collector Voltage = %.4f V ', Vce )"
   ]
   }
,
{
		   "cell_type": "markdown",
		   "metadata": {},
		   "source": [
			"## Example 8.7: ProbOnVoltages.sce"
		   ]
		  },
  {
"cell_type": "code",
	   "execution_count": null,
	   "metadata": {
	    "collapsed": true
	   },
	   "outputs": [],
"source": [
"//Chapter 8\n",
"//Example 8-7\n",
"//ProbOnVoltages \n",
"//Page 226,227, Figure 8-9\n",
"clear;clc;\n",
"//Given\n",
"Vre = 1.2 ; Re = 1*10^3 ;Vce = 5 ;Vcc = 15; //Voltages in the circuit\n",
"Ie = Vre / Re ;\n",
"Vcol = Vce + Vre ;\n",
"Vrl = Vcc - Vcol ;\n",
"printf ( '\n\n Collector Voltage = %.4f V ', Vcol )\n",
"printf ( '\n\n Voltage across Rl  = %.4f V ', Vrl )"
   ]
   }
,
{
		   "cell_type": "markdown",
		   "metadata": {},
		   "source": [
			"## Example 8.8: ProbOnVtoIConverter.sce"
		   ]
		  },
  {
"cell_type": "code",
	   "execution_count": null,
	   "metadata": {
	    "collapsed": true
	   },
	   "outputs": [],
"source": [
"//Chapter 8\n",
"//Example 8-8\n",
"//ProbOnVtoIConverter \n",
"//Page 228, Figure 8-10\n",
"clear;clc;\n",
"Rs = 1*10^3 ; E1 = 100*10^-3 ;\n",
"E2 = 0 ; Rl = 5*10^3 ;\n",
"Gain = 10 ;\n",
"Il = 10*((E1-E2)/Rs);\n",
"Vr = Il * Rs ;\n",
"Vref = Il * Rl ;\n",
"V9 = Vref + Gain*(E1 - E2);\n",
"printf ( '\n\n Current across Load Resistor = %.4f A ', Il )\n",
"printf ( '\n\n Voltage across R  = %.4f V ', Vr)\n",
"printf ( '\n\n Reference Voltage  = %.4f V ', Vref )\n",
"printf ( '\n\n Voltage at terminal 9  = %.4f V ', V9 ) "
   ]
   }
,
{
		   "cell_type": "markdown",
		   "metadata": {},
		   "source": [
			"## Example 8.9: ProbOnStrainGage.sce"
		   ]
		  },
  {
"cell_type": "code",
	   "execution_count": null,
	   "metadata": {
	    "collapsed": true
	   },
	   "outputs": [],
"source": [
"//Chapter 8\n",
"//Example 8-9\n",
"//ProbOnStrainGage \n",
"//Page 230,231\n",
"clear;clc;\n",
"//Given\n",
"GF = 2 ;//Gage factor\n",
"DR = 0.001 ;\n",
"R = 120 ;\n",
"L = DR /(R*GF)  ;\n",
"printf ( '\n\n Change in length is %.9f inches per inch ', L )"
   ]
   }
],
"metadata": {
		  "kernelspec": {
		   "display_name": "Scilab",
		   "language": "scilab",
		   "name": "scilab"
		  },
		  "language_info": {
		   "file_extension": ".sce",
		   "help_links": [
			{
			 "text": "MetaKernel Magics",
			 "url": "https://github.com/calysto/metakernel/blob/master/metakernel/magics/README.md"
			}
		   ],
		   "mimetype": "text/x-octave",
		   "name": "scilab",
		   "version": "0.7.1"
		  }
		 },
		 "nbformat": 4,
		 "nbformat_minor": 0
}
