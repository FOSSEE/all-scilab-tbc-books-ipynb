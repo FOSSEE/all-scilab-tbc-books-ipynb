{
"cells": [
 {
		   "cell_type": "markdown",
	   "metadata": {},
	   "source": [
       "# Chapter 1: Measured thermodynamic Properties and Other Basic Concepts"
	   ]
	},
{
		   "cell_type": "markdown",
		   "metadata": {},
		   "source": [
			"## Example 1.1: Example_1_1.sce"
		   ]
		  },
  {
"cell_type": "code",
	   "execution_count": null,
	   "metadata": {
	    "collapsed": true
	   },
	   "outputs": [],
"source": [
"//Engineering and Chemical Thermodynamics\n",
"//Example 1.1\n",
"//Page no :22\n",
"\n",
"clear ; clc\n",
"// Given the quality of the system is ,x=0.2\n",
"\n",
"// V_l = Specific volume of pure liquid\n",
"// V_v = Specific volume of pure vapour\n",
"// V = Molar volume of liquid-vapour mixture\n",
"disp(' Example: 1.1   Page no : 22') ;\n",
"disp('            V = V_l + x*(V_v - V_l)');\n",
"disp('            0.2 = (V - V_l) / (V_v - V_l)'); \n",
"disp('            0.8 = (V_v - V) / (V_v - V_l)');\n",
"\n",
"disp('         The tie line is devided into two parts according to the fraction of each phase to get the state of the mixture . ');\n",
"\n",
"// The line segment representing the liquid is four times greater than     that of vapour\n",
"\n",
"disp('         As no numerical values are given for specific volumes , we can not  get numerical answer .');"
   ]
   }
,
{
		   "cell_type": "markdown",
		   "metadata": {},
		   "source": [
			"## Example 1.2: Example_1_2.sce"
		   ]
		  },
  {
"cell_type": "code",
	   "execution_count": null,
	   "metadata": {
	    "collapsed": true
	   },
	   "outputs": [],
"source": [
"//Engineering and Chemical Thermodynamics\n",
"//Example 1.2\n",
"//Page no :25\n",
"\n",
"clear ; clc \n",
"P = 1.4 ; // [MPa]\n",
"T = 333 ; //[K]\n",
"\n",
"//Given values are\n",
"T1 = 320 ; //[K]\n",
"T2 = 360 ; //[K]\n",
"P_low = 1 ; //[MPa]\n",
"P_high = 1.5 ; //[MPa]\n",
"V_cap_T1_P1 = 0.2678 ;\n",
"V_cap_T2_P1 = 0.2873 ;\n",
"V_cap_T1_P1_5 = 0.1765 ;\n",
"V_cap_T2_P1_5 = 0.1899 ;\n",
"\n",
"//At P = 1 MPa\n",
"V_cap_T333_P1 = V_cap_T1_P1 + (V_cap_T2_P1 - V_cap_T1_P1)*((T - T1)/(T2- T1)); //[m^3/kg]\n",
"\n",
"//Similarly at P=1.5 MPa\n",
"V_cap_T333_P1_5 = V_cap_T1_P1_5 + (V_cap_T2_P1_5 - V_cap_T1_P1_5)*((T - T1)/(T2 - T1)); //[m^3/kg]\n",
"\n",
"//At T=333*C\n",
"V_cap_P1_5 = V_cap_T333_P1_5 ;\n",
"V_cap_P1 = V_cap_T333_P1 ;\n",
"V_cap_P1_4 = V_cap_P1 + (V_cap_P1_5 - V_cap_P1)*((P - P_low)/(P_high - P_low)) ; //[m^3/kg]\n",
"disp(' Example: 1.2   Page no : 25') ;\n",
"printf('\n       Required specific volume = %g m^3/kg',V_cap_P1_4);"
   ]
   }
,
{
		   "cell_type": "markdown",
		   "metadata": {},
		   "source": [
			"## Example 1.3: Example_1_3.sce"
		   ]
		  },
  {
"cell_type": "code",
	   "execution_count": null,
	   "metadata": {
	    "collapsed": true
	   },
	   "outputs": [],
"source": [
"//Engineering and Chemical Thermodynamics\n",
"//Example 1.3\n",
"//Page no :27\n",
"\n",
"clear ; clc\n",
"\n",
"disp('           The problem contains only theory and different substitutions.There is no numerical part involved. Users can go through the book to obtain the required expression.')"
   ]
   }
,
{
		   "cell_type": "markdown",
		   "metadata": {},
		   "source": [
			"## Example 1.4: Example_1_4.sce"
		   ]
		  },
  {
"cell_type": "code",
	   "execution_count": null,
	   "metadata": {
	    "collapsed": true
	   },
	   "outputs": [],
"source": [
"//Engineering and Chemical Thermodynamics\n",
"//Example 1.3\n",
"//Page no :27\n",
"\n",
"clear ; clc\n",
"//From Ideal gas law we have v=(R*T)/P\n",
"\n",
"//Given data\n",
"P = 1.4 ; //[MPa]\n",
"P_low = 1 ;//[MPa]\n",
"P_high = 1.5;//[MPa]\n",
"\n",
"//At T=333*C from interpolation we have\n",
"v_cap_P1_5 = 0.18086 ;//[m^3/kg]\n",
"v_cap_P1 = 0.27414 ;//[m^3/kg]\n",
"\n",
"//Molar volume is inversely proportional to pressure\n",
"v_cap_P1_4 = v_cap_P1 +(v_cap_P1_5 - v_cap_P1)*((1/P - 1/P_low)/(1/P_high - 1/P_low));\n",
"x=(0.19951-0.19418)/0.19418*100 ;\n",
"disp(' Example: 1.4   Page no : 28') ;\n",
"printf('\n        Specific volume (m^3/kg) = %g',v_cap_P1_4);\n",
"printf('\n        Percentage difference = %g',x);"
   ]
   }
],
"metadata": {
		  "kernelspec": {
		   "display_name": "Scilab",
		   "language": "scilab",
		   "name": "scilab"
		  },
		  "language_info": {
		   "file_extension": ".sce",
		   "help_links": [
			{
			 "text": "MetaKernel Magics",
			 "url": "https://github.com/calysto/metakernel/blob/master/metakernel/magics/README.md"
			}
		   ],
		   "mimetype": "text/x-octave",
		   "name": "scilab",
		   "version": "0.7.1"
		  }
		 },
		 "nbformat": 4,
		 "nbformat_minor": 0
}
