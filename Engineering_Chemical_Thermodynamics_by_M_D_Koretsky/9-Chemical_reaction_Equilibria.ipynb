{
"cells": [
 {
		   "cell_type": "markdown",
	   "metadata": {},
	   "source": [
       "# Chapter 9: Chemical reaction Equilibria"
	   ]
	},
{
		   "cell_type": "markdown",
		   "metadata": {},
		   "source": [
			"## Example 9.10: Example_9_10.sce"
		   ]
		  },
  {
"cell_type": "code",
	   "execution_count": null,
	   "metadata": {
	    "collapsed": true
	   },
	   "outputs": [],
"source": [
"//Engineering and Chemical Thermodynamics\n",
"//Example 9.10\n",
"//Page no :456\n",
"\n",
"clear ; clc ;\n",
"//Given \n",
"del_g0_f_1 = 31.72 ; //[kJ/mol]\n",
"del_g0_f_2 = 26.89 ; //[kJ/mol]\n",
"R = 8.314 ;\n",
"T = 298 ;//[K]\n",
"del_g0_rxn = del_g0_f_2 - del_g0_f_1 ;\n",
"K = exp( - del_g0_rxn * 10^3 / (R * T) ) ;\n",
"x = K / (1 + K) ;\n",
"\n",
"disp(' Example: 9.10   Page no : 456') ;\n",
"printf('\n         x = %.3f \n\n     At equillibrium %.1f %% of the liquid exists as cyclohexane.',x ,x * 100) ;"
   ]
   }
,
{
		   "cell_type": "markdown",
		   "metadata": {},
		   "source": [
			"## Example 9.11: Example_9_11.sce"
		   ]
		  },
  {
"cell_type": "code",
	   "execution_count": null,
	   "metadata": {
	    "collapsed": true
	   },
	   "outputs": [],
"source": [
"//Engineering and Chemical Thermodynamics\n",
"//Example 9.11\n",
"//Page no :457\n",
"\n",
"clear ; clc;\n",
"// Given\n",
"del_g0_f_CaCO3 = -951.25 ;\n",
"del_g0_f_CaO = -531.09 ;\n",
"del_g0_f_CO2 = -395.81 ;\n",
"R = 8.314 ;\n",
"T = 1000 ;// [K]\n",
"del_g0_rxn = del_g0_f_CaO + del_g0_f_CO2 - del_g0_f_CaCO3 ;\n",
"K = exp (-del_g0_rxn * 10^3 / (R * T)) ;\n",
"p_CO2 = K ;\n",
"disp(' Example: 9.11   Page no : 457') ;\n",
"printf('\n     Equilibrium pressure = %.3f bar ',p_CO2) ;"
   ]
   }
,
{
		   "cell_type": "markdown",
		   "metadata": {},
		   "source": [
			"## Example 9.12: Example_9_12.sce"
		   ]
		  },
  {
"cell_type": "code",
	   "execution_count": null,
	   "metadata": {
	    "collapsed": true
	   },
	   "outputs": [],
"source": [
"//Engineering and Chemical Thermodynamics\n",
"//Example 9.12\n",
"//Page no :458\n",
"\n",
"clear ; clc ;\n",
"//Given \n",
"del_g0_f_B = 124.3 ; //[kJ/mol] , From Appendix A.3\n",
"del_g0_f_Ac = 209.2 ; //[kJ/mol] , From Appendix A.3\n",
"R = 8.314 ;\n",
"T = 298 ; // [K]\n",
"A = 9.2806 ;\n",
"B = 2788.51 ;\n",
"C = -52.36 ;\n",
" del_g0_rxn = del_g0_f_B - 3 * del_g0_f_Ac ;\n",
"K = exp( - del_g0_rxn * 10^3 / (R * T)) ;\n",
"\n",
"//We assume no acetylene condenses and no Benzene is volatile .\n",
"P = 1 / K^(1/3) ;\n",
"X = A - B / (T + C) ;\n",
"P_b = exp(X) ;\n",
"disp(' Example: 9.12   Page no : 458') ;\n",
"disp('      At equilibrium , the cylinder is almost completely filled with Benzene .')\n",
"printf('\n       System pressure = %.3f bar ',P_b)"
   ]
   }
,
{
		   "cell_type": "markdown",
		   "metadata": {},
		   "source": [
			"## Example 9.13: Example_9_13.sce"
		   ]
		  },
  {
"cell_type": "code",
	   "execution_count": null,
	   "metadata": {
	    "collapsed": true
	   },
	   "outputs": [],
"source": [
"//Engineering and Chemical Thermodynamics\n",
"//Example 9.13\n",
"//Page no :466\n",
"\n",
"clear ; clc ;\n",
"//Given\n",
"E_0_c = 0.153 ; //[V]\n",
"E_0_a = -0.521 ; // [v]\n",
"T = 298 ; //[K]\n",
"z = 1 ;\n",
"F =96485 ; //[C/mol e-]\n",
"R =8.314 ; //[J/mol K ]\n",
"\n",
"E_0_rxn = E_0_c + E_0_a ;\n",
"del_g_0_rxn = - z * F * E_0_rxn ;\n",
"\n",
"K = exp( - del_g_0_rxn / ( R * T )) ;\n",
"disp(' Example: 9.13   Page no : 466') ;\n",
"printf('\n                The equilibrium constant = %.3g \n',K)\n",
"disp('               The equilibrium constant is small . So the etching will not proceed spontaneously . However if we apply work through application of an electrical potential , we can etch the     copper .')"
   ]
   }
,
{
		   "cell_type": "markdown",
		   "metadata": {},
		   "source": [
			"## Example 9.14: Example_9_14.sce"
		   ]
		  },
  {
"cell_type": "code",
	   "execution_count": null,
	   "metadata": {
	    "collapsed": true
	   },
	   "outputs": [],
"source": [
"//Engineering and Chemical Thermodynamics\n",
"//Example 9.14\n",
"//Page no :466\n",
"\n",
"clear  ; clc ;\n",
"//Given \n",
"E_0_c = 0.34 ; //[V]\n",
"E_0_a = -1.23 ; //[V]\n",
"T = 298 ; // [K]\n",
"pH = 1 ;\n",
"z = 2 ;\n",
"Cu2 = 0.07 ;\n",
"F = 96485 ; //[C/mol e-]\n",
"R = 8.314 ;\n",
"\n",
"E_0_rxn = E_0_c + E_0_a ;\n",
"E = E_0_rxn + 2.303 * R * T * 2 * pH / (z * F) + R * T * log(Cu2) / (z * F) ;\n",
"disp(' Example: 9.14   Page no : 466') ;\n",
"printf('\n    Del_E_0_rxn = %.2f ',E_0_rxn ) ;\n",
"printf('\n\n   We have to apply potential greater than %.2f V',-E) ;"
   ]
   }
,
{
		   "cell_type": "markdown",
		   "metadata": {},
		   "source": [
			"## Example 9.15: Example_9_15.sce"
		   ]
		  },
  {
"cell_type": "code",
	   "execution_count": null,
	   "metadata": {
	    "collapsed": true
	   },
	   "outputs": [],
"source": [
"//Engineering and Chemical Thermodynamics\n",
"//Example 9.15\n",
"//Page no :468\n",
"\n",
"clear ; clc ;\n",
"disp('  Example: 9.15   Page no : 468') ;\n",
"disp('           The problem contains only theory and different substitutions.There is no numerical part involved. Users can go through the book to obtain the required expression .') ;"
   ]
   }
,
{
		   "cell_type": "markdown",
		   "metadata": {},
		   "source": [
			"## Example 9.16: Example_9_16.sce"
		   ]
		  },
  {
"cell_type": "code",
	   "execution_count": null,
	   "metadata": {
	    "collapsed": true
	   },
	   "outputs": [],
"source": [
"//Engineering and Chemical Thermodynamics\n",
"//Example 9.16\n",
"//Page no :469\n",
"\n",
"clear ; clc ;\n",
"//Given \n",
"m = 4 ;\n",
"T = 2 ;\n",
"Pai = 1 ;\n",
"S = 1 ;\n",
"\n",
"R = m - T + 2 - Pai - S ;\n",
"disp(' Example: 9.16   Page no : 469') ;\n",
"printf('\n    We must specify %g independent equations .',R)"
   ]
   }
,
{
		   "cell_type": "markdown",
		   "metadata": {},
		   "source": [
			"## Example 9.17: Example_9_17.sce"
		   ]
		  },
  {
"cell_type": "code",
	   "execution_count": null,
	   "metadata": {
	    "collapsed": true
	   },
	   "outputs": [],
"source": [
"//Engineering and Chemical Thermodynamics\n",
"//Example 9.17\n",
"//Page no :470\n",
"\n",
"clear ; clc ;\n",
"disp('  Example: 9.17   Page no : 470') ;\n",
"disp('           The problem contains only theory and different substitutions.There is no numerical part involved. Users can go through the book to obtain the required expression .') ;"
   ]
   }
,
{
		   "cell_type": "markdown",
		   "metadata": {},
		   "source": [
			"## Example 9.18: Example_9_18.sce"
		   ]
		  },
  {
"cell_type": "code",
	   "execution_count": null,
	   "metadata": {
	    "collapsed": true
	   },
	   "outputs": [],
"source": [
"//Engineering and Chemical Thermodynamics\n",
"//Example 9.18\n",
"//Page no :470\n",
"\n",
"clear ; clc\n",
"//Given\n",
"del_g_f_CH4 = -50.72 ;\n",
"del_g_f_H2 = 0 ;\n",
"del_g_f_H2O = -228.57 ;\n",
"del_g_f_CO = -137.17 ;\n",
"del_g_f_CO2 = -394.36 ;\n",
"del_h_f_CH4 = -74.81 ;\n",
"del_h_f_H2 = 0 ;\n",
"del_h_f_H2O = -241.82 ;\n",
"del_h_f_CO = -110.53 ;\n",
"del_h_f_CO2 = -393.51 ;\n",
"\n",
"v1_CH4 = -1 ;\n",
"v1_H2 = 3 ;\n",
"v1_H2O = -1 ;\n",
"v1_CO = 1 ;\n",
"v1_CO2 = 0 ;\n",
"v2_CH4 = -1 ;\n",
"v2_H2 = 4 ;\n",
"v2_H2O = -2 ;\n",
"v2_CO = 0 ;\n",
"v2_CO2 = 1 ;\n",
"\n",
"A_CH4 = 1.702 ;\n",
"B_CH4 = 9.08 * 10^-3 ;\n",
"C_CH4 = -2.16 * 10^-6 ;\n",
"D_CH4 = 0 ;\n",
"A_H2 = 3.249 ;\n",
"B_H2 = 4.22 * 10^-4 ;\n",
"C_H2 = 0 ;\n",
"D_H2 = 8.30 * 10^3 ;\n",
"A_H2O = 3.47 ;\n",
"B_H2O = 1.45 * 10^-3 ;\n",
"C_H2O = 0 ;\n",
"D_H2O = 1.21 * 10^4 ;\n",
"A_CO = 3.376 ;\n",
"B_CO = 5.57 * 10^-4 ;\n",
"C_CO = 0 ;\n",
"D_CO = -3.10 * 10^3 ;\n",
"A_CO2 = 5.457 ;\n",
"B_CO2 = 1.05 * 10^-3 ;\n",
"C_CO2 = 0 ;\n",
"D_CO2 = -1.16 * 10^5 ;\n",
"\n",
"M(:,1) = 600:50:1150 ;\n",
"R = 8.314 ;\n",
"P = 1  ; //[bar]\n",
"T_ref = 298.15 ; //[K]\n",
"\n",
"del_g_f_1 = (v1_CO * del_g_f_CO + v1_H2 *del_g_f_H2 + v1_CH4 * del_g_f_CH4 + v1_H2O * del_g_f_H2O) * 1000  ;\n",
"del_h_f_1 = (v1_CO * del_h_f_CO + v1_H2 *del_h_f_H2 + v1_CH4 * del_h_f_CH4 + v1_H2O * del_h_f_H2O) * 1000 ;\n",
"del_g_f_2 = (v2_CO2 * del_g_f_CO2 + v2_H2 *del_g_f_H2 + v2_CH4 * del_g_f_CH4 + v2_H2O * del_g_f_H2O) * 1000 ;\n",
"del_h_f_2 = (v2_CO2 * del_h_f_CO2 + v2_H2 *del_h_f_H2 + v2_CH4 * del_h_f_CH4 + v2_H2O * del_h_f_H2O) * 1000;\n",
"Del_A_1 =  v1_CO * A_CO + v1_H2 * A_H2 + v1_CH4 * A_CH4 + v1_H2O * A_H2O  ;\n",
"Del_B_1 =  v1_CO * B_CO + v1_H2 * B_H2 + v1_CH4 * B_CH4 + v1_H2O * B_H2O  ;\n",
"Del_C_1 =  v1_CO * C_CO + v1_H2 * C_H2 + v1_CH4 * C_CH4 + v1_H2O * C_H2O  ;\n",
"Del_D_1 =  v1_CO * D_CO + v1_H2 * D_H2 + v1_CH4 * D_CH4 + v1_H2O * D_H2O  ;\n",
"Del_A_2 = v2_CO2 * A_CO2 + v2_H2 * A_H2 + v2_CH4 * A_CH4 + v2_H2O * A_H2O  ;\n",
"Del_B_2 = v2_CO2 * B_CO2 + v2_H2 * B_H2 + v2_CH4 * B_CH4 + v2_H2O * B_H2O  ;\n",
"Del_C_2 = v2_CO2 * C_CO2 + v2_H2 * C_H2 + v2_CH4 * C_CH4 + v2_H2O * C_H2O  ;\n",
"Del_D_2 = v2_CO2 * D_CO2 + v2_H2 * D_H2 + v2_CH4 * D_CH4 + v2_H2O * D_H2O  ;\n",
"\n",
"\n",
"K_298_1 = exp( - del_g_f_1 / (R * T_ref)) ;\n",
"K_298_2 = exp( - del_g_f_2 / (R * T_ref)) ;\n",
"disp(' Example: 9.18   Page no : 470') ;\n",
"\n",
"for i = 1:12 \n",
"  X = (-del_h_f_1 / R + Del_A_1 * T_ref + Del_B_1 / 2 * T_ref^2 + Del_C_1 /3* T_ref^3- Del_D_1 / T_ref) * (1/M(i,1) - 1/T_ref) + Del_A_1*log(M(i,1) / T_ref)+ Del_B_1 / 2 * (M(i,1) - T_ref) + Del_C_1 / 6 *(M(i,1)^2 - T_ref^2) + Del_D_1 / 2* (1/(M(i,1)^2) - 1/(T_ref^2));\n",
"  \n",
"  M(i,2) = K_298_1 * exp(X) ;\n",
"  \n",
"  Y = (-del_h_f_2 / R + Del_A_2 * T_ref + Del_B_2 / 2 * T_ref^2 + Del_C_2/3* T_ref^3- Del_D_2 / T_ref) * (1/M(i,1) - 1/T_ref) + Del_A_2 * log(M(i,1) / T_ref)+ Del_B_2 / 2 * (M(i,1) - T_ref) + Del_C_2 / 6 *(M(i,1)^2 - T_ref^2) + Del_D_2 / 2* (1/(M(i,1)^2) - 1/(T_ref^2));\n",
"  \n",
"  M(i,3) = K_298_2 * exp(Y) ;\n",
" function y = f918(R),\n",
"      s1 = R(1) ;\n",
"      s2 = R(2) ;\n",
"  y(1) = (s1 * (3 * s1 + 4 * s2)^3) / ((5 + 2 * s1 + 2 * s2)^2 * (1 - s1 -s2) * (4 - s1 - 2 * s2)) * P^2 - M(i,2) ;\n",
"  y(2) = (s2 * (3 * s1 + 4 * s2)^4) / ((5 + 2 * s1 + 2 * s2)^2 * (1 - s1 -s2) * (4 - s1 - 2 * s2)^2) * P^2 - M(i,3) ;\n",
"endfunction\n",
"  z = fsolve([0.0001;0.0001],f918)  ;\n",
"  M(i,4) = z(1) ;\n",
"  M(i,5) = z(2) ; \n",
"  M(i,6) = (1 - M(i,4) - M(i,5)) / (5 + 2 * M(i,4) + 2 * M(i,5)) ;\n",
"  M(i,7) = (4 - M(i,4) - 2 * M(i,5)) / (5 + 2 * M(i,4) + 2 * M(i,5)) ;\n",
"  M(i,8) = (3 * M(i,4) + 4 * M(i,5)) / (5 + 2 * M(i,4) + 2 * M(i,5)) ;\n",
"  M(i,9) = M(i,4) / (5 + 2 * M(i,4) + 2 * M(i,5)) ; \n",
"  M(i,10) = M(i,5) / (5 + 2 * M(i,4) + 2 * M(i,5)) ; \n",
"  \n",
"end \n",
"\n",
"disp('     T              K1               K2              S1               S2             y_CH4     y_H2')\n",
"\n",
"for i = 1:10                       // For convenient display of solution .\n",
"    for j = 1:7\n",
"        n1(i,j) = M(i,j) ;\n",
"    end\n",
"end\n",
"for i = 1:10                      // For convenient display of solution .\n",
"    for j = 1:3\n",
"        n2(i,j) = M(i,j+7) ;\n",
"    end\n",
"end\n",
"disp(n1) ;\n",
"disp('      y_H20          y_CO          y_CO2  ') ;\n",
"disp(n2) ;\n",
"for i = 1:10\n",
"    for j = 1:10\n",
"        N(i,j) = M(i,j) ;\n",
"    end\n",
"end\n",
"\n",
"plot(N(:,1) , N(:,4),'+') ;\n",
"plot(N(:,1), N(:,5),'.') ;\n",
"xtitle('Figure E9.18    Extent of reaxn vs temp','Temperature(K)','S') ;\n",
"legend('S1','S2') ;\n",
"\n",
"h = figure(1) ;\n",
"clf() ;\n",
"set(h,'background',35) ;\n",
"plot(N(:,1) , N(:,6), 'o-') ; \n",
"plot(N(:,1) , N(:,7), 's-');\n",
"plot(N(:,1) , N(:,8), '^-') ;\n",
"plot(N(:,1) , N(:,9), 'x-') ;\n",
"plot(N(:,1) , N(:,10), '.-') ;\n",
"legend('y_CH4 ','y_H2 ','y_H2O ','y_CO ','y_CO2') ;\n",
"\n",
"xtitle('Figure E9.18     mole fractn vs temp','Temp','mole fraction') ;"
   ]
   }
,
{
		   "cell_type": "markdown",
		   "metadata": {},
		   "source": [
			"## Example 9.19: Example_9_19.sce"
		   ]
		  },
  {
"cell_type": "code",
	   "execution_count": null,
	   "metadata": {
	    "collapsed": true
	   },
	   "outputs": [],
"source": [
"//Engineering and Chemical Thermodynamics\n",
"//Example 9.19\n",
"//Page no :472\n",
"\n",
"clear ; clc\n",
"//Given\n",
"del_g_0_f_SiCl2 = - 216012 ; \n",
"del_g_0_f_SiCl4 = - 492536 ;\n",
"del_g_0_f_SiCl3H = -356537 ;\n",
"del_g_0_f_SiCl2H2 = -199368 ;\n",
"del_g_0_f_SiClH3 = -28482 ;\n",
"del_g_0_f_SiH4 = -176152 ;\n",
"del_g_0_f_HCl = -102644 ;\n",
"del_g_0_f_H2 = 0 ;\n",
"del_g_0_f_Si = 0 ;\n",
"R = 8.314 ;\n",
"T = 1300 ; //[K]\n",
"Del_g_rxn_1 = del_g_0_f_SiCl2 + 2 * del_g_0_f_HCl - del_g_0_f_SiCl4 - del_g_0_f_H2 ;\n",
"Del_g_rxn_2 = del_g_0_f_SiCl3H + del_g_0_f_HCl -  del_g_0_f_SiCl4 - del_g_0_f_H2 ;\n",
"Del_g_rxn_3 = del_g_0_f_SiCl2H2 + del_g_0_f_HCl -  del_g_0_f_SiCl3H - del_g_0_f_H2 ;\n",
"Del_g_rxn_4 = del_g_0_f_SiClH3 + del_g_0_f_HCl -  del_g_0_f_SiCl2H2 - del_g_0_f_H2 ;\n",
"Del_g_rxn_5 = del_g_0_f_SiH4 + del_g_0_f_HCl -  del_g_0_f_SiCl3H - del_g_0_f_H2 ;\n",
"Del_g_rxn_6 = del_g_0_f_Si + 4 * del_g_0_f_HCl -  del_g_0_f_SiCl4 - 2 * del_g_0_f_H2 ;\n",
"\n",
"M(1,1) = exp( - Del_g_rxn_1 / (R * T)) ;\n",
"M(2,1) = exp( - Del_g_rxn_2 / (R * T)) ;\n",
"M(3,1) = exp( - Del_g_rxn_3 / (R * T)) ;\n",
"M(4,1) = exp( - Del_g_rxn_4 / (R * T)) ;\n",
"M(5,1) = exp( - Del_g_rxn_5 / (R * T)) ;\n",
"M(6,1) = exp( - Del_g_rxn_6 / (R * T)) ;\n",
"\n",
"S = [0.0763 ;0.1979 ;0.0067 ;0.0001 ;0.0000 ;-0.0512] ;\n",
"K_cal = [.00137 ;0.0457 ;0.00644 ;0.00181 ;0.000752 ;0.000509] ;\n",
"disp(' Example: 9.19   Page no : 472') ;\n",
"disp('       K_i              S        K_i_cal       K_i - K_i_cal') ;\n",
"for i = 1:6\n",
"    M(i,2) = S(i,1) ;\n",
"    M(i,3) = K_cal(i,1) ;\n",
"    M(i,4) = M(i,1) - M(i,3) ;\n",
"end\n",
"disp(M)\n",
"// Readers can refer figure E9.19 ."
   ]
   }
,
{
		   "cell_type": "markdown",
		   "metadata": {},
		   "source": [
			"## Example 9.1: Example_9_1.sce"
		   ]
		  },
  {
"cell_type": "code",
	   "execution_count": null,
	   "metadata": {
	    "collapsed": true
	   },
	   "outputs": [],
"source": [
"//Engineering and Chemical Thermodynamics\n",
"//Example 9.1\n",
"//Page no :440\n",
"\n",
"clear ; clc ;\n",
"n_o_CH3OH = 1 ; //[mol]\n",
"n_o_H2O = 3 ; //[mol]\n",
"S = 0.87 ;\n",
"n_CH3OH = 1 - S ;\n",
"n_H2O = 2 - S ;\n",
"n_CO2 = S ;\n",
"n_H2 = 3 * S ;\n",
"n_v = n_CH3OH + n_CO2 + n_H2O + n_H2 ; \n",
"\n",
"y_H2 = n_H2 / n_v ;\n",
"disp(' Example: 9.1   Page no : 440') ;\n",
"printf('\n     No of moles of H2 produced for 1mol of CH3OH = %.3f mol' , n_H2)\n",
"printf('\n     Mole fraction of H2 = %.2f' , y_H2) ;"
   ]
   }
,
{
		   "cell_type": "markdown",
		   "metadata": {},
		   "source": [
			"## Example 9.20: Example_9_20.sce"
		   ]
		  },
  {
"cell_type": "code",
	   "execution_count": null,
	   "metadata": {
	    "collapsed": true
	   },
	   "outputs": [],
"source": [
"//Engineering and Chemical Thermodynamics\n",
"//Example 9.20\n",
"//Page no :476\n",
"\n",
"clear ; clc\n",
"//Given\n",
"del_g_0_f_CH4 = -2.057 ; //[J/mol]\n",
"del_g_0_f_H2O = -192.713 ; //[J/mol]\n",
"del_g_0_f_CO = -182.494 ; //[J/mol]\n",
"del_g_0_f_CO2 = -203.595 ; //[J/mol]\n",
"del_g_0_f_H2 = 0 ; //[J/mol]\n",
"R = 8.314 ;\n",
"T = 800 ; //[K]\n",
"w = 1 / (R * T) ;\n",
"function Z920 = F920(R) \n",
"    m = R(1) ,\n",
"    n = R(2) ,\n",
"    o = R(3) ,\n",
"    a = R(4), // n_CH4\n",
"    b = R(5), // n_H2O\n",
"    c = R(6), // n_H2\n",
"    d =  R(7), // n_CO\n",
"    e = R(8), // n_CO2\n",
"\n",
"Z920(1) = a + d + e - 1 ;\n",
"Z920(2) = 4 * a + 2 * b + 2 * c - 12 ;\n",
"Z920(3) = b + d + 2 * e - 4 ;\n",
"Z920(4) = del_g_0_f_CH4 * w + log(a) - log(a + b + c  + d + e) + m  + 4 * o ;\n",
"Z920(5) = del_g_0_f_H2O * w + log(b) - log(a + b + c  + d + e) + 2 * o + n ;\n",
"Z920(6) = del_g_0_f_H2 * w + log(c)- log(a + b + c  + d + e) + 2 * o ;\n",
"Z920(7) = del_g_0_f_CO * w + log(d) - log(a + b + c  + d + e) + m  + n ;\n",
"Z920(8) = del_g_0_f_CO2 * w + log(e) - log(a + b + c  + d + e) + m  + 2 * n ;\n",
"\n",
"endfunction ;\n",
"\n",
" \n",
"function [J] = jacob(X) \n",
"    \n",
"    m = X(1) ,\n",
"    n = X(2) ,\n",
"    o = X(3) ,\n",
"    a = X(4), // n_CH4\n",
"    b = X(5), // n_H2O\n",
"    c = X(6), // n_H2\n",
"    d = X(7), // n_CO\n",
"    e = X(8), // n_CO\n",
"\n",
"    J(1,1) = 0 ;  J(1,2) = 0 ; J(1,3) = 0 ; J(1,4) = 1 ; J(1,5) = 0 ;\n",
"    J(1,6) = 0 ; J(1,7) = 1 ; J(1,8) = 1 ; \n",
"    J(2,1) = 0 ;  J(2,2) = 0 ; J(2,3) = 0 ; J(2,4) = 4 ; J(2,5) = 2 ;\n",
"    J(2,6) = 2 ; J(2,7) = 0 ; J(2,8) = 0 ;\n",
"    J(3,1) = 0 ;  J(3,2) = 0 ; J(3,3) = 0 ; J(3,4) = 0 ; J(3,5) = 1 ;\n",
"    J(3,6) = 0 ; J(3,7) = 1 ; J(3,8) = 2 ; \n",
"    J(4,1) = 1 ;  J(4,2) = 0 ; J(4,3) = 4 ; J(4,4) = (b+c+d+e)/(a*(a+b+c+d+e)) ; J(4,5) = -1/(a+b+c+d+e) ; J(4,6) = -1/(a+b+c+d+e) ; J(4,7) = -1/(a+b+c+d+e); J(4,8) = -1/(a+b+c+d+e); \n",
"    J(5,1) = 0 ; J(5,2) = 1 ; J(5,3) = 2 ; J(5,4) = -1/(a+b+c+d+e) ;\n",
"    J(5,5) = (a+c+d+e)/(b*(a+b+c+d+e)) ; J(5,6) = -1/(a+b+c+d+e) ;\n",
"    J(5,7) = -1/(a+b+c+d+e) ; J(5,8) = -1/(a+b+c+d+e) ;\n",
"    J(6,1) = 0 ; J(6,2) = 0 ; J(6,3) = 2 ; J(6,4) = -1/(a+b+c+d+e) ;\n",
"    J(6,5) = -1/(a+b+c+d+e) ; J(6,6) = (a+b+d+e)/(c*(a+b+c+d+e)) ;\n",
"    J(6,7) = -1/(a+b+c+d+e) ; J(6,8) = -1/(a+b+c+d+e) ;\n",
"    J(7,1) = 1 ; J(7,2) = 1 ; J(7,3) = 0 ; J(7,4) = -1/(a+b+c+d+e) ;\n",
"    J(7,5) = -1/(a+b+c+d+e) ; J(7,6) = -1/(a+b+c+d+e) ;\n",
"    J(7,7) = (a+b+c+e)/(d*(a+b+c+d+e)) ; J(7,8) = -1/(a+b+c+d+e) ;\n",
"    J(8,1) = 1 ; J(8,2) = 2 ; J(8,3) = 0 ; J(8,4) = -1/(a+b+c+d+e) ;\n",
"    J(8,5) = -1/(a+b+c+d+e) ; J(8,6) = -1/(a+b+c+d+e) ;\n",
"    J(8,7) = -1/(a+b+c+d+e) ; J(8,8) = (a+b+c+d)/(e*(a+b+c+d+e)) ;\n",
"endfunction\n",
"\n",
"// We will use newton Raphson Method to solve the set of equations.\n",
"// Reference : www.infoclearinghouse.com/files/scilab/scilab6a.pdf\n",
"\n",
"function [x] = newtonm(x0,f,J)\n",
"    N = 1000 ;\n",
"    epsilon = 1*10^-10 ;\n",
"    maxval = 1000 ;\n",
"    xx = x0 ;\n",
"\n",
"    while(N>0)\n",
"        JJ = J(xx)\n",
"       // disp(abs(det(JJ)))\n",
"        if abs(det(JJ))<epsilon then\n",
"            error('newtonm-Jacobian is singular- try new x0')\n",
"            abort ;\n",
"        end ;\n",
"        xn = xx -inv(JJ) * f(xx) ;\n",
"     //   disp(abs(f(xn)))\n",
"        if abs(f(xn))<epsilon then\n",
"            x = xn ;\n",
"          //  disp(100-N) ;\n",
"          //  disp((x))\n",
"            return(x) ;\n",
"        end ;\n",
"\n",
"        if abs(f(xn))>maxval then \n",
"           disp(1000-N) ;\n",
"           error('Solution diverges') ;\n",
"           abrot ;\n",
"        end ;\n",
"        N = N -1 ;\n",
"        xx = xn ;\n",
" end ;\n",
"endfunction ;\n",
"\n",
"x1 = [1 ; 1 ; 1 ; 1 ; 1 ; 1 ; 1 ; 1 ] ; // Initial guess .\n",
"    \n",
"[z] = newtonm(x1,F920,jacob) ;\n",
"\n",
"disp('Example 9.20    Page no:476') ;\n",
"printf('\n\n   L_c/RT = %f ,\n   L_o/RT = %f ,\n   L_h/RT = %f ,\n   n_CH4 = %f ,\n   n_H2O = %f ,\n    n_H2  = %f ,\n    n_CO = %f ,\n   n_CO2 = %f',z(1),z(2),z(3),z(4),z(5),z(6),z(7),z(8)) ;\n",
"//The solutions given in the text book does not satisfy E9.20D, E9.20E,\n",
"// E9.20F and so on ."
   ]
   }
,
{
		   "cell_type": "markdown",
		   "metadata": {},
		   "source": [
			"## Example 9.21: Example_9_21.sce"
		   ]
		  },
  {
"cell_type": "code",
	   "execution_count": null,
	   "metadata": {
	    "collapsed": true
	   },
	   "outputs": [],
"source": [
"//Engineering and Chemical Thermodynamics\n",
"//Example 9.21\n",
"//Page no :485\n",
"\n",
"clear ; clc ;\n",
"disp('  Example: 9.21   Page no : 485') ;\n",
"disp('           The problem contains only theory and different substitutions.There is no numerical part involved. Users can go through the book to obtain the required expression .') ;"
   ]
   }
,
{
		   "cell_type": "markdown",
		   "metadata": {},
		   "source": [
			"## Example 9.22: Example_9_22.sce"
		   ]
		  },
  {
"cell_type": "code",
	   "execution_count": null,
	   "metadata": {
	    "collapsed": true
	   },
	   "outputs": [],
"source": [
"//Engineering and Chemical Thermodynamics\n",
"//Example 9.22\n",
"//Page no :487\n",
"\n",
"clear ; clc ;\n",
"disp('  Example: 9.22   Page no : 487') ;\n",
"disp('           The problem contains only theory and different substitutions.There is no numerical part involved. Users can go through the book to obtain the required expression .') ;"
   ]
   }
,
{
		   "cell_type": "markdown",
		   "metadata": {},
		   "source": [
			"## Example 9.2: Example_9_2.sce"
		   ]
		  },
  {
"cell_type": "code",
	   "execution_count": null,
	   "metadata": {
	    "collapsed": true
	   },
	   "outputs": [],
"source": [
"//Engineering and Chemical Thermodynamics\n",
"//Example 9.2\n",
"//Page no :444\n",
"\n",
"clear ; clc ;\n",
"//Given \n",
"del_gf_0_CO2 = -394.36 ; //[kJ/mol],From Appendix A.3\n",
"del_gf_0_H2 = 0 ; //[kJ/mol],From Appendix A.3\n",
"del_gf_0_H2O = -228.57 ; //[kJ/mol],From Appendix A.3\n",
"del_gf_0_CH3OH = -161.96 ; //[kJ/mol],From Appendix A.3\n",
"n_CO2 = 1 ;\n",
"n_H2 = 3 ;\n",
"n_CH3OH = 1 ;\n",
"n_H2O = 1 ;\n",
"T = 298.15 ;//[K]\n",
"R = 8.314 ; //[J/molK]\n",
"\n",
"del_g0_rxn = (n_CO2 * del_gf_0_CO2 + n_H2 * del_gf_0_H2 - n_H2O * del_gf_0_H2O - n_CH3OH * del_gf_0_CH3OH) * 10^3 ; // [J/mol]\n",
"K_298 = exp( - del_g0_rxn / (R * T)) ;\n",
"disp(' Example: 9.2   Page no : 444') ;\n",
"printf('\n     The equillibrium constant K298 = %.2f ',K_298) ;"
   ]
   }
,
{
		   "cell_type": "markdown",
		   "metadata": {},
		   "source": [
			"## Example 9.3: Example_9_3.sce"
		   ]
		  },
  {
"cell_type": "code",
	   "execution_count": null,
	   "metadata": {
	    "collapsed": true
	   },
	   "outputs": [],
"source": [
"//Engineering and Chemical Thermodynamics\n",
"//Example 9.4\n",
"//Page no :447\n",
"\n",
"clear ; clc ;\n",
"//Given \n",
"del_gf_0_CH2O = -110.0 ; //[kJ/mol],From Appendix A.2 & A.3\n",
"del_gf_0_H2 = 0 ; //[kJ/mol],From Appendix A.2 & A.3\n",
"del_gf_0_CH4O = -162.0 ; //[kJ/mol],From Appendix A.2 & A.3\n",
"del_hf_0_CH2O = -116.0 ; //[kJ/mol],From Appendix A.2 & A.3\n",
"del_hf_0_H2 = 0 ; //[kJ/mol],From Appendix A.2 & A.3\n",
"del_hf_0_CH4O = -200.7 ; //[kJ/mol],From Appendix A.2 & A.3n_CH20 = 1 ;\n",
"n_H2 = 1 ;\n",
"n_CH4O = 1 ;\n",
"n_CH2O = 1 ;\n",
"T1 = 298 ;//[K]\n",
"T2 = 873 ; // [K]\n",
"R = 8.314 ; //[J/molK]\n",
"Del_A = 3.302 ;\n",
"Del_B = -4.776 * 10^-3 ;\n",
"Del_C = 1.57 * 10^-6 ;\n",
"Del_D = 0.083 * 10^5 ;  \n",
"//Solution (a)\n",
"del_g_rxn_298 = n_CH2O * del_gf_0_CH2O + n_H2 * del_gf_0_H2 - n_CH4O * del_gf_0_CH4O ;\n",
"K_298 = exp( - del_g_rxn_298 * 10^3 / (R * T1)) ;\n",
"disp(' Example: 9.4   Page no : 447') ;\n",
"printf('\n    (a) K_298 = %g \n\n   As the equilibrium constant is very small very little amount of formaldehyde will be formed .\n',K_298) ;\n",
"\n",
"//Solution(b)\n",
"del_h_rxn_298 = (n_CH2O * del_hf_0_CH2O + n_H2 * del_hf_0_H2 - n_CH4O * del_hf_0_CH4O) * 10^3 ;//[J/mol]\n",
"K_873 = K_298 * exp((-del_h_rxn_298  * (1/T2 - 1/T1)) / R) ;\n",
"printf('\n    (b)\n            (i)  K_873 = %g \n\n',K_873) ;\n",
"\n",
"//Solution(c)\n",
"x =  ( -del_h_rxn_298 / R + Del_A * T1 + Del_B / 2 * T1^2 + Del_C /3 * T1^3 - Del_D / T1 ) *(1/T2 - 1/T1) + Del_A * log(T2 / T1) + Del_B / 2 * (T2 -T1) + Del_C / 6 * (T2^2 -T1^2) + Del_D / 2 * (1/(T2^2) -1/(T1^2)) ;\n",
"K_873 = K_298 * exp(x) ;\n",
"printf('\n            (ii)  K_873 = %g \n\n',K_873) ;"
   ]
   }
,
{
		   "cell_type": "markdown",
		   "metadata": {},
		   "source": [
			"## Example 9.4: Example_9_4.sce"
		   ]
		  },
  {
"cell_type": "code",
	   "execution_count": null,
	   "metadata": {
	    "collapsed": true
	   },
	   "outputs": [],
"source": [
"//Engineering and Chemical Thermodynamics\n",
"//Example 9.4\n",
"//Page no :447\n",
"\n",
"clear ; clc ;\n",
"//Given \n",
"del_gf_0_CH2O = -110.0 ; //[kJ/mol],From Appendix A.2 & A.3\n",
"del_gf_0_H2 = 0 ; //[kJ/mol],From Appendix A.2 & A.3\n",
"del_gf_0_CH4O = -162.0 ; //[kJ/mol],From Appendix A.2 & A.3\n",
"del_hf_0_CH2O = -116.0 ; //[kJ/mol],From Appendix A.2 & A.3\n",
"del_hf_0_H2 = 0 ; //[kJ/mol],From Appendix A.2 & A.3\n",
"del_hf_0_CH4O = -200.7 ; //[kJ/mol],From Appendix A.2 & A.3n_CH20 = 1 ;\n",
"n_H2 = 1 ;\n",
"n_CH4O = 1 ;\n",
"n_CH2O = 1 ;\n",
"T1 = 298 ;//[K]\n",
"T2 = 873 ; // [K]\n",
"R = 8.314 ; //[J/molK]\n",
"Del_A = 3.302 ;\n",
"Del_B = -4.776 * 10^-3 ;\n",
"Del_C = 1.57 * 10^-6 ;\n",
"Del_D = 0.083 * 10^5 ;  \n",
"//Solution (a)\n",
"del_g_rxn_298 = n_CH2O * del_gf_0_CH2O + n_H2 * del_gf_0_H2 - n_CH4O * del_gf_0_CH4O ;\n",
"K_298 = exp( - del_g_rxn_298 * 10^3 / (R * T1)) ;\n",
"disp(' Example: 9.4   Page no : 447') ;\n",
"printf('\n    (a) K_298 = %g \n\n   As the equilibrium constant is very small very little amount of formaldehyde will be formed .\n',K_298) ;\n",
"\n",
"//Solution(b)\n",
"del_h_rxn_298 = (n_CH2O * del_hf_0_CH2O + n_H2 * del_hf_0_H2 - n_CH4O * del_hf_0_CH4O) * 10^3 ;//[J/mol]\n",
"K_873 = K_298 * exp((-del_h_rxn_298  * (1/T2 - 1/T1)) / R) ;\n",
"printf('\n    (b)\n            (i)  K_873 = %g \n\n',K_873) ;\n",
"\n",
"//Solution(c)\n",
"x =  ( -del_h_rxn_298 / R + Del_A * T1 + Del_B / 2 * T1^2 + Del_C /3 * T1^3 - Del_D / T1 ) *(1/T2 - 1/T1) + Del_A * log(T2 / T1) + Del_B / 2 * (T2 -T1) + Del_C / 6 * (T2^2 -T1^2) + Del_D / 2 * (1/(T2^2) -1/(T1^2)) ;\n",
"K_873 = K_298 * exp(x) ;\n",
"printf('\n            (ii)  K_873 = %g \n\n',K_873) ;"
   ]
   }
,
{
		   "cell_type": "markdown",
		   "metadata": {},
		   "source": [
			"## Example 9.5: Example_9_5.sce"
		   ]
		  },
  {
"cell_type": "code",
	   "execution_count": null,
	   "metadata": {
	    "collapsed": true
	   },
	   "outputs": [],
"source": [
"//Engineering and Chemical Thermodynamics\n",
"//Example 9.5:\n",
"//Page no :450\n",
"\n",
"clear ; clc ;\n",
"disp('  Example: 9.5   Page no : 450') ;\n",
"disp('           The problem contains only theory and different substitutions.There is no numerical part involved. Users can go through the book to obtain the required expression .') ;"
   ]
   }
,
{
		   "cell_type": "markdown",
		   "metadata": {},
		   "source": [
			"## Example 9.6: Example_9_6.sce"
		   ]
		  },
  {
"cell_type": "code",
	   "execution_count": null,
	   "metadata": {
	    "collapsed": true
	   },
	   "outputs": [],
"source": [
"//Engineering and Chemical Thermodynamics\n",
"//Example 9.6\n",
"//Page no :451\n",
"\n",
"clear ; clc ;\n",
"del_g0_f_C6H6 = -32.84 ; //[kJ/mol] , From Table E9.6\n",
"del_g0_f_C2H4 = 68.15 ; //[kJ/mol] , From Table E9.6\n",
"del_g0_f_H2 = 0 ;  //[kJ/mol] , From Table E9.6\n",
"del_h0_f_C6H6 = -84.68 ; //[kJ/mol] , From Table E9.6\n",
"del_h0_f_C2H4 = 52.26 ; //[kJ/mol] , From Table E9.6\n",
"del_h0_f_H2 = 0 ;  //[kJ/mol] , From Table E9.6\n",
"T1 = 298.2 ;//[K]\n",
"P = 1 ;//[bar]\n",
"R = 8.31 ;\n",
"T2 = 1273 ; // [K]\n",
"del_g0_f_rxn = del_g0_f_C2H4 + del_g0_f_H2 - del_g0_f_C6H6 ;\n",
"K_298 = exp ( - (del_g0_f_rxn * 10^3) / (R * T1)) ;\n",
"\n",
"del_h0_f_rxn = (del_h0_f_C2H4 + del_h0_f_H2 - del_h0_f_C6H6) * 10^3 ;\n",
"K_1273 = K_298 * exp( - del_h0_f_rxn / R * (1/T2 - 1/T1)) ;\n",
"\n",
"x = sqrt( K_1273 / ( K_1273 + P)) ;\n",
"\n",
"disp(' Example: 9.6   Page no : 451') ;\n",
"printf('\n     n_C2H6 = %.2f mol\n\n     n_C2H4 = %.2f mol\n\n     n_H2 = %.2f mol',1-x ,x,x) ;"
   ]
   }
,
{
		   "cell_type": "markdown",
		   "metadata": {},
		   "source": [
			"## Example 9.7: Example_9_7.sce"
		   ]
		  },
  {
"cell_type": "code",
	   "execution_count": null,
	   "metadata": {
	    "collapsed": true
	   },
	   "outputs": [],
"source": [
"//Engineering and Chemical Thermodynamics\n",
"//Example 9.7\n",
"//Page no :453\n",
"\n",
"clear ; clc ;\n",
"//Given \n",
"del_h0_f_NH3 = -46.11 ; // [kJ/mol],From table E9.7\n",
"del_h0_f_N2 = 0 ; // [kJ/mol],From table E9.7\n",
"del_h0_f_H2 = 0 ; // [kJ/mol],From table E9.7\n",
"del_g0_f_NH3 = -16.45 ; // [kJ/mol],From table E9.7\n",
"del_g0_f_N2 = 0 ; // [kJ/mol],From table E9.7\n",
"del_g0_f_H2 = 0 ; // [kJ/mol],From table E9.7\n",
"n_NH3 = 2 ;\n",
"n_N2 = -1 ;\n",
"n_H2 = -3 ;\n",
"A_NH3 = 3.578 ; B_NH3 = 3.02 * 10^-3 ; D_NH3 = -0.186 * 10^5 ; \n",
"A_N2 = 3.280 ; B_N2 = 0.593 * 10^-3 ; D_N2 = 0.040 * 10^5 ;\n",
"A_H2 = 3.249 ; B_H2 = 0.422 * 10^-3 ; D_H2 = 0.083 * 10^5 ;\n",
"R = 8.314 ;\n",
"T = 298 ;\n",
"T2 = 773 ;\n",
"P = 1 ; //[bat]\n",
"\n",
"Del_h0_rxn = (n_NH3 * del_h0_f_NH3 + n_N2 * del_h0_f_N2 + n_H2 * del_h0_f_H2) * 10^3 ;\n",
"Del_g0_rxn = (n_NH3 * del_g0_f_NH3 + n_N2 * del_g0_f_N2 + n_H2 * del_g0_f_H2) * 10^3 ;\n",
"del_A = n_NH3 * A_NH3 + n_N2 * A_N2 + n_H2 * A_H2 ;\n",
"del_B = n_NH3 * B_NH3 + n_N2 * B_N2 + n_H2 * B_H2 ;\n",
"del_D = n_NH3 * D_NH3 + n_N2 * D_N2 + n_H2 * D_H2 ;\n",
"\n",
"K_298 = exp( - Del_g0_rxn / ( R * T)) ;\n",
"K_T = K_298 * exp( - Del_h0_rxn / R * (1 / T2 - 1 / T)) ;\n",
"A = K_T * P^2 *27 -16 ;\n",
"B = 64 - K_T * P^2 * 108 ;\n",
"C = -64 + K_T * P^2 * 162 ;\n",
"D = -108 * K_T * P^2 ;\n",
"E = 27 * K_T * P^2 ;\n",
"\n",
"//(a)\n",
"mycoeff =[E , D ,C , B ,A];\n",
"p = poly(mycoeff , 'x','coeff') ;\n",
"M = roots(p);\n",
"\n",
"for i = 1:3 \n",
"    isreal(M(i,1)) ;\n",
"    if ans == %f then\n",
"        y = M(i,1) / M(i+1,1) - 1 ;\n",
"        sign(y) ;\n",
"        if ans == %t then\n",
"            x = M(i,1) ;\n",
"        else\n",
"            x = M(i+1,1) ;\n",
"            \n",
"        end\n",
"    end\n",
"end\n",
"disp(' Example: 9.7   Page no : 453') ;\n",
"printf('\n    (a)\n        Extent of reaction = %.3f \n',x);\n",
"\n",
"//(b)\n",
"X = (-Del_h0_rxn  / R + del_A * T + del_B / 2 * T^2 - del_D / T) * (1/T2 - 1/T) + del_A * log(T2 / T) + del_B / 2 * (T2 - T) + del_D / 2 * (1/(T2^2) - 1/(T^2) );\n",
"K_T = K_298 * exp(X) ;\n",
"\n",
"A = K_T * P^2 *27 -16 ;\n",
"B = 64 - K_T * P^2 * 108 ;\n",
"C = -64 + K_T * P^2 * 162 ;\n",
"D = -108 * K_T * P^2 ;\n",
"E = 27 * K_T * P^2 ;\n",
"\n",
"mycoeff =[E , D ,C , B ,A];\n",
"p1 = poly(mycoeff , 'x','coeff') ;\n",
"M1 = roots(p1);\n",
"\n",
"for i = 1:3 \n",
"    isreal(M1(i,1)) ;\n",
"    if ans == %f then\n",
"        y = M1(i,1) / M1(i+1,1) - 1 ;\n",
"        sign(y) ;\n",
"        if ans == %t then\n",
"            x1 = M1(i,1) ;\n",
"        else\n",
"            x1 = M1(i+1,1) ;\n",
"            \n",
"        end\n",
"    end\n",
"end\n",
"printf('    (b)\n        Extent of reaction = %.3f\n',x1);\n",
"disp('      Under these conditions we do not expect to produce an appreciable amount of ammonia .')"
   ]
   }
,
{
		   "cell_type": "markdown",
		   "metadata": {},
		   "source": [
			"## Example 9.8: Example_9_8.sce"
		   ]
		  },
  {
"cell_type": "code",
	   "execution_count": null,
	   "metadata": {
	    "collapsed": true
	   },
	   "outputs": [],
"source": [
"//Engineering and Chemical Thermodynamics\n",
"//Example 9.8 \n",
"//Page no  :454\n",
"\n",
"clear ; clc ;\n",
"disp('  Example: 9.8   Page no : 454') ;\n",
"disp('           The problem contains only theory and different substitutions.There is no numerical part involved. Users can go through the book to obtain the required expression .') ;"
   ]
   }
,
{
		   "cell_type": "markdown",
		   "metadata": {},
		   "source": [
			"## Example 9.9: Example_9_9.sce"
		   ]
		  },
  {
"cell_type": "code",
	   "execution_count": null,
	   "metadata": {
	    "collapsed": true
	   },
	   "outputs": [],
"source": [
"//Engineering and Chemical Thermodynamics\n",
"//Example 9.9\n",
"//Page no :454\n",
"\n",
"clear ; clc;\n",
"//Given \n",
"K_T = 1.51 * 10^-5 ;\n",
"P = 300  ; //[bar]\n",
"T = 500 + 273.2 ; //[K]\n",
"R = 8.314 ;\n",
"\n",
"function y = f991(k),\n",
"    y = ((2 * k)^2 * (4 - 2 * k)^2 / ((1 - k) * (3 - 3*k)^3)) * P^-2 - K_T \n",
"endfunction\n",
"\n",
"z1 = fsolve([0.3],f991) ;\n",
"\n",
"disp(' Example: 9.9   Page no : 454') ;\n",
"printf('\n   (a)\n        Extent of reaction = %.2f \n',z1);\n",
"\n",
"//(b)\n",
"P_c = [111.3 * 101325 , 33.5 * 101325 , 12.8 * 101325] ;\n",
"T_c = [405.5 , 126.2 , 33.3] ;\n",
"\n",
"for i = 1:3\n",
"    a(1,i) = 27 / 64 * (R * T_c(1,i))^2 / P_c(1,i) ;\n",
"    b(1,i) = (R * T_c(1,i)) / (8 * P_c(1,i)) ;\n",
"   \n",
"    function y = f992(v) , \n",
"        y = (R * T) / (v - b(1,i)) - a(1,i) / (v^2) - P * 100000 ;\n",
"    endfunction\n",
"    \n",
"    V(1,i) = fsolve([0.0002],f992) ;\n",
"    \n",
"    sai(1,i) = exp( - log((V(1,i) - b(1,i)) * P * 10^5/ ( R * T)) + b(1,i) / (V(1,i) - b(1,i)) - 2 * a(1,i) / (R * T * V(1,i))) ;\n",
"    \n",
"end\n",
"\n",
"function y = f993(k),\n",
"    y = ((2 * k)^2 * sai(1,1)^2 * (4 - 2 * k)^2 * 3 / ((1 - k) * sai(1,2)* (3 - 3*k)^3 * sai(1,3)^3 ))* P^-2  - K_T \n",
"endfunction\n",
"\n",
"z2 = fsolve([0.3],f993) ;\n",
"\n",
"x = (z1 - z2) / z1 * 100 ;\n",
"\n",
"printf('   (b)\n        Extent of reaction = %.2f \n',z2);\n",
"printf('\n  A correction of about   %d%% is observed from accounting for nonideal behaviour . ',x)"
   ]
   }
],
"metadata": {
		  "kernelspec": {
		   "display_name": "Scilab",
		   "language": "scilab",
		   "name": "scilab"
		  },
		  "language_info": {
		   "file_extension": ".sce",
		   "help_links": [
			{
			 "text": "MetaKernel Magics",
			 "url": "https://github.com/calysto/metakernel/blob/master/metakernel/magics/README.md"
			}
		   ],
		   "mimetype": "text/x-octave",
		   "name": "scilab",
		   "version": "0.7.1"
		  }
		 },
		 "nbformat": 4,
		 "nbformat_minor": 0
}
