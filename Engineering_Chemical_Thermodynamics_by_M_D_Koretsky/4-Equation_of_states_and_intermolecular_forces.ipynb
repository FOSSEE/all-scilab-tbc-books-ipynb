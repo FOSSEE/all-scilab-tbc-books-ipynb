{
"cells": [
 {
		   "cell_type": "markdown",
	   "metadata": {},
	   "source": [
       "# Chapter 4: Equation of states and intermolecular forces"
	   ]
	},
{
		   "cell_type": "markdown",
		   "metadata": {},
		   "source": [
			"## Example 4.10: Example_4_10.sce"
		   ]
		  },
  {
"cell_type": "code",
	   "execution_count": null,
	   "metadata": {
	    "collapsed": true
	   },
	   "outputs": [],
"source": [
"//Engineering and Chemical Thermodynamics\n",
"//Example 4.10\n",
"//Page no :202\n",
"\n",
"//Solution(a)\n",
"clear ; clc ;\n",
"T = 100 + 273 ; //[K]\n",
"P = 70 * 10^5 ; //[N/m^2]\n",
"P_c = 42.2 * 10 ^ 5 ;\n",
"T_c = 370 ; //[K]\n",
"w = 0.153 ;// Interpolating from table C.1 and C.2\n",
"z_0 = 0.2822 ;// Interpolating from table C.1 and C.2\n",
"z_1 = - 0.0670 ;// Interpolating from table C.1 and C.2\n",
"m = 20 * 10^3 ;//[g]\n",
"MW = 44 ; //[g/mol]\n",
"R = 8.314 ;\n",
"\n",
"P_r = P / P_c ;\n",
"T_r = T / T_c ;\n",
"z = z_0 + w * z_1 ;\n",
"V = m / MW *z * R * T / P ;\n",
"disp(' Example: 4.10   Page no : 202') ;\n",
"printf('\n    (1)\n          Volume = %.4f m^3 \n\n', V )\n",
"\n",
"//Solution(b)\n",
"T = 295 ;//[K]\n",
"n = 50 ; // [mol]\n",
"a = 0.42748 * R^2 * T_c^2.5 / P_c ;\n",
"b = 0.08664 * R * T_c / P_c ;\n",
"v = 0.1 ;\n",
"P = R * T / (v - b) - a / (T^0.5 * v * (v + b)) ;\n",
"x = P * n * 10^-6 ;\n",
"printf('\n    (2)\n          Pressure = %d MPa \n\n', x )\n",
"\n",
"//Solution (c)\n",
"y1 = 0.4 ;\n",
"y2 = 1 - y1 ;\n",
"n = 50 ;\n",
"P_c = 48.7 * 10^5 ;//[N/m^2]\n",
"T_c = 305.5 ; //[K]\n",
"a1 = a ;\n",
"b1 = b ;\n",
"a2 = 0.42748 * R^2 * T_c^2.5 / P_c ;\n",
"b2 = 0.08664 * R * T_c / P_c ;\n",
"\n",
"a_mix = y1^2 * a1 + 2 * y1 * y2 * sqrt(a1 * a2) + y2^2 * a2 ;\n",
"b_mix = y1 * b1 + y2 * b2 ;\n",
"P = R * T / (v - b_mix) - a_mix /(T^0.5 * v * (v + b_mix));\n",
"x = P * n * 10^-6 ;\n",
"\n",
"printf('\n    (3)\n          Pressure = %.2f MPa \n\n', x )"
   ]
   }
,
{
		   "cell_type": "markdown",
		   "metadata": {},
		   "source": [
			"## Example 4.1: Example_4_1.sce"
		   ]
		  },
  {
"cell_type": "code",
	   "execution_count": null,
	   "metadata": {
	    "collapsed": true
	   },
	   "outputs": [],
"source": [
"//Engineering and Chemical Thermodynamics\n",
"//Example 4.1\n",
"//Page no :175\n",
"\n",
"clear ; clc ;\n",
"//Let\n",
"H2O = 1 ;\n",
"NH3 = 2 ;\n",
"CH4 = 3 ;\n",
"CH3Cl = 4 ;\n",
"CCl4 = 5 ;\n",
"\n",
"M_11 = 1.85 ; alp_12 = 14.80 ;  I_13 = 12.62 ;\n",
"M_12 = 1.47 ; alp_22 = 22.20 ;  I_23 = 10.07 ;\n",
"M_31 = 0.00 ;    alp_32 = 26.00 ;    I_33 = 12.61 ;\n",
"M_41 = 1.87 ; alp_42 = 45.30 ;  I_43 = 11.26 ; \n",
"M_51 = 0.00 ;    alp_52 = 105.0 ;   I_53 = 11.47 ;\n",
"\n",
"k =1.38 * 10^-16 ; //[ J/K]\n",
"T = 298 ; //[K]\n",
"A =[M_11 , alp_12 , I_13;\n",
"M_12 , alp_22 , I_23  ;\n",
"M_31 , alp_32 , I_33  ;\n",
"M_41 , alp_42 , I_43  ; \n",
"M_51 , alp_52 , I_53  ;] ;\n",
"disp(' Example: 4.1   Page no : 175') ;\n",
"disp(' Molecule       M       alp*10^25        I          C*10^60      Cd_d      Cind     Cdis') ;\n",
"for i=1:5\n",
"    A(i,5) = ceil( 2/3 * A(i,1)^4 / (k * T) * 10^-12) ;\n",
"    A(i,6) = ceil(2 * A(i,2) * A(i,1)^2 * 10^-1) ; \n",
"    A(i,7) = ceil(3/4 * A(i,2)^2 * A(i,3) * 1.6 * 10^-2) ;\n",
"    A(i,4) = ceil(A(i,5) +  A(i,6) +  A(i,7)) ; // ....E4.1D\n",
"end ;\n",
"\n",
"printf('    H2O          %.2f        %.1f         %.2f         %d            %d        %d        %d ',A(1,1),A(1,2),A(1,3),A(1,4),A(1,5),A(1,6),A(1,7)) ;\n",
"printf('\n    NH3          %.2f        %.1f         %.2f         %d              %d        %d        %d ',A(2,1),A(2,2),A(2,3),A(2,4),A(2,5),A(2,6),A(2,7)) ;\n",
"printf('\n    CH4          %.2f        %.1f         %.2f         %d                %d         %d       %d ',A(3,1),A(3,2),A(3,3),A(1,4),A(3,5),A(3,6),A(3,7)) ;\n",
"printf('\n   CH3Cl        %.2f        %.1f         %.2f         %d            %d        %d       %d ',A(4,1),A(4,2),A(4,3),A(4,4),A(4,5),A(4,6),A(4,7)) ;\n",
"printf('\n   CCl4          %.2f      %.1f         %.2f        %d               %d          %d     %d \n',A(5,1),A(5,2),A(5,3),A(5,4),A(5,5),A(5,6),A(5,7)) ;\n",
"\n",
"disp('       Even though it is non polar , CCl4 exhibit the largest intermolecular forces . It is due to the large polarizability accociated with the four Cl atom in CCl4 .') ;"
   ]
   }
,
{
		   "cell_type": "markdown",
		   "metadata": {},
		   "source": [
			"## Example 4.2: Example_4_2.sce"
		   ]
		  },
  {
"cell_type": "code",
	   "execution_count": null,
	   "metadata": {
	    "collapsed": true
	   },
	   "outputs": [],
"source": [
"//Engineering and Chemical Thermodynamics\n",
"//Example 4.2\n",
"//Page no :176\n",
"\n",
"clear ; clc ;\n",
"//Given //\n",
"C6_Ar_HCl_tab = 76 * 10^-60 ;//From table E4.2\n",
"C6_Ar_Ar_tab = 52 * 10^-60 ;//From table E4.2\n",
"C6_HCl_HCl_tab = 134 * 10^-60 ;//From table E4.2\n",
"\n",
"C6_Ar_HCl_gmean = sqrt(C6_Ar_Ar_tab * C6_HCl_HCl_tab) ; //[erg/cm^6]\n",
"x = (C6_Ar_HCl_gmean - C6_Ar_HCl_tab) / C6_Ar_HCl_tab * 100 ;\n",
"\n",
"disp(' Example: 4.2   Page no : 176') ;\n",
"printf('\n   The geometric mean is different from that in table E4.2 by %d %%',x)"
   ]
   }
,
{
		   "cell_type": "markdown",
		   "metadata": {},
		   "source": [
			"## Example 4.3: Example_4_3.sce"
		   ]
		  },
  {
"cell_type": "code",
	   "execution_count": null,
	   "metadata": {
	    "collapsed": true
	   },
	   "outputs": [],
"source": [
"//Engineering and Chemical Thermodynamics\n",
"//Example 4.3\n",
"//Page no :177\n",
"\n",
"clear ; clc ;\n",
"//The problem contains only theory . There is no numerical part involved. Users can go through the book to obtain the required expression.\n",
"\n",
"disp(' Example: 4.3   Page no : 177') ;\n",
"disp('     (C6)SiCl4 > (C6)CCl4 > (C6)CF4')"
   ]
   }
,
{
		   "cell_type": "markdown",
		   "metadata": {},
		   "source": [
			"## Example 4.4: Example_4_4.sce"
		   ]
		  },
  {
"cell_type": "code",
	   "execution_count": null,
	   "metadata": {
	    "collapsed": true
	   },
	   "outputs": [],
"source": [
"//Engineering and Chemical Thermodynamics\n",
"//Example 4.4\n",
"//Page no :185\n",
"\n",
"clear ; clc ;\n",
"//Given \n",
"Psat_wat_25 = 3.169 * 10^3 ;// From steam table\n",
"Psat_wat_50 = 1.235 * 10^4 ;// From steam table\n",
"Psat_wat_100 = 1.014 * 10^5 ;// From steam table\n",
"A =11.9673 ;\n",
"B = 3626.55 ;\n",
"C = -34.29 ;\n",
"T1 = 25 ; //[*C]\n",
"T2 = 50 ; //[*C]\n",
"T3 = 100 ; //[*C]\n",
"\n",
"M = [T1 , Psat_wat_25 ; T2 , Psat_wat_50 ; T3 , Psat_wat_100];\n",
"for i=1:3\n",
"    M(i,3) = exp(A - B / (M(i,1) + 273 + C)) * 10^5 ;\n",
"end\n",
"disp(' Example: 4.4   Page no : 185') ;\n",
"disp('  T(*C)   Water(Pa)   Methanol(Pa)') ;\n",
"disp(M);\n",
"\n",
"//Solution(1) :\n",
"printf('\n(1)\n     Water can form two hydrogen bonds . While CH4Oh can form only one . Thus at a given temperature , water has stronger attractive forces in the liquid and a lower vapour pressure .\n\n')\n",
"\n",
"//Solution(2):\n",
"printf('(2)\n      Since the Maxwell-Boltzmann distribution depends exponentially on temperature , Psat also increses exponentially with temperature .')"
   ]
   }
,
{
		   "cell_type": "markdown",
		   "metadata": {},
		   "source": [
			"## Example 4.5: Example_4_5.sce"
		   ]
		  },
  {
"cell_type": "code",
	   "execution_count": null,
	   "metadata": {
	    "collapsed": true
	   },
	   "outputs": [],
"source": [
"//Engineering and Chemical Thermodynamics\n",
"//Example 4.5\n",
"//Page no :189\n",
"\n",
"clear ; clc ;\n",
"//The problem contains only theory . There is no numerical part involved. Users can go through the book to obtain the required expression.\n",
"\n",
"disp(' Example: 4.5   Page no : 189') ;\n",
"disp(' (a)  a_SiCl3H > a_SiCl4 > a_CCl4 > a_CF4 ');\n",
"disp(' (b)  b_SiCl4 > b_CCl4 > b_SiCl3H > b_CF4 ');"
   ]
   }
,
{
		   "cell_type": "markdown",
		   "metadata": {},
		   "source": [
			"## Example 4.6: Example_4_6.sce"
		   ]
		  },
  {
"cell_type": "code",
	   "execution_count": null,
	   "metadata": {
	    "collapsed": true
	   },
	   "outputs": [],
"source": [
"//Engineering and Chemical Thermodynamics\n",
"//Example 4.6\n",
"//Page no :190\n",
"\n",
"clear ; clc ;\n",
"//Given \n",
"Pc_B = 49.1 ; // [bar] , From table\n",
"Pc_T = 42.0 ; // [bar] , From table\n",
"Pc_C = 40.4 ; // [bar] , From table\n",
"Tc_B = 562 ; // [K] , From table\n",
"Tc_T = 594 ; // [K] , From table \n",
"Tc_C = 553 ; // [K] , From table\n",
"R = 8.314 ;\n",
"\n",
"A = [Pc_B , Tc_B ; Pc_T , Tc_T ; Pc_C , Tc_C];\n",
"for i=1:3\n",
"    A(i,3) = 27/64 * (R * A(i,2))^2 /( A(i,1) * 10^5) ;\n",
"    A(i,4) = R * A(i,2) / (8 * A(i,1) * 10^5) ;\n",
"end\n",
"disp(' Example: 4.6   Page no : 190') ;\n",
"disp('   P_c     T_c        a                    b ') ;\n",
"disp(A) ;\n",
"disp('                     The attractive interactions of all three compounds are dominated by dispersion interactions ( parameter a) , while size affects parameter b .')"
   ]
   }
,
{
		   "cell_type": "markdown",
		   "metadata": {},
		   "source": [
			"## Example 4.7: Example_4_7.sce"
		   ]
		  },
  {
"cell_type": "code",
	   "execution_count": null,
	   "metadata": {
	    "collapsed": true
	   },
	   "outputs": [],
"source": [
"//Engineering and Chemical Thermodynamics\n",
"//Example 4.7\n",
"//Page no :191\n",
"\n",
"clear ; clc ;\n",
"disp('  Example: 4.7   Page no : 191') ;\n",
"disp('           The problem contains only theory and different substitutions.There is no numerical part involved. Users can go through the book to obtain the required expression.')"
   ]
   }
,
{
		   "cell_type": "markdown",
		   "metadata": {},
		   "source": [
			"## Example 4.8: Example_4_8.sce"
		   ]
		  },
  {
"cell_type": "code",
	   "execution_count": null,
	   "metadata": {
	    "collapsed": true
	   },
	   "outputs": [],
"source": [
"//Engineering and Chemical Thermodynamics\n",
"//Example 4.8\n",
"//Page no :197 \n",
"\n",
"clear ; clc ;\n",
"//Given\n",
"B = 0.0486 * 10^-3 ;\n",
"T1 = 20 + 273 ; //[K]\n",
"T2 = 500 + 273 ; //[K]\n",
"v1 = 7.11 ; // [cm^3/mol]\n",
"\n",
"v2 = v1 * exp( B * (T2 - T1)) ;\n",
"disp(' Example: 4.8   Page no : 197') ;\n",
"printf('\n     Molar volume of solid state 2 = %.2f cm^3/mol', v2);"
   ]
   }
,
{
		   "cell_type": "markdown",
		   "metadata": {},
		   "source": [
			"## Example 4.9: Example_4_9.sce"
		   ]
		  },
  {
"cell_type": "code",
	   "execution_count": null,
	   "metadata": {
	    "collapsed": true
	   },
	   "outputs": [],
"source": [
"//Engineering and Chemical Thermodynamics\n",
"//Example 4.9\n",
"//Page no :199\n",
"\n",
"clear ; clc ;\n",
"//Given \n",
"P_c = 37.9 * 10^5 ;//[N/m^2] , From compressibility chart\n",
"T_c = 425.2 ;// [K , From compressibility chart\n",
"P = 50 * 10^5 ; //N/m^2]\n",
"T = 333.2 ;//[K]\n",
"R = 8.314 ;\n",
"z_0 = 0.2148 ; // Using interpolation from table C.1 and C.2\n",
"z_1 = -0.0855 ; // Using interpolation from table C.1 and C.2\n",
"w = 0.199 ;\n",
"m = 10 ;\n",
"MW = 0.05812 ;\n",
"\n",
"// Using Redlich Kwong equation\n",
"a = (0.42748 * R^2 * T_c^2.5) / P_c ;\n",
"b = 0.08664 * R * T_c / P_c ;\n",
"A = P * T^(1/2) ;\n",
"B = -R * T^(3/2) ;\n",
"C = (a - P * T^(1/2) * b^2 - R * T^(3/2)*b) ;\n",
"D = - a * b;\n",
"\n",
"mycoeff = [ D , C , B , A] ;\n",
"p = poly(mycoeff , 'v' , 'coeff' ); \n",
"M = roots(p);\n",
"\n",
"disp(' Example: 4.9   Page no : 199') ;\n",
"for i = 1:3\n",
"    sign(M(i,1)) ;\n",
"        if ans == 1 then\n",
"          V = m / MW *(M(i,1)) ;\n",
"          printf('\n       Using Redlich Kwong equation the volume is = %.3f m^3\n\n',V)\n",
"        end\n",
"end\n",
"\n",
"// Using compressibility chart\n",
"z = z_0 + w * z_1 ; \n",
"v = z * R * T / P ;\n",
"V = m / MW * v ;\n",
"          printf('       Using compressibility chart the volume is = %.3f m^3\n\n',V)"
   ]
   }
],
"metadata": {
		  "kernelspec": {
		   "display_name": "Scilab",
		   "language": "scilab",
		   "name": "scilab"
		  },
		  "language_info": {
		   "file_extension": ".sce",
		   "help_links": [
			{
			 "text": "MetaKernel Magics",
			 "url": "https://github.com/calysto/metakernel/blob/master/metakernel/magics/README.md"
			}
		   ],
		   "mimetype": "text/x-octave",
		   "name": "scilab",
		   "version": "0.7.1"
		  }
		 },
		 "nbformat": 4,
		 "nbformat_minor": 0
}
