{
"cells": [
 {
		   "cell_type": "markdown",
	   "metadata": {},
	   "source": [
       "# Chapter 5: The thermodynamic web"
	   ]
	},
{
		   "cell_type": "markdown",
		   "metadata": {},
		   "source": [
			"## Example 5.1: Example_5_1.sce"
		   ]
		  },
  {
"cell_type": "code",
	   "execution_count": null,
	   "metadata": {
	    "collapsed": true
	   },
	   "outputs": [],
"source": [
"//Engineering and Chemical Thermodynamics\n",
"//Example 5.1\n",
"//Page no :218\n",
"\n",
"clear ; clc ;\n",
"disp('  Example: 5.1   Page no : 218') ;\n",
"disp('           The problem contains only theory and different substitutions.There is no numerical part involved. Users can go through the book to obtain the required expression.')"
   ]
   }
,
{
		   "cell_type": "markdown",
		   "metadata": {},
		   "source": [
			"## Example 5.2: Example_5_2.sce"
		   ]
		  },
  {
"cell_type": "code",
	   "execution_count": null,
	   "metadata": {
	    "collapsed": true
	   },
	   "outputs": [],
"source": [
"//Engineering and Chemical Thermodynamics\n",
"//Example 5.2\n",
"//Page no :222\n",
"\n",
"clear ; clc ;\n",
"//Given \n",
"T_c = 370 ; //[K]\n",
"P_c = 41.58 * 10^5 ;//[N/m^2]\n",
"R = 8.314 ;\n",
"V1 = 0.001 ;//[m^3]\n",
"V2 = 0.04 ; //[m^3]\n",
"q = 600 ; //[J]\n",
"\n",
"a = 27/64 * (R ^2)*(T_c)^2 / P_c ;\n",
"//Using E5.2D , E5.2E in E5.2C \n",
"del_U = -0.96 * (1 / V2 - 1 / V1) ; \n",
"W = del_U - q ;\n",
"\n",
"disp(' Example: 5.2   Page no : 222') ;\n",
"printf('\n     Work done for the expansion = %g J/mol',W) ;"
   ]
   }
,
{
		   "cell_type": "markdown",
		   "metadata": {},
		   "source": [
			"## Example 5.3: Example_5_3.sce"
		   ]
		  },
  {
"cell_type": "code",
	   "execution_count": null,
	   "metadata": {
	    "collapsed": true
	   },
	   "outputs": [],
"source": [
"//Engineering and Chemical Thermodynamics\n",
"//Example 5.3\n",
"//Page no :223\n",
"\n",
"clear ; clc \n",
"disp('  Example: 5.3   Page no : 223') ;\n",
"disp('           The problem contains only theory and different substitutions.There is no numerical part involved. Users can go through the book to obtain the required expression.') ;"
   ]
   }
,
{
		   "cell_type": "markdown",
		   "metadata": {},
		   "source": [
			"## Example 5.4: Example_5_4.sce"
		   ]
		  },
  {
"cell_type": "code",
	   "execution_count": null,
	   "metadata": {
	    "collapsed": true
	   },
	   "outputs": [],
"source": [
"//Engineering and Chemical Thermodynamics\n",
"//Example 5.4\n",
"//Page no :225\n",
"\n",
"clear ; clc ;\n",
"//Given\n",
"P_1 = 9.43 * 10^5 ; //[N/m^2]\n",
"P_2 = 18.9 * 10^5 ; //[N/m^2]\n",
"T_1 = 80 + 273 ; //[K]\n",
"T_2 = 120 + 273 ; //[K]\n",
"A = 1.935 ;\n",
"B = 36.915 * 10^-3 ;\n",
"C = -11.402 * 10^-6 ;\n",
"T_c = 425.2 ; // [K]\n",
"P_c = 37.9 * 10^5 ;//[N/m^2]\n",
"R = 8.314 ;\n",
"del_h_1 = 1368 ; //[J/mol]\n",
"del_h_3 = -2542 ; //[J/mol]\n",
"Ws = 2100 ; //[J/mol]\n",
"\n",
"a = 0.42748 * R^2 * T_c^2.5 / P_c ;\n",
"b = 0.08664 * R * T_c / P_c ;\n",
" \n",
"\n",
"  function y = f1 (v) , y  = R * T_1 / (v - b) - a / (sqrt(T_1) * v *(v + b)) - P_1;\n",
"  endfunction ;\n",
"za=  fsolve([0.001] , f1) ;\n",
"\n",
"  function y = f2 (v) , y  = R * T_2 / (v - b) - a / (sqrt(T_2) * v *(v + b)) - P_2;\n",
"  endfunction ;\n",
" zb=  fsolve([0.001] , f2) ;\n",
"\n",
"   function y = f(T), \n",
"       y = R * ( A * T + B/2 * T^2 + C/3 * T^3) ;\n",
"   endfunction ;\n",
"\n",
"del_h_2 = f(T_2) - f(T_1) ;\n",
"del_h_total = del_h_1 + del_h_2 + del_h_3 ;\n",
"q = del_h_total - Ws ;\n",
"\n",
"\n",
"disp(' Example: 5.4   Page no : 225') ;\n",
"printf('\n          v1 = %f m^3/mol\n          v2 = %f m^3/mol',za ,zb ) ;\n",
"printf('\n\n     The heat input = %g J/mol',ceil(q));"
   ]
   }
,
{
		   "cell_type": "markdown",
		   "metadata": {},
		   "source": [
			"## Example 5.5: Example_5_5.sce"
		   ]
		  },
  {
"cell_type": "code",
	   "execution_count": null,
	   "metadata": {
	    "collapsed": true
	   },
	   "outputs": [],
"source": [
"//Engineering and Chemical Thermodynamics\n",
"//Example 5.5\n",
"//Page no :234\n",
"\n",
"clear ; clc ;\n",
"//Given\n",
"T_c = 425.2 ; //[K] ,From Appendix A.1\n",
"P_c = 37.9 * 10^5 ; //[N/m^2] ,From Appendix A.1\n",
"w = 0.199 ;// From Appendix A.1\n",
"A = 1.935 ; \n",
"B = 36.915 * 10^-3 ;\n",
"C = -11.402 * 10^-6 ;\n",
"Ws = 2100 ; //[J/mol]\n",
"T1 = 353.15 ;//[K]\n",
"T2 = 393.15 ;//[K]\n",
"P1 =7.47 * 10^5 ;//[N/m^2] \n",
"P2 = 18.9 * 10^5 ; //[N/m^2]\n",
"R = 8.314 ;\n",
"enth_dep1_0 = -0.413 ;// Table C.3,C.4 in Appendix C\n",
"enth_dep1_1 = -0.622 ;// Table C.3,C.4 in Appendix C\n",
"enth_dep1 = enth_dep1_0 + w * enth_dep1_1 ;//....E5.5B\n",
"enth_dep2_0 = -0.771 ;// Table C.3,C.4 in Appendix C \n",
"enth_dep2_1 = -0.994 ;// Table C.3,C.4 in Appendix C\n",
"enth_dep2 = enth_dep2_0 + w * enth_dep2_1 ;//....E5.5C\n",
"\n",
"T1_r = T1 / T_c ;\n",
"P1_r = P1 / P_c ;\n",
"T2_r = T2 / T_c ;\n",
"P2_r = P2 / P_c ;\n",
"\n",
"function y=f(T) , y = R * (A * T + B/2 * T^2 + C/3 * T^3)\n",
"endfunction\n",
"del_h = f(T2) - f(T1) ;//.....E5.5D\n",
"\n",
"Del_h = -enth_dep1 * R * T_c + del_h + enth_dep2 * R * T_c ;\n",
"q = Del_h - Ws ;\n",
"\n",
"disp(' Example: 5.5   Page no : 235') ;\n",
"printf('\n     Heat input = %d J/mol',q)"
   ]
   }
,
{
		   "cell_type": "markdown",
		   "metadata": {},
		   "source": [
			"## Example 5.6: Example_5_6.sce"
		   ]
		  },
  {
"cell_type": "code",
	   "execution_count": null,
	   "metadata": {
	    "collapsed": true
	   },
	   "outputs": [],
"source": [
"//Engineering and Chemical Thermodynamics\n",
"//Example 5.6\n",
"//Page no :237\n",
"\n",
"clear ; clc ;\n",
"disp('  Example: 5.6   Page no : 237') ;\n",
"disp('           The problem contains only theory and different substitutions.There is no numerical part involved. Users can go through the book to obtain the required expression.')"
   ]
   }
,
{
		   "cell_type": "markdown",
		   "metadata": {},
		   "source": [
			"## Example 5.7: Example_5_7.sce"
		   ]
		  },
  {
"cell_type": "code",
	   "execution_count": null,
	   "metadata": {
	    "collapsed": true
	   },
	   "outputs": [],
"source": [
"//Engineering and Chemical Thermodynamics\n",
"//Example 5.7\n",
"//Page no :239\n",
"\n",
"clear ; clc ;\n",
"disp('  Example: 5.7   Page no :239') ;\n",
"disp('           The problem contains only theory and different substitutions.There is no numerical part involved. Users can go through the book to obtain the required expression.')"
   ]
   }
,
{
		   "cell_type": "markdown",
		   "metadata": {},
		   "source": [
			"## Example 5.8: Example_5_8.sce"
		   ]
		  },
  {
"cell_type": "code",
	   "execution_count": null,
	   "metadata": {
	    "collapsed": true
	   },
	   "outputs": [],
"source": [
"//Engineering and Chemical Thermodynamics\n",
"//Example 5.8\n",
"//Page no :241\n",
"\n",
"clear ; clc ;\n",
"//Given \n",
"T_c = 126.2 ; //[K] , From appendix A.1\n",
"P_c = 33.8 * 10^5 ; //[N/m^2] , From appendix A.1\n",
"w = 0.039 ;// From appendix A.1\n",
"enth_dep_1 = -2.81 ; // From table C.1 Appendix C\n",
"A = 3.28 ;// From Appendix A.2\n",
"B = 0.593 * 10^-3 ;// From Appendix A.2\n",
"del_h_dep_l = -5.1 ; \n",
"del_h_dep_v = -0.1 ;\n",
"T1 = 151 ; //[K]\n",
"P1 = 100 * 10^5 ; //[N/m^2]\n",
"P2 = 1 * 10^5 ; //[N/m^2]\n",
"T2_r = 0.61 ; // From figure 5.4\n",
"T1_r = T1 / T_c ;\n",
"P1_r = P1 / P_c ;\n",
"P2_r = P2 / P_c ;\n",
"\n",
"T2 = T2_r * T_c ; //[K]\n",
"function y=f(T),y = A * T + B/2 * T^2 \n",
"endfunction\n",
"x = 1 / T_c *(f(T2) - f(T1)) ;\n",
"\n",
"y = enth_dep_1 - x ;\n",
"\n",
"disp(' Example: 5.8   Page no : 241') ;\n",
"disp(y)\n",
"X = ( y - del_h_dep_l) / (del_h_dep_v - del_h_dep_l);\n",
"printf('\n   Quality = %.2f',X) ;"
   ]
   }
],
"metadata": {
		  "kernelspec": {
		   "display_name": "Scilab",
		   "language": "scilab",
		   "name": "scilab"
		  },
		  "language_info": {
		   "file_extension": ".sce",
		   "help_links": [
			{
			 "text": "MetaKernel Magics",
			 "url": "https://github.com/calysto/metakernel/blob/master/metakernel/magics/README.md"
			}
		   ],
		   "mimetype": "text/x-octave",
		   "name": "scilab",
		   "version": "0.7.1"
		  }
		 },
		 "nbformat": 4,
		 "nbformat_minor": 0
}
