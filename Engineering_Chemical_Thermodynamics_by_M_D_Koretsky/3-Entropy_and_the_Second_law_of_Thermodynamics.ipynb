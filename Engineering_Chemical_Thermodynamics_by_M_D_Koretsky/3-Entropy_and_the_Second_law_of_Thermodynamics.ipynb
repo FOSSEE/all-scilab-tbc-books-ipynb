{
"cells": [
 {
		   "cell_type": "markdown",
	   "metadata": {},
	   "source": [
       "# Chapter 3: Entropy and the Second law of Thermodynamics"
	   ]
	},
{
		   "cell_type": "markdown",
		   "metadata": {},
		   "source": [
			"## Example 3.10: Example_3_10.sce"
		   ]
		  },
  {
"cell_type": "code",
	   "execution_count": null,
	   "metadata": {
	    "collapsed": true
	   },
	   "outputs": [],
"source": [
"//Engineering and Chemical Thermodynamics\n",
"//Example 3.10:\n",
"//Page no:131\n",
"\n",
"clear ; clc ;\n",
"disp(' Example: 3.10   Page no : 131') ;\n",
"disp('           The problem contains only theory and different substitutions.There is no numerical part involved. Users can go through the book to obtain the required expression.') ;"
   ]
   }
,
{
		   "cell_type": "markdown",
		   "metadata": {},
		   "source": [
			"## Example 3.11: Example_3_11.sce"
		   ]
		  },
  {
"cell_type": "code",
	   "execution_count": null,
	   "metadata": {
	    "collapsed": true
	   },
	   "outputs": [],
"source": [
"//Engineering and Chemical Thermodynamics\n",
"//Example 3.11\n",
"//Page no:131\n",
"\n",
"clear ; clc ;\n",
"P_1 = 10 ; //[bar]\n",
"T_1 = 298 ; // [K]\n",
"P_2 = 1 ; //[bar]\n",
"T_2 = 298 ; // [K]\n",
"P_3 = 1 ; //[bar]\n",
"R = 8.314 ; // [J/mol K]\n",
"n = 4 ; //[mol]\n",
"X = 0.01 ;\n",
"\n",
"//Step 1 :\n",
"del_S_sys = - R * log(P_2 / P_1);\n",
"del_S_surr = - R * (1 - P_2 / P_1) ;\n",
"del_s_univ_1 = del_S_sys + del_S_surr ; \n",
"Del_S_univ_1 = n * del_s_univ_1 ;\n",
"\n",
"//Step 2 :\n",
"Del_S_univ_2 = 0 ;\n",
"n_3 = n * P_3 / P_1 ;\n",
"\n",
"//Step 3 :\n",
"n_out = n - n_3 ;\n",
"del_S_sys_3 = - n_out * R * log(X) ;\n",
"Del_S_univ_3 = del_S_sys_3 ; // Assuming the composition of air in the room does not noticeably change by the dilute addition of argon\n",
"Del_S_univ = Del_S_univ_1 + Del_S_univ_2 + Del_S_univ_3 ;\n",
"\n",
"disp(' Example: 3.11   Page no : 131') ;\n",
"printf('\n       Total entropy change of universe = %.2f J/K \n\n',Del_S_univ) ;\n",
"disp('       No matter how slow the leak , the driving force for the expansion is finite . So the process canot be reverssible .')"
   ]
   }
,
{
		   "cell_type": "markdown",
		   "metadata": {},
		   "source": [
			"## Example 3.12: Example_3_12.sce"
		   ]
		  },
  {
"cell_type": "code",
	   "execution_count": null,
	   "metadata": {
	    "collapsed": true
	   },
	   "outputs": [],
"source": [
"//Engineering and Chemical Thermodynamics\n",
"// Example 3.12\n",
"//Page no:136\n",
"\n",
"clear ; clc ;\n",
"//Given \n",
"n_dot = 250 ; // [mol/s]\n",
"P_1 = 125 * 10^5 ; // [N/m^2]\n",
"V_cap_1 = 5 * 10^-4 ; // [m^3/mol]\n",
"P_2 = 8 * 10^5 ; // [N/m^2]\n",
"\n",
"X = 3 * P_1^0.6667 * V_cap_1 * ( P_2^(1/3) - P_1^(1/3)) ;\n",
"W_dot_s = n_dot * X * 10^-6 ;\n",
"\n",
"disp(' Example: 3.12   Page no : 136') ;\n",
"printf('\n     Power generated = %.1f MW',W_dot_s) ;"
   ]
   }
,
{
		   "cell_type": "markdown",
		   "metadata": {},
		   "source": [
			"## Example 3.13: Example_3_13.sce"
		   ]
		  },
  {
"cell_type": "code",
	   "execution_count": null,
	   "metadata": {
	    "collapsed": true
	   },
	   "outputs": [],
"source": [
"//Engineering and Chemical Thermodynamics\n",
"// Example 3.13\n",
"//Page no:137\n",
"\n",
"clear ; clc ;\n",
"//Given \n",
"Ws_real = -2.1 ; //[MW]\n",
"Ws_rev = -2.8 ; // [MW]\n",
"n_tur = Ws_real / Ws_rev ;\n",
"disp(' Example: 3.13   Page no : 137') ;\n",
"printf('\n     Isentropic efficiency of turbine = %.2f %%', n_tur * 100);"
   ]
   }
,
{
		   "cell_type": "markdown",
		   "metadata": {},
		   "source": [
			"## Example 3.14: Example_3_14.sce"
		   ]
		  },
  {
"cell_type": "code",
	   "execution_count": null,
	   "metadata": {
	    "collapsed": true
	   },
	   "outputs": [],
"source": [
"//Engineering and Chemical Thermodynamics\n",
"//Example 3.14\n",
"//Page no:140\n",
"\n",
"clear ; clc ;\n",
"//Given \n",
"P_1 = 10 * 10^6 ; // [N/m^2]\n",
"T_1 = 600 + 273 ; //[K]\n",
"T_H = T_1 ;\n",
"T_C = 100 + 273 ; //[K]\n",
"P_3 = 10 * 10^4 ; //[N/m^2]\n",
"P_4 = P_1 ;\n",
"h_cap_1 = 3625.3 ; // [kJ/kg],From steam table\n",
"S_cap_1 = 6.9028 ; //[kJ/kgK],From steam table\n",
"S_cap_2 = S_cap_1 ; //[kJ/kgK],From steam table\n",
"S_cap_v = 7.3593 ; //[kJ/kgK],From steam table\n",
"S_cap_l = 1.3025 ; //[kJ/kgK],From steam table\n",
"h_cap_l = 417.44 ;// [kJ/kg],From steam table\n",
"h_cap_v = 2675.5 ;// [kJ/kg],From steam table\n",
"V_cap_l = 10^-3 ; // [m^3/kg],From steam table\n",
"\n",
"X = (S_cap_2 - S_cap_l) / (S_cap_v - S_cap_l);\n",
"h_cap_2 = (1 - X) * h_cap_l + X * h_cap_v ;\n",
"W_cap_s = h_cap_2 - h_cap_1 ;\n",
"h_cap_3 = h_cap_l ;\n",
"\n",
"W_cap_c = V_cap_l * (P_4 - P_3) * 10^-3 ;\n",
"h_cap_4 = h_cap_3 + W_cap_c ;\n",
"W_net = W_cap_s + W_cap_c ; // [kJ/kg]\n",
"\n",
"n_turb = ( -W_cap_s - W_cap_c) / (h_cap_1 - h_cap_4) ;\n",
"disp(' Example: 3.14   Page no : 140') ;\n",
"printf('\n    Efficiency of the Rankine cycle = %.3f %% \n\n',n_turb * 100 );\n",
"\n",
"n_carnot = 1 - T_C / T_H ;\n",
"printf('    Efficiency of the Carnot cycle = %.3f %%\n\n',n_carnot * 100);\n",
"\n",
"disp('   The Rankine efficiecy is lower than Carnot efficiency .')\n",
""
   ]
   }
,
{
		   "cell_type": "markdown",
		   "metadata": {},
		   "source": [
			"## Example 3.15: Example_3_15.sce"
		   ]
		  },
  {
"cell_type": "code",
	   "execution_count": null,
	   "metadata": {
	    "collapsed": true
	   },
	   "outputs": [],
"source": [
"//Engineering and Chemical Thermodynamics\n",
"//Example 3.15\n",
"//Page no:141\n",
"\n",
"clear ; clc ;\n",
"//Given \n",
"n_turb = 0.85 ;\n",
"n_comp = 0.85 ;\n",
"W_cap_s_rev = -1120 ; //[kJ/kg]\n",
"h_cap_1 = 3625.3 ; //[kJ/kg]\n",
"h_cap_l = 417.44 ; //[kJ/kg]\n",
"W_cap_c_rev = 9.9 ; //[kJ/kg]\n",
"\n",
"W_cap_s_act = n_turb * W_cap_s_rev ;\n",
"h_cap_2_act = W_cap_s_act + h_cap_1 ;\n",
"h_cap_3 = h_cap_l ;\n",
"W_cap_c_act = W_cap_c_rev / n_comp ;\n",
"h_cap_4_act = W_cap_c_act + h_cap_3 ;\n",
"W_cap_net = W_cap_s_act + W_cap_c_act ;\n",
"n_rank_act = (-W_cap_s_act - W_cap_c_act) / (h_cap_1 - h_cap_4_act) ;\n",
"\n",
"disp(' Example: 3.15   Page no : 141') ;\n",
"printf('\n         W_cap_net = %.1f kJ/kg',W_cap_net) ;\n",
"printf('\n      Efficiency of Rankine cycle = %.3f %%',n_rank_act*100) ;"
   ]
   }
,
{
		   "cell_type": "markdown",
		   "metadata": {},
		   "source": [
			"## Example 3.16: Example_3_16.sce"
		   ]
		  },
  {
"cell_type": "code",
	   "execution_count": null,
	   "metadata": {
	    "collapsed": true
	   },
	   "outputs": [],
"source": [
"//Engineering and Chemical Thermodynamics\n",
"// Example 3.16\n",
"//Page no:144\n",
"\n",
"clear ; clc ;\n",
"//Given\n",
"P_1 = 120 * 10^3 ; //[N]\n",
"P_2 = 900 * 10^3 ; //[N]\n",
"h_4 = 25.486 ; //[kJ/mol], From table\n",
"h_1 = h_4 ;\n",
"h_2 = 39.295 ; //[kJ/mol], From table\n",
"S_2 = 177.89 ;  //[kJ/molK], From table\n",
"S_3 = S_2 ;  //[kJ/mol]\n",
"h_3 = 43.578 ; //[kJ/mol] , Enthalpy corresponding to S3 value which     equales to S2\n",
"Q_dot_c_des = 10 ; //[kW]\n",
"\n",
"q_c = h_2 - h_1 ;\n",
"Q_dot_c = h_2 - h_1 ;\n",
"W_dot_c = h_3 - h_2 ;\n",
"\n",
"COP = Q_dot_c / W_dot_c ;\n",
"n_dot = Q_dot_c_des / q_c ;\n",
"disp(' Example: 3.16   Page no : 144') ;\n",
"printf('\n     COP of the refrigerator is = %.2f \n\n     Mass flow rate needed = %.3f mol/s',COP,n_dot)"
   ]
   }
,
{
		   "cell_type": "markdown",
		   "metadata": {},
		   "source": [
			"## Example 3.17: Example_3_17.sce"
		   ]
		  },
  {
"cell_type": "code",
	   "execution_count": null,
	   "metadata": {
	    "collapsed": true
	   },
	   "outputs": [],
"source": [
"//Engineering and Chemical Thermodynamics\n",
"// Example 3.17\n",
"//Page no :151\n",
"\n",
"clear ; clc ;\n",
"disp('  Example: 3.17   Page no : 151') ;\n",
"disp('           The problem contains only theory and different substitutions.There is no numerical part involved .')\n",
"\n",
"// Del_S_magnetization > 0 ;\n",
"// Del_S_magnetization + Del_S_temperature = 0 ; therefore\n",
"// Del_S_temperature < 0 ;\n",
"// i.e.   T2 < T1 ;"
   ]
   }
,
{
		   "cell_type": "markdown",
		   "metadata": {},
		   "source": [
			"## Example 3.2: Example_3_2.sce"
		   ]
		  },
  {
"cell_type": "code",
	   "execution_count": null,
	   "metadata": {
	    "collapsed": true
	   },
	   "outputs": [],
"source": [
"//Engineering and Chemical Thermodynamics\n",
"//Example 3.2\n",
"//Page no : 119\n",
"\n",
"//Solution(a)\n",
"clear ; clc ; \n",
"//Given \n",
"del_U = 0 ; // As no work or heat transfered across its boundaries during the process \n",
"T_1 = 500 ; // [K]\n",
"V1 = 1.6682 / 2 * 10^-3; // [m^3]\n",
"V2 = 2 * V1 ; \n",
"del_S_sur = 0 ; // As no heat transfered across its boundaries during the process \n",
"disp(' Example 3.2   Page no : 119')\n",
"disp('(a)');\n",
"disp('  For an ideal gas u = u(T only)') ; \n",
"printf('\n   Final temperature = %g K \n\n',T_1);\n",
"\n",
"//Solution(b)\n",
"q_rev = 8.314 * T_1 * log(V2/V1) ;\n",
"del_S_sys = q_rev / T_1 ;\n",
"del_S_univ = del_S_sys + del_S_sur ;\n",
"printf('(b)\n\n  Entropy change for universe = %.2f J/(molK)',del_S_univ);"
   ]
   }
,
{
		   "cell_type": "markdown",
		   "metadata": {},
		   "source": [
			"## Example 3.3: Example_3_3.sce"
		   ]
		  },
  {
"cell_type": "code",
	   "execution_count": null,
	   "metadata": {
	    "collapsed": true
	   },
	   "outputs": [],
"source": [
"//Engineering and Chemical Thermodynamics\n",
"//Example 3.3\n",
"//Page no:121\n",
"\n",
"clear  ; clc ;\n",
"// Given \n",
"T_1_1 = 273 ;// {K}\n",
"T_1_2 = 373 ; //[K]\n",
"Cp = 24.5 ; // [J/molK]\n",
"del_S_sur = 0 ; //Since the system is isolated \n",
"T2 = (T_1_1 + T_1_2)/2 ;\n",
"del_S = Cp / 2 * log(T2^2 / (T_1_1 * T_1_2)) ;\n",
"\n",
"disp(' Example 3.3   Page no : 121') ;\n",
"printf('\n     Entropy change for the system = %.2f J/(mol K)', del_S);"
   ]
   }
,
{
		   "cell_type": "markdown",
		   "metadata": {},
		   "source": [
			"## Example 3.4: Example_3_4.sce"
		   ]
		  },
  {
"cell_type": "code",
	   "execution_count": null,
	   "metadata": {
	    "collapsed": true
	   },
	   "outputs": [],
"source": [
"//Engineering and Chemical Thermodynamics\n",
"// Example 3.4\n",
"//Page no : 122\n",
"\n",
"clear ; clc ;\n",
"//Given \n",
"del_h_vap = 38.56 * 10^3 ; //[J/mol] , From Table \n",
"Tb = 78.2 + 273 ; //[K] ,From table\n",
"\n",
"del_S = - del_h_vap / Tb * 10^-3 ;\n",
"disp(' Example 3.4   Page no : 122') ;\n",
"printf('\n    Change in entropy = %.4f kJ/mol K',del_S);"
   ]
   }
,
{
		   "cell_type": "markdown",
		   "metadata": {},
		   "source": [
			"## Example 3.5: Example_3_5.sce"
		   ]
		  },
  {
"cell_type": "code",
	   "execution_count": null,
	   "metadata": {
	    "collapsed": true
	   },
	   "outputs": [],
"source": [
"//Engineering and Chemical Thermodynamics\n",
"//Example 3.5\n",
"//Page no:124\n",
"\n",
"clear ; clc ;\n",
"//Given \n",
"P_1 = 300 * 10^3 ; //[N/m^2]\n",
"T_1 = 700 ; // [*C]\n",
"V_bar_1 = 20 ; //[m/s]\n",
"P_2 = 200 * 10^3 ; // [N/m^2]\n",
"h_cap_1 = 3927.1 * 10^3 ; // [J/kg] , From table\n",
"S_cap_1 = 8.8319 ; // [kJ/kgK] , From table\n",
"\n",
"S_cap_2 = S_cap_1 ; // Reverssible adiabatic process \n",
"T2 = 623 ; // [*C] ,From table by interpolation\n",
"h_cap_2 = 3754.7 * 10^3 ; // [J/kgK] ,From table by interpolation\n",
"V_bar_2 = sqrt(2 * (h_cap_1 - h_cap_2) + V_bar_1^2) ; \n",
"disp(' Example: 3.5   Page no : 124') ;\n",
"printf('\n   The final temperature is %g C and the exit velocity is %g m/s',T2,V_bar_2);"
   ]
   }
,
{
		   "cell_type": "markdown",
		   "metadata": {},
		   "source": [
			"## Example 3.6: Example_3_6.sce"
		   ]
		  },
  {
"cell_type": "code",
	   "execution_count": null,
	   "metadata": {
	    "collapsed": true
	   },
	   "outputs": [],
"source": [
"//Engineering and Chemical Thermodynamics\n",
"//Example 3.6\n",
"//Page no:125\n",
"\n",
"clear ; clc ;\n",
"//Given \n",
"m_dot_1 = 10 ; // [kg/s]\n",
"m_dot_2 = 1.95 ; // [kg/s]\n",
"P_1 = 200 * 10^5 ; //[N/m^2]\n",
"T_1 = 500 ; //[*C]\n",
"P_2 = 100 * 10^5 ; // [N/m^2]\n",
"T_2 = 20 ; //[*C]\n",
"P_3 = 100 * 10^5 ; //[N/m^2]\n",
"S_cap_1 = 6.14 * 10^3 ; //[J/kgK] , From table\n",
"S_cap_2 = 0.2945 * 10^3 ; //[J/kgK] , From table\n",
"S_cap_3 = 5.614 * 10^3 ; //[J/kgK] , From table\n",
"\n",
"m_dot = m_dot_1 + m_dot_2 ;\n",
"dS_dt_univ = (m_dot * S_cap_3 -(m_dot_1 * S_cap_1 + m_dot_2 * S_cap_2)) * 10^-3;\n",
"disp(' Example: 3.6   Page no : 125') ;\n",
"printf('\n     Entropy generated = %.2f kW/K ',dS_dt_univ);"
   ]
   }
,
{
		   "cell_type": "markdown",
		   "metadata": {},
		   "source": [
			"## Example 3.7: Example_3_7.sce"
		   ]
		  },
  {
"cell_type": "code",
	   "execution_count": null,
	   "metadata": {
	    "collapsed": true
	   },
	   "outputs": [],
"source": [
"//Engineering and Chemical Thermodynamics\n",
"//Example3.7\n",
"//Page no:128\n",
"\n",
"//Solution:(a)\n",
"clear ; clc ;\n",
"//Given\n",
"V_1 = 0.5 ; //[m^3]\n",
"P_1 = 150 ; //[kPa]\n",
"T_1 = 20 + 273 ; //[K]\n",
"P_2 = 400 ; // [kPa]\n",
"Cp = 2.5 * 8.314 ;\n",
"Q = V_1 * (P_1 - P_2);\n",
"disp(' Example: 3.7   Page no : 128') ;\n",
"printf('\n   (a)\n     Heat transferd = %g kJ\n\n',Q);\n",
"\n",
"//Solution:(b) \n",
"del_S_sys = (P_1 * V_1) / T_1 * -log(P_2 / P_1) ;\n",
"printf('   (b)\n      Entropy change of system = %.2f kJ/K \n',del_S_sys);\n",
"Q_surr = - Q ;\n",
"del_S_surr = Q_surr / T_1 ;\n",
"printf('      Entropy change of surrounding = %.2f kJ/K \n',del_S_surr) ; \n",
"del_S_univ = del_S_sys + del_S_surr ;\n",
"printf('      Entropy change of universe =%.2f kJ/K \n',del_S_univ) ;\n",
"\n",
"//Solution:(c)\n",
"disp('  (c)');\n",
"disp('       Since entropy of the universe increases , the process is irreverssible .')"
   ]
   }
,
{
		   "cell_type": "markdown",
		   "metadata": {},
		   "source": [
			"## Example 3.8: Example_3_8.sce"
		   ]
		  },
  {
"cell_type": "code",
	   "execution_count": null,
	   "metadata": {
	    "collapsed": true
	   },
	   "outputs": [],
"source": [
"//Engineering and Chemical Thermodynamics\n",
"//Example 3.8\n",
"//Page no :129\n",
"\n",
"clear ; clc ;\n",
"//Given \n",
"A = 3.355 ; // from table\n",
"B = 0.575 * 10^-3 ; // from table\n",
"D = -0.016 * 10^5 ; // from table\n",
"R = 8.314 ;\n",
"P1 = 1 ; //[bar]\n",
"P2 = 0.5 ; //[bar]\n",
"function y=f(T),y = R * (A * log(T) + B * T + D / (2 * T^2)) ; \n",
"endfunction ;\n",
"S1 = f(373) - f(298) ;\n",
"S2 = R * log(P1 / P2) ; \n",
"del_S = S1 - S2 ; \n",
"\n",
"disp(' Example: 3.8   Page no : 129') ;\n",
"printf('\n     Entropy change = %.2f J/(mol K )',del_S);"
   ]
   }
,
{
		   "cell_type": "markdown",
		   "metadata": {},
		   "source": [
			"## Example 3.9: Example_3_9.sce"
		   ]
		  },
  {
"cell_type": "code",
	   "execution_count": null,
	   "metadata": {
	    "collapsed": true
	   },
	   "outputs": [],
"source": [
"//Engineering and Chemical Thermodynamics\n",
"//Example 3.9\n",
"//Page no:129\n",
"\n",
"clear ; clc ;\n",
"//Given \n",
"P = 1 ; //[bar]\n",
"p_O2 = 0.5 ; //[bar]\n",
"p_N2 = 0.5 ; // [bar]\n",
"n_O2 = 1 ; //[mol]\n",
"n_N2 = 1 ; //[mol]\n",
"R = 8.314 ; // J/mol K\n",
"del_S_1_O2 = -n_O2 * R * log(p_O2 / P) ;\n",
"del_S_1_N2 = -n_N2 * R * log(p_N2 / P) ; \n",
"del_S_2 = 0 ; // As both O2 and N2 behave idealy\n",
"del_S = del_S_2 + del_S_1_O2 + del_S_1_N2 ;\n",
"disp(' Example: 3.9   Page no : 129') ;\n",
"printf('\n    Entropy of mixing = %.2f J/K',del_S);\n",
" "
   ]
   }
],
"metadata": {
		  "kernelspec": {
		   "display_name": "Scilab",
		   "language": "scilab",
		   "name": "scilab"
		  },
		  "language_info": {
		   "file_extension": ".sce",
		   "help_links": [
			{
			 "text": "MetaKernel Magics",
			 "url": "https://github.com/calysto/metakernel/blob/master/metakernel/magics/README.md"
			}
		   ],
		   "mimetype": "text/x-octave",
		   "name": "scilab",
		   "version": "0.7.1"
		  }
		 },
		 "nbformat": 4,
		 "nbformat_minor": 0
}
