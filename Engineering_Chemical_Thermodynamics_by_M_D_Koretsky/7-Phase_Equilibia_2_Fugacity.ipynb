{
"cells": [
 {
		   "cell_type": "markdown",
	   "metadata": {},
	   "source": [
       "# Chapter 7: Phase Equilibia 2 Fugacity"
	   ]
	},
{
		   "cell_type": "markdown",
		   "metadata": {},
		   "source": [
			"## Example 7.10: Example_7_10.sce"
		   ]
		  },
  {
"cell_type": "code",
	   "execution_count": null,
	   "metadata": {
	    "collapsed": true
	   },
	   "outputs": [],
"source": [
"//Engineering and Chemical Thermodynamics\n",
"//Example 7.10\n",
"//Page no :343\n",
"\n",
"clear ; clc ;\n",
"//Given\n",
"gama_a_inf = 0.88 ;\n",
"gama_b_inf = 0.86 ;\n",
"R =  8.314 ;\n",
"T = 39.33 + 273 ;\n",
"\n",
"A_1 = R * T * log(gama_a_inf) ;\n",
"A_2 = R * T * log(gama_b_inf) ;\n",
"A = (A_1 + A_2) / 2 ;\n",
"disp(' Example: 7.10   Page no : 343') ;\n",
"printf('\n     The average value of two-suffix Margules parameter A = %g J/mol',A);"
   ]
   }
,
{
		   "cell_type": "markdown",
		   "metadata": {},
		   "source": [
			"## Example 7.11: Example_7_11.sce"
		   ]
		  },
  {
"cell_type": "code",
	   "execution_count": null,
	   "metadata": {
	    "collapsed": true
	   },
	   "outputs": [],
"source": [
"//Engineering and Chemical Thermodynamics\n",
"//Example 7.11\n",
"//Page no :343\n",
"\n",
"\n",
"clear ; clc ;\n",
"disp('  Example: 7.11   Page no : 343') ;\n",
"disp('           The problem contains only theory and different substitutions.There is no numerical part involved. Users can go through the book to obtain the required expression.') ;"
   ]
   }
,
{
		   "cell_type": "markdown",
		   "metadata": {},
		   "source": [
			"## Example 7.12: Example_7_12.sce"
		   ]
		  },
  {
"cell_type": "code",
	   "execution_count": null,
	   "metadata": {
	    "collapsed": true
	   },
	   "outputs": [],
"source": [
"//Engineering and Chemical Thermodynamics\n",
"//Example 7.12\n",
"//Page no :352\n",
"\n",
"clear ; clc ;\n",
"//Given \n",
"A_T1 = 1401 ; //[J/mol]\n",
"T1 = 10 + 273 ;//[K]\n",
"T2 = 60 + 273 ; //[K]\n",
"C = 3250 ;\n",
"A_T2_prev = 1143 ;//[J/mol]\n",
"\n",
"A_T2 = T2 * (C *(1/T2 - 1/T1) + A_T1 / T1);\n",
"disp(' Example: 7.12   Page no : 352') ;\n",
"printf('\n     Value of A at 60*C = %f J/mol\n\n',A_T2) ;\n",
"x = (A_T2_prev - A_T2) / A_T2_prev* 100 ;\n",
"printf('\n      The values differ by = %g %%',x)\n",
"\n",
"// The results given in the text book are wrong ."
   ]
   }
,
{
		   "cell_type": "markdown",
		   "metadata": {},
		   "source": [
			"## Example 7.1: Example_7_1.sce"
		   ]
		  },
  {
"cell_type": "code",
	   "execution_count": null,
	   "metadata": {
	    "collapsed": true
	   },
	   "outputs": [],
"source": [
"//Engineering and Chemical Thermodynamics\n",
"//Example 7.1\n",
"//Page no :308\n",
"\n",
"clear ; clc ;\n",
"//Given\n",
"h_cap_H2O = 2676.0 ; //[kJ/kg],From steam table\n",
"S_cap_H2O = 7.3548 ; //[kJ/kgK],From steam table\n",
"h_cap_0_H2O = 2687.5 ; //[kJ/kg],From Appendix B\n",
"S_cap_0_H2O = 8.4479 ; //[kJ/kgK],From Appendix B\n",
"P_0_H2O = 10 ;//[kPa]\n",
"T = 373.15 ;//[K]\n",
"R = 8.314 / 18 ;\n",
"P_sys = 101.35 ;//[kPa]\n",
"\n",
"g_cap_H2O = h_cap_H2O - T * S_cap_H2O ;\n",
"g_cap_0_H2O = h_cap_0_H2O - T * S_cap_0_H2O ;  \n",
"\n",
"f_H2O = P_0_H2O * exp((g_cap_H2O - g_cap_0_H2O ) / (R * T)) ;\n",
"\n",
"Sai_H2O = f_H2O / P_sys ;\n",
"\n",
"disp(' Example: 7.1   Page no : 308') ;\n",
"\n",
"printf('\n         The fugacity = %.2f kPa \n\n        The fugacity coefficient = %.3f',f_H2O ,Sai_H2O);"
   ]
   }
,
{
		   "cell_type": "markdown",
		   "metadata": {},
		   "source": [
			"## Example 7.2: Example_7_2.sce"
		   ]
		  },
  {
"cell_type": "code",
	   "execution_count": null,
	   "metadata": {
	    "collapsed": true
	   },
	   "outputs": [],
"source": [
"//Engineering and Chemical Thermodynamics\n",
"//Example 7.2\n",
"//Page no :309\n",
"\n",
"clear ; clc ;\n",
"disp('  Example: 7.2   Page no : 309') ;\n",
"disp('           The problem contains only theory and different substitutions.There is no numerical part involved. Users can go through the book to obtain the required expression.')"
   ]
   }
,
{
		   "cell_type": "markdown",
		   "metadata": {},
		   "source": [
			"## Example 7.3: Example_7_3.sce"
		   ]
		  },
  {
"cell_type": "code",
	   "execution_count": null,
	   "metadata": {
	    "collapsed": true
	   },
	   "outputs": [],
"source": [
"//Engineering and Chemical Thermodynamics\n",
"//Example 7.3\n",
"//Page no :311\n",
"\n",
"clear ; clc ;\n",
"//Given \n",
"P = 50 ; //[bar]\n",
"T = 25 + 273.2 ;//[K]\n",
"P_c = 48.7 ; //[bar] , From Appendix A.1 Table C.7 & C.8\n",
"T_c = 303.5 ; //[K] , From Appendix A.1 Table C.7 & C.8\n",
"w = 0.099 ; // From Appendix A.1 Table C.7 & C.8\n",
"log_w_0 = -0.216 ;// By interpolation\n",
"log_w_1 = -0.060 ;// By interpolation\n",
"\n",
"X = log_w_0 + w * log_w_1 ;\n",
"sai_eth = 10^(X) ;\n",
"f_eth = sai_eth * P ;\n",
"\n",
"disp(' Example: 7.3   Page no : 311') ;\n",
"printf('\n      Fugacity = %g bar',f_eth);\n",
" "
   ]
   }
,
{
		   "cell_type": "markdown",
		   "metadata": {},
		   "source": [
			"## Example 7.4: Example_7_4.sce"
		   ]
		  },
  {
"cell_type": "code",
	   "execution_count": null,
	   "metadata": {
	    "collapsed": true
	   },
	   "outputs": [],
"source": [
"//Engineering and Chemical Thermodynamics\n",
"//Example 7.4\n",
"//Page no :316\n",
"\n",
"clear ; clc ;\n",
"disp('  Example: 7.4   Page no : 316') ;\n",
"disp('           The problem contains only theory and different substitutions.There is no numerical part involved. Users can go through the book to obtain the required expression.') ;"
   ]
   }
,
{
		   "cell_type": "markdown",
		   "metadata": {},
		   "source": [
			"## Example 7.5: Example_7_5.sce"
		   ]
		  },
  {
"cell_type": "code",
	   "execution_count": null,
	   "metadata": {
	    "collapsed": true
	   },
	   "outputs": [],
"source": [
"//Engineering and Chemical Thermodynamics\n",
"//Example 7.5 \n",
"//Page no :319\n",
"\n",
"clear ; clc ;\n",
"//Given \n",
"P = 50 ; // [bar]\n",
"T = 25 + 273.2 ; //[K]\n",
"y_eth = 0.2 ;\n",
"y_pro = 0.8 ;\n",
"T_c_eth = 305.5 ; //[K],From Appendix A.1\n",
"T_c_pro = 370 ; //[K],From Appendix A.1\n",
"P_c_eth = 48.7 ; //[bar],From Appendix A.1\n",
"P_c_pro = 42.4 ; // [bar],From Appendix A.1\n",
"w_eth = 0.099 ;//From Appendix A.1\n",
"w_pro = 0.153 ;//From Appendix A.1 \n",
"log_w_0 = -0.579 ;// By double liner interpolation\n",
"log_w_1 = -0.406 ;// By double liner interpolation\n",
"T_pc = y_eth * T_c_eth + y_pro * T_c_pro ;\n",
"P_pc = y_eth * P_c_eth + y_pro * P_c_pro ;\n",
"w_mix = y_eth * w_eth + y_pro * w_pro ;\n",
" \n",
"Pr = P / P_pc ;\n",
"Tr = T /T_pc ;\n",
"X = log_w_0 + w_mix * log_w_1 ;\n",
"\n",
"sai = 10^(X) ;\n",
"f = sai * P ;\n",
"\n",
"disp(' Example: 7.5   Page no : 319') ;\n",
"printf('\n     Fugacity co-efficient = %.2f\n\n        Fugacity = %.1f bar',sai,f); "
   ]
   }
,
{
		   "cell_type": "markdown",
		   "metadata": {},
		   "source": [
			"## Example 7.6: Example_7_6.sce"
		   ]
		  },
  {
"cell_type": "code",
	   "execution_count": null,
	   "metadata": {
	    "collapsed": true
	   },
	   "outputs": [],
"source": [
"//Engineering and Chemical Thermodynamics\n",
"//Example 7.6\n",
"//Page no :324\n",
"\n",
"clear ; clc ;\n",
"\n",
"// The problem does not contain any numerical part . The readers can refer the text book to get the answer .\n",
"disp(' Example: 7.6   Page no : 324') ;\n",
"disp('    Like interactions are stronger than unlike interaction .')"
   ]
   }
,
{
		   "cell_type": "markdown",
		   "metadata": {},
		   "source": [
			"## Example 7.7: Example_7_7.sce"
		   ]
		  },
  {
"cell_type": "code",
	   "execution_count": null,
	   "metadata": {
	    "collapsed": true
	   },
	   "outputs": [],
"source": [
"//Engineering and Chemical Thermodynamics\n",
"//Example 7.7\n",
"//Page no :331 \n",
"\n",
"clear ; clc ;\n",
"disp('  Example: 7.7   Page no : 331') ;\n",
"disp('           The problem contains only theory and different substitutions.There is no numerical part involved. Users can go through the book to obtain the required expression.') ;"
   ]
   }
,
{
		   "cell_type": "markdown",
		   "metadata": {},
		   "source": [
			"## Example 7.8: Example_7_8.sce"
		   ]
		  },
  {
"cell_type": "code",
	   "execution_count": null,
	   "metadata": {
	    "collapsed": true
	   },
	   "outputs": [],
"source": [
"//Engineering and Chemical Thermodynamics\n",
"//Example 7.8\n",
"//Page no :338\n",
"\n",
"clear ; clc ;\n",
"disp('  Example: 7.8   Page no : 338') ;\n",
"disp('           The problem contains only theory and different substitutions.There is no numerical part involved. Users can go through the book to obtain the required expression.') ;"
   ]
   }
,
{
		   "cell_type": "markdown",
		   "metadata": {},
		   "source": [
			"## Example 7.9: Example_7_9.sce"
		   ]
		  },
  {
"cell_type": "code",
	   "execution_count": null,
	   "metadata": {
	    "collapsed": true
	   },
	   "outputs": [],
"source": [
"//Engineering and Chemical Thermodynamics\n",
"//Example 7.9\n",
"//Page no :339\n",
"\n",
"clear ; clc ;\n",
"disp('  Example: 7.9   Page no : 339') ;\n",
"disp('           The problem contains only theory and different substitutions.There is no numerical part involved. Users can go through the book to obtain the required expression.') ;"
   ]
   }
],
"metadata": {
		  "kernelspec": {
		   "display_name": "Scilab",
		   "language": "scilab",
		   "name": "scilab"
		  },
		  "language_info": {
		   "file_extension": ".sce",
		   "help_links": [
			{
			 "text": "MetaKernel Magics",
			 "url": "https://github.com/calysto/metakernel/blob/master/metakernel/magics/README.md"
			}
		   ],
		   "mimetype": "text/x-octave",
		   "name": "scilab",
		   "version": "0.7.1"
		  }
		 },
		 "nbformat": 4,
		 "nbformat_minor": 0
}
