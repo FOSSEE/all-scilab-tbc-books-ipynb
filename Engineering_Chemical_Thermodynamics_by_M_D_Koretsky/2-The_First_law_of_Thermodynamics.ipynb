{
"cells": [
 {
		   "cell_type": "markdown",
	   "metadata": {},
	   "source": [
       "# Chapter 2: The First law of Thermodynamics"
	   ]
	},
{
		   "cell_type": "markdown",
		   "metadata": {},
		   "source": [
			"## Example 2.10: Example_2_10.sce"
		   ]
		  },
  {
"cell_type": "code",
	   "execution_count": null,
	   "metadata": {
	    "collapsed": true
	   },
	   "outputs": [],
"source": [
"//Engineering and Chemical Thermodynamics\n",
"//Example 2.10\n",
"//Page no :68\n",
"\n",
"clear ; clc\n",
"//Given data:\n",
"n_dot = 10 ; //[mol/s]\n",
"T1 = 298.2 ; //[K]\n",
"T2 = 342 ; //[K]\n",
"T3 = 373.2 ; //[K]\n",
"Cp_298_342 = 216.3 ; //[J/molK]\n",
"A = 3.025 ;\n",
"B = 53.722 * 10^-3 ;\n",
"C = -16.791 * 10^-6 ;\n",
"del_h_vap = 28.88 ; //[kJ/mol]\n",
"\n",
"del_h_1 = Cp_298_342 * (T2 - T1) * 10^-3 ; //[kJ/mol]\n",
"del_h_2 = del_h_vap ;\n",
"function y=f(T),y=8.314*(A*T + (B/2)*(T^2) + (C/3)*(T^3))* 10^-3 ;\n",
"endfunction\n",
"del_h_3 = f(T3) - f(T2) ;\n",
"\n",
"Q = n_dot * (del_h_1 + del_h_2 + del_h_3) ;\n",
"disp(' Example: 2.10   Page no : 68') ;\n",
"printf('\n       Rate of heat supplied = %d kJ/s',Q );"
   ]
   }
,
{
		   "cell_type": "markdown",
		   "metadata": {},
		   "source": [
			"## Example 2.11: Example_2_11.sce"
		   ]
		  },
  {
"cell_type": "code",
	   "execution_count": null,
	   "metadata": {
	    "collapsed": true
	   },
	   "outputs": [],
"source": [
"//Engineering and Chemical Thermodynamics\n",
"//Example 2.11\n",
"//Page no :69\n",
"\n",
"clear ; clc ;\n",
"//Given data:\n",
"m_1_v = 4.3 ; //[kg]\n",
"m_1_l = 50 ; //[kg]\n",
"u_cap_1_v = 2437.9 ; //[kJ/kg],From steam table\n",
"u_cap_1_l = 191.8 ; //[kJ/kg],From steam table\n",
"v_cap_1_v = 14.67 ; //[m^3],From steam table\n",
"v_cap_1_l = 0.001 ; //[m^3],From steam table\n",
"\n",
"V2 = m_1_l * v_cap_1_l + m_1_v * v_cap_1_v ;\n",
"m_2_v = m_1_l + m_1_v ;\n",
"v_cap_2_v = V2 / m_2_v ; //[m^3/kg]\n",
"\n",
"// From table this specific volume matches at\n",
"P2= 0.15 ; //[MPa]\n",
"//At this condition \n",
"u_cap_2_v = 2519.6 ; //(kJ/kg)\n",
"Q = ((m_2_v * u_cap_2_v) -(m_1_l * u_cap_1_l + m_1_v * u_cap_1_v))*1000;\n",
"disp(' Example: 2.11   Page no : 69') ;\n",
"printf('\n      Minimum amount of heat required = %e J',Q);"
   ]
   }
,
{
		   "cell_type": "markdown",
		   "metadata": {},
		   "source": [
			"## Example 2.12: Example_2_12.sce"
		   ]
		  },
  {
"cell_type": "code",
	   "execution_count": null,
	   "metadata": {
	    "collapsed": true
	   },
	   "outputs": [],
"source": [
"//Engineering and Chemical Thermodynamics\n",
"//Example 2.12\n",
"//Page no :73\n",
"\n",
"clear ; clc ;\n",
"// From table we have\n",
"del_h0_f_CO2 = -393.51 ; // [kJ/mol]\n",
"del_h0_f_H2 = 0 ; // [kJ/mol]\n",
"del_h0_f_H2O = -241.82 ; // [kJ/mol]\n",
"del_h0_f_CH3OH = -200.66 ; // [kJ/mol]\n",
"\n",
"del_h0 = del_h0_f_CO2 + 3 * del_h0_f_H2 - del_h0_f_H2O - del_h0_f_CH3OH ;\n",
"disp(' Example: 2.12   Page no : 73') ;\n",
"printf('\n       Enthalpy of reaction = %g kJ/mol',del_h0);"
   ]
   }
,
{
		   "cell_type": "markdown",
		   "metadata": {},
		   "source": [
			"## Example 2.13: Example_2_13.sce"
		   ]
		  },
  {
"cell_type": "code",
	   "execution_count": null,
	   "metadata": {
	    "collapsed": true
	   },
	   "outputs": [],
"source": [
"//Engineering and Chemical Thermodynamics\n",
"//Example 2.13\n",
"//Page no :73\n",
"\n",
"clear ; clc ;\n",
"//Given data :\n",
"del_h0_f_CO2 = -393.51 ; //[kJ/mol], From Appendix A.3 \n",
"del_h0_f_CO = -110.53 ; //[kJ/mol], From Appendix A.3\n",
"del_h0_f_H2O = -241.82 ; //[kJ/mol], From Appendix A.3\n",
"del_h0_f_C3H8 = -103.85 ; //[kJ/mol], From Appendix A.3\n",
"del_h0_f_O2 = 0 ; //[kJ/mol], From Appendix A.3\n",
"A_CO2 = 5.457 ; // From table E2.13\n",
"B_CO2 = 1.05 * 10^-3 ;\n",
"D_CO2 = -1.16 * 10^5 ;\n",
"A_CO = 3.379 ;\n",
"B_CO = 5.57 * 10^-4;\n",
"D_CO = -3.1 * 10^3 ;\n",
"A_H2O = 3.470 ;\n",
"B_H2O = 1.45 * 10^-3;\n",
"D_H2O = 1.21 * 10^4 ;\n",
"A_N2 = 3.280 ;\n",
"B_N2 = 5.93 * 10^-4; \n",
"D_N2 = 4.00 * 10^3 ;\n",
" \n",
"//Let\n",
"n_C3H8 = 10 ; //[mol]\n",
"n_N2 = (0.79/0.21) * (9.7/2) * n_C3H8 ; //[mol]\n",
"n_CO2 = 2.7 * n_C3H8 ; //[mol]\n",
"n_CO = 0.3 * n_C3H8 ; //[mol]\n",
"n_H2O = 4 * n_C3H8 ; //[mol]\n",
"n_O2 = (9.7 / 2)* n_C3H8 ; //[mol]\n",
"T_reff = 298 ; //[K]\n",
"del_H_rxn_298 = n_CO2 * del_h0_f_CO2 + n_CO * del_h0_f_CO + n_H2O * del_h0_f_H2O - n_C3H8 * del_h0_f_C3H8 - n_O2 * del_h0_f_O2 ; //[kJ]\n",
"\n",
"//The co-efficients of T2 in the equation of degree 3 are\n",
"a = 8.314*(n_CO2 * (B_CO2/2) + n_CO * (B_CO/2) + n_H2O * (B_H2O/2) + n_N2 * (B_N2/2));\n",
"b = 8.314*(n_CO2 * A_CO2 + n_CO * A_CO + n_H2O * A_H2O + n_N2 * A_N2) ;\n",
"d =8.314*(- n_CO2 * D_CO2 - n_CO * D_CO - n_H2O * D_H2O -n_N2 * D_N2) ;\n",
"c = (del_H_rxn_298 *1000) + 8.314 * (n_CO2 * (- T_reff * A_CO2 - B_CO2/2 * T_reff^2 + D_CO2/T_reff) + n_CO * (- T_reff * A_CO - B_CO/2 * T_reff^2 + D_CO/T_reff) + n_H2O * (- T_reff * A_H2O - B_H2O/2 * T_reff^2 + D_H2O/T_reff) + n_N2 * (-T_reff * A_N2 - B_N2/2 * T_reff^2 + D_N2/T_reff));\n",
"\n",
"T2=poly(0,'T2');\n",
"P = d + c*T2 + b*T2^2 + a*T2^3 ;\n",
"M = roots(P);\n",
"\n",
"disp(' Example: 2.13   Page no : 73') ;\n",
"disp('  The roots of the equation containig T2 as variable are (K)-')\n",
"disp(M);\n",
"disp('  But T2 must be more than 298K . So we have to choose the most suitable solution .')\n",
"// The answer in the textbook does not statisfy the equation while it  is counter-checked ."
   ]
   }
,
{
		   "cell_type": "markdown",
		   "metadata": {},
		   "source": [
			"## Example 2.14: Example_2_14.sce"
		   ]
		  },
  {
"cell_type": "code",
	   "execution_count": null,
	   "metadata": {
	    "collapsed": true
	   },
	   "outputs": [],
"source": [
"//Engineering and Chemical Thermodynamics\n",
"//Example 2.14\n",
"//Page no :75\n",
"\n",
"clear ; clc ;\n",
"disp('  Example 2.14   Page no : 75')\n",
"disp('           The problem contains only theory and different substitutions.There is no numerical part involved. Users can go through the book to obtain the required expression.')"
   ]
   }
,
{
		   "cell_type": "markdown",
		   "metadata": {},
		   "source": [
			"## Example 2.15: Example_2_15.sce"
		   ]
		  },
  {
"cell_type": "code",
	   "execution_count": null,
	   "metadata": {
	    "collapsed": true
	   },
	   "outputs": [],
"source": [
"//Engineering and Chemical Thermodynamics\n",
"//Example 2.15\n",
"//Page no :80\n",
"\n",
"clear ; clc ;\n",
"\n",
"//Given data\n",
"V1 = 350 ; //[m/s]\n",
"A = 3.355 ;\n",
"B = 0.575*10^-3 ;\n",
"D = -0.016*10^5 ;\n",
"Tin = 283 ; //[K]\n",
"MW = 29 * 10^-3 ; //[kg/mol]\n",
"\n",
"ek = 1/2 * MW * V1**2 ;\n",
"//The co-efficients of T2 in the equation of degree 3 are\n",
"a = B/2 ;\n",
"b = A ;\n",
"c = -(Tin * A + Tin^2*B/2 - (D/Tin) + ek/8.314) ;\n",
"d=-D ; \n",
"\n",
"T2=poly(0,'T2');\n",
"P = d + c*T2 + b*T2^2 + a*T2^3 ;\n",
"M = roots(P);\n",
"disp(' Example: 2.15   Page no : 80') ;\n",
"disp( ' The solutions are ')\n",
"disp(M);\n",
"disp('              But the outlet temp should be more than 283K(inlet temperature) .So we have to choose the most suitable solution .')\n",
"\n",
" "
   ]
   }
,
{
		   "cell_type": "markdown",
		   "metadata": {},
		   "source": [
			"## Example 2.16: Example_2_16.sce"
		   ]
		  },
  {
"cell_type": "code",
	   "execution_count": null,
	   "metadata": {
	    "collapsed": true
	   },
	   "outputs": [],
"source": [
"//Engineering and Chemical Thermodynamics\n",
"//Example 2.16\n",
"//Page no :81\n",
"\n",
"clear ; clc ;\n",
"//Given data:\n",
"V_dot_2 = 0.001 ; //[m^3/kg]\n",
"v_cap_2 = 0.001 ; //[m^3/kg], Specific volume of water\n",
"z2 = 250 ; //[m] ; Taking ground as the reference level\n",
"e_cap_2 = 9.8 * z2 ; //[kg*m^2/s^2]\n",
"\n",
"m_dot_2 = V_dot_2 / v_cap_2 ; //[kg/s]\n",
"//Neglecting the kinetic energy ,frictional losses ftrom energy balance  equation we have\n",
"W_dot_s = m_dot_2 * e_cap_2 * 10^-3 ;\n",
"disp(' Example: 2.16   Page no : 81') ;\n",
"printf('\n      Minimum power required is = %g kW',W_dot_s);"
   ]
   }
,
{
		   "cell_type": "markdown",
		   "metadata": {},
		   "source": [
			"## Example 2.17: Example_2_17.sce"
		   ]
		  },
  {
"cell_type": "code",
	   "execution_count": null,
	   "metadata": {
	    "collapsed": true
	   },
	   "outputs": [],
"source": [
"//Engineering and Chemical Thermodynamics\n",
"//Example 2.17\n",
"//Page no :82\n",
"\n",
"clear ; clc ;\n",
"//Given data\n",
"n_dot = 10 ; //[mol/min]\n",
"del_h_vap_CO2 = 10400 ; //[J/mol]\n",
"A_CO2 = 5.457 ; //From appendix A.3\n",
"B_CO2 = 1.045 * 10^-3 ;\n",
"D_CO2 = -1.157 * 10^5 ;\n",
"A_air = 3.355 ; \n",
"B_air = 0.575 * 10^-3 ;\n",
"D_air = -0.016 * 10^5 ;\n",
"T1 = 273 ; //[K]\n",
"T2 = 283 ; //[K]\n",
"T3 = 323 ; //[K]\n",
"T4 = 293 ; //{k}\n",
"\n",
"function y=f1(T),y=8.314 * (A_CO2 * T + (B_CO2/2) * T^2 - D_CO2/T)\n",
"endfunction\n",
"\n",
"sen_heat_CO2 = f1(T2) - f1(T1) ;\n",
"Q_dot = n_dot * (del_h_vap_CO2 + sen_heat_CO2) ; //[J/min]\n",
"\n",
"function y=f2(T),y=8.314 * (A_air * T + B_air/2*T^2 - D_air /T)\n",
"endfunction\n",
"sen_heat_air = f2(T4) - f2(T3);\n",
"n_dot_air = - Q_dot / sen_heat_air ;\n",
"disp(' Example: 2.17   Page no : 82') ;\n",
"printf('\n       Air required = %g mol/min',n_dot_air);\n",
"    "
   ]
   }
,
{
		   "cell_type": "markdown",
		   "metadata": {},
		   "source": [
			"## Example 2.18: Example_2_18.sce"
		   ]
		  },
  {
"cell_type": "code",
	   "execution_count": null,
	   "metadata": {
	    "collapsed": true
	   },
	   "outputs": [],
"source": [
"//Engineering and Chemical Thermodynamics\n",
"//Example 2.18\n",
"//Page no :84\n",
"\n",
"clear ; clc ;\n",
"m_dot_1 = 10 ; //[kg/s]\n",
"h_cap_1 = 3238.2 ;//[kJ/kg], Super heated steam at 500*C & 200bar\n",
"h_cap_2 = 93.3 ;//[kL/kg], subcooled liquid at 20*C & 100bar\n",
"h_cap_3 = 2724.7 ;//{kJ/kg}, Super heated vapour at 100bar \n",
"\n",
"m_dot_2 = m_dot_1 * (h_cap_1 - h_cap_3) / (h_cap_3 - h_cap_2);\n",
"disp(' Example: 2.18   Page no : 84') ;\n",
"printf('\n      Flow of liquid stream = %.2f kg/s',m_dot_2);"
   ]
   }
,
{
		   "cell_type": "markdown",
		   "metadata": {},
		   "source": [
			"## Example 2.19: Example_2_19.sce"
		   ]
		  },
  {
"cell_type": "code",
	   "execution_count": null,
	   "metadata": {
	    "collapsed": true
	   },
	   "outputs": [],
"source": [
"//Engineering and Chemical Thermodynamics\n",
"//Example 2.19\n",
"//Page no :85\n",
"\n",
"clear ; clc ;\n",
"//From steam table\n",
"h_cap_st_1 = 2923.4 ; // [kJ/kg]\n",
"h_cap_200 = 2875.3 ; // {kJ/kg} , At 100kPa\n",
"h_cap_250 = 2974.3 ; // {kJ/kg} , At 100 kPa\n",
"del_T = 250-200 ;\n",
"\n",
"T1 = 200 ; //[K]\n",
"h_cap_st_2 = h_cap_st_1 ;//Assumimg bulk kinetic energy of the stream and heat transfered is  negligible\n",
"T2 = T1 + del_T * (h_cap_st_2 - h_cap_200) / (h_cap_250 - h_cap_200) ;\n",
"disp(' Example: 2.19   Page no : 85') ;\n",
"printf('\n      The exit temperature is = %d *C',T2) ;"
   ]
   }
,
{
		   "cell_type": "markdown",
		   "metadata": {},
		   "source": [
			"## Example 2.1: Example_2_1.sce"
		   ]
		  },
  {
"cell_type": "code",
	   "execution_count": null,
	   "metadata": {
	    "collapsed": true
	   },
	   "outputs": [],
"source": [
"//Engineering and Chemical Thermodynamics\n",
"//Example 2.1\n",
"//Page no :33\n",
"\n",
"clear ; clc\n",
"z1 = 10 ; //[m]\n",
"z2 = 0 ; //[m],Taking ground as state 2,reference\n",
"v1 = 0 ;\n",
"\n",
"//From conservation of total energy we get\n",
"// (1/2*m*v2^2-1 / 2*m*v1^2)+(m*g*z2 - m*g*z1) = 0\n",
"//   1/2*m*v2^2 - m*g*z1 = 0\n",
"v2 = sqrt(2 * 9.8 * z1) ; //[m/s]\n",
"disp(' Example: 2.1   Page no : 33') ;\n",
"printf('\n      Final velocity = %g (m/s) ',v2);"
   ]
   }
,
{
		   "cell_type": "markdown",
		   "metadata": {},
		   "source": [
			"## Example 2.20: Example_2_20.sce"
		   ]
		  },
  {
"cell_type": "code",
	   "execution_count": null,
	   "metadata": {
	    "collapsed": true
	   },
	   "outputs": [],
"source": [
"//Engineering and Chemical Thermodynamics\n",
"//Example 2.20\n",
"//Page no :89\n",
"\n",
"clear ; clc ;\n",
"//solution (a)\n",
"//Given data\n",
"Cv = 3/2 * 8.314 ;\n",
"Cp = 5/2 * 8.314 ;\n",
"n = 1; \n",
"R = 8.314 ; \n",
"T1 = 1000 ; //[K]\n",
"P1 = 10 ; //[bar]\n",
"T2 = 1000 ; //[K]\n",
"P2 = 0.1 ; //[bar]\n",
"T3 = 300 ; //[K]\n",
"T4 = 300 ; //[K]\n",
"\n",
"k = Cp / Cv ;\n",
"P3 = P2 * (T3 / T2)^(k/(k-1)); //[bar]\n",
"P4 = P1 * (T4 / T1)^(k/(k-1)) ; //[bar]\n",
"\n",
"// (1)\n",
"  del_U_12 = 0 ; // As process 1-2 is isothermal \n",
"  W_12 = n * R * T1 * log(P2 / P1);\n",
"  Q_h_12 = W_12 ;\n",
"  disp(' Example: 2.20   Page no : 89') ;\n",
"printf('(a)\n    (1)\n           del_U = %d J',del_U_12) ;\n",
"printf('\n           Work  = %d J',W_12) ;\n",
"printf('\n           Heat = %d J',Q_h_12) ;\n",
"\n",
"//(2)\n",
"   Q_23 = 0 ; // As adiabatic process\n",
"   del_U_23 = n * Cv *(T3 - T2) ;\n",
"   W_23 = del_U_23 ;\n",
"printf('\n     (2)\n           del_U  = %g J',del_U_23) ;\n",
"printf('\n           Work (J) = %d J',W_23) ;\n",
"printf('\n           Heat (J) = %d J',Q_23) ;\n",
"\n",
"//(3)\n",
"   del_U_34 = 0 ; // As isothermal process\n",
"   W_34 = n * R * T3 * log(P4 / P3) ; // Eqn E2.20.A\n",
"   Q_c_34 = del_U_34 - W_34 ;\n",
"printf('\n     (3)\n           del_U = %g J',del_U_34) ;\n",
"printf('\n           Work = %d J',W_34) ;\n",
"printf('\n           Heat = %d J',Q_c_34) ;\n",
"\n",
"//(4)\n",
"    Q_41 = 0 ; // As adiabatic process\n",
"    del_U_41 = n * Cv * (T1 - T4) ;\n",
"    W_41 = del_U_41 ;\n",
"printf('\n     (4)\n           del_U = %g J',del_U_41) ;\n",
"printf('\n           Work = %d J',W_41) ;\n",
"printf('\n           Heat = %d J',Q_41) ;\n",
"\n",
"//Solution (b)\n",
"//Users can refer figure E2.20\n",
"\n",
"//Solution (c)\n",
"  W_total = W_12 + W_23 + W_34 + W_41 ;\n",
"  Q_absor = Q_h_12 ;\n",
"  effi = W_total / Q_absor ;\n",
"printf('\n\n(c)   efficiency = %g',effi)\n",
"\n",
"//Solution (d)\n",
"x = 1 - T3 / T1 ;\n",
"printf('\n\n(d)   1 - Tc/Th = %g',x);\n",
"disp('    i.e  Efficiency = 1 - Tc/Th');\n",
"\n",
"//Solution (e)\n",
"disp('(e) The process can be made more efficient by raising Th or by   lowering Tc .');\n",
"disp('Table E2.20B') ;\n",
"disp('       T(K)       P(bar)   v(m^3/mol)') ;\n",
"P = [P1 , P2 , P3 , P4 ] ;\n",
"T = [T1 , T2 , T3 , T4 ] ;\n",
"for i = 1:4\n",
"    v(i) = R * T(i) * 10^-5/ P(i) ;\n",
"    printf('\n       %d    %.4f    %f \n',T(i) ,P(i) ,v(i)) ;\n",
"end"
   ]
   }
,
{
		   "cell_type": "markdown",
		   "metadata": {},
		   "source": [
			"## Example 2.2: Example_2_2.sce"
		   ]
		  },
  {
"cell_type": "code",
	   "execution_count": null,
	   "metadata": {
	    "collapsed": true
	   },
	   "outputs": [],
"source": [
"//Engineering and Chemical Thermodynamics\n",
"//Example 2.2\n",
"//Page no :36\n",
"\n",
"clear ; clc\n",
"\n",
"//Given data\n",
"V2 = 14 ; // [m/s]\n",
"u_cap_l1 = 104.86 ; //[kJ/kg],at 25*C internal energy of saturated water\n",
"u_cap_l_t25 = 104.86 ; //[kJ/kg], From steam table \n",
"u_cap_l_t30 = 125.77 ; //[kJ/kg], From steam table\n",
"T1 = 25 ; //[*C]\n",
"T2 = 30 ; //[*C]\n",
"\n",
"//For unit mass change in kinetic energy\n",
"Delta_e_cap_k = 1/2 * V2^2 * 10^-3 ; //[kJ/kg]\n",
"\n",
"Delta_u_cap = Delta_e_cap_k ;\n",
"\n",
"//For final state of water:\n",
"u_cap_l2 = Delta_u_cap + u_cap_l1 ;\n",
"\n",
"//From table\n",
"\n",
"x = (u_cap_l2 - u_cap_l_t25) / (u_cap_l_t30 - u_cap_l_t25) ;\n",
"T_unknown = T1 + x*(T2 - T1) ;\n",
"disp(' Example: 2.2   Page no : 36') ;\n",
"printf('\n        Final temperature of water = %g *C',T_unknown);"
   ]
   }
,
{
		   "cell_type": "markdown",
		   "metadata": {},
		   "source": [
			"## Example 2.3: Example_2_3.sce"
		   ]
		  },
  {
"cell_type": "code",
	   "execution_count": null,
	   "metadata": {
	    "collapsed": true
	   },
	   "outputs": [],
"source": [
"//Engineering and Chemical Thermodynamics\n",
"//Example 2.3\n",
"//Page no :38\n",
"\n",
"clear ; clc\n",
"\n",
"//External pressure is constant\n",
"P_ex = 1*10^5 ; //[Pa]}\n",
"\n",
"//To calculte work done\n",
"function y = f(x),y = 1,endfunction\n",
"I = intg(10,15.2,f) ;\n",
"W = -P_ex * I * 10^-3 ; //[J]\n",
"disp(' Example: 2.1   Page no : 33') ;\n",
"printf('\n         Work done = %g J',W);"
   ]
   }
,
{
		   "cell_type": "markdown",
		   "metadata": {},
		   "source": [
			"## Example 2.4: Example_2_4.sce"
		   ]
		  },
  {
"cell_type": "code",
	   "execution_count": null,
	   "metadata": {
	    "collapsed": true
	   },
	   "outputs": [],
"source": [
"//Engineering and Chemical Thermodynamics\n",
"//Example 2.4\n",
"//Page no :55\n",
"\n",
"clear ; clc\n",
"//From steam table specific enthalpy at state1 and state2 are\n",
"h_cap_1 = 3373.6 ; //[kJ/kg]\n",
"h_cap_2 = 2675.5 ; //[kJ/kg]\n",
"\n",
"m_dot1 = 10; //[kg/s],As we are dealing with steady state\n",
"m_dot2 = 10; //[kg/s]\n",
"\n",
"//Neglecting heat dissipation compared to shaft work we have\n",
"// m_dot1*h_cap_1 - m_dot2*h_cap_2 + Ws_dot =  0\n",
"Ws_dot = m_dot1 * (h_cap_2 - h_cap_1) ; //[kW]\n",
"disp(' Example: 2.4   Page no : 55') ;\n",
"printf('\n       Power generated = %g kW',Ws_dot);"
   ]
   }
,
{
		   "cell_type": "markdown",
		   "metadata": {},
		   "source": [
			"## Example 2.5: Example_2_5.sce"
		   ]
		  },
  {
"cell_type": "code",
	   "execution_count": null,
	   "metadata": {
	    "collapsed": true
	   },
	   "outputs": [],
"source": [
"//Engineering and Chemical Thermodynamics\n",
"//Example 2.5\n",
"//Page no :55\n",
"\n",
"clear ; clc\n",
"\n",
"//Solution(a)\n",
"//Unsteady state analysis\n",
"h_cap_in = 3241 ; //[kJ/kg] , From steam table\n",
"P_final = 10 ; //[MPa]\n",
"\n",
"//From Eqn. Eq2.5A , Eq2.5B , Eq2.5C we get\n",
"u_cap_2 = h_cap_in ;\n",
"//At codition of P = 10MPa , u_cap_2 = 3241 kJ/kg the final temperature of the system is\n",
"T2 = 600 ; // From steam table .No calculation is involved .\n",
"disp(' Example: 2.5   Page no : 55') ;\n",
"printf('\n      (a)\n           The final temperature of the system = %g *C\n',T2);\n",
"\n",
"//Closed system analysis\n",
"//From equation E2.5E , E2.5F , E2.6G we get\n",
"u_cap_2 = h_cap_in ;\n",
"// So temperature is T2 = 600*C (From table).\n",
"\n",
"//Solution(b)\n",
"disp('     (b)   The temperature of the fluid increases in the system due to the receipent of flow work .')"
   ]
   }
,
{
		   "cell_type": "markdown",
		   "metadata": {},
		   "source": [
			"## Example 2.6: Example_2_6.sce"
		   ]
		  },
  {
"cell_type": "code",
	   "execution_count": null,
	   "metadata": {
	    "collapsed": true
	   },
	   "outputs": [],
"source": [
"//Engineering and Chemical Thermodynamics\n",
"//Example 2.6\n",
"//Page no :62\n",
"\n",
"clear ; clc\n",
"//Q=n*Delta_h\n",
"//Given data\n",
"n =2 ; //[mol]\n",
"A = 3.470 ;\n",
"B = 1.450*10^-3 ;\n",
"D = 0.121*10^5 ;\n",
"T1 = 473 ; //[K]\n",
"T2 = 773 ; //[K]\n",
"\n",
"function y = f(T),y = 8.314*(A + B*T + D*T^-2),endfunction\n",
"Delta_h = intg(T1,T2,f);\n",
"\n",
"Q = n * Delta_h ;\n",
"disp(' Example: 2.6   Page no : 62') ;\n",
"printf('\n       (a)Heat required = %g J',Q);\n",
"\n",
"//Solution (b)\n",
"\n",
"//From steam table\n",
"h_cap_1 = 2827.9 ; //[kJ/kg]\n",
"h_cap_2 = 3478.4 ; //[kJ/kg]\n",
"m = 2*0.018 ; //[kg]\n",
"\n",
"Delta_h_cap = (h_cap_2 - h_cap_1) * 10^3 ; //[J/kg]\n",
"Q = m * Delta_h_cap;\n",
"printf('\n\n       (b)Heat required = %g J',Q);"
   ]
   }
,
{
		   "cell_type": "markdown",
		   "metadata": {},
		   "source": [
			"## Example 2.7: Example_2_7.sce"
		   ]
		  },
  {
"cell_type": "code",
	   "execution_count": null,
	   "metadata": {
	    "collapsed": true
	   },
	   "outputs": [],
"source": [
"//Engineering and Chemical Thermodynamics\n",
"//Example 2.7\n",
"//Page no :63\n",
"\n",
"clear ; clc\n",
"//Given data\n",
"T1 = 298;\n",
"T2_start = 300;\n",
"A = 3.355;\n",
"B = 0.575*10^-3;\n",
"D = -0.016*10^5;\n",
"\n",
"function y = f(T),y = 8.314*[A*T + B/2*T^2 - D/T]\n",
"endfunction;\n",
"disp(' Example: 2.7   Page no : 63') ;\n",
"for T2_start = 300:100:1000;\n",
"    del_h = f(T2_start) - f(T1);\n",
"    Cp = del_h /(T2_start - 298);\n",
"    mprintf('\n      At temperature(K) %g,     Molar heat capacity (J/molK) %g',T2_start,Cp);   \n",
"end"
   ]
   }
,
{
		   "cell_type": "markdown",
		   "metadata": {},
		   "source": [
			"## Example 2.8: Example_2_8.sce"
		   ]
		  },
  {
"cell_type": "code",
	   "execution_count": null,
	   "metadata": {
	    "collapsed": true
	   },
	   "outputs": [],
"source": [
"//Engineering and Chemical Thermodynamics\n",
"//Example 2.8\n",
"//Page no :64\n",
"\n",
"clear ; clc\n",
"// Given data\n",
"n_dot_air = 10 ; //[mol/min]\n",
"C_bar_P_900 = 30.71 ; //[J/molK]\n",
"C_bar_P_600 = 29.97 ; //[J/molK]\n",
"T1 = 600 ; //[K]\n",
"T2 = 900 ; //[K]\n",
"T_ref = 298 ; //[K]\n",
"\n",
"// Q_dot = n_dot_air * (h_900 - h_600)...........Eqn E2.8A\n",
"Q_dot = n_dot_air * (C_bar_P_900 * (T2 - T_ref) - C_bar_P_600 * (T1 - T_ref)); \n",
"disp(' Example: 2.8   Page no : 33') ;\n",
"printf('\n        Heat rate required = %g J/min',Q_dot);"
   ]
   }
,
{
		   "cell_type": "markdown",
		   "metadata": {},
		   "source": [
			"## Example 2.9: Example_2_9.sce"
		   ]
		  },
  {
"cell_type": "code",
	   "execution_count": null,
	   "metadata": {
	    "collapsed": true
	   },
	   "outputs": [],
"source": [
"//Engineering and Chemical Thermodynamics\n",
"//Example 2.9\n",
"//Page no :65\n",
"\n",
"clear ; clc\n",
"//solution(a)\n",
"\n",
"// Given data:\n",
"P1 = 100000 ; // [N/m^2]\n",
"T1 = 298 ; //[K]\n",
"V1 = 0.1 * 0.1 ; // [m^3]\n",
"T2 = 373 ; // [N]\n",
"P_ext = 100000 ; //[N/m^2]\n",
"k = 50000 ; //[N/m]\n",
"A = 0.1 ; //[m^2]\n",
"\n",
"// Applying ideal gas law we getan quadritic eqn of the form :\n",
"// a * V2^2 + b * V2 + c = 0 where\n",
"a = k / (T2 * A^2) ;\n",
"b = (P_ext / T2) - k * V1 / (A^2 * T2) ;\n",
"c = -P1 * V1 / T1 ;\n",
"V2 = (-b + sqrt ( b^2 - (4*a*c))) / (2 * a) ;\n",
"W = -P_ext * (V2 - V1) - ( k * (V2 - V1)^2)/(2 * A**2);//From eqn E2.9C\n",
"disp(' Example: 2.9   Page no : 65') ;\n",
"printf('\n      (a) Work required = %g J \n\n',W);\n",
"\n",
"\n",
"//Solution(b):\n",
"\n",
"//Given data:\n",
"A = 3.355 ;\n",
"B = 0.575 * 10^-3 ;\n",
"D = -0.016 * 10^5 ;\n",
"P1 = 10^5 ; //[N/m^2]\n",
"V1 = 0.01 ; //[m^3]\n",
"R = 8.314 ;\n",
"T1 = 298 ;\n",
"\n",
"n = (P1 * V1) / (R * T1) ;\n",
"function y=f(T),y=R*((A - 1) * T + B/2 * T^2 -D/T)\n",
"endfunction\n",
"del_u = f(373) - f(298) ;\n",
"del_U = n * del_u ;\n",
"Q = del_U - W;\n",
"printf('\n      (b).Heat transfered  = %.4f  J',Q);"
   ]
   }
],
"metadata": {
		  "kernelspec": {
		   "display_name": "Scilab",
		   "language": "scilab",
		   "name": "scilab"
		  },
		  "language_info": {
		   "file_extension": ".sce",
		   "help_links": [
			{
			 "text": "MetaKernel Magics",
			 "url": "https://github.com/calysto/metakernel/blob/master/metakernel/magics/README.md"
			}
		   ],
		   "mimetype": "text/x-octave",
		   "name": "scilab",
		   "version": "0.7.1"
		  }
		 },
		 "nbformat": 4,
		 "nbformat_minor": 0
}
