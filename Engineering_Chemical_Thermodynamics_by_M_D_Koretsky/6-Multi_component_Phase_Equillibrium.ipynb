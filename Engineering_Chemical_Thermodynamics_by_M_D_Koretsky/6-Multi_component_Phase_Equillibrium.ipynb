{
"cells": [
 {
		   "cell_type": "markdown",
	   "metadata": {},
	   "source": [
       "# Chapter 6: Multi component Phase Equillibrium"
	   ]
	},
{
		   "cell_type": "markdown",
		   "metadata": {},
		   "source": [
			"## Example 6.10: Example_6_10.sce"
		   ]
		  },
  {
"cell_type": "code",
	   "execution_count": null,
	   "metadata": {
	    "collapsed": true
	   },
	   "outputs": [],
"source": [
"//Engineering and Chemical Thermodynamics\n",
"//Example 6.10\n",
"//Page no :283\n",
"\n",
"clear ;clc ;\n",
"//Given\n",
"h_H2SO4 = 1.596 ; //[kJ/mol]\n",
"h_H2O = 1.591 ; //[kJ/mol]\n",
"C1 = -74.40 ;\n",
"C2 = 0.561 ;\n",
"A = [0 ,0.1 , 0.2 ,0.3 ,0.4 ,0.5 ,0.6 ,0.7 ,0.8 ,0.9 ,1] ;\n",
"B = [1 ,0.9 ,0.8 ,0.7 ,0.6 ,0.5 ,0.4 ,0.3 ,0.2 ,0.1 ,0] ;\n",
"\n",
"disp(' Example: 6.10   Page no : 283') ;\n",
"for i = 1:11\n",
"    H_bar_H2SO4 = h_H2SO4 + C1 * B(1,i)^2 - 2 * C2 * C1 * A(1,i) * B(1,i)^2 ;\n",
"    H_bar_H2O = h_H2O + C1 * A(1,i)^2 -C2 * C1 * A(1,i)^2 * (1 - 2 * B(1,i)) ;\n",
"    y_data_1(1,i) =  H_bar_H2SO4 ;\n",
"    y_data_2(1,i) =  H_bar_H2O ;\n",
"    x_data(1,i) = A(1,i) ;\n",
"end\n",
"plot(x_data,y_data_1) ;\n",
"plot(x_data,y_data_2) ;\n",
"\n",
"m = y_data_1(1,6)  ;\n",
"s = y_data_2(1,6)  ;\n",
"xtitle('Figue E6.10','x_H2SO4',' Partial molar enthalpy');\n",
"printf('\n     For equimolar mixture del_H_H2SO4 = %.1f kJ/mol   del_H_H2O = %.1f kJ/mol',m,s);"
   ]
   }
,
{
		   "cell_type": "markdown",
		   "metadata": {},
		   "source": [
			"## Example 6.11: Example_6_11.sce"
		   ]
		  },
  {
"cell_type": "code",
	   "execution_count": null,
	   "metadata": {
	    "collapsed": true
	   },
	   "outputs": [],
"source": [
"//Engineering and Chemical Thermodynamics\n",
"//Example 6.11\n",
"//Page no :283\n",
"\n",
"clear ; clc ;\n",
"disp('  Example: 6.11   Page no : 283') ;\n",
"disp('           The problem contains only theory and different substitutions.There is no numerical part involved. Users can go through the book to obtain the required expression.')"
   ]
   }
,
{
		   "cell_type": "markdown",
		   "metadata": {},
		   "source": [
			"## Example 6.12: Example_6_12.sce"
		   ]
		  },
  {
"cell_type": "code",
	   "execution_count": null,
	   "metadata": {
	    "collapsed": true
	   },
	   "outputs": [],
"source": [
"//Engineering and Chemical Thermodynamics\n",
"//Example 6.12\n",
"//Page no :287\n",
"\n",
"clear ; clc ;\n",
"disp('  Example: 6.12   Page no : 287') ;\n",
"disp('           The problem contains only theory and different substitutions.There is no numerical part involved. Users can go through the book to obtain the required expression.')"
   ]
   }
,
{
		   "cell_type": "markdown",
		   "metadata": {},
		   "source": [
			"## Example 6.13: Example_6_13.sce"
		   ]
		  },
  {
"cell_type": "code",
	   "execution_count": null,
	   "metadata": {
	    "collapsed": true
	   },
	   "outputs": [],
"source": [
"//Engineering and Chemical Thermodynamics\n",
"//Example 6.13\n",
"//Page no :287\n",
"\n",
"clear ;clc ;\n",
"//Given\n",
"C1 = 1.596 ;\n",
"C2 = 1.591 ;\n",
"C3 = -74.40 ;\n",
"C4 = -0.561 ;\n",
"A = [ 0 ,0.1 ,0.2 ,0.3 ,0.4 ,0.5 ,0.6 ,0.7 ,0.8 ,0.9 ,1] ;\n",
"m = (-C1 + C2 + C3 * ( C4 * 0.25)) * 1000 ;\n",
"\n",
"disp(' Example: 6.13   Page no : 287') ;\n",
"for i = 1:11 \n",
"    x_H2O = A(1,i) ;\n",
"    x_H2SO4 = 1- x_H2O ;\n",
"    h = C1 * x_H2SO4 + C2 * x_H2O + C3 * x_H2SO4 * x_H2O *(1 + C4 * x_H2SO4) ;\n",
"    C(1,i) = h * 10^3;\n",
"end\n",
"y1 = C(1,6) ;\n",
"\n",
"function y = f613(x) ,\n",
"    y = -m * (x - 0.5 ) + y1 ;\n",
"endfunction\n",
"\n",
"for i = 1:11\n",
"    F(1,i) = f613(A(1,i)) ;\n",
"end\n",
"\n",
"plot(A,C);\n",
"plot(A,F)\n",
"xtitle('Figure E6.13','x_H2O','h (J/mol)');\n",
"\n",
"printf('\n                   H_bar_H2SO4 = %d J/mol      H_bar_H2O = %d J/mol\n ',F(1,1),F(1,11)) ;\n",
"disp('      The partial molar property can be obtained by drawing tangent at mole fraction 0.5 .')"
   ]
   }
,
{
		   "cell_type": "markdown",
		   "metadata": {},
		   "source": [
			"## Example 6.14: Example_6_14.sce"
		   ]
		  },
  {
"cell_type": "code",
	   "execution_count": null,
	   "metadata": {
	    "collapsed": true
	   },
	   "outputs": [],
"source": [
"//Engineering and Chemical Thermodynamics\n",
"//Example 6.14:\n",
"//Page 291\n",
"\n",
"clear ; clc ;\n",
"disp('  Example: 6.14   Page no : 291') ;\n",
"disp('           The problem contains only theory and different substitutions.There is no numerical part involved. Users can go through the book to obtain the required expression.')"
   ]
   }
,
{
		   "cell_type": "markdown",
		   "metadata": {},
		   "source": [
			"## Example 6.1: Example_6_1.sce"
		   ]
		  },
  {
"cell_type": "code",
	   "execution_count": null,
	   "metadata": {
	    "collapsed": true
	   },
	   "outputs": [],
"source": [
"//Engineering and Chemical Thermodynamics\n",
"//Example 6.1:\n",
"//Page no :257\n",
"\n",
"clear ; clc  ; \n",
"disp('  Example: 6.1   Page no : 257') ;\n",
"disp('           The problem contains only theory and different substitutions.There is no numerical part involved. Users can go through the book to obtain the required expression.')"
   ]
   }
,
{
		   "cell_type": "markdown",
		   "metadata": {},
		   "source": [
			"## Example 6.2: Example_6_2.sce"
		   ]
		  },
  {
"cell_type": "code",
	   "execution_count": null,
	   "metadata": {
	    "collapsed": true
	   },
	   "outputs": [],
"source": [
"//Engineering and Chemical Thermodynamics\n",
"//Example 6.2\n",
"//Page no :261\n",
"\n",
"clear ; clc ;\n",
"//Given \n",
"slop = -4222.1 ;\n",
"R = 8.314 ;\n",
"del_h_vap = -R * slop * 10^-3 ;\n",
"\n",
"disp(' Example: 6.2   Page no : 261') ;\n",
"printf('\n     Enthalpy of vapourisation of Ga(CH3)3 = %.1f kJ/mol',del_h_vap) ;"
   ]
   }
,
{
		   "cell_type": "markdown",
		   "metadata": {},
		   "source": [
			"## Example 6.3: Example_6_3.sce"
		   ]
		  },
  {
"cell_type": "code",
	   "execution_count": null,
	   "metadata": {
	    "collapsed": true
	   },
	   "outputs": [],
"source": [
"//Engineering and Chemical Thermodynamics\n",
"//Example 6.3\n",
"//Page no :261\n",
"\n",
"clear ; clc ;\n",
"//The problem contains only theory and different substitutions.There is no numerical part involved. Users can go through the book to obtain the     required expression.\n",
" \n",
"\n",
"disp(' Example: 6.3   Page no : 261') ;\n",
"function y=f(x) , y = -4222.1 * x + 17.556\n",
"endfunction\n",
"xdata = linspace(0.0032,0.004,8) ;\n",
"ydata = f(xdata) ;\n",
"plot(xdata,ydata) ;\n",
"xtitle('Figure E6.2','1/T','ln P_sat (kPa)')"
   ]
   }
,
{
		   "cell_type": "markdown",
		   "metadata": {},
		   "source": [
			"## Example 6.4: Example_6_4.sce"
		   ]
		  },
  {
"cell_type": "code",
	   "execution_count": null,
	   "metadata": {
	    "collapsed": true
	   },
	   "outputs": [],
"source": [
"//Engineering and Chemical Thermodynamics\n",
"//Example 6.4\n",
"//Page no :268\n",
"\n",
"clear ; clc ;\n",
"disp('  Example: 6.4   Page no : 268') ;\n",
"disp('           The problem contains only theory and different substitutions.There is no numerical part involved. Users can go through the book to obtain the required expression.')"
   ]
   }
,
{
		   "cell_type": "markdown",
		   "metadata": {},
		   "source": [
			"## Example 6.5: Example_6_5.sce"
		   ]
		  },
  {
"cell_type": "code",
	   "execution_count": null,
	   "metadata": {
	    "collapsed": true
	   },
	   "outputs": [],
"source": [
"//Engineering and Chemical Thermodynamics\n",
"//Example 6.5\n",
"//Page no :271\n",
"\n",
"clear ; clc ;\n",
"disp('   Example 6.5   Page no:271')\n",
"disp('       There is no numerical part involved in this problem . Users can refer Figure 6.5.')"
   ]
   }
,
{
		   "cell_type": "markdown",
		   "metadata": {},
		   "source": [
			"## Example 6.6: Example_6_6.sce"
		   ]
		  },
  {
"cell_type": "code",
	   "execution_count": null,
	   "metadata": {
	    "collapsed": true
	   },
	   "outputs": [],
"source": [
"//Engineering and Chemical Thermodynamics\n",
"//Example 6.6\n",
"//Page no :277\n",
"\n",
"clear ; clc ;\n",
"//Given \n",
"MW1 = 119.5 ;\n",
"MW2 = 58 ;\n",
"A = [0,4.77,9.83,14.31,19.38,23.27,25.53,25.07,21.55,13.56,0] ;\n",
"B = [0,.1 , .2 , .3 ,.4 ,.5 ,.6 ,.7 ,.8 ,.9,1] ;\n",
"\n",
"disp(' Example: 6.6   Page no : 277') ;\n",
"for i = 1:11\n",
"    \n",
"    x1 = (B(1,i) / MW1) / (B(1,i) / MW1 + (1 - B(1,i)) / MW2) ;\n",
"    x2 = 1 - x1 ;\n",
"    MW = x1 * MW1 + x2 * MW2 ;\n",
"    del_h_mix = - 1*(A(1,i)) * MW ;\n",
"    C(1,i) = del_h_mix ;\n",
"    D(1,i) = x1 ;\n",
"   \n",
"    printf('\n    For weight percent  %.3f    del_h_mix = %.1f J/mol\n',x1,del_h_mix)\n",
"end\n",
"\n",
"xdata = D ;\n",
"ydata = C ;\n",
"plot(xdata ,ydata) ;\n",
"xtitle('Figure E6.6B','x_CHCl3','Del_h_mix  (J/mol)') ;"
   ]
   }
,
{
		   "cell_type": "markdown",
		   "metadata": {},
		   "source": [
			"## Example 6.7: Example_6_7.sce"
		   ]
		  },
  {
"cell_type": "code",
	   "execution_count": null,
	   "metadata": {
	    "collapsed": true
	   },
	   "outputs": [],
"source": [
"//Engineering and Chemical Thermodynamics\n",
"//Example 6.7\n",
"//Page no :279\n",
"\n",
"clear ; clc ;\n",
"//Given \n",
"A = [-32669,-31840,-28727,-26978,-24301,-20083,-13113] ;\n",
"B = [20 ,10 ,5 ,4 ,3 ,2 ,1] ;\n",
"\n",
"disp(' Example: 6.7   Page no : 279') ;\n",
"for i = 1:7\n",
"    del_h_mix = A(1,i) / (1 + B(1,i)) ;\n",
"    C(1,i) = del_h_mix ;\n",
"    D(1,i) = 1 / (1 + B(1,i)) ;\n",
"    printf('\n      For mole fraction %.3f   the entropy of mixing is %d J/mol\n',D(1,i),C(1,i)) ;\n",
"end"
   ]
   }
,
{
		   "cell_type": "markdown",
		   "metadata": {},
		   "source": [
			"## Example 6.8: Example_6_8.sce"
		   ]
		  },
  {
"cell_type": "code",
	   "execution_count": null,
	   "metadata": {
	    "collapsed": true
	   },
	   "outputs": [],
"source": [
"//Engineering and Chemical Thermodynamics\n",
"//Example 6.8\n",
"//Page no :280\n",
"\n",
"clear ; clc ;\n",
"disp('  Example: 6.8   Page no : 280') ;\n",
"disp('           The problem contains only theory and different substitutions.There is no numerical part involved. Users can go through the book to obtain the required expression.')"
   ]
   }
,
{
		   "cell_type": "markdown",
		   "metadata": {},
		   "source": [
			"## Example 6.9: Example_6_9.sce"
		   ]
		  },
  {
"cell_type": "code",
	   "execution_count": null,
	   "metadata": {
	    "collapsed": true
	   },
	   "outputs": [],
"source": [
"//Engineering and Chemical Thermodynamics\n",
"//Example 6.9\n",
"//Page no :282\n",
"\n",
"clear ; clc ;\n",
"//Given\n",
"x1 = 0.1 ;\n",
"x2 = 1- x1 ;\n",
"B11 = -910 ;\n",
"B22 = -1330 ;\n",
"B12 = -2005 ;\n",
"T = 333 ; //[K]\n",
"P = 10 * 10^5 ;\n",
"R = 8.314 ;\n",
"v1 = R * T /P * 10^6 + B11 ;//....E6.9A\n",
"\n",
"disp(' Example: 6.9   Page no : 282') ;\n",
"printf('\n     v1 = %g cm^3/mol\n',v1)\n",
"V_bar_1 = (R * T / P) * 10^6+ (x1^2 + 2 * x1 * x2) * B11 + 2 * x2^2 * B12  - x2^2 * B22 ;//.....E6.9B\n",
"printf('\n     V_bar_1 = %g cm^3/mol\n',V_bar_1) ;\n",
"del_v_mix = x1 * x2 * (2 * B12 - B11 - B22) ;//.....E6.9C\n",
"printf('\n     del_v = %g cm^3/mol',del_v_mix);"
   ]
   }
],
"metadata": {
		  "kernelspec": {
		   "display_name": "Scilab",
		   "language": "scilab",
		   "name": "scilab"
		  },
		  "language_info": {
		   "file_extension": ".sce",
		   "help_links": [
			{
			 "text": "MetaKernel Magics",
			 "url": "https://github.com/calysto/metakernel/blob/master/metakernel/magics/README.md"
			}
		   ],
		   "mimetype": "text/x-octave",
		   "name": "scilab",
		   "version": "0.7.1"
		  }
		 },
		 "nbformat": 4,
		 "nbformat_minor": 0
}
