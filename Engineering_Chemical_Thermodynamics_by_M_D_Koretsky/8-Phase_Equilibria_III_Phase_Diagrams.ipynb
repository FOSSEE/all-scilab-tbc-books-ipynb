{
"cells": [
 {
		   "cell_type": "markdown",
	   "metadata": {},
	   "source": [
       "# Chapter 8: Phase Equilibria III Phase Diagrams"
	   ]
	},
{
		   "cell_type": "markdown",
		   "metadata": {},
		   "source": [
			"## Example 8.10: Example_8_10.sce"
		   ]
		  },
  {
"cell_type": "code",
	   "execution_count": null,
	   "metadata": {
	    "collapsed": true
	   },
	   "outputs": [],
"source": [
"//Engineering and Chemical Thermodynamics\n",
"//Example 8.10\n",
"//Page No:390\n",
"\n",
"clear ; clc ;\n",
"//Given\n",
"R = 8.314 ;\n",
"T = 10 + 273.15 ; //[K]\n",
"A_B = 9.2806 ; // From Appendix A , Table A1.1\n",
"B_B = 2788.5 ; // From Appendix A , Table A1.1\n",
"C_B = -52.36 ; // From Appendix A , Table A1.1\n",
"A_C = 9.1325 ; // From Appendix A , Table A1.1\n",
"B_C = 2766.63 ; // From Appendix A , Table A1.1\n",
"C_C = -50.50 ; // From Appendix A , Table A1.1\n",
"\n",
"x1 = [0,0.0610 ,0.2149 ,0.3187 ,0.4320 ,0.5246 ,0.6117 ,0.7265 ,0.8040 ,0.8830 ,0.8999 ,1] ; //From table E8.9A\n",
"P_exp = [6344 ,6590 ,6980 ,7140 ,7171 ,7216 ,7140 ,6974 ,6845 ,6617 ,6557 ,6073] ; //From table E8.9A\n",
"\n",
"P_1_sat = 6073 ; //[Pa]\n",
"P_2_sat = 6344 ; //[Pa] \n",
"A = 1390:1410 ;\n",
"B = 60:80 ;\n",
"w = 1 / (R * T) ;\n",
"for k = 1:21\n",
"    y = A(k) ;\n",
"    for i = 1:21 \n",
"        z = B(i) ;\n",
"        for j = 1:12\n",
"        P(1,j) = x1(1,j) * exp((y + 3 * z) * (1 - (x1(1,j)))^2 *w-4*z*(1-x1(1,j))^3* w )* P_1_sat + (1-x1(1,j))*exp((y -3*z)*(x1(1,j))^2 * w + 4 * z * (x1(1,j)^3) * w )*P_2_sat ;\n",
"        R(1,j) =(P(1,j) - P_exp(1,j))^2 ;\n",
"        end\n",
"        \n",
"        m = 0 ;\n",
"        for l = 1:12\n",
"            m = m + R(1,l) ;\n",
"        end\n",
"        S(k,i) = m ;\n",
"     end  \n",
"end\n",
"for i = 1:21\n",
"    k = S(i,1) ;\n",
"    for l = 2:21\n",
"        if S(i,l) < k then\n",
"           k = S(i,l) ;\n",
"        end\n",
"    end\n",
"        D(1,i) = k ;\n",
"end\n",
"\n",
"a = D(1,1) ;\n",
"for i = 2:21\n",
"    if D(1,i) < a then\n",
"        a = D(1,i) ;\n",
"    end\n",
"end\n",
"disp(' Example: 8.10   Page no : 390') ;\n",
"for i = 1:21\n",
"    if D(1,i) == a then\n",
"        for l = 1:21\n",
"            if S(i,l) == a then\n",
"                printf('\n     A = %g J/mol',A(1,i));\n",
"                printf('\n     B = %g J/mol',B(1,l)) ;\n",
"            end\n",
"        end\n",
"    end\n",
"end"
   ]
   }
,
{
		   "cell_type": "markdown",
		   "metadata": {},
		   "source": [
			"## Example 8.11: Example_8_11.sce"
		   ]
		  },
  {
"cell_type": "code",
	   "execution_count": null,
	   "metadata": {
	    "collapsed": true
	   },
	   "outputs": [],
"source": [
"//Engineering and Chemical Thermodynamics\n",
"//Example 8.11\n",
"//Page No:390\n",
"\n",
"clear ; clc ;\n",
"//Given\n",
"R = 8.314 ;\n",
"T = 10 + 273.15 ; //[K]\n",
"x1 = [0 ,0.0610 ,0.2149 ,0.3187 ,0.4320 ,0.5246 ,0.6117 ,0.7265 ,0.8040 ,0.8830 ,0.8999 ,1] ; //From table E8.9A\n",
"P_exp = [6344 ,6590 ,6980 ,7140 ,7171 ,7216 ,7140 ,6974 ,6845 ,6617 ,6557 ,6073 ,6073] ; //From table E8.9A\n",
"y1 = [ 1 ,0.0953 ,0.2710 ,0.3600 ,0.4453,0.5106 ,0.5735 ,0.6626 ,0.7312 ,0.8200 ,0.8382, 0 ] ;//From table E8.9A\n",
"P_1_sat = 6073 ; //[Pa]\n",
"P_2_sat = 6344 ; //[Pa]\n",
"\n",
"n = 0 ;\n",
"for i = 2:11\n",
"    x2(1,i) = 1 - x1(1,i) ;\n",
"    y2(1,i) = 1 - y1(1,i) ;\n",
"    g_E(1,i) = R * T *( x1(1,i) * log (( y1(1,i) * P_exp(1,i)) / (x1(1,i)* P_1_sat)) + x2(1,i) * log((y2(1,i) * P_exp(1,i)) / (x2(1,i) * P_2_sat)) ) ;\n",
"    n = n + g_E(1,i) / ((x1(1,i) * x2(1,i)) * 10) ;\n",
"    ydata(1,i-1) = (g_E(1,i)/(x1(1,i)*x2(1,i)));\n",
"    xdata(1,i-1) = x1(1,i) - x2(1,i) ;\n",
"end\n",
"m= 0 ; n=0 ; o = 0 ; p= 0 ;N = 10 ;\n",
"for i = 2:11\n",
"    m = m + g_E(1,i) * (2 * x1(1,i) - 1) / ( x1(1,i) *  x2(1,i)) ;\n",
"    n = n + g_E(1,i) / ( x1(1,i) *  x2(1,i)) ;\n",
"    o = o + (2 * x1(1,i) - 1)  ;\n",
"    p = p + (2 * x1(1,i) - 1)^2 ;\n",
"end\n",
"x_bar = o / N ;\n",
"y_bar = n / N ;\n",
"a1 = (N * m - n * o)/(N * p - o^2) ;\n",
"a0 = y_bar - a1 * x_bar ;\n",
"\n",
"for i = 1:10\n",
"      ydata2(1,i) = a0 + a1*xdata(1,i) ;\n",
"end\n",
"plot(xdata,ydata,'+') ;\n",
"plot(xdata,ydata2) ;\n",
"xtitle('Figure E8.11','x1-x2','g_E/x1*x2') ;\n",
"disp(' Example: 8.11   Page no : 390') ;\n",
"printf('\n      From average ,  the value of A = %d J/mol\n',n/10) ;\n",
"printf('\n      From linear regression best fit line the values of A and B are     %.1f J/mol    &     %.1f J/mol   respectively .',a0 , a1) ;\n",
"//Readers can refer figure E8.11 ."
   ]
   }
,
{
		   "cell_type": "markdown",
		   "metadata": {},
		   "source": [
			"## Example 8.12: Example_8_12.sce"
		   ]
		  },
  {
"cell_type": "code",
	   "execution_count": null,
	   "metadata": {
	    "collapsed": true
	   },
	   "outputs": [],
"source": [
"//Engineering and Chemical Thermodynamics\n",
"//Example 8.12\n",
"//Page no :395\n",
"\n",
"clear ; clc ;\n",
"//Given \n",
"H_O2 = 44253.9 ;//[bar] , From table 8.1\n",
"p_O2 = 0.21 ; //[bar]\n",
"\n",
"x_O2 = p_O2 / H_O2 ;\n",
"v_H2O = 1/(1/0.001 * 1/0.018 * 0.001 );\n",
"_O2_ = x_O2 / v_H2O ; //[M]\n",
"disp(' Example: 8.12   Page no : 395') ;\n",
"printf('\n     Mole fraction of O2 = %g',x_O2 ) ;\n",
"printf('\n     Concentration of O2 = %g M ',_O2_) ;"
   ]
   }
,
{
		   "cell_type": "markdown",
		   "metadata": {},
		   "source": [
			"## Example 8.13: Example_8_13.sce"
		   ]
		  },
  {
"cell_type": "code",
	   "execution_count": null,
	   "metadata": {
	    "collapsed": true
	   },
	   "outputs": [],
"source": [
"//Engineering and Chemical Thermodynamics\n",
"//Example 8.13\n",
"//Page no :396\n",
"\n",
"clear ; clc ;\n",
"//Given \n",
"P = 300 ; //[bar]\n",
"V_bar_inf_N2 = 3.3 * 10^-5 ;\n",
"R = 8.314 ;\n",
"T = 298 ; //[K]\n",
"y_N2 = 1 ; // At 25*C vapour pressure of water is small\n",
"H_N2_1 = 87365 ; //[bar]\n",
"P_c = 33.8 ; //[bar]\n",
"T_c = 126.2 ;// [K]\n",
"w = 0.039 ; // From Appendix A.1 \n",
"log_w_0 = 0.013 ;\n",
"log_w_1 = 0.210 ;\n",
"H_N2_300 = H_N2_1 * exp((V_bar_inf_N2 * (P -1) * 10^5 )/ (R * T)) ;\n",
"\n",
"k = log_w_0 + w * log_w_1 ;\n",
"sai_N2 = 10^k ;\n",
"x_N2 = y_N2 * sai_N2 * P / H_N2_300 ;\n",
"\n",
"disp(' Example: 8.13   Page no : 396') \n",
"printf('\n     Solubility of N2 in water = %.5f',x_N2) ;"
   ]
   }
,
{
		   "cell_type": "markdown",
		   "metadata": {},
		   "source": [
			"## Example 8.14: Example_8_14.sce"
		   ]
		  },
  {
"cell_type": "code",
	   "execution_count": null,
	   "metadata": {
	    "collapsed": true
	   },
	   "outputs": [],
"source": [
"//Engineering and Chemical Thermodynamics\n",
"//Example 8.14\n",
"//Page no :400\n",
"\n",
"clear  ; clc;\n",
"disp('  Example: 8.14   Page no : 400') ;\n",
"disp('           The problem does not contain any numerical calculation . The readers can go through the text book to get the required answer .')"
   ]
   }
,
{
		   "cell_type": "markdown",
		   "metadata": {},
		   "source": [
			"## Example 8.15: Example_8_15.sce"
		   ]
		  },
  {
"cell_type": "code",
	   "execution_count": null,
	   "metadata": {
	    "collapsed": true
	   },
	   "outputs": [],
"source": [
"//Engineering and Chemical Thermodynamics\n",
"//Example 8.15\n",
"//Page no :402\n",
"\n",
"clear ; clc;\n",
"//Given \n",
"R = 8.314 ;\n",
"T = 20 + 273 ;//[K]\n",
"A = 6000 ; //[J/mol]\n",
"B = -384 ; //[J/mol]\n",
"x_a = [0.001 ,0.03 ,0.05 ,0.06 ,0.075 ,0.1 ,0.12 , 0.13 ,0.15 ,0.2 ,0.25 ,0.3 ,0.35 ,0.4 ,0.45,0.475 ,0.5 ,0.55 ,0.6 ,0.65  ,0.7 ,0.75 ,0.8 ,0.8475 ,0.85  ,0.9 ,0.925 ,0.95 ,0.975 ,0.999] ;\n",
"\n",
"for i = 1:30\n",
"    y_data(1,i) = R * T * ( x_a(1,i) * log(x_a(1,i)) + (1 - x_a(1,i)) * log(1- x_a(1,i))) + x_a(1,i) * (1 - x_a(1,i)) * (A + B * (2*x_a(1,i) - 1 )) ;\n",
"    y_data2(1,i) = - 82 * x_a(1,i)- 185.6 ;\n",
"end\n",
"\n",
"m = min(y_data) ;\n",
"for i = 1:30\n",
"    if y_data(1,i) == m then\n",
"       a = x_a(1,i) ;\n",
"    end    \n",
"end\n",
"\n",
"\n",
"for i = 1: 30 \n",
"     y_data2(1,i) = -(R * T *( log(a)  - log(1 - a)) + A * (1 - 2*a) + B * (6 * a - 1 - 6 * a^2)) * (x_a(1,i) - a) + m ;\n",
"end\n",
"\n",
"for i = 1:20\n",
"    y_data3(1,i) = y_data(1,i) - y_data2(1,i) ;\n",
"end\n",
"n = min(y_data3) ;\n",
"\n",
"for i = 1:20\n",
"    if y_data3(1,i) == n then\n",
"       b = x_a(1,i) ;\n",
"    end    \n",
"end\n",
"\n",
"\n",
"disp(' Example: 8.15   Page no : 402') ;\n",
"plot(x_a ,y_data) ;\n",
"plot(x_a ,y_data2) ;\n",
"xtitle(' Figure E8.15','x_a','g - x_a * g_a - x_b * g_b') ;\n",
"\n",
"printf('\n\n             The equilibrium composition can be found by drawing a line tangent to the minima .\n\n                     In this case the answer is %.2f and %.1f   .' , a ,b)"
   ]
   }
,
{
		   "cell_type": "markdown",
		   "metadata": {},
		   "source": [
			"## Example 8.16: Example_8_16.sce"
		   ]
		  },
  {
"cell_type": "code",
	   "execution_count": null,
	   "metadata": {
	    "collapsed": true
	   },
	   "outputs": [],
"source": [
"//Engineering and Chemical Thermodynamics\n",
"//Example 8.16\n",
"//Page no :403\n",
"\n",
"clear  ; clc;\n",
"//Given\n",
"A = 6349 ; //[J/mol]\n",
"B = -384 ; //[J/mol]\n",
"R = 8.314 ;\n",
"T = 20 + 273 ; //[K]\n",
"\n",
"k = 0.000001 ;\n",
"disp(' Example: 8.16   Page no : 403') ;\n",
"function y816 = f816(x_a) , y816 = R * T * (1/x_a + 1/(1 - x_a)) - 2 * A +6 * B * (1 - 2 * x_a) + k\n",
"endfunction\n",
"ans1 = fsolve([0.1],f816) ;\n",
"ans2 = fsolve([0.5],f816) ;\n",
"\n",
"printf('\n    %.3f < x_a < %.3f ',ans1,ans2)"
   ]
   }
,
{
		   "cell_type": "markdown",
		   "metadata": {},
		   "source": [
			"## Example 8.17: Example_8_17.sce"
		   ]
		  },
  {
"cell_type": "code",
	   "execution_count": null,
	   "metadata": {
	    "collapsed": true
	   },
	   "outputs": [],
"source": [
"//Engineering and Chemical Thermodynamics\n",
"//Example 8.17\n",
"//Page no :406\n",
"clear  ; clc;\n",
"//Given\n",
"\n",
"T = 300 ; //[K]\n",
"A = 6235 ; //[J/mol] \n",
"P_a_sat = 100 * 10^3 ; //[Pa]\n",
"P_b_sat = 50 * 10^3 ; //{Pa}\n",
"R = 8.314 ;\n",
"w = 1/(R * T) ;\n",
"function Z817 = f817(R)\n",
"    x_a_a = R(1) ;\n",
"    x_a_b = R(2) ;\n",
"    Z817(1) = x_a_b * exp(A * (1 - x_a_b) ^ 2 * w) - x_a_a * exp(A * (1 - x_a_a) ^ 2 * w) ; // E8.17A\n",
"    Z817(2) = (1 - x_a_b) * exp(A * ( x_a_b) ^ 2 * w) - (1 - x_a_a) * exp(A * (x_a_a) ^ 2 * w ) ; // E8.17B\n",
"endfunction\n",
"x0 = [0.75 ; 0.1] ;\n",
"[z,fxs,m] = fsolve(x0,f817) ;\n",
"disp(' Example: 8.17  Page no : 406') ;\n",
"printf('\n        The compositions are : x_a_a = %.3f and x_a_b = %.3f',z(1,1), z(2,1)) ;\n",
"\n",
"P = z(1,1) * exp(A * z(2,1) ^ 2 * w) * P_a_sat + z(2,1) * exp(A * z(1,1) ^ 2 * w) * P_b_sat ;\n",
"printf('\n        Total pressure = %d kPa',P * 10^-3) ;\n",
"y_a = z(1,1) * exp(A * z(2,1) ^ 2 * w) * P_a_sat / P ;\n",
"printf('\n            y_a = %.3f' , y_a ) ;"
   ]
   }
,
{
		   "cell_type": "markdown",
		   "metadata": {},
		   "source": [
			"## Example 8.18: Example_8_18.sce"
		   ]
		  },
  {
"cell_type": "code",
	   "execution_count": null,
	   "metadata": {
	    "collapsed": true
	   },
	   "outputs": [],
"source": [
"//Engineering and Chemical Thermodynamics\n",
"//Example 8.18\n",
"//Page no :418\n",
"\n",
"clear ; clc ;\n",
"//Given \n",
"T_b = 373.15 ; //[K]\n",
"del_h_vap = 2257 ; //[J/g]\n",
"MW_salt = 58.5 ; //[g/mol]\n",
"MW_water = 18 ; //[g/mol]\n",
"w_salt = 3.5 ;\n",
"w_water = 100 - w_salt ;\n",
"R = 8.314 ;\n",
"\n",
"x_salt = (w_salt / MW_salt) / (w_salt / MW_salt + w_water / MW_water) ;\n",
"x_b = 2 * x_salt ;// We assume NaCl completely dissociates into Na+ & Cl- ions\n",
"\n",
"del_T = R * T_b^2 / (del_h_vap * MW_water)* x_b ;\n",
"disp(' Example: 8.18   Page no : 418') \n",
"printf('\n    The temperature that sea water boils is = %.2f degreeC',100 + del_T);"
   ]
   }
,
{
		   "cell_type": "markdown",
		   "metadata": {},
		   "source": [
			"## Example 8.19: Example_8_19.sce"
		   ]
		  },
  {
"cell_type": "code",
	   "execution_count": null,
	   "metadata": {
	    "collapsed": true
	   },
	   "outputs": [],
"source": [
"//Engineering and Chemical Thermodynamics\n",
"//Example 8.19\n",
"//Page no :418\n",
"\n",
"clear ; clc ;\n",
"//Given\n",
"rho_w = 1000 ; // [kg/m^3]\n",
"g = 9.8 ; // [m/s^2]\n",
"h = 0.0071 ;//[m]\n",
"m_b = 1.93 * 10^-3 ; // [kg]\n",
"V = 520 * 10^-6 ; //[m^3]\n",
"R = 8.314 ;\n",
"T = 298 ;\n",
"\n",
"PI = rho_w * g * h ;\n",
"C_b = m_b / V ;\n",
"MW_b = R * T * C_b / PI ;\n",
"\n",
"disp(' Example: 8.19   Page no : 418') \n",
"printf('\n      The molecular weight of the protein = %d kg/mol', MW_b );"
   ]
   }
,
{
		   "cell_type": "markdown",
		   "metadata": {},
		   "source": [
			"## Example 8.1: Example_8_1.sce"
		   ]
		  },
  {
"cell_type": "code",
	   "execution_count": null,
	   "metadata": {
	    "collapsed": true
	   },
	   "outputs": [],
"source": [
"//Engineering and Chemical Thermodynamics\n",
"//Example 8.1 \n",
"//Page 369\n",
"\n",
"clear ; clc ;\n",
"disp('  Example: 8.1   Page no : 369') ;\n",
"disp('           The problem contains only theory and different substitutions.There is no numerical part involved. Users can go through the book to obtain the required expression .') ;"
   ]
   }
,
{
		   "cell_type": "markdown",
		   "metadata": {},
		   "source": [
			"## Example 8.2: Example_8_2.sce"
		   ]
		  },
  {
"cell_type": "code",
	   "execution_count": null,
	   "metadata": {
	    "collapsed": true
	   },
	   "outputs": [],
"source": [
"//Engineering and Chemical Thermodynamics\n",
"//Example 8.2\n",
"//Page no :369\n",
"\n",
"clear ; clc ;\n",
"//Given\n",
"A_C5H12 = 9.2131 ; //From table E8.2A\n",
"B_C5H12 = 2477.07 ; //From table E8.2A\n",
"C_C5H12 = -39.94 ; //From table E8.2A\n",
"A_C6H12 = 9.1325 ; //From table E8.2A\n",
"B_C6H12 = 2766.63 ; //From table E8.2A\n",
"C_C6H12 = -50.50 ; //From table E8.2A\n",
"A_C6H14 = 9.2164 ; //From table E8.2A\n",
"B_C6H14 = 2697.55 ; //From table E8.2A\n",
"C_C6H14 = -48.78 ; //From table E8.2A\n",
"A_C7H16 = 9.2535 ; //From table E8.2A\n",
"B_C7H16 = 2911.32 ; //From table E8.2A\n",
"C_C7H16 = -56.51 ; //From table E8.2A\n",
"\n",
"x_C5H12 = 0.3 ;\n",
"x_C6H12 = 0.3 ;\n",
"x_C6H14 = 0.2 ;\n",
"x_C7H16 = 0.2 ;\n",
"\n",
"function y82 = f82(T), y82 = -1 + (x_C5H12 * exp(A_C5H12 - B_C5H12 / (T + C_C5H12)) + x_C6H12 * exp(A_C6H12 - B_C6H12 / (T + C_C6H12)) + x_C6H14 * exp(A_C6H14 - B_C6H14 / (T + C_C6H14)) + x_C5H12 * exp(A_C5H12 - B_C5H12 / (T + C_C5H12)) + x_C7H16 * exp(A_C7H16 - B_C7H16 / (T + C_C7H16)));\n",
"endfunction ;\n",
"y =fsolve([300],f82) ;\n",
"disp(' Example: 8.2   Page no : 369') ;\n",
"printf('\n    The temperature at which the liquid develops the first bubble of vapour = %d K',y); "
   ]
   }
,
{
		   "cell_type": "markdown",
		   "metadata": {},
		   "source": [
			"## Example 8.3: Example_8_3.sce"
		   ]
		  },
  {
"cell_type": "code",
	   "execution_count": null,
	   "metadata": {
	    "collapsed": true
	   },
	   "outputs": [],
"source": [
"//Engineering and Chemical Thermodynamics\n",
"//Example 8.3\n",
"//Page no :370\n",
"\n",
"clear  ; clc ;\n",
"//Given\n",
"A_C5H12 = 9.2131 ; //From table E8.2A\n",
"B_C5H12 = 2477.07 ; //From table E8.2A\n",
"C_C5H12 = -39.94 ; //From table E8.2A\n",
"A_C6H12 = 9.1325 ; //From table E8.2A\n",
"B_C6H12 = 2766.63 ; //From table E8.2A\n",
"C_C6H12 = -50.50 ; //From table E8.2A\n",
"A_C6H14 = 9.2164 ; //From table E8.2A\n",
"B_C6H14 = 2697.55 ; //From table E8.2A\n",
"C_C6H14 = -48.78 ; //From table E8.2A\n",
"A_C7H16 = 9.2535 ; //From table E8.2A\n",
"B_C7H16 = 2911.32 ; //From table E8.2A\n",
"C_C7H16 = -56.51 ; //From table E8.2A\n",
"\n",
"y_C5H12 = 0.3 ;\n",
"y_C6H12 = 0.3 ;\n",
"y_C6H14 = 0.2 ;\n",
"y_C7H16 = 0.2 ;\n",
"P = 1 ; //[bar]\n",
"\n",
"function y83 = f83(T), y83 = -1 + P * ( y_C5H12 / exp(A_C5H12 - B_C5H12 / (T + C_C5H12)) + y_C6H12 / exp(A_C6H12 - B_C6H12 / (T + C_C6H12)) + y_C6H14 / exp(A_C6H14 - B_C6H14 / (T + C_C6H14)) + y_C7H16 / exp(A_C7H16 - B_C7H16 / (T + C_C7H16)));\n",
"endfunction ;\n",
"y =fsolve([300],f83) ;\n",
"disp(' Example: 8.3   Page no : 370') ;\n",
"printf('\n\n           The temperature at which vapour develops the first drop of liquid = %.2f K',y) ;\n",
"\n",
"T = y ;\n",
"P_sat_C5H12 = exp(A_C5H12 - B_C5H12 / (T + C_C5H12)) ;\n",
"p_sat_C6H12 = exp(A_C6H12 - B_C6H12 / (T + C_C6H12)) ;\n",
"P_sat_C6H14 = exp(A_C6H14 - B_C6H14 / (T + C_C6H14)) ;\n",
"P_sat_C7H16 = exp(A_C7H16 - B_C7H16 / (T + C_C7H16)) ;\n",
"\n",
"x_C5H12 = y_C5H12 * P / P_sat_C5H12 ;\n",
"x_C6H12 = y_C6H12 * P / p_sat_C6H12 ;\n",
"x_C6H14 = y_C6H14 * P / P_sat_C6H14 ;\n",
"x_C7H16 = y_C7H16 * P / P_sat_C7H16 ;\n",
"\n",
"printf('\n\n         x_C5H12 = %f     x_C6H12 = %f\n\n         x_C6H14 = %f     x_C7H16 = %f',x_C5H12,x_C6H12 ,x_C6H14,x_C7H16) ;"
   ]
   }
,
{
		   "cell_type": "markdown",
		   "metadata": {},
		   "source": [
			"## Example 8.4: Example_8_4.sce"
		   ]
		  },
  {
"cell_type": "code",
	   "execution_count": null,
	   "metadata": {
	    "collapsed": true
	   },
	   "outputs": [],
"source": [
"//Engineering and Chemical Thermodynamics\n",
"//Example 8.4\n",
"//Page no :371\n",
"\n",
"clear ; clc ;\n",
"//Given \n",
"P_a_sat = 0.53 ;  //[bar]\n",
"P_b_sat = 0.16 ; //[bar]\n",
"X = 1/3 ;\n",
"Y = 1- X ;\n",
"x_a_feed = 0.5 ;\n",
"x_b_feed = 0.5 ;\n",
"a = Y * -(x_a_feed + x_b_feed) + Y^2 ;\n",
"b = X * Y *(P_a_sat + P_b_sat) - (x_a_feed * P_b_sat + x_b_feed * P_a_sat)*X ;\n",
"c =  P_a_sat * P_b_sat * X^2;\n",
"\n",
"k=poly(0,'k');\n",
"P = c + b*k^1 + a*k^2 ;\n",
"M = roots(P);\n",
"\n",
"disp(' Example: 8.4   Page no : 371') ;\n",
"for i = 1:2\n",
"    sign(M(i,1)) ;\n",
"        if ans == 1 then\n",
"          printf('\n\n     Pressure  = %.2f bar',M(i,1)) ;  \n",
"          Xa = x_a_feed / (P_a_sat / M(i,1) * X + Y) ;//....E8.4D\n",
"          Ya = Xa * P_a_sat / M(i,1)  ;//.....E8.4B\n",
"          printf('\n\n       Xa = %.2f \n       Ya = %.2f\n',Xa,Ya);\n",
"        end\n",
"end"
   ]
   }
,
{
		   "cell_type": "markdown",
		   "metadata": {},
		   "source": [
			"## Example 8.5: Example_8_5.sce"
		   ]
		  },
  {
"cell_type": "code",
	   "execution_count": null,
	   "metadata": {
	    "collapsed": true
	   },
	   "outputs": [],
"source": [
"//Engineering and Chemical Thermodynamics\n",
"//Example 8.5\n",
"//Page no :378\n",
"\n",
"clear  ; clc;\n",
"//Given\n",
"P1_sat = 0.72 ; //[bar]\n",
"P2_sat = 0.31 ; //[bar]\n",
"A = 3590 ;\n",
"B = -1180 ;\n",
"R = 8.314 ;\n",
"T = 70 + 273 ;//[K]\n",
"function y85 = f85(x1) , y85 = -.48 + ( x1 * exp((A + 3*B) * (1 - x1)^2 / (R * T) - 4 * B * (1 - x1)^3  / (R * T)) * P1_sat) / ( x1 * exp((A + 3*B) * (1 - x1)^2 / (R * T) -4 * B * (1 - x1)^3  / (R * T)) * P1_sat +(1 - x1) * exp((A - 3*B) * x1^2 / (R * T) -4 * B * x1^3  / (R * T)) * P2_sat ) ; \n",
"endfunction\n",
"y = fsolve([0.1],f85);\n",
"x1 = y ;\n",
"P = ( x1 * exp((A + 3*B) * (1 - x1)^2 / (R * T) - 4 * B * (1 - x1)^3  / (R * T)) * P1_sat) + (1 - x1) * exp((A - 3*B) * x1^2 / (R * T) -4 * B * x1^3  / (R * T)) * P2_sat ;\n",
"disp(' Example: 8.5   Page no : 378') ;\n",
"printf('\n     The value of x1 = %.3f\n\n',y) ;\n",
"printf('      Pressure = %.2f bar',P) ;"
   ]
   }
,
{
		   "cell_type": "markdown",
		   "metadata": {},
		   "source": [
			"## Example 8.6: Example_8_6.sce"
		   ]
		  },
  {
"cell_type": "code",
	   "execution_count": null,
	   "metadata": {
	    "collapsed": true
	   },
	   "outputs": [],
"source": [
"//Engineering and Chemical Thermodynamics\n",
"//Example 8.6 \n",
"//Page no :378\n",
"\n",
"clear ; clc ;\n",
"disp('  Example: 8.6   Page no : 378') ;\n",
"disp('           The problem contains only theory and different substitutions.There is no numerical part involved. Users can go through the book to obtain the required expression .') ;"
   ]
   }
,
{
		   "cell_type": "markdown",
		   "metadata": {},
		   "source": [
			"## Example 8.7: Example_8_7.sce"
		   ]
		  },
  {
"cell_type": "code",
	   "execution_count": null,
	   "metadata": {
	    "collapsed": true
	   },
	   "outputs": [],
"source": [
"//Engineering and Chemical Thermodynamics\n",
"//Example 8.7\n",
"//Page no :385\n",
"\n",
"clear ; clc;\n",
"//Given \n",
"P = 0.223 ; //[bar]\n",
"P_a_sat = 0.156 ; // [bar]\n",
"P_b_sat = 0.124 ; //[bar]\n",
"R = 8.314 ;\n",
"T = 50 + 273 ;\n",
"Xa = 0.554 ;\n",
"Xb = 1 - Xa ;\n",
"\n",
"gama_a = P / P_a_sat ;\n",
"A1 = R * T * log(gama_a) / (Xb^2) * 10^-3 ;\n",
"gama_b = P / P_b_sat ;\n",
"A2 = R * T * log(gama_b) / (Xa^2) * 10^-3 ;   \n",
"\n",
"A = ceil((A1 + A2) / 2) ;\n",
"disp(' Example: 8.7   Page no : 385') ;\n",
"printf('\n    Value of two suffix Marguels parameter = %.1f kJ/mol',A);"
   ]
   }
,
{
		   "cell_type": "markdown",
		   "metadata": {},
		   "source": [
			"## Example 8.8: Example_8_8.sce"
		   ]
		  },
  {
"cell_type": "code",
	   "execution_count": null,
	   "metadata": {
	    "collapsed": true
	   },
	   "outputs": [],
"source": [
"//Engineering and Chemical Thermodynamics\n",
"//Example 8.8 \n",
"//Page no :385\n",
"\n",
"clear ; clc ;\n",
"disp('  Example: 8.8   Page no : 385') ;\n",
"disp('           The problem contains only theory and different substitutions.There is no numerical part involved. Users can go through the book to obtain the required expression .') ;"
   ]
   }
,
{
		   "cell_type": "markdown",
		   "metadata": {},
		   "source": [
			"## Example 8.9: Example_8_9.sce"
		   ]
		  },
  {
"cell_type": "code",
	   "execution_count": null,
	   "metadata": {
	    "collapsed": true
	   },
	   "outputs": [],
"source": [
"//Engineering and Chemical Thermodynamics\n",
"//Example 8.9\n",
"//Page No:388\n",
"\n",
"clear  ; clc ;\n",
"//Given\n",
"R = 8.314 ;\n",
"T = 10 + 273 ; //[K]\n",
"A_B = 9.2806 ; // From Appendix A , Table A1.1\n",
"B_B = 2788.5 ; // From Appendix A , Table A1.1\n",
"C_B = -52.36 ; // From Appendix A , Table A1.1\n",
"A_C = 9.1325 ; // From Appendix A , Table A1.1\n",
"B_C = 2766.63 ; // From Appendix A , Table A1.1\n",
"C_C = -50.50 ; // From Appendix A , Table A1.1\n",
"\n",
"x1 = [0 ,0.0610 ,0.2149 ,0.3187 ,0.4320 ,0.5246 ,0.6117 ,0.7265 ,0.8040 ,0.8830 ,0.8999 ,1] ; //From table E8.9A\n",
"P_exp = [6344 ,6590 ,6980 ,7140 ,7171 ,7216 ,7140 ,6974 ,6845 ,6617 ,6557 ,6073] ; //From table E8.9A\n",
"\n",
"P_1_sat = 6072.15 ; //[Pa]\n",
"P_2_sat = 6344 ; //[Pa]  \n",
"\n",
"A = [1390 ,1391 ,1392 ,1393 ,1394 ,1395 ,1396 ,1397 ,1398 ,1399 ,1400 ,1401 ,1402 ,1403 ,1404 ,1405 ,1406 ,1407 ,1408 ,1409 ,1410 ] ;\n",
"\n",
"for k = 1:21\n",
"    y = A(1,k) ;\n",
"   for i = 1:12\n",
"        P(1,i) = x1(1,i) * exp( y / (R * T ) * (1 - x1(1,i))^2) * P_1_sat+(1 - x1(1,i)) * exp(y / (R * T ) * x1(1,i)^2) * P_2_sat ;\n",
"        C(k,i) = (P(1,i) - P_exp(1,i))^2 ;\n",
"    end\n",
"end \n",
"\n",
"for k = 1:21 \n",
"   y = 0 ;\n",
"   for i = 1:12\n",
"     y = y + C(k,i) ;       \n",
"   end\n",
"    R(1,k) = y ;\n",
"end\n",
"\n",
"k = 100000 ;\n",
"for i = 1:21\n",
"    K = R(1,i) ; \n",
"    if K < k then\n",
"        k = K ;\n",
"    end\n",
"end\n",
"disp(' Example: 8.9   Page no : 388') ;\n",
"for i = 1:21\n",
"    if R(1,i) == k then\n",
"      printf('\n      The two suffix Margules co-efficient is = %g J/mol' ,A(1,i)) ; \n",
"    end\n",
"end"
   ]
   }
],
"metadata": {
		  "kernelspec": {
		   "display_name": "Scilab",
		   "language": "scilab",
		   "name": "scilab"
		  },
		  "language_info": {
		   "file_extension": ".sce",
		   "help_links": [
			{
			 "text": "MetaKernel Magics",
			 "url": "https://github.com/calysto/metakernel/blob/master/metakernel/magics/README.md"
			}
		   ],
		   "mimetype": "text/x-octave",
		   "name": "scilab",
		   "version": "0.7.1"
		  }
		 },
		 "nbformat": 4,
		 "nbformat_minor": 0
}
