{
"cells": [
 {
		   "cell_type": "markdown",
	   "metadata": {},
	   "source": [
       "# Chapter 7: power and power factor"
	   ]
	},
{
		   "cell_type": "markdown",
		   "metadata": {},
		   "source": [
			"## Example 7.10: calculation_of_pure_resistive_load_for_maximum_power.sce"
		   ]
		  },
  {
"cell_type": "code",
	   "execution_count": null,
	   "metadata": {
	    "collapsed": true
	   },
	   "outputs": [],
"source": [
"clc\n",
"clear\n",
"\n",
"//input\n",
"v=3.3;//voltage rating of an alternator in kV\n",
"ri=3;//internal resistance of alternator in ohms\n",
"xl=32;//series inductive reactance in ohms\n",
"rc=1;//resistance of a cable in ohms\n",
"xc=2;//effective reactance of the cable in ohms\n",
"\n",
"//calculations\n",
"R=ri+rc;//resistance of line and alternator in ohms\n",
"X=xl+xc;//reactance of line and alternator in ohms\n",
"Z=((R^2)+(X^2))^0.5;//impedance of line and alternator in ohms\n",
"Rl=Z;//required load resistance in ohms\n",
"zt=(((Z+R)^2)+(X^2))^0.5;//total impedance of the circuit in ohms\n",
"I=(v*1000)/zt;//current in amperes\n",
"pmax=(I*I*Rl)/1000;//maximum power in load in kilowatts\n",
"\n",
"//output\n",
"mprintf('togive a maximum load power of %3.0f kW the load must have a resistance of %3.2f ohms',pmax,Rl)"
   ]
   }
,
{
		   "cell_type": "markdown",
		   "metadata": {},
		   "source": [
			"## Example 7.11: calculation_of_components_of_a_fully_variable_load.sce"
		   ]
		  },
  {
"cell_type": "code",
	   "execution_count": null,
	   "metadata": {
	    "collapsed": true
	   },
	   "outputs": [],
"source": [
"clc\n",
"clear\n",
"\n",
"//input\n",
"r=10;//resistance in source impedance in kiloohms\n",
"l=0.005;//inductance in source impedance in henry\n",
"v=100;//supply voltage in volts\n",
"f=10000;//supply frequency in hertz\n",
"\n",
"//calculations\n",
"xl=2*%pi*f*l;//inductive reactance in ohms\n",
"c=((10^6)*(10^3))/(2*%pi*f*xl);//capacitance in picofarad\n",
"\n",
"//output\n",
"mprintf('for maximum power transfer the load must consist of %3.0f kilo ohms resistance in series with a capacitance of %3.0f pF',r,c)"
   ]
   }
,
{
		   "cell_type": "markdown",
		   "metadata": {},
		   "source": [
			"## Example 7.12: calculation_of_power_dissipated_by_the_inductor.sce"
		   ]
		  },
  {
"cell_type": "code",
	   "execution_count": null,
	   "metadata": {
	    "collapsed": true
	   },
	   "outputs": [],
"source": [
"clc\n",
"clear\n",
"\n",
"//input\n",
"r=20;//resistance of resistor connected in series with inductor in ohms\n",
"v=240;//supply voltage in volts\n",
"f=50;//supply frequency in hertz\n",
"pdr=130;//potential drop across resistor in volts\n",
"pdl=170;//potential drop across inductor in volts\n",
"\n",
"//calculations\n",
"cosp=((v*v)-(pdr^2)-(pdl^2))/(2*pdr*pdl);//power factor\n",
"i=pdr/r;//current in amperes\n",
"p=pdl*i*cosp;//power in watts\n",
"\n",
"//output\n",
"mprintf('the power dissipated by the inductor is %3.0f W',p)"
   ]
   }
,
{
		   "cell_type": "markdown",
		   "metadata": {},
		   "source": [
			"## Example 7.13: calculation_of_inductance_resistance_and_the_power_loss.sce"
		   ]
		  },
  {
"cell_type": "code",
	   "execution_count": null,
	   "metadata": {
	    "collapsed": true
	   },
	   "outputs": [],
"source": [
"clc\n",
"clear\n",
"\n",
"//input\n",
"r=32;//resistance connected in parallel with an inductor in ohms\n",
"v=240;//supply voltage in volts\n",
"f=50;//supply frequency in hertz\n",
"il=8;//current in inductor in amperes\n",
"it=14;//total current in amperes\n",
"\n",
"//calculations\n",
"ir=v/r;//current in resistor in amperes\n",
"cosp=((it^2)-(ir^2)-(il^2))/(2*ir*il);//power factor\n",
"R=(v*cosp)/il;//resistance of inductor in ohms\n",
"xl=(v*sin(acos(cosp)))/il;//reactance in ohms\n",
"l=(xl*1000)/(2*%pi*f);//inductance in millihenry\n",
"p=il*il*R;//power loss in inductor in watts\n",
"\n",
"//output\n",
"mprintf('the resistance and the inductance of the inductor are %3.2f ohms and %3.0f mH respectively and the power loss is %3.0f W',R,l,p)"
   ]
   }
,
{
		   "cell_type": "markdown",
		   "metadata": {},
		   "source": [
			"## Example 7.14: finding_the_power_for_the_load_and_whole_circuit.sce"
		   ]
		  },
  {
"cell_type": "code",
	   "execution_count": null,
	   "metadata": {
	    "collapsed": true
	   },
	   "outputs": [],
"source": [
"clc\n",
"clear\n",
"\n",
"//input\n",
"i1=9;//current taken by a resistive inductive load form supply in amperes\n",
"v=250;//supply voltage in volts\n",
"f=50;//frequency in hertz\n",
"i2=12;//current taken when a resistor is placed in parallel with the load in amperes\n",
"r=50;//resistance of the resistor placed in parallel\n",
"\n",
"//calculations\n",
"ir=v/r;//current through the resistor in amperes\n",
"cosp=((i2^2)-(ir^2)-(i1^2))/(2*i1*ir);//power factor \n",
"cosP=(ir+(i1*cosp))/i2;//power factor for whole circuit \n",
"pc=(v*i2*cosP)/1000;//power taken by whole circuit in kilowatts\n",
"pl=(v*i1*cosp);//power taken by load in watts\n",
"\n",
"//output\n",
"mprintf('the values of power and power factor for the whole circuit and the load are %3.1f kW:%3.2f (lag) and %3.0f W:%3.2f (lag) respectively',pc,cosP,pl,cosp) "
   ]
   }
,
{
		   "cell_type": "markdown",
		   "metadata": {},
		   "source": [
			"## Example 7.1: finding_the_average_and_instantaneous_power.sce"
		   ]
		  },
  {
"cell_type": "code",
	   "execution_count": null,
	   "metadata": {
	    "collapsed": true
	   },
	   "outputs": [],
"source": [
"clc\n",
"clear\n",
"\n",
"//input\n",
"r=20;//resistance of coil in ohms\n",
"l=0.04;//inductance of coil in henry\n",
"v=240;//supply voltage in volts\n",
"f=50;//frequency of supply in hertz\n",
"\n",
"//calculations\n",
"xl=2*%pi*f*l;//reactance of coil in ohms\n",
"z=((r^2)+(xl^2))^0.5;//impedance of coil in ohms\n",
"i=v/z;//current in amperes\n",
"cosp=r/z;//cosine of phase angle\n",
"Pavg=v*i*cosp;//average power in watts\n",
"pmax=v*i*(cosp+1);//maximum instantaneous power in watts\n",
"\n",
"//ouput\n",
"mprintf('the average power and the maximum instantaneous power in the coil are %3.0f W and %3.0f W respectively',Pavg,pmax)"
   ]
   }
,
{
		   "cell_type": "markdown",
		   "metadata": {},
		   "source": [
			"## Example 7.2: finding_the_time_elapsed_before_maximum_power.sce"
		   ]
		  },
  {
"cell_type": "code",
	   "execution_count": null,
	   "metadata": {
	    "collapsed": true
	   },
	   "outputs": [],
"source": [
"clc\n",
"clear\n",
"\n",
"//input\n",
"//given e.m.f. equation is e=340sin(314t)V and current equation is i=12sin(314t-0.7)A\n",
"t=0.0015;//time in seconds after which the e.m.f. is zero and increasing positively\n",
"vm=340;//maximum voltage in volts from voltage equation\n",
"im=12;//maximum current in amperes from current equation\n",
"phi=0.7//phase angle from current equation\n",
"w=314;//from voltage and current equations\n",
"\n",
"//calculations\n",
"//when t=0.0015 seconds\n",
"p=vm*sin(w*t)*im*sin((w*t)-phi);//power in watts\n",
"pmax=(vm*im*((cos(phi))+1))/2;//maximum power in watts\n",
"T=(((acos(((2*pmax)/(vm*im))-(cos(phi))))+phi)*(1000))/(2*w);//time interval in milliseconds\n",
"\n",
"//output\n",
"mprintf('at a time of 1.5mS after the specified instant the power was %3.0f W and the maximum power occured %3.1f mS after the same specified instant',p,T)"
   ]
   }
,
{
		   "cell_type": "markdown",
		   "metadata": {},
		   "source": [
			"## Example 7.3: calculation_of_apparent_and_reactive_powers_and_the_inductance_of_coil.sce"
		   ]
		  },
  {
"cell_type": "code",
	   "execution_count": null,
	   "metadata": {
	    "collapsed": true
	   },
	   "outputs": [],
"source": [
"clc\n",
"clear\n",
"\n",
"//input\n",
"zl=20;//impedance of the inductor in ohms\n",
"pf=0.45;//lagging power factor \n",
"v=240;//supply voltage in volts\n",
"f=50;//supply frequency in hertz\n",
"\n",
"//calculations\n",
"i=v/zl;//current taken by the inductor in amperes\n",
"p=v*i*pf;//true power in the circuit in watts\n",
"pa=v*i;//apparent power in VA\n",
"pr=v*i*sin(acos(pf));//reactive power in var\n",
"r=p/(i*i);//resistance in ohms\n",
"xl=((zl^2)-(r^2))^0.5;//reactance in ohms\n",
"l=(xl*1000)/(2*%pi*f);//inductance in millihenry\n",
"\n",
"//output\n",
"mprintf('the wattmeter will read %3.0f W \n the apparent and the reactive powers are %3.0f VA and %3.0f var respectively \n the inductance of the inductor is %3.0f mH',p,pa,pr,l)"
   ]
   }
,
{
		   "cell_type": "markdown",
		   "metadata": {},
		   "source": [
			"## Example 7.4: finding_the_total_kVA_loading_and_overall_power_factor.sce"
		   ]
		  },
  {
"cell_type": "code",
	   "execution_count": null,
	   "metadata": {
	    "collapsed": true
	   },
	   "outputs": [],
"source": [
"clc\n",
"clear\n",
"\n",
"//input\n",
"d1=400;//load in kW at unity power factor\n",
"d2=1000;//load in kVA at a lagging power factor\n",
"d3=500;//load in kVA at a leading power factor\n",
"pf1=1;//unity power factor\n",
"pf2=0.71;//lagging power factor\n",
"pf3=0.8;//leading power factor\n",
"\n",
"//calculations\n",
"pa=d1+(d2*pf2)+(d3*pf3);//total active power loading in watts\n",
"pr=(d2*pf2)-(d3*sin(acos(pf3)));//total reactive power in var\n",
"pk=(((pa^2)+(pr^2))^0.5)/1000;//total MVA loading\n",
"pf=pa/(pk*1000);//total power factor\n",
"\n",
"//output\n",
"mprintf('the total load on the sub-station is %3.2f MVA at a lagging power factor of %3.3f ',pk,pf)"
   ]
   }
,
{
		   "cell_type": "markdown",
		   "metadata": {},
		   "source": [
			"## Example 7.5: finding_total_active_power_taken_from_the_supply.sce"
		   ]
		  },
  {
"cell_type": "code",
	   "execution_count": null,
	   "metadata": {
	    "collapsed": true
	   },
	   "outputs": [],
"source": [
"clc\n",
"clear\n",
"\n",
"//input\n",
"rl=10;//resistance of an inductor in ohms\n",
"l=0.05;//inductaance of an inductor in henry\n",
"rc=20;//resistance in series with a capacitor in ohms\n",
"c=150*(10^-6);//capacitance of a capacitor in farad\n",
"///inductor is in parallel with the series circuit containing a resistor and a capacitor\n",
"v=240;//supply voltage in volts\n",
"f=50;//supply frequency in hertz\n",
"\n",
"//calculations\n",
"xl=2*%pi*f*l;//inductive reactance in ohms\n",
"z1=((rl^2)+(xl^2))^0.5;//impedance of the inductor in ohms\n",
"i1=v/z1;//current in inductor in amperes\n",
"phi1=rl/z1;//power factor of inductor\n",
"xc=1/(2*%pi*f*c);//capacitive reactance in ohms\n",
"z2=((rc^2)+(xc^2))^0.5;//impedance of series circuit in ohms\n",
"i2=v/z2;//current in series circuit in amperes\n",
"phi2=rc/z2;//power factor of series circuit\n",
"i=(i1*phi1)+(i2*phi2);//total in phase component in amperes\n",
"P=(v*i);//total power in watts\n",
"\n",
"//output\n",
"mprintf('the active power taken from the supply is %3.0f W',P)"
   ]
   }
,
{
		   "cell_type": "markdown",
		   "metadata": {},
		   "source": [
			"## Example 7.6: EX7_6.sce"
		   ]
		  },
  {
"cell_type": "code",
	   "execution_count": null,
	   "metadata": {
	    "collapsed": true
	   },
	   "outputs": [],
"source": [
"clc\n",
"clear\n",
"\n",
"//input\n",
"ra=5;//resistance of inductor in branch a in ohms\n",
"la=0.08;//inductance of the inductor in branch a in henry\n",
"rb=15;//resistance in branch 2 in ohms\n",
"cb=100*(10^-6);//capacitance in branch b in farad\n",
"v=240;//supply voltage in volts\n",
"f=50;//supply frequency in hertz\n",
"\n",
"//calculations\n",
"//branches a and b are in parallel with supply\n",
"xa=2*%pi*f*la;//inductive reactance in ohms\n",
"za=((ra^2)+(xa^2))^0.5;//impedance in branch a in ohms\n",
"xc=1/(2*%pi*f*cb);//capacitive reactance in ohms\n",
"zb=((rb^2)+(xc^2))^0.5;//impedance in branch b in ohms\n",
"g=(ra/(za^2))+(rb/(zb^2));//total conductance in siemens\n",
"b=(-xa/(za^2))+(xc/(zb^2));//total susceptance in siemens\n",
"y=((g^2)+(b^2))^0.5;//total admittance in siemens\n",
"i=v*y;//total current in amperes\n",
"p=v*v*g;//total power taken from the supply in watts\n",
"\n",
"//output\n",
"mprintf('the total current and power taken from the supply are %3.2f A and %3.0f W',i,p)"
   ]
   }
,
{
		   "cell_type": "markdown",
		   "metadata": {},
		   "source": [
			"## Example 7.7: finding_required_range_of_frequency.sce"
		   ]
		  },
  {
"cell_type": "code",
	   "execution_count": null,
	   "metadata": {
	    "collapsed": true
	   },
	   "outputs": [],
"source": [
"clc\n",
"clear\n",
"\n",
"//input\n",
"r=10;//resistacne of an acceptor circuit in ohms\n",
"l=0.08;//inductance of an acceptor circuit in henry\n",
"c=1250*(10^-12);//capacitance of an acceptor circuit in faraf\n",
"v=1.5;//supply voltage in volts\n",
"//average power dissipated in not less tha half of power at resonance\n",
"\n",
"//calcultions\n",
"i=v/r;//current in amperes\n",
"p=i*i*r;//power in watts\n",
"pmin=p*0.5;//minimum average power in watts\n",
"i1=pmin/r;//current in amperes\n",
"z1=v/i1;//impedance in ohms\n",
"x=((z1^2)-(r^2))^0.5;//effective reactance in ohms\n",
"//on equating xc and xl we get equation for frequency as -(502*(10^-6))(f^2)-10f+127.2(10^6)=0\n",
"a= -502*(10^-6);//from the above equation\n",
"b= -10;//from the above equation\n",
"c=127.2*(10^6);//from the above equation\n",
"f2=(((b-(((b^2)-(4*a*c))^0.5))/(2*a)))/1000;//upper frequency in hertz\n",
"f1=((((-b)-(((b^2)-(4*a*c))^0.5))/(2*a)))/1000;//lower frequency in hertz\n",
"\n",
"//output\n",
"mprintf('the frequency range over which the average power doesnot fall below 0.5*the average power at resonance is %3.0f kHz and %3.0f kHz',f1,f2)"
   ]
   }
,
{
		   "cell_type": "markdown",
		   "metadata": {},
		   "source": [
			"## Example 7.8: calculation_of_required_capacitance.sce"
		   ]
		  },
  {
"cell_type": "code",
	   "execution_count": null,
	   "metadata": {
	    "collapsed": true
	   },
	   "outputs": [],
"source": [
"clc\n",
"clear\n",
"\n",
"//input\n",
"d=125;//power taken by an industrial load in kilowatts\n",
"pf=0.6;//power factor\n",
"v=415;//supply voltage in volts\n",
"f=50;//supply frequency in hertz\n",
"\n",
"//calculations\n",
"phii=acos(pf);//initial phase angle in radians\n",
"kVAo=d/pf;//original kVA\n",
"kvaro=d*tan(phii);//original kvar\n",
"//for 0.9power factor\n",
"phif=acos(0.9);//phase angle in radians\n",
"kvarf=d*tan(phif);//final kvar\n",
"kvarc=kvaro-kvarf;//capacitor kvar\n",
"c1=(kvarc*(10^3)*(10^6))/(v*v*2*%pi*f);//capacitance in microfarad\n",
"kVAf=d/0.9;//final kVA\n",
"kVAr=kVAo-kVAf;//reduction in kVA\n",
"//for unity power factor\n",
"kvarC=kvaro;//capacitor kvar\n",
"c2=(kvarC*(10^3)*(10^6))/(v*v*2*%pi*f);//capacitance in microfarad\n",
"kVAF=d;//final kVA \n",
"kVAR=kVAo-kVAF;//reduction in kVA\n",
"\n",
"//output\n",
"mprintf('the required values of capacitance are %3.0f uF and %3.0f uF and the respective savings in kVA are %3.1f kVA and %3.1f kVA',c1,c2,kVAr,kVAR )"
   ]
   }
,
{
		   "cell_type": "markdown",
		   "metadata": {},
		   "source": [
			"## Example 7.9: calculation_of_required_capacitance.sce"
		   ]
		  },
  {
"cell_type": "code",
	   "execution_count": null,
	   "metadata": {
	    "collapsed": true
	   },
	   "outputs": [],
"source": [
"clc\n",
"clear\n",
"\n",
"//input\n",
"d=75;//load at lagging powerfactor in kW\n",
"pf=0.75;//lagging power factor\n",
"v=1100;//supply voltage in volts\n",
"f=50;//frequency in hertz\n",
"d0=10;//desired increment in load in kW\n",
"\n",
"//calculations\n",
"kVAi=d/pf;//initial kVA\n",
"cos2=(d+d0)/kVAi;//final power factor \n",
"phi1=acos(pf);\n",
"phi2=acos(cos2);\n",
"kvarc=kVAi*(d0)*(sin(phi1)-sin(phi2));//capacitor kvar\n",
"c=(kvarc*(10^3)*(10^6))/(v*v*2*%pi*f);//capacitance required in microfarad\n",
"\n",
"//output\n",
"mprintf('the power factor has to be increased to %3.2f lag and the value of capacitance required is %3.0f uF',cos2,c)"
   ]
   }
],
"metadata": {
		  "kernelspec": {
		   "display_name": "Scilab",
		   "language": "scilab",
		   "name": "scilab"
		  },
		  "language_info": {
		   "file_extension": ".sce",
		   "help_links": [
			{
			 "text": "MetaKernel Magics",
			 "url": "https://github.com/calysto/metakernel/blob/master/metakernel/magics/README.md"
			}
		   ],
		   "mimetype": "text/x-octave",
		   "name": "scilab",
		   "version": "0.7.1"
		  }
		 },
		 "nbformat": 4,
		 "nbformat_minor": 0
}
