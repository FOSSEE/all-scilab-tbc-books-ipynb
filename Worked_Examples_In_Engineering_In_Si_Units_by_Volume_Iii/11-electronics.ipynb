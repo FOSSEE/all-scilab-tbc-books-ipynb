{
"cells": [
 {
		   "cell_type": "markdown",
	   "metadata": {},
	   "source": [
       "# Chapter 11: electronics"
	   ]
	},
{
		   "cell_type": "markdown",
		   "metadata": {},
		   "source": [
			"## Example 11.10: calculation_of_current_gain.sce"
		   ]
		  },
  {
"cell_type": "code",
	   "execution_count": null,
	   "metadata": {
	    "collapsed": true
	   },
	   "outputs": [],
"source": [
"clc\n",
"clear\n",
"\n",
"//input\n",
"rl=10;//load resistance in kiloohms\n",
"//for Ie= 0 ,0.8,2.0,2.8,4.0 Ic =0,0.78,1.95,2.73,3.9 respectively in mA\n",
"//taking any two set of values\n",
"ic1=3.9;\n",
"ic2=0;\n",
"ie1=4;\n",
"ie2=0;\n",
"\n",
"//calculations\n",
"cg=(ic1-ic2)/(ie1-ie2);//current gain\n",
"\n",
"//output\n",
"mprintf('the current gain is %3.3f',cg)"
   ]
   }
,
{
		   "cell_type": "markdown",
		   "metadata": {},
		   "source": [
			"## Example 11.11: determination_of_collector_emitter_voltage_and_current_gain.sce"
		   ]
		  },
  {
"cell_type": "code",
	   "execution_count": null,
	   "metadata": {
	    "collapsed": true
	   },
	   "outputs": [],
"source": [
"clc\n",
"clear\n",
"\n",
"//input\n",
"//from the characteristics when Vce=15V\n",
"ic1=5;//collector current in milli amperes\n",
"ic2=2.8;//collector current in milli amperes\n",
"ib1=100;//base current in micro amperes\n",
"ib2=50;//base current in micro amperes\n",
"\n",
"//calculations\n",
"b=((ic1-ic2)*1000)/(ib1-ib2);//current gain\n",
"\n",
"//output\n",
"mprintf('when the collector-emitter voltage is 15V the current gain is %3.0f',b)"
   ]
   }
,
{
		   "cell_type": "markdown",
		   "metadata": {},
		   "source": [
			"## Example 11.12: calculation_of_voltage_and_current_gains.sce"
		   ]
		  },
  {
"cell_type": "code",
	   "execution_count": null,
	   "metadata": {
	    "collapsed": true
	   },
	   "outputs": [],
"source": [
"clc\n",
"clear\n",
"\n",
"//input\n",
"rl=2.5;//resistance of load in kilo ohms\n",
"//from VI charecteristic curves\n",
"//for bias current of -10uA\n",
"vce1=21;//in volts\n",
"ic1=3.6;//in mA\n",
"ib1=-10;//in uA\n",
"//for bias current of -15uA\n",
"vce2=14.75;//in volts\n",
"ic2=6;//in mA\n",
"ib2=-15;//in uA\n",
"//from input characteristic curve\n",
"vbe1=0.75;\n",
"vbe2=0.45;\n",
"Ib1=40;\n",
"Ib2=0;\n",
"\n",
"//calculations\n",
"b=((-ic2-(-ic1))*1000)/(ib2-ib1);//current gain\n",
"s=(vbe1-vbe2)/(Ib1-Ib2);//slope of curve\n",
"S=s*5;//for change in 5mV\n",
"v=(vce1-vce2)/S;\n",
"\n",
"//output\n",
"mprintf('the voltage and current gains are %3.0f and %3.0f',v,b)"
   ]
   }
,
{
		   "cell_type": "markdown",
		   "metadata": {},
		   "source": [
			"## Example 11.13: calculation_of_voltage_gain.sce"
		   ]
		  },
  {
"cell_type": "code",
	   "execution_count": null,
	   "metadata": {
	    "collapsed": true
	   },
	   "outputs": [],
"source": [
"clc\n",
"clear\n",
"\n",
"//input\n",
"b=50;//current gain\n",
"rl=10;//load resistance in kilo ohms\n",
"rint=6.5;//internal resistance of an alternating source in kilo ohms\n",
"rinp=1;//input resistance in kiloohms\n",
"\n",
"//calculations\n",
"v=(rl*b)/(rint+rinp);//voltage gain\n",
"\n",
"//output\n",
"mprintf('the voltage gain under given conditions will be %3.0f',v)"
   ]
   }
,
{
		   "cell_type": "markdown",
		   "metadata": {},
		   "source": [
			"## Example 11.14: finding_voltage_gain_when_h_parameters_are_given.sce"
		   ]
		  },
  {
"cell_type": "code",
	   "execution_count": null,
	   "metadata": {
	    "collapsed": true
	   },
	   "outputs": [],
"source": [
"clc\n",
"clear\n",
"\n",
"//input\n",
"//given h-parameters of a junction transistor\n",
"hie=1000;//in ohms\n",
"hoe=100*(10^-6);//Sec\n",
"hre=0.0005;\n",
"hfe=50;\n",
"rl=10000;//load resistance in ohms\n",
"\n",
"//calculations\n",
"Yt=hoe+(1/rl);\n",
"v=(1/((hie*(-Yt/hfe))+hre));//voltage gain and - signifies the 180 degree phase shift\n",
"vg=-v;\n",
"//output\n",
"mprintf('the voltage gain would be %3.0f',vg)"
   ]
   }
,
{
		   "cell_type": "markdown",
		   "metadata": {},
		   "source": [
			"## Example 11.15: calculation_of_required_load_resistance.sce"
		   ]
		  },
  {
"cell_type": "code",
	   "execution_count": null,
	   "metadata": {
	    "collapsed": true
	   },
	   "outputs": [],
"source": [
"clc\n",
"clear\n",
"\n",
"//input\n",
"//given h-parameters of a junction transistor\n",
"hie=1000;//in ohms\n",
"hoe=100*(10^-6);//Sec\n",
"hre=0.0005;\n",
"hfe=50;\n",
"cg=30;//current gain\n",
"\n",
"//calculations\n",
"yl=(cg*hoe)/(hfe-cg);//load admittance in kilo mho\n",
"rl=1/(yl*1000);//load resistance in kilo ohms\n",
"\n",
"//output\n",
"mprintf('to give a current gain of 30 the load would have to have a resistance of %3.2f kilo ohms',rl)\n",
""
   ]
   }
,
{
		   "cell_type": "markdown",
		   "metadata": {},
		   "source": [
			"## Example 11.1: EX11_1.sce"
		   ]
		  },
  {
"cell_type": "code",
	   "execution_count": null,
	   "metadata": {
	    "collapsed": true
	   },
	   "outputs": [],
"source": [
"clc\n",
"clear\n",
"\n",
"//input\n",
"va=120;//annode voltage in volts\n",
"vg1=-1;//grid voltage in volts\n",
"vg2=-2;//grid voltage for which another curve is drawn in volts\n",
"//given scale is vertical scale: anode current 1mm=0.00025A and horizontal scale : anode voltage 1mm=2.5V\n",
"//from VI characteristics\n",
"i=0.00025;//current in amperes\n",
"v=2.5;//voltage in volts\n",
"CD=4;\n",
"BD=9;\n",
"EF=34;\n",
"CE=14.5;\n",
"//calculations\n",
"ra=(CD*v)/(BD*i*1000);//anode slope resistance in kilo ohms\n",
"gm=(EF*i*1000)/(vg1-vg2);//mutual conductance in millisiemens\n",
"u=(CE*v)/(vg1-vg2);//amplification factor \n",
"\n",
"//ouput\n",
"mprintf('at the operational point the parameters of the valve are %3.2f kohms,%3.1f mS and %3.2f.',ra,gm,u)"
   ]
   }
,
{
		   "cell_type": "markdown",
		   "metadata": {},
		   "source": [
			"## Example 11.2: determination_of_the_triode_parameters.sce"
		   ]
		  },
  {
"cell_type": "code",
	   "execution_count": null,
	   "metadata": {
	    "collapsed": true
	   },
	   "outputs": [],
"source": [
"clc\n",
"clear\n",
"\n",
"//input\n",
"va1=125;//anode voltage in volts\n",
"va2=100;//anode voltage in volts for which another curve is obtained\n",
"vg1=0;//grid voltage in volts\n",
"vg2=-1;//grid voltage in volts\n",
"//given scale is vertical scale: anode current 1mm=0.0002A and horizontal scale : anode voltage 1mm=0.1V\n",
"v=0.1;//voltage in volts from scale\n",
"//from given data\n",
"//for vg1 and va2\n",
"ia11=4.8;//current in milli amperes\n",
"ia12=3.2;//current in milli amperes\n",
"//for vg2 and va1\n",
"ia21=6.625;//current in amperes\n",
"ia22=5.0;//current in amperes\n",
"\n",
"//calculations\n",
"ra=(va1-va2)/(ia21-ia11);//anode slope resistance in kilo ohms\n",
"gm=(ia21-ia22)/(vg1-vg2);//mutual conductance in millisiemens\n",
"u=(va1-va2)/(v-vg2);//amplification factor \n",
"\n",
"//ouput\n",
"mprintf('at the operational point the parameters of the valve are %3.1f kohms,%3.3f mS and %3.1f.',ra,gm,u)"
   ]
   }
,
{
		   "cell_type": "markdown",
		   "metadata": {},
		   "source": [
			"## Example 11.3: finding_the_required_anode_voltage.sce"
		   ]
		  },
  {
"cell_type": "code",
	   "execution_count": null,
	   "metadata": {
	    "collapsed": true
	   },
	   "outputs": [],
"source": [
"clc\n",
"clear\n",
"\n",
"//input\n",
"ia=0.002;//anode current in amperes\n",
"rl=5000;//resistance in ohms\n",
"vht=100;//anode voltage in volts\n",
"\n",
"//calculations\n",
"va=vht-(ia*rl);//next anode voltage in volts to plot the characteistic curve\n",
"\n",
"//output\n",
"mprintf('the next required anode voltage for plotting characteristic curve is %3.0fV',va)"
   ]
   }
,
{
		   "cell_type": "markdown",
		   "metadata": {},
		   "source": [
			"## Example 11.4: determination_of_operating_points.sce"
		   ]
		  },
  {
"cell_type": "code",
	   "execution_count": null,
	   "metadata": {
	    "collapsed": true
	   },
	   "outputs": [],
"source": [
"clc\n",
"clear\n",
"\n",
"//input\n",
"vht=100;//higher threshold voltage in volts\n",
"rl1=5;//resistance of load in kiloohms\n",
"rl2=10;//load resistance in kiloohms\n",
"\n",
"//calculations\n",
"//for rl1\n",
"//when va=0\n",
"ia1=vht/rl1;//anode current in milliamperes\n",
"//when va=100\n",
"ia2=0;//since va=vht\n",
"//for rl2\n",
"//when va=0\n",
"ia3=vht/rl2;//anode current in milliamperes\n",
"//when va=100\n",
"ia4=0;//since va=vht\n",
"//two load lines are drawn on VI graph which coincides the aanode characteristic curve at four points\n",
"//using the data given\n",
"//point 1\n",
"vg1=0;//grid voltage in volts\n",
"va1=71;//anode voltage in volts\n",
"i1=5.9;//anode current in milliamperes\n",
"//point 2\n",
"vg2=-2;//grid voltage in volts\n",
"va2=79;//anode voltage in volts\n",
"i2=4.3;//anode current in milliamperes\n",
"//point 3\n",
"vg3=0;//grid voltage in volts\n",
"va3=57;//anode voltage in volts\n",
"i3=4.3;//anode current in amperes\n",
"//point 4\n",
"vg4=-2;//grid voltage in volts\n",
"va4=68;//anode voltage in volts\n",
"i4=3.2;//anode current in amperes\n",
"\n",
"//output\n",
"mprintf('for a load of 5kiloohm,the operating points are \n vg=%3.0fV: va=%3.0fV ia=%3.1fmA \n vg=%3.0fV: va=%3.0fV ia=%3.1fmA \n for a load of 10 kiloohms,the operating points are \n vg=%3.0fV: va=%3.0fV ia=%3.1fmA \n vg=%3.0fV: va=%3.0fV ia=%3.1fmA',vg1,va1,i1,vg2,va2,i2,vg3,va3,i3,vg4,va4,i4)"
   ]
   }
,
{
		   "cell_type": "markdown",
		   "metadata": {},
		   "source": [
			"## Example 11.5: finding_the_voltage_amplification.sce"
		   ]
		  },
  {
"cell_type": "code",
	   "execution_count": null,
	   "metadata": {
	    "collapsed": true
	   },
	   "outputs": [],
"source": [
"clc\n",
"clear\n",
"\n",
"//input\n",
"g=4;//mutual conductance of a triode in millisiemens\n",
"u=25;//amplification factor\n",
"l=20;//load in kilo ohms\n",
"\n",
"//calculations\n",
"ra=u/g;//slope resistance in kilo ohms\n",
"av=(u*l)/(ra+l);//voltage gain\n",
"\n",
"//output\n",
"mprintf('with aload resistance of 20 kilo ohms this triode will give a voltage amplification of %3.2f',av)"
   ]
   }
,
{
		   "cell_type": "markdown",
		   "metadata": {},
		   "source": [
			"## Example 11.6: determination_of_ac_voltage_across_the_load.sce"
		   ]
		  },
  {
"cell_type": "code",
	   "execution_count": null,
	   "metadata": {
	    "collapsed": true
	   },
	   "outputs": [],
"source": [
"clc\n",
"clear\n",
"\n",
"//input\n",
"rc=50;//resistance of the coil in ohms\n",
"lc=0.0005;//inductance of the coil in henry\n",
"//coil is connected in parallel with a capcitor\n",
"fr=0.5*(10^6);//resonance frequency in hertz\n",
"vl=1.5;//voltage across the load in volts\n",
"rs=50000;//slope resistance in ohms of the triode\n",
"u=25;//amplification factor of the triode\n",
"\n",
"//calculations\n",
"c=(lc*(10^12))/((rc^2)+(2*%pi*fr*lc)^2);//capacitance in picofarad\n",
"rl=(lc*(10^9))/(rc*c);//resistance of load in kiloohms\n",
"a=(u*rl)/(rc+rl);//voltage amlification \n",
"e0=a*vl;//a.c. voltage across load in volts\n",
"\n",
"//output\n",
"mprintf('at a frequency of 0.5MHz the a.c. voltage across the load will be %3.1fV in antiphase to the 1.5V in the grid circuit',e0)"
   ]
   }
,
{
		   "cell_type": "markdown",
		   "metadata": {},
		   "source": [
			"## Example 11.7: calculation_of_input_resistances.sce"
		   ]
		  },
  {
"cell_type": "code",
	   "execution_count": null,
	   "metadata": {
	    "collapsed": true
	   },
	   "outputs": [],
"source": [
"clc\n",
"clear\n",
"\n",
"//input\n",
"ib1=-50;//base current in micro amperes\n",
"vce1=0;//emitter collector voltage in volts\n",
"ib2=-25;//base current in microamperes\n",
"vce2=6;//emitter collector voltage in volts\n",
"//locate a point at vce=0V and Ib=-50uA and draw tangent to it.\n",
"//from tangent co-ordinates\n",
"a1=150;\n",
"a2=87.5;\n",
"a3=75;\n",
"a4=25;\n",
"//locate a point at vce=6V and Ib=-25uA and draw a tangent to it.\n",
"//from the tangent co-ordinates\n",
"vbe1=200;//base emitter voltage in millivolts\n",
"vbe2=100;//base emitter voltage in millivolts\n",
"vbe3=50;//base emitter voltage in millivolts\n",
"vbe4=0;//base emitter voltage in millivolts\n",
"\n",
"//calculations\n",
"ri=((a1-a2))/(a3-a4);//input resistance in kilo ohms\n",
"Ri=(vbe1-vbe2)/(vbe3-vbe4);//input resistance in kilo ohms\n",
"\n",
"//output\n",
"mprintf('the input resistances for the specified conditions are %3.2f kilo ohms and %3.0f kilo ohms.',ri,Ri)"
   ]
   }
,
{
		   "cell_type": "markdown",
		   "metadata": {},
		   "source": [
			"## Example 11.8: determination_of_output_resistances.sce"
		   ]
		  },
  {
"cell_type": "code",
	   "execution_count": null,
	   "metadata": {
	    "collapsed": true
	   },
	   "outputs": [],
"source": [
"clc\n",
"clear\n",
"\n",
"//input\n",
"ib1=-100;//base current in micro amperes\n",
"vce1=10;//emitter collector voltage in volts\n",
"ib2=-50;//base current in microamperes\n",
"vce2=25;//emitter collector voltage in volts\n",
"//locate a point at vce=10V and Ib=-100uA and draw tangent to it.\n",
"//from tangent co-ordinates\n",
"a1=20;\n",
"a2=5;\n",
"a3=5.22;\n",
"a4=4.55;\n",
"//locate a point at vce=25V and Ib=-50uA and draw a tangent to it.\n",
"//from the tangent co-ordinates\n",
"vbe1=30;//base emitter voltage in millivolts\n",
"vbe2=20;//base emitter voltage in millivolts\n",
"vbe3=3.65;//base emitter voltage in millivolts\n",
"vbe4=2.9;//base emitter voltage in millivolts\n",
"\n",
"//calculations\n",
"r0=((a1-a2))/(a3-a4);//input resistance in kilo ohms\n",
"R0=(vbe1-vbe2)/(vbe3-vbe4);//input resistance in kilo ohms\n",
"\n",
"//output\n",
"mprintf('the output resistances for the specified conditions are %3.1f kilo ohms and %3.1f kilo ohms.',r0,R0)"
   ]
   }
,
{
		   "cell_type": "markdown",
		   "metadata": {},
		   "source": [
			"## Example 11.9: finding_the_parameters_of_the_operating_points.sce"
		   ]
		  },
  {
"cell_type": "code",
	   "execution_count": null,
	   "metadata": {
	    "collapsed": true
	   },
	   "outputs": [],
"source": [
"clc\n",
"clear\n",
"\n",
"//input\n",
"ib=-10;//base current in microamperes\n",
"rl=6;//load resistance in kilo ohms\n",
"v=30;//supply voltage in volts\n",
"\n",
"//calculations\n",
"//when vce=0V\n",
"ic=v/rl;//collector current in milliamperes\n",
"//whenic=0mA\n",
"vce=v;//collector emitter voltage in volts\n",
"//line AB where A(Vce=0V,Ic=5mA) and B(Vce=30V,Ic=0mA) cuts characteristic curve at point P\n",
"//from co-ordinates of P\n",
"Vce=16;//collector emitter voltage in volts\n",
"Ic=2.4;//collector current in milliamperes\n",
"ie=Ic+(-ib/1000);//emitter current in amperes\n",
"\n",
"//output\n",
"mprintf('the parameters of the operating point under the conditions specified are Vce=%3.0fV,Ic=%3.1fmA and Ie=%3.2fmA',Vce,Ic,ie)"
   ]
   }
],
"metadata": {
		  "kernelspec": {
		   "display_name": "Scilab",
		   "language": "scilab",
		   "name": "scilab"
		  },
		  "language_info": {
		   "file_extension": ".sce",
		   "help_links": [
			{
			 "text": "MetaKernel Magics",
			 "url": "https://github.com/calysto/metakernel/blob/master/metakernel/magics/README.md"
			}
		   ],
		   "mimetype": "text/x-octave",
		   "name": "scilab",
		   "version": "0.7.1"
		  }
		 },
		 "nbformat": 4,
		 "nbformat_minor": 0
}
