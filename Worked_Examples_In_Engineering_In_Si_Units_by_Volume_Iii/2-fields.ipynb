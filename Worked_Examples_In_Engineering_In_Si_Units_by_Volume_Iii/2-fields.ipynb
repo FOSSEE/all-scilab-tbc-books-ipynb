{
"cells": [
 {
		   "cell_type": "markdown",
	   "metadata": {},
	   "source": [
       "# Chapter 2: fields"
	   ]
	},
{
		   "cell_type": "markdown",
		   "metadata": {},
		   "source": [
			"## Example 2.10: finding_energy_stored_in_capacitor.sce"
		   ]
		  },
  {
"cell_type": "code",
	   "execution_count": null,
	   "metadata": {
	    "collapsed": true
	   },
	   "outputs": [],
"source": [
"clc\n",
"clear\n",
"\n",
"//input\n",
"c1=2*(10^-6);// capacitance of first capacitor in farad which is connected in series with second\n",
"c2=6*(10^-6);// capacitance of second capacitor in farad which is connected in series with first\n",
"v=240;//d.c. voltage supply in volts\n",
"\n",
"//calculations\n",
"ct=(c1*c2)/(c1+c2);//effective capacitance in farad\n",
"q=ct*v;//total charge in coloumbs\n",
"e1=(q^2)/(2*c1);// energy stored in first capacitor in joules\n",
"e2=(q^2)/(2*c2);// energy stored in second capacitor in joules\n",
"\n",
"//output\n",
"mprintf('the energy stored in first capacitor is %3.10f J \n the energy stored in second capacitor is %3.10f J',e1,e2)"
   ]
   }
,
{
		   "cell_type": "markdown",
		   "metadata": {},
		   "source": [
			"## Example 2.11: finding_potential_difference_and_different_energies.sce"
		   ]
		  },
  {
"cell_type": "code",
	   "execution_count": null,
	   "metadata": {
	    "collapsed": true
	   },
	   "outputs": [],
"source": [
"clc\n",
"clear\n",
"\n",
"//input\n",
"c1=0.000005; //capacitance of first capacitor in farad \n",
"c2=0.000003;//capacitance of second capacitor in farad\n",
"v=200; //potential difference to which capacitor is charged in volts\n",
"\n",
"//calculations\n",
"q1=c1*v;// charge given to first capacitor\n",
"ct=c1+c2;// total capacitance in farad\n",
"pd=q1/ct;// final potential difference across combination in volts\n",
"Eo=(c1*v*v)/2;//original energy in system in joules\n",
"Ef=(pd*pd*(c1+c2))/2;//final energy in system in joules\n",
"\n",
"//output\n",
"mprintf('the initial energy stored in the capacitor is %3.10f J and final energy stored in the combination is %3.10f J',Eo,Ef)"
   ]
   }
,
{
		   "cell_type": "markdown",
		   "metadata": {},
		   "source": [
			"## Example 2.12: finding_equivalent_resistance.sce"
		   ]
		  },
  {
"cell_type": "code",
	   "execution_count": null,
	   "metadata": {
	    "collapsed": true
	   },
	   "outputs": [],
"source": [
"clc\n",
"clear\n",
"\n",
"//input\n",
"c=0.000002;// capacitance of a capacitor in farad\n",
"theta=0.12; // loss angle in radians\n",
"v=230; // a.c. voltage supply in volts\n",
"f=50; //supply frequency in hertz\n",
"\n",
"//calculations\n",
"ic=v*2*%pi*f*c;// capacitor current in amperes\n",
"ir=ic*tan(theta);// current through shunt resistance in amperes\n",
"r=v/ir;// shunt resistance in ohm\n",
"\n",
"//output\n",
"mprintf('the value of the equivalent shunt resistance is %3.10f ohm',r)"
   ]
   }
,
{
		   "cell_type": "markdown",
		   "metadata": {},
		   "source": [
			"## Example 2.13: finding_energy_dissipated_in_a_material.sce"
		   ]
		  },
  {
"cell_type": "code",
	   "execution_count": null,
	   "metadata": {
	    "collapsed": true
	   },
	   "outputs": [],
"source": [
"clc\n",
"clear\n",
"\n",
"//input\n",
"s=1;//side of square piece of wood which is clamped between two mettalic plates in meters\n",
"t=0.005;//thickness of square piece of wood which is clamped between two mettalic plates in meters\n",
"pd=20;//applied potential difference in volts\n",
"f=25000000;//supply frequency in hertz\n",
"er=4;//relative permittivity of the wood\n",
"theta=0.2// loss angle in radians\n",
"T=10;//time in minutes\n",
"e0=8.85*(10^-12);//absolute permittivity\n",
"\n",
"//calculations\n",
"P=(pd*pd*2*%pi*f*e0*er*s*s*theta)/t;// power loss in watts\n",
"E=P*60*T;// energy dissipated in ten minutes in joules\n",
"\n",
"//output\n",
"mprintf('the energy dissipated in the wood in 10 min is %3.10f J',E)"
   ]
   }
,
{
		   "cell_type": "markdown",
		   "metadata": {},
		   "source": [
			"## Example 2.1: finding_energy_stored_in_magnetic_field.sce"
		   ]
		  },
  {
"cell_type": "code",
	   "execution_count": null,
	   "metadata": {
	    "collapsed": true
	   },
	   "outputs": [],
"source": [
"clc\n",
"clear\n",
"//input\n",
"r=5; //resistance of the coil in ohms\n",
"v=100; // d.c supply voltage to the coil in volts\n",
"l=100*(10^-3); // inductance of the coil in henry\n",
"\n",
"//calculations\n",
"i=v/r; // value of the current in amperes\n",
"e=(l*(i^2))/2; // energy stored in the circuit in joules\n",
"\n",
"//output\n",
"mprintf('the value of current is %3.2f amperes  \n the energy stored in the magnetic field is %3.2f joules',i,e)"
   ]
   }
,
{
		   "cell_type": "markdown",
		   "metadata": {},
		   "source": [
			"## Example 2.2: finding_energy_stored_in_magnetic_field.sce"
		   ]
		  },
  {
"cell_type": "code",
	   "execution_count": null,
	   "metadata": {
	    "collapsed": true
	   },
	   "outputs": [],
"source": [
"clc\n",
"clear\n",
"\n",
"//input\n",
"l=0.5; //length of an air cored cylinder in meters\n",
"d1=0.05; // diameter of an air cored cylinder in meters\n",
"n=400; //number of turns of copper wire wound around the cylinder\n",
"d2=0.001; //diameter of the copper wire wound in meters\n",
"v=14; //dc supply voltage in volts\n",
"r=1.71*(10^-8);// resistivity of copper in ohm meteres\n",
"u0=1.257*(10^-6); // permeabilty of free space\n",
"ur=1; //relative permeability\n",
"\n",
"//calculations\n",
"L=(u0*ur*(n^2)*(%pi*(d1^2)))/(4*l); //inductance of the coil in henry\n",
"R=(r*n*(d1+d2)*%pi*4)/(%pi*(d2^2)); // resistance of the field in ohm\n",
"i=v/R; //current in the field in amperes\n",
"e=(L*(i^2))/2; // energy stored in the field in joules\n",
"\n",
"//output\n",
"mprintf('the inductanec of the coil is %3.10f H \n the resistance of the field is %3.10f ohm \n the energy stored in the field is %3.10f J',L,R,e)"
   ]
   }
,
{
		   "cell_type": "markdown",
		   "metadata": {},
		   "source": [
			"## Example 2.3: finding_energy_stored.sce"
		   ]
		  },
  {
"cell_type": "code",
	   "execution_count": null,
	   "metadata": {
	    "collapsed": true
	   },
	   "outputs": [],
"source": [
"clc\n",
"clear\n",
"\n",
"//input\n",
"mmf=1800; // magneto motive force in amperes\n",
"l1=0.8; // length of iron in meters\n",
"l2=0.002; //length of air gap in meters\n",
"a=9*(10^-4); // area of the air gap in square meters\n",
"ui=2000; // relative permeability of iron\n",
"ua=1; // relative permeability of air\n",
"u0=1.257*(10^-6); // absolute permeability of free space\n",
"\n",
"//calculations\n",
"b=(mmf*u0)/((l1/ui)+(l2/ua)); // flux density in tesla\n",
"e=(b^2)/(2*u0*ui); //energy stored in joules/cubic meter\n",
"v=l1*a; // volume of the iron in cubic meters\n",
"E=v*e; // total energy stored in the iron in joules\n",
"\n",
"// output\n",
"mprintf('flux density is %3.10f T \n energy stored is %3.10f J/cubic m \n volume of the iron is %3.10f cubic m \n total energy stored in the iron is %3.10f J',b,e,v,E)"
   ]
   }
,
{
		   "cell_type": "markdown",
		   "metadata": {},
		   "source": [
			"## Example 2.4: estimation_of_coupling_factor.sce"
		   ]
		  },
  {
"cell_type": "code",
	   "execution_count": null,
	   "metadata": {
	    "collapsed": true
	   },
	   "outputs": [],
"source": [
"clc\n",
"clear\n",
"\n",
"//input\n",
"l1=0.4; //inductance of the first coil in henry which is in series with the second\n",
"l2=0.1; //inductance of the second coil in henry\n",
"i=5; // current through both the coils in amperes\n",
"e=2.25; // energy stored in magnetic field in joules\n",
"\n",
"//calculations\n",
"L=(2*e)/(i^2); //total inductance in henry\n",
"M=(l1+l2-L)/2; // mutual inductance between the coils in henry\n",
"K=M/((l1*l2)^(0.5)); // coupling factor between the coils\n",
"\n",
"//output\n",
"mprintf('total inductane is %3.10f H \n mutual inductane between the coils is %3.10f H \n the coupling factor is %3.10f',L,M,K)"
   ]
   }
,
{
		   "cell_type": "markdown",
		   "metadata": {},
		   "source": [
			"## Example 2.5: finding_the_load_that_can_be_lifted_by_a_magnet.sce"
		   ]
		  },
  {
"cell_type": "code",
	   "execution_count": null,
	   "metadata": {
	    "collapsed": true
	   },
	   "outputs": [],
"source": [
"clc\n",
"clear\n",
"\n",
"//input\n",
"l1=0.5; //length of iron bar in meters which is bent into horse shoe lifting magnet\n",
"a=1*(10^-3);// cross sectional area in cbuc meters\n",
"n=500; // number of turns wound\n",
"i=4; //cyrrent flowing in amperes\n",
"ui=1100; // relative permeability of iron \n",
"ua=1; //relative permeability of air gap\n",
"l2=0.001; //length of the air gap\n",
"k=1.1; //leakage co-efficient\n",
"u0=1.257*(10^-6); //absolute permeability\n",
"\n",
"//calculations\n",
"b=(n*i*u0)/(((k*l1)/ui)+((2*a)/ua)); //flux density in tesla\n",
"P=((b^2)*2*l2)/(2*u0*ua); //increase in stored energy due to movement of the load by magnet in joules\n",
"m=P/9.81; //mass lifted in kilo grams\n",
"\n",
"//output\n",
"mprintf('fulx density is %3.10f T \n increase in stored energy is %3.2f J \n mass that can be lifted by the magnet is %3.2f Kg',b,P,m)"
   ]
   }
,
{
		   "cell_type": "markdown",
		   "metadata": {},
		   "source": [
			"## Example 2.6: finding_area_of_hysterisis_loop_and_power_loss.sce"
		   ]
		  },
  {
"cell_type": "code",
	   "execution_count": null,
	   "metadata": {
	    "collapsed": true
	   },
	   "outputs": [],
"source": [
"clc\n",
"clear\n",
"\n",
"//input\n",
"h=500; //hysteresis losses of the rotor of a d.c. machine in joule/cubic meter/cycle\n",
"n=50; //number of cycles of magnetisation\n",
"d=0.0075; //density of the material in mg/cubic meter\n",
"H=10; //magnetising force in ampere/mater per mm when hysteresis loop is plotted on a graph\n",
"B=0.02; //flux density in tesla per mm when hysteresis loop is plotted on a graph\n",
"\n",
"//calculations\n",
"e=B*H; //energy represented by 1square mm in joules\n",
"a=h/e; //area of loop in square mm\n",
"p=h*n; //power loss in watts per cubic meter\n",
"P=(p*(10^-6))/d; //power loss in watts per Kg\n",
"\n",
"//output\n",
"mprintf('the area of hysteresis loop is %3.10f sq.mm \n the power loss is %3.10f W/Kg',a,P)"
   ]
   }
,
{
		   "cell_type": "markdown",
		   "metadata": {},
		   "source": [
			"## Example 2.7: finding_the_speed_of_a_machine.sce"
		   ]
		  },
  {
"cell_type": "code",
	   "execution_count": null,
	   "metadata": {
	    "collapsed": true
	   },
	   "outputs": [],
"source": [
"clc\n",
"clear\n",
"\n",
"//input\n",
"p=6; //number of poles of a d.c. machine\n",
"v=0.01; // volume of iron in cubic meters\n",
"d=0.0079; //density of the iron in mg/square meter\n",
"hi=4; // hysterisis loss of iron in W/Kg\n",
"hl=619; //loss given by hysteresis loop in joule/cubic meter/cycle\n",
"\n",
"//calculations\n",
"h=hi*d*v*(10^6);// total hysteresis losses in watts\n",
"f=h/(hl*v);// frequency in cycles/second\n",
"n=(f*60)/3; //rotor undergoes 3 cycles of magnetisation in each revolution and speed in rev/minute\n",
"a=(f*2*%pi)/3; // angular velocity if rotor in radian per second\n",
"\n",
"//output\n",
"mprintf('the speed of the machine will be %3.10f rev/min or %3.10f rad/s',n,a)"
   ]
   }
,
{
		   "cell_type": "markdown",
		   "metadata": {},
		   "source": [
			"## Example 2.8: finding_maximum_permissible_volume_of_transformer_core.sce"
		   ]
		  },
  {
"cell_type": "code",
	   "execution_count": null,
	   "metadata": {
	    "collapsed": true
	   },
	   "outputs": [],
"source": [
"clc\n",
"clear\n",
"\n",
"//input\n",
"a=2500; //area of hysteresis loop in square millimeter\n",
"H=16;//magnetising force in ampere/mater per mm when hysteresis loop is plotted on a graph\n",
"B=0.02;//flux density in tesla per mm when hysteresis loop is plotted on a graph\n",
"hloss=24;//desired hysteresis loss\n",
"n=50;//cycles of magnetisation\n",
"\n",
"//calculations\n",
"e=B*H;//energy represented by square millimeter\n",
"l=a*e;//loss/cubic meter/cycle\n",
"Vmax=hloss/(l*n);//maximum volume core in cubic meter\n",
"\n",
"//output\n",
"mprintf('the permissible volume of the transformer core is %3.10f cubicmeter',Vmax)"
   ]
   }
,
{
		   "cell_type": "markdown",
		   "metadata": {},
		   "source": [
			"## Example 2.9: comparing_energies_stored_in_different_fields.sce"
		   ]
		  },
  {
"cell_type": "code",
	   "execution_count": null,
	   "metadata": {
	    "collapsed": true
	   },
	   "outputs": [],
"source": [
"clc\n",
"clear\n",
"\n",
"//input\n",
"l=0.002;//length in meters\n",
"a=0.01;//area in square meters\n",
"pd=250000;//potential gradient in V/m\n",
"h=250000;//magnetic force in A/m\n",
"e0=8.85*(10^-12);//absolute permittivity\n",
"er=1;//relative permittivity of  air\n",
"u0=1.257*(10^-6);//absolute permeability\n",
"ur=1;//relative permeability of air\n",
"\n",
"//calculations\n",
"D=e0*er*pd;//electric flux density in C/sq.m\n",
"Ee=((D^2)*l*a)/(2*e0*er);//energy stored in electric field in joules \n",
"B=h*u0*ur;//magnetic flux density\n",
"Em=((B^2)*l*a)/(2*u0*ur);//energy stored in magnetic field\n",
"k=Ee/Em;//ratio of energy in electric field to magnetic field\n",
"\n",
"//output\n",
"mprintf('the ratio of energies in electric to magnetic field is %3.10f :1',k)"
   ]
   }
],
"metadata": {
		  "kernelspec": {
		   "display_name": "Scilab",
		   "language": "scilab",
		   "name": "scilab"
		  },
		  "language_info": {
		   "file_extension": ".sce",
		   "help_links": [
			{
			 "text": "MetaKernel Magics",
			 "url": "https://github.com/calysto/metakernel/blob/master/metakernel/magics/README.md"
			}
		   ],
		   "mimetype": "text/x-octave",
		   "name": "scilab",
		   "version": "0.7.1"
		  }
		 },
		 "nbformat": 4,
		 "nbformat_minor": 0
}
