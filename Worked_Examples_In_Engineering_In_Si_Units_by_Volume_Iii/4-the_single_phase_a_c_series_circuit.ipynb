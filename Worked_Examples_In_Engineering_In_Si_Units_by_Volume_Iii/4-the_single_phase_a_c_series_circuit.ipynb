{
"cells": [
 {
		   "cell_type": "markdown",
	   "metadata": {},
	   "source": [
       "# Chapter 4: the single phase a c series circuit"
	   ]
	},
{
		   "cell_type": "markdown",
		   "metadata": {},
		   "source": [
			"## Example 4.10: calculations_of_required_frequency_and_currents.sce"
		   ]
		  },
  {
"cell_type": "code",
	   "execution_count": null,
	   "metadata": {
	    "collapsed": true
	   },
	   "outputs": [],
"source": [
"clc\n",
"clear\n",
"\n",
"//input\n",
"r=1;//resistance of the coil in ohms\n",
"l1=10*(10^-6);//inductance of coil in henry\n",
"c1=1*(10^-6);//capacitor which is connected in series with the coil in farad\n",
"l2=20*(10^-6);//changed inductance in henry\n",
"c2=0.5*(10^-6);//changed capacitance in farad\n",
"v=10;//supply volts in volts\n",
"\n",
"//calculations\n",
"f0=1/(2*%pi*((l1*c1)^0.5));//resonant frequency in hertz\n",
"F0=0.9*f0;//required resonant frequency in hertz\n",
"xl1=2*%pi*F0*l1;//inductive reactance in ohms\n",
"xc1=1/(2*%pi*F0*c1);//capacitive reactance in ohms\n",
"X=xc1-xl1;//effective reactance in ohms\n",
"z=((r^2)+(X^2))^0.5;//impedance in ohms\n",
"i=v/z;//current in ohms\n",
"xl2=2*%pi*f0*l2;//new inductive reactance in ohms\n",
"xc2=xl2;// at resonance\n",
"xl3=0.9*xl2;//inductive reactacne at lower frequency in ohms\n",
"xc3=xc2/0.9;//inductive capacitance at lower frequency in ohms\n",
"X1=xc3-xl3;//effective reatance in ohms\n",
"I=v/X1;//current in amperes\n",
"\n",
"//output\n",
"mprintf('the value of the current at 0.9*resonant frequency is %3.2f A and at lower frequency with change in values of inductance and capacitance is %3.0f A',i,I)"
   ]
   }
,
{
		   "cell_type": "markdown",
		   "metadata": {},
		   "source": [
			"## Example 4.11: calculation_of_ratio_between_the_pd_and_supply_voltage.sce"
		   ]
		  },
  {
"cell_type": "code",
	   "execution_count": null,
	   "metadata": {
	    "collapsed": true
	   },
	   "outputs": [],
"source": [
"clc\n",
"clear\n",
"\n",
"//input\n",
"c=200*(10^-12);//capacitance of a capacitor which is connected in series with a coil in farad\n",
"q=80;//Q factor \n",
"v=0.250;//supply voltage in volts\n",
"f=500000;//supply frequecy in hertz\n",
"\n",
"//calculations\n",
"pd=q*v;//p.d. across the capacitor in volts\n",
"ic=pd*2*%pi*f*c;//capacitor current in amperes\n",
"r=v/ic;//resistance of the coil in ohms\n",
"xl=q*r;//reactance of coil in ohms\n",
"l=(xl/(2*%pi*f))*(10^6);//inductance of the coil in ohms\n",
"\n",
"//output\n",
"mprintf('the resistance and the inductance of the coil are %3.1f ohms and %3.0f microH respectively',r,l)"
   ]
   }
,
{
		   "cell_type": "markdown",
		   "metadata": {},
		   "source": [
			"## Example 4.12: determination_of_inductance_and_phase_angle_of_the_coil.sce"
		   ]
		  },
  {
"cell_type": "code",
	   "execution_count": null,
	   "metadata": {
	    "collapsed": true
	   },
	   "outputs": [],
"source": [
"clc\n",
"clear\n",
"\n",
"//input\n",
"q=100;//Q factor of a coil\n",
"r=25;//resistance of the coil in ohms\n",
"//a capacitor is connected in sries with the coil\n",
"f=400000;//resonant frequency in hertz\n",
"i=0.125;//current at resonance in amperes\n",
"\n",
"//calculations\n",
"p=i*i*r;//power dissipated in coil in watts\n",
"e=p/f;//energy dissipated per cycle in joules\n",
"im=(2*i)^0.5;//assumin sinusoidal current in maperes\n",
"l=(((q*p)/(2*%pi*f))*(2/(im^2)))*1000;//inductance in millihenry\n",
"phi=acos(1/q);//phase angle in radians\n",
"c=(10^12)/(2*%pi*f*r*q);//capacitance in picofarad\n",
"\n",
"//output\n",
"mprintf('the inductance and the phase angle of the coil are %3.1f mH and %3.2f radians and the required capacitance for resonance is %3.0f pF',l,phi,c)"
   ]
   }
,
{
		   "cell_type": "markdown",
		   "metadata": {},
		   "source": [
			"## Example 4.1: finding_the_current_taken_by_the_coil.sce"
		   ]
		  },
  {
"cell_type": "code",
	   "execution_count": null,
	   "metadata": {
	    "collapsed": true
	   },
	   "outputs": [],
"source": [
"clc\n",
"clear\n",
"\n",
"//input\n",
"r=10;//resistance of a coil in ohms\n",
"l=0.08;//inductance of the coil in henry\n",
"v=250;//a.c. supply voltage in volts\n",
"f=50;//supply frequency in hertz\n",
"\n",
"//calculations\n",
"Xl=2*%pi*f*l;//reactance of the coil in ohms\n",
"z=((r^2)+(Xl^2))^0.5;//impedance of the circuit \n",
"I=v/z;//current in amperes\n",
"phi=acos(r/z);// phase angle in radians\n",
"PHI=(phi*180)/%pi;//phase angle in degrees\n",
"\n",
"//output\n",
"mprintf('the coil will take a current of %3.2f A lagging by %3.0f degree on the voltage',I,PHI)"
   ]
   }
,
{
		   "cell_type": "markdown",
		   "metadata": {},
		   "source": [
			"## Example 4.2: finding_the_phase_angle_and_magnitude_of_current.sce"
		   ]
		  },
  {
"cell_type": "code",
	   "execution_count": null,
	   "metadata": {
	    "collapsed": true
	   },
	   "outputs": [],
"source": [
"clc\n",
"clear\n",
"\n",
"//input\n",
"r=12;//resistance connected in series with a coil in ohms\n",
"rc=4;//resistance of the coil in ohms\n",
"l=0.02;//inductance of the coil in henry\n",
"v=230;//a.c. supply voltage in volts\n",
"f=50;//frequency of the supply in hertz\n",
"\n",
"//calculations\n",
"R=r+rc;//total resistance of circuit in ohms\n",
"xl=2*%pi*f*l;//reactance of the coil in ohms\n",
"z=((R^2)+(xl^2))^0.5;//impedance of the circuit in ohms\n",
"i=v/z;//current in amperes\n",
"phi=(acos(r/z))*(180/(2*%pi));//angle of phase difference in degrees\n",
"vr=i*r;//voltage drop across resistor in volts\n",
"vc=i*(((rc^2)+(xl^2))^0.5);//voltage drop across coil in volts\n",
"\n",
"//output\n",
"mprintf('the current taken from the supply is %3.1f A lagging by %3.1f degree.\n the voltage drops across the resistor and the coil are %3.0f V and %3.0f V',i,phi,vr,vc)"
   ]
   }
,
{
		   "cell_type": "markdown",
		   "metadata": {},
		   "source": [
			"## Example 4.3: finding_required_components_of_a_coil.sce"
		   ]
		  },
  {
"cell_type": "code",
	   "execution_count": null,
	   "metadata": {
	    "collapsed": true
	   },
	   "outputs": [],
"source": [
"clc\n",
"clear\n",
"\n",
"//input\n",
"r1=10;//resistance of first coil in ohms\n",
"l1=0.05;//inductance of first coil in henry\n",
"v1=150;//limit of voltage drop across of first coil in volts\n",
"v=240;//supply a.c. voltage in volts\n",
"f=50;//frequency of supply in hertz\n",
"a=40;//angle by which current lags the combined circuit after adding another coil to the first coil in series in degrees\n",
"\n",
"//calculations\n",
"R=2*%pi*f*l1;//reactance of first coil in ohms\n",
"z=((r1^2)+(R^2))^0.5;//impedance of the first coil in ohms\n",
"i=v1/z;//maximum safe current in amperes\n",
"Z=v/i;//total impedance in ohms\n",
"Rt=Z*cos(a*(%pi/180));//total resistance in ohms\n",
"r2=Rt-r1;//resistance of the second coil in ohms\n",
"xt=Z*sin(a*(%pi/180));//total reactance in ohms\n",
"x2=xt-R;//reactance of the second coil in ohms\n",
"l2=x2/(2*%pi*f);//inductance of the second coil in henry\n",
"L=l2*1000;//inductance of the second coil in millihenry\n",
"\n",
"//output\n",
"mprintf('the second coil must have a resistance of %3.1f ohm and an inductance of %3.1f mH',r2,L)"
   ]
   }
,
{
		   "cell_type": "markdown",
		   "metadata": {},
		   "source": [
			"## Example 4.4: finding_the_resistance_and_inductance_of_a_coil.sce"
		   ]
		  },
  {
"cell_type": "code",
	   "execution_count": null,
	   "metadata": {
	    "collapsed": true
	   },
	   "outputs": [],
"source": [
"clc\n",
"clear\n",
"\n",
"//input\n",
"//given voltage and  current equations are v=354*(sin(314*t)) volts,i=14.1*(sin((314*t)-0.5)) amperes\n",
"vmax=354;//maximum voltage in volts\n",
"imax=14.1;//maximum current in amperes\n",
"phi=0.5;//phase angle in radians\n",
"f=50;//supply frequency in hertz\n",
"\n",
"//calculations\n",
"V=0.707*vmax;//voltmeter reading placed in the circuit\n",
"I=0.707*imax;//ammeter reading placed in circuit\n",
"z=V/I;//impedance of the coil in ohms\n",
"R=z*cos(phi);//resistance in ohms\n",
"xl=z*sin(phi);//reactance of coil in ohms\n",
"l=(xl/(2*%pi*f))*1000;//inductance of the coil in millihenry\n",
"\n",
"//output\n",
"mprintf('the coil has a resistance of %3.0f ohm and an inductance of %3.0f mH \n the instrument readings will be %3.0f V and %3.0f A',R,l,V,I)"
   ]
   }
,
{
		   "cell_type": "markdown",
		   "metadata": {},
		   "source": [
			"## Example 4.5: calculation_of_required_capacitance.sce"
		   ]
		  },
  {
"cell_type": "code",
	   "execution_count": null,
	   "metadata": {
	    "collapsed": true
	   },
	   "outputs": [],
"source": [
"clc\n",
"clear\n",
"\n",
"//input\n",
"i=0.5;//current taken by filament of an electric lamp in amperes\n",
"v1=110;//supply voltage in volts\n",
"v2=240;//changed supply in volts\n",
"f=50;//supply frequency in hertz\n",
"\n",
"//calculations\n",
"z=v2/i;//impedance in ohms\n",
"r=v1/i;//resistance of the lamp\n",
"xc=((z^2)-(r^2))^0.5;//reactance of the capacitor added to the lamp in series in ohms\n",
"c=(10^6)/(2*%pi*f*xc);//capacitance in microfarad\n",
"//this can also be solved using phasor diagram\n",
"\n",
"//output\n",
"mprintf('the required value of the capacitance is %3.1f microfarad',c)"
   ]
   }
,
{
		   "cell_type": "markdown",
		   "metadata": {},
		   "source": [
			"## Example 4.6: determination_of_current_and_voltage.sce"
		   ]
		  },
  {
"cell_type": "code",
	   "execution_count": null,
	   "metadata": {
	    "collapsed": true
	   },
	   "outputs": [],
"source": [
"clc\n",
"clear\n",
"\n",
"//input\n",
"r=10;//resistance of an inductor in ohms\n",
"l=0.08;//inductance in henry\n",
"c=200*(10^-6);//capacitence of the capacitor connected in series to the inductor in farad\n",
"v=240;//supply voltage in volts\n",
"f=50;//supply frequency in hertz\n",
"\n",
"//calculations\n",
"xl=2*%pi*f*l;//reactance of the inductor in ohms\n",
"xc=1/(2*%pi*f*c);//reactance of the capacitor in ohms\n",
"R=xl-xc;//total reactacne of the circuit in ohms\n",
"z=((r^2)+(R^2))^0.5;//impedance of the circuit in ohms\n",
"I=v/z;//current in ohms\n",
"phi=(180/%pi)*acos(r/z);//phase angle in degrees\n",
"pd=I*(((r^2)+(xl^2))^0.5);//p.d. across inductor in volts\n",
"\n",
"//output\n",
"mprintf('the current taken from the supply is %3.1f A lagging on the voltage by %3.1f degrees and the voltage drop across the inductor is %3.0f V',I,phi,pd)"
   ]
   }
,
{
		   "cell_type": "markdown",
		   "metadata": {},
		   "source": [
			"## Example 4.7: determination_of_voltage_equation.sce"
		   ]
		  },
  {
"cell_type": "code",
	   "execution_count": null,
	   "metadata": {
	    "collapsed": true
	   },
	   "outputs": [],
"source": [
"clc\n",
"clear\n",
"\n",
"//input\n",
"r0=15;//resisance added in series wiht an inductor and capacitor in ohms\n",
"rl=5;//resistance of the inductor in ohms\n",
"l=0.03;//inductance of the inductor in henry\n",
"c=250*(10^-6);//capacitance in farad\n",
"//i=14.5sin(314t) is the given current expression\n",
"w=314;//from the current expression\n",
"im=14.5;//from the current expression\n",
"\n",
"//calculations\n",
"xl=w*l;//reactance of coil in ohms\n",
"xc=1/(w*c);//reactance of capacitor in ohms\n",
"r=r0+rl;//total resistance in ohms\n",
"R=xc-xl;//total reactance in ohms\n",
"z=((r^2)+(R^2))^0.5;//impedance in ohms\n",
"vm=im*z;//maximum voltage in volts\n",
"phi=acos(r/z);//phase angle in radians\n",
"\n",
"//output\n",
"mprintf('the supply voltage will be V= %3.0f sin((%3.0f t)- %3.3f)',vm,w,phi)"
   ]
   }
,
{
		   "cell_type": "markdown",
		   "metadata": {},
		   "source": [
			"## Example 4.8: finding_frequency_and_potential_differences.sce"
		   ]
		  },
  {
"cell_type": "code",
	   "execution_count": null,
	   "metadata": {
	    "collapsed": true
	   },
	   "outputs": [],
"source": [
"clc\n",
"clear\n",
"\n",
"//input\n",
"r=12;//resistance of the coil in ohms\n",
"l=0.08;//inductance of the coil in henry\n",
"c=150*(10^-6);//capacitance of capacitor connected in series in farad\n",
"v=240;//supply voltage in volts\n",
"i=20;//desired current in amperes\n",
"\n",
"//calculations\n",
"z=v/i;//impedance in ohms\n",
"w=((1/(l*c))^0.5);//angular frequency in rad/sec\n",
"f=w/(2*%pi);//frequency required in hertz\n",
"xl=w*l;//inductive reactance in ohms\n",
"pdc=xl*i;//p.d. across the capacitor in volts\n",
"pd=i*(((r^2)+(xl^2))^0.5);//p.d. across the coil\n",
"\n",
"//ouput\n",
"mprintf('the frequency at which the current will be 20A is %3.0f Hz and at this frequency the p.d.s across the coil and across the capacitor will be %3.0f V and %3.0f V respectively',f,pd,pdc)"
   ]
   }
,
{
		   "cell_type": "markdown",
		   "metadata": {},
		   "source": [
			"## Example 4.9: calculation_of_required_capacitance.sce"
		   ]
		  },
  {
"cell_type": "code",
	   "execution_count": null,
	   "metadata": {
	    "collapsed": true
	   },
	   "outputs": [],
"source": [
"clc\n",
"clear\n",
"\n",
"//input\n",
"f=100000;//frequency in hertz\n",
"r=5;//resistance of the coil in ohms\n",
"l=0.0016;//inductance of the coil in henry\n",
"\n",
"//calculations\n",
"xl=2*%pi*f*l;//inductive reactance of the coil in ohms\n",
"c=(10^12)/(2*%pi*f*xl);//capacitance required for resonance in pico farad\n",
"\n",
"//output\n",
"mprintf('the series capacitor must be turned to %3.0f pF to produce resonance at 100kHz',c)"
   ]
   }
],
"metadata": {
		  "kernelspec": {
		   "display_name": "Scilab",
		   "language": "scilab",
		   "name": "scilab"
		  },
		  "language_info": {
		   "file_extension": ".sce",
		   "help_links": [
			{
			 "text": "MetaKernel Magics",
			 "url": "https://github.com/calysto/metakernel/blob/master/metakernel/magics/README.md"
			}
		   ],
		   "mimetype": "text/x-octave",
		   "name": "scilab",
		   "version": "0.7.1"
		  }
		 },
		 "nbformat": 4,
		 "nbformat_minor": 0
}
