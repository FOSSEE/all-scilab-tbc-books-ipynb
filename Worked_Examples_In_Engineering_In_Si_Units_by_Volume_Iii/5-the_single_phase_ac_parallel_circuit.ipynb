{
"cells": [
 {
		   "cell_type": "markdown",
	   "metadata": {},
	   "source": [
       "# Chapter 5: the single phase ac parallel circuit"
	   ]
	},
{
		   "cell_type": "markdown",
		   "metadata": {},
		   "source": [
			"## Example 5.10: calculation_of_ratio_between_capacitor_current_and_supply_current.sce"
		   ]
		  },
  {
"cell_type": "code",
	   "execution_count": null,
	   "metadata": {
	    "collapsed": true
	   },
	   "outputs": [],
"source": [
"clc\n",
"clear\n",
"\n",
"//input\n",
"r=2;//resistance of an inductor in ohms\n",
"l=0.07;//inductance of an inductor in henry which is in resonance with a capacitor\n",
"f=60;//resonant frequency in hertz\n",
"\n",
"//calculations\n",
"tanphi=(2*%pi*f*l)/r;//ratio between capacitor current and supply current\n",
"\n",
"//output\n",
"mprintf('the ratio of capacitor current to supply current is %3.1f : 1',tanphi)"
   ]
   }
,
{
		   "cell_type": "markdown",
		   "metadata": {},
		   "source": [
			"## Example 5.11: calculation_of_resistance_and_inductance_of_load.sce"
		   ]
		  },
  {
"cell_type": "code",
	   "execution_count": null,
	   "metadata": {
	    "collapsed": true
	   },
	   "outputs": [],
"source": [
"clc\n",
"clear\n",
"\n",
"//input\n",
"c=4*(10^-6);//capacitance of a capacitor by which a resistive-inductive load is shunted in farad\n",
"v=2;//supply voltage in volts\n",
"f=5000;//supply frequency in hertz\n",
"q=10;//Q factor of the circuit \n",
"\n",
"//calculations\n",
"vwc=2*2*%pi*f*c;//capacitor current in amperes\n",
"it=vwc/q;//total current in amperes\n",
"i1=((vwc^2)+(it^2))^0.5;//load current in amperes\n",
"z1=v/i1;//load impedance in ohms\n",
"r1=z1*(it/i1);//resistance of load in ohms\n",
"x1=q*r1;//reactance of load in ohms\n",
"l=(x1*(10^6))/(2*%pi*f);//load inductance in microhenry\n",
"\n",
"//output\n",
"mprintf('the load has a resistance of %3.3f ohms and an inductance of %3.0f microhenry',r1,l)"
   ]
   }
,
{
		   "cell_type": "markdown",
		   "metadata": {},
		   "source": [
			"## Example 5.1: determining_the_current_taken_from_the_supply.sce"
		   ]
		  },
  {
"cell_type": "code",
	   "execution_count": null,
	   "metadata": {
	    "collapsed": true
	   },
	   "outputs": [],
"source": [
"clc\n",
"clear\n",
"\n",
"//input\n",
"r=20;//pure resistance connected in parallel with a pure inductance in ohms\n",
"l=0.08;//pure inductance in henry\n",
"v=240;//supply voltage in volts\n",
"f=50;//supply frequency in hertz\n",
"\n",
"//calculations\n",
"i1=v/r;//current in resistive branch in amperes\n",
"i2=v/(2*%pi*f*l);//current inductive branch in amperes\n",
"it=((i1*i1)+(i2*i2))^0.5;//total current in amperes\n",
"phi=(180/%pi)*acos(i1/it);//phase angle in degrees\n",
"\n",
"//output\n",
"mprintf('the total current is %3.1f A lagging by %3.1f degree',it,phi)"
   ]
   }
,
{
		   "cell_type": "markdown",
		   "metadata": {},
		   "source": [
			"## Example 5.2: finding_current_and_phase_angle.sce"
		   ]
		  },
  {
"cell_type": "code",
	   "execution_count": null,
	   "metadata": {
	    "collapsed": true
	   },
	   "outputs": [],
"source": [
"clc\n",
"clear\n",
"\n",
"//input\n",
"r=25;//resistance of a non inductive resistor in ohms\n",
"rl=10;//resistance of the inductor\n",
"l=0.06;//inductance of the inductor in henry\n",
"//non inductive resistor and resistive inductor are connected in parallel\n",
"v=230;//supply voltage in volts\n",
"f=50;//supply frequency in hertz\n",
"\n",
"//calculations\n",
"i1=v/r;//current in resistive branch in amperes\n",
"i2=v/(((rl*rl)+((2*%pi*f*l)^2))^0.5);//current is reactive-resistive branch in amperes\n",
"phi=acos(rl/(2*%pi*f*l));//phase angle in radians\n",
"it=i1+(i2*cos(phi));//total in-phase component in amperes\n",
"iq=i2*sin(phi);//total quadrature component in amperes\n",
"I=((it*it)+(iq*iq))^0.5;//resultant current in amperes\n",
"phit=(180/%pi)*acos(it/I);//phase angle in degrees\n",
"\n",
"//output\n",
"mprintf('the total current is %3.1f A lagging by %3.0f degrees',I,phit)"
   ]
   }
,
{
		   "cell_type": "markdown",
		   "metadata": {},
		   "source": [
			"## Example 5.3: calculation_of_current_taken_from_the_supply.sce"
		   ]
		  },
  {
"cell_type": "code",
	   "execution_count": null,
	   "metadata": {
	    "collapsed": true
	   },
	   "outputs": [],
"source": [
"clc\n",
"clear\n",
"\n",
"//input\n",
"//coils a and b in connected in parallel\n",
"v=240;//supply voltage in volts\n",
"f=50;//supply frequency in hertz\n",
"ra=10;//resistance of coil a in ohms\n",
"xla=25;//inductive reactance of coil a in ohms\n",
"rb=20;//resistance of coil b in ohms\n",
"xlb=12;//inductive reactance of coil b in ohms\n",
"\n",
"//calculations\n",
"z1=((ra^2)+(xla^2))^0.5;//impedance of coil a in ohms\n",
"i1=v/z1;//current in coil a in amperes\n",
"cos1=ra/z1;//cosine of phase angle1 \n",
"sin1=xla/z1;//sine of phase angle1\n",
"z2=((rb^2)+(xlb^2))^0.5;//impedance of coil b in ohms\n",
"i2=v/z2;//current in coil b in amperes\n",
"cos2=rb/z2;//cosine of phase angle2\n",
"sin2=xlb/z2;//sine of phase angle2\n",
"ii=(i1*cos1)+(i2*cos2);//total in phase component in amperes\n",
"iq=(i1*sin1)+(i2*sin2);//total quadrature component in amperes\n",
"I=((ii^2)+(iq^2))^0.5;//total current in amperes\n",
"\n",
"//output\n",
"mprintf('the total current is %3.1f A',I)"
   ]
   }
,
{
		   "cell_type": "markdown",
		   "metadata": {},
		   "source": [
			"## Example 5.4: calculation_of_reactance_and_inductance.sce"
		   ]
		  },
  {
"cell_type": "code",
	   "execution_count": null,
	   "metadata": {
	    "collapsed": true
	   },
	   "outputs": [],
"source": [
"clc\n",
"clear\n",
"\n",
"//input\n",
"i=10;//total current taken by two-branch parallel circuit in amperes\n",
"a=37*(%pi/180);//phase angle by which current lags by on the voltage in degrees\n",
"v=100;//voltage supply in volts\n",
"f=50;//frequency of supply in hertz\n",
"g1=0.03;//conductance of first branch in siemens\n",
"b1=0.04;//inductive susceptance of first branch in siemens\n",
"\n",
"//calculations\n",
"gt=(i*cos(a))/v;//total conductance in siemens\n",
"bt=(i*sin(a))/v;//total susceptance in siemens\n",
"g2=gt-g1;//conductance of second branch in siemens\n",
"b2=bt-b1;//susceptance of second branch in siemens\n",
"y2=((g2^2)+(b2^2))^0.5;//admittance of second branch\n",
"r2=g2/(y2^2);//resistance of second branch in ohms\n",
"x2=b2/(y2^2);//reactacne of second coil in ohms\n",
"l2=(1000*x2)/(2*%pi*f);//inductance of second coil in millihenry\n",
"\n",
"//output\n",
"mprintf('the resistance and inductance of second branch are %3.2f ohm and %3.2f mH',r2,l2)"
   ]
   }
,
{
		   "cell_type": "markdown",
		   "metadata": {},
		   "source": [
			"## Example 5.5: determination_of_total_current_and_phase_angle_in_rc_parallel_circuit.sce"
		   ]
		  },
  {
"cell_type": "code",
	   "execution_count": null,
	   "metadata": {
	    "collapsed": true
	   },
	   "outputs": [],
"source": [
"clc\n",
"clear\n",
"\n",
"//input\n",
"r=30;//resistance of a resistance in ohms which is connected in parallel with a bank of capacitors\n",
"c=80*(10^-6);//capacitance of bank of capacitors in farad\n",
"v=240;//supply voltage in volts\n",
"f=50;//supply frequency in hertz\n",
"\n",
"//calculations\n",
"i1=v/r;//current in phase with the voltage in amperes\n",
"i2=v*2*%pi*f*c;;//current leading on voltage by 90 degrees in amperes\n",
"i=((i1^2)+(i2^2))^0.5;//total current in amperes\n",
"phi=(180/%pi)*acos(i1/i);//phase angle in degrees\n",
"\n",
"//output\n",
"mprintf('the total current is %3.0f A leading on the voltage by %3.0f degrees',i,phi)"
   ]
   }
,
{
		   "cell_type": "markdown",
		   "metadata": {},
		   "source": [
			"## Example 5.6: calculation_of_current_using_admittance_method.sce"
		   ]
		  },
  {
"cell_type": "code",
	   "execution_count": null,
	   "metadata": {
	    "collapsed": true
	   },
	   "outputs": [],
"source": [
"clc\n",
"clear\n",
"\n",
"//input\n",
"v=415;//supply voltage in volts\n",
"f=50;//supply frequency in hertz\n",
"r1=50;//resistance in branch 1 in ohms\n",
"r2=30;//resistance in branch 2 in ohms\n",
"c=50*(10^-6);//capacitance in branch 2 in farad\n",
"//branch 1 and 2 are in parallel\n",
"\n",
"//calculations\n",
"g1=1/r1;//conductance of branch 1 in siemens\n",
"xc=1/(2*%pi*f*c);//reactance of branch 2 in siemens\n",
"z=((r2^2)+(xc^2))^0.5;//impedance in ohms\n",
"g2=r2/(z^2);//conductance of branch 2 in siemens\n",
"b2=xc/(z^2);//susceptance of branch 2 in siemens\n",
"gt=g1+g2;//total conductance in siemens\n",
"bt=0+b2;//total susceptance in siemens\n",
"yt=((gt^2)+(bt^2))^0.5;//total admittance in mho\n",
"it=v*yt;//total current in amperes\n",
"R=gt/(yt^2);//resistance of the series equivalent circuit in ohms\n",
"Xc=bt/(yt^2);//capacitive reactance of the series circuit in ohms\n",
"\n",
"//output\n",
"mprintf('the current taken from the supply will be %3.1f A and the resistance and capacitive reactance of the equivalent series circuit are %3.0fohm and %3.0fohms respectively',it,R,Xc)"
   ]
   }
,
{
		   "cell_type": "markdown",
		   "metadata": {},
		   "source": [
			"## Example 5.7: finding_current_taken_from_the_supply_by_an_rlc_parallel_circuit.sce"
		   ]
		  },
  {
"cell_type": "code",
	   "execution_count": null,
	   "metadata": {
	    "collapsed": true
	   },
	   "outputs": [],
"source": [
"clc\n",
"clear\n",
"\n",
"//input\n",
"r=32;//resistance in branch 1 in ohms\n",
"l=0.08;//inductance in branch 2 in henry\n",
"c=200*(10^-6);//capacitance in branch 3 in farad\n",
"//braches 1,2 and 3 are in parallel\n",
"v=240;//supply voltage in volts\n",
"f=50;//supply frequency in hertz\n",
"\n",
"//calculations\n",
"g1=1/r;//conductance of branch 1 in siemens\n",
"b2=-1/(2*%pi*f*l);//susceptance of branch 2 in siemens\n",
"b3=2*%pi*f*c;//susceptance of branch 3 in siemens\n",
"bt=b2+b3;//total susceptance in siemens\n",
"yt=((g1^2)+(bt^2))^0.5;//total admittance in mho\n",
"it=v*yt;//total current in amperes\n",
"phi=(180/%pi)*acos(g1/yt);//phase angle in degrees\n",
"\n",
"//output\n",
"mprintf('the total current will be %3.2f A leading on the voltage by %3.1f degrees',it,phi)"
   ]
   }
,
{
		   "cell_type": "markdown",
		   "metadata": {},
		   "source": [
			"## Example 5.8: calculation_of_total_current_and_phase_angle.sce"
		   ]
		  },
  {
"cell_type": "code",
	   "execution_count": null,
	   "metadata": {
	    "collapsed": true
	   },
	   "outputs": [],
"source": [
"clc\n",
"clear\n",
"\n",
"//input\n",
"r1=100;//resistance in branch 1 in ohms\n",
"r2=10;//resistance in branch 2 in ohms\n",
"l2=0.07;//inductance in branch 2 in henry\n",
"r3=10;//resistance in branch 3 in ohms\n",
"c3=100*(10^-6);//capacitance in branch 3 in farad\n",
"//branches 1,2 and 3 are in parallel with each other\n",
"v=250;//supply voltage in volts\n",
"f=50;//supply frequency in hertz\n",
"\n",
"//calculations\n",
"it=v/r1;//total current in branch 1 in amperes\n",
"ii1=it;//since resistive branch\n",
"iq1=0;//since resistive branch\n",
"z2=((r2^2)+((2*%pi*f*l2)^2))^0.5;//impedance of branch 2 in ohms\n",
"i2=v/z2;//current in branch 2 in amperes\n",
"cos2=r2/z2;//cosine of phase angle\n",
"phi2=(180/%pi)*acos(cos2);//phase angle in degree\n",
"ii2=i2*cos2;//in phase component of branch2 in amperes\n",
"iq2=-i2*sin(acos(cos2));//quadrature component of branch 2 in amperes\n",
"z3=((r3^2)+((1/(2*%pi*f*c3))^2))^0.5;//impedance of branch 3 in ohms\n",
"i3=v/z3;//current in branch 3 in amperes\n",
"cos3=r3/z3;//cosine of the phase angle \n",
"phi3=(180/%pi)*acos(cos3);//phase angle in degrees\n",
"ii3=i3*cos3;//in phase component of branch 3 in amperes\n",
"iq3=i3*sin(acos(cos2));//quadrature component of branch 3 in amperes\n",
"ii=ii1+ii2+ii3;//total in phase component in amperes\n",
"iq=iq1+iq2+iq3;//total quadrature component in amperes\n",
"it=((ii^2)+(iq^2))^0.5;//total current in amperes\n",
"cost=ii/it;//cosine of total phase angle\n",
"phit=(180/%pi)*acos(cost);//phase angle in degrees\n",
"zs=v/it;//equivalent series impedance in ohms\n",
"rs=zs*cost;//equivalent series resistance in ohms\n",
"xs=zs*sin(acos(cost));//equivalent series reactance in ohms\n",
"l=(xs*1000)/(2*%pi*f);//inductance in millihenry\n",
"\n",
"//output\n",
"mprintf('the total current is %3.2f A lagging by %3.0f degrees and the equivalent series circuit would be a resistive inductive circuit of %3.1f ohms and %3.0f mH',it,phit,rs,l )"
   ]
   }
,
{
		   "cell_type": "markdown",
		   "metadata": {},
		   "source": [
			"## Example 5.9: finding_resonant_frequency.sce"
		   ]
		  },
  {
"cell_type": "code",
	   "execution_count": null,
	   "metadata": {
	    "collapsed": true
	   },
	   "outputs": [],
"source": [
"clc\n",
"clear\n",
"\n",
"//input\n",
"r=10;//resistance of an inductor in ohms\n",
"l=0.08;//inductance of an inductor in henry\n",
"c=150*(10^-6);//capacitance by which the inductor is shunted in farad\n",
"v=240;//supply voltage in volts\n",
"\n",
"//calculation\n",
"z1=l/c;//impedance in henry\n",
"f0=(1/(2*%pi))*(((z1-(r^2))/(l^2))^0.5);//resonant frequency in hertz\n",
"z=((r^2)+((2*%pi*f0*l)^2))^0.5;//impedance in ohms\n",
"it=(v*r)/(z^2);//total current in amperes\n",
"\n",
"//output\n",
"mprintf('the circuit will be in current resonance at a frequency of %3.1f Hz and at this frequency the supply current will be %3.1f A',f0,it)"
   ]
   }
],
"metadata": {
		  "kernelspec": {
		   "display_name": "Scilab",
		   "language": "scilab",
		   "name": "scilab"
		  },
		  "language_info": {
		   "file_extension": ".sce",
		   "help_links": [
			{
			 "text": "MetaKernel Magics",
			 "url": "https://github.com/calysto/metakernel/blob/master/metakernel/magics/README.md"
			}
		   ],
		   "mimetype": "text/x-octave",
		   "name": "scilab",
		   "version": "0.7.1"
		  }
		 },
		 "nbformat": 4,
		 "nbformat_minor": 0
}
