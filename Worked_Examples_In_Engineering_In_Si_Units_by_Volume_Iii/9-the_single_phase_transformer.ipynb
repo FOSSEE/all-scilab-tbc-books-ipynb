{
"cells": [
 {
		   "cell_type": "markdown",
	   "metadata": {},
	   "source": [
       "# Chapter 9: the single phase transformer"
	   ]
	},
{
		   "cell_type": "markdown",
		   "metadata": {},
		   "source": [
			"## Example 9.10: calculation_of_all_day_efficiency.sce"
		   ]
		  },
  {
"cell_type": "code",
	   "execution_count": null,
	   "metadata": {
	    "collapsed": true
	   },
	   "outputs": [],
"source": [
"clc\n",
"clear\n",
"\n",
"//input\n",
"kva=10;//kVA rating of the transformer\n",
"vp=400;//voltage on primary side in volts\n",
"vs=230;//voltage on secondary side in volts\n",
"//short circuit test\n",
"ppd1=18;//primary p.d. in volts\n",
"ip1=25;//primary current in amperes\n",
"inp1=120;//power input in watts\n",
"//short circuit test\n",
"ppd2=400;//primary p.d. in volts\n",
"ip2=0.5;//primary current in amperes\n",
"inp2=70;//power input in watts\n",
"\n",
"//calculations\n",
"zp=ppd1/ip1;//equivalent primary impedance in ohms\n",
"rp=inp1/(ip1^2);//equivalent resistance in ohms\n",
"xp=((zp^2)-(rp^2))^0.5;//equivalent leakage reactance in ohms\n",
"r0=(vp^2)/(1000*inp2);//resistance of parallel circuit\n",
"phi=sin(acos(inp2/(vp*ip2)));//sine of power factor\n",
"im=ip2*phi;//magnetizing current in amperes\n",
"x0=vp/im;//reactance in ohms\n",
"\n",
"//output\n",
"mprintf('the equivalent circuit parameters are \n Rp=%3.3f ohms \n Xp=%3.3f ohms \n r0=%3.3f kilo ohms \n x0=%3.1f ohms',rp,xp,r0,x0)"
   ]
   }
,
{
		   "cell_type": "markdown",
		   "metadata": {},
		   "source": [
			"## Example 9.11: determination_of_equivalent_circuit.sce"
		   ]
		  },
  {
"cell_type": "code",
	   "execution_count": null,
	   "metadata": {
	    "collapsed": true
	   },
	   "outputs": [],
"source": [
"clc\n",
"clear\n",
"\n",
"//input\n",
"kva=10;//kVA rating of the transformer\n",
"vp=400;//voltage on primary side in volts\n",
"vs=230;//voltage on secondary side in volts\n",
"//short circuit test\n",
"ppd1=18;//primary p.d. in volts\n",
"ip1=25;//primary current in amperes\n",
"inp1=120;//power input in watts\n",
"//short circuit test\n",
"ppd2=400;//primary p.d. in volts\n",
"ip2=0.5;//primary current in amperes\n",
"inp2=70;//power input in watts\n",
"\n",
"//calculations\n",
"zp=ppd1/ip1;//equivalent primary impedance in ohms\n",
"rp=inp1/(ip1^2);//equivalent resistance in ohms\n",
"xp=((zp^2)-(rp^2))^0.5;//equivalent leakage reactance in ohms\n",
"r0=(vp^2)/(1000*inp2);//resistance of parallel circuit\n",
"phi=sin(acos(inp2/(vp*ip2)));//sine of power factor\n",
"im=ip2*phi;//magnetizing current in amperes\n",
"x0=vp/im;//reactance in ohms\n",
"\n",
"//output\n",
"mprintf('the equivalent circuit parameters are \n Rp=%3.3f ohms \n Xp=%3.3f ohms \n r0=%3.3f kilo ohms \n x0=%3.1f ohms',rp,xp,r0,x0)"
   ]
   }
,
{
		   "cell_type": "markdown",
		   "metadata": {},
		   "source": [
			"## Example 9.12: finding_the_primary_input_current_secondary_terminal_voltage_and_the_efficiency.sce"
		   ]
		  },
  {
"cell_type": "code",
	   "execution_count": null,
	   "metadata": {
	    "collapsed": true
	   },
	   "outputs": [],
"source": [
"clc\n",
"clear\n",
"\n",
"//input\n",
"kva=5;//kVA rating of the transformer\n",
"pf=0.8;//power factor\n",
"vp=250;//voltage on primary side in volts\n",
"vs=500;//voltage on secondary side in volts\n",
"//from equivalent circuit\n",
"r0=750;//resistance in ohms\n",
"x0=325;//reactance in ohms\n",
"Rp=0.4;//equivalent resistance refered to primary side in ohms\n",
"Xp=0.75;//equivalent reactance refered to primary side in ohms\n",
"\n",
"//calculations\n",
"is=(kva*1000)/vs;//full load secondary current in amperes\n",
"ip1=is*(vs/vp);//current in amperes\n",
"ep=vp-((ip1*pf)+(Xp*sin(acos(pf))));//in volts\n",
"Vs=ep*(vs/vp);// in volts\n",
"i1=vp/(vs+vp);//component of Io in phase with Vs in amperes\n",
"i2=i1*pf;//component of Ie in phase with Ip\n",
"i3=i1*sin(acos(pf));//component of Ie in quadrature with Ip\n",
"im=vp/x0;//magnetizing current in amperes\n",
"i4=im*sin(acos(pf));//component of Im in phase with Ip\n",
"i5=im*pf;//component of Im in quadrature with Ip\n",
"Ip=(((ip1+i2+i4)^2)+((i5-i3)^2))^0.5;//total primary current in amperes\n",
"P=vp*Ip*pf;//power input in watts\n",
"pc=ip1*ip1*i4;//copper loss in watts\n",
"pi=vp*i1;//iron loss in watts\n",
"n=1-((pc+pi)/P);//efficiency in per units\n",
"\n",
"//output\n",
"mprintf('the primary input current is %3.2f A : the secondary terminal voltage is %3.0f V and the efficiency of the transformer is %3.2f p.u.',Ip,Vs,n)"
   ]
   }
,
{
		   "cell_type": "markdown",
		   "metadata": {},
		   "source": [
			"## Example 9.13: calculation_of_secondary_terminal_voltage.sce"
		   ]
		  },
  {
"cell_type": "code",
	   "execution_count": null,
	   "metadata": {
	    "collapsed": true
	   },
	   "outputs": [],
"source": [
"clc\n",
"clear\n",
"\n",
"//input\n",
"//all values refered to primary and from given equivalent circuit \n",
"v=240;//supply voltage in volts\n",
"r0=0.25;//resistance in ohms\n",
"x0=0.4;//reactance in ohms\n",
"rl=7.75;//load resistance in ohms\n",
"xl=5.6;//load reactance in ohms\n",
"n=5;//turns ratio of the transformer\n",
"\n",
"//calculations\n",
"rt=r0+rl;//total resistance of the circuit in ohms\n",
"xt=x0+xl;//total reactance of the circuit in ohms\n",
"zt=((rt^2)+(xt^2))^0.5;//total impedance of transformer and the load in ohms\n",
"Ip=v/zt;//current in amperes\n",
"zl=((rl^2)+(xl^2))^0.5;//impedance of load in ohms\n",
"d=Ip*zl;//voltage drop across referred load impedance in volts\n",
"vs=n*d;//secondary terminal voltage in volts\n",
"\n",
"//output\n",
"mprintf('the secondary terminal voltage is %3.0f V',vs)"
   ]
   }
,
{
		   "cell_type": "markdown",
		   "metadata": {},
		   "source": [
			"## Example 9.1: finding_the_number_turns_on_secondary.sce"
		   ]
		  },
  {
"cell_type": "code",
	   "execution_count": null,
	   "metadata": {
	    "collapsed": true
	   },
	   "outputs": [],
"source": [
"clc\n",
"clear\n",
"\n",
"//input\n",
"t1=96;//number turns on the primary side of an ideal transformer\n",
"v=240;//supply voltage in volts\n",
"f=50;//supply frequency in hertz\n",
"v2=660;//secondary pd in volts\n",
"\n",
"//calculations\n",
"vp=v/t1;//primary volts per turn\n",
"vs=vp;//secondary volts per turn\n",
"t2=v2/vs;//secondary turns \n",
"\n",
"//output\n",
"mprintf('to produce a p.d. of 660V the secondary coil should have %3.0f turns',t2)"
   ]
   }
,
{
		   "cell_type": "markdown",
		   "metadata": {},
		   "source": [
			"## Example 9.2: finding_the_secondary_turns_and_the_full_load_primary_and_secondary_currents.sce"
		   ]
		  },
  {
"cell_type": "code",
	   "execution_count": null,
	   "metadata": {
	    "collapsed": true
	   },
	   "outputs": [],
"source": [
"clc\n",
"clear\n",
"\n",
"//input\n",
"vp=660;//primary voltage in volts\n",
"vs=1100;//secondary voltage in volts\n",
"f=50;//supply frequency in hertz\n",
"kva=10;//kVA rating of the transformer \n",
"t1=550;//number of primary turns\n",
"\n",
"//calculations\n",
"pv=vp/t1;//primary volts per turn\n",
"t2=vs/pv;//number of secondary turns\n",
"inpi=(kva*1000)/vp;//input current in amperes\n",
"is=(kva*1000)/vs;//secondary current in amperes\n",
"\n",
"//output\n",
"mprintf('the number of secondary turns is %3.0f and the respective primary and secondary currents are %3.1fA and %3.1fA',t2,inpi,is)"
   ]
   }
,
{
		   "cell_type": "markdown",
		   "metadata": {},
		   "source": [
			"## Example 9.3: finding_the_mutual_inductance_between_the_windings.sce"
		   ]
		  },
  {
"cell_type": "code",
	   "execution_count": null,
	   "metadata": {
	    "collapsed": true
	   },
	   "outputs": [],
"source": [
"clc\n",
"clear\n",
"\n",
"//input\n",
"t1=120;//primary turns of an ideal transformer\n",
"ls1=0.24;//self inductance of primary in henry\n",
"v=240;//supply voltage in volts\n",
"t2=300;//secondary turns of the ideal transformer\n",
"\n",
"//calculations\n",
"d=v/ls1;//rate of change of current in A/s\n",
"v2=v*(t2/t1);//secondary voltage in volts\n",
"M=v2/d;//mutual impedance in henry\n",
"ls2=ls1*((t2*t2)/(t1*t1));//self inuctance of the secondary in henry\n",
"\n",
"//output\n",
"mprintf('the mutual impedance between the coils is %3.1fH and the self inductance of the secondary winding is %3.1fH',M,ls2)"
   ]
   }
,
{
		   "cell_type": "markdown",
		   "metadata": {},
		   "source": [
			"## Example 9.4: finding_magnetizing_current_and_the_no_load_loss.sce"
		   ]
		  },
  {
"cell_type": "code",
	   "execution_count": null,
	   "metadata": {
	    "collapsed": true
	   },
	   "outputs": [],
"source": [
"clc\n",
"clear\n",
"\n",
"//input\n",
"i=0.4;//no load current in amperes\n",
"pf=0.25;//lagging power factor\n",
"v=250;//supply voltage in volts\n",
"f=50;//supply frequency in hertz\n",
"\n",
"//calculations\n",
"ie=i*pf;//loss component of no load current in amperes\n",
"im=((i^2)-(ie^2))^0.5;//magnetizing component in amperes\n",
"p=v*ie;//no load power loss in watts\n",
"\n",
"//output\n",
"mprintf('the magnetising current is %3.3fA and the no load loss is %3.0f W',im,p)"
   ]
   }
,
{
		   "cell_type": "markdown",
		   "metadata": {},
		   "source": [
			"## Example 9.5: finding_the_flux_density_in_the_core.sce"
		   ]
		  },
  {
"cell_type": "code",
	   "execution_count": null,
	   "metadata": {
	    "collapsed": true
	   },
	   "outputs": [],
"source": [
"clc\n",
"clear\n",
"\n",
"//input\n",
"v=240;//supply voltage in volts\n",
"f=50;//supply frequency in hertz\n",
"t1=500;//number of primary turns\n",
"i0=0.35;//no load current in amperes\n",
"p=44;//power loss in watts\n",
"l=0.4;//magnetic length of the core in meters\n",
"ur=2000;//relative permeability of core\n",
"u0=1.257*(10^-6);//absolute permeability \n",
"\n",
"//calculations\n",
"cosp=p/(v*i0);//no load power factor\n",
"im=i0*sin(acos(cosp));//magnetizing current in amperes\n",
"b=(u0*ur*im*t1)/l;//flux density in tesla\n",
"\n",
"//output\n",
"mprintf('the flux density produced in the core will be %3.3f T',b)"
   ]
   }
,
{
		   "cell_type": "markdown",
		   "metadata": {},
		   "source": [
			"## Example 9.6: determination_of_components_of_parallel_circuit.sce"
		   ]
		  },
  {
"cell_type": "code",
	   "execution_count": null,
	   "metadata": {
	    "collapsed": true
	   },
	   "outputs": [],
"source": [
"clc\n",
"clear\n",
"\n",
"//input\n",
"vp=440;//primary voltage in volts\n",
"vs=240;//secondary voltage in volts\n",
"f=50;//supply voltage in hertz\n",
"i0=0.5;//no load current in amperes\n",
"pf=0.3;//lagging power factor\n",
"\n",
"//calculations\n",
"ii=i0*pf;//in phase component in amperes\n",
"r0=vp/(ii*1000);//resistance in ohms\n",
"iq=((i0^2)-(ii^2))^0.5;//quadrature component in amperes\n",
"x0=vp/iq;//reactance in ohms\n",
"l0=x0/(2*%pi*f);//inductance in henry\n",
"\n",
"//output\n",
"mprintf('the transformer on load may be represented by %3.2fkOhms resistance in parallel with a pure inductance of %3.2fH',r0,l0)"
   ]
   }
,
{
		   "cell_type": "markdown",
		   "metadata": {},
		   "source": [
			"## Example 9.7: finding_number_of_primary_and_secondary_turns.sce"
		   ]
		  },
  {
"cell_type": "code",
	   "execution_count": null,
	   "metadata": {
	    "collapsed": true
	   },
	   "outputs": [],
"source": [
"clc\n",
"clear\n",
"\n",
"//input\n",
"vp=1100;//voltage on the primary in volts\n",
"vs=240;//secondary voltage in volts\n",
"f=50;//supply frequency in hertz\n",
"b=1.4;//flux density in tesla\n",
"s=0.2;//side of the square core in meter\n",
"\n",
"//calculations\n",
"ag=s*s;//gross area of core in square meters\n",
"am=0.9*ag;//magnetic area of core in square meters\n",
"np=vp/(4.44*b*am*f);//number of turns in primary\n",
"ns=np*(vs/vp);//number of turns in secondary\n",
"\n",
"//output\n",
"mprintf('the number of turns in the primary and secondary winding would be %3.0f and %3.0f respectively',np,ns)"
   ]
   }
,
{
		   "cell_type": "markdown",
		   "metadata": {},
		   "source": [
			"## Example 9.8: estimation_of_flux_density_magnetizing_current_and_core_loss.sce"
		   ]
		  },
  {
"cell_type": "code",
	   "execution_count": null,
	   "metadata": {
	    "collapsed": true
	   },
	   "outputs": [],
"source": [
"clc\n",
"clear\n",
"\n",
"//input\n",
"np=350;//number of turn in the primary\n",
"lm=0.8;//mean length of core in meters\n",
"am=0.006;//magnetic area in square meter\n",
"i0=0.8;//no load current in amperes\n",
"v=500;//supply voltage in volts\n",
"f=50;//frequency of supply in hertz\n",
"ur=2000;//relative permeability of the core\n",
"u0=1.257*(10^-6);//absolute permeability\n",
"\n",
"//calculations\n",
"bm=v/(4.44*am*np*f);//maximum flux density in tesla\n",
"im=(bm*i0)/(u0*ur*np*(2^0.5));//magnetizing current in amperes\n",
"sinp=im/i0;//sine of no load phase angle\n",
"p=v*lm*cos(asin(im/i0));//power loss of core in watts\n",
"\n",
"//output\n",
"mprintf('the maximum flux density in the core will be %3.3fT with a magnetizing current of %3.3fA and a core loss of %3.0fW',bm,im,p)"
   ]
   }
,
{
		   "cell_type": "markdown",
		   "metadata": {},
		   "source": [
			"## Example 9.9: calculation_of_different_efficiencies_and_loading_for_maximum_efficiency.sce"
		   ]
		  },
  {
"cell_type": "code",
	   "execution_count": null,
	   "metadata": {
	    "collapsed": true
	   },
	   "outputs": [],
"source": [
"clc\n",
"clear\n",
"\n",
"//input\n",
"kva=20000;//kVA rating of the transformer in VA \n",
"vp=1100;//primary voltage in volts\n",
"vs=240;//secondary voltage in volts\n",
"pi=500;//iron losses in watts\n",
"pc=600;//full load copper losses in watts\n",
"pf=0.8;//lagging power factor\n",
"\n",
"//calculations\n",
"out=kva*pf;//full load output in watts\n",
"fll=pi+pc;//full load losses in watts\n",
"n=out/(out+fll);//efficiency in perunits\n",
"hfl=kva/2;//unity power factor\n",
"cp=pc*(1/(2*2));//copper loss in watts\n",
"n1=(hfl/1000)/((hfl/1000)+0.5+(cp/1000));//efficiency in per units\n",
"kvat=(kva*((pi/pc)^0.5))/1000;// total kVA \n",
"\n",
"//output\n",
"mprintf('the efficiencies on full load,at 0.8 lag and 0.5*full load,at unity power factor are %3.3f p.u. and %3.2f p.u. respectively.\n the loading for maximum efficiency is %3.2f kVA',n,n1,kvat)"
   ]
   }
],
"metadata": {
		  "kernelspec": {
		   "display_name": "Scilab",
		   "language": "scilab",
		   "name": "scilab"
		  },
		  "language_info": {
		   "file_extension": ".sce",
		   "help_links": [
			{
			 "text": "MetaKernel Magics",
			 "url": "https://github.com/calysto/metakernel/blob/master/metakernel/magics/README.md"
			}
		   ],
		   "mimetype": "text/x-octave",
		   "name": "scilab",
		   "version": "0.7.1"
		  }
		 },
		 "nbformat": 4,
		 "nbformat_minor": 0
}
