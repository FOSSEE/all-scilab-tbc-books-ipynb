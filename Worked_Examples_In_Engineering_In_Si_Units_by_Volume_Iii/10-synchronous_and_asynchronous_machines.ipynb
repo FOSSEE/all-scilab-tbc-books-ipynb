{
"cells": [
 {
		   "cell_type": "markdown",
	   "metadata": {},
	   "source": [
       "# Chapter 10: synchronous and asynchronous machines"
	   ]
	},
{
		   "cell_type": "markdown",
		   "metadata": {},
		   "source": [
			"## Example 10.1: determination_of_emf_between_ends_of_a_coil.sce"
		   ]
		  },
  {
"cell_type": "code",
	   "execution_count": null,
	   "metadata": {
	    "collapsed": true
	   },
	   "outputs": [],
"source": [
"clc\n",
"clear\n",
"\n",
"//input\n",
"p=4;//number of poles of an alternator\n",
"w=50*%pi;//angular velocity in rad/sec\n",
"b=0.015;//sinusoidal flux per pole in weber\n",
"phi=10*(%pi/180);//pole pitch in radians\n",
"kf=1.11;//form factor\n",
"\n",
"//calculations\n",
"f=(w*(p/2))/(2*%pi);//frequency in hertz\n",
"e=2*kf*b*f;//e.m.f. per conductor in volts\n",
"E=2*e*cos(phi/2);//total e.m.f. in volts\n",
"\n",
"//ouput\n",
"mprintf('the e.m.f. between the ends of the coil is %3.1f V',E)"
   ]
   }
,
{
		   "cell_type": "markdown",
		   "metadata": {},
		   "source": [
			"## Example 10.2: finding_the_emf_between_the_ends_of_the_series_connected_coils.sce"
		   ]
		  },
  {
"cell_type": "code",
	   "execution_count": null,
	   "metadata": {
	    "collapsed": true
	   },
	   "outputs": [],
"source": [
"clc\n",
"clear\n",
"\n",
"//input\n",
"p=4;//number of poles\n",
"n=48;//number of slots\n",
"b=0.02;//fulx per pole in weber \n",
"w=50*(%pi);//angular velocity in rad/sec\n",
"\n",
"//calcultions\n",
"f=(w*(p/2))/(2*%pi);//frequency in hertz\n",
"phim=360/n;//mechanical angle in degrees\n",
"phie=phim*(p/2);//electrical angle in degrees\n",
"phiE=phie*(%pi/180);//electrical angle in radians\n",
"kd=(sin(2*(phiE/2)))/(2*sin(phiE/2));//distribution factor and 2 is taken as we are calculating for 2 coils\n",
"e=(p/2)*kd*4.44;//total e.m.f. for two coils in series in volts\n",
"\n",
"//output\n",
"mprintf('the total e.m.f. for two coils in series is %3.1f V',e)"
   ]
   }
,
{
		   "cell_type": "markdown",
		   "metadata": {},
		   "source": [
			"## Example 10.3: calculation_of_phase_and_line_voltages.sce"
		   ]
		  },
  {
"cell_type": "code",
	   "execution_count": null,
	   "metadata": {
	    "collapsed": true
	   },
	   "outputs": [],
"source": [
"clc\n",
"clear\n",
"\n",
"//input\n",
"p=6;//number of poles\n",
"n=72;//number of slots\n",
"n1=10;//conductors per slot\n",
"b=0.01;//flux per pole in weber\n",
"f=50;//frequency in hertz\n",
"phi=170;//pitch of coil in electrical degrees\n",
"kf=1.11;//form factor for sinusoidal forms\n",
"\n",
"//calcultions\n",
"n2=n/p;//number of slots per pole\n",
"n3=n2/3;//number of slots per pole per phase for 3phase system\n",
"phim=360/n;//mechanical angle between slots in degrees\n",
"phie=phim*(p/2);//electrical angle in degrees\n",
"phiE=phie*(%pi/180);//electrical angle in radians\n",
"kd=(sin(n3*(phiE/2)))/(n3*sin(phiE/2));//distribution factor \n",
"phis=(180-phi)*(%pi/180);//coil spam factor in radians\n",
"kc=cos(phis);//pitch factor in radians\n",
"e=2*kd*kc*kf*f*b*((n*n1)/3);//e.m.f. per phase in volts\n",
"vl=(3^0.5)*e;//line voltage for star connection in volts\n",
"\n",
"//output\n",
"mprintf('the phase and line voltages are %3.0f V and %3.0f V respectively',e,vl)"
   ]
   }
,
{
		   "cell_type": "markdown",
		   "metadata": {},
		   "source": [
			"## Example 10.4: calculation_of_torque_produced.sce"
		   ]
		  },
  {
"cell_type": "code",
	   "execution_count": null,
	   "metadata": {
	    "collapsed": true
	   },
	   "outputs": [],
"source": [
"clc\n",
"clear\n",
"\n",
"//input\n",
"p=4;//number of poles\n",
"n1=3;//number of phases\n",
"f=50;//frequency in hertz\n",
"inp=60;//input to the motor in kW\n",
"l=0.06;//losses in per units\n",
"\n",
"//calculations\n",
"w=2*%pi*(f/(p/2));//angular velocity in rad/sec\n",
"t=(inp*1000)/w;//total torque produced in newton meter\n",
"tu=t-(t*l);//useful torque in newton meter\n",
"\n",
"//calculations\n",
"mprintf('the total torque and the useful torque of the machine are %3.0f Nm and %3.0f Nm respectively',t,tu)"
   ]
   }
,
{
		   "cell_type": "markdown",
		   "metadata": {},
		   "source": [
			"## Example 10.5: determination_torque_produced.sce"
		   ]
		  },
  {
"cell_type": "code",
	   "execution_count": null,
	   "metadata": {
	    "collapsed": true
	   },
	   "outputs": [],
"source": [
"clc\n",
"clear\n",
"\n",
"//input\n",
"p=2;//number of poles\n",
"v=415;//3 phase supply voltage in volts \n",
"n=3;//number of phases\n",
"x=0.6;//reactance of phase in ohms\n",
"f=50;//supply ferquency in hertz\n",
"e=0.08;//resultant e.m.f. is 0.08of supply voltage\n",
"\n",
"//calculations\n",
"e1=(e*v)/(3^0.5);//resultant e.m.f. per phase in volts\n",
"i=e1/x;//current per phase in current\n",
"il=i;//line current in amperes\n",
"phi=(180/%pi)*atan(e);//load angle in degrees\n",
"the=(180-phi)/p;\n",
"PHI=cos(atan(e));//power factor\n",
"inp=(3^0.5)*v*PHI*il;//power input in watts\n",
"t=inp/(2*%pi*(f/(p/2)));//torque in newton meter\n",
"\n",
"//output\n",
"mprintf('the total torque produced is %3.0f Nm',t)"
   ]
   }
,
{
		   "cell_type": "markdown",
		   "metadata": {},
		   "source": [
			"## Example 10.6: finding_the_slip_speed_and_the_slip.sce"
		   ]
		  },
  {
"cell_type": "code",
	   "execution_count": null,
	   "metadata": {
	    "collapsed": true
	   },
	   "outputs": [],
"source": [
"clc\n",
"clear\n",
"\n",
"//input\n",
"n=3;//number of phases\n",
"f=50;//frequency in hertz\n",
"w=96*(%pi);//angular velocity in rad/sec\n",
"\n",
"//calculations\n",
"ws=(2*%pi*f)-w;//slip speed in rad/sec\n",
"s=ws/(2*%pi*f);//slip in per units\n",
"\n",
"//output\n",
"mprintf('the slip speed is %3.2f rad/s and the slip is %3.2f p.u.',ws,s)"
   ]
   }
,
{
		   "cell_type": "markdown",
		   "metadata": {},
		   "source": [
			"## Example 10.7: finding_the_rotor_speed_and_the_frequency_of_rotor_components.sce"
		   ]
		  },
  {
"cell_type": "code",
	   "execution_count": null,
	   "metadata": {
	    "collapsed": true
	   },
	   "outputs": [],
"source": [
"clc\n",
"clear\n",
"\n",
"//input\n",
"p=6;//number of poles\n",
"n=3;//number of phases\n",
"f=50;//frequency in hertz\n",
"s=0.03;//slip in per units\n",
"\n",
"//calculations\n",
"w=(2*%pi*f*60)/(n*2*%pi);//synchronous speed in rev/min\n",
"ws=s*w;//slip speed in rev/min\n",
"wr=w-ws;//rotor speed in rev/min\n",
"fs=(ws*n)/60;//frequency of rotor currents in amperes\n",
"\n",
"//output\n",
"mprintf('the rotor speed will be %3.0f rev/min and the frequency of rotor currents will be%3.1f Hz',wr,fs)"
   ]
   }
,
{
		   "cell_type": "markdown",
		   "metadata": {},
		   "source": [
			"## Example 10.8: calculation_of_slip_rotor_copper_loss_total_torque_and_the_efficiency.sce"
		   ]
		  },
  {
"cell_type": "code",
	   "execution_count": null,
	   "metadata": {
	    "collapsed": true
	   },
	   "outputs": [],
"source": [
"clc\n",
"clear\n",
"\n",
"//input\n",
"p=4;//number of poles\n",
"f=50;//supply frequency in hertz\n",
"n=3;//number of phases\n",
"w=1440;//speed in rev/min\n",
"sl=1.5;//stator losses in kW\n",
"fl=1.2;//friction losses in kW\n",
"inp=60;//input to motor in kW\n",
"\n",
"//calculations\n",
"N=(inp*f)/(p/2);//synchronous speed in rev/min\n",
"ns=N-w;//slip speed in rev/min\n",
"s=ns/N;//slip in per units\n",
"rinp=inp-sl;//rotor input in kW\n",
"rc=s*rinp;//rotor copper losses in kW\n",
"tr=(rinp*1000)/((N*2*%pi)/60);//rotor torque in newton meter\n",
"rout=rinp-rc;//rotor output in kW\n",
"mout=rout-fl;//motor output in kW\n",
"eff=mout/inp;//efficiency of rotor in per unit\n",
"\n",
"//output\n",
"mprintf('the slip is %3.2f p.u.:the rotor copper loss is %3.2f kW: the total torque is %3.0f Nm and the efficiency is %3.3f p.u.',s,rc,tr,eff)"
   ]
   }
,
{
		   "cell_type": "markdown",
		   "metadata": {},
		   "source": [
			"## Example 10.9: calculation_of_rotor_copper_loss_and_the_input_and_efficiency_of_the_motor.sce"
		   ]
		  },
  {
"cell_type": "code",
	   "execution_count": null,
	   "metadata": {
	    "collapsed": true
	   },
	   "outputs": [],
"source": [
"clc\n",
"clear\n",
"\n",
"//input\n",
"p=6;//number of poles\n",
"f=50;//frequency in hertz\n",
"n=3;//number of phases\n",
"t=160;//total torque in newton meter\n",
"fs=120;//slip frequency in cycles/min\n",
"tf=12;//torque lost in friction\n",
"sl=750;//stator losses in watts\n",
"\n",
"//calculations\n",
"s=fs/(60*f);//slip in per unit\n",
"w=(2*%pi*f)/n;//speed of motor in rad/sec\n",
"wr=w*(1-s);//rotor speed in rad/sec\n",
"rinp=t*w;//rotor input in watts\n",
"rc=s*rinp;//rotor copper losses in watts\n",
"sinp=rinp+sl;//stator input in watts\n",
"Sinp=sinp/1000;//stator input in kilowatts\n",
"tout=t-tf;//output torque in newton meter\n",
"pout=tout*wr;//power output in watts\n",
"eff=pout/sinp;//efficiency in per unit\n",
"\n",
"//output\n",
"mprintf('the rotor loss is %3.0fW, the input to the motor is %3.2f kW and the motor efficiency is %3.2f p.u.',rc,Sinp,eff)"
   ]
   }
],
"metadata": {
		  "kernelspec": {
		   "display_name": "Scilab",
		   "language": "scilab",
		   "name": "scilab"
		  },
		  "language_info": {
		   "file_extension": ".sce",
		   "help_links": [
			{
			 "text": "MetaKernel Magics",
			 "url": "https://github.com/calysto/metakernel/blob/master/metakernel/magics/README.md"
			}
		   ],
		   "mimetype": "text/x-octave",
		   "name": "scilab",
		   "version": "0.7.1"
		  }
		 },
		 "nbformat": 4,
		 "nbformat_minor": 0
}
