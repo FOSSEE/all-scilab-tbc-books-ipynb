{
"cells": [
 {
		   "cell_type": "markdown",
	   "metadata": {},
	   "source": [
       "# Chapter 3: d c machines"
	   ]
	},
{
		   "cell_type": "markdown",
		   "metadata": {},
		   "source": [
			"## Example 3.10: finding_different_efficiencies.sce"
		   ]
		  },
  {
"cell_type": "code",
	   "execution_count": null,
	   "metadata": {
	    "collapsed": true
	   },
	   "outputs": [],
"source": [
"clc\n",
"clear\n",
"\n",
"//input\n",
"v=230;//voltage of a shunt generator in volts\n",
"ra=0.2;//armature resistance of the shunt generator in ohms\n",
"rf=115;//feild resistance of the shunt generator in ohms\n",
"n=0.85;//overall effeciency in per units\n",
"il=37;//load current in amperes\n",
"\n",
"//calculations\n",
"inp=(v*il)/n;//input in watts\n",
"inp1=inp/1000;//input power in kilo watts \n",
"fi=v/rf;//feild current in amperes\n",
"ai=il+fi;//armature current in amperes\n",
"e=v+(ai*ra);//generated e.m.f. in volts\n",
"ap=e*ai;//armature power in watts\n",
"ml=inp-ap;//mechanical losses in watts\n",
"nm=ap/inp;//mechanical effeciency in per units\n",
"Nm=nm*100;\n",
"ne=(v*il)/ap;//electrical effeciency in per units\n",
"Ne=ne*100;\n",
"\n",
"//output\n",
"mprintf('the input power will be %3.0f kW and the mechanical losses are %3.0f W \n the mechanical and electrical effeciecies are %3.1f per cent and %3.1f per cent',inp1,ml,Nm,Ne) "
   ]
   }
,
{
		   "cell_type": "markdown",
		   "metadata": {},
		   "source": [
			"## Example 3.11: finding_output_of_series_generator.sce"
		   ]
		  },
  {
"cell_type": "code",
	   "execution_count": null,
	   "metadata": {
	    "collapsed": true
	   },
	   "outputs": [],
"source": [
"clc\n",
"clear\n",
"\n",
"//input\n",
"ra=0.08;//armature resistance of a d.c. series generator in ohms\n",
"rf=0.1;//feild resistance of a d.c. series generator in ohms\n",
"il=50;//load current in amperes\n",
"e=250;//e.m.f. generated in volts\n",
"\n",
"//calculations\n",
"R=ra+rf;//total resistance of machine in ohms\n",
"pd=e-(il*R);//terminal p.d. in volts\n",
"p=pd*il;//power output in watts\n",
"P=p/1000;//power output in kilo watts\n",
"\n",
"//output\n",
"mprintf('the power output of the generator is %3.2f kW',P)"
   ]
   }
,
{
		   "cell_type": "markdown",
		   "metadata": {},
		   "source": [
			"## Example 3.12: finding_different_efficiencies_of_a_series_generator.sce"
		   ]
		  },
  {
"cell_type": "code",
	   "execution_count": null,
	   "metadata": {
	    "collapsed": true
	   },
	   "outputs": [],
"source": [
"clc\n",
"clear\n",
"\n",
"//input\n",
"v=240;//voltage of d.c. series generator in volts\n",
"ra=0.1;//armature resistancce of d.c. series generator in ohms\n",
"rf=0.15;//feild resistance of d.c. series generator in ohms\n",
"n=0.87;//overall effeciency in per units\n",
"lp=7200;//load power in watts\n",
"\n",
"//calculations\n",
"il=lp/v;//load current in amperes\n",
"R=ra+rf;//total resistance in ohms\n",
"e=v+(il*R);//generated e.m.f. in volts\n",
"ap=e*il;//armature power in watts\n",
"ne=(lp/ap);//electrical effeciency in per units\n",
"ne1=ne*100; \n",
"nm=(n/ne)*100;//mechanical effeciecy \n",
"\n",
"//output\n",
"mprintf('the electrical and mechanical effeciencies are %3.0f per cent and %3.1f per cent',ne1,nm)"
   ]
   }
,
{
		   "cell_type": "markdown",
		   "metadata": {},
		   "source": [
			"## Example 3.13: finding_velocity_of_shunt_motor.sce"
		   ]
		  },
  {
"cell_type": "code",
	   "execution_count": null,
	   "metadata": {
	    "collapsed": true
	   },
	   "outputs": [],
"source": [
"clc\n",
"clear\n",
"\n",
"//input\n",
"v=250;//voltage of shunt motor in volts\n",
"ra=0.2;//armature resistance of shunt motor in ohms\n",
"rf=250;//feild resistance of shunt motor in ohms\n",
"w=75;//velocity of shunt motor in rad/sec\n",
"i1=21;//current taken by the motor in amperes\n",
"i2=60;//changed current in amperes\n",
"\n",
"//calculations\n",
"fi=v/rf;//feild current in amperes\n",
"ai=i1-fi;//armature current in amperes\n",
"e1=v-(ai*ra);//induced e.m.f. in volts\n",
"e2=v-(i2*ra);//induced e.m.f. for changed current in volts\n",
"W=w*(e2/e1);//new speed in rad/sec\n",
"\n",
"//ouput\n",
"mprintf('with an armature current of 60A the motor speed will be %3.1f rad/s ',W) "
   ]
   }
,
{
		   "cell_type": "markdown",
		   "metadata": {},
		   "source": [
			"## Example 3.14: finding_total_torque_produced.sce"
		   ]
		  },
  {
"cell_type": "code",
	   "execution_count": null,
	   "metadata": {
	    "collapsed": true
	   },
	   "outputs": [],
"source": [
"clc\n",
"clear\n",
"\n",
"//input\n",
"v=240;//voltage of a d.c. shunt motor in volts\n",
"ra=0.4;//armature resistance of d.c. shunt motor in ohms\n",
"rf=120;//armature resistance of d.c. shunt motor in ohms\n",
"is=22;//supply current in amperes\n",
"w=600;//angular velocity of motor in rev/min\n",
"il=30;//load current in amperes\n",
"\n",
"//calculations\n",
"//armature reaction is neglected\n",
"W=(w*(2*%pi))/60;//angular velocity in rad/s\n",
"fi=v/rf;//feild current in amperes\n",
"ai=is-fi;//armature current in amperes\n",
"e=v-(ai*ra);//e.m.f. in volts\n",
"t1=(e*ai)/W;//torque when current is 20A in newton meter\n",
"aI=il-fi;//changed armature current in amperes\n",
"t2=t1*(aI/is);//torque when current is 30A in newton meter\n",
"\n",
"//output\n",
"mprintf('with a supply current of 30A the motor produces a total torque of %3.1f Nm',t2)"
   ]
   }
,
{
		   "cell_type": "markdown",
		   "metadata": {},
		   "source": [
			"## Example 3.15: finding_overall_efficiency_of_motor.sce"
		   ]
		  },
  {
"cell_type": "code",
	   "execution_count": null,
	   "metadata": {
	    "collapsed": true
	   },
	   "outputs": [],
"source": [
"clc\n",
"clear\n",
"\n",
"//input\n",
"v=250;//voltage of a d.c. shunt motor in volts\n",
"ra=0.4;//armature resistance of a d.c. shunt motor in ohms\n",
"rf=250;//field resistance of a d.c. shunt motor in ohms\n",
"t=80;//total torque in newton meter\n",
"w=75;//velocity in rad/s\n",
"ml=0.1;//mechanical losses in per units\n",
"\n",
"//calculations\n",
"ap=t*w;//armature power in watts\n",
"//(ia^2)-625ia+15000=0 will be the equation obtained from the e.m.f. equation\n",
"//(-ia+25)(ia-600)=0 is simplified equation\n",
"ai=25;//armature current in amperes as 600A armature current is inadmissable\n",
"fi=v/rf;//field current in amperes\n",
"inpI=ai+fi;//input current in amperes\n",
"inpP=v*inpI;//power input in watts\n",
"outP=0.9*t*w;//output power in watts and 0.9 is used after considering the 10% mechanical losses\n",
"n=outP/inpP;//overall effeciency in p.u.\n",
"\n",
"//output\n",
"mprintf('for the loading condition the overall efficiency is %3.3f p.u.',n )"
   ]
   }
,
{
		   "cell_type": "markdown",
		   "metadata": {},
		   "source": [
			"## Example 3.16: finding_speed_of_armature_of_dc_series_motor.sce"
		   ]
		  },
  {
"cell_type": "code",
	   "execution_count": null,
	   "metadata": {
	    "collapsed": true
	   },
	   "outputs": [],
"source": [
"clc\n",
"clear\n",
"\n",
"//input\n",
"v=240;//voltage of a d.c. series motor in volts\n",
"rm=0.2;//resistance of the motor in ohms\n",
"w=80;// velocity of motor in rad/s\n",
"i1=20;//current in amperes\n",
"i2=30;//changed current in the armature in amperes\n",
"\n",
"//calculations\n",
"//it is assumed that flux/pole is proportional to the field current\n",
"e1=v-(i1*rm);//e.m.f. induced in volts when the current is 20 A\n",
"e2=v-(i2*rm);//e.m.f. induced in volts when the current is 30 A\n",
"W=(e2/e1)*(i1/i2)*w;//final velocity in rad/s\n",
"\n",
"//output\n",
"mprintf('with the increased current the motor will run with a velocity of %3.2f rad/s',W)"
   ]
   }
,
{
		   "cell_type": "markdown",
		   "metadata": {},
		   "source": [
			"## Example 3.17: finding_required_current.sce"
		   ]
		  },
  {
"cell_type": "code",
	   "execution_count": null,
	   "metadata": {
	    "collapsed": true
	   },
	   "outputs": [],
"source": [
"clc\n",
"clear\n",
"\n",
"//input\n",
"//for a series motor\n",
"i1=40;//current in amperes\n",
"t1=110;//torque in newton meter\n",
"t2=75;//torque in newton meter\n",
"\n",
"//calculations\n",
"//it assumed that up to a current of 50A the magnetizing curve for the motor is linear\n",
"i2=((t2/t1)*(i1^2))^0.5;//required torque in newton meter\n",
"\n",
"//ouput\n",
"mprintf('the current to produce a total torque of 75Nm is %3.0f A',i2)"
   ]
   }
,
{
		   "cell_type": "markdown",
		   "metadata": {},
		   "source": [
			"## Example 3.18: finding_total_and_shaft_torque.sce"
		   ]
		  },
  {
"cell_type": "code",
	   "execution_count": null,
	   "metadata": {
	    "collapsed": true
	   },
	   "outputs": [],
"source": [
"clc\n",
"clear\n",
"\n",
"//input\n",
"n1=4;//number of poles in a aeries motor\n",
"v=240;//voltage of the series motor in volts\n",
"n2=348;//number of conductors in the armature which is wave connected\n",
"r=0.8;//resistance in ohms\n",
"i=45;//current taken by the motor in amperes\n",
"phi=0.028;//flux/pole in weber\n",
"outP=8200;//output power in watts\n",
"\n",
"//calculations\n",
"t=(phi*n2*2*i)/(2*%pi);//since wave winding 2 is taken and the torque in newton meter\n",
"e=v-(i*r);//e.m.f. induced in volts\n",
"ap=e*i;//armature power in watts\n",
"w=(ap/t);//angular velocity in rad/s\n",
"st=outP/w;//shaft torque in newton meter\n",
"\n",
"//output\n",
"mprintf('the total torque and the shaft torque produced by the motor are %3.0f Nm and %3.0f Nm',t,st)"
   ]
   }
,
{
		   "cell_type": "markdown",
		   "metadata": {},
		   "source": [
			"## Example 3.19: finding_speed_of_the_motor.sce"
		   ]
		  },
  {
"cell_type": "code",
	   "execution_count": null,
	   "metadata": {
	    "collapsed": true
	   },
	   "outputs": [],
"source": [
"clc\n",
"clear\n",
"\n",
"//input\n",
"v1=240;//voltage of a d.c. shunt motor in volts\n",
"ra=1;//armature current in ohms of a d.c. shunt motor\n",
"rf=240;//field current in ohms of a d.c. shunt motor\n",
"ifl=20;//full load current in amperes\n",
"w=200;//speed in rad/s\n",
"v2=200;//reduced voltage in volts\n",
"\n",
"//calculations\n",
"//flux/pole is assumed to be proportional to the field current\n",
"//for a 240V supply\n",
"E1=v1-(ifl*ra);//induced e.m.f. in volts\n",
"i=ifl*(v1/v2);//new current in amperes\n",
"E2=v2-(i*ra);//induced e.m.f. for new current in volts\n",
"W=w*(E2/E1)*(i/ifl);//new speed in rad/s\n",
"\n",
"//output\n",
"mprintf('with the reduced voltage the motor will run at %3.0f rad/s',W)"
   ]
   }
,
{
		   "cell_type": "markdown",
		   "metadata": {},
		   "source": [
			"## Example 3.1: determination_of_angular_speed.sce"
		   ]
		  },
  {
"cell_type": "code",
	   "execution_count": null,
	   "metadata": {
	    "collapsed": true
	   },
	   "outputs": [],
"source": [
"clc\n",
"clear\n",
"\n",
"//input\n",
"n1=420;//number of conductors in armature of a d.c. machine\n",
"phi=0.024;//flux produced by each pole in weber\n",
"e=250;//desired e.m.f in volts\n",
"n2=4;//number of poles of the d.c. machine\n",
"\n",
"//calculations\n",
"N=n1/2;//number of conductors per path and there are two parallel paths\n",
"//e1= e.m.f induced per conductor=(4*0.024*w)/(2*%pi) where w is the required angular velocity in rad/s\n",
"w=e/((n1*(48*10^-3))/(2*%pi));//required angular velocity in rad/s\n",
"\n",
"//output\n",
"mprintf('the armature of hte machine must have an angular velocity of %3.0f rad/s',w)"
   ]
   }
,
{
		   "cell_type": "markdown",
		   "metadata": {},
		   "source": [
			"## Example 3.20: finding_speed_of_the_motor.sce"
		   ]
		  },
  {
"cell_type": "code",
	   "execution_count": null,
	   "metadata": {
	    "collapsed": true
	   },
	   "outputs": [],
"source": [
"clc\n",
"clear\n",
"\n",
"//input\n",
"rm=0.5;//resistance of a series motor in ohms\n",
"w=100;//velocity in rad/sec\n",
"i=25;//current taken by the motor in amperes\n",
"v=250;//supply voltage in volts\n",
"r=2.5;//resistance connected in series with armature in ohms\n",
"\n",
"//calculations\n",
"//armature current remains constant\n",
"E1=v-(i*rm);//e.m.f. induced under normal conditions\n",
"R=r+rm;//total resistance of circuit in ohms\n",
"E2=v-(i*R);//new induced e.m.f. in volts\n",
"W=(E2/E1)*w;//new speed for the same current in rad/s\n",
"\n",
"//output\n",
"mprintf('with resistor in series with the armature the motor will run at %3.1f rad/s',W)"
   ]
   }
,
{
		   "cell_type": "markdown",
		   "metadata": {},
		   "source": [
			"## Example 3.21: finding_value_of_regulator_resistance.sce"
		   ]
		  },
  {
"cell_type": "code",
	   "execution_count": null,
	   "metadata": {
	    "collapsed": true
	   },
	   "outputs": [],
"source": [
"clc\n",
"clear\n",
"\n",
"//input\n",
"v=240;//voltage of a shunt motor in volts\n",
"ra=0.4;//armature resistance in ohms of the shunt motor\n",
"rf=160;//field resistance in ohms of the shunt motor\n",
"ia=30;//armature current in amperes\n",
"w=1250;//speed in rev/min\n",
"\n",
"//calculations\n",
"//it is assumed that flux is proportoinal to the field current\n",
"E1=v-(ia*ra);//induced e.m.f. in volts\n",
"fi=v/rf;//field current in amperes\n",
"k=E1/(fi*w);\n",
"//if=k*(v/r2) where r2 is the resistance to be added\n",
"//ia1=(3*r2)/16 and E2=v-(ra*ia1)\n",
"//(E2/E1)=((24-0.4ia1)/228) and (E2/E1)=(192/r2)\n",
"//we get an equation for r2 as (r2^2)-(3200*r2)+583680=0\n",
"r21=((3200+(((3200*3200)-(4*1*583680))^0.5))/2);//one of two solution for r2 in ohms \n",
"r22=((3200-(((3200*3200)-(4*1*583680))^0.5))/2);//one of two solution for r2 in ohms\n",
"R=r22-rf;//final resistance to be added in ohms and r22 is considered as the other value is too large and impractical\n",
"\n",
"//ouput\n",
"mprintf('resistance to be added is %3.0f ohms',R)"
   ]
   }
,
{
		   "cell_type": "markdown",
		   "metadata": {},
		   "source": [
			"## Example 3.22: calculation_of_speed_of_motor.sce"
		   ]
		  },
  {
"cell_type": "code",
	   "execution_count": null,
	   "metadata": {
	    "collapsed": true
	   },
	   "outputs": [],
"source": [
"clc\n",
"clear\n",
"\n",
"//input\n",
"v=250;//voltage of the series motor in volts\n",
"ra=0.25;//armature resistance of the series motor in ohms\n",
"rf=0.2;//field resistance of the series motor in ohms\n",
"i=60;//current taken by the motor in amperes\n",
"w=90;//speed of the motor in rad/s\n",
"r0=0.4;//resistance added in parallel with the field in ohms\n",
"\n",
"//calculations\n",
"//it is assumed that flux is proportoinal to the field current and load is constant\n",
"E1=v-(i*(rf+ra));//motor e.m.f. in volts\n",
"I=i/((r0/(r0+rf))^0.5);//current in amperes\n",
"E2=v-(I*ra)-((I*rf)*(r0/(r0+rf)));//new motor e.m.f. in volts\n",
"W=(E2/E1)*(i/I)*((r0+rf)/r0)*w;//increased speed of the motor in rad/s\n",
"\n",
"//output\n",
"mprintf('with resistor connected the speed of the motor will increase to %3.0f rad/s',W)"
   ]
   }
,
{
		   "cell_type": "markdown",
		   "metadata": {},
		   "source": [
			"## Example 3.2: finding_output_of_a_machine_in_different_cases.sce"
		   ]
		  },
  {
"cell_type": "code",
	   "execution_count": null,
	   "metadata": {
	    "collapsed": true
	   },
	   "outputs": [],
"source": [
"clc\n",
"clear\n",
"\n",
"//input\n",
"n1=200;//number of armature conductors\n",
"i=5;//current capability of each conductor in amperes\n",
"n2=4;//number of poles in the machine\n",
"e=1;//e.m.f. induced in each pole in volts\n",
"\n",
"//calculations\n",
"//for a wave winding\n",
"n3=2;//number of parallel paths\n",
"n4=n1/n3;//number of conductors per path\n",
"e1=e*n4;//e.m.f of the machine in volts\n",
"i1=n3*i;//current capacity in amperes\n",
"op1=i1*e1;//output of the machine in watts\n",
"//for a lap winding\n",
"n5=n2;//number of parallel paths=number of poles\n",
"n6=n1/n5;//number of conductors per path\n",
"e2=n6*e;//e.m.f. of the machine in volts\n",
"i2=n5*i;//current capacity in amperes \n",
"op2=i2*e2;//output of the machine in volts\n",
"\n",
"//output\n",
"mprintf('the output of the machine if armature is wave wound is %3.3f W and lap wound is %3.3f W',op1,op2)"
   ]
   }
,
{
		   "cell_type": "markdown",
		   "metadata": {},
		   "source": [
			"## Example 3.3: finding_induced_emf.sce"
		   ]
		  },
  {
"cell_type": "code",
	   "execution_count": null,
	   "metadata": {
	    "collapsed": true
	   },
	   "outputs": [],
"source": [
"clc\n",
"clear\n",
"\n",
"//input\n",
"n1=480;//number of conductors in the armature\n",
"n2=6;//number of poles in the machine\n",
"w=100;//angular velocity in rad/s\n",
"phi=0.03;// flux per pole in weber\n",
"\n",
"//calculations\n",
"phi1=n2*phi;//flux cut by each conductor in weber \n",
"e1=(phi1*w)/(2*%pi);//e.m.f. induced/conductor in volts\n",
"n3=n2;//number of parallel paths\n",
"n4=n1/n3;//number of conductors per path\n",
"e2=e1*n4;//e.m.f. per path in volts\n",
"\n",
"//output\n",
"mprintf('the e.m.f. induced in the armature is %3.0f V',e2)"
   ]
   }
,
{
		   "cell_type": "markdown",
		   "metadata": {},
		   "source": [
			"## Example 3.4: determination_of_torque_produced.sce"
		   ]
		  },
  {
"cell_type": "code",
	   "execution_count": null,
	   "metadata": {
	    "collapsed": true
	   },
	   "outputs": [],
"source": [
"clc\n",
"clear\n",
"\n",
"//input\n",
"n1=16;//number of coils under the influence of the poles at any instant\n",
"phi=0.03;//flux produced by each coil in weber\n",
"a1=(200*300*(10^-6));//area of a pole in square meter\n",
"n2=8;//number of turns in each coil\n",
"d=0.25;//diameter of the armature in meters\n",
"i=12;// current in the armature conductors in amperes \n",
"l=0.3;//length of the pole in meters\n",
"\n",
"//calculations\n",
"b=phi/a1;//flux density under poles in tesla\n",
"f1=b*i*l;//force acting on 1 conductor in newton\n",
"f2=n2*f1;//force per coil side in newton\n",
"t1=f2*(d/2);//toque per coil side in newton meter\n",
"t2=t1*2;//total torque per coil in newton meter\n",
"T=n1*t2;//total torque on armature in newton meter\n",
"\n",
"//output\n",
"mprintf('the total exerted on the armature is %3.1f Nm',T)"
   ]
   }
,
{
		   "cell_type": "markdown",
		   "metadata": {},
		   "source": [
			"## Example 3.5: finding_power_output_of_the_motor.sce"
		   ]
		  },
  {
"cell_type": "code",
	   "execution_count": null,
	   "metadata": {
	    "collapsed": true
	   },
	   "outputs": [],
"source": [
"clc\n",
"clear\n",
"\n",
"//input\n",
"d=0.25;//diameter of a pulley placed on the end of hte shaft of a d.c. motor in meter\n",
"m=60;//mass attached by a rope to the pulley in kg\n",
"w=50;//angular velocity of the pulley in rad/sec\n",
"\n",
"//calculations\n",
"f=m*9.81;//force acting on the pulley in newton meter\n",
"W=f*%pi*d;//work done in one revolution\n",
"v=(d/2)*w;\n",
"p=(f*v)/1000;//power in kilo watts \n",
"\n",
"//output\n",
"mprintf('yhe output of the motor is %3.2f kW',p)"
   ]
   }
,
{
		   "cell_type": "markdown",
		   "metadata": {},
		   "source": [
			"## Example 3.6: finding_required_torque.sce"
		   ]
		  },
  {
"cell_type": "code",
	   "execution_count": null,
	   "metadata": {
	    "collapsed": true
	   },
	   "outputs": [],
"source": [
"clc\n",
"clear\n",
"\n",
"//input\n",
"e=235;//e.m.f generated by an armature of a d.c. machine in volts\n",
"v=100;//velocity of armature of a d.c. machine in rad/s\n",
"i=16;//current in amperes\n",
"\n",
"//calculations\n",
"p=e*i;//power of armature in watts\n",
"t=p/v;//required torque in newton meter\n",
"\n",
"//output\n",
"mprintf('required torque is %3.1f Nm',t)"
   ]
   }
,
{
		   "cell_type": "markdown",
		   "metadata": {},
		   "source": [
			"## Example 3.7: finding_required_flux_per_pole.sce"
		   ]
		  },
  {
"cell_type": "code",
	   "execution_count": null,
	   "metadata": {
	    "collapsed": true
	   },
	   "outputs": [],
"source": [
"clc\n",
"clear\n",
"\n",
"//input\n",
"n1=4;//number of poles in a d.c. machine\n",
"n2=290;//number of conductors in the armature which are connected in lap winding\n",
"i=20;//armature current in amperes\n",
"t=50;//torque produced in newton meter\n",
"\n",
"//calculations\n",
"phi=((t*(2*%pi))/(n2*i))*1000;//required flux per pole in milliweber\n",
"\n",
"//output\n",
"mprintf('the required flux per pole is %3.1f mWb',phi)"
   ]
   }
,
{
		   "cell_type": "markdown",
		   "metadata": {},
		   "source": [
			"## Example 3.8: finding_terminal_voltage_of_a_shunt_generator.sce"
		   ]
		  },
  {
"cell_type": "code",
	   "execution_count": null,
	   "metadata": {
	    "collapsed": true
	   },
	   "outputs": [],
"source": [
"clc\n",
"clear\n",
"\n",
"//input\n",
"ra=0.05;//armature resistance of a d.c. shunt generator in ohms\n",
"rf=120;//feild resistance of a d.c. shunt generator in ohms\n",
"li=98;//load current in amperes\n",
"lv=240;//load voltage in volts\n",
"ia2=60;//reduced current in armature in amperes\n",
"\n",
"//calculations\n",
"//generated e.m.f. remains constant \n",
"if=lv/rf;//feild current in amperes\n",
"ia1=li+if;//armature current in amperes\n",
"e=lv+(ia1*ra);//generated e.m.f. in volts\n",
"V=e-(ia2*ra);//final terminal voltage in amperes\n",
"\n",
"//output\n",
"mprintf('for an armature of 60A the terminal p.d. will be %3.0f',V)    "
   ]
   }
,
{
		   "cell_type": "markdown",
		   "metadata": {},
		   "source": [
			"## Example 3.9: finding_power_developed_in_the_armature.sce"
		   ]
		  },
  {
"cell_type": "code",
	   "execution_count": null,
	   "metadata": {
	    "collapsed": true
	   },
	   "outputs": [],
"source": [
"clc\n",
"clear\n",
"\n",
"//input\n",
"ra=0.1;//armature resistance of a shunt generator in ohms\n",
"rf=250;//feild resistance of a shunt generator in ohms\n",
"p=7250;//load supplied by the shunt generator in watts\n",
"v=250;//voltage of shunt generator in volts\n",
"\n",
"//calculations\n",
"il=p/v;//load current in amperes\n",
"if=v/rf;//feild current in amperes\n",
"ia=il+if;//armature current in amperes\n",
"e=v+(ia*ra);//generated e.m.f. in volts\n",
"P=(e*ia)/1000;//armature power in kW\n",
"\n",
"//output\n",
"mprintf('the power developed in the armature will be %3.2f kW',P)    "
   ]
   }
],
"metadata": {
		  "kernelspec": {
		   "display_name": "Scilab",
		   "language": "scilab",
		   "name": "scilab"
		  },
		  "language_info": {
		   "file_extension": ".sce",
		   "help_links": [
			{
			 "text": "MetaKernel Magics",
			 "url": "https://github.com/calysto/metakernel/blob/master/metakernel/magics/README.md"
			}
		   ],
		   "mimetype": "text/x-octave",
		   "name": "scilab",
		   "version": "0.7.1"
		  }
		 },
		 "nbformat": 4,
		 "nbformat_minor": 0
}
