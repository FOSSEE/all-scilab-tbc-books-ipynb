{
"cells": [
 {
		   "cell_type": "markdown",
	   "metadata": {},
	   "source": [
       "# Chapter 6: operational methods"
	   ]
	},
{
		   "cell_type": "markdown",
		   "metadata": {},
		   "source": [
			"## Example 6.1: calculation_of_current_taken_from_the_supply_and_its_phase_angle.sce"
		   ]
		  },
  {
"cell_type": "code",
	   "execution_count": null,
	   "metadata": {
	    "collapsed": true
	   },
	   "outputs": [],
"source": [
"clc\n",
"clear\n",
"\n",
"//input\n",
"z=7.5+(%i*10);//impedance connected to a supply in ohms\n",
"r=7.5;//resistance from impedance in ohms\n",
"x=10;//reactance from impedance in ohms\n",
"v=200;//supply voltage in volts\n",
"\n",
"//calculations\n",
"i=v/z;//current taken from supply in amperes\n",
"I=(((real(i))^2)+((imag(i))^2))^0.5;//current magnitude in amperes\n",
"phi=(180/%pi)*atan(-x/r);//phase angle in degrees\n",
"PHI=-phi;//lag\n",
"\n",
"//output\n",
"mprintf('the supply current is %3.0f A lagging on the voltage by %3.0f',I,PHI)"
   ]
   }
,
{
		   "cell_type": "markdown",
		   "metadata": {},
		   "source": [
			"## Example 6.2: calculation_of_supply_current_and_voltages_and_phse_angle.sce"
		   ]
		  },
  {
"cell_type": "code",
	   "execution_count": null,
	   "metadata": {
	    "collapsed": true
	   },
	   "outputs": [],
"source": [
"clc\n",
"clear\n",
"\n",
"//input\n",
"z1=5+(%i*5);//impedance 1 in ohms\n",
"z2=10-(%i*15);//impedance 2 in ohms\n",
"//impedances 1 and 2 are in series\n",
"v=240;//supply voltage in volts\n",
"\n",
"//calculations\n",
"zt=z1+z2;//total impedance in ohms\n",
"i=v/zt;//current taken in amperes\n",
"v1=z1*i;//voltage 1 in volts\n",
"V1=(((real(v1))^2)+((imag(v1))^2))^0.5;//voltage magnitude in volts\n",
"phi1=(180/%pi)*atan((imag(v1))/(real(v1)));//phase angle 1 in degrees\n",
"v2=i*z2;//voltage 2 in volts\n",
"V2=(((real(v2))^2)+((imag(v2))^2))^0.5;//voltage magnitude in volts\n",
"phi2=(180/%pi)*atan(-(imag(v2))/(real(v2)));//phase angle 2 in degrees\n",
"I=(((real(i))^2)+((imag(i))^2))^0.5;//current magnitude in amperes\n",
"\n",
"//output\n",
"mprintf('the supply current is%3.1f A and the two voltages are %3.0f V and %3.0f V leading by %3.1f degrees and lagging by %3.1f degrees respectively',I,V1,V2,phi1,phi2)"
   ]
   }
,
{
		   "cell_type": "markdown",
		   "metadata": {},
		   "source": [
			"## Example 6.3: calculation_of_total_impedance_and_the_current.sce"
		   ]
		  },
  {
"cell_type": "code",
	   "execution_count": null,
	   "metadata": {
	    "collapsed": true
	   },
	   "outputs": [],
"source": [
"clc\n",
"clear\n",
"\n",
"//input\n",
"z1=12+(%pi*16);//impedance 1 in ohms\n",
"z2=10-(%i*10);//impedance 2 in ohms\n",
"//impedances 1 and 2 are in parallel\n",
"v=240;//supply voltage in volts\n",
"\n",
"//calculations\n",
"zt=(z1*z2)/(z1+z2);//total impedance in ohms\n",
"Z=(((real(zt))^2)+((imag(zt))^2))^0.5;//current magnitude in amperes\n",
"i=v/zt;//supply current in amperes\n",
"I=(((real(i))^2)+((imag(i))^2))^0.5;//current magnitude in amperes\n",
"\n",
"//output\n",
"mprintf('the magnitude of total impedance is %3.1f ohms and of the supply current is %3.1f A',Z,I)"
   ]
   }
,
{
		   "cell_type": "markdown",
		   "metadata": {},
		   "source": [
			"## Example 6.4: caculation_of_current_taken_by_a_combination.sce"
		   ]
		  },
  {
"cell_type": "code",
	   "execution_count": null,
	   "metadata": {
	    "collapsed": true
	   },
	   "outputs": [],
"source": [
"clc\n",
"clear\n",
"\n",
"//input\n",
"r1=10;//resistance of branch 1 in ohms\n",
"l1=0.08;//inductance of branch 1 in henry\n",
"r2=20;//resistance of branch 2 in ohms\n",
"c2=150*(10^-6);//capacitance of branch 2 in farad\n",
"//branch 1 and 2 are in parallel\n",
"v=240;//supply voltage in volts\n",
"f=50;//supply frequency in hertz\n",
"\n",
"//calculations\n",
"xl=2*%pi*f*l1;//reactance of branch 1 in ohms\n",
"z1=r1+(%i*xl);//impedance of branch 1 in ohms\n",
"y1=1/z1;//admittance of branch 1 in mho\n",
"x2=1/(2*%pi*f*c2);//reactane of branch 2 in ohms\n",
"z2=r2-(%i*x2);//impedance of branch 2\n",
"y2=1/z2;//admittance of branch 2 in mho\n",
"yt=y1+y2;//total admittance in mho\n",
"it=v*yt;//supply current in amperes\n",
"I=(((real(it))^2)+((imag(it))^2))^0.5;//current magnitude in amperes\n",
"\n",
"//output\n",
"mprintf('the current taken from the supply is %3.2f A',I)"
   ]
   }
,
{
		   "cell_type": "markdown",
		   "metadata": {},
		   "source": [
			"## Example 6.5: calculation_of_current_and_phase_angle.sce"
		   ]
		  },
  {
"cell_type": "code",
	   "execution_count": null,
	   "metadata": {
	    "collapsed": true
	   },
	   "outputs": [],
"source": [
"clc\n",
"clear\n",
"\n",
"//input\n",
"r=20;//resistance of an inductor in ohms\n",
"x=15;//reactance of an inductor in ohms\n",
"v=250;//supply voltage in volts\n",
"\n",
"//calculations\n",
"z=((r^2)+(x^2))^0.5;//magnitude of impedance in ohms\n",
"phi=(180/%pi)*atan(x/r);//phase angle in degrees\n",
"i=v/z;//current magnitude in amperes\n",
"\n",
"//output\n",
"mprintf('the current will be %3.0f A lagging by %3.0f degrees',i,phi)"
   ]
   }
,
{
		   "cell_type": "markdown",
		   "metadata": {},
		   "source": [
			"## Example 6.6: finding_magnitude_and_phase_angle_of_the_voltage.sce"
		   ]
		  },
  {
"cell_type": "code",
	   "execution_count": null,
	   "metadata": {
	    "collapsed": true
	   },
	   "outputs": [],
"source": [
"clc\n",
"clear\n",
"\n",
"//input\n",
"i=8-(%i*6);//current flowing in amperes\n",
"z=10+(%i*10);//impedance in ohms\n",
"\n",
"//calculations\n",
"I=(((real(i))^2)+((imag(i))^2))^0.5;//current magnitude in amperes\n",
"Z=(((real(z))^2)+((imag(z))^2))^0.5;//magnitude of impedance in ohms\n",
"phi1=(180/%pi)*atan(-(imag(i))/(real(i)));//phase angle of current in degrees\n",
"phi2=(180/%pi)*atan(-(imag(z))/(real(z)));//phase angle of impedance in degrees\n",
"phi=-(phi2+phi1);\n",
"v=I*Z;//voltage across coil in volts\n",
"\n",
"//output\n",
"mprintf('the voltage across the coil is %3.0f V leading by %3.0f degrees',v,phi)"
   ]
   }
,
{
		   "cell_type": "markdown",
		   "metadata": {},
		   "source": [
			"## Example 6.7: calculating_the_components_of_equivalent_series_circuit.sce"
		   ]
		  },
  {
"cell_type": "code",
	   "execution_count": null,
	   "metadata": {
	    "collapsed": true
	   },
	   "outputs": [],
"source": [
"clc\n",
"clear\n",
"\n",
"//input\n",
"z1=10+(%i*15);//first impedance in ohms\n",
"z2=15-(%i*25);//second impeddance in ohms\n",
"//impedances 1 and 2 are connected in parallel\n",
"\n",
"//calculations\n",
"Z1=(((real(z1)^2)+(imag(z1)^2)))^0.5;//magnitude of impedance 1 in ohms\n",
"Z2=(((real(z2)^2)+(imag(z2)^2)))^0.5;//magnitude of impedance 2 in ohms\n",
"phi1=(180/%pi)*atan((imag(z1))/real(z1));//phase angle 1 in degrees\n",
"phi2=(180/%pi)*atan((imag(z2))/real(z2));//phase angle 1 in degrees\n",
"Z=z1+z2;//total impedance in ohms\n",
"Zt=(((real(Z)^2)+(imag(Z)^2)))^0.5;//magnitude of total impedance in ohms\n",
"PHIt=(180/%pi)*atan((imag(Z))/real(Z));//total phase angle in degrees\n",
"ZT=(Z1*Z2)/Zt;//magnitude of equivalent impedance in ohms\n",
"PHIT=phi1+phi2-PHIt;//phase angle of equivalent impedance in degrees\n",
"p=(PHIT*%pi)/180;// phase angle in radians\n",
"Zs=(ZT*cos(p))+(%i*(ZT*sin(p)));//series impedance in ohms\n",
"R=real(Zs);//resistance of equivalent series circuit in ohms\n",
"X=imag(Zs);//reactance  of equivalent series circuit in ohms\n",
"\n",
"//output\n",
"mprintf('the resistance and inductive reactance of equivalent series circuit are %3.1f ohm and %3.2f ohm',R,X)"
   ]
   }
,
{
		   "cell_type": "markdown",
		   "metadata": {},
		   "source": [
			"## Example 6.8: finding_the_magnitude_and_phase_angle_of_current.sce"
		   ]
		  },
  {
"cell_type": "code",
	   "execution_count": null,
	   "metadata": {
	    "collapsed": true
	   },
	   "outputs": [],
"source": [
"clc\n",
"clear\n",
"\n",
"//input\n",
"y1=0.01-(%i*0.03);//first admittance in mho\n",
"y2=0.05+(%i*0);//second admittance in mho\n",
"y3=%i*0.05;//third admittance in mho\n",
"//three admittances are connected in parallel\n",
"v=250;//supply voltage in volts\n",
"\n",
"//calculations\n",
"y=y1+y2+y3;//total admittance in mho\n",
"Y=(((real(y)^2)+(imag(y)^2)))^0.5;//magnitude of total admittance in mho\n",
"phi=(180/%pi)*atan((imag(y))/(real(y)));//phase angle in degrees\n",
"i=v*Y;//current in amperes\n",
"\n",
"//output\n",
"mprintf('the total current is %3.1f A leading on the voltage by %3.1f degrees',i,phi)"
   ]
   }
],
"metadata": {
		  "kernelspec": {
		   "display_name": "Scilab",
		   "language": "scilab",
		   "name": "scilab"
		  },
		  "language_info": {
		   "file_extension": ".sce",
		   "help_links": [
			{
			 "text": "MetaKernel Magics",
			 "url": "https://github.com/calysto/metakernel/blob/master/metakernel/magics/README.md"
			}
		   ],
		   "mimetype": "text/x-octave",
		   "name": "scilab",
		   "version": "0.7.1"
		  }
		 },
		 "nbformat": 4,
		 "nbformat_minor": 0
}
