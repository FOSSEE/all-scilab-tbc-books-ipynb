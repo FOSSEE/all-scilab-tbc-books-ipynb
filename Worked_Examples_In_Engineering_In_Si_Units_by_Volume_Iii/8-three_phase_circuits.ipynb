{
"cells": [
 {
		   "cell_type": "markdown",
	   "metadata": {},
	   "source": [
       "# Chapter 8: three phase circuits"
	   ]
	},
{
		   "cell_type": "markdown",
		   "metadata": {},
		   "source": [
			"## Example 8.10: detrmining_the_wattmeter_readings_for_given_conditions.sce"
		   ]
		  },
  {
"cell_type": "code",
	   "execution_count": null,
	   "metadata": {
	    "collapsed": true
	   },
	   "outputs": [],
"source": [
"clc\n",
"clear\n",
"\n",
"//input\n",
"v=415;// three phase supply voltage in volts\n",
"f=50;//supply frequency in hertz\n",
"//the power taken from this supply is taken by a delta connected load with each branch consisting a resistor and an inductance is measured by two wattmeters\n",
"r=20;//resistance in ohms\n",
"l=0.06;//inductance in henry\n",
"\n",
"//calculations\n",
"xp=2*%pi*f*l;//reactance per phase in ohms\n",
"zp=((r^2)+(xp^2))^0.5;//impedance per phase in ohms\n",
"ip=v/zp;//current per phase in amperes\n",
"il=ip*(3^0.5);//line current in amperes\n",
"phi=acos(r/zp);//phase angle in radians\n",
"phi1=(30*%pi)/180;//30degrees converted into radians\n",
"w1=(v*il*cos(phi+phi1))/1000;//reading of wattmeter 1 and 30 degrees is added with correspondence to phasor diagram in kilowatts\n",
"w2=(v*il*cos(phi-phi1))/1000;//reading of wattmeter 2 and 30 degrees is added with correspondence to phasor diagram in kilowatts\n",
"\n",
"mprintf('the readings on the two wattmeters will be %3.3f kW and %3.2f kW',w1,w2)"
   ]
   }
,
{
		   "cell_type": "markdown",
		   "metadata": {},
		   "source": [
			"## Example 8.1: finding_the_phase_voltage_and_line_current.sce"
		   ]
		  },
  {
"cell_type": "code",
	   "execution_count": null,
	   "metadata": {
	    "collapsed": true
	   },
	   "outputs": [],
"source": [
"clc\n",
"clear\n",
"\n",
"//input\n",
"r=24;//resistance of each of three resistors connected in star in ohms\n",
"v=415;//3 phase supply in volts\n",
"\n",
"//calculations\n",
"vp=v/(3^0.5);//phase voltage in volts\n",
"ip=vp/r;//phase current in amperes\n",
"il=ip;//for star connection\n",
"\n",
"//output\n",
"mprintf('the phase voltage is %3.0f V and the current in each line is %3.0f A',vp,il)"
   ]
   }
,
{
		   "cell_type": "markdown",
		   "metadata": {},
		   "source": [
			"## Example 8.2: finding_the_line_current_and_the_phase_angle.sce"
		   ]
		  },
  {
"cell_type": "code",
	   "execution_count": null,
	   "metadata": {
	    "collapsed": true
	   },
	   "outputs": [],
"source": [
"clc\n",
"clear\n",
"\n",
"//input\n",
"r=15;//resistance of each of three coils connected in star in ohms\n",
"l=0.08;//inductance of each of three coils connected in star in in henry\n",
"v=415;//supply voltage in volts\n",
"f=50;//supply frequency in hertz\n",
"\n",
"//calculations\n",
"zp=((r^2)+((2*%pi*f*l)^2))^0.5;//impedance per phase in ohms\n",
"il=v/(zp*(3^0.5));//line current in amperes\n",
"ip=il;//for star connection\n",
"phi=(180/%pi)*acos(r/zp);//phase angle in degrees\n",
"\n",
"//output\n",
"mprintf('the line current will be %3.1f A lagging on its corresponding phase voltage by %3.0f degrees',il,phi)"
   ]
   }
,
{
		   "cell_type": "markdown",
		   "metadata": {},
		   "source": [
			"## Example 8.3: calculation_of_total_line_current_and_total_phase_angle.sce"
		   ]
		  },
  {
"cell_type": "code",
	   "execution_count": null,
	   "metadata": {
	    "collapsed": true
	   },
	   "outputs": [],
"source": [
"clc\n",
"clear\n",
"\n",
"//input\n",
"v=415;//3 phase supply voltage in volts\n",
"f=50;//supply frequency in hertz\n",
"//system is loaded with three star connected coils and three star connected resistors\n",
"ic=10;//current taken by each of the coils in amperes lagging by 60 degrees\n",
"ir=8;//current taken by each of the resistors in amperes\n",
"phi=(60*%pi)/180;//lagging phase angle in radians\n",
"\n",
"//calculations\n",
"ii=ir+(ic*cos(phi));//sum of in phase components in amperes\n",
"iq=(ic*sin(phi));//sum of quadrature components in amperes\n",
"i=((ii^2)+(iq^2))^0.5;//total current in amperes\n",
"PHI=(180/%pi)*acos(ii/i);//phase angle in degrees\n",
"\n",
"//ouput\n",
"mprintf('the total  line current is %3.1f A lagging on the relative phase voltage by %3.1f degrees',i,PHI)"
   ]
   }
,
{
		   "cell_type": "markdown",
		   "metadata": {},
		   "source": [
			"## Example 8.4: illustration_for_neutral_current_is_zero.sce"
		   ]
		  },
  {
"cell_type": "code",
	   "execution_count": null,
	   "metadata": {
	    "collapsed": true
	   },
	   "outputs": [],
"source": [
"clc\n",
"clear\n",
"\n",
"//input\n",
"//three impedances of resistance and inductive reactance are connected in star\n",
"r=20;//resistance in ohms\n",
"x=15;//reactance in ohms\n",
"v=440;//three phase supply voltage in volts\n",
"\n",
"//calculations\n",
"z=((r^2)+(x^2))^0.5;//each impedance in ohms\n",
"il=v/((3^0.5)*z);//line current in amperes\n",
"ip=il;//for star connections\n",
"cosp1=(180/%pi)*acos(r/z);//power factor1 in degrees\n",
"cosp2=120+cosp1;//each current is displaced by 120 degrees\n",
"cosp3=240+cosp1;//each current is displaced by 120 degrees\n",
"ii=il*((cos(acos(r/z)))+cos((120+cosp1)*(%pi/180))+cos((240+cosp1)*(%pi/180)));//total in phase component in amperes\n",
"iq=il*-((sin(acos(r/z)))+sin((120+cosp1)*(%pi/180))+sin((240+cosp1)*(%pi/180)));//total quadrature component in amperes\n",
"\n",
"//output\n",
"mprintf('the the resultant in phase and quadrature components are %3.5fA and %3.5fA respectively\nhence the sum of three balanced currents is zero',ii,iq)"
   ]
   }
,
{
		   "cell_type": "markdown",
		   "metadata": {},
		   "source": [
			"## Example 8.5: calculation_of_phase_and_line_currents.sce"
		   ]
		  },
  {
"cell_type": "code",
	   "execution_count": null,
	   "metadata": {
	    "collapsed": true
	   },
	   "outputs": [],
"source": [
"clc\n",
"clear\n",
"\n",
"//input\n",
"//three resistors are connected in delta\n",
"r=30;//resistance of each resistor in ohms\n",
"v=240;//supply voltage in volts\n",
"f=50;//supply frequency in hertz\n",
"\n",
"//calculations\n",
"ip=v/r;//phase current in amperes\n",
"il=ip*(3^0.5);//line current in amperes\n",
"\n",
"//output\n",
"mprintf('the phase and line currents are %3.0f A and %3.1f A respectively',ip,il)"
   ]
   }
,
{
		   "cell_type": "markdown",
		   "metadata": {},
		   "source": [
			"## Example 8.6: calculation_of_line_current_and_phase_angle.sce"
		   ]
		  },
  {
"cell_type": "code",
	   "execution_count": null,
	   "metadata": {
	    "collapsed": true
	   },
	   "outputs": [],
"source": [
"clc\n",
"clear\n",
"\n",
"//input\n",
"//three impedances are connected in delta each containing a resistor and a capacitor\n",
"r=15;//resistance in ohms\n",
"c=100*(10^-6);//capacitance in farad\n",
"v=415;//3phase supply voltage in volts\n",
"f=50;//frequency in hertz\n",
"\n",
"//calculations\n",
"xc=1/(2*%pi*f*c);//capacitive reactance in ohms\n",
"zp=((r^2)+(xc^2))^0.5;//impedance per phase in ohms\n",
"ip=v/zp;//phase current in amperes\n",
"il=ip*(3^0.5);//line current in amperes\n",
"phi=(180/%pi)*acos(r/zp);//leading phase angle in degrees\n",
"\n",
"//output\n",
"mprintf('the line current is %3.1f A and the phase angle is %3.1f lead',il,phi)"
   ]
   }
,
{
		   "cell_type": "markdown",
		   "metadata": {},
		   "source": [
			"## Example 8.7: determination_of_line_currents_and_phase_angle_in_two_cases.sce"
		   ]
		  },
  {
"cell_type": "code",
	   "execution_count": null,
	   "metadata": {
	    "collapsed": true
	   },
	   "outputs": [],
"source": [
"clc\n",
"clear\n",
"\n",
"//input\n",
"//three impedances are connected in delta each containing a resistor and an inductor\n",
"r=25;//resistance in ohms\n",
"l=0.06;//inductance in henry\n",
"v=415;//3 phase supply voltage in volts\n",
"f=50;//supply frequency in hertz\n",
"//three capacitors are connected across the same supply in star\n",
"c=200*(10^-6);//the capacitance in farad\n",
"\n",
"//calculations\n",
"//for delta connection\n",
"xl=2*%pi*f*l;//inductive reactance in ohms\n",
"zp=((r^2)+(xl^2))^0.5;//impedance per phase in ohms\n",
"ip=v/zp;//phase current in amperes\n",
"il=ip*(3^0.5);//line current in amperes\n",
"//il lags on ip by 30degrees.so the angle between the line current and ilne voltage is 30+phase angle in degrees\n",
"phi=30+((180/%pi)*acos(r/zp));//phase angle in degrees\n",
"cosp=(r/zp);//phase angle in radians\n",
"//for star connection\n",
"vp=v/(3^0.5);//phase voltage in volts\n",
"xc=1/(2*%pi*f*c);//capacitive reactance in ohms\n",
"ic=vp/xc;//current in amperes\n",
"//ic leads the line voltage by 60degrees\n",
"cosP=cos((60*%pi)/180);//phase angle in radians\n",
"ii=(il*cos((phi*%pi)/180))+(ic*(cosP));//in-phase components in amperes\n",
"iq=((-il*sin((phi*%pi)/180))+(ic*sin(acos(cosP))));//quadrature component in amperes\n",
"it=((ii^2)+(iq^2))^0.5;//total current in amperes\n",
"PHI=(180/%pi)*acos(ii/it);//phase angle in degrees\n",
"\n",
"//output\n",
"mprintf('the original line current was %3.0f A lagging on the line voltage by %3.0f degrees and the final current is %3.1f A lagging on the line voltage by %3.1f degrees',il,phi,it,PHI)"
   ]
   }
,
{
		   "cell_type": "markdown",
		   "metadata": {},
		   "source": [
			"## Example 8.8: determination_of_line_and_motor_phase_currents.sce"
		   ]
		  },
  {
"cell_type": "code",
	   "execution_count": null,
	   "metadata": {
	    "collapsed": true
	   },
	   "outputs": [],
"source": [
"clc\n",
"clear\n",
"\n",
"//input\n",
"p=50;//power rating of a delta connected 3 phase a.c. motor in kW\n",
"v=415;//voltage rating of a delta connected 3 phase a.c. motor in volts\n",
"n=0.85;//full load effeciency in per units\n",
"pf=0.87;//full load power factor\n",
"\n",
"//calculations\n",
"inp=p/n;//full load input in kW\n",
"il=inp*(1000/((3^0.5)*v*pf));//line current in amperes\n",
"ip=il/(3^0.5);//phase current in amperes\n",
"\n",
"//output\n",
"mprintf('the line and motor phase currents are %3.0fA and %3.1fA respectively',il,ip)"
   ]
   }
,
{
		   "cell_type": "markdown",
		   "metadata": {},
		   "source": [
			"## Example 8.9: calculation_of_capacitance_per_phase.sce"
		   ]
		  },
  {
"cell_type": "code",
	   "execution_count": null,
	   "metadata": {
	    "collapsed": true
	   },
	   "outputs": [],
"source": [
"clc\n",
"clear\n",
"\n",
"//input\n",
"p=27;//power rating of a delta connected 3 phase a.c. motor in kW\n",
"v=500;//voltage rating of a delta connected 3 phase a.c. motor in volts\n",
"n=0.9;//full load effeciency in per units\n",
"pf=0.7;//full load power factor\n",
"f=50;//general supply frequency in hertz\n",
"\n",
"//calculations\n",
"il=(1000*p)/((3^0.5)*v*pf*n);//line current taken by motor in amperes\n",
"phi=acos(pf);//phase angle\n",
"//the line current will lag by phi radians on the line voltage\n",
"//to bring total current in phase with line voltage ic*sin60 must equal ilsin75.(information from phasor diagram)\n",
"ic=(il*sin(phi+0.524))/sin((60*%pi)/180);//capacitor current in amperes and  0.524 is 30degrees converted into radians and added in respect to above mentioned condition \n",
"c=(ic*1000000)/((3^0.5)*v*f*2*%pi);//capacitance per phase in micro farad\n",
"\n",
"//output\n",
"mprintf('the required capacitance per phase is %3.0fuF',c)"
   ]
   }
],
"metadata": {
		  "kernelspec": {
		   "display_name": "Scilab",
		   "language": "scilab",
		   "name": "scilab"
		  },
		  "language_info": {
		   "file_extension": ".sce",
		   "help_links": [
			{
			 "text": "MetaKernel Magics",
			 "url": "https://github.com/calysto/metakernel/blob/master/metakernel/magics/README.md"
			}
		   ],
		   "mimetype": "text/x-octave",
		   "name": "scilab",
		   "version": "0.7.1"
		  }
		 },
		 "nbformat": 4,
		 "nbformat_minor": 0
}
