{
"cells": [
 {
		   "cell_type": "markdown",
	   "metadata": {},
	   "source": [
       "# Chapter 2: Operational amplifier characteristic"
	   ]
	},
{
		   "cell_type": "markdown",
		   "metadata": {},
		   "source": [
			"## Example 2.1: value_of_R1.sce"
		   ]
		  },
  {
"cell_type": "code",
	   "execution_count": null,
	   "metadata": {
	    "collapsed": true
	   },
	   "outputs": [],
"source": [
"//chpter 2\n",
"// example 2.1\n",
"//page 63, figure 2.16\n",
"//design the value of R1 if output voltage level required is zero volts.\n",
"// given\n",
"Vout=0\n",
"Vin=6.84\n",
"Vbe=0.7\n",
"R2=270\n",
"//Vin-Vbe-I(R1+R2)=0 applying KVL to base emitter\n",
"I=(Vin-Vbe)/(R1+R2)\n",
"Vout=I*R2;\n",
"R1=1657.8-270;  // 0=(6.84-.7)270/(270+R1)\n",
"disp(R1) // results"
   ]
   }
,
{
		   "cell_type": "markdown",
		   "metadata": {},
		   "source": [
			"## Example 2.2: input_bais_current_and_input_offset_current.sce"
		   ]
		  },
  {
"cell_type": "code",
	   "execution_count": null,
	   "metadata": {
	    "collapsed": true
	   },
	   "outputs": [],
"source": [
"//chapter 2\n",
"//example 2.2 \n",
"//page 70\n",
"Ib1=18*10^-6 ;Ib2=22*10^-6;// given\n",
"Ib=(Ib1+Ib2)/2 //input base current\n",
"disp(Ib) //result\n",
"Iios=(Ib2-Ib1) // input offset current\n",
"disp(Iios)// result"
   ]
   }
,
{
		   "cell_type": "markdown",
		   "metadata": {},
		   "source": [
			"## Example 2.3: Compensating_network.sce"
		   ]
		  },
  {
"cell_type": "code",
	   "execution_count": null,
	   "metadata": {
	    "collapsed": true
	   },
	   "outputs": [],
"source": [
"//chapter 2\n",
"//example 2.3 page 76\n",
"//figure 2.36\n",
"Vios=8*10^-3;V=12;Vcc=12;Vee=12;//given\n",
"Rc=10;//let choose Rc less than 100 ohm\n",
"Rb=(V*Rc)/Vios //Vios=(Rc/Rb)*V\n",
"Rmax=Rb/10// let choose\n",
"Ra=Rmax*4;\n",
"disp(Ra)//thus resistance Ra is potentiometer which can be adjusted till output reaches zero value\n",
""
   ]
   }
,
{
		   "cell_type": "markdown",
		   "metadata": {},
		   "source": [
			"## Example 2.4: Total_output_offset_and_compensating_resistance.sce"
		   ]
		  },
  {
"cell_type": "code",
	   "execution_count": null,
	   "metadata": {
	    "collapsed": true
	   },
	   "outputs": [],
"source": [
"//chapter 2\n",
"//example 2.4 page 79\n",
"//figure 2.40\n",
"Vios=12*10^-3; Rf=100*10^3;R1=10*10^3; Ib=500*10^-9;Iios=90*10^-9;//given\n",
"R3=Rf/R1;R4=R3+1;\n",
"Voos=Vios*R4+Rf*Ib;\n",
"disp(Voos)\n",
"Rcomp=R1*Rf/(R1+Rf);//Rcomp=R1||Rf\n",
"disp(Rcomp)\n",
"Voos2=Vios*R4+Rf*Iios;//with Rcomp,the output offset voltage become\n",
"disp(Voos2)"
   ]
   }
,
{
		   "cell_type": "markdown",
		   "metadata": {},
		   "source": [
			"## Example 2.5: change_in_output_voltage.sce"
		   ]
		  },
  {
"cell_type": "code",
	   "execution_count": null,
	   "metadata": {
	    "collapsed": true
	   },
	   "outputs": [],
"source": [
"//chapter 2\n",
"//example 2.5 page 83\n",
"T=55-25;//chnage in temperature\n",
"A=150;//gain\n",
"Vios=.15*10^-3;//input offset voltage shift=chnage in output voltage/change in temp\n",
"Voos=Vios*T;//Vios=Voos/T\n",
"disp(Voos)\n",
"Vout=A*Voos;\n",
"disp(Vout)\n",
""
   ]
   }
,
{
		   "cell_type": "markdown",
		   "metadata": {},
		   "source": [
			"## Example 2.6: error_voltage_and_output_voltage.sce"
		   ]
		  },
  {
"cell_type": "code",
	   "execution_count": null,
	   "metadata": {
	    "collapsed": true
	   },
	   "outputs": [],
"source": [
"//chapter 2\n",
"//example 2.6 page83\n",
"Rf=100*10^3;R1=1*10^3//given\n",
"Viovd=14*10^-6;//input offset voltage drift\n",
"Iiocd=.5*10^-9;//input offset current drift\n",
"Vin=7*10^-3;\n",
"T=45-25;//change in tempreture\n",
"R2=Rf/R1;R3=R2+1;\n",
"Ev=R3*Viovd*T+Rf*Iiocd*T;//error voltage\n",
"disp(Ev)\n",
"A=-Rf/R1;//gain\n",
"Vout=A*Vin+Ev\n",
"Vout=A*Vin-Ev"
   ]
   }
],
"metadata": {
		  "kernelspec": {
		   "display_name": "Scilab",
		   "language": "scilab",
		   "name": "scilab"
		  },
		  "language_info": {
		   "file_extension": ".sce",
		   "help_links": [
			{
			 "text": "MetaKernel Magics",
			 "url": "https://github.com/calysto/metakernel/blob/master/metakernel/magics/README.md"
			}
		   ],
		   "mimetype": "text/x-octave",
		   "name": "scilab",
		   "version": "0.7.1"
		  }
		 },
		 "nbformat": 4,
		 "nbformat_minor": 0
}
