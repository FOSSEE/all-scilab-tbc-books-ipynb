{
"cells": [
 {
		   "cell_type": "markdown",
	   "metadata": {},
	   "source": [
       "# Chapter 8: Timer IC and Application"
	   ]
	},
{
		   "cell_type": "markdown",
		   "metadata": {},
		   "source": [
			"## Example 8.1: output_pulse_width.sce"
		   ]
		  },
  {
"cell_type": "code",
	   "execution_count": null,
	   "metadata": {
	    "collapsed": true
	   },
	   "outputs": [],
"source": [
"// chapter 8\n",
"//example 8.1\n",
"//page 293\n",
"R=10*10^3;C=.1*10^-6;// given \n",
"t=1.1*R*C;//output pulse width\n",
"disp(t)//pulse widht in sec"
   ]
   }
,
{
		   "cell_type": "markdown",
		   "metadata": {},
		   "source": [
			"## Example 8.2: output_frequency_and_duty_cycle.sce"
		   ]
		  },
  {
"cell_type": "code",
	   "execution_count": null,
	   "metadata": {
	    "collapsed": true
	   },
	   "outputs": [],
"source": [
"//chapter 8\n",
"//example 8.2\n",
"//page 298\n",
"R1=4*10^3;R2=4*10^3;// given for 555 timer\n",
"C=.01*10^-6;//for 555 timer\n",
"f=1.44/((R1+2*R2)*C);\n",
"disp(f)//frequency of output in Hz\n",
"D=(R1+R2)/(R1+2*R2);\n",
"disp(D)//duty cycle\n",
"percentage=D*100"
   ]
   }
,
{
		   "cell_type": "markdown",
		   "metadata": {},
		   "source": [
			"## Example 8.3: timer.sce"
		   ]
		  },
  {
"cell_type": "code",
	   "execution_count": null,
	   "metadata": {
	    "collapsed": true
	   },
	   "outputs": [],
"source": [
"//chapter8\n",
"//example 8.3\n",
"//page300\n",
"Ton=5;//given\n",
"C=10*10^-6;//let assume\n",
"R=Ton/(1.1*C);//using Ton=1.1RC\n",
"disp(R)//this not standard value but we can adjust by connecting variable resistance"
   ]
   }
,
{
		   "cell_type": "markdown",
		   "metadata": {},
		   "source": [
			"## Example 8.4: design_an_astable_multivibrator.sce"
		   ]
		  },
  {
"cell_type": "code",
	   "execution_count": null,
	   "metadata": {
	    "collapsed": true
	   },
	   "outputs": [],
"source": [
"//chapter 8\n",
"//example 8.4\n",
"//page 301\n",
"Toff=1;Ton=3;//given\n",
"C=10*10^-6;//choosing \n",
"R2=Toff/(.693*C);//using eq Toff=.693RC\n",
"disp(R2)//resistance\n",
"//Ton=.693(R1+R2)C\n",
"R1=(Ton/(.693*C))-R2;\n",
"disp(R1)//required resistance"
   ]
   }
,
{
		   "cell_type": "markdown",
		   "metadata": {},
		   "source": [
			"## Example 8.5: circuit_desig.sce"
		   ]
		  },
  {
"cell_type": "code",
	   "execution_count": null,
	   "metadata": {
	    "collapsed": true
	   },
	   "outputs": [],
"source": [
"//chapter8\n",
"//example8.5\n",
"//page301\n",
"T=10*10^-3;//for proper operation of LED which remain ON for 10msec\n",
"C=.22*10^-6//choose\n",
"Vcc=15;Vbe=.7;Vcesat=.2;//given\n",
"Vled=1.4;Iled=20*10^-3;\n",
"//T=1.1RC\n",
"R=T/(1.1*C);\n",
"disp(R)\n",
"Vo=Vcc-2*Vbe-Vcesat;//output of timer\n",
"disp(Vo)\n",
"Rled=(Vo-Vled)/Iled;\n",
"disp(Rled)//this resistance must be in series whit LED\n",
"f=1000;D=95;//for an astable timer\n",
"C1=.01*10^-6;\n",
"R1=%s;R2=%s;\n",
"f=1.44/(R1+2*R2)*C;//frequency--------------eq(1)\n",
"D=(R1+R2)/(R1+2*R2)//duty cycle-------------eq(2)\n",
"R2=.0555*R1;//from eq(2)\n",
"//put it in eq(1)\n",
"R1=144*10^3/(1+2*.0555);\n",
"disp(R1)\n",
"R2=.0555*R1;\n",
"disp(R2)"
   ]
   }
,
{
		   "cell_type": "markdown",
		   "metadata": {},
		   "source": [
			"## Example 8.6: Monostable_multivibrator.sce"
		   ]
		  },
  {
"cell_type": "code",
	   "execution_count": null,
	   "metadata": {
	    "collapsed": true
	   },
	   "outputs": [],
"source": [
"//chapter 8\n",
"//example 8.6\n",
"//page 302\n",
"T=5*10^-3;\n",
"C=.1*10^-6;\n",
"//T=1.1RC\n",
"R=T/(1.1*C);\n",
"disp(R)//value of R should be less than 100k as obtain above"
   ]
   }
,
{
		   "cell_type": "markdown",
		   "metadata": {},
		   "source": [
			"## Example 8.7: 555_based_square_wave_generater.sce"
		   ]
		  },
  {
"cell_type": "code",
	   "execution_count": null,
	   "metadata": {
	    "collapsed": true
	   },
	   "outputs": [],
"source": [
"//chapter8\n",
"//example8.7\n",
"//page 303\n",
"f=1000;\n",
"T=1/f\n",
"Td=T/2\n",
"C=.1*10^-6;\n",
"//Td=.69R2C\n",
"R2=Td/(.69*C);\n",
"disp(R2)\n",
"R1=R2//for square wave R1=R2"
   ]
   }
],
"metadata": {
		  "kernelspec": {
		   "display_name": "Scilab",
		   "language": "scilab",
		   "name": "scilab"
		  },
		  "language_info": {
		   "file_extension": ".sce",
		   "help_links": [
			{
			 "text": "MetaKernel Magics",
			 "url": "https://github.com/calysto/metakernel/blob/master/metakernel/magics/README.md"
			}
		   ],
		   "mimetype": "text/x-octave",
		   "name": "scilab",
		   "version": "0.7.1"
		  }
		 },
		 "nbformat": 4,
		 "nbformat_minor": 0
}
