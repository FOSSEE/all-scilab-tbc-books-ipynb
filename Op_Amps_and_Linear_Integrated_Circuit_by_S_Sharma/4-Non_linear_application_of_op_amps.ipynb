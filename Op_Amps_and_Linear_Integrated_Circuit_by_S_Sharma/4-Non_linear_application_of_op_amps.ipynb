{
"cells": [
 {
		   "cell_type": "markdown",
	   "metadata": {},
	   "source": [
       "# Chapter 4: Non linear application of op amps"
	   ]
	},
{
		   "cell_type": "markdown",
		   "metadata": {},
		   "source": [
			"## Example 4.1: threshold_voltage.sce"
		   ]
		  },
  {
"cell_type": "code",
	   "execution_count": null,
	   "metadata": {
	    "collapsed": true
	   },
	   "outputs": [],
"source": [
"// chapter 4\n",
"//example 4.1\n",
"// page 193 ,figure 4.20\n",
"R1=120;R2=51*10^3;//given\n",
"Vsat=15;Vcc=15;Vee=15;Vin=1;//given\n",
"Vut=((Vsat*R1)/(R1+R2));\n",
"disp(Vut)//result threshold in ampere\n",
"Vult=((-Vsat*R1)/(R1+R2));\n",
"disp(Vult)//ampere"
   ]
   }
,
{
		   "cell_type": "markdown",
		   "metadata": {},
		   "source": [
			"## Example 4.2: Calculate_value_of_R1_and_R2.sce"
		   ]
		  },
  {
"cell_type": "code",
	   "execution_count": null,
	   "metadata": {
	    "collapsed": true
	   },
	   "outputs": [],
"source": [
"//chapter 4\n",
"//example 4.2\n",
"//page 193,figure 4.21\n",
"Vsat=12;Vh=6;\n",
"// Vh=(R1/R1+R2)(Vsat-(-Vsat))\n",
"R1=10000;// let assume\n",
"x=(Vh/(Vsat-(-Vsat)));\n",
"disp(x)\n",
"R2=((1-.25)*R1)/.25\n",
"disp(R2,R1)"
   ]
   }
,
{
		   "cell_type": "markdown",
		   "metadata": {},
		   "source": [
			"## Example 4.3: time_duratio.sce"
		   ]
		  },
  {
"cell_type": "code",
	   "execution_count": null,
	   "metadata": {
	    "collapsed": true
	   },
	   "outputs": [],
"source": [
"// chapter 4\n",
"// example 4.3\n",
"// page 194\n",
"Vp_p=5;//peak to peak volatage of sine wave\n",
"Vlt=-1.5;//lower threshold level\n",
"Vh=2;// hysteresis width\n",
"f=1000;\n",
"Vut=Vh-(-Vlt);\n",
"disp(Vut)\n",
"Vm=Vp_p/2;\n",
"disp(Vm)\n",
"//Vlt=Vm*sin(%pi+x)\n",
"x=36.87;// taking sin invers\n",
"T=1/f;\n",
"disp(T)\n",
"T1=(T*(180+x))/360;//T1 exist for angle 0 to (180+36.87)\n",
"disp(T1)\n",
"T2=T-T1;//t2 exist for angle 216.87 to 360\n",
"disp(T2)"
   ]
   }
,
{
		   "cell_type": "markdown",
		   "metadata": {},
		   "source": [
			"## Example 4.4: calculate_Vlt_Vut_and_Vh.sce"
		   ]
		  },
  {
"cell_type": "code",
	   "execution_count": null,
	   "metadata": {
	    "collapsed": true
	   },
	   "outputs": [],
"source": [
"// chapter 4\n",
"//example 4.4\n",
"//page 196\n",
"Vsat=12;\n",
"R1=1000;R2=3000;//given\n",
"Vlt=(-(+Vsat)*R1)/R2;\n",
"disp(Vlt)// lower threshold\n",
"Vut=(-(-Vsat)*R1)/R2;//upper threshold\n",
"disp(Vut)\n",
"Vh=(R1/R2)*(Vsat-(-Vsat));//hysteresis width\n",
"disp(Vh)"
   ]
   }
,
{
		   "cell_type": "markdown",
		   "metadata": {},
		   "source": [
			"## Example 4.5: change_in_output_voltage.sce"
		   ]
		  },
  {
"cell_type": "code",
	   "execution_count": null,
	   "metadata": {
	    "collapsed": true
	   },
	   "outputs": [],
"source": [
"// chapter 4\n",
"// example 4.5\n",
"//page 220\n",
"Vin=5;\n",
"FRR=80;\n",
"Vout=Vin/10^4*log10(10);// FRR=20log(Vin/Vout)\n",
"disp(Vout);//change in output voltage"
   ]
   }
],
"metadata": {
		  "kernelspec": {
		   "display_name": "Scilab",
		   "language": "scilab",
		   "name": "scilab"
		  },
		  "language_info": {
		   "file_extension": ".sce",
		   "help_links": [
			{
			 "text": "MetaKernel Magics",
			 "url": "https://github.com/calysto/metakernel/blob/master/metakernel/magics/README.md"
			}
		   ],
		   "mimetype": "text/x-octave",
		   "name": "scilab",
		   "version": "0.7.1"
		  }
		 },
		 "nbformat": 4,
		 "nbformat_minor": 0
}
