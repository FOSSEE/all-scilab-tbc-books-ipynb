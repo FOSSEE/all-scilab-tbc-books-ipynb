{
"cells": [
 {
		   "cell_type": "markdown",
	   "metadata": {},
	   "source": [
       "# Chapter 11: Phase locked loop"
	   ]
	},
{
		   "cell_type": "markdown",
		   "metadata": {},
		   "source": [
			"## Example 11.1: free_running_frequency_lock_range_capture_range.sce"
		   ]
		  },
  {
"cell_type": "code",
	   "execution_count": null,
	   "metadata": {
	    "collapsed": true
	   },
	   "outputs": [],
"source": [
"// chapter 11\n",
"// example 11.1\n",
"//page 394\n",
"Rt=10*10^3;Ct=.005*10^-6;C=10*10^-6;\n",
"V=20;//in volts\n",
"fout=.25/(Ct*Rt);//free running frequency\n",
"disp(fout)\n",
"fL=(8*fout)/V;//lock range\n",
"disp(fL)// it may be -ve or +ve\n",
"fc=sqrt(fL/(2*3.14*3.6*1000*C));// capture range\n",
"disp(fc)"
   ]
   }
,
{
		   "cell_type": "markdown",
		   "metadata": {},
		   "source": [
			"## Example 11.2: frequency_of_oscillator_and_phase_accumulator.sce"
		   ]
		  },
  {
"cell_type": "code",
	   "execution_count": null,
	   "metadata": {
	    "collapsed": true
	   },
	   "outputs": [],
"source": [
"//chapter 11\n",
"//example 11.2\n",
"//page 401\n",
"foutmax=200*10^3;\n",
"foutmin=4;\n",
"n=%s;\n",
"fclk=2.2*foutmax;\n",
"disp(fclk)//maximum output frequency\n",
"//resolution=foutmin=fclk/2^n\n",
"2*n==fclk/foutmin;\n",
"//n=fclk/(foutmin*2);\n",
"//hittrail method n=17\n",
"n=17\n",
"disp(n)"
   ]
   }
],
"metadata": {
		  "kernelspec": {
		   "display_name": "Scilab",
		   "language": "scilab",
		   "name": "scilab"
		  },
		  "language_info": {
		   "file_extension": ".sce",
		   "help_links": [
			{
			 "text": "MetaKernel Magics",
			 "url": "https://github.com/calysto/metakernel/blob/master/metakernel/magics/README.md"
			}
		   ],
		   "mimetype": "text/x-octave",
		   "name": "scilab",
		   "version": "0.7.1"
		  }
		 },
		 "nbformat": 4,
		 "nbformat_minor": 0
}
