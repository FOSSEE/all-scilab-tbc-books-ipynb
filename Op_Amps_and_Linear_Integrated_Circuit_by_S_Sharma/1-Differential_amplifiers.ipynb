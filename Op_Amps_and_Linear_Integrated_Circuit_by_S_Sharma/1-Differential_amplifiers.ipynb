{
"cells": [
 {
		   "cell_type": "markdown",
	   "metadata": {},
	   "source": [
       "# Chapter 1: Differential amplifiers"
	   ]
	},
{
		   "cell_type": "markdown",
		   "metadata": {},
		   "source": [
			"## Example 1.10: operating_point_voltage_gain_ip_and_op_resistance.sce"
		   ]
		  },
  {
"cell_type": "code",
	   "execution_count": null,
	   "metadata": {
	    "collapsed": true
	   },
	   "outputs": [],
"source": [
"// chapter 1\n",
"// example 1.10\n",
"//page 34, figure 1.39\n",
"Xdc=100;Xac=100;// gain\n",
"Vbe=0.7;Vee=12;Vcc=12;//given voltage in volts\n",
"Re=8200;Rin=150;Rc=3300;// given resistance in ohm\n",
"Hfe=100;Hie=1000;// given\n",
"Icq=(Vee-Vbe)/(2*Re+(Rin/Xdc))\n",
"Vceq=Vcc+Vbe-Rc*Icq\n",
"disp(Icq,Vceq)//operating point(volt,ampere)\n",
"Aid=(Hfe*Rc)/(Rin+Hie);// voltage gain\n",
"disp(Aid)// result\n",
"Ri=2*(Rin+Hie)// input resistance\n",
"disp(Ri)//in ohm\n",
"Ro=Rc;// output resistance\n",
"disp(Ro)//output resistance in ohm"
   ]
   }
,
{
		   "cell_type": "markdown",
		   "metadata": {},
		   "source": [
			"## Example 1.11: output_voltage_and_CMRR.sce"
		   ]
		  },
  {
"cell_type": "code",
	   "execution_count": null,
	   "metadata": {
	    "collapsed": true
	   },
	   "outputs": [],
"source": [
"//chapter 1\n",
"// example 1.11\n",
"// page 35\n",
"Rin=1000;Rc=1000;Re=2500000;// resistance is in ohm(given)\n",
"Hfe=50;Hre=0;Hoe=0;Hie=1000;//given\n",
"Vid=1*10^-3;Vc=20*10^-3// voltage in volts\n",
"Aid=-(Hfe*Rc)/(Rin+Hie);// differential gain Aid\n",
"Vout=Aid*Vid;// output voltage\n",
"disp(Vout)//result in ampere.\n",
"// to calculate CMRR we have to first find Acm common mode gain\n",
"Acm=((2*Re*Hoe-Hfe)*Rc)/(2*Re*(1+Hfe)+Rin+Hie)// common mode gain\n",
"CMRR=Aid/Acm;//CMRR\n",
"disp(CMRR)//result\n",
"CMRRdb=20*log10(CMRR);\n",
"disp(CMRRdb)// result CMRR is in db"
   ]
   }
,
{
		   "cell_type": "markdown",
		   "metadata": {},
		   "source": [
			"## Example 1.12: DC_characteristics.sce"
		   ]
		  },
  {
"cell_type": "code",
	   "execution_count": null,
	   "metadata": {
	    "collapsed": true
	   },
	   "outputs": [],
"source": [
"// chapter 1\n",
"// example 1.12\n",
"// page no.38, figure 1.44\n",
"Kn1=.2*10^-3;Kn2=.2*10^-3;Kn3=.4*10^-3;Kn4=.4*10^-3;// all in mA/V^2\n",
"Vtn=1;Vcc=12;Vee=-12;// voltage is in volts\n",
"R1=27000;Rd=15000;\n",
"// calculation of I1 and Vgs4\n",
"// applying KVL=> Vcc-Vee=I1*R1+Vgs4------------eq(1)\n",
"// I1=Kn3*(Vgs4-Vtn)^2-----------eq(2)\n",
"// put eq (2) in eq (1)\n",
"//((Vcc-Vee)-Vgs4)/R1=Kn3*(Vgs4-Vtn)^2\n",
"p1=poly([-13.2 -20.6 10],'Vgs4','c');\n",
"roots(p1)// we have to take only value positive and greater than Vtn\n",
"I1=Kn3*(2.573-Vtn)^2;//only positive and value greater than Vtn of  Vgs4 taken \n",
"disp(I1)\n",
"//calculation  of drain current Iq\n",
"Iq=I1;// identical M4 and M3\n",
"disp(Iq)\n",
"// calculation of Id1 and Id2\n",
"Id1=Iq/2;\n",
"Id2=Iq/2;\n",
"disp(Id1,Id2)// identical\n",
"// calculation of gate voltage for M1 and M2\n",
"Vgs1=Vtn+sqrt(Id1/Kn1);// using Id1=Kn1*(Vgs1-Vtn)^2\n",
"disp(Vgs1)// result gate to source voltage\n",
"Vgs2=Vgs1;// since they are identical\n",
"disp(Vgs2)\n",
"//calculation of Vout1 and Vout2\n",
"Vout1=Vcc-Id1*Rd;\n",
"disp(Vout1)// under quiescent condition\n",
"Vout2=Vcc-Id2*Rd;\n",
"disp(Vout2)\n",
"// calculation of maximum common mode input voltage Vcmmax\n",
"Vds1=Vgs1-Vtn;\n",
"Vcmmax=Vout1-Vds1+Vgs1;//maximum common mode voltage \n",
"disp(Vcmmax)// result is in volts\n",
"// calculation of minimum common mode input voltage Vcmmin \n",
"Vds4=Vgs2-Vtn;\n",
"Vcmmin=Vgs1+Vds4-Vcc;// minimum common mode input voltage\n",
"disp(Vcmmin)// volts"
   ]
   }
,
{
		   "cell_type": "markdown",
		   "metadata": {},
		   "source": [
			"## Example 1.13: Aid_Acm_CMRR.sce"
		   ]
		  },
  {
"cell_type": "code",
	   "execution_count": null,
	   "metadata": {
	    "collapsed": true
	   },
	   "outputs": [],
"source": [
"// chapter 1\n",
"// example 1.13\n",
"// page 44, figure 1.52\n",
"Rl=%inf;B=100;Rin=0;\n",
"Re=1;// let suppose\n",
"Iq=4*10^-3;\n",
"Vt=26*10^-3;Va2=150;Va4=100;\n",
"I2=Iq/2;\n",
"I4=Iq/2;\n",
"disp(I2,I4)\n",
"Gm=Iq/(2*Vt);//parameters\n",
"Ro2=Va2/I2;\n",
"Ro4=Va4/I4;\n",
"Aid=Gm*((Ro2*Ro4)/(Ro2+Ro4));//Aid =Gm(Ro2||Ro4||Rl),Rl=%inf\n",
"disp(Aid)//differential mode gain Aid\n",
"r=(2*(B*Vt))/Iq// Vt=26mV at 300k\n",
"//Re=1/X*Iq and Rc=1/x*Iq/2\n",
"//Rc/Re=2\n",
"Rc=2*Re;\n",
"//assuming 2*(1+B)*Re/(r+Rin)>>>>1\n",
"//Acm=((-Gm*Rc)/1+((2*(1+B)*Re)/(r+Rin)));\n",
"k=(2*(1+B)*Re)/((r+Rin)/1000)\n",
"Acm=-((Gm*Rc)*1000)/k;\n",
"disp(Acm)// common mode gain\n",
"CMRR=Aid/-Acm;\n",
"disp(CMRR)//\n",
"CMRRdb=20*log10(CMRR);\n",
"disp(CMRRdb)// result is in db"
   ]
   }
,
{
		   "cell_type": "markdown",
		   "metadata": {},
		   "source": [
			"## Example 1.14: voltage_gain_and_ip_resistance_and_operating_point.sce"
		   ]
		  },
  {
"cell_type": "code",
	   "execution_count": null,
	   "metadata": {
	    "collapsed": true
	   },
	   "outputs": [],
"source": [
"// chapter 1\n",
"//example 1.14\n",
"// page 46, figure1.54\n",
"Bac=100;Bdc=100;\n",
"Vbe=.715;Vd1=.715; Vz=6.2;Vee=-10;Vcc=10;Vt=26*10^-3;// at room temprature\n",
"Re=2700;Rin=10000;Rc=4700;//assuming Rin= 10k\n",
"Izt=41*10^-3;\n",
"Vin=0;// for dc analysis\n",
"//calculation of the value of Ie,Icq1 and Icq2\n",
"Vb3=Vee+Vz+Vd1\n",
"Ve3=Vb3-Vbe\n",
"Ie=(Ve3-Vee)/Re;\n",
"disp(Ie)\n",
"Ie1=Ie/2\n",
"Ie2=Ie/2\n",
"A=B/(1+B);\n",
"Icq=A*Ie1;//(B/(B+1))*Ie1\n",
"disp(Icq)\n",
"Icq2=Icq;\n",
"disp(Icq2)\n",
"Gm=Icq/Vt// Vt at room temp 26mA\n",
"r=(B*Vt)/Icq\n",
"Ib=Icq/B\n",
"Ve1=-Ib*Rin-Vbe;\n",
"disp(Ve1)//result\n",
"Vc1=Vcc-Icq*Rc;\n",
"disp(Vc1)\n",
"Vceq=Vc1-Ve1;\n",
"disp(Vceq,Icq)//result operating point "
   ]
   }
,
{
		   "cell_type": "markdown",
		   "metadata": {},
		   "source": [
			"## Example 1.15: collector_current.sce"
		   ]
		  },
  {
"cell_type": "code",
	   "execution_count": null,
	   "metadata": {
	    "collapsed": true
	   },
	   "outputs": [],
"source": [
"//chapter 1\n",
"// example 1.15\n",
"//page 47, figure 1.57\n",
"Bdc=100;Bac=100;\n",
"Vbe=.715;\n",
"R=5600;\n",
"Vr=-(Vbe-10);\n",
"Ir=Vr/R;// Ir=Ic+Ib=Vr/R\n",
"disp(Ir)\n",
"Ic=Ir*(Bdc/(1+Bdc));//Ir=Ic+Ib=Ic+Ic/Bdc\n",
"disp(Ic)//ampre\n",
"Ic2=Ir\n",
"Ic3=Ir\n",
"Ic4=Ir"
   ]
   }
,
{
		   "cell_type": "markdown",
		   "metadata": {},
		   "source": [
			"## Example 1.16: smallest_and_largest_possible_value_of_current.sce"
		   ]
		  },
  {
"cell_type": "code",
	   "execution_count": null,
	   "metadata": {
	    "collapsed": true
	   },
	   "outputs": [],
"source": [
"//chapter 1\n",
"//example 1.16\n",
"//page 48,figure 1.59\n",
"Ie=400*10^-6;\n",
"Bmin=80;Bmax=120;\n",
"//Ie=Ie1+Ie2   for identical transistor Ie1=Ie2\n",
"Ie1=Ie/2\n",
"Ie2=Ie/2\n",
"IB1max=Ie1/(1+Bmin)\n",
"IB2max=Ie2/(1+Bmin)\n",
"IBmax=(IB1max+IB2max)/2;\n",
"disp(IBmax)//largest input bais current\n",
"IB1min=Ie1/(1+Bmax)\n",
"IB2min=Ie2/(1+Bmax)\n",
"IBmin=(IB1min+IB2min)/2;\n",
"disp(IBmin)// smallest current\n",
"Iios=IBmax-IBmin// input bais current\n",
"disp(Iios)//result"
   ]
   }
,
{
		   "cell_type": "markdown",
		   "metadata": {},
		   "source": [
			"## Example 1.17: Ri_Ro_differential_and_common_mode_voltage_gain.sce"
		   ]
		  },
  {
"cell_type": "code",
	   "execution_count": null,
	   "metadata": {
	    "collapsed": true
	   },
	   "outputs": [],
"source": [
"//chapter1\n",
"//example 1.17\n",
"//page 49, figure 1.60\n",
"I=.2*10^-3; B=200;Va=100;Rl=%inf;\n",
"Vt=26*10^-3//assuming at room temprature\n",
"I2=I/2\n",
"I4=I2\n",
"r02=Va/I2;\n",
"disp(r02)\n",
"r04=Va/I4;\n",
"disp(r04)\n",
"Gm=2/Vt\n",
"Aid=Gm/((1/r02)+(1/r04)+(1/Rl));\n",
"disp(Aid)\n",
"Ri=2*(B/I)//Ri=2*r\n",
"disp(Ri)\n",
"Ri=(r02*r04)/(r02+r04);\n",
"disp(Ri)"
   ]
   }
,
{
		   "cell_type": "markdown",
		   "metadata": {},
		   "source": [
			"## Example 1.1: Vout_and_CMMR.sce"
		   ]
		  },
  {
"cell_type": "code",
	   "execution_count": null,
	   "metadata": {
	    "collapsed": true
	   },
	   "outputs": [],
"source": [
"// chapter 1\n",
"//example 1.3\n",
"// page no.18,figure no.1.22\n",
"//given\n",
"Rin1=100;Rin2=100;\n",
"Re=2700;Rc=4700;\n",
"Hfe=100;\n",
"Hie=1000;Hoe=0;\n",
"Aid=(Hfe*Rc)/(Rin1+Hie);\n",
"disp(Aid)//differential gain\n",
"//Acm=(2*Re*Hoe-Hfe)*Rc/(2*Re(1+Hfe)+(Rin1+Hie)(1+2*Re*Hoe)),and Hoe=0\n",
"x=2*Re*1+2*Re*Hfe+Rin1+Hie;\n",
"Acm=-(Hfe*Rc)/x;\n",
"disp(Acm)//neglecting the negative value.taking mod of Acm\n",
"Acm=-(Acm)\n",
"CMRR=20*log10(Aid/Acm);\n",
"disp(CMRR)//is in db\n",
"Rin=2*Rin1+2*Hie;\n",
"disp(Rin)//input resistance\n",
"Ro=Rc\n",
"disp(Ro)//output resistance"
   ]
   }
,
{
		   "cell_type": "markdown",
		   "metadata": {},
		   "source": [
			"## Example 1.2: Icq_and_Vceq.sce"
		   ]
		  },
  {
"cell_type": "code",
	   "execution_count": null,
	   "metadata": {
	    "collapsed": true
	   },
	   "outputs": [],
"source": [
"// chapter 1\n",
"// example 1.2\n",
"//page 17. figure 1.21\n",
"//given\n",
"Rc=4700,Re=2700;// Resistor is in ohm\n",
"Vcc=12;Vee=12;// voltage is in volt\n",
"Vbe=.7;// assuming Vbe\n",
"Ie=(Vee-Vbe)/(2*Re);\n",
"disp(Ie)//current is in ampere\n",
"Icq=Ie;\n",
"disp(Icq)//current is in ampere\n",
"Vc=Icq*Rc;\n",
"Vce=Vcc+Vbe-Vc;\n",
"disp(Vce)"
   ]
   }
,
{
		   "cell_type": "markdown",
		   "metadata": {},
		   "source": [
			"## Example 1.3: Aid_and_Acm_and_CMRR_and_Ri_and_Ro.sce"
		   ]
		  },
  {
"cell_type": "code",
	   "execution_count": null,
	   "metadata": {
	    "collapsed": true
	   },
	   "outputs": [],
"source": [
"// chapter 1\n",
"// example 1.3\n",
"//page 18\n",
"Rin1=100;Rin2=100;Re=2.7*10^3;Rc=4.7*10^3;\n",
"hfe=100;hie=1000;hoe=0;\n",
"Aid=(hfe*Rc)/(Rin1+hie);//Differential gain\n",
"disp(Aid)\n",
"Acm=((2*Re*hoe-hfe)*Rc)/(2*Re*(1+hfe)+(Rin1+hie)*(1+2*Re*hoe));//comman mode gain\n",
"Acm=-Acm// neglecting negative sign\n",
"disp(Acm)\n",
"CMRR=Aid/Acm\n",
"CMRR=20*log10(CMRR);\n",
"disp(CMRR)\n",
"Rin=2*(Rin1+hie)//input resistance\n",
"Ro=Rc//output resistance"
   ]
   }
,
{
		   "cell_type": "markdown",
		   "metadata": {},
		   "source": [
			"## Example 1.4: constant_current_I.sce"
		   ]
		  },
  {
"cell_type": "code",
	   "execution_count": null,
	   "metadata": {
	    "collapsed": true
	   },
	   "outputs": [],
"source": [
"//chapter 1\n",
"//example 1.4\n",
"// page 23,figure 1.27\n",
"Vee=10;R1=2400;R2=2400;R3=1000;Vbe=.7;//given\n",
"I=(Vee-(R2*Vee/(R1+R2))-Vbe)/R3;\n",
"disp(I)// result is in ampere"
   ]
   }
,
{
		   "cell_type": "markdown",
		   "metadata": {},
		   "source": [
			"## Example 1.5: value_of_RE.sce"
		   ]
		  },
  {
"cell_type": "code",
	   "execution_count": null,
	   "metadata": {
	    "collapsed": true
	   },
	   "outputs": [],
"source": [
"//chapter 1\n",
"// example 1.5\n",
"//page 27.figure 1.31\n",
"Ic1=10*10^-6;Vcc=50;Vbe=.7;R=50*10^3;\n",
"Ic2=(Vcc-Vbe)/R;\n",
"disp(Ic2);\n",
"Vt=26*10^-3// assume at room temperature of 300k\n",
"Re=Vt/Ic1*log(Ic2/Ic1);\n",
"disp(Re)//result in ohm"
   ]
   }
,
{
		   "cell_type": "markdown",
		   "metadata": {},
		   "source": [
			"## Example 1.6: common_mode_op_voltage_and_differential_mode_output.sce"
		   ]
		  },
  {
"cell_type": "code",
	   "execution_count": null,
	   "metadata": {
	    "collapsed": true
	   },
	   "outputs": [],
"source": [
"//chapter 3\n",
"// exmaple 3.6\n",
"//page 124 , figure 3.17\n",
"R1=1*10^3;R2=R1;R3=R1;//given\n",
"Rf=1*10^3;//given\n",
"Vin1=2;Vin2=1;Vin3=4;//given\n",
"Vout=-((Rf/R1)*Vin1+(Rf/R2)*Vin2+(Rf/R3)*Vin3);\n",
"disp(Vout)"
   ]
   }
,
{
		   "cell_type": "markdown",
		   "metadata": {},
		   "source": [
			"## Example 1.7: Dc_bias_point_and_ip_and_op_resistance.sce"
		   ]
		  },
  {
"cell_type": "code",
	   "execution_count": null,
	   "metadata": {
	    "collapsed": true
	   },
	   "outputs": [],
"source": [
"//chapter 1\n",
"// example 1.7\n",
"//page 32,figure 1.36\n",
"Vee=12;Vbe=0.7;Rin=100;Re=8400;Rc=3900;Vcc=12;\n",
"Xdc=100// dc gain\n",
"Icq=(Vee-Vbe)/((Rin/Xdc)+2*Re);\n",
"Vceq=Vcc+Vbe-Icq*Rc;\n",
"disp(Vceq,Icq)//the DC base point or Q point is at(volt,ampere)\n",
"Hie=1100// assuming\n",
"Ri=2*(Rin+Hie);//input resistance \n",
"disp(Ri)// input resistance in ohm\n",
"Ro=Rc// output resistance"
   ]
   }
,
{
		   "cell_type": "markdown",
		   "metadata": {},
		   "source": [
			"## Example 1.8: Icq_and_Vceq_voltage_gain_ip_and_op_resistance.sce"
		   ]
		  },
  {
"cell_type": "code",
	   "execution_count": null,
	   "metadata": {
	    "collapsed": true
	   },
	   "outputs": [],
"source": [
"//chapter 1\n",
"// example 1.8\n",
"// page 33, figure 1.37:\n",
"Xdc=100;Xac=100;//AC and DC gain\n",
"Vbe=0.7;Vee=10;Vcc=10;// voltage is in volts\n",
"Re=4700;Rin=50;Rc=2700;//resistance in ohm\n",
"Hfe=100;Hie=1100// assuming\n",
"Icq=(Vee-Vbe)/(2*Re+(Rin/Xdc));\n",
"disp(Icq)//result current\n",
"Vceq=Vcc+Vbe-Rc*Icq;\n",
"disp(Vceq)// result voltage\n",
"Aid=(Hfe*Rc)/(2*(Rin+Hie));//voltage gain Aid\n",
"disp(Aid)\n",
"Ri=2*(Rin+Hie)// input resistance\n",
"disp(Ri)//in ohm\n",
"Ro=Rc;// output resistance\n",
"disp(Ro)//ohm"
   ]
   }
,
{
		   "cell_type": "markdown",
		   "metadata": {},
		   "source": [
			"## Example 1.9: operating_point_voltage_gain_ip_and_op_resistance.sce"
		   ]
		  },
  {
"cell_type": "code",
	   "execution_count": null,
	   "metadata": {
	    "collapsed": true
	   },
	   "outputs": [],
"source": [
"// chapter 1\n",
"// example 1.9\n",
"//page 34, figure 1.38\n",
"Xdc=100;Xac=100;// gain\n",
"Vbe=0.7;Vee=12;Vcc=12;//given voltage in volts\n",
"Re=4700;Rin=50;Rc=2700;// given resistance in ohm\n",
"Hfe=100;Hie=1100;// given\n",
"Icq=(Vee-Vbe)/(2*Re+(Rin/Xdc));\n",
"Vceq=Vcc+Vbe-Rc*Icq;\n",
"disp(Icq,Vceq)//operating point(volt,ampere)\n",
"Aid=(Hfe*Rc)/(Rin+Hie);// voltage gain\n",
"disp(Aid)// result\n",
"Ri=2*(Rin+Hie)// input resistance\n",
"disp(Ri)//in ohm\n",
"Ro=Rc;// output resistance\n",
"disp(Ro)//output resistance in ohm"
   ]
   }
],
"metadata": {
		  "kernelspec": {
		   "display_name": "Scilab",
		   "language": "scilab",
		   "name": "scilab"
		  },
		  "language_info": {
		   "file_extension": ".sce",
		   "help_links": [
			{
			 "text": "MetaKernel Magics",
			 "url": "https://github.com/calysto/metakernel/blob/master/metakernel/magics/README.md"
			}
		   ],
		   "mimetype": "text/x-octave",
		   "name": "scilab",
		   "version": "0.7.1"
		  }
		 },
		 "nbformat": 4,
		 "nbformat_minor": 0
}
