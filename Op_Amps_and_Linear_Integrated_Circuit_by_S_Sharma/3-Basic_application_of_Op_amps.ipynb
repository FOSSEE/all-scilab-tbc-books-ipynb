{
"cells": [
 {
		   "cell_type": "markdown",
	   "metadata": {},
	   "source": [
       "# Chapter 3: Basic application of Op amps"
	   ]
	},
{
		   "cell_type": "markdown",
		   "metadata": {},
		   "source": [
			"## Example 3.11: design_practical_differentiator.sce"
		   ]
		  },
  {
"cell_type": "code",
	   "execution_count": null,
	   "metadata": {
	    "collapsed": true
	   },
	   "outputs": [],
"source": [
"//chapter 3\n",
"//example 3.11\n",
"//page 147\n",
"fa=150;fmax=150;//given\n",
"C1=1*10^-6;// assuming\n",
"Rf=1/(fa*2*%pi*C1);//fa=1/2piRfC1\n",
"disp(Rf)\n",
"fb=10*fa;// safe frequency\n",
"disp(fb)\n",
"R1=1/(2*%pi*fb*C1);//fb=1/2piC1R1\n",
"disp(R1)\n",
"Cf=((R1*C1)/Rf);//using R1C1=RfCf\n",
"disp(Cf)\n",
"Rcomp=(R1*Rf)/(R1+Rf);//rcomp=R1||Rf\n",
"disp(Rcomp)// generally Rcomp is selected equal to R1"
   ]
   }
,
{
		   "cell_type": "markdown",
		   "metadata": {},
		   "source": [
			"## Example 3.15: scaling_adder_circuit.sce"
		   ]
		  },
  {
"cell_type": "code",
	   "execution_count": null,
	   "metadata": {
	    "collapsed": true
	   },
	   "outputs": [],
"source": [
"//chapter 3\n",
"// example 3.15\n",
"//page 148\n",
"// Vout=-(3Vin1+4Vin2+5Vin3)\n",
"Rf=120*10^3;\n",
"// for inverting summer we have Vout=-(Rf/R1Vin1+Rf/R2Vin2+Rf/R3Vin3)\n",
"R=Rf/3;//Rf/R1=3  comparing the cofficients\n",
"disp(R1)\n",
"R2=Rf/4;\n",
"disp(R2)\n",
"R3=Rf/R3;\n",
"disp(R3)"
   ]
   }
,
{
		   "cell_type": "markdown",
		   "metadata": {},
		   "source": [
			"## Example 3.16: op_amp_circuit.sce"
		   ]
		  },
  {
"cell_type": "code",
	   "execution_count": null,
	   "metadata": {
	    "collapsed": true
	   },
	   "outputs": [],
"source": [
"//chapter 3\n",
"// example 3.16\n",
"// page 149\n",
"// Vout=2Vin1-3Vin2+4Vin3-5vin4 \n",
"Rf1=100*10^3\n",
"// Vout1=-(Rf1/R1Vin1+Rf1/R3Vin3)\n",
"R1=Rf1/2;// Rf1/R1=2  comapring the cofficient\n",
"R3=Rf1/4:\n",
"disp(R1,R2)\n",
"Rf2=120*10^3\n",
"// Vout2=-(Rf2/R2Vin1+Rf2/R4Vin3)\n",
"R2=Rf2/3;\n",
"R4=Rf2/5;\n",
"disp(R2,R4)\n",
"// output of subtracter is Vout=Vout2-Vout1"
   ]
   }
,
{
		   "cell_type": "markdown",
		   "metadata": {},
		   "source": [
			"## Example 3.17: find_ratio_of_Vout_by_Vin.sce"
		   ]
		  },
  {
"cell_type": "code",
	   "execution_count": null,
	   "metadata": {
	    "collapsed": true
	   },
	   "outputs": [],
"source": [
"// chapter 3\n",
"// example 3.17\n",
"//page 150, figure 3.53\n",
"Ri=%inf;Ro=0;\n",
"Aol=%inf;\n",
"Vb=0;//b is virtually ground\n",
"Vout=1;// let us assume\n",
"//input current of op-amp is zeroas R=%inf\n",
"I1=(Vb-Vout)/100000\n",
"If2=I1;\n",
"Va=((10000)/(100000))*(Vb-Vout)\n",
"//at node A Iin=I1+If1\n",
"// (Vin-Va)/10*10^3=(Va-Vb)/10*10^3 + (Va-Vo)/100*10^3\n",
"Vin=Va+(10000)*((Va/10000)+((Va-Vout)/100000));\n",
"Ratio=Vout/Vin// result ratio of Vout/Vin"
   ]
   }
,
{
		   "cell_type": "markdown",
		   "metadata": {},
		   "source": [
			"## Example 3.18: output_voltage_in_term_of_Vin1_and_Vin2.sce"
		   ]
		  },
  {
"cell_type": "code",
	   "execution_count": null,
	   "metadata": {
	    "collapsed": true
	   },
	   "outputs": [],
"source": [
"// chapter 3\n",
"//example 3.18\n",
"// page 150, figure 3.55\n",
"Rf=10*10^3;R1=100*10^3;\n",
"Rf1=100*10^3;R11=10*10^3;\n",
"Vin1=1;// let suppose\n",
"Vin2=2\n",
"Vout1=(1+(Rf/R1))*Vin1;// 1st stage is non inverting amplifier\n",
"disp(Vout1)\n",
"// second stage there are two input Vout1 and Vin2 aplly superposition theorem\n",
"Vout2=-(Rf1/R11)*Vout1;\n",
"//with Vout1 grounded,Vin2 active ,it behave as non-inverting amplifier\n",
"Vout3=(1+(Rf1/R11))*Vin2;\n",
"Vout=Vout2+Vout3;\n",
"disp(Vout)"
   ]
   }
,
{
		   "cell_type": "markdown",
		   "metadata": {},
		   "source": [
			"## Example 3.19: range_of_gain.sce"
		   ]
		  },
  {
"cell_type": "code",
	   "execution_count": null,
	   "metadata": {
	    "collapsed": true
	   },
	   "outputs": [],
"source": [
"// chapter 3\n",
"//example 3.19\n",
"//page 163, figure 3.73\n",
"R1=200;R2=100;Rf=100*10^3;//given\n",
"Rg1=100+0;//potentiometer resistance is 0 at start\n",
"gain1=((1+2*(Rf/Rg1))*(R2/R1));\n",
"Rg2=100+100*10^3;//potentiometer maximum value\n",
"gain2=((1+2*(Rf/Rg2))*(R2/R1));\n",
"disp(gain1,gain2)// range of gain"
   ]
   }
,
{
		   "cell_type": "markdown",
		   "metadata": {},
		   "source": [
			"## Example 3.1: voltage.sce"
		   ]
		  },
  {
"cell_type": "code",
	   "execution_count": null,
	   "metadata": {
	    "collapsed": true
	   },
	   "outputs": [],
"source": [
"//chpater 3\n",
"// example 3.1\n",
"//page 106, figure 3.3\n",
"R1=10000;Rf=47000;//given\n",
"Af=-(Rf/R1);// voltage gain Af=Vout/Vin\n",
"disp(Af)//negative sign indicate phase shift between input and output"
   ]
   }
,
{
		   "cell_type": "markdown",
		   "metadata": {},
		   "source": [
			"## Example 3.20: Value_of_Rg.sce"
		   ]
		  },
  {
"cell_type": "code",
	   "execution_count": null,
	   "metadata": {
	    "collapsed": true
	   },
	   "outputs": [],
"source": [
"// chapter 3\n",
"// example 3.20\n",
"//page 164,figure 3.74\n",
"R1=100*10^3;R2=100*10^3;Rf=470;//given\n",
"// gain=(1+2Rf/Rg)(R2/R1)\n",
"gain=100;//given\n",
"Rg=(((gain/(R2/R1))-1)\(2*Rf));\n",
"disp(Rg)//result for Rg so that gain is 100"
   ]
   }
,
{
		   "cell_type": "markdown",
		   "metadata": {},
		   "source": [
			"## Example 3.21: transduer_resistance.sce"
		   ]
		  },
  {
"cell_type": "code",
	   "execution_count": null,
	   "metadata": {
	    "collapsed": true
	   },
	   "outputs": [],
"source": [
"//chapter 3\n",
"//example 3.21\n",
"//page 167\n",
"Ro=100;\n",
"x=0.00392;\n",
"T1=25;//temp at 25c\n",
"R(25)=Ro*(1+(x*T1));\n",
"disp(R(25))// resistance at 25 degree\n",
"T2=100;\n",
"R(100)=Ro*(1+(x*T2));\n",
"disp(R(100))//resistance at 100 degree"
   ]
   }
,
{
		   "cell_type": "markdown",
		   "metadata": {},
		   "source": [
			"## Example 3.2: value_of_Rf.sce"
		   ]
		  },
  {
"cell_type": "code",
	   "execution_count": null,
	   "metadata": {
	    "collapsed": true
	   },
	   "outputs": [],
"source": [
"//chapter 3\n",
"//example 3.2\n",
"//page 107\n",
"R1=4700;\n",
"Af=-60;\n",
"Rf=Af*R1//voltage gain Af=-Rf/R1\n",
"disp(Rf)//result"
   ]
   }
,
{
		   "cell_type": "markdown",
		   "metadata": {},
		   "source": [
			"## Example 3.3: voltage_gain_ip_and_op_resistance_bandwidth.sce"
		   ]
		  },
  {
"cell_type": "code",
	   "execution_count": null,
	   "metadata": {
	    "collapsed": true
	   },
	   "outputs": [],
"source": [
"//chapter 3\n",
"// example 3.3\n",
"//page 112\n",
"A=2*10^5;//open loop gain\n",
"Rin=2*10^6;// input resistnace\n",
"Ro=75;// output resistance\n",
"Fo=5;// single break frequency in herzt\n",
"R1=470;Rf=4700;\n",
"K=Rf/(Rf+R1)\n",
"B=R1/(R1+Rf)\n",
"Af=-(A*Rf)/(R1+Rf+R1*A);//close loop gain\n",
"Rinf=R1+(Rf*Rin)/(Rf+Rin+A*Rin);\n",
"disp(Rinf)//close loop resistance\n",
"Rof=Ro/(1+A*B);//close loop output resistance\n",
"disp(Rof)//output resistance\n",
"Ff=Fo*(1+A*B);\n",
"disp(Ff)//bandwidth with feedback"
   ]
   }
,
{
		   "cell_type": "markdown",
		   "metadata": {},
		   "source": [
			"## Example 3.4: feedback_resistance_Rf.sce"
		   ]
		  },
  {
"cell_type": "code",
	   "execution_count": null,
	   "metadata": {
	    "collapsed": true
	   },
	   "outputs": [],
"source": [
"//chapter 3\n",
"// example 3.4\n",
"//page 114,figure 3.9\n",
"R1=1000;\n",
"Af=61;//closed loop gain\n",
"Rf=R1*(61-1);//Af=1+(Rf/R1)\n",
"disp(Rf)//feedback resistance"
   ]
   }
,
{
		   "cell_type": "markdown",
		   "metadata": {},
		   "source": [
			"## Example 3.5: close_loop_gain_ip_and_op_resistance_and_bandwidth.sce"
		   ]
		  },
  {
"cell_type": "code",
	   "execution_count": null,
	   "metadata": {
	    "collapsed": true
	   },
	   "outputs": [],
"source": [
"//chapter 3\n",
"//example 3.5\n",
"//page 120,\n",
"A=2*10^5;//open loop gain\n",
"R1=1000;Rf=10000;\n",
"Ri=2*10^6;//input resistance\n",
"Ro=75;//output resistance\n",
"Fo=5;// single break frequency in Hz\n",
"B=R1/(R1+Rf)\n",
"Af=A/(1+A*B);//gain\n",
"disp(Af)// closed loop gain\n",
"Rif=Ri*(1+A*B);// closed loop input resistance\n",
"disp(Rif)\n",
"Rof=Ro/(1+A*B);\n",
"disp(Rof)// colsed loop output resistance\n",
"Fof=Fo*(1+A*B);\n",
"disp(Fof)// colsed loop bandwidth in Hz"
   ]
   }
,
{
		   "cell_type": "markdown",
		   "metadata": {},
		   "source": [
			"## Example 3.6: output_voltage.sce"
		   ]
		  },
  {
"cell_type": "code",
	   "execution_count": null,
	   "metadata": {
	    "collapsed": true
	   },
	   "outputs": [],
"source": [
"//chapter 3\n",
"// exmaple 3.6\n",
"//page 124 , figure 3.17\n",
"R1=1*10^3;R2=R1;R3=R1;//given\n",
"Rf=1*10^3;//given\n",
"Vin1=2;Vin2=1;Vin3=4;//given\n",
"Vout=-((Rf/R1)*Vin1+(Rf/R2)*Vin2+(Rf/R3)*Vin3);\n",
"disp(Vout)"
   ]
   }
,
{
		   "cell_type": "markdown",
		   "metadata": {},
		   "source": [
			"## Example 3.7: practical_integrator.sce"
		   ]
		  },
  {
"cell_type": "code",
	   "execution_count": null,
	   "metadata": {
	    "collapsed": true
	   },
	   "outputs": [],
"source": [
"// chapter 3\n",
"// example 3.7\n",
"//page 135\n",
"A=10;//d.c gain\n",
"R1=10000;\n",
"F=10000;//input frequency\n",
"CfRf=15915*10^-4;\n",
"Fa=F/A;\n",
"Rf=10*R1;// A=Rf/R1\n",
"//Fa=1/(2*3.14*Rf*Cf)\n",
"Cf=15915*10^-4/Rf;\n",
"disp(Cf)\n",
"Rcomp=(R1*Rf)/(R1+Rf);\n",
"disp(Rcomp)"
   ]
   }
,
{
		   "cell_type": "markdown",
		   "metadata": {},
		   "source": [
			"## Example 3.8: maximum_change_in_output_voltage_and_slew_rate.sce"
		   ]
		  },
  {
"cell_type": "code",
	   "execution_count": null,
	   "metadata": {
	    "collapsed": true
	   },
	   "outputs": [],
"source": [
"//chapter 3\n",
"//example 3.8\n",
"//page 136, figure 3.35\n",
"F=1000;\n",
"R1=1000;Cf=.1*10^-6;\n",
"Vin=5;//voltage in V\n",
"T=1/F;//time period\n",
"disp(T)// in second\n",
"Vout=(Vin*T)/(2*R1*Cf);// change in output voltage \n",
"disp(Vout)//given saturation level is 14V hence output will not saturate will be triangular in nature\n",
"S=2*%pi*F*Vin;// slew rate \n",
"disp(S)//minimum slew rate"
   ]
   }
,
{
		   "cell_type": "markdown",
		   "metadata": {},
		   "source": [
			"## Example 3.9: safe_frequency_DC_gain.sce"
		   ]
		  },
  {
"cell_type": "code",
	   "execution_count": null,
	   "metadata": {
	    "collapsed": true
	   },
	   "outputs": [],
"source": [
"//chapter 3\n",
"//example 3.9\n",
"//page 137\n",
"R1=120*10^3;Rf=1.2*10^6;Cf=10*10^-9// given\n",
"fa=1/(2*%pi*Rf*Cf);// corner frequency\n",
"F=10*10^3;\n",
"Vin=5;\n",
"disp(fa)//coner frequency\n",
"safefrequency=10*fa//safe frequency is 10 times of corner frequency\n",
"Adc=Rf/R1;//D.C gain\n",
"Adb=20*log10(Adc)// gain in db\n",
"A=(Rf/R1)/sqrt(1+(F/fa)^2)//gain for practical intregrater circuit\n",
"disp(A)\n",
"Vout=A*Vin;//|A|=Vout(peak)/Vin(peak)\n",
"disp(Vout)"
   ]
   }
],
"metadata": {
		  "kernelspec": {
		   "display_name": "Scilab",
		   "language": "scilab",
		   "name": "scilab"
		  },
		  "language_info": {
		   "file_extension": ".sce",
		   "help_links": [
			{
			 "text": "MetaKernel Magics",
			 "url": "https://github.com/calysto/metakernel/blob/master/metakernel/magics/README.md"
			}
		   ],
		   "mimetype": "text/x-octave",
		   "name": "scilab",
		   "version": "0.7.1"
		  }
		 },
		 "nbformat": 4,
		 "nbformat_minor": 0
}
