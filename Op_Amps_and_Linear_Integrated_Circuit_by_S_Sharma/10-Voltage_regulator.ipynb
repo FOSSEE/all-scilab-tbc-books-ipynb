{
"cells": [
 {
		   "cell_type": "markdown",
	   "metadata": {},
	   "source": [
       "# Chapter 10: Voltage regulator"
	   ]
	},
{
		   "cell_type": "markdown",
		   "metadata": {},
		   "source": [
			"## Example 10.10: min_and_max_output_voltage_for_regulator.sce"
		   ]
		  },
  {
"cell_type": "code",
	   "execution_count": null,
	   "metadata": {
	    "collapsed": true
	   },
	   "outputs": [],
"source": [
"//chapter 10\n",
"//example 10.10\n",
"//page 357\n",
"Vref=-1.25;\n",
"Iadj=50*10^-6;\n",
"R1=240;\n",
"R2min=0;//to find minimum output voltage correspond to R2min=0\n",
"Voutmin=Vref*(1+(R2min/R1))+Iadj*R2min;\n",
"disp(Voutmin)\n",
"R2max=5*10^3;//for maximum output voltage \n",
"Voutmax=Vref*(1+(R2max/R1))+Iadj*R2max;\n",
"disp(Voutmax)//volts"
   ]
   }
,
{
		   "cell_type": "markdown",
		   "metadata": {},
		   "source": [
			"## Example 10.11: voltage_IC_723.sce"
		   ]
		  },
  {
"cell_type": "code",
	   "execution_count": null,
	   "metadata": {
	    "collapsed": true
	   },
	   "outputs": [],
"source": [
"//chapter10\n",
"//example 10.11\n",
"//page 10.11\n",
"Vo=5;Io=50*10^-3;\n",
"Isc=75*10^-3;Vin=15;\n",
"Vsense=.6;Vref=7;\n",
"I=1*10^-3;//current through R1 and R2\n",
"R2=Vo/I;\n",
"disp(R2)\n",
"VR1=Vref-Vo;//voltage across R1\n",
"disp(VR1)\n",
"R1=VR1/I;\n",
"disp(R1)\n",
"R3=R1*R2/(R1+R2);//R3=R1||R2\n",
"disp(R3)\n",
"Rsc=Vsense/Isc;\n",
"disp(Rsc)\n",
"C1=7.4*10^-6/10;\n",
"disp(R1,R2,R3,Rsc,C1)//component value"
   ]
   }
,
{
		   "cell_type": "markdown",
		   "metadata": {},
		   "source": [
			"## Example 10.12: power_dissipation_in_regulator.sce"
		   ]
		  },
  {
"cell_type": "code",
	   "execution_count": null,
	   "metadata": {
	    "collapsed": true
	   },
	   "outputs": [],
"source": [
"//chapter 10\n",
"//example 10.12\n",
"//page 372\n",
"Vref=7;Vout=5;Vin=15;\n",
"Il=1*10^-3;Isc=1.5;Vsense=.65;\n",
"Imax=150*10^-3;//Imax of IC-723 is 150mA\n",
"R1=(Vref-Vout)/Il;\n",
"disp(R1)\n",
"R2=Vout/Il;\n",
"disp(R2)\n",
"R3=(R1*R2)/(R1+R2);\n",
"disp(R3)\n",
"Rsc=Vsense/Isc;\n",
"disp(Rsc)\n",
"Bmin=Il/Imax\n",
"Pd=(Vin-Vout)*Isc\n",
"Icmax=2*Isc;//Maximum collector current\n",
"disp(Icmax)\n",
"Vout=0;//maximum collector to emitter voltage can be calculated as under the voltage across Q will maximum when the load is short circuited\n",
"Vcemax=Vin-Vout;\n",
"disp(Vcemax)"
   ]
   }
,
{
		   "cell_type": "markdown",
		   "metadata": {},
		   "source": [
			"## Example 10.13: design_a_regulated_power_supply.sce"
		   ]
		  },
  {
"cell_type": "code",
	   "execution_count": null,
	   "metadata": {
	    "collapsed": true
	   },
	   "outputs": [],
"source": [
"//chapter 10\n",
"//example 10.13\n",
"//page 373\n",
"Vref=7;Vsense=.65;\n",
"Voutmin=9;Voutmax=12; I1=.5;Imax=150*10^-3;\n",
"R2=10*10^3;//let assume\n",
"//(R1+R2)/R2=Vout/Vref-----------eq(1)\n",
"R1min=2*R2/7;\n",
"disp(R1min)\n",
"Voutmax=12\n",
"R1max=5*R2/7;//using eq (1)\n",
"disp(R1max)\n",
"Rsc=Vsense/Il;\n",
"disp(Rsc)\n",
"R3=(R1max*R2)/(R1max+R2)\n",
"Bmin=Il/Imax;\n",
"disp(Bmin)"
   ]
   }
,
{
		   "cell_type": "markdown",
		   "metadata": {},
		   "source": [
			"## Example 10.14: current_source_using_IC_7805.sce"
		   ]
		  },
  {
"cell_type": "code",
	   "execution_count": null,
	   "metadata": {
	    "collapsed": true
	   },
	   "outputs": [],
"source": [
"//chapter 10\n",
"//example 10.14\n",
"//page 376\n",
"Rl=10;Iq=4.3*10^-3;\n",
"Vr=5;Il=.5;\n",
"// Il=Vr/R+Iq\n",
"R=Vr/(Il-Iq);\n",
"disp(R)\n",
"power=(Il^2)*R;//wattage of reisstor\n",
"disp(power)\n",
"Vout=Vr+Il*R;//output voltage with respect to ground\n",
"disp(Vout)\n",
"Vd=2;//minimum voltage drop across IC 7805 which is called as drop out voltage is 2V\n",
"Vin=Vout+Vd;\n",
"disp(Vin)"
   ]
   }
,
{
		   "cell_type": "markdown",
		   "metadata": {},
		   "source": [
			"## Example 10.1: regulated_dc_supply.sce"
		   ]
		  },
  {
"cell_type": "code",
	   "execution_count": null,
	   "metadata": {
	    "collapsed": true
	   },
	   "outputs": [],
"source": [
"//chapter 10\n",
"//example 10.1\n",
"//page 345\n",
"Vnl=12;\n",
"Vfl=11.6;\n",
"Ilmax=100*10^-3;\n",
"LR=Vnl-Vfl;//load regulation\n",
"disp(LR)\n",
"percentage=((Vnl-Vfl)/Vfl)*100//% LOAD REGULATION\n",
"Vout=LR;\n",
"Ro=Vout/Ilmax;//output resistance\n",
"disp(Ro)"
   ]
   }
,
{
		   "cell_type": "markdown",
		   "metadata": {},
		   "source": [
			"## Example 10.2: rms_value_of_ripple.sce"
		   ]
		  },
  {
"cell_type": "code",
	   "execution_count": null,
	   "metadata": {
	    "collapsed": true
	   },
	   "outputs": [],
"source": [
"//chapter10\n",
"//example 10.2\n",
"//page347\n",
"RF=.1;//ripple factor\n",
"Vldc=10;\n",
"//ripple factor=Vrms/Vldc\n",
"Vrms=Vldc*RF;\n",
"disp(Vrms)\n",
"Vp_p=2*sqrt(2)*Vrms;//peak to peak ripple\n",
"disp(Vp_p)//volts"
   ]
   }
,
{
		   "cell_type": "markdown",
		   "metadata": {},
		   "source": [
			"## Example 10.3: series_regulator_circuit.sce"
		   ]
		  },
  {
"cell_type": "code",
	   "execution_count": null,
	   "metadata": {
	    "collapsed": true
	   },
	   "outputs": [],
"source": [
"//chapter 10\n",
"//example 10.3\n",
"//page349\n",
"V_=6;Vz=6;//potential at inverting(-) input is equal to vitual\n",
"Vr2=Vz;\n",
"Vin=30;\n",
"Rl=200;\n",
"R2=5*10^3;\n",
"R1=0;//for minimum Vout\n",
"Voutmin=((R1+R2)/R2)*Vz;//minimum output voltage\n",
"disp(Voutmin)//minimum voltage\n",
"R1=10*10^3;//for maximum output voltage\n",
"Voutmax=((R1+R2)/R2)*Vz;\n",
"disp(Voutmax)//maximum output voltage\n",
"disp(Voutmax,Voutmin)//range when potentiometer change from 0 to 10k\n",
"Vce=Vin-Voutmax;//when R1=10k and Vout=18\n",
"disp(Vce)\n",
"Ic=Voutmax/Rl;\n",
"disp(Ic)\n",
"Pd=Vce*Ic;//power\n",
"disp(Pd)//watt"
   ]
   }
,
{
		   "cell_type": "markdown",
		   "metadata": {},
		   "source": [
			"## Example 10.4: output_voltage_for_regulator.sce"
		   ]
		  },
  {
"cell_type": "code",
	   "execution_count": null,
	   "metadata": {
	    "collapsed": true
	   },
	   "outputs": [],
"source": [
"//chapter 10\n",
"//example 10.4\n",
"//page 350 figure 10.9\n",
"Vz=5;\n",
"V_=5;\n",
"R2=15;R3=15;\n",
"//V_ across R3\n",
"Vout=((R2+R3)/R3)*(V_)//voltage across R3\n",
"disp(Vout)"
   ]
   }
,
{
		   "cell_type": "markdown",
		   "metadata": {},
		   "source": [
			"## Example 10.5: power_rating.sce"
		   ]
		  },
  {
"cell_type": "code",
	   "execution_count": null,
	   "metadata": {
	    "collapsed": true
	   },
	   "outputs": [],
"source": [
"//chapter 10\n",
"// example 10.5\n",
"// page 351\n",
"R1=20\n",
"Vin=12;\n",
"Vout=0;//worst case  for masimum power across R1\n",
"VR1=Vin-Vout;\n",
"disp(VR1)\n",
"PR1=VR1^2/R1;\n",
"disp(PR1)//watt"
   ]
   }
,
{
		   "cell_type": "markdown",
		   "metadata": {},
		   "source": [
			"## Example 10.6: adjustable_voltage.sce"
		   ]
		  },
  {
"cell_type": "code",
	   "execution_count": null,
	   "metadata": {
	    "collapsed": true
	   },
	   "outputs": [],
"source": [
"//chapter 10\n",
"//eaxmple 10.6\n",
"//page 354\n",
"Iq=4.3*10^-3;\n",
"R2=100;\n",
"Vout=7;//for maximum output voltage\n",
"Vr=5;//for R2 is maximum\n",
"//Vout=Vout(1+R2/R1)+Iq*R2\n",
"R1=100/(((Vout-Iq*R2)/Vr)-1)"
   ]
   }
],
"metadata": {
		  "kernelspec": {
		   "display_name": "Scilab",
		   "language": "scilab",
		   "name": "scilab"
		  },
		  "language_info": {
		   "file_extension": ".sce",
		   "help_links": [
			{
			 "text": "MetaKernel Magics",
			 "url": "https://github.com/calysto/metakernel/blob/master/metakernel/magics/README.md"
			}
		   ],
		   "mimetype": "text/x-octave",
		   "name": "scilab",
		   "version": "0.7.1"
		  }
		 },
		 "nbformat": 4,
		 "nbformat_minor": 0
}
