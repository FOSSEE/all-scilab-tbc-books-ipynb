{
"cells": [
 {
		   "cell_type": "markdown",
	   "metadata": {},
	   "source": [
       "# Chapter 12: DA and AD converter"
	   ]
	},
{
		   "cell_type": "markdown",
		   "metadata": {},
		   "source": [
			"## Example 12.10: digital_output.sce"
		   ]
		  },
  {
"cell_type": "code",
	   "execution_count": null,
	   "metadata": {
	    "collapsed": true
	   },
	   "outputs": [],
"source": [
"//chapter 12\n",
"//example 12.10\n",
"//page 429\n",
"t1=83.33;\n",
"Vr=100*10^-3;// reference voltage\n",
"Vi=100*10^-3;//input voltage\n",
"Cf=12*10^3;//clock frequency\n",
"DIGITALVout=Cf*t1*(Vi/Vr)\n",
"disp(DIGITALVout)"
   ]
   }
,
{
		   "cell_type": "markdown",
		   "metadata": {},
		   "source": [
			"## Example 12.11: conversion_time.sce"
		   ]
		  },
  {
"cell_type": "code",
	   "execution_count": null,
	   "metadata": {
	    "collapsed": true
	   },
	   "outputs": [],
"source": [
"//chapter 12\n",
"// example 12.11\n",
"//page 431\n",
"f=1*10^6;\n",
"n=8;//8-bit ADC\n",
"T=1/f;//time period\n",
"Tc=T*(n+1);\n",
"disp(Tc)//conversion time"
   ]
   }
,
{
		   "cell_type": "markdown",
		   "metadata": {},
		   "source": [
			"## Example 12.12: maximum_frequency.sce"
		   ]
		  },
  {
"cell_type": "code",
	   "execution_count": null,
	   "metadata": {
	    "collapsed": true
	   },
	   "outputs": [],
"source": [
"//chapter 12\n",
"//example 12.12\n",
"//page 432\n",
"Tc=9*10^-6;\n",
"n=8;//8-bit ADC\n",
"fmax=1/(2*%pi*Tc*2^n);// maximum frequency\n",
"disp(fmax)//Hz"
   ]
   }
,
{
		   "cell_type": "markdown",
		   "metadata": {},
		   "source": [
			"## Example 12.1: resolutio.sce"
		   ]
		  },
  {
"cell_type": "code",
	   "execution_count": null,
	   "metadata": {
	    "collapsed": true
	   },
	   "outputs": [],
"source": [
"//chapter 12\n",
"//example 12.1\n",
"// page 413\n",
"n=8;// number of bits\n",
"Vofs=2.55;//in volts\n",
"R=2^n;//resolution\n",
"disp(R)\n",
"Resolution=Vofs/(2^8-1);\n",
"disp(Resolution)// an input change of 1LSB cause the output to change by 10mV"
   ]
   }
,
{
		   "cell_type": "markdown",
		   "metadata": {},
		   "source": [
			"## Example 12.2: final_output_voltage.sce"
		   ]
		  },
  {
"cell_type": "code",
	   "execution_count": null,
	   "metadata": {
	    "collapsed": true
	   },
	   "outputs": [],
"source": [
"//chapter 12\n",
"// example 12.2\n",
"// page 413\n",
"n=4;// 4-bit DAC\n",
"Vofs=15;\n",
"inp=0110;\n",
"resolution=Vofs/(2^n-1);\n",
"disp(resolution)\n",
"D=0*2^3+1*2^2+1*2^1+0*2^0;//Decimal value of input\n",
"disp(D)\n",
"Vout=D*resolution\n",
"disp(Vout)"
   ]
   }
,
{
		   "cell_type": "markdown",
		   "metadata": {},
		   "source": [
			"## Example 12.3: Vofs_and_Vo.sce"
		   ]
		  },
  {
"cell_type": "code",
	   "execution_count": null,
	   "metadata": {
	    "collapsed": true
	   },
	   "outputs": [],
"source": [
"// chapter 12\n",
"// example 12.3\n",
"// page 414\n",
"n=8;// 8 bit DAC\n",
"R=20*10^-3;//resolution V/LSB\n",
"inpt=10000000;\n",
"Vofs=R*(2^n-1);\n",
"disp(Vofs)\n",
"D=1*2^7+0*2^6+0*2^5+0*2^4+0*2^3+0*2^2+0*2^1+0*2^0;\n",
"disp(D)\n",
"Vout=R*D;//output voltage\n",
"disp(Vout)"
   ]
   }
,
{
		   "cell_type": "markdown",
		   "metadata": {},
		   "source": [
			"## Example 12.4: step_size_and_analog_output.sce"
		   ]
		  },
  {
"cell_type": "code",
	   "execution_count": null,
	   "metadata": {
	    "collapsed": true
	   },
	   "outputs": [],
"source": [
"//chapter\n",
"//example 12.4\n",
"// page 414\n",
"n=4;// 4-bit R-2R ladder\n",
"Vofs=5;\n",
"R=Vofs/(2^n-1);//resolution\n",
"disp(R)\n",
"D1=1*2^3+0*2^2+0*2^1+0*2^0;//for input 1000\n",
"disp(D1)\n",
"Vout1=R*D1;\n",
"disp(Vout1)\n",
"D2=1*2^3+1*2^2+1*2^1+1*2^0;// for input 1111\n",
"Vout2=R*D2;\n",
"disp(Vout2)"
   ]
   }
,
{
		   "cell_type": "markdown",
		   "metadata": {},
		   "source": [
			"## Example 12.5: full_scale_output.sce"
		   ]
		  },
  {
"cell_type": "code",
	   "execution_count": null,
	   "metadata": {
	    "collapsed": true
	   },
	   "outputs": [],
"source": [
"//chapter 12\n",
"//example 12.5\n",
"// page 414\n",
"n=12;//12-bit DAC\n",
"R=8*10^-3;// step size\n",
"Vofs=R*(2^n-1);\n",
"disp(Vofs)\n",
"RESpercentage=(R/Vofs)*100\n",
"D=0*2^11+1*2^10+0*2^9+1*2^8+0*2^7+1*2^6+1*2^5+0*2^4+1*2^3+1*2^2+0*2^1+1*2^0;// decimal value of 010101101101\n",
"disp(D)\n",
"Vout=R*D;\n",
"disp(Vout)"
   ]
   }
,
{
		   "cell_type": "markdown",
		   "metadata": {},
		   "source": [
			"## Example 12.6: value_of_resistor_and_reference.sce"
		   ]
		  },
  {
"cell_type": "code",
	   "execution_count": null,
	   "metadata": {
	    "collapsed": true
	   },
	   "outputs": [],
"source": [
"//chapter 12\n",
"//example 12.6\n",
"//page 419\n",
"Vr=10;//let suppose\n",
"n=4;//4-bit R/2R ladder\n",
"Res=.5;// given Resolution\n",
"//Resolution=(1/2^n*Vr/R)*Rf\n",
"Rf=10;//let choose\n",
"R=(1/2^n)*(Vr/Res)*Rf;\n",
"disp(R)"
   ]
   }
,
{
		   "cell_type": "markdown",
		   "metadata": {},
		   "source": [
			"## Example 12.7: resolution_and_digital_output.sce"
		   ]
		  },
  {
"cell_type": "code",
	   "execution_count": null,
	   "metadata": {
	    "collapsed": true
	   },
	   "outputs": [],
"source": [
"//chapter 12.7\n",
"// example 12.7\n",
"//page 425\n",
"n=8;//8 bit ADC\n",
"Vi=5.1;// when all output is 1\n",
"Res1=2^n;\n",
"Res2=Vi/(2^n-1);//resolution \n",
"disp(Res1,Res2)\n",
"vi=1.28;\n",
"D=vi/Res2;\n",
"disp(D)// digital output\n",
"B=(01000000)// binary equivalent of 64"
   ]
   }
,
{
		   "cell_type": "markdown",
		   "metadata": {},
		   "source": [
			"## Example 12.8: quantizing_error.sce"
		   ]
		  },
  {
"cell_type": "code",
	   "execution_count": null,
	   "metadata": {
	    "collapsed": true
	   },
	   "outputs": [],
"source": [
"//chapter 12\n",
"// example 12.8\n",
"//page 426\n",
"n=12;// 12-bit ADC\n",
"Vi=4.095;//input voltage\n",
"Qe=Vi/((2^n-1)*2);// quqntizing error\n",
"disp(Qe)"
   ]
   }
,
{
		   "cell_type": "markdown",
		   "metadata": {},
		   "source": [
			"## Example 12.9: calculate_t2.sce"
		   ]
		  },
  {
"cell_type": "code",
	   "execution_count": null,
	   "metadata": {
	    "collapsed": true
	   },
	   "outputs": [],
"source": [
"//chapter 12\n",
"// example 12.9\n",
"// page 428\n",
"t1=83.33;\n",
"Vr=100*10^-3;//reference voltage\n",
"Vi=100*10^-3;\n",
"t2=(Vi/Vr)*t1;\n",
"disp(t2)\n",
"Vi=200*10^-3;\n",
"t2=(Vi/Vr)*t1;\n",
"disp(t2)//is in msec"
   ]
   }
],
"metadata": {
		  "kernelspec": {
		   "display_name": "Scilab",
		   "language": "scilab",
		   "name": "scilab"
		  },
		  "language_info": {
		   "file_extension": ".sce",
		   "help_links": [
			{
			 "text": "MetaKernel Magics",
			 "url": "https://github.com/calysto/metakernel/blob/master/metakernel/magics/README.md"
			}
		   ],
		   "mimetype": "text/x-octave",
		   "name": "scilab",
		   "version": "0.7.1"
		  }
		 },
		 "nbformat": 4,
		 "nbformat_minor": 0
}
