{
"cells": [
 {
		   "cell_type": "markdown",
	   "metadata": {},
	   "source": [
       "# Chapter 9: Active filter"
	   ]
	},
{
		   "cell_type": "markdown",
		   "metadata": {},
		   "source": [
			"## Example 9.1: cut_off_frequency.sce"
		   ]
		  },
  {
"cell_type": "code",
	   "execution_count": null,
	   "metadata": {
	    "collapsed": true
	   },
	   "outputs": [],
"source": [
"//chapter 9\n",
"//example 9.1\n",
"//page 323\n",
"R=10*10^3;C=.001*10^-6;\n",
"Rf=100*10^3;R1=10*10^3;\n",
"fc=1/(2*3.14*R*C);//cut off frequency\n",
"disp(fc)\n",
"Ao=1+(Rf/R1);//pass band voltage gain\n",
"disp(Ao)//pass band voltage gain"
   ]
   }
,
{
		   "cell_type": "markdown",
		   "metadata": {},
		   "source": [
			"## Example 9.2: first_order_low_pass_filter.sce"
		   ]
		  },
  {
"cell_type": "code",
	   "execution_count": null,
	   "metadata": {
	    "collapsed": true
	   },
	   "outputs": [],
"source": [
"//chapter 9\n",
"//example 9.2\n",
"//page 324\n",
"Ao=2;fc=10*10^3;\n",
"Rf=10*10^3;//let choose\n",
"//Ao=1+(RF/R1)\n",
"R1=Rf/(Ao-1);\n",
"disp(R1)\n",
"C=.001*10^-6;\n",
"R=1/(2*3.14*fc*C);\n",
"disp(R)"
   ]
   }
,
{
		   "cell_type": "markdown",
		   "metadata": {},
		   "source": [
			"## Example 9.3: second_order_low_pass_filter.sce"
		   ]
		  },
  {
"cell_type": "code",
	   "execution_count": null,
	   "metadata": {
	    "collapsed": true
	   },
	   "outputs": [],
"source": [
"//chapter9\n",
"//example9.3\n",
"//page327\n",
"fc=1000;\n",
"C2=.005*10^-6;R1=33*10^3;//let assume\n",
"C3=C2;C=C2;\n",
"R3=1/(2*3.14*fc*C);\n",
"disp(R3)\n",
"R2=R3\n",
"Rf=.586*R1;\n",
"disp(Rf)"
   ]
   }
,
{
		   "cell_type": "markdown",
		   "metadata": {},
		   "source": [
			"## Example 9.4: cutoff_frequency_and_pass_band_voltage_gain.sce"
		   ]
		  },
  {
"cell_type": "code",
	   "execution_count": null,
	   "metadata": {
	    "collapsed": true
	   },
	   "outputs": [],
"source": [
"//chapter9\n",
"//example9.4\n",
"//page327\n",
"R1=12*10^3;Rf=7*10^3;R2=33*10^3;R3=33*10^3;R=33*10^3;\n",
"C3=.002*10^-6;C2=.002*10^-6;C=.002*10^-6;\n",
"fc=1/2*3.14*sqrt(R2*R3*C2*C3);\n",
"disp(fc)//cut off frequency\n",
"Af=1+(Rf/R1);//passband voltage gain(Avf)\n",
"disp(Af)"
   ]
   }
,
{
		   "cell_type": "markdown",
		   "metadata": {},
		   "source": [
			"## Example 9.5: butterworth_low_pass_filter.sce"
		   ]
		  },
  {
"cell_type": "code",
	   "execution_count": null,
	   "metadata": {
	    "collapsed": true
	   },
	   "outputs": [],
"source": [
"//chapter9\n",
"//example9.5\n",
"//page333\n",
"fc=1.5*10^3;\n",
"Ri=1;\n",
"x=sqrt(2);\n",
"Rf=(2-x);//for equal component model\n",
"disp(Rf)\n",
"Af=1+(Rf/Ri);//pass band gain of equal component model\n",
"Wc=2*3.14*fc;\n",
"C=1;\n",
"R=1/(Wc*C);\n",
"disp(R)\n",
"R1=R;R2=R;\n",
"R1=R*10^7;R2=R*10^7;//to increase R reasonable value we multiply R1 nad R2 by 10^7\n",
"disp(R1,R2)\n",
"C1=C*10^-7;C2=C*10^-7;//in order to keep value of fc unchanged we have to decrease C1 and C2 by same factor\n",
"disp(C1,C2)"
   ]
   }
,
{
		   "cell_type": "markdown",
		   "metadata": {},
		   "source": [
			"## Example 9.6: second_order_butterworth_filter.sce"
		   ]
		  },
  {
"cell_type": "code",
	   "execution_count": null,
	   "metadata": {
	    "collapsed": true
	   },
	   "outputs": [],
"source": [
"//chapter 9\n",
"//example9.6\n",
"//page 335\n",
"fc=1.5*10^3;\n",
"x=1.414;//damping factor\n",
"C1=2/x;\n",
"disp(C1)\n",
"C2=x/2;\n",
"disp(C2)\n",
"R1=1;R2=1;\n",
"Rf=2;\n",
"Wc=1;\n",
"Wc=2*3.14*fc;\n",
"disp(Wc)\n",
"R=R1/Wc;//to keep C1 nad C2 unchanged\n",
"disp(R)\n",
"Rf=2*R\n",
"R1=R*10^7;R2=R*10^7;//for maiking filter for practical use\n",
"disp(R1,R2)\n",
"C1=C1*10^-7;C2=C2*10^-7;//to fc remain unchanged\n",
"disp(C1,C2)"
   ]
   }
],
"metadata": {
		  "kernelspec": {
		   "display_name": "Scilab",
		   "language": "scilab",
		   "name": "scilab"
		  },
		  "language_info": {
		   "file_extension": ".sce",
		   "help_links": [
			{
			 "text": "MetaKernel Magics",
			 "url": "https://github.com/calysto/metakernel/blob/master/metakernel/magics/README.md"
			}
		   ],
		   "mimetype": "text/x-octave",
		   "name": "scilab",
		   "version": "0.7.1"
		  }
		 },
		 "nbformat": 4,
		 "nbformat_minor": 0
}
