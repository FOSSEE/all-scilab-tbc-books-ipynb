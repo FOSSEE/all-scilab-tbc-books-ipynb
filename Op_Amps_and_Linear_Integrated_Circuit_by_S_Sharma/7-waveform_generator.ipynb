{
"cells": [
 {
		   "cell_type": "markdown",
	   "metadata": {},
	   "source": [
       "# Chapter 7: waveform generator"
	   ]
	},
{
		   "cell_type": "markdown",
		   "metadata": {},
		   "source": [
			"## Example 7.1: calculate_Vlt_Vut_and_frequency_of_oscillation.sce"
		   ]
		  },
  {
"cell_type": "code",
	   "execution_count": null,
	   "metadata": {
	    "collapsed": true
	   },
	   "outputs": [],
"source": [
"//chapter 7\n",
"//example 7.1\n",
"//page 259\n",
"R1=86*10^3;R2=100*10^3;\n",
"Vsat=15;Rf=100*10^3;\n",
"C=.1*10^-6;\n",
"Vut=(R1*Vsat)/(R1+R2);\n",
"disp(Vut)// upper threshold\n",
"Vlt=(R1*(-Vsat))/(R1+R2);\n",
"disp(Vlt)//lower threshold\n",
"fo=1/(2*Rf*C)*log((Vsat-Vlt)/(Vsat-Vut));\n",
"disp(fo)"
   ]
   }
,
{
		   "cell_type": "markdown",
		   "metadata": {},
		   "source": [
			"## Example 7.2: T_equal_to_2RfC.sce"
		   ]
		  },
  {
"cell_type": "code",
	   "execution_count": null,
	   "metadata": {
	    "collapsed": true
	   },
	   "outputs": [],
"source": [
"//chapter7\n",
"// example 7.2\n",
"//page 259\n",
"R2=%s\n",
"R1=.86*R2\n",
"Vsat=%s\n",
"Rf=%s;\n",
"C=%s;\n",
"y=(Vsat-(R1*(-Vsat))/(R1+R2))/(Vsat-(R1*Vsat)/(R1+R2))\n",
"g=2.72;//g=y=5.0592/1.86\n",
"T=2*Rf*C*log(g)// Rf=C=%s\n",
"disp(T)// %s*%s=s same as 2*Rf*C=2s"
   ]
   }
,
{
		   "cell_type": "markdown",
		   "metadata": {},
		   "source": [
			"## Example 7.3: frequency_of_oscillation.sce"
		   ]
		  },
  {
"cell_type": "code",
	   "execution_count": null,
	   "metadata": {
	    "collapsed": true
	   },
	   "outputs": [],
"source": [
"// chapter 7\n",
"// example 7.3\n",
"// page 276\n",
"R3=6000;R4=2000;//given\n",
"R=5100;\n",
"C=.001*10^-6;\n",
"A=1+(R3/R4);\n",
"if A>3 then \n",
"  f=1/(2*3.14*R*C)\n",
"   disp(f)//frequency of oscillation\n",
" end \n",
" "
   ]
   }
,
{
		   "cell_type": "markdown",
		   "metadata": {},
		   "source": [
			"## Example 7.4: wien_bridge_oscillator.sce"
		   ]
		  },
  {
"cell_type": "code",
	   "execution_count": null,
	   "metadata": {
	    "collapsed": true
	   },
	   "outputs": [],
"source": [
"//chapter 7\n",
"//example 7.4\n",
"//page 277\n",
"C=.05*10^-6;// let choose capacitor C<1uf\n",
"C1=C;C2=C;\n",
"f=1000;\n",
"R=1/(2*3.14*f*C);\n",
"disp(R)\n",
"//for proper operation gain of non inverting op-amp must be 3\n",
"R4=%s\n",
"R3=R4*(3-1);//1+R3/R4=3\n",
"disp(R3)\n",
"R4=10000;// assume\n",
"R3=2*R4\n",
"disp(R3,R4)"
   ]
   }
,
{
		   "cell_type": "markdown",
		   "metadata": {},
		   "source": [
			"## Example 7.5: triangular_waveform.sce"
		   ]
		  },
  {
"cell_type": "code",
	   "execution_count": null,
	   "metadata": {
	    "collapsed": true
	   },
	   "outputs": [],
"source": [
"//chapter 7\n",
"//example 7.5\n",
"// page 280\n",
"Vsat=15;\n",
"Vout=7.5;\n",
"fo=5000;\n",
"R2=10*10^3;//let assume (use a 50k POT)\n",
"R3=(2*Vsat*R2)/Vout;\n",
"disp(R3)\n",
"C=.01*10^-6;//let assume\n",
"R1=R3/(4*C*R2*fo);//fo=R3/4R1C1R2\n",
"disp(R1)"
   ]
   }
,
{
		   "cell_type": "markdown",
		   "metadata": {},
		   "source": [
			"## Example 7.6: output_frequency.sce"
		   ]
		  },
  {
"cell_type": "code",
	   "execution_count": null,
	   "metadata": {
	    "collapsed": true
	   },
	   "outputs": [],
"source": [
"//chapter 7\n",
"//example 7.6\n",
"//page 285, figure 7.40\n",
"R1=10000;R2=5100;R3=10000;\n",
"C1=.001*10^-6;\n",
"V=10;\n",
"V5=(V*R3)/(R3+R2);\n",
"disp(V5)\n",
"fo=2.4*(V-V5)/(R1*C1*V);\n",
"disp(fo)"
   ]
   }
,
{
		   "cell_type": "markdown",
		   "metadata": {},
		   "source": [
			"## Example 7.7: monoshot_using_741.sce"
		   ]
		  },
  {
"cell_type": "code",
	   "execution_count": null,
	   "metadata": {
	    "collapsed": true
	   },
	   "outputs": [],
"source": [
"//chapter 7\n",
"//example 7.7\n",
"// page 286,figure 7.42\n",
"R1=10000;R2=10000;\n",
"Vd1=.7;//diode drop\n",
"Vsat=12;//supply voltage\n",
"TP=2*10^-6;\n",
"C=.5*10^-9;\n",
"B=R1/(R1+R2)\n",
"//T=RCln((1+Vd1/Vsat)/(1-B))\n",
"k=((1+(Vd1/Vsat))/(1-B))\n",
"h=log(k)\n",
"R=TP/(C*h)"
   ]
   }
],
"metadata": {
		  "kernelspec": {
		   "display_name": "Scilab",
		   "language": "scilab",
		   "name": "scilab"
		  },
		  "language_info": {
		   "file_extension": ".sce",
		   "help_links": [
			{
			 "text": "MetaKernel Magics",
			 "url": "https://github.com/calysto/metakernel/blob/master/metakernel/magics/README.md"
			}
		   ],
		   "mimetype": "text/x-octave",
		   "name": "scilab",
		   "version": "0.7.1"
		  }
		 },
		 "nbformat": 4,
		 "nbformat_minor": 0
}
