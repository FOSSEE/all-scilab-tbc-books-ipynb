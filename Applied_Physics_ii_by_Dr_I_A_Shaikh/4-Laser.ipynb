{
"cells": [
 {
		   "cell_type": "markdown",
	   "metadata": {},
	   "source": [
       "# Chapter 4: Laser"
	   ]
	},
{
		   "cell_type": "markdown",
		   "metadata": {},
		   "source": [
			"## Example 4.1: Find_ratio_of_population_of_two_energy_states.sce"
		   ]
		  },
  {
"cell_type": "code",
	   "execution_count": null,
	   "metadata": {
	    "collapsed": true
	   },
	   "outputs": [],
"source": [
"//Chapter-4,Example 4_1,Page 4-27\n",
"clc()\n",
"\n",
"//Given Data:\n",
"lam=694.3*10^-9         //Wavelength in meter\n",
"T=300                   //Temperature in Kelvin\n",
"\n",
"h=6.63*10^-34           //Planck's Constant\n",
"c=3*10^8                //Velocity of light\n",
"K=1.38*10^-21           //Boltzmann Constant\n",
"\n",
"//Calculations:\n",
"delE= h*c/lam           //Energy difference between two energy states N and N0\n",
"\n",
"//N=N0*e^-delE/(K*T)\n",
"R=%e^(-delE/(K*T))      //R=Ratio of N and N0 i.e.(R=N/N0)\n",
"\n",
"//(Printing mistake in textbook)\n",
"//instead of e^-.692, it has taken e^-69.2\n",
"\n",
"printf('The ratio of population of two energy states is = %.8f \n',R)\n",
"printf(' (calculation mistake in book)')"
   ]
   }
,
{
		   "cell_type": "markdown",
		   "metadata": {},
		   "source": [
			"## Example 4.2: Find_number_of_photons_emitted_per_second.sce"
		   ]
		  },
  {
"cell_type": "code",
	   "execution_count": null,
	   "metadata": {
	    "collapsed": true
	   },
	   "outputs": [],
"source": [
"//Chapter-4,Example 4_2,Page 4-28\n",
"clc()\n",
"\n",
"//Given Data:\n",
"lam=6328*10^-10         //Wavelength in meter\n",
"P=4.5*10^-3             //Power in watts\n",
"h=6.63*10^-34           //Planck's Constant\n",
"c=3*10^8                //Velocity of light\n",
"\n",
"//Calculations:\n",
"delE= h*c/lam           //Energy difference\n",
"//N*delE=P\n",
"N=P/delE                //number of photons emitted per second\n",
"\n",
"printf('Number of photons emitted per second is =%.1f \n',N)\n",
""
   ]
   }
,
{
		   "cell_type": "markdown",
		   "metadata": {},
		   "source": [
			"## Example 4.3: Calculate_number_of_photons_in_each_pulse.sce"
		   ]
		  },
  {
"cell_type": "code",
	   "execution_count": null,
	   "metadata": {
	    "collapsed": true
	   },
	   "outputs": [],
"source": [
"//Chapter-4,Example 4_3,Page 4-29\n",
"clc()\n",
"\n",
"//Given Data:\n",
"lam=780*10^-9           //Wavelength of photon in meter\n",
"P=20*10^-3              //Power of each pulse in watts\n",
"t=10*10^-9              //Duration of each pulse\n",
"h=6.63*10^-34           //Planck's Constant\n",
"c=3*10^8                //Velocity of light\n",
"\n",
"//Calculations:\n",
"delE= h*c/lam           //Energy of each photon\n",
"E=P*t                   //Energy of each pulse\n",
"\n",
"N=E/delE                //Number of photons in each pulse\n",
"printf('Number of photons in each pulse is =%.1f \n',N)"
   ]
   }
],
"metadata": {
		  "kernelspec": {
		   "display_name": "Scilab",
		   "language": "scilab",
		   "name": "scilab"
		  },
		  "language_info": {
		   "file_extension": ".sce",
		   "help_links": [
			{
			 "text": "MetaKernel Magics",
			 "url": "https://github.com/calysto/metakernel/blob/master/metakernel/magics/README.md"
			}
		   ],
		   "mimetype": "text/x-octave",
		   "name": "scilab",
		   "version": "0.7.1"
		  }
		 },
		 "nbformat": 4,
		 "nbformat_minor": 0
}
