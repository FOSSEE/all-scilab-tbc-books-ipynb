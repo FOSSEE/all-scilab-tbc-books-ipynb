{
"cells": [
 {
		   "cell_type": "markdown",
	   "metadata": {},
	   "source": [
       "# Chapter 5: Foundations of Quantum Mechanics"
	   ]
	},
{
		   "cell_type": "markdown",
		   "metadata": {},
		   "source": [
			"## Example 5.10: Calculate_energies.sce"
		   ]
		  },
  {
"cell_type": "code",
	   "execution_count": null,
	   "metadata": {
	    "collapsed": true
	   },
	   "outputs": [],
"source": [
"//Chapter-5,Example 5_10,Page 5-28\n",
"clc()\n",
"\n",
"//Given Values:\n",
"me=9.108*10^-31      //mass of electron\n",
"mp=1.66*10^-27       //mass of proton\n",
"h=6.625*10^-34       //Planck's constant\n",
"lam=1*10^-10         //wavelength of electron and proton\n",
"\n",
"//Calculations:\n",
"\n",
"//we know,  lam=h/sqrt(2*m*E)     //de Broglie wavelength\n",
"Ee1=h^2/(2*me*lam^2)       //Energy of electron in joules\n",
"Ee=Ee1/(1.6*10^-19)        //Energy of electron in electron-Volts\n",
"printf('Energy of electron is =%.2f eV \n \n',Ee)\n",
"\n",
"Ep1=h^2/(2*mp*lam^2)       //Energy of photon in joules\n",
"Ep=Ep1/(1.6*10^-19)        //Energy of photon in electron-Volts\n",
"printf(' Energy of photon is =%.2f eV \n \n',Ep)"
   ]
   }
,
{
		   "cell_type": "markdown",
		   "metadata": {},
		   "source": [
			"## Example 5.11: Compare_de_Broglie_wavelengths.sce"
		   ]
		  },
  {
"cell_type": "code",
	   "execution_count": null,
	   "metadata": {
	    "collapsed": true
	   },
	   "outputs": [],
"source": [
"//Chapter-5,Example 5_11,Page 5-29\n",
"clc()\n",
"\n",
"//Given Values:\n",
"m1=50*10^-9         //mass of particle in kg\n",
"m2=9.1*10^-31       //mass of electron in kg\n",
"h=6.625*10^-34      //Planck's constant\n",
"v1=1                //velocity of particle\n",
"v2=3*10^6           //velocity of electron\n",
"\n",
"//Calculations:\n",
"lam1=h/(m1*v1)*10^10        //de Broglie wavelength\n",
"printf('de Broglie wavelength associated with particle is =%.20f Angstrom \n \n',lam1)\n",
"\n",
"lam2=h/(m2*v2)*10^10        //de Broglie wavelength\n",
"printf(' de Broglie wavelength associated with electron is =%.3f Angstrom \n \n',lam2)\n",
"\n",
"printf(' Wavelength of electron is measurable.')"
   ]
   }
,
{
		   "cell_type": "markdown",
		   "metadata": {},
		   "source": [
			"## Example 5.12: Calculate_de_Broglie_wavelength.sce"
		   ]
		  },
  {
"cell_type": "code",
	   "execution_count": null,
	   "metadata": {
	    "collapsed": true
	   },
	   "outputs": [],
"source": [
"//Chapter-5,Example 5_12,Page 5-29\n",
"clc()\n",
"\n",
"//Given Values:\n",
"me=9.1*10^-31           //mass of electron in kg\n",
"h=6.63*10^-34          //Planck's constant\n",
"\n",
"//Calculations:\n",
"\n",
"E1=2*10^3              //Energy in eV of electron\n",
"E=E1*(1.6*10^-19)      //Energy in joules\n",
" \n",
"lam=h/sqrt(2*me*E)      //wavelength of electron\n",
"printf('Wavelength of electron is =%.13f m \n',lam)"
   ]
   }
,
{
		   "cell_type": "markdown",
		   "metadata": {},
		   "source": [
			"## Example 5.13: Calculate_momentum_and_energies.sce"
		   ]
		  },
  {
"cell_type": "code",
	   "execution_count": null,
	   "metadata": {
	    "collapsed": true
	   },
	   "outputs": [],
"source": [
"//Chapter-5,Example 5_13,Page 5-30\n",
"clc()\n",
"\n",
"//Given Values:\n",
"me=9.1*10^-31           //mass of electron\n",
"h=6.63*10^-34           //Planck's constant\n",
"lam=2*10^-10            //wavelength of electron and photon\n",
"\n",
"//Calculations:\n",
"p1=h/lam                //momentum of electron\n",
"printf('Momentum of electron is =%.27f kg.m/s \n \n',p1)\n",
"\n",
"Ee=p1^2/(2*me)          //Energy of electron in joules\n",
"printf(' Energy of electron is =%.21f Joules \n \n',Ee)\n",
"\n",
"p2=h/lam                //momentum of photon\n",
"printf(' Momentum of photon is =%.27f kg.m/s \n \n',p2)\n",
"\n",
"c=3*10^8                //Velocity of light\n",
"Ep=h*c/lam              //Energy of photon in joules\n",
"printf(' Energy of photon is =%.19f Joules \n \n',Ep)\n",
"\n",
""
   ]
   }
,
{
		   "cell_type": "markdown",
		   "metadata": {},
		   "source": [
			"## Example 5.14_1: Find_uncertainty_in_position.sce"
		   ]
		  },
  {
"cell_type": "code",
	   "execution_count": null,
	   "metadata": {
	    "collapsed": true
	   },
	   "outputs": [],
"source": [
"//Chapter-5,Example 5_14_1,Page 5-36\n",
"clc()\n",
"\n",
"//Given Values:\n",
"v=900                  //velocity of electron in m/s\n",
"delv=v*0.001/100       //uncertainity in velocity\n",
"h=6.63*10^-34          //Planck's constant\n",
"m=9.1*10^-31           //mass of an electron\n",
"\n",
"//Calculations:\n",
"delp=m*delv            //uncertainity in the measured values of momentum\n",
"\n",
"//using heisenberg's uncertainity formula\n",
"delx=h/(2*%pi*delp)    //uncertainity in its position\n",
"printf('Uncertainity with which position of electron can be located is >=%.5f m \n',delx)"
   ]
   }
,
{
		   "cell_type": "markdown",
		   "metadata": {},
		   "source": [
			"## Example 5.14_2: Calculate_de_Broglie_wavelength.sce"
		   ]
		  },
  {
"cell_type": "code",
	   "execution_count": null,
	   "metadata": {
	    "collapsed": true
	   },
	   "outputs": [],
"source": [
"//Chapter-5,Example 5_14_2,Page 5-37\n",
"clc()\n",
"\n",
"//Given Values:\n",
"m=1.6*10^-27        //mass of proton in kg\n",
"h=6.63*10^-34       //Planck's constant\n",
"v=3/20*10^8         //velocity of particle\n",
"\n",
"//Calculations:\n",
"lam=h/(m*v)        //de Broglie wavelength\n",
"printf('de Broglie wavelength associated with proton is =%.18f m \n \n',lam)"
   ]
   }
,
{
		   "cell_type": "markdown",
		   "metadata": {},
		   "source": [
			"## Example 5.14_3: Calculate_wavelength.sce"
		   ]
		  },
  {
"cell_type": "code",
	   "execution_count": null,
	   "metadata": {
	    "collapsed": true
	   },
	   "outputs": [],
"source": [
"//Chapter-5,Example 5_14_3,Page 5-37\n",
"clc()\n",
"\n",
"//Given Values:\n",
"m=1.676*10^-27        //mass of neutron\n",
"h=6.634*10^-34        //Planck's constant\n",
"\n",
"//Calculations:\n",
"E1=0.025             //Energy in eV of neutron\n",
"E=E1*(1.6*10^-19)    //Energy in joules\n",
"//As E=m*v^2/2\n",
"v=sqrt(2*E/m)        //Velocity of neutron beam\n",
"\n",
"lam=h/(m*v)          //wavelength of a beam of neutron\n",
"printf('wavelength of a beam of neutron is =%.13f m \n',lam)"
   ]
   }
,
{
		   "cell_type": "markdown",
		   "metadata": {},
		   "source": [
			"## Example 5.14_4: Find_percent_of_uncertainty_in_momentum.sce"
		   ]
		  },
  {
"cell_type": "code",
	   "execution_count": null,
	   "metadata": {
	    "collapsed": true
	   },
	   "outputs": [],
"source": [
"//Chapter-5,Example 5_14_4,Page 5-37\n",
"clc()\n",
"\n",
"//Given Values:\n",
"delx=10*10^-9          //uncertainity in position of electron\n",
"h=6.63*10^-34          //Planck's constant\n",
"m=9.1*10^-31           //mass of an electron\n",
"E=10^3*1.6*10^-19      //Energy of electron in joules\n",
"\n",
"//Calculations:\n",
"p=sqrt(2*m*E)          //momentum of electron\n",
"//using heisenberg's uncertainity formula\n",
"delp=h/(2*%pi*delx)    //uncertainity in the momentum\n",
"\n",
"P=delp/p*100           //percentage of uncertainity in momentum\n",
"printf('Percentage of uncertainity in momentum of electron is =%.5f percent \n',P)"
   ]
   }
,
{
		   "cell_type": "markdown",
		   "metadata": {},
		   "source": [
			"## Example 5.14: Compare_energies.sce"
		   ]
		  },
  {
"cell_type": "code",
	   "execution_count": null,
	   "metadata": {
	    "collapsed": true
	   },
	   "outputs": [],
"source": [
"//Chapter-5,Example 5_14,Page 5-31\n",
"clc()\n",
"\n",
"//Given Values:\n",
"m=1.676*10^-27          //mass of neutron\n",
"h=6.625*10^-34          //Planck's constant\n",
"lam=1*10^-10            //wavelength of neutron\n",
"\n",
"//Calculations:\n",
"C=3*10^8                //Velocity of light\n",
"Ep1=h*C/lam             //Energy of photon in joules\n",
"E1=Ep1/(1.6*10^-19)     //Energy of photon in electron-Volts\n",
"printf('Energy of photon is =%.2f eV \n \n',E1)\n",
"\n",
"//we know,  lam=h/sqrt(2*m*E)     //de Broglie wavelength\n",
"En1=h^2/(2*m*lam^2)     //Energy of neutron in joules\n",
"E2=En1/(1.6*10^-19)     //Energy of neutron in electron-Volts\n",
"printf(' Energy of neutron is =%.3f eV \n \n',E2)\n",
"\n",
"R=E1/E2                 //Ratio of energies of proton to neutron\n",
"printf(' Ratio of energies of proton to neutron is =%.0f \n \n',R)"
   ]
   }
,
{
		   "cell_type": "markdown",
		   "metadata": {},
		   "source": [
			"## Example 5.15: Calculate_KE_phase_and_group_velocity.sce"
		   ]
		  },
  {
"cell_type": "code",
	   "execution_count": null,
	   "metadata": {
	    "collapsed": true
	   },
	   "outputs": [],
"source": [
"//Chapter-5,Example 5_15,Page 5-31\n",
"clc()\n",
"\n",
"//Given Values:\n",
"m=1.676*10^-27          //mass of neutron\n",
"h=6.63*10^-34           //Planck's constant\n",
"lam=2*10^-12            //wavelength of neutron\n",
"c=3*10^8                //Velocity of light\n",
"\n",
"//Calculations:\n",
"p=h/lam                 //momentum of neutron\n",
"KE=p^2/(2*m)            //Kinetic Energy of neutron in joules\n",
"printf('Kinetic Energy of electron is =%.21f Joules \n \n',KE)\n",
"\n",
"//velocity of particle is same as group velocity. Thus,\n",
"vg=p/m                  //group velocity\n",
"printf(' group velocity of neutron is =%.0f m/s \n \n',vg)\n",
"\n",
"//using, vg*vp=c^2\n",
"vp=c^2/vg               //phase velocity\n",
"printf(' phase velocity of neutron is =%.0f m/s \n \n',vp)"
   ]
   }
,
{
		   "cell_type": "markdown",
		   "metadata": {},
		   "source": [
			"## Example 5.16: Calculate_de_Broglie_wavelength_and_group_and_phase_velocity.sce"
		   ]
		  },
  {
"cell_type": "code",
	   "execution_count": null,
	   "metadata": {
	    "collapsed": true
	   },
	   "outputs": [],
"source": [
"//Chapter-5,Example 5_16,Page 5-32\n",
"clc()\n",
"\n",
"//Given Values:\n",
"m=1.157*10^-30         //mass of particle in kg\n",
"h=6.63*10^-34          //Planck's constant\n",
"c=3*10^8               //Velocity of light\n",
"\n",
"//Calculations:\n",
"E1=80                  //Energy in eV of particle\n",
"E=E1*(1.6*10^-19)      //Energy in joules\n",
" \n",
"lam=h/sqrt(2*m*E)      //wavelength of particle\n",
"printf('Wavelength of particle is =%.13f m \n \n',lam)\n",
"\n",
"//Now,\n",
"vg=h/(lam*m)           //group velocity\n",
"printf(' Group velocity of particle is =%.0f m/s \n \n',vg)\n",
"\n",
"//using, vg*vp=c^2\n",
"vp=c^2/vg              //phase velocity\n",
"printf(' Phase velocity of particle is =%.0f m/s \n \n',vp)"
   ]
   }
,
{
		   "cell_type": "markdown",
		   "metadata": {},
		   "source": [
			"## Example 5.17: Find_accuracy_in_position.sce"
		   ]
		  },
  {
"cell_type": "code",
	   "execution_count": null,
	   "metadata": {
	    "collapsed": true
	   },
	   "outputs": [],
"source": [
"//Chapter-5,Example 5_17,Page 5-33\n",
"clc()\n",
"\n",
"//Given Values:\n",
"v=400                //velocity of electron in m/s\n",
"delv=0.01/100        //uncertainity in velocity\n",
"h=6.63*10^-34        //Planck's constant\n",
"m=9.11*10^-31        //mass of an electron\n",
"\n",
"//Calculations:\n",
"p=m*v                //momentum of an electron\n",
"delp=p*delv          //uncertainity in the measured values of momentum\n",
"\n",
"//using heisenberg's uncertainity formula\n",
"delx=h/(2*%pi*delp)    //accuracy in its position\n",
"printf('Accuracy in its position is >=%.6f m \n \n',delx)"
   ]
   }
,
{
		   "cell_type": "markdown",
		   "metadata": {},
		   "source": [
			"## Example 5.18: Calculate_minimum_uncertainty_in_velocity.sce"
		   ]
		  },
  {
"cell_type": "code",
	   "execution_count": null,
	   "metadata": {
	    "collapsed": true
	   },
	   "outputs": [],
"source": [
"//Chapter-5,Example 5_18,Page 5-33\n",
"clc()\n",
"\n",
"//Given Values:\n",
"delx=10^-8             //maximum uncertainity in position of electron\n",
"h=6.63*10^-34          //Planck's constant\n",
"m=9.1*10^-31           //mass of an electron\n",
"\n",
"//Calculations:\n",
"//using heisenberg's uncertainity formula\n",
"delp=h/(2*%pi*delx)    //minimum uncertainity in the measured values of momentum\n",
"\n",
"delv=delp/m            //minimum uncertainity in the velocity of an electron\n",
"printf('Minimum uncertainity in the velocity of an electron is =%.0f m/s \n \n',delv)"
   ]
   }
,
{
		   "cell_type": "markdown",
		   "metadata": {},
		   "source": [
			"## Example 5.19: Find_minimum_space_required.sce"
		   ]
		  },
  {
"cell_type": "code",
	   "execution_count": null,
	   "metadata": {
	    "collapsed": true
	   },
	   "outputs": [],
"source": [
"//Chapter-5,Example 5_19,Page 5-34\n",
"clc()\n",
"\n",
"//Given Values:\n",
"delv=2*10^4            //uncertainity in velocity\n",
"h=6.63*10^-34          //Planck's constant\n",
"m=9.1*10^-31           //mass of an electron\n",
"\n",
"//Calculations:\n",
"delp=m*delv            //uncertainity in the measured values of momentum\n",
"\n",
"//using heisenberg's uncertainity formula\n",
"delx=h/(2*%pi*delp)    //accuracy in its position\n",
"printf('Minimum space required by electron to be confined in an atom is >=%.12f m \n \n',delx)"
   ]
   }
,
{
		   "cell_type": "markdown",
		   "metadata": {},
		   "source": [
			"## Example 5.1: Calculate_de_Broglie_wavelength.sce"
		   ]
		  },
  {
"cell_type": "code",
	   "execution_count": null,
	   "metadata": {
	    "collapsed": true
	   },
	   "outputs": [],
"source": [
"//Chapter-5,Example 5_1,Page 5-23\n",
"clc()\n",
"\n",
"//Given Values:\n",
"m=6.68*10^-27       //mass of alpha particle\n",
"V=30*10^3           //potential difference\n",
"e=1.6*10^-19        //charge of an electron\n",
"q=2*e               //Charge of alpha particle\n",
"h=6.63*10^-34       //Planck's constant\n",
"\n",
"//Calculations:\n",
"lam=h/sqrt(2*m*q*V)     //de Broglie wavelength\n",
"printf('de Broglie wavelength associated with alpha particle is =%.16f m \n',lam)"
   ]
   }
,
{
		   "cell_type": "markdown",
		   "metadata": {},
		   "source": [
			"## Example 5.20: Find_uncertainty_in_energy.sce"
		   ]
		  },
  {
"cell_type": "code",
	   "execution_count": null,
	   "metadata": {
	    "collapsed": true
	   },
	   "outputs": [],
"source": [
"//Chapter-5,Example 5_20,Page 5-34\n",
"clc()\n",
"\n",
"//Given Values:\n",
"delt=1.4*10^-10        //uncertainity in time spent by nucleus in excited state\n",
"h=6.63*10^-34          //Planck's constant\n",
"\n",
"//Calculations:\n",
"\n",
"//using, delE*delt>= h/(2*%pi)\n",
"delE1= h/(2*%pi*delt)       //uncertaininty in its energy in excited state in joules\n",
"delE=delE1/(1.6*10^-19)     //uncertaininty in its energy in excited state in eV\n",
"printf('Uncertaininty in its energy in excited state is >=%.8f eV \n',delE)"
   ]
   }
,
{
		   "cell_type": "markdown",
		   "metadata": {},
		   "source": [
			"## Example 5.21: Find_energies.sce"
		   ]
		  },
  {
"cell_type": "code",
	   "execution_count": null,
	   "metadata": {
	    "collapsed": true
	   },
	   "outputs": [],
"source": [
"//Chapter-5,Example 5_21,Page 5-35\n",
"clc()\n",
"\n",
"//Given Values:\n",
"a=2*10^-10             //width of potential well in m\n",
"h=6.63*10^-34          //Planck's constant\n",
"m=9.1*10^-31           //mass of an electron\n",
"\n",
"//Calculations:\n",
"//we know equation for energy of an electron\n",
"n0=1\n",
"E01=n0^2*h^2/(8*m*a^2)   //Energy in ground state\n",
"E0=E01/(1.6*10^-19)      //Energy in eV\n",
"printf('Energy of an electron in ground state is=%.3f eV \n \n',E0)\n",
"\n",
"n1=2\n",
"E11=n1^2*h^2/(8*m*a^2)   //Energy in first excited state\n",
"E1=E11/(1.6*10^-19)      //Energy in eV\n",
"printf(' Energy of an electron in first excited state is=%.2f eV \n \n',E1)\n",
"\n",
"\n",
"n2=3\n",
"E21=n2^2*h^2/(8*m*a^2)   //Energy in second excited state\n",
"E2=E21/(1.6*10^-19)      //Energy in eV\n",
"printf(' Energy of an electron in second excited state is=%.2f eV \n',E2)"
   ]
   }
,
{
		   "cell_type": "markdown",
		   "metadata": {},
		   "source": [
			"## Example 5.22: calculate_probability_of_finding_particle.sce"
		   ]
		  },
  {
"cell_type": "code",
	   "execution_count": null,
	   "metadata": {
	    "collapsed": true
	   },
	   "outputs": [],
"source": [
"\n",
"//Chapter-5,Example 5_22,Page 5-36\n",
"clc()\n",
"\n",
"//Given Values:\n",
"a=25*10^-10               //width of well\n",
"delx=5*10^-10             //uncertainity in position of particle\n",
"n=1                       //ground state\n",
"\n",
"//calculation:\n",
"x1=a/2\n",
"psi1=sqrt(2/a)*sin(n*%pi/a*x1)\n",
"P1=(psi1^2)*delx             //Probability of finding particle at distance of x1\n",
"printf('Probability of finding particle at a distance of x1 is =%.2f \n \n',P1)\n",
"\n",
"x2=a/3\n",
"psi2=sqrt(2/a)*sin(n*%pi/a*x2)\n",
"P2=(psi2^2)*delx             //Probability of finding particle at distance of x2\n",
"printf(' Probability of finding particle at a distance of x2 is =%.2f \n',P2)\n",
"printf(' (There is print mistake in book). \n \n')\n",
"\n",
"x3=a\n",
"psi3=sqrt(2/a)*sin(n*%pi/a*x3)\n",
"P3=(psi3^2)*delx             //Probability of finding particle at distance of x3\n",
"printf(' Probability of finding particle at a distance of x3 is =%.2f \n',P3)"
   ]
   }
,
{
		   "cell_type": "markdown",
		   "metadata": {},
		   "source": [
			"## Example 5.2: Calculate_de_Broglie_wavelength.sce"
		   ]
		  },
  {
"cell_type": "code",
	   "execution_count": null,
	   "metadata": {
	    "collapsed": true
	   },
	   "outputs": [],
"source": [
"//Chapter-5,Example 5_2,Page 5-23\n",
"clc()\n",
"\n",
"//Given Values:\n",
"m=1                 //mass of given particle in kg\n",
"h=6.63*10^-34       //Planck's constant\n",
"v=1*10^3            //velocity of particle\n",
"\n",
"//Calculations:\n",
"lam=h/(m*v)         //de Broglie wavelength\n",
"printf('de Broglie wavelength associated with particle is =%.40f m \n \n',lam)\n",
"printf(' This wavelength is too small for any practical significance.')"
   ]
   }
,
{
		   "cell_type": "markdown",
		   "metadata": {},
		   "source": [
			"## Example 5.3: Calculate_de_Broglie_wavelength.sce"
		   ]
		  },
  {
"cell_type": "code",
	   "execution_count": null,
	   "metadata": {
	    "collapsed": true
	   },
	   "outputs": [],
"source": [
"//Chapter-5,Example 5_3,Page 5-24\n",
"clc()\n",
"\n",
"//Given Values:\n",
"m1=40*10^-3         //mass of bullet in kg\n",
"m2=9.1*10^-31       //mass of electron in kg\n",
"h=6.63*10^-34       //Planck's constant\n",
"v=1100              //velocity of bullet and electron\n",
"\n",
"//Calculations:\n",
"lam1=h/(m1*v)        //de Broglie wavelength\n",
"printf('de Broglie wavelength associated with bullet is =%.36f m \n \n',lam1)\n",
"\n",
"lam2=h/(m2*v)        //de Broglie wavelength\n",
"printf(' de Broglie wavelength associated with electron is =%.10f m \n \n',lam2)\n",
"\n",
"printf(' Wavelength of bullet is too small.Hence it can not be measured with help of diffraction effect.')"
   ]
   }
,
{
		   "cell_type": "markdown",
		   "metadata": {},
		   "source": [
			"## Example 5.4: Find_Glancing_angle.sce"
		   ]
		  },
  {
"cell_type": "code",
	   "execution_count": null,
	   "metadata": {
	    "collapsed": true
	   },
	   "outputs": [],
"source": [
"//Chapter-5,Example 5_4,Page 5-24\n",
"clc()\n",
"\n",
"//Given Values:\n",
"V=100            //potential difference\n",
"d=2.15*10^-10    //lattice spacing\n",
"\n",
"//Calculations:\n",
"lam=12.26*10^-10/(sqrt(V))          //wavelength associated with electron in meter\n",
"\n",
"//using bragg's law for first order  lam=2d sin(theta)\n",
"theta=asin(lam/(2*d))*180/%pi       //glancing angle in degrees\n",
"printf('Glancing angle at which first reflection occurs is =%.2f degrees \n',theta)"
   ]
   }
,
{
		   "cell_type": "markdown",
		   "metadata": {},
		   "source": [
			"## Example 5.5: Find_Energy.sce"
		   ]
		  },
  {
"cell_type": "code",
	   "execution_count": null,
	   "metadata": {
	    "collapsed": true
	   },
	   "outputs": [],
"source": [
"//Chapter-5,Example 5_5,Page 5-25\n",
"clc()\n",
"\n",
"//Given Values:\n",
"mn=1.674*10^-27     //mass of neutron\n",
"h=6.63*10^-34       //Planck's constant\n",
"lam=1*10^-10        //wavelength of neutron\n",
"\n",
"//Calculations:\n",
"\n",
"//we know,  lam=h/sqrt(2*m*E)     //de Broglie wavelength\n",
"E1=h^2/(2*mn*lam^2)   //Energy of neutron in joules\n",
"E=E1/(1.6*10^-19)     //Energy of neutron in electron-Volts\n",
"\n",
"printf('Energy of neutron is =%.3f eV \n',E)"
   ]
   }
,
{
		   "cell_type": "markdown",
		   "metadata": {},
		   "source": [
			"## Example 5.6: Calculate_KE_and_Braggs_angle.sce"
		   ]
		  },
  {
"cell_type": "code",
	   "execution_count": null,
	   "metadata": {
	    "collapsed": true
	   },
	   "outputs": [],
"source": [
"//Chapter-5,Example 5_6,Page 5-25\n",
"clc()\n",
"\n",
"//Given Values:\n",
"mn=1.67*10^-27      //mass of neutron\n",
"h=6.6*10^-34        //Planck's constant\n",
"lam=3*10^-10        //wavelength of neutron\n",
"d=3.036*10^-10      //lattice spacing\n",
"\n",
"//Calculations:\n",
"\n",
"//we know,  lam=h/sqrt(2*m*E)     //de Broglie wavelength\n",
"E1=h^2/(2*mn*lam^2)  //Energy of neutron in joules\n",
"E=E1/(1.6*10^-19)    //Energy of neutron in electron-Volts\n",
"printf('Energy of neutron is =%.5f eV \n \n',E)\n",
"\n",
"//using bragg's law for first order  lam=2d sin(theta)\n",
"theta=asin(lam/(2*d))*180/%pi      //glancing angle in degrees\n",
"printf(' Glancing angle at which first orde reflection occurs is =%.0f degrees \n',theta)"
   ]
   }
,
{
		   "cell_type": "markdown",
		   "metadata": {},
		   "source": [
			"## Example 5.7: Calculate_kinetic_energy.sce"
		   ]
		  },
  {
"cell_type": "code",
	   "execution_count": null,
	   "metadata": {
	    "collapsed": true
	   },
	   "outputs": [],
"source": [
"//Chapter-5,Example 5_7,Page 5-26\n",
"clc()\n",
"\n",
"//Given Values:\n",
"m=9.108*10^-31       //mass of electron\n",
"h=6.625*10^-34       //Planck's constant\n",
"lam=5*10^-7          //wavelength of electron\n",
"\n",
"//Calculations:\n",
"\n",
"//we know,  lam=h/sqrt(2*m*E)     //de Broglie wavelength\n",
"E1=h^2/(2*m*lam^2)     //Energy of electron in joules\n",
"E=E1/(1.6*10^-19)      //Energy of electron in electron-Volts\n",
"printf('Energy of electron is =%.9f eV \n',E)"
   ]
   }
,
{
		   "cell_type": "markdown",
		   "metadata": {},
		   "source": [
			"## Example 5.8: Calculate_wavelength_energy_and_momentum.sce"
		   ]
		  },
  {
"cell_type": "code",
	   "execution_count": null,
	   "metadata": {
	    "collapsed": true
	   },
	   "outputs": [],
"source": [
"//Chapter-5,Example 5_8,Page 5-27\n",
"clc()\n",
"\n",
"//Given Values:\n",
"mn=1.676*10^-27        //mass of neutron\n",
"me=9.1*10^-31          //mass of electron\n",
"h=6.625*10^-34         //Planck's constant\n",
"\n",
"//Calculations:\n",
"//Part 1:\n",
"En1=0.025             //Energy in eV of neutron\n",
"En=En1*(1.6*10^-19)   //Energy in joules\n",
"\n",
"lam1=h/sqrt(2*mn*En)     //wavelength of a beam of neutron\n",
"printf('wavelength of a beam of neutron is =%.13f m \n \n',lam1)\n",
"\n",
"//Part 2:\n",
"lam2=2*10^-10            //wavelength of electron and photon\n",
"\n",
"//we know,  lam=h/sqrt(2*m*E)     //de Broglie wavelength\n",
"Ee1=h^2/(2*me*lam2^2)     //Energy of electron in joules\n",
"Ee=Ee1/(1.6*10^-19)       //Energy of electron in electron-Volts\n",
"printf(' Energy of electron is =%.3f eV \n \n',Ee)\n",
"\n",
"p1=h/lam2               //momentum of electron\n",
"printf(' Momentum of electron is =%.27f kg.m/s \n \n',p1)\n",
"\n",
"C=3*10^8                //Velocity of light\n",
"Ep=h*C/lam2             //Energy of photon in joules\n",
"printf(' Energy of photon is =%.19f Joules \n \n',Ep)\n",
"\n",
"p2=h/lam2               //momentum of photon\n",
"printf(' Momentum of photon is =%.27f kg.m/s \n \n',p2)"
   ]
   }
,
{
		   "cell_type": "markdown",
		   "metadata": {},
		   "source": [
			"## Example 5.9: Find_shortest_wavelength.sce"
		   ]
		  },
  {
"cell_type": "code",
	   "execution_count": null,
	   "metadata": {
	    "collapsed": true
	   },
	   "outputs": [],
"source": [
"//Chapter-5,Example 5_9,Page 5-28\n",
"clc()\n",
"\n",
"//Given data:\n",
"//We have alpha particle,neutron,proton and electron.\n",
"\n",
"//To find: shortest wavelength\n",
"\n",
"printf('We know, lam=h/sqrt(2*m*E)     //de Broglie wavelength  \n \n')\n",
"\n",
"//Wavelength is inversely proportional to mass of particle for constant energy\n",
"printf(' i.e., Wavelength is inversely proportional to mass of particle for constant energy. \n \n')\n",
"\n",
"printf(' We have alpha particle,neutron,proton and electron. \n \n')\n",
"\n",
"//AS,alpha particle has highest mass.Thus it will have shortest wavelength.\n",
"printf(' Out of above, alpha particle has highest mass. \n \n')\n",
"\n",
"printf(' Hence it will have shortest wavelength. \n \n')"
   ]
   }
],
"metadata": {
		  "kernelspec": {
		   "display_name": "Scilab",
		   "language": "scilab",
		   "name": "scilab"
		  },
		  "language_info": {
		   "file_extension": ".sce",
		   "help_links": [
			{
			 "text": "MetaKernel Magics",
			 "url": "https://github.com/calysto/metakernel/blob/master/metakernel/magics/README.md"
			}
		   ],
		   "mimetype": "text/x-octave",
		   "name": "scilab",
		   "version": "0.7.1"
		  }
		 },
		 "nbformat": 4,
		 "nbformat_minor": 0
}
