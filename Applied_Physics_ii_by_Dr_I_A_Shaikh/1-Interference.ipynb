{
"cells": [
 {
		   "cell_type": "markdown",
	   "metadata": {},
	   "source": [
       "# Chapter 1: Interference"
	   ]
	},
{
		   "cell_type": "markdown",
		   "metadata": {},
		   "source": [
			"## Example 1.10: Calculate_thickness.sce"
		   ]
		  },
  {
"cell_type": "code",
	   "execution_count": null,
	   "metadata": {
	    "collapsed": true
	   },
	   "outputs": [],
"source": [
"//Chapter-1,Example 1_10,Page 1-21\n",
"clc()\n",
"\n",
"//Given Data:\n",
"u1=1.2               //Refractive index of drop of oil\n",
"u2=1.33              //Refractive index of water\n",
"lam=4.8*10^-7        //wavelength of light\n",
"n=3                  //order\n",
"r=0                  //normal incidence,so r=0\n",
"\n",
"//Calculations:\n",
"t=n*lam/(2*u1)        //Thickness of oil drop\n",
"printf('Thickness of oil drop is =%.8f m',t)"
   ]
   }
,
{
		   "cell_type": "markdown",
		   "metadata": {},
		   "source": [
			"## Example 1.11: Calculate_thickness.sce"
		   ]
		  },
  {
"cell_type": "code",
	   "execution_count": null,
	   "metadata": {
	    "collapsed": true
	   },
	   "outputs": [],
"source": [
"//Chapter-1,Example 1_11,Page 1-22\n",
"clc()\n",
"\n",
"//Given Data:\n",
"i=asin(4/5)          //angle of incidence\n",
"u=4/3                //Refractive index of a soap film\n",
"lam1=6.1*10^-7       //wavelength of light\n",
"lam2=6*10^-7         //wavelength of light\n",
"\n",
"//Calculations:\n",
"//u=sin i/sin r      //Snell's law   .So,\n",
"r=asin(sin(i)/u)     //angle of reflection\n",
"\n",
"//Now, condition for dark band is\n",
"//2ut*cos r=n*lam\n",
"//for consecutive bands, n=lam2/(lam1-lam2). hence\n",
"\n",
"t=lam2*lam1/((lam1-lam2)*2*u*sqrt(1-(sin(i)/u)^2))     //thickness of film\n",
"printf('Thickness of the film is =%.7f m',t)\n",
""
   ]
   }
,
{
		   "cell_type": "markdown",
		   "metadata": {},
		   "source": [
			"## Example 1.12: Calculate_thickness_of_film.sce"
		   ]
		  },
  {
"cell_type": "code",
	   "execution_count": null,
	   "metadata": {
	    "collapsed": true
	   },
	   "outputs": [],
"source": [
"//Chapter-1,Example 1_12,Page 1-40\n",
"clc()\n",
"\n",
"//Given Data:\n",
"n=10             //10th dark ring\n",
"Dn=0.5*10^-2     //Diameter of ring\n",
"lam=6*10^-7      //wavelength of light\n",
"\n",
"//Calculations:\n",
"//As Dn^2=4*n*R*lam\n",
"R=Dn^2/(4*n*lam)    //Radius of curvature of the lens\n",
"printf('Radius of curvature of the lens is =%.2f m \n \n',R)\n",
"\n",
"t=Dn^2/(8*R)        //thickness of air  film\n",
"printf(' Thickness of air  film is =%.7f m \n',t)"
   ]
   }
,
{
		   "cell_type": "markdown",
		   "metadata": {},
		   "source": [
			"## Example 1.13: Calculate_angle_of_wedge.sce"
		   ]
		  },
  {
"cell_type": "code",
	   "execution_count": null,
	   "metadata": {
	    "collapsed": true
	   },
	   "outputs": [],
"source": [
"//Chapter-1,Example 1_13,Page 1-41\n",
"clc()\n",
"\n",
"//Given Data:\n",
"\n",
"B=0.25*10^-2             //fringe spacing\n",
"lam=5.5*10^-7            //Wavelength of light\n",
"u=1.4                    //Refractive index of wedge\n",
"\n",
"//Calculations:\n",
"//We know, B=lam/(2*u*theta).\n",
"theta1=lam/(2*u*B)          //angle of wedge in radians\n",
"theta=theta1*3600*180/%pi   //angle of wedge in seconds\n",
"printf('Angle of wedge is =%.1f seconds',theta)"
   ]
   }
,
{
		   "cell_type": "markdown",
		   "metadata": {},
		   "source": [
			"## Example 1.14: Find_diameter_of_ring.sce"
		   ]
		  },
  {
"cell_type": "code",
	   "execution_count": null,
	   "metadata": {
	    "collapsed": true
	   },
	   "outputs": [],
"source": [
"//Chapter-1,Example 1_14,Page 1-41\n",
"clc()\n",
"\n",
"//Given Data:\n",
"n=4             //4th dark ring\n",
"m=12            //m=n+p\n",
"D4=0.4*10^-2    //Diameter of 4th ring\n",
"D12=0.7*10^-2   //Diameter of 12th ring\n",
"\n",
"//Calculations:\n",
"\n",
"//(Dn+p)^2-Dn^2=4*p*lam*R\n",
"//Solving, (D12^2-D4^2)/(D20^2-D4^2)\n",
"//We get above value =1/2. Hence\n",
"D20=sqrt(2*D12^2-D4^2)      //Diameter of 20th ring\n",
"printf('Diameter of 20th ring is =%.5f m \n',D20)"
   ]
   }
,
{
		   "cell_type": "markdown",
		   "metadata": {},
		   "source": [
			"## Example 1.15: Calculate_refractive_index.sce"
		   ]
		  },
  {
"cell_type": "code",
	   "execution_count": null,
	   "metadata": {
	    "collapsed": true
	   },
	   "outputs": [],
"source": [
"//Chapter-1,Example 1_15,Page 1-42\n",
"clc()\n",
"\n",
"//Given Data:\n",
"n=6              //6th bright ring\n",
"D6=0.31*10^-2    //Diameter of 6th ring\n",
"lam=6*10^-7      //wavelength of light\n",
"R=1              //Radius of curvature\n",
"\n",
"//Calculations:\n",
"\n",
"//Diameter of nth bright ring is \n",
"//Dn^2=2(2n-1)*lam*R/u. Hence\n",
"u=2*(2*n-1)*lam*R/(D6)^2    //Refractive index of liquid\n",
"printf('Refractive index of liquid is =%.3f \n',u)"
   ]
   }
,
{
		   "cell_type": "markdown",
		   "metadata": {},
		   "source": [
			"## Example 1.16: Find_difference_of_squares_of_diameters_of_rings.sce"
		   ]
		  },
  {
"cell_type": "code",
	   "execution_count": null,
	   "metadata": {
	    "collapsed": true
	   },
	   "outputs": [],
"source": [
"//Chapter-1,Example 1_16,Page 1-42\n",
"clc()\n",
"\n",
"//Given Data:\n",
"lam=6*10^-7       //wavelength of light\n",
"k=0.125*10^-4     //k=D(n+1)^2-Dn^2.\n",
"u=1               //Refractive index of medium between lens and plate\n",
"//Calculations:\n",
"\n",
"//i)\n",
"lam1=4.5*10^-7   //new wavelength of light\n",
"//Difference between squres of diameters of successive rings is directly proportional to wavelength.So,\n",
"k1=lam1/lam*k    //new Difference between squres of diameters of successive rings after changing wavelength\n",
"printf('New Difference between squres of diameters of successive rings after changing wavelength is =%.8f m^2 \n',k1)\n",
"\n",
"//ii)\n",
"u2=1.33          //Refractive index of liquid introduced between lens and plate\n",
"//Difference between squres of diameters of successive rings is inversely proportional to Refractive index.so,\n",
"k2=u/u2*k        //new Difference between squres of diameters of successive rings after changing refractive index\n",
"printf(' New Difference between squres of diameters of successive rings after changing refrective index is =%.8f m^2 \n',k2)\n",
"\n",
"//iii)\n",
"//Difference between squres of diameters of successive rings is directly proportional to Radius of curvature.So,\n",
"//after doubling radius of curvature,\n",
"k3=2*k           //new Difference between squres of diameters of successive rings after doubling radius of curvature\n",
"printf(' New Difference between squres of diameters of successive rings after doubling radius of curvature is =%.8f m^2 \n',k3)"
   ]
   }
,
{
		   "cell_type": "markdown",
		   "metadata": {},
		   "source": [
			"## Example 1.17: Calculate_Refractive_index.sce"
		   ]
		  },
  {
"cell_type": "code",
	   "execution_count": null,
	   "metadata": {
	    "collapsed": true
	   },
	   "outputs": [],
"source": [
"//Chapter-1,Example 1_17,Page 1-43\n",
"clc()\n",
"\n",
"//Given Data:\n",
"Dn=0.225*10^-2       //Diameter of nth ring\n",
"Dm=0.45*10^-2        //Diameter of (n+9)th ring\n",
"lam=6*10^-7          //wavelength of light\n",
"R=0.9                //Radius of curvature\n",
"p=9\n",
"\n",
"//Calculations:\n",
"//(Dn+p)^2-Dn^2=4*p*lam*R/u\n",
"u=4*p*lam*R/((Dm)^2-Dn^2)    //Refractive index of liquid\n",
"printf('Refractive index of liquid is =%.2f \n',u)"
   ]
   }
,
{
		   "cell_type": "markdown",
		   "metadata": {},
		   "source": [
			"## Example 1.18: Find_diameter_of_ring.sce"
		   ]
		  },
  {
"cell_type": "code",
	   "execution_count": null,
	   "metadata": {
	    "collapsed": true
	   },
	   "outputs": [],
"source": [
"//Chapter-1,Example 1_18,Page 1-44\n",
"clc()\n",
"\n",
"//Given Data:\n",
"D10=0.5*10^-2        //Diameter of 10th ring\n",
"lam=5.5*10^-7        //wavelength of light\n",
"u=1.25               //Refractive index of liquid\n",
"\n",
"\n",
"//Calculations:\n",
"//As Dn^2=4*n*R*lam/u\n",
"//Dn^2 is inversely proportional to refractive index.\n",
"D10n=D10/sqrt(u)          //new diameter of 10th ring after changing medium between lens and plate\n",
"printf('new diameter of 10th ring after changing medium between lens and plate is =%.6f m \n',D10n)"
   ]
   }
,
{
		   "cell_type": "markdown",
		   "metadata": {},
		   "source": [
			"## Example 1.19: Find_radius_of_curvature.sce"
		   ]
		  },
  {
"cell_type": "code",
	   "execution_count": null,
	   "metadata": {
	    "collapsed": true
	   },
	   "outputs": [],
"source": [
"//Chapter-1,Example 1_19,Page 1-45\n",
"clc()\n",
"\n",
"//Given Data:\n",
"D5=0.336*10^-2       //Diameter of 5th ring\n",
"D15=0.59*10^-2       //Diameter of 15th ring\n",
"lam=5.89*10^-7       //wavelength of light\n",
"p=10                 //n=5,n+p=15\n",
"\n",
"//Calculations:\n",
"//(Dn+p)^2-Dn^2=4*p*lam*R/u\n",
"R=((D15)^2-D5^2)/(4*p*lam)    //Radius of curvature of the lens\n",
"printf('Radius of curvature of the lens is =%.3f m \n',R)"
   ]
   }
,
{
		   "cell_type": "markdown",
		   "metadata": {},
		   "source": [
			"## Example 1.1: Find_thickness_of_film.sce"
		   ]
		  },
  {
"cell_type": "code",
	   "execution_count": null,
	   "metadata": {
	    "collapsed": true
	   },
	   "outputs": [],
"source": [
"//Chapter-1,Example 1_1,Page 1-16\n",
"clc()\n",
"\n",
"//Given Data:\n",
"i=45*%pi/180         //angle of incidence\n",
"u=1.33               //Refractive index of a soap film\n",
"lam=5.896*10^-7      //wavelength of required yellow light\n",
"\n",
"//Calculations:\n",
"//u=sin i/sin r      //Snell's law   .So,\n",
"r=asin(sin(i)/u)     //angle of reflection\n",
"\n",
"//Now, condition for bright fringe is\n",
"//2ut*cos r=(2n-1)lam/2\n",
"//Here n=1\n",
"t=lam/(2*2*u*cos(r))      //minimum thickness of film at which light will appear bright yellow\n",
"printf('Minimum thickness of film at which light will appear bright yellow of required wavelength is =%.10f m',t)"
   ]
   }
,
{
		   "cell_type": "markdown",
		   "metadata": {},
		   "source": [
			"## Example 1.20_1: Find_wavelength.sce"
		   ]
		  },
  {
"cell_type": "code",
	   "execution_count": null,
	   "metadata": {
	    "collapsed": true
	   },
	   "outputs": [],
"source": [
"//Chapter-1,Example 1_20_1,Page 1-52\n",
"clc()\n",
"\n",
"//Given Data:\n",
"i=45*%pi/180         //angle of incidence\n",
"u=1.2                //Refractive index of a film\n",
"t=4*10^-7            //thickness of film\n",
"\n",
"//Calculations:\n",
"//u=sin i/sin r      //Snell's law   .So,\n",
"r=asin(sin(i)/u)     //angle of reflection\n",
"\n",
"//Now, condition for dark fringe is\n",
"//2ut*cos r=n*lam\n",
"lam1=2*u*t*cos(r)/1          //n=1\n",
"printf('For n=1 wavelength is =%.10f m \n',lam1)\n",
"printf(' This is in the visible spectrum and it will remain absent.\n \n') \n",
"\n",
"lam2=2*u*t*cos(r)/2          //n=2\n",
"printf(' For n=2 wavelength is =%.10f m \n',lam2)\n",
"printf(' This is not in the visible spectrum \n \n')"
   ]
   }
,
{
		   "cell_type": "markdown",
		   "metadata": {},
		   "source": [
			"## Example 1.20_2: Find_thickness_of_medium.sce"
		   ]
		  },
  {
"cell_type": "code",
	   "execution_count": null,
	   "metadata": {
	    "collapsed": true
	   },
	   "outputs": [],
"source": [
"//Chapter-1,Example 1_20_2,Page 1-53\n",
"clc()\n",
"\n",
"//Given Data:\n",
"r=45*%pi/180         //angle of refraction\n",
"u=1.45               //Refractive index of a medium\n",
"lam=5.5*10^-7        //wavelength of required yellow light\n",
"n=1\n",
"\n",
"//Calculations:\n",
"\n",
"//Now, condition for dark fringe is\n",
"//2ut*cos r=n*lam\n",
"t=n*lam/(2*u*cos(r))      //thickness of thin medium\n",
"printf('Thickness of the thin medium is =%.10f m',t)"
   ]
   }
,
{
		   "cell_type": "markdown",
		   "metadata": {},
		   "source": [
			"## Example 1.20: Find_radius_of_curvature.sce"
		   ]
		  },
  {
"cell_type": "code",
	   "execution_count": null,
	   "metadata": {
	    "collapsed": true
	   },
	   "outputs": [],
"source": [
"//Chapter-1,Example 1_20,Page 1-45\n",
"clc()\n",
"\n",
"//Given Data:\n",
"n=10             //10th dark ring\n",
"D10=0.6*10^-2    //Diameter of ring\n",
"lam=6*10^-7      //wavelength of light\n",
"u=4/3            //Refractive index of water\n",
"\n",
"\n",
"//Calculations:\n",
"//As Dn^2=4*n*R*lam/u\n",
"R=D10^2*u/(4*n*lam)    //Radius of curvature of the lens\n",
"printf('Radius of curvature of the lens is =%.1f m \n',R)"
   ]
   }
,
{
		   "cell_type": "markdown",
		   "metadata": {},
		   "source": [
			"## Example 1.21: Find_wavelength.sce"
		   ]
		  },
  {
"cell_type": "code",
	   "execution_count": null,
	   "metadata": {
	    "collapsed": true
	   },
	   "outputs": [],
"source": [
"//Chapter-1,Example 1_21,Page 1-45\n",
"clc()\n",
"\n",
"//Given Data:\n",
"u=1.33                 //Refractive index of a soap film\n",
"r=0                    //normal incidence\n",
"t=5*10^-7              //thickness of film\n",
"\n",
"//Calculations:\n",
"\n",
"//Now, condition for maxima is\n",
"//2ut*cos r=(2n-1)lam/2\n",
"lam1=4*u*t*cos(r)/(2*1-1)          //n=1\n",
"printf('For n=1 wavelength is =%.10f m \n',lam1)\n",
"lam2=4*u*t*cos(r)/(2*2-1)          //n=2\n",
"printf(' For n=2 wavelength is =%.10f m \n',lam2)\n",
"lam3=4*u*t*cos(r)/(2*3-1)          //n=3\n",
"printf(' For n=3 wavelength is =%.10f m \n',lam3)\n",
"lam4=4*u*t*cos(r)/(2*4-1)          //n=4\n",
"printf(' For n=4 wavelength is =%.10f m \n \n',lam4)\n",
"\n",
"printf(' Out of these wavelengths wavelength for n=3 lies in the visible spectrum. \n \n')\n",
"printf(' Hence, wavelength for n=3 is the most reflected wavelength.')"
   ]
   }
,
{
		   "cell_type": "markdown",
		   "metadata": {},
		   "source": [
			"## Example 1.22: Calculate_thickness.sce"
		   ]
		  },
  {
"cell_type": "code",
	   "execution_count": null,
	   "metadata": {
	    "collapsed": true
	   },
	   "outputs": [],
"source": [
"//Chapter-1,Example 1_22,Page 1-46\n",
"clc()\n",
"\n",
"//Given Data:\n",
"u=1.5               //Refractive index of a oil\n",
"lam=5.88*10^-7      //wavelength of required yellow light\n",
"n=1                 //for smallest thickness\n",
"r=60*%pi/180        //angle of reflection\n",
"\n",
"//Calculations:\n",
"\n",
"//Now, condition for dark fringe is\n",
"//2ut*cos r=n*lam\n",
"t=n*lam/(2*u*cos(r))      //thickness of film\n",
"printf('Thickness of the film is =%.10f m',t)"
   ]
   }
,
{
		   "cell_type": "markdown",
		   "metadata": {},
		   "source": [
			"## Example 1.23: Calculate_wavelength.sce"
		   ]
		  },
  {
"cell_type": "code",
	   "execution_count": null,
	   "metadata": {
	    "collapsed": true
	   },
	   "outputs": [],
"source": [
"//Chapter-1,Example 1_23,Page 1-46\n",
"clc()\n",
"\n",
"//Given Data:\n",
"theta=20/3600*%pi/180     //angle of wedge in radians\n",
"B=0.25*10^-2              //fringe spacing\n",
"u=1.4                     //Refractive index of film\n",
"\n",
"//Calculations:\n",
"//We know, B=lam/(2*u*theta).\n",
"lam=2*B*theta*u             //wavelength of light\n",
"printf('Wavelength of light is =%.10f m',lam)"
   ]
   }
,
{
		   "cell_type": "markdown",
		   "metadata": {},
		   "source": [
			"## Example 1.24: Find_order_of_ring.sce"
		   ]
		  },
  {
"cell_type": "code",
	   "execution_count": null,
	   "metadata": {
	    "collapsed": true
	   },
	   "outputs": [],
"source": [
"//Chapter-1,Example 1_24,Page 1-47\n",
"clc()\n",
"\n",
"//Given Data:\n",
"//Dn=2*D40\n",
"\n",
"//Calculations:\n",
"//As Dn^2=4*n*R*lam/u and Dn^2=4*D40^2\n",
"//i.e. 4*n*R*lam/u=4*4*40*R*lam/u .hence,\n",
"n=4*40          //order of the required ring\n",
"printf('Order of the dark ring which will have double the diameter of that of 40th ring is =%.0f ',n)\n",
" "
   ]
   }
,
{
		   "cell_type": "markdown",
		   "metadata": {},
		   "source": [
			"## Example 1.25: Calculate_diameter_of_ring.sce"
		   ]
		  },
  {
"cell_type": "code",
	   "execution_count": null,
	   "metadata": {
	    "collapsed": true
	   },
	   "outputs": [],
"source": [
"//Chapter-1,Example 1_25,Page 1-47\n",
"clc()\n",
"\n",
"//Given Data:\n",
"lam1=6*10^-7     //wavelength of light\n",
"lam2=4.5*10^-7   //wavelength of light\n",
"R=0.9            //Radius of curvature\n",
"\n",
"//Calculations:\n",
"//As Dn^2=4*n*R*lam.\n",
"//Dn^2=D(n+1)^2 for different wavelengths.we get,\n",
"n=lam2/(lam1-lam2)    //nth dark ring due to lam1 which coincides with (n+1)th dark ring due lam2\n",
"D3=sqrt(4*n*R*lam1)   //diameter of 3rd dark ring for lam1\n",
"printf('Diameter of 3rd dark ring for lam1 is =%.5f m \n',D3)"
   ]
   }
,
{
		   "cell_type": "markdown",
		   "metadata": {},
		   "source": [
			"## Example 1.26: Calculate_order_of_band.sce"
		   ]
		  },
  {
"cell_type": "code",
	   "execution_count": null,
	   "metadata": {
	    "collapsed": true
	   },
	   "outputs": [],
"source": [
"//Chapter-1,Example 1_26,Page 1-48\n",
"clc()\n",
"\n",
"//Given Data:\n",
"i=45*%pi/180        //angle of incidence\n",
"u=4/3               //Refractive index of soap film\n",
"lam=5*10^-7         //wavelength of light\n",
"t=1.5*10^-6         //thickness of film\n",
"\n",
"//Calculations:\n",
"//u=sin i/sin r      //Snell's law   .So,\n",
"r=asin(sin(i)/u)     //angle of reflection\n",
"\n",
"//Now, condition for dark band is\n",
"//2ut*cos r=n*lam\n",
"n=2*u*t*cos(r)/lam   //order of band\n",
"printf('order of dark band is =%.1f \n',n)"
   ]
   }
,
{
		   "cell_type": "markdown",
		   "metadata": {},
		   "source": [
			"## Example 1.27: Find_radius_of_curvature.sce"
		   ]
		  },
  {
"cell_type": "code",
	   "execution_count": null,
	   "metadata": {
	    "collapsed": true
	   },
	   "outputs": [],
"source": [
"//Chapter-1,Example 1_27,Page 1-49\n",
"clc()\n",
"\n",
"//Given Data:\n",
"D5=0.336*10^-2       //Diameter of 5th ring\n",
"D15=0.59*10^-2       //Diameter of 15th ring\n",
"lam=5.89*10^-7       //wavelength of light\n",
"p=10                 //n=5,n+p=15\n",
"\n",
"//Calculations:\n",
"//(Dn+p)^2-Dn^2=4*p*lam*R/u\n",
"R=((D15)^2-D5^2)/(4*p*lam)    //Radius of curvature of the lens\n",
"printf('Radius of curvature of the lens is =%.4f m \n',R)"
   ]
   }
,
{
		   "cell_type": "markdown",
		   "metadata": {},
		   "source": [
			"## Example 1.29: Prove_separation_between_consecutive_rings_reduces_as_serial_number_of_rings.sce"
		   ]
		  },
  {
"cell_type": "code",
	   "execution_count": null,
	   "metadata": {
	    "collapsed": true
	   },
	   "outputs": [],
"source": [
"//Chapter-1,Example 1_29,Page 1-50\n",
"clc()\n",
"\n",
"//As Dn^2=4*n*R*lam.\n",
"//thus, Dn is directly proportional to sqaure root of n\n",
"D5=sqrt(5)     //D5 is directly proportional to sqaure root of 5\n",
"D4=sqrt(4)     //D4 is directly proportional to sqaure root of 4\n",
"k1=D5-D4\n",
"printf('Separation between D5 and D4 is directly proportional to =%.3f \n',k1)\n",
"\n",
"D80=sqrt(80)     //D80 is directly proportional to sqaure root of 80\n",
"D79=sqrt(79)     //D79 is directly proportional to sqaure root of 79\n",
"k2=D80-D79\n",
"printf(' Separation between D80 and D79 is directly proportional to =%.3f \n \n',k2)\n",
"\n",
"printf(' Thus, (D80-D79) < (D5-D4).\n Hence proved.')"
   ]
   }
,
{
		   "cell_type": "markdown",
		   "metadata": {},
		   "source": [
			"## Example 1.2: Calculate_wavelength.sce"
		   ]
		  },
  {
"cell_type": "code",
	   "execution_count": null,
	   "metadata": {
	    "collapsed": true
	   },
	   "outputs": [],
"source": [
"//Chapter-1,Example 1_2,Page 1-16\n",
"clc()\n",
"\n",
"//Given Data:\n",
"theta=40/3600*%pi/180     //angle of wedge in radians\n",
"B=0.12*10^-2              //fringe spacing\n",
"\n",
"//Calculations:\n",
"//We know, B=lam/(2*u*theta). Here u=1\n",
"lam=2*B*theta             //wavelength of light used\n",
"printf('Wavelength of light used is =%.10f m',lam)"
   ]
   }
,
{
		   "cell_type": "markdown",
		   "metadata": {},
		   "source": [
			"## Example 1.30: Calculate_wavelength.sce"
		   ]
		  },
  {
"cell_type": "code",
	   "execution_count": null,
	   "metadata": {
	    "collapsed": true
	   },
	   "outputs": [],
"source": [
"//Chapter-1,Example 1_30,Page 1-51\n",
"clc()\n",
"\n",
"//Given Data:\n",
"D5=0.336*10^-2       //Diameter of 5th ring\n",
"D15=0.59*10^-2       //Diameter of 15th ring\n",
"p=10                 //n=5,n+p=15\n",
"R=1                  //Radius of curvature\n",
"\n",
"//Calculations:\n",
"//(Dn+p)^2-Dn^2=4*p*lam*R/u\n",
"lam=((D15)^2-D5^2)/(4*p*R)    //Wavelength of light\n",
"printf('Wavelength of light is =%.10f m',lam)"
   ]
   }
,
{
		   "cell_type": "markdown",
		   "metadata": {},
		   "source": [
			"## Example 1.31: Obtain_expression_for_thickness_of_film.sce"
		   ]
		  },
  {
"cell_type": "code",
	   "execution_count": null,
	   "metadata": {
	    "collapsed": true
	   },
	   "outputs": [],
"source": [
"//Chapter-1,Example 1_31,Page 1-51\n",
"clc()\n",
"\n",
"\n",
"//Condition for bright band is\n",
"//2ut*cos r = (2n-1)*lam1\n",
"\n",
"//for consecutive bands, 2n=(lam1+lam2)/(lam1-lam2).\n",
"//thus, 2ut*cos r = lam2*lam1/(lam1-lam2)\n",
"\n",
"//And, thicknessof film \n",
"//t= lam2*lam1/((2*u*cosr)(lam1-lam2))\n",
"printf('Hence expression for thickness of film is obtained.')"
   ]
   }
,
{
		   "cell_type": "markdown",
		   "metadata": {},
		   "source": [
			"## Example 1.3: Find_thickness_of_film.sce"
		   ]
		  },
  {
"cell_type": "code",
	   "execution_count": null,
	   "metadata": {
	    "collapsed": true
	   },
	   "outputs": [],
"source": [
"//Chapter-1,Example 1_3,Page 1-17\n",
"clc()\n",
"\n",
"//Given Data:\n",
"i=30*%pi/180         //angle of incidence\n",
"u=1.46               //Refractive index of a oil\n",
"lam=5.890*10^-7      //wavelength of required yellow light\n",
"n=8                  //eighth dark band\n",
"\n",
"//Calculations:\n",
"//u=sin i/sin r      //Snell's law   .So,\n",
"r=asin(sin(i)/u)     //angle of reflection\n",
"\n",
"//Now, condition for dark fringe is\n",
"//2ut*cos r=n*lam\n",
"t=n*lam/(2*u*cos(r))      //thickness of film\n",
"printf('Thickness of the film is =%.10f m',t)"
   ]
   }
,
{
		   "cell_type": "markdown",
		   "metadata": {},
		   "source": [
			"## Example 1.4: Find_angle_of_wedge.sce"
		   ]
		  },
  {
"cell_type": "code",
	   "execution_count": null,
	   "metadata": {
	    "collapsed": true
	   },
	   "outputs": [],
"source": [
"//Chapter-1,Example 1_4,Page 1-17\n",
"clc()\n",
"\n",
"//Given Data:\n",
"\n",
"B=0.1*10^-2               //fringe spacing\n",
"lam=5.893*10^-7           //Wavelength of light\n",
"u=1.52                    //Refractive index of wedge\n",
"\n",
"//Calculations:\n",
"//We know, B=lam/(2*u*theta). Here u=1\n",
"theta1=lam/(2*u*B)          //angle of wedge in radians\n",
"theta=theta1*3600*180/%pi   //angle of wedge in seconds\n",
"printf('Angle of wedge is =%.0f seconds of an arc',theta)"
   ]
   }
,
{
		   "cell_type": "markdown",
		   "metadata": {},
		   "source": [
			"## Example 1.5: Find_refractive_index.sce"
		   ]
		  },
  {
"cell_type": "code",
	   "execution_count": null,
	   "metadata": {
	    "collapsed": true
	   },
	   "outputs": [],
"source": [
"//Chapter-1,Example 1_5,Page 1-18\n",
"clc()\n",
"\n",
"//Given Data:\n",
"t=0.2/(100)^2*10^-2   //thickness of film in meter\n",
"lam=5.5*10^-7         //wavelength of light in meter\n",
"r=0                   //normal incidence\n",
"n=1                   //first band\n",
"\n",
"//Calculations:\n",
"\n",
"//Condition for dark fringe is\n",
"//2ut*cos r =n*lam\n",
"u=n*lam/(2*t*cos(r))   //Refractive index of a oil\n",
"printf('Refractive index of a oil is =%.3f ',u)"
   ]
   }
,
{
		   "cell_type": "markdown",
		   "metadata": {},
		   "source": [
			"## Example 1.6: Calculate_thickness.sce"
		   ]
		  },
  {
"cell_type": "code",
	   "execution_count": null,
	   "metadata": {
	    "collapsed": true
	   },
	   "outputs": [],
"source": [
"//Chapter-1,Example 1_6,Page 1-18\n",
"clc()\n",
"\n",
"//Given Data:\n",
"lam=5.893*10^-7       //Wavelength of light\n",
"u=1.42                //Refractive index of a soap film\n",
"r=0                   //normal incidence\n",
"n=1                   //first band\n",
"\n",
"//Calculations:\n",
"\n",
"//i)\n",
"//Condition for dark fringe is\n",
"//2ut*cos r=n*lam\n",
"t1=n*lam/(2*u*cos(r))      //thickness of film for dark black fringe\n",
"printf('Thickness of the film for dark black fringe is =%.10f m \n \n',t1)\n",
"\n",
"//ii)\n",
"//Now, condition for bright fringe is\n",
"//2ut*cos r=(2n-1)lam/2\n",
"t2=lam/(2*2*u*cos(r))      //Thickness of film for bright fringe\n",
"printf(' Thickness of film for bright fringe is =%.10f m \n \n',t2)\n",
""
   ]
   }
,
{
		   "cell_type": "markdown",
		   "metadata": {},
		   "source": [
			"## Example 1.7: Calculate_thickness.sce"
		   ]
		  },
  {
"cell_type": "code",
	   "execution_count": null,
	   "metadata": {
	    "collapsed": true
	   },
	   "outputs": [],
"source": [
"//Chapter-1,Example 1_7,Page 1-19\n",
"clc()\n",
"\n",
"//Given Data:\n",
"i=30*%pi/180         //angle of incidence\n",
"u=1.43               //Refractive index of a soap film\n",
"lam=6*10^-7          //wavelength of light\n",
"n=1                  //For minimum thickness\n",
"\n",
"//Calculations:\n",
"//u=sin i/sin r      //Snell's law   .So,\n",
"r=asin(sin(i)/u)     //angle of reflection\n",
"\n",
"//Now, condition of minima in transmitted system is\n",
"//2ut*cos r=(2n-1)lam/2\n",
"t=lam/(2*2*u*cos(r))      //minimum thickness of film\n",
"printf('Minimum thickness of film is =%.9f m',t)"
   ]
   }
,
{
		   "cell_type": "markdown",
		   "metadata": {},
		   "source": [
			"## Example 1.8: Calculate_thickness.sce"
		   ]
		  },
  {
"cell_type": "code",
	   "execution_count": null,
	   "metadata": {
	    "collapsed": true
	   },
	   "outputs": [],
"source": [
"//Chapter-1,Example 1_8,Page 1-19\n",
"clc()\n",
"\n",
"//Given Data:\n",
"lam=5.893*10^-7       //Wavelength of light\n",
"theta=1               //assuming value of theta\n",
"\n",
"//We know, B=lam/(2*u*theta). Here u=1\n",
"B=lam/(2*theta)       //fringe spacing\n",
"n=20                  //interference fringes\n",
"\n",
"//Calculations:\n",
"//t=n*B*tan(theta)\n",
"t=20*B*theta          //Thickness of wire\n",
"printf('Thickness of wire is =%.9f m',t)"
   ]
   }
,
{
		   "cell_type": "markdown",
		   "metadata": {},
		   "source": [
			"## Example 1.9: Calculate_thickness.sce"
		   ]
		  },
  {
"cell_type": "code",
	   "execution_count": null,
	   "metadata": {
	    "collapsed": true
	   },
	   "outputs": [],
"source": [
"//Chapter-1,Example 1_9,Page 1-20\n",
"clc()\n",
"\n",
"//Given Data:\n",
"u1=1.3             //Refractive index of oil\n",
"u2=1.5             //Refractive index of glass\n",
"lam1=7*10^-7       //Wavelength of light\n",
"lam2=5*10^-7       //Wavelength of light\n",
"\n",
"//Calculations:\n",
"\n",
"//for finding value of n, solve:\n",
"//(2n+1)*lam1/2=(2(n+1)+1)*lam2/2\n",
"//We get,n=2\n",
"n=2\n",
"\n",
"toil=(2*n+1)*lam1/(2*u1*2)     //thickness of oil layer\n",
"printf('Thickness of oil layer is =%.9f m',toil)"
   ]
   }
],
"metadata": {
		  "kernelspec": {
		   "display_name": "Scilab",
		   "language": "scilab",
		   "name": "scilab"
		  },
		  "language_info": {
		   "file_extension": ".sce",
		   "help_links": [
			{
			 "text": "MetaKernel Magics",
			 "url": "https://github.com/calysto/metakernel/blob/master/metakernel/magics/README.md"
			}
		   ],
		   "mimetype": "text/x-octave",
		   "name": "scilab",
		   "version": "0.7.1"
		  }
		 },
		 "nbformat": 4,
		 "nbformat_minor": 0
}
