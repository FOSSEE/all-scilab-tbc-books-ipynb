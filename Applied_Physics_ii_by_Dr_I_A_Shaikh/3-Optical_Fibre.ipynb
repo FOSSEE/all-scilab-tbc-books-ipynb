{
"cells": [
 {
		   "cell_type": "markdown",
	   "metadata": {},
	   "source": [
       "# Chapter 3: Optical Fibre"
	   ]
	},
{
		   "cell_type": "markdown",
		   "metadata": {},
		   "source": [
			"## Example 3.10: Calculate_refractive_index.sce"
		   ]
		  },
  {
"cell_type": "code",
	   "execution_count": null,
	   "metadata": {
	    "collapsed": true
	   },
	   "outputs": [],
"source": [
"//Chapter-3,Example 3_10,Page 3-22\n",
"clc()\n",
"\n",
"//Given Data:\n",
"u1=1.465                  //R.I. of Core\n",
"u2=1.46                   //R.I.of Cladding\n",
"lam=1.25*10^-6            //operating wavelength\n",
"\n",
"//Calculations:\n",
"del=(u1-u2)/u1            //Fractional Refractive index\n",
"printf('Fractional Refractive index of Fibre is =%.6f \n \n',del)\n",
"\n",
"//For single mode propagation codition is \n",
"// a/lam< 1.4/(%pi*sqrt(u1(u1-u2)))\n",
"\n",
"a=lam*1.4/(%pi*u1*sqrt(del))      //core radius\n",
"\n",
"u=u1-(sqrt(2*del)/(2*%pi*(a/lam)))     //effective refractive index\n",
"printf(' Effective Refractive index for lowest mode propagation is =%.3f \n',u)"
   ]
   }
,
{
		   "cell_type": "markdown",
		   "metadata": {},
		   "source": [
			"## Example 3.11_1: Find_Normalised_frequency_and_number_of_modes.sce"
		   ]
		  },
  {
"cell_type": "code",
	   "execution_count": null,
	   "metadata": {
	    "collapsed": true
	   },
	   "outputs": [],
"source": [
"//Chapter-3,Example 3_11_1,Page 3-25\n",
"clc()\n",
"\n",
"//Given Data:\n",
"u1=1.52                  //R.I. of Core\n",
"u2=1.5189                //R.I.of Cladding\n",
"lam=1.3*10^-6            //wavelength in meter\n",
"d=29*10^-6               //core diameter in meter\n",
"a=d/2\n",
"\n",
"//Calculations:\n",
"NA=sqrt(u1^2-u2^2)       //Formula to find Numerical Aperture\n",
"V=2*%pi*a*NA/lam         //Normalised frequency\n",
"Nm=(V^2)/2               //Number of modes\n",
"\n",
"printf('Normalised frequency of Fibre is (V)=%.3f \n \n',V)\n",
"printf(' The Maximum Number of modes the Fibre will support is (Nm) =%.0f \n',Nm)"
   ]
   }
,
{
		   "cell_type": "markdown",
		   "metadata": {},
		   "source": [
			"## Example 3.11: Calculate_cut_off_parameter_and_number_of_modes.sce"
		   ]
		  },
  {
"cell_type": "code",
	   "execution_count": null,
	   "metadata": {
	    "collapsed": true
	   },
	   "outputs": [],
"source": [
"//Chapter-3,Example 3_11,Page 3-22\n",
"clc()\n",
"\n",
"//Given Data:\n",
"u1=1.54                  //R.I. of Core\n",
"u2=1.5                   //R.I.of Cladding\n",
"lam=1.3*10^-6            //wavelength in meter\n",
"a=25*10^-6               //core radius in meter\n",
"\n",
"//Calculations:\n",
"NA=sqrt(u1^2-u2^2)       //Formula to find Numerical Aperture\n",
"\n",
"V=2*%pi*a*NA/lam         //cut off parameter\n",
"printf('Cut off parameter of Fibre is =%.2f \n \n',V)\n",
"\n",
"N=(V^2)/2                //Number of modes\n",
"printf(' Number of modes of Fibre is =%.0f \n',N)"
   ]
   }
,
{
		   "cell_type": "markdown",
		   "metadata": {},
		   "source": [
			"## Example 3.12: Compute_delta_and_acceptance_angle.sce"
		   ]
		  },
  {
"cell_type": "code",
	   "execution_count": null,
	   "metadata": {
	    "collapsed": true
	   },
	   "outputs": [],
"source": [
"//Chapter-3,Example 3_12,Page 3-22\n",
"clc()\n",
"\n",
"//Given Data:\n",
"u1=1.5                  //R.I. of Core\n",
"d=10*10^-6              //diameter of core\n",
"a=d/2                   //core radius\n",
"lam=1.3*10^-6           //wavelength\n",
"V=2.405                 //cut off parameter for single mode\n",
"\n",
"//Calculations:\n",
"\n",
"//We know, V=2*%pi*a*NA/lam\n",
"NA=V*lam/(2*%pi*a)       //Numerical Aperture\n",
"\n",
"theta=asin(NA)*180/%pi   //Acceptance angle\n",
"printf('Acceptance angle of Fibre is =%.2f degrees \n \n',theta)\n",
"\n",
"//Also, NA=u1*sqrt(2*del)\n",
"del=(NA/u1)^2/2           //Fractional index\n",
"printf(' Maximum Fractional Refractive index of Fibre is =%.4f \n \n',del)\n",
"\n",
"//del=(u1-u2)/u1\n",
"u2=u1*(1-del)             //R.I.of cladding\n",
"printf(' Refractive index of cladding of Fibre is =%.3f \n',u2)"
   ]
   }
,
{
		   "cell_type": "markdown",
		   "metadata": {},
		   "source": [
			"## Example 3.13: Calculate_cladding_index_various_angles_and_NA_of_fibre.sce"
		   ]
		  },
  {
"cell_type": "code",
	   "execution_count": null,
	   "metadata": {
	    "collapsed": true
	   },
	   "outputs": [],
"source": [
"//Chapter-3,Example 3_13,Page 3-23\n",
"clc()\n",
"\n",
"//Given Data:\n",
"n1=1.5                //R.I. of core\n",
"delta=0.0005          //Fractional index difference\n",
"\n",
"//Calculations:\n",
"//(a):\n",
"//Delta=(u1-u2)/u1\n",
"n2=n1-(n1*delta)     //R.I. of cladding\n",
"printf('(a)Refractive Index of cladding of fibre is =%.2f \n \n',n2)\n",
"\n",
"//(b):\n",
"phi=asin(n2/n1)*180/%pi         //Critical internal reflection angle\n",
"printf(' (b)Critical internal reflection angle of Fibre is =%.1f degrees \n \n',phi)\n",
"\n",
"//(c):\n",
"theta0=asin(sqrt(n1^2-n2^2))*180/%pi    //External critical Acceptance angle\n",
"printf(' (c)External critical Acceptance angle of Fibre is =%.2f degrees \n \n',theta0)\n",
"\n",
"//(d):\n",
"NA=n1*sqrt(2*delta)          //Formula to find Numerical Aperture\n",
"printf(' (d)Numerical Aperture of Fibre is =%.4f \n',NA)"
   ]
   }
,
{
		   "cell_type": "markdown",
		   "metadata": {},
		   "source": [
			"## Example 3.14: Calculate_acceptance_angle.sce"
		   ]
		  },
  {
"cell_type": "code",
	   "execution_count": null,
	   "metadata": {
	    "collapsed": true
	   },
	   "outputs": [],
"source": [
"//Chapter-3,Example 3_14,Page 3-24\n",
"clc()\n",
"\n",
"//Given Data:\n",
"NA1=0.20              //Numerical Aperture of Fibre\n",
"n2=1.59               //R.I. of cladding\n",
"\n",
"//Calculations:\n",
"// NA=sqrt(n1^2-n2^2)\n",
"//In air, n0=1\n",
"n1=sqrt(NA1^2+n2^2)     //R.I.of core\n",
"\n",
"//Now, in water \n",
"n0=1.33\n",
"NA2=sqrt(n1^2-n2^2)/n0      //Numerical Aperture in water\n",
"theta0=asin(NA2)*180/%pi    //Acceptance angle of fibre in water\n",
"printf('Acceptance angle of Fibre in water is =%.1f degrees \n',theta0)"
   ]
   }
,
{
		   "cell_type": "markdown",
		   "metadata": {},
		   "source": [
			"## Example 3.15: Calculate_NA_and_acceptance_angle.sce"
		   ]
		  },
  {
"cell_type": "code",
	   "execution_count": null,
	   "metadata": {
	    "collapsed": true
	   },
	   "outputs": [],
"source": [
"//Chapter-3,Example 3_15,Page 3-24\n",
"clc()\n",
"\n",
"//Given Data:\n",
"n1=1.45              //R.I.of core\n",
"n2=1.40              //R.I. of cladding\n",
"\n",
"//Calculations:\n",
"NA=sqrt(n1^2-n2^2)   //Numerical Aperture\n",
"printf('Numerical Aperture of Fibre is =%.4f \n \n',NA)\n",
"\n",
"theta0=asin(NA)*180/%pi    //Acceptance angle of fibre\n",
"printf(' Acceptance angle of Fibre is =%.2f degrees \n',theta0)"
   ]
   }
,
{
		   "cell_type": "markdown",
		   "metadata": {},
		   "source": [
			"## Example 3.16: Calculate_acceptance_angle_and_RI_of_cladding.sce"
		   ]
		  },
  {
"cell_type": "code",
	   "execution_count": null,
	   "metadata": {
	    "collapsed": true
	   },
	   "outputs": [],
"source": [
"//Chapter-3,Example 3_16,Page 3-24\n",
"clc()\n",
"\n",
"//Given Data:\n",
"NA=0.16              //Numerical Aperture of Fibre\n",
"n1=1.45              //R.I. of core\n",
"d=90*10^-6           //Core diameter\n",
"\n",
"//Calculations:\n",
"//NA=sqrt(n1^2-n2^2)\n",
"n2=sqrt(n1^2-NA^2)    //R.I.of cladding\n",
"printf('(a)Refractive Index of cladding of fibre is =%.3f \n \n',n2)\n",
"\n",
"theta0=asin(NA)*180/%pi    //Acceptance angle of fibre\n",
"printf(' (b)Acceptance angle of Fibre is =%.2f degrees \n',theta0)"
   ]
   }
,
{
		   "cell_type": "markdown",
		   "metadata": {},
		   "source": [
			"## Example 3.17: Find_NA_Cladding_index_acceptance_angle_and_number_of_modes.sce"
		   ]
		  },
  {
"cell_type": "code",
	   "execution_count": null,
	   "metadata": {
	    "collapsed": true
	   },
	   "outputs": [],
"source": [
"//Chapter-3,Example 3_17,Page 3-25\n",
"clc()\n",
"\n",
"//Given Data:\n",
"n1=1.48               //R.I. of core\n",
"delta=0.055           //Realtive R.I.\n",
"lam=1*10^-6           //Wavelength of light\n",
"a=50*10^-6            //core radius\n",
"\n",
"//Calculations:\n",
"//Delta=(u1-u2)/u1\n",
"n2=n1-(n1*delta)      //R.I. of cladding\n",
"NA=n1*sqrt(2*delta)   //Formula to find Numerical Aperture\n",
"printf('Numerical Aperture of Fibre is =%.4f \n \n',NA)\n",
"\n",
"\n",
"theta0=asin(NA)*180/%pi     //Acceptance angle of fibre\n",
"printf(' Acceptance angle of Fibre is =%.2f degrees \n \n',theta0)\n",
"\n",
"V=2*%pi*a*NA/lam            //V number\n",
"N=(V^2)/2                   //Number of guided modes\n",
"\n",
"//In book,instead of NA , value of delta is taken into calculation.\n",
"//Thus there is calculation mistake in values of V and N.\n",
"\n",
"printf(' V number of Fibre is =%.3f \n \n',V)\n",
"printf(' Number of guided mode of Fibre is =%.3f \n',N)\n",
"printf('(Calculation mistake in book)')"
   ]
   }
,
{
		   "cell_type": "markdown",
		   "metadata": {},
		   "source": [
			"## Example 3.1: Find_NA_of_fibre.sce"
		   ]
		  },
  {
"cell_type": "code",
	   "execution_count": null,
	   "metadata": {
	    "collapsed": true
	   },
	   "outputs": [],
"source": [
"//Chapter-3,Example 3_1,Page 3-19\n",
"clc()\n",
"\n",
"//Given Data:\n",
"n1=1.61                 //Core index\n",
"n2=1.55                 //Cladding index\n",
"\n",
"//Calculations:\n",
"NA=sqrt(n1^2-n2^2)      //Formula\n",
"\n",
"printf('Numerical Aperture of Fibre is = %.3f ',NA)\n",
""
   ]
   }
,
{
		   "cell_type": "markdown",
		   "metadata": {},
		   "source": [
			"## Example 3.2: Find_NA_of_fibre.sce"
		   ]
		  },
  {
"cell_type": "code",
	   "execution_count": null,
	   "metadata": {
	    "collapsed": true
	   },
	   "outputs": [],
"source": [
"//Chapter-3,Example 3_2,Page 3-19\n",
"clc()\n",
"\n",
"//Given Data:\n",
"n1=1.65                 //Core index\n",
"n2=1.53                 //Cladding index\n",
"\n",
"//Calculations:\n",
"NA=sqrt(n1^2-n2^2)      //Formula\n",
"\n",
"printf('Numerical Aperture of Fibre is = %.3f ',NA)"
   ]
   }
,
{
		   "cell_type": "markdown",
		   "metadata": {},
		   "source": [
			"## Example 3.3: Find_acceptance_angle.sce"
		   ]
		  },
  {
"cell_type": "code",
	   "execution_count": null,
	   "metadata": {
	    "collapsed": true
	   },
	   "outputs": [],
"source": [
"//Chapter-3,Example 3_3,Page 3-19\n",
"clc()\n",
"\n",
"//Given Data:\n",
"n1=1.48                 //R.I. of Core\n",
"n2=1.39                 //R.I. of Cladding\n",
"\n",
"//Calculations:\n",
"NA=sqrt(n1^2-n2^2)      //Formula to find NA\n",
"phi=asin(NA)*180/%pi    //Acceptance angle\n",
"\n",
"printf('Numerical Aperture of Fibre is = %.3f \n \n',NA)\n",
"printf(' Acceptance angle of Fibre is =%.1f degrees',phi)"
   ]
   }
,
{
		   "cell_type": "markdown",
		   "metadata": {},
		   "source": [
			"## Example 3.4: Find_velocity_and_wavelengths.sce"
		   ]
		  },
  {
"cell_type": "code",
	   "execution_count": null,
	   "metadata": {
	    "collapsed": true
	   },
	   "outputs": [],
"source": [
"//Chapter-3,Example 3_4,Page 3-20\n",
"clc()\n",
"\n",
"//given data:\n",
"u1=3.6        //Refractive Index of the Substance at 850 nm\n",
"u2=3.4        //Refractive Index of the Substance at 1300 nm\n",
"Vv=3*10^8     //Velocity of light in free space\n",
"\n",
"//Calculations:\n",
"// i)Finding wavelength at 850 nm\n",
"Vs1=Vv/u1             //Velocity of light in substance at 850 nm\n",
"printf('Velocity of light in substance at 850 nm =%.2f m/sec \n \n',Vs1)\n",
"\n",
"lam1=850*10^-9/u1    //Wavelength of light in substance at 850nm\n",
"printf(' Wavelength of light in substance at 850nm =%.10f m \n \n',lam1)\n",
"\n",
"\n",
"// ii)Finding wavelength at 1300 nm\n",
"Vs2=Vv/u2             //Velocity of light in substance at 1300 nm\n",
"printf(' Velocity of light in substance at 1300 nm =%.2f m/sec \n \n',Vs2)\n",
"\n",
"lam2=1300*10^-9/u2   //Wavelength of light in substance at 1300nm\n",
"printf(' Wavelength of light in substance at 1300nm =%.10f m \n',lam2)"
   ]
   }
,
{
		   "cell_type": "markdown",
		   "metadata": {},
		   "source": [
			"## Example 3.5: Find_NA_acceptance_angle_and_critical_angle.sce"
		   ]
		  },
  {
"cell_type": "code",
	   "execution_count": null,
	   "metadata": {
	    "collapsed": true
	   },
	   "outputs": [],
"source": [
"//Chapter-3,Example 3_5,Page 3-20\n",
"clc()\n",
"\n",
"//Given Data:\n",
"u1=1.5                  //R.I. of Core\n",
"u2=1.45                 //R.I.of Cladding\n",
"del=(u1-u2)/u1          //Fractional Refractive index\n",
"\n",
"//Calculations:\n",
"NA=u1*sqrt(2*del)             //Formula to find NA\n",
"theta0=asin(NA)*180/%pi       //Acceptance angle\n",
"thetac=asin(u2/u1)*180/%pi    //Critical angle\n",
"\n",
"printf('Numerical Aperture of Fibre is =%.3f \n \n',NA)\n",
"printf(' Acceptance angle of Fibre is =%.2f degrees \n \n',theta0)\n",
"printf(' Critical angle of Fibre is =%.1f degrees \n',thetac)"
   ]
   }
,
{
		   "cell_type": "markdown",
		   "metadata": {},
		   "source": [
			"## Example 3.6: Calculate_RI_of_core_and_cladding.sce"
		   ]
		  },
  {
"cell_type": "code",
	   "execution_count": null,
	   "metadata": {
	    "collapsed": true
	   },
	   "outputs": [],
"source": [
"//Chapter-3,Example 3_6,Page 3-20\n",
"clc()\n",
"\n",
"//Given Data:\n",
"NA=0.22              // Numerical Aperture of Fibre\n",
"delta=0.012          //Fractional index\n",
"\n",
"//Calculations:\n",
"//Delta=(u1-u2)/u1\n",
"u1=NA/sqrt(2*delta)  //Formula\n",
"u2=u1-(u1*delta)     //Formula\n",
"\n",
"printf('Refractive Index of core of fibre is =%.2f \n \n',u1)\n",
"printf(' Refractive Index of cladding of fibre is =%.2f \n',u2)"
   ]
   }
,
{
		   "cell_type": "markdown",
		   "metadata": {},
		   "source": [
			"## Example 3.7: Calculate_core_radius_NA_and_spot_size.sce"
		   ]
		  },
  {
"cell_type": "code",
	   "execution_count": null,
	   "metadata": {
	    "collapsed": true
	   },
	   "outputs": [],
"source": [
"//Chapter-3,Example 3_7,Page 3-21\n",
"clc()\n",
"\n",
"//Given Data:\n",
"u1=1.466                 //R.I. of Core\n",
"u2=1.46                  //R.I.of Cladding\n",
"V=2.4                    //Cut off parameter\n",
"lam=0.8*10^-6            //wavelength in meter\n",
"\n",
"//Calculations:\n",
"NA=sqrt(u1^2-u2^2)       //Formula to find Numerical Aperture\n",
"printf('Numerical Aperture of Fibre is =%.2f \n',NA)\n",
"//(printing mistake in book)printed answer is 1.13 but correct answer is 0.13\n",
"printf('(printing mistake in book) \n \n')\n",
"\n",
"// V = 2*%pi*a*NA / lam\n",
"a=V*lam/(2*%pi*NA)   //core radius\n",
"printf(' Core radius of Fibre is (a) =%.8f m \n \n',a)\n",
"\n",
"//w/a= 1.1\n",
"w=1.1*a                  //Spot size\n",
"printf(' Spot size of Fibre is =%.8f m \n \n',w)\n",
"\n",
"theta=2*lam*180/%pi/(%pi*w)       //Divergence angle\n",
"printf(' Divergence angle of Fibre is =%.2f degrees \n \n',theta)\n",
"\n",
"w10=lam*10/(%pi*w)        //Spot size at 10 m\n",
"printf(' Spot size at 10 m of Fibre is =%.2f m \n \n',w10)"
   ]
   }
,
{
		   "cell_type": "markdown",
		   "metadata": {},
		   "source": [
			"## Example 3.8: Calculate_cut_off_parameter_and_number_of_modes.sce"
		   ]
		  },
  {
"cell_type": "code",
	   "execution_count": null,
	   "metadata": {
	    "collapsed": true
	   },
	   "outputs": [],
"source": [
"//Chapter-3,Example 3_8,Page 3-21\n",
"clc()\n",
"\n",
"//Given Data:\n",
"w=98                    //Spot size in meter\n",
"d=50*10^-6              //Core diameter in meter\n",
"a=d/2                   //core radius\n",
"u1=1.47                 //R.I. of Core\n",
"u2=1.45                 //R.I.of Cladding\n",
"lam=0.85*10^-6          //Wavlength in meter\n",
"NA=sqrt(u1^2-u2^2)      //Formula to find NA\n",
"\n",
"//Calculations:\n",
"V=2*%pi*a*NA/lam        //cut off parameter\n",
"N=(V^2)/2               //Number of modes\n",
"\n",
"printf('Cut off parameter of Fibre is =%.4f \n \n',V)\n",
"printf(' Number of modes of Fibre is =%.0f \n',N)"
   ]
   }
,
{
		   "cell_type": "markdown",
		   "metadata": {},
		   "source": [
			"## Example 3.9: Calculate_maximum_radius.sce"
		   ]
		  },
  {
"cell_type": "code",
	   "execution_count": null,
	   "metadata": {
	    "collapsed": true
	   },
	   "outputs": [],
"source": [
"//Chapter-3,Example 3_9,Page 3-21\n",
"clc()\n",
"\n",
"//Given Data:\n",
"u1=1.47                 //R.I. of Core\n",
"u2=1.46                 //R.I.of Cladding\n",
"lam=1.3*10^-6           //wavelength in meter\n",
"\n",
"//Calculations:\n",
"NA=sqrt(u1^2-u2^2)      //Formula to find Numerical Aperture\n",
"\n",
"//The condition for single mode is V<2.405\n",
"//2*%pi*a*NA/lam < 2.405\n",
"\n",
"a=2.405*lam/(2*%pi*NA)   //Maximum radius of fibre\n",
"\n",
"printf('Maximum radius of Fibre is =%.8f meter \n',a)"
   ]
   }
],
"metadata": {
		  "kernelspec": {
		   "display_name": "Scilab",
		   "language": "scilab",
		   "name": "scilab"
		  },
		  "language_info": {
		   "file_extension": ".sce",
		   "help_links": [
			{
			 "text": "MetaKernel Magics",
			 "url": "https://github.com/calysto/metakernel/blob/master/metakernel/magics/README.md"
			}
		   ],
		   "mimetype": "text/x-octave",
		   "name": "scilab",
		   "version": "0.7.1"
		  }
		 },
		 "nbformat": 4,
		 "nbformat_minor": 0
}
