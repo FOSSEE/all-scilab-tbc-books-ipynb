{
"cells": [
 {
		   "cell_type": "markdown",
	   "metadata": {},
	   "source": [
       "# Chapter 6: Magnetic Materials and Circuits"
	   ]
	},
{
		   "cell_type": "markdown",
		   "metadata": {},
		   "source": [
			"## Example 6.10: Calculate_relative_permeability.sce"
		   ]
		  },
  {
"cell_type": "code",
	   "execution_count": null,
	   "metadata": {
	    "collapsed": true
	   },
	   "outputs": [],
"source": [
"//Chapter-6,Example 6_10,Page 6-30\n",
"clc()\n",
"\n",
"//Given Values:\n",
"B=2.5              //Magnetic field in tesla\n",
"u0=4*%pi*10^-7     //Permeability in free space\n",
"i0=0.7             //current in the core\n",
"ri=11*10^-2        //inner radii of core\n",
"ro=12*10^-2        //outer radii of core\n",
"\n",
"//Calculations:\n",
"r=(ri+ro)/2         //Average radii of core\n",
"n=3000/(2*%pi*r)    //Number of turns\n",
"\n",
"//We know, B=u0*ur*n*i0 .Thus,\n",
"ur=B/(u0*n*i0)\n",
"\n",
"printf('Relative Permeability of medium is =%.2f \n',ur)"
   ]
   }
,
{
		   "cell_type": "markdown",
		   "metadata": {},
		   "source": [
			"## Example 6.11: Calculate_relative_permeability.sce"
		   ]
		  },
  {
"cell_type": "code",
	   "execution_count": null,
	   "metadata": {
	    "collapsed": true
	   },
	   "outputs": [],
"source": [
"//Chapter-6,Example 6_11,Page 6-31\n",
"clc()\n",
"\n",
"//Given Values:\n",
"B=1.0              //Flux density in tesla\n",
"u0=4*%pi*10^-7     //Permeability in free space\n",
"i=2.0              //current in the core\n",
"n=10*100           //n=N/l i.e. turns per meter\n",
"\n",
"//Calculations:\n",
"H=n*i               //Magnetising force produced in wire\n",
"printf('Magnetising force produced in wire is =%.2f Amp-turn/meter \n \n',H)\n",
"\n",
"//We know that, B=u0(H+I).Thus,\n",
"I=B/u0-H           //Magnetisation of material\n",
"printf(' Magnetisation of material is =%.2f Amp-turn/meter \n \n',I)\n",
"\n",
"//u=B/H, i.e. ur*u0=B/H.\n",
"ur=B/(u0*H)        //Relative permeability of core\n",
"printf(' Relative Permeability of core is =%.1f \n',ur)"
   ]
   }
,
{
		   "cell_type": "markdown",
		   "metadata": {},
		   "source": [
			"## Example 6.12: Calculate_energy_loss.sce"
		   ]
		  },
  {
"cell_type": "code",
	   "execution_count": null,
	   "metadata": {
	    "collapsed": true
	   },
	   "outputs": [],
"source": [
"//Chapter-6,Example 6_12,Page 6-31\n",
"clc()\n",
"\n",
"//Given Values:\n",
"M=40             //Mass of an iron core\n",
"D=7.5*10^3       //Density of iron\n",
"f=100            //Frequency\n",
"A=3800*10^-1     //Loss due to Area of hysterisis loop in J/m^3\n",
"\n",
"//Calculations:\n",
"V=M/D           //Volume of iron core\n",
"L1=A*V          //Loss of energy in core per cycle\n",
"printf('Loss of energy in core per cycles is =%.2f Joules \n \n',L1)\n",
"\n",
"N=f*60          //Number of cycles per minute\n",
"L=L1*N          //Loss of energy per minute\n",
"\n",
"printf(' Loss of energy per minute is =%.1f Joules \n',L)"
   ]
   }
,
{
		   "cell_type": "markdown",
		   "metadata": {},
		   "source": [
			"## Example 6.13: Calculate_flux_density_and_permeability.sce"
		   ]
		  },
  {
"cell_type": "code",
	   "execution_count": null,
	   "metadata": {
	    "collapsed": true
	   },
	   "outputs": [],
"source": [
"//Chapter-6,Example 6_13,Page 6-32\n",
"clc()\n",
"\n",
"//Given Values:\n",
"u0=4*%pi*10^-7     //Permeability in vacuum\n",
"l=30*10^-2         //length in meter\n",
"A=1*10^-4          //Crosss sectional area of ring in m^2\n",
"phi=2*10^-6        //flux in weber\n",
"N=300              //Number of turns\n",
"I=0.032            //Current in winding\n",
"\n",
"//Calculations:\n",
"//(i):\n",
"B=phi/A            //Flux density\n",
"printf('i)Flux Density in the ring is =%.2f Wb/m^2 \n \n',B)\n",
"\n",
"//(ii):\n",
"H=N*I/l            //Magnetic intensity\n",
"printf(' ii)Magnetic intensity is =%.0f Amp-turn/meter \n \n',H)\n",
"\n",
"//(iii):\n",
"u=B/H              //Permeability of ring\n",
"printf(' iii)Permeability of ring is =%.6f Wb/A-m \n \n',u)\n",
"ur=u/u0            //Relative permeability of ring\n",
"printf(' Relative Permeability of ring is =%.1f \n \n',ur)\n",
"\n",
"//(iv):\n",
"xm=ur-1            //susceptibility of the ring\n",
"printf(' iv)Magnetic susceptibility of the ring is =%.2f \n \n',xm)"
   ]
   }
,
{
		   "cell_type": "markdown",
		   "metadata": {},
		   "source": [
			"## Example 6.14: Calculate_loss_of_energy.sce"
		   ]
		  },
  {
"cell_type": "code",
	   "execution_count": null,
	   "metadata": {
	    "collapsed": true
	   },
	   "outputs": [],
"source": [
"//Chapter-6,Example 6_14,Page 6-32\n",
"clc()\n",
"\n",
"//Given Values:\n",
"M=12*10^3        //Mass of an iron core in grams\n",
"D=7.5            //Density of iron in gm/cc\n",
"f=50             //Frequency\n",
"A=3000           //Loss due to Area of hysterisis loop in ergs/cm^3\n",
"\n",
"//Calculations:\n",
"V=M/D           //Volume of iron core\n",
"L1=A*V          //Loss of energy in core per cycle\n",
"\n",
"L=L1*f*3600     //Loss of energy per hour\n",
"\n",
"printf('Loss of energy per hour is =%.0f Erg \n',L)"
   ]
   }
,
{
		   "cell_type": "markdown",
		   "metadata": {},
		   "source": [
			"## Example 6.15: Calculate_hysteresis_power_loss.sce"
		   ]
		  },
  {
"cell_type": "code",
	   "execution_count": null,
	   "metadata": {
	    "collapsed": true
	   },
	   "outputs": [],
"source": [
"//Chapter-6,Example 6_15,Page 6-33\n",
"clc()\n",
"\n",
"//Given Values:\n",
"A=0.5*10^3            //Area of B-H loop in Joules per m^3\n",
"V=10^-3               //Volume of specimen in m^3\n",
"n=50                  //Frequency of a.c.\n",
"\n",
"//Calculations:\n",
"H=n*V*A               //Hysteresis power loss\n",
"\n",
"printf('Hysteresis power loss is =%.0f Watt \n',H)"
   ]
   }
,
{
		   "cell_type": "markdown",
		   "metadata": {},
		   "source": [
			"## Example 6.16: Find_magnetic_moment.sce"
		   ]
		  },
  {
"cell_type": "code",
	   "execution_count": null,
	   "metadata": {
	    "collapsed": true
	   },
	   "outputs": [],
"source": [
"//Chapter-6,Example 6_16,Page 6-3\n",
"clc()\n",
"\n",
"//Given Values:\n",
"u0=4*%pi*10^-7     //Permeability in vacuum\n",
"ur=1000            //Relative permeability of medium\n",
"V=10^-4            //Volume of iron rod in m^3\n",
"n=500              //Number of turns per meter\n",
"i=0.5              //Current in windings of solenoid in Amperes\n",
"\n",
"//Calculations:\n",
"//We know I=(ur-1)H\n",
"//and H=ni , hence\n",
"I=(ur-1)*n*i       //Intensity of magnetisation\n",
"M=I*V              //Magnetic moment\n",
"\n",
"printf('Magnetic moment of the rod is =%.0f A-m^2 \n',M)\n",
"\n",
""
   ]
   }
,
{
		   "cell_type": "markdown",
		   "metadata": {},
		   "source": [
			"## Example 6.17: Find_flux_density_and_magnetic_intensity.sce"
		   ]
		  },
  {
"cell_type": "code",
	   "execution_count": null,
	   "metadata": {
	    "collapsed": true
	   },
	   "outputs": [],
"source": [
"//Chapter-6,Example 6_17,Page 6-34\n",
"clc()\n",
"\n",
"//Given Values:\n",
"u0=4*%pi*10^-7     //Permeability in vacuum\n",
"ur=600             //Relative permeability of iron\n",
"d=12*10^-2         //mean diameter of ring in m\n",
"N=500              //Number of turns\n",
"i=0.3              //Current in windings of solenoid in Amperes\n",
"\n",
"//Calculations:\n",
"r=d/2                    //Radius of ring\n",
"\n",
"B=u0*ur*N*i/(2*%pi*r)    //Flux densityin the core\n",
"printf('Flux densityin the core is =%.1f Wb/m^2 \n \n',B)\n",
"\n",
"H=B/(u0*ur)             //Magnetic intensity\n",
"printf(' Magnetic intensity is =%.1f Amp-turns/m \n \n',H)\n",
"\n",
"//We know that, B=u0(H+I)\n",
"I1=(B-u0*H)/u0           //magnetisation\n",
"I2=u0*I1                 //Electronic current loop\n",
"\n",
"I=I2/B*100               //Percentage flux density due to electroniuc loop currents\n",
"printf(' Percentage flux density due to electroniuc loop currents is =%.2f percent \n \n',I)"
   ]
   }
,
{
		   "cell_type": "markdown",
		   "metadata": {},
		   "source": [
			"## Example 6.18_1: Find_magnetic_flux_density.sce"
		   ]
		  },
  {
"cell_type": "code",
	   "execution_count": null,
	   "metadata": {
	    "collapsed": true
	   },
	   "outputs": [],
"source": [
"//Chapter-6,Example 6_18_1,Page 6-38\n",
"clc()\n",
"\n",
"//Given Values:\n",
"u0=4*%pi*10^-7       //Permeability in vacuum\n",
"X=-0.5*10^-5         //Magnetic susceptibility of silicon\n",
"H=9.9*10^4           //Magnetic field intensity\n",
"\n",
"//Calculations:\n",
"\n",
"//As, X=I/H. thus,\n",
"I=X*H                //intensity of magnetisation\n",
"printf('Intensity of magnetisation is =%.3f \n \n',I)\n",
"\n",
"B=u0*(H+I)           //Magnetic flux density\n",
"printf(' Magnetic flux density is =%.3f Wb per m^2 \n',B)"
   ]
   }
,
{
		   "cell_type": "markdown",
		   "metadata": {},
		   "source": [
			"## Example 6.18_2: Determine_reluctance_and_current.sce"
		   ]
		  },
  {
"cell_type": "code",
	   "execution_count": null,
	   "metadata": {
	    "collapsed": true
	   },
	   "outputs": [],
"source": [
"//Chapter-6,Example 6_18_2,Page 6-38\n",
"clc()\n",
"\n",
"//Given Values:\n",
"u0=4*%pi*10^-7     //Permeability in vacuum\n",
"ur=380             //Relative permeability\n",
"d=20*10^-2         //diameter of solenoid in m\n",
"r=d/2              //radius of ring in m\n",
"A=5*10^-4          //Crosss sectional area of ring in m^2\n",
"phi=2*10^-3        //flux in weber\n",
"N=200              //Number of turns\n",
"\n",
"//Calculations:\n",
"l=%pi*d            //air gap in the ring\n",
"S=(l/(u0*ur*A))    //Reluctance of iron ring\n",
"printf('Reluctance of iron ring is =%.2f Amp-turn per Wb \n \n',S)\n",
"\n",
"//ohm's law for magnetic circuit is  phi=N*I/S. thus,\n",
"I=S*phi/N          //required current\n",
"printf(' Current required to obtain given magnetic flux is =%.2f Amperes \n',I)"
   ]
   }
,
{
		   "cell_type": "markdown",
		   "metadata": {},
		   "source": [
			"## Example 6.18_3: Calculate_mmf_reluctance_B_and_H.sce"
		   ]
		  },
  {
"cell_type": "code",
	   "execution_count": null,
	   "metadata": {
	    "collapsed": true
	   },
	   "outputs": [],
"source": [
"//Chapter-6,Example 6_18_3,Page 6-39\n",
"clc()\n",
"\n",
"//Given Values:\n",
"u0=4*%pi*10^-7     //Permeability in vacuum\n",
"ur=1               //Relative permeability of air\n",
"r=15*10^-2         //radius of ring in m\n",
"A=6*10^-4          //Crosss sectional area of ring in m^2\n",
"I=4                //Coil current in amp\n",
"N=500              //Number of turns\n",
"\n",
"//Calculations:\n",
"m=N*I              //MMF of coil\n",
"printf('MMF of coil is =%.0f Amp-turn \n \n',m)\n",
"\n",
"l=2*%pi*r          //air gap\n",
"R=(l/(u0*ur*A))    //Reluctance of iron ring\n",
"printf(' Reluctance of iron ring is =%.0f Amp-turn per Wb \n \n',R)\n",
"\n",
"phi=m/R            //Magnetic flux\n",
"printf(' Magnetic flux is =%.7f Weber \n \n',phi)\n",
"\n",
"B=phi/A            //Magnetic Flux density\n",
"printf(' Magnetic flux density is =%.6f Weber per m^2 \n \n',B)\n",
"\n",
"H=B/(u0*ur)        //Magnetic field intensity\n",
"printf(' Magnetic field intensity is =%.0f Amperes per m \n \n',H)\n",
""
   ]
   }
,
{
		   "cell_type": "markdown",
		   "metadata": {},
		   "source": [
			"## Example 6.18: Calculate_current.sce"
		   ]
		  },
  {
"cell_type": "code",
	   "execution_count": null,
	   "metadata": {
	    "collapsed": true
	   },
	   "outputs": [],
"source": [
"//Chapter-6,Example 6_18,Page 6-35\n",
"clc()\n",
"\n",
"//Given Values:\n",
"\n",
"u0=4*%pi*10^-7     //Permeability in vacuum\n",
"ur=900             //Relative permeability of iron ring\n",
"d=40*10^-2         //diameter of ring\n",
"l=5*10^-3          //air gap in the ring\n",
"A=5.8*10^-4        //Crosss sectional area of ring in m^2\n",
"phi=1.5*10^-4      //flux in weber\n",
"N=600              //Number of turns\n",
"\n",
"//Calculations:\n",
"r=d/2              //Radius of ring\n",
"\n",
"//We know, phi=B*A\n",
"B=phi/A            //Flux density\n",
"\n",
"//But, B=u*H\n",
"H=B/(u0*ur)        //Magnetic field strength\n",
"\n",
"m1=H*ur*l          //amp-turns in air gap\n",
"m2=H*2*%pi*r       //amp-turns by ring\n",
"m=m1+m2            //total mmf(amp-turns) required\n",
"\n",
"I=m/N              //Required current\n",
"printf('Current required to produce given flux is =%.2f Amperes \n',I)"
   ]
   }
,
{
		   "cell_type": "markdown",
		   "metadata": {},
		   "source": [
			"## Example 6.19: Calculate_reluctance_and_mmf.sce"
		   ]
		  },
  {
"cell_type": "code",
	   "execution_count": null,
	   "metadata": {
	    "collapsed": true
	   },
	   "outputs": [],
"source": [
"//Chapter-6,Example 6_19,Page 6-36\n",
"clc()\n",
"\n",
"//Given Values:\n",
"u0=4*%pi*10^-7     //Permeability in vacuum\n",
"ur=6*10^-3         //Relative permeability of iron\n",
"r=0.5              //radius of ring in m\n",
"l=1*10^-2          //air gap in the ring\n",
"A=5*10^-4          //Crosss sectional area of ring in m^2\n",
"i=5                //current in ampere\n",
"N=900              //Number of turns\n",
"\n",
"//Calculations:\n",
"S=(l/(u0*A))+((2*%pi*r-l)/ur*A)     //Reluctance of iron\n",
"printf('Reluctance of iron is =%.2f Amp-turn per Wb \n \n',S)\n",
"\n",
"m=N*i              //mmf produced\n",
"printf(' mmf produced is =%.2f Amp-turn \n',m)"
   ]
   }
,
{
		   "cell_type": "markdown",
		   "metadata": {},
		   "source": [
			"## Example 6.1: Find_flux_density_and_Relative_permeability.sce"
		   ]
		  },
  {
"cell_type": "code",
	   "execution_count": null,
	   "metadata": {
	    "collapsed": true
	   },
	   "outputs": [],
"source": [
"//Chapter-6,Example 6_1,Page 6-26\n",
"clc()\n",
"\n",
"//Given Values:\n",
"H=198               //Magnetizing Force in Ampere per meter\n",
"M=2300              //Magnetization in Ampere per meter\n",
"u0=4*%pi*10^-7      //Permeability in vacuum\n",
"\n",
"//Calculations:\n",
"//H=(B/u0)-M\n",
"B=u0*(H+M)          //Flux Density\n",
"ur=B/(u0*H)         //Relative Permeability\n",
"\n",
"printf('Corresponding Flux Density is =%.5f Wb/m^2 \n \n',B)\n",
"printf(' Relative Permeability is =%.2f \n',ur)"
   ]
   }
,
{
		   "cell_type": "markdown",
		   "metadata": {},
		   "source": [
			"## Example 6.20: Calculate_current.sce"
		   ]
		  },
  {
"cell_type": "code",
	   "execution_count": null,
	   "metadata": {
	    "collapsed": true
	   },
	   "outputs": [],
"source": [
"//Chapter-6,Example 6_20,Page 6-36\n",
"clc()\n",
"\n",
"//Given Values:\n",
"H=5*10^3           //coercivity of bar magnet in amp/m\n",
"l=10*10^-2         //length of solenoid in m\n",
"N=50               //No of turns\n",
"\n",
"//Calculations:\n",
"\n",
"//We know that, H=NI/l ,hence\n",
"I=l*H/N            //current through solenoid\n",
"\n",
"printf('Current through solenoid is =%.0f Amperes \n',I)"
   ]
   }
,
{
		   "cell_type": "markdown",
		   "metadata": {},
		   "source": [
			"## Example 6.21: Find_magnetic_moment.sce"
		   ]
		  },
  {
"cell_type": "code",
	   "execution_count": null,
	   "metadata": {
	    "collapsed": true
	   },
	   "outputs": [],
"source": [
"//Chapter-6,Example 6_21,Page 6-36\n",
"clc()\n",
"\n",
"//Given Values:\n",
"ur=1200           //Relative permeability of medium\n",
"V=10^-3           //volume of iron rod\n",
"N=5*10^2          //no of turns per m\n",
"i=0.5             //current through solenoid in amp\n",
"\n",
"//Calculations:\n",
"x=ur-1            //susceptibility of the ring\n",
"H=N*i             //Magnetisisng field\n",
"\n",
"//We know, x=I/H\n",
"I=x*H             //magnetisation\n",
"\n",
"//Also, I=M/V , thus\n",
"M=I*V             //magnetic moment\n",
"printf('Magnetic moment is =%.2f Amp-turn-m^2 \n',M)"
   ]
   }
,
{
		   "cell_type": "markdown",
		   "metadata": {},
		   "source": [
			"## Example 6.22: Find_magnetic_moment.sce"
		   ]
		  },
  {
"cell_type": "code",
	   "execution_count": null,
	   "metadata": {
	    "collapsed": true
	   },
	   "outputs": [],
"source": [
"//Chapter-6,Example 6_22,Page 6-37\n",
"clc()\n",
"\n",
"//Given Values:\n",
"ur=100            //Relative permeability of medium\n",
"l=0.2             //length of iron rod\n",
"d=10*10^-3        //diameter of solenoid in m\n",
"N=300             //no of turns per m\n",
"i=0.5             //current through solenoid in amp\n",
"r=d/2             //radius of solenoid\n",
"\n",
"//Calculations:\n",
"x=ur-1            //susceptibility of the ring\n",
"H=N*i             //Magnetisisng field\n",
"\n",
"//We know, x=I/H\n",
"I=x*H             //magnetisation\n",
"\n",
"V=%pi*(r^2)*l     //volume of iron rod\n",
"\n",
"//Also, I=M/V , thus\n",
"M=I*V             //magnetic moment\n",
"printf('Magnetic moment is =%.4f Amp-turn-m^2 \n',M)"
   ]
   }
,
{
		   "cell_type": "markdown",
		   "metadata": {},
		   "source": [
			"## Example 6.23: Find_magnetizing_current.sce"
		   ]
		  },
  {
"cell_type": "code",
	   "execution_count": null,
	   "metadata": {
	    "collapsed": true
	   },
	   "outputs": [],
"source": [
"//Chapter-6,Example 6_23,Page 6-38\n",
"clc()\n",
"\n",
"//Given Values:\n",
"l=1.2             //length of circuit in meter\n",
"u=7.3*10^-3       //permeability of silicon sheet\n",
"A=100             //cross sectional area in cm^2\n",
"N=150             //No of turns\n",
"B=0.3             //magmetic field in Wb/m^2\n",
"\n",
"//Calculations:\n",
"\n",
"//We know, B=u*H\n",
"H=B/u             //Magnetic field strength\n",
"\n",
"m=H*l             //amp-turns in air gap\n",
"\n",
"I1=m/N            //Required current\n",
"printf('Current required to obtain given magnetic field is =%.3f Amperes \n \n',I1)\n",
"\n",
"I=I1/A            //Required current per unit area\n",
"printf(' Current required per unit area to obtain given magnetic field is =%.6f Amperes \n',I)"
   ]
   }
,
{
		   "cell_type": "markdown",
		   "metadata": {},
		   "source": [
			"## Example 6.2: Find_relative_permeability.sce"
		   ]
		  },
  {
"cell_type": "code",
	   "execution_count": null,
	   "metadata": {
	    "collapsed": true
	   },
	   "outputs": [],
"source": [
"//Chapter-6,Example 6_2,Page 6-26\n",
"clc()\n",
"\n",
"//Given Values:\n",
"x=3.7*10^-3            //Susceptibility at T=300 K\n",
"T=300                  //Temperature in kelvin\n",
"T1=250                 //Temperature in kelvin\n",
"T2=600                 //Temperature in kelvin\n",
"\n",
"//Calculations:\n",
"C=x*T                 //Curie's law\n",
"ur1=C/T1              //Relative permeability at 250 K\n",
"ur2=C/T2              //Relative permeability at 600 K\n",
"\n",
"printf('Relative Permeability at 250 K is =%.6f \n \n',ur1)\n",
"printf(' Relative Permeability at 600 K is =%.6f \n',ur2)"
   ]
   }
,
{
		   "cell_type": "markdown",
		   "metadata": {},
		   "source": [
			"## Example 6.3: Calculate_temperature.sce"
		   ]
		  },
  {
"cell_type": "code",
	   "execution_count": null,
	   "metadata": {
	    "collapsed": true
	   },
	   "outputs": [],
"source": [
"//Chapter-6,Example 6_3,Page 6-27\n",
"clc()\n",
"\n",
"//Given Values:\n",
"u=0.8*10^-23          //Magnetic dipole moment of an atom in paramagnetic gas in J/T\n",
"B=0.8                 //Magnetic field in tesla\n",
"K=1.38*10^-23         //Boltzmann constant\n",
"\n",
"//To find Temperature at which Average thermal energy is equal to Magnetic energy \n",
"//i.e. uB=3KT/2\n",
"T=2*u*B/(3*K)         //Required temperature\n",
"\n",
"printf('Required temperature is =%.3f Kelvin \n',T)"
   ]
   }
,
{
		   "cell_type": "markdown",
		   "metadata": {},
		   "source": [
			"## Example 6.4: Calculate_Magnetization.sce"
		   ]
		  },
  {
"cell_type": "code",
	   "execution_count": null,
	   "metadata": {
	    "collapsed": true
	   },
	   "outputs": [],
"source": [
"//Chapter-6,Example 6_4,Page 6-27\n",
"clc()\n",
"\n",
"//Given Values:\n",
"T=27+273          //Temperature in kelvin\n",
"B=0.5             //Magnetic field in tesla\n",
"C=2*10^-3         //Curie's Constant\n",
"u0=4*%pi*10^-7    //Permeability in vacuum\n",
"\n",
"// C=u0*M*T/B (Curie's law)\n",
"M=C*B/(u0*T)      //Magnetization of material at 300 K\n",
"\n",
"printf('Magnetization of material at 300 K is =%.2f A/m \n',M)"
   ]
   }
,
{
		   "cell_type": "markdown",
		   "metadata": {},
		   "source": [
			"## Example 6.5: Calculate_horizontal_component_of_B.sce"
		   ]
		  },
  {
"cell_type": "code",
	   "execution_count": null,
	   "metadata": {
	    "collapsed": true
	   },
	   "outputs": [],
"source": [
"//Chapter-6,Example 6_5,Page 6-27\n",
"clc()\n",
"\n",
"//Given Values:\n",
"B=10.9*10^-5            //Horizontal component of B in wb/m^2\n",
"u0=4*%pi*10^-7          //Permeability in free space\n",
"\n",
"H=B/u0                  //Horizontal component of magnetic field\n",
"printf('Horizontal component of magnetic field is =%.1f Ampere/meter \n',H)\n",
"printf(' (Print mistake in unit in book)')"
   ]
   }
,
{
		   "cell_type": "markdown",
		   "metadata": {},
		   "source": [
			"## Example 6.6: Calculate_current.sce"
		   ]
		  },
  {
"cell_type": "code",
	   "execution_count": null,
	   "metadata": {
	    "collapsed": true
	   },
	   "outputs": [],
"source": [
"//Chapter-6,Example 6_6,Page 6-28\n",
"clc()\n",
"\n",
"//Given Values:\n",
"u0=4*%pi*10^-7     //Permeability in vacuum\n",
"ur=900             //Relative permeability of medium\n",
"l=2                //length in meter\n",
"A=60*10^-4         //Crosss sectional area of ring in m^2\n",
"phi=5.9*10^-3      //flux in weber\n",
"n=700              //Number of turns\n",
"\n",
"//Calculations:\n",
"//We know, phi=B*A\n",
"B=phi/A            //Flux density\n",
"//But, B=u*H\n",
"H=B/(u0*ur)        //Magnetic field strength\n",
"\n",
"I=H*l/n            //Required current\n",
"printf('Current required to produce given flux is =%.2f Ampere \n',I)"
   ]
   }
,
{
		   "cell_type": "markdown",
		   "metadata": {},
		   "source": [
			"## Example 6.7: Calculate_current.sce"
		   ]
		  },
  {
"cell_type": "code",
	   "execution_count": null,
	   "metadata": {
	    "collapsed": true
	   },
	   "outputs": [],
"source": [
"//Chapter-6,Example 6_7,Page 6-28\n",
"clc()\n",
"\n",
"//Given Values:\n",
"\n",
"u0=4*%pi*10^-7     //Permeability in vacuum\n",
"ur=900             //Relative permeability of medium\n",
"r=25*10^-2         //radius of ring\n",
"A=25*10^-4         //Crosss sectional area of ring in m^2\n",
"Ag=1*10^-3         //Air gap\n",
"phi=2.7*10^-3      //flux in weber\n",
"N=400              //Number of turns\n",
"\n",
"//Calculations:\n",
"//We know, phi=B*A\n",
"B=phi/A            //Flux density\n",
"//But, B=u*H\n",
"H=B/(u0*ur)        //Magnetic field strength\n",
"L=H*2*%pi*r+(B*Ag/u0)   //Total amp turns required (iron+air)\n",
"I=L/N           //Required current\n",
"\n",
"printf('Current required to produce given flux is =%.2f Ampere \n',I)"
   ]
   }
,
{
		   "cell_type": "markdown",
		   "metadata": {},
		   "source": [
			"## Example 6.8: Calculate_permeablity_and_susceptibility.sce"
		   ]
		  },
  {
"cell_type": "code",
	   "execution_count": null,
	   "metadata": {
	    "collapsed": true
	   },
	   "outputs": [],
"source": [
"//Chapter-6,Example 6_8,Page 6-29\n",
"clc()\n",
"\n",
"//Given Values:\n",
"\n",
"u0=4*%pi*10^-7     //Permeability in vacuum\n",
"A=0.2*10^-4        //Crosss sectional area of iron bar in m^2\n",
"H=1600             //magnetising field in A/m\n",
"phi=2.4*10^-5      //Magnetic flux in weber\n",
"\n",
"\n",
"//Calculations:\n",
"//We know, phi=B*A\n",
"B=phi/A            //Flux density\n",
"u=B/H              //magnetic permeability\n",
"ur=u/u0            //relative permeability\n",
"xm=ur-1            //susceptibility of the iron bar\n",
"\n",
"printf('magnetic permeability of iron bar is =%.6f N/(A^2) \n \n',u)\n",
"printf(' susceptibility of the iron bar is =%.2f \n',xm)"
   ]
   }
,
{
		   "cell_type": "markdown",
		   "metadata": {},
		   "source": [
			"## Example 6.9: Calculate_permeability_and_susceptibility.sce"
		   ]
		  },
  {
"cell_type": "code",
	   "execution_count": null,
	   "metadata": {
	    "collapsed": true
	   },
	   "outputs": [],
"source": [
"//Chapter-6,Example 6_9,Page 6-29\n",
"clc()\n",
"\n",
"//Given Values:\n",
"u0=4*%pi*10^-7       //Permeability in vacuum\n",
"xm=948*10^-11        //susceptibility of the iron bar\n",
"\n",
"//Calculations:\n",
"ur=1+xm            //relative permeability\n",
"u=u0*ur            //permeability of medium\n",
"\n",
"printf('Relative Permeability of medium is =%.8f \n \n',ur)\n",
"printf(' Permeability of medium is =%.9f H/m \n',u)\n",
""
   ]
   }
],
"metadata": {
		  "kernelspec": {
		   "display_name": "Scilab",
		   "language": "scilab",
		   "name": "scilab"
		  },
		  "language_info": {
		   "file_extension": ".sce",
		   "help_links": [
			{
			 "text": "MetaKernel Magics",
			 "url": "https://github.com/calysto/metakernel/blob/master/metakernel/magics/README.md"
			}
		   ],
		   "mimetype": "text/x-octave",
		   "name": "scilab",
		   "version": "0.7.1"
		  }
		 },
		 "nbformat": 4,
		 "nbformat_minor": 0
}
