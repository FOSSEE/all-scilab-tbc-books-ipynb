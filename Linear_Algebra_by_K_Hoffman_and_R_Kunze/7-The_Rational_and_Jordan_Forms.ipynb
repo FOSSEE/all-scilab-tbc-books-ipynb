{
"cells": [
 {
		   "cell_type": "markdown",
	   "metadata": {},
	   "source": [
       "# Chapter 7: The Rational and Jordan Forms"
	   ]
	},
{
		   "cell_type": "markdown",
		   "metadata": {},
		   "source": [
			"## Example 7.3: Linear_operator_annihilator.sce"
		   ]
		  },
  {
"cell_type": "code",
	   "execution_count": null,
	   "metadata": {
	    "collapsed": true
	   },
	   "outputs": [],
"source": [
"//page 239\n",
"//Example 7.3\n",
"clc;\n",
"clear;\n",
"close;\n",
"A = [5 -6 -6;-1 4 2;3 -6 -4];\n",
"disp(A,'A = ');\n",
"f = poly(A,'x');\n",
"disp('Characteristic polynomial for linear operator T on R^3 will be:');\n",
"disp(f,'f = ');\n",
"disp('or');\n",
"disp('(x-1)(x-2)^2');\n",
"x = poly(0,'x');\n",
"disp('The minimal polynomial for T is:');\n",
"p = (x-1)*(x-2);\n",
"disp(p,'p = ');\n",
"disp('or');\n",
"disp('p = (x-1)(x-2)');\n",
"disp('So in cyclic decomposition of T, a1 will have p as its T-annihilator.');\n",
"disp('Another vector a2 that generate cyclic subspace of dimension 1 will have its T-annihilator as p2.');\n",
"p2 = x-2;\n",
"disp(p2,'p2 = ');\n",
"disp(p*p2,'pp2 = ');\n",
"disp('i.e., pp2 = f');\n",
"disp('Therefore, A is similar to B');\n",
"B = [0 -2 0;1 3 0;0 0 2];\n",
"disp(B,'B = ');\n",
"disp('Thus, we can see thet Matrix of T in ordered basis is B');\n",
"//end"
   ]
   }
,
{
		   "cell_type": "markdown",
		   "metadata": {},
		   "source": [
			"## Example 7.6: Characteristic_and_minimal_polynomial_of_matrix.sce"
		   ]
		  },
  {
"cell_type": "code",
	   "execution_count": null,
	   "metadata": {
	    "collapsed": true
	   },
	   "outputs": [],
"source": [
"//page 247\n",
"//Example 7.6\n",
"clc;\n",
"clear;\n",
"close;\n",
"disp('A = ');\n",
"disp('2   0   0');\n",
"disp('a   2   0');\n",
"disp('b   c   -1');\n",
"a = 1;\n",
"b = 0;\n",
"c = 0;\n",
"A = [2 0 0;a 2 0;b c -1];\n",
"disp(A,'A = ');\n",
"disp('Characteristic polynomial for A is:');\n",
"disp(poly(A,'x'),'p = ');\n",
"disp('In this case, minimal polynomial is same as characteristic polynomial.');\n",
"disp('-----------------------------------------');\n",
"a = 0;\n",
"b = 0;\n",
"c = 0;\n",
"A = [2 0 0;a 2 0;b c -1];\n",
"disp(A,'A = ');\n",
"disp('Characteristic polynomial for A is:');\n",
"disp(poly(A,'x'),'p = ');\n",
"disp('In this case, minimal polynomial is:');\n",
"disp('(x-2)(x+1)');\n",
"disp('or');\n",
"x = poly(0,'x');\n",
"s = (x-2)*(x+1);\n",
"disp(s);\n",
"disp('(A-2I)(A+I) = ');\n",
"disp('0    0   0');\n",
"disp('3a   0   0');\n",
"disp('ac   0   0');\n",
"disp('if a = 0, A is similar to diagonal matrix.')\n",
"//end"
   ]
   }
,
{
		   "cell_type": "markdown",
		   "metadata": {},
		   "source": [
			"## Example 7.7: Characteristic_and_minimal_polynomial_of_matrix.sce"
		   ]
		  },
  {
"cell_type": "code",
	   "execution_count": null,
	   "metadata": {
	    "collapsed": true
	   },
	   "outputs": [],
"source": [
"//page 247\n",
"//Example 7.7\n",
"clc;\n",
"clear;\n",
"close;\n",
"disp('A = ');\n",
"disp('2   0   0   0');\n",
"disp('1   2   0   0');\n",
"disp('0   0   2   0');\n",
"disp('0   0   a   2');\n",
"disp('Considering a = 1');\n",
"A = [2 0 0 0;1 2 0 0;0 0 2 0;0 0 1 2];\n",
"p = poly(A,'x');\n",
"disp('Characteristic polynomial for A is:');\n",
"disp(p,'p = ');\n",
"disp('or');\n",
"disp('(x-2)^4');\n",
"disp('Minimal polynomial for A =');\n",
"disp('(x-2)^2');\n",
"disp('For a = 0 and a = 1, characteristic and minimal polynomial are same.');\n",
"disp('But for a=0, the solution space of (A - 2I) has 3 dimension whereas for a = 1, it has 2 dimension. ')\n",
"//end"
   ]
   }
],
"metadata": {
		  "kernelspec": {
		   "display_name": "Scilab",
		   "language": "scilab",
		   "name": "scilab"
		  },
		  "language_info": {
		   "file_extension": ".sce",
		   "help_links": [
			{
			 "text": "MetaKernel Magics",
			 "url": "https://github.com/calysto/metakernel/blob/master/metakernel/magics/README.md"
			}
		   ],
		   "mimetype": "text/x-octave",
		   "name": "scilab",
		   "version": "0.7.1"
		  }
		 },
		 "nbformat": 4,
		 "nbformat_minor": 0
}
