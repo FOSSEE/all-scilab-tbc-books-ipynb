{
"cells": [
 {
		   "cell_type": "markdown",
	   "metadata": {},
	   "source": [
       "# Chapter 3: Linear Transformations"
	   ]
	},
{
		   "cell_type": "markdown",
		   "metadata": {},
		   "source": [
			"## Example 3.12: Singular_and_onto_linear_transformation.sce"
		   ]
		  },
  {
"cell_type": "code",
	   "execution_count": null,
	   "metadata": {
	    "collapsed": true
	   },
	   "outputs": [],
"source": [
"//page 81\n",
"//Example 3.12\n",
"clc;\n",
"clear;\n",
"close;\n",
"x = round(rand(1,2) * 10);\n",
"x1 = x(1);\n",
"x2 = x(2);\n",
"T = [x1+x2 x1];\n",
"disp(x1,'x1 = ');\n",
"disp(x2,'x2 = ');\n",
"printf('T(%d,%d) = ',x1,x2);\n",
"disp(T);\n",
"disp('If, T(x1,x2) = 0, then');\n",
"disp('x1 = x2 = 0');\n",
"disp('So, T is non-singular');\n",
"disp('z1,z2 are two scalars in F');\n",
"z1 = round(rand() * 10);\n",
"z2 = round(rand() * 10);\n",
"disp(z1,'z1 = ');\n",
"disp(z2,'z2 = ');\n",
"x1 = z2;\n",
"x2 = z1 - z2;\n",
"disp(x1,'So, x1 = ');\n",
"disp(x2,'x2 = ');\n",
"disp('Hence, T is onto.');\n",
"Tinv = [z2 z1-z2]; \n",
"disp(Tinv,'inverse(T) = ');\n",
"//end"
   ]
   }
,
{
		   "cell_type": "markdown",
		   "metadata": {},
		   "source": [
			"## Example 3.14: Standard_Ordered_Basis.sce"
		   ]
		  },
  {
"cell_type": "code",
	   "execution_count": null,
	   "metadata": {
	    "collapsed": true
	   },
	   "outputs": [],
"source": [
"//page 89\n",
"//Example 3.14\n",
"clc;\n",
"clear;\n",
"close;\n",
"disp('T is a linear operator on F^2 defined as:');\n",
"disp('T(x1,x2) = (x1,0)');\n",
"disp('B = {e1,e2} is a standard ordered basis for F^2,then');\n",
"x1 = 1;\n",
"x2 = 0;\n",
"Te1 = [x1 0];\n",
"x1 = 0;\n",
"x2 = 1;\n",
"Te2 = [x1 0];\n",
"disp(Te1,'So, Te1 = T(1,0) = ');\n",
"disp(Te2,'So, Te2 = T(0,1) = ');\n",
"disp('so,matrix T in ordered basis B is: ');\n",
"T = [Te1; Te2];\n",
"disp(T,'T = ');\n",
"//end"
   ]
   }
,
{
		   "cell_type": "markdown",
		   "metadata": {},
		   "source": [
			"## Example 3.15: Matrix_in_Ordered_basis.sce"
		   ]
		  },
  {
"cell_type": "code",
	   "execution_count": null,
	   "metadata": {
	    "collapsed": true
	   },
	   "outputs": [],
"source": [
"//page 89\n",
"//Example 3.15\n",
"clc;\n",
"clear;\n",
"close;\n",
"disp('Differentiation operator D is defined as:');\n",
"D = zeros(4,4);\n",
"x = poly(0,'x');\n",
"for i= 1:4\n",
"    t= i-1;\n",
"    f = derivat(x^t);\n",
"    printf('(Df%d)(x) = ',i);\n",
"    disp(f);\n",
"    if  ~(i == 1) then\n",
"    D(i-1,i) =  i-1;\n",
"    end\n",
"end\n",
"disp('Matrix of D in ordered basis is:');\n",
"disp(D,'[D] = ');\n",
"//end"
   ]
   }
,
{
		   "cell_type": "markdown",
		   "metadata": {},
		   "source": [
			"## Example 3.16: Standard_Ordered_Basis.sce"
		   ]
		  },
  {
"cell_type": "code",
	   "execution_count": null,
	   "metadata": {
	    "collapsed": true
	   },
	   "outputs": [],
"source": [
"//page 92\n",
"//Example 3.16\n",
"clc;\n",
"clear;\n",
"close;\n",
"disp('T is a linear operator on R^2 defined as T(x1,x2) = (x1,0)');\n",
"disp('So, the matrix T in standard ordered basis B = {e1,e2} is ');\n",
"T = [1 0 ;0 0];\n",
"disp(T,'[T]B = ');\n",
"disp('Let B'' is the ordered basis for R^2 consisting of vectors:');\n",
"E1 = [1 1];\n",
"E2 = [2 1];\n",
"disp(E1,'E1 = ');\n",
"disp(E2,'E2 = ');\n",
"P = [E1;E2]'\n",
"disp(P,'So, matrix P = ');\n",
"Pinv = inv(P);\n",
"disp(Pinv,'P inverse = ');\n",
"T1 = Pinv*T*P;\n",
"disp(T1,'So, matrix T in ordered basis B'' is [T]B'' = ');\n",
"//end"
   ]
   }
,
{
		   "cell_type": "markdown",
		   "metadata": {},
		   "source": [
			"## Example 3.17: Matrix_in_ordered_basis.sce"
		   ]
		  },
  {
"cell_type": "code",
	   "execution_count": null,
	   "metadata": {
	    "collapsed": true
	   },
	   "outputs": [],
"source": [
"//page 93\n",
"//Example 3.17\n",
"clc;\n",
"clear;\n",
"close;\n",
"t = poly(0,'t');\n",
"disp('g1 = f1');\n",
"disp('g2 = t*f1 + f2');\n",
"disp('g3 = t^2*f1 + 2*t*f2 + f3');\n",
"disp('g4 = t^3*f1 + 3*t^2*f2 + 3*t*f3 + f4');\n",
"P = [1 t t^2 t^3;0 1 2*t 3*t^2;0 0 1 3*t;0 0 0 1];\n",
"disp(P,'P = ');\n",
"disp(inv(P),'inverse P = ');\n",
"disp('Matrix of differentiation operator D in ordered basis B is:'); //As found in example 15\n",
"D = [0 1 0 0;0 0 2 0;0 0 0 3;0 0 0 0];\n",
"disp(D,'D = ');\n",
"disp('Matrix of D in ordered basis B'' is:');\n",
"disp(inv(P)*D*P,'inverse(P) * D * P = ');\n",
"//end"
   ]
   }
,
{
		   "cell_type": "markdown",
		   "metadata": {},
		   "source": [
			"## Example 3.19: Trace_of_a_matrix.sce"
		   ]
		  },
  {
"cell_type": "code",
	   "execution_count": null,
	   "metadata": {
	    "collapsed": true
	   },
	   "outputs": [],
"source": [
"//page 98\n",
"//Example 3.19\n",
"clc;\n",
"clear;\n",
"close;\n",
"function [tr] = trace_matrix(M,n)\n",
"    for i = 1 : n\n",
"    tr = tr + M(i,i);\n",
"    end\n",
"endfunction\n",
"n = round(rand() * 10 + 2);\n",
"disp(n,'n = ');\n",
"A = round(rand(n,n) * 10);\n",
"disp(A,'A = ');\n",
"tr = 0;\n",
"disp('Trace of A:');\n",
"tr1 = trace_matrix(A,n);\n",
"disp(tr1,'tr(A) = ');\n",
"disp('--------------------------------');\n",
"c = round(rand() * 10 + 2);\n",
"disp(c,'c = ');\n",
"B = round(rand(n,n) * 10);\n",
"disp(B,'B = ');\n",
"disp('Trace of B:');\n",
"tr2 = trace_matrix(B,n);\n",
"disp(tr2,'tr(B) = ');\n",
"disp(c*tr1+tr2,'tr(cA + B) = ');\n",
"//end"
   ]
   }
,
{
		   "cell_type": "markdown",
		   "metadata": {},
		   "source": [
			"## Example 3.23: Linear_functional_on_vector_space.sce"
		   ]
		  },
  {
"cell_type": "code",
	   "execution_count": null,
	   "metadata": {
	    "collapsed": true
	   },
	   "outputs": [],
"source": [
"//page 103\n",
"//Example 3.23\n",
"clc;\n",
"clear;\n",
"close;\n",
"disp('Matrix represented by given linear functionals on R^4:');\n",
"A = [1 2 2 1;0 2 0 1;-2 0 -4 3];\n",
"disp(A,'A = ');\n",
"T = A;              //Temporary matrix to store A\n",
"disp('To find Row reduced echelon matrix of A given by R:')\n",
"disp('Applying row transformations on A,we get');\n",
"disp('R1 = R1-R2');\n",
"A(1,:) = A(1,:) - A(2,:);\n",
"disp(A,'A = ');\n",
"disp('R3 = R3 + 2*R1');\n",
"A(3,:) = A(3,:) + 2*A(1,:);\n",
"disp(A,'A = ');\n",
"disp('R3 = R3/3');\n",
"A(3,:) = 1/3*A(3,:);\n",
"disp(A,'A = ');\n",
"disp('R2 = R2/2');\n",
"A(2,:) = 1/2*A(2,:);\n",
"disp(A,'A = ');\n",
"disp('R2 = R2 - 1/2*R3');\n",
"A(2,:) = A(2,:) - 1/2*A(3,:);\n",
"disp(A,'A = ');\n",
"R = A;\n",
"A = T;\n",
"disp('Row reduced echelon matrix of A is:');\n",
"disp(R,'R = ');\n",
"disp('Therefore,linear functionals g1,g2,g3 span the same subspace of (R^4)* as f1,f2,f3 are given by:');\n",
"disp('g1(x1,x2,x3,x4) = x1 + 2*x3');\n",
"disp('g1(x1,x2,x3,x4) = x2');\n",
"disp('g1(x1,x2,x3,x4) = x4');\n",
"disp('The subspace consists of the vectors with');\n",
"disp('x1 = -2*x3');\n",
"disp('x2 = x4 = 0');\n",
"//end"
   ]
   }
,
{
		   "cell_type": "markdown",
		   "metadata": {},
		   "source": [
			"## Example 3.24: Linear_functional_on_vector_space.sce"
		   ]
		  },
  {
"cell_type": "code",
	   "execution_count": null,
	   "metadata": {
	    "collapsed": true
	   },
	   "outputs": [],
"source": [
"//page 104\n",
"//Example 3.24\n",
"clc;\n",
"clear;\n",
"close;\n",
"disp('W be the subspace of R^5 spanned by vectors:');\n",
"a1 = [2 -2 3 4 -1];\n",
"a2 = [-1 1 2 5 2];\n",
"a3 = [0 0 -1 -2 3];\n",
"a4 = [1 -1 2 3 0];\n",
"disp(a1,'a1 = ');\n",
"disp(a2,'a2 = ');\n",
"disp(a3,'a3 = ');\n",
"disp(a4,'a4 = ');\n",
"disp('Matrix A by the row vectors a1,a2,a3,a4 will be:');\n",
"A = [a1;a2;a3;a4];\n",
"disp(A,'A = ');\n",
"disp('After Applying row transformations, we get the row reduced echelon matrix R of A;');\n",
"T = A;                   //Temporary matrix to store A\n",
"//R1 = R1 - R4 and R2 = R2 + R4\n",
"A(1,:) = A(1,:) - A(4,:);\n",
"A(2,:) = A(2,:) + A(4,:);\n",
"//R2 = R2/2\n",
"A(2,:) = 1/2 * A(2,:);\n",
"//R3 = R3 + R2 and R4 = R4 - R1\n",
"A(3,:) = A(3,:) + A(2,:);\n",
"A(4,:) = A(4,:) - A(1,:);\n",
"//R3 = R3 - R4\n",
"A(3,:) = A(3,:) - A(4,:);\n",
"//R3 = R3/3\n",
"A(3,:) = 1/3 * A(3,:);\n",
"//R2 = R2 - R3\n",
"A(2,:) = A(2,:) - A(3,:);\n",
"//R2 = R2/2 and R4 = R4 - R2 - R3\n",
"A(2,:) = 1/2 * A(2,:);\n",
"A(4,:) = A(4,:) - A(2,:) - A(3,:);\n",
"//R1 = R1 - R2 + R3\n",
"A(1,:) = A(1,:) - A(2,:) + A(3,:);\n",
"R = A;\n",
"A = T;\n",
"disp(R,'R = ');\n",
"disp('Then we obtain all the linear functionals f by assigning arbitrary values to c2 and c4');\n",
"disp('Let c2 = a, c4 = b then c1 = a+b, c3 = -2b, c5 = 0.');\n",
"disp('So, W0 consists all linear functionals f of the form');\n",
"disp('f(x1,x2,x3,x4,x5) = (a+b)x1 + ax2 -2bx3 + bx4');\n",
"disp('Dimension of W0 = 2 and basis {f1,f2} can be found by first taking a = 1, b = 0. Then a = 0,b = 1');\n",
"//end"
   ]
   }
,
{
		   "cell_type": "markdown",
		   "metadata": {},
		   "source": [
			"## Example 3.6: Linear_Transformation_function.sce"
		   ]
		  },
  {
"cell_type": "code",
	   "execution_count": null,
	   "metadata": {
	    "collapsed": true
	   },
	   "outputs": [],
"source": [
"//page 70\n",
"//Example 3.6\n",
"clc;\n",
"clear;\n",
"close;\n",
"a1 = [1 2];\n",
"a2 = [3 4];\n",
"disp(a1,'a1 = ');\n",
"disp(a2,'a2 = ');\n",
"disp('a1 and a2 are linearly independent and hence form a basis for R^2');\n",
"disp('According to theorem 1, there is a linear transformation from R^2 to R^3 with the transformation functions as:');\n",
"Ta1 = [3 2 1];\n",
"Ta2 = [6 5 4];\n",
"disp(Ta1,'Ta1 = ');\n",
"disp(Ta2,'Ta2 = ');\n",
"disp('Now, we find scalars c1 and c2 for that we know T(c1a1 + c2a2) = c1(Ta1) + c2(Ta2))');\n",
"disp('if(1,0) = c1(1,2) + c2(3,4), then ');\n",
"c = inv([a1;a2]') * [1;0];\n",
"c1 = c(1,1);\n",
"c2 = c(2,1);\n",
"disp(c1,'c1 = ');\n",
"disp(c2,'c2 = ');\n",
"disp('The transformation function T(1,0) will be:');\n",
"T = c1*Ta1 + c2*Ta2;\n",
"disp(T,'T(1,0) = ');\n",
"//end"
   ]
   }
],
"metadata": {
		  "kernelspec": {
		   "display_name": "Scilab",
		   "language": "scilab",
		   "name": "scilab"
		  },
		  "language_info": {
		   "file_extension": ".sce",
		   "help_links": [
			{
			 "text": "MetaKernel Magics",
			 "url": "https://github.com/calysto/metakernel/blob/master/metakernel/magics/README.md"
			}
		   ],
		   "mimetype": "text/x-octave",
		   "name": "scilab",
		   "version": "0.7.1"
		  }
		 },
		 "nbformat": 4,
		 "nbformat_minor": 0
}
