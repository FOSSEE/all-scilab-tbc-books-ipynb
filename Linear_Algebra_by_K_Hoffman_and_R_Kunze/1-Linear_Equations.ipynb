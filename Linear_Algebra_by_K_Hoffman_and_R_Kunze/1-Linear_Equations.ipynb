{
"cells": [
 {
		   "cell_type": "markdown",
	   "metadata": {},
	   "source": [
       "# Chapter 1: Linear Equations"
	   ]
	},
{
		   "cell_type": "markdown",
		   "metadata": {},
		   "source": [
			"## Example 1.10: Product_of_Matrices.sce"
		   ]
		  },
  {
"cell_type": "code",
	   "execution_count": null,
	   "metadata": {
	    "collapsed": true
	   },
	   "outputs": [],
"source": [
"//page 17\n",
"//Example 1.10\n",
"clear;\n",
"close;\n",
"clc;\n",
"//Part a\n",
"a = [1 0;-3 1];\n",
"b = [5 -1 2;15 4 8];\n",
"disp(a,'a=');\n",
"disp(b,'b=');\n",
"disp(a*b,'ab = ');\n",
"disp('-----------------------------------------------------------------');\n",
"//Part b\n",
"a = [1 0;-2 3;5 4;0 1];\n",
"b = [0 6 1;3 8 -2];\n",
"disp(a,'a=');\n",
"disp(b,'b=');\n",
"disp(a*b,'ab = ');\n",
"disp('-----------------------------------------------------------------');\n",
"//Part c\n",
"a = [2 1;5 4];\n",
"b = [1;6];\n",
"disp(a,'a=');\n",
"disp(b,'b=');\n",
"disp(a*b,'ab = ');\n",
"disp('-----------------------------------------------------------------');\n",
"//Part d\n",
"a = [-1;3];\n",
"b = [2 4];\n",
"disp(a,'a=');\n",
"disp(b,'b=');\n",
"disp(a*b,'ab = ');\n",
"disp('-----------------------------------------------------------------');\n",
"//Part e\n",
"a = [2 4];\n",
"b = [-1;3];\n",
"disp(a,'a=');\n",
"disp(b,'b=');\n",
"disp(a*b,'ab = ');\n",
"disp('-----------------------------------------------------------------');\n",
"//Part f\n",
"a = [0 1 0;0 0 0;0 0 0];\n",
"b = [1 -5 2;2 3 4;9 -1 3];\n",
"disp(a,'a=');\n",
"disp(b,'b=');\n",
"disp(a*b,'ab = ');\n",
"disp('-----------------------------------------------------------------');\n",
"//Part g\n",
"a = [1 -5 2;2 3 4;9 -1 3];\n",
"b = [0 1 0;0 0 0;0 0 0];\n",
"disp(a,'a=');\n",
"disp(b,'b=');\n",
"disp(a*b,'ab = ');\n",
"//end"
   ]
   }
,
{
		   "cell_type": "markdown",
		   "metadata": {},
		   "source": [
			"## Example 1.14: Inverse_of_a_matrix.sce"
		   ]
		  },
  {
"cell_type": "code",
	   "execution_count": null,
	   "metadata": {
	    "collapsed": true
	   },
	   "outputs": [],
"source": [
"//page 22\n",
"//Example 1.14\n",
"clear;\n",
"close;\n",
"clc;\n",
"a = [0 1;1 0];\n",
"disp(a,'a = ');\n",
"disp(inv(a),'inverse a = ');\n",
"//end"
   ]
   }
,
{
		   "cell_type": "markdown",
		   "metadata": {},
		   "source": [
			"## Example 1.15: Inverse_of_a_matrix.sce"
		   ]
		  },
  {
"cell_type": "code",
	   "execution_count": null,
	   "metadata": {
	    "collapsed": true
	   },
	   "outputs": [],
"source": [
"//page 25\n",
"//Example 1.15\n",
"clear;\n",
"close;\n",
"clc;\n",
"a = [2 -1;1 3];\n",
"disp(a,'a = ');\n",
"b = a;              //Temporary variable to store a\n",
"disp('Applying row tranformations');\n",
"disp('Interchange R1 and R2');\n",
"x = a(1,:);\n",
"a(1,:) = a(2,:);\n",
"a(2,:) = x;\n",
"disp(a,'a = ');\n",
"disp('R2 = R2 - 2 * R1');\n",
"a(2,:) = a(2,:) - 2 * a(1,:);\n",
"disp(a,'a = ');\n",
"disp('R2 = R2 *1/(-7)');\n",
"a(2,:) = (-1/7) * a(2,:);\n",
"disp(a,'a = ');\n",
"disp('R1 = R1 - 3 * R2');\n",
"a(1,:) = a(1,:) - 3 * a(2,:);\n",
"disp(a,'a = ');\n",
"disp('Since a  has become an identity matrix. So, a is invertible');\n",
"disp('inverse of a = ');\n",
"disp(inv(b)); //a was stored in b\n",
"//end"
   ]
   }
,
{
		   "cell_type": "markdown",
		   "metadata": {},
		   "source": [
			"## Example 1.16: Inverse_of_a_matrix.sce"
		   ]
		  },
  {
"cell_type": "code",
	   "execution_count": null,
	   "metadata": {
	    "collapsed": true
	   },
	   "outputs": [],
"source": [
"//page 25\n",
"//Example 1.16\n",
"clear;\n",
"close;\n",
"clc;\n",
"a = [1 1/2 1/3;1/2 1/3 1/4;1/3 1/4 1/5];\n",
"disp(a,'a = ');\n",
"b = eye(3,3);\n",
"disp(b,'b = ');\n",
"disp('Applying row transformations on a and b simultaneously,');\n",
"disp('R2 = R2 - 1/2 * R1 and R3 = R3 - 1/3*R1');\n",
"a(2,:) = a(2,:) - 1/2 * a(1,:);\n",
"a(3,:) = a(3,:) - 1/3 * a(1,:);\n",
"b(2,:) = b(2,:) - 1/2 * b(1,:);\n",
"b(3,:) = b(3,:) - 1/3 * b(1,:);\n",
"disp(a,'a = ');\n",
"disp(b,'b = ');\n",
"disp('R3 = R3 - R2');\n",
"a(3,:) = a(3,:) -  a(2,:);\n",
"b(3,:) = b(3,:) -  b(2,:);\n",
"disp(a,'a = ');\n",
"disp(b,'b = ');\n",
"disp('R2 = R2 * 12 and R3 = R3 * 180');\n",
"a(2,:) = a(2,:) *12;\n",
"a(3,:) = a(3,:) * 180;\n",
"b(2,:) = b(2,:) * 12;\n",
"b(3,:) = b(3,:) * 180;\n",
"disp(a,'a = ');\n",
"disp(b,'b = ');\n",
"disp('R2 = R2 - R3 and R1 = R1 - 1/3*R3');\n",
"a(2,:) = a(2,:) - a(3,:);\n",
"a(1,:) = a(1,:) - 1/3 * a(3,:);\n",
"b(2,:) = b(2,:) - b(3,:);\n",
"b(1,:) = b(1,:) - 1/3 * b(3,:);\n",
"disp(a,'a = ');\n",
"disp(b,'b = ');\n",
"disp('R1 = R1 - 1/2 * R2');\n",
"a(1,:) = a(1,:) -  1/2 * a(2,:);\n",
"b(1,:) = b(1,:) -  1/2 * b(2,:);\n",
"disp(round(a),'a = ');\n",
"disp(b,'b = ');\n",
"disp('Since, a = identity matrix of order 3*3. So, b is inverse of a');\n",
"disp(b,'inverse(a) = ');\n",
"//end"
   ]
   }
,
{
		   "cell_type": "markdown",
		   "metadata": {},
		   "source": [
			"## Example 1.5: Elementary_Row_Operations.sce"
		   ]
		  },
  {
"cell_type": "code",
	   "execution_count": null,
	   "metadata": {
	    "collapsed": true
	   },
	   "outputs": [],
"source": [
"//page 8\n",
"//Example 1.5\n",
"clear;\n",
"close;\n",
"clc;\n",
"a = [2 -1 3 2; 1 4 0 -1; 2 6 -1 5];\n",
"disp(a,'a=');\n",
"disp('Applying row transformations:');\n",
"disp('R1 = R1-2*R2');\n",
"a(1,:) = a(1,:) - 2*a(2,:);\n",
"disp(a,'a = ');\n",
"disp('R3 = R3-2*R2');\n",
"a(3,:) = a(3,:) - 2*a(2,:);\n",
"disp(a,'a = ');\n",
"disp('R3 = R3/-2');\n",
"a(3,:) = -1/2*a(3,:);\n",
"disp(a,'a = ');\n",
"disp('R2 = R2-4*R3');\n",
"a(2,:) = a(2,:) - 4*a(3,:);\n",
"disp(a,'a = ');\n",
"disp('R1 = R1+9*R3');\n",
"a(1,:) = a(1,:) + 9*a(3,:);\n",
"disp(a,'a = ');\n",
"disp('R1 = R1*2/15');\n",
"a(1,:) = a(1,:) * 2/15;\n",
"disp(a,'a = ');\n",
"disp('R2 = R2+2*R1');\n",
"a(2,:) = a(2,:) + 2*a(1,:);\n",
"disp(a,'a = ');\n",
"disp('R3 = R3-R1/2');\n",
"a(3,:) = a(3,:) - 1/2*a(1,:);\n",
"disp(a,'a = ');\n",
"disp('We get the system of equations as:');\n",
"disp('2*x1 - x2 + 3*x3 + 2*x4 = 0');\n",
"disp('x1 + 4*x2 - x4 = 0');\n",
"disp('2*x1 + 6* x2 - x3 + 5*x4 = 0');\n",
"disp('and');\n",
"disp('x2 - 5/3*x4 = 0','x1 + 17/3*x4 = 0','x3 - 11/3*x4 = 0');\n",
"disp('now by assigning any rational value c to x4 in system second, the solution is evaluated as:');\n",
"disp('(-17/3*c,5/3,11/3*c,c)');\n",
"//end"
   ]
   }
,
{
		   "cell_type": "markdown",
		   "metadata": {},
		   "source": [
			"## Example 1.6: Elementary_Row_Operations.sce"
		   ]
		  },
  {
"cell_type": "code",
	   "execution_count": null,
	   "metadata": {
	    "collapsed": true
	   },
	   "outputs": [],
"source": [
"//page 9\n",
"//Example 1.6\n",
"clear;\n",
"close;\n",
"clc;\n",
"a=[-1 %i;-%i 3;1 2];\n",
"disp(a,'a = ');\n",
"disp('Applying row transformations:');\n",
"disp('R1 = R1+R3 and R2 = R2 + i *R3');\n",
"a(1,:) = a(1,:) +a(3,:);\n",
"a(2,:) = a(2,:) + %i * a(3,:);\n",
"disp(a,'a = ');\n",
"disp('R1 = R1 * (1/2+i)');\n",
"a(1,:) = 1/(2 + %i) * a(1,:);\n",
"disp(a,'a = ');\n",
"disp('R2 = R2-R1*(3+2i) and R3 = R3 - 2 *R1');\n",
"a(2,:) = round(a(2,:) - (3 + 2 * %i) * a(1,:));\n",
"a(3,:) = round(a(3,:) - 2 * a(1,:));\n",
"disp(a,'a = ');\n",
"disp('Thus the system of equations is:');\n",
"disp('x1 + 2*x2 = 0','-i*x1 + 3*x2 = 0','-x1+i*x2 = 0');\n",
"disp('It has only trivial solution x1 = x2 = 0');\n",
"//end"
   ]
   }
,
{
		   "cell_type": "markdown",
		   "metadata": {},
		   "source": [
			"## Example 1.7: Row_reduced_echelon_Matrix.sce"
		   ]
		  },
  {
"cell_type": "code",
	   "execution_count": null,
	   "metadata": {
	    "collapsed": true
	   },
	   "outputs": [],
"source": [
"//page 9\n",
"//Example 1.7\n",
"clear;\n",
"close;\n",
"clc;\n",
"n = rand();\n",
"n = round(n*10);\n",
"disp(eye(n,n));\n",
"printf('This is an Identity matrix of order %d * %d',n,n);\n",
"disp('And It is a row reduced matrix.');\n",
"//end"
   ]
   }
,
{
		   "cell_type": "markdown",
		   "metadata": {},
		   "source": [
			"## Example 1.8: Row_reduced_echelon_Matrix.sce"
		   ]
		  },
  {
"cell_type": "code",
	   "execution_count": null,
	   "metadata": {
	    "collapsed": true
	   },
	   "outputs": [],
"source": [
"//page 12\n",
"//Example 1.8\n",
"clear;\n",
"close;\n",
"clc;\n",
"n = rand();\n",
"n = round(n*10);\n",
"disp(eye(n,n));\n",
"printf('This is an Identity matrix of order %d * %d',n,n);\n",
"disp('And It is a row reduced matrix.');\n",
"m = rand();\n",
"n = rand();\n",
"m = round(m*10);\n",
"n = round(n*10);\n",
"disp(zeros(m,n));\n",
"printf('This is an Zero matrix of order %d * %d',m,n);\n",
"disp('And It is also a row reduced matrix.');\n",
"a = [0 1 -3 0 1/2;0 0 0 1 2;0 0 0 0 0];\n",
"disp(a,'a = ');\n",
"disp('This is a non-trivial row reduced matrix.');\n",
"//end"
   ]
   }
,
{
		   "cell_type": "markdown",
		   "metadata": {},
		   "source": [
			"## Example 1.9: System_of_Equations.sce"
		   ]
		  },
  {
"cell_type": "code",
	   "execution_count": null,
	   "metadata": {
	    "collapsed": true
	   },
	   "outputs": [],
"source": [
"//page 14\n",
"//Example 1.9\n",
"clear;\n",
"close;\n",
"clc;\n",
"A = [1 -2 1;2 1 1;0 5 -1];\n",
"disp(A,'A = ');\n",
"disp('Applying row transformations:');\n",
"disp('R2 = R2 - 2*R1');\n",
"A(2,:) = A(2,:) - 2*A(1,:);\n",
"disp(A,'A = ');\n",
"disp('R3 = R3 - R2');\n",
"A(3,:) = A(3,:) - A(2,:);\n",
"disp(A,'A = ');\n",
"disp('R2 = 1/5*R2');\n",
"A(2,:) = 1/5*A(2,:);\n",
"disp(A,'A = ');\n",
"disp('R1 = R1 - 2*R2');\n",
"A(1,:) = A(1,:) + 2*A(2,:);\n",
"disp(A,'A = ');\n",
"disp('The condition that the system have a solution is:');\n",
"disp('2*y1 - y2 + y3 = 0');\n",
"disp('where, y1,y2,y3 are some scalars');\n",
"disp('If the condition is satisfied then solutions are obtained by assigning a value c to x3');\n",
"disp('Solutions are:');\n",
"disp('x2 = 1/5*c + 1/5*(y2 - 2*y1)','x1 = -3/5*c + 1/5*(y1 + 2*y2)');\n",
"//end"
   ]
   }
],
"metadata": {
		  "kernelspec": {
		   "display_name": "Scilab",
		   "language": "scilab",
		   "name": "scilab"
		  },
		  "language_info": {
		   "file_extension": ".sce",
		   "help_links": [
			{
			 "text": "MetaKernel Magics",
			 "url": "https://github.com/calysto/metakernel/blob/master/metakernel/magics/README.md"
			}
		   ],
		   "mimetype": "text/x-octave",
		   "name": "scilab",
		   "version": "0.7.1"
		  }
		 },
		 "nbformat": 4,
		 "nbformat_minor": 0
}
