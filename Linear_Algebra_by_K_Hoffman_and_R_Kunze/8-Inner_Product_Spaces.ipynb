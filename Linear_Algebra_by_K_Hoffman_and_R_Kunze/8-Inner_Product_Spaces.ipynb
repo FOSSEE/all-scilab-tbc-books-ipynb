{
"cells": [
 {
		   "cell_type": "markdown",
	   "metadata": {},
	   "source": [
       "# Chapter 8: Inner Product Spaces"
	   ]
	},
{
		   "cell_type": "markdown",
		   "metadata": {},
		   "source": [
			"## Example 8.12: Orthogonal_Vectors.sce"
		   ]
		  },
  {
"cell_type": "code",
	   "execution_count": null,
	   "metadata": {
	    "collapsed": true
	   },
	   "outputs": [],
"source": [
"//page 282\n",
"//Example 8.12\n",
"clc;\n",
"clear;\n",
"close;\n",
"b1 = [3 0 4];\n",
"b2 = [-1 0 7];\n",
"b3 = [2 9 11];\n",
"disp(b1,'b1 = ');\n",
"disp(b2,'b2 = ');\n",
"disp(b3,'b3 = ');\n",
"disp('Applying the Gram-Schmidt process to b1,b2,b3:');\n",
"a1 = b1;\n",
"disp(a1,'a1 = ');\n",
"a2 = b2-((b2*b1')'/25*b1);\n",
"disp(a2,'a2 = ');\n",
"a3 = b3-((b3*b1')'/25*b1) - ((b3*a2')'/25*a2);\n",
"disp(a3,'a3 = ');\n",
"disp('{a1,a2,a3} are mutually orthogonal and hence forms orthogonal basis for R^3');\n",
"disp('Any arbitrary vector {x1,x2,x3} in R^3 can be expressed as:');\n",
"disp('y = {x1,x2,x3} = (3*x1 + 4*x3)/25*a1 + (-4*x1 + 3*x3)/25*a2 + x2/9*a3');\n",
"x1 = 1;\n",
"x2 = 2;\n",
"x3 = 3;\n",
"y = (3*x1 + 4*x3)/25*a1 + (-4*x1 + 3*x3)/25*a2 + x2/9*a3;\n",
"disp(x1,'x1 = ');\n",
"disp(x2,'x2 = ');\n",
"disp(x3,'x3 = ');\n",
"disp(y,'y = ');\n",
"disp('i.e. y = [x1 x2 x3], according to above equation.');\n",
"disp('Hence, we get the orthonormal basis as:');\n",
"disp(',',1/5*a1);\n",
"disp(',',1/5*a2);\n",
"disp(1/9*a3);\n",
"//end"
   ]
   }
,
{
		   "cell_type": "markdown",
		   "metadata": {},
		   "source": [
			"## Example 8.13: Orthogonal_Vectors.sce"
		   ]
		  },
  {
"cell_type": "code",
	   "execution_count": null,
	   "metadata": {
	    "collapsed": true
	   },
	   "outputs": [],
"source": [
"//page 283\n",
"//Example 8.13\n",
"clc;\n",
"clear;\n",
"close;\n",
"A = rand(2,2);\n",
"A(1,:) = A(1,:) + 1; //so b1 is not equal to zero\n",
"a = A(1,1);\n",
"b = A(1,2);\n",
"c = A(2,1);\n",
"d = A(2,2);\n",
"b1 = A(1,:);\n",
"b2 = A(2,:);\n",
"disp(A,'A = ');\n",
"disp(b1,'b1 = ');\n",
"disp(b2,'b2 = ');\n",
"disp('Applying the orthogonalization process to b1,b2:');\n",
"a1 = [a b];\n",
"a2 = (det(A)/(a^2 + b^2))*[-b' a'];\n",
"disp(a1,'a1 = ');\n",
"disp(a2,'a2 = ');\n",
"disp('a2 is not equal to zero if and only if b1 and b2 are linearly independent.');\n",
"disp('That is, if determinant of A is non-zero.');\n",
"//end"
   ]
   }
,
{
		   "cell_type": "markdown",
		   "metadata": {},
		   "source": [
			"## Example 8.14: Orthogonal_Projection.sce"
		   ]
		  },
  {
"cell_type": "code",
	   "execution_count": null,
	   "metadata": {
	    "collapsed": true
	   },
	   "outputs": [],
"source": [
"//page 286\n",
"//Example 8.14\n",
"clc;\n",
"clear;\n",
"close;\n",
"v = [-10 2 8];\n",
"u = [3 12 -1]\n",
"disp(v,'v = ');\n",
"disp(u,'v = ');\n",
"disp('Orthogonal projection of v1 on subspace W spanned by v2 is given by:');\n",
"a = ((u*v')')/(u(1)^2 + u(2)^2 + u(3)^2) * u;\n",
"disp(a);\n",
"disp('Orthogonal projection of R^3 on W is the linear transformation E given by:');\n",
"printf('(x1,x2,x3) -> (3*x1 + 12*x2 - x3)/%d * (3 12 -1)',(u(1)^2 + u(2)^2 + u(3)^2));\n",
"disp('Rank(E) = 1');\n",
"disp('Nullity(E)  = 2');\n",
"//end"
   ]
   }
,
{
		   "cell_type": "markdown",
		   "metadata": {},
		   "source": [
			"## Example 8.15: Orthogonal_sets.sce"
		   ]
		  },
  {
"cell_type": "code",
	   "execution_count": null,
	   "metadata": {
	    "collapsed": true
	   },
	   "outputs": [],
"source": [
"//page 288\n",
"//Example 8.15\n",
"clc;\n",
"clear;\n",
"close;\n",
"//part c\n",
"disp('f = (sqrt(2)*cos(2*pi*t) + sqrt(2)*sin(4*pi*t))^2');\n",
"disp('Integration (f dt) in limits 0 to 1 = ');\n",
"x0 = 0;\n",
"x1 = 1;\n",
"X = integrate('(sqrt(2)*cos(2*%pi*t) + sqrt(2)*sin(4*%pi*t))^2','t',x0,x1);\n",
"disp(X);\n",
"//end"
   ]
   }
,
{
		   "cell_type": "markdown",
		   "metadata": {},
		   "source": [
			"## Example 8.17: Inner_product_space_and_orthogonal_projection.sce"
		   ]
		  },
  {
"cell_type": "code",
	   "execution_count": null,
	   "metadata": {
	    "collapsed": true
	   },
	   "outputs": [],
"source": [
"//page 294\n",
"//Example 8.17\n",
"//Equation given in example 14 is used.\n",
"clc;\n",
"clear;\n",
"close;\n",
"function [m] = transform(x,y,z)\n",
"    x1 = 3*x;\n",
"    x2 = 12*y;\n",
"    x3 = -z;\n",
"    m = [x1 x2 x3];\n",
"endfunction\n",
"\n",
"disp('Matrix of projection E in orthonormal basis is:');\n",
"t1 = transform(3,3,3);\n",
"t2 = transform(12,12,12);\n",
"t3 = transform(-1,-1,-1);\n",
"A = [t1; t2; t3];\n",
"disp(A,'A = 1/154  *  ');\n",
"A1 = (conj(A))';\n",
"disp(A1,'A* = ');\n",
"disp('Since, E = E* and A = A*, then A is also the matrix of E*');\n",
"a1 = [154 0 0];\n",
"a2 = [145 -36 3];\n",
"a3 = [-36 10 12];\n",
"disp(a1,'a1 = ');\n",
"disp(a2,'a2 = ');\n",
"disp(a3,'a3 = ');\n",
"disp('{a1,a2,a3} is the basis.');\n",
"Ea1 = [9 36 -3];\n",
"Ea2 = [0 0 0];\n",
"Ea3 = [0 0 0];\n",
"disp(Ea1,'Ea1 = ');\n",
"disp(Ea2,'Ea2 = ');\n",
"disp(Ea3,'Ea3 = ');\n",
"B = [-1 0 0;-1 0 0;0 0 0];\n",
"disp('Matrix B of E in the basis is:');\n",
"disp(B,'B = ');\n",
"B1 = (conj(B))';\n",
"disp(B1,'B* = ');\n",
"disp('Since, B is not equal to B*, B is not the matrix of E*');\n",
"//end"
   ]
   }
,
{
		   "cell_type": "markdown",
		   "metadata": {},
		   "source": [
			"## Example 8.1: Standard_Inner_Product.sce"
		   ]
		  },
  {
"cell_type": "code",
	   "execution_count": null,
	   "metadata": {
	    "collapsed": true
	   },
	   "outputs": [],
"source": [
"//page 271\n",
"//Example 8.1\n",
"clc;\n",
"clear;\n",
"close;\n",
"n = round(rand() * 10 + 2);\n",
"a = round(rand(1,n) * 10)\n",
"b = round(rand(1,n) * 10)\n",
"disp(n,'n = ');\n",
"disp(a,'a = ');\n",
"disp(b,'b = ');\n",
"disp(a*b','Then, (a|b) = ');\n",
"//end"
   ]
   }
,
{
		   "cell_type": "markdown",
		   "metadata": {},
		   "source": [
			"## Example 8.28: Unitary_matrix.sce"
		   ]
		  },
  {
"cell_type": "code",
	   "execution_count": null,
	   "metadata": {
	    "collapsed": true
	   },
	   "outputs": [],
"source": [
"//page 307\n",
"//Example 8.28\n",
"clc;\n",
"clear;\n",
"close;\n",
"disp('x1 and x2  are two real nos. i.e., x1^2 + x2^2 = 1');\n",
"x1 = rand();\n",
"x2 = sqrt(1 - x1^2);\n",
"disp(x1,'x1 = ');\n",
"disp(x2,'x2 = ');\n",
"B = [x1 x2 0;0 1 0;0 0 1];\n",
"disp(B,'B = ');\n",
"disp('Applying Gram-Schmidt process to B:')\n",
"a1 = [x1 x2 0];\n",
"a2 = [0 1 0] - x2 * [x1 x2 0];\n",
"a3 = [0 0 1];\n",
"disp(a1,'a1 = ');\n",
"disp(a2,'a2 = ');\n",
"disp(a3,'a3 = ');\n",
"U = [a1;a2/x1;a3];\n",
"disp(U,'U = ');\n",
"M = [1 0 0;-x2/x1 1/x1 0;0 0 1];\n",
"disp(M,'M = ')\n",
"disp(inv(M) * U,'inverse(M) * U = ');\n",
"disp('So, B = inverse(M) * U');\n",
"//end"
   ]
   }
,
{
		   "cell_type": "markdown",
		   "metadata": {},
		   "source": [
			"## Example 8.2: Standard_Inner_Product.sce"
		   ]
		  },
  {
"cell_type": "code",
	   "execution_count": null,
	   "metadata": {
	    "collapsed": true
	   },
	   "outputs": [],
"source": [
"//page 271\n",
"//Example 8.2\n",
"clc;\n",
"clear;\n",
"close;\n",
"a = round(rand(1,2) * 10)\n",
"b = round(rand(1,2) * 10)\n",
"disp(a,'a = ');\n",
"disp(b,'b = ');\n",
"x1 = a(1);\n",
"x2 = a(2);\n",
"y1 = b(1);\n",
"y2 = b(2);\n",
"t = x1*y1 - x2*y1 - x1*y2 + 4*x2*y2;\n",
"disp(t,'Then, a|b = ');\n",
"//end"
   ]
   }
,
{
		   "cell_type": "markdown",
		   "metadata": {},
		   "source": [
			"## Example 8.9: Standard_Inner_Product.sce"
		   ]
		  },
  {
"cell_type": "code",
	   "execution_count": null,
	   "metadata": {
	    "collapsed": true
	   },
	   "outputs": [],
"source": [
"//page 278\n",
"//Example 8.9\n",
"clc;\n",
"clear;\n",
"close;\n",
"a = round(rand(1,2) * 10);\n",
"x = a(1);\n",
"y = a(2);\n",
"b = [-y x];\n",
"disp(a,'(x,y) = ');\n",
"disp(b,'(-y,x) = ');\n",
"disp('Inner product of these vectors is:');\n",
"t = -x*y + y*x;\n",
"disp(t,'(x,y)|(-y,x) = ');\n",
"disp('So, these are orthogonal.');\n",
"disp('------------------------------------------');\n",
"disp('If inner product is defined as:');\n",
"disp('(x1,x2)|(y1,y2) = x1y1- x2y1 - x1y2 + 4x2y2');\n",
"disp('Then, (x,y)|(-y,x) = -x*y+y^2-x^2+4*x*y = 0 if,');\n",
"disp('y = 1/2(-3 + sqrt(13))*x');\n",
"disp('or');\n",
"disp('y = 1/2(-3 - sqrt(13))*x');\n",
"disp('Hence,');\n",
"if y == 1/2*(-3 + sqrt(13))*x | y == 1/2*(-3 - sqrt(13))*x then\n",
"disp(a);\n",
"disp('is orthogonal to');\n",
"disp(b);\n",
"else\n",
"disp(a);\n",
"disp('is not orthogonal to');\n",
"disp(b);    \n",
"end\n",
"//end\n",
""
   ]
   }
],
"metadata": {
		  "kernelspec": {
		   "display_name": "Scilab",
		   "language": "scilab",
		   "name": "scilab"
		  },
		  "language_info": {
		   "file_extension": ".sce",
		   "help_links": [
			{
			 "text": "MetaKernel Magics",
			 "url": "https://github.com/calysto/metakernel/blob/master/metakernel/magics/README.md"
			}
		   ],
		   "mimetype": "text/x-octave",
		   "name": "scilab",
		   "version": "0.7.1"
		  }
		 },
		 "nbformat": 4,
		 "nbformat_minor": 0
}
