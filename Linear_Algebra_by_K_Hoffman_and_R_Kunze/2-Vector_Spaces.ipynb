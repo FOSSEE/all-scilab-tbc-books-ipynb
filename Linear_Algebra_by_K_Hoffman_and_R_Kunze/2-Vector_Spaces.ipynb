{
"cells": [
 {
		   "cell_type": "markdown",
	   "metadata": {},
	   "source": [
       "# Chapter 2: Vector Spaces"
	   ]
	},
{
		   "cell_type": "markdown",
		   "metadata": {},
		   "source": [
			"## Example 2.10: Row_space_of_matrix.sce"
		   ]
		  },
  {
"cell_type": "code",
	   "execution_count": null,
	   "metadata": {
	    "collapsed": true
	   },
	   "outputs": [],
"source": [
"//page 38\n",
"//Example 2.10\n",
"clear;\n",
"clc;\n",
"close;\n",
"A = [1 2 0 3 0;0 0 1 4 0;0 0 0 0 1];\n",
"disp(A,'A = ');\n",
"disp('The subspace of F^5 spanned by a1 a2 a3(row vectors of A) is called row space of A.');\n",
"a1 = A(1,:);\n",
"a2 = A(2,:);\n",
"a3 = A(3,:);\n",
"disp(a1,'a1 = ');\n",
"disp(a2,'a2 = ');\n",
"disp(a3,'a3 = ');\n",
"disp('And, it is also the row space of B.');\n",
"B = [1 2 0 3 0;0 0 1 4 0;0 0 0 0 1;-4 -8 1 -8 0];\n",
"disp(B,'B = ');\n",
"//end"
   ]
   }
,
{
		   "cell_type": "markdown",
		   "metadata": {},
		   "source": [
			"## Example 2.11: Space_of_polynomial_function.sce"
		   ]
		  },
  {
"cell_type": "code",
	   "execution_count": null,
	   "metadata": {
	    "collapsed": true
	   },
	   "outputs": [],
"source": [
"//page 39\n",
"//Example 2.11\n",
"clear;\n",
"clc;\n",
"close;\n",
"disp('V is the space of all polynomial functions over F.');\n",
"disp('S contains the functions as:')\n",
"x = poly(0,'x');\n",
"n = round(rand()*10);\n",
"disp(n,'n = ');\n",
"for i = 0 : n\n",
"    f = x^i;\n",
"    printf('f%d(x) = ',i);\n",
"    disp(f);\n",
"end\n",
"disp('Then, V is the subspace spanned by set S.');\n",
"//end"
   ]
   }
,
{
		   "cell_type": "markdown",
		   "metadata": {},
		   "source": [
			"## Example 2.12: Linear_Dependency.sce"
		   ]
		  },
  {
"cell_type": "code",
	   "execution_count": null,
	   "metadata": {
	    "collapsed": true
	   },
	   "outputs": [],
"source": [
"//page 41\n",
"//Example 2.12\n",
"clear;\n",
"clc;\n",
"close;\n",
"a1 = [3 0 -3];\n",
"a2 = [-1 1 2];\n",
"a3 = [4 2 -2];\n",
"a4 = [2 1 1];\n",
"disp(a1, 'a1 = ');\n",
"disp(a2, 'a2 = ');\n",
"disp(a3, 'a3 = ');\n",
"disp(a4, 'a4 = ');\n",
"t = 2 * a1 + 2 * a2 - a3 + 0 * a4;\n",
"disp(' = 0',t,' Since, 2 * a1 + 2 * a2 - a3 + 0 * a4 = ');\n",
"disp('a1,a2,a3,a4 are linearly independent');\n",
"e1 = [1 0 0];\n",
"e2 = [0 1 0];\n",
"e3 = [0 0 1];\n",
"disp(e1, 'Now, e1 = ');\n",
"disp(e2, 'e2 = ');\n",
"disp(e3, 'e3 = ');\n",
"disp('Also, e1,e2,e3 are linearly independent.');\n",
"//end"
   ]
   }
,
{
		   "cell_type": "markdown",
		   "metadata": {},
		   "source": [
			"## Example 2.13: Standard_basis_of_Matrix.sce"
		   ]
		  },
  {
"cell_type": "code",
	   "execution_count": null,
	   "metadata": {
	    "collapsed": true
	   },
	   "outputs": [],
"source": [
"//page 41\n",
"//Example 2.13\n",
"clear;\n",
"clc;\n",
"close;\n",
"disp('S is the subset of F^n consisting of n vectors.');\n",
"n = round(rand() *10 + 1);\n",
"disp(n,'n = ');\n",
"I = eye(n,n);\n",
"for i = 0 : n-1\n",
"    e = I(i+1,:);\n",
"    printf('e%d = ',i+1);\n",
"    disp(e);\n",
"end\n",
"disp('x1,x2,x3...xn are the scalars in F');\n",
"disp('Putting a = x1*e1 + x2*e2 + x3*e3 + .... + xn*en');\n",
"disp('So, a = (x1,x2,x3,...,xn)');\n",
"disp('Therefore, e1,e2..,en span F^n');\n",
"disp('a = 0 if x1 = x2 = x3 = .. = xn = 0');\n",
"disp('So,e1,e2,e3,..,en are linearly independent.');\n",
"disp('The set S = {e1,e2,..,en} is called standard basis of F^n');\n",
"//end"
   ]
   }
,
{
		   "cell_type": "markdown",
		   "metadata": {},
		   "source": [
			"## Example 2.20: Inverse_of_a_matrix.sce"
		   ]
		  },
  {
"cell_type": "code",
	   "execution_count": null,
	   "metadata": {
	    "collapsed": true
	   },
	   "outputs": [],
"source": [
"//page 54\n",
"//Example 2.20\n",
"clear;\n",
"clc;\n",
"close;\n",
"P = [-1 4 5; 0 2 -3; 0 0 8];\n",
"disp(P,'P = ');\n",
"disp(inv(P),'inverse(P) = ');\n",
"a1 = P(:,1);\n",
"a2 = P(:,2);\n",
"a3 = P(:,3);\n",
"disp('The vectors forming basis of F^3 are a1'', a2'', a3''');\n",
"disp(a1','a1'' = ');\n",
"disp(a2','a2'' = ');\n",
"disp(a3','a3'' = ');\n",
"disp('The coordinates x1'',x2'',x3'' of vector a = [x1,x2,x3] is given by inverse(P)*[x1; x2; x3]');\n",
"t = -10*a1 - 1/2*a2 - a3;\n",
"disp(t,'And, -10*a1'' - 1/2*a2'' - a3'' = ');\n",
"//end"
   ]
   }
,
{
		   "cell_type": "markdown",
		   "metadata": {},
		   "source": [
			"## Example 2.21: Standard_basis_of_matrix.sce"
		   ]
		  },
  {
"cell_type": "code",
	   "execution_count": null,
	   "metadata": {
	    "collapsed": true
	   },
	   "outputs": [],
"source": [
"//page 60\n",
"//Example 2.21\n",
"clear;\n",
"clc;\n",
"close;\n",
"a1 = [1 2 2 1];\n",
"a2 = [0 2 0 1];\n",
"a3 = [-2 0 -4 3];\n",
"disp('Given row vectors are:');\n",
"disp(a1,'a1 = ');\n",
"disp(a2,'a2 = ');\n",
"disp(a3,'a3 = ');\n",
"disp('The matrix A from these vectors will be:');\n",
"A = [a1; a2; a3];\n",
"disp(A,'A = ');\n",
"disp('Finding Row reduced echelon matrix of A that is given by R');\n",
"disp('And applying same operations on identity matrix Q such that R = QA');\n",
"Q = eye(3,3);\n",
"disp(Q,'Q = ');\n",
"T = A;              //Temporary matrix to store A\n",
"disp('Applying row transformations on A and Q,we get');\n",
"disp('R1 = R1-R2');\n",
"A(1,:) = A(1,:) - A(2,:);\n",
"Q(1,:) = Q(1,:) - Q(2,:);\n",
"disp(A,'A = ');\n",
"disp(Q,'Q = ');\n",
"disp('R3 = R3 + 2*R1');\n",
"A(3,:) = A(3,:) + 2*A(1,:);\n",
"Q(3,:) = Q(3,:) + 2*Q(1,:);\n",
"disp(A,'A = ');\n",
"disp(Q,'Q = ');\n",
"disp('R3 = R3/3');\n",
"A(3,:) = 1/3*A(3,:);\n",
"Q(3,:) = 1/3*Q(3,:);\n",
"disp(A,'A = ');\n",
"disp(Q,'Q = ');\n",
"disp('R2 = R2/2');\n",
"A(2,:) = 1/2*A(2,:);\n",
"Q(2,:) = 1/2*Q(2,:);\n",
"disp(A,'A = ');\n",
"disp(Q,'Q = ');\n",
"disp('R2 = R2 - 1/2*R3');\n",
"A(2,:) = A(2,:) - 1/2*A(3,:);\n",
"Q(2,:) = Q(2,:) - 1/2*Q(3,:);\n",
"disp(A,'A = ');\n",
"disp(Q,'Q = ');\n",
"R = A;\n",
"A = T;\n",
"disp('Row reduced echelon matrix:');\n",
"disp(R,'R = ');\n",
"disp(Q,'Q =');\n",
"//part a\n",
"disp(rank(R),'rank of R = ');\n",
"disp('Since, Rank of R is 3, so a1, a2, a3 are independent');\n",
"//part b\n",
"disp('Now, basis for W can be given by row vectors of R i.e. p1,p2,p3');\n",
"disp('b is any vector in W. b = [b1 b2 b3 b4]');\n",
"disp('Span of vectors p1,p2,p3 consist of vector b with b3 = 2*b1');\n",
"disp('So,b = b1p1 + b2p2 + b4p3');\n",
"disp('And,[p1 p2 p3] = R = Q*A');\n",
"disp('So, b = [b1 b2 b3]* Q * A');\n",
"disp('hence, b = x1a1 + x2a2 + x3a3 where x1 = [b1 b2 b4] * Q(1) and so on'); //Equation 1\n",
"//part c\n",
"disp('Now, given 3 vectors a1'' a2'' a3'':');\n",
"c1 = [1 0 2 0];\n",
"c2 = [0 2 0 1];\n",
"c3 = [0 0 0 3];\n",
"disp(c1,'a1'' = ');\n",
"disp(c2,'a2'' = ');\n",
"disp(c3,'a3'' = ');\n",
"disp('Since a1'' a2'' a3'' are all of the form (y1 y2 y3 y4) with y3 = 2*y1, hence they are in W.');\n",
"disp('So, they are independent.');\n",
"//part d\n",
"c = [c1; c2; c3];\n",
"P = eye(3,3);\n",
"for i = 1:3\n",
"    b1 = c(i,1);\n",
"    b2 = c(i,2);\n",
"    b4 = c(i,4);\n",
"    x1 = [b1 b2 b4] * Q(:,1);\n",
"    x2 = [b1 b2 b4]*Q(:,2);\n",
"    x3 = [b1 b2 b4]*Q(:,3);\n",
"   P(:,i) = [x1; x2; x3];\n",
"end\n",
"disp('Required matrix P such that X = PX'' is:');\n",
"disp(P,'P = ');\n",
"//end"
   ]
   }
,
{
		   "cell_type": "markdown",
		   "metadata": {},
		   "source": [
			"## Example 2.22: Standard_basis_of_Matrix.sce"
		   ]
		  },
  {
"cell_type": "code",
	   "execution_count": null,
	   "metadata": {
	    "collapsed": true
	   },
	   "outputs": [],
"source": [
"//page 63\n",
"//Example 2.22\n",
"clear;\n",
"clc;\n",
"close;\n",
"A = [1 2 0 3 0;1 2 -1 -1 0;0 0 1 4 0;2 4 1 10 1;0 0 0 0 1];\n",
"disp(A,'A = ');\n",
"//part a\n",
"T = A;                  //Temporary storing A in T\n",
"disp('Taking an identity matrix P:');\n",
"P = eye(5,5);\n",
"disp(P,'P = ');\n",
"disp('Applying row transformations on P and A to get a row reduced echelon matrix R:');\n",
"disp('R2 = R2 - R1 and R4 = R4 - 2* R1');\n",
"A(2,:) = A(2,:) - A(1,:);\n",
"P(2,:) = P(2,:) - P(1,:);\n",
"A(4,:) = A(4,:) - 2 * A(1,:);\n",
"P(4,:) = P(4,:) - 2 * P(1,:);\n",
"disp(A,'A = ');\n",
"disp(P,'P = ');\n",
"disp('R2 = -R2 , R3 = R3 - R1 + R2 and R4  = R4 - R1 + R2');\n",
"A(2,:) = -A(2,:);\n",
"P(2,:) = -P(2,:);\n",
"A(3,:) = A(3,:) - A(2,:);\n",
"P(3,:) = P(3,:) - P(2,:);\n",
"A(4,:) = A(4,:) - A(2,:);\n",
"P(4,:) = P(4,:) - P(2,:);\n",
"disp(A,'A = ');\n",
"disp(P,'P = ');\n",
"disp('Mutually interchanging R3, R4 and R5');\n",
"x = A(3,:);\n",
"A(3,:) = A(5,:);\n",
"y = A(4,:);\n",
"A(4,:) = x;\n",
"A(5,:) = y - A(3,:);\n",
"x = P(3,:);\n",
"P(3,:) = P(5,:);\n",
"y = P(4,:);\n",
"P(4,:) = x;\n",
"P(5,:) = y - P(3,:);\n",
"R = A;\n",
"A = T;\n",
"disp(R,'Row reduced echelon matrix R = ');\n",
"disp(P,'Invertible Matrix P = ');\n",
"disp('Invertible matrix P is not unique. There can be many that depends on operations used to reduce A');\n",
"disp('-----------------------------------------');\n",
"//part b\n",
"disp('For the basis of row space W of A, we can take the non-zero rows of R');\n",
"disp('It can be given by p1, p2, p3');\n",
"p1 = R(1,:);\n",
"p2 = R(2,:);\n",
"p3 = R(3,:);\n",
"disp(p1,'p1 = ');\n",
"disp(p2,'p2 = ');\n",
"disp(p3,'p3 = ');\n",
"disp('-----------------------------------------');\n",
"//part c\n",
"disp('The row space W consists of vectors of the form:');\n",
"disp('b = c1p1 + c2p2 + c3p3');\n",
"disp('i.e. b = (c1,2*c1,c2,3*c1+4*c2,c3) where, c1 c2 c3 are scalars.');\n",
"disp('So, if b2 = 2*b1 and b4 = 3*b1 + 4*b3  =>  (b1,b2,b3,b4,b5) = b1p1 + b3p2 + b5p3');\n",
"disp('then,(b1,b2,b3,b4,b5) is in W');\n",
"disp('-----------------------------------------');\n",
"//part d\n",
"disp('The coordinate matrix of the vector (b1,2*b1,b2,3*b1+4*b2,b3) in the basis (p1,p2,p3) is column matrix of b1,b2,b3 such that:');\n",
"disp('  b1');\n",
"disp('  b2');\n",
"disp('  b3');\n",
"disp('-----------------------------------------');\n",
"//part e\n",
"disp('Now, to write each vector in W as a linear combination of rows of A:');\n",
"disp('Let b = (b1,b2,b3,b4,b5) and if b is in W, then');\n",
"disp('we know,b = (b1,2*b1,b3,3*b1 + 4*b3,b5)  =>  [b1,b3,b5,0,0]*R');\n",
"disp('=> b = [b1,b3,b5,0,0] * P*A  =>  b = [b1+b3,-b3,0,0,b5] * A');\n",
"disp('if b = (-5,-10,1,-11,20)');\n",
"b1 = -5;\n",
"b2 = -10;\n",
"b3 = 1;\n",
"b4 = -11;\n",
"b5 = 20;\n",
"x = [b1 + b3,-b3,0,0,b5];\n",
"disp(']',A,'[','*',')',x,'(','b = ');\n",
"disp('-----------------------------------------');\n",
"//part f\n",
"disp('The equations in system RX = 0 are given by R * [x1 x2 x3 x4 x5]');\n",
"disp('i.e., x1 + 2*x2 + 3*x4');\n",
"disp('x3 + 4*x4');\n",
"disp('x5');\n",
"disp('so, V consists of all columns of the form');\n",
"disp('[','X=');\n",
"disp('  -2*x2 - 3*x4');\n",
"disp('  x2');\n",
"disp('  -4*x4');\n",
"disp('  x4');\n",
"disp('  0');\n",
"disp('where x2 and x4  are arbitrary',']');\n",
"disp('-----------------------------------------');\n",
"//part g\n",
"disp('Let x2 = 1,x4 = 0 then the given column forms a basis of V');\n",
"x2 = 1;\n",
"x4 = 0;\n",
"disp([-2*x2-3*x4; x2; -4*x4; x4; 0]);\n",
"disp('Similarly,if x2 = 0,x4 = 1 then the given column forms a basis of V');\n",
"x2 = 0;\n",
"x4 = 1;\n",
"disp([-2*x2-3*x4; x2; -4*x4; x4; 0]);\n",
"disp('-----------------------------------------');\n",
"//part h\n",
"disp('The equation AX = Y has solutions X if and only if');\n",
"disp('-y1 + y2 + y3 = 0');\n",
"disp('-3*y1 + y2 + y4 -y5 = 0');\n",
"disp('where, Y = (y1 y2 y3 y4 y5)');\n",
"//end"
   ]
   }
,
{
		   "cell_type": "markdown",
		   "metadata": {},
		   "source": [
			"## Example 2.8: Vector_Subspace.sce"
		   ]
		  },
  {
"cell_type": "code",
	   "execution_count": null,
	   "metadata": {
	    "collapsed": true
	   },
	   "outputs": [],
"source": [
"//page 37\n",
"//Example 2.8\n",
"clear;\n",
"clc;\n",
"close;\n",
"a1 = [1 2 0 3 0];\n",
"a2 =[0 0 1 4 0];\n",
"a3 = [0 0 0 0 1];\n",
"disp(a1,'a1 = ');\n",
"disp(a2,'a2 = ');\n",
"disp(a3,'a3 = ');\n",
"disp('By theorem 3, vector a is in subspace W of F^5 spanned by a1, a2, a3');\n",
"disp('if and only if there exist scalars c1, c2, c3 such that');\n",
"disp('a= c1a1 + c2a2 + c3a3');\n",
"disp('So, a = (c1,2*c1,c2,3c1+4c2,c3)');\n",
"c1 = -3;\n",
"c2 = 1;\n",
"c3 = 2;\n",
"a = c1*a1 + c2*a2 + c3*a3;\n",
"disp(c1,'c1 = ');\n",
"disp(c2,'c2 = ');\n",
"disp(c3,'c3 = ');\n",
"disp(a,'Therefore, a = ');\n",
"disp('This shows, a is in W');\n",
"disp('And (2,4,6,7,8) is not in W as there is no value of c1 c2 c3 that satisfies the equation');\n",
"//end"
   ]
   }
],
"metadata": {
		  "kernelspec": {
		   "display_name": "Scilab",
		   "language": "scilab",
		   "name": "scilab"
		  },
		  "language_info": {
		   "file_extension": ".sce",
		   "help_links": [
			{
			 "text": "MetaKernel Magics",
			 "url": "https://github.com/calysto/metakernel/blob/master/metakernel/magics/README.md"
			}
		   ],
		   "mimetype": "text/x-octave",
		   "name": "scilab",
		   "version": "0.7.1"
		  }
		 },
		 "nbformat": 4,
		 "nbformat_minor": 0
}
