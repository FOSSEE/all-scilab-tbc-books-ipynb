{
"cells": [
 {
		   "cell_type": "markdown",
	   "metadata": {},
	   "source": [
       "# Chapter 5: Determinants"
	   ]
	},
{
		   "cell_type": "markdown",
		   "metadata": {},
		   "source": [
			"## Example 5.3: Two_linear_function.sce"
		   ]
		  },
  {
"cell_type": "code",
	   "execution_count": null,
	   "metadata": {
	    "collapsed": true
	   },
	   "outputs": [],
"source": [
"//page 143\n",
"//Example 5.3\n",
"clc;\n",
"clear;\n",
"close;\n",
"A = round(rand(2,2) *10 );\n",
"disp(A,'A = ');\n",
"D1 = A(1,1)*A(2,2);\n",
"D2 = - A(1,2)*A(2,1);\n",
"disp(D1,'D1(A) = ');\n",
"disp(D2,'D2(A) = ');\n",
"disp(D1 + D2,'D(A) = D1(A) + D2(A) = ');\n",
"disp('That is, D is a 2-linear function.');\n",
"//end"
   ]
   }
,
{
		   "cell_type": "markdown",
		   "metadata": {},
		   "source": [
			"## Example 5.4: Alternating_3_Linear_Functions.sce"
		   ]
		  },
  {
"cell_type": "code",
	   "execution_count": null,
	   "metadata": {
	    "collapsed": true
	   },
	   "outputs": [],
"source": [
"//page 145\n",
"//Example 5.4\n",
"clc;\n",
"clear;\n",
"close;\n",
"x = poly(0,'x');\n",
"A = [x 0 -x^2;0 1 0;1 0 x^3];\n",
"disp(A,'A = ');\n",
"disp('e1,e2,e3 are the rows of 3*3 identity matrix, then');\n",
"T = eye(3,3);\n",
"e1 = T(1,:);\n",
"e2 = T(2,:);\n",
"e3 = T(3,:);\n",
"disp(e1,'e1 = ');\n",
"disp(e2,'e2 = ');\n",
"disp(e3,'e3 = ');\n",
"disp('D(A) = D(x*e1 - x^2*e3, e2, e1 + x^3*e3)');\n",
"disp('Since, D is linear as a function of each row,');\n",
"disp('D(A) = x*D(e1,e2,e1 + x^3*e3) - x^2*D(e3,e2,e1 + x^3*e3)');\n",
"disp('D(A) = x*D(e1,e2,e1) + x^4*D(e1,e2,e3) - x^2*D(e3,e2,e1) - x^5*D(e3,e2,e3)');\n",
"disp('As D is alternating, So');\n",
"disp('D(A) = (x^4 + x^2)*D(e1,e2,e3)');\n",
"//end"
   ]
   }
,
{
		   "cell_type": "markdown",
		   "metadata": {},
		   "source": [
			"## Example 5.5: Determinant_of_a_matrix.sce"
		   ]
		  },
  {
"cell_type": "code",
	   "execution_count": null,
	   "metadata": {
	    "collapsed": true
	   },
	   "outputs": [],
"source": [
"//page 147\n",
"//Example 5.5\n",
"clc;\n",
"clear;\n",
"close;\n",
"function [E1 , E2 , E3] = determinant(A)\n",
"    E1 = A(1,1)*det([A(2,2) A(2,3);A(3,2) A(3,3)]) - A(2,1)*det([A(1,2) A(1,3);A(3,2) A(3,3)]) + A(3,1)*det([A(1,2) A(1,3);A(2,2) A(2,3)]);\n",
"    E2 = -A(1,2)*det([A(2,1) A(2,3);A(3,1) A(3,3)]) + A(2,2)*det([A(1,1) A(1,3);A(3,1) A(3,3)]) + A(3,2)*det([A(1,1) A(1,3);A(2,1) A(2,3)]);\n",
"    E3 = A(1,3)*det([A(2,1) A(2,2);A(3,1) A(3,2)]) - A(2,3)*det([A(1,1) A(1,2);A(3,1) A(3,2)]) + A(3,3)*det([A(1,1) A(1,2);A(2,1) A(2,2)]);\n",
"endfunction\n",
"\n",
"//part a\n",
"x = poly(0,'x');\n",
"A = [x-1 x^2 x^3;0 x-2 1;0 0 x-3];\n",
"disp(A,'A = ');\n",
"[E1, E2, E3] = determinant(A);\n",
"disp(E1,'E1(A) = ');\n",
"disp(E2,'E2(A) = ');\n",
"disp(E3,'E3(A) = ');\n",
"disp('--------------------------------------');\n",
"//part b\n",
"A = [0 1 0;0 0 1;1 0 0];\n",
"disp(A,'A = ');\n",
"[E1, E2, E3] = determinant(A);\n",
"disp(E1,'E1(A) = ');\n",
"disp(E2,'E2(A) = ');\n",
"disp(E3,'E3(A) = ');\n",
"//end"
   ]
   }
,
{
		   "cell_type": "markdown",
		   "metadata": {},
		   "source": [
			"## Example 5.6: Determinant_of_a_matrix.sce"
		   ]
		  },
  {
"cell_type": "code",
	   "execution_count": null,
	   "metadata": {
	    "collapsed": true
	   },
	   "outputs": [],
"source": [
"//page 158\n",
"//Example 5.6\n",
"clc;\n",
"clear;\n",
"close;\n",
"disp('Given Matrix:');\n",
"A = [1 -1 2 3; 2 2 0 2; 4 1 -1 -1;1 2 3 0];\n",
"disp(A,'A = ');\n",
"disp('After, Subtracting muliples of row 1 from rows 2 3 4');\n",
"disp('R2 = R2 - 2*R1');\n",
"A(2,:) = A(2,:) - 2 * A(1,:);\n",
"disp('R3 = R3 - 4*R1');\n",
"A(3,:) = A(3,:) - 4 * A(1,:);\n",
"disp('R4 = R4 - R1');\n",
"A(4,:) = A(4,:) - A(1,:);\n",
"disp(A,'A = ');\n",
"T = A;                  //Temporary matrix to store A\n",
"disp('We obtain the same determinant as before.');\n",
"disp('Now, applying some more row transformations as:');\n",
"disp('R3 = R3 - 5/4 * R2');\n",
"T(3,:) = T(3,:) - 5/4 * T(2,:);\n",
"disp('R4 = R4 - 3/4 * R2');\n",
"T(4,:) = T(4,:) - 3/4 * T(2,:);\n",
"B = T;\n",
"disp('We get B as:');\n",
"disp(B,'B = ');\n",
"disp('Now,determinant of A and B will be same');\n",
"disp(det(B),'det A = det B = '); \n",
"//end"
   ]
   }
,
{
		   "cell_type": "markdown",
		   "metadata": {},
		   "source": [
			"## Example 5.7: Inverse_of_a_matrix.sce"
		   ]
		  },
  {
"cell_type": "code",
	   "execution_count": null,
	   "metadata": {
	    "collapsed": true
	   },
	   "outputs": [],
"source": [
"//page 160\n",
"//Example 5.7\n",
"clc;\n",
"clear;\n",
"close;\n",
"x = poly(0,'x');\n",
"A = [x^2+x x+1;x-1 1];\n",
"B = [x^2-1 x+2;x^2-2*x+3 x];\n",
"disp(A,'A = ');\n",
"disp(B,'B = ');\n",
"disp(det(A),'det A = ');\n",
"disp(det(B),'det B = ');\n",
"disp('Thus, A is not invertible over K whereas B is invertible');\n",
"disp(inv(A)*det(A),'adj A = ');\n",
"disp(inv(B)*det(B),'adj B = ');\n",
"disp('(adj A)A = (x+1)I');\n",
"disp('(adj B)B =  -6I');\n",
"disp(inv(B),'B inverse = ');\n",
"//end"
   ]
   }
,
{
		   "cell_type": "markdown",
		   "metadata": {},
		   "source": [
			"## Example 5.8: Inverse_of_a_matrix.sce"
		   ]
		  },
  {
"cell_type": "code",
	   "execution_count": null,
	   "metadata": {
	    "collapsed": true
	   },
	   "outputs": [],
"source": [
"//page 161\n",
"//Example 5.8\n",
"clc;\n",
"clear;\n",
"close;\n",
"A = [1 2;3 4];\n",
"disp(A,'A = ');\n",
"d = det(A);\n",
"disp(d,'det A = ','Determinant of A is:');\n",
"ad = (det(A) * eye(2,2)) / A;\n",
"disp(ad,'adj A = ','Adjoint of A is:');\n",
"disp('Thus, A is not invertible as a matrix over the ring of integers.');\n",
"disp('But, A can be regarded as a matrix over field of rational numbers.');\n",
"in = inv(A);\n",
"//The A inverse matrix given in book has a wrong entry of 1/2. It should be -1/2.\n",
"disp(in,'inv(A) = ','Then, A is invertible and Inverse of A is:');\n",
"//end"
   ]
   }
],
"metadata": {
		  "kernelspec": {
		   "display_name": "Scilab",
		   "language": "scilab",
		   "name": "scilab"
		  },
		  "language_info": {
		   "file_extension": ".sce",
		   "help_links": [
			{
			 "text": "MetaKernel Magics",
			 "url": "https://github.com/calysto/metakernel/blob/master/metakernel/magics/README.md"
			}
		   ],
		   "mimetype": "text/x-octave",
		   "name": "scilab",
		   "version": "0.7.1"
		  }
		 },
		 "nbformat": 4,
		 "nbformat_minor": 0
}
