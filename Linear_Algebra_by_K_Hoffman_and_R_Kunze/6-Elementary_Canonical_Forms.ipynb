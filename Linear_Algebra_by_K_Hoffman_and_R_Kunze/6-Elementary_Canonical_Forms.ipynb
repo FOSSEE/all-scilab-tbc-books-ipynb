{
"cells": [
 {
		   "cell_type": "markdown",
	   "metadata": {},
	   "source": [
       "# Chapter 6: Elementary Canonical Forms"
	   ]
	},
{
		   "cell_type": "markdown",
		   "metadata": {},
		   "source": [
			"## Example 6.12: Symmetric_and_skew_symmetric_matrix.sce"
		   ]
		  },
  {
"cell_type": "code",
	   "execution_count": null,
	   "metadata": {
	    "collapsed": true
	   },
	   "outputs": [],
"source": [
"//page 210\n",
"//Example 6.12\n",
"clc;\n",
"clear;\n",
"close;\n",
"A = round(rand(3,3) * 10);\n",
"disp(A,'A = ');\n",
"disp('A transpose is:');\n",
"disp(A','A'' = ');\n",
"if A' == A then\n",
"    disp('Since, A'' = A, A is a symmetric matrix.');\n",
"else\n",
"    disp('Since, A'' is not equal to A, A is not a symmetric matrix.');\n",
"end\n",
"if A' == -A then\n",
"    disp('Since, A'' = -A, A is a skew-symmetric matrix.');\n",
"else\n",
"    disp('Since, A'' is not equal to -A, A is not a skew-symmetric matrix.');\n",
"end\n",
"A1 = 1/2*(A + A');\n",
"A2 = 1/2*(A - A');\n",
"disp('A can be expressed as sum of A1 and A2');\n",
"disp('i.e., A = A1 + A2');\n",
"disp(A1,'A1 = ');\n",
"disp(A2,'A2 = ');\n",
"disp(A1 + A2,'A1 + A2 = ');\n",
"//end"
   ]
   }
,
{
		   "cell_type": "markdown",
		   "metadata": {},
		   "source": [
			"## Example 6.1: Characteristic_Polynomial_of_a_matrix.sce"
		   ]
		  },
  {
"cell_type": "code",
	   "execution_count": null,
	   "metadata": {
	    "collapsed": true
	   },
	   "outputs": [],
"source": [
"//page 184\n",
"//Example 6.1\n",
"clc;\n",
"clear;\n",
"close;\n",
"disp('Standard ordered matrix for Linear operator T on R^2 is:');\n",
"A = [0 -1;1 0];\n",
"disp(A,'A = ');\n",
"disp('The characteristic polynomial for T or A is:')\n",
"x = poly(0,'x');\n",
"p = detr(x*eye(2,2)-A);\n",
"disp(p);\n",
"disp('Since this polynomial has no real roots,T has no characteristic values.');\n",
"//end"
   ]
   }
,
{
		   "cell_type": "markdown",
		   "metadata": {},
		   "source": [
			"## Example 6.2: Characteristic_Polynomial_of_a_matrix.sce"
		   ]
		  },
  {
"cell_type": "code",
	   "execution_count": null,
	   "metadata": {
	    "collapsed": true
	   },
	   "outputs": [],
"source": [
"//page 184\n",
"//Example 6.2\n",
"clc;\n",
"clear;\n",
"close;\n",
"A = [3 1 -1; 2 2 -1;2 2 0];\n",
"disp(A,'A = ');\n",
"disp('Characteristic polynomial for A is:');\n",
"p = poly(A,'x');\n",
"disp(p);\n",
"disp('or');\n",
"disp('(x-1)(x-2)^2');\n",
"r = roots(p);\n",
"[m,n] = size(A);\n",
"disp('The characteristic values of A are:');\n",
"disp(round(r));\n",
"B = A-eye(m,n);\n",
"disp(B,'Now, A-I = ');\n",
"disp(rank(B),'rank of A - I= ');\n",
"disp('So, nullity of T-I = 1');\n",
"a1 = [1 0 2];\n",
"disp(a1,'The vector that spans the null space of T-I = ');\n",
"B = A-2*eye(m,n);\n",
"disp(B,'Now,A-2I = ');\n",
"disp(rank(B),'rank of A - 2I= ');\n",
"disp('T*alpha = 2*alpha if alpha is a scalar multiple of a2');\n",
"a2 = [1 1 2];\n",
"disp(a2,'a2 = ');\n",
"//end"
   ]
   }
,
{
		   "cell_type": "markdown",
		   "metadata": {},
		   "source": [
			"## Example 6.3: Characteristic_Polynomial_of_a_matrix.sce"
		   ]
		  },
  {
"cell_type": "code",
	   "execution_count": null,
	   "metadata": {
	    "collapsed": true
	   },
	   "outputs": [],
"source": [
"//page 187\n",
"//Example 6.3\n",
"clc;\n",
"clear;\n",
"close;\n",
"disp('Standard ordered matrix for Linear operator T on R^3 is:');\n",
"A = [5 -6 -6; -1 4 2; 3 -6 -4];\n",
"disp(A,'A = ');\n",
"disp('xI - A = ');\n",
"B = eye(3,3);\n",
"x = poly(0,'x');\n",
"P = x*B - A;\n",
"disp(P);\n",
"disp('Applying row and column transformations:');\n",
"disp('C2 = C2 - C3');\n",
"P(:,2) = P(:,2) - P(:,3);\n",
"disp('=>');\n",
"disp(P);\n",
"disp('Taking (x-2) common from C2');\n",
"c = x-2;\n",
"P(:,2) = P(:,2) / (x-2);\n",
"disp('=>');\n",
"disp(' * ', c);\n",
"disp(P);\n",
"disp('R3 = R3 + R2');\n",
"P(3,:) = P(3,:) + P(2,:);\n",
"disp('=>');\n",
"disp(' * ', c);\n",
"disp(P);\n",
"P = [P(1,1) P(1,3); P(3,1) P(3,3)];\n",
"disp('=>');\n",
"disp(' * ', c);\n",
"disp(P);\n",
"disp('=>');\n",
"disp(' * ',c);\n",
"disp(det(P));\n",
"disp('This is the characteristic polynomial');\n",
"disp(A-B,'Now, A - I = ');\n",
"disp(A-2*B,'And, A- 2I = ');\n",
"disp(rank(A-B),'rank(A-I) = ');\n",
"disp(rank(A-2*B),'rank(A-2I) = ');\n",
"disp('W1,W2 be the spaces of characteristic vectors associated with values 1,2');\n",
"disp('So by theorem 2, T is diagonalizable');\n",
"a1 = [3 -1 3];\n",
"a2 = [2 1 0];\n",
"a3 = [2 0 1];\n",
"disp(a1,'Null space of (T- I) i.e basis of W1 is spanned by a1 = ');\n",
"disp('Null space of (T- 2I) i.e. basis of W2 is spanned by vectors x1,x2,x3 such that x1 = 2x1 + 2x3');\n",
"disp('One example are;');\n",
"disp(a2,'a2 = ');\n",
"disp(a3,'a3 = ');\n",
"disp('The diagonal matrix is:');\n",
"D = [1 0 0 ;0 2 0;0 0 2];\n",
"disp(D,'D = ');\n",
"disp('The standard basis matrix is denoted as:');\n",
"P = [a1;a2;a3]';\n",
"disp(P,'P = ');\n",
"disp(A*P,'AP = ');\n",
"disp(P*D,'PD = ');\n",
"disp('That is, AP = PD');\n",
"disp('=>  inverse(P)*A*P = D');\n",
"//end"
   ]
   }
,
{
		   "cell_type": "markdown",
		   "metadata": {},
		   "source": [
			"## Example 6.4: Diagonalizable_Operator.sce"
		   ]
		  },
  {
"cell_type": "code",
	   "execution_count": null,
	   "metadata": {
	    "collapsed": true
	   },
	   "outputs": [],
"source": [
"//page 193\n",
"//Example 6.4\n",
"clc;\n",
"clear;\n",
"close;\n",
"x = poly(0,'x');\n",
"A = [5 -6 -6; -1 4 2; 3 -6 -4];     //Matrix given in Example 3\n",
"disp(A,'A = ');\n",
"f = (x-1)*(x-2)^2; \n",
"disp('Characteristic polynomial of A is:');\n",
"disp('f = (x-1)(x-2)^2');\n",
"disp(f,'i.e., f = ');\n",
"p = (x-1)*(x-2);\n",
"disp((A-eye(3,3))*(A-2 * eye(3,3)),'(A-I)(A-2I) = ');\n",
"disp('Since, (A-I)(A-2I) = 0. So, Minimal polynomial for above is:');\n",
"disp(p,'p = ');\n",
"disp('---------------------------------------');\n",
"A = [3 1 -1; 2 2 -1;2 2 0];     //Matrix given in Example 2\n",
"disp(A,'A = ');\n",
"f = (x-1)*(x-2)^2; \n",
"disp('Characteristic polynomial of A is:');\n",
"disp('f = (x-1)(x-2)^2');\n",
"disp(f,'i.e., f = ');\n",
"disp((A-eye(3,3))*(A-2 * eye(3,3)),'(A-I)(A-2I) = ');\n",
"disp('Since, (A-I)(A-2I) is not equal to 0. T is not diagonalizable. So, Minimal polynomial cannot be p.');\n",
"disp('---------------------------------------');\n",
"A = [0 -1;1 0];\n",
"disp(A,'A = ');\n",
"f = x^2 + 1;\n",
"disp('Characteristic polynomial of A is:');\n",
"disp(f,'f = ');\n",
"disp(A^2 + eye(2,2),'A^2 + I = ');\n",
"disp('Since, A^2 + I = 0, so minimal polynomial is');\n",
"p = x^2 + 1;\n",
"disp(p,'p = ');\n",
"//end"
   ]
   }
,
{
		   "cell_type": "markdown",
		   "metadata": {},
		   "source": [
			"## Example 6.5: Characteristic_Polynomial_of_matrix.sce"
		   ]
		  },
  {
"cell_type": "code",
	   "execution_count": null,
	   "metadata": {
	    "collapsed": true
	   },
	   "outputs": [],
"source": [
"//page 197\n",
"//Example 6.5\n",
"clc;\n",
"clear;\n",
"close;\n",
"A = [0 1 0 1;1 0 1 0;0 1 0 1;1 0 1 0];\n",
"disp(A,'A = ');\n",
"disp('Computing powers on A:');\n",
"disp(A*A,'A^2 = ');\n",
"disp(A*A*A,'A^3 = ');\n",
"deff('[p] = p(x)','p = x^3 - 4*x');\n",
"disp('if p = x^3 - 4x, then');\n",
"disp(p(A),'p(A) = ');\n",
"x = poly(0,'x');\n",
"f = x^3 - 4*x;\n",
"disp(f,'Minimal polynomial for A is: ');\n",
"disp(roots(f),'Characteristic values for A are:');\n",
"disp(rank(A),'Rank(A) = ');\n",
"disp(round(poly(A,'x')),'So, from theorem 2, characteristic polynomial for A is:');\n",
"//end"
   ]
   }
],
"metadata": {
		  "kernelspec": {
		   "display_name": "Scilab",
		   "language": "scilab",
		   "name": "scilab"
		  },
		  "language_info": {
		   "file_extension": ".sce",
		   "help_links": [
			{
			 "text": "MetaKernel Magics",
			 "url": "https://github.com/calysto/metakernel/blob/master/metakernel/magics/README.md"
			}
		   ],
		   "mimetype": "text/x-octave",
		   "name": "scilab",
		   "version": "0.7.1"
		  }
		 },
		 "nbformat": 4,
		 "nbformat_minor": 0
}
