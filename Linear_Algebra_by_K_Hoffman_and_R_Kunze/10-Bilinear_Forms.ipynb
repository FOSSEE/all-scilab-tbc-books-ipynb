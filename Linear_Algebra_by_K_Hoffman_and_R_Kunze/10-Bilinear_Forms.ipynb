{
"cells": [
 {
		   "cell_type": "markdown",
	   "metadata": {},
	   "source": [
       "# Chapter 10: Bilinear Forms"
	   ]
	},
{
		   "cell_type": "markdown",
		   "metadata": {},
		   "source": [
			"## Example 10.4: Bilinear_Form_of_vectors.sce"
		   ]
		  },
  {
"cell_type": "code",
	   "execution_count": null,
	   "metadata": {
	    "collapsed": true
	   },
	   "outputs": [],
"source": [
"//page 363\n",
"//Example 10.4\n",
"clc;\n",
"clear;\n",
"close;\n",
"disp('a = [x1 x2]');\n",
"disp('b = [y1 y2]');\n",
"disp('f(a,b) = x1*y1 + x1*y2 + x2*y1 + x2*y2');\n",
"disp('so, f(a,b) = ');\n",
"disp('[x1  x2]  *  |1   1|  *   |y1|');\n",
"disp('              |1   1|     |y2|');\n",
"disp('So the matrix of f in standard order basis B = {e1,e2} is:');\n",
"fb = [1 1;1 1];\n",
"disp(fb,'[f]B = ');\n",
"P = [1 1;-1 1];\n",
"disp(P,'P = ');\n",
"disp('Thus, [f]B'' = P''*[f]B*P');\n",
"fb1 = P' * fb * P;\n",
"disp(fb1,'[f]B'' = ');\n",
"//end"
   ]
   }
,
{
		   "cell_type": "markdown",
		   "metadata": {},
		   "source": [
			"## Example 10.5: Bilinear_Form_of_vectors.sce"
		   ]
		  },
  {
"cell_type": "code",
	   "execution_count": null,
	   "metadata": {
	    "collapsed": true
	   },
	   "outputs": [],
"source": [
"//page 365\n",
"//Example 10.5\n",
"clc;\n",
"clear;\n",
"close;\n",
"n = round(rand() * 10 + 2);\n",
"a = round(rand(1,n) * 10);\n",
"b = round(rand(1,n) * 10);\n",
"disp(n,'n = ');\n",
"disp(a,'a = ');\n",
"disp(b,'b = ');\n",
"f = a * b';\n",
"disp(f,'f(a,b) = ');\n",
"disp('f is non-degenerate billinear form on R^n.');\n",
"//end"
   ]
   }
],
"metadata": {
		  "kernelspec": {
		   "display_name": "Scilab",
		   "language": "scilab",
		   "name": "scilab"
		  },
		  "language_info": {
		   "file_extension": ".sce",
		   "help_links": [
			{
			 "text": "MetaKernel Magics",
			 "url": "https://github.com/calysto/metakernel/blob/master/metakernel/magics/README.md"
			}
		   ],
		   "mimetype": "text/x-octave",
		   "name": "scilab",
		   "version": "0.7.1"
		  }
		 },
		 "nbformat": 4,
		 "nbformat_minor": 0
}
