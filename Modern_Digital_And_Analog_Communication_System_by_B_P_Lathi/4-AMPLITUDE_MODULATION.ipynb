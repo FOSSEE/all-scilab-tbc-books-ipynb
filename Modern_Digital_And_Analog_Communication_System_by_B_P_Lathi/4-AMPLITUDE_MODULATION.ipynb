{
"cells": [
 {
		   "cell_type": "markdown",
	   "metadata": {},
	   "source": [
       "# Chapter 4: AMPLITUDE MODULATION"
	   ]
	},
{
		   "cell_type": "markdown",
		   "metadata": {},
		   "source": [
			"## Example 4.5: problem5.sce"
		   ]
		  },
  {
"cell_type": "code",
	   "execution_count": null,
	   "metadata": {
	    "collapsed": true
	   },
	   "outputs": [],
"source": [
"clc;\n",
"//page 166\n",
"//problem 4.5\n",
"// we  have given 1)u=.5 and 2)u=.3\n",
"// efficiency n is calculated by using formula n= (u^2) / (2+u^2) *100 %\n",
"//for u=0.5\n",
"u1=0.5;\n",
"n1= (u1^2) / (2+u1^2) *100 ;\n",
"disp(n1,'efficiency in % is');\n",
"// Hence only 11.1111% of total power is in sidebands.\n",
"//for u=0.3\n",
"u2=0.3;\n",
"n2= (u2^2) / (2+u2^2) *100;\n",
"disp(n2,'efficiency in % is');\n",
"// Hence only 4.3062% of the total power is the useful power (power in sidebands)"
   ]
   }
],
"metadata": {
		  "kernelspec": {
		   "display_name": "Scilab",
		   "language": "scilab",
		   "name": "scilab"
		  },
		  "language_info": {
		   "file_extension": ".sce",
		   "help_links": [
			{
			 "text": "MetaKernel Magics",
			 "url": "https://github.com/calysto/metakernel/blob/master/metakernel/magics/README.md"
			}
		   ],
		   "mimetype": "text/x-octave",
		   "name": "scilab",
		   "version": "0.7.1"
		  }
		 },
		 "nbformat": 4,
		 "nbformat_minor": 0
}
