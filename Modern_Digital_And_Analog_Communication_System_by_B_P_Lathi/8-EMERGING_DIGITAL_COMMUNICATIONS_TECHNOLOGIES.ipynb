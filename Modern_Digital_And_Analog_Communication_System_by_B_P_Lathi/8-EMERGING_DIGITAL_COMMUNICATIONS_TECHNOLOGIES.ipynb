{
"cells": [
 {
		   "cell_type": "markdown",
	   "metadata": {},
	   "source": [
       "# Chapter 8: EMERGING DIGITAL COMMUNICATIONS TECHNOLOGIES"
	   ]
	},
{
		   "cell_type": "markdown",
		   "metadata": {},
		   "source": [
			"## Example 8.3: problem3.sce"
		   ]
		  },
  {
"cell_type": "code",
	   "execution_count": null,
	   "metadata": {
	    "collapsed": true
	   },
	   "outputs": [],
"source": [
"clc;\n",
"// page no. 367\n",
"//prob no. 8.3\n",
"//since both the plots can be out of synchronization by as much as 6 parts (bits)in 10^13 , we have \n",
"// timing error bits per second can be calculated as-\n",
"//error in synchronization is given as\n",
"e=6/(10^13);//timing eeor bits per transmitted bits\n",
"//bit rate is given as\n",
"r =1544000 ;// in bits/sec\n",
"//timing error bits per second ,Te is given as\n",
"Te=e*r;\n",
"S=1/Te;// seconds per timing error bits\n",
"H=S/3600;// hours per timing error bits\n",
"//since a synchronization error can occur whenever the network is out of synchronization by 1/5 bits, the time between resynchronizing is given as\n",
"T=H/5;\n",
"disp(+'Hr',T,'No. of hours for resynchronizing');"
   ]
   }
],
"metadata": {
		  "kernelspec": {
		   "display_name": "Scilab",
		   "language": "scilab",
		   "name": "scilab"
		  },
		  "language_info": {
		   "file_extension": ".sce",
		   "help_links": [
			{
			 "text": "MetaKernel Magics",
			 "url": "https://github.com/calysto/metakernel/blob/master/metakernel/magics/README.md"
			}
		   ],
		   "mimetype": "text/x-octave",
		   "name": "scilab",
		   "version": "0.7.1"
		  }
		 },
		 "nbformat": 4,
		 "nbformat_minor": 0
}
