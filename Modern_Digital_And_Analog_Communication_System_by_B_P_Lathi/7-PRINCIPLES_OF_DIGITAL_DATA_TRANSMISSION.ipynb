{
"cells": [
 {
		   "cell_type": "markdown",
	   "metadata": {},
	   "source": [
       "# Chapter 7: PRINCIPLES OF DIGITAL DATA TRANSMISSION"
	   ]
	},
{
		   "cell_type": "markdown",
		   "metadata": {},
		   "source": [
			"## Example 7.1: problem1.sce"
		   ]
		  },
  {
"cell_type": "code",
	   "execution_count": null,
	   "metadata": {
	    "collapsed": true
	   },
	   "outputs": [],
"source": [
"clc;\n",
"// page no 314\n",
"// prob no 7.1\n",
"//The transmission bandwidth is given by the equation Bt=(1+r)Rb/2 and hence transmission rate is given by Rb=2Bt/(1+r);where r=roll-off factor and 0<=r<=1. Since 'r' can take value in between 0 and 1,bandwidth varies from 2Bt to Bt.\n",
"Bt=32000;r=1;//assume values of Bt and r\n",
"Rb=(2*Bt)/(1+r);\n",
"disp(Rb,'transmission rate');//Rb=Bt for r=1"
   ]
   }
,
{
		   "cell_type": "markdown",
		   "metadata": {},
		   "source": [
			"## Example 7.3: problem3.sce"
		   ]
		  },
  {
"cell_type": "code",
	   "execution_count": null,
	   "metadata": {
	    "collapsed": true
	   },
	   "outputs": [],
"source": [
"clc;\n",
"//page no 326\n",
"//prob no 7.3\n",
"// problem fig. is ggiven on page no 324. Referring the fig. we are given the values of a0,a1,a-1,a-2\n",
"a=1;b=-0.3;c=0.1;d=-0.2;e=0.05;\n",
"//design a three-tap (N=1) equalizer by substituting these values into eq no 7.45 of the page no 325\n",
"A=[0;1;0];\n",
"B=[a d e;b a d;c b a];\n",
"c=inv(B)*A;// As, A=B*C Hence c is obtained as given\n",
"disp(c);// values of C-1,C0,C1 are obtained"
   ]
   }
,
{
		   "cell_type": "markdown",
		   "metadata": {},
		   "source": [
			"## Example 7.4: problem4.sce"
		   ]
		  },
  {
"cell_type": "code",
	   "execution_count": null,
	   "metadata": {
	    "collapsed": true
	   },
	   "outputs": [],
"source": [
"clc;\n",
"// page no 334\n",
"//PROB NO 7.4 a) Find detection error probability\n",
"//Given: Ap=1mV, 6n=192.3uV\n",
"// The formula for polar case is given by Ap/6n\n",
"Ap=1;sigma_n=192.3;\n",
"x=Ap/sigma_n;//here we have to find the value of P(e)=Q(x) from the table10.2 given on page no. 454\n",
"disp(x);\n",
"Q1=(0.9964)*10^(-7);\n",
"disp(Q1,'error probability = ');//this is nearly equal to zero\n",
"\n",
"//PROB NO 7.4 b) Find detection error probability.\n",
"//In this case, only half the bits are transmitted by no pulse, there are, on the average, only half as many pulses in the on-off case(compared to the polar). \n",
"//To maintain the same power,we need to double the energy  of each pulse in the on-off or the bipolar case(compared to the polar).\n",
"//Now, doubling the pulse energy is accomplished by multiplying the pulse by sqrt(2).\n",
"//Thus, for on-off Ap is sqrt(2) times the Ap in the polar case,that is, Ap=sqrt(2)*10^-3\n",
"x=Ap/2*sigma_n;//here we have to find the value of P(e)=Q(x) from the table10.2 given on page no. 454\n",
"disp(x);\n",
"Q2=(1.166)*10^-4;\n",
"disp(Q2,'error probability = ');\n",
"//for a given power , the Ap for both the on-off and the bipolar  cases are identical. Hence P(e)=1.5 Q(x);\n",
"Q3=1.5*Q2;\n",
"disp(Q3,'error probability = ');"
   ]
   }
],
"metadata": {
		  "kernelspec": {
		   "display_name": "Scilab",
		   "language": "scilab",
		   "name": "scilab"
		  },
		  "language_info": {
		   "file_extension": ".sce",
		   "help_links": [
			{
			 "text": "MetaKernel Magics",
			 "url": "https://github.com/calysto/metakernel/blob/master/metakernel/magics/README.md"
			}
		   ],
		   "mimetype": "text/x-octave",
		   "name": "scilab",
		   "version": "0.7.1"
		  }
		 },
		 "nbformat": 4,
		 "nbformat_minor": 0
}
