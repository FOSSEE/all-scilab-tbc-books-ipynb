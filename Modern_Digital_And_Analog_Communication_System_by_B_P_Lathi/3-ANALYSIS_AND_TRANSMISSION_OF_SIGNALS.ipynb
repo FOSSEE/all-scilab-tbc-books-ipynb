{
"cells": [
 {
		   "cell_type": "markdown",
	   "metadata": {},
	   "source": [
       "# Chapter 3: ANALYSIS AND TRANSMISSION OF SIGNALS"
	   ]
	},
{
		   "cell_type": "markdown",
		   "metadata": {},
		   "source": [
			"## Example 3.1: problem1.sce"
		   ]
		  },
  {
"cell_type": "code",
	   "execution_count": null,
	   "metadata": {
	    "collapsed": true
	   },
	   "outputs": [],
"source": [
"clc;\n",
"//page no 75\n",
"//prob 3.1\n",
"// given signal is x(t)= e^(-at) * u(t)\n",
"//unity function u(t)=1 for 0 to infinity \n",
"//therefore\n",
"x=1;\n",
"//here we consider 'infinity' value as 10 and the value of 'a' is 1\n",
"t= 0:1:10;\n",
"a=1;// a >0\n",
"z=((%e)^(-a*t) * x);\n",
"y=fft(z);\n",
"disp(y,'fourier transform of x(t)=');"
   ]
   }
,
{
		   "cell_type": "markdown",
		   "metadata": {},
		   "source": [
			"## Example 3.2: problem2.sce"
		   ]
		  },
  {
"cell_type": "code",
	   "execution_count": null,
	   "metadata": {
	    "collapsed": true
	   },
	   "outputs": [],
"source": [
"clc;\n",
"//page no 81\n",
"//prob 3.2\n",
"//given signal is x(t) = rect(t/T)\n",
"//rect(t/T) = 1 for |t| < T/2  and   \n",
"//          = 0 for |t| > T/2\n",
"// therefore we have to find out fourier transform of x(t)= 1 for |t| < T/2 thus,\n",
"x=1;\n",
"T= 200; // consider \n",
"t= -T/2 : 1 : T/2;//range for fourer transform\n",
"y=fft(x);\n",
"disp(y,'fourier transform of x(t)=');"
   ]
   }
,
{
		   "cell_type": "markdown",
		   "metadata": {},
		   "source": [
			"## Example 3.3: problem3.sce"
		   ]
		  },
  {
"cell_type": "code",
	   "execution_count": null,
	   "metadata": {
	    "collapsed": true
	   },
	   "outputs": [],
"source": [
"clc;\n",
"//page no 82\n",
"//prob 3.3\n",
"// given signal is x(t)= unit impulse d(t) \n",
"//it is defined as d(t) = 1 for t=0\n",
"//therefore \n",
"x=1;\n",
"y=fft(x);\n",
"disp(y,'fourier transform of x(t)=');"
   ]
   }
,
{
		   "cell_type": "markdown",
		   "metadata": {},
		   "source": [
			"## Example 3.7: problem7.sce"
		   ]
		  },
  {
"cell_type": "code",
	   "execution_count": null,
	   "metadata": {
	    "collapsed": true
	   },
	   "outputs": [],
"source": [
"clc;\n",
"//page 84\n",
"// problem 3.7\n",
"t=-10:1:10;\n",
"y=sign(t);\n",
"g=fft(y);\n",
"disp(g,'fourier transform of signum funcion is');"
   ]
   }
],
"metadata": {
		  "kernelspec": {
		   "display_name": "Scilab",
		   "language": "scilab",
		   "name": "scilab"
		  },
		  "language_info": {
		   "file_extension": ".sce",
		   "help_links": [
			{
			 "text": "MetaKernel Magics",
			 "url": "https://github.com/calysto/metakernel/blob/master/metakernel/magics/README.md"
			}
		   ],
		   "mimetype": "text/x-octave",
		   "name": "scilab",
		   "version": "0.7.1"
		  }
		 },
		 "nbformat": 4,
		 "nbformat_minor": 0
}
