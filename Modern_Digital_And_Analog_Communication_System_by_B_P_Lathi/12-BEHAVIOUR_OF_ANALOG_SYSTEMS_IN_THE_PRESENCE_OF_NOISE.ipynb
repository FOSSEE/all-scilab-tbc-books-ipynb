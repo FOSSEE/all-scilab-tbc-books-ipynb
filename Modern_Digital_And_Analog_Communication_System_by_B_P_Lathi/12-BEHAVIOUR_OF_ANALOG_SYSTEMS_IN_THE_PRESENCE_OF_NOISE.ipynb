{
"cells": [
 {
		   "cell_type": "markdown",
	   "metadata": {},
	   "source": [
       "# Chapter 12: BEHAVIOUR OF ANALOG SYSTEMS IN THE PRESENCE OF NOISE"
	   ]
	},
{
		   "cell_type": "markdown",
		   "metadata": {},
		   "source": [
			"## Example 12.10: find_output_SNR.sce"
		   ]
		  },
  {
"cell_type": "code",
	   "execution_count": null,
	   "metadata": {
	    "collapsed": true
	   },
	   "outputs": [],
"source": [
"//page 567\n",
"//prob 12.10\n",
"// to calculate |m|\n",
"clc;\n",
"m0=0;m1=50;\n",
"m=integrate('(m*(%e^-((m^2)/2)))','m',m0,m1);//assuming 6m=1\n",
"disp((sqrt(2/%pi)*m),'value of |m|');"
   ]
   }
,
{
		   "cell_type": "markdown",
		   "metadata": {},
		   "source": [
			"## Example 12.11: find_output_SNR.sce"
		   ]
		  },
  {
"cell_type": "code",
	   "execution_count": null,
	   "metadata": {
	    "collapsed": true
	   },
	   "outputs": [],
"source": [
"//page 569\n",
"//prob 12.11\n",
"a=1400*%pi;//given\n",
"clc;\n",
"c=1;//assumed\n",
"w0=0;w1=8000*%pi;\n",
"S=integrate('1/((w^2)+(a^2))','w',w0,w1);\n",
"So=S/%pi;\n",
"disp(So,'transmitted power');//assuming G=1,hence St=So\n",
"//assuming N=1\n",
"No=4000;//because No=N*B\n",
"SNR=So/No;\n",
"disp(SNR,'SNR without pre-emphasis and de-emphasis');\n",
"S=integrate('1/(sqrt((w^2)+(a^2)))','w',w0,w1);\n",
"disp(S,'S is');\n",
"SNRo=(10^-8)*4*(%pi^2)/(2*(S^2));\n",
"disp(SNRo,'SNR at the output is');\n",
"disp((SNRo/SNR),'Improvement factor in SNR with pre-emphasis and de-emphasis');"
   ]
   }
,
{
		   "cell_type": "markdown",
		   "metadata": {},
		   "source": [
			"## Example 12.1: problem1.sce"
		   ]
		  },
  {
"cell_type": "code",
	   "execution_count": null,
	   "metadata": {
	    "collapsed": true
	   },
	   "outputs": [],
"source": [
"// page no 536\n",
"// Example 12.1\n",
"// Let the received signal be km(t)cos(wct) , demodulator input is [km(t)+nc(t)]cos(wct)+[ns(t)sin(wct)]. When this is multiplied by 2coswct and low pass filtered the output is s0(t)+n0(t)=km(t)+nc(t).\n",
"// Hence So=k^2*m^2' , No=nc^2'. But the power of the received signal km(t)cos(wct)= 1uW. Hence k^2*m^2'/2=10^-6\n",
"clc;\n",
"So=2*10^-6;\n",
"// to compute nc: (nc^2)'=(n^2)'=x\n",
"t0=496000; t1=504000 ;\n",
"a=10^6 * %pi;\n",
"y=integrate ('1/((t^2)+(a^2))','t',t0,t1);\n",
"// to compute output SNR\n",
"SNR=So/y;\n",
"val=(10*(log (SNR)));\n",
"disp(+'dB',val,'output SNR = ');"
   ]
   }
,
{
		   "cell_type": "markdown",
		   "metadata": {},
		   "source": [
			"## Example 12.2: find_gamma_threshold.sce"
		   ]
		  },
  {
"cell_type": "code",
	   "execution_count": null,
	   "metadata": {
	    "collapsed": true
	   },
	   "outputs": [],
"source": [
"//page 540\n",
"//problem 12.2\n",
"//as En=sqrt(nc^2+ns^2),where both nc and ns are gaussian with variance 6n^2,according to the following eqn P(En>=A)=integrate(En/6n^2)*e^(-En^2/2*6n^2)dEn;\n",
"// the value of this integral is the probability of which is 0.01\n",
"//hence e^(-A^2/2*6n^2)=0.01\n",
"//let g=A^2/(2*6n^2);\n",
"clc;\n",
"g=-(log(0.01)/log(%e));\n",
"// the variance 6n^2 of the bandpass noise of PSD N/2 and the bandwidth 2B is 2NB.Hence at the onset of the threshold\n",
"// therefore A^2/(2*6n^2)=A^2/(4NB)=g\n",
"//for tone modulation\n",
"//Si=A^2+m'^2/2;\n",
"//Si=3*A^2/4;\n",
"gma_th=3*(g);// gma_th=Si/NB=3*A^2/(4NB);\n",
"disp(gma_th,'gamma threshold');"
   ]
   }
,
{
		   "cell_type": "markdown",
		   "metadata": {},
		   "source": [
			"## Example 12.3: find_output_SNR.sce"
		   ]
		  },
  {
"cell_type": "code",
	   "execution_count": null,
	   "metadata": {
	    "collapsed": true
	   },
	   "outputs": [],
"source": [
"//page 547\n",
"//problem 12.3\n",
"// for a gaussian m(t),mp will be assumed as 36m\n",
"clc;\n",
"Sg=3;//assumed\n",
"Mbar=(Sg^2);\n",
"MP=((3*Sg)^2);\n",
"B=0.2;//ASSUMED\n",
"gma=0.4;//assumed\n",
"SNR=3*B^2*(Mbar/MP)*gma;\n",
"disp(SNR,'SIGNAL TO NOISE RATIO IS');"
   ]
   }
,
{
		   "cell_type": "markdown",
		   "metadata": {},
		   "source": [
			"## Example 12.4: prove_the_given_expression.sce"
		   ]
		  },
  {
"cell_type": "code",
	   "execution_count": null,
	   "metadata": {
	    "collapsed": true
	   },
	   "outputs": [],
"source": [
"//page 550\n",
"//problem 12.4\n",
"clc;\n",
"t0=-5;t1=5;\n",
"y=integrate('t^2','t',t0,t1);\n",
"f=integrate('1','t',t0,t1);\n",
"Bm=y/f;\n",
"disp(Bm,'value of Bm is');"
   ]
   }
,
{
		   "cell_type": "markdown",
		   "metadata": {},
		   "source": [
			"## Example 12.5: prove_the_given_expression.sce"
		   ]
		  },
  {
"cell_type": "code",
	   "execution_count": null,
	   "metadata": {
	    "collapsed": true
	   },
	   "outputs": [],
"source": [
"//page 550\n",
"//problem 12.5\n",
"// Sm(w)=k*e^(-w2/26^2) this is given\n",
"// let us the assume the value of constant 6^2/4(pi^2) =3\n",
"// thus the variance can be calculated as\n",
"clc;\n",
"f0=0;f1=15;\n",
"y=integrate('(f^2)*(%e^(-(f^2)/6))','f',f0,f1);\n",
"g=integrate('%e^(-(f^2)/6)','f',f0,f1);\n",
"v=y/g;\n",
"disp(v,'Bm2');"
   ]
   }
,
{
		   "cell_type": "markdown",
		   "metadata": {},
		   "source": [
			"## Example 12.6: show_that_PM_is_superior_to_FM_by_factor_of_3.sce"
		   ]
		  },
  {
"cell_type": "code",
	   "execution_count": null,
	   "metadata": {
	    "collapsed": true
	   },
	   "outputs": [],
"source": [
"//page 552\n",
"//prob 12.6\n",
"//for the same transmission bandwidth variance of PM and FM systems is same\n",
"//hence the ratio of SNR of PM to FM is B^2/(3Bm'^2)\n",
"//assuming 6=1\n",
"clc;\n",
"B=3/(2*%pi);//because W=2*%pi*B\n",
"//variance is Bm2\n",
"f0=0;f1=15;\n",
"y=integrate('(f^2)*(%e^(-(f^2)*2*(%pi^2)))','f',f0,f1);\n",
"g=integrate('%e^(-(f^2)*2*(%pi^2))','f',f0,f1);\n",
"Bm2=y/g;\n",
"l=(B^2)/(3*(Bm2));\n",
"disp(l,'factor of superiority of PM over FM');"
   ]
   }
,
{
		   "cell_type": "markdown",
		   "metadata": {},
		   "source": [
			"## Example 12.7: problem7.sce"
		   ]
		  },
  {
"cell_type": "code",
	   "execution_count": null,
	   "metadata": {
	    "collapsed": true
	   },
	   "outputs": [],
"source": [
"// page no 555\n",
"// Example 12.7\n",
"clc;\n",
"B=4; SNR=20.5; // given\n",
"r=20*(B+1);//as B=4\n",
"//output SNR is given as So/No=3*B^2*r*(m^2'/mp^2)\n",
"m=4;// m=mp/6m is given\n",
"SNRt=3*(B^2)*r*(1/m)^2;\n",
"disp(SNRt,'threshold SNR = ');\n",
"// to calculate output SNR in dB\n",
"SNRdB=20*log(SNR);\n",
"disp(+'dB',SNRdB,'Threshold SNR in dB = ');\n",
"if 20.5< SNRdB\n",
"  disp('system is in threshold')\n",
"else \n",
"  disp('system is not in threshold');\n",
"  end"
   ]
   }
,
{
		   "cell_type": "markdown",
		   "metadata": {},
		   "source": [
			"## Example 12.8: determine_output_SNR.sce"
		   ]
		  },
  {
"cell_type": "code",
	   "execution_count": null,
	   "metadata": {
	    "collapsed": true
	   },
	   "outputs": [],
"source": [
"//page 561\n",
"//prob 12.8\n",
"//for a gausssian signal,mp=infinity(00),but we may assume 36 loading,thus mp=3*6,\n",
"clc;\n",
"Sgm=3;\n",
"m2=(Sgm^2);\n",
"mp2=((3*Sgm)^2);\n",
"y=(m2)/(mp2);\n",
"// to calculate SNR,we have SNR=3(2^n)*((m^2)/(mp^2)) \n",
"n=8;//given\n",
"l=3*(2^(2*n))*y;//by formula\n",
"disp(l,'SNR is equal to');\n",
"disp(+'dB',(10*(log10(l))),'SNR in dB');"
   ]
   }
],
"metadata": {
		  "kernelspec": {
		   "display_name": "Scilab",
		   "language": "scilab",
		   "name": "scilab"
		  },
		  "language_info": {
		   "file_extension": ".sce",
		   "help_links": [
			{
			 "text": "MetaKernel Magics",
			 "url": "https://github.com/calysto/metakernel/blob/master/metakernel/magics/README.md"
			}
		   ],
		   "mimetype": "text/x-octave",
		   "name": "scilab",
		   "version": "0.7.1"
		  }
		 },
		 "nbformat": 4,
		 "nbformat_minor": 0
}
