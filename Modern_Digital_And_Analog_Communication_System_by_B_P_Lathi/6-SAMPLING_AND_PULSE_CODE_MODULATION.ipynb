{
"cells": [
 {
		   "cell_type": "markdown",
	   "metadata": {},
	   "source": [
       "# Chapter 6: SAMPLING AND PULSE CODE MODULATION"
	   ]
	},
{
		   "cell_type": "markdown",
		   "metadata": {},
		   "source": [
			"## Example 6.2: problem2.sce"
		   ]
		  },
  {
"cell_type": "code",
	   "execution_count": null,
	   "metadata": {
	    "collapsed": true
	   },
	   "outputs": [],
"source": [
"clc;\n",
"// page no 271\n",
"// prob no. 6.2\n",
"fm=input('Enter the band limited freq in hertz = ');\n",
"Rn=2*fm; // Nyquist sampling rate\n",
"Ra=Rn*(4/3);// actual Nyquist sampling rate\n",
"// here the maximum quantization error(E) is 0.5% of the peak amplitide mp. Hence, E=mp/L=0.5*mp/100*L\n",
"mp=1;//we assume peak amplitude is unity\n",
"L=(mp*100)/(0.5*mp);\n",
"for (i=0:10)\n",
"  j=2^i;\n",
"  if(j>=L)\n",
"    L1=j;\n",
"    break;\n",
"    end\n",
"end\n",
"n=log2(L1);// bits per sample\n",
"c=n*Ra;// total no of bits transmitted\n",
"// Beause we can transmit up to 2bits/per hertz of bandwidth,we require minimum transmission bandwidth Bt=c/2\n",
"Bt=c/2;\n",
"disp(+'Hz',Bt,'minimum transmission bandwidth in hertz = ');\n",
"s=input('enter the no of signal to be multiplexed = ');\n",
"Cm=s*c;//total no of bits of 's' signal\n",
"c1=Cm/2;// minimum transmission bandwidth\n",
"disp(+'Hz',c1,'minimum transmission bandwidth in hertz = ')"
   ]
   }
,
{
		   "cell_type": "markdown",
		   "metadata": {},
		   "source": [
			"## Example 6.3: problem3.sce"
		   ]
		  },
  {
"cell_type": "code",
	   "execution_count": null,
	   "metadata": {
	    "collapsed": true
	   },
	   "outputs": [],
"source": [
"clc;\n",
"//page no 273\n",
"// prob no 6.3\n",
"// from the expresion given on the page no 272; (So/No)=(a+6n) dB where a=10log[3/[ln(1+u)]^2]\n",
"//check the ollowing code for L=64 and L=256\n",
"L=input('enter the value of L = ');\n",
"B=input('enter the bandwidth of signal in hertz = ');\n",
"n=log2(L);\n",
"Bt=n*B;\n",
"u=100;//given\n",
"a=10*log10(3/[log(1+u)]^2);\n",
"SNR=(a+(6*n));\n",
"disp(SNR,'SNR ratio is = ');\n",
"// Here the SNR ratio for the two cases are found out. The difference between the two SNRs is 12dB which is the ratio of 16. Thus the SNR for L=256 is 16 times the SNR for L=64. The former requires just about 33% more bandwidth compared to the later."
   ]
   }
],
"metadata": {
		  "kernelspec": {
		   "display_name": "Scilab",
		   "language": "scilab",
		   "name": "scilab"
		  },
		  "language_info": {
		   "file_extension": ".sce",
		   "help_links": [
			{
			 "text": "MetaKernel Magics",
			 "url": "https://github.com/calysto/metakernel/blob/master/metakernel/magics/README.md"
			}
		   ],
		   "mimetype": "text/x-octave",
		   "name": "scilab",
		   "version": "0.7.1"
		  }
		 },
		 "nbformat": 4,
		 "nbformat_minor": 0
}
