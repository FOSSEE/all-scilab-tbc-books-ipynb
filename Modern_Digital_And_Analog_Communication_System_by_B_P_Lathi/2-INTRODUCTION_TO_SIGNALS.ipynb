{
"cells": [
 {
		   "cell_type": "markdown",
	   "metadata": {},
	   "source": [
       "# Chapter 2: INTRODUCTION TO SIGNALS"
	   ]
	},
{
		   "cell_type": "markdown",
		   "metadata": {},
		   "source": [
			"## Example 2.1: problem1.sce"
		   ]
		  },
  {
"cell_type": "code",
	   "execution_count": null,
	   "metadata": {
	    "collapsed": true
	   },
	   "outputs": [],
"source": [
"clc;\n",
"//page no 17\n",
"//prob 2.1 b]\n",
"t0=-1;t1=1;\n",
"y=integrate('t^2','t',t0,t1);\n",
"disp(+'watt',y/2,'power of signal');"
   ]
   }
,
{
		   "cell_type": "markdown",
		   "metadata": {},
		   "source": [
			"## Example 2.3b: problem3b.sce"
		   ]
		  },
  {
"cell_type": "code",
	   "execution_count": null,
	   "metadata": {
	    "collapsed": true
	   },
	   "outputs": [],
"source": [
"// page no.26\n",
"//exa no.2.3b\n",
"t=[-3:.0082:1];\n",
"m1=(0-1)/(-3-(-1));//slope for -3<t<-1\n",
"c1=(0-m1*(-3));//intercept for pt(-3,0)\n",
"u(t<=-1)=[(m1*t(t<=-1))+c1]'\n",
"m2=(1-0)/(-1-1);//slope for -1<t<1\n",
"c2=(0-m2*1)//intercept for pt(1,0)\n",
"u(t>-1)=[(m2*t(t>-1))+c2]';\n",
"subplot(221)\n",
"plot2d(t,u)//original signal\n",
"subplot(222)\n",
"plot2d(2*t,u)//expansion of signal"
   ]
   }
,
{
		   "cell_type": "markdown",
		   "metadata": {},
		   "source": [
			"## Example 2.4: problem4.sce"
		   ]
		  },
  {
"cell_type": "code",
	   "execution_count": null,
	   "metadata": {
	    "collapsed": true
	   },
	   "outputs": [],
"source": [
"clc;\n",
"//page27\n",
"//problem 2.4\n",
"t=(-5:-1);\n",
"subplot(221)\n",
"plot2d(t,(%e)^t/2);\n",
"xtitle ( ' Original signal ' , ' Time ' , 'g(t) ' );\n",
"t=-t;\n",
"subplot(222)\n",
"plot2d(t,(%e)^-t/2);\n",
"xtitle ( ' Time inverted signal' , ' time ' , 'g(-t)' );"
   ]
   }
,
{
		   "cell_type": "markdown",
		   "metadata": {},
		   "source": [
			"## Example 2.5: problem5.sce"
		   ]
		  },
  {
"cell_type": "code",
	   "execution_count": null,
	   "metadata": {
	    "collapsed": true
	   },
	   "outputs": [],
"source": [
"clc;\n",
"//Assuming SI units for all quantities\n",
"//page no 33\n",
"//exa 2.5a\n",
"//approximation of square signal to sine signal with minimum energy\n",
"t=[0:.1:2*%pi];\n",
"t0=0;t1=2*%pi;\n",
"y=integrate('(sin(t))^2','t',t0,t1);\n",
"disp(+'joule',y($),'energy of sine signal=');\n",
"//to calculate value of c\n",
"t2=0;t3=%pi;\n",
"g=integrate('sin(t)','t',t2,t3);\n",
"t4=%pi;t5=2*%pi;\n",
"h=integrate('-sin(t)','t',t4,t5);\n",
"disp((g($)+h($))/%pi,'value of c=');"
   ]
   }
,
{
		   "cell_type": "markdown",
		   "metadata": {},
		   "source": [
			"## Example 2.6a: problem6a.sce"
		   ]
		  },
  {
"cell_type": "code",
	   "execution_count": null,
	   "metadata": {
	    "collapsed": true
	   },
	   "outputs": [],
"source": [
"clc;\n",
"//Assuming SI units for all quantities\n",
"//given signal is x(t)=1\n",
"//energy of signal x(t)\n",
"t0=0;t1=5;\n",
"x=1;\n",
"y=integrate('x^2','t',t0,t1);\n",
"disp(+'joule',y,'energy of signal x(t)=')\n",
"//to find correlation coefficient we have to calculate the energies of different given signals\n",
"//1st signal g1(t)=1\n",
"g1=1;\n",
"e1=integrate('g1^2','t',t0,t1);\n",
"disp(+'joule',e1,'energy of signal');\n",
"//correltion coefficient \n",
"c1=integrate('g1*x','t',t0,t1);\n",
"disp(+'joule',c1/sqrt(y*e1),'correlation coefficient=');"
   ]
   }
,
{
		   "cell_type": "markdown",
		   "metadata": {},
		   "source": [
			"## Example 2.6b: problem6b.sce"
		   ]
		  },
  {
"cell_type": "code",
	   "execution_count": null,
	   "metadata": {
	    "collapsed": true
	   },
	   "outputs": [],
"source": [
"clc;\n",
"//Assuming SI units for all quantities\n",
"//given signal is x(t)=1\n",
"//energy of signal x(t)\n",
"t0=0;t1=5;\n",
"x=1;\n",
"y=integrate('x^2','t',t0,t1);\n",
"disp(+'joule',y,'energy of signal x(t)=');\n",
"//to find correlation coefficient we have to calculate the energies of different given signals\n",
"g2=.5;\n",
"e2=integrate('g2^2','t',t0,t1);\n",
"disp(+'joule',e2,'energy of signal');\n",
"//correltion coefficient \n",
"c2=integrate('g2*x','t',t0,t1);\n",
"disp(c2/sqrt(y*e2),'correlation coefficient=');"
   ]
   }
,
{
		   "cell_type": "markdown",
		   "metadata": {},
		   "source": [
			"## Example 2.6c: problem6c.sce"
		   ]
		  },
  {
"cell_type": "code",
	   "execution_count": null,
	   "metadata": {
	    "collapsed": true
	   },
	   "outputs": [],
"source": [
"clc;\n",
"//Assuming SI units for all quantities\n",
"//given signal is x(t)=1\n",
"//energy of signal x(t)\n",
"t0=0;t1=5;\n",
"x=1;\n",
"y=integrate('x^2','t',t0,t1);\n",
"disp(+'joule',y,'energy of signal x(t)=');\n",
"//to find correlation coefficient we have to calculate the energies of different given signals\n",
"g3=-1;\n",
"e3=integrate('g3^2','t',t0,t1);\n",
"disp(+'joule',e3,'energy of signal');\n",
"//correltion coefficient \n",
"c3=integrate('g3*x','t',t0,t1);\n",
"disp(c3/sqrt(y*e3),'correlation coefficient=');"
   ]
   }
,
{
		   "cell_type": "markdown",
		   "metadata": {},
		   "source": [
			"## Example 2.6d: problem6d.sce"
		   ]
		  },
  {
"cell_type": "code",
	   "execution_count": null,
	   "metadata": {
	    "collapsed": true
	   },
	   "outputs": [],
"source": [
"clc;\n",
"//Assuming SI units for all quantities\n",
"//given signal is x(t)=1\n",
"//energy of signal x(t)\n",
"t0=0;t1=5;\n",
"x=1;\n",
"y=integrate('x^2','t',t0,t1);\n",
"disp(+'joule',y,'energy of signal x(t)=');\n",
"//to find correlation coefficient we have to calculate the energies of different given signals\n",
"e4=integrate('((%e)^(-t/5))^2','t',t0,t1);\n",
"disp(+'joule',e4($),'energy of signal');\n",
"//correltion coefficient \n",
"c4=integrate('((%e)^(-t/5))*x','t',t0,t1);\n",
"disp(c4($)/sqrt(y*e4),'correlation coefficient=');"
   ]
   }
,
{
		   "cell_type": "markdown",
		   "metadata": {},
		   "source": [
			"## Example 2.6e: problem2e.sce"
		   ]
		  },
  {
"cell_type": "code",
	   "execution_count": null,
	   "metadata": {
	    "collapsed": true
	   },
	   "outputs": [],
"source": [
"clc;\n",
"//Assuming  SI units for all quantities\n",
"//given signal is x(t)=1\n",
"//energy of signal x(t)\n",
"t0=0;t1=5;\n",
"x=1;\n",
"y=integrate('x^2','t',t0,t1);\n",
"disp(+'joule',y,'energy of signal x(t)=');\n",
"//to find correlation coefficient we have to calculate the energies of different given signals\n",
"e5=integrate('((%e)^(-t))^2','t',t0,t1);\n",
"disp(+'joule',e5,'energy of signal');\n",
"//correltion coefficient \n",
"c5=integrate('((%e)^(-t))*x','t',t0,t1);\n",
"disp(c5/sqrt(y*e5),'correlation coefficient=');"
   ]
   }
,
{
		   "cell_type": "markdown",
		   "metadata": {},
		   "source": [
			"## Example 2.6f: problem6f.sce"
		   ]
		  },
  {
"cell_type": "code",
	   "execution_count": null,
	   "metadata": {
	    "collapsed": true
	   },
	   "outputs": [],
"source": [
"clc;\n",
"//Assuming SI units for all quantities\n",
"//given signal is x(t)=1\n",
"//energy of signal x(t)\n",
"t0=0;t1=5;\n",
"x=1;\n",
"y=integrate('x^2','t',t0,t1);\n",
"disp(+'joule',y,'energy of signal x(t)=');\n",
"//to find correlation coefficient we have to calculate the energies of different given signals\n",
"e6=integrate('(sin(2*%pi*t))^2','t',t0,t1);\n",
"disp(+'joule',e6,'energy of signal');\n",
"//correltion coefficient \n",
"c6=integrate('((sin(2*%pi*t))^2)*x','t',t0,t1);\n",
"disp(c6/sqrt(y*e6),'correlation coefficient=');"
   ]
   }
],
"metadata": {
		  "kernelspec": {
		   "display_name": "Scilab",
		   "language": "scilab",
		   "name": "scilab"
		  },
		  "language_info": {
		   "file_extension": ".sce",
		   "help_links": [
			{
			 "text": "MetaKernel Magics",
			 "url": "https://github.com/calysto/metakernel/blob/master/metakernel/magics/README.md"
			}
		   ],
		   "mimetype": "text/x-octave",
		   "name": "scilab",
		   "version": "0.7.1"
		  }
		 },
		 "nbformat": 4,
		 "nbformat_minor": 0
}
