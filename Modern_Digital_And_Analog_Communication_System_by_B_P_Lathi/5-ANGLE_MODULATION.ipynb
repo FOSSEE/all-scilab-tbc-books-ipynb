{
"cells": [
 {
		   "cell_type": "markdown",
	   "metadata": {},
	   "source": [
       "# Chapter 5: ANGLE MODULATION"
	   ]
	},
{
		   "cell_type": "markdown",
		   "metadata": {},
		   "source": [
			"## Example 5.1: problem1.sce"
		   ]
		  },
  {
"cell_type": "code",
	   "execution_count": null,
	   "metadata": {
	    "collapsed": true
	   },
	   "outputs": [],
"source": [
"clc;\n",
"//page 212\n",
"//problem 5.1\n",
"// The values of constsnts Kf and Kp are given as Kf= 2*pi*10^5 and Kp=10*pi, and carrier frequency fc=100MHz\n",
"\n",
"// For FM :\n",
"//fi= fc + Kf*m(t)/2*pi\n",
"// Minimum value of m(t) = -1 and Maximum value of m(t)= +1\n",
"Kf= 2*%pi*10^5 ; Kp=10*%pi;\n",
"fc=100*10^6 ;// in Hz\n",
"Mmin = -1 ; Mmax=1;\n",
"fimin1= fc + Kf*Mmin/(2*%pi);\n",
"disp(+'MHz',fimin1/10^6,'Minimum frequency in MHz is ');\n",
"fimax1= fc + Kf*Mmax/(2*%pi);\n",
"disp(+'MHz',fimax1/10^6,'Maximum frequency in MHz is ');\n",
"\n",
"//For PM :\n",
"//fi= fc + Kp*m(t)'/2*pi\n",
"// Minimum value of m(t)' = -20,000 and Maximum value of m(t)'= +20,000\n",
"Mmin1=-20000 ; Mmax1=20000;\n",
"fimin2= fc + Kp*Mmin1/(2*%pi);\n",
"disp(+'MHz',fimin2/10^6,'Minimum frequency in MHz is ');\n",
"fimax2= fc + Kp*Mmax1/(2*%pi);\n",
"disp(+'MHz',fimax2/10^6,'Maximum frequency in MHz is ');\n",
"\n",
"// Since m(t) is increases and decreases linearly with time, the instantaneous frequency increases linearly from fimin to fimax"
   ]
   }
,
{
		   "cell_type": "markdown",
		   "metadata": {},
		   "source": [
			"## Example 5.2: problem2.sce"
		   ]
		  },
  {
"cell_type": "code",
	   "execution_count": null,
	   "metadata": {
	    "collapsed": true
	   },
	   "outputs": [],
"source": [
"clc;\n",
"//page 213\n",
"//problem 5.2\n",
"// The values of constsnts Kf and Kp are given as Kf= 2*pi*10^5 and Kp=pi/2, and carrier frequency fc=100MHz\n",
"// For FM :\n",
"//fi= fc + Kf*m(t)/2*pi\n",
"// Minimum value of m(t) = -1 and Maximum value of m(t)= +1\n",
"Kf= 2*%pi*10^5 ; Kp=%pi/2;\n",
"fc=100*10^6 ;// in Hz\n",
"Mmin = -1 ; Mmax=1;\n",
"fimin1= fc + Kf*Mmin/(2*%pi);\n",
"disp(+'MHz',fimin1/10^6,'Minimum frequency in MHz is ');\n",
"fimax1= fc + Kf*Mmax/(2*%pi);\n",
"disp(+'MHz',fimax1/10^6,'Maximum frequency in MHz is ');\n",
"// Since m(t) is increases and decreases linearly with time, the instantaneous frequency increases linearly from fimin to fimax"
   ]
   }
,
{
		   "cell_type": "markdown",
		   "metadata": {},
		   "source": [
			"## Example 5.3a: problem3a.sce"
		   ]
		  },
  {
"cell_type": "code",
	   "execution_count": null,
	   "metadata": {
	    "collapsed": true
	   },
	   "outputs": [],
"source": [
"clc;\n",
"//page 222\n",
"//problem 5.3.a\n",
"// refer fig from page no. 212 Fig.5.4a\n",
"// The values of constsnts Kf and Kp are given as Kf= 2*pi*10^5 and Kp=5*pi .\n",
"// Here we are assuming the Bandwidth B of m(t) as the frequency of the third harmonic, i.e. 3(10^4/2)Hz= 15kHz\n",
"B=15;// in kHz\n",
"// For FM:\n",
"//  Here peak amplitude of m(t) is mp=1\n",
"mp=1;\n",
"// df=kf*mp/2*pi\n",
"Kf= 2*%pi*10^5; Kp=5*%pi;\n",
"df= (Kf*mp)/(2*%pi);// in Hz\n",
"df=df/10^3;// in KHz\n",
"Bfm=2*(df+B);\n",
"disp(+'KHz',Bfm,'Bfm in kHz is');\n",
"// For PM:\n",
"//Here peak amplitude of m(t)' is mp=20000\n",
"mp=20000;\n",
"// df=kp*mp/2*pi\n",
"df= (Kp*mp)/(2*%pi);// in Hz\n",
"df=df/10^3;// in KHz\n",
"Bpm=2*(df+B);\n",
"disp(+'KHz',Bpm,'Bpm in kHz is');"
   ]
   }
,
{
		   "cell_type": "markdown",
		   "metadata": {},
		   "source": [
			"## Example 5.3b: problem3b.sce"
		   ]
		  },
  {
"cell_type": "code",
	   "execution_count": null,
	   "metadata": {
	    "collapsed": true
	   },
	   "outputs": [],
"source": [
"clc;\n",
"//page 222\n",
"//problem 5.3.b\n",
"// The values of constsnts Kf and Kp are given as Kf= 2*pi*10^5 and Kp=5*pi .\n",
"// Here we are assuming the Bandwidth B of m(t) as the frequency of the third harmonic, i.e. 3(10^4/2)Hz= 15kHz\n",
"B=15;// in kHz\n",
"// For FM:\n",
"//  Here peak amplitude of m(t) is doubled ,mp=2\n",
"mp=2;\n",
"// df=kf*mp/2*pi\n",
"Kf= 2*%pi*10^5; Kp=5*%pi;\n",
"df= (Kf*mp)/(2*%pi);// in Hz\n",
"df=df/10^3;// in KHz\n",
"Bfm=2*(df+B);\n",
"disp(+'KHz',Bfm,'Bfm in kHz is');\n",
"// For PM:\n",
"//Here peak amplitude of m(t)' is doubled mp=40000\n",
"mp=40000;\n",
"// df=kp*mp/2*pi\n",
"df= (Kp*mp)/(2*%pi);// in Hz\n",
"df=df/10^3;// in KHz\n",
"Bpm=2*(df+B);\n",
"disp(+'KHz',Bpm,'Bpm in kHz is');\n",
"// doubling the signal amplitude roughly doubles the bandwidth of both FM and PM waveform"
   ]
   }
,
{
		   "cell_type": "markdown",
		   "metadata": {},
		   "source": [
			"## Example 5.4: problem4.sce"
		   ]
		  },
  {
"cell_type": "code",
	   "execution_count": null,
	   "metadata": {
	    "collapsed": true
	   },
	   "outputs": [],
"source": [
"clc;\n",
"//page 224\n",
"//problem 5.4\n",
"// Repeat example 5.3 with m(t) expanded by a factor of 2 i.e. if the period of m(t) is 4*10^-4\n",
"// The values of constsnts Kf and Kp are given as Kf= 2*pi*10^5 and Kp=5*pi .\n",
"// we know that time expansion by a factor 2 reduces the signal spectrum width by a factor 2\n",
"// Therefore bandwidth is half the previous bandwidth\n",
"B=7.5; // im KHz\n",
"// For FM:\n",
"//  Time expansion does not affect the peak amplitude so that mp=1.\n",
"mp=1;\n",
"// df=kf*mp/2*pi\n",
"Kf= 2*%pi*10^5; Kp=5*%pi;\n",
"df= (Kf*mp)/(2*%pi);// in Hz\n",
"df=df/10^3;// in KHz\n",
"Bfm=2*(df+B);\n",
"disp(+'KHz',Bfm,'Bfm in kHz is');\n",
"// For PM:\n",
"//mp is halved i.e. mp=10000\n",
"mp=10000;\n",
"// df=kp*mp/2*pi\n",
"df= (Kp*mp)/(2*%pi);// in Hz\n",
"df=df/10^3;// in KHz\n",
"Bpm=2*(df+B);\n",
"disp(+'KHz',Bpm,'Bpm in kHz is');\n",
"// Time expansion of m(t) has very little effect on the FM bandwidth, but it halves the PM bandwidth"
   ]
   }
,
{
		   "cell_type": "markdown",
		   "metadata": {},
		   "source": [
			"## Example 5.5: problem5.sce"
		   ]
		  },
  {
"cell_type": "code",
	   "execution_count": null,
	   "metadata": {
	    "collapsed": true
	   },
	   "outputs": [],
"source": [
"clc; \n",
"//Assuming SI unit for all quantities\n",
"//page 225\n",
"//problem 5.5\n",
"// An angle modulated signal with carrier frequency wc = 2*pi*10^5 is described by the equation Qem= 10cos(@(t)) where @(t)=wct+5sin3000t+10sin2000pi*t\n",
"B=2000*%pi/(2*%pi);//signal bandwidthis the highest frequency in m(t)\n",
"Ac=10;//carrier amplitude\n",
"P=Ac^2/2;// carrier power\n",
"disp(+'watt',P,'a) The carrier power is ');\n",
"// to find frequency derivative df, e find instantaneous freq. w as\n",
"// wi=d/dt(@(t))= wc+15000cos3000t+20000pi*cos2000pi*t;\n",
"// The carrier derivative is 15000cos3000t+20000pi*cos2000pi*t. The two sinusoids will add in phase at some point and the maximum value of the expression is dW=15000+20000pi\n",
"dW=15000+20000*%pi;\n",
"df=dW/(2*%pi);\n",
"disp(+'Hz',df,'b) The frequency deviation in Hz is ');\n",
"// The deviation ratio B1 is given as\n",
"B1=df/B;\n",
"disp(B1,'c) The deviation ratio is ');\n",
"//The phase deviation is the maximum value of the angle @(t) and is given b d@\n",
"d=5+10;\n",
"disp(+'rad',d,'d)The phase deviation in rad is');\n",
"Bem=2*(df+B);\n",
"disp(+'Hz',Bem,'e)Bandwidth is ');"
   ]
   }
],
"metadata": {
		  "kernelspec": {
		   "display_name": "Scilab",
		   "language": "scilab",
		   "name": "scilab"
		  },
		  "language_info": {
		   "file_extension": ".sce",
		   "help_links": [
			{
			 "text": "MetaKernel Magics",
			 "url": "https://github.com/calysto/metakernel/blob/master/metakernel/magics/README.md"
			}
		   ],
		   "mimetype": "text/x-octave",
		   "name": "scilab",
		   "version": "0.7.1"
		  }
		 },
		 "nbformat": 4,
		 "nbformat_minor": 0
}
