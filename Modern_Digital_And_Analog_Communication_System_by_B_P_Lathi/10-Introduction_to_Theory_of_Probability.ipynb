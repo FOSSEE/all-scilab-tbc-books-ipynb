{
"cells": [
 {
		   "cell_type": "markdown",
	   "metadata": {},
	   "source": [
       "# Chapter 10: Introduction to Theory of Probability"
	   ]
	},
{
		   "cell_type": "markdown",
		   "metadata": {},
		   "source": [
			"## Example 10.10: problem10.sce"
		   ]
		  },
  {
"cell_type": "code",
	   "execution_count": null,
	   "metadata": {
	    "collapsed": true
	   },
	   "outputs": [],
"source": [
"// page no 447\n",
"//prob no 10.10\n",
"clc;\n",
"Pe= input ('enter error probability = ');\n",
"Q= input('enter the probability of transmitting 1 = ');//Hence probability of transmitting zero is 1-Q = P\n",
"P=1-Q;\n",
"Px(1)=Q;\n",
"Px0=P;\n",
"// If x and y are transmitted digit and received digit then for BSC P(y=0/x=1) = P(y=1/x=0) = Pe , P(y=0/x=10) = P(y=1/x=1) = 1-Pe\n",
"// to find the probability of receiving 1 is Py(1) = Px(0)*P(y=1/x=0) + Px(1)*P(y=1/x=1)\n",
"Py(1)= ((1-Q)* Pe) + (Q *(1-Pe));\n",
"disp(Py(1),'Py(1)');\n",
"Py0=((1-Q)*(1-Pe)) + (Q*Pe)\n",
"disp(Py0,'Py0');"
   ]
   }
,
{
		   "cell_type": "markdown",
		   "metadata": {},
		   "source": [
			"## Example 10.11: problem11.sce"
		   ]
		  },
  {
"cell_type": "code",
	   "execution_count": null,
	   "metadata": {
	    "collapsed": true
	   },
	   "outputs": [],
"source": [
"//page no 448\n",
"//prob 10.11\n",
"clc;\n",
"Px0=.4 , Px1=.6 ,PE0=10^-6 , PE1=10^-4 ;// given\n",
"PE=(Px0*PE0) + (Px1*PE1)// formula for probability of error\n",
"disp(PE,'probability of error = ');"
   ]
   }
,
{
		   "cell_type": "markdown",
		   "metadata": {},
		   "source": [
			"## Example 10.1: problem1.sce"
		   ]
		  },
  {
"cell_type": "code",
	   "execution_count": null,
	   "metadata": {
	    "collapsed": true
	   },
	   "outputs": [],
"source": [
"//page no 437\n",
"//prob 10.1\n",
"// referred to fig 10.1 on the page no. 435\n",
"// the occurance of each outcome is essumed to be equal.\n",
"n=input('number of outcomes= ');\n",
"p=1/n;\n",
"disp(p,'probability of each outcome=');"
   ]
   }
,
{
		   "cell_type": "markdown",
		   "metadata": {},
		   "source": [
			"## Example 10.20: problem20.sce"
		   ]
		  },
  {
"cell_type": "code",
	   "execution_count": null,
	   "metadata": {
	    "collapsed": true
	   },
	   "outputs": [],
"source": [
"//page no 472\n",
"//prob no 10.20\n",
"//Gaussian PDF: Q(x)= %e^((-x^2)/2)/ (x*sqrt(2*%pi))\n",
"clc;\n",
"x=input('input for the function Q = ');\n",
"Q(x)= (%e^-((x^2)/2))/ (x*sqrt(2*%pi));\n",
"P=1-(2*Q(x));\n",
"disp(P);// P gives the width or spread of Gaussian PDF"
   ]
   }
,
{
		   "cell_type": "markdown",
		   "metadata": {},
		   "source": [
			"## Example 10.21: problem21.sce"
		   ]
		  },
  {
"cell_type": "code",
	   "execution_count": null,
	   "metadata": {
	    "collapsed": true
	   },
	   "outputs": [],
"source": [
"// page no 479\n",
"//prob no 10.21\n",
"// formula for estimate error E is E = mk^ - mk = a1* mk-1 +a2* mk-2 -mk\n",
"//given: various values of correlation (mk*mk)'= (m^2)',(mk*mk-1)'= .825* (m^2)',(mk*mk-2)'= .562*(m^2)',(mk*mk-3)'= .825*(m^2)' , R02=.562(m^2)', a1=1.1314, a2= -0.3714\n",
"// mean square error is given by I=(E^2)'=[1-((.825*a1)+(.562*a2))]*(m^2)'= .2753*(m^2)'\n",
"clc;\n",
"m=1;\n",
"I=.2753*(m^2)';\n",
"S=10*log ((m^2)'/I);\n",
"disp(+'dB',S,'SNR improvement = ');"
   ]
   }
,
{
		   "cell_type": "markdown",
		   "metadata": {},
		   "source": [
			"## Example 10.3: problem3.sce"
		   ]
		  },
  {
"cell_type": "code",
	   "execution_count": null,
	   "metadata": {
	    "collapsed": true
	   },
	   "outputs": [],
"source": [
"// page no 438\n",
"//problem no 10.3\n",
"clc;\n",
"m=input('enter the number of faces = ');// m = 6\n",
"n=input('enter the number of dice = ');// n = 2\n",
"l=m^n ;// j is total number of outcomes = 36\n",
"a=input('enter the number which is to be obtained as the sum of dice  = ') // a=7\n",
"c=0 ; // counter value for favorable outcome\n",
"for i=1:6\n",
"  for j=1:6\n",
"    if(i+j==a)\n",
"      c=c+1;\n",
"    else \n",
"      continue\n",
"   end\n",
"  end\n",
"end\n",
"p=c/l;\n",
"disp(p,'probability = ');\n",
"  "
   ]
   }
,
{
		   "cell_type": "markdown",
		   "metadata": {},
		   "source": [
			"## Example 10.4: problem4.sce"
		   ]
		  },
  {
"cell_type": "code",
	   "execution_count": null,
	   "metadata": {
	    "collapsed": true
	   },
	   "outputs": [],
"source": [
"// page no 438\n",
"//problem no 10.4\n",
"clc;\n",
"m=input('enter the number of faces = ');// m = 2\n",
"n=input('enter the number of tosses = ');// n = 4 \n",
"l=m^n ;// j is total number of outcomes = 16\n",
"a=input(' enter exact no of heads = '); // to obtain exactly 'a' heads\n",
"p=gamma (n+1)/(gamma(n+1-a) * gamma (a+1));// to find combination\n",
"disp(p/l,'probability = ');"
   ]
   }
,
{
		   "cell_type": "markdown",
		   "metadata": {},
		   "source": [
			"## Example 10.5: problem5.sce"
		   ]
		  },
  {
"cell_type": "code",
	   "execution_count": null,
	   "metadata": {
	    "collapsed": true
	   },
	   "outputs": [],
"source": [
"// page no 440\n",
"//problem no 10.5\n",
"clc;\n",
"a=52; // total no of cards in a deck\n",
"b=input ('enter the no of cards to be drawn = ');\n",
"pA1= b/a;// probability of getting first red ace =pA1\n",
"//the cards are drawn in succession without replacement, therefore the probability that the 2nd card will be the red ace = pA2\n",
"pA2=1/(a-1);\n",
"disp(p= pA1*pA2,'total probability = ');"
   ]
   }
,
{
		   "cell_type": "markdown",
		   "metadata": {},
		   "source": [
			"## Example 10.6: problem6.sce"
		   ]
		  },
  {
"cell_type": "code",
	   "execution_count": null,
	   "metadata": {
	    "collapsed": true
	   },
	   "outputs": [],
"source": [
"// page no 441\n",
"// prob no 10.6\n",
"// This problem is based on Bernoulli Trials formula which is P( k successes in n trials ) = n!*p^k *(1-p)^(n-k)/k!*(n-k)!22\n",
"// hence the probability of finding 2 digits wrong in a sequence of 8 digits is\n",
"clc;\n",
"k= input ('no. of successes =');\n",
"p= input ('probability of success =');\n",
"n=input  (' no. of trials =');\n",
"A=gamma (n+1)* (p^k)*((1-p)^(n-k))/(gamma(k)*gamma(n+1-k));\n",
"disp(A,'probability =');"
   ]
   }
,
{
		   "cell_type": "markdown",
		   "metadata": {},
		   "source": [
			"## Example 10.9: problem9.sce"
		   ]
		  },
  {
"cell_type": "code",
	   "execution_count": null,
	   "metadata": {
	    "collapsed": true
	   },
	   "outputs": [],
"source": [
"// page no 446\n",
"//problem no 10.9\n",
"clc;\n",
"m=input('enter the number of faces = '); \n",
"n=input('enter the number of dice = '); \n",
"l=m^n ;// j is total number of outcomes \n",
"a=input('enter the number which is to be obtained as the sum of dice  = ') // a is varied from 2 to 12\n",
"c=0 ; // counter value for favorable outcome\n",
"for i=1:6\n",
"  for j=1:6\n",
"    if(i+j==a)\n",
"      c=c+1;\n",
"    else \n",
"      continue\n",
"   end\n",
"  end\n",
"end\n",
"p=c/l;\n",
"disp(p,'probability = ');\n",
"  "
   ]
   }
],
"metadata": {
		  "kernelspec": {
		   "display_name": "Scilab",
		   "language": "scilab",
		   "name": "scilab"
		  },
		  "language_info": {
		   "file_extension": ".sce",
		   "help_links": [
			{
			 "text": "MetaKernel Magics",
			 "url": "https://github.com/calysto/metakernel/blob/master/metakernel/magics/README.md"
			}
		   ],
		   "mimetype": "text/x-octave",
		   "name": "scilab",
		   "version": "0.7.1"
		  }
		 },
		 "nbformat": 4,
		 "nbformat_minor": 0
}
