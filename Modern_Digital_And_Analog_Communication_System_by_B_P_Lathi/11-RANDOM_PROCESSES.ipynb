{
"cells": [
 {
		   "cell_type": "markdown",
	   "metadata": {},
	   "source": [
       "# Chapter 11: RANDOM PROCESSES"
	   ]
	},
{
		   "cell_type": "markdown",
		   "metadata": {},
		   "source": [
			"## Example 11.2: Example_2_of_chapter_11.sce"
		   ]
		  },
  {
"cell_type": "code",
	   "execution_count": null,
	   "metadata": {
	    "collapsed": true
	   },
	   "outputs": [],
"source": [
"//page 500\n",
"//example 11.2 (assuming SI units)\n",
"//given signal is Sx=(N/2)*rect(w/4(%pi)B)\n",
"clc;\n",
"N=1;B=1;\n",
"T=input('enter the value of T');\n",
"Rx=(N*B)*(sinc(2*(%pi)*B*T));\n",
"disp(+'Watt',Rx,'mean square value of the signal is');"
   ]
   }
,
{
		   "cell_type": "markdown",
		   "metadata": {},
		   "source": [
			"## Example 11.3: Example_3_of_chapter_11.sce"
		   ]
		  },
  {
"cell_type": "code",
	   "execution_count": null,
	   "metadata": {
	    "collapsed": true
	   },
	   "outputs": [],
"source": [
"//page 501\n",
"// example 11.3(Assuming SI units)\n",
"// autocorrelation function of given signal is A^2/2 * cos(wct)\n",
"clc;\n",
"A=2;\n",
"wct=input('enter the value of wct');\n",
"Rx=((A^2)/2)* cos(wct);\n",
"disp(+'Watt',Rx,'mean square value of the process is');"
   ]
   }
,
{
		   "cell_type": "markdown",
		   "metadata": {},
		   "source": [
			"## Example 11.7: Example_7_of_chapter_11.sce"
		   ]
		  },
  {
"cell_type": "code",
	   "execution_count": null,
	   "metadata": {
	    "collapsed": true
	   },
	   "outputs": [],
"source": [
"//page 506\n",
"//example 11.7\n",
"clc;\n",
"P1=input('enter prob of symbol 1');\n",
"P2=input('enter prob of symbol -1');\n",
"ak=(1)*P1+(-1)*P2;\n",
"disp(ak,'mean is');\n",
"Ro=(1^2)*P1+((-1)^2)*P2;\n",
"disp(Ro,'mean square is');"
   ]
   }
,
{
		   "cell_type": "markdown",
		   "metadata": {},
		   "source": [
			"## Example 11.8a: Example_8a_of_chapter_11.sce"
		   ]
		  },
  {
"cell_type": "code",
	   "execution_count": null,
	   "metadata": {
	    "collapsed": true
	   },
	   "outputs": [],
"source": [
"//page 507\n",
"// example 11.8a\n",
"clc;\n",
"P1=input('enter prob of symbol 1');\n",
"P0=input('enter prob of symbol 0');\n",
"ak=(1)*P1+(0)*P2;\n",
"disp(ak,'mean is');\n",
"Ro=(1^2)*P1+((0)^2)*P2;\n",
"disp(Ro,'mean square is');"
   ]
   }
,
{
		   "cell_type": "markdown",
		   "metadata": {},
		   "source": [
			"## Example 11.8b: Example_8b_of_chapter_11.sce"
		   ]
		  },
  {
"cell_type": "code",
	   "execution_count": null,
	   "metadata": {
	    "collapsed": true
	   },
	   "outputs": [],
"source": [
"//page 508\n",
"// example 11.8b\n",
"// bipolar signalling\n",
"clc;\n",
"P0=input('enter prob of symbol 0');\n",
"P1=input('enter prob of symbol 1');\n",
"P2=input('enter prob of symbol -1');\n",
"ak=(0)*P0+(1)*P1+(-1)*P2;\n",
"disp(ak,'mean is');\n",
"Ro=(0^2)*P0+(1^2)*P1+((-1)^2)*P2;\n",
"disp(Ro,'mean square is');"
   ]
   }
],
"metadata": {
		  "kernelspec": {
		   "display_name": "Scilab",
		   "language": "scilab",
		   "name": "scilab"
		  },
		  "language_info": {
		   "file_extension": ".sce",
		   "help_links": [
			{
			 "text": "MetaKernel Magics",
			 "url": "https://github.com/calysto/metakernel/blob/master/metakernel/magics/README.md"
			}
		   ],
		   "mimetype": "text/x-octave",
		   "name": "scilab",
		   "version": "0.7.1"
		  }
		 },
		 "nbformat": 4,
		 "nbformat_minor": 0
}
