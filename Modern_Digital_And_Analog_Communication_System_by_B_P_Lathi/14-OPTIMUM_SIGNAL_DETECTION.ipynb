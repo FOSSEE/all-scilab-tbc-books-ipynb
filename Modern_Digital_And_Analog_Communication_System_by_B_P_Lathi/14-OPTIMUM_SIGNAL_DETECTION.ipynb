{
"cells": [
 {
		   "cell_type": "markdown",
	   "metadata": {},
	   "source": [
       "# Chapter 14: OPTIMUM SIGNAL DETECTION"
	   ]
	},
{
		   "cell_type": "markdown",
		   "metadata": {},
		   "source": [
			"## Example 14.1: Represent_the_given_signal.sce"
		   ]
		  },
  {
"cell_type": "code",
	   "execution_count": null,
	   "metadata": {
	    "collapsed": true
	   },
	   "outputs": [],
"source": [
"//page 631\n",
"//prob 14.1\n",
"// the co-ordinates of the vectors are \n",
"// s1(1,-0.5),s2=(-0.5,1),s3=(0,-1),s4=(0.5,1)\n",
"x4=0:0.1:0.5;\n",
"y4=2*x4;\n",
"\n",
"plot2d(x4,y4,style=1);// black line\n",
"x1=0:0.1:1;\n",
"y1=-0.5*x1;\n",
"plot(x1,y1,style=3);//blue line\n",
""
   ]
   }
,
{
		   "cell_type": "markdown",
		   "metadata": {},
		   "source": [
			"## Example 14.2: Example_2_of_chapter_14.sce"
		   ]
		  },
  {
"cell_type": "code",
	   "execution_count": null,
	   "metadata": {
	    "collapsed": true
	   },
	   "outputs": [],
"source": [
"clc;\n",
"//page no. 650\n",
"// problem no. 14.2\n",
"// the two symbols to be transmitted are m1 and m2,the probabilities of which are not equal\n",
"// To design the optimum receiver we need to decide the threshold say d\n",
"// N be the given noise  PSD,E the energy of the signal, assume N =1, E=1.5\n",
"Pm1=input('probability of symbol m1=');\n",
"Pm2=input('probability of symbol m2=');\n",
"//d is calculated as follows\n",
"N=1;\n",
"E=1.5;\n",
"d=(N/(4*sqrt(E)))*log(Pm2/Pm1);\n",
"disp(d,'the threshold is=');"
   ]
   }
,
{
		   "cell_type": "markdown",
		   "metadata": {},
		   "source": [
			"## Example 14.7: Example_7_of_chapter_14.sce"
		   ]
		  },
  {
"cell_type": "code",
	   "execution_count": null,
	   "metadata": {
	    "collapsed": true
	   },
	   "outputs": [],
"source": [
"//page no 665\n",
"// example 14.7\n",
"// we know k1P(m1)=k2P(m2), where k1 and k2 are the distances of the signals s1 and s2 resp.,hence k1+k2=d\n",
"clc;\n",
"Pm1=input('probability of symbol m1=');\n",
"Pm2=input('probability of symbol m2=');\n",
"//assume d=1\n",
"d=1;\n",
"E1=(((Pm1)*((d^2)/2))+((Pm2)*((d^2)/2)));\n",
"disp(+'units',E1,'mean energy of the first signal');\n",
"E2=Pm1*Pm2*(d^2);\n",
"disp(+'units',E2,'mean energy of the second signal');\n",
"if(E1==E2)\n",
"    disp('signals are equiprobable');\n",
"    end"
   ]
   }
],
"metadata": {
		  "kernelspec": {
		   "display_name": "Scilab",
		   "language": "scilab",
		   "name": "scilab"
		  },
		  "language_info": {
		   "file_extension": ".sce",
		   "help_links": [
			{
			 "text": "MetaKernel Magics",
			 "url": "https://github.com/calysto/metakernel/blob/master/metakernel/magics/README.md"
			}
		   ],
		   "mimetype": "text/x-octave",
		   "name": "scilab",
		   "version": "0.7.1"
		  }
		 },
		 "nbformat": 4,
		 "nbformat_minor": 0
}
