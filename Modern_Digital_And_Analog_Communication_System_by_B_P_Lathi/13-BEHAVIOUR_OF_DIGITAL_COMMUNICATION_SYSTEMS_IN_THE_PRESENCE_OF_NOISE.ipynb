{
"cells": [
 {
		   "cell_type": "markdown",
	   "metadata": {},
	   "source": [
       "# Chapter 13: BEHAVIOUR OF DIGITAL COMMUNICATION SYSTEMS IN THE PRESENCE OF NOISE"
	   ]
	},
{
		   "cell_type": "markdown",
		   "metadata": {},
		   "source": [
			"## Example 13.1: problem1.sce"
		   ]
		  },
  {
"cell_type": "code",
	   "execution_count": null,
	   "metadata": {
	    "collapsed": true
	   },
	   "outputs": [],
"source": [
"// page no 620\n",
"// prob no 13.1\n",
"//Determinaion of the transmission bandwidth and the signal power required at the receiver input for i)Binary ii)16-ary ASK iii)16-ary PSK\n",
"//given Rb=2.08*10^6,Pb<=10^-6\n",
"\n",
"//i)for BINARY we have to consider Pb=Pe=10^-6=Q(sqrt(2Eb/N)). This yields Eb/N=11.35. \n",
"//SIgnal power is given by Si=Eb*Rb=11.35*N*Rb\n",
"clc;\n",
"N=2*10^-8;//for binary. Channel noise PSD=10^-8\n",
"Rb=2.08*10^6;\n",
"Si1=11.35*N*Rb;\n",
"disp(+'Watts',Si1,'signal power required at the receiver = ');\n",
"Bt1=Rb;// Bandwidth for baseband pulses\n",
"disp(+'Hertz',Bt1,' Bandwidth is = ');\n",
"\n",
"//ii)for 16-ary ASK we have to consider Pb=10^-6=Pem/log2(16)\n",
"// therefore Pem is given as Pem=Pb*log2(16)\n",
"Pb=10^-6;\n",
"Pem=Pb*log2(16);\n",
"//'Pem' is also given as Pem=2(M-1/M)*Q*sqrt(6Eb*log2(16)/(N(M^2-1)))\n",
"M=16;// for 16-array ASk\n",
"// By using above formula for 'Pem' , we can calculate the value of Eb,which is come out to be equal to 0.499*10^-5;\n",
"Eb=0.499*10^-5;// if the M-ary pulse rate is RM =Rb/4 then\n",
"RM =Rb/4; \n",
"Si2=Eb*(log2(M))*RM;\n",
"disp(+'Watts',Si2,'signal power required at the receiver= ');\n",
"Bt2=RM;//transmission bandwith\n",
"disp(+'Hertz',Bt2,'Bandwidth is = ');\n",
"\n",
"//iii) for 16-array PSK we have to consider Pem=4*Pb. This is approximately equal to 2*Q(sqrt(2*pi^2*Eb*log2(16))/256*N). This yields \n",
"Eb= 137.8*10^-8;\n",
"Si3=Eb*log2(16)*RM;\n",
"disp(+'Watts',Si3,'signal power required at the receiver = ');\n",
"Bt3=RM;//normally \n",
"//But for PSK, as it is a modulated signal the required bandwidth is 2Bt3.\n",
"Bpsk=2*(Bt3);\n",
"disp(+'hertz',Bpsk,'Bandwidth is = ');\n",
""
   ]
   }
],
"metadata": {
		  "kernelspec": {
		   "display_name": "Scilab",
		   "language": "scilab",
		   "name": "scilab"
		  },
		  "language_info": {
		   "file_extension": ".sce",
		   "help_links": [
			{
			 "text": "MetaKernel Magics",
			 "url": "https://github.com/calysto/metakernel/blob/master/metakernel/magics/README.md"
			}
		   ],
		   "mimetype": "text/x-octave",
		   "name": "scilab",
		   "version": "0.7.1"
		  }
		 },
		 "nbformat": 4,
		 "nbformat_minor": 0
}
