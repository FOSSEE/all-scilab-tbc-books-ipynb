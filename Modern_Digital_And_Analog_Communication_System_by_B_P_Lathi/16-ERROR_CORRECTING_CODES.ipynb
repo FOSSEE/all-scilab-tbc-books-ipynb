{
"cells": [
 {
		   "cell_type": "markdown",
	   "metadata": {},
	   "source": [
       "# Chapter 16: ERROR CORRECTING CODES"
	   ]
	},
{
		   "cell_type": "markdown",
		   "metadata": {},
		   "source": [
			"## Example 16.1: Linear_block_codes.sce"
		   ]
		  },
  {
"cell_type": "code",
	   "execution_count": null,
	   "metadata": {
	    "collapsed": true
	   },
	   "outputs": [],
"source": [
"//page no 732\n",
"// example no 16.1.\n",
"//here generator matrix is given\n",
"clc;\n",
"G=[1 0 0 1 0 1;0 1 0 0 1 1;0 0 1 1 1 0];\n",
"d1=[1 1 1];\n",
"d2=[1 1 0];\n",
"d3=[1 0 1];\n",
"d4=[1 0 0];\n",
"d5=[0 1 1];\n",
"d6=[0 1 0];\n",
"d7=[0 0 1];\n",
"d8=[0 0 0];\n",
"    c1=d1*G;\n",
"    for i=1:6\n",
"    if c1(i)==2 then\n",
"        c1(i)=0;\n",
"    end\n",
"end\n",
"c2=d2*G;\n",
"    for i=1:6\n",
"    if c2(i)==2 then\n",
"        c2(i)=0;\n",
"    end\n",
"end\n",
"c3=d3*G;\n",
"    for i=1:6\n",
"    if c3(i)==2 then\n",
"        c3(i)=0;\n",
"    end\n",
"   end\n",
"c4=d4*G;\n",
"    for i=1:6\n",
"    if c4(i)==2 then\n",
"        c4(i)=0;\n",
"    end\n",
"end\n",
"c5=d5*G;\n",
"    for i=1:6\n",
"    if c5(i)==2 then\n",
"        c5(i)=0;\n",
"    end\n",
"end\n",
"c6=d6*G;\n",
"    for i=1:6\n",
"    if c6(i)==2 then\n",
"c6(i)=0;\n",
"    end\n",
"end\n",
"c7=d7*G;\n",
"    for i=1:6\n",
"    if c7(i)==2 then\n",
"        c7(i)=0;\n",
"    end\n",
"end\n",
"c8=d8*G;\n",
"    for i=1:6\n",
"    if c8(i)==2 then\n",
"        c8(i)=0;\n",
"    end\n",
"end\n",
"disp('code words are given as')\n",
"disp(c1);\n",
"disp(c2);\n",
"\n",
"disp(c3)\n",
"disp(c4)\n",
"disp(c5);\n",
"disp(c6);\n",
"\n",
"disp(c7);\n",
"\n",
"disp(c8);"
   ]
   }
],
"metadata": {
		  "kernelspec": {
		   "display_name": "Scilab",
		   "language": "scilab",
		   "name": "scilab"
		  },
		  "language_info": {
		   "file_extension": ".sce",
		   "help_links": [
			{
			 "text": "MetaKernel Magics",
			 "url": "https://github.com/calysto/metakernel/blob/master/metakernel/magics/README.md"
			}
		   ],
		   "mimetype": "text/x-octave",
		   "name": "scilab",
		   "version": "0.7.1"
		  }
		 },
		 "nbformat": 4,
		 "nbformat_minor": 0
}
