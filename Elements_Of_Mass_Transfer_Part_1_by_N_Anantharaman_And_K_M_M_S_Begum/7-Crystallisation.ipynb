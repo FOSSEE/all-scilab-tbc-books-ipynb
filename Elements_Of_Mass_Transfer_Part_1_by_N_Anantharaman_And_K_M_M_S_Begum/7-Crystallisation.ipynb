{
"cells": [
 {
		   "cell_type": "markdown",
	   "metadata": {},
	   "source": [
       "# Chapter 7: Crystallisation"
	   ]
	},
{
		   "cell_type": "markdown",
		   "metadata": {},
		   "source": [
			"## Example 7.10: weight_of_Na2CO3hydrate_needed_to_dissolve_Na2CO3.sce"
		   ]
		  },
  {
"cell_type": "code",
	   "execution_count": null,
	   "metadata": {
	    "collapsed": true
	   },
	   "outputs": [],
"source": [
"\n",
"clear;\n",
"clc;\n",
"printf('\t Example 7.10\n');\n",
"\n",
"s1=38.8;              //solubility at 30 degree per 100 gm of water\n",
"s2=12.5;              //solubility at 10 degree per 100 gm of water\n",
"w2=296;                 //molecular weight of Na2CO3.10H2O\n",
"per=116/w2 *100;        //percentage solute in Na2CO3.10H2O\n",
"\n",
"//let x be the quantity of Na2CO3.10H2O\n",
"w=200;                    //original solotion weight\n",
"m1=w*(s2/(s2+100));       //weight of Na2CO3.10H2O needed to dissolve Na2CO3 present in the original solotion \n",
"w3=w-m1;                 //weight of water \n",
"//w4=m1+per/100;            weight of Na2CO3 after dissolution\n",
"x1=s1/(s1+100);           //weight fraction of solute after dissolution \n",
"printf('\n the weight of quantity of Na2CO3.10H2O  formed  :%f kg',w3);\n",
"\n",
"//for the total solution after dissolution\n",
"x=poly([0],'x');        //calc. x the weight of crystal\n",
"t=roots((m1+per*x/100)-((m1+per*x/100)+(w3+.609*x))*x1);             \n",
"printf('\nweight of Na2CO3.10H2O needed to dissolve Na2CO3 present in the original solution  %f kg',t);\n",
"\n",
"//end"
   ]
   }
,
{
		   "cell_type": "markdown",
		   "metadata": {},
		   "source": [
			"## Example 7.11: weight_of_Na2CO3_hydrated_formed.sce"
		   ]
		  },
  {
"cell_type": "code",
	   "execution_count": null,
	   "metadata": {
	    "collapsed": true
	   },
	   "outputs": [],
"source": [
"\n",
"clear;\n",
"clc;\n",
"printf('\t Example 7.11\n');\n",
"\n",
"s1=35;                //percentage of solution\n",
"x1=6000;              //weight of Na2CO3 solution\n",
"s2=21.5;              //solubility at 20 degree per 100 gm of water\n",
"w2=296;                 //molecular weight of Na2CO3.10H2O\n",
"per=116/w2 *100;        //percentage solute in Na2CO3.10H2O\n",
"w1=s1*x1;            //weight of solute\n",
"w3=x1*0.04;          //weight of solution lost by vaporisation\n",
"//let x be the quantity of Na2CO3.10H2O formed \n",
"//making material balance \n",
"x=poly([0],'x');        //calc. x the weight of crystal\n",
"t=roots(2100-(.391*x)-(6000-240-x)*(21.5/121.5));             \n",
"printf('\n the weight of Na2CO3.10H2O crystal formed after crystallisation :%f kg',t);\n",
"\n",
"\n",
"//end"
   ]
   }
,
{
		   "cell_type": "markdown",
		   "metadata": {},
		   "source": [
			"## Example 7.12: feed_rate_of_FeSO4_hydrated_crystal_produced_per_hour.sce"
		   ]
		  },
  {
"cell_type": "code",
	   "execution_count": null,
	   "metadata": {
	    "collapsed": true
	   },
	   "outputs": [],
"source": [
"\n",
"clear;\n",
"clc;\n",
"printf('\t Example 7.12\n');\n",
"\n",
"                //FeSO4.7H2O\n",
"C=1000;                      //crystal formed in kg\n",
"hf=26.002;                   //enthalpy of the feed at 80 degree in cal/g\n",
"hl=-1.33;                   //enthalpy of the saturated sol at 30 degree in cal/g\n",
"hc=-50.56;                 //enthalpy of crystal\n",
"xf=40/(100+40);\n",
"xm=30/(100+30);\n",
"xc=151.84/277.85;        //151.84 is the weight of FeSO4\n",
"        //component balance\n",
"//    F*xf = M*xm + C*xc    ------eqn 1st\n",
"//    F = M + 10000 + V     ------eqn 2nd\n",
"//    F*Hf = V*Hv + M*Hm +C*Hc-----eqn 3rd\n",
"Hf=26.002;                //enthalpy of the feed at 80 degree in cal/g\n",
"Hv=612;                  //\n",
"Hm=-1.33;               //enthalpy of the saturated sol at 30 degree in cal/g\n",
"Hc=-50.56;             //enthalpy of crystal leaving the crystalliser\n",
"\n",
"//solving these we gt \n",
"a=[1 -1 -1;.286 -.231 0;26.002 1.33 -612]\n",
"b=[10000;5470;-505600]\n",
"x=inv(a)*b;                    //solving out the values using matrices \n",
"t1=x(1);                        //3 solution of the eqn\n",
"t2=x(2);\n",
"t3=x(3);\n",
"printf('\n the feed rate F= : %f kg/hr \n value of M= : %f kg/hr\n value of V=: %f kg/hr',t1,t2,t3);\n",
"//end"
   ]
   }
,
{
		   "cell_type": "markdown",
		   "metadata": {},
		   "source": [
			"## Example 7.13: cooling_water_requirement.sce"
		   ]
		  },
  {
"cell_type": "code",
	   "execution_count": null,
	   "metadata": {
	    "collapsed": true
	   },
	   "outputs": [],
"source": [
"\n",
"clear;\n",
"clc;\n",
"printf('\t Example 7.13\n');\n",
"\n",
"C=800;                       //crystal formed in kg/hr\n",
"t2=49;                        //temp. of the entering fed\n",
"t1=27;                       //temp. of the product\n",
"t3=21;                       //temp. of the leaving cooling water\n",
"t4=15;                      //temp. of the enetring  cooling water\n",
"U=175;                      //overall heat transfer coefficient\n",
"F=140*151.85/277.85;       //feed concentration \n",
"xf=F/240;                  //concentration in feed solution\n",
"P=74*151.85/277.85;        //product concentration \n",
"xm=P/174;                  //concentration of FeSO4 in product solution\n",
"xc=151.85/277.85;         //\n",
"        //mass balance   F = M+C    ----eqn 1st\n",
"        //sloute balance F*xf = M*xm + C*xc ----eqn 2nd\n",
"//solving these we get\n",
"F=800*.3141/0.0866;        //feed conc.\n",
"M=F-C;                     //product concentration \n",
"        //making energy balance\n",
"        //heat to be removed by cooling water =heat to be removed from solution + heat of crystallization\n",
"cp=.7;                    //specific heat capacity\n",
"dt=(t2-t1);              //change in temp.\n",
"dh=15.8;                 //heat of crystallization\n",
"Q=F*cp*dt+dh*C;          //heat to be removed by cooling water\n",
"cp=1;                    //specific heat capacity of water\n",
"dt=(t3-t4);                   //change in temp.\n",
"mw=Q/(cp*dt);            //cooling water needed\n",
"printf('\n cooling water requiement is :%f kg/hr',mw);\n",
"    //Q=U*A*(dtlm)\n",
"dtlm=((t2-t3)-(t1-t4))/(log((t2-t3)/(t1-t4)));//log mean temp. difference\n",
"A=Q/(U*dtlm);                    //area of the crystallizer section\n",
"l=A/1.3;\n",
"printf('\n length of crystallliser sections needed is :%f m',l);\n",
"\n",
"//end"
   ]
   }
,
{
		   "cell_type": "markdown",
		   "metadata": {},
		   "source": [
			"## Example 7.1: total_weight_of_the_solutio.sce"
		   ]
		  },
  {
"cell_type": "code",
	   "execution_count": null,
	   "metadata": {
	    "collapsed": true
	   },
	   "outputs": [],
"source": [
"\n",
"clear;\n",
"clc;\n",
"printf('\t Example 7.1\n');\n",
"\n",
"//let x be the weight of water in the quantity of solution needed\n",
"\n",
"c=.498;                //solute content afetr crystallisation\n",
"W1=111;                //molecular weight of CaCl2\n",
"W2=219;                //molecular weight of CaCl2.6H2O\n",
"M1=(108/W2)*100;       //water present in 100kg of CaCl2.6H2O\n",
"M2=(W1/W2)*100;       //CaCl2 present in 100kg of CaCl2.6H20\n",
"//t=M2+c*x;           //total weight entering the solubility\n",
"//x+49.3;             total water solubility used\n",
"//s*(x+49.3)/100      //total Cacl2 after solubility\n",
"x=poly([0],'x');        //calc. x the weight of crystal\n",
"t=roots((M2+c*x)-(x+49.3)*.819);             \n",
"printf('\nthe weight of water in the quantity of solution needed :%f kg',t);\n",
"\n",
"h=(c)*t;           //weight of CaCl2 corresponding to weight water\n",
"tw=t+h;              // total weight of the solution\n",
"printf('\nthe  total weight of the solution is :%f kg',tw);\n",
"//end"
   ]
   }
,
{
		   "cell_type": "markdown",
		   "metadata": {},
		   "source": [
			"## Example 7.2: percentage_saturation_and_yield.sce"
		   ]
		  },
  {
"cell_type": "code",
	   "execution_count": null,
	   "metadata": {
	    "collapsed": true
	   },
	   "outputs": [],
"source": [
"\n",
"clear;\n",
"clc;\n",
"printf('\t Exercise 7.1\n');\n",
"\n",
"//part(i)\n",
"w1=1000;               //weight of solution to be cooled\n",
"s1=104.1;              //solubility at 50 degree per 100 kg of water\n",
"s2=78.0;              //solubility at 10 degree per 100 kg of water\n",
"a2=45;               //percentage of sodium nitrate in the solution per 100kg of solution \n",
"\n",
"x1=s1/(100+s1)*100;                //percentage of saturated solution at 50 degree\n",
"tw=(a2/(100-a2))/(x1/(100-x1));     //the  percentage saturation\n",
"printf('\nthe  percentage saturation is :%f percent',tw*100);\n",
"\n",
"//part(ii)\n",
"//let x be the weight of NaNO3 crystal formed after crystallisation\n",
"x=poly([0],'x');        //calc. x the weight of crystal\n",
"t=roots((w1*a2/100)-(x+(w1-x)*s2/(100+s2)));             \n",
"printf('\n the weight of NaNO3 crystal formed after crystallisation :%f kg',t);\n",
"\n",
"//part(iii)\n",
"yield=t/(a2*w1/100);          //yield = weight of NaNO3 crystal formed/weight of NaNO3\n",
"printf('\n the percentage yield is:%f percent',yield*100);\n",
"//end"
   ]
   }
,
{
		   "cell_type": "markdown",
		   "metadata": {},
		   "source": [
			"## Example 7.3: temperature_to_which_solution_should_be_cooled.sce"
		   ]
		  },
  {
"cell_type": "code",
	   "execution_count": null,
	   "metadata": {
	    "collapsed": true
	   },
	   "outputs": [],
"source": [
"\n",
"clear;\n",
"clc;\n",
"printf('\t Example 7.3\n');\n",
"\n",
"s1=19.75;              //solubility at 70 degree per 100 gm of water\n",
"s2=16.5;              //solubility at 50 degree per 100 gm of water\n",
"s3=12.97;              //solubility at 30 degree per 100 gm of water\n",
"s4=9.22;              //solubility at 10 degree per 100 gm of water\n",
"s5=7.34;              //solubility at 0 degree per 100 gm of water\n",
"        //basis is 1000kg of saturated solution\n",
"w1=1000*(s1/(s1+100));            //weight of K2SO4 in the original solution\n",
"w2=1000-w1;                      //weight of water in kg\n",
"w3=w1*.5;                       //weight of K2SO4 in the solution\n",
"wp=w3/(w3+w2);              //weight percent of K2SO4 in the solution after crystallistion\n",
"printf('\n for the corresponding temperature to :%f percent of K2SO4  is 15 degree (by linear interpolation between 10 to 30 degree) ',wp*100);\n",
"\n",
"//end"
   ]
   }
,
{
		   "cell_type": "markdown",
		   "metadata": {},
		   "source": [
			"## Example 7.4: percentage_saturation_and_yield.sce"
		   ]
		  },
  {
"cell_type": "code",
	   "execution_count": null,
	   "metadata": {
	    "collapsed": true
	   },
	   "outputs": [],
"source": [
"\n",
"clear;\n",
"clc;\n",
"printf('\t Example 7.4\n');\n",
"//part(i)\n",
"a1=146;                //solubility at 70 degree\n",
"a2=121;                //solubility at 10 degree\n",
"t1=58;                 // percentage of solute content\n",
"t2=40.66;\n",
"x1=a1/(100+a1) *100;        //percentage of saturated solution at 50 degree\n",
"tw=(t1/42)/(x1/t2);    //the  percentage saturation\n",
"printf('\nthe  percentage saturation is :%f percent',tw*100);\n",
"\n",
"//part(ii)\n",
"p1=2000*.58;              //weight of solute in 200kg of solution 2000*.58\n",
"//let x be the weight of  crystal formed after crystallisation\n",
"x=poly([0],'x');         //calc. x the weight of crystal\n",
"t=roots((1160)-(x+(1055.02-.547*x)));             \n",
"printf('\n the weight of NaNO3 crystal formed after crystallisation :%f kg',t);\n",
"\n",
"//part(iii)\n",
"yield=t/p1;            //yield = weight of NaNO3 crystal formed/weight of NaNO3\n",
"printf('\n the percentage yield is:%f percent',yield*100);\n",
"//end"
   ]
   }
,
{
		   "cell_type": "markdown",
		   "metadata": {},
		   "source": [
			"## Example 7.5: the_weight_of_Na2SO4_hydrate_crystal.sce"
		   ]
		  },
  {
"cell_type": "code",
	   "execution_count": null,
	   "metadata": {
	    "collapsed": true
	   },
	   "outputs": [],
"source": [
"\n",
"clear;\n",
"clc;\n",
"printf('\t Example 7.5\n');\n",
"\n",
"p1=.3;                   //percentage of the solute in the solution\n",
"w1=1000;                 //weight of the solution taken\n",
"w2=142;                 //molecular weight of Na2SO4.\n",
"M1=(w2/(180+w2));        //solute (Na2SO4) present in the Na2CO3.10H2O solution\n",
"s1=40.8;              //solubility of Na2SO4 at 30 degree per 100 gm of water\n",
"s2=9.0;              //solubility of Na2SO4 at 10 degree per 100 gm of water\n",
"//percent weight of solute in Na2SO4.10H2O= 144/322\n",
"//let x be the weight of crystal formed \n",
"x=poly([0],'x');         //calc. x the weight of crystal\n",
"t=roots((w1*40.8/140.8)-(.442*x+(w1-x)*(s2/(100+s2))));             \n",
"printf('\n the weight of  crystal formed after crystallisation :%f kg',t);\n",
"\n",
"//end"
   ]
   }
,
{
		   "cell_type": "markdown",
		   "metadata": {},
		   "source": [
			"## Example 7.6: percentage_yield_of_Na2CO3_hydrated_crysta.sce"
		   ]
		  },
  {
"cell_type": "code",
	   "execution_count": null,
	   "metadata": {
	    "collapsed": true
	   },
	   "outputs": [],
"source": [
"\n",
"clear;\n",
"clc;\n",
"printf('\t Example 7.6\n');\n",
"\n",
"s1=12.5;                  //solubility of Na2CO3 at 10 degree per 100 gm of water\n",
"p1=.3;                   //percentage of the solute in the solution\n",
"w1=2000;                 //weight of the solution taken\n",
"w2=106;                 //molecular weight of Na2CO3.\n",
"M1=(w2/(180+w2));        //solute (Na2CO3) present in the Na2CO3.10H2O solution\n",
"//let x be the quantity of Na2CO3.10H2O crystal formed\n",
"x=poly([0],'x');         //calc. x the weight of crystal\n",
"t=roots(w1*p1-M1*x-(w1-x)*(s1/(100+s1)));             \n",
"printf('\n the weight of quantity of Na2CO3.10H2O  :%f kg',t);\n",
"//in the book the ans is wrong, they have calculated 2000*0.3-2000*12.5/112.5 as =x(miscalculation)\n",
"\n",
"p=(286/106)*w1*p1;           //weight of Na2CO3.10H2O crystal present in the original solution\n",
"yield=t/p;                 //percentage yield \n",
"printf('\n percentage yield :%f percent',yield*100);\n",
"//end"
   ]
   }
,
{
		   "cell_type": "markdown",
		   "metadata": {},
		   "source": [
			"## Example 7.7: percentage_yield_of_K2CO3_hydrated_crystal.sce"
		   ]
		  },
  {
"cell_type": "code",
	   "execution_count": null,
	   "metadata": {
	    "collapsed": true
	   },
	   "outputs": [],
"source": [
"\n",
"clear;\n",
"clc;\n",
"printf('\t Example 7.7\n');\n",
"\n",
"s1=139.8;              //solubility at 80 degree per 100 gm of water\n",
"s2=110.5;              //solubility at 20 degree per 100 gm of water\n",
"w2=174.2;                 //molecular weight of K2CO3.10H2O\n",
"M1=(138/w2)*100;        //water present in 100kg of K2CO3.10H2O\n",
"//let x be the quantity of Na2CO3.10H2O\n",
"x=poly([0],'x');         //calc. x the weight of crystal\n",
"t=roots(500*(139.8/239.8)-.7921*x-(500-x)*110.5/210.5);             \n",
"printf('\n the weight of quantity of K2CO3.10H2O formed  :%f kg',t);\n",
"\n",
"p=(174/138)*500*(139.8/239.8);       //weight of crystal present in the original solution\n",
"yield=t/p;                 //percentage yield \n",
"printf('\n percentage yield :%f percent',yield*100);\n",
"//end"
   ]
   }
,
{
		   "cell_type": "markdown",
		   "metadata": {},
		   "source": [
			"## Example 7.8: percentage_yield_FeSO4_hydrate_crystal.sce"
		   ]
		  },
  {
"cell_type": "code",
	   "execution_count": null,
	   "metadata": {
	    "collapsed": true
	   },
	   "outputs": [],
"source": [
"\n",
"clear;\n",
"clc;\n",
"printf('\t Example 7.8\n');\n",
"\n",
"s1=20.51;              //solubility at 10 degree per 100 gm of water\n",
"w2=277.85;                 //molecular weight of FeSO4.7H2O\n",
"\n",
"//let x be the quantity of Na2CO3.10H2O\n",
"x=poly([0],'x');         //calc. x the weight of crystal\n",
"t=roots(900*.4-.5465*x-(900-x)*20.5/120.5);             \n",
"printf('\n the weight of quantity of FeSO4.7H2O formed  :%f kg',t);\n",
"\n",
"p=(277.85/151.85)*900*(0.4);       //weight of crystal present in the original solution\n",
"yield=t/p;                 //percentage yield \n",
"printf('\n percentage yield :%f percent',yield*100);\n",
"//end"
   ]
   }
,
{
		   "cell_type": "markdown",
		   "metadata": {},
		   "source": [
			"## Example 7.9: percentage_saturation_and_weight_of_Cesium_chloride_crystal.sce"
		   ]
		  },
  {
"cell_type": "code",
	   "execution_count": null,
	   "metadata": {
	    "collapsed": true
	   },
	   "outputs": [],
"source": [
"\n",
"clear;\n",
"clc;\n",
"printf('\t Example 7.2\n');\n",
"\n",
"//part(i)\n",
"a1=229.7;              //solubility at 60 degree\n",
"a2=174.7;              //solubility at 60 degree\n",
"t1=68;                // percentage of sodium nitrate\n",
"t2=30.34;\n",
"x1=a1/329.7 *100;        //percentage of saturated solution at 50 degree\n",
"tw=(t1/32)/(x1/t2);    //the  percentage saturation\n",
"printf('\nthe  percentage saturation is :%f percent',tw*100);\n",
"\n",
"//part(ii)\n",
"//let x be the weight of Cesium chloride crystal formed after crystallisation\n",
"x=poly([0],'x');        //calc. x the weight of crystal\n",
"t=roots(1000*.68-(x+(1000-x)*174.7/274.7));             \n",
"printf('\n the weight of CaCl2 crystal formed after crystallisation :%f kg',t);\n",
"\n",
"//part(iii)\n",
"yield=t/680;          //yield = weight of CaCl2 crystal formed/weight of CaCl2\n",
"printf('\n the percentage yield of Cesium chloride  is:%f percent',yield*100);\n",
"//end"
   ]
   }
],
"metadata": {
		  "kernelspec": {
		   "display_name": "Scilab",
		   "language": "scilab",
		   "name": "scilab"
		  },
		  "language_info": {
		   "file_extension": ".sce",
		   "help_links": [
			{
			 "text": "MetaKernel Magics",
			 "url": "https://github.com/calysto/metakernel/blob/master/metakernel/magics/README.md"
			}
		   ],
		   "mimetype": "text/x-octave",
		   "name": "scilab",
		   "version": "0.7.1"
		  }
		 },
		 "nbformat": 4,
		 "nbformat_minor": 0
}
