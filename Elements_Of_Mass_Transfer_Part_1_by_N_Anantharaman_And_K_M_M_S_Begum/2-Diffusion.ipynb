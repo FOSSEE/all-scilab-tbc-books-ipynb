{
"cells": [
 {
		   "cell_type": "markdown",
	   "metadata": {},
	   "source": [
       "# Chapter 2: Diffusion"
	   ]
	},
{
		   "cell_type": "markdown",
		   "metadata": {},
		   "source": [
			"## Example 2.10_a: rate_of_mass_transfer.sce"
		   ]
		  },
  {
"cell_type": "code",
	   "execution_count": null,
	   "metadata": {
	    "collapsed": true
	   },
	   "outputs": [],
"source": [
"\n",
"clear;\n",
"clc;\n",
"printf('\t Example 2.10.a\n');\n",
"    //part (i)\n",
"r=(50/2)*10^-3;            //radius pf circular tube\n",
"pa1=(190);                //vapour pressure of ammonia at pt.1 \n",
"pa2=(95);                 //vapour pressure of ammonia at pt.2\n",
"Dab=2.1*10^-5            //molecular diffusivity in m^2/s\n",
"z=1;\n",
"R=760*22.414/273;        //universal gas constant in mmHg*m^3*K*kmol    \n",
"    //carbondioxide and oxygen experiences equimolar counter diffusion \n",
"T=298;                          //temperature in kelvin\n",
"pt=(10/780)*1.013*10^5;         //total pressure in pascal\n",
"Na=Dab*(pa1-pa2)/(z*R*T);       //flux in kmol/m^2*S\n",
"rate=Na*(3.14*r^2);            //rate of mass transfer..(3.14*r^2)-is the area\n",
"printf('\n the rate of mass transfer.:%f *10^-10 kmol/s',rate/10^-10);\n",
"  \n",
"//end"
   ]
   }
,
{
		   "cell_type": "markdown",
		   "metadata": {},
		   "source": [
			"## Example 2.10_b: partial_pressure_of_co2.sce"
		   ]
		  },
  {
"cell_type": "code",
	   "execution_count": null,
	   "metadata": {
	    "collapsed": true
	   },
	   "outputs": [],
"source": [
"\n",
"clear;\n",
"clc;\n",
"printf('\t Example 2.10.b\n');\n",
"    //part (i)\n",
"r=(50/2)*10^-3;            //radius pf circular tube\n",
"pa1=(190);                //vapour pressure of ammonia at pt.1 \n",
"pa2=(95);                 //vapour pressure of ammonia at pt.2\n",
"Dab=2.1*10^-5            //molecular diffusivity in m^2/s\n",
"R=760*22.414/273;        //universal gas constant in mmHg*m^3*K*kmol    \n",
"    //carbondioxide and oxygen experiences equimolar counter diffusion \n",
"T=298;                          //temperature in kelvin\n",
"pt=(10/780)*1.013*10^5;         //total pressure in pascal\n",
"\n",
"    //part (ii)\n",
"//(ya-ya1)/(ya2-ya1)=(z-z1)/(z2-z1);\n",
"z2=1;                        //diffusion path in m at pos.2\n",
"z1=0;                        //diffusion path in m at pos.1\n",
"z=.75;                      //diffusion at general z\n",
"pa=poly([0],'pa');         //calc. of conc. in gas phase\n",
"x=roots((pa-pa1)/(pa2-pa1)-(z-z1)/(z2-z1));\n",
"printf('\n partial pressure of co2 at o.75m from the end where partial pressure is 190mmhg is:%f mmHg',x);\n",
"//end"
   ]
   }
,
{
		   "cell_type": "markdown",
		   "metadata": {},
		   "source": [
			"## Example 2.11_a: diffusion_flux_if_N2_is_non_diffusing.sce"
		   ]
		  },
  {
"cell_type": "code",
	   "execution_count": null,
	   "metadata": {
	    "collapsed": true
	   },
	   "outputs": [],
"source": [
"\n",
"clear;\n",
"clc;\n",
"printf('\t Example 2_11_a\n');\n",
"ya1=0.2;                            //initial mole fraction\n",
"ya2=0.1;                            //final mole fraction\n",
"T=(298);                            //temperature  in kelvin\n",
"pt=1*1.013*10^5;                   //total pressure in pascal\n",
"z=0.2*10^-2;                      //gas film thickness in m\n",
"Dab=.215*10^-4;                  //diffusion coefficient in m^2/s\n",
"R=8314;                         //universal gas constant\n",
"//part (i)when N2 is non diffusing \n",
"\n",
"Na=Dab*pt*log((1-ya2)/(1-ya1))/(z*R*T);    //diffusion flux in kmol/m^2*s\n",
"printf('\n  diffusion flux if N2 is non diffusing :%f *10^-5 kmol/m^2*s ',Na/10^-5);\n",
"\n",
"//end"
   ]
   }
,
{
		   "cell_type": "markdown",
		   "metadata": {},
		   "source": [
			"## Example 2.11_b: diffusion_flux_of_oxygen.sce"
		   ]
		  },
  {
"cell_type": "code",
	   "execution_count": null,
	   "metadata": {
	    "collapsed": true
	   },
	   "outputs": [],
"source": [
"\n",
"clear;\n",
"clc;\n",
"printf('\t Example 2_11_a\n');\n",
"ya1=0.2;\n",
"ya2=0.1;\n",
"T=(298);                            //temperature  in kelvin\n",
"pt=1*1.013*10^5;                   //total pressure in pascal\n",
"z=0.2*10^-2;                      //gas film thickness in m\n",
"Dab=.215*10^-4;                  //diffusion coefficient in m^2/s\n",
"R=8314;                         //universal gas constant\n",
"\n",
"//part (ii) equimolar counter diffusion\n",
"\n",
"Na=Dab*pt*(ya1-ya2)/(z*R*T)               //diffusion flux in kmol/m^2*s\n",
"printf('\n  diffusion  flux of oxygen during equimolar counter-diffusion :%f *10^-5 kmol/m^2*s ',Na/10^-5);\n",
"\n",
"//end"
   ]
   }
,
{
		   "cell_type": "markdown",
		   "metadata": {},
		   "source": [
			"## Example 2.12: diffusion_flux_through_inert_air.sce"
		   ]
		  },
  {
"cell_type": "code",
	   "execution_count": null,
	   "metadata": {
	    "collapsed": true
	   },
	   "outputs": [],
"source": [
"\n",
"clear;\n",
"clc;\n",
"printf('\t Example 2.12\n');\n",
"// ammonia diffusing through inert air and air is non-diffusing\n",
"ya1=0.1;\n",
"ya2=0;\n",
"T=(293);                             //temperature  in kelvin\n",
"pt=1*1.013*10^5;                    //total pressure in pascal\n",
"z=0.2*10^-2;                       //gas film thickness in m\n",
"Dab=.185*10^-4;                   //diffusion coefficient in m^2/s\n",
"R=8314;                          //universal gas constant\n",
"    //part (i)when air is assumed to be stagnant and non-diffusing \n",
"\n",
"Na=Dab*pt*log((1-ya2)/(1-ya1))/(z*R*T);    //diffusion flux in kmol/m^2*s\n",
"mw=17;                                    //molecular weight of ammonia\n",
"massflux=Na*mw;                          //mass flux of given NH3\n",
"printf('\n  diffusion flux when total presssure is 1atm and air is non-diffusing :%f *10^-4 kg/m^2*s ',massflux/10^-4);\n",
"    //part (ii) when pressure is increased to 10atm\n",
"\n",
"//Dab_1/Dab_2=pt_2/pt_1\n",
"pt_2=10;                                         //final pressure  in atm\n",
"pt_1=1;                                         //initially pressure was 1atm\n",
"Dab_1=.185;                                    //initially diffusion coefficient was.185\n",
"Dab_2=Dab_1*pt_1/pt_2;                        //for gases Dab is proportional to 1/pt\n",
"Dab=Dab_2*10^-4;                             //new diffusion coefficient \n",
"pt=pt_2*1.013*10^5;                         //new total pressure\n",
"Na=Dab*pt*log((1-ya2)/(1-ya1))/(z*R*T);    //diffusion flux in kmol/m^2*s\n",
"printf('\n  diffusion  flux when pressure is increased to 10atm :%f *10^-5 kmol/m^2*s ',Na/10^-5);\n",
"printf('\n \n so the rate of diffusion remains same on increasing the pressure');\n",
"//end"
   ]
   }
,
{
		   "cell_type": "markdown",
		   "metadata": {},
		   "source": [
			"## Example 2.13: diffusion_rate_of_acetic_acid.sce"
		   ]
		  },
  {
"cell_type": "code",
	   "execution_count": null,
	   "metadata": {
	    "collapsed": true
	   },
	   "outputs": [],
"source": [
"\n",
"clear;\n",
"clc;\n",
"printf('\t Example 2.13\n');\n",
"//position 1        moles       molefraction    weight\n",
"//   acetic acid    0.15         0.0288          9\n",
"//   water           5           0.9712          91\n",
"\n",
"//position 2         moles      molefraction      weight\n",
"//    aceitic acid     0.05         0.0092           4\n",
"//   water             5.389        0.9908          96\n",
"T=290;                         //temperature in kelvin\n",
"z=2*10^-3;                    //film thickness sorrounding the water\n",
"xa2=0.0092;                  //mole fraction of ethanol at pos.2\n",
"xa1=0.0288;                 //mole fraction of ethanol at pos.1\n",
"w1=60;                     //molecular weight of acetic acid\n",
"w2=18;                    //molecular weight of water\n",
"Dab=0.95*10^-9;           //diffusivity of acetic water sol.in m^2/s\n",
"    //av=d/m\n",
"Mavg1=xa1*w1+(1-xa1)*w2;        //average molecular wght of solution at pos 1\n",
"d1=1012;                       // density of 10 % acid\n",
"av1=d1/Mavg1;                 //value of (d/m) of copper solution\n",
"\n",
"    //for position 2\n",
"d2=1003;                    //density of 4% acid\n",
"Mavg2=xa2*w1+(1-xa2)*w2;    //average molecular wght of solution at pos.2\n",
"av2=d2/Mavg2;               //value of (d/m) of water\n",
"\n",
"allavg=(av1+av2)/2;        //average value of d/m\n",
"        \n",
"        //assuming water to be non diffusing\n",
"        \n",
"Na=Dab*(allavg)*log((1-xa2)/(1-xa1))/z;    //diffusion rate of acetic acid aacross film of non diffusing water sol.\n",
"printf('\n diffusion rate of acetic acid aacross film of non diffusing water sol. :%f *10^-7 kmol/m^2*s',Na/10^-7);\n",
"//end"
   ]
   }
,
{
		   "cell_type": "markdown",
		   "metadata": {},
		   "source": [
			"## Example 2.14: diffusion_flux_of_nitrogen.sce"
		   ]
		  },
  {
"cell_type": "code",
	   "execution_count": null,
	   "metadata": {
	    "collapsed": true
	   },
	   "outputs": [],
"source": [
"\n",
"clear;\n",
"clc;\n",
"printf('\t Example 2.14\n');\n",
"ya1=0.2;                                //molefraction at pos.1\n",
"ya2=0.1;                               //molefraction at pos.2\n",
"T=(293);                              //temperature  in kelvin\n",
"pt=1*1.013*10^5;                     //total pressure in pascal\n",
"z=0.2*10^-2;                        //gas film thickness in m\n",
"Dab=.206*10^-4;                    //diffusion coefficient in m^2/s\n",
"R=8314;                           //universal gas constant\n",
"        //for ideal gases volume fraction =mole fraction\n",
"//part (i)when N2 is non diffusing \n",
"\n",
"Na=Dab*pt*log((1-ya2)/(1-ya1))/(z*R*T);    //diffusion flux in kmol/m^2*s\n",
"printf('\n  diffusion flux if N2 is non diffusing :%f *10^-5 kmol/m^2*s ',Na/10^-5);\n",
"//part (ii) equimolar counter diffusion\n",
"\n",
"Na=Dab*pt*(ya1-ya2)/(z*R*T)             //diffusion flux in kmol/m^2*s\n",
"printf('\n  diffusion  flux of nitrogen during equimolar counter-diffusion :%f *10^-5 kmol/m^2*s ',Na/10^-5);\n",
"\n",
"//end"
   ]
   }
,
{
		   "cell_type": "markdown",
		   "metadata": {},
		   "source": [
			"## Example 2.15: diffusion_rate_of_loss_of_benzene.sce"
		   ]
		  },
  {
"cell_type": "code",
	   "execution_count": null,
	   "metadata": {
	    "collapsed": true
	   },
	   "outputs": [],
"source": [
"\n",
"clear;\n",
"clc;\n",
"printf('\t Example 2.15\n');\n",
"pa1=0.2*10^5;             //partial pressure at pos.1\n",
"pa2=0;                    //partial pressure at pos.2\n",
"r=10/2;                   //radius of tank in which benzene is stored\n",
"T=(298);                  //temperature  in kelvin\n",
"pt=1*1.013*10^5;          //total pressure in pascal\n",
"z=10*10^-3;               //gas film thickness in m\n",
"Dab=.02/3600;            //diffusion coefficient in m^2/s\n",
"R=8314;                  //universal gas constant\n",
"                        //benzene is stored in atank of dia 10m\n",
"//part (i)when air is assumed to be stagnant\n",
"\n",
"Na=Dab*pt*log((pt-pa2)/(pt-pa1))/(z*R*T);    //diffusion flux in kmol/m^2*s\n",
"rate=Na*(3.14*r^2);                    //rate of loss of benzene if air is stagnant\n",
"printf('\n  diffusion rate of loss of benzene :%f *10^-4 kmol/s ',rate/10^-4);\n",
"//end"
   ]
   }
,
{
		   "cell_type": "markdown",
		   "metadata": {},
		   "source": [
			"## Example 2.16: rate_of_diffusion_of_alcohol_water_vapour_mixture.sce"
		   ]
		  },
  {
"cell_type": "code",
	   "execution_count": null,
	   "metadata": {
	    "collapsed": true
	   },
	   "outputs": [],
"source": [
"\n",
"clear;\n",
"clc;\n",
"printf('\t Example 2.16\n');\n",
"ya2=0.1;                              //molefraction at pos.2\n",
"ya1=0.8;                             //molefraction at pos.1\n",
"T=(370);                            //temperature  in kelvin\n",
"pt=1*1.013*10^5;                   //total pressure in pascal\n",
"z=0.1*10^-3;                      //gas film thickness in m\n",
"Dab=.15*10^-2;                   //diffusion coefficient in m^2/s\n",
"R=8314;                         //universal gas constant\n",
"Area=10;                       //area of the film is 10m^2\n",
"\n",
"        //alcohol is being absorbed infrom amixture of alcohol vapour and water vapour by means of non-volatile solvent in which alcohol is soluble bt water is not \n",
"        //for gase Dab=T^3/2\n",
"        //Dab1/Dab2=(T1/T2)^3/2\n",
"\n",
"T2=370;                                         //final temperature in kelvin \n",
"T1=298;                                        //initial temperature in kelvin\n",
"Dab1=.15*10^-2;                               //initial diffusion coefficient \n",
"Dab2=((T2/T1)^(3/2))*Dab1;                   //final diffusion coefficient\n",
"Na=Dab2*pt*log((1-ya2)/(1-ya1))/(z*R*T);    //diffusion flux in kmol/m^2*s\n",
"rate=Na*3600*46*Area;                      //rate of diffusion of alcohol-water vapour in kg/hour\n",
"printf('\n  rate of diffusion of alcohol-water vapour  :%f *10^6 kg/hour ',rate/10^6);\n",
"\n",
"//end"
   ]
   }
,
{
		   "cell_type": "markdown",
		   "metadata": {},
		   "source": [
			"## Example 2.17: diffusion_rate_of_ammonia.sce"
		   ]
		  },
  {
"cell_type": "code",
	   "execution_count": null,
	   "metadata": {
	    "collapsed": true
	   },
	   "outputs": [],
"source": [
"\n",
"clear;\n",
"clc;\n",
"printf('\t Example 2.17\n');\n",
"ya2=0;                        //molefraction at pos.2\n",
"ya1=0.1;                     //molefraction at pos.1\n",
"T=(273);                    //temperature  in kelvin\n",
"pt=1*1.013*10^5;           //total pressure in pascal\n",
"z=2*10^-3;                //gas film thickness in m\n",
"Dab=.198*10^-4;           //diffusion coefficient in m^2/s\n",
"R=8314;                  //universal gas constant\n",
"        //ammonia is diffusing through an inert film 2mm thick \n",
"\n",
"        //for gase Dab=T^3/2\n",
"        //Dab1/Dab2=(T1/T2)^3/2\n",
"T2=293;                        //final temperature in kelvin \n",
"T1=273;                        //initial temperature in kelvin\n",
"Dab1=0.198*10^-4;              //initial diffusion coefficient \n",
"Dab2=((T2/T1)^(3/2))*Dab1;    //final diffusion coefficient\n",
"Na=Dab2*pt*log((1-ya2)/(1-ya1))/(z*R*T2);    //diffusion flux in kmol/m^2*s\n",
"printf('\n  flux of diffusion of ammonia through inert film :%f *10^-5 kmol/m^2*s ',Na/10^-5);\n",
"\n",
"//if pressure is also incresed from 1 to 5 atm\n",
"       //for gases Dab=(T^3/2)/pt;\n",
"        //Dab1/Dab2=(T1/T2)^3/2*(p2/p1)\n",
"T2=293;                    //final temperature in kelvin \n",
"T1=273;                    //initial temperature in kelvin\n",
"pa2=5;                    //final pressure in atm\n",
"pa1=1;                    //initial pressure in atm \n",
"p=pa2*1.013*10^5;\n",
"Dab1=.198*10^-4;                            //initial diffusion coefficient\n",
"Dab2=((T2/T1)^(3/2))*Dab1*(pa1/pa2);        //final diffusion coefficient\n",
"Na=Dab2*p*log((1-ya2)/(1-ya1))/(z*R*T2);    //diffusion flux in kmol/m^2*s\n",
"printf('\n  flux of diffusion of ammonia if temp. is 20 and pressure is 5 atm  :%f*10^-5 kmol/m^2*s ',Na/10^-5);\n",
"printf('\n \n so there is no change in flux when pressure is changed'); \n",
"//end"
   ]
   }
,
{
		   "cell_type": "markdown",
		   "metadata": {},
		   "source": [
			"## Example 2.18: rate_of_evaporatio.sce"
		   ]
		  },
  {
"cell_type": "code",
	   "execution_count": null,
	   "metadata": {
	    "collapsed": true
	   },
	   "outputs": [],
"source": [
"\n",
"clear;\n",
"clc;\n",
"printf('\t Example 2.18\n');\n",
"pa1=0.418*10^5;                //partial pressure initially\n",
"pa2=0;                        //partial pressure of pure air\n",
"r=10/2;                      //radius of tank in which benzene is stored\n",
"T=(350);                    //temperature  in kelvin\n",
"pt=1*1.013*10^5;            //total pressure in pascal\n",
"z=2*10^-3;                  //gas film thickness in m\n",
"Dab=.2*10^-4;              //diffusion coefficient in m^2/s\n",
"R=8314;                    //universal gas constant\n",
"r=0.2/2;                   //radius of open bowl is 0.2\n",
"//when air layer is assumed to be stagnant of thickness 2mm\n",
"\n",
"Na=Dab*pt*log((pt-pa2)/(pt-pa1))/(z*R*T);    //diffusion flux in kmol/m^2*s\n",
"rate=Na*(3.14*r^2)*18;                        //rate of loss of evaporation\n",
"printf('\n diffusion rate loss of evaporation :%f *10^-4 kg/s ',rate/10^-4);\n",
"//end"
   ]
   }
,
{
		   "cell_type": "markdown",
		   "metadata": {},
		   "source": [
			"## Example 2.19: diffusivity_of_the_mixture_in_stefan_tube_of_toluene_in_air.sce"
		   ]
		  },
  {
"cell_type": "code",
	   "execution_count": null,
	   "metadata": {
	    "collapsed": true
	   },
	   "outputs": [],
"source": [
"\n",
"clear;\n",
"clc;\n",
"printf('\t Example 2.19\n');\n",
"                    //stefan tube experiment\n",
"\n",
"Ml=92;                        //molecular weight of toluene\n",
"T=(312.4);                    //temperature  in kelvin\n",
"pt=1*1.013*10^5;              //total pressure in pascal\n",
"R=8314;                       //universal gas constant\n",
"t=275*3600;                   //after 275 hours the level dropped to 80mm from the top\n",
"zo=20*10^-3;                 //intially liquid toluene is at 20mm from top\n",
"zt=80*10^-3;                 //finally liquid toluene is at 80mm from top\n",
"    //air is assumed to be satgnant \n",
"d=850;                     //density in kg/m^3\n",
"pa=7.64*10^3;              //vapour pressure of toluene in at 39.4degree celcius \n",
"cal=d/Ml;                  //conc. at length at disxtance l\n",
"ca=pt/(R*T);               //total conc. \n",
"xa1=pa/pt;                //mole fraction of toluene at pt1 i.e before evaporation \n",
"xb1=1-xa1;                //mole fraction of air before evaporation i.e at pt1 \n",
"xb2=1;                    //mole fraction of air after evaporation i.e at pt.2\n",
"xa2=0;                    //mole fraction of toluene at point 2\n",
"xbm=(xb2-xb1)/(log(xb2/xb1));\n",
"        //t/(zt-zt0) = (xbm*cal*(zt+zo))/(2*c*(xa1-xa2)*t);\n",
"Dab=(xbm*cal*(zt^2-zo^2))/(2*ca*t*(xa1-xa2));\n",
"printf('\n the diffusivity of the mixture in stefan tube of toluene in air is :%f*10^-5 m^2/s',Dab/10^-5);\n",
"//end"
   ]
   }
,
{
		   "cell_type": "markdown",
		   "metadata": {},
		   "source": [
			"## Example 2.1_a: diffusivity_of_nitrogen_carbondioxide_mixture.sce"
		   ]
		  },
  {
"cell_type": "code",
	   "execution_count": null,
	   "metadata": {
	    "collapsed": true
	   },
	   "outputs": [],
"source": [
"clear;\n",
"clc;\n",
"printf('\t Example 2_1_a\n');\n",
"// let A denote nitrogen and B denote carboondioxide\n",
"rA=.3798;\n",
"rB=.3941;\n",
"rAB=(rA+rB)/2;                        //molecular seperation at collision \n",
"ebyk_A=71.4;\n",
"ebyk_B=195.2;\n",
"ebyk_AB=(ebyk_A/ebyk_B)^.5;           //energy of molecular attraction\n",
"pt=1.013*10^5;                       //absolute total pressure in pascal\n",
"T=298;                                //absolute temperature in kelvin\n",
"s=T/ebyk_AB;                        //collision function\n",
"    //from chart f(T/ebyk_AB) = 0.5   let it be = x\n",
"x=.5;                                //collision function\n",
"MA=28;                               //molecular weight of nitrogen\n",
"MB=44;                               //molecular weight of carbondioxide\n",
"Mnew=((1/MA)+(1/MB))^.5;\n",
"Dab= 10^-4*(1.084-.249*(Mnew))*T^1.5*((Mnew))/(pt*x*rAB^2);\n",
"printf('\n the diffisivity of nitrogen-carbondioxide is :%f *10^-5 m^2/s',Dab/10^-5)\n",
"//end"
   ]
   }
,
{
		   "cell_type": "markdown",
		   "metadata": {},
		   "source": [
			"## Example 2.1_b: diffusivity_of_hydrogen_chloride_mixture.sce"
		   ]
		  },
  {
"cell_type": "code",
	   "execution_count": null,
	   "metadata": {
	    "collapsed": true
	   },
	   "outputs": [],
"source": [
"\n",
"clear;\n",
"clc;\n",
"printf('\t Example 2_1_b\n');\n",
"// let A denote Hydrogen chloride and B denote air\n",
"\n",
"//'part(ii)'\n",
"rA=.3339;\n",
"rB=.3711;\n",
"rAB=(rA+rB)/2;                        //molecular seperation at collision \n",
"ebyk_A=344.7;\n",
"ebyk_B=78.6;\n",
"ebyk_AB=(ebyk_A/ebyk_B)^.5;           //energy of molecular attraction\n",
"pt=200*10^3;                          //absolute total pressure in pascal\n",
"T=298;                                //absolute temperature in kelvin\n",
"s=T/ebyk_AB;                        //collision function\n",
"    //from chart f(T/ebyk_AB) = 0.62   let it be = x\n",
"x=0.62;                                //collision function\n",
"MA=36.5;                               //molecular weight of hydrogen chloride\n",
"MB=29;                                //molecular weight of air\n",
"Mnew=((1/MA)+(1/MB))^.5;\n",
"Dab=10^-4*(1.084-.249*(Mnew))*T^1.5*((Mnew))/(pt*x*rAB^2);\n",
"printf('\n the diffisivity of hydrogen chloride-air is :%f *10^-6 m^2/s',Dab/10^-6)\n",
"\n",
"//end"
   ]
   }
,
{
		   "cell_type": "markdown",
		   "metadata": {},
		   "source": [
			"## Example 2.20: diffusion_flux_of_a_mixture_of_benzene_and_toluene.sce"
		   ]
		  },
  {
"cell_type": "code",
	   "execution_count": null,
	   "metadata": {
	    "collapsed": true
	   },
	   "outputs": [],
"source": [
"\n",
"clear;\n",
"clc;\n",
"printf('\t Example 2.20\n');\n",
"                      //this is the case of equimolar counter diffusion as the latent heat of vaporisation are very close to each other\n",
"\n",
"T=(360);                            //temperature  in kelvin\n",
"pt=372.4/760;                       //total pressure in atm\n",
"R=82.06;                           //universal gas constant\n",
"Dab=0.0506;                        //diffusion coefficient in cm^2/s \n",
"z=0.254;                          //gas layer thickness in cm\n",
"vp=368/760;                      //vapour pressure of toluene in atm\n",
"xtol=.3;                        //mole fractoin of toluene in atm\n",
"pb1=xtol*vp;                   //partial pressure of toluene\n",
"//since pb1 is .045263 bt in book it is rounded to 0.145\n",
"pb2=xtol*pt;                  //parial pressure of toluene in vapour phase\n",
"Na=Dab*(pb1-pb2)/(z*R*T);    //diffusion flux \n",
"printf('\n the diffusion flux of a mixture of benzene and toluene %f*10^-8 gmol/cm^2*s\n',Na/10^-8);\n",
"printf('\nthe negative sign indicates that the toluene is getting transferred from gas phase to liquid phase(hence the transfer of benzene is from liquid to gas phase)')\n",
"//end"
   ]
   }
,
{
		   "cell_type": "markdown",
		   "metadata": {},
		   "source": [
			"## Example 2.21: diffusivity_of_the_mixture_in_stefan_tube.sce"
		   ]
		  },
  {
"cell_type": "code",
	   "execution_count": null,
	   "metadata": {
	    "collapsed": true
	   },
	   "outputs": [],
"source": [
"\n",
"clear;\n",
"clc;\n",
"printf('\t Example 2.21\n');\n",
"                    //stefan tube experiment(pseudo steady state diffusion)\n",
"\n",
"Ml=92;                       //molecular weight of toluene\n",
"T=(303);                    //temperature  in kelvin\n",
"pt=1*1.013*10^5;            //total pressure in pascal\n",
"R=8314;                    //universal gas constant\n",
"t=275*3600;                //after 275 hours the level dropped to 80mm from the top\n",
"zo=20*10^-3;              //intially liquid toluene is at 20mm from top\n",
"zt=77.5*10^-3;            //finally liquid toluene is at 80mm from top\n",
"    //air is assumed to be satgnant \n",
"d=820;                            //density in kg/m^3\n",
"pa=(57/760)*1.0135*10^5;          //vapour pressure of toluene in at 39.4degree celcius \n",
"cal=d/Ml;                        //conc. at length at disxtance l\n",
"ca=pt/(R*T);                    //total conc. \n",
"xa1=pa/pt;                     //mole fraction of toluene at pt1 i.e before evaporation \n",
"xb1=1-xa1;                    //mole fraction of air before evaporation i.e at pt1 \n",
"xb2=1;                        //mole fraction of air after evaporation i.e at pt.2\n",
"xa2=0;                        //mole fraction of toluene at point 2\n",
"xbm=(xb2-xb1)/(log(xb2/xb1));\n",
"        //t/(zt-zt0) = (xbm*cal*(zt+zo))/(2*c*(xa1-xa2)*t);\n",
"Dab=(xbm*cal*(zt^2-zo^2))/(2*ca*t*(xa1-xa2));\n",
"printf('\n the diffusivity of the mixture in stefan tube of toluene in air is :%f*10^-5 m^2/s',Dab/10^-5);\n",
"//end"
   ]
   }
,
{
		   "cell_type": "markdown",
		   "metadata": {},
		   "source": [
			"## Example 2.22: diffusivity_of_ccl4.sce"
		   ]
		  },
  {
"cell_type": "code",
	   "execution_count": null,
	   "metadata": {
	    "collapsed": true
	   },
	   "outputs": [],
"source": [
"\n",
"clear;\n",
"clc;\n",
"printf('\t Example 2.22\n');\n",
"                    //variation in liquid level with respect to time is given below\n",
"\n",
"t=[26 185 456 1336 1958 2810 3829 4822 6385]\n",
"// let Zt-Zo= x;\n",
"x=[.25 1.29 2.32 4.39 5.47 6.70 7.38 9.03 10.48]\n",
"i=1;                //looping starts\n",
"while(i<10)\n",
"    y(i)=t(i)/x(i);                //for calculating the t/Zt-Zo value\n",
"i=i+1;\n",
"end\n",
"plot(x,y,'o-');\n",
"xtitle(' Fig.2.2 Example 22 ','X--(zi-zo),cm  --->','Y-- vs (t/(zi-zo))min/cm ---->');\n",
"slope=51.4385*60 *10^4;             //slope of the curve in 1/sec*m^2\n",
"//slope = Cal *(xblm)/(2*Dab*C*(xa1-xa2))\n",
"d=1540;                       //density in kg/m^3\n",
"Ml=154;                       //molecular weight of toluene\n",
"Cal=d/Ml ;                    //conc. at length at disxtance l in mol/m^3\n",
"\n",
"T=(321);                     //temperature  in kelvin\n",
"pt=1;                       //total pressure in atm\n",
"R=82.06;                    //universal gas constant\n",
"C=pt/(R*T) *10^3;                //total conc. in kg mol/m^3\n",
"\n",
"pa=(282/760);              //vapour pressure of toluene \n",
"xa1=pa/pt;                 //mole fraction of toluene at pt1 i.e before evaporation\n",
"xb1=1-xa1;                //mole fraction of air before evaporation i.e at pt1 \n",
"xb2=1;                    //mole fraction of air after evaporation i.e at pt.2\n",
"xa2=0;                    //mole fraction of toluene at point 2\n",
"xblm=(xb2-xb1)/(log(xb2/xb1));//log mean temp. difference\n",
"Dab = Cal *(xblm)/(2*slope*C*(xa1-xa2));    //diffusivity coefficient\n",
"printf('\n the diffusivity of the mixture by winklemann method  of toluene in air is :%f*10^-6 m^2/s',Dab/10^-6);\n",
"//end"
   ]
   }
,
{
		   "cell_type": "markdown",
		   "metadata": {},
		   "source": [
			"## Example 2.23: rate_of_transfer_of_nitrogen_and_hydrogen.sce"
		   ]
		  },
  {
"cell_type": "code",
	   "execution_count": null,
	   "metadata": {
	    "collapsed": true
	   },
	   "outputs": [],
"source": [
"\n",
"clear;\n",
"clc;\n",
"printf('\t Example 2.23\n');\n",
"                //it is the case of equimolar conter diffusion as the tube is perfectly sealed to two bulbs at the end and the pressure throughout is constant\n",
"d=0.001;\n",
"area=3.14*(d/2)^2;     //area of the bulb\n",
"T=298;                  //temperature in kelvin \n",
"p=1.013*10^5;          //total pressure of both the bulbs\n",
"R=8314;               //universal gas constant\n",
"c=p/(R*T);            //total concentration\n",
"Dab=.784*10^-4;      //diffusion coefficient in m^2/s\n",
"xa1=0.8;             //molefraction of nitrogen gas at the 1 end\n",
"xa2=0.25;            //molefraction of nitrogen gas at the 2nd end\n",
"z=.15;               //distance between the bulbs\n",
"\n",
"    //rate=area*Na;\n",
"rate=area*Dab*c*(xa1-xa2)/z;    //rate of transfer of hydrogen and hydrogen\n",
"printf('\n the rate of transfer from 1 to 2 of  nitrogen and 2 to 1of hydrogen is :%f *10^-11kmol/s',rate/10^-11);\n",
"//end"
   ]
   }
,
{
		   "cell_type": "markdown",
		   "metadata": {},
		   "source": [
			"## Example 2.24: diffusivity_of_methanol_in_carbon_tetrachloride.sce"
		   ]
		  },
  {
"cell_type": "code",
	   "execution_count": null,
	   "metadata": {
	    "collapsed": true
	   },
	   "outputs": [],
"source": [
"\n",
"clear;\n",
"clc;\n",
"printf('\t Example 2.24\n');\n",
"            //using wilke and chang empirical correlation\n",
"//Dab=(117.3*10^-18)*(phi*Mb)^0.5*T/(u*va^0.6);\n",
"\n",
"T=288;                          //temperature in kelvin\n",
"Mb=32;                          //molecular weight of methanol\n",
"phi=1.9;                        //association factor for solvent\n",
"va=(14.8+(4*24.6))*10^-3        //solute(CCl4) volume at normal BP in m^3/kmol\n",
"u=.6*10^-3;                     //viscosity of solution in kg/m*s\n",
"Dab=(117.3*10^-18)*(phi*Mb)^0.5*T/(u*va^0.6);    //diffusion coefficient in m^2/s\n",
"printf('\ndiffusivity of methanol in carbon tetrachloride is :%f*10^-9 m^2/s',Dab/10^-9);\n",
"//end"
   ]
   }
,
{
		   "cell_type": "markdown",
		   "metadata": {},
		   "source": [
			"## Example 2.25: diffusivity_of_methanol_in_water.sce"
		   ]
		  },
  {
"cell_type": "code",
	   "execution_count": null,
	   "metadata": {
	    "collapsed": true
	   },
	   "outputs": [],
"source": [
"\n",
"clear;\n",
"clc;\n",
"printf('\t Example 2.25\n');\n",
"            //using wilke and chang empirical correlation\n",
"//Dab=(117.3*10^-18)*(phi*Mb)^0.5*T/(u*va^0.6);\n",
"\n",
"T=288;                          //temperature in kelvin\n",
"Mb=18;                          //molecular weight of methanol\n",
"phi=2.26;                        //association factor for solvent\n",
"va=(2*14.8+(6*3.7)+7.4)*10^-3    //solute(water) volume at normal BP in m^3/kmol\n",
"u=1*10^-3;                     //viscosity of solution in kg/m*s\n",
"Dab=(117.3*10^-18)*(phi*Mb)^0.5*T/(u*va^0.6);    //diffusion coefficient in m^2/s\n",
"printf('\ndiffusivity of methanol in water is :%f*10^-9 m^2/s',Dab/10^-9);\n",
"//end"
   ]
   }
,
{
		   "cell_type": "markdown",
		   "metadata": {},
		   "source": [
			"## Example 2.26: rate_of_passage_of_hydroge.sce"
		   ]
		  },
  {
"cell_type": "code",
	   "execution_count": null,
	   "metadata": {
	    "collapsed": true
	   },
	   "outputs": [],
"source": [
"\n",
"clear;\n",
"clc;\n",
"printf('\t Example 2.26\n');\n",
"u=20*10^-6;                        //viscosity in Ns/m^2\n",
"pt=2666;                          //total pressure in N/m^2\n",
"pa1=pt;                            //pressure at 1\n",
"pa2=0;                             //pressure at 2\n",
"mw=32;                            //molecular weight of oxygen\n",
"R=8314;                           //universal law constant\n",
"T=373;                            //temp. in kelvin\n",
"gc=1;                        \n",
"l=(3.2*u/pt)*((R*T)/(2*3.14*gc*mw))^0.5;//mean free path\n",
"d=.2*10^-6;                        //pore diameter\n",
"s=d/l;                             //value of dia/l\n",
"        //hence knudsen diffusion occurs\n",
"Na=0.093*20*273/(760*373*22414*10^-1);         //diffusion coefficient in kmol/m^2*s\n",
"Dka=(d/3)*((8*gc*R*T)/(3.14*mw))^0.5;\n",
"len=Dka*(pa1-pa2)/(R*T*Na);                //length of the plate\n",
"printf('\n the length of the plate is :%f m ',len);\n",
"\n",
"\n",
"        //for diffusion with hydrogen\n",
"u=8.5*10^-6;                        //viscosity in Ns/m^2\n",
"pt=1333;                          //total pressure in N/m^2\n",
"pa1=pt;                            //pressure at 1\n",
"pa2=0;                             //pressure at 2\n",
"mw=2;                            //molecular weight of oxygen\n",
"R=8314;                           //universal law constant\n",
"T=298;                            //temp. in kelvin\n",
"gc=1;                        \n",
"l=(3.2*u/pt)*((R*T)/(2*3.14*gc*mw))^0.5;//mean free path\n",
"d=.2*10^-6;                        //pore diameter\n",
"s=d/l;                             //value of dia/l\n",
"        //hence knudsen diffusion occurs\n",
"Dka=(d/3)*((8*gc*R*T)/(3.14*mw))^0.5;\n",
"Na=Dka*(pa1-pa2)/(R*T*len);                //diffusion coefficient in kmol/m^2*s\n",
"printf('\n the diffusion coefficient is :%f *10^-4 kmol/m^2*s',Na/10^-6);\n",
"//end"
   ]
   }
,
{
		   "cell_type": "markdown",
		   "metadata": {},
		   "source": [
			"## Example 2.2: the_diffusivity_of_isoamyl_alcohol.sce"
		   ]
		  },
  {
"cell_type": "code",
	   "execution_count": null,
	   "metadata": {
	    "collapsed": true
	   },
	   "outputs": [],
"source": [
"\n",
"clear;\n",
"clc;\n",
"printf('\t Example 2.2\n');\n",
"                //kopp's law is valid\n",
"\n",
"u=1.145*10^-3;                        //viscosity of water1.145cp\n",
"v_a=5*.0148+12*.0037+1*.0074;         //by kopp's law\n",
"t=288;                                //temperature of water in kelvin\n",
"MB=18;                                //molecular weight of water\n",
"phi=2.26;                             //association parameter for solvent-water\n",
"\n",
"D_ab=(117.3*10^-18)*((phi*MB)^.5)*(t)/(u*(v_a)^.6);\n",
"printf('\n the diffusivity of isoamyl alcohol is :%f *10^-9 m^2/s',D_ab/10^-9);\n",
"//end"
   ]
   }
,
{
		   "cell_type": "markdown",
		   "metadata": {},
		   "source": [
			"## Example 2.3: diffusivity_of_ccl4_through_oxyge.sce"
		   ]
		  },
  {
"cell_type": "code",
	   "execution_count": null,
	   "metadata": {
	    "collapsed": true
	   },
	   "outputs": [],
"source": [
"\n",
"clear;\n",
"clc;\n",
"printf('\t Example 2.3\n');\n",
"\n",
"pa1=(33/760)*1.013*10^5;              //vapour pressure of ccl4 at 273 in pascal\n",
"pa2=0;\n",
"d=1.59;                              //density of liquid ccl4 in g/cm^3\n",
"    //considering o2 to be non diffusing and with \n",
"T=273;                             //temperature in kelvin\n",
"pt=(755/780)*1.013*10^5;          //total pressure in pascal\n",
"z=.171;                          //thickness of film\n",
"a=.82*10^-4;                    //cross-sectional area of cell in m^2\n",
"v=.0208;                       //volume of ccl4 evaporated \n",
"t=10;                         //time of evaporation\n",
"MB=154;                      //molecular wght of ccl4\n",
"rate=v*d/(MB*t);            //.0208cc of ccl4 is evaporating in 10hrs \n",
"Na=rate*10^-3/(3600*a);    //flux in kmol/m^2*S\n",
"\n",
"D_ab=Na*z*8314*273/(pt*log((pt-pa2)/(pt-pa1)));    //molecular diffusivity in m^2/s\n",
"printf('\n the  diffusivity of ccl4 through oxygen:%f *10^-6 m^2/s',D_ab/10^-6);\n",
"//end"
   ]
   }
,
{
		   "cell_type": "markdown",
		   "metadata": {},
		   "source": [
			"## Example 2.4: rate_at_which_crystal_dissolves.sce"
		   ]
		  },
  {
"cell_type": "code",
	   "execution_count": null,
	   "metadata": {
	    "collapsed": true
	   },
	   "outputs": [],
"source": [
"\n",
"clear;\n",
"clc;\n",
"printf('\t Example 2.4\n');\n",
"z=.0305*10^-3;                       //wall thickness sorrounding the crystal\n",
"x1=0.0229;\n",
"w1=160;                            //molecular weight of copper sulphate\n",
"w2=18;                            //molecular weight of water\n",
"Dab=7.29*10^-10;                 //diffusivity of copper sulphatein m^2/s\n",
"    //av=d/m\n",
"Mavg=x1*w1+(1-x1)*w2;           //average molecular wght of solution\n",
"d1=1193;                       //density of copper sulphate solution\n",
"av1=d1/Mavg;                  //value of (d/m) of copper solution\n",
"\n",
"    //for pure water\n",
"d2=1000;                            //density of water\n",
"m2=18;                             //molecular wght of water\n",
"av2=d2/m2;                        //value of (d/m) of water\n",
"allavg=(av1+av2)/2;              //average value of d/m\n",
"xa2=0;\n",
"Na=Dab*(allavg)*log((1-xa2)/(1-x1))/z;    //flux of cuso4 from crystal surface to bulk solution\n",
"printf('\n the rate at which crystal dissolves :%f *10^-5 kmol/m^2*s',Na/10^-5);\n",
"//end"
   ]
   }
,
{
		   "cell_type": "markdown",
		   "metadata": {},
		   "source": [
			"## Example 2.5_a: rate_of_diffusion_of_alcohol_water_vapour_mixture.sce"
		   ]
		  },
  {
"cell_type": "code",
	   "execution_count": null,
	   "metadata": {
	    "collapsed": true
	   },
	   "outputs": [],
"source": [
"\n",
"clear;\n",
"clc;\n",
"printf('\t Example 2.5.a\n');\n",
"//position 1    moles       molefraction\n",
"//   air        80           0.8\n",
"//   water      20           0.2\n",
"\n",
"//position 2      moles      molefraction\n",
"//    air       10           0.1\n",
"//   water      90           0.9\n",
"ya1=0.8;\n",
"ya2=0.1;\n",
"T=(273+35);                            //temperature  in kelvin\n",
"pt=1*1.013*10^5;                      //total pressure in pascal\n",
"z=0.3*10^-3;                         //gas film thickness in m\n",
"Dab=.18*10^-4;                      //diffusion coefficient in m^2/s\n",
"R=8314;                            //universal gas constant\n",
"Na=Dab*pt*(ya1-ya2)/(z*R*T)       //diffusion flux in kmol/m^2*s\n",
"rate=Na*100*10^-4*3600*46;       //since molecular weight of mixture is 46\n",
"printf('\n rate of diffusion of alcohol-water vapour :%f kg/hr ',rate);\n",
"\n",
"//end"
   ]
   }
,
{
		   "cell_type": "markdown",
		   "metadata": {},
		   "source": [
			"## Example 2.5_b: rate_of_diffusion_if_water_layer_is_stagnant.sce"
		   ]
		  },
  {
"cell_type": "code",
	   "execution_count": null,
	   "metadata": {
	    "collapsed": true
	   },
	   "outputs": [],
"source": [
"\n",
"clear;\n",
"clc;\n",
"printf('\t Example 2_5_b\n');\n",
"ya1=0.8;\n",
"ya2=0.1;\n",
"T=(273+35);                            //temperature  in kelvin\n",
"pt=1*1.013*10^5;                      //total pressure in pascal\n",
"z=0.3*10^-3;                         //gas film thickness in m\n",
"Dab=.18*10^-4;                      //diffusion coefficient in m^2/s\n",
"R=8314;                            //universal gas constant\n",
"\n",
"//diffusion through stagnant film \n",
"Na=Dab*pt*log((1-ya2)/(1-ya1))/(z*R*T);    //diffusion flux in kmol/m^2*s\n",
"rate=Na*100*10^-4*3600*46;                //since molecular weight of mixture is 46\n",
"printf('\n rate of diffusion if water layer is stagnant :%f *10^-3 kg/s ',rate/(3600*10^-3));\n",
"//end"
   ]
   }
,
{
		   "cell_type": "markdown",
		   "metadata": {},
		   "source": [
			"## Example 2.6: rate_of_loss_of_hydroge.sce"
		   ]
		  },
  {
"cell_type": "code",
	   "execution_count": null,
	   "metadata": {
	    "collapsed": true
	   },
	   "outputs": [],
"source": [
"\n",
"clear;\n",
"clc;\n",
"printf('\t Example 2.6\n');\n",
"T=298;                            //temperature in kelvin\n",
"pt=1*1.013*10^5;                //total pressure in pascal\n",
"ID=25*10^-3;                   //internal diameter in m of unvulcanised rubber in m\n",
"OD=50*10^-3;                  //internal diameter in m of unvulcanised rubber in m\n",
"Ca1=2.37*10^-3;              //conc. of hydrogen at the inner surface of the pipe in kmol/m^3\n",
"Ca2=0;                            //conc. of hydrogen at 2\n",
"Dab=1.8*10^-10;                  //diffusion coefficient in cm^2/s\n",
"l=2;                            //length of pipe in m\n",
"//    Va=Da*Sa*(pa1-pa2)/z;\n",
"z=(50-25)*10^-3/2;                        //wall thickness in m\n",
"Va=Dab*(Ca1-Ca2)/z;                      //diffusion through a flat slab of thickness z \n",
"Sa=2*3.14*l*(OD-ID)/(2*log(OD/ID));    //average mass transfer area of \n",
"rate=Va*Sa;                           //rate of loss of hydrogen by diffusion\n",
"printf('\n rate of loss hydrogen by diffusion through a pipe of 2m length :%f*10^-12kmol/s',rate/10^-12);\n",
"//end"
   ]
   }
,
{
		   "cell_type": "markdown",
		   "metadata": {},
		   "source": [
			"## Example 2.7: ammonia_diffusion_through_nitrogen.sce"
		   ]
		  },
  {
"cell_type": "code",
	   "execution_count": null,
	   "metadata": {
	    "collapsed": true
	   },
	   "outputs": [],
"source": [
"\n",
"clear;\n",
"clc;\n",
"printf('\t Example 2.7\n');\n",
"\n",
"pa1=(1.5)*10^4;                //vapour pressure of ammonia at pt.1 \n",
"pa2=(0.5)*10^4;                //vapour pressure of ammonia at pt.2\n",
"Dab=2.3*10^-5                  //molecular diffusivity in m^2/s\n",
"z=0.15;                        //diffusion path in m\n",
"R=8314;                       //universal gas constant    \n",
"    //ammonia diffuses through nitrogen under equimolar counter diffusion\n",
"T=298;                        //temperature in kelvin\n",
"pt=1.013*10^5;                //total pressure in pascal\n",
"Na=Dab*(pa1-pa2)/(z*R*T);    //flux in kmol/m^2*S\n",
"printf('\n the ammonia diffusion through nitrogen under equimolar counter diffusion:%f *10^-7 kmol/m^2*s',Na/10^-7);\n",
"//end"
   ]
   }
,
{
		   "cell_type": "markdown",
		   "metadata": {},
		   "source": [
			"## Example 2.8: rate_at_which_crystal_dissolves.sce"
		   ]
		  },
  {
"cell_type": "code",
	   "execution_count": null,
	   "metadata": {
	    "collapsed": true
	   },
	   "outputs": [],
"source": [
"\n",
"clear;\n",
"clc;\n",
"printf('\t Example 2.8\n');\n",
"//position 1    moles       molefraction    weight\n",
"//   ethanol    0.1478         0.02775      6.80\n",
"//   water      5.18           0.9722       93.20\n",
"\n",
"//position 2    moles      molefraction      weight\n",
"//    ethanol   0.235         0.0453        10.8\n",
"//   water      4.96        0.9547          89.20\n",
"z=0.4*10^-2;                   //film thickness sorrounding the crystal\n",
"xa1=0.0453;                  //mole fraction of ethanol at pos.2\n",
"xa2=0.02775;                //mole fraction of ethanol at pos.1\n",
"w1=46;                    //molecular weight of ethanol\n",
"w2=18;                   //molecular weight of water\n",
"Dab=74*10^-5*10^-4;    //diffusivity of ethanol water sol.in m^2/s\n",
"    //av=d/m\n",
"Mavg1=xa2*w1+(1-xa2)*w2;        //average molecular wght of solution at pos 1\n",
"d1=0.9881*10^3;                // density of 6.8 wt%  solution\n",
"av1=d1/Mavg1;                 //value of (d/m) of copper solution\n",
"\n",
"    //for pure water\n",
"d2=972.8;                                      // density of 10.8 wt%  solution\n",
"Mavg2=xa1*w1+(1-xa1)*w2;                      //average molecular wght of solution at pos.2\n",
"av2=d2/Mavg2;                               //value of (d/m) of water\n",
"\n",
"allavg=(av1+av2)/2;                        //average value of d/m\n",
"Na=Dab*(allavg)*log((1-xa2)/(1-xa1))/z;   //steady state flux in kmol/m^2*s of ethanol water sol.\n",
"printf('\n the rate at which crystal dissolves :%f *10^-5 kmol/m^2*s',Na/10^-5);\n",
"//end"
   ]
   }
,
{
		   "cell_type": "markdown",
		   "metadata": {},
		   "source": [
			"## Example 2.9: diffusion_rate_of_acetic_acid.sce"
		   ]
		  },
  {
"cell_type": "code",
	   "execution_count": null,
	   "metadata": {
	    "collapsed": true
	   },
	   "outputs": [],
"source": [
"\n",
"clear;\n",
"clc;\n",
"printf('\t Example 2.9\n');\n",
"//position 1        kmoles       molefraction    weight\n",
"//   acetic acid    0.167         0.0323      10\n",
"//   water           5           0.9677       90\n",
"\n",
"//position 2         kmoles      molefraction      weight\n",
"//    aceitic acid     0.067         0.0124        4\n",
"//   water             5.33        0.9876          96\n",
"\n",
"            //basis : 100kg of mixture\n",
"z=2*10^-3;                    //film thickness sorrounding the water\n",
"xa1=0.0323;                   //mole fraction of ethanol at pos.2\n",
"xa2=0.0124;                  //mole fraction of ethanol at pos.1\n",
"w1=60;                      //molecular weight of acetic acid\n",
"w2=18;                     //molecular weight of water\n",
"Dab=0.000095;             //diffusivity of acetic water sol.in m^2/s\n",
"    //av=d/m\n",
"Mavg1=xa1*w1+(1-xa1)*w2;    //average molecular wght of solution at pos 1\n",
"d1=1013;                    // density of 10 % acid\n",
"av1=d1/Mavg1;              //value of (d/m) of copper solution\n",
"\n",
"    //for pure water\n",
"d2=1004;                    //density of 4% acid\n",
"Mavg2=xa2*w1+(1-xa2)*w2;    //average molecular wght of solution at pos.2\n",
"av2=d2/Mavg2;                //value of (d/m) of water\n",
"\n",
"allavg=(av1+av2)/2;        //average value of d/m\n",
"        //assuming water to be non diffusing\n",
"Na=Dab*(allavg)*log((1-xa2)/(1-xa1))/z;    //diffusion rate of acetic acid aacross film of non diffusing water sol.\n",
"printf('\n diffusion rate of acetic acid aacross film of non diffusing water sol. :%f kmol/m^2*s',Na);\n",
"//end"
   ]
   }
],
"metadata": {
		  "kernelspec": {
		   "display_name": "Scilab",
		   "language": "scilab",
		   "name": "scilab"
		  },
		  "language_info": {
		   "file_extension": ".sce",
		   "help_links": [
			{
			 "text": "MetaKernel Magics",
			 "url": "https://github.com/calysto/metakernel/blob/master/metakernel/magics/README.md"
			}
		   ],
		   "mimetype": "text/x-octave",
		   "name": "scilab",
		   "version": "0.7.1"
		  }
		 },
		 "nbformat": 4,
		 "nbformat_minor": 0
}
