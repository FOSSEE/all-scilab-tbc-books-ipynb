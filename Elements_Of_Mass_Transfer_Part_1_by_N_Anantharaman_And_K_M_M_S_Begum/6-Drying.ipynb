{
"cells": [
 {
		   "cell_type": "markdown",
	   "metadata": {},
	   "source": [
       "# Chapter 6: Drying"
	   ]
	},
{
		   "cell_type": "markdown",
		   "metadata": {},
		   "source": [
			"## Example 6.10: time_for_drying_the_moist_material.sce"
		   ]
		  },
  {
"cell_type": "code",
	   "execution_count": null,
	   "metadata": {
	    "collapsed": true
	   },
	   "outputs": [],
"source": [
"\n",
"clear;\n",
"clc;\n",
"printf('\t Example 6.10\n');\n",
"            //determine the drying condition of sample 0.3*0.3 size.sheet lost weight at rate of 10^-4 kg/s until the moisture fell to 60 percent\n",
"\n",
"//Ls/ A*Nc is unknown;\n",
"\n",
"Xcr=0.16;             //crtical moisture content\n",
"X1=.33;               //moisture content on dry basis intially\n",
"X2=0.09;              //moisture content on dry basis finally after drying\n",
"Xbar=.05;            //equillibrium moisture \n",
"tbar=7;              //time needed to dry from 33 to 9 percent on bone dry basis\n",
"\n",
"    //let Ls / A*Nc be = p\n",
"p=poly([0],'p');        //calc. of Ls / A*Nc be = p value\n",
"x=roots(tbar-p * ((X1-Xcr)+(Xcr-Xbar)*log((Xcr-Xbar)/(X2-Xbar))));\n",
"\n",
"//new X1 AND X2 are now given as follows\n",
"X1=0.37;              //new moisture content on dry basis intially\n",
"X2=0.07;               //new moisture content on dry basis finally after drying\n",
"tbar=x * ((X1-Xcr)+(Xcr-Xbar)*log((Xcr-Xbar)/(X2-Xbar)));\n",
"printf('\n the time for drying the sheets from 33 to 9  percent moisture under same drying conditions is :%f hr',tbar);\n",
"\n",
"//end"
   ]
   }
,
{
		   "cell_type": "markdown",
		   "metadata": {},
		   "source": [
			"## Example 6.11: time_for_drying_the_slab_from_65_to_30_percent.sce"
		   ]
		  },
  {
"cell_type": "code",
	   "execution_count": null,
	   "metadata": {
	    "collapsed": true
	   },
	   "outputs": [],
"source": [
"\n",
"clear;\n",
"clc;\n",
"printf('\t Example 6.11\n');\n",
"            \n",
"d=.22;                    //density of dry pulp in g/cc;\n",
"x1=.65;                //moisture content on wet basis\n",
"x2=.3;                //moisture content on wet basis\n",
"Ls=2.5;                //mass of bone dry solid ais the drying surface in kg\n",
"A=1.5*1.5*2;            //both upper surafce and lower surface are exposed\n",
"v=1.5*1.5*.5;           //volume of material\n",
"Nc=1.4;                 //in kg/m^2*hr\n",
"Xcr=1.67;              //crtical moisture content\n",
"X1=x1/(1-x1);                 //moisture content on dry basis  intially\n",
"X2=x2/(1-x2);              //moisture content on dry basis  finally after drying\n",
"Xbar=0.0;             //equillibrium moisture \n",
"\n",
"        //initial moisture is more than Xcr, so there is constant rate drying period and only falling rate peroid is observed\n",
"tbar=(Ls/(A*Nc))*((X1-Xcr)+(Xcr-Xbar)*log((Xcr-Xbar)/(X2-Xbar)));\n",
"printf('\n the time for drying the sheets from 65 to 30 percent moisture under same drying conditions is :%f hour',tbar);\n",
"\n",
"//end"
   ]
   }
,
{
		   "cell_type": "markdown",
		   "metadata": {},
		   "source": [
			"## Example 6.12: time_for_drying_the_slab.sce"
		   ]
		  },
  {
"cell_type": "code",
	   "execution_count": null,
	   "metadata": {
	    "collapsed": true
	   },
	   "outputs": [],
"source": [
"\n",
"clear;\n",
"clc;\n",
"printf('\t Example 6.12\n');\n",
"            \n",
"d=.22;                    //density of dry pulp in g/cc;\n",
"\n",
"Ls=1.125*10^-2*.22*10^3;                //mass of bone dry solid ais the drying surface\n",
"A=1.5*1.5*2;            //both upper surafce and lower surface are exposed\n",
"v=1.5*1.5*.5;           //volume of material\n",
"Nc=1.4;                //in kg/m^2*hr\n",
"x2=.2;                //moisture content on wet basis  finally after drying\n",
"Xcr=0.46;              //crtical moisture content\n",
"X1=0.15;                 //moisture content on dry basis  intially\n",
"X2=0.085;              //moisture content on dry basis  finally after drying\n",
"Xbar=0.025;        //equillibrium moisture \n",
"\n",
"//tbar=(Ls/(A*Nc))*((Xcr-Xbar)*log((Xcr-Xbar)/(X2-Xbar)));\n",
"        // but initial moisture is more than Xcr, so there is constant rate drying period and only falling rate peroid is observed\n",
"tbar=(Ls/(A*Nc))*((Xcr-Xbar)*log((X1-Xbar)/(X2-Xbar)));\n",
"printf('\n the time for drying the sheets from 15 to 8.5 percent moisture under same drying conditions is :%f min',tbar*60);\n",
"\n",
"//end"
   ]
   }
,
{
		   "cell_type": "markdown",
		   "metadata": {},
		   "source": [
			"## Example 6.13: time_for_drying_the_filter_cake.sce"
		   ]
		  },
  {
"cell_type": "code",
	   "execution_count": null,
	   "metadata": {
	    "collapsed": true
	   },
	   "outputs": [],
"source": [
"\n",
"clear;\n",
"clc;\n",
"printf('\t Example 6.13\n');\n",
"\n",
"//Ls/ A*Nc is unknown;\n",
"\n",
"Xcr=0.14;             //crtical moisture content\n",
"x1=0.3;                //moisture content on wet basis\n",
"x2=0.1;                //moisture content on wet basis\n",
"X1=x1/(1-x1);               //moisture content on dry basis intially\n",
"X2=x2/(1-x2);              //moisture content on dry basis finally after drying\n",
"Xbar=0.04;            //equillibrium moisture \n",
"tbar=5;              //time needed to dry from 30 to 10 percent on bone dry basis\n",
"\n",
"    //let Ls / A*Nc be = p\n",
"p=poly([0],'p');        //calc. of Ls / A*Nc be = p value\n",
"x=roots(tbar-p * ((X1-Xcr)+(Xcr-Xbar)*log((Xcr-Xbar)/(X2-Xbar))));\n",
"\n",
"//new X1 AND X2 are now given as follows\n",
"x1=.3;                //new moisture content on wet basis\n",
"x2=0.06;                //new moisture content on wet basis\n",
"X1=x1/(1-x1);              //new moisture content on dry basis intially\n",
"X2=x2/(1-x2);              //new moisture content on dry basis finally after drying\n",
"tbar=x * ((X1-Xcr)+(Xcr-Xbar)*log((Xcr-Xbar)/(X2-Xbar)));\n",
"printf('\n the time for drying the sheets from 30 to 10  percent moisture under same drying conditions is :%f hr',tbar);\n",
"\n",
"//end"
   ]
   }
,
{
		   "cell_type": "markdown",
		   "metadata": {},
		   "source": [
			"## Example 6.14: time_for_drying_the_sheets.sce"
		   ]
		  },
  {
"cell_type": "code",
	   "execution_count": null,
	   "metadata": {
	    "collapsed": true
	   },
	   "outputs": [],
"source": [
"\n",
"clear;\n",
"clc;\n",
"printf('\t Example 6.14\n');\n",
"            \n",
"d=450;                    //density of dry pulp in kg/m^3;\n",
"thickness=0.05;           //thickness in m^2\n",
"Ls=d*thickness;           //mass of bone dry solid ais the drying surface\n",
"A=1;                    //area in m^2\n",
"v=1*5*10^-2;           //volume of material\n",
"Nc=4.8;                //in kg/m^2*hr\n",
"xcr=.2;\n",
"xbar=0.02;\n",
"x1=.45;                //new moisture content on wet basis\n",
"x2=0.05;                //new moisture content on wet basis\n",
"X1=x1/(1-x1);              //new moisture content on dry basis intially\n",
"X2=x2/(1-x2);              //new moisture content on dry basis finally after drying\n",
"Xbar=xbar/(1-xbar);              //crtical moisture content\n",
"Xcr=xcr/(1-xcr);        //equillibrium moisture \n",
"\n",
"//tbar=(Ls/(A*Nc))*((Xcr-Xbar)*log((Xcr-Xbar)/(X2-Xbar)));\n",
"        // but initial moisture is more than Xcr, so there is constant rate drying period and only falling rate peroid is observed\n",
"tbar=Ls/(A*Nc) * ((X1-Xcr)+(Xcr-Xbar)*log((Xcr-Xbar)/(X2-Xbar)));\n",
"printf('\n the time for drying the sheets from 45 to 5 percent moisture under same drying conditions is :%f min',tbar);\n",
"\n",
"//end"
   ]
   }
,
{
		   "cell_type": "markdown",
		   "metadata": {},
		   "source": [
			"## Example 6.15: heater_load_per_unit_mass_of_dry_air.sce"
		   ]
		  },
  {
"cell_type": "code",
	   "execution_count": null,
	   "metadata": {
	    "collapsed": true
	   },
	   "outputs": [],
"source": [
"\n",
"clear;\n",
"clc;\n",
"printf('\t Example 6.15\n');\n",
"\n",
"t1=20;                   //ambient air temperature \n",
"t2=70;                   //exhaust air temperature \n",
"r1=150;                  //evaporation of water \n",
"r2=.25;                 //outlet solid moisture content\n",
"t3=15;                //inlet solid temperature\n",
"t4=65;                  //outlet solid temperature\n",
"p=5;                   //power demand in KW\n",
"h=18;                  //heat loss in kj\n",
"\n",
"h1=1;                    //mean specific heat of dry air in kj/kg*K\n",
"h2=1.25;                    //mean specific heat of dry material in kj/kg*K\n",
"h3=4.18;                    //mean specific heat of moisture in kj/kg*K\n",
"e=2626;                    //enthalpy of saturated water vapour in kj/kg\n",
"\n",
"            //basis is 1hr\n",
"a1=r1*h3*(t4-t3);          //heat required for heating 150 kg of water from 15 to 65\n",
"a2=r1*e;                   //heat required for 150 kg water evaporation\n",
"a3=2000*h1*(t2-t1);        //heat required for heating air from 20 to 70 \n",
"a4=r2*h3*(t4-t3);          //heat required for heating moisture from 15 to 65\n",
"a5=120*h2*(t4-t3);         //heat required for heating dry solid from 15 to 65\n",
"hlost=h*3600;             //heat lost in kj\n",
"total=(a2+a3+a4+a5+hlost)/3600;    //total heat lost \n",
"printf('\n :%f  kW of heat required for 2000kg/hr of dry air',total);\n",
"ans1=a2+a1;            //heat needed for evaporation \n",
"printf('\n heat needed fro evaporation is :%f',ans1/3600);\n",
"ans2=(ans1/3600)/total;    //fraction of this heat needed for evaporation\n",
"printf('\n fraction of this heat needed for evaporation:%f',ans2);\n",
" \n",
"\n",
"//end"
   ]
   }
,
{
		   "cell_type": "markdown",
		   "metadata": {},
		   "source": [
			"## Example 6.16: surface_area_of_the_roller.sce"
		   ]
		  },
  {
"cell_type": "code",
	   "execution_count": null,
	   "metadata": {
	    "collapsed": true
	   },
	   "outputs": [],
"source": [
"\n",
"clear;\n",
"clc;\n",
"printf('\t Example 6.16\n');\n",
"m1=.12;                    //initial moisture content\n",
"dT=85;                    //product of 85 degree is used in design purpose\n",
"U=1700;                   //overall heat transfer coefficient\n",
"m2=.4;                    //final moisture content\n",
"r=20;                   //production rate\n",
"    //4 kg of moisture is present in 100 kg product\n",
"t=4*20/100;            // moisture content in 20 kg moisture\n",
"w=20-t;                //dry solid weight\n",
"i=w*m1/(1-m1);        //initial moisture content \n",
"j=i-t                //water evaporated\n",
"ds=2296.1;           //latent heat for vaporisation at 85 degree in kj/kg\n",
"h=j*ds;                //heat required (assuming th esolid mix. enters at 85)\n",
"//U*A*dT = j*ds\n",
"A=h/(U*dT);            //surface area of the roller required to produce aproduction rate of 20 kg product per hour\n",
"printf('\n surface area of the roller required to produce aproduction rate of 20 kg product per hour:%f m^2',A/3.600);\n",
"\n",
"//end"
   ]
   }
,
{
		   "cell_type": "markdown",
		   "metadata": {},
		   "source": [
			"## Example 6.17: time_for_drying_the_sheets.sce"
		   ]
		  },
  {
"cell_type": "code",
	   "execution_count": null,
	   "metadata": {
	    "collapsed": true
	   },
	   "outputs": [],
"source": [
"\n",
"clear;\n",
"clc;\n",
"printf('\t Example 6.17\n');\n",
"            //moisture content reduces from 25 to 2\n",
"r=7.5*10^-5;                    //constant drying rate in kg/s\n",
"A1=.3*.3**2;                    // area of the sppecimen\n",
"Nc=r/A1;                        //drying rate\n",
"Xcr=.15/0.85;                    //.15 is the critical moisture content\n",
"Xo=.25/.75;                    //.25 is the initial moisture content\n",
"Xfinal=.02/0.98;               //.02 is the final moisture content\n",
"Xbar=0;                      //equillibrium moisture content\n",
"A=1.2*.6*2;                 //area of the new solid\n",
"Ls=28.8;                     //bone dry weight of new solid\n",
"v1=.3*.3*.006;               //volume of the old solid;\n",
"v2=.6*1.2*.012;              //volume of the new solid\n",
"w2=1.8;                     //weight of the old solid\n",
"w3=864*10^-5*1.8*10^-5/54;   //weight of the bone dry solid\n",
"\n",
"    //Nc is prporional to =(t-ts) = (G)^0.71---- whrere G is the mass flow rate\n",
"v1=3;                      //old velocity\n",
"Tg=52;                     //old dry bulb temperature\n",
"Tw=21;                     //wet bulb temperature\n",
"H=.002;                    //humidity \n",
"SH=0.015;                  //saturated humidity \n",
"vnew=5                    //new velocity\n",
"Tgnew=66;                 //new DBT\n",
"Twnew=24;                 //new WBT\n",
"Hnew=.004;               //new humidity\n",
"SH=.020;                //new satuurated humidity\n",
"            \n",
"            //hence drying rate of air under new condition\n",
"Nc=4.167*10^-4*((vnew/v1)*(273+Tg)/(273+Tgnew))^0.71 * ((.019-H)/(.015-H));//drying rate of air under new condition in kg/m^2*s \n",
"DT=Ls/(A*Nc) * ((Xo-Xcr)+(Xcr-Xbar)*log((Xcr-Xbar)/(Xfinal-Xbar)));\n",
"printf('\n the time for drying the sheets from 25 to 2 percent moisture under same drying conditions is :%f hours',DT/3600);\n",
"\n",
"\n",
"//end"
   ]
   }
,
{
		   "cell_type": "markdown",
		   "metadata": {},
		   "source": [
			"## Example 6.1: Calculation_of_the_solid_temp.sce"
		   ]
		  },
  {
"cell_type": "code",
	   "execution_count": null,
	   "metadata": {
	    "collapsed": true
	   },
	   "outputs": [],
"source": [
"\n",
"clear;\n",
"clc;\n",
"printf('\t Example 6.1\n');\n",
"\n",
"    //air leaves the pre-heater of the dryer at 325K\n",
"\n",
"H1=.005;                        //humidity of incoming air per kg of dry air\n",
"T1=25;                          //wet bulb temperature\n",
"    //moisture is removed along constant wet bulb temp. till 60per R.H is reached\n",
"// from the chart ,humidity of ai rleaving first shelf =.016 kg water /kg dry air.\n",
"\n",
"//dry bulb temp. of exit air is at 27 degree aand is at humidity of .016 kg water/kg dry air.the air is again heated to 52 degree dry bulb temp. in 2nd heater .\n",
"\n",
"    //so air leaves heater at 52 degree and humidity of .016 kg water/kg dry air. when it leaves the 2nd shelf the correspondin dry bulb temp. is 34 degree and humidity is .023 kg water/kg dry air. the air enters the 3rd shelf after preheating to 52 degree . \n",
"    \n",
"//similarly fro 3rd shelf , exit air has a humidity of .028 kg water/kg dry air and adry bulb temp. is 39 degree. the air is leaving the 4rth shelf has a humidity of .016 kg water/kg dry air and adry bulb temp. of 42 degree(the figure is only indicative and doed not correspond toactual one)\n",
"\n",
"printf('\n  the solid temp. correspond to wbt and they are 23, 27,32 and 34  degree respectively');\n",
"\n",
"        //part(ii)\n",
"Ybar=.032;                 //kg water/kg dry air//final moist air condotions \n",
"T2=42;                    //dry bulb temperature\n",
"Mair=28.84;               //molecular weight of air \n",
"Mwater=18;                  //molecular weight of water\n",
"pt=1.013*10^5;            //total pressure in pascal\n",
"Vh=8315*((1/Mair)+(Ybar/Mwater))*((T2+273)/pt);\n",
"r=300;                    //flow rate of moist air leaving the dryer\n",
"a=r*60/Vh;               //amount of dry air leaving /hr\n",
"w=a*(Ybar-0.005);         // water removed /hr\n",
"printf('\n the water removed /hr is :%fkg /hr',w);\n",
"\n",
"//end"
   ]
   }
,
{
		   "cell_type": "markdown",
		   "metadata": {},
		   "source": [
			"## Example 6.2: time_for_drying.sce"
		   ]
		  },
  {
"cell_type": "code",
	   "execution_count": null,
	   "metadata": {
	    "collapsed": true
	   },
	   "outputs": [],
"source": [
"\n",
"clear;\n",
"clc;\n",
"printf('\t Example 6.2\n');\n",
"//table    X*100,(kgmoisture/kg dry solid)   N*100 (kg moisture evaporated /hr*m^2)\n",
"                \n",
"//                35                                    30\n",
"//                25                                    30\n",
"//                20                                    30\n",
"//                18                                    26.6\n",
"//                16                                    23.9\n",
"//                14                                    20.8\n",
"//                12                                    18\n",
"//                10                                    15\n",
"//                9                                     9.7\n",
"//                8                                     7\n",
"//                7                                     4.3\n",
"//                6.4                                   2.511111\n",
"\n",
"\n",
"Ls=262.5;                   //mass of bone dry solid ais the drying surface\n",
"A=262.5/8;                 //both upper surafce and lower surface are exposed\n",
"Nc=0.3;                   //in kg/m^2*hr\n",
"x2=.06;                  //moisture content on wet basis  finally after drying\n",
"x1=.25;                 //moisture content on wet basis  finally after drying\n",
"Xcr=0.20;              //crtical moisture content\n",
"X1=x1/(1-x1);                     //moisture content on dry basis  intially\n",
"X2=x2/(1-x2);                    //moisture content on dry basis  finally after drying\n",
"Xbar=0.025;                     //equillibrium moisture \n",
" \n",
"t1=Ls/(A*Nc) *(X1-Xcr);       //so for constant rate period \n",
"\n",
"//for falling rate period we find time graphically\n",
"p = [.20 .18 .16 .14 .12 .10 .09 .08 .07 .064];\n",
"a = [3.3 5.56 6.25 7.14 8.32 10.00 11.11 12.5 14.29 15.625];\n",
"\n",
"plot(p,a,'o-');\n",
"title('Fig.6.18 Example2 1/N vs X for fallling rate period');\n",
"xlabel('X-- Moisture content, X(kg/kg)');\n",
"ylabel('Y-- 1/N, hr,m^2/kg');\n",
"\n",
"Area=1.116;                //area under the curve\n",
"t2=Area *Ls/A;            //falling rate period we find time graphically\n",
"ttotal=t1+t2;            //total time for drying\n",
"printf('\n the total time for drying the wet slab on wet basis is :%f min',ttotal);\n",
"//end"
   ]
   }
,
{
		   "cell_type": "markdown",
		   "metadata": {},
		   "source": [
			"## Example 6.3_a: plots_of_drying_rate_curve.sce"
		   ]
		  },
  {
"cell_type": "code",
	   "execution_count": null,
	   "metadata": {
	    "collapsed": true
	   },
	   "outputs": [],
"source": [
"\n",
"clear;\n",
"clc;\n",
"printf('\t Example 6_3_a\n');\n",
"    //part(i)\n",
"//table wt of wet slab,kg  -- 5.0   4.0   3.6   3.5  3.4  3.06  2.85\n",
"//      drying rate,kg/m^2s-- 5.0   5.0   4.5   4.0  3.5  2.00  1.00\n",
"//      X,Dry basis        -- 1.0   0.6   .44   0.4  .36  .224  0.14\n",
"// equillibrium relation is given under\n",
"p = [1.0   0.6   .44   0.4  .36  .224  0.14];\n",
"a = [5.0   5.0   4.5   4.0  3.5  2.00  1.00];\n",
"\n",
"i=1;                            //looping for calc. of 1/N \n",
"while(i<8)                     //looping begins\n",
"t(i)=1/(a(i));\n",
"i=i+1;\n",
"end                         //as 1/N plot is needed\n",
"\n",
"plot(p,a,'o-');\n",
"title('Fig.6.19(a) Example3  Drying Rate curve');\n",
"xlabel('X-- Moisture content, X(kg/kg) ---->');\n",
"ylabel('Y-- Drying Rate, N(kg/hr.m^2 ---->');\n",
"xset('window',1);\n",
"plot(p,t,'o-');\n",
"title('Fig.6.19(b) Example3 1/N vs X');\n",
"xlabel('X-- Moisture content, X(kg/kg) --->');\n",
"ylabel('Y-- 1/N, hr,m^2/kg --->');\n",
"//from X=0.6 to 0.44 ,falling rate is non linear and from X=.44 to .14 falling rate is linear\n",
"\n",
"printf('\n from the graph we get critical moisture content as 0.6 kg moisture/kg dry solid');\n",
"\n",
"//end"
   ]
   }
,
{
		   "cell_type": "markdown",
		   "metadata": {},
		   "source": [
			"## Example 6.3_b: total_time_for_drying.sce"
		   ]
		  },
  {
"cell_type": "code",
	   "execution_count": null,
	   "metadata": {
	    "collapsed": true
	   },
	   "outputs": [],
"source": [
"\n",
"\n",
"clear;\n",
"clc;\n",
"printf('\t Example 6_3_b\n');\n",
"\n",
"\n",
"    //part(ii)\n",
"w1=5;                           //wet of wet solid\n",
"c1=.5/(1-.5);                   //moisture content per kg wet solid\n",
"w2=5*0.5;                       //moisture for 5kg wet solid\n",
"w3=w1-w2;                       //weight of dry solid\n",
"xbar=0.05;                      //equillibrium moisture content\n",
"Xbar=xbar/(1-xbar);             //equillibrium moisture content\n",
"Ls=2.5;                        //mass of bone dry solid ais the drying surface\n",
"A=5;                          //both upper surafce and lower surface are exposed\n",
"Nc=0.6;                        //in kg/m^2*hr\n",
"//from X=0.6 to 0.44 ,falling rate is non linear and from X=.44 to .14 falling rate is linear\n",
"X2=.15/(1-.15);\n",
"Xcr=.6;                      //kg moisture per kg dry solid\n",
"//so we can find time fro drying from 0.6 to .44 graphically and then for X=.44 to .1765\n",
"X1=1;                      //moisture content on dry basis  intially\n",
"t1=Ls/(A*Nc) *(X1-Xcr);        //time taken for constant drying rate(fromX=1 to .6)        \n",
"X1=.44;                      //moisture content on dry basis\n",
"t2=(Ls/(A*Nc))*((Xcr-Xbar)*log((X1-Xbar)/(X2-Xbar)));\n",
"t3=0.0336*Ls/Nc;              //fro graph we get from X=.6 to .44\n",
"ttotal=t1+t2+t3;                 //total time for drying the wet slab\n",
"printf('\n the total time for drying the wet slab to 15 percent moisture on wet basis is :%f min',ttotal*60);\n",
"\n",
"//end"
   ]
   }
,
{
		   "cell_type": "markdown",
		   "metadata": {},
		   "source": [
			"## Example 6.4: time_for_drying_the_sheets.sce"
		   ]
		  },
  {
"cell_type": "code",
	   "execution_count": null,
	   "metadata": {
	    "collapsed": true
	   },
	   "outputs": [],
"source": [
"\n",
"clear;\n",
"clc;\n",
"printf('\t Example 6.4\n');\n",
"            \n",
"//table X-- .30   .20   .18   .15  .14  .11  .07  .05\n",
"//      N-- 1.22  1.22  1.14  .90  .80  .56  .22  .05\n",
"//let Ls/A=p\n",
"p=48;                   //mass of bone dry solid ais the drying surface\n",
"v=1.5*1.5*.5;           //volume of material\n",
"Nc=1.22;                //in kg/m^2*hr\n",
"Xcr=0.2;                //crtical moisture content\n",
"X1=0.25;              //moisture content on dry basis  intially\n",
"X2=0.08;               //moisture content on dry basis  finally after drying\n",
"Xbar=0.025;           //equillibrium moisture \n",
"\n",
"//tbar=(Ls/(A*Nc))*((Xcr-Xbar)*log((Xcr-Xbar)/(X2-Xbar)));\n",
"\n",
"t1=p/(Nc) * (X1-Xcr);    //time taken for constant drying rate period \n",
"//table X-- .18     .15     .14   .11     .07     .05\n",
"//    1/N-- .8772   1.11   1.25   1.7857  4.545   20\n",
"\n",
"// equillibrium relation is given under\n",
"p = [.18 .15 .14 .11 .07 .05];\n",
"a = [.8772 1.11 1.25 1.7857 4.545 20];\n",
"\n",
"plot(p,a,'o-');\n",
"title('Fig.6.20 Example4 1/N vs X for fallling rate period');\n",
"xlabel('X-- Moisture content, X(kg/kg) ---->');\n",
"ylabel('Y-- 1/N, hr,m^2/kg ---->');\n",
"\n",
"a=14*.025*1;         //area under the curve\n",
"t2=a*48;            //time taken for varying drying period\n",
"ttotal=t1+t2;       //total time taken  \n",
"printf('\n total time for drying the material from 25 to 8 percent moisture under same drying conditions is :%f hr',ttotal);\n",
"\n",
"//end"
   ]
   }
,
{
		   "cell_type": "markdown",
		   "metadata": {},
		   "source": [
			"## Example 6.5_a: Calculation_and_plot_of_drying_rates.sce"
		   ]
		  },
  {
"cell_type": "code",
	   "execution_count": null,
	   "metadata": {
	    "collapsed": true
	   },
	   "outputs": [],
"source": [
"\n",
"clear;\n",
"clc;\n",
"printf('\t Example 6_5_a\n');\n",
"\n",
"//table 6.5.1\n",
"//S.NO.       Time (Hr)                   weight of wet material(kg)\n",
"//                0.0                                    5.314\n",
"//                0.4                                    5.238\n",
"//                0.8                                    5.162\n",
"//                1.0                                    5.124\n",
"//                1.4                                    5.048\n",
"//                1.8                                    4.972\n",
"//                2.2                                    4.895\n",
"//                2.6                                    4.819\n",
"//                3.0                                    4.743\n",
"//                3.4                                    4.667\n",
"//                4.2                                    4.524\n",
"//                4.6                                    4.468\n",
"//                5.0                                    4.426\n",
"//                6.0                                    4.340\n",
"//               infinite                                4.120\n",
"\n",
"w=[5.314 5.238 5.162 5.124 5.048 4.972 4.895 4.819 4.743 4.667 4.524 4.468 4.426 4.340 4.120]\n",
"t=[0.0 0.4 0.8 1.0 1.4 1.8 2.2 2.6 3.0 3.4 4.2 4.6 5.0 6.0]\n",
"//part(i)\n",
"x=4.120;                            //weight of the dried material\n",
"   printf('\n moisture content (dry basis) ');\n",
"i=1;                                //looping starts\n",
"while(i<16)                        //calculation of moisture content\n",
"  p(i)=(w(i)-x)/x;\n",
"  printf('\n     :%f',p(i));\n",
"i=i+1;\n",
"end\n",
"    printf('\n   \n  Drying rate kg/hr*m^2');\n",
"i=2;\n",
"while(i<15)\n",
"     a(i)=(p(i-1)-p(i))*4.12/(t(i)-t(i-1));\n",
"     printf('\n      :%f  ',a(i));\n",
"     i=i+1;\n",
"end\n",
"a(1)=.19;\n",
"a(15)=0;\n",
"printf('\n\n from the above data it is clear that  critical moisture content Xcr=0.11');\n",
"plot(p,a,'o-');\n",
"title('Fig.6.19(a) Example3  Drying Rate curve');\n",
"xlabel('X-- Moisture content, X(kg/kg) ---->');\n",
"ylabel('Y-- Drying Rate, N(kg/hr.m^2 ---->');\n",
"\n",
"//end"
   ]
   }
,
{
		   "cell_type": "markdown",
		   "metadata": {},
		   "source": [
			"## Example 6.5_b: amount_of_air_required.sce"
		   ]
		  },
  {
"cell_type": "code",
	   "execution_count": null,
	   "metadata": {
	    "collapsed": true
	   },
	   "outputs": [],
"source": [
"\n",
"clear;\n",
"clc;\n",
"printf('\t Example 6_5_b\n');\n",
"\n",
"//part(ii)\n",
"w1=4.934;                    //weight after two hours\n",
"w0=5.314;                   //initial weight \n",
"w2=w0-w1;                  // water evaporated in 2 hrs\n",
"H1=.01;                   //humidty of incoming air\n",
"H2=.03;                  //humidity of leaving air\n",
"yout=.03;\n",
"yin=.01;\n",
"Gs=w2/(yout- yin);      //water carried away\n",
"printf('\n the amount of air required in 2hours is :%f kg',Gs);\n",
"//end"
   ]
   }
,
{
		   "cell_type": "markdown",
		   "metadata": {},
		   "source": [
			"## Example 6.5_c: actual_time_of_the_falling_peroid.sce"
		   ]
		  },
  {
"cell_type": "code",
	   "execution_count": null,
	   "metadata": {
	    "collapsed": true
	   },
	   "outputs": [],
"source": [
"\n",
"clear;\n",
"clc;\n",
"printf('\t Example 6_5_c\n');\n",
"\n",
"//part(iii)\n",
"    //let us choose the consistency of 11 and 13 readings\n",
"Xbar=0;                     //equillibrium moisture content\n",
"Ls=4.12;                    //mass of bone dry solid ais the drying surface\n",
"A=1;                       //both upper surafce and lower surface are exposed\n",
"Nc=0.19;                   //in kg/m^2*hr\n",
"X1=.098;                   //moisture content on dry basis  intially\n",
"Xcr=.11;                   //kg moisture per kg dry solid\n",
"X2=0.074;                   //moisture content on dry basis  finally\n",
"tfall=(Ls/(A*Nc))*((Xcr-Xbar)*log((X1-Xbar)/(X2-Xbar)));\n",
"printf('\n from this data we get time as :%f hour',tfall);\n",
"printf('\n the actual time is 0.8 hours');\n",
"//end"
   ]
   }
,
{
		   "cell_type": "markdown",
		   "metadata": {},
		   "source": [
			"## Example 6.6: time_saved_in_drying.sce"
		   ]
		  },
  {
"cell_type": "code",
	   "execution_count": null,
	   "metadata": {
	    "collapsed": true
	   },
	   "outputs": [],
"source": [
"\n",
"clear;\n",
"clc;\n",
"printf('\t Example 6.6\n');\n",
"            //wooden cloth is dried from 100 to 10 and then th efinal moisture content is changed to 16 percent from 10;\n",
"\n",
"Xcr=0.55;             //crtical moisture content\n",
"X1=1;               //moisture content on dry basis intially\n",
"X2=.1;              //moisture content on dry basis finally after drying\n",
"Xbar=.06;            //equillibrium moisture \n",
"    //since eqn 1 is tobe divided by eqn 2 so let the value of Ls/A*Nc be = 1 as it will be cancelled \n",
"p=1;                  //let Ls/A*Nc be =p\n",
"p=poly([0],'p');        //calc. of time 1\n",
"tbar=1;                  //since the eqns are independent of tbar\n",
"t1=roots(tbar- p*((X1-Xcr)+(Xcr-Xbar)*log((Xcr-Xbar)/(X2-Xbar)))); //------eqn1\n",
"X2bar=.16;    \n",
"p=poly([0],'p');        //calc. of time 2\n",
"t2=roots(tbar- p*((X1-Xcr)+(Xcr-Xbar)*log((Xcr-Xbar)/(X2bar-Xbar))));//------eqn2\n",
"\n",
"    //let t1/t2 be = k\n",
"k=t1/t2;\n",
"ans=1/k-1;            //reduction in time for drying \n",
"printf('\n the reduction in time for drying is :%f percent',ans*100);\n",
"//end"
   ]
   }
,
{
		   "cell_type": "markdown",
		   "metadata": {},
		   "source": [
			"## Example 6.7: time_for_drying_the_sheets_from_30_to_6_percent.sce"
		   ]
		  },
  {
"cell_type": "code",
	   "execution_count": null,
	   "metadata": {
	    "collapsed": true
	   },
	   "outputs": [],
"source": [
"\n",
"clear;\n",
"clc;\n",
"printf('\t Example 6.7\n');\n",
"            //assume rate of drying in the falling rate period is directly prporional to the free moisture content\n",
"\n",
"//Ls/ A*Nc is unknown;\n",
"\n",
"Xcr=0.14;             //crtical moisture content\n",
"X1=.3/(1-.3);         //moisture content on dry basis intially\n",
"X2=0.1/(1-0.1);       //moisture content on dry basis finally after drying\n",
"Xbar=.04;            //equillibrium moisture \n",
"tbar=5;              //time needed to dry from 30 to 6 percent on bone dry basis\n",
"\n",
"    //let Ls / A*Nc be = p\n",
"p=poly([0],'p');        //calc. of Ls / A*Nc be = p value\n",
"x=roots(tbar-p * ((X1-Xcr)+(Xcr-Xbar)*log((Xcr-Xbar)/(X2-Xbar))));\n",
"printf('\n the value of Ls/ A*Nc is :%f',x);\n",
"\n",
"//new X1 AND X2 are now given as follows\n",
"X1=0.3/(1-.3);              //new moisture content on dry basis intially\n",
"X2=0.064;                 //new moisture content on dry basis finally after drying\n",
"tbar=x * ((X1-Xcr)+(Xcr-Xbar)*log((Xcr-Xbar)/(X2-Xbar)));\n",
"printf('\n the time for drying the sheets from 30 to 6  percent moisture under same drying conditions is :%f hr',tbar);\n",
"\n",
"//end"
   ]
   }
,
{
		   "cell_type": "markdown",
		   "metadata": {},
		   "source": [
			"## Example 6.8_a: time_for_drying_the_material.sce"
		   ]
		  },
  {
"cell_type": "code",
	   "execution_count": null,
	   "metadata": {
	    "collapsed": true
	   },
	   "outputs": [],
"source": [
"\n",
"clear;\n",
"clc;\n",
"printf('\t Example 6_8_a\n');\n",
"\n",
"Ls=1000;              //mass of bone dry solid ais the drying surface\n",
"A=55;                 //both upper surafce and lower surface are exposed\n",
"v=.75;                //velocity of air\n",
"Nc=.3*10^-3;          //in kg/m^2*s\n",
"x2=.2;                //moisture content on wet basis  finally after drying\n",
"Xcr=0.125;             //crtical moisture content\n",
"X1=0.15;              //moisture content on dry basis  intially\n",
"X2=0.025;             //moisture content on dry basis  finally after drying\n",
"Xbar=0.0;        //equillibrium moisture \n",
"\n",
"tbar=(Ls/(A*Nc))*((X1-Xcr)+(Xcr-Xbar)*log((Xcr-Xbar)/(X2-Xbar)));\n",
"\n",
"printf('\n the time for drying the sheets from .15 to .025 kg water /kg of dyr solid moisture under same drying conditions is :%f hour',tbar/3600);\n",
"\n",
"//end"
   ]
   }
,
{
		   "cell_type": "markdown",
		   "metadata": {},
		   "source": [
			"## Example 6.8_b: time_saved_if_air_velocity_is_increased.sce"
		   ]
		  },
  {
"cell_type": "code",
	   "execution_count": null,
	   "metadata": {
	    "collapsed": true
	   },
	   "outputs": [],
"source": [
"\n",
"clear;\n",
"clc;\n",
"printf('\t Example 6_8_b\n');\n",
"\n",
"//tbar=(Ls/(A*Nc))*((Xcr-Xbar)*log((Xcr-Xbar)/(X2-Xbar)));\n",
"\n",
"//part(i)\n",
"        // assuming only surface evaporation and assuming air moves parellel to  surface\n",
"\n",
"//Nc=G^0.71;            G=V*d\n",
"//so NC = k* V^.71\n",
"Ls=1000;              //mass of bone dry solid ais the drying surface\n",
"A=55;                 //both upper surafce and lower surface are exposed\n",
"v=.75;                //velocity of air\n",
"Nc=.3*10^-3;          //in kg/m^2*s\n",
"x2=.2;                //moisture content on wet basis  finally after drying\n",
"Xcr=0.125;             //crtical moisture content\n",
"X1=0.15;              //moisture content on dry basis  intially\n",
"X2=0.025;             //moisture content on dry basis  finally after drying\n",
"Xbar=0.0;        //equillibrium moisture \n",
"tbar=3.8077;       //time to dry material ,calculated from previous part\n",
"V1=.75;                //old velocity\n",
"V2=4;                  //new velocity\n",
"Nc2=Nc*(V2/V1)^.71;    //in kg/m^2*s\n",
"t2=(Ls/(A*Nc2))*((X1-Xcr)+(Xcr-Xbar)*log((Xcr-Xbar)/(X2-Xbar)));    //if air velocity is increased to 4\n",
"t=tbar-t2/3600;            //time saved\n",
"\n",
"printf('\n the time saved , if air velocity is increased to 4 m/s: %f',t);\n",
"\n",
"//end"
   ]
   }
,
{
		   "cell_type": "markdown",
		   "metadata": {},
		   "source": [
			"## Example 6.9: time_for_drying_the_fibreboard.sce"
		   ]
		  },
  {
"cell_type": "code",
	   "execution_count": null,
	   "metadata": {
	    "collapsed": true
	   },
	   "outputs": [],
"source": [
"\n",
"clear;\n",
"clc;\n",
"printf('\t Example 6.9\n');\n",
"\n",
"            //determine the drying condition of sample 0.3*0.3 size.sheet lost weight at rate of 10^-4 kg/s until the moisture fell to 60 percent\n",
"            \n",
"x1=.75;                //moisture content on wet basis\n",
"xbar=0.1;                //equilllibrium moisture on dry basis\n",
"xcr=0.6;                //critical moisture content\n",
"Ls=0.90;                //mass of bone dry solid ais the drying surface\n",
"A=0.3*0.3*2;            //both upper surafce and lower surface are exposed\n",
"//A*Nc=10^-4;\n",
"x2=.2;                //moisture content on wet basis  finally after drying\n",
"Xcr=0.6/0.4;          //crtical moisture content\n",
"X1=3;                 //moisture content on dry basis  intially\n",
"X2=0.25;              //moisture content on dry basis  finally after drying\n",
"Xbar=0.1/0.9;        //equillibrium moisture \n",
"tbar=Ls/(10^-4) * ((X1-Xcr)+(Xcr-Xbar)*log((Xcr-Xbar)/(X2-Xbar)));\n",
"printf('\n the time for drying the sheets from 75 to 25 percent moisture under same drying conditions is :%f hr',tbar/3600);\n",
"\n",
"//end"
   ]
   }
],
"metadata": {
		  "kernelspec": {
		   "display_name": "Scilab",
		   "language": "scilab",
		   "name": "scilab"
		  },
		  "language_info": {
		   "file_extension": ".sce",
		   "help_links": [
			{
			 "text": "MetaKernel Magics",
			 "url": "https://github.com/calysto/metakernel/blob/master/metakernel/magics/README.md"
			}
		   ],
		   "mimetype": "text/x-octave",
		   "name": "scilab",
		   "version": "0.7.1"
		  }
		 },
		 "nbformat": 4,
		 "nbformat_minor": 0
}
