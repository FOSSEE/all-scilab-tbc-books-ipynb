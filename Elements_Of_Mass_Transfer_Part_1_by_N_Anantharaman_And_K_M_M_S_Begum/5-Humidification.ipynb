{
"cells": [
 {
		   "cell_type": "markdown",
	   "metadata": {},
	   "source": [
       "# Chapter 5: Humidification"
	   ]
	},
{
		   "cell_type": "markdown",
		   "metadata": {},
		   "source": [
			"## Example 5.10: Calculation_of_film_coefficient_and_make_up_water.sce"
		   ]
		  },
  {
"cell_type": "code",
	   "execution_count": null,
	   "metadata": {
	    "collapsed": true
	   },
	   "outputs": [],
"source": [
"\n",
"clear;\n",
"clc;\n",
"printf('\t Example 5.10\n');\n",
"L=2000;                    //flow rate of water to be cooled in kg/min\n",
"T1=50;                    //temperature of inlet water\n",
"T2=30;                    //temp. of outlet water\n",
"H1=.016;                  //humidity of incoming air\n",
"cp=4.18;                  //specific heat of water\n",
"cpair=1.005;              //specific heat capcity of air\n",
"cpwater=1.884;            //specific heat capcity of water\n",
"tg=20;                    //temperature in degree\n",
"to=0;\n",
"ybar=0.016;               //saturated humidity at 20 degree\n",
"d=2502;                   //latent heat\n",
"Ky_a=2500;                //value of masstransfer coefficient in kg/hr*m^3*dybar\n",
"E=cpair*(tg-to)+(cpwater*(tg-to)+d)*ybar;    //enthalpy\n",
"    //similarly for other temperatures\n",
"T=[20 30 40 50 55]            //differnt temperature for different enthalpy calculation\n",
"i=1;\n",
"while(i<6)                   //looping for different enthalpy calculation of operating line\n",
"E(i)=cpair*(T(i)-to)+(cpwater*(T(i)-to)+d)*ybar;\n",
"printf('\n the enhalpy at :%f is :%f',T(i),E(i));\n",
"i=i+1;\n",
"end                //end of lop\n",
"ES=[60.735 101.79 166.49 278.72 354.92]        //enthalpy of eqll condition\n",
"\n",
"plot(T,E,'o--');\n",
"plot(T,ES,'+-');\n",
"title('Fig.5.10(b),Temperature-Enthalpy plot');\n",
"xlabel('X-- Temperature, degree celcius');\n",
"ylabel('Y-- Enthalpy ,kj/kg');\n",
"legend('operating line','Enthalpy at saturated cond')\n",
"\n",
"//locate (30,71.09) the operating conditions at the bottom of the tower and draw the tangent to the curve\n",
"Hg1=71.09;                     //point on the oper. line(incoming air)\n",
"Hg2=253;                       //point after drawing the tangent\n",
"slope=(Hg2-Hg1)/(T1-T2);       //we gt slope of the tangent\n",
"    //slope = (L*Cl/G)_min\n",
"Cl=4.18;\n",
"G_min=L*60*Cl/slope;                  //tangent gives minimum value of the gas flow rate\n",
"G_actual=G_min*1.3;                  //since actual flow rate is 1.3 times the minimum\n",
"slope2=L*Cl*60/G_actual;            //slope of operating line\n",
"Hg2_actual=slope2*(T1-T2)+Hg1;     //actual humidityat pt 2\n",
"Ggas=10000;                       //minimum gas rate in kg/hr*m^2\n",
"Area1=G_actual/Ggas;             //maximum area of the tower(based on gas)\n",
"Gliq=12000;                     //minimum liquid rate in kg/hr*m^2\n",
"Area2=60*L/Gliq;               //maximum area of the tower(based on liquid)\n",
"printf('\n \n the maximum area of the tower(based on gas) is :%f m^2',Area1);\n",
"printf('\n the maximum area of the tower(based on liquid) is :%f m^2',Area2);\n",
"dia=(Area1*4/3.14)^0.5;        //diameter of the tower in m\n",
"\n",
"//let us assume the resistance to mass transfer lies basically in gas phase. hence the,interfacial conditions and the eqlb cond. are same.vertical line drawn between oper. and equl. line we get conditions of gas and equl. values are tabulated below as follows\n",
" \n",
" \n",
"//table\n",
"T=[20 30 40 50 55]            //differnt temperature for different enthalpy calculation\n",
"//enthaly \n",
"H_bar=[101.79 133.0 166.49 210.0 278.72]        //H_bar i.e. at equl.\n",
"Hg=[71.09 103.00 140.00 173.00 211.09]        //Hg i.e. of operating line\n",
"i=1;\n",
"while(i<6)          //looping for different enthalpy calculation of operating line\n",
"y(i)=1/(H_bar(i)-Hg(i));\n",
"printf('\n the enhalpy at :%f is :%f',T(i),y(i));\n",
"i=i+1;\n",
"end                //end of lop\n",
"xset('window',1);\n",
"plot(Hg,y,'o-');\n",
"xtitle(' Fig.5.10(c) Example 10 (1/(Hf-Hg)) vs Hg','X-- Hg --->','Y-- 1/(Hf-Hg) ---->');\n",
"\n",
"//area under this curve gives Ntog =4.26\n",
"Ntog=4.26;                //no. of transfer unit\n",
"Gs=10000;                  //gas flow rate\n",
"Htog=Gs/Ky_a;              // height of transfer unit\n",
"height=Ntog*Htog;          //height of the tower\n",
"printf('\n \nthe tower height is :%f m',height);\n",
"\n",
"\n",
"//make up water is based onevaporation loss(E),blow down loss(B),windage loss(W)                           M = E + B + W\n",
"W=.2/100 *L*60;                //windage loss(W)\n",
"B=0;                        //blow down loss neglected\n",
"E=G_actual*(.064-.016);     //assuming air leaves fully saturated\n",
"M = E + B + W;                //make up water is based onevaporation loss(E),blow down loss(B),windage loss(W)\n",
"printf('\n make up water is based onevaporation loss(E),blow down loss(B),windage loss(W) is :%f kg /hr',M);\n",
"//end"
   ]
   }
,
{
		   "cell_type": "markdown",
		   "metadata": {},
		   "source": [
			"## Example 5.11: Calculation_of_the_make_up_water_needed_and_the_velocity_of_air.sce"
		   ]
		  },
  {
"cell_type": "code",
	   "execution_count": null,
	   "metadata": {
	    "collapsed": true
	   },
	   "outputs": [],
"source": [
"\n",
"clear;\n",
"clc;\n",
"printf('\t Example 5.11\n');\n",
"//air leaves at 19 degree at fully saturated condition\n",
"\n",
"T1=30;              //temperature at the inlet in degree celcius\n",
"T2=17;              //temperature at the exit in degree celcius\n",
"f=100000;           //flow rate of water in kg/hr\n",
"hi=.004;            //humidity of incoming air in kg/kg of dry air\n",
"hl=.015;            //humidity of leaving air in kg/kg of dry air\n",
"Hi=18.11;           //enthalpy of incoming air in kg/kg of dry air\n",
"Hl=57.16;            //enthalpy of leaving air in kg/kg of dry air\n",
"//w=mdry*(hl-hi) = mdry*0.011;                             -----equn 1st  \n",
"//mass of water evaporated\n",
"\n",
"//making energy balance:  total heat in = total heat out\n",
"//heat in entering water + heat in entering air = heat in leaving water + heat in leaving air\n",
"//100000*1*(30-0) + mdry*Hi = (100000-w)*1*(17-0) + mdry*Hl  ----eqn 2nd\n",
"\n",
"//substituting eqn 1st in 2nd we get;\n",
"a=14.4;                                   //cross sectional area of the tower in m^2\n",
"mdry=(T1*f-T2*f)/(Hl-Hi-T2*.011);        //mass of dry air\n",
"velocity=mdry/a;                          //air velocity in kg/m^2* hr\n",
"x=mdry*.011;                             //make up water needed in kg/hr\n",
"printf('\n the make up water needed is :%f kg /hr',x);\n",
"printf('\n the velocity of air is as :%f kg/hr',velocity);\n",
"//end"
   ]
   }
,
{
		   "cell_type": "markdown",
		   "metadata": {},
		   "source": [
			"## Example 5.12: Calculation_of_the_length_of_the_chamber.sce"
		   ]
		  },
  {
"cell_type": "code",
	   "execution_count": null,
	   "metadata": {
	    "collapsed": true
	   },
	   "outputs": [],
"source": [
"\n",
"clear;\n",
"clc;\n",
"printf('\t Example 5.12\n');\n",
"//horizontal spray with recirculated water . air is cooled and humidified to 34 and leaves at 90percent saturation\n",
"\n",
"T1=65;              //dry bulb temperature at the inlet in degree celcius\n",
"f=3.5;           //flow rate of air in m^3/s\n",
"hi=1.017;            //humidity of incoming air in kg/kg of dry air\n",
"hl=.03;            //humidity of leaving air in kg/kg of dry air\n",
"k=1.12;            //mass transfer coefficient in kg/m^3*s\n",
"y1=.017;           //molefraction at recieving end\n",
"y2=.03;            //molefraction at leaving end\n",
"\n",
"//substituting eqn 1st in 2nd we get;\n",
"a=2;                                   //cross sectional area of the tower in m^2\n",
"d=1.113;                                  //density o fair in kg/m^3\n",
"m=(f*d)                                   //mass flow rate  of  air\n",
"gs=m/hi;                                 //air velocity in kg/m^2* hr\n",
"ys_bar=.032;\n",
"//for recirculation humidifier\n",
"z=log((ys_bar-y1)/(ys_bar-y2))*gs/k;          //length of the chamber required\n",
"printf('\n the length of the chamber required is :%f m',z);\n",
"\n",
"//end"
   ]
   }
,
{
		   "cell_type": "markdown",
		   "metadata": {},
		   "source": [
			"## Example 5.1: properties_through_humidity_chart.sce"
		   ]
		  },
  {
"cell_type": "code",
	   "execution_count": null,
	   "metadata": {
	    "collapsed": true
	   },
	   "outputs": [],
"source": [
"\n",
"clear;\n",
"clc;\n",
"printf('\t Example 5.1\n');\n",
"            //dry bulb temperature=50  and  wet bulb temperature=35 \n",
"Tg=50;                    //dry bulb temperature=50\n",
"To=0;                    //refrence temperature in degree celcius    \n",
"Mb=28.84;                //average molecular weight of air\n",
"Ma=18;                   //average molecular weight of water\n",
"\n",
"//part(i)\n",
"ybar=.0483                //0.003 kg of water vapour/kg of dry air\n",
"printf('\n the humidity(from chart) is  \t\t:%f  percent',ybar);\n",
"\n",
"//part(ii)\n",
"humper=35;                //humidity percentage\n",
"printf('\n the percentage humidity is(from chart) :%f  percent',humper);\n",
"\n",
"//part(iii)\n",
"pt=1.013*10^5;            //total pressure in pascal\n",
"molhum=0.0483;            //molal humidity =pa/(pt-pa)\n",
"pa=molhum*pt/(1+molhum);\n",
"//the vopour pressure of water(steam tables)at 50degree = .1234*10^5 N/m^2\n",
"relhum=(pa/(.1234*10^5))*100;      //percentage relative humidity =partial pressure/vapour pressure\n",
"printf('\n the percentage relative humidity is \t percent:%f  ',relhum);\n",
"\n",
"//part(iv)\n",
"dewpoint=31.5;            //dew point temperature in degree celcius\n",
"printf('\n the dew point temperature \t\t :%f degree celcius',dewpoint);\n",
"\n",
"//part(v)\n",
"Ca=1.005;\n",
"Cb=1.884;\n",
"ybar=.03;                //saturation temperature inkg water vapour/kg dry air\n",
"Cs=Ca+Cb*ybar;            //humid heat  in kj/kg dry air degree celcius\n",
"printf('\n we get humid heat as \t\t\t :%f kj/kg dry air degree celcius ',Cs);\n",
"\n",
"//part(vi)\n",
"d=2502;                    //latent heat in kj/kg\n",
"H=Cs*(Tg-0)+ybar*d;        //enthalpy for refrence temperature of 0 degree\n",
"printf('\n we get H as \t\t\t\t :%f kj/kg',H);\n",
"Hsat=274;                   //enthalpy of sturated air\n",
"Hdry=50;                   //enthalpy of dry air in kj/kg\n",
"Hwet=Hdry+(Hsat-Hdry)*0.35;     //enthalpy of wet air in kj/kg\n",
"printf('\n we get enthalpy of wet air  as \t:%f kj/kg',Hwet);\n",
"\n",
"//part(vii)\n",
"VH=8315*[(1/Mb)+(ybar/Ma)]*[(Tg+273)/pt];        //humid volume in m^3mixture/kg of dry air\n",
"printf('\n we get VH  as (a)\t\t\t :%f m^3/kg of dry air',VH);\n",
"spvol=1.055;              //specific volume of saturated air in m^3*kg\n",
"vdry=0.91;                //specific volume of dry air in m^3/kg\n",
"Vh=vdry+(spvol-vdry)*.35  //by interpolation we get Vh in m^3/kg of dry air \n",
"printf('\n by interpolation we get specific volume Vh as(b) :%f m^3/kg of dry air',Vh);\n",
"\n",
"//end"
   ]
   }
,
{
		   "cell_type": "markdown",
		   "metadata": {},
		   "source": [
			"## Example 5.2: properties_if_DBT_is_25_and_WBT_is_22.sce"
		   ]
		  },
  {
"cell_type": "code",
	   "execution_count": null,
	   "metadata": {
	    "collapsed": true
	   },
	   "outputs": [],
"source": [
"\n",
"clear;\n",
"clc;\n",
"printf('\t Example 5.2\n');\n",
"            //dry bulb temperature=25  and  wet bulb temperature=22\n",
"Tg=25;                    //dry bulb temperature=50\n",
"To=0;                    //refrence temperature in degree celcius    \n",
"Mb=28.84;                //average molecular weight of air\n",
"Ma=18;                   //average molecular weight of water\n",
"\n",
"//part(i)\n",
"hum=.0145                //0.0145 kg of water/kg of dry air\n",
"printf('\n the saturation humidity(from chart) is :%f  percent',hum);\n",
"\n",
"//part(ii)\n",
"humper=57;                //humidity percentage\n",
"printf('\n the percentage humidity is  \t\t:%f  percent',humper);\n",
"\n",
"//part(iii)\n",
"pt=1;            //total pressure in atm\n",
"sathum=0.0255;            //molal humidity =pa/(pt-pa)\n",
"pa1=sathum*pt*(28.84/18)/(1+(sathum*(28.84/18)));\n",
"//the vopour pressure of water(steam tables)at 25 = .0393*10^5 N/m^2\n",
"pt=1;                     //total pressure in atm\n",
"molhum=0.0145;            //molal humidity =pa/(pt-pa)\n",
"pa2=molhum*pt*(28.84/18)/(1+(molhum*pt*(28.84/18)));\n",
"//the vopour pressure of water(steam tables)at 25 = .0393*10^5 N/m^2\n",
"relhum=(pa2/pa1)*100;      //percentage relative humidity =partial pressure/vapour pressure\n",
"printf('\n the percentage relative humidity is \t :%f  ',relhum);\n",
"\n",
"//part(iv)\n",
"dewpoint=19.5;            //dew point temperature in degree celcius\n",
"printf('\n the dew point temperature \t :%f degree celcius',dewpoint);\n",
"\n",
"//part(v)\n",
"Ca=1005;\n",
"Cb=1884;\n",
"ybar=.0145;                // humidity inkg water /kg dry air\n",
"Cs=Ca+Cb*ybar;            //humid heat  in j/kg dry air degree celcius\n",
"d=2502300;                    //latent heat in j/kg\n",
"H=Cs*(Tg-0)+ybar*d;        //enthalpy for refrence temperature of 0 degree\n",
"printf('\n we get Humid heat H as \t :%f j/kg',H);\n",
"//the actual answer is 62091.3 bt in book it is given 65188.25(calculation mistake in book)\n",
"//end"
   ]
   }
,
{
		   "cell_type": "markdown",
		   "metadata": {},
		   "source": [
			"## Example 5.3: properties_of_nitrogen_oxygen_vapour_mixture.sce"
		   ]
		  },
  {
"cell_type": "code",
	   "execution_count": null,
	   "metadata": {
	    "collapsed": true
	   },
	   "outputs": [],
"source": [
"\n",
"clear;\n",
"clc;\n",
"printf('\t Example 5.3\n');\n",
"//part(i)\n",
"pt=800;                    //total pressure in mmHg\n",
"pa=190;                    //vapour pressure of acetone at 25 degree \n",
"ys_bar=pa*(58/28)/(pt-pa)   //\n",
"//percentage saturation = y_bar/ys_bar *100\n",
"s=80;                      //percent saturation\n",
"y_bar=ys_bar*s/100;        //absolute humidity\n",
"printf('\n the absolute humidity is \t :%f kg acetone/kmol N2 ',y_bar);\n",
"\n",
"//part(ii)\n",
"//y_bar=pa*(58/28)/(pt-pa) \n",
"pa1=pt*y_bar*(28/58)/(1+(y_bar*(28/58)));\n",
"printf('\n the partial pressure of acetone is:%f mmHg',pa1);\n",
"\n",
"//part(iii)\n",
"y=pa1/(pt-pa1);              //absolute molal humidity\n",
"printf('\n absolute molal humidity \t:%f kmol acetone/kmol N2',y);\n",
"\n",
"//part(iv)\n",
"//volume of .249kmol acetone vapour at NTP =.249*22.14\n",
"//p1v1/T1 =p2v2/T2\n",
"p2=800;                    //final pressure of acetone and nitrogen at 25 degree\n",
"p1=760;                    //initial pressure of acetone and nitrogen at 25 degree\n",
"T2=298;                    //final temperature of acetone and nitrogenat 25 degree\n",
"T1=273;                   //initial temperature of acetone and nitrogen at 25 degree\n",
"vA1=5.581;                    //initial volume of acetone at 25 degree\n",
"vN1=22.414;                   //initial volume of nitrogen at 25 degree \n",
"vA2=T2*vA1*p1/(T1*p2);        //final volume of acetone at 25 degree\n",
"vN2=T2*vN1*p1/(T1*p2);        //final volume of nitrogen at 25 degree\n",
"vtotal=vA2+vN2;            //total volume of the mixture\n",
"vper=vA2*100/vtotal;           //percentage volume of acetone\n",
"printf('\n the percentage volume of acetone is :%f m^3',vper);\n",
"//end"
   ]
   }
,
{
		   "cell_type": "markdown",
		   "metadata": {},
		   "source": [
			"## Example 5.4: properties_at_a_temperature_of_60_degree_celcius.sce"
		   ]
		  },
  {
"cell_type": "code",
	   "execution_count": null,
	   "metadata": {
	    "collapsed": true
	   },
	   "outputs": [],
"source": [
"\n",
"clear;\n",
"clc;\n",
"printf('\t Example 5.4\n');\n",
"\n",
"//part(i)\n",
"pa=13.3;                      //pressure in kpa\n",
"pa2=20.6;                    //vapour pressure at 60 degree\n",
"pt=106.6                     //total pressure in kpa\n",
"y=pa/(pt-pa);              //absolute molal humidity\n",
"y_bar=y*(18/28.84);          //relative humidity\n",
"printf('\n absolute  humidity of mixture :%f kg water-vapour/kg dry air',y_bar);\n",
"\n",
"\n",
"//part(ii)\n",
"mf=pa/pt;                    //mole fraction\n",
"printf('\n the mole fraction is :%f',mf);\n",
"\n",
"//part(iii)\n",
"vf=mf;                            //volume fraction\n",
"printf('\n the volume fraction is :%f',vf);\n",
"\n",
"//part(iv)\n",
"Ma=18;                      //molecular weight\n",
"Mb=28.84;                    //molecular weight\n",
"Tg=60;                       //temperature of mixture\n",
"rh=(pa/pa2)*100;            //relative humidity in pecentage        \n",
"printf('\n we get relative humidity as  as :%f percent',rh);\n",
"\n",
"//part(v)\n",
"VH=8315*[(1/Mb)+(y_bar/Ma)]*[(Tg+273)/pt]*10^-3;        //humid volume in m^3mixture/kg of dry air\n",
"x=y_bar/VH;                 //g water/m^3 mixture \n",
"printf('\n we get x i.e. gwater/m^3 mixture as :%f ',x*1000);\n",
"//end"
   ]
   }
,
{
		   "cell_type": "markdown",
		   "metadata": {},
		   "source": [
			"## Example 5.5: properties_if_DBT_is_30_and_WBT_is_25.sce"
		   ]
		  },
  {
"cell_type": "code",
	   "execution_count": null,
	   "metadata": {
	    "collapsed": true
	   },
	   "outputs": [],
"source": [
"\n",
"clear;\n",
"clc;\n",
"printf('\t Example 5.5\n');\n",
"\n",
"//part(i)\n",
"y_bar=.0183;                //kg water vapour/kg dry air\n",
"printf('\n we get humidity as(from chart)  :%f kg of water/kg dry air',y_bar);\n",
"printf('\n we get saturation humidity as(from chart)  :%d percent',67);\n",
"Ma=18;                      //molecular weight\n",
"Mb=28.84;                    //molecular weight\n",
"Tg=30;                       //temperature of mixture\n",
"rh=(pa/pa2)*100;            //relative humidity in pecentage        \n",
"pt=1.013*10^5;            //total pressure in pascal\n",
"VH=8315*[(1/Mb)+(y_bar/Ma)]*[(Tg+273)/pt];        //humid volume in m^3mixture/kg of dry air\n",
"printf('\n we get humid volume as \t:%f  m^3/kg dry air',VH);\n",
"\n",
"//part(ii)\n",
"Ca=1005;\n",
"Cb=1884;\n",
"Cs=Ca+Cb*y_bar;            //humid heat  in j/kg dry air degree celcius\n",
"printf('\n we get humid heat as \t\t :%f j/kg dry air degree celcius ',Cs);\n",
"\n",
"//part(iii)\n",
"d=2502300;                    //latent heat in j/kg\n",
"H=Cs*(Tg-0)+y_bar*d;        //enthalpy for refrence temperature of 0 degree\n",
"printf('\n we get Enthalpy H as \t\t:%f j/kg dry air',H);\n",
"\n",
"//part(iv)\n",
"dewpoint=23.5;            //dew point temperature in degree celcius\n",
"printf('\n the dew point temperature \t :%f degree celcius',dewpoint);\n",
"\n",
"//end"
   ]
   }
,
{
		   "cell_type": "markdown",
		   "metadata": {},
		   "source": [
			"## Example 5.6: properties_when_dry_bulb_temperature_is_55.sce"
		   ]
		  },
  {
"cell_type": "code",
	   "execution_count": null,
	   "metadata": {
	    "collapsed": true
	   },
	   "outputs": [],
"source": [
"\n",
"clear;\n",
"clc;\n",
"printf('\t Example 5.6\n');\n",
"\n",
"//part(i)\n",
"y=.048;                      //humidity kmol water vapour/kmol dry air\n",
"y_bar=y*(18/28.84);          //(from chart) absolute humidity\n",
"printf('\n we get absolute humidity as  :%f kg of water/kg dry air',y_bar);\n",
"printf('\n we get percentage humidity as(from chart)  :%f percent',25.5);\n",
"y_bar=y*(18/28.84);          //relative humidity\n",
"Ma=18;                      //molecular weight\n",
"Mb=28.84;                    //molecular weight\n",
"Tg=55;                       //temperature of mixture\n",
"pt=1.013*10^5;            //total pressure in pascal\n",
"VH=8315*[(1/Mb)+(y_bar/Ma)]*[(Tg+273)/pt];        //humid volume in m^3mixture/kg of dry air\n",
"printf('\n we get VH  as \t :%f m^3/kg dry air',VH);\n",
"\n",
"//part(ii)\n",
"Ca=1005;\n",
"Cb=1884;\n",
"Cs=Ca+Cb*y_bar;            //humid heat  in j/kg dry air degree celcius\n",
"printf('\n we get humid heat as \t :%f j/kg dry air degree celcius ',Cs);\n",
"\n",
"//part(iii)\n",
"d=2502300;                    //latent heat in j/kg\n",
"H=Cs*(Tg-0)+y_bar*d;        //enthalpy for refrence temperature of 0 degree\n",
"printf('\n we get H as \t :%f j/kg dry air',H);\n",
"\n",
"//end"
   ]
   }
,
{
		   "cell_type": "markdown",
		   "metadata": {},
		   "source": [
			"## Example 5.7: Calculation_of_final_temperature.sce"
		   ]
		  },
  {
"cell_type": "code",
	   "execution_count": null,
	   "metadata": {
	    "collapsed": true
	   },
	   "outputs": [],
"source": [
"\n",
"clear;\n",
"clc;\n",
"printf('\t Example 5.7\n');\n",
"        //given o.03 kg of water vapour/kg of dry air is contacted with water at an adiabatic temperature and humidified and cooled to 70 percent saturtion\n",
"        \n",
"//from pyschometric chart\n",
"ft=46;                //final temperature in degree celcius\n",
"printf('\n final temperature is (from chart):%f degree celcius',ft);\n",
"y_bar=.0475;        // humidity of air\n",
"printf('\n the humidity of air(from chart) :%f kg water vapour /kg dry air',y_bar);\n",
"\n",
"//end"
   ]
   }
,
{
		   "cell_type": "markdown",
		   "metadata": {},
		   "source": [
			"## Example 5.8: Calculation_of_molal_humidity.sce"
		   ]
		  },
  {
"cell_type": "code",
	   "execution_count": null,
	   "metadata": {
	    "collapsed": true
	   },
	   "outputs": [],
"source": [
"\n",
"clear;\n",
"clc;\n",
"printf('\t Example 5.8\n');\n",
"pa1=4.24            //data:    vapour pressure of water at 30degree = 4.24 kpa\n",
"pa2=1.70            //        vapour pressure of water at 30degree = 1.70 kpa\n",
"\n",
"//part(i)\n",
"pt=100;                         //total pressure\n",
"ys_bar=pa1/(pt-pa1);              //kg water vapour/kg dry air\n",
"rh=.8;                          //relative humidity\n",
"pa3=rh*pa1;                       //partial pressure\n",
"y_bar=pa3*(18/28.84)/(pt-pa3);               //molal humidity\n",
"printf('\n the molal humidity:%f kg/kg dry air',y_bar);\n",
"\n",
"//part(ii)\n",
"//under these conditions the air will be saturated at 15 degree as some water is condensed\n",
"pa=1.7;    \n",
"pt=200;\n",
"ys=pa/(pt-pa);\n",
"ys_bar=ys*(18/28.84);\n",
"printf('\n the molal humidity if pressure doubled and temp. is 15 :%f kg/kg dry air',ys_bar);\n",
"\n",
"//part(iii) \n",
"Ma=18;                        //molecular weight\n",
"Mb=28.84;                    //molecular weight\n",
"Tg=30;                       //temperature of mixture\n",
"rh=(pa/pa2)*100;            //relative humidity in pecentage        \n",
"pt=10^5;              //total pressure in pascal\n",
"VH=8315*[(1/Mb)+(y_bar/Ma)]*[(Tg+273)/pt];        //humid volume in m^3mixture/kg of dry air\n",
"printf('\n we get humid volume VH  as \t :%f m^3/kg of dry air',VH);\n",
"w=100/VH;                   //100 m^3 of original air \n",
"wo= w*y_bar;                //water present in original air\n",
"wf= w*ys_bar;              //water present finally\n",
"wc=wo-wf;                   //water condensed from 100m^3 of original sample\n",
"printf('\n the weight water condensed from 100m^3 of original sample:%f kg',wc);\n",
"\n",
"//part(iv)\n",
"Tg=15;                       //temperature of mixture       \n",
"pt=2*10^5;            //total pressure in pascal\n",
"VH=8315*[(1/Mb)+(ys_bar/Ma)]*[(Tg+273)/pt];        //humid volume in m^3mixture/kg of dry air\n",
"vf=VH*110.6;                //final volume of mixture\n",
"printf('\n we get VH final volume of mixture as \t :%f m^3',vf);\n",
"\n",
"//end"
   ]
   }
,
{
		   "cell_type": "markdown",
		   "metadata": {},
		   "source": [
			"## Example 5.9: Calculation_of_relative_humidity_and_humid_volume.sce"
		   ]
		  },
  {
"cell_type": "code",
	   "execution_count": null,
	   "metadata": {
	    "collapsed": true
	   },
	   "outputs": [],
"source": [
"// Calculation of relative humidity ,humid volume enthalpy and heat required if 100m^3 of this air is heated to 110 degree\n",
"clear;\n",
"clc;\n",
"printf('\t Example 5.9\n');\n",
"\n",
"//part(i)\n",
"y_bar=.03;                   // humidity inkg water /kg dry air\n",
"pt=760;                     //total pressure in pascal\n",
"pa2=118;                    //final pressure\n",
"y=y_bar/(18/28.84);        //humidity kmol water vapour/kmol dry air\n",
"pa=(y*pt)/(y+1);           //partial pressure\n",
"rh=pa/pa2;                  //relative humidity\n",
"sh=pa2/(pt-pa2);            //saturated humidity\n",
"ph=(y/sh)*100;                //percentage humidity\n",
"printf('\n percentage humidity is :%f',ph);\n",
"\n",
"///part(ii)\n",
"Ma=18;                      //molecular weight\n",
"Mb=28.84;                    //molecular weight\n",
"Tg=55;                       //temperature of mixture\n",
"pt=1.013*10^5;            //total pressure in pascal\n",
"VH=8315*[(1/Mb)+(y_bar/Ma)]*[(Tg+273)/pt];        //humid volume in m^3mixture/kg of dry air\n",
"printf('\n we get VH humid volume as  :%f m^3/kg dry air',VH);\n",
"\n",
"\n",
"//part(iii)\n",
"Ca=1005;\n",
"Cb=1884;\n",
"Cs=Ca+Cb*y_bar;                //humid heat  in j/kg dry air degree celcius\n",
"printf('\n we get humid heat as \t :%f j/kg dry air degree celcius ',Cs);\n",
"d=2502300;                    //latent heat in j/kg\n",
"H=Cs*(Tg-0)+y_bar*d;         //enthalpy for refrence temperature of 0 degree\n",
"printf('\n we get H enthalpy as \t :%f j/kg',H);\n",
"\n",
"//part(iv)\n",
"v=100;                        //volume of air\n",
"mass=v/VH;                    //mass of dry air\n",
"Tg=110;                       //temperature of mixture\n",
"d=2502300;                    //latent heat in j\n",
"H_final=Cs*(Tg-0)+y_bar*d;    //enthalpy for refrence temperature of 0 degree\n",
"H_added=(H_final-H)*102.25;     //HEAT added  in kj     \n",
"printf('\n we get heat added as \t :%f kj',H_added/1000);\n",
"//end"
   ]
   }
],
"metadata": {
		  "kernelspec": {
		   "display_name": "Scilab",
		   "language": "scilab",
		   "name": "scilab"
		  },
		  "language_info": {
		   "file_extension": ".sce",
		   "help_links": [
			{
			 "text": "MetaKernel Magics",
			 "url": "https://github.com/calysto/metakernel/blob/master/metakernel/magics/README.md"
			}
		   ],
		   "mimetype": "text/x-octave",
		   "name": "scilab",
		   "version": "0.7.1"
		  }
		 },
		 "nbformat": 4,
		 "nbformat_minor": 0
}
