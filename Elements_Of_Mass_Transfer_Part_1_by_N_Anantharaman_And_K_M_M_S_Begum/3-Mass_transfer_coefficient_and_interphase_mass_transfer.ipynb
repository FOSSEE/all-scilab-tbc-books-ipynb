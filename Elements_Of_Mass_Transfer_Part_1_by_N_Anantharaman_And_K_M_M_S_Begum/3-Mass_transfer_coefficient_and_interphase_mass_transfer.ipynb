{
"cells": [
 {
		   "cell_type": "markdown",
	   "metadata": {},
	   "source": [
       "# Chapter 3: Mass transfer coefficient and interphase mass transfer"
	   ]
	},
{
		   "cell_type": "markdown",
		   "metadata": {},
		   "source": [
			"## Example 3.1: rate_of_sublimatio.sce"
		   ]
		  },
  {
"cell_type": "code",
	   "execution_count": null,
	   "metadata": {
	    "collapsed": true
	   },
	   "outputs": [],
"source": [
"\n",
"clear;\n",
"clc;\n",
"printf('\t Example 3.1\n');\n",
"v=6;       //velocity in m/s\n",
"l=6;       //length in m\n",
"pa1=10;     //pressure at 1 in atm\n",
"pa2=0;     //pressure at 2 in atm\n",
"t=373;     // temperature in kelvin\n",
"p=1;      //pressure of naphthalene in atm at 373kelvin\n",
"D=5.15*10^-6;    //diffusivity of naphthalene in C02 in m^2/s\n",
"d=0.946;        //density of air in kg/m^3\n",
"u=.021*10^-3;         //viscosity of air in Newton*s/m^2\n",
"ID=0.075;       //diameter in m\n",
"nre=(ID*v*d)/(u);     //calc. of reynolds no.\n",
"cf=2*0.023*(nre)^(-0.2);        //friction factor\n",
"nsc=(u)/(d*D);        //calc of schmidt no.\n",
"kc=(cf*v)/(2*(nsc)^(2/3));\n",
"na=(kc*10^5*(pa1/760-0))/(8314*t);   //difussion flux in kmol/m^2*s\n",
"sub=na*2*3.14*(ID/2)*l;          //rate of sublimation\n",
"printf('\nrate of sublimation :%f *10^-6 kmol/s\n',sub/10^-6);\n",
"//End"
   ]
   }
,
{
		   "cell_type": "markdown",
		   "metadata": {},
		   "source": [
			"## Example 3.2: rate_of_sublimation_of_solid_naphthalene.sce"
		   ]
		  },
  {
"cell_type": "code",
	   "execution_count": null,
	   "metadata": {
	    "collapsed": true
	   },
	   "outputs": [],
"source": [
"\n",
"clear;\n",
"clc;\n",
"printf('\t Example 3.2\n');\n",
"v=0.30;           //velocity of parallelair in m/s\n",
"t=300;            //temperature of air in kelvin\n",
"p=10^5/760;                //pressure of air in pascal\n",
"Dab=5.9*10^-4;             //diffusivity of naphthalene in in air in m^2/s \n",
"pa1=0.2*10^5/760;          //pressure of air at 1 in pascal\n",
"pa2=0;                     //pressure of air at 2 in pascal\n",
"d=1.15;                //density of air in kg/m^3\n",
"u=0.0185*10^-3;        //viscosity of air in Newton*s/m^2\n",
"D=1;                   //length in m\n",
"a=1;                   //area of plate in m^2\n",
"Nsc=u/(d*Dab);           //schmidt no. calculation\n",
"Nre=(D*v*d)/u;        //reynolds no. calculation\n",
"                     //flow is turbulent \n",
"f=0.072*(Nre)^-.25;        //friction factor using 'chilton colburn' analogy\n",
"k_c=(f*v)/(2*(Nsc)^.667);    //mass transfer coefficient\n",
"NA=k_c*(pa1-pa2)/(8314*300);    //mass flux calc.\n",
"sub=NA*a;                        //rate  of sublimation in kmol/m^2*s\n",
"printf('\nrate of sublimation :%f *10^-7 kmol/s\n',sub/10^-7);\n",
"//End"
   ]
   }
,
{
		   "cell_type": "markdown",
		   "metadata": {},
		   "source": [
			"## Example 3.3: rate_of_absorption_and_mass_transfer_coefficient.sce"
		   ]
		  },
  {
"cell_type": "code",
	   "execution_count": null,
	   "metadata": {
	    "collapsed": true
	   },
	   "outputs": [],
"source": [
"\n",
"clear;\n",
"clc;\n",
"printf('\t Example 3.3\n');\n",
"       // a is CO2 and b is water\n",
"p=2;              //total pressure at 1 in atm \n",
"pa1=0.2*10^5;     //pressure of CO2 at pt 1 in atm\n",
"pa2=0;            //pressure of CO2 at pt 2 is 0 since air is pure\n",
"ya1=0.1;          //mole fraction of CO2 at 1 is 0.2/2\n",
"ya2=0;            //mole fraction of CO2 at 2 is 0 since air is pure\n",
"yb1=0.9;          //mole fraction of water at 1 is (1-0.1)\n",
"yb2=1.0;          //mole fraction of water at 2 is 1.0 since total pressure has to be constant.\n",
"k_y1=6.78*10^-5;        //mass transfer coefficient in kmol/m^2*s*molefraction\n",
"\n",
"yb_ln=(yb2-yb1)/(log(yb2/yb1));    //log mean is represented by yb_ln\n",
"\n",
"k_y=k_y1/yb_ln; \n",
"printf('\nvalue of mass transfer coefficient k_y is:%f *10^-5 kmol/m^2*s*(molefractin)',k_y/10^-5);\n",
"k_g=k_y/p;                        //mass ttransfer coefficient in lmol/m^2*s*atm\n",
"printf('\nvalue  mass transfer coefficient k_g is:%f *10^-5 kmol/m^2*s*(atm)',k_g/10^-5);\n",
"\n",
"NA=k_y*(ya1-ya2);                //mass flux in kmol/m^2*s\n",
"printf('\nvalue of rate of mass transfer :%f *10^-6 kmol/m^2*s',NA/10^-6); \n",
"//end"
   ]
   }
,
{
		   "cell_type": "markdown",
		   "metadata": {},
		   "source": [
			"## Example 3.4: mass_transfer_coefficient_and_film_thickness.sce"
		   ]
		  },
  {
"cell_type": "code",
	   "execution_count": null,
	   "metadata": {
	    "collapsed": true
	   },
	   "outputs": [],
"source": [
"\n",
"clear;\n",
"clc;\n",
"printf('\t Example 3.4\n');\n",
"NA=7.5*10^-7;       //mass flux in gmol/cm^2*s\n",
"Dab=1.7*10^-5;     //diffusivity if SO2 in water in cm^2/s\n",
"c=1/18.02;          //concentration is density/molecular weight in gmol/cm^2*s\n",
"    //SO2 is absorbed from air into water\n",
"\n",
"xa1=0.0025;        //liquid phase mole fraction at 1\n",
"xa2=0.0003;        //liquid phase mole fraction at 2\n",
"    //NA=kc(Ca1-Ca2)=Dab*(Ca1-Ca2)/d\n",
"    \n",
"k_c=NA/(c*(xa1-xa2));    //k_c=Dab/d=NA/c(xa1-xa2)\n",
"printf('\nmass transfer coefficient k_c is:%f cm/s',k_c);\n",
"\n",
"d=Dab/k_c;\n",
"printf('\nfilm thickness d is :%f cm',d);\n",
"//end"
   ]
   }
,
{
		   "cell_type": "markdown",
		   "metadata": {},
		   "source": [
			"## Example 3.5: value_of_liquid_and_gas_film_coefficient.sce"
		   ]
		  },
  {
"cell_type": "code",
	   "execution_count": null,
	   "metadata": {
	    "collapsed": true
	   },
	   "outputs": [],
"source": [
"clear;\n",
"clc;\n",
"printf('\t Example 3.5\n');\n",
"Kg=2.72*10^-4;            //overall gas phase mass transfer coefficient in kmol/m^2*S*atm\n",
"r_gas=0.85*(1/Kg);        //given that gas phase resisitance is 0.85 times overall resistance\n",
"kg=1/r_gas;            \n",
"m=9.35*10^-3;            //henry's law constant in atm*m^3/kmol\n",
"kl=m/(1/Kg-1/kg);        //liquid phase mass transfer coefficient in m/s\n",
"printf('\nthe value of liquid film coefficient kl : %f*10^-5 m/s',kl/10^-5);\n",
"printf('\nthe value of gas film coefficient kg : %f*10^-5 m/s',kg/10^-5);\n",
"p=1;                     //overall pressure in atm\n",
"\n",
"        //NA=Kg(pag-pa*)=kg(pag-pai)=kl(Cai-Cal)\n",
"Yag=0.1;                //molefraction of ammonia\n",
"Cal=6.42*10^-2;         //liquid phase concentration \n",
"Pag=Yag*p;              //pressure of ammonia\n",
"         //Pai and Cai indicates interfacial pressure and conc.\n",
"        //Pal and Cal indicates bulk pressure and conc.\n",
"\n",
"        //Pai=m*C_ai;\n",
"        //NA=kg(pag-pai)=kl(Cai-Cal)\n",
"        \n",
"Cai=poly([0],'Cai');        //calc. of conc. in gas phase\n",
"x=roots((Pag-m*Cai)*(kg/kl)-(Cai-Cal));\n",
"printf('\nthe value of interphase conc.cai :%f kmol/m^3',x);\n",
"Pai=m*x;\n",
"printf('\nthe value of interphase pressure pai is:%f atm',Pai);\n",
"//end"
   ]
   }
,
{
		   "cell_type": "markdown",
		   "metadata": {},
		   "source": [
			"## Example 3.6: concentration_of_ammonia_and_interfacial_partial_pressure.sce"
		   ]
		  },
  {
"cell_type": "code",
	   "execution_count": null,
	   "metadata": {
	    "collapsed": true
	   },
	   "outputs": [],
"source": [
"clear;\n",
"clc;\n",
"printf('\t Example 3.6\n');\n",
"//kg/kl=0.9=t       \n",
"//Pai=0.3672*Cai    so;              \n",
"m=0.3672;\n",
"t=.9;\n",
"        //Pai and Cai indicates interfacial pressure and conc.\n",
"        //Pal and Cal indicates bulk pressure and conc.\n",
"Yag=0.15;                //molefraction of ammonia\n",
"Cal=0.147;         //liquid phase concentration in kmol/m^3\n",
"p=1;                    //overall pressure\n",
"Pag=Yag*p;              //pressure of ammonia\n",
"\n",
"        //Pai=m*C_ai;\n",
"        //kg/kl=(Cai-Cal)/(Pag-Pai);\n",
"        \n",
"Cai=poly([0],'Cai');        //calc. of conc. in gas phase\n",
"x=roots((Pag-m*Cai)*(t)-(Cai-Cal));\n",
"printf('\nthe value of  conc. of ammonia cai is  :%f kmol/m^3',x);\n",
"Pai=m*x;\n",
"printf('\nthe value of interphase pressure Pai is  :%f atm',Pai);"
   ]
   }
,
{
		   "cell_type": "markdown",
		   "metadata": {},
		   "source": [
			"## Example 3.7: diffusivity_of_gas_overall_transfer_cofficient.sce"
		   ]
		  },
  {
"cell_type": "code",
	   "execution_count": null,
	   "metadata": {
	    "collapsed": true
	   },
	   "outputs": [],
"source": [
"\n",
"clear;\n",
"clc;\n",
"printf('\t Example 3.7\n');\n",
"D=.1;\n",
"l=3;             // l is length of bubble in cm\n",
"a=3.14*D*l;      // area in cm^2\n",
"Ca_o=0.0001;    //pure conc. of gas in g*mol/cc*atm\n",
"Ca=0;\n",
"NA=.482*10^-5;   // molar rate of absorption in g*moles/s\n",
"        //Pa_o and Ca_o indicates pure pressure and conc.\n",
"kl=NA/(a*(Ca_o-Ca));    //mass transfer coefficient acc. to higbie's penetration theory\n",
"Q=4;                    //volumetric flow rate in cc/s\n",
"A=3.14*.1*.1/4;         //area of flow\n",
"v=Q/A;                 //velocity of flow in cm/s\n",
"\n",
"//timt t=bubble length/linear velocity;\n",
"t=l/v;\n",
"DAB=(kl^2)*3.14*t/4;    //diffusivity in cm^2/s\n",
"D_new=0.09;              //revised diameter reduced to.09\n",
"a_new=3.14*l*D_new;        //revised area\n",
"A_new=3.14*0.09*0.09/4;    //revised flow area\n",
"v_new=Q/A_new;            //revised velocity\n",
"printf('\nthe value of diffusivity of gas DAB is :%f cm/s',DAB/10^-5);\n",
"\n",
"t_new=l/v_new;            //revised time\n",
"kl_new=2*(DAB/(3.14*0.0047))^0.5;    //revised mass transfer coefficient \n",
"NA_new=kl_new*a_new*(Ca_o-Ca);       //revised molar rate absorption in g*moles/s\n",
"printf('\nthe value of NA_new is  :%f*10^-6 kmol/m^3',NA_new/10^-6);\n",
"//end"
   ]
   }
,
{
		   "cell_type": "markdown",
		   "metadata": {},
		   "source": [
			"## Example 3.8: overall_gas_phase_mass_transfer_flux.sce"
		   ]
		  },
  {
"cell_type": "code",
	   "execution_count": null,
	   "metadata": {
	    "collapsed": true
	   },
	   "outputs": [],
"source": [
"\n",
"clear;\n",
"clc;\n",
"printf('\t Example 3.8\n');\n",
"Kg=7.36*10^-10;\n",
"p=1.013*10^5;\n",
"Ky=Kg*p;\n",
"//resistance in gas phase is 0.45 of total resistance & .55 in liquid phase\n",
"//(resistance in gas phase)r_gas=1/ky and (resistance in liq phase)r_liq=m'/kx\n",
"r_gas=0.45*(1/Ky);\n",
"ky=1/r_gas;\n",
"r_liq=0.55*(1/Ky);\n",
"printf('\n film based liq phase mass transfer coeff.ky is  :%f ',ky);\n",
"//from equilibrium relantionship indicates linear behaviour thus the slope of equilibrium curve is 86.45\n",
"m1=86.45;\n",
"kx=m1/r_liq;\n",
"yag=.1;\n",
"xal=(.4/64)/((99.6/18)+(.4/64));\n",
"printf('\n film based gas phase mass transfer coeff.ky is  :%f ',kx);\n",
"//slope of the line gives -kx/ky=-70.61\n",
"m2=m1;                           // since equilibrium line a straigth line m'=m''\n",
"Kx=1/(1/kx+(1/(m2*ky)));        //overall liquid phase mass transfer coefficient\n",
"printf('\n overall  liq phase mass transfer coefficient Kx is  :%f ',Kx);\n",
"// equillibrium relation is given under\n",
"p = [0.2 0.3 0.5 0.7];\n",
"a = [29 46 83 119];\n",
"i=1;\n",
"    //looping for calcullating mole fraction\n",
"while (i<5)\n",
"    x(i)= (p(i)/64)/(p(i)/64+100/18);\n",
"    y(i)= a(i)/760;                    //mole fraction plotted on y-axis\n",
"    i=i+1;                            //mole fraction plotted on x-axis\n",
"end\n",
"plot(x,y,'o-');\n",
"title('Fig.3.17,Example 8');\n",
"xlabel('X-- Concentration of SO2 in liquid phase, X(10^4)(molefraction)');\n",
"ylabel('Y-- Concentration of SO2 in gas phase, Y(molefraction)');\n",
"\n",
"    //from the graph we get these values\n",
"yao=.083;        //corresponding to the value of xao=0.001128\n",
"xao=.00132;      //corresponding to the value of yag=.1\n",
"yai=.0925;      //corresponding to the perpendicular dropped from the pt(.001128,0.1)  \n",
"xai=.00123;\n",
"       \n",
"    // flux based on overall coefficient\n",
"NAo_gas=Ky*(yag-yao);\n",
"NAo_liq=Kx*(xao-xal);\n",
"printf('\n overall gas phase mass transfer flux -NAo_gas is  :%f*10^-6 kmol/m^2*s ',NAo_gas/10^-6);\n",
"printf('\n overall liq phase mass transfer flux -NAo_liq is  :%f*10^-6 kmol/m^2*s ',NAo_liq/10^-6);\n",
"\n",
"    // flux based on film coefficient \n",
"NAf_gas=ky*(yag-yai);\n",
"NAf_liq=kx*(xai-xal);\n",
"printf('\n film based gas phase mass transfer flux-NAf_gas is  :%f *10^-6 kmol/m^2*s',NAf_gas/10^-6);\n",
"printf('\n film based liq phase mass transfer flux-NAf_liq is  :%f *10^-6 kmol/m^2*s',NAf_liq/10^-6);\n",
"//end"
   ]
   }
,
{
		   "cell_type": "markdown",
		   "metadata": {},
		   "source": [
			"## Example 3.9: concentration_of_acid_at_outlet.sce"
		   ]
		  },
  {
"cell_type": "code",
	   "execution_count": null,
	   "metadata": {
	    "collapsed": true
	   },
	   "outputs": [],
"source": [
"\n",
"clear;\n",
"clc;\n",
"printf('\t Example 3.9\n');\n",
"Cas=1.521*10^-7;\n",
"v=1525;       //velocity in m/s\n",
"D=0.0516;    //diffusivity  in cm^2/s\n",
"d=1.25*10^-3;        //density of air in g/cm^3\n",
"u=1.786*10^-4;         //viscosity of air in n*s/m^2\n",
"Dia=2.54;       //diameter in cm\n",
"nre=(Dia*v*d)/(u);     //calc. of reynolds no.\n",
"cf=2*0.036*(nre)^(-0.25);        //friction factor\n",
"nsc=(u)/(d*D);        //calc of schmidt no.\n",
"kc=(cf*v)/(2*(nsc)^(2/3));        //cf/2=kc/uo*(sc)^2/3\n",
"\n",
"//consider an elelmental section of dx at a distance of x from the point of entry of air.\n",
"//let the conc. be c of diffusing component and c+dc at the point of leaving. mass balance across this elelmental gives\n",
"                  //rate of mass transfer=(cross sectional area)*(air velocity)*dc\n",
"                 //                       =(3.14*d^2/4)*v*dc  -----1 eqn\n",
"                                        \n",
"//flux for mass transfer from the surface=kc*(Cas-C)\n",
"//                  rate of mass transfer=(flux)*mass transfer\n",
"//                                       =kc*(Cas-C)*3.14*dx*D------2 eqn\n",
"//                           solving ----1 & -----2 we get\n",
"//                           \n",
"//                           (3.14*d^2/4)*v*dc=kc*(Cas-C)*3.14*dx*d;\n",
"//                           dc/(Cas-C)=(kc*3.14*d*v)/(3.14*d^2/4)*dx\n",
"//                           solving this we get\n",
"//                           ln[(Cas-C)/(Cas-C_in)]=(kc*4*x)/(d*v)\n",
"\n",
"x=183;            //upper limit of x\n",
"C_in=0;            //C=C_in=0;\n",
"t=(kc*4*x)/(Dia*v);    //variable to take out the exponential\n",
"z=%e^t;\n",
"C_final=Cas-(z*(Cas-C_in));        //value of c_final in g*mol/cc;\n",
"printf('\t conc. of acid at outlet   :%f *10^-8 g*mol/cc\n',abs(C_final/10^-8));\n",
"rate=(3.14*Dia^2/4)*v*(C_final-C_in);\n",
"printf('\trate of mass transfer  :%f *10^-4 g*mol/s\n',abs(rate/10^-4));\n",
"//End"
   ]
   }
],
"metadata": {
		  "kernelspec": {
		   "display_name": "Scilab",
		   "language": "scilab",
		   "name": "scilab"
		  },
		  "language_info": {
		   "file_extension": ".sce",
		   "help_links": [
			{
			 "text": "MetaKernel Magics",
			 "url": "https://github.com/calysto/metakernel/blob/master/metakernel/magics/README.md"
			}
		   ],
		   "mimetype": "text/x-octave",
		   "name": "scilab",
		   "version": "0.7.1"
		  }
		 },
		 "nbformat": 4,
		 "nbformat_minor": 0
}
