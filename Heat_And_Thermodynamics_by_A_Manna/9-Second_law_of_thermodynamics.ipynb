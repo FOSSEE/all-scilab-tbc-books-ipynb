{
"cells": [
 {
		   "cell_type": "markdown",
	   "metadata": {},
	   "source": [
       "# Chapter 9: Second law of thermodynamics"
	   ]
	},
{
		   "cell_type": "markdown",
		   "metadata": {},
		   "source": [
			"## Example 9.10: The_indicated_thermal_efficiency.sce"
		   ]
		  },
  {
"cell_type": "code",
	   "execution_count": null,
	   "metadata": {
	    "collapsed": true
	   },
	   "outputs": [],
"source": [
"clc\n",
"clear\n",
"\n",
"//INPUT\n",
"ip=16.3*500*778/33000;//input power of the engine in HP\n",
"me=0.72;//mechanical efficiency of the engine\n",
"bhp=31;//brake horse power in b.h.p\n",
"ihp=bhp/me;//indicated horse power in HP\n",
"\n",
"//CALCULATIONS\n",
"i=ihp/ip;//indicated thermal efficiency\n",
"\n",
"//OUTPUT\n",
"mprintf('the indicted thermal efficiency is %3.3f',i)"
   ]
   }
,
{
		   "cell_type": "markdown",
		   "metadata": {},
		   "source": [
			"## Example 9.11: The_horse_power_of_the_steam_engine.sce"
		   ]
		  },
  {
"cell_type": "code",
	   "execution_count": null,
	   "metadata": {
	    "collapsed": true
	   },
	   "outputs": [],
"source": [
"clc\n",
"clear\n",
"\n",
"//INPUT\n",
"p=200;//horse power of steam engine in lbs coal per hour\n",
"j=770;//joules constant in ft lbs per B.Th.U\n",
"\n",
"//CALCULATIONS\n",
"w=12500*p*j;//equivalent work in ft.lb.per.hr\n",
"hp=w/(60*33000);//horse power\n",
"\n",
"//OUTPUT\n",
"mprintf('hoose power of the engine is %3.2f',hp)"
   ]
   }
,
{
		   "cell_type": "markdown",
		   "metadata": {},
		   "source": [
			"## Example 9.12: The_maximum_pressure.sce"
		   ]
		  },
  {
"cell_type": "code",
	   "execution_count": null,
	   "metadata": {
	    "collapsed": true
	   },
	   "outputs": [],
"source": [
"clc\n",
"clear\n",
"\n",
"//INPUT\n",
"t1=340;//temperature of the atmosphere in K\n",
"t2=612;//temperature of the compression stroke in K\n",
"y=1.39;//adiabatic expansion \n",
"t3=2040;//temperature after constant volume ignition in K\n",
"\n",
"//CALCULATIONS\n",
"d=(t2/t1)^(1/(y-1));//density in gm/cc\n",
"n=1-(1/d)^(y-1);//efficiency of the engine\n",
"p=((d)^(y))*(t3/t2);//maximum temperature of the temperature in atm\n",
"\n",
"//OUTPUT\n",
"mprintf('the maximum pressure of the engine is %3.2f atm',p)"
   ]
   }
,
{
		   "cell_type": "markdown",
		   "metadata": {},
		   "source": [
			"## Example 9.13: The_efficiency_of_the_engine.sce"
		   ]
		  },
  {
"cell_type": "code",
	   "execution_count": null,
	   "metadata": {
	    "collapsed": true
	   },
	   "outputs": [],
"source": [
"clc\n",
"clear\n",
"\n",
"//INPUT\n",
"t1=915;//temperature at the beggining in K\n",
"t2=2040;//temperature at the end in K\n",
"d=12.6;//adiabatic expansion ratio\n",
"y=1.39;//coefficent of expansion\n",
"\n",
"//CALCULATIONS\n",
"x=t2/t1;//ratio temparatures\n",
"n=1-(1/d)^(y-1)*((x^y)-1)/(y*(x-1));//efficiency of the engine\n",
"\n",
"//OUTPUT\n",
"mprintf('the efficiency of the engine is %3.3f',n)"
   ]
   }
,
{
		   "cell_type": "markdown",
		   "metadata": {},
		   "source": [
			"## Example 9.14: The_pressure_and_temperature.sce"
		   ]
		  },
  {
"cell_type": "code",
	   "execution_count": null,
	   "metadata": {
	    "collapsed": true
	   },
	   "outputs": [],
"source": [
"clc\n",
"clear\n",
"\n",
"//INPUT\n",
"p1=15;//intial pressure in lb/sq.inch\n",
"dv=15;//ratio of intial to final volume\n",
"t1=520;//temperature at intial in K\n",
"y=1.4;//coefficient of expansion\n",
"\n",
"//CALCULATIONS\n",
"p2=p1*(dv)^(y);//final pressure in lb/sq.inch\n",
"t2=t1*(dv)^(y-1);//final temperatire in K\n",
"\n",
"//OUTPUT\n",
"mprintf('the final pressure is %3.2f lb/sq.inch \n the final temperature is %3.2f K',p2,t2)"
   ]
   }
,
{
		   "cell_type": "markdown",
		   "metadata": {},
		   "source": [
			"## Example 9.1: The_temperature.sce"
		   ]
		  },
  {
"cell_type": "code",
	   "execution_count": null,
	   "metadata": {
	    "collapsed": true
	   },
	   "outputs": [],
"source": [
"clc\n",
"clear\n",
"\n",
"//INPUT\n",
"t2=300;//temperature of the sink in K\n",
"n1=0.4;//efficiency of the engine\n",
"n2=0.6;//efficiency of the engine\n",
"\n",
"//CALCULATIONS\n",
"t1=t2/(1-n1);//temperature of the source in K\n",
"t3=t2/(1-n2);//temperature of the source in K\n",
"\n",
"//OUTPUT\n",
"mprintf('the temperature of the source when 0.4 efficiency is %3.2f K \n the temperature of the source when 0.6 efficiency is %3.2f K',t1,t3)"
   ]
   }
,
{
		   "cell_type": "markdown",
		   "metadata": {},
		   "source": [
			"## Example 9.2: The_work_done_heat_rejected_and_efficiency.sce"
		   ]
		  },
  {
"cell_type": "code",
	   "execution_count": null,
	   "metadata": {
	    "collapsed": true
	   },
	   "outputs": [],
"source": [
"clc\n",
"clear\n",
"\n",
"//INPUT\n",
"t2=273;//temperature of the sink in K\n",
"t1=373;//temperature of the source in K\n",
"q1=840;//heat supplied in joules\n",
"j=4.2;//joukes constant in erg/cal\n",
"\n",
"//CALCULATIONS\n",
"w=(q1/t1)*(t1-t2);//work done in joules\n",
"q2=(q1/j)*(t2/t1);//heat rejected in calories\n",
"n=1-(t2/t1);//efficiency of the engine\n",
"\n",
"//OUTPUT\n",
"mprintf('work done is %3.2f j \n heat rejected is %3.2f cal \n the efficiency of the engine is %3.2f',w,q2,n)"
   ]
   }
,
{
		   "cell_type": "markdown",
		   "metadata": {},
		   "source": [
			"## Example 9.3: The_temperature_of_the_source.sce"
		   ]
		  },
  {
"cell_type": "code",
	   "execution_count": null,
	   "metadata": {
	    "collapsed": true
	   },
	   "outputs": [],
"source": [
"clc\n",
"clear\n",
"\n",
"//INPUT\n",
"t1=90;//temperature of the oxygen boils in K\n",
"t2=20;//temperature of the liquid hydrogen in K\n",
"t3=300;//temperature of the sink in K\n",
"\n",
"//CALCULATIONS\n",
"n=(t1-t2)/t1;//efficiency of the engine\n",
"t4=t3/(1-n);//temperature of the source in K\n",
"\n",
"//OUTPUT\n",
"mprintf('the efficiency of the engine is %3.2f \n the temperature of the source is %3.2f K',n,t4)"
   ]
   }
,
{
		   "cell_type": "markdown",
		   "metadata": {},
		   "source": [
			"## Example 9.4: The_quantity_of_heat.sce"
		   ]
		  },
  {
"cell_type": "code",
	   "execution_count": null,
	   "metadata": {
	    "collapsed": true
	   },
	   "outputs": [],
"source": [
"clc\n",
"clear\n",
"\n",
"//INPUT\n",
"t1=373;//temperature of the source in K\n",
"t2=273;//temperature of the sink in K\n",
"w=1200*10^5*980;//work done in ergs\n",
"j=4.18*10^7;//joules constant in ergs/cal\n",
"\n",
"//CALCULATIONS\n",
"q=(w/j)*(t1/(t1-t2));//heat added in cal\n",
"\n",
"//OUTPUT\n",
"mprintf('the heat added is %3.2f cal',q)"
   ]
   }
,
{
		   "cell_type": "markdown",
		   "metadata": {},
		   "source": [
			"## Example 9.5: The_efficiency_and_energy_to_be_supplied.sce"
		   ]
		  },
  {
"cell_type": "code",
	   "execution_count": null,
	   "metadata": {
	    "collapsed": true
	   },
	   "outputs": [],
"source": [
"clc\n",
"clear\n",
"\n",
"//INPUT\n",
"t1=273;//temperature of the source in K\n",
"t2=290;//temperature of the sink in K\n",
"l=8*10^11;//latent of fusion in ergs/cal\n",
"\n",
"//CALCULATIONS\n",
"n=(t2-t1)/t1;//efficiency of the engine\n",
"w=n*l;//energy to be supplied in ergs\n",
"\n",
"//OUTPUT\n",
"mprintf('efficiency of the engine is %3.2f \n energy to be supplied is %3.2f ergs',n,w)"
   ]
   }
,
{
		   "cell_type": "markdown",
		   "metadata": {},
		   "source": [
			"## Example 9.6: The_work_done.sce"
		   ]
		  },
  {
"cell_type": "code",
	   "execution_count": null,
	   "metadata": {
	    "collapsed": true
	   },
	   "outputs": [],
"source": [
"clc\n",
"clear\n",
"\n",
"//INPUT\n",
"t1=373;//temperature in K\n",
"t2=273;//temperature of sink in K\n",
"q=10^4;//heat taken at higher temperature in cal\n",
"j=4.2*10^7;//joules constant in ergs/cal\n",
"\n",
"//CALCULATIONS\n",
"w=q*j*(t1-t2)/t1;//work done in ergs\n",
"\n",
"//OUTPUT\n",
"mprintf('work done is %3.2f ergs',w)"
   ]
   }
,
{
		   "cell_type": "markdown",
		   "metadata": {},
		   "source": [
			"## Example 9.7: The_heat_supplied_rejected_and_efficiency.sce"
		   ]
		  },
  {
"cell_type": "code",
	   "execution_count": null,
	   "metadata": {
	    "collapsed": true
	   },
	   "outputs": [],
"source": [
"clc\n",
"clear\n",
"\n",
"//INPUT\n",
"p=100*746/4.2;//power developed in cal/sec\n",
"t1=300;//temperature of the sink in K\n",
"t2=500;//temperature of the source in K\n",
"\n",
"//CALCULATIONS\n",
"n=1-(t1/t2);//efficiency of the engine\n",
"q1=p/n;//heat supplied in cal/sec\n",
"q2=q1*(1-n);//heat rejected to the sink in cal/sec\n",
"\n",
"//OUTPUT\n",
"mprintf('the efficiency of the engine is %3.2f \n the heat supplied is %3.2f cal/sec \n the heat rejected is %3.2f cal/sec',n,q1,q2)"
   ]
   }
,
{
		   "cell_type": "markdown",
		   "metadata": {},
		   "source": [
			"## Example 9.8: The_lowest_temperature_work_done_and_efficiency.sce"
		   ]
		  },
  {
"cell_type": "code",
	   "execution_count": null,
	   "metadata": {
	    "collapsed": true
	   },
	   "outputs": [],
"source": [
"clc\n",
"clear\n",
"\n",
"//INPUT\n",
"y=1.4;//coefficent of expansion\n",
"t1=600;//intial temperature in K\n",
"dv=1/6;//ratio of intial to final volume\n",
"p=12*1.013*10^6;//pressure in dyne/sq.cm\n",
"v=1000;//intial voluume in cc\n",
"\n",
"//CALCULATIONS\n",
"t2=t1*(dv)^(y-1);//final temperature in K\n",
"r=(p*v)/t1;//universal gas constant in ergs/kg.K\n",
"w=r*(t1-t2)*log(1/dv);//work done in ergs\n",
"n=1-(t2/t1);//efficiency of the engine\n",
"\n",
"//OUTPUT\n",
"mprintf('the lowest temperature is %3.2f K \n work done is %3.2f ergs \n the efficiency of the engine is %3.2f',t2,w,n)"
   ]
   }
,
{
		   "cell_type": "markdown",
		   "metadata": {},
		   "source": [
			"## Example 9.9: Percentage_of_heat_produced_wasted.sce"
		   ]
		  },
  {
"cell_type": "code",
	   "execution_count": null,
	   "metadata": {
	    "collapsed": true
	   },
	   "outputs": [],
"source": [
"clc\n",
"clear\n",
"\n",
"//INPUT\n",
"l=964.8;//latent heat of steam in B.Th.U per lb\n",
"q=4*15*l*778;//heat developed in ft lbs\n",
"w=30000*60;//work done is ft lbs\n",
"\n",
"//CALCULATIONS\n",
"n=(w/q)*100;//efficiency of the engine\n",
"p=100-n;//percentage of heat wasted\n",
"\n",
"//OUTPUT\n",
"mprintf('the percentage of the heat wasted is %3.2f',p)"
   ]
   }
],
"metadata": {
		  "kernelspec": {
		   "display_name": "Scilab",
		   "language": "scilab",
		   "name": "scilab"
		  },
		  "language_info": {
		   "file_extension": ".sce",
		   "help_links": [
			{
			 "text": "MetaKernel Magics",
			 "url": "https://github.com/calysto/metakernel/blob/master/metakernel/magics/README.md"
			}
		   ],
		   "mimetype": "text/x-octave",
		   "name": "scilab",
		   "version": "0.7.1"
		  }
		 },
		 "nbformat": 4,
		 "nbformat_minor": 0
}
