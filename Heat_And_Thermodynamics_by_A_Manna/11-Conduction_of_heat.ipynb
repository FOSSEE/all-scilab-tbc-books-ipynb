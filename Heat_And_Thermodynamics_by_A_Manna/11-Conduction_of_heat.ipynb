{
"cells": [
 {
		   "cell_type": "markdown",
	   "metadata": {},
	   "source": [
       "# Chapter 11: Conduction of heat"
	   ]
	},
{
		   "cell_type": "markdown",
		   "metadata": {},
		   "source": [
			"## Example 11.10: The_distance.sce"
		   ]
		  },
  {
"cell_type": "code",
	   "execution_count": null,
	   "metadata": {
	    "collapsed": true
	   },
	   "outputs": [],
"source": [
"clc\n",
"clear\n",
"\n",
"//INPUT\n",
"t1=15;//temperature of the one end of the slab in deg.C\n",
"t2=45;//temperature of the other end of the slab in deg.C\n",
"k=0.3;//thermal conductivity in cgs unit\n",
"d=7;//density of the material in gm/cc\n",
"cp=1;//specific heat of the material in kj/kg.K\n",
"t=5*3600;//time in sec\n",
"dt=1/10;//thermometer reading in deg.C\n",
"\n",
"//CALCULATIONS\n",
"b=(3.14*d*cp/(t*k))^(0.5);\n",
"x=(log((t2-t1)/dt))/b;//distance from which temparature variation can be detected in cm\n",
"\n",
"//OUTPUT\n",
"mprintf('the distance from which temparature variation can be detected is %3.1f cm',x)"
   ]
   }
,
{
		   "cell_type": "markdown",
		   "metadata": {},
		   "source": [
			"## Example 11.1: The_amount_of_heat_conducted.sce"
		   ]
		  },
  {
"cell_type": "code",
	   "execution_count": null,
	   "metadata": {
	    "collapsed": true
	   },
	   "outputs": [],
"source": [
"clc\n",
"clear\n",
"\n",
"//INPUT\n",
"k=0.12;//thermal conductivity in cgs unit\n",
"t1=200;//temperature at one side in deg.C\n",
"t2=50;//temperature at other side in deg.C\n",
"t=3600;//time in sec\n",
"a=1;//area in sq.cm\n",
"t3=3;//thickness of the plate in cm\n",
"\n",
"//CALCULATIONS\n",
"q=k*a*(t1-t2)*t/t3;//amount of heat conducted in cal\n",
"\n",
"//OUTPUT\n",
"mprintf('the amount of heat conducted is %3.2f cal',q)"
   ]
   }
,
{
		   "cell_type": "markdown",
		   "metadata": {},
		   "source": [
			"## Example 11.2: The_rate_of_flow_of_water.sce"
		   ]
		  },
  {
"cell_type": "code",
	   "execution_count": null,
	   "metadata": {
	    "collapsed": true
	   },
	   "outputs": [],
"source": [
"clc\n",
"clear\n",
"\n",
"//INPUT\n",
"k=0.9;//thermal conductivity in cgs unit\n",
"a=10;//area of the copper bar in sq.cm\n",
"t1=100;//hot side temperature in deg.C\n",
"t2=20;//cool side temperature in deg.C\n",
"d=25;//thickness of the bar in cm\n",
"t3=14;//temperature of water when entering in deg.C\n",
"\n",
"//CALCULATIONS\n",
"m=k*a*(t1-t2)/(d*(t2-t3));//rate flow of water in gm/sec\n",
"\n",
"//OUTPUT\n",
"mprintf('rate flow of water is %3.2f gm/sec',m)"
   ]
   }
,
{
		   "cell_type": "markdown",
		   "metadata": {},
		   "source": [
			"## Example 11.3: The_thermal_conductivity_of_cork.sce"
		   ]
		  },
  {
"cell_type": "code",
	   "execution_count": null,
	   "metadata": {
	    "collapsed": true
	   },
	   "outputs": [],
"source": [
"clc\n",
"clear\n",
"\n",
"//INPUT\n",
"i=1.18;//current in amperes\n",
"e=20;//potential difference across its ends in volts\n",
"j=4.2;//joules constant in joule/cal\n",
"a=2*10^4;//area of the slab in sq.cm\n",
"t=5;//thickness of the plate in cm\n",
"t1=12.5;//temperature at hot side in K\n",
"t2=0;//temperature at cold side in k\n",
"\n",
"//CALCULATIONS\n",
"k=e*i*t/(j*a*(t1-t2));//thermal conductivity in cgs unit\n",
"\n",
"//OUTPUT\n",
"mprintf('thermal conductivity of slab is %3.5f cgs unit',k)"
   ]
   }
,
{
		   "cell_type": "markdown",
		   "metadata": {},
		   "source": [
			"## Example 11.4: The_thermal_conductivity_of_glass.sce"
		   ]
		  },
  {
"cell_type": "code",
	   "execution_count": null,
	   "metadata": {
	    "collapsed": true
	   },
	   "outputs": [],
"source": [
"clc\n",
"clear\n",
"\n",
"//INPUT\n",
"l=30;//length of the tube in cm\n",
"t=100;//temperature at outside in deg.C\n",
"t1=40;//tempertaure of water when leaving tube in deg.C\n",
"t2=20;//temperature of water when entering tube in deg.C\n",
"m=165/60;//mass flow rete of water in cc/sec\n",
"r1=6;//internal radii in mm\n",
"r2=8;//external radii in mm\n",
"\n",
"//CALCULATIONS\n",
"k=m*(t1-t2)*log(r2/r1)/(2*3.14*l*(t-((t1+t2)/2)));//thermal conductivity in cgs unit\n",
"\n",
"//OUTPUT\n",
"mprintf('thermal conductivity of the tube is %3.4f cgs unit',k)"
   ]
   }
,
{
		   "cell_type": "markdown",
		   "metadata": {},
		   "source": [
			"## Example 11.5: The_thermal_conductivity_of_nickel.sce"
		   ]
		  },
  {
"cell_type": "code",
	   "execution_count": null,
	   "metadata": {
	    "collapsed": true
	   },
	   "outputs": [],
"source": [
"clc\n",
"clear\n",
"\n",
"//INPUT\n",
"l1=1.9;//length of the first bar in cm\n",
"l2=5;//length of the second bar in cm\n",
"k2=0.92;//thermal conductivity in cgs unit\n",
"\n",
"//CALCULATIONS\n",
"k1=k2*(l1/l2)^2;//thermal conductivity if first bar in cgs unit\n",
"\n",
"//OUTPUT\n",
"mprintf('thermal conductivity of first bar is %3.3f cgs unit',k1)"
   ]
   }
,
{
		   "cell_type": "markdown",
		   "metadata": {},
		   "source": [
			"## Example 11.6: The_temperature_of_the_welded_interface.sce"
		   ]
		  },
  {
"cell_type": "code",
	   "execution_count": null,
	   "metadata": {
	    "collapsed": true
	   },
	   "outputs": [],
"source": [
"clc\n",
"clear\n",
"\n",
"//INPUT\n",
"k1=0.92;//thermal conductivity of copper in cgs unit\n",
"k2=0.5;//thermal conductivity of alluminium in cgs unit\n",
"t1=100;//temperature of copper in deg.C\n",
"t2=0;//temperature of alluminium in deg.C\n",
"\n",
"//CALCULATIONS\n",
"t=k1*t1/(k1+k2);//welded teperature in deg.C\n",
"\n",
"//OUTPUT\n",
"mprintf('welded temperature is %3.2f deg.C',t)"
   ]
   }
,
{
		   "cell_type": "markdown",
		   "metadata": {},
		   "source": [
			"## Example 11.7: The_conductivity_of_rubber.sce"
		   ]
		  },
  {
"cell_type": "code",
	   "execution_count": null,
	   "metadata": {
	    "collapsed": true
	   },
	   "outputs": [],
"source": [
"clc\n",
"clear\n",
"\n",
"//INPUT\n",
"w=23;//thermal capacity of calorimeter in cal\n",
"m=440;//mass of water in gm\n",
"l=14.6;//lenght of the rubber tube in cm\n",
"dt=0.019;//rate of change in temperature in deg.C/sec\n",
"t=100;//temperature of steam in deg.C\n",
"t1=22;//temperature of the water in deg.C\n",
"t2=t1;//temperature of calorimeter in deg.C\n",
"r1=1;//external radii in cm\n",
"r2=0.75;//internal radii in cm\n",
"\n",
"//CALCULATIONS\n",
"k=(w+m)*dt*log(r1/r2)/(2*3.14*l*(t-((t1+t2)/2)));//thermal conductivity in cgs unit\n",
"\n",
"//OUTPUT\n",
"mprintf('thermal cnductivity of rubber tube is %3.5f cgs unit',k)"
   ]
   }
,
{
		   "cell_type": "markdown",
		   "metadata": {},
		   "source": [
			"## Example 11.8: Heat_lost_per_hour.sce"
		   ]
		  },
  {
"cell_type": "code",
	   "execution_count": null,
	   "metadata": {
	    "collapsed": true
	   },
	   "outputs": [],
"source": [
"clc\n",
"clear\n",
"\n",
"//INPUT\n",
"ti=18;//inside temperature in deg.C\n",
"to=4;//outside temperature in deg.C\n",
"k1=0.008;//thermal conductivity of stone in cgs unit\n",
"k2=0.12;//thermal conductivity of steel in cgs unit\n",
"t=3600;//time in sec\n",
"t1=25;//thickness of the stone in cm\n",
"t2=2;//thickness of the steel in cm\n",
"a=10^4;//area of the cottage in sq.cm\n",
"\n",
"//CALCULATIONS\n",
"q1=k1*a*(ti-to)*t/(t1);//heat lost by stone per hour in cal\n",
"q2=k2*a*(ti-to)*t/t2;//heat lost by steel per hour in cal\n",
"\n",
"//OUTPUT\n",
"mprintf('heat lost by stone is %3.2f cal \n heat lost by steel is %3.2f cal',q1,q2)"
   ]
   }
,
{
		   "cell_type": "markdown",
		   "metadata": {},
		   "source": [
			"## Example 11.9: The_temperature_of_the_surface.sce"
		   ]
		  },
  {
"cell_type": "code",
	   "execution_count": null,
	   "metadata": {
	    "collapsed": true
	   },
	   "outputs": [],
"source": [
"clc\n",
"clear\n",
"\n",
"//INPUT\n",
"l1=4;//length of the slab1 in cm\n",
"l2=2;//length of the slab2 in cm\n",
"k1=0.5;//thermal conductivity in cgs unit\n",
"k2=0.36;//thermal conductivity in cgs unit\n",
"t1=100;//temperature of the slab1 in deg.C\n",
"t2=0;//temperature of the slab2 in deg.C\n",
"\n",
"//CALCULATIONS\n",
"t=k1*l2*t1/((k2*l1)+(k1*l2));//temperature of the commaon surface in deg.C\n",
"\n",
"//OUTPUT\n",
"mprintf('the temperature of the common surface is %3.0f deg.C',t)"
   ]
   }
],
"metadata": {
		  "kernelspec": {
		   "display_name": "Scilab",
		   "language": "scilab",
		   "name": "scilab"
		  },
		  "language_info": {
		   "file_extension": ".sce",
		   "help_links": [
			{
			 "text": "MetaKernel Magics",
			 "url": "https://github.com/calysto/metakernel/blob/master/metakernel/magics/README.md"
			}
		   ],
		   "mimetype": "text/x-octave",
		   "name": "scilab",
		   "version": "0.7.1"
		  }
		 },
		 "nbformat": 4,
		 "nbformat_minor": 0
}
