{
"cells": [
 {
		   "cell_type": "markdown",
	   "metadata": {},
	   "source": [
       "# Chapter 2: Thermometry"
	   ]
	},
{
		   "cell_type": "markdown",
		   "metadata": {},
		   "source": [
			"## Example 2.1: Temperature.sce"
		   ]
		  },
  {
"cell_type": "code",
	   "execution_count": null,
	   "metadata": {
	    "collapsed": true
	   },
	   "outputs": [],
"source": [
"clc\n",
"clear\n",
"\n",
"//INPUT\n",
"li=1.23;//length of melting ice in mm\n",
"lf=18.56;//length of melting ice reading in pressure of 74.24cm of mercury in mm\n",
"l=10.75;//length of melting ice at which temperature to be calculated\n",
"mp=0;//melting point in deg.C\n",
"T=50;//temperature of melting ice at which length to be calculated in deg.C\n",
"//boiling point of water changes by 1 deg.C for change of pressure of 27mm of mercury\n",
"\n",
"//CALCULATIONS\n",
"sp=100-(76-74.24)/(2.7);//76cm of mercury steam point is 100 deg.C so at 74.24cm of mercury the steam point in deg.C\n",
"t=(l-li)*(sp-mp)/(lf-li);//temperature at 10.75mm of melting ice in deg.C\n",
"lt=((T*(lf-li))/(sp-mp))+li;//length of ice at 50 deg.C\n",
"\n",
"//OUTPUT\n",
"mprintf('the temperature of melting ice at 10.75mm of hg is %3.2f deg.C \n the length of ice corresponding to 50 deg.C is %3.2f mm',t,lt)"
   ]
   }
,
{
		   "cell_type": "markdown",
		   "metadata": {},
		   "source": [
			"## Example 2.2: Temperature_of_the_liquid_air.sce"
		   ]
		  },
  {
"cell_type": "code",
	   "execution_count": null,
	   "metadata": {
	    "collapsed": true
	   },
	   "outputs": [],
"source": [
"clc\n",
"clear\n",
"\n",
"//INPUT\n",
"p1=23.5;//pressure when immersed in liquid air in cm\n",
"p2=75;//pressure when immersed in ice in cm\n",
"p3=102.4;//pressure when immersed in steam in cm\n",
"T=100;//boiling point of temperature in deg.C\n",
"\n",
"//CALCULATIONS\n",
"t=(p1-p2)*T/(p3-p2);//temperature of the liquid air in deg.C\n",
"\n",
"//OUTPUT\n",
"mprintf('the temperature of liquid of air is %3.2f deg.C',t)"
   ]
   }
,
{
		   "cell_type": "markdown",
		   "metadata": {},
		   "source": [
			"## Example 2.3: Height_of_the_barometer.sce"
		   ]
		  },
  {
"cell_type": "code",
	   "execution_count": null,
	   "metadata": {
	    "collapsed": true
	   },
	   "outputs": [],
"source": [
"clc\n",
"clear\n",
"\n",
"//INPUT\n",
"t1=283;//temperature of bulb when pressure is h-2cm of hg in k\n",
"t2=546;//temperature of bulb when pressure is h-22cm of hg in k\n",
"h1=2;//differnce of mercury level at 283k in cm\n",
"h2=22;//differnce of mercury level at 546k in cm\n",
"//let h is the barometer height,then h-2cm at 283k and h-22 at 546k\n",
"\n",
"//CALCULATIONS\n",
"h=((h2*t1)+(h1*t2))/(t2-t1);//height of the barometer in cm\n",
"\n",
"//OUTPUT\n",
"mprintf('height of the barometer is %3.2f cm',h)"
   ]
   }
,
{
		   "cell_type": "markdown",
		   "metadata": {},
		   "source": [
			"## Example 2.4: Temperature_of_the_furnace.sce"
		   ]
		  },
  {
"cell_type": "code",
	   "execution_count": null,
	   "metadata": {
	    "collapsed": true
	   },
	   "outputs": [],
"source": [
"clc\n",
"clear\n",
"\n",
"//INPUT\n",
"p0=76;//pressure at 0 deg.C in cm of hg\n",
"p1=228;//pressure (76+152) at T deg.C in cm of hg\n",
"t0=273;//temperature of bulb in K\n",
"\n",
"//CALCULATIONS\n",
"T=p1*t0/p0;//temperature at 228 cm of hg pressure in K\n",
"\n",
"//OUTPUT\n",
"mprintf('the temperature of bulb is %3.2f K',T)"
   ]
   }
,
{
		   "cell_type": "markdown",
		   "metadata": {},
		   "source": [
			"## Example 2.5: The_temperature_of_the_bath.sce"
		   ]
		  },
  {
"cell_type": "code",
	   "execution_count": null,
	   "metadata": {
	    "collapsed": true
	   },
	   "outputs": [],
"source": [
"clc\n",
"clear\n",
"\n",
"//INPUT\n",
"t1=0;//temperature in deg.C\n",
"t2=100;//temperature in deg.C\n",
"t3=208;//temperature in deg.C\n",
"r1=3.5;//resistance in ohms\n",
"r2=5.2;//resistance in ohms\n",
"r3=6.9;//resistance in ohms\n",
"r4=9.4;//resistance in ohms\n",
"\n",
"//CALCULATIONS\n",
"t4=(r3-r1)*100/(r2-r1);//temperature in deg.C\n",
"d=(t3-t4)/(2.08*1.08);//deflection\n",
"t5=(r4-r1)*100/(r2-r1);//temperature in deg.C\n",
"t6=(d*(((t5/100)^2)-t5/100))+t5;//temperature in deg.C\n",
"t7=(d*(((t6/100)^2)-t6/100))+t5;//temperature in deg.C\n",
"t8=(d*(((t7/100)^2)-t7/100))+t5;//temperature in deg.C\n",
"t9=(d*(((t8/100)^2)-t8/100))+t5;//temperature in deg.C\n",
"\n",
"//CALCULATIONS\n",
"mprintf('the temperature of the bath is %3.2f deg.C',t9)"
   ]
   }
],
"metadata": {
		  "kernelspec": {
		   "display_name": "Scilab",
		   "language": "scilab",
		   "name": "scilab"
		  },
		  "language_info": {
		   "file_extension": ".sce",
		   "help_links": [
			{
			 "text": "MetaKernel Magics",
			 "url": "https://github.com/calysto/metakernel/blob/master/metakernel/magics/README.md"
			}
		   ],
		   "mimetype": "text/x-octave",
		   "name": "scilab",
		   "version": "0.7.1"
		  }
		 },
		 "nbformat": 4,
		 "nbformat_minor": 0
}
