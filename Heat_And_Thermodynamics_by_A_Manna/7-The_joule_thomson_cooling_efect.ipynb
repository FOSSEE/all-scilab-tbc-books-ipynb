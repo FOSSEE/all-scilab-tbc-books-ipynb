{
"cells": [
 {
		   "cell_type": "markdown",
	   "metadata": {},
	   "source": [
       "# Chapter 7: The joule thomson cooling efect"
	   ]
	},
{
		   "cell_type": "markdown",
		   "metadata": {},
		   "source": [
			"## Example 7.1: The_temperature_of_inversion.sce"
		   ]
		  },
  {
"cell_type": "code",
	   "execution_count": null,
	   "metadata": {
	    "collapsed": true
	   },
	   "outputs": [],
"source": [
"clc\n",
"clear\n",
"\n",
"//INPUT\n",
"t=33.18;//critical temperature in K\n",
"pc=12.80*76*981*13.6;//critical pressure in dynes/sq.cm\n",
"r=83.15;//universal gas constant in kj/kg.K\n",
"d=0.08987;//density of hydrogen in gm/lit\n",
"v=2000/0.08987;//gram molecular volune of hydrogen in cc\n",
"\n",
"//CALCULATIONS\n",
"b=r*10^6*t/(8*pc);//vanderwaal constant in cm^3/mol\n",
"to=2*27*t*(1-(b/v))/8;//inversion temperature of the hydrogen in K\n",
"\n",
"//OUTPUT\n",
"mprintf('the inversion temperature of hydrogen is %3.2f K',to)"
   ]
   }
,
{
		   "cell_type": "markdown",
		   "metadata": {},
		   "source": [
			"## Example 7.2: The_change_of_temperature.sce"
		   ]
		  },
  {
"cell_type": "code",
	   "execution_count": null,
	   "metadata": {
	    "collapsed": true
	   },
	   "outputs": [],
"source": [
"clc\n",
"clear\n",
"\n",
"//INPUT\n",
"b=0.00136;//vanderwaal constant in suv/gm\n",
"a=0.011;//vanderwaal constant in atm(suv)^2/gm^2\n",
"r=0.003696;//universal gas constant in atm(suv)/gm.deg\n",
"t=423;//temperature of steam in K\n",
"cp=-0.674/0.024205;//specific heat at 423K in atm(cc)gm(deg)\n",
"\n",
"//CALCULATIONS\n",
"dt=(-b+(2*a/(r*t)))/cp;//change of temperature per atm drop of pressure in deg/atm\n",
"\n",
"//OUTPUT\n",
"mprintf('the change of temperature per atmosphere drop of pressure is %3.7f deg/atm',dt)"
   ]
   }
,
{
		   "cell_type": "markdown",
		   "metadata": {},
		   "source": [
			"## Example 7.3: The_change_in_temperature.sce"
		   ]
		  },
  {
"cell_type": "code",
	   "execution_count": null,
	   "metadata": {
	    "collapsed": true
	   },
	   "outputs": [],
"source": [
"clc\n",
"clear\n",
"\n",
"//INPUT\n",
"r=8.3*10^7;//universal gas constant in ergs/deg.C\n",
"a=1.36*10^6*76*13.6*981;//vanderwaal constant in atm.(suv^2)/(gm^2)\n",
"b=32;//vanderwaal constant in cc\n",
"cp=7.03;//specific heat at constant pressure in cal\n",
"j=4.18*10^7;//joules constant in ergs/cal\n",
"t=273;//temperature of the gas in K\n",
"\n",
"//CALCULATIONS\n",
"dt=((2*a/(r*t))-b)*10^6/(cp*j);//change of temperature in atmosphere drop of pressure in deg/atm/cm^3\n",
"\n",
"//OUTPUT\n",
"mprintf('the change of temperature in atmosphere drop of pressure is %3.2f deg/atm/cm^3',dt)"
   ]
   }
,
{
		   "cell_type": "markdown",
		   "metadata": {},
		   "source": [
			"## Example 7.4: The_change_in_enthalpy.sce"
		   ]
		  },
  {
"cell_type": "code",
	   "execution_count": null,
	   "metadata": {
	    "collapsed": true
	   },
	   "outputs": [],
"source": [
"clc\n",
"clear\n",
"\n",
"//INPUT\n",
"u=1.08;\n",
"cp=8.6;//specific heat in kj/kg.K\n",
"j=4.2;//joules constant in j/cal\n",
"p1=1*1.013*10^6;//pressure at intial in N/sq.m\n",
"p2=20*1.013*10^6;//pressure at final in N/sq.m\n",
"\n",
"//CALCULATIONS\n",
"dh=-u*cp*j*(p1-p2);//change in enthalpy in joules\n",
"\n",
"//OUTPUT\n",
"mprintf('the change in enthalpy is %3.2fjoules',dh)"
   ]
   }
,
{
		   "cell_type": "markdown",
		   "metadata": {},
		   "source": [
			"## Example 7.5: The_inversion_temperature.sce"
		   ]
		  },
  {
"cell_type": "code",
	   "execution_count": null,
	   "metadata": {
	    "collapsed": true
	   },
	   "outputs": [],
"source": [
"clc\n",
"clear\n",
"\n",
"//INPUT\n",
"tc=5.26;//critical temperature of the helium in K\n",
"\n",
"//CALCULATIONS\n",
"ti=27*tc/4;//inversion temperature of the helium in K\n",
"\n",
"//OUTPUT\n",
"mprintf('the inversion temperature of the helium is %3.2f K',ti)"
   ]
   }
,
{
		   "cell_type": "markdown",
		   "metadata": {},
		   "source": [
			"## Example 7.6: The_temperature_of_inversion.sce"
		   ]
		  },
  {
"cell_type": "code",
	   "execution_count": null,
	   "metadata": {
	    "collapsed": true
	   },
	   "outputs": [],
"source": [
"clc\n",
"clear\n",
"\n",
"//INPUT\n",
"a=0.245*10^6*10^6;//vanderwaal constant in cm^4.dyne/mole^2\n",
"b=2.67*10;//vanderwaal constant in cc/mole\n",
"r=2*4.2*10^7;//universal gas constant in ergs/mole.K\n",
"\n",
"//CALCULATIONS\n",
"ti=2*a/(b*r);//inversion temperature in K\n",
"\n",
"//OUTPUT\n",
"mprintf('inversion temperature of hydrogen is %3.2f K',ti)"
   ]
   }
,
{
		   "cell_type": "markdown",
		   "metadata": {},
		   "source": [
			"## Example 7.7: The_drop_in_temperature.sce"
		   ]
		  },
  {
"cell_type": "code",
	   "execution_count": null,
	   "metadata": {
	    "collapsed": true
	   },
	   "outputs": [],
"source": [
"clc\n",
"clear\n",
"\n",
"//INPUT\n",
"dp=50*10^6;//change in pressure in dynes/sq.cm\n",
"cp=7*4.2*10^7;//specific heat constant pressure in ergs/mole.K\n",
"a=1.32*10^12;//vanderwaal constant in cm^4.dyne/mole^2\n",
"b=31.2;//vanderwaal constant in cm^2/mole\n",
"t=300;//inital temperature in K\n",
"r=2*4.2*10^7;//ergs/mole.K\n",
"\n",
"//CALCULATIONS\n",
"dt=((2*a/(r*t))-b)*dp/cp;//change in temperature in K\n",
"\n",
"//OUTPUT\n",
"mprintf('the change in temperature is %3.2f K',dt)"
   ]
   }
,
{
		   "cell_type": "markdown",
		   "metadata": {},
		   "source": [
			"## Example 7.8: The_drop_in_temperature.sce"
		   ]
		  },
  {
"cell_type": "code",
	   "execution_count": null,
	   "metadata": {
	    "collapsed": true
	   },
	   "outputs": [],
"source": [
"clc\n",
"clear\n",
"\n",
"//INPUT\n",
"p1=1;//inital pressure in atm\n",
"p2=51;//final pressure in atm\n",
"t1=300;//inital temperature in K\n",
"y=1.4;//coefficient of expansion\n",
"\n",
"//CALCULATIONS\n",
"t2=t1*(p2/p1)^((1-y)/y);//final temperature in K\n",
"dt=t1-t2;//drop in temperature in K\n",
"\n",
"mprintf('the drop in temperature is %3.2f K',dt)"
   ]
   }
],
"metadata": {
		  "kernelspec": {
		   "display_name": "Scilab",
		   "language": "scilab",
		   "name": "scilab"
		  },
		  "language_info": {
		   "file_extension": ".sce",
		   "help_links": [
			{
			 "text": "MetaKernel Magics",
			 "url": "https://github.com/calysto/metakernel/blob/master/metakernel/magics/README.md"
			}
		   ],
		   "mimetype": "text/x-octave",
		   "name": "scilab",
		   "version": "0.7.1"
		  }
		 },
		 "nbformat": 4,
		 "nbformat_minor": 0
}
