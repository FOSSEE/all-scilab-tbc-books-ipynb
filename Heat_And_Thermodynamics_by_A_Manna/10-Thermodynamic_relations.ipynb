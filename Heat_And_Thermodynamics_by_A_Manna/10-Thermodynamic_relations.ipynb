{
"cells": [
 {
		   "cell_type": "markdown",
	   "metadata": {},
	   "source": [
       "# Chapter 10: Thermodynamic relations"
	   ]
	},
{
		   "cell_type": "markdown",
		   "metadata": {},
		   "source": [
			"## Example 10.10: The_change_in_melting_point.sce"
		   ]
		  },
  {
"cell_type": "code",
	   "execution_count": null,
	   "metadata": {
	    "collapsed": true
	   },
	   "outputs": [],
"source": [
"clc\n",
"clear\n",
"\n",
"//INPUT\n",
"t=353;//temperature in K\n",
"p=76*13.6*981;//pressure in dynes/sq.cm\n",
"v=0.146;//specific volume in cc/kg\n",
"l=35.6;//latent heat of fusion in cal/gm\n",
"j=4.18*10^7;//joules constant in ergs/cal\n",
"\n",
"//CALCULATIONS\n",
"dt=t*p*v/(l*j);//change in melting point per atmosphere\n",
"\n",
"//OUTPUT\n",
"mprintf('the rate of change in melting point is %3.3f per atmosphere',dt)"
   ]
   }
,
{
		   "cell_type": "markdown",
		   "metadata": {},
		   "source": [
			"## Example 10.11: The_change_in_freezing_point_of_water.sce"
		   ]
		  },
  {
"cell_type": "code",
	   "execution_count": null,
	   "metadata": {
	    "collapsed": true
	   },
	   "outputs": [],
"source": [
"clc\n",
"clear\n",
"\n",
"//INPUT\n",
"l=79.6*4.18*10^7;//latent heat of water in ergs/gm\n",
"t=273.16;//temperature of water in K\n",
"v1=1.0001;//specific volume of water at 0deg.C in cc\n",
"v2=1.0908;//specific volume of ice at 0deg.C in cc\n",
"p=1.013*10^6;//pressure of atmosphere in dyne/sq.cm\n",
"\n",
"//CALCULATIONS\n",
"dt=t*(v1-v2)*p/l;//change in freezing point of water in deg.C\n",
"\n",
"//OUTPUT\n",
"mprintf('change inn freezing point of water is %3.4f deg.C',dt)"
   ]
   }
,
{
		   "cell_type": "markdown",
		   "metadata": {},
		   "source": [
			"## Example 10.1: The_latent_heat_of_fusion.sce"
		   ]
		  },
  {
"cell_type": "code",
	   "execution_count": null,
	   "metadata": {
	    "collapsed": true
	   },
	   "outputs": [],
"source": [
"clc\n",
"clear\n",
"\n",
"//INPUT\n",
"t=289.6;//temperature in K\n",
"dt=0.0244;//raise in temperature in deg.C\n",
"v1=0.00095;//volume occupied in liquid state in litres\n",
"v2=0.00079;//volume occupied in solid state in litres\n",
"\n",
"//CALCULATIONS\n",
"l=t*(v1-v2)/dt;//latent heat of fusion in lit.atm\n",
"\n",
"//OUTPUT\n",
"mprintf('the latent heat of fusion is %3.2f lit.atm',l)"
   ]
   }
,
{
		   "cell_type": "markdown",
		   "metadata": {},
		   "source": [
			"## Example 10.2: The_value_of_specific_heat.sce"
		   ]
		  },
  {
"cell_type": "code",
	   "execution_count": null,
	   "metadata": {
	    "collapsed": true
	   },
	   "outputs": [],
"source": [
"clc\n",
"clear\n",
"\n",
"//INPUT\n",
"t=295;//temperature of water in K\n",
"dp=10^6;//cahnge in pressure in dyne/sq.cm\n",
"j=4.2*10^7;//joules constant in ergs/cal\n",
"\n",
"//CALCULATIONS\n",
"dc=-t*10^-5*dp/j;//change in specific heat\n",
"\n",
"//OUTPUT\n",
"mprintf('the change in specific heat is %3.7f cal/degree',dc)"
   ]
   }
,
{
		   "cell_type": "markdown",
		   "metadata": {},
		   "source": [
			"## Example 10.3: The_specific_heat_of_copper.sce"
		   ]
		  },
  {
"cell_type": "code",
	   "execution_count": null,
	   "metadata": {
	    "collapsed": true
	   },
	   "outputs": [],
"source": [
"clc\n",
"clear\n",
"\n",
"//INPUT\n",
"cp=0.0909;//specific heat at constant pressure in cal/degree\n",
"t=273;//temperature in K\n",
"v=0.112;//specific volume in lit/deg.C\n",
"a=5.01*10^(-6);//coefficient of linear expansion\n",
"k=8*10^-7;//compressibility of copper in per atoms\n",
"\n",
"//CALCULATIONS\n",
"cv=cp+(9*a^2*v*t*0.024142*10^3/k);//specific heat at constant volume in cal/deg.C\n",
"\n",
"mprintf('specific heat at constant volume is %3.2f cal/deg.C',cv)"
   ]
   }
,
{
		   "cell_type": "markdown",
		   "metadata": {},
		   "source": [
			"## Example 10.5: The_latent_heat_of_fusion.sce"
		   ]
		  },
  {
"cell_type": "code",
	   "execution_count": null,
	   "metadata": {
	    "collapsed": true
	   },
	   "outputs": [],
"source": [
"clc\n",
"clear\n",
"\n",
"//INPUT\n",
"t=289.6;//temperature in K\n",
"dt=0.0244;//raise in temperature in deg.C\n",
"v1=0.00095;//volume occupied in liquid state in litres\n",
"v2=0.00079;//volume occupied in solid state in litres\n",
"\n",
"//CALCULATIONS\n",
"l=t*(v1-v2)/dt;//latent heat of fusion in lit.atm\n",
"\n",
"//OUTPUT\n",
"mprintf('the latent heat of fusion is %3.2f lit.atm',l)"
   ]
   }
,
{
		   "cell_type": "markdown",
		   "metadata": {},
		   "source": [
			"## Example 10.6: The_rate_of_change_of_saturation_pressure.sce"
		   ]
		  },
  {
"cell_type": "code",
	   "execution_count": null,
	   "metadata": {
	    "collapsed": true
	   },
	   "outputs": [],
"source": [
"clc\n",
"clear\n",
"\n",
"//INPUT\n",
"l=539;//latent heat of water at 100deg.C in cal\n",
"j=4.2*10^7;//joules constant in ergs/cal\n",
"t=373;//temperature of water in K\n",
"v2=1670;//volume of steam formed in cc\n",
"v1=1;//intial volume in cc\n",
"g=981;//acceleration due to gravity in cm/sec^2\n",
"d=13.6;//specific gravity of hg\n",
"\n",
"//CALCULATIONS\n",
"dp=l*j/(t*(v2-v1)*g*d);//rate of change of saturation pressure in cm of mercury\n",
"\n",
"//OUTPUT\n",
"mprintf('the rate of change of saturation pressure is %3.2f cm of hg',dp)"
   ]
   }
,
{
		   "cell_type": "markdown",
		   "metadata": {},
		   "source": [
			"## Example 10.7: The_volume_of_gram_of_steam.sce"
		   ]
		  },
  {
"cell_type": "code",
	   "execution_count": null,
	   "metadata": {
	    "collapsed": true
	   },
	   "outputs": [],
"source": [
"clc\n",
"clear\n",
"\n",
"//INPUT\n",
"p1=77.371;//pressure at 100.5deg.C in cm of hg\n",
"p2=74.650;//pressure at 99.5deg.C in cm of hg\n",
"g=981;//universal gas constant in cm/sec^2\n",
"d=13.6;//specific gravity\n",
"l=537;//latent heat of vapourisation in cal/gm\n",
"t=373;//temperature of water in K\n",
"j=4.2*10^7;//joules constant in ergs/cal\n",
"v1=1;//intial volume in cc\n",
"\n",
"//CALCULATIONS\n",
"v2=v1+(l*j/(t*(p1-p2)*g*d));//volume of gram of steam at 100deg.C in cc\n",
"\n",
"//OUTPUT\n",
"mprintf('volume of gram of steam at 100deg.C is %3.2f cc',v2)"
   ]
   }
,
{
		   "cell_type": "markdown",
		   "metadata": {},
		   "source": [
			"## Example 10.8: The_specific_volume.sce"
		   ]
		  },
  {
"cell_type": "code",
	   "execution_count": null,
	   "metadata": {
	    "collapsed": true
	   },
	   "outputs": [],
"source": [
"clc\n",
"clear\n",
"\n",
"//INPUT\n",
"t=350;//boiling point temperature in K\n",
"l=46;//latent heat of vapourisation in cal/gm\n",
"v1=1/1.6;//intial volume in cc\n",
"dp=2.3;//change in pressure with temperature in cm of hg/deg.C\n",
"d=13.6;//specific gravity of mercury\n",
"g=981;//acceleration due to gravity in cm/sec^2\n",
"j=4.2*10^7;//joukes constant in ergs/cal\n",
"\n",
"//CALCULTIONS\n",
"v2=v1+(l*j)/(t*dp*d*g);//specific volume in cc\n",
"\n",
"//OUTPUT\n",
"mprintf('specific volume of vapour of carbon is %3.3f cc',v2)"
   ]
   }
,
{
		   "cell_type": "markdown",
		   "metadata": {},
		   "source": [
			"## Example 10.9: The_change_in_temperature.sce"
		   ]
		  },
  {
"cell_type": "code",
	   "execution_count": null,
	   "metadata": {
	    "collapsed": true
	   },
	   "outputs": [],
"source": [
"clc\n",
"clear\n",
"\n",
"//INPUT\n",
"l=536;//latent heat of vapourisation in cal/gm\n",
"v1=1;//volume of 1 gm of water in cc\n",
"v2=1600;//volume of steam in cc\n",
"t=373;//boiling point of water in K\n",
"p=1;//pressure in cm of hg\n",
"d=13.6;//specific gravity of mercury\n",
"g=981;//gravitational constant in cm/sec^2s/cal\n",
"j=4.2*10^7;//joules constant in erg/cal\n",
"\n",
"//CALCULATIONS\n",
"dt=(t*(v2-v1)*d*g)/(l*j);//change in temperature in deg.C\n",
"\n",
"//OUTPUT\n",
"mprintf('change in temperature is %3.2f deg.C',dt)"
   ]
   }
],
"metadata": {
		  "kernelspec": {
		   "display_name": "Scilab",
		   "language": "scilab",
		   "name": "scilab"
		  },
		  "language_info": {
		   "file_extension": ".sce",
		   "help_links": [
			{
			 "text": "MetaKernel Magics",
			 "url": "https://github.com/calysto/metakernel/blob/master/metakernel/magics/README.md"
			}
		   ],
		   "mimetype": "text/x-octave",
		   "name": "scilab",
		   "version": "0.7.1"
		  }
		 },
		 "nbformat": 4,
		 "nbformat_minor": 0
}
