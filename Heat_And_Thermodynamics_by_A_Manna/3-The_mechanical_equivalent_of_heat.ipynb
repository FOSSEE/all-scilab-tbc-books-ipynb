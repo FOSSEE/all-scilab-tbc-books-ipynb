{
"cells": [
 {
		   "cell_type": "markdown",
	   "metadata": {},
	   "source": [
       "# Chapter 3: The mechanical equivalent of heat"
	   ]
	},
{
		   "cell_type": "markdown",
		   "metadata": {},
		   "source": [
			"## Example 3.10: The_rise_in_temperature.sce"
		   ]
		  },
  {
"cell_type": "code",
	   "execution_count": null,
	   "metadata": {
	    "collapsed": true
	   },
	   "outputs": [],
"source": [
"clc\n",
"clear\n",
"\n",
"//INPUT DATA \n",
"cp=0.03;//specific heat of lead in kj/kg.k\n",
"v=10000;//initial velocity of bullet in cm/sec\n",
"J=4.2*10^7;//joules constant in ergs/cal\n",
"\n",
"//CALCULATIONS\n",
"//let mass of the bullet in gm\n",
"ke=(v^2)/2;//kinetic energy of the bullet per unit mass in (cm/sec)^2\n",
"//T is the rise in temperature,then heat produced is m*cp*T\n",
"//95% of kinetic energy is converted to heat\n",
"T=ke*95/(cp*J*100);//rise in temperature in deg.C\n",
"\n",
"mprintf('the rise in temperature is %3.1f deg.C',T)"
   ]
   }
,
{
		   "cell_type": "markdown",
		   "metadata": {},
		   "source": [
			"## Example 3.11: The_difference_in_temperature.sce"
		   ]
		  },
  {
"cell_type": "code",
	   "execution_count": null,
	   "metadata": {
	    "collapsed": true
	   },
	   "outputs": [],
"source": [
"clc\n",
"clear\n",
"\n",
"//INPUT DATA \n",
"h=5000;//height of the niagara falls in cm\n",
"J=4.2*10^7;//joules constant in ergs per cal\n",
"g=981;//accelaration due to gravity in cm/sec^2\n",
"\n",
"//CALCULATIIONS\n",
"w=h*g;//work done per unit mass in ergs/gn\n",
"T=w/J;//rise in temperature in deg.C\n",
"\n",
"//OUTPUT\n",
"mprintf('the rise in temperature is %3.2f deg.C',T)"
   ]
   }
,
{
		   "cell_type": "markdown",
		   "metadata": {},
		   "source": [
			"## Example 3.12: The_value_of_J.sce"
		   ]
		  },
  {
"cell_type": "code",
	   "execution_count": null,
	   "metadata": {
	    "collapsed": true
	   },
	   "outputs": [],
"source": [
"clc\n",
"clear\n",
"\n",
"//INPUT DATA \n",
"//callender and barnes continous flow method\n",
"V1=3;//potential difference in v\n",
"V2=3.75;//potential differnce in v\n",
"i1=2;//current in amp\n",
"i2=2.5;//current in amp\n",
"T=2.7;//the rise in temperature of the water in deg.C\n",
"m1=30;//water flow rate at 3 volts in gm/min\n",
"m2=48;//water flow rate at 3.75volts in gm/min\n",
"s=1;//specific heat of the water kj/kg-K\n",
"\n",
"//CALCULATIONS\n",
"J=(V1*i1-V2*i2)/(s*T*(m1-m2)/60);//the mechanical equivalent in j/cal\n",
"\n",
"//OUTPUT\n",
"mprintf('the mechanical equivalent is %3.3f j/cal',J)"
   ]
   }
,
{
		   "cell_type": "markdown",
		   "metadata": {},
		   "source": [
			"## Example 3.13: The_rise_in_temperature.sce"
		   ]
		  },
  {
"cell_type": "code",
	   "execution_count": null,
	   "metadata": {
	    "collapsed": true
	   },
	   "outputs": [],
"source": [
"clc\n",
"clear\n",
"\n",
"//INPUT DATA \n",
"R=64*10^7;//mean radius of the earth in cm\n",
"cp=0.15;//specific heat of earth in kj/kg-K\n",
"J=4.2*10^7;//joules constant in erg/cal\n",
"\n",
"//CALCULATIONS\n",
"i=2/5*R^2;//moment of inertia of the earth per unit mass in joules\n",
"w=(2*3.14)/(24*60*60);//angular velocity of the earth in rad/sec\n",
"T=(i*w^2)/(2*J*cp);//rise in temperature in deg.C\n",
"\n",
"//OUTPUT\n",
"mprintf('the rise in the temperature is %3.1f deg,C',T)"
   ]
   }
,
{
		   "cell_type": "markdown",
		   "metadata": {},
		   "source": [
			"## Example 3.14: The_mechanical_equivalent_of_heat.sce"
		   ]
		  },
  {
"cell_type": "code",
	   "execution_count": null,
	   "metadata": {
	    "collapsed": true
	   },
	   "outputs": [],
"source": [
"clc\n",
"clear\n",
"\n",
"//INPUT DATA \n",
"cp=1.25;//specific heat of helium inkj/kg-K\n",
"v=1000;//volume of the gas in ml\n",
"w=0.1785;//mass of the gas at N.T.P in gm\n",
"p=76*13.6*981;//pressure of the gas at N.T.P in dynes\n",
"T=273;//temperature at N.T.P in K\n",
"\n",
"//CALCULATIONS\n",
"V=1000/w;//volume occupied by the 1gm of helium gas in cc\n",
"cv=cp/1.66;//specific heat at constant volume it is monatomuc gas kj/kg-K\n",
"r=p*V/T;//gas constant in cm^3.atm./K.mol\n",
"J=r/(cp-cv);//mechanical equivalent of heat in erg/cal\n",
"\n",
"//OUTPUT\n",
"mprintf('the mechanical equivalent of heat is %3.2f ergs/calories',J)"
   ]
   }
,
{
		   "cell_type": "markdown",
		   "metadata": {},
		   "source": [
			"## Example 3.15: The_mechanical_equivalent_of_heat.sce"
		   ]
		  },
  {
"cell_type": "code",
	   "execution_count": null,
	   "metadata": {
	    "collapsed": true
	   },
	   "outputs": [],
"source": [
"clc\n",
"clear\n",
"\n",
"//INPUT DATA \n",
"n=1/273;//coefficent of expaaansion of air\n",
"a=0.001293;//density of air in gm/cc\n",
"cp=0.2389;//specific heat at constant pressure in kj/kg.K\n",
"p=76*13.6*981;//pressure at 0 deg.C in dynes\n",
"\n",
"//CALCULATIONS\n",
"J=(p*n)/(a*(cp-(cp/1.405)));//mechanical equivalent of heat\n",
"\n",
"//OUTPUT\n",
"mprintf('mechanical equivalent of heat is %3.2f ergs/cal',J)"
   ]
   }
,
{
		   "cell_type": "markdown",
		   "metadata": {},
		   "source": [
			"## Example 3.16: The_value_of_J.sce"
		   ]
		  },
  {
"cell_type": "code",
	   "execution_count": null,
	   "metadata": {
	    "collapsed": true
	   },
	   "outputs": [],
"source": [
"clc\n",
"clear\n",
"\n",
"//INPUT DATA \n",
"//continous flow calorimeter\n",
"r=120/60;//rate of flow of water in gm/sec\n",
"T1=27.30;//temperature at initial in deg.C\n",
"T2=33.75;//temperature at final in deg.C\n",
"v=12.64;//potential drop in volts\n",
"s=1;//specific heat of water in kj/kg-K\n",
"i=4.35;//current through the heating element in amp\n",
"\n",
"//CALCULATIONS\n",
"J=(v*i)/(r*s*(T2-T1));//the mechanical equivalent of heat in joule/calorie\n",
"\n",
"//OUTPUT\n",
"mprintf('the mechanical equivalent of heat is %3.2f j/cal',J)"
   ]
   }
,
{
		   "cell_type": "markdown",
		   "metadata": {},
		   "source": [
			"## Example 3.17: the_value_of_J.sce"
		   ]
		  },
  {
"cell_type": "code",
	   "execution_count": null,
	   "metadata": {
	    "collapsed": true
	   },
	   "outputs": [],
"source": [
"clc\n",
"clear\n",
"\n",
"//INPUT DATA \n",
"cp=6.865;//molar specific heat of hydrogen at constant pressure in kj/kg-K\n",
"cv=4.880;//molar specific heat of hydrogen at constant volume in kj/kg-K\n",
"p=1.013*10^6;//atmospheric pressure in dynes/cm^2\n",
"v=22.4*10^3;//gram molar volume in ml\n",
"T=273;//temperature at N.T.P in kelvins\n",
"\n",
"//CALCULATIONS\n",
"J=(p*v)/(T*(cp-cv));//mechanical equivalent of heat\n",
"\n",
"//OUTPUT\n",
"mprintf('the mechanical equivalent of heat is %3.2f j/cal',J)"
   ]
   }
,
{
		   "cell_type": "markdown",
		   "metadata": {},
		   "source": [
			"## Example 3.18: The_value_of_J.sce"
		   ]
		  },
  {
"cell_type": "code",
	   "execution_count": null,
	   "metadata": {
	    "collapsed": true
	   },
	   "outputs": [],
"source": [
"clc\n",
"clear\n",
"\n",
"//INPUT DATA\n",
"v=1000;//volume of hydrogen in ml\n",
"t=273;//tempature of hydrogen in kelvin\n",
"p=760;//pressure of hydrogen in mm of hg\n",
"w=0.0896;//weigh of hydrogen in gm\n",
"cp=3.409;//specific heat of hydogen in kj/kg-K\n",
"cv=2.411;//specific heat of hydrogen in kj/kg-K\n",
"g=981;//accelaration due to gravity in cm/sec^2\n",
"a=13.6;//density of mercury in gm/cm^2\n",
"\n",
"//CALCULATIONS\n",
"J=(p*v*g*a)/(w*t*(cp-cv));//mechanical equivalent of heat in ergs/cals\n",
"//OUTPUT\n",
"printf('mechanical equivalent of heat is %3.2f ergs/calorie',J)"
   ]
   }
,
{
		   "cell_type": "markdown",
		   "metadata": {},
		   "source": [
			"## Example 3.19: The_specific_heat_at_constant_volume.sce"
		   ]
		  },
  {
"cell_type": "code",
	   "execution_count": null,
	   "metadata": {
	    "collapsed": true
	   },
	   "outputs": [],
"source": [
"clc\n",
"clear\n",
"\n",
"//INPUT DATA\n",
"cp=0.23;//specific heat at constant pressure in kj/kg-K\n",
"a=1.18;//density of air in gm/lit\n",
"J=4.2*10^7;//mechanical equivalent of heat in ergs/cal\n",
"t=300;//temperature of air in kelvin\n",
"p=73*13.6*981;//pressure of air in dynes\n",
"//cp-cv=(r/J)=pv/(tj)\n",
"\n",
"//CALCULATON\n",
"cv=cp-(p*1000/(a*t*J));//specific heat at constant volume in calories\n",
"\n",
"//OUTPUT\n",
"mprintf('the specific heat at constant volume is %3.5f calories',cv)"
   ]
   }
,
{
		   "cell_type": "markdown",
		   "metadata": {},
		   "source": [
			"## Example 3.1: Rise_in_temperature.sce"
		   ]
		  },
  {
"cell_type": "code",
	   "execution_count": null,
	   "metadata": {
	    "collapsed": true
	   },
	   "outputs": [],
"source": [
"clc\n",
"clear\n",
"\n",
"//INPUT DATA \n",
"m=20;//calorimeter of water equivalent in gm\n",
"n=1030;//weight of water in gm\n",
"p=2;//no.of paddles\n",
"a=10;//weight of each paddle in kg\n",
"s=80;//distance between paddles in m\n",
"g=980;//accelaration due to gravity in cm/sec^2\n",
"\n",
"//CALCULATIONS\n",
"E=(p*a*1000*g*s*100);//potential energy in dyne cm\n",
"T=(E)/(1050*4.18*10^7);//rise in temperature in deg.C\n",
"//if the rise in temp be T,then heat gained by the calorimeter and its contets is 1050T so J=(E)/(1050*T) where (j=4.18*10^7erg/cal)\n",
"\n",
"//OUTPUT\n",
"mprintf('the rise in temperature of water is %3.2f deg.C',T)"
   ]
   }
,
{
		   "cell_type": "markdown",
		   "metadata": {},
		   "source": [
			"## Example 3.20: The_height_from_which_it_falle.sce"
		   ]
		  },
  {
"cell_type": "code",
	   "execution_count": null,
	   "metadata": {
	    "collapsed": true
	   },
	   "outputs": [],
"source": [
"clc\n",
"clear\n",
"\n",
"//INPUT\n",
"t1=0;//temperature of water in deg.C\n",
"t2=0;//temperature of ice in deg.C\n",
"J=4.18*10^7;//the joules thomson coefficent in erg/cal\n",
"l=80;//latent heat og fusion kj/kg\n",
"g=981;//accelaration due to gravity in cm/sec^2\n",
" \n",
"//CALCULATIONS\n",
"h=l*J/(15*g);//height from which ice has fallen\n",
"//1/15 ice has been melted \n",
"\n",
"//OUTPUT\n",
"mprintf('the height from which ice has fallen is %3.2f cm',h)"
   ]
   }
,
{
		   "cell_type": "markdown",
		   "metadata": {},
		   "source": [
			"## Example 3.21: The_velocity_of_bullet.sce"
		   ]
		  },
  {
"cell_type": "code",
	   "execution_count": null,
	   "metadata": {
	    "collapsed": true
	   },
	   "outputs": [],
"source": [
"clc\n",
"clear\n",
"\n",
"//INPUT DATA\n",
"T=80;//temperature of bullet in deg.C\n",
"cp=0.03;//specific heat of lead in kj/kg-K\n",
"J=4.2;//mechanical equivalent of heat in j/cal\n",
"\n",
"//CALCULATIONS\n",
"//90 percent of kinetic energy is converted to heat \n",
"h=T*cp;//heat developed per unit mass in calorie\n",
"v=(J*10^7*h*2/0.9)^0.5;//velocity of bullet in cm/sec\n",
"\n",
"//OUTPUT\n",
"mprintf('the velocity of bullet is %3.2f cm/sec',v)"
   ]
   }
,
{
		   "cell_type": "markdown",
		   "metadata": {},
		   "source": [
			"## Example 3.22: The_rise_in_temperature.sce"
		   ]
		  },
  {
"cell_type": "code",
	   "execution_count": null,
	   "metadata": {
	    "collapsed": true
	   },
	   "outputs": [],
"source": [
"clc \n",
"clear\n",
"\n",
"//INPUT DATA\n",
"w=5.0;//weight of lead ball in lb\n",
"cp=0.032;//specific heat of lead in Btu/lbdeg.F\n",
"h=50;//height at which ball thrown in feets\n",
"v=20;//vertical speed in ft/sec\n",
"g=32;//accelararion due to gravity in ft/sec^2\n",
"\n",
"//CALCULATIONS\n",
"//half the kinetic energy is converted into heat after instant impact with ground\n",
"u=(v^2)+2*g*h\n",
"ke=(w/2*(u));//kinetic energy of the ball at ground\n",
"T=ke/(2*32*778*w*cp);//rise of temperature in deg.F\n",
"\n",
"//OUTPUT\n",
"mprintf('the rise in temperature is %3.2f deg.F',T)"
   ]
   }
,
{
		   "cell_type": "markdown",
		   "metadata": {},
		   "source": [
			"## Example 3.2: The_mechanical_equivalent_of_heat.sce"
		   ]
		  },
  {
"cell_type": "code",
	   "execution_count": null,
	   "metadata": {
	    "collapsed": true
	   },
	   "outputs": [],
"source": [
"clc\n",
"clear\n",
"\n",
"//INPUT DATA \n",
"cp=0.1;//specific heat of copper in kj/kg-K\n",
"w=120;//weight of copper calorimeter in gm\n",
"a=1400;//weight of paraffin oil in gm\n",
"cp1=0.6;//specific of parafin oil in kj/kg-K\n",
"b=10^8;//force to rotate the paddle in dynes\n",
"T=16;//rise in temperature in deg.C\n",
"n=900;//no.of revolutions stirred \n",
"pi=3.14;//value of pi\n",
"\n",
"//CALCULATIONS\n",
"c=2*pi*b;//work done by a rotating paddle per rotation in dyne cm per rotation\n",
"d=c*n;//total work done in dyne cm \n",
"hc=w*cp*16;//heat gained by calorimeter in calories\n",
"hp=a*cp1*16;//heat gaained by paraffin oil in calories \n",
"J=d/(hc+hp);//mecanical equivalent of heat in erg/cal\n",
"\n",
"//OUTPUT\n",
"mprintf('mecanical equivalent of heat is %3.0f erg/cal',J)"
   ]
   }
,
{
		   "cell_type": "markdown",
		   "metadata": {},
		   "source": [
			"## Example 3.3: The_mechanical_equivalent_of_heat.sce"
		   ]
		  },
  {
"cell_type": "code",
	   "execution_count": null,
	   "metadata": {
	    "collapsed": true
	   },
	   "outputs": [],
"source": [
"clc\n",
"clear\n",
"\n",
"//INPUT DATA \n",
"cp=0.12;//specific heat of iron in kj/kg-K\n",
"m=25;//mass of iron in lb\n",
"h=0.4;//horse power developed in 3 min\n",
"t=3;//time taken to develop the horse power in min\n",
"T=17;//raise in temp in deg.C\n",
"\n",
"//CALCULATIONS\n",
"w=h*33000*t;//total work done in ft-lb\n",
"H=m*cp*T;//aount of heat developed in B.Th.U\n",
"J=(w)/H;//the value of mechanical equivalent of heat\n",
"\n",
"//OUTPUT\n",
"mprintf('the mechanical equivalent of water is %3.1f ft-lb/B.Th.U',J)"
   ]
   }
,
{
		   "cell_type": "markdown",
		   "metadata": {},
		   "source": [
			"## Example 3.4: Kinetic_energy_of_each_block_and_Mean_rise_of_temperature.sce"
		   ]
		  },
  {
"cell_type": "code",
	   "execution_count": null,
	   "metadata": {
	    "collapsed": true
	   },
	   "outputs": [],
"source": [
"clc\n",
"clear\n",
"\n",
"//INPUT DATA \n",
"n=2;//no.of lead blocks\n",
"m=210;//mass of each lead block in gm\n",
"v=20000;//velocity of block relative to earth in cm/sec\n",
"J=4.2*10^7;//mechanical equivalent of heat in ergs/calorie\n",
"cp=0.03;//specific heat of lead in kj/kg-K\n",
"\n",
"//CALCULATIONS\n",
"E=(m*v^2)/2;//kinetic energy of each block in ergs\n",
"E2=n*E;//total kinetic energy in ergs\n",
"T=E2/(J*m*n*cp);//mean rise in temperature in T\n",
"\n",
"//OUTPUT\n",
"mprintf('the mean rise in temperature is %3.1f deg.C',T)"
   ]
   }
,
{
		   "cell_type": "markdown",
		   "metadata": {},
		   "source": [
			"## Example 3.5: Rise_of_temperature.sce"
		   ]
		  },
  {
"cell_type": "code",
	   "execution_count": null,
	   "metadata": {
	    "collapsed": true
	   },
	   "outputs": [],
"source": [
"clc\n",
"clear\n",
"\n",
"//INPUT DATA \n",
"h=150;//height froom which ball fallen in ft\n",
"cp=0.03;//specific heat of lead in kj/kg-K\n",
"J=778;//mechanical equivalent of heat in ft lb/B.Th.U\n",
"\n",
"//CALCULATIONS\n",
"//assume m be the mass of the lead\n",
"//work done in falling through 160 feet in ft-lb w=160*m\n",
"//heat absorbed by the ball in B.Th.U h=m*cp*T\n",
"//work done in falling is equal to heat absorbed by the ball\n",
"T=160/(J*cp)*(5/9);//the raise in temperature in T\n",
"\n",
"//OUTPUT\n",
"mprintf('the raise in temperature is %3.1f deg.C',T)"
   ]
   }
,
{
		   "cell_type": "markdown",
		   "metadata": {},
		   "source": [
			"## Example 3.6: The_rate_at_which_the_horse_worked.sce"
		   ]
		  },
  {
"cell_type": "code",
	   "execution_count": null,
	   "metadata": {
	    "collapsed": true
	   },
	   "outputs": [],
"source": [
"clc\n",
"clear\n",
"\n",
"//INPUT DATA \n",
"w=26.6;//work done one horse in to raise the temperature in lb\n",
"T1=32;//temperature at initial in deg.F\n",
"T2=212;//temperature at final in deg.F\n",
"t=2.5;//time to raise the tmperature in hrs\n",
"p=25;//percentage of heat lossed \n",
"\n",
"//CALCULATIONS\n",
"//let x ft-lb per min be the rate at which horse worked//total work done in ft-lb wt W=x*150\n",
"//amount of heat generated in lb deg.F H=W/778\n",
"//only 75% of heat is utillised\n",
"x=w*180*100*778/((100-p)*150);//the rate at which horse worked\n",
"\n",
"//OUTPUT\n",
"mprintf('the rate at which horse worked is %3.0f ft-lb wt/min',x)"
   ]
   }
,
{
		   "cell_type": "markdown",
		   "metadata": {},
		   "source": [
			"## Example 3.7: The_rise_in_temperature.sce"
		   ]
		  },
  {
"cell_type": "code",
	   "execution_count": null,
	   "metadata": {
	    "collapsed": true
	   },
	   "outputs": [],
"source": [
"clc\n",
"clear\n",
"\n",
"//INPUT DATA \n",
"l=100;//length of glass tube in cm\n",
"m=500;//mass of mercury in glass tube in gm\n",
"n=20;//number of times inverted i succession\n",
"cp=0.03;//specific heat of mercury in cal/gm/deg.C\n",
"J=4.2;//joule's equivalent in j/cal\n",
"g=981;//accelaration due to gravity in cm/s^2\n",
"\n",
"//CALCULATIONS\n",
"PE=m*g*l;//potential energy for each time in ergs\n",
"TE=PE*n;//total loss in ergs\n",
"T=TE/(m*cp*J*10^7);//rise in temperature in deg.C\n",
"//if T is the rise in temperature,then heat devoloped is m*cp*T\n",
"\n",
"//OUTPUT\n",
"mprintf('the rise in temperature is %3.2f deg.C',T)"
   ]
   }
,
{
		   "cell_type": "markdown",
		   "metadata": {},
		   "source": [
			"## Example 3.8: Calories_emitted_per_second.sce"
		   ]
		  },
  {
"cell_type": "code",
	   "execution_count": null,
	   "metadata": {
	    "collapsed": true
	   },
	   "outputs": [],
"source": [
"clc\n",
"clear\n",
"\n",
"//INPUT DATA \n",
"d=0.02;//diameter of the copper wire in cm\n",
"i=1;//current in amp\n",
"T=100;//maximum steady temperature in deg.C\n",
"r=2.1;//resistance of the wire in ohm cm\n",
"J=4.2;//mechanical equivalent of heat in j/cal\n",
"a=3.14*d^2/4;//area of the copper wire in sq.cm\n",
"a2=1;//area of the copper surface in sq.cm\n",
"\n",
"//CALCULATIONS \n",
"//we know that if r is the resistance of the wire through which current i flows,then the electrical energy spent =i^2*r j/sec\n",
"l=1/(2*3.14*d/2);//length corresponding to the area in cm\n",
"R=r*l/a;//resistance of the copper wirein ohm\n",
"w=R*a2^2;//work done in joule\n",
"h=w/J;//heat devoleped in cal\n",
"\n",
"//OUTPUT\n",
"mprintf('the heat developed is %3f calories',h)"
   ]
   }
,
{
		   "cell_type": "markdown",
		   "metadata": {},
		   "source": [
			"## Example 3.9: The_quantity_of_heat_produced_and_The_rise_in_temperature_of_water.sce"
		   ]
		  },
  {
"cell_type": "code",
	   "execution_count": null,
	   "metadata": {
	    "collapsed": true
	   },
	   "outputs": [],
"source": [
"clc\n",
"clear\n",
"\n",
"//INPUT DATA\n",
"h=10000;//vertical height of water fall in cm\n",
"v=5;//volume disharged per sec in litres\n",
"J=4.18;//joule's constant in j/cal\n",
"g=981;//accelaration due to gravity in cm/sec^2\n",
"\n",
"//CALCULATIONS\n",
"m=v*1000;//mass of water disharged per sec in gm\n",
"w=m*h*g;//work done in falling through 100m in erg\n",
"H=w/(J*10^7);//quantity of heat produced in cal\n",
"T=H/m;//rise in temperature in deg.C\n",
"\n",
"//OUTPUT\n",
"mprintf('the quantity of heat produced is %3f cal \n the rise in temperature is %3.2f deg.C',H,T)"
   ]
   }
],
"metadata": {
		  "kernelspec": {
		   "display_name": "Scilab",
		   "language": "scilab",
		   "name": "scilab"
		  },
		  "language_info": {
		   "file_extension": ".sce",
		   "help_links": [
			{
			 "text": "MetaKernel Magics",
			 "url": "https://github.com/calysto/metakernel/blob/master/metakernel/magics/README.md"
			}
		   ],
		   "mimetype": "text/x-octave",
		   "name": "scilab",
		   "version": "0.7.1"
		  }
		 },
		 "nbformat": 4,
		 "nbformat_minor": 0
}
