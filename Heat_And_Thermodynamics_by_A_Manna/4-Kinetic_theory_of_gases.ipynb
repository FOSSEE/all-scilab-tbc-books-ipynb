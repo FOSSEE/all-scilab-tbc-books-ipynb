{
"cells": [
 {
		   "cell_type": "markdown",
	   "metadata": {},
	   "source": [
       "# Chapter 4: Kinetic theory of gases"
	   ]
	},
{
		   "cell_type": "markdown",
		   "metadata": {},
		   "source": [
			"## Example 4.10: The_temperature.sce"
		   ]
		  },
  {
"cell_type": "code",
	   "execution_count": null,
	   "metadata": {
	    "collapsed": true
	   },
	   "outputs": [],
"source": [
"clc\n",
"clear\n",
"\n",
"//INPUT\n",
"t1=273;//temperature of the hydrogen molecule at n.t.p in K\n",
"//rms value of hydrogen molecule is double to its rms value at n.t.p, so 3rt/m=4(3rt/m)\n",
"\n",
"//CALCULATIONS\n",
"t2=4*t1;//temperature of the hydrogen molecule in K\n",
"\n",
"//OUTPUT\n",
"mprintf('the temperature of the hydrogen molecule is %3f',t2)"
   ]
   }
,
{
		   "cell_type": "markdown",
		   "metadata": {},
		   "source": [
			"## Example 4.11: The_RMS_velocity.sce"
		   ]
		  },
  {
"cell_type": "code",
	   "execution_count": null,
	   "metadata": {
	    "collapsed": true
	   },
	   "outputs": [],
"source": [
"clc\n",
"clear\n",
"\n",
"//INPUT\n",
"t1=273;//temperature of the hydrogen molecule in K\n",
"t2=373;//temperature of the hydrogen molecule in K\n",
"d=0.0000896;//density of the hydrogen molecule in gm/cc\n",
"p=76*13.6*981;//pressure of the hydrogen molecule in gm/cm/sec^2\n",
"\n",
"//CALCULATIONS\n",
"v0=(3*p/d)^(0.5);//rms velocity at 0deg.C\n",
"v100=v0*(t2/t1)^(0.5);//rms velocity at 100deg.C\n",
"\n",
"//OUTPUT\n",
"mprintf('the rms velocity at 0deg.C is %3f cm/sec \n the rms velocity at 100deg.C is %3f cm/sec',v0,v100)"
   ]
   }
,
{
		   "cell_type": "markdown",
		   "metadata": {},
		   "source": [
			"## Example 4.12: The_RMS_velocity.sce"
		   ]
		  },
  {
"cell_type": "code",
	   "execution_count": null,
	   "metadata": {
	    "collapsed": true
	   },
	   "outputs": [],
"source": [
"clc\n",
"clear\n",
"\n",
"//INPUT\n",
"cp=6.84;//specific heat at constant pressure in cal/gm mole/deg.C\n",
"r=8.31*10^7;//universal gas constant in ergs/gm mole/deg.C\n",
"v=130000;//velocity of sound in cm/sec\n",
"j=4.2*10^7;//joules constant in ergs/cal\n",
"\n",
"//CALCULATION\n",
"cv=cp-(r/j);//specific heat at constant volume in gm-mole/deg.C\n",
"y=(cp/cv);//index of co-efficient\n",
"v1=(3/y)^(0.5)*v;//rms velocity in cm/sec\n",
"\n",
"//OUTPUT\n",
"mprintf('the rms velocity of gas molecule is %3fcm/sec',v1)"
   ]
   }
,
{
		   "cell_type": "markdown",
		   "metadata": {},
		   "source": [
			"## Example 4.13: The_average_velocity_of_the_molecule.sce"
		   ]
		  },
  {
"cell_type": "code",
	   "execution_count": null,
	   "metadata": {
	    "collapsed": true
	   },
	   "outputs": [],
"source": [
"clc\n",
"clear\n",
"\n",
"//INPUT\n",
"t=300;//temperature of the oxygen molecule in K\n",
"n=6.02*10^23;//avagdrao's number\n",
"m=32/n;//mass of each molecule in oxygen\n",
"k=1.38*10^(-16);//boltzmann constant in erg/deg\n",
"\n",
"//OUTPUT\n",
"v=(8*k*t/(3.14*m))^(0.5);//average velocity of oxygen molecule in cm/sec\n",
"v2=v*0.022384;//velocity in miles/hrs\n",
"\n",
"mprintf('the avg velocity of  oxygen molecule is %3.1f miles/hour',v2)"
   ]
   }
,
{
		   "cell_type": "markdown",
		   "metadata": {},
		   "source": [
			"## Example 4.14: The_ratio_of_RMS_velocity_to_average_velocity.sce"
		   ]
		  },
  {
"cell_type": "code",
	   "execution_count": null,
	   "metadata": {
	    "collapsed": true
	   },
	   "outputs": [],
"source": [
"clc\n",
"clear\n",
"\n",
"//INPUT\n",
"v1=2.4;//velocity of first particle in km/sec\n",
"v2=2.6;//velocity of second particle in km/sec\n",
"v3=3.7;//velocity of third particle in km/sec\n",
"\n",
"//CALCULATIONS\n",
"rv=((v1^2+v2^2+v3^2)/(3))^(0.5);//rms velocity of the particles in km/sec\n",
"mv=(v1+v2+v3)/(3);//mean velocity of the particles in km/sec\n",
"r=rv/mv;//ratio of the rms to mean velocity\n",
"\n",
"mprintf('the ratio of rms to mean velocity is %3.3f',r)"
   ]
   }
,
{
		   "cell_type": "markdown",
		   "metadata": {},
		   "source": [
			"## Example 4.15: The_mean_free_path.sce"
		   ]
		  },
  {
"cell_type": "code",
	   "execution_count": null,
	   "metadata": {
	    "collapsed": true
	   },
	   "outputs": [],
"source": [
"clc\n",
"clear\n",
"\n",
"//INPUT\n",
"n=2.76*10^19;//no.of molecules per cc\n",
"d=3.36*10^(-8);//diameter of the helium molecule in cm\n",
"\n",
"//CALCULATIONS\n",
"mf=1/((2^(0.5))*3.14*(d^2)*n)\n",
"\n",
"//OUTPUT\n",
"mprintf('the mean free path of the hydrogen molecue is %3.8f cm',mf)"
   ]
   }
,
{
		   "cell_type": "markdown",
		   "metadata": {},
		   "source": [
			"## Example 4.16: The_mean_free_path_collision_rate_molecular_diameter.sce"
		   ]
		  },
  {
"cell_type": "code",
	   "execution_count": null,
	   "metadata": {
	    "collapsed": true
	   },
	   "outputs": [],
"source": [
"clc\n",
"clear\n",
"\n",
"//INPUT\n",
"n=85*10^(-6);//coefficent of viscosity in dynes/cm^2/velocity gradient\n",
"c=16*10^4;//velocity in cm/sec\n",
"p=0.000089;//density in gm/cc\n",
"N=6.06*10^23/22400;//avagadro number\n",
"a=(2)^(0.5)*(22/7);//constant\n",
"\n",
"//CALCULATIONS\n",
"mf=(3*n/(p*c));//mean free path in cm\n",
"cr=c/mf;//collision rate\n",
"d=(1/(a*N*mf))^(0.5);//molecular diameter of hydrogen gas in cm\n",
"\n",
"mprintf('the mean free path is %3.6fcm \n hte collision rate is %3.2f \n the molecular diameter of hydrogen gas is %3.10fcm',mf,cr,d)"
   ]
   }
,
{
		   "cell_type": "markdown",
		   "metadata": {},
		   "source": [
			"## Example 4.17: The_mean_free_path.sce"
		   ]
		  },
  {
"cell_type": "code",
	   "execution_count": null,
	   "metadata": {
	    "collapsed": true
	   },
	   "outputs": [],
"source": [
"clc\n",
"clear\n",
"\n",
"//INPUT\n",
"d=2*10^(-8);//diameter of the molecule in cm\n",
"k=1.38*10^(-6);//boltzmann constant in ergs/deg\n",
"t=273;//temperature at ntp in K\n",
"p=76*13.6*981;//pressure at ntp in gm/cm/sec^2\n",
"\n",
"//CALCULATIONS\n",
"mf=((k*t)/(2^(0.5)*3.14*(d^2)*p));//mean free path in cm\n",
"//since p=nkt\n",
"\n",
"//OUTPUT\n",
"mprintf('mean free path at ntp is %3.6fcm',mf)"
   ]
   }
,
{
		   "cell_type": "markdown",
		   "metadata": {},
		   "source": [
			"## Example 4.18: The_diameter.sce"
		   ]
		  },
  {
"cell_type": "code",
	   "execution_count": null,
	   "metadata": {
	    "collapsed": true
	   },
	   "outputs": [],
"source": [
"clc\n",
"clear\n",
"\n",
"//INPUT\n",
"t=288;//temperature in K\n",
"k=1.38*10^(-16);//boltzmann constant in erg/deg\n",
"N=6.02*10^23;//avagadro number\n",
"m=32/N;//mass of each oxygen molecule in gm\n",
"v=196*10^-6;//viscosity in poise\n",
"\n",
"//CALCULATIONS\n",
"av=((8*k*t/(3.14*m))^0.5);//average velocity in cm/sec\n",
"d=(m*av/(3*3.14*2^(0.5)*v))^0.5;//diameter of the molecule in cm\n",
"\n",
"mprintf('diameter of the molecule is %3.10f cm',d)"
   ]
   }
,
{
		   "cell_type": "markdown",
		   "metadata": {},
		   "source": [
			"## Example 4.19: The_pressure.sce"
		   ]
		  },
  {
"cell_type": "code",
	   "execution_count": null,
	   "metadata": {
	    "collapsed": true
	   },
	   "outputs": [],
"source": [
"clc\n",
"clear\n",
"\n",
"//INPUT\n",
"mf=15;//mean free path in cm\n",
"t=300;//temperature of oxygen molecule in K\n",
"d=3*10^(-8);//diameter of the molecule in cm\n",
"N=6.02*10^23;//avagadro number\n",
"r=8.32*10^7;//universal gas constant in ergs/mole/deg\n",
"a=(2^(0.5))*(22/7);\n",
"\n",
"//CSLCULATIONS\n",
"p=(r*t)/(N*a*(d^2)*mf);//pressure of the oxygen molecule in dynes/sq.cm\n",
"\n",
"//OUTPUT\n",
"mprintf('the pressure of the oxygen molecule is %3.3f dynes/sq.cm',p)"
   ]
   }
,
{
		   "cell_type": "markdown",
		   "metadata": {},
		   "source": [
			"## Example 4.1: The_temperature.sce"
		   ]
		  },
  {
"cell_type": "code",
	   "execution_count": null,
	   "metadata": {
	    "collapsed": true
	   },
	   "outputs": [],
"source": [
"clc\n",
"clear\n",
"\n",
"//INPUT\n",
"t=273;//temperture of the oxygen molecule in K\n",
"m=32;//molecular mass of the gas in gm\n",
"r=8.32*10^7;//molar gas constant in ergs per mole\n",
"v2=33200;//velocity of the gas in cm/sec\n",
"\n",
"//CALCULATIONS\n",
"v1=((3*r*t)/m)^(1/2);//rms velocity of the molecule in cm/s\n",
"T=((v2*v2*m)/(3*r));//temperature of the molecule with sound has velocity in K\n",
"\n",
"//OUTPUT\n",
"mprintf('the rms velocity of the molecule is %3.2fcm/s \n the temperature of the molecule is %3.0fK',v1,T)"
   ]
   }
,
{
		   "cell_type": "markdown",
		   "metadata": {},
		   "source": [
			"## Example 4.20: The_avagadro_number.sce"
		   ]
		  },
  {
"cell_type": "code",
	   "execution_count": null,
	   "metadata": {
	    "collapsed": true
	   },
	   "outputs": [],
"source": [
"clc\n",
"clear\n",
"\n",
"//INPUT\n",
"k=5.64*10^-14;//kinetic energy of the hydrogen molecule ergs\n",
"t=273;//temperature of the oxygen molecule in K\n",
"r=8.32*10^7;//universal gas constant in ergs \n",
"\n",
"//CALCULATIONS\n",
"N=(3/2)*(r*t/k);//avagadro number\n",
"\n",
"//OUTPUT\n",
"mprintf('the avagadro number is %3.2f',N)"
   ]
   }
,
{
		   "cell_type": "markdown",
		   "metadata": {},
		   "source": [
			"## Example 4.21: The_number_which_will_be_travelling_undeflected.sce"
		   ]
		  },
  {
"cell_type": "code",
	   "execution_count": null,
	   "metadata": {
	    "collapsed": true
	   },
	   "outputs": [],
"source": [
"clc\n",
"clear\n",
"\n",
"//INPUT\n",
"q=5000;//total number of molecules\n",
"e=2.7183;//constant value\n",
"t1=0.5;//distance travled to the mean free path\n",
"t2=1;//distance travelled to the mean free path\n",
"\n",
"//CALCULATONS\n",
"p1=q*(e^-t1);//n0.of molecules having no collision in traversing a distance t1\n",
"p2=q*(e^-t2);//n0.of molecules having no collision in traversing a distance t2\n",
"\n",
"//OUPUT\n",
"mprintf('the no. of molecules having no collision in traversing a distance o.5 is %3f \n the no. of molecules having no collision in traversing a distance 1 is %3f',p1,p2)"
   ]
   }
,
{
		   "cell_type": "markdown",
		   "metadata": {},
		   "source": [
			"## Example 4.22: The_mean_kinetic_energy.sce"
		   ]
		  },
  {
"cell_type": "code",
	   "execution_count": null,
	   "metadata": {
	    "collapsed": true
	   },
	   "outputs": [],
"source": [
"clc\n",
"clear\n",
"\n",
"//INPUT\n",
"t=38380;//temperature of the molecule in K\n",
"k=1.38*10^-16;//boltzman constant of one electron in ergs/K\n",
"e=1.6*10^-12;//charge of one electron volts\n",
"\n",
"//CALCULATIOS\n",
"mk=1.5*k*t/e;//mean kinetic energy per atom in ev\n",
"\n",
"//OUTPUT\n",
"mprintf('the mean kinetic energy of the molecule is %3.3f ev',mk) "
   ]
   }
,
{
		   "cell_type": "markdown",
		   "metadata": {},
		   "source": [
			"## Example 4.23: The_mean_free_path_and_the_collision_frequency.sce"
		   ]
		  },
  {
"cell_type": "code",
	   "execution_count": null,
	   "metadata": {
	    "collapsed": true
	   },
	   "outputs": [],
"source": [
"clc\n",
"clear\n",
"\n",
"//INPUT\n",
"v=1.7*10^-4;//viscosity of the air molecule in cgs\n",
"d=0.00129;//density of the molecule in gm/ml\n",
"p=76*13.6*981;//pressure of the molecule in gm/cm/sec^2\n",
"\n",
"//CALCULATIONS\n",
"r=(3*p/d)^(0.5);//rms velocity of the molecule in cm/sec\n",
"mf=(3*v/(d*r));//mean free path in cm\n",
"cf=r/mf;//collision frequency\n",
"\n",
"//OUTPUT\n",
"mprintf('the mean free path is %3.7f cm \n the collision frequency is %3f',mf,cf)"
   ]
   }
,
{
		   "cell_type": "markdown",
		   "metadata": {},
		   "source": [
			"## Example 4.24: The_pressure_of_the_gas.sce"
		   ]
		  },
  {
"cell_type": "code",
	   "execution_count": null,
	   "metadata": {
	    "collapsed": true
	   },
	   "outputs": [],
"source": [
"clc\n",
"clear\n",
"\n",
"//INPUT\n",
"t2=296.4;//temperature of the first plate in K\n",
"t1=304.7;//temperature of the second plate in K\n",
"f=1.6*10^-2;//force repelled cold is dynes/sq.cm\n",
"\n",
"//CALCULATIONS\n",
"p=(4*f*t2/(t1-t2));//pressure of the gas in dynes/sq.cm\n",
"\n",
"//OUTPUT\n",
"mprintf('the pressure of the gas is %3.3f dynes/sq.cm',p)"
   ]
   }
,
{
		   "cell_type": "markdown",
		   "metadata": {},
		   "source": [
			"## Example 4.25: The_size_of_helium_atom.sce"
		   ]
		  },
  {
"cell_type": "code",
	   "execution_count": null,
	   "metadata": {
	    "collapsed": true
	   },
	   "outputs": [],
"source": [
"clc\n",
"clear\n",
"\n",
"//INPUT\n",
"mf=28.5*10^-6;//mean free path in cm\n",
"d=0.000178;//density of helium in gm/ml\n",
"m=6*10^-24;//mass of the helium atom in gm\n",
"a=(2^(0.5))*3.14;//constant\n",
"\n",
"//CALCULATIONS\n",
"d=(m/(a*d*mf))^(0.5);//diameter of the size in cm\n",
"\n",
"//OUTPUT\n",
"mprintf('the size of the helium atom is %3.10f cm',d)"
   ]
   }
,
{
		   "cell_type": "markdown",
		   "metadata": {},
		   "source": [
			"## Example 4.26: The_value_avagadro_number.sce"
		   ]
		  },
  {
"cell_type": "code",
	   "execution_count": null,
	   "metadata": {
	    "collapsed": true
	   },
	   "outputs": [],
"source": [
"clc\n",
"clear\n",
"\n",
"//INPUT\n",
"a1=0*10^-4;//first horizontal displacement in cm\n",
"a2=5.6*10^-4;//second horizontal displacement in cm\n",
"a3=-4.7*10^-4;//third horzontal displacement in cm\n",
"a4=-10.8*10^-4;//fourth horizontal displacement in cm\n",
"a5=6.6*10^-4;//fifth horizontal displacement displacement in cm\n",
"a6=-9.8*10^-4;//sixth horizontal displacement in cm\n",
"a7=-11.2*10^-4;//7th horizontal displacement in cm\n",
"a8=-4.0*10^-4;//8th horizontal displacement in cm\n",
"a9=15.0*10^-4;//9thhorizontal displacement in cm\n",
"a10=19.1*10^-4;//10th horizontal displacement in cm\n",
"a11=16.0*10^-4;//11ht horizontal displacement in cm\n",
"T=293;//temperature of the particle in K\n",
"v=0.01;//viscosity in cgs\n",
"r=1.15*10^-5;//radius of the particle in cm\n",
"R=8.32*10^7;//universal gas constant in kj/kg mole\n",
"t=30;//time for observation of each in sec\n",
"\n",
"//CALCULATIONS\n",
"x=(a1^2+a2^2+a3^2+a4^2+a5^2+a6^2+a7^2+a8^2+a9^2+a10^2+a11^2)/11\n",
"n=R*T*t/(x*3*3.14*v*r);//no.of molecules in the observation \n",
"\n",
"//OUTPUT\n",
"mprintf('the value of n is %3f',n)"
   ]
   }
,
{
		   "cell_type": "markdown",
		   "metadata": {},
		   "source": [
			"## Example 4.27: The_fractional_change_in_the_number_of_helium_atoms.sce"
		   ]
		  },
  {
"cell_type": "code",
	   "execution_count": null,
	   "metadata": {
	    "collapsed": true
	   },
	   "outputs": [],
"source": [
"clc\n",
"clear\n",
"\n",
"//INPUT\n",
"m=6*10^-24;//mass of the helium atom in gm\n",
"k= 1.38*10^-16;//boltzmann constant in erg\n",
"t1=100;//temperature in K\n",
"t2=900;//temperature in K\n",
"\n",
"//CALCULATIONS\n",
"r=(t1/t2)^(3/2)*(2.7183^(m*(1/(2*k))*10^8*(1-(1/9))));//fractional change in the no.of helium atoms\n",
"\n",
"//OUPUT\n",
"mprintf('the fractional change in the no.of helium atoms %3.4f',r)"
   ]
   }
,
{
		   "cell_type": "markdown",
		   "metadata": {},
		   "source": [
			"## Example 4.2: The_temperature.sce"
		   ]
		  },
  {
"cell_type": "code",
	   "execution_count": null,
	   "metadata": {
	    "collapsed": true
	   },
	   "outputs": [],
"source": [
"clc\n",
"clear\n",
"\n",
"//INPUT\n",
"t1=308;//temperature of the nitrogen molecule in K\n",
"m1=28;//molecular mass of the nitrogen in gm\n",
"m2=2;//molecular mass of the hydrogen molecule in gm\n",
"\n",
"//CALCULATIONS\n",
"t2=(t1*m2/m1);//temperature of the hydrogen molecule in K\n",
"//GIVEN avg.speed of both the molecules are same\n",
"\n",
"//OUTPUT\n",
"mprintf('the temperature of the hydrogen molecule is %3.0fK',t2)"
   ]
   }
,
{
		   "cell_type": "markdown",
		   "metadata": {},
		   "source": [
			"## Example 4.3: The_RMS_velocity_at_NTP.sce"
		   ]
		  },
  {
"cell_type": "code",
	   "execution_count": null,
	   "metadata": {
	    "collapsed": true
	   },
	   "outputs": [],
"source": [
"clc\n",
"clear\n",
"\n",
"//INPUT\n",
"y=0.00129;//density of the air in gm/cc\n",
"p=76;//pressure of the nitrogen molecule in cm\n",
"g=981;//accelaration due to gravity in cm/sec^2\n",
"m=13.6;//density of the mercury in gm/cc\n",
"\n",
"//CALCULATIONS\n",
"v=((3*p*g*m)/y)^(1/2);//rms velocity of air at ntp in cm/sec\n",
"\n",
"//OUTPUT\n",
"mprintf('the rms velocity of the air is %3.2fcm/sec',v)"
   ]
   }
,
{
		   "cell_type": "markdown",
		   "metadata": {},
		   "source": [
			"## Example 4.4: The_rms_velocity.sce"
		   ]
		  },
  {
"cell_type": "code",
	   "execution_count": null,
	   "metadata": {
	    "collapsed": true
	   },
	   "outputs": [],
"source": [
"clc\n",
"clear\n",
"\n",
"//INPUT\n",
"d=16*0.000089;//density of the oxygen molecule in gm/cc\n",
"p=76;//pressure of the air in cm\n",
"g=981;//gravitaitonal accelaration in cm/sec^2\n",
"m=13.6;//density of the mercury in gm/cc\n",
"\n",
"//CALCULATIONS\n",
"v=((3*p*g*m)/d)^(1/2);//velocuty of the oxygen molecule in cm/sec\n",
"\n",
"//OUTPUT\n",
"mprintf('velocity of oxygen molecule is %3.2fcm/sec',v)"
   ]
   }
,
{
		   "cell_type": "markdown",
		   "metadata": {},
		   "source": [
			"## Example 4.5: The_kinetic_energy_of_hydrogen_molecule.sce"
		   ]
		  },
  {
"cell_type": "code",
	   "execution_count": null,
	   "metadata": {
	    "collapsed": true
	   },
	   "outputs": [],
"source": [
"clc\n",
"clear\n",
"\n",
"//INPUT\n",
"t=273;//temperature of the hydrogen molecule in K\n",
"n=6.03*10^23;//1 mole of hydrogen molecules\n",
"r=8.31*10^7;//universal gas constant in erg/K/mole\n",
"\n",
"//CALCULATIONS\n",
"e=(1.5*r*t)/n;//kinetic energy of the hydrogen molecule in erg\n",
"\n",
"//OUTPUT\n",
"mprintf('the kinetic energy of the hydrogen molecule is %3.16ferg',e)"
   ]
   }
,
{
		   "cell_type": "markdown",
		   "metadata": {},
		   "source": [
			"## Example 4.6: The_kinetic_energy.sce"
		   ]
		  },
  {
"cell_type": "code",
	   "execution_count": null,
	   "metadata": {
	    "collapsed": true
	   },
	   "outputs": [],
"source": [
"clc\n",
"clear\n",
"\n",
"//INPUT\n",
"m=1;//mass of the oxygen in gm\n",
"r=8.31*10^7;//universal gas constant in erg/K/mole\n",
"t=320;//temperature of the oxygen in K\n",
"//for 1gm mole k.e is 1.5rt then for 1 gm oxygen (1/32)(k.e)\n",
"\n",
"//CALCULATIONS\n",
"e=(m/32)*(3*r*t/2);//kinetic energy of the oxygen in erg\n",
"\n",
"//OUTPUT\n",
"mprintf('the kinetic energy of the oxygen is %3.2ferg',e)"
   ]
   }
,
{
		   "cell_type": "markdown",
		   "metadata": {},
		   "source": [
			"## Example 4.7: The_temperature.sce"
		   ]
		  },
  {
"cell_type": "code",
	   "execution_count": null,
	   "metadata": {
	    "collapsed": true
	   },
	   "outputs": [],
"source": [
"clc\n",
"clear\n",
"\n",
"//INPUT\n",
"t=273;//temperature at ntp in K\n",
"//rms velocity of oxygen is 3/2 times its rms velocity at ntp then e1=(3/2)*e\n",
"\n",
"//CALCULATIONS\n",
"t1=(9*t/4);//temperature of the oxygen molecule in K\n",
"\n",
"//OUTPUT\n",
"mprintf('temperature of the oxygen in %3.2fK',t1)"
   ]
   }
,
{
		   "cell_type": "markdown",
		   "metadata": {},
		   "source": [
			"## Example 4.8: The_kinetic_energy.sce"
		   ]
		  },
  {
"cell_type": "code",
	   "execution_count": null,
	   "metadata": {
	    "collapsed": true
	   },
	   "outputs": [],
"source": [
"clc\n",
"clear\n",
"\n",
"//INPUT\n",
"p=10;//pressure of the gas in atm\n",
"v=5000;//volume of the gas in ml\n",
"l=76;//length of the mercury in barometer in cm\n",
"g=981;//accelaration due to gravity in cm/sec^2\n",
"d=13.6;//density of the mercury in gm/cc\n",
"\n",
"//CALCULATIONS\n",
"e=3*p*v*l*g*d;//kinetic energy of the molecule in ergs\n",
"\n",
"//OUTPUT\n",
"mprintf('the kinetic energy of the molecule is %3.2fergs',e)"
   ]
   }
,
{
		   "cell_type": "markdown",
		   "metadata": {},
		   "source": [
			"## Example 4.9: The_molecular_energy.sce"
		   ]
		  },
  {
"cell_type": "code",
	   "execution_count": null,
	   "metadata": {
	    "collapsed": true
	   },
	   "outputs": [],
"source": [
"clc\n",
"clear\n",
"\n",
"//INPUT\n",
"t=323;//temperature of the hydrogen molecule in K\n",
"m1=1;//mass of the hydrogen molecule in gm\n",
"m2=2;//molecular weight of the hydrogen in gm\n",
"r=8.3*10^7;//universal gas constant in erg/K/mole\n",
"\n",
"//CALCULATIONS\n",
"e=(m1*r*t*3/(m2*2));//kinetic enrgy of the hydrogen molecule in ergs\n",
"\n",
"//OUTPUT\n",
"mprintf('the kinetic energy of the molecule is %3.2fergs',e)"
   ]
   }
],
"metadata": {
		  "kernelspec": {
		   "display_name": "Scilab",
		   "language": "scilab",
		   "name": "scilab"
		  },
		  "language_info": {
		   "file_extension": ".sce",
		   "help_links": [
			{
			 "text": "MetaKernel Magics",
			 "url": "https://github.com/calysto/metakernel/blob/master/metakernel/magics/README.md"
			}
		   ],
		   "mimetype": "text/x-octave",
		   "name": "scilab",
		   "version": "0.7.1"
		  }
		 },
		 "nbformat": 4,
		 "nbformat_minor": 0
}
