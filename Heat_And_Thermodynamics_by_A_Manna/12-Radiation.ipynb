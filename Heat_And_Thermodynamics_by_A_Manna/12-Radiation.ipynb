{
"cells": [
 {
		   "cell_type": "markdown",
	   "metadata": {},
	   "source": [
       "# Chapter 12: Radiation"
	   ]
	},
{
		   "cell_type": "markdown",
		   "metadata": {},
		   "source": [
			"## Example 12.1: The_ratio_of_rates_at_which_heat_lost.sce"
		   ]
		  },
  {
"cell_type": "code",
	   "execution_count": null,
	   "metadata": {
	    "collapsed": true
	   },
	   "outputs": [],
"source": [
"clc\n",
"clear\n",
"\n",
"//INPUT\n",
"t1=300;//temperature of the surroundings in K\n",
"t2=900;//temperature of the hot body p in K\n",
"t3=500;//temperature of the hot body q in K\n",
"a=5.67*10^-8;//stefan boltzmann constant in W/m^2.K^4\n",
"\n",
"//CALCULATIONS\n",
"q1=a*(t2^4-t1^4);//heat lost from hot body p in w/m^2\n",
"q2=a*(t3^4-t1^4);//heat lost from hot body q in w/m^2\n",
"q=q1/q2;//ratio of heat lost from two substances\n",
"\n",
"//OUTPUT\n",
"mprintf('ratio of heat lost from two substances is %3.2f',q)"
   ]
   }
,
{
		   "cell_type": "markdown",
		   "metadata": {},
		   "source": [
			"## Example 12.2: The_stefan_constant.sce"
		   ]
		  },
  {
"cell_type": "code",
	   "execution_count": null,
	   "metadata": {
	    "collapsed": true
	   },
	   "outputs": [],
"source": [
"clc\n",
"clear\n",
"\n",
"//INPUT\n",
"t1=573;//temperature of the hot side in K\n",
"t2=273;//temperature of the coll side in K\n",
"m=82;//mass of the black body in gm\n",
"cp=0.1;//specific heat of the black body kj/kg.K\n",
"dt=0.35;//ice melting at a rate of temperature in deg.C/sec\n",
"a=8;//area of black body in sq.cm\n",
"\n",
"//CALCULATIONS\n",
"s=m*cp*dt/(a*(t1^4-t2^4));//boltzmann constant in cal/sq.cm/sec/deg^4\n",
"\n",
"//OUTPUT\n",
"mprintf('boltzmann constant is %3.13f cal/sq.cm/sec/deg^4',s)"
   ]
   }
,
{
		   "cell_type": "markdown",
		   "metadata": {},
		   "source": [
			"## Example 12.3: The_ratio_of_intensities.sce"
		   ]
		  },
  {
"cell_type": "code",
	   "execution_count": null,
	   "metadata": {
	    "collapsed": true
	   },
	   "outputs": [],
"source": [
"clc\n",
"clear\n",
"\n",
"//INPUT\n",
"r1=60;//distance of first black body in cm\n",
"r2=30;//distance of second black body in cm\n",
"t1=873;//temperature of first black body in K\n",
"t2=573;//temperature of the second black body in K\n",
"\n",
"//CALCULATIONS\n",
"i=(t2^4/t1^4)*(r1^2/r2^2);//ratio of intensity of radition\n",
"\n",
"//OUTPUT\n",
"mprintf('ratio of intensity of radition is %3.2f',i)"
   ]
   }
,
{
		   "cell_type": "markdown",
		   "metadata": {},
		   "source": [
			"## Example 12.4: The_heat_radiated_per_second.sce"
		   ]
		  },
  {
"cell_type": "code",
	   "execution_count": null,
	   "metadata": {
	    "collapsed": true
	   },
	   "outputs": [],
"source": [
"clc\n",
"clear\n",
"\n",
"//INPUT\n",
"t1=1373;//temperature of the sphere in K\n",
"t2=283;//temperature of the black body in K\n",
"r=4.17*10^5;//rate of heat radiate in ergs/sq.cm/sec\n",
"a=4*3.14*(6^2);//surface area of the sphere in sq.cm\n",
"\n",
"//CALCULATIONS\n",
"tr=r*a*(t1^4/t2^4)*(2.39005736*10^(-8));//total heat radiated in cal/sec\n",
"\n",
"//OUTPUT\n",
"mprintf('total heat radiated is %3.2f cal/sec',tr)"
   ]
   }
,
{
		   "cell_type": "markdown",
		   "metadata": {},
		   "source": [
			"## Example 12.5: The_time_for_sun_rays_to_fall.sce"
		   ]
		  },
  {
"cell_type": "code",
	   "execution_count": null,
	   "metadata": {
	    "collapsed": true
	   },
	   "outputs": [],
"source": [
"clc\n",
"clear\n",
"\n",
"//INPUT\n",
"h=2*3.14*100;//heat received by the lens per min in  cal\n",
"m=25;//mass of the ice in gm\n",
"l=80;//latent heat of ice in cal/gm\n",
"\n",
"//CALCULATIONS\n",
"t=m*l/h;//time for which the sun rays falls in min\n",
"\n",
"//OUTPUT\n",
"mprintf('time for which the sun rays falls is %3.2f min',t)"
   ]
   }
,
{
		   "cell_type": "markdown",
		   "metadata": {},
		   "source": [
			"## Example 12.6: The_amount_of_heat_reeived.sce"
		   ]
		  },
  {
"cell_type": "code",
	   "execution_count": null,
	   "metadata": {
	    "collapsed": true
	   },
	   "outputs": [],
"source": [
"clc\n",
"clear\n",
"\n",
"//INPUT\n",
"d=0.35;//diameter of the mirror in m\n",
"t=5;//time in min\n",
"T=16;//temperature of water found to be in deg.C\n",
"m=60;//mass of water in gm\n",
"mc=30;//mass of calorimeter in gm\n",
"cp=0.1;//specific heat of copper in cal/gm/deg.C\n",
"\n",
"//CALCULATIONS\n",
"q=(m+cp*mc)*T*4/(5*3.14*d^2);//amount of heat received by earth in cal\n",
"\n",
"//OUTPUT\n",
"mprintf('amount of heat received by earth is %3.2f cal',q)"
   ]
   }
,
{
		   "cell_type": "markdown",
		   "metadata": {},
		   "source": [
			"## Example 12.7: Rate_of_heat_lost.sce"
		   ]
		  },
  {
"cell_type": "code",
	   "execution_count": null,
	   "metadata": {
	    "collapsed": true
	   },
	   "outputs": [],
"source": [
"clc\n",
"clear\n",
"\n",
"//INPUT\n",
"r1=5;//radius of first sphere in cm\n",
"r2=10;//radius of second sphere in cm\n",
"t1=700;//temperature of the first sphere in K\n",
"t2=500;//temperature of the second sphere in K\n",
"t=300;//temperature of the enclousure in K\n",
"\n",
"//CALCULATIONS1\n",
"dc=(r2/r1)*(t1^4-t^4)/(t2^4-t^4);//ratio of c1/c2\n",
"r=r1^3*dc/r2^3;//rate of heat loss\n",
"\n",
"//OUTPUT\n",
"mprintf('rate of loss of heat is %3.2f',r)"
   ]
   }
,
{
		   "cell_type": "markdown",
		   "metadata": {},
		   "source": [
			"## Example 12.8: The_temperature.sce"
		   ]
		  },
  {
"cell_type": "code",
	   "execution_count": null,
	   "metadata": {
	    "collapsed": true
	   },
	   "outputs": [],
"source": [
"clc\n",
"clear\n",
"\n",
"//INPUT\n",
"t1=600;//temperature of the black body in K\n",
"t0=300;//temperature of the surroundings in K\n",
"d=6;//deflections in galvanometer\n",
"d1=400;//deflection in divisions\n",
"\n",
"//CALCULATIONS\n",
"dt=(d1/d)*(t1^4-t0^4);//change of temperature\n",
"t2=(dt+t0^4)^(1/4);//end temperature in K\n",
"\n",
"//OUTPUT\n",
"mprintf('end temperature of the temperature is %3.2f K',t2)"
   ]
   }
,
{
		   "cell_type": "markdown",
		   "metadata": {},
		   "source": [
			"## Example 12.9: The_temperature_of_the_regel.sce"
		   ]
		  },
  {
"cell_type": "code",
	   "execution_count": null,
	   "metadata": {
	    "collapsed": true
	   },
	   "outputs": [],
"source": [
"clc\n",
"clear\n",
"\n",
"//INPUT\n",
"n=17000;//luminosity of star compared to sun\n",
"t=6000;//temperature of the sun in K\n",
"\n",
"//CALCULATIONS\n",
"t1=(n*t^4)^(1/4);//temperature of the star in K\n",
"\n",
"//OUTPUT\n",
"mprintf('the temperature of the star is %3.2f K',t1)"
   ]
   }
],
"metadata": {
		  "kernelspec": {
		   "display_name": "Scilab",
		   "language": "scilab",
		   "name": "scilab"
		  },
		  "language_info": {
		   "file_extension": ".sce",
		   "help_links": [
			{
			 "text": "MetaKernel Magics",
			 "url": "https://github.com/calysto/metakernel/blob/master/metakernel/magics/README.md"
			}
		   ],
		   "mimetype": "text/x-octave",
		   "name": "scilab",
		   "version": "0.7.1"
		  }
		 },
		 "nbformat": 4,
		 "nbformat_minor": 0
}
