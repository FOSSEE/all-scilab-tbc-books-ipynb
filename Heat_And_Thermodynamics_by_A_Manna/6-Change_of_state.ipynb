{
"cells": [
 {
		   "cell_type": "markdown",
	   "metadata": {},
	   "source": [
       "# Chapter 6: Change of state"
	   ]
	},
{
		   "cell_type": "markdown",
		   "metadata": {},
		   "source": [
			"## Example 6.1: The_change_in_melting_point.sce"
		   ]
		  },
  {
"cell_type": "code",
	   "execution_count": null,
	   "metadata": {
	    "collapsed": true
	   },
	   "outputs": [],
"source": [
"clc\n",
"clear\n",
"\n",
"//INPUT\n",
"vl=1;//volume of water in cc\n",
"vs=1.0908;//volume of ice in cc\n",
"t=273;//temperature in k\n",
"p=76*13.6*981;//pressure in dynes/sq.cm\n",
"l=80;//latent heat of fusion in cal\n",
"j=4.2*10^7;//joules constant in erg/cal\n",
"\n",
"//CALCULATIONS\n",
"v=vl-vs;//change in volume\n",
"T=(v*t*p)/(j*l);//change in melting point of water\n",
"\n",
"//OUTPUT\n",
"mprintf('the change in melting point of water is %3.11f',T)"
   ]
   }
,
{
		   "cell_type": "markdown",
		   "metadata": {},
		   "source": [
			"## Example 6.2: The_latent_heat_of_vapourisation.sce"
		   ]
		  },
  {
"cell_type": "code",
	   "execution_count": null,
	   "metadata": {
	    "collapsed": true
	   },
	   "outputs": [],
"source": [
"clc\n",
"clear\n",
"\n",
"//INPUT\n",
"vv=1674;//volume of vapour in cc\n",
"vl=1;//volume of liquid in cc\n",
"p=760;//pressure of steam and water in mm\n",
"t=373;//temperature in K\n",
"p1=27.12;//superincumbent pressure in mm\n",
"\n",
"//CALCULATIONS\n",
"v=vv-vl;//change in volume\n",
"l=(v*p1*t*0.024203/(p));//latent heat of vapourisation in cal\n",
"\n",
"//OUTPUT\n",
"mprintf('the latent heat of vapourisation is %3.1f cal',l)"
   ]
   }
,
{
		   "cell_type": "markdown",
		   "metadata": {},
		   "source": [
			"## Example 6.3: The_value_of_K.sce"
		   ]
		  },
  {
"cell_type": "code",
	   "execution_count": null,
	   "metadata": {
	    "collapsed": true
	   },
	   "outputs": [],
"source": [
"clc\n",
"clear\n",
"\n",
"//INPUT\n",
"m=1/(342*100);//molar concentration of water\n",
"t=289;//temperature in K\n",
"p=53.5*13.6*981;//pressure in dynes/sq.cm\n",
"\n",
"//CALCULATIONS\n",
"k=p/(t*m);//the value of k in ergs/mol.deg\n",
"\n",
"//OUTPUT\n",
"mprintf('the value of k is %3.2f ergs/mol.deg',k)"
   ]
   }
,
{
		   "cell_type": "markdown",
		   "metadata": {},
		   "source": [
			"## Example 6.4: The_temperature_for_the_triple_point.sce"
		   ]
		  },
  {
"cell_type": "code",
	   "execution_count": null,
	   "metadata": {
	    "collapsed": true
	   },
	   "outputs": [],
"source": [
"clc\n",
"clear\n",
"\n",
"//INPUT\n",
"p1=4.60;//presure at 0deg.C in mm per deg.C\n",
"p2=4.94;//pressure at 1deg.C in mm per deg.C\n",
"t=0.0072;//lowering the melting point in deg.C\n",
"t1=7.1563979*10^(-3);//rise in melting point in deg.C\n",
"p=760;//atmospheric pressure in mm hg\n",
"\n",
"//CALCULATIONS\n",
"dp=p2-p1;//rate of increase of pressure in mm per deg.C\n",
"p3=(t1*p)/t;//pressure in mm\n",
"dt=(755.4-p3)/dp;//tmperature for the triple point in deg.C\n",
"\n",
"//OUTPUT\n",
"mprintf('temperature for the triple point is %3.6f deg.C',dt)"
   ]
   }
,
{
		   "cell_type": "markdown",
		   "metadata": {},
		   "source": [
			"## Example 6.5: The_slopes_of_vapourisatio.sce"
		   ]
		  },
  {
"cell_type": "code",
	   "execution_count": null,
	   "metadata": {
	    "collapsed": true
	   },
	   "outputs": [],
"source": [
"clc\n",
"clear\n",
"\n",
"//INPUT\n",
"v=21*10^4;//change in volume from vapour to liquid in cc\n",
"Ls=687;//latent heat of sublimation in cal\n",
"lv=607;//latent heat of vapourisation in cal\n",
"t=273;//temperature of water in deg.C\n",
"j=4.2*10^7;//joules constant in ergs/cal\n",
"\n",
"//CALCULATIONS\n",
"sv=lv*j/(t*(v));//slope of vapourisation curve at 0 deg.C in dyne/sq.cm/deg.C\n",
"ss=Ls*j/(t*(v));//slope of sublimation curve at 0 deg.C in dyne/sq.cm/deg.C\n",
"\n",
"//OUTPUT\n",
"mprintf('the slope of vapourisation curve is %3.2f dyne/sq.cm/deg.C \n the slope of sublimation curve is %3.2f dyne/sq.cm/deg.C',sv,ss)"
   ]
   }
],
"metadata": {
		  "kernelspec": {
		   "display_name": "Scilab",
		   "language": "scilab",
		   "name": "scilab"
		  },
		  "language_info": {
		   "file_extension": ".sce",
		   "help_links": [
			{
			 "text": "MetaKernel Magics",
			 "url": "https://github.com/calysto/metakernel/blob/master/metakernel/magics/README.md"
			}
		   ],
		   "mimetype": "text/x-octave",
		   "name": "scilab",
		   "version": "0.7.1"
		  }
		 },
		 "nbformat": 4,
		 "nbformat_minor": 0
}
