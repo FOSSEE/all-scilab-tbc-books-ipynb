{
"cells": [
 {
		   "cell_type": "markdown",
	   "metadata": {},
	   "source": [
       "# Chapter 12: Power cycles vapor"
	   ]
	},
{
		   "cell_type": "markdown",
		   "metadata": {},
		   "source": [
			"## Example 12.10: Example_10.sce"
		   ]
		  },
  {
"cell_type": "code",
	   "execution_count": null,
	   "metadata": {
	    "collapsed": true
	   },
	   "outputs": [],
"source": [
"clc\n",
"//Initialization of variables\n",
"ha=348.5 \n",
"hb=471.6\n",
"sa=0.6720\n",
"sb=sa\n",
"sbd=0.6944\n",
"hbd=492.7\n",
"etac=0.85\n",
"T0=60+460\n",
"//calculations\n",
"eps=abs(((hbd-ha)-T0*(sbd-sa))/(-(hbd-ha)))\n",
"I=(hbd-ha)-T0*(sbd-sa)-(hbd-ha)\n",
"//results\n",
"printf('Effectiveness = %.1f percent',eps*100)\n",
"printf('\n loss of available energy = %.1f btu/lbm',I)"
   ]
   }
,
{
		   "cell_type": "markdown",
		   "metadata": {},
		   "source": [
			"## Example 12.11: Example_11.sce"
		   ]
		  },
  {
"cell_type": "code",
	   "execution_count": null,
	   "metadata": {
	    "collapsed": true
	   },
	   "outputs": [],
"source": [
"clc\n",
"//Initialization of variables\n",
"y=0.195\n",
"bc=34.07\n",
"bb=-0.65\n",
"bi=290.85\n",
"//calculations\n",
"eps=abs((1-y)*(bc-bb)/(y*(bc-bi)))\n",
"I=(1-y)*(bc-bb)+ (y*(bc-bi))\n",
"//results\n",
"printf('Effectiveness = %.1f percent',eps*100)\n",
"printf('\n loss of available energy = %.1f btu/lbm',I)"
   ]
   }
,
{
		   "cell_type": "markdown",
		   "metadata": {},
		   "source": [
			"## Example 12.1: Example_1.sce"
		   ]
		  },
  {
"cell_type": "code",
	   "execution_count": null,
	   "metadata": {
	    "collapsed": true
	   },
	   "outputs": [],
"source": [
"clc\n",
"//Initialization of variables\n",
"p1=600 //psia\n",
"p2=0.2563 //psia\n",
"t1=486.21 //F\n",
"t2=60 //F\n",
"//calculations\n",
"disp('from steam tables,')\n",
"h1=1203.2\n",
"hf1=471.6\n",
"hfg1=731.6\n",
"h2=1088\n",
"hf2=28.06\n",
"hfg2=1059.9\n",
"s1=1.4454\n",
"sf1=0.6720\n",
"sfg1=0.7734\n",
"s2=2.0948\n",
"sf2=0.0555\n",
"sfg2=2.0393\n",
"xd=(s1-sf2)/sfg2\n",
"hd=hf2+xd*hfg2\n",
"xa=0.3023\n",
"ha=hf2+xa*hfg2\n",
"wbc=0\n",
"wda=0\n",
"wcd=h1-hd\n",
"wab=ha-hf1\n",
"W=wab+wcd+wbc+wda\n",
"Wrev=hfg1- (t2+459.7)*sfg1\n",
"etat=(t1-t2)/(t1+459.7)\n",
"etac=W/Wrev\n",
"etae=W/Wrev\n",
"Wr=Wrev/(wcd)\n",
"//results\n",
"printf('Thermal efficiency = %d percent',etat*100)\n",
"printf('\n Compression efficiency = %d percent',etac*100)\n",
"printf('\n Expansion efficiency = %d percent',etae*100)\n",
"printf('\n Work ratio = %.2f ',Wr)"
   ]
   }
,
{
		   "cell_type": "markdown",
		   "metadata": {},
		   "source": [
			"## Example 12.2: Example_2.sce"
		   ]
		  },
  {
"cell_type": "code",
	   "execution_count": null,
	   "metadata": {
	    "collapsed": true
	   },
	   "outputs": [],
"source": [
"clc\n",
"//Initialization of variables\n",
"dhab=-122.6\n",
"ha=348.5\n",
"eta=0.85\n",
"hf=471.6\n",
"hfg=731.6\n",
"hc=1203.2\n",
"dhcd=384.4\n",
"hf2=28.06\n",
"hfg2=1059.9\n",
"//calculations\n",
"hbd= ha - dhab/eta\n",
"x=(hbd-hf)/hfg\n",
"sbd=0.6944\n",
"hdd=hc- dhcd/eta\n",
"xdd=(hdd-hf2)/hfg2\n",
"sdd=1.5768\n",
"Qa=hc-hbd\n",
"etat=(dhcd+dhab/eta)/Qa\n",
"W=dhcd+dhab/eta\n",
"rw= W/dhcd\n",
"//results\n",
"printf('theoretical efficiency = %.1f percent',etat*100)\n",
"printf('\n Work ratio = %.3f',rw)"
   ]
   }
,
{
		   "cell_type": "markdown",
		   "metadata": {},
		   "source": [
			"## Example 12.3: Example_3.sce"
		   ]
		  },
  {
"cell_type": "code",
	   "execution_count": null,
	   "metadata": {
	    "collapsed": true
	   },
	   "outputs": [],
"source": [
"clc\n",
"//Initialization of variables\n",
"vf=0.01604 //ft^3/lbm\n",
"p1=600 //psia\n",
"p2=0.2563 //psia\n",
"J=778.16\n",
"//calculations\n",
"W=-vf*(p1-p2)*144/J\n",
"disp('From steam tables')\n",
"ha=28.06\n",
"hb=29.84\n",
"hd=1203.2\n",
"he=750.5\n",
"sa=0.0555\n",
"sb=0.0555\n",
"sd=1.4454\n",
"se=1.4454\n",
"Qa=hd-hb\n",
"Qr=ha-he\n",
"W2=Qr+Qa\n",
"Wt=hd-he\n",
"Wp=ha-hb\n",
"etat=W2/Qa\n",
"rw= W2/(Wt)\n",
"//results\n",
"printf('theoretical efficiency = %.1f percent',etat*100)\n",
"printf('\n Work ratio = %.3f',rw)"
   ]
   }
,
{
		   "cell_type": "markdown",
		   "metadata": {},
		   "source": [
			"## Example 12.4: Example_4.sce"
		   ]
		  },
  {
"cell_type": "code",
	   "execution_count": null,
	   "metadata": {
	    "collapsed": true
	   },
	   "outputs": [],
"source": [
"clc\n",
"//Initialization of variables\n",
"Wisen=-1.78\n",
"eta=0.85\n",
"t2=60 //F\n",
"t1=486.21 //F\n",
"//calculations\n",
"Wact=Wisen/eta\n",
"dsabd= (Wact+Wisen)/(t2+459.7)\n",
"disp('From steam tables,')\n",
"ha=28.06\n",
"hb=30.15\n",
"hd=1203.2\n",
"he=818.4\n",
"sa=0.0555\n",
"sb=0.0561\n",
"sd=1.4454\n",
"se=1.576\n",
"Qa=hd-hb\n",
"Qr=ha-he\n",
"W2=Qr+Qa\n",
"Wt=hd-he\n",
"Wp=ha-hb\n",
"etat=W2/Qa\n",
"rw= W2/(Wt)\n",
"//results\n",
"printf('theoretical efficiency = %.1f percent',etat*100)\n",
"printf('\n Work ratio = %.3f',rw)\n",
""
   ]
   }
,
{
		   "cell_type": "markdown",
		   "metadata": {},
		   "source": [
			"## Example 12.5: Example_5.sce"
		   ]
		  },
  {
"cell_type": "code",
	   "execution_count": null,
	   "metadata": {
	    "collapsed": true
	   },
	   "outputs": [],
"source": [
"clc\n",
"//Initialization of variables\n",
"sh=1.6070\n",
"ph=94.8 //psia\n",
"th=324 //F\n",
"tr=60 //F\n",
"hh=1186.2 \n",
"pi=94.8 //psia\n",
"hi=1399.5\n",
"si=1.8265\n",
"//calculations\n",
"Q=hi-hh\n",
"Hr=-(tr+459.7)*(si-sh)\n",
"work= Q+Hr\n",
"eff=work/Q\n",
"Qa1=1557.5\n",
"W1=637.1 \n",
"etat=W1/Qa1\n",
"he=1374\n",
"hj=948\n",
"Whp=he-hh\n",
"Wlp=hi-hj\n",
"//results\n",
"printf('Thermal efficiency in case 1= %.1f percent',eff*100)\n",
"printf('\n Thermal efficiency in case 1= %.1f percent',etat*100)\n",
"printf('\n High pressure work = %.1f Btu/lbm',Whp)\n",
"printf('\n Low pressure work = %.1f Btu/lbm',Wlp)"
   ]
   }
,
{
		   "cell_type": "markdown",
		   "metadata": {},
		   "source": [
			"## Example 12.6: Example_6.sce"
		   ]
		  },
  {
"cell_type": "code",
	   "execution_count": null,
	   "metadata": {
	    "collapsed": true
	   },
	   "outputs": [],
"source": [
"clc\n",
"//Initialization of variables\n",
"p2=600 //psia\n",
"p1=44 //psia\n",
"te=486.21 //F\n",
"tb=273.1 //F\n",
"J=778.16\n",
"p3=0.25 //psia\n",
"//calculations\n",
"hc=241.9\n",
"hj=834.6\n",
"y=1-0.805\n",
"v1=0.0172\n",
"v2=0.016\n",
"ha=28.06\n",
"hd=hc+v1*(p2-p1)*144/J\n",
"hb=ha+v2*(p1-p3)*144/J\n",
"hh=1374\n",
"Qa=hh-hd\n",
"Qr=(ha-hj)*(1-y)\n",
"etat=(Qa+Qr)/Qa\n",
"//results\n",
"printf('thermal efficiency = %.1f percent',etat*100)"
   ]
   }
,
{
		   "cell_type": "markdown",
		   "metadata": {},
		   "source": [
			"## Example 12.7: Example_7.sce"
		   ]
		  },
  {
"cell_type": "code",
	   "execution_count": null,
	   "metadata": {
	    "collapsed": true
	   },
	   "outputs": [],
"source": [
"clc\n",
"//Initialization of variables\n",
"cp=0.25\n",
"t2=3460 //R\n",
"t1=946.2 //R\n",
"etat=0.45\n",
"Q=-489\n",
"t3=520 //R\n",
"etat2=0.384\n",
"//calculations\n",
"Qa=cp*(t2-t1)\n",
"w=etat*Qa\n",
"eps=-w/Q\n",
"I=w+Q\n",
"Qa2= cp*(t2-t3)\n",
"W2=etat2*Qa2\n",
"eps2=-W2/Q\n",
"I2=W2+Q\n",
"//results\n",
"printf('In case 1, Effectiveness of cycle = %d percent',eps*100)\n",
"printf('\n in case 1, loss in available energy = %d Btu/lbm',I)\n",
"printf('\n in case 2, loss in available energy = %d Btu/lbm',I2)"
   ]
   }
,
{
		   "cell_type": "markdown",
		   "metadata": {},
		   "source": [
			"## Example 12.8: Example_8.sce"
		   ]
		  },
  {
"cell_type": "code",
	   "execution_count": null,
	   "metadata": {
	    "collapsed": true
	   },
	   "outputs": [],
"source": [
"clc\n",
"//Initialization of variables\n",
"W=481 //Btu/lbm\n",
"hh=1374\n",
"hd=243.7\n",
"sh=1.6070\n",
"sd=0.4\n",
"t=519.7 //R\n",
"//calculations\n",
"Q=(hh-hd) - t*(sh-sd)\n",
"eta=W/Q\n",
"I=-Q+W\n",
"//resu;ts\n",
"printf('Efficiency = %.1f percent',eta*100)\n",
"printf('\n Energy = %.1f Btu/lbm',I)"
   ]
   }
,
{
		   "cell_type": "markdown",
		   "metadata": {},
		   "source": [
			"## Example 12.9: Example_9.sce"
		   ]
		  },
  {
"cell_type": "code",
	   "execution_count": null,
	   "metadata": {
	    "collapsed": true
	   },
	   "outputs": [],
"source": [
"clc\n",
"clear\n",
"//Initialization of variables\n",
"b1=480.9\n",
"h1=1306.9\n",
"s1=1.5894\n",
"h2=1122\n",
"s2=s1\n",
"s3=1.6522\n",
"b3=310.9\n",
"h3=1169.5\n",
"//calculations\n",
"W=h3-h1\n",
"db=b3-b1\n",
"dh=h1-h2\n",
"etae=abs(W/dh)\n",
"eps=abs(W/db)\n",
"I=db-W\n",
"//results\n",
"printf('Engine efficiency = %.1f percent',etae*100)\n",
"printf('\n Effectiveness = %.1f percent',eps*100)\n",
"printf('\n Loss of available energy = %.1f Btu/lbm',I)"
   ]
   }
],
"metadata": {
		  "kernelspec": {
		   "display_name": "Scilab",
		   "language": "scilab",
		   "name": "scilab"
		  },
		  "language_info": {
		   "file_extension": ".sce",
		   "help_links": [
			{
			 "text": "MetaKernel Magics",
			 "url": "https://github.com/calysto/metakernel/blob/master/metakernel/magics/README.md"
			}
		   ],
		   "mimetype": "text/x-octave",
		   "name": "scilab",
		   "version": "0.7.1"
		  }
		 },
		 "nbformat": 4,
		 "nbformat_minor": 0
}
