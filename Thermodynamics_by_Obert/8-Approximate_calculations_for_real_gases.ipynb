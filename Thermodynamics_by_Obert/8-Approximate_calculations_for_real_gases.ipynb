{
"cells": [
 {
		   "cell_type": "markdown",
	   "metadata": {},
	   "source": [
       "# Chapter 8: Approximate calculations for real gases"
	   ]
	},
{
		   "cell_type": "markdown",
		   "metadata": {},
		   "source": [
			"## Example 8.10: Example_10.sce"
		   ]
		  },
  {
"cell_type": "code",
	   "execution_count": null,
	   "metadata": {
	    "collapsed": true
	   },
	   "outputs": [],
"source": [
"clc\n",
"//Initialization of variablesk=1.38\n",
"R=1.986\n",
"T1=900 //R\n",
"M=29\n",
"pr=0.1\n",
"Wrev=50 //Btu/lbm\n",
"cp=0.245\n",
"k=1.3\n",
"//calculations\n",
"KE = -cp*T1*(pr^((k-1)/k) -1) -Wrev\n",
"//results\n",
"printf('Change in kinetic energy = %d Btu/lbm',KE)"
   ]
   }
,
{
		   "cell_type": "markdown",
		   "metadata": {},
		   "source": [
			"## Example 8.11: Example_11.sce"
		   ]
		  },
  {
"cell_type": "code",
	   "execution_count": null,
	   "metadata": {
	    "collapsed": true
	   },
	   "outputs": [],
"source": [
"clc\n",
"//Initialization of variables\n",
"n=1.3\n",
"p2=125 //psia\n",
"m=1 //lbm\n",
"c=0.04\n",
"cv=0.171\n",
"k=1.4\n",
"p1=14.7 //psia\n",
"T2=852 //R\n",
"T1=520 //R\n",
"//calculations\n",
"eta=1+c-c*((p2/p1)^(1/n)) \n",
"md=m/eta\n",
"m12=md*(c+1)\n",
"m34=m12-m\n",
"Q12=m12*cv*((k-n)/(1-n))*(T2-T1)\n",
"Q34=m34*cv*((k-n)/(1-n))*(T1-T2)\n",
"Q=Q12+Q34\n",
"//results\n",
"printf('Net heat transfer from air = %.1f Btu/lbm ',Q)"
   ]
   }
,
{
		   "cell_type": "markdown",
		   "metadata": {},
		   "source": [
			"## Example 8.12: Example_12.sce"
		   ]
		  },
  {
"cell_type": "code",
	   "execution_count": null,
	   "metadata": {
	    "collapsed": true
	   },
	   "outputs": [],
"source": [
"clc\n",
"//Initialization of variables\n",
"stroke=14 //in\n",
"n=1.3\n",
"rpm=130\n",
"pa=14.7 //psia\n",
"ta=80+460 //R\n",
"c=0.03\n",
"p1=pa\n",
"p4=200 //psia\n",
"R=53.3\n",
"cap=400 //cfm\n",
"m=29.4\n",
"cp=0.24\n",
"//calculations\n",
"pi=sqrt(pa*p4)\n",
"nv=1+c-c*(pi/p1)^(1/n)\n",
"Dl=cap/nv\n",
"vdl=Dl/(2*rpm)\n",
"dl=sqrt(vdl*1728*4/(%pi*stroke))\n",
"vh=cap*p1/pi\n",
"Dh=vh/nv\n",
"vdh=Dh/(2*rpm)\n",
"dh=sqrt(vdh*1728*4/(%pi*stroke))\n",
"m=p1*144*cap/R/ta\n",
"T2=ta*(pi/p1)^((n-1)/n)\n",
"Q=m*cp*(T2-ta)\n",
"//results\n",
"printf('diameter of cylinder 1 = %d in',dl)\n",
"printf('\n diameter of cylinder 2 = %.2f in',dh)\n",
"printf('\n Heat transferred = %d Btu/min',Q)"
   ]
   }
,
{
		   "cell_type": "markdown",
		   "metadata": {},
		   "source": [
			"## Example 8.13: Example_13.sce"
		   ]
		  },
  {
"cell_type": "code",
	   "execution_count": null,
	   "metadata": {
	    "collapsed": true
	   },
	   "outputs": [],
"source": [
"clc\n",
"//Initialization of variables\n",
"Pr=10\n",
"n=1.3\n",
"T1=900 //R\n",
"W=50 //Btu/lbm\n",
"//calculations\n",
"T2=T1/Pr^((n-1)/n)\n",
"h1=120.86\n",
"h2=30.69\n",
"dh=h2-h1\n",
"ke=-dh-W\n",
"//results\n",
"printf('Change in kinetic energy = %.2f Btu/lbm',ke)"
   ]
   }
,
{
		   "cell_type": "markdown",
		   "metadata": {},
		   "source": [
			"## Example 8.14: Example_14.sce"
		   ]
		  },
  {
"cell_type": "code",
	   "execution_count": null,
	   "metadata": {
	    "collapsed": true
	   },
	   "outputs": [],
"source": [
"clc\n",
"//Initialization of variables\n",
"T1=900 //R\n",
"p1=100 //psia\n",
"p2=10 //psia\n",
"w=50 //Btu/lbm\n",
"//calculations\n",
"h1=120.86 //Btu/lbm\n",
"pr1=17.374\n",
"pr2=pr1*p2/p1\n",
"disp('From equilibrium charts,')\n",
"T2=468 //R\n",
"h2=16.3 //Btu/lbm\n",
"ke=h1-h2-w\n",
"//results\n",
"printf('Change in kinetic energy = %.2f Btu/lbm',ke)"
   ]
   }
,
{
		   "cell_type": "markdown",
		   "metadata": {},
		   "source": [
			"## Example 8.15: Example_15.sce"
		   ]
		  },
  {
"cell_type": "code",
	   "execution_count": null,
	   "metadata": {
	    "collapsed": true
	   },
	   "outputs": [],
"source": [
"clc\n",
"//Initialization of variables\n",
"p1=100 //psi\n",
"p2=10 //psia\n",
"pa=14.7 //psi\n",
"T2=468 //R\n",
"T2r=528 //R\n",
"R=1.986\n",
"M=29\n",
"//calculations\n",
"disp('From air tables,')\n",
"phi1=0.06657\n",
"phi2=0.03762\n",
"ds=phi1-phi2\n",
"phi11=0.19569\n",
"phi12=0.06657\n",
"ds2= phi12-phi11 - R/M *log(p2/p1)\n",
"//results\n",
"printf('In case 1, change in entropy = %.5f Btu/lbm R',ds)\n",
"printf('\n In case 2, change in entropy = %.5f btu/lbm R',ds2)\n",
"//the answer is a bit different due to rounding off error in textbook"
   ]
   }
,
{
		   "cell_type": "markdown",
		   "metadata": {},
		   "source": [
			"## Example 8.16: Example_16.sce"
		   ]
		  },
  {
"cell_type": "code",
	   "execution_count": null,
	   "metadata": {
	    "collapsed": true
	   },
	   "outputs": [],
"source": [
"clc\n",
"//Initialization of variables\n",
"T1=520 //R\n",
"disp('From air table,')\n",
"vr1=5192\n",
"u1=-6.87 //Btu/lbm\n",
"pr1=2.504\n",
"vrat=6\n",
"p1=14.7\n",
"R=1.986\n",
"M=29\n",
"//calculations\n",
"vr2=vr1/vrat\n",
"T2=1050 //R\n",
"u2=86.1 //Btu/lbm\n",
"pr2=30.35 \n",
"p2=p1*pr2/pr1\n",
"W=u1-u2\n",
"k=1.39\n",
"p22=p1*vrat^(k)\n",
"T22=T1*(vrat)^(k-1)\n",
"W2=R*(T22-T1)/(1-k)/M\n",
"//results\n",
"printf('in case 1, Final pressure = %d psia',p2)\n",
"printf('\n in case 1, final temperature = %d R',T2)\n",
"printf('\n in case 1, work done = %.2f Btu/lbm',W)\n",
"printf('\n in case 2, Final pressure = %d psia',p22)\n",
"printf('\n in case 2, final temperature = %d R',T22)\n",
"printf('\n in case 2, work done = %.2f Btu/lbm',W2)\n",
"//The answers are a bit different due to rounding off error in textbook"
   ]
   }
,
{
		   "cell_type": "markdown",
		   "metadata": {},
		   "source": [
			"## Example 8.1: Example_1.sce"
		   ]
		  },
  {
"cell_type": "code",
	   "execution_count": null,
	   "metadata": {
	    "collapsed": true
	   },
	   "outputs": [],
"source": [
"clc\n",
"//Initialization of variables\n",
"R=1.986 //B/mol R\n",
"t2=1100 //R\n",
"t1=1000 //R\n",
"//calculations\n",
"wrev=R*(t2-t1)\n",
"//results\n",
"printf('work done = %.1f Btu/mol',wrev)"
   ]
   }
,
{
		   "cell_type": "markdown",
		   "metadata": {},
		   "source": [
			"## Example 8.2: Example_2.sce"
		   ]
		  },
  {
"cell_type": "code",
	   "execution_count": null,
	   "metadata": {
	    "collapsed": true
	   },
	   "outputs": [],
"source": [
"clc\n",
"//Initialization of variables\n",
"p1=20 //psia\n",
"p2=40 //psia\n",
"t1= 460+40 //R\n",
"m=28\n",
"R=1.986\n",
"cp=0.246 //B/lbm R\n",
"//calculations\n",
"t2= t1*p2/p1\n",
"cv=cp- (R/m)\n",
"Qrev=cv*(t2-t1)\n",
"ds= cv*log(t2/t1)\n",
"//results\n",
"printf('heat transferred = %.1f Btu/lbm',Qrev)\n",
"printf('\n change in entropy = %.3f Btu/lbm R',ds)"
   ]
   }
,
{
		   "cell_type": "markdown",
		   "metadata": {},
		   "source": [
			"## Example 8.3: Example_3.sce"
		   ]
		  },
  {
"cell_type": "code",
	   "execution_count": null,
	   "metadata": {
	    "collapsed": true
	   },
	   "outputs": [],
"source": [
"clc\n",
"//Initialization of variables\n",
"t1=500 //R\n",
"t2=1000 //R\n",
"//calculations\n",
"function y = cp1(t)\n",
"    y= 7.484 - 3.47*10^3 /t + 1.16*10^6 /t^2\n",
"endfunction\n",
"function y = cp2(t)\n",
"    y = 7.484/t - 3.47*10^3 /t^2 + 1.16*10^6 /t^3\n",
"endfunction\n",
"Q=intg(t1,t2,cp1)\n",
"ds=intg(t1,t2,cp2)\n",
"//results\n",
"printf('heat transferred = %d Btu/mole',Q)\n",
"printf('\n change in entropy = %.3f Btu/mole R',ds)"
   ]
   }
,
{
		   "cell_type": "markdown",
		   "metadata": {},
		   "source": [
			"## Example 8.4: Example_4.sce"
		   ]
		  },
  {
"cell_type": "code",
	   "execution_count": null,
	   "metadata": {
	    "collapsed": true
	   },
	   "outputs": [],
"source": [
"clc\n",
"//Initialization of variables\n",
"v1=20.9 //ft^3/mol\n",
"v2=23.2 //ft^3/mol\n",
"p=500 //psia\n",
"w1=198.6 //Btu/mol\n",
"//calculations\n",
"w=p*(v2-v1)*144/100*0.1285\n",
"err = (w-w1)/w\n",
"//results\n",
"printf('Work done in this case = %d Btu/mol',w)\n",
"printf('\n error = %.2f percent',err*100)"
   ]
   }
,
{
		   "cell_type": "markdown",
		   "metadata": {},
		   "source": [
			"## Example 8.5: Example_5.sce"
		   ]
		  },
  {
"cell_type": "code",
	   "execution_count": null,
	   "metadata": {
	    "collapsed": true
	   },
	   "outputs": [],
"source": [
"clc\n",
"//Initialization of variables\n",
"R=1.986\n",
"T=1000 //R\n",
"vr=2\n",
"//calculations\n",
"Q= R*T*log(vr)\n",
"//results\n",
"printf('heat transferred = work = %d Btu/mol',Q)"
   ]
   }
,
{
		   "cell_type": "markdown",
		   "metadata": {},
		   "source": [
			"## Example 8.7: Example_7.sce"
		   ]
		  },
  {
"cell_type": "code",
	   "execution_count": null,
	   "metadata": {
	    "collapsed": true
	   },
	   "outputs": [],
"source": [
"clc\n",
"//Initialization of variables\n",
"v2=41.8 //ft^3/mol\n",
"v1=20.9 //ft^3/mol\n",
"b=0.685 //ft^3/mol\n",
"R=0.73 //atm ft^3 / R mol\n",
"a=924.2\n",
"T=1000 //R\n",
"//calculations\n",
"vr= log((v2-b)/(v1-b))\n",
"W= R*T*vr + a*(1/v2 - 1/v1)\n",
"//results\n",
"printf('Work done = %.1f atm ft^3/mol',W)"
   ]
   }
,
{
		   "cell_type": "markdown",
		   "metadata": {},
		   "source": [
			"## Example 8.8: Example_8.sce"
		   ]
		  },
  {
"cell_type": "code",
	   "execution_count": null,
	   "metadata": {
	    "collapsed": true
	   },
	   "outputs": [],
"source": [
"clc\n",
"//Initialization of variables\n",
"R=1545 \n",
"n=1.3\n",
"T1=520 //R\n",
"p2=125 //psia\n",
"p1=14.7 //psia\n",
"M=29\n",
"cv=0.171\n",
"k=1.4\n",
"//calculations\n",
"Wrev= R*T1/M/(1-n) *((p2/p1)^((n-1)/n) -1)\n",
"T2= T1*(p2/p1)^((n-1)/n)\n",
"Qrev= cv*((k-n)/(1-n))*(T2-T1)\n",
"//results\n",
"printf('Work done = %d ft lbf/lbm',Wrev)\n",
"printf('\n Heat transferred = %.1f Btu/lbm',Qrev)"
   ]
   }
,
{
		   "cell_type": "markdown",
		   "metadata": {},
		   "source": [
			"## Example 8.9: Example_9.sce"
		   ]
		  },
  {
"cell_type": "code",
	   "execution_count": null,
	   "metadata": {
	    "collapsed": true
	   },
	   "outputs": [],
"source": [
"clc\n",
"//Initialization of variables\n",
"k=1.38\n",
"R=1.986\n",
"T1=900 //R\n",
"M=29\n",
"pr=0.1\n",
"Wrev=50 //Btu/lbm\n",
"//calculations\n",
"KE = k*R*T1/M/(1-k) *(pr^((k-1)/k) -1) -Wrev\n",
"//results\n",
"printf('Change in kinetic energy = %d Btu/lbm',KE)"
   ]
   }
],
"metadata": {
		  "kernelspec": {
		   "display_name": "Scilab",
		   "language": "scilab",
		   "name": "scilab"
		  },
		  "language_info": {
		   "file_extension": ".sce",
		   "help_links": [
			{
			 "text": "MetaKernel Magics",
			 "url": "https://github.com/calysto/metakernel/blob/master/metakernel/magics/README.md"
			}
		   ],
		   "mimetype": "text/x-octave",
		   "name": "scilab",
		   "version": "0.7.1"
		  }
		 },
		 "nbformat": 4,
		 "nbformat_minor": 0
}
