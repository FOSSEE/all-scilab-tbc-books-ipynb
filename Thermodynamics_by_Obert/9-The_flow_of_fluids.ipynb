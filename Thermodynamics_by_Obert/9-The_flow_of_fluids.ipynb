{
"cells": [
 {
		   "cell_type": "markdown",
	   "metadata": {},
	   "source": [
       "# Chapter 9: The flow of fluids"
	   ]
	},
{
		   "cell_type": "markdown",
		   "metadata": {},
		   "source": [
			"## Example 9.10: Example_10.sce"
		   ]
		  },
  {
"cell_type": "code",
	   "execution_count": null,
	   "metadata": {
	    "collapsed": true
	   },
	   "outputs": [],
"source": [
"clc\n",
"//Initialization of variables\n",
"K=0.6007\n",
"Y1=0.91\n",
"D1=6.065\n",
"D2=1.820\n",
"rho1=0.156\n",
"p1=30\n",
"p2=20.18\n",
"//calculations\n",
"bet=D2/D1\n",
"m=0.525*K*Y1^2 *D2^2 *sqrt(rho1*(p1-p2))\n",
"C=K*sqrt(1-bet^4)\n",
"//results\n",
"printf('mass flow rate = %.2f lbm/sec',m)\n",
"printf('\n Coefficient of discharge = %.3f',C)"
   ]
   }
,
{
		   "cell_type": "markdown",
		   "metadata": {},
		   "source": [
			"## Example 9.11: Example_11.sce"
		   ]
		  },
  {
"cell_type": "code",
	   "execution_count": null,
	   "metadata": {
	    "collapsed": true
	   },
	   "outputs": [],
"source": [
"clc\n",
"//Initialization of variables\n",
"zm=0.216\n",
"pm=62.3 //lbm/ft^2\n",
"p1=0.0736 //lbm/ft^2\n",
"g=32.2\n",
"d=4\n",
"//calculations\n",
"H=zm*(pm-p1)/12/p1\n",
"V=sqrt(2*g*H)\n",
"m=%pi/4 *d^2 *V*p1\n",
"//results\n",
"printf('average velocity = %.1f ft/sec',V)\n",
"printf('\n mass flow rate = %.1f lbm/sec',m)"
   ]
   }
,
{
		   "cell_type": "markdown",
		   "metadata": {},
		   "source": [
			"## Example 9.12: Example_12.sce"
		   ]
		  },
  {
"cell_type": "code",
	   "execution_count": null,
	   "metadata": {
	    "collapsed": true
	   },
	   "outputs": [],
"source": [
"clc\n",
"//Initialization of variables\n",
"p1=50 //psia\n",
"pr=0.58\n",
"//calculations\n",
"p=p1*pr\n",
"s1=1.6585\n",
"h1=1174.1 //Btu/lbm\n",
"sf=0.3680\n",
"sfg=1.3313\n",
"hfg=945.3\n",
"vg=13.746\n",
"hf=218.82\n",
"x= (s1-sf)/sfg\n",
"v2=vg*x\n",
"h2=hf+x*hfg\n",
"V2rev=223.77*sqrt(h1-h2)\n",
"m=%pi/4 *1/144 *V2rev/v2\n",
"//results\n",
"printf('mass flow rate = %.3f lbm/sec',m)"
   ]
   }
,
{
		   "cell_type": "markdown",
		   "metadata": {},
		   "source": [
			"## Example 9.13: Example_13.sce"
		   ]
		  },
  {
"cell_type": "code",
	   "execution_count": null,
	   "metadata": {
	    "collapsed": true
	   },
	   "outputs": [],
"source": [
"clc\n",
"//Initialization of variables\n",
"k=1.31\n",
"p1=7200 //lbf/ft^2\n",
"v1=8.515 //ft^3/lbm\n",
"pr=0.6\n",
"m1=0.574\n",
"T1=741 //R\n",
"//calculations\n",
"V2rev=8.02*sqrt(k/(k-1) *p1*v1*(1- (pr)^((k-1)/k)))\n",
"v2=v1*(1/pr)^(1/k)\n",
"m=%pi/4 *1/144 *V2rev/v2\n",
"C=m/m1\n",
"T2=T1*(0.887)\n",
"t=250+460 //R\n",
"dt=t-T2\n",
"//results\n",
"printf('Mass flow rate = %.3f lbm/sec',m)\n",
"printf('\n Meta stable under cooling = %d F',dt)"
   ]
   }
,
{
		   "cell_type": "markdown",
		   "metadata": {},
		   "source": [
			"## Example 9.14: Example_14.sce"
		   ]
		  },
  {
"cell_type": "code",
	   "execution_count": null,
	   "metadata": {
	    "collapsed": true
	   },
	   "outputs": [],
"source": [
"clc\n",
"//Initialization of variables\n",
"C=0.98\n",
"m=1\n",
"v=12.55 //ft^3/lbm\n",
"V=1372 //ft/s\n",
"//calculations\n",
"A=m*v/(C*V) *144\n",
"D=sqrt(A*4/%pi)\n",
"//results\n",
"printf('Area = %.3f in^2',A)\n",
"printf('\n diameter = %.2f in',D)"
   ]
   }
,
{
		   "cell_type": "markdown",
		   "metadata": {},
		   "source": [
			"## Example 9.15: Example_15.sce"
		   ]
		  },
  {
"cell_type": "code",
	   "execution_count": null,
	   "metadata": {
	    "collapsed": true
	   },
	   "outputs": [],
"source": [
"clc\n",
"//Initialization of variables\n",
"nn=0.95\n",
"p1=50 //psia\n",
"p2=30 //psia\n",
"v1=8.515\n",
"m=1 //lbm\n",
"//calculations\n",
"cv=sqrt(nn)\n",
"V2rev=1372\n",
"V2act=cv*V2rev\n",
"n=1.283\n",
"v2=v1*(p1/p2)^(1/n)\n",
"A=m*v2/V2act *144\n",
"D=sqrt(A*4/%pi)\n",
"//results\n",
"printf('Area = %.2f in^2',A)\n",
"printf('\n diameter = %.3f in',D)"
   ]
   }
,
{
		   "cell_type": "markdown",
		   "metadata": {},
		   "source": [
			"## Example 9.16: Example_16.sce"
		   ]
		  },
  {
"cell_type": "code",
	   "execution_count": null,
	   "metadata": {
	    "collapsed": true
	   },
	   "outputs": [],
"source": [
"clc\n",
"//Initialization of variables\n",
"p1=100 //psia\n",
"p2=14.7 //psia\n",
"k=1.4\n",
"T1=700 //R\n",
"R=10.73/29\n",
"V=50\n",
"cv=0.171\n",
"cp=0.24\n",
"R2=1.986/29\n",
"//calculations\n",
"T2=T1/ (p1/p2)^((k-1)/k)\n",
"T2=358 //R\n",
"m1=p1*V/(R*T1)\n",
"m2=p2*V/(R*T2)\n",
"Wrev= cv*(m1*T1 - m2*T2) - (m1-m2)*(T2)*cp\n",
"Wrev2=m1*cv*(T1-T2) - m1*R2*(T2-p2/p1*T1)\n",
"//results\n",
"printf('Work done in case 1 = %d Btu',Wrev)\n",
"printf('\n Work done in case 2 = %d Btu',Wrev2)"
   ]
   }
,
{
		   "cell_type": "markdown",
		   "metadata": {},
		   "source": [
			"## Example 9.17: Example_17.sce"
		   ]
		  },
  {
"cell_type": "code",
	   "execution_count": null,
	   "metadata": {
	    "collapsed": true
	   },
	   "outputs": [],
"source": [
"clc\n",
"//Initialization of variables\n",
"hf=1187.2 //Btu/lbm\n",
"p2=100 //psia\n",
"//calculations\n",
"t=328 //F\n",
"u2=hf\n",
"disp('from steam table,')\n",
"t2=540 //F\n",
"p2=100 //psia\n",
"dt=t2-t\n",
"//results\n",
"printf('Rise in temperature = %d F',dt)"
   ]
   }
,
{
		   "cell_type": "markdown",
		   "metadata": {},
		   "source": [
			"## Example 9.1: Example_1.sce"
		   ]
		  },
  {
"cell_type": "code",
	   "execution_count": null,
	   "metadata": {
	    "collapsed": true
	   },
	   "outputs": [],
"source": [
"clc\n",
"//Initialization of variables\n",
"h1=1329.1 //Btu/lbm\n",
"v1=6.218 //ft^3/lbm\n",
"J=778\n",
"g=32.174\n",
"m=1\n",
"//calculations\n",
"p=[80 60 54.6 40 20]\n",
"h=[ 1304.1 1273.8 1265 1234.2 1174.8]\n",
"v=[ 7.384 9.208 9.844 12.554 21.279]\n",
"Fc=1\n",
"V2=Fc*sqrt(2*J*g*(h1-h))\n",
"A=m*v ./V2\n",
"V2=[0 V2]\n",
"A=[0 A]\n",
"//results\n",
"disp('velocity = ')\n",
"disp(V2 )\n",
"disp('Area = ')\n",
"disp(A)\n",
"//The initial values of velocity and area are 0 and infinity respectively"
   ]
   }
,
{
		   "cell_type": "markdown",
		   "metadata": {},
		   "source": [
			"## Example 9.2: Example_2.sce"
		   ]
		  },
  {
"cell_type": "code",
	   "execution_count": null,
	   "metadata": {
	    "collapsed": true
	   },
	   "outputs": [],
"source": [
"clc\n",
"//Initialization of variables\n",
"n=1.4\n",
"p1=50 //psia\n",
"J=778\n",
"cp=0.24\n",
"T1=520 //R\n",
"k=n\n",
"R=1545/29\n",
"m=1\n",
"p2=10 //psia\n",
"//calculations\n",
"rpt=(2/(n+1))^(n/(n-1))\n",
"pt=p1*rpt\n",
"Vtrev=223.77*sqrt(cp*T1*(1- rpt^((k-1)/k)))\n",
"v1=R*T1/p1/144\n",
"vt=v1*(p1/pt)^(1/k)\n",
"At=m*vt/Vtrev\n",
"V2rev=223.77*sqrt(cp*T1*(1-(p2/p1)^((k-1)/k)))\n",
"v2=v1*(p1/p2)^(1/k)\n",
"A2=m*v2/V2rev\n",
"//results\n",
"printf('Area required = %.5f ft^2',At)\n",
"printf('\n Area in case 2 = %.5f ft^2',A2)"
   ]
   }
,
{
		   "cell_type": "markdown",
		   "metadata": {},
		   "source": [
			"## Example 9.3: Example_3.sce"
		   ]
		  },
  {
"cell_type": "code",
	   "execution_count": null,
	   "metadata": {
	    "collapsed": true
	   },
	   "outputs": [],
"source": [
"clc\n",
"//Initialization of variables\n",
"rpt=0.569\n",
"b=0.8\n",
"p1=50 //psia\n",
"cp=0.24\n",
"T1=520 //R\n",
"k=1.4\n",
"v2=12.2\n",
"v1=3.86\n",
"m=1\n",
"//calculations\n",
"pt=p1*rpt\n",
"Vtrev=223.77*sqrt(cp*T1*(1- rpt^((k-1)/k)) /(1- b^4 *(v1/v2)^2))\n",
"vt=(p1/pt)^(1/k) *v1\n",
"At=m*vt/Vtrev\n",
"//results\n",
"printf('Area of throat = %.5f ft^2',At)"
   ]
   }
,
{
		   "cell_type": "markdown",
		   "metadata": {},
		   "source": [
			"## Example 9.4: Example_4.sce"
		   ]
		  },
  {
"cell_type": "code",
	   "execution_count": null,
	   "metadata": {
	    "collapsed": true
	   },
	   "outputs": [],
"source": [
"clc\n",
"//Initialization of variables\n",
"J=778\n",
"g=32.2\n",
"pc=54.6 //psia\n",
"h1=1329.1 //Btu/lbm\n",
"h2=1265 //btu/lbm\n",
"V2rev=1790 //ft/s\n",
"cv=0.99\n",
"m=1 //lbm\n",
"cv2=0.96\n",
"//calculations\n",
"V2d=cv*V2rev\n",
"hd=cv^2 *(h1-h2)\n",
"h2d=h1-hd\n",
"v2d=9.946\n",
"A2d=m*v2d/V2d\n",
"dh=-154.3\n",
"V3=2775 //ft/s\n",
"V3d=cv2*V3\n",
"h3d= h1+ cv2^2 *dh\n",
"v3d=22.05 //ft^3/lbm\n",
"A3d=m*v3d/V3d\n",
"//results\n",
"printf('Throat area in case 2 = %.4f ft^2',A2d)\n",
"printf('\n Throat area in case 3 = %.5f ft^2',A3d)"
   ]
   }
,
{
		   "cell_type": "markdown",
		   "metadata": {},
		   "source": [
			"## Example 9.5: Example_5.sce"
		   ]
		  },
  {
"cell_type": "code",
	   "execution_count": null,
	   "metadata": {
	    "collapsed": true
	   },
	   "outputs": [],
"source": [
"clc\n",
"//Initialization of variables\n",
"p2=26.4 //psia\n",
"p1=50 //psia\n",
"p3=10 //psia\n",
"V2rev=1017 //ft/s\n",
"cv=0.99\n",
"J=778\n",
"g=32.2\n",
"cp=0.24\n",
"T1=460+60 //R\n",
"k=1.4\n",
"R=1545/29\n",
"m=1\n",
"cv2=0.92\n",
"//calculations\n",
"V2d=cv*V2rev\n",
"dhr= (V2rev^2 - V2d^2)/(2*g*J)\n",
"dtr=dhr/cp\n",
"T2=T1*(p2/p1)^((k-1)/k)\n",
"T2d=T2+dtr\n",
"v2d=R*T2d/(p2*144)\n",
"A2d= m*v2d/V2d\n",
"V3=1515\n",
"V3d=V3*cv2^0.5\n",
"T3=T1*(p3/p1)^((k-1)/k)\n",
"dhr2=(V3^2 - V3d^2)/(2*J*g)\n",
"dtr2=dhr2/cp\n",
"T3d=T3+dtr2\n",
"v3d=R*T3d/(p3*144)\n",
"A3d=m*v3d/V3d\n",
"//results\n",
"printf('Area = %.5f ft^2',A2d)\n",
"printf('\n Area in case 2= %.5f ft^2',A3d)"
   ]
   }
,
{
		   "cell_type": "markdown",
		   "metadata": {},
		   "source": [
			"## Example 9.6: Example_6.sce"
		   ]
		  },
  {
"cell_type": "code",
	   "execution_count": null,
	   "metadata": {
	    "collapsed": true
	   },
	   "outputs": [],
"source": [
"clc\n",
"//Initialization of variables\n",
"mum=0.0000121 //lbm/ft sec\n",
"D=1.820 //in\n",
"m=1.173 //lbm/sec\n",
"//calculations\n",
"Re=1.27*m*12/(D*mum)\n",
"//results\n",
"printf('Reynolds number = %d ',Re)\n",
"//The answer is a bit different due to rounding off error in textbook"
   ]
   }
,
{
		   "cell_type": "markdown",
		   "metadata": {},
		   "source": [
			"## Example 9.8: Example_8.sce"
		   ]
		  },
  {
"cell_type": "code",
	   "execution_count": null,
	   "metadata": {
	    "collapsed": true
	   },
	   "outputs": [],
"source": [
"clc\n",
"//Initialization of variables\n",
"pt=54.6 //psia\n",
"dh=64.1 //Btu/lbm\n",
"dh2=154.3 //Btu/lbm\n",
"vt=9.844 //ft^3/lbm\n",
"vt2=21.279 //ft^3/lbm\n",
"C=0.98\n",
"J=778\n",
"g=32.17\n",
"m=1 //lbm/sec\n",
"//calculations\n",
"At=m/C *sqrt(vt^2 /(2*g*J*dh))\n",
"A2=m/C *sqrt(vt2^2 /(2*g*J*dh2))\n",
"//results\n",
"printf('Throat area = %.4f ft^2',At)\n",
"printf('\n Area at part 2 = %.5f ft^2',A2)"
   ]
   }
,
{
		   "cell_type": "markdown",
		   "metadata": {},
		   "source": [
			"## Example 9.9: Example_9.sce"
		   ]
		  },
  {
"cell_type": "code",
	   "execution_count": null,
	   "metadata": {
	    "collapsed": true
	   },
	   "outputs": [],
"source": [
"clc\n",
"//Initialization of variables\n",
"k=1.4\n",
"D2=1.820\n",
"D1=6.065\n",
"p2=20.18 //psia\n",
"p1=30 //psia\n",
"g=32.2\n",
"G=13.59 \n",
"zm=20\n",
"R=1545/29\n",
"C=0.68\n",
"T=520 //R\n",
"//calculations\n",
"dp=0.03609*G*zm\n",
"rp=p2/p1\n",
"bet=D2/D1\n",
"v1=R*T/(p1*144)\n",
"A2=%pi*D2^2 /(4*144)\n",
"m=C*A2/sqrt(1 - bet^4 *rp^(1.43)) *sqrt(2*g*k*p1*144/(k-1)/v1 *(rp^(2/k) - rp^((k+1)/k)))\n",
"//results\n",
"printf('Mass flow rate = %.3f lbm/sec',m)\n",
"//The answer is a bit different due to rounding off error in textbook"
   ]
   }
],
"metadata": {
		  "kernelspec": {
		   "display_name": "Scilab",
		   "language": "scilab",
		   "name": "scilab"
		  },
		  "language_info": {
		   "file_extension": ".sce",
		   "help_links": [
			{
			 "text": "MetaKernel Magics",
			 "url": "https://github.com/calysto/metakernel/blob/master/metakernel/magics/README.md"
			}
		   ],
		   "mimetype": "text/x-octave",
		   "name": "scilab",
		   "version": "0.7.1"
		  }
		 },
		 "nbformat": 4,
		 "nbformat_minor": 0
}
