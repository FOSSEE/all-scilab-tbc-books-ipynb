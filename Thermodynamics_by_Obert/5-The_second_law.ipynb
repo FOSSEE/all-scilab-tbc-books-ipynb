{
"cells": [
 {
		   "cell_type": "markdown",
	   "metadata": {},
	   "source": [
       "# Chapter 5: The second law"
	   ]
	},
{
		   "cell_type": "markdown",
		   "metadata": {},
		   "source": [
			"## Example 5.1: Example_1.sce"
		   ]
		  },
  {
"cell_type": "code",
	   "execution_count": null,
	   "metadata": {
	    "collapsed": true
	   },
	   "outputs": [],
"source": [
"clc\n",
"//Initialization of variables\n",
"Tr=500 //R\n",
"Ta=1000 //R\n",
"dt=100 //R\n",
"//calculations\n",
"n1=1- Tr/Ta\n",
"n2= 1-Tr/(Ta+dt)\n",
"n3 = 1- (Tr-dt)/Ta\n",
"//results\n",
"printf(' Efficiency in case 1 = %.1f percent',n1*100)\n",
"printf('\n Efficiency in case 3 = %.1f percent',n2*100)\n",
"printf('\n Efficiency in case 3 = %.1f percent',n3*100)"
   ]
   }
,
{
		   "cell_type": "markdown",
		   "metadata": {},
		   "source": [
			"## Example 5.2: Example_2.sce"
		   ]
		  },
  {
"cell_type": "code",
	   "execution_count": null,
	   "metadata": {
	    "collapsed": true
	   },
	   "outputs": [],
"source": [
"clc\n",
"//Initialization of variables\n",
"Tr=500 //R\n",
"Ta=2500 //R\n",
"Q=1000 //Btu\n",
"Ta2=1000 //R\n",
"//calculations\n",
"n1=1-Tr/Ta\n",
"w1=n1*Q\n",
"n2=1-Tr/Ta2\n",
"w2=n2*Q\n",
"dw=w1-w2\n",
"//results\n",
"printf('Work done in case 1 = %d Btu',w1)\n",
"printf('\nWork done in case 2 = %d Btu',w2)\n",
"printf('\n Excess work done in case 1 = %d Btu',dw)"
   ]
   }
,
{
		   "cell_type": "markdown",
		   "metadata": {},
		   "source": [
			"## Example 5.3: Example_3.sce"
		   ]
		  },
  {
"cell_type": "code",
	   "execution_count": null,
	   "metadata": {
	    "collapsed": true
	   },
	   "outputs": [],
"source": [
"clc\n",
"clear\n",
"//Initialization of variables\n",
"Tr=1000 //R\n",
"Ta=3000 //R\n",
"Q=300 //Btu/min\n",
"p=5 //hp\n",
"J=778\n",
"//calculations\n",
"n1=1-Tr/Ta\n",
"nt=p*33000/(J*Q)\n",
"//results\n",
"printf('Theoretical efficiency = %.3f',nt)\n",
"printf('\n Claimed efficiency = %.3f',n1)\n",
"if n1>nt then\n",
"    printf('\n Inventor claims are true')\n",
"else \n",
"    printf('\n Inventor claims are false')\n",
"end"
   ]
   }
,
{
		   "cell_type": "markdown",
		   "metadata": {},
		   "source": [
			"## Example 5.4: Example_4.sce"
		   ]
		  },
  {
"cell_type": "code",
	   "execution_count": null,
	   "metadata": {
	    "collapsed": true
	   },
	   "outputs": [],
"source": [
"clc\n",
"//Initialization of variables\n",
"W=14.5 //B/lbm\n",
"Q=141.7 //B/lbm\n",
"Tr=520 //R\n",
"Ta=1040 //R\n",
"//calculations\n",
"n1=W/Q\n",
"n2=1-Tr/Ta\n",
"Wc=n2*Q\n",
"//results\n",
"printf('Thermal efficiency = %.2f percent',n1*100)\n",
"printf('\n Work done in carnot cycle = %.1f Btu/lbm',Wc)"
   ]
   }
,
{
		   "cell_type": "markdown",
		   "metadata": {},
		   "source": [
			"## Example 5.5: Example_5.sce"
		   ]
		  },
  {
"cell_type": "code",
	   "execution_count": null,
	   "metadata": {
	    "collapsed": true
	   },
	   "outputs": [],
"source": [
"clc\n",
"//Initialization of variables\n",
"cp=0.25\n",
"T1=3460 //R\n",
"T2=520 //R\n",
"//calculations\n",
"Q=cp*(T2-T1)\n",
"ds=cp*log(T2/T1)\n",
"G= Q - T2*ds\n",
"eta= G/Q\n",
"//results\n",
"printf('Thermal efficiency = %.1f percent',eta*100)"
   ]
   }
,
{
		   "cell_type": "markdown",
		   "metadata": {},
		   "source": [
			"## Example 5.7: Example_6.sce"
		   ]
		  },
  {
"cell_type": "code",
	   "execution_count": null,
	   "metadata": {
	    "collapsed": true
	   },
	   "outputs": [],
"source": [
"clc\n",
"//Initialization of variables\n",
"T1=60+460 //R\n",
"T2=100+460 //R\n",
"m=1 //lbm\n",
"cp=1 //Btu/lbm F\n",
"//calculations\n",
"ds= m*cp*log(T2/T1)\n",
"//results\n",
"printf('Change in entropy = %.3f Btu/lbm R',ds)"
   ]
   }
,
{
		   "cell_type": "markdown",
		   "metadata": {},
		   "source": [
			"## Example 5.8: Example_7.sce"
		   ]
		  },
  {
"cell_type": "code",
	   "execution_count": null,
	   "metadata": {
	    "collapsed": true
	   },
	   "outputs": [],
"source": [
"clc\n",
"//Initialization of variables\n",
"t1=32 //F\n",
"t2=80 //F\n",
"m1=1 //lbm\n",
"m2=5 //lbm\n",
"hlf=144 //Bru/lbm\n",
"cp=1 //B/lbm F\n",
"//calculations\n",
"te=(-hlf+t1*m1+t2*cp*m2) /(m2+m1)\n",
"dsi= hlf/(t1+460) + cp*log((460+te)/(460+t1))\n",
"dsw= m2*cp*log((460+te)/(460+t2))\n",
"dss=dsi+dsw\n",
"LE=-(t1+460)*dss\n",
"G1=m2*cp*(te-t2) - m2*(460+t1)*log((460+te)/(460+t2))\n",
"G2=m1*cp*(te-t1) - m1*(460+t1)*log((460+te)/(460+t1))\n",
"G=G1+G2\n",
"//results\n",
"printf('Entropy change of the system = %.4f Btu/R',dss)\n",
"printf('\n Loss of available energy = %.1f Btu',LE)\n",
"printf('\n Net change in available energy = %.1f Btu',G)\n",
"//The asnwer is a bit different due to rounding off error in textbook"
   ]
   }
],
"metadata": {
		  "kernelspec": {
		   "display_name": "Scilab",
		   "language": "scilab",
		   "name": "scilab"
		  },
		  "language_info": {
		   "file_extension": ".sce",
		   "help_links": [
			{
			 "text": "MetaKernel Magics",
			 "url": "https://github.com/calysto/metakernel/blob/master/metakernel/magics/README.md"
			}
		   ],
		   "mimetype": "text/x-octave",
		   "name": "scilab",
		   "version": "0.7.1"
		  }
		 },
		 "nbformat": 4,
		 "nbformat_minor": 0
}
