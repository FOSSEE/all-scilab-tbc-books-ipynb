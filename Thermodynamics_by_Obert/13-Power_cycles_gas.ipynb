{
"cells": [
 {
		   "cell_type": "markdown",
	   "metadata": {},
	   "source": [
       "# Chapter 13: Power cycles gas"
	   ]
	},
{
		   "cell_type": "markdown",
		   "metadata": {},
		   "source": [
			"## Example 13.1: Example_1.sce"
		   ]
		  },
  {
"cell_type": "code",
	   "execution_count": null,
	   "metadata": {
	    "collapsed": true
	   },
	   "outputs": [],
"source": [
"clc\n",
"//Initialization of variables\n",
"ta=780 //F\n",
"tr=80//F\n",
"Qa=195 //Btu\n",
"pd=14.7 //psia\n",
"R=1.986/29\n",
"k=1.4\n",
"J=778\n",
"g=32.174\n",
"//calculations\n",
"etat=(ta-tr)/(ta+459.7)\n",
"W=etat*Qa\n",
"vd=R*(tr+460)/pd\n",
"va=vd*exp(-(Qa-W)/R/(tr+460))\n",
"vb=va*((tr+460)/(ta+460))^(1/(k-1))\n",
"vc=vd/va*vb\n",
"rv=vd/vb\n",
"rv2=vc/vb\n",
"rv3=va/vb\n",
"imep= W*J/(144*(vd-vb))/5.77 \n",
"//5.77 is conversion factor\n",
"//results\n",
"printf('cycle expansion ratio = %.1f ',rv)\n",
"printf('\n isothermal expansion ratio = %.1f',rv2)\n",
"printf('\n isentropic expansion ratio = %.1f',rv3)\n",
"printf('\n imep = %.1f lbf/in^2',imep)"
   ]
   }
,
{
		   "cell_type": "markdown",
		   "metadata": {},
		   "source": [
			"## Example 13.2: Example_2.sce"
		   ]
		  },
  {
"cell_type": "code",
	   "execution_count": null,
	   "metadata": {
	    "collapsed": true
	   },
	   "outputs": [],
"source": [
"clc\n",
"//Initialization of variables\n",
"rv=8\n",
"k=1.4\n",
"Qa=1280\n",
"pa=14.7 //psia\n",
"R=10.73/29\n",
"Ta=540 //R\n",
"J=778\n",
"cv=0.17 //Btu/lbm R\n",
"//calculations\n",
"etat=1-1/rv^(k-1)\n",
"W=etat*Qa\n",
"va=R*Ta/pa\n",
"vb=va/rv\n",
"Tb=Ta*rv^(k-1)\n",
"dt=Qa/cv\n",
"Tc=Tb+dt\n",
"pb=pa*(rv)^(k-1)\n",
"pc= Tc*pb/Tb\n",
"Td=Tc*(1/rv)^(k-1)\n",
"pd=pa*Td/Ta\n",
"imep = W*J/144/(va-vb)\n",
"//results\n",
"printf('Thermal efficiency = %.1f percent',etat*100)\n",
"printf('\n Work done = %d btu/lbm air',W)\n",
"printf('\n Imep = %d lbf/in^2',imep)\n",
"printf('\n Pressure and temperature at A = %.1f psia and %d R',pa,Ta)\n",
"printf('\n Pressure and temperature at B = %d psia and %d R',pb,Tb)\n",
"printf('\n Pressure and temperature at C = %d psia and %d R',pc,Tc)\n",
"printf('\n Pressure and temperature at D = %d psia and %d R',pd,Td)\n",
"printf('\n The pressures given in textbook are wrong. Please check using a calculator')"
   ]
   }
,
{
		   "cell_type": "markdown",
		   "metadata": {},
		   "source": [
			"## Example 13.3: Example_3.sce"
		   ]
		  },
  {
"cell_type": "code",
	   "execution_count": null,
	   "metadata": {
	    "collapsed": true
	   },
	   "outputs": [],
"source": [
"clc\n",
"clear\n",
"//Initialization of variables\n",
"ha=1033\n",
"hbd=1403+1589\n",
"hc=7823\n",
"hdd=5142\n",
"lhv=2733000\n",
"M=29\n",
"//calculations\n",
"wt=hc-hdd\n",
"wc=ha-hbd\n",
"wnet=wt+wc\n",
"heat=hc-hbd\n",
"etat=wnet*100/heat\n",
"mr=heat/lhv *142/M\n",
"AF=1/mr\n",
"//results\n",
"printf('Thermal efficiency = %.1f percent',etat)\n",
"printf('\n Air fuel ratio = %.1f lbm air/lbm fuel',AF)"
   ]
   }
],
"metadata": {
		  "kernelspec": {
		   "display_name": "Scilab",
		   "language": "scilab",
		   "name": "scilab"
		  },
		  "language_info": {
		   "file_extension": ".sce",
		   "help_links": [
			{
			 "text": "MetaKernel Magics",
			 "url": "https://github.com/calysto/metakernel/blob/master/metakernel/magics/README.md"
			}
		   ],
		   "mimetype": "text/x-octave",
		   "name": "scilab",
		   "version": "0.7.1"
		  }
		 },
		 "nbformat": 4,
		 "nbformat_minor": 0
}
