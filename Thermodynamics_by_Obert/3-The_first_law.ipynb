{
"cells": [
 {
		   "cell_type": "markdown",
	   "metadata": {},
	   "source": [
       "# Chapter 3: The first law"
	   ]
	},
{
		   "cell_type": "markdown",
		   "metadata": {},
		   "source": [
			"## Example 3.1: Example_1.sce"
		   ]
		  },
  {
"cell_type": "code",
	   "execution_count": null,
	   "metadata": {
	    "collapsed": true
	   },
	   "outputs": [],
"source": [
"clc\n",
"//Initialization of variables\n",
"f=5 //lbm/s\n",
"h2=1020 //B/lbm\n",
"h1=1000 //B/lbm\n",
"v2=50 //ft/s\n",
"v1=100 //ft/s\n",
"J=778\n",
"g=32.2\n",
"z2=0\n",
"z1=100\n",
"gc=32.2\n",
"Q=50 //Btu/s\n",
"//calculations\n",
"W=Q/f - (h2-h1) - (v2^2 -v1^2)/(2*J*gc) - g/gc *(z2-z1)/J\n",
"power = W*f\n",
"//results\n",
"printf('Work done = %.1f Btu/lbm',W)\n",
"printf('\n Power = %.1f Btu/s',power)"
   ]
   }
,
{
		   "cell_type": "markdown",
		   "metadata": {},
		   "source": [
			"## Example 3.2: Example_2.sce"
		   ]
		  },
  {
"cell_type": "code",
	   "execution_count": null,
	   "metadata": {
	    "collapsed": true
	   },
	   "outputs": [],
"source": [
"clc\n",
"//Initialization of variables\n",
"m=5 //lbm\n",
"v=15 //ft^3/lbm\n",
"V=100 //ft/s\n",
"//calculations\n",
"A=m*v/V\n",
"D=(4*A/%pi)^(0.5)\n",
"//results\n",
"printf('Diameter = %.1f in',D*12)"
   ]
   }
],
"metadata": {
		  "kernelspec": {
		   "display_name": "Scilab",
		   "language": "scilab",
		   "name": "scilab"
		  },
		  "language_info": {
		   "file_extension": ".sce",
		   "help_links": [
			{
			 "text": "MetaKernel Magics",
			 "url": "https://github.com/calysto/metakernel/blob/master/metakernel/magics/README.md"
			}
		   ],
		   "mimetype": "text/x-octave",
		   "name": "scilab",
		   "version": "0.7.1"
		  }
		 },
		 "nbformat": 4,
		 "nbformat_minor": 0
}
