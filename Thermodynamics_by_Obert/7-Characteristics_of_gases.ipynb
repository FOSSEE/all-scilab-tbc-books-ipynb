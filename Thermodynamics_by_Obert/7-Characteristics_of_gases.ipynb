{
"cells": [
 {
		   "cell_type": "markdown",
	   "metadata": {},
	   "source": [
       "# Chapter 7: Characteristics of gases"
	   ]
	},
{
		   "cell_type": "markdown",
		   "metadata": {},
		   "source": [
			"## Example 7.2: Example_1.sce"
		   ]
		  },
  {
"cell_type": "code",
	   "execution_count": null,
	   "metadata": {
	    "collapsed": true
	   },
	   "outputs": [],
"source": [
"clc\n",
"//Initialization of variables\n",
"x=1545 //ft lbf/ R mol\n",
"z=2120\n",
"//calculations\n",
"y=x/z\n",
"//results\n",
"printf('y = %.3f atm ft^2 /R mol',y)"
   ]
   }
,
{
		   "cell_type": "markdown",
		   "metadata": {},
		   "source": [
			"## Example 7.3: Example_3.sce"
		   ]
		  },
  {
"cell_type": "code",
	   "execution_count": null,
	   "metadata": {
	    "collapsed": true
	   },
	   "outputs": [],
"source": [
"clc\n",
"//Initialization of variables\n",
"P=14.7 //psi\n",
"t=60+460 //R\n",
"R0=10.73 //psia ft^3/mol R\n",
"//calculations\n",
"v=R0*t/P\n",
"m=28.96\n",
"//results\n",
"printf('volume = %d ft^3/mol',v)\n",
"printf('\n Mass = %.2f lbm',m)"
   ]
   }
,
{
		   "cell_type": "markdown",
		   "metadata": {},
		   "source": [
			"## Example 7.4: Example_4.sce"
		   ]
		  },
  {
"cell_type": "code",
	   "execution_count": null,
	   "metadata": {
	    "collapsed": true
	   },
	   "outputs": [],
"source": [
"clc\n",
"//Initialization of variables\n",
"p=20 //psi\n",
"t=100+460 //R\n",
"R0=10.73\n",
"M=28\n",
"//calculations\n",
"rho=p/(R0/M *t)\n",
"//results\n",
"printf('density of nitrogen = %.4f lbm/ft^3',rho)"
   ]
   }
,
{
		   "cell_type": "markdown",
		   "metadata": {},
		   "source": [
			"## Example 7.5: Example_5.sce"
		   ]
		  },
  {
"cell_type": "code",
	   "execution_count": null,
	   "metadata": {
	    "collapsed": true
	   },
	   "outputs": [],
"source": [
"clc\n",
"//Initialization of variables\n",
"T1=1000 //R\n",
"T2=2000 //R\n",
"//calculations\n",
"function y =cp(t)\n",
"    y=9.47 -3.47*10^3 /t + 1.16*10^6 /t^2\n",
"endfunction\n",
"cp2= 1/(T2-T1) *(intg(T1,T2,cp))\n",
"//results\n",
"printf('Specific heat = %.2f Btu/mol R',cp2)"
   ]
   }
,
{
		   "cell_type": "markdown",
		   "metadata": {},
		   "source": [
			"## Example 7.6: Example_6.sce"
		   ]
		  },
  {
"cell_type": "code",
	   "execution_count": null,
	   "metadata": {
	    "collapsed": true
	   },
	   "outputs": [],
"source": [
"clc\n",
"//Initialization of variables\n",
"R=0.73\n",
"v=0.193*44 //ft^3/mol\n",
"T=672 //R\n",
"a=924.2 //atm ft^6 /mol^2\n",
"b=0.685 //ft^3/mol\n",
"//calculations\n",
"p1= R*T/(v-b) - a/v^2\n",
"p2=R*T/v\n",
"//results\n",
"printf('Ideal gas law, pressure = %.1f atm',p2)\n",
"printf('\n Vanderwaals law, pressure = %.1f atm',p1)"
   ]
   }
,
{
		   "cell_type": "markdown",
		   "metadata": {},
		   "source": [
			"## Example 7.7: Example_7.sce"
		   ]
		  },
  {
"cell_type": "code",
	   "execution_count": null,
	   "metadata": {
	    "collapsed": true
	   },
	   "outputs": [],
"source": [
"clc\n",
"//Initialization of variables\n",
"Z=1.39\n",
"R=0.73 \n",
"T=492 //R\n",
"p=500 //atm\n",
"M=28 //lbm\n",
"//calculations\n",
"v=Z*R*T/(p*M)\n",
"//results\n",
"printf('volume = %.4f ft^3/lbm',v)"
   ]
   }
,
{
		   "cell_type": "markdown",
		   "metadata": {},
		   "source": [
			"## Example 7.8: Example_8.sce"
		   ]
		  },
  {
"cell_type": "code",
	   "execution_count": null,
	   "metadata": {
	    "collapsed": true
	   },
	   "outputs": [],
"source": [
"clc\n",
"//Initialization of variables\n",
"p=50 //atm\n",
"pc= 73 //atm\n",
"t= 459.7+212 //R\n",
"tc=459.7+87.9 //R\n",
"R=0.73\n",
"M=44\n",
"v=0.193 //ft^3/lbm\n",
"//calculations\n",
"pr=p/pc\n",
"tr=t/tc\n",
"z=0.88 //from compressibility charts\n",
"p2= z*R*t/v/M\n",
"//results\n",
"printf('pressure = %.1f atm',p2)"
   ]
   }
,
{
		   "cell_type": "markdown",
		   "metadata": {},
		   "source": [
			"## Example 7.9: Example_9.sce"
		   ]
		  },
  {
"cell_type": "code",
	   "execution_count": null,
	   "metadata": {
	    "collapsed": true
	   },
	   "outputs": [],
"source": [
"clc\n",
"//Initialization of variables\n",
"pc=45.8 //atm\n",
"tc=343.9 //R\n",
"t=515 //R\n",
"v=2.2\n",
"R=0.73\n",
"//calculations\n",
"tr=t/tc\n",
"vr= pc*v/(R*tc)\n",
"//from compressibilty charts\n",
"z=0.803\n",
"pr=3\n",
"p=pr*pc\n",
"p2= R*t/v\n",
"err= (p2-p)/p\n",
"//results\n",
"printf('pressure = %d atm',p)\n",
"printf('\n percentage error = %d percent ',err*100)\n",
"//the answer varies a bit due to rounding off error"
   ]
   }
],
"metadata": {
		  "kernelspec": {
		   "display_name": "Scilab",
		   "language": "scilab",
		   "name": "scilab"
		  },
		  "language_info": {
		   "file_extension": ".sce",
		   "help_links": [
			{
			 "text": "MetaKernel Magics",
			 "url": "https://github.com/calysto/metakernel/blob/master/metakernel/magics/README.md"
			}
		   ],
		   "mimetype": "text/x-octave",
		   "name": "scilab",
		   "version": "0.7.1"
		  }
		 },
		 "nbformat": 4,
		 "nbformat_minor": 0
}
