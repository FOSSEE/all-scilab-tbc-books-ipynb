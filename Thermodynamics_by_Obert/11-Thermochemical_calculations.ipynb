{
"cells": [
 {
		   "cell_type": "markdown",
	   "metadata": {},
	   "source": [
       "# Chapter 11: Thermochemical calculations"
	   ]
	},
{
		   "cell_type": "markdown",
		   "metadata": {},
		   "source": [
			"## Example 11.10: Example_10.sce"
		   ]
		  },
  {
"cell_type": "code",
	   "execution_count": null,
	   "metadata": {
	    "collapsed": true
	   },
	   "outputs": [],
"source": [
"clc\n",
"//Initialization of variables\n",
"N2=79.7\n",
"M=29\n",
"ba=2.12\n",
"x4=0.3\n",
"x5=3.7\n",
"x6=14.7\n",
"//calculations\n",
"O2=N2/3.76\n",
"c=14.7\n",
"b= x4*4 + x5*2 + x6*2\n",
"a=b/ba\n",
"AF=(O2+N2)*M/(a*12 + b)\n",
"//results\n",
"printf('Air fuel ratio = %.1f lbm air/lbm fuel',AF)"
   ]
   }
,
{
		   "cell_type": "markdown",
		   "metadata": {},
		   "source": [
			"## Example 11.11: Example_11.sce"
		   ]
		  },
  {
"cell_type": "code",
	   "execution_count": null,
	   "metadata": {
	    "collapsed": true
	   },
	   "outputs": [],
"source": [
"clc\n",
"//Initialization of variables\n",
"x1=8.7\n",
"x2=8.9\n",
"x3=0.3\n",
"x4=0.3\n",
"x5=3.7\n",
"x6=14.7\n",
"//calculations\n",
"a=x1+x2+x3\n",
"b= x4*4 + x5*2 + x6*2\n",
"//results\n",
"printf('Molecule is C %.1f H %d + 20.8 O2 + 78.1 N2',a,b)"
   ]
   }
,
{
		   "cell_type": "markdown",
		   "metadata": {},
		   "source": [
			"## Example 11.12: Example_12.sce"
		   ]
		  },
  {
"cell_type": "code",
	   "execution_count": null,
	   "metadata": {
	    "collapsed": true
	   },
	   "outputs": [],
"source": [
"clc\n",
"//Initialization of variables\n",
"co=1.2\n",
"//calculations\n",
"H2=co/2\n",
"ch4=0.3\n",
"N2=88-H2-ch4\n",
"//results\n",
"printf('Nitrogen = %.1f percent',N2)"
   ]
   }
,
{
		   "cell_type": "markdown",
		   "metadata": {},
		   "source": [
			"## Example 11.13: Example_13.sce"
		   ]
		  },
  {
"cell_type": "code",
	   "execution_count": null,
	   "metadata": {
	    "collapsed": true
	   },
	   "outputs": [],
"source": [
"clc\n",
"//Initialization of variables\n",
"dn=-0.5\n",
"R0=1.986\n",
"T=537 //R\n",
"Qp=-121664\n",
"//calculations\n",
"Qv= Qp- dn*R0*T\n",
"//results\n",
"printf('Heat of reaction at constant volume = %d Btu/mol',Qv)"
   ]
   }
,
{
		   "cell_type": "markdown",
		   "metadata": {},
		   "source": [
			"## Example 11.14: Example_14.sce"
		   ]
		  },
  {
"cell_type": "code",
	   "execution_count": null,
	   "metadata": {
	    "collapsed": true
	   },
	   "outputs": [],
"source": [
"clc\n",
"//Initialization of variables\n",
"m=2362 //g\n",
"cp=1 //Btu/lbm F\n",
"T=0.83 //F\n",
"mass=0.1 //g\n",
"//calculations\n",
"Qm=m*cp*T/mass\n",
"Qv=-Qm\n",
"//results\n",
"printf('Heat transferred = %d Btu/lbm fuel',Qv)"
   ]
   }
,
{
		   "cell_type": "markdown",
		   "metadata": {},
		   "source": [
			"## Example 11.15: Example_15.sce"
		   ]
		  },
  {
"cell_type": "code",
	   "execution_count": null,
	   "metadata": {
	    "collapsed": true
	   },
	   "outputs": [],
"source": [
"clc\n",
"//Initialization of variables\n",
"y=13\n",
"x=12\n",
"M2=18\n",
"M=170\n",
"p=0.4593\n",
"vfg=694.9\n",
"J=778.2\n",
"m=1.375\n",
"U=-19650 //Btu/lbm fuel\n",
"//calculations\n",
"z=y*M2/M\n",
"hfg=1050.4 //Btu/lbm\n",
"ufg= hfg- p*vfg*144/J\n",
"dU=ufg*m //Btu/lbm\n",
"Ud=dU+U\n",
"//results\n",
"printf('Lower heating value = %d Btu/lbm',Ud)"
   ]
   }
,
{
		   "cell_type": "markdown",
		   "metadata": {},
		   "source": [
			"## Example 11.16: Example_16.sce"
		   ]
		  },
  {
"cell_type": "code",
	   "execution_count": null,
	   "metadata": {
	    "collapsed": true
	   },
	   "outputs": [],
"source": [
"clc\n",
"//Initialization of variables\n",
"H=-2199548 //Btu/mole\n",
"H1=18900 //Btu/mole\n",
"H2=-17784 //Btu/mole\n",
"//calculations\n",
"Hf=H-9*H1\n",
"Hl=Hf-H2\n",
"//results\n",
"printf('Higher heating value of gas = %d Btu/mole',Hf)\n",
"printf('\n Higher heating value of liquid = %d Btu/mole',Hl)"
   ]
   }
,
{
		   "cell_type": "markdown",
		   "metadata": {},
		   "source": [
			"## Example 11.17: Example_17.sce"
		   ]
		  },
  {
"cell_type": "code",
	   "execution_count": null,
	   "metadata": {
	    "collapsed": true
	   },
	   "outputs": [],
"source": [
"clc\n",
"//Initialization of variables\n",
"n1=8\n",
"n2=9\n",
"n3=1\n",
"n4=12.5\n",
"U11=3852\n",
"U12=118\n",
"U21=3009\n",
"U22=104\n",
"U31=24773\n",
"U32=640\n",
"U41=2539\n",
"U42=85\n",
"H=-2203279\n",
"//calculations\n",
"dU1=n1*(U11-U12)+n2*(U21-U22)\n",
"dU2=n3*(U31-U32)+n4*(U41-U42)\n",
"Q=H+dU1-dU2\n",
"//results\n",
"printf('Heat of reaction = %d Btu/mole',Q)"
   ]
   }
,
{
		   "cell_type": "markdown",
		   "metadata": {},
		   "source": [
			"## Example 11.18: Example_18.sce"
		   ]
		  },
  {
"cell_type": "code",
	   "execution_count": null,
	   "metadata": {
	    "collapsed": true
	   },
	   "outputs": [],
"source": [
"clc\n",
"//Initialization of variables\n",
"n1=8\n",
"n2=9\n",
"n3=47\n",
"h1=118\n",
"h2=104\n",
"h3=82.5\n",
"Q=2203279 //Btu\n",
"//calculations\n",
"U11=n1*h1+n2*h2+n3*h3\n",
"U12=U11+Q\n",
"T2=5271 //R\n",
"//results\n",
"printf('Upon interpolating, T2 = %d R',T2)"
   ]
   }
,
{
		   "cell_type": "markdown",
		   "metadata": {},
		   "source": [
			"## Example 11.19: Example_19.sce"
		   ]
		  },
  {
"cell_type": "code",
	   "execution_count": null,
	   "metadata": {
	    "collapsed": true
	   },
	   "outputs": [],
"source": [
"clc\n",
"//Initialization of variables\n",
"n1=0.95\n",
"n2=0.05\n",
"n3=0.025\n",
"P=147 //psia\n",
"pa=14.7 //psia\n",
"//calculations\n",
"n=n1+n2+n3\n",
"p1=n1/n *P/pa\n",
"p2=n2/n *P/pa\n",
"p3=n3/n *P/pa\n",
"Kp1= p1/(p2*p3^0.5)\n",
"Kp2= p1^2 /(p2^2 *p3)\n",
"//results\n",
"printf('In case 1, Equilibrium constant = %.1f ',Kp1)\n",
"printf('\n In case 2, Equilibrium constant = %.1f ',Kp2)"
   ]
   }
,
{
		   "cell_type": "markdown",
		   "metadata": {},
		   "source": [
			"## Example 11.1: Example_1.sce"
		   ]
		  },
  {
"cell_type": "code",
	   "execution_count": null,
	   "metadata": {
	    "collapsed": true
	   },
	   "outputs": [],
"source": [
"clc\n",
"//Initialization of variables\n",
"per=87\n",
"//calculations\n",
"a=per/12\n",
"b=12\n",
"ad=4*a\n",
"bd=4*b\n",
"//results\n",
"printf('Molecule is C %d H %d',ad,bd)"
   ]
   }
,
{
		   "cell_type": "markdown",
		   "metadata": {},
		   "source": [
			"## Example 11.20: Example_20.sce"
		   ]
		  },
  {
"cell_type": "code",
	   "execution_count": null,
	   "metadata": {
	    "collapsed": true
	   },
	   "outputs": [],
"source": [
"clc\n",
"//Initialization of variables\n",
"kp=5 \n",
"//calculations\n",
"x=poly(0,'x')\n",
"vec=roots(24*x^3 + 3*x-2)\n",
"x=vec(3)\n",
"y=poly(0,'y')\n",
"vec2=roots(249*y^3 +3*y-2)\n",
"y=vec2(3)\n",
"//results\n",
"printf('degree of dissociation = %.2f',x)\n",
"printf('\n If pressure =10 . degree of dissociation = %.2f',y)"
   ]
   }
,
{
		   "cell_type": "markdown",
		   "metadata": {},
		   "source": [
			"## Example 11.21: Example_21.sce"
		   ]
		  },
  {
"cell_type": "code",
	   "execution_count": null,
	   "metadata": {
	    "collapsed": true
	   },
	   "outputs": [],
"source": [
"clc\n",
"//Initialization of variables\n",
"x=poly(0,'x')\n",
"vec=roots(24*x^3 +48*x^2 + 7*x -4)\n",
"x=vec(3)\n",
"//results\n",
"printf('degree of dissociation = %.2f',x)"
   ]
   }
,
{
		   "cell_type": "markdown",
		   "metadata": {},
		   "source": [
			"## Example 11.22: Example_22.sce"
		   ]
		  },
  {
"cell_type": "code",
	   "execution_count": null,
	   "metadata": {
	    "collapsed": true
	   },
	   "outputs": [],
"source": [
"clc\n",
"//Initialization of variables\n",
"T=77+460 //R\n",
"x1=0.21\n",
"x2=1-x1\n",
"G=-169557 //Btu/mole\n",
"n1=1\n",
"n2=3.76\n",
"R0=1.986\n",
"v=0.0885\n",
"pi=14.7\n",
"J=778\n",
"//calculations\n",
"dg1=-n1*R0*T*log(x1)\n",
"dg2=-n2*R0*T*log(x2)\n",
"dg=dg1+dg2\n",
"dG=dg+G\n",
"W=-dG\n",
"W2=-G\n",
"p=0.0004 //atm\n",
"G1=-n1*R0*T*log(1/p)\n",
"W3= -(dg1+G+G1)\n",
"dgf=v*pi*144/J\n",
"//results\n",
"printf('In case 1,Work done = %d Btu/mole C',W)\n",
"printf('\n In case 2,Work done = %d Btu/mole C',W2)\n",
"printf('\n In case 3,Work done = %d Btu/mole C',W3)\n",
"printf('\n In case 4,Work done = %.2f Btu/mole C',dgf)"
   ]
   }
,
{
		   "cell_type": "markdown",
		   "metadata": {},
		   "source": [
			"## Example 11.23: Example_23.sce"
		   ]
		  },
  {
"cell_type": "code",
	   "execution_count": null,
	   "metadata": {
	    "collapsed": true
	   },
	   "outputs": [],
"source": [
"clc\n",
"//Initialization of variables\n",
"H=-169182 //Btu/mole\n",
"s1=1.3609 //Btu/mole R\n",
"s2=49.003 //Btu/mole R\n",
"s3=51.061 //Btu/mole R\n",
"T=537 //R\n",
"//calculations\n",
"dG=H-T*(s3-s2-s1)\n",
"//results\n",
"printf('Change in Gibbs energy = %d Btu/mole carbon',dG)"
   ]
   }
,
{
		   "cell_type": "markdown",
		   "metadata": {},
		   "source": [
			"## Example 11.2: Example_2.sce"
		   ]
		  },
  {
"cell_type": "code",
	   "execution_count": null,
	   "metadata": {
	    "collapsed": true
	   },
	   "outputs": [],
"source": [
"clc\n",
"//Initialization of variables\n",
"per=0.071\n",
"//calculations\n",
"O2=8.74\n",
"N2=per/2 + 3.76*O2\n",
"//results\n",
"printf('Oxygen = %.2f and Nitrogen = %.2f',O2,N2)"
   ]
   }
,
{
		   "cell_type": "markdown",
		   "metadata": {},
		   "source": [
			"## Example 11.3: Example_3.sce"
		   ]
		  },
  {
"cell_type": "code",
	   "execution_count": null,
	   "metadata": {
	    "collapsed": true
	   },
	   "outputs": [],
"source": [
"clc\n",
"//Initialization of variables\n",
"M=29\n",
"m1=8.74\n",
"m2=32.85\n",
"fuel=100 //lbm\n",
"//calculations\n",
"mass=M*(m1+m2)\n",
"AF=mass/fuel\n",
"a2=9.75\n",
"b2=12.19\n",
"AF2=mass/(fuel+a2+b2)\n",
"//results\n",
"printf('Air fuel ratio = %.2f lbm air/lbm fuel',AF)\n",
"printf('\n In dry air, Air-fuel ratio = %.1f lbm air/lbm fuel as fired',AF2)"
   ]
   }
,
{
		   "cell_type": "markdown",
		   "metadata": {},
		   "source": [
			"## Example 11.4: Example_4.sce"
		   ]
		  },
  {
"cell_type": "code",
	   "execution_count": null,
	   "metadata": {
	    "collapsed": true
	   },
	   "outputs": [],
"source": [
"clc\n",
"//Initialization of variables\n",
"m1=322.3\n",
"m2=2\n",
"m3=926\n",
"basis=121.94\n",
"//calculations\n",
"m=m1+m2+m3\n",
"ratio=m/basis\n",
"dh=5776.6 //Btu/mol\n",
"h1=dh*7.364\n",
"h2=14064.3\n",
"h3=130565.5\n",
"H=h1+h2+h3\n",
"hrat=H/basis\n",
"//results\n",
"printf('Mass of dry flue gases = %.2f lbm dry flue gas/lbm fuel ash and moisture free',ratio)\n",
"printf('\n Energy carried away = %.1f btu/mol coal as fired  = %.1f Btu/lbm mol coal ',H, hrat)"
   ]
   }
,
{
		   "cell_type": "markdown",
		   "metadata": {},
		   "source": [
			"## Example 11.5: Example_5.sce"
		   ]
		  },
  {
"cell_type": "code",
	   "execution_count": null,
	   "metadata": {
	    "collapsed": true
	   },
	   "outputs": [],
"source": [
"clc\n",
"//Initialization of variables\n",
"ns=2\n",
"n=100\n",
"nco=10\n",
"nn=88\n",
"//calculations\n",
"xs=ns/n\n",
"conden=(ns-(nn+ns)*xs)/(1-xs)\n",
"co2=nco/(nn+nco) *100\n",
"//results\n",
"printf('Percentage of condensed H20 = %.3f percent',conden)\n",
"printf('\n percent of co2 in original mixture = %.3f percent',co2)"
   ]
   }
,
{
		   "cell_type": "markdown",
		   "metadata": {},
		   "source": [
			"## Example 11.6: Example_6.sce"
		   ]
		  },
  {
"cell_type": "code",
	   "execution_count": null,
	   "metadata": {
	    "collapsed": true
	   },
	   "outputs": [],
"source": [
"clc\n",
"//Initialization of variables\n",
"n1=2 //moles\n",
"n2=10.52 //moles\n",
"P=14.7 //psia\n",
"//calculations\n",
"pp=n1/n2 *P\n",
"disp('from s=psychrometric charts,')\n",
"dew=139 //F\n",
"//results\n",
"printf('dew point = %d F',dew)"
   ]
   }
,
{
		   "cell_type": "markdown",
		   "metadata": {},
		   "source": [
			"## Example 11.7: Example_7.sce"
		   ]
		  },
  {
"cell_type": "code",
	   "execution_count": null,
	   "metadata": {
	    "collapsed": true
	   },
	   "outputs": [],
"source": [
"clc\n",
"//Initialization of variables\n",
"p=14.7 //psia\n",
"ps=0.363 //psia\n",
"n2=7.52 //moles\n",
"n1=1 //moles\n",
"//calculations\n",
"x= (n1+n2)*ps/p /(1-ps/p)\n",
"//results\n",
"printf('Final orsat composition is %d CO2 + %.2f H20 + %.2f N2',n1, x, n2)"
   ]
   }
,
{
		   "cell_type": "markdown",
		   "metadata": {},
		   "source": [
			"## Example 11.8: Example_8.sce"
		   ]
		  },
  {
"cell_type": "code",
	   "execution_count": null,
	   "metadata": {
	    "collapsed": true
	   },
	   "outputs": [],
"source": [
"clc\n",
"//Initialization of variables\n",
"p=14.7 //psia\n",
"ps=0.363 //psia\n",
"n2=7.52 //moles\n",
"n1=1 //moles\n",
"//calculations\n",
"x= (n1+n2)*ps/p /(1-ps/p)\n",
"n=n1+n2+x\n",
"y1=n1/n\n",
"y2=n1/(n1+n2)\n",
"//results\n",
"printf('Percentage of co2 on a wet basis = %.1f percent',y1*100)\n",
"printf('\n percentage of co2 on a dry basis = %.2f percent',y2*100)"
   ]
   }
,
{
		   "cell_type": "markdown",
		   "metadata": {},
		   "source": [
			"## Example 11.9: Example_9.sce"
		   ]
		  },
  {
"cell_type": "code",
	   "execution_count": null,
	   "metadata": {
	    "collapsed": true
	   },
	   "outputs": [],
"source": [
"clc\n",
"//Initialization of variables\n",
"basis=100 //lbm\n",
"x1=0.6\n",
"ash=12 //lbm\n",
"N2=79.7\n",
"M=29\n",
"//calculations\n",
"x=ash/x1\n",
"C=(1-x1)*x\n",
"O2=N2/3.76\n",
"a= (14.6+0.2)/(5.83-0.75)\n",
"AF=(O2+N2)*M/(a*100)\n",
"//results\n",
"printf('Air fuel ratio = %.2f lbm air/lbm fuel as fired',AF)"
   ]
   }
],
"metadata": {
		  "kernelspec": {
		   "display_name": "Scilab",
		   "language": "scilab",
		   "name": "scilab"
		  },
		  "language_info": {
		   "file_extension": ".sce",
		   "help_links": [
			{
			 "text": "MetaKernel Magics",
			 "url": "https://github.com/calysto/metakernel/blob/master/metakernel/magics/README.md"
			}
		   ],
		   "mimetype": "text/x-octave",
		   "name": "scilab",
		   "version": "0.7.1"
		  }
		 },
		 "nbformat": 4,
		 "nbformat_minor": 0
}
