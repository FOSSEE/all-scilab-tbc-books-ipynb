{
"cells": [
 {
		   "cell_type": "markdown",
	   "metadata": {},
	   "source": [
       "# Chapter 11: Chemical Thermodynamics"
	   ]
	},
{
		   "cell_type": "markdown",
		   "metadata": {},
		   "source": [
			"## Example 11.11: 11.sce"
		   ]
		  },
  {
"cell_type": "code",
	   "execution_count": null,
	   "metadata": {
	    "collapsed": true
	   },
	   "outputs": [],
"source": [
"clc\n",
"\n",
"C=80;\n",
"\n",
"//Analysis of gas entering the economiser\n",
"CO2_1=8.3;\n",
"CO_1=0;\n",
"O2_1=11.4;\n",
"N2_1=80.3;\n",
"\n",
"//Analysis of gas leaving the economiser\n",
"CO2_2=7.9;\n",
"CO_2=0;\n",
"O2_2=11.5;\n",
"N2_2=80.6;\n",
"\n",
"A1=N2_1*C/33/(CO2_1 + CO_1); //Air supplied on the basis of conditions at entry to the economiser\n",
"\n",
"A2=N2_2*C/33/(CO2_2 + CO_2); //Air applied on the basis of conditions at exit\n",
"\n",
"leakage=A2-A1; //Air leakage\n",
"disp('Air leakege =')\n",
"disp(leakage)\n",
"disp('kg of air per kg of fuel')\n",
"\n",
"W_fuel=0.85; //kg; Weight of fuel passing up the chimney\n",
"\n",
"c=1.05;\n",
"T2=410;\n",
"T1=0;\n",
"\n",
"W=A1+W_fuel; //Total weight of products\n",
"Q1=W*c*(T2-T1); //Heat in flue gases per kg of coal\n",
"Q2=leakage*1.005*(20-0); //Heat in leakage air\n",
"\n",
"t=(Q1+Q2)/(1.005*leakage + W*1.05);\n",
"\n",
"dT=T2-t;\n",
"disp('Fall in temperature as a result of the air leakage into the economiser')\n",
"disp(dT)\n",
"disp('°C')"
   ]
   }
,
{
		   "cell_type": "markdown",
		   "metadata": {},
		   "source": [
			"## Example 11.1: 1.sce"
		   ]
		  },
  {
"cell_type": "code",
	   "execution_count": null,
	   "metadata": {
	    "collapsed": true
	   },
	   "outputs": [],
"source": [
"clc\n",
"\n",
"%C=0.88; //Fraction of carbon in coal\n",
"%H=0.042; //Fraction of Hydrogen in coal\n",
"w_f=0.848; //gm\n",
"w_fw=0.027; //gm\n",
"w=1950; //gm\n",
"w_e=380; //gm\n",
"dt=3.06; //0C; Observed temperature rise\n",
"tc=0.017; //0C\n",
"dt1=dt+tc; //Corrected temperature rise\n",
"Cal=6700; //J/gm; Calorific value of fuse wire\n",
"\n",
"Q_received=(w+w_e)*4.18*dt1; //Heat received by water\n",
"\n",
"Q_rejected=w_fw*Cal; //Heat given out by fuse wire\n",
"\n",
"Q_produced=Q_received - Q_rejected;\n",
"\n",
"HCV=Q_produced/w_f;\n",
"disp('Higher calorific value=')\n",
"disp(HCV)\n",
"disp('kJ/kg')\n",
"\n",
"LCV=HCV - 2465*9*%H;\n",
"disp('Lower Calorific value=')\n",
"disp(LCV)\n",
"disp('kJ/kg')"
   ]
   }
,
{
		   "cell_type": "markdown",
		   "metadata": {},
		   "source": [
			"## Example 11.12: 12.sce"
		   ]
		  },
  {
"cell_type": "code",
	   "execution_count": null,
	   "metadata": {
	    "collapsed": true
	   },
	   "outputs": [],
"source": [
"clc\n",
"\n",
"w_O2=3*32/46*100/23; //For complete combustion of 1 kg of C2H6O, oxygen required\n",
"\n",
"ratio=w_O2;\n",
"disp('A:F ratio=')\n",
"disp(ratio)\n",
"\n",
"w1=88; //kg\n",
"w2=54; //kg\n",
"\n",
"w=w1+w2; //kg\n",
"W=46; //kg\n",
"\n",
"w_CO2=w1/W*100;\n",
"disp('CO2 produced by fuel')\n",
"disp(w_CO2)\n",
"disp('%')\n",
"\n",
"w_H2O=w2/W*100;\n",
"disp('H2O produced by fuel')\n",
"disp(w_H2O)\n",
"disp('%')"
   ]
   }
,
{
		   "cell_type": "markdown",
		   "metadata": {},
		   "source": [
			"## Example 11.13: 13.sce"
		   ]
		  },
  {
"cell_type": "code",
	   "execution_count": null,
	   "metadata": {
	    "collapsed": true
	   },
	   "outputs": [],
"source": [
"clc\n",
"// C2H2+xO2---->aCO2+bH2O\n",
"// 2C=aC; a=2\n",
"// 2H=2bH; b=1\n",
"// x=2.5\n",
"// C2H2+2.5O2+2.5*(79/21)N2 --> 2CO2+H2O+2.5*(79/21)N2\n",
"// 26 kg C2H2 + 80 kg O2 + 263.3 N2 → 88 kg CO2 + 18 kg H2O + 263.3 kg N2\n",
"// 1 kg C2H2 + 3.076 kg O2 + 10.12 kg N2 → 3.38 kg CO2 + 0.69 kg H2O + 10.12 kg N2\n",
"Amount= 3.076 + 10.12;\n",
"disp('Hence amount of theoretical air required for combustion of 1 kg acetylene =')\n",
"disp(Amount)\n",
"disp('kg')"
   ]
   }
,
{
		   "cell_type": "markdown",
		   "metadata": {},
		   "source": [
			"## Example 11.14: 14.sce"
		   ]
		  },
  {
"cell_type": "code",
	   "execution_count": null,
	   "metadata": {
	    "collapsed": true
	   },
	   "outputs": [],
"source": [
"clc\n",
"// C2H2+2.5O2+2.5*(79/21)N2 --> 2CO2+H2O+2.5*(79/21)N2\n",
"\n",
"//26 kg C2H2 + 160 kg O2 + 526.6 kg N2 → 88 kg CO2 + 18 kg H2O + 526.6 kg N2 + 80 kg O2\n",
"\n",
"//1 kg C2H2 + 6.15 kg O2 + 20.25 kg N2 → 3.38 kg CO2 + 0.69 kg H2O + 20.25 kg N2 + 3.07 kg O2\n",
"\n",
"m_CO2=3.38; //kg\n",
"m_H2O=0.69; //kg\n",
"m_O2=3.07; //kg\n",
"m_N2=20.25; //kg\n",
"m_total=m_CO2+m_H2O+m_O2+m_N2;\n",
"\n",
"CO2=m_CO2/m_total*100;\n",
"H2O=m_H2O/m_total*100;\n",
"O2=m_O2/m_total*100;\n",
"N2=m_N2/m_total*100;\n",
"\n",
"disp('Hence the gravimetric analysis of the complete combustion is :')\n",
"disp('CO2=')\n",
"disp(CO2)\n",
"disp('%')\n",
"\n",
"disp('H2O=')\n",
"disp(H2O)\n",
"disp('%')\n",
"\n",
"disp('O2=')\n",
"disp(O2)\n",
"disp('%')\n",
"\n",
"disp('N2=')\n",
"disp(N2)\n",
"disp('%')"
   ]
   }
,
{
		   "cell_type": "markdown",
		   "metadata": {},
		   "source": [
			"## Example 11.15: 15.sce"
		   ]
		  },
  {
"cell_type": "code",
	   "execution_count": null,
	   "metadata": {
	    "collapsed": true
	   },
	   "outputs": [],
"source": [
"clc\n",
"AF_mole=(12.5+12.5*(79/21))/1;\n",
"AF_mass=AF_mole*28.97/(8*12+1*18);\n",
"\n",
"disp('Air fuel ratio =')\n",
"disp(AF_mass)\n",
"disp('kg air/kg fuel')"
   ]
   }
,
{
		   "cell_type": "markdown",
		   "metadata": {},
		   "source": [
			"## Example 11.16: 16.sce"
		   ]
		  },
  {
"cell_type": "code",
	   "execution_count": null,
	   "metadata": {
	    "collapsed": true
	   },
	   "outputs": [],
"source": [
"clc\n",
"// C8H18+12.5*O2+12.5*(79/21)N2 --> 8CO2+9H2O+12.5*(79/21)*N2\n",
"\n",
"// C8H18 + (2) (12.5) O2 + (2) (12.5)*(79/21)N2-->8CO2 + 9H2O + (1) (12.5) O2 + (2) (12.5)*(79/21)*N2\n",
"\n",
"m_fuel=1*(8*12+1*18);\n",
"m_air=2*12.5*(1+79/21)*28.97;\n",
"\n",
"disp('(i) Air-fuel ratio =')\n",
"AF=m_air/m_fuel;\n",
"disp(AF)\n",
"\n",
"disp('(ii) Dew point of the products')\n",
"n=8+9+12.5+2*12.5*(79/21);\n",
"\n",
"x=9/n;\n",
"p=100*x;\n",
"\n",
"//Hence\n",
"t_dp=39.7; //0C\n",
"\n",
"disp('t_dp=')\n",
"disp(t_dp)\n",
"disp('°C')"
   ]
   }
,
{
		   "cell_type": "markdown",
		   "metadata": {},
		   "source": [
			"## Example 11.17: 17.sce"
		   ]
		  },
  {
"cell_type": "code",
	   "execution_count": null,
	   "metadata": {
	    "collapsed": true
	   },
	   "outputs": [],
"source": [
"clc\n",
"// C2H6 + 3.5O2 → 2CO2 + 3H2O\n",
"// C2H6 + (0.9)*(3.5) O2 + (0.9)*(3.5)*(79/21)N2→a CO2 + b CO + 3H2O + (0.9)*(3.5)*(79/21)*N2\n",
"\n",
"// a+b=2\n",
"// 2*a+b+3=0.9*3.5*2\n",
"// a=1.3\n",
"// b=0.7\n",
"// C2H6 + (0.9)*(3.5) O2 + (0.9)*(3.5)*(79/21)*N2→ 1.3CO2 + 0.7CO + 3H2O + (0.9)*(3.5)*(79/21)N2\n",
"\n",
"n=1.3+0.7+0.9*3.5*(79/21);\n",
"\n",
"CO2=1.3/n*100;\n",
"CO=0.7/n*100;\n",
"N2=11.85/n*100;\n",
"\n",
"disp('Volumetric analysis of dry products of combustion is as follows ')\n",
"\n",
"disp('CO2 =')\n",
"disp(CO2)\n",
"disp('%')\n",
"\n",
"disp('CO =')\n",
"disp(CO)\n",
"disp('%')\n",
"\n",
"disp('N2 =')\n",
"disp(N2)\n",
"disp('%')"
   ]
   }
,
{
		   "cell_type": "markdown",
		   "metadata": {},
		   "source": [
			"## Example 11.18: 18.sce"
		   ]
		  },
  {
"cell_type": "code",
	   "execution_count": null,
	   "metadata": {
	    "collapsed": true
	   },
	   "outputs": [],
"source": [
"clc\n",
"disp('(i) Combustion equation')\n",
"\n",
"// x CH4 + y O2 + z N2 → 10.0 CO2 + 0.53 CO + 2.37 O2 + a H2O + 87.1 N2\n",
"\n",
"z=87.1;\n",
"y=z*(79/21);\n",
"x=10+0.53;\n",
"a=2*x;\n",
"\n",
"//10.53 CH4 + 23.16 O2 + 87.1 N2 → 10.0 CO2 + 0.53 CO + 2.37 O2 + 21.06 H2O + 87.1 N2\n",
"\n",
"disp('CH4 + 2.2 O2 + 8.27 N2 → 0.95 CO2 + 0.05 CO + 2H2O + 0.225 O2 + 8.27 N2')\n",
"\n",
"disp('(ii) Air-fuel ratio ')\n",
"\n",
"AF_mole=2.2+8.27;\n",
"disp('air-fuel ratio on a mole basis =')\n",
"disp(AF_mole)\n",
"disp('moles air/mole fuel')\n",
"\n",
"AF_mass=AF_mole*28.97/(12+1*4);\n",
"disp('air-fuel ratio on a mass basis =')\n",
"disp(AF_mass)\n",
"disp('air/kg fuel')\n",
"\n",
"// CH4 + 2O2 + 2*(79/21)N2 → CO2 + 2H2O + (2)*(79/21)N2\n",
"AF_theor=(2+2*(79/21))*28.97/(12+1*4);\n",
"disp('theoretical air-fuel ratio =')\n",
"disp(AF_theor)\n",
"disp('kg air/kg fuel')\n",
"\n",
"disp('(iii) Percent theoretical air =')\n",
"%theo=AF_mass/AF_theor*100;\n",
"disp(%theo)\n",
"disp('%')"
   ]
   }
,
{
		   "cell_type": "markdown",
		   "metadata": {},
		   "source": [
			"## Example 11.19: 19.sce"
		   ]
		  },
  {
"cell_type": "code",
	   "execution_count": null,
	   "metadata": {
	    "collapsed": true
	   },
	   "outputs": [],
"source": [
"clc\n",
"disp('(i) The stoichiometric A/F ratio')\n",
"\n",
"// 1 kg of coal contains 0.82 kg C and 0.10 kg H2.\n",
"// Let the oxygen required for complete combustion = x moles\n",
"// the nitrogen supplied with the oxygen = x*79/21=3.76*x\n",
"// 0.82/12*C+0.10/2*H2 + x CO2 + 3.76x N2 → a CO2 + b H2O + 3.76 x N2\n",
"a=0.82/12; // Carbon balance\n",
"b=0.10/2; //Hydrogen balance\n",
"x=(2*a+b)/2; // Oxygen balance\n",
"\n",
"Stoichiometric_AF_ratio=2.976/0.233;\n",
"disp('Stoichiometric AF ratio =')\n",
"disp(Stoichiometric_AF_ratio)\n",
"\n",
"n=a+b+3.76*x;\n",
"\n",
"CO2=0.068/n*100;\n",
"H2=0.05/n*100;\n",
"N2=3.76*0.093/n*100;\n",
"\n",
"disp('the analysis of the products is')\n",
"disp('CO2 =')\n",
"disp(CO2)\n",
"disp('%')\n",
"\n",
"disp('H2 =')\n",
"disp(H2)\n",
"disp('%')\n",
"\n",
"disp('N2 =')\n",
"disp(N2)\n",
"disp('%')"
   ]
   }
,
{
		   "cell_type": "markdown",
		   "metadata": {},
		   "source": [
			"## Example 11.20: 20.sce"
		   ]
		  },
  {
"cell_type": "code",
	   "execution_count": null,
	   "metadata": {
	    "collapsed": true
	   },
	   "outputs": [],
"source": [
"clc\n",
"\n",
"// C + O2 → CO2\n",
"// 2H2 + O2 → 2H2O\n",
"// S + O2 → SO2\n",
"\n",
"O2_req=2.636; //kg\n",
"\n",
"AF=O2_req/0.233;\n",
"disp('The stoichiometric A/F ratio =')\n",
"disp(AF)\n",
"\n",
"disp('(i) Actual A/F ratio =')\n",
"AF_act=AF+0.3*AF;\n",
"disp(AF_act)\n",
"\n",
"disp('(ii) Wet and dry analyses of products of combustion by volume')\n",
"\n",
"// As per actual A/F ratio, N2 supplied = 0.767 * 14.7 = 11.27 kg\n",
"// Also O2 supplied = 0.233 * 14.7 = 3.42 kg\n",
"\n",
"// In the products then, we have\n",
"// N2 = 11.27 + 0.01 = 11.28 kg\n",
"// excess O2 = 3.42 – 2.636 = 0.78 kg\n",
"\n",
"n_wet=0.5208;\n",
"n_dry=0.5008;\n",
"\n",
"disp('Analysis of wet products is as follows :')\n",
"\n",
"disp('CO2 =')\n",
"CO2=0.0734/n_wet*100;\n",
"disp(CO2)\n",
"disp('%')\n",
"\n",
"disp('H2O =')\n",
"H2O=0.0200/n_wet*100;\n",
"disp(H2O)\n",
"disp('%')\n",
"\n",
"disp('SO2 =')\n",
"SO2=0.0002/n_wet*100;\n",
"disp(SO2)\n",
"disp('%')\n",
"\n",
"disp('O2 =')\n",
"O2=0.0244/n_wet*100;\n",
"disp(O2)\n",
"disp('%')\n",
"\n",
"disp('N2 =')\n",
"N2=0.4028/n_wet*100;\n",
"disp(N2)\n",
"disp('%')\n",
"\n",
"disp('Analysis of dry products is as follows :')\n",
"\n",
"disp('CO2 =')\n",
"CO2=0.0734/n_dry*100;\n",
"disp(CO2)\n",
"disp('%')\n",
"\n",
"disp('SO2 =')\n",
"SO2=0.0002/n_dry*100;\n",
"disp(SO2)\n",
"disp('%')\n",
"\n",
"disp('O2 =')\n",
"O2=0.0244/n_dry*100;\n",
"disp(O2)\n",
"disp('%')\n",
"\n",
"disp('N2 =')\n",
"N2=0.4028/n_dry*100;\n",
"disp(N2)\n",
"disp('%')"
   ]
   }
,
{
		   "cell_type": "markdown",
		   "metadata": {},
		   "source": [
			"## Example 11.21: 21.sce"
		   ]
		  },
  {
"cell_type": "code",
	   "execution_count": null,
	   "metadata": {
	    "collapsed": true
	   },
	   "outputs": [],
"source": [
"clc\n",
"\n",
"// 2H2 + O2 → 2H2O\n",
"// 2CO + O2 → 2CO2\n",
"// CH4 + 2O2 → CO2 + 2H2O\n",
"// C4H8 + 6O2 → 4CO2 + 4H2O\n",
"\n",
"n_O2=0.853; //total moles of O2\n",
"\n",
"disp('(i) Stoichiometric A/F ratio =')\n",
"AF=n_O2/0.21;\n",
"disp(AF)\n",
"\n",
"disp('(ii) Wet and dry analyses of the products of combustion if the actual mixture is 30% weak :')\n",
"AF_act=AF+0.3*AF;\n",
"n_N2=0.79*AF_act;\n",
"O2_excess=0.21*AF_act-n_O2;\n",
"\n",
"n_wet=5.899;\n",
"n_dry=4.915;\n",
"\n",
"disp('Analysis by volume of wet products is as follows :')\n",
"\n",
"disp('CO2 =')\n",
"CO2=0.490/n_wet*100;\n",
"disp(CO2)\n",
"disp('%')\n",
"\n",
"disp('H2O =')\n",
"H2O=0.984/n_wet*100;\n",
"disp(H2O)\n",
"disp('%')\n",
"\n",
"disp('O2 =')\n",
"O2=O2_excess/n_wet*100;\n",
"disp(O2)\n",
"disp('%')\n",
"\n",
"disp('N2 =')\n",
"N2=n_N2/n_wet*100;\n",
"disp(N2)\n",
"disp('%')\n",
"\n",
"disp('Analysis by volume of dry products is as follows :')\n",
"\n",
"disp('CO2 =')\n",
"CO2=0.490/n_dry*100;\n",
"disp(CO2)\n",
"disp('%')\n",
"\n",
"disp('O2 =')\n",
"O2=O2_excess/n_dry*100;\n",
"disp(O2)\n",
"disp('%')\n",
"\n",
"disp('N2 =')\n",
"N2=n_N2/n_dry*100;\n",
"disp(N2)\n",
"disp('%')"
   ]
   }
,
{
		   "cell_type": "markdown",
		   "metadata": {},
		   "source": [
			"## Example 11.22: 22.sce"
		   ]
		  },
  {
"cell_type": "code",
	   "execution_count": null,
	   "metadata": {
	    "collapsed": true
	   },
	   "outputs": [],
"source": [
"clc\n",
"\n",
"// C2H6O + 3O2 + 3*79/21 N2 → 2CO2 + 3H2O + 3*79/21 N2\n",
"\n",
"O2_req=3*32/46;\n",
"\n",
"AF=O2_req/0.233;\n",
"disp('Stoichiometric A/F ratio =')\n",
"disp(AF)\n",
"\n",
"mix=0.8; //mixture strength\n",
"\n",
"AF_actual=AF/mix;\n",
"disp('Actual A/F ratio =')\n",
"disp(AF_actual)\n",
"\n",
"// C2H6O + 1.25*(3 O2 + 3*79/21 N2) → 2CO2 + 3H2O + 0.25*3O2 + 1.25*3*79/21 N2\n",
"\n",
"n=2+3+0.75+14.1;\n",
"\n",
"disp('Hence wet analysis is')\n",
"\n",
"disp('CO2 =')\n",
"CO2=2/n*100;\n",
"disp(CO2)\n",
"disp('%')\n",
"\n",
"disp('H2O =')\n",
"H2O=3/n*100;\n",
"disp(H2O)\n",
"disp('%')\n",
"\n",
"disp('O2 =')\n",
"O2=0.75/n*100;\n",
"disp(O2)\n",
"disp('%')\n",
"\n",
"disp('N2 =')\n",
"N2=14.1/n*100;\n",
"disp(N2)\n",
"disp('%')\n",
"\n",
"nd=2+0.75+14.1; //total dry moles\n",
"\n",
"disp('Hence dry analysis is : ')\n",
"\n",
"disp('CO2 =')\n",
"CO2=2/nd*100;\n",
"disp(CO2)\n",
"disp('%')\n",
"\n",
"disp('O2 =')\n",
"O2=0.75/nd*100;\n",
"disp(O2)\n",
"disp('%')\n",
"\n",
"disp('N2 =')\n",
"N2=14.1/nd*100;\n",
"disp(N2)\n",
"disp('%')\n",
"\n",
"mix=1.3;\n",
"AF_act=AF/mix;\n",
"disp('Actual A/F ratio =')\n",
"disp(AF_act)"
   ]
   }
,
{
		   "cell_type": "markdown",
		   "metadata": {},
		   "source": [
			"## Example 11.2: 2.sce"
		   ]
		  },
  {
"cell_type": "code",
	   "execution_count": null,
	   "metadata": {
	    "collapsed": true
	   },
	   "outputs": [],
"source": [
"clc\n",
"p1=75.882; //cm of Hg\n",
"T1=286; //K\n",
"V1=0.08; //m^3\n",
"p2=76; //cm of Hg\n",
"T2=288; //K\n",
"\n",
"V2=p1*V1*T2/p2/T1;\n",
"\n",
"m=28; //kg\n",
"c=4.18;\n",
"t2=23.5; //0C\n",
"t1=10; //0C\n",
"\n",
"Q_received=m*c*(t2-t1);\n",
"\n",
"HCV=Q_received/V2;\n",
"disp('Higher calorific value =')\n",
"disp(HCV)\n",
"disp('kJ/m^3')\n",
"\n",
"amt=0.06/0.08; //Amount of vapour formed per m^3 of gas burnt\n",
"LCV=HCV-2465*amt;\n",
"disp('Lower calorific value =')\n",
"disp(LCV)\n",
"disp('kJ/kg')"
   ]
   }
,
{
		   "cell_type": "markdown",
		   "metadata": {},
		   "source": [
			"## Example 11.23: 23.sce"
		   ]
		  },
  {
"cell_type": "code",
	   "execution_count": null,
	   "metadata": {
	    "collapsed": true
	   },
	   "outputs": [],
"source": [
"clc\n",
"// C2H6O + 3O2 + 3*79/21 N2 → 2CO2 + 3H2O + 3*79/21 N2\n",
"R0=8.314*10^3; //kJ/kg K\n",
"m=46; //kg\n",
"\n",
"disp('(i) Volume of reactants per kg of fuel ')\n",
"\n",
"n=1+3+3*79/21;\n",
"T=323; //K\n",
"p=1.013*10^5; //Pa\n",
"\n",
"V=n*R0*T/p;\n",
"\n",
"disp('Vr=')\n",
"Vr=V/m;\n",
"disp(Vr)\n",
"disp('m^3')\n",
"\n",
"disp('(ii) Volume of products per kg of fuel')\n",
"\n",
"n=2+3+3*79/21;\n",
"T=403; //K\n",
"p=1*10^5; //Pa\n",
"\n",
"V=n*R0*T/p;\n",
"\n",
"Vp=V/m;\n",
"disp('Vp=')\n",
"disp(Vp)\n",
"disp('m^3')"
   ]
   }
,
{
		   "cell_type": "markdown",
		   "metadata": {},
		   "source": [
			"## Example 11.24: 24.sce"
		   ]
		  },
  {
"cell_type": "code",
	   "execution_count": null,
	   "metadata": {
	    "collapsed": true
	   },
	   "outputs": [],
"source": [
"clc\n",
"\n",
"// 0.506H2 + 0.1CO + 0.26CH4 + 0.04C4H8 + 0.004O2 + 0.03CO2 + 0.06N2 + 0.21 × 7O2 + 0.79 × 7N2 → a CO2 + b H2O + c O2 + d N2\n",
"\n",
"a=0.1*0.26+4*0.04+0.03;\n",
"b=(2*0.506+4*0.26+8*0.04)/2;\n",
"c=(0.1+2*0.004+2*0.03+0.21*7*2-2*a-b)/2;\n",
"d=(2*0.06+2*0.79*7)/2;\n",
"\n",
"n=0.55+0.411+5.59;\n",
"\n",
"disp('analysis by volume is')\n",
"disp('CO2=')\n",
"CO2=0.55/n*100;\n",
"disp(CO2)\n",
"disp('%')\n",
"\n",
"disp('O2=')\n",
"O2=0.411/n*100;\n",
"disp(O2)\n",
"disp('%')\n",
"\n",
"disp('N2 =')\n",
"N2=5.59/n*100;\n",
"disp(N2)\n",
"disp('%')"
   ]
   }
,
{
		   "cell_type": "markdown",
		   "metadata": {},
		   "source": [
			"## Example 11.25: 25.sce"
		   ]
		  },
  {
"cell_type": "code",
	   "execution_count": null,
	   "metadata": {
	    "collapsed": true
	   },
	   "outputs": [],
"source": [
"clc\n",
"// C_aH_bO_cN_dS_e\n",
"\n",
"a=60/12;\n",
"b=20;\n",
"c=5/16;\n",
"d=10/14;\n",
"e=5/32;\n",
"\n",
"// C_5 H_20 O_0.3125 N_0.7143 S_0.1562 + x O2 + x*(79/21)N2 → p CO2 + q H2O + r SO2 + s N2\n",
"p=5;\n",
"q=20/2;\n",
"r=0.1562;\n",
"x=(2*p+q+2*r-0.3125)/2;\n",
"s=(0.7143+2*x*79/21)/2;\n",
"\n",
"air=(9.92*32+x*79/21*28)/100;\n",
"disp('Stoichiometric air required =')\n",
"disp(air)\n",
"disp('kg/kg of fuel')"
   ]
   }
,
{
		   "cell_type": "markdown",
		   "metadata": {},
		   "source": [
			"## Example 11.26: 26.sce"
		   ]
		  },
  {
"cell_type": "code",
	   "execution_count": null,
	   "metadata": {
	    "collapsed": true
	   },
	   "outputs": [],
"source": [
"clc\n",
"\n",
"disp('(i) Stoichiometric air fuel ratio ')\n",
"// C_aH_bO_cN_d\n",
"\n",
"a=84/12;\n",
"b=10;\n",
"c=3.5/16;\n",
"d=1.5/14;\n",
"\n",
"// C7 H10 O0.218 N0.107 + x O2 + x*(79/21)N2 → p CO2 + q H2O + r N2\n",
"\n",
"p=7;\n",
"q=10/2;\n",
"x=(2*p+q-c)/2;\n",
"r=(d+2*x*(79/21))/2;\n",
"\n",
"AF=(x*32+x*79/21*28)/100;\n",
"disp('Stoichiometric A/F ratio =')\n",
"disp(AF)\n",
"\n",
"disp('(ii) Percentage composition of dry flue gases by volume with 20 per cent excess air :')\n",
"\n",
"// C7H10O0.218N0.107 + (1.2)(9.39) O2 + (1.2)(9.39)*(79/21)N2 → 7CO2 + 5H2O + (0.2)(9.39) O2 + (1.2)(35.4) N2\n",
"\n",
"n=7+0.2*9.39+1.2*35.4;\n",
"\n",
"disp('Percentage composition of dry flue gases by volume is as follows :')\n",
"disp('CO2 =')\n",
"CO2=7/n*100;\n",
"disp(CO2)\n",
"disp('%')\n",
"\n",
"disp('O2 =')\n",
"O2=1.878/n*100;\n",
"disp(O2)\n",
"disp('%')\n",
"\n",
"disp('N2 =')\n",
"N2=42.48/n*100;\n",
"disp(N2)\n",
"disp('%')"
   ]
   }
,
{
		   "cell_type": "markdown",
		   "metadata": {},
		   "source": [
			"## Example 11.27: 27.sce"
		   ]
		  },
  {
"cell_type": "code",
	   "execution_count": null,
	   "metadata": {
	    "collapsed": true
	   },
	   "outputs": [],
"source": [
"clc\n",
"// a C + b H + c O2 + (79/21)*c N2 = 8CO2 + 0.5CO + 6.3O2 + x H2O + 85.2N2\n",
"\n",
"a=8+0.5;\n",
"c=85.2/(79/21);\n",
"x=2*(c-8-0.5/2-6.3);\n",
"b=2*x;\n",
"\n",
"disp('(i) Air-fuel ratio =')\n",
"AF=(c*32+(79/21)*c*28)/(a*12+b*1);\n",
"disp(AF)\n",
"disp('kg of air/kg of fuel')\n",
"\n",
"disp('(ii) Per cent theoretical air required for combustion ')\n",
"mf_C=12*a/(12*a+b);\n",
"mf_H2=b*1/(12*a+b);\n",
"air=mf_C*8/3*100/23.3 + mf_H2*8*100/23.3; //air required for complete combustion\n",
"percent=AF/air*100;\n",
"disp('Per cent theoretical air required for combustion =')\n",
"disp(percent)\n",
"disp('%')"
   ]
   }
,
{
		   "cell_type": "markdown",
		   "metadata": {},
		   "source": [
			"## Example 11.28: 28.sce"
		   ]
		  },
  {
"cell_type": "code",
	   "execution_count": null,
	   "metadata": {
	    "collapsed": true
	   },
	   "outputs": [],
"source": [
"clc\n",
"disp('(i) By a carbon balance')\n",
"\n",
"// a C8H18 + 78.1N2 + 78.1*(21/79)O2 → 8.9CO2 + 8.2CO + 4.3H2 + 0.5CH4 + 78.1N2 + x H2O\n",
"a=(8.9+8.2+0.5)/8;\n",
"\n",
"AF1=(78.1*28+78.1*21/79*32)/a/(8*12+1*18);\n",
"disp('Air fuel ratio =')\n",
"disp(AF1)\n",
"\n",
"\n",
"disp('(ii) By a hydrogen-oxygen balance ')\n",
"\n",
"// a C8H18 + b O2 + b*(79/21)N2 → 8.9CO2 + 8.2CO + 4.3H2 + 0.5CH4 + b*(79/21)N2 + x*H2O\n",
"\n",
"a=(8.9+8.2+0.5)/8;\n",
"x=(18*a-4.3*2-4*0.5)/2;\n",
"b=(8.9*2+8.2+x)/2;\n",
"\n",
"AF2=(b*32+b*(79/21)*28)/a/(8*12+1*18);\n",
"disp('Air fuel ratio =')\n",
"disp(AF2)"
   ]
   }
,
{
		   "cell_type": "markdown",
		   "metadata": {},
		   "source": [
			"## Example 11.29: 29.sce"
		   ]
		  },
  {
"cell_type": "code",
	   "execution_count": null,
	   "metadata": {
	    "collapsed": true
	   },
	   "outputs": [],
"source": [
"clc\n",
"// X(0.88/12 C + 0.12/2 H2) + Y O2 + 79/21*Y N2 → 0.12CO2 + a O2 + (0.88 – a) N2 + b H2O\n",
"\n",
"X=0.12/(0.88/12);\n",
"b=0.06*X;\n",
"a=0.0513;\n",
"Y=0.2203;\n",
"Air_supplied=0.2203*32/0.233;\n",
"\n",
"AF=Air_supplied/X;\n",
"disp('A/F ratio =')\n",
"disp(AF)"
   ]
   }
,
{
		   "cell_type": "markdown",
		   "metadata": {},
		   "source": [
			"## Example 11.30: 30.sce"
		   ]
		  },
  {
"cell_type": "code",
	   "execution_count": null,
	   "metadata": {
	    "collapsed": true
	   },
	   "outputs": [],
"source": [
"clc\n",
"// X*(x/12 C + y/2 H2) + Y O2 + 79/21*Y/N2 → 0.15CO2 + 0.03CO + 0.03CH4 + 0.01H2 + 0.02O2 + a H2O + 0.76N2\n",
"\n",
"Y=0.76/(79/21);\n",
"a=2*(Y-0.15-0.03/2-0.02);\n",
"Xx=12*(0.15+0.03+0.03);\n",
"Xy=2*(2*0.03+0.01+a);\n",
"ratio=Xx/Xy;\n",
"\n",
"disp('Ratio of C to H2 in fuel =')\n",
"disp(ratio)"
   ]
   }
,
{
		   "cell_type": "markdown",
		   "metadata": {},
		   "source": [
			"## Example 11.31: 31.sce"
		   ]
		  },
  {
"cell_type": "code",
	   "execution_count": null,
	   "metadata": {
	    "collapsed": true
	   },
	   "outputs": [],
"source": [
"clc\n",
"h_fg0=2441.8; //kJ/kg\n",
"m=3*18;\n",
"dH0_liq=-3301000; //kJ/mole\n",
"\n",
"dH0_vap=dH0_liq+m*h_fg0;\n",
"disp('dH0_vapour =')\n",
"disp(dH0_vap)\n",
"disp('kJ/mole')"
   ]
   }
,
{
		   "cell_type": "markdown",
		   "metadata": {},
		   "source": [
			"## Example 11.32: 32.sce"
		   ]
		  },
  {
"cell_type": "code",
	   "execution_count": null,
	   "metadata": {
	    "collapsed": true
	   },
	   "outputs": [],
"source": [
"clc\n",
"\n",
"// C6H6 + 7.5O2  → 6CO2 + 3H2O (vapour)\n",
"dH0=-3169100; //kJ\n",
"n_R=1+7.5;\n",
"n_P=6+3;\n",
"R0=8.314;\n",
"T0=298; //K\n",
"\n",
"dU0=(dH0-(n_P-n_R)*R0*T0)/(6*12+1*6);\n",
"disp('dU0 =')\n",
"disp(dU0)\n",
"disp('kJ/kg')"
   ]
   }
,
{
		   "cell_type": "markdown",
		   "metadata": {},
		   "source": [
			"## Example 11.33: 33.sce"
		   ]
		  },
  {
"cell_type": "code",
	   "execution_count": null,
	   "metadata": {
	    "collapsed": true
	   },
	   "outputs": [],
"source": [
"clc\n",
"// CO+1/2 O2 → CO2\n",
"H_R0=1*9705+1/2*9696; //kJ\n",
"H_RT=1*94080+1/2*99790; //kJ\n",
"H_P0=1*10760; //kJ\n",
"H_PT=1*149100; //kJ\n",
"\n",
"dH_T=-(285200+(143975-14553)-(149100-10760));\n",
"disp('dH_T =')\n",
"disp(dH_T)\n",
"disp('kJ/mole')"
   ]
   }
,
{
		   "cell_type": "markdown",
		   "metadata": {},
		   "source": [
			"## Example 11.3: 3.sce"
		   ]
		  },
  {
"cell_type": "code",
	   "execution_count": null,
	   "metadata": {
	    "collapsed": true
	   },
	   "outputs": [],
"source": [
"clc\n",
"C=0.85; //Weight of Carbon present\n",
"H2=0.06; //Weight of Hydrogen present\n",
"O2=0.06; //Weight of Oxygen present\n",
"\n",
"w_required=C*8/3 + H2*8; //Weight of O2 required \n",
"w_needed=w_required-O2; //Weight of O2 to be supplied\n",
"\n",
"w_air=w_needed*100/23;\n",
"disp('Weight of air needed=')\n",
"disp(w_air)\n",
"disp('kg')"
   ]
   }
,
{
		   "cell_type": "markdown",
		   "metadata": {},
		   "source": [
			"## Example 11.34: 34.sce"
		   ]
		  },
  {
"cell_type": "code",
	   "execution_count": null,
	   "metadata": {
	    "collapsed": true
	   },
	   "outputs": [],
"source": [
"clc\n",
"disp('(i) Higher heating value at constant pressure')\n",
"m=4*18;\n",
"h_fg=2443; //kJ/kg\n",
"LHVp=2044009; //kJ/kg\n",
"R0=8.3143; //kJ/kg K\n",
"T=298; //K\n",
"\n",
"HHVp=LHVp+m*h_fg;\n",
"disp('HHVp =')\n",
"disp(HHVp)\n",
"disp('kJ/kg')\n",
"\n",
"disp('(ii) Higher heating value at constant volume')\n",
"dn=3-(1+5);\n",
"\n",
"HHVv=HHVp+dn*R0*T;\n",
"disp('HHVv =')\n",
"disp(HHVv)\n",
"disp('kJ/kg')"
   ]
   }
,
{
		   "cell_type": "markdown",
		   "metadata": {},
		   "source": [
			"## Example 11.35: 35.sce"
		   ]
		  },
  {
"cell_type": "code",
	   "execution_count": null,
	   "metadata": {
	    "collapsed": true
	   },
	   "outputs": [],
"source": [
"clc\n",
"HHV=5494977; //kJ/kg\n",
"m=9*18;\n",
"u_fg=2305; //kJ/kg\n",
"LHVv=HHV-m*u_fg;\n",
"disp('LHVv =')\n",
"disp(LHVv)\n",
"disp('kJ/kg')"
   ]
   }
,
{
		   "cell_type": "markdown",
		   "metadata": {},
		   "source": [
			"## Example 11.36: 36.sce"
		   ]
		  },
  {
"cell_type": "code",
	   "execution_count": null,
	   "metadata": {
	    "collapsed": true
	   },
	   "outputs": [],
"source": [
"clc\n",
"disp('(i) Air and benzene vapour ')\n",
"\n",
"// C6H6(g) + 7.5O2(g) + 7.5*(79/21)N2(g) = 6CO2(g) + 3H2O(g) + 7.5*(79/21)*N2(g)\n",
"\n",
"LHVp=3169500; //kJ/mole\n",
"\n",
"LHVv=LHVp/((12*6+6*1)+(7.5*32)+7.5*(79/21)*28)\n",
"disp('LHVv per kg of mixture =')\n",
"disp(LHVv)\n",
"disp('kJ/kg')\n",
"\n",
"m=54; //kg/kg mole of fuel\n",
"h_fg=2442; //kJ/kg\n",
"\n",
"HHVp=(LHVp+m*h_fg)/(78+240+790);\n",
"disp('HHVp per kg of mixture =')\n",
"disp(HHVp)\n",
"disp('kJ/kg')\n",
"\n",
"disp('(ii) Air and octane vapour ')\n",
"LHVp=5116200; //kJ/mole of C8H18\n",
"\n",
"// C8H18(g) + 12.5O2(g) → 8CO2(g) + 9H2O(g) + 12.5*(79/21)N2(g)\n",
"\n",
"LHVp1=LHVp/((12*8+18*1)+12.5*32+12.5*79/21*28);\n",
"disp('LHVp per kg of mixture =')\n",
"disp(LHVp1)\n",
"disp('kJ/kg')\n",
"\n",
"m=9*18;\n",
"HHVp=LHVp+m*h_fg;\n",
"HHVp1=HHVp/(114+400+1317);\n",
"disp('HHVp per kg of mixture =')\n",
"disp(HHVp1)\n",
"disp('kJ/kg')"
   ]
   }
,
{
		   "cell_type": "markdown",
		   "metadata": {},
		   "source": [
			"## Example 11.37: 37.sce"
		   ]
		  },
  {
"cell_type": "code",
	   "execution_count": null,
	   "metadata": {
	    "collapsed": true
	   },
	   "outputs": [],
"source": [
"clc\n",
"m_CO2=44/12*0.88; //kg\n",
"m_H2O=18/2*0.12; //kg\n",
"u_fg=2304; //kJ/kg\n",
"h_fg=2442; //kJ/kg\n",
"HHVv=45670; //kJ/kg\n",
"R0=8.3143; //kJ/kg K\n",
"T=298; //K\n",
"disp('(i) (LHV)v =')\n",
"LHVv=HHVv-m_H2O*u_fg;\n",
"disp(LHVv)\n",
"disp('kJ/kg')\n",
"\n",
"disp('(ii) (HHV)p, (LHV)p')\n",
"\n",
"//1 mole fuel+x/32 O2-->3.23/44 CO2 + 1.08/18 H2O\n",
"\n",
"x=32*(m_CO2/44+m_H2O/18/2);\n",
"\n",
"// 1 kg fuel + 3.31 kg O2 = 3.23CO2 + 1.08H2O\n",
"\n",
"dn=(m_CO2/44-x/32);\n",
"\n",
"HHVp=HHVv-dn*R0*T;\n",
"disp('HHVp =')\n",
"disp(HHVp)\n",
"disp('kJ/kg')\n",
"\n",
"LHVp=HHVp-m_H2O*h_fg;\n",
"disp('LHVp =')\n",
"disp(LHVp)\n",
"disp('kJ/kg')"
   ]
   }
,
{
		   "cell_type": "markdown",
		   "metadata": {},
		   "source": [
			"## Example 11.4: 4.sce"
		   ]
		  },
  {
"cell_type": "code",
	   "execution_count": null,
	   "metadata": {
	    "collapsed": true
	   },
	   "outputs": [],
"source": [
"clc\n",
"C=0.848; //kg\n",
"H2=0.152; //kg\n",
"O2_used=C*8/3 + H2*8;\n",
"\n",
"\n",
"disp('(i) Minimum weight of air needed for combustion')\n",
"w_min=O2_used*100/23;\n",
"disp('Minimum weight of air needed for combustion=')\n",
"disp(w_min)\n",
"disp('kg')\n",
"\n",
"w_excess=w_min*0.15; //Excess air supplied\n",
"\n",
"w_O2=w_excess*23/100; //Weight of O2 in excess air\n",
"\n",
"w_total=w_min + w_excess; //Total air supplied for combustion\n",
"w_N2=w_total*77/100; //Weight of N2 in flue gases\n",
"\n",
"\n",
"disp('(ii) the volumetric composition of the products of combustion')\n",
"\n",
"//For CO2\n",
"x1=3.109;\n",
"y1=44;\n",
"z1=x1/y1;\n",
"\n",
"//For O2\n",
"x2=w_O2;\n",
"y2=32;\n",
"z2=x2/y2;\n",
"\n",
"//For N2\n",
"x3=w_N2;\n",
"y3=28;\n",
"z3=x3/y3;\n",
"\n",
"z=z1+z2+z3;\n",
"\n",
"//For CO2\n",
"%V1=z1/z*100;\n",
"disp('%volume of CO2 =')\n",
"disp(%V1)\n",
"disp('%')\n",
"\n",
"//For O2\n",
"%V2=z2/z*100;\n",
"disp('%volume of O2 =')\n",
"disp(%V2)\n",
"disp('%')\n",
"\n",
"//For CO2\n",
"%V3=z3/z*100;\n",
"disp('%volume of N2 =')\n",
"disp(%V3)\n",
"disp('%')"
   ]
   }
,
{
		   "cell_type": "markdown",
		   "metadata": {},
		   "source": [
			"## Example 11.5: 5.sce"
		   ]
		  },
  {
"cell_type": "code",
	   "execution_count": null,
	   "metadata": {
	    "collapsed": true
	   },
	   "outputs": [],
"source": [
"clc\n",
"C=0.78;\n",
"H2=0.06;\n",
"O2=0.03;\n",
"\n",
"w_O2=C*8/3 + H2*8;\n",
"w_min=(w_O2-O2)*100/23; //Minimum wt. of air needed for combustion\n",
"\n",
"disp('(i) Weight of dry flue gases per kg of fuel')\n",
"\n",
"//For CO2\n",
"x1=0.104;\n",
"y1=44;\n",
"z1=x1*y1;\n",
"\n",
"//For CO\n",
"x2=0.002;\n",
"y2=28;\n",
"z2=x2*y2;\n",
"\n",
"//For N2\n",
"x3=0.816;\n",
"y3=28;\n",
"z3=x3*y3;\n",
"\n",
"//For O2\n",
"x4=0.078;\n",
"y4=32;\n",
"z4=x4*y4;\n",
"\n",
"z=z1+z2+z3+z4;\n",
"\n",
"W_CO2=z1/z; //Weight per kg of flue gas\n",
"W_CO=z2/z; //Weight per kg of flue gas\n",
"W_N2=z3/z; //Weight per kg of flue gas\n",
"W_O2=z4/z; //Weight per kg of flue gas\n",
"\n",
"amt=3/11*W_CO2 + 3/7*W_CO;\n",
"\n",
"W=C/amt; //Weight of dry flue gas per kg of fuel\n",
"disp('Weight of dry flue gas per kg of fuel = ')\n",
"disp(W)\n",
"disp('kg')\n",
"\n",
"disp('(ii) Weight of excess air per kg of fuel')\n",
"m_O2=W_O2-4/7*W_CO; //Weight of excess oxygen per kg of flue gas\n",
"m_excess=W*m_O2; //Weight of excess O2 per kg of fuel\n",
"\n",
"w_excess=m_excess*100/23; //Weight of excess air per kg of fuel\n",
"disp('Weight of excess air per kg of fuel=')\n",
"disp(w_excess)\n",
"disp('kg')"
   ]
   }
,
{
		   "cell_type": "markdown",
		   "metadata": {},
		   "source": [
			"## Example 11.6: 6.sce"
		   ]
		  },
  {
"cell_type": "code",
	   "execution_count": null,
	   "metadata": {
	    "collapsed": true
	   },
	   "outputs": [],
"source": [
"clc\n",
"v_CO=0.05;\n",
"v_CO2=0.10;\n",
"v_H2=0.50;\n",
"v_CH4=0.25;\n",
"v_N2=0.10;\n",
"\n",
"V_fuel=1;\n",
"\n",
"V_O2=v_CO/2+v_H2/2+2*v_CH4; //Volume of O2 needed\n",
"\n",
"V_air=V_O2*100/21; //Volume of air required\n",
"\n",
"V_N2=V_air*79/100; //Volume of nitrogen in the air\n",
"\n",
"V=v_CO + v_CO2 + v_CH4 + v_N2 + V_N2; //Dry combustion products\n",
"\n",
"O2=6;\n",
"V_excess=O2*V/(21-O2);\n",
"\n",
"V_total=V_air+V_excess;\n",
"\n",
"ratio=V_total/V_fuel;\n",
"disp('Air fuel ratio=')\n",
"disp(ratio)"
   ]
   }
,
{
		   "cell_type": "markdown",
		   "metadata": {},
		   "source": [
			"## Example 11.7: 7.sce"
		   ]
		  },
  {
"cell_type": "code",
	   "execution_count": null,
	   "metadata": {
	    "collapsed": true
	   },
	   "outputs": [],
"source": [
"clc\n",
"\n",
"C=0.85;\n",
"H2=0.15;\n",
"\n",
"//For CO2\n",
"x1=0.115;\n",
"y1=44;\n",
"z1=x1*y1;\n",
"\n",
"//For CO\n",
"x2=0.012;\n",
"y2=28;\n",
"z2=x2*y2;\n",
"\n",
"//For O2\n",
"x3=0.009;\n",
"y3=32;\n",
"z3=x3*y3;\n",
"\n",
"//For N2\n",
"x4=0.86;\n",
"y4=28;\n",
"z4=x4*y4;\n",
"\n",
"z=z1+z2+z3+z4;\n",
"\n",
"W_CO2=z1/z; //Weight per kg of flue gas\n",
"W_CO=z2/z; //Weight per kg of flue gas\n",
"W_O2=z3/z; //Weight per kg of flue gas\n",
"W_N2=4/z; //Weight per kg of flue gas\n",
"\n",
"W_C=3/11*W_CO2 + 3/7*W_CO; //Weight of carbon per kg of flue gas\n",
"\n",
"W=C/W_C; //Weight of dry flue gas per kg of fuel\n",
"\n",
"Vapour=1.35; //kg; Vapour of combustion\n",
"\n",
"W_total=W+Vapour; //Total weight of gas\n",
"\n",
"W_air=W_total-1; //Air supplied\n",
"\n",
"ratio=W_air/1;\n",
"disp('Ratio of air to petrol =')\n",
"disp(ratio)\n",
"\n",
"S_air=[C*8/3 + H2*8]*100/23; //Stoichiometric air\n",
"\n",
"W_excess=W_air-S_air; //Excess air\n",
"\n",
"%Excess=W_excess/S_air*100; //Percentage excess air\n",
"disp('Percentage excess air')\n",
"disp(%Excess)\n",
"disp('%')"
   ]
   }
,
{
		   "cell_type": "markdown",
		   "metadata": {},
		   "source": [
			"## Example 11.8: 8.sce"
		   ]
		  },
  {
"cell_type": "code",
	   "execution_count": null,
	   "metadata": {
	    "collapsed": true
	   },
	   "outputs": [],
"source": [
"clc\n",
"C=0.86;\n",
"H2=0.08;\n",
"S=0.03;\n",
"O2=0.02;\n",
"\n",
"W_O2=C*8/3 + H2*8 + S*1;\n",
"\n",
"A=W_O2-O2; //Weight of oxygen to be supplied per kg of fuel\n",
"\n",
"W_min=A*100/23;\n",
"r_correct=1/W_min/1; //“correct” fuel-air ratio\n",
"r_actual=1/12;\n",
"\n",
"\n",
"disp('(i) Mixture strength')\n",
"s=r_actual/r_correct*100; //Mixture strength\n",
"\n",
"richness=s-100;\n",
"disp('richness=')\n",
"disp(richness)\n",
"disp('%')\n",
"disp('This show that mixture is 6.5% rich.')\n",
"\n",
"D=1/r_correct-1/r_actual;\n",
"\n",
"CO=0.313; //kg\n",
"CO2=2.662; //kg\n",
"N2=9.24; //kg\n",
"SO2=0.06; //kg\n",
"\n",
"disp('(ii) The percentage composition of dry flue gases')\n",
"\n",
"//For CO\n",
"x1=0.313; //kg\n",
"y1=28;\n",
"z1=x1/y1;\n",
"\n",
"//For CO2\n",
"x2=2.662; //kg\n",
"y2=44;\n",
"z2=x2/y2;\n",
"\n",
"//For N2\n",
"x3=9.24; //kg\n",
"y3=28;\n",
"z3=x3/y3;\n",
"\n",
"//For SO2\n",
"x4=0.06; //kg\n",
"y4=64;\n",
"z4=x4/y4;\n",
"\n",
"z=z1+z2+z3+z4;\n",
"\n",
"//Let percentage volume be denoted by V\n",
"\n",
"V_CO=z1/z*100;\n",
"disp('Percentage volume of CO=')\n",
"disp(V_CO)\n",
"disp('%')\n",
"\n",
"V_CO2=z2/z*100;\n",
"disp('Percentage volume of CO2=')\n",
"disp(V_CO2)\n",
"disp('%')\n",
"\n",
"V_N2=z3/z*100;\n",
"disp('Percentage volume of N2=')\n",
"disp(V_N2)\n",
"disp('%')\n",
"\n",
"\n",
"V_SO2=z4/z*100;\n",
"disp('Percentage volume of SO2=')\n",
"disp(V_SO2)\n",
"disp('%')"
   ]
   }
,
{
		   "cell_type": "markdown",
		   "metadata": {},
		   "source": [
			"## Example 11.9: 9.sce"
		   ]
		  },
  {
"cell_type": "code",
	   "execution_count": null,
	   "metadata": {
	    "collapsed": true
	   },
	   "outputs": [],
"source": [
"clc\n",
"\n",
"A=992/284*100/23; //Air required for complete combustion\n",
"\n",
"B=13; //kg/kg of fuel; Air actually supplied\n",
"\n",
"D=A-B; //Deficiency of air\n",
"\n",
"W_CO2=0.466*11/3;\n",
"W_CO=0.379*7/3;\n",
"W_H2O=22/142*9;\n",
"W_N2=13*0.77;\n",
"\n",
"//For CO2\n",
"x1=W_CO2\n",
"y1=44;\n",
"z1=x1/y1;\n",
"\n",
"//For CO\n",
"x2=W_CO;\n",
"y2=28;\n",
"z2=x2/y2;\n",
"\n",
"//For H2O\n",
"x3=W_H2O;\n",
"y3=18;\n",
"z3=x3/y3;\n",
"\n",
"//For N2\n",
"x4=W_N2;\n",
"y4=28;\n",
"z4=x4/y4;\n",
"\n",
"z=z1+z2+z3+z4;\n",
"\n",
"%CO2=z1/z*100;\n",
"disp('Percentage of CO2=')\n",
"disp(%CO2)\n",
"disp('%')\n",
"\n",
"%CO=z2/z*100;\n",
"disp('Percentage of CO=')\n",
"disp(%CO)\n",
"disp('%')\n",
"\n",
"%H2O=z3/z*100;\n",
"disp('Percentage of H2O=')\n",
"disp(%H2O)\n",
"disp('%')\n",
"\n",
"%N2=z4/z*100;\n",
"disp('Percentage of N2=')\n",
"disp(%N2)\n",
"disp('%')"
   ]
   }
],
"metadata": {
		  "kernelspec": {
		   "display_name": "Scilab",
		   "language": "scilab",
		   "name": "scilab"
		  },
		  "language_info": {
		   "file_extension": ".sce",
		   "help_links": [
			{
			 "text": "MetaKernel Magics",
			 "url": "https://github.com/calysto/metakernel/blob/master/metakernel/magics/README.md"
			}
		   ],
		   "mimetype": "text/x-octave",
		   "name": "scilab",
		   "version": "0.7.1"
		  }
		 },
		 "nbformat": 4,
		 "nbformat_minor": 0
}
