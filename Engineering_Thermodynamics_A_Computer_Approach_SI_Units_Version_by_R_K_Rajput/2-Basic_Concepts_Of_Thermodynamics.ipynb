{
"cells": [
 {
		   "cell_type": "markdown",
	   "metadata": {},
	   "source": [
       "# Chapter 2: Basic Concepts Of Thermodynamics"
	   ]
	},
{
		   "cell_type": "markdown",
		   "metadata": {},
		   "source": [
			"## Example 2.10: 10.sce"
		   ]
		  },
  {
"cell_type": "code",
	   "execution_count": null,
	   "metadata": {
	    "collapsed": true
	   },
	   "outputs": [],
"source": [
"clc\n",
"v=800; //m/s\n",
"g=9; //m/s^2\n",
"F=3600; //N\n",
"m=F/g;\n",
"KE=1/2*m*v^2/10^6;\n",
"disp('Kinetic Energy=')\n",
"disp(KE)\n",
"disp('MJ')"
   ]
   }
,
{
		   "cell_type": "markdown",
		   "metadata": {},
		   "source": [
			"## Example 2.11: 11.sce"
		   ]
		  },
  {
"cell_type": "code",
	   "execution_count": null,
	   "metadata": {
	    "collapsed": true
	   },
	   "outputs": [],
"source": [
"clc\n",
"m=6; //kg\n",
"T1=25; //0C\n",
"T2=125; //0C\n",
"\n",
"disp('(i) Heat transferred')\n",
"Q=integrate('m*(0.4+0.004*T)','T',T1,T2);\n",
"disp('heat tranferred=')\n",
"disp(Q)\n",
"disp('kJ')\n",
"\n",
"disp('(ii) Mean specific heat of the gas')\n",
"c_n=Q/m/(T2-T1);\n",
"disp('Mean specific heat=')\n",
"disp(c_n)\n",
"disp('kJ/kg.0C')"
   ]
   }
,
{
		   "cell_type": "markdown",
		   "metadata": {},
		   "source": [
			"## Example 2.1: 1.sce"
		   ]
		  },
  {
"cell_type": "code",
	   "execution_count": null,
	   "metadata": {
	    "collapsed": true
	   },
	   "outputs": [],
"source": [
"clc\n",
"rho_Hg=13596; //kg/m^3\n",
"g=9.806; //m/s^2\n",
"h=0.76; //m\n",
"\n",
"P=rho_Hg*g*h/1000; //kPa\n",
"\n",
"disp('(i) Pressure of 80 cm of Hg')\n",
"h1=0.80; //m\n",
"P1=h1/h*P;\n",
"disp(P1)\n",
"disp('kPa')\n",
"\n",
"disp('(ii) 30 cm Hg vacuum')\n",
"H2=0.30; //cm Hg vacuum\n",
"h2=h-H2; //cm of Hg absolute\n",
"disp('Pressure due to 46 cm of Hg')\n",
"P2=h2/h*P;\n",
"disp(P2)\n",
"disp('kPa')\n",
"\n",
"disp('(iii) Pressure due to 1.35 m H2O gauge')\n",
"rho_H2O=1000; //kg/m^3\n",
"h3=1.35; //m\n",
"P3=rho_H2O*g*h3/1000;\n",
"disp(P3)\n",
"disp('kPa')\n",
"\n",
"disp('(iv) 4.2 bar')\n",
"P4=4.2*10^2;\n",
"disp(P4)\n",
"disp('kPa')"
   ]
   }
,
{
		   "cell_type": "markdown",
		   "metadata": {},
		   "source": [
			"## Example 2.12: 12.sce"
		   ]
		  },
  {
"cell_type": "code",
	   "execution_count": null,
	   "metadata": {
	    "collapsed": true
	   },
	   "outputs": [],
"source": [
"clc\n",
"Ice_point=0;\n",
"Steam_point=100;\n",
"// t=a*log(p)+b\n",
"// from given conditions equations formed are\n",
"// a*log(1.5)+b=0\n",
"// a*log(7.5)+b=100\n",
"// solving equations\n",
"P=[log(1.5),1;log(7.5),1];\n",
"Q=[0;100];\n",
"X=inv(P)*Q;\n",
"a=X(1,1);\n",
"b=X(2,1);\n",
"p=3.5;\n",
"t=a*log(p)+b;\n",
"disp('The value of temperature is given by')\n",
"disp(t)\n",
"disp('°C')"
   ]
   }
,
{
		   "cell_type": "markdown",
		   "metadata": {},
		   "source": [
			"## Example 2.13: 13.sce"
		   ]
		  },
  {
"cell_type": "code",
	   "execution_count": null,
	   "metadata": {
	    "collapsed": true
	   },
	   "outputs": [],
"source": [
"clc\n",
"deff('[e]=func(t)','e=0.20*t-5*10^(-4)*t^2')\n",
"t1=0; //0C\n",
"e1=func(t1);\n",
"t2=100; //0C\n",
"e2=func(t2);\n",
"t3=70; //0C\n",
"e3=func(t3);\n",
"t=e3*(t2-t1)/e2-e1;\n",
"disp('thermocouple will read')\n",
"disp(t)\n",
"disp('°C')"
   ]
   }
,
{
		   "cell_type": "markdown",
		   "metadata": {},
		   "source": [
			"## Example 2.15: 15.sce"
		   ]
		  },
  {
"cell_type": "code",
	   "execution_count": null,
	   "metadata": {
	    "collapsed": true
	   },
	   "outputs": [],
"source": [
"clc\n",
"p=101.325; //kPa\n",
"V2=0.6; //m^3\n",
"V1=0; //m^3\n",
"W=p*(V2-V1);\n",
"disp('work done by atmosphere=')\n",
"disp(-W)\n",
"disp('kJ')"
   ]
   }
,
{
		   "cell_type": "markdown",
		   "metadata": {},
		   "source": [
			"## Example 2.16: 16.sce"
		   ]
		  },
  {
"cell_type": "code",
	   "execution_count": null,
	   "metadata": {
	    "collapsed": true
	   },
	   "outputs": [],
"source": [
"clc\n",
"p=1.013*10^5; //N/m^2\n",
"V1=1.5; //m^3\n",
"V2=0; //m^3\n",
"W=p*(V2-V1);\n",
"disp('W=')\n",
"disp(W/10^3)\n",
"disp('kJ')"
   ]
   }
,
{
		   "cell_type": "markdown",
		   "metadata": {},
		   "source": [
			"## Example 2.17: 17.sce"
		   ]
		  },
  {
"cell_type": "code",
	   "execution_count": null,
	   "metadata": {
	    "collapsed": true
	   },
	   "outputs": [],
"source": [
"clc\n",
"T=1.25; //N.m\n",
"N=9500;\n",
"W1=2*%pi*N*T/1000; //kJ\n",
"p=101.3; //kPa\n",
"d=0.65; //m\n",
"A=%pi/4*d^2; //m^2\n",
"L=0.6; //m\n",
"W2=p*A*L; //kJ\n",
"Wnet=(-W1)+W2;\n",
"disp('The net work transfer for the system=')\n",
"disp(Wnet)\n",
"disp('kJ')"
   ]
   }
,
{
		   "cell_type": "markdown",
		   "metadata": {},
		   "source": [
			"## Example 2.18: 18.sce"
		   ]
		  },
  {
"cell_type": "code",
	   "execution_count": null,
	   "metadata": {
	    "collapsed": true
	   },
	   "outputs": [],
"source": [
"clc\n",
"A=45*10^(-4); //m^2\n",
"P=0.9*10^5; //N/m^2\n",
"Patm=1.013*10^5; //N/m^2\n",
"L=0.05; //m\n",
"dV=300*10^(-6); //m^3\n",
"W=P*A*L-Patm*dV;\n",
"disp('net work done =')\n",
"disp(W)\n",
"disp('J')"
   ]
   }
,
{
		   "cell_type": "markdown",
		   "metadata": {},
		   "source": [
			"## Example 2.19: 19.sce"
		   ]
		  },
  {
"cell_type": "code",
	   "execution_count": null,
	   "metadata": {
	    "collapsed": true
	   },
	   "outputs": [],
"source": [
"clc\n",
"p1=1.5; //bar\n",
"p2=7.5; //bar\n",
"V1=3/p1;\n",
"V2=3/p2;\n",
"W=integrate('3/V*10^2', 'V', V1, V2);\n",
"disp('Work done=')\n",
"disp(W)\n",
"disp('kJ')"
   ]
   }
,
{
		   "cell_type": "markdown",
		   "metadata": {},
		   "source": [
			"## Example 2.20: 20.sce"
		   ]
		  },
  {
"cell_type": "code",
	   "execution_count": null,
	   "metadata": {
	    "collapsed": true
	   },
	   "outputs": [],
"source": [
"clc\n",
"W=150; //kJ\n",
"V1=0.6; //m^3\n",
"// p=8-4*V\n",
"// W=integration of p*dV from V1 to V2\n",
"// Solving above equation we get\n",
"V2=0.354; //m^3\n",
"disp('Final volume =')\n",
"disp(V2)\n",
"disp('m^3')\n",
"p2=8-4*V2;\n",
"disp('Final pressure =')\n",
"disp(p2)\n",
"disp('bar')"
   ]
   }
,
{
		   "cell_type": "markdown",
		   "metadata": {},
		   "source": [
			"## Example 2.21: 21.sce"
		   ]
		  },
  {
"cell_type": "code",
	   "execution_count": null,
	   "metadata": {
	    "collapsed": true
	   },
	   "outputs": [],
"source": [
"clc\n",
"p1=3*10^5; //Pa\n",
"v1=0.18; //m^3/kg\n",
"C=p1*v1^2;\n",
"p2=0.6*10^5; //Pa\n",
"v2=sqrt(C/p2);\n",
"W=integrate('C/v^2', 'v', v1,v2);\n",
"disp('Work done=')\n",
"disp(W)\n",
"disp('Nm/kg')"
   ]
   }
,
{
		   "cell_type": "markdown",
		   "metadata": {},
		   "source": [
			"## Example 2.22: 22.sce"
		   ]
		  },
  {
"cell_type": "code",
	   "execution_count": null,
	   "metadata": {
	    "collapsed": true
	   },
	   "outputs": [],
"source": [
"clc\n",
"m=1; //kg\n",
"p1=20*10^5; //Pa\n",
"V1=0.05; //m^3\n",
"V2=2*V1;\n",
"p2=p1*(V1/V2)^2;\n",
"C=p1*V1^2;\n",
"V3=V1;\n",
"W_12=integrate('C/V^2', 'V', V1,V2);\n",
"W_23=p2*(V2-V3);\n",
"W_net=W_12-W_23;\n",
"disp('Net work done = ')\n",
"disp(W_net)\n",
"disp('Nm')"
   ]
   }
,
{
		   "cell_type": "markdown",
		   "metadata": {},
		   "source": [
			"## Example 2.2: 2.sce"
		   ]
		  },
  {
"cell_type": "code",
	   "execution_count": null,
	   "metadata": {
	    "collapsed": true
	   },
	   "outputs": [],
"source": [
"clc\n",
"d=0.1; //m\n",
"F=1000; //N\n",
"A=%pi/4*d^2; //m^2\n",
"P=F/A/10^3;\n",
"disp('Pressure on the piston=')\n",
"disp(P)\n",
"disp('kN/m^2')"
   ]
   }
,
{
		   "cell_type": "markdown",
		   "metadata": {},
		   "source": [
			"## Example 2.3: 3.sce"
		   ]
		  },
  {
"cell_type": "code",
	   "execution_count": null,
	   "metadata": {
	    "collapsed": true
	   },
	   "outputs": [],
"source": [
"clc\n",
"SG=0.9;\n",
"h=1.2; //m\n",
"g=9.81; //m/s^2\n",
"rho_w=1000; //kg/m^3\n",
"rho=SG*rho_w; //kg/m^3\n",
"P=rho*g*h/10^3;\n",
"disp('Gauge pressure P=')\n",
"disp(P)\n",
"disp('kN/m^2')"
   ]
   }
,
{
		   "cell_type": "markdown",
		   "metadata": {},
		   "source": [
			"## Example 2.4: 4.sce"
		   ]
		  },
  {
"cell_type": "code",
	   "execution_count": null,
	   "metadata": {
	    "collapsed": true
	   },
	   "outputs": [],
"source": [
"clc\n",
"Vacuum_recorded=740; //mm of Hg\n",
"Barometric_reading=760; //mm of Hg\n",
"\n",
"Absolute_pressure=(Barometric_reading-Vacuum_recorded)*133.4;\n",
"disp('Absolute pressure in the condenser=')\n",
"disp(Absolute_pressure)\n",
"disp('Pa')"
   ]
   }
,
{
		   "cell_type": "markdown",
		   "metadata": {},
		   "source": [
			"## Example 2.5: 5.sce"
		   ]
		  },
  {
"cell_type": "code",
	   "execution_count": null,
	   "metadata": {
	    "collapsed": true
	   },
	   "outputs": [],
"source": [
"clc\n",
"d=0.5; //m\n",
"h=0.75; //m\n",
"m=4; //kg\n",
"Manometer_reading=620; //mm of Hg above atmosphere\n",
"Barometer_reading=760; //mm of Hg\n",
"V=%pi/4*d^2*h; //m^3\n",
"disp('(i) Total pressure in the vessel')\n",
"\n",
"P=(Barometer_reading+Manometer_reading)*133.4/10^5; //bar\n",
"disp('P=')\n",
"disp(P)\n",
"disp('bar')\n",
"disp('(ii) Specific volume and density')\n",
"SV=V/m; \n",
"disp('Specific volume=')\n",
"disp(SV)\n",
"disp('m^3/kg')\n",
"D=m/V;\n",
"disp('Density=')\n",
"disp(D)\n",
"disp('kg/m^3')"
   ]
   }
,
{
		   "cell_type": "markdown",
		   "metadata": {},
		   "source": [
			"## Example 2.6: 6.sce"
		   ]
		  },
  {
"cell_type": "code",
	   "execution_count": null,
	   "metadata": {
	    "collapsed": true
	   },
	   "outputs": [],
"source": [
"clc\n",
"h0=.761; //m\n",
"h=.55; //m\n",
"g=9.79; //m/s^2\n",
"rho=13640; //kg/m^3\n",
"P=rho*g*(h0+h); //N/m^2\n",
"disp('Gas pressure=')\n",
"disp(P/10^5)\n",
"disp('bar')"
   ]
   }
,
{
		   "cell_type": "markdown",
		   "metadata": {},
		   "source": [
			"## Example 2.7: 7.sce"
		   ]
		  },
  {
"cell_type": "code",
	   "execution_count": null,
	   "metadata": {
	    "collapsed": true
	   },
	   "outputs": [],
"source": [
"clc\n",
"h_H2O=34; //mm of Hg\n",
"g=9.81; //m/s^2\n",
"rho=13600; //kg/m^3\n",
"P_Hg=97.5; //mm of Hg\n",
"P_atm=760; //mm of Hg\n",
"P_H2O=h_H2O/13.6; //mm of Hg\n",
"Pabs=rho*g*(P_Hg+P_atm-P_H2O)/10^8; //bar\n",
"disp('absolute pressure =')\n",
"disp(Pabs)\n",
"disp('bar')"
   ]
   }
,
{
		   "cell_type": "markdown",
		   "metadata": {},
		   "source": [
			"## Example 2.8: 8.sce"
		   ]
		  },
  {
"cell_type": "code",
	   "execution_count": null,
	   "metadata": {
	    "collapsed": true
	   },
	   "outputs": [],
"source": [
"clc\n",
"SG=0.8;\n",
"rho_H2O=1000; //kg/m^3\n",
"g=9.81; //ms^2\n",
"h=0.17; //m\n",
"Patm=1.01325; //bar\n",
"rho=SG*rho_H2O; //kg/m^3\n",
"P_liq=rho*g*h/10^5; //bar\n",
"P_gas=Patm - P_liq;\n",
"disp('gas pressure= ')\n",
"disp(P_gas)\n",
"disp('bar')"
   ]
   }
,
{
		   "cell_type": "markdown",
		   "metadata": {},
		   "source": [
			"## Example 2.9: 9.sce"
		   ]
		  },
  {
"cell_type": "code",
	   "execution_count": null,
	   "metadata": {
	    "collapsed": true
	   },
	   "outputs": [],
"source": [
"clc\n",
"d=0.2; //m\n",
"g=9.81; //m/s^2\n",
"h=0.117; //m\n",
"rho=13600; //kg/m^3\n",
"p=rho*g*h;\n",
"m=(p*%pi/4*d^2)/g;\n",
"disp('mass=')\n",
"disp(m)\n",
"disp('kg')"
   ]
   }
],
"metadata": {
		  "kernelspec": {
		   "display_name": "Scilab",
		   "language": "scilab",
		   "name": "scilab"
		  },
		  "language_info": {
		   "file_extension": ".sce",
		   "help_links": [
			{
			 "text": "MetaKernel Magics",
			 "url": "https://github.com/calysto/metakernel/blob/master/metakernel/magics/README.md"
			}
		   ],
		   "mimetype": "text/x-octave",
		   "name": "scilab",
		   "version": "0.7.1"
		  }
		 },
		 "nbformat": 4,
		 "nbformat_minor": 0
}
