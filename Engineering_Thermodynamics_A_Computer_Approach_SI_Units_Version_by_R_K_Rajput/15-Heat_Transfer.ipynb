{
"cells": [
 {
		   "cell_type": "markdown",
	   "metadata": {},
	   "source": [
       "# Chapter 15: Heat Transfer"
	   ]
	},
{
		   "cell_type": "markdown",
		   "metadata": {},
		   "source": [
			"## Example 15.10: 10.sce"
		   ]
		  },
  {
"cell_type": "code",
	   "execution_count": null,
	   "metadata": {
	    "collapsed": true
	   },
	   "outputs": [],
"source": [
"clc\n",
"r1=0.06; //m\n",
"r2=0.12; //m\n",
"r3=0.16; //m\n",
"k_A=0.24; //W/m 0C\n",
"k_B=0.4; //W/m 0C\n",
"h_hf=60; //W/m^2 0C\n",
"h_cf=12; //W/m^2 0C\n",
"t_hf=65; //0C\n",
"t_cf=20; //0C\n",
"L=60; //m\n",
"\n",
"Q=2*%pi*L*(t_hf-t_cf)/(1/h_hf/r1 + log(r2/r1)/k_A + log(r3/r2)/k_B + 1/h_cf/r3);\n",
"disp('Rate of heat loss =')\n",
"disp(Q)\n",
"disp('W')"
   ]
   }
,
{
		   "cell_type": "markdown",
		   "metadata": {},
		   "source": [
			"## Example 15.11: 11.sce"
		   ]
		  },
  {
"cell_type": "code",
	   "execution_count": null,
	   "metadata": {
	    "collapsed": true
	   },
	   "outputs": [],
"source": [
"clc\n",
"r1=0.06; //m\n",
"r2=0.08; //m\n",
"k_A=42; //W/m 0C\n",
"k_B=0.8; //W/m 0C\n",
"t_hf=150; //0C\n",
"t_cf=20; //0C\n",
"h_hf=100; //W/m^2 0C\n",
"h_cf=30; //W/m^2 0C\n",
"\n",
"//Q=2.1*2*%pi*r*L kW\n",
"//Q=0.989*L*10^3 W\n",
"\n",
"//Q=2*%pi*L*(t_hf-t_cf)/(1/h_hf/r1 + log(r2/r1)/k_A + log(r3/r2)/k_B + 1/h_cf/r3)\n",
"//By solving above equation, using hit and trial method we get \n",
"r3=0.105; //m\n",
"thickness=(r3-r2)*1000; //mm\n",
"disp('Thickness of insulation =')\n",
"disp(thickness)\n",
"disp('mm')"
   ]
   }
,
{
		   "cell_type": "markdown",
		   "metadata": {},
		   "source": [
			"## Example 15.1: 1.sce"
		   ]
		  },
  {
"cell_type": "code",
	   "execution_count": null,
	   "metadata": {
	    "collapsed": true
	   },
	   "outputs": [],
"source": [
"clc\n",
"t1=60; //0C\n",
"t2=35; //0C\n",
"L=0.22; //m\n",
"k=0.51; //W/m 0C\n",
"\n",
"q=k*(t1-t2)/L;\n",
"disp('Rate of heat transfer per m^2 =')\n",
"disp(q)\n",
"disp('W/m^2')"
   ]
   }
,
{
		   "cell_type": "markdown",
		   "metadata": {},
		   "source": [
			"## Example 15.12: 12.sce"
		   ]
		  },
  {
"cell_type": "code",
	   "execution_count": null,
	   "metadata": {
	    "collapsed": true
	   },
	   "outputs": [],
"source": [
"clc\n",
"r2=0.7; //m\n",
"r1=0.61; //m\n",
"dt=220; //dt=t1-t2; 0C\n",
"k=0.083; //W/m 0C\n",
"\n",
"Q=dt/((r2-r1)/(4*%pi*k*r1*r2));\n",
"disp('Rate of heat leakage =')\n",
"disp(Q)\n",
"disp('W')"
   ]
   }
,
{
		   "cell_type": "markdown",
		   "metadata": {},
		   "source": [
			"## Example 15.13: 13.sce"
		   ]
		  },
  {
"cell_type": "code",
	   "execution_count": null,
	   "metadata": {
	    "collapsed": true
	   },
	   "outputs": [],
"source": [
"clc\n",
"r1=0.001; //m\n",
"r2=0.0018; //m\n",
"k=0.12; //W/m 0C\n",
"h0=35; //W/m^2 0C\n",
"\n",
"rc=k/h0;\n",
"\n",
"thickness=(rc-r1)*10^3; //mm\n",
"disp('Critical thickness of insulation =')\n",
"disp(thickness)\n",
"disp('mm')\n",
"\n",
"//Percentage change in heat transfer rate :\n",
"//Case I : The heat flow through an insulated wire\n",
"\n",
"//Q1=2*%pi*L*(t1-tair)/(log(r2/r1)/k + 1/h0/r2)\n",
"\n",
"//Case II : The heat flow through an insulated wire when critical thickness is used is given\n",
"\n",
"//Q2=2*%pi*L*(t1-tair)/(log(rc/r1)/k + 1/h0/rc)\n",
"\n",
"//%increase=(Q2-Q1)/Q1*100\n",
"%increase=(1/(log(rc/r1)/k + 1/h0/rc)-1/(log(r2/r1)/k + 1/h0/r2))/(1/(log(r2/r1)/k + 1/h0/r2))*100;\n",
"disp('Percentage change in heat transfer rate =')\n",
"disp(%increase)\n",
"disp('%')"
   ]
   }
,
{
		   "cell_type": "markdown",
		   "metadata": {},
		   "source": [
			"## Example 15.14: 14.sce"
		   ]
		  },
  {
"cell_type": "code",
	   "execution_count": null,
	   "metadata": {
	    "collapsed": true
	   },
	   "outputs": [],
"source": [
"clc\n",
"A=1*1.5; //m^2\n",
"ts=300; //0C\n",
"tf=20; //0C\n",
"h=20; //W/m^2 0C\n",
"Q=h*A*(ts-tf)/10^3; //kW\n",
"disp('Rate of heat transfer =')\n",
"disp(Q)\n",
"disp('kW')"
   ]
   }
,
{
		   "cell_type": "markdown",
		   "metadata": {},
		   "source": [
			"## Example 15.15: 15.sce"
		   ]
		  },
  {
"cell_type": "code",
	   "execution_count": null,
	   "metadata": {
	    "collapsed": true
	   },
	   "outputs": [],
"source": [
"clc\n",
"d=0.0015; //m\n",
"l=0.15; //m\n",
"A=%pi*d*l;\n",
"ts=120; //0C\n",
"tf=100; //0C\n",
"h=4500; //W/m^2 0C\n",
"\n",
"Q=h*A*(ts-tf);\n",
"disp('Electric power to be supplied =')\n",
"disp(Q)\n",
"disp('W')"
   ]
   }
,
{
		   "cell_type": "markdown",
		   "metadata": {},
		   "source": [
			"## Example 15.16: 16.sce"
		   ]
		  },
  {
"cell_type": "code",
	   "execution_count": null,
	   "metadata": {
	    "collapsed": true
	   },
	   "outputs": [],
"source": [
"clc\n",
"D=0.045; //m\n",
"l=3.2; //m\n",
"u=0.78; //m/s\n",
"k=0.66; //W/m K\n",
"v=0.478*10^(-6); //m^2/s\n",
"Pr=2.98;\n",
"tw=70; //0C\n",
"tf=50; //0C\n",
"\n",
"A=%pi*D*l;\n",
"Re=D*u/v;\n",
"\n",
"h=0.023*(Re)^0.8*(Pr)^0.4/D*k;\n",
"disp('Heat transfer co-efficient =')\n",
"disp(h)\n",
"disp('W/m^2 K')\n",
"\n",
"Q=h*A*(tw-tf)/10^3;\n",
"disp('Rate of heat transfer =')\n",
"disp(Q)\n",
"disp('kW')"
   ]
   }
,
{
		   "cell_type": "markdown",
		   "metadata": {},
		   "source": [
			"## Example 15.17: 17.sce"
		   ]
		  },
  {
"cell_type": "code",
	   "execution_count": null,
	   "metadata": {
	    "collapsed": true
	   },
	   "outputs": [],
"source": [
"clc\n",
"rho=983.2; //kg/m^2\n",
"cp=4.187; //kJ/kg K\n",
"k=0.659; //W/m 0C\n",
"v=0.478*10^(-6); //m^2/s\n",
"m=0.5/60; //kg/s\n",
"D=0.02; //m\n",
"ti=20; //0C\n",
"t0=50; //0C\n",
"ts=85; //surface temperature in 0C\n",
"\n",
"tf=1/2*(ts+(ti+t0)/2);\n",
"A=%pi/4*D^2;\n",
"u=m/rho/A;\n",
"Re=D*u/v;\n",
"//Since Re < 2000, hence the flow is laminar.\n",
"\n",
"Nu=3.65;\n",
"h=Nu*k/D;\n",
"tb=(t0+ti)/2;\n",
"\n",
"L=m*cp*10^3*(t0-ti)/(ts-tb)/h/D/%pi;\n",
"disp('Length of the tube required for fully developed flow =')\n",
"disp(L)\n",
"disp('m')"
   ]
   }
,
{
		   "cell_type": "markdown",
		   "metadata": {},
		   "source": [
			"## Example 15.18: 18.sce"
		   ]
		  },
  {
"cell_type": "code",
	   "execution_count": null,
	   "metadata": {
	    "collapsed": true
	   },
	   "outputs": [],
"source": [
"clc\n",
"m_h=0.2; //kg/s\n",
"m_c=0.5; //kg/s\n",
"t_h1=75; //0C\n",
"t_h2=45; //0C\n",
"t_c1=20; //0C\n",
"hi=650; //W/m^2 0C\n",
"h0=hi;\n",
"cph=4.187;\n",
"cpc=cph;\n",
"\n",
"Q=m_h*cph*(t_h1-t_h2);\n",
"t_c2=m_h*cph/cpc*(t_h1-t_h2)/m_c+t_c1;\n",
"\n",
"theta=((t_h1-t_c1)- (t_h2-t_c2))/log((t_h1-t_c1)/(t_h2-t_c2)); //Logarithmic mean temperature difference\n",
"\n",
"U=hi*h0/(hi+h0);\n",
"A=Q*10^3/U/theta;\n",
"disp('The area of heat exchanger =')\n",
"disp(A)\n",
"disp('m^2')"
   ]
   }
,
{
		   "cell_type": "markdown",
		   "metadata": {},
		   "source": [
			"## Example 15.19: 19.sce"
		   ]
		  },
  {
"cell_type": "code",
	   "execution_count": null,
	   "metadata": {
	    "collapsed": true
	   },
	   "outputs": [],
"source": [
"clc\n",
"t_c1=25; //0C\n",
"t_c2=65; //0C\n",
"cph=1.45; //kJ/kg K\n",
"m_h=0.9; //kg/s\n",
"t_h1=230; //0C\n",
"t_h2=160; //0C\n",
"U=420; //W/m^2 0C\n",
"cpc=4.187; //kJ/kg K\n",
"\n",
"disp('(i) The rate of heat transfer =')\n",
"Q=m_h*cph*(t_h1-t_h2);\n",
"disp(Q)\n",
"disp('kJ/s')\n",
"\n",
"\n",
"disp('(ii) The mass flow rate of water =')\n",
"m_c=Q/cpc/(t_c2-t_c1);\n",
"disp(m_c)\n",
"disp('kg/s')\n",
"\n",
"\n",
"disp('(iii) The surface area of heat exchanger =')\n",
"LMTD=((t_h1-t_c2)- (t_h2-t_c1))/log((t_h1-t_c2)/(t_h2-t_c1)); //logarithmic mean temperature difference\n",
"A=Q*10^3/U/LMTD;\n",
"disp('A=')\n",
"disp(A)\n",
"disp('m^2')"
   ]
   }
,
{
		   "cell_type": "markdown",
		   "metadata": {},
		   "source": [
			"## Example 15.20: 20.sce"
		   ]
		  },
  {
"cell_type": "code",
	   "execution_count": null,
	   "metadata": {
	    "collapsed": true
	   },
	   "outputs": [],
"source": [
"clc\n",
"m_s=800/60; //kg/s\n",
"m_c=m_s;\n",
"m_g=1350/60; //kg/s\n",
"m_h=m_g;\n",
"t_h1=650; //0C\n",
"t_c1=180; //0C\n",
"t_c2=350; //0C\n",
"d=0.03; //m\n",
"L=3; //m\n",
"cph=1; //kJ/kg K\n",
"cpc=2.71; //kJ/kg K\n",
"h_g=250;\n",
"h_s=600;\n",
"\n",
"t_h2=t_h1-(m_c*cpc*(t_c2-t_c1)/cph/m_h);\n",
"U=h_g*h_s/(h_g+h_s);\n",
"Q=m_h*cph*10^3*(t_h1-t_h2);\n",
"theta=((t_h1-t_c2)- (t_h2-t_c1))/log((t_h1-t_c2)/(t_h2-t_c1)); //logarithmic mean temperature difference\n",
"//A=N*%pi*d*L\n",
"\n",
"N=Q/U/theta/(%pi*d*L);\n",
"disp('number of tubes required =')\n",
"disp(N)\n",
"disp('tubes')"
   ]
   }
,
{
		   "cell_type": "markdown",
		   "metadata": {},
		   "source": [
			"## Example 15.21: 21.sce"
		   ]
		  },
  {
"cell_type": "code",
	   "execution_count": null,
	   "metadata": {
	    "collapsed": true
	   },
	   "outputs": [],
"source": [
"clc\n",
"di=0.0296; //m\n",
"d0=0.0384; //m\n",
"U=4000; //W/m^2 0C\n",
"V=3; //m/s\n",
"t_c1=24; //0C\n",
"x=0.9;\n",
"ps=(760-660)/760*1.0133; //bar\n",
"t_h1=51; //0C\n",
"t_h2=51; //0C\n",
"h_fg=2592; //kJ/kg\n",
"t_c2=47; //0C\n",
"P=15; //MW\n",
"ssc=5; //specific steam consumption in kg/kWh\n",
"cpc=4.187; //kJ?kg K\n",
"rho=1000;\n",
"\n",
"m_s=P*10^3*ssc/60; //kg/min\n",
"\n",
"disp('(i) Mass of cooling water circulated per minute =')\n",
"m_w=m_s*x*h_fg/cpc/(t_c2-t_c1);\n",
"disp(m_w)\n",
"disp('kg/min')\n",
"\n",
"\n",
"disp('(ii) Condenser surface area')\n",
"Q=m_s*x*h_fg*10^3/60;\n",
"\n",
"theta=((t_h1-t_c1)- (t_h2-t_c2))/log((t_h1-t_c1)/(t_h2-t_c2)); //Logarithmic mean temperature difference\n",
"A=Q/U/theta;\n",
"disp(A)\n",
"disp('m^2')\n",
"\n",
"\n",
"disp('(iii) Number of tubes required per pass =')\n",
"Np=m_w/60*4/%pi/di^2/V/rho;\n",
"disp(Np)\n",
"\n",
"\n",
"disp('(iv) Tube length =')\n",
"L=A/%pi/d0/(2*Np);\n",
"disp(L)\n",
"disp('m')"
   ]
   }
,
{
		   "cell_type": "markdown",
		   "metadata": {},
		   "source": [
			"## Example 15.22: 22.sce"
		   ]
		  },
  {
"cell_type": "code",
	   "execution_count": null,
	   "metadata": {
	    "collapsed": true
	   },
	   "outputs": [],
"source": [
"clc\n",
"cp=4.187; //kJ/kg °C\n",
"u=0.596*10^(-3); //Ns/m^2\n",
"k=0.635; //W/m °C\n",
"Pr=3.93; \n",
"d=0.020; //m\n",
"l=2; //m\n",
"m_c=10; //kg/s\n",
"t_c1=17; ///°C\n",
"t_h1=100; //°C\n",
"t_h2=100; //°C\n",
"rho=1000;\n",
"N=200;\n",
"Np=N/l;\n",
"h0=10*10^3;\n",
"\n",
"V=m_c*4/%pi/d^2/rho/Np;\n",
"Re=rho*V*d/u;\n",
"hi=k/d*0.023*(Re)^0.8*(Pr)^0.33;\n",
"U=hi*h0/(hi+h0);\n",
"\n",
"//theta1=t_h1-t_c1;\n",
"// theta2=t_h2-t_c2;\n",
"//AMTD=(theta1+theta2)/2\n",
"//AMTD=91.5 - 0.5*t_c2\n",
"\n",
"t_c2=(U*%pi*d*l*N*91.5 + m_c*cp*10^3*t_c1)/(m_c*cp*10^3 + U*%pi*d*l*N*0.5);\n",
"disp('water exit temperature =')\n",
"disp(t_c2)\n",
"disp('°C')"
   ]
   }
,
{
		   "cell_type": "markdown",
		   "metadata": {},
		   "source": [
			"## Example 15.2: 2.sce"
		   ]
		  },
  {
"cell_type": "code",
	   "execution_count": null,
	   "metadata": {
	    "collapsed": true
	   },
	   "outputs": [],
"source": [
"clc\n",
"t1=1325; //0C\n",
"t2=1200; //0C\n",
"t3=25; //0C\n",
"L=0.32; //m\n",
"k_A=0.84; //W/m 0C\n",
"k_B=0.16; //W/m 0C\n",
"\n",
"//L_B=0.32-L_A\n",
"//(t1-t2)/(L_A/k_A)=(t1-t3)/((L_A/k_A + L_B/k_B)\n",
"\n",
"L_A=(t1-t2)*k_A/k_B*L/((t1-t3)-(t1-t2)*k_A/k_A+(t1-t2)*k_A/k_B); //m\n",
"disp('L_A=')\n",
"disp(L_A*1000)\n",
"disp('mm')\n",
"\n",
"L_B=0.32-L_A; //m\n",
"disp('L_B')\n",
"disp(L_B*1000)\n",
"disp('mm')\n",
"\n",
"\n",
"disp('(ii) Heat loss per unit area =')\n",
"q=(t1-t2)/L_A*k_A;\n",
"disp(q)\n",
"disp('W/m^2')\n",
"\n",
"\n",
"disp('If another layer of insulating material is added, the heat loss from the wall will reduce ;consequently the temperature drop across the fire brick lining will drop and the interface temperature t2 will rise. As the interface temperature is already fixed. Therefore, a satisfactory solutionwill not be available by adding layer of insulation.')"
   ]
   }
,
{
		   "cell_type": "markdown",
		   "metadata": {},
		   "source": [
			"## Example 15.23: 23.sce"
		   ]
		  },
  {
"cell_type": "code",
	   "execution_count": null,
	   "metadata": {
	    "collapsed": true
	   },
	   "outputs": [],
"source": [
"clc\n",
"A=0.12; //m^2\n",
"T=800; //K\n",
"a=5.67*10^(-8);\n",
"\n",
"disp('(i) The total rate of energy emission =')\n",
"Eb=a*A*T^4;\n",
"disp(Eb)\n",
"disp('W')\n",
"\n",
"\n",
"disp('(ii) The intensity of normal radiation =')\n",
"Ibn=a*T^4/%pi;\n",
"disp(Ibn)\n",
"disp('W/m^2.sr')\n",
"\n",
"\n",
"disp('(iii) The wavelength of maximum monochromatic emissive power =')\n",
"wavelength=2898/T;\n",
"disp(wavelength)\n",
"disp('μm')"
   ]
   }
,
{
		   "cell_type": "markdown",
		   "metadata": {},
		   "source": [
			"## Example 15.24: 24.sce"
		   ]
		  },
  {
"cell_type": "code",
	   "execution_count": null,
	   "metadata": {
	    "collapsed": true
	   },
	   "outputs": [],
"source": [
"clc\n",
"wavelength=0.49; //μm\n",
"a=5.67*10^(-8);\n",
"\n",
"disp('(i) The surface temperature of the sun')\n",
"T=2898/wavelength;\n",
"disp(T)\n",
"disp('K')\n",
"\n",
"\n",
"disp('(ii) The heat flux at the surface of the sun =')\n",
"E_sun=a*T^4;\n",
"disp(E_sun)\n",
"disp('W/m^2')"
   ]
   }
,
{
		   "cell_type": "markdown",
		   "metadata": {},
		   "source": [
			"## Example 15.25: 25.sce"
		   ]
		  },
  {
"cell_type": "code",
	   "execution_count": null,
	   "metadata": {
	    "collapsed": true
	   },
	   "outputs": [],
"source": [
"clc\n",
"T=2773; //K\n",
"lambda=1.2*10^(-6); //m\n",
"e=0.9;\n",
"a=5.67*10^(-8);\n",
"\n",
"disp('(i) Monochromatic emissive power at 1.2 μm length')\n",
"C1=0.3742*10^(-15); //W.m^4/m^2\n",
"C2=1.4388*10^(-4); //mK\n",
"E_lambda_b=C1*lambda^(-5)/(exp(C2/lambda/T)-1);\n",
"disp('E_lambda_b =')\n",
"disp(E_lambda_b)\n",
"disp('W/m^2')\n",
"\n",
"\n",
"disp('(ii) Wavelength at which the emission is maximum =')\n",
"lambda_max=2898/T;\n",
"disp(lambda_max)\n",
"disp('μm')\n",
"\n",
"\n",
"disp('(iii) Maximum emissive power =')\n",
"E_lambda_b_max=1.285*10^(-5)*T^5;\n",
"disp(E_lambda_b_max)\n",
"disp('W/m^2 per metre length')\n",
"\n",
"\n",
"disp('(iv) Total emissive power =')\n",
"Eb=a*T^4;\n",
"disp(Eb)\n",
"disp('W/m^2')\n",
"\n",
"\n",
"disp('(v) Total emissive power =')\n",
"E=e*a*T^4;\n",
"disp(E)\n",
"disp('W/m^2')"
   ]
   }
,
{
		   "cell_type": "markdown",
		   "metadata": {},
		   "source": [
			"## Example 15.26: 26.sce"
		   ]
		  },
  {
"cell_type": "code",
	   "execution_count": null,
	   "metadata": {
	    "collapsed": true
	   },
	   "outputs": [],
"source": [
"clc\n",
"T1=1273; //K\n",
"T2=773; //K\n",
"e1=0.42;\n",
"e2=0.72;\n",
"a=5.67*10^(-8);\n",
"\n",
"disp('(i) When the body is grey with ε1 = 0.42')\n",
"q=e1*a*(T1^4-T2^4)/10^3; //kW\n",
"disp('Heat loss per m2 by radiation =')\n",
"disp(q)\n",
"disp('kW')\n",
"\n",
"disp('(ii) When the body is not grey')\n",
"E_emitted=e1*a*T1^4;\n",
"E_absorbed=e2*a*(T2)^4;\n",
"\n",
"q=(E_emitted-E_absorbed)/10^3;\n",
"disp('Heat loss per m2 by radiation =')\n",
"disp(q)\n",
"disp('kW')"
   ]
   }
,
{
		   "cell_type": "markdown",
		   "metadata": {},
		   "source": [
			"## Example 15.27: 27.sce"
		   ]
		  },
  {
"cell_type": "code",
	   "execution_count": null,
	   "metadata": {
	    "collapsed": true
	   },
	   "outputs": [],
"source": [
"clc\n",
"d=0.022; //m\n",
"di=0.18; //m\n",
"e1=0.62;\n",
"e2=0.82;\n",
"rho=7845; //kg/m^3\n",
"T1a=693; //K; For caseI\n",
"T1b=813; //K; For caseII\n",
"T2=1373; //K\n",
"l=1; //m\n",
"a=5.67*10^(-8); \n",
"cp=0.67; //kJ/kg K\n",
"\n",
"A1=%pi*d*l;\n",
"A2=%pi*di*l;\n",
"\n",
"\n",
"Qi=A1*a*(T1a^4-T2^4)/(1/e1+A1/A2*(1/e2 - 1));\n",
"\n",
"Qe=A1*a*(T1b^4-T2^4)/(1/e1+A1/A2*(1/e2 - 1));\n",
"\n",
"Qav=-(Qi+Qe)/2;\n",
"\n",
"t_h=%pi/4*d^2*rho*cp*(T1b-T1a)*10^3/Qav;\n",
"disp('Time required for the heating operation')\n",
"disp(t_h)\n",
"disp('s')"
   ]
   }
,
{
		   "cell_type": "markdown",
		   "metadata": {},
		   "source": [
			"## Example 15.28: 28.sce"
		   ]
		  },
  {
"cell_type": "code",
	   "execution_count": null,
	   "metadata": {
	    "collapsed": true
	   },
	   "outputs": [],
"source": [
"clc\n",
"r1=0.05; //m\n",
"r2=0.1; //m\n",
"T1=400; //K\n",
"T2=300; //K\n",
"e1=0.5;\n",
"e2=0.5;\n",
"F_12=1;\n",
"a=5.67*10^(-8);\n",
"//A1/A2=r1/r2\n",
"\n",
"Q=a*(T1^4-T2^4)/((1-e1)/e1+1/F_12+(1-e2)/e2*r1/r2);\n",
"disp('heat transfer rate per m2 area by radiation')\n",
"disp(Q)\n",
"disp('W/m^2')"
   ]
   }
,
{
		   "cell_type": "markdown",
		   "metadata": {},
		   "source": [
			"## Example 15.29: 29.sce"
		   ]
		  },
  {
"cell_type": "code",
	   "execution_count": null,
	   "metadata": {
	    "collapsed": true
	   },
	   "outputs": [],
"source": [
"clc\n",
"r1=0.05; //m\n",
"r2=0.1; //m\n",
"r3=0.15; //m\n",
"T1=1000; //K\n",
"T3=500; //K\n",
"e1=0.05;\n",
"e2=e1;\n",
"e3=e1;\n",
"a=5.67*10^(-8);\n",
"\n",
"F_12=1;\n",
"F_23=1;\n",
"\n",
"// A1*a*(T1^4-T2^4)/(((1-e1)/e1) + 1/F_12 + ((1-e2)/e2)*A1/A2) = A2*a*(T2^4-T3^4)/(((1-e2)/e2) + 1/F_23 + ((1-e3)/e3)*A2/A3)\n",
"\n",
"// A1/A2=r1/r2=5/10=0.5\n",
"// A2/A3=r2/r3=10/15=0.67\n",
"\n",
"//Solving this we get \n",
"T2=770; //K\n",
"\n",
"Q1=a*(T1^4-T2^4)/(((1-e1)/e1) + 1/F_12 + ((1-e2)/e2)*r1/r2);\n",
"disp('Heat flow per m2 area of cylinder 1 =')\n",
"disp(Q1)\n",
"disp('W')"
   ]
   }
,
{
		   "cell_type": "markdown",
		   "metadata": {},
		   "source": [
			"## Example 15.30: 30.sce"
		   ]
		  },
  {
"cell_type": "code",
	   "execution_count": null,
	   "metadata": {
	    "collapsed": true
	   },
	   "outputs": [],
"source": [
"clc\n",
"r1=0.105; //m\n",
"r2=0.15; //m\n",
"T1=120; //K\n",
"T2=300; //K\n",
"e1=0.03;\n",
"e2=0.03;\n",
"h_fg=209.35; //kJ/kg\n",
"a=5.67*10^(-8);\n",
"F_12=1;\n",
"\n",
"Q=4*%pi*r1^2*a*(T1^4-T2^4)/( ((1-e1)/e1) + 1/F_12 + ((1-e2)/e2)*r1^2/r2^2);\n",
"\n",
"rate=-Q*3600/h_fg/1000;\n",
"disp('Rate of evaporation = ')\n",
"disp(rate)\n",
"disp('kg/h')"
   ]
   }
,
{
		   "cell_type": "markdown",
		   "metadata": {},
		   "source": [
			"## Example 15.31: 31.sce"
		   ]
		  },
  {
"cell_type": "code",
	   "execution_count": null,
	   "metadata": {
	    "collapsed": true
	   },
	   "outputs": [],
"source": [
"clc\n",
"T1=91; //K\n",
"T2=303; //K\n",
"e1=0.03;\n",
"e2=0.03;\n",
"d1=0.3; //m\n",
"d2=0.45; //m\n",
"a=5.67*10^(-8);\n",
"F_12=1;\n",
"\n",
"Q=4*%pi*(d1/2)^2*a*(T1^4-T2^4)/( ((1-e1)/e1) + 1/F_12 + ((1-e2)/e2)*d1^2/d2^2);\n",
"disp('Rate of heat flow =')\n",
"disp(Q)\n",
"disp('W')"
   ]
   }
,
{
		   "cell_type": "markdown",
		   "metadata": {},
		   "source": [
			"## Example 15.32: 32.sce"
		   ]
		  },
  {
"cell_type": "code",
	   "execution_count": null,
	   "metadata": {
	    "collapsed": true
	   },
	   "outputs": [],
"source": [
"clc\n",
"e1=0.3;\n",
"e2=0.8;\n",
"e3=0.04;\n",
"A1=1; //m^2\n",
"A2=A1;\n",
"A3=A1;\n",
"// (E_b1 - E_b3)/[(1-e1)/e1+1+(1-e3)/e3]=(E_b3 - E_b2)/[(1-e3)/e3+1+(1-e2)/e2]\n",
"// a*(T1^4-T3^4)/(1/e1+1/e3-1)=a*(T3^4-T2^4)/(1/e3+1/e2-1)\n",
"// T3^4=0.48*(T1^4+1.08*T2^4)\n",
"// Q12=a*(T1^4-T2^4)/(1/e1+1/e2-1)\n",
"// Q13=a*(T1^4-T3^4)/(1/e1+1/e3-1)\n",
"// %reduction=(Q_12-Q13)/Q12;\n",
"%reduction=1-0.131*0.52;\n",
"disp('Percentage reduction in heat flow due to shield =')\n",
"disp(%reduction)\n",
"disp('%')"
   ]
   }
,
{
		   "cell_type": "markdown",
		   "metadata": {},
		   "source": [
			"## Example 15.3: 3.sce"
		   ]
		  },
  {
"cell_type": "code",
	   "execution_count": null,
	   "metadata": {
	    "collapsed": true
	   },
	   "outputs": [],
"source": [
"clc\n",
"L_A=0.1; //m\n",
"L_B=0.04; //m\n",
"k_A=0.7; //W/m 0C\n",
"k_B=0.48; //W/m 0C\n",
"k_C=0.065; //W/m 0C\n",
"\n",
"//Q2=0.2*Q1\n",
"L_C=0.8*[(L_A/k_A) + (L_B/k_B)]*k_C/0.2;\n",
"disp('thickness of rock wool insulation =')\n",
"disp(L_C*1000)\n",
"disp('mm')"
   ]
   }
,
{
		   "cell_type": "markdown",
		   "metadata": {},
		   "source": [
			"## Example 15.4: 4.sce"
		   ]
		  },
  {
"cell_type": "code",
	   "execution_count": null,
	   "metadata": {
	    "collapsed": true
	   },
	   "outputs": [],
"source": [
"clc\n",
"L_A=0.2; //m\n",
"L_C=0.006; //m\n",
"L_D=0.1; //m\n",
"t1=1150; //0C\n",
"t2=40; //0C\n",
"dt=t1-t2;\n",
"k_A=1.52; //W/m 0C\n",
"k_B=0.138; //W/m 0C\n",
"k_D=0.138; //W/m 0C\n",
"k_C=45; //W/m 0C\n",
"q=400; //W/m^2\n",
"\n",
"disp('(i) The value of x = (L_C) ')\n",
"L_B=((t1-t2)/q - (L_A/k_A+L_C/k_C+L_D/k_D))*k_B*1000;\n",
"disp('L_B =')\n",
"disp(L_B)\n",
"disp('mm')\n",
"\n",
"\n",
"disp('(ii) Temperature of the outer surface of the steel plate t_so =')\n",
"t_so=q*L_D/k_D + t2;\n",
"disp(t_so)\n",
"disp('0C')"
   ]
   }
,
{
		   "cell_type": "markdown",
		   "metadata": {},
		   "source": [
			"## Example 15.5: 5.sce"
		   ]
		  },
  {
"cell_type": "code",
	   "execution_count": null,
	   "metadata": {
	    "collapsed": true
	   },
	   "outputs": [],
"source": [
"clc\n",
"k_A=150; //W/m 0C\n",
"k_B=30; //W/m 0C\n",
"k_C=65; //W/m 0C\n",
"k_D=50; //W/m 0C\n",
"\n",
"L_A=0.03; //m\n",
"L_B=0.08; //m\n",
"L_C=L_B;\n",
"L_D=0.05; //m\n",
"\n",
"A_A=0.01; //m^2\n",
"A_B=0.003; //m^2\n",
"A_C=0.007; //m^2\n",
"A_D=0.01; //m^2\n",
"\n",
"t1=400; //0C\n",
"t4=60; //0C\n",
"\n",
"R_thA=L_A/k_A/A_A;\n",
"R_thB=L_B/k_B/A_B;\n",
"R_thC=L_C/k_C/A_C;\n",
"R_thD=L_D/k_D/A_D;\n",
"\n",
"R_th_eq=R_thB*R_thC/(R_thB+R_thC);\n",
"R_th_total=R_thA+R_th_eq+R_thD;\n",
"\n",
"Q=(t1-t4)/R_th_total;\n",
"disp('Q=')\n",
"disp(Q)\n",
"disp('W')"
   ]
   }
,
{
		   "cell_type": "markdown",
		   "metadata": {},
		   "source": [
			"## Example 15.6: 6.sce"
		   ]
		  },
  {
"cell_type": "code",
	   "execution_count": null,
	   "metadata": {
	    "collapsed": true
	   },
	   "outputs": [],
"source": [
"clc\n",
"L=0.012; //m\n",
"t_hf=95; //0C\n",
"t_cf=15; //0C\n",
"k=50; //W/m 0C\n",
"h_hf=2850; //W/m^2 0C\n",
"h_cf=10; //W/m^2 0C\n",
"\n",
"disp('(i) Rate of heat loss per m^2 of the tank surface area')\n",
"U=1/(1/h_hf + L/k + 1/h_cf);\n",
"A=1; //m^2\n",
"q=U*A*(t_hf-t_cf);\n",
"disp('q=')\n",
"disp(q)\n",
"disp('W/m^2')\n",
"\n",
"\n",
"disp('(ii) Temperature of the outside surface of the tank =')\n",
"t2=q/h_cf+t_cf;\n",
"disp(t2)\n",
"disp('0C')"
   ]
   }
,
{
		   "cell_type": "markdown",
		   "metadata": {},
		   "source": [
			"## Example 15.7: 7.sce"
		   ]
		  },
  {
"cell_type": "code",
	   "execution_count": null,
	   "metadata": {
	    "collapsed": true
	   },
	   "outputs": [],
"source": [
"clc\n",
"L_A=0.003; //m\n",
"L_B=0.05; //m\n",
"L_C=L_A;\n",
"\n",
"k_A=46.5; //W/m 0C\n",
"k_B=0.046; //W/m 0C\n",
"k_C=k_A;\n",
"h0=11.6; //W/m^2 0C\n",
"hi=14.5; //W/m^2 0C\n",
"t0=25; //0C\n",
"ti=6; //0C\n",
"\n",
"A=0.5*0.5*2+0.5*1*4; //m^2\n",
"\n",
"disp('(i) The rate of removal of heat =')\n",
"Q=A*(t0-ti)/(1/h0 + L_A/k_A + L_B/k_B + L_C/k_C + 1/hi);\n",
"disp(Q)\n",
"disp('W')\n",
"\n",
"\n",
"disp('(ii) The temperature at the outer surface of the metal sheet =')\n",
"t1=t0-Q/h0/A;\n",
"disp(t1)\n",
"disp('0C')"
   ]
   }
,
{
		   "cell_type": "markdown",
		   "metadata": {},
		   "source": [
			"## Example 15.8: 8.sce"
		   ]
		  },
  {
"cell_type": "code",
	   "execution_count": null,
	   "metadata": {
	    "collapsed": true
	   },
	   "outputs": [],
"source": [
"clc\n",
"L_A=0.25; //m\n",
"L_B=0.1; //m\n",
"L_C=0.15; //m\n",
"k_A=1.65; //W/m °C\n",
"k_C=9.2; //W/m °C\n",
"t_hf=1250; //°C\n",
"t1=1100; //°C\n",
"t_cf=25; //°C\n",
"h_hf=25; //W/m^2 °C\n",
"h_cf=12; //W/m^2 °C\n",
"\n",
"disp('(i) Thermal conductivity =')\n",
"q=h_hf*(t_hf-t1);\n",
"\n",
"k_B=L_B/((t_hf-t_cf)/q-1/h_hf-L_A/k_A-L_C/k_C-1/h_cf);\n",
"disp(' Thermal conductivity,k=')\n",
"disp(k_B)\n",
"disp('W/m^2 °C')\n",
"\n",
"\n",
"disp('(ii) The overall transfer coefficient =')\n",
"R_th_total=1/h_hf+L_A/k_A+L_B/k_B+L_C/k_C+1/h_cf;\n",
"U=1/R_th_total;\n",
"disp(U)\n",
"disp('W/m^2 °C')\n",
"\n",
"\n",
"disp('(iii) All surface temperature ')\n",
"\n",
"disp('t1=')\n",
"disp(t1)\n",
"disp('°C')\n",
"\n",
"t2=t1-q*L_A/k_A;\n",
"disp('t2=')\n",
"disp(t2)\n",
"disp('°C')\n",
"\n",
"t3=t2-q*L_B/k_B;\n",
"disp('t3=')\n",
"disp(t3)\n",
"disp('°C')\n",
"\n",
"t4=t3-q*L_C/k_C;\n",
"disp('t4=')\n",
"disp(t4)\n",
"disp('°C')"
   ]
   }
,
{
		   "cell_type": "markdown",
		   "metadata": {},
		   "source": [
			"## Example 15.9: 9.sce"
		   ]
		  },
  {
"cell_type": "code",
	   "execution_count": null,
	   "metadata": {
	    "collapsed": true
	   },
	   "outputs": [],
"source": [
"clc\n",
"r1=0.01; //m\n",
"r2=0.02; //m\n",
"r3=0.05; //m\n",
"t1=600; //0C\n",
"t3=1000; //0C\n",
"k_B=0.2; //W/m 0C\n",
"\n",
"q=2*%pi*(t1-t3)/(log(r3/r2)/k_B);\n",
"disp('Heat transfer per metre of length =')\n",
"disp(q)\n",
"disp('W/m')"
   ]
   }
],
"metadata": {
		  "kernelspec": {
		   "display_name": "Scilab",
		   "language": "scilab",
		   "name": "scilab"
		  },
		  "language_info": {
		   "file_extension": ".sce",
		   "help_links": [
			{
			 "text": "MetaKernel Magics",
			 "url": "https://github.com/calysto/metakernel/blob/master/metakernel/magics/README.md"
			}
		   ],
		   "mimetype": "text/x-octave",
		   "name": "scilab",
		   "version": "0.7.1"
		  }
		 },
		 "nbformat": 4,
		 "nbformat_minor": 0
}
