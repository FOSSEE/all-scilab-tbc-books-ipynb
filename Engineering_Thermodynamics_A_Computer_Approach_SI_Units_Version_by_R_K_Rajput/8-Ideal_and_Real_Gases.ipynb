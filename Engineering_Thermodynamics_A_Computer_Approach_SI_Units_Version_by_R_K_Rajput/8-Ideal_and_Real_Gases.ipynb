{
"cells": [
 {
		   "cell_type": "markdown",
	   "metadata": {},
	   "source": [
       "# Chapter 8: Ideal and Real Gases"
	   ]
	},
{
		   "cell_type": "markdown",
		   "metadata": {},
		   "source": [
			"## Example 8.10: 10.sce"
		   ]
		  },
  {
"cell_type": "code",
	   "execution_count": null,
	   "metadata": {
	    "collapsed": true
	   },
	   "outputs": [],
"source": [
"clc\n",
"V=3; //m^3\n",
"m=10; //kg\n",
"T=300; //K\n",
"\n",
"disp('(i) Using perfect gas equation')\n",
"R0=8314;\n",
"M=44; \n",
"R=R0/M;\n",
"p=m*R*T/V;\n",
"disp('Pressure Using perfect gas equation =')\n",
"disp(p)\n",
"disp('N/m^2')\n",
"\n",
"\n",
"disp('(ii) Using Van der Waals’ equation')\n",
"a=362850; //Nm^4/(kg-mol)^2\n",
"b=0.0423; //m^3/(kg-mol)\n",
"v=13.2; //m^3/kg-mol\n",
"\n",
"p=R0*T/(v-b) - a/v^2;\n",
"disp('Pressure Using Van der Waals’ equation=')\n",
"disp(p)\n",
"disp('N/m^2')\n",
"\n",
"\n",
"disp('(iii) Using Beattie Bridgeman equation')\n",
"\n",
"A0=507.2836;\n",
"a=0.07132;\n",
"B0=0.10476;\n",
"b=0.07235;\n",
"C=66*10^4;\n",
"A=A0*(1-a/v);\n",
"B=B0*(1-b/v);\n",
"e=C/v/T^3;\n",
"\n",
"p=R0*T*(1-e)/v^2*(v+B) - A/v^2;\n",
"disp('Pressure Using Beattie Bridgeman equation = ')\n",
"disp(p)\n",
"disp('N/m^2')"
   ]
   }
,
{
		   "cell_type": "markdown",
		   "metadata": {},
		   "source": [
			"## Example 8.11: 11.sce"
		   ]
		  },
  {
"cell_type": "code",
	   "execution_count": null,
	   "metadata": {
	    "collapsed": true
	   },
	   "outputs": [],
"source": [
"clc\n",
"a=139250; //Nm^4/(kg-mol)^2\n",
"b=0.0314; //m^3/kg-mol\n",
"R0=8314; //Nm/kg-mol K\n",
"v1=0.2*32; //m^3/kg-mol\n",
"v2=0.08*32; //m^3/kg-mol\n",
"T=333; //K\n",
"disp('(i) Work done during the process')\n",
"W=integrate('R0*T/(v-b) - a/v^2', 'v', v1, v2);\n",
"disp('W=')\n",
"disp(W)\n",
"disp('Nm/kg-mol')\n",
"\n",
"\n",
"disp('(ii) The final pressure')\n",
"p2=R0*T/(v2-b) - a/v2^2;\n",
"disp('p2=')\n",
"disp(p2)\n",
"disp('N/m^2')"
   ]
   }
,
{
		   "cell_type": "markdown",
		   "metadata": {},
		   "source": [
			"## Example 8.1: 1.sce"
		   ]
		  },
  {
"cell_type": "code",
	   "execution_count": null,
	   "metadata": {
	    "collapsed": true
	   },
	   "outputs": [],
"source": [
"clc\n",
"R=287; //J/kg K\n",
"V1=40; //m^3\n",
"V2=40; //m^3\n",
"p1=1*10^5; //Pa\n",
"p2=0.4*10^5; //Pa\n",
"T1=298; //K\n",
"T2=278; //K\n",
"\n",
"m1=p1*V1/R/T1;\n",
"m2=p2*V2/R/T2;\n",
"\n",
"//Let mass of air removed be m\n",
"m=m1-m2;\n",
"disp('Mass of air removed =')\n",
"disp(m)\n",
"disp('kg')\n",
"\n",
"V=m*R*T1/p1;\n",
"disp('Volume of gas removed =')\n",
"disp(V)\n",
"disp('m^3')"
   ]
   }
,
{
		   "cell_type": "markdown",
		   "metadata": {},
		   "source": [
			"## Example 8.12: 12.sce"
		   ]
		  },
  {
"cell_type": "code",
	   "execution_count": null,
	   "metadata": {
	    "collapsed": true
	   },
	   "outputs": [],
"source": [
"clc\n",
"pr=20;\n",
"Z=1.25;\n",
"Tr=8.0;\n",
"Tc=282.4; //K\n",
"\n",
"T=Tc*Tr;\n",
"disp('Temperature =')\n",
"disp(T)\n",
"disp('K')"
   ]
   }
,
{
		   "cell_type": "markdown",
		   "metadata": {},
		   "source": [
			"## Example 8.13: 13.sce"
		   ]
		  },
  {
"cell_type": "code",
	   "execution_count": null,
	   "metadata": {
	    "collapsed": true
	   },
	   "outputs": [],
"source": [
"clc\n",
"p=260*10^5; //Pa\n",
"T=288; //K\n",
"pc=33.94*10^5; //Pa\n",
"Tc=126.2; //K\n",
"R=8314/28;\n",
"\n",
"pr=p/pc;\n",
"Tr=T/Tc;\n",
"Z=1.08;\n",
"\n",
"rho=p/Z/R/T;\n",
"disp('Density of N2=')\n",
"disp(rho)\n",
"disp('kg/m^3')"
   ]
   }
,
{
		   "cell_type": "markdown",
		   "metadata": {},
		   "source": [
			"## Example 8.14: 14.sce"
		   ]
		  },
  {
"cell_type": "code",
	   "execution_count": null,
	   "metadata": {
	    "collapsed": true
	   },
	   "outputs": [],
"source": [
"clc\n",
"p=200*10^5; //Pa\n",
"pc=73.86*10^5; //Pa\n",
"Tc=304.2; //K\n",
"pr=p/pc;\n",
"Z=1;\n",
"Tr=2.48;\n",
"\n",
"T=Tr*Tc;\n",
"disp('Temperature =')\n",
"disp(T)\n",
"disp('K')"
   ]
   }
,
{
		   "cell_type": "markdown",
		   "metadata": {},
		   "source": [
			"## Example 8.15: 15.sce"
		   ]
		  },
  {
"cell_type": "code",
	   "execution_count": null,
	   "metadata": {
	    "collapsed": true
	   },
	   "outputs": [],
"source": [
"clc\n",
"d=12; //m; diameter of spherical balloon\n",
"V=4/3*%pi*(d/2)^3;\n",
"T=303; //K\n",
"p=1.21*10^5; //Pa\n",
"pc=12.97*10^5; //Pa\n",
"Tc=33.3; //K\n",
"R=8314/2;\n",
"\n",
"pr=p/pc;\n",
"Tr=T/Tc;\n",
"Z=1;\n",
"\n",
"m=p*V/Z/R/T;\n",
"disp('Mass of H2 in the balloon =')\n",
"disp(m)\n",
"disp('kg')"
   ]
   }
,
{
		   "cell_type": "markdown",
		   "metadata": {},
		   "source": [
			"## Example 8.16: 16.sce"
		   ]
		  },
  {
"cell_type": "code",
	   "execution_count": null,
	   "metadata": {
	    "collapsed": true
	   },
	   "outputs": [],
"source": [
"clc\n",
"\n",
"// dp_c/dv=0\n",
"// d^2 p/dv^2=0\n",
"\n",
"// p_cp=R0*T_cp/(v_cp-b) - a/v_cp^2\n",
"\n",
"// As T_cp is constant \n",
"// dp_cp/dv_cp=(-R0*T_cp)/(v_cp-b)^2 + 2*a/v_cp^3 = 0\n",
"\n",
"// d^2 p_cp/dv_cp=2*R0*T_cp/(v_cp-b)^3 - 6*a/v_cp^4 = 0\n",
"\n",
"// Solving these we get v_cp=3*b;\n",
"// 2*a/v_cp^3 - R0*T_cp/[v_cp-1/3*v_cp]^2\n",
"\n",
"//a=9/8*R0*T_cp*v_cp\n",
"\n",
"//Z_cp=p_cp*v_cp/R0/T_cp\n",
"\n",
"Z_cp=3/2-9/8;\n",
"\n",
"disp('Z_cp=')\n",
"disp(Z_cp)"
   ]
   }
,
{
		   "cell_type": "markdown",
		   "metadata": {},
		   "source": [
			"## Example 8.2: 2.sce"
		   ]
		  },
  {
"cell_type": "code",
	   "execution_count": null,
	   "metadata": {
	    "collapsed": true
	   },
	   "outputs": [],
"source": [
"clc\n",
"V=0.04; //m^3\n",
"p=120*10^5; //Pa\n",
"T=293; //K\n",
"R0=8314; \n",
"\n",
"disp('(i) kg of nitrogen the flask can hold')\n",
"M=28; //molecular weight of Nitrogen\n",
"R=R0/M;\n",
"\n",
"m=p*V/R/T;\n",
"disp('kg of nitrogen=')\n",
"disp(m)\n",
"disp('kg')\n",
"\n",
"\n",
"disp('(ii) Temperature at which fusible plug should melt')\n",
"p=150*10^5; //Pa\n",
"\n",
"T=p*V/R/m; //K\n",
"t=T-273; //0C\n",
"disp('Temperature =')\n",
"disp(t)\n",
"disp('°C')"
   ]
   }
,
{
		   "cell_type": "markdown",
		   "metadata": {},
		   "source": [
			"## Example 8.3: 3.sce"
		   ]
		  },
  {
"cell_type": "code",
	   "execution_count": null,
	   "metadata": {
	    "collapsed": true
	   },
	   "outputs": [],
"source": [
"clc\n",
"p1=1*10^5; //Pa\n",
"T1=293; //K\n",
"d=6; //m; diameter of the spherical balloon\n",
"p2=0.94*p1;\n",
"T2=T1;\n",
"cv=10400; //J/kg K\n",
"R=8314/2;\n",
"r=3; //m\n",
"\n",
"disp('(i) Mass of original gas escaped')\n",
"\n",
"//dm=m1-m2\n",
"//dm=(p1-p2)*V1/R/T1\n",
"//m1=p1*V1/R/T1\n",
"\n",
"%mass_escaped=(p1-p2)/p1*100;\n",
"disp('%mass_escaped =')\n",
"disp(%mass_escaped)\n",
"disp('%')\n",
"\n",
"disp('(ii)Amount of heat to be removed ')\n",
"T2=0.94*T1;\n",
"m=p1*4/3*%pi*r^3/R/T1;\n",
"\n",
"Q=m*cv*(T1-T2)/10^6;\n",
"disp('Q =')\n",
"disp(Q)\n",
"disp('MJ')"
   ]
   }
,
{
		   "cell_type": "markdown",
		   "metadata": {},
		   "source": [
			"## Example 8.4: 4.sce"
		   ]
		  },
  {
"cell_type": "code",
	   "execution_count": null,
	   "metadata": {
	    "collapsed": true
	   },
	   "outputs": [],
"source": [
"clc\n",
"m=28; //kg\n",
"V1=3; //m^3\n",
"T1=363; //K\n",
"R0=8314;\n",
"M=28; //Molecular mass of N2\n",
"R=R0/m;\n",
"V2=V1;\n",
"T2=293; //K\n",
"\n",
"disp('(i) Pressure (p1) and specific volume (v1) of the gas')\n",
"\n",
"p1=m*R*T1/V1/10^5; //bar\n",
"disp('Pressure =')\n",
"disp(p1)\n",
"disp('bar')\n",
"\n",
"v1=V1/m;\n",
"disp('specific volume=')\n",
"disp(v1)\n",
"disp('m^3/kg')\n",
"\n",
"\n",
"disp('(ii) cp = ?, cv = ?')\n",
"//cp-cv=R/1000;\n",
"//cp-1.4cv=0;\n",
"//solving the above two eqns \n",
"A=[1,-1;1,-1.4];\n",
"B=[R/1000;0];\n",
"X=inv(A)*B;\n",
"\n",
"cp=X(1,1);\n",
"disp('cp=')\n",
"disp(cp)\n",
"disp('kJ/kg K')\n",
"\n",
"cv=X(2,1);\n",
"disp('cv=')\n",
"disp(cv)\n",
"disp('kJ/kg K')\n",
"\n",
"\n",
"disp('(iii) Final pressure of the gas after cooling to 20°C')\n",
"p2=p1*T2/T1;\n",
"disp('p2=')\n",
"disp(p2)\n",
"disp('bar')\n",
"\n",
"\n",
"disp('(iv) du, dh, s, Q')\n",
"\n",
"du=cv*(T2-T1);\n",
"disp('Increase in specific internal energy=')\n",
"disp(du)\n",
"disp('kJ/kg')\n",
"\n",
"dh=cp*(T2-T1);\n",
"disp('Increase in specific Enthalpy =')\n",
"disp(dh)\n",
"disp('kJ/kg')\n",
"\n",
"v2=v1;\n",
"ds=cv*log(T2/T1) + R*log(v2/v1);\n",
"disp('Increase in specific entropy =')\n",
"disp(ds)\n",
"disp('kJ/kg K')\n",
"\n",
"W=0; //constant volume process\n",
"Q=m*du+W;\n",
"disp('Heat transfer =')\n",
"disp(Q)\n",
"disp('kJ')"
   ]
   }
,
{
		   "cell_type": "markdown",
		   "metadata": {},
		   "source": [
			"## Example 8.5: 5.sce"
		   ]
		  },
  {
"cell_type": "code",
	   "execution_count": null,
	   "metadata": {
	    "collapsed": true
	   },
	   "outputs": [],
"source": [
"clc\n",
"\n",
"disp('Part (a)')\n",
"\n",
"R=0.287; //kJ/kg K\n",
"y=1.4;\n",
"m1=1; //kg\n",
"p1=8*10^5; //Pa\n",
"T1=373; //K\n",
"p2=1.8*10^5; //Pa\n",
"cv=0.717; //kJ/kg K\n",
"n=1.2;\n",
"//pv^1.2 = constant\n",
"\n",
"disp('(i) The final specific volume, temperature and increase in entropy')\n",
"\n",
"v1=R*10^3*T1/p1;\n",
"v2=v1*(p1/p2)^(1/n);\n",
"disp('v2=')\n",
"disp(v2)\n",
"disp('m^3/kg')\n",
"\n",
"T2=p2*v2/R/10^3; //K\n",
"t2=T2-273; //0C\n",
"disp('Final temperature =')\n",
"disp(t2)\n",
"disp('0C')\n",
"\n",
"ds=cv*log(T2/T1) + R*log(v2/v1);\n",
"disp('ds=')\n",
"disp(ds)\n",
"disp('kJ/kg K')\n",
"\n",
"\n",
"disp('(ii) Work done and heat transfer')\n",
"\n",
"W=R*(T1-T2)/(n-1);\n",
"disp('Work done=')\n",
"disp(W)\n",
"disp('kJ/kg')\n",
"\n",
"Q=cv*(T2-T1) + W;\n",
"disp('Heat transfer=')\n",
"disp(Q)\n",
"disp('kJ/kg')\n",
"\n",
"\n",
"disp('Part (b)')\n",
"\n",
"disp('(i) Though the process is assumed now to be irreversible and adiabatic, the end states are given to be the same as in (a). Therefore, all the properties at the end of the process are the same as in (a).')\n",
"\n",
"\n",
"disp('(ii) Adiabatic process')\n",
"Q=0;\n",
"disp('Heat transfer=')\n",
"disp(Q)\n",
"disp('kJ/kg')\n",
"\n",
"W=-cv*(T2-T1);\n",
"disp('Work done=')\n",
"disp(W)\n",
"disp('kJ/kg')"
   ]
   }
,
{
		   "cell_type": "markdown",
		   "metadata": {},
		   "source": [
			"## Example 8.6: 6.sce"
		   ]
		  },
  {
"cell_type": "code",
	   "execution_count": null,
	   "metadata": {
	    "collapsed": true
	   },
	   "outputs": [],
"source": [
"clc\n",
"d=2.5; //m; diameter\n",
"V1=4/3*%pi*(d/2)^3; //volume of each sphere\n",
"T1=298; //K\n",
"T2=298; //K\n",
"m1=16; //kg\n",
"m2=8; //kg\n",
"V=2*V1; //total volume\n",
"m=m1+m2;\n",
"R=287; //kJ/kg K\n",
"\n",
"p=m*R*T1/V/10^5; //bar\n",
"disp('pressure in the spheres when the system attains equilibrium=')\n",
"disp(p)\n",
"disp('bar')"
   ]
   }
,
{
		   "cell_type": "markdown",
		   "metadata": {},
		   "source": [
			"## Example 8.7: 7.sce"
		   ]
		  },
  {
"cell_type": "code",
	   "execution_count": null,
	   "metadata": {
	    "collapsed": true
	   },
	   "outputs": [],
"source": [
"clc\n",
"m=6.5/60; //kg/s\n",
"cv=0.837; //kJ/kg K\n",
"p1=10*10^5; //Pa\n",
"p2=1.05*10^5; //Pa\n",
"T1=453; //K\n",
"R0=8.314;\n",
"M=44; //Molecular mass of CO2\n",
"\n",
"R=R0/M;\n",
"cp=cv+R;\n",
"y=cp/cv;\n",
"\n",
"T2=T1*(p2/p1)^((y-1)/y);\n",
"t2=T2-273;\n",
"disp('Final temperature=')\n",
"disp(t2)\n",
"disp('0C')\n",
"\n",
"v2=R*10^3*T2/p2; //m^3/kg\n",
"disp('final specific volume =')\n",
"disp(v2)\n",
"disp('m^3/kg')\n",
"\n",
"ds=0; //Reversible and adiabatic process\n",
"disp('Increase in entropy=')\n",
"disp(ds)\n",
"\n",
"Q=0; //Adiabatic process\n",
"disp('Heat transfer rate from turbine=')\n",
"disp(Q)\n",
"\n",
"W=m*cp*(T1-T2);\n",
"disp('Power delivered by the turbine=')\n",
"disp(W)\n",
"disp('kW')"
   ]
   }
,
{
		   "cell_type": "markdown",
		   "metadata": {},
		   "source": [
			"## Example 8.8: 8.sce"
		   ]
		  },
  {
"cell_type": "code",
	   "execution_count": null,
	   "metadata": {
	    "collapsed": true
	   },
	   "outputs": [],
"source": [
"clc\n",
"p1=8*10^5; //Pa\n",
"V1=0.035; //m^3\n",
"T1=553; //K\n",
"p2=8*10^5; //Pa\n",
"V2=0.1; //m^3\n",
"n=1.4;\n",
"R=287; //J/kg K\n",
"T3=553; //K\n",
"cv=0.71; //kJ/kg K\n",
"\n",
"m=p1*V1/R/T1;\n",
"T2=p2*V2/m/R;\n",
"p3=p2/((T2/T3)^(n/(n-1)));\n",
"V3=m*R*T3/p3;\n",
"\n",
"disp('(i) The heat received in the cycle')\n",
"\n",
"//constant pressure process 1-2\n",
"W_12=p1*(V2-V1)/10^3; //kJ\n",
"Q_12=m*cv*(T2-T1) + W_12; //kJ\n",
"\n",
"//polytropic process 2-3\n",
"W_23=m*R/10^3*(T2-T3)/(n-1);\n",
"Q_23=m*cv*(T3-T2) + W_23;\n",
"\n",
"Q_received=Q_12 + Q_23;\n",
"disp('Total heat received in the cycle=')\n",
"disp(Q_received)\n",
"disp('kJ')\n",
"\n",
"\n",
"disp('(ii) The heat rejected in the cycle')\n",
"\n",
"//Isothermal process 3-1\n",
"W_31=p3*V3*log(V1/V3)/10^3; //kJ\n",
"Q_31=m*cv*(T3-T1) + W_31;\n",
"disp('Heat rejected in the cycle =')\n",
"disp(-Q_31)\n",
"disp('kJ')\n",
"\n",
"\n",
"disp('(ii) Efficiency of the cycle')\n",
"n=(Q_received - (-Q_31))/Q_received*100;\n",
"disp('Efficiency of the cycle =')\n",
"disp(n)\n",
"disp('%')"
   ]
   }
,
{
		   "cell_type": "markdown",
		   "metadata": {},
		   "source": [
			"## Example 8.9: 9.sce"
		   ]
		  },
  {
"cell_type": "code",
	   "execution_count": null,
	   "metadata": {
	    "collapsed": true
	   },
	   "outputs": [],
"source": [
"clc\n",
"v=44; //m^3/kg-mol\n",
"T=373; //K\n",
"\n",
"disp('(i) Using Van der Waals’ equation')\n",
"\n",
"a=362850; //N*m^4/(kg-mol)^2\n",
"b=0.0423; //M^3/kg-mol\n",
"R0=8314; //J/kg K\n",
"\n",
"p=((R0*T/(v-b)) - a/v^2);\n",
"disp('Pressure using Van der Waals equation=')\n",
"disp(p)\n",
"disp('N/m^2')\n",
"\n",
"\n",
"disp('(ii) Using perfect gas equation')\n",
"\n",
"p=R0*T/v;\n",
"disp('Pressure using perfect gas equation=')\n",
"disp(p)\n",
"disp('N/m^2')"
   ]
   }
],
"metadata": {
		  "kernelspec": {
		   "display_name": "Scilab",
		   "language": "scilab",
		   "name": "scilab"
		  },
		  "language_info": {
		   "file_extension": ".sce",
		   "help_links": [
			{
			 "text": "MetaKernel Magics",
			 "url": "https://github.com/calysto/metakernel/blob/master/metakernel/magics/README.md"
			}
		   ],
		   "mimetype": "text/x-octave",
		   "name": "scilab",
		   "version": "0.7.1"
		  }
		 },
		 "nbformat": 4,
		 "nbformat_minor": 0
}
