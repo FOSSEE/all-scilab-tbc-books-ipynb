{
"cells": [
 {
		   "cell_type": "markdown",
	   "metadata": {},
	   "source": [
       "# Chapter 14: Refrigeration Cycles"
	   ]
	},
{
		   "cell_type": "markdown",
		   "metadata": {},
		   "source": [
			"## Example 14.10: 10.sce"
		   ]
		  },
  {
"cell_type": "code",
	   "execution_count": null,
	   "metadata": {
	    "collapsed": true
	   },
	   "outputs": [],
"source": [
"clc\n",
"p1=1000; //kPa\n",
"p2=100; //kPa\n",
"p4=p1;\n",
"p3=p2;\n",
"E=2000; // Refrigerating effect produced in kJ/min \n",
"T3=268; //K\n",
"T1=303; //K\n",
"y=1.4;\n",
"\n",
"disp('(i) Mass of air circulated per minute')\n",
"T2=T1*(p2/p1)^((y-1)/y);\n",
"e=cp*(T3-T2); //Refrigerating effect per kg; kJ/kg\n",
"\n",
"m=E/e;\n",
"disp('m=')\n",
"disp(m)\n",
"disp('kg/min')\n",
"\n",
"\n",
"disp('(ii) Compressor work (Wcomp.), expander work (Wexp.) and cycle work (Wcycle)')\n",
"T4=T3*(p4/p3)^((y-1)/y);\n",
"\n",
"Wcomp=y/(y-1)*m*R*(T4-T3);\n",
"disp('Compressor work =')\n",
"disp(Wcomp)\n",
"disp('kJ/min')\n",
"\n",
"Wexp=y/(y-1)*m*R*(T1-T2);\n",
"disp('Expander work =')\n",
"disp(Wexp)\n",
"disp('kJ/min')\n",
"\n",
"W_cycle=Wcomp-Wexp;\n",
"disp('Wcycle=')\n",
"disp(W_cycle)\n",
"disp('kJ/min')\n",
"\n",
"\n",
"disp('(iii) C.O.P. and power required')\n",
"COP=E/W_cycle;\n",
"disp('COP =')\n",
"disp(COP)\n",
"\n",
"P=W_cycle/60;\n",
"disp('Power required =')\n",
"disp(P)\n",
"disp('kW')"
   ]
   }
,
{
		   "cell_type": "markdown",
		   "metadata": {},
		   "source": [
			"## Example 14.11: 11.sce"
		   ]
		  },
  {
"cell_type": "code",
	   "execution_count": null,
	   "metadata": {
	    "collapsed": true
	   },
	   "outputs": [],
"source": [
"clc\n",
"y=1.4;\n",
"cp=1.003; //kJ/kg K\n",
"T3=289; //K\n",
"T1=314; //K\n",
"p1=5.2; //bar\n",
"p2=1; //bar\n",
"capacity=6; //tonnes\n",
"R=287; //J/kg K\n",
"l=0.2; //m\n",
"\n",
"T4=T3*(p1/p2)^((y-1)/y);\n",
"T2=T1*(p2/p1)^((y-1)/y);\n",
"\n",
"\n",
"disp('(i) C.O.P. =')\n",
"COP=T2/(T1-T2);\n",
"disp(COP)\n",
"\n",
"disp('(ii) Mass of air in circulation')\n",
"e=cp*(T3-T2); //Refrigerating effect per kg of air\n",
"E=capacity*14000; //Refrigerating effect produced by the refrigerating machine in kJ/h\n",
"\n",
"m=E/e/60;\n",
"disp('mass of air in circulation =')\n",
"disp(m)\n",
"disp('kg/min')\n",
"\n",
"\n",
"disp('Piston displacement of compressor')\n",
"V3=m*R*T3/p2/10^5;\n",
"\n",
"V_swept=V3/2/240;\n",
"\n",
"d_c=sqrt(V_swept/l/%pi*4);\n",
"\n",
"disp('Diameter or bore of the compressor cylinder =')\n",
"disp(d_c*1000)\n",
"disp('mm')\n",
"\n",
"disp('Piston displacement of expander')\n",
"V2=m*R*T2/p2/10^5;\n",
"V_swept=V2/2/240;\n",
"\n",
"d_c=sqrt(V_swept/l/%pi*4);\n",
"disp('Diameter or bore of the expander cylinder =')\n",
"disp(d_c*1000)\n",
"disp('mm')\n",
"\n",
"\n",
"disp('(v) Power required to drive the unit')\n",
"W=capacity*14000/COP/3600;\n",
"disp('power =')\n",
"disp(W)\n",
"disp('kW')"
   ]
   }
,
{
		   "cell_type": "markdown",
		   "metadata": {},
		   "source": [
			"## Example 14.1: 1.sce"
		   ]
		  },
  {
"cell_type": "code",
	   "execution_count": null,
	   "metadata": {
	    "collapsed": true
	   },
	   "outputs": [],
"source": [
"clc\n",
"T2=235; //K\n",
"P=1.3; //kW\n",
"\n",
"disp('(i) C.O.P. of Carnot refrigerator =')\n",
"COP=14000/P/60/60;\n",
"disp(COP)\n",
"\n",
"\n",
"disp('(ii) Higher temperature of the cycle =')\n",
"T1=T2/COP + T2;\n",
"t1=T1-273;\n",
"disp(t1)\n",
"disp('0C')\n",
"\n",
"\n",
"disp('(iii) Heat delivered as heat pump')\n",
"Qabs=14000/60; //Heat absorbed\n",
"W=P*60;\n",
"Q=Qabs+W;\n",
"disp('Q=')\n",
"disp(Q)\n",
"disp('kJ/min')\n",
"\n",
"COP=Q/W;\n",
"disp('COP of heat pump =')\n",
"disp(COP)"
   ]
   }
,
{
		   "cell_type": "markdown",
		   "metadata": {},
		   "source": [
			"## Example 14.12: 12.sce"
		   ]
		  },
  {
"cell_type": "code",
	   "execution_count": null,
	   "metadata": {
	    "collapsed": true
	   },
	   "outputs": [],
"source": [
"clc\n",
"m=6; //kg/min\n",
"n_relative=0.50; \n",
"cpw=4.187; //kJ/kg K\n",
"L=335; //kJ/kg\n",
"\n",
"h_f2=31.4; //kJ/kg\n",
"h_fg2=154; //kJ/kg\n",
"h_f3=59.7; //kJ/kg\n",
"h_fg3=138; //kJ/kg\n",
"h_f4=59.7; //kJ/kg\n",
"x2=0.6;\n",
"s_f3=0.2232; //kJ/kg K\n",
"s_f2=0.1251; //kJ/kg K\n",
"T2=268; //K\n",
"T3=298; //K\n",
"\n",
"h2=h_f2+x2*h_fg2;\n",
"x3=((s_f2-s_f3)+x2*(h_fg2/T2))*T3/h_fg3;\n",
"h3=h_f3+x3*h_fg3;\n",
"h1=h_f4;\n",
"COP_th=(h2-h1)/(h3-h2); //Theoritical COP\n",
"COP=n_relative*COP_th;\n",
"\n",
"Q=cpw*(20-0) + L; //Heat extracted from 1 kg of water at 20°C for the formation of 1 kg of ice at 0°C\n",
"\n",
"m_ice=COP*m*(h3-h2)/Q*60*24/1000; //in 24 hours\n",
"disp('m_ice=')\n",
"disp(m_ice)\n",
"disp('tonnes')"
   ]
   }
,
{
		   "cell_type": "markdown",
		   "metadata": {},
		   "source": [
			"## Example 14.13: 13.sce"
		   ]
		  },
  {
"cell_type": "code",
	   "execution_count": null,
	   "metadata": {
	    "collapsed": true
	   },
	   "outputs": [],
"source": [
"clc\n",
"L=335; //kJ/kg\n",
"h3=1319.22; //kJ/kg\n",
"h1=100.04; //kJ/kg\n",
"h4=h1;\n",
"s_f2=-2.1338; //kJ/kg K\n",
"s_g2=5.0585; //kJ/kg K\n",
"s_g3=4.4852; //kJ/kg K\n",
"h_f2=-54.56; //kJ/kg\n",
"h_g2=1304.99; //kJ/kg\n",
"\n",
"x2=(s_g3-s_f2)/(s_g2-s_f2);\n",
"\n",
"h2=h_f2+x2*(h_g2-h_f2);\n",
"COP_theoritical=(h2-h1)/(h3-h2);\n",
"COP_actual=0.62*COP_theoritical;\n",
"RE=COP_actual*(h3-h2); //Actual refrigerating effect per kg\n",
"Q=28*1000*L/24/3600; //Heat to be extracted per second\n",
"\n",
"m=Q/RE; //Mass of refrigerant circulated per second\n",
"\n",
"W=m*(h3-h2);\n",
"disp('Power required =')\n",
"disp(W)\n",
"disp('kW')"
   ]
   }
,
{
		   "cell_type": "markdown",
		   "metadata": {},
		   "source": [
			"## Example 14.14: 14.sce"
		   ]
		  },
  {
"cell_type": "code",
	   "execution_count": null,
	   "metadata": {
	    "collapsed": true
	   },
	   "outputs": [],
"source": [
"clc\n",
"h_f2=158.2; //kJ/kg\n",
"x2=0.62;\n",
"h_fg2=1280.8;\n",
"h1=298.9; //kJ/kg\n",
"h_f4=h1;\n",
"s_f2=0.630; //kJ/kg K\n",
"T2=268; //K\n",
"T3=298; //K\n",
"s_f3=1.124; //kJ/kg K\n",
"h_fg3=1167.1; //kJ/kg\n",
"m=6.4; //kg/min\n",
"cp=4.187;\n",
"L=335; //kJ/kg\n",
"h_f3=298.9; //kJ/kg\n",
"\n",
"h2=h_f2+x2*h_fg2;\n",
"x3=((s_f2-s_f3)+x2*h_fg2/T2)/h_fg3*T3;\n",
"h3=h_f3+x3*h_fg3;\n",
"\n",
"COP_theoritical=(h2-h1)/(h3-h2);\n",
"COP_actual=0.55*COP_theoritical;\n",
"\n",
"W1=h3-h2; //Work done per kg of refrigerant\n",
"W=m*W1/60; //Work done per second kJ/s\n",
"\n",
"Q=15*cp+L;\n",
"m_ice=W*3600*24/Q;\n",
"disp('Amount of ice formed in 24 hours =')\n",
"disp(m_ice)\n",
"disp('kg')"
   ]
   }
,
{
		   "cell_type": "markdown",
		   "metadata": {},
		   "source": [
			"## Example 14.15: 15.sce"
		   ]
		  },
  {
"cell_type": "code",
	   "execution_count": null,
	   "metadata": {
	    "collapsed": true
	   },
	   "outputs": [],
"source": [
"clc\n",
"RE=5*14000/3600; //Total refrigeration produced in kg/s\n",
"h2=183.19; //kJ/kg\n",
"h3=209.41; //kJ/kg\n",
"h4=74.59; //kJ/kg\n",
"h1=h4;\n",
"\n",
"disp('(i) The refrigerant flow rate')\n",
"RE_net=h2-h1; //Net refrigerating effect produced per kg\n",
"m=RE/RE_net; \n",
"disp('Refrigerant flow rate =')\n",
"disp(m)\n",
"disp('kg/s')\n",
"\n",
"\n",
"disp('(ii) The C.O.P. =')\n",
"COP=(h2-h1)/(h3-h2);\n",
"disp(COP)\n",
"\n",
"\n",
"disp('(iii) The power required to drive the compressor =')\n",
"P=m*(h3-h2);\n",
"disp(P)\n",
"disp('kW')\n",
"\n",
"\n",
"disp('(iv) The rate of heat rejection to the condenser =')\n",
"rate=m*(h3-h4);\n",
"disp(rate)\n",
"disp('kW')"
   ]
   }
,
{
		   "cell_type": "markdown",
		   "metadata": {},
		   "source": [
			"## Example 14.16: 16.sce"
		   ]
		  },
  {
"cell_type": "code",
	   "execution_count": null,
	   "metadata": {
	    "collapsed": true
	   },
	   "outputs": [],
"source": [
"clc\n",
"\n",
"disp('(i) If an expansion cylinder is used in a vapour compression system, the work recovered would be extremely small, in fact not even sufficient to overcome the mechanical friction. It will not be possible to gain any work. Further, the expansion cylinder is bulky. On the other hand the expansion valve is a very simple and handy device, much cheaper than the expansion cylinder. It does not need installation, lubrication or maintenance.')\n",
"disp('The expansion valve also controls the refrigerant flow rate according to the requirement, in addition to serving the function of reducting the pressure of the refrigerant.')\n",
"\n",
"\n",
"disp('(ii) The comparison between centrifugal and reciprocating compressors ')\n",
"\n",
"disp('1.Suitability')\n",
"\n",
"disp('Centrifugal compressor')\n",
"disp('Suitable for handling large volumes of air at low pressures')\n",
"\n",
"disp('Reciprocating compressor')\n",
"disp('Suitable for low discharges of air at high pressure.')\n",
"\n",
"\n",
"disp('2.Operational speeds')\n",
"\n",
"disp('Centrifugal compressor')\n",
"disp('Usually high')\n",
"\n",
"disp('Reciprocating compressor')\n",
"disp('Low')\n",
"\n",
"\n",
"disp('3.Air supply')\n",
"\n",
"disp('Centrifugal compressor')\n",
"disp('Continuous')\n",
"\n",
"disp('Reciprocating compressor')\n",
"disp('Pulsating')\n",
"\n",
"\n",
"disp('4.Balancing')\n",
"\n",
"disp('Centrifugal compressor')\n",
"disp('Less Vibrations')\n",
"\n",
"disp('Reciprocating compressor')\n",
"disp('Cyclic vibrations occur')\n",
"\n",
"\n",
"disp('5.Lubrication system')\n",
"\n",
"disp('Centrifugal compressor')\n",
"disp('Generally simple lubrication systems are required.')\n",
"\n",
"disp('Reciprocating compressor')\n",
"disp('Generally complicated')\n",
"\n",
"\n",
"disp('6.Quality of air delivered')\n",
"\n",
"disp('Centrifugal compressor')\n",
"disp('Air delivered is relatively more clean')\n",
"\n",
"disp('Reciprocating compressor')\n",
"disp('Generally contaminated with oil.')\n",
"\n",
"\n",
"disp('7.Air compressor size')\n",
"\n",
"disp('Centrifugal compressor')\n",
"disp('Small for given discharge')\n",
"\n",
"disp('Reciprocating compressor')\n",
"disp('Large for same discharge')\n",
"\n",
"\n",
"disp('8.Free air handled')\n",
"\n",
"disp('Centrifugal compressor')\n",
"disp('2000-3000 m3/min')\n",
"\n",
"disp('Reciprocating compressor')\n",
"disp('250-300 m3/min')\n",
"\n",
"\n",
"disp('9.Delivery pressure')\n",
"\n",
"disp('Centrifugal compressor')\n",
"disp('Normally below 10 bar')\n",
"\n",
"disp('Reciprocating compressor')\n",
"disp('500 to 800 bar')\n",
"\n",
"\n",
"disp('10.Usual standard of compression')\n",
"\n",
"disp('Centrifugal compressor')\n",
"disp('Isentropic compression')\n",
"\n",
"disp('Reciprocating compressor')\n",
"disp('Isothermal compression')\n",
"\n",
"\n",
"disp('11.Action of compressor')\n",
"\n",
"disp('Centrifugal compressor')\n",
"disp('Dynamic action')\n",
"\n",
"disp('Reciprocating compressor')\n",
"disp('Positive displacement')\n",
"\n",
"\n",
"disp('(iii)')\n",
"h2=344.927; //kJ/kg\n",
"h4=228.538; //kJ/kg\n",
"h1=h4;\n",
"cpv=0.611; ///kJ/kg0C\n",
"// s2=s3\n",
"t3=39.995; //0C\n",
"h3=363.575+cpv*(t3-30);\n",
"Rn=h2-h1;\n",
"W=h3-h2;\n",
"\n",
"COP=Rn/W;\n",
"disp('COP =')\n",
"disp(COP)\n",
"\n",
"cp=2.0935; //kJ/kg 0C\n",
"Q=2400/24/3600*[4.187*(15-0)+335+cp*(0-(-5))];\n",
"\n",
"W=Q/COP;\n",
"disp('Work required =')\n",
"disp(W)\n",
"disp('kW')"
   ]
   }
,
{
		   "cell_type": "markdown",
		   "metadata": {},
		   "source": [
			"## Example 14.17: 17.sce"
		   ]
		  },
  {
"cell_type": "code",
	   "execution_count": null,
	   "metadata": {
	    "collapsed": true
	   },
	   "outputs": [],
"source": [
"clc\n",
"disp('(ii) Mass of refrigerant circulated per minute')\n",
"h2=352; //kJ/kg\n",
"h3=374; //kJ/kg\n",
"h4=221; //kJ/kg\n",
"h1=h4;\n",
"v2=0.08; //m^3/kg\n",
"rpm=500;\n",
"D=0.2;\n",
"L=0.15;\n",
"n_vol=0.85;\n",
"RE=h2-h1;\n",
"V=%pi/4*D^2*L*rpm*2*n_vol;\n",
"m=V/v2;\n",
"disp('Mass of refrigerant circulated per minute = ')\n",
"disp(m)\n",
"disp('kg/min')\n",
"disp('(iii) Cooling capacity in tonnes of refrigeration =')\n",
"cc=50*(h2-h1)*60/14000;\n",
"disp(cc)\n",
"disp('TR')\n",
"disp('(iv)COP =')\n",
"COP=(h2-h1)/(h3-h2);\n",
"disp(COP)"
   ]
   }
,
{
		   "cell_type": "markdown",
		   "metadata": {},
		   "source": [
			"## Example 14.18: 18.sce"
		   ]
		  },
  {
"cell_type": "code",
	   "execution_count": null,
	   "metadata": {
	    "collapsed": true
	   },
	   "outputs": [],
"source": [
"clc\n",
"te=-10; //0C\n",
"tc=40; //0C\n",
"h3=220; //kJ/kg\n",
"h2=183.1; //kJ/kg\n",
"h1=74.53; //kJ/kg\n",
"h_f4=26.85; //kJ/kg\n",
"m=1; //kg\n",
"\n",
"disp('(i) The C.O.P. the cycle =')\n",
"COP=(h2-h1)/(h3-h2);\n",
"disp(COP)\n",
"\n",
"disp('(ii) Refrigerating capacity =')\n",
"RC=m*(h2-h1);\n",
"disp(RC)\n",
"disp('kJ/min')\n",
"\n",
"disp('Compressor power =')\n",
"CP=m*(h3-h2)/60;\n",
"disp(CP)\n",
"disp('kJ/s')"
   ]
   }
,
{
		   "cell_type": "markdown",
		   "metadata": {},
		   "source": [
			"## Example 14.19: 19.sce"
		   ]
		  },
  {
"cell_type": "code",
	   "execution_count": null,
	   "metadata": {
	    "collapsed": true
	   },
	   "outputs": [],
"source": [
"clc\n",
"h2=178.61; //kJ/kg\n",
"h3a=203.05; //kJ/kg\n",
"h_f4=74.53; //kJ/kg\n",
"h1=h_f4;\n",
"s3a=0.682; //kJ/kg K\n",
"s2=0.7082; //kJ/kg K\n",
"cp=0.747; //kJ/kg K\n",
"T3a=313; //K\n",
"CE=20; //Cooling effect\n",
"C=0.03;\n",
"v_g=0.1088;\n",
"p_d=9.607;\n",
"p_s=1.509;\n",
"n=1.13;\n",
"\n",
"m=CE/(h2-h1);\n",
"T3=T3a*%e^((s2-s3a)/cp)\n",
"h3=h3a+cp*(T3-T3a);\n",
"\n",
"P=m*(h3-h2);\n",
"disp('Power required by the machine =')\n",
"disp(P)\n",
"disp('kW')\n",
"\n",
"n_vol=1+C-C*(p_d/p_s)^(1/n); //Volumetric efficiency\n",
"V1=m*v_g; //volume of refrigerant at the intake conditions\n",
"V_swept=V1/n_vol;\n",
"\n",
"V=V_swept*60/300;\n",
"disp('Piston displacement =')\n",
"disp(V)\n",
"disp('m^3')"
   ]
   }
,
{
		   "cell_type": "markdown",
		   "metadata": {},
		   "source": [
			"## Example 14.20: 20.sce"
		   ]
		  },
  {
"cell_type": "code",
	   "execution_count": null,
	   "metadata": {
	    "collapsed": true
	   },
	   "outputs": [],
"source": [
"clc\n",
"h2=1450.22; //kJ/kg\n",
"h3a=1488.57; //kJ/kg\n",
"h_f4=366.072; //kJ/kg\n",
"cpl2=4.556; //kJ/kg K\n",
"cpv1=2.492; //kJ/kg K\n",
"cpv2=2.903; //kJ/kg K\n",
"T1=303; //K\n",
"T2=308; //K\n",
"s3a=5.2086; //kJ/kg K\n",
"s2=5.755; //kJ/kg K\n",
"T3a=308; //K\n",
"N=1000;\n",
"\n",
"h_f4a=h_f4-cpl2*(T2-T1);\n",
"h1=h_f4a;\n",
"T3=T3a*%e^((s2-s3a)/cpv2);\n",
"h3=h3a+cpv2*(T3-T3a);\n",
"m=50/(h2-h1);\n",
"\n",
"\n",
"disp('(i) Power required =')\n",
"P=m*(h3-h2);\n",
"disp(P)\n",
"disp('kW')\n",
"\n",
"\n",
"disp('(ii) Cylinder dimensions ')\n",
"D=(m*4*60/%pi/1.2/N/0.417477)^(1/3);\n",
"disp('Diameter of cylinder =')\n",
"disp(D)\n",
"disp('m')\n",
"\n",
"L=1.2*D;\n",
"disp('Length of the cylinder=')\n",
"disp(L)\n",
"disp('m')"
   ]
   }
,
{
		   "cell_type": "markdown",
		   "metadata": {},
		   "source": [
			"## Example 14.21: 21.sce"
		   ]
		  },
  {
"cell_type": "code",
	   "execution_count": null,
	   "metadata": {
	    "collapsed": true
	   },
	   "outputs": [],
"source": [
"clc\n",
"cooling_load=150; //W\n",
"n_vol=0.8;\n",
"N=720; //rpm\n",
"h2=183; //kJ/kg\n",
"h1=74.5; //kJ/kg\n",
"v2=0.08; //m^3/kg\n",
"\n",
"m=cooling_load/(108.5*1000);\n",
"disp('Mass flow rate of the refrigerant =')\n",
"disp(m)\n",
"disp('kJ/s')\n",
"\n",
"d=m*v2/n_vol;\n",
"disp('Displacement volume of the compressor =')\n",
"disp(d)\n",
"disp('m^3/s')"
   ]
   }
,
{
		   "cell_type": "markdown",
		   "metadata": {},
		   "source": [
			"## Example 14.22: 22.sce"
		   ]
		  },
  {
"cell_type": "code",
	   "execution_count": null,
	   "metadata": {
	    "collapsed": true
	   },
	   "outputs": [],
"source": [
"clc\n",
"h2=183.2; //kJ/kg\n",
"h3=222.6; //kJ/kg\n",
"h4=84.9; //kJ/kg\n",
"\n",
"v2=0.0767; //m^3/kg\n",
"v3=0.0164; //m^3/kg\n",
"v4=0.00083; //m^3/kg\n",
"\n",
"V=1.5*1000*10^(-6); //Piston displacement volume m^3/revolution\n",
"n_vol=0.80;\n",
"\n",
"disp('(i) Power rating of the compressor (kW)')\n",
"discharge=V*1600*n_vol; //Compressor discharge\n",
"m=discharge/v2;\n",
"\n",
"P=m/60*(h3-h2); //kW\n",
"disp('Power =')\n",
"disp(P)\n",
"disp('kW')\n",
"\n",
"\n",
"disp('(ii) Refrigerating effect =')\n",
"RE=m/60*(h2-h4);\n",
"disp(RE)\n",
"disp('kW')"
   ]
   }
,
{
		   "cell_type": "markdown",
		   "metadata": {},
		   "source": [
			"## Example 14.2: 2.sce"
		   ]
		  },
  {
"cell_type": "code",
	   "execution_count": null,
	   "metadata": {
	    "collapsed": true
	   },
	   "outputs": [],
"source": [
"clc\n",
"T1=308; //K\n",
"T2=258; //K\n",
"capacity=12; //tonne\n",
"\n",
"COP=T2/(T1-T2);\n",
"disp('(i) Co-efficient of performance =')\n",
"disp(COP)\n",
"\n",
"\n",
"disp('(ii) Heat rejected from the system per hour')\n",
"W=capacity*14000/5.16;\n",
"Q=capacity*14000+W;\n",
"disp('Q=')\n",
"disp(Q)\n",
"disp('kJ/h')\n",
"\n",
"\n",
"disp('(iii) Power required =')\n",
"P=W/60/60;\n",
"disp(P)\n",
"disp('kW')"
   ]
   }
,
{
		   "cell_type": "markdown",
		   "metadata": {},
		   "source": [
			"## Example 14.23: 23.sce"
		   ]
		  },
  {
"cell_type": "code",
	   "execution_count": null,
	   "metadata": {
	    "collapsed": true
	   },
	   "outputs": [],
"source": [
"clc\n",
"COP=6.5;\n",
"W=50; //kW\n",
"h3a=201.45; //kJ/kg\n",
"h_f4=69.55; //kJ/kg\n",
"h1=h_f4;\n",
"h2=187.53; //kJ/kg\n",
"cp=0.6155; //kJ/kg\n",
"t3a=35; //0C\n",
"\n",
"RC=W*COP; //Refrigerating capacity\n",
"Q1=h2-h_f4; //Heat extracted per kg of refrigerant\n",
"rate=RC/Q1; //Refrigerant flow rate\n",
"Q2=W/rate; //Heat input per kg\n",
"h=h2+Q2; //Enthalpy of vapour after compression\n",
"Q=h-h3a; //Superheat\n",
"\n",
"t3=Q/cp+t3a;\n",
"disp('t3=')\n",
"disp(t3)\n",
"disp('°C')"
   ]
   }
,
{
		   "cell_type": "markdown",
		   "metadata": {},
		   "source": [
			"## Example 14.24: 24.sce"
		   ]
		  },
  {
"cell_type": "code",
	   "execution_count": null,
	   "metadata": {
	    "collapsed": true
	   },
	   "outputs": [],
"source": [
"clc\n",
"Q1=500; //total heating requirement of 500 kJ/min\n",
"n_compressor=0.8;\n",
"s1=0.7035; //kJ/kg K\n",
"s2=0.6799; //kJ/kg K\n",
"T2=322.31; //K\n",
"cp=0.7; //kJ/kg K\n",
"h_v2=206.24; //kJ/kg\n",
"h_l2=84.21; //kJ/kg\n",
"h_v1=182.07 //kJ/kg\n",
"\n",
"Q2=Q1/n_compressor; //Heat rejected by the cycle\n",
"\n",
"//Entropy of dry saturated vapour at 2 bar= Entropy of superheated vapour at 12 bar\n",
"T=T2*%e^((s1-s2)/cp);\n",
"\n",
"H=h_v2+cp*(T-T2); //Enthalpy of superheated vapour at 12 bar\n",
"Q3=H-h_l2; //Heat rejected per cycle\n",
"m=Q2/Q3; //kg/min\n",
"W=m*(H-h_v1)/60; //kW\n",
"W_actual=W/n_compressor;\n",
"disp('Power =')\n",
"disp(W_actual)\n",
"disp('kW')"
   ]
   }
,
{
		   "cell_type": "markdown",
		   "metadata": {},
		   "source": [
			"## Example 14.25: 25.sce"
		   ]
		  },
  {
"cell_type": "code",
	   "execution_count": null,
	   "metadata": {
	    "collapsed": true
	   },
	   "outputs": [],
"source": [
"clc\n",
"h2a=183.2; //kJ/kg K\n",
"cpv=0.733; //Vapour specific heat in kJ/kg K\n",
"cpl=1.235; //Liquid specific heat in kJ/kg K\n",
"s2a=0.7020; //Entropy of vapour in kJ/kg K\n",
"s3a=0.6854; //Entropy of vapour in kJ/kg K\n",
"T2=270; //K\n",
"T2a=263; //K\n",
"T3a=303; //K\n",
"h3a=199.6; //kJ/kg\n",
"h_f4=64.6; //kJ/kg\n",
"dT4=6; //dT4=T4-T4a\n",
"v2a=0.0767;\n",
"n=2; //number of cylinder\n",
"\n",
"h2=h2a+cpv*(T2-T2a);\n",
"s2=s2a+cpv*log(T2/T2a);\n",
"\n",
"T3=T3a*%e^((s2-s3a)/cpv);\n",
"h3=h3a+cpv*(T3-T3a);\n",
"h_f4a=h_f4-cpl*dT4;\n",
"h1=h_f4a;\n",
"\n",
"v2=v2a/T2a*T2;\n",
"\n",
"disp('(i) Refrigerating effect per kg =')\n",
"RE=h2-h1;\n",
"disp(RE)\n",
"disp('kJ/kg')\n",
"\n",
"disp('(ii) Mass of refrigerant to be circulated per minute =')\n",
"m=2400/RE;\n",
"disp(m)\n",
"disp('kg/min')\n",
"\n",
"disp('(iii) Theoretical piston displacement per minute =')\n",
"v=m*v2;\n",
"disp(v)\n",
"disp('m^3/min')\n",
"\n",
"disp('(iv) Theoretical power required to run the compressor = ')\n",
"P=m/60*(h3-h2);\n",
"disp(P)\n",
"disp('kW')\n",
"\n",
"disp('(v) Heat removed through the condenser per min =')\n",
"Q=m*(h3-h_f4a);\n",
"disp(Q)\n",
"disp('kJ/min')\n",
"\n",
"disp('(vi) Theoretical bore (d) and stroke (l)')\n",
"d=(v/n/%pi*4/1.25/1000)^(1/3)*1000;\n",
"disp('Theroritical bore =')\n",
"disp(d)\n",
"disp('mm')\n",
"\n",
"disp('stroke =')\n",
"l=1.25*d;\n",
"disp(l)\n",
"disp('mm')"
   ]
   }
,
{
		   "cell_type": "markdown",
		   "metadata": {},
		   "source": [
			"## Example 14.26: 26.sce"
		   ]
		  },
  {
"cell_type": "code",
	   "execution_count": null,
	   "metadata": {
	    "collapsed": true
	   },
	   "outputs": [],
"source": [
"clc\n",
"h2=1597; //kJ/kg\n",
"h3=1790; //kJ/kg\n",
"h4=513; //kJ/kg\n",
"h1=h4;\n",
"t3=58; //0C\n",
"x1=0.13;\n",
"tc=27; //0C\n",
"capacity=10.5; //tonnes\n",
"\n",
"disp('(i) Condition of the vapour at the outlet of the compressor =')\n",
"t=t3-tc;\n",
"disp(t)\n",
"disp('°C')\n",
"\n",
"disp('(ii) Condition of vapour at entrance to evaporator =')\n",
"disp(x1)\n",
"\n",
"disp('COP =')\n",
"COP=(h2-h1)/(h3-h2);\n",
"disp(COP)\n",
"\n",
"disp('(iv) Power required =')\n",
"P=capacity*14000/COP/3600;\n",
"disp(P)\n",
"disp('kW')"
   ]
   }
,
{
		   "cell_type": "markdown",
		   "metadata": {},
		   "source": [
			"## Example 14.27: 27.sce"
		   ]
		  },
  {
"cell_type": "code",
	   "execution_count": null,
	   "metadata": {
	    "collapsed": true
	   },
	   "outputs": [],
"source": [
"clc\n",
"h2=615; //kJ/kg\n",
"h3=664; //kJ/kg\n",
"h4=446; //kJ/kg\n",
"h1=h4;\n",
"v2=0.14; //m^3/kg\n",
"capacity=20; //tonnes\n",
"n=6; //number of cylinder\n",
"\n",
"disp('(i) Refrigerating effect per kg =')\n",
"RE=h2-h1;\n",
"disp(RE)\n",
"disp('kJ/kg')\n",
"\n",
"disp('(ii) Mass of refrigerant to be circulated per minute =')\n",
"m=capacity*14000/RE/60;\n",
"disp(m)\n",
"disp('kg/min')\n",
"\n",
"disp('(iii) Theoretical piston displacement =')\n",
"v=v2*m;\n",
"disp(v)\n",
"disp('m^3/min')\n",
"\n",
"disp('(iv) Theoretical power =')\n",
"P=m/60*(h3-h2);\n",
"disp(P)\n",
"disp('kW')\n",
"\n",
"disp('(v)COP =')\n",
"COP=(h2-h1)/(h3-h2);\n",
"disp(COP)\n",
"\n",
"disp('(vi) Heat removed through the condenser =')\n",
"Q=m*(h3-h4);\n",
"disp(Q)\n",
"disp('kJ/min')\n",
"\n",
"disp('(vii) Theoretical displacement per minute per cylinder')\n",
"\n",
"d=(v/n*4/%pi/950)^(1/3)*1000;\n",
"disp('Diameter of cylinder =')\n",
"disp(d)\n",
"disp('mm')\n",
"\n",
"l=d;\n",
"disp('Stroke length =')\n",
"disp(l)\n",
"disp('mm')"
   ]
   }
,
{
		   "cell_type": "markdown",
		   "metadata": {},
		   "source": [
			"## Example 14.3: 3.sce"
		   ]
		  },
  {
"cell_type": "code",
	   "execution_count": null,
	   "metadata": {
	    "collapsed": true
	   },
	   "outputs": [],
"source": [
"clc\n",
"T2=268; //K\n",
"T1=308; //K\n",
"Q=29; //Heat leakage from the surroundings into the cold storage in kW\n",
"COP_ideal=T2/(T1-T2);\n",
"COP_actual=1/3*COP_ideal;\n",
"\n",
"W=Q/COP_actual;\n",
"disp('Power required =')\n",
"disp(W)\n",
"disp('kW')"
   ]
   }
,
{
		   "cell_type": "markdown",
		   "metadata": {},
		   "source": [
			"## Example 14.4: 4.sce"
		   ]
		  },
  {
"cell_type": "code",
	   "execution_count": null,
	   "metadata": {
	    "collapsed": true
	   },
	   "outputs": [],
"source": [
"clc\n",
"T1=293; //K\n",
"T2=265; //K\n",
"T0=273; //K\n",
"L=335; //Latent heat of ice in kJ/kg\n",
"cpw=4.18;\n",
"\n",
"COP=T2/(T1-T2);\n",
"Rn=cpw*(T1-T0)+L;\n",
"m_ice=COP*3600/Rn;\n",
"disp('ice formed per kWh =')\n",
"disp(m_ice)\n",
"disp('kg')"
   ]
   }
,
{
		   "cell_type": "markdown",
		   "metadata": {},
		   "source": [
			"## Example 14.5: 5.sce"
		   ]
		  },
  {
"cell_type": "code",
	   "execution_count": null,
	   "metadata": {
	    "collapsed": true
	   },
	   "outputs": [],
"source": [
"clc\n",
"T1=291; //K\n",
"T2=265; //K\n",
"T0=273; //K\n",
"cpw=4.18; //kJ/kg\n",
"cpi=2.09; //kJ/kg\n",
"L=334; //kJ/kg\n",
"m=400; //kg\n",
"\n",
"COP=T2/(T1-T2);\n",
"Rn=cpw*(T1-T0) + L + cpi*(T0-T2);\n",
"\n",
"W=Rn*m/COP/3600; //kJ/s\n",
"disp('Least power =')\n",
"disp(W)\n",
"disp('kW')"
   ]
   }
,
{
		   "cell_type": "markdown",
		   "metadata": {},
		   "source": [
			"## Example 14.6: 6.sce"
		   ]
		  },
  {
"cell_type": "code",
	   "execution_count": null,
	   "metadata": {
	    "collapsed": true
	   },
	   "outputs": [],
"source": [
"clc\n",
"cpw=4.18; //kJ/kg\n",
"\n",
"disp('(i) Quantity of ice produced')\n",
"t=20; //0C\n",
"L=335; //kJ/kg\n",
"capacity=280; //tonnes\n",
"\n",
"Q1=cpw*t + L; //Heat to be extracted per kg of water (to form ice at 0°C)\n",
"Rn=capacity*14000; //kJ/h\n",
"\n",
"m_ice=Rn*24/Q1/1000;\n",
"disp('Quantity of ice produced in 24 hours =')\n",
"disp(m_ice)\n",
"disp('tonnes')\n",
"\n",
"\n",
"disp('(ii) Minimum power required =')\n",
"T1=298; //K\n",
"T2=263; //K\n",
"\n",
"COP=T2/(T1-T2);\n",
"W=Rn/COP/3600; //kJ/s\n",
"disp('Power required =')\n",
"disp(W)\n",
"disp('kW')"
   ]
   }
,
{
		   "cell_type": "markdown",
		   "metadata": {},
		   "source": [
			"## Example 14.7: 7.sce"
		   ]
		  },
  {
"cell_type": "code",
	   "execution_count": null,
	   "metadata": {
	    "collapsed": true
	   },
	   "outputs": [],
"source": [
"clc\n",
"cp1=1.25; //kJ/kg 0C\n",
"cp2=2.93; //kJ/kg 0C\n",
"L=232; //kJ/kg\n",
"T1=-3; //0C\n",
"T2=-8; //0C\n",
"T3=25; //0C\n",
"\n",
"Q1=cp2*(T3-T1) + L + cp1*(T1-T2); //Heat removed in 8 hours from each kg of fish\n",
"\n",
"Q=Q1*20*1000/8; //Heat removed by the plant /min\n",
"\n",
"disp('(i) Capacity of the refrigerating plant =')\n",
"capacity=Q/14000; //tonnes\n",
"disp(capacity)\n",
"disp('tonnes')\n",
"\n",
"disp('(ii) Carnot cycle C.O.P. between this temperature range.')\n",
"T1=298; //K\n",
"T2=265; //K\n",
"\n",
"COP=T2/(T1-T2);\n",
"disp('COP of reversed carnot cycle =')\n",
"disp(COP)\n",
"\n",
"\n",
"disp('(iii) Power required')\n",
"COP_actual=1/3*COP;\n",
"\n",
"W=Q/COP_actual/3600; //kJ/s\n",
"disp('Power =')\n",
"disp(W)\n",
"disp('kW')"
   ]
   }
,
{
		   "cell_type": "markdown",
		   "metadata": {},
		   "source": [
			"## Example 14.8: 8.sce"
		   ]
		  },
  {
"cell_type": "code",
	   "execution_count": null,
	   "metadata": {
	    "collapsed": true
	   },
	   "outputs": [],
"source": [
"clc\n",
"T1=1273; //K\n",
"T2=298; //K\n",
"T3=268; //K\n",
"T4=298; //K\n",
"\n",
"//Let Q2/Q1=r1, r2=Q3/Q4;\n",
"r1=298/1273; //Q2/Q1\n",
"r2=268/298; //Q3/Q4\n",
"\n",
"//Let Q4/Q1=r\n",
"r=(1-r1)/(1-r2);\n",
"disp('The ratio in which the heat pump and heat engine share the heating load =')\n",
"disp(r)"
   ]
   }
,
{
		   "cell_type": "markdown",
		   "metadata": {},
		   "source": [
			"## Example 14.9: 9.sce"
		   ]
		  },
  {
"cell_type": "code",
	   "execution_count": null,
	   "metadata": {
	    "collapsed": true
	   },
	   "outputs": [],
"source": [
"clc\n",
"y=1.4;\n",
"n=1.35;\n",
"cp=1.003; //kJ/kg K\n",
"p2=1; //bar\n",
"p1=8; //bar\n",
"T3=282; //K\n",
"T4=302; //K\n",
"T1=T4;\n",
"T4=T3*(p1/p2)^((n-1)/n);\n",
"T2=T1*(p2/p1)^((n-1)/n);\n",
"\n",
"Q1=cp*(T3-T2); //Heat extracted from cold chamber per kg of air\n",
"Q2=cp*(T4-T1); //Heat rejected in the cooling chamber per kg of air\n",
"cv=cp/y;\n",
"R=cp-cv;\n",
"W=n/(n-1)*R*((T4-T3) - (T1-T2));\n",
"\n",
"COP=Q1/W;\n",
"disp('COP=')\n",
"disp(COP)"
   ]
   }
],
"metadata": {
		  "kernelspec": {
		   "display_name": "Scilab",
		   "language": "scilab",
		   "name": "scilab"
		  },
		  "language_info": {
		   "file_extension": ".sce",
		   "help_links": [
			{
			 "text": "MetaKernel Magics",
			 "url": "https://github.com/calysto/metakernel/blob/master/metakernel/magics/README.md"
			}
		   ],
		   "mimetype": "text/x-octave",
		   "name": "scilab",
		   "version": "0.7.1"
		  }
		 },
		 "nbformat": 4,
		 "nbformat_minor": 0
}
