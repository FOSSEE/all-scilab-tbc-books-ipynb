{
"cells": [
 {
		   "cell_type": "markdown",
	   "metadata": {},
	   "source": [
       "# Chapter 4: First Law of Thermodynamics"
	   ]
	},
{
		   "cell_type": "markdown",
		   "metadata": {},
		   "source": [
			"## Example 4.10: 10.sce"
		   ]
		  },
  {
"cell_type": "code",
	   "execution_count": null,
	   "metadata": {
	    "collapsed": true
	   },
	   "outputs": [],
"source": [
"clc\n",
"Q_lqm=168; //kJ\n",
"W_lqm=64; //kJ\n",
"dU_lm=Q_lqm - W_lqm;\n",
"W_lnm=21; //kJ\n",
"W_ml=-42; //kJ\n",
"\n",
"Q_lnm=dU_lm + W_lnm;\n",
"disp('(i)Q_lnm=')\n",
"disp(Q_lnm)\n",
"disp('kJ')\n",
"\n",
"\n",
"Q_ml=W_ml - dU_lm;\n",
"disp('(ii)Q_ml = ')\n",
"disp(Q_ml)\n",
"disp('kJ')\n",
"\n",
"\n",
"W_ln=21; //kJ\n",
"dU_ln=84; //kJ\n",
"Q_ln=dU_ln + W_ln;\n",
"Q_nm=Q_lnm-Q_ln;\n",
"disp('Q_nm = ')\n",
"disp(Q_nm)\n",
"disp('kJ')"
   ]
   }
,
{
		   "cell_type": "markdown",
		   "metadata": {},
		   "source": [
			"## Example 4.11: 11.sce"
		   ]
		  },
  {
"cell_type": "code",
	   "execution_count": null,
	   "metadata": {
	    "collapsed": true
	   },
	   "outputs": [],
"source": [
"clc\n",
"T1=55; //0C\n",
"T2=95; //0C\n",
"W=integrate('200', 'T', T1, T2);\n",
"Q=integrate('160', 'T', T1, T2);\n",
"dU=Q-W;\n",
"disp('change in internal energy=')\n",
"disp(dU/10^3)\n",
"disp('kJ')"
   ]
   }
,
{
		   "cell_type": "markdown",
		   "metadata": {},
		   "source": [
			"## Example 4.1: 1.sce"
		   ]
		  },
  {
"cell_type": "code",
	   "execution_count": null,
	   "metadata": {
	    "collapsed": true
	   },
	   "outputs": [],
"source": [
"clc\n",
"Q=-50; //kJ/kg\n",
"W=-100; //kJ/kg\n",
"dU=Q-W;\n",
"disp('gain in internal energy = ')\n",
"disp(dU)\n",
"disp('kJ/kg')"
   ]
   }
,
{
		   "cell_type": "markdown",
		   "metadata": {},
		   "source": [
			"## Example 4.12: 12.sce"
		   ]
		  },
  {
"cell_type": "code",
	   "execution_count": null,
	   "metadata": {
	    "collapsed": true
	   },
	   "outputs": [],
"source": [
"clc\n",
"Q=-340; //kJ\n",
"n=200; //cycles/min\n",
"\n",
"//For Process 1-2\n",
"\n",
"W_12=4340; //kJ/min\n",
"Q_12=0;\n",
"\n",
"dE_12=Q_12-W_12;\n",
"disp('dE_12 =')\n",
"disp(dE_12)\n",
"disp('kJ/min')\n",
"\n",
"//For process 2-3\n",
"\n",
"Q_23=42000; //kJ/min\n",
"W_23=0;\n",
"\n",
"dE_23=Q_23-W_23;\n",
"disp('dE_23 =')\n",
"disp(dE_23)\n",
"disp('kJ/min')\n",
"\n",
"//For process 3-4\n",
"\n",
"Q_34=-4200; //kJ/min\n",
"dE_34=-73200; //kJ/min\n",
"\n",
"W_34=Q_34-dE_34;\n",
"disp('W_34 =')\n",
"disp(W_34)\n",
"disp('kJ/min')\n",
"\n",
"//For process 4-1\n",
"Q_41=Q*n-Q_12-Q_23-Q_34;\n",
"disp('Q_41 =')\n",
"disp(Q_41)\n",
"disp('kJ/min')\n",
"\n",
"dE_41=0-dE_12-dE_23-dE_34;\n",
"disp('dE_41 =')\n",
"disp(dE_41)\n",
"disp('kJ/min')\n",
"\n",
"W_41=Q_41-dE_41;\n",
"disp('W_41 =')\n",
"disp(W_41)\n",
"disp('kJ/min')"
   ]
   }
,
{
		   "cell_type": "markdown",
		   "metadata": {},
		   "source": [
			"## Example 4.13: 13.sce"
		   ]
		  },
  {
"cell_type": "code",
	   "execution_count": null,
	   "metadata": {
	    "collapsed": true
	   },
	   "outputs": [],
"source": [
"clc\n",
"P=1200; //kW\n",
"Qin=3360; //kJ/kg\n",
"Qout=2520; //kJ/kg\n",
"F=6; //kW\n",
"dQ=Qin - Qout;\n",
"dW=P-F; //kJ/s\n",
"m = dW/dQ;\n",
"disp('Steam flow round the cycle')\n",
"disp(m)\n",
"disp('kg/s')"
   ]
   }
,
{
		   "cell_type": "markdown",
		   "metadata": {},
		   "source": [
			"## Example 4.14: 14.sce"
		   ]
		  },
  {
"cell_type": "code",
	   "execution_count": null,
	   "metadata": {
	    "collapsed": true
	   },
	   "outputs": [],
"source": [
"clc\n",
"dT=25; //0C\n",
"Q=30; //kJ\n",
"cv=1.2; //kJ/kg.0C\n",
"m=2.5; //kg\n",
"dU=m*cv*dT;\n",
"\n",
"\n",
"disp('change in internal energy = ')\n",
"disp(dU)\n",
"disp('kJ')\n",
"\n",
"W=Q - dU;\n",
"disp('Work done = ')\n",
"disp(W)\n",
"disp('kJ')"
   ]
   }
,
{
		   "cell_type": "markdown",
		   "metadata": {},
		   "source": [
			"## Example 4.15: 15.sce"
		   ]
		  },
  {
"cell_type": "code",
	   "execution_count": null,
	   "metadata": {
	    "collapsed": true
	   },
	   "outputs": [],
"source": [
"clc\n",
"Q=50; //kJ\n",
"dV=0.14; //m^3\n",
"p=1.2*10^5; //N/m^2\n",
"m=90; //kg\n",
"d=5.5; //m\n",
"g=9.8; //m/s^2\n",
"W_adb = -110; //kJ\n",
"Wnet=m*g*d/1000; //kJ\n",
"\n",
"\n",
"disp('(i)Change in internal energy')\n",
"W=p*dV/1000 + Wnet; //kJ\n",
"dE=Q-W;\n",
"disp('dE=')\n",
"disp(dE)\n",
"disp('kJ')\n",
"\n",
"disp('(ii) Adiabatic process')\n",
"Q=0;\n",
"dE=-W_adb;\n",
"disp('dE=')\n",
"disp(dE)\n",
"disp('kJ')\n",
"\n",
"disp('(iii)Change in internal energy')\n",
"Q=50; //kJ\n",
"dE=Q - [W_adb+W];\n",
"disp('dE=')\n",
"disp(dE)\n",
"disp('kJ')"
   ]
   }
,
{
		   "cell_type": "markdown",
		   "metadata": {},
		   "source": [
			"## Example 4.16: 16.sce"
		   ]
		  },
  {
"cell_type": "code",
	   "execution_count": null,
	   "metadata": {
	    "collapsed": true
	   },
	   "outputs": [],
"source": [
"clc\n",
"V1=0.15; //m^3\n",
"V2=0.05; //m^3\n",
"Q=-45; //kJ\n",
"p1=(5/V1+1.5)*10^5; //N/m^2\n",
"p2=(5/V2+1.5)*10^5; //N/m^2\n",
"W=integrate('(5/V+1.5)*10^2', 'V', V1, V2);\n",
"\n",
"\n",
"disp('(i)Change in internal energy = ')\n",
"dU=Q-W;\n",
"disp('dU=')\n",
"disp(dU)\n",
"disp('kJ')\n",
"\n",
"\n",
"disp('(ii) Change in enthalpy')\n",
"dH=(dU*10^3+(p2*V2-p1*V1))/10^3;\n",
"disp('dH=')\n",
"disp(dH)\n",
"disp('kJ')"
   ]
   }
,
{
		   "cell_type": "markdown",
		   "metadata": {},
		   "source": [
			"## Example 4.17: 17.sce"
		   ]
		  },
  {
"cell_type": "code",
	   "execution_count": null,
	   "metadata": {
	    "collapsed": true
	   },
	   "outputs": [],
"source": [
"clc\n",
"V1=0.25; //m^3\n",
"p1=500; //kPa\n",
"p2=100; //kPa\n",
"V2=V1*(p1/p2)^(1/1.25)\n",
"n=1.25\n",
"dU=3.64*(p2*V2 - p1*V1)\n",
"\n",
"\n",
"disp('(i) If the expansion is quasi-static')\n",
"W=(p1*V1-p2*V2)/(n-1);\n",
"Q=dU+W\n",
"disp('Heat transfered=')\n",
"disp(Q)\n",
"disp('kJ')\n",
"\n",
"\n",
"disp('(ii) In another process')\n",
"Q=32; //kJ\n",
"W=Q-dU;\n",
"disp('Work done=')\n",
"disp(W)\n",
"disp('kJ')\n",
"\n",
"\n",
"disp('(iii)The difference')\n",
"disp('(iii) The work in (ii) is not equal to ∫ p dV since the process is not quasi-static.')"
   ]
   }
,
{
		   "cell_type": "markdown",
		   "metadata": {},
		   "source": [
			"## Example 4.18: 18.sce"
		   ]
		  },
  {
"cell_type": "code",
	   "execution_count": null,
	   "metadata": {
	    "collapsed": true
	   },
	   "outputs": [],
"source": [
"clc\n",
"v1=0.3; //m^3/kg\n",
"T1=20; //0C\n",
"v2=0.55; //m^3/kg\n",
"T2=260; //0C\n",
"p=1.6*10^5; //Pa\n",
"\n",
"disp('(i)Heat added per kg = ')\n",
"Q=integrate('1.5 + 75/(T+45)', 'T', T1,T2);\n",
"disp('Q=')\n",
"disp(Q)\n",
"disp('kJ/kg')\n",
"\n",
"\n",
"disp('(ii)The work done per kg of fluid')\n",
"W=p*(v2-v1)/1000; //kJ/kg\n",
"disp('W=')\n",
"disp(W)\n",
"disp('kJ/kg')\n",
"\n",
"\n",
"disp('(iii)Change in internal energy')\n",
"dU=Q-W;\n",
"disp('dU=')\n",
"disp(dU)\n",
"disp('kJ/kg')\n",
"\n",
"\n",
"disp('(iv)Change in enthalpy')\n",
"dH=Q;\n",
"disp('dH=')\n",
"disp(dH)\n",
"disp('kJ/kg')"
   ]
   }
,
{
		   "cell_type": "markdown",
		   "metadata": {},
		   "source": [
			"## Example 4.19: 19.sce"
		   ]
		  },
  {
"cell_type": "code",
	   "execution_count": null,
	   "metadata": {
	    "collapsed": true
	   },
	   "outputs": [],
"source": [
"clc\n",
"m=1; //kg\n",
"du=-42000; //J\n",
"cp=840; //J/kg.0C\n",
"cv=600; //J/kg.0C\n",
"dT=du/m/cv;\n",
"Q=m*cp*dT;\n",
"W=(Q-du)/10^3;\n",
"disp('Work done=')\n",
"disp(W)\n",
"disp('kJ')"
   ]
   }
,
{
		   "cell_type": "markdown",
		   "metadata": {},
		   "source": [
			"## Example 4.20: 20.sce"
		   ]
		  },
  {
"cell_type": "code",
	   "execution_count": null,
	   "metadata": {
	    "collapsed": true
	   },
	   "outputs": [],
"source": [
"clc\n",
"p1=190; //kPa\n",
"V1=0.035; //m^3\n",
"p2=420; //kPa\n",
"V2=0.07; //m^3\n",
"dU=3.6*(p2*V2-p1*V1);\n",
"// p=a+b*v\n",
"// a+0.035*b=190\n",
"// a+0.07*b=420\n",
"// solving the two equations\n",
"p=[1,0.035;1,0.07];\n",
"q=[190;420];\n",
"X=inv(p)*q;\n",
"a=X(1,1);\n",
"b=X(2,1);\n",
"W=integrate('a+b*V', 'V', V1, V2);\n",
"disp('Work done by the system = ')\n",
"disp(W)\n",
"disp('kJ')\n",
"\n",
"\n",
"Q=dU+W;\n",
"disp('Heat transfer into the system = ')\n",
"disp(Q)\n",
"disp('kJ')"
   ]
   }
,
{
		   "cell_type": "markdown",
		   "metadata": {},
		   "source": [
			"## Example 4.21: 21.sce"
		   ]
		  },
  {
"cell_type": "code",
	   "execution_count": null,
	   "metadata": {
	    "collapsed": true
	   },
	   "outputs": [],
"source": [
"clc\n",
"Qv=90; //kJ\n",
"Qp=-95; //kJ\n",
"W=-18; //kJ\n",
"U_l=105; //kJ\n",
"W_lm=0;\n",
"Q_lm=90;\n",
"U_m=U_l+90;\n",
"dU_mn=Qp-W;\n",
"U_n=U_m+dU_mn;\n",
"dQ=Qv+Qp;\n",
"dW=dQ;\n",
"W_nl=dW-W;\n",
"disp('W_nl(in kJ)=')\n",
"disp(W_nl)\n",
"disp('U_l in kJ =')\n",
"disp(U_l)\n",
"disp('U_m in kJ =')\n",
"disp(U_m)\n",
"disp('U_n in kJ')\n",
"disp(U_n)"
   ]
   }
,
{
		   "cell_type": "markdown",
		   "metadata": {},
		   "source": [
			"## Example 4.2: 2.sce"
		   ]
		  },
  {
"cell_type": "code",
	   "execution_count": null,
	   "metadata": {
	    "collapsed": true
	   },
	   "outputs": [],
"source": [
"clc\n",
"u1=450; //kJ/kg\n",
"u2=220; //kJ/kg\n",
"W=120; //kJ/kg\n",
"Q=(u2-u1) + W;\n",
"disp('Heat rejected by air =')\n",
"disp(-Q)\n",
"disp('kJ/kg')"
   ]
   }
,
{
		   "cell_type": "markdown",
		   "metadata": {},
		   "source": [
			"## Example 4.23: 23.sce"
		   ]
		  },
  {
"cell_type": "code",
	   "execution_count": null,
	   "metadata": {
	    "collapsed": true
	   },
	   "outputs": [],
"source": [
"clc\n",
"V1=0.2; //m^3\n",
"p1=4*10^5; //N/m^2\n",
"T1=403; //K\n",
"p2=1.02*10^5; //N/m^2\n",
"dH=72.5; //kJ\n",
"Q_23=dH;\n",
"cp=1; //kJ/kg\n",
"cv=0.714; //kJ/kg\n",
"y=1.4;\n",
"V2=V1*(p1/p2)^(1/y);\n",
"T2=T1*((p2/p1)^((y-1)/y));\n",
"R=(cp-cv)*1000; //J/kg.K\n",
"m=p1*V1/R/T1;\n",
"T3=Q_23/(m*cp) +T2;\n",
"V3=V2*T3/T2;\n",
"W_12=(p1*V1 - p2*V2)/(y-1);\n",
"W_23=p2*(V3-V2);\n",
"W_123=W_12+W_23;\n",
"disp('Total work done = ')\n",
"disp(W_123)\n",
"disp('J')\n",
"\n",
"\n",
"disp('(ii) Index of expansion, n')\n",
"p3=p2;\n",
"n=(p1*V1-p3*V3)/W_123 + 1;\n",
"disp('value of index = ')\n",
"disp(n)"
   ]
   }
,
{
		   "cell_type": "markdown",
		   "metadata": {},
		   "source": [
			"## Example 4.25: 25.sce"
		   ]
		  },
  {
"cell_type": "code",
	   "execution_count": null,
	   "metadata": {
	    "collapsed": true
	   },
	   "outputs": [],
"source": [
"clc\n",
"d=0.15; //m\n",
"T=303; //K\n",
"p=3*10^5; //N/m^2\n",
"l=0.085; //m\n",
"Q=-4000; //J\n",
"\n",
"disp('(i) Workdone by the system')\n",
"dv=%pi/4*d^2*l;\n",
"W=p*dv;\n",
"disp('W=')\n",
"disp(W/10^3)\n",
"disp('kJ')\n",
"\n",
"\n",
"disp('(ii) Decrease in internal energy of the system')\n",
"dU=(Q-W)/10^3;\n",
"disp('Decrease in internal energy = ')\n",
"disp(-dU)\n",
"disp('kJ')"
   ]
   }
,
{
		   "cell_type": "markdown",
		   "metadata": {},
		   "source": [
			"## Example 4.27: 27.sce"
		   ]
		  },
  {
"cell_type": "code",
	   "execution_count": null,
	   "metadata": {
	    "collapsed": true
	   },
	   "outputs": [],
"source": [
"clc\n",
"y=1.4\n",
"R=294.2; //J/kg.0C\n",
"p1=1*10^5; //N/m^2\n",
"T1=353; //K\n",
"V1=0.45; //m^3\n",
"V2=0.13; //m^3\n",
"p2=5*10^5; //N/m^2\n",
"cv=R/(y-1);\n",
"\n",
"disp('(i) The mass of gas')\n",
"m=p1*V1/R/T1;\n",
"disp('m=')\n",
"disp(m)\n",
"disp('kg')\n",
"\n",
"\n",
"disp('(ii) The value of index ‘n’ for compression')\n",
"n=log(p2/p1)/log(V1/V2);\n",
"disp('n=')\n",
"disp(n)\n",
"\n",
"\n",
"disp('(iii) The increase in internal energy of the gas')\n",
"T2=T1*(V1/V2)^(n-1);\n",
"dU=m*cv*(T2-T1)/10^3;\n",
"disp('dU=')\n",
"disp(dU)\n",
"disp('kJ')\n",
"\n",
"\n",
"disp('(iv) The heat received or rejected by the gas during compression.')\n",
"W=m*R*(T1-T2)/(n-1)/10^3;\n",
"Q=dU+W;\n",
"disp('Q=')\n",
"disp(Q)\n",
"disp('kJ')"
   ]
   }
,
{
		   "cell_type": "markdown",
		   "metadata": {},
		   "source": [
			"## Example 4.28: 28.sce"
		   ]
		  },
  {
"cell_type": "code",
	   "execution_count": null,
	   "metadata": {
	    "collapsed": true
	   },
	   "outputs": [],
"source": [
"clc\n",
"p1=1.02*10^5; //Pa\n",
"T1=295; //K\n",
"V1=0.015; //m^3\n",
"p2=6.8*10^5; //Pa\n",
"y=1.4;\n",
"\n",
"\n",
"disp('(i) Final temperature')\n",
"T2=T1*(p2/p1)^((y-1)/y);\n",
"t2=T2-273; \n",
"disp('t2=')\n",
"disp(t2)\n",
"disp('°C')\n",
"\n",
"\n",
"disp('(ii) Final volume :')\n",
"V2=V1*(p1/p2)^(1/y);\n",
"disp('V2=')\n",
"disp(V2)\n",
"disp('m^3')\n",
"\n",
"\n",
"disp('(iii)Work done')\n",
"R=287;\n",
"m=p1*V1/R/T1;\n",
"W=m*R*(T1-T2)/(y-1)/10^3;\n",
"disp('W=')\n",
"disp(W)\n",
"disp('kJ')"
   ]
   }
,
{
		   "cell_type": "markdown",
		   "metadata": {},
		   "source": [
			"## Example 4.29: 29.sce"
		   ]
		  },
  {
"cell_type": "code",
	   "execution_count": null,
	   "metadata": {
	    "collapsed": true
	   },
	   "outputs": [],
"source": [
"clc\n",
"m=0.44; //kg\n",
"T1=453; //K\n",
"ratio=3; //ratio=V2/V1\n",
"T2=288; //K\n",
"W_12=52.5; //kJ\n",
"y=log(T2/T1)/ log(1/ratio) + 1;\n",
"R=W_12*(y-1)/m/(T1-T2);\n",
"// We have got two equations\n",
"// cp-cv=R\n",
"// cp-y*cv=0\n",
"M=[1,-1;1,-y];\n",
"N=[R;0];\n",
"X=inv(M)*N;\n",
"cp=X(1,1);\n",
"cv=X(2,1);\n",
"disp('cp=')\n",
"disp(cp)\n",
"disp('kJ/kg.K')\n",
"\n",
"\n",
"disp('cv=')\n",
"disp(cv)\n",
"disp('kJ/kg.K')"
   ]
   }
,
{
		   "cell_type": "markdown",
		   "metadata": {},
		   "source": [
			"## Example 4.30: 30.sce"
		   ]
		  },
  {
"cell_type": "code",
	   "execution_count": null,
	   "metadata": {
	    "collapsed": true
	   },
	   "outputs": [],
"source": [
"clc\n",
"n=1.3;\n",
"m=1; //kg\n",
"p1=1.1; //bar\n",
"T1=300; //K\n",
"p2=6.6; //bar\n",
"R0=8314;\n",
"M=30;\n",
"cp=1.75; //kJ/kg.K\n",
"R=R0/M/1000; //kJ/kg.K\n",
"cv=cp - R;\n",
"y=cp/cv;\n",
"T2=T1 *(p2/p1)^((n-1)/n);\n",
"W=R*(T1-T2)/(n-1);\n",
"Q=((y-n)/(y-1))*W;\n",
"disp('Heat supplied = ')\n",
"disp(Q)\n",
"disp('kJ/kg')"
   ]
   }
,
{
		   "cell_type": "markdown",
		   "metadata": {},
		   "source": [
			"## Example 4.31: 31.sce"
		   ]
		  },
  {
"cell_type": "code",
	   "execution_count": null,
	   "metadata": {
	    "collapsed": true
	   },
	   "outputs": [],
"source": [
"clc\n",
"cp=14.3; //kJ/kg.K\n",
"cv=10.2; //kJ/kg.K\n",
"V1=0.1; //m^3\n",
"T1=300; //K\n",
"p1=1; //bar\n",
"p2=8; //bar\n",
"y=cp/cv;\n",
"R=cp-cv;\n",
"V2=V1*(p1/p2)^(1/y);\n",
"V3=V2;\n",
"T2=T1*(p2/p1)^((y-1)/y);\n",
"p3=p1*V1/V3;\n",
"T3=300; //K\n",
"\n",
"\n",
"disp('(i) Pressure at the end of constant volume cooling = ')\n",
"disp(p3)\n",
"disp('bar')\n",
"\n",
"\n",
"disp('(ii) Change in internal energy during constant volume process')\n",
"m=p1*V1/R/T1*10^2; //kg\n",
"\n",
"dU_23=m*cv*(T3-T2);\n",
"disp('dU_23 = ')\n",
"disp(dU_23)\n",
"disp('kJ')\n",
"\n",
"\n",
"disp('(iii) Net work done and heat transferred during the cycle')\n",
"W_12=m*R*(T1-T2)/(y-1);\n",
"W_23=0;\n",
"W_31=p3*V3*log(V1/V3)*10^2; //kJ\n",
"disp('Net work done=')\n",
"Wnet=W_12+W_23+W_31;\n",
"disp(Wnet)\n",
"disp('kJ')\n",
"Qnet=Wnet;\n",
"disp('Heat transferred during the complete cycle = ')\n",
"disp(Qnet)\n",
"disp('kJ')"
   ]
   }
,
{
		   "cell_type": "markdown",
		   "metadata": {},
		   "source": [
			"## Example 4.32: 32.sce"
		   ]
		  },
  {
"cell_type": "code",
	   "execution_count": null,
	   "metadata": {
	    "collapsed": true
	   },
	   "outputs": [],
"source": [
"clc\n",
"V1=0.15; //m^3\n",
"p1=15; //bar\n",
"T1=550; //K\n",
"T2=T1;\n",
"r=4; //r=V2/V1\n",
"V2=r*V1;\n",
"T3=290; //K\n",
"p2=p1*V1/V2;\n",
"W_12=p1*V1*log(V2/V1)*10^2; //kJ\n",
"V3=V2;\n",
"p3=p2*T3/T2;\n",
"W_23=0;\n",
"n=log(p1/p3)/log(V3/V1);\n",
"W_31=(p3*V3-p1*V1)/(n-1)*10^2; //kJ\n",
"\n",
"disp('net work done = ')\n",
"Wnet=W_12+W_23+W_31\n",
"disp('kJ')\n",
"\n",
"Qnet=Wnet;\n",
"disp('Heat transferred during the cycle = ')\n",
"disp(Qnet)\n",
"disp('kJ')"
   ]
   }
,
{
		   "cell_type": "markdown",
		   "metadata": {},
		   "source": [
			"## Example 4.33: 33.sce"
		   ]
		  },
  {
"cell_type": "code",
	   "execution_count": null,
	   "metadata": {
	    "collapsed": true
	   },
	   "outputs": [],
"source": [
"clc\n",
"m=1; //kg\n",
"p1=5; //bar\n",
"V1=0.02; //m^3\n",
"V2=0.08; //m^3\n",
"p2=1.5; //bar\n",
"\n",
"function p=f(V)\n",
"    p=a+b*V;\n",
"endfunction\n",
"\n",
"// 5=a+0.02*b\n",
"// 1.5=a+0.08*b\n",
"// Solving above two equations\n",
"\n",
"A=[1,0.02;1,0.08];\n",
"B=[5;1.5];\n",
"X=inv(A)*B;\n",
"a=X(1,1);\n",
"b=X(2,1);\n",
"\n",
"disp('(i) p-V diagram')\n",
"\n",
"V=0.02:0.001:0.08;\n",
"p=a+b*V;\n",
"plot(V,p,'b')\n",
"\n",
"V=[0.0667 0.08];\n",
"p=[1.5 1.5];\n",
"plot(V,p,'g')\n",
"\n",
"V=0.02:0.001:0.0667;\n",
"function p=fa(V)\n",
"    p=0.1/V;\n",
"endfunction\n",
"\n",
"plot(V,fa,'r')\n",
"\n",
"V=[0.0667 0.0667];\n",
"p=[1.5 0];\n",
"plot(V,p,'--')\n",
"\n",
"xtitle('p-V diagram', 'V(m^3)', 'p(bar)');\n",
"legend('p=a+b*V','p=constant','pv=constant')\n",
"\n",
"\n",
"disp('(ii) Work done and heat transfer')\n",
"\n",
"W_12=integrate('(a+b*V)*10^2','V',V1,V2);\n",
"disp('Work done by the system =')\n",
"disp(W_12)\n",
"disp('kJ')\n",
"\n",
"p3=p2;\n",
"V3=p1*V1/p3;\n",
"W_23=p2*(V3-V2)*10^2; //kJ\n",
"\n",
"W_31=p3*V3*log(V1/V3)*10^2; //kJ\n",
"disp('Work done on the system =')\n",
"disp(W_31)\n",
"disp('kJ')\n",
"\n",
"W_net=W_12+W_23+W_31;\n",
"disp('Net work done =')\n",
"disp(W_net)\n",
"disp('kJ')\n",
"\n",
"Q_net=W_net;\n",
"disp('Heat transferred during the complete cycle =')\n",
"disp(Q_net)\n",
"disp('kJ')"
   ]
   }
,
{
		   "cell_type": "markdown",
		   "metadata": {},
		   "source": [
			"## Example 4.3: 3.sce"
		   ]
		  },
  {
"cell_type": "code",
	   "execution_count": null,
	   "metadata": {
	    "collapsed": true
	   },
	   "outputs": [],
"source": [
"clc\n",
"m=0.3; //kg\n",
"cv=0.75; //kJ/kg.K\n",
"T1=313; //K\n",
"T2=433; //K\n",
"W=-30; //kJ\n",
"dU=m*cv*(T2-T1);\n",
"Q=dU + W;\n",
"disp('Heat rejected during the process=')\n",
"disp(-Q)\n",
"disp('kJ')"
   ]
   }
,
{
		   "cell_type": "markdown",
		   "metadata": {},
		   "source": [
			"## Example 4.34: 34.sce"
		   ]
		  },
  {
"cell_type": "code",
	   "execution_count": null,
	   "metadata": {
	    "collapsed": true
	   },
	   "outputs": [],
"source": [
"clc\n",
"cv=0.71; //kJ/kg.K\n",
"R=0.287; //kJ/kg.K\n",
"d=8; //cm\n",
"l=3.5; //cm\n",
"S=150; //N/cm\n",
"p1=30; //N/cm\n",
"V1=45; //cm^3\n",
"T1=293; //K\n",
"cv=0.71; //kJ/kg.K\n",
"R=0.287; //kJ/kg.K\n",
"A=%pi/4*d^2;\n",
"C=p1-S/A^2*V1;\n",
"dV=l*A;\n",
"V2=V1+dV;\n",
"p2=S/A^2*V2 + C;\n",
"W=integrate('A^2/S*p/100', 'p', p1, p2);\n",
"T2=p2*V2*T1/p1/V1;\n",
"m=p1*V1/R/T1/10^5; //kg\n",
"dU=m*cv*(T2-T1);\n",
"Q_12=dU + W*10^(-3);\n",
"disp('Amount of heat added to the system = ')\n",
"disp(Q_12)\n",
"disp('kJ')"
   ]
   }
,
{
		   "cell_type": "markdown",
		   "metadata": {},
		   "source": [
			"## Example 4.35: 35.sce"
		   ]
		  },
  {
"cell_type": "code",
	   "execution_count": null,
	   "metadata": {
	    "collapsed": true
	   },
	   "outputs": [],
"source": [
"clc\n",
"r=10; //kg/min\n",
"p1=1.5*10^5; //N/m^2\n",
"rho1=26; //kg/m^3\n",
"C1=110; //m/s\n",
"u1=910; //kJ/kg\n",
"p2=5.5*10^5; //N/m^2\n",
"rho2=5.5; //kg/m^3\n",
"C2=190; //m/s\n",
"u2=710; //kJ/kg\n",
"Q=55; //kJ/s\n",
"h=55; //m\n",
"g=9.81; //m/s^2\n",
"v2=1/rho2;\n",
"v1=1/rho1;\n",
"\n",
"disp('(i) Change in enthalpy')\n",
"dh=u2-u1+ (p2*v2-p1*v1)/10^3;\n",
"disp(dh)\n",
"disp('kJ/kg')\n",
"\n",
"disp('(ii) Work done during the process (W).')\n",
"\n",
"Q=330; //kJ/kg\n",
"KE=(C2^2-C1^2)/2/10^3; //kJ\n",
"PE=g*h/10^3; //kJ\n",
"W=-Q-KE-PE-dh;\n",
"disp('Work done = ')\n",
"disp(W)\n",
"disp('kJ')\n",
"\n",
"\n",
"disp('Work done per second = ')\n",
"P=W*10/60;\n",
"disp(P)\n",
"disp('kW')"
   ]
   }
,
{
		   "cell_type": "markdown",
		   "metadata": {},
		   "source": [
			"## Example 4.36: 36.sce"
		   ]
		  },
  {
"cell_type": "code",
	   "execution_count": null,
	   "metadata": {
	    "collapsed": true
	   },
	   "outputs": [],
"source": [
"clc\n",
"m=15; //kg/s\n",
"v=0.45; //m^3/kg\n",
"P=12000; //kW\n",
"W=P/m; //kJ/kg\n",
"h1=1260; //kJ/kg\n",
"h2=400; //kJ/kg\n",
"C1=50; //m/s\n",
"C2=110; //m/s\n",
"\n",
"disp('(i) Heat rejected = ')\n",
"Q=h2-h1+(C2^2-C1^2)/2/10^3 +W;\n",
"Qnet=m*Q;\n",
"disp('Qnet=')\n",
"disp(-Qnet)\n",
"disp('kW')\n",
"\n",
"disp('(ii) Inlet area')\n",
"A=v*m/C1;\n",
"disp('A=')\n",
"disp(A)\n",
"disp('m^2')"
   ]
   }
,
{
		   "cell_type": "markdown",
		   "metadata": {},
		   "source": [
			"## Example 4.37: 37.sce"
		   ]
		  },
  {
"cell_type": "code",
	   "execution_count": null,
	   "metadata": {
	    "collapsed": true
	   },
	   "outputs": [],
"source": [
"clc\n",
"m=0.5; //kg/s\n",
"C1=6; //m/s\n",
"C2=5; //m/s\n",
"p1=1; //bar\n",
"p2=7; //bar\n",
"v1=0.85; //m^3/kg\n",
"v2=0.16; //m^3/kg\n",
"du=90; //kJ/kg\n",
"Q=-120; //kJ/kg\n",
"\n",
"\n",
"disp('(i) Power required to drive the compressor')\n",
"W=-du+(C1^2-C2^2)/2/1000 + (p1*v1 - p2*v2)*10^2 + Q;\n",
"Power=m*W; \n",
"disp('Power=')\n",
"disp(-Power)\n",
"disp('kW')\n",
"\n",
"\n",
"disp('(ii) Inlet and outlet pipe cross-sectional areas')\n",
"A1=m*v1/C1;\n",
"A2=m*v2/C2;\n",
"disp('Inlet crosssectional area = ')\n",
"disp(A1)\n",
"disp('m^2')\n",
"\n",
"disp('Outlet crossectional area=')\n",
"disp(A2)\n",
"disp('m^2')"
   ]
   }
,
{
		   "cell_type": "markdown",
		   "metadata": {},
		   "source": [
			"## Example 4.38: 38.sce"
		   ]
		  },
  {
"cell_type": "code",
	   "execution_count": null,
	   "metadata": {
	    "collapsed": true
	   },
	   "outputs": [],
"source": [
"clc\n",
"h1=800; //kJ/kg\n",
"C1=5; //m/s\n",
"h2=2520; //kJ/kg\n",
"C2=50; //m/s\n",
"dZ=4; //m\n",
"g=9.81; //m/s^2\n",
"Q=2180; //kJ/kg\n",
"W=h1-h2+(C1^2 - C2^2)/2/1000 +dZ*g/1000+Q;\n",
"disp('Power developed = ')\n",
"disp(W)\n",
"disp('kW')"
   ]
   }
,
{
		   "cell_type": "markdown",
		   "metadata": {},
		   "source": [
			"## Example 4.39: 39.sce"
		   ]
		  },
  {
"cell_type": "code",
	   "execution_count": null,
	   "metadata": {
	    "collapsed": true
	   },
	   "outputs": [],
"source": [
"clc\n",
"g=9.8; //m/s^2\n",
"m=4500/3600; //kg/s\n",
"C1=2800/60; //m/s\n",
"Z1=5.5; //m\n",
"h1=2800; //kJ/g\n",
"C2=5600/60; //m/s\n",
"Z2=1.5; //m\n",
"h2=2300; //kJ/kg\n",
"Q=-16000/3600; //kJ/s\n",
"W=Q-m*[(h1-h2) + (C2^2 - C1^2)/2/1000 + (Z2-Z1)*g/1000];\n",
"disp('Power output of the turbine = ')\n",
"disp(-W)\n",
"disp('kW')"
   ]
   }
,
{
		   "cell_type": "markdown",
		   "metadata": {},
		   "source": [
			"## Example 4.40: 40.sce"
		   ]
		  },
  {
"cell_type": "code",
	   "execution_count": null,
	   "metadata": {
	    "collapsed": true
	   },
	   "outputs": [],
"source": [
"clc\n",
"p1=6.87; //bar\n",
"C1=50; //m/s\n",
"p2=1.37; //bar\n",
"C2=500; //m/s\n",
"disp('From steam table corresponding to p1')\n",
"h1=2850; //kJ/kg\n",
"h2=h1 - (C2^2-C1^2)/2/1000;\n",
"disp('Final enthalpy of steam = ')\n",
"disp(h2)\n",
"disp('kJ')"
   ]
   }
,
{
		   "cell_type": "markdown",
		   "metadata": {},
		   "source": [
			"## Example 4.41: 41.sce"
		   ]
		  },
  {
"cell_type": "code",
	   "execution_count": null,
	   "metadata": {
	    "collapsed": true
	   },
	   "outputs": [],
"source": [
"clc\n",
"m=220/60; //kg/s\n",
"C1=320; //m/s\n",
"p1=6*10^5; //N/m^2\n",
"u1=2000*10^3; //J/kg\n",
"v1=0.36; //m^3/kg\n",
"C2=140; //m/s\n",
"p2=1.2*10^5; //N/m^2\n",
"u2=1400*10^3; //J/kg\n",
"v2=1.3; //m^3/kg\n",
"Q=100*10^3; //J/s\n",
"W=(m*[(u1-u2)+ (p1*v1 - p2*v2) + (C1^2-C2^2)/2] -Q)/10^6;\n",
"disp('power capacity of the system = ')\n",
"disp(W)\n",
"disp('MW')"
   ]
   }
,
{
		   "cell_type": "markdown",
		   "metadata": {},
		   "source": [
			"## Example 4.42: 42.sce"
		   ]
		  },
  {
"cell_type": "code",
	   "execution_count": null,
	   "metadata": {
	    "collapsed": true
	   },
	   "outputs": [],
"source": [
"clc\n",
"p1=7.5*10^5; //N/m^2\n",
"C1=140; //m/s\n",
"h1=950*10^3; //J/kg\n",
"p2=2*10^5; //N/m^2\n",
"C2=280; //m/s\n",
"h2=650*10^3; //J/kg\n",
"m=5; //kg/s\n",
"W=(h1-h2)+(C1^2-C2^2)/2\n",
"Power=m*W/1000;\n",
"disp('Power capacity of turbine = ')\n",
"disp(Power)\n",
"disp('kW')"
   ]
   }
,
{
		   "cell_type": "markdown",
		   "metadata": {},
		   "source": [
			"## Example 4.43: 43.sce"
		   ]
		  },
  {
"cell_type": "code",
	   "execution_count": null,
	   "metadata": {
	    "collapsed": true
	   },
	   "outputs": [],
"source": [
"clc\n",
"C1=12; //m/s\n",
"p1=1*10^5; //N/m^2\n",
"v1=0.5; //m^3/kg\n",
"C2=90; //m/s\n",
"p2=8*10^5; //N/m^2\n",
"v2=0.14; //m^3/kg\n",
"dh=150; //kJ/kg\n",
"Q=-11.67; //kJ/s\n",
"m=0.2; //kg/s\n",
"\n",
"disp('(i) Motor power required to drive the compressor')\n",
"W=m*[-dh + (C1^2-C2^2)/2/1000] +Q;\n",
"disp('Power=')\n",
"disp(-W)\n",
"disp('kW')\n",
"\n",
"\n",
"disp('(ii)Ratio of inlet to outlet pipi diameter')\n",
"ratio=sqrt(C2/C1*v1/v2);\n",
"disp('ratio=')\n",
"disp(ratio)"
   ]
   }
,
{
		   "cell_type": "markdown",
		   "metadata": {},
		   "source": [
			"## Example 4.44: 44.sce"
		   ]
		  },
  {
"cell_type": "code",
	   "execution_count": null,
	   "metadata": {
	    "collapsed": true
	   },
	   "outputs": [],
"source": [
"clc\n",
"W=-175; //kJ/kg\n",
"dh=70; //kJ/kg\n",
"Q_water=-92; //kJ/kg\n",
"Q=dh+W;\n",
"Q_atm=Q-Q_water;\n",
"disp('Heat transferred to the atmosphere = ')\n",
"disp(-Q_atm)\n",
"disp('kJ/kg')"
   ]
   }
,
{
		   "cell_type": "markdown",
		   "metadata": {},
		   "source": [
			"## Example 4.4: 4.sce"
		   ]
		  },
  {
"cell_type": "code",
	   "execution_count": null,
	   "metadata": {
	    "collapsed": true
	   },
	   "outputs": [],
"source": [
"clc\n",
"p1=105; //kPa\n",
"V1=0.4;  //m^3\n",
"p2=p1;\n",
"V2=0.20; //m^3\n",
"Q=-42.5; //kJ\n",
"W=p1*(V2-V1);\n",
"dU=Q-W;\n",
"disp('change in internal energy = ')\n",
"disp(dU)\n",
"disp('kJ')"
   ]
   }
,
{
		   "cell_type": "markdown",
		   "metadata": {},
		   "source": [
			"## Example 4.45: 45.sce"
		   ]
		  },
  {
"cell_type": "code",
	   "execution_count": null,
	   "metadata": {
	    "collapsed": true
	   },
	   "outputs": [],
"source": [
"clc\n",
"h1=2800*10^3; //J/kg\n",
"C1=50; //m/s\n",
"A1=900*10^(-4); //m^2\n",
"v1=0.187; //m^3/kg\n",
"h2=2600*10^3; //J/kg\n",
"v2=0.498; //m^3/kJ\n",
"disp('(i) Velocity at exit of the nozzle')\n",
"C2=sqrt(2*[(h1-h2) + C1^2/2]);\n",
"\n",
"disp('C2=')\n",
"disp(C2)\n",
"disp('m/s')\n",
"\n",
"\n",
"disp('(ii) Mass flow rate')\n",
"m=A1*C1/v1;\n",
"disp('m=')\n",
"disp(m)\n",
"disp('kg/s')\n",
"\n",
"\n",
"disp('(iii) Area at the exit')\n",
"A2=m*v2/C2*10^4;\n",
"disp('A2=')\n",
"disp(A2)\n",
"disp('cm^2')"
   ]
   }
,
{
		   "cell_type": "markdown",
		   "metadata": {},
		   "source": [
			"## Example 4.46: 46.sce"
		   ]
		  },
  {
"cell_type": "code",
	   "execution_count": null,
	   "metadata": {
	    "collapsed": true
	   },
	   "outputs": [],
"source": [
"clc\n",
"h1=240; //kJ/kg\n",
"h2=192; //kJ/kg\n",
"dZ=20; //m\n",
"g=9.81; //m/s^2\n",
"Q=(h2-h1)+dZ*g/1000;\n",
"\n",
"disp('heat transfer = ')\n",
"disp(-Q)\n",
"disp('kJ/kg')"
   ]
   }
,
{
		   "cell_type": "markdown",
		   "metadata": {},
		   "source": [
			"## Example 4.47: 47.sce"
		   ]
		  },
  {
"cell_type": "code",
	   "execution_count": null,
	   "metadata": {
	    "collapsed": true
	   },
	   "outputs": [],
"source": [
"clc\n",
"p1=2; //bar\n",
"C1=300; //m/s\n",
"Q=0;\n",
"h1=915*10^3; //J/kg\n",
"h2=800*10^3; //J/kg\n",
"C2=sqrt(2*[h1-h2 + C1^2/2]);\n",
"disp('Relative velocity of gas leaving the pipe=')\n",
"disp(C2)\n",
"disp('m/s')"
   ]
   }
,
{
		   "cell_type": "markdown",
		   "metadata": {},
		   "source": [
			"## Example 4.48: 48.sce"
		   ]
		  },
  {
"cell_type": "code",
	   "execution_count": null,
	   "metadata": {
	    "collapsed": true
	   },
	   "outputs": [],
"source": [
"clc\n",
"mw=50; //kg/s\n",
"p1=10^5; //N/m^2\n",
"p2=4.2*10^5; //N/m^2\n",
"h=10.7; //m\n",
"d1=0.2; //m\n",
"d2=0.1; //m\n",
"v1=1/1000;\n",
"v2=1/1000;\n",
"g=9.81; //m/s^2\n",
"\n",
"C1=mw*4/%pi/d1^2*v1;\n",
"C2=mw*4/%pi/d2^2*v2;\n",
"W=mw*[(p1*v1-p2*v2) + (g*(0-h))+(C1^2-C2^2)/2]/10^3;\n",
"disp('Capacity of electric motor')\n",
"disp(-W)\n",
"disp('kW')"
   ]
   }
,
{
		   "cell_type": "markdown",
		   "metadata": {},
		   "source": [
			"## Example 4.49: 49.sce"
		   ]
		  },
  {
"cell_type": "code",
	   "execution_count": null,
	   "metadata": {
	    "collapsed": true
	   },
	   "outputs": [],
"source": [
"clc\n",
"Ca=250; //m/s\n",
"t=-14; //0C\n",
"ha=250; //kJ/kg\n",
"hg=900; //kJ/kg\n",
"ratio=0.0180;\n",
"Ef=45*10^3; //kJ/kg\n",
"Q=-21; //kJ/kg\n",
"ma=1; //kg\n",
"mg=1.018; //kg\n",
"mf=0.018; //kg\n",
"Eg=0.06*mf/mg*Ef;\n",
"Cg=sqrt(2000*([ma*(ha+Ca^2/2/1000) + mf*Ef + Q]/mg -hg-Eg));\n",
"disp('velocity of exhaust gas jet = ')\n",
"disp(Cg)\n",
"disp('m/s')"
   ]
   }
,
{
		   "cell_type": "markdown",
		   "metadata": {},
		   "source": [
			"## Example 4.50: 50.sce"
		   ]
		  },
  {
"cell_type": "code",
	   "execution_count": null,
	   "metadata": {
	    "collapsed": true
	   },
	   "outputs": [],
"source": [
"clc\n",
"t1=20; //0C\n",
"C1=40; //m/s\n",
"t2=820; //0C\n",
"C2=40; //m/s\n",
"t3=620; //0C\n",
"C3=55; //m/s\n",
"t4=510; //0C\n",
"m=2.5; //kg/s\n",
"cp=1.005; //kJ/kg.0C\n",
"\n",
"\n",
"disp('(i) Heat exchanger')\n",
"Q_12=m*cp*(t2-t1);\n",
"disp('rate of heat transfer=')\n",
"disp(Q_12)\n",
"disp('kJ/s')\n",
"\n",
"\n",
"disp('(ii) Turbine')\n",
"W_23=m*[(cp*(t2-t3))+(C2^2-C3^2)/2/1000];\n",
"disp('Power output of turbine=')\n",
"disp(W_23)\n",
"disp('kW')\n",
"\n",
"\n",
"disp('(iii) Nozzle')\n",
"C4=sqrt(2*1000*(cp*(t3-t4)+C3^2/2/1000));\n",
"disp('Velocity at exit from the nozzle= ')\n",
"disp(C4)\n",
"disp('m/s')"
   ]
   }
,
{
		   "cell_type": "markdown",
		   "metadata": {},
		   "source": [
			"## Example 4.51: 51.sce"
		   ]
		  },
  {
"cell_type": "code",
	   "execution_count": null,
	   "metadata": {
	    "collapsed": true
	   },
	   "outputs": [],
"source": [
"clc\n",
"V=0.028; //m^3\n",
"p1=80; //bar\n",
"t=350; //0C\n",
"p2=50; //bar\n",
"v1=0.02995; //m^3/kg\n",
"h1=2987.3; //kJ/kg\n",
"v2=0.02995; //m^3/kg\n",
"vg2=0.0394; //m^3/kg\n",
"uf2=1149; //kJ/kg\n",
"ug2=2597; //kJ/kg\n",
"\n",
"m=V/v1;\n",
"u1=h1 - (p1*v1*10^2); //kJ/kg\n",
"\n",
"\n",
"disp('(i) State of steam after cooling')\n",
"x2=v2/vg2;\n",
"disp('dryness fraction = ')\n",
"disp(x2)\n",
"\n",
"\n",
"disp('(ii) Heat rejected by the steam')\n",
"u2=(1-x2)*uf2 + x2*ug2;\n",
"Q=m*(u2-u1);\n",
"disp('Heat rejected = ')\n",
"disp(-Q)\n",
"disp('kJ')"
   ]
   }
,
{
		   "cell_type": "markdown",
		   "metadata": {},
		   "source": [
			"## Example 4.52: 52.sce"
		   ]
		  },
  {
"cell_type": "code",
	   "execution_count": null,
	   "metadata": {
	    "collapsed": true
	   },
	   "outputs": [],
"source": [
"clc\n",
"m=0.08; //kg\n",
"p=2*10^5; //Pa\n",
"V=0.10528; //m^3\n",
"h1=2706.3; //kJ/kg\n",
"h2=3071.8; //kJ/kg\n",
"v1=0.885; //m^3/kg\n",
"v2=V/m; //m^3/kg\n",
"\n",
"\n",
"disp('(i) Heat supplied')\n",
"Q=m*(h2-h1);\n",
"disp('Q=')\n",
"disp(Q)\n",
"disp('kJ')\n",
"\n",
"disp('(ii) Work done')\n",
"W=p*(v2-v1);\n",
"W_total=m*W/10^3;\n",
"disp('Total work done = ')\n",
"disp(W_total)\n",
"disp('kJ')"
   ]
   }
,
{
		   "cell_type": "markdown",
		   "metadata": {},
		   "source": [
			"## Example 4.53: 53.sce"
		   ]
		  },
  {
"cell_type": "code",
	   "execution_count": null,
	   "metadata": {
	    "collapsed": true
	   },
	   "outputs": [],
"source": [
"clc\n",
"m=1; //kg\n",
"p=8; //bar\n",
"s1=6.55; //kJ/kg.K\n",
"T=200; //0C\n",
"s_f1=2.0457; //kJ/kg.K\n",
"s_fg1=4.6139; //kJ/kg.K\n",
"h_f1=720.9; //kJ/kg\n",
"h_fg1=2046.5; //kJ/kg\n",
"h2=2839.3; //kJ/kg\n",
"\n",
"x1=(s1-s_f1)/s_fg1;\n",
"h1=h_f1+x1*h_fg1;\n",
"Q=h2-h1;\n",
"disp('Heat supplied=')\n",
"disp(Q)\n",
"disp('kJ/kg')\n",
"\n",
"// For T-s diagram\n",
"\n",
"s=0:0.01:10;\n",
"T=(-(s-5)^2+298);\n",
"plot(s,T)\n",
"\n",
"T=[295.44 295.44];\n",
"s=[6.6 3.45];\n",
"plot(s,T,'g')\n",
"\n",
"s=[6.6 7];\n",
"T=[295.44 300];\n",
"plot(s,T,'g')\n",
"\n",
"s=[6.55 6.55];\n",
"T=[270 295.44];\n",
"plot(s,T,'r')\n",
"\n",
"s=[6.6 6.6];\n",
"T=[270 295.44];\n",
"plot(s,T,'--r')\n",
"\n",
"s=[6.66 6.66];\n",
"T=[270 295.44];\n",
"plot(s,T,'r')\n",
"\n",
"xtitle('T-s diagram', 's(kJ/kg K)', 'T(K)')\n",
"//The area in red represents the heat flow and it goes upto x-axis"
   ]
   }
,
{
		   "cell_type": "markdown",
		   "metadata": {},
		   "source": [
			"## Example 4.54: 54.sce"
		   ]
		  },
  {
"cell_type": "code",
	   "execution_count": null,
	   "metadata": {
	    "collapsed": true
	   },
	   "outputs": [],
"source": [
"clc\n",
"p1=7*10^5; //Pa\n",
"p2=1.5*10^5; //Pa\n",
"Q=420; //kJ/kg\n",
"uf=696; //kJ/kg\n",
"x=0.95;\n",
"ug=2573; //kJ/kg\n",
"u_f2=2580; //kJ/kg\n",
"u_g2=2856; //kJ/kg\n",
"x2=15/50;\n",
"h_f1=697.1; //kJ/kg\n",
"h_fg1=2064.9; //kJ.kg\n",
"h_f2=2772.6; //kJ/kg\n",
"h_g2=2872.9; //kJ/kg\n",
"\n",
"\n",
"disp('(i) Change of internal energy')\n",
"u1=(1-x)*uf + x*ug;\n",
"u2=2602.8; //kJ/kg\n",
"du=u2-u1;\n",
"disp('du=')\n",
"disp(du)\n",
"disp('kJ/kg')\n",
"\n",
"\n",
"disp('(ii) Change in enthalpy')\n",
"h1=h_f1+x*h_fg1;\n",
"h2=h_f2+x2*(h_g2-h_f2);\n",
"dh=h2-h1;\n",
"disp('dh=')\n",
"disp(dh)\n",
"disp('kJ/kg')\n",
"\n",
"\n",
"disp('(iii) Work done = ')\n",
"W=Q-du;\n",
"disp('W=')\n",
"disp(W)\n",
"disp('kJ/kg')"
   ]
   }
,
{
		   "cell_type": "markdown",
		   "metadata": {},
		   "source": [
			"## Example 4.55: 55.sce"
		   ]
		  },
  {
"cell_type": "code",
	   "execution_count": null,
	   "metadata": {
	    "collapsed": true
	   },
	   "outputs": [],
"source": [
"clc\n",
"p1=5.5*10^5; //Pa\n",
"x1=1;\n",
"p2=0.75*10^5; //Pa\n",
"v1=0.3427; //m^3/kg\n",
"v2=p1*v1/p2;\n",
"// Since v2 > vg (at 0.75 bar), therefore, the steam is superheated at state 2.\n",
"u2=2567.25; //kJ/kg\n",
"u1=2565; //kJ/kg\n",
"du=u2-u1; //kJ/kg\n",
"C=p1*v1;\n",
"\n",
"disp('Work done = ')\n",
"W=integrate('C/v', 'v', v1,v2)\n",
"disp('N-m/kg')\n",
"\n",
"\n",
"disp('Heat supplied = ')\n",
"Q=du+W/10^3;\n",
"disp(Q)\n",
"disp('kJ/kg')"
   ]
   }
,
{
		   "cell_type": "markdown",
		   "metadata": {},
		   "source": [
			"## Example 4.56: 56.sce"
		   ]
		  },
  {
"cell_type": "code",
	   "execution_count": null,
	   "metadata": {
	    "collapsed": true
	   },
	   "outputs": [],
"source": [
"p1=100; //bar\n",
"p2=10; //bar\n",
"s1=5.619; //kJ/kg.K\n",
"T=584; //K\n",
"s2=7.163; //kJ/kg.K\n",
"u1=2545; //kJ/kg\n",
"u2=2811.8; //kJ/kg\n",
"\n",
"\n",
"disp('(i)Heat supplied ')\n",
"Q=T*(s2-s1);\n",
"disp('Q=')\n",
"disp(Q)\n",
"disp('kJ/kg')\n",
"\n",
"\n",
"disp('(ii) Work done')\n",
"W=Q-(u2-u1);\n",
"disp('W=')\n",
"disp(W)\n",
"disp('kJ/kg')"
   ]
   }
,
{
		   "cell_type": "markdown",
		   "metadata": {},
		   "source": [
			"## Example 4.57: 57.sce"
		   ]
		  },
  {
"cell_type": "code",
	   "execution_count": null,
	   "metadata": {
	    "collapsed": true
	   },
	   "outputs": [],
"source": [
"clc\n",
"m=1; //kg\n",
"p1=120*10^5; //N/m^2\n",
"t1=400; //0C\n",
"p2=38; //bar\n",
"h1=3051.3; //kJ/kg\n",
"v1=0.02108; //m^3/kg\n",
"u1=h1-p1*v1/10^3; //kJ/kg\n",
"u2=2602; //kJ/kg\n",
"disp('WOrk done = ')\n",
"W=u1-u2; \n",
"disp(W)\n",
"disp('kJ/kg')"
   ]
   }
,
{
		   "cell_type": "markdown",
		   "metadata": {},
		   "source": [
			"## Example 4.58: 58.sce"
		   ]
		  },
  {
"cell_type": "code",
	   "execution_count": null,
	   "metadata": {
	    "collapsed": true
	   },
	   "outputs": [],
"source": [
"clc\n",
"p1=7*10^5; //N/m^2\n",
"x1=0.98;\n",
"p2=0.34*10^5; //N/m^2\n",
"vg=0.273; //m^3/kg\n",
"n=1.1;\n",
"v_g2=4.65; //m^3/kg\n",
"u_f1=696; //kJ/kg\n",
"u_g1=2573; //kJ/kg\n",
"u_f2=302; //kJ/kg\n",
"u_g2=2472; //kJ/kg\n",
"\n",
"\n",
"v1=x1*vg;\n",
"v2=v1*(p1/p2)^(1/n);\n",
"x2=v2/v_g2;\n",
"\n",
"\n",
"disp('(i) Work done by the steam during the process')\n",
"W=(p1*v1-p2*v2)/(n-1)/10^3; //kJ/kg\n",
"disp('W=')\n",
"disp(W)\n",
"disp('kJ/kg')\n",
"\n",
"\n",
"disp('(ii) Heat transferred')\n",
"u1=(1-x1)*u_f1+x1*u_g1;\n",
"u2=(1-x2)*u_f2+x2*u_g2;\n",
"Q=u2-u1 + W;\n",
"disp('Q=')\n",
"disp(Q)\n",
"disp('kJ/kg')"
   ]
   }
,
{
		   "cell_type": "markdown",
		   "metadata": {},
		   "source": [
			"## Example 4.59: 59.sce"
		   ]
		  },
  {
"cell_type": "code",
	   "execution_count": null,
	   "metadata": {
	    "collapsed": true
	   },
	   "outputs": [],
"source": [
"clc\n",
"p1=15; //bar\n",
"t1=350; //0C\n",
"C1=60; //m/s\n",
"p2=1.2; //bar\n",
"C2=180; //m/s\n",
"s1=7.102; //kJ/kg\n",
"s_f2=1.3609; //kJ/kg\n",
"s_g2=7.2884; //kJ/kg\n",
"h_f2=439.4; //kJ/kg\n",
"h_fg2=2241.1; //kJ/kg\n",
"h1=3147.5; //kJ/kg\n",
"\n",
"\n",
"x2=(s1 - s_f2)/(s_g2-s_f2);\n",
"h2=h_f2+x2*h_fg2;\n",
"\n",
"W=(h1-h2) + (C1^2 - C2^2)/2/1000;\n",
"disp('Work done = ')\n",
"disp(W)\n",
"disp('kJ/kg')"
   ]
   }
,
{
		   "cell_type": "markdown",
		   "metadata": {},
		   "source": [
			"## Example 4.60: 60.sce"
		   ]
		  },
  {
"cell_type": "code",
	   "execution_count": null,
	   "metadata": {
	    "collapsed": true
	   },
	   "outputs": [],
"source": [
"clc\n",
"p1=10; //bar\n",
"t1=200; //0C\n",
"C1=60; //m/s^2\n",
"c2=650; //m/s\n",
"p2=1.5; //bar\n",
"h1=2827.9; //kJ/kg\n",
"h_f2=467.1; //kJ/kg\n",
"h2=2618.45; //kJ/kg\n",
"h_g2=2693.4; //kJ/kg\n",
"x2=(h2-h_f2)/(h_g2-h_f2);\n",
"disp('quality of steam leaving the nozzle=')\n",
"disp(x2)"
   ]
   }
,
{
		   "cell_type": "markdown",
		   "metadata": {},
		   "source": [
			"## Example 4.61: 61.sce"
		   ]
		  },
  {
"cell_type": "code",
	   "execution_count": null,
	   "metadata": {
	    "collapsed": true
	   },
	   "outputs": [],
"source": [
"clc\n",
"h1=2776.4; //kJ/kg\n",
"h2=h1;\n",
"h_f1=884.6; //kJ/kg\n",
"h_fg1=1910.3; //kJ/kg\n",
"x1=(h1-h_f1)/h_fg1;\n",
"disp('Initial dryness fraction = ')\n",
"disp(x1)"
   ]
   }
,
{
		   "cell_type": "markdown",
		   "metadata": {},
		   "source": [
			"## Example 4.62: 62.sce"
		   ]
		  },
  {
"cell_type": "code",
	   "execution_count": null,
	   "metadata": {
	    "collapsed": true
	   },
	   "outputs": [],
"source": [
"p1=10; //bar\n",
"x1=0.9; //bar\n",
"p2=2; //bar\n",
"\n",
"\n",
"// Using Mollier chart, we get\n",
"x2=0.94;\n",
"disp('x2 =')\n",
"disp(x2)"
   ]
   }
,
{
		   "cell_type": "markdown",
		   "metadata": {},
		   "source": [
			"## Example 4.63: 63.sce"
		   ]
		  },
  {
"cell_type": "code",
	   "execution_count": null,
	   "metadata": {
	    "collapsed": true
	   },
	   "outputs": [],
"source": [
"clc\n",
"\n",
"disp('(a)From steam tables')\n",
"\n",
"p1=15*10^5; //Pa\n",
"p2=7.5*10^5; //Pa\n",
"h_f1=844.7; //kJ/kg\n",
"ts1=198.3; //0C\n",
"s_f1=2.3145; //kJ/kg.K\n",
"s_g1=6.4406; //kJ/kg.K\n",
"v_g1=0.132; //m^3/kg\n",
"h_fg1=1945.2; //kJ/kg\n",
"x1=0.95;\n",
"h_f2=709.3; //kJ/kg\n",
"h_fg2=2055.55; //kJ/kg\n",
"s_f2=2.0195; //kJ/kg\n",
"s_g2=6.6816; //kJ/kg.K\n",
"v_g2=0.255; //m^3/kg\n",
"x2=0.9;\n",
"x3=1;\n",
"s_f3=0.521; //kJ/kg K\n",
"s_g3=8.330; //kJ/kg K\n",
"\n",
"h2=h_f2+x2*h_fg2;\n",
"h1=h_f1 + x1*h_fg1;\n",
"s1=s_f1 + x1*(s_g1-s_f1);\n",
"s2=s1;\n",
"ds_12=s2-s1;\n",
"\n",
"s3=s_f3+x3*(s_g3-s_f3);\n",
"ds_23=s3-s2;\n",
"\n",
"ds=ds_12+ds_23;\n",
"disp('(i) Change in entropy =')\n",
"disp(ds)\n",
"disp('kJ/kg K')\n",
"\n",
"h3=h2;\n",
"\n",
"disp('(ii) Change in enthalpy')\n",
"dh=h2-h1;\n",
"disp(dh)\n",
"disp('kJ/kg')\n",
"\n",
"\n",
"disp('(iii) Change in internal energy')\n",
"u1=h1-p1*x1*v_g1/10^3;\n",
"u2=h2-p2*x2*v_g2/10^3;\n",
"du=u2-u1;\n",
"disp('du=')\n",
"disp(du)\n",
"disp('kJ/kg')\n",
"\n",
"\n",
"// Only the expansion of steam from point 1 to 2 (i.e., isentropic expansion) is reversible because of unresisted flow whereas the expansion from point 2 to point 3 (i.e., throttling expansion) is irreversible because of frictional resistance to flow. Increase of entropy also shows that expansion from point 2 to point 3 is irreversible.\n",
"\n",
"\n",
"disp('(b) Using Mollier chart')\n",
"h1=2692; //kJ/kg\n",
"h2=2560; //kJ/kg\n",
"s1=6.23; //kJ/kg K\n",
"s2=s1;\n",
"s3=8.3; //kJ/kg K\n",
"\n",
"disp('(i) Change in entropy =')\n",
"ds=s3-s1;\n",
"disp(ds)\n",
"disp('kJ/kg K')\n",
"\n",
"\n",
"disp('(ii) Change in enthalpy =')\n",
"dh=h2-h1;\n",
"disp(dh)\n",
"disp('kJ/kg')"
   ]
   }
,
{
		   "cell_type": "markdown",
		   "metadata": {},
		   "source": [
			"## Example 4.64: 64.sce"
		   ]
		  },
  {
"cell_type": "code",
	   "execution_count": null,
	   "metadata": {
	    "collapsed": true
	   },
	   "outputs": [],
"source": [
"clc\n",
"V1=5.5; //m^3\n",
"p1=16*10^5; //Pa\n",
"T1=315; //K\n",
"V2=V1;\n",
"p2=12*10^5; //Pa\n",
"R=0.287*10^3;\n",
"y=1.4;\n",
"\n",
"m1=p1*V1/R/T1;\n",
"T2=T1*(p2/p1)^((y-1)/y);\n",
"\n",
"m2=p2*V2/R/T2;\n",
"disp('Mass of air which left the receiver=')\n",
"m=m1-m2;\n",
"disp(m)\n",
"disp('kg')"
   ]
   }
,
{
		   "cell_type": "markdown",
		   "metadata": {},
		   "source": [
			"## Example 4.65: 65.sce"
		   ]
		  },
  {
"cell_type": "code",
	   "execution_count": null,
	   "metadata": {
	    "collapsed": true
	   },
	   "outputs": [],
"source": [
"clc\n",
"cp=1; //kJ/kg.K\n",
"cv=0.711; //kJ/kg.K\n",
"V1=1.6; //m^3\n",
"V2=V1;\n",
"p1=5*10^5; //Pa\n",
"T1=373; //K\n",
"p2=1*10^5; //Pa\n",
"R=287;\n",
"y=1.4;\n",
"\n",
"m1=p1*V1/R/T1;\n",
"T2=T1*(p2/p1)^((y-1)/y);\n",
"m2=p2*V2/R/T2;\n",
"KE=(m1*cv*T1)-(m2*cv*T2)-(m1-m2)*cp*T2;\n",
"disp('Kinetic energy of discharge air =')\n",
"disp(KE)\n",
"disp('kJ')\n",
"\n",
"disp('This is the exact answer when using proper value of cv')"
   ]
   }
,
{
		   "cell_type": "markdown",
		   "metadata": {},
		   "source": [
			"## Example 4.66: 66.sce"
		   ]
		  },
  {
"cell_type": "code",
	   "execution_count": null,
	   "metadata": {
	    "collapsed": true
	   },
	   "outputs": [],
"source": [
"clc\n",
"//For oxygen\n",
"cpa=0.88; //kJ/kg K\n",
"Ra=0.24; //kJ/kg K\n",
"V1a=0.035; //m^3\n",
"p1a=4.5; //bar\n",
"T1a=333; //K\n",
"V2a=0.07; //m^3\n",
"\n",
"//For methane\n",
"V1b=0.07; //m^3\n",
"V2b=0.035; //m^3\n",
"p1b=4.5; //bar\n",
"T1b=261; //K\n",
"cpb=1.92; //kJ/kg K\n",
"Rb=0.496; //kJ/kg K\n",
"\n",
"yb=cpb/(cpb-Rb); //for methane\n",
"cva=cpa-Ra; //for oxygen\n",
"\n",
"disp('(i) Final state condition')\n",
"\n",
"p2b=p1b*(V1b/V2b)^yb;\n",
"disp('p2 for methane =')\n",
"disp(p2b)\n",
"disp('bar')\n",
"\n",
"T2b=p2b*V2b*T1b/p1b/V1b;\n",
"disp('T2 for methane =')\n",
"disp(T2b)\n",
"disp('K')\n",
"\n",
"p2a=p2b;\n",
"\n",
"T2a=p2a*V2a/p1a/V1a*T1a;\n",
"disp('T2 for oxygen =')\n",
"disp(T2a)\n",
"disp('K')\n",
"\n",
"Wb=(p1b*V1b - p2b*V2b)/(yb-1)*100; //kJ\n",
"\n",
"disp('(ii) Work done by the piston ')\n",
"disp('The piston will be in virtual equilibrium and hence zero work is effected by the piston.')\n",
"\n",
"Wa=-Wb;\n",
"\n",
"ma=p1a*V1a/Ra/T1a*10^2;\n",
"\n",
"Q=ma*cva*(T2a-T1a) + Wa;\n",
"disp('(iii) Heat transferred to oxygen =')\n",
"disp(Q)\n",
"disp('kJ')"
   ]
   }
,
{
		   "cell_type": "markdown",
		   "metadata": {},
		   "source": [
			"## Example 4.6: 6.sce"
		   ]
		  },
  {
"cell_type": "code",
	   "execution_count": null,
	   "metadata": {
	    "collapsed": true
	   },
	   "outputs": [],
"source": [
"clc\n",
"p=1.1; //bar\n",
"x=0.95;\n",
"c_pw=4.18;\n",
"m1=90; //kg\n",
"m2=5.25; //kg\n",
"T1=25; //0C\n",
"T2=40; //0C\n",
"m=m1+m2;\n",
"h_f=428.8; //kJ/kg\n",
"h_fg= 2250.8; //kJ/kg\n",
"m_s= [m*c_pw*(T2-T1)]/[(h_f + x*h_fg) - c_pw*T2];\n",
"disp('Mass of steam condensed=')\n",
"disp(m_s)\n",
"disp('kg')"
   ]
   }
,
{
		   "cell_type": "markdown",
		   "metadata": {},
		   "source": [
			"## Example 4.7: 7.sce"
		   ]
		  },
  {
"cell_type": "code",
	   "execution_count": null,
	   "metadata": {
	    "collapsed": true
	   },
	   "outputs": [],
"source": [
"clc\n",
"W_12=-82; //kJ\n",
"Q_12=-45; //kJ\n",
"dU_12=Q_12 - W_12;\n",
"W_21=100; //kJ\n",
"dU_21=-dU_12;\n",
"Q_21=dU_21 + W_21;\n",
"disp('Heat added to the system = ')\n",
"disp(Q_21)\n",
"disp('kJ')"
   ]
   }
,
{
		   "cell_type": "markdown",
		   "metadata": {},
		   "source": [
			"## Example 4.8: 8.sce"
		   ]
		  },
  {
"cell_type": "code",
	   "execution_count": null,
	   "metadata": {
	    "collapsed": true
	   },
	   "outputs": [],
"source": [
"clc\n",
"Q2=9000; //kJ\n",
"Q1=3000; //kJ\n",
"Q=Q1-Q2; \n",
"W=0;\n",
"dU=W-Q;\n",
"disp('Work done = ')\n",
"disp(W)\n",
"\n",
"disp('Change in internal energy = ')\n",
"disp(dU)\n",
"disp('kJ')"
   ]
   }
,
{
		   "cell_type": "markdown",
		   "metadata": {},
		   "source": [
			"## Example 4.9: 9.sce"
		   ]
		  },
  {
"cell_type": "code",
	   "execution_count": null,
	   "metadata": {
	    "collapsed": true
	   },
	   "outputs": [],
"source": [
"m=20; //kg\n",
"g=9.81; //m/s^2\n",
"z2=0;\n",
"z1=15;\n",
"\n",
"disp('(i) When the stone is about to enter the water')\n",
"Q=0\n",
"W=0\n",
"dU=0\n",
"PE=m*g*(z2-z1)\n",
"KE=-PE\n",
"\n",
"disp('(ii) When the stone dips into the tank and comes to rest')\n",
"Q=0\n",
"W=0\n",
"KE=0\n",
"PE=m*g*(z2-z1)\n",
"dU=-PE\n",
"\n",
"disp('(iii) When the water and stone come to their initial temperature')\n",
"W=0\n",
"KE=0\n",
"Q=-dU"
   ]
   }
],
"metadata": {
		  "kernelspec": {
		   "display_name": "Scilab",
		   "language": "scilab",
		   "name": "scilab"
		  },
		  "language_info": {
		   "file_extension": ".sce",
		   "help_links": [
			{
			 "text": "MetaKernel Magics",
			 "url": "https://github.com/calysto/metakernel/blob/master/metakernel/magics/README.md"
			}
		   ],
		   "mimetype": "text/x-octave",
		   "name": "scilab",
		   "version": "0.7.1"
		  }
		 },
		 "nbformat": 4,
		 "nbformat_minor": 0
}
