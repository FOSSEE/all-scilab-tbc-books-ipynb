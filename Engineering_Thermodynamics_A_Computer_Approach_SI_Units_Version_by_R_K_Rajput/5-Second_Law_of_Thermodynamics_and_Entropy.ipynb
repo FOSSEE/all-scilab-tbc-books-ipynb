{
"cells": [
 {
		   "cell_type": "markdown",
	   "metadata": {},
	   "source": [
       "# Chapter 5: Second Law of Thermodynamics and Entropy"
	   ]
	},
{
		   "cell_type": "markdown",
		   "metadata": {},
		   "source": [
			"## Example 5.10: 10.sce"
		   ]
		  },
  {
"cell_type": "code",
	   "execution_count": null,
	   "metadata": {
	    "collapsed": true
	   },
	   "outputs": [],
"source": [
"clc\n",
"one_ton_of_refrigeration=210; //kJ/min\n",
"Cooling_required=40*(one_ton_of_refrigeration); //kJ/min\n",
"T1=303; //K\n",
"T2=238; //K\n",
"COP_refrigerator=T2/(T1-T2);\n",
"COP_actual=0.20*COP_refrigerator;\n",
"W=Cooling_required/COP_actual/60;\n",
"disp('power required = ')\n",
"disp(W)\n",
"disp('kW')"
   ]
   }
,
{
		   "cell_type": "markdown",
		   "metadata": {},
		   "source": [
			"## Example 5.11: 11.sce"
		   ]
		  },
  {
"cell_type": "code",
	   "execution_count": null,
	   "metadata": {
	    "collapsed": true
	   },
	   "outputs": [],
"source": [
"clc\n",
"E=12000; //kJ/min\n",
"\n",
"T2=308; //K\n",
"\n",
"// Source 1\n",
"T1=593; //K\n",
"n1=1-T2/T1;\n",
"\n",
"// Source 2\n",
"T1=343; //K\n",
"n2=1-T2/T1;\n",
"\n",
"W1=E*n1;\n",
"disp('W1 =')\n",
"disp(W1)\n",
"\n",
"W2=E*n2;\n",
"disp('W2 =')\n",
"disp(W2)\n",
"\n",
"disp('Thus, choose source 2.')\n",
"disp('The source 2 is selected even though efficiency in this case is lower, because the criterion for selection is the larger output.')"
   ]
   }
,
{
		   "cell_type": "markdown",
		   "metadata": {},
		   "source": [
			"## Example 5.1: 1.sce"
		   ]
		  },
  {
"cell_type": "code",
	   "execution_count": null,
	   "metadata": {
	    "collapsed": true
	   },
	   "outputs": [],
"source": [
"clc\n",
"Q1=1500/60; //kJ/s\n",
"W=8.2; //kW\n",
"\n",
"disp('(i) Thermal efficiency')\n",
"n=W/Q1;\n",
"disp('n=')\n",
"disp(n)\n",
"\n",
"\n",
"disp('(ii) Rate of heat rejection')\n",
"Q2=Q1-W; \n",
"disp('Q2=')\n",
"disp(Q2)\n",
"disp('kW')"
   ]
   }
,
{
		   "cell_type": "markdown",
		   "metadata": {},
		   "source": [
			"## Example 5.12: 12.sce"
		   ]
		  },
  {
"cell_type": "code",
	   "execution_count": null,
	   "metadata": {
	    "collapsed": true
	   },
	   "outputs": [],
"source": [
"clc\n",
"T1=973; //K\n",
"T2=323; //K\n",
"T3=248; //K\n",
"\n",
"Q1=2500; //kJ\n",
"W=400; //kJ\n",
"\n",
"disp('(i)Heat rejection to the 50°C reservoir')\n",
"n_max=1-T2/T1;\n",
"W1=n_max*Q1;\n",
"COP_max=T3/(T2-T3);\n",
"W2=W1-W;\n",
"Q4=COP_max*W2;\n",
"COP1=Q4/W2;\n",
"Q3=Q4+W2;\n",
"Q2=Q1-W1;\n",
"disp('Heat rejection to the 50°C reservoir=')\n",
"disp(Q2+Q3)\n",
"disp('kJ')\n",
"\n",
"\n",
"disp('(ii)Heat rejected to 50°C reservoir ')\n",
"n=0.45*n_max;\n",
"W1=n*Q1;\n",
"W2=W1-W;\n",
"COP2=0.45*COP1;\n",
"Q4=W2*COP2;\n",
"Q3=Q4+W2;\n",
"Q2=Q1-W1;\n",
"\n",
"disp('Heat rejected to 50°C reservoir=')\n",
"disp(Q2+Q3)\n",
"disp('kJ')"
   ]
   }
,
{
		   "cell_type": "markdown",
		   "metadata": {},
		   "source": [
			"## Example 5.13: 13.sce"
		   ]
		  },
  {
"cell_type": "code",
	   "execution_count": null,
	   "metadata": {
	    "collapsed": true
	   },
	   "outputs": [],
"source": [
"clc\n",
"T1=298; //K\n",
"T2=273; //K\n",
"Q1=24; //kJ/s\n",
"T3=653; //K\n",
"COP=T1/(T1-T2);\n",
"disp('(i) determine COP and work input required')\n",
"\n",
"disp('Coefficient of performance = ')\n",
"disp(COP)\n",
"\n",
"COP_ref=T2/(T1-T2);\n",
"W=Q1/COP_ref;\n",
"disp('Work input required = ')\n",
"disp(W)\n",
"disp('kW')\n",
"\n",
"\n",
"disp('(ii)Determine overall COP of the system ')\n",
"Q4=T1*W/(T3-T1);\n",
"Q3=Q4+W;\n",
"Q2=Q1+W;\n",
"COP=Q1/Q3;\n",
"disp('COP=')\n",
"disp(COP)\n",
"\n",
"COP_overall=(Q2+Q4)/Q3;\n",
"disp('Overall COP=')\n",
"disp(COP_overall)"
   ]
   }
,
{
		   "cell_type": "markdown",
		   "metadata": {},
		   "source": [
			"## Example 5.14: 14.sce"
		   ]
		  },
  {
"cell_type": "code",
	   "execution_count": null,
	   "metadata": {
	    "collapsed": true
	   },
	   "outputs": [],
"source": [
"clc\n",
"T_e1=493; //K\n",
"T_e2=298; //K\n",
"T_p1=298; //K\n",
"T_p2=273; //K\n",
"Amt=15; //tonnes produced per day\n",
"h=334.5; //kJ/kg\n",
"Q_abs=44500; //kJ/kg\n",
"Q_p2=Amt*10^3*h/24/60;\n",
"COP_hp=T_p2/(T_p1-T_p2);\n",
"W=Q_p2/COP_hp/60;\n",
"disp('(i)Power developed by the engine = ')\n",
"disp(W)\n",
"disp('kW')\n",
"\n",
"\n",
"disp('(ii) Fuel consumed per hour')\n",
"n_carnot=1-(T_e2/T_e1);\n",
"Q_e1=W/n_carnot*3600; //kJ/h\n",
"fuel_consumed=Q_e1/Q_abs;\n",
"disp('Quantity of fuel consumed/hour = ')\n",
"disp(fuel_consumed)\n",
"disp('kg/h')"
   ]
   }
,
{
		   "cell_type": "markdown",
		   "metadata": {},
		   "source": [
			"## Example 5.15: 15.sce"
		   ]
		  },
  {
"cell_type": "code",
	   "execution_count": null,
	   "metadata": {
	    "collapsed": true
	   },
	   "outputs": [],
"source": [
"clc\n",
"T1=550; //K\n",
"T3=350; //K\n",
"// W=Q2*((T1-T2)/T2)\n",
"// W=Q2((T2-T3)/T2)\n",
"// From this we get following expression\n",
"T2=(T1+T3)/2;\n",
"disp('Intermediate temperature =')\n",
"disp(T2)\n",
"disp('K')"
   ]
   }
,
{
		   "cell_type": "markdown",
		   "metadata": {},
		   "source": [
			"## Example 5.16: 16.sce"
		   ]
		  },
  {
"cell_type": "code",
	   "execution_count": null,
	   "metadata": {
	    "collapsed": true
	   },
	   "outputs": [],
"source": [
"clc\n",
"T1=600; //K\n",
"T2=300; //K\n",
"\n",
"\n",
"disp('(i) When Q1=Q2')\n",
"T3=2*T1/(T1/T2+1);\n",
"disp('T3=')\n",
"disp(T3)\n",
"disp('K')\n",
"\n",
"\n",
"disp('(ii) Efficiency of Carnot engine and COP of carnot refrigerator')\n",
"n=(T1-T3)/T1; //carnot engine\n",
"COP=T2/(T3-T2); //refrigerator\n",
"\n",
"disp('Efficiency of carnot engine = ')\n",
"disp(n)\n",
"\n",
"disp('COP of carnot refrigerator = ')\n",
"disp(COP)"
   ]
   }
,
{
		   "cell_type": "markdown",
		   "metadata": {},
		   "source": [
			"## Example 5.17: 17.sce"
		   ]
		  },
  {
"cell_type": "code",
	   "execution_count": null,
	   "metadata": {
	    "collapsed": true
	   },
	   "outputs": [],
"source": [
"clc\n",
"T3=278; //K\n",
"T2=350; //K\n",
"T4=T2;\n",
"T1=1350; //K\n",
"\n",
"Q1=100/[((T4/T1)*(T1-T2)/(T4-T3))+T2/T1]; //Q4+Q2=100; Q4=Q1*((T4/T1)*(T1-T2)/(T4-T3)); Q2=T2/T1*Q1;\n",
"\n",
"disp('Q1=')\n",
"disp(Q1)\n",
"disp('kJ')"
   ]
   }
,
{
		   "cell_type": "markdown",
		   "metadata": {},
		   "source": [
			"## Example 5.18: 18.sce"
		   ]
		  },
  {
"cell_type": "code",
	   "execution_count": null,
	   "metadata": {
	    "collapsed": true
	   },
	   "outputs": [],
"source": [
"clc\n",
"Q1=300; //kJ/s\n",
"T1=290; //0C\n",
"T2=8.5; //0C\n",
"disp('let ΣdQ/T = A')\n",
"\n",
"disp('(i) 215 kJ/s are rejected')\n",
"Q2=215; //kJ/s\n",
"A= Q1/(T1+273) - Q2/(T2+273)\n",
"disp('Since, A<0, Cycle is irreversible.')\n",
"\n",
"\n",
"disp('(ii) 150 kJ/s are rejected')\n",
"Q2=150; //kJ/s\n",
"A= Q1/(T1+273) - Q2/(T2+273)\n",
"disp('Since A=0, cycle is reversible')\n",
"\n",
"\n",
"disp('(iii) 75 kJ/s are rejected.')\n",
"Q2=75; //kJ/s\n",
"A= Q1/(T1+273) - Q2/(T2+273)\n",
"disp('Since A>0, cycle is impossible')"
   ]
   }
,
{
		   "cell_type": "markdown",
		   "metadata": {},
		   "source": [
			"## Example 5.19: 19.sce"
		   ]
		  },
  {
"cell_type": "code",
	   "execution_count": null,
	   "metadata": {
	    "collapsed": true
	   },
	   "outputs": [],
"source": [
"clc\n",
"P1=0.124*10^5; //N/m^2\n",
"T1=433; //K\n",
"T2=323; //K\n",
"h_f1=687; //kJ/kg\n",
"h2=2760; //kJ/kg\n",
"h3=2160; //kJ/kg\n",
"h_f4=209; //kJ/kg\n",
"Q1=h2-h_f1;\n",
"Q2=h_f4-h3;\n",
"disp('Let A=ΣdQ/T')\n",
"A=Q1/T1+Q2/T2;\n",
"disp(A)\n",
"disp('A<0. Hence classius inequality is verified')"
   ]
   }
,
{
		   "cell_type": "markdown",
		   "metadata": {},
		   "source": [
			"## Example 5.20: 20.sce"
		   ]
		  },
  {
"cell_type": "code",
	   "execution_count": null,
	   "metadata": {
	    "collapsed": true
	   },
	   "outputs": [],
"source": [
"clc\n",
"T1=437; //K\n",
"T2=324; //K\n",
"h2=2760; //kJ/kg\n",
"h1=690; //kJ/kg\n",
"h3=2360; //kJ/kg\n",
"h4=450; //kJkg\n",
"\n",
"Q1=h2-h1;\n",
"Q2=h4-h3;\n",
"\n",
"disp('Let A=ΣdQ/T')\n",
"A=Q1/T1 + Q2/T2;\n",
"disp(A)\n",
"disp('Since A<0, Classius inequality is verified')"
   ]
   }
,
{
		   "cell_type": "markdown",
		   "metadata": {},
		   "source": [
			"## Example 5.21: 21.sce"
		   ]
		  },
  {
"cell_type": "code",
	   "execution_count": null,
	   "metadata": {
	    "collapsed": true
	   },
	   "outputs": [],
"source": [
"clc\n",
"T0=273; //K\n",
"T1=673; //K\n",
"T2=298; //K\n",
"m_w=10; //kg\n",
"T3=323; //K\n",
"c_pw=4186; //kJ/kg.K\n",
"disp('Let C=mi*cpi')\n",
"C=m_w*c_pw*(T3-T2)/(T1-T3);\n",
"\n",
"S_iT1=C*log(T1/T0); // Entropy of iron at 673 K\n",
"S_wT2=m_w*c_pw*log(T2/T0); //Entropy of water at 298 K\n",
"S_iT3=C*log(T3/T0); //Entropy of iron at 323 K\n",
"S_wT3=m_w*c_pw*log(T3/T0); //Entropy of water at 323 K\n",
"\n",
"dS_i=S_iT3 - S_iT1;\n",
"dS_w=S_wT3 - S_wT2; \n",
"dS_net=dS_i + dS_w\n",
"\n",
"disp('Since dS>0, process is irreversible')"
   ]
   }
,
{
		   "cell_type": "markdown",
		   "metadata": {},
		   "source": [
			"## Example 5.2: 2.sce"
		   ]
		  },
  {
"cell_type": "code",
	   "execution_count": null,
	   "metadata": {
	    "collapsed": true
	   },
	   "outputs": [],
"source": [
"clc\n",
"Q_12=30; //kJ\n",
"W_12=60; //kJ\n",
"dU_12=Q_12-W_12;\n",
"Q_21=0;\n",
"W_21=Q_21+dU_12;\n",
"disp('W_21 =')\n",
"disp(W_21)\n",
"disp('Thus 30 kJ work has to be done on the system to restore it to original state, by adiabatic process.')"
   ]
   }
,
{
		   "cell_type": "markdown",
		   "metadata": {},
		   "source": [
			"## Example 5.23: 23.sce"
		   ]
		  },
  {
"cell_type": "code",
	   "execution_count": null,
	   "metadata": {
	    "collapsed": true
	   },
	   "outputs": [],
"source": [
"clc\n",
"T1=293; //K\n",
"V1=0.025; //m^3\n",
"V3=V1;\n",
"p1=1.05*10^5; //N/m^2\n",
"p2=4.5*10^5; //N/m^2\n",
"R=0.287*10^3; \n",
"cv=0.718;\n",
"cp=1.005;\n",
"T3=293; //K\n",
"\n",
"disp('(i)Net heat flow')\n",
"m=p1*V1/R/T1;\n",
"T2=p2/p1*T1;\n",
"Q_12=m*cv*(T2-T1);\n",
"Q_23=m*cp*(T3-T2)\n",
"\n",
"disp('Net heat flow = ')\n",
"Q_net=Q_12+Q_23;\n",
"disp(Q_net)\n",
"disp('kJ')\n",
"\n",
"\n",
"disp('(ii) Net entropy change')\n",
"dS_32=m*cp*log(T2/T1);\n",
"dS_12=m*cv*log(T2/T1);\n",
"dS_31=dS_32 - dS_12;\n",
"disp('Decrease in entropy = ')\n",
"disp(dS_31)\n",
"disp('kJ/K')"
   ]
   }
,
{
		   "cell_type": "markdown",
		   "metadata": {},
		   "source": [
			"## Example 5.24: 24.sce"
		   ]
		  },
  {
"cell_type": "code",
	   "execution_count": null,
	   "metadata": {
	    "collapsed": true
	   },
	   "outputs": [],
"source": [
"clc\n",
"p1=1.05*10^5; //N/m^2\n",
"V1=0.04; //m^3\n",
"T1=288; //K\n",
"p2=4.8*10^5;\n",
"T2=T1;\n",
"R0=8314;\n",
"M=28;\n",
"\n",
"\n",
"disp('(i) The change of entropy =')\n",
"R=R0/M;\n",
"m=p1*V1/R/T1;\n",
"dS=m*R*log(p1/p2)\n",
"disp('Decrease in entropy =')\n",
"disp(-dS)\n",
"disp('J/K')\n",
"\n",
"\n",
"disp('(ii)Heat rejected = ')\n",
"Q=T1*(-dS);\n",
"disp('Q=')\n",
"disp(Q)\n",
"disp('J')\n",
"\n",
"\n",
"W=Q;\n",
"disp('Work done = ')\n",
"disp(W)\n",
"disp('J')\n",
"\n",
"V2=p1*V1/p2;\n",
"v1=V1/m; //specific volume\n",
"v2=V2/m; //specific volume\n",
"\n",
"v=v2:0.01:v1;\n",
"function p=f(v)\n",
"    p=p1*v1/v\n",
"endfunction\n",
"\n",
"plot(v,f)\n",
"\n",
"p=p1\n",
"plot(v,p,'--')\n",
"\n",
"p=[0 p2]\n",
"v=[v2 v2]\n",
"plot(v,p,'--')\n",
"\n",
"p=[0 p1]\n",
"v=[v1 v1]\n",
"plot(v,p,'--')\n",
"\n",
"xtitle('p-v diagram', 'v(m^3/kg)', 'p(N/m^2)')\n",
"\n",
"xset('window', 1)\n",
"\n",
"T=[288 288]\n",
"s=[10 (10-dS)]\n",
"plot(s,T)\n",
"\n",
"s=[10 10]\n",
"T=[0 288]\n",
"plot(s,T,'--')\n",
"\n",
"s=[(10-dS) (10-dS)]\n",
"T=[0 288]\n",
"plot(s,T,'--')\n",
"\n",
"xtitle('T-s diagram', 's(kJ/kg K)', 'T(K)')"
   ]
   }
,
{
		   "cell_type": "markdown",
		   "metadata": {},
		   "source": [
			"## Example 5.25: 25.sce"
		   ]
		  },
  {
"cell_type": "code",
	   "execution_count": null,
	   "metadata": {
	    "collapsed": true
	   },
	   "outputs": [],
"source": [
"clc\n",
"R=287; //kJ/kg.K\n",
"dU=0;\n",
"W=0;\n",
"Q=dU+W;\n",
"\n",
"dS=R*log(2); //v2/v1=2\n",
"\n",
"disp('Change in entropy = ')\n",
"disp(dS)\n",
"disp('kJ/kg.K')"
   ]
   }
,
{
		   "cell_type": "markdown",
		   "metadata": {},
		   "source": [
			"## Example 5.26: 26.sce"
		   ]
		  },
  {
"cell_type": "code",
	   "execution_count": null,
	   "metadata": {
	    "collapsed": true
	   },
	   "outputs": [],
"source": [
"clc\n",
"m=0.04; //kg\n",
"p1=1*10^5; //N/m^2\n",
"T1=293; //K\n",
"p2=9*10^5; //N/m^2\n",
"V2=0.003; //m^3\n",
"cp=0.88; //kJ/kg.K\n",
"R0=8314;\n",
"M=44;\n",
"\n",
"R=R0/M;\n",
"T2=p2*V2/m/R;\n",
"ds_2A=R/10^3*log(p2/p1);\n",
"ds_1A=cp*log(T2/T1);\n",
"ds_21=ds_2A - ds_1A;\n",
"dS_21=m*ds_21;\n",
"disp('Decrease in entropy=')\n",
"disp(dS_21)\n",
"disp('kJ/K')"
   ]
   }
,
{
		   "cell_type": "markdown",
		   "metadata": {},
		   "source": [
			"## Example 5.27: 27.sce"
		   ]
		  },
  {
"cell_type": "code",
	   "execution_count": null,
	   "metadata": {
	    "collapsed": true
	   },
	   "outputs": [],
"source": [
"clc\n",
"p1=7*10^5; //N/m^2\n",
"T1=873; //K\n",
"p2=1.05*10^5; //N/M62\n",
"n=1.25;\n",
"m=1; //kg\n",
"R=0.287;\n",
"cp=1.005;\n",
"T2=T1*(p2/p1)^((n-1)/n);\n",
"\n",
"// At constant temperature from 1 to A\n",
"ds_1A=R*log(p1/p2);\n",
"\n",
"// At constant pressure from A to 2\n",
"ds_2A=cp*log(T1/T2);\n",
"\n",
"\n",
"ds_12=ds_1A - ds_2A;\n",
"disp('Increase in entropy = ')\n",
"disp(ds_12)\n",
"disp('kJ/kg.K')"
   ]
   }
,
{
		   "cell_type": "markdown",
		   "metadata": {},
		   "source": [
			"## Example 5.28: 28.sce"
		   ]
		  },
  {
"cell_type": "code",
	   "execution_count": null,
	   "metadata": {
	    "collapsed": true
	   },
	   "outputs": [],
"source": [
"clc\n",
"p1=7*10^5; //Pa\n",
"T1=733; //K\n",
"p2=1.012*10^5; //Pa\n",
"T2a=433; //K\n",
"y=1.4;\n",
"cp=1.005;\n",
"\n",
"disp('(i) To prove that the process is irreversible')\n",
"T2=T1*(p2/p1)^((y-1)/y);\n",
"disp('T2 =')\n",
"disp(T2)\n",
"disp('But the actual temperature is 433K at th epressure of 1.012 bar, Hence the process is irreversible. Proved.')\n",
"\n",
"\n",
"disp('(ii) Change of entropy per kg of air')\n",
"ds=cp*log(T2a/T2);\n",
"disp('Increase of entropy=')\n",
"disp(ds)\n",
"disp('kJ/kg.K')"
   ]
   }
,
{
		   "cell_type": "markdown",
		   "metadata": {},
		   "source": [
			"## Example 5.29: 29.sce"
		   ]
		  },
  {
"cell_type": "code",
	   "execution_count": null,
	   "metadata": {
	    "collapsed": true
	   },
	   "outputs": [],
"source": [
"clc\n",
"V1=0.3; //m^3\n",
"p1=4*10^5; //N/m^2\n",
"V2=0.08; //m^3\n",
"n=1.25; \n",
"p2=p1*(V1/V2)^n;\n",
"\n",
"disp('(i) Change in enthalpy')\n",
"dH=n*(p2*V2-p1*V1)/(n-1)/10^3;\n",
"disp('dH=')\n",
"disp(dH)\n",
"disp('kJ')\n",
"\n",
"\n",
"disp('(ii) Change in internal energy')\n",
"dU=dH-(p2*V2 - p1*V1)/10^3;\n",
"disp('dU=')\n",
"disp(dU)\n",
"disp('kJ')\n",
"\n",
"\n",
"disp('(iii) Change in entropy')\n",
"dS=0;\n",
"disp('dS')\n",
"disp(dS)\n",
"\n",
"\n",
"disp('(iv)Heat transfer')\n",
"Q=0;\n",
"disp('Q=')\n",
"disp(Q)\n",
"\n",
"\n",
"disp('(v) Work transfer')\n",
"W=Q-dU;\n",
"disp('W=')\n",
"disp(W)\n",
"disp('kJ')"
   ]
   }
,
{
		   "cell_type": "markdown",
		   "metadata": {},
		   "source": [
			"## Example 5.30: 30.sce"
		   ]
		  },
  {
"cell_type": "code",
	   "execution_count": null,
	   "metadata": {
	    "collapsed": true
	   },
	   "outputs": [],
"source": [
"clc\n",
"m=20; //kg\n",
"p1=4*10^5; //Pa\n",
"p2=8*10^5; //Pa\n",
"V1=4; //m^3\n",
"V2=V1;\n",
"cp=1.04; //kJ/kg.K\n",
"cv=0.7432; //kJ/kg.K\n",
"R=cp-cv;\n",
"T1=p1*V1/R/1000; //kg.K;   T=mass*temperature\n",
"T2=p2*V2/R/1000; //kg.K\n",
"\n",
"\n",
"disp('(i) Change in internal energy')\n",
"dU=cv*(T2-T1);\n",
"disp('dU=')\n",
"disp(dU)\n",
"disp('kJ')\n",
"\n",
"\n",
"disp('(ii) Work done')\n",
"Q=0;\n",
"W=Q-dU;\n",
"disp('W')\n",
"disp(W)\n",
"disp('kJ')\n",
"\n",
"\n",
"disp('(iii) Heat transferred = ')\n",
"disp(Q)\n",
"\n",
"\n",
"disp('(iv) Change in entropy =')\n",
"dS=m*cv*log(T2/T1);\n",
"disp(dS)\n",
"disp('kJ/K')"
   ]
   }
,
{
		   "cell_type": "markdown",
		   "metadata": {},
		   "source": [
			"## Example 5.31: 31.sce"
		   ]
		  },
  {
"cell_type": "code",
	   "execution_count": null,
	   "metadata": {
	    "collapsed": true
	   },
	   "outputs": [],
"source": [
"clc\n",
"V1=5; //m^3\n",
"p1=2*10^5; //Pa\n",
"T1=300; //K\n",
"p2=6*10^5; //Pa\n",
"p3=2*10^5; //Pa\n",
"R=287;\n",
"n=1.3;\n",
"y=1.4;\n",
"\n",
"m=p1*V1/R/T1;\n",
"T2=T1*(p2/p1)^((n-1)/n);\n",
"T3=T2*(p3/p2)^((y-1)/y);\n",
"W_12=m*R*(T1-T2)/(n-1)/1000; //polytropic compression\n",
"W_23=m*R*(T2-T3)/(y-1)/1000; //Adiabatic expansion\n",
"\n",
"W_net=W_12+W_23;\n",
"disp('Net work done on the air = ')\n",
"disp(-W_net)\n",
"\n",
"T=[T1 310 320 330 340 350 360 370 380 T2];\n",
"function s=f(T)\n",
"    s=(y-n)/(y-1)/(1-n)*R/10^3*log(T);\n",
"endfunction\n",
"s=[f(T1) f(310) f(320) f(330) f(340) f(350) f(360) f(370) f(380) f(T2)]\n",
"plot(s,T)\n",
"\n",
"T=[T2 T3];\n",
"s=[f(T2) f(T2)];\n",
"plot(s,T,'r')\n",
"\n",
"xtitle('T-s diagram', 's(kJ/kg K)', 'T(K)')\n",
"legend('p*v^1.3=constant', 'p*v^y=constant')"
   ]
   }
,
{
		   "cell_type": "markdown",
		   "metadata": {},
		   "source": [
			"## Example 5.32: 32.sce"
		   ]
		  },
  {
"cell_type": "code",
	   "execution_count": null,
	   "metadata": {
	    "collapsed": true
	   },
	   "outputs": [],
"source": [
"clc\n",
"V1=0.004; //m^3\n",
"p1=1*10^5; //Pa\n",
"T1=300; //K\n",
"T2=400; //K\n",
"y=1.4;\n",
"M=28;\n",
"R0=8.314;\n",
"R=R0/M;\n",
"\n",
"\n",
"disp('(i) The heat supplied')\n",
"m=p1*V1/R/1000/T1; //kg\n",
"cv=R/(y-1);\n",
"Q=m*cv*(T2-T1);\n",
"disp('Q')\n",
"disp(Q)\n",
"disp('kJ')\n",
"\n",
"\n",
"disp('(ii) The entropy change')\n",
"dS=m*cv*log(T2/T1);\n",
"disp('dS=')\n",
"disp(dS)\n",
"disp('kJ/kg.K')"
   ]
   }
,
{
		   "cell_type": "markdown",
		   "metadata": {},
		   "source": [
			"## Example 5.33: 33.sce"
		   ]
		  },
  {
"cell_type": "code",
	   "execution_count": null,
	   "metadata": {
	    "collapsed": true
	   },
	   "outputs": [],
"source": [
"clc\n",
"V1=0.05; //m^3\n",
"p1=1*10^5; //Pa\n",
"T1=280; //K\n",
"p2=5*10^5; //Pa\n",
"\n",
"disp('(i) Change in entropy')\n",
"R0=8.314;\n",
"M=28;\n",
"R=R0/M;\n",
"m=p1*V1/R/T1/1000;\n",
"\n",
"\n",
"dS=m*R*log(p1/p2);\n",
"disp('dS=')\n",
"disp(dS)\n",
"disp('kJ/K')\n",
"\n",
"disp('(ii)Work done')\n",
"Q=T1*dS;\n",
"disp('Q=')\n",
"disp(Q)\n",
"disp('kJ')"
   ]
   }
,
{
		   "cell_type": "markdown",
		   "metadata": {},
		   "source": [
			"## Example 5.3: 3.sce"
		   ]
		  },
  {
"cell_type": "code",
	   "execution_count": null,
	   "metadata": {
	    "collapsed": true
	   },
	   "outputs": [],
"source": [
"clc\n",
"Q2=12000; //kJ/h\n",
"W=0.75*60*60; //kJ/h\n",
"COP=Q2/W;\n",
"disp('Coefficient of performance')\n",
"disp(COP)\n",
"\n",
"Q1=Q2+W;\n",
"disp('heat transfer rate=')\n",
"disp(Q1)\n",
"disp('kJ/h')"
   ]
   }
,
{
		   "cell_type": "markdown",
		   "metadata": {},
		   "source": [
			"## Example 5.34: 34.sce"
		   ]
		  },
  {
"cell_type": "code",
	   "execution_count": null,
	   "metadata": {
	    "collapsed": true
	   },
	   "outputs": [],
"source": [
"clc\n",
"R=0.287; //kJ/kg.K\n",
"m=1; //kg\n",
"p1=8*10^5; //Pa\n",
"p2=1.6*10^5; //Pa\n",
"T1=380; //K\n",
"n=1.2;\n",
"y=1.4;\n",
"\n",
"\n",
"disp('(i) Final specific volume and temperature')\n",
"v1=R*T1/p1*10^3; //m^3/kg\n",
"v2=v1*(p1/p2)^(1/n);\n",
"T2=T1*(p2/p1)^((n-1)/n);\n",
"disp('v2=')\n",
"disp(v2)\n",
"disp('m^3/kg')\n",
"disp('T2=')\n",
"disp(T2)\n",
"\n",
"\n",
"disp('(ii) Change of internal energy, work done and heat interaction')\n",
"dU=R/(y-1)*(T2-T1);\n",
"disp('dU=')\n",
"disp(dU)\n",
"disp('kJ/kg')\n",
"\n",
"W=R*(T1-T2)/(n-1);\n",
"disp('W=')\n",
"disp(W)\n",
"disp('kJ/kg')\n",
"\n",
"Q=dU + W;\n",
"disp('Q=')\n",
"disp(Q)\n",
"disp('kJ/kg')\n",
"\n",
"\n",
"disp('(iii) Change in entropy')\n",
"dS=R/(y-1)*log(T2/T1) + R*log(v2/v1)\n",
"disp('dS=')\n",
"disp(dS)\n",
"disp('kJ/kg.K')"
   ]
   }
,
{
		   "cell_type": "markdown",
		   "metadata": {},
		   "source": [
			"## Example 5.35: 35.sce"
		   ]
		  },
  {
"cell_type": "code",
	   "execution_count": null,
	   "metadata": {
	    "collapsed": true
	   },
	   "outputs": [],
"source": [
"clc\n",
"y=1.4;\n",
"cv=0.718; //kJ/kg.K\n",
"m=1; //kg\n",
"T1=290; //K\n",
"n=1.3;\n",
"r=16;\n",
"y=1.4;\n",
"\n",
"T2=T1*(r)^(n-1);\n",
"\n",
"disp('(a)')\n",
"\n",
"T=[T1 300 310 320 330 340 350 360 370 380 390 400 410 420 430 440 450 460 470 480 490 500 510 520 530 540 550 560 570 580 590 600 610 620 630 640 650 660 T2];\n",
"function s=f(T)\n",
"    s=(y-n)*cv/(1-n)/10^3*log(T);\n",
"endfunction\n",
"s=[f(T1) f(300) f(310) f(320) f(330) f(340) f(350) f(360) f(370) f(380) f(390) f(400) f(410) f(420) f(430) f(440) f(450) f(460) f(470) f(480) f(490) f(500) f(510) f(520) f(530) f(540) f(550) f(560) f(570) f(580) f(590) f(600) f(610) f(620) f(630) f(640) f(650) f(660) f(T2)];\n",
"plot(s,T)\n",
"\n",
"T=[0 T2];\n",
"s=[f(T2) f(T2)];\n",
"plot(s,T,'r--')\n",
"\n",
"T=[0 T1];\n",
"s=[f(T1) f(T1)];\n",
"plot(s,T,'r--')\n",
"\n",
"T=[T1 T2];\n",
"s=[f(T1) f(T2)];\n",
"plot(s,T,'r--')\n",
"\n",
"xtitle('T-s diagram', 's', 'T')\n",
"legend('p*v^n=c')\n",
"\n",
"//Heat transferred = Area of trapezium = Base*mean ordinate\n",
"\n",
"//Heat transferred=dS*(T1+T2)/2\n",
"//Hence we get\n",
"disp('Entropy change=Heat transferred/Mean absolute temperature')\n",
"\n",
"disp('(b)Entropy change')\n",
"dS=cv*((n-y)/(n-1))*log(T2/T1);\n",
"disp('dS=')\n",
"disp(dS)\n",
"disp('kJ/kg.K')\n",
"disp('There is decrease in entropy')\n",
"\n",
"Q=cv*((y-n)/(n-1))*(T1-T2);\n",
"Tmean = (T1+T2)/2;\n",
"dS_app=Q/Tmean;\n",
"\n",
"%error=((-dS) - (-dS_app))/(-dS) * 100;\n",
"disp('%age error =')\n",
"disp(%error)\n",
"disp('%')"
   ]
   }
,
{
		   "cell_type": "markdown",
		   "metadata": {},
		   "source": [
			"## Example 5.36: 36.sce"
		   ]
		  },
  {
"cell_type": "code",
	   "execution_count": null,
	   "metadata": {
	    "collapsed": true
	   },
	   "outputs": [],
"source": [
"clc\n",
"cp=1.005; //kJ/kg.K\n",
"R=0.287; //kJ/kg.K\n",
"V1=1.2; //m^3\n",
"p1=1*10^5; //Pa\n",
"p2=p1;\n",
"T1=300; //K\n",
"T2=600; //K\n",
"T3=T1;\n",
"p1=1*10^5; //Pa\n",
"cv=cp-R;\n",
"\n",
"disp('(i) The net heat flow')\n",
"m=p1*V1/R/1000/T1; //kg\n",
"Q=m*R*(T2-T1);\n",
"disp('Q=')\n",
"disp(Q)\n",
"disp('kJ')\n",
"\n",
"\n",
"disp('(ii) The overall change in entropy')\n",
"dS_12=m*cp*log(T2/T1);\n",
"dS_23=m*(cp-R)*log(T3/T2); //cv=cp-R\n",
"dS_overall=dS_12+dS_23;\n",
"disp('Overall change in entropy=')\n",
"disp(dS_overall)\n",
"disp('kJ/K')\n",
"\n",
"\n",
"s=sqrt(300):0.1:sqrt(600);\n",
"T=s^2;\n",
"plot(s,T)\n",
"\n",
"s=22.18:0.1:sqrt(600);\n",
"T=10*(s-16.725)^2;\n",
"plot(s,T,'r')\n",
"\n",
"s=[17 25];\n",
"T=[600 600];\n",
"plot(s,T,'--')\n",
"\n",
"s=[17 25];\n",
"T=[300 300];\n",
"plot(s,T,'--')\n",
"\n",
"xtitle('T-s diagram', 'S', 'T')\n",
"legend('p=C', 'V=C')"
   ]
   }
,
{
		   "cell_type": "markdown",
		   "metadata": {},
		   "source": [
			"## Example 5.37: 37.sce"
		   ]
		  },
  {
"cell_type": "code",
	   "execution_count": null,
	   "metadata": {
	    "collapsed": true
	   },
	   "outputs": [],
"source": [
"clc\n",
"cv=0.718; //kJ/kg.K\n",
"R=0.287; //kJ/kg.K\n",
"p1=1*10^5; //Pa\n",
"T1=300; //K\n",
"V1=0.018; //m^3\n",
"p2=5*10^5; //Pa\n",
"T3=T1;\n",
"cp=cv+R;\n",
"p3=p2;\n",
"\n",
"m=p1*V1/R/T1/1000; //kg\n",
"T2=T1*p2/p1;\n",
"\n",
"disp('(i) constant volume process')\n",
"disp('dS=')\n",
"dS_12=m*cv*log(T2/T1);\n",
"disp(dS_12)\n",
"disp('kJ/K')\n",
"\n",
"disp('(ii) Constant prssure process ')\n",
"disp('dS=')\n",
"dS_23=m*cp*log(T3/T2);\n",
"disp(dS_23)\n",
"disp('kJ/K')\n",
"\n",
"disp('(iii) Isothermal process')\n",
"disp('dS=')\n",
"dS_31=m*R*log(p3/p1);\n",
"disp(dS_31)\n",
"disp('kJ/K')\n",
"\n",
"disp('T-s diagram')\n",
"s=sqrt(300):0.1:sqrt(600);\n",
"T=s^2;\n",
"plot(s,T)\n",
"\n",
"s=22.18:0.1:sqrt(600);\n",
"T=10*(s-16.725)^2;\n",
"plot(s,T,'r')\n",
"\n",
"s=[sqrt(300) 22.18];\n",
"T=[300 300];\n",
"plot(s,T,'g')\n",
"\n",
"xtitle('T-s diagram', 'S', 'T')\n",
"legend('p=C', 'V=C', 'T=C')\n",
"\n",
"disp('p-V diagram')\n",
"xset('window',1)\n",
"\n",
"V=[0.018 0.018];\n",
"p=[1 5];\n",
"plot(V,p)\n",
"\n",
"p=[5 5];\n",
"V=[0.0036 0.018];\n",
"plot(V,p,'r')\n",
"\n",
"V=0.0036:0.0001:0.018;\n",
"function p=f(V)\n",
"    p=1*0.018/V;\n",
"endfunction\n",
"\n",
"plot(V,f,'g')\n",
"\n",
"xtitle('p-V diagram', 'V', 'p')\n",
"legend('V=C','p=C','T=C')"
   ]
   }
,
{
		   "cell_type": "markdown",
		   "metadata": {},
		   "source": [
			"## Example 5.39: 39.sce"
		   ]
		  },
  {
"cell_type": "code",
	   "execution_count": null,
	   "metadata": {
	    "collapsed": true
	   },
	   "outputs": [],
"source": [
"clc\n",
"m=4; //kg\n",
"T1=400; //K\n",
"T2=500; //K\n",
"\n",
"dS=integrate('m*(0.48+0.0096*T)/T', 'T', T1,T2);\n",
"disp('dS=')\n",
"disp(dS)\n",
"disp('kJ')"
   ]
   }
,
{
		   "cell_type": "markdown",
		   "metadata": {},
		   "source": [
			"## Example 5.40: 40.sce"
		   ]
		  },
  {
"cell_type": "code",
	   "execution_count": null,
	   "metadata": {
	    "collapsed": true
	   },
	   "outputs": [],
"source": [
"clc\n",
"p1=1*10^5; //Pa\n",
"T1=273;  //K\n",
"p2=25*10^5; //Pa\n",
"T2=750; //K\n",
"R=0.29; //kJ/kg.K ; cp=0.85+0.00025*T; cv=0.56+0.00025*T; R=cp-cv;\n",
"v2=R*T2/p2;\n",
"v1=R*T1/p1;\n",
"ds=integrate('(0.56+0.00025*T)/T', 'T', T1, T2) + integrate('R/v', 'v', v1, v2);\n",
"\n",
"disp('ds=')\n",
"disp(ds)\n",
"disp('kJ/kg K')"
   ]
   }
,
{
		   "cell_type": "markdown",
		   "metadata": {},
		   "source": [
			"## Example 5.41: 41.sce"
		   ]
		  },
  {
"cell_type": "code",
	   "execution_count": null,
	   "metadata": {
	    "collapsed": true
	   },
	   "outputs": [],
"source": [
"clc\n",
"cv=0.715; //kJ/kg K\n",
"R=0.287; //kJ/kg K\n",
"V_A=0.25; //m^3\n",
"p_Ai=1.4; //bar\n",
"T_Ai=290; //K\n",
"V_B=0.25; //m^3\n",
"p_Bi=4.2; //bar\n",
"T_Bi=440; //K\n",
"\n",
"disp('(i) Final equilibrium temperature')\n",
"m_A=p_Ai * 10^5 * V_A / R / 1000/ T_Ai; //kg\n",
"m_B=p_Bi * 10^5 * V_B / R / 1000/ T_Bi; //kg\n",
"\n",
"T_f=(m_B * T_Bi + m_A * T_Ai)/(m_A + m_B);\n",
"disp('T_f = ')\n",
"disp(T_f)\n",
"disp('K')\n",
"\n",
"\n",
"disp('(ii) Final pressure on each side of the diaphragm')\n",
"p_Af=p_Ai*T_f/T_Ai;\n",
"disp('p_Af=')\n",
"disp(p_Af)\n",
"disp('bar')\n",
"\n",
"p_Bf=p_Bi*T_f/T_Bi;\n",
"disp('p_Bf=')\n",
"disp(p_Bf)\n",
"disp('bar')\n",
"\n",
"\n",
"disp('(iii) Entropy change of the system')\n",
"dS_A=m_A*cv*log(T_f/T_Ai);\n",
"dS_B=m_B*cv*log(T_f/T_Bi);\n",
"dS_net=dS_A+dS_B;\n",
"disp('Net change of entropy=')\n",
"disp(dS_net)\n",
"disp('kJ/K')"
   ]
   }
,
{
		   "cell_type": "markdown",
		   "metadata": {},
		   "source": [
			"## Example 5.42: 42.sce"
		   ]
		  },
  {
"cell_type": "code",
	   "execution_count": null,
	   "metadata": {
	    "collapsed": true
	   },
	   "outputs": [],
"source": [
"clc\n",
"cv=1.25; //kJ/kg.K\n",
"T1=530; //K\n",
"v1=0.0624; //m^3/kg\n",
"v2=0.186; //m^3/kg\n",
"dT_31=25; //K\n",
"T3=T1-dT_31; //K\n",
"dT_21=165; //K\n",
"T2=T1-dT_21; //K\n",
"// Path 1-2 : Reversible adiabatic process\n",
"ds_12=0;\n",
"\n",
"// To calculate (s3–s1) a reversible path has to be selected joining 3 and 1.This is achieved by selecting the reversible adiabatic path 1-2 and the reversible constant volume process 2-3.\n",
"\n",
"// Path 1-3 : Adiabatic process\n",
"v3=0.186; //m^3/kg\n",
"v3=v2;\n",
"ds_13=cv*log(T3/T2);\n",
"disp('Chang in entropy = ')\n",
"disp(ds_13)\n",
"disp('kJ/kgK')"
   ]
   }
,
{
		   "cell_type": "markdown",
		   "metadata": {},
		   "source": [
			"## Example 5.44: 44.sce"
		   ]
		  },
  {
"cell_type": "code",
	   "execution_count": null,
	   "metadata": {
	    "collapsed": true
	   },
	   "outputs": [],
"source": [
"clc\n",
"T1=500; //K\n",
"T2=400; //K\n",
"T3=300; //K\n",
"Q1=1500; //kJ/min\n",
"W=200; //kJ/min\n",
"\n",
"//Q1/T1 + Q2/T2 + Q3/T3=0\n",
"//Q1+Q2+Q3=W\n",
"//For solving the above two equations we use following method\n",
"//Q2-Q3=-1300\n",
"//Q2/400 - Q3/300 =-1500/500=-3\n",
"\n",
"A=[1,-1;(1/400),(-1/300)];\n",
"B=[(-1300);(-3)];\n",
"X=inv(A)*B;\n",
"Q2=X(1,1);\n",
"disp('Q2 =')\n",
"disp(Q2)\n",
"disp('kJ/min')\n",
"\n",
"Q3=X(2,1);\n",
"disp('Q3 =')\n",
"disp(Q3)\n",
"disp('kJ/min')\n",
"\n",
"disp('(ii) Entropy change ')\n",
"dS1=(-Q1)/T1;\n",
"disp('Entropy change of source 1 =')\n",
"disp(dS1)\n",
"disp('kJ/K')\n",
"\n",
"dS2=(-Q2)/T2;\n",
"disp('Entropy change of sink 2 =')\n",
"disp(dS2)\n",
"disp('kJ/K')\n",
"\n",
"dS3=Q3/T3;\n",
"disp('Entropy change of source 3 =')\n",
"disp(dS3)\n",
"disp('kJ/K')\n",
"\n",
"\n",
"disp('(iii) Net change of the entropy')\n",
"dSnet = dS1 + dS2 + dS3;\n",
"disp('dSnet=')\n",
"disp(dSnet)"
   ]
   }
,
{
		   "cell_type": "markdown",
		   "metadata": {},
		   "source": [
			"## Example 5.4: 4.sce"
		   ]
		  },
  {
"cell_type": "code",
	   "execution_count": null,
	   "metadata": {
	    "collapsed": true
	   },
	   "outputs": [],
"source": [
"clc\n",
"T2=261; //K\n",
"T1=308; //K\n",
"Q2=2; //kJ/s\n",
"Q1=Q2*(T1/T2);\n",
"W=Q1-Q2;\n",
"\n",
"disp('Least power required to pump the heat continuosly')\n",
"disp(W)\n",
"disp('kW')"
   ]
   }
,
{
		   "cell_type": "markdown",
		   "metadata": {},
		   "source": [
			"## Example 5.45: 45.sce"
		   ]
		  },
  {
"cell_type": "code",
	   "execution_count": null,
	   "metadata": {
	    "collapsed": true
	   },
	   "outputs": [],
"source": [
"clc\n",
"T1=250; //K\n",
"T2=125; //K\n",
"//cv=0.0045*T^2\n",
"Q1=integrate('0.045*T^2', 'T', T1, T2);\n",
"dS_system=integrate('0.045*T', 'T', T1, T2);\n",
"\n",
"//dS_reservoir=(Q1-W)/T_resservoir\n",
"\n",
"//dS_universe >= 0\n",
"//But for maximum work done dS_universe=0\n",
"dS_universe=0;\n",
"\n",
"W_max=((-Q1) -T2*(dS_universe-dS_system))/1000;\n",
"disp('W_max=')\n",
"disp(W_max)\n",
"disp('kJ')"
   ]
   }
,
{
		   "cell_type": "markdown",
		   "metadata": {},
		   "source": [
			"## Example 5.46: 46.sce"
		   ]
		  },
  {
"cell_type": "code",
	   "execution_count": null,
	   "metadata": {
	    "collapsed": true
	   },
	   "outputs": [],
"source": [
"clc\n",
"cp=1.005; //kJ/kg K\n",
"T_A=333; //K\n",
"T_B=288; //K\n",
"p_A=140; //kPa\n",
"p_B=110; //kPa\n",
"//h=cp*T\n",
"//v/T=0.287/p\n",
"ds_system=integrate('cp/T', 'T', T_A, T_B) + integrate('0.287/p', 'p', p_A, p_B);\n",
"ds_surr=0;\n",
"ds_universe=ds_system+ds_surr;\n",
"disp('change in entropy of universe = ')\n",
"disp(ds_universe)\n",
"disp('kJ/kgK')\n",
"disp('Since change in entropy of universe from A to B is -ve')\n",
"disp('The flow is from B to A')"
   ]
   }
,
{
		   "cell_type": "markdown",
		   "metadata": {},
		   "source": [
			"## Example 5.47: 47.sce"
		   ]
		  },
  {
"cell_type": "code",
	   "execution_count": null,
	   "metadata": {
	    "collapsed": true
	   },
	   "outputs": [],
"source": [
"clc\n",
"m1=3; //kg\n",
"m2=4; //kg\n",
"T0=273; //K\n",
"T1=80+273; //K\n",
"T2=15+273; //K\n",
"c_pw=4.187; //kJ/kgK\n",
"tm=(m1*T1 + m2*T2)/(m1+m2);\n",
"Si=m1*c_pw*log(T1/T0) + m2*c_pw*log(T2/T0);\n",
"Sf=(m1+m2)*c_pw*log(tm/T0);\n",
"dS=Sf-Si;\n",
"disp('Net change in entropy =')\n",
"disp(dS)\n",
"disp('kJ/K')"
   ]
   }
,
{
		   "cell_type": "markdown",
		   "metadata": {},
		   "source": [
			"## Example 5.49: 49.sce"
		   ]
		  },
  {
"cell_type": "code",
	   "execution_count": null,
	   "metadata": {
	    "collapsed": true
	   },
	   "outputs": [],
"source": [
"clc\n",
"m=1; //kg\n",
"T1=273; //K\n",
"T2=363; //K\n",
"c=4.187;\n",
"disp('(a)')\n",
"disp('(i) Entropy of water=')\n",
"ds_water=m*c*log(T2/T1);\n",
"disp(ds_water)\n",
"disp('kJ/kgK')\n",
"disp('(ii) Entropy change of the reservoir ')\n",
"Q=m*c*(T2-T1);\n",
"ds_reservoir=-Q/T2;\n",
"disp('ds_reservoir=')\n",
"disp(ds_reservoir)\n",
"disp('kJ/K')\n",
"disp('(iii) Entropy change of universe =')\n",
"ds_universe=ds_water+ds_reservoir;\n",
"disp(ds_universe)\n",
"disp('kJ/K')\n",
"disp('(b)')\n",
"T3=313; //K\n",
"ds_water=m*c*(log(T3/T1) + log(T2/T3));\n",
"ds_res1=-m*c*(T3-T1)/T3;\n",
"ds_res2=-m*c*(T2-T3)/T2;\n",
"ds_universe=ds_water+ds_res1+ds_res2;\n",
"disp('(iii) Entropy change of universe =')\n",
"disp(ds_universe)\n",
"disp('kJ/K')\n",
"disp('(c) The entropy change of universe would be less and less, if the water is heated in more and more stages, by bringing the water in contact successively with more and more heat reservoirs, each succeeding reservoir being at a higher temperature than the preceding one.')\n",
"disp('When water is heated in infinite steps, by bringing in contact with an infinite number of reservoirs in succession, so that at any instant the temperature difference between the water and the reservoir in contact is infinitesimally small, then the entropy change of the universe would be zero and the water would be reversibly heated.')"
   ]
   }
,
{
		   "cell_type": "markdown",
		   "metadata": {},
		   "source": [
			"## Example 5.50: 50.sce"
		   ]
		  },
  {
"cell_type": "code",
	   "execution_count": null,
	   "metadata": {
	    "collapsed": true
	   },
	   "outputs": [],
"source": [
"clc\n",
"cp=2.093; //kJ/kg0C\n",
"c=4.187;\n",
"Lf=333.33; //kJ/kg\n",
"m=1; //kg\n",
"T0=273; //K\n",
"T1=268; //K\n",
"T2=298; //K\n",
"Q_s=m*cp*(T0-T1);\n",
"Q_f=m*Lf;\n",
"Q_l=m*c*(T2-T0);\n",
"Q=Q_s+Q_f+Q_l;\n",
"\n",
"disp('(i) Entropy increase of the universe')\n",
"ds_atm=-Q/T2;\n",
"ds_sys1=m*cp*log(T0/T1);\n",
"ds_sys2=Lf/T0;\n",
"ds_sys3=m*c*log(T2/T0);\n",
"ds_total=ds_sys1+ds_sys2+ds_sys3;\n",
"ds_universe=ds_total+ds_atm;\n",
"\n",
"disp('Entropy increase of universe=')\n",
"disp(ds_universe)\n",
"disp('kJ/K')\n",
"\n",
"\n",
"disp('(ii) Minimum amount of work necessary to convert the water back into ice at – 5°C, Wmin.')\n",
"dS_refrigerator=0;\n",
"\n",
"// dS_atm=(Q+W)/T;\n",
"// dS_universe >= 0\n",
"// dS_system=(s1-s4)\n",
"//dS_universe=dS_system+dS_refrigerator+dS_atm\n",
"\n",
"dS_system=-1.6263; //kJ/kg K\n",
"T=298; //K\n",
"\n",
"//For minimum work \n",
"W_min=T*(-dS_system)-Q;\n",
"disp('Minimum work done =')\n",
"disp(W_min)\n",
"disp('kJ')"
   ]
   }
,
{
		   "cell_type": "markdown",
		   "metadata": {},
		   "source": [
			"## Example 5.5: 5.sce"
		   ]
		  },
  {
"cell_type": "code",
	   "execution_count": null,
	   "metadata": {
	    "collapsed": true
	   },
	   "outputs": [],
"source": [
"clc\n",
"\n",
"disp('(i) Heat abstracted from outside=')\n",
"Q1=2*10^5; //kJ/h\n",
"W=3*10^4; //kJ/h\n",
"Q2=Q1-W;\n",
"disp('Heat abstracted from outside=')\n",
"disp(Q2)\n",
"disp('kJ/h')\n",
"\n",
"\n",
"disp('(ii) Co-efficient of performance')\n",
"COP_hp=Q1/(Q1-Q2);\n",
"disp('Co-efficient of performance=')\n",
"disp(COP_hp)"
   ]
   }
,
{
		   "cell_type": "markdown",
		   "metadata": {},
		   "source": [
			"## Example 5.6: 6.sce"
		   ]
		  },
  {
"cell_type": "code",
	   "execution_count": null,
	   "metadata": {
	    "collapsed": true
	   },
	   "outputs": [],
"source": [
"clc\n",
"T1=2373; //K\n",
"T2=288; //K\n",
"n_max=1-T2/T1;\n",
"disp('Highest possible theoritical efficiency=')\n",
"disp(n_max*100)\n",
"disp('%')"
   ]
   }
,
{
		   "cell_type": "markdown",
		   "metadata": {},
		   "source": [
			"## Example 5.7: 7.sce"
		   ]
		  },
  {
"cell_type": "code",
	   "execution_count": null,
	   "metadata": {
	    "collapsed": true
	   },
	   "outputs": [],
"source": [
"clc\n",
"T1=523; //K\n",
"T2=258; //K\n",
"Q1=90; //kJ\n",
"\n",
"n=1-T2/T1;\n",
"disp('(i) Efficiency of the system')\n",
"disp(n*100)\n",
"disp('%')\n",
"\n",
"\n",
"disp('(ii) The net work transfer')\n",
"W=n*Q1;\n",
"disp('W=')\n",
"disp(W)\n",
"disp('kJ')\n",
"\n",
"\n",
"disp('(iii) Heat rejected to the sink')\n",
"Q2=Q1-W;\n",
"disp('Q2=')\n",
"disp(Q2)\n",
"disp('kJ')"
   ]
   }
,
{
		   "cell_type": "markdown",
		   "metadata": {},
		   "source": [
			"## Example 5.8: 8.sce"
		   ]
		  },
  {
"cell_type": "code",
	   "execution_count": null,
	   "metadata": {
	    "collapsed": true
	   },
	   "outputs": [],
"source": [
"clc\n",
"T1=1023; //K\n",
"T2=298; //K\n",
"n_carnot=1-T2/T1;\n",
"W=75*1000*60*60;\n",
"Q=3.9*74500*1000;\n",
"n_thermal=W/Q;\n",
"disp('n_carnot =')\n",
"disp(n_carnot)\n",
"\n",
"disp('n_thermal =')\n",
"disp(n_thermal)\n",
"\n",
"disp('Since ηthermal > ηcarnot, therefore claim of the inventor is not valid (or possible')"
   ]
   }
,
{
		   "cell_type": "markdown",
		   "metadata": {},
		   "source": [
			"## Example 5.9: 9.sce"
		   ]
		  },
  {
"cell_type": "code",
	   "execution_count": null,
	   "metadata": {
	    "collapsed": true
	   },
	   "outputs": [],
"source": [
"clc\n",
"T1=1273; //K\n",
"T2=313; //K\n",
"n_max=1-T2/T1;\n",
"Wnet=1;\n",
"Q1=Wnet/n_max;\n",
"Q2=Q1-Wnet;\n",
"disp('the least rate of heat rejection = ')\n",
"disp(Q2)\n",
"disp('kW')"
   ]
   }
],
"metadata": {
		  "kernelspec": {
		   "display_name": "Scilab",
		   "language": "scilab",
		   "name": "scilab"
		  },
		  "language_info": {
		   "file_extension": ".sce",
		   "help_links": [
			{
			 "text": "MetaKernel Magics",
			 "url": "https://github.com/calysto/metakernel/blob/master/metakernel/magics/README.md"
			}
		   ],
		   "mimetype": "text/x-octave",
		   "name": "scilab",
		   "version": "0.7.1"
		  }
		 },
		 "nbformat": 4,
		 "nbformat_minor": 0
}
