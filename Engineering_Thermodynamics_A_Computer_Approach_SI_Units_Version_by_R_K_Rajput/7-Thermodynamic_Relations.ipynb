{
"cells": [
 {
		   "cell_type": "markdown",
	   "metadata": {},
	   "source": [
       "# Chapter 7: Thermodynamic Relations"
	   ]
	},
{
		   "cell_type": "markdown",
		   "metadata": {},
		   "source": [
			"## Example 7.17: 17.sce"
		   ]
		  },
  {
"cell_type": "code",
	   "execution_count": null,
	   "metadata": {
	    "collapsed": true
	   },
	   "outputs": [],
"source": [
"clc\n",
"B=5*10^(-5); // /K\n",
"K=8.6*10^(-12); // m^2/N\n",
"v=0.114*10^(-3); //m^3/kg\n",
"p2=800*10^5; //Pa\n",
"p1=20*10^5; //Pa\n",
"T=288; //K\n",
"disp('(i) Work done on the copper = ')\n",
"W=-v*K/2*(p2^2-p1^2);\n",
"disp(W)\n",
"disp('J/kg')\n",
"\n",
"disp('(ii) Change in entropy =')\n",
"ds=-v*B*(p2-p1);\n",
"disp(ds)\n",
"disp('J/kg K')\n",
"\n",
"disp('(iii) The heat transfer =')\n",
"Q=T*ds;\n",
"disp(Q)\n",
"disp('J/kg')\n",
"\n",
"disp('(iv) Change in internal energy =')\n",
"du=Q-W;\n",
"disp(du)\n",
"disp('J/kg')\n",
"\n",
"disp('(v) cp – cv =')\n",
"R=B^2*T*v/K;\n",
"disp(R)\n",
"disp('J/kg K')"
   ]
   }
,
{
		   "cell_type": "markdown",
		   "metadata": {},
		   "source": [
			"## Example 7.18: 18.sce"
		   ]
		  },
  {
"cell_type": "code",
	   "execution_count": null,
	   "metadata": {
	    "collapsed": true
	   },
	   "outputs": [],
"source": [
"clc\n",
"vg=0.1274; //m^3/kg\n",
"vf=0.001157; //m^3/kg\n",
"// dp/dT=32; //kPa/K\n",
"T3=473; //K\n",
"\n",
"h_fg=32*10^3*T3*(vg-vf)/10^3;\n",
"disp('h_fg=')\n",
"disp(h_fg)\n",
"disp('kJ/kg')"
   ]
   }
,
{
		   "cell_type": "markdown",
		   "metadata": {},
		   "source": [
			"## Example 7.19: 19.sce"
		   ]
		  },
  {
"cell_type": "code",
	   "execution_count": null,
	   "metadata": {
	    "collapsed": true
	   },
	   "outputs": [],
"source": [
"clc\n",
"h_fg=334; //kJ/kg\n",
"v_liq=1; //m^3/kg\n",
"v_ice=1.01; //m^3/kg\n",
"T1=273; //K\n",
"T2=263; //K\n",
"p1=1.013*10^5; //Pa\n",
"\n",
"p2=(p1+h_fg*10^3/(v_ice-v_liq)*log(T1/T2))/10^5;\n",
"disp('p2=')\n",
"disp(p2)\n",
"disp('bar')"
   ]
   }
,
{
		   "cell_type": "markdown",
		   "metadata": {},
		   "source": [
			"## Example 7.20: 20.sce"
		   ]
		  },
  {
"cell_type": "code",
	   "execution_count": null,
	   "metadata": {
	    "collapsed": true
	   },
	   "outputs": [],
"source": [
"clc\n",
"h_fg=294.54; //kJ/kg\n",
"\n",
"// log(p)=7.0323 - 3276.6/T - 0.652*log(T)\n",
"// Differentiating both sides, we get\n",
"// 1/2.302/p*dp/dT=3276.6/T^2-0.652/2.302/T\n",
"\n",
"//Putting p=0.1 bar , we get\n",
"p=0.1; //bar\n",
"T=523; //K\n",
"\n",
"vg=h_fg*10^3/T/(2.302*3276.6*p*10^5/T^2 - 0.652*p*10^5/T);\n",
"disp('vg=')\n",
"disp(vg)\n",
"disp('m^3/kg')"
   ]
   }
],
"metadata": {
		  "kernelspec": {
		   "display_name": "Scilab",
		   "language": "scilab",
		   "name": "scilab"
		  },
		  "language_info": {
		   "file_extension": ".sce",
		   "help_links": [
			{
			 "text": "MetaKernel Magics",
			 "url": "https://github.com/calysto/metakernel/blob/master/metakernel/magics/README.md"
			}
		   ],
		   "mimetype": "text/x-octave",
		   "name": "scilab",
		   "version": "0.7.1"
		  }
		 },
		 "nbformat": 4,
		 "nbformat_minor": 0
}
