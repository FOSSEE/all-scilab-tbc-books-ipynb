{
"cells": [
 {
		   "cell_type": "markdown",
	   "metadata": {},
	   "source": [
       "# Chapter 10: Psychrometrics"
	   ]
	},
{
		   "cell_type": "markdown",
		   "metadata": {},
		   "source": [
			"## Example 10.10: 10.sce"
		   ]
		  },
  {
"cell_type": "code",
	   "execution_count": null,
	   "metadata": {
	    "collapsed": true
	   },
	   "outputs": [],
"source": [
"clc\n",
"p_s=0.0206; //bar\n",
"p_t=1; //bar\n",
"p_s1=0.03782; //bar\n",
"W_2s=0.622*p_s/(p_t-p_s);\n",
"\n",
"cp=1.005;\n",
"t_db2=18; //0C\n",
"t_db1=28; //0C\n",
"\n",
"h_g2=2534.4; //kJ/kg\n",
"h_f2=75.6; //kJ/kg\n",
"h_g1=2552.6; //kJ/kg\n",
"\n",
"W1=(cp*(t_db1-t_db2) + W_2s*(h_g2-h_f2))/(h_g1-h_f2);\n",
"\n",
"p_v1=W1*p_t/(0.622+W1);\n",
"\n",
"RH=p_v1/p_s1; //Relative humidity\n",
"disp('Relative humidity')\n",
"disp(RH)"
   ]
   }
,
{
		   "cell_type": "markdown",
		   "metadata": {},
		   "source": [
			"## Example 10.11: 11.sce"
		   ]
		  },
  {
"cell_type": "code",
	   "execution_count": null,
	   "metadata": {
	    "collapsed": true
	   },
	   "outputs": [],
"source": [
"clc\n",
"t_db1=38; //0C\n",
"t_db2=18; //0C\n",
"phi_1=0.75;\n",
"phi_2=0.85;\n",
"p_t=1; //bar\n",
"cp=1.005;\n",
"\n",
"//At 38 0C\n",
"p_vs=0.0663; //bar\n",
"h_g1=2570.7; //kJ/kg\n",
"p_v=phi_1*p_vs;\n",
"W1=0.622*p_v/(p_t-p_v);\n",
"\n",
"//At 18 0C\n",
"p_vs=0.0206; //bar\n",
"h_g2=2534.4; //kJ/kg\n",
"h_f2=75.6; //kJ/kg\n",
"p_v=phi_2*p_vs;\n",
"W2=0.622*p_v/(p_t-p_v);\n",
"\n",
"q=(W2*h_g2 - W1*h_g1) + cp*(t_db2-t_db1) + (W1-W2)*h_f2;\n",
"disp('Heat transfer rate=')\n",
"disp(q)\n",
"disp('kJ/kg of dry air')"
   ]
   }
,
{
		   "cell_type": "markdown",
		   "metadata": {},
		   "source": [
			"## Example 10.1: 1.sce"
		   ]
		  },
  {
"cell_type": "code",
	   "execution_count": null,
	   "metadata": {
	    "collapsed": true
	   },
	   "outputs": [],
"source": [
"clc\n",
"t_db=293; //K\n",
"W=0.0095; //kg/kg of dry air\n",
"p_t=1.0132; \n",
"disp('(i) Partial pressure of vapour')\n",
"p_v=p_t*W/(W+0.622);\n",
"disp('p_v=')\n",
"disp(p_v)\n",
"disp('bar')\n",
"\n",
"\n",
"disp('(ii) Relative humidity phi :')\n",
"p_vs=0.0234; //bar; From steam tables corresponding to 20 0C\n",
"phi=p_v/p_vs;\n",
"disp('relative hmidity =')\n",
"disp(phi)\n",
"\n",
"\n",
"disp('(iii) Dew point temperature')\n",
"t_dp=13 + (14-13)/(0.01598 - 0.0150)*(0.01524-0.0150); //From stea table by interpolation\n",
"disp('t_dp=')\n",
"disp(t_dp)\n",
"disp('0C')"
   ]
   }
,
{
		   "cell_type": "markdown",
		   "metadata": {},
		   "source": [
			"## Example 10.12: 12.sce"
		   ]
		  },
  {
"cell_type": "code",
	   "execution_count": null,
	   "metadata": {
	    "collapsed": true
	   },
	   "outputs": [],
"source": [
"clc\n",
"\n",
"//At 38 0C\n",
"p_vs=0.0663; //bar\n",
"h_g1=2570.7; //kJ/kg\n",
"phi=0.25;\n",
"p_t=1.0132;\n",
"p_v=phi*p_vs;\n",
"cp=1.005;\n",
"\n",
"//At 18 0C\n",
"h_g2=2534.4; //kJ/kg\n",
"p_vs=0.0206; //bar\n",
"W1=0.622*p_v/(p_t-p_v);\n",
"\n",
"t_db1=38; //0C\n",
"t_db2=18; //0C\n",
"\n",
"W2=(cp*(t_db1-t_db2) + W1*h_g1)/h_g2;\n",
"\n",
"//amount of water added =amt\n",
"amt=W2-W1;\n",
"disp('amt=')\n",
"disp(amt)\n",
"disp('kg/kg of dry air')\n",
"\n",
"p_v2=amt*p_t/(0.622+amt);\n",
"\n",
"RH=p_v2/p_vs;\n",
"disp('Final relative humidity')\n",
"disp(RH)"
   ]
   }
,
{
		   "cell_type": "markdown",
		   "metadata": {},
		   "source": [
			"## Example 10.13: 13.sce"
		   ]
		  },
  {
"cell_type": "code",
	   "execution_count": null,
	   "metadata": {
	    "collapsed": true
	   },
	   "outputs": [],
"source": [
"clc\n",
"\n",
"disp('(i) Mass of spray water required')\n",
"\n",
"//At 22 0c\n",
"p_vs=0.0264; //bar\n",
"phi_3=0.55;\n",
"p_t=1.0132; //bar\n",
"\n",
"p_v3=phi_3*p_vs;\n",
"W3=0.622*p_v3/(p_t-p_v3);\n",
"\n",
"//At 3 0C\n",
"p_vs1=0.0076; //bar\n",
"p_v1=p_vs1;\n",
"\n",
"W1=0.622*p_v1/(p_t-p_v1);\n",
"\n",
"R=287;\n",
"T_3=295; //K\n",
"\n",
"v=R*T_3/(p_t-p_v3)/10^5;\n",
"\n",
"m=(W3-W1)/v;\n",
"disp(' Mass of spray water required=')\n",
"disp(m)\n",
"disp('kg moisture/m^3')\n",
"\n",
"\n",
"disp('(ii) Temperature to which the air must be heated')\n",
"t_dp=12.5; //0C\n",
"cp=1.005;\n",
"t_db3=22; //0C\n",
"h_g3=2524; //kJ/kg\n",
"h_vapour3=h_g3 + 1.88*(t_db3 - t_dp);\n",
"W2=0.0047;\n",
"h_g2=2524; //kJ/kg\n",
"h4=41.87;\n",
"\n",
"t_db2=(cp*t_db3 + W3*h_vapour3 -W2*h_g2 + 1.88*W2*t_dp - (W3-W2)*h4)/(cp-W2*1.88);\n",
"disp('t_db2=')\n",
"disp(t_db2)\n",
"disp('0C')"
   ]
   }
,
{
		   "cell_type": "markdown",
		   "metadata": {},
		   "source": [
			"## Example 10.14: 14.sce"
		   ]
		  },
  {
"cell_type": "code",
	   "execution_count": null,
	   "metadata": {
	    "collapsed": true
	   },
	   "outputs": [],
"source": [
"clc\n",
"\n",
"disp('(i) Make-up water required')\n",
"p_vs=0.0206; //bar\n",
"phi=0.6;\n",
"p_t=1.013; //bar\n",
"\n",
"p_v1=phi*p_vs;\n",
"p_a1=p_t-p_v1;\n",
"V=9; //m^3\n",
"R=287;\n",
"T=291; //K\n",
"\n",
"m_a=p_a1*10^5*V/R/T;\n",
"\n",
"m_v1=0.0828; //kg/s\n",
"\n",
"//At exit at 26 0C\n",
"p_vs=0.0336; //bar\n",
"phi=1;\n",
"p_v=p_vs;\n",
"W2=0.622*p_v/(p_t-p_v);\n",
"m_v2=W2*m_a;\n",
"\n",
"m=m_v2-m_v1;\n",
"disp('Make-up water required=')\n",
"disp(m)\n",
"disp('kg/s')\n",
"\n",
"\n",
"disp('(ii) Final temperature of the water')\n",
"m_w1=5.5; //kg/s\n",
"m_w2=m_w1-m;\n",
"\n",
"Wi=4.75; //kJ/s\n",
"\n",
"h_w1=184.3; //kJ/kg\n",
"h_a1=18.09; //kJ/kg\n",
"h_v1=2534.74; //kJ/kg\n",
"\n",
"h_v2=2549; //kJ/kg\n",
"h_a2=26.13; //kJ/kg\n",
"\n",
"h_w2=(Wi + m_w1*h_w1 + m_a*h_a1 + m_v1*h_v1 - m_a*h_a2 - m_v2*h_v2)/m_w2;\n",
"\n",
"//By interpolation, h_w2 corresponds to t\n",
"t=26.7; //0C\n",
"disp('final temperature of water=')\n",
"disp(t)\n",
"disp('0C')\n",
"\n",
""
   ]
   }
,
{
		   "cell_type": "markdown",
		   "metadata": {},
		   "source": [
			"## Example 10.15: 15.sce"
		   ]
		  },
  {
"cell_type": "code",
	   "execution_count": null,
	   "metadata": {
	    "collapsed": true
	   },
	   "outputs": [],
"source": [
"clc\n",
"\n",
"m_water=60000; //kg/s\n",
"c=4.186;\n",
"t1=30; //0C\n",
"t2=35; //0C\n",
"Q=m_water*c*(t2-t1);\n",
"\n",
"h1=76.5; //kJ/kg\n",
"W1=0.016; //kg/kg of air \n",
"h2=92.5; //kJ/kg \n",
"W2=0.0246; //kg/kg of air\n",
"\n",
"m_air=Q/(h2-h1);\n",
"\n",
"A=m_air/10; //Quantity of air handled per fan\n",
"disp('Quantity of air handled per fan=')\n",
"disp(A)\n",
"disp('kg/h')\n",
"\n",
"\n",
"B=m_air*(W2-W1);\n",
"disp('Quantity of make up water=')\n",
"disp(B)\n",
"disp('kg/h')"
   ]
   }
,
{
		   "cell_type": "markdown",
		   "metadata": {},
		   "source": [
			"## Example 10.17: 17.sce"
		   ]
		  },
  {
"cell_type": "code",
	   "execution_count": null,
	   "metadata": {
	    "collapsed": true
	   },
	   "outputs": [],
"source": [
"clc\n",
"h1=35.4; //kJ/kg\n",
"h2=45.2; //kJ/kg\n",
"v_s1=0.8267; //m^3/kg\n",
"m_a=241.9;\n",
"\n",
"disp('(i) R.H. of heated air =')\n",
"RH=41; // From chart\n",
"disp(RH)\n",
"disp('%')\n",
"\n",
"disp('(ii) WBT of heated air =')\n",
"WBT=16.1; //0C\n",
"disp(WBT)\n",
"disp('ºC')\n",
"\n",
"disp('(iii) Heat added to air per minute =')\n",
"Q=m_a*(h2-h1);\n",
"disp(Q)\n",
"disp('kJ')"
   ]
   }
,
{
		   "cell_type": "markdown",
		   "metadata": {},
		   "source": [
			"## Example 10.18: 18.sce"
		   ]
		  },
  {
"cell_type": "code",
	   "execution_count": null,
	   "metadata": {
	    "collapsed": true
	   },
	   "outputs": [],
"source": [
"clc\n",
"h1=29.3; //kJ/kg\n",
"h2=42.3; //kJ/kg\n",
"h3=h2;\n",
"t_db2=24.5; //0C\n",
"t_db1=12; //0C\n",
"v_s1=0.817; //m^3/kg\n",
"amt=0.30; //Amount of air circulation m^3/min/person\n",
"capacity=60; //Seating capacity of office\n",
"BF=0.4; //By-pass factor\n",
"W3=8.6;\n",
"W1=6.8;\n",
"\n",
"m_a=amt*capacity/v_s1;\n",
"\n",
"disp('(i) Heating capacity of the heating coil =')\n",
"Q=m_a*(h2-h1)/60;\n",
"disp(Q)\n",
"disp('kW')\n",
"\n",
"t_db4=(t_db2-BF*t_db1)/(1-BF);\n",
"disp('Coil surface temperature =')\n",
"disp(t_db4)\n",
"disp('ºC')\n",
"\n",
"disp('(ii) The capacity of the humidifier =')\n",
"c=m_a*(W3-W1)/1000*60;\n",
"disp(c)\n",
"disp('kg/h')"
   ]
   }
,
{
		   "cell_type": "markdown",
		   "metadata": {},
		   "source": [
			"## Example 10.19: 19.sce"
		   ]
		  },
  {
"cell_type": "code",
	   "execution_count": null,
	   "metadata": {
	    "collapsed": true
	   },
	   "outputs": [],
"source": [
"clc\n",
"h1=82.5; //kJ/kg\n",
"h2=47.5; //kJ/kg\n",
"h3=55.7; //kJ/kg\n",
"h5=36.6; //kJ/kg\n",
"W1=19.6; //gm/kg\n",
"W3=11.8; //gm/kg\n",
"t_db2=17.6; //0C\n",
"t_db3=25; //0C\n",
"v_s1=0.892; //m^3/kg\n",
"amt=250; //m^3/min\n",
"m_a=amt/v_s1;\n",
"disp('(i) The capacity of the cooling coil =')\n",
"capacity=m_a*(h1-h2)*60/14000;\n",
"disp(capacity)\n",
"disp('TR')\n",
"BF=(h2-h5)/(h1-h5);\n",
"disp('by-pass factor of the cooling coil =')\n",
"disp(BF)\n",
"disp('(ii) The heating capacity of the heating coil =')\n",
"Q=m_a*(h3-h2)/60;\n",
"disp(Q)\n",
"disp('kW')\n",
"BF=0.3;\n",
"t_db6=(t_db3-BF*t_db2)/(1-BF);\n",
"disp('surface temperature of heating coil =')\n",
"disp(t_db6)\n",
"disp('ºC')\n",
"disp('(iii) The mass of water vapour removed per hour =')\n",
"m=m_a*(W1-W3)*60/1000;\n",
"disp(m)\n",
"disp('kg/h')"
   ]
   }
,
{
		   "cell_type": "markdown",
		   "metadata": {},
		   "source": [
			"## Example 10.2: 2.sce"
		   ]
		  },
  {
"cell_type": "code",
	   "execution_count": null,
	   "metadata": {
	    "collapsed": true
	   },
	   "outputs": [],
"source": [
"clc\n",
"t_db=290; //K\n",
"phi=0.6; //relative humidity\n",
"p_t=1.01325; //bar\n",
"p_vs=0.0194; //bar\n",
"\n",
"p_v=phi*p_vs;\n",
"\n",
"W=0.622*p_v/(p_t - p_v);\n",
"disp('Specific Humidity=')\n",
"disp(W)\n",
"disp('kg/kg of dry air')\n",
"\n",
"\n",
"t_dp=9 + (10-9)*(0.01164-0.01150)/(0.01230 - 0.01150); //By interpolation from steam tables\n",
"disp('dew point temperature =')\n",
"disp(t_dp)\n",
" disp('0C')"
   ]
   }
,
{
		   "cell_type": "markdown",
		   "metadata": {},
		   "source": [
			"## Example 10.3: 3.sce"
		   ]
		  },
  {
"cell_type": "code",
	   "execution_count": null,
	   "metadata": {
	    "collapsed": true
	   },
	   "outputs": [],
"source": [
"clc\n",
"phi=0.55;\n",
"p_vs=0.0425; //bar\n",
"p_t=1.0132; //bar\n",
"\n",
"p_v=phi*p_vs;\n",
"W=0.622*p_v/(p_t-p_v);\n",
"\n",
"//Specific humidity after removing o.oo4 kg of water vapour\n",
"Wnew=W-0.004;\n",
"p_v=p_t*Wnew/(Wnew+0.622);\n",
"p_vs=0.0234; //bar\n",
"\n",
"disp('(i) Relative humidity')\n",
"phi=p_v/p_vs;\n",
"disp('phi=')\n",
"disp(phi)\n",
"\n",
"\n",
"disp('(ii) Dew point temperature')\n",
"\n",
"disp('Corresponding to 0.0171 bar, from steam tables')\n",
"t_dp=15; //0C\n",
"disp('t_dp=')\n",
"disp(t_dp)\n",
"disp('0C')"
   ]
   }
,
{
		   "cell_type": "markdown",
		   "metadata": {},
		   "source": [
			"## Example 10.4: 4.sce"
		   ]
		  },
  {
"cell_type": "code",
	   "execution_count": null,
	   "metadata": {
	    "collapsed": true
	   },
	   "outputs": [],
"source": [
"clc\n",
"t_db=35; //0C\n",
"t_wb=25; //0C\n",
"p_t=1.0132; //bar\n",
"\n",
"//Corresponding to 25 0C in steam tables\n",
"p_vs_wb=0.0317; //bar\n",
"\n",
"p_v=p_vs_wb - (p_t - p_vs_wb)*(t_db - t_wb)/(1527.4 - 1.3*t_wb);\n",
"\n",
"\n",
"disp('(i) Specific humidity')\n",
"W=0.622*p_v/(p_t-p_v);\n",
"disp('W=')\n",
"disp(W)\n",
"disp('kg/kg of dry air')\n",
"\n",
"disp('(ii) Relative humidity')\n",
"\n",
"//Corresponding to 35 0C, from steam tables\n",
"p_vs=0.0563;\n",
"\n",
"phi=p_v/p_vs;\n",
"disp('phi')\n",
"disp(phi)\n",
"\n",
"\n",
"disp('(iii) Vapour density')\n",
"R_v=8314.3/18;\n",
"T_v=308; //K\n",
"\n",
"rho_v=p_v*10^5/(R_v*T_v);\n",
"disp('rho_v=')\n",
"disp(rho_v)\n",
"disp('kg/m^3')\n",
"\n",
"\n",
"disp('(iv) Dew point temperature')\n",
"t_dp=21 + (22-21)*(0.0252-0.0249)/(0.0264-0.0249);\n",
"disp('t_dp')\n",
"disp(t_dp)\n",
"disp('0C')\n",
"\n",
"\n",
"disp('(v) Enthalpy of mixture per kg of dry air')\n",
"cp=1.005;\n",
"h_g=2565.3; //kJ/kg; corresponding to 35 0C\n",
"h_vapour=h_g + 1.88*(t_db - t_dp);\n",
"\n",
"h=cp*t_db + W*h_vapour;\n",
"disp('h=')\n",
"disp(h)\n",
"disp('kJ/kg of dry air')"
   ]
   }
,
{
		   "cell_type": "markdown",
		   "metadata": {},
		   "source": [
			"## Example 10.5: 5.sce"
		   ]
		  },
  {
"cell_type": "code",
	   "execution_count": null,
	   "metadata": {
	    "collapsed": true
	   },
	   "outputs": [],
"source": [
"clc\n",
"\n",
"//For the air at 35 0C DBT and 60% R.H.\n",
"p_vs=0.0563; //bar; Corresponding to 35 0C from stem tables\n",
"\n",
"phi=0.6;\n",
"p_t=1.0132; //bar\n",
"cp=1.005;\n",
"t_db=35; //0C\n",
"h_g=2565.5; //kJ/kg\n",
"m1=1; //kg\n",
"m2=2; //kg\n",
"m=m1+m2;\n",
"\n",
"p_v=phi*p_vs;\n",
"W1=0.622*p_v/(p_t-p_v);\n",
"\n",
"//Corresponding to 0.0388 bar, from steam tables\n",
"t_dp=26+(27-26)*(0.0338-0.0336)/(0.0356-0.0336);\n",
"\n",
"h_vapour=h_g + 1.88*(t_db - t_dp);\n",
"h1=cp*t_db+W1*h_vapour;\n",
"\n",
"//For the air at 20°C DBT and 13°C dew point temperature :\n",
"p_v=0.0150; //bar\n",
"\n",
"W2=0.622*p_v/(p_t-p_v);\n",
"t_db=20; //0C\n",
"t_dp=13;\n",
"h_g=2538.1; //kJ/kg\n",
"h_vapour=h_g + 1.88*(t_db - t_dp);\n",
"\n",
"h2=cp*t_db+W2*h_vapour;\n",
"\n",
"//let enthalpy per kg of moist air be h\n",
"h=((m1*h1/(1+W1)) + (m2*h2/(1+W2)))/m;\n",
"\n",
"//Let Mass of vapour/kg of moist air be M\n",
"M=(m1*W1/(1+W1) + m2*W2/(1+W2))/m;\n",
"\n",
"\n",
"//Let specific humidity be denoted by SH\n",
"SH=M/(1-M);\n",
"disp('Specific humidity =')\n",
"disp(SH)\n",
"disp('kg/kg of dry air')"
   ]
   }
,
{
		   "cell_type": "markdown",
		   "metadata": {},
		   "source": [
			"## Example 10.6: 6.sce"
		   ]
		  },
  {
"cell_type": "code",
	   "execution_count": null,
	   "metadata": {
	    "collapsed": true
	   },
	   "outputs": [],
"source": [
"clc\n",
"\n",
"//For air at 20 0C and 75% R.H\n",
"p_vs=0.0234; //bar\n",
"phi=0.75;\n",
"p_t=1.0132;\n",
"cp=1.005;\n",
"t_db=20; //0C\n",
"\n",
"\n",
"p_v=phi*p_vs;\n",
"t_dp=15 + (16-15)*(0.01755-0.017)/(0.0182-0.017);\n",
"W=0.622*p_v/(p_t-p_v);\n",
"\n",
"h_g=2538.1; //kJ/kg\n",
"h_vapour=h_g + 1.88*(t_db - t_dp);\n",
"h1=cp*t_db + W*h_vapour;\n",
"\n",
"\n",
"disp('(i) Relative humidity of heated air :')\n",
"\n",
"//For air at 30°C DBT\n",
"p_vs=0.0425; //bar; corresponding to 30 0C\n",
"phi=p_v/p_vs;\n",
"disp('Relative humidity=')\n",
"disp(phi*100)\n",
"disp('%')\n",
"\n",
"\n",
"disp('(ii) Heat added to air per minute')\n",
"h_g=2556.3; //kJkg\n",
"t_db=30;\n",
"h2=cp*t_db+W*h_vapour;\n",
"V=90; //m^3\n",
"R=287;\n",
"T=293; //K\n",
"\n",
"m=(p_t-p_v)*V*10^5/R/T;\n",
"\n",
"Amt=m*(h2-h1);\n",
"disp('Amount of heat added per minute=')\n",
"disp(Amt)\n",
"disp('kJ')"
   ]
   }
,
{
		   "cell_type": "markdown",
		   "metadata": {},
		   "source": [
			"## Example 10.7: 7.sce"
		   ]
		  },
  {
"cell_type": "code",
	   "execution_count": null,
	   "metadata": {
	    "collapsed": true
	   },
	   "outputs": [],
"source": [
"clc\n",
"\n",
"//For air at 35 0C DBT and 50% RH\n",
"p_vs=0.0563; //bar; At 35 0C, from steam tables\n",
"phi=0.5;\n",
"p_t=1.0132;\n",
"t_db1=35; //0C\n",
"t_dp1=23; //0C\n",
"cp=1.005;\n",
"R=287;\n",
"p_v=phi*p_vs;\n",
"W1=0.622*p_v/(p_t-p_v);\n",
"h_g1=2565.3; //kJ/kg\n",
"\n",
"h_vapour=h_g1 + 1.88*(t_db1 - t_dp1);\n",
"h1=cp*t_db1+W1*h_vapour;\n",
"\n",
"\n",
"disp('(i) R.H. of cooled air')\n",
"p_vs=0.0317;\n",
"phi=p_v/p_vs;\n",
"disp('RH of cooled air=')\n",
"disp(phi*100)\n",
"disp('%')\n",
"\n",
"\n",
"disp('(ii) Heat removed from air')\n",
"h_g2=2547.2; //kJ/kg\n",
"t_db2=25; //0C\n",
"t_dp2=23; //0C\n",
"W2=W1;\n",
"T=308; //K\n",
"V=40; //m^3\n",
"\n",
"h_vapour=h_g2 + 1.88*(t_db2 - t_dp2);\n",
"h2=cp*t_db2+W2*h_vapour;\n",
"m=(p_t-p_v)*10^5*V/R/T;\n",
"\n",
"//Let Heat removed be denoted by H\n",
"H=m*(h1-h2);\n",
"disp('Heat removed =') \n",
"disp(H)\n",
"disp('kJ')"
   ]
   }
,
{
		   "cell_type": "markdown",
		   "metadata": {},
		   "source": [
			"## Example 10.8: 8.sce"
		   ]
		  },
  {
"cell_type": "code",
	   "execution_count": null,
	   "metadata": {
	    "collapsed": true
	   },
	   "outputs": [],
"source": [
"clc\n",
"\n",
"//For the air at 35°C DBT and 50% R.H.\n",
"p_vs=0.0563; //bar; At 35 0C, from steam tables\n",
"phi=0.5;\n",
"p_v=phi*p_vs;\n",
"p_t=1.0132; //bar\n",
"\n",
"t_dp1=23; //0C\n",
"t_db1=35; //0C\n",
"W1=0.622*p_v/(p_t-p_v);\n",
"h_g1=2565.3; //kJ/kg\n",
"R=287;\n",
"cp=1.005;\n",
"\n",
"h_vapour=h_g1 + 1.88*(t_db1 - t_dp1);\n",
"h1=cp*t_db1+W1*h_vapour;\n",
"\n",
"\n",
"disp('(i) Relative humidity of out coming air and its wet bulb temperature.')\n",
"\n",
"disp('Relative humidity of exit air is 100 per cent.')\n",
"\n",
"t_wb=20; //0C\n",
"disp('Wet bulb temperture=')\n",
"disp(t_wb)\n",
"disp('0C')\n",
"\n",
"p_v=0.0234; //bar\n",
"p_vs=p_v;\n",
"t_db2=20; //0C\n",
"h_g2=2538.1; //kJ/kg\n",
"t_dp2=t_db2;\n",
"\n",
"W2=0.622*p_v/(p_t-p_v);\n",
"h_vapour=h_g2 + 1.88*(t_db2 - t_dp2);\n",
"h2=cp*t_db2+W2*h_vapour;\n",
"\n",
"T=308; //K\n",
"V=120; //m^3\n",
"\n",
"W=W1-W2; //Weight of water vvapour removed per kg of dry air \n",
"h=h1-h2; //Heat removed per kg of dry air\n",
"m=(p_t-p_v)*10^5*V/R/T;\n",
"\n",
"\n",
"disp('(ii) Capacity of the cooling coil in tonnes of refrigeration')\n",
"C=m*(h1-h2)*60/14000;\n",
"disp('Capacity =')\n",
"disp(C)\n",
"disp('TR')\n",
"\n",
"\n",
"disp('(iii) Amount of water removed per hour')\n",
"Amt=m*(W1-W2)*60;\n",
"disp('Amount of water removed per hour=')\n",
"disp(Amt)\n",
"disp('kg/h')"
   ]
   }
,
{
		   "cell_type": "markdown",
		   "metadata": {},
		   "source": [
			"## Example 10.9: 9.sce"
		   ]
		  },
  {
"cell_type": "code",
	   "execution_count": null,
	   "metadata": {
	    "collapsed": true
	   },
	   "outputs": [],
"source": [
"clc\n",
"p_vs=0.0563; //bar\n",
"phi=0.2;\n",
"p_v=phi*p_vs;\n",
"p_t=1.0132; //bar\n",
"\n",
"W1=0.622*p_v/(p_t-p_v);\n",
"\n",
"disp('(i) Dew point temperature')\n",
"//\n",
"t_dp=8+(9-8)*(0.01126-0.01072)/(0.01150-0.01072);\n",
"disp('dew point temperature=')\n",
"disp(t_dp)\n",
"disp('0C')\n",
"\n",
"\n",
"disp('(ii) Relative humidity of the exit air :')\n",
"p_vs_wb=0.0170; //bar\n",
"p_vs=0.0234; //bar\n",
"t_db=20; //0C\n",
"t_wb=15; //0C\n",
"\n",
"p_v=p_vs_wb - (p_t-p_vs_wb)*(t_db-t_wb)/(1527.4-1.3*t_wb);\n",
"W2=0.622*p_v/(p_t-p_v);\n",
"\n",
"RH=p_v/p_vs;\n",
"disp('Relative humidity=')\n",
"disp(RH)\n",
"\n",
"p_v=0.01126; //bar\n",
"R=287;\n",
"T=308; //K\n",
"V=150;\n",
"\n",
"m=(p_t-p_v)*V*10^5/R/T;\n",
"\n",
"\n",
"disp('(iii) Amount of water vapour added to the air per minute')\n",
"amt=m*(W2-W1);\n",
"disp('Amount =')\n",
"disp(amt)\n",
"disp('kg/min')"
   ]
   }
],
"metadata": {
		  "kernelspec": {
		   "display_name": "Scilab",
		   "language": "scilab",
		   "name": "scilab"
		  },
		  "language_info": {
		   "file_extension": ".sce",
		   "help_links": [
			{
			 "text": "MetaKernel Magics",
			 "url": "https://github.com/calysto/metakernel/blob/master/metakernel/magics/README.md"
			}
		   ],
		   "mimetype": "text/x-octave",
		   "name": "scilab",
		   "version": "0.7.1"
		  }
		 },
		 "nbformat": 4,
		 "nbformat_minor": 0
}
