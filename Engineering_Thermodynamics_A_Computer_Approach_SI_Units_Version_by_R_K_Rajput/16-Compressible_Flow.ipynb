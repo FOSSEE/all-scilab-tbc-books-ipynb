{
"cells": [
 {
		   "cell_type": "markdown",
	   "metadata": {},
	   "source": [
       "# Chapter 16: Compressible Flow"
	   ]
	},
{
		   "cell_type": "markdown",
		   "metadata": {},
		   "source": [
			"## Example 16.10: 10.sce"
		   ]
		  },
  {
"cell_type": "code",
	   "execution_count": null,
	   "metadata": {
	    "collapsed": true
	   },
	   "outputs": [],
"source": [
"clc\n",
"R=287; //J/kg K\n",
"y=1.4;\n",
"p0=220*10^3; //N/m^2\n",
"T0=300; //K\n",
"V0=200; //m/s\n",
"C0=sqrt(y*R*T0);\n",
"rho_0=p0/R/T0;\n",
"disp('Stagnation pressure =')\n",
"\n",
"disp('(i) Compressibility is neglected')\n",
"ps=(p0+rho_0*V0^2/2)/10^3;\n",
"disp('ps=')\n",
"disp(ps)\n",
"disp('kN/m^2')\n",
"\n",
"\n",
"disp('(ii) Compressibility is accounted for')\n",
"M0=V0/C0;\n",
"\n",
"ps=(p0+rho_0*V0^2/2*(1+M0^2/4+(2-y)/24*M0^4))/10^3;\n",
"disp('ps=')\n",
"disp(ps)\n",
"disp('kN/m^2')"
   ]
   }
,
{
		   "cell_type": "markdown",
		   "metadata": {},
		   "source": [
			"## Example 16.11: 11.sce"
		   ]
		  },
  {
"cell_type": "code",
	   "execution_count": null,
	   "metadata": {
	    "collapsed": true
	   },
	   "outputs": [],
"source": [
"clc\n",
"p0=35*10^3; //Pa\n",
"T0=235; //K\n",
"ps=65.4*10^3; //N/m^2\n",
"R0=8314; //Nm/mole K\n",
"M=28;\n",
"\n",
"R=R0/M;\n",
"rho_0=p0/R/T0;\n",
"\n",
"Va=sqrt(2*(ps-p0)/rho_0);\n",
"disp('Speed of the aircraft =')\n",
"disp(Va)\n",
"disp('m/s')"
   ]
   }
,
{
		   "cell_type": "markdown",
		   "metadata": {},
		   "source": [
			"## Example 16.1: 1.sce"
		   ]
		  },
  {
"cell_type": "code",
	   "execution_count": null,
	   "metadata": {
	    "collapsed": true
	   },
	   "outputs": [],
"source": [
"clc\n",
"V1=300; //m/s\n",
"p1=78; //kN/m^2\n",
"T1=313; //K\n",
"p2=117; //kN/m^2\n",
"R=287; //J/kg K\n",
"y=1.4;\n",
"\n",
"//Let r1=p1/rho1\n",
"r1=R*T1;\n",
"\n",
"V2=sqrt(2*(y/(y-1)*r1*(1-(p2/p1)^((y-1)/y)) + V1^2/2));\n",
"disp('Velocity of gas at section 2 =')\n",
"disp(V2)\n",
"disp('m/s')"
   ]
   }
,
{
		   "cell_type": "markdown",
		   "metadata": {},
		   "source": [
			"## Example 16.12: 12.sce"
		   ]
		  },
  {
"cell_type": "code",
	   "execution_count": null,
	   "metadata": {
	    "collapsed": true
	   },
	   "outputs": [],
"source": [
"clc\n",
"p0=30*10^3; //N/m^2\n",
"V0=152; //m/s\n",
"y=1.4;\n",
"\n",
"rho_0=1.224; //kg/m^3\n",
"ps=p0+rho_0*V0^2/2;\n",
"\n",
"rho_0=0.454; //kg/m^3\n",
"V0=sqrt(2*(ps-p0)/rho_0);\n",
"C0=sqrt(y*p0/rho_0);\n",
"M=V0/C0;\n",
"\n",
"ccf=(1+M^2/4); //Compressibility correction factor\n",
"\n",
"V=V0/sqrt(ccf); //True speed of aircraft\n",
"disp('True speed of aircraft =')\n",
"disp(V)\n",
"disp('m/s')"
   ]
   }
,
{
		   "cell_type": "markdown",
		   "metadata": {},
		   "source": [
			"## Example 16.13: 13.sce"
		   ]
		  },
  {
"cell_type": "code",
	   "execution_count": null,
	   "metadata": {
	    "collapsed": true
	   },
	   "outputs": [],
"source": [
"clc\n",
"M=3; //Mach number\n",
"d=0.2; //m\n",
"p_nozzle=7.85; //kN/m^2\n",
"T_nozzle=200; //K\n",
"y=1.4;\n",
"A=%pi/4*d^2;\n",
"\n",
"disp('Reservoir pressure =')\n",
"p_res=p_nozzle*(1+((y-1)/2*M^2))^(y/(y-1));\n",
"disp(p_res)\n",
"disp('kN/m^2')\n",
"\n",
"disp('Reservoir temperature =')\n",
"T_res=T_nozzle*(1+((y-1)/2*M^2));\n",
"disp(T_res)\n",
"disp('K')\n",
"\n",
"disp('Throat area (critical) =')\n",
"Ac=A*M/((2+(y-1)*M^2)/(y+1))^((y+1)/2/(y-1));\n",
"disp(Ac)\n",
"disp('m^2')"
   ]
   }
,
{
		   "cell_type": "markdown",
		   "metadata": {},
		   "source": [
			"## Example 16.14: 14.sce"
		   ]
		  },
  {
"cell_type": "code",
	   "execution_count": null,
	   "metadata": {
	    "collapsed": true
	   },
	   "outputs": [],
"source": [
"clc\n",
"R=287; //J/kg K\n",
"y=1.4;\n",
"p_atm=100; //kN/m^2\n",
"p1=284+p_atm; //kN/m^2\n",
"T1=297; //K\n",
"D=0.02; //m\n",
"\n",
"A2=%pi/4*D^2;\n",
"rho_1=p1*10^3/R/T1;\n",
"\n",
"m_max=0.685*A2*sqrt(p1*10^3*rho_1);\n",
"disp('Maximum flow rate =')\n",
"disp(m_max)\n",
"disp('kg/s')"
   ]
   }
,
{
		   "cell_type": "markdown",
		   "metadata": {},
		   "source": [
			"## Example 16.15: 15.sce"
		   ]
		  },
  {
"cell_type": "code",
	   "execution_count": null,
	   "metadata": {
	    "collapsed": true
	   },
	   "outputs": [],
"source": [
"clc\n",
"R=287; //J/kg K\n",
"y=1.4;\n",
"p1=2500*10^3; //N/m^2\n",
"T1=293; //K\n",
"p2=1750*10^3; //N/m^2\n",
"\n",
"rho_1=p1/R/T1;\n",
"\n",
"V2=sqrt(2*y/(y-1)*p1/rho_1*(1-(p2/p1)^((y-1)/y)));\n",
"disp('Velocity of air =')\n",
"disp(V2)\n",
"disp('m/s')"
   ]
   }
,
{
		   "cell_type": "markdown",
		   "metadata": {},
		   "source": [
			"## Example 16.16: 16.sce"
		   ]
		  },
  {
"cell_type": "code",
	   "execution_count": null,
	   "metadata": {
	    "collapsed": true
	   },
	   "outputs": [],
"source": [
"clc\n",
"R=287; //J/kg K\n",
"y=1.4;\n",
"p_atm=10^5; //N/m^2\n",
"T1=293; //K\n",
"D2=0.025; //m\n",
"p1=140*10^3; //N/m^2\n",
"\n",
"A2=%pi/4*D2^2;\n",
"\n",
"disp('(i) Mass rate of flow of air when pressure in the tank is 140 kN/m2 (abs.)')\n",
"rho_1=p1/R/T1;\n",
"p2=10^5; //N/m^2\n",
"\n",
"m=A2*sqrt(2*y/(y-1)*p1*rho_1*((p2/p1)^(2/y) - (p2/p1)^((y+1)/y)));\n",
"disp('m=')\n",
"disp(m)\n",
"disp('kg/s')\n",
"\n",
"\n",
"disp('(ii) Mass rate of flow of air when pressure in the tank is 300 kN/m2 (abs.)')\n",
"p1=300*10^3; //N/m^2\n",
"p2=10^5; //N/m^2\n",
"rho_1=p1/R/T1;\n",
"\n",
"disp('The pressure ratio p2/p1 being less than the critical ratio 0.528, the flow in the nozzle will be sonic');\n",
"\n",
"m_max=0.685*A2*sqrt(p1*rho_1);\n",
"disp('m_max=')\n",
"disp(m_max)\n",
"disp('kg/s')"
   ]
   }
,
{
		   "cell_type": "markdown",
		   "metadata": {},
		   "source": [
			"## Example 16.17: 17.sce"
		   ]
		  },
  {
"cell_type": "code",
	   "execution_count": null,
	   "metadata": {
	    "collapsed": true
	   },
	   "outputs": [],
"source": [
"clc\n",
"p1=200; //kN/m^2\n",
"V1=170; //m/s\n",
"T1=473; //K\n",
"A1=0.001; //m^2\n",
"R=287; //J/kg K\n",
"cp=1000; //J/kg K\n",
"y=1.4;\n",
"\n",
"disp('(i) Stagnation temperature (Ts) and stagnation pressure (ps)')\n",
"\n",
"Ts=T1+V1^2/2/cp;\n",
"disp('Ts=')\n",
"disp(Ts)\n",
"disp('K')\n",
"\n",
"ps=p1*(Ts/T1)^(y/(y-1));\n",
"disp('ps=')\n",
"disp(ps)\n",
"disp('kN/m^2')\n",
"\n",
"\n",
"disp('(ii) Sonic velocity and Mach number at this section')\n",
"\n",
"C1=sqrt(y*R*T1);\n",
"disp('Sonic velocity =')\n",
"disp(C1)\n",
"disp('m/s')\n",
"\n",
"M1=V1/C1;\n",
"disp('Mach number = ')\n",
"disp(M1)\n",
"\n",
"\n",
"disp('(iii) Velocity, Mach number and flow area at outlet section where pressure is 110 kN/m2')\n",
"p2=110; //kN/m^2\n",
"M2=sqrt(2/(y-1)*((ps/p2)^((y-1)/y) - 1));\n",
"disp('M2=')\n",
"disp(M2)\n",
"\n",
"T2=Ts*(p2/ps)^((y-1)/y);\n",
"C2=sqrt(y*R*T2);\n",
"V2=M2*C2;\n",
"disp('V2=')\n",
"disp(V2)\n",
"disp('m/s')\n",
"\n",
"A2=(p1*A1*V1*T2/T1/p2/V2)*10^6;\n",
"disp('A2=')\n",
"disp(A2)\n",
"disp('mm^2')\n",
"\n",
"\n",
"disp('(iv) Pressure (pt), temperature (Tt), velocity (Vt), and flow area (At) at throat of the nozzle')\n",
"Mt=1;\n",
"Tt=Ts/(1+(y-1)/2*Mt^2);\n",
"disp('Tt =')\n",
"disp(Tt)\n",
"disp('K')\n",
"\n",
"pt=ps*(Tt/Ts)^(y/(y-1));\n",
"disp('pt')\n",
"disp(pt)\n",
"disp('kN/m^2')\n",
"\n",
"Ct=sqrt(y*R*Tt);\n",
"Vt=Mt*Ct;\n",
"\n",
"At=(p1*A1*V1*Tt/T1/pt/Vt)*10^6;\n",
"disp('At=')\n",
"disp(At)\n",
"disp('mm^2')"
   ]
   }
,
{
		   "cell_type": "markdown",
		   "metadata": {},
		   "source": [
			"## Example 16.18: 18.sce"
		   ]
		  },
  {
"cell_type": "code",
	   "execution_count": null,
	   "metadata": {
	    "collapsed": true
	   },
	   "outputs": [],
"source": [
"clc\n",
"y=1.4;\n",
"p1=26.5; //kN/m^2\n",
"rho_1=0.413; //kg/m^3\n",
"M1=2;\n",
"R=287;\n",
"\n",
"M2=sqrt(((y-1)*M1^2 + 2)/(2*y*M1^2 - (y-1)));\n",
"disp('Mach number M2=')\n",
"disp(M2)\n",
"\n",
"p2=p1*(2*y*M1^2 - (y-1))/(y+1);\n",
"disp('p2=')\n",
"disp(p2)\n",
"disp('kN/m^2')\n",
"\n",
"rho_2=rho_1*((y+1)*M1^2)/((y-1)*M1^2 + 2);\n",
"disp('density, rho_2 =')\n",
"disp(rho_2)\n",
"disp('kg/m^3')\n",
"\n",
"T1=p1*10^3/rho_1/R;\n",
"disp('T1=')\n",
"disp(T1)\n",
"disp('K')\n",
"\n",
"T2=T1*((y-1)*M1^2 + 2)*(2*y*M1^2 - (y-1))/((y+1)^2*M1^2);\n",
"disp('T2=')\n",
"disp(T2)\n",
"disp('K')\n",
"\n",
"C1=sqrt(y*R*T1);\n",
"V1=M1*C1;\n",
"disp('V1=')\n",
"disp(V1)\n",
"disp('m/s')\n",
"\n",
"C2=sqrt(y*R*T2);\n",
"V2=M2*C2;\n",
"disp('V2 =')\n",
"disp(V2)\n",
"disp('m/s')"
   ]
   }
,
{
		   "cell_type": "markdown",
		   "metadata": {},
		   "source": [
			"## Example 16.19: 19.sce"
		   ]
		  },
  {
"cell_type": "code",
	   "execution_count": null,
	   "metadata": {
	    "collapsed": true
	   },
	   "outputs": [],
"source": [
"clc\n",
"M1=1.5;\n",
"p1=170; //kN/m^2\n",
"T1=296; //K\n",
"y=1.4;\n",
"\n",
"disp('(i) Pressure, temperature and Mach number downstream of the shock')\n",
"\n",
"p2=p1*(2*y*M1^2 - (y-1))/(y+1);\n",
"disp('p2=')\n",
"disp(p2)\n",
"disp('kN/m^2')\n",
"\n",
"T2=T1*((y-1)*M1^2 + 2)*(2*y*M1^2 - (y-1))/(y+1)^2/M1^2;\n",
"disp('T2=')\n",
"disp(T2)\n",
"disp('K')\n",
"\n",
"M2=sqrt(((y-1)*M1^2 + 2)/(2*y*M1^2 - (y-1)));\n",
"disp('M2=')\n",
"disp(M2)\n",
"\n",
"strength=p2/p1 - 1;\n",
"disp('Strength of stock =')\n",
"disp(strength)"
   ]
   }
,
{
		   "cell_type": "markdown",
		   "metadata": {},
		   "source": [
			"## Example 16.2: 2.sce"
		   ]
		  },
  {
"cell_type": "code",
	   "execution_count": null,
	   "metadata": {
	    "collapsed": true
	   },
	   "outputs": [],
"source": [
"clc\n",
"p1=35; //kN/m^2\n",
"V1=30; //m/s\n",
"T1=423; //K\n",
"V2=150; //m/s\n",
"R=290; //J/kg K\n",
"y=1.4;\n",
"\n",
"//Let r1=p2/p1\n",
"r1=R*T1; \n",
"\n",
"p2=p1*(1-((V2^2/2-V1^2/2)*(y-1)/y/r1))^(y/(y-1));\n",
"disp('p2=')\n",
"disp(p2)\n",
"disp('kN/m^2')\n",
"\n",
"T2=T1*(p2/p1)^((y-1)/y);\n",
"t2=T2-273;\n",
"disp('t2 =')\n",
"disp(t2)\n",
"disp('°C')"
   ]
   }
,
{
		   "cell_type": "markdown",
		   "metadata": {},
		   "source": [
			"## Example 16.3: 3.sce"
		   ]
		  },
  {
"cell_type": "code",
	   "execution_count": null,
	   "metadata": {
	    "collapsed": true
	   },
	   "outputs": [],
"source": [
"clc\n",
"SG=0.8;\n",
"rho_oil=800; //kg/m^3\n",
"K_oil=1.5*10^9; //N/m^2; crude oil\n",
"K_Hg=27*10^9; //N/m^2; Mercury\n",
"rho_Hg=13600; //kg/m^3\n",
"\n",
"C_oil=sqrt(K_oil/rho_oil);\n",
"disp('Sonic velocity of crude oil =')\n",
"disp(C_oil)\n",
"disp('m/s')\n",
"\n",
"C_Hg=sqrt(K_Hg/rho_Hg)\n",
"disp('Sonic velocity of Mercury =')\n",
"disp(C_Hg)\n",
"disp('m/s')"
   ]
   }
,
{
		   "cell_type": "markdown",
		   "metadata": {},
		   "source": [
			"## Example 16.4: 4.sce"
		   ]
		  },
  {
"cell_type": "code",
	   "execution_count": null,
	   "metadata": {
	    "collapsed": true
	   },
	   "outputs": [],
"source": [
"clc\n",
"T=228; //K\n",
"M=2;\n",
"R=287; //Jkg K\n",
"y=1.4;\n",
"\n",
"C=sqrt(y*R*T);\n",
"\n",
"V=M*C*3600/1000;\n",
"disp('Velocity of the plane =')\n",
"disp(V)\n",
"disp('km/h')"
   ]
   }
,
{
		   "cell_type": "markdown",
		   "metadata": {},
		   "source": [
			"## Example 16.5: 5.sce"
		   ]
		  },
  {
"cell_type": "code",
	   "execution_count": null,
	   "metadata": {
	    "collapsed": true
	   },
	   "outputs": [],
"source": [
"clc\n",
"a=40*%pi/180; //Mach angle in radians\n",
"y=1.4;\n",
"R=287; //J/kg K\n",
"T=288; //K\n",
"\n",
"C=sqrt(y*R*T);\n",
"\n",
"V=C/sin(a);\n",
"disp('Velocity of bullet =')\n",
"disp(V)\n",
"disp('m/s')"
   ]
   }
,
{
		   "cell_type": "markdown",
		   "metadata": {},
		   "source": [
			"## Example 16.6: 6.sce"
		   ]
		  },
  {
"cell_type": "code",
	   "execution_count": null,
	   "metadata": {
	    "collapsed": true
	   },
	   "outputs": [],
"source": [
"clc\n",
"p=88.3; //kN/m^2\n",
"T=271; //K\n",
"M=40*%pi/180;\n",
"y=1.4;\n",
"R=287; //J/kg K\n",
"\n",
"C=sqrt(y*R*T);\n",
"\n",
"V=C/sin(M);\n",
"disp('Velocity of the projectile =')\n",
"disp(V)\n",
"disp('m/s')"
   ]
   }
,
{
		   "cell_type": "markdown",
		   "metadata": {},
		   "source": [
			"## Example 16.7: 7.sce"
		   ]
		  },
  {
"cell_type": "code",
	   "execution_count": null,
	   "metadata": {
	    "collapsed": true
	   },
	   "outputs": [],
"source": [
"clc\n",
"h=1800; //m\n",
"T=277; //K\n",
"t=4; //s\n",
"y=1.4;\n",
"R=287; //J/kg K\n",
"\n",
"C=sqrt(y*R*T);\n",
"\n",
"//tan(a)=h/t*V\n",
"//V=C/sin(a)\n",
"//From above two equations we get\n",
"\n",
"a=(acos(C/h*t));\n",
"\n",
"V=C/sin(a)*3600/1000;\n",
"disp('Speed of the aircraft =')\n",
"disp(V)\n",
"disp('km/h')"
   ]
   }
,
{
		   "cell_type": "markdown",
		   "metadata": {},
		   "source": [
			"## Example 16.8: 8.sce"
		   ]
		  },
  {
"cell_type": "code",
	   "execution_count": null,
	   "metadata": {
	    "collapsed": true
	   },
	   "outputs": [],
"source": [
"clc\n",
"R=287; //J/kg K\n",
"y=1.4;\n",
"V0=1000*1000/3600; //m/s\n",
"p0=78.5; //kN/m^2\n",
"T0=265; //K\n",
"\n",
"C0=sqrt(y*R*T0);\n",
"M0=V0/C0;\n",
"\n",
"disp('(i) Stagnation pressure =')\n",
"ps=p0*(1+((y-1)/2*M0^2))^(y/(y-1));\n",
"disp(ps)\n",
"disp('kN/m^2')\n",
"\n",
"\n",
"disp('(ii) Stagnation temperature =')\n",
"Ts=T0*(1+((y-1)/2*M0^2));\n",
"disp(Ts)\n",
"disp('K')\n",
"\n",
"\n",
"disp('(iii) Stagnation density =')\n",
"rho_s=ps*10^3/R/Ts;\n",
"disp(rho_s)\n",
"disp('kg/m^3')"
   ]
   }
,
{
		   "cell_type": "markdown",
		   "metadata": {},
		   "source": [
			"## Example 16.9: 9.sce"
		   ]
		  },
  {
"cell_type": "code",
	   "execution_count": null,
	   "metadata": {
	    "collapsed": true
	   },
	   "outputs": [],
"source": [
"clc\n",
"V0=1000*1000/3600; //m/s\n",
"T0=320; //K\n",
"p_atm=98.1; //kN/m^2\n",
"p=9.81; //kN/m^2\n",
"p0=98.1-p;\n",
"R=287; //J/kg K\n",
"y=1.4;\n",
"\n",
"C0=sqrt(y*R*T0);\n",
"M0=V0/C0;\n",
"\n",
"disp('Stagnation pressure =')\n",
"ps=p0*(1+((y-1)/2*M0^2))^(y/(y-1));\n",
"disp(ps)\n",
"disp('kN/m^2')\n",
"\n",
"\n",
"disp('Stagnation temperature =')\n",
"Ts=T0*(1+((y-1)/2*M0^2));\n",
"disp(Ts)\n",
"disp('K')\n",
"\n",
"\n",
"disp('Stagnation density =')\n",
"rho_s=ps*10^3/R/Ts;\n",
"disp(rho_s)\n",
"disp('kg/m^3')\n",
"\n",
"M=0.8;\n",
"\n",
"CF=1+M0^2/4+(2-y)/24*M0^4;\n",
"disp('Compressibility factor')\n",
"disp(CF)"
   ]
   }
],
"metadata": {
		  "kernelspec": {
		   "display_name": "Scilab",
		   "language": "scilab",
		   "name": "scilab"
		  },
		  "language_info": {
		   "file_extension": ".sce",
		   "help_links": [
			{
			 "text": "MetaKernel Magics",
			 "url": "https://github.com/calysto/metakernel/blob/master/metakernel/magics/README.md"
			}
		   ],
		   "mimetype": "text/x-octave",
		   "name": "scilab",
		   "version": "0.7.1"
		  }
		 },
		 "nbformat": 4,
		 "nbformat_minor": 0
}
