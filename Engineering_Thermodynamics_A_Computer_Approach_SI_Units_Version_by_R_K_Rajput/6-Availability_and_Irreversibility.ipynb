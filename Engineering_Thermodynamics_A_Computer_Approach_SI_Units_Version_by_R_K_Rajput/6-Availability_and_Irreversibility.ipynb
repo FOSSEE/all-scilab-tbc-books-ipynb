{
"cells": [
 {
		   "cell_type": "markdown",
	   "metadata": {},
	   "source": [
       "# Chapter 6: Availability and Irreversibility"
	   ]
	},
{
		   "cell_type": "markdown",
		   "metadata": {},
		   "source": [
			"## Example 6.10: 10.sce"
		   ]
		  },
  {
"cell_type": "code",
	   "execution_count": null,
	   "metadata": {
	    "collapsed": true
	   },
	   "outputs": [],
"source": [
"clc\n",
"m_O2=1; //kg\n",
"m_H2=1; //kg\n",
"p=1*10^5; //Pa\n",
"T_O2=450; //K\n",
"T_H2=450; //K\n",
"T0=290; //K\n",
"R0=8.314;\n",
"M_O2=32;\n",
"M_H2=2;\n",
"\n",
"R_O2=R0/M_O2;\n",
"v_O2=m_O2*R_O2*T_O2/p;\n",
"\n",
"R_H2=R0/M_H2;\n",
"v_H2=m_H2*R_H2*T_H2/p;\n",
"\n",
"v_f=v_O2 + v_H2; //total volume after mixing\n",
"\n",
"dS_O2=R_O2*log(v_f/v_O2);\n",
"dS_H2=R_H2*log(v_f/v_H2);\n",
"\n",
"dS_net=dS_O2 + dS_H2;\n",
"\n",
"//Let E be the loss in availability \n",
"E=T0*dS_net;\n",
"disp('Loss in availability=')\n",
"disp(E)\n",
"disp('kJ')"
   ]
   }
,
{
		   "cell_type": "markdown",
		   "metadata": {},
		   "source": [
			"## Example 6.11: 11.sce"
		   ]
		  },
  {
"cell_type": "code",
	   "execution_count": null,
	   "metadata": {
	    "collapsed": true
	   },
	   "outputs": [],
"source": [
"clc\n",
"T0=283; //K\n",
"cp=4.18; //kJ/kgK\n",
"m1=20; //kg\n",
"T1=363; //K\n",
"m2=30; //kg\n",
"T2=303; //K\n",
"T3=327; //K\n",
"\n",
"AE1=integrate('m1*cp*(1-T0/T)', 'T', T0, T1);\n",
"AE2=integrate('m2*cp*(1-T0/T)', 'T', T0, T2);\n",
"\n",
"AE_total=AE1 + AE2; //before mixing\n",
"\n",
"//If T K is the final temperature after mixing\n",
"T=(m1*T1+m2*T2)/(m1+m2);\n",
"m_total=m1+m2;\n",
"\n",
"//Available energy of 50kg of water at 54 0C\n",
"AE3=m_total*cp*[(T3-T0) - T0*log(T3/T0)];\n",
"\n",
"//Decrease in available energy due to mixing dAE\n",
"dAE=AE_total - AE3;\n",
"disp('dAE=')\n",
"disp(dAE)\n",
"disp('kJ')"
   ]
   }
,
{
		   "cell_type": "markdown",
		   "metadata": {},
		   "source": [
			"## Example 6.1: 1.sce"
		   ]
		  },
  {
"cell_type": "code",
	   "execution_count": null,
	   "metadata": {
	    "collapsed": true
	   },
	   "outputs": [],
"source": [
"clc\n",
"T0=293; //K\n",
"T1=300; //K\n",
"T2=370; //K\n",
"cv=0.716;\n",
"cp=1.005;\n",
"R=0.287;\n",
"p1=1; //bar\n",
"p2=6.8; //bar\n",
"m=1; //kg\n",
"Wmax=-[cv*(T2-T1) - T0*[cp*log(T2/T1)-R*log(p2/p1)]];\n",
"n=1/(1-(log(T2/T1)/log(p2/p1)));\n",
"Wact=m*R*(T1-T2)/(n-1);\n",
"\n",
"I=Wmax - Wact;\n",
"disp('Irreversibility = ')\n",
"disp(I)\n",
"disp('kJ/kg')"
   ]
   }
,
{
		   "cell_type": "markdown",
		   "metadata": {},
		   "source": [
			"## Example 6.12: 12.sce"
		   ]
		  },
  {
"cell_type": "code",
	   "execution_count": null,
	   "metadata": {
	    "collapsed": true
	   },
	   "outputs": [],
"source": [
"clc\n",
"T_w1=323; //K\n",
"T_w2=343; //K\n",
"T_o1=513; //K\n",
"T_o2=363; //K\n",
"SG_oil=0.82;\n",
"c_po=2.6; //kJ/kg K\n",
"c_pw=4.18; //kJ/kg K\n",
"T0=300; //K\n",
"m_o=1; //kg\n",
"\n",
"//Heat lost by oil=Heat gained by water\n",
"m_w=(m_o*c_po*(T_o1-T_o2))/(c_pw*(T_w2-T_w1));\n",
"\n",
"dS_w=m_w*c_pw*log(T_w2/T_w1);\n",
"dS_o=m_o*c_po*log(T_o2/T_o1);\n",
"\n",
"dAE_w=m_w*[c_pw*(T_w2-T_w1)]-T0*dS_w;\n",
"dAE_o=m_o*[c_po*(T_o2-T_o1)]-T0*dS_o;\n",
"\n",
"// Loss in availability E=\n",
"E=dAE_w+dAE_o;\n",
"disp('Loss in availability =')\n",
"disp(E)\n",
"disp('kJ')"
   ]
   }
,
{
		   "cell_type": "markdown",
		   "metadata": {},
		   "source": [
			"## Example 6.13: 13.sce"
		   ]
		  },
  {
"cell_type": "code",
	   "execution_count": null,
	   "metadata": {
	    "collapsed": true
	   },
	   "outputs": [],
"source": [
"clc\n",
"m_i=1; //kg\n",
"T_i=273; //K\n",
"m_w=12; //kg\n",
"T_w=300; //K\n",
"T0=288; //K\n",
"c_pw=4.18; //kJ/kg K\n",
"c_pi=2.1; //kJ/kg K\n",
"L_i=333.5; //kJ/kg\n",
"\n",
"Tc=(m_w*c_pw*T_w + m_i*c_pw*T_i - L_i)/(m_w*c_pw + m_i*c_pw);\n",
"\n",
"dS_w=m_w*c_pw*log(Tc/T_w);\n",
"dS_i=m_i*c_pw*log(Tc/T_i) + L_i/T_i;\n",
"\n",
"dS_net=dS_w+dS_i;\n",
"disp('Increase in entropy =')\n",
"disp(dS_net)\n",
"disp('kJ/K')\n",
"\n",
"dAE=T0*dS_net;\n",
"disp('Increase in unavailable energy = ')\n",
"disp(dAE)\n",
"disp('kJ')"
   ]
   }
,
{
		   "cell_type": "markdown",
		   "metadata": {},
		   "source": [
			"## Example 6.14: 14.sce"
		   ]
		  },
  {
"cell_type": "code",
	   "execution_count": null,
	   "metadata": {
	    "collapsed": true
	   },
	   "outputs": [],
"source": [
"clc\n",
"T1=673; //K\n",
"T2=473; //K\n",
"T0=303; //K\n",
"T1a=T2;\n",
"\n",
"//dSa/dS=T1/T1a\n",
"\n",
"// W=(T1-T0)*dS; Work done by the power cycle when there was no temperature difference between the vapour condensing and vapour evaporating\n",
"// Wa=(T1-T0)*dSa; Work done by the power cycle when the vapour condenses at 400°C and vapour evaporates at 200°C\n",
"\n",
"//Fraction of energy that becomes unavailable is given by (W-Wa)/W\n",
"\n",
"UAE=T0*(T1-T1a)/T1a/(T1-T0);\n",
"disp('the fraction of energy that becomes unavailable =')\n",
"disp(UAE)"
   ]
   }
,
{
		   "cell_type": "markdown",
		   "metadata": {},
		   "source": [
			"## Example 6.15: 15.sce"
		   ]
		  },
  {
"cell_type": "code",
	   "execution_count": null,
	   "metadata": {
	    "collapsed": true
	   },
	   "outputs": [],
"source": [
"clc\n",
"T1=293; //K\n",
"T2=353; //K\n",
"Tf=1773; //K\n",
"T0=288; //K\n",
"c_pl=6.3; //kJ/kg K\n",
"\n",
"dAE=c_pl*(T2-T1) - T0*c_pl*log(T2/T1);\n",
"\n",
"n=(1-T0/Tf); //efficiency\n",
"\n",
"//W=heat supplied*efficiency\n",
"//The possible work from a heat engine is a measure of the loss of availability, E\n",
"E=c_pl*(T2-T1)*n;\n",
"\n",
"Effectiveness=dAE/E;\n",
"disp('Effectiveness of the heating process =')\n",
"disp(Effectiveness)"
   ]
   }
,
{
		   "cell_type": "markdown",
		   "metadata": {},
		   "source": [
			"## Example 6.16: 16.sce"
		   ]
		  },
  {
"cell_type": "code",
	   "execution_count": null,
	   "metadata": {
	    "collapsed": true
	   },
	   "outputs": [],
"source": [
"clc\n",
"T0=293; //K\n",
"T1=293; //K\n",
"T2=373; //K\n",
"T3=323; //K\n",
"cp=1.005;\n",
"\n",
"disp('(i) The ratio of mass flow')\n",
"//cp=Specific heat of air constant pressure\n",
"//cp*T1 + x*cp*T2 = (1+x)*cp*T3\n",
"x=(T3-T1)/(T2-T3);\n",
"disp('x=')\n",
"disp(x)\n",
"\n",
"\n",
"disp('(ii) The effectiveness of heating process')\n",
"ds_13=cp*log(T3/T1);\n",
"ds_32=cp*log(T2/T3);\n",
"A=cp*(T3-T1) - T1*ds_13; //Increase of availability of system\n",
"B=x*[cp*(T2-T3)-T0*(ds_32)];// Loss of availability of surroundings\n",
"\n",
"Effectiveness=A/B;\n",
"disp('Effectiveness of heating process=')\n",
"disp(Effectiveness)"
   ]
   }
,
{
		   "cell_type": "markdown",
		   "metadata": {},
		   "source": [
			"## Example 6.17: 17.sce"
		   ]
		  },
  {
"cell_type": "code",
	   "execution_count": null,
	   "metadata": {
	    "collapsed": true
	   },
	   "outputs": [],
"source": [
"clc\n",
"m=2.5; //kg\n",
"p1=6*10^5; //Pa\n",
"r=2; //r=V2/V1\n",
"cv=0.718; //kJ/kg K\n",
"R=0.287; //kJ/kg K\n",
"T1=363; //K\n",
"p2=1*10^5; //Pa\n",
"T2=278; //K\n",
"V1=m*R*T1/p1;\n",
"V2=2*V1;\n",
"T0=278; //K\n",
"p0=1*10^5; //Pa\n",
"Q=0; //adiabatic process\n",
"\n",
"disp('(i)The maximum work')\n",
"dS=m*cv*log(T2/T1) + m*R*log(V2/V1);\n",
"Wmax=m*[cv*(T1-T2)] + T0*(cv*log(T2/T1) + R*log(V2/V1));\n",
"disp('Wmax=')\n",
"disp(Wmax)\n",
"disp('kJ')\n",
"\n",
"\n",
"disp('(ii)The change in availability')\n",
"dA=Wmax+p0*(V1-V2);\n",
"disp('Change in availability =')\n",
"disp(dA)\n",
"disp('kJ')\n",
"\n",
"\n",
"disp('(iii) The irreversibility')\n",
"\n",
"I=T0*m*(cv*log(T2/T1)+R*log(V2/V1));\n",
"\n",
"disp('Irreversibility =')\n",
"disp(I)\n",
"disp('kJ')"
   ]
   }
,
{
		   "cell_type": "markdown",
		   "metadata": {},
		   "source": [
			"## Example 6.18: 18.sce"
		   ]
		  },
  {
"cell_type": "code",
	   "execution_count": null,
	   "metadata": {
	    "collapsed": true
	   },
	   "outputs": [],
"source": [
"clc\n",
"m=1; //kg\n",
"p1=7*10^5; //Pa\n",
"T1=873; //K\n",
"p2=1*10^5; //Pa\n",
"T2=523; //K\n",
"T0=288; //K\n",
"Q=-9; //kJ/kg\n",
"cp=1.005; //kJ/kg K\n",
"R=0.287; //kJ/kg K\n",
"disp('(i) The decrease in availability ')\n",
"dA=cp*(T1-T2) - T0*(R*log(p2/p1) - cp*log(T2/T1));\n",
"disp('dA=')\n",
"disp(dA)\n",
"disp('kJ/kg')\n",
"\n",
"\n",
"disp('(ii) The maximum work')\n",
"Wmax=dA; //change in availability\n",
"disp('Wmax')\n",
"disp(Wmax)\n",
"disp('kJ/kg')\n",
"\n",
"\n",
"disp('The irreversibility')\n",
"W=cp*(T1-T2) + Q;\n",
"I=Wmax - W;\n",
"disp('Irreversibility =')\n",
"disp(I)\n",
"disp('kJ/kg')"
   ]
   }
,
{
		   "cell_type": "markdown",
		   "metadata": {},
		   "source": [
			"## Example 6.19: 19.sce"
		   ]
		  },
  {
"cell_type": "code",
	   "execution_count": null,
	   "metadata": {
	    "collapsed": true
	   },
	   "outputs": [],
"source": [
"clc\n",
"cp=1.005; //kJ/kg K\n",
"cv=0.718; //kJ/kg K\n",
"R=0.287; //kJ/kg K\n",
"m=1; //kg\n",
"T1=290; //K\n",
"T0=290; //K\n",
"T2=400; //K\n",
"p1=1; //bar\n",
"p0=1; //bar\n",
"p2=6; //bar\n",
"\n",
"\n",
"//Wrev=change in internal energy - T0*change in entropy\n",
"disp('(i) The irreversibility')\n",
"Wrev=-[cv*(T2-T1) - T0*[cp*log(T2/T1) - R*log(p2/p1)]];\n",
"n=[1/(1-log(T2/T1)/log(p2/p1))];\n",
"Wact=m*R*(T1-T2)/(n-1);\n",
"\n",
"I=Wrev-Wact;\n",
"disp('Irreversibility=')\n",
"disp(I)\n",
"disp('kJ')\n",
"\n",
"\n",
"disp('(ii)The effectiveness = ')\n",
"effectiveness=Wrev/Wact*100;\n",
"disp(effectiveness)\n",
"disp('%')"
   ]
   }
,
{
		   "cell_type": "markdown",
		   "metadata": {},
		   "source": [
			"## Example 6.20: 20.sce"
		   ]
		  },
  {
"cell_type": "code",
	   "execution_count": null,
	   "metadata": {
	    "collapsed": true
	   },
	   "outputs": [],
"source": [
"clc\n",
"I=0.62; //kg/m^2\n",
"N1=2500; //rpm\n",
"w1=2*%pi*N1/60; //rad/s\n",
"m=1.9; //kg;  Water equivalent of shaft bearings\n",
"cp=4.18;\n",
"T0=293; //K\n",
"t0=20; //0C\n",
"\n",
"disp('(i)Rise in temperature of bearings')\n",
"KE=1/2*I*w1^2/1000; //kJ\n",
"dT=KE/(m*cp); //rise in temperature of bearings\n",
"disp('dT=')\n",
"disp(dT)\n",
"disp('0C')\n",
"\n",
"t2=t0+dT;\n",
"disp('Final temperature of the bearings =')\n",
"disp(t2)\n",
"disp('0C')\n",
"\n",
"T2=t2+273;\n",
"\n",
"disp('(ii)Final r.p.m. of the flywheel')\n",
"AE=integrate('m*cp*(1-T0/T)', 'T', T0, T2);\n",
"UE=KE - AE;\n",
"\n",
"disp('Available energy =')\n",
"disp(AE)\n",
"disp('kJ')\n",
"\n",
"UAE=KE-AE;\n",
"disp('Unavailable energy =')\n",
"disp(UAE)\n",
"disp('kJ')\n",
"\n",
"w2=sqrt(AE*10^3*2/I);\n",
"N2=w2*60/2/%pi;\n",
"disp('Final rpm of the flywheel =')\n",
"disp(N2)\n",
"disp('rpm')"
   ]
   }
,
{
		   "cell_type": "markdown",
		   "metadata": {},
		   "source": [
			"## Example 6.21: 21.sce"
		   ]
		  },
  {
"cell_type": "code",
	   "execution_count": null,
	   "metadata": {
	    "collapsed": true
	   },
	   "outputs": [],
"source": [
"clc\n",
"p1=8; //bar\n",
"T1=453; //K\n",
"p2=1.4; //bar\n",
"T2=293; //K\n",
"T0=T2;\n",
"p0=1; //bar\n",
"m=1; //kg\n",
"C1=80; //m/s\n",
"C2=40; //m/s\n",
"cp=1.005; //kJ/kg K\n",
"R=0.287; //kJ/kg K \n",
"disp('(i) Reversible work and actual work ')\n",
"A1=cp*(T1-T0)-T0*(cp*log(T1/T0)-R*log(p1/p0))+C1^2/2/10^3; //Availability at the inlet\n",
"A2=cp*(T2-T0)-T0*(cp*log(T2/T0)-R*log(p2/p0))+C2^2/2/10^3; //Availability at the exit\n",
"\n",
"W_rev=A1-A2;\n",
"disp('W_rev =')\n",
"disp(W_rev)\n",
"disp('kJ/kg')\n",
"\n",
"W_act=cp*(T1-T2) + (C1^2-C2^2)/2/10^3;\n",
"disp('W_act =')\n",
"disp(W_act)\n",
"disp('kJ/kg')\n",
"\n",
"disp('(ii) Irreversibilty and effectiveness =')\n",
"\n",
"I=W_rev-W_act;\n",
"disp('Irreversibilty =')\n",
"disp(I)\n",
"disp('kJ/kg')\n",
"\n",
"Effectiveness=W_act/W_rev*100;\n",
"disp('Effectiveness =')\n",
"disp(Effectiveness)\n",
"disp('%')"
   ]
   }
,
{
		   "cell_type": "markdown",
		   "metadata": {},
		   "source": [
			"## Example 6.22: 22.sce"
		   ]
		  },
  {
"cell_type": "code",
	   "execution_count": null,
	   "metadata": {
	    "collapsed": true
	   },
	   "outputs": [],
"source": [
"clc\n",
"p1=20; //bar\n",
"t1=400; //0C\n",
"p2=4; //bar\n",
"t2=250; //0C\n",
"t0=20; //0C\n",
"T0=t0+273;\n",
"h1=3247.6; //kJ/kg\n",
"s1=7.127; //kJ/kg K\n",
"\n",
"//let h2'=h2a and s2'=s2a\n",
"h2a=2964.3; //kJ/kg\n",
"s2a=7.379; //kJ/kg K\n",
"\n",
"s2=s1;\n",
"s1a=s1;\n",
"\n",
"//By interpolation, we get\n",
"h2=2840.8; //kJ/kg\n",
"\n",
"\n",
"disp('(i) Isentropic efficiency')\n",
"n_isen=(h1-h2a)/(h1-h2);\n",
"disp(' Isentropic efficiency =')\n",
"disp(n_isen)\n",
"\n",
"\n",
"disp('(ii) Loss of availability')\n",
"A=h1-h2a + T0*(s2a-s1a);\n",
"disp(' Loss of availability=')\n",
"disp(A)\n",
"disp('kJ/kg')\n",
"\n",
"\n",
"disp('(iii)Effectiveness')\n",
"Effectiveness=(h1-h2a)/A;\n",
"disp('Effectiveness =')\n",
"disp(Effectiveness)"
   ]
   }
,
{
		   "cell_type": "markdown",
		   "metadata": {},
		   "source": [
			"## Example 6.2: 2.sce"
		   ]
		  },
  {
"cell_type": "code",
	   "execution_count": null,
	   "metadata": {
	    "collapsed": true
	   },
	   "outputs": [],
"source": [
"clc\n",
"T1=1000; //K\n",
"T2=500; //K\n",
"T0=300; //K\n",
"Q=7200; //kJ/min\n",
"\n",
"disp('(i) Net change of entropy :')\n",
"dS_source=-Q/T1;\n",
"dS_system=Q/T2;\n",
"dS_net=dS_source+dS_system;\n",
"disp('dS_net=')\n",
"disp(dS_net)\n",
"disp('kJ/min.K')\n",
"\n",
"\n",
"disp('(ii) Decrease in available energy :')\n",
"AE_source=(T1-T0)*(-dS_source); //Available energy with the source\n",
"AE_system=(T2-T0)*dS_system; //Available energy with the system\n",
"dAE=AE_source - AE_system; //Decrease in available energy\n",
"disp('dAE=')\n",
"disp(dAE)\n",
"disp('kJ')"
   ]
   }
,
{
		   "cell_type": "markdown",
		   "metadata": {},
		   "source": [
			"## Example 6.3: 3.sce"
		   ]
		  },
  {
"cell_type": "code",
	   "execution_count": null,
	   "metadata": {
	    "collapsed": true
	   },
	   "outputs": [],
"source": [
"clc\n",
"m=8; //kg\n",
"T1=650; //K\n",
"p1=5.5*10^5; //Pa\n",
"p0=1*10^5; //Pa\n",
"T0=300; //K\n",
"cp=1.005; //kJ/kg.K\n",
"cv=0.718;\n",
"R=0.287;\n",
"//p1*v1/T1=p0*v0/T0\n",
"//Let r=v1/v0=1/2.54\n",
"r=1/2.54;\n",
"\n",
"\n",
"disp('(i) Change in available energy(for bringing the system to dead state)=')\n",
"ds=cv*log(T1/T0) + R*log(r);\n",
"dAE=m*[cv*(T1-T0) - T0*[ds]];\n",
"//dAE is the change in available energy in kJ\n",
"\n",
"V1=m*R*10^3*T1/p1;\n",
"V0=V1/r;\n",
"disp('Loss of availability, L=')\n",
"L=p0*(V0 - V1)/10^3;\n",
"disp(L)\n",
"disp('kJ')\n",
"\n",
"\n",
"disp('(ii) Available Energy and Effectiveness')\n",
"Q=m*cp*(T1-T0);\n",
"ds=m*cp*log(T1/T0);\n",
"Unavailable_energy=T0*ds;\n",
"Available_energy = Q - Unavailable_energy;\n",
"disp('Available energy = ')\n",
"disp(Available_energy)\n",
"disp('kJ')\n",
"\n",
"Effectiveness=Available_energy/dAE;\n",
"disp('Effectiveness = ')\n",
"disp(Effectiveness)"
   ]
   }
,
{
		   "cell_type": "markdown",
		   "metadata": {},
		   "source": [
			"## Example 6.4: 4.sce"
		   ]
		  },
  {
"cell_type": "code",
	   "execution_count": null,
	   "metadata": {
	    "collapsed": true
	   },
	   "outputs": [],
"source": [
"clc\n",
"c_pg=1; //kJ/kgK\n",
"h_fg=1940.7; //kJ/kg\n",
"Ts=473; //K ; Temperature of saturation of steam\n",
"T1=1273; //K ; Initial temperature of gases\n",
"T2=773; //K ; Final temperature of gases\n",
"T0=293; //K ; atmospheric temperature\n",
"\n",
"//Heat lost by gases=Heat gained by 1 kg saturated water when it is converted to steam at 200 0C\n",
"\n",
"m_g=h_fg/c_pg/(T1-T2);\n",
"dS_g=m_g*c_pg*log(T2/T1);\n",
"dS_w=h_fg/Ts;\n",
"\n",
"dS_net=dS_g + dS_w;\n",
"disp('Net change in entropy = ')\n",
"disp(dS_net)\n",
"disp('kJ/K')\n",
"\n",
"E=T0*dS_net; //Increase in unavailable energy due to hea transfer\n",
"disp('Increase in unavailable energy =')\n",
"disp(E)\n",
"disp('kJ')"
   ]
   }
,
{
		   "cell_type": "markdown",
		   "metadata": {},
		   "source": [
			"## Example 6.5: 5.sce"
		   ]
		  },
  {
"cell_type": "code",
	   "execution_count": null,
	   "metadata": {
	    "collapsed": true
	   },
	   "outputs": [],
"source": [
"clc\n",
"m_g=3; //kg\n",
"p1=2.5; //bar\n",
"T1=1200; //K; Temperature of infinite source\n",
"T1a=400; //K; Initial temperature\n",
"Q=600; //kJ\n",
"cv=0.81; //kJ/kg.K\n",
"T0=290; //K; Surrounding Temperature\n",
"//final temperature = T2a\n",
"\n",
"T2a=Q/m_g/cv + T1a;\n",
"AE=(T1-T0)*Q/T1; //Available energy with the source\n",
"dS=m_g*cv*log(T2a/T1a); //Change in entropy of the gas\n",
"\n",
"UAE=T0*dS; //Unavailability of the gas \n",
"A=Q-UAE; //Available energy with the gas\n",
"\n",
"loss=AE-A;\n",
"disp('Loss in available energy due to heat transfer =')\n",
"disp(loss)\n",
"disp('kJ')"
   ]
   }
,
{
		   "cell_type": "markdown",
		   "metadata": {},
		   "source": [
			"## Example 6.6: 6.sce"
		   ]
		  },
  {
"cell_type": "code",
	   "execution_count": null,
	   "metadata": {
	    "collapsed": true
	   },
	   "outputs": [],
"source": [
"clc\n",
"m=60; //kg\n",
"T1=333; //K\n",
"T0=279; //K\n",
"p=1; //atm\n",
"cp=4.187;\n",
"\n",
"//dW=-m*cp*(1-T0/T)dT\n",
"//Wmax=Available energy\n",
"Wmax=integrate('m*cp*(1-T0/T)', 'T', T0, T1);\n",
"Q1=m*cp*(T1-T0);\n",
"\n",
"//Let unavailable energy=E\n",
"E=Q1-Wmax;\n",
"disp('unavailable energy = ')\n",
"disp(E)\n",
"disp('kJ')"
   ]
   }
,
{
		   "cell_type": "markdown",
		   "metadata": {},
		   "source": [
			"## Example 6.7: 7.sce"
		   ]
		  },
  {
"cell_type": "code",
	   "execution_count": null,
	   "metadata": {
	    "collapsed": true
	   },
	   "outputs": [],
"source": [
"clc\n",
"m=15; //kg\n",
"T1=340; //K\n",
"T0=300; //K\n",
"cp=4.187; //kJ/kgK\n",
"//Work added during churning = Increase in enthalpy of water\n",
"W=m*cp*(T1-T0);\n",
"ds=cp*log(T1/T0);\n",
"AE=m*[cp*(T1-T0)-T0*ds];\n",
"AE_loss=W-AE; //Loss in availability\n",
"disp('Loss in availability')\n",
"disp(AE_loss)\n",
"disp('kJ')"
   ]
   }
,
{
		   "cell_type": "markdown",
		   "metadata": {},
		   "source": [
			"## Example 6.8: 8.sce"
		   ]
		  },
  {
"cell_type": "code",
	   "execution_count": null,
	   "metadata": {
	    "collapsed": true
	   },
	   "outputs": [],
"source": [
"clc\n",
"m=5; //kg\n",
"T1=550; //K\n",
"p1=4*10^5; //Pa\n",
"T2=290; //K\n",
"T0=T2;\n",
"p2=1*10^5; //Pa\n",
"p0=p2;\n",
"cp=1.005; //kJ/kg K\n",
"cv=0.718; //kJ/kg K\n",
"R=0.287; //kJ/kg K\n",
"\n",
"disp('(i) Availability of the system :')\n",
"ds=cp*log(T1/T0) - R*log(p1/p0);\n",
"Availability=m*[cv*(T1-T0) - T0*ds];\n",
"disp('Availability of the system =')\n",
"disp(Availability)\n",
"disp('kJ')\n",
"\n",
"\n",
"disp('(ii) Available energy and Effectiveness')\n",
"Q=m*cp*(T1-T0);\n",
"dS=m*cp*log(T1/T0);\n",
"E=T0*dS; //Unavailable energy\n",
"AE=Q-E;\n",
"disp('Available Energy = ')\n",
"disp(AE)\n",
"disp('kJ')\n",
"\n",
"disp('Effectiveness=')\n",
"Effectiveness=AE/Availability;\n",
"disp(Effectiveness)"
   ]
   }
,
{
		   "cell_type": "markdown",
		   "metadata": {},
		   "source": [
			"## Example 6.9: 9.sce"
		   ]
		  },
  {
"cell_type": "code",
	   "execution_count": null,
	   "metadata": {
	    "collapsed": true
	   },
	   "outputs": [],
"source": [
"clc\n",
"R=0.287; //kJ/kgK\n",
"cp=1.005; //kJ/kgK\n",
"m=25/60; //kg/s\n",
"p1=1; //bar\n",
"p2=2; //bar\n",
"T1=288; //K\n",
"T0=T1;\n",
"T2=373; //K\n",
"\n",
"W_act=cp*(T2-T1); //W_actual\n",
"W_total= m*W_act;\n",
"\n",
"disp('Total actual power required =')\n",
"disp(W_total)\n",
"disp('kW')\n",
"\n",
"ds=cp*log(T2/T1) - R*log(p2/p1);\n",
"Wmin=cp*(T2-T1) - T0*(ds);\n",
"\n",
"disp('Minimuumm work required = ')\n",
"W=m*Wmin;\n",
"disp(W)\n",
"disp('kW')"
   ]
   }
],
"metadata": {
		  "kernelspec": {
		   "display_name": "Scilab",
		   "language": "scilab",
		   "name": "scilab"
		  },
		  "language_info": {
		   "file_extension": ".sce",
		   "help_links": [
			{
			 "text": "MetaKernel Magics",
			 "url": "https://github.com/calysto/metakernel/blob/master/metakernel/magics/README.md"
			}
		   ],
		   "mimetype": "text/x-octave",
		   "name": "scilab",
		   "version": "0.7.1"
		  }
		 },
		 "nbformat": 4,
		 "nbformat_minor": 0
}
