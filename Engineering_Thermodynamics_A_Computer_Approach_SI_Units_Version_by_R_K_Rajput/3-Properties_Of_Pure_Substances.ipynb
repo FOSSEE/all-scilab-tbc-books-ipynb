{
"cells": [
 {
		   "cell_type": "markdown",
	   "metadata": {},
	   "source": [
       "# Chapter 3: Properties Of Pure Substances"
	   ]
	},
{
		   "cell_type": "markdown",
		   "metadata": {},
		   "source": [
			"## Example 3.10: 10.sce"
		   ]
		  },
  {
"cell_type": "code",
	   "execution_count": null,
	   "metadata": {
	    "collapsed": true
	   },
	   "outputs": [],
"source": [
"clc\n",
"V=0.9; //m^3\n",
"p1=8; //bar\n",
"x1=0.9;\n",
"p2=4; //bar\n",
"p3=3; //bar\n",
"v_g1=0.24; //m^3/kg\n",
"\n",
"disp('(i) The mass of steam blown off :')\n",
"m1=V/x1/v_g1;\n",
"h_f1=720.9; //kJ/kg\n",
"h_fg1=2046.5; //kJ/kg\n",
"h_f2=604.7; //kJ/kg\n",
"h_fg2=2133; //kJ/kg\n",
"v_g2=0.462; //m^3/kg\n",
"\n",
"h1=h_f1+x1*h_fg1; //The enthalpy of steam before blowing off\n",
"\n",
"h2=h1;\n",
"x2=(h1-h_f2)/h_fg2;\n",
"m2=x1/(x2*v_g2);\n",
"\n",
"disp('Mass of steam blown off =')\n",
"m=m1-m2;\n",
"disp(m)\n",
"disp('kg')\n",
"\n",
"disp('(ii) Dryness fraction of steam in the vessel after cooling')\n",
"v_g3=0.606; //m^3/kg\n",
"x3=x2*v_g2/v_g3;\n",
"disp('dryness fraction =')\n",
"disp(x3)\n",
"\n",
"\n",
"disp('(iii) Heat lost during cooling')\n",
"h_f3=561.4; //kJ/kg\n",
"h_fg3=2163.2; //kJ/kg\n",
"h3=h_f3+x3*h_fg3;\n",
"u2=h2-p2*x2*v_g2*10^2; //kJ/kg\n",
"u3=h3-p3*x3*v_g3*10^2; //kJ/kg\n",
"Q=m*(u3-u2);\n",
"disp('Heat lost during cooling=')\n",
"disp(-Q)\n",
"disp('kJ')"
   ]
   }
,
{
		   "cell_type": "markdown",
		   "metadata": {},
		   "source": [
			"## Example 3.11: 11.sce"
		   ]
		  },
  {
"cell_type": "code",
	   "execution_count": null,
	   "metadata": {
	    "collapsed": true
	   },
	   "outputs": [],
"source": [
"clc\n",
"p=8*10^5; //Pa\n",
"x=0.8; \n",
"\n",
"v_g=0.240; //m^3/kg\n",
"h_fg=2046.5; //kJ/kg\n",
"\n",
"disp('(i) External work done during evaporation')\n",
"W=p*x*v_g/10^3; //kJ\n",
"disp('W=')\n",
"disp(W)\n",
"disp('kJ')\n",
"\n",
"disp('(ii) Internal latent heat')\n",
"Q=x*h_fg-W;\n",
"disp('Q=')\n",
"disp(Q)\n",
"disp('kJ')"
   ]
   }
,
{
		   "cell_type": "markdown",
		   "metadata": {},
		   "source": [
			"## Example 3.1: 1.sce"
		   ]
		  },
  {
"cell_type": "code",
	   "execution_count": null,
	   "metadata": {
	    "collapsed": true
	   },
	   "outputs": [],
"source": [
"clc\n",
"m_s=50; //kg\n",
"m_w=1.5; //kg\n",
"x=m_s/(m_s+m_w);\n",
"disp('dryness fraction=')\n",
"disp(x)"
   ]
   }
,
{
		   "cell_type": "markdown",
		   "metadata": {},
		   "source": [
			"## Example 3.12: 12.sce"
		   ]
		  },
  {
"cell_type": "code",
	   "execution_count": null,
	   "metadata": {
	    "collapsed": true
	   },
	   "outputs": [],
"source": [
"clc\n",
"p1=10; //bar\n",
"p2=10; //bar\n",
"x1=0.85;\n",
"V1=0.15; //m^3\n",
"t_sup2=300; //0C\n",
"t_sup1=179.9; //0C\n",
"c_ps=2.2; //kJ/kg.K\n",
"v_g1=0.194; //m^3/kg\n",
"m=V1/(x1*v_g1);\n",
"h_fg1=2013.6; //kJ/kg\n",
"Q=(1-x1)*h_fg1+c_ps*(t_sup2-t_sup1);\n",
"Q_total=m*Q;\n",
"\n",
"disp('Total heat supplied=')\n",
"disp(Q_total)\n",
"disp('kJ')\n",
"\n",
"v_sup2=v_g1*(t_sup2+273)/(t_sup1+273)\n",
"W=p1*(v_sup2 - (x1*v_g1))*10^2;\n",
"Percentage=W/Q*100;\n",
"\n",
"disp('Percentage of total heat supplied=')\n",
"disp(Percentage)\n",
"disp('%')"
   ]
   }
,
{
		   "cell_type": "markdown",
		   "metadata": {},
		   "source": [
			"## Example 3.13: 13.sce"
		   ]
		  },
  {
"cell_type": "code",
	   "execution_count": null,
	   "metadata": {
	    "collapsed": true
	   },
	   "outputs": [],
"source": [
"clc\n",
"p=18; //bar\n",
"x=0.85;\n",
"h_f=884.6; //kJ/kg\n",
"h_fg=1910.3; //kJ/kg\n",
"v_g=0.110; //m^3/kg\n",
"u_f=883; //kJ/kg\n",
"u_g=2598; //kJ/kg\n",
"v=x*v_g;\n",
"disp('Specific volume of wet steam=')\n",
"disp(v)\n",
"disp('m^3/kg')\n",
"\n",
"h=h_f+x*h_fg;\n",
"disp('Specific enthalpy of wet steam=')\n",
"disp(h)\n",
"disp('kJ/kg')\n",
"u=(1-x)*u_f+ x*u_g;\n",
"disp('Specific internal energy of wet steam =')\n",
"disp(u)\n",
"disp('kJ/kg')"
   ]
   }
,
{
		   "cell_type": "markdown",
		   "metadata": {},
		   "source": [
			"## Example 3.14: 14.sce"
		   ]
		  },
  {
"cell_type": "code",
	   "execution_count": null,
	   "metadata": {
	    "collapsed": true
	   },
	   "outputs": [],
"source": [
"clc\n",
"p=7; //bar\n",
"h=2550; //kJ/kg\n",
"h_f=697.1; //kJ/kg\n",
"h_fg=2064.9; //kJ/kg\n",
"v_g=0.273; //m^3/kg\n",
"u_f=696; //kJ/kg\n",
"u_g=2573; //kJ/kg\n",
"x=(h-h_f)/h_fg;\n",
"disp('(i) Dryness fraction=')\n",
"disp(x)\n",
"\n",
"v=x*v_g;\n",
"disp('(ii) Specific volume of wet steam =')\n",
"disp(v)\n",
"disp('m^3/kg')\n",
"\n",
"u=(1-x)*u_f+ x*u_g;\n",
"disp('(iii) Specific internal energy of wet steam=')\n",
"disp(u)\n",
"disp('kJ/kg')"
   ]
   }
,
{
		   "cell_type": "markdown",
		   "metadata": {},
		   "source": [
			"## Example 3.15: 15.sce"
		   ]
		  },
  {
"cell_type": "code",
	   "execution_count": null,
	   "metadata": {
	    "collapsed": true
	   },
	   "outputs": [],
"source": [
"clc\n",
"p=120; //bar\n",
"v=0.01721; //m^3/kg\n",
"\n",
"T=350; //°C\n",
"disp('Temperature=')\n",
"disp(T)\n",
"disp('°C')\n",
"\n",
"h=2847.7; //kJ/kg\n",
"disp('specific enthalpy=')\n",
"disp(h)\n",
"disp('kJ/kg')\n",
"\n",
"u=h-p*v*10^2; //kJ/kg\n",
"disp('Internal energy=')\n",
"disp(u)\n",
"disp('kJ/kg')"
   ]
   }
,
{
		   "cell_type": "markdown",
		   "metadata": {},
		   "source": [
			"## Example 3.16: 16.sce"
		   ]
		  },
  {
"cell_type": "code",
	   "execution_count": null,
	   "metadata": {
	    "collapsed": true
	   },
	   "outputs": [],
"source": [
"clc\n",
"p=140; //bar\n",
"h=3001.9; //kJ/kg\n",
"\n",
"T=400; //0C\n",
"disp('Temperature=')\n",
"disp(T)\n",
"disp('°C')\n",
"\n",
"v=0.01722; //m^3/kg\n",
"disp('The specific volume')\n",
"disp(v)\n",
"disp('m^3/kg')\n",
"\n",
"u=h-p*v*10^2;\n",
"disp('specific internal energy=')\n",
"disp(u)\n",
"disp('kJ/kg')"
   ]
   }
,
{
		   "cell_type": "markdown",
		   "metadata": {},
		   "source": [
			"## Example 3.17: 17.sce"
		   ]
		  },
  {
"cell_type": "code",
	   "execution_count": null,
	   "metadata": {
	    "collapsed": true
	   },
	   "outputs": [],
"source": [
"clc\n",
"// At 10 bar: From steam table for superheated steam\n",
"h_sup=3051.2; //kJ/kg\n",
"T_sup=573; //K\n",
"T_s=452.9; //K\n",
"v_g=0.194; //m^3/kg\n",
"v_sup=v_g*T_sup/T_s;\n",
"p=10; //bar\n",
"\n",
"u1=h_sup-p*v_sup*10^2; //kJ/kg\n",
"disp('Internal energy of superheated steam at 10 bar= ')\n",
"disp(u1)\n",
"disp('kJ/kg')\n",
"\n",
"// At 1.4 bar: From steam tables\n",
"p=1.4; //bar\n",
"h_f=458.4; //kJ/kg\n",
"h_fg=2231.9; //kJ/kg\n",
"v_g=1.236; //m^3/kg\n",
"x=0.8;\n",
"h=h_f+x*h_fg;\n",
"u2=h-p*x*v_g*10^2; //kJ\n",
"du=u2-u1;\n",
"disp('Change in internal energy=')\n",
"disp(du)\n",
"disp('kJ')"
   ]
   }
,
{
		   "cell_type": "markdown",
		   "metadata": {},
		   "source": [
			"## Example 3.18: 18.sce"
		   ]
		  },
  {
"cell_type": "code",
	   "execution_count": null,
	   "metadata": {
	    "collapsed": true
	   },
	   "outputs": [],
"source": [
"clc\n",
"m=1; //kg\n",
"p=20; //bar\n",
"T_sup=400; //0C\n",
"x=0.9;\n",
"c_ps=2.3; //kJ/kg.K\n",
"\n",
"disp('(i) Internal energy of 1 kg of superheated steam')\n",
"// At 20 bar: From steam tables\n",
"T_s=212.4; //0C\n",
"h_f=908.6; //kJ/kg\n",
"h_fg=1888.6; //kJ/kg\n",
"v_g=0.0995; //m^3/kg\n",
"h_sup = h_f+h_fg+c_ps*(T_sup-T_s);\n",
"v_sup=v_g*(T_sup+273)/(T_s+273);\n",
"u=h_sup-p*v_sup*10^2;\n",
"disp('Internal energy=')\n",
"disp(u)\n",
"disp('kJ/kg')\n",
"\n",
"disp('(ii) Internal energy of 1 kg of wet steam')\n",
"h=h_f+x*h_fg;\n",
"u=h-p*x*v_g*10^2;\n",
"disp('Internal energy=')\n",
"disp(u)\n",
"disp('kJ/kg')"
   ]
   }
,
{
		   "cell_type": "markdown",
		   "metadata": {},
		   "source": [
			"## Example 3.19: 19.sce"
		   ]
		  },
  {
"cell_type": "code",
	   "execution_count": null,
	   "metadata": {
	    "collapsed": true
	   },
	   "outputs": [],
"source": [
"clc\n",
"h_g1=2797.2; //kJ/kg\n",
"c_ps= 2.25;\n",
"T_sup=350; //0C\n",
"T_s=212.4; //0C\n",
"h1=h_g1+c_ps*(T_sup-T_s);\n",
"h_f2=908.6; //kJ/kg\n",
"h_fg2=1888.6; //kJ/kg\n",
"\n",
"// Main:20 bar, 250 0C\n",
"T_sup=250; //0C\n",
"Q=2*[h_g1+c_ps*(T_sup-T_s)];\n",
"x2=(Q-h1-h_f2)/h_fg2;\n",
"disp('Quality of steam')\n",
"disp(x2)"
   ]
   }
,
{
		   "cell_type": "markdown",
		   "metadata": {},
		   "source": [
			"## Example 3.20: 20.sce"
		   ]
		  },
  {
"cell_type": "code",
	   "execution_count": null,
	   "metadata": {
	    "collapsed": true
	   },
	   "outputs": [],
"source": [
"clc\n",
"m=1; //kg\n",
"p=6; //bar\n",
"x=0.8;\n",
"T_s=473; //K\n",
"h_fg=2085; //kJ/kg\n",
"c_pw=4.18;\n",
"s_wet=c_pw*log(T_s/273)+x*h_fg/T_s;\n",
"disp('Entropy of wet steam=')\n",
"disp(s_wet)\n",
"disp('kJ/kg.K')"
   ]
   }
,
{
		   "cell_type": "markdown",
		   "metadata": {},
		   "source": [
			"## Example 3.21: 21.sce"
		   ]
		  },
  {
"cell_type": "code",
	   "execution_count": null,
	   "metadata": {
	    "collapsed": true
	   },
	   "outputs": [],
"source": [
"clc\n",
"p1=10; //bar\n",
"t_sup=400; //0C\n",
"p2=0.2; //bar\n",
"x2=0.9;\n",
"h_sup=3263.9; //kJ/kg\n",
"s_sup=7.465;  //kJ/kg\n",
"h1=3263.9; //kJ/kg\n",
"s1=s_sup;\n",
"h_f2=251.5; //kJ/kg\n",
"h_fg2=2358.4; //kJ/kg\n",
"s_f2=0.8321; //kJ/kg.K\n",
"s_g2=7.9094; //kJ/kg.K\n",
"s_fg2=s_g2-s_f2;\n",
"h2=h_f2+x2*h_fg2;\n",
"s2=s_f2+x2*s_fg2;\n",
"\n",
"disp('(i) Drop in enthalpy')\n",
"dh=h1-h2;\n",
"disp('Drop in enthalpy = ')\n",
"disp(dh)\n",
"disp('kJ/kg')\n",
"\n",
"\n",
"disp('(ii) Change in entropy')\n",
"ds=s1-s2;\n",
"disp('Change in entropy = ')\n",
"disp(ds)\n",
"disp('kJ/kg.K')"
   ]
   }
,
{
		   "cell_type": "markdown",
		   "metadata": {},
		   "source": [
			"## Example 3.22: 22.sce"
		   ]
		  },
  {
"cell_type": "code",
	   "execution_count": null,
	   "metadata": {
	    "collapsed": true
	   },
	   "outputs": [],
"source": [
"clc\n",
"m=1; //kg\n",
"p=12; //bar\n",
"T_sup=523; //K\n",
"c_ps=2.1; //kJ/kg.K\n",
"T_s=461; //K\n",
"h_fg=1984.3; //kJ/kg\n",
"c_pw=4.18;\n",
"s_sup=c_pw*log(T_s/273)+h_fg/T_s+c_ps*log(T_sup/T_s);\n",
"disp('Entropy =')\n",
"disp(s_sup)\n",
"disp('kJ/kg.K')"
   ]
   }
,
{
		   "cell_type": "markdown",
		   "metadata": {},
		   "source": [
			"## Example 3.2: 2.sce"
		   ]
		  },
  {
"cell_type": "code",
	   "execution_count": null,
	   "metadata": {
	    "collapsed": true
	   },
	   "outputs": [],
"source": [
"clc\n",
"V=0.6; //m^3\n",
"m=3.0; //kg\n",
"p=5; //bar\n",
"v=V/m;\n",
"// At 5 bar: From steam tables\n",
"v_g=0.375; //m^3/kg\n",
"v_f=0.00109; //m^3/kg\n",
"v_fg=v_g - v_f;\n",
"x=1-((v_g - v)/v_fg);\n",
"\n",
"disp('(i) Mass and volume of liquid')\n",
"m_liq=m*(1-x);\n",
"disp('mass of liquid=')\n",
"disp(m_liq)\n",
"disp('kg')\n",
"V_liq=m_liq*v_f;\n",
"disp('volume of liquid=')\n",
"disp(V_liq)\n",
"disp('m^3')\n",
"\n",
"disp('(ii) Mass and volume of vapour')\n",
"m_vap=m*x;\n",
"disp('mass of vapour=')\n",
"disp(m_vap)\n",
"disp('kg')\n",
"V_vap=m_vap*v_g;\n",
"disp('volume of vapour=')\n",
"disp(V_vap)\n",
"disp('m^3')"
   ]
   }
,
{
		   "cell_type": "markdown",
		   "metadata": {},
		   "source": [
			"## Example 3.23: 23.sce"
		   ]
		  },
  {
"cell_type": "code",
	   "execution_count": null,
	   "metadata": {
	    "collapsed": true
	   },
	   "outputs": [],
"source": [
"clc\n",
"m=3; //kg\n",
"v1=0.75; //m^3/kg\n",
"v2=1.2363; //m^3/kg\n",
"x=v1/v2;\n",
"h_f=458.4; //kJ/kg\n",
"h_fg=2231.9; //kJ/kg\n",
"h_s=m*[h_f+x*h_fg]; //kJ\n",
"v_sup=1.55; //m^3/kg\n",
"p=2; //bar\n",
"t_s=120.2; //0C\n",
"t_sup=400; //0C\n",
"h=3276.6; //kJ/kg\n",
"U=1708; //kJ/kg\n",
"Degree=t_sup-t_s;\n",
"h_sup=m*h;\n",
"\n",
"Q_added=h_sup - h_s;\n",
"disp('Heat added =')\n",
"disp(Q_added)\n",
"disp('kJ')\n",
"\n",
"U_s=m*U;\n",
"U_sup=m*(h-p*v_sup*10^2);\n",
"dU= U_sup - U_s;\n",
"W=Q_added - dU;\n",
"disp('work done = ')\n",
"disp(W)\n",
"disp('kJ')"
   ]
   }
,
{
		   "cell_type": "markdown",
		   "metadata": {},
		   "source": [
			"## Example 3.24: 24.sce"
		   ]
		  },
  {
"cell_type": "code",
	   "execution_count": null,
	   "metadata": {
	    "collapsed": true
	   },
	   "outputs": [],
"source": [
"clc\n",
"p=5; //bar\n",
"m=50; //kg\n",
"T1=20; //0C\n",
"m_s=3; //kg\n",
"T2=40; //0C\n",
"m_eq=1.5; //kg\n",
"h_f=640.1; //kJ/kg\n",
"h_fg=2107.4; //kJ/kg\n",
"c_pw=4.18;\n",
"m_w=m+m_eq;\n",
"x=[(m_w*c_pw*(T2-T1))/m_s + c_pw*T2 - h_f]/h_fg;\n",
"disp('Dryness fraction of steam')\n",
"disp(x)"
   ]
   }
,
{
		   "cell_type": "markdown",
		   "metadata": {},
		   "source": [
			"## Example 3.25: 25.sce"
		   ]
		  },
  {
"cell_type": "code",
	   "execution_count": null,
	   "metadata": {
	    "collapsed": true
	   },
	   "outputs": [],
"source": [
"clc\n",
"p=1.1; //bar\n",
"x=0.95;\n",
"c_pw=4.18;\n",
"m1=90; //kg\n",
"m2=5.25; //kg\n",
"T1=25; //0C\n",
"T2=40; //0C\n",
"m=m1+m2;\n",
"h_f=428.8; //kJ/kg\n",
"h_fg= 2250.8; //kJ/kg\n",
"m_s= [m*c_pw*(T2-T1)]/[(h_f + x*h_fg) - c_pw*T2];\n",
"disp('Mass of steam condensed=')\n",
"disp(m_s)\n",
"disp('kg')"
   ]
   }
,
{
		   "cell_type": "markdown",
		   "metadata": {},
		   "source": [
			"## Example 3.26: 26.sce"
		   ]
		  },
  {
"cell_type": "code",
	   "execution_count": null,
	   "metadata": {
	    "collapsed": true
	   },
	   "outputs": [],
"source": [
"clc\n",
"p1=8; //bar\n",
"p2=1; //bar\n",
"T_sup2=115; //0C\n",
"T_s2=99.6; //0C\n",
"h_f1=720.9; //kJ/kg\n",
"h_fg1=2046.5; //kJ/kg\n",
"h_f2=417.5; //kJ/kg\n",
"h_fg2=2257.9; //kJ/kg\n",
"c_ps=2.1;\n",
"x1=[h_f2+h_fg2+c_ps*(T_sup2-T_s2)-h_f1]/h_fg1;\n",
"disp('Dryness fraction of the steam in the main = ')\n",
"disp(x1)"
   ]
   }
,
{
		   "cell_type": "markdown",
		   "metadata": {},
		   "source": [
			"## Example 3.27: 27.sce"
		   ]
		  },
  {
"cell_type": "code",
	   "execution_count": null,
	   "metadata": {
	    "collapsed": true
	   },
	   "outputs": [],
"source": [
"clc\n",
"m_w=2; //kg\n",
"m_s=20.5; //kg\n",
"t_sup=110; //0C\n",
"p1=12; //bar\n",
"p3=1; //bar\n",
"p2=p1;\n",
"h_f2=798.4; //kJ/kg\n",
"h_fg2=1984.3; //kJ/kg\n",
"T_s=99.6; //0C\n",
"h_f3=417.5; //kJ/kg\n",
"h_fg3=2257.9; //kJ/kg\n",
"T_sup=110; //0C\n",
"c_ps=2; //kJ/kg.K\n",
"x2=[h_f3+h_fg3 + c_ps*(T_sup-T_s) - h_f2]/h_fg2;\n",
"x1=x2*m_s/(m_w+m_s);\n",
"disp('Quality of steam supplied = ')\n",
"disp(x1)"
   ]
   }
,
{
		   "cell_type": "markdown",
		   "metadata": {},
		   "source": [
			"## Example 3.28: 28.sce"
		   ]
		  },
  {
"cell_type": "code",
	   "execution_count": null,
	   "metadata": {
	    "collapsed": true
	   },
	   "outputs": [],
"source": [
"clc\n",
"p1=15; //bar\n",
"p2=p1;\n",
"p3=1; //bar\n",
"t_sup3=150; //0C\n",
"m_w=0.5; //kg/min\n",
"m_s=10; //kg/min\n",
"h_f2=844.7; //kJ/kg\n",
"h_fg2=1945.2; //kJ/kg\n",
"h_sup3=2776.4; //kJ/kg\n",
"x2=(h_sup3 - h_f2)/h_fg2;\n",
"x1=x2*m_s/(m_s + m_w);\n",
"disp('Quality of steam supplied = ')\n",
"disp(x1)"
   ]
   }
,
{
		   "cell_type": "markdown",
		   "metadata": {},
		   "source": [
			"## Example 3.3: 3.sce"
		   ]
		  },
  {
"cell_type": "code",
	   "execution_count": null,
	   "metadata": {
	    "collapsed": true
	   },
	   "outputs": [],
"source": [
"clc\n",
"V=0.05; //m^3\n",
"m_f=10; //kg\n",
"// From steam tables corresponding to 245 0C\n",
"p_sat=36.5; //bar\n",
"v_f=0.001239; //m^3/kg\n",
"v_g=0.0546; //m^3/kg\n",
"h_f=1061.4; //kJ/kg\n",
"h_fg=1740.2; //kJ/kg\n",
"s_f=2.7474; //kJ/kg.K\n",
"s_fg=3.3585; //kJ/kg.K\n",
"\n",
"disp('(i) The pressure=')\n",
"disp(p_sat)\n",
"disp('bar')\n",
"\n",
"disp('(ii) The mass')\n",
"V_f=m_f*v_f;\n",
"V_g=V - V_f;\n",
"m_g=V_g/v_g;\n",
"m=m_f+m_g;\n",
"disp('The total mass of mixture=')\n",
"disp(m)\n",
"disp('kg')\n",
"\n",
"disp('(iii) The specific volume')\n",
"v_fg=v_g-v_f;\n",
"x= m_g/(m_g+ m_f);\n",
"v=v_f+x*v_fg;\n",
"disp('specific volume=')\n",
"disp(v)\n",
"disp('m^3/kg')\n",
"\n",
"disp('(iv)The specific enthalpy')\n",
"h=h_f+x*h_fg;\n",
"disp('specific enthalpy=')\n",
"disp(h)\n",
"disp('kJ/kg')\n",
"\n",
"disp('(v)The specific entropy')\n",
"s=s_f+x*s_fg;\n",
"disp('specific entropy =')\n",
"disp(s)\n",
"disp('kJ/kg.K')\n",
"\n",
"disp('(vi)The specific internal enegy')\n",
"u=h-(p_sat*v*10^2); //kJ/kg\n",
"disp('specific internal energy=')\n",
"disp(u)\n",
"disp('kJ/kg')"
   ]
   }
,
{
		   "cell_type": "markdown",
		   "metadata": {},
		   "source": [
			"## Example 3.4: 4.sce"
		   ]
		  },
  {
"cell_type": "code",
	   "execution_count": null,
	   "metadata": {
	    "collapsed": true
	   },
	   "outputs": [],
"source": [
"clc\n",
"m_w=2; //kg\n",
"t_w=25; //0C\n",
"p=5; //bar\n",
"x=0.9;\n",
"c_pw=4.18;\n",
"// at 5 bar; from steam tables\n",
"h_f=640.1; //kJ/kg\n",
"h_fg=2107.4; //kJ/kg\n",
"h=h_f+x*h_fg;\n",
"disp('Sensible heat associated with 1kg of water, Qw=')\n",
"Qw=c_pw*(t_w-0);\n",
"disp(Qw)\n",
"disp('kJ')\n",
"disp('Net quantity of heat to be supplies per kg of water, Q=')\n",
"Q=h-Qw;\n",
"disp(Q)\n",
"disp('kJ')\n",
"\n",
"disp('Total amount of heat supplied, Q_total=')\n",
"Q_total=m_w*Q;\n",
"disp(Q_total)\n",
"disp('kJ')"
   ]
   }
,
{
		   "cell_type": "markdown",
		   "metadata": {},
		   "source": [
			"## Example 3.5: 5.sce"
		   ]
		  },
  {
"cell_type": "code",
	   "execution_count": null,
	   "metadata": {
	    "collapsed": true
	   },
	   "outputs": [],
"source": [
"clc\n",
"m=4.4; //kg\n",
"p=6; //bar\n",
"t_sup=250; //0C\n",
"t_w= 30; //0C\n",
"c_ps=2.2; //kJ/kg\n",
"c_pw=4.18;\n",
"// At 6 bar, 250 0C; From steam tables\n",
"t_s=158.8; //0C\n",
"h_f=670.4; //kJ/kg\n",
"h_fg=2085; //kJ/kg\n",
"h_sup=h_f+h_fg+ c_ps*(t_sup-t_s);\n",
"\n",
"disp('Amount of heat added per kg of water, Qw=')\n",
"Qw=c_pw*(t_w-0);\n",
"disp(Qw)\n",
"\n",
"disp('Net amount of heat required to be supplied per kg, Q=')\n",
"Q=h_sup-Qw;\n",
"disp(Q)\n",
"\n",
"disp('Total amount of heat required, Q_total=')\n",
"Q_total=m*Q;\n",
"disp(Q_total)\n",
"disp('kJ')"
   ]
   }
,
{
		   "cell_type": "markdown",
		   "metadata": {},
		   "source": [
			"## Example 3.6: 6.sce"
		   ]
		  },
  {
"cell_type": "code",
	   "execution_count": null,
	   "metadata": {
	    "collapsed": true
	   },
	   "outputs": [],
"source": [
"clc\n",
"v=0.15; //m^3\n",
"p=4; //bar\n",
"x=0.8;\n",
"// At 4 bar: From steam tables\n",
"v_g=0.462; //m^3/kg\n",
"h_f= 604.7; //kJ/kg\n",
"h_fg=2133; //kJ/kg\n",
"density=1/x/v_g;\n",
"disp('mass of 0.15 m^3 steam, m=')\n",
"m=v*density;\n",
"disp(m)\n",
"disp('kg')\n",
"\n",
"disp('Total heat of 1 m3 of steam which has a mass of 2.7056 kg, Q=')\n",
"Q=density*(h_f+x*h_fg);\n",
"disp(Q)\n",
"disp('kJ')"
   ]
   }
,
{
		   "cell_type": "markdown",
		   "metadata": {},
		   "source": [
			"## Example 3.7: 7.sce"
		   ]
		  },
  {
"cell_type": "code",
	   "execution_count": null,
	   "metadata": {
	    "collapsed": true
	   },
	   "outputs": [],
"source": [
"clc\n",
"m=1000; //kJ/kg.K\n",
"p=16; //bar\n",
"x=0.9;\n",
"T_sup=653; //K\n",
"T_w=30; //0C\n",
"c_ps=2.2; //kJ/kg\n",
"c_pw=4.18;\n",
"// At 16 bar:From steam tables\n",
"T_s=474.4; //K\n",
"h_f=858.6; //kJ/kg\n",
"h_fg=1933.2; //kJ/kg\n",
"\n",
"disp('(i) Heat supplied to feed water per hour to produce wet steam is given by')\n",
"H=m*[(h_f+x*h_fg)-c_pw*(T_w-0)];\n",
"disp(H)\n",
"disp('kJ')\n",
"\n",
"disp('(ii) Heat absorbed by superheater per hour, Q=')\n",
"Q=m*[(1-x)*h_fg+c_ps*(T_sup-T_s)];\n",
"disp(Q)\n",
"disp('kJ')"
   ]
   }
,
{
		   "cell_type": "markdown",
		   "metadata": {},
		   "source": [
			"## Example 3.8: 8.sce"
		   ]
		  },
  {
"cell_type": "code",
	   "execution_count": null,
	   "metadata": {
	    "collapsed": true
	   },
	   "outputs": [],
"source": [
"clc\n",
"\n",
"disp('(i) at 0.75 bar, between 100°C and 150°C')\n",
"// At 100 °C\n",
"T1=100; //°C\n",
"h_sup1=2679.4; //kJ/kg\n",
"// At 150 °C\n",
"T2=150; //°C\n",
"h_sup2=2778.2; //kJ/kg\n",
"\n",
"c_ps=(h_sup2-h_sup1)/(T2-T1);\n",
"disp('mean specific heat=')\n",
"disp(c_ps)\n",
"\n",
"disp('(ii) at 0.5 bar, between 300°C and 400°C')\n",
"T1=300; //°C\n",
"h_sup1=3075.5; //kJ/kg\n",
"T2=400; //°C\n",
"h_sup2=3278.9; //kJ/kg\n",
"\n",
"c_ps=(h_sup2-h_sup1)/(T2-T1);\n",
"disp('mean specific heat c_ps=')\n",
"disp(c_ps)"
   ]
   }
,
{
		   "cell_type": "markdown",
		   "metadata": {},
		   "source": [
			"## Example 3.9: 9.sce"
		   ]
		  },
  {
"cell_type": "code",
	   "execution_count": null,
	   "metadata": {
	    "collapsed": true
	   },
	   "outputs": [],
"source": [
"clc\n",
"m=1.5; //kg\n",
"p=5; //bar\n",
"x1=1;\n",
"x2=0.6;\n",
"p1=5*10^5; //N/m\n",
"// At 5 bar: From steam tables\n",
"t_s=151.8; //0C\n",
"h_f=640.1; //kJ/kg\n",
"h_fg=2107.4; //kJ/kg\n",
"v_g=0.375; //m^3/kg\n",
"v_g1=0.375*10^(-3);\n",
"h1=h_f+h_fg;\n",
"V=m*v_g;\n",
"u1=h1-p1*v_g1;\n",
"v_g2=V/m/x2; //m^3/kg\n",
"\n",
"// From steam table corresponding to 0.625 m^3/kg\n",
"p2=2.9; //bar\n",
"disp('Pressure at new state =')\n",
"disp(p2)\n",
"disp('bar')\n",
"\n",
"t_s=132.4; //0C\n",
"disp('Temperature at new state =')\n",
"disp(t_s)\n",
"disp('°C')\n",
"h_f2=556.5; //kJ/kg\n",
"h_fg2=2166.6; //kJ/kg\n",
"u2=(h_f2+x2*h_fg2)-p2*x2*v_g2*10^2;\n",
"\n",
"Q=u2-u1; //heat transferred at constant volume per kg\n",
"\n",
"disp('Total heat transfered,Q_total=')\n",
"Q_total=m*Q;\n",
"disp(Q_total)\n",
"disp('kJ')"
   ]
   }
],
"metadata": {
		  "kernelspec": {
		   "display_name": "Scilab",
		   "language": "scilab",
		   "name": "scilab"
		  },
		  "language_info": {
		   "file_extension": ".sce",
		   "help_links": [
			{
			 "text": "MetaKernel Magics",
			 "url": "https://github.com/calysto/metakernel/blob/master/metakernel/magics/README.md"
			}
		   ],
		   "mimetype": "text/x-octave",
		   "name": "scilab",
		   "version": "0.7.1"
		  }
		 },
		 "nbformat": 4,
		 "nbformat_minor": 0
}
