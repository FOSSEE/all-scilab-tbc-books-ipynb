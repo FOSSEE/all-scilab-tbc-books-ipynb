{
"cells": [
 {
		   "cell_type": "markdown",
	   "metadata": {},
	   "source": [
       "# Chapter 13: Gas Power Cycles"
	   ]
	},
{
		   "cell_type": "markdown",
		   "metadata": {},
		   "source": [
			"## Example 13.10: 10.sce"
		   ]
		  },
  {
"cell_type": "code",
	   "execution_count": null,
	   "metadata": {
	    "collapsed": true
	   },
	   "outputs": [],
"source": [
"clc\n",
"r=6; //v1/v2=v4/v3=r\n",
"p1=1; //bar\n",
"T1=300; //K\n",
"T3=1842; //K\n",
"y=1.4;\n",
"\n",
"disp('(i) Temperature and pressure after the isentropic expansion')\n",
"p2=p1*(r)^y;\n",
"T2=T1*r^(y-1);\n",
"p3=p2*(T3/T2);\n",
"\n",
"T4=T3/r^(y-1);\n",
"disp('T4=')\n",
"disp(T4)\n",
"disp('K')\n",
"\n",
"p4=p3/(r)^(y);\n",
"disp('p4 =')\n",
"disp(p4)\n",
"disp('bar')\n",
"\n",
"disp('(ii) Process required to complete the cycle')\n",
"\n",
"disp('Process required to complete the cycle is the constant pressure scavenging. The cycle is called Atkinson cycle')\n",
"\n",
"disp('(iii) Percentage improvement/increase in efficiency')\n",
"p5=1; //bar\n",
"T5=T3*(p5/p3)^((y-1)/y);\n",
"\n",
"n_otto=(1-1/r^(y-1))*100;\n",
"disp('n_otto = ')\n",
"disp(n_otto)\n",
"disp('%')\n",
"\n",
"n_atkinson=(1-y*(T5-T1)/(T3-T2))*100;\n",
"disp('n_atkinson=')\n",
"disp(n_atkinson)\n",
"disp('%')\n",
"\n",
"dn=n_atkinson - n_otto; //Improvement in efficiency\n",
"disp('Improvement in efficiency =')\n",
"disp(dn)\n",
"disp('%')"
   ]
   }
,
{
		   "cell_type": "markdown",
		   "metadata": {},
		   "source": [
			"## Example 13.11: 11.sce"
		   ]
		  },
  {
"cell_type": "code",
	   "execution_count": null,
	   "metadata": {
	    "collapsed": true
	   },
	   "outputs": [],
"source": [
"clc\n",
"p1=1; //bar\n",
"T1=343; //K\n",
"p2=7; //bar\n",
"Qs=465; //kJ/kg of air\n",
"cp=1; //kJ/kg K\n",
"cv=0.706; //kJ/kg K\n",
"y=1.41;\n",
"\n",
"disp('(i) Compression ratio of engine =')\n",
"r=(p2/p1)^(1/y);\n",
"disp(r)\n",
"\n",
"\n",
"disp('(ii) Temperature at the end of compression =')\n",
"T2=T1*(r)^(y-1);\n",
"t2=T2-273;\n",
"disp(t2)\n",
"disp('0C')\n",
"\n",
"disp('(iii) Temperature at the end of heat addition =')\n",
"T3=Qs/cv+T2;\n",
"t3=T3-273;\n",
"disp(t3)\n",
"disp('0C')"
   ]
   }
,
{
		   "cell_type": "markdown",
		   "metadata": {},
		   "source": [
			"## Example 13.1: 1.sce"
		   ]
		  },
  {
"cell_type": "code",
	   "execution_count": null,
	   "metadata": {
	    "collapsed": true
	   },
	   "outputs": [],
"source": [
"clc\n",
"T1=671; //K\n",
"T2=T1;\n",
"T3=313; //K\n",
"T4=T3;\n",
"W=130; //kJ\n",
"\n",
"disp('(i) Engine thermal efficiency =')\n",
"n_th=(T2-T3)/T2;\n",
"disp(n_th)\n",
"\n",
"\n",
"disp('(ii) Heat added =')\n",
"Q=W/n_th;\n",
"disp(Q)\n",
"disp('kJ')\n",
"\n",
"\n",
"disp('(iii) The entropy changes during heat rejection process')\n",
"Q_rejected=Q-W;\n",
"dS=Q_rejected/T3;\n",
"disp('dS=')\n",
"disp(dS)\n",
"disp('kJ/K')"
   ]
   }
,
{
		   "cell_type": "markdown",
		   "metadata": {},
		   "source": [
			"## Example 13.12: 12.sce"
		   ]
		  },
  {
"cell_type": "code",
	   "execution_count": null,
	   "metadata": {
	    "collapsed": true
	   },
	   "outputs": [],
"source": [
"clc\n",
"\n",
"y=1.4;\n",
"R=0.287; //kJ/kg K\n",
"T1=311; //K\n",
"T3=2223; //K\n",
"//p2/p1=15\n",
"\n",
"disp('(i) Compression ratio =')\n",
"r=15^(1/1.4);\n",
"disp(r)\n",
"\n",
"\n",
"disp('(ii) Thermal efficiency =')\n",
"n_th=1-1/r^(y-1);\n",
"disp(n_th)\n",
"\n",
"disp('(iii) Work done')\n",
"T2=T1*(r)^(y-1);\n",
"T4=T3/r^(y-1);\n",
"cv=R/(y-1);\n",
"\n",
"Q_supplied=cv*(T3-T2);\n",
"Q_rejected=cv*(T4-T1);\n",
"\n",
"W=Q_supplied-Q_rejected;\n",
"disp('Work done=')\n",
"disp(W)\n",
"disp('kJ')"
   ]
   }
,
{
		   "cell_type": "markdown",
		   "metadata": {},
		   "source": [
			"## Example 13.13: 13.sce"
		   ]
		  },
  {
"cell_type": "code",
	   "execution_count": null,
	   "metadata": {
	    "collapsed": true
	   },
	   "outputs": [],
"source": [
"clc\n",
"V1=0.45; //m^3\n",
"p1=1; //bar\n",
"T1=303; //K\n",
"p2=11; //bar\n",
"Qs=210; //kJ\n",
"n=210; //number of working cycles/min\n",
"R=287; //J/kg K\n",
"cv=0.71; //kJ/kg K\n",
"y=1.4;\n",
"\n",
"disp('(i) Pressures, temperatures and volumes at salient points')\n",
"r=(p2/p1)^(1/y);\n",
"\n",
"T2=T1*(r)^(y-1);\n",
"disp('T2=')\n",
"disp(T2)\n",
"disp('K')\n",
"\n",
"V2=T2/T1*p1/p2*V1;\n",
"disp('V2=')\n",
"disp(V2)\n",
"disp('m^3')\n",
"\n",
"m=p1*10^5*V1/R/T1;\n",
"T3=Qs/m/cv+T2;\n",
"disp('T3=')\n",
"disp(T3)\n",
"disp('K')\n",
"\n",
"p3=T3/T2*p2;\n",
"disp('p3=')\n",
"disp(p3)\n",
"disp('bar')\n",
"\n",
"V3=V2;\n",
"disp('V3=')\n",
"disp(V3)\n",
"disp('m^3')\n",
"\n",
"p4=p3/r^y;\n",
"disp('p4=')\n",
"disp(p4)\n",
"disp('bar')\n",
"\n",
"T4=T3/r^(y-1);\n",
"disp('T4=')\n",
"disp(T4)\n",
"disp('K')\n",
"\n",
"V4=V1;\n",
"disp('V4=')\n",
"disp(V4)\n",
"disp('m^3')\n",
"\n",
"\n",
"disp('(ii) Percentage clearance =')\n",
"%clearance=V2/(V1-V2)*100;\n",
"disp(%clearance)\n",
"disp('%')\n",
"\n",
"\n",
"disp('(iii) Efficiency =')\n",
"Qr=m*cv*(T4-T1);\n",
"n_otto=(Qs-Qr)/Qs;\n",
"disp(n_otto)\n",
"\n",
"\n",
"disp('(iv) Mean effective pressure =')\n",
"p_m=(Qs-Qr)/(V1-V2)/100; //bar\n",
"disp(p_m)\n",
"disp('bar')\n",
"\n",
"\n",
"disp('(v) Power developed =')\n",
"P=(Qs-Qr)*n/60;\n",
"disp(P)\n",
"disp('kW')"
   ]
   }
,
{
		   "cell_type": "markdown",
		   "metadata": {},
		   "source": [
			"## Example 13.14: 14.sce"
		   ]
		  },
  {
"cell_type": "code",
	   "execution_count": null,
	   "metadata": {
	    "collapsed": true
	   },
	   "outputs": [],
"source": [
"clc\n",
"\n",
"// W=Qs-Qr=cv*(T3-T2) - cv*(T4-T1)\n",
"// T2=T1*(r^(y-1))\n",
"// T3=T4*(r^(y-1))\n",
"// W=cv*[T3-T1*r^(y-1) - T3/r^(y-1)+T1];\n",
"// dW/dr=-T1*(y-1)*r^(y-2) - T3*(1-y)*r^(-y)=0\n",
"\n",
"//By solving this we get\n",
"\n",
"disp('r=(T3/T1)^(1/2/(y-1))')\n",
"\n",
"disp('(b)Change in efficiency')\n",
"\n",
"T3=1220; //K\n",
"T1=310; //K\n",
"\n",
"// For air\n",
"y=1.4;\n",
"r1=(T3/T1)^(1/2/(y-1));\n",
"n1=1-1/r1^(y-1); //air standard Efficiency\n",
"disp('Air standard Efficiency =')\n",
"disp(n1)\n",
"\n",
"//For helium\n",
"cp=5.22; //kJ/kg K\n",
"cv=3.13; //kJ/kg K\n",
"y=cp/cv;\n",
"r2=(T3/T1)^(1/2/(y-1));\n",
"\n",
"n2=1-1/r2^(y-1);\n",
"disp('Air standard efficiency for helium =')\n",
"disp(n2)\n",
"\n",
"change=n1-n2;\n",
"disp('Change in efficiency=')\n",
"disp(change)\n",
"\n",
"disp('Hence change in efficiency is nil')"
   ]
   }
,
{
		   "cell_type": "markdown",
		   "metadata": {},
		   "source": [
			"## Example 13.15: 15.sce"
		   ]
		  },
  {
"cell_type": "code",
	   "execution_count": null,
	   "metadata": {
	    "collapsed": true
	   },
	   "outputs": [],
"source": [
"clc\n",
"// W=cv*[T3-T1*r^(y-1) - T3/r^(y-1)+T1]\n",
"// r=(T3/T1)^(1/2/(y-1))\n",
"// T2=T1*r^(y-1)\n",
"// T4=T3/r^(y-1)\n",
"\n",
"// T2=T1*[(T3/T1)^(1/2/(y-1))]^(y-1)\n",
"\n",
"\n",
"//T2=sqrt(T1*T3)\n",
"\n",
"//Similarly T4=T3/[(T3/T1)^(1/2/(y-1))]^(y-1)\n",
"//T4=sqrt(T1*T3)\n",
"\n",
"disp('T2=T4=sqrt(T1*T3)')\n",
"\n",
"\n",
"disp('(b) Power developed ')\n",
"T1=310; //K\n",
"T3=1450; //K\n",
"m=0.38; //kg\n",
"cv=0.71; //kJ/kg K\n",
"\n",
"T2=sqrt(T1*T3);\n",
"T4=T2;\n",
"\n",
"W1=cv*[(T3-T2) - (T4-T1)]; //Work done\n",
"W=m/60*W1; //Work done per second\n",
"\n",
"disp('Power =')\n",
"disp(W)\n",
"disp('kW')"
   ]
   }
,
{
		   "cell_type": "markdown",
		   "metadata": {},
		   "source": [
			"## Example 13.17: 17.sce"
		   ]
		  },
  {
"cell_type": "code",
	   "execution_count": null,
	   "metadata": {
	    "collapsed": true
	   },
	   "outputs": [],
"source": [
"clc\n",
"r=15;\n",
"y=1.4;\n",
"\n",
"//V3-V2=0.06*(V1-V2)\n",
"rho=1.84; //cut off ratio rho=V3/V2\n",
"\n",
"n_diesel=1-1/y/r^(y-1)*((rho^y-1)/(rho-1));\n",
"disp('efficiency =')\n",
"disp(n_diesel)"
   ]
   }
,
{
		   "cell_type": "markdown",
		   "metadata": {},
		   "source": [
			"## Example 13.18: 18.sce"
		   ]
		  },
  {
"cell_type": "code",
	   "execution_count": null,
	   "metadata": {
	    "collapsed": true
	   },
	   "outputs": [],
"source": [
"clc\n",
"\n",
"L=0.25; //m\n",
"D=0.15; //m\n",
"V2=0.0004; //m^3\n",
"Vs=%pi/4*D^2*L;\n",
"V_total=Vs+V2;\n",
"y=1.4;\n",
"V3=V2+5/100*Vs;\n",
"rho=V3/V2;\n",
"r=(Vs+V2)/V2; //V1=Vs+V2\n",
"\n",
"n_diesel=1-1/y/r^(y-1)*((rho^y-1)/(rho-1));\n",
"disp('efficiency =')\n",
"disp(n_diesel)"
   ]
   }
,
{
		   "cell_type": "markdown",
		   "metadata": {},
		   "source": [
			"## Example 13.19: 19.sce"
		   ]
		  },
  {
"cell_type": "code",
	   "execution_count": null,
	   "metadata": {
	    "collapsed": true
	   },
	   "outputs": [],
"source": [
"clc\n",
"r=14; //let clearance volume be unity\n",
"y=1.4;\n",
"\n",
"//When the fuel is cut-off at 5%\n",
"rho1=5/100*(r-1)+1;\n",
"n_diesel1=1-1/y/r^(y-1)*((rho1^y-1)/(rho1-1));\n",
"\n",
"//When the fuel is cut-off at 8%\n",
"rho2=8/100*(r-1)+1;\n",
"n_diesel2=1-1/y/r^(y-1)*((rho2^y-1)/(rho2-1));\n",
"\n",
"%loss=(n_diesel1-n_diesel2)*100;\n",
"disp('percentage loss in efficiency due to delay in fuel cut off =')\n",
"disp(%loss)\n",
"disp('%')"
   ]
   }
,
{
		   "cell_type": "markdown",
		   "metadata": {},
		   "source": [
			"## Example 13.20: 20.sce"
		   ]
		  },
  {
"cell_type": "code",
	   "execution_count": null,
	   "metadata": {
	    "collapsed": true
	   },
	   "outputs": [],
"source": [
"clc\n",
"\n",
"pm=7.5; //bar\n",
"r=12.5;\n",
"p1=1; //bar\n",
"y=1.4;\n",
"\n",
"// pm = p1*r^y*[y*(rho-1) - r^(1-y)*(rho^y-1)]/(y-1)/(r-1)\n",
"//Solving above equation we get \n",
"rho=2.24;\n",
"\n",
"%cutoff=(rho-1)/(r-1)*100;\n",
"disp('%cutoff=')\n",
"disp(%cutoff)\n",
"disp('%')"
   ]
   }
,
{
		   "cell_type": "markdown",
		   "metadata": {},
		   "source": [
			"## Example 13.21: 21.sce"
		   ]
		  },
  {
"cell_type": "code",
	   "execution_count": null,
	   "metadata": {
	    "collapsed": true
	   },
	   "outputs": [],
"source": [
"clc\n",
"D=0.2; //m\n",
"L=0.3; //m\n",
"p1=1; //bar\n",
"T1=300; //K\n",
"R=287;\n",
"r=15;\n",
"y=1.4;\n",
"\n",
"disp('(i) Pressures and temperatures at salient points')\n",
"Vs=%pi/4*D^2*L;\n",
"\n",
"V1=r/(r-1)*Vs;\n",
"disp('V1=')\n",
"disp(V1)\n",
"disp('m^3')\n",
"\n",
"m=p1*10^5*V1/R/T1;\n",
"\n",
"p2=p1*r^y;\n",
"disp('p2=')\n",
"disp(p2)\n",
"disp('bar')\n",
"\n",
"T2=T1*r^(y-1);\n",
"disp('T2=')\n",
"disp(T2)\n",
"disp('K')\n",
"\n",
"V2=Vs/(r-1);\n",
"disp('V2=')\n",
"disp(V2)\n",
"disp('m^3')\n",
"\n",
"rho=8/100*(r-1) + 1;\n",
"V3=rho*V2;\n",
"disp('V3=')\n",
"disp(V3)\n",
"disp('m^3')\n",
"\n",
"T3=T2*V3/V2;\n",
"disp('T3=')\n",
"disp(T3)\n",
"disp('K')\n",
"\n",
"p3=p2;\n",
"disp('p3=')\n",
"disp(p3)\n",
"disp('bar')\n",
"\n",
"p4=p3*(rho/r)^y;\n",
"disp('p4=')\n",
"disp(p4)\n",
"disp('bar')\n",
"\n",
"T4=T3*(rho/r)^(y-1);\n",
"disp('T4=')\n",
"disp(T4)\n",
"disp('K')\n",
"\n",
"V4=V1;\n",
"disp('V4=')\n",
"disp(V4)\n",
"disp('m^3')\n",
"\n",
"disp('(ii) Theoretical air standard efficiency =')\n",
"n_diesel=1-1/y/r^(y-1)*((rho^y-1)/(rho-1));\n",
"disp('efficiency =')\n",
"disp(n_diesel)\n",
"\n",
"\n",
"disp('(iii) Mean effective pressure =')\n",
"pm=(p1*r^y*(y*(rho-1) - r^(1-y)*(rho^y-1)))/(y-1)/(r-1);\n",
"disp(pm)\n",
"disp('bar')\n",
"\n",
"disp('(iv) Power of the engine =')\n",
"n=380; //number of cycles per min\n",
"P=n/60*pm*Vs*100; //kW\n",
"disp(P)\n",
"disp('kW')"
   ]
   }
,
{
		   "cell_type": "markdown",
		   "metadata": {},
		   "source": [
			"## Example 13.22: 22.sce"
		   ]
		  },
  {
"cell_type": "code",
	   "execution_count": null,
	   "metadata": {
	    "collapsed": true
	   },
	   "outputs": [],
"source": [
"clc\n",
"r1=15.3; //V1/V2\n",
"r2=7.5;  //V4/V3\n",
"p1=1; //bar\n",
"T1=300; //K\n",
"n_mech=0.8;\n",
"C=42000; //kJ/kg\n",
"y=1.4;\n",
"R=287;\n",
"cp=1.005;\n",
"cv=0.718;\n",
"V2=1; ////Assuming V2=1 m^3\n",
"\n",
"T2=T1*r1^(y-1);\n",
"p2=p1*r1^y;\n",
"T3=r1/r2*T2;\n",
"m=p2*10^5*V2/R/T2;\n",
"T4=T3/r2^(y-1);\n",
"\n",
"Q_added=m*cp*(T3-T2);\n",
"Q_rejected=m*cv*(T4-T1);\n",
"W=Q_added-Q_rejected;\n",
"\n",
"pm=W/(r1-1)/V2/100;\n",
"disp('Mean effective pressure =')\n",
"disp(pm)\n",
"disp('bar')\n",
"\n",
"ratio=p2/pm;\n",
"disp('Ratio of maximum pressure to mean effective pressure =')\n",
"disp(ratio)\n",
"\n",
"n_cycle=W/Q_added;\n",
"disp('Cycle efficiency =')\n",
"disp(n_cycle)\n",
"\n",
"n_thI=0.5;\n",
"n_cycle1=n_thI*n_cycle;\n",
"\n",
"n_thB=n_mech*n_cycle1;\n",
"\n",
"BP=1;\n",
"mf=BP/C/n_thB*3600;\n",
"disp('Fuel consumption per kWh =')\n",
"disp(mf)\n",
"disp('kg/kWh')"
   ]
   }
,
{
		   "cell_type": "markdown",
		   "metadata": {},
		   "source": [
			"## Example 13.2: 2.sce"
		   ]
		  },
  {
"cell_type": "code",
	   "execution_count": null,
	   "metadata": {
	    "collapsed": true
	   },
	   "outputs": [],
"source": [
"clc\n",
"cv=0.721; //kJ/kg K\n",
"cp=1.008; //kJ/kg K\n",
"m=0.5; //kg\n",
"n_th=0.5;\n",
"Q_isothermal=40; //kJ\n",
"p1=7*10^5; //Pa\n",
"V1=0.12; //m^3\n",
"R=287; //J/kg K\n",
"\n",
"disp('(i) The maximum and minimum temperatures')\n",
"T1=p1*V1/m/R;\n",
"disp('Maximun temperature =')\n",
"disp(T1)\n",
"disp('K')\n",
"\n",
"T2=(1-n_th)*T1;\n",
"disp('Minimum temperature =')\n",
"disp(T2)\n",
"disp('K')\n",
"\n",
"\n",
"disp('(ii) The volume at the end of isothermal expansion =')\n",
"V2=V1*%e^(Q_isothermal*10^3/m/R/T1);\n",
"disp(V2)\n",
"disp('m^3')\n",
"\n",
"\n",
"disp('(iii) The heat transfer for each of the four processes')\n",
"\n",
"Q1=Q_isothermal;\n",
"disp('Isothermal expansion')\n",
"disp(Q1)\n",
"disp('kJ')\n",
"\n",
"Q2=0;\n",
"disp('Adiabatic reversible expansion')\n",
"disp(Q2)\n",
"\n",
"Q3=-Q_isothermal;\n",
"disp('Isothermal compression')\n",
"disp(Q3)\n",
"\n",
"Q4=0;\n",
"disp('Adiabatic reversible compression')\n",
"disp(Q4)"
   ]
   }
,
{
		   "cell_type": "markdown",
		   "metadata": {},
		   "source": [
			"## Example 13.23: 23.sce"
		   ]
		  },
  {
"cell_type": "code",
	   "execution_count": null,
	   "metadata": {
	    "collapsed": true
	   },
	   "outputs": [],
"source": [
"clc\n",
"Vs=0.0053; //m^3\n",
"Vc=0.00035; //m^3\n",
"V3=Vc;\n",
"V2=V3;\n",
"p3=65; //bar\n",
"p4=65; //bar\n",
"T1=353; //K\n",
"p1=0.9; //bar\n",
"y=1.4;\n",
"\n",
"r=(Vs+Vc)/Vc;\n",
"rho=(5/100*Vs+V3)/V3;\n",
"p2=p1*(r)^y;\n",
"B=p3/p2;\n",
"\n",
"n_dual=1-1/r^(y-1)*[(B*rho^y-1)/((B-1)+B*y*(rho-1))];\n",
"disp('Efficiency of the cycle =')\n",
"disp(n_dual)"
   ]
   }
,
{
		   "cell_type": "markdown",
		   "metadata": {},
		   "source": [
			"## Example 13.24: 24.sce"
		   ]
		  },
  {
"cell_type": "code",
	   "execution_count": null,
	   "metadata": {
	    "collapsed": true
	   },
	   "outputs": [],
"source": [
"clc\n",
"r=14;\n",
"B=1.4;\n",
"rho=6/100*(r-1) + 1;\n",
"y=1.4;\n",
"\n",
"n_dual=1-1/r^(y-1)*[(B*rho^y-1)/((B-1)+B*y*(rho-1))]\n",
"disp('Efficiency of the cycle =')\n",
"disp(n_dual)"
   ]
   }
,
{
		   "cell_type": "markdown",
		   "metadata": {},
		   "source": [
			"## Example 13.25: 25.sce"
		   ]
		  },
  {
"cell_type": "code",
	   "execution_count": null,
	   "metadata": {
	    "collapsed": true
	   },
	   "outputs": [],
"source": [
"clc\n",
"D=0.25; //m\n",
"r=9; \n",
"L=0.3; //m\n",
"cv=0.71; //kJ/kg K\n",
"cp=1; //kJ/kg K\n",
"p1=1; //bar\n",
"T1=303; //K\n",
"p3=60; //bar\n",
"p4=p3;\n",
"n=3; //number of working cycles/ sec\n",
"y=1.4;\n",
"R=287;\n",
"\n",
"disp('(i) Air standard efficiency')\n",
"Vs=%pi/4*D^2*L;\n",
"\n",
"Vc=Vs/(r-1);\n",
"V1=Vs+Vc;\n",
"p2=p1*(r)^y;\n",
"T2=T1*r^(y-1);\n",
"T3=T2*p3/p2;\n",
"rho=4/100*(r-1)+1;\n",
"T4=T3*rho;\n",
"\n",
"T5=T4*(rho/r)^(y-1);\n",
"p5=p4*(r/rho)^(y);\n",
"\n",
"Qs=cv*(T3-T2)+cp*(T4-T3)\n",
"\n",
"Qr=cv*(T5-T1);\n",
"\n",
"n_airstandard=(Qs-Qr)/Qs;\n",
"disp('efficiency =')\n",
"disp(n_airstandard)\n",
"\n",
"\n",
"disp('(ii) Power developed by the engine')\n",
"m=p1*10^5*V1/R/T1;\n",
"\n",
"W=m*(Qs-Qr);\n",
"\n",
"P=W*n;\n",
"disp('P=')\n",
"disp(P)\n",
"disp('kW')"
   ]
   }
,
{
		   "cell_type": "markdown",
		   "metadata": {},
		   "source": [
			"## Example 13.26: 26.sce"
		   ]
		  },
  {
"cell_type": "code",
	   "execution_count": null,
	   "metadata": {
	    "collapsed": true
	   },
	   "outputs": [],
"source": [
"clc\n",
"p1=1; //bar\n",
"T1=363; //K\n",
"r=9; \n",
"p3=68; //bar\n",
"p4=68; //bar\n",
"Q=1750; //kJ/kg\n",
"y=1.4;\n",
"cv=0.71;\n",
"cp=1.0;\n",
"\n",
"disp('(i) Pressures and temperatures at salient points')\n",
"p2=p1*(r)^y;\n",
"disp('p2=')\n",
"disp(p2)\n",
"disp('bar')\n",
"\n",
"T2=T1*r^(y-1);\n",
"disp('T2=')\n",
"disp(T2)\n",
"disp('K')\n",
"\n",
"disp('p3=')\n",
"disp(p3)\n",
"disp('bar')\n",
"\n",
"disp('p4=')\n",
"disp(p4)\n",
"disp('bar')\n",
"\n",
"T3=T2*(p3/p2);\n",
"disp('T3=')\n",
"disp(T3)\n",
"disp('K')\n",
"\n",
"Q1=cv*(T3-T2); //heat added at constant volume\n",
"Q2=Q-Q1; //heat added at constant pressure\n",
"\n",
"T4=Q2/cp+T3;\n",
"disp('T4=')\n",
"disp(T4)\n",
"disp('K')\n",
"\n",
"rho=T4/T3; //V4/V3=T4/T3\n",
"\n",
"p5=p4*(rho/r)^y;\n",
"disp('p5=')\n",
"disp(p5)\n",
"disp('bar')\n",
"\n",
"T5=T4*(rho/r)^(y-1);\n",
"disp('T5=')\n",
"disp(T5)\n",
"disp('K')\n",
"\n",
"\n",
"disp('(ii) Air standard efficiency =')\n",
"Qr=cv*(T5-T1);\n",
"n_airstandard=(Q-Qr)/Q;\n",
"disp(n_airstandard)\n",
"\n",
"\n",
"disp('(iii) Mean effective pressure =')\n",
"pm=1/(r-1)*(p3*(rho-1) + (p4*rho-p5*r)/(y-1) - (p2-p1*r)/(y-1));\n",
"disp(pm)\n",
"disp('bar')"
   ]
   }
,
{
		   "cell_type": "markdown",
		   "metadata": {},
		   "source": [
			"## Example 13.27: 27.sce"
		   ]
		  },
  {
"cell_type": "code",
	   "execution_count": null,
	   "metadata": {
	    "collapsed": true
	   },
	   "outputs": [],
"source": [
"clc\n",
"T1=300; //K\n",
"r=15;\n",
"y=1.4;\n",
"//p3/p1=70\n",
"\n",
"T2=T1*(r)^(y-1);\n",
"\n",
"//p2/p1=r^y\n",
"//p2=44.3*p1\n",
"\n",
"T3=1400; //K; T3=T2*p3/p2\n",
"\n",
"T4=T3 + (T3-T2)/y;\n",
"\n",
"//v1/v3=15\n",
"//v4=0.084*v1\n",
"//v5=v1\n",
"//T5=T4*(v5/v1)^(y-1)\n",
"T5=656.9; //K\n",
"\n",
"n_airstandard=1-(T5-T1)/((T3-T2) + y*(T4-T3));\n",
"disp('Efficiency =')\n",
"disp(n_airstandard)\n",
"\n",
"disp('Reasons for actual thermal efficiency being different from the theoretical value :')\n",
"\n",
"disp('1. In theoretical cycle working substance is taken air whereas in actual cycle air with fuel acts as working substance')\n",
"\n",
"disp('2. The fuel combustion phenomenon and associated problems like dissociation of gases, dilution of charge during suction stroke, etc. have not been taken into account')\n",
"\n",
"disp('3. Effect of variable specific heat, heat loss through cylinder walls, inlet and exhaust velocities of air/gas etc. have not been taken into account.')"
   ]
   }
,
{
		   "cell_type": "markdown",
		   "metadata": {},
		   "source": [
			"## Example 13.28: 28.sce"
		   ]
		  },
  {
"cell_type": "code",
	   "execution_count": null,
	   "metadata": {
	    "collapsed": true
	   },
	   "outputs": [],
"source": [
"clc\n",
"T1=373; //K\n",
"p1=1; //bar\n",
"p3=65; //bar\n",
"p4=p3;\n",
"Vs=0.0085; //m^3\n",
"ratio=21; //Air fuel ratio\n",
"r=15;\n",
"C=43890; //kJ/kg\n",
"cp=1;\n",
"cv=0.71;\n",
"V2=0.0006; //m^3\n",
"V1=0.009; //m^3\n",
"y=1.41;\n",
"V5=V1;\n",
"V3=V2;\n",
"R=287;\n",
"\n",
"p2=p1*(r)^y;\n",
"T2=T1*r^(y-1);\n",
"T3=T2*p3/p2;\n",
"m=p1*10^5*V1/R/T1;\n",
"\n",
"Q1=m*cv*(T3-T2); //Heat added during constant volume process 2-3\n",
"amt=Q1/C; //Amount of fuel added during the constant volume process 2-3\n",
"total=m/ratio; //Total amount of fuel added\n",
"quantity=total-amt; //Quantity of fuel added during the process 3-4\n",
"\n",
"Q2=quantity*C; //Heat added during constant pressure process\n",
"\n",
"T4=Q2/(m+total)/cp+T3;\n",
"V4=V3*T4/T3;\n",
"T5=T4*(V4/V5)^(y-1);\n",
"\n",
"Q3=(m+total)*cv*(T5-T1); //Heat rejected during constant volume process 5-1\n",
"\n",
"W=(Q1+Q2) - Q3;\n",
"\n",
"n_th=W/(Q1+Q2);\n",
"disp('Thermal efficiency =')\n",
"disp(n_th)"
   ]
   }
,
{
		   "cell_type": "markdown",
		   "metadata": {},
		   "source": [
			"## Example 13.29: 29.sce"
		   ]
		  },
  {
"cell_type": "code",
	   "execution_count": null,
	   "metadata": {
	    "collapsed": true
	   },
	   "outputs": [],
"source": [
"clc\n",
"T1=303; //K\n",
"p1=1; //bar\n",
"rc=9;\n",
"re=5;\n",
"n=1.25;\n",
"D=0.25; //m\n",
"L=0.4; //m\n",
"R=287;\n",
"cv=0.71;\n",
"cp=1;\n",
"num=8; //no. 0f cycles/sec\n",
"\n",
"disp('(i) Pressure and temperatures at all salient points =')\n",
"p2=p1*(rc)^n;\n",
"disp('p2=')\n",
"disp(p2)\n",
"disp('bar')\n",
"\n",
"T2=T1*(rc)^(n-1);\n",
"disp('T2=')\n",
"disp(T2)\n",
"disp('K')\n",
"\n",
"//T4=1.8*T3\n",
"//Heat liberated at constant pressure= 2 × heat liberated at constant volume\n",
"//cp*(T4-T3)=2*cv*(T3-T2)\n",
"//T4/T3=1.8\n",
"\n",
"rho=rc/re;\n",
"T3=1201.9; //K\n",
"disp('T3=')\n",
"disp(T3)\n",
"disp('K')\n",
"\n",
"p3=p2*T3/T2;\n",
"disp('p3=')\n",
"disp(p3)\n",
"disp('bar')\n",
"\n",
"p4=p3;\n",
"disp('p4=')\n",
"disp(p4)\n",
"disp('bar')\n",
"\n",
"T4=1.8*T3;\n",
"disp('T4=')\n",
"disp(T4)\n",
"disp('K')\n",
"\n",
"p5=p4*(1/re)^(n);\n",
"disp('p5=')\n",
"disp(p5)\n",
"disp('bar')\n",
"\n",
"T5=T4*(1/re)^(n-1)\n",
"disp('T5=')\n",
"disp(T5)\n",
"disp('K')\n",
"\n",
"\n",
"disp('(ii) Mean effective pressure = ')\n",
"pm=1/(rc-1)*[p3*(rho-1)+(p4*rho-p5*rc)/(n-1)-(p2-p1*rc)/(n-1)];\n",
"disp(pm)\n",
"disp('bar')\n",
"\n",
"disp('(iii) Efficiency of the cycle')\n",
"Vs=%pi/4*D^2*L;\n",
"W=pm*10^5*Vs/1000;\n",
"\n",
"V1=rc/(rc-1)*Vs\n",
"m=p1*10^5*V1/R/T1;\n",
"Q=m*(cv*(T3-T2) + cp*(T4-T3));\n",
"\n",
"Efficiency=W/Q;\n",
"disp('Efficiency =')\n",
"disp(Efficiency)\n",
"\n",
"\n",
"disp('(iv) Power of the engine =')\n",
"P=W*num;\n",
"disp(P)\n",
"disp('kW')"
   ]
   }
,
{
		   "cell_type": "markdown",
		   "metadata": {},
		   "source": [
			"## Example 13.30: 30.sce"
		   ]
		  },
  {
"cell_type": "code",
	   "execution_count": null,
	   "metadata": {
	    "collapsed": true
	   },
	   "outputs": [],
"source": [
"clc\n",
"v=10:1:100;\n",
"function p=f(v)\n",
"    p=1/v^1.4;\n",
"endfunction\n",
"plot(v,f)\n",
"\n",
"v=[10 20]\n",
"p=[f(10) f(10)]\n",
"plot(v,p,'r')\n",
"\n",
"v=20:1:100;\n",
"function p=fa(v)\n",
"    p=2.6515/v^1.4;\n",
"endfunction\n",
"plot(v,fa,'g')\n",
"\n",
"v=[100 100]\n",
"p=[f(100) fa(100)]\n",
"plot(v,p,'--p')\n",
"\n",
"v=[15 15]\n",
"p=[f(15) 0.040]\n",
"plot(v,p,'--')\n",
"\n",
"v=[20 20]\n",
"p=[f(20) 0.040]\n",
"plot(v,p,'--r')\n",
"\n",
"xtitle('p-v diagram', 'v', 'p')\n",
"legend('1-2b','2b-3', '3-4', '4-1', '2a-3a', '2-3')\n",
"\n",
"//The air-standard Otto, Dual and Diesel cycles are drawn on common p-v and T-s diagrams for the same maximum pressure and maximum temperature, for the purpose of comparison.\n",
"// Otto 1-2-3-4-1\n",
"// Dual 1-2a-3a-3-4-1\n",
"// Diesel 1-2b-3-4-1\n",
"\n",
"\n",
"xset('window', 1)\n",
"\n",
"s=10:1:50;\n",
"function T=fb(s)\n",
"    T=s^2\n",
"endfunction\n",
"plot(s,fb)\n",
"\n",
"s=10:1:50;\n",
"function T=fc(s)\n",
"    T=(s+30)^2\n",
"endfunction\n",
"plot(s,fc,'r')\n",
"\n",
"s=[12 12];\n",
"T=[fb(12) fc(12)];\n",
"plot(s,T,'--p')\n",
"\n",
"s=[45 45];\n",
"T=[fb(45) fc(45)]\n",
"plot(s,T,'m')\n",
"\n",
"s=10:1:27;\n",
"T=5*(s)^2;\n",
"plot(s,T,'g')\n",
"\n",
"s=10:1:20;\n",
"T=7*s^2;\n",
"plot(s,T,'--r')\n",
"\n",
"xtitle('T-s diagram', 's', 'T')\n",
"legend('1-4', '2b-3', '1-2b', '3-4', '2-3', '2a-3a')\n",
"\n",
"// The construction of cycles on T-s diagram proves that for the given conditions the heat rejected is same for all the three cycles (area under process line 4-1).\n",
"// η=1-(Heat rejected)/(Heat supplied)=1-constant/Qs\n",
"\n",
"// The cycle with greater heat addition will be more efficient.\n",
"// From the T-s diagram\n",
"\n",
"// Qs(diesel) = Area under 2b-3\n",
"// Qs(dual) = Area under 2a-3a-3\n",
"// Qs(otto) = Area under 2-3.\n",
"\n",
"// Qs(diesel) > Qs(dual) > Qs(otto)\n",
"\n",
"disp('Thus, ηdiesel > ηdual > ηotto')"
   ]
   }
,
{
		   "cell_type": "markdown",
		   "metadata": {},
		   "source": [
			"## Example 13.31: 31.sce"
		   ]
		  },
  {
"cell_type": "code",
	   "execution_count": null,
	   "metadata": {
	    "collapsed": true
	   },
	   "outputs": [],
"source": [
"clc\n",
"cp=0.92;\n",
"cv=0.75;\n",
"y=1.22; //y=cp/cv\n",
"p1=1; //bar\n",
"p2=p1;\n",
"p3=4; //bar\n",
"p4=16; //bar\n",
"T2=300; //K\n",
"\n",
"T3=T2*(p3/p2)^((y-1)/y);\n",
"T4=p4/p3*T3;\n",
"T1=T4/(p4/p1)^((y-1)/y);\n",
"\n",
"disp('(i) Work done per kg of gas ')\n",
"Q_supplied=cv*(T4-T3);\n",
"Q_rejected=cp*(T1-T2);\n",
"\n",
"W=Q_supplied-Q_rejected;\n",
"disp('W=')\n",
"disp(W)\n",
"disp('kJ/kg')\n",
"\n",
"\n",
"disp('(ii) Efficiency of the cycle =')\n",
"n=W/Q_supplied;\n",
"disp(n)"
   ]
   }
,
{
		   "cell_type": "markdown",
		   "metadata": {},
		   "source": [
			"## Example 13.32: 32.sce"
		   ]
		  },
  {
"cell_type": "code",
	   "execution_count": null,
	   "metadata": {
	    "collapsed": true
	   },
	   "outputs": [],
"source": [
"clc\n",
"p1=101.325; //kPa\n",
"T1=300; //K\n",
"rp=6;\n",
"y=1.4;\n",
"\n",
"T2=T1*rp^((y-1)/y);\n",
"\n",
"//T3/T4=rp^((y-1)/y)\n",
"//T4=T3/1.668\n",
"\n",
"//W_T=2.5*W_C\n",
"\n",
"T3=2.5*(T2-T1)/(1-1/1.668);\n",
"disp('(i) Maximum temperature in the cycle =')\n",
"disp(T3)\n",
"disp('K')\n",
"\n",
"\n",
"disp('(ii) Cycle efficiency')\n",
"T4=T3/1.668;\n",
"\n",
"n_cycle=((T3-T4) - (T2-T1))/(T3-T2);\n",
"disp(' Cycle efficiency =')\n",
"disp(n_cycle)"
   ]
   }
,
{
		   "cell_type": "markdown",
		   "metadata": {},
		   "source": [
			"## Example 13.33: 33.sce"
		   ]
		  },
  {
"cell_type": "code",
	   "execution_count": null,
	   "metadata": {
	    "collapsed": true
	   },
	   "outputs": [],
"source": [
"clc\n",
"p1=1; //bar\n",
"p2=5; //bar\n",
"T3=1000; //K\n",
"cp=1.0425; //kJ/kg K\n",
"cv=0.7662; //kJ/kg K\n",
"y=cp/cv;\n",
"\n",
"disp('(i)Temperature entropy diagram')\n",
"\n",
"s=10:1:50;\n",
"function T=fb(s)\n",
"    T=s^2\n",
"endfunction\n",
"plot(s,fb,'--')\n",
"\n",
"s=10:1:50;\n",
"function T=fc(s)\n",
"    T=(s+30)^2\n",
"endfunction\n",
"plot(s,fc,'r')\n",
"\n",
"s=[12 12];\n",
"T=[fb(12) fc(12)];\n",
"plot(s,T,'m')\n",
"\n",
"s=[45 45];\n",
"T=[fb(45) fc(45)]\n",
"plot(s,T,'g')\n",
"\n",
"\n",
"xtitle('T-s diagram', 's', 'T')\n",
"legend('p1=1 bar', 'p2=5 bar', '1-2', '3-4')\n",
"\n",
"disp('(ii) Power required =')\n",
"T4=T3*(p1/p2)^((y-1)/y);\n",
"P=cp*(T3-T4);\n",
"disp('P=')\n",
"disp(P)\n",
"disp('kW')"
   ]
   }
,
{
		   "cell_type": "markdown",
		   "metadata": {},
		   "source": [
			"## Example 13.3: 3.sce"
		   ]
		  },
  {
"cell_type": "code",
	   "execution_count": null,
	   "metadata": {
	    "collapsed": true
	   },
	   "outputs": [],
"source": [
"clc\n",
"p1=18*10^5; //Pa\n",
"T1=683; //K\n",
"T2=T1;\n",
"r1=6; //ratio V4/V1; Isentropic compression\n",
"r2=1.5; //ratio V2/V1; Isothermal expansion\n",
"y=1.4;\n",
"V1=0.18; //m^3\n",
"\n",
"disp('(i) Temperatures and pressures at the main points in the cycle')\n",
"\n",
"T4=T1/(r1)^(y-1);\n",
"disp('T4=')\n",
"disp(T4)\n",
"disp('K')\n",
"\n",
"T3=T4;\n",
"disp('T3=')\n",
"disp(T3)\n",
"disp('K')\n",
"\n",
"p2=p1/r2;\n",
"disp('p2=')\n",
"disp(p2/10^5)\n",
"disp('bar')\n",
"\n",
"p3=p2/(r1)^y;\n",
"disp('p3=')\n",
"disp(p3/10^5)\n",
"disp('bar')\n",
"\n",
"p4=p1/(r1)^y;\n",
"disp('p4=')\n",
"disp(p4/10^5)\n",
"disp('bar')\n",
"\n",
"\n",
"disp('(ii) Change in entropy =')\n",
"dS=p1*V1/T1/10^3*log(r2);\n",
"disp(dS)\n",
"disp('kJ/K')\n",
"\n",
"\n",
"disp('(iii) Mean thermal efficiency of the cycle')\n",
"Qs=T1*(dS);\n",
"Qr=T4*(dS);\n",
"\n",
"n=1-Qr/Qs;\n",
"disp('n=')\n",
"disp(n)\n",
"\n",
"\n",
"disp('(iv) Mean effective pressure of the cycle =')\n",
"pm=(Qs-Qr)/8/V1/100; //bar\n",
"disp(pm)\n",
"disp('bar')\n",
"\n",
"\n",
"n=210; //cycles per minute\n",
"disp('(v) Power of the engine =')\n",
"P=(Qs-Qr)*n/60; //kW\n",
"disp(P)\n",
"disp('kW')"
   ]
   }
,
{
		   "cell_type": "markdown",
		   "metadata": {},
		   "source": [
			"## Example 13.34: 34.sce"
		   ]
		  },
  {
"cell_type": "code",
	   "execution_count": null,
	   "metadata": {
	    "collapsed": true
	   },
	   "outputs": [],
"source": [
"clc\n",
"m=0.1; //kg/s\n",
"p1=1; //bar\n",
"T4=285; //K\n",
"p2=4; //bar\n",
"cp=1; //kJ/kg K\n",
"y=1.4;\n",
"\n",
"T3=T4*(p2/p1)^((y-1)/y);\n",
"disp('Temperature at turbine inlet =')\n",
"disp(T3)\n",
"disp('K')\n",
"\n",
"P=m*cp*(T3-T4);\n",
"disp('Power developed =')\n",
"disp(P)\n",
"disp('kW')"
   ]
   }
,
{
		   "cell_type": "markdown",
		   "metadata": {},
		   "source": [
			"## Example 13.35: 35.sce"
		   ]
		  },
  {
"cell_type": "code",
	   "execution_count": null,
	   "metadata": {
	    "collapsed": true
	   },
	   "outputs": [],
"source": [
"clc\n",
"y=1.4;\n",
"cp=1.005; //kJ/kg K\n",
"p1=1; //bar\n",
"T1=293; //K\n",
"p2=3.5; //bar\n",
"T3=873; //K\n",
"rp=p2/p1;\n",
"\n",
"disp('(i) Efficiency of the cycle =')\n",
"n_cycle=1-1/rp^((y-1)/y);\n",
"disp(n_cycle)\n",
"\n",
"\n",
"disp('(ii) Heat supplied to air =')\n",
"T2=T1*(p2/p1)^((y-1)/y);\n",
"Q1=cp*(T3-T2);\n",
"disp(Q1)\n",
"disp('kJ/kg')\n",
"\n",
"disp('(iii) Work available at the shaft =')\n",
"W=n_cycle*Q1;\n",
"disp(W)\n",
"disp('kJ/kg')\n",
"\n",
"disp('(iv) Heat rejected in the cooler =')\n",
"Q2=Q1-W;\n",
"disp(Q2)\n",
"disp('kJ/kg')\n",
"\n",
"disp('(v) Temperature of air leaving the turbine =')\n",
"T4=T3/rp^((y-1)/y);\n",
"disp(T4)\n",
"disp('K')"
   ]
   }
,
{
		   "cell_type": "markdown",
		   "metadata": {},
		   "source": [
			"## Example 13.36: 36.sce"
		   ]
		  },
  {
"cell_type": "code",
	   "execution_count": null,
	   "metadata": {
	    "collapsed": true
	   },
	   "outputs": [],
"source": [
"clc\n",
"T1=303; //K\n",
"T3=1073; //K\n",
"C=45000; //kJ/kg\n",
"cp=1; //kJ/kg K\n",
"y=1.4;\n",
"\n",
"T2=sqrt(T1*T3);\n",
"T4=T2;\n",
"\n",
"//W_turbine-W_compressor=m_f*C*n=100;\n",
"\n",
"m_f=100/C/(1-(T4-T1)/(T3-T2));\n",
"disp('m_f=')\n",
"disp(m_f)\n",
"disp('kg/s')\n",
"\n",
"m_a=(100-m_f*(T3-T4))/(T3-T4-T2+T1);\n",
"disp('m_a=')\n",
"disp(m_a)\n",
"disp('kg/s')"
   ]
   }
,
{
		   "cell_type": "markdown",
		   "metadata": {},
		   "source": [
			"## Example 13.37: 37.sce"
		   ]
		  },
  {
"cell_type": "code",
	   "execution_count": null,
	   "metadata": {
	    "collapsed": true
	   },
	   "outputs": [],
"source": [
"clc\n",
"T1=300; //K\n",
"p1=1; //bar\n",
"rp=6.25;\n",
"T3=1073; //K\n",
"n_comp=0.8;\n",
"n_turbine=0.8;\n",
"cp=1.005; //kJ/kg K\n",
"y=1.4;\n",
"\n",
"T2=T1*(rp)^((y-1)/y);\n",
"\n",
"//Let T2'=T2a\n",
"T2a=(T2-T1)/n_comp + T1;\n",
"\n",
"W_comp=cp*(T2a-T1);\n",
"disp('Compressor work =')\n",
"disp(W_comp)\n",
"disp('kJ/kg')\n",
"\n",
"T4=T3/rp^((y-1)/y);\n",
"T4a=T3-n_turbine*(T3-T4);\n",
"\n",
"W_turbine=cp*(T3-T4a);\n",
"disp('Turbine work =')\n",
"disp(W_turbine)\n",
"disp('kJ/kg')\n",
"\n",
"Q_s=cp*(T3-T2a);\n",
"disp('Heat supplied =')\n",
"disp(Q_s)\n",
"disp('kJ/kg')\n",
"\n",
"W_net=W_turbine - W_comp;\n",
"\n",
"n_cycle=W_net/Q_s*100;\n",
"disp('n_cycle')\n",
"disp(n_cycle)\n",
"disp('%')\n",
"\n",
"t4a=T4a-273;\n",
"disp('Turbine exhaust temperature =')\n",
"disp(t4a)\n",
"disp('0C')"
   ]
   }
,
{
		   "cell_type": "markdown",
		   "metadata": {},
		   "source": [
			"## Example 13.38: 38.sce"
		   ]
		  },
  {
"cell_type": "code",
	   "execution_count": null,
	   "metadata": {
	    "collapsed": true
	   },
	   "outputs": [],
"source": [
"clc\n",
"n_turbine=0.85;\n",
"n_compressor=0.80;\n",
"T3=1148; //K\n",
"T1=300; //K\n",
"cp=1; //kJ/kg K\n",
"y=1.4;\n",
"p1=1; //bar\n",
"p2=4; //bar\n",
"C=42000; //kJ/kg K\n",
"n_cc=0.90;\n",
"\n",
"T2=T1*(p2/p1)^((y-1)/y);\n",
"\n",
"T2a=(T2-T1)/n_compressor + T1;\n",
"\n",
"ratio=0.9*C/cp/(T3-T2a) - 1; //ratio=ma/mf\n",
"disp('A/F ratio =')\n",
"disp(ratio)"
   ]
   }
,
{
		   "cell_type": "markdown",
		   "metadata": {},
		   "source": [
			"## Example 13.39: 39.sce"
		   ]
		  },
  {
"cell_type": "code",
	   "execution_count": null,
	   "metadata": {
	    "collapsed": true
	   },
	   "outputs": [],
"source": [
"clc\n",
"cp=1.005; //kJ/kg K\n",
"y1=1.4;\n",
"y2=1.333;\n",
"p1=1; //bar\n",
"p4=p1;\n",
"T1=300; //K\n",
"p2=6.2; //bar\n",
"p3=p2;\n",
"n_compressor=0.88;\n",
"C=44186; //kJ/kg\n",
"ratio=0.017; //Fuel-air ratio; kJ/kg of air\n",
"n_turbine=0.9; //\n",
"cpg=1.147;\n",
"\n",
"T2=T1*(p2/p1)^((y1-1)/y1);\n",
"T2a=(T2-T1)/n_compressor + T1; //T2'\n",
"\n",
"T3=ratio*C/(1+ratio)/cp + T2a;\n",
"T4=T3*(p4/p3)^((y2-1)/y2);\n",
"T4a=T3-n_turbine*(T3-T4);\n",
"W_compressor=cp*(T2a-T1);\n",
"W_turbine=cpg*(T3-T4a);\n",
"W_net=W_turbine-W_compressor;\n",
"Qs=ratio*C;\n",
"\n",
"n_th=W_net/Qs*100;\n",
"disp('Thermal efficiency =')\n",
"disp(n_th)\n",
"disp('%')"
   ]
   }
,
{
		   "cell_type": "markdown",
		   "metadata": {},
		   "source": [
			"## Example 13.40: 40.sce"
		   ]
		  },
  {
"cell_type": "code",
	   "execution_count": null,
	   "metadata": {
	    "collapsed": true
	   },
	   "outputs": [],
"source": [
"clc\n",
"cp=1; //kJ/kg K\n",
"y=1.4;\n",
"C=41800; //kJ/kg\n",
"p1=1; //bar\n",
"T1=293; //K\n",
"p2=4; //bar\n",
"p4=p1;\n",
"p3=p2;\n",
"n_compressor=0.80;\n",
"n_turbine=0.85; \n",
"ratio=90; //Air-Fuel ratio\n",
"m_a=3; //kg/s\n",
"\n",
"disp('(i)Power developed ')\n",
"T2=T1*(p2/p1)^((y-1)/y);\n",
"T2a=(T2-T1)/n_compressor + T1;\n",
"T3=C/(1+ratio)/cp + T2a;\n",
"T4=T3*(p4/p3)^((y-1)/y);\n",
"T4a=T3-n_turbine*(T3-T4);\n",
"\n",
"W_turbine=(ratio+1)/ratio*cp*(T3-T4a);\n",
"W_compressor=cp*(T2a-T1);\n",
"W_net=W_turbine-W_compressor;\n",
"Qs=1/ratio*C;\n",
"\n",
"P=m_a*W_net;\n",
"disp('Power=')\n",
"disp(P)\n",
"disp('kW/kg of air')\n",
"\n",
"\n",
"disp('(ii) Thermal efficiency of cycle =')\n",
"n_thermal=W_net/Qs;\n",
"disp(n_thermal)\n",
"disp('%')"
   ]
   }
,
{
		   "cell_type": "markdown",
		   "metadata": {},
		   "source": [
			"## Example 13.41: 41.sce"
		   ]
		  },
  {
"cell_type": "code",
	   "execution_count": null,
	   "metadata": {
	    "collapsed": true
	   },
	   "outputs": [],
"source": [
"clc\n",
"T1=288; //K\n",
"T3=883; //K\n",
"rp=6; //rp=p2/p1\n",
"n_compressor=0.80;\n",
"n_turbine=0.82;\n",
"m_a=16; //kg/s\n",
"cp1=1.005; //kJ/kg K, For compression process\n",
"y1=1.4; // For compression process\n",
"cp2=1.11; //kJ/kg K\n",
"y2=1.333;\n",
"\n",
"T2=T1*(rp)^((y1-1)/y1);\n",
"T2a=(T2-T1)/n_compressor + T1;\n",
"T4=T3/rp^((y2-1)/y2);\n",
"T4a=T3-n_turbine*(T3-T4);\n",
"\n",
"W_compressor=cp1*(T2a-T1);\n",
"W_turbine=cp2*(T3-T4a);\n",
"W_net=W_turbine-W_compressor;\n",
"\n",
"Power=m_a*W_net;\n",
"disp('Power =')\n",
"disp(Power)\n",
"disp('kW')"
   ]
   }
,
{
		   "cell_type": "markdown",
		   "metadata": {},
		   "source": [
			"## Example 13.42: 42.sce"
		   ]
		  },
  {
"cell_type": "code",
	   "execution_count": null,
	   "metadata": {
	    "collapsed": true
	   },
	   "outputs": [],
"source": [
"clc\n",
"cp=1.11;\n",
"T3=883; //K\n",
"T2a=529; //K\n",
"W_turbine=290.4; //kJ/kg\n",
"W_net=48.2; //kJ/kg\n",
"\n",
"Qs=cp*(T3-T2a);\n",
"\n",
"n_thermal=W_net/Qs*100;\n",
"disp('Thermal efficiency =')\n",
"disp(n_thermal)\n",
"disp('%')\n",
"\n",
"W_ratio=W_net/W_turbine; //Work ratio=net work output/Gross work output\n",
"disp('Work ratio =')\n",
"disp(W_ratio)"
   ]
   }
,
{
		   "cell_type": "markdown",
		   "metadata": {},
		   "source": [
			"## Example 13.43: 43.sce"
		   ]
		  },
  {
"cell_type": "code",
	   "execution_count": null,
	   "metadata": {
	    "collapsed": true
	   },
	   "outputs": [],
"source": [
"clc\n",
"p1=1; //bar\n",
"p2=5; //bar\n",
"p3=4.9; //bar\n",
"p4=1; //bar\n",
"T1=293; //K\n",
"T3=953; //K\n",
"n_compressor=0.85;\n",
"n_turbine=0.80;\n",
"n_combustion=0.85;\n",
"y=1.4;\n",
"cp=1.024; //kJ/kg K\n",
"P=1065; //kW\n",
"\n",
"disp('(i) The quantity of air circulation')\n",
"T2=T1*(p2/p1)^((y-1)/y);\n",
"T2a=(T2-T1)/n_compressor + T1;\n",
"T4=T3*(p4/p3)^((y-1)/y);\n",
"T4a=T3-n_turbine*(T3-T4);\n",
"\n",
"W_compressor=cp*(T2a-T1);\n",
"W_turbine=cp*(T3-T4a);\n",
"W_net=W_turbine-W_compressor;\n",
"\n",
"m_a=P/W_net;\n",
"disp('m_a =')\n",
"disp(m_a)\n",
"disp('kg')\n",
"\n",
"\n",
"disp('(ii) Heat supplied per kg of air circulation =')\n",
"Qs=cp*(T3-T2a)/n_combustion;\n",
"disp(Qs)\n",
"disp('kJ/kg')\n",
"\n",
"\n",
"disp('(iii) Thermal efficiency of the cycle =')\n",
"n_thermal=W_net/Qs*100;\n",
"disp(n_thermal)\n",
"disp('%')"
   ]
   }
,
{
		   "cell_type": "markdown",
		   "metadata": {},
		   "source": [
			"## Example 13.44: 44.sce"
		   ]
		  },
  {
"cell_type": "code",
	   "execution_count": null,
	   "metadata": {
	    "collapsed": true
	   },
	   "outputs": [],
"source": [
"clc\n",
"m_a=20; //kg/s\n",
"T1=300; //K\n",
"T3=1000; //K\n",
"rp=4; //rp=p2/p1\n",
"cp=1; //kJ/kg K\n",
"y=1.4;\n",
"\n",
"T2=T1*(rp)^((y-1)/y);\n",
"T4=T3-T2+T1;\n",
"\n",
"//p5/p4=(p5/p3)*(p3/p4)\n",
"//let p3/p4=r1\n",
"r1=(T3/T4)^(y/(y-1));\n",
"\n",
"//r2=p5/p4;\n",
"r2=1/4*r1;\n",
"P_ratio=1/r2; //Pressure ratio of low pressure turbine\n",
"disp('Pressure ratio of low pressure turbine =')\n",
"disp(P_ratio)\n",
"\n",
"T5=T4/(P_ratio)^((y-1)/y);\n",
"disp('Temperature of the exhaust from the unit =')\n",
"disp(T5)\n",
"disp('K')"
   ]
   }
,
{
		   "cell_type": "markdown",
		   "metadata": {},
		   "source": [
			"## Example 13.4: 4.sce"
		   ]
		  },
  {
"cell_type": "code",
	   "execution_count": null,
	   "metadata": {
	    "collapsed": true
	   },
	   "outputs": [],
"source": [
"clc\n",
"\n",
"// First case\n",
"//(T1-T2)/T1=1/6\n",
"//T1=1.2*T2\n",
"\n",
"\n",
"// Second case\n",
"//(T1-(T2-(70+273)))/T3=1/3\n",
"\n",
"T2=1029/0.6;\n",
"T1=1.2*T2;\n",
"\n",
"disp('Temperature of the source =')\n",
"disp(T1)\n",
"disp('K')\n",
"\n",
"\n",
"disp('Temperature of the sink=')\n",
"disp(T2)\n",
"disp('K')"
   ]
   }
,
{
		   "cell_type": "markdown",
		   "metadata": {},
		   "source": [
			"## Example 13.45: 45.sce"
		   ]
		  },
  {
"cell_type": "code",
	   "execution_count": null,
	   "metadata": {
	    "collapsed": true
	   },
	   "outputs": [],
"source": [
"clc\n",
"T1=288; //K\n",
"p1=1.01; //bar\n",
"rp=7;\n",
"p2=rp*p1;\n",
"p3=p2;\n",
"p5=p1;\n",
"n_compressor=0.82;\n",
"n_turbine=0.85;\n",
"n_turbine=0.85;\n",
"T3=883; //K\n",
"cpa=1.005;\n",
"cpg=1.15;\n",
"y1=1.4;\n",
"y2=1.33;\n",
"\n",
"disp('(i) Pressure and temperature of the gases entering the power turbine =')\n",
"\n",
"T2=T1*rp^((y1-1)/y1);\n",
"T2a=(T2-T1)/n_compressor + T1;\n",
"\n",
"W_compressor=cpa*(T2a-T1);\n",
"\n",
"T4a=(cpg*T3-W_compressor)/cpg;\n",
"disp('Temperature of gases entering the power turbine =')\n",
"disp(T4a)\n",
"disp('K')\n",
"\n",
"T4=T3-(T3-T4a)/n_turbine;\n",
"\n",
"p4=p3/(T3/T4)^(y2/(y2-1));\n",
"disp('Pressure of gases entering the power turbine =')\n",
"disp(p4)\n",
"disp('bar')\n",
"\n",
"\n",
"disp('(ii) Net power developed per kg/s mass flow')\n",
"T5=T4a/(p4/p5)^((y2-1)/y2);\n",
"T5a=T4a-n_turbine*(T4a-T5);\n",
"\n",
"W_turbine=cpg*(T4a-T5a);\n",
"disp(' Net power developed per kg/s mass flow =')\n",
"disp(W_turbine)\n",
"disp('kW')\n",
"\n",
"\n",
"disp('(iii) Work ratio =')\n",
"W_ratio=W_turbine/(W_turbine+W_compressor);\n",
"disp(W_ratio)\n",
"\n",
"\n",
"disp('(iv) Thermal efficiency of the unit')\n",
"Qs=cpg*(T3-T2a);\n",
"n_thermal=W_turbine/Qs*100;\n",
"disp('n_thermal =')\n",
"disp(n_thermal)\n",
"disp('%')"
   ]
   }
,
{
		   "cell_type": "markdown",
		   "metadata": {},
		   "source": [
			"## Example 13.46: 46.sce"
		   ]
		  },
  {
"cell_type": "code",
	   "execution_count": null,
	   "metadata": {
	    "collapsed": true
	   },
	   "outputs": [],
"source": [
"clc\n",
"T1=288; //K\n",
"rp=4; //rp=p2/p1=p3/p4\n",
"n_compressor=0.82;\n",
"e=0.78; //Effectiveness of the heat exchanger\n",
"n_turbine=0.70;\n",
"T3=873; //K\n",
"y=1.4;\n",
"R=0.287;\n",
"\n",
"T2=T1*(rp)^((y-1)/y);\n",
"T2a=(T2-T1)/n_compressor + T1;\n",
"T4=T3/rp^((y-1)/y);\n",
"T4a=T3-n_turbine*(T3-T4);\n",
"\n",
"cp=R*y/(y-1);\n",
"W_compressor=cp*(T2a-T1);\n",
"W_turbine=cp*(T3-T4a);\n",
"W_net=W_turbine-W_compressor;\n",
"\n",
"T5=e*(T4a-T2a) + T2a;\n",
"Qs=cp*(T3-T5);\n",
"\n",
"n_cycle=W_net/Qs*100;\n",
"disp('Efficiency =')\n",
"disp(n_cycle)\n",
"disp('%')"
   ]
   }
,
{
		   "cell_type": "markdown",
		   "metadata": {},
		   "source": [
			"## Example 13.47: 47.sce"
		   ]
		  },
  {
"cell_type": "code",
	   "execution_count": null,
	   "metadata": {
	    "collapsed": true
	   },
	   "outputs": [],
"source": [
"clc\n",
"\n",
"//Simple cycle\n",
"p2=4; //bar\n",
"p1=1; //bar\n",
"T1=293;\n",
"n_compressor=0.8;\n",
"n_turbine=0.85;\n",
"ratio=90; //Air Fuel ratio\n",
"C=41800; //kJ/kg\n",
"cp=1.024;\n",
"p4=1.01; //bar\n",
"p3=3.9; //bar\n",
"y=1.4;\n",
"e=0.72; //thermal ratio\n",
"\n",
"T2=T1*(p2/p1)^((y-1)/y);\n",
"T2a=(T2-T1)/n_compressor + T1;\n",
"T3=C/cp/(ratio+1)+471;\n",
"T4=T3*(p4/p3)^((y-1)/y);\n",
"\n",
"T4a=T3-n_turbine*(T3-T4);\n",
"\n",
"n_thermal1=((T3-T4a)-(T2a-T1))/(T3-T2a)*100;\n",
"disp('Thermal efficiency of simple cycle=')\n",
"disp(n_thermal1)\n",
"disp('%')\n",
"\n",
"\n",
"//Heat exchanger cycle\n",
"\n",
"T2a=471; // K (as for simple cycle)\n",
"T3=919.5; // K (as for simple cycle)\n",
"p3=4.04-0.14-0.05; //bar\n",
"p4=1.01+0.05; //bar\n",
"\n",
"T4=T3*(p4/p3)^((y-1)/y);\n",
"T4a=T3-n_turbine*(T3-T4);\n",
"\n",
"T5=e*(T4a-T2a) + T2a;\n",
"\n",
"n_thermal2=((T3-T4a) - (T2a-T1))/(T3-T5)*100;\n",
"disp('Thermal efficiency of heat exchanger cycle =')\n",
"disp(n_thermal2)\n",
"disp('%')\n",
"\n",
"dn=n_thermal2-n_thermal1;\n",
"disp('Increase in thermal efficiency =')\n",
"disp(dn)\n",
"disp('%')"
   ]
   }
,
{
		   "cell_type": "markdown",
		   "metadata": {},
		   "source": [
			"## Example 13.48: 48.sce"
		   ]
		  },
  {
"cell_type": "code",
	   "execution_count": null,
	   "metadata": {
	    "collapsed": true
	   },
	   "outputs": [],
"source": [
"clc\n",
"T1=293; //K\n",
"T6=898; //K\n",
"T8=T6;\n",
"n_c=0.8; //Efficiency of each compressor stage\n",
"n_t=0.85; //Efficiency of each turbine stage\n",
"n_mech=0.95;\n",
"e=0.8;\n",
"cpa=1.005; //kJ/kg K\n",
"cpg=1.15; //kJ/kg K\n",
"y1=1.4;\n",
"y2=1.333;\n",
"disp('(i) Thermal efficiency')\n",
"T3=T1;\n",
"// p2/p1=sqrt(9)=3\n",
"T2=T1*(3)^((y1-1)/y1);\n",
"T2a=(T2-T1)/n_c + T1;\n",
"T4a=T2a;\n",
"W_c=cpa*(T2a-T1); //Work input per compressor stage\n",
"W_t=2*W_c/n_mech; //Work output of H.P. turbine\n",
"T7a=T6-W_t/cpg;\n",
"T7=T6-(T6-T7a)/n_t;\n",
"// (p6/p7)=(T6/T7)^(y2/(y2-1))=4.82;\n",
"// p8/p9=9/4.82=1.86\n",
"T9=T8/(1.86)^((y2-1)/y2);\n",
"T9a=T8-n_t*(T8-T9);\n",
"W=cpg*(T8-T9a)*n_mech; //Net work output\n",
"T5=e*(T9a-T4a)+T4a;\n",
"Q=cpg*(T6-T5)+cpg*(T8-T7a); //Heat supplied\n",
"n_thermal=W/Q*100;\n",
"disp('n_thermal =')\n",
"disp(n_thermal)\n",
"disp('%')\n",
"disp('(ii) Work ratio')\n",
"Gross_work=W_t+W/n_mech;\n",
"W_ratio=W/Gross_work;\n",
"disp('Work ratio=')\n",
"disp(W_ratio)\n",
"disp('(iii) Mass flow rate =')\n",
"m=4500/W;\n",
"disp(m)\n",
"disp('kg/s')"
   ]
   }
,
{
		   "cell_type": "markdown",
		   "metadata": {},
		   "source": [
			"## Example 13.49: 49.sce"
		   ]
		  },
  {
"cell_type": "code",
	   "execution_count": null,
	   "metadata": {
	    "collapsed": true
	   },
	   "outputs": [],
"source": [
"clc\n",
"T1=293; //K\n",
"T5=1023; //K\n",
"T7=T5;\n",
"p1=1.5; //bar\n",
"p2=6; //bar\n",
"n_c=0.82;\n",
"n_t=0.82;\n",
"e=0.70;\n",
"P=350; //kW\n",
"cp=1.005; //kJ/kg K\n",
"y=1.4;\n",
"T3=T1;\n",
"px=sqrt(p1*p2);\n",
"T2=T1*(px/p1)^((y-1)/y);\n",
"T2a=T1+(T2-T1)/n_c;\n",
"T4a=T2a;\n",
"p5=p2;\n",
"T6=T5/(p5/px)^((y-1)/y);\n",
"T6a=T5-n_t*(T5-T6);\n",
"T8a=T6a;\n",
"Ta=T4a+e*(T8a-T4a);\n",
"W_net=2*cp*[(T5-T6a)-(T2a-T1)];\n",
"Q1=cp*(T5-T4a)+cp*(T7-T6a); //Without regenerator\n",
"Q2=cp*(T5-Ta)+cp*(T7-T6a);\n",
"disp('n_thermal without regenerator =')\n",
"n1=W_net/Q1*100;\n",
"disp(n1)\n",
"disp('%')\n",
"disp('n_thermal woth regenerator =')\n",
"n2=W_net/Q2*100;\n",
"disp(n2)\n",
"disp('%')\n",
"disp('(iii) Mass of fluid circulated =')\n",
"m=P/W_net;\n",
"disp(m)\n",
"disp('kg/s')"
   ]
   }
,
{
		   "cell_type": "markdown",
		   "metadata": {},
		   "source": [
			"## Example 13.5: 5.sce"
		   ]
		  },
  {
"cell_type": "code",
	   "execution_count": null,
	   "metadata": {
	    "collapsed": true
	   },
	   "outputs": [],
"source": [
"clc\n",
"\n",
"T1=1990; //K\n",
"T2=850; //K\n",
"Q=32.5/60; //kJ/s\n",
"P=0.4; //kW\n",
"\n",
"n_carnot=(T1-T2)/T1;\n",
"disp('most efficient engine is one that works on Carnot cycle')\n",
"disp(n_carnot)\n",
"\n",
"n_th=P/Q;\n",
"disp('n_thermal =')\n",
"disp(n_th)\n",
"\n",
"disp('which is not feasible as no engine can be more efficient than that working on Carnot')\n",
"disp('Hence claims of the inventor is not true.')"
   ]
   }
,
{
		   "cell_type": "markdown",
		   "metadata": {},
		   "source": [
			"## Example 13.7: 7.sce"
		   ]
		  },
  {
"cell_type": "code",
	   "execution_count": null,
	   "metadata": {
	    "collapsed": true
	   },
	   "outputs": [],
"source": [
"clc\n",
"\n",
"n=0.6; \n",
"y=1.5;\n",
"\n",
"r=(1/(1-n))^(1/(y-1));\n",
"disp('Compression ratio =')\n",
"disp(r)"
   ]
   }
,
{
		   "cell_type": "markdown",
		   "metadata": {},
		   "source": [
			"## Example 13.8: 8.sce"
		   ]
		  },
  {
"cell_type": "code",
	   "execution_count": null,
	   "metadata": {
	    "collapsed": true
	   },
	   "outputs": [],
"source": [
"clc\n",
"\n",
"D=0.25; //m\n",
"L=0.375; //m\n",
"Vc=0.00263; //m^3\n",
"p1=1; //bar\n",
"T1=323; //K\n",
"p3=25; //bar\n",
"Vs=%pi/4*D^2*L;\n",
"r=(Vs+Vc)/Vc;\n",
"y=1.4;\n",
"\n",
"disp('(i) Air standard efficiency=')\n",
"n_otto=1-1/(r^(y-1));\n",
"disp(n_otto)\n",
"\n",
"\n",
"disp('(ii) Mean effective pressure ')\n",
"p2=p1*(r)^(y);\n",
"r_p=p3/p2;\n",
"\n",
"p_m=p1*r*(r^(y-1) - 1)*(r_p - 1)/(y-1)/(r-1);\n",
"disp('Mean effective pressure =')\n",
"disp(p_m)\n",
"disp('bar')"
   ]
   }
,
{
		   "cell_type": "markdown",
		   "metadata": {},
		   "source": [
			"## Example 13.9: 9.sce"
		   ]
		  },
  {
"cell_type": "code",
	   "execution_count": null,
	   "metadata": {
	    "collapsed": true
	   },
	   "outputs": [],
"source": [
"clc\n",
"cv=0.72; //kJ/kg K\n",
"y=1.4;\n",
"p1=1; //bar\n",
"T1=300; //K\n",
"Q=1500; //kJ/kg\n",
"r=8;\n",
"y=1.4;\n",
"\n",
"disp('(i) Pressures and temperatures at all points')\n",
"T2=T1*(r)^(y-1);\n",
"disp('T2=')\n",
"disp(T2)\n",
"disp('K')\n",
"\n",
"p2=p1*(r)^y;\n",
"disp('p2=')\n",
"disp(p2)\n",
"disp('bar')\n",
"\n",
"T3=Q/cv + T2;\n",
"disp('T3=')\n",
"disp(T3)\n",
"disp('K')\n",
"\n",
"p3=p2*T3/T2;\n",
"disp('p3=')\n",
"disp(p3)\n",
"disp('bar')\n",
"\n",
"T4=T3/r^(y-1);\n",
"disp('T4=')\n",
"disp(T4)\n",
"disp('K')\n",
"\n",
"p4=p3/r^(y);\n",
"disp('p4=')\n",
"disp(p4)\n",
"disp('bar')\n",
"\n",
"\n",
"disp('(ii) Specific work and thermal efficiency')\n",
"SW=cv*[(T3-T2) - (T4-T1)];\n",
"disp('Specific work =')\n",
"disp(SW)\n",
"disp('kJ/kg')\n",
"\n",
"n_th=1-1/r^(y-1);\n",
"disp('Thermal efficiency =')\n",
"disp(n_th)"
   ]
   }
],
"metadata": {
		  "kernelspec": {
		   "display_name": "Scilab",
		   "language": "scilab",
		   "name": "scilab"
		  },
		  "language_info": {
		   "file_extension": ".sce",
		   "help_links": [
			{
			 "text": "MetaKernel Magics",
			 "url": "https://github.com/calysto/metakernel/blob/master/metakernel/magics/README.md"
			}
		   ],
		   "mimetype": "text/x-octave",
		   "name": "scilab",
		   "version": "0.7.1"
		  }
		 },
		 "nbformat": 4,
		 "nbformat_minor": 0
}
