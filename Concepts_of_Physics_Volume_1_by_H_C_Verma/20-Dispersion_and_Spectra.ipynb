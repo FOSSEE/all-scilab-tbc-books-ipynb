{
"cells": [
 {
		   "cell_type": "markdown",
	   "metadata": {},
	   "source": [
       "# Chapter 20: Dispersion and Spectra"
	   ]
	},
{
		   "cell_type": "markdown",
		   "metadata": {},
		   "source": [
			"## Example 20.1: calculation_of_the_dispersive_power_of_the_flint_glass.sce"
		   ]
		  },
  {
"cell_type": "code",
	   "execution_count": null,
	   "metadata": {
	    "collapsed": true
	   },
	   "outputs": [],
"source": [
"//developed in windows XP operating system 32bit\n",
"//platform Scilab 5.4.1\n",
"clc;clear;\n",
"//example 20.1\n",
"//calculation of the dispersive power of the flint glass\n",
"\n",
"//given data\n",
"mur=1.613//refractive index of flint glass for the red light\n",
"mu=1.620//refractive index of flint glass for the yellow light\n",
"muv=1.632//refractive index of flint glass for the violet light\n",
"\n",
"//calculation\n",
"w=(muv-mur)/(mu-1)//definition of the dispersive power\n",
"\n",
"printf('the dispersive power of the flint glass is %3.4f',w)"
   ]
   }
,
{
		   "cell_type": "markdown",
		   "metadata": {},
		   "source": [
			"## Example 20.1w: EX20_1w.sce"
		   ]
		  },
  {
"cell_type": "code",
	   "execution_count": null,
	   "metadata": {
	    "collapsed": true
	   },
	   "outputs": [],
"source": [
"//developed in windows XP operating system 32bit\n",
"//platform Scilab 5.4.1\n",
"clc;clear;\n",
"//example 20.1w\n",
"//calculation of the angular dispersion produced by a thin prism of the flint glass\n",
"\n",
"//given data\n",
"\n",
"mur=1.613//refractive index of flint glass for the red light\n",
"muv=1.632//refractive index of flint glass for the violet light\n",
"A=5//refracting angle(in degree)\n",
"\n",
"//calculation\n",
"delta=(muv-mur)*A//angular dispersion\n",
"\n",
"printf('the angular dispersion produced by the thin prism of the flint glass is %3.3f degree',delta)"
   ]
   }
,
{
		   "cell_type": "markdown",
		   "metadata": {},
		   "source": [
			"## Example 20.2: calculation_of_the_dispersive_power_of_the_material_of_the_lens.sce"
		   ]
		  },
  {
"cell_type": "code",
	   "execution_count": null,
	   "metadata": {
	    "collapsed": true
	   },
	   "outputs": [],
"source": [
"//developed in windows XP operating system 32bit\n",
"//platform Scilab 5.4.1\n",
"clc;clear;\n",
"//example 20.2\n",
"//calculation of the dispersive power of the material of the lens\n",
"\n",
"//given data\n",
"fr=90//focal length(in cm) for the red light\n",
"fv=86.4//focal length(in cm) for the violet light\n",
"\n",
"//calculation\n",
"//(1/f) = (mu-1) * ((1/R1) - (1/R2))\n",
"//muv - 1 =K/fv.....and.....mur - 1 = K/fr\n",
"//let m = muv - mur and K = 1\n",
"m=((1/fv)-(1/fr))\n",
"//muy - 1 = ((muv + mur)/2) - 1 = (K/2)*((1/fv) - (1/fr))\n",
"//let n = muy -1 and K = 1\n",
"n=(1/2)*((1/fv)+(1/fr))\n",
"//w = (muv-mur)/(mu-1).........definition of the dispersive power\n",
"w=m/n\n",
"\n",
"printf('the dispersive power of the material of the lens is %3.3f',w)"
   ]
   }
,
{
		   "cell_type": "markdown",
		   "metadata": {},
		   "source": [
			"## Example 20.2w: EX20_2w.sce"
		   ]
		  },
  {
"cell_type": "code",
	   "execution_count": null,
	   "metadata": {
	    "collapsed": true
	   },
	   "outputs": [],
"source": [
"//developed in windows XP operating system 32bit\n",
"//platform Scilab 5.4.1\n",
"clc;clear;\n",
"//example 20.2w\n",
"//calculation of the angle of flint glass prism and angular dispersion produced by the combination\n",
"\n",
"//given data\n",
"A=5//angle of crown glass prism(in degree)\n",
"mur=1.514//refractive index of crown glass for the red light\n",
"mu=1.517//refractive index of crown glass for the yellow light\n",
"muv=1.523//refractive index of crown glass for the violet light\n",
"murdash=1.613//refractive index of flint glass for the red light\n",
"mudash=1.620//refractive index of flint glass for the yellow light\n",
"muvdash=1.632//refractive index of flint glass for the violet light\n",
"\n",
"//calculation\n",
"//delta = (mu - 1) * A.......deviation produced by the prism\n",
"//D = ((mu - 1)*A) - ((mudash - 1)*Adash)....net deviation\n",
"//net deviation for the mean ray is equal to zero\n",
"Adash=((mu-1)/(mudash-1))*A//angle of flint glass prism\n",
"//deltav - deltar = (muv - mur)*A.........................for crown glass prism\n",
"//deltavdash - deltardash = (muvdash - murdash)*Adash...for flint glass prism\n",
"delta=((muv-mur)*A)-((muvdash-murdash)*Adash)//net angular dispersion\n",
"\n",
"printf('the angle of flint glass prism needed is %3.1f degree',Adash)\n",
"printf('\nthe angular dispersion produced by the combination is %3.4f degree',abs(delta))"
   ]
   }
,
{
		   "cell_type": "markdown",
		   "metadata": {},
		   "source": [
			"## Example 20.3w: calculation_of_the_refracting_angles_of_the_two_prisms.sce"
		   ]
		  },
  {
"cell_type": "code",
	   "execution_count": null,
	   "metadata": {
	    "collapsed": true
	   },
	   "outputs": [],
"source": [
"//developed in windows XP operating system 32bit\n",
"//platform Scilab 5.4.1\n",
"clc;clear;\n",
"//example 20.3w\n",
"//calculation of the refracting angles of the two prisms\n",
"\n",
"//given data\n",
"w=0.03//dispersive power of crown glass\n",
"wdash=0.05//dispersive power of flint glass\n",
"delta=1//deviation(in degree) produced\n",
"mu=1.517//refractive index for crown glass\n",
"mudash=1.621//refractive index for flint glass\n",
"\n",
"//calculation\n",
"//w = (muv - mur)/(mu - 1)........dispersive power\n",
"//(muv - mur)*A = (mu-1)*w*A......angular dispersion\n",
"m=((mu-1)/(mudash-1))*(w/wdash)\n",
"//Adash = A*m........(1)\n",
"//net deviation produced is delta\n",
"A=delta/((mu-1)-((mudash-1)*m))//refracting angle of crown glass\n",
"Adash=A*m//refracting angle of flint glass\n",
"\n",
"printf('the refracting angle of the crown prism is %3.1f degree',A)\n",
"printf('\nthe refracting angle of the flint prism is %3.1f degree',Adash)"
   ]
   }
],
"metadata": {
		  "kernelspec": {
		   "display_name": "Scilab",
		   "language": "scilab",
		   "name": "scilab"
		  },
		  "language_info": {
		   "file_extension": ".sce",
		   "help_links": [
			{
			 "text": "MetaKernel Magics",
			 "url": "https://github.com/calysto/metakernel/blob/master/metakernel/magics/README.md"
			}
		   ],
		   "mimetype": "text/x-octave",
		   "name": "scilab",
		   "version": "0.7.1"
		  }
		 },
		 "nbformat": 4,
		 "nbformat_minor": 0
}
