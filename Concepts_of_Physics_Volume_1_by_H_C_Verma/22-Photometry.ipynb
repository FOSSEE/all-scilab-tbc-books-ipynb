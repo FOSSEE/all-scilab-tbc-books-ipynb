{
"cells": [
 {
		   "cell_type": "markdown",
	   "metadata": {},
	   "source": [
       "# Chapter 22: Photometry"
	   ]
	},
{
		   "cell_type": "markdown",
		   "metadata": {},
		   "source": [
			"## Example 22.1: calculation_of_the_luminous_flux.sce"
		   ]
		  },
  {
"cell_type": "code",
	   "execution_count": null,
	   "metadata": {
	    "collapsed": true
	   },
	   "outputs": [],
"source": [
"//developed in windows XP operating system 32bit\n",
"//platform Scilab 5.4.1\n",
"clc;clear;\n",
"//example 22.1\n",
"//calculation of the luminous flux\n",
"\n",
"//given data\n",
"lambda=600//wavelength(in nm) given\n",
"P=10//wattage(in W) of source\n",
"rellum=.6//relative luminosity\n",
"\n",
"//calculation\n",
"//1 W source of 555 nm = 685 lumen\n",
"lumflux=P*685*rellum//luminous flux\n",
"\n",
"printf('the luminous flux is %d lumen',lumflux)"
   ]
   }
,
{
		   "cell_type": "markdown",
		   "metadata": {},
		   "source": [
			"## Example 22.1w: EX22_1w.sce"
		   ]
		  },
  {
"cell_type": "code",
	   "execution_count": null,
	   "metadata": {
	    "collapsed": true
	   },
	   "outputs": [],
"source": [
"//developed in windows XP operating system 32bit\n",
"//platform Scilab 5.4.1\n",
"clc;clear;\n",
"//example 22.1w\n",
"//calculation of the total radiant flux,total luminous flux and the luminous efficiency\n",
"\n",
"//given data\n",
"E1=12//energy(in J) emitted by the source\n",
"lambda1=620*10^-9//wavelength(in m) of the light1\n",
"E2=8//energy(in J) emitted by the source\n",
"lambda2=580*10^-9//wavelength(in m) of the light2\n",
"rellum1=.35//relative luminosity of the light1\n",
"rellum2=.80//relative luminosity of the light2\n",
"\n",
"//calculation\n",
"radflux=E1+E2//total radiant flux\n",
"lumflux1=E1*685*rellum1//luminous flux corresponding to the 12 W\n",
"lumflux2=E2*685*rellum2//luminous flux corresponding to the 8 W\n",
"lumflux=lumflux1+lumflux2//total luminous flux\n",
"lumeff=lumflux/radflux//luminous efficiency\n",
"\n",
"printf('the total radiant flux is %d W',radflux)\n",
"printf('\nthe total luminous flux is %d lumen',lumflux)\n",
"printf('\nthe luminous efficiency is %d lumen W^-1',lumeff)"
   ]
   }
,
{
		   "cell_type": "markdown",
		   "metadata": {},
		   "source": [
			"## Example 22.2w: EX22_2w.sce"
		   ]
		  },
  {
"cell_type": "code",
	   "execution_count": null,
	   "metadata": {
	    "collapsed": true
	   },
	   "outputs": [],
"source": [
"//developed in windows XP operating system 32bit\n",
"//platform Scilab 5.4.1\n",
"clc;clear;\n",
"//example 22.2w\n",
"//calculation of the total luminous flux emitted by the source and the total luminous intensity of the source\n",
"\n",
"//given data\n",
"r=1*10^-2//radius(in m) of the circular area\n",
"d=2//distance(in m) from the point source\n",
"lumflux=2*10^-3//luminous flux(in lumen)\n",
"\n",
"//calculation\n",
"deltaw=(%pi*r*r)/(d*d)//solid angle subtended by the area on the point source\n",
"F=(4*%pi*lumflux)/(deltaw)//total luminous flux\n",
"lumint=lumflux/deltaw//luminous intensity\n",
"\n",
"printf('the total luminous flux emitted by the source is %d lumen',round(F))\n",
"printf('\nthe total luminous intensity of the source is %d cd',lumint)"
   ]
   }
,
{
		   "cell_type": "markdown",
		   "metadata": {},
		   "source": [
			"## Example 22.3w: calculation_of_the_luminous_flux_falling_on_a_plane.sce"
		   ]
		  },
  {
"cell_type": "code",
	   "execution_count": null,
	   "metadata": {
	    "collapsed": true
	   },
	   "outputs": [],
"source": [
"//developed in windows XP operating system 32bit\n",
"//platform Scilab 5.4.1\n",
"clc;clear;\n",
"//example 22.3w\n",
"//calculation of the luminous flux falling on a plane\n",
"\n",
"//given data\n",
"P=100//power(in W) input of the bulb\n",
"lumeff=25//luminous efficiency(in lumen W^-1)\n",
"A=1*10^-4//area(in m^2)\n",
"d=50*10^-2//distance(in m) of the area from the lamp\n",
"\n",
"//calculation\n",
"deltaF=lumeff*P//luminous flux emitted by the bulb\n",
"I=deltaF/(2*%pi)\n",
"deltaw=A/d^2//solid angle(in sr)subtended by the object on the lamp\n",
"//I = deltaF/deltaw......luminous intensity\n",
"deltaF=I*deltaw//luminous flux emitted in the solid angle\n",
"\n",
"printf('the luminous flux falling on the plane is %3.2f lumen',deltaF)"
   ]
   }
,
{
		   "cell_type": "markdown",
		   "metadata": {},
		   "source": [
			"## Example 22.4w: calculation_of_the_illuminance_at_a_small_surface_area_of_the_table_top.sce"
		   ]
		  },
  {
"cell_type": "code",
	   "execution_count": null,
	   "metadata": {
	    "collapsed": true
	   },
	   "outputs": [],
"source": [
"//developed in windows XP operating system 32bit\n",
"//platform Scilab 5.4.1\n",
"clc;clear;\n",
"//example 22.4w\n",
"//calculation of the illuminance at a small surface area of the table-top\n",
"\n",
"//given data\n",
"d=.50//distance(in m) of the point source above the table-top\n",
"lumflux=1570//luminous flux(in lumen) of the source\n",
"d1=.8//distance(in m)from the source\n",
"\n",
"//calculation\n",
"I=lumflux/(4*%pi)//luminous intensity of the source in any direction\n",
"\n",
"//E=I*cosd(theta)/r^2........illuminance\n",
"r=d//for point A\n",
"theta=0//for point A\n",
"EA=I*cosd(theta)/r^2//illuminance at point A\n",
"\n",
"r1=d1//for point B\n",
"theta1=acosd(d/d1)//for point B\n",
"EB=I*cosd(theta1)/r1^2//illuminance at point B\n",
"\n",
"printf('the illuminance at a small surface area of the table-top directly below the surface is %d lux',round(EA))\n",
"printf('\nthe illuminance at a small surface area of the table-top at a distance 0.80 m from the source is %d lux',EB)"
   ]
   }
,
{
		   "cell_type": "markdown",
		   "metadata": {},
		   "source": [
			"## Example 22.5w: calculation_of_the_luminous_flux_emitted_into_a_cone_of_given_solid_angle.sce"
		   ]
		  },
  {
"cell_type": "code",
	   "execution_count": null,
	   "metadata": {
	    "collapsed": true
	   },
	   "outputs": [],
"source": [
"//developed in windows XP operating system 32bit\n",
"//platform Scilab 5.4.1\n",
"clc;clear;\n",
"//example 22.5w\n",
"//calculation of the luminous flux emitted into a cone of given solid angle \n",
"\n",
"//given data\n",
"I0=160//luminous intensity(in candela) of small plane source\n",
"deltaw=0.02//solid angle(in sr)\n",
"theta=60//angle(in degree) made by the centre line of the cone with the forward normal\n",
"\n",
"//calculation\n",
"I=I0*cosd(theta)//by using Lambert's cosine law\n",
"deltaF=I*deltaw//luminous flux\n",
"\n",
"printf('the luminous flux emitted into a cone of solid angle 0.02 sr around a line making an angle of 60 degree with the forward normal is %3.1f lumen',deltaF)"
   ]
   }
],
"metadata": {
		  "kernelspec": {
		   "display_name": "Scilab",
		   "language": "scilab",
		   "name": "scilab"
		  },
		  "language_info": {
		   "file_extension": ".sce",
		   "help_links": [
			{
			 "text": "MetaKernel Magics",
			 "url": "https://github.com/calysto/metakernel/blob/master/metakernel/magics/README.md"
			}
		   ],
		   "mimetype": "text/x-octave",
		   "name": "scilab",
		   "version": "0.7.1"
		  }
		 },
		 "nbformat": 4,
		 "nbformat_minor": 0
}
