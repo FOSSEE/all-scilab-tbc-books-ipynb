{
"cells": [
 {
		   "cell_type": "markdown",
	   "metadata": {},
	   "source": [
       "# Chapter 14: Some Mechanical Properties of Matter"
	   ]
	},
{
		   "cell_type": "markdown",
		   "metadata": {},
		   "source": [
			"## Example 14.11w: EX14_11w.sce"
		   ]
		  },
  {
"cell_type": "code",
	   "execution_count": null,
	   "metadata": {
	    "collapsed": true
	   },
	   "outputs": [],
"source": [
"//developed in windows XP operating system 32bit\n",
"//platform Scilab 5.4.1\n",
"clc;clear;\n",
"//example 14.11w\n",
"//calculation of the amount by which the pressure inside the bubble is greater than the atmospheric pressure\n",
"\n",
"//given data\n",
"r=1*10^-3//radius(in m) of the air bubble \n",
"S=.075//suface tension(in N/m)\n",
"rho=1000//density(in kg/m^3) of the liquid\n",
"h=10*10^-2//depth(in m) of the bubble\n",
"g=9.8//gravitational acceleration(in m/s^2) of the earth\n",
"\n",
"//calculation\n",
"//P = P0 +(h*rho*g)........(1)\n",
"//Pdash = P + (2*S/r)......(2)\n",
"//deltaP = Pdash - P0\n",
"deltaP=(h*rho*g)+(2*S/r)//difference in the pressure\n",
"\n",
"printf('the pressure inside the bubble is greater than the atmospheric pressure by %d Pa',deltaP)"
   ]
   }
,
{
		   "cell_type": "markdown",
		   "metadata": {},
		   "source": [
			"## Example 14.12w: calculation_of_the_load_W_suspended_from_wire_to_keep_it_in_equilibrium.sce"
		   ]
		  },
  {
"cell_type": "code",
	   "execution_count": null,
	   "metadata": {
	    "collapsed": true
	   },
	   "outputs": [],
"source": [
"//developed in windows XP operating system 32bit\n",
"//platform Scilab 5.4.1\n",
"clc;clear;\n",
"//example 14.12w\n",
"//calculation of the load W suspended from wire to keep it in equilibrium\n",
"\n",
"//given data\n",
"l=10*10^-2//length(in m) of the wire\n",
"//1 dyne = 10^-5 N\n",
"S=25*10^-5*10^2//suface tension(in N/m) of the soap solution\n",
"g=10//gravitational acceleration(in m/s^2) of the earth\n",
"\n",
"//calculation\n",
"F=2*l*S//force exerted by the film on the wire\n",
"m=F/g//mass of the load\n",
"\n",
"printf('the load W suspended from wire to keep it in equilibrium should be %3.1e N',F)\n",
"printf('\nthe mass of the load suspended from wire to keep it in equilibrium should be %3.1e kg or %3.1f g',m,m*10^3)"
   ]
   }
,
{
		   "cell_type": "markdown",
		   "metadata": {},
		   "source": [
			"## Example 14.13w: calculation_of_the_radius_of_the_capillary_tube.sce"
		   ]
		  },
  {
"cell_type": "code",
	   "execution_count": null,
	   "metadata": {
	    "collapsed": true
	   },
	   "outputs": [],
"source": [
"//developed in windows XP operating system 32bit\n",
"//platform Scilab 5.4.1\n",
"clc;clear;\n",
"//example 14.13w\n",
"//calculation of the radius of the capillary tube\n",
"\n",
"//given data\n",
"h=7.5*10^-2//height(in m) by which the capillary rises\n",
"S=7.5*10^-2//suface tension(in N/m) of water\n",
"theta=0//contact angle(in degree) between water and glass\n",
"g=10//gravitational acceleration(in m/s^2) of the earth\n",
"rho=1000//density(in kg/m^3) of water \n",
"\n",
"//calculation\n",
"r=(2*S*cosd(theta))/(h*rho*g)//from formula of height in capillary tube\n",
"\n",
"printf('the radius of the capillary tube is %3.1f mm',r*10^3)"
   ]
   }
,
{
		   "cell_type": "markdown",
		   "metadata": {},
		   "source": [
			"## Example 14.15w: calculation_of_the_tangential_force_needed_to_keep_the_plate_moving.sce"
		   ]
		  },
  {
"cell_type": "code",
	   "execution_count": null,
	   "metadata": {
	    "collapsed": true
	   },
	   "outputs": [],
"source": [
"//developed in windows XP operating system 32bit\n",
"//platform Scilab 5.4.1\n",
"clc;clear;\n",
"//example 14.15w\n",
"//calculation of the tangential force needed to keep the plate moving\n",
"\n",
"//given data\n",
"A=10//area(in m^2) of the plate\n",
"v=2//speed(in m/s) of the plate\n",
"d=1//depth(in m) of the river\n",
"// 1 poise = .1 N-s/m^2...unit of viscosity\n",
"eta=10^-2*10^-1//coefficient of viscosity(in N-s/m^2)\n",
"\n",
"//calculation\n",
"dvbydx=v/d//velocity gradient\n",
"F=eta*dvbydx*A//force exerted\n",
"\n",
"printf('the tangential force needed to keep the plate moving is %3.2f N',F)"
   ]
   }
,
{
		   "cell_type": "markdown",
		   "metadata": {},
		   "source": [
			"## Example 14.16w: calculation_of_the_shearing_stress_between_the_horizontal_layers_of_water.sce"
		   ]
		  },
  {
"cell_type": "code",
	   "execution_count": null,
	   "metadata": {
	    "collapsed": true
	   },
	   "outputs": [],
"source": [
"//developed in windows XP operating system 32bit\n",
"//platform Scilab 5.4.1\n",
"clc;clear;\n",
"//example 14.16w\n",
"//calculation of the shearing stress between the horizontal layers of water\n",
"\n",
"//given data\n",
"v=18*10^3/(60*60)//velocity(in m/s) of the water in river\n",
"d=5//depth(in m) of the river\n",
"// 1 poise = 0.1 N-s/m^2\n",
"eta=10^-2*10^-1//coefficient of viscosity(in N-s/m^2) of the water\n",
"\n",
"//calculation\n",
"dvbydx=v/d//velocity gradient\n",
"//force of viscosity ......F=eta*A*(dvbydx)\n",
"//shearing stress..........Ss=F/A\n",
"Ss=eta*(dvbydx)\n",
"\n",
"printf('the shearing stress between the horizontal layers of water is %3.1e N/m^2',Ss)"
   ]
   }
,
{
		   "cell_type": "markdown",
		   "metadata": {},
		   "source": [
			"## Example 14.17w: calculation_of_the_terminal_velocity_of_the_rain_drop.sce"
		   ]
		  },
  {
"cell_type": "code",
	   "execution_count": null,
	   "metadata": {
	    "collapsed": true
	   },
	   "outputs": [],
"source": [
"//developed in windows XP operating system 32bit\n",
"//platform Scilab 5.4.1\n",
"clc;clear;\n",
"//example 14.17w\n",
"//calculation of the terminal velocity of the rain drop\n",
"\n",
"//given data\n",
"r=.01*10^-3//radius(in m) of the drop\n",
"eta=1.8*10^-5//coefficient of viscosity(in N-s/m^2) of the air\n",
"rho=1.2//density(in kg/m^3) of the air\n",
"rho0=1000//density(in kg/m^3) of the water\n",
"g=10//gravitational acceleration(in m/s^2) of the earth\n",
"\n",
"//calculation\n",
"//at terminal velocity.........6*%pi*eta*r*v = (4/3)*%pi*r^3*rho*g\n",
"v=(2*r^2*rho0*g)/(9*eta)//terminal velocity\n",
"\n",
"printf('the terminal velocity of the rain drop is %3.1f cm/s^2',v*10^2)"
   ]
   }
,
{
		   "cell_type": "markdown",
		   "metadata": {},
		   "source": [
			"## Example 14.1: calculation_of_the_tensile_stress_developed_in_the_wire.sce"
		   ]
		  },
  {
"cell_type": "code",
	   "execution_count": null,
	   "metadata": {
	    "collapsed": true
	   },
	   "outputs": [],
"source": [
"//developed in windows XP operating system 32bit\n",
"//platform Scilab 5.4.1\n",
"clc;clear;\n",
"//example 14.1\n",
"//calculation of the tensile stress developed in the wire\n",
"\n",
"//given data\n",
"m=4//mass(in kg) of the load\n",
"r=2*10^-3//radius(in m) of the wire\n",
"g=3.1*%pi//gravitational acceleration(in m/s^2) of the earth\n",
"\n",
"//calculation\n",
"F=m*g//gravitational force\n",
"A=%pi*r^2//area\n",
"St=F/A//tensile stress\n",
"\n",
"printf('the tensile stress developed in the wire is %3.1e N/m^2',St)"
   ]
   }
,
{
		   "cell_type": "markdown",
		   "metadata": {},
		   "source": [
			"## Example 14.1w: calculation_of_the_extension_of_the_wire.sce"
		   ]
		  },
  {
"cell_type": "code",
	   "execution_count": null,
	   "metadata": {
	    "collapsed": true
	   },
	   "outputs": [],
"source": [
"//developed in windows XP operating system 32bit\n",
"//platform Scilab 5.4.1\n",
"clc;clear;\n",
"//example 14.1w\n",
"//calculation of the extension of the wire\n",
"\n",
"//given data\n",
"L=2//lengh(in m)of the wire\n",
"A=.2*10^-4//area(in m^2)\n",
"m=4.8//mass(in kg)\n",
"Y=2*10^11//Young modulus of steel\n",
"g=10//gravitational acceleration(in m/s^2) of the earth\n",
"\n",
"//calculation\n",
"T=m*g//weight\n",
"l=(T*L)/(A*Y)//exension\n",
"\n",
"printf('the extension of the wire is %3.1e m',l)"
   ]
   }
,
{
		   "cell_type": "markdown",
		   "metadata": {},
		   "source": [
			"## Example 14.2: calculation_of_the_value_of_Young_modulus.sce"
		   ]
		  },
  {
"cell_type": "code",
	   "execution_count": null,
	   "metadata": {
	    "collapsed": true
	   },
	   "outputs": [],
"source": [
"//developed in windows XP operating system 32bit\n",
"//platform Scilab 5.4.1\n",
"clc;clear;\n",
"//example 14.2\n",
"//calculation of the value of Young modulus\n",
"\n",
"//given data\n",
"m=4//mass(in kg) of the load\n",
"l=20//length(in m) of the steel wire\n",
"r=2*10^-3//radius(in m) of the steel wire\n",
"dl=.031*10^-3//increase in the length(in m)\n",
"g=3.1*%pi//gravitational acceleration(in m/s^2) of the earth\n",
"\n",
"//calculation\n",
"Ssl=(m*g)/(%pi*r^2)//longitudinal stress\n",
"Stl=dl/l//longitudinal strain\n",
"Y=Ssl/Stl//Young  modulus\n",
"\n",
"printf('the value of Young modulus is %3.1e N/m^2',Y)"
   ]
   }
,
{
		   "cell_type": "markdown",
		   "metadata": {},
		   "source": [
			"## Example 14.2w: EX14_2w.sce"
		   ]
		  },
  {
"cell_type": "code",
	   "execution_count": null,
	   "metadata": {
	    "collapsed": true
	   },
	   "outputs": [],
"source": [
"//developed in windows XP operating system 32bit\n",
"//platform Scilab 5.4.1\n",
"clc;clear;\n",
"//example 14.2w\n",
"//calculation of the elongation of the rope and corresponding change in the diameter\n",
"\n",
"//given data\n",
"L=4.5//length(in m) of the nylon rope\n",
"d=6*10^-3//diameter(in m) of the nylon rope\n",
"T=100//weight(in N) of the monkey\n",
"Y=4.8*10^11//Young modulus(in N/m^2) of the rope\n",
"Pr=.2//Poission ratio of nylon\n",
"\n",
"//calculation\n",
"A=%pi*(d/2)^2//area of cross section\n",
"l=(T*L)/(A*Y)//elongation\n",
"deltad=(Pr*l*d)/(L)//change in diameter\n",
"\n",
"printf('the elongation of the rope is %3.2e m',l)\n",
"printf('\nthe corresponding change in the diameter is %3.1e m',deltad)"
   ]
   }
,
{
		   "cell_type": "markdown",
		   "metadata": {},
		   "source": [
			"## Example 14.3: calculation_of_the_elastic_potential_energy_stored_in_the_stretched_steel_wire.sce"
		   ]
		  },
  {
"cell_type": "code",
	   "execution_count": null,
	   "metadata": {
	    "collapsed": true
	   },
	   "outputs": [],
"source": [
"//developed in windows XP operating system 32bit\n",
"//platform Scilab 5.4.1\n",
"clc;clear;\n",
"//example 14.3\n",
"//calculation of the elastic potential energy stored in the stretched steel wire\n",
"\n",
"//given data\n",
"l=2//length(in m) of the steel wire\n",
"A=4*10^-6//cross sectional area(in m^2) of the steel wire\n",
"dl=2*10^-3//increase in the length(in m)\n",
"Y=2*10^11//Young modulus(in N/m^2)\n",
"\n",
"//calculation\n",
"St=dl/l//strain in the wire\n",
"Ss=Y*St//stress in the wire\n",
"V=A*l//volume of the steel wire\n",
"U=Ss*St*V/2\n",
"\n",
"printf('the elastic potential energy stored in the stretched steel wire is %3.1f J',U)"
   ]
   }
,
{
		   "cell_type": "markdown",
		   "metadata": {},
		   "source": [
			"## Example 14.3w: calculation_of_the_minimum_radius_of_the_wire_used_if_it_is_not_to_break.sce"
		   ]
		  },
  {
"cell_type": "code",
	   "execution_count": null,
	   "metadata": {
	    "collapsed": true
	   },
	   "outputs": [],
"source": [
"//developed in windows XP operating system 32bit\n",
"//platform Scilab 5.4.1\n",
"clc;clear;\n",
"//example 14.3w\n",
"//calculation of the minimum radius of the wire used if it is not to break\n",
"\n",
"//given data\n",
"m1=1//mass(in kg) of block1\n",
"m2=2//mass(in kg) of block2\n",
"Ss=2*10^9//breaking stress(in N/m^2)  of the metal\n",
"g=10//gravitational acceleration(in m/s^2) of the earth\n",
"\n",
"//calculation\n",
"//using equation ....stress = tension / Area of cross secion\n",
"//T - (m1*g) = m1 * a...........(1)\n",
"//(m2*g) - T = m2*a.............(2)\n",
"//Adding equation (1) and equation (2),we get\n",
"a=((m2*g)-(m1*g))/(m1+m2)\n",
"T=(m1*g)+(m1*a)//tension in the string from equation (1)\n",
"r=sqrt(T/(Ss*%pi))//radius\n",
"\n",
"printf('the minimum radius of the wire used if it is not to break is %3.1e m',r)"
   ]
   }
,
{
		   "cell_type": "markdown",
		   "metadata": {},
		   "source": [
			"## Example 14.4: EX14_4.sce"
		   ]
		  },
  {
"cell_type": "code",
	   "execution_count": null,
	   "metadata": {
	    "collapsed": true
	   },
	   "outputs": [],
"source": [
"//developed in windows XP operating system 32bit\n",
"//platform Scilab 5.4.1\n",
"clc;clear;\n",
"//example 14.4\n",
"//calculation of the force by which the surface on one side of the diameter pulls the suface on the other side\n",
"\n",
"//given data\n",
"r=5*10^-2//radius(in m) of the beaker\n",
"S=.075//surface tension(in N/m) of the water\n",
"\n",
"//calculation\n",
"l=2*r//length of diameter of the surface\n",
"F=S*l//force\n",
"\n",
"printf('the force by which the surface on one side of the diameter pulls the suface on the other side is %3.1e N',F)"
   ]
   }
,
{
		   "cell_type": "markdown",
		   "metadata": {},
		   "source": [
			"## Example 14.4w: calculation_of_the_ratio_of_the_lengths_of_the_two_wire.sce"
		   ]
		  },
  {
"cell_type": "code",
	   "execution_count": null,
	   "metadata": {
	    "collapsed": true
	   },
	   "outputs": [],
"source": [
"//developed in windows XP operating system 32bit\n",
"//platform Scilab 5.4.1\n",
"clc;clear;\n",
"//example 14.4w\n",
"//calculation of the ratio of the lengths of the two wire\n",
"\n",
"//given data\n",
"Ys=2*10^11//Young modulus(in N/m^2) of the steel wire\n",
"Yc=1.1*10^11//Young modulus(in N/m^2) of the copper wire\n",
"\n",
"//calculation\n",
"//r = Ls/Lc......required ratio\n",
"r=Ys/Yc//required ratio\n",
"\n",
"printf('the ratio of the lengths of the two wire(Ls/Lc) is %f:1',r)"
   ]
   }
,
{
		   "cell_type": "markdown",
		   "metadata": {},
		   "source": [
			"## Example 14.5: calculation_of_the_gain_in_the_surface_energy.sce"
		   ]
		  },
  {
"cell_type": "code",
	   "execution_count": null,
	   "metadata": {
	    "collapsed": true
	   },
	   "outputs": [],
"source": [
"//developed in windows XP operating system 32bit\n",
"//platform Scilab 5.4.1\n",
"clc;clear;\n",
"//example 14.5\n",
"//calculation of the gain in the surface energy\n",
"\n",
"//given data\n",
"R=10^-2//radius(in m) of the drop\n",
"n=1000//number of droplets formed\n",
"S=.075//surface tension(in N/m) of the water\n",
"\n",
"//calculation\n",
"//volume of original drop = total volume of all droplets formed\n",
"r=R/n^(1/3)//radius of each droplet\n",
"A1=4*%pi*R^2//surface area of drop\n",
"A2=n*(4*%pi*r^2)//surface area of each droplet\n",
"deltaA=A2-A1//change in suface area\n",
"deltaU=deltaA*S//change in surface energy\n",
"\n",
"printf('the gain in the surface energy is %3.1e J',deltaU)"
   ]
   }
,
{
		   "cell_type": "markdown",
		   "metadata": {},
		   "source": [
			"## Example 14.5w: calculation_of_the_decrease_in_the_volume_of_the_sample_of_water.sce"
		   ]
		  },
  {
"cell_type": "code",
	   "execution_count": null,
	   "metadata": {
	    "collapsed": true
	   },
	   "outputs": [],
"source": [
"//developed in windows XP operating system 32bit\n",
"//platform Scilab 5.4.1\n",
"clc;clear;\n",
"//example 14.5w\n",
"//calculation of the decrease in the volume of the sample of water\n",
"\n",
"//given data\n",
"V1=1000*10^-6//initial volume(in m^3)\n",
"P1=10^5//initial pressure(in N/m^2)\n",
"P2=10^6//final pressure(in N/m^2)\n",
"C=50*10^-11//compressibility(in m^2/N)of the water\n",
"\n",
"//calculation\n",
"deltap=P2-P1//change in pressure\n",
"//compressibility = 1/Bulk modulus = -(deltaV/V)/deltaP\n",
"deltaV=-(C*deltap*V1)\n",
"\n",
"printf('the decrease in the volume of the sample of water is %3.2f cm^3',-deltaV*10^6)"
   ]
   }
,
{
		   "cell_type": "markdown",
		   "metadata": {},
		   "source": [
			"## Example 14.6: calculation_of_the_excess_pressure_inside_a_mercury_drop.sce"
		   ]
		  },
  {
"cell_type": "code",
	   "execution_count": null,
	   "metadata": {
	    "collapsed": true
	   },
	   "outputs": [],
"source": [
"//developed in windows XP operating system 32bit\n",
"//platform Scilab 5.4.1\n",
"clc;clear;\n",
"//example 14.6\n",
"//calculation of the excess pressure inside a mercury drop \n",
"\n",
"//given data\n",
"R=2*10^-3//radius(in m) of the drop\n",
"S=.464//surface tension(in N/m) of the drop\n",
"\n",
"//calculation\n",
"deltaP=2*S/R//excess pressure\n",
"\n",
"printf('the excess pressure inside a mercury drop is %d N/m^2',deltaP)"
   ]
   }
,
{
		   "cell_type": "markdown",
		   "metadata": {},
		   "source": [
			"## Example 14.6w: calculation_of_the_longitudinal_strain_in_two_wires.sce"
		   ]
		  },
  {
"cell_type": "code",
	   "execution_count": null,
	   "metadata": {
	    "collapsed": true
	   },
	   "outputs": [],
"source": [
"//developed in windows XP operating system 32bit\n",
"//platform Scilab 5.4.1\n",
"clc;clear;\n",
"//example 14.6w\n",
"//calculation of the longitudinal strain in two wires\n",
"\n",
"//given data\n",
"m1=1//mass(in kg) of load 1\n",
"m2=2//mass(in kg) of load 2\n",
"A=.005*10^-4//area(in m^2) of the cross section\n",
"Y=2*10^11///Young modulus(in N/m^2) of the wire\n",
"g=10//gravitational acceleration(in m/s^2) of the earth\n",
"\n",
"//calculation\n",
"T1=m1*g//tension in wire 1\n",
"Ss1=T1/A//longitudinal stress\n",
"St1=Ss1/Y//longitudinal strain\n",
"T2=(m2*g)+T1//tension in wire 2\n",
"Ss2=T2/A//longitudinal stress\n",
"St2=Ss2/Y//longitudinal strain\n",
"\n",
"printf('the longitudinal strain in wire 1 is %3.1e',St1)\n",
"printf('\nthe longitudinal strain in wire 2 is %3.1e',St2)"
   ]
   }
,
{
		   "cell_type": "markdown",
		   "metadata": {},
		   "source": [
			"## Example 14.7: calculation_of_the_density_of_the_liquid.sce"
		   ]
		  },
  {
"cell_type": "code",
	   "execution_count": null,
	   "metadata": {
	    "collapsed": true
	   },
	   "outputs": [],
"source": [
"//developed in windows XP operating system 32bit\n",
"//platform Scilab 5.4.1\n",
"clc;clear;\n",
"//example 14.7\n",
"//calculation of the density of the liquid\n",
"\n",
"//given data\n",
"h=.02*10^-2//height(in m) of the column of liquid\n",
"R=7.5*10^-3//radius(in m) of the soap bubble\n",
"S=.03//surface tension(in N/m) of the soap solution\n",
"g=9.8//gravitational acceleration(in m/s^2) of the earth\n",
"\n",
"//calculation\n",
"deltaP=4*S/R//excess pressure inside the soap bubble\n",
"rho=deltaP/(h*g)//densiy\n",
"\n",
"printf('the density of the liquid is %3.1e kg/m^3',rho)"
   ]
   }
,
{
		   "cell_type": "markdown",
		   "metadata": {},
		   "source": [
			"## Example 14.7w: calculation_of_the_longitudinal_strain_developed_in_each_wire.sce"
		   ]
		  },
  {
"cell_type": "code",
	   "execution_count": null,
	   "metadata": {
	    "collapsed": true
	   },
	   "outputs": [],
"source": [
"//developed in windows XP operating system 32bit\n",
"//platform Scilab 5.4.1\n",
"clc;clear;\n",
"//example 14.7w\n",
"//calculation of the longitudinal strain developed in each wire\n",
"\n",
"//given data\n",
"m=3//mass(in kg) of each block\n",
"A=.005*10^-4//area(in m^2) of the cross section\n",
"Y=2*10^11///Young modulus(in N/m^2) of the wire\n",
"g=10//gravitational acceleration(in m/s^2) of the earth\n",
"\n",
"//calculation\n",
"//using equation of motion,\n",
"//TA = m*a..............(1)\n",
"//TB - TA = m*a.........(2)\n",
"//m*g - TB = m*a........(3)\n",
"//adding equation (2) and equation (3) and substituting TA from equation (1),we get\n",
"a=(m*g)/(3*m)//acceleration \n",
"TA=m*a//Tension(in N) in wire A\n",
"TB=(m*a)+TA//Tension(in N) in wire B..from equation (2)\n",
"StA=(TA)/(A*Y)//longitudinal strain in wire A\n",
"StB=(TB)/(A*Y)//longitudinal strain in wire B\n",
"\n",
"printf('the longitudinal strain developed in wire A is %3.1e',StA)\n",
"printf('\nthe longitudinal strain developed in wire B is %3.1e',StB)"
   ]
   }
,
{
		   "cell_type": "markdown",
		   "metadata": {},
		   "source": [
			"## Example 14.8: calculation_of_the_height_of_the_water_in_the_column.sce"
		   ]
		  },
  {
"cell_type": "code",
	   "execution_count": null,
	   "metadata": {
	    "collapsed": true
	   },
	   "outputs": [],
"source": [
"//developed in windows XP operating system 32bit\n",
"//platform Scilab 5.4.1\n",
"clc;clear;\n",
"//example 14.8\n",
"//calculation of the height of the water in the column\n",
"\n",
"//given data\n",
"r=.2*10^-3//radius(in m) of the tube\n",
"S=.075//surface tension(in N/m) of the water\n",
"g=10//gravitational acceleration(in m/s^2) of the earth\n",
"rho=1000//density of the water(in kg/m^3)\n",
"theta=0//tube dipped vertically\n",
"\n",
"//calculation\n",
"h=(2*S*cosd(theta))/(r*rho*g)//height in column\n",
"\n",
"printf('the height of the water in the column is %3.1f cm',h*10^2)"
   ]
   }
,
{
		   "cell_type": "markdown",
		   "metadata": {},
		   "source": [
			"## Example 14.8w: calculation_of_the_elastic_potential_energy_stored_in_the_wire.sce"
		   ]
		  },
  {
"cell_type": "code",
	   "execution_count": null,
	   "metadata": {
	    "collapsed": true
	   },
	   "outputs": [],
"source": [
"//developed in windows XP operating system 32bit\n",
"//platform Scilab 5.4.1\n",
"clc;clear;\n",
"//example 14.8w\n",
"//calculation of the elastic potential energy stored in the wire\n",
"\n",
"//given data\n",
"A=3*10^-6//area(in m^2) of the cross section\n",
"l=50*10^-2//natural length(in m)\n",
"m=2.1//mass(in kg) hanged\n",
"Y=1.9*10^11///Young modulus(in N/m^2) of the wire\n",
"g=10//gravitational acceleration(in m/s^2) of the earth\n",
"\n",
"//calculation\n",
"V=A*l//volume of the wire\n",
"T=m*g//tension in the wire\n",
"Ss=T/A//stress\n",
"St=Ss/Y//strain\n",
"U=(Ss*St*V/2)//elastic potential energy\n",
"\n",
"printf('the elastic potential energy stored in the wire is %3.1e J',U)"
   ]
   }
,
{
		   "cell_type": "markdown",
		   "metadata": {},
		   "source": [
			"## Example 14.9: calculation_of_the_value_of_the_coefficient_of_viscosity_of_the_solution.sce"
		   ]
		  },
  {
"cell_type": "code",
	   "execution_count": null,
	   "metadata": {
	    "collapsed": true
	   },
	   "outputs": [],
"source": [
"//developed in windows XP operating system 32bit\n",
"//platform Scilab 5.4.1\n",
"clc;clear;\n",
"//example 14.9\n",
"//calculation of the value of the coefficient of viscosity of the solution\n",
"\n",
"//given data\n",
"d=2*10^-3//diameter(in m) of the air bubble\n",
"sigma=1750//density(in kg/m^3) of the solution\n",
"v=.35*10^-2//rate of flow(in m/s)\n",
"g=9.8//gravitational acceleration(in m/s^2) of the earth\n",
"\n",
"//calculation\n",
"r=d/2//radius of the air bubble\n",
"//force of buoyancy is........B = (4/3)*%pi*r^3*sigma*g\n",
"//viscous force is............F = 6*%pi*eta*r*v\n",
"//above two forces are equal,thus we get\n",
"eta=(2*r^2*sigma*g)/(9*v)//coefficient of viscosity\n",
"\n",
"printf('the value of the coefficient of viscosity of the solution is %d poise',round(eta*10))//0 1 poise = .1 N-s/m^2"
   ]
   }
,
{
		   "cell_type": "markdown",
		   "metadata": {},
		   "source": [
			"## Example 14.9w: calculation_of_the_elongation_of_the_wire.sce"
		   ]
		  },
  {
"cell_type": "code",
	   "execution_count": null,
	   "metadata": {
	    "collapsed": true
	   },
	   "outputs": [],
"source": [
"//developed in windows XP operating system 32bit\n",
"//platform Scilab 5.4.1\n",
"clc;clear;\n",
"//example 14.9w\n",
"//calculation of the elongation of the wire \n",
"\n",
"//given data\n",
"W=10//weight(in N) of the block\n",
"A=3*10^-6//area(in m^2) of the cross section\n",
"r=20*10^-2//radius(in m) of the circle of rotation\n",
"v=2//speed(in m/s) of the block\n",
"Y=2*10^11///Young modulus(in N/m^2) of the wire\n",
"g=10//gravitational acceleration(in m/s^2) of the earth\n",
"\n",
"//calculation\n",
"m=W/g//mass of the block\n",
"T=W+(m*v*v/r)//tension\n",
"L=r\n",
"l=(T*L)/(A*Y)//elongation\n",
"\n",
"printf('the elongation of the wire is %3.1e cm',l*10^2)"
   ]
   }
],
"metadata": {
		  "kernelspec": {
		   "display_name": "Scilab",
		   "language": "scilab",
		   "name": "scilab"
		  },
		  "language_info": {
		   "file_extension": ".sce",
		   "help_links": [
			{
			 "text": "MetaKernel Magics",
			 "url": "https://github.com/calysto/metakernel/blob/master/metakernel/magics/README.md"
			}
		   ],
		   "mimetype": "text/x-octave",
		   "name": "scilab",
		   "version": "0.7.1"
		  }
		 },
		 "nbformat": 4,
		 "nbformat_minor": 0
}
