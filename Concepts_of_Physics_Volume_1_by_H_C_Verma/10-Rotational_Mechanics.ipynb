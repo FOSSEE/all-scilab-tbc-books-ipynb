{
"cells": [
 {
		   "cell_type": "markdown",
	   "metadata": {},
	   "source": [
       "# Chapter 10: Rotational Mechanics"
	   ]
	},
{
		   "cell_type": "markdown",
		   "metadata": {},
		   "source": [
			"## Example 10.12: calculation_of_the_kinetic_energy_of_the_sphere.sce"
		   ]
		  },
  {
"cell_type": "code",
	   "execution_count": null,
	   "metadata": {
	    "collapsed": true
	   },
	   "outputs": [],
"source": [
"//developed in windows XP operating system 32bit\n",
"//platform Scilab 5.4.1\n",
"clc;clear;\n",
"//example 10.12\n",
"//calculation of the kinetic energy of the sphere\n",
"\n",
"//given data\n",
"M=200*10^-3//mass(in kg) of the sphere\n",
"vcm=2*10^-2//speed(in m/s) of the sphere\n",
"\n",
"//calculation\n",
"//kinetic energy is  K = (Icm*w*w/2) + (M*vcm*vcm/2)\n",
"//taking Icm = (2*M*r*r*w*w/5) and w=vcm/r\n",
"K=(M*vcm*vcm/5)+(M*vcm*vcm/2)//kinetic energy\n",
"\n",
"printf('the kinetic energy of the sphere is %3.1e J',K)"
   ]
   }
,
{
		   "cell_type": "markdown",
		   "metadata": {},
		   "source": [
			"## Example 10.13w: calculation_of_the_kinetic_energy_and_angular_momentum_of_the_disc.sce"
		   ]
		  },
  {
"cell_type": "code",
	   "execution_count": null,
	   "metadata": {
	    "collapsed": true
	   },
	   "outputs": [],
"source": [
"//developed in windows XP operating system 32bit\n",
"//platform Scilab 5.4.1\n",
"clc;clear;\n",
"//example 10.13w\n",
"//calculation of the kinetic energy and angular momentum of the disc\n",
"\n",
"//given data\n",
"M=200*10^-3//mass(in kg) of the disc\n",
"r=4*10^-2//radius(in m) of the disc\n",
"w=10//angular velocity(in rad/s) \n",
"\n",
"//calculation\n",
"I=(M*r*r)/4//moment of inertia\n",
"K=(I*w*w/2)//kinetic energy\n",
"L=I*w//angular momentum\n",
"\n",
"printf('the kinetic energy of the disc is %3.1e J',K)\n",
"printf('\nthe angular momentum of the disc is %3.1e J-s',L)\n",
""
   ]
   }
,
{
		   "cell_type": "markdown",
		   "metadata": {},
		   "source": [
			"## Example 10.14w: calculation_of_the_work_done_by_the_torque_in_first_two_seconds.sce"
		   ]
		  },
  {
"cell_type": "code",
	   "execution_count": null,
	   "metadata": {
	    "collapsed": true
	   },
	   "outputs": [],
"source": [
"//developed in windows XP operating system 32bit\n",
"//platform Scilab 5.4.1\n",
"clc;clear;\n",
"//example 10.14w\n",
"//calculation of the work done by the torque in first two seconds\n",
"\n",
"//given data\n",
"wzero=20//initial angular velocity(in rad/s) of the motor\n",
"w=0//final angular velocity(in rad/s) of the motor\n",
"t=4//time(in s) taken to attain rest position\n",
"I=.20//moment of inertia(in kg-m^2) of the disc about axis of rotation\n",
"t1=2//time(in s)\n",
"\n",
"//calculation\n",
"alpha=(wzero-w)/t//equation of angular motion in case of deceleration\n",
"tau=I*alpha//torque\n",
"theta=(wzero*t1)-(alpha*t1*t1/2)//equation of angular motion\n",
"W=tau*theta//work done by the torque\n",
"\n",
"printf('the work done by the torque in first two seconds is %d J',W)"
   ]
   }
,
{
		   "cell_type": "markdown",
		   "metadata": {},
		   "source": [
			"## Example 10.19w: EX10_19w.sce"
		   ]
		  },
  {
"cell_type": "code",
	   "execution_count": null,
	   "metadata": {
	    "collapsed": true
	   },
	   "outputs": [],
"source": [
"//developed in windows XP operating system 32bit\n",
"//platform Scilab 5.4.1\n",
"clc;clear;\n",
"//example 10.19w\n",
"//calculation of the moment of inertia of the system about the axis perpendicular to the rod passing through its middle point\n",
"\n",
"//given data\n",
"m=1.2//mass(in kg) of the sphere\n",
"R=10*10^-2//radius(in cm) of the sphere\n",
"sep=50*10^-2//separation(in m) between the two spheres\n",
"\n",
"//calculation\n",
"d=sep/2//distance of each sphere from centre\n",
"Icm=(2*m*R*R)/5//moment of inertia about diameter\n",
"I=Icm+(m*d*d)//by parallel axis theorem,moment of inertia about given axis \n",
"//since second sphere has same moment of inertia\n",
"Isys=2*I//moment of inertia of the system\n",
"\n",
"printf('the moment of inertia of the system about the axis perpendicular to the rod passing through its middle point is %3.3f kg-m^2',Isys)"
   ]
   }
,
{
		   "cell_type": "markdown",
		   "metadata": {},
		   "source": [
			"## Example 10.1: calculation_of_the_number_of_revolutions_made.sce"
		   ]
		  },
  {
"cell_type": "code",
	   "execution_count": null,
	   "metadata": {
	    "collapsed": true
	   },
	   "outputs": [],
"source": [
"//developed in windows XP operating system 32bit\n",
"//platform Scilab 5.4.1\n",
"clc;clear;\n",
"//example 10.1\n",
"//calculation of the number of revolutions made\n",
"\n",
"//given data\n",
"wzero=100*2*%pi/60//initial angular velocity(in rad/s) of the motor\n",
"w=0//final angular velocity(in rad/s) of the motor\n",
"t=15//time interval(in s)\n",
"\n",
"//calculation\n",
"alpha=(w-wzero)/t//equation of angular motion\n",
"theta=(wzero*t)+(alpha*t*t/2)//equation of angular motion\n",
"\n",
"printf('the number of revolutions the motor makes before coming to rest is %3.1f',theta/(2*%pi))"
   ]
   }
,
{
		   "cell_type": "markdown",
		   "metadata": {},
		   "source": [
			"## Example 10.1w: calculation_of_the_number_of_revolutions_made_by_the_wheel.sce"
		   ]
		  },
  {
"cell_type": "code",
	   "execution_count": null,
	   "metadata": {
	    "collapsed": true
	   },
	   "outputs": [],
"source": [
"//developed in windows XP operating system 32bit\n",
"//platform Scilab 5.4.1\n",
"clc;clear;\n",
"//example 10.1w\n",
"//calculation of the number of revolutions made by the wheel \n",
"\n",
"//given data\n",
"wzero=0//initial angular velocity(in rad/s) of the wheel \n",
"alpha=2//angular acceleration(in rad/s^2)\n",
"t=10//time(in s) interval\n",
"\n",
"//calculation\n",
"theta=(wzero*t)+(alpha*t*t/2)//equation of angular motion\n",
"n=round(theta/(2*%pi))//number of revolutions\n",
"\n",
"printf('the number of revolutions made by the wheel is %d',n)"
   ]
   }
,
{
		   "cell_type": "markdown",
		   "metadata": {},
		   "source": [
			"## Example 10.22w: calculation_of_the_number_of_revolutions_made_by_the_wheel_per_second.sce"
		   ]
		  },
  {
"cell_type": "code",
	   "execution_count": null,
	   "metadata": {
	    "collapsed": true
	   },
	   "outputs": [],
"source": [
"//developed in windows XP operating system 32bit\n",
"//platform Scilab 5.4.1\n",
"clc;clear;\n",
"//example 10.22w\n",
"//calculation of the number of revolutions made by the wheel per second\n",
"\n",
"//given data\n",
"p=220*10^-2//perimeter(in cm) of the wheel\n",
"v=9*10^3/(60*60)//linear speed(in m/s) of wheel on the road\n",
"\n",
"//calculation\n",
"r=p/(2*%pi)//radius of the wheel\n",
"w=v/r//angular speed\n",
"n=w/(2*%pi)//number of revolutions\n",
"\n",
"printf('the number of revolutions made by the wheel per second is %3.2f rev/s',n)"
   ]
   }
,
{
		   "cell_type": "markdown",
		   "metadata": {},
		   "source": [
			"## Example 10.2: calculation_of_the_time_taken_by_the_fan_to_attain_half_of_the_maximum_speed.sce"
		   ]
		  },
  {
"cell_type": "code",
	   "execution_count": null,
	   "metadata": {
	    "collapsed": true
	   },
	   "outputs": [],
"source": [
"//developed in windows XP operating system 32bit\n",
"//platform Scilab 5.4.1\n",
"clc;clear;\n",
"//example 10.2\n",
"//calculation of the time taken by the fan to attain half of the maximum speed\n",
"\n",
"//given data\n",
"wzero=0//initial angular velocity(in rad/s) of the fan\n",
"w=400*(2*%pi/60)//final angular velocity(in rad/s) of the fan\n",
"t=5//tiem(in s) taken\n",
"\n",
"//calculation\n",
"alpha=(w-wzero)/t//equation of angular motion\n",
"wdash=w/2//half of maximum speed\n",
"t1=(wdash-wzero)/alpha//equation of angular motion\n",
"\n",
"printf('the time taken by the fan to attain half of the maximum speed is %3.1f s',t1)"
   ]
   }
,
{
		   "cell_type": "markdown",
		   "metadata": {},
		   "source": [
			"## Example 10.2w: calculation_of_the_angle_rotated_during_the_next_second.sce"
		   ]
		  },
  {
"cell_type": "code",
	   "execution_count": null,
	   "metadata": {
	    "collapsed": true
	   },
	   "outputs": [],
"source": [
"//developed in windows XP operating system 32bit\n",
"//platform Scilab 5.4.1\n",
"clc;clear;\n",
"//example 10.2w\n",
"//calculation of the angle rotated during the next second\n",
"\n",
"//given data\n",
"theta=2.5//angular displacement(in rad) of the wheel\n",
"t=1//time(in s) required\n",
"\n",
"//calculation\n",
"alpha=(theta*2)/(t*t)//equation of angular motion\n",
"theta1=(alpha*(t+1)*(t+1)/2)//angle rotated during first two seconds\n",
"thetar=theta1-theta//angle rotated during next second\n",
"\n",
"printf('the angle rotated during the next second is %3.1f rad',thetar)"
   ]
   }
,
{
		   "cell_type": "markdown",
		   "metadata": {},
		   "source": [
			"## Example 10.3: calculation_of_the_angular_velocity_and_angular_acceleration_of_the_pulley.sce"
		   ]
		  },
  {
"cell_type": "code",
	   "execution_count": null,
	   "metadata": {
	    "collapsed": true
	   },
	   "outputs": [],
"source": [
"//developed in windows XP operating system 32bit\n",
"//platform Scilab 5.4.1\n",
"clc;clear;\n",
"//example 10.3\n",
"//calculation of the angular velocity and angular acceleration of the pulley \n",
"\n",
"//given data\n",
"v=20//linear speed(in cm/s) of the bucket\n",
"r=10//radius(in cm) of the pulley\n",
"a=4*10^2//linear acceleration(in cm/s^2) of the pulley\n",
"\n",
"//calculation\n",
"w=v/r//formula of angular velocity\n",
"alpha=a/r//formula of angular acceleration\n",
"\n",
"printf('the angular velocity of the pulley is %d rad/s and angular acceleration of the pulley is %d rad/s^2',w,alpha)"
   ]
   }
,
{
		   "cell_type": "markdown",
		   "metadata": {},
		   "source": [
			"## Example 10.3w: calculation_of_the_torque_required_to_stop_the_wheel_in_one_minute.sce"
		   ]
		  },
  {
"cell_type": "code",
	   "execution_count": null,
	   "metadata": {
	    "collapsed": true
	   },
	   "outputs": [],
"source": [
"//developed in windows XP operating system 32bit\n",
"//platform Scilab 5.4.1\n",
"clc;clear;\n",
"//example 10.3w\n",
"//calculation of the torque required to stop the wheel in one minute\n",
"\n",
"//given data\n",
"wzero=50*(2*%pi/60)//initial angular velocity(in rad/s) of the wheel\n",
"w=0//final angular velocity(in rad/s) of the wheel\n",
"t=60//time(in s) taken to stop the wheel\n",
"I=2//moment of inertia(in kg-m^2) of the wheel\n",
"\n",
"//calculation\n",
"alpha=(w-wzero)/t//equation of angular motion\n",
"tau=I*abs(alpha)//torque\n",
"\n",
"printf('the torque required to stop the wheel in one minute is %3.2f N-m',tau)"
   ]
   }
,
{
		   "cell_type": "markdown",
		   "metadata": {},
		   "source": [
			"## Example 10.4w: calculation_of_the_angular_velocity_of_the_wheel.sce"
		   ]
		  },
  {
"cell_type": "code",
	   "execution_count": null,
	   "metadata": {
	    "collapsed": true
	   },
	   "outputs": [],
"source": [
"//developed in windows XP operating system 32bit\n",
"//platform Scilab 5.4.1\n",
"clc;clear;\n",
"//example 10.4w\n",
"//calculation of the angular velocity of the wheel\n",
"\n",
"//given data\n",
"F=20//force(in N) of pull applied\n",
"I=.2//moment of inertia(in kg-m^2)\n",
"r=20*10^-2//radius(in m) of the wheel\n",
"t=5//time(in s) interval\n",
"wzero=0//initial angular velocity(in rad/s) of the wheel \n",
"\n",
"//calculation\n",
"tau=F*r//torque applied to the wheel\n",
"alpha=tau/I//angular acceleration\n",
"w=wzero+(alpha*t)//equation of angular motion\n",
"\n",
"printf('the angular velocity of the wheel after 5 s is %d rad/s',w)"
   ]
   }
,
{
		   "cell_type": "markdown",
		   "metadata": {},
		   "source": [
			"## Example 10.5: calculation_of_the_moment_of_inertia_of_the_wheel.sce"
		   ]
		  },
  {
"cell_type": "code",
	   "execution_count": null,
	   "metadata": {
	    "collapsed": true
	   },
	   "outputs": [],
"source": [
"//developed in windows XP operating system 32bit\n",
"//platform Scilab 5.4.1\n",
"clc;clear;\n",
"//example 10.5\n",
"//calculation of the moment of inertia of the wheel\n",
"\n",
"//given data\n",
"r=10*10^-2//radius(in m) of the wheel\n",
"F=5//force(in N) of pulling\n",
"aplha=2//angular acceleration(in rad/s^2) of the wheel\n",
"\n",
"//calculation\n",
"tau=F*r//net torque\n",
"I=tau/aplha//moment of inertia\n",
"\n",
"printf('the moment of inertia of the wheel is %3.2f kg-m^2',I)"
   ]
   }
,
{
		   "cell_type": "markdown",
		   "metadata": {},
		   "source": [
			"## Example 10.7w: calculation_of_the_position_of_second_kid_on_a_balanced_seesaw.sce"
		   ]
		  },
  {
"cell_type": "code",
	   "execution_count": null,
	   "metadata": {
	    "collapsed": true
	   },
	   "outputs": [],
"source": [
"//developed in windows XP operating system 32bit\n",
"//platform Scilab 5.4.1\n",
"clc;clear;\n",
"//example 10.7w\n",
"//calculation of the position of second kid on a balanced seesaw\n",
"\n",
"//given data\n",
"ma=10//mass(in kg) of kid A\n",
"mb=15//mass(in kg) of kid B\n",
"l=5//length(in m) of the seesaw\n",
"la=(l/2)//distance of A kid from fulcrum as he is sitting at an end\n",
"\n",
"//calculation\n",
"//taking torque about fulcrum...........(mb*g*x) = (ma*g*)\n",
"x=(ma*la)/mb\n",
"\n",
"printf('the second kid should sit at a distance of %3.1f m from the centre',x)"
   ]
   }
,
{
		   "cell_type": "markdown",
		   "metadata": {},
		   "source": [
			"## Example 10.8w: EX10_8w.sce"
		   ]
		  },
  {
"cell_type": "code",
	   "execution_count": null,
	   "metadata": {
	    "collapsed": true
	   },
	   "outputs": [],
"source": [
"//developed in windows XP operating system 32bit\n",
"//platform Scilab 5.4.1\n",
"clc;clear;\n",
"//example 10.8w\n",
"//calculation of the normal force and the frictional force that the floor exerts on the ladder\n",
"\n",
"//given data\n",
"m=10//mass(in kg) of the ladder\n",
"theta=53//angle(in degree) made by the ladder against the vertical wall\n",
"g=9.8//gravitational acceleration(in m/s^2) of the earth\n",
"\n",
"//calculation\n",
"//taking horizontal and vertical components\n",
"//N1 = f........................(1)\n",
"//N2 = W........................(2)\n",
"//taking torque about B\n",
"W=m*g\n",
"N2=W//from equation (2)\n",
"f=(W*sind(theta)/2)/(cosd(theta))//from equation (1)\n",
"\n",
"printf('the normal force that the floor exerts on the ladder is %d N',N2)\n",
"printf('\nthe frictional force that the floor exerts on the ladder is %d N',f)"
   ]
   }
,
{
		   "cell_type": "markdown",
		   "metadata": {},
		   "source": [
			"## Example 10.9w: calculation_of_the_contact_force_exerted_by_the_floor_on_each_leg_of_ladder.sce"
		   ]
		  },
  {
"cell_type": "code",
	   "execution_count": null,
	   "metadata": {
	    "collapsed": true
	   },
	   "outputs": [],
"source": [
"//developed in windows XP operating system 32bit\n",
"//platform Scilab 5.4.1\n",
"clc;clear;\n",
"//example 10.9w\n",
"//calculation of the contact force exerted by the floor on each leg of ladder\n",
"\n",
"//given data\n",
"theta=60//angle(in degree) between the two legs\n",
"m=80//mass(in kg) of the person\n",
"g=9.8//gravitational acceleration(in m/s^2) of the earth\n",
"\n",
"//calculation\n",
"N=m*g/2\n",
"T=(N*2*tand(90-theta))/1\n",
"\n",
"printf('the contact force exerted by the floor on each leg of ladder %d N',N)\n",
"printf('\nthe tension in the crossbar is %d N',T)"
   ]
   }
],
"metadata": {
		  "kernelspec": {
		   "display_name": "Scilab",
		   "language": "scilab",
		   "name": "scilab"
		  },
		  "language_info": {
		   "file_extension": ".sce",
		   "help_links": [
			{
			 "text": "MetaKernel Magics",
			 "url": "https://github.com/calysto/metakernel/blob/master/metakernel/magics/README.md"
			}
		   ],
		   "mimetype": "text/x-octave",
		   "name": "scilab",
		   "version": "0.7.1"
		  }
		 },
		 "nbformat": 4,
		 "nbformat_minor": 0
}
