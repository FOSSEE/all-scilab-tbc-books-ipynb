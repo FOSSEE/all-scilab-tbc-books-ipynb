{
"cells": [
 {
		   "cell_type": "markdown",
	   "metadata": {},
	   "source": [
       "# Chapter 17: Light Waves"
	   ]
	},
{
		   "cell_type": "markdown",
		   "metadata": {},
		   "source": [
			"## Example 17.10w: calculation_of_the_wavelengths_in_the_visible_region_that_are_strongly_reflected.sce"
		   ]
		  },
  {
"cell_type": "code",
	   "execution_count": null,
	   "metadata": {
	    "collapsed": true
	   },
	   "outputs": [],
"source": [
"//developed in windows XP operating system 32bit\n",
"//platform Scilab 5.4.1\n",
"clc;clear;\n",
"//example 17.10w\n",
"//calculation of the wavelengths in the visible region that are strongly reflected\n",
"\n",
"//given data\n",
"d=.5*10^-6//thickness(in m) of the glass plate\n",
"mu=1.5//refractive index of the medium\n",
"lambda1=400*10^-9//minimum wavelength(in m) of the visible region\n",
"lambda2=700*10^-9//maximum wavelength(in m) of the visible region\n",
"\n",
"//calculation\n",
"//condition for strong reflection of light of wavelength lambda is \n",
"//2*mu*d = (n + (1/2))*lambda............(1)\n",
"n1=round((2*mu*d/lambda1)-(1/2))//integral value of n for lambda1\n",
"n2=round((2*mu*d/lambda2)-(1/2))//integral value of n for lambda2\n",
"lambda1n=(2*mu*d)/(n1+(1/2))//from equation (1)\n",
"lambda2n=(2*mu*d)/(n2+(1/2))//from equation (1)\n",
"\n",
"printf('the wavelengths in the visible region that are strongly reflected are %d nm and %d nm',round(lambda1n*10^9),round(lambda2n*10^9))"
   ]
   }
,
{
		   "cell_type": "markdown",
		   "metadata": {},
		   "source": [
			"## Example 17.11w: calculation_of_the_distance_between_the_two_first_order_minima.sce"
		   ]
		  },
  {
"cell_type": "code",
	   "execution_count": null,
	   "metadata": {
	    "collapsed": true
	   },
	   "outputs": [],
"source": [
"//developed in windows XP operating system 32bit\n",
"//platform Scilab 5.4.1\n",
"clc;clear;\n",
"//example 17.11w\n",
"//calculation of the distance between the two first order minima\n",
"\n",
"//given data\n",
"b=.40*10^-3//width(in m) of the slit\n",
"D=40*10^-2//separation(in m) between the slit and the screen\n",
"lambda=546*10^-9//wavelength(in m) of the light used\n",
"\n",
"//calculation\n",
"//linear distances from the central maxima are given by..x = D*tan(theta) = D*sin(theta) = +-lambda*D/b\n",
"sep=2*lambda*D/b//separation between the minima\n",
"\n",
"printf('the distance between the two first order minima is %3.1f mm',sep*10^3)"
   ]
   }
,
{
		   "cell_type": "markdown",
		   "metadata": {},
		   "source": [
			"## Example 17.1: calculation_of_the_speed_of_light_in_glass.sce"
		   ]
		  },
  {
"cell_type": "code",
	   "execution_count": null,
	   "metadata": {
	    "collapsed": true
	   },
	   "outputs": [],
"source": [
"//developed in windows XP operating system 32bit\n",
"//platform Scilab 5.4.1\n",
"clc;clear;\n",
"//example 17.1\n",
"//calculation of the speed of light in glass\n",
"\n",
"//given data\n",
"mu=1.5//refractive index of glass\n",
"v0=3*10^8//speed(in m/s) of light in vacuum\n",
"\n",
"//calculation\n",
"v=v0/mu//definition of the refractive index\n",
"\n",
"printf('the speed of light in glass is %3.1e m/s',v)"
   ]
   }
,
{
		   "cell_type": "markdown",
		   "metadata": {},
		   "source": [
			"## Example 17.1w: calculation_of_the_limits_of_wavelengths_in_the_water.sce"
		   ]
		  },
  {
"cell_type": "code",
	   "execution_count": null,
	   "metadata": {
	    "collapsed": true
	   },
	   "outputs": [],
"source": [
"//developed in windows XP operating system 32bit\n",
"//platform Scilab 5.4.1\n",
"clc;clear;\n",
"//example 17.1w\n",
"//calculation of the limits of wavelengths in the water\n",
"\n",
"//given data\n",
"lambda01=400//mimimum wavelength(in nm) of the light used\n",
"lambda02=700//maximum wavelength(in nm) of the light used\n",
"mu=1.33//refractive index of water\n",
"\n",
"//calculation\n",
"lambda1=lambda01/mu//definition of the refractive index\n",
"lambda2=lambda02/mu//definition of the refractive index\n",
"\n",
"printf('the limits of wavelengths in the water are %d nm and %d nm',lambda1,lambda2)"
   ]
   }
,
{
		   "cell_type": "markdown",
		   "metadata": {},
		   "source": [
			"## Example 17.2: calculation_of_the_separation_between_successive_bright_fringes.sce"
		   ]
		  },
  {
"cell_type": "code",
	   "execution_count": null,
	   "metadata": {
	    "collapsed": true
	   },
	   "outputs": [],
"source": [
"//developed in windows XP operating system 32bit\n",
"//platform Scilab 5.4.1\n",
"clc;clear;\n",
"//example 17.2\n",
"//calculation of the separation between successive bright fringes\n",
"\n",
"//given data\n",
"d=0.10*10^-3//separation(in m) between the slits\n",
"lambda=600*10^-9//wavelength(in m) of the light used\n",
"D=1//separation(in m) between the slits and the screen\n",
"\n",
"//calculation\n",
"w=D*lambda/d//separation between successive bright fringes\n",
"\n",
"printf('the separation between successive bright fringes is %3.1e m or %3.1f mm',w,w*10^3)"
   ]
   }
,
{
		   "cell_type": "markdown",
		   "metadata": {},
		   "source": [
			"## Example 17.2w: calculation_of_the_refractive_index_of_the_glass.sce"
		   ]
		  },
  {
"cell_type": "code",
	   "execution_count": null,
	   "metadata": {
	    "collapsed": true
	   },
	   "outputs": [],
"source": [
"//developed in windows XP operating system 32bit\n",
"//platform Scilab 5.4.1\n",
"clc;clear;\n",
"//example 17.2w\n",
"//calculation of the refractive index of the glass\n",
"\n",
"//given data\n",
"x1=2//distance(in cm)travelled through the glass\n",
"x2=2.25//distance(in cm)travelled through the water\n",
"muw=1.33//refractive index of water\n",
"\n",
"//calculation\n",
"//for 'x' distance travelled through a medium of refractive index 'mu',the optical path is 'mu*x'\n",
"mug=muw*x2/x1//refractive index of glass\n",
"\n",
"printf('the refractive index of the glass is %3.2f',mug)"
   ]
   }
,
{
		   "cell_type": "markdown",
		   "metadata": {},
		   "source": [
			"## Example 17.3: calculation_of_the_wavelength_of_light_in_the_water.sce"
		   ]
		  },
  {
"cell_type": "code",
	   "execution_count": null,
	   "metadata": {
	    "collapsed": true
	   },
	   "outputs": [],
"source": [
"//developed in windows XP operating system 32bit\n",
"//platform Scilab 5.4.1\n",
"clc;clear;\n",
"//example 17.3\n",
"//calculation of the wavelength of light in the water \n",
"\n",
"//given data\n",
"lambdan=589//wavelength(in nm) of light in vacuum\n",
"mu=1.33//refractive index of water\n",
"\n",
"//calculation\n",
"lambda=lambdan/mu//definition of the refractive index\n",
"\n",
"printf('the wavelength of light in the water is %d nm',round(lambda))"
   ]
   }
,
{
		   "cell_type": "markdown",
		   "metadata": {},
		   "source": [
			"## Example 17.3w: EX17_3w.sce"
		   ]
		  },
  {
"cell_type": "code",
	   "execution_count": null,
	   "metadata": {
	    "collapsed": true
	   },
	   "outputs": [],
"source": [
"//developed in windows XP operating system 32bit\n",
"//platform Scilab 5.4.1\n",
"clc;clear;\n",
"//example 17.3w\n",
"//calculation of the wavelengths of the violet and the red light\n",
"\n",
"//given data\n",
"D=2.5//separation(in m) between the slit and the screen\n",
"d=0.5*10^-3//separation(in m) between the slits\n",
"yv=2*10^-3//distance(in m) between the central white fringe and the first violet fringe\n",
"yr=3.5*10^-3//distance(in m) between the central white fringe and the first red fringe\n",
"\n",
"//calculation\n",
"lambdav=yv*d/D//wavelength of the violet light\n",
"lambdar=yr*d/D//wavelength of the red light\n",
"\n",
"printf('the wavelength of the violet light is %d nm',lambdav*10^9)\n",
"printf('\nthe wavelength of the red light is %d nm',lambdar*10^9)"
   ]
   }
,
{
		   "cell_type": "markdown",
		   "metadata": {},
		   "source": [
			"## Example 17.4: calculation_of_the_minimum_thickness_of_the_film.sce"
		   ]
		  },
  {
"cell_type": "code",
	   "execution_count": null,
	   "metadata": {
	    "collapsed": true
	   },
	   "outputs": [],
"source": [
"//developed in windows XP operating system 32bit\n",
"//platform Scilab 5.4.1\n",
"clc;clear;\n",
"//example 17.4\n",
"//calculation of the minimum thickness of the film\n",
"\n",
"//given data\n",
"lambda=589//wavelength(in nm) of the light used\n",
"mu=1.25//refractive index of the material\n",
"\n",
"//calculation\n",
"//for strong reflection......2*mu*d = lambda/2\n",
"d=lambda/(4*mu)//minimum thickness\n",
"\n",
"printf('the minimum thickness of the film is %d nm',round(d))"
   ]
   }
,
{
		   "cell_type": "markdown",
		   "metadata": {},
		   "source": [
			"## Example 17.4w: calculation_of_the_separation_between_the_slits.sce"
		   ]
		  },
  {
"cell_type": "code",
	   "execution_count": null,
	   "metadata": {
	    "collapsed": true
	   },
	   "outputs": [],
"source": [
"//developed in windows XP operating system 32bit\n",
"//platform Scilab 5.4.1\n",
"clc;clear;\n",
"//example 17.4w\n",
"//calculation of the separation between the slits\n",
"\n",
"//given data\n",
"lambda=589.3*10^-9//wavelength(in m) of the sodium light\n",
"D=100*10^-2//separation(in m) between the slit and the screen\n",
"n=10//number of the bright fringe\n",
"x=12*10^-3//distance(in m) between the central maximum and the tenth bright fringe\n",
"\n",
"//calculation\n",
"d=n*lambda*D/x//separation between the slits\n",
"\n",
"printf('the separation between the slits is %3.1e m or %3.2f mm',d,d*10^3)"
   ]
   }
,
{
		   "cell_type": "markdown",
		   "metadata": {},
		   "source": [
			"## Example 17.5: calculation_of_the_angular_divergence_for_most_of_the_light_getting_diffracted.sce"
		   ]
		  },
  {
"cell_type": "code",
	   "execution_count": null,
	   "metadata": {
	    "collapsed": true
	   },
	   "outputs": [],
"source": [
"//developed in windows XP operating system 32bit\n",
"//platform Scilab 5.4.1\n",
"clc;clear;\n",
"//example 17.5\n",
"//calculation of the angular divergence for most of the light getting diffracted\n",
"\n",
"//given data\n",
"lambda=450*10^-9//wavelength(in m) of the light used\n",
"b=0.2*10^-3//width(in m) of the slit\n",
"\n",
"//calculation\n",
"//for theta tends to zero......sin(theta) = theta\n",
"theta1=lambda/b//angle of minima\n",
"theta2=-lambda/b//angle of minima\n",
"theta=theta1-theta2//angular divergence\n",
"\n",
"printf('the angular divergence for most of the light getting diffracted is %3.1e radian',theta)"
   ]
   }
,
{
		   "cell_type": "markdown",
		   "metadata": {},
		   "source": [
			"## Example 17.5w: EX17_5w.sce"
		   ]
		  },
  {
"cell_type": "code",
	   "execution_count": null,
	   "metadata": {
	    "collapsed": true
	   },
	   "outputs": [],
"source": [
"//developed in windows XP operating system 32bit\n",
"//platform Scilab 5.4.1\n",
"clc;clear;\n",
"//example 17.5w\n",
"//calculation of the ratio of maximum intensity to the minimum intensity in the interference fringe pattern\n",
"\n",
"//given data\n",
"//intensity of the light coming from one slit in Young's double slit experiment is double the intensity of the light coming from the other slit\n",
"n=2\n",
"\n",
"//calculation\n",
"r=((sqrt(n)+1)^2)/((sqrt(n)-1)^2)//required ratio\n",
"\n",
"printf('the ratio of maximum intensity to the minimum intensity in the interference fringe pattern is %d',round(r))"
   ]
   }
,
{
		   "cell_type": "markdown",
		   "metadata": {},
		   "source": [
			"## Example 17.6: calculation_of_the_diameter_of_the_disc_image.sce"
		   ]
		  },
  {
"cell_type": "code",
	   "execution_count": null,
	   "metadata": {
	    "collapsed": true
	   },
	   "outputs": [],
"source": [
"//developed in windows XP operating system 32bit\n",
"//platform Scilab 5.4.1\n",
"clc;clear;\n",
"//example 17.6\n",
"//calculation of the diameter of the disc image\n",
"\n",
"//given data\n",
"lambda=590*10^-9//wavelength(in m) of the light used\n",
"b=10*10^-2//diameter(in m) of the converging lens used\n",
"d=20//distance(in m) between the lens and the point of focus\n",
"\n",
"//calculation\n",
"sintheta=1.22*lambda/b//angular radius\n",
"r=d*sintheta//radius of the disc image\n",
"d=2*r//diameter of the disc image\n",
"\n",
"printf('the diameter of the disc image is %3.1e cm',d)"
   ]
   }
,
{
		   "cell_type": "markdown",
		   "metadata": {},
		   "source": [
			"## Example 17.6w: EX17_6w.sce"
		   ]
		  },
  {
"cell_type": "code",
	   "execution_count": null,
	   "metadata": {
	    "collapsed": true
	   },
	   "outputs": [],
"source": [
"//developed in windows XP operating system 32bit\n",
"//platform Scilab 5.4.1\n",
"clc;clear;\n",
"//example 17.6w\n",
"//calculation of the ratio of maximum intensity to the minimum intensity in the interference pattern\n",
"\n",
"//given data\n",
"//width of one slit in Young's double slit experiment is double that of the other\n",
"n=2\n",
"\n",
"//calculation\n",
"r=((n+1)^2)/((n-1)^2)//required ratio\n",
"\n",
"printf('the ratio of maximum intensity to the minimum intensity in the interference pattern is %d',r)"
   ]
   }
,
{
		   "cell_type": "markdown",
		   "metadata": {},
		   "source": [
			"## Example 17.7w: calculation_of_the_maximum_and_the_minimum_path_difference_at_the_detector.sce"
		   ]
		  },
  {
"cell_type": "code",
	   "execution_count": null,
	   "metadata": {
	    "collapsed": true
	   },
	   "outputs": [],
"source": [
"//developed in windows XP operating system 32bit\n",
"//platform Scilab 5.4.1\n",
"clc;clear;\n",
"//example 17.7w\n",
"//calculation of the maximum and the minimum path difference at the detector \n",
"\n",
"//given data\n",
"lambda=600*10^-9//wavelength(in m) of the light \n",
"d=1*10^-2*10^-2//distance(in m) between the sources\n",
"\n",
"//calculation\n",
"pdmax=d//path diffrence maximum\n",
"pdmin=0//path diffrence minimum\n",
"//farthest minima occurs for path difference lambda/2\n",
"//sqrt(D^2 + d^2) - D = lambda/2\n",
"D=(d^2/lambda)-(lambda/4)//distance of the farthest minima\n",
"\n",
"printf('the maximum path difference on moving the detector along S1P line is %3.1e cm',pdmax*10^2)\n",
"printf('\nthe minimum path difference on moving the detector along S1P line is %3.1f cm',pdmin*10^2)\n",
"printf('\nthe farthest minimum is located at a distance of %3.1f cm from the point S1',D*10^2)"
   ]
   }
,
{
		   "cell_type": "markdown",
		   "metadata": {},
		   "source": [
			"## Example 17.8w: calculation_of_the_distance_of_bright_fringe_from_the_central_maximum.sce"
		   ]
		  },
  {
"cell_type": "code",
	   "execution_count": null,
	   "metadata": {
	    "collapsed": true
	   },
	   "outputs": [],
"source": [
"//developed in windows XP operating system 32bit\n",
"//platform Scilab 5.4.1\n",
"clc;clear;\n",
"//example 17.8w\n",
"//calculation of the distance of bright fringe from the central maximum\n",
"\n",
"//given data\n",
"lambda1=6500*10^-10//wavelength(in m) of the light beam1\n",
"lambda2=5200*10^-10//wavelength(in m) of the light beam2\n",
"d=2.0*10^-3//separation(in m) between the slits\n",
"D=120*10^-2//separation(in m) between the slits and the screen\n",
"n=3//number of the bright fringe\n",
"\n",
"//calculation\n",
"y=n*lambda1*D/d//the distance of bright fringe from the central maximum\n",
"//from the equation of the distance of bright fringe from the central maximum.....y=n*lambda*D/d\n",
"//let m th bright fringe of beam 1 coincides with n th bright fringe of beam 2\n",
"//ym = yn\n",
"//m : n = 4 : 5.....is their minimum integral ratio\n",
"m=4\n",
"ym=m*lambda1*D/d//least distance from the central maximum where both wavelengths coincides\n",
"printf('the distance of the third bright fringe from the central maximum is %3.2f cm',y*10^2)\n",
"printf('\nthe least distance from the central maximum where both the wavelengths coincides is %3.2f cm',ym*10^2)"
   ]
   }
,
{
		   "cell_type": "markdown",
		   "metadata": {},
		   "source": [
			"## Example 17.9w: EX17_9w.sce"
		   ]
		  },
  {
"cell_type": "code",
	   "execution_count": null,
	   "metadata": {
	    "collapsed": true
	   },
	   "outputs": [],
"source": [
"//developed in windows XP operating system 32bit\n",
"//platform Scilab 5.4.1\n",
"clc;clear;\n",
"//example 17.9w\n",
"//calculation of the number of fringes that will shift due to introduction of the sheet\n",
"\n",
"//given data\n",
"lambda=600*10^-9//wavelength(in m) of the light used\n",
"t=1.8*10^-5//thickness(in m) of the transparent sheet\n",
"mu=1.6//refractive index of the material\n",
"\n",
"//calculation\n",
"n=((mu-1)*t)/lambda//number of fringes shifted\n",
"\n",
"printf('the number of fringes that will shift due to introduction of the sheet is %d',n)"
   ]
   }
],
"metadata": {
		  "kernelspec": {
		   "display_name": "Scilab",
		   "language": "scilab",
		   "name": "scilab"
		  },
		  "language_info": {
		   "file_extension": ".sce",
		   "help_links": [
			{
			 "text": "MetaKernel Magics",
			 "url": "https://github.com/calysto/metakernel/blob/master/metakernel/magics/README.md"
			}
		   ],
		   "mimetype": "text/x-octave",
		   "name": "scilab",
		   "version": "0.7.1"
		  }
		 },
		 "nbformat": 4,
		 "nbformat_minor": 0
}
