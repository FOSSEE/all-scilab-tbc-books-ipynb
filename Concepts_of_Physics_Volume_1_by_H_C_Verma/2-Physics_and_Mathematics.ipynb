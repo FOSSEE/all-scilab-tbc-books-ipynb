{
"cells": [
 {
		   "cell_type": "markdown",
	   "metadata": {},
	   "source": [
       "# Chapter 2: Physics and Mathematics"
	   ]
	},
{
		   "cell_type": "markdown",
		   "metadata": {},
		   "source": [
			"## Example 2.10: calculation_of_round_off_value_upto_three_digits.sce"
		   ]
		  },
  {
"cell_type": "code",
	   "execution_count": null,
	   "metadata": {
	    "collapsed": true
	   },
	   "outputs": [],
"source": [
"//developed in windows XP operating system 32bit\n",
"//platform Scilab 5.4.1\n",
"clc;clear;\n",
"//example 2.10\n",
"//calculation of round off value upto three digits.\n",
"\n",
"//given data\n",
"a=15462\n",
"b=14.745\n",
"c=14.750\n",
"d=14.650*10^12\n",
"\n",
"//calculation\n",
"//since round off upto three digit is required, we have to sort the numerics with the number of significant figures i.e. 3\n",
"na=15500\n",
"nb=14.7\n",
"nc=14.8\n",
"nd=14.6*10^12\n",
"\n",
"printf('the value of %f rounded upto three significant digits is %d',a,na);\n",
"printf('\nthe value of %f rounded upto three significant digits is %3.2f',b,nb);\n",
"printf('\nthe value of %f rounded upto three significant digits is %3.2f',c,nc);\n",
"printf('\nthe value of %3.4e rounded upto three significant digits is %3.2e',d,nd);"
   ]
   }
,
{
		   "cell_type": "markdown",
		   "metadata": {},
		   "source": [
			"## Example 2.10w: calculation_of_value_of_the_given_scalar.sce"
		   ]
		  },
  {
"cell_type": "code",
	   "execution_count": null,
	   "metadata": {
	    "collapsed": true
	   },
	   "outputs": [],
"source": [
"//developed in windows XP operating system 32bit\n",
"//platform Scilab 5.4.1\n",
"clc;clear;\n",
"//example 2.10w\n",
"//calculation of value of the given scalar\n",
"\n",
"//given data\n",
"ax=2; //xcomponent of A vector\n",
"ay=-3; //ycomponent of A vector\n",
"az=7; //zcomponent of A vector\n",
"\n",
"bx=1; //xcomponent of B vector\n",
"by=0; //ycomponent of B vector\n",
"bz=2; //zcomponent of B vector\n",
"\n",
"cx=1; //xcomponent of C vector\n",
"cy=0; //ycomponent of C vector\n",
"cz=2; //zcomponent of C vector\n",
"\n",
"//calculation\n",
"//D=B*C\n",
"dx=(by*cz)-(cy*bz);\n",
"dy=-((bx*cz)-(cx*bz));\n",
"dz=(bx*cy)-(cx*by);\n",
"\n",
"//R=A.(B*C)\n",
"R=(ax*dx)+(ay*dy)+(az*dz);\n",
"\n",
"disp(R,'value of the given scalar is'); "
   ]
   }
,
{
		   "cell_type": "markdown",
		   "metadata": {},
		   "source": [
			"## Example 2.11: calculation_of_value.sce"
		   ]
		  },
  {
"cell_type": "code",
	   "execution_count": null,
	   "metadata": {
	    "collapsed": true
	   },
	   "outputs": [],
"source": [
"//developed in windows XP operating system 32bit\n",
"//platform Scilab 5.4.1\n",
"clc;clear;\n",
"//example 2.11\n",
"//calculation of value\n",
"\n",
"//given data\n",
"x=25.2;\n",
"y=1374;\n",
"z=33.3;\n",
"\n",
"//calculation\n",
"temp=(x*y)/z\n",
"//since x,z has three significant figures and y has four significant figures\n",
"//we have to sort the answer with the minimum number of significant figures i.e. 3\n",
"//results into temp=1039.7838   we need to consider only 3 significant figures, hence\n",
"\n",
"ntemp=1040\n",
"\n",
"printf('value is %f,considering only 2 significant figures value is %d',temp,ntemp);"
   ]
   }
,
{
		   "cell_type": "markdown",
		   "metadata": {},
		   "source": [
			"## Example 2.11w: calculation_of_change_in_volume_of_sphere_as_radius_is_changed.sce"
		   ]
		  },
  {
"cell_type": "code",
	   "execution_count": null,
	   "metadata": {
	    "collapsed": true
	   },
	   "outputs": [],
"source": [
"//developed in windows XP operating system 32bit\n",
"//platform Scilab 5.4.1\n",
"clc;clear;\n",
"//example 2.11w\n",
"//calculation of change in volume of sphere as radius is changed\n",
"\n",
"//given data\n",
"R=20; //initial radius(in cm) of sphere \n",
"Rdash=20.1; //final radius(in cm) of sphere\n",
"function v=f(R)\n",
"    v=(4*%pi*R^3)/3;\n",
"endfunction\n",
"\n",
"//calculation\n",
"function v=f(R)\n",
"    v=(4*%pi*R^3)/3;\n",
"endfunction\n",
"\n",
"deltaR=Rdash-R;\n",
"deltav=(derivative(f,R))*deltaR\n",
"\n",
"disp(deltav,'the change in volume(in cm cube) of sphere is')"
   ]
   }
,
{
		   "cell_type": "markdown",
		   "metadata": {},
		   "source": [
			"## Example 2.12: calculation_of_value.sce"
		   ]
		  },
  {
"cell_type": "code",
	   "execution_count": null,
	   "metadata": {
	    "collapsed": true
	   },
	   "outputs": [],
"source": [
"//developed in windows XP operating system 32bit\n",
"//platform Scilab 5.4.1\n",
"clc;clear;\n",
"//example 2.18w\n",
"//calculation of value\n",
"\n",
"//given data\n",
"x=24.36;\n",
"y=0.0623;\n",
"z=256.2;\n",
"\n",
"//calculation\n",
"\n",
"//since after point the value of z is in one digit,thus consider only one digit after point.\n",
"//the other values can be thus written as\n",
"x=24.4;\n",
"y=.1;\n",
"z=256.2;\n",
"\n",
"temp=x+y+z\n",
"printf('the value is %3.1f',temp);"
   ]
   }
,
{
		   "cell_type": "markdown",
		   "metadata": {},
		   "source": [
			"## Example 2.13: calculation_of_average_focal_length_of_concave_mirror_considering_uncertainity.sce"
		   ]
		  },
  {
"cell_type": "code",
	   "execution_count": null,
	   "metadata": {
	    "collapsed": true
	   },
	   "outputs": [],
"source": [
"//developed in windows XP operating system 32bit\n",
"//platform Scilab 5.4.1\n",
"clc;clear;\n",
"//example 2.13\n",
"//calculation of average focal length of concave mirror considering uncertainity\n",
"\n",
"//given data\n",
"fi=[25.4 25.2 25.6 25.1 25.3 25.2 25.5 25.4 25.3 25.7]; //focal length(in cm)\n",
"N=length(fi);\n",
"\n",
"//calculation\n",
"fbar=mean(fi) //average of fi\n",
"fnew=fi-fbar;\n",
"sfnew=sum(fnew.*fnew)\n",
"sigma=sqrt(sfnew/N) //uncertainity(in cm) in focal length\n",
"\n",
"printf('the focal length of the given concave mirror(in cm) is %f or %f',fbar+sigma,fbar-sigma);"
   ]
   }
,
{
		   "cell_type": "markdown",
		   "metadata": {},
		   "source": [
			"## Example 2.13w: calculation_of_maximum_and_minimum_value_of_a_given_function.sce"
		   ]
		  },
  {
"cell_type": "code",
	   "execution_count": null,
	   "metadata": {
	    "collapsed": true
	   },
	   "outputs": [],
"source": [
"//developed in windows XP operating system 32bit\n",
"//platform Scilab 5.4.1\n",
"clc;clear;\n",
"//example 2.13w\n",
"//calculation of maximum and minimum value of a given function\n",
"\n",
"//given data\n",
"function y=f(x)\n",
"    y=x+(1/x);\n",
"endfunction\n",
"\n",
"//calculation\n",
"//dy/dx=1-(1/x^2)=0 for maximum or minimum\n",
"//x=1 or -1\n",
"//at x=0 y=infinite is maximum value\n",
"//minimum value of y at x=1\n",
"ymin=f(1);\n",
"\n",
"disp(ymin,'maximum value of given function is infinite and minimum value is ')\n",
""
   ]
   }
,
{
		   "cell_type": "markdown",
		   "metadata": {},
		   "source": [
			"## Example 2.14w: calculation_of_the_area_under_curve.sce"
		   ]
		  },
  {
"cell_type": "code",
	   "execution_count": null,
	   "metadata": {
	    "collapsed": true
	   },
	   "outputs": [],
"source": [
"//developed in windows XP operating system 32bit\n",
"//platform Scilab 5.4.1\n",
"clc;clear;\n",
"//example 2.14w\n",
"//calculation of the area under curve\n",
"\n",
"//given data\n",
"function y=f(x)\n",
"    y=x*x;\n",
"endfunction\n",
"\n",
"//calculation\n",
"A=integrate('f','x',0,6)\n",
"\n",
"disp(A,'the area under curve is')"
   ]
   }
,
{
		   "cell_type": "markdown",
		   "metadata": {},
		   "source": [
			"## Example 2.18w: calculation_of_value.sce"
		   ]
		  },
  {
"cell_type": "code",
	   "execution_count": null,
	   "metadata": {
	    "collapsed": true
	   },
	   "outputs": [],
"source": [
"//developed in windows XP operating system 32bit\n",
"//platform Scilab 5.4.1\n",
"clc;clear;\n",
"//example 2.18w\n",
"//calculation of value\n",
"\n",
"//given data\n",
"x=21.6003;\n",
"y=234;\n",
"z=2732.10;\n",
"a=13;\n",
"\n",
"//calculation\n",
"//since a has least significant figures that is 2, we have to sort the other numerics with the same number of significant figures i.e. 2\n",
"x=22;\n",
"y=234;\n",
"z=2732;\n",
"a=13;\n",
"temp=(x+y+z)*13\n",
"//results into temp=38844. Again we need to consider only 2 significant figures, hence\n",
"ntemp=39000\n",
"\n",
"printf('value is %d,considering only 2 significant figures value is %d',temp,ntemp);"
   ]
   }
,
{
		   "cell_type": "markdown",
		   "metadata": {},
		   "source": [
			"## Example 2.1w: calculation_of_magnitude_and_direction_of_vector.sce"
		   ]
		  },
  {
"cell_type": "code",
	   "execution_count": null,
	   "metadata": {
	    "collapsed": true
	   },
	   "outputs": [],
"source": [
"//developed in windows XP operating system 32bit\n",
"//platform Scilab 5.4.1\n",
"clc;clear;\n",
"//example 2.1w\n",
"//calculation of magnitude and direction of vector\n",
"\n",
"//given data\n",
"xcomp=25; //value of component along X axis\n",
"ycomp=60; //value of component along Y axis\n",
"theta=90; //angle between X and Y axis\n",
"\n",
"//calculation\n",
"A=sqrt((xcomp*xcomp)+(ycomp*ycomp)+(2*xcomp*ycomp*cosd(theta)));\n",
"alpha=atand(ycomp/xcomp);\n",
"\n",
"disp(A,'magnitude of the vector is');\n",
"disp(alpha,'direction of the vector is');\n",
""
   ]
   }
,
{
		   "cell_type": "markdown",
		   "metadata": {},
		   "source": [
			"## Example 2.2: calculation_of_sum_of_vectors_and_difference_of_the_vectors.sce"
		   ]
		  },
  {
"cell_type": "code",
	   "execution_count": null,
	   "metadata": {
	    "collapsed": true
	   },
	   "outputs": [],
"source": [
"//developed in windows XP operating system 32bit\n",
"//platform Scilab 5.4.1\n",
"clc;clear;\n",
"//example 2.2\n",
"//calculation of sum of vectors and difference of the vectors\n",
"\n",
"//given data\n",
"A=5; //magnitude(in unit) of A vector\n",
"B=5; //magnitude(in unit) of B vector\n",
"theta=60; // angle(in degree) between both vectors\n",
"\n",
"\n",
"//calculation\n",
"C=sqrt((A*A)+(B*B)+(2*A*B*cosd(theta))); //C=|A+B| sum of two vectors\n",
"thetas=180-theta; //for difference(subtraction) reverse direction of a vector and add it to other\n",
"D=sqrt((A*A)+(B*B)+(2*A*B*cosd(thetas))); //D=|A-B| difference of two vectors\n",
"\n",
"disp(C,'the sum of two vectors(in unit) is');\n",
"disp(D,'the difference of two vectors(in unit) is');"
   ]
   }
,
{
		   "cell_type": "markdown",
		   "metadata": {},
		   "source": [
			"## Example 2.2w: calculation_of_resultant_of_three_vectors.sce"
		   ]
		  },
  {
"cell_type": "code",
	   "execution_count": null,
	   "metadata": {
	    "collapsed": true
	   },
	   "outputs": [],
"source": [
"//developed in windows XP operating system 32bit\n",
"//platform Scilab 5.4.1\n",
"clc;clear;\n",
"//example 2.2w\n",
"//calculation of resultant of three vectors\n",
"\n",
"//given data\n",
"theta1=37; //value of angle(in degree) of first vector with X axis\n",
"theta2=0; //value of angle(in degree) of second vector with X axis\n",
"theta3=90; //value of angle(in degree) of third vector with X axis\n",
"x=5; //magnitude(in m) of first vector\n",
"y=3; //magnitude(in m) of second vector\n",
"z=2; //magnitude(in m) of third vector\n",
"\n",
"//calculation\n",
"xcomp1=x*cosd(theta1); //xcomponent(in m) of first vector\n",
"ycomp1=x*sind(theta1);//ycomponent(in m) of first vector\n",
"xcomp2=y*cosd(theta2);//xcomponent(in m) of second vector\n",
"ycomp2=y*sind(theta2);//ycomponent(in m) of second vector\n",
"xcomp3=z*cosd(theta3);//xcomponent(in m) of third vector\n",
"ycomp3=z*sind(theta3);//ycomponent(in m) of third vector\n",
"\n",
"xcompr=xcomp1+xcomp2+xcomp3; //xcomponent(in m) of resultant vector\n",
"ycompr=ycomp1+ycomp2+ycomp3; //ycomponent(in m) of resultant vector\n",
"\n",
"r=sqrt((xcompr*xcompr)+(ycompr*ycompr)); //magnitude(in m) of resultant vector\n",
"theta=atand(ycompr/xcompr); //value of angle(in degree) of resultant vector with X axis\n",
"\n",
"disp(r,'magnitude(in m) of resultant vector is');\n",
"disp(theta,'value of angle(in degree) of resultant vector with X axis');"
   ]
   }
,
{
		   "cell_type": "markdown",
		   "metadata": {},
		   "source": [
			"## Example 2.3: calculation_of_component_of_force_in_vertical_direction.sce"
		   ]
		  },
  {
"cell_type": "code",
	   "execution_count": null,
	   "metadata": {
	    "collapsed": true
	   },
	   "outputs": [],
"source": [
"//developed in windows XP operating system 32bit\n",
"//platform Scilab 5.4.1\n",
"clc;clear;\n",
"//example 2.3\n",
"//calculation of component of force in vertical direction\n",
"\n",
"//given data\n",
"F=10.5 //force(in newton) acting on the particle\n",
"theta=37 //angle(in degree) at which force acts\n",
"\n",
"//calculation\n",
"Fp=F*cosd(theta); //component of force in vertical direction\n",
"\n",
"disp(Fp,'component of force(in newton) in vertical direction is');"
   ]
   }
,
{
		   "cell_type": "markdown",
		   "metadata": {},
		   "source": [
			"## Example 2.3w: calculation_of_resultant_of_the_vectors.sce"
		   ]
		  },
  {
"cell_type": "code",
	   "execution_count": null,
	   "metadata": {
	    "collapsed": true
	   },
	   "outputs": [],
"source": [
"//developed in windows XP operating system 32bit\n",
"//platform Scilab 5.4.1\n",
"clc;clear;\n",
"//example 2.3w\n",
"//calculation of resultant of the vectors\n",
"\n",
"//given data\n",
"//theta1=90; value of angle(in degree) of OA vector\n",
"//theta2=0; value of angle(in degree) of OB vector\n",
"//theta3=135; value of angle(in degree) of OC vector\n",
"OA=5; //magnitude(in m) of OA vector\n",
"//OB=magnitude(in m) of OB vector\n",
"//OC=magnitude(in m) of OC vector\n",
"\n",
"//calculation\n",
"//xcomp1=0; xcomponent(in m) of OA vector\n",
"//ycomp1=-OA; ycomponent(in m) of OA vector\n",
"//xcomp2=OB; xcomponent(in m) of OB vector\n",
"//ycomp2=0; ycomponent(in m) of OB vector\n",
"//xcomp3=(-1/sqrt(2))*OC; xcomponent(in m) of OC vector\n",
"//ycomp3=(1/sqrt(2))*OC;ycomponent(in m) of OC vector\n",
"\n",
"//xcompr=OB-((1/sqrt(2))*OC); xcomponent(in m) of resultant vector=0(given)     (1)\n",
"//therefore OB=((1/sqrt(2))*OC)                                                 (2)\n",
"//ycompr=((1/sqrt(2))*OC)-OA; ycomponent(in m) of resultant vector\n",
"//((1/sqrt(2))*OC)=OA                                                           (3)\n",
"\n",
"OC=sqrt(2)*OA; //from equation (3)\n",
"OB=((1/sqrt(2))*OC) //from equation(2)\n",
"\n",
"disp(OC,'magnitude(in m) of OC vector is');\n",
"disp(OB,'magnitude(in m) of OB vector is');"
   ]
   }
,
{
		   "cell_type": "markdown",
		   "metadata": {},
		   "source": [
			"## Example 2.4: calculation_of_work_done_by_the_force_during_displacement.sce"
		   ]
		  },
  {
"cell_type": "code",
	   "execution_count": null,
	   "metadata": {
	    "collapsed": true
	   },
	   "outputs": [],
"source": [
"//developed in windows XP operating system 32bit\n",
"//platform Scilab 5.4.1\n",
"clc;clear;\n",
"//example 2.4\n",
"//calculation of work done by the force during displacement\n",
"\n",
"//given data\n",
"F=12; //force(in newton) acting on the particle\n",
"r=2; //displacement(in m) of the particle\n",
"theta=180; //angle(in degree) between force and displacement\n",
"\n",
"//calculation\n",
"W=F*r*cosd(theta);//formula of work done\n",
"\n",
"disp(W,'work done(in J) by the force,during the given displacement is');"
   ]
   }
,
{
		   "cell_type": "markdown",
		   "metadata": {},
		   "source": [
			"## Example 2.4w: calculation_of_direction_of_resultant_vector.sce"
		   ]
		  },
  {
"cell_type": "code",
	   "execution_count": null,
	   "metadata": {
	    "collapsed": true
	   },
	   "outputs": [],
"source": [
"//developed in windows XP operating system 32bit\n",
"//platform Scilab 5.4.1\n",
"clc;clear;\n",
"//example 2.4w\n",
"//calculation of direction of resultant vector\n",
"\n",
"//given data\n",
"//OA=OB=OC=F all the three vectors have same magnitude\n",
"//xcompOA=F*cos30=(F*(sqrt(3)))/2\n",
"//xcompOB=F*cos360=F/2\n",
"//xcompOC=F*cos135=-F/(sqrt(2))\n",
"//xcompr=xcompOA + xcompOB + xcompOC\n",
"\n",
"//ycompOA=F*cos60=F/2\n",
"//ycompOB=F*cos360=-(F*(sqrt(3)))/2\n",
"//ycompOC=F*cos135=F/(sqrt(2))\n",
"//ycompr=ycompOA + ycompOB + ycompOC\n",
"\n",
"//calculation\n",
"theta=atand((1-sqrt(3)-sqrt(2))/(1+sqrt(3)+sqrt(2)));\n",
"\n",
"disp(theta,'the angle(in degree) made by OA+OB-OC vector with X axis is');"
   ]
   }
,
{
		   "cell_type": "markdown",
		   "metadata": {},
		   "source": [
			"## Example 2.5: calculation_of_angle_between_two_vectors_from_known_value_of_their_cross_product.sce"
		   ]
		  },
  {
"cell_type": "code",
	   "execution_count": null,
	   "metadata": {
	    "collapsed": true
	   },
	   "outputs": [],
"source": [
"//developed in windows XP operating system 32bit\n",
"//platform Scilab 5.4.1\n",
"clc;clear;\n",
"//example 2.5\n",
"//calculation of angle between two vectors from known value of their cross product\n",
"\n",
"//given data\n",
"C=15; //magnitude(in unit) of cross product of two vectors,C=|A*B|\n",
"A=5; //magnitude(in unit) of A vector\n",
"B=6; //magnitude(in unit) of B vector\n",
"//calculation\n",
"theta=asind(C/(A*B)); //formula for cross product \n",
"\n",
"printf('angle(in degree) between the given two vectors is %d or %d',theta,180-theta);"
   ]
   }
,
{
		   "cell_type": "markdown",
		   "metadata": {},
		   "source": [
			"## Example 2.6: calculation_of_the_slope_of_curve_at_a_given_point.sce"
		   ]
		  },
  {
"cell_type": "code",
	   "execution_count": null,
	   "metadata": {
	    "collapsed": true
	   },
	   "outputs": [],
"source": [
"//developed in windows XP operating system 32bit\n",
"//platform Scilab 5.4.1\n",
"clc;clear;\n",
"//example 2.6\n",
"//calculation of the slope of curve at a given point \n",
"\n",
"//given data\n",
"AB=5; //length of AB line segment\n",
"BC=4; //length of BC line segment\n",
"DE=5; //length of DE line segment\n",
"EF=-4; //length of EF line segment\n",
"\n",
"//calculation\n",
"m1=AB/BC; //formula of slope,m1=dy/dx at x=2\n",
"//m2=0 since tangent to curve at x=6 is parallel to x axis\n",
"m2=0;\n",
"m3=DE/EF; //formula of slope,m2=dy/dx at x= 10\n",
"\n",
"disp(m1,'the slope of the curve at x=2 is');\n",
"disp(m2,'the slope of the curve at x=6 is');\n",
"disp(m3,'the slope of the curve at x=10 is');\n",
""
   ]
   }
,
{
		   "cell_type": "markdown",
		   "metadata": {},
		   "source": [
			"## Example 2.6w: calculation_of_angle.sce"
		   ]
		  },
  {
"cell_type": "code",
	   "execution_count": null,
	   "metadata": {
	    "collapsed": true
	   },
	   "outputs": [],
"source": [
"//developed in windows XP operating system 32bit\n",
"//platform Scilab 5.4.1\n",
"clc;clear;\n",
"//example 2.6w\n",
"//calculation of angle \n",
"\n",
"//given data\n",
"xcompOA=4; //magnitude(in m) of x component of OA vector\n",
"//xcompOB=6*cos(theta) magnitude(in m) of x component of OB vector\n",
"\n",
"//calculation\n",
"theta=acosd(-xcompOA/6);//since xcompOA + xcompOB=0      where xcompOB=6*cos(theta)\n",
"\n",
"disp(theta,'the value of angleAOB(in degree) is');"
   ]
   }
,
{
		   "cell_type": "markdown",
		   "metadata": {},
		   "source": [
			"## Example 2.7w: calculation_of_unit_vector.sce"
		   ]
		  },
  {
"cell_type": "code",
	   "execution_count": null,
	   "metadata": {
	    "collapsed": true
	   },
	   "outputs": [],
"source": [
"//developed in windows XP operating system 32bit\n",
"//platform Scilab 5.4.1\n",
"clc;clear;\n",
"//example 2.7w\n",
"//calculation of unit vector\n",
"\n",
"//given data\n",
"ax=5; //x component of A vector\n",
"ay=1; //y component of A vector\n",
"az=-2; //z component of A vector\n",
"\n",
"//calculation\n",
"A=sqrt((ax*ax)+(ay*ay)+(az*az));\n",
"uax=ax/A; //x component of unit vector of A vector\n",
"uay=ay/A; //y component of unit vector of A vector\n",
"uaz=az/A; //z component of unit vector of A vector\n",
"\n",
"disp(uax,'x component of unit vector of A vector');\n",
"disp(uay,'y component of unit vector of A vector');\n",
"disp(uaz,'z component of unit vector of A vector');"
   ]
   }
,
{
		   "cell_type": "markdown",
		   "metadata": {},
		   "source": [
			"## Example 2.9: evaluation_of_a_integral.sce"
		   ]
		  },
  {
"cell_type": "code",
	   "execution_count": null,
	   "metadata": {
	    "collapsed": true
	   },
	   "outputs": [],
"source": [
"//developed in windows XP operating system 32bit\n",
"//platform Scilab 5.4.1\n",
"clc;clear;\n",
"//example 2.9\n",
"//evaluation of a integral\n",
"\n",
"//given data\n",
"//function of x=(2*x^2)+(3*x)+5)\n",
"//limit=3 to 6\n",
"\n",
"//calculation\n",
"y=integrate('((2*x^2)+(3*x)+5)','x',3,6)\n",
"\n",
"disp(y,'value of the given integral is')"
   ]
   }
,
{
		   "cell_type": "markdown",
		   "metadata": {},
		   "source": [
			"## Example 2.9w: calculation_of_angle_between_two_vectors.sce"
		   ]
		  },
  {
"cell_type": "code",
	   "execution_count": null,
	   "metadata": {
	    "collapsed": true
	   },
	   "outputs": [],
"source": [
"//developed in windows XP operating system 32bit\n",
"//platform Scilab 5.4.1\n",
"clc;clear;\n",
"//example 2.9w\n",
"//calculation of angle between two vectors \n",
"\n",
"//given data\n",
"ax=2; //xcomponent of A vector\n",
"ay=3; //ycomponent of A vector\n",
"az=4; //zcomponent of A vector\n",
"\n",
"bx=4; //xcomponent of B vector\n",
"by=3; //ycomponent of B vector\n",
"bz=2; //zcomponent of B vector\n",
"\n",
"//calculation\n",
"adotb=((ax*bx)+(ay*by)+(az*bz));\n",
"a=sqrt((ax*ax)+(ay*ay)+(az*az));\n",
"b=sqrt((bx*bx)+(by*by)+(bz*bz));\n",
"theta=acosd(adotb/(a*b)); //formula of dot product\n",
"\n",
"disp(theta,' angle(in degree) between given two vectors is')"
   ]
   }
],
"metadata": {
		  "kernelspec": {
		   "display_name": "Scilab",
		   "language": "scilab",
		   "name": "scilab"
		  },
		  "language_info": {
		   "file_extension": ".sce",
		   "help_links": [
			{
			 "text": "MetaKernel Magics",
			 "url": "https://github.com/calysto/metakernel/blob/master/metakernel/magics/README.md"
			}
		   ],
		   "mimetype": "text/x-octave",
		   "name": "scilab",
		   "version": "0.7.1"
		  }
		 },
		 "nbformat": 4,
		 "nbformat_minor": 0
}
