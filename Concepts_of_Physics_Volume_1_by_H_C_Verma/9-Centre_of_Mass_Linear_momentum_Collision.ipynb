{
"cells": [
 {
		   "cell_type": "markdown",
	   "metadata": {},
	   "source": [
       "# Chapter 9: Centre of Mass Linear momentum Collision"
	   ]
	},
{
		   "cell_type": "markdown",
		   "metadata": {},
		   "source": [
			"## Example 9.10w: calculation_of_the_average_force_exerted_by_the_hero_on_the_machine_gun.sce"
		   ]
		  },
  {
"cell_type": "code",
	   "execution_count": null,
	   "metadata": {
	    "collapsed": true
	   },
	   "outputs": [],
"source": [
"//developed in windows XP operating system 32bit\n",
"//platform Scilab 5.4.1\n",
"clc;clear;\n",
"//example 9.10w\n",
"//calculation of the average force exerted by the hero on the machine gun\n",
"\n",
"//given data\n",
"m=50*10^-3//mass(in kg) of the bullet\n",
"v=1*10^3//velocity(in m/s) of the bullet\n",
"n=20//number of bullets fired\n",
"t=4//time(in s) required in firing the bullets\n",
"\n",
"//calculation\n",
"me=m*v//momentumof each bullet\n",
"f=me*n/t//force=rate of change of momentum\n",
"\n",
"printf('the average force exerted by the hero on the machine gun is %d N',f)"
   ]
   }
,
{
		   "cell_type": "markdown",
		   "metadata": {},
		   "source": [
			"## Example 9.11w: calculation_of_the_fractional_change_in_kinetic_energy.sce"
		   ]
		  },
  {
"cell_type": "code",
	   "execution_count": null,
	   "metadata": {
	    "collapsed": true
	   },
	   "outputs": [],
"source": [
"//developed in windows XP operating system 32bit\n",
"//platform Scilab 5.4.1\n",
"clc;clear;\n",
"//example 9.11w\n",
"//calculation of the fractional change in kinetic energy\n",
"\n",
"//given data\n",
"vb=20//speed(in m/s) of the block\n",
"v1=30//velocity(in m/s) of one of the part\n",
"\n",
"//calculation\n",
"M=1//taking mass M=1 kg  for solving the equation\n",
"v=(1/M)*((M*vb*2)-(M*v1))//principle of conservation of linear momentum \n",
"deltake=(M*v1*v1/(2*2))+(M*v*v/(2*2))-(M*vb*vb/2)//change in the kinetic energy\n",
"fdeltake=deltake/(M*vb*vb/2)//fractional change in the kinetic energy\n",
"\n",
"printf('the fractional change in the kinetic energy is %3.2f',fdeltake)\n",
""
   ]
   }
,
{
		   "cell_type": "markdown",
		   "metadata": {},
		   "source": [
			"## Example 9.13w: calculation_of_the_final_velocity_of_the_shuttle.sce"
		   ]
		  },
  {
"cell_type": "code",
	   "execution_count": null,
	   "metadata": {
	    "collapsed": true
	   },
	   "outputs": [],
"source": [
"//developed in windows XP operating system 32bit\n",
"//platform Scilab 5.4.1\n",
"clc;clear;\n",
"//example 9.13w\n",
"//calculation of the final velocity of the shuttle\n",
"\n",
"//given data\n",
"v1=4000//speed(in km/hr) of shuttle with respect to the earth\n",
"v2=100//speed(in km/hr) of the module with respect to the shuttle\n",
"\n",
"//calculation\n",
"M=1//taking mass M=1 kg  for solving the equation\n",
"vdash=v1-v2//speed of module with respect to the earth\n",
"V=(1/5)*((1*v1*6)-(vdash*1))//principle of conservation of linear momentum \n",
"\n",
"printf('the final velocity of the shuttle is %d km/h',V)"
   ]
   }
,
{
		   "cell_type": "markdown",
		   "metadata": {},
		   "source": [
			"## Example 9.14w: calculation_of_the_velocity_with_which_the_board_recoils.sce"
		   ]
		  },
  {
"cell_type": "code",
	   "execution_count": null,
	   "metadata": {
	    "collapsed": true
	   },
	   "outputs": [],
"source": [
"//developed in windows XP operating system 32bit\n",
"//platform Scilab 5.4.1\n",
"clc;clear;\n",
"//example 9.14w\n",
"//calculation of the velocity with which the board recoils \n",
"\n",
"//given data\n",
"m1=25//mass(in kg) of the boy\n",
"m2=10//mass(in kg) of the board\n",
"v1=5//velocity(in m/s) of the boy\n",
"\n",
"//calculation\n",
"v=(m1*v1)/m2//principle of conservation of linear momentum\n",
"vsep=v1+v//velocity of separation\n",
"\n",
"printf('the velocity with which the board recoils is %3.1f m/s',v)\n",
"printf('\nthe velocity of separation of the boy and the board is %3.1f m/s',vsep)\n",
""
   ]
   }
,
{
		   "cell_type": "markdown",
		   "metadata": {},
		   "source": [
			"## Example 9.17w: calculation_of_the_speed_of_the_bullet.sce"
		   ]
		  },
  {
"cell_type": "code",
	   "execution_count": null,
	   "metadata": {
	    "collapsed": true
	   },
	   "outputs": [],
"source": [
"//developed in windows XP operating system 32bit\n",
"//platform Scilab 5.4.1\n",
"clc;clear;\n",
"//example 9.17w\n",
"//calculation of the speed of the bullet\n",
"\n",
"//given data\n",
"mb=50*10^-3//mass(in kg) of the bullet\n",
"mp=450*10^-3//mass(in kg) of the bob\n",
"h=1.8//height(in m) attained by the bob\n",
"g=10//gravitational acceleration(in m/s^2) of the earth\n",
"\n",
"//calculation\n",
"//using principle of conservation of linear momentum  and equation of motion (v*v) = (u*u) + (2*a*x)\n",
"v=((mb+mp)*(sqrt(h*2*g)))/mb\n",
"\n",
"printf('the speed of the bullet is %d m/s',v)"
   ]
   }
,
{
		   "cell_type": "markdown",
		   "metadata": {},
		   "source": [
			"## Example 9.1w: Locating_the_centre_of_maass_of_the_system.sce"
		   ]
		  },
  {
"cell_type": "code",
	   "execution_count": null,
	   "metadata": {
	    "collapsed": true
	   },
	   "outputs": [],
"source": [
"//developed in windows XP operating system 32bit\n",
"//platform Scilab 5.4.1\n",
"clc;clear;\n",
"//example 9.1w\n",
"//Locating the centre of maass of the system\n",
"\n",
"//given data\n",
"m1=.50//mass(in kg) at point1\n",
"m2=1//mass(in kg) at point2\n",
"m3=1.5//mass(in kg) at point3\n",
"x1=0//x coodinate (in cm) of point1\n",
"x2=4//x coodinate (in cm) of point2\n",
"x3=0//x coodinate (in cm) of point3\n",
"y1=0//y coodinate (in cm) of point1\n",
"y2=0//y coodinate (in cm) of point2\n",
"y3=3//y coodinate (in cm) of point3\n",
"\n",
"//calculation\n",
"X=((m1*x1)+(m2*x2)+(m3*x3))/(m1+m2+m3)\n",
"Y=((m1*y1)+(m2*y2)+(m3*y3))/(m1+m2+m3)\n",
"\n",
"printf('The centre of mass is %3.1f cm right and %3.1f cm left above the .5 kg paticle.',X,Y)"
   ]
   }
,
{
		   "cell_type": "markdown",
		   "metadata": {},
		   "source": [
			"## Example 9.22w: calculation_of_the_loss_of_kinetic_energy_due_to_the_collision.sce"
		   ]
		  },
  {
"cell_type": "code",
	   "execution_count": null,
	   "metadata": {
	    "collapsed": true
	   },
	   "outputs": [],
"source": [
"//developed in windows XP operating system 32bit\n",
"//platform Scilab 5.4.1\n",
"clc;clear;\n",
"//example 9.22w\n",
"//calculation of the loss of kinetic energy due to the collision\n",
"\n",
"//given data\n",
"m=1.2//mass(in kg) of the block1\n",
"v=20*10^-2//velocity(in m/s) of the approach\n",
"e=3/5//value of coefficient of restitution\n",
"vdash=e*v//velocity (in m/s) of the separation\n",
"\n",
"//calculation\n",
"//by principle of conservation of linear momentum ....v1 + v2 = v m/s.....(1)\n",
"//as the coefficient of restitution is 3/5............v2 - v1 = vdash m/s.....(2)\n",
"//from equation (1),we get.......v2=v-v1\n",
"//substituting v2 in equation (2),we get\n",
"v1=(v-vdash)/2\n",
"v2=v-v1//from equation (1)\n",
"lke=(m/2)*((v*v)-(v1*v1)-(v2*v2))\n",
"\n",
"printf('the loss of kinetic energy during the collision is %3.1e J',lke)"
   ]
   }
,
{
		   "cell_type": "markdown",
		   "metadata": {},
		   "source": [
			"## Example 9.4: calculation_of_the_maximum_compression_of_the_string.sce"
		   ]
		  },
  {
"cell_type": "code",
	   "execution_count": null,
	   "metadata": {
	    "collapsed": true
	   },
	   "outputs": [],
"source": [
"//developed in windows XP operating system 32bit\n",
"//platform Scilab 5.4.1\n",
"clc;clear;\n",
"//example 9.4\n",
"//calculation of the maximum compression of the string\n",
"\n",
"//given data\n",
"m=1//mass(in kg)\n",
"v=2//speed of the block(in m/s)\n",
"k=50//spring constant(in N/m)\n",
"\n",
"//calculation\n",
"V=(m*v)/(m+m)//principle of conservation of linear momentum\n",
"ke1=(m*v*v/2)//initial kinetic energy\n",
"ke2=(m*V*V/2)+(m*V*V/2)//final kinetic energy\n",
"x=sqrt(2*(ke1-ke2)/k)//kinetic energy lost = elastic energy stored\n",
"\n",
"printf('the maximum compression of the string is %3.1f m',x)"
   ]
   }
,
{
		   "cell_type": "markdown",
		   "metadata": {},
		   "source": [
			"## Example 9.5: calculation_of_the_speed_of_combined_mass.sce"
		   ]
		  },
  {
"cell_type": "code",
	   "execution_count": null,
	   "metadata": {
	    "collapsed": true
	   },
	   "outputs": [],
"source": [
"//developed in windows XP operating system 32bit\n",
"//platform Scilab 5.4.1\n",
"clc;clear;\n",
"//example 9.5\n",
"//calculation of the speed of combined mass\n",
"\n",
"//given data\n",
"ma=50//mass(in kg) of cart A\n",
"mb=20//mass(in kg) of cart B\n",
"va=20//velocity(in km/hr) of cart A\n",
"vb=10//velocity(in km/hr) of cart B\n",
"\n",
"//calculation\n",
"V=((ma*va)-(mb*vb))/(ma+mb)//principle of conservation of linear momentum\n",
"\n",
"printf('the speed of combined mass after collision is %3.2f km/hr',V)"
   ]
   }
,
{
		   "cell_type": "markdown",
		   "metadata": {},
		   "source": [
			"## Example 9.6w: calculation_of_the_acceleration_of_the_centre_of_mass.sce"
		   ]
		  },
  {
"cell_type": "code",
	   "execution_count": null,
	   "metadata": {
	    "collapsed": true
	   },
	   "outputs": [],
"source": [
"//developed in windows XP operating system 32bit\n",
"//platform Scilab 5.4.1\n",
"clc;clear;\n",
"//example 9.6w\n",
"//calculation of the acceleration of the centre of mass\n",
"\n",
"//given data\n",
"M=2.5//mass(in kg) of the body\n",
"F1=6//force(in N) acting at point 1\n",
"F2=5//force(in N) acting at point 2\n",
"F3=6//force(in N) acting at point 3\n",
"F4=4//force(in N) acting at point 4\n",
"theta1=0//angle(in degree)\n",
"theta2=37//angle(in degree)\n",
"theta3=53//angle(in degree)\n",
"theta4=60//angle(in degree)\n",
"\n",
"//calculation\n",
"Fx=(-F1*cosd(theta1))+(F2*cosd(theta2))+(F3*cosd(theta3))+(F4*cosd(theta4))//X component of resultant force\n",
"Fy=(F1*sind(theta1))+(F2*sind(theta2))+(-F3*sind(theta3))+(F4*sind(theta4))//X component of resultant force\n",
"F=sqrt((Fx*Fx)+(Fy*Fy))\n",
"theta=atand(Fy/Fx)\n",
"acm=F/M//acceleration of centre of mass\n",
"\n",
"printf('the acceleration of the centre of mass is %3.1f m/s^2 and is in the direction of the resultant force',acm)"
   ]
   }
,
{
		   "cell_type": "markdown",
		   "metadata": {},
		   "source": [
			"## Example 9.8w: calculation_of_the_distance_from_launching_point.sce"
		   ]
		  },
  {
"cell_type": "code",
	   "execution_count": null,
	   "metadata": {
	    "collapsed": true
	   },
	   "outputs": [],
"source": [
"//developed in windows XP operating system 32bit\n",
"//platform Scilab 5.4.1\n",
"clc;clear;\n",
"//example 9.8w\n",
"//calculation of the distance from launching point\n",
"\n",
"//given data\n",
"u=100//speed(in m/s) of the projectile\n",
"theta=37//angle(in degree) of the projectile above horizontal\n",
"g=10//gravitational acceleration(in m/s^2) of the earth\n",
"\n",
"//calculation\n",
"xcm=(2*u*u*sind(theta)*cosd(theta))/g//range of original projectile\n",
"//also   xcm=((m1*x1)+(m2*x2))/(m1+m2)\n",
"//here m1=M/4   and    m2=3*M/4 \n",
"x1=xcm/2//since small part falls from heighest point i.e half of range\n",
"x2=(4/3)*((xcm*((1/4)+(3/4)))-(x1/4))\n",
"\n",
"printf('the distance of landing of heavier piece from launching point is %d m',x2)"
   ]
   }
,
{
		   "cell_type": "markdown",
		   "metadata": {},
		   "source": [
			"## Example 9.9w: calculation_of_the_distance_moved_by_the_bigger_block.sce"
		   ]
		  },
  {
"cell_type": "code",
	   "execution_count": null,
	   "metadata": {
	    "collapsed": true
	   },
	   "outputs": [],
"source": [
"//developed in windows XP operating system 32bit\n",
"//platform Scilab 5.4.1\n",
"clc;clear;\n",
"//example 9.9w\n",
"//calculation of the distance moved by the bigger block\n",
"\n",
"//given data\n",
"L=2.2//length(in m) of the base\n",
"n=10// mass of bigger block is 'n' number of times the mass of smaller block\n",
"\n",
"//calculation\n",
"//centre of mass at rest initially will remain in horizontal position thus\n",
"//M*(L-X)=10*M*X\n",
"X=L/(n+1)\n",
"\n",
"printf('distance moved by the bigger block at the instant the smaller block reaches the ground is %3.1f m',X)"
   ]
   }
],
"metadata": {
		  "kernelspec": {
		   "display_name": "Scilab",
		   "language": "scilab",
		   "name": "scilab"
		  },
		  "language_info": {
		   "file_extension": ".sce",
		   "help_links": [
			{
			 "text": "MetaKernel Magics",
			 "url": "https://github.com/calysto/metakernel/blob/master/metakernel/magics/README.md"
			}
		   ],
		   "mimetype": "text/x-octave",
		   "name": "scilab",
		   "version": "0.7.1"
		  }
		 },
		 "nbformat": 4,
		 "nbformat_minor": 0
}
