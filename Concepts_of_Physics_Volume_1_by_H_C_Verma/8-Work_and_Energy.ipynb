{
"cells": [
 {
		   "cell_type": "markdown",
	   "metadata": {},
	   "source": [
       "# Chapter 8: Work and Energy"
	   ]
	},
{
		   "cell_type": "markdown",
		   "metadata": {},
		   "source": [
			"## Example 8.11w: calculation_of_the_speed_of_the_particle_at_a_given_point.sce"
		   ]
		  },
  {
"cell_type": "code",
	   "execution_count": null,
	   "metadata": {
	    "collapsed": true
	   },
	   "outputs": [],
"source": [
"//developed in windows XP operating system 32bit\n",
"//platform Scilab 5.4.1\n",
"clc;clear;\n",
"//example 8.11w\n",
"//calculation of the speed of the particle at a given point\n",
" \n",
"//given data\n",
"hA=1//height(in m) of point A\n",
"hB=.5//height(in m) of point B\n",
"g=10//gravitational acceleration(in m/s^2) of the earth\n",
"\n",
"//calculation\n",
"//potential energies at point A and B are\n",
"//UA = M*g*hA\n",
"//UB = M*g*hB..............(1)\n",
"//principle of conservation of energy\n",
"//UA + KA = UB + KB........(2)\n",
"vB=sqrt(2*g*(hA-hB))\n",
"\n",
"printf('the speed of the particle at a B point is %3.2f m/s',vB)"
   ]
   }
,
{
		   "cell_type": "markdown",
		   "metadata": {},
		   "source": [
			"## Example 8.12w: calculation_of_the_maximum_compression_of_the_spring.sce"
		   ]
		  },
  {
"cell_type": "code",
	   "execution_count": null,
	   "metadata": {
	    "collapsed": true
	   },
	   "outputs": [],
"source": [
"//developed in windows XP operating system 32bit\n",
"//platform Scilab 5.4.1\n",
"clc;clear;\n",
"//example 8.12w\n",
"//calculation of the maximum compression of the spring\n",
"\n",
"//given data\n",
"k=400//spring constant(in N/m)\n",
"m=40*10^-3//mass(in kg)\n",
"h=4.9//height(in m)\n",
"g=9.8//gravitational acceleration(in m/s^2) of the earth\n",
"\n",
"//calculation\n",
"//m*g*h = (k*x*x/2)\n",
"x=sqrt((2*m*g*h)/k)\n",
"\n",
"printf('the maximum compression of the spring is %3.3f m or %3.1f cm',x,x*10^2)"
   ]
   }
,
{
		   "cell_type": "markdown",
		   "metadata": {},
		   "source": [
			"## Example 8.1: calculation_of_the_work_done_by_the_spring_force.sce"
		   ]
		  },
  {
"cell_type": "code",
	   "execution_count": null,
	   "metadata": {
	    "collapsed": true
	   },
	   "outputs": [],
"source": [
"//developed in windows XP operating system 32bit\n",
"//platform Scilab 5.4.1\n",
"clc;clear;\n",
"//example 8.1\n",
"//calculation of the work done by the spring force\n",
"\n",
"//given data\n",
"k=50//spring constant(in N/m) of the spring\n",
"x=1*10^-2//compression(in m) from natural position\n",
"\n",
"//calculation\n",
"W=(k*x*x)/2//work done in compressing a spring\n",
"\n",
"printf('the work done by the spring force is %3.1e J',W)"
   ]
   }
,
{
		   "cell_type": "markdown",
		   "metadata": {},
		   "source": [
			"## Example 8.1w: calculation_of_the_work_done_by_the_porter_on_the_suitcase.sce"
		   ]
		  },
  {
"cell_type": "code",
	   "execution_count": null,
	   "metadata": {
	    "collapsed": true
	   },
	   "outputs": [],
"source": [
"//developed in windows XP operating system 32bit\n",
"//platform Scilab 5.4.1\n",
"clc;clear;\n",
"//example 8.1w\n",
"//calculation of the work done by the porter on the suitcase\n",
"\n",
"//given data\n",
"m=20//mass(in kg) of suitcase\n",
"h=2//height(in m) above the platform\n",
"g=9.8//gravitational acceleration(in m/s^2) of the earth\n",
"\n",
"//calculation\n",
"W=-m*g*h//work done by gravity\n",
"//the work done by the porter = negative of the work done by gravity\n",
"\n",
"printf('the work done by the porter on the suitcase is %d J',-W)"
   ]
   }
,
{
		   "cell_type": "markdown",
		   "metadata": {},
		   "source": [
			"## Example 8.2: calculation_of_the_work_done_by_force_of_gravity.sce"
		   ]
		  },
  {
"cell_type": "code",
	   "execution_count": null,
	   "metadata": {
	    "collapsed": true
	   },
	   "outputs": [],
"source": [
"//developed in windows XP operating system 32bit\n",
"//platform Scilab 5.4.1\n",
"clc;clear;\n",
"//example 8.2\n",
"//calculation of the work done by force of gravity\n",
"\n",
"//given data\n",
"m=20*10^-3//mass(in kg) of the particle\n",
"u=10//speed(in m/s) of the particle\n",
"g=9.8//gravitational acceleration(in m/s^2) of the earth\n",
"\n",
"//calculation\n",
"//from equation of motion.....(v*v)=(u*u)-(2*g*h)......take v=0 we get\n",
"h=(u*u)/(2*g)\n",
"W=-m*g*h//law of conservation of energy\n",
"\n",
"printf('the work done by force by gravity is %3.1f J',W)"
   ]
   }
,
{
		   "cell_type": "markdown",
		   "metadata": {},
		   "source": [
			"## Example 8.2w: calculation_of_the_value_of_minimum_horsepower_of_the_motor_to_be_used.sce"
		   ]
		  },
  {
"cell_type": "code",
	   "execution_count": null,
	   "metadata": {
	    "collapsed": true
	   },
	   "outputs": [],
"source": [
"//developed in windows XP operating system 32bit\n",
"//platform Scilab 5.4.1\n",
"clc;clear;\n",
"//example 8.2w\n",
"//calculation of the value of minimum horsepower of the motor to be used\n",
"\n",
"//given data\n",
"m=500//mass(in kg) of the elevator\n",
"v=.20//velocity(in m/s) of the elevator\n",
"g=9.8//gravitational acceleration(in m/s^2) of the earth\n",
"\n",
"//calculation\n",
"P=m*g*v//power = force*velocity\n",
"\n",
"printf('the value of minimum horsepower of the motor to be used is %3.2f hp',P/746)"
   ]
   }
,
{
		   "cell_type": "markdown",
		   "metadata": {},
		   "source": [
			"## Example 8.3w: calculation_of_the_power_delivered_by_the_pulling_force_and_average_power.sce"
		   ]
		  },
  {
"cell_type": "code",
	   "execution_count": null,
	   "metadata": {
	    "collapsed": true
	   },
	   "outputs": [],
"source": [
"//developed in windows XP operating system 32bit\n",
"//platform Scilab 5.4.1\n",
"clc;clear;\n",
"//example 8.3w\n",
"//calculation of the power delivered by the pulling force and average power\n",
"\n",
"//given data\n",
"m=2//mass(in kg)\n",
"theta=30//angle(in degree)\n",
"a=1//acceleration(in m/s^2) of the block\n",
"t=4//time(in s)\n",
"g=9.8//gravitational acceleration(in m/s^2) of the earth\n",
"\n",
"//calculation\n",
"F=(m*g*sind(theta))+(m*a)//resolving the forces parallel to the incline\n",
"v=a*t\n",
"P=F*v//equation of power\n",
"d=a*t*t/2//from equation of motion\n",
"W=F*d\n",
"pavg=W/t//average power delivered\n",
"\n",
"printf('the power delivered by the pulling force at t=4 s is %d W',P)\n",
"printf('\nthe average power delivered by the pulling force between t=0 s to t=4 s is %3.1f W',pavg)"
   ]
   }
,
{
		   "cell_type": "markdown",
		   "metadata": {},
		   "source": [
			"## Example 8.4w: calculation_of_the_work_done_by_the_given_force.sce"
		   ]
		  },
  {
"cell_type": "code",
	   "execution_count": null,
	   "metadata": {
	    "collapsed": true
	   },
	   "outputs": [],
"source": [
"//developed in windows XP operating system 32bit\n",
"//platform Scilab 5.4.1\n",
"clc;clear;\n",
"//example 8.4w\n",
"//calculation of the work done by the given force\n",
"\n",
"//given data\n",
"function F=f(x)\n",
"    F=(10+(.50*x))\n",
"endfunction\n",
"x1=0//initial position(in m) of the particle \n",
"x2=2//final position(in m) of the particle\n",
"\n",
"//calculation\n",
"W=integrate('f','x',x1,x2)//work done\n",
"\n",
"printf('the work done by the given force for the given displacement is %d J',W)"
   ]
   }
,
{
		   "cell_type": "markdown",
		   "metadata": {},
		   "source": [
			"## Example 8.5: EX8_5.sce"
		   ]
		  },
  {
"cell_type": "code",
	   "execution_count": null,
	   "metadata": {
	    "collapsed": true
	   },
	   "outputs": [],
"source": [
"//developed in windows XP operating system 32bit\n",
"//platform Scilab 5.4.1\n",
"clc;clear;\n",
"//example 8.5\n",
"//calculation of the speed of the pendulum of bob when it makes an angle of 60 degree with the vertical\n",
"\n",
"//given data\n",
"v0=3//speed(in m/s)of the bob in its lowest position\n",
"theta=60//angle(in degree)made by the pendulum with vertical\n",
"l=.5//length(in m) of the pendulum\n",
"g=10//gravitational acceleration(in m/s^2) of the earth\n",
"\n",
"//calculation\n",
"//from the law of conservation of energy\n",
"//(m*v0*v0/2) - (m*v1*v1/2) = m*g*l*(1-cosd(theta))\n",
"v1=sqrt((v0*v0)-(2*g*l*(1-cosd(theta))))\n",
"\n",
"printf('the speed of the pendulum of bob when it makes an angle of 60 degree with the vertical is %d m/s',v1)"
   ]
   }
],
"metadata": {
		  "kernelspec": {
		   "display_name": "Scilab",
		   "language": "scilab",
		   "name": "scilab"
		  },
		  "language_info": {
		   "file_extension": ".sce",
		   "help_links": [
			{
			 "text": "MetaKernel Magics",
			 "url": "https://github.com/calysto/metakernel/blob/master/metakernel/magics/README.md"
			}
		   ],
		   "mimetype": "text/x-octave",
		   "name": "scilab",
		   "version": "0.7.1"
		  }
		 },
		 "nbformat": 4,
		 "nbformat_minor": 0
}
