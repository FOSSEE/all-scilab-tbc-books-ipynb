{
"cells": [
 {
		   "cell_type": "markdown",
	   "metadata": {},
	   "source": [
       "# Chapter 7: Circular Motion"
	   ]
	},
{
		   "cell_type": "markdown",
		   "metadata": {},
		   "source": [
			"## Example 7.10w: calculation_of_the_minimum_speed_at_which_floor_may_be_removed.sce"
		   ]
		  },
  {
"cell_type": "code",
	   "execution_count": null,
	   "metadata": {
	    "collapsed": true
	   },
	   "outputs": [],
"source": [
"//developed in windows XP operating system 32bit\n",
"//platform Scilab 5.4.1\n",
"clc;clear;\n",
"//example 7.10w\n",
"//calculation of the minimum speed at which floor may be removed\n",
"\n",
"//given data\n",
"r=2//radius(in m) of the rotor\n",
"mus=0.2//coefficient of static friction between the wall and the person\n",
"g=10//gravitational acceleration(in m/s^2) of the earth\n",
"\n",
"//calculation\n",
"//by applying Newton's second law for horizontal direction\n",
"//fs = m*g...................................(1)\n",
"//by limiting friction\n",
"//mus*N = m*g or mus*m*v*v/r = m*g...........(2)\n",
"//from above equations,we get\n",
"v=sqrt(r*g/mus)\n",
"\n",
"printf('the minimum speed at which floor may be removed is %3.1f m/s',v)"
   ]
   }
,
{
		   "cell_type": "markdown",
		   "metadata": {},
		   "source": [
			"## Example 7.1: calculation_of_the_angular_velocity.sce"
		   ]
		  },
  {
"cell_type": "code",
	   "execution_count": null,
	   "metadata": {
	    "collapsed": true
	   },
	   "outputs": [],
"source": [
"//developed in windows XP operating system 32bit\n",
"//platform Scilab 5.4.1\n",
"clc;clear;\n",
"//example 7.1\n",
"//calculation of the angular velocity\n",
"\n",
"//given data\n",
"v=10//linear speed(in m/s)\n",
"r=20*10^-2//radius(in cm) of the circle\n",
"\n",
"//calculation\n",
"w=v/r//formula of angular velocity\n",
"\n",
"printf('the angular velocity is %d rad/s',w)"
   ]
   }
,
{
		   "cell_type": "markdown",
		   "metadata": {},
		   "source": [
			"## Example 7.1w: calculation_of_the_maximum_speed_the_car_can_take_on_the_turn_without_skidding.sce"
		   ]
		  },
  {
"cell_type": "code",
	   "execution_count": null,
	   "metadata": {
	    "collapsed": true
	   },
	   "outputs": [],
"source": [
"//developed in windows XP operating system 32bit\n",
"//platform Scilab 5.4.1\n",
"clc;clear;\n",
"//example 7.1w\n",
"//calculation of the maximum speed the car can take on the turn without skidding\n",
"\n",
"//given data\n",
"R=45//radius(in m) of the turn\n",
"mus=2.0//coefficient of static friction between the tyre and the road\n",
"g=10//gravitational acceleration(in m/s^2) of the earth\n",
"\n",
"//calculation\n",
"//considering forces in vertical and horizontal directions an dpplying Newton's law we get\n",
"//fs = M*v*v...........................(1)\n",
"//by equation of limiting friction,we get\n",
"//fs = mus*N = mus*M*g...............(2)\n",
"//from above equations we get\n",
"v=sqrt(mus*g*R)\n",
"\n",
"printf('the maximum speed the car can take on the turn without skidding is %d m/s or %3.1f km/hr',v,(v*10^-3*60*60))"
   ]
   }
,
{
		   "cell_type": "markdown",
		   "metadata": {},
		   "source": [
			"## Example 7.2: calculation_of_the_angular_acceleration.sce"
		   ]
		  },
  {
"cell_type": "code",
	   "execution_count": null,
	   "metadata": {
	    "collapsed": true
	   },
	   "outputs": [],
"source": [
"//developed in windows XP operating system 32bit\n",
"//platform Scilab 5.4.1\n",
"clc;clear;\n",
"//example 7.2\n",
"//calculation of the angular acceleration\n",
"\n",
"//given data\n",
"v1=5//initial speed(in m/s)\n",
"v2=6//final speed(in m/s)\n",
"dt=2//change in time(in s)\n",
"r=20*10^-2//radius(in cm) of the circle\n",
"\n",
"//calculation\n",
"at=(v2-v1)/dt//formula of tangential acceleration\n",
"alpha=at/r//formula of angular acceleration\n",
"\n",
"printf('the angular accleration is %3.1f rad/s^2',alpha)"
   ]
   }
,
{
		   "cell_type": "markdown",
		   "metadata": {},
		   "source": [
			"## Example 7.2w: calculation_of_the_value_of_angle_of_banking.sce"
		   ]
		  },
  {
"cell_type": "code",
	   "execution_count": null,
	   "metadata": {
	    "collapsed": true
	   },
	   "outputs": [],
"source": [
"//developed in windows XP operating system 32bit\n",
"//platform Scilab 5.4.1\n",
"clc;clear;\n",
"//example 7.2w\n",
"//calculation of the value of angle of banking\n",
"\n",
"//given data\n",
"r=600//radius(in m) of the track\n",
"v=180*10^3/(60*60)//speed(in m/s) of the car\n",
"g=10//gravitational acceleration(in m/s^2) of the earth\n",
"\n",
"//calculation\n",
"//for vertical direction\n",
"//N*cosd(theta) = M*g.........................(1)\n",
"//for horizontal direction \n",
"//N*sind(theta) = M*v*v/r.....................(2)\n",
"//from above equations,we get\n",
"theta=atand((v*v)/(r*g))\n",
"\n",
"printf('the value of angle of banking is %3.2f degree',theta)"
   ]
   }
,
{
		   "cell_type": "markdown",
		   "metadata": {},
		   "source": [
			"## Example 7.3: calculation_of_the_magnitude_of_linear_acceleration.sce"
		   ]
		  },
  {
"cell_type": "code",
	   "execution_count": null,
	   "metadata": {
	    "collapsed": true
	   },
	   "outputs": [],
"source": [
"//developed in windows XP operating system 32bit\n",
"//platform Scilab 5.4.1\n",
"clc;clear;\n",
"//example 7.3\n",
"//calculation of the magnitude of linear acceleration\n",
"\n",
"//given data\n",
"r=10*10^-2//radius(in cm)\n",
"t=4//time(in s) taken\n",
"\n",
"//calculation\n",
"d=2*%pi*r//distance covered\n",
"v=d/t//linear speed\n",
"a=(v*v)/r\n",
"\n",
"printf('the linear acceleration is %3.2f m/s^2',a)"
   ]
   }
,
{
		   "cell_type": "markdown",
		   "metadata": {},
		   "source": [
			"## Example 7.4: calculation_of_the_value_of_radial_and_tangential_acceleration.sce"
		   ]
		  },
  {
"cell_type": "code",
	   "execution_count": null,
	   "metadata": {
	    "collapsed": true
	   },
	   "outputs": [],
"source": [
"//developed in windows XP operating system 32bit\n",
"//platform Scilab 5.4.1\n",
"clc;clear;\n",
"//example 7.4\n",
"//calculation of the value of radial and tangential acceleration\n",
"\n",
"//given data\n",
"t=3//time(in s)\n",
"r=20*10^-2//radius(in cm) of the circle\n",
"\n",
"function v1=f(t1)\n",
"    v1=2*t1\n",
"endfunction\n",
"\n",
"//calculation\n",
"v=f(t)\n",
"ar=(v*v)/r//radial acceleration\n",
"at=derivative(f,t)//tangential acceleration\n",
"\n",
"printf('the value of radial acceleration is %d m/s^2',ar)\n",
"printf('\nthe value of tangential acceleration is %d m/s^2',at)"
   ]
   }
,
{
		   "cell_type": "markdown",
		   "metadata": {},
		   "source": [
			"## Example 7.4w: calculation_of_the_value_of_elongation_of_the_spring.sce"
		   ]
		  },
  {
"cell_type": "code",
	   "execution_count": null,
	   "metadata": {
	    "collapsed": true
	   },
	   "outputs": [],
"source": [
"//developed in windows XP operating system 32bit\n",
"//platform Scilab 5.4.1\n",
"clc;clear;\n",
"//example 7.4w\n",
"//calculation of the value of elongation of the spring\n",
"\n",
"//given data\n",
"k=100//spring constant(N/m) of the given spring\n",
"l0=.5//natural length(in m) of the string\n",
"m=.5//mass(in kg) of the particle\n",
"w=2//angualr velocity(in rad/s) of the mass\n",
"\n",
"//calculation\n",
"//from the equation of horizontal force\n",
"//k*l = m*v*v/r = m*w*w*r = =m*w*w*(l0+l)........................(1)\n",
"//from above equation we get\n",
"l=(m*w*w*l0)/(k-(m*w*w))\n",
"\n",
"printf('the value of elongation of the spring is %3.2f m or %3.1f cm',l,l*100)"
   ]
   }
,
{
		   "cell_type": "markdown",
		   "metadata": {},
		   "source": [
			"## Example 7.5: calculation_of_the_normal_contact_force_by_the_side_wall_of_the_groove.sce"
		   ]
		  },
  {
"cell_type": "code",
	   "execution_count": null,
	   "metadata": {
	    "collapsed": true
	   },
	   "outputs": [],
"source": [
"//developed in windows XP operating system 32bit\n",
"//platform Scilab 5.4.1\n",
"clc;clear;\n",
"//example 7.5\n",
"//calculation of the normal contact force by the side wall of the groove\n",
"\n",
"//given data\n",
"r=25*10^-2//radius(in m) of the cirlce\n",
"m=.1//mass(in kg) of the block\n",
"t=2//time(in s) taken by the block\n",
"\n",
"//calculation\n",
"v=2*%pi*r/t//speed of the block\n",
"a=(v*v)/r//acceleration of the block\n",
"N=m*a//newton's second law\n",
"\n",
"printf('the normal contact force by the side wall of the groove is %3.2f N',N)"
   ]
   }
,
{
		   "cell_type": "markdown",
		   "metadata": {},
		   "source": [
			"## Example 7.6: calculation_of_the_speed_of_vehicle_on_the_turn.sce"
		   ]
		  },
  {
"cell_type": "code",
	   "execution_count": null,
	   "metadata": {
	    "collapsed": true
	   },
	   "outputs": [],
"source": [
"//developed in windows XP operating system 32bit\n",
"//platform Scilab 5.4.1\n",
"clc;clear;\n",
"//example 7.6\n",
"//calculation of the speed of vehicle on the turn\n",
"\n",
"//given data\n",
"r=10//radius(in m) of the turn\n",
"theta=10//angle(in degree) of the bank\n",
"g=9.8//gravitational acceleration(in m/s^2) of the earth\n",
"\n",
"//calculation\n",
"v=sqrt(r*g*tand(theta))//since tand(theta) = (v*v)/(r*g)\n",
"\n",
"printf('for normal contact force providing the necessary centripetal force,the speed of vehicle on the turn is %3.2f m/s',v)"
   ]
   }
,
{
		   "cell_type": "markdown",
		   "metadata": {},
		   "source": [
			"## Example 7.7: EX7_7.sce"
		   ]
		  },
  {
"cell_type": "code",
	   "execution_count": null,
	   "metadata": {
	    "collapsed": true
	   },
	   "outputs": [],
"source": [
"//developed in windows XP operating system 32bit\n",
"//platform Scilab 5.4.1\n",
"clc;clear;\n",
"//example 7.7\n",
"//calculation of the weight of the body if spring balance is shifted to the equator\n",
"\n",
"//given data\n",
"W=98//weight(in N) of the body at north pole\n",
"R=6400*10^3//radius(in m) of the earth\n",
"g=9.8//gravitational acceleration(in m/s^2) of the earth\n",
"\n",
"//calculation\n",
"m=W/g//formula of weight\n",
"w=(2*%pi)/(24*60*60)//angular speed of the earth\n",
"We=W-(m*w*w*R)//  since We = W - (m*w*w*R)\n",
"\n",
"printf('the weight of the body if spring balance is shifted to the equator is %3.2f N',We)"
   ]
   }
,
{
		   "cell_type": "markdown",
		   "metadata": {},
		   "source": [
			"## Example 7.7w: calculation_of_the_value_of_force_exerted_by_the_air_on_the_plane.sce"
		   ]
		  },
  {
"cell_type": "code",
	   "execution_count": null,
	   "metadata": {
	    "collapsed": true
	   },
	   "outputs": [],
"source": [
"//developed in windows XP operating system 32bit\n",
"//platform Scilab 5.4.1\n",
"clc;clear;\n",
"//example 7.7w\n",
"//calculation of the value of force exerted by the air on the plane\n",
"\n",
"//given data\n",
"v=900*10^3/(60*60)//speed(in m/s) of the fighter plane\n",
"r=2000//radius(in m)of the vertical circle\n",
"M=16000//mass(in kg)\n",
"g=9.8//gravitational acceleration(in m/s^2) of the earth\n",
"\n",
"//calculation\n",
"//from Newton's second law \n",
"//F-M*g = M*v*v/r\n",
"//from above equation,we get\n",
"F=M*(g+(v*v/r))\n",
"\n",
"printf(' the force exerted by the air,on the plane in upward direction is %3.2e N',F)"
   ]
   }
,
{
		   "cell_type": "markdown",
		   "metadata": {},
		   "source": [
			"## Example 7.8w: calculation_of_the_angular_speed_of_rotation.sce"
		   ]
		  },
  {
"cell_type": "code",
	   "execution_count": null,
	   "metadata": {
	    "collapsed": true
	   },
	   "outputs": [],
"source": [
"//developed in windows XP operating system 32bit\n",
"//platform Scilab 5.4.1\n",
"clc;clear;\n",
"//example 7.8w\n",
"//calculation of the angular speed of rotation\n",
"\n",
"//given data\n",
"L=20*10^-2//length(in m) of the rod = length(in m)of the string\n",
"theta=30//angle(in degree) made by the string with the vertical\n",
"g=10//gravitational acceleration(in m/s^2) of the earth\n",
"\n",
"//calculation\n",
"//applying Newton's second law\n",
"//T*sind(theta) = m*w*w*L*(1+sind(theta)).............(1)\n",
"//applying Newton's first law in vertical direction\n",
"//T*cosd(theta) = m*g.................................(2)\n",
"//from above equations,we get\n",
"//tand(theta)=((w*w*L*(1+sind(theta)))/g).............(3)\n",
"w=sqrt((g*tand(theta))/(L*(1+sind(theta))))\n",
"\n",
"printf('the angular speed of rotation is %3.1f rad/s',w)\n",
""
   ]
   }
],
"metadata": {
		  "kernelspec": {
		   "display_name": "Scilab",
		   "language": "scilab",
		   "name": "scilab"
		  },
		  "language_info": {
		   "file_extension": ".sce",
		   "help_links": [
			{
			 "text": "MetaKernel Magics",
			 "url": "https://github.com/calysto/metakernel/blob/master/metakernel/magics/README.md"
			}
		   ],
		   "mimetype": "text/x-octave",
		   "name": "scilab",
		   "version": "0.7.1"
		  }
		 },
		 "nbformat": 4,
		 "nbformat_minor": 0
}
