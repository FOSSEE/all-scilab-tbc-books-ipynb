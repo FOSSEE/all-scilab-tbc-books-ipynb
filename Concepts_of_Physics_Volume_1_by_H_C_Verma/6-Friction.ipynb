{
"cells": [
 {
		   "cell_type": "markdown",
	   "metadata": {},
	   "source": [
       "# Chapter 6: Friction"
	   ]
	},
{
		   "cell_type": "markdown",
		   "metadata": {},
		   "source": [
			"## Example 6.10w: EX6_10w.sce"
		   ]
		  },
  {
"cell_type": "code",
	   "execution_count": null,
	   "metadata": {
	    "collapsed": true
	   },
	   "outputs": [],
"source": [
"//developed in windows XP operating system 32bit\n",
"//platform Scilab 5.4.1\n",
"clc;clear;\n",
"//example 6.10w\n",
"//calculation of mimimum and maximum values of m(mass) and the acceleration if given a gentle push\n",
"\n",
"//given data\n",
"mus=.28//the value of coefficient of static friction between the block and the surface\n",
"muk=.25//the value of coefficient of kinetic friction between the block and the surface\n",
"M=2//mass(in kg) of one block\n",
"g=9.8//gravitational acceleration(in m/s^2) of the earth\n",
"\n",
"//calculation\n",
"//T=(M*g*(1-mus))/sqrt(2)................taking components along incline for block1......(1)\n",
"//T=(M*g*(1+mus))/sqrt(2)................taking components along incline for block2......(2)\n",
"//from above equations,we get\n",
"m1=((1-mus)*M)/(1+mus)//minimum value of m...............................................(3)\n",
"m2=((1+mus)*M)/(1-mus)//maximum value of m obtained by taking reverse direction of friction in above equations\n",
"\n",
"//(M*g/sqrt(2)) - T = M*a.........newton's second law for M block........................(4)\n",
"//T - (m*g/sqrt(2)) = m*a.........newton's second law for m block........................(5)\n",
"//adding equations (4) and (5)\n",
"//((M*g*(1-muk))/sqrt(2)) - ((m*g*(1+muk))/sqrt(2)) = (M+m)*a\n",
"a=(((M*(1-muk))-(m1*(1+muk)))*g)/(sqrt(2)*(M+m1))//calculating acceleration for minimum value of m if gently pushed......given\n",
"\n",
"printf('the minimum value of m for which the system remains at rest is %3.2f kg',m1)\n",
"printf('\nthe maximum value of m for which the system remains at rest is %3.2f kg',m2)\n",
"printf('\nthe acceleration of either block for minimum value of m and if gently pushed up the incline is %3.2f m/s^2',a)"
   ]
   }
,
{
		   "cell_type": "markdown",
		   "metadata": {},
		   "source": [
			"## Example 6.1: EX6_1.sce"
		   ]
		  },
  {
"cell_type": "code",
	   "execution_count": null,
	   "metadata": {
	    "collapsed": true
	   },
	   "outputs": [],
"source": [
"//developed in windows XP operating system 32bit\n",
"//platform Scilab 5.4.1\n",
"clc;clear;\n",
"//example 6.1\n",
"//calculation of the angle made by the contact force with the vertical and the magnitude of contact force\n",
"\n",
"//given data\n",
"M=.4//mass(in kg) of the body\n",
"f=3//frictional force(in N)\n",
"g=10//gravitational acceleration(in m/s^2) of the earth\n",
"\n",
"//calculation\n",
"N=M*g//formula of normal force\n",
"theta=atand(f/N)//angle made by the contact force with the vertical\n",
"F=sqrt((N*N)+(f*f))\n",
"\n",
"printf('the angle made by the contact force with the vertical is %3.2f degree \n the magnitude of contact force is %3.2f N',theta,F)"
   ]
   }
,
{
		   "cell_type": "markdown",
		   "metadata": {},
		   "source": [
			"## Example 6.1w: calculation_of_the_maximum_angle_to_prevent_slipping.sce"
		   ]
		  },
  {
"cell_type": "code",
	   "execution_count": null,
	   "metadata": {
	    "collapsed": true
	   },
	   "outputs": [],
"source": [
"//developed in windows XP operating system 32bit\n",
"//platform Scilab 5.4.1\n",
"clc;clear;\n",
"//example 6.1w\n",
"//calculation of the maximum angle to prevent slipping\n",
"\n",
"//given data\n",
"mus=.3//coefficient of static friction\n",
"\n",
"//calculation\n",
"thetamax=atand(mus)\n",
"\n",
"printf('the maximum angle to prevent slipping is %3.2f',thetamax)"
   ]
   }
,
{
		   "cell_type": "markdown",
		   "metadata": {},
		   "source": [
			"## Example 6.2: EX6_2.sce"
		   ]
		  },
  {
"cell_type": "code",
	   "execution_count": null,
	   "metadata": {
	    "collapsed": true
	   },
	   "outputs": [],
"source": [
"//developed in windows XP operating system 32bit\n",
"//platform Scilab 5.4.1\n",
"clc;clear;\n",
"//example 6.2\n",
"//calculation of the force of friction exerted by the horizontal surface on the box\n",
"\n",
"//given data\n",
"M=20//mass(in kg) of the box\n",
"muk=.25//coefficient of kinetic friction\n",
"g=9.8//gravitational acceleration(in m/s^2) of the earth\n",
"\n",
"//calculation\n",
"fk=muk*M*g//formula of kinetic friction\n",
"\n",
"printf('the force of friction exerted by the horizontal surface on the box,in opposite direction to the pull is %3.2f N',fk)"
   ]
   }
,
{
		   "cell_type": "markdown",
		   "metadata": {},
		   "source": [
			"## Example 6.2w: EX6_2w.sce"
		   ]
		  },
  {
"cell_type": "code",
	   "execution_count": null,
	   "metadata": {
	    "collapsed": true
	   },
	   "outputs": [],
"source": [
"//developed in windows XP operating system 32bit\n",
"//platform Scilab 5.4.1\n",
"clc;clear;\n",
"//example 6.2w\n",
"//calculation of frictional force and minimum value of coefficient of static friction\n",
"\n",
"//given data\n",
"m=4//mass(in kg) of the block\n",
"f=20//frictional force(in N)=horizontal force(in N)\n",
"g=10//gravitational acceleration(in m/s^2) of the earth\n",
"\n",
"//calculation\n",
"N=m*g//normal force\n",
"musmin=f/N\n",
"\n",
"printf('the frictional force on the block,in opposite direction to the applied force is %3.2f N',f)\n",
"printf('\nthe coefficient of static friction between the block and the table is greater than or equal to %3.2f',musmin)"
   ]
   }
,
{
		   "cell_type": "markdown",
		   "metadata": {},
		   "source": [
			"## Example 6.3: EX6_3.sce"
		   ]
		  },
  {
"cell_type": "code",
	   "execution_count": null,
	   "metadata": {
	    "collapsed": true
	   },
	   "outputs": [],
"source": [
"//developed in windows XP operating system 32bit\n",
"//platform Scilab 5.4.1\n",
"clc;clear;\n",
"//example 6.3\n",
"//calculation of the force of friction exerted by the horse and condition of boy for sliding back\n",
"\n",
"//given data\n",
"M=30//mass(in kg) of the boy\n",
"a=2//average acceleration(in m/s^2) of the horse\n",
"g=10//gravitational acceleration(in m/s^2) of the earth\n",
"\n",
"//calculation\n",
"fs=M*a//Newton's second law\n",
"musmax=fs/(M*g)//equation of static friction\n",
"\n",
"printf('the force of friction exerted by the horse on the boy is %3.2f N',fs)\n",
"printf('\nfor the boy sliding back during acceleration, the value of coefficient of static friction is less than %3.2f ',musmax)"
   ]
   }
,
{
		   "cell_type": "markdown",
		   "metadata": {},
		   "source": [
			"## Example 6.3w: calculation_of_the_maximum_value_of_mass_of_the_block.sce"
		   ]
		  },
  {
"cell_type": "code",
	   "execution_count": null,
	   "metadata": {
	    "collapsed": true
	   },
	   "outputs": [],
"source": [
"//developed in windows XP operating system 32bit\n",
"//platform Scilab 5.4.1\n",
"clc;clear;\n",
"//example 6.3w\n",
"//calculation of the maximum value of mass of the block\n",
"\n",
"//given data\n",
"mus=.2//coefficient of static friction between the block and the table\n",
"M=2//mass(in kg) of one block \n",
"g=10//gravitational acceleration(in m/s^2) of the earth\n",
"\n",
"//calculation\n",
"N=M*g//normal force\n",
"//T=m*g          tension in the string                      (1)\n",
"//fs=mus*N       frictional force                           (2)\n",
"//f=T            from equlibrium equation of 2 kg block     (3)\n",
"//from above equations,we get\n",
"m=(mus*N)/g\n",
"\n",
"printf('the maximum value of mass of the block is %3.2f kg',m)"
   ]
   }
,
{
		   "cell_type": "markdown",
		   "metadata": {},
		   "source": [
			"## Example 6.4: EX6_4.sce"
		   ]
		  },
  {
"cell_type": "code",
	   "execution_count": null,
	   "metadata": {
	    "collapsed": true
	   },
	   "outputs": [],
"source": [
"//developed in windows XP operating system 32bit\n",
"//platform Scilab 5.4.1\n",
"clc;clear;\n",
"//example 6.4\n",
"//calculation of coefficient of static friction and kinetic friction between the block and the plank\n",
"\n",
"//given data\n",
"theta1=18//angle of plank(in degree) with horizontal when block starts slipping\n",
"theta2=15//angle of plank(in degree) with horizontal when block slips with uniform speed\n",
"\n",
"//calculation\n",
"mus=tand(theta1)//formula of coefficient of static friction \n",
"muk=tand(theta2)//formula of coefficient of kinetic friction\n",
"\n",
"printf('the coefficient of static friction between the block and the plank is tan(%d)=%3.2f',theta1,mus)\n",
"printf('\n the coefficient of kinetic friction between the block and the plank is tan(%d)=%3.2f',theta2,muk)"
   ]
   }
,
{
		   "cell_type": "markdown",
		   "metadata": {},
		   "source": [
			"## Example 6.5w: calculation_of_the_coefficient_of_kinetic_friction.sce"
		   ]
		  },
  {
"cell_type": "code",
	   "execution_count": null,
	   "metadata": {
	    "collapsed": true
	   },
	   "outputs": [],
"source": [
"//developed in windows XP operating system 32bit\n",
"//platform Scilab 5.4.1\n",
"clc;clear;\n",
"//example 6.5w\n",
"//calculation of the coefficient of kinetic friction \n",
"\n",
"//given data\n",
"theta=30//angle(in degree)f the incline\n",
"g=10//gravitational acceleration(in m/s^2) of the earth\n",
"\n",
"//calculation\n",
"a=g/4//acceleration(in m/s^2) of the block.....given\n",
"//f=m*g/4................taking parallel components to the incline\n",
"//N=m*g*cosd(theta)......taking vertical components to the incline\n",
"//from above equations,we get\n",
"muk=1/(4*cosd(theta))//     muk=f/N   equation of static friction\n",
"\n",
"printf('the coefficient of kinetic friction is %3.2f',muk)"
   ]
   }
,
{
		   "cell_type": "markdown",
		   "metadata": {},
		   "source": [
			"## Example 6.6w: calculation_of_the_values_of_coefficient_of_static_and_kinetic_friction.sce"
		   ]
		  },
  {
"cell_type": "code",
	   "execution_count": null,
	   "metadata": {
	    "collapsed": true
	   },
	   "outputs": [],
"source": [
"//developed in windows XP operating system 32bit\n",
"//platform Scilab 5.4.1\n",
"clc;clear;\n",
"//example 6.6w\n",
"//calculation of the values of coefficient of static and kinetic friction\n",
"\n",
"//given data\n",
"M=2.5//mass(in kg) of the block\n",
"F=15//horizontal force(in N)\n",
"g=10//gravitational acceleration(in m/s^2) of the earth\n",
"x=10//displacement(in m) of the block\n",
"t=5//time(in s) required by the block\n",
"\n",
"//calculation\n",
"mus=F/(M*g)\n",
"a=(2*x)/(t*t)//acceleration of the block from equation of uniform linear motion\n",
"//F-muk*M*g=M*a.....newton's second law\n",
"muk=(F-(M*a))/(M*g)\n",
"\n",
"printf('the coefficient of static friction between the block and the surface is %3.2f',mus)\n",
"printf('\n the coefficient of kinetic friction between the block and the surface is %3.2f',muk)\n",
""
   ]
   }
],
"metadata": {
		  "kernelspec": {
		   "display_name": "Scilab",
		   "language": "scilab",
		   "name": "scilab"
		  },
		  "language_info": {
		   "file_extension": ".sce",
		   "help_links": [
			{
			 "text": "MetaKernel Magics",
			 "url": "https://github.com/calysto/metakernel/blob/master/metakernel/magics/README.md"
			}
		   ],
		   "mimetype": "text/x-octave",
		   "name": "scilab",
		   "version": "0.7.1"
		  }
		 },
		 "nbformat": 4,
		 "nbformat_minor": 0
}
