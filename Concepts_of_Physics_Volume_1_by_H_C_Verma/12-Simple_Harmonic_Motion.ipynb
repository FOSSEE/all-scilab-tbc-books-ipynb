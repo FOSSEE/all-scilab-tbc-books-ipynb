{
"cells": [
 {
		   "cell_type": "markdown",
	   "metadata": {},
	   "source": [
       "# Chapter 12: Simple Harmonic Motion"
	   ]
	},
{
		   "cell_type": "markdown",
		   "metadata": {},
		   "source": [
			"## Example 12.10: calculation_of_the_value_of_torsional_constant_of_the_wire.sce"
		   ]
		  },
  {
"cell_type": "code",
	   "execution_count": null,
	   "metadata": {
	    "collapsed": true
	   },
	   "outputs": [],
"source": [
"//developed in windows XP operating system 32bit\n",
"//platform Scilab 5.4.1\n",
"clc;clear;\n",
"//example 12.10\n",
"//calculation of the value of torsional constant of the wire\n",
"\n",
"//given data\n",
"m=200*10^-3//mass(in kg) of the disc\n",
"r=5*10^-2//radius(in m) of the disc\n",
"T=0.2//time period(in s) of oscillation\n",
"\n",
"//calculation\n",
"I=m*r*r/2//moment of inertia of the disc about the wire\n",
"k=4*%pi^2*I/T^2//from formula of time period......T = 2*%pi*sqrt(I/k)\n",
"\n",
"printf('the value of torsional constant of the wire is %3.2f kg-m^2/s^2',k)"
   ]
   }
,
{
		   "cell_type": "markdown",
		   "metadata": {},
		   "source": [
			"## Example 12.11: calculation_of_the_amplitude_of_the_simple_harmonic_motion.sce"
		   ]
		  },
  {
"cell_type": "code",
	   "execution_count": null,
	   "metadata": {
	    "collapsed": true
	   },
	   "outputs": [],
"source": [
"//developed in windows XP operating system 32bit\n",
"//platform Scilab 5.4.1\n",
"clc;clear;\n",
"//example 12.11\n",
"//calculation of the amplitude of the simple harmonic motion\n",
"\n",
"//given data\n",
"//x1 = (2.0 cm)*sind(w*t)\n",
"//x2 = (2.0 cm)*sind((w*t) + (180/3))\n",
"A1=2//amplitude(in cm) of the wave 1\n",
"A2=2//amplitude(in cm) of the wave 2\n",
"delta=180/3//phase difference(in degree) between the two waves\n",
"\n",
"//calculation\n",
"A=sqrt(A1^2+A2^2+(2*A1*A2*cosd(delta)))//amplitude of the resultant wave\n",
"\n",
"printf('the amplitude of the simple harmonic motion is %3.1f cm',A )"
   ]
   }
,
{
		   "cell_type": "markdown",
		   "metadata": {},
		   "source": [
			"## Example 12.14w: calculation_of_the_time_period_linear_amplitudde_speed_and_angular_acceleration.sce"
		   ]
		  },
  {
"cell_type": "code",
	   "execution_count": null,
	   "metadata": {
	    "collapsed": true
	   },
	   "outputs": [],
"source": [
"//developed in windows XP operating system 32bit\n",
"//platform Scilab 5.4.1\n",
"clc;clear;\n",
"//example 12.14w\n",
"//calculation of the time period,linear amplitudde,speed and angular acceleration\n",
"\n",
"//given data\n",
"l=40*10^-2//length(in m) of the pendulum\n",
"theta=.04//angular amplitude(in radian)\n",
"theta1=.02//angle(in radian) with the vertical\n",
"g=10//gravitational acceleration(in m/s^2) of the earth\n",
"t=5//time(in s) taken\n",
"\n",
"//calculation\n",
"w=sqrt(g/l)//angular frequency\n",
"T=2*%pi/w//time period\n",
"A=l*theta//linear amplitude\n",
"ohm=t*sqrt(theta^2-theta1^2)//angular speed at disp[lacement theta1\n",
"v=l*ohm//linear speed\n",
"alpha=theta*w^2//angular acceleration\n",
"\n",
"printf('the time period of the pendululum is %3.2f s',T)\n",
"printf('\nthe linear amplitude of the pendulum is %3.1f cm',A*10^2)\n",
"printf('\nthe linear speed of the pendulum at displacement of 0.02 rad is %3.1f cm/s',v*10^2)\n",
"printf('\nthe angular acceleration of the pendulum is %d rad s^-2',alpha)"
   ]
   }
,
{
		   "cell_type": "markdown",
		   "metadata": {},
		   "source": [
			"## Example 12.16w: calculation_of_the_time_period_of_small_oscillations.sce"
		   ]
		  },
  {
"cell_type": "code",
	   "execution_count": null,
	   "metadata": {
	    "collapsed": true
	   },
	   "outputs": [],
"source": [
"//developed in windows XP operating system 32bit\n",
"//platform Scilab 5.4.1\n",
"clc;clear;\n",
"//example 12.16w\n",
"//calculation of the time period of small oscillations\n",
"\n",
"//given data\n",
"//h=R.....height equal to radius of the circle\n",
"g=%pi^2//gravitational acceleration(in m/s^2) of the earth\n",
"l=1//length(in m) of the string\n",
"\n",
"//calculation\n",
"//at height R\n",
"//gdash = G*M/(R+R)^2 = g/4\n",
"gdash=g/4\n",
"T=2*%pi*sqrt(l/gdash)//time period\n",
"\n",
"printf('The time period of small oscillations is %d s',T)"
   ]
   }
,
{
		   "cell_type": "markdown",
		   "metadata": {},
		   "source": [
			"## Example 12.18w: EX12_18w.sce"
		   ]
		  },
  {
"cell_type": "code",
	   "execution_count": null,
	   "metadata": {
	    "collapsed": true
	   },
	   "outputs": [],
"source": [
"//developed in windows XP operating system 32bit\n",
"//platform Scilab 5.4.1\n",
"clc;clear;\n",
"//example 12.18w\n",
"//calculation of the time period of small oscillation about the point of suspension\n",
"\n",
"//given data\n",
"l=1//length(in m) of the stick\n",
"d=40*10^-2//distance(in m) of the centre from point of suspension\n",
"g=10//gravitational acceleration(in m/s^2) of the earth\n",
"\n",
"//calculation\n",
"//moment of inertia.....I = (m*l*l/12) + (m*d*d)\n",
"//time period...........T=2*%pi*sqrt(I/m*g*d)\n",
"//solving the above equations,we get\n",
"T=2*%pi*sqrt(((l*l/12)+(d*d))/(g*d))\n",
"\n",
"printf('the time period of small oscillation about the point of suspension is %3.2f s',T)"
   ]
   }
,
{
		   "cell_type": "markdown",
		   "metadata": {},
		   "source": [
			"## Example 12.19w: calculation_of_the_moment_of_inertia_of_the_second_disc_about_the_wire.sce"
		   ]
		  },
  {
"cell_type": "code",
	   "execution_count": null,
	   "metadata": {
	    "collapsed": true
	   },
	   "outputs": [],
"source": [
"//developed in windows XP operating system 32bit\n",
"//platform Scilab 5.4.1\n",
"clc;clear;\n",
"//example 12.19w\n",
"//calculation of the moment of inertia of the second disc about the wire\n",
"\n",
"//given data\n",
"I=0.2//moment of inertia(in kg-m^2) of the original disc\n",
"T=2//time period(in s) of the oscillation of the original disc\n",
"T1=2.5//time period(in s) of the oscillation of the system of two discs\n",
"\n",
"//calculation\n",
"//from equation of time period......T = 2*%pi*sqrt(I/K) \n",
"I1=((T1^2/T^2)*(I))-I//moment of inertia of the second disc\n",
"\n",
"printf('the moment of inertia of the second disc about the wire is %3.2f kg-m^2',I1)"
   ]
   }
,
{
		   "cell_type": "markdown",
		   "metadata": {},
		   "source": [
			"## Example 12.1: calculation_of_the_spring_constant.sce"
		   ]
		  },
  {
"cell_type": "code",
	   "execution_count": null,
	   "metadata": {
	    "collapsed": true
	   },
	   "outputs": [],
"source": [
"//developed in windows XP operating system 32bit\n",
"//platform Scilab 5.4.1\n",
"clc;clear;\n",
"//example 12.1\n",
"//calculation of the spring constant\n",
"\n",
"//given data\n",
"F=4//force(in N) acting\n",
"x=5*10^-2//distance(in m) from the centre\n",
"\n",
"//calculation\n",
"k=F/x//value of spring constant\n",
"\n",
"printf('the value of spring constant is %d N/m',k)"
   ]
   }
,
{
		   "cell_type": "markdown",
		   "metadata": {},
		   "source": [
			"## Example 12.1w: calculation_of_the_amplitude_time_period_maximum_speed_and_velocity_at_time_t.sce"
		   ]
		  },
  {
"cell_type": "code",
	   "execution_count": null,
	   "metadata": {
	    "collapsed": true
	   },
	   "outputs": [],
"source": [
"//developed in windows XP operating system 32bit\n",
"//platform Scilab 5.4.1\n",
"clc;clear;\n",
"//example 12.1w\n",
"//calculation of the amplitude,time period,maximum speed and velocity at time t\n",
"\n",
"//given data\n",
"//x = (5 m)*sind((%pi s^-1)t + (180/3))......equation of simple harmonic motion\n",
"\n",
"//calculation\n",
"A=5//amplitude(in m)\n",
"w=%pi\n",
"T=(2*%pi)/w//time period(in s)\n",
"vmax=A*w//maximum speed\n",
"v=A*w*cosd(180+(180/3))\n",
"\n",
"printf('the amplitude is %d m',A)\n",
"printf('\nthe time period is %d s',T)\n",
"printf('\nthe maximum speed is %3.2f m/s',vmax)\n",
"printf('\nthe velocity at time t=1 s is %3.2f m/s',v)\n",
""
   ]
   }
,
{
		   "cell_type": "markdown",
		   "metadata": {},
		   "source": [
			"## Example 12.22w: calculation_of_the_phase_difference_between_the_individual_motions.sce"
		   ]
		  },
  {
"cell_type": "code",
	   "execution_count": null,
	   "metadata": {
	    "collapsed": true
	   },
	   "outputs": [],
"source": [
"//developed in windows XP operating system 32bit\n",
"//platform Scilab 5.4.1\n",
"clc;clear;\n",
"//example 12.22w\n",
"//calculation of the phase difference between the individual motions\n",
"\n",
"//given data\n",
"//amplitudes of both the waves are same\n",
"//resultant amplitude is equal to individual amplitudes\n",
"\n",
"//calculation\n",
"//the resultant amplitude is.......A = sqrt(A^2 + A^2 + 2*A*A*cosd(delta))\n",
"//on further solving..........A = 2*A*cos(delta/2)\n",
"delta=2*(acosd(1/2))\n",
"\n",
"printf('the phase difference between the individual motions is %d degree',delta)"
   ]
   }
,
{
		   "cell_type": "markdown",
		   "metadata": {},
		   "source": [
			"## Example 12.2: calculation_of_the_amplitude_of_the_motion.sce"
		   ]
		  },
  {
"cell_type": "code",
	   "execution_count": null,
	   "metadata": {
	    "collapsed": true
	   },
	   "outputs": [],
"source": [
"//developed in windows XP operating system 32bit\n",
"//platform Scilab 5.4.1\n",
"clc;clear;\n",
"//example 12.2\n",
"//calculation of the amplitude of the motion\n",
"\n",
"//given data\n",
"m=0.5//mass(in kg) of the particle\n",
"//F = -50*x ......force(in N/m)\n",
"v=10//speed(in m/s) of the oscillation\n",
"\n",
"//calculation\n",
"E=(m*v*v/2)//kinetic energy of the particle at centre of oscillation\n",
"//from principle of conservation of energy......E = (k*A*A/2)\n",
"A=sqrt(E*2/50)\n",
"\n",
"printf('the amplitude of the motion is %d m',A)"
   ]
   }
,
{
		   "cell_type": "markdown",
		   "metadata": {},
		   "source": [
			"## Example 12.2w: calculation_of_the_maximum_force_exerted_by_the_spring_on_the_block.sce"
		   ]
		  },
  {
"cell_type": "code",
	   "execution_count": null,
	   "metadata": {
	    "collapsed": true
	   },
	   "outputs": [],
"source": [
"//developed in windows XP operating system 32bit\n",
"//platform Scilab 5.4.1\n",
"clc;clear;\n",
"//example 12.2w\n",
"//calculation of the maximum force exerted by the spring on the block\n",
"\n",
"//given data\n",
"m=5//masss(in kg) of the block\n",
"A=0.1//amplitude(in m) of the motion\n",
"T=3.14//time period(in s) of the motion\n",
"\n",
"//calculation\n",
"w=2*%pi/T//angular frequency\n",
"k=m*w*w//spring constant\n",
"F=k*A//maximum force\n",
"\n",
"printf('the maximum force exerted by the spring on the block is %d N',F)"
   ]
   }
,
{
		   "cell_type": "markdown",
		   "metadata": {},
		   "source": [
			"## Example 12.3: calculation_of_the_time_period_of_oscillation_of_the_particle.sce"
		   ]
		  },
  {
"cell_type": "code",
	   "execution_count": null,
	   "metadata": {
	    "collapsed": true
	   },
	   "outputs": [],
"source": [
"//developed in windows XP operating system 32bit\n",
"//platform Scilab 5.4.1\n",
"clc;clear;\n",
"//example 12.3\n",
"//calculation of the time period of oscillation of the particle\n",
"\n",
"//given data\n",
"m=200*10^-3//mass(in kg) of the particle\n",
"k=80//spring constant(in N/m)\n",
"\n",
"//calculation\n",
"T=2*%pi*sqrt(m/k)//formula of time period\n",
"\n",
"printf('the time period of oscillation of the particle is %3.2f s',T)"
   ]
   }
,
{
		   "cell_type": "markdown",
		   "metadata": {},
		   "source": [
			"## Example 12.3w: EX12_3w.sce"
		   ]
		  },
  {
"cell_type": "code",
	   "execution_count": null,
	   "metadata": {
	    "collapsed": true
	   },
	   "outputs": [],
"source": [
"//developed in windows XP operating system 32bit\n",
"//platform Scilab 5.4.1\n",
"clc;clear;\n",
"//example 12.3w\n",
"//calculation of the maximum time period,maximum speed,maximum acceleration,speed for a given displacement,speed at a given time\n",
"\n",
"//given data\n",
"w=6.28//angular frequency(in s^-1) of simple harmonic motion\n",
"A=10*10^-2//amplitude(in m) of simple harmonic motion\n",
"x=6*10^-2//displacement(in m) from the mean position\n",
"t=1/6//time(in s)\n",
"\n",
"//calculation\n",
"T=2*%pi/w//time period\n",
"vmax=A*w//maximum speed\n",
"amax=A*w^2//maximum acceleration\n",
"vx=w*sqrt(A^2-x^2)//speed for displacement x from mean position\n",
"vt=-A*w*sind((w*t)*(180/%pi))//speed at time t\n",
"\n",
"printf('the time period is %d s',T)\n",
"printf('\nthe maximum speed is %3.3f m/s',vmax)\n",
"printf('\nthe maximum acceleration is %d m/s^2',round(amax))\n",
"printf('\nthe speed for displacement x=6 cm from mean position is %3.1f cm/s',vx*10^2)\n",
"printf('\nthe speed at time t= 1/6 s is %3.1f cm/s',vt*10^2)"
   ]
   }
,
{
		   "cell_type": "markdown",
		   "metadata": {},
		   "source": [
			"## Example 12.4: calculation_of_the_value_of_phase_constant.sce"
		   ]
		  },
  {
"cell_type": "code",
	   "execution_count": null,
	   "metadata": {
	    "collapsed": true
	   },
	   "outputs": [],
"source": [
"//developed in windows XP operating system 32bit\n",
"//platform Scilab 5.4.1\n",
"clc;clear;\n",
"//example 12.4\n",
"//calculation of the value of phase constant\n",
"\n",
"//given data\n",
"//x = A/2\n",
"//x = A *sind((w*t) + delta).......equation\n",
"\n",
"//calculation\n",
"//at t=0   delta=asind((A/2)/A)\n",
"delta=asind(1/2)\n",
"delta1=180-delta//another value of delta\n",
"//v = dx/dt = A*w*cosd((w*t) + delta)\n",
"//at t=0 , v = A*w*cosd(delta)\n",
"m1=cosd(delta)\n",
"m2=cosd(delta1)\n",
"if(m1>0)\n",
"    deltaf=delta//value of v positive at t=0\n",
"else\n",
"    deltaf=delta1\n",
"end\n",
"\n",
"printf('the value of phase constant is %d degree',deltaf)"
   ]
   }
,
{
		   "cell_type": "markdown",
		   "metadata": {},
		   "source": [
			"## Example 12.5: calculation_of_the_total_mechanical_energy_of_the_system.sce"
		   ]
		  },
  {
"cell_type": "code",
	   "execution_count": null,
	   "metadata": {
	    "collapsed": true
	   },
	   "outputs": [],
"source": [
"//developed in windows XP operating system 32bit\n",
"//platform Scilab 5.4.1\n",
"clc;clear;\n",
"//example 12.5\n",
"//calculation of the total mechanical energy of the system\n",
"\n",
"//given data\n",
"m=40*10^-3//mass(in kg) of the particle\n",
"A=2*10^-2//amplitude(in cm) of motion\n",
"T=0.2//time period(in s) of oscillation\n",
"\n",
"//calculation\n",
"E=(2*%pi*%pi*m*A*A)/(T*T)//total mechanical energy of the system\n",
"\n",
"printf('the total mechanical energy of the system is %3.1e J',E)"
   ]
   }
,
{
		   "cell_type": "markdown",
		   "metadata": {},
		   "source": [
			"## Example 12.6w: EX12_6w.sce"
		   ]
		  },
  {
"cell_type": "code",
	   "execution_count": null,
	   "metadata": {
	    "collapsed": true
	   },
	   "outputs": [],
"source": [
"//developed in windows XP operating system 32bit\n",
"//platform Scilab 5.4.1\n",
"clc;clear;\n",
"//example 12.6w\n",
"//calculation of the maximum speed of the block and the speed when the spring is stretched \n",
"\n",
"//given data\n",
"nu=10//frequency(in s^-1) of oscillation\n",
"l=.20*10^-2//stretch(in m) of the spring\n",
"g=%pi^2//gravitational acceleration(in m/s^2) of the earth\n",
"\n",
"//calculation\n",
"//Amplitude................A = m*g/k..............(1)\n",
"//angular frequency.......w=sqrt(k/m).............(2)\n",
"//from above equations,we get\n",
"w=2*%pi*nu//angular frequency\n",
"A=((1/w)^2)*g\n",
"vmax=A*w//maximum speed\n",
"x=A-l//displacement(in m) from mean position\n",
"v=w*(sqrt(A^2-x^2))\n",
"\n",
"printf('the maximum speed of the block is %3.2f cm/s',vmax*10^2)\n",
"printf('\nthe speed when the spring is stretched by 0.20 cm is %3.1f cm/s',v*10^2)"
   ]
   }
,
{
		   "cell_type": "markdown",
		   "metadata": {},
		   "source": [
			"## Example 12.6: writing_the_equation_giving_angular_displacement_as_a_function_of_time.sce"
		   ]
		  },
  {
"cell_type": "code",
	   "execution_count": null,
	   "metadata": {
	    "collapsed": true
	   },
	   "outputs": [],
"source": [
"//developed in windows XP operating system 32bit\n",
"//platform Scilab 5.4.1\n",
"clc;clear;\n",
"//example 12.6\n",
"//writing the equation giving angular displacement as a function of time\n",
"\n",
"//given data\n",
"theta0=%pi/10//amplitude(in rad) of motion\n",
"theta=%pi/10//displacement(in rad) at t=0 s\n",
"T=.05//time period(in s)\n",
"\n",
"//calculation\n",
"//required equation is ......theta = theta0*sind((w*t) + delta)\n",
"w=(2*%pi)/T//value of w in above equation\n",
"delta=asind(theta/theta0)//value of delta in above equation...i.e at t=0\n",
"\n",
"printf('equation giving angular displacement as a function of time is \n  theta = (%3.2f rad)*sin[(%3.2f s^-1)t + %d]',theta0,w,delta)"
   ]
   }
,
{
		   "cell_type": "markdown",
		   "metadata": {},
		   "source": [
			"## Example 12.7: calculation_of_the_time_period_of_a_pendulum.sce"
		   ]
		  },
  {
"cell_type": "code",
	   "execution_count": null,
	   "metadata": {
	    "collapsed": true
	   },
	   "outputs": [],
"source": [
"//developed in windows XP operating system 32bit\n",
"//platform Scilab 5.4.1\n",
"clc;clear;\n",
"//example 12.7\n",
"//calculation of the time period of a pendulum\n",
"\n",
"//given data\n",
"g=%pi^2//gravitational acceleration(in m/s^2) of the earth\n",
"l=1//length(in m) of the pendulum\n",
"\n",
"//calculation\n",
"T=2*%pi*sqrt(l*g^-1)//formula of time period\n",
"\n",
"printf('the time period of the pendulum is %3.1f s',T)"
   ]
   }
,
{
		   "cell_type": "markdown",
		   "metadata": {},
		   "source": [
			"## Example 12.8: calculation_of_the_value_of_the_acceleration_due_to_gravity.sce"
		   ]
		  },
  {
"cell_type": "code",
	   "execution_count": null,
	   "metadata": {
	    "collapsed": true
	   },
	   "outputs": [],
"source": [
"//developed in windows XP operating system 32bit\n",
"//platform Scilab 5.4.1\n",
"clc;clear;\n",
"//example 12.8\n",
"//calculation of the value of the acceleration due to gravity\n",
"\n",
"//given data\n",
"t=36//time(in s) taken\n",
"n=20//number of oscillations\n",
"l=80*10^-2//effective length(in m)\n",
"\n",
"//calculation\n",
"T=t/n//time period\n",
"g=(4*%pi^2*l)/(T^2)//formula of time period..........T=2*%pi*sqrt(l*g^-1)\n",
"\n",
"printf('the value of the acceleration due to gravity is %3.2f m/s^2',g)"
   ]
   }
,
{
		   "cell_type": "markdown",
		   "metadata": {},
		   "source": [
			"## Example 12.9: calculation_of_the_time_period_of_oscillation.sce"
		   ]
		  },
  {
"cell_type": "code",
	   "execution_count": null,
	   "metadata": {
	    "collapsed": true
	   },
	   "outputs": [],
"source": [
"//developed in windows XP operating system 32bit\n",
"//platform Scilab 5.4.1\n",
"clc;clear;\n",
"//example 12.9\n",
"//calculation of the time period of oscillation\n",
"\n",
"//given data\n",
"L=1//length(in m) of the rod\n",
"g=9.8//gravitational acceleration(in m/s^2) of the earth\n",
"\n",
"//calculation\n",
"//from formula of time period......T = 2*%pi*sqrt(I/(m*g*l))\n",
"//for uniform rod ....I = (m*L*L*L/3) and l=L/2\n",
"T=2*%pi*sqrt((2*L)/(3*g))\n",
"\n",
"printf('the time period of oscillation is %3.2f s',T)"
   ]
   }
],
"metadata": {
		  "kernelspec": {
		   "display_name": "Scilab",
		   "language": "scilab",
		   "name": "scilab"
		  },
		  "language_info": {
		   "file_extension": ".sce",
		   "help_links": [
			{
			 "text": "MetaKernel Magics",
			 "url": "https://github.com/calysto/metakernel/blob/master/metakernel/magics/README.md"
			}
		   ],
		   "mimetype": "text/x-octave",
		   "name": "scilab",
		   "version": "0.7.1"
		  }
		 },
		 "nbformat": 4,
		 "nbformat_minor": 0
}
