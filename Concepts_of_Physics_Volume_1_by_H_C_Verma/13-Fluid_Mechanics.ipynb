{
"cells": [
 {
		   "cell_type": "markdown",
	   "metadata": {},
	   "source": [
       "# Chapter 13: Fluid Mechanics"
	   ]
	},
{
		   "cell_type": "markdown",
		   "metadata": {},
		   "source": [
			"## Example 13.10w: calculation_of_the_rate_of_water_flow_through_the_tube.sce"
		   ]
		  },
  {
"cell_type": "code",
	   "execution_count": null,
	   "metadata": {
	    "collapsed": true
	   },
	   "outputs": [],
"source": [
"//developed in windows XP operating system 32bit\n",
"//platform Scilab 5.4.1\n",
"clc;clear;\n",
"//example 13.10w\n",
"//calculation of the rate of water flow through the tube\n",
"\n",
"//given data\n",
"A1=30//area(in cm^2) of the tube at point A\n",
"A2=15//area(in cm^2) of the tube at point B\n",
"deltaP=600//change in pressure(in N/m^2)\n",
"rho0=1000//density of the water(in kg/m^3)\n",
"\n",
"//calculation\n",
"r=A1/A2//ratio of area\n",
"//from equation of continuity  vB/vA = A1/A2 = r = 2\n",
"//by Bernoulli equtation.....P1 + (rho*g*h1) + (rho*v1^2/2) = P2 + (rho*g*h2) + (rho*v2^2/2)\n",
"//take vB = vA*2\n",
"vA=sqrt(deltaP*(r/(r+1))*(1/rho0))\n",
"Rflow=vA*A1//rate of water flow \n",
"\n",
"printf('the rate of water flow through the tube is %d cm^3/s',Rflow*10^2)"
   ]
   }
,
{
		   "cell_type": "markdown",
		   "metadata": {},
		   "source": [
			"## Example 13.11w: calculation_of_the_velocity_of_the_water_coming_out_of_the_opening.sce"
		   ]
		  },
  {
"cell_type": "code",
	   "execution_count": null,
	   "metadata": {
	    "collapsed": true
	   },
	   "outputs": [],
"source": [
"//developed in windows XP operating system 32bit\n",
"//platform Scilab 5.4.1\n",
"clc;clear;\n",
"//example 13.11w\n",
"//calculation of the velocity of the water coming out of the opening \n",
"\n",
"//given data\n",
"AA=.5//area(in m^2) of the tank\n",
"AB=1*10^-4//area(in m^2) of the cross section at the bottom\n",
"m=20//mass(in kg) of the load\n",
"h=50*10^-2//height(in m)of the water level\n",
"g=10//gravitational acceleration(in m/s^2) of the earth \n",
"rho=1000//density of the water(in kg/m^3)\n",
"\n",
"//calculation\n",
"//from the equation............P = P0 + (h*rho*g)//pressure at the bottom\n",
"r=m*g/AA//in above equation it is the value of (h*rho*g)\n",
"//on solving,we get............PA = P0 + (400 N/m^2)\n",
"//from Bernoulli equtation.....P1 + (rho*g*h1) + (rho*v1^2/2) = P2 + (rho*g*h2) + (rho*v2^2/2)\n",
"//we get\n",
"vB=sqrt((2*(r+(rho*g*h)))/rho)\n",
"\n",
"printf('the velocity of the water coming out of the opening is %3.1f m/s',vB)"
   ]
   }
,
{
		   "cell_type": "markdown",
		   "metadata": {},
		   "source": [
			"## Example 13.1: calculation_of_the_force_exerted_by_the_water_on_the_bottom.sce"
		   ]
		  },
  {
"cell_type": "code",
	   "execution_count": null,
	   "metadata": {
	    "collapsed": true
	   },
	   "outputs": [],
"source": [
"//developed in windows XP operating system 32bit\n",
"//platform Scilab 5.4.1\n",
"clc;clear;\n",
"//example 13.1\n",
"//calculation of the force exerted by the water on the bottom\n",
"\n",
"//given data\n",
"h=20*10^-2//height(in m) of the flask\n",
"r=10*10^-2//radius(in m) of the bottom of the flask\n",
"P0=1.01*10^5//atmospheric pressure(in Pa)\n",
"rho=1000//density of water(in kg/m^3)\n",
"g=10//gravitational acceleration(in m/s^2) of the earth\n",
"\n",
"//calculation\n",
"P=P0+(h*rho*g)//pressure at the bottom\n",
"A=%pi*r^2//area of the bottom \n",
"F=P*A//force on the bottom\n",
"\n",
"printf('the force exerted by the water on the bottom is %d N',F)"
   ]
   }
,
{
		   "cell_type": "markdown",
		   "metadata": {},
		   "source": [
			"## Example 13.1w: calculation_of_the_force_exerted_by_the_mercury_on_the_bottom_of_the_beaker.sce"
		   ]
		  },
  {
"cell_type": "code",
	   "execution_count": null,
	   "metadata": {
	    "collapsed": true
	   },
	   "outputs": [],
"source": [
"//developed in windows XP operating system 32bit\n",
"//platform Scilab 5.4.1\n",
"clc;clear;\n",
"//example 13.1w\n",
"//calculation of the force exerted by the mercury on the bottom of the beaker\n",
"\n",
"//given data\n",
"h=10*10^-2//height(in m) of the mercury\n",
"r=4*10^-2//radius(in m) of the beaker\n",
"g=10//gravitational acceleration(in m/s^2) of the earth\n",
"P0=1*10^5//atmospheric pressure(in Pa)\n",
"rho=13600//density of mercury(in kg/m^3)\n",
"\n",
"//calculation\n",
"P=P0+(h*rho*g)//pressure at the bottom\n",
"A=%pi*r^2//area of the bottom \n",
"F=P*A//force on the bottom\n",
"\n",
"printf('the force exerted by the mercury on the bottom of the beaker is %d N',F)"
   ]
   }
,
{
		   "cell_type": "markdown",
		   "metadata": {},
		   "source": [
			"## Example 13.2: calculation_of_the_volume_of_the_cube_outside_the_water.sce"
		   ]
		  },
  {
"cell_type": "code",
	   "execution_count": null,
	   "metadata": {
	    "collapsed": true
	   },
	   "outputs": [],
"source": [
"//developed in windows XP operating system 32bit\n",
"//platform Scilab 5.4.1\n",
"clc;clear;\n",
"//example 13.2\n",
"//calculation of the volume of the cube outside the water\n",
"\n",
"//given data\n",
"m=700*10^-3//mass(in kg) of the cube\n",
"l=10*10^-2//length(in m) of the cube\n",
"rho=1000//density of water(in kg/m^3)\n",
"\n",
"//calculation\n",
"V=m/rho//weight of displaced water = V*rho*g\n",
"Vtotal=l^3//total volume of the cube\n",
"Vout=Vtotal-V//volume of the cube outside the water\n",
"\n",
"printf('the volume of the cube outside the water is %d cm^3',Vout*10^6)"
   ]
   }
,
{
		   "cell_type": "markdown",
		   "metadata": {},
		   "source": [
			"## Example 13.2w: EX13_2w.sce"
		   ]
		  },
  {
"cell_type": "code",
	   "execution_count": null,
	   "metadata": {
	    "collapsed": true
	   },
	   "outputs": [],
"source": [
"//developed in windows XP operating system 32bit\n",
"//platform Scilab 5.4.1\n",
"clc;clear;\n",
"//example 13.2w\n",
"//calculation of the height of the atmosphere to exert the same pressure as at the surface of the earth\n",
"\n",
"//given data\n",
"P0=1*10^5//atmospheric pressure(in Pa)\n",
"rho=1.3//density of air(in kg/m^3)\n",
"g=9.8//gravitational acceleration(in m/s^2) of the earth\n",
"\n",
"//calculation\n",
"h=P0/(g*rho)\n",
"\n",
"printf('the height of the atmosphere to exert the same pressure as at the surface of the earth is %d m',round(h))"
   ]
   }
,
{
		   "cell_type": "markdown",
		   "metadata": {},
		   "source": [
			"## Example 13.3: calculation_of_the_speed_of_the_outgoing_liquid.sce"
		   ]
		  },
  {
"cell_type": "code",
	   "execution_count": null,
	   "metadata": {
	    "collapsed": true
	   },
	   "outputs": [],
"source": [
"//developed in windows XP operating system 32bit\n",
"//platform Scilab 5.4.1\n",
"clc;clear;\n",
"//example 13.3\n",
"//calculation of the speed of the outgoing liquid\n",
"\n",
"//given data\n",
"A1=1*10^-4//area(in m^2) of the inlet of the tube\n",
"A2=20*10^-6//area(in m^2) of the outlet of the tube\n",
"v1=2//speed(in cm/s) of the ingoing liquid\n",
"\n",
"//calculation\n",
"v2=A1*v1/A2//equation of continuity\n",
"\n",
"printf('the speed of the outgoing liquid is %d cm/s',v2)"
   ]
   }
,
{
		   "cell_type": "markdown",
		   "metadata": {},
		   "source": [
			"## Example 13.3w: calculation_of_the_height_of_the_water_coloumn.sce"
		   ]
		  },
  {
"cell_type": "code",
	   "execution_count": null,
	   "metadata": {
	    "collapsed": true
	   },
	   "outputs": [],
"source": [
"//developed in windows XP operating system 32bit\n",
"//platform Scilab 5.4.1\n",
"clc;clear;\n",
"//example 13.3w\n",
"//calculation of the height of the water coloumn\n",
"\n",
"//given data\n",
"h1=2*10^-2//difference in the height(in m)\n",
"s=13.6//specific gravity of mercury\n",
"\n",
"//calculation\n",
"//P = P0 + (h*rho*g)........using this equation\n",
"h=h1*s//height of the water coloumn\n",
"\n",
"printf('the height of the water coloumn is %d cm',h*10^2)"
   ]
   }
,
{
		   "cell_type": "markdown",
		   "metadata": {},
		   "source": [
			"## Example 13.4: calculation_of_the_difference_in_the_pressures_at_A_and_B_point.sce"
		   ]
		  },
  {
"cell_type": "code",
	   "execution_count": null,
	   "metadata": {
	    "collapsed": true
	   },
	   "outputs": [],
"source": [
"//developed in windows XP operating system 32bit\n",
"//platform Scilab 5.4.1\n",
"clc;clear;\n",
"//example 13.4\n",
"//calculation of the difference in the pressures at A and B point\n",
"\n",
"//given data\n",
"A1=1*10^-4//area(in m^2) at point A of the tube\n",
"A2=20*10^-6//area(in m^2) at point B of the tube\n",
"v1=10*10^-2//speed(in m/s) of the ingoing liquid\n",
"rho=1200//density of the liquid(in kg/m^3)\n",
"\n",
"//calculation\n",
"v2=A1*v1/A2//equation of continuity\n",
"//by Bernoulli equtation.....P1 + (rho*g*h1) + (rho*v1^2/2) = P2 + (rho*g*h2) + (rho*v2^2/2)\n",
"deltaP=(1/2)*rho*(v2^2-v1^2)\n",
"\n",
"printf('the difference in the pressures at A and B point is %d Pa',deltaP)"
   ]
   }
,
{
		   "cell_type": "markdown",
		   "metadata": {},
		   "source": [
			"## Example 13.5: calculation_of_the_speed_of_the_water_coming_out_of_the_tap.sce"
		   ]
		  },
  {
"cell_type": "code",
	   "execution_count": null,
	   "metadata": {
	    "collapsed": true
	   },
	   "outputs": [],
"source": [
"//developed in windows XP operating system 32bit\n",
"//platform Scilab 5.4.1\n",
"clc;clear;\n",
"//example 13.5\n",
"//calculation of the speed of the water coming out of the tap\n",
"\n",
"//given data\n",
"h=6//depth(in m) of the tap\n",
"g=9.8//gravitational acceleration(in m/s^2) of the earth\n",
"\n",
"//calculation\n",
"v=sqrt(2*g*h)//torricelli's theorem\n",
"\n",
"printf('the speed of the water coming out of the tap is %d m/s',round(v))"
   ]
   }
,
{
		   "cell_type": "markdown",
		   "metadata": {},
		   "source": [
			"## Example 13.5w: calculation_of_the_force_applied_on_the_water_in_the_thicker_arm.sce"
		   ]
		  },
  {
"cell_type": "code",
	   "execution_count": null,
	   "metadata": {
	    "collapsed": true
	   },
	   "outputs": [],
"source": [
"//developed in windows XP operating system 32bit\n",
"//platform Scilab 5.4.1\n",
"clc;clear;\n",
"//example 13.5w\n",
"//calculation of the force applied on the water in the thicker arm\n",
"\n",
"//given data\n",
"A1=1*10^-4//area(in m^2) of arm 1\n",
"A2=10*10^-4//area(in m^2) of arm 2\n",
"f=5//force(in N) applied on the water in the thinner arm\n",
"\n",
"//calculation\n",
"//P = P0 + (h*rho*g)........using this equation\n",
"F=f*A2/A1//force applied on the water in the thicker arm\n",
"\n",
"printf('the force applied on the water in the thicker arm is %d N',F)"
   ]
   }
,
{
		   "cell_type": "markdown",
		   "metadata": {},
		   "source": [
			"## Example 13.6w: calculation_of_the_elongation_of_the_spring.sce"
		   ]
		  },
  {
"cell_type": "code",
	   "execution_count": null,
	   "metadata": {
	    "collapsed": true
	   },
	   "outputs": [],
"source": [
"//developed in windows XP operating system 32bit\n",
"//platform Scilab 5.4.1\n",
"clc;clear;\n",
"//example 13.6w\n",
"//calculation of the elongation of the spring\n",
"\n",
"//given data\n",
"m=10*10^-3//mass(in kg) of the copper piece\n",
"l=1*10^-2//elongation(in m) in the spring\n",
"g=10//gravitational acceleration(in m/s^2) of the earth\n",
"rho=9000//density of copper(in kg/m^3)\n",
"rho0=1000//density of water(in kg/m^3)\n",
"\n",
"//calculation\n",
"k=m*g/l//spring constant\n",
"V=m/rho//volume of copper\n",
"Fb=V*rho0*g//force of buoyancy\n",
"x=((k*l)-Fb)/k//elongation of the spring\n",
"\n",
"printf('the elongation of the spring is %3.2f cm',x*10^2)"
   ]
   }
,
{
		   "cell_type": "markdown",
		   "metadata": {},
		   "source": [
			"## Example 13.7w: EX13_7w.sce"
		   ]
		  },
  {
"cell_type": "code",
	   "execution_count": null,
	   "metadata": {
	    "collapsed": true
	   },
	   "outputs": [],
"source": [
"//developed in windows XP operating system 32bit\n",
"//platform Scilab 5.4.1\n",
"clc;clear;\n",
"//example 13.7w\n",
"//calculation of the maximum weight that can be put on the block without wetting it\n",
"\n",
"//given data\n",
"l=3*10^-2//length(in m) of the edge of the cubical block\n",
"rho=800//density of wood(in kg/m^3)\n",
"k=50//spring constant(in N/m)\n",
"g=10//gravitational acceleration(in m/s^2) of the earth\n",
"rho0=1000//density of water(in kg/m^3)\n",
"\n",
"//calculation\n",
"s=rho/rho0//specific gravity\n",
"hin=l*s//height inside water\n",
"hout=l-hin//height outside water\n",
"V=l^3//volume of the block\n",
"Fb=V*rho0*g//force of buoyancy\n",
"Fs=k*hout//force exerted by the spring\n",
"Wdash=V*rho*g//weight of the block\n",
"W=Fb+Fs-Wdash//maximum weight\n",
"\n",
"printf('the maximum weight that can be put on the block without wetting it is %3.2f N',W)"
   ]
   }
,
{
		   "cell_type": "markdown",
		   "metadata": {},
		   "source": [
			"## Example 13.8w: calculation_of_the_angle_that_the_plank_makes_with_the_vertical_in_equilibrium.sce"
		   ]
		  },
  {
"cell_type": "code",
	   "execution_count": null,
	   "metadata": {
	    "collapsed": true
	   },
	   "outputs": [],
"source": [
"//developed in windows XP operating system 32bit\n",
"//platform Scilab 5.4.1\n",
"clc;clear;\n",
"//example 13.8w\n",
"//calculation of the angle that the plank makes with the vertical in equilibrium\n",
"\n",
"//given data\n",
"l=1//length(in m) of the planck\n",
"h=0.5//height(in m) of the water level in the tank \n",
"s=0.5//specific gravity of the planck\n",
"\n",
"//calculation\n",
"//A = OC/2 = l/(2*cosd(theta)\n",
"// mg = 2*l*rho*g\n",
"//buoyant force   Fb=(2*l*rho*g)/cosd(theta)\n",
"//m*g*(OB)*sind(theta) = F(OA)*sind(theta)\n",
"theta=acosd(sqrt(1/2))\n",
"\n",
"printf('the angle that the plank makes with the vertical in equilibrium is %d degree',theta)"
   ]
   }
],
"metadata": {
		  "kernelspec": {
		   "display_name": "Scilab",
		   "language": "scilab",
		   "name": "scilab"
		  },
		  "language_info": {
		   "file_extension": ".sce",
		   "help_links": [
			{
			 "text": "MetaKernel Magics",
			 "url": "https://github.com/calysto/metakernel/blob/master/metakernel/magics/README.md"
			}
		   ],
		   "mimetype": "text/x-octave",
		   "name": "scilab",
		   "version": "0.7.1"
		  }
		 },
		 "nbformat": 4,
		 "nbformat_minor": 0
}
