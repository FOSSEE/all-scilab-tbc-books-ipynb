{
"cells": [
 {
		   "cell_type": "markdown",
	   "metadata": {},
	   "source": [
       "# Chapter 16: Sound Waves"
	   ]
	},
{
		   "cell_type": "markdown",
		   "metadata": {},
		   "source": [
			"## Example 16.10w: calculation_of_the_frequency_at_which_the_maxima_of_intensity_are_detected.sce"
		   ]
		  },
  {
"cell_type": "code",
	   "execution_count": null,
	   "metadata": {
	    "collapsed": true
	   },
	   "outputs": [],
"source": [
"//developed in windows XP operating system 32bit\n",
"//platform Scilab 5.4.1\n",
"clc;clear;\n",
"//example 16.10w\n",
"//calculation of the frequency at which the maxima of intensity are detected\n",
"\n",
"//given data\n",
"r=20*10^-2//radius(in m) of the semicircular part\n",
"v=340//speed(in m/s) of the sound in air\n",
"\n",
"//calculation\n",
"l1=2*r//straight distance\n",
"l2=%pi*r//curve distance\n",
"deltal=l2-l1\n",
"nu=v/deltal\n",
"\n",
"printf('the frequency at which the maxima of intensity are detected are %d Hz and %d Hz',nu,2*nu)"
   ]
   }
,
{
		   "cell_type": "markdown",
		   "metadata": {},
		   "source": [
			"## Example 16.11w: EX16_11w.sce"
		   ]
		  },
  {
"cell_type": "code",
	   "execution_count": null,
	   "metadata": {
	    "collapsed": true
	   },
	   "outputs": [],
"source": [
"//developed in windows XP operating system 32bit\n",
"//platform Scilab 5.4.1\n",
"clc;clear;\n",
"//example 16.11w\n",
"//calculation of the minimum distance between the source and the detector for maximum sound detection\n",
"\n",
"//given data\n",
"nu=180//frequency(in Hz)\n",
"d=2//distance(in m)\n",
"v=360//speed(in m/s) of the sound wave in air\n",
"\n",
"//calculation\n",
"//path difference.....delta = (2*((2^2) + (x^2/4))^(1/2)) - (x)\n",
"lambda=v/nu//wavelength\n",
"delta=lambda\n",
"//solving the above equation,we get\n",
"x=4-1\n",
"\n",
"printf('the minimum distance between the source and the detector for maximum sound detection is %d m',x)"
   ]
   }
,
{
		   "cell_type": "markdown",
		   "metadata": {},
		   "source": [
			"## Example 16.12w: EX16_12w.sce"
		   ]
		  },
  {
"cell_type": "code",
	   "execution_count": null,
	   "metadata": {
	    "collapsed": true
	   },
	   "outputs": [],
"source": [
"//developed in windows XP operating system 32bit\n",
"//platform Scilab 5.4.1\n",
"clc;clear;\n",
"//example 16.12w\n",
"//calculation of the length of the shortest closed organ pipe that will resonate with the tunning fork\n",
"\n",
"//given data\n",
"nu=264//frequency(in Hz)of the tunning fork\n",
"v=350//speed(in m/s) of the sound in air\n",
"\n",
"//calculation\n",
"//from the equation of the resonate frequency of the closed organ pipe....l = (n*v)/(4*nu)\n",
"n=1//for l to be minimum\n",
"lmin=(v)/(4*nu)//equation of the resonate frequency of the closed organ pipe\n",
"\n",
"printf('the length of the shortest closed organ pipe that will resonate with the tunning fork is %d cm',lmin*10^2)"
   ]
   }
,
{
		   "cell_type": "markdown",
		   "metadata": {},
		   "source": [
			"## Example 16.13w: calculation_of_the_length_of_the_closed_pipe.sce"
		   ]
		  },
  {
"cell_type": "code",
	   "execution_count": null,
	   "metadata": {
	    "collapsed": true
	   },
	   "outputs": [],
"source": [
"//developed in windows XP operating system 32bit\n",
"//platform Scilab 5.4.1\n",
"clc;clear;\n",
"//example 16.13w\n",
"//calculation of the length of the closed pipe\n",
"\n",
"//given data\n",
"l0=60*10^-2//length(in m) of the open pipe\n",
"\n",
"//calculation\n",
"//from the equation of the resonate frequency of the closed organ pipe....l=(n*v)/(4*nu)\n",
"l1=l0/4\n",
"\n",
"printf('the length of the closed pipe is %d cm',l1*10^2)"
   ]
   }
,
{
		   "cell_type": "markdown",
		   "metadata": {},
		   "source": [
			"## Example 16.14w: calculation_of_the_speed_of_the_sound_in_air.sce"
		   ]
		  },
  {
"cell_type": "code",
	   "execution_count": null,
	   "metadata": {
	    "collapsed": true
	   },
	   "outputs": [],
"source": [
"//developed in windows XP operating system 32bit\n",
"//platform Scilab 5.4.1\n",
"clc;clear;\n",
"//example 16.14w\n",
"//calculation of the speed of the sound in air\n",
"\n",
"//given data\n",
"nu=800//frequency(in Hz) of the tunning fork\n",
"l1=9.75*10^-2//distance(in m) where resonance is observed\n",
"l2=31.25*10^-2//distance(in m) where resonance is observed\n",
"l3=52.75*10^-2//distance(in m) where resonance is observed\n",
"\n",
"//calculation\n",
"//from the equation of the resonate frequency ....l = (n*v)/(4*nu)\n",
"//(n*v)/(4*l1) = nu...................(1)\n",
"//((n+2)*v)/(4*l2) = nu...............(2)\n",
"//((n+4)*v)/(4*l3) = nu...............(3)\n",
"//form above equations ,we get\n",
"v=2*nu*(l2-l1)\n",
"\n",
"printf('the speed of the sound in air is %d m/s',v)"
   ]
   }
,
{
		   "cell_type": "markdown",
		   "metadata": {},
		   "source": [
			"## Example 16.15w: calculation_of_the_fundamental_frequency_if_the_air_is_replaced_by_hydrogen.sce"
		   ]
		  },
  {
"cell_type": "code",
	   "execution_count": null,
	   "metadata": {
	    "collapsed": true
	   },
	   "outputs": [],
"source": [
"//developed in windows XP operating system 32bit\n",
"//platform Scilab 5.4.1\n",
"clc;clear;\n",
"//example 16.15w\n",
"//calculation of the fundamental frequency if the air is replaced by hydrogen\n",
"\n",
"//given data\n",
"nu0=500//fundamental frequency(in Hz)\n",
"rhoa=1.20//density(in kg/m^3) of air\n",
"rhoh=0.089//density(in kg/m^3) of hydrogen\n",
"\n",
"//calculation\n",
"//fundamental frequency of an organ pipe is proportional to the speed of the sound\n",
"nu=nu0*sqrt(rhoa/rhoh)\n",
"\n",
"printf('the fundamental frequency if the air is replaced by hydrogen is %d Hz',nu)"
   ]
   }
,
{
		   "cell_type": "markdown",
		   "metadata": {},
		   "source": [
			"## Example 16.16w: calculation_of_the_speed_wavelength_in_the_rod_frequency_wavelength_in_the_air.sce"
		   ]
		  },
  {
"cell_type": "code",
	   "execution_count": null,
	   "metadata": {
	    "collapsed": true
	   },
	   "outputs": [],
"source": [
"//developed in windows XP operating system 32bit\n",
"//platform Scilab 5.4.1\n",
"clc;clear;\n",
"//example 16.16w\n",
"//calculation of the speed,wavelength in the rod,frequency,wavelength in the air\n",
"\n",
"//given data\n",
"l=90*10^-2//length(in m) of the rod\n",
"rho=2600//density(in kg/m^3) of the aluminium\n",
"Y=7.80*10^10//Young modulus(in N/m^2)\n",
"vai=340//speed(in m/s) of the sound in the air\n",
"\n",
"//calculation\n",
"v=sqrt(Y/rho)//speed of the sound in aluminium\n",
"lambda=2*l//wavelength....since rod vibrates with fundamental frequency\n",
"nu=v/lambda//frequency\n",
"lambdaai=vai/nu//wavelength in the air\n",
"\n",
"printf('the speed of the sound in aluminium is %d m/s',v)//Textbook Correction : correct answer is 5477 m/s\n",
"printf('\nthe wavelength of the sound in aluminium rod is %d cm',lambda*10^2)\n",
"printf('\nthe frequency of the sound produced is %d Hz',nu)//Textbook Correction : correct answer is 3042 Hz\n",
"printf('\nthe wavelength of the sound in air is %3.1f cm',lambdaai*10^2)"
   ]
   }
,
{
		   "cell_type": "markdown",
		   "metadata": {},
		   "source": [
			"## Example 16.17w: calculation_of_the_frequency_of_the_note_emitted_by_the_taut_string.sce"
		   ]
		  },
  {
"cell_type": "code",
	   "execution_count": null,
	   "metadata": {
	    "collapsed": true
	   },
	   "outputs": [],
"source": [
"//developed in windows XP operating system 32bit\n",
"//platform Scilab 5.4.1\n",
"clc;clear;\n",
"//example 16.17w\n",
"//calculation of the frequency of the note emitted by the taut string\n",
"\n",
"//given data\n",
"nu1=440//frequency(in Hz) of the string\n",
"n=4//number of beats per second\n",
"nuf=440//tunning frequency(in Hz) of the fork\n",
"\n",
"//calculation\n",
"fre=nuf+n//required frequncy\n",
"\n",
"printf('the frequency of the note emitted by the taut string is %d Hz',fre)"
   ]
   }
,
{
		   "cell_type": "markdown",
		   "metadata": {},
		   "source": [
			"## Example 16.18w: calculation_of_the_apparent_frequency.sce"
		   ]
		  },
  {
"cell_type": "code",
	   "execution_count": null,
	   "metadata": {
	    "collapsed": true
	   },
	   "outputs": [],
"source": [
"//developed in windows XP operating system 32bit\n",
"//platform Scilab 5.4.1\n",
"clc;clear;\n",
"//example 16.18w\n",
"//calculation of the apparent frequency\n",
"\n",
"//given data\n",
"us=36*10^3/(60*60)//speed(in m/s)of the car\n",
"v=340//speed(in m/s) of the sound in the air\n",
"nu=500//frequency(in Hz)\n",
"\n",
"//calculation\n",
"nudash=(v/(v+us))*nu//apparent frequency  heard by the observer\n",
"nudashdash=(v/(v-us))*nu//frequency received by the wall\n",
"\n",
"printf('the apparent frequency heard by the ground observer is %d Hz',round(nudash))\n",
"printf('\nthe frequency of the reflected wave as heard by the ground observer is %d Hz',nudashdash)"
   ]
   }
,
{
		   "cell_type": "markdown",
		   "metadata": {},
		   "source": [
			"## Example 16.19w: calculation_of_the_frequency_of_the_whistle_of_the_train.sce"
		   ]
		  },
  {
"cell_type": "code",
	   "execution_count": null,
	   "metadata": {
	    "collapsed": true
	   },
	   "outputs": [],
"source": [
"//developed in windows XP operating system 32bit\n",
"//platform Scilab 5.4.1\n",
"clc;clear;\n",
"//example 16.19w\n",
"//calculation of the frequency of the whistle of the train\n",
"\n",
"//given data\n",
"us=72*10^3/(60*60)//speed(in m/s) of the train 1\n",
"u0=54*10^3/(60*60)//speed(in m/s) of the train 2\n",
"nu=600//frequency(in Hz) of the whistle\n",
"v=340//speed(in m/s)of sound in the air\n",
"\n",
"//calculation\n",
"nudash=((v+u0)/(v-us))*nu//frequency heard by the observer before the meeting of the trains\n",
"nudashdash=((v-u0)/(v+us))*nu//frequency heard by the observer after the crossing of the trains\n",
"\n",
"printf('the frequency heard by the observer before the meeting of the trains is %d Hz',round(nudash))\n",
"printf('\nthe frequency heard by the observer after the crossing of the trains is %d Hz',round(nudashdash))"
   ]
   }
,
{
		   "cell_type": "markdown",
		   "metadata": {},
		   "source": [
			"## Example 16.1: calculation_of_the_audibility_of_a_wave.sce"
		   ]
		  },
  {
"cell_type": "code",
	   "execution_count": null,
	   "metadata": {
	    "collapsed": true
	   },
	   "outputs": [],
"source": [
"//developed in windows XP operating system 32bit\n",
"//platform Scilab 5.4.1\n",
"clc;clear;\n",
"//example 16.1\n",
"//calculation of the audibility of a wave \n",
"\n",
"//given data\n",
"v=300//velocity(in m/s) of the wave\n",
"lambda=.60*10^-2//wavelength(in m) of the wave\n",
"\n",
"//calculation\n",
"nu=v/lambda//frequency of the wave\n",
"if(nu<20)\n",
"    printf('the wave is not audible')\n",
"elseif(nu>20000)\n",
"    printf('the wave is not audible')\n",
"else\n",
"    printf('the wave is audible')\n",
"end"
   ]
   }
,
{
		   "cell_type": "markdown",
		   "metadata": {},
		   "source": [
			"## Example 16.1w: calculation_of_the_depth_of_the_sea_and_wavelength_of_the_signal_in_the_water.sce"
		   ]
		  },
  {
"cell_type": "code",
	   "execution_count": null,
	   "metadata": {
	    "collapsed": true
	   },
	   "outputs": [],
"source": [
"//developed in windows XP operating system 32bit\n",
"//platform Scilab 5.4.1\n",
"clc;clear;\n",
"//example 16.1w\n",
"//calculation of the depth of the sea and wavelength of the signal in the water\n",
"\n",
"//given data\n",
"nu=50*10^3//frequency(in Hz) of the given signal\n",
"t=0.8//time(in s)requires for reflected wave to return\n",
"v=1500//speed(in m/s) of the sound in water\n",
"\n",
"//calculation\n",
"d=v*t/2//depth of the sea\n",
"lambda=v/nu//wavelength in water\n",
"\n",
"printf('the depth of the sea is %d m',d)\n",
"printf('\nthe wavelength of the signal in the water is %3.1f cm',lambda*10^2)"
   ]
   }
,
{
		   "cell_type": "markdown",
		   "metadata": {},
		   "source": [
			"## Example 16.20w: calculation_of_the_main_frequency_heard_by_the_person.sce"
		   ]
		  },
  {
"cell_type": "code",
	   "execution_count": null,
	   "metadata": {
	    "collapsed": true
	   },
	   "outputs": [],
"source": [
"//developed in windows XP operating system 32bit\n",
"//platform Scilab 5.4.1\n",
"clc;clear;\n",
"//example 16.20w\n",
"//calculation of the main frequency heard by the person\n",
"\n",
"//given data\n",
"us=36*10^3/(60*60)//speed(in m/s) of the person on the scooter\n",
"v=340//speed(in m/s) of sound in the air\n",
"nu=600//frequency(in Hz) of the siren\n",
"\n",
"//calculation\n",
"nudash=(v/(v+us))*nu//main frequency\n",
"\n",
"printf('the main frequency heard by the person is %d Hz',round(nudash))"
   ]
   }
,
{
		   "cell_type": "markdown",
		   "metadata": {},
		   "source": [
			"## Example 16.21w: calculation_of_the_original_frequency_of_the_source.sce"
		   ]
		  },
  {
"cell_type": "code",
	   "execution_count": null,
	   "metadata": {
	    "collapsed": true
	   },
	   "outputs": [],
"source": [
"//developed in windows XP operating system 32bit\n",
"//platform Scilab 5.4.1\n",
"clc;clear;\n",
"//example 16.21w\n",
"//calculation of the original frequency of the source\n",
"\n",
"//given data\n",
"u0=10//speed(in m/s) of the observer going away from the source\n",
"us=10//speed(in m/s) of the source going away from observer\n",
"nudash=1950//frequency(in Hz) of the sound detected by the detector\n",
"v=340//speed(in m/s) of the sound in the air\n",
"\n",
"//calculation\n",
"nu=((v+us)/(v-u0))*nudash//original frequency\n",
"\n",
"printf('the original frequency of the source is %d Hz',round(nu))"
   ]
   }
,
{
		   "cell_type": "markdown",
		   "metadata": {},
		   "source": [
			"## Example 16.22w: calculation_of_the_speed_of_the_car.sce"
		   ]
		  },
  {
"cell_type": "code",
	   "execution_count": null,
	   "metadata": {
	    "collapsed": true
	   },
	   "outputs": [],
"source": [
"//developed in windows XP operating system 32bit\n",
"//platform Scilab 5.4.1\n",
"clc;clear;\n",
"//example 16.22w\n",
"//calculation of the speed of the car\n",
"\n",
"//given data\n",
"nudash=440//frequency(in Hz) emitted by the wall\n",
"nudashdash=480//frequency(in Hz) heard by the car driver\n",
"v=330//speed(in m/s) of the sound in the air\n",
"\n",
"//calculation\n",
"//frequency received by the wall..............nudash = (v/(v-u))*nu............(1)\n",
"//frequency(in Hz) heard by the car driver....nudashdash = ((v+u)/v)*nudash....(2)\n",
"//from above two equations,we get\n",
"u=((nudashdash-nudash)/(nudashdash+nudash))*v//speed of the car\n",
"\n",
"printf('the speed of the car is %3.1f m/s or %d km/h',u,round(u*10^-3*60*60))"
   ]
   }
,
{
		   "cell_type": "markdown",
		   "metadata": {},
		   "source": [
			"## Example 16.23w: EX16_23w.sce"
		   ]
		  },
  {
"cell_type": "code",
	   "execution_count": null,
	   "metadata": {
	    "collapsed": true
	   },
	   "outputs": [],
"source": [
"//developed in windows XP operating system 32bit\n",
"//platform Scilab 5.4.1\n",
"clc;clear;\n",
"//example 16.23w\n",
"//calculation of the frequency of train whistle heard by the person standing on the road perpendicular to the track\n",
"\n",
"//given data\n",
"v=340//speed(in m/s) of the sound in the air\n",
"d1=300//distance(in m) of the train from the crossing\n",
"u=120*10^3/(60*60)//speed(in m/s) of the train\n",
"nu=640//frequency(in Hz) of the whistle\n",
"d2=400//distance(in m) of the person from the crossing ,perpendicular to the track\n",
"\n",
"//calculation\n",
"theta=acosd(d1/sqrt(d1^2+d2^2))//pythagoras theorem\n",
"nudash=(v/(v-(u*cosd(theta))))*nu//frequency of the whistle heard\n",
"\n",
"printf('the frequency of train whistle heard by the person standing on the road perpendicular to the track is %d Hz',nudash)"
   ]
   }
,
{
		   "cell_type": "markdown",
		   "metadata": {},
		   "source": [
			"## Example 16.2: calculation_of_the_amplitude_of_vibration_of_the_particles_of_the_medium.sce"
		   ]
		  },
  {
"cell_type": "code",
	   "execution_count": null,
	   "metadata": {
	    "collapsed": true
	   },
	   "outputs": [],
"source": [
"//developed in windows XP operating system 32bit\n",
"//platform Scilab 5.4.1\n",
"clc;clear;\n",
"//example 16.2\n",
"//calculation of the amplitude of vibration of the particles of the medium\n",
"\n",
"//given data\n",
"lambda=40*10^-2//wavelength(in m) of the wave\n",
"deltap=1*10^-3//difference between the minimum and the maximum pressure(in N/m^2) \n",
"B=1.4*10^5//Bulk modulus(in N/m^2)\n",
"\n",
"//calculation\n",
"p0=deltap/2//pressure amplitude\n",
"s0=(p0*lambda)/(2*%pi*B)//from equation of Bulk modulus\n",
"\n",
"printf('the amplitude of vibration of the particles of the medium is %3.2e m',s0)"
   ]
   }
,
{
		   "cell_type": "markdown",
		   "metadata": {},
		   "source": [
			"## Example 16.2w: calculation_of_the_location_of_the_plane.sce"
		   ]
		  },
  {
"cell_type": "code",
	   "execution_count": null,
	   "metadata": {
	    "collapsed": true
	   },
	   "outputs": [],
"source": [
"//developed in windows XP operating system 32bit\n",
"//platform Scilab 5.4.1\n",
"clc;clear;\n",
"//example 16.2w\n",
"//calculation of the location of the plane\n",
"\n",
"//given data\n",
"v=510*10^3/(60*60)//speed(in m/s) of the plane\n",
"h=2000//height(in m) of the plane\n",
"vs=340//speed(in m.s) of the sound in air\n",
"\n",
"//calculation\n",
"t=h/vs//time taken by the sound to reach the observer\n",
"d=v*t//location of the plane\n",
"\n",
"printf('the plane will be %d m ahead of the observer on its line of motion',d)"
   ]
   }
,
{
		   "cell_type": "markdown",
		   "metadata": {},
		   "source": [
			"## Example 16.3: calculation_of_the_intensity_of_the_sound_wave.sce"
		   ]
		  },
  {
"cell_type": "code",
	   "execution_count": null,
	   "metadata": {
	    "collapsed": true
	   },
	   "outputs": [],
"source": [
"//developed in windows XP operating system 32bit\n",
"//platform Scilab 5.4.1\n",
"clc;clear;\n",
"//example 16.3\n",
"//calculation of the intensity of the sound wave\n",
"\n",
"//given data\n",
"p0=2*10^-2//pressure amplitue(in N/m^2)\n",
"p0dash=2.5*10^-2//new pressure amplitue(in N/m^2)\n",
"I=5.0*10^-7//intensity(in W/m^2) of the wave \n",
"\n",
"//calculation\n",
"//intensity of the wave is proportional to square of the pressure amplituide\n",
"Idash=I*((p0dash/p0)^2)\n",
"\n",
"printf('the intensity of the sound wave is %3.1e W/m^2',Idash)"
   ]
   }
,
{
		   "cell_type": "markdown",
		   "metadata": {},
		   "source": [
			"## Example 16.3w: EX16_3w.sce"
		   ]
		  },
  {
"cell_type": "code",
	   "execution_count": null,
	   "metadata": {
	    "collapsed": true
	   },
	   "outputs": [],
"source": [
"//developed in windows XP operating system 32bit\n",
"//platform Scilab 5.4.1\n",
"clc;clear;\n",
"//example 16.3w\n",
"//calculation of the frequency,wavelength,speed,maximum and minimum pressures of the sound wave\n",
"\n",
"//given data\n",
"//equation of the sound wave is\n",
"//p = (0.01 N/m^2)*sin((1000 s^-1)*t - (3.0 m^-1)*x)............(1)\n",
"peq=1.0*10^5//equilibrium pressure(in N/m^2) of the air\n",
"\n",
"//calculation\n",
"//comparing equation (1) with standard equation p = p0*sin(w*(t-(x/v)))...we get\n",
"w=1000//value of w(in s^-1)\n",
"nu=w/(2*%pi)//frequency\n",
"v=w/3//velocity\n",
"lambda=v/nu//wavelength\n",
"p0=0.01//pressure amplitude(in N/m^2)\n",
"\n",
"printf('the frequency is %d Hz',nu)\n",
"printf('\nthe wavelength is %3.1f m',lambda)\n",
"printf('\nthe speed of the sound wave is %d m/s',v)\n",
"printf('\nthe maximum pressure amplitude is (%3.2e + %3.2f) N/m^2',peq,p0)\n",
"printf('\nthe minimum pressure amplitude is (%3.2e - %3.2f) N/m^2',peq,p0)"
   ]
   }
,
{
		   "cell_type": "markdown",
		   "metadata": {},
		   "source": [
			"## Example 16.4: calculation_of_the_increase_in_the_sound_level_in_decibels.sce"
		   ]
		  },
  {
"cell_type": "code",
	   "execution_count": null,
	   "metadata": {
	    "collapsed": true
	   },
	   "outputs": [],
"source": [
"//developed in windows XP operating system 32bit\n",
"//platform Scilab 5.4.1\n",
"clc;clear;\n",
"//example 16.4\n",
"//calculation of the increase in the sound level in decibels\n",
"\n",
"//given data\n",
"r=20//intensity is increase by r factor\n",
"\n",
"//calculation\n",
"//using the equation.....beta = 10*log(I/I0)...we get\n",
"deltabeta=10*log10(r)//increase in sound level\n",
"\n",
"printf('the increase in the sound level in decibels is %d dB',deltabeta)"
   ]
   }
,
{
		   "cell_type": "markdown",
		   "metadata": {},
		   "source": [
			"## Example 16.4w: EX16_4w.sce"
		   ]
		  },
  {
"cell_type": "code",
	   "execution_count": null,
	   "metadata": {
	    "collapsed": true
	   },
	   "outputs": [],
"source": [
"//developed in windows XP operating system 32bit\n",
"//platform Scilab 5.4.1\n",
"clc;clear;\n",
"//example 16.4w\n",
"//calculation of the minimum separation between the two points for a given phase difference \n",
"\n",
"//given data\n",
"nu=10*10^3//frequency(in Hz) of the sound wave\n",
"v=340//speed(in m/s) of the wave\n",
"delta=60//phase difference(in degree)\n",
"\n",
"//calculation\n",
"lambda=v/nu//wavelength\n",
"k=2*%pi/lambda//wave number\n",
"d=(delta*%pi/180)/k\n",
"\n",
"printf('the minimum separation between the two points for phase difference of 60 degree is %3.2f cm',d*10^2)"
   ]
   }
,
{
		   "cell_type": "markdown",
		   "metadata": {},
		   "source": [
			"## Example 16.5: calculation_of_the_nature_of_interference.sce"
		   ]
		  },
  {
"cell_type": "code",
	   "execution_count": null,
	   "metadata": {
	    "collapsed": true
	   },
	   "outputs": [],
"source": [
"//developed in windows XP operating system 32bit\n",
"//platform Scilab 5.4.1\n",
"clc;clear;\n",
"//example 16.5\n",
"//calculation of the nature of interference\n",
"\n",
"//given data\n",
"nu=1*10^3//frequency(in Hz) of the source\n",
"deltax=83*10^-2//difference in the length(in m) of paths\n",
"v=332//speed(in m/s) of the sound in air\n",
"\n",
"//calculation\n",
"lambda=v/nu//wavelength\n",
"delta=(2*%pi/lambda)*deltax\n",
"n=delta/%pi//phase difference is 'n' multiple of pi\n",
"if(modulo(n,2)==0)\n",
"    printf('the waves will interfere constructively.')//for even values of 'n'\n",
"else\n",
"    printf('the waves will interfere destructively.')//for odd values of 'n'\n",
"end"
   ]
   }
,
{
		   "cell_type": "markdown",
		   "metadata": {},
		   "source": [
			"## Example 16.5w: calculation_of_the_atmospheric_temperature.sce"
		   ]
		  },
  {
"cell_type": "code",
	   "execution_count": null,
	   "metadata": {
	    "collapsed": true
	   },
	   "outputs": [],
"source": [
"//developed in windows XP operating system 32bit\n",
"//platform Scilab 5.4.1\n",
"clc;clear;\n",
"//example 16.5w\n",
"//calculation of the atmospheric temperature\n",
"\n",
"//given data\n",
"v1=336//speed(in m/s) travelled by the sound\n",
"v0=332//speed(in m/s) of the sound at O degreecelsius\n",
"T0=0+273//temperature(in kelvin)\n",
"\n",
"//calculation\n",
"T=((v1/v0)^2)*T0//temperature (in kelvin)\n",
"t=T-273//temperature(in degreecelsius)\n",
"\n",
"printf('the atmospheric temperature is %d degreecelsius',round(t))"
   ]
   }
,
{
		   "cell_type": "markdown",
		   "metadata": {},
		   "source": [
			"## Example 16.6: EX16_6.sce"
		   ]
		  },
  {
"cell_type": "code",
	   "execution_count": null,
	   "metadata": {
	    "collapsed": true
	   },
	   "outputs": [],
"source": [
"//developed in windows XP operating system 32bit\n",
"//platform Scilab 5.4.1\n",
"clc;clear;\n",
"//example 16.6\n",
"//calculation of the distance of the piston from the open end,for tube to vibrate in its first overtone \n",
"\n",
"//given data\n",
"nu=416//frequency(in Hz) of the tunning fork\n",
"v=333//speed(in m/s) of the sound in air\n",
"\n",
"//calculation\n",
"lambda=v/nu//wavelength\n",
"L=3*lambda/4//length of the tube\n",
"\n",
"printf('the distance of the piston from the open end,for tube to vibrate in its first overtone is %3.1f cm',L*10^2)"
   ]
   }
,
{
		   "cell_type": "markdown",
		   "metadata": {},
		   "source": [
			"## Example 16.6w: calculation_of_the_speed_of_sound_wave_in_hydrogen.sce"
		   ]
		  },
  {
"cell_type": "code",
	   "execution_count": null,
	   "metadata": {
	    "collapsed": true
	   },
	   "outputs": [],
"source": [
"//developed in windows XP operating system 32bit\n",
"//platform Scilab 5.4.1\n",
"clc;clear;\n",
"//example 16.6w\n",
"//calculation of the speed of sound wave in hydrogen\n",
"\n",
"//given data\n",
"gama=1.4//value of constant gama for hydrogen\n",
"voxygen=470//speed(in m/s) of the sound wave in oxygen\n",
"\n",
"//calculation\n",
"//speed of sound wave in a gas is ........v = sqrt(gama*P/rho)\n",
"//at STP ,density of oxygen is 16 times density of hydrogen\n",
"vhydrogen=voxygen*sqrt(16)//speed of sound in hydrogen\n",
"\n",
"printf('the speed of sound wave in hydrogen is %d m/s',vhydrogen)"
   ]
   }
,
{
		   "cell_type": "markdown",
		   "metadata": {},
		   "source": [
			"## Example 16.7: calculation_of_the_tunning_frequency_of_fork_B.sce"
		   ]
		  },
  {
"cell_type": "code",
	   "execution_count": null,
	   "metadata": {
	    "collapsed": true
	   },
	   "outputs": [],
"source": [
"//developed in windows XP operating system 32bit\n",
"//platform Scilab 5.4.1\n",
"clc;clear;\n",
"//example 16.7\n",
"//calculation of the tunning frequency of fork B\n",
"\n",
"//given data\n",
"nu1=384//tunning frequency(in Hz) of fork A\n",
"n=6//number of beats\n",
"t=2//time(in s) taken by the beats\n",
"\n",
"//calculation\n",
"deltanu=n/t//frequency of beats\n",
"nu2=nu1+deltanu//frequency of fork B\n",
"nu2dash=nu1-deltanu//another frequency of fork B\n",
"\n",
"printf('the tunning frequency of fork B is %d Hz or %d Hz',nu2dash,nu2)"
   ]
   }
,
{
		   "cell_type": "markdown",
		   "metadata": {},
		   "source": [
			"## Example 16.7w: calculation_of_the_energy_delivered_to_the_microphone.sce"
		   ]
		  },
  {
"cell_type": "code",
	   "execution_count": null,
	   "metadata": {
	    "collapsed": true
	   },
	   "outputs": [],
"source": [
"//developed in windows XP operating system 32bit\n",
"//platform Scilab 5.4.1\n",
"clc;clear;\n",
"//example 16.7w\n",
"//calculation of the energy delivered to the microphone\n",
"\n",
"//given data\n",
"A=.80*10^-4//area(in m^2) of the cross section\n",
"U=3//power(in W0 output of the speaker\n",
"d=2//distance(in m) between the microphone and the speaker\n",
"t=5//time(in s) taken\n",
"\n",
"//calculation\n",
"U0=A*U/(4*%pi*d^2)//energy falling on the microphone in 1 s\n",
"Udash=U0*t//energy falling on the microphone in t s\n",
"\n",
"printf('the energy delivered to the microphone in t=5 s is %d microJ',round(Udash*10^6))"
   ]
   }
,
{
		   "cell_type": "markdown",
		   "metadata": {},
		   "source": [
			"## Example 16.8: calculation_of_the_most_dominant_frequency.sce"
		   ]
		  },
  {
"cell_type": "code",
	   "execution_count": null,
	   "metadata": {
	    "collapsed": true
	   },
	   "outputs": [],
"source": [
"//developed in windows XP operating system 32bit\n",
"//platform Scilab 5.4.1\n",
"clc;clear;\n",
"//example 16.8\n",
"//calculation of the most dominant frequency\n",
"\n",
"//given data\n",
"us=36*10^3/(60*60)//speed(in m/s) of the train\n",
"nudash=12*10^3//frequency(in Hz) detected by the detector\n",
"v=340//velocity(in m/s) of the sound in air\n",
"\n",
"//calculation\n",
"//frequency detected is ......nudash = (v*nu0)/(v-us)\n",
"nu0=(1-(us/v))*nudash//required frequency\n",
"\n",
"printf('the most dominant frequency is %3.1f kHz',nu0*10^-3)"
   ]
   }
,
{
		   "cell_type": "markdown",
		   "metadata": {},
		   "source": [
			"## Example 16.8w: calculation_of_the_amplitude_of_vibration_of_the_particles_of_the_air.sce"
		   ]
		  },
  {
"cell_type": "code",
	   "execution_count": null,
	   "metadata": {
	    "collapsed": true
	   },
	   "outputs": [],
"source": [
"//developed in windows XP operating system 32bit\n",
"//platform Scilab 5.4.1\n",
"clc;clear;\n",
"//example 16.8w\n",
"//calculation of the amplitude of vibration of the particles of the air\n",
"\n",
"//given data\n",
"I=2*10^-6//intensity(in W/m^2) of the sound wave\n",
"nu=1*10^3//frequency(in Hz) of the sound wave\n",
"rho0=1.2//density(in kg/m^3) of the air\n",
"v=330//speed(in m/s) of the sound in the air\n",
"\n",
"//calculation\n",
"s0=sqrt(I/(2*%pi^2*nu^2*rho0*v))//equation of displacement amplitide\n",
"\n",
"printf('the amplitude of vibration of the particles of the air is %3.1e m',s0)"
   ]
   }
,
{
		   "cell_type": "markdown",
		   "metadata": {},
		   "source": [
			"## Example 16.9w: calculation_of_the_factor_by_which_the_pressure_amplituide_increases.sce"
		   ]
		  },
  {
"cell_type": "code",
	   "execution_count": null,
	   "metadata": {
	    "collapsed": true
	   },
	   "outputs": [],
"source": [
"//developed in windows XP operating system 32bit\n",
"//platform Scilab 5.4.1\n",
"clc;clear;\n",
"//example 16.9w\n",
"//calculation of the factor by which the pressure amplituide increases\n",
"\n",
"//given data\n",
"n=30//increase(in dB) of the sound level\n",
"\n",
"//calculation\n",
"//m = I2/I1 = intensity ratio\n",
"m=10^(n/10)\n",
"//since p2/p1 = sqrt(I2/I1)\n",
"f=sqrt(m)//require factor\n",
"\n",
"printf('the factor by which the pressure amplituide increases is %d',round(f))"
   ]
   }
],
"metadata": {
		  "kernelspec": {
		   "display_name": "Scilab",
		   "language": "scilab",
		   "name": "scilab"
		  },
		  "language_info": {
		   "file_extension": ".sce",
		   "help_links": [
			{
			 "text": "MetaKernel Magics",
			 "url": "https://github.com/calysto/metakernel/blob/master/metakernel/magics/README.md"
			}
		   ],
		   "mimetype": "text/x-octave",
		   "name": "scilab",
		   "version": "0.7.1"
		  }
		 },
		 "nbformat": 4,
		 "nbformat_minor": 0
}
