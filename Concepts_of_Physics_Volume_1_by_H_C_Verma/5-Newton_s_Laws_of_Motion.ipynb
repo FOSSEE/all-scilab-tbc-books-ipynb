{
"cells": [
 {
		   "cell_type": "markdown",
	   "metadata": {},
	   "source": [
       "# Chapter 5: Newton s Laws of Motion"
	   ]
	},
{
		   "cell_type": "markdown",
		   "metadata": {},
		   "source": [
			"## Example 5.1: calculation_of_force_exerted_by_the_string_on_a_particle.sce"
		   ]
		  },
  {
"cell_type": "code",
	   "execution_count": null,
	   "metadata": {
	    "collapsed": true
	   },
	   "outputs": [],
"source": [
"//developed in windows XP operating system 32bit\n",
"//platform Scilab 5.4.1\n",
"  clc;clear;\n",
"//example 5.1\n",
"//calculation of force exerted by the string on a particle\n",
"\n",
"//given data\n",
"m=.5//mass(in kg) of the particle\n",
"g=9.8//gravitational acceleration(in m/s^2) of the earth\n",
"\n",
"//calculation\n",
"T=m*g//tension in the string is equal to the downward force exerted by earth\n",
"\n",
"printf('the force exterted by the string on particle in vertically upward direction is %3.2f N',T);"
   ]
   }
,
{
		   "cell_type": "markdown",
		   "metadata": {},
		   "source": [
			"## Example 5.3w: calculation_of_the_force_exerted_by_the_tree_limb_on_the_bullet.sce"
		   ]
		  },
  {
"cell_type": "code",
	   "execution_count": null,
	   "metadata": {
	    "collapsed": true
	   },
	   "outputs": [],
"source": [
"//developed in windows XP operating system 32bit\n",
"//platform Scilab 5.4.1\n",
"clc;clear;\n",
"//example 5.3w\n",
"//calculation of the force exerted by the tree limb on the bullet\n",
"\n",
"//given data\n",
"u=250//initial velocity(in m/s) of the bullet\n",
"v=0//final velocity(in m/s) of the bullet\n",
"x=.05//penetration(in m) by the bullet in the tree limb\n",
"m=.01//mass of bullet(in kg)\n",
"\n",
"//calculation\n",
"a=((u*u)-(v*v))/(2*x)//formula of horizontal acceleration in case of uniform linear motion\n",
"F=m*a;\n",
"\n",
"printf('the force exerted by the tree limb on the bullet is %3.2f N',F)"
   ]
   }
,
{
		   "cell_type": "markdown",
		   "metadata": {},
		   "source": [
			"## Example 5.4w: calculation_of_the_position_of_a_particle.sce"
		   ]
		  },
  {
"cell_type": "code",
	   "execution_count": null,
	   "metadata": {
	    "collapsed": true
	   },
	   "outputs": [],
"source": [
"//developed in windows XP operating system 32bit\n",
"//platform Scilab 5.4.1\n",
"clc;clear;\n",
"//example 5.4w\n",
"//calculation of the position of a particle\n",
"\n",
"//given data\n",
"m=.01//mass(in kg) of the particle\n",
"Fx=10//component of force(in N) along X axis\n",
"Fy=5//component of force(in N) along Y axis\n",
"ux=0//x component of initial velocity(in m/s) of the particle\n",
"uy=0//y component initial velocity(in m/s) of the paticle\n",
"t=5//time(in s) at which position is to be determined\n",
"\n",
"//calculation\n",
"ax=Fx/m;\n",
"x=(ux*t)+((1/2)*ax*t*t);//formula of horizontal position in case of uniform linear motion\n",
"ay=Fy/m;\n",
"y=(uy*t)+((1/2)*ay*t*t);//formula of vertical position in case of uniform linear motion\n",
"\n",
"printf('at t=5 s position of the particle is (i%3.2f + j%3.2f)m',x,y)"
   ]
   }
,
{
		   "cell_type": "markdown",
		   "metadata": {},
		   "source": [
			"## Example 5.7w: EX5_7w.sce"
		   ]
		  },
  {
"cell_type": "code",
	   "execution_count": null,
	   "metadata": {
	    "collapsed": true
	   },
	   "outputs": [],
"source": [
"//developed in windows XP operating system 32bit\n",
"//platform Scilab 5.4.1\n",
"clc;clear;\n",
"//example 5.7w\n",
"//calculation of acceleration with which ring starts moving if released from rest at an angle theta\n",
"\n",
"//given data\n",
"//m=mass of the ring\n",
"theta=30//angle(in degree)of the release\n",
"m=1//assume for obtaiming the solution\n",
"M=2*m //mass of the block\n",
"g=9.8//gravitational acceleration(in m/s^2) of the earth\n",
"\n",
"//calculation\n",
"//M*g-T=M*a*cosd(theta)........equation of motion of the block...(1)\n",
"//T*cosd(theta)=m*a............equation of motion of the ring....(2)\n",
"//solving above equations we get\n",
"a=(M*g*cosd(theta))/(m+M*(cosd(theta)*cosd(theta)))\n",
"\n",
"printf('the acceleration with which ring starts moving if released from rest at an angle theta is %3.2f m/s^2',a)"
   ]
   }
,
{
		   "cell_type": "markdown",
		   "metadata": {},
		   "source": [
			"## Example 5.8w: calculation_of_the_maximum_acceleration_of_the_man_for_safe_climbing.sce"
		   ]
		  },
  {
"cell_type": "code",
	   "execution_count": null,
	   "metadata": {
	    "collapsed": true
	   },
	   "outputs": [],
"source": [
"//developed in windows XP operating system 32bit\n",
"//platform Scilab 5.4.1\n",
"clc;clear;\n",
"//example 5.8w\n",
"//calculation of the maximum acceleration of the man for safe climbing\n",
"\n",
"//given data\n",
"m=60//mass(in kg) of the man\n",
"theta=30//angle(in degree) made by the rope with ground\n",
"fgmax=360//maximum force(in N0 that can be applied to the wooden clamp\n",
"g=10//gravitational acceleration(in m/s^2) of the earth\n",
"\n",
"//calculation\n",
"T=fgmax/sind(theta)//since t*sin(theta)=upward force\n",
"a=(T-(m*g))/m//from equation of motion\n",
"\n",
"printf('the maximum acceleration of the man for safe climbing is %3.2f m/s^2',a)"
   ]
   }
],
"metadata": {
		  "kernelspec": {
		   "display_name": "Scilab",
		   "language": "scilab",
		   "name": "scilab"
		  },
		  "language_info": {
		   "file_extension": ".sce",
		   "help_links": [
			{
			 "text": "MetaKernel Magics",
			 "url": "https://github.com/calysto/metakernel/blob/master/metakernel/magics/README.md"
			}
		   ],
		   "mimetype": "text/x-octave",
		   "name": "scilab",
		   "version": "0.7.1"
		  }
		 },
		 "nbformat": 4,
		 "nbformat_minor": 0
}
