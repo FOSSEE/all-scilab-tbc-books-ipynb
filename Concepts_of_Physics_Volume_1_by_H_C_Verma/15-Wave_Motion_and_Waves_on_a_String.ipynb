{
"cells": [
 {
		   "cell_type": "markdown",
	   "metadata": {},
	   "source": [
       "# Chapter 15: Wave Motion and Waves on a String"
	   ]
	},
{
		   "cell_type": "markdown",
		   "metadata": {},
		   "source": [
			"## Example 15.10w: calculation_of_the_length_of_the_wire.sce"
		   ]
		  },
  {
"cell_type": "code",
	   "execution_count": null,
	   "metadata": {
	    "collapsed": true
	   },
	   "outputs": [],
"source": [
"//developed in windows XP operating system 32bit\n",
"//platform Scilab 5.4.1\n",
"clc;clear;\n",
"//example 15.10w\n",
"//calculation of the length of the wire\n",
"\n",
"//given data\n",
"mu=5*10^-3//mass density(in kg/m) of the wire\n",
"F=450//tension(in N) produced in the wire\n",
"nu1=420//frequency(in Hz) of nth harmonic\n",
"nu2=490//frequency(in Hz) of (n+1)th harmonic\n",
"\n",
"//calculation\n",
"//from formula of fundamental frequency.....nu = (1/(2*L))*sqrt(F/mu)......(1)\n",
"n=nu1/(nu2-nu1)//value of n\n",
"L=(n/(2*nu1))*sqrt(F/mu)//erom equation (1)\n",
"\n",
"printf('the length of the wire is %3.1f m',L)"
   ]
   }
,
{
		   "cell_type": "markdown",
		   "metadata": {},
		   "source": [
			"## Example 15.1: EX15_1.sce"
		   ]
		  },
  {
"cell_type": "code",
	   "execution_count": null,
	   "metadata": {
	    "collapsed": true
	   },
	   "outputs": [],
"source": [
"//developed in windows XP operating system 32bit\n",
"//platform Scilab 5.4.1\n",
"clc;clear;\n",
"//example 15.1\n",
"//calculation of the velocity,function f(t) giving displacement,function g(x) giving shape\n",
"\n",
"//given data\n",
"//y = y0*exp-(((t/T) - (x/lambda))^2)\n",
"y0=4*10^-3//value of y0(in m)\n",
"T=1//value of T(in s)\n",
"lambda=4*10^-2//value of lambda(in m)\n",
"\n",
"//calculation\n",
"v=lambda/T//velocity of the wave\n",
"//by putting x=0 in equation (1)......f(t) = y0*exp-((t/T)^2)\n",
"//by putting t=0 in equation (1)......g(x) = y0*exp-((x/lambda)^2)\n",
"\n",
"printf('the velocity of the wave is %d cm/s',v*10^2)\n",
"printf('\nthe function f(t) giving displacement is...................f(t) = y0*exp-((t/T)^2)')\n",
"printf('\nthe function g(x) giving shape of the string at t=0 is.....g(x) = y0*exp-((x/lambda)^2)')"
   ]
   }
,
{
		   "cell_type": "markdown",
		   "metadata": {},
		   "source": [
			"## Example 15.1w: calculation_of_the_amplitude_wavelength_frequency_speed_of_the_wave.sce"
		   ]
		  },
  {
"cell_type": "code",
	   "execution_count": null,
	   "metadata": {
	    "collapsed": true
	   },
	   "outputs": [],
"source": [
"//developed in windows XP operating system 32bit\n",
"//platform Scilab 5.4.1\n",
"clc;clear;\n",
"//example 15.1w\n",
"//calculation of the amplitude,wavelength,frequency,speed of the wave\n",
"\n",
"//given data\n",
"//given wave equation is.....y = (3.0cm)*sin(6.28(.50*x - 50*t))\n",
"\n",
"//calculation\n",
"//comparing with standard equation of wave....y = A*sin*2*%pi*((x/lambda) - (t/T)),we get\n",
"A=3//amplitude(in cm)\n",
"lambda=(1/0.50)//wavelength(in cm)\n",
"T=1/50//time period(in s)\n",
"nu=1/T//frequency(in Hz)\n",
"v=nu*lambda//wave velocity(in cm s^-1)\n",
"\n",
"printf('the amplitude is %d cm',A)\n",
"printf('\nthe wavelength is %d cm',lambda)\n",
"printf('\nthe frequency is %d Hz',nu)\n",
"printf('\nthe wave velocity is %d cm/s',v)"
   ]
   }
,
{
		   "cell_type": "markdown",
		   "metadata": {},
		   "source": [
			"## Example 15.2: EX15_2.sce"
		   ]
		  },
  {
"cell_type": "code",
	   "execution_count": null,
	   "metadata": {
	    "collapsed": true
	   },
	   "outputs": [],
"source": [
"//developed in windows XP operating system 32bit\n",
"//platform Scilab 5.4.1\n",
"clc;clear;\n",
"//example 15.2\n",
"//calculation of the amplitude,wave number,wavelength,frequency,time period,wave velocity\n",
"\n",
"//given data\n",
"//given equation......y = (5mm)*sin((1cm^-1)*x - (60 s^-1)*t)\n",
"w=60//angular frequency\n",
"\n",
"//calculation\n",
"A=5//amplitude(in cm)\n",
"k=1//wave number(in cm^-1)\n",
"lambda=(2*%pi)/k//wavelength(in cm)\n",
"nu=w/(2*%pi)//frequency(in Hz)\n",
"T=1/nu//Time period(in s)\n",
"v=nu*lambda//wave velocity(in cm/s)\n",
"\n",
"printf('the amplitude is %d mm',A)\n",
"printf('\nthe wave number is %d cm^-1',k)\n",
"printf('\nthe wavelength is %3.2f cm',lambda)\n",
"printf('\nthe frequency is %3.2f Hz',nu)\n",
"printf('\nthe time period is %3.2f s',T)\n",
"printf('\nthe wave velocity is %d cm/s',v)"
   ]
   }
,
{
		   "cell_type": "markdown",
		   "metadata": {},
		   "source": [
			"## Example 15.2w: calculation_of_the_maximum_velocity_and_acceleraion_of_the_particle.sce"
		   ]
		  },
  {
"cell_type": "code",
	   "execution_count": null,
	   "metadata": {
	    "collapsed": true
	   },
	   "outputs": [],
"source": [
"//developed in windows XP operating system 32bit\n",
"//platform Scilab 5.4.1\n",
"clc;clear;\n",
"//example 15.2w\n",
"//calculation of the maximum velocity and acceleraion of the particle\n",
"\n",
"//given data\n",
"//given wave equation is.....y = (3.0cm)*sind((3.14cm^-1)x - (3.14 s^-1)*t))\n",
"t=0//time taken(in s)\n",
"t1=.11//time(in s) for acceleration\n",
"function yv=f(t)\n",
"    yv = (3.0)*sin(-(3.14)*t)//take x=0 (after derivative )..for maximum velocity\n",
"endfunction\n",
"\n",
"//calculation\n",
"//V = dy/dt\n",
"vmax=derivative(f,t)\n",
"//vn=(-9.4)*(314)*(sin((3.14*x)+(314*t)))......take x=6(after derivative)...for acceleration at x=6 cm\n",
"a=-(2952)*sin(6*%pi-11*%pi)\n",
"\n",
"printf('the maximum velocity is %3.2f m/s',vmax)\n",
"printf('\nthe acceleration at t=0.11 s and x= 6 cm is %d cm^2/s',a)"
   ]
   }
,
{
		   "cell_type": "markdown",
		   "metadata": {},
		   "source": [
			"## Example 15.3: calculation_of_the_time_taken_by_the_pulse_in_travelling_through_a_distance.sce"
		   ]
		  },
  {
"cell_type": "code",
	   "execution_count": null,
	   "metadata": {
	    "collapsed": true
	   },
	   "outputs": [],
"source": [
"//developed in windows XP operating system 32bit\n",
"//platform Scilab 5.4.1\n",
"clc;clear;\n",
"//example 15.3\n",
"//calculation of the time taken by the pulse in travelling through a distance\n",
"\n",
"//given data\n",
"m=1//mass(in kg) of the block\n",
"mu=1*10^-3*10^2//mass density(in kg/m)\n",
"l=50*10^-2//disatnce(in m) travelled\n",
"g=10//gravitational acceleration(in m/s^2) of the earth\n",
"\n",
"//calculation\n",
"F=m*g//tension in the string\n",
"v=sqrt(F/mu)//wave velocity\n",
"T=l/v//time taken\n",
"\n",
"printf('the time taken by the pulse in travelling through a distance of 50 cm is %3.2f s',T)"
   ]
   }
,
{
		   "cell_type": "markdown",
		   "metadata": {},
		   "source": [
			"## Example 15.3w: calculation_of_the_speed_and_displacement_of_the_particle.sce"
		   ]
		  },
  {
"cell_type": "code",
	   "execution_count": null,
	   "metadata": {
	    "collapsed": true
	   },
	   "outputs": [],
"source": [
"//developed in windows XP operating system 32bit\n",
"//platform Scilab 5.4.1\n",
"clc;clear;\n",
"//example 15.3w\n",
"//calculation of the speed and displacement of the particle\n",
"\n",
"//given data\n",
"A=.80*10^-6//area(im m^2) of the string\n",
"rho=12.5*10^-3*10^6//density(in kg/m^3)\n",
"nu=20//transverse frequency(in Hz)\n",
"F=64//tension(in N)\n",
"\n",
"//calculation\n",
"mu=A*1*rho//mass of 1 m of the string = linear mass density\n",
"v=sqrt(F/mu)//wave speed\n",
"w=2*%pi*nu//angular velocity\n",
"//substituting above values equation becomes.....y = (1.0cm)*cos(125*(t-(x/v))) \n",
"\n",
"function y=f(t,x)\n",
"    y=1*cos(2*%pi*nu*(t-(x/v)))\n",
"endfunction\n",
"t=0.05//time taken(in s)\n",
"x=50*10^-2 //displacement(in m)\n",
"yn=f(t,x)\n",
"\n",
"function yfv=ffv(t)\n",
"    yfv=1*cos(2*%pi*nu*(t-((50*10^-2)/v)))//putting value of x ..to be substituted after derivation\n",
"endfunction\n",
"vn=derivative(ffv,t)\n",
"\n",
"printf('the wave speed is %d m/s',v)\n",
"printf('\nthe wave equation is .......y = (1.0cm)*cos(%d*(t-(x/%d)))',w,v)\n",
"printf('\nthe displacement of the particle at x=50 cm at time t=0.05 s is %3.2f cm',yn)\n",
"printf('\nthe velocity of the particle at that position is %d cm/s',round(vn))"
   ]
   }
,
{
		   "cell_type": "markdown",
		   "metadata": {},
		   "source": [
			"## Example 15.4: calculation_of_the_power_transmitted_through_a_given_point.sce"
		   ]
		  },
  {
"cell_type": "code",
	   "execution_count": null,
	   "metadata": {
	    "collapsed": true
	   },
	   "outputs": [],
"source": [
"//developed in windows XP operating system 32bit\n",
"//platform Scilab 5.4.1\n",
"clc;clear;\n",
"//example 15.4\n",
"//calculation of the power transmitted through a given point\n",
"\n",
"//given data\n",
"P1=.20//average power(in W)\n",
"A1=2//amplitude(in mm) at this point\n",
"A2=3//amplitude(in mm)\n",
"\n",
"//calculation\n",
"//transmitted power is proportional to the square of the amplitude\n",
"P2=P1*(A2/A1)^2\n",
"\n",
"printf('the power transmitted through the given point is %3.2f W',P2)"
   ]
   }
,
{
		   "cell_type": "markdown",
		   "metadata": {},
		   "source": [
			"## Example 15.4w: calculation_of_the_extension_of_the_wire_over_its_natural_length.sce"
		   ]
		  },
  {
"cell_type": "code",
	   "execution_count": null,
	   "metadata": {
	    "collapsed": true
	   },
	   "outputs": [],
"source": [
"//developed in windows XP operating system 32bit\n",
"//platform Scilab 5.4.1\n",
"clc;clear;\n",
"//example 15.4w\n",
"//calculation of the extension of the wire over its natural length\n",
"\n",
"//given data\n",
"m=5*10^-3//mass(in kg) of the wire\n",
"L=50*10^-2//length(in cm) of the wire\n",
"v=80//speed(in m/s) of the wave\n",
"Y=16*10^11//Young modulus(in N/m^2)\n",
"A=1*10^-6//area(in m^2) of cross section of the wire\n",
"\n",
"//calculation\n",
"mu=m/L//linear mass density\n",
"F=mu*v^2//tension in the wire\n",
"deltaL=(F*L)/(A*Y)//extension in the length of wire\n",
"\n",
"printf('the extension of the wire over its natural length is %3.2f mm',deltaL*10^3)"
   ]
   }
,
{
		   "cell_type": "markdown",
		   "metadata": {},
		   "source": [
			"## Example 15.5: EX15_5.sce"
		   ]
		  },
  {
"cell_type": "code",
	   "execution_count": null,
	   "metadata": {
	    "collapsed": true
	   },
	   "outputs": [],
"source": [
"//developed in windows XP operating system 32bit\n",
"//platform Scilab 5.4.1\n",
"clc;clear;\n",
"//example 15.5\n",
"//calculation of the phase difference between the waves and amplitude of the resultant wave\n",
"\n",
"//given data\n",
"//equations of the wave are\n",
"//y1 = A1*sin(k(x-v*t))...........(1)\n",
"//y2 = A2*sin(k(x-v*t+x0))........(2)\n",
"k=6.28*10^2//wave number(in m^-1)\n",
"x0=1.50*10^-2//value of x0(in m)\n",
"A1=5*10^-3//amplitude(in m) of wave 1\n",
"A2=4*10^-3//amplitude(in m) of wave 2\n",
"\n",
"//calculation\n",
"deltaP=k*x0//phase difference\n",
"deltaA=abs(A1-A2)//amplitude of the wave\n",
"\n",
"printf('the phase difference between the waves is %3.2f rad',deltaP)\n",
"printf('\nthe amplitude of the resultant wave is %3.1f mm',deltaA*10^3)"
   ]
   }
,
{
		   "cell_type": "markdown",
		   "metadata": {},
		   "source": [
			"## Example 15.5w: calculation_of_the_wavelength_of_the_pulse_when_it_reaches_the_top_of_the_rope.sce"
		   ]
		  },
  {
"cell_type": "code",
	   "execution_count": null,
	   "metadata": {
	    "collapsed": true
	   },
	   "outputs": [],
"source": [
"//developed in windows XP operating system 32bit\n",
"//platform Scilab 5.4.1\n",
"clc;clear;\n",
"//example 15.5w\n",
"//calculation of the wavelength of the pulse when it reaches the top of the rope\n",
"\n",
"//given data\n",
"lr=12//length(in m) of the rope\n",
"mr=6//mass(in kg) of the rope\n",
"mb=2//mass(in kg) of the block\n",
"lambda=.06//wavelength(in m) of the wave produced at the lower end\n",
"\n",
"//calculation\n",
"//from equation .......v = nu*lambda\n",
"//putting v = sqrt(F/lambda)....we get\n",
"//sqrt(F/lambda) = nu*sqrt(mu)....using this equation,we get\n",
"lambda1=lambda*sqrt((mr+mb)/mb)\n",
"\n",
"printf('the wavelength of the pulse when it reaches the top of the rope is %3.2f m',lambda1)"
   ]
   }
,
{
		   "cell_type": "markdown",
		   "metadata": {},
		   "source": [
			"## Example 15.6: EX15_6.sce"
		   ]
		  },
  {
"cell_type": "code",
	   "execution_count": null,
	   "metadata": {
	    "collapsed": true
	   },
	   "outputs": [],
"source": [
"//developed in windows XP operating system 32bit\n",
"//platform Scilab 5.4.1\n",
"clc;clear;\n",
"//example 15.6\n",
"//calculation of the velocity,node closest to origin,antinode closest to origin,amplitude at x\n",
"\n",
"//given data\n",
"//equation of the wave is......y = A*cosd(k*x)*sind(w*t)\n",
"A=1//amplitude(in mm)\n",
"k=1.57//value of k(in cm^-1)\n",
"w=78.5//angular velocity(in s^-1)\n",
"x=2.33//value of x(in cm)\n",
"\n",
"//calculation\n",
"v=w/k//wave velocity\n",
"xn=%pi/(2*k)//for a node ...cosd(kx) = 0\n",
"xa=%pi/k//for a antinode ...|cosd(kx)| = 1\n",
"Ar=A*abs(cos(k*x))\n",
"\n",
"printf('the velocity of the wave is %d cm/s',v)\n",
"printf('\nthe node closest to the origin is located at x=%d cm',xn)\n",
"printf('\nthe antinode closest to the origin is located at x=%d cm',xa)\n",
"printf('\nthe amplitude at x=2.33 is %3.2f mm',Ar)"
   ]
   }
,
{
		   "cell_type": "markdown",
		   "metadata": {},
		   "source": [
			"## Example 15.6w: calculation_of_the_displacement_of_the_particle.sce"
		   ]
		  },
  {
"cell_type": "code",
	   "execution_count": null,
	   "metadata": {
	    "collapsed": true
	   },
	   "outputs": [],
"source": [
"//developed in windows XP operating system 32bit\n",
"//platform Scilab 5.4.1\n",
"clc;clear;\n",
"//example 15.6w\n",
"//calculation of the displacement of the particle\n",
"\n",
"//given data\n",
"//given equations are\n",
"//y1 = (1.0 cm)*sin((3.14 cm-1)*x - (157 s^-1)*t)...........(1)\n",
"//y2 = (1.5 cm)*sin((1.57 cm-1)*x - (314 s^-1)*t)...........(2)\n",
"\n",
"//calculation\n",
"function y1=f1(t,x)\n",
"    y1=1*sin((3.14*x)-(157*t))\n",
"endfunction\n",
"\n",
"function y2=f2(t,x)\n",
"    y2=1.5*sin((1.57*x)-(314*t))\n",
"endfunction\n",
"\n",
"x=4.5//given value of x(in cm)\n",
"t=5*10^-3//given value of t(in s)\n",
"//y = y1 + y2.......net displacement\n",
"y=f1(t,x)+f2(t,x)\n",
"\n",
"printf('the displacement of the particle at x=4.5 cm and t=5.0 ms is %3.2f cm',y)"
   ]
   }
,
{
		   "cell_type": "markdown",
		   "metadata": {},
		   "source": [
			"## Example 15.7: EX15_7.sce"
		   ]
		  },
  {
"cell_type": "code",
	   "execution_count": null,
	   "metadata": {
	    "collapsed": true
	   },
	   "outputs": [],
"source": [
"//developed in windows XP operating system 32bit\n",
"//platform Scilab 5.4.1\n",
"clc;clear;\n",
"//example 15.7\n",
"//calculation of the fundamental frequency of the portion of the string between the wall and the pulley \n",
"\n",
"//given data\n",
"m=1.6//mass(in kg) of the load\n",
"mw=20*10^-3//mass(in kg) of the wire\n",
"l=50*10^-2//length(in kg/m) of wire\n",
"g=10//gravitational acceleration(in m/s^2) of the earth\n",
"L=40*10^-2//length(in m) of the string between the wall and the pulley \n",
"\n",
"//calculation\n",
"F=m*g//tension in the string\n",
"mu=mw/l//linear mass density\n",
"nu0=(1/(2*L))*sqrt(F/mu)//fundamental frequency\n",
"\n",
"printf('the fundamental frequency of the portion of the string between the wall and the pulley is %d Hz',nu0)\n",
"\n",
""
   ]
   }
,
{
		   "cell_type": "markdown",
		   "metadata": {},
		   "source": [
			"## Example 15.7w: EX15_7w.sce"
		   ]
		  },
  {
"cell_type": "code",
	   "execution_count": null,
	   "metadata": {
	    "collapsed": true
	   },
	   "outputs": [],
"source": [
"//developed in windows XP operating system 32bit\n",
"//platform Scilab 5.4.1\n",
"clc;clear;\n",
"//example 15.7w\n",
"//calculation of the maximum displacement,wavelengths and wave speed,velocity,nodes and antinodes,number of loops\n",
"\n",
"//given data\n",
"//given equation is ....y = (5.00 mm)*sin(1.57 cm^-1)*sin((314 s^-1)*t)\n",
"\n",
"//calculation\n",
"//at x=5.66 cm\n",
"A=(5*10^-3)*sin(1.57*5.66)//amplitude\n",
"k=1.57//value of k(in cm^-1)\n",
"w=314//angular frequency(in s^-1)\n",
"lambda=(2*%pi)/k//wavelength\n",
"nu=(w)/(2*%pi)//frequency\n",
"//v = dy/dt = (157 cm/s)*sin(1.57 cm^-1*x)*cos((314 s^-1)*t)\n",
"function v=f(t,x)\n",
"    v=157*sin(1.57*x)*cos((314)*t)\n",
"endfunction\n",
"x=5.66//value of x (in cm)\n",
"t=2//value of t (in s)\n",
"vn=f(t,x)//velocity of the particle\n",
"\n",
"//for nodes......sin(1.57 cm^-1)*x = 0..........gives x=2*n\n",
"//since l=10 cm..nodes occur at 0 cm,2 cm,4 cm,6 cm,8 cm,10 cm\n",
"//antinodes occur in between at 1 cm,3 cm,5 cm,7 cm,9 cm\n",
"nloops=10*(1/2)\n",
"\n",
"printf('the amplitude is %3.2f mm',10^3*A)\n",
"printf('\nthe wavelength is %3.2f cm',lambda)\n",
"printf('\nthe velocity is %3.2f cm/s',vn)// Textbook Correction : correct answer is 76.48 cm/s\n",
"printf('\nnodes occur at 0 cm,2 cm,4 cm,6 cm,8 cm,10 cm')\n",
"printf('\nantinodes occur in between at 1 cm,3 cm,5 cm,7 cm,9 cm')\n",
"printf('\nthe number of loops is %d',nloops)"
   ]
   }
,
{
		   "cell_type": "markdown",
		   "metadata": {},
		   "source": [
			"## Example 15.8: calculation_of_the_length_of_the_experimental_wire_to_get_the_resonance.sce"
		   ]
		  },
  {
"cell_type": "code",
	   "execution_count": null,
	   "metadata": {
	    "collapsed": true
	   },
	   "outputs": [],
"source": [
"//developed in windows XP operating system 32bit\n",
"//platform Scilab 5.4.1\n",
"clc;clear;\n",
"//example 15.8\n",
"//calculation of the length of the experimental wire to get the resonance\n",
"\n",
"//given data\n",
"nu1=256//frequency(in Hz) of the tunning fork 1\n",
"nu2=384//frequency(in Hz) of the tunning fork 2\n",
"l1=21//length(in cm) of the wire for tunning fork 1\n",
"\n",
"//calculation\n",
"l2=(nu1/nu2)*l1//law of length\n",
"\n",
"printf('the length of the experimental wire to get the resonance is %d cm',l2)"
   ]
   }
,
{
		   "cell_type": "markdown",
		   "metadata": {},
		   "source": [
			"## Example 15.8w: EX15_8w.sce"
		   ]
		  },
  {
"cell_type": "code",
	   "execution_count": null,
	   "metadata": {
	    "collapsed": true
	   },
	   "outputs": [],
"source": [
"//developed in windows XP operating system 32bit\n",
"//platform Scilab 5.4.1\n",
"clc;clear;\n",
"//example 15.8w\n",
"//calculation of the pressing in the guitar to produce required fundamental frequency\n",
"\n",
"//given data\n",
"L1=90//length(in cm) of the guitar string\n",
"nu1=124//fundamental frequency(in Hz) for L1\n",
"nu2=186//required fundamental frequency(in Hz)\n",
"\n",
"//calculation\n",
"//from equation of fundamental frequency....nu = (1/(2*L))*sqrt(F/mu)\n",
"L2=L1*(nu1/nu2)\n",
"\n",
"printf('the pressing in the guitar to produce the fundamental frequency of 186 Hz is %d cm',L2)"
   ]
   }
,
{
		   "cell_type": "markdown",
		   "metadata": {},
		   "source": [
			"## Example 15.9w: calculation_of_the_position_of_bridges_in_sonometer_wire.sce"
		   ]
		  },
  {
"cell_type": "code",
	   "execution_count": null,
	   "metadata": {
	    "collapsed": true
	   },
	   "outputs": [],
"source": [
"//developed in windows XP operating system 32bit\n",
"//platform Scilab 5.4.1\n",
"clc;clear;\n",
"//example 15.9w\n",
"//calculation of the position of bridges in sonometer wire\n",
"\n",
"//given data\n",
"//nu1 : nu2 : nu3 = 1 : 2 : 3\n",
"L=1//length(in m) of the sonometer wire\n",
"m1=1//taking value from ratio\n",
"m2=2//taking value from ratio\n",
"m3=3//taking value from ratio\n",
"\n",
"//calculation\n",
"//from formula of fundamental frequency.....nu = (1/(2*L))*sqrt(F/mu)\n",
"L1=L/((1/m1)+(1/m2)+(1/m3))//position of bridge 1 from one end\n",
"L2=L1/2\n",
"L3=L1/3//position of bridge 2 from the other end\n",
"\n",
"printf('the position of bridge 1 from one end is %3.2f m',L1)\n",
"printf('\nthe position of bridge 2 from the other end is %3.2f m',L3)"
   ]
   }
],
"metadata": {
		  "kernelspec": {
		   "display_name": "Scilab",
		   "language": "scilab",
		   "name": "scilab"
		  },
		  "language_info": {
		   "file_extension": ".sce",
		   "help_links": [
			{
			 "text": "MetaKernel Magics",
			 "url": "https://github.com/calysto/metakernel/blob/master/metakernel/magics/README.md"
			}
		   ],
		   "mimetype": "text/x-octave",
		   "name": "scilab",
		   "version": "0.7.1"
		  }
		 },
		 "nbformat": 4,
		 "nbformat_minor": 0
}
