{
"cells": [
 {
		   "cell_type": "markdown",
	   "metadata": {},
	   "source": [
       "# Chapter 3: Rest and Motion Kinematics"
	   ]
	},
{
		   "cell_type": "markdown",
		   "metadata": {},
		   "source": [
			"## Example 3.10: calculation_of_velocity_of_the_swimmer_with_respect_to_ground.sce"
		   ]
		  },
  {
"cell_type": "code",
	   "execution_count": null,
	   "metadata": {
	    "collapsed": true
	   },
	   "outputs": [],
"source": [
"//developed in windows XP operating system 32bit\n",
"//platform Scilab 5.4.1\n",
"clc;clear;\n",
"//example 3.10\n",
"//calculation of velocity of the swimmer with respect to ground\n",
"\n",
"//given data\n",
"vsr=4//velocity(in km/h) of the swimmer with respect to water \n",
"vrg=3//velocity(in km/h) of the river water with respect to ground\n",
"\n",
"//calculation\n",
"vsg=sqrt((vsr*vsr)+(vrg*vrg));//formula for relative velocity    vsg = vsr + vrg\n",
"theta=atand(4/3);\n",
"\n",
"printf('the velocity of the swimmer with respect to ground is %f km/h and angle made by him with X axis is %f degree',vsg,theta);"
   ]
   }
,
{
		   "cell_type": "markdown",
		   "metadata": {},
		   "source": [
			"## Example 3.10w: calculation_of_height_of_balloon_when_stone_reaches_ground.sce"
		   ]
		  },
  {
"cell_type": "code",
	   "execution_count": null,
	   "metadata": {
	    "collapsed": true
	   },
	   "outputs": [],
"source": [
"//developed in windows XP operating system 32bit\n",
"//platform Scilab 5.4.1\n",
"clc;clear;\n",
"//example 3.10w\n",
"//calculation of height of balloon when stone reaches ground\n",
"\n",
"//given data\n",
"x=-50//height(in m) of the ballon when the stone was dropped\n",
"u=5//velocity(in m/s) of the ballon\n",
"a=-10//acceleration(in m/s^2) of the ballon\n",
"\n",
"//calculation\n",
"//from x=(u*t)+((1/2)*a*t*t) we have -5*t^2 + 5*t + 50 = 0\n",
"a=-5//coefficient of t^2\n",
"b=5//coefficient of t\n",
"c=50//constant\n",
"\n",
"t1=(-b+sqrt((b*b)-(4*a*c)))/(2*a)//value of t\n",
"t2=(-b-sqrt((b*b)-(4*a*c)))/(2*a)//value of t\n",
"\n",
"if(t1>0)\n",
"    t=t1;\n",
"end\n",
"\n",
"if(t2>0)\n",
"    t=t2;\n",
"end\n",
"\n",
"if(t1>0 & t2>0)\n",
"    tn1=t1;\n",
"    tn2=t2;\n",
"end\n",
"\n",
"tballoon=t;//during this time baloon has uniformly moved upwards\n",
"dballoon=u*t;\n",
"dtotal=dballoon+(-x);\n",
"\n",
"printf('height of the ballon when the stone reaches ground is %3.2f m',dtotal);"
   ]
   }
,
{
		   "cell_type": "markdown",
		   "metadata": {},
		   "source": [
			"## Example 3.11: calculation_of_velocity_of_the_raindrops_with_respect_to_the_man.sce"
		   ]
		  },
  {
"cell_type": "code",
	   "execution_count": null,
	   "metadata": {
	    "collapsed": true
	   },
	   "outputs": [],
"source": [
"//developed in windows XP operating system 32bit\n",
"//platform Scilab 5.4.1\n",
"clc;clear;\n",
"//example 3.11\n",
"//calculation of velocity of the raindrops with respect to the man\n",
"\n",
"//given data\n",
"vmanstreet=3//velocity(in km/h) of man with respect to the street\n",
"vrainstreet=4//velocity(in km/h) of rain with respect to the street\n",
"\n",
"//calculation\n",
"vrainman=sqrt((vrainstreet*vrainstreet)+(vmanstreet*vmanstreet));//velocity(in km/h) of rain with respect to the man\n",
"theta=atand(vmanstreet/vrainstreet);//angle(in degree) made by rain drops with Y axis\n",
"\n",
"printf('velocity of the raindrops with respect to the man is %3.2f km/h and angle made by rain drops with Y axis is %3.3f degree',vrainman,theta)"
   ]
   }
,
{
		   "cell_type": "markdown",
		   "metadata": {},
		   "source": [
			"## Example 3.11w: calculation_of_time_of_flight_horizontal_range_and_vertical_range.sce"
		   ]
		  },
  {
"cell_type": "code",
	   "execution_count": null,
	   "metadata": {
	    "collapsed": true
	   },
	   "outputs": [],
"source": [
"//developed in windows XP operating system 32bit\n",
"//platform Scilab 5.4.1\n",
"clc;clear;\n",
"//example 3.11w\n",
"//calculation of time of flight,horizontal range and vertical range\n",
"\n",
"//given data\n",
"u=20//initial velocity(in m/s) of the football\n",
"theta=45//angle(in degree) made by the football with ground\n",
"g=10//gravitational acceleration(in m/s^2)\n",
"\n",
"//calculation\n",
"ux=u*cosd(theta);\n",
"uy=u*sind(theta);\n",
"\n",
"t=(2*uy)/g;// from equation y=(uy*t)+((1/2)*g*t*t)......taking y=0\n",
"H=((uy*uy)/(2*g));//from equation (vy*vy)=(uy*uy)-(2*g*y)       taking vy=0\n",
"x=ux*t;//horizontal distance travelled at ux velocity\n",
"\n",
"printf('the time taken by the ball to strike the ground is %3.2f s',t);\n",
"printf('\nthe maximum height reached by the ball is %3.2f m',H);\n",
"printf('\nthe horizontal distance travelled by the ball before reaching the ground is %3.2f m',x);"
   ]
   }
,
{
		   "cell_type": "markdown",
		   "metadata": {},
		   "source": [
			"## Example 3.16w: calculation_of_angle_of_the_swim_and_time_to_cross_the_river.sce"
		   ]
		  },
  {
"cell_type": "code",
	   "execution_count": null,
	   "metadata": {
	    "collapsed": true
	   },
	   "outputs": [],
"source": [
"//developed in windows XP operating system 32bit\n",
"//platform Scilab 5.4.1\n",
"clc;clear;\n",
"//example 3.16w\n",
"//calculation of angle of the swim and time to cross the river\n",
"\n",
"//given data\n",
"vrg=2//velocity(in km/h) of the river with respect to ground\n",
"vmr=3////velocity(in km/h) of the man with respect to river\n",
"d=.5//width(in km) of the river\n",
"\n",
"//calculation\n",
"theta=asind(vrg/vmr);//from equation of relative velocity   vmg=vmr+vrg...taking components along X axis\n",
"vmg=vmr*cosd(theta);//taking component along Y axis\n",
"time=d/vmg;\n",
"\n",
"printf('swimmer should try to swim,making an angle of %3.2f degree with Y axis',theta);\n",
"printf('\ntime taken by the swimmer to cross the river is %3.2f h',time);"
   ]
   }
,
{
		   "cell_type": "markdown",
		   "metadata": {},
		   "source": [
			"## Example 3.17w: calculation_of_time_taken_and_position_of_the_arrival_on_opposite_bank.sce"
		   ]
		  },
  {
"cell_type": "code",
	   "execution_count": null,
	   "metadata": {
	    "collapsed": true
	   },
	   "outputs": [],
"source": [
"//developed in windows XP operating system 32bit\n",
"//platform Scilab 5.4.1\n",
"clc;clear;\n",
"//example 3.17w\n",
"//calculation of time taken and position of the arrival on opposite bank\n",
"\n",
"//given data\n",
"dyaxis=.5//displacement(in km) along Y axis\n",
"vrg=2//velocity(in km/h) of the river with respect to ground\n",
"vmr=3////velocity(in km/h) of the man with respect to river\n",
"theta1=30//angle(in degree) of vmr with Y axis\n",
"theta2=90//angle(in degree) of vrg with Y axis\n",
"\n",
"//calculation\n",
"vyaxis=(vmr*cosd(theta1))+(vrg*cosd(theta2));//velocity along Y axis i.e taking y component in equation   vmg=vmr+vrg\n",
"t=dyaxis/vyaxis;\n",
"vxaxis=(-vmr*sind(theta1))+(vrg*sind(theta2));//velocity along X axis i.e taking x component in equation   vmg=vmr+vrg\n",
"dxaxis=vxaxis*t;\n",
"\n",
"printf('time taken by the swimmer to cross the river is %3.2f hour',t);\n",
"printf('\ndisplacement of the swimmer along X axis is %3.4f km',dxaxis);\n",
""
   ]
   }
,
{
		   "cell_type": "markdown",
		   "metadata": {},
		   "source": [
			"## Example 3.18w: calculation_of_speed_of_raindrops_with_respect_to_road_and_the_moving_man.sce"
		   ]
		  },
  {
"cell_type": "code",
	   "execution_count": null,
	   "metadata": {
	    "collapsed": true
	   },
	   "outputs": [],
"source": [
"//developed in windows XP operating system 32bit\n",
"//platform Scilab 5.4.1\n",
"clc;clear;\n",
"//example 3.18w\n",
"//calculation of speed of raindrops with respect to road and the moving man\n",
"\n",
"//given data\n",
"vmg=10//velocity(in km/h) of the man with respect to the ground\n",
"theta=30//angle(in degree) made by vrg with Y axis\n",
"\n",
"//calculation\n",
"vrg=vmg/sind(theta);// from equation of relative velocity   vrg=vrm+vmg...taking horizontal components \n",
"vrm=vrg*cosd(theta);// from equation of relative velocity   vrg=vrm+vmg...taking vertical components \n",
"\n",
"printf('the speed of raindrops with respect to the ground is %3.2f km/h and with respect to the  man is %3.2f km/h',vrg,vrm);"
   ]
   }
,
{
		   "cell_type": "markdown",
		   "metadata": {},
		   "source": [
			"## Example 3.19w: calculation_of_speed_and_direction_of_rain_with_respect_to_the_road.sce"
		   ]
		  },
  {
"cell_type": "code",
	   "execution_count": null,
	   "metadata": {
	    "collapsed": true
	   },
	   "outputs": [],
"source": [
"//developed in windows XP operating system 32bit\n",
"//platform Scilab 5.4.1\n",
"clc;clear;\n",
"//example 3.19w\n",
"//calculation of speed and direction of rain with respect to the road\n",
"\n",
"//given data\n",
"vmanroad=8//velocity(in km/h) of the man with respect to the road\n",
"\n",
"//calculation\n",
"//from equation of relative velocity   vrainroad = vrainman + vmanroad\n",
"//taking horizontal components        vrainroad*sind(aplha)=8                    1\n",
"//taking components along line OA     vrainroad*sind(30+alpha)=12*cosd(30)       2\n",
"//from   1    and    2\n",
"\n",
"alpha=acotd(sqrt(3)/2);\n",
"vrainroad=vmanroad/sind(alpha);//from equation 2\n",
"\n",
"printf('the speed of the rain with respect to the road is %3.2f km/h and makes angle of %3.2f degree with Y axis',vrainroad,alpha);"
   ]
   }
,
{
		   "cell_type": "markdown",
		   "metadata": {},
		   "source": [
			"## Example 3.1: calculation_of_distance_and_displacement.sce"
		   ]
		  },
  {
"cell_type": "code",
	   "execution_count": null,
	   "metadata": {
	    "collapsed": true
	   },
	   "outputs": [],
"source": [
"//developed in windows XP operating system 32bit\n",
"//platform Scilab 5.4.1\n",
"clc;clear;\n",
"//example 3.1\n",
"//calculation of distance and displacement\n",
"\n",
"//given data\n",
"r=40; //radius(in m) of the circle\n",
"\n",
"//calculation\n",
"dist=%pi*r; //distance travelled(in m)\n",
"displ=2*r; //displacement(in m)\n",
"\n",
"disp(dist,'distance travelled(in m) by the person is');\n",
"disp(displ,'displacement(in m) of the person from initial to final point is');"
   ]
   }
,
{
		   "cell_type": "markdown",
		   "metadata": {},
		   "source": [
			"## Example 3.1w: calculation_of_average_speed_of_the_walk.sce"
		   ]
		  },
  {
"cell_type": "code",
	   "execution_count": null,
	   "metadata": {
	    "collapsed": true
	   },
	   "outputs": [],
"source": [
"//developed in windows XP operating system 32bit\n",
"//platform Scilab 5.4.1\n",
"clc;clear;\n",
"//example 3.1w\n",
"//calculation of average speed of the walk\n",
"\n",
"//given data\n",
"v1=6//speed(in km/h) of the man\n",
"v2=8//speed(in km/h) of the man\n",
"d1=1//distance(in km) travelled at v1 speed\n",
"d2=1//distance(in km) travelled at v2 speed\n",
"d=2//given distance(in km)\n",
"\n",
"//calculation\n",
"t=(v1/d1)+(v2/d2);//total time(in s) taken\n",
"vavg=d/t;//formula for average velocity\n",
"\n",
"disp(vavg,'the average velocity(in km/h) of the man is');"
   ]
   }
,
{
		   "cell_type": "markdown",
		   "metadata": {},
		   "source": [
			"## Example 3.2: calculation_of_average_speed_and_instantaneous_speed.sce"
		   ]
		  },
  {
"cell_type": "code",
	   "execution_count": null,
	   "metadata": {
	    "collapsed": true
	   },
	   "outputs": [],
"source": [
"//developed in windows XP operating system 32bit\n",
"//platform Scilab 5.4.1\n",
"clc;clear;\n",
"//example 3.2\n",
"//calculation of average speed and instantaneous speed\n",
"\n",
"//given data\n",
"function s=f(t)\n",
"    s=2.5*t^2;\n",
"endfunction\n",
"t=5; //time (in s)\n",
"\n",
"//calculation\n",
"vav=f(t)/t; //average speed(in m/s)\n",
"vinst=derivative(f,t); //instantaneous speed(in m/s)\n",
"\n",
"disp(vav,'the average speed(in m/s) of the particle is');\n",
"disp(vinst,'the instantaneous speed(in m/s) of the particle is');"
   ]
   }
,
{
		   "cell_type": "markdown",
		   "metadata": {},
		   "source": [
			"## Example 3.2w: calculation_of_average_speed_and_average_velocity.sce"
		   ]
		  },
  {
"cell_type": "code",
	   "execution_count": null,
	   "metadata": {
	    "collapsed": true
	   },
	   "outputs": [],
"source": [
"//developed in windows XP operating system 32bit\n",
"//platform Scilab 5.4.1\n",
"clc;clear;\n",
"//example 3.2w\n",
"//calculation of average speed and average velocity\n",
"\n",
"//given data\n",
"w=40//length(in ft)of the wall \n",
"t=50//time(in min) taken\n",
"rnd=10//number of rounds taken\n",
"\n",
"//calculation\n",
"dist=2*w*rnd;\n",
"avgspeed=dist/t;\n",
"avgvelocity=0//average velocity(in ft/min) since displacement=0   as he is at the same door from where he has started\n",
"\n",
"printf('the average speed of the teacher is %3.2f ft/min and the average velocity is %3.2f ft/min',avgspeed,avgvelocity);"
   ]
   }
,
{
		   "cell_type": "markdown",
		   "metadata": {},
		   "source": [
			"## Example 3.3: calculation_of_distance_from_speed_versus_time_graph.sce"
		   ]
		  },
  {
"cell_type": "code",
	   "execution_count": null,
	   "metadata": {
	    "collapsed": true
	   },
	   "outputs": [],
"source": [
"//developed in windows XP operating system 32bit\n",
"//platform Scilab 5.4.1\n",
"clc;clear;\n",
"//example 3.3\n",
"//calculation of distance from speed versus time graph\n",
"\n",
"//given data\n",
"base=3; //time(in s) representing the base of graph(triangle)\n",
"height=6; //speed(in m/s) representing the height of the graph(triangle)\n",
"//calculation\n",
"dist=(1/2)*base*height; //distance travelled is the area of the graph(triangle)\n",
"\n",
"disp(dist,'the distance(in m) travelled by the particle is');"
   ]
   }
,
{
		   "cell_type": "markdown",
		   "metadata": {},
		   "source": [
			"## Example 3.3w: calculation_of_average_velocity_and_average_acceleration.sce"
		   ]
		  },
  {
"cell_type": "code",
	   "execution_count": null,
	   "metadata": {
	    "collapsed": true
	   },
	   "outputs": [],
"source": [
"//developed in windows XP operating system 32bit\n",
"//platform Scilab 5.4.1\n",
"clc;clear;\n",
"//example 3.3w\n",
"//calculation of average velocity and average acceleration \n",
"\n",
"//given data\n",
"A=1//given value of constant A\n",
"B=4//given value of constant B\n",
"C=-2//given value of constant C\n",
"D=5//given value of constant D\n",
"t=4//time(in s)\n",
"t1=0//initial time(in s) for calculation of average velocity and average acceleration\n",
"t2=4//final time(in s) for calculation of average velocity and average acceleration\n",
"\n",
"function x=f(t)\n",
"    x=(A*(t^3))+(B*(t^2))+(C*t)+D\n",
"endfunction\n",
"\n",
"function a=f1(t)\n",
"        a=(6*A*t)+(2*B)\n",
"endfunction\n",
"\n",
"//calculation\n",
"v=derivative(f,t)//formula of velocity\n",
"na=f1(t)//formula of acceleration \n",
"\n",
"x1=f(t1);//formula of position of the particle at t1 time \n",
"x2=f(t2);//formula of position of the particle at t2 time\n",
"vavg=(x2-x1)/(t2-t1);//formula of average velocity\n",
"\n",
"v1=derivative(f,t1);//formula of velocity of the particle at t1 time \n",
"v2=derivative(f,t2);//formula of velocity of the particle at t2 time\n",
"aavg=(v2-v1)/(t2-t1);//formula of average acceleration\n",
"\n",
"printf('\nthe velocity of particle at t=4 s is %3.2f m/s',v);\n",
"printf('\nthe acceleration of particle at t=4 s is %3.2f m/s^2',na)\n",
"printf('\nthe average velocity of the particle between t=0 s and t=4 s is %3.2f m/s',vavg);\n",
"printf('\nthe average acceleration of the particle between t=0 s and t=4 s is %3.2f m/s^2',aavg);\n",
""
   ]
   }
,
{
		   "cell_type": "markdown",
		   "metadata": {},
		   "source": [
			"## Example 3.4: calculation_of_average_velocity_of_the_tip_of_minute_hand_in_a_table_clock.sce"
		   ]
		  },
  {
"cell_type": "code",
	   "execution_count": null,
	   "metadata": {
	    "collapsed": true
	   },
	   "outputs": [],
"source": [
"//developed in windows XP operating system 32bit\n",
"//platform Scilab 5.4.1\n",
"clc;clear;\n",
"//example 3.4\n",
"//calculation of average velocity of the tip of minute hand in a table clock\n",
"\n",
"//given data\n",
"R=4; //length(in cm) of the minute hand = radius(in cm) of the circle representing the clock\n",
"t1=1800; //time(in second) elapsed between 6.00 a.m and 6.30 a.m        30*60\n",
"t2=45000; //time(in second) elapsed between 6.00 a.m and 6.30 p.m       (12*60*60) + (30*60)\n",
"\n",
"//calculation\n",
"vav1=(2*R)/t1; //average velocity(in cm/s) in first case\n",
"vav2=(2*R)/t2; //average velocity(in cm/s) in second case\n",
"\n",
"disp(vav1,'average velocity(in cm/s) of the tip of minute hand in time elapsed between 6.00 a.m and 6.30 a.m is');\n",
"disp(vav2,'average velocity(in cm/s) of the tip of minute hand in time elapsed between 6.00 a.m and 6.30 p.m is');"
   ]
   }
,
{
		   "cell_type": "markdown",
		   "metadata": {},
		   "source": [
			"## Example 3.4w: calculation_of_distance_travelled_displacement_and_acceleration.sce"
		   ]
		  },
  {
"cell_type": "code",
	   "execution_count": null,
	   "metadata": {
	    "collapsed": true
	   },
	   "outputs": [],
"source": [
"//developed in windows XP operating system 32bit\n",
"//platform Scilab 5.4.1\n",
"clc;clear;\n",
"//example 3.4w\n",
"//calculation of distance travelled,displacement and acceleration\n",
"\n",
"//given data\n",
"//graph of velocity(in m/s) versus time(in s)\n",
"\n",
"//calculation\n",
"d1=(2*10)/2;//distance(in m) travelled during t=0 s to t=2 s = area of OAB\n",
"d2=(2*10)/2;//distance(in m) travelled during t=2 s to t=4 s = area of BCD\n",
"d=d1+d2;//distance(in m) travelled during t=0 s to t=4 s\n",
"dis=d1+(-d2);//displacement(in m) during t=0 s to t=4 s\n",
"a1=(10-0)/(1-0);//acceleration(in m/s^2) at t=1/2 s = slope of OA\n",
"a2=(-10-0)/(3-2);//acceleration(in m/s^2) at t=2 s = slope of BC\n",
"\n",
"disp(d1,'distance(in m) travelled during t=0 s to t=2 s is');\n",
"disp(d2,'distance(in m) travelled during t=2 s to t=4 s is');\n",
"disp(d,'distance(in m) travelled during t=0 s to t=4 s');\n",
"disp(dis,'displacement(in m) during t=0 s to t=4 s');\n",
"disp(a1,'acceleration(in m/s^2) at t=1/2 s');\n",
"disp(a2,'acceleration(in m/s^2) at t=2 s');"
   ]
   }
,
{
		   "cell_type": "markdown",
		   "metadata": {},
		   "source": [
			"## Example 3.5: EX3_5.sce"
		   ]
		  },
  {
"cell_type": "code",
	   "execution_count": null,
	   "metadata": {
	    "collapsed": true
	   },
	   "outputs": [],
"source": [
"//developed in windows XP operating system 32bit\n",
"//platform Scilab 5.4.1\n",
"clc;clear;\n",
"//example 3.5\n",
"//calculation of distance travelled in given time, time taken to reach a particular velocity and distance covered to reach particular velocity \n",
"\n",
"//given data\n",
"u=2.5; //initial velocity(in m/s) of the particle\n",
"t=2; //time(in s) for which the particle has travelled\n",
"v=7.5; //final velocity(in m/s) of the particle\n",
"a=.5; //acceleration(in m/s^2) of the particle\n",
"\n",
"//calculation\n",
"x=(u*t)+((1/2)*a*t*t); //Equation of motion with constant acceleration\n",
"t1=(v-u)/a; //Equation of motion with constant acceleration\n",
"x1=((v*v)-(u*u))/(2*a); //Equation of motion with constant acceleration\n",
"\n",
"disp(x,'distance(in m) travelled by the particle in the first two seconds is');\n",
"disp(t1,'time(in s) taken by particle to reach 7.5 m/s velocity is');\n",
"disp(x1,'distance(in m) covered by particle to reach 7.5 m/s velocity is');"
   ]
   }
,
{
		   "cell_type": "markdown",
		   "metadata": {},
		   "source": [
			"## Example 3.5w: calculation_of_acceleration_and_distance_travelled.sce"
		   ]
		  },
  {
"cell_type": "code",
	   "execution_count": null,
	   "metadata": {
	    "collapsed": true
	   },
	   "outputs": [],
"source": [
"//developed in windows XP operating system 32bit\n",
"//platform Scilab 5.4.1\n",
"clc;clear;\n",
"//example 3.5w\n",
"//calculation of acceleration and distance travelled\n",
"\n",
"//given data\n",
"v1=100//speed1(in m/s)\n",
"v2=150//speed2(in m/s)\n",
"t=1//change in time (in s)\n",
"\n",
"//calculation\n",
"a=(v2-v1)/t;//formula of acceleration\n",
"x=((v2*v2)-(v1*v1))/(2*a);//distance travelled in (t+1)th second\n",
"\n",
"printf('acceleration of the particle is %3.2f m/s^2',a)\n",
"printf('\ndistance travelled in (t+1)th second is %3.2f m',x)"
   ]
   }
,
{
		   "cell_type": "markdown",
		   "metadata": {},
		   "source": [
			"## Example 3.6: calculation_of_displacement_of_particle_in_last_1_second.sce"
		   ]
		  },
  {
"cell_type": "code",
	   "execution_count": null,
	   "metadata": {
	    "collapsed": true
	   },
	   "outputs": [],
"source": [
"//developed in windows XP operating system 32bit\n",
"//platform Scilab 5.4.1\n",
"clc;clear;\n",
"//example 3.6\n",
"//calculation of displacement of particle in last 1 second\n",
"\n",
"//given data\n",
"u=5; //initial velocity(in m/s) of the particle\n",
"a=2; //constant acceleration(in m/s^2) of the particle\n",
"t=10; //time(in s)\n",
"\n",
"//calculation\n",
"//s = u*t+((1/2)*a*t^2)....equation of motion\n",
"//sdash = u*(t-1)+((1/2)*a*(t-1)^2)\n",
"//st = s-sdash =u+((a/2)*(2*t-1)); \n",
"\n",
"st=u+((a/2)*(2*t-1)); //formula of displacement in last one second\n",
"disp(st,'displacement(in m) of particle in last 1 second');"
   ]
   }
,
{
		   "cell_type": "markdown",
		   "metadata": {},
		   "source": [
			"## Example 3.6w: calculation_of_acceleration.sce"
		   ]
		  },
  {
"cell_type": "code",
	   "execution_count": null,
	   "metadata": {
	    "collapsed": true
	   },
	   "outputs": [],
"source": [
"//developed in windows XP operating system 32bit\n",
"//platform Scilab 5.4.1\n",
"clc;clear;\n",
"//example 3.6w\n",
"//calculation of acceleration\n",
"\n",
"//given data\n",
"u=0//initial velocity(in m/s)\n",
"v=2.2//final velocity(in m/s)\n",
"d=.24//distance(in m) travelled\n",
"\n",
"//calculation\n",
"a=((v*v)-(u*u))/(2*d);//formula of acceleration\n",
"\n",
"printf('the acceleration of the stone is %3.3f m/s^2',a)"
   ]
   }
,
{
		   "cell_type": "markdown",
		   "metadata": {},
		   "source": [
			"## Example 3.7: calculation_of_maximum_height_reached_by_the_ball.sce"
		   ]
		  },
  {
"cell_type": "code",
	   "execution_count": null,
	   "metadata": {
	    "collapsed": true
	   },
	   "outputs": [],
"source": [
"//developed in windows XP operating system 32bit\n",
"//platform Scilab 5.4.1\n",
"clc;clear;\n",
"//example 3.7\n",
"//calculation of maximum height reached by the ball\n",
"\n",
"//given data\n",
"u=4; //initial velocity(in m/s) of the ball\n",
"a=-10; //acceleration(in m/s^2) of the ball\n",
"\n",
"//calculation\n",
"y=-((u*u)/(2*a)); //formula for vertical height(in m)\n",
"\n",
"disp(y,'maximum height(in m) reached by the ball is');"
   ]
   }
,
{
		   "cell_type": "markdown",
		   "metadata": {},
		   "source": [
			"## Example 3.8: calculation_of_velocity_and_position_of_the_particle.sce"
		   ]
		  },
  {
"cell_type": "code",
	   "execution_count": null,
	   "metadata": {
	    "collapsed": true
	   },
	   "outputs": [],
"source": [
"//developed in windows XP operating system 32bit\n",
"//platform Scilab 5.4.1\n",
"clc;clear;\n",
"//example 3.8\n",
"//calculation of velocity and position of the particle\n",
"\n",
"//given data\n",
"a=1.5; //acceleration(in m/s^2) of the particle\n",
"theta=37; //angle(in degree) made by particle with X axis\n",
"ux=8; //x component of initial velocity(in m/s) of the particle \n",
"uy=0; //y component of initial velocity(in m/s) of the particle \n",
"t=4; //time(in s)\n",
"\n",
"//calculation\n",
"ax=a*cosd(theta);\n",
"ay=a*sind(theta);\n",
"\n",
"vx=ux+(ax*t); //formula of x component of final velocity\n",
"vy=uy+(ay*t); //formula of y component of final velocity\n",
"v=sqrt((vx*vx)+(vy*vy));\n",
"thetav=atand(vy/vx);\n",
"\n",
"x=(ux*t)+((ax*t*t)/2); //formula for x coordinate of particle at time t\n",
"y=(uy*t)+((ay*t*t)/2); //formula for y coordinate of particle at time t\n",
"\n",
"printf('the velocity of the particle at t=4 s is %f m/s and angle made with X axis is %f degree',v,thetav)\n",
"printf('the particle is at(%f,%f)m at  time t=4 s',x,y)"
   ]
   }
,
{
		   "cell_type": "markdown",
		   "metadata": {},
		   "source": [
			"## Example 3.8w: calculation_of_total_distance_and_number_of_trips.sce"
		   ]
		  },
  {
"cell_type": "code",
	   "execution_count": null,
	   "metadata": {
	    "collapsed": true
	   },
	   "outputs": [],
"source": [
"//developed in windows XP operating system 32bit\n",
"//platform Scilab 5.4.1\n",
"clc;clear;\n",
"//example 3.8w\n",
"//calculation of total distance and number of trips\n",
"\n",
"//given data\n",
"dcar=20//distance(in km) travelled by the car\n",
"vcar=40//speed(in km/h) of the car\n",
"vfly=100//speed(in km/h) of the fly\n",
"\n",
"//calculation\n",
"tcar=dcar/vcar;//time(in h) taken by the car to cover given distance\n",
"tfly=tcar;\n",
"dfly=tfly*vfly;//distance(in m) travelled by the fly\n",
"//number of trips made by fly can be infinite\n",
"\n",
"printf('total distance travelled by the fly is %3.2f km and number of trips made by fly can be infinite',dfly);"
   ]
   }
,
{
		   "cell_type": "markdown",
		   "metadata": {},
		   "source": [
			"## Example 3.9: calculation_of_horizontal_range_of_the_projectile.sce"
		   ]
		  },
  {
"cell_type": "code",
	   "execution_count": null,
	   "metadata": {
	    "collapsed": true
	   },
	   "outputs": [],
"source": [
"//developed in windows XP operating system 32bit\n",
"//platform Scilab 5.4.1\n",
"clc;clear;\n",
"//example 3.9\n",
"//calculation of horizontal range of the projectile\n",
"\n",
"//given data\n",
"u=12//initial velocity(in m/s) of the projectile\n",
"theta=45//angle(in degree) made by the projectile with X axis\n",
"g=10//gravitational acceleration(in m/s^2)\n",
"\n",
"//calculation\n",
"h=(u*u*sind(2*theta))/g;//formula for horizontal range of a projectile\n",
"\n",
"printf('the ball hits the field at %f m from the point of projection',h);"
   ]
   }
,
{
		   "cell_type": "markdown",
		   "metadata": {},
		   "source": [
			"## Example 3.9w: drawing_graph_of_x_versus_t_v_versus_t_and_a_versus_t.sce"
		   ]
		  },
  {
"cell_type": "code",
	   "execution_count": null,
	   "metadata": {
	    "collapsed": true
	   },
	   "outputs": [],
"source": [
"//developed in windows XP operating system 32bit\n",
"//platform Scilab 5.4.1\n",
"clc;clear;\n",
"//example 3.9w\n",
"//drawing graph of x versus t, v versus t and a versus t\n",
"\n",
"//given data\n",
"h=19.6//height(in m) from where the ball is dropped\n",
"//evaluating value for equation    x=(u*t)+((1/2)*a*t^2)\n",
"\n",
"//calculation\n",
"t=[0 1 2 2 3 4]\n",
"x=[0 4.9 19.6 19.6 4.9 0]//values of x(in m) obtained on evaluating equation    x=(u*t)+((1/2)*a*t^2) along with direction of motion\n",
"v=[0 9.8 19.6 -19.6 -9.8 0]//values of v(in m) obtained on evaluating equation    v=u+(a*t) along with direction of motion\n",
"a=9.8//constant acceleration(m/s^2)\n",
"\n",
"subplot(221);\n",
"plot(t,x);\n",
"xlabel('time(in s)')\n",
"ylabel('distance(in m)')\n",
"\n",
"subplot(222);\n",
"plot(t,v);\n",
"xlabel('time(in s)')\n",
"ylabel('velocity(in m/s)')\n",
"\n",
"subplot(223);\n",
"plot(t,a);\n",
"xlabel('time(in s)')\n",
"ylabel('acceleration (in m/s^2)')"
   ]
   }
],
"metadata": {
		  "kernelspec": {
		   "display_name": "Scilab",
		   "language": "scilab",
		   "name": "scilab"
		  },
		  "language_info": {
		   "file_extension": ".sce",
		   "help_links": [
			{
			 "text": "MetaKernel Magics",
			 "url": "https://github.com/calysto/metakernel/blob/master/metakernel/magics/README.md"
			}
		   ],
		   "mimetype": "text/x-octave",
		   "name": "scilab",
		   "version": "0.7.1"
		  }
		 },
		 "nbformat": 4,
		 "nbformat_minor": 0
}
