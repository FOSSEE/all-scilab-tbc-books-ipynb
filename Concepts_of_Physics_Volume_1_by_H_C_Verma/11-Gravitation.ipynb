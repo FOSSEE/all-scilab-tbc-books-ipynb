{
"cells": [
 {
		   "cell_type": "markdown",
	   "metadata": {},
	   "source": [
       "# Chapter 11: Gravitation"
	   ]
	},
{
		   "cell_type": "markdown",
		   "metadata": {},
		   "source": [
			"## Example 11.10: calculation_of_the_escape_velocity_from_the_moon.sce"
		   ]
		  },
  {
"cell_type": "code",
	   "execution_count": null,
	   "metadata": {
	    "collapsed": true
	   },
	   "outputs": [],
"source": [
"//developed in windows XP operating system 32bit\n",
"//platform Scilab 5.4.1\n",
"clc;clear;\n",
"//example 11.10\n",
"//calculation of the escape velocity from the moon\n",
"\n",
"//given data\n",
"M=7.4*10^22//mass(in kg) of the moon\n",
"R=1740*10^3//radius(in m) of the moon\n",
"G=6.67*10^-11//universal constant of gravitation(in N-m^2/kg^2)\n",
"\n",
"//calculation\n",
"v=sqrt(2*G*M/R)//formula of the escape velocity\n",
"\n",
"printf('the escape velocity from the moon is %3.1f km/s',v*10^-3)"
   ]
   }
,
{
		   "cell_type": "markdown",
		   "metadata": {},
		   "source": [
			"## Example 11.10w: calculation_of_the_stretch_produced_in_the_spring.sce"
		   ]
		  },
  {
"cell_type": "code",
	   "execution_count": null,
	   "metadata": {
	    "collapsed": true
	   },
	   "outputs": [],
"source": [
"//developed in windows XP operating system 32bit\n",
"//platform Scilab 5.4.1\n",
"clc;clear;\n",
"//example 11.10w\n",
"//calculation of the stretch produced in the spring\n",
"\n",
"//given data\n",
"d=1*10^-2//stretch(in m) of the spring\n",
"R=6400*10^3//radius(in m) of the earth\n",
"h=800*10^3//height(in m) above the earth's surface\n",
"\n",
"//calculation\n",
"//The extension in the spring on the surface is \n",
"//1*10^-2 = (G*M*m)/(k*R^2)...........(1)\n",
"//The extension in the spring at height h above the surface\n",
"//x = (G*M*m)/(k*(R+h)^2).............(2)\n",
"//from above equations,we get\n",
"x=d*((R^2)/(R+h)^2)\n",
"\n",
"printf('the stretch produced in the spring is %3.2f cm',x*10^2)"
   ]
   }
,
{
		   "cell_type": "markdown",
		   "metadata": {},
		   "source": [
			"## Example 11.11w: calculation_of_time_period_of_the_pendulum_if_used_at_the_equator.sce"
		   ]
		  },
  {
"cell_type": "code",
	   "execution_count": null,
	   "metadata": {
	    "collapsed": true
	   },
	   "outputs": [],
"source": [
"//developed in windows XP operating system 32bit\n",
"//platform Scilab 5.4.1\n",
"clc;clear;\n",
"//example 11.11w\n",
"//calculation of time period of the pendulum if used at the equator\n",
"\n",
"//given data\n",
"t=2//time period (in s) of the pendulum at North pole\n",
"g=9.8//gravitational acceleration(in m/s^2) of the earth\n",
"G=6.67*10^-11//universal constant of gravitation(in N-m^2/kg^2)\n",
"w=(2*%pi)/(24*60*60)//angular velocity(in rad/s) of the earth\n",
"R=6400*10^3//radius(in m) of the earth\n",
"\n",
"//calculation\n",
"//By equilibrium conditions,we get\n",
"//t = 2*%pi*sqrt(l/g)..............................(1)\n",
"//tdash = 2*%pi*sqrt(l/(g-(w*w*R)).................(2)\n",
"//from equations (1) and (2),we get\n",
"tdash=t*(1+(w*w*R/(2*g)))\n",
"\n",
"printf('the value of time period of the pendulum if used at the equator is %3.4f s',tdash)"
   ]
   }
,
{
		   "cell_type": "markdown",
		   "metadata": {},
		   "source": [
			"## Example 11.12w: calculation_of_the_speed_of_projection_of_the_satellite_into_an_orbit.sce"
		   ]
		  },
  {
"cell_type": "code",
	   "execution_count": null,
	   "metadata": {
	    "collapsed": true
	   },
	   "outputs": [],
"source": [
"//developed in windows XP operating system 32bit\n",
"//platform Scilab 5.4.1\n",
"clc;clear;\n",
"//example 11.12w\n",
"//calculation of the speed of projection of the satellite into an orbit\n",
"\n",
"//given data\n",
"r=8000*10^3//radius(in m) of the orbit of the satellite\n",
"R=6400*10^3//radius(in m) of the earth\n",
"g=9.8//gravitational acceleration(in m/s^2) of the earth\n",
"\n",
"//calculation\n",
"//using Newton's second law\n",
"//(G*M*m/(r*r)) = m*v*v/r\n",
"v=sqrt(g*R*R/r)\n",
"t=(2*%pi*r/v)//time period of the satellite\n",
"\n",
"printf('the speed of projection of the satellite into the orbit is %3.2f km/s',v*10^-3)\n",
"printf('\nthe time period of the satellite in the orbit is %d minutes',t*(1/(60)))"
   ]
   }
,
{
		   "cell_type": "markdown",
		   "metadata": {},
		   "source": [
			"## Example 11.13w: EX11_13w.sce"
		   ]
		  },
  {
"cell_type": "code",
	   "execution_count": null,
	   "metadata": {
	    "collapsed": true
	   },
	   "outputs": [],
"source": [
"//developed in windows XP operating system 32bit\n",
"//platform Scilab 5.4.1\n",
"clc;clear;\n",
"//example 11.13w\n",
"//calculation of the speed and the angular speed of the satellite S2 relative to the satellite S1\n",
"\n",
"//given data\n",
"T1=1//period of revolution(in h) of satellite S1\n",
"T2=8//period of revolution(in h) of satellite S2\n",
"R1=10^4//radius(in km) of the orbit of satellite S1\n",
"\n",
"//calculation\n",
"//by Kelpler's third law\n",
"//(R2/R1)^3 = (T2/T1)^2\n",
"R2=R1*(((T2/T1)^2)^(1/3))\n",
"v1=(2*%pi*R1/T1)//speed(in km/h) of satellite S1\n",
"v2=(2*%pi*R2/T2)//speed(in km/h) of satellite S2\n",
"v=abs(v2-v1)//speed of satellite S2 with respect to satellite S1\n",
"w=v/(R2-R1)//angular speed of satellite S2 as observed by an astronaut in satellite S1\n",
"\n",
"printf('the speed of the satellite S2 with respect to the satellite S1 is %3.1e km/h',v)\n",
"printf('\nthe angular speed of the satellite S2 as observed by an astronaut in the satellite S1 is %3.2f rad/h',w)"
   ]
   }
,
{
		   "cell_type": "markdown",
		   "metadata": {},
		   "source": [
			"## Example 11.1: calculation_of_the_initial_acceleration_of_the_particles.sce"
		   ]
		  },
  {
"cell_type": "code",
	   "execution_count": null,
	   "metadata": {
	    "collapsed": true
	   },
	   "outputs": [],
"source": [
"//developed in windows XP operating system 32bit\n",
"//platform Scilab 5.4.1\n",
"clc;clear;\n",
"//example 11.1\n",
"//calculation of the initial acceleration of the particles\n",
"\n",
"//given data\n",
"m1=1//masss(in kg) of particle1\n",
"m2=2//masss(in kg) of particle2\n",
"r=50*10^-2//separation(in m) between the two particles\n",
"G=6.67*10^-11//universal constant of gravitation(in N-m^2/kg^2)\n",
"\n",
"//calculation\n",
"F=G*m1*m2/(r*r)//force of gravitation\n",
"a1=F/m1//initial acceleration of the particle1\n",
"a2=F/m2//initial acceleration of the particle2\n",
"\n",
"printf('the initial acceleration of the particle1 towards particle2 is %3.1e m/s^2',a1)\n",
"printf('\nthe initial acceleration of the particle2 towards particle1 is %3.1e m/s^2',a2)"
   ]
   }
,
{
		   "cell_type": "markdown",
		   "metadata": {},
		   "source": [
			"## Example 11.2: calculation_of_the_work_done_in_bringing_three_particles_together.sce"
		   ]
		  },
  {
"cell_type": "code",
	   "execution_count": null,
	   "metadata": {
	    "collapsed": true
	   },
	   "outputs": [],
"source": [
"//developed in windows XP operating system 32bit\n",
"//platform Scilab 5.4.1\n",
"clc;clear;\n",
"//example 11.2\n",
"//calculation of the work done in bringing three particles together\n",
"\n",
"//given data\n",
"m1=100*10^-3//masss(in kg) of particle1\n",
"r=20*10^-2//separation(in m) between the two particles\n",
"G=6.67*10^-11//universal constant of gravitation(in N-m^2/kg^2)\n",
"\n",
"//calculation\n",
"//since the work done by the gravitational force is equal to change in the potential energy\n",
"U=3*(-G*m1*m1/r)\n",
"\n",
"printf('the work done in bringing three particles is %3.1e J',U)"
   ]
   }
,
{
		   "cell_type": "markdown",
		   "metadata": {},
		   "source": [
			"## Example 11.2w: EX11_2w.sce"
		   ]
		  },
  {
"cell_type": "code",
	   "execution_count": null,
	   "metadata": {
	    "collapsed": true
	   },
	   "outputs": [],
"source": [
"//developed in windows XP operating system 32bit\n",
"//platform Scilab 5.4.1\n",
"clc;clear;\n",
"//example 11.2w\n",
"//calculation of the distance from the earth's surface where resultant gravitational field due to the earth and the moon is zero\n",
"\n",
"//given data\n",
"Me=6*10^24//mass(in kg) of the earth\n",
"Mm=7.4*10^22//mass(in kg) of the moon\n",
"d=4*10^5*10^3//distance(in m) between the earth and the moon \n",
"\n",
"//calculation\n",
"//gravitational field due to the earth at that point\n",
"//E1 = G*Me/x^2.........................(1)\n",
"//gravitational field due to the moon at that point\n",
"//E2 = G*Mm/(d-x)^2.....................(2)\n",
"//E1 = E2.....given \n",
"x=(d*sqrt(Me/Mm))/(1+sqrt(Me/Mm))\n",
"\n",
"printf('the distance from the earth surface where resultant gravitational field due to the earth and the moon is zero is %3.1e km',x*10^-3)"
   ]
   }
,
{
		   "cell_type": "markdown",
		   "metadata": {},
		   "source": [
			"## Example 11.4: calculation_of_the_gravitational_field.sce"
		   ]
		  },
  {
"cell_type": "code",
	   "execution_count": null,
	   "metadata": {
	    "collapsed": true
	   },
	   "outputs": [],
"source": [
"//developed in windows XP operating system 32bit\n",
"//platform Scilab 5.4.1\n",
"clc;clear;\n",
"//example 11.4\n",
"//calculation of the gravitational field \n",
"\n",
"//given data\n",
"F=2//gravitational force(in N)\n",
"m=50*10^-3//mass(in kg) of the particle\n",
"\n",
"//calculation\n",
"E=F/m//gravitational field \n",
"\n",
"printf('the gravitational field along the direction of force is %d N/kg',E)"
   ]
   }
,
{
		   "cell_type": "markdown",
		   "metadata": {},
		   "source": [
			"## Example 11.4w: calculation_of_the_separation_between_the_particles_under_mutual_attraction.sce"
		   ]
		  },
  {
"cell_type": "code",
	   "execution_count": null,
	   "metadata": {
	    "collapsed": true
	   },
	   "outputs": [],
"source": [
"//developed in windows XP operating system 32bit\n",
"//platform Scilab 5.4.1\n",
"clc;clear;\n",
"//example 11.4w\n",
"//calculation of the separation between the particles under mutual attraction\n",
"\n",
"//given data\n",
"mA=1//mass(in kg) of particle A\n",
"mB=2//mass(in kg) of particle B\n",
"R=1//initial distance(in m) between the two particles\n",
"vB=3.6*10^-2/(60*60)//speed(in m/s) of the particle B\n",
"G=6.67*10^-11//universal constant of gravitation(in N-m^2/kg^2)\n",
"\n",
"//calculation\n",
"v=(mB*vB)/mA//principle of conservation of linear momentum\n",
"U1=-G*mA*mB/R//initial potential energy of the pair\n",
"d=U1/(U1-(mB*vB*vB/2)-(mA*v*v/2))//principle of conservation of energy\n",
"\n",
"printf('the speed of particle A is %3.1e m/s',v)\n",
"printf('\nthe separation between the particles under mutual attraction is %3.2f m',d)"
   ]
   }
,
{
		   "cell_type": "markdown",
		   "metadata": {},
		   "source": [
			"## Example 11.5w: calculation_of_the_work_done_by_an_external_agent.sce"
		   ]
		  },
  {
"cell_type": "code",
	   "execution_count": null,
	   "metadata": {
	    "collapsed": true
	   },
	   "outputs": [],
"source": [
"//developed in windows XP operating system 32bit\n",
"//platform Scilab 5.4.1\n",
"clc;clear;\n",
"//example 11.5w\n",
"//calculation of the work done by an external agent\n",
"\n",
"//given data\n",
"//E = (10 N/kg)(i + j).....given gravitational field\n",
"Ex=10//value of X-component of gravitational field(in N/kg)\n",
"Ey=10//value of Y-component of gravitational field(in N/kg)\n",
"m=2//mass(in kg) of the gravitational field\n",
"x0=0//value of X component of initial location(in m)\n",
"x1=5//value of X component of final location(in m)\n",
"y0=0//value of Y component of initial location(in m)\n",
"y1=4//value of Y component of final location(in m)\n",
"\n",
"//calculation\n",
"function Fx=fx(x)\n",
"    Fx=m*Ex//value of X component of force\n",
"endfunction\n",
"\n",
"function Fy=fy(x)\n",
"    Fy=m*Ey//value of Y component of force\n",
"endfunction\n",
"\n",
"//calculation\n",
"W1=integrate('fx','x',x0,x1)//work done by X component of external force\n",
"W2=integrate('fy','x',y0,y1)//work done by Y component of external force \n",
"W=W1+W2\n",
"\n",
"printf('the work done by the external agent is %d J',-W)"
   ]
   }
,
{
		   "cell_type": "markdown",
		   "metadata": {},
		   "source": [
			"## Example 11.7: calculation_of_the_gravitational_field_due_to_the_moon_at_its_surface.sce"
		   ]
		  },
  {
"cell_type": "code",
	   "execution_count": null,
	   "metadata": {
	    "collapsed": true
	   },
	   "outputs": [],
"source": [
"//developed in windows XP operating system 32bit\n",
"//platform Scilab 5.4.1\n",
"clc;clear;\n",
"//example 11.7\n",
"//calculation of the gravitational field due to the moon at its surface\n",
"\n",
"//given data\n",
"M=7.36*10^22//mass(in kg) of the moon\n",
"G=6.67*10^-11//universal constant of gravitation(in N-m^2/kg^2)\n",
"a=1.74*10^6//radius(in m) of the moon\n",
"\n",
"//calculation\n",
"E=G*M/(a*a)//formula of gravitational field\n",
"\n",
"printf('the gravitational field due to the moon at its surface is %3.2f N/kg',E)"
   ]
   }
,
{
		   "cell_type": "markdown",
		   "metadata": {},
		   "source": [
			"## Example 11.8: calculation_of_the_value_of_acceleration_due_to_gavity.sce"
		   ]
		  },
  {
"cell_type": "code",
	   "execution_count": null,
	   "metadata": {
	    "collapsed": true
	   },
	   "outputs": [],
"source": [
"//developed in windows XP operating system 32bit\n",
"//platform Scilab 5.4.1\n",
"clc;clear;\n",
"//example 11.8\n",
"//calculation of the value of acceleration due to gavity\n",
"\n",
"//given data\n",
"h=5*10^3//height(in m) above the earth's surface\n",
"R=6400*10^3//radius(in m) of the earth\n",
"g0=9.8//gravitational acceleration(in m/s^2) of the earth\n",
"d=5*10^3//depth(in m) below the earth's surface\n",
"\n",
"//calculation\n",
"gh=g0*(1-(2*h/R))//formula of gravitational acceleration at height h above the earth's surface\n",
"gd=g0*(1-(d/R))//formula of gravitational acceleration at depth d below the earth's surface\n",
"\n",
"printf('the value of gravitational acceleration at height 5 km above the earth surface is %3.2f m/s^2',gh)\n",
"printf('\nthe value of gravitational acceleration at depth 5 km below the earth surface is %3.2f m/s^2',gd)"
   ]
   }
,
{
		   "cell_type": "markdown",
		   "metadata": {},
		   "source": [
			"## Example 11.9: calculation_of_the_speed_and_time_period_of_the_satellite.sce"
		   ]
		  },
  {
"cell_type": "code",
	   "execution_count": null,
	   "metadata": {
	    "collapsed": true
	   },
	   "outputs": [],
"source": [
"//developed in windows XP operating system 32bit\n",
"//platform Scilab 5.4.1\n",
"clc;clear;\n",
"//example 11.9\n",
"//calculation of the speed and time period of the satellite \n",
"\n",
"//given data\n",
"h=600*10^3//height(in m) of the satellite\n",
"M=6*10^24//mass(in kg) of the earth\n",
"R=6400*10^3//radius(in m) of the earth\n",
"G=6.67*10^-11//universal constant of gravitation(in N-m^2/kg^2)\n",
"\n",
"//calculation\n",
"a=h+R//distance of satellite from centre of the earth\n",
"v=sqrt(G*M/a)//speed of satellite\n",
"T=(2*%pi*a)/v//time period of satellite\n",
"\n",
"printf('the speed of the satellite is %3.1e m/s or %3.1f km/s',v,v*10^-3)\n",
"printf('\nthe time period of the satellite is %3.1e s',T)"
   ]
   }
,
{
		   "cell_type": "markdown",
		   "metadata": {},
		   "source": [
			"## Example 11.9w: calculation_of_the_maximum_height_attained_by_the_particle.sce"
		   ]
		  },
  {
"cell_type": "code",
	   "execution_count": null,
	   "metadata": {
	    "collapsed": true
	   },
	   "outputs": [],
"source": [
"//developed in windows XP operating system 32bit\n",
"//platform Scilab 5.4.1\n",
"clc;clear;\n",
"//example 11.9w\n",
"//calculation of the maximum height attained by the particle\n",
"\n",
"//given data\n",
"v0=9.8*10^3//speed(in m/s) the particle is fired\n",
"R=6400*10^3//radius(in m) of the earth\n",
"g=9.8//gravitational acceleration(in m/s^2) of the earth\n",
"\n",
"//calculation\n",
"//by the principle of conservation of energy\n",
"//(-G*M*m/R) + (m*v0*v0/2) = -(G*M*m/(R+H))\n",
"H=(R*R/(R-(v0*v0/(2*g))))-R\n",
"\n",
"printf('the maximum height attained by the particle is %d km',H*10^-3)"
   ]
   }
],
"metadata": {
		  "kernelspec": {
		   "display_name": "Scilab",
		   "language": "scilab",
		   "name": "scilab"
		  },
		  "language_info": {
		   "file_extension": ".sce",
		   "help_links": [
			{
			 "text": "MetaKernel Magics",
			 "url": "https://github.com/calysto/metakernel/blob/master/metakernel/magics/README.md"
			}
		   ],
		   "mimetype": "text/x-octave",
		   "name": "scilab",
		   "version": "0.7.1"
		  }
		 },
		 "nbformat": 4,
		 "nbformat_minor": 0
}
