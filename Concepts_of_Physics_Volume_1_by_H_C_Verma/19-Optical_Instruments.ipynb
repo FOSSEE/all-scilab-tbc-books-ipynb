{
"cells": [
 {
		   "cell_type": "markdown",
	   "metadata": {},
	   "source": [
       "# Chapter 19: Optical Instruments"
	   ]
	},
{
		   "cell_type": "markdown",
		   "metadata": {},
		   "source": [
			"## Example 19.10w: calculation_of_the_near_point_and_the_distance_of_the_retina_from_the_lens.sce"
		   ]
		  },
  {
"cell_type": "code",
	   "execution_count": null,
	   "metadata": {
	    "collapsed": true
	   },
	   "outputs": [],
"source": [
"//developed in windows XP operating system 32bit\n",
"//platform Scilab 5.4.1\n",
"clc;clear;\n",
"//example 19.10w\n",
"//calculation of the near point and the distance of the retina from the lens \n",
"\n",
"//given data\n",
"P1=50//power1(in D) of the lens\n",
"P2=60//power2(in D) of the lens\n",
"\n",
"//calculation\n",
"//for the eye in fully relaxed condition,the focal length is the largest.\n",
"//larger the focal length,smaller is the power of lens\n",
"if(P1<P2)\n",
"    P=P1\n",
"else\n",
"    P=P2\n",
"end\n",
"f=1/P//distance of the retina from lens ,equal to the focal length\n",
"//for eye focused at near point the power is maximum\n",
"if(P1>P2)\n",
"    Pdash=P1\n",
"else\n",
"    Pdash=P2\n",
"end\n",
"fdash=1/Pdash//focal length\n",
"v=abs(f)//image is formed at the retina\n",
"u=1/((1/v)-(1/fdash))//near point......using the lens formula\n",
"\n",
"printf('the distance of the retina from the lens is %d cm',f*10^2)\n",
"printf('\nthe near point is at %d cm',abs(u*10^2))\n",
""
   ]
   }
,
{
		   "cell_type": "markdown",
		   "metadata": {},
		   "source": [
			"## Example 19.1: determining_which_boy_appears_taller.sce"
		   ]
		  },
  {
"cell_type": "code",
	   "execution_count": null,
	   "metadata": {
	    "collapsed": true
	   },
	   "outputs": [],
"source": [
"//developed in windows XP operating system 32bit\n",
"//platform Scilab 5.4.1\n",
"clc;clear;\n",
"//example 19.1\n",
"//determining which boy appears taller \n",
"\n",
"//given data\n",
"d1=4//distance(in m) of boy1 from the eye\n",
"d2=5//distance(in m) of boy2 from the eye\n",
"h1=52//height(in inch) of boy1\n",
"h2=55//height(in inch) of boy2\n",
"\n",
"//calculation\n",
"alpha1=h1/d1//angle subtended by the first boy on the eye\n",
"alpha2=h2/d2//angle subtended by the second boy on the eye\n",
"if(alpha1>alpha2)\n",
"    printf('the first boy will look taller to the eye')\n",
"elseif(alpha1<alpha2)\n",
"    printf('the second boy will look taller to the eye')\n",
"else\n",
"    printf('Both boys will appear same in height to the eye')\n",
"end\n",
""
   ]
   }
,
{
		   "cell_type": "markdown",
		   "metadata": {},
		   "source": [
			"## Example 19.1w: calculation_of_the_angular_magnification.sce"
		   ]
		  },
  {
"cell_type": "code",
	   "execution_count": null,
	   "metadata": {
	    "collapsed": true
	   },
	   "outputs": [],
"source": [
"//developed in windows XP operating system 32bit\n",
"//platform Scilab 5.4.1\n",
"clc;clear;\n",
"//example 19.1w\n",
"//calculation of the angular magnification \n",
"\n",
"//given data\n",
"f=12*10^-2//focal length(in m) of the simple microscope\n",
"D=25*10^-2//distance(in m) at which the image is formed away from the eye\n",
"\n",
"//calculation\n",
"m=1+(D/f)//angular magnification\n",
"\n",
"printf('the angular magnification is %3.2f',m)"
   ]
   }
,
{
		   "cell_type": "markdown",
		   "metadata": {},
		   "source": [
			"## Example 19.2: calculation_of_the_angular_magnification_and_the_length_of_the_microscope_tube.sce"
		   ]
		  },
  {
"cell_type": "code",
	   "execution_count": null,
	   "metadata": {
	    "collapsed": true
	   },
	   "outputs": [],
"source": [
"//developed in windows XP operating system 32bit\n",
"//platform Scilab 5.4.1\n",
"clc;clear;\n",
"//example 19.2\n",
"//calculation of the angular magnification and the length of the microscope tube\n",
"\n",
"//given data\n",
"fo=1*10^-2//focal length(in m) of the objective lens\n",
"fe=2.5*10^-2//focal length(in m) of the eyepiece\n",
"u=-1.2*10^-2//object distance(in m)\n",
"D=25*10^-2//least distance(in m) for the clear vision\n",
"\n",
"//calculation\n",
"v=1/((1/fo)+(1/u))//distance where the first image is formed ....by the lens formula\n",
"m=(v*D)/(u*fe)//angular magnification\n",
"L=v+fe//length of the tube\n",
"\n",
"printf('the angular magnification is %d',round(m))\n",
"printf('\nthe length of the microscope tube is %3.1f cm',L*10^2)"
   ]
   }
,
{
		   "cell_type": "markdown",
		   "metadata": {},
		   "source": [
			"## Example 19.2w: EX19_2w.sce"
		   ]
		  },
  {
"cell_type": "code",
	   "execution_count": null,
	   "metadata": {
	    "collapsed": true
	   },
	   "outputs": [],
"source": [
"//developed in windows XP operating system 32bit\n",
"//platform Scilab 5.4.1\n",
"clc;clear;\n",
"//example 19.2w\n",
"//calculation of the object distance to obtain maximum angular magnification for a normal eye\n",
"\n",
"//given data\n",
"D=10//power(in D) of the lens\n",
"v=-25*10^-2//image distance(in m) i.e at the near point\n",
"\n",
"//calculation\n",
"f=1/D//focal length\n",
"u=1/((1/v)-(1/f))//lens formula\n",
"\n",
"printf('the object distance to obtain maximum angular magnification for a normal eye is %3.1f cm',u*10^2)"
   ]
   }
,
{
		   "cell_type": "markdown",
		   "metadata": {},
		   "source": [
			"## Example 19.3: calculation_of_the_power_of_lens_for_the_spectacles.sce"
		   ]
		  },
  {
"cell_type": "code",
	   "execution_count": null,
	   "metadata": {
	    "collapsed": true
	   },
	   "outputs": [],
"source": [
"//developed in windows XP operating system 32bit\n",
"//platform Scilab 5.4.1\n",
"clc;clear;\n",
"//example 19.3\n",
"//calculation of the power of lens for the spectacles\n",
"\n",
"//given data\n",
"d=1.5//distance(in m) upto which the man can clearly see objects \n",
"\n",
"//calculation\n",
"f=-d//focal length of the lens\n",
"P=1/f//definition of power of the lens\n",
"\n",
"printf('the power of lens for the spectacles is %3.2f D',P)"
   ]
   }
,
{
		   "cell_type": "markdown",
		   "metadata": {},
		   "source": [
			"## Example 19.3w: EX19_3w.sce"
		   ]
		  },
  {
"cell_type": "code",
	   "execution_count": null,
	   "metadata": {
	    "collapsed": true
	   },
	   "outputs": [],
"source": [
"//developed in windows XP operating system 32bit\n",
"//platform Scilab 5.4.1\n",
"clc;clear;\n",
"//example 19.3w\n",
"//calculation of the position of the image ,linear magnification and the angular magnification\n",
"\n",
"//given data\n",
"u=-3.6*10^-2//object distance(in m) \n",
"f=4*10^-2//focal length(in m)\n",
"D=25*10^-2//least distance for clear vision\n",
"\n",
"//calculation\n",
"v=1/((1/f)+(1/u))//lens formula\n",
"m=v/u//linear magnification\n",
"alpha=D/abs(u)//angular magnification\n",
"\n",
"printf('the image distance is %d cm',v*10^2)\n",
"printf('\nthe linear magnification is %d',m)\n",
"printf('\nthe angular magnification is %3.1f',round(alpha))"
   ]
   }
,
{
		   "cell_type": "markdown",
		   "metadata": {},
		   "source": [
			"## Example 19.4w: calculation_of_the_object_distance_and_the_angular_magnification.sce"
		   ]
		  },
  {
"cell_type": "code",
	   "execution_count": null,
	   "metadata": {
	    "collapsed": true
	   },
	   "outputs": [],
"source": [
"//developed in windows XP operating system 32bit\n",
"//platform Scilab 5.4.1\n",
"clc;clear;\n",
"//example 19.4w\n",
"//calculation of the object distance and the angular magnification\n",
"\n",
"//given data\n",
"fo=1*10^-2//focal length(in m) of the objective lens\n",
"fe=5*10^-2//focal length(in m) of the eyepiece\n",
"d=12.2*10^-2//separation(in m) between the objective lens and the eyepiece\n",
"D=25*10^-2//least distance(in m) for the clear visio\n",
"\n",
"//calculation\n",
"ve=-D//image distance for the eyepiece\n",
"ue=1/((1/ve)-(1/fe))//object distance for eyepiece....by the lens formula\n",
"vo=d-abs(ue)//image distance for objective lens\n",
"uo=1/((1/vo)-(1/fo))//object distance for objective lens....by the lens formula\n",
"m=(vo/uo)*(1+(D/fe))//angular magnification\n",
"\n",
"printf('the object should be placed at a distance of %3.1f cm from the objective lens to focus it properly',abs(uo*10^2))\n",
"printf('\nthe angular magnification is %d',m)"
   ]
   }
,
{
		   "cell_type": "markdown",
		   "metadata": {},
		   "source": [
			"## Example 19.5w: EX19_5w.sce"
		   ]
		  },
  {
"cell_type": "code",
	   "execution_count": null,
	   "metadata": {
	    "collapsed": true
	   },
	   "outputs": [],
"source": [
"//developed in windows XP operating system 32bit\n",
"//platform Scilab 5.4.1\n",
"clc;clear;\n",
"//example 19.5w\n",
"//calculation of the object distance and the angular magnification for the least strain in the eyes\n",
"\n",
"//given data\n",
"fo=.5*10^-2//focal length(in m) of the objective lens\n",
"fe=5*10^-2//focal length(in m) of the eyepiece\n",
"d=7*10^-2//separation(in m) between the objective lens and the eyepiece\n",
"D=25*10^-2//least distance(in m) for the clear vision\n",
"\n",
"//calculation\n",
"v=d-fe//distance at which the first image should be formed\n",
"u=1/((1/v)-(1/fo))//lens formula for the objective lens\n",
"m=(v*D)/(u*fe)//angular magnification\n",
"\n",
"printf('the object distance for the least strain in the eyes is %3.1f cm',abs(u*10^2))\n",
"printf('\nthe angular magnification for the least strain in the eyes is %d',m) "
   ]
   }
,
{
		   "cell_type": "markdown",
		   "metadata": {},
		   "source": [
			"## Example 19.6w: EX19_6w.sce"
		   ]
		  },
  {
"cell_type": "code",
	   "execution_count": null,
	   "metadata": {
	    "collapsed": true
	   },
	   "outputs": [],
"source": [
"//developed in windows XP operating system 32bit\n",
"//platform Scilab 5.4.1\n",
"clc;clear;\n",
"//example 19.6w\n",
"//calculation of the length of the tube and the angular magnification produced by the telescope\n",
"\n",
"//given data\n",
"fo=200*10^-2//focal length(in m) of the objective lens\n",
"fe=4*10^-2//focal length(in m) of the eyepiece\n",
"u=10*10^3//object distance(in m)\n",
"\n",
"//calculation\n",
"L=fo+fe//length of the tube\n",
"m=-fo/fe//angular magnification\n",
"\n",
"printf('the length of the tube is %d cm',L*10^2)\n",
"printf('\ngthe angular magnification is %d',m)"
   ]
   }
,
{
		   "cell_type": "markdown",
		   "metadata": {},
		   "source": [
			"## Example 19.7w: calculation_of_the_tube_length_magnifying_power_and_angular_magnification.sce"
		   ]
		  },
  {
"cell_type": "code",
	   "execution_count": null,
	   "metadata": {
	    "collapsed": true
	   },
	   "outputs": [],
"source": [
"//developed in windows XP operating system 32bit\n",
"//platform Scilab 5.4.1\n",
"clc;clear;\n",
"//example 19.7w\n",
"//calculation of the tube length,magnifying power and angular magnification\n",
"\n",
"//given data\n",
"fo=50*10^-2//focal length(in m) of the objective lens\n",
"fe=-5*10^-2//focal length(in m) of the eyepiece\n",
"u=-2//object distance(in m)\n",
"\n",
"//calculation\n",
"L=fo-abs(fe)//length of the tube\n",
"m=-fo/fe//magnifying power\n",
"v=1/((1/fo)+(1/u))//by lens formula for the objective lens\n",
"Ldash=v-abs(fe)//tube length\n",
"mdash=v/abs(fe)//angular magnification\n",
"\n",
"printf('the tube length for large distance viewing is %d cm',L*10^2)\n",
"printf('\nthe magnifying power for the large distance viewing is %d',m)\n",
"printf('\nthe tube length for viewing object at 2 m is %3.2f cm',Ldash*10^2)\n",
"printf('\nthe angular magnification for viewing object at 2 m is %3.2f',mdash)"
   ]
   }
,
{
		   "cell_type": "markdown",
		   "metadata": {},
		   "source": [
			"## Example 19.8w: calculation_of_the_angular_magnification_due_to_the_converging_lens.sce"
		   ]
		  },
  {
"cell_type": "code",
	   "execution_count": null,
	   "metadata": {
	    "collapsed": true
	   },
	   "outputs": [],
"source": [
"//developed in windows XP operating system 32bit\n",
"//platform Scilab 5.4.1\n",
"clc;clear;\n",
"//example 19.8w\n",
"//calculation of the angular magnification due to the converging lens\n",
"\n",
"//given data\n",
"f=50*10^-2//focal length(in m) of the converging lens\n",
"d=25*10^-2//distance(in m) from where the image can be seen by unaided eye\n",
"\n",
"//calculation\n",
"//linear size = f*alpha\n",
"//angle formed .....abs(beta) = f*abs(alpha)/d\n",
"m=-f/d//angular magnification...m = -abs(beta)/abs(alpha)\n",
"\n",
"printf('the angular magnification due to the converging lens is %d',m)"
   ]
   }
,
{
		   "cell_type": "markdown",
		   "metadata": {},
		   "source": [
			"## Example 19.9w: calculation_of_the_power_of_lens_and_maximum_distance_that_can_be_seen_clearly.sce"
		   ]
		  },
  {
"cell_type": "code",
	   "execution_count": null,
	   "metadata": {
	    "collapsed": true
	   },
	   "outputs": [],
"source": [
"//developed in windows XP operating system 32bit\n",
"//platform Scilab 5.4.1\n",
"clc;clear;\n",
"//example 19.9w\n",
"//calculation of the power of lens and maximum distance that can be seen clearly\n",
"\n",
"//given data\n",
"u=-25*10^-2//object distance(in m)\n",
"v=-40*10^-2//image distance(in m)....i.e equal to near point distance\n",
"vdash=-250*10^-2//maximum distance(in m) that an unaided eye can see....i.e equal to far point distance\n",
"\n",
"//calculation\n",
"f=1/((1/v)-(1/u))//focal length ....by using the lens formula\n",
"P=1/f//power of the lens\n",
"d=1/((1/vdash)-(1/f))//maximum distance for clear vision.... by using the lens formula\n",
"\n",
"printf('the power of the lens is %3.1f D',P)\n",
"printf('\nthe maximum distance upto which,the person will be able to see clearly is %d cm',round(abs(d*10^2)))"
   ]
   }
],
"metadata": {
		  "kernelspec": {
		   "display_name": "Scilab",
		   "language": "scilab",
		   "name": "scilab"
		  },
		  "language_info": {
		   "file_extension": ".sce",
		   "help_links": [
			{
			 "text": "MetaKernel Magics",
			 "url": "https://github.com/calysto/metakernel/blob/master/metakernel/magics/README.md"
			}
		   ],
		   "mimetype": "text/x-octave",
		   "name": "scilab",
		   "version": "0.7.1"
		  }
		 },
		 "nbformat": 4,
		 "nbformat_minor": 0
}
