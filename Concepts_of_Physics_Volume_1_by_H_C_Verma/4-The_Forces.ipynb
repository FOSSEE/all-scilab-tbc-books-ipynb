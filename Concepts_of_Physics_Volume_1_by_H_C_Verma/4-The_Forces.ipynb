{
"cells": [
 {
		   "cell_type": "markdown",
	   "metadata": {},
	   "source": [
       "# Chapter 4: The Forces"
	   ]
	},
{
		   "cell_type": "markdown",
		   "metadata": {},
		   "source": [
			"## Example 4.1: calculation_of_coulomb_force.sce"
		   ]
		  },
  {
"cell_type": "code",
	   "execution_count": null,
	   "metadata": {
	    "collapsed": true
	   },
	   "outputs": [],
"source": [
"//developed in windows XP operating system 32bit\n",
"//platform Scilab 5.4.1\n",
"clc;clear;\n",
"//example 4.1\n",
"//calculation of coulomb force\n",
"\n",
"//given data\n",
"np=26//number of protops in an iron atom\n",
"na=6*10^26//number of atome in 58 kg iron\n",
"mi=58//mass(in kg) of iron\n",
"e=1.6*10^(-19)//charge(in coulomb) on an electron\n",
"perdiff=1//percentage of charge of electron less than that of proton\n",
"r=1//separation(in m) between the two blocks\n",
"\n",
"//calculation\n",
"poschrg=(na*np*e*perdiff)/(mi*100)\n",
"fc=(9*10^9*poschrg*poschrg)/(r*r)\n",
"\n",
"disp(fc,'the coulomb force(in newton) between the two blocks is newton')"
   ]
   }
,
{
		   "cell_type": "markdown",
		   "metadata": {},
		   "source": [
			"## Example 4.3w: EX4_3w.sce"
		   ]
		  },
  {
"cell_type": "code",
	   "execution_count": null,
	   "metadata": {
	    "collapsed": true
	   },
	   "outputs": [],
"source": [
"//developed in windows XP operating system 32bit\n",
"//platform Scilab 5.4.1\n",
"clc;clear;\n",
"//example 4.3w\n",
"//calculation of ratio of the electrical force to the gravitational force between two electrons\n",
"\n",
"//given data\n",
"me=9.1*10^-31//mass(in kg)of an electron\n",
"e=1.6*10^-19//charge(in coulomb)of an electron\n",
"k=9*10^9//value of ratio 1/(4*%pi*epsilonzero)   (in N m^2/C^2)\n",
"G=6.67*10^-11//value of universal gravitational constant   (in N m^2/kg^2)\n",
"\n",
"//calculation\n",
"ratio=(k*e*e)/(G*me*me)//ratio = electric force / gravitational force\n",
"\n",
"disp(ratio,'the ratio of electric to gravitational force between two electrons is')"
   ]
   }
],
"metadata": {
		  "kernelspec": {
		   "display_name": "Scilab",
		   "language": "scilab",
		   "name": "scilab"
		  },
		  "language_info": {
		   "file_extension": ".sce",
		   "help_links": [
			{
			 "text": "MetaKernel Magics",
			 "url": "https://github.com/calysto/metakernel/blob/master/metakernel/magics/README.md"
			}
		   ],
		   "mimetype": "text/x-octave",
		   "name": "scilab",
		   "version": "0.7.1"
		  }
		 },
		 "nbformat": 4,
		 "nbformat_minor": 0
}
