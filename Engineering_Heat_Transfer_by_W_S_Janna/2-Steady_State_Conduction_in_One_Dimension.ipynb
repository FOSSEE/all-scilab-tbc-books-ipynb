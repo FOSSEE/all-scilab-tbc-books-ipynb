{
"cells": [
 {
		   "cell_type": "markdown",
	   "metadata": {},
	   "source": [
       "# Chapter 2: Steady State Conduction in One Dimension"
	   ]
	},
{
		   "cell_type": "markdown",
		   "metadata": {},
		   "source": [
			"## Example 2.10: Straight_fins_of_triangular_profile.sce"
		   ]
		  },
  {
"cell_type": "code",
	   "execution_count": null,
	   "metadata": {
	    "collapsed": true
	   },
	   "outputs": [],
"source": [
"clc;\n",
"clear;\n",
"printf('\t\t\tChapter2_example10\n\n\n');\n",
"// determination of optimum fin length and heat transferred by fin\n",
"k=8.32; // thermal conductivity of Type 304 stainless steel in BTU/(hr.ft.degree Rankine)from appendix table B2\n",
"hc=400; // the convective heat transfer coefficient given in BTU/(hr.ft^2. degree Rankine)\n",
"printf('\n\t\t\tSolution to part (a)\n');\n",
"delta_opt=0.55/(12*2);\n",
"// determination of dimension of one fin using the equation delta_opt=0.583*hc*Lc^2/k\n",
"Lc=sqrt(delta_opt*k/(0.583*hc));\n",
"printf('\nThe optimum length is %.3f in',Lc*12);\n",
"printf('\n\n\t\t\tSolution to part (b)\n');\n",
"A=Lc*delta_opt;\n",
"// determination of parameter for finding out efficiency from graph\n",
"parameter=Lc^1.5*sqrt(hc/(k*A));\n",
"printf('\nThe parameter value for finding the efficiency is: %.2f',parameter);\n",
"efficiency=0.6;\n",
"printf('\nThe efficiency found from the graph in figure 2.36 is %.1f', efficiency);\n",
"W=1/(2*12);// width in ft\n",
"T_w=190; // wall temperature in degree fahrenheit\n",
"T_inf=58; // ambient temperature in degree fahrenheit\n",
"L=1; // length in ft\n",
"delta=W/2; \n",
"q_ac=efficiency*hc*2*W*sqrt(L^2+delta^2)*(T_w-T_inf);\n",
"printf('\nThe actual heat transferred is %d BTU/hr',q_ac);"
   ]
   }
,
{
		   "cell_type": "markdown",
		   "metadata": {},
		   "source": [
			"## Example 2.11: Circular_fin_of_rectangular_profile.sce"
		   ]
		  },
  {
"cell_type": "code",
	   "execution_count": null,
	   "metadata": {
	    "collapsed": true
	   },
	   "outputs": [],
"source": [
"clc;\n",
"clear;\n",
"printf('\t\t\tChapter2_example11\n\n\n');\n",
"// determination of heat transferred and fin effectiveness\n",
"printf('\t\t\tSolution to part (a)\n');\n",
"//parameters of the problem are\n",
"N=9; // number of fins\n",
"delta=0.003/2; \n",
"L=0.025;\n",
"Lc=L+delta;\n",
"R=0.219/2;\n",
"R2c=R+delta;\n",
"R1=R-L;\n",
"T_w=260; // root wall temperature in degree celsius\n",
"T_inf=27; // ambient temperature in degree celsius\n",
"hc=15; \n",
"k=52; // thermal conductivity of cast iron in W/(m.K)from appendix table B2\n",
"Ap=2*delta*Lc;\n",
"As=2*3.14*(R2c^2-R1^2);\n",
"radius_ratio=R2c/R1; // for finding efficiency from figure 2.38\n",
"variable=Lc^1.5*sqrt(hc/(k*Ap));\n",
"printf('\n\nThe value of R2c/R1 is %.2f',radius_ratio);\n",
"printf('\n\nThe value of Lc^(3/2)(hc/kAp)^(1/2) is %.2f',variable);\n",
"efficiency=0.93; // efficiency from figure 2.38\n",
"printf('\n\nThe efficiency of the fin from figure 2.38 is %.2f',efficiency);\n",
"qf=N*efficiency*As*hc*(T_w-T_inf);\n",
"printf('\n\nThe heat transferred by the nine fins is %.1f w',qf);\n",
"Sp=0.0127; // fin spacing\n",
"Asw=2*3.14*R1*Sp*N; // exposed surface area\n",
"qw=hc*Asw*(T_w-T_inf);\n",
"printf('\n\nThe heat transferred by exposed surface of the cylinder is %d W',qw);\n",
"q=qf+qw;\n",
"printf('\n\nThe total heat transferred from the cylinder is %d W',q)\n",
"printf('\n\n\t\t\tSolution to part (b)\n');\n",
"H=N*(Sp+2*delta);// height of cylinder\n",
"Aso=2*3.14*R1*H; // surface area without fins\n",
"qo=hc*Aso*(T_w-T_inf);\n",
"printf('\n\nThe Heat transferred without fins is %d W',qo)\n",
"printf('\n\n\t\t\tSolution to part (c)\n');\n",
"effectiveness=q/qo; // effectiveness defined as ratio of heat transferred with fins to heat transferred without fins\n",
"printf('\nThe fin effectiveness is %.2f',effectiveness);"
   ]
   }
,
{
		   "cell_type": "markdown",
		   "metadata": {},
		   "source": [
			"## Example 2.1: Materials_in_Series.sce"
		   ]
		  },
  {
"cell_type": "code",
	   "execution_count": null,
	   "metadata": {
	    "collapsed": true
	   },
	   "outputs": [],
"source": [
"clc;\n",
"clear;\n",
"printf('\t\t\tChapter2_example1\n\n\n');\n",
"//  determination of the heat flow through a composite wall\n",
"T3=-10; // temperature of inside wall in degree Fahrenheit\n",
"T0=70; // temperature of outside wall in degree Fahrenheit\n",
"dT=T0-T3; // overall temperature difference\n",
"// values of thermal conductivity in BTU/(hr.ft.degree Rankine) from appendix table B3\n",
"k1=0.38; // brick masonry\n",
"k2=0.02; // glass fibre\n",
"k3=0.063; // plywood\n",
"dx1=4/12; // thickness of brick layer in ft\n",
"dx2=3.5/12; // thickness of glass fibre layer in ft\n",
"dx3=0.5/12; // thickness of plywood layer in ft\n",
"A=1; // cross sectional area taken as 1 ft^2\n",
"R1=dx1/(k1*A); // resistance of brick layer in (hr.degree Rankine)/BTU\n",
"R2=dx2/(k2*A); // resistance of glass fibre layer in (hr.degree Rankine)/BTU\n",
"R3=dx3/(k3*A); // resistance of plywood layer in (hr.degree Rankine)/BTU\n",
"printf('\nResistance of brick layer is %.3f (hr.degree Rankine)/BTU',R1);\n",
"printf('\nResistance of glass fibre layer is %.1f (hr.degree Rankine)/BTU',R2);\n",
"printf('\nResistance of plywood layer is %.3f (hr.degree Rankine)/BTU',R3);\n",
"qx=(T0-T3)/(R1+R2+R3); \n",
"printf('\nHeat transfer through the composite wall is %.2f BTU/hr',qx);"
   ]
   }
,
{
		   "cell_type": "markdown",
		   "metadata": {},
		   "source": [
			"## Example 2.2: Materials_in_Parallel.sce"
		   ]
		  },
  {
"cell_type": "code",
	   "execution_count": null,
	   "metadata": {
	    "collapsed": true
	   },
	   "outputs": [],
"source": [
"clc;\n",
"clear;\n",
"printf('\t\t\tChapter2_example2\n\n\n');\n",
"// determination of heat transfer through composite wall for materials in parallel\n",
"// values of thermal conductivities in W/(m.K) from appendix table B3\n",
"k1=0.45;// thermal conductivity of brick\n",
"k2a=0.15; // thermal conductivity of pine\n",
"k3=0.814; // thermal conductivity of plaster board\n",
"k2b=0.025; // thermal conductivity of air from appendix table D1\n",
"// Areas needed fpor evaluating heat transfer in sq.m\n",
"A1=0.41*3; // cross sectional area of brick layer \n",
"A2a=0.038*3; // cross sectional area of wall stud\n",
"A2b=(41-3.8)*0.01*3; // cross sectional area of air layer\n",
"A3=0.41*3; // cross sectional area of plastic layer \n",
"dx1=0.1; // thickness of brick layer in m\n",
"dx2=0.089; // thickness of wall stud and air layer in m\n",
"dx3=0.013; // thickness of plastic layer in m\n",
"R1=dx1/(k1*A1); // Resistance of brick layer in K/W\n",
"R2=dx2/(k2a*A2a+k2b*A2b); // Resistance of wall stud and air layer in K/W\n",
"R3=dx3/(k3*A3); // Resistance of plastic layer in K/W\n",
"printf('\nResistance of brick layer is %.3f K/W',R1);\n",
"printf('\nResistance of wall stud and air layer is %.2f K/W',R2);\n",
"printf('\nResistance of plastic layer is %.3f K/W',R3);\n",
"T1=25; // temperature of inside wall in degree celsius\n",
"T0=0; // temperature of outside wall in degree celsius\n",
"qx=(T1-T0)/(R1+R2+R3); // heat transfer through the composite wall in W\n",
"printf('\nHeat transfer through the composite wall is %.1f W',qx);"
   ]
   }
,
{
		   "cell_type": "markdown",
		   "metadata": {},
		   "source": [
			"## Example 2.3: Overall_Heat_Transfer_Coefficient.sce"
		   ]
		  },
  {
"cell_type": "code",
	   "execution_count": null,
	   "metadata": {
	    "collapsed": true
	   },
	   "outputs": [],
"source": [
"clc;\n",
"clear;\n",
"printf('\t\t\tChapter2_example3\n\n\n');\n",
"// determination of heat transfer rate and overall heat transfer coefficient\n",
"k1=24.8; // thermal conductivity of 1C steel in BTU/(hr.ft.degree Rankine)from appendix table B2 \n",
"k2=0.02; // thermal conductivity of styrofoam steel in BTU/(hr.ft.degree Rankine)\n",
"k3=0.09; // thermal conductivity of fibreglass in BTU/(hr.ft.degree Rankine)\n",
"hc1=0.79; // convection coefficient between the air and the vertical steel wall in BTU/(hr.ft^2.degree Rankine)\n",
"hc2=150; // the convection coefficient between the ice water and the fiberglass\n",
"A=1; // calculation based on per square foot\n",
"dx1=0.04/12; // thickness of steel in ft\n",
"dx2=0.75/12; // thickness of styrofoam in ft\n",
"dx3=0.25/12; // thickness of fiberglass in ft\n",
"// Resistances in (degree Fahrenheit.hr)/BTU\n",
"disp('Resistances in (degree Fahrenheit.hr)/BTU:');\n",
"Rc1=1/(hc1*A); // Resistance from air to sheet metal\n",
"printf('\nResistance from air to sheet metal: %.3f degree F.hr/BTU',Rc1);\n",
"Rk1=dx1/(k1*A); // Resistance of steel layer\n",
"printf('\nResistance of steel layer: %.4f degree F.hr/BTU',Rk1);\n",
"Rk2=dx2/(k2*A); // Resistance of styrofoam layer\n",
"printf('\nResistance of styrofoam layer: %.3f degree F.hr/BTU',Rk2);\n",
"Rk3=dx3/(k3*A); // Resistance of fiberglass layer\n",
"printf('\nResistance of fiberglass layer: %.3f degree F.hr/BTU',Rk3);\n",
"Rc2=1/(hc2*A); // Resistance from ice water to fiberglass\n",
"printf('\nResistance from ice water to fiberglass: %.4f degree F.hr/BTU',Rc2);\n",
"U=1/(Rc1+Rk1+Rk2+Rk3+Rc2); // overall heat transfer coefficient in BTU/(hr.ft^2.degree Rankine)\n",
"printf('\nThe overall heat transfer coefficient is %.3f BTU/(hr. sq.ft.degree Rankine)',U);\n",
"T_inf1=90;// temperature of air in degree F\n",
"T_inf2=32; // temperature of mixture of ice and water in degree F\n",
"q=U*A*(T_inf1-T_inf2);\n",
"printf('\nThe heat transfer rate is %.1f BTU/hr',q);"
   ]
   }
,
{
		   "cell_type": "markdown",
		   "metadata": {},
		   "source": [
			"## Example 2.4: Pipe_and_Tube_Specifications.sce"
		   ]
		  },
  {
"cell_type": "code",
	   "execution_count": null,
	   "metadata": {
	    "collapsed": true
	   },
	   "outputs": [],
"source": [
"clc;\n",
"clear;\n",
"printf('\t\t\tChapter2_example4\n\n\n');\n",
"// determination of the heat transfer through the pipe wall per unit length of pipe.\n",
"k=14.4; // thermal conductivity of 304 stainless steel in W/(m.K) from appendix table B2\n",
"// dimensions of steel pipes in cm from appendix table F1\n",
"D2=32.39;\n",
"D1=29.53;\n",
"T1=40;\n",
"T2=38;\n",
"Qr_per_length=(2*3.14*k)*(T1-T2)/log(D2/D1);\n",
"format(6);\n",
"printf('\nThe heat transfer through the pipe wall per unit length of pipe is %.1f W/m = %.2f kW/m',Qr_per_length,Qr_per_length/1000);"
   ]
   }
,
{
		   "cell_type": "markdown",
		   "metadata": {},
		   "source": [
			"## Example 2.5: Materials_in_Series_in_tubular_arrangement.sce"
		   ]
		  },
  {
"cell_type": "code",
	   "execution_count": null,
	   "metadata": {
	    "collapsed": true
	   },
	   "outputs": [],
"source": [
"clc;\n",
"clear;\n",
"printf('\t\t\tChapter2_example5\n\n\n');\n",
"// determination of the heat gain per unit length\n",
"k1=231; // thermal conductivity of copper in BTU/(hr.ft.degree Rankine)from appendix table B1 \n",
"k2=0.02; // thermal conductivity of insuLtion in BTU/(hr.ft.degree Rankine)\n",
"// Specifications of 1 standard type M copper tubing from appendix table F2 are as follows\n",
"D2=1.125/12; // outer diameter in ft\n",
"D1=0.08792; // inner diameter in ft\n",
"R2=D2/2;// outer radius\n",
"printf('\nOuter radius is %.4f ft',R2);\n",
"R1=D1/2; // inner radius\n",
"printf('\nOuter radius is %.3f ft',R1);\n",
"t=0.5/12; // wall thickness of insulation in ft\n",
"R3=R2+t;\n",
"printf('\nRadius including thickness is %.4f ft',R3);\n",
"LRk1=(log(R2/R1))/(2*3.14*k1); // product of length and copper layer resistance\n",
"printf('\nProduct of length and copper layer resistance is: %.1e',LRk1);\n",
"LRk2=(log(R3/R2))/(2*3.14*k2); // product of length and insulation layer resistance\n",
"printf('\nProduct of length and insulation layer resistance is: %.2f',LRk2);\n",
"T1=40; // temperature of inside wall of tubing in degree fahrenheit\n",
"T3=70; // temperature of surface temperature of insulation degree fahrenheit\n",
"q_per_L=(T1-T3)/(LRk1+LRk2); // heat transferred per unit length in BTU/(hr.ft)\n",
"printf('\nThe heat transferred per unit length is %.2f BTU/(hr.ft)',q_per_L);"
   ]
   }
,
{
		   "cell_type": "markdown",
		   "metadata": {},
		   "source": [
			"## Example 2.6: Overall_Heat_Transfer_Coefficient_in_pipe.sce"
		   ]
		  },
  {
"cell_type": "code",
	   "execution_count": null,
	   "metadata": {
	    "collapsed": true
	   },
	   "outputs": [],
"source": [
"clc;\n",
"clear;\n",
"printf('\t\t\tChapter2_example6\n\n\n');\n",
"// Determination of the overall heat transfer coefficient\n",
"k12=24.8; // thermal conductivity of 1C steel in BTU/(hr.ft.degree Rankine)from appendix table B2 \n",
"k23=.023; // // thermal conductivity of glass wool insulation in BTU/(hr.ft.degree Rankine)from appendix table B3 \n",
"// Specifications of 6 nominal, schedule 40 pipe (no schedule was specified, so the standard is assumed) from appendix table F1 are as follows\n",
"D2=6.625/12; // outer diameter in ft\n",
"D1=0.5054; // inner diameter in ft\n",
"printf('\nOuter diameter is %.3f ft',D2);\n",
"printf('\nInner diameter is %.4f ft',D1);\n",
"t=2/12; // wall thickness of insulation in ft\n",
"D3=D2+t;\n",
"printf('\nDiameter including thickness is %.5f ft',D3);\n",
"hc1=12; // convection coefficient between the air and the pipe wall in BTU/(hr. sq.ft.degree Rankine).\n",
"hc2=1.5; // convection coefficient between the glass wool and the ambient air in  BTU/(hr. sq.ft.degree Rankine).\n",
"U=1/((1/hc1)+(D1*log(D2/D1)/k12)+(D1*log(D3/D2)/k23)+(D1/(hc2*D3)));\n",
"printf('\nOverall heat transfer coefficient is %.3f  BTU/(hr. sq.ft.degree Fahrenheit)',U);"
   ]
   }
,
{
		   "cell_type": "markdown",
		   "metadata": {},
		   "source": [
			"## Example 2.7: Thermal_Contact_Resistance.sce"
		   ]
		  },
  {
"cell_type": "code",
	   "execution_count": null,
	   "metadata": {
	    "collapsed": true
	   },
	   "outputs": [],
"source": [
"clc;\n",
"clear;\n",
"printf('\t\t\tChapter2_example7\n\n\n');\n",
"// Determination of the thermal contact resistance\n",
"k=14.4; // thermal conductivity of 304 stainless steel in  W/(m.K)from appendix table B2 \n",
"T1=543; // temperature in K at point 1\n",
"T2=460; // temperature in K at point 2\n",
"dT=T1-T2; // temperature difference between point 1 and 2\n",
"dz12=0.035; // distance between thermocouple 1 and 2 in cm\n",
"qz_per_A=k*dT/dz12; // heat flow calculated in W/m^2 calculated using Fourier's law\n",
"printf('\nHeat flow calculated is %.2f kW/sq.m',qz_per_A/1000);\n",
"dz56=4.45; // distance between thermocouple 5 and 6 in cm\n",
"dz6i=3.81; // distance between thermocouple 6 and interface in cm\n",
"dz5i=dz56+dz6i; // distance between thermocouple 5 and interface in cm\n",
"T5=374; // temperature in K at point 5\n",
"T6=366; // temperature in K at point 6\n",
"T_ial=T5-(dz5i*(T5-T6)/dz56); // temperature of aluminium interface in K\n",
"printf('\nTemperature of aluminium interface is %.1f K',T_ial);\n",
"dzi7=2.45; // distance between thermocouple 7 and interface in cm\n",
"dz78=4.45; // distance between thermocouple 7 and 8 in cm\n",
"dzi8=dzi7+dz78; // distance between thermocouple 8 and interface in cm\n",
"T7=349; // temperature in K at point 7\n",
"T8=337; // temperature in K at point 8\n",
"T_img=dzi8*(T7-T8)/dz78+T8; // temperature of magnesium interface in K\n",
"printf('\nTemperature of magnesium interface is %.1f K',T_img);\n",
"Rtc=(T_ial-T_img)/qz_per_A;\n",
"printf('\nThe required thermal contact resistance is %.2e K. sq.m/W',Rtc);"
   ]
   }
,
{
		   "cell_type": "markdown",
		   "metadata": {},
		   "source": [
			"## Example 2.8: Analysis_of_a_Pin_Fin.sce"
		   ]
		  },
  {
"cell_type": "code",
	   "execution_count": null,
	   "metadata": {
	    "collapsed": true
	   },
	   "outputs": [],
"source": [
"clc;\n",
"clear;\n",
"printf('\t\t\tChapter2_example8\n\n\n');\n",
"// determination of temperature profile, heat transferred, efficiency, effectiveness.\n",
"printf('\n\t\t\tSolution to part (a)');\n",
"k=24.8; // thermal conductivity of 1C steel in BTU/(hr.ft.degree Rankine)from appendix table B2\n",
"D=(5/16)/12; // diameter of the rod in ft\n",
"P=(3.14*D); // Circumference of the rod in ft\n",
"printf('\nThe perimeter is %.4f ft',P);\n",
"A=(3.14/4)*D^2; // Cross sectional area of the rod in sq.ft\n",
"printf('\nThe Cross sectional area is %.6f sq.ft',A);\n",
"hc=1; // assuming the convective heat transfer coefficient as 1 BTU/(hr. sq.ft. degree Rankine)\n",
"m=sqrt(hc*P/(k*A));\n",
"printf('\nThe value of parameter m is: %.3f/ft',m);\n",
"L=(9/2)/12; // length of rod in ft\n",
"// using the equation (T-T_inf)/(T_w-T_inf)=(cosh[m(L-z)])/(cosh(mL)) for temperature profile\n",
"T_inf=70;\n",
"T_w=200;\n",
"dT=T_w-T_inf;\n",
"const=dT/cosh(m*L);\n",
"printf('\nThe temperature profile is:\t');\n",
"printf('T=%d+%.2fcosh[%.3f(%.3f-z)]',T_inf,const,m,L);\n",
"z=0:.05:L;\n",
"T=T_inf+const*cosh(m*(L-z));\n",
"x=linspace(0,4.5,8);\n",
"plot(x,T);\n",
"a=gca();\n",
"a.data_bounds=[0,140;5,200];\n",
"newticks=a.x_ticks;\n",
"newticks(2)=[0;1;2;3;4;5];\n",
"newticks(3)=['0';'1';'2';'3';'4';'5'];\n",
"a.x_ticks=newticks;\n",
"newticks1=a.y_ticks;\n",
"newticks1(2)=[140;150;160;170;180;190;200];\n",
"newticks1(3)=['140';'150';'160';'170';'180';'190';'200'];\n",
"a.y_ticks=newticks1;\n",
"xlabel('Rod length z, in');\n",
"ylabel('Temperature T, degree fahrenheit');\n",
"title('Temperature_distribution_within_the_rod');\n",
"printf('\n\n\t\t\tSolution to part (b)\n');\n",
"// the heat transferred can be calculated using the equation qz=k*A*m*(T_w-T_inf)*tanh(m*L)\n",
"qz=k*A*m*dT*tanh(m*L);\n",
"printf('\nThe heat transferred is %.2f BTU/hr',qz);\n",
"printf('\n\n\t\t\tSolution to part (c)\n');\n",
"mL=m*L;\n",
"printf('\nThe value of mL is: %.3f',mL);\n",
"efficiency=0.78;\n",
"printf('\nThe efficiency found from the graph in figure 2.30 is: %.2f',efficiency);\n",
"printf('\n\n\t\t\tSolution to part (d)\n');\n",
"// the effectiveness can be found using the equation effectiveness=sqrt(k*P/h*A)*tanh(mL)\n",
"effectiveness=sqrt(k*P/(hc*A))*tanh(mL);\n",
"printf('\nThe effectiveness is found to be: %.1f',effectiveness);"
   ]
   }
,
{
		   "cell_type": "markdown",
		   "metadata": {},
		   "source": [
			"## Example 2.9: Corrected_Length_Solution.sce"
		   ]
		  },
  {
"cell_type": "code",
	   "execution_count": null,
	   "metadata": {
	    "collapsed": true
	   },
	   "outputs": [],
"source": [
"clc;\n",
"clear;\n",
"printf('\t\t\tChapter2_example9\n\n\n');\n",
"// determination of heat transferred\n",
"k=136; // thermal conductivity of aluminium in BTU/(hr.ft.degree Rankine)from appendix table B1\n",
"L=9/(8*12);\n",
"W=9/(4*12);\n",
"delta=1/(32*12);\n",
"printf('\nLength=%.5f ft, Width=%.4f ft, Delta=%.6f ft',L,W,delta);\n",
"hc=0.8; // the convective heat transfer coefficient estimated as 1 BTU/(hr.ft^2. degree Rankine)\n",
"T_w=1000;// the root temperature in degree fahrenheit\n",
"T_inf=90; // the ambient temperature in degree fahrenheit\n",
"m=sqrt(hc/(k*delta));\n",
"printf('\nThe value of m is %.3f',m);\n",
"P=2*W;\n",
"A=2*delta*W;\n",
"printf('\n\t\t\tSolution to part (a)\n');\n",
"qz1=sqrt(hc*P*k*A)*(T_w-T_inf)*(sinh(m*L)+(hc/(m*k)*cosh(m*L)))/(cosh(m*L)+(hc/(m*k)*sinh(m*L)));\n",
"printf('\nThe heat transferred is %.2f BTU/hr',qz1);\n",
"printf('\n\n\t\t\tSolution to part (b)\n');\n",
"qz2=sqrt(k*A*hc*P)*(T_w-T_inf)*tanh(m*L);\n",
"printf('\nThe heat transferred is %.2f BTU/hr\n',qz2);\n",
"printf('\n\t\t\tSolution to part (c)\n');\n",
"Lc=L+delta;\n",
"qz3=k*A*m*(T_w-T_inf)*tanh(m*L*(1+delta/Lc));\n",
"printf('\nThe heat transferred is %.2f BTU/hr\n',qz3);"
   ]
   }
],
"metadata": {
		  "kernelspec": {
		   "display_name": "Scilab",
		   "language": "scilab",
		   "name": "scilab"
		  },
		  "language_info": {
		   "file_extension": ".sce",
		   "help_links": [
			{
			 "text": "MetaKernel Magics",
			 "url": "https://github.com/calysto/metakernel/blob/master/metakernel/magics/README.md"
			}
		   ],
		   "mimetype": "text/x-octave",
		   "name": "scilab",
		   "version": "0.7.1"
		  }
		 },
		 "nbformat": 4,
		 "nbformat_minor": 0
}
