{
"cells": [
 {
		   "cell_type": "markdown",
	   "metadata": {},
	   "source": [
       "# Chapter 10: Condensation and Vaporization Heat Transfer"
	   ]
	},
{
		   "cell_type": "markdown",
		   "metadata": {},
		   "source": [
			"## Example 10.1: Laminar_film_condensation_on_a_vertical_flat_surface.sce"
		   ]
		  },
  {
"cell_type": "code",
	   "execution_count": null,
	   "metadata": {
	    "collapsed": true
	   },
	   "outputs": [],
"source": [
"clc;\n",
"clear;\n",
"printf('\t\t\tChapter10_example1\n\n\n');\n",
"// Calculation of the heat-transfer rate and the amount of steam condensed\n",
"// properties of engine oil at (328 + 325)/2 = 326.5 degree F = 320°F from appendix table C11\n",
"rou_f= 0.909*62.4; // density in lbm/ft^3 \n",
"cp=1.037; // specific heat BTU/(lbm-degree Rankine) \n",
"v_f= 0.204e-5; // viscosity in ft^2/s \n",
"kf = 0.393; // thermal conductivity in BTU/(lbm.ft.degree Rankine) \n",
"a = 6.70e-3; // diffusivity in ft^2/hr \n",
"Pr = 1.099; // Prandtl Number \n",
"V_v=4.937; // specific volume in ft^3/lbm from superheated steam tables\n",
"rou_v=1/V_v; // vapour density\n",
"g=32.2;\n",
"hfg=888.8; // from saturated steam tables\n",
"Tg=327.81;\n",
"Tw=325;\n",
"L=2; // length in ft\n",
"W=3; // width in ft\n",
"z=0.2:0.2:2; // distance from entry of plate in ft\n",
"[n m]=size(z);\n",
"// film thickness is given as follows\n",
"for i=1:m\n",
"delta(i)=[(4*kf*v_f*z(i)*(Tg-Tw)/3600)/(rou_f*g*hfg*(1-(rou_v/rou_f)))]^(1/4);\n",
"hz(i)=(kf/delta(i));\n",
"end\n",
"printf('\nGrowth of and Heat-Transfer Coefficient for the Condensate Film of Example 10.1 ');\n",
"printf('\nz, ft\tdelta, ft\tdelta, in\thz, BTU/(hr.sq.ft.degree Rankine)');\n",
"for i=1:m\n",
"printf('\n%.1f\t%.2e\t%.4f\t\t%d\n',z(i),delta(i),12*delta(i),hz(i));\n",
"end\n",
"hL=(4/3)*hz(m); // at plate end\n",
"mf=(hL*L*W*(Tg-Tw))/hfg;\n",
"printf('\nThe convective coefficient at the plate end is %d BTU/(hr.sq.ft. degree Rankine)',hL);\n",
"printf('\nThe amount of steam condensed is %.1f lbm/hr',mf);\n",
"q=mf*hfg;\n",
"printf('\nThe heat transfer rate is %.2e BTU/hr',q);\n",
"Re=(4*mf/3600)/(W*rou_f*v_f);\n",
"printf('\nThe Reynolds Number is %d',Re);\n",
"if Re<1800 then\n",
"    printf('\nThe film is laminar and above equations apply');\n",
"    else printf('\nThe film is not laminar and above assumption is wrong');\n",
"end\n",
"subplot(211);\n",
"plot(delta*12,z,'x-');  // our first figure\n",
"a1 = gca();\n",
"a1.x_location='top';\n",
"a1.axes_reverse=['off','on'];\n",
"subplot(212)\n",
"plot(hz,z, 'o--');  // our second figure\n",
"a2 = gca();\n",
"a2.axes_reverse=['off','on'];\n",
"a2.x_location='bottom';\n",
"a2.axes_visible = ['on', 'on','on'];\n",
"a2.y_location ='right';\n",
"x_label1=a1.x_label;\n",
"x_label1.text='delta,in';\n",
"x_label2=a2.x_label;\n",
"x_label2.text='hz, BTU/(hr.sq.ft.degree R)';\n",
"y_label=a1.y_label;\n",
"y_label.text='z, ft';\n",
"a1.axes_bounds=[0 0 1 1];  // modify the first figure to occupy the whole area\n",
"a2.axes_bounds=[0 0 1 1]; // modify the second figure to occupy the whole area too\n",
"a2.filled='off';"
   ]
   }
,
{
		   "cell_type": "markdown",
		   "metadata": {},
		   "source": [
			"## Example 10.2: Film_condensation_on_a_horizontal_tube.sce"
		   ]
		  },
  {
"cell_type": "code",
	   "execution_count": null,
	   "metadata": {
	    "collapsed": true
	   },
	   "outputs": [],
"source": [
"clc;\n",
"clear;\n",
"printf('\t\t\tChapter10_example2\n\n\n');\n",
"// Determination of both the heat that the cooling fluid must remove and the condensation rate. \n",
"// properties of water at (100 + 60)/2 = 80°C from appendix table C11\n",
"rou_f= 947; // density in kg/m^3 \n",
"cp_1= 4196; // specific heat in J/(kg*K) \n",
"v_1= 0.364e-6; // viscosity in m^2/s  \n",
"Pr_1 =2.22; // Prandtl Number \n",
"kf= 0.668; // thermal conductivity in W/(m.K)\n",
"a_1 =1.636e-7; // diffusivity in m^2/s \n",
"Vv=1.9364; // specific volume in m^3/kg\n",
"rou_v=1/Vv; // vapor density;\n",
"g=9.81;\n",
"hfg=2257.06*1000; \n",
"Tg=100;\n",
"Tw=60;\n",
"L=1;\n",
"printf('\nThe vapor density is %.3f kg/cu.m',rou_v);\n",
"// specifications of 1 nominal schedule 40 pipe from appendix F1\n",
"OD=.03340;\n",
"hD=0.782*[(g*rou_f*(1-(rou_v/rou_f))*(kf^3)*hfg)/(v_1*OD*(Tg-Tw))]^(1/4);\n",
"printf('\nThe average heat transfer coefficient is %.3e W/(sq.m.K)',hD);\n",
"q=hD*%pi*OD*L*(Tg-Tw);\n",
"printf('\nThe heat flow rate is %.1e W',q);\n",
"mf=q/hfg;\n",
"printf('\nThe rate at which steam condenses is %.2f kg/s = %d kg/hr',mf,.02*3600);"
   ]
   }
,
{
		   "cell_type": "markdown",
		   "metadata": {},
		   "source": [
			"## Example 10.3: Nucleate_pool_boiling_critical_heat_flux.sce"
		   ]
		  },
  {
"cell_type": "code",
	   "execution_count": null,
	   "metadata": {
	    "collapsed": true
	   },
	   "outputs": [],
"source": [
"clc;\n",
"clear;\n",
"printf('\t\t\tChapter10_example3\n\n\n');\n",
"// Calculation of (a) the power input to the water for boiling to occur, (b) the evaporation rate of water, and (c) the critical heat flux.\n",
"// properties of water at 100°C = 373 K from appendix table 10.3\n",
"rou_f=958; // density in kg/m^3\n",
"cp_f= 4217; // specific heat in J/(kg*K) \n",
"v_f= 2.91e-7; // viscosity in m^2/s  \n",
"Pr_f =1.76; // Prandtl Number \n",
"rou_g=0.596; \n",
"sigma=0.0589; // surface tension in N/m\n",
"hfg=2257000; \n",
"Tw=120\n",
"Tg=100;\n",
"D=.141; // diameter of pan in m\n",
"g=9.81;\n",
"gc=1;\n",
"// nucleate boiling regime\n",
"Cw=0.0132; // formechanically polished stainless steel from table 10.2\n",
"q_A=(rou_f*v_f*hfg)*[(g*rou_f*(1-(rou_g/rou_f)))/(sigma*gc)]^(1/2)*[(cp_f*(Tw-Tg))/(Cw*hfg*Pr_f^1.7)]^3;\n",
"printf('\nThe heat transferred per unit area is %.2e W/sq.m',q_A);\n",
"A=%pi*D^2/4;\n",
"printf('\nThe area of the pan inside-bottom surface in contact with liquid is %.2e sq.m',A);\n",
"printf('\n\n\t\t\tSolution to part (a)');\n",
"q=q_A*A; // power delivered to the water in W\n",
"printf('\nThe power delivered to the water is %.2f kW',q/1000);\n",
"printf('\n\n\t\t\tSolution to part (b)');\n",
"mf=q/hfg; // water evaporation rate\n",
"printf('\nThe water evaporation rate is %.2e kg/s = %.2f kg/hr',mf,mf*3600);\n",
"printf('\n\n\t\t\tSolution to part (c)');\n",
"q_cr=0.18*hfg*[sigma*g*gc*rou_f*rou_g^2]^(1/4);\n",
"printf('\nThe critical heat flux is %.2e W/sq.m',q_cr);"
   ]
   }
],
"metadata": {
		  "kernelspec": {
		   "display_name": "Scilab",
		   "language": "scilab",
		   "name": "scilab"
		  },
		  "language_info": {
		   "file_extension": ".sce",
		   "help_links": [
			{
			 "text": "MetaKernel Magics",
			 "url": "https://github.com/calysto/metakernel/blob/master/metakernel/magics/README.md"
			}
		   ],
		   "mimetype": "text/x-octave",
		   "name": "scilab",
		   "version": "0.7.1"
		  }
		 },
		 "nbformat": 4,
		 "nbformat_minor": 0
}
