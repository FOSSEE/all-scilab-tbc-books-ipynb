{
"cells": [
 {
		   "cell_type": "markdown",
	   "metadata": {},
	   "source": [
       "# Chapter 11: Introduction to Radiation Heat Transfer "
	   ]
	},
{
		   "cell_type": "markdown",
		   "metadata": {},
		   "source": [
			"## Example 11.1: Radiation_Intensity.sce"
		   ]
		  },
  {
"cell_type": "code",
	   "execution_count": null,
	   "metadata": {
	    "collapsed": true
	   },
	   "outputs": [],
"source": [
"clc;\n",
"clear;\n",
"printf('\t\t\tChapter11_example1\n\n\n');\n",
"// Calculation of the value of the solid angle subtended by surfaces dA2 and dA3 with respect to dA1 (b) the intensity of emission from dA, in the direction of the other areas (c) the rate at which radiation emitted by dA, is intercepted by the other areas\n",
"printf('\t\t\tSolution to Part (a)\n');\n",
"// solid angle is calculate using the equation dw=dA*cos(Beta)/r^2\n",
"// Beta is the angle between the surface normal of a receiver surface and the line connecting the two surfaces\n",
"// For area A2\n",
"// dimensions are 1X1 in, so\n",
"dA2=(1*1)/144;\n",
"Beta1=40*%pi/180;\n",
"r=4;\n",
"dw2_1=dA2*cos(Beta1)/r^2;\n",
"printf('\nThe solid angle subtended by area dA2 with respect to dA1 is %.2e sr',dw2_1);\n",
"dA3=dA2;\n",
"Beta2=0;\n",
"dw3_1=dA3*cos(Beta2)/r^2;\n",
"printf('\nThe solid angle subtended by area dA3 with respect to dA1 is %.2e sr',dw3_1);\n",
"printf('\n\n\t\t\tSolution to Part (b)\n');\n",
"theta2=%pi*50/180;\n",
"theta3=%pi*60/180;\n",
"I_theta2=2000*(1-0.4*(sin(theta2))^2);\n",
"I_theta3=2000*(1-0.4*(sin(theta3))^2);\n",
"printf('\n The intensity of radiation emitted from dA1 in the direction of dA2 is %d BTU/(hr.sq.ft.sr)',I_theta2);\n",
"printf('\n The intensity of radiation emitted from dA1 in the direction of dA3 is %d BTU/(hr.sq.ft.sr)',I_theta3);\n",
"printf('\n\n\t\t\tSolution to Part (c)\n');\n",
"dA1=1/144;\n",
"dq1_2=I_theta2*dA1*cos(theta2)*dw2_1;\n",
"dq1_3=I_theta3*dA1*cos(theta3)*dw3_1;\n",
"printf('\nThe rate at which radiation emitted by dA1 is intercepted by dA2 is %.2e BTU/hr',dq1_2);\n",
"printf('\nThe rate at which radiation emitted by dA1 is intercepted by dA3 is %.2e BTU/hr',dq1_3);"
   ]
   }
,
{
		   "cell_type": "markdown",
		   "metadata": {},
		   "source": [
			"## Example 11.2: Irradiation_and_Radiosity.sce"
		   ]
		  },
  {
"cell_type": "code",
	   "execution_count": null,
	   "metadata": {
	    "collapsed": true
	   },
	   "outputs": [],
"source": [
"clc;\n",
"clear;\n",
"printf('\t\t\tChapter11_example2\n\n\n');\n",
"// Calculation of the value of the solid angle subtended by surfaces dA2 with respect to dA1 (b)  the rate at which radiation emitted by dA1 is intercepted by dA2 (c)  the irradiation associated with dA2\n",
"printf('\t\t\tSolution to Part (a)\n');\n",
"// solid angle is calculate using the equation dw=dA*cos(Beta)/r^2\n",
"// The angle Beta is 0 because the surface normal of dA2 is directed at dA1\n",
"dA2=0.02*0.02;\n",
"Beta=0;\n",
"r=1;\n",
"dw2_1=dA2*cos(Beta)/r^2;\n",
"printf('\nThe solid angle subtended by area dA2 with respect to dA1 is %.2e sr',dw2_1);\n",
"printf('\n\n\t\t\tSolution to Part (b)\n');\n",
"dA1=dA2;\n",
"theta=%pi*30/180;\n",
"I_theta=1000;// The intensity of radiation leaving dA1 in any direction is 1 000 W/(m^2.sr\n",
"dq1_2=I_theta*dA1*cos(theta)*dw2_1;\n",
"printf('\nThe rate at which radiation emitted by dA1 is intercepted by dA2 is %.2e W',dq1_2);\n",
"printf('\n\n\t\t\tSolution to Part (c)\n');\n",
"// The irradiation associated with dA2 can be found by dividing the incident radiation by the receiver area\n",
"dQ1_2=dq1_2/dA2;\n",
"printf('\nThe irradiation associated with dA2 is %.2e W/sq.m',dQ1_2);"
   ]
   }
,
{
		   "cell_type": "markdown",
		   "metadata": {},
		   "source": [
			"## Example 11.3: Emissivity_and_Rate_of_radiant_emission.sce"
		   ]
		  },
  {
"cell_type": "code",
	   "execution_count": null,
	   "metadata": {
	    "collapsed": true
	   },
	   "outputs": [],
"source": [
"clc;\n",
"clear;\n",
"printf('\t\t\tChapter11_example3\n\n\n');\n",
"// (a) Calculation of the emissivity of the hole.(b) the rate of radiant emission from the hole\n",
"D=2.5/12; // diameter in ft\n",
"L=4.5/12; // length in ft\n",
"A=(2*%pi*D^2/4)+(%pi*D*L);\n",
"printf('\nThe inside surface area is %.3f sq.ft ',A);\n",
"A_hole=%pi*(1/(8*12))^2/4;\n",
"printf('\nThe area of a 1/8 inch hole is %.3e sq.ft',A_hole);\n",
"f=A_hole/A; // fraction of area removed\n",
"printf('\nThe fraction of area removed is %.3e ',f);\n",
"printf('\n\n\t\t\tSolution to Part (a)\n');\n",
"// for rolled and polished aluminum, that emissivity = 0.039 from appendix table E1\n",
"emissivity=0.039;\n",
"emissivity_hole=emissivity/(emissivity+(1-emissivity)*f);\n",
"printf('\nThe emissivity of the hole is %.4f',emissivity_hole);\n",
"printf('\n\n\t\t\tSolution to Part (b)\n');\n",
"sigma=0.1714e-8; // stefan Boltzmann constant in BTU/(hr~ft^2 degree R)\n",
"T=150+460; // temperature in degree R\n",
"qe=emissivity_hole*sigma*T^4;\n",
"printf('\nThe heat lost per unit area of the hole is %d BTU/hr',qe);\n",
"Qe=A_hole*qe;\n",
"printf('\nThe heat lost by the hole is %.2e BTU/hr',Qe);"
   ]
   }
,
{
		   "cell_type": "markdown",
		   "metadata": {},
		   "source": [
			"## Example 11.4: Plancks_distribution_law.sce"
		   ]
		  },
  {
"cell_type": "code",
	   "execution_count": null,
	   "metadata": {
	    "collapsed": true
	   },
	   "outputs": [],
"source": [
"clc;\n",
"clear;\n",
"printf('\t\t\tChapter11_example4\n\n\n');\n",
"// Determination of the percentage of total emitted energy that lies in the visible range. \n",
"T=2800;\n",
"lambda1=4e-7;\n",
"lambda2=7e-7;\n",
"hT=lambda1*T;\n",
"lambdaT=lambda2*T;\n",
"printf('\nhT=%.2e m.K and lambda2_T=%.2e m.K',hT,lambdaT);\n",
"I1=0.0051; //Fraction of Total Radiation Emitted for lower Wavelength-Temperature Product from Table 11.1\n",
"I2=0.065; //Fraction of Total Radiation Emitted for upper Wavelength-Temperature Product from Table 11.1\n",
"dI=I2-I1;\n",
"printf('\nThe percentage of total emitted energy that lies in the visible range is %.1f percent',dI*100);"
   ]
   }
,
{
		   "cell_type": "markdown",
		   "metadata": {},
		   "source": [
			"## Example 11.5: Wiens_displacement_law.sce"
		   ]
		  },
  {
"cell_type": "code",
	   "execution_count": null,
	   "metadata": {
	    "collapsed": true
	   },
	   "outputs": [],
"source": [
"clc;\n",
"clear;\n",
"printf('\t\t\tChapter11_example5\n\n\n');\n",
"// Estimation of the surface temperature of the sun and the emitted heat flux\n",
"lambda_max=0.5e-6; // maximum wavelength in m\n",
"// From Wien’s Displacement Law we can write lambda_max*T=2.898e-3 m.K\n",
"T=2.898e-3/lambda_max;\n",
"printf('\nThe Surface Temperature of the Sun is %d K',T);\n",
"// The heat flux is given by the Stefan-Boltzmann Equation as q=sigma*T^4\n",
"sigma=5.675e-8; // value of Stefan-Boltzmann constant in W/(m^2.K^4)\n",
"q=sigma*T^4;\n",
"printf('\nThe heat flux emitted is %.3e W/sq.m',q);"
   ]
   }
,
{
		   "cell_type": "markdown",
		   "metadata": {},
		   "source": [
			"## Example 11.6: Transmission_through_glass_windshield.sce"
		   ]
		  },
  {
"cell_type": "code",
	   "execution_count": null,
	   "metadata": {
	    "collapsed": true
	   },
	   "outputs": [],
"source": [
"clc;\n",
"clear;\n",
"printf('\t\t\tChapter11_example6\n\n\n');\n",
"// (a) Calculation of the rate at which the sun’s radiant energy is transmitted through the glass windshield. The interior of the car is considered to be a black body that radiates at 100°F. (b) Calculation of the rate at which radiant energy from the car interior is transmitted through the glass windshield. \n",
"printf('\t\t\tSolution to Part (a)\n');\n",
"lambda1=300e-9; // lower limit of wavelength\n",
"lambda2=380e-9; // upper limit of wavelength\n",
"T=5800;\n",
"lambda1_T=lambda1*T;\n",
"lambda2_T=lambda2*T;\n",
"printf('\nThe Lower and Upper limits of Wavelength-Temperature Products are %.2e m.K and %.3e m.K respectively',lambda1_T,lambda2_T);\n",
"I1=0.101; //Fraction of Total Radiation Emitted for lower Wavelength-Temperature Product from Table 11.1\n",
"I2=0.0334; //Fraction of Total Radiation Emitted for upper Wavelength-Temperature Product from Table 11.1\n",
"dI=abs(I2-I1);\n",
"t=dI*0.68; // transmissivity\n",
"printf('\nThe Transmittivity is %.4f',t);\n",
"q=1100; // radiation received by car in W/sq.m\n",
"q_in=t*q; // energy transmitted from the sun through the glass\n",
"printf('\nThe energy transmitted from the sun through the glass is %.1f W/sq.m',q_in);\n",
"printf('\n\t\t\tSolution to Part (b)\n');\n",
"Tb=311; // temperature of black body source in K\n",
"lambda1_Tb=lambda1*Tb;\n",
"lambda2_Tb=lambda2*Tb;\n",
"printf('\nThe Lower and Upper limits of Wavelength-Temperature Products are %.2e m.K and %.2e m.K respectively',lambda1_Tb,lambda2_Tb);\n",
"dI_b=0; // Table 11.1 gives negligibly small values of the corresponding integrals.\n",
"t_b=dI_b*0.68; // transmissivity\n",
"q_out=t_b*q;\n",
"printf('\nthe rate at which radiant energy from the car interior is transmitted through the glass windshield is %d W/sq.m',q_out);"
   ]
   }
],
"metadata": {
		  "kernelspec": {
		   "display_name": "Scilab",
		   "language": "scilab",
		   "name": "scilab"
		  },
		  "language_info": {
		   "file_extension": ".sce",
		   "help_links": [
			{
			 "text": "MetaKernel Magics",
			 "url": "https://github.com/calysto/metakernel/blob/master/metakernel/magics/README.md"
			}
		   ],
		   "mimetype": "text/x-octave",
		   "name": "scilab",
		   "version": "0.7.1"
		  }
		 },
		 "nbformat": 4,
		 "nbformat_minor": 0
}
