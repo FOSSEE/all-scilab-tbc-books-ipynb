{
"cells": [
 {
		   "cell_type": "markdown",
	   "metadata": {},
	   "source": [
       "# Chapter 1: Fundamental Concepts"
	   ]
	},
{
		   "cell_type": "markdown",
		   "metadata": {},
		   "source": [
			"## Example 1.1: The_Surface_Temperature_of_firewall.sce"
		   ]
		  },
  {
"cell_type": "code",
	   "execution_count": null,
	   "metadata": {
	    "collapsed": true
	   },
	   "outputs": [],
"source": [
"clear;\n",
"clc;\n",
"printf('\t\t\tChapter1_Example1\n\n\n');\n",
"// determination of surface temperature on one side of a firewall\n",
"k=9.4; // thermal conductivity in [BTU/hr.ft. ˚Rankine]\n",
"q=6.3; // heat flux in [BTU/s. sq.ft]\n",
"T1=350; // the outside surface temperature of one aide of the wall [˚F]\n",
"// converting heat flux into BTU/hr  sq.ft\n",
"Q=6.3*3600 // [BTU/hr.sq.ft]\n",
"printf('\nThe heat flux is %.2f BTU/hr. sq.ft',Q);\n",
"dx=0.5; // thickness in [inch]\n",
"//converting distance into ft\n",
"Dx=0.5/12 // thickness in [ft]\n",
"printf('\nThe thickness of firewall is %.2f ft',Dx);\n",
"// solving for temeprature T2\n",
"T2=T1-(Q*Dx/k); // [˚F]\n",
"printf('\nThe required temperature on the other side of the firewall is %.1f degree Fahrenheit',T2);"
   ]
   }
,
{
		   "cell_type": "markdown",
		   "metadata": {},
		   "source": [
			"## Example 1.2: Thermal_Conductivity_of_Aluminium.sce"
		   ]
		  },
  {
"cell_type": "code",
	   "execution_count": null,
	   "metadata": {
	    "collapsed": true
	   },
	   "outputs": [],
"source": [
"clear;\n",
"clc;\n",
"printf('\t\t\tchapter1_example2\n\n\n');\n",
"// determination of thermal conductivity of aluminium\n",
"k_ss=14.4; // thermal conductivity of stainless steel in [W/m.K]\n",
"printf('\nThe thermal conductivity of stainless steel is %.1f W/m.K',k_ss);\n",
"dt_ss=40; // [K]\n",
"dt_al=8.65; // [K]\n",
"dz_ss=1; // [cm]\n",
"dz_al=3; // [cm]\n",
"k_al=k_ss*dt_ss*dz_al/(dt_al*dz_ss);// thermal conductivity of Al in [W/m.K]\n",
"printf('\nThe thermal conductivity of aluminium is %d W/m.K',k_al);"
   ]
   }
,
{
		   "cell_type": "markdown",
		   "metadata": {},
		   "source": [
			"## Example 1.3: Convective_Heat_Transfer.sce"
		   ]
		  },
  {
"cell_type": "code",
	   "execution_count": null,
	   "metadata": {
	    "collapsed": true
	   },
	   "outputs": [],
"source": [
"clear;\n",
"clc;\n",
"printf('\t\t\tchapter1_example3\n\n\n');\n",
"// determination of heat transferred by convection\n",
"h_c=3; // convective coefficient in [BTU/hr.ft^2\n",
"A=30*18; // Cross sectional area in ft^2\n",
"T_w=140; // Roof surface temperature in degree Fahrenheit\n",
"T_inf=85; // Ambient temperature in degree Fahrenheit\n",
"dT= (T_w-T_inf);\n",
"Q_c=h_c*A*dT; // Convective heat transfer in BTU/hr\n",
"printf('\nThe heat transferred by convection is %d BTU/hr',Q_c);"
   ]
   }
,
{
		   "cell_type": "markdown",
		   "metadata": {},
		   "source": [
			"## Example 1.4: Average_Film_Conductance.sce"
		   ]
		  },
  {
"cell_type": "code",
	   "execution_count": null,
	   "metadata": {
	    "collapsed": true
	   },
	   "outputs": [],
"source": [
"clear;\n",
"clc;\n",
"printf('\t\t\tchapter1_example4\n\n\n');\n",
"// determining average film conductance\n",
"D=2.43/100; // diameter in meter\n",
"L=20/100; // length in meter\n",
"A=3.14*D*L; // cross-sectional area in sq.m\n",
"cp=4200; // specific heat of water in J/kg.K\n",
"T_b2=21.4; // temperature of bulk fluid in degree celsius\n",
"T_in=20; // temperature of inlet water in degree celsius\n",
"T_w=75; // temperature of wall in degree celsius\n",
"Q=500; // volumetric flow rate in cc/s\n",
"density=1000; // density of water in kg/cu.m\n",
"m=Q*density/10^6; // mass flowa rate in kg/s\n",
"printf('\nThe mass flow rate is %.1f kg/s',m);\n",
"// using definition of specific heat and Newton's law of cooling\n",
"hc=m*cp*(T_b2-T_in)/(A*(T_w-T_in));\n",
"printf('\nThe average film conductance is %d W/sq.m. K',hc);"
   ]
   }
,
{
		   "cell_type": "markdown",
		   "metadata": {},
		   "source": [
			"## Example 1.5: Instantaneous_Heat_loss_by_radiation.sce"
		   ]
		  },
  {
"cell_type": "code",
	   "execution_count": null,
	   "metadata": {
	    "collapsed": true
	   },
	   "outputs": [],
"source": [
"clear;\n",
"clc;\n",
"printf('\t\t\tchapter1_example5\n\n\n');\n",
"// determination of heat loss rate by radiation\n",
"W=14; // width in ft\n",
"L=30; // length in ft\n",
"A=W*L; // area in ft^2\n",
"F_12=1; // view factor assumed to be 1\n",
"T1=120+460; // driveway surface temperature  in degree Rankine\n",
"printf('\nThe driveway surface temperature is %d degree Rankine',T1);\n",
"T2=0; // space temperature assumed to be 0 degree Rankine\n",
"sigma=0.1714*10^(-8); // value of Stefan-Boltzmann's constant in BTU/(hr.ft^2.(degree Rankine)^4)\n",
"e=0.9; // surface emissivity\n",
"q=sigma*A*e*F_12*((T1)^4-(T2)^4);\n",
"printf('\nThe heat loss rate by radiation is %d BTU/hr',q);"
   ]
   }
,
{
		   "cell_type": "markdown",
		   "metadata": {},
		   "source": [
			"## Example 1.6: Radiation_thermal_conductance.sce"
		   ]
		  },
  {
"cell_type": "code",
	   "execution_count": null,
	   "metadata": {
	    "collapsed": true
	   },
	   "outputs": [],
"source": [
"clear;\n",
"clc;\n",
"printf('\t\t\tchapter1_example6\n\n\n');\n",
"// determination of radiation thermal conductance\n",
"A=14*30; // area in sq.ft\n",
"T1=120+460; // driveway surface temperature in degree Rankine\n",
"T2=0; // surface temperature assumed to be 0 degree Rankine\n",
"Qr=73320; // heat loss rate in BTU/hr\n",
"hr=Qr/(A*(T1-T2)); // radiation thermal conductance in BTU/(hr.ft^2.(degree Rankine)\n",
"printf('\nthe radiation thermal conductance is %.2f BTU/(hr. sq.ft.(degree Rankine))',hr);"
   ]
   }
,
{
		   "cell_type": "markdown",
		   "metadata": {},
		   "source": [
			"## Example 1.7: Thermal_Circuit.sce"
		   ]
		  },
  {
"cell_type": "code",
	   "execution_count": null,
	   "metadata": {
	    "collapsed": true
	   },
	   "outputs": [],
"source": [
"clear;\n",
"clc;\n",
"printf('\t\t\tchapter1_example7\n\n\n');\n",
"// Identification of all resistances and their values\n",
"// Estimation of heat transfer per unit area\n",
"// Determination of the inside and outside wall temperatures\n",
"printf('\n\t\t\tSolution to part (b)\n');\n",
"A=1; // assuming A=1 m^2 for convenience\n",
"hc1_avg=(5+25)/2; // taking average of extreme values for hc [W/m^2.K]\n",
"Rc1=1/(hc1_avg*A); // resistance on left side of wall [K/W]\n",
"printf('\nThe resistance on left side of wall is %.3f K/W',Rc1);\n",
"k=(0.38+0.52)/2; // thermal conductivity of common brick in W/M.k\n",
"L=0.1; //10 cm converted into m\n",
"Rk=(L/(k*A));// resistance of construction material, assume common brick\n",
"printf('\nThe resistance of construction material of wall is %.3f K/W',Rk);\n",
"Rc2=Rc1;\n",
"printf('\nThe resistance on right side of wall is %.3f K/W',Rc2);\n",
"printf('\n\n\t\t\tSolution to part (c)\n');\n",
"T_inf1=1000; // temperature of exhaust gases in K\n",
"T_inf2=283; // temperature of ambient air in K\n",
"q=(T_inf1-T_inf2)/(Rc1+Rk+Rc2); // heat transferred per unit area\n",
"printf('\nThe Heat transferred per unit area is %d W = %.3f kW',q,q/1000);\n",
"printf('\n\n\t\t\tSolution to part (d)\n');\n",
"T_in=T_inf1-Rc1*q; //\n",
"T_out=T_inf2+Rc2*q;\n",
"printf('\nThe inside wall temperature is %d K',T_in);\n",
"printf('\nThe outside wall temperature is %d K',T_out);"
   ]
   }
,
{
		   "cell_type": "markdown",
		   "metadata": {},
		   "source": [
			"## Example 1.8: Combined_Heat_Transfer_Mechanisms.sce"
		   ]
		  },
  {
"cell_type": "code",
	   "execution_count": null,
	   "metadata": {
	    "collapsed": true
	   },
	   "outputs": [],
"source": [
"clear;\n",
"clc;\n",
"printf('\t\t\tchapter1_example8\n\n\n');\n",
"// determination of surface temperature\n",
"k=0.604; // [BTU/(hr.ft.degree Rankine)]\n",
"hc=3; // average value for natural convection in BTU/(hr.ft^2.degree Rankine)\n",
"ew=0.93;\n",
"f_wr=1; // shape factor\n",
"sigma= 0.1714*10^(-8) // BTU/(hr.ft^2.degree Rankine).\n",
"L=4/12; // length in ft\n",
"T1=80+460; // temperature of side-walk in degree Rankine\n",
"T_inf=20+460; // temperature of ambient air in degree Rankine\n",
"T_r=0; // assuming space temperature to be 0 degree Rankine\n",
"// LHS of the form a*Tw+b*Tw^4=c\n",
"a=((k/L)+hc);\n",
"b=(sigma*ew*f_wr);\n",
"c=(k*T1/L)+(hc*T_inf)+(sigma*f_wr*ew*T_r^4);\n",
"printf('\nRHS=%d',c);\n",
"    Tw=[470;480;490;485;484.5];\n",
"for i=1:5\n",
"    LHS(i)=a*Tw(i)+b*Tw(i)^4;\n",
"end\n",
"printf('\nSolving by trial and error yields the following, where LHS is the left-hand side of the equation');\n",
"printf('\n\tTw\tLHS');\n",
"for i=1:5\n",
"    printf('\n\t%.1f\t%d',Tw(i),LHS(i));\n",
"end\n",
"printf('\nThe Surface temperature is %.1f degree R = %.1f degree F',Tw(5),Tw(i)-460);"
   ]
   }
],
"metadata": {
		  "kernelspec": {
		   "display_name": "Scilab",
		   "language": "scilab",
		   "name": "scilab"
		  },
		  "language_info": {
		   "file_extension": ".sce",
		   "help_links": [
			{
			 "text": "MetaKernel Magics",
			 "url": "https://github.com/calysto/metakernel/blob/master/metakernel/magics/README.md"
			}
		   ],
		   "mimetype": "text/x-octave",
		   "name": "scilab",
		   "version": "0.7.1"
		  }
		 },
		 "nbformat": 4,
		 "nbformat_minor": 0
}
