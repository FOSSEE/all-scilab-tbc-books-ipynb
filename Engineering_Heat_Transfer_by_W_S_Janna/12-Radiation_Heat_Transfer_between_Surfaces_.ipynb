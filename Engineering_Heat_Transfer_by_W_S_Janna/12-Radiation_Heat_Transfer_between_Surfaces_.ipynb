{
"cells": [
 {
		   "cell_type": "markdown",
	   "metadata": {},
	   "source": [
       "# Chapter 12: Radiation Heat Transfer between Surfaces "
	   ]
	},
{
		   "cell_type": "markdown",
		   "metadata": {},
		   "source": [
			"## Example 12.3: View_Factor_algebra_for_pairs_of_surfaces.sce"
		   ]
		  },
  {
"cell_type": "code",
	   "execution_count": null,
	   "metadata": {
	    "collapsed": true
	   },
	   "outputs": [],
"source": [
"clc;\n",
"clear;\n",
"printf('\t\t\tChapter12_example3\n\n\n');\n",
"//  Determination of the heat transferred by radiation from dA1 to A. \n",
"// The view factor Fd1_2 can be calculated as Fd1_2=Fd1_3+Fd1_4+Fd1_5\n",
"// For Fd1_3\n",
"a_13=100;\n",
"b_13=250;\n",
"c_13=100;\n",
"X_13=a_13/c_13;\n",
"Y_13=b_13/c_13;\n",
"printf('\nFor Fd1_3, the values of a/c=%.1f and b/c=%.1f',X_13,Y_13);\n",
"Fd1_3=0.17; // value for Fd1_3 corresponding to above calculated values of a/c and b/c\n",
"// For Fd1_4\n",
"a_14=300;\n",
"b_14=50;\n",
"c_14=100;\n",
"X_14=a_14/c_14;\n",
"Y_14=b_14/c_14;\n",
"printf('\nFor Fd1_4, the values of a/c=%.1f and b/c=%.1f',X_14,Y_14);\n",
"Fd1_4=0.11; //value for Fd1_4 corresponding to above calculated values of a/c and b/c\n",
"// For Fd1_5\n",
"a_15=100;\n",
"b_15=50;\n",
"c_15=100;\n",
"X_15=a_15/c_15;\n",
"Y_15=b_15/c_15;\n",
"printf('\nFor Fd1_5, the values of a/c=%.1f and b/c=%.1f',X_15,Y_15);\n",
"Fd1_5=0.09; //value for Fd1_3 corresponding to above calculated values of a/c and b/c\n",
"Fd1_2=Fd1_3+Fd1_4-Fd1_5;\n",
"printf('\nFd1_2=%.2f',Fd1_2);\n",
"printf('\n%d percent of the energy leaving dA1 reaches A',100*Fd1_2);\n",
"sigma=0.1714e-8; // Stefan-Boltzmann constant\n",
"T1=660;\n",
"T2=560;\n",
"q12_A1=sigma*Fd1_2*(T1^4-T2^4);\n",
"printf('\nThe net heat transferred is %.1f BTU/(hr.sq.ft)',q12_A1);"
   ]
   }
,
{
		   "cell_type": "markdown",
		   "metadata": {},
		   "source": [
			"## Example 12.4: View_Factor_algebra_for_enclosures.sce"
		   ]
		  },
  {
"cell_type": "code",
	   "execution_count": null,
	   "metadata": {
	    "collapsed": true
	   },
	   "outputs": [],
"source": [
"clc;\n",
"clear;\n",
"printf('\t\t\tChapter12_example4\n\n\n');\n",
"// Determination of the heat transferred to the conveyed parts for the conditions given\n",
"L1=1;\n",
"angle=%pi*45/180;\n",
"L2=L1*sin(angle);\n",
"L3=L2;\n",
"printf('\nThe Widths are L1=%d m, L2=%.3f m and L3=%.3f m',L1,L2,L3);\n",
"T1=303;\n",
"T2=473;\n",
"sigma=5.67e-8; // Stefan-Boltzmann constant\n",
"q21_A2=sigma*(T2^4-T1^4)*((L1/L2)+1-(L3/L2))/2;\n",
"q31_A3=sigma*(T2^4-T1^4)*((L1/L2)-1+(L3/L2))/2;\n",
"printf('\nThe heat transferred from A2 to A1 is %.2e W/sq.m',q21_A2);\n",
"printf('\nThe heat transferred from A3 to A1 is %.2e W/sq.m',q31_A3);"
   ]
   }
,
{
		   "cell_type": "markdown",
		   "metadata": {},
		   "source": [
			"## Example 12.5: Crossed_String_method.sce"
		   ]
		  },
  {
"cell_type": "code",
	   "execution_count": null,
	   "metadata": {
	    "collapsed": true
	   },
	   "outputs": [],
"source": [
"clc;\n",
"clear;\n",
"printf('\t\t\tChapter12_example5\n\n\n');\n",
"//  Determination of the heat exchanged between the two plates\n",
"// The view factor can be found with the crossed-string method\n",
"// from figure 12.13(b)\n",
"ac=1;\n",
"bd=1;\n",
"ad=(9+1)^0.5;\n",
"bc=ad;\n",
"crossed_strings=ad+bc;\n",
"uncrossed_strings=ac+bd;\n",
"L1_F12=(1/2)*(crossed_strings-uncrossed_strings);\n",
"printf('\nThe Product L1F12=%.2f ft',L1_F12);\n",
"L1=3;\n",
"F12=L1_F12/L1;\n",
"printf('\nThe view factor F12=%.2f',F12);\n",
"sigma=5.67e-8; // Stefan-Boltzmann constant\n",
"T1=560;\n",
"T2=460;\n",
"q12_A1=sigma*(T1^4-T2^4)*F12;\n",
"printf('\nThe heat transfer rate is %.2e W/sq.m',q12_A1);"
   ]
   }
,
{
		   "cell_type": "markdown",
		   "metadata": {},
		   "source": [
			"## Example 12.6: Radiation_heat_transfer_within_a_broiler.sce"
		   ]
		  },
  {
"cell_type": "code",
	   "execution_count": null,
	   "metadata": {
	    "collapsed": true
	   },
	   "outputs": [],
"source": [
"clc;\n",
"clear;\n",
"printf('\t\t\tChapter12_example6\n\n\n');\n",
"//  Determination of the heat that must be supplied to each of the isothermal surfaces, and also the temperature of the insulated surface. \n",
"// we can apply the equations as follows\n",
"// q1=sigma*A1*[(T1^4-T2^4)F12+(T1^4-T3^4)F13]..... (1)\n",
"// q2=sigma*A2*[(T2^4-T1^4)F21+(T2^4-T3^4)F23]..... (2)\n",
"// q3=sigma*A3*[(T3^4-T1^4)F31+(T3^4-T2^4)F32]..... (3)\n",
"// given data:\n",
"T1=1000;\n",
"T3=500;\n",
"q2=0;\n",
"F12=1/2;\n",
"F13=1/2;\n",
"F21=1/2;\n",
"F23=1/2;\n",
"F31=1/2;\n",
"F32=1/2;\n",
"T2=[(T1^4+T3^4)/2]^(1/4); // using equation (2)\n",
"printf('\nThe temperature T2=%.1f degree R',T2);\n",
"sigma=0.1714e-8; // Stefan-Boltzmann constant\n",
"q1_A1=sigma*[(T1^4-T2^4)*F12+(T1^4-T3^4)*F13]; // using equation (1)\n",
"printf('\nThe heat flux through area A1 is %d BTU/(hr.sq.ft)',q1_A1);\n",
"q3_A3=sigma*[(T3^4-T1^4)*F31+(T3^4-T2^4)*F32]; // using equation (3)\n",
"printf('\nThe heat flux through area A3 is %d BTU/(hr.sq.ft)',q3_A3);\n",
"printf('\nThe results are logical in that the heat entering the system (the oven itself) must equal that which leaves under steady-state conditions.');"
   ]
   }
,
{
		   "cell_type": "markdown",
		   "metadata": {},
		   "source": [
			"## Example 12.7: Radiation_heat_transfer_within_an_enclosure_of_diffuse_gray_surfaces.sce"
		   ]
		  },
  {
"cell_type": "code",
	   "execution_count": null,
	   "metadata": {
	    "collapsed": true
	   },
	   "outputs": [],
"source": [
"clc;\n",
"clear;\n",
"printf('\t\t\tChapter12_example7\n\n\n');\n",
"// Determination of the heat lost by the oven through its top surface. \n",
"// all energy leaving A1 is intercepted by A2 and vice versa\n",
"F12=1;\n",
"F21=1;\n",
"F11=0; // the surfaces are flat\n",
"F22=0;\n",
"emissivity1=0.94; // for oxidized steel from appendix table E1\n",
"emissivity2=0.94\n",
"T1=533;\n",
"T2=323;\n",
"sigma=5.67e-8; // Stefan-Boltzmann constant\n",
"q1=(sigma*(T1^4-T2^4))/((1/emissivity1)+(1/emissivity2)-1);\n",
"printf('\nThe heat lost through bottom surface is %d W/sq.m',q1);\n",
"q2=-q1;\n",
"printf('\nThe heat lost through top surface is %d W/sq.m',q2);"
   ]
   }
,
{
		   "cell_type": "markdown",
		   "metadata": {},
		   "source": [
			"## Example 12.8: EX12_8.sce"
		   ]
		  },
  {
"cell_type": "code",
	   "execution_count": null,
	   "metadata": {
	    "collapsed": true
	   },
	   "outputs": [],
"source": [
"clc;\n",
"clear;\n",
"printf('\t\t\tChapter12_example8\n\n\n');\n",
"// Determination of the net heat exchanged between the dish and the surroundings by radiation at the instant the dish is removed from the oven. Perform the calculations (a) if the dish and surroundings behave like black bodies, and again (b) if the dish has an emissivity of 0.82 and the surroundings have an emissivity of 0.93.\n",
"D=12/12; // diameter in ft\n",
"L=6/12; // length in ft\n",
"A=2*%pi*D^2/4+%pi*D*L;\n",
"printf('\nThe Surface area is %.2f sq.ft',A);\n",
"printf('\n\t\t\tSolution to part (a)\n');\n",
"F12=1; // the view factor between the dish and the surroundings is unity\n",
"T1=810;\n",
"T2=530;\n",
"sigma=0.1714e-8; // Stefan-Boltzmann constant\n",
"q1=sigma*A*(T1^4-T2^4)*F12;\n",
"printf('\nThe heat exchanged between the dish and the surroundings is %d BTU/hr',q1);\n",
"printf('\n\t\t\tSolution to part (b)\n');\n",
"// For gray-surface behavior, we can apply the following Equation\n",
"// q1/(A1e1)-[F11*(q1/A1)*(1-e1)/e1+F12*(q2/A2)*(1-e2)/e2]=sigma*T1^4-(F11*sigma*T1^4+F12*sigma*T2^4)... equation (1)\n",
"F11=0;\n",
"e1=0.82;\n",
"e2=0.93;\n",
"// putting q2/A2=0 in equation (1) as A2 tends to infinity\n",
"q1_=A*e1*[sigma*T1^4-F12*sigma*T2^4];\n",
"printf('\nThe heat exchanged between the dish and the surroundings for the second case is %d BTU/hr',q1_);"
   ]
   }
],
"metadata": {
		  "kernelspec": {
		   "display_name": "Scilab",
		   "language": "scilab",
		   "name": "scilab"
		  },
		  "language_info": {
		   "file_extension": ".sce",
		   "help_links": [
			{
			 "text": "MetaKernel Magics",
			 "url": "https://github.com/calysto/metakernel/blob/master/metakernel/magics/README.md"
			}
		   ],
		   "mimetype": "text/x-octave",
		   "name": "scilab",
		   "version": "0.7.1"
		  }
		 },
		 "nbformat": 4,
		 "nbformat_minor": 0
}
