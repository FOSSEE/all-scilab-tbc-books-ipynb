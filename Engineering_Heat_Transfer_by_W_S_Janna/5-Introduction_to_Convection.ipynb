{
"cells": [
 {
		   "cell_type": "markdown",
	   "metadata": {},
	   "source": [
       "# Chapter 5: Introduction to Convection"
	   ]
	},
{
		   "cell_type": "markdown",
		   "metadata": {},
		   "source": [
			"## Example 5.1: Heat_transferred_using_specific_heat.sce"
		   ]
		  },
  {
"cell_type": "code",
	   "execution_count": null,
	   "metadata": {
	    "collapsed": true
	   },
	   "outputs": [],
"source": [
"clc;\n",
"clear;\n",
"printf('\t\t\tChapter5_example1\n\n\n');\n",
"// properties of CO at 300K from appendix table D2\n",
"Cp=871;\n",
"Gamma=1.3;\n",
"Cv=Cp/Gamma;\n",
"printf('\nThe specific heat at constant volume is %d J/(kg.K)',Cv);\n",
"dT=20;\n",
"m=5;\n",
"Qp=m*Cp*dT;\n",
"Qv=m*Cv*dT;\n",
"printf('\n The heat required at constant pressure is %.1f kJ',Qp/1000);\n",
"printf('\nThe heat required at constant volume is %d kJ',Qv/1000);"
   ]
   }
,
{
		   "cell_type": "markdown",
		   "metadata": {},
		   "source": [
			"## Example 5.2: Volumetric_thermal_expansion_coefficient.sce"
		   ]
		  },
  {
"cell_type": "code",
	   "execution_count": null,
	   "metadata": {
	    "collapsed": true
	   },
	   "outputs": [],
"source": [
"clc;\n",
"clear;\n",
"printf('\t\t\tChapter5_example2\n\n\n');\n",
"// properties of Freon-12 from appendix table C3\n",
"T1_Fr=-50;\n",
"T2_Fr=-40;\n",
"rou1_Fr=1.546*1000;\n",
"rou2_Fr=1.518*1000;\n",
"beta_Fr=-(rou1_Fr-rou2_Fr)/(rou1_Fr*(T1_Fr-T2_Fr));\n",
"printf('\nThe volumetric thermal expansion coefficient calculated for Freon-12 is %.3e /K',beta_Fr);\n",
"beta_acc_Fr=2.63e-3; // the accurate value of volumetric thermal expansion coefficient for Freon-12\n",
"error_Fr=(beta_acc_Fr-beta_Fr)*100/beta_acc_Fr;\n",
"printf('\nThe error introduced in the case of Freon-12 is %d percent',error_Fr);\n",
"// properties of helium from appendix table D3\n",
"T1_He=366;\n",
"T2_He=477;\n",
"rou1_He=0.13280;\n",
"rou2_He=0.10204;\n",
"beta_He=-(rou1_He-rou2_He)/(rou1_He*(T1_He-T2_He));\n",
"printf('\nThe volumetric thermal expansion coefficient calculated for Freon-12 is %.3e /K',beta_He);"
   ]
   }
],
"metadata": {
		  "kernelspec": {
		   "display_name": "Scilab",
		   "language": "scilab",
		   "name": "scilab"
		  },
		  "language_info": {
		   "file_extension": ".sce",
		   "help_links": [
			{
			 "text": "MetaKernel Magics",
			 "url": "https://github.com/calysto/metakernel/blob/master/metakernel/magics/README.md"
			}
		   ],
		   "mimetype": "text/x-octave",
		   "name": "scilab",
		   "version": "0.7.1"
		  }
		 },
		 "nbformat": 4,
		 "nbformat_minor": 0
}
