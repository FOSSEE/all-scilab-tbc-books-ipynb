{
"cells": [
 {
		   "cell_type": "markdown",
	   "metadata": {},
	   "source": [
       "# Chapter 8: Natural Convection Systems "
	   ]
	},
{
		   "cell_type": "markdown",
		   "metadata": {},
		   "source": [
			"## Example 8.1: Natural_Convection_on_a_vertical_surface.sce"
		   ]
		  },
  {
"cell_type": "code",
	   "execution_count": null,
	   "metadata": {
	    "collapsed": true
	   },
	   "outputs": [],
"source": [
"clc;\n",
"clear;\n",
"printf('\t\t\tChapter8_example1\n\n\n');\n",
"// Determination of the heat transferred to the wall.\n",
"// air properties at (400+120)/2 =260 degree F = 720 degree R from Appendix Table D1\n",
"rou= 0.0551; // density in Ibm/cu.ft \n",
"cp=0.2420; // specific heat BTU/(lbm-degree Rankine) \n",
"v= 27.88e-5; // viscosity in sq.ft/s \n",
"kf = 0.01944 ; // thermal conductivity in BTU/(hr.ft.degree Rankine) \n",
"a = 1.457; // diffusivity in sq.ft/hr \n",
"Pr = 0.689; // Prandtl Number\n",
"T_inf=120+460; // wall temperature in degree R\n",
"Tw=400+460; // inside wall temperature in degree R\n",
"Beta=1/T_inf;\n",
"printf('\nThe volumetric thermal expansion coefficient is %.5f/degree R',Beta);\n",
"gc=32.2;\n",
"L=1; // length of wall in ft\n",
"W=2; // width in ft\n",
"Gr=(gc*Beta*(Tw-T_inf)*L^3)/v^2;// Grashof Number\n",
"printf('\nThe Grashof number is %.2e',Gr);\n",
"temperature_slope=0.505; //value of temperature slope from table 8.1 corresponding to Pr=.72\n",
"hL=(kf/L)*(4/3)*(Gr/4)^(1/4)*temperature_slope; // The convection coefficient in BTU/(hr.ft^2.degree R)\n",
"printf('\nThe convection coefficient is %.2f BTU/(hr.sq.ft.degree R)',hL);\n",
"A=L*W; // cross sectional area in sq.ft\n",
"qw=hL*A*(Tw-T_inf);\n",
"printf('\nThe heat transferred is %d BTU/hr',qw);"
   ]
   }
,
{
		   "cell_type": "markdown",
		   "metadata": {},
		   "source": [
			"## Example 8.2: 1D_heat_flow_through_a_window_glass.sce"
		   ]
		  },
  {
"cell_type": "code",
	   "execution_count": null,
	   "metadata": {
	    "collapsed": true
	   },
	   "outputs": [],
"source": [
"clc;\n",
"clear;\n",
"printf('\t\t\tChapter8_example2\n\n\n');\n",
"// Determination of heat lost through the glass per unit area\n",
"// properties of air at  22 + 273 = 295 K = 300 K(approx) and 273 K from appendix table D1\n",
"rou= [1.177 1.295]; // density in kg/cu.m\n",
"cp= [1005 1005.5]; // specific heat in J/(kg*K) \n",
"v= [15.68e-6 12.59e-6]; // viscosity in sq.m/s  \n",
"Pr = [0.708 0.713]; // Prandtl Number \n",
"kf= [0.02624 0.02426]; // thermal conductivity in W/(m.K)\n",
"a = [0.22160e-4 0.17661e-4]; // diffusivity in sq.m/s \n",
"T_inf=[22 0]// inside and outside temperature in K\n",
"Beta=[1/(T_inf(1)+273) 1/(T_inf(2)+273)]; // volumetric thermal expansion coefficient at 295 K and 273 K\n",
"printf('\nThe volumetric thermal expansion coefficients at 295 K and 273 K are respectively %.5f and %.5f',Beta(1),Beta(2));\n",
"g=9.81;\n",
"t=0.005; // thickness of glass\n",
"L=0.60; // window length in m\n",
"k=0.81; // thermal conductivity of glass from appendix table B3\n",
"// for first guess\n",
"Tw=[18 4];\n",
"printf('\nFor first guess, the results are:\n');\n",
"for i=1:2\n",
"    Ra(i)=(g*Beta(i)*(Tw(i)-T_inf(i))*L^3)/(v(i)*a(i));\n",
"    hL(i)=(kf(i)/L)*(0.68+((0.67*(abs(Ra(i)))^(1/4))/(1+(0.492/Pr(i))^(9/16))^(4/9)));\n",
"end\n",
"printf('\nThe Rayleigh Numbers are %.3e and %.3e',-Ra(1),Ra(2));\n",
"printf('\nThe convective coefficients are %.2f W/(sq.m.K) and %.2f W/(sq.m.K)',hL(1),hL(2));\n",
"q=(T_inf(1)-T_inf(2))/((1/hL(2))+(t/k)+(1/hL(1)));\n",
"printf('\nThe heat flux is %.1f W/sq.m',q);\n",
"for i=1:2\n",
"    Tw_final(i)=T_inf(i)-q*(1/hL(i));\n",
"    printf('\nThe wall temperature calculated is %.1f',abs(Tw_final(i)));\n",
"    Tw(i)=abs(Tw_final(i)); // second guess\n",
"end\n",
"printf('\nFor second guess, the results are:\n');\n",
"for i=1:2\n",
"    Ra(i)=(g*Beta(i)*(Tw(i)-T_inf(i))*L^3)/(v(i)*a(i));\n",
"    hL(i)=(kf(i)/L)*(0.68+((0.67*(abs(Ra(i)))^(1/4))/(1+(0.492/Pr(i))^(9/16))^(4/9)));\n",
"end\n",
"printf('\nThe Rayleigh Numbers are %.3e and %.3e',-Ra(1),Ra(2));\n",
"printf('\nThe convective coefficients are %.2f W/(sq.m.K) and %.2f W/(sq.m.K)',hL(1),hL(2));\n",
"q=(T_inf(1)-T_inf(2))/((1/hL(2))+(t/k)+(1/hL(1)));\n",
"printf('\nThe heat flux is %.1f W/sq.m',q);\n",
"for i=1:2\n",
"    Tw_final(i)=T_inf(i)-q*(1/hL(i));\n",
"    printf('\nThe wall temperature calculated is %.1f degree celsius',abs(Tw_final(i)));\n",
"end"
   ]
   }
,
{
		   "cell_type": "markdown",
		   "metadata": {},
		   "source": [
			"## Example 8.3: The_cooling_unit_of_a_refrigerator.sce"
		   ]
		  },
  {
"cell_type": "code",
	   "execution_count": null,
	   "metadata": {
	    "collapsed": true
	   },
	   "outputs": [],
"source": [
"clc;\n",
"clear;\n",
"printf('\t\t\tChapter8_example3\n\n\n');\n",
"// determination of heat loss through the side.\n",
"rou= 0.0735; // density in Ibm/cu.ft \n",
"cp=0.240; // specific heat BTU/(lbm-degree Rankine) \n",
"v= 16.88e-5; // viscosity in sq.ft/s \n",
"kf = 0.01516 ; // thermal conductivity in BTU/(hr.ft.degree Rankine) \n",
"a = 0.859; // diffusivity in sq.ft/hr \n",
"Pr = 0.708; // Prandtl Number\n",
"Tw=90;\n",
"T_inf=70;\n",
"g=32.2;\n",
"L=5.5; // length in ft\n",
"W=2+(4/12); // width in ft\n",
"Beta=1/(Tw+460); // volumetric thermal expansion coefficient in per degree Rankine\n",
"printf('\nThe volumetric thermal expansion coefficient is %.5f /degree R',Beta);\n",
"Ra=(g*Beta*(Tw-T_inf)*L^3)/(v*a/3600);\n",
"printf('\nThe Rayleigh Number is %.2e ',Ra);\n",
"hc=(kf/L)*(0.825+((0.387*(Ra)^(1/6))/(1+(0.492/Pr)^(9/16))^(8/27)))^2;\n",
"printf('\nThe value of convection coefficient is %.3f BTU/(hr.sq.ft.degree R)',hc);\n",
"q=hc*L*W*(Tw-T_inf);\n",
"printf('\nThe heat gained is %d BTU/hr',q);"
   ]
   }
,
{
		   "cell_type": "markdown",
		   "metadata": {},
		   "source": [
			"## Example 8.4: Natural_convection_on_an_inclined_flat_plate.sce"
		   ]
		  },
  {
"cell_type": "code",
	   "execution_count": null,
	   "metadata": {
	    "collapsed": true
	   },
	   "outputs": [],
"source": [
"clc;\n",
"clear;\n",
"printf('\t\t\tChapter8_example4\n\n\n');\n",
"// Determination of the variation of average convection coefficient with distance\n",
"// properties of air at (65 + 20)/2 = 42.5 degree C =315 K. from appendix table D1\n",
"rou= 1123; // density in kg/m^3 \n",
"cp= 1006.7; // specific heat in J/(kg*K) \n",
"v= 17.204e-6; // viscosity in m^2/s  \n",
"Pr =0.703; // Prandtl Number \n",
"kf= 0.02738; // thermal conductivity in W/(m.K)\n",
"a = 0.2446e-4; // diffusivity in m^2/s \n",
"g=9.81;\n",
"L=5;\n",
"theta=45;\n",
"T_inf=20; // ambient air temperature in degree C\n",
"Tw=65; // roof surface temperature in degree C\n",
"Beta=1/(T_inf+273); // volumetric thermal expansion coefficient in per K\n",
"printf('\nThe volumetric thermal expansion coefficient is %.5f /K',Beta);\n",
"// determination of Laminar-turbulent  transition length by Vliet equation Ra=3x10^5xexp(0.1368cos(90-theta))\n",
"x=((3e5*exp(0.1368*cos(90-theta))*v*a)/(g*cos(theta)*Beta*(Tw-T_inf)))^(1/3);\n",
"printf('\nThe Laminar-turbulent  transition length by Vliet equation is %.3f m',x);\n",
"i=1;\n",
"N=1;\n",
"n=0;\n",
"X=[0.02 0.04 0.05 0.051 0.1 1.0 3.0 5.0]; // entering values for length(m)\n",
"[n m]=size(X);\n",
"for i=1:m\n",
"    if X(i)<=x then\n",
"        // Laminar Flow regime exists\n",
"        Ra(i)=(g*cos(%pi*45/180)*Beta*(Tw-T_inf)*X(i)^3)/(v*a);\n",
"        hc(i)=(kf/X(i))*(0.68+(0.670*Ra(i)^(1/4))/(1+(0.492/Pr)^(9/16))^(4/9));\n",
"    else\n",
"        // Turbulent Flow regime exists\n",
"        Ra(i)=(g*Beta*(Tw-T_inf)*X(i)^3)/(v*a);\n",
"        hc(i)=(0.02738/X(i))*(0.825+0.324*Ra(i)^(1/6))^2;\n",
"    end\n",
"end\n",
"printf('\n\tx,m\t\tRa\t\thc,W/(sq.m.K)\n');\n",
"for i=1:m\n",
"    printf('\t%.2f\t\t%.2e\t%.2f\n',X(i),Ra(i),hc(i));\n",
"end"
   ]
   }
,
{
		   "cell_type": "markdown",
		   "metadata": {},
		   "source": [
			"## Example 8.5: Natural_convection_on_a_horizontal_flat_surface.sce"
		   ]
		  },
  {
"cell_type": "code",
	   "execution_count": null,
	   "metadata": {
	    "collapsed": true
	   },
	   "outputs": [],
"source": [
"clc;\n",
"clear;\n",
"printf('\t\t\tChapter8_example5\n\n\n');\n",
"// determine if heat is lost lose more heat through its upper surface or one of its vertical sides\n",
"// properties of air at (100 + 60)/2 = 80°F = 540 degree R from appendix table D1\n",
"rou= 0.0735; // density in lbm/cu.ft\n",
"cp=0.240; // specific heat BTU/(lbm-degree Rankine) \n",
"v= 16.88e-5; // viscosity in sq.ft/s \n",
"kf = 0.01516 ; // thermal conductivity in BTU/(hr.ft.degree Rankine) \n",
"a = 0.859; // diffusivity in sq.ft/hr \n",
"Pr = 0.708; // Prandtl Number\n",
"Tw=100; // temperature of outside surface temperature of oven in degree F\n",
"T_inf=60; // ambient temperature  in degree F\n",
"g=32.2;\n",
"L=2; // length in ft\n",
"W=2; // width in ft\n",
"Beta=1/(T_inf+460); // volumetric thermal expansion coefficient in per degree Rankine\n",
"printf('\nThe volumetric thermal expansion coefficient is %.5f /degree R',Beta);\n",
"Ra=(g*Beta*(Tw-T_inf)*L^3)/(v*a/3600);\n",
"printf('\nThe Rayleigh Number is %.2e ',Ra);\n",
"hc=(kf/L)*(0.68+(0.670*Ra^(1/4))/(1+(0.492/Pr)^(9/16))^(4/9));\n",
"printf('\nThe value of convection coefficient is %.3f BTU/(hr.sq.ft.degree R)',hc);\n",
"q1side=hc*L*W*(Tw-T_inf);\n",
"printf('\nThe heat transferred from one side is %.1f BTU/hr',q1side);\n",
"// For the top, we have a heated  surface facing upward, The characteristic length is determined as follows\n",
"Lc=(2*2)/(2+2+2+2);\n",
"Ra_L=(g*Beta*(Tw-T_inf)*Lc^3)/(v*a/3600); // Rayleigh number based on characteristic length\n",
"printf('\nThe Rayleigh Number based on characteristic length is %.2e ',Ra_L);\n",
"hc_L=(kf/Lc)*0.54*(Ra_L)^(1/4);\n",
"printf('\nThe convective coefficient based on characteristic length is %.3f BTU/(hr.sq.ft.degree R)',hc_L);\n",
"qtop=hc_L*L*W*(Tw-T_inf);\n",
"printf('\nThe heat transferred from top is %d BTU/hr',qtop);\n",
"if qtop>q1side then\n",
"    printf('\nThe top transfers heat at a higher rate');\n",
"elseif qtop<q1side\n",
"    printf('\nThe side transfers heat at a higher rate');\n",
"    else printf('\nThe top and side transfer heat at equal rates');\n",
"end"
   ]
   }
,
{
		   "cell_type": "markdown",
		   "metadata": {},
		   "source": [
			"## Example 8.6: Natural_convection_on_cylinders.sce"
		   ]
		  },
  {
"cell_type": "code",
	   "execution_count": null,
	   "metadata": {
	    "collapsed": true
	   },
	   "outputs": [],
"source": [
"clc;\n",
"clear;\n",
"printf('\t\t\tChapter8_example6\n\n\n');\n",
"// determination of heat lost from the insulation by convection\n",
"// properties of air at (50 + 5)/2 = 27.5 degree C = 300 K from appendix table D1\n",
"rou= 1.177; // density in kg/cu.m\n",
"cp= 1005.7; // specific heat in J/(kg*K) \n",
"v= 15.68e-6; // viscosity in sq.m/s  \n",
"Pr =0.708; // Prandtl Number \n",
"kf= 0.02624; // thermal conductivity in W/(m.K)\n",
"a = 0.22160e-4; // diffusivity in sq.m/s \n",
"g=9.81;\n",
"L=4; // length in m\n",
"D=15/100; // diameter in m\n",
"T_inf=5; // ambient air temperature in degree C\n",
"Tw=50; // outside surface temperature in degree C\n",
"Beta=1/(T_inf+273); // volumetric thermal expansion coefficient in per K\n",
"printf('\nThe volumetric thermal expansion coefficient is %.5f /K',Beta);\n",
"Ra=(g*Beta*(Tw-T_inf)*D^3)/(v*a);\n",
"printf('\nThe Rayleigh Number is %.2e ',Ra);\n",
"// for horizontal pipe, the convective coefficient is determined as follows\n",
"hc_h=(kf/D)*(0.60+(0.387*Ra^(1/6))/(1+(0.559/Pr)^(9/16))^(8/27))^2;\n",
"printf('\nThe convection coefficient for horizontal length is %.2f W/(sq.m.K)',hc_h);\n",
"As=%pi*D*L;\n",
"q_hor=hc_h*As*(Tw-T_inf);\n",
"printf('\nThe heat transferred from the horizontal length of 4 m is %d W',q_hor);\n",
"// for vertical pipe, the convective coefficient is determined as follows\n",
"hc_v=(kf/D)*0.6*(Ra*(D/L))^(1/4);\n",
"printf('\nThe convection coefficient for vertical length is %.2f W/(sq.m.K)',hc_v);\n",
"q_ver=hc_v*As*(Tw-T_inf);\n",
"printf('\nThe heat transferred from the vertical length of 4 m is %d W',q_ver);\n",
"q=q_ver+q_hor;\n",
"printf('\nThe total heat lost from the pipe is %d W',q);"
   ]
   }
,
{
		   "cell_type": "markdown",
		   "metadata": {},
		   "source": [
			"## Example 8.7: Natural_convection_around_blocks.sce"
		   ]
		  },
  {
"cell_type": "code",
	   "execution_count": null,
	   "metadata": {
	    "collapsed": true
	   },
	   "outputs": [],
"source": [
"clc;\n",
"clear;\n",
"printf('\t\t\tChapter8_example7\n\n\n');\n",
"//  Determinion of the convection coefficient about the ice cube\n",
"// properties of air at (0 + 70)/2 = 35°F == 495 degree R from appendix table D1\n",
"rou= 0.0809; // density in lbm/cu.ft \n",
"cp=0.240; // specific heat BTU/(lbm-degree Rankine) \n",
"v= 13.54e-5; // viscosity in sq.ft/s \n",
"kf = 0.01402 ; // thermal conductivity in BTU/(hr.ft.degree Rankine) \n",
"a = 0.685; // diffusivity in sq.ft/hr \n",
"Pr = 0.712; // Prandtl Number\n",
"Tw=0; // temperature of outside surface temperature of oven in degree F\n",
"T_inf=70; // ambient temperature  in degree F\n",
"g=32.2;\n",
"Beta=1/(T_inf+460); // volumetric thermal expansion coefficient in per degree Rankine\n",
"printf('\nThe volumetric thermal expansion coefficient is %.5f /degree R',Beta);\n",
"//  The characteristic length is found by using King Equation\n",
"Lc=1/((1/1)+(1/1.2));\n",
"printf('\nThe characteristic length is %.3f ft',Lc);\n",
"Ra=(g*Beta*abs(Tw-T_inf)*Lc^3)/(v*a/3600);\n",
"printf('\nThe Rayleigh Number is %.2e ',Ra);\n",
"hc=(kf/Lc)*0.6*(Ra)^(1/4);\n",
"printf('\nThe value of convection coefficient is %.2f BTU/(hr.sq.ft.degree R)',hc);"
   ]
   }
,
{
		   "cell_type": "markdown",
		   "metadata": {},
		   "source": [
			"## Example 8.8: Natural_convection_about_an_array_of_fins.sce"
		   ]
		  },
  {
"cell_type": "code",
	   "execution_count": null,
	   "metadata": {
	    "collapsed": true
	   },
	   "outputs": [],
"source": [
"clc;\n",
"clear;\n",
"printf('\t\t\tChapter8_example8\n\n\n');\n",
"// determination of the maximum  amount of heat that fins can transfer\n",
"// properties of air at (100 + 35)/2 = 67.5 degree C from appendix table D1\n",
"rou= 0.998; // density in kg/cu.m\n",
"cp= 1009.0; // specific heat in J/(kg*K) \n",
"v= 20.76e-6; // viscosity in sq.m/s  \n",
"Pr =0.697; // Prandtl Number \n",
"kf= 0.03003; // thermal conductivity in W/(m.K)\n",
"a = 0.2983e-4; // diffusivity in sq.m/s \n",
"g=9.81;\n",
"T_inf=35; // ambient air temperature in degree C\n",
"Tw=100; // surface temperature in degree C\n",
"Beta=1/(T_inf+273); // volumetric thermal expansion coefficient in per K\n",
"printf('\nThe volumetric thermal expansion coefficient is %.5f /K',Beta);\n",
"// properties of aluminium from appendix table B1\n",
"rou_Al=2702; // density in kg/cu.m\n",
"k_Al=236; // thermal conductivity in W/(m.K)\n",
"cp_Al=896;// specific heat in J/(kg*K) \n",
"a_Al=97.5e-6; // diffusivity in sq.m/s \n",
"b=46/100;\n",
"w=24/100;\n",
"// Applying the Bar-Cohen Equations\n",
"zeta=((w*v^2)/(g*Beta*(Tw-T_inf)*Pr))^(1/4);\n",
"printf('\nThe value of zeta is %.2e ',zeta);\n",
"L=1.54*(k_Al/kf)^(1/2)*zeta;\n",
"printf('\nThe fin length is %.3f m',L);\n",
"S=2.89*zeta;\n",
"printf('\nThe fin spacing is %.5f m',S);\n",
"q=(b*w*(Tw-T_inf)*1.3*(k_Al*kf)^(1/2))/(6*zeta);\n",
"printf('\nThe heat transfer rate is %d W',q);\n",
"N=b/(2*S);\n",
"printf('\nThe number of fins can be atmost %d',N);"
   ]
   }
],
"metadata": {
		  "kernelspec": {
		   "display_name": "Scilab",
		   "language": "scilab",
		   "name": "scilab"
		  },
		  "language_info": {
		   "file_extension": ".sce",
		   "help_links": [
			{
			 "text": "MetaKernel Magics",
			 "url": "https://github.com/calysto/metakernel/blob/master/metakernel/magics/README.md"
			}
		   ],
		   "mimetype": "text/x-octave",
		   "name": "scilab",
		   "version": "0.7.1"
		  }
		 },
		 "nbformat": 4,
		 "nbformat_minor": 0
}
