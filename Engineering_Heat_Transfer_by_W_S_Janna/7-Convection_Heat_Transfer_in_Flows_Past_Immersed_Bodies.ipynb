{
"cells": [
 {
		   "cell_type": "markdown",
	   "metadata": {},
	   "source": [
       "# Chapter 7: Convection Heat Transfer in Flows Past Immersed Bodies"
	   ]
	},
{
		   "cell_type": "markdown",
		   "metadata": {},
		   "source": [
			"## Example 7.10: Pressure_Drop_for_flow_over_tubes.sce"
		   ]
		  },
  {
"cell_type": "code",
	   "execution_count": null,
	   "metadata": {
	    "collapsed": true
	   },
	   "outputs": [],
"source": [
"clc;\n",
"clear;\n",
"printf('\t\t\tChapter7_example10\n\n\n');\n",
"// Calculation of the pressure drop for the air passing over the tubes and the heat transferred to the air.\n",
"// properties of air at  70 + 460 = 530 degree R = 540 degree R from appendix table D1\n",
"rou= 0.0735; // density in Ibm/cu.ft \n",
"cp=0.240; // specific heat BTU/(lbm-degree Rankine) \n",
"v= 16.88e-5; // viscosity in sq.ft/s \n",
"kf = 0.01516 ; // thermal conductivity in BTU/(hr.ft.degree Rankine) \n",
"a = 0.859; // diffusivity in sq.ft/hr \n",
"Pr = 0.708; // Prandtl Number\n",
"// specifications of 3/4 standard type K copper tubing from appendix table F2\n",
"OD=0.875/12; // outer diameter in ft\n",
"ID=0.06208; // inner diameter in ft\n",
"A=0.003027; // cross sectional area in sq.ft\n",
"L=2;\n",
"sL=1.5/12;\n",
"sT=1.3/12;\n",
"V_inf=12; // velocity of air in ft/s\n",
"V1=(sT*V_inf)/(sT-OD); // velocity at area A1 in ft/s\n",
"printf('\nVelocity at area A1 is %.1f ft/s',V1);\n",
"sD=((sL)^2+(sT/2)^2)^0.5; // diagonal pitch in inch\n",
"printf('\nThe diagonal pitch is %.2f in',sD*12);\n",
"V2=(sT*V_inf)/(2*(sD-OD));\n",
"printf('\nVelocity at area A2 is %.1f ft/s',V2);\n",
"if V1>V2 then\n",
"    Vmax=V1;\n",
"    else Vmax=V2;\n",
"end\n",
"Re_D=Vmax*OD/v; // Reynolds Number\n",
"printf('\nThe Reynolds number is %.2e ',Re_D);\n",
"sT_OD=1.3/0.875;\n",
"sT_sL=1.3/1.5;\n",
"printf('\nThe values of parameters are sT/Do=%.2f and sT/sL=%.2f',sT_OD,sT_sL);\n",
"f1=0.35; //value of f1 for above values of sT/Do and Re\n",
"f2=1.05; //Corresponding value of f2 for above values of sT/sL and Re\n",
"gc=32.2;\n",
"N=7;\n",
"dP=N*f1*f2*(rou*Vmax^2/(2*gc));\n",
"printf('\nThe pressure drop is %.2f lbf/ft^2 = %.4f psi',dP, dP/147);\n",
"sL_Do=sL/OD;\n",
"C1=0.438; //value of C1 for above values of sT/Do and sL/Do\n",
"C2=0.97; //value of C2 for above values of sT/Do and sL/Do\n",
"m=0.565; //value of m for above values of sT/Do and sL/Do\n",
"hc=kf*1.13*C1*C2*(Re_D)^m*(Pr)^(1/3)/OD; // The convection coefficient\n",
"printf('\nThe convection coefficient is %.1f BTU/(hr.sq.ft.degree Rankine)',hc);\n",
"As=70*%pi*OD*L; // outside surface area of 70 tubes\n",
"printf('\nThe outside surface area of 70 tubes is %.1f sq.ft',As);\n",
"Tw=200; // outside surface temeperature in degree F\n",
"T_inf=70; // air temperature in degree F\n",
"q=hc*As*(Tw-T_inf);// heat transferred\n",
"printf('\nThe heat transferred is %.2e BTU/hr',q);"
   ]
   }
,
{
		   "cell_type": "markdown",
		   "metadata": {},
		   "source": [
			"## Example 7.1: Laminar_Boundary_Layer_flow_over_flat_plate.sce"
		   ]
		  },
  {
"cell_type": "code",
	   "execution_count": null,
	   "metadata": {
	    "collapsed": true
	   },
	   "outputs": [],
"source": [
"clc;\n",
"clear;\n",
"printf('\t\t\tChapter7_example1\n\n\n');\n",
"printf('\t\t\tSolution to part (a)\n');\n",
"// determination of boundary layer growth with length\n",
"// properties of air at 27 degree celsius from appendix table D.1\n",
"rou=1.177; // density in kg/cu.m\n",
"v=15.68e-6; // viscosity in sq.m/s\n",
"L=0.5; // length in m\n",
"V_inf=1; // air velocity in m/s\n",
"Re= (V_inf*L)/v; // Reynolds Number\n",
"printf('The Reynolds Number is %.2e ',Re);\n",
"// Reynolds Number is less than 5e5 hence the flow is laminar and Blasius Solution applies\n",
"x=[0 0.125 0.25 0.375 0.5]; // distances in m where boundary layer growth is determined\n",
"[n,m]=size(x);\n",
"for i=1:m\n",
"    delta(i)=5*x(i)^0.5/(V_inf/v)^0.5;\n",
"end\n",
"subplot(211);\n",
"plot(x,delta);\n",
"a=gca();\n",
"newTicks=a.x_ticks;\n",
"newTicks(2)=[0;0.125;0.25;0.375;0.5];\n",
"newTicks(3)=['0';'0.125';'0.25';'0.375';'0.50'];\n",
"a.x_ticks=newTicks;\n",
"title('Boundary-layer growth with distance');\n",
"xlabel('x, m');\n",
"ylabel('delta, m^(1/2)');\n",
"printf('\n\t\t\tSolution to part (b)\n');\n",
"// produce graph of velocity distribution at x=0.25 m\n",
"eta=0:5;\n",
"[p,q]=size(eta);\n",
"f=[0 0.32979 0.62977 0.84605 0.95552 0.99155];//value for f for corresponding eta value from Table 7.1\n",
"for j=1:q\n",
"    y(j)=eta(j)*(v*0.25)^0.5;\n",
"end\n",
"printf('\n\t\t\tResults of Calculations for Example 7.1\n');\n",
"printf('\teta\t\ty,m\t\t\tf=vx, m/s\n');\n",
"for i=1:q\n",
"printf('\t%d\t\t%.2e\t\t%.5f\n',eta(i),y(i),f(i));\n",
"end\n",
"subplot(212);\n",
"plot(f,y);\n",
"b=gca();\n",
"newTicks1=b.x_ticks;\n",
"newTicks1(2)=[0;0.25;0.5;0.75;1.0];\n",
"newTicks1(3)=['0';'0.25';'0.5';'0.75';'1.0'];\n",
"b.x_ticks=newTicks1;\n",
"newTicks2=b.y_ticks;\n",
"newTicks2(2)=[0;0.0025;0.005;0.0075;0.010];\n",
"newTicks2(3)=['0';'0.0025';'0.005';'0.0075';'0.010'];\n",
"b.y_ticks=newTicks2;\n",
"title('Velocity Distribution at x=0.25 m');\n",
"xlabel('Vx, m/s');\n",
"ylabel('y, m');\n",
"printf('\t\t\tSolution to part (c)\n');\n",
"// calculation of absolute viscosity\n",
"gc=1;\n",
"mu=rou*v/gc;\n",
"printf('\nThe absolute viscosity is %.3e N.s/sq.m',mu);\n",
"b=1; // width in m\n",
"Df=0.664*V_inf*mu*b*(Re)^0.5;\n",
"printf('\nThe skin-drag is %.2e N',Df);\n",
"printf('\nThe skin-drag including both sides of plate is %.2e N',2*Df);"
   ]
   }
,
{
		   "cell_type": "markdown",
		   "metadata": {},
		   "source": [
			"## Example 7.2: Flow_over_plate_at_constant_temperature.sce"
		   ]
		  },
  {
"cell_type": "code",
	   "execution_count": null,
	   "metadata": {
	    "collapsed": true
	   },
	   "outputs": [],
"source": [
"clc;\n",
"clear;\n",
"printf('\t\t\tChapter7_example2\n\n\n');\n",
"// determination of temperature profile\n",
"// properties of water at (40 + 100)/2 = 70°F = 68°F from appendix table C11\n",
"rou= 62.4; // density in Ibm/ft^3 \n",
"cp=0.9988; // specific heat BTU/(lbm-degree Rankine) \n",
"v= 1.083e-5; // viscosity in sq.ft/s \n",
"kf = 0.345 ; // thermal conductivity in BTU/(hr.ft.degree Rankine) \n",
"a = 5.54e-3; // diffusivity in sq.ft/hr \n",
"Pr = 7.02; // Prandtl Number\n",
"V=1.2; // velocity in ft/s\n",
"x=[1 2]; // distances from plate entry in ft\n",
"for i=1:2\n",
"Re(i)=(V*x(i))/v; // Reynolds Number at x=1 ft\n",
"printf('\nThe Reynolds Number at x=%d ft is %.3e',i,Re(i));\n",
"// since Reynolds Number is less than 5*10^5, the flow is laminar\n",
"hL(i)=0.664*Pr^(1/3)*Re(i)^0.5*kf/x(i);\n",
"printf('\nThe average convection coefficient at x=%d is %.1f BTU/(hr. sq.ft. degree Rankine)',i,hL(i));\n",
"Tw=100; // temperature of metal plate in degree fahrenheit\n",
"T_inf=40; // temperature of water in degree fahrenheit\n",
"A(i)=x(i)*18/12; // cross sectional area for 1 ft length\n",
"q(i)=hL(i)*A(i)*(Tw-T_inf);\n",
"printf('\nThe heat transferred to water over the x=%d ft is %.3e BTU/hr',i,q(i));\n",
"end\n",
"eta=0:0.2:1.2;\n",
"[n m]=size(eta);\n",
"theta=[1 .75 .51 .31 .17 .08 0.01]; // values of dimensionless temperature from figure 7.7 corresponding to eta value taken\n",
"for i=1:m\n",
"y(i)=eta(i)*(v*x(1)/V(1))^0.5;\n",
"T(i)=theta(i)*(Tw-T_inf)+T_inf;\n",
"end\n",
"printf('\nSolution Chart for example 7.2\n');\n",
"printf('\teta\t\ttheta\t\ty, ft\t\t\tT, degree F\n');\n",
"for i=1:m\n",
"printf('\t%.1f\t\t%.2f\t\t%.1e\t\t\t%.1f\n',eta(i),theta(i),y(i),T(i));\n",
"end\n",
"plot(T,y);\n",
"a=gca();\n",
"newTicks=a.x_ticks;\n",
"newTicks(2)=[100; 90; 80; 70; 60;50; 40];\n",
"newTicks(3)=['100'; '90'; '80'; '70'; '60';'50'; '40'];\n",
"a.x_ticks=newTicks;\n",
"newTicks1=a.y_ticks;\n",
"newTicks1(2)=[0; 0.001; 0.002; 0.003; 0.004];\n",
"newTicks1(3)=['0'; '0.001'; '0.002'; '0.003'; '0.004'];\n",
"a.y_ticks=newTicks1;\n",
"a.axes_reverse=['on','off'];\n",
"xgrid(1);\n",
"title('Temperature variation (at x = 1 ft) within the boundary layer for the water');\n",
"xlabel('T, degree Fahrenheit');\n",
"ylabel('y, ft');"
   ]
   }
,
{
		   "cell_type": "markdown",
		   "metadata": {},
		   "source": [
			"## Example 7.3: Flow_over_Isothermal_flat_plate.sce"
		   ]
		  },
  {
"cell_type": "code",
	   "execution_count": null,
	   "metadata": {
	    "collapsed": true
	   },
	   "outputs": [],
"source": [
"clc;\n",
"clear;\n",
"printf('\t\t\tChapter7_example3\n\n\n');\n",
"// Determination of  the average  convection  coefficient and the total drag force exerted  on the plate.\n",
"// properties of air at (300 + 400)/2 = 350 K from appendix table D1\n",
"rou= 0.998; // density in kg/cu.m\n",
"cp= 1009; // specific heat in J/(kg*K) \n",
"v= 20.76e-6; // viscosity in sq.m/s  \n",
"Pr = 0.697; // Prandtl Number \n",
"k= 0.03003; // thermal conductivity in W/(m.K)\n",
"a = 0.2983e-4; // diffusivity in sq.m/s \n",
"L=1; // Length of plate in m\n",
"V=5; // velocity of air in m/s\n",
"b=0.5; // width in m\n",
"Re=V*L/v; // Reynolds number at plate end\n",
"printf('\nThe Reynolds number is %.2e',Re);\n",
"// Since the flow is laminar at plate end, The average convection coefficient is calculated with Equation Nu=h*L/k= 0.664 Re^(1/2)Pr^(1/3)\n",
"h=k*0.664*Re^(1/2)*Pr^(1/3)/L; // The average convection coefficient in W/(sq.m.K)\n",
"printf('\nThe average convection coefficient is %.2f W/(sq.m.K)',h);\n",
"Df=0.664*V*rou*v*b*(Re)^0.5; // drag force in N\n",
"printf('\nThe drag force is %.2e N',Df);\n",
"hx=(1/2)*h; // local convective coefficient\n",
"printf('\nThe local convective coefficient is %.2f  W/(sq.m.K)',hx);\n",
"delta=5*L/(Re)^0.5; // The boundary-layer thickness at plate end\n",
"printf('\nThe boundary-layer thickness at plate end is %.2f cm',delta*100);\n",
"delta_t=delta/(Pr)^(1/3);\n",
"printf('\nThe thermal-boundary-layer thickness is %.2f cm',delta_t*100); "
   ]
   }
,
{
		   "cell_type": "markdown",
		   "metadata": {},
		   "source": [
			"## Example 7.4: Maximum_heater_surface_temperature.sce"
		   ]
		  },
  {
"cell_type": "code",
	   "execution_count": null,
	   "metadata": {
	    "collapsed": true
	   },
	   "outputs": [],
"source": [
"clc;\n",
"clear;\n",
"printf('\t\t\tChapter7_example4\n\n\n');\n",
"//  Determination of the maximum heater-surface temperature for given conditions\n",
"// fluid properties at (300 degree R + 800 degree R)/2 = 550 degree R=540degree R from Appendix Table D.6\n",
"rou= 0.0812; // density in Ibm/ft^3 \n",
"cp=0.2918; // specific heat BTU/(lbm-degree Rankine) \n",
"v= 17.07e-5; // viscosity in ft^2/s \n",
"kf = 0.01546 ; // thermal conductivity in BTU/(hr.ft.degree Rankine) \n",
"a = 0.8862; // diffusivity in ft^2/hr \n",
"Pr = 0.709; // Prandtl Number\n",
"qw=10/(1.5*10.125)*(1/.2918)*144; // The wall flux \n",
"printf('\nThe wall flux is %d BTU/(hr. sq.ft)',qw);\n",
"V_inf=20; // velocity in ft/s\n",
"L=1.5/12; // length in ft\n",
"Re_L=V_inf*10*L/v; // Reynolds number at plate end\n",
"printf('\nThe Reynolds number at plate end is %.2e',Re_L);\n",
"// So the flow is laminar and we can find the wall temperature at plate end as follows\n",
"T_inf=300; // free stream temperature in degree Rankine\n",
"Tw=T_inf+(qw*L*10/(kf*0.453*(Re_L)^0.5*(Pr)^(1/3)));\n",
"printf('\nThe maximum heater surface temperature is %d degree Rankine',Tw);"
   ]
   }
,
{
		   "cell_type": "markdown",
		   "metadata": {},
		   "source": [
			"## Example 7.5: Reynolds_Colburn_Analogy.sce"
		   ]
		  },
  {
"cell_type": "code",
	   "execution_count": null,
	   "metadata": {
	    "collapsed": true
	   },
	   "outputs": [],
"source": [
"clc;\n",
"clear;\n",
"printf('\t\t\tChapter7_example5\n\n\n');\n",
"// validation of the equation st.(Pr)^(2/3)=Cd/2 where St: Stanton Number Pr:Prandtl Number Cd: Drag Coefficient\n",
"// values of parameters from example 7.4\n",
"rou= 0.0812; // density in Ibm/ft^3 \n",
"cp=0.2918; // specific heat BTU/(lbm-degree Rankine) \n",
"v= 17.07e-5; // viscosity in ft^2/s \n",
"kf = 0.01546 ; // thermal conductivity in BTU/(hr.ft.degree Rankine) \n",
"a = 0.8862; // diffusivity in ft^2/hr \n",
"Pr = 0.709; // Prandtl Number\n",
"Tw=469; // maximum heater temperature in degree Rankine\n",
"T_inf=300; // free-stream temperature in degree Rankine\n",
"qw=324; // The wall flux in BTU/(hr.ft^2)\n",
"V_inf=20; // velocity in ft/s\n",
"hx=qw/(Tw-T_inf); //  The convection coefficient\n",
"printf('\nThe convection coefficient is %.2f BTU/(hr.sq.ft.degree R)',hx);\n",
"LHS=(hx/3600)*(Pr)^(2/3)/(rou*cp*V_inf);\n",
"printf('\nThe value of left hand side of the equation is %.2e',LHS);\n",
"Re_L=1.46e+005; // Reynolds number at plate end\n",
"RHS=0.332*(Re_L)^(-0.5);\n",
"printf('\nThe value of left hand side of the equation is %.2e',RHS);\n",
"err=(LHS-RHS)*100/LHS;\n",
"printf('\nThe error is %d percent',err);\n",
"printf('\nSince the error is only %d percent, the agreement is quite good',err);"
   ]
   }
,
{
		   "cell_type": "markdown",
		   "metadata": {},
		   "source": [
			"## Example 7.6: Drag_due_to_skin_friction.sce"
		   ]
		  },
  {
"cell_type": "code",
	   "execution_count": null,
	   "metadata": {
	    "collapsed": true
	   },
	   "outputs": [],
"source": [
"clc;\n",
"clear;\n",
"printf('\t\t\tChapter7_example6\n\n\n');\n",
"//  Estimation of the drag due to skin friction\n",
"// properties of water at 68°F from Appendix Table C.11\n",
"rou= 62.4; // density in Ibm/cu.ft\n",
"v= 1.083e-5; // viscosity in sq.ft/s \n",
"V_inf=5*.5144/.3048; // barge velocity in ft/s using conversion factors from appendix table A1\n",
"printf('\nThe barge velocity is %.2f ft/s',V_inf);\n",
"L=20; // Length of barge in ft\n",
"Re_L=V_inf*L/v; // Reynolds number at plate end\n",
"printf('\nThe Reynolds number at plate end is %.2e',Re_L);\n",
"Cd=0.003; //value of Cd corresponding to the Reynolds number from figure 7.11\n",
"gc=32.2;\n",
"b=12; // width in ft\n",
"Df=(Cd*rou*V_inf^2*b*L)/(2*gc);\n",
"printf('\nThe drag force is %d lbf',Df);"
   ]
   }
,
{
		   "cell_type": "markdown",
		   "metadata": {},
		   "source": [
			"## Example 7.7: Wattage_requirement_of_heater.sce"
		   ]
		  },
  {
"cell_type": "code",
	   "execution_count": null,
	   "metadata": {
	    "collapsed": true
	   },
	   "outputs": [],
"source": [
"clc;\n",
"clear;\n",
"printf('\t\t\tChapter7_example7\n\n\n');\n",
"// Determination of wattage requirement\n",
"// properties of carbon dioxide at a film temperature of (400+600)/2 = 500 K from appendix table D2\n",
"rou= 1.0732; // density in kg/m^3 \n",
"cp= 1013; // specific heat in J/(kg*K) \n",
"v= 21.67e-6; // viscosity in m^2/s  \n",
"Pr = 0.702; // Prandtl Number \n",
"k= 0.03352; // thermal conductivity in W/(m.K)\n",
"a = 0.3084e-4; // diffusivity in m^2/s\n",
"V_inf=60; // carbon dioxide velocity in m/s\n",
"x_cr=(5e5)*v/V_inf; // The transition length in m\n",
"printf('\nThe transition length is %.1f cm',x_cr*100);\n",
"w=4; // width of each heater in cm\n",
"b=.16; // effective heating length in m\n",
"Tw=600; // temperature of heater surface in K\n",
"T_inf=400; // temperature of carbon dioxide in K\n",
"r=pmodulo(x_cr*100,w);\n",
"n=(x_cr*100+r)/w; // number of heater where transition occurs\n",
"printf('\nThe transition thus occur at %dth heater',n);\n",
"m=6; // number of heater strips\n",
"q=zeros(m+1,1);\n",
"x=[0.04 0.08 0.12 0.16 0.20 0.24];\n",
"for i=1:n-1 // transition occurs at 5th heater, so laminar zone equation is followed till then\n",
"    h(i)=(0.664*k)*(V_inf/v)^0.5*(Pr)^(1/3)/x(i)^0.5;\n",
"    printf('\n\nThe convective coefficient for heater no. %d is %d W/(sq.m.K)',i,h(i));\n",
"    q(i+1)=h(i)*x(i)*b*(Tw-T_inf);\n",
"    dq(i)=q(i+1)-q(i);\n",
"    printf('\nThe heat transferred by heater no. %d is %d W',i,dq(i));\n",
"end\n",
"// Turbulent zone exists from 5th heater onwards so the following equation is followed Nu=h*x/kf=[0.0359*(Re_L)^(4/5)-830]*(Pr)^(1/3)\n",
"for i=5:6\n",
"    Re_L(i)=V_inf*x(i)/v;\n",
"    h(i)=(k/x(i))*[0.0359*(Re_L(i))^(4/5)-830]*(Pr)^(1/3)\n",
"    printf('\n\nThe Reynolds number for heater no. %d is %.2e',i,Re_L(i));\n",
"    printf('\nThe convective coefficient for heater no. %d is %.1f W/(sq.m.K)',i,h(i));\n",
"    q(i+1)=h(i)*x(i)*b*(Tw-T_inf);\n",
"    dq(i)=q(i+1)-q(i);\n",
"    printf('\nThe heat transferred by heater no. %d is %d W',i,dq(i));\n",
"end"
   ]
   }
,
{
		   "cell_type": "markdown",
		   "metadata": {},
		   "source": [
			"## Example 7.8: Flow_past_a_telephone_pole.sce"
		   ]
		  },
  {
"cell_type": "code",
	   "execution_count": null,
	   "metadata": {
	    "collapsed": true
	   },
	   "outputs": [],
"source": [
"clc;\n",
"clear;\n",
"printf('\t\t\tChapter7_example8\n\n\n');\n",
"// Estimation of force exerted on the pole\n",
"// properties of air at given conditions from appendix table D1\n",
"rou= 0.0735; // density in Ibm/ft^3 \n",
"v= 16.88e-5; // viscosity in ft^2/s \n",
"V=20*5280/3600; // flow velocity in ft/s\n",
"printf('\nThe flow velocity is %.1f ft/s',V);\n",
"D=12/12; // diameter of pole in ft\n",
"L=30;// length of pole in ft\n",
"gc=32.2;\n",
"Re_D=V*D/v; // Reynolds Number for flow past the pole\n",
"printf('\nThe Reynolds Number for flow past the pole is %.2e ',Re_D);\n",
"Cd_cylinder=1.1; // value of Cd for smooth cylinder from figure 7.22\n",
"A_cylinder=D*L; // frontal area of pole\n",
"printf('\nThe frontal area of pole is %d sq.ft',A_cylinder);\n",
"Df_cylinder=Cd_cylinder*(1/2)*rou*V^2*A_cylinder/gc;\n",
"printf('\nThe Drag force exerted on only the pole is %.1f lbf',Df_cylinder);\n",
"D_square=2/12; // length of square part of pole\n",
"L_square=4;\n",
"Re_square=V*D_square/v; // Reynolds Number for square part of pole\n",
"printf('\nThe  Reynolds Number for square part of pole is %.1e',Re_square);\n",
"Cd_square=2; // Corresponding value of Cd for square part from figure 7.23\n",
"A_square=D_square*L_square; // projected frontal area of square part\n",
"printf('\nThe frontal area of square part of pole is %.3f sq.ft',A_square);\n",
"Df_square=Cd_square*(1/2)*rou*V^2*A_square/gc;\n",
"printf('\nThe Drag force exerted on cross piece of the pole is %.2f lbf',Df_square);\n",
"Df_total=Df_cylinder+Df_square;\n",
"printf('\nThe total drag force on the pole is %.1f lbf',Df_total);"
   ]
   }
,
{
		   "cell_type": "markdown",
		   "metadata": {},
		   "source": [
			"## Example 7.9: Current_through_Hot_Wire_Anemometer.sce"
		   ]
		  },
  {
"cell_type": "code",
	   "execution_count": null,
	   "metadata": {
	    "collapsed": true
	   },
	   "outputs": [],
"source": [
"clc;\n",
"clear;\n",
"printf('\t\t\tChapter7_example9\n\n\n');\n",
"// determination of required current\n",
"// properties of air at film temperature (300 + 500)/2 = 400 K from appendix table D1\n",
"rou= 0.883; // density in kg/cu.m\n",
"cp= 1014; // specific heat in J/(kg*K) \n",
"v= 25.90e-6; // viscosity in sq.m/s  \n",
"Pr = 0.689; // Prandtl Number \n",
"kf= 0.03365; // thermal conductivity in W/(m.K)\n",
"a = 0.376e-4; // diffusivity in sq.m/s\n",
"V_inf=1; // velocity in m/s\n",
"D=0.00013; // diameter in m\n",
"L=1/100; // length of wire in cm\n",
"Re_D=V_inf*D/v; // The Reynolds number of flow past the wire\n",
"printf('\nThe Reynolds number of flow past the wire is %.3f',Re_D);\n",
"C=0.911; //value of C for cylinder from table 7.4\n",
"m=0.385; //value of m for cylinder from table 7.4\n",
"hc=kf*C*(Re_D)^m*(Pr)^(1/3)/D; // the convection coefficient in W/(m^2.K)\n",
"printf('\nThe convection coefficient is %d W/(sq.m.K)',hc);\n",
"Tw=500; // air stream temperature in K\n",
"T_inf=300; // wire surface temperature in K\n",
"As=%pi*D*L; // cross sectional area in sq.m\n",
"qw=hc*As*(Tw-T_inf); // The heat transferred to the air from the wire\n",
"printf('\nThe heat transferred to the air from the wire is %.3f W',qw);\n",
"resistivity=17e-6; // resistivity in ohm cm\n",
"Resistance=resistivity*(L/(%pi*D^2)); // resistance in ohm\n",
"printf('\nThe resistance is %.3f ohm',Resistance/100);\n",
"i=(qw*100/Resistance)^0.5; // current in ampere\n",
"printf('\nThe current is %.1f A',i);"
   ]
   }
],
"metadata": {
		  "kernelspec": {
		   "display_name": "Scilab",
		   "language": "scilab",
		   "name": "scilab"
		  },
		  "language_info": {
		   "file_extension": ".sce",
		   "help_links": [
			{
			 "text": "MetaKernel Magics",
			 "url": "https://github.com/calysto/metakernel/blob/master/metakernel/magics/README.md"
			}
		   ],
		   "mimetype": "text/x-octave",
		   "name": "scilab",
		   "version": "0.7.1"
		  }
		 },
		 "nbformat": 4,
		 "nbformat_minor": 0
}
