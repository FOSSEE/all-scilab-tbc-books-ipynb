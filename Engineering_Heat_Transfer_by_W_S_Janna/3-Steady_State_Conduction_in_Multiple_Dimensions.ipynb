{
"cells": [
 {
		   "cell_type": "markdown",
	   "metadata": {},
	   "source": [
       "# Chapter 3: Steady State Conduction in Multiple Dimensions"
	   ]
	},
{
		   "cell_type": "markdown",
		   "metadata": {},
		   "source": [
			"## Example 3.1: Flow_Net_method_of_solutio.sce"
		   ]
		  },
  {
"cell_type": "code",
	   "execution_count": null,
	   "metadata": {
	    "collapsed": true
	   },
	   "outputs": [],
"source": [
"clc;\n",
"clear;\n",
"printf('\t\t\tChapter3_example1\n\n\n');\n",
"// Determination of the heat-flow rate from one tube \n",
"// specifications of 1 standard type K from table F2\n",
"OD=0.02858; // outer diameter in m\n",
"// from figure 3.11\n",
"M=8; // total number of heat-flow lanes\n",
"N=6; // number of squares per lane\n",
"S_L=M/N; // conduction shape factor\n",
"printf('\nThe Conduction shape factor is %.3f',S_L);\n",
"k=0.128; // thermal conductivity in W/(m.K) for concrete from appendix table B3\n",
"T1=85; // temperature of tube surface\n",
"T2=0; // temperature of ground beneath the slab\n",
"q_half=k*S_L*(T1-T2);\n",
"printf('\nThe heat flow per unit length from one half of one tube is %.1f W/m',q_half);\n",
"q=2*q_half;\n",
"printf('\nThe total heat flow per tube is %.1f W/m',q);"
   ]
   }
,
{
		   "cell_type": "markdown",
		   "metadata": {},
		   "source": [
			"## Example 3.2: Conduction_Shape_Factor.sce"
		   ]
		  },
  {
"cell_type": "code",
	   "execution_count": null,
	   "metadata": {
	    "collapsed": true
	   },
	   "outputs": [],
"source": [
"clc;\n",
"clear;\n",
"printf('\t\t\tChapter3_example2\n\n\n');\n",
"//  Determination of the heat transferred from the buried pipe per unit length\n",
"// shape factor number 8 is selected from table 3.1\n",
"// specifications of 10 nominal, schedule 80 pipe from table F1\n",
"OD=10.74/12; // diameter in ft\n",
"R=OD/2;\n",
"T1=140;\n",
"T2=65;\n",
"k=0.072; // thermal conductivity in BTU/(hr-ft. degree R)\n",
"d=18/12; // distance from centre-line\n",
"S_L=(2*%pi)/(acosh(d/R));\n",
"q_L=k*S_L*(T1-T2);\n",
"printf('\nThe heat transferred from the buried pipe per unit length is %.1f BTU/(hr.ft)',q_L);"
   ]
   }
,
{
		   "cell_type": "markdown",
		   "metadata": {},
		   "source": [
			"## Example 3.3: Heat_lost_through_shape_factor_method.sce"
		   ]
		  },
  {
"cell_type": "code",
	   "execution_count": null,
	   "metadata": {
	    "collapsed": true
	   },
	   "outputs": [],
"source": [
"clc;\n",
"clear;\n",
"printf('\t\t\tChapter3_example3\n\n\n');\n",
"// Determination of the heat lost through the walls, using the shape-factor method. (b) Repeat the calculations but neglect the effects of the corners; that is, assume only one-dimensional effects through all the walls. \n",
"k = 1.07; // thermal conductivity of silica brick from appendix table B3 in W/(m.K)\n",
"// Calculation of total shape factor\n",
"// From figure 3.12, for component A\n",
"S1_A=0.138*0.138/0.006;\n",
"nA=2;\n",
"St_A=nA*S1_A; // Total shape factor of component A\n",
"printf('\nThe Total shape factor of component A is %.3f ',St_A);\n",
"// For component B\n",
"S1_B=0.138*0.188/0.006;\n",
"nB=4;\n",
"St_B=nB*S1_B; // Total shape factor of component B\n",
"printf('\nThe Total shape factor of component B is %.3f ',St_B);\n",
"// For component C\n",
"S3_C=0.15*0.006;\n",
"nC=8;\n",
"St_C=nC*S3_C; // Total shape factor of component C\n",
"printf('\nThe Total shape factor of component C is %.4f ',St_C);\n",
"// For component D\n",
"S2_D=0.54*0.188;\n",
"nD=4;\n",
"St_D=nD*S2_D; // Total shape factor of component D\n",
"printf('\nThe Total shape factor of component D is %.5f ',St_D);\n",
"// For component E\n",
"S2_E=0.138*0.54;\n",
"nE=8;\n",
"St_E=nE*S2_E; // Total shape factor of component E\n",
"printf('\nThe Total shape factor of component E is %.5f ',St_E);\n",
"S=St_A+St_B+St_C+St_D+St_E;\n",
"printf('\nThe Total shape factor is %.2f',S);\n",
"printf('\n\t\t\tSolution to part (a)\n');\n",
"T1=550;\n",
"T2=30;\n",
"q=k*S*(T1-T2);\n",
"printf('\nThe heat transferred through the walls of the furnace is %d W = %.1f kW',q,q/1000);\n",
"printf('\n\n\t\t\tSolution to part (b)\n');\n",
"// Neglecting the effects of the edges and corners, the shape factor for all walls is found as \n",
"S=St_A+St_B;\n",
"printf('\nNeglecting the effects of the edges and corners, the shape factor for all walls is %.2f',S);\n",
"q_1=k*S*(T1-T2);\n",
"printf('\nNeglecting the effects of the edges and corners, the heat transferred is %d W = %.1f kW',q_1,q_1/1000);\n",
"Error=(q-q_1)/q;\n",
"printf('\nThe error introduced by neglecting heat flow through the edges and corners is %.1f percent',Error*100);"
   ]
   }
,
{
		   "cell_type": "markdown",
		   "metadata": {},
		   "source": [
			"## Example 3.4: Shape_factor_for_given_pipe.sce"
		   ]
		  },
  {
"cell_type": "code",
	   "execution_count": null,
	   "metadata": {
	    "collapsed": true
	   },
	   "outputs": [],
"source": [
"clc;\n",
"clear;\n",
"printf('\t\t\tChapter3_example4\n\n\n');\n",
"// Determination of the conduction shape factor for the underground portion of the configuration\n",
"// specifications of  4 nominal, schedule 40 pipe from table F1\n",
"OD=4.5/12; // diameter in ft\n",
"R=OD/2;\n",
"// For pipe A\n",
"L_A=4.5; // length in ft\n",
"// shape factor number 9 is selected from table 3.1\n",
"S_A=(2*%pi*L_A)/(log(2*(L_A)/R));\n",
"printf('\nThe Shape Factor of pipe A is %.1f',S_A);\n",
"// For pipe B\n",
"L_B=18; // length in ft\n",
"// shape factor number 9 is selected from table 3.1\n",
"S_B=(2*%pi*L_B)/(acosh(L_A/R));\n",
"printf('\nThe Shape Factor of pipe B is %.1f',S_B);\n",
"S=2*S_A+S_B;\n",
"printf('\nThe total conduction shape factor for the system is %.1f',S);"
   ]
   }
,
{
		   "cell_type": "markdown",
		   "metadata": {},
		   "source": [
			"## Example 3.5: Numerical_Method_for_temperature_distribution.sce"
		   ]
		  },
  {
"cell_type": "code",
	   "execution_count": null,
	   "metadata": {
	    "collapsed": true
	   },
	   "outputs": [],
"source": [
"clc;\n",
"clear;\n",
"printf('\t\t\tChapter3_example5\n\n\n');\n",
"//  (a) Using the pin-fin equations for the case where the exposed tip is assumed insulated, graph the temperature distribution existing within the rod. (b) Use the numerical formulation of this section to obtain the temperature distribution. (c) Compare the two models to determine how well the numerical results approximate the exact results\n",
"h=1.1; // convective coefficient in BTU/(hr.ft^2. degree R)\n",
"Tw=200;\n",
"T_inf=68; // ambient temperature\n",
"printf('\n\t\t\tSolution to part (a)\n');\n",
"k=0.47; // thermal conductivity in BTU/(hr.ft.degree R) from table B3\n",
"D=0.25/12; // diameter in ft\n",
"A=%pi*D^2/4; // cross sectional area in ft^2\n",
"P=%pi*D; // perimeter in ft\n",
"printf('\nThe cross sectional area is %.3e sq.ft and Perimeter is %.3e ft',A,P);\n",
"L=6/12; // length in ft\n",
"mL=L*((h*P)/(k*A))^0.5;\n",
"printf('\nThe value of Product mL is %.2f',mL);\n",
"z=0:1.5:6;\n",
"[n m]=size(z);\n",
"for i=1:m\n",
"    T(i)=T_inf+(Tw-T_inf)*(cosh(mL*(1-(z(i)/6)))/(cosh(mL)));\n",
"end\n",
"printf('\n\n\t\t\tSolution to part (b)\n');\n",
"d_zeta=1/4;\n",
"K=2+(mL*d_zeta)^2;\n",
"printf('\nThe value of K is %.4f',K);\n",
"T_(5)=T_inf+(Tw-T_inf)*(2/(K^4-4*K^2+2));\n",
"T_(4)=T_inf+(Tw-T_inf)*(K/(K^4-4*K^2+2));\n",
"T_(3)=T_inf+(Tw-T_inf)*((K^2-1)/(K^4-4*K^2+2));\n",
"T_(2)=T_inf+(Tw-T_inf)*((K^3-3*K)/(K^4-4*K^2+2));\n",
"T_(1)=200;\n",
"printf('\n\nA Comparison of Exact to Numerical Results for the Data of Example 3.5');\n",
"printf('\nz,in\tExact (e) T\tNumerical (n) T\t Percent error (e - n)/e');\n",
"for i=1:m\n",
"err(i)=(T(i)-T_(i))/T(i);\n",
"printf('\n%.1f\t%.2f\t\t%.2f\t\t%.2f\n',z(i),T(i),T_(i),err(i)*100);\n",
"end\n",
"plot(z,T,z,T_);\n",
"a=gca();\n",
"newticks1=a.x_ticks;\n",
"newticks1(2)=[0;1.5;3.0;4.5;6];\n",
"newticks1(3)=['0';'1.5';'3.0';'4.5';'6'];\n",
"a.x_ticks=newticks1;\n",
"newticks2=a.y_ticks;\n",
"newticks2(2)=[75;100;125;150;175;200];\n",
"newticks2(3)=['75';'100';'125';'150';'175';'200'];\n",
"a.y_ticks=newticks2;\n",
"title('A comparison of the exact to the numerical temperature profiles for the pin fin of Example 3.5');\n",
"xlabel('z, in');\n",
"ylabel('T, degree F');\n",
"hl=legend(['Exact Solution';'Numerical Solution']);"
   ]
   }
],
"metadata": {
		  "kernelspec": {
		   "display_name": "Scilab",
		   "language": "scilab",
		   "name": "scilab"
		  },
		  "language_info": {
		   "file_extension": ".sce",
		   "help_links": [
			{
			 "text": "MetaKernel Magics",
			 "url": "https://github.com/calysto/metakernel/blob/master/metakernel/magics/README.md"
			}
		   ],
		   "mimetype": "text/x-octave",
		   "name": "scilab",
		   "version": "0.7.1"
		  }
		 },
		 "nbformat": 4,
		 "nbformat_minor": 0
}
