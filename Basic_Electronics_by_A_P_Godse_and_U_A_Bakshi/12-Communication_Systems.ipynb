{
"cells": [
 {
		   "cell_type": "markdown",
	   "metadata": {},
	   "source": [
       "# Chapter 12: Communication Systems"
	   ]
	},
{
		   "cell_type": "markdown",
		   "metadata": {},
		   "source": [
			"## Example 12.10: modulation_index_and_total_radiated_power.sce"
		   ]
		  },
  {
"cell_type": "code",
	   "execution_count": null,
	   "metadata": {
	    "collapsed": true
	   },
	   "outputs": [],
"source": [
"//EX12_10 Pg-12.28\n",
"clc\n",
"clear\n",
"Ptotal=11.8;//radiated power in kW when the carrier is modulated\n",
"Pc=10;//radiated power in kW when the carrier is unmodulated\n",
"m=sqrt(2*((Ptotal/Pc)-1))\n",
"//when another sine wave of 30% of the \n",
"//initial modulation is transmitted simultaneously then\n",
"m1=0.3;//added sine wave signal is 30% \n",
"mt=sqrt(m1^2+m^2);\n",
"P=Pc*(1+mt^2/2);//total radiated power \n",
"printf('total radiated power P=%.2f kW ',P)"
   ]
   }
,
{
		   "cell_type": "markdown",
		   "metadata": {},
		   "source": [
			"## Example 12.11: Carrier_power.sce"
		   ]
		  },
  {
"cell_type": "code",
	   "execution_count": null,
	   "metadata": {
	    "collapsed": true
	   },
	   "outputs": [],
"source": [
"//EX12_11 Pg-12.30\n",
"clc\n",
"clear\n",
"Ptotal=10;//radiated power in kW when the carrier is modulated\n",
"m=0.75;//modulation index\n",
"Pc=Ptotal/(1+m^2/2)//since Ptotal=Pc*sqrt(1+m^2/2)\n",
"printf('\n carrier power Pc=%.1f kW \n',Pc)"
   ]
   }
,
{
		   "cell_type": "markdown",
		   "metadata": {},
		   "source": [
			"## Example 12.12: Frequencies.sce"
		   ]
		  },
  {
"cell_type": "code",
	   "execution_count": null,
	   "metadata": {
	    "collapsed": true
	   },
	   "outputs": [],
"source": [
"//EX12_12 Pg-12.30\n",
"clc\n",
"clear\n",
"fc=1000e3;//carrier  frequency \n",
"fm1=300;//first audio frequency\n",
"fm2=800;//second audio frequency\n",
"fm3=1e3;//third audio frequency\n",
"fusb1=fc+fm1;//upper side band frequency\n",
"flsb1=fc-fm1;//lower side band frequency\n",
"fusb2=fc+fm2;//upper side band frequency\n",
"flsb2=fc-fm2;//lower side band frequency\n",
"fusb3=fc+fm3;//upper side band frequency\n",
"flsb3=fc-fm3;//lower side band frequency\n",
"printf('fusb1=%.1f kHz \n flsb1=%.1f kHz\n\n fusb2=%.1f kHz\n',fusb1*1e-3,flsb1*1e-3,fusb2*1e-3)\n",
"printf(' flsb2=%.1f kHz \n\n fusb3=%.1f kHz \n flsb3=%.1f kHz \n',flsb2*1e-3,fusb3*1e-3,flsb3*1e-3)"
   ]
   }
,
{
		   "cell_type": "markdown",
		   "metadata": {},
		   "source": [
			"## Example 12.13: Total_sideband_power_radiated.sce"
		   ]
		  },
  {
"cell_type": "code",
	   "execution_count": null,
	   "metadata": {
	    "collapsed": true
	   },
	   "outputs": [],
"source": [
"//EX12_13 Pg-12.30\n",
"clc\n",
"clear\n",
"m1=0.55;//first modulation index\n",
"m2=0.65;//second modulation index\n",
"mt=sqrt(m1^2+m2^2);\n",
"Pc=360;;//power radiated by the carrier signal\n",
"Psb=Pc*mt^2/2//total sideband power radiated\n",
"printf('Therefore total sideband power radiated Psb=%.3f W',Psb)\n",
"//in the question Pc is taken as 360W but in the answer it is taken as \n",
"//300W I have taken Pc=300W so that Psb=150.5W"
   ]
   }
,
{
		   "cell_type": "markdown",
		   "metadata": {},
		   "source": [
			"## Example 12.14: Current_I.sce"
		   ]
		  },
  {
"cell_type": "code",
	   "execution_count": null,
	   "metadata": {
	    "collapsed": true
	   },
	   "outputs": [],
"source": [
"//EX12_14 Pg-12.30\n",
"clc\n",
"clear\n",
"m=0.5;// modulation index\n",
"It=12;//antenna current when AM transmitter is 50% modulated\n",
"Ic=It/sqrt(1+m^2/2);//carrier current \n",
"m=0.9;//when modulation depth is increase to 0.9 \n",
"It=Ic*sqrt(1+m^2/2)\n",
"printf('Therefore total antenna current It=%.2f A',It)\n",
""
   ]
   }
,
{
		   "cell_type": "markdown",
		   "metadata": {},
		   "source": [
			"## Example 12.15: Current_and_percentage_power_swing.sce"
		   ]
		  },
  {
"cell_type": "code",
	   "execution_count": null,
	   "metadata": {
	    "collapsed": true
	   },
	   "outputs": [],
"source": [
"//EX12_15 Pg-12.31\n",
"clc\n",
"clear\n",
"m1=0.6;// modulation index\n",
"It=1.5;//antenna current when AM transmitter is 50% modulated\n",
"Ic=It/sqrt(1+m1^2/2);//carrier current \n",
"m2=0.7//when another modulated signal is added \n",
"m=sqrt(m1^2+m2^2);//total modulation index\n",
"It=Ic*sqrt(1+m^2/2)\n",
"\n",
"printf('\n Therefore total antenna current It=%.2f A \n',It)\n",
"disp('Ptotal=Pc+Pc*m^2/4+Pc*m^2/4 => Total power radiated')\n",
"Pc=poly(0,'Pc');\n",
"Ptotal=Pc+Pc*m^2/4+Pc*m^2/4 ;\n",
"P=Pc+Pc*m^2/4 //Total power if one of the side band is suppressed \n",
"%P=P/Ptotal;//percentage power saving\n",
"%P=horner(%P,1)*100\n",
"mprintf('\n Therefore percentage power saving %%P=%.0f %%',%P)"
   ]
   }
,
{
		   "cell_type": "markdown",
		   "metadata": {},
		   "source": [
			"## Example 12.16: EX12_16.sce"
		   ]
		  },
  {
"cell_type": "code",
	   "execution_count": null,
	   "metadata": {
	    "collapsed": true
	   },
	   "outputs": [],
"source": [
"//EX12_16 Pg-12.32\n",
"clc\n",
"clear\n",
"disp(' Output voltage of the transmitter Vam=400(1+0.4sin6280t)sin3.14*10^7t')\n",
"Vc=400;//amplitude of carrier voltage \n",
"m=0.4;//modulation index\n",
"R=600;//load resistance\n",
"wm=6280;\n",
"wc=3.14e7;\n",
"fc=wc/(2*%pi);\n",
"fm=wm/(2*%pi);\n",
"Pc=Vc^2/(2*R);\n",
"Ptotal=Pc*(1+m^2/2);\n",
"printf('\n carrier frequency Fc=%.0f MHz \n modulating frequency =%.0f Hz \n ',fc*1e-6,fm)\n",
"printf('\n carrier power Pc=%.2f W \n Total power output Ptotal=%.1f W \n',Pc,Ptotal)\n",
"//peak power output results when modulating signal\n",
"//is at the peak of the +ve half cycle \n",
"Vm=m*Vc;\n",
"V=Vc+Vm;//peak output voltage\n",
"P=V^2/(2*R);//peak power output \n",
"printf('\n Peak output voltage P=%.2f W ',P)\n",
"//The exact value of fc is 4997465 Hz but in the book the \n",
"//value is taken as 5 MHz  same is the case for fm"
   ]
   }
,
{
		   "cell_type": "markdown",
		   "metadata": {},
		   "source": [
			"## Example 12.17: Equation_of_the_wave_and_output_wave_form.sce"
		   ]
		  },
  {
"cell_type": "code",
	   "execution_count": null,
	   "metadata": {
	    "collapsed": true
	   },
	   "outputs": [],
"source": [
"//EX12_17 Pg-12.33\n",
"clc\n",
"clear\n",
"disp(' equation of the Am sine wave =Vc(1+m*sinwm*t)*sinwc*t')\n",
"Vc=12;//amplitude of carrier voltage \n",
"m=0.5;//modulation index\n",
"fc=10e6;//carrier frequency\n",
"fm=1e3;//modulated frequency\n",
"wc=2*%pi*fc;\n",
"wm=2*%pi*fm;\n",
"t=0:2.3148e-7:8e-4;\n",
"Vam=Vc*(1+m*sin(wm*t).*sin(wc*t))\n",
"fusb=fc+fm;//upper side band frequency\n",
"flsb=fc-fm;//lower side band frequency\n",
"A=m*Vc/2;//amplitude of side bands\n",
"\n",
"//plotting of the graph\n",
"clf();\n",
"x=[ flsb flsb  ];//x-coordinate\n",
"y=[  0    A  ];//y-coordinate\n",
"\n",
"plot2d(x,y,style=2)\n",
"x1=[10e6  10e6];//x-coordinate\n",
"y1=[ 0     12];//y-coordinate\n",
"plot2d(x1,y1,style=2)\n",
"x2=[fusb  fusb];//x-coordinate\n",
"y2=[ 0     A];//y-coordinate\n",
"plot(x2,y2)\n",
"x5=[flsb-1e3 flsb-1e3];//x-coordinate\n",
"y5=[    0       4    ];//y-coordinate\n",
"plot(x5,y5)\n",
"x6=[fusb+1e3 fusb+1e3];//x-coordinate\n",
"y6=[  0         4 ];//y-coordinate\n",
"plot2d(x6,y6)\n",
"\n",
"xlabel('Frequency(Hz)');\n",
"ylabel('amplitude of carrier signal(V)');\n",
"title('Frequency Spectrum of AM wave')\n",
"xgrid(color('grey'));\n",
""
   ]
   }
,
{
		   "cell_type": "markdown",
		   "metadata": {},
		   "source": [
			"## Example 12.18: Percentage_power_saving.sce"
		   ]
		  },
  {
"cell_type": "code",
	   "execution_count": null,
	   "metadata": {
	    "collapsed": true
	   },
	   "outputs": [],
"source": [
"//Ex12_18 PG-12.18\n",
"clc\n",
"clear\n",
"printf(' When modulation index m=100%% ')\n",
"m=1;\n",
"disp(' Now Pdsbfc=1.5*Pc or Pdsbfc/Pc=1.5')\n",
"Pc=poly(0,'Pc')\n",
"Pdsbfc=Pc*(1+m^2/2);//power required for double sideband with full carrier transmission\n",
"Pssb=Pc*m^2/4;\n",
"%P=(Pdsbfc-Pssb)/Pdsbfc*100\n",
"x=horner(%P,1)\n",
"printf('  %%Power saving %%P :%f %%\n\n',x)\n",
"\n",
"disp(' When modulation index m=50%% ')\n",
"m=0.5;\n",
"Pdsbfc=Pc*(1+m^2/2);//power required for double sideband with full carrier transmission\n",
"printf('  Now Pdsbfc=Pc*(1+m^2/2) \n  Pdsbfc=1.125*Pc  or Pdsbfc/Pc=1.125\n')\n",
"Pssb=Pc*m^2/4;\n",
"%P=(Pdsbfc-Pssb)/Pdsbfc*100\n",
"x=horner(%P,1)\n",
"printf('  %%Power saving %%P :%f %%',x)\n",
""
   ]
   }
,
{
		   "cell_type": "markdown",
		   "metadata": {},
		   "source": [
			"## Example 12.19: frequency_deviation_and_modulation_index.sce"
		   ]
		  },
  {
"cell_type": "code",
	   "execution_count": null,
	   "metadata": {
	    "collapsed": true
	   },
	   "outputs": [],
"source": [
"//EX12_19 Pg-40\n",
"clc \n",
"clear\n",
"R=2;//frequency deviation constant in KHz/V\n",
"V=20;//amplitude of the modulation signal\n",
"fd=R*V;// frequency deviation\n",
"f=4;//frequency applied in kHz\n",
"printf('\n Therefore frequency deviation f=%.0f kHz \n',fd)\n",
"m=fd/f;//modulation index\n",
"printf('    modulation index m=%.0f ',m)"
   ]
   }
,
{
		   "cell_type": "markdown",
		   "metadata": {},
		   "source": [
			"## Example 12.1: Modulation_index_and_percentage_modulation.sce"
		   ]
		  },
  {
"cell_type": "code",
	   "execution_count": null,
	   "metadata": {
	    "collapsed": true
	   },
	   "outputs": [],
"source": [
"//EX12_1 Pg-12.14\n",
"clc\n",
"Vm=40;//peak value of the modulating signal\n",
"Vc=50;//peak value of the carrier signal\n",
"m=Vm/Vc;//modulation index\n",
"%m=m*100;\n",
"printf('modulation index m=%.1f \n                 %%m=%.0f%% \n',m,%m)\n",
""
   ]
   }
,
{
		   "cell_type": "markdown",
		   "metadata": {},
		   "source": [
			"## Example 12.20: Frequency_deviation_and_modulation_index.sce"
		   ]
		  },
  {
"cell_type": "code",
	   "execution_count": null,
	   "metadata": {
	    "collapsed": true
	   },
	   "outputs": [],
"source": [
"//EX12_20 Pg-40\n",
"clc \n",
"clear\n",
"disp('when modulating voltage V=2.5 V')\n",
"V=2.5;//modulating voltage\n",
"fd1=5;// frequency deviation in kHz\n",
"R=fd1/V;//frequency deviation constant in KHz/V\n",
"printf('\n frequency deviation constant R=%.0f KHz/V \n',R)\n",
"disp('when modulating voltage V=7.5 V')\n",
"V=7.5;//new value amplitude of the modulating voltage\n",
"fd2=R*V//new frequency deviation in kHz\n",
"printf('\n Therefore frequency deviation f=%.0f kHz \n',fd2)\n",
"disp('when modulating voltage V=10 V')\n",
"V=10;//new value amplitude of the modulating voltage\n",
"fd3=R*V//new frequency deviation in kHz\n",
"printf('\n Therefore frequency deviation f=%.0f kHz \n',fd3)\n",
"fm=0.5;//modulation frequency in kHz ie 0.5kHz=500Hz\n",
"mf1=fd1/fm;           \n",
"mf2=fd2/fm;\n",
"fm1=.25//new modulation frequency in kHz ie 0.25kHz=250Hz\n",
"mf3=fd3/fm1;\n",
"printf(' \n modulation index \n mf1=%.0f \n mf2=%.0f \n mf3=%.0f \n',mf1,mf2,mf3)"
   ]
   }
,
{
		   "cell_type": "markdown",
		   "metadata": {},
		   "source": [
			"## Example 12.21: Maximum_deviation_and_modulation_index.sce"
		   ]
		  },
  {
"cell_type": "code",
	   "execution_count": null,
	   "metadata": {
	    "collapsed": true
	   },
	   "outputs": [],
"source": [
"//EX12_21 Pg-41\n",
"clc \n",
"clear\n",
"mf=60;//modulation index\n",
"fm=0.4;//modulation frequency in kHz ie 0.4kHz=400Hz\n",
"//fd_max=maximum frequency deviation\n",
"fd_max=mf*fm;//since mf=fd_max_/fm \n",
"printf('maximum deviation fd_max=%.0f kHz \n',fd_max)\n",
"V=2.4;//modulating voltage\n",
"R=fd_max/V;//frequency deviation constant in KHz/V\n",
"disp('when modulating voltage V=3.2 V')\n",
"V=3.2;\n",
"fd=R*V;//frequency deviation\n",
"fm=0.25//modulation frequency in kHz ie 0.25kHz=250Hz\n",
"mf=fd/fm;\n",
"printf(' \n modulation index mf=%.0f',mf) \n",
"//in the book the final answer for modulation mf=80 \n",
"//is wrong the correct answer is mf=128"
   ]
   }
,
{
		   "cell_type": "markdown",
		   "metadata": {},
		   "source": [
			"## Example 12.22: Peak_frequency_deviation_modulation_index.sce"
		   ]
		  },
  {
"cell_type": "code",
	   "execution_count": null,
	   "metadata": {
	    "collapsed": true
	   },
	   "outputs": [],
"source": [
"//EX12_22 Pg-41\n",
"clc \n",
"clear\n",
"R=5;//frequency deviation constant in KHz/V\n",
"fm=10;//modulation frequency in kHz \n",
"V=15;//amplitude of the modulating signal\n",
"fd=R*V;//frequency deviation\n",
"printf('\n maximum frequency deviation  fd=%.0f KHz/V \n',fd)\n",
"mf=fd/fm;\n",
"printf(' \n modulation index mf=%.1f',mf) \n",
""
   ]
   }
,
{
		   "cell_type": "markdown",
		   "metadata": {},
		   "source": [
			"## Example 12.23: EX12_23.sce"
		   ]
		  },
  {
"cell_type": "code",
	   "execution_count": null,
	   "metadata": {
	    "collapsed": true
	   },
	   "outputs": [],
"source": [
"//EX12_23 Pg-41.43\n",
"clc \n",
"clear\n",
"disp('equation of a frequency modulated v=A*sin(wc*t+mf*sin(wm*t))')\n",
"disp('or v=A*sin(wc*t-fd/fm*cos(wm*t)) where fd=frequency deviation')\n",
"disp('Now v=50*sin(5e8*t-10*cos(1000*t))')\n",
"A=50;//peak value of the modulating signal\n",
"wc=5e8;\n",
"mf=10;\n",
"wm=1000;\n",
"fc=wc/(2*%pi);//carrier frequency\n",
"printf('\n carrier frequency fc=%.2f MHz \n',fc*1e-6)\n",
"fm=wm/(2*%pi);//modulating frequency\n",
"printf(' modulating frequency fc=%.2f Hz \n',fm)\n",
"//fd_max=maximum frequency deviation\n",
"fd_max=mf*fm;//since mf=fd_max_/fm \n",
"printf(' \n modulation index mf=%.0f',mf) \n",
"printf('\n maximum deviation fd_max=%.2f Hz \n',fd_max)\n",
"Vrms=A/sqrt(2);//rms value of the modulating signal\n",
"R=75;//wave resistance\n",
"P=Vrms^2/R;\n",
"printf('\n Power dissipated by the wave in resistance P=%.2f W',P)"
   ]
   }
,
{
		   "cell_type": "markdown",
		   "metadata": {},
		   "source": [
			"## Example 12.24: sketching_the_spectrum_of_the_modulated_FM_wave.sce"
		   ]
		  },
  {
"cell_type": "code",
	   "execution_count": null,
	   "metadata": {
	    "collapsed": true
	   },
	   "outputs": [],
"source": [
"//EX12_24 Pg-41.47 \n",
"clc \n",
"clear\n",
"V=5;//amplitude of modulating voltage\n",
"R=1;//frequency deviation constant in KHz/V\n",
"fd=V*R;// frequency deviation in kHz\n",
"fm=15;//modulating frequency in kHz\n",
"mf=fd/fm;//modulation index\n",
"printf(' \n modulation index mf=%.3f',mf); \n",
"disp('Now we refer from the table-12.2 of Bessel function ')\n",
"printf(' \n For modulation index mf=%.3f we take the value of J0,J1,and J2 ',mf); \n",
"J0=0.96;//for carrier frequency\n",
"J1=0.18;//first side frequency\n",
"J2=0.02;//second side frequency\n",
"A=5//amplitude of the carrier frequency\n",
"J0=J0*A;//for carrier frequency\n",
"J1=J1*A;//first side frequency\n",
"J2=J2*A;//second side frequency\n",
"printf('\n J0=%.1fV\n J1=%.1fV\n J2=%.1fV ',J0,J1,J2)\n",
"disp('Now we plot the frequency spectrum')\n",
"clf()\n",
"x=[ 89.97    89.97];//x-coordinate\n",
"y=[  0       0.1];//y-coordinate\n",
"plot2d(x,y,style=2)\n",
"x1=[89.985   89.985];//x-coordinate\n",
"y1=[  0      0.9];//y-coordinate\n",
"plot2d(x1,y1,style=2)\n",
"x2=[90    90];//x-coordinate\n",
"y2=[ 0   4.8];//y-coordinate\n",
"plot(x2,y2)\n",
"x3=[90.015 90.015];//x-coordinate\n",
"y3=[  0     0.9];//y-coordinate\n",
"plot(x3,y3)\n",
"x4=[90.03 90.03];//x-coordinate\n",
"y4=[  0     0.1];//y-coordinate\n",
"plot(x4,y4)\n",
"x5=[90.04 90.04];//x-coordinate\n",
"y5=[  0     5];//y-coordinate\n",
"plot(x5,y5)\n",
"x6=[ 89.96  89.96];//x-coordinate\n",
"y6=[  0      5];//y-coordinate\n",
"plot2d(x6,y6)\n",
"xlabel('Frequency(MHz)');\n",
"ylabel('amplitude of carrier signal(V)');\n",
"title('Frequency Spectrum')\n",
"xgrid(color('grey'));"
   ]
   }
,
{
		   "cell_type": "markdown",
		   "metadata": {},
		   "source": [
			"## Example 12.25: Percent_modulation.sce"
		   ]
		  },
  {
"cell_type": "code",
	   "execution_count": null,
	   "metadata": {
	    "collapsed": true
	   },
	   "outputs": [],
"source": [
"//EX12_25 Pg-41.48\n",
"clc \n",
"clear\n",
"fd=15;//frequency deviation in kHz \n",
"f=75;//maximum frequency deviation in kHz for FM broadcast\n",
"%M=fd/f*100;\n",
"printf('\n For FM broadcast percent modulation is %%M=%.0f%%\n',%M)\n",
"f=25;//maximum frequency deviation in kHz for TV broadcast\n",
"%M=fd/f*100;\n",
"printf('\n For TV broadcast percent modulation is %%M=%.0f%% \n',%M)"
   ]
   }
,
{
		   "cell_type": "markdown",
		   "metadata": {},
		   "source": [
			"## Example 12.26: Frequency_deviation_and_carrier_swing.sce"
		   ]
		  },
  {
"cell_type": "code",
	   "execution_count": null,
	   "metadata": {
	    "collapsed": true
	   },
	   "outputs": [],
"source": [
"//EX12_26 Pg-41.48\n",
"clc \n",
"clear\n",
"%M=80;// percent modulation in %\n",
"f=75;//maximum frequency deviation in kHz for FM broadcast\n",
"fd=f*%M/100;//frequency deviation in kHz since %M=fd/f*100;\n",
"printf('\n Therefore frequency deviation for FM broadcast fd=%.0f Khz \n',fd)\n",
"cs=2*fd;//carrier swing\n",
"printf(' carrier swing=%.0f kHz\n',cs)\n",
"f=25;//maximum frequency deviation in kHz for TV broadcast\n",
"fd=f*%M/100;//frequency deviation in kHz since %M=fd/f*100;\n",
"printf('\n Therefore frequency deviation for TV broadcast fd=%.0f Khz \n',fd)\n",
"cs=2*fd;//carrier swing\n",
"printf(' carrier swing=%.0f kHz\n',cs)"
   ]
   }
,
{
		   "cell_type": "markdown",
		   "metadata": {},
		   "source": [
			"## Example 12.27: 1Carrier_swing_2highest_and_lowest_frequencies_3modulation_index.sce"
		   ]
		  },
  {
"cell_type": "code",
	   "execution_count": null,
	   "metadata": {
	    "collapsed": true
	   },
	   "outputs": [],
"source": [
"//EX12_27 Pg-41.51\n",
"clc \n",
"clear\n",
"fd=40;//frequency deviation in kHz \n",
"cs=2*fd;//carrier swing\n",
"printf('\n carrier swing=%.0f kHz\n',cs)\n",
"fc=93.2e3;//;carrier frequency in kHz\n",
"fh=fc+fd;//highest frequency reached\n",
"fl=fc-fd;//lowest frequency reached\n",
"printf('\n Therefore highest frequency reached fh=%.2f MHz\n ',fh*1e-3)\n",
"printf('Lowest frequency reached fl=%.2f MHz',fl*1e-3)\n",
"fm=5;//modulating frequency in kHz\n",
"m=fd/fm;//frequency modulation\n",
"printf('\n\n modulation index m=%.0f ',m)"
   ]
   }
,
{
		   "cell_type": "markdown",
		   "metadata": {},
		   "source": [
			"## Example 12.28: 1Frequency_deviation_2carrier_swing_3lowest_frequency_reached.sce"
		   ]
		  },
  {
"cell_type": "code",
	   "execution_count": null,
	   "metadata": {
	    "collapsed": true
	   },
	   "outputs": [],
"source": [
"//EX12_28 Pg-41.51\n",
"clc \n",
"clear\n",
"fc=50.4e3;//;carrier frequency in kHz\n",
"fh=50.405e3//highest frequency reached in kHz\n",
"fd=fh-fc;//frequency deviation in kHz \n",
"printf('\n Therefore frequency deviation produced fd=%.0f Khz \n',fd)\n",
"cs=2*fd;//carrier swing\n",
"printf('\n carrier swing=%.0f kHz\n',cs)\n",
"fl=fc-fd;//lowest frequency reached\n",
"printf('\n Therefore lowest frequency reached fl=%.3f MHz',fl*1e-3)\n",
""
   ]
   }
,
{
		   "cell_type": "markdown",
		   "metadata": {},
		   "source": [
			"## Example 12.29: modulation_index.sce"
		   ]
		  },
  {
"cell_type": "code",
	   "execution_count": null,
	   "metadata": {
	    "collapsed": true
	   },
	   "outputs": [],
"source": [
"//EX12_29 Pg-41.52\n",
"clc \n",
"clear\n",
"cs=70;//carrier swing in kHz\n",
"//since cs=2*fd\n",
"fd=cs/2;//frequency deviation in kHz  \n",
"fm=7//modulating frequency in kHz\n",
"m=fd/fm;\n",
"printf('\n    Modulation index m=%.0f ',m)"
   ]
   }
,
{
		   "cell_type": "markdown",
		   "metadata": {},
		   "source": [
			"## Example 12.2: Lower_and_upper_side_band_frequency.sce"
		   ]
		  },
  {
"cell_type": "code",
	   "execution_count": null,
	   "metadata": {
	    "collapsed": true
	   },
	   "outputs": [],
"source": [
"//EX12_2 Pg-12.14\n",
"clc\n",
"clear\n",
"L=40e-6;\n",
"C=12e-9;\n",
"x=2*%pi*sqrt(L*C);\n",
"fc=1/x;//carrier  frequency \n",
"f=5e3;//given audio frequency\n",
"fusb=fc+f;//upper side band frequency\n",
"flsb=fc-f;//lower side band frequency\n",
"BW=fusb-flsb;//required bandwidth \n",
"printf('Therefore upper side band frequency fusb=%.0f Hz \n',fusb)\n",
"printf(' Therefore lower side band frequency flsb=%.0f Hz \n',flsb)\n",
"printf('\n required bandwidth BW=%.0fHz',BW)\n",
"//in the book fc is approximated to 230Khz but the exact answer is 229.72kHz"
   ]
   }
,
{
		   "cell_type": "markdown",
		   "metadata": {},
		   "source": [
			"## Example 12.30: 1Carrier_swing_2frequency_deviation_3carrier_frequency_4modulation_index.sce"
		   ]
		  },
  {
"cell_type": "code",
	   "execution_count": null,
	   "metadata": {
	    "collapsed": true
	   },
	   "outputs": [],
"source": [
"//EX12_30 Pg-41.52\n",
"clc \n",
"clear\n",
"fh=99.047e3;//highest frequency reached in kHz\n",
"fl=99.023e3;//lowest frequency reached in kHz\n",
"fm=7//modulating frequency in kHz\n",
"cs=fh-fl;//carrier swing\n",
"printf('Carrier swing=%.0f kHz\n',cs)\n",
"fd=cs/2;//frequency deviation in kHz  \n",
"printf('\n Therefore frequency deviation fd=%.0f Khz \n',fd)\n",
"fc=fh-fd;//;carrier frequency in kHz\n",
"printf('\n Therefore carrier frequency fc=%.3f Mhz \n',fc*1e-3)\n",
"m=fd/fm;\n",
"printf('\n Modulation index m=%.3f ',m)\n",
""
   ]
   }
,
{
		   "cell_type": "markdown",
		   "metadata": {},
		   "source": [
			"## Example 12.3: AM_modulated_waveform.sce"
		   ]
		  },
  {
"cell_type": "code",
	   "execution_count": null,
	   "metadata": {
	    "collapsed": true
	   },
	   "outputs": [],
"source": [
"//EX12_3 Pg-12.17\n",
"clc\n",
"clear\n",
"fm=5e3;//assume modulation frequency f=5kHz\n",
"fc=1080e3;//assume carrier frequency f=1080kHz\n",
"time=0:2.3148e-7:8e-4;\n",
"//Waveform of modulated signal for m=0.75\n",
"m1=0.75;//modulation index\n",
"VmbyVc=m1\n",
"Vm=1;//we assume modulation voltage=1V\n",
"Vc=Vm/m1;//carrier voltage\n",
"k=VmbyVc;//modulation index = Vm/Vc\n",
"printf('\n for modulation index m=0.75 Vc=%.2f V',Vc)\n",
"\n",
"xset('window',1)\n",
"mt=k*sin(2*%pi*fm*time);\n",
"sam=Vc*(1+mt).*sin(2*%pi*fc*time);\n",
"plot(time(1:1500),sam(1:1500));\n",
"title(' Waveform of modulated signal m=0.75');\n",
"xlabel('Time (sec)');\n",
"ylabel('Amplitude (Vc=1.33V)');\n",
"xgrid(color('gray'));\n",
"\n",
"//Waveform of modulated signal for m=1\n",
"m1=1;\n",
"VmbyVc=m1\n",
"Vm=1;//we assume modulation voltage=1V\n",
"Vc=Vm/m1;//carrier voltage\n",
"k=VmbyVc;//modulation index = Vm/Vc\n",
"printf('\n for modulation index m=1    Vc=%.2f V',Vc)\n",
"\n",
"xset('window',2)\n",
"mt=k*sin(2*%pi*fm*time);\n",
"sam=Vc*(1+mt).*sin(2*%pi*fc*time);\n",
"plot(time(1:1500),sam(1:1500));\n",
"title(' Waveform of modulated signal m=1');\n",
"xlabel('Time (sec)');\n",
"ylabel('Amplitude (Vc=1V)');\n",
"xgrid(color('gray'));\n",
"\n",
"//Waveform for modulated signal for m=1.25\n",
"m1=1.25;\n",
"VmbyVc=m1\n",
"Vm=1;//we assume modulation voltage=1V\n",
"Vc=Vm/m1;//carrier voltage\n",
"k=VmbyVc;//modulation index = Vm/Vc\n",
"printf('\n for modulation index m=1.25 Vc=%.2f V',Vc)\n",
"\n",
"xset('window',3)\n",
"mt=k*sin(2*%pi*fm*time);\n",
"sam=Vc*(1+mt).*sin(2*%pi*fc*time);\n",
"plot(time(1:1500),sam(1:1500));\n",
"title(' Waveform of modulated signal m=1.25');\n",
"xlabel('Time (sec)');\n",
"ylabel('Amplitude (Vc=0.8V)');\n",
"xgrid(color('gray'));\n",
""
   ]
   }
,
{
		   "cell_type": "markdown",
		   "metadata": {},
		   "source": [
			"## Example 12.4: EX12_4.sce"
		   ]
		  },
  {
"cell_type": "code",
	   "execution_count": null,
	   "metadata": {
	    "collapsed": true
	   },
	   "outputs": [],
"source": [
"//EX12_4 Pg-12.22\n",
"clc\n",
"clear\n",
"//modulation index\n",
"Vm=10;//peak value of the audio frequency signal\n",
"Vc=50;//peak value of the carrier signal\n",
"m=Vm/Vc;//modulation index\n",
"%m=m*100;\n",
"printf('modulation index m=%.1f \n     ie          %%m=%.0f %% \n',m,%m)\n",
"//sideband frequencies\n",
"wm=2*%pi*500;\n",
"fm=wm/(2*%pi);\n",
"wc=2*%pi*1e5;\n",
"fc=wc/(2*%pi);\n",
"fusb=fc+fm;//upper side band frequency\n",
"flsb=fc-fm;//lower side band frequency\n",
"printf('\n Therefore upper side band frequency fusb=%.1f kHz \n',fusb*1e-3)\n",
"printf(' Therefore lower side band frequency fusb=%.1f kHz \n',flsb*1e-3)\n",
"//amplitude of each sinusoidal frequency\n",
"A=m*Vc/2;\n",
"printf('\n amplitude of upper and lower side bands=%.f V \n',A)\n",
"//bandwidth required\n",
"BW=fusb-flsb;//required bandwidth \n",
"printf('\n required bandwidth BW=%.0fHz\n',BW)\n",
"//power delivered to the load\n",
"R=600;//load resistance\n",
"P=Vc^2/(2*R)*(1+m^2/2)\n",
"printf('\n power delivered to the load %.3f W \n ',P)\n",
"//transmission efficiency\n",
"n=m^2/(2+m^2)*100;\n",
"mprintf('\n transmission efficiency n=%.2f %% \n',n)"
   ]
   }
,
{
		   "cell_type": "markdown",
		   "metadata": {},
		   "source": [
			"## Example 12.5: Total_power.sce"
		   ]
		  },
  {
"cell_type": "code",
	   "execution_count": null,
	   "metadata": {
	    "collapsed": true
	   },
	   "outputs": [],
"source": [
"//EX12_5 Pg-12.23\n",
"clc\n",
"clear\n",
"Pc=400;//power of the carrier signal\n",
"m=0.8;//modulation index\n",
"P=Pc*(1+m^2/2)\n",
"printf('  Therefore total power in the modulated wave is %.0f W',P)"
   ]
   }
,
{
		   "cell_type": "markdown",
		   "metadata": {},
		   "source": [
			"## Example 12.6: Power_of_each_sidebands.sce"
		   ]
		  },
  {
"cell_type": "code",
	   "execution_count": null,
	   "metadata": {
	    "collapsed": true
	   },
	   "outputs": [],
"source": [
"//EX12_6 Pg-12.23\n",
"clc\n",
"clear\n",
"m=0.75;//modulation index\n",
"P=20;//total power in kW\n",
"Pc=P/(1+m^2/2)//since P=Pc*(1+m^2/2)\n",
"printf('therefore carrier power in the modulated wave is %.1f kW',Pc)\n",
"Psb=Pc*m^2/4;//side band power\n",
"Pusb=Psb;\n",
"Plsb=Psb;\n",
"printf('\n Pusb=%.1f kW \n Plsb=%.1f kW',Pusb,Plsb)"
   ]
   }
,
{
		   "cell_type": "markdown",
		   "metadata": {},
		   "source": [
			"## Example 12.7: Antenna_current.sce"
		   ]
		  },
  {
"cell_type": "code",
	   "execution_count": null,
	   "metadata": {
	    "collapsed": true
	   },
	   "outputs": [],
"source": [
"//EX12_7 Pg-12.25\n",
"clc\n",
"clear\n",
"m=0.6;//modulation index\n",
"Itotal=5;//total antenna current\n",
"//Ic=total antenna current when only the carrier is sent\n",
"Ic=Itotal/sqrt(1+m^2/2)//since Itotal=Ic*sqrt(1+m^2/2)\n",
"printf('Therefore total antenna current when only the carrier is sent Ic=%.1f A',Ic)"
   ]
   }
,
{
		   "cell_type": "markdown",
		   "metadata": {},
		   "source": [
			"## Example 12.8: modulation_index.sce"
		   ]
		  },
  {
"cell_type": "code",
	   "execution_count": null,
	   "metadata": {
	    "collapsed": true
	   },
	   "outputs": [],
"source": [
"//EX12_8 Pg-12.26.\n",
"clc\n",
"clear\n",
"Ic=poly(0,'Ic');//unmodulated carrier signal\n",
"Itotal=1.15*Ic;//total rms current when the signal is modulated \n",
"x=Itotal/Ic;\n",
"x=horner(x,1)\n",
"y=2*((x)^2-1)\n",
"m=sqrt(y)\n",
"printf('modulation index m=%.1f ',m)"
   ]
   }
,
{
		   "cell_type": "markdown",
		   "metadata": {},
		   "source": [
			"## Example 12.9: modulation_index.sce"
		   ]
		  },
  {
"cell_type": "code",
	   "execution_count": null,
	   "metadata": {
	    "collapsed": true
	   },
	   "outputs": [],
"source": [
"//EX12_9 Pg-12.28\n",
"clc\n",
"clear\n",
"m1=0.6;//first modulation index\n",
"m2=0.3;//second modulation index\n",
"m3=0.4;//third modulation index\n",
"mt=sqrt(m1^2+m2^2+m3^2);\n",
"printf('total modulation index m=%.3f ',mt)"
   ]
   }
],
"metadata": {
		  "kernelspec": {
		   "display_name": "Scilab",
		   "language": "scilab",
		   "name": "scilab"
		  },
		  "language_info": {
		   "file_extension": ".sce",
		   "help_links": [
			{
			 "text": "MetaKernel Magics",
			 "url": "https://github.com/calysto/metakernel/blob/master/metakernel/magics/README.md"
			}
		   ],
		   "mimetype": "text/x-octave",
		   "name": "scilab",
		   "version": "0.7.1"
		  }
		 },
		 "nbformat": 4,
		 "nbformat_minor": 0
}
