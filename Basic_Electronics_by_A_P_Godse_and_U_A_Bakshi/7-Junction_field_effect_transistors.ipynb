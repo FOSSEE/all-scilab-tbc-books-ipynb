{
"cells": [
 {
		   "cell_type": "markdown",
	   "metadata": {},
	   "source": [
       "# Chapter 7: Junction field effect transistors"
	   ]
	},
{
		   "cell_type": "markdown",
		   "metadata": {},
		   "source": [
			"## Example 7.1: Drain_current.sce"
		   ]
		  },
  {
"cell_type": "code",
	   "execution_count": null,
	   "metadata": {
	    "collapsed": true
	   },
	   "outputs": [],
"source": [
"//Ex7_1 PG-7.13\n",
"clc\n",
"Idss=10e-3;\n",
"Vgs_off=-4;\n",
"printf('For Vgs =0 V')\n",
"Vgs=0;\n",
"Id=Idss;\n",
"printf('\n Idss=%.0f mA \n',Id*1e3)\n",
"printf('\n For Vgs =-1 V')\n",
"Vgs=-1;\n",
"Id=Idss*(1-Vgs/Vgs_off)^2;\n",
"printf('\n Idss=%.3f mA \n',Id*1e3)\n",
"printf('\n For Vgs =-4 V')\n",
"Vgs=-4;\n",
"Id=Idss*(1-Vgs/Vgs_off)^2;\n",
"printf('\n Idss=%.0f A \n',Id)\n",
"//In the book this example is mention as Example-4_3\n",
"//but  it is the first example in this chapter so I've taken this as Example-7_1 \n",
""
   ]
   }
,
{
		   "cell_type": "markdown",
		   "metadata": {},
		   "source": [
			"## Example 7.2: 1maximum_and_minimum_od_output_voltage_2voltage_gain.sce"
		   ]
		  },
  {
"cell_type": "code",
	   "execution_count": null,
	   "metadata": {
	    "collapsed": true
	   },
	   "outputs": [],
"source": [
"//Ex7_2 PG-7.17\n",
"clc\n",
"Vi=50e-3//input supply\n",
"Rd=5e3;\n",
"Yfs_max=4000e-6;\n",
"Yfs_min=1000e-6;\n",
"disp(' For Yfs_max=4000e-6')\n",
"Id_delta=Yfs_max*Vi;\n",
"printf('\n Change in Id is +/- %.1f mA \n',Id_delta*1e3)\n",
"Vo=Id_delta*Rd;//output voltage \n",
"Av=Vo/Vi;//voltge gain\n",
"printf('\n Voltage gain is %.0f \n',Av)\n",
"disp(' For Yfs_min=1000e-6')\n",
"Id_delta=Yfs_min*Vi;\n",
"printf('\n Change in Id is +/- %.2f mA \n',Id_delta*1e3)\n",
"Vo=Id_delta*Rd;//output voltage \n",
"Av=Vo/Vi;//voltge gain\n",
"printf('\n Voltage gain is %.0f \n',Av)\n",
"//In the book this example is mention as Example-7_1\n",
"//but  it is the second example in this chapter so I've taken this as Example-7_2 "
   ]
   }
],
"metadata": {
		  "kernelspec": {
		   "display_name": "Scilab",
		   "language": "scilab",
		   "name": "scilab"
		  },
		  "language_info": {
		   "file_extension": ".sce",
		   "help_links": [
			{
			 "text": "MetaKernel Magics",
			 "url": "https://github.com/calysto/metakernel/blob/master/metakernel/magics/README.md"
			}
		   ],
		   "mimetype": "text/x-octave",
		   "name": "scilab",
		   "version": "0.7.1"
		  }
		 },
		 "nbformat": 4,
		 "nbformat_minor": 0
}
