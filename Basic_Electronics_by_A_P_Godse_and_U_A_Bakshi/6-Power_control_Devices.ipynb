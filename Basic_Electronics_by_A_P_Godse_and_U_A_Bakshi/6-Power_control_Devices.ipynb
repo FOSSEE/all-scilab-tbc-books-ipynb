{
"cells": [
 {
		   "cell_type": "markdown",
	   "metadata": {},
	   "source": [
       "# Chapter 6: Power control Devices"
	   ]
	},
{
		   "cell_type": "markdown",
		   "metadata": {},
		   "source": [
			"## Example 6.1: Finding_of_various_ratings_of_SCR.sce"
		   ]
		  },
  {
"cell_type": "code",
	   "execution_count": null,
	   "metadata": {
	    "collapsed": true
	   },
	   "outputs": [],
"source": [
"//EX6_1 PG-6.15\n",
"clc\n",
"Es=20;//rms value of the supply voltage \n",
"Ep=sqrt(2)*Es;//peak value\n",
"printf('\n Therefore peak value of the input voltage is %.4f V \n',Ep)\n",
"printf('\n Therefore forward and reverse blocking voltge of SCR>%.4f V \n',Ep)\n",
"Rl=30;//load resistance\n",
"Ih=5e-3;//holding current\n",
"Vtm=1.7;//state voltage drop\n",
"Vl_peak=Ep-Vtm;\n",
"printf('\n Vl_peak=%.4f V \n',Vl_peak)\n",
"Il_peak=Vl_peak/Rl;\n",
"printf('\n Il_peak=%.4f A \n',Il_peak)\n",
"Il_rms=Il_peak/2;\n",
"printf('\n rms value of current flowing through the SCR is %.3f A \n',Il_rms)\n",
"//SCR current rating should be greater than Il_rms\n",
"Es_off=Vtm+Ih*Rl;//voltage which cause SCR to switch off\n",
"printf('\n voltage which cause SCR to switch off is %.2f V \n',Es_off)"
   ]
   }
,
{
		   "cell_type": "markdown",
		   "metadata": {},
		   "source": [
			"## Example 6.2: Designing_values_of_R1_R2_and_R3.sce"
		   ]
		  },
  {
"cell_type": "code",
	   "execution_count": null,
	   "metadata": {
	    "collapsed": true
	   },
	   "outputs": [],
"source": [
"//EX6_2 PG-6.18\n",
"clc\n",
"disp('Refer to the figure-6.19 shown')\n",
"Es=25;//rms value of the supply voltage \n",
"Vd1=0.7;//diode drop\n",
"Vg=0.75;//SCR triggering voltage\n",
"alpha1=10;//minimum phase angle \n",
"alpha2=90;//maximum phase angle\n",
"Ep=sqrt(2)*Es;//peak value\n",
"Es1=Ep*sind(alpha1)\n",
"Es2=Ep*sind(alpha2)\n",
"Vt=Vd1+Vg;//voltage across R3\n",
"printf('\n Position of R2 at top to trigger at 10 degree ')\n",
"Vr1=Es1-Vt;//since Vt=Vr2+Vr3\n",
"//I1_min>>Ig ie 200 microA\n",
"I1_min=1e-3;\n",
"R1=Vr1/I1_min;\n",
"printf('\n Therefore R1=%.4f kohm \n',R1*1e-3)\n",
"printf(' We use R1=4.7 kohm standard value \n\n')\n",
"R1=4.7e3;//standard value R1\n",
"x=Vt/I1_min;//x=R2+R3\n",
"printf(' Position of R2 at bottom to trigger at 90 degree ')\n",
"Vr3=Vt;\n",
"I1=Es2/(R1+x);\n",
"R3=Vr3/I1;\n",
"printf('\n Therefore R3=%.2f ohm \n',R3)\n",
"printf(' We use R3=270 ohm standard value \n')\n",
"R3=270;//standard value R3\n",
"R2=x-R3;//since x=R2+R3\n",
"printf('\n Therefore R2=%.2f kohm \n',R2*1e-3)\n",
"printf(' We use the pot=1.5 kohm standard value for precise judgement')"
   ]
   }
,
{
		   "cell_type": "markdown",
		   "metadata": {},
		   "source": [
			"## Example 6.3: Frequency_of_oscillations.sce"
		   ]
		  },
  {
"cell_type": "code",
	   "execution_count": null,
	   "metadata": {
	    "collapsed": true
	   },
	   "outputs": [],
"source": [
"//EX6_3 PG-6.33\n",
"clc\n",
"Rt=5;//resistance in kohm\n",
"Ct=0.1;//capacitance in micro farad\n",
"n=0.58;//standoff ratio\n",
"T=Rt*Ct*log(1/(1-n));//time period in seconds\n",
"fo=1/T;//frequency of oscillations\n",
"fo=fo;\n",
"printf('\n Therefore frequency of oscillation is %.3f kHz \n',fo)"
   ]
   }
,
{
		   "cell_type": "markdown",
		   "metadata": {},
		   "source": [
			"## Example 6.4: Frequency_of_oscillations.sce"
		   ]
		  },
  {
"cell_type": "code",
	   "execution_count": null,
	   "metadata": {
	    "collapsed": true
	   },
	   "outputs": [],
"source": [
"//EX6_4 PG-6.34\n",
"clc\n",
"Vbb=20;\n",
"Ct=0.1e-6;//capacitance\n",
"Rt=10e3;//resistance \n",
"Vv=1.5;//valley potential\n",
"Vd=0.7;//cut in voltage of diode \n",
"n=0.6;//stand off ratio\n",
"Vp=n*Vbb+Vd;\n",
"disp('We know that Vp=Vbb(1-exp(-T/(Rt*Ct)))')\n",
"x=(Vp-Vv)/Vbb;//x=(1-exp(-T/(Rt*Ct))\n",
"y=1-x;//y=exp(-T/(Rt*Ct)\n",
"z=Rt*Ct;\n",
"T=-log(y)*z;//time period\n",
"fo=1/T;//frequency of oscillations\n",
"fo=fo*1e-3;\n",
"printf('\n Therefore frequency of oscillation is %.3f kHz \n',fo)"
   ]
   }
,
{
		   "cell_type": "markdown",
		   "metadata": {},
		   "source": [
			"## Example 6.5: Range_of_Rt.sce"
		   ]
		  },
  {
"cell_type": "code",
	   "execution_count": null,
	   "metadata": {
	    "collapsed": true
	   },
	   "outputs": [],
"source": [
"//EX6_5 PG-6.34\n",
"clc\n",
"Vbb=30;\n",
"Vv=0.8;//valley potential\n",
"Iv=15e-3\n",
"Vd=0.7;//cut in voltage of diode \n",
"n=0.33;//stand off ratio\n",
"Vp=18;\n",
"Ip=35e-6;\n",
"printf(' For turn ON')\n",
"printf('\n  Rt<(Vbb-Vp)/Ip')\n",
"Rt=(Vbb-Vp)/Ip;\n",
"printf('\n  therefore Rt<%.0f 0hm \n',Rt)\n",
"printf(' \n  For turn OFF')\n",
"printf('\n  Rt>(Vbb-Vv)/Iv')\n",
"Rt1=(Vbb-Vv)/Iv\n",
"printf('\n  therefore Rt>%.0f 0hm \n',Rt1)\n",
"printf('\n  So range of Rt is %.3f kohm< Rt <%.2f kohm \n',Rt1*1e-3,Rt*1e-3)\n",
"\n",
""
   ]
   }
],
"metadata": {
		  "kernelspec": {
		   "display_name": "Scilab",
		   "language": "scilab",
		   "name": "scilab"
		  },
		  "language_info": {
		   "file_extension": ".sce",
		   "help_links": [
			{
			 "text": "MetaKernel Magics",
			 "url": "https://github.com/calysto/metakernel/blob/master/metakernel/magics/README.md"
			}
		   ],
		   "mimetype": "text/x-octave",
		   "name": "scilab",
		   "version": "0.7.1"
		  }
		 },
		 "nbformat": 4,
		 "nbformat_minor": 0
}
