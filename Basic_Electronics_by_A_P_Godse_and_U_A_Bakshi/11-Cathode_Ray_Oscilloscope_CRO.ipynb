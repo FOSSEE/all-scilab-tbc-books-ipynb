{
"cells": [
 {
		   "cell_type": "markdown",
	   "metadata": {},
	   "source": [
       "# Chapter 11: Cathode Ray Oscilloscope CRO"
	   ]
	},
{
		   "cell_type": "markdown",
		   "metadata": {},
		   "source": [
			"## Example 11.1: Amplitude_and_rms_value_of_sinusoidal_voltage.sce"
		   ]
		  },
  {
"cell_type": "code",
	   "execution_count": null,
	   "metadata": {
	    "collapsed": true
	   },
	   "outputs": [],
"source": [
"//EX11_1 PG-11.16\n",
"clc\n",
"disp('Refer to the figure-11.11 showwn')\n",
"disp('from the figure we can see that the screen is divided such')\n",
"disp('that one part of the half wave is sub-divided into 5 units')\n",
"disp('1subdivision=(1/5)units=0.2 units')\n",
"disp('amplitude of the positive peak signal=2division+3subdivision ')\n",
"disp('ie amplitude of the positive peak signal=2+3*0.2=2.6')\n",
"Vp=2+3*0.2;//amplitude of the peak voltage in terms of dividion\n",
"Vpp=2*Vp;//peak to peak voltage in terms of division\n",
"VA=2;//Vertical attenuation in (mV/div)\n",
"V=Vpp*VA;//required peak to peak output voltage in volts\n",
"Vm=V/2;//amplitude of the output voltage in volts\n",
"printf('\n Therefore amplitude of the output voltage in volts=%.1f mV \n',Vm)\n",
"Vrms=Vm/sqrt(2);//rms value of the output voltage\n",
"printf('\n Therefore rms value of the output voltage in volts=%.4f mV \n',Vrms)"
   ]
   }
,
{
		   "cell_type": "markdown",
		   "metadata": {},
		   "source": [
			"## Example 11.2: Rms_voltage_and_frequency.sce"
		   ]
		  },
  {
"cell_type": "code",
	   "execution_count": null,
	   "metadata": {
	    "collapsed": true
	   },
	   "outputs": [],
"source": [
"//EX11_2 PG-11.19\n",
"clc\n",
"Vd=2;//voltage per division in(V/div)\n",
"Td=2e-3;//time base division in (s/div)\n",
"Vdiv=3;//vertical occupancy in division as shown in the screen\n",
"Vpp=Vd*Vdiv;//peak to peak voltage \n",
"Vm=Vpp/2;//peak voltage\n",
"Vrms=Vm/sqrt(2);//rms value of the output voltage\n",
"printf('\n Therefore rms value of the output voltage in volts=%.4f V \n',Vrms)\n",
"Hdiv=2;//horizontal occupancy in division as shown in the screen\n",
"T=Hdiv*Td;//time period of the waveform\n",
"f=1/T;//frequency\n",
"printf('\n Therefore frequency f=%.0f Hz \n ',f)"
   ]
   }
],
"metadata": {
		  "kernelspec": {
		   "display_name": "Scilab",
		   "language": "scilab",
		   "name": "scilab"
		  },
		  "language_info": {
		   "file_extension": ".sce",
		   "help_links": [
			{
			 "text": "MetaKernel Magics",
			 "url": "https://github.com/calysto/metakernel/blob/master/metakernel/magics/README.md"
			}
		   ],
		   "mimetype": "text/x-octave",
		   "name": "scilab",
		   "version": "0.7.1"
		  }
		 },
		 "nbformat": 4,
		 "nbformat_minor": 0
}
