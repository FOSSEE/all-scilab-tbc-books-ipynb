{
"cells": [
 {
		   "cell_type": "markdown",
	   "metadata": {},
	   "source": [
       "# Chapter 2: Semiconductor Devices"
	   ]
	},
{
		   "cell_type": "markdown",
		   "metadata": {},
		   "source": [
			"## Example 2.10: Forward_voltage_drop.sce"
		   ]
		  },
  {
"cell_type": "code",
	   "execution_count": null,
	   "metadata": {
	    "collapsed": true
	   },
	   "outputs": [],
"source": [
"//EX2_10 PG-2.37\n",
"clc\n",
"T1=27;//initial temperature\n",
"Vfl=0.7;//forward voltage\n",
"Vtc=-2.3e-3;//voltage temperature coefficient\n",
"disp('at T2=25 degree C')\n",
"T2=50;\n",
"Vf2=Vfl+((T2-T1)*Vtc)\n",
"printf('\n therefore forward voltage drop at 50 degree C is %.4f V \n',Vf2)\n",
"disp('at T3=77 degree C')\n",
"T3=77;\n",
"Vf2=Vfl+((T3-T1)*Vtc)\n",
"printf('\n therefore forward voltage drop at 77 degree C is %.3f V',Vf2)"
   ]
   }
,
{
		   "cell_type": "markdown",
		   "metadata": {},
		   "source": [
			"## Example 2.11: Dynamic_resistance.sce"
		   ]
		  },
  {
"cell_type": "code",
	   "execution_count": null,
	   "metadata": {
	    "collapsed": true
	   },
	   "outputs": [],
"source": [
"//EX2_11 PG-2.38\n",
"clc\n",
"If=30e-3;//forward current\n",
"T1=25+273;//temperature in degree kelvin\n",
"disp('Therefore at a temperature of 25 Degree C ')\n",
"Rf=26e-3/If;\n",
"printf('\n dynamic resistance is %.3f ohm \n',Rf)\n",
"disp('Therefore at a temperature of 75 Degree C ')\n",
"T2=75+273//Temperature in degree kelvin\n",
"Rf=Rf*(T2/T1);\n",
"printf('\n dynamic resistance is %.3f ohm',Rf)"
   ]
   }
,
{
		   "cell_type": "markdown",
		   "metadata": {},
		   "source": [
			"## Example 2.12: Maximum_reverse_recovery_time.sce"
		   ]
		  },
  {
"cell_type": "code",
	   "execution_count": null,
	   "metadata": {
	    "collapsed": true
	   },
	   "outputs": [],
"source": [
"//EX2_12 PG-2.43\n",
"clc\n",
"Tf_min=1;//fall time in micro second\n",
"Trr_max=Tf_min/10\n",
"printf('the maximum recovery time is %.1f micro sec',Trr_max)"
   ]
   }
,
{
		   "cell_type": "markdown",
		   "metadata": {},
		   "source": [
			"## Example 2.13: Derated_power_rating.sce"
		   ]
		  },
  {
"cell_type": "code",
	   "execution_count": null,
	   "metadata": {
	    "collapsed": true
	   },
	   "outputs": [],
"source": [
"//EX2_13 PG-2.48\n",
"clc\n",
"PD_max=320e-3;//maximum power rating\n",
"T1=50;//temperature in degree celsius at which maximum power rating occurs\n",
"DF=2.3e-3;//Derating factor\n",
"disp('Therefore the derated power rating at a temperature T=100 Degree celsius')\n",
"T2=100;\n",
"PD=PD_max-DF*(T2-T1);\n",
"printf('\n is %.3f W',PD)"
   ]
   }
,
{
		   "cell_type": "markdown",
		   "metadata": {},
		   "source": [
			"## Example 2.14: Zener_resitance.sce"
		   ]
		  },
  {
"cell_type": "code",
	   "execution_count": null,
	   "metadata": {
	    "collapsed": true
	   },
	   "outputs": [],
"source": [
"//EX2_14 PG-2.52\n",
"clc\n",
"Vzd=50e-3;//change in Vz\n",
"Izd=2.5e-3//change in Iz\n",
"Zz=Vzd/Izd;//zener resistance\n",
"printf('zener resistance Zz=%.0f ohm',Zz)"
   ]
   }
,
{
		   "cell_type": "markdown",
		   "metadata": {},
		   "source": [
			"## Example 2.15: voltage_across_the_terminal.sce"
		   ]
		  },
  {
"cell_type": "code",
	   "execution_count": null,
	   "metadata": {
	    "collapsed": true
	   },
	   "outputs": [],
"source": [
"//EX2_15 PG-2.52\n",
"clc\n",
"rz=4;//zener diode resistance\n",
"Vz=5.1;\n",
"Iz=25e-3;\n",
"x=Iz*rz;\n",
"Vzz=Vz+x;//total terminal voltage across the diode \n",
"printf('Therefore total terminal voltage across the diode Vz''= %.1fV',Vzz)"
   ]
   }
,
{
		   "cell_type": "markdown",
		   "metadata": {},
		   "source": [
			"## Example 2.16: maximum_zener_current.sce"
		   ]
		  },
  {
"cell_type": "code",
	   "execution_count": null,
	   "metadata": {
	    "collapsed": true
	   },
	   "outputs": [],
"source": [
"//EX2_16 PG-2.52\n",
"clc\n",
"Vz=6.8//nominal voltage\n",
"Pd_max=500;//zener diode power loss in mW at 40 degree celsius\n",
"D=2.6;//Derating factor in mW/degree celsius\n",
"T1=40;//Temperature in degree celsius\n",
"Izm=Pd_max/Vz;\n",
"printf('   At T=40 degree celsius maximum zener current Izm=%.2f mA\n\n',Izm)\n",
"T2=100;//Temperature in degree celsius\n",
"delta_T=T2-T1;//change in temperature\n",
"Pd_derated=Pd_max-D*delta_T\n",
"Izm=Pd_derated/Vz;\n",
"printf('   At T=100 degree celsius maximum zener current Izm=%.3f mA\n\n',Izm)"
   ]
   }
,
{
		   "cell_type": "markdown",
		   "metadata": {},
		   "source": [
			"## Example 2.17: Zener_diode_current_and_power_dissipation.sce"
		   ]
		  },
  {
"cell_type": "code",
	   "execution_count": null,
	   "metadata": {
	    "collapsed": true
	   },
	   "outputs": [],
"source": [
"//EX2_17 PG-2.52\n",
"clc\n",
"printf('Refer to the figure-2.51 shown\n')\n",
"printf(' We apply KVL across the circuit \n')\n",
"printf(' Therefore -Iz*R1-Vz+Vin = 0 \n')\n",
"Vin=15;\n",
"Vz=5.2;\n",
"R1=670;\n",
"Iz=(Vin-Vz)/R1;//zener diode current\n",
"Iz=Iz*1e3;//in mA\n",
"Pd=Vz*Iz;//power dissipation\n",
"printf(' \n zener diode current Iz:%f mA\n power dissipation :%f mW ',Iz,Pd)"
   ]
   }
,
{
		   "cell_type": "markdown",
		   "metadata": {},
		   "source": [
			"## Example 2.1: Dc_reverse_Resistance.sce"
		   ]
		  },
  {
"cell_type": "code",
	   "execution_count": null,
	   "metadata": {
	    "collapsed": true
	   },
	   "outputs": [],
"source": [
"//Ex-2.1 Pg-2.18\n",
"clc;\n",
"clear;\n",
"Vf=0.2; //voltage in volts\n",
"Vr=60; //voltage in volts\n",
"If=60*10^(-3); //current in  ampere\n",
"I0=0.025*10^(-3); //current in  ampere\n",
"Rf=Vf/If;//forward resistance\n",
"Rr=Vr/I0;//reverse resistance\n",
"Rr=Rr*1e-6\n",
"printf('the equivalent resistance are Rf=%.3f ohm and Rr=%-.1f M ohm',Rf,Rr)\n",
""
   ]
   }
,
{
		   "cell_type": "markdown",
		   "metadata": {},
		   "source": [
			"## Example 2.2: Dynamic_forward_resistance.sce"
		   ]
		  },
  {
"cell_type": "code",
	   "execution_count": null,
	   "metadata": {
	    "collapsed": true
	   },
	   "outputs": [],
"source": [
"//Chapter-2 Ex-2.2 Pg-2.18\n",
"clc\n",
"clear;\n",
"disp('refer to the Figure-2.19 given ')\n",
"disp('from the characteristics at point P, Vf=0.7V,If=60mA')\n",
"Vf=0.7;\n",
"If=0.06;\n",
"Rf=Vf/If;//DC forward resistance\n",
"printf('\n DC forward resistance Rf : %.2f ohm\n',Rf)\n",
"disp('as the forward voltage changes from P to Q')\n",
"delta_Vf=0.77-.7;\n",
"delta_If=(120-60)*10^(-3);\n",
"rf=delta_Vf/delta_If;//dynamic forward resistance\n",
"printf('\n Dynamic forward resistance rf : %.3f ohm',rf)"
   ]
   }
,
{
		   "cell_type": "markdown",
		   "metadata": {},
		   "source": [
			"## Example 2.3: Current_through_the_resistance.sce"
		   ]
		  },
  {
"cell_type": "code",
	   "execution_count": null,
	   "metadata": {
	    "collapsed": true
	   },
	   "outputs": [],
"source": [
"//Ex2_3 Pg-2-22\n",
"clc\n",
"clear;\n",
"disp(' Refer to the figure-2.24 shown ')\n",
"disp(' since Rf=0 The circuit becomes as shown in figure-2.24(a)')\n",
"V=10;//supply voltage\n",
"Rf=0;//forward resistance\n",
"Rl=1;//load resistance in k ohm\n",
"Vin=0.7;//cut in voltage\n",
"Il=(V-Vin)/Rl;//applying KVL to the loop\n",
"If=Il;\n",
"printf('\n \n current through the resistance Il=If = is %.1f mA',If)\n",
"Vl=Il*Rl;\n",
"printf('\n \n voltage across Rl is %.1f V',Vl)\n",
"Pd=If*Vin;\n",
"printf('\n \n diode power Pd = %.2f mW',Pd)\n",
"Pl=Il*Vl;\n",
"printf('\n \n load power Pl = %.2f mW',Pl)"
   ]
   }
,
{
		   "cell_type": "markdown",
		   "metadata": {},
		   "source": [
			"## Example 2.4: Forward_current_through_the_diode.sce"
		   ]
		  },
  {
"cell_type": "code",
	   "execution_count": null,
	   "metadata": {
	    "collapsed": true
	   },
	   "outputs": [],
"source": [
"//EX2_4 PG-2.23\n",
"clc\n",
"disp('Refer the Figure-2.25 shown')\n",
"disp('When forward resistance Rf is neglected  then')\n",
"disp('the diode behaves as a battery as shown in Figure-2.25(a)')\n",
"Vf=0.7;//cut-in voltage\n",
"V=10;//supply voltage\n",
"Rl=500;//load resistance\n",
"If=(V-Vf)/Rl;//applying KVL to the circuit\n",
"If=If*1e3\n",
"printf('\n Forward current is %.2f mA\n',If)\n",
"disp('When forward resistance is Rf is 3.2 Ohm then')\n",
"disp('the equivalent circuit is as shown in fig-2.25(b)')\n",
"Rf=3.2;\n",
"If=(V-Vf)/(Rl+Rf);//applying KVL to the circuit\n",
"If=If*1e3\n",
"printf('\n therefore Forward current is %.4f mA',If)"
   ]
   }
,
{
		   "cell_type": "markdown",
		   "metadata": {},
		   "source": [
			"## Example 2.5: Piece_Wise_linear_characteristic_of_a_Diode.sce"
		   ]
		  },
  {
"cell_type": "code",
	   "execution_count": null,
	   "metadata": {
	    "collapsed": true
	   },
	   "outputs": [],
"source": [
"//EX2_5 PG-2.23\n",
"clc\n",
"If=80e-3;//maximum forward current\n",
"Rf=0.4;//dynamic resistance\n",
"Vin=0.3;//cut-in voltage for germanium\n",
"disp('when forward current is zero then')\n",
"Vf=Vin;//voltage across the diode\n",
"printf(' voltage across the diode is %1.1f V\n',Vf)\n",
"disp('when forward current is 80mA then')\n",
"Vf=Vin+If*Rf;\n",
"printf(' voltage across the diode is %1.3f V',Vf)\n",
"clf()\n",
"x=[0 .1 .2 .3 .332];//x-coordinate\n",
"y=[0  0  0  0  80];//y-coordinate\n",
"plot2d(x,y)\n",
"xlabel('voltage across the diode (V) ');\n",
"ylabel('current (mA)');\n",
"title('Piecewise linear characteristic')\n",
"xgrid(color('grey'));"
   ]
   }
,
{
		   "cell_type": "markdown",
		   "metadata": {},
		   "source": [
			"## Example 2.6: Load_resistance_Rl.sce"
		   ]
		  },
  {
"cell_type": "code",
	   "execution_count": null,
	   "metadata": {
	    "collapsed": true
	   },
	   "outputs": [],
"source": [
"//EX2_6 PG-2.28\n",
"clc\n",
"disp('Refer to the Figure:2.29 shown')\n",
"If=25e-3;//current at Q-point\n",
"disp('for Q point If=25mA, ie Iq=25mA')\n",
"disp('for If=0 A, Vf=Vin=3V at point B')\n",
"disp('Now we draw the graph')\n",
"disp('The coordinates are Q=(1V,25mA) B=(3V,0mA)')\n",
"clf()\n",
"x=[ 0 0.5 0.6    1   1.1 ];//x-coordinate\n",
"y=[ 0  1   5     25   30 ];//y-coordinate\n",
"plot(x,y,)\n",
"x1=[0.5   1    3];//x-coordinate\n",
"y1=[ 31   25   0];//y-coordinate\n",
"plot(x1,y1)\n",
"x2=[ 0 1];\n",
"y2=[25 25];\n",
"plot2d(x2,y2,style=6)\n",
"xlabel('Vf (volts)');\n",
"ylabel('If (mA)');\n",
"title('Piece-wise linear characteristic')\n",
"xgrid(color('red'));\n",
"disp('Q-point is denoted by the intersection of two lines as shown in the plot')\n",
"delta_If=10e-3;//from the graph plotted\n",
"delta_Vf=0.9;//from the graph plotted\n",
"s=delta_If/delta_Vf;//slope\n",
"disp('Therefore load resistance is the reciprocal of the slope ')\n",
"Rl=1/s;//load resistance\n",
"printf('\n required load resistance is %.0f ohm',Rl)"
   ]
   }
,
{
		   "cell_type": "markdown",
		   "metadata": {},
		   "source": [
			"## Example 2.7: New_supply_voltage.sce"
		   ]
		  },
  {
"cell_type": "code",
	   "execution_count": null,
	   "metadata": {
	    "collapsed": true
	   },
	   "outputs": [],
"source": [
"//EX2_7 PG-2.29\n",
"clc\n",
"Rl=150;//load resistance\n",
"If=35e-3;//current at which Q-point appears\n",
"disp('We draw the new DC load line in the plot')\n",
"s=-1/Rl;//slope\n",
"printf('\n slope is %f \n',s)\n",
"x=[ 0 0.5  1   1.1 1.15 ];//x-coordinate\n",
"y=[ 0  1  25   35   40 ];//y-coordinate\n",
"clf()\n",
"plot2d(x,y,style=2) \n",
"x1=[0 1.1 2.6 6.4 ];//x-coordinate\n",
"y1=[42  35   25  0];//y-coordinate\n",
"plot2d(x1,y1)\n",
"x2=[ 0  1  1.1];//x-coordinate\n",
"y2=[35 35  35];//y-coordinate\n",
"plot2d(x2,y2,style=5)\n",
"x3=[0  1  2.6];//x-coordinate\n",
"y3=[25 25 25];//y-coordinate\n",
"plot2d(x3,y3,style=4)\n",
"x4=[1.1 1.1 1.1];\n",
"y4=[ 0  10   35 ];\n",
"plot2d(x4,y4,style=6)\n",
"x5=[2.6 2.6];\n",
"y5=[0    25];\n",
"plot2d(x5,y5,style=7)\n",
"xlabel('Vf (volts)');\n",
"ylabel('If (mA)');\n",
"title('Piece-wise linear characteristic')\n",
"xgrid(color('gray'));\n",
"disp('The slope passes through the Q-point so the equation of the load ')\n",
"disp('line is If=(-Vf/Rl)+(Vin/Rl)')\n",
"disp('Now from the graph we can see that slope =(change in If)/(change in Vf)')\n",
"disp('For If=35 mA Vf=1.1 V')\n",
"disp('The coordinates are Q=(1.1V,35mA) C=(2.6V,25mA) B=(6.4V,0mA)')\n",
"delta_If=10e-3;//change in If\n",
"delta_Vf=delta_If/abs(s);//change in Vf and we take only the magnitudeof the slope \n",
"printf('\n change in Vf is %1.1f V \n',delta_Vf)\n",
"disp('This is point C corresponding to If=35-10=35mA, as If is change by 10mA' )\n",
"disp('and Vf=2.6V ')\n",
"disp('We join the Q-point and point C as shown in the plot to get the DC load')\n",
"disp(' line we extend the line to intersect point B ')\n",
"disp('the voltage at point B is the new supply voltage required')\n",
"printf('\n From the plot voltage at point B = 6.7 V')"
   ]
   }
,
{
		   "cell_type": "markdown",
		   "metadata": {},
		   "source": [
			"## Example 2.8: Pn_junction_diode_current.sce"
		   ]
		  },
  {
"cell_type": "code",
	   "execution_count": null,
	   "metadata": {
	    "collapsed": true
	   },
	   "outputs": [],
"source": [
"//EX2_8 PG-2.33\n",
"clc\n",
"V=0.22;//forward bias voltage\n",
"T=25+273;//room temperature in degree kelvin\n",
"I0=2e-3;//reverse saturation current\n",
"n=1;//for germanium diode\n",
"k=8.62e-5//Boltzmann's constant\n",
"Vt=k*T;\n",
"I=I0*(exp(V/(n*Vt)));// diode current\n",
"printf('therefore the P-N junction diode current is %f A',I)\n",
"// in the book they have taken the approximate value \n",
"//hence the answer is slighty different. in the book \n",
"//Vt=0.02568(approx) whereas Vt=0.0256876(exact value)"
   ]
   }
,
{
		   "cell_type": "markdown",
		   "metadata": {},
		   "source": [
			"## Example 2.9: Maximum_forward_current.sce"
		   ]
		  },
  {
"cell_type": "code",
	   "execution_count": null,
	   "metadata": {
	    "collapsed": true
	   },
	   "outputs": [],
"source": [
"//EX2_9 PG-2.36\n",
"clc\n",
"P1=500e-3;//rated power rating of the diode \n",
"T1=27;//temperature in Degree Celsius\n",
"Df=4e-3;//Derating factor \n",
"disp('At temperature T=27 degree C')\n",
"disp('For silicon diode Vf=0.7 V is constant ')\n",
"Vf=0.7;\n",
"If1=P1/Vf;\n",
"printf(' \n Therefore maximum forward current at T=27 degree C is %.4f A \n',If1)\n",
"disp('At temperature T=77 degree C')\n",
"T2=77;//temperature in degree celsius\n",
"P2=P1-(T2-T1)*Df;//rated power rating of the diode at T=77 degree C\n",
"If2=P2/Vf;\n",
"printf('\n Therefore maximum forward current at T=77 degree C is %.4f A',If2)"
   ]
   }
],
"metadata": {
		  "kernelspec": {
		   "display_name": "Scilab",
		   "language": "scilab",
		   "name": "scilab"
		  },
		  "language_info": {
		   "file_extension": ".sce",
		   "help_links": [
			{
			 "text": "MetaKernel Magics",
			 "url": "https://github.com/calysto/metakernel/blob/master/metakernel/magics/README.md"
			}
		   ],
		   "mimetype": "text/x-octave",
		   "name": "scilab",
		   "version": "0.7.1"
		  }
		 },
		 "nbformat": 4,
		 "nbformat_minor": 0
}
