{
"cells": [
 {
		   "cell_type": "markdown",
	   "metadata": {},
	   "source": [
       "# Chapter 4: Transistors"
	   ]
	},
{
		   "cell_type": "markdown",
		   "metadata": {},
		   "source": [
			"## Example 4.1: Base_current.sce"
		   ]
		  },
  {
"cell_type": "code",
	   "execution_count": null,
	   "metadata": {
	    "collapsed": true
	   },
	   "outputs": [],
"source": [
"//EX-4_1 PG-4.11\n",
"clc\n",
"Ie=12e-3;//emitter current\n",
"Ic=Ie/1.02;//collector current\n",
"Ib=Ie-Ic;//base current\n",
"printf('\n Therefore base current is %.0f microA \n',Ib*1e6)"
   ]
   }
,
{
		   "cell_type": "markdown",
		   "metadata": {},
		   "source": [
			"## Example 4.2: Dc_current_gain_and_voltage_gain.sce"
		   ]
		  },
  {
"cell_type": "code",
	   "execution_count": null,
	   "metadata": {
	    "collapsed": true
	   },
	   "outputs": [],
"source": [
"//EX4_2 Pg-4.14\n",
"clc\n",
"printf('When beta_dc=50 ')\n",
"beta_dc=50;\n",
"alpha_dc=beta_dc/(1+beta_dc);\n",
"printf('\n alpha_dc=%.4f \n\n',alpha_dc)\n",
"printf(' When beta_dc=190 ')\n",
"beta_dc=190;\n",
"alpha_dc=beta_dc/(1+beta_dc);\n",
"printf('\n alpha_dc=%.4f \n\n',alpha_dc)\n",
"printf(' When alpha_dc=0.995 ')\n",
"alpha_dc=0.995;\n",
"beta_dc=alpha_dc/(1-alpha_dc);\n",
"printf('\n beta_dc=%.0f \n\n',beta_dc)\n",
"printf(' When alpha_dc=0.9765 ')\n",
"alpha_dc=0.9765;\n",
"beta_dc=alpha_dc/(1-alpha_dc);\n",
"printf('\n beta_dc=%.2f \n',beta_dc)\n",
"\n",
""
   ]
   }
,
{
		   "cell_type": "markdown",
		   "metadata": {},
		   "source": [
			"## Example 4.3: Dc_voltage_gain_and_current_gain.sce"
		   ]
		  },
  {
"cell_type": "code",
	   "execution_count": null,
	   "metadata": {
	    "collapsed": true
	   },
	   "outputs": [],
"source": [
"//EX4_3,Pg-4.15\n",
"clc\n",
"Ib=20e-6;\n",
"Ie=0.0064;\n",
"beta_dc=Ie/Ib-1;\n",
"alpha_dc=beta_dc/(1+beta_dc);\n",
"printf('\n beta_dc=%.0f \n \n alpha_dc=%f \n',beta_dc,alpha_dc)\n",
"Ic=beta_dc*Ib;//collector current\n",
"printf('\n collector current is %.3f mA \n',Ic*1e3)"
   ]
   }
,
{
		   "cell_type": "markdown",
		   "metadata": {},
		   "source": [
			"## Example 4.4: current_gain_and_emitter_current.sce"
		   ]
		  },
  {
"cell_type": "code",
	   "execution_count": null,
	   "metadata": {
	    "collapsed": true
	   },
	   "outputs": [],
"source": [
"//EX4_4 PG4.15\n",
"clc\n",
"Icbo=5e-6;//leakage current\n",
"Ic=20e-3;//collector current\n",
"Ie=Ic/0.996;//Ic=o.996Ie\n",
"alpha_dc=Ic/Ie;\n",
"printf('\n alpha_dc=%.3f \n',alpha_dc)\n",
"disp('We know that Ic=alpha_dc*Ie+Icbo ')\n",
"disp('Therefore emitter current is Ie=(Ic-Icbo)/alpha_dc')\n",
"Ie=(Ic-Icbo)/alpha_dc;//emitter current\n",
"Ie=Ie*1e3;\n",
"printf('\n emitter current is %.2f mA',Ie)"
   ]
   }
],
"metadata": {
		  "kernelspec": {
		   "display_name": "Scilab",
		   "language": "scilab",
		   "name": "scilab"
		  },
		  "language_info": {
		   "file_extension": ".sce",
		   "help_links": [
			{
			 "text": "MetaKernel Magics",
			 "url": "https://github.com/calysto/metakernel/blob/master/metakernel/magics/README.md"
			}
		   ],
		   "mimetype": "text/x-octave",
		   "name": "scilab",
		   "version": "0.7.1"
		  }
		 },
		 "nbformat": 4,
		 "nbformat_minor": 0
}
