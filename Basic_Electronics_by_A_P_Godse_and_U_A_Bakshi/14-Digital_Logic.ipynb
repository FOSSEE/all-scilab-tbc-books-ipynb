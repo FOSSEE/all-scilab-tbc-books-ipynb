{
"cells": [
 {
		   "cell_type": "markdown",
	   "metadata": {},
	   "source": [
       "# Chapter 14: Digital Logic"
	   ]
	},
{
		   "cell_type": "markdown",
		   "metadata": {},
		   "source": [
			"## Example 14.10: Boolean_Solutions.sce"
		   ]
		  },
  {
"cell_type": "code",
	   "execution_count": null,
	   "metadata": {
	    "collapsed": true
	   },
	   "outputs": [],
"source": [
"//example 14.10 PG-14.39\n",
"clc\n",
"clear\n",
"printf('Given=> A''B''C''+A''BC''+A''BC = A''C''(B''+B)+A''BC ......Distributive property')\n",
"printf('\n\n         A''B''C''+A''BC''+A''BC = A''C''+ A''BC   .........Since A+A''=1\n\n')\n",
"printf('         A''B''C''+A''BC''+A''BC = A''(C''+BC)    .........Distributive property')\n",
"printf('\n\n         A''B''C''+A''BC''+A''BC = A''(C''+B)  .............Since A+A''B=A+B')"
   ]
   }
,
{
		   "cell_type": "markdown",
		   "metadata": {},
		   "source": [
			"## Example 14.11: Boolean_Solutions.sce"
		   ]
		  },
  {
"cell_type": "code",
	   "execution_count": null,
	   "metadata": {
	    "collapsed": true
	   },
	   "outputs": [],
"source": [
"//example 14.11 PG-14.39\n",
"clc\n",
"clear\n",
"printf('     Given=> LHS = ABC+AB''C+ABC''\n\n')\n",
"printf('                  = AC(B+B'') + ABC''   .......Distributive property\n\n')\n",
"printf('                  = AC.1 + ABC''     .........Since A+A''=1\n\n')\n",
"printf('                  = AC + ABC''     ...........Since A.1=1\n\n')\n",
"printf('                  = A(C+BC'')   ..............Distributive property\n\n')\n",
"printf('                  = A(C+B)       ............Since A+A''B=A+B\n\n')\n",
"printf('Therefore \n')\n",
"printf('    ABC+AB''C+ABC'' = A(C+B)')"
   ]
   }
,
{
		   "cell_type": "markdown",
		   "metadata": {},
		   "source": [
			"## Example 14.12: Boolean_Solutions.sce"
		   ]
		  },
  {
"cell_type": "code",
	   "execution_count": null,
	   "metadata": {
	    "collapsed": true
	   },
	   "outputs": [],
"source": [
"//example 14.12 PG-14.39\n",
"clc\n",
"clear\n",
"printf('  Given=> \n')\n",
"printf('          A''BCD''+ BCD''+ BC''D''+ BC''D\n\n')\n",
"printf('               = BCD''(A''+1)+ BC''D''+ BC''D  .......Distributive property\n\n')\n",
"printf('               = BCD''+ BC''D''+ BC''D    ...........Since A+1=1\n\n')\n",
"printf('               = BD''(C+C'')+ BC''D       ..........Distributive property\n\n')\n",
"printf('               = BD''+ BC''D        ...............Since A+A''=1\n\n')\n",
"printf('               = B(D''+C''D)          .............Distributive property\n\n')\n",
"printf('               = B(D''+C'')          ..............Since A+A''B=A+B\n\n')\n",
"printf('Therefore \n')\n",
"printf('          A''BCD''+ BCD''+ BC''D''+ BC''D = B(D''+C'')')"
   ]
   }
,
{
		   "cell_type": "markdown",
		   "metadata": {},
		   "source": [
			"## Example 14.13: Boolean_Solutions.sce"
		   ]
		  },
  {
"cell_type": "code",
	   "execution_count": null,
	   "metadata": {
	    "collapsed": true
	   },
	   "outputs": [],
"source": [
"//example 14.13 PG-14.39\n",
"clc\n",
"clear\n",
"printf('  Given=> \n')\n",
"printf('          AC+C(A+A''B) = ')\n",
"printf('AC+AC+A''BC    ........Distributive property\n\n')\n",
"printf('                      = AC + A''BC    .........Since A+A=A\n\n')\n",
"printf('                      = C(A+A''B)     .........Distributive property\n\n')\n",
"printf('                      = C(A+B)      ..........Since A+A''B=A+B\n\n')\n",
"printf(' Therefore \n')\n",
"printf('          AC+C(A+A''B) = C(A+B)')"
   ]
   }
,
{
		   "cell_type": "markdown",
		   "metadata": {},
		   "source": [
			"## Example 14.14: Boolean_Solutions.sce"
		   ]
		  },
  {
"cell_type": "code",
	   "execution_count": null,
	   "metadata": {
	    "collapsed": true
	   },
	   "outputs": [],
"source": [
"//example 14.14 PG-14.39\n",
"clc\n",
"clear\n",
"printf('\n\n Given=> \n\n')\n",
"printf('   A''BC''D + A''BCD + ABD = ')\n",
"printf('A''BD(C''+C)+ ABD    ........Distributive property\n\n')\n",
"printf('                        = A''BD + ABD    .............Since A+A=A\n\n')\n",
"printf('                        = BD(A''+A)         ..........Distributive property\n\n')\n",
"printf('                        = BD        .................Since A+A''=1\n\n')\n",
"printf(' Therefore \n\n')\n",
"printf('   A''BC''D + A''BCD + ABD = BD')"
   ]
   }
,
{
		   "cell_type": "markdown",
		   "metadata": {},
		   "source": [
			"## Example 14.15: Boolean_Solutions.sce"
		   ]
		  },
  {
"cell_type": "code",
	   "execution_count": null,
	   "metadata": {
	    "collapsed": true
	   },
	   "outputs": [],
"source": [
"//example 14.15 PG-14.39\n",
"clc\n",
"clear\n",
"printf('\n\n Given=> \n')\n",
"printf('      LHS = A + A''B + AB''\n\n')\n",
"printf('          = (A + A''B) + AB''\n\n')\n",
"printf('          = A + B + AB''  ..........Since A+A''B=A+B\n\n')\n",
"printf('          = A + A + B    ..........Since A+A''B=A+B\n\n')\n",
"printf('          = A + B     .............Since A+A=A\n\n')\n",
"printf(' Therefore \n\n')\n",
"printf('      A + A''B + AB'' = A + B')"
   ]
   }
,
{
		   "cell_type": "markdown",
		   "metadata": {},
		   "source": [
			"## Example 14.16: Boolean_Solutions.sce"
		   ]
		  },
  {
"cell_type": "code",
	   "execution_count": null,
	   "metadata": {
	    "collapsed": true
	   },
	   "outputs": [],
"source": [
"//example 14.16 PG-14.40\n",
"clc\n",
"clear\n",
"printf('\n\n Given=> \n\n')\n",
"printf('          ((AB)''+A''+AB)'' = ')\n",
"printf('(A''+ B''+ A''+ AB)''     ....Since (AB)''= A''+B''\n\n')\n",
"printf('                        = (A''+ B''+ A''+ B)''   .......Since A+A''B=A+B\n\n')\n",
"printf('                        = (A''+ B''+ B)''   ...........Since A+A=A\n\n')\n",
"printf('                        = (A''+ 1)''   ...............Since A+A''=1\n\n')\n",
"printf('                        = 1''       .................Since A+1=1\n\n')\n",
"printf('                        = 0 \n\n')\n",
"printf('  Therefore \n\n')\n",
"printf('          (A''B''+A''+AB)'' = 0')"
   ]
   }
,
{
		   "cell_type": "markdown",
		   "metadata": {},
		   "source": [
			"## Example 14.17: Boolean_Solutions.sce"
		   ]
		  },
  {
"cell_type": "code",
	   "execution_count": null,
	   "metadata": {
	    "collapsed": true
	   },
	   "outputs": [],
"source": [
"//example 14.17 PG-14.40\n",
"clc\n",
"clear\n",
"printf('\n\n Given=> \n\n')\n",
"printf('  AB+(AC)''+AB''C(AB+C) = ')\n",
"printf('AB+ (AC)''+AAB''BC+AB''CC   ......Distributive property\n\n')\n",
"printf('                      = AB+ (AC)''+ AB''CC  .............Since A.A''=0\n\n')\n",
"printf('                      = AB+ (AC)''+ AB''C     ...........Since A.A=A\n\n     ')\n",
"printf('                 = AB+ A''+ C''+ AB''C     ..........Since(AB)''=A''+B''\n\n')\n",
"printf('                      = A''+ B+C''+ AB''C     ............Since A+A''B=A+B\n\n')\n",
"printf('                      = A''+ AB''C + B+C''     ...........Commutative property')\n",
"printf('\n\n                      = A''+ B''C + B+C''     ............Since A+A''B=A+B')\n",
"printf('\n                                                       Where B=B''C\n\n')\n",
"printf('                      = A''+ B+C''+ B''C       ...........Commutative property')\n",
"printf('\n\n                      = A''+ B+C''+B''        ............Since A+A''B=A+B')\n",
"printf('\n\n                      = A''+C''+1       .................Since A+A''=1\n\n')\n",
"printf('                      = 1         .....................Since A+1=1\n\n')\n",
"printf(' Therefore \n')\n",
"printf('          AB+(AC)''+AB''C(AB+C) = 1')"
   ]
   }
,
{
		   "cell_type": "markdown",
		   "metadata": {},
		   "source": [
			"## Example 14.18: Boolean_Solutions.sce"
		   ]
		  },
  {
"cell_type": "code",
	   "execution_count": null,
	   "metadata": {
	    "collapsed": true
	   },
	   "outputs": [],
"source": [
"//example 14.18 PG-14.40\n",
"clc\n",
"clear\n",
"printf('   Refer to the Figure-14.50 shown\n\n')\n",
"printf('    The Boolean expression for the output Y is :\n\n')\n",
"printf('    Y = (A''+B'')''.BC\n\n')\n",
"printf('    Y = ((AB)'')''.BC     ....Since A''+B''=(AB)'' and (A'')''= A\n')\n",
"printf('                            DeMorgan''s Therem\n\n')\n",
"printf('    Y = A.B.B.C     ........Since A.A=A\n\n')\n",
"printf('    Y = ABC\n\n')\n",
"printf('    Truth Table\n')\n",
"printf('    A     B     C     Y')\n",
"a=zeros(1,4)\n",
"b=[0 0 1 0;0 1 0 0;0 1 1 0;1 0 0 0;1 0 1 0;1 1 0 0] \n",
"c=ones(1,4)\n",
"d=[a;b;c]\n",
"disp(d)"
   ]
   }
,
{
		   "cell_type": "markdown",
		   "metadata": {},
		   "source": [
			"## Example 14.19: construction_of_the_given_logic_circuit_using_AND_OR_and_INVERTER_logic.sce"
		   ]
		  },
  {
"cell_type": "code",
	   "execution_count": null,
	   "metadata": {
	    "collapsed": true
	   },
	   "outputs": [],
"source": [
"//example 14.19 PG-41\n",
"clc\n",
"clear\n",
"printf('a)      Given =>\n')\n",
"printf('          Y = (AB(C+D))''\n\n')\n",
"printf('b)      Given =>\n')\n",
"printf('          Z = (W+PQ'')''')"
   ]
   }
,
{
		   "cell_type": "markdown",
		   "metadata": {},
		   "source": [
			"## Example 14.1: Representation_of_the_given_boolean_expression.sce"
		   ]
		  },
  {
"cell_type": "code",
	   "execution_count": null,
	   "metadata": {
	    "collapsed": true
	   },
	   "outputs": [],
"source": [
"//EX14_1 Pg-14.25\n",
"clc\n",
"clear\n",
"printf('   (((A+B)C)'')D')\n",
"printf('\n    Given inputs are A,B,C and D')\n",
"printf('\n\n    (A+B)C then we take the complement ')\n",
"printf('\n    ((A+B)C)''')\n",
"printf('\n    Then we AND together with D')\n",
"printf('\n    Therefore Y = (((A+B)C)'')D')"
   ]
   }
,
{
		   "cell_type": "markdown",
		   "metadata": {},
		   "source": [
			"## Example 14.20: truth_table_of_the_given_logic_expression.sce"
		   ]
		  },
  {
"cell_type": "code",
	   "execution_count": null,
	   "metadata": {
	    "collapsed": true
	   },
	   "outputs": [],
"source": [
"//example 14.20 PG-14.41\n",
"clc\n",
"clear\n",
"printf('   Refer to the Figure-14.52 shown\n\n')\n",
"printf('    From the Figure we can see that\n\n')\n",
"printf('    Y = ((A+B)''.(B+C'')'')''\n\n')\n",
"printf('    Y = (A+B)''''+(B+C'')''''    .....Since (A.B)''=A''+B''\n')\n",
"printf('                                 DeMorgan''s Therem \n')\n",
"printf('                                 where A=A+B and B=B+C''\n\n')\n",
"printf('    Y = A+B+B+C''       ..........Since (A'')''= A\n\n')\n",
"printf('    Y = A+B+C''         ..........Since A+A= A\n\n')\n",
"printf('    Truth Table\n')\n",
"printf('    A     B     C     Y')\n",
"a=[0 0 0 1;0 0 1 0;0 1 0 1;0 1 1 1;1 0 0 1;1 0 1 1;1 1 0 1] \n",
"b=ones(1,4)\n",
"c=[a;b]\n",
"disp(c)"
   ]
   }
,
{
		   "cell_type": "markdown",
		   "metadata": {},
		   "source": [
			"## Example 14.21: simplification_of_the_given_logic_expression.sce"
		   ]
		  },
  {
"cell_type": "code",
	   "execution_count": null,
	   "metadata": {
	    "collapsed": true
	   },
	   "outputs": [],
"source": [
"//example 14.21 PG-14.42\n",
"clc\n",
"clear\n",
"printf('\n\n Given=> \n\n')\n",
"printf('    Y = (A+B)(A''+C)(B''+C'')\n\n')\n",
"printf('    Y = (AA''+ AC +A''B + BC)(B''+C'')\n\n')\n",
"printf('    Y = (AC +A''B + BC)(B''+C'')   .......Since A.A''= 0\n\n')\n",
"printf('    Y = AB''C + ACC''+ A''BB''+ A''BC''+ BB''C+ BCC''\n\n')\n",
"printf('    Y = AB''C + A''BC''     Since A.A'' = 0')"
   ]
   }
,
{
		   "cell_type": "markdown",
		   "metadata": {},
		   "source": [
			"## Example 14.22: simplification_of_the_given_logic_expression_using_Demorgans_theorem.sce"
		   ]
		  },
  {
"cell_type": "code",
	   "execution_count": null,
	   "metadata": {
	    "collapsed": true
	   },
	   "outputs": [],
"source": [
"//example 14.22 PG-14.41\n",
"clc\n",
"clear\n",
"printf('\n   a) Given=> \n\n')\n",
"printf('   ((A+B'').(A''+B))'' = (A+B'')''+(A''+B)''     ....Since (AB)''= A''+B''\n')\n",
"printf('                                              DeMorgan''s Therem\n\n')\n",
"printf('                    = A''.B''''+A''''.B''       ....Since A''+B''=(AB)''\n')\n",
"printf('                                              DeMorgan''s Therem\n\n')\n",
"printf('                    = A''.B + A.B''      .......Since (A'')''=A\n')\n",
"printf('  Therefore \n')\n",
"printf('   ((A+B'').(A''+B))'' = A''.B + A.B''')\n",
"printf('\n\n  b) Given=> \n\n')\n",
"printf('   (((A.B)'')C)''D)'' = ((AB)'')C)''''+D''       ....Since (AB)''= A''+B''\n')\n",
"printf('                                              DeMorgan''s Therem\n\n')\n",
"printf('                   = (AB)''.C + D''         ....Since (A'')''=A\n\n')\n",
"printf('                   = (A''+B'')C + D''         ....Since (AB)''=A''+ B''\n')\n",
"printf('                                              DeMorgan''s Therem\n\n')\n",
"printf(' Therefore \n')\n",
"printf('   (((A.B)'')C)''D)'' = (A''+B'')C + D'' ')"
   ]
   }
,
{
		   "cell_type": "markdown",
		   "metadata": {},
		   "source": [
			"## Example 14.2: Implementation_of_EXNOR_gate_using_NAND_gate.sce"
		   ]
		  },
  {
"cell_type": "code",
	   "execution_count": null,
	   "metadata": {
	    "collapsed": true
	   },
	   "outputs": [],
"source": [
"//example 14.2 PG-14.27//\n",
"clc\n",
"clear\n",
"printf('    Implementation of EX-OR gate using NAND gate')\n",
"printf('  \n     Refer to the figure-14.45(a) shown')\n",
"printf('\n     The Boolean expression for EX-OR gate is Y=AB''+A''B')"
   ]
   }
,
{
		   "cell_type": "markdown",
		   "metadata": {},
		   "source": [
			"## Example 14.3: Implementation_of_EXNOR_gate_using_NOR_gate.sce"
		   ]
		  },
  {
"cell_type": "code",
	   "execution_count": null,
	   "metadata": {
	    "collapsed": true
	   },
	   "outputs": [],
"source": [
"//example 14.3 PG-14.27//\n",
"clc\n",
"clear\n",
"printf('    Implementation of EX-NOR gate using NOR gate')\n",
"printf('  \n     Refer to the figure-14.46(a) shown')\n",
"printf('\n     The Boolean expression for EX-NOR gate is Y=AB+A''B''')\n",
"printf(' \n     Y=(AB''+A''B)''\n     Y= (AB'')''.(A''B)''')\n",
"printf('\n     Y=(A''+B).( A+B'')')"
   ]
   }
,
{
		   "cell_type": "markdown",
		   "metadata": {},
		   "source": [
			"## Example 14.4: Boolean_Solutions.sce"
		   ]
		  },
  {
"cell_type": "code",
	   "execution_count": null,
	   "metadata": {
	    "collapsed": true
	   },
	   "outputs": [],
"source": [
"//example 14.4 PG-14.38\n",
"clc\n",
"clear\n",
"printf('   given=> A.A''C = 0.C.....  Since A.A''=0\n\n')\n",
"printf('            A.A''C = 0 ......  Since A.0=0')"
   ]
   }
,
{
		   "cell_type": "markdown",
		   "metadata": {},
		   "source": [
			"## Example 14.5: Boolean_Solutions.sce"
		   ]
		  },
  {
"cell_type": "code",
	   "execution_count": null,
	   "metadata": {
	    "collapsed": true
	   },
	   "outputs": [],
"source": [
"//example 14.5 PG-14.38\n",
"clc\n",
"clear\n",
"printf('  Given=> ABCD+ABD = ABD(C+1)..... Distributive property\n\n')\n",
"printf('           ABCD+ABD = ABD.1........ Since A+1=1\n\n')\n",
"printf('           ABCD+ABD = ABD ......... Since A.1=A')"
   ]
   }
,
{
		   "cell_type": "markdown",
		   "metadata": {},
		   "source": [
			"## Example 14.6: Boolean_Solutions.sce"
		   ]
		  },
  {
"cell_type": "code",
	   "execution_count": null,
	   "metadata": {
	    "collapsed": true
	   },
	   "outputs": [],
"source": [
"//example 14.6 PG-14.38\n",
"clc\n",
"clear\n",
"printf('  Given=> ABCD+AB''CD = ACD(B+B'')  .......Distributive property\n\n')\n",
"printf('           ABCD+AB''CD = ACD.1  ........ ..Since A+A''=1\n\n')\n",
"printf('           ABCD+AB''CD = ACD    .......... Since A.1=A')"
   ]
   }
,
{
		   "cell_type": "markdown",
		   "metadata": {},
		   "source": [
			"## Example 14.7: Boolean_Solutions.sce"
		   ]
		  },
  {
"cell_type": "code",
	   "execution_count": null,
	   "metadata": {
	    "collapsed": true
	   },
	   "outputs": [],
"source": [
"//example 14.7 PG-14.38\n",
"clc\n",
"clear\n",
"printf('  Given=> A(A+B) = AA+AB  .......Distributive property\n\n')\n",
"printf('           A(A+B) = A+AB  ........Since A.A=A\n\n')\n",
"printf('           A(A+B) = A(1+B) .......Distributive property\n\n')\n",
"printf('           A(A+B) = A ........... Since A+1=1\n\n')"
   ]
   }
,
{
		   "cell_type": "markdown",
		   "metadata": {},
		   "source": [
			"## Example 14.8: Boolean_Solutions.sce"
		   ]
		  },
  {
"cell_type": "code",
	   "execution_count": null,
	   "metadata": {
	    "collapsed": true
	   },
	   "outputs": [],
"source": [
"//example 14.8 PG-14.38\n",
"clc\n",
"clear\n",
"printf('  Given=> AB+ABC+AB(D+E) = AB(1+C+D+E) .......Distributive property\n\n')\n",
"printf('           AB+ABC+AB(D+E) = AB     ........... Since A+1=1\n\n')"
   ]
   }
,
{
		   "cell_type": "markdown",
		   "metadata": {},
		   "source": [
			"## Example 14.9: Boolean_Solutions.sce"
		   ]
		  },
  {
"cell_type": "code",
	   "execution_count": null,
	   "metadata": {
	    "collapsed": true
	   },
	   "outputs": [],
"source": [
"//example 14.9 PG-14.38\n",
"clc\n",
"clear\n",
"printf('Given=> XY+XYZ+XYZ''+X''YZ = XY(1+Z)+XYZ''+X''YZ ......Distributive property\n\n')\n",
"printf('         XY+XYZ+XYZ''+X''YZ = XY+XYZ'' +  X''YZ  ........Since A+1=1\n\n')\n",
"printf('         XY+XYZ+XYZ''+X''YZ = XY(1+Z'') + X''YZ  \n\n')\n",
"printf('         XY+XYZ+XYZ''+X''YZ = XY + X''YZ    ............Since A+1=1\n\n')\n",
"printf('         XY+XYZ+XYZ''+X''YZ = Y(X+X''Z)    \n\n')\n",
"printf('         XY+XYZ+XYZ''+X''YZ = Y(X+Z)    ...............Since A+A''B=A+B')"
   ]
   }
],
"metadata": {
		  "kernelspec": {
		   "display_name": "Scilab",
		   "language": "scilab",
		   "name": "scilab"
		  },
		  "language_info": {
		   "file_extension": ".sce",
		   "help_links": [
			{
			 "text": "MetaKernel Magics",
			 "url": "https://github.com/calysto/metakernel/blob/master/metakernel/magics/README.md"
			}
		   ],
		   "mimetype": "text/x-octave",
		   "name": "scilab",
		   "version": "0.7.1"
		  }
		 },
		 "nbformat": 4,
		 "nbformat_minor": 0
}
