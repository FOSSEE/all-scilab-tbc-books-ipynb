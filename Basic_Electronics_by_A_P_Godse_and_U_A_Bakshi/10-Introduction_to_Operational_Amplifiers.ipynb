{
"cells": [
 {
		   "cell_type": "markdown",
	   "metadata": {},
	   "source": [
       "# Chapter 10: Introduction to Operational Amplifiers"
	   ]
	},
{
		   "cell_type": "markdown",
		   "metadata": {},
		   "source": [
			"## Example 10.10: Closed_loop_gain_and_feedback_resistance.sce"
		   ]
		  },
  {
"cell_type": "code",
	   "execution_count": null,
	   "metadata": {
	    "collapsed": true
	   },
	   "outputs": [],
"source": [
"//EX10_10 PG-10.48\n",
"clc\n",
"printf('Refer to the figure-10.43 shown\n ')\n",
"//A is grounded so B is virtual ground\n",
"//Vb=Va=0\n",
"Vb=0;\n",
"R1=1e3;\n",
"R2=5e3;\n",
"R3=5e3;\n",
"R4=100;\n",
"printf('\n Vb=Va=0  ................(1)')\n",
"printf('\n Vb=0 \n I1=(Vin-Vb)/R1=Vin/R1 \n I1=(Vb-Vx)/R2=-Vx/R2 \n \n   Vin/Rf=-Vx/R2')\n",
"printf('\n =>Vx=-R2/R1*Vin........(2) \n \n now Vx=I2*R4 and (I1-I2)=(Vx-Vo)/R3 \n')\n",
"printf(' =>I2=Vx/R4 and I1-Vx/R4=(Vx-Vo)/R3 \n Therefore \n Vin/R1-Vx/R4=(Vx-Vo)/R3 ....')\n",
"printf('.......using I1=Vin/R1 \n Vin/R1-Vx(1/R4+1/R3)=-Vo/R3 \n \n ')\n",
"printf('Vin/R1-(-R2/R1)*Vin*(1/R4+1/R3)=-Vo/R3 ........using (2) \n')\n",
"printf(' Vin*(1/R1+R2/R1*(1/R4+1/R3))=-Vo/R3 \n \n ')                 \n",
"printf('Vin=-(R1*R4/(R3*R4+R2*R3+R2*R4))*Vo \n \n')\n",
"printf(' Acl=Vo/Vin=-(R3*R4+R2*R3+R2*R4)/(R1*R4) \n')\n",
"Acl=-(R3*R4+R2*R3+R2*R4)/(R1*R4);\n",
"printf('\n closed loop gain Acl=%.0f \n',Acl)\n",
"Acl=abs(Acl);\n",
"Rf=R1*Acl;//equivalent feedback resistance\n",
"printf('\n equivalent feedback resistance Rf= %.0f kohm ',Rf*1e-3)"
   ]
   }
,
{
		   "cell_type": "markdown",
		   "metadata": {},
		   "source": [
			"## Example 10.11: Output_voltage_Vo.sce"
		   ]
		  },
  {
"cell_type": "code",
	   "execution_count": null,
	   "metadata": {
	    "collapsed": true
	   },
	   "outputs": [],
"source": [
"//EX10_11 PG-10.50\n",
"clc\n",
"disp('Refer to the figure-10.45 and figure-10.45(a)shown')\n",
"//the circuit is a non inverting amplifier\n",
"Vin=10;//input voltage\n",
"//opamp input current is zero...\n",
"R1=10e3;//resistance connected to the -ve terminal of the amplifier\n",
"R2=1e3;//resistance connected to the +ve terminal of the amplifier to the input voltage \n",
"R3=1e3;////resistance connected to the +ve terminal of the amplifier to the gound\n",
"Rf=50e3;//feedback resistance\n",
"I=Vin/(R2+R3);\n",
"Vb=I*R3;\n",
"V0=(1+Rf/R1)*Vb;//output voltage\n",
"printf('\n output voltage Vo=%.f V \n',V0)"
   ]
   }
,
{
		   "cell_type": "markdown",
		   "metadata": {},
		   "source": [
			"## Example 10.12: Otuput_voltage_Vo.sce"
		   ]
		  },
  {
"cell_type": "code",
	   "execution_count": null,
	   "metadata": {
	    "collapsed": true
	   },
	   "outputs": [],
"source": [
"//EX10_12 PG-10.51\n",
"clc\n",
"disp('Refer to the figure-10.46 and figure-10.46(a)shown')\n",
"disp('We split the circuit of the figure-10.46 as shown in figure-10.46(a)' )\n",
"disp('For first stage the circuit is a non-inverting amplifier')\n",
"Rf=10e3;//feedback resistance for the first stage of the circuit\n",
"R1=100e3;//value of R1 for the first stage of the circuit \n",
"V1=poly(0,'V1');//V1=Vin\n",
"Vo1=(1+Rf/R1)*V1;\n",
"disp(Vo1,'Therefore Vo1 =')\n",
"\n",
"printf('\n For the second stage we use superposition principle.\n We use each input at one time\n')\n",
"disp('First we assume Vo1 is active and V2 is grounded as shown in figure10.46(b)')\n",
"Rf1=100e3;//feedback resistance for figure-10.46(b)\n",
"R11=10e3;//value of R1 for figure1-10.46(a)\n",
"Vo_=-Rf1/R11*Vo1;//when V2=0V as shown in figure-10.46(b)\n",
"disp(Vo_,'Therefore Vo_ =')\n",
"\n",
"disp('then we assume V2 is active and Vo1 is grounded as shown in figure10.46(c)')\n",
"V2=poly(0,'V2')\n",
"Vo__=(1+Rf1/R11)*V2;//when Vo1=0V as shown in figure-10.46(c),it is a non inverting amplifier\n",
"disp(Vo__,'Therefore Vo__ =')\n",
"printf('\n   Therefore output voltage Vo = Vo_ + Vo__= 11V2-11V1 ')\n",
"disp('  =>Vo=11(V2-V1)')\n",
""
   ]
   }
,
{
		   "cell_type": "markdown",
		   "metadata": {},
		   "source": [
			"## Example 10.13: Output_voltage_Vo.sce"
		   ]
		  },
  {
"cell_type": "code",
	   "execution_count": null,
	   "metadata": {
	    "collapsed": true
	   },
	   "outputs": [],
"source": [
"//EX10_13 PG-10.62\n",
"clc\n",
"disp('Refer to the figure-10.55 and shown')\n",
"R1=1e3;\n",
"Rf=1e3;//feedback resistance\n",
"Vin1=2;\n",
"Vin2=1;\n",
"Vin3=4;\n",
"Vout=-(Vin1+Vin2+Vin3)*Rf/R1\n",
"printf('\n output voltage Vout=%.f V \n',Vout)"
   ]
   }
,
{
		   "cell_type": "markdown",
		   "metadata": {},
		   "source": [
			"## Example 10.14: Design_of_Scaling_adder.sce"
		   ]
		  },
  {
"cell_type": "code",
	   "execution_count": null,
	   "metadata": {
	    "collapsed": true
	   },
	   "outputs": [],
"source": [
"//EX10_14 PG-10.62\n",
"clc\n",
"printf('\n   Vo = -(3V1 + 4V2 + 5V3)\n\n')\n",
"Rf=120;//we assume feedback resistance to be equal to 120kohm\n",
"R1=Rf/3;//Rf/R1=3 given \n",
"R2=Rf/4;//Rf/R2=4 given \n",
"R3=Rf/5;//Rf/R3=5 given \n",
"printf('   R1= %.0fkohm  R2= %.0fkohm R3 = %.0fkohm\n',R1,R2,R3)\n",
"printf('\n   The circuit design is shown')"
   ]
   }
,
{
		   "cell_type": "markdown",
		   "metadata": {},
		   "source": [
			"## Example 10.15: Relation_between_Rf_and_R.sce"
		   ]
		  },
  {
"cell_type": "code",
	   "execution_count": null,
	   "metadata": {
	    "collapsed": true
	   },
	   "outputs": [],
"source": [
"//EX10_15 PG-10.63\n",
"clc\n",
"printf('\n     Refer to the figure-10.57 shown')\n",
"printf('\n     Output in terms of Va is Vo = (1+Rf/R)*Va.....(1)')\n",
"printf('\n\n    (V1-Va)/R +(V2-Va)/R +(V3-Va)/R = 0')\n",
"printf('\n\n     Rearranging for Va we get Va = (V1+V2+V3)/R*(R/3)')\n",
"printf('\n     Putting the value of Va in (1) we get')\n",
"printf('\n\n     Vo = (1+Rf/R)*(V1+V2+V3)/3')\n",
"printf('\n     But from the figure Vo = V1+V2+V3 \n\n     Therefore')\n",
"printf('   (V1+V2+V3) = (1+Rf/R)*(V1+V2+V3)/3')\n",
"printf('\n\n     Therefore (1+Rf/R) = 3')\n",
"printf('\n   => Rf=2R')"
   ]
   }
,
{
		   "cell_type": "markdown",
		   "metadata": {},
		   "source": [
			"## Example 10.16: Output_voltage.sce"
		   ]
		  },
  {
"cell_type": "code",
	   "execution_count": null,
	   "metadata": {
	    "collapsed": true
	   },
	   "outputs": [],
"source": [
"//EX10_16 PG-10.64\n",
"clc\n",
"disp('Refer to the figure-10.58 and figure-10.58(a)shown')\n",
"R1=1e3;\n",
"R2=R1;\n",
"Rf=5e3;//feedback resistance\n",
"R=1e3;//resistance connected to the inverting terminal\n",
"V1=1;//first input voltage at the non inverting terminal\n",
"V2=3;//second input voltage at the non inverting terminal\n",
"Vb=(V1*R2+V2*R1)/(R1+R2);//voltage at the non inverting terminal\n",
"Vo=(1+Rf/R)*Vb;//output voltage \n",
"printf('\n Therefore output voltage is Vo=%.0f V \n',Vo)\n",
"//alternatively we can find the output voltage by the following equation\n",
"Vo1=(R2*(R+Rf))/(R*(R1+R2))*V1+(R1*(R+Rf))/(R*(R1+R2))*V2 \n",
"printf('\n Vo=%.0f \n',Vo1)"
   ]
   }
,
{
		   "cell_type": "markdown",
		   "metadata": {},
		   "source": [
			"## Example 10.17: Output_voltage.sce"
		   ]
		  },
  {
"cell_type": "code",
	   "execution_count": null,
	   "metadata": {
	    "collapsed": true
	   },
	   "outputs": [],
"source": [
"//EX10_17 PG-10.65\n",
"clc\n",
"disp('Refer to the figure-10.59 shown')\n",
"Rf=10e3;//feedback resistance\n",
"R1=10e3;\n",
"R2=20e3;\n",
"R3=30e3;\n",
"R4=40e3;\n",
"V1=-1;//first input voltage at the inverting terminal\n",
"V2=2;//second input voltage at the  inverting terminal\n",
"V3=3;//third input voltage at the inverting terminal\n",
"V4=-2;//fourth input voltage at the inverting terminal\n",
"Vo=-(Rf/R1*V1+Rf/R2*V2+Rf/R3*V3+Rf/R4*V4);//output voltage\n",
"printf('\n Therefore output voltage is Vo=%.1f V \n',Vo)\n",
""
   ]
   }
,
{
		   "cell_type": "markdown",
		   "metadata": {},
		   "source": [
			"## Example 10.18: Output_voltage.sce"
		   ]
		  },
  {
"cell_type": "code",
	   "execution_count": null,
	   "metadata": {
	    "collapsed": true
	   },
	   "outputs": [],
"source": [
"//EX10_18 PG-10.66\n",
"clc\n",
"Rf=1e6;//feedback resistance\n",
"R1=200e3;\n",
"R2=250e3;\n",
"R3=500e3;\n",
"V1=-2;//first input voltage at the inverting terminal\n",
"V2=2;//second input voltage at the  inverting terminal\n",
"V3=11;//third input voltage at the inverting terminal\n",
"Vo=-(Rf/R1*V1+Rf/R2*V2+Rf/R3*V3);//output voltage\n",
"printf('\n Therefore output voltage is Vo=%.0f V \n',Vo)\n",
"//in the book the output Vo=-20V if the value of V3=11V \n",
"//but in the question the value of V3=1V so\n",
"//I have taken V3=11V so that the Vo=-20V "
   ]
   }
,
{
		   "cell_type": "markdown",
		   "metadata": {},
		   "source": [
			"## Example 10.19: Output_voltage.sce"
		   ]
		  },
  {
"cell_type": "code",
	   "execution_count": null,
	   "metadata": {
	    "collapsed": true
	   },
	   "outputs": [],
"source": [
"//EX10_19 PG-10.66\n",
"clc\n",
"Rf=60e3;//feedback resistance\n",
"R1=10e3;\n",
"R2=20e3;\n",
"R3=30e3;\n",
"V1=-1;//first input voltage at the inverting terminal\n",
"V2=-2;//second input voltage at the  inverting terminal\n",
"V3=3;//third input voltage at the inverting terminal\n",
"Vo=-(Rf/R1*V1+Rf/R2*V2+Rf/R3*V3);//output voltage\n",
"printf('\n Therefore output voltage is Vo= %.0f V \n',Vo)"
   ]
   }
,
{
		   "cell_type": "markdown",
		   "metadata": {},
		   "source": [
			"## Example 10.1: Output_voltage.sce"
		   ]
		  },
  {
"cell_type": "code",
	   "execution_count": null,
	   "metadata": {
	    "collapsed": true
	   },
	   "outputs": [],
"source": [
"//EX10_1 PG-10.7\n",
"clc\n",
"disp('Refer to the figure-10.5 shown')\n",
"V1=300e-6;\n",
"V2=240e-6;\n",
"Vd=V1-V2//differential mode voltage \n",
"Vc=(V1+V2)/2;//common mode voltage \n",
"Ad=5000;//differential gain\n",
"printf('\n when CMRR=100')\n",
"CMRR=100;//common mode rejection ratio\n",
"Ac=Ad/CMRR;\n",
"printf('\n common mode gain Ac=%.f \n',Ac)\n",
"Vo=Ad*Vd+Ac*Vc;//output voltage\n",
"printf(' output voltage is Vo=%.1f mV \n',Vo*1e3)\n",
"printf('\n when CMRR=100000')\n",
"CMRR=1e5;//common mode rejection ratio\n",
"Ac=Ad/CMRR;\n",
"printf('\n common mode gain Ac=%.2f \n',Ac)\n",
"Vo=Ad*Vd+Ac*Vc;//output voltage\n",
"printf(' output voltage is Vo=%.4f mV \n',Vo*1e3)"
   ]
   }
,
{
		   "cell_type": "markdown",
		   "metadata": {},
		   "source": [
			"## Example 10.20: Design_of_adder_circuit.sce"
		   ]
		  },
  {
"cell_type": "code",
	   "execution_count": null,
	   "metadata": {
	    "collapsed": true
	   },
	   "outputs": [],
"source": [
"//EX10_20 PG-10.67\n",
"clc\n",
"printf('\n   Vo = -(0.1V1 + 0.5V2 + 20V3)\n\n')\n",
"Rf=10;//we assume feedback resistance to be equal to 10kohm\n",
"R1=Rf/0.1;//Rf/R1=0.1 given \n",
"R2=Rf/0.5;//Rf/R2=0.5 given \n",
"R3=Rf/20;//Rf/R3=20 given \n",
"printf('   R1= %.0f kohm  R2= %.0f kohm R3 = %.0f ohm\n',R1,R2,R3*1e3)\n",
"printf('\n   The circuit design is shown')"
   ]
   }
,
{
		   "cell_type": "markdown",
		   "metadata": {},
		   "source": [
			"## Example 10.21: Design_of_an_Opamp_circuit.sce"
		   ]
		  },
  {
"cell_type": "code",
	   "execution_count": null,
	   "metadata": {
	    "collapsed": true
	   },
	   "outputs": [],
"source": [
"//EX10_21 PG-10.70\n",
"clc\n",
"printf('\n   Vo = (2V1 - 3V2 + 4V3 - 5V4)\n\n')\n",
"printf('   The positive terms and negative terms can be added separately\n\n')\n",
"printf('\n   Vo1 = (2V1 + 4V3 )\n')\n",
"Rf1=100;//we assume feedback resistance to be equal to 100kohm\n",
"R1=Rf1/2;//Rf/R1=2 given \n",
"R3=Rf1/4;//Rf/R3=4 given \n",
"printf('   Therefore R1= %.0fkohm   R3 = %.0fkohm\n',R1,R3)\n",
"printf('\n   Vo2 = -(3V2 + 5V4)\n')\n",
"Rf2=120;//we assume feedback resistance to be equal to 120kohm\n",
"R2=Rf2/3;//Rf/R2=3 given \n",
"R4=Rf2/5;//Rf/R4=5 given \n",
"printf('   Therefore R2= %.0fkohm   R4 = %.0fkohm\n',R2,R4)\n",
"printf('\n   The output voltage is Vo = Vo2-Vo1 = (2V1 - 3V2 + 4V3 - 5V4)')\n",
"printf('\n   The circuit design is shown')\n",
"printf('\n   For the subtractor we use R = 100kohm  ')"
   ]
   }
,
{
		   "cell_type": "markdown",
		   "metadata": {},
		   "source": [
			"## Example 10.22: Output_voltage.sce"
		   ]
		  },
  {
"cell_type": "code",
	   "execution_count": null,
	   "metadata": {
	    "collapsed": true
	   },
	   "outputs": [],
"source": [
"//EX10_22 PG-10.76\n",
"clc\n",
"R1=100e3;\n",
"Cf=1e-6;\n",
"Vm=6e-3;//peak value of the input voltage\n",
"fr=2e3;//frequency  supplied at the input\n",
"w=2*%pi*fr;//angular frequency in rad/s\n",
"a=-Vm/(R1*Cf)//constant \n",
"printf('\n   We integrate Vin ie Vo = %.2f*integrate(sin4*pi*100)\n\n',a)\n",
"function y=f(x),y=sin(w*x),endfunction\n",
"t=input('   Enter the value of t (between 0 and 1) :  ');\n",
"//the limit is from 0 to t\n",
"I=intg(0,t,f);//we should enter the value of t \n",
"x=I*a;\n",
"disp(x);                    "
   ]
   }
,
{
		   "cell_type": "markdown",
		   "metadata": {},
		   "source": [
			"## Example 10.2: Input_bias_current_and_input_offset_current.sce"
		   ]
		  },
  {
"cell_type": "code",
	   "execution_count": null,
	   "metadata": {
	    "collapsed": true
	   },
	   "outputs": [],
"source": [
"//EX10_2 PG-10.17\n",
"clc\n",
"Ib1=18;//in microA\n",
"Ib2=22;//in microA\n",
"Ib=(Ib1+Ib2)/2;//input bias current\n",
"Ib=Ib\n",
"printf('\n input bias current= %.0f microA \n',Ib)\n",
"Iios=(Ib1-Ib2);//input offset current\n",
"Iios=abs(Iios);\n",
"Iios=Iios\n",
"printf('\n input offset current= %.0f microA \n',Iios)"
   ]
   }
,
{
		   "cell_type": "markdown",
		   "metadata": {},
		   "source": [
			"## Example 10.3: Values_of_two_input_bias_current.sce"
		   ]
		  },
  {
"cell_type": "code",
	   "execution_count": null,
	   "metadata": {
	    "collapsed": true
	   },
	   "outputs": [],
"source": [
"//EX10_3 PG-10.17\n",
"clc\n",
"Iios=20;//Input offset current in nA\n",
"Ib=60;//Input bias current in nA\n",
"//Iios=Ib1-Ib2=20\n",
"//Ib=(Ib1+Ib2)/2=60\n",
"//ie Ib=(Ib1+Ib2)=120\n",
"disp(' Iios=Ib1-Ib2=20')\n",
"disp(' ie Ib=(Ib1+Ib2)/2=60 ie Ib=(Ib1+Ib2)=120')\n",
"a=[1 -1;1 1];//coefficient of Ib1 and Ib2 for Iios and Ib\n",
"b=[20 ;120];//value of Iios and Ib\n",
"x=inv(a)*b\n",
"disp(' values of Ib1 andIb2 are')\n",
"printf('  %.0f nA ',x)"
   ]
   }
,
{
		   "cell_type": "markdown",
		   "metadata": {},
		   "source": [
			"## Example 10.4: Voltage_gai.sce"
		   ]
		  },
  {
"cell_type": "code",
	   "execution_count": null,
	   "metadata": {
	    "collapsed": true
	   },
	   "outputs": [],
"source": [
"//EX10_4 PG-10.35\n",
"clc\n",
"disp('Refer to the figure-10.32 shown')\n",
"//the circuit is an inverting amplifier\n",
"R1=10e3;\n",
"Rf=47e3;//feedback resistance\n",
"A=-Rf/R1;//gain of an inverting amplifier\n",
"printf('\n the gain is %.1f (inverting amplifier) \n',A)"
   ]
   }
,
{
		   "cell_type": "markdown",
		   "metadata": {},
		   "source": [
			"## Example 10.5: Output_voltage_and_waveforms.sce"
		   ]
		  },
  {
"cell_type": "code",
	   "execution_count": null,
	   "metadata": {
	    "collapsed": true
	   },
	   "outputs": [],
"source": [
"//EX10_5 PG-10.35\n",
"clc\n",
"R1=10e3;\n",
"Rf=50e3;//feedback resistance\n",
"Vcc=12;//supply voltage in volts\n",
"A=-Rf/R1;//gain of an inverting amplifier\n",
"A=abs(A);//magnitude of the gain\n",
"printf('If Vm=0.5V then')\n",
"Vm=0.5;//peak value of the input voltage\n",
"Vo=A*Vm;//output voltage\n",
"printf('\n peak value of the output voltage Vo=%.1f V \n',Vo)\n",
"printf('\n if Vm=5V then')\n",
"Vm=5;//peak value of the input voltage\n",
"Vo1=A*Vm;//output voltage\n",
"printf('\n peak value of the output voltage Vo=%.0f V \n',Vo1)\n",
"disp('but the opamp output saturates at +/- 12V hence portion above +12V and')\n",
"printf(' below -12V will be clipped off.So 25V \n peak output is not practically possible it will show upto +/- 12V')\n",
"clf()   \n",
"\n",
"subplot(2,1,1)        //input voltage Vin=0.5V peak\n",
"x=0:%pi/100:9\n",
" y=0.5*sin(x)\n",
" plot(x,y)\n",
"xtitle('(Vin)m=0.5V' ,'time','Input voltage Vin= 0.5V peak')\n",
" xgrid(color('grey'));\n",
"\n",
"subplot(2,1,2)         //output voltage Vo=2.5V peak                  \n",
" x=0:%pi/100:9\n",
" y=-Vo*sin(x)        //output is inverted \n",
" plot(x,y)\n",
"xtitle('(Vin)m=0.5V' ,'time','Output voltage(inverted) Vo=2.5V peak')\n",
" xgrid(color('grey'));\n",
"\n",
"xset('window',1)\n",
"clf()\n",
"\n",
"subplot(2,1,1)        //input voltage Vin=5V peak\n",
"x=0:%pi/100:9\n",
" y=5*sin(x)\n",
" plot(x,y)\n",
"xtitle('(Vin)m=5V' ,'time','Input voltage Vin=5V peak')\n",
" xgrid(color('grey'));\n",
"\n",
"subplot(2,1,2)        //output voltage Vo=25V peak but clipped at + or-12V \n",
" x=0:%pi/100:9\n",
" y=-Vo1*sin(x)       //output is inverted\n",
"y(find(y > 12)) =  12; \n",
"y(find(y < -12))= -12;\n",
" plot(x,y,style=3)\n",
"xtitle('(Vin)m=5V' ,'time','Output voltage(inverted) Vo=12V clipped')\n",
" xgrid(color('grey'));"
   ]
   }
,
{
		   "cell_type": "markdown",
		   "metadata": {},
		   "source": [
			"## Example 10.6: Reading_of_output_voltage_on_the_voltmeter.sce"
		   ]
		  },
  {
"cell_type": "code",
	   "execution_count": null,
	   "metadata": {
	    "collapsed": true
	   },
	   "outputs": [],
"source": [
"//EX10_6 PG-10.36\n",
"clc\n",
"R1=10e3;\n",
"Rf=47e3;//feedback resistance\n",
"Vcc=12;//supply voltage\n",
"A=-Rf/R1;//gain of an inverting amplifier\n",
"A=abs(A);//magnitude of the gain of an inverting amplifier\n",
"Vin=2;//peak to peak input voltage\n",
"Voo=Vin*A;//peak to peak output voltage\n",
"//the AC voltmeter measures the rms value\n",
"Vo=Voo/2;//peak output voltage\n",
"Vrms=Vo/sqrt(2);//rms value of the output voltage\n",
"printf('\n Reading on the AC voltmeter is %.4f V \n',Vrms)"
   ]
   }
,
{
		   "cell_type": "markdown",
		   "metadata": {},
		   "source": [
			"## Example 10.7: Voltage_gain_and_output_waveforms.sce"
		   ]
		  },
  {
"cell_type": "code",
	   "execution_count": null,
	   "metadata": {
	    "collapsed": true
	   },
	   "outputs": [],
"source": [
"//EX10_7 PG-10.37\n",
"clc\n",
"R1=1e3;\n",
"Rf=10e3;//feedback resistance\n",
"Vin=100e-3;//input voltage peak to peak\n",
"A=-Rf/R1;//gain of an inverting amplifier\n",
"Vo=A*Vin;\n",
"printf('\n peak to peak value of the output voltage Vo = %.0f V \n',Vo)\n",
"printf('\n voltage gain of the inverting amplifier  Af = %.0f \n ',A)\n",
"//plotting of the waveforms\n",
"clf() \n",
"\n",
" subplot(2,1,1)    //input voltage Vin=0.5V peak\n",
"x=0:%pi/100:9          \n",
" y=50*sin(x)\n",
" plot(x,y)\n",
"xtitle('Input voltage Vin ' ,'time','Vin=100mV peak to peak')\n",
" xgrid(color('grey'));\n",
"subplot(2,1,2)      //output voltage Vo=2.5V peak\n",
" x=0:%pi/100:9          \n",
" y=-500*sin(x)\n",
" plot(x,y)\n",
"xtitle('Output voltage Vo' ,'time','Vo=1000mV peak to peak')\n",
" xgrid(color('grey'));\n",
" "
   ]
   }
,
{
		   "cell_type": "markdown",
		   "metadata": {},
		   "source": [
			"## Example 10.8: Feedback_resistor_Rf.sce"
		   ]
		  },
  {
"cell_type": "code",
	   "execution_count": null,
	   "metadata": {
	    "collapsed": true
	   },
	   "outputs": [],
"source": [
"//EX10_8 PG-10.40\n",
"clc\n",
"A=61;//gain required for the non inverting amplifier\n",
"R1=1e3;\n",
"printf('Refer to the figure-10.36 shown\n')\n",
"printf(' \n The gain of the non inverting amplifier is A=1+Rf/R1')\n",
"//the gain of the non inverting amplifier is A=1+Rf/R1\n",
"x=A-1;//x=Rf/R1\n",
"Rf=x*R1;\n",
"printf('\n\n Therefore feedback resistance Rf=%.0f kohm \n',Rf*1e-3)"
   ]
   }
,
{
		   "cell_type": "markdown",
		   "metadata": {},
		   "source": [
			"## Example 10.9: Gain_and_output_voltage.sce"
		   ]
		  },
  {
"cell_type": "code",
	   "execution_count": null,
	   "metadata": {
	    "collapsed": true
	   },
	   "outputs": [],
"source": [
"//EX10_9 PG-10.40\n",
"clc\n",
"R1=1e3;\n",
"Rf=10e3;//feedback resistance\n",
"A=1+Rf/R1;//gain of a non-inverting amplifier\n",
"printf('Gain is %.0f\n',A)\n",
"disp('For Vin =0.5V ')\n",
"Vin=0.5;//input voltage\n",
"Vo=A*Vin;\n",
"printf(' Output voltage Vo=%.1f V \n',Vo)\n",
"disp('For Vin =-3V ')\n",
"Vin=-3;//input voltage\n",
"Vo=A*Vin;\n",
"printf(' Output voltage Vo=%.1f V \n',Vo)\n",
"printf('\n but Vo=-33V is not possible. Output will saturate at -12V \n')\n",
"printf(' And the remaining portion will be clipped from output.')"
   ]
   }
],
"metadata": {
		  "kernelspec": {
		   "display_name": "Scilab",
		   "language": "scilab",
		   "name": "scilab"
		  },
		  "language_info": {
		   "file_extension": ".sce",
		   "help_links": [
			{
			 "text": "MetaKernel Magics",
			 "url": "https://github.com/calysto/metakernel/blob/master/metakernel/magics/README.md"
			}
		   ],
		   "mimetype": "text/x-octave",
		   "name": "scilab",
		   "version": "0.7.1"
		  }
		 },
		 "nbformat": 4,
		 "nbformat_minor": 0
}
