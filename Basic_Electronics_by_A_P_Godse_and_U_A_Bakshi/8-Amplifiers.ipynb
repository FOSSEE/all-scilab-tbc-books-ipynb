{
"cells": [
 {
		   "cell_type": "markdown",
	   "metadata": {},
	   "source": [
       "# Chapter 8: Amplifiers"
	   ]
	},
{
		   "cell_type": "markdown",
		   "metadata": {},
		   "source": [
			"## Example 8.1: Gain_in_dB_scale.sce"
		   ]
		  },
  {
"cell_type": "code",
	   "execution_count": null,
	   "metadata": {
	    "collapsed": true
	   },
	   "outputs": [],
"source": [
"//Ex8_1 PG-8.3\n",
"clc\n",
"Av=100;//voltage gain\n",
"G=20*log10(Av);//gain in decibel\n",
"printf('\n Therefore gain in decibel=%.0f dB \n',G)"
   ]
   }
,
{
		   "cell_type": "markdown",
		   "metadata": {},
		   "source": [
			"## Example 8.2: Maximum_voltage_gai.sce"
		   ]
		  },
  {
"cell_type": "code",
	   "execution_count": null,
	   "metadata": {
	    "collapsed": true
	   },
	   "outputs": [],
"source": [
"//Ex8_2 PG-8.5\n",
"clc\n",
"Av=200;//gain at cut-off frequencies\n",
"Avm=Av*sqrt(2);//maximum voltage gain\n",
"printf('\n Therefore maximum voltage gain=%.2f \n',Avm)\n",
"                                                              "
   ]
   }
,
{
		   "cell_type": "markdown",
		   "metadata": {},
		   "source": [
			"## Example 8.3: Gain_of_an_amplifier.sce"
		   ]
		  },
  {
"cell_type": "code",
	   "execution_count": null,
	   "metadata": {
	    "collapsed": true
	   },
	   "outputs": [],
"source": [
"//Ex8_3 PG-8.6\n",
"clc\n",
"Amid=100;//mid-band gain\n",
"f1=1e3;//loer cut-off frequency\n",
"f=20;//frquency at which the gain of the amplifier should be found\n",
"A=Amid/sqrt(1+(f1/f)^2)\n",
"printf('\n Therefore  the gain of the amplifier at f = 20Hz is %.0f \n',A)"
   ]
   }
,
{
		   "cell_type": "markdown",
		   "metadata": {},
		   "source": [
			"## Example 8.4: Gain_of_an_amplifier.sce"
		   ]
		  },
  {
"cell_type": "code",
	   "execution_count": null,
	   "metadata": {
	    "collapsed": true
	   },
	   "outputs": [],
"source": [
"//Ex8_4 PG-8.7\n",
"clc\n",
"G=200;//3dB gain\n",
"f2=20e3;//higher cut-off frequency\n",
"Amid=G*sqrt(2);//mid-band gain\n",
"f=100e3;//frquency at which the gain of the amplifier should be found\n",
"A=Amid/sqrt(1+(f/f2)^2)\n",
"printf('\n Therefore  the gain of the amplifier at f=100kHz is %.2f \n',A)\n",
"//in the  book the answer for the gain is 115.47 which is wrong \n",
"//the corect answer is 55.47"
   ]
   }
],
"metadata": {
		  "kernelspec": {
		   "display_name": "Scilab",
		   "language": "scilab",
		   "name": "scilab"
		  },
		  "language_info": {
		   "file_extension": ".sce",
		   "help_links": [
			{
			 "text": "MetaKernel Magics",
			 "url": "https://github.com/calysto/metakernel/blob/master/metakernel/magics/README.md"
			}
		   ],
		   "mimetype": "text/x-octave",
		   "name": "scilab",
		   "version": "0.7.1"
		  }
		 },
		 "nbformat": 4,
		 "nbformat_minor": 0
}
