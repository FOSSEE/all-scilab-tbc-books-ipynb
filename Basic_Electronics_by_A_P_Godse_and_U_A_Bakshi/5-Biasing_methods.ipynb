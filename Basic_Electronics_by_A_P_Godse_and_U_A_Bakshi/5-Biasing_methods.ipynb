{
"cells": [
 {
		   "cell_type": "markdown",
	   "metadata": {},
	   "source": [
       "# Chapter 5: Biasing methods"
	   ]
	},
{
		   "cell_type": "markdown",
		   "metadata": {},
		   "source": [
			"## Example 5.10: Design_of_voltage_divider_bias_circuit.sce"
		   ]
		  },
  {
"cell_type": "code",
	   "execution_count": null,
	   "metadata": {
	    "collapsed": true
	   },
	   "outputs": [],
"source": [
"//EX5_10 PG-5.18\n",
"clc\n",
"disp('Refer to the figure-5.20 shown')\n",
"Vbe=0.7;//base emitter voltage for silicon\n",
"Vcc=12;//supply voltage\n",
"Beta=100;//voltage gain\n",
"Vce=5;//colector to emitter voltage \n",
"Ve=3;//assumption\n",
"Ic=3e-3;//collector current\n",
"Ib=Ic/Beta;//base current\n",
"printf('\n Ib=%.0f microA \n',Ib*1e6)\n",
"Ie=Ic+Ib;//emitter current\n",
"printf('\n Ie=%.2f mA \n',Ie*1e3)\n",
"Re=Ve/Ie;\n",
"printf('\n Re=%.0f ohm \n',Re)\n",
"printf(' the standard value of Re=910 ohm')\n",
"Re=910;//standard value\n",
"Ve=Ie*Re;\n",
"printf('\n\n Ve=%.3f V \n',Ve)\n",
"Rc=(Vcc-Ve-Vce)/Ic\n",
"printf('\n Rc=%.0f ohm \n',Rc)\n",
"printf(' the lower side standard value is selected to reduce Ic*Rc and increase Vce ')\n",
"Vb=Ve+Vbe\n",
"printf('\n\n Therefore Vb=%.5f V \n',Vb)\n",
"I=10*Ib\n",
"printf('\n I=%.1f mA \n',I*1e3)\n",
"R2=Vb/I;\n",
"printf('\n R2=%.0f ohm \n',R2)\n",
"printf(' the standard value of R2=11 kohm\n')\n",
"disp('the lower side standard is selected to satisfy I>=10*Ib')\n",
"R2=11e3;\n",
"I=Vb/R2;\n",
"printf('\n I=%.4f mA \n',I*1e3)\n",
"R1=(Vcc-Vb)/(I+Ib)\n",
"printf('\n R1=%.3f kohm \n',R1*1e-3)\n",
"printf(' the standard value of R1=22kohm\n')\n",
"disp('The lowest standard value is selected to satisfy I>=10*Ib')"
   ]
   }
,
{
		   "cell_type": "markdown",
		   "metadata": {},
		   "source": [
			"## Example 5.11: Stability_factor.sce"
		   ]
		  },
  {
"cell_type": "code",
	   "execution_count": null,
	   "metadata": {
	    "collapsed": true
	   },
	   "outputs": [],
"source": [
"//EX5_11 PG-5.26\n",
"clc\n",
"//for base bias take the figure as shown the Example5.1\n",
"Beta=100;\n",
"S=1+Beta;//stability factor\n",
"printf('\n For base bias: stability factor=%.0f \n',S)\n",
"//for collector to base bias the figure as shown the Example5.3\n",
"Beta=100;\n",
"Rc=10e3;\n",
"Rb=100e3\n",
"S=(1+Beta)/(1+Beta*(Rc/(Rc+Rb)));\n",
"printf('\n For collector to base bias: stability factor=%.0f \n',S)\n",
"//for voltage divider  bias take the figure as shown the Example5.5\n",
"Re=500;\n",
"R1=10e3;\n",
"R2=5e3;\n",
"Rb=R1*R2/(R1+R2);//R1 and R2 are in parallel\n",
"S=(1+Beta)/(1+Beta*(Re/(Re+Rb)));\n",
"printf('\n For voltage divider bias: stability factor=%.2f \n',S)"
   ]
   }
,
{
		   "cell_type": "markdown",
		   "metadata": {},
		   "source": [
			"## Example 5.12: Resistance_Rb.sce"
		   ]
		  },
  {
"cell_type": "code",
	   "execution_count": null,
	   "metadata": {
	    "collapsed": true
	   },
	   "outputs": [],
"source": [
"//EX5_12 PG-5.28\n",
"clc\n",
"disp('Refer to the figure-5.25 shown')\n",
"Icbo1=2e-6;//at a temperature T1=25 degree celsius\n",
"Vbb=5;\n",
"Vbe=0.1\n",
"disp('Icbo doubles for every 10 degree Celsius')\n",
"T1=25;//temperature in degree celsius\n",
"T2=80;//temperature in degree celsius\n",
"Icbo2=Icbo1*2^((T2-T1)/10);//at a temperature T2=80 degree celsius\n",
"printf('\n Therefore Icbo2=%.2f microA \n',Icbo2*1e6)\n",
"disp('Apply KVL to the base circuit Vbb=Vbe+Icbo2*Rb we get')\n",
"Rb=(Vbb-Vbe)/Icbo2;\n",
"printf('\n Rb=%.3f kohm \n',Rb*1e-3)"
   ]
   }
,
{
		   "cell_type": "markdown",
		   "metadata": {},
		   "source": [
			"## Example 5.13: Calculation_of_R1_and_R3.sce"
		   ]
		  },
  {
"cell_type": "code",
	   "execution_count": null,
	   "metadata": {
	    "collapsed": true
	   },
	   "outputs": [],
"source": [
"//EX5_13 PG-5.29\n",
"clc\n",
"disp('Refer to the figure-5.26 shown')\n",
"Vcc=15;//supply voltage\n",
"Beta=100;//voltage gain\n",
"Vbe=0.6;//base emitter voltage \n",
"Ic=2e-3\n",
"Vce=3;\n",
"R4=600;\n",
"R2=10e3;\n",
"Ib=Ic/Beta;\n",
"Ie=Ic+Ib;//collector current\n",
"printf('\n Apply KVL to the collector side Vcc=Ic*R3+Vce+Ie*R4')\n",
"R3=(Vcc-Vce-Ie*R4)/Ic;//since Vcc=Ic*R3+Vce+Ie*R4\n",
"printf('\n Therefore R3=%.3f kohm \n',R3*1e-3)\n",
"printf('\n Apply KVL to the base side I*R2=Vbe+Ie*R4')\n",
"I=(Vbe+Ie*R4)/R2;//since I*R2=Vbe+Ie*R4\n",
"printf('\n Therefore I=%.4f mA \n',I*1e3)\n",
"printf('\n Apply KVl to the potential divider side we get Vcc=(I+Ib)*R1+I*R2')\n",
"R1=(Vcc-I*R2)/(I+Ib);//since  Vcc=(I+Ib)*R1+I*R2\n",
"printf('\n therefore R1=%.3f kohm \n',R1*1e-3)"
   ]
   }
,
{
		   "cell_type": "markdown",
		   "metadata": {},
		   "source": [
			"## Example 5.14: Calculation_of_Re_Vce_and_stability_factor.sce"
		   ]
		  },
  {
"cell_type": "code",
	   "execution_count": null,
	   "metadata": {
	    "collapsed": true
	   },
	   "outputs": [],
"source": [
"//EX5_14 PG-5.30\n",
"clc\n",
"disp('Refer to the figure-5.27 shown')\n",
"Vcc=12;//supply voltage\n",
"Beta=100;//voltage gain\n",
"Vbe=0.7;//base emitter voltage \n",
"Ic=2e-3;\n",
"Ib=Ic/Beta;\n",
"R1=50e3;\n",
"R2=5e3;\n",
"Rc=2e3;\n",
"disp('apply KVl to the potential divider side we get Vcc-(I+Ib)*R1-I*R2=0 we get')\n",
"I=(Vcc-R1*Ib)/(R1+R2);//since Vcc-(I+Ib)*R1-I*R2=0\n",
"Vb=R2*I;\n",
"Ie=Ib+Ic;\n",
"Re=(Vb-Vbe)/(Ib+Ic);//Vb=Vbe+Re*Ie\n",
"printf('\n Re=%.2f ohm \n',Re)\n",
"disp('Apply KVL to the collector side Vcc-Ic*Rc-Vce+Ie*Re=0')\n",
"Vce=Vcc-Ic*Rc-Ie*Re;//since Vcc-Ic*Rc-Vce+Ie*Re=0\n",
"printf('\n Therefore Vce=%.1f V \n',Vce)\n",
"Rb=R1*R2/(R1+R2);//R1 and R2 are in parallel\n",
"S=(1+Beta)/(1+Beta*(Re/(Re+Rb)));\n",
"printf('\n stability factor=%.3f \n',S)"
   ]
   }
,
{
		   "cell_type": "markdown",
		   "metadata": {},
		   "source": [
			"## Example 5.15: Determination_of_percent_change_in_Q_values.sce"
		   ]
		  },
  {
"cell_type": "code",
	   "execution_count": null,
	   "metadata": {
	    "collapsed": true
	   },
	   "outputs": [],
"source": [
"//EX5_15 PG-5.31\n",
"clc\n",
"disp('Refer to the figure-5.28 shown')\n",
"Vbe=0.7;\n",
"Rb=100e3;\n",
"Rc=600;\n",
"Vcc=12;//supply voltage\n",
"T1=25;//temperature in degree celsius\n",
"T2=75;//temperature in degree celsius\n",
"disp('at T1=25 degree celsius, applying KVL to the base circuit we get')\n",
"disp('Vcc-Ib*Rb-Vbe=0')\n",
"Beta=100;//voltage gain at T1=25 degree celsius\n",
"Ib=(Vcc-Vbe)/Rb;//since Vcc-Ib*Rb-Vbe=0\n",
"Ic=Beta*Ib;\n",
"printf('\n Therefore Ic=%.1f mA \n',Ic*1e3)\n",
"disp('Apply KVL to the collector side Vcc-Ic*Rc-Vce=0')\n",
"Vce=Vcc-Ic*Rc;//since Vcc-Ic*Rc-Vce=0\n",
"printf('\n Therefore Vce=%.2f V \n',Vce)\n",
"Beta=125;//voltage gain at T1=25 degree celsius\n",
"Ic1=Beta*Ib;\n",
"Vce1=Vcc-Ic1*Rc;//since Vcc-Ic*Rc-Vce=0\n",
"printf('\n At 75 degree celsius Vce=%.3f\n',Vce1)\n",
"Ic_change=(Ic1-Ic)*100/Ic;//percentage in Ic \n",
"printf('\n change in Ic=%.0f %% (an increase)\n',Ic_change)\n",
"Vce_change=(Vce1-Vce)*100/Vce;//percentage in Vce\n",
"printf('\n change in Vce=%.2f %% (a decrease) \n',Vce_change)"
   ]
   }
,
{
		   "cell_type": "markdown",
		   "metadata": {},
		   "source": [
			"## Example 5.1: Calculation_of_Ib_Ic_and_Vce_and_the_region_of_operation.sce"
		   ]
		  },
  {
"cell_type": "code",
	   "execution_count": null,
	   "metadata": {
	    "collapsed": true
	   },
	   "outputs": [],
"source": [
"//EX5_1 PG 5.4\n",
"clc\n",
"disp('  Refer to the figure-5.5 shown')\n",
"disp('i) When Rb=300 kohm')\n",
"disp('   Base emitter junction is not reverse biased ')\n",
"disp('   Assume transistor is operating in active region')\n",
"Rb=300e3;\n",
"Rc=2e3;//collector resistance\n",
"Vcc=10;//supply voltage\n",
"Vbe=0.7;//base emitter voltage\n",
"disp('   We know that Vcc=Ib*Rb+Vbe ')\n",
"Ib=(Vcc-Vbe)/Rb;//since Vcc=Ib*Rb+Vbe\n",
"printf('\n    base current Ib is: %.2f microA \n',Ib*1e6)\n",
"Beta=100;\n",
"Ic=Beta*Ib;//colector current in active region\n",
"printf('\n    Collector current is %.1f mA \n',Ic*1e3)\n",
"disp('   Applying KVL around collector loop ie Vcc=Ic*Rc+Vce')\n",
"Vce=Vcc-Ic*Rc;//since Vcc=Ic*Rc+Vce\n",
"printf('\n    Now Vce= %.1f V \n\n',Vce)\n",
"printf('   Since Vce=3.8 V collector to base junction is reverse biased and we can say \n   that our assumption that transistor is in active region is justified')\n",
"printf('\n\n ii)When Rb=150 kohm\n\n')\n",
"disp('   base emitter junction is not reverse biased ')\n",
"Rb=150e3;\n",
"disp('   assume transistor is operating in active region')\n",
"disp('   Applying KVL around base loop ie Vcc=Ib*Rb+Vbe')\n",
"Ib=(Vcc-Vbe)/Rb;//since Vcc=Ib*Rb+Vbe\n",
"printf('\n    base current Ib is: %.0f microA \n',Ib*1e6)\n",
"Ic=Beta*Ib;//colector current in active region\n",
"printf('\n    Collector current is %.1f mA \n',Ic*1e3)\n",
"disp('   Applying KVL around collector loop ie Vcc=Ic*Rc+Vce')\n",
"Vce=Vcc-Ic*Rc;//since Vcc=Ic*Rc+Vce\n",
"printf('\n    Therefore Vce= %.1f V \n\n',Vce)\n",
"printf('    Collector voltage Vce has to be +ve or zero but Vce=-2.4 V hence \n    transistor is not in active region but it is in saturation region\n\n ')\n",
"Vbe_sat=0.8;//base saturation voltage\n",
"Vce_sat=0.2;//collector saturation voltage\n",
"disp('   Applying KVL around base loop ie Vcc=Ib*Rb+Vbe_sat')\n",
"Ib=(Vcc-Vbe_sat)/Rb;//since Vcc=Ib*Rb+Vbe_sat\n",
"printf('\n    base current Ib is: %.0f microA \n',Ib*1e6)\n",
"disp('   Applying KVL around collector loop ie Vcc=Ic*Rc+Vce_sat')\n",
"Ic=(Vcc-Vce_sat)/Rc//since Vcc=Ic*Rc+Vce_sat\n",
"printf('\n    Collector current is %.1f mA \n',Ic*1e3)\n",
"printf('    To justify transistor is in saturation then \n    Ib must be greater than (Ic/Beta)')\n",
"x=Ic/Beta\n",
" printf('\n\n    Now Ib=%.0fnmicroA \n \n   (Ic/Beta)=%.0f microA \n',Ib*1e6,x*1e6)\n",
"if (Ib>x) then//x=(Ic/Beta)\n",
"disp('   Hence transistor in saturation region is satisfied ')    \n",
"end"
   ]
   }
,
{
		   "cell_type": "markdown",
		   "metadata": {},
		   "source": [
			"## Example 5.2: Minimum_and_maximum_values_of_Ic_and_Vce.sce"
		   ]
		  },
  {
"cell_type": "code",
	   "execution_count": null,
	   "metadata": {
	    "collapsed": true
	   },
	   "outputs": [],
"source": [
"//EX5_2 PG-5.6\n",
"clc\n",
"Vbe=0.7;//base emitter voltage for silicon\n",
"Vcc=12;//supply voltage\n",
"Rb=150e3;\n",
"Rc=2e3\n",
"hFE_min=50;//minimum voltage gain\n",
"hFE_max=60;//maximum voltage gain\n",
"Ib=(Vcc-Vbe)/Rb;//since Vcc=Ib*Rb+Vbe\n",
"printf('\n base current is %.8f A \n',Ib)\n",
"printf('\n for hFE_min=50')\n",
"Ic=hFE_min*Ib\n",
"printf('\n Ic=%.3f A \n',Ic*1e3)\n",
"Vce=Vcc-Ic*Rc\n",
"printf(' Vce=%.4f V \n',Vce)\n",
"printf('\n\n for hFE_max=60')\n",
"Ic=hFE_max*Ib\n",
"printf('\n Ic=%.2f A \n',Ic*1e3)\n",
"Vce=Vcc-Ic*Rc\n",
"printf(' Vce=%.0f V \n',Vce)\n",
"\n",
""
   ]
   }
,
{
		   "cell_type": "markdown",
		   "metadata": {},
		   "source": [
			"## Example 5.3: Calculation_of_Q_point_values.sce"
		   ]
		  },
  {
"cell_type": "code",
	   "execution_count": null,
	   "metadata": {
	    "collapsed": true
	   },
	   "outputs": [],
"source": [
"//EX5_3 PG5.8 \n",
"clc\n",
"disp('Refer to the figure-5.8 shown')\n",
"Vbe=0.7;//base emitter voltage for silicon\n",
"Vcc=12;//supply voltage\n",
"Rb=100e3;\n",
"Rc=10e3;\n",
"Beta=100;//voltage gain\n",
"Ib=(Vcc-Vbe)/((1+Beta)*Rc+Rb);//since Vcc=Ib*Rb+Vbe\n",
"printf('\n base current is %.2f microA \n',Ib*1e6)\n",
"Ic=Beta*Ib\n",
"printf('\n Ic=%.3f mA \n',Ic*1e3)\n",
"Vce=Vcc-(Ib+Ic)*Rc\n",
"printf('\n Vce=%.4f V \n',Vce)"
   ]
   }
,
{
		   "cell_type": "markdown",
		   "metadata": {},
		   "source": [
			"## Example 5.4: Calculation_of_minimum_and_maximum_values_of_Ic_and_Vce.sce"
		   ]
		  },
  {
"cell_type": "code",
	   "execution_count": null,
	   "metadata": {
	    "collapsed": true
	   },
	   "outputs": [],
"source": [
"//EX5_4 PG-5.9\n",
"clc\n",
"Vbe=0.7;//base emitter voltage for silicon\n",
"Vcc=12;//supply voltage\n",
"Rb=150e3;\n",
"Rc=2e3\n",
"hFE_min=50;\n",
"hFE_max=60;\n",
"printf('i) for hFE_min=50')\n",
"Beta=hFE_min;//minimum voltage gain\n",
"Ib=(Vcc-Vbe)/((1+Beta)*Rc+Rb);//since Vcc=Ib*Rb+Vbe\n",
"printf('\n    base current is %.2f microA \n',Ib*1e6)\n",
"Ic=Beta*Ib\n",
"printf('    Ic=%.3f mA \n',Ic*1e3)\n",
"Vce=Vcc-(Ib+Ic)*Rc\n",
"printf('    Vce=%.3f V \n',Vce)\n",
"printf('\n    for hFE_max=60')\n",
"Beta=hFE_max;//maximum voltage gain\n",
"Ib=(Vcc-Vbe)/((1+Beta)*Rc+Rb);//since Vcc=Ib*Rb+Vbe\n",
"printf('\n    base current is %.2f microA \n',Ib*1e6)\n",
"Ic=Beta*Ib\n",
"printf('    Ic=%.3f mA \n',Ic*1e3)\n",
"Vce=Vcc-(Ib+Ic)*Rc\n",
"printf('    Vce=%.3f V \n',Vce)\n",
""
   ]
   }
,
{
		   "cell_type": "markdown",
		   "metadata": {},
		   "source": [
			"## Example 5.5: Calculation_of_Vce_and_Ic.sce"
		   ]
		  },
  {
"cell_type": "code",
	   "execution_count": null,
	   "metadata": {
	    "collapsed": true
	   },
	   "outputs": [],
"source": [
"//EX5_5 PG-5.11\n",
"clc\n",
"disp('Refer to the figure-5.13 shown')\n",
"Vbe=0.7;//base emitter voltage for silicon\n",
"Vcc=10;//supply voltage\n",
"R1=10e3;\n",
"Rc=1e3;\n",
"R2=5e3;\n",
"Re=500;\n",
"Beta=100;//voltage gain\n",
"Vb=R2*Vcc/(R1+R2);//base voltage\n",
"printf('\n Vb=%.2f V\n',Vb)\n",
"Ve=Vb-Vbe;//emitter voltage\n",
"printf('\n Ve=%.2f V \n',Ve)\n",
"Ie=Ve/Re;\n",
"printf('\n Ie=%.2f mA \n',Ie*1e3)\n",
"Ib=5.26e-3/(1+Beta);//Ie=0.00526 A=5.26 mA\n",
"printf('\n Ib=%.2f microA \n',Ib*1e6)\n",
"Ic=Beta*Ib;\n",
"printf('\n Ic=%.3f mA \n',Ic*1e3)\n",
"disp('We apply KVL to the collector circuit')\n",
"disp('Vcc-Ic*Rc-Vce-Ie*Re=0')\n",
"Vce=Vcc-Ic*Rc-Ie*Re;//since Vcc-Ic*Rc-Vce-Ie*Re=0\n",
"printf('\n Vce=%.2f V \n',Vce)"
   ]
   }
,
{
		   "cell_type": "markdown",
		   "metadata": {},
		   "source": [
			"## Example 5.6: Determination_of_Ic_Ve_and_Vce.sce"
		   ]
		  },
  {
"cell_type": "code",
	   "execution_count": null,
	   "metadata": {
	    "collapsed": true
	   },
	   "outputs": [],
"source": [
"//EX5_6 PG-5.12\n",
"clc\n",
"printf('Refer to the figure-5.13 shown in the question no 5.5\n')\n",
"//We must find the value of Ic,Ve,Vce using exact analysis\n",
"Vbe=0.7;//base emitter voltage for silicon\n",
"Vcc=10;//supply voltage\n",
"R1=10e3;\n",
"Rc=1e3;\n",
"R2=5e3;\n",
"Re=500;\n",
"Beta=100;//voltage gain\n",
"Vt=R2*Vcc/(R1+R2);//thevenin's voltage\n",
"printf('\n Vt=%.2f V\n',Vt)\n",
"Rb=R1*R2/(R1+R2);\n",
"printf('\n Rb=%.0f ohm \n',Rb)\n",
"Ib=(Vt-Vbe)/(Rb+(1+Beta)*Re);\n",
"printf('\n Ib=%.3f microA \n',Ib*1e6)\n",
"Ic=Beta*Ib;\n",
"printf('\n Ic=%.2f mA \n',Ic*1e3)\n",
"Vce=Vcc-Ic*Rc-(Ic+Ib)*Re;//since Vcc-Ic*Rc-Vce-Ie*Re=0\n",
"printf('\n Vce=%.3f V \n',Vce)\n",
"//the ans for Ve in the book is 2.648V whereas in output it is 2.638V because\n",
"// in the book the values has been rounded off so that the final answer is \n",
"//2.648V same is the case for Rb,Ib andIc "
   ]
   }
,
{
		   "cell_type": "markdown",
		   "metadata": {},
		   "source": [
			"## Example 5.7: Minimum_and_maximum_values_of_Ic_and_Vce.sce"
		   ]
		  },
  {
"cell_type": "code",
	   "execution_count": null,
	   "metadata": {
	    "collapsed": true
	   },
	   "outputs": [],
"source": [
"//EX5_7 PG-5.13\n",
"clc\n",
"Vbe=0.7;//base emitter voltage for silicon\n",
"Vcc=12;//supply voltage\n",
"R1=10e3;\n",
"R2=2e3\n",
"Re=470;\n",
"Rc=2e3\n",
"hFE_min=50;\n",
"hFE_max=60;\n",
"Vb=R2*Vcc/(R1+R2);//base voltage\n",
"printf('\n Vb=%.0f V\n',Vb)\n",
"Ve=Vb-Vbe;//emitter voltage\n",
"printf('\n Ve=%.1f V \n',Ve)\n",
"Ie=Ve/Re;\n",
"printf('\n Ie=%.2f mA \n',Ie*1e3)\n",
"printf('\ni) for hFE_min=50')\n",
"Beta=hFE_min;\n",
"Ib=Ie/(Beta+1);\n",
"Ic=Beta*Ib;\n",
"printf('\n   Ic=%.3f mA \n',Ic*1e3)\n",
"Vce=Vcc-Ic*Rc-Ve;\n",
"printf('   Vce=%.3f V \n',Vce)\n",
"disp('ii)for hFE_max=60')\n",
"Beta=hFE_max;\n",
"Ib=Ie/(Beta+1);\n",
"Ic=Beta*Ib;\n",
"printf('    Ic=%.3f mA \n',Ic*1e3)\n",
"Vce=Vcc-Ic*Rc-Ve;\n",
"printf('    Vce=%.2f V \n',Vce)"
   ]
   }
,
{
		   "cell_type": "markdown",
		   "metadata": {},
		   "source": [
			"## Example 5.8: Design_of_a_fixed_biased_circuit.sce"
		   ]
		  },
  {
"cell_type": "code",
	   "execution_count": null,
	   "metadata": {
	    "collapsed": true
	   },
	   "outputs": [],
"source": [
"//EX5_8 PG-5.16\n",
"clc\n",
"disp('refer to the figure-5.17 shown')\n",
"Vbe=0.7;//base emitter voltage for silicon\n",
"Vcc=10;//supply voltage\n",
"Beta=100;//voltage gain\n",
"Vce=5;//colector to emitter voltage \n",
"Ic=5e-3;//collector current\n",
"disp('We apply KVL to the collector circuit ie Vcc-Vce-Ic*Rc=0')\n",
"Rc=(Vcc-Vce)/Ic;//since Vcc-Vce-Ic*Rc=0\n",
"printf('\n Rc=%.0f kohm \n',Rc*1e-3)\n",
"Ib=Ic/Beta;//base current\n",
"printf('\n Ib=%.2f microA \n',Ib*1e6)\n",
"disp('We apply KVL to the base circuit ie Vcc-Vbe-Ib*Rb=0')\n",
"Rb=(Vcc-Vbe)/Ib;//since Vcc-Vbe-Ib*Rb=0\n",
"printf('\n Rb=%.0f kohm \n',Rb*1e-3)\n",
"disp('the standard value of Rb=200k ohm')"
   ]
   }
,
{
		   "cell_type": "markdown",
		   "metadata": {},
		   "source": [
			"## Example 5.9: Design_of_Collector_to_base_bias_circuit.sce"
		   ]
		  },
  {
"cell_type": "code",
	   "execution_count": null,
	   "metadata": {
	    "collapsed": true
	   },
	   "outputs": [],
"source": [
"//EX5_9 PG-5.17\n",
"clc\n",
"disp('refer to the figure-5.19 shown')\n",
"Vbe=0.7;//base emitter voltage for silicon\n",
"Vcc=16;//supply voltage\n",
"Beta=100;//voltage gain\n",
"Vce=5;//colector to emitter voltage \n",
"Ic=5e-3;//collector current\n",
"Ib=Ic/Beta;//base current\n",
"printf('\n Ib=%.0f microA \n',Ib*1e6)\n",
"Rc=(Vcc-Vce)/(Ic+Ib);//since Vcc-Vce-Ic*Rc=0\n",
"printf('\n Rc=%.3f kohm \n',Rc*1e-3)\n",
"disp('Rc=2 kohm standard value')\n",
"disp('We apply KVL to the input circuit ie Vce-Vbe-Ib*Rb=0')\n",
"Rb=(Vce-Vbe)/Ib;//since Vce-Vbe-Ib*Rb=0\n",
"printf('\n Rb=%.0f kohm \n',Rb*1e-3)\n",
"disp('the standard value of Rb=91 kohm')"
   ]
   }
],
"metadata": {
		  "kernelspec": {
		   "display_name": "Scilab",
		   "language": "scilab",
		   "name": "scilab"
		  },
		  "language_info": {
		   "file_extension": ".sce",
		   "help_links": [
			{
			 "text": "MetaKernel Magics",
			 "url": "https://github.com/calysto/metakernel/blob/master/metakernel/magics/README.md"
			}
		   ],
		   "mimetype": "text/x-octave",
		   "name": "scilab",
		   "version": "0.7.1"
		  }
		 },
		 "nbformat": 4,
		 "nbformat_minor": 0
}
