{
"cells": [
 {
		   "cell_type": "markdown",
	   "metadata": {},
	   "source": [
       "# Chapter 9: Oscillators"
	   ]
	},
{
		   "cell_type": "markdown",
		   "metadata": {},
		   "source": [
			"## Example 9.10: Range_for_the_capacitor_C.sce"
		   ]
		  },
  {
"cell_type": "code",
	   "execution_count": null,
	   "metadata": {
	    "collapsed": true
	   },
	   "outputs": [],
"source": [
"//EX9_10 PG-9.24\n",
"clc\n",
"L1=2e-3;\n",
"L2=20e-6;\n",
"Leq=L1+L2;//total inductance  for Hartley oscillator\n",
"fmax=2050e3;//maximum frequency\n",
"fmin=950e3;//minimum frequency\n",
"printf('For f=fmax=2050kHz')\n",
"f=fmax;\n",
"C=1/(4*%pi^2*f^2*Leq);//since f=1/(2*%pi*sqrt(Leq*C));\n",
"C=C*1e12\n",
"printf('\n C=%.2f pF \n',C)\n",
"printf('\n For f=fmin=950kHz')\n",
"f=fmin;\n",
"C1=1/(4*%pi^2*f^2*Leq);//since f=1/(2*%pi*sqrt(Leq*C));\n",
"C1=C1*1e12\n",
"printf('\n C=%.2f pF \n',C1)\n",
"printf('\n Hence C must be varied between %.2f pF and %.2f pF \n',C,C1)\n",
"\n",
"\n",
""
   ]
   }
,
{
		   "cell_type": "markdown",
		   "metadata": {},
		   "source": [
			"## Example 9.11: Range_of_capacitor_C.sce"
		   ]
		  },
  {
"cell_type": "code",
	   "execution_count": null,
	   "metadata": {
	    "collapsed": true
	   },
	   "outputs": [],
"source": [
"//EX9_11 PG-9.25\n",
"clc\n",
"L1=20e-6;\n",
"L2=2e-3\n",
"Leq=L1+L2;//total inductance  for Hartley oscillator\n",
"fmax=2.5e6;//maximum frequency\n",
"fmin=1e6;//minimum frequency\n",
"printf('For f=fmax=2.5MHz')\n",
"f=fmax;\n",
"C=1/(4*%pi^2*f^2*Leq);//since f=1/(2*%pi*sqrt(Leq*C));\n",
"C=C*1e12\n",
"printf('\n C=%.3f pF \n',C)\n",
"printf('\n For f=fmin=1MHz')\n",
"f=fmin;\n",
"C1=1/(4*%pi^2*f^2*Leq);//since f=1/(2*%pi*sqrt(Leq*C));\n",
"C1=C1*1e12\n",
"printf('\n C=%.3f pF \n',C1)\n",
"printf('\n Hence C must be varied between %.3f pF and %.2f pF \n',C,C1)\n",
"\n",
"\n",
""
   ]
   }
,
{
		   "cell_type": "markdown",
		   "metadata": {},
		   "source": [
			"## Example 9.12: EX9_12.sce"
		   ]
		  },
  {
"cell_type": "code",
	   "execution_count": null,
	   "metadata": {
	    "collapsed": true
	   },
	   "outputs": [],
"source": [
"//EX9_12 PG-9.32\n",
"clc\n",
"L=0.4;\n",
"C=0.085e-12;\n",
"R=5e3;\n",
"Cm=1e-12;\n",
"f=1/(2*%pi*sqrt(L*C));//series resonant frequency for crystal oscillator\n",
"printf('\n series resonant frequency for crystal oscillator fs=%.3f MHz \n',f*1e-6)\n",
"Ceq=C*Cm/(C+Cm);\n",
"fp=1/(2*%pi*sqrt(L*Ceq));//parallel resonant frequency for crystal oscillator\n",
"printf('\n parallel resonant frequency for crystal oscillator=%.3f MHz \n',fp*1e-6)\n",
"%increase=(fp-f)/f*100;\n",
"printf('\n increase in parallel frequency fp=%.3f %% \n',%increase)\n",
"w=2*%pi*f;\n",
"Q=w*L/R;//Q factor\n",
"printf('\n Therefore Q factor=%.3f \n',Q)\n",
"//in the book fs=0.856MHz is wrong,correct answer is fs=.863MHz\n",
"//in the book %increase=5.023% is wrong the correct answer is %increase=4.163%\n",
"//in the Q=430.272  which is wrong the correct answer is Q=433.861"
   ]
   }
,
{
		   "cell_type": "markdown",
		   "metadata": {},
		   "source": [
			"## Example 9.13: Series_and_parallel_resonant_frequency.sce"
		   ]
		  },
  {
"cell_type": "code",
	   "execution_count": null,
	   "metadata": {
	    "collapsed": true
	   },
	   "outputs": [],
"source": [
"//EX9_13 PG-9.32\n",
"clc\n",
"C=0.01e-12;\n",
"Cm=2e-12;\n",
"L=2;\n",
"R=2e3;\n",
"fs=1/(2*%pi*sqrt(L*C));//series resonant frequency for crystal oscillator\n",
"printf('\n series resonant frequency for crystal oscillator fs=%.3f MHz \n',fs*1e-6)\n",
"Ceq=C*Cm/(C+Cm);\n",
"fp=1/(2*%pi*sqrt(L*Ceq));//parallel resonant frequency for crystal oscillator\n",
"printf('\n parallel resonant frequency for crystal oscillator=%.3f MHz \n',fp*1e-6)"
   ]
   }
,
{
		   "cell_type": "markdown",
		   "metadata": {},
		   "source": [
			"## Example 9.1: Frequency_of_oscillations.sce"
		   ]
		  },
  {
"cell_type": "code",
	   "execution_count": null,
	   "metadata": {
	    "collapsed": true
	   },
	   "outputs": [],
"source": [
"//EX9_1 PG-9.13\n",
"clc\n",
"R=4.7e3;//each resistance of the RC phase shift oscillator\n",
"C=0.47e-6;//each capacitance of the RC phase shift oscillator\n",
"f=1/(2*%pi*sqrt(6)*R*C);\n",
"printf('\n Therefore frequency of oscillation is %.3f Hz \n',f)"
   ]
   }
,
{
		   "cell_type": "markdown",
		   "metadata": {},
		   "source": [
			"## Example 9.2: Design_of_an_RC_phase_shift_oscillator.sce"
		   ]
		  },
  {
"cell_type": "code",
	   "execution_count": null,
	   "metadata": {
	    "collapsed": true
	   },
	   "outputs": [],
"source": [
"//EX9_2 PG-9.13\n",
"clc\n",
"f=900e3;//frequency of oscillation\n",
"C=1e-12;//each capacitance of the RC phase shift oscillator\n",
"R=1/(2*%pi*sqrt(6)*f*C);\n",
"printf('\n each resistance of the RC phase shift oscillator is %.3f kohm \n',R*1e-3)\n",
"G=29;//opamp gain Rf/R1=29\n",
"R1=1e3;\n",
"printf('\n R1=%.0f kohm \n',R1*1e-3)\n",
"Rf=G*R1;\n",
"printf('\n Rf=%.0f kohm \n',Rf*1e-3)\n",
"disp('the design circuit is shown ')"
   ]
   }
,
{
		   "cell_type": "markdown",
		   "metadata": {},
		   "source": [
			"## Example 9.3: estimation_of_R_and_C.sce"
		   ]
		  },
  {
"cell_type": "code",
	   "execution_count": null,
	   "metadata": {
	    "collapsed": true
	   },
	   "outputs": [],
"source": [
"//EX9_3 PG-9.14\n",
"clc\n",
"f=1e3;//frequency of oscillation\n",
"C=0.1e-6;//We choose the value of each capacitance of the RC phase shift oscillator\n",
"R=1/(2*%pi*sqrt(6)*f*C);\n",
"printf('\n  each resistance of the RC phase shift oscillator is %.3f ohm \n',R)\n",
"disp(' The standard value of R=680 ohm')"
   ]
   }
,
{
		   "cell_type": "markdown",
		   "metadata": {},
		   "source": [
			"## Example 9.4: Frequency_of_oscillations.sce"
		   ]
		  },
  {
"cell_type": "code",
	   "execution_count": null,
	   "metadata": {
	    "collapsed": true
	   },
	   "outputs": [],
"source": [
"//EX9_4 PG-9.14\n",
"clc\n",
"R=5e3;//each resistance of the RC phase shift oscillator\n",
"C=0.1e-6;//each capacitance of the RC phase shift oscillator\n",
"f=1/(2*%pi*sqrt(6)*R*C);\n",
"printf('\n Therefore frequency of oscillation is %.3f Hz \n',f)"
   ]
   }
,
{
		   "cell_type": "markdown",
		   "metadata": {},
		   "source": [
			"## Example 9.5: Value_of_capacitor_C.sce"
		   ]
		  },
  {
"cell_type": "code",
	   "execution_count": null,
	   "metadata": {
	    "collapsed": true
	   },
	   "outputs": [],
"source": [
"//EX9_5 PG-9.20\n",
"clc\n",
"L=100e-6;\n",
"f=500e3;\n",
"disp('We know that for a colpitts oscillator f=1/(2*%pi*sqrt(L*Ceq))')\n",
"Ceq=1/(f^2*4*%pi^2*L)\n",
"Ceq1=Ceq*1e9;\n",
"printf('\n Ceq = %.5f nF \n',Ceq1)\n",
"//C1=C2=C\n",
"C=Ceq1*2;//Ceq=(C*C)/(C+C)\n",
"printf('\n Therefore C = %.5f nF \n',C)"
   ]
   }
,
{
		   "cell_type": "markdown",
		   "metadata": {},
		   "source": [
			"## Example 9.6: Frequency_of_oscillation.sce"
		   ]
		  },
  {
"cell_type": "code",
	   "execution_count": null,
	   "metadata": {
	    "collapsed": true
	   },
	   "outputs": [],
"source": [
"//EX9_6 PG-9.20\n",
"clc\n",
"L=50e-6;\n",
"C1=150e-12;\n",
"C2=1.5e-9;\n",
"Ceq=(C1*C2)/(C1+C2);\n",
"f=1/(2*%pi*sqrt(L*Ceq));\n",
"f=f*1e-6;\n",
"printf('\n Therefore frequency of oscillation is %.3f MHz \n',f)"
   ]
   }
,
{
		   "cell_type": "markdown",
		   "metadata": {},
		   "source": [
			"## Example 9.7: value_of_inductance_L.sce"
		   ]
		  },
  {
"cell_type": "code",
	   "execution_count": null,
	   "metadata": {
	    "collapsed": true
	   },
	   "outputs": [],
"source": [
"//EX9_7 PG-9.21\n",
"clc\n",
"C=1000e-12;\n",
"C1=C;\n",
"C2=C;\n",
"f=500e3;\n",
"Ceq=(C1*C2)/(C1+C2);\n",
"L=1/(4*%pi^2*f^2*Ceq);//since f=1/(2*%pi*sqrt(L*Ceq));\n",
"L=L*1e6;\n",
"printf('\n Therefore L=%.3f micro H \n',L)\n",
""
   ]
   }
,
{
		   "cell_type": "markdown",
		   "metadata": {},
		   "source": [
			"## Example 9.8: designing_the_value_of_inductor_L.sce"
		   ]
		  },
  {
"cell_type": "code",
	   "execution_count": null,
	   "metadata": {
	    "collapsed": true
	   },
	   "outputs": [],
"source": [
"//EX9_8 PG-9.21\n",
"clc\n",
"C1=100e-12;\n",
"C2=50e-12;\n",
"f=10e6;\n",
"Ceq=(C1*C2)/(C1+C2);\n",
"L=1/(4*%pi^2*f^2*Ceq);//f=1/(2*%pi*sqrt(L*Ceq));\n",
"L=L*1e6;\n",
"printf('\n Therefore inductor L = %.1f microH \n',L)"
   ]
   }
,
{
		   "cell_type": "markdown",
		   "metadata": {},
		   "source": [
			"## Example 9.9: Frequency_of_oscillation.sce"
		   ]
		  },
  {
"cell_type": "code",
	   "execution_count": null,
	   "metadata": {
	    "collapsed": true
	   },
	   "outputs": [],
"source": [
"//EX9_9 PG-9.24\n",
"clc\n",
"L1=0.5e-3;\n",
"L2=1e-3;\n",
"C=0.2e-6;\n",
"Leq=L1+L2;//total inductance  for Hartley oscillator\n",
"f=1/(2*%pi*sqrt(Leq*C));\n",
"printf('\n Therefore frequency of oscillation is %.f Hz \n',f)\n",
"//there is a slight difference between the answer given in the book\n",
"//and the and output in the book they have taken the approximate value "
   ]
   }
],
"metadata": {
		  "kernelspec": {
		   "display_name": "Scilab",
		   "language": "scilab",
		   "name": "scilab"
		  },
		  "language_info": {
		   "file_extension": ".sce",
		   "help_links": [
			{
			 "text": "MetaKernel Magics",
			 "url": "https://github.com/calysto/metakernel/blob/master/metakernel/magics/README.md"
			}
		   ],
		   "mimetype": "text/x-octave",
		   "name": "scilab",
		   "version": "0.7.1"
		  }
		 },
		 "nbformat": 4,
		 "nbformat_minor": 0
}
