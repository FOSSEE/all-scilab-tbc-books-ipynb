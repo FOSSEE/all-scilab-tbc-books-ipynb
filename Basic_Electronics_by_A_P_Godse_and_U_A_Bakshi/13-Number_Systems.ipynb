{
"cells": [
 {
		   "cell_type": "markdown",
	   "metadata": {},
	   "source": [
       "# Chapter 13: Number Systems"
	   ]
	},
{
		   "cell_type": "markdown",
		   "metadata": {},
		   "source": [
			"## Example 13.10: 1101100010011011_with_base_2_to_hexadecimal_equivalent.sce"
		   ]
		  },
  {
"cell_type": "code",
	   "execution_count": null,
	   "metadata": {
	    "collapsed": true
	   },
	   "outputs": [],
"source": [
"//EX13_10 PG-13.7\n",
"clc\n",
"clear\n",
"printf('hexadecimal equivalent of 1101100010011011 binary is : ')\n",
"a=['1101100010011011'];\n",
"x=bin2dec(a);\n",
"y=dec2hex(x);\n",
"printf('%s',y)"
   ]
   }
,
{
		   "cell_type": "markdown",
		   "metadata": {},
		   "source": [
			"## Example 13.11: 3FD_with_base_16_to_binary_equivalent.sce"
		   ]
		  },
  {
"cell_type": "code",
	   "execution_count": null,
	   "metadata": {
	    "collapsed": true
	   },
	   "outputs": [],
"source": [
"//EX13_11 PG-13.8\n",
"clc\n",
"clear\n",
"printf('Binary equivalent of 3FD hexadecimal is :')\n",
"a=['3FD']\n",
"x=hex2dec(a)\n",
"y=dec2bin(x)\n",
"printf('00%s',y)"
   ]
   }
,
{
		   "cell_type": "markdown",
		   "metadata": {},
		   "source": [
			"## Example 13.12: 5A9pointB4_with_base_16_to_binary_equivalent.sce"
		   ]
		  },
  {
"cell_type": "code",
	   "execution_count": null,
	   "metadata": {
	    "collapsed": true
	   },
	   "outputs": [],
"source": [
"//EX13_12 PG-13.8\n",
"clc\n",
"clear\n",
"printf('Conversion of hexadecimal no 5A9.B4 to binary equivalent\n ')\n",
"a=['5A9.B4'];\n",
"//first we convert the number 5A9.B4(hexadecimalal)to decimal\n",
"x=(5*16^2)+(10*16^1)+(9*16^0)+(11*16^(-1))+(4*16^(-2));\n",
"//then we convert the decimal to binary\n",
"z=modulo(x,1)\n",
"x=floor(x);//separating the decimal from the integer part\n",
"b=0;\n",
"c=0;\n",
"d=0;\n",
"while(x>0)  //taking integer part into a matrix and convert to equivalent binary\n",
"y=modulo(x,2);\n",
"b=b+(10^c)*y;\n",
"x=x/2;\n",
"x=floor(x);\n",
"c=c+1;\n",
"end\n",
"for i=1:10;//converting the values after the decimal point into binary\n",
"    z=z*2;\n",
"    q=floor(z);\n",
"    d=d+q/(10^i);\n",
"    if z>=1 then\n",
"        z=z-1;\n",
"    end\n",
"end\n",
"s=b+d;\n",
"printf('The binary equivalent of the given\n hexadecimal number 5A9.B4 is = 0%.6f00',s);"
   ]
   }
,
{
		   "cell_type": "markdown",
		   "metadata": {},
		   "source": [
			"## Example 13.13: 615_with_base_8_to_hexadecimal_equivalent.sce"
		   ]
		  },
  {
"cell_type": "code",
	   "execution_count": null,
	   "metadata": {
	    "collapsed": true
	   },
	   "outputs": [],
"source": [
"//EX13_13 PG-13.9\n",
"clc\n",
"clear\n",
"printf('conversion of octal no 615 to its hexadecimal equivalent :')\n",
"a=['615'];\n",
"x=oct2dec(a)\n",
"y=dec2hex(x)\n",
"printf('%s',y)"
   ]
   }
,
{
		   "cell_type": "markdown",
		   "metadata": {},
		   "source": [
			"## Example 13.14: 25B_with_base_16_to_octal_equivalent.sce"
		   ]
		  },
  {
"cell_type": "code",
	   "execution_count": null,
	   "metadata": {
	    "collapsed": true
	   },
	   "outputs": [],
"source": [
"//EX13_14 PG-13.9\n",
"clc\n",
"clear\n",
"printf('conversion of hexadecimal no 25B to its octal equivalent : ')\n",
"a=['25B'];\n",
"x=hex2dec(a)\n",
"y=dec2oct(x)\n",
"printf('%s',y)"
   ]
   }
,
{
		   "cell_type": "markdown",
		   "metadata": {},
		   "source": [
			"## Example 13.15: 1101point1_with_base_2_to_decimal_equivalent.sce"
		   ]
		  },
  {
"cell_type": "code",
	   "execution_count": null,
	   "metadata": {
	    "collapsed": true
	   },
	   "outputs": [],
"source": [
"//EX13_15 PG-13.10\n",
"clc\n",
"clear\n",
"printf('conversion of binary no 1101.1 to its decimal equivalent =')\n",
"N=(1*2^3)+(1*2^2)+(0*2^1)+(1*2^0)+(1*2^(-1));\n",
"printf(' %.1f',N)"
   ]
   }
,
{
		   "cell_type": "markdown",
		   "metadata": {},
		   "source": [
			"## Example 13.16: 475point25_with_base_8_to_decimal_equivalent.sce"
		   ]
		  },
  {
"cell_type": "code",
	   "execution_count": null,
	   "metadata": {
	    "collapsed": true
	   },
	   "outputs": [],
"source": [
"//EX13_16 PG-13.10\n",
"clc\n",
"clear\n",
"printf('conversion of octal no 475.25 to its decimal equivalent =')\n",
"N=(4*8^2)+(7*8^1)+(5*8^0)+(2*8^(-1))+(5*8^(-2));\n",
"printf(' %.5f',N)"
   ]
   }
,
{
		   "cell_type": "markdown",
		   "metadata": {},
		   "source": [
			"## Example 13.17: 9B2point1A_with_base_16_to_decimal_equivalent.sce"
		   ]
		  },
  {
"cell_type": "code",
	   "execution_count": null,
	   "metadata": {
	    "collapsed": true
	   },
	   "outputs": [],
"source": [
"//EX13_17 PG-13.10\n",
"clc\n",
"clear\n",
"printf('conversion of hexadecimal no 9B2.1A to its decimal equivalent =')\n",
"N=(9*16^2)+(11*16^1)+(2*16^0)+(1*16^(-1))+(10*16^(-2));\n",
"printf(' %.1f',N)"
   ]
   }
,
{
		   "cell_type": "markdown",
		   "metadata": {},
		   "source": [
			"## Example 13.18: 3102point12_with_base_4_to_decimal_equivalent.sce"
		   ]
		  },
  {
"cell_type": "code",
	   "execution_count": null,
	   "metadata": {
	    "collapsed": true
	   },
	   "outputs": [],
"source": [
"//EX13_18 PG-13.10\n",
"clc\n",
"clear\n",
"printf('Conversion of the number 3102.12 \n with base 4 to its decimal equivalent =')\n",
"N=(3*4^3)+(1*4^2)+(0*4^1)+(2*4^0)+(1*4^(-1))+(2*4^(-2));\n",
"printf(' %.3f',N)"
   ]
   }
,
{
		   "cell_type": "markdown",
		   "metadata": {},
		   "source": [
			"## Example 13.19: 614point15_with_base_7_to_decimal_equivalent.sce"
		   ]
		  },
  {
"cell_type": "code",
	   "execution_count": null,
	   "metadata": {
	    "collapsed": true
	   },
	   "outputs": [],
"source": [
"//EX13_18 PG-13.10\n",
"clc\n",
"clear\n",
"printf('Conversion of the number 614.15 with base 7 to its decimal equivalent =')\n",
"N=(6*7^2)+(1*7^1)+(4*7^0)+(1*7^(-1))+(5*7^(-2));\n",
"printf(' %.4f',N)"
   ]
   }
,
{
		   "cell_type": "markdown",
		   "metadata": {},
		   "source": [
			"## Example 13.1: Represesntation_of_a_number_98point72_in_powers_of_10.sce"
		   ]
		  },
  {
"cell_type": "code",
	   "execution_count": null,
	   "metadata": {
	    "collapsed": true
	   },
	   "outputs": [],
"source": [
"//EX13_1 PG-13.2\n",
" clc\n",
"clear\n",
"disp('representation of the number 98.72 in power of 10')\n",
"disp('N=(9*10^1)+(8*10^0)+(7*10^(-1))+(2*10^(-2))=98.72')\n",
"disp('The digit 9 has a weight of 10,the digit 8 has a weight of 1,the digit 7')\n",
"disp('has a weight of (1/10) and the digit 2 has a weight of (1/100)')"
   ]
   }
,
{
		   "cell_type": "markdown",
		   "metadata": {},
		   "source": [
			"## Example 13.20: 37_with_base_10_to_binary_equivalent.sce"
		   ]
		  },
  {
"cell_type": "code",
	   "execution_count": null,
	   "metadata": {
	    "collapsed": true
	   },
	   "outputs": [],
"source": [
"//Ex13_20 PG-13.11\n",
"clc\n",
"clear\n",
"printf('  Conversion of decimal number 37 to its binary equivalent =')\n",
"a=[37];\n",
"x=dec2bin(a);\n",
"printf('%s',x)"
   ]
   }
,
{
		   "cell_type": "markdown",
		   "metadata": {},
		   "source": [
			"## Example 13.2: 1101point101_in_power_of_2_and_its_decimal_equivalent.sce"
		   ]
		  },
  {
"cell_type": "code",
	   "execution_count": null,
	   "metadata": {
	    "collapsed": true
	   },
	   "outputs": [],
"source": [
"//EX13_2 PG-13.3\n",
"clc\n",
"clear\n",
"disp('Representation of the binary number 1101.101 in power of 2')\n",
"disp('N=(1*2^3)+(1*2^2)+(0*2^1)+(1*2^0)+(1*2^(-1))+(0*2^(-2))+(1*2^(-3))=13.625')\n",
"N=(1*2^3)+(1*2^2)+(0*2^1)+(1*2^0)+(1*2^(-1))+(0*2^(-2))+(1*2^(-3))\n",
"printf('\n The decimal equivalent of binary no 1101.101 is: %.3f',N)"
   ]
   }
,
{
		   "cell_type": "markdown",
		   "metadata": {},
		   "source": [
			"## Example 13.21: 214_with_base_10_to_octal_equivalent.sce"
		   ]
		  },
  {
"cell_type": "code",
	   "execution_count": null,
	   "metadata": {
	    "collapsed": true
	   },
	   "outputs": [],
"source": [
"//Ex13_21 PG-13.12\n",
"clc\n",
"clear\n",
"printf('conversion of decimal number 214 to its octal equivalent =')\n",
"a=[214];\n",
"x=dec2oct(a)\n",
"printf(' %s',x)"
   ]
   }
,
{
		   "cell_type": "markdown",
		   "metadata": {},
		   "source": [
			"## Example 13.22: 3509_with_base_10_to_hexadecimal_equivalent.sce"
		   ]
		  },
  {
"cell_type": "code",
	   "execution_count": null,
	   "metadata": {
	    "collapsed": true
	   },
	   "outputs": [],
"source": [
"//Ex13_22 PG-13.12\n",
"clc\n",
"clear\n",
"printf('conversion of decimal number 3509 to its hexadecimal equivalent =')\n",
"a=[3509];\n",
"x=dec2hex(a)\n",
"printf(' %s',x)"
   ]
   }
,
{
		   "cell_type": "markdown",
		   "metadata": {},
		   "source": [
			"## Example 13.23: 54_with_base_10_to_radix_4.sce"
		   ]
		  },
  {
"cell_type": "code",
	   "execution_count": null,
	   "metadata": {
	    "collapsed": true
	   },
	   "outputs": [],
"source": [
"//Ex13_23 PG-13.13\n",
"clc\n",
"clear\n",
"printf('conversion of decimal number 54 base  to a number with base 4 =')\n",
"a=[54]\n",
"x=dec2base(a,4);\n",
"printf(' %s',x)"
   ]
   }
,
{
		   "cell_type": "markdown",
		   "metadata": {},
		   "source": [
			"## Example 13.24: point8125_with_base_10_to_binary_equivalent.sce"
		   ]
		  },
  {
"cell_type": "code",
	   "execution_count": null,
	   "metadata": {
	    "collapsed": true
	   },
	   "outputs": [],
"source": [
"//Ex13_24 PG-13.13\n",
"clc\n",
"clear\n",
"disp('Conversion of decimal number 0.8125 base  to its binary equivalent ')\n",
"a=[0.8125];\n",
"z=modulo(a,1);\n",
"d=0;\n",
"for i=1:10;//converting the values after the decimal point into binary\n",
"    z=z*2;\n",
"    q=floor(z);\n",
"    d=d+q/(10^i);\n",
"    if z>=1 then\n",
"        z=z-1;\n",
"    end\n",
"end\n",
"s=d;\n",
"printf('\n The binary equivalent of the given decimal number 0.8125 is = %.4f',s);"
   ]
   }
,
{
		   "cell_type": "markdown",
		   "metadata": {},
		   "source": [
			"## Example 13.25: point95_with_base_10_to_binary_equivalent.sce"
		   ]
		  },
  {
"cell_type": "code",
	   "execution_count": null,
	   "metadata": {
	    "collapsed": true
	   },
	   "outputs": [],
"source": [
"//Ex13_25 PG-13.14\n",
"clc\n",
"clear\n",
"disp('Conversion of decimal number 0.95 base  to its binary equivalent ')\n",
"a=[0.95];\n",
"z=modulo(a,1);\n",
"d=0;\n",
"for i=1:10;//converting the values after the decimal point into binary\n",
"    z=z*2;\n",
"    q=floor(z);\n",
"    d=d+q/(10^i);\n",
"    if z>=1 then\n",
"        z=z-1;\n",
"    end\n",
"end\n",
"s=d;\n",
"printf('\n The binary equivalent of the given decimal number 0.95 is = %.7f',s);"
   ]
   }
,
{
		   "cell_type": "markdown",
		   "metadata": {},
		   "source": [
			"## Example 13.26: point640625_with_base_10_to_octal_equivalent.sce"
		   ]
		  },
  {
"cell_type": "code",
	   "execution_count": null,
	   "metadata": {
	    "collapsed": true
	   },
	   "outputs": [],
"source": [
"//Ex13_26 PG-13.14\n",
"clc\n",
"clear\n",
"disp('Conversion of decimal number 0.640625 base  to its octal equivalent =')\n",
"a=[0.640625];\n",
"z=modulo(a,1);\n",
"d=0;\n",
"for i=1:10;//converting the values after the decimal point into octal\n",
"    z=z*8;\n",
"    q=floor(z);\n",
"    d=d+q/(10^i);\n",
"    if z>=1 then\n",
"        z=z-q;\n",
"    end\n",
"end\n",
"s=d;\n",
"printf('\n The octal equivalent of the given decimal number 0.640625 is = %.2f',s);\n",
""
   ]
   }
,
{
		   "cell_type": "markdown",
		   "metadata": {},
		   "source": [
			"## Example 13.27: point1289062_with_base_10_to_hexadecimal_equivalent.sce"
		   ]
		  },
  {
"cell_type": "code",
	   "execution_count": null,
	   "metadata": {
	    "collapsed": true
	   },
	   "outputs": [],
"source": [
"//Ex13_27 PG-13.14\n",
"clc\n",
"clear\n",
"disp('Conversion of decimal number 0.1289062 base  to its hexadecimal equivalent ')\n",
"a=[0.1289062];\n",
"z=modulo(a,1);\n",
"d=0;\n",
"for i=1:10;//converting the values after the decimal point into octal\n",
"    z=z*16;\n",
"    q=floor(z);\n",
"    d=d+q/(10^i);\n",
"    if z>=1 then\n",
"        z=z-q;\n",
"    end\n",
"end\n",
"s=d;\n",
"printf('\n The hexadecimal equivalent of the given decimal number 0.640625 is = %.3f',s);"
   ]
   }
,
{
		   "cell_type": "markdown",
		   "metadata": {},
		   "source": [
			"## Example 13.28: 24point6_with_base_10_to_binary_equivalent.sce"
		   ]
		  },
  {
"cell_type": "code",
	   "execution_count": null,
	   "metadata": {
	    "collapsed": true
	   },
	   "outputs": [],
"source": [
" //Ex13_28 PG-13.14\n",
"clc\n",
"clear\n",
"disp('Conversion of decimal number 24.6 base  to its binary equivalent ')\n",
"a=24.6;\n",
"z=modulo(a,1)\n",
"x=floor(a);//separating the decimal from the integer part\n",
"b=0;\n",
"c=0;\n",
"d=0;\n",
"while(x>0)  //taking integer part into a matrix and convert to equivalent binary\n",
"y=modulo(x,2);\n",
"b=b+(10^c)*y;\n",
"x=x/2;\n",
"x=floor(x);\n",
"c=c+1;\n",
"end\n",
"for i=1:10;//converting the values after the decimal point into binary\n",
"    z=z*2;\n",
"    q=floor(z);\n",
"    d=d+q/(10^i);\n",
"    \n",
"    if z>=1 then\n",
"        z=z-1;\n",
"    end\n",
"end\n",
"s=b+d;\n",
"printf('\n The binary equivalent of the given decimal number 24.6 is =%.5f',s);"
   ]
   }
,
{
		   "cell_type": "markdown",
		   "metadata": {},
		   "source": [
			"## Example 13.29: 35point45_with_base_10_to_octal_equivalent.sce"
		   ]
		  },
  {
"cell_type": "code",
	   "execution_count": null,
	   "metadata": {
	    "collapsed": true
	   },
	   "outputs": [],
"source": [
"//Ex13_29 PG-13.15\n",
"clc\n",
"clear\n",
"disp('Conversion of decimal number 35.45 to its octal equivalent ')\n",
"a=35.45;\n",
"z=modulo(a,1)\n",
"x=floor(a);//separating the decimal from the integer part\n",
"b=0;\n",
"c=0;\n",
"d=0;\n",
"while(x>0)  //taking integer part into a matrix and convert to equivalent octal\n",
"y=modulo(x,8);\n",
"b=b+(10^c)*y;\n",
"x=x/8;\n",
"x=floor(x);\n",
"c=c+1;\n",
"end\n",
"for i=1:10;//converting the values after the decimal point into octal\n",
"    z=z*8;\n",
"    q=floor(z);\n",
"    d=d+q/(10^i);\n",
"    if z>=1 then\n",
"        z=z-q;\n",
"    end\n",
"end\n",
"s=b+d;\n",
"printf('\n The octal equivalent of the given decimal number 35.45 is =%.5f',s);"
   ]
   }
,
{
		   "cell_type": "markdown",
		   "metadata": {},
		   "source": [
			"## Example 13.30: 22point46_with_base_10_to_hexadecimal_equivalent.sce"
		   ]
		  },
  {
"cell_type": "code",
	   "execution_count": null,
	   "metadata": {
	    "collapsed": true
	   },
	   "outputs": [],
"source": [
"//Ex13_30 PG-13.16\n",
"clc\n",
"clear\n",
"printf('\n Conversion of decimal number 22.64 to its hexadecimal equivalent \n ')\n",
"a=22.64;\n",
"z=modulo(a,1)\n",
"x=floor(a);//separating the decimal from the integer part\n",
"b=dec2hex(x)\n",
"//converting the decimal part of the number into hexadecimal\n",
"    z=z*16;\n",
"    q=floor(z);\n",
"       if  (q==10)  \n",
"        a1=['A']\n",
" else   if (q==11)\n",
"        a1=['B']   \n",
" else  if (q==12)\n",
"        a1=['C']\n",
" else   if (q==13)\n",
"        a1=['D']\n",
" else    if (q==14)\n",
"        a1=['E']\n",
" else   if (q==15)\n",
"        a1=['F']       \n",
"       else a1=q   \n",
"end \n",
"end\n",
"end\n",
"end\n",
"end\n",
"end\n",
"if z>=1 then\n",
"        z=z-q;\n",
"end  \n",
"   z=z*16;\n",
"    q=floor(z);\n",
"       if  (q==10)  \n",
"        a2=['A']\n",
" else   if (q==11)\n",
"        a2=['B']   \n",
" else  if (q==12)\n",
"        a2=['C']\n",
" else   if (q==13)\n",
"        a2=['D']\n",
" else    if (q==14)\n",
"        a2=['E']\n",
" else   if (q==15)\n",
"        a2=['F']       \n",
"       else a2=q   \n",
"end \n",
"end\n",
"end\n",
"end\n",
"end\n",
"end\n",
"if z>=1 then\n",
"        z=z-q;\n",
"end  \n",
"   z=z*16;\n",
"    q=floor(z);\n",
"       if  (q==10)  \n",
"        a3=['A']\n",
" else   if (q==11)\n",
"        a3=['B']   \n",
" else  if (q==12)\n",
"        a3=['C']\n",
" else   if (q==13)\n",
"        a3=['D']\n",
" else    if (q==14)\n",
"        a3=['E']\n",
" else   if (q==15)\n",
"        a3=['F']       \n",
"       else a3=q   \n",
"end \n",
"end\n",
"end\n",
"end\n",
"end\n",
"end\n",
"if z>=1 then\n",
"        z=z-q;\n",
"end  \n",
"   z=z*16;\n",
"    q=floor(z);\n",
"       if  (q==10)  \n",
"        a4=['A']\n",
" else   if (q==11)\n",
"        a4=['B']   \n",
" else  if (q==12)\n",
"        a4=['C']\n",
" else   if (q==13)\n",
"        a4=['D']\n",
" else    if (q==14)\n",
"        a4=['E']\n",
" else   if (q==15)\n",
"        a4=['F']       \n",
"       else a4=q   \n",
"end \n",
"end\n",
"end\n",
"end\n",
"end\n",
"end\n",
"if z>=1 then\n",
"        z=z-q;\n",
"end  \n",
"printf('The hexadecimal equivalent of the given decimal number 22.64 is:')\n",
"printf(' %s.%s%.0f%s%.0f',b,a1,a2,a3,a4);"
   ]
   }
,
{
		   "cell_type": "markdown",
		   "metadata": {},
		   "source": [
			"## Example 13.31: convert_the_given_binary_nos_to_dec_hex_and_oct.sce"
		   ]
		  },
  {
"cell_type": "code",
	   "execution_count": null,
	   "metadata": {
	    "collapsed": true
	   },
	   "outputs": [],
"source": [
"//Ex13_31 PG-13.17\n",
"clc\n",
"clear\n",
"printf('\n  i)\n Conversion of binary number 101101.1101 to\n\n')\n",
"\n",
"//conversion into decimal form\n",
"N=(1*2^5)+(0*2^4)+(1*2^3)+(1*2^2)+(0*2^1)+(1*2^0)+(1*2^(-1))+(1*2^(-2))+(0*2^(-3))+(1*2^(-4));\n",
"printf(' Decimal form = %.4f\n',N)\n",
"\n",
"//Conversion into hexadecimal form\n",
"x=floor(N);//separating the integer part from the decimal part\n",
"b=dec2hex(x);\n",
"z=modulo(N,1);\n",
"d=0;\n",
"//converting the values after the decimal point into hexadecimal\n",
"//first we convert into decimal form and then into hexadecimal form\n",
"for i=2:5;//converting the values after the decimal point into hexadecimal\n",
"    z=z*16;\n",
"    q=floor(z);\n",
"    d=d+q/(10^i);\n",
"    if z>=1 then\n",
"        z=z-q;\n",
"    end\n",
"end\n",
"   if (d==.10)\n",
"           a=['A']\n",
"           end     \n",
"   if (d==.11)\n",
"           a=['B']\n",
"           end\n",
"   if (d==.12)\n",
"           a=['C']\n",
"           end\n",
"   if (d==.13)\n",
"           a=['D']\n",
"           end\n",
"   if (d==.14)\n",
"           a=['E']\n",
"           end\n",
"   if (d==.15)\n",
"           a=['F'] \n",
"           end        \n",
"printf(' Hexadecimal form = %s.%s\n',b,a)\n",
"\n",
"//conversion into octal form\n",
"z=modulo(N,1)\n",
"x=floor(N);//separating the decimal from the integer part\n",
"b=0;\n",
"c=0;\n",
"d=0;\n",
"while(x>0)  //taking integer part into a matrix and convert to equivalent binary\n",
"y=modulo(x,8);\n",
"b=b+(10^c)*y;\n",
"x=x/8;\n",
"x=floor(x);\n",
"c=c+1;\n",
"end\n",
"for i=1:10;//converting the values after the decimal point intooctal\n",
"    z=z*8;\n",
"    q=floor(z);\n",
"    d=d+q/(10^i);\n",
"    if z>=1 then\n",
"        z=z-q;\n",
"    end\n",
"end\n",
"s=b+d;\n",
"printf(' octal  form = %.2f\n\n',s);\n",
"printf('\n  ii)\n Conversion of binary number 11011011.100101 to\n\n')\n",
"\n",
"//conversion into decimal form\n",
"N=(1*2^7)+(1*2^6)+(0*2^5)+(1*2^4)+(1*2^3)+(0*2^2)+(1*2^1)+(1*2^0)+(1*2^(-1))+(0*2^(-2))+(0*2^(-3))+(1*2^(-4))+(0*2^(-5))+(1*2^(-6));\n",
"printf(' Decimal form =%.6f\n\n',N)\n",
"\n",
"//Conversion into hexadecimal form\n",
"x=floor(N);//separating the integer part from the decimal part\n",
"b=dec2hex(x);\n",
"z=modulo(N,1);//first we convert into decimal form and then into hexadecimal form\n",
"d=0;\n",
"//converting the values after the decimal point into hexadecimal\n",
"for i=1:10;//converting the values after the decimal point into hexadecimal\n",
"    z=z*16;\n",
"    q=floor(z);\n",
"    d=d+q/(10^i);\n",
"    if z>=1 then\n",
"        z=z-q;\n",
"    end\n",
"end\n",
"printf(' Hexadecimal form\n    integer part 11011011 =  %s \n    ',b)\n",
"printf('decimal part 100101   =%.2f\n\n',d)\n",
"\n",
"//conversion into octal form\n",
"z=modulo(N,1)\n",
"x=floor(N);//separating the decimal from the integer part\n",
"b=0;\n",
"c=0;\n",
"d=0;\n",
"while(x>0)  //taking integer part into a matrix and convert to equivalent binary\n",
"y=modulo(x,8);\n",
"b=b+(10^c)*y;\n",
"x=x/8;\n",
"x=floor(x);\n",
"c=c+1;\n",
"end\n",
"for i=1:10;//converting the values after the decimal point intooctal\n",
"    z=z*8;\n",
"    q=floor(z);\n",
"    d=d+q/(10^i);\n",
"    if z>=1 then\n",
"        z=z-q;\n",
"    end\n",
"end\n",
"s=b+d;\n",
"printf(' octal  form =%.2f',s);\n",
""
   ]
   }
,
{
		   "cell_type": "markdown",
		   "metadata": {},
		   "source": [
			"## Example 13.32: 2AC5pointD_with_base_16_to_dec_oct_and_bin.sce"
		   ]
		  },
  {
"cell_type": "code",
	   "execution_count": null,
	   "metadata": {
	    "collapsed": true
	   },
	   "outputs": [],
"source": [
"//EX13_32 Pg-18\n",
"clc\n",
"clear\n",
"printf('\n\n   Conversion of hexadecimal number 2AC5.D to \n\n')\n",
"\n",
"//conversion into decimal form\n",
"N=(2*16^3)+(10*16^2)+(12*16^1)+(5*16^0)+(13*16^(-1))\n",
"printf('   Decimal form = %.4f\n\n',N)\n",
"\n",
"//conversion into octal form\n",
"//we take the value of the decimal form and convert it to octal form\n",
"z=modulo(N,1)\n",
"x=floor(N);//separating the decimal from the integer part\n",
"b=0;\n",
"c=0;\n",
"d=0;\n",
"while(x>0)  //taking integer part into a matrix and convert to equivalent binary\n",
"y=modulo(x,8);\n",
"b=b+(10^c)*y;\n",
"x=x/8;\n",
"x=floor(x);\n",
"c=c+1;\n",
"end\n",
"for i=1:10;//converting the values after the decimal point intooctal\n",
"    z=z*8;\n",
"    q=floor(z);\n",
"    d=d+q/(10^i);\n",
"    if z>=1 then\n",
"        z=z-q;\n",
"    end\n",
"end\n",
"s=b+d;\n",
"printf('   Octal  form = %.2f\n\n',s);\n",
"\n",
"//conversion into binary form\n",
"//we take the value of the decimal form and convert it to octal form\n",
"z=modulo(N,1)\n",
"x=floor(N);//separating the decimal from the integer part\n",
"b=0;\n",
"c=0;\n",
"d=0;\n",
"while(x>0)  //taking integer part into a matrix and convert to equivalent binary\n",
"y=modulo(x,2);\n",
"b=b+(10^c)*y;\n",
"x=x/2;\n",
"x=floor(x);\n",
"c=c+1;\n",
"end\n",
"for i=1:10;//converting the values after the decimal point into binary\n",
"    z=z*2;\n",
"    q=floor(z);\n",
"    d=d+q/(10^i);\n",
"    \n",
"    if z>=1 then\n",
"        z=z-1;\n",
"    end\n",
"end\n",
"s=b+d;\n",
"printf('   Binary  form : ')\n",
"printf('\n       Integer part 2AC5 = 00%.0f',b)\n",
"printf('\n       Decimal part 0.D = %.4f00',d)"
   ]
   }
,
{
		   "cell_type": "markdown",
		   "metadata": {},
		   "source": [
			"## Example 13.33: determination_of_the_value_of_base_x.sce"
		   ]
		  },
  {
"cell_type": "code",
	   "execution_count": null,
	   "metadata": {
	    "collapsed": true
	   },
	   "outputs": [],
"source": [
"//EX13_33 Pg-18\n",
"clc\n",
"clear\n",
"printf('\n    i)\n    Detemination of value of base x \n')\n",
"printf('    (193)_x = (623)_8\n\n')\n",
"printf('    First we convert (623)_8 octal into decimal\n\n')\n",
"N=(6*8^2)+(2*8^1)+(3*8^0)\n",
"printf('          (623)_8 = (%.0f)_10\n\n',N)\n",
"printf('   Therefore (193)_x = (%.0f)_10\n\n',N)\n",
"printf('   (1*x^2)+(9*x^1)+(3*x^0) = %.0f\n\n',N)\n",
"printf('    x^2 + 9x + 3 = %.0f\n\n',N)\n",
"printf('    x^2 + 9x %.0f = 0\n\n',3-N)\n",
"a=1;\n",
"b=9;\n",
"c=-400\n",
"x1=(-b+sqrt(b^2-4*a*c))/(2*a);\n",
"x2=(-b-sqrt(b^2-4*a*c))/(2*a);\n",
"printf('Therefore x1 = %.0f\n          x2 = %.0f',x1,x2)\n",
"printf('\n   Negative is not applicable. Therefore x = %.0f',x1)\n",
"printf('\n   Hence (193)_%.0f = (623)_8\n\n',x1)\n",
"printf('\n    ii)\n    Detemination of value of base x \n')\n",
"printf('    (225)_x = (341)_8\n\n')\n",
"printf('    First we convert (341)_8 octal into decimal\n\n')\n",
"N=(3*8^2)+(4*8^1)+(1*8^0)\n",
"printf('          (341)_8 = (%.0f)_10\n\n',N)\n",
"printf('Therefore (225)_x = (%.0f)_10\n\n',N)\n",
"printf('   (2*x^2)+(2*x^1)+(2*x^0) = %.0f\n\n',N)\n",
"printf('    2x^2 + 2x +5 = %.0f\n\n',N)\n",
"printf('    2x^2 + 2x %.0f= 0\n\n',5-N)\n",
"a=2;\n",
"b=2;\n",
"c=-200\n",
"x1=(-b+sqrt(b^2-4*a*c))/(2*a);\n",
"x2=(-b-sqrt(b^2-4*a*c))/(2*a);\n",
"printf('Therefore x1 = %.0f\n          x2 = %.0f',x1,x2)\n",
"printf('\n   Negative is not applicable. Therefore x = %.0f',x1)\n",
"printf('\n   Hence (225)_%.0f = (341)_8\n\n',x1)\n",
"printf('\n    iii)\n    Detemination of value of base x \n')\n",
"printf('    (211)_x = (152)_8\n\n')\n",
"printf('    First we convert (152)_8 octal into decimal\n\n')\n",
"N=(1*8^2)+(5*8^1)+(2*8^0)\n",
"printf('          (152)_8 = (%.0f)_10\n\n',N)\n",
"printf('Therefore (211)_x = (%.0f)_10\n\n',N)\n",
"printf('   (2*x^2)+(1*x^1)+(1*x^0) = %.0f\n\n',N)\n",
"printf('    2x^2 + 1x +1 = %.0f\n\n',N)\n",
"printf('    2x^2 + 1x %.0f = 0\n\n',1-N)\n",
"a=2;\n",
"b=1;\n",
"c=-105\n",
"x1=(-b+sqrt(b^2-4*a*c))/(2*a);\n",
"x2=(-b-sqrt(b^2-4*a*c))/(2*a);\n",
"printf('Therefore x1 = %.0f\n          x2 = %.0f',x1,x2)\n",
"printf('\n   Negative is not applicable. Therefore x = %.0f',x1)\n",
"printf('\n   Hence (211)_%.0f = (152)_8\n\n',x1)"
   ]
   }
,
{
		   "cell_type": "markdown",
		   "metadata": {},
		   "source": [
			"## Example 13.34: 1s_complement_of_1101.sce"
		   ]
		  },
  {
"cell_type": "code",
	   "execution_count": null,
	   "metadata": {
	    "collapsed": true
	   },
	   "outputs": [],
"source": [
"//EX13_34 Pg-20\n",
"clc\n",
"clear\n",
"printf('  1''s complement of 1101 = ')\n",
"x=['1101'];\n",
"y=bin2dec(x)\n",
"z=dec2bin(bitcmp(y,4))\n",
"printf('00%s',z)"
   ]
   }
,
{
		   "cell_type": "markdown",
		   "metadata": {},
		   "source": [
			"## Example 13.35: 1s_complement_of_10111001.sce"
		   ]
		  },
  {
"cell_type": "code",
	   "execution_count": null,
	   "metadata": {
	    "collapsed": true
	   },
	   "outputs": [],
"source": [
"//EX13_34 Pg-20\n",
"clc\n",
"clear\n",
"printf('1''s complement of 10111001 = ')\n",
"x=['10111001'];\n",
"y=bin2dec(x)\n",
"z=dec2bin(bitcmp(y,8))\n",
"printf('0%s',z)"
   ]
   }
,
{
		   "cell_type": "markdown",
		   "metadata": {},
		   "source": [
			"## Example 13.3: 567_in_power_of_8_and_its_decimal_equivalent.sce"
		   ]
		  },
  {
"cell_type": "code",
	   "execution_count": null,
	   "metadata": {
	    "collapsed": true
	   },
	   "outputs": [],
"source": [
"//EX13_3 PG-13.3\n",
"clc\n",
"clear\n",
"disp('representation of the number 567 in power of 8')\n",
"disp('N=(5*8^2)+(6*8^1)+(7*8^0)=375')\n",
"printf(' Therefore decimal equivalent of 567 is: ')\n",
"N=(5*8^2)+(6*8^1)+(7*8^0)\n",
"printf('%.0f',N)\n",
""
   ]
   }
,
{
		   "cell_type": "markdown",
		   "metadata": {},
		   "source": [
			"## Example 13.36: 2s_complement_of_1001.sce"
		   ]
		  },
  {
"cell_type": "code",
	   "execution_count": null,
	   "metadata": {
	    "collapsed": true
	   },
	   "outputs": [],
"source": [
"//EX13_36 Pg-21\n",
"clc\n",
"clear\n",
"printf('  2''s complement 1001 is :')\n",
"x=['1001'];\n",
"y=bin2dec(x);//binary to decimal conversion//\n",
"z=bitcmp(y,4);//one's complement of the number//\n",
"z=z+1;\n",
"z2=dec2bin(z)//2's complement of the number//\n",
"printf(' 0%s',z2)"
   ]
   }
,
{
		   "cell_type": "markdown",
		   "metadata": {},
		   "source": [
			"## Example 13.37: 2s_complement_of_10100011.sce"
		   ]
		  },
  {
"cell_type": "code",
	   "execution_count": null,
	   "metadata": {
	    "collapsed": true
	   },
	   "outputs": [],
"source": [
"//EX13_37 Pg-21\n",
"clc\n",
"clear\n",
"printf('2''s complement 10100011 is : ')\n",
"x=['10100011'];\n",
"y=bin2dec(x);//binary to decimal conversion//\n",
"z=bitcmp(y,8);//one's complement of the number//\n",
"z=z+1;\n",
"z2=dec2bin(z)//2's complement of the number//\n",
"printf('0%s',z2)"
   ]
   }
,
{
		   "cell_type": "markdown",
		   "metadata": {},
		   "source": [
			"## Example 13.38: 7s_complement_of_612.sce"
		   ]
		  },
  {
"cell_type": "code",
	   "execution_count": null,
	   "metadata": {
	    "collapsed": true
	   },
	   "outputs": [],
"source": [
"//EX13_38 Pg-22\n",
"clc\n",
"clear\n",
"printf('7''s complement of(612)_8 is : ')\n",
"x=['612'];\n",
"y=oct2dec(x)\n",
"z=dec2oct(bitcmp(y,8))\n",
"printf('%s',z)"
   ]
   }
,
{
		   "cell_type": "markdown",
		   "metadata": {},
		   "source": [
			"## Example 13.39: 8s_complement_of_346.sce"
		   ]
		  },
  {
"cell_type": "code",
	   "execution_count": null,
	   "metadata": {
	    "collapsed": true
	   },
	   "outputs": [],
"source": [
"//EX13_39 Pg-21\n",
"clc\n",
"clear\n",
"printf('8''s complement (346)_8 is : ')\n",
"x=['346'];\n",
"y=oct2dec(x);//octal to decimal conversion//\n",
"z=bitcmp(y,9);//one's complement of the number//\n",
"z=z+1;\n",
"z2=dec2oct(z)//8's complement of the number//\n",
"printf('%s',z2)"
   ]
   }
,
{
		   "cell_type": "markdown",
		   "metadata": {},
		   "source": [
			"## Example 13.40: 15s_complement_of_A9B.sce"
		   ]
		  },
  {
"cell_type": "code",
	   "execution_count": null,
	   "metadata": {
	    "collapsed": true
	   },
	   "outputs": [],
"source": [
"//EX13_40 Pg-22\n",
"clc\n",
"clear\n",
"printf('15''s complement (A9B)_16 is :')\n",
"x=['A9B'];\n",
"y=hex2dec(x);//hexadecimal to decimal conversion//\n",
"z=dec2hex(bitcmp(y,11));//15's complement of the number//\n",
"printf('%s',z)"
   ]
   }
,
{
		   "cell_type": "markdown",
		   "metadata": {},
		   "source": [
			"## Example 13.41: 16s_complement_of_A8C.sce"
		   ]
		  },
  {
"cell_type": "code",
	   "execution_count": null,
	   "metadata": {
	    "collapsed": true
	   },
	   "outputs": [],
"source": [
"//EX13_41 Pg-23\n",
"clc\n",
"clear\n",
"printf('16''s complement (A8C)_16 is : ')\n",
"x=['A8C'];\n",
"y=hex2dec(x);//hexadecimal to decimal conversion//\n",
"z=bitcmp(y,12);//one's complement of the number//\n",
"z=z+1;\n",
"z2=dec2hex(z)//16's complement of the number//\n",
"printf('%s',z2)"
   ]
   }
,
{
		   "cell_type": "markdown",
		   "metadata": {},
		   "source": [
			"## Example 13.42: binary_addition.sce"
		   ]
		  },
  {
"cell_type": "code",
	   "execution_count": null,
	   "metadata": {
	    "collapsed": true
	   },
	   "outputs": [],
"source": [
"//EX13_42 Pg-23\n",
"clc\n",
"clear\n",
"x=['1010'];\n",
"y=['0011'];\n",
"//binary to decimal conversion//\n",
"x=bin2dec(x)\n",
"y=bin2dec(y)\n",
"z=x+y;\n",
"a=dec2bin(z)//decimal to binary conversion//\n",
"printf('the addition of given numbers is: ')\n",
"printf('%s',a)"
   ]
   }
,
{
		   "cell_type": "markdown",
		   "metadata": {},
		   "source": [
			"## Example 13.43: addition_of_28_and_15_in_binary.sce"
		   ]
		  },
  {
"cell_type": "code",
	   "execution_count": null,
	   "metadata": {
	    "collapsed": true
	   },
	   "outputs": [],
"source": [
"//EX13_43 Pg-23\n",
"clc\n",
"clear\n",
"x=28;\n",
"y=15;\n",
"// decimal to binary  conversion//\n",
"z=x+y;\n",
"a=dec2bin(z)\n",
"printf('the addition of given numbers in binary is: ')\n",
"printf('%s',a)\n",
"printf('\n the addition of given numbers in decimal is: ')\n",
"printf('%.0f',z)"
   ]
   }
,
{
		   "cell_type": "markdown",
		   "metadata": {},
		   "source": [
			"## Example 13.4: 3FD_in_power_of_16_and_its_decimal_equivalent.sce"
		   ]
		  },
  {
"cell_type": "code",
	   "execution_count": null,
	   "metadata": {
	    "collapsed": true
	   },
	   "outputs": [],
"source": [
"//EX13_4 PG-13.4\n",
"clc\n",
"clear\n",
"disp('Representation of the hexadecimalnumber 3FD in power of 16')\n",
"disp('N=(3*16^2)+(F*16^1)+(D*16^0)=1021')\n",
"printf(' The Decimal equivalent of the Binary number 3FD is:');\n",
"N=(3*16^2)+(15*16^1)+(13*16^0)\n",
"printf('%.0f',N)"
   ]
   }
,
{
		   "cell_type": "markdown",
		   "metadata": {},
		   "source": [
			"## Example 13.44: subtraction_of_0101_from_1011.sce"
		   ]
		  },
  {
"cell_type": "code",
	   "execution_count": null,
	   "metadata": {
	    "collapsed": true
	   },
	   "outputs": [],
"source": [
"//EX13_44 Pg-24\n",
"clc\n",
"clear\n",
"x=['1011'];\n",
"y=['0101'];\n",
"//binary to decimal conversion//\n",
"x=bin2dec(x)\n",
"y=bin2dec(y)\n",
"z=x-y;\n",
"a=dec2bin(z)//decimal to binary conversion//\n",
"printf('the subtraction of given numbers is: ')\n",
"printf('0%s',a)"
   ]
   }
,
{
		   "cell_type": "markdown",
		   "metadata": {},
		   "source": [
			"## Example 13.45: subtraction_of_101011_from_111001_using_1s_complement.sce"
		   ]
		  },
  {
"cell_type": "code",
	   "execution_count": null,
	   "metadata": {
	    "collapsed": true
	   },
	   "outputs": [],
"source": [
"//EX13_45 Pg-25\n",
"clc\n",
"clear\n",
"printf('subtraction of 101011 from 111001 using 1''s complement method')\n",
"printf('\n\n we know that 111001>101011\n\n')\n",
"printf(' Therefore 111001-101011 =')\n",
"x=['111001'];\n",
"y=['101011'];\n",
"//we should note that in the question the first binary number is 101011 and not 1001011\n",
"\n",
"//binary to decimal conversion//\n",
"x=bin2dec(x)\n",
"y=bin2dec(y) \n",
"y1=bitcmp(y,6)//one's complement of the smaller number\n",
"z=x+y1;//addition of x with the one's complent of y\n",
"//subtraction of smaller number from larger number\n",
"w=bitset(z,7,0)//the end round carry should be remove and add to z \n",
"a=w+1;\n",
"a1=dec2bin(a)//final result\n",
"printf(' 00%s',a1)"
   ]
   }
,
{
		   "cell_type": "markdown",
		   "metadata": {},
		   "source": [
			"## Example 13.46: subtraction_of_111001_from_101011_using_1s_complement.sce"
		   ]
		  },
  {
"cell_type": "code",
	   "execution_count": null,
	   "metadata": {
	    "collapsed": true
	   },
	   "outputs": [],
"source": [
"//EX13_46 Pg-25\n",
"clc\n",
"clear\n",
"printf('subtraction of 111001 from 101011 using 1''s complement method')\n",
"printf('\n\n we know that 101011<111001\n\n')\n",
"printf(' Therefore 101011-111001 = ')\n",
"x=['101011'];\n",
"y=['111001'];\n",
"//binary to decimal conversion//\n",
"x=bin2dec(x)\n",
"y=bin2dec(y)\n",
"y1=bitcmp(y,6)//one's complement of the larger number\n",
"z=x+y1;//addition of x with the one's complement of y\n",
"//subtraction of larger number from smaller number\n",
"z=bitcmp(z,6);//one's complement of the result\n",
"a=dec2bin(z)//decimal to binary conversion\n",
"printf(' -00%s',a)//final answer is -ve"
   ]
   }
,
{
		   "cell_type": "markdown",
		   "metadata": {},
		   "source": [
			"## Example 13.47: subtraction_of_101011_from_111001_using_2s_complement.sce"
		   ]
		  },
  {
"cell_type": "code",
	   "execution_count": null,
	   "metadata": {
	    "collapsed": true
	   },
	   "outputs": [],
"source": [
"//EX13_47 Pg-26\n",
"clc\n",
"clear\n",
"printf('subtraction of 101011 from 111001 using 2''s complement method')\n",
"printf('\n\n we know that 111001>101011\n\n')\n",
"printf(' Therefore 111001-101011 = ')\n",
"x=['111001'];\n",
"y=['101011'];\n",
"//binary to decimal conversion//\n",
"x=bin2dec(x)\n",
"y=bin2dec(y)\n",
"y1=bitcmp(y,6)//one's complement of the smaller  number\n",
"y2=y1+1;//2's complement of the smaller number\n",
"//subtraction of smaller number from larger number\n",
"a=x+y2;\n",
"w=bitset(a,7,0)//we discard the carry\n",
"s=dec2bin(w)\n",
"printf('00%s',s)"
   ]
   }
,
{
		   "cell_type": "markdown",
		   "metadata": {},
		   "source": [
			"## Example 13.48: subtraction_of_111001_from_101011_using_2s_complement.sce"
		   ]
		  },
  {
"cell_type": "code",
	   "execution_count": null,
	   "metadata": {
	    "collapsed": true
	   },
	   "outputs": [],
"source": [
"//EX13_48 Pg-26\n",
"clc\n",
"clear\n",
"printf('subtraction of 111001 from 101011 using 2''s complement method')\n",
"printf('\n\n we know that 101011<111001\n\n')\n",
"printf(' Therefore 101011-111001 =')\n",
"x=['101011'];\n",
"y=['111001'];\n",
"//binary to decimal conversion//\n",
"x=bin2dec(x)\n",
"y=bin2dec(y)\n",
"y1=bitcmp(y,6)//one's complement of the larger  number\n",
"y2=y1+1;//2's complement of the larger number\n",
"//subtraction of larger number from smaller number\n",
"a=x+y2;//result is in two complement\n",
"a1=bitcmp(a,6)//one's complement of the result\n",
"a2=a1+1;//final answer\n",
"s=dec2bin(a2)\n",
"printf('  -00%s',s)//final answer is -ve\n",
"\n",
"\n",
""
   ]
   }
,
{
		   "cell_type": "markdown",
		   "metadata": {},
		   "source": [
			"## Example 13.49: expression_of_the_given_decimal_nos_in_1s_and_2s_complement.sce"
		   ]
		  },
  {
"cell_type": "code",
	   "execution_count": null,
	   "metadata": {
	    "collapsed": true
	   },
	   "outputs": [],
"source": [
"//EX13_49 Pg-26\n",
"clc\n",
"clear\n",
"printf('for decimal number = -56 the binary equivalent is ')\n",
"x=56;\n",
"y=dec2bin(x)\n",
"printf('0%s',y)\n",
"z=bitcmp(x,7)//1's complement=-56\n",
"printf('\n the 1''s complement is ')\n",
"z1=dec2bin(z)\n",
"printf('%s',z1)\n",
"z=z+1;//2's complement\n",
"printf('\n the 2''s complement ')\n",
"z2=dec2bin(z)\n",
"printf('%s',z2)\n",
"printf('\n\n for decimal number = -107 the binary equivalent is ')\n",
"x=107;\n",
"y=dec2bin(x)\n",
"printf('0%s',y)\n",
"z=bitcmp(x,8)//1's complement=-56\n",
"printf('\n the 1''s complement is ')\n",
"z1=dec2bin(z)\n",
"printf('%s',z1)\n",
"z=z+1;//2's complement\n",
"printf('\n the 2''s complement ')\n",
"z2=dec2bin(z)\n",
"printf('%s',z2)"
   ]
   }
,
{
		   "cell_type": "markdown",
		   "metadata": {},
		   "source": [
			"## Example 13.50: decimal_nos_subtraction_using_2s_complement.sce"
		   ]
		  },
  {
"cell_type": "code",
	   "execution_count": null,
	   "metadata": {
	    "collapsed": true
	   },
	   "outputs": [],
"source": [
"//EX13_50 Pg-27\n",
"clc\n",
"clear\n",
"//subtraction of decimal numbers using 2's complement\n",
"//given decimal numbers\n",
"x=42;\n",
"y=68;\n",
"//conversion from\n",
"x1=dec2bin(x)\n",
"y1=dec2bin(y)\n",
"printf('The binary equivalent of 42 is :')\n",
"printf('  00%s\n',x1)\n",
"printf(' The binary equivalent of 68 is :')\n",
"printf('  0%s\n',y1)\n",
"//finding 2's complement of 68\n",
"y2=bitcmp(y,7);\n",
"y2=y2+1;\n",
"z=x+y2;\n",
"//since we have subtracted a larger number from a\n",
"// smaller we sjould take  2's complement of the result\n",
"z1=bitcmp(z,7)\n",
"z2=z1+1;\n",
"a=dec2bin(z2)\n",
"printf(' Therefore (42)_10-(68)_10 in binary is =')\n",
"//final answer\n",
"printf('  00%s = ',a)//the final result is negative\n",
"printf(' -%d',z2)"
   ]
   }
,
{
		   "cell_type": "markdown",
		   "metadata": {},
		   "source": [
			"## Example 13.51: binary_nos_subtraction_using_1s_and_2s_complement.sce"
		   ]
		  },
  {
"cell_type": "code",
	   "execution_count": null,
	   "metadata": {
	    "collapsed": true
	   },
	   "outputs": [],
"source": [
"//EX13_51 Pg-29\n",
"clc\n",
"clear\n",
"//subtraction of 10000 from 11010 using 1''s complement method\n",
"printf('  i)\n  subtraction of 10000 from 11010 using 1''s complement method ')\n",
"printf('\n  Therefore 11010-10000 =')\n",
"x=['11010'];\n",
"y=['10000'];\n",
"//binary to decimal conversion//\n",
"x=bin2dec(x)\n",
"y=bin2dec(y)\n",
"y1=bitcmp(y,5)//one's complement of the larger number\n",
"z=x+y1;//addition of x with the one's complement of y\n",
"//subtraction of smaller number from larger number\n",
"w=bitset(z,6,0)//the end round carry should be remove and add to z \n",
"a=w+1;\n",
"a1=dec2bin(a)//final result\n",
"printf('   %s',a1)\n",
"x=['1000100'];\n",
"y=['1010100'];\n",
"//subtraction of 1000100 from 1010100 using 1''s complement method\n",
"printf('\n\n  Subtraction of 1010100 from 1000100 using 1''s complement method ')\n",
"printf('\n  Therefore 1000100-1010100 =')\n",
"//binary to decimal conversion//\n",
"x=bin2dec(x)\n",
"y=bin2dec(y)\n",
"y1=bitcmp(y,6)//one's complement of the larger number\n",
"z=x+y1;//addition of x with the one's complement of y\n",
"//subtraction of larger number from smaller number\n",
"z=bitcmp(z,6);//one's complement of the result\n",
"a=dec2bin(z)//decimal to binary conversion\n",
"printf('  -%s\n',a)//the final result is negative\n",
"//subtraction of 10000 from 11010 using 2''s complement method\n",
"printf('\n\n  ii)\n  Subtraction of 10000 from 11010 using 2''s complement method')\n",
"printf('\n  Therefore 11010-10000 =')\n",
"x=['11010'];\n",
"y=['10000'];\n",
"//binary to decimal conversion//\n",
"x=bin2dec(x)\n",
"y=bin2dec(y)\n",
"y1=bitcmp(y,6)//one's complement of the smaller  number\n",
"y2=y1+1;//2's complement of the smaller number\n",
"//subtraction of smaller number from larger number\n",
"a=x+y2;\n",
"w=bitset(a,7,0)//we discard the carry\n",
"s=dec2bin(w)\n",
"printf('   %s',s)\n",
"//subtraction of 1000100 from 1010100 using 2''s complement method\n",
"printf('\n\n  Subtraction of 1010100 from 1000100 using 2''s complement method ')\n",
"printf('\n  Therefore 1000100-1010100 =')\n",
"x=['1000100'];\n",
"y=['1010100'];\n",
"//binary to decimal conversion//\n",
"x=bin2dec(x)\n",
"y=bin2dec(y)\n",
"y1=bitcmp(y,6)//one's complement of the larger  number\n",
"y2=y1+1;//2's complement of the larger number\n",
"//subtraction of larger number from smaller number\n",
"a=x+y2;//result is in two complement\n",
"a1=bitcmp(a,6)//one's complement of the result\n",
"a2=a1+1;//final answer\n",
"s=dec2bin(a2)\n",
"printf('  -%s',s)//the final result is negative"
   ]
   }
,
{
		   "cell_type": "markdown",
		   "metadata": {},
		   "source": [
			"## Example 13.52: addition_of_octal_nos.sce"
		   ]
		  },
  {
"cell_type": "code",
	   "execution_count": null,
	   "metadata": {
	    "collapsed": true
	   },
	   "outputs": [],
"source": [
"//EX13_52 Pg-30\n",
"clc\n",
"clear\n",
"printf('Addition of two numbers with octal base')\n",
"printf('\n\n    4_8+2_8 = ')\n",
"x=['4'];\n",
"y=['2'];\n",
"//octal to decimal conversion\n",
"x1=oct2dec(x)\n",
"y1=oct2dec(y)\n",
"z=x1+y1;//addition\n",
"a=dec2oct(z)//final result\n",
"printf('%s\n',a)\n",
"printf('\n\n    6_8+7_8 = ')\n",
"x=['6'];\n",
"y=['7'];\n",
"//octal to decimal conversion\n",
"x1=oct2dec(x)\n",
"y1=oct2dec(y)\n",
"z=x1+y1;//addition\n",
"//we should note that the decimal sum is greater than 8 \n",
"//hence we should subtract the decimal sum by 8 to obtain the octal result\n",
"a=z-8;\n",
"a=dec2oct(a)\n",
"printf('%s\n',a)\n",
"printf('\n\n    1_8+7_8 = ')\n",
"x=['1'];\n",
"y=['7'];\n",
"//octal to decimal conversion\n",
"x1=oct2dec(x)\n",
"y1=oct2dec(y)\n",
"z=x1+y1;//addition\n",
"//we should note that the decimal sum is greater than 8 \n",
"//hence we should subtract the decimal sum by 8 to obtain the octal result\n",
"a=z-8;\n",
"a=dec2oct(a)\n",
"printf('%s\n',a)"
   ]
   }
,
{
		   "cell_type": "markdown",
		   "metadata": {},
		   "source": [
			"## Example 13.53: octal_nos_addition.sce"
		   ]
		  },
  {
"cell_type": "code",
	   "execution_count": null,
	   "metadata": {
	    "collapsed": true
	   },
	   "outputs": [],
"source": [
"//EX13_53 Pg-31\n",
"clc\n",
"clear\n",
"printf('Addition of two octal numbers ')\n",
"printf('\n\n    167_8+325_8 = ')\n",
"x=['167'];\n",
"y=['325'];\n",
"//octal to decimal conversion\n",
"x1=oct2dec(x)\n",
"y1=oct2dec(y)\n",
"z=x1+y1;//addition\n",
"a=dec2oct(z)//final result\n",
"printf('%s\n',a)"
   ]
   }
,
{
		   "cell_type": "markdown",
		   "metadata": {},
		   "source": [
			"## Example 13.54: octal_nos_addition.sce"
		   ]
		  },
  {
"cell_type": "code",
	   "execution_count": null,
	   "metadata": {
	    "collapsed": true
	   },
	   "outputs": [],
"source": [
"//EX13_54 Pg-31\n",
"clc\n",
"clear\n",
"printf('Addition of four octal numbers ')\n",
"printf('\n\n    (341)_8+(125)_8+(472)_8+(577)_8 = ')\n",
"x=['341'];\n",
"y=['125'];\n",
"u=['472']\n",
"v=['577']\n",
"//octal to decimal conversion\n",
"x1=oct2dec(x)\n",
"y1=oct2dec(y)\n",
"u1=oct2dec(u)\n",
"v1=oct2dec(v)\n",
"z=x1+y1+u1+v1;//addition\n",
"a=dec2oct(z)//final result\n",
"printf('%s\n',a)"
   ]
   }
,
{
		   "cell_type": "markdown",
		   "metadata": {},
		   "source": [
			"## Example 13.55: 7s_complement_of_612.sce"
		   ]
		  },
  {
"cell_type": "code",
	   "execution_count": null,
	   "metadata": {
	    "collapsed": true
	   },
	   "outputs": [],
"source": [
"//EX13_55 Pg-31\n",
"clc\n",
"clear\n",
"printf('7''s complement of (612)_8 = ')\n",
"x=['612']\n",
"y=oct2dec(x)\n",
"z=bitcmp(y,8)\n",
"a=dec2oct(z)\n",
"printf('%s\n',a)"
   ]
   }
,
{
		   "cell_type": "markdown",
		   "metadata": {},
		   "source": [
			"## Example 13.56: subtract_157_from_176_using_7s_complement.sce"
		   ]
		  },
  {
"cell_type": "code",
	   "execution_count": null,
	   "metadata": {
	    "collapsed": true
	   },
	   "outputs": [],
"source": [
"//EX13_56 Pg-32\n",
"clc\n",
"clear\n",
"printf('subtraction of two octal numbers using 7''s complement')\n",
"printf('\n (176)_8>(157)_8')\n",
"printf('\n\n Therefore    (176)_8-(157)_8 = ')\n",
"x=['176']\n",
"y=['157']\n",
"//octal to decimal conversion//\n",
"x=oct2dec(x)\n",
"y=oct2dec(y)\n",
"y1=bitcmp(y,9)//7's complement of the smaller  number\n",
"z=x+y1;//subtraction of smaller number from larger number\n",
"//if there's any carry we should discard the carry \n",
"//and add the carry to the result\n",
"z=bitset(z,10,0)\n",
"z1=z+1; \n",
"a=dec2oct(z1)\n",
"printf('0%s\n',a)"
   ]
   }
,
{
		   "cell_type": "markdown",
		   "metadata": {},
		   "source": [
			"## Example 13.57: subtract_243_from_153_using_7s_complement.sce"
		   ]
		  },
  {
"cell_type": "code",
	   "execution_count": null,
	   "metadata": {
	    "collapsed": true
	   },
	   "outputs": [],
"source": [
"//EX13_57 Pg-32\n",
"clc\n",
"clear\n",
"printf('subtraction of two octal numbers using 7''s complement')\n",
"printf('\n  (153)_8<(243)_8')\n",
"printf('\n\n Therefore (153)_8-(243)_8 =')\n",
"x=['153']\n",
"y=['243']\n",
"//octal to decimal conversion//\n",
"x=oct2dec(x)\n",
"y=oct2dec(y)\n",
"y1=bitcmp(y,9)//7's complement of the larger  number\n",
"z=x+y1;\n",
"//in the subtraction of larger number from smaller number\n",
"//no carry is present so we should take 7's complement of the result\n",
"z1=bitcmp(z,8)\n",
"a=dec2oct(z1)\n",
"printf('  -%s',a)//the final result is negative"
   ]
   }
,
{
		   "cell_type": "markdown",
		   "metadata": {},
		   "source": [
			"## Example 13.58: 8s_complement_of_346.sce"
		   ]
		  },
  {
"cell_type": "code",
	   "execution_count": null,
	   "metadata": {
	    "collapsed": true
	   },
	   "outputs": [],
"source": [
"//EX13_58 Pg-33\n",
"clc\n",
"clear\n",
"printf('8''s complement (346)_8 is : ')\n",
"x=['346'];\n",
"y=oct2dec(x);//octal to decimal conversion//\n",
"z=bitcmp(y,9);//one's complement of the number//\n",
"z=z+1;\n",
"z2=dec2oct(z)//8's complement of the number//\n",
"printf('%s\n',z2)"
   ]
   }
,
{
		   "cell_type": "markdown",
		   "metadata": {},
		   "source": [
			"## Example 13.59: subtract_413_from_516_using_8s_complement.sce"
		   ]
		  },
  {
"cell_type": "code",
	   "execution_count": null,
	   "metadata": {
	    "collapsed": true
	   },
	   "outputs": [],
"source": [
"//EX13_59 Pg-33\n",
"clc\n",
"clear\n",
"printf('subtraction of two octal numbers using 8''s complement')\n",
"printf('\n (516)_8>(413)_8')\n",
"printf('\n\n (516)_8-(413)_8 =')\n",
"x=['516']\n",
"y=['413']\n",
"//octal to decimal conversion//\n",
"x=oct2dec(x)\n",
"y=oct2dec(y)\n",
"y1=bitcmp(y,8)//7's complement of the smaller  number\n",
"y2=y1+1;//8's complement of the smaller number\n",
"//subtraction of smaller number from larger number\n",
"a=x+y2;\n",
"w=bitset(a,10,0)//we discard the carry\n",
"s=dec2oct(w)\n",
"printf(' %s\n',s)"
   ]
   }
,
{
		   "cell_type": "markdown",
		   "metadata": {},
		   "source": [
			"## Example 13.5: decimal_equivalent_of_231point23_with_base_4.sce"
		   ]
		  },
  {
"cell_type": "code",
	   "execution_count": null,
	   "metadata": {
	    "collapsed": true
	   },
	   "outputs": [],
"source": [
"//EX13_5 PG-13.5\n",
"clc\n",
"clear\n",
"printf('The Decimal equivalent of the number 231.23 with base 4 is: ');\n",
"x=(2*4^2)+(3*4^1)+(1*4^0)+(2*4^(-1))+(3*4^(-2))\n",
"printf('%.4f',x)"
   ]
   }
,
{
		   "cell_type": "markdown",
		   "metadata": {},
		   "source": [
			"## Example 13.60: subtract_451_from_316_using_8s_complement.sce"
		   ]
		  },
  {
"cell_type": "code",
	   "execution_count": null,
	   "metadata": {
	    "collapsed": true
	   },
	   "outputs": [],
"source": [
"//EX13_60 Pg-34\n",
"clc\n",
"clear\n",
"printf('subtraction of two octal numbers using 8''s complement')\n",
"printf('\n (316)_8<(451)_8')\n",
"printf('\n\n (316)_8-(451)_8 =')\n",
"x=['316']\n",
"y=['451']\n",
"//octal to decimal conversion//\n",
"x=oct2dec(x)\n",
"y=oct2dec(y)\n",
"y1=bitcmp(y,8)//7's complement of the larger  number\n",
"y2=y1+1;//8's complement of the larger number\n",
"//subtraction of larger number from smaller number\n",
"a=x+y2;//the result obtained will have no carry since \n",
"//the second number is larger than the first number\n",
"//hence we should take 8's complement of the result\n",
"a1=bitcmp(a,8)//8's complement of the result\n",
"a2=a1+1;//final answer\n",
"s=dec2oct(a2)\n",
"printf('  -%s',s)//the final result is negative"
   ]
   }
,
{
		   "cell_type": "markdown",
		   "metadata": {},
		   "source": [
			"## Example 13.61: hexadecimal_additio.sce"
		   ]
		  },
  {
"cell_type": "code",
	   "execution_count": null,
	   "metadata": {
	    "collapsed": true
	   },
	   "outputs": [],
"source": [
"//EX13_61 Pg-34\n",
"clc\n",
"clear\n",
"printf('Addition of two numbers with hexadecimal base')\n",
"printf('\n\n    3_16+9_16 =')\n",
"x=['3'];\n",
"y=['9'];\n",
"//octal to decimal conversion\n",
"x1=hex2dec(x)\n",
"y1=hex2dec(y)\n",
"z=x1+y1;//addition\n",
"a=dec2hex(z)//final result\n",
"printf(' %s\n',a)\n",
"printf('\n    9_16+7_16 =')\n",
"x=['9'];\n",
"y=['7'];\n",
"//octal to decimal conversion\n",
"x1=hex2dec(x)\n",
"y1=hex2dec(y)\n",
"z=x1+y1;//addition\n",
"//we should note that the decimal sum is greater than 16 \n",
"//hence we should subtract the decimal sum by 16 to obtain the hexadecimal result\n",
"a=z-16;\n",
"a=dec2hex(a)\n",
"printf(' %s ',a)\n",
"printf('with carry of 1')\n",
"printf('\n\n    A_16+8_16 =')\n",
"x=['A'];\n",
"y=['8'];\n",
"//octal to decimal conversion\n",
"x1=hex2dec(x)\n",
"y1=hex2dec(y)\n",
"z=x1+y1;//addition\n",
"//we should note that the decimal sum is greater than 16\n",
"//hence we should subtract the decimal sum by 16 to obtain the hexadecimal result\n",
"a=z-16;\n",
"a=dec2hex(a)\n",
"printf(' %s ',a)\n",
"printf('with carry of 1')"
   ]
   }
,
{
		   "cell_type": "markdown",
		   "metadata": {},
		   "source": [
			"## Example 13.62: hexadecimal_additio.sce"
		   ]
		  },
  {
"cell_type": "code",
	   "execution_count": null,
	   "metadata": {
	    "collapsed": true
	   },
	   "outputs": [],
"source": [
"//EX13_62 Pg-35\n",
"clc\n",
"clear\n",
"printf('Addition of two hexadecimal numbers ')\n",
"printf('\n\n    (3F8)_16+(5B3)_16 =')\n",
"x=['3F8'];\n",
"y=['5B3'];\n",
"//octal to decimal conversion\n",
"x1=hex2dec(x)\n",
"y1=hex2dec(y)\n",
"z=x1+y1;//addition\n",
"a=dec2hex(z)//final result\n",
"printf(' %s\n',a)"
   ]
   }
,
{
		   "cell_type": "markdown",
		   "metadata": {},
		   "source": [
			"## Example 13.63: hexadecimal_additio.sce"
		   ]
		  },
  {
"cell_type": "code",
	   "execution_count": null,
	   "metadata": {
	    "collapsed": true
	   },
	   "outputs": [],
"source": [
"//EX13_63 Pg-35\n",
"clc\n",
"clear\n",
"printf('   Addition of four hexadecimal numbers')\n",
"printf('\n    Therefore (4FB)_16+(75D)_16+(A12)_16+(C39)_16 = ')\n",
"x=['4FB']\n",
"y=['75D']\n",
"u=['A12']\n",
"v=['C39']\n",
"x1=hex2dec(x)\n",
"y1=hex2dec(y)\n",
"u1=hex2dec(u)\n",
"v1=hex2dec(v)\n",
"z=x1+y1+u1+v1\n",
"a=dec2hex(z)\n",
"printf('%s',a)"
   ]
   }
,
{
		   "cell_type": "markdown",
		   "metadata": {},
		   "source": [
			"## Example 13.64: 15s_complement_of_A9B.sce"
		   ]
		  },
  {
"cell_type": "code",
	   "execution_count": null,
	   "metadata": {
	    "collapsed": true
	   },
	   "outputs": [],
"source": [
"//EX13_64 Pg-35\n",
"clc\n",
"clear\n",
"printf(' 15''s complement of (A9B)_16 =')\n",
"x=['A9B']\n",
"y=hex2dec(x)\n",
"z=bitcmp(y,11)\n",
"a=dec2hex(z)\n",
"printf(' %s\n',a)"
   ]
   }
,
{
		   "cell_type": "markdown",
		   "metadata": {},
		   "source": [
			"## Example 13.65: subtraction_of_98F_from_B02_using_15s_complement.sce"
		   ]
		  },
  {
"cell_type": "code",
	   "execution_count": null,
	   "metadata": {
	    "collapsed": true
	   },
	   "outputs": [],
"source": [
"//EX13_65 Pg-36\n",
"clc\n",
"clear\n",
"printf('subtraction of two hexadecimal numbers using 15''s complement')\n",
"printf('\n      (B02)_16>(98F)_16')\n",
"printf('\n\n    (B02)_16-(98F)_16 =')\n",
"x=['B02']\n",
"y=['98F']\n",
"//hexadecimal to decimal conversion\n",
"x=hex2dec(x)\n",
"y=hex2dec(y)\n",
"y1=bitcmp(y,12)//15's complement of the smaller  number\n",
"z=x+y1;//subtraction of smaller number from larger number\n",
"//if there's any carry we should discard the carry \n",
"//and add the carry to the result\n",
"z=bitset(z,13,0)\n",
"z1=z+1; \n",
"a=dec2hex(z1)\n",
"printf(' %s\n',a)"
   ]
   }
,
{
		   "cell_type": "markdown",
		   "metadata": {},
		   "source": [
			"## Example 13.66: subtraction_of_C14_from_69B_using_15s_complement.sce"
		   ]
		  },
  {
"cell_type": "code",
	   "execution_count": null,
	   "metadata": {
	    "collapsed": true
	   },
	   "outputs": [],
"source": [
"//EX13_66 Pg-36\n",
"clc\n",
"clear\n",
"printf('subtraction of two hexadecimal numbers using 15''s complement')\n",
"printf('\n    (69B)_16<(C14)_16')\n",
"printf('\n\n    (69B)_16-(C14)_16 =')\n",
"x=['69B']\n",
"y=['C14']\n",
"//hexadecimal to decimal conversion\n",
"x=hex2dec(x)\n",
"y=hex2dec(y)\n",
"y1=bitcmp(y,10)//15's complement of the larger  number\n",
"z=x+y1;\n",
"// in subtraction of larger number from smaller number\n",
"//no carry is present so we should take 15's complement of the result\n",
"z1=bitcmp(z,12)\n",
"a=dec2hex(z1)\n",
"printf('  -%s',a)//the final result is negative"
   ]
   }
,
{
		   "cell_type": "markdown",
		   "metadata": {},
		   "source": [
			"## Example 13.67: 16s_complement_of_A8C.sce"
		   ]
		  },
  {
"cell_type": "code",
	   "execution_count": null,
	   "metadata": {
	    "collapsed": true
	   },
	   "outputs": [],
"source": [
"//EX13_67 Pg-37\n",
"clc\n",
"clear\n",
"printf(' 16''s complement of (A8C)_16 =')\n",
"x=['A8C']\n",
"y=hex2dec(x)\n",
"z=bitcmp(y,11)\n",
"z1=z+1\n",
"a=dec2hex(z1)\n",
"printf(' %s\n',a)"
   ]
   }
,
{
		   "cell_type": "markdown",
		   "metadata": {},
		   "source": [
			"## Example 13.68: subtraction_of_972_from_CB2_using_16s_complement.sce"
		   ]
		  },
  {
"cell_type": "code",
	   "execution_count": null,
	   "metadata": {
	    "collapsed": true
	   },
	   "outputs": [],
"source": [
"//EX13_68 Pg-37\n",
"clc\n",
"clear\n",
"printf(' Subtraction of two hexadecimal numbers using 16''s complement')\n",
"printf('\n (CB2)_16>(972)_16')\n",
"printf('\n  Therefore (CB2)_16-(972)_16 =')\n",
"x=['CB2']\n",
"y=['972']\n",
"//hexadecimal to decimal conversion\n",
"x=hex2dec(x)\n",
"y=hex2dec(y)\n",
"y1=bitcmp(y,12)//15's complement of the smaller number\n",
"y2=y1+1;//16's complement of the smaller number\n",
"//subtraction of smaller number from larger number\n",
"a=x+y2;\n",
"w=bitset(a,13,0)//we discard the carry\n",
"s=dec2hex(w)\n",
"printf(' %s\n',s)"
   ]
   }
,
{
		   "cell_type": "markdown",
		   "metadata": {},
		   "source": [
			"## Example 13.69: subtraction_of_854_from_3B7_using_16s_complement.sce"
		   ]
		  },
  {
"cell_type": "code",
	   "execution_count": null,
	   "metadata": {
	    "collapsed": true
	   },
	   "outputs": [],
"source": [
"//EX13_68 Pg-37\n",
"clc\n",
"clear\n",
"printf(' Subtraction of two hexadecimal numbers using 16''s complement')\n",
"printf('\n (3B7)<16-(854)_16')\n",
"printf('\n  Therefore (3B7)_16-(854)_16 =')\n",
"x=['3B7']\n",
"y=['854']\n",
"//hexadecimal to decimal conversion\n",
"x=hex2dec(x)\n",
"y=hex2dec(y)\n",
"y1=bitcmp(y,12)//15's complement of the larger  number\n",
"y2=y1+1;//16's complement of the larger number\n",
"//subtraction of larger number from smaller number\n",
"a=x+y2;//the result obtained will have no carry since \n",
"//the second number is larger than the first number\n",
"//hence we should take 16's complement of the result\n",
"a1=bitcmp(a,12)//16's complement of the result\n",
"a2=a1+1;//final answer\n",
"s=dec2hex(a2)\n",
"printf(' -%s',s)"
   ]
   }
,
{
		   "cell_type": "markdown",
		   "metadata": {},
		   "source": [
			"## Example 13.6: counting_from_0_to_9_in_radix_5.sce"
		   ]
		  },
  {
"cell_type": "code",
	   "execution_count": null,
	   "metadata": {
	    "collapsed": true
	   },
	   "outputs": [],
"source": [
"//EX13_6 PG-13.5\n",
"clc\n",
"clear\n",
"disp('decimal from 0 to 9 in radix 5 ')\n",
"for i=0:1:9;\n",
" a=i/5;\n",
" b=modulo(i,5);\n",
" printf('     %d=%d%d\n',i,a,b);//conversion from decimal to radix 5\n",
" end"
   ]
   }
,
{
		   "cell_type": "markdown",
		   "metadata": {},
		   "source": [
			"## Example 13.70: decimal_addition_in_8421BCD.sce"
		   ]
		  },
  {
"cell_type": "code",
	   "execution_count": null,
	   "metadata": {
	    "collapsed": true
	   },
	   "outputs": [],
"source": [
"//EX13_70 Pg-13.41\n",
"clc\n",
"clear\n",
"printf('Decimal addition in 8-4-2-1 BCD ')\n",
"printf('\n\n   24+18 = 42 =')\n",
"//given decimal number\n",
"x=24;\n",
"y=18;\n",
"//we separate each of the digit in the decimal number\n",
"x1=2;   x2=4;\n",
"y1=1;   y2=8;\n",
"//then we add each of the digit together \n",
"//ie x1+y1 and x2+y2\n",
"z1=x1+y1;    z2=x2+y2;\n",
"a=9;               //since 9_(decimal)=1001_(binary)\n",
"if (z1>a) \n",
"  z1=z1+6;          //since 6_(decimal)=0110_(binary)\n",
"end\n",
"if (z2>a) then\n",
"   z2=z2+6;\n",
"//if any carry is present in z2 \n",
"//we should add the carry with z1    \n",
"m=bitget(z2,5)\n",
"if (m==1) then\n",
"z1=z1+m \n",
"z2=bitset(z2,5,0)  \n",
"end \n",
"end\n",
"z1=dec2bin(z1)\n",
"z2=dec2bin(z2)\n",
"printf(' 0%s 00%s',z1,z2)\n",
"printf('\n\n   48+58 = 106 =')\n",
"//given decimal number\n",
"x=48;\n",
"y=58;\n",
"//we separate each of the digit in the decimal number\n",
"x1=4;   x2=8;   \n",
"y1=5;   y2=8;   \n",
"//then we add each of the digit together \n",
"//ie x1+y1 and x2+y2  \n",
"z3=0;   z1=x1+y1;    z2=x2+y2;    \n",
"//if there is any carry is present in z2\n",
"// during addition then it is added to z1\n",
"m=bitget(z2,5)\n",
"if (m==1) then\n",
"z1=z1+m; \n",
"//if z2 is greater than 9(=1001 in binary )\n",
"//then we should add 6(=0110 in binary )\n",
"if (z2>9) then        \n",
"z2=bitset(z2,5,0)\n",
"z2=z2+6;   \n",
"end\n",
"end \n",
"//agian if z1 is greater than 9(=1001 in binary ) then 6(=0110 inbinary) is added\n",
"if (z1>9) then        \n",
"z1=z1+6;\n",
"// if any carry is present is present in z1 then we should add the carry with z3\n",
"m=bitget(z1,5)\n",
"if (m==1) then\n",
"z3=z3+m\n",
"z1=bitset(z1,5,0)   \n",
"end  \n",
"end\n",
"//conversion into binary\n",
"z4=dec2bin(z3)\n",
"z5=dec2bin(z1)\n",
"z6=dec2bin(z2)\n",
"printf(' 000%s 000%s 0%s',z4,z5,z6)\n",
"printf('\n\n   175+326 = 501 =')\n",
"//given decimal number\n",
"x=175;\n",
"y=326;\n",
"//we separate each of the digit in the decimal number\n",
"x1=1;   x2=7;   x3=5;\n",
"y1=3;   y2=2;   y3=6\n",
"//then we add each of the digit together \n",
"//ie x1+y1 and x2+y2  x3+y3\n",
"z1=x1+y1;    z2=x2+y2;   z3=x3+y3;\n",
"//if z1,z2,z3>9(=1001 in binary ) then 6(=0110 inbinary) is added\n",
"if (z1>9) then\n",
"z1=z1+6;\n",
"end\n",
"if (z2>9) then\n",
"z2=z2+6;\n",
"end\n",
"if (z3>9) then\n",
"z3=z3+6;\n",
"end\n",
"//if there is any carry is present in z3 during addition then it is added \n",
"//to z2 and in turn is there is any carry in z2 it is added to z1\n",
"m=bitget(z3,5)\n",
"if (m==1) then\n",
"z2=z2+m \n",
"if (z3>9) then\n",
"z3=bitset(z3,5,0)  \n",
"end\n",
"end \n",
"//if z2  is greater than 9 then we add 6 to z2\n",
"if (z2>9) then\n",
"z2=z2+6;\n",
"end\n",
"//if there is any carry present in z2 during addition then it is added to z1 \n",
"m=bitget(z2,5)\n",
"if (m==1) then\n",
"z1=z1+m \n",
"if (z2>9) then\n",
"z2=bitset(z2,5,0)  \n",
"end\n",
"end \n",
"//conversion into binary\n",
"z4=dec2bin(z1)\n",
"z5=dec2bin(z2)\n",
"z6=dec2bin(z3)\n",
"printf('   0%s 000%s 000%s',z4,z5,z6)\n",
"printf('\n\n   589+199 = 788 =')\n",
"//given decimal number\n",
"x=589;\n",
"y=199;\n",
"//we separate each of the digit in the decimal number\n",
"x1=5;   x2=8;   x3=9;\n",
"y1=1;   y2=9;   y3=9;\n",
"//then we add each of the digit together \n",
"//ie x1+y1 and x2+y2  x3+y3\n",
"z1=x1+y1;    z2=x2+y2;   z3=x3+y3;\n",
"//if there is any carry is present in z3 during addition then it is added \n",
"//to z2 and in turn is there is any carry in z2 it is added to z1\n",
"//for z2\n",
"m=bitget(z2,5)\n",
"if (m==1) then\n",
"z1=z1+m \n",
"//if z2 is greater than 9(=1001 in binary )\n",
"//then we should add 6(=0110 in binary )\n",
"if (z2>9) then        \n",
"z2=bitset(z2,5,0)\n",
"z2=z2+6;  \n",
"end\n",
"end \n",
"//for z3\n",
"m=bitget(z3,5)\n",
"if (m==1) then\n",
"z2=z2+m \n",
"//if z3 is greater than 9(=1001 in binary )\n",
"//then we should add 6(=0110 in binary )\n",
"if (z3>9) then\n",
"z3=bitset(z3,5,0)  \n",
"z3=z3+6;\n",
"end\n",
"end \n",
"//conversion into binary\n",
"z4=dec2bin(z1)\n",
"z5=dec2bin(z2)\n",
"z6=dec2bin(z3)\n",
"printf(' 0%s %s %s',z4,z5,z6)"
   ]
   }
,
{
		   "cell_type": "markdown",
		   "metadata": {},
		   "source": [
			"## Example 13.7: 111101100_with_base_2_to_octal_equivalent.sce"
		   ]
		  },
  {
"cell_type": "code",
	   "execution_count": null,
	   "metadata": {
	    "collapsed": true
	   },
	   "outputs": [],
"source": [
"//EX13_7 PG-13.7\n",
"clc\n",
"clear\n",
"printf('Conversion of binary no 111101100 to octal equivalent is :')\n",
"a=['111101100'];\n",
"x=bin2dec(a);\n",
"y=dec2oct(x);\n",
"printf('%s',y)"
   ]
   }
,
{
		   "cell_type": "markdown",
		   "metadata": {},
		   "source": [
			"## Example 13.71: decimal_subtraction_in_8421BCD_using_9s_complement_method.sce"
		   ]
		  },
  {
"cell_type": "code",
	   "execution_count": null,
	   "metadata": {
	    "collapsed": true
	   },
	   "outputs": [],
"source": [
"//EX13_71 Pg-13.43\n",
"clc\n",
"clear\n",
"printf(' Decimal subtraction in 8-4-2-1 BCD using 9''s complement method')\n",
"printf('\n\n   79-26 = 53 =')\n",
"//given decimal number\n",
"x=79;\n",
"y=26;\n",
"//we separate each of the digit in the decimal number\n",
"x1=7;   x2=9;\n",
"y1=2;   y2=6;\n",
"//first we take 9's complement of the second number\n",
"// ie 2 and 6\n",
"y1=9-y1        //9's complement of y1\n",
"y2=9-y2        //9's complement of y2 \n",
"//then we add each of the digit of the number together\n",
"//ie x1+y1 and x2+y2\n",
"z1=x1+y1;    z2=x2+y2;\n",
"//if z2>9(=1001 in binary) then we should add \n",
"//6(=0110 in binary) to z2 and add the carry to z1\n",
"if (z2>9) then\n",
"   z2=z2+6;\n",
"   m=bitget(z2,5)\n",
"if (m==1) then\n",
"z1=z1+m \n",
"z2=bitset(z2,5,0)\n",
"end \n",
"end\n",
"//again if z1>9(=1001 in binary) then we should add the \n",
"//6(=0110 in binary) to z1 and add the carry to z2\n",
"if (z1>9) then\n",
"   z1=z1+6;\n",
"   m=bitget(z1,5)\n",
"if (m==1) then\n",
"z2=z2+m \n",
"z1=bitset(z1,5,0)\n",
"end \n",
"end\n",
"//decimal to binary conversion\n",
"z3=dec2bin(z1)\n",
"z4=dec2bin(z2)\n",
"printf(' 0%s 00%s ',z3,z4)\n",
"printf('\n\n   89-54 = 35 =')\n",
"//given decimal number\n",
"x=89;\n",
"y=54;\n",
"//we separate each of the digit in the decimal number\n",
"x1=8;   x2=9;\n",
"y1=5;   y2=4;\n",
"//first we take 9's complement of the second number\n",
"// ie 2 and 6\n",
"y1=9-y1        //9's complement of y1\n",
"y2=9-y2        //9's complement of y2 \n",
"//then we add each of the digit of the number together\n",
"//ie x1+y1 and x2+y2\n",
"z1=x1+y1;    z2=x2+y2;\n",
"//if z2>9(=1001 in binary) then we should add \n",
"//6(=0110 in binary) to z2 and add the carry to z1\n",
"if (z2>9) then\n",
"   z2=z2+6;\n",
"   m=bitget(z2,5)\n",
"if (m==1) then\n",
"z1=z1+m \n",
"z2=bitset(z2,5,0)\n",
"end \n",
"end\n",
"//again if z1>9(=1001 in binary) then we should add the \n",
"//6(=0110 in binary) to z1 and add the carry to z2\n",
"if (z1>9) then\n",
"   z1=z1+6;\n",
"   m=bitget(z1,5)\n",
"if (m==1) then\n",
"z2=z2+m \n",
"z1=bitset(z1,5,0)\n",
"end \n",
"end\n",
"//decimal to binary conversion\n",
"z3=dec2bin(z1)\n",
"z4=dec2bin(z2)\n",
"printf(' 00%s 0%s ',z3,z4)\n",
" "
   ]
   }
,
{
		   "cell_type": "markdown",
		   "metadata": {},
		   "source": [
			"## Example 13.8: 634_with_base_8_to_binary_equivalent.sce"
		   ]
		  },
  {
"cell_type": "code",
	   "execution_count": null,
	   "metadata": {
	    "collapsed": true
	   },
	   "outputs": [],
"source": [
"//EX13_8 PG-13.7\n",
"clc\n",
"clear\n",
"printf('conversion of octal no 634 to binary equivalent is :')\n",
"a=['634']\n",
"x=oct2dec(a)//first we convert to decimal\n",
"y=dec2bin(x)\n",
"printf('%s',y)"
   ]
   }
,
{
		   "cell_type": "markdown",
		   "metadata": {},
		   "source": [
			"## Example 13.9: 725point63_with_base_8_to_binary_equivalent.sce"
		   ]
		  },
  {
"cell_type": "code",
	   "execution_count": null,
	   "metadata": {
	    "collapsed": true
	   },
	   "outputs": [],
"source": [
"//EX13_9 PG-13.7\n",
"clc\n",
"clear\n",
"disp('conversion of octal no 725.63 to binary equivalent')\n",
"a=725.63;\n",
"//first we convert the number 725.63(octal)to decimal\n",
"x=(7*8^2)+(2*8^1)+(5*8^0)+(6*8^(-1))+(3*8^(-2));\n",
"//then we convert the decimal to binary\n",
"z=modulo(x,1)\n",
"x=floor(x);//separating the decimal from the integer part\n",
"b=0;\n",
"c=0;\n",
"d=0;\n",
"while(x>0)  //taking integer part into a matrix and convert to equivalent binary\n",
"y=modulo(x,2);\n",
"b=b+(10^c)*y;\n",
"x=x/2;\n",
"x=floor(x);\n",
"c=c+1; \n",
"end\n",
"for i=1:10;//converting the values after the decimal point into binary\n",
"    z=z*2;\n",
"    q=floor(z);\n",
"    d=d+q/(10^i);\n",
"    if z>=1 then\n",
"        z=z-1;\n",
"    end\n",
"end\n",
"s=b+d;\n",
"printf('\n The binary equivalent of the given octal number 725.63 is =%.6f',s);"
   ]
   }
],
"metadata": {
		  "kernelspec": {
		   "display_name": "Scilab",
		   "language": "scilab",
		   "name": "scilab"
		  },
		  "language_info": {
		   "file_extension": ".sce",
		   "help_links": [
			{
			 "text": "MetaKernel Magics",
			 "url": "https://github.com/calysto/metakernel/blob/master/metakernel/magics/README.md"
			}
		   ],
		   "mimetype": "text/x-octave",
		   "name": "scilab",
		   "version": "0.7.1"
		  }
		 },
		 "nbformat": 4,
		 "nbformat_minor": 0
}
