{
"cells": [
 {
		   "cell_type": "markdown",
	   "metadata": {},
	   "source": [
       "# Chapter 38: Magnetic materials"
	   ]
	},
{
		   "cell_type": "markdown",
		   "metadata": {},
		   "source": [
			"## Example 38.01: Example_1.sce"
		   ]
		  },
  {
"cell_type": "code",
	   "execution_count": null,
	   "metadata": {
	    "collapsed": true
	   },
	   "outputs": [],
"source": [
"//Problem 38.01: The area of a hysteresis loop obtained from a ferromagnetic specimen is 12.5 cm2. The scales used were: horizontal axis 1 cm = 500 A/m; vertical axis 1 cm = 0.2 T. Determine (a) the hysteresis loss per m3 per cycle, and (b) the hysteresis loss per m3 at a frequency of 50 Hz.\n",
"\n",
"//initializing the variables:\n",
"A = 12.5; // in cm2\n",
"x = 500; // horizontal axis 1 cm = 500 A/m\n",
"y = 0.2; // vertical axis 1 cm = 0.2 T\n",
"f = 50; // in Hz\n",
"\n",
"//calculation: \n",
"//hysteresis loss per cycle\n",
"HL = A*x*y\n",
"//At 50 Hz frequency, hysteresis loss\n",
"HLf = HL*f\n",
"\n",
"printf('\n\n Result \n\n')\n",
"printf('\n(a)hysteresis loss per cycle is = %.0f J/m3',HL)\n",
"printf('\n(b)At 50 Hz frequency, hysteresis loss %.0f W/m3',HLf)"
   ]
   }
,
{
		   "cell_type": "markdown",
		   "metadata": {},
		   "source": [
			"## Example 38.02: Example_2.sce"
		   ]
		  },
  {
"cell_type": "code",
	   "execution_count": null,
	   "metadata": {
	    "collapsed": true
	   },
	   "outputs": [],
"source": [
"//Problem 38.02: If in problem 38.01, the maximum flux density is 1.5 T at a frequency of 50 Hz, determine the hysteresis loss per m3 for a maximum flux density of 1.1 T and frequency of 25 Hz. Assume the Steinmetz index to be 1.6\n",
"\n",
"//initializing the variables:\n",
"n = 1.6; // the Steinmetz index\n",
"f1 = 50; // in Hz\n",
"f2 = 25; // in Hz\n",
"Bm1 = 1.5; // in Tesla\n",
"Bm2 = 1.1; // in Tesla\n",
"Ph1 = 62500; // in W/m3\n",
"v = 1;\n",
"\n",
"//calculation: \n",
"//hysteresis loss Ph = kh*v*f*(Bm)^n\n",
"kh = Ph1/(v*f1*(Bm1)^n)\n",
"//When f = 25 Hz and Bm = 1.1 T,\n",
"Ph2 = kh*v*f2*(Bm2)^n\n",
"\n",
"printf('\n\n Result \n\n')\n",
"printf('\n hysteresis loss When f = 25 Hz and Bm = 1.1 T, is = %.0f W/m3',Ph2)"
   ]
   }
,
{
		   "cell_type": "markdown",
		   "metadata": {},
		   "source": [
			"## Example 38.03: Example_3.sce"
		   ]
		  },
  {
"cell_type": "code",
	   "execution_count": null,
	   "metadata": {
	    "collapsed": true
	   },
	   "outputs": [],
"source": [
"//Problem 38.03: A ferromagnetic ring has a uniform cross-sectional area of 2000 mm2 and a mean circumference of 1000 mm. A hysteresis loop obtained for the specimen is plotted to scales of 10 mm = 0.1 T and 10 mm = 400 A/m and is found to have an area of 104 mm2. Determine the hysteresis loss at a frequency of 80 Hz.\n",
"\n",
"//initializing the variables:\n",
"csa = 0.002; // in m2\n",
"l = 1; // in m\n",
"a = 400/0.01; // 10 mm = 400 A/m \n",
"b = 0.1/0.01; // 10 mm = 0.1 T \n",
"A = 0.01; // in m2\n",
"f = 80; // in Hz\n",
"\n",
"//calculation: \n",
"//hysteresis loss per cycle\n",
"HL = A*a*b\n",
"//At a frequency of 80 Hz,\n",
"//hysteresis loss\n",
"HLf = HL*f\n",
"//Volume of ring\n",
"v = csa*l\n",
"//hysteresis loss\n",
"Ph = HLf*v\n",
"\n",
"printf('\n\n Result \n\n')\n",
"printf('\n the hysteresis loss at a frequency of 80 Hz is %.0f W',Ph)"
   ]
   }
,
{
		   "cell_type": "markdown",
		   "metadata": {},
		   "source": [
			"## Example 38.04: Example_4.sce"
		   ]
		  },
  {
"cell_type": "code",
	   "execution_count": null,
	   "metadata": {
	    "collapsed": true
	   },
	   "outputs": [],
"source": [
"//Problem 38.04: The cross-sectional area of a transformer limb is 80 cm2 and the volume of the transformer core is 5000 cm3. The maximum value of the core flux is 10 mWb at a frequency of 50 Hz. Taking the Steinmetz constant as 1.7, the hysteresis loss is found to be 100 W. Determine the value of the hysteresis loss when the maximum core flux is 8 mWb and the frequency is 50 Hz.\n",
"\n",
"//initializing the variables:\n",
"Phi1 = 0.01; // in Wb\n",
"Phi2 = 0.008; // in Wb\n",
"csa = 0.008; // in m2\n",
"v = 0.005; // in m3\n",
"f = 50; // in Hz\n",
"n = 1.7; // the Steinmetz constant\n",
"Ph1 = 100; // in Watt\n",
"\n",
"//calculation: \n",
"//maximum flux density\n",
"Bm1 = Phi1/csa\n",
"//hysteresis loss Ph1 = kh*v*f*(Bm1)^n\n",
"kh = Ph1/(v*f*(Bm1)^n)\n",
"//When the maximum core flux is 8 mWb,\n",
"Bm2 = Phi2/csa\n",
"//hysteresis loss, Ph2\n",
"Ph2 = kh*v*f*(Bm2)^n\n",
"\n",
"printf('\n\n Result \n\n')\n",
"printf('\nthe value of the hysteresis loss when the maximum core flux is 8 mWb and the frequency is 50 Hz is %.1f W',Ph2)"
   ]
   }
,
{
		   "cell_type": "markdown",
		   "metadata": {},
		   "source": [
			"## Example 38.05: Example_5.sce"
		   ]
		  },
  {
"cell_type": "code",
	   "execution_count": null,
	   "metadata": {
	    "collapsed": true
	   },
	   "outputs": [],
"source": [
"//Problem 38.05: The eddy current loss in a particular magnetic circuit is 10 W/m3. If the frequency of operation is reduced from 50 Hz to 30 Hz with the flux density remaining unchanged, determine the new value of eddy current loss per cubic metre.\n",
"\n",
"//initializing the variables:\n",
"Pe1 = 10; // in W/m3\n",
"f1 = 50; // in Hz\n",
"f2 = 30; // in Hz\n",
"\n",
"//calculation: \n",
"//When the eddy current loss is 10 W/m3, frequency f is 50 Hz.\n",
"//constant k\n",
"k = Pe1/(f1^2)\n",
"//When the frequency is 30 Hz, eddy current loss,\n",
"Pe2 = k*(f2^2)\n",
"\n",
"printf('\n\n Result \n\n')\n",
"printf('\neddy current loss per cubic metre is %.1f W/m3',Pe2)"
   ]
   }
,
{
		   "cell_type": "markdown",
		   "metadata": {},
		   "source": [
			"## Example 38.06: Example_6.sce"
		   ]
		  },
  {
"cell_type": "code",
	   "execution_count": null,
	   "metadata": {
	    "collapsed": true
	   },
	   "outputs": [],
"source": [
"//Problem 38.06: The core of a transformer operating at 50 Hz has an eddy current loss of 100 W/m3 and the core laminations have a thickness of 0.50 mm. The core is redesigned so as to operate with the same eddy current loss but at a different voltage and at a frequency of 250 Hz. Assuming that at the new voltage the maximum flux density is one-third of its original value and the resistivity of the core remains unaltered, determine the necessary new thickness of the laminations.\n",
"\n",
"//initializing the variables:\n",
"Pe = 100; // in W/m3\n",
"f1 = 50; // in Hz\n",
"t1 = 0.0005; // in m\n",
"x = 1/3;\n",
"f2 = 250; // in Hz\n",
"\n",
"//calculation: \n",
"//Pe = ke*(Bm1*f1*t1)^2\n",
"//Hence, at 50 Hz frequency\n",
"ke = Pe/(Bm1*f1*t1)^2\n",
"//At 250 Hz frequency\n",
"Bm2 = x*Bm1\n",
"t2 = ((Pe/ke)^0.5)/(Bm2*f2)\n",
"\n",
"printf('\n\n Result \n\n')\n",
"printf('\nlamination thickness is %.2Em',t2)"
   ]
   }
,
{
		   "cell_type": "markdown",
		   "metadata": {},
		   "source": [
			"## Example 38.07: Example_7.sce"
		   ]
		  },
  {
"cell_type": "code",
	   "execution_count": null,
	   "metadata": {
	    "collapsed": true
	   },
	   "outputs": [],
"source": [
"//Problem 38.07: The core of an inductor has a hysteresis loss of 40 W and an eddy current loss of 20 W when operating at 50 Hz frequency. (a) Determine the values of the losses if the frequency is increased to 60 Hz. (b) What will be the total core loss if the frequency is 50 Hz and the lamination are made one-half of their original thickness? Assume that the flux density remains unchanged in each case\n",
"\n",
"//initializing the variables:\n",
"Ph1 = 40; // in W\n",
"Pe1 = 20; // in W\n",
"f1 = 50; // in Hz\n",
"x = 1/2;\n",
"f2 = 60; // in Hz\n",
"t1 = 1;\n",
"//calculation: \n",
"//hysteresis loss Ph = kh*v*f*(Bm)^n = k1*f\n",
"//Thus when the hysteresis is 40 W and the frequency 50 Hz,\n",
"k1 = Ph1/f1\n",
"//If the frequency is increased to 60 Hz,\n",
"Ph2 = k1*f2\n",
"//eddy current loss, Pe = ke*(Bm1*f1*t1)^2 = k2*f^2\n",
"//since the flux density and lamination thickness are constant.\n",
"//When the eddy current loss is 20 W the frequency is 50 Hz. Thus\n",
"k2 = Pe1/(f1^2)\n",
"//If the frequency is increased to 60 Hz,\n",
"Pe2 = k2*(f2^2)\n",
"//hysteresis loss Ph = kh*v*f*(Bm)^n, is independent of the thickness of the laminations. Thus, if the thickness of the laminations is halved, the hysteresis loss remains at \n",
"Phb2 = Ph1\n",
"//eddy current loss, Pe = ke*(Bm1*f1*t1)^2 = k2*t^3\n",
"k3 = Pe1/(t1^3)\n",
"t2 = 0.5*t1\n",
"Peb2 = k3*t2^3\n",
"//total core loss when the thickness of the laminations is halved is given by\n",
"TL = Phb2 + Peb2\n",
"\n",
"printf('\n\n Result \n\n')\n",
"printf('\n(a)If the frequency is increased to 60 Hz,hysteresis loss is %.0f W and eddy current loss %.1f W',Ph2, Pe2)\n",
"printf('\n(b)the total core loss when the thickness of the laminations is halved %.1f W',TL)"
   ]
   }
,
{
		   "cell_type": "markdown",
		   "metadata": {},
		   "source": [
			"## Example 38.08: Example_8.sce"
		   ]
		  },
  {
"cell_type": "code",
	   "execution_count": null,
	   "metadata": {
	    "collapsed": true
	   },
	   "outputs": [],
"source": [
"//Problem 38.08: When a transformer is connected to a 500 V, 50 Hz supply, the hysteresis and eddy current losses are 400 Wand 150 W respectively. The applied voltage is increased to 1 kV and the frequency to 100 Hz. Assuming the Steinmetz index to be 1.6, determine the new total core loss.\n",
"\n",
"//initializing the variables:\n",
"V1 = 500; // in Volts\n",
"V2 = 1000; // in Volts\n",
"Ph1 = 400; // in W\n",
"Pe1 = 150; // in W\n",
"f1 = 50; // in Hz\n",
"n = 1.6; // Steinmetz index\n",
"f2 = 100; // in Hz\n",
"\n",
"//calculation: \n",
"//hysteresis loss Ph = k1*f*(E/f)^n\n",
"//At 500 V and 50 Hz\n",
"k1 = Ph1/(f1*(V1/f1)^1.6)\n",
"//At 1000 V and 100 Hz,\n",
"Ph2 = k1*f2*(V2/f2)^1.6\n",
"//eddy current loss, Pe = k2*E^2\n",
"//At 500 V,\n",
"k2 = Pe1/(V1^2)\n",
"//At 1000 V,\n",
"Pe2 = k2*(V2^2)\n",
"//the new total core loss\n",
"TL = Ph2 + Pe2\n",
"\n",
"printf('\n\n Result \n\n')\n",
"printf('\n the new total core loss %.0f W',TL)"
   ]
   }
,
{
		   "cell_type": "markdown",
		   "metadata": {},
		   "source": [
			"## Example 38.10: Example_10.sce"
		   ]
		  },
  {
"cell_type": "code",
	   "execution_count": null,
	   "metadata": {
	    "collapsed": true
	   },
	   "outputs": [],
"source": [
"//Problem 38.10: The core of a synchrogenerator has total losses of 400 W at 50 Hz and 498W at 60 Hz, the flux density being constant for the two tests. (a) Determine the hysteresis and eddy current losses at 50 Hz (b) If the flux density is increased by 25% and the lamination thickness is increased by 40%, determine the hysteresis and eddy current losses at 50 Hz. Assume the Steinmetz index to be 1.7.\n",
"\n",
"//initializing the variables:\n",
"TL1 = 400; // in Watt\n",
"TL2 = 498; // in Watt\n",
"x = 0.25;\n",
"y = 0.4;\n",
"f1 = 50; // in Hz\n",
"n = 1.7; // Steinmetz index\n",
"f2 = 60; // in Hz\n",
"\n",
"//calculation: \n",
"//if volume v and the maximum flux density are constant\n",
"//hysteresis loss Ph = kh*v*f*(Bm)^n = k1*f\n",
"//(if the maximum flux density and the lamination thickness are constant)\n",
"//eddy current loss, Pe = ke*(Bm1*f1*t1)^2 = k2*f^2\n",
"//At 50 Hz frequency, TL1 = k1*f1 + k2*f1^2\n",
"//At 60 Hz frequency, TL2 = k1*f2 + k2*f2^2\n",
"//Solving equations gives the values of k1 and k2.\n",
"k2 = (5*TL2 - 6*TL1)/(5*(f2^2) - 6*(f1^2))\n",
"k1 = (TL1 - k2*f1^2)/f1\n",
"//hysteresis loss Ph = k1*f\n",
"Ph1 = k1*f1\n",
"//eddy current loss\n",
"Pe1 = k2*f1^2\n",
"//Since at 50 Hz the flux density is increased by 25%, the new hysteresis loss is\n",
"Ph2 = Ph1*(1 + x)^1.7\n",
"//Since at 50 Hz the flux density is increased by 25%, and the lamination thickness is increased by 40%, the new eddy current loss is\n",
"Pe2 = Pe1*((1 + x)^2)*(1 + y)^3\n",
"\n",
"printf('\n\n Result \n\n')\n",
"printf('\n (a)the hysteresis and eddy current losses at 50 Hz are %.0f W and %.0f W resp.',Ph1, Pe1)\n",
"printf('\n (b)the hysteresis and eddy current losses at 50 Hz after increement are %.1f W and %.1f W resp.',Ph2, Pe2)"
   ]
   }
],
"metadata": {
		  "kernelspec": {
		   "display_name": "Scilab",
		   "language": "scilab",
		   "name": "scilab"
		  },
		  "language_info": {
		   "file_extension": ".sce",
		   "help_links": [
			{
			 "text": "MetaKernel Magics",
			 "url": "https://github.com/calysto/metakernel/blob/master/metakernel/magics/README.md"
			}
		   ],
		   "mimetype": "text/x-octave",
		   "name": "scilab",
		   "version": "0.7.1"
		  }
		 },
		 "nbformat": 4,
		 "nbformat_minor": 0
}
