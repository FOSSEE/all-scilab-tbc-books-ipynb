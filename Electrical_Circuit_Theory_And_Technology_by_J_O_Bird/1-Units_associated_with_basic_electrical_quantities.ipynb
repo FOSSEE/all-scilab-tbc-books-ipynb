{
"cells": [
 {
		   "cell_type": "markdown",
	   "metadata": {},
	   "source": [
       "# Chapter 1: Units associated with basic electrical quantities"
	   ]
	},
{
		   "cell_type": "markdown",
		   "metadata": {},
		   "source": [
			"## Example 1.01: Example_1.sce"
		   ]
		  },
  {
"cell_type": "code",
	   "execution_count": null,
	   "metadata": {
	    "collapsed": true
	   },
	   "outputs": [],
"source": [
"//Problem 1.01: If a current of 5 A flows for 2 minutes, find the quantity of electricity transferred.\n",
"\n",
"//initializing the variables:\n",
"I = 5; // in Ampere\n",
"t = 120; // in sec\n",
"\n",
"//calculation:\n",
"Q = I*t\n",
"\n",
"printf('\n\nResult\n\n')\n",
"printf('\nQ: %.0f coulomb(C)\n',Q)"
   ]
   }
,
{
		   "cell_type": "markdown",
		   "metadata": {},
		   "source": [
			"## Example 1.02: Example_2.sce"
		   ]
		  },
  {
"cell_type": "code",
	   "execution_count": null,
	   "metadata": {
	    "collapsed": true
	   },
	   "outputs": [],
"source": [
"//Problem 1.02: A mass of 5000 g is accelerated at 2 m/s2 by a force. Determine the force needed.\n",
"\n",
"//initializing the variables:\n",
"M = 5; // in Kg\n",
"a = 2; // in m/s2\n",
"\n",
"//calculation:\n",
"F = M*a\n",
"\n",
"printf('\n\nResult\n\n')\n",
"printf('\nForce: %.0f Newton(N)\n',F)"
   ]
   }
,
{
		   "cell_type": "markdown",
		   "metadata": {},
		   "source": [
			"## Example 1.03: Example_3.sce"
		   ]
		  },
  {
"cell_type": "code",
	   "execution_count": null,
	   "metadata": {
	    "collapsed": true
	   },
	   "outputs": [],
"source": [
"//Problem 1.03: Find the force acting vertically downwards on a mass of 200 g attached to a wire.\n",
"\n",
"//initializing the variables:\n",
"M = 0.2; // in Kg\n",
"g = 9.81; // in m/s2\n",
"\n",
"//calculation:\n",
"F = M*g\n",
"\n",
"printf('\n\nResult\n\n')\n",
"printf('\nForce: %.3f Newton(N)\n',F)"
   ]
   }
,
{
		   "cell_type": "markdown",
		   "metadata": {},
		   "source": [
			"## Example 1.04: Example_4.sce"
		   ]
		  },
  {
"cell_type": "code",
	   "execution_count": null,
	   "metadata": {
	    "collapsed": true
	   },
	   "outputs": [],
"source": [
"//Problem 1.04: A portable machine requires a force of 200 N to move it. How much work is done if the machine is moved 20 m and what average power is utilized if the movement takes 25 s?\n",
"\n",
"//initializing the variables:\n",
"F = 200; // in Newton\n",
"d = 20; // in m\n",
"t = 25; // in sec\n",
"\n",
"//calculation:\n",
"W = F*d\n",
"P = W/t\n",
"\n",
"printf('\n\nResult\n\n')\n",
"printf('\nPower: %.0f watt(W)\n',P)"
   ]
   }
,
{
		   "cell_type": "markdown",
		   "metadata": {},
		   "source": [
			"## Example 1.05: Example_5.sce"
		   ]
		  },
  {
"cell_type": "code",
	   "execution_count": null,
	   "metadata": {
	    "collapsed": true
	   },
	   "outputs": [],
"source": [
"//Problem 1.05: A mass of 1000 kg is raised through a height of 10m in 20s. What is (a) the work done and (b) the power developed?\n",
"\n",
"//initializing the variables:\n",
"M = 1000; // in Kg\n",
"h = 10; // in m\n",
"t = 20; // in sec\n",
"g = 9.81 // in m/s2\n",
"\n",
"//calculation:\n",
"W = M*g*h\n",
"P = W/t\n",
"\n",
"printf('\n\nResult\n\n')\n",
"printf('\nWork Done: %.0f Joule(J)\n',W)\n",
"printf('\nPower: %.0f watt(W)\n',P)"
   ]
   }
,
{
		   "cell_type": "markdown",
		   "metadata": {},
		   "source": [
			"## Example 1.06: Example_6.sce"
		   ]
		  },
  {
"cell_type": "code",
	   "execution_count": null,
	   "metadata": {
	    "collapsed": true
	   },
	   "outputs": [],
"source": [
"//Problem 1.06: Find the conductance of a conductor of resistance (a) 10 ohm , (b) 5 kohm and (c) 100 ohm.\n",
"\n",
"//initializing the variables:\n",
"R1 = 10; // in ohm\n",
"R2 = 5000; // in ohm\n",
"R3 = 0.1; // in ohm\n",
"//calculation:\n",
"G1 = 1/R1\n",
"G2 = 1/R2\n",
"G3 = 1/R3\n",
"\n",
"printf('\n\nResult\n\n')\n",
"printf('\nconductance(G1): %.1f seimen(S)n',G1)\n",
"printf('\nconductance(G2): %.4f seimen(S)n',G2)\n",
"printf('\nconductance(G3): %.0f seimen(S)n',G3)"
   ]
   }
,
{
		   "cell_type": "markdown",
		   "metadata": {},
		   "source": [
			"## Example 1.07: Example_7.sce"
		   ]
		  },
  {
"cell_type": "code",
	   "execution_count": null,
	   "metadata": {
	    "collapsed": true
	   },
	   "outputs": [],
"source": [
"//Problem 1.07: A source e.m.f. of 5 V supplies a current of 3 A for 10 minutes. How much energy is provided in this time?\n",
"\n",
"//initializing the variables:\n",
"V = 5; // in Volts\n",
"I = 3; // in Ampere\n",
"t = 600; // in sec\n",
"//calculation:\n",
"P = V*I\n",
"E = P*t\n",
"\n",
"printf('\n\nResult\n\n')\n",
"printf('\nEnergy(E): %.0f Joule(J)\n',E)"
   ]
   }
,
{
		   "cell_type": "markdown",
		   "metadata": {},
		   "source": [
			"## Example 1.08: Example_8.sce"
		   ]
		  },
  {
"cell_type": "code",
	   "execution_count": null,
	   "metadata": {
	    "collapsed": true
	   },
	   "outputs": [],
"source": [
"//Problem 1.08: An electric heater consumes 1.8 MJ when connected to a 250 V supply for 30 minutes. Find the power rating of the heater and the current taken from the supply.\n",
"\n",
"//initializing the variables:\n",
"E = 18E5; // in Joule\n",
"V = 250; // in Volts\n",
"t = 1800; // in sec\n",
"\n",
"//calculation:\n",
"P = E/t\n",
"I = P/V\n",
"\n",
"printf('\n\nResult\n\n')\n",
"printf('\nPower(P): %.0f Watt(W)',P)\n",
"printf('\nCurrent(I): %.0f Ampere(A)\n',I)"
   ]
   }
],
"metadata": {
		  "kernelspec": {
		   "display_name": "Scilab",
		   "language": "scilab",
		   "name": "scilab"
		  },
		  "language_info": {
		   "file_extension": ".sce",
		   "help_links": [
			{
			 "text": "MetaKernel Magics",
			 "url": "https://github.com/calysto/metakernel/blob/master/metakernel/magics/README.md"
			}
		   ],
		   "mimetype": "text/x-octave",
		   "name": "scilab",
		   "version": "0.7.1"
		  }
		 },
		 "nbformat": 4,
		 "nbformat_minor": 0
}
