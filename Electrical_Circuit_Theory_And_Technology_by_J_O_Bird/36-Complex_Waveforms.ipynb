{
"cells": [
 {
		   "cell_type": "markdown",
	   "metadata": {},
	   "source": [
       "# Chapter 36: Complex Waveforms"
	   ]
	},
{
		   "cell_type": "markdown",
		   "metadata": {},
		   "source": [
			"## Example 36.03: Example_3.sce"
		   ]
		  },
  {
"cell_type": "code",
	   "execution_count": null,
	   "metadata": {
	    "collapsed": true
	   },
	   "outputs": [],
"source": [
"//Problem 36.03: Determine the rms value of the current waveform represented by i = 100sinwt + 20sin(3wt + pi/6) + 10sin(5wt + 2*pi/3) mA\n",
"\n",
"//initializing the variables:\n",
"A1 = 0.100; // in amperes\n",
"A3 = 0.020; // in amperes\n",
"A5 = 0.010; // in amperes\n",
"\n",
"//calculation:\n",
"//the rms value of current is given by\n",
"Irms = ((A1^2 + A3^2 + A5^2)/2)^0.5\n",
"\n",
"printf('\n\n Result \n\n')\n",
"printf('\n the rms value of current is %.5f A',Irms)"
   ]
   }
,
{
		   "cell_type": "markdown",
		   "metadata": {},
		   "source": [
			"## Example 36.04: Example_4.sce"
		   ]
		  },
  {
"cell_type": "code",
	   "execution_count": null,
	   "metadata": {
	    "collapsed": true
	   },
	   "outputs": [],
"source": [
"//Problem 36.04: A complex voltage is represented by\n",
"// v = 10sinwt + 3sin(3wt) + 2sin(5wt) Volts\n",
"//Determine for the voltage, (a) the rms value, (b) the mean value and (c) the form factor.\n",
"\n",
"//initializing the variables:\n",
"A1 = 10; // in volts\n",
"A3 = 3; // in volts\n",
"A5 = 2; // in volts\n",
"\n",
"//calculation:\n",
"//the rms value of voltage is given by\n",
"Vrms = ((A1^2 + A3^2 + A5^2)/2)^0.5\n",
"//the mean value of voltage is given by\n",
"//x = wt\n",
"function [Y]=f(x)\n",
"    Y = (10*sin(x) + 3*sin(3*x) + 2*sin(5*x));\n",
"endfunction\n",
"Vav = (1/%pi)*(integrate('f', 'x', 0, %pi))\n",
"//form factor is given by\n",
"ff = Vrms/Vav\n",
"\n",
"printf('\n\n Result \n\n')\n",
"printf('\n (a)the rms value of voltage is %.2f V',Vrms)\n",
"printf('\n (b)the mean value of voltage is %.2f V',Vav)\n",
"printf('\n (c)form factor is %.3f ',ff)"
   ]
   }
,
{
		   "cell_type": "markdown",
		   "metadata": {},
		   "source": [
			"## Example 36.06: Example_6.sce"
		   ]
		  },
  {
"cell_type": "code",
	   "execution_count": null,
	   "metadata": {
	    "collapsed": true
	   },
	   "outputs": [],
"source": [
"//Problem 36.06: Determine the average power in a 20 # resistance if the current i flowing through it is of the form\n",
"// i = 12sinwt + 5sin(3wt) + 2sin(5wt) A\n",
"\n",
"//initializing the variables:\n",
"A1 = 12; // in amperes\n",
"A3 = 5; // in amperes\n",
"A5 = 2; // in amperes\n",
"R = 20; // in ohms\n",
"\n",
"//calculation:\n",
"//rms current\n",
"Irms = ((A1^2 + A3^2 + A5^2)/2)^0.5\n",
"//average power\n",
"P = R*Irms^2\n",
"\n",
"printf('\n\n Result \n\n')\n",
"printf('\n average power %.0f W',P)"
   ]
   }
,
{
		   "cell_type": "markdown",
		   "metadata": {},
		   "source": [
			"## Example 36.07: Example_7.sce"
		   ]
		  },
  {
"cell_type": "code",
	   "execution_count": null,
	   "metadata": {
	    "collapsed": true
	   },
	   "outputs": [],
"source": [
"//Problem 36.07: A complex voltage v given by\n",
"// v = 60sinwt + 15sin(3wt + pi/4) + 10sin(5wt - pi/2) Volts\n",
"//is applied to a circuit and the resulting current i is given by\n",
"// i = 2sin(wt - pi/6) + 0.30sin(3wt - pi/12) + 0.1sin(5wt - 8pi/9) A\n",
"//Determine (a) the total active power supplied to the circuit, and (b) the overall power factor.\n",
"\n",
"//initializing the variables:\n",
"Ia1 = 2; // in amperes\n",
"Ia3 = 0.3; // in amperes\n",
"Ia5 = 0.1; // in amperes\n",
"Va1 = 60; // in volts\n",
"Va3 = 15; // in volts\n",
"Va5 = 10; // in volts\n",
"Phii1 = -1*%pi/6; // in radians\n",
"Phii3 = -1*%pi/12; // in radians\n",
"Phii5 = -8*%pi/9; // in radians\n",
"Phiv1 = 0; // in radians\n",
"Phiv3 = %pi/4; // in radians\n",
"Phiv5 = -1*%pi/2; // in radians\n",
"\n",
"\n",
"//calculation:\n",
"//rms values;\n",
"I1 = Ia1/(2^0.5); // in amperes\n",
"I3 = Ia3/(2^0.5); // in amperes\n",
"I5 = Ia5/(2^0.5); // in amperes\n",
"V1 = Va1/(2^0.5); // in volts\n",
"V3 = Va3/(2^0.5); // in volts\n",
"V5 = Va5/(2^0.5); // in volts\n",
"//total power supplied,\n",
"P = V1*I1*cos(Phiv1 - Phii1) + V3*I3*cos(Phiv3 - Phii3) + V5*I5*cos(Phiv5 - Phii5)\n",
"//rms current\n",
"Irms = ((I1^2 + I3^2 + I5^2))^0.5\n",
"//rms voltage\n",
"Vrms = ((V1^2 + V3^2 + V5^2))^0.5\n",
"//overall power factor\n",
"pf = P/(Vrms*Irms)\n",
"\n",
"printf('\n\n Result \n\n')\n",
"printf('\n(a)the total active power supplied to the circuit %.2f W',P)\n",
"printf('\n(b)overall power factor %.3f',pf)"
   ]
   }
,
{
		   "cell_type": "markdown",
		   "metadata": {},
		   "source": [
			"## Example 36.09: Example_9.sce"
		   ]
		  },
  {
"cell_type": "code",
	   "execution_count": null,
	   "metadata": {
	    "collapsed": true
	   },
	   "outputs": [],
"source": [
"//Problem 36.09: A supply voltage v given by\n",
"// v = 240sin314t + 40sin942t + 30sin1570t Volts\n",
"//is applied to a circuit comprising a resistance of 12 ohm connected in series with a coil of inductance 9.55 mH. Determine (a) an expression to represent the instantaneous value of the current, (b) the rms voltage, (c) the rms current, (d) the power dissipated, and (e) the overall power factor.\n",
"\n",
"//initializing the variables:\n",
"V1m = 240; // in volts\n",
"V3m = 40; // in volts\n",
"V5m = 30; // in volts\n",
"w1 = 314; // fundamental\n",
"R = 12; // in ohm\n",
"L = 0.00955; // in Henry\n",
"\n",
"//calculation:\n",
"//fundamental or first harmonic\n",
"//inductive reactance,\n",
"XL1 = w1*L\n",
"//impedance at the fundamental frequency,\n",
"Z1 = R + %i*XL1\n",
"//Maximum current at fundamental frequency\n",
"I1m = V1m/Z1\n",
"I1mag = (real(I1m)^2 + imag(I1m)^2)^0.5\n",
"phii1 = atan(imag(I1m)/real(I1m))\n",
"//Third harmonic\n",
"XL3 = 3*XL1\n",
"//impedance at the third harmonic frequency,\n",
"Z3 = R + %i*XL3\n",
"//Maximum current at third harmonic frequency\n",
"I3m = V3m/Z3\n",
"I3mag = (real(I3m)^2 + imag(I3m)^2)^0.5\n",
"phii3 = atan(imag(I3m)/real(I3m))\n",
"//fifth harmonic\n",
"XL5 = 5*XL1\n",
"//impedance at the third harmonic frequency,\n",
"Z5 = R + %i*XL5\n",
"//Maximum current at third harmonic frequency\n",
"I5m = V5m/Z5\n",
"I5mag = (real(I5m)^2 + imag(I5m)^2)^0.5\n",
"phii5 = atan(imag(I5m)/real(I5m))\n",
"//rms voltage\n",
"Vrms = ((V1m^2 + V3m^2 + V5m^2)/2)^0.5\n",
"//rms current\n",
"Irms = ((I1mag^2 + I3mag^2 + I5mag^2)/2)^0.5\n",
"//power dissipated\n",
"P = R*Irms^2\n",
"//overall power factor\n",
"pf = P/(Vrms*Irms)\n",
"\n",
"printf('\n\n Result \n\n')\n",
"printf('\n(b)the rms value of current is %.2f A',Irms)\n",
"printf('\n(c)the rms value of voltage is %.2f V',Vrms)\n",
"printf('\n(d)the total power dissipated %.0f W',P)\n",
"printf('\n(e)overall power factor %.3f',pf)"
   ]
   }
,
{
		   "cell_type": "markdown",
		   "metadata": {},
		   "source": [
			"## Example 36.10: Example_10.sce"
		   ]
		  },
  {
"cell_type": "code",
	   "execution_count": null,
	   "metadata": {
	    "collapsed": true
	   },
	   "outputs": [],
"source": [
"//Problem 36.10: An e.m.f. is represented by\n",
"// e = 50 + 200sinwt + 40sin(2wt - pi/2) + 5sin(4wt + pi/4) Volts\n",
"//the fundamental frequency being 50 Hz. The e.m.f. is applied across a circuit comprising a 100 μF capacitor connected in series with a 50 ohm resistor. Obtain an expression for the current flowing and hence determine the rms value of current.\n",
"\n",
"//initializing the variables:\n",
"Vom = 50; // in volts\n",
"V1m = 200; // in volts\n",
"V2m = 40; // in volts\n",
"V4m = 5; // in volts\n",
"f = 50; // in Hz\n",
"R = 50; // in ohm\n",
"C = 100E-6; // in farad\n",
"phiv1 = 0; // in rad\n",
"phiv2 = -1*%pi/2; // in rad\n",
"phiv4 = %pi/4; // in rad\n",
"\n",
"//calculation:\n",
"//voltage\n",
"V1 = V1m*cos(phiv1) + %i*V1m*sin(phiv1)\n",
"V2 = V2m*cos(phiv2) + %i*V2m*sin(phiv2)\n",
"V4 = V4m*cos(phiv4) + %i*V4m*sin(phiv4)\n",
"//Inductance has no effect on a steady current. Hence the d.c. component of the current, i0, is given by\n",
"Iom = 0\n",
"//fundamental or first harmonic\n",
"w1 = 2*%pi*f\n",
"//inductive reactance,\n",
"Xc1 = 1/(w1*C)\n",
"//impedance at the fundamental frequency,\n",
"Z1 = R + %i*Xc1\n",
"//Maximum current at fundamental frequency\n",
"I1m = V1/Z1\n",
"I1mag = (real(I1m)^2 + imag(I1m)^2)^0.5\n",
"phii1 = atan(imag(I1m)/real(I1m))\n",
"//second harmonic\n",
"Xc2 = Xc1/2\n",
"//impedance at the third harmonic frequency,\n",
"Z2 = R + %i*Xc2\n",
"//Maximum current at third harmonic frequency\n",
"I2m = V2/Z2\n",
"I2mag = (real(I2m)^2 + imag(I2m)^2)^0.5\n",
"phii2 = atan(imag(I2m)/real(I2m))\n",
"//fourth harmonic\n",
"Xc4 = Xc1/4\n",
"//impedance at the third harmonic frequency,\n",
"Z4 = R + %i*Xc4\n",
"//Maximum current at third harmonic frequency\n",
"I4m = V4/Z4\n",
"I4mag = (real(I4m)^2 + imag(I4m)^2)^0.5\n",
"phii4 = atan(imag(I4m)/real(I4m))\n",
"//rms current\n",
"Irms = (Iom^2 + (I1mag^2 + I2mag^2 + I4mag^2)/2)^0.5\n",
"\n",
"printf('\n\n Result \n\n')\n",
"printf('\n(b)the rms value of current is %.2f A',Irms)"
   ]
   }
,
{
		   "cell_type": "markdown",
		   "metadata": {},
		   "source": [
			"## Example 36.11: Example_11.sce"
		   ]
		  },
  {
"cell_type": "code",
	   "execution_count": null,
	   "metadata": {
	    "collapsed": true
	   },
	   "outputs": [],
"source": [
"//Problem 36.11: A supply voltage v given by\n",
"// v = 25 + 100sinwt + 40sin(3wt + pi/6) + 20sin(5wt + pi/12) Volts\n",
"//where w = 10000 rad/s. The voltage is applied to a series circuit comprising a 5.0 ohm resistance and a 500 μH inductance. Determine (a) an expression to represent the current flowing in the circuit, (b) the rms value of current, correct to two decimal places, and (c) the power dissipated in the circuit, correct to three significant figures.\n",
"\n",
"//initializing the variables:\n",
"Vom = 25; // in volts\n",
"V1m = 100; // in volts\n",
"V3m = 40; // in volts\n",
"V5m = 20; // in volts\n",
"w1 = 10000; // fundamental\n",
"R = 5; // in ohm\n",
"L = 500E-6; // in Henry\n",
"phiv1 = 0; // in rad\n",
"phiv3 = %pi/6; // in rad\n",
"phiv5 = %pi/12; // in rad\n",
"\n",
"//calculation:\n",
"//voltage\n",
"V1 = V1m*cos(phiv1) + %i*V1m*sin(phiv1)\n",
"V3 = V3m*cos(phiv3) + %i*V3m*sin(phiv3)\n",
"V5 = V5m*cos(phiv5) + %i*V5m*sin(phiv5)\n",
"//Inductance has no effect on a steady current. Hence the d.c. component of the current, i0, is given by\n",
"Iom = Vom/R\n",
"//fundamental or first harmonic\n",
"//inductive reactance,\n",
"XL1 = w1*L\n",
"//impedance at the fundamental frequency,\n",
"Z1 = R + %i*XL1\n",
"//Maximum current at fundamental frequency\n",
"I1m = V1/Z1\n",
"I1mag = (real(I1m)^2 + imag(I1m)^2)^0.5\n",
"phii1 = atan(imag(I1m)/real(I1m))\n",
"//Third harmonic\n",
"XL3 = 3*XL1\n",
"//impedance at the third harmonic frequency,\n",
"Z3 = R + %i*XL3\n",
"//Maximum current at third harmonic frequency\n",
"I3m = V3/Z3\n",
"I3mag = (real(I3m)^2 + imag(I3m)^2)^0.5\n",
"phii3 = atan(imag(I3m)/real(I3m))\n",
"//fifth harmonic\n",
"XL5 = 5*XL1\n",
"//impedance at the third harmonic frequency,\n",
"Z5 = R + %i*XL5\n",
"//Maximum current at third harmonic frequency\n",
"I5m = V5/Z5\n",
"I5mag = (real(I5m)^2 + imag(I5m)^2)^0.5\n",
"phii5 = atan(imag(I5m)/real(I5m))\n",
"//rms current\n",
"Irms = (Iom^2 + (I1mag^2 + I3mag^2 + I5mag^2)/2)^0.5\n",
"//power dissipated\n",
"P = R*Irms^2\n",
"\n",
"printf('\n\n Result \n\n')\n",
"printf('\n(b)the rms value of current is %.2f A',Irms)\n",
"printf('\n(c)the total power dissipated %.0f W',P)"
   ]
   }
,
{
		   "cell_type": "markdown",
		   "metadata": {},
		   "source": [
			"## Example 36.12: Example_12.sce"
		   ]
		  },
  {
"cell_type": "code",
	   "execution_count": null,
	   "metadata": {
	    "collapsed": true
	   },
	   "outputs": [],
"source": [
"//Problem 36.12: The voltage applied to a particular circuit comprising two components connected in series is given by\n",
"// v = 30 + 40sinwt + 25sin(2wt) + 15sin(4wt) Volts\n",
"//and the resulting current is given by\n",
"//  v = 0.743sin(wt + 1.19) + 0.78sin(2wt + 0.896) + 0.636sin(4wt + 0.559) A\n",
"//Determine (a) the average power supplied, (b) the type of components present, and (c) the values of the components.\n",
"\n",
"//initializing the variables:\n",
"Vom = 30; // in volts\n",
"V1m = 40; // in volts\n",
"V2m = 25; // in volts\n",
"V4m = 15; // in volts\n",
"Iom = 0; // in amperes\n",
"I1m = 0.743; // in Amperes\n",
"I2m = 0.781; // in Amperes\n",
"I4m = 0.636; // in Amperes\n",
"phii1 = 1.190; // in rad\n",
"phii2 = 0.896; // in rad\n",
"phii4 = 0.559; // in rad\n",
"w = 1000; // in rad\n",
"\n",
"//calculation:\n",
"//the average power P is given by\n",
"P = Vom*Iom + (0.707*V1m)*(0.707*I1m)*cos(phii1) + + (0.707*V2m)*(0.707*I2m)*cos(phii2) + (0.707*V4m)*(0.707*I4m)*cos(phii4)\n",
"//rms current\n",
"Irms = (Iom^2 + (I1m^2 + I2m^2 + I4m^2)/2)^0.5\n",
"//resistance R\n",
"R = P/(Irms^2)\n",
"//impedance\n",
"Z1 = V1m/I1m\n",
"//Xc1\n",
"Xc1 = (Z1^2 - R^2)^0.5\n",
"//capacitance\n",
"C = 1/(w*Xc1)\n",
"\n",
"printf('\n\n Result \n\n')\n",
"printf('\n(a)the average power P is %.2f W',P)\n",
"printf('\n(c)the resistance R %.0f ohm and capacitance %.2E F',R,C)"
   ]
   }
,
{
		   "cell_type": "markdown",
		   "metadata": {},
		   "source": [
			"## Example 36.13: Example_13.sce"
		   ]
		  },
  {
"cell_type": "code",
	   "execution_count": null,
	   "metadata": {
	    "collapsed": true
	   },
	   "outputs": [],
"source": [
"//Problem 36.13: In the circuit shown in Figure 36.17 the supply voltage v is given by v = 300sin314t + 120sin(942t + 0.698) Volts.Determine (a) an expression for the supply current, i, (b) the percentage harmonic content of the supply current, (c) the total power dissipated, (d) an expression for the p.d. shown as v1, and (e) an expression for current ic.\n",
"\n",
"//initializing the variables:\n",
"V1m = 300; // in volts\n",
"V3m = 120; // in volts\n",
"phiv1 = 0; // in rad\n",
"phiv2 = 0.698; // in rad\n",
"w1 = 314; // in rad\n",
"C = 2.123E-6; // in farads\n",
"R1 = 560; // in ohms\n",
"R2 = 2000; // in Ohm\n",
"\n",
"//calculation:\n",
"//voltage\n",
"V1 = V1m*cos(phiv1) + %i*V1m*sin(phiv1)\n",
"V3 = V3m*cos(phiv3) + %i*V3m*sin(phiv3)\n",
"//capacitive reactance,\n",
"Xc1 = 1/(w1*C)\n",
"//impedance at the fundamental frequency,\n",
"Z1 = R1 + %i*Xc1*R2/(R2 + %i*Xc1)\n",
"//Maximum current at fundamental frequency\n",
"I1m = V1/Z1\n",
"I1mag = (real(I1m)^2 + imag(I1m)^2)^0.5\n",
"phii1 = atan(imag(I1m)/real(I1m))\n",
"//Third harmonic\n",
"Xc3 = Xc1/3\n",
"//impedance at the third harmonic frequency,\n",
"Z3 = R1 + %i*Xc3*R2/(R2 + %i*Xc3)\n",
"//Maximum current at third harmonic frequency\n",
"I3m = V3/Z3\n",
"I3mag = (real(I3m)^2 + imag(I3m)^2)^0.5\n",
"phii3 = atan(imag(I3m)/real(I3m))\n",
"//Percentage harmonic content of the supply current is given by\n",
"percent = I3mag*100/I1mag\n",
"//total active power\n",
"P = (0.707*V1m)*(0.707*I1mag)*cos(phiv1 - phii1) + (0.707*V3m)*(0.707*I3m)*cos(phiv3 - phii3)\n",
"\n",
"printf('\n\n Result \n\n')\n",
"printf('\n(b)Percentage harmonic content of the supply current is %.0f percent',percent)\n",
"printf('\n(c)total active power is %.2f W',P)"
   ]
   }
,
{
		   "cell_type": "markdown",
		   "metadata": {},
		   "source": [
			"## Example 36.14: Example_14.sce"
		   ]
		  },
  {
"cell_type": "code",
	   "execution_count": null,
	   "metadata": {
	    "collapsed": true
	   },
	   "outputs": [],
"source": [
"//Problem 36.14: A voltage waveform having a fundamental of maximum value 400 V and a third harmonic of maximum value 10 V is applied to the circuit shown in Figure 36.18. Determine (a) the fundamental frequency for resonance with the third harmonic, and (b) the maximum value of the fundamental and third harmonic components of current.\n",
"\n",
"//initializing the variables:\n",
"V1m = 400; // in volts\n",
"V3m = 10; // in volts\n",
"C = 0.2E-6; // in farads\n",
"R = 2; // in ohms\n",
"L = 0.5; // in Henry\n",
"\n",
"//calculation:\n",
"//Resonance with the third harmonic means that\n",
"w = (1/(9*L*C))^0.5\n",
"//fundamental frequency, f\n",
"f = w/(2*%pi)\n",
"//At the fundamental frequency,\n",
"//impedance Z1\n",
"Z1 = R + %i*(w*L - 1/(w*C))\n",
"Z1mag = (real(Z1)^2 + imag(Z1)^2)^0.5\n",
"phiZ1 = atan(imag(Z1)/real(Z1))\n",
"//Maximum value of current at the fundamental frequency,\n",
"I1m = V1m/Z1mag\n",
"//At the third harmonic frequency,\n",
"Z3 = R + %i*(3*w*L - 1/(3*w*C))\n",
"Z3mag = (real(Z3)^2 + imag(Z3)^2)^0.5\n",
"phiZ3 = atan(imag(Z3)/real(Z3))\n",
"//Maximum value of current at the third harmonic frequency,\n",
"I3m = V3m/Z3\n",
"\n",
"printf('\n\n Result \n\n')\n",
"printf('\n(a)fundamental frequency for resonance with the third harmonic is %.2f Hz',f)\n",
"printf('\n(b)Maximum value of current at the fundamental frequency is %.3f A and at the third harmonic frequency %.2f A',I1m, I3m)"
   ]
   }
,
{
		   "cell_type": "markdown",
		   "metadata": {},
		   "source": [
			"## Example 36.15: Example_15.sce"
		   ]
		  },
  {
"cell_type": "code",
	   "execution_count": null,
	   "metadata": {
	    "collapsed": true
	   },
	   "outputs": [],
"source": [
"//Problem 36.15: A voltage wave has an amplitude of 800 V at the fundamental frequency of 50 Hz and its nth harmonic has an amplitude 1.5% of the fundamental. The voltage is applied to a series circuit containing resistance 5 ohm, inductance 0.369 H and capacitance 0.122 μF. Resonance occurs at the nth harmonic. Determine (a) the value of n, (b) the maximum value of current at the nth harmonic, (c) the p.d. across the capacitor at the nth harmonic and (d) the maximum value of the fundamental current.\n",
"\n",
"//initializing the variables:\n",
"V1m = 800; // in volts\n",
"f = 50; // in Hz\n",
"x = 0.015;\n",
"C = 0.122E-6; // in farads\n",
"R = 5; // in ohms\n",
"L = 0.369; // in Henry\n",
"\n",
"//calculation:\n",
"//voltage at nth harmonic\n",
"Vnm = x*V1m\n",
"w = 2*%pi*f\n",
"//For resonance at the nth harmonic nwL = 1/nwC\n",
"n = 1/(w*(L*C)^0.5)\n",
"//At resonance, impedance\n",
"Zn = R\n",
"//the maximum value of current at the nth harmonic\n",
"Inm = Vnm/Zn\n",
"//capacitive reactance, at nth harmonic\n",
"Xcn = 1/(n*w*C)\n",
"//the p.d. across the capacitor at the nth harmonic\n",
"Vcn = Inm*Xcn\n",
"//At the fundamental frequency, inductive reactance,\n",
"XL1 = w*L\n",
"//capacitive reactance\n",
"Xc1 = 1/(w*C)\n",
"//Impedance at the fundamental frequency,\n",
"Z1 = R + %i*(XL1 - Xc1)\n",
"Z1mag = (real(Z1)^2 + imag(Z1)^2)^0.5\n",
"phiZ1 = atan(imag(Z1)/real(Z1))\n",
"//Maximum value of current at the fundamental frequency,\n",
"I1m = V1m/Z1mag\n",
"\n",
"printf('\n\n Result \n\n')\n",
"printf('\n(a)n = %.0f',n)\n",
"printf('\n(b)the maximum value of current at the nth harmonic %.2f A',Inm)\n",
"printf('\n(c)the p.d. across the capacitor at the nth harmonic is %.2f',Vcn)\n",
"printf('\n(d)the maximum value of the fundamental current. %.2f A',I1m)"
   ]
   }
],
"metadata": {
		  "kernelspec": {
		   "display_name": "Scilab",
		   "language": "scilab",
		   "name": "scilab"
		  },
		  "language_info": {
		   "file_extension": ".sce",
		   "help_links": [
			{
			 "text": "MetaKernel Magics",
			 "url": "https://github.com/calysto/metakernel/blob/master/metakernel/magics/README.md"
			}
		   ],
		   "mimetype": "text/x-octave",
		   "name": "scilab",
		   "version": "0.7.1"
		  }
		 },
		 "nbformat": 4,
		 "nbformat_minor": 0
}
