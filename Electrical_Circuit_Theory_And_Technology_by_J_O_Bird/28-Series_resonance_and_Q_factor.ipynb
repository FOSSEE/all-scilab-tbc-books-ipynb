{
"cells": [
 {
		   "cell_type": "markdown",
	   "metadata": {},
	   "source": [
       "# Chapter 28: Series resonance and Q factor"
	   ]
	},
{
		   "cell_type": "markdown",
		   "metadata": {},
		   "source": [
			"## Example 28.01: Example_1.sce"
		   ]
		  },
  {
"cell_type": "code",
	   "execution_count": null,
	   "metadata": {
	    "collapsed": true
	   },
	   "outputs": [],
"source": [
"//Problem 28.01: A coil having a resistance of 10 ohm and an inductance of 75 mH is connected in series with a 40 μF capacitor across a 200 V a.c. supply. Determine at what frequency resonance occurs, and (b) the current flowing at resonance.\n",
"\n",
"//initializing the variables:\n",
"R = 10; // in ohms\n",
"C = 40e-6; // IN fARADS\n",
"L = 0.075; // IN Henry\n",
"V = 200; // in Volts\n",
"\n",
"//calculation:\n",
"//Resonant frequency,\n",
"fr = 1/(2*%pi*((L*C)^0.5))\n",
"//Current at resonance, I\n",
"I = V/R\n",
"\n",
"printf('\n\n Result \n\n')\n",
"printf('\n (a)Resonant frequency = %.1f Hz ',fr)\n",
"printf('\n (b)Current at resonance, I is %.0f A ',I)"
   ]
   }
,
{
		   "cell_type": "markdown",
		   "metadata": {},
		   "source": [
			"## Example 28.02: Example_2.sce"
		   ]
		  },
  {
"cell_type": "code",
	   "execution_count": null,
	   "metadata": {
	    "collapsed": true
	   },
	   "outputs": [],
"source": [
"//Problem 28.02: An R–L–C series circuit is comprised of a coil of inductance 10 mH and resistance 8 ohm and a variable capacitor C. The supply frequency is 1 kHz. Determine the value of capacitor C for series resonance.\n",
"\n",
"//initializing the variables:\n",
"R = 8; // in ohms\n",
"L = 0.010; // IN Henry\n",
"f = 1000; // in Hz\n",
"\n",
"//calculation:\n",
"//At resonance\n",
"//capacitance C\n",
"C = 1/(L*(2*%pi*f)^2)\n",
"\n",
"printf('\n\n Result \n\n')\n",
"printf('\n capacitance, C is %.2E F\n',C)"
   ]
   }
,
{
		   "cell_type": "markdown",
		   "metadata": {},
		   "source": [
			"## Example 28.03: Example_3.sce"
		   ]
		  },
  {
"cell_type": "code",
	   "execution_count": null,
	   "metadata": {
	    "collapsed": true
	   },
	   "outputs": [],
"source": [
"//Problem 28.03: A coil having inductance L is connected in series with a variable capacitor C. The circuit possesses stray capacitance CS which is assumed to be constant and effectively in parallel with the variable capacitor C. When the capacitor is set to 1000 pF the resonant frequency of the circuit is 92.5 kHz, and when the capacitor is set to 500 pF the resonant frequency is 127.8 kHz Determine the values of (a) the stray capacitance CS, and (b) the coil inductance L.\n",
"\n",
"//initializing the variables:\n",
"C1 = 1000e-12; // IN fARADS\n",
"C2 = 500e-12; // IN fARADS\n",
"fr1 = 92500; // in Hz\n",
"fr2 = 127800; // in Hz\n",
"\n",
"//calculation:\n",
"//For a series R–L–C circuit the resonant frequency fr is given by:\n",
"//fr = 1/(2pi*(L*C)^2)\n",
"Cs = ((C1 - C2)/((fr2/fr1)^2 - 1)) - C2\n",
"L = 1/((C1 + Cs)*(2*%pi*fr1)^2)\n",
"\n",
"printf('\n\n Result \n\n')\n",
"printf('\n (a)stray capacitance, Cs is %.2E F ',Cs)\n",
"printf('\n (b)inductance, L is %.2E H ',L)"
   ]
   }
,
{
		   "cell_type": "markdown",
		   "metadata": {},
		   "source": [
			"## Example 28.04: Example_4.sce"
		   ]
		  },
  {
"cell_type": "code",
	   "execution_count": null,
	   "metadata": {
	    "collapsed": true
	   },
	   "outputs": [],
"source": [
"//Problem 28.04: A series circuit comprises a 10 ohm resistance, a 5 μF capacitor and a variable inductance L. The supply voltage is 20/_0° volts at a frequency of 318.3 Hz. The inductance is adjusted until the p.d. across the 10 ohm resistance is a maximum. Determine for this condition (a) the value of inductance L, (b) the p.d. across each component and (c) the Q-factor.\n",
"\n",
"//initializing the variables:\n",
"R = 10; // in ohms\n",
"C = 5e-6; // IN fARADS\n",
"rv = 20; //in volts\n",
"thetav = 0; // in degrees\n",
"f = 318.3; // in Hz\n",
"\n",
"//calculation:\n",
"wr = 2*%pi*f\n",
"//The maximum voltage across the resistance occurs at resonance when the current is a maximum. At resonance,L = 1/c*wr^2\n",
"L = 1/(C*wr^2)\n",
"//voltage\n",
"V = rv*cos(thetav*%pi/180) + %i*rv*sin(thetav*%pi/180)\n",
"//Current at resonance Ir\n",
"Ir = V/R\n",
"//p.d. across resistance, VR\n",
"VR = Ir*R\n",
"//inductive reactance, XL\n",
"XL = wr*L\n",
"//p.d. across inductance, VL\n",
"VL = Ir*(%i*XL)\n",
"//capacitive reactance, Xc\n",
"Xc = 1/(wr*C)\n",
"//p.d. across capacitor, Vc\n",
"Vc = Ir*(-1*%i*Xc)\n",
"//Q-factor at resonance, Qr\n",
"Qr = imag(VL)/V\n",
"\n",
"printf('\n\n Result \n\n')\n",
"printf('\n (a)inductance, L is %.2E H ',L)\n",
"printf('\n (b)p.d. across resistance, VR is %.2f V, p.d. across inductance, VL %.0fi V and p.d. across capacitor, VC %.0fi V ',VR, imag(VL), imag(Vc))\n",
"printf('\n (c)Q-factor at resonance, Qr is %.0f  ',Qr)"
   ]
   }
,
{
		   "cell_type": "markdown",
		   "metadata": {},
		   "source": [
			"## Example 28.05: Example_5.sce"
		   ]
		  },
  {
"cell_type": "code",
	   "execution_count": null,
	   "metadata": {
	    "collapsed": true
	   },
	   "outputs": [],
"source": [
"//Problem 28.05: A series L–R–C circuit has a sinusoidal input voltage of maximum value 12 V. If inductance, L = 20 mH, resistance, R = 80 ohm, and capacitance, C = 400 nF, determine (a) the resonant frequency, (b) the value of the p.d. across the capacitor at the resonant frequency, (c) the frequency at which the p.d. across the capacitor is a maximum, and (d) the value of the maximum voltage across the capacitor.\n",
"\n",
"//initializing the variables:\n",
"R = 80; // in ohms\n",
"C = 0.4e-6; // IN fARADS\n",
"L = 0.020; // IN Henry\n",
"Vm = 12; //in volts\n",
"\n",
"//calculation:\n",
"//Resonant frequency,\n",
"fr = 1/(2*%pi*((L*C)^0.5))\n",
"wr = 2*%pi*fr\n",
"//Q = wr*L/R\n",
"Q = wr*L/R\n",
"Vc = Q*Vm\n",
"//the frequency f at which VC is a maximum value,\n",
"f = fr*(1 - (1/(2*Q*Q)))^0.5\n",
"//the maximum value of the p.d. across the capacitor is given by:\n",
"Vcm = Vc/(1 - (1/(2*Q))^2)^0.5\n",
"\n",
"printf('\n\n Result \n\n')\n",
"printf('\n (a)The resonant frequency is %.1f Hz ',fr)\n",
"printf('\n (b)the value of the p.d. across the capacitor at the resonant frequency %.2f V ',Vc)\n",
"printf('\n (c)the frequency f at which Vc is a maximum value, is %.1f Hz ',f)\n",
"printf('\n (d)the maximum value of the p.d. across the capacitor is %.1f V ',Vcm)"
   ]
   }
,
{
		   "cell_type": "markdown",
		   "metadata": {},
		   "source": [
			"## Example 28.06: Example_6.sce"
		   ]
		  },
  {
"cell_type": "code",
	   "execution_count": null,
	   "metadata": {
	    "collapsed": true
	   },
	   "outputs": [],
"source": [
"//Problem 28.06: An inductor of Q-factor 60 is connected in series with a capacitor having a Q-factor of 390. Determine the overall Q-factor of the circuit.\n",
"\n",
"//initializing the variables:\n",
"QL = 60; // Q-factor\n",
"Qc = 390; // Q-factor\n",
"\n",
"//calculation:\n",
"QT = QL*Qc/(QL + Qc)\n",
"\n",
"printf('\n\n Result \n\n')\n",
"printf('\n the overall Q-factor is %.0f \n',QT)"
   ]
   }
,
{
		   "cell_type": "markdown",
		   "metadata": {},
		   "source": [
			"## Example 28.07: Example_7.sce"
		   ]
		  },
  {
"cell_type": "code",
	   "execution_count": null,
	   "metadata": {
	    "collapsed": true
	   },
	   "outputs": [],
"source": [
"//Problem 28.07: A filter in the form of a series L–R–C circuit is designed to operate at a resonant frequency of 10 kHz. Included within the filter is a 10 mH inductance and 5 ohm resistance. Determine the bandwidth of the filter.\n",
"\n",
"//initializing the variables:\n",
"R = 5; // in ohms\n",
"L = 0.010; // IN Henry\n",
"fr = 10000; // in Hz\n",
"\n",
"//calculation:\n",
"wr = 2*%pi*fr\n",
"//Q-factor at resonance is given by\n",
"Qr = wr*L/R\n",
"//Since Qr = fr/(f2 - f1),\n",
"bw = fr/Qr\n",
"\n",
"printf('\n\n Result \n\n')\n",
"printf('\n bandwidth of the filter is %.1f Hz\n',bw)"
   ]
   }
,
{
		   "cell_type": "markdown",
		   "metadata": {},
		   "source": [
			"## Example 28.08: Example_8.sce"
		   ]
		  },
  {
"cell_type": "code",
	   "execution_count": null,
	   "metadata": {
	    "collapsed": true
	   },
	   "outputs": [],
"source": [
"//Problem 28.08: An R–L–C series circuit has a resonant frequency of 1.2 kHz and a Q-factor at resonance of 30. If the impedance of the circuit at resonance is 50 ohm determine the values of (a) the inductance, and (b) the capacitance. Find also (c) the bandwidth, (d) the lower and upper half-power frequencies and (e) the value of the circuit impedance at the half-power frequencies.\n",
"\n",
"//initializing the variables:\n",
"Zr = 50; // in ohms\n",
"fr = 1200; // in Hz\n",
"Qr = 30; // Q-factor\n",
"\n",
"//calculation:\n",
"//At resonance the circuit impedance, Z\n",
"R = Zr\n",
"wr = 2*%pi*fr\n",
"//Q-factor at resonance is given by Qr = wr*L/R, then L is\n",
"L = Qr*R/wr\n",
"//At resonance r*L = 1/(wr*C)\n",
"//capacitance, C\n",
"C = 1/(L*wr*wr)\n",
"//bandwidth,.(f2 − f1)\n",
"bw = fr/Qr\n",
"//upper half-power frequency, f2\n",
"f2 = (bw + ((bw^2) + 4*(fr^2))^0.5)/2\n",
"//lower half-power frequency, f1\n",
"f1 = f2 - bw\n",
"//At the half-power frequencies, current I\n",
"//I = 0.707*Ir\n",
"//Hence impedance\n",
"Z = (2^0.5)*R\n",
"\n",
"printf('\n\n Result \n\n')\n",
"printf('\n (a)inductance, L is %.3f H ',L)\n",
"printf('\n (b)capacitance, C is %.2E F ',C)\n",
"printf('\n (c)bandwidth is %.0f Hz ',bw)\n",
"printf('\n (d)the upper half-power frequency, f2 is %.0f Hz and the lower half-power frequency, f1 is %.0f Hz ',f2,f1)\n",
"printf('\n (e)impedance at the half-power frequencies is %.2f ohm ',Z)"
   ]
   }
,
{
		   "cell_type": "markdown",
		   "metadata": {},
		   "source": [
			"## Example 28.09: Example_9.sce"
		   ]
		  },
  {
"cell_type": "code",
	   "execution_count": null,
	   "metadata": {
	    "collapsed": true
	   },
	   "outputs": [],
"source": [
"//Problem 28.09: A series R–L–C circuit is connected to a 0.2 V supply and the current is at its maximum value of 4 mA when the supply frequency is adjusted to 3 kHz. The Q-factor of the circuit under these conditions is 100. Determine the value of (a) the circuit resistance, (b) the circuit inductance, (c) the circuit capacitance, and (d) the voltage across the capacitor\n",
"\n",
"//initializing the variables:\n",
"V = 0.2; // in Volts\n",
"I = 0.004; // in Amperes\n",
"fr = 3000; // in Hz\n",
"Qr = 100; // Q-factor\n",
"\n",
"//calculation:\n",
"wr = 2*%pi*fr\n",
"//At resonance, impedance\n",
"Z = V/I\n",
"//At resonance the circuit impedance, Z\n",
"R = Z\n",
"//Q-factor at resonance is given by Qr = wr*L/R, then L is\n",
"L = Qr*R/wr\n",
"//At resonance r*L = 1/(wr*C)\n",
"//capacitance, C\n",
"C = 1/(L*wr*wr)\n",
"//Q-factor at resonance in a series circuit represents the voltage magnification Qr = Vc/V, then Vc is\n",
"Vc = Qr*V\n",
"\n",
"printf('\n\n Result \n\n')\n",
"printf('\n (a)the circuit resistance is %.0f ohm ',R)\n",
"printf('\n (b)inductance, L is %.3f H ',L)\n",
"printf('\n (c)capacitance, C is %.2E F ',C)\n",
"printf('\n (d)the voltage across the capacitor is %.0f V ',Vc)"
   ]
   }
,
{
		   "cell_type": "markdown",
		   "metadata": {},
		   "source": [
			"## Example 28.10: Example_10.sce"
		   ]
		  },
  {
"cell_type": "code",
	   "execution_count": null,
	   "metadata": {
	    "collapsed": true
	   },
	   "outputs": [],
"source": [
"//Problem 28.10: A coil of inductance 351.8 mH and resistance 8.84 ohm is connected in series with a 20 μF capacitor. Determine (a) the resonant frequency, (b) the Q-factor at resonance, (c) the bandwidth, and (d) the lower and upper -3dB frequencies.\n",
"\n",
"//initializing the variables:\n",
"R = 8.84; // in ohms\n",
"L = 0.3518; // IN Henry\n",
"C = 20e-6; // IN fARADS\n",
"\n",
"//calculation:\n",
"//Resonant frequency,\n",
"fr = 1/(2*%pi*((L*C)^0.5))\n",
"wr = 2*%pi*fr\n",
"//Q-factor at resonance, Q = wr*L/R\n",
"Qr = wr*L/R\n",
"//bandwidth,.(f2 − f1)\n",
"bw = fr/Qr\n",
"//the lower −3 dB frequency\n",
"f1 = fr - bw/2\n",
"//the upper −3 dB frequency\n",
"f2 = fr + bw/2\n",
"\n",
"printf('\n\n Result \n\n')\n",
"printf('\n (a)Resonant frequency, fr is %.0f Hz',fr)\n",
"printf('\n (b)Q-factor at resonance is %.0f',Qr)\n",
"printf('\n (c)Bandwidth is %.0f Hz ',bw)\n",
"printf('\n (d)the lower -3dB frequency, f1 is %.0f Hz and the upper -3dB frequency, f2 is %.0f Hz ',f1,f2)"
   ]
   }
,
{
		   "cell_type": "markdown",
		   "metadata": {},
		   "source": [
			"## Example 28.11: Example_11.sce"
		   ]
		  },
  {
"cell_type": "code",
	   "execution_count": null,
	   "metadata": {
	    "collapsed": true
	   },
	   "outputs": [],
"source": [
"//Problem 28.11: In an L–R–C series network, the inductance, L = 8 mH, the capacitance, C = 0.3 μF, and the resistance, R = 15 ohm. Determine the current flowing in the circuit when the input voltage is 7.56/_0° V and the frequency is (a) the resonant frequency, (b) a frequency 3% above the resonant frequency. Find also (c) the impedance of the circuit when the frequency is 3% above the resonant frequency.\n",
"\n",
"//initializing the variables:\n",
"R = 15; // in ohms\n",
"L = 0.008; // IN Henry\n",
"C = 0.3e-6; // IN fARADS\n",
"rv = 7.56; //in volts\n",
"thetav = 0; // in degrees\n",
"x = 0.03;\n",
"\n",
"//calculation:\n",
"//Resonant frequency,\n",
"fr = 1/(2*%pi*((L*C)^0.5))\n",
"wr = 2*%pi*fr\n",
"//At resonance,\n",
"Zr = R\n",
"//voltage\n",
"V = rv*cos(thetav*%pi/180) + %i*rv*sin(thetav*%pi/180)\n",
"//Current at resonance\n",
"Ir = V/Zr\n",
"//Q-factor at resonance, Q = wr*L/R\n",
"Qr = wr*L/R\n",
"//If the frequency is 3% above  fr, then\n",
"del = x\n",
"I = Ir/(1 + (2*del*Qr*%i))\n",
"Z = V/I\n",
"\n",
"printf('\n\n Result \n\n')\n",
"printf('\n (a)Current at resonance, Ir is %.2f A ',Ir)\n",
"printf('\n (b)current flowing in the circuit when frequency 3 percent above the resonant frequency is %.4f + (%.4f)i A ',real(I), imag(I))\n",
"printf('\n (c)impedance of the circuit when the frequency is 3 percent above the resonant frequency is %.0f + (%.2f)i A ',real(Z), imag(Z))"
   ]
   }
],
"metadata": {
		  "kernelspec": {
		   "display_name": "Scilab",
		   "language": "scilab",
		   "name": "scilab"
		  },
		  "language_info": {
		   "file_extension": ".sce",
		   "help_links": [
			{
			 "text": "MetaKernel Magics",
			 "url": "https://github.com/calysto/metakernel/blob/master/metakernel/magics/README.md"
			}
		   ],
		   "mimetype": "text/x-octave",
		   "name": "scilab",
		   "version": "0.7.1"
		  }
		 },
		 "nbformat": 4,
		 "nbformat_minor": 0
}
