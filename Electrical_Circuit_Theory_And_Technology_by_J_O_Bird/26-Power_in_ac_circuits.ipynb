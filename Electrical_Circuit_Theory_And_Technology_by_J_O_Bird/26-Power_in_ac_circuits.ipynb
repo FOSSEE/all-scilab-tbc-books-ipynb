{
"cells": [
 {
		   "cell_type": "markdown",
	   "metadata": {},
	   "source": [
       "# Chapter 26: Power in ac circuits"
	   ]
	},
{
		   "cell_type": "markdown",
		   "metadata": {},
		   "source": [
			"## Example 26.01: Example_1.sce"
		   ]
		  },
  {
"cell_type": "code",
	   "execution_count": null,
	   "metadata": {
	    "collapsed": true
	   },
	   "outputs": [],
"source": [
"//Problem 26.01: A coil of resistance 5 ohm and inductive reactance 12 ohm is connected across a supply voltage of 526/_30volts. Determine the active power in the circuit.\n",
"\n",
"//initializing the variables:\n",
"RL = %i*12; // in ohm\n",
"R = 5; // in ohm\n",
"rv = 52; // in volts\n",
"thetav = 30; // in degree\n",
"\n",
"//calculation:\n",
"//voltage\n",
"V = rv*cos(thetav*%pi/180) + %i*rv*sin(thetav*%pi/180)\n",
"//impedance, Z\n",
"Z = R + RL\n",
"//current\n",
"I = V/Z\n",
"//Active power, P\n",
"Pa = real(V)*real(I) + imag(V)*imag(I)\n",
"\n",
"printf('\n\n Result \n\n')\n",
"printf('\nthe active power in the circuit %.0f W\n',Pa)"
   ]
   }
,
{
		   "cell_type": "markdown",
		   "metadata": {},
		   "source": [
			"## Example 26.02: Example_2.sce"
		   ]
		  },
  {
"cell_type": "code",
	   "execution_count": null,
	   "metadata": {
	    "collapsed": true
	   },
	   "outputs": [],
"source": [
"//Problem 26.02: A current of (15+i8)A flows in a circuit whose supply voltage is (120+i200)V.Determine (a) the active power, and (b) the reactive power.\n",
"\n",
"//initializing the variables:\n",
"V = 120 + %i*200; // in volts\n",
"I = 15 + %i*8; // in amperes\n",
"\n",
"//calculation:\n",
"//Active power, P\n",
"Pa = real(V)*real(I) + imag(V)*imag(I)\n",
"//Reactive power, Q\n",
"Q = imag(V)*real(I) - real(V)*imag(I)\n",
"\n",
"printf('\n\n Result \n\n')\n",
"printf('\n (a) the active power in the circuit %.0f W',Pa)\n",
"printf('\n (b) the reactive power in the circuit %.0f var ',Q)"
   ]
   }
,
{
		   "cell_type": "markdown",
		   "metadata": {},
		   "source": [
			"## Example 26.03: Example_3.sce"
		   ]
		  },
  {
"cell_type": "code",
	   "execution_count": null,
	   "metadata": {
	    "collapsed": true
	   },
	   "outputs": [],
"source": [
"//Problem 26.03: A series circuit possesses resistance R and capacitance C. The circuit dissipates a power of 1.732 kW and has a power factor of 0.866 leading. If the applied voltage is given by v = 141.4*sin(10000t + pi/9) volts, determine (a) the current flowing and its phase, (b) the value of resistance R, and (c) the value of capacitance C.\n",
"\n",
"//initializing the variables:\n",
"Vm = 141.4; // in volts\n",
"w = 10000; // in rad/sec\n",
"phiv = %pi/9; // in radian\n",
"Pd = 1732; // in Watts\n",
"pf = 0.866; // power fctr\n",
"\n",
"//calculation:\n",
"//the rms voltage,\n",
"Vrms = 0.707*Vm\n",
"//Power P = V*I*cos(phi)\n",
"//current magnitude, Irms\n",
"Irms = Pd/(Vrms*pf)\n",
"phid = acos(pf)\n",
"//current phase angle\n",
"phii = phiv + phid\n",
"phiid = phii*180/%pi // in degrees\n",
"//Voltage, V\n",
"V = Vrms*cos(phiv) + %i*Vrms*sin(phiv)\n",
"//current, I\n",
"I = Irms*cos(phii) + %i*Irms*sin(phii)\n",
"//Impedance, Z\n",
"Z = V/I\n",
"//resistance, R\n",
"R = real(Z)\n",
"//capacitive reactance, Xc\n",
"Xc = abs(imag(Z))\n",
"//capacitance, C\n",
"C = 1/ (w*Xc)\n",
"\n",
"printf('\n\n Result \n\n')\n",
"printf('\n (a)the current flowing and Circuit phase angle is %.0f/_%.2f° A ',Irms,phiid)\n",
"printf('\n (b) the resistance is %.2f ohm ',R)\n",
"printf('\n (c) the capacitance is %.2E farad ',C)"
   ]
   }
,
{
		   "cell_type": "markdown",
		   "metadata": {},
		   "source": [
			"## Example 26.04: Example_4.sce"
		   ]
		  },
  {
"cell_type": "code",
	   "execution_count": null,
	   "metadata": {
	    "collapsed": true
	   },
	   "outputs": [],
"source": [
"//Problem 26.04:For the circuit shown in Figure 26.8, determine the active power developed between points (a) A and B, (b) C and D, (c) E and F.\n",
"\n",
"//initializing the variables:\n",
"rv = 100; // in volts\n",
"thetav = 0; // in degrees\n",
"R = 5; // in ohm\n",
"R1 = 3; // in ohms\n",
"RL = %i*4; // in ohm\n",
"Rc = -10*%i; // in ohms\n",
"\n",
"//calculation:\n",
"//impedance, Z1\n",
"Z1 = R1 + RL\n",
"//impedance, Zc\n",
"Zc = Rc\n",
"//Circuit impedance, Z\n",
"Z = R + (Z1*Zc/(Z1 + Zc))\n",
"//voltage\n",
"V = rv*cos(thetav*%pi/180) + %i*rv*sin(thetav*%pi/180)\n",
"I = V/Z\n",
"Imag = ((real(I))^2 + (imag(I))^2)^0.5\n",
"//Active power developed between points A and B\n",
"Pab = (Imag^2)*R\n",
"//Active power developed between points C and D\n",
"Pcd = (Imag^2)*real(Zc)\n",
"//Current, I1\n",
"I1 = I*Zc/(Zc + Z1)\n",
"I1mag = ((real(I1))^2 + (imag(I1))^2)^0.5\n",
"//active power developed between points E and F\n",
"Pef = (I1mag^2)*real(Z1)\n",
"\n",
"printf('\n\n Result \n\n')\n",
"printf('\n (a)Active power developed between points A and B is %.2f W ',Pab)\n",
"printf('\n (b)Active power developed between points C and D is %.2f W ',Pcd)\n",
"printf('\n (c)Active power developed between points E and F is %.2f W ',Pef)"
   ]
   }
,
{
		   "cell_type": "markdown",
		   "metadata": {},
		   "source": [
			"## Example 26.05: Example_5.sce"
		   ]
		  },
  {
"cell_type": "code",
	   "execution_count": null,
	   "metadata": {
	    "collapsed": true
	   },
	   "outputs": [],
"source": [
"//Problem 26.05:The circuit shown in Figure 26.9 dissipates an active power of 400 Wand has a power factor of 0.766 lagging. Determine (a) the apparent power, (b) the reactive power, (c) the value and phase of current I, and (d) the value of impedance Z.\n",
"\n",
"//initializing the variables:\n",
"Pa = 400; // in Watts\n",
"rv = 100; // in volts\n",
"thetav = 30; // in degrees\n",
"R = 4; // in ohm\n",
"pf = 0.766; // power factor\n",
"\n",
"//calculation:\n",
"V = rv*cos(thetav*%pi/180) + %i*rv*sin(thetav*%pi/180)\n",
"//magnitude of apparent power,S = V*I\n",
"S = Pa/pf\n",
"phi = acos(pf)\n",
"theta = phi*180/%pi // in degrees\n",
"//Reactive power Q\n",
"Q = S*sin(phi)\n",
"//magnitude of current\n",
"Imag = S/rv\n",
"thetai = thetav - theta\n",
"I = Imag*cos(thetai*%pi/180) + %i*Imag*sin(thetai*%pi/180)\n",
"//Total circuit impedance ZT\n",
"ZT = V/I\n",
"//impedance Z\n",
"Z = ZT - R\n",
"\n",
"printf('\n\n Result \n\n')\n",
"printf('\n (a)apparent power is %.2f VA ',S)\n",
"printf('\n (b)reactive power is %.2f var ',Q)\n",
"printf('\n (c)the current flowing and Circuit phase angle is %.2f/_%.0f° A ',Imag,thetai)\n",
"printf('\n (d)impedance, Z is %.2f + (%.2f)i ohm ',real(Z), imag(Z))"
   ]
   }
,
{
		   "cell_type": "markdown",
		   "metadata": {},
		   "source": [
			"## Example 26.06: Example_6.sce"
		   ]
		  },
  {
"cell_type": "code",
	   "execution_count": null,
	   "metadata": {
	    "collapsed": true
	   },
	   "outputs": [],
"source": [
"//Problem 26.06: A 300 kVA transformer is at full load with an overall power factor of 0.70 lagging. The power factor is improved by adding capacitors in parallel with the transformer until the overall power factor becomes 0.90 lagging. Determine the rating (in kilovars) of the capacitors required.\n",
"\n",
"//initializing the variables:\n",
"S = 300000; // in VA\n",
"pf1 = 0.70; // in power factor\n",
"pf2 = 0.90; // in power factor\n",
"\n",
"//calculation:\n",
"//active power, P\n",
"Pa = S*pf1\n",
"phi1 = acos(pf1)\n",
"phi1d = phi1*180/%pi\n",
"//Reactive power, Q\n",
"Q = S*sin(phi1)\n",
"phi2 = acos(pf2)\n",
"phi2d = phi2*180/%pi\n",
"//The capacitor rating needed to improve the power factor to 0.90\n",
"//the capacitor rating,\n",
"Pr = Q - (Pa*tan(phi2))\n",
"\n",
"printf('\n\n Result \n\n')\n",
"printf('\n the rating (in kilovars) of the capacitors is %.1f kvar\n',(Pr/1E3))"
   ]
   }
,
{
		   "cell_type": "markdown",
		   "metadata": {},
		   "source": [
			"## Example 26.07: Example_7.sce"
		   ]
		  },
  {
"cell_type": "code",
	   "execution_count": null,
	   "metadata": {
	    "collapsed": true
	   },
	   "outputs": [],
"source": [
"//Problem 26.07: A circuit has an impedance Z = (3+i4)ohm and a source p.d. of 50/_30° V at a frequency of 1.5 kHz. Determine (a) the supply current, (b) the active, apparent and reactive power, (c) the rating of a capacitor to be connected in parallel with impedance Z to improve the power factor of the circuit to 0.966 lagging, and (d) the value of capacitance needed to improve the power factor to 0.966 lagging.\n",
"\n",
"//initializing the variables:\n",
"Z = 3 + %i*4; // in ohms\n",
"rv = 50; // in volts\n",
"thetav = 30; // in Degrees\n",
"f = 1500; // in Hz\n",
"pf1 = 0.966; // in power factor\n",
"\n",
"//calculation:\n",
"V = rv*cos(thetav*%pi/180) + %i*rv*sin(thetav*%pi/180)\n",
"//Supply current, I\n",
"I = V/Z\n",
"Istr = real(I) - %i*imag(I)\n",
"//Apparent power, S\n",
"S = V*Istr\n",
"//active power, Pa\n",
"Pa = real(S)\n",
"//reactive power, Q\n",
"Q = abs(imag(S))\n",
"//apparent power, S\n",
"S = (real(S)^2 + imag(S)^2)^0.5\n",
"phi1 = acos(pf1)\n",
"phi1d = phi1*180/%pi\n",
"//rating of the capacitor \n",
"Pr = Q - Pa*tan(phi1)\n",
"//Current in capacitor, Ic\n",
"Ic = Pr/rv\n",
"//Capacitive reactance, Xc\n",
"Xc = rv/Ic\n",
"C = 1/(2*%pi*f*Xc)\n",
"\n",
"printf('\n\n Result \n\n')\n",
"printf('\n (a)supply current, I is %.2f + (%.2f)i A  ',real(I), imag(I))\n",
"printf('\n (b)active power is %.0f W, apparent power is %.0f W and reactive power is %.0f W ',Pa, S, Q)\n",
"printf('\n (c)the rating of the capacitors is %.1f var\n',Pr)\n",
"printf(' (d)value of capacitance needed to improve the power factor to 0.966 lagging is %.3E F\n', C)"
   ]
   }
],
"metadata": {
		  "kernelspec": {
		   "display_name": "Scilab",
		   "language": "scilab",
		   "name": "scilab"
		  },
		  "language_info": {
		   "file_extension": ".sce",
		   "help_links": [
			{
			 "text": "MetaKernel Magics",
			 "url": "https://github.com/calysto/metakernel/blob/master/metakernel/magics/README.md"
			}
		   ],
		   "mimetype": "text/x-octave",
		   "name": "scilab",
		   "version": "0.7.1"
		  }
		 },
		 "nbformat": 4,
		 "nbformat_minor": 0
}
