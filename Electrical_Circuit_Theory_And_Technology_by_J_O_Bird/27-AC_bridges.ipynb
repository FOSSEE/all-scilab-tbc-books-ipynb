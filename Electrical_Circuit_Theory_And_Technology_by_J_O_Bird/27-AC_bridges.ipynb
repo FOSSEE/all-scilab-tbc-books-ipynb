{
"cells": [
 {
		   "cell_type": "markdown",
	   "metadata": {},
	   "source": [
       "# Chapter 27: AC bridges"
	   ]
	},
{
		   "cell_type": "markdown",
		   "metadata": {},
		   "source": [
			"## Example 27.02: Example_2.sce"
		   ]
		  },
  {
"cell_type": "code",
	   "execution_count": null,
	   "metadata": {
	    "collapsed": true
	   },
	   "outputs": [],
"source": [
"//Problem 27.02: For the Wien bridge shown in Figure 27.9, R2 = R3 = 30 kohm, R4 = 1 kohm and C2 = C3 = 1 nF. Determine, when the bridge is balanced, (a) the value of resistance R1, and (b) the frequency of the bridge.\n",
"\n",
"//initializing the variables:\n",
"R2 = 30000; // in ohms\n",
"R3 = 30000; // in ohms\n",
"R4 = 1000; // in ohms\n",
"C2 = 1e-9; // IN fARADS\n",
"C3 = 1e-9; // IN fARADS\n",
"\n",
"//calculation:\n",
"//the bridge is balanced\n",
"R1 = R4/((R3/R2) + (C2/C3))\n",
"//frequency, f\n",
"f = 1/(2*%pi*((C2*C3*R2*R3)^0.5))\n",
"\n",
"printf('\n\n Result \n\n')\n",
"printf('\n (a)Resistance R1 = %.0f ohm',R1)\n",
"printf('\n (b)frequency, f is %.2E Hz ',f)"
   ]
   }
,
{
		   "cell_type": "markdown",
		   "metadata": {},
		   "source": [
			"## Example 27.03: Example_3.sce"
		   ]
		  },
  {
"cell_type": "code",
	   "execution_count": null,
	   "metadata": {
	    "collapsed": true
	   },
	   "outputs": [],
"source": [
"//Problem 27.03: A Schering bridge network is as shown in Figure 27.7. Given C2 = 0.2 μF, R4 = 200 ohm, R3 = 600 ohm, C3 = 4000 pF and the supply frequency is 1.5 kHz, determine, when the bridge is balanced, (a) the value of resistance Rx, (b) the value of capacitance Cx, (c) the phase angle of the unknown arm, (d) the power factor of the unknown arm and (e) its loss angle.\n",
"\n",
"//initializing the variables:\n",
"R3 = 600; // in ohms\n",
"R4 = 200; // in ohms\n",
"C2 = 0.2e-6; // IN fARADS\n",
"C3 = 4000e-12; // IN fARADS\n",
"f = 1500; //in Hz\n",
"\n",
"//calculation:\n",
"//the bridge is balanced\n",
"//Resistance, Rx\n",
"Rx = R4*C3/C2\n",
"//Capacitance, Cx\n",
"Cx = C2*R3/R4\n",
"//Phase angle\n",
"phi = atan(1/(2*%pi*f*Cx*Rx))\n",
"phid = phi*180/%pi // in degrees\n",
"//Power factor of capacitor\n",
"Pc = cos(phi)\n",
"//Loss angle,\n",
"del = 90 - phid\n",
"\n",
"printf('\n\n Result \n\n')\n",
"printf('\n (a)Resistance Rx = %.0f ohm ',Rx)\n",
"printf('\n (b)capacitance, Cx is %.2E Farad ',Cx)\n",
"printf('\n (c)phasor diagram = %.2f° ',phid)\n",
"printf('\n (d)power factor is %.4f ',Pc)\n",
"printf('\n (e)Loss angle = %.2f° ',del)"
   ]
   }
],
"metadata": {
		  "kernelspec": {
		   "display_name": "Scilab",
		   "language": "scilab",
		   "name": "scilab"
		  },
		  "language_info": {
		   "file_extension": ".sce",
		   "help_links": [
			{
			 "text": "MetaKernel Magics",
			 "url": "https://github.com/calysto/metakernel/blob/master/metakernel/magics/README.md"
			}
		   ],
		   "mimetype": "text/x-octave",
		   "name": "scilab",
		   "version": "0.7.1"
		  }
		 },
		 "nbformat": 4,
		 "nbformat_minor": 0
}
