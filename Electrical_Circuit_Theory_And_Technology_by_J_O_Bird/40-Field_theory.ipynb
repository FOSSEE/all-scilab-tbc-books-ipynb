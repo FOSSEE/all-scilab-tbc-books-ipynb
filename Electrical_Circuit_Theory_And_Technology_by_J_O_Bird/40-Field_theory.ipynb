{
"cells": [
 {
		   "cell_type": "markdown",
	   "metadata": {},
	   "source": [
       "# Chapter 40: Field theory"
	   ]
	},
{
		   "cell_type": "markdown",
		   "metadata": {},
		   "source": [
			"## Example 40.01: Example_1.sce"
		   ]
		  },
  {
"cell_type": "code",
	   "execution_count": null,
	   "metadata": {
	    "collapsed": true
	   },
	   "outputs": [],
"source": [
"//Problem 40.01: A field plot between two metal plates is shown in Figure 40.9. The relative permeability of the dielectric is 2.8. Determine the capacitance per metre length of the system.\n",
"\n",
"//initializing the variables:\n",
"e0 = 8.85E-12; \n",
"er = 2.8;\n",
"l = 1; // in m\n",
"\n",
"//calculation: \n",
"//From Figure 40.9\n",
"m = 16; // number of parallel squares measured along each equipotential\n",
"n = 6; // the number of series squares measured along each line of force\n",
"C = e0*er*l*m/n\n",
"\n",
"printf('\n\n Result \n\n')\n",
"printf('\n capacitance is %.3E Farad.',C)"
   ]
   }
,
{
		   "cell_type": "markdown",
		   "metadata": {},
		   "source": [
			"## Example 40.02: Example_2.sce"
		   ]
		  },
  {
"cell_type": "code",
	   "execution_count": null,
	   "metadata": {
	    "collapsed": true
	   },
	   "outputs": [],
"source": [
"//Problem 40.02: A field plot for a cross-section of a concentric cable is shown in Figure 40.10. If the relative permeability of the dielectric is 3.4, determine the capacitance of a 100 m length of the cable.\n",
"\n",
"//initializing the variables:\n",
"e0 = 8.85E-12; \n",
"er = 3.4;\n",
"l = 100; // in m\n",
"\n",
"//calculation: \n",
"//From Figure 40.10\n",
"m = 13; // number of parallel squares measured along each equipotential\n",
"n = 4; // the number of series squares measured along each line of force\n",
"C = e0*er*l*m/n\n",
"\n",
"printf('\n\n Result \n\n')\n",
"printf('\n capacitance is %.3E Farad.',C)"
   ]
   }
,
{
		   "cell_type": "markdown",
		   "metadata": {},
		   "source": [
			"## Example 40.03: Example_3.sce"
		   ]
		  },
  {
"cell_type": "code",
	   "execution_count": null,
	   "metadata": {
	    "collapsed": true
	   },
	   "outputs": [],
"source": [
"//Problem 40.03: A coaxial cable has an inner core radius of 0.5 mm and an outer conductor of internal radius 6.0 mm. Determine the capacitance per metre length of the cable if the dielectric has a relative permittivity of 2.7.\n",
"\n",
"//initializing the variables:\n",
"e0 = 8.85E-12; \n",
"er = 2.7;\n",
"ri = 0.0005; // in m\n",
"ro = 0.006; // in m\n",
"\n",
"//calculation: \n",
"//capacitance C\n",
"C = 2*%pi*e0*er/(log(ro/ri))\n",
"\n",
"printf('\n\n Result \n\n')\n",
"printf('\n capacitance is %.3E Farad.',C)"
   ]
   }
,
{
		   "cell_type": "markdown",
		   "metadata": {},
		   "source": [
			"## Example 40.04: Example_4.sce"
		   ]
		  },
  {
"cell_type": "code",
	   "execution_count": null,
	   "metadata": {
	    "collapsed": true
	   },
	   "outputs": [],
"source": [
"//Problem 40.04: A single-core concentric cable has a capacitance of 80 pF per metre length. The relative permittivity of the dielectric is 3.5 and the core diameter is 8.0 mm. Determine the internal diameter of the sheath.\n",
"\n",
"//initializing the variables:\n",
"C = 80E-12; // in Farads\n",
"e0 = 8.85E-12; \n",
"er = 3.5;\n",
"d0 = 0.008; // in m\n",
"\n",
"//calculation: \n",
"//internal diameter\n",
"di = d0*(%e^(2*%pi*e0*er/C))\n",
"\n",
"printf('\n\n Result \n\n')\n",
"printf('\n internal diameter is %.5f m.',di)"
   ]
   }
,
{
		   "cell_type": "markdown",
		   "metadata": {},
		   "source": [
			"## Example 40.05: Example_5.sce"
		   ]
		  },
  {
"cell_type": "code",
	   "execution_count": null,
	   "metadata": {
	    "collapsed": true
	   },
	   "outputs": [],
"source": [
"//Problem 40.05: A concentric cable has a core diameter of 32 mm and an inner sheath diameter of 80 mm. The core potential is 40 kV and the relative permittivity of the dielectric is 3.5. Determine (a) the capacitance per kilometre length of the cable, (b) the dielectric stress at a radius of 30 mm, and (c) the maximum and minimum values of dielectric stress.\n",
"\n",
"//initializing the variables:\n",
"e0 = 8.85E-12; \n",
"er = 3.5;\n",
"di = 0.08; // in m\n",
"d0 = 0.032; // in m\n",
"r = 0.03; // in m\n",
"V = 40000; // in Volts\n",
"\n",
"//calculation: \n",
"//capacitance C\n",
"C = 2*%pi*e0*er/(log(di/d0))\n",
"//dielectric stress at radius r,\n",
"E = V/(r*log(di/d0))\n",
"//maximum dielectric stress,\n",
"Emax = V/((d0/2)*(log((di/d0))))\n",
"//minimum dielectric stress,\n",
"Emin = V/((di/2)*(log((di/d0))))\n",
"\n",
"printf('\n\n Result \n\n')\n",
"printf('\n capacitance is %.2E F/km',C*1E3)\n",
"printf('\n dielectric stress at radius r is %.2E V/m',E)\n",
"printf('\n maximum dielectric stress, is %.2E V/m minimum dielectric stress %.2E V/m',Emax, Emin)"
   ]
   }
,
{
		   "cell_type": "markdown",
		   "metadata": {},
		   "source": [
			"## Example 40.06: Example_6.sce"
		   ]
		  },
  {
"cell_type": "code",
	   "execution_count": null,
	   "metadata": {
	    "collapsed": true
	   },
	   "outputs": [],
"source": [
"//Problem 40.06: A single-core concentric cable is to be manufactured for a 60 kV, 50 Hz transmission system. The dielectric used is paper which has a maximum permissible safe dielectric stress of 10 MV/m rms and a relative permittivity of 3.5. Calculate (a) the core and inner sheath radii for the most economical cable, (b) the capacitance per metre length, and (c) the charging current per kilometre run.\n",
"\n",
"//initializing the variables:\n",
"e0 = 8.85E-12; \n",
"er = 3.5;\n",
"V = 60000; // in Volts\n",
"f = 50; // in Hz\n",
"Em = 10E6; // in V/m\n",
"\n",
"\n",
"//calculation: \n",
"//core radius, a\n",
"a = V/Em\n",
"//internal sheath radius,\n",
"b = a*%e^1\n",
"//capacitance\n",
"C = 2*%pi*e0*er/(log(b/a))\n",
"//Charging current\n",
"I = V*2*%pi*f*C\n",
"//charging current per kilometre\n",
"Ipkm = I*1000\n",
"\n",
"printf('\n\n Result \n\n')\n",
"printf('\n core radius is %.2E m and internal sheath radius %.2E m',a,b)\n",
"printf('\n capacitance is %.2E F/m',C)\n",
"printf('\n the charging current per kilometre %.2f A',Ipkm)"
   ]
   }
,
{
		   "cell_type": "markdown",
		   "metadata": {},
		   "source": [
			"## Example 40.07: Example_7.sce"
		   ]
		  },
  {
"cell_type": "code",
	   "execution_count": null,
	   "metadata": {
	    "collapsed": true
	   },
	   "outputs": [],
"source": [
"//Problem 40.07: A concentric cable has a core diameter of 25 mm and an inside sheath diameter of 80 mm. The relative permittivity of the dielectric is 2.5, the loss angle is 3.5 x 10-3 rad and the working voltage is 132 kV at 50 Hz frequency. Determine for a 1 km length of the cable (a) the capacitance, (b) the charging current and (c) the power loss.\n",
"\n",
"//initializing the variables:\n",
"e0 = 8.85E-12; \n",
"er = 2.5;\n",
"di = 0.08; // in m\n",
"d0 = 0.025; // in m\n",
"r = 1000; // in m\n",
"V = 132000; // in Volts\n",
"f = 50; // in Hz\n",
"del = 3.5E-3; // rad.\n",
"\n",
"//calculation:\n",
"//core radius, a\n",
"a = d0/2\n",
"//internal sheath radius,\n",
"b = di/2\n",
"//capacitance\n",
"C = 2*%pi*e0*er*1E3/(log(b/a))\n",
"//Charging current\n",
"I = V*2*%pi*f*C\n",
"//power loss\n",
"P = (2*%pi*f*C*tan(del))*V^2\n",
"\n",
"printf('\n\n Result \n\n')\n",
"printf('\n (a)capacitance for a 1 km length is %.2E F',C)\n",
"printf('\n (b)the charging current %.2E A/km',I)\n",
"printf('\n (c)power loss %.0f W',P)"
   ]
   }
,
{
		   "cell_type": "markdown",
		   "metadata": {},
		   "source": [
			"## Example 40.08: Example_8.sce"
		   ]
		  },
  {
"cell_type": "code",
	   "execution_count": null,
	   "metadata": {
	    "collapsed": true
	   },
	   "outputs": [],
"source": [
"//Problem 40.08: A concentric cable has a core diameter of 20 mm and a sheath inside diameter of 60 mm. The permittivity of the dielectric is 3.2. Using three equipotential surfaces within the dielectric, determine the capacitance of the cable per metre length by the method of curvilinear squares. Draw the field plot for the cable.\n",
"\n",
"//initializing the variables:\n",
"e0 = 8.85E-12; \n",
"er = 3.2;\n",
"di = 0.06; // in m\n",
"d0 = 0.020; // in m\n",
"\n",
"//calculation:\n",
"//core radius, a\n",
"a = d0/2\n",
"//internal sheath radius,\n",
"b = di/2\n",
"//capacitance\n",
"C = 2*%pi*e0*er/(log(b/a))\n",
"\n",
"printf('\n\n Result \n\n')\n",
"printf('\n capacitance per m of length is %.2E F',C)"
   ]
   }
,
{
		   "cell_type": "markdown",
		   "metadata": {},
		   "source": [
			"## Example 40.09: Example_9.sce"
		   ]
		  },
  {
"cell_type": "code",
	   "execution_count": null,
	   "metadata": {
	    "collapsed": true
	   },
	   "outputs": [],
"source": [
"//Problem 40.09: Two parallel wires, each of diameter 5 mm, are uniformly spaced in air at a distance of 50 mm between centres. Determine the capacitance of the line if the total length is 200 m.\n",
"\n",
"//initializing the variables:\n",
"e0 = 8.85E-12; \n",
"er = 1;\n",
"D = 0.05; // in m\n",
"d = 0.005; // in m\n",
"l = 200; // in m\n",
"\n",
"//calculation:\n",
"//capacitance\n",
"C = %pi*e0*er/(log(D/(d/2)))\n",
"//capacitance of a 200 m length\n",
"C200 = C*l\n",
"\n",
"printf('\n\n Result \n\n')\n",
"printf('\n capacitance of a 200 m length is %.2E F',C200)"
   ]
   }
,
{
		   "cell_type": "markdown",
		   "metadata": {},
		   "source": [
			"## Example 40.10: Example_10.sce"
		   ]
		  },
  {
"cell_type": "code",
	   "execution_count": null,
	   "metadata": {
	    "collapsed": true
	   },
	   "outputs": [],
"source": [
"//Problem 40.10: A single-phase circuit is composed of two parallel conductors, each of radius 4 mm, spaced 1.2 m apart in air. The p.d. between the conductors at a frequency of 50 Hz is 15 kV. Determine, for a 1 km length of line, (a) the capacitance of the conductors, (b) the value of charge carried by each conductor, and (c) the charging current.\n",
"\n",
"//initializing the variables:\n",
"e0 = 8.85E-12; \n",
"er = 1;\n",
"D = 1.2; // in m\n",
"r = 0.004; // in m\n",
"f = 50; // in Hz\n",
"V = 15000; // in Volts\n",
"l = 1000; // in m\n",
"\n",
"//calculation:\n",
"//capacitance\n",
"C = %pi*e0*er/(log(D/r))\n",
"//capacitance of a 1 km length\n",
"Cpkm = C*l\n",
"//Charge Q\n",
"Q = Cpkm*V\n",
"//Charging current\n",
"I = V*2*%pi*f*Cpkm\n",
"\n",
"printf('\n\n Result \n\n')\n",
"printf('\n capacitance per 1km length is %.2E F',Cpkm)\n",
"printf('\n Charge Q is %.2E C',Q)\n",
"printf('\n Charging current is %.3f A',I)"
   ]
   }
,
{
		   "cell_type": "markdown",
		   "metadata": {},
		   "source": [
			"## Example 40.11: Example_11.sce"
		   ]
		  },
  {
"cell_type": "code",
	   "execution_count": null,
	   "metadata": {
	    "collapsed": true
	   },
	   "outputs": [],
"source": [
"//Problem 40.11:The charging current for an 800 m run of isolated twin line is not to exceed 15 mA. The voltage between the lines is 10 kV at 50 Hz. If the line is air-insulated, determine (a) the maximum value required for the capacitance per metre length, and (b) the maximum diameter of each conductor if their distance between centres is 1.25 m.\n",
"\n",
"//initializing the variables:\n",
"e0 = 8.85E-12; \n",
"er = 1;\n",
"I = 0.015; // in Amperes\n",
"d = 1.25; // in m\n",
"r = 800; // in m\n",
"f = 50; // in Hz\n",
"V = 10000; // in Volts\n",
"\n",
"//calculation:\n",
"//capacitance\n",
"C = I/(2*%pi*f*V)\n",
"//required maximum value of capacitance\n",
"Cmax = C/r\n",
"//maximum diameter of each conductor\n",
"D = 2*d/(%e^(%pi*e0*er/Cmax))\n",
"\n",
"printf('\n\n Result \n\n')\n",
"printf('\n required maximum value of capacitance is %.2E F/m',Cmax)\n",
"printf('\nthe maximum diameter of each conductor is %.4f m',D)"
   ]
   }
,
{
		   "cell_type": "markdown",
		   "metadata": {},
		   "source": [
			"## Example 40.12: Example_12.sce"
		   ]
		  },
  {
"cell_type": "code",
	   "execution_count": null,
	   "metadata": {
	    "collapsed": true
	   },
	   "outputs": [],
"source": [
"//Problem 40.12: Determine the energy stored in a 10 nF capacitor when charged to 1 kV, and the average power developed if this energy is dissipated in 10 μs.\n",
"\n",
"//initializing the variables:\n",
"e0 = 8.85E-12; \n",
"er = 1;\n",
"C = 10E-9; // in Farad\n",
"V = 1000; // in Volts\n",
"t = 10E-6; // in sec\n",
"\n",
"//calculation:\n",
"//energy stored,Wf\n",
"Wf = C*V*V/2\n",
"//average power developed\n",
"Pav = Wf/t\n",
"\n",
"printf('\n\n Result \n\n')\n",
"printf('\n the energy stored is %.2E J',Wf)\n",
"printf('\nthe average power developed is %.0f W',Pav)"
   ]
   }
,
{
		   "cell_type": "markdown",
		   "metadata": {},
		   "source": [
			"## Example 40.13: Example_13.sce"
		   ]
		  },
  {
"cell_type": "code",
	   "execution_count": null,
	   "metadata": {
	    "collapsed": true
	   },
	   "outputs": [],
"source": [
"//Problem 40.13: A capacitor is charged with 5 mC. If the energy stored is 625 mJ, determine (a) the voltage across the plates and (b) the capacitance of the capacitor.\n",
"\n",
"//initializing the variables:\n",
"e0 = 8.85E-12; \n",
"er = 1;\n",
"Q = 5E-3; // in Coulomb\n",
"W = 0.625; // in Joules\n",
"\n",
"//calculation:\n",
"//voltage across the plates\n",
"V = 2*W/Q\n",
"//Capacitance C\n",
"C = Q/V\n",
"\n",
"printf('\n\n Result \n\n')\n",
"printf('\n voltage across the plates is %.0f V',V)\n",
"printf('\n Capacitance C is %.2E F',C)"
   ]
   }
,
{
		   "cell_type": "markdown",
		   "metadata": {},
		   "source": [
			"## Example 40.14: Example_14.sce"
		   ]
		  },
  {
"cell_type": "code",
	   "execution_count": null,
	   "metadata": {
	    "collapsed": true
	   },
	   "outputs": [],
"source": [
"//Problem 40.14: A ceramic capacitor is to be constructed to have a capacitance of 0.01 μF and to have a steady working potential of 2.5 kV maximum. Allowing a safe value of field stress of 10 MV/m, determine (a) the required thickness of the ceramic dielectric, (b) the area of plate required if the relative permittivity of the ceramic is 10, and (c) the maximum energy stored by the capacitor.\n",
"\n",
"//initializing the variables:\n",
"e0 = 8.85E-12; \n",
"er = 10;\n",
"C = 0.01E-6; // in Farad\n",
"E = 10E6; // in V/m\n",
"V = 2500; // in Volts\n",
"\n",
"//calculation:\n",
"//thickness of ceramic dielectric,\n",
"d = V/E\n",
"//cross-sectional area of plate\n",
"A = C*d/(e0*er)\n",
"//Maximum energy stored,\n",
"W = C*V*V/2\n",
"\n",
"printf('\n\n Result \n\n')\n",
"printf('\n thickness of ceramic dielectric is %.2E m',d)\n",
"printf('\n cross-sectional area of plate, is %.4f m2',A)\n",
"printf('\n Maximum energy stored is %.4f J',W)"
   ]
   }
,
{
		   "cell_type": "markdown",
		   "metadata": {},
		   "source": [
			"## Example 40.15: Example_15.sce"
		   ]
		  },
  {
"cell_type": "code",
	   "execution_count": null,
	   "metadata": {
	    "collapsed": true
	   },
	   "outputs": [],
"source": [
"//Problem 40.15: A 400 pF capacitor is charged to a p.d. of 100 V. The dielectric has a cross-sectional area of 200 cm2 and a relative permittivity of 2.3. Calculate the energy stored per cubic metre of the dielectric.\n",
"\n",
"//initializing the variables:\n",
"e0 = 8.85E-12; \n",
"er = 2.3;\n",
"A = 0.02; // in m2\n",
"C = 400E-12; // in Farad\n",
"V = 100; // in Volts\n",
"\n",
"//calculation:\n",
"//energy stored per unit volume of dielectric,\n",
"W = ((C*V)^2)/(2*e0*er*A^2)\n",
"\n",
"printf('\n\n Result \n\n')\n",
"printf('\n energy stored per unit volume of dielectric is %.4f J/m3',W)"
   ]
   }
,
{
		   "cell_type": "markdown",
		   "metadata": {},
		   "source": [
			"## Example 40.16: Example_16.sce"
		   ]
		  },
  {
"cell_type": "code",
	   "execution_count": null,
	   "metadata": {
	    "collapsed": true
	   },
	   "outputs": [],
"source": [
"//Problem 40.16: A coaxial cable has an inner core of radius 1.0 mm and an outer sheath of internal radius 4.0 mm. Determine the inductance of the cable per metre length. Assume that the relative permeability is unity.\n",
"\n",
"//initializing the variables:\n",
"u0 = 4*%pi*1E-7; \n",
"ur = 1;\n",
"a = 0.001; // in m\n",
"b = 0.004; // in m\n",
"\n",
"//calculation:\n",
"//inductance L\n",
"L = (u0*ur/(2*%pi))*(0.25 + log(b/a))\n",
"\n",
"printf('\n\n Result \n\n')\n",
"printf('\n inductance L is %.2E H/m',L)"
   ]
   }
,
{
		   "cell_type": "markdown",
		   "metadata": {},
		   "source": [
			"## Example 40.17: Example_17.sce"
		   ]
		  },
  {
"cell_type": "code",
	   "execution_count": null,
	   "metadata": {
	    "collapsed": true
	   },
	   "outputs": [],
"source": [
"//Problem 40.17: A concentric cable has a core diameter of 10 mm. The inductance of the cable is 4 x 10^-7 H/m. Ignoring inductance due to internal linkages, determine the diameter of the sheath. Assume that the relative permeability is 1.\n",
"\n",
"//initializing the variables:\n",
"u0 = 4*%pi*1E-7; \n",
"ur = 1;\n",
"da = 0.010; // in m\n",
"L = 4E-7; // in H/m\n",
"\n",
"//calculation:\n",
"//diameter of the sheath\n",
"db = da*(%e^(L/(u0*ur/(2*%pi))))\n",
"\n",
"printf('\n\n Result \n\n')\n",
"printf('\n diameter of the sheath is %.4f m',db)"
   ]
   }
,
{
		   "cell_type": "markdown",
		   "metadata": {},
		   "source": [
			"## Example 40.18: Example_18.sce"
		   ]
		  },
  {
"cell_type": "code",
	   "execution_count": null,
	   "metadata": {
	    "collapsed": true
	   },
	   "outputs": [],
"source": [
"//Problem 40.18: A coaxial cable 7.5 km long has a core 10 mm diameter and a sheath 25 mm diameter, the sheath having negligible thickness. Determine for the cable (a) the inductance, assuming nonmagnetic materials, and (b) the capacitance, assuming a dielectric of relative permittivity 3.\n",
"\n",
"//initializing the variables:\n",
"u0 = 4*%pi*1E-7; \n",
"ur = 1;\n",
"e0 = 8.85E-12;\n",
"er = 3;\n",
"da = 0.010; // in m\n",
"db = 0.025; // in m\n",
"l = 7500; // in m\n",
"\n",
"//calculation:\n",
"//inductance per metre length\n",
"L = (u0*ur/(2*%pi))*(0.25 + log(db/da))\n",
"//Since the cable is 7500 m long,\n",
"L7500 = L*7500\n",
"//capacitance C\n",
"C = 2*%pi*e0*er/(log(db/da))\n",
"////Since the cable is 7500 m long,\n",
"C7500 = C*7500\n",
"\n",
"printf('\n\n Result \n\n')\n",
"printf('\ninductance is %.5f H',L7500)\n",
"printf('\ncapCItance is %.2E F',C7500)"
   ]
   }
,
{
		   "cell_type": "markdown",
		   "metadata": {},
		   "source": [
			"## Example 40.19: Example_19.sce"
		   ]
		  },
  {
"cell_type": "code",
	   "execution_count": null,
	   "metadata": {
	    "collapsed": true
	   },
	   "outputs": [],
"source": [
"//Problem 40.19: A single-phase power line comprises two conductors each with a radius 8.0 mm and spaced 1.2 m apart in air. Determine the inductance of the line per metre length ignoring internal linkages. Assume the relative permeability ur = 1.\n",
"\n",
"//initializing the variables:\n",
"u0 = 4*%pi*1E-7; \n",
"ur = 1;\n",
"e0 = 8.85E-12;\n",
"er = 3;\n",
"D = 1.2; // in m\n",
"a = 0.008; // in m\n",
"\n",
"//calculation:\n",
"//inductance per metre length\n",
"L = (u0*ur/(%pi))*(log(D/a))\n",
"\n",
"printf('\n\n Result \n\n')\n",
"printf('\ninductance is %.2E H/m',L)"
   ]
   }
,
{
		   "cell_type": "markdown",
		   "metadata": {},
		   "source": [
			"## Example 40.20: Example_20.sce"
		   ]
		  },
  {
"cell_type": "code",
	   "execution_count": null,
	   "metadata": {
	    "collapsed": true
	   },
	   "outputs": [],
"source": [
"//Problem 40.20: Determine (a) the loop inductance, and (b) the capacitance of a 1 km length of single-phase twin line having conductors of diameter 10 mm and spaced 800 mm apart in air.\n",
"\n",
"//initializing the variables:\n",
"u0 = 4*%pi*1E-7; \n",
"ur = 1;\n",
"e0 = 8.85E-12;\n",
"er = 1;\n",
"l = 1000; // in m\n",
"D = 0.8; // in m\n",
"a = 0.01/2; // in m\n",
"\n",
"//calculation:\n",
"//inductance per metre length\n",
"L = (u0*ur/(%pi))*(0.25 + log(D/a))\n",
"//Since the cable is 1000 m long,\n",
"L1k = L*l\n",
"//capacitance C\n",
"C = %pi*e0*er/(log(D/a))\n",
"////Since the cable is 1000 m long,\n",
"C1k = C*l\n",
"\n",
"printf('\n\n Result \n\n')\n",
"printf('\ninductance is %.5f H',L1k)\n",
"printf('\ncapcitance is %.2E F',C1k)"
   ]
   }
,
{
		   "cell_type": "markdown",
		   "metadata": {},
		   "source": [
			"## Example 40.21: Example_21.sce"
		   ]
		  },
  {
"cell_type": "code",
	   "execution_count": null,
	   "metadata": {
	    "collapsed": true
	   },
	   "outputs": [],
"source": [
"//Problem 40.21: The total loop inductance of an isolated twin power line is 2.185 μH/m. The diameter of each conductor is 12 mm. Determine the distance between their centres.\n",
"\n",
"//initializing the variables:\n",
"L = 2.185E-6; // in H/m\n",
"u0 = 4*%pi*1E-7; \n",
"ur = 1;\n",
"a = 0.012/2; // in m\n",
"\n",
"//calculation:\n",
"//distance D\n",
"D = a*%e^((L*%pi)/(u0*ur) - 0.25)\n",
"\n",
"printf('\n\n Result \n\n')\n",
"printf('\ndistance D is %.2f m',D)"
   ]
   }
,
{
		   "cell_type": "markdown",
		   "metadata": {},
		   "source": [
			"## Example 40.22: Example_22.sce"
		   ]
		  },
  {
"cell_type": "code",
	   "execution_count": null,
	   "metadata": {
	    "collapsed": true
	   },
	   "outputs": [],
"source": [
"//Problem 40.22: Calculate the value of the energy stored when a current of 50 mA is flowing in a coil of inductance 200 mH. What value of current would double the energy stored?\n",
"\n",
"//initializing the variables:\n",
"L = 0.2; // in H\n",
"I = 0.05; // in Amperes\n",
"u0 = 4*%pi*1E-7; \n",
"ur = 1;\n",
"\n",
"//calculation:\n",
"//energy stored in inductor\n",
"W = L*I*I/2\n",
"//current I\n",
"I = (2*2*W/L)^0.5\n",
"\n",
"printf('\n\n Result \n\n')\n",
"printf('\nenergy stored in inductor is %.2E J',W)\n",
"printf('\ncurrent I is %.2E A',I)"
   ]
   }
,
{
		   "cell_type": "markdown",
		   "metadata": {},
		   "source": [
			"## Example 40.23: Example_23.sce"
		   ]
		  },
  {
"cell_type": "code",
	   "execution_count": null,
	   "metadata": {
	    "collapsed": true
	   },
	   "outputs": [],
"source": [
"//Problem 40.23: The airgap of a moving coil instrument is 2.0 mm long and has a cross-sectional area of 500 mm2. If the flux density is 50 mT, determine the total energy stored in the magnetic field of the airgap.\n",
"\n",
"//initializing the variables:\n",
"B = 0.05; // in Tesla\n",
"A = 500E-6; // in m2\n",
"l = 0.002; // in m\n",
"u0 = 4*%pi*1E-7; \n",
"\n",
"//calculation:\n",
"//energy stored\n",
"W = (B^2)/(2*u0)\n",
"//Volume of airgap\n",
"v = A*l\n",
"//energy stored in airgap\n",
"W = W*v\n",
"\n",
"printf('\n\n Result \n\n')\n",
"printf('\nenergy stored in the airgap is %.2E J',W)"
   ]
   }
,
{
		   "cell_type": "markdown",
		   "metadata": {},
		   "source": [
			"## Example 40.24: Example_24.sce"
		   ]
		  },
  {
"cell_type": "code",
	   "execution_count": null,
	   "metadata": {
	    "collapsed": true
	   },
	   "outputs": [],
"source": [
"//Problem 40.24: Determine the strength of a uniform electric field if it is to have the same energy as that established by a magnetic field of flux density 0.8 T. Assume that the relative permeability of the magnetic field and the relative permittivity of the electric field are both unity.\n",
"\n",
"//initializing the variables:\n",
"B = 0.8; // in Tesla\n",
"A = 500E-6; // in m2\n",
"l = 0.002; // in m\n",
"u0 = 4*%pi*1E-7; \n",
"ur = 1;\n",
"e0 = 8.85E-12;\n",
"er = 1;\n",
"\n",
"//calculation:\n",
"//energy stored in mag. field\n",
"W = (B^2)/(2*u0)\n",
"//electric field\n",
"E = (2*W/(e0*er))^0.5\n",
"\n",
"printf('\n\n Result \n\n')\n",
"printf('\nelectric field strength is %.2E V/m',E)"
   ]
   }
],
"metadata": {
		  "kernelspec": {
		   "display_name": "Scilab",
		   "language": "scilab",
		   "name": "scilab"
		  },
		  "language_info": {
		   "file_extension": ".sce",
		   "help_links": [
			{
			 "text": "MetaKernel Magics",
			 "url": "https://github.com/calysto/metakernel/blob/master/metakernel/magics/README.md"
			}
		   ],
		   "mimetype": "text/x-octave",
		   "name": "scilab",
		   "version": "0.7.1"
		  }
		 },
		 "nbformat": 4,
		 "nbformat_minor": 0
}
