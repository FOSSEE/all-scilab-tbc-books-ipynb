{
"cells": [
 {
		   "cell_type": "markdown",
	   "metadata": {},
	   "source": [
       "# Chapter 16: Single phase parallel ac circuits"
	   ]
	},
{
		   "cell_type": "markdown",
		   "metadata": {},
		   "source": [
			"## Example 16.01: Example_1.sce"
		   ]
		  },
  {
"cell_type": "code",
	   "execution_count": null,
	   "metadata": {
	    "collapsed": true
	   },
	   "outputs": [],
"source": [
"//Problem 16.01: A 20 ohm resistor is connected in parallel with an inductance of 2.387 mH across a 60 V, 1 kHz supply. Calculate (a) the current in each branch, (b) the supply current, (c) the circuit phase angle, (d) the circuit impedance, and (e) the power consumed.\n",
"\n",
"//initializing the variables:\n",
"R = 20; // in Ohms\n",
"L = 2.387E-3; // in Henry\n",
"V = 60; // in Volts\n",
"f = 1000; // in Hz\n",
"\n",
"//calculation:\n",
"IR = V/R\n",
"XL = 2*%pi*f*L\n",
"IL = V/XL\n",
"I = (IR^2 + IL^2)^0.5\n",
"phi = atan(IL/IR)\n",
"phid = phi*180/%pi\n",
"Z = V/I\n",
"P = V*I*cos(phi)\n",
"\n",
"printf('\n\n Result \n\n')\n",
"printf('\n (a)Current through resistor is %.0f A  and current through Inductor is %.0f A',IR, IL)\n",
"printf('\n (b)current, I = %.0f A ',I)\n",
"printf('\n (c)phase angle = %.2f°',phid)\n",
"printf('\n (d)Impedance Z = %.0f Ohm ',Z)\n",
"printf('\n (e)Power consumed = %.0f Watt ',P)"
   ]
   }
,
{
		   "cell_type": "markdown",
		   "metadata": {},
		   "source": [
			"## Example 16.02: Example_2.sce"
		   ]
		  },
  {
"cell_type": "code",
	   "execution_count": null,
	   "metadata": {
	    "collapsed": true
	   },
	   "outputs": [],
"source": [
"//Problem 16.02: A 30 μF capacitor is connected in parallel with an 80 ohms resistor across a 240 V, 50 Hz supply. Calculate (a) the current in each branch, (b) the supply current, (c) the circuit phase angle, (d) the circuit impedance, (e) the power dissipated, and (f) the apparent power.\n",
"\n",
"//initializing the variables:\n",
"R = 80; // in Ohms\n",
"C = 30E-6; // in Farads\n",
"V = 240; // in Volts\n",
"f = 50; // in Hz\n",
"\n",
"//calculation:\n",
"IR = V/R\n",
"Xc = 1/(2*%pi*f*C)\n",
"Ic = V/Xc\n",
"I = (IR^2 + Ic^2)^0.5\n",
"phi = atan(Ic/IR)\n",
"phid = phi*180/%pi\n",
"Z = V/I\n",
"P = V*I*cos(phi)\n",
"S = V*I\n",
"\n",
"printf('\n\n Result \n\n')\n",
"printf('\n (a)Current through resistor is %.0f A  and current through capacitor is %.3f A',IR, Ic)\n",
"printf('\n (b)current, I = %.3f A ',I)\n",
"printf('\n (c)phase angle = %.2f°',phid)\n",
"printf('\n (d)Impedance Z = %.2f Ohm ',Z)\n",
"printf('\n (e)Power consumed = %.0f Watt ',P)\n",
"printf('\n (f)apparent Power = %.1f VA ',S)"
   ]
   }
,
{
		   "cell_type": "markdown",
		   "metadata": {},
		   "source": [
			"## Example 16.03: Example_3.sce"
		   ]
		  },
  {
"cell_type": "code",
	   "execution_count": null,
	   "metadata": {
	    "collapsed": true
	   },
	   "outputs": [],
"source": [
"//Problem 16.03: A capacitor C is connected in parallel with a resistor R across a 120 V, 200 Hz supply. The supply current is 2 A at a power factor of 0.6 leading. Determine the values of C and R.\n",
"\n",
"//initializing the variables:\n",
"pf = 0.6; // power factor\n",
"V = 120; // in Volts\n",
"f = 200; // in Hz\n",
"I = 2; // in Amperes\n",
"\n",
"//calculation:\n",
"phi = acos(pf)\n",
"phid = phi*180/%pi\n",
"IR = I*cos(phi)\n",
"Ic = I*sin(phi)\n",
"R = V/IR\n",
"C = Ic/(2*%pi*f*V)\n",
"\n",
"printf('\n\n Result \n\n')\n",
"printf('\n (a)Resistance R = %.0f Ohm ',R)\n",
"printf('\n (b)Capacitance,C = %.2E F ',C)"
   ]
   }
,
{
		   "cell_type": "markdown",
		   "metadata": {},
		   "source": [
			"## Example 16.04: Example_4.sce"
		   ]
		  },
  {
"cell_type": "code",
	   "execution_count": null,
	   "metadata": {
	    "collapsed": true
	   },
	   "outputs": [],
"source": [
"//Problem 16.04: A pure inductance of 120 mH is connected in parallel with a 25 μF capacitor and the network is connected to a 100 V, 50 Hz supply. Determine (a) the branch currents, (b) the supply current and its phase angle, (c) the circuit impedance, and (d) the power consumed.\n",
"\n",
"//initializing the variables:\n",
"C = 25E-6; // in Farads\n",
"L = 120E-3; // in Henry\n",
"V = 100; // in Volts\n",
"f = 50; // in Hz\n",
"\n",
"//calculation:\n",
"XL = 2*%pi*f*L\n",
"IL = V/XL\n",
"Xc = 1/(2*%pi*f*C)\n",
"Ic = V/Xc\n",
"//IL and Ic are anti-phase. Hence supply current,\n",
"I = IL - Ic\n",
"//the current lags the supply voltage V by 90°\n",
"phi = %pi/2\n",
"phid = phi*180/%pi\n",
"Z = V/I\n",
"P = V*I*cos(phi)\n",
"\n",
"printf('\n\n Result \n\n')\n",
"printf('\n (a)Current through Inductor is %.3f A  and current through capacitor is %.3f A',IL, Ic)\n",
"printf('\n (b)current, I = %.3f A ',I)\n",
"printf('\n (c)phase angle = %.0f°',phid)\n",
"printf('\n (d)Impedance Z = %.2f Ohm ',Z)\n",
"printf('\n (e)Power consumed = %.0f Watt ',P)"
   ]
   }
,
{
		   "cell_type": "markdown",
		   "metadata": {},
		   "source": [
			"## Example 16.05: Example_5.sce"
		   ]
		  },
  {
"cell_type": "code",
	   "execution_count": null,
	   "metadata": {
	    "collapsed": true
	   },
	   "outputs": [],
"source": [
"//Problem 16.05: Repeat Problem 16.04 for the condition when the frequency is changed to 150 Hz.\n",
"\n",
"//initializing the variables:\n",
"C = 25E-6; // in Farads\n",
"L = 120E-3; // in Henry\n",
"V = 100; // in Volts\n",
"f = 150; // in Hz\n",
"\n",
"//calculation:\n",
"XL = 2*%pi*f*L\n",
"IL = V/XL\n",
"Xc = 1/(2*%pi*f*C)\n",
"Ic = V/Xc\n",
"//IL and Ic are anti-phase. Hence supply current,\n",
"I = Ic - IL\n",
"//the current leads the supply voltage V by 90°\n",
"phi = %pi/2\n",
"phid = phi*180/%pi\n",
"Z = V/I\n",
"P = V*I*cos(phi)\n",
"\n",
"printf('\n\n Result \n\n')\n",
"printf('\n (a)Current through Inductor is %.3f A  and current through capacitor is %.3f A',IL, Ic)\n",
"printf('\n (b)current, I = %.3f A ',I)\n",
"printf('\n (c)phase angle = %.0f°',phid)\n",
"printf('\n (d)Impedance Z = %.2f Ohm ',Z)\n",
"printf('\n (e)Power consumed = %.0f Watt ',P)"
   ]
   }
,
{
		   "cell_type": "markdown",
		   "metadata": {},
		   "source": [
			"## Example 16.06: Example_6.sce"
		   ]
		  },
  {
"cell_type": "code",
	   "execution_count": null,
	   "metadata": {
	    "collapsed": true
	   },
	   "outputs": [],
"source": [
"//Problem 16.06: A coil of inductance 159.2 mH and resistance 40 ohm is connected in parallel with a 30 μF capacitor across a 240 V, 50 Hz supply. Calculate (a) the current in the coil and its phase angle, (b) the current in the capacitor and its phase angle, (c) the supply current and its phase angle,(d) the circuit impedance, (e) the power consumed, (f) the apparent power, and (g) the reactive power. Draw the phasor diagram.\n",
"\n",
"//initializing the variables:\n",
"C = 30E-6; // in Farads\n",
"R = 40; // in Ohms\n",
"L = 159.2E-3; // in Henry\n",
"V = 240; // in Volts\n",
"f = 50; // in Hz\n",
"\n",
"//calculation:\n",
"XL = 2*%pi*f*L\n",
"Z1 = (R^2 + XL^2)^0.5\n",
"ILR = V/Z1\n",
"phi1 = atan(XL/R)\n",
"phi1d = phi1*180/%pi\n",
"Xc = 1/(2*%pi*f*C)\n",
"Ic = V/Xc\n",
"phi2 = %pi/2\n",
"phi2d = phi2*180/%pi\n",
"Ih = ILR*cos(phi1) + Ic*cos(phi2)\n",
"Iv = -1*ILR*sin(phi1) + Ic*sin(phi2)\n",
"I = (Ih^2 + Iv^2)^0.5\n",
"phi = atan(abs(Iv)/Ih)\n",
"Z = V/I\n",
"P = V*I*cos(phi)\n",
"phid = phi*180/%pi\n",
"S = V*I\n",
"Q = V*I*sin(phi)\n",
"\n",
"printf('\n\n Result \n\n')\n",
"printf('\n (a)Current through coil is %.3f A and lagged by phase angle is %.2f°',ILR,phi1d)\n",
"printf('\n (b)Current through capacitor is %.3f A and lead by phase angle is %.0f°',Ic,phi2d)\n",
"printf('\n (c)supply Current is %.3f A and lagged by phase angle is %.2f°',I,phid)\n",
"printf('\n (d)Impedance Z = %.2f Ohm ',Z)\n",
"printf('\n (e)Power consumed = %.0f Watt ',P)\n",
"printf('\n (f)apparent Power = %.1f VA ',S)\n",
"printf('\n (g)reactive Power = %.1f var ',Q)"
   ]
   }
,
{
		   "cell_type": "markdown",
		   "metadata": {},
		   "source": [
			"## Example 16.07: Example_7.sce"
		   ]
		  },
  {
"cell_type": "code",
	   "execution_count": null,
	   "metadata": {
	    "collapsed": true
	   },
	   "outputs": [],
"source": [
"//Problem 16.07: A coil of inductance 0.12 H and resistance 3 kohm is connected in parallel with a 0.02 μF capacitor and is supplied at 40 V at a frequency of 5 kHz. Determine (a) the current in the coil, and (b) the current in the capacitor. (c) Draw to scale the phasor diagram and measure the supply current and its phase angle; check the answer by calculation. Determine (d) the circuit impedance and (e) the power consumed.\n",
"\n",
"//initializing the variables:\n",
"C = 0.02E-6; // in Farads\n",
"R = 3000; // in Ohms\n",
"L = 120E-3; // in Henry\n",
"V = 40; // in Volts\n",
"f = 5000; // in Hz\n",
"\n",
"//calculation:\n",
"XL = 2*%pi*f*L\n",
"Z1 = (R^2 + XL^2)^0.5\n",
"ILR = V/Z1\n",
"phi1 = atan(XL/R)\n",
"phi1d = phi1*180/%pi\n",
"Xc = 1/(2*%pi*f*C)\n",
"Ic = V/Xc\n",
"phi2 = %pi/2\n",
"phi2d = phi2*180/%pi\n",
"Ih = ILR*cos(phi1) + Ic*cos(phi2)\n",
"Iv = -1*ILR*sin(phi1) + Ic*sin(phi2)\n",
"I = (Ih^2 + Iv^2)^0.5\n",
"phi = atan((Iv)/Ih)\n",
"phid = phi*180/%pi\n",
"Z = V/I\n",
"P = V*I*cos(phi)\n",
"\n",
"printf('\n\n Result \n\n')\n",
"printf('\n (a)Current through coil is %.5f A and lagged by phase angle is %.2f°',ILR,phi1d)\n",
"printf('\n (b)Current through capacitor is %.5f A and lead by phase angle is %.0f°',Ic,phi2d)\n",
"printf('\n (c)supply Current is %.5f A and lagged by phase angle is %.2f°',I,phid)\n",
"printf('\n (d)Impedance Z = %.2f Ohm ',Z)\n",
"printf('\n (e)Power consumed = %.4f Watt ',P)"
   ]
   }
,
{
		   "cell_type": "markdown",
		   "metadata": {},
		   "source": [
			"## Example 16.08: Example_8.sce"
		   ]
		  },
  {
"cell_type": "code",
	   "execution_count": null,
	   "metadata": {
	    "collapsed": true
	   },
	   "outputs": [],
"source": [
"//Problem 16.08: A pure inductance of 150 mH is connected in parallel with a 40 μF capacitor across a 50 V, variable frequency supply. Determine (a) the resonant frequency of the circuit and (b) the current circulating in the capacitor and inductance at resonance.\n",
"\n",
"//initializing the variables:\n",
"C = 40E-6; // in Farads\n",
"R = 0; // in Ohms\n",
"L = 150E-3; // in Henry\n",
"V = 50; // in Volts\n",
"\n",
"//calculation:\n",
"fr = ((1/(L*C) - R*R/(L*L))^0.5)/(2*%pi)\n",
"Xc = 1/(2*%pi*fr*C)\n",
"Icirc = V/Xc\n",
"\n",
"printf('\n\n Result \n\n')\n",
"printf('\n (a)Parallel resonant frequency, fr = %.2f Hz ',fr)\n",
"printf('\n (b)Current circulating in L and C at resonance = %.3f A ',Icirc)"
   ]
   }
,
{
		   "cell_type": "markdown",
		   "metadata": {},
		   "source": [
			"## Example 16.09: Example_9.sce"
		   ]
		  },
  {
"cell_type": "code",
	   "execution_count": null,
	   "metadata": {
	    "collapsed": true
	   },
	   "outputs": [],
"source": [
"//Problem 16.09: A coil of inductance 0.20 H and resistance 60 ohm is connected in parallel with a 20 μF capacitor across a 20 V, variable frequency supply. Calculate (a) the resonant frequency, (b) the dynamic resistance, (c) the current at resonance and (d) the circuit Q-factor at resonance.\n",
"\n",
"//initializing the variables:\n",
"C = 20E-6; // in Farads\n",
"R = 60; // in Ohms\n",
"L = 200E-3; // in Henry\n",
"V = 20; // in Volts\n",
"\n",
"//calculation:\n",
"fr = ((1/(L*C) - R*R/(L*L))^0.5)/(2*%pi)\n",
"Rd = L/(R*C)\n",
"Ir = V/Rd\n",
"Q = 2*%pi*fr*L/R\n",
"\n",
"printf('\n\n Result \n\n')\n",
"printf('\n (a)Parallel resonant frequency, fr = %.2f Hz ',fr)\n",
"printf('\n (b)the dynamic resistance,RD = %.1f ohm ',Rd)\n",
"printf('\n (c)Current at resonance = %.2f A ',Ir)\n",
"printf('\n (d)Q-factor = %.2f',Q)"
   ]
   }
,
{
		   "cell_type": "markdown",
		   "metadata": {},
		   "source": [
			"## Example 16.10: Example_10.sce"
		   ]
		  },
  {
"cell_type": "code",
	   "execution_count": null,
	   "metadata": {
	    "collapsed": true
	   },
	   "outputs": [],
"source": [
"//Problem 16.10: A coil of inductance 100 mH and resistance 800 ohm is connected in parallel with a variable capacitor across a 12 V, 5 kHz supply. Determine for the condition when the supply current is a minimum: (a) the capacitance of the capacitor, (b) the dynamic resistance, (c) the supply current, and (d) the Q-factor.\n",
"\n",
"//initializing the variables:\n",
"fr = 5000; // in ohm\n",
"R = 800; // in Ohms\n",
"L = 100E-3; // in Henry\n",
"V = 12; // in Volts\n",
"\n",
"//calculation:\n",
"C = 1/(L*{(2*%pi*fr)^2 + R*R/(L*L)})\n",
"Rd = L/(R*C)\n",
"Ir = V/Rd\n",
"Q = 2*%pi*fr*L/R\n",
"\n",
"printf('\n\n Result \n\n')\n",
"printf('\n (a)capacitance, C = %.3E F ',C)\n",
"printf('\n (b)the dynamic resistance,RD = %.0f ohm ',Rd)\n",
"printf('\n (c)Current at resonance = %.3E A ',Ir)\n",
"printf('\n (d)Q-factor = %.2f ',Q)"
   ]
   }
,
{
		   "cell_type": "markdown",
		   "metadata": {},
		   "source": [
			"## Example 16.11: Example_11.sce"
		   ]
		  },
  {
"cell_type": "code",
	   "execution_count": null,
	   "metadata": {
	    "collapsed": true
	   },
	   "outputs": [],
"source": [
"//Problem 16.11: A single-phase motor takes 50 A at a power factor of 0.6 lagging from a 240 V, 50 Hz supply. Determine (a) the current taken by a capacitor connected in parallel with the motor to correct the power factor to unity, and (b) the value of the supply current after power factor correction.\n",
"\n",
"//initializing the variables:\n",
"f = 50; // in ohm\n",
"V = 240; // in Volts\n",
"pf = 0.6// power factor\n",
"Im = 50; // in amperes\n",
"\n",
"//calculation:\n",
"phi = acos(pf)\n",
"phid = phi*180/%pi\n",
"Ic = Im*sin(phi)\n",
"I = Im*cos(phi)\n",
"\n",
"printf('\n\n Result \n\n')\n",
"printf('\n (a)the capacitor current Ic must be %.0f A for the power factor to be unity. ',Ic)\n",
"printf('\n (b)Supply current I = %.0f A ',I)"
   ]
   }
,
{
		   "cell_type": "markdown",
		   "metadata": {},
		   "source": [
			"## Example 16.12: Example_12.sce"
		   ]
		  },
  {
"cell_type": "code",
	   "execution_count": null,
	   "metadata": {
	    "collapsed": true
	   },
	   "outputs": [],
"source": [
"//Problem 16.12: A motor has an output of 4.8 kW, an efficiency of 80% and a power factor of 0.625 lagging when operated from a 240 V, 50 Hz supply. It is required to improve the power factor to 0.95 lagging by connecting a capacitor in parallel with the motor. Determine (a) the current taken by the motor, (b) the supply current after power factor correction, (c) the current taken by the capacitor, (d) the capacitance of the capacitor, and (e) the kvar rating of the capacitor.\n",
"\n",
"//initializing the variables:\n",
"Pout = 4800; // in Watt\n",
"eff = 0.8;// effficiency\n",
"f = 50; // in ohm\n",
"V = 240; // in Volts\n",
"pf1 = 0.625// power factor\n",
"pf2 = 0.95// power factor\n",
"\n",
"//calculation:\n",
"Pin = Pout/eff\n",
"Im = Pin/(V*pf1)\n",
"phi1 = acos(pf1)\n",
"phi1d = phi1*180/%pi\n",
"//When a capacitor C is connected in parallel with the motor a current Ic flows which leads V by 90°.\n",
"phi2 = acos(pf2)\n",
"phi2d = phi2*180/%pi\n",
"Imh = Im*cos(phi1)\n",
"//Ih = I*cos(phi2)\n",
"Ih = Imh\n",
"I = Ih/cos(phi2)\n",
"Imv = Im*sin(phi1)\n",
"Iv = I*sin(phi2)\n",
"Ic = Imv - Iv\n",
"C = Ic/(2*%pi*f*V)\n",
"kvar = V*Ic/1000\n",
"\n",
"printf('\n\n Result \n\n')\n",
"printf('\n (a)current taken by the motor, Im = %.0f A',Im)\n",
"printf('\n (b)supply current after p.f. correction, I = %.2f A ',I)\n",
"printf('\n (c)magnitude of the capacitor current Ic = %.0f A',Ic)\n",
"printf('\n (d)capacitance, C = %.0f μF ',(C/1E-6))\n",
"printf('\n (d)kvar rating of the capacitor = %.2f kvar ',kvar)"
   ]
   }
,
{
		   "cell_type": "markdown",
		   "metadata": {},
		   "source": [
			"## Example 16.13: Example_13.sce"
		   ]
		  },
  {
"cell_type": "code",
	   "execution_count": null,
	   "metadata": {
	    "collapsed": true
	   },
	   "outputs": [],
"source": [
"//Problem 16.13: A 250 V, 50 Hz single-phase supply feeds the following loads (i) incandescent lamps taking a current of 10 A at unity power factor, (ii) fluorescent lamps taking 8 A at a power factor of 0.7 lagging, (iii) a 3 kVA motor operating at full load and at a power factor of 0.8 lagging and (iv) a static capacitor. Determine, for the lamps and motor, (a) the total current, (b) the overall power factor and (c) the total power. (d) Find the value of the static capacitor to improve the overall power factor to 0.975 lagging.\n",
"\n",
"//initializing the variables:\n",
"S = 3000; // in VA\n",
"f = 50; // in ohm\n",
"V = 250; // in Volts\n",
"Iil = 10; // in Amperes\n",
"Ifl = 8; // in Amperes\n",
"pfil = 1// power factor\n",
"pffl = 0.7// power factor\n",
"pfm = 0.8// power factor\n",
"pf0 = 0.975// power factor\n",
"\n",
"//calculation:\n",
"phiil = acos(pfil)\n",
"phiild = phiil*180/%pi\n",
"phifl = acos(pffl)\n",
"phifld = phifl*180/%pi\n",
"phim = acos(pfm)\n",
"phimd = phim*180/%pi\n",
"phi0 = acos(pf0)\n",
"phi0d = phi0*180/%pi\n",
"Im = S/V\n",
"Ih = Iil*cos(phiil) + Ifl*cos(phifl) + Im*cos(phim)\n",
"Iv = Iil*sin(phiil) - Ifl*sin(phifl) - Im*sin(phim)\n",
"Il = (Ih^2 + Iv^2)^0.5\n",
"phi = atan(abs(Iv)/Ih)\n",
"phid = phi*180/%pi\n",
"pf = cos(phi)\n",
"P = V*Il*pf\n",
"I = Il*cos(phi)/cos(phi0)\n",
"Ic = Il*sin(phi) - I*sin(phi0)\n",
"C = Ic/(2*%pi*f*V)\n",
"\n",
"printf('\n\n Result \n\n')\n",
"printf('\n (a)total current, Il = %.2f A',Il)\n",
"printf('\n (b)Power factor = %.3f',pf)\n",
"printf('\n (c)Total power, P = %.3f Watt',P)\n",
"printf('\n (d)capacitance, C = %.2E F ',C)"
   ]
   }
],
"metadata": {
		  "kernelspec": {
		   "display_name": "Scilab",
		   "language": "scilab",
		   "name": "scilab"
		  },
		  "language_info": {
		   "file_extension": ".sce",
		   "help_links": [
			{
			 "text": "MetaKernel Magics",
			 "url": "https://github.com/calysto/metakernel/blob/master/metakernel/magics/README.md"
			}
		   ],
		   "mimetype": "text/x-octave",
		   "name": "scilab",
		   "version": "0.7.1"
		  }
		 },
		 "nbformat": 4,
		 "nbformat_minor": 0
}
