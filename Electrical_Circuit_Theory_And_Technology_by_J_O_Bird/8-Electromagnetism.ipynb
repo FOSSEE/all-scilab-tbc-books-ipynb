{
"cells": [
 {
		   "cell_type": "markdown",
	   "metadata": {},
	   "source": [
       "# Chapter 8: Electromagnetism"
	   ]
	},
{
		   "cell_type": "markdown",
		   "metadata": {},
		   "source": [
			"## Example 8.02: Example_2.sce"
		   ]
		  },
  {
"cell_type": "code",
	   "execution_count": null,
	   "metadata": {
	    "collapsed": true
	   },
	   "outputs": [],
"source": [
"//Problem 8.02: A conductor carries a current of 20 A and is at rightangles to a magnetic field having a flux density of 0.9 T. If the length of the conductor in the field is 30 cm, calculate the force acting on the conductor. Determine also the value of the force if the conductor is inclined at an angle of 30° to the direction of the field.\n",
"\n",
"//initializing the variables:\n",
"B = 0.9; // in tesla\n",
"I = 20; // in Amperes\n",
"l = 0.30; // in m\n",
"alpha = 30; // in degree\n",
"u0 = 4*%pi*1E-7;\n",
"\n",
"//calculation:\n",
"F1 = B*I*l\n",
"F2 = B*I*l*sin(alpha*%pi/180)\n",
"\n",
"printf('\n\nResult\n\n')\n",
"printf('\n (a)Force when the conductor is at right angles to the field = %.1f N',F1)\n",
"printf('\n (b)Force when the conductor is at 30° angle to the field = %.1f N',F2)"
   ]
   }
,
{
		   "cell_type": "markdown",
		   "metadata": {},
		   "source": [
			"## Example 8.03: Example_3.sce"
		   ]
		  },
  {
"cell_type": "code",
	   "execution_count": null,
	   "metadata": {
	    "collapsed": true
	   },
	   "outputs": [],
"source": [
"//Problem 8.03: Determine the current required in a 400 mm length of conductor of an electric motor, when the conductor is situated at right-angles to a magnetic field of flux density 1.2 T, if a force of 1.92 N is to be exerted on the conductor.\n",
"\n",
"//initializing the variables:\n",
"F = 1.92; // in newton\n",
"B = 1.2; // in tesla\n",
"l = 0.40; // in m\n",
"u0 = 4*%pi*1E-7;\n",
"\n",
"//calculation:\n",
"I = F/(B*l)\n",
"\n",
"printf('\n\nResult\n\n')\n",
"printf('\n (a)Current I = %.0f Amperes(A)',I)"
   ]
   }
,
{
		   "cell_type": "markdown",
		   "metadata": {},
		   "source": [
			"## Example 8.04: Example_4.sce"
		   ]
		  },
  {
"cell_type": "code",
	   "execution_count": null,
	   "metadata": {
	    "collapsed": true
	   },
	   "outputs": [],
"source": [
"//Problem 8.04: A conductor 350 mm long carries a current of 10 A and is at right-angles to a magnetic field lying between two circular pole faces each of radius 60 mm. If the total flux between the pole faces is 0.5 mWb, calculate the magnitude of the force exerted on the conductor.\n",
"\n",
"//initializing the variables:\n",
"r = 0.06; // in m\n",
"I = 10; // in Amperes\n",
"l = 0.35; // in m\n",
"Phi = 0.5E-3; // in Wb\n",
"u0 = 4*%pi*1E-7;\n",
"\n",
"//calculation:\n",
"A = %pi*r*r\n",
"B = Phi/A\n",
"F = B*I*l\n",
"\n",
"printf('\n\nResult\n\n')\n",
"printf('\n (a)Force F = %.3f N\n',F)"
   ]
   }
,
{
		   "cell_type": "markdown",
		   "metadata": {},
		   "source": [
			"## Example 8.06: Example_6.sce"
		   ]
		  },
  {
"cell_type": "code",
	   "execution_count": null,
	   "metadata": {
	    "collapsed": true
	   },
	   "outputs": [],
"source": [
"//Problem 8.06: A coil is wound on a rectangular former of width 24 mm and length 30 mm. The former is pivoted about an axis passing through the middle of the two shorter sides and is placed in a uniform magnetic field of flux density 0.8 T, the axis being perpendicular to the field. If the coil carries a current of 50 mA, determine the force on each coil side (a) for a single-turn coil, (b) for a coil wound with 300 turns.\n",
"\n",
"//initializing the variables:\n",
"N1 = 1; // for a single-turn coil\n",
"N2 = 300; // no. of turns\n",
"b = 0.024; // in m\n",
"B = 0.8; // in Tesla\n",
"I = 0.05; // in Amperes\n",
"l = 0.030; // in m\n",
"u0 = 4*%pi*1E-7;\n",
"\n",
"//calculation:\n",
"//For a single-turn coil,\n",
"F1 = N1*B*I*l\n",
"//for a coil wound with 300 turns.\n",
"F2 = N2*B*I*l\n",
"\n",
"printf('\n\nResult\n\n')\n",
"printf('\n (a)For a single-turn coil, force on each coil side = %.4f N',F1)\n",
"printf('\n (b)For a 300-turn coil, force on each coil side = %.2f N',F2)"
   ]
   }
,
{
		   "cell_type": "markdown",
		   "metadata": {},
		   "source": [
			"## Example 8.07: Example_7.sce"
		   ]
		  },
  {
"cell_type": "code",
	   "execution_count": null,
	   "metadata": {
	    "collapsed": true
	   },
	   "outputs": [],
"source": [
"//Problem 8.07: An electron in a television tube has a charge of 1.6 ð 1019 coulombs and travels at 3 ð 107 m/s perpendicular to a field of flux density 18.5 μT. Determine the force exerted on the electron in the field.\n",
"\n",
"//initializing the variables:\n",
"Q = 1.6E-19; // in Coulomb\n",
"v = 3E7; // in m/s\n",
"B = 18.5E-6; // in Tesla\n",
"u0 = 4*%pi*1E-7;\n",
"\n",
"//calculation:\n",
"F = Q*v*B\n",
"\n",
"printf('\n\nResult\n\n')\n",
"printf('\n Force exerted on the electron in the field. = %.2E N',F)"
   ]
   }
],
"metadata": {
		  "kernelspec": {
		   "display_name": "Scilab",
		   "language": "scilab",
		   "name": "scilab"
		  },
		  "language_info": {
		   "file_extension": ".sce",
		   "help_links": [
			{
			 "text": "MetaKernel Magics",
			 "url": "https://github.com/calysto/metakernel/blob/master/metakernel/magics/README.md"
			}
		   ],
		   "mimetype": "text/x-octave",
		   "name": "scilab",
		   "version": "0.7.1"
		  }
		 },
		 "nbformat": 4,
		 "nbformat_minor": 0
}
