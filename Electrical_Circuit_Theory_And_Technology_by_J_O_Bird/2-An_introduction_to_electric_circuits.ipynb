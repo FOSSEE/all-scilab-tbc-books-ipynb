{
"cells": [
 {
		   "cell_type": "markdown",
	   "metadata": {},
	   "source": [
       "# Chapter 2: An introduction to electric circuits"
	   ]
	},
{
		   "cell_type": "markdown",
		   "metadata": {},
		   "source": [
			"## Example 2.01: Example_1.sce"
		   ]
		  },
  {
"cell_type": "code",
	   "execution_count": null,
	   "metadata": {
	    "collapsed": true
	   },
	   "outputs": [],
"source": [
"//Problem 2.01: What current must flow if 0.24 coulombs is to be transferred in 15 ms?\n",
"\n",
"//initializing the variables:\n",
"Q = 0.24; // in Coulomb\n",
"t = 0.015; // in sec\n",
"\n",
"//calculation:\n",
"I = Q/t\n",
"\n",
"printf('\n\nResult\n\n')\n",
"printf('\nCurrent(I): %.0f Ampere(A)\n',I)"
   ]
   }
,
{
		   "cell_type": "markdown",
		   "metadata": {},
		   "source": [
			"## Example 2.02: Example_2.sce"
		   ]
		  },
  {
"cell_type": "code",
	   "execution_count": null,
	   "metadata": {
	    "collapsed": true
	   },
	   "outputs": [],
"source": [
"//Problem 2.02: If a current of 10 A flows for four minutes, find the quantity of electricity transferred.\n",
"\n",
"//initializing the variables:\n",
"I = 10; // in Ampere\n",
"t = 240; // in sec\n",
"\n",
"//calculation:\n",
"Q = I*t\n",
"\n",
"printf('\n\nResult\n\n')\n",
"printf('\nCharge(Q): %.0f Coulomb(C)\n',Q)"
   ]
   }
,
{
		   "cell_type": "markdown",
		   "metadata": {},
		   "source": [
			"## Example 2.03: Example_3.sce"
		   ]
		  },
  {
"cell_type": "code",
	   "execution_count": null,
	   "metadata": {
	    "collapsed": true
	   },
	   "outputs": [],
"source": [
"//Problem 2.03: The current flowing through a resistor is 0.8 A when a p.d. of 20 V is applied. Determine the value of the resistance.\n",
"\n",
"//initializing the variables:\n",
"I = 0.8; // in Ampere\n",
"V = 20; // in Volts\n",
"\n",
"//calculation:\n",
"R = V/I\n",
"\n",
"printf('\n\nResult\n\n')\n",
"printf('\nResistance(R): %.0f Ohms\n',R)"
   ]
   }
,
{
		   "cell_type": "markdown",
		   "metadata": {},
		   "source": [
			"## Example 2.04: Example_4.sce"
		   ]
		  },
  {
"cell_type": "code",
	   "execution_count": null,
	   "metadata": {
	    "collapsed": true
	   },
	   "outputs": [],
"source": [
"//Problem 2.04: Determine the p.d. which must be applied to a 2 kohm resistor in order that a current of 10 mA may flow.\n",
"\n",
"//initializing the variables:\n",
"I = 0.010; // in Ampere\n",
"R = 2000; // in ohms\n",
"\n",
"//calculation:\n",
"V = I*R\n",
"\n",
"printf('\n\nResult\n\n')\n",
"printf('\np.d.(V): %.0f Volts(V)\n',V)"
   ]
   }
,
{
		   "cell_type": "markdown",
		   "metadata": {},
		   "source": [
			"## Example 2.05: Example_5.sce"
		   ]
		  },
  {
"cell_type": "code",
	   "execution_count": null,
	   "metadata": {
	    "collapsed": true
	   },
	   "outputs": [],
"source": [
"//Problem 2.05: A coil has a current of 50 mA flowing through it when the applied voltage is 12 V. What is the resistance of the coil?\n",
"\n",
"//initializing the variables:\n",
"I = 0.050; // in Ampere\n",
"V = 12; // in Volts\n",
"\n",
"//calculation:\n",
"R = V/I\n",
"\n",
"printf('\n\nResult\n\n')\n",
"printf('\nResistance(R): %.0f Ohms\n',R)"
   ]
   }
,
{
		   "cell_type": "markdown",
		   "metadata": {},
		   "source": [
			"## Example 2.06: Example_6.sce"
		   ]
		  },
  {
"cell_type": "code",
	   "execution_count": null,
	   "metadata": {
	    "collapsed": true
	   },
	   "outputs": [],
"source": [
"//Problem 2.06: A 100 V battery is connected across a resistor and causes a current of 5 mA to flow. Determine the resistance of the resistor. If the voltage is now reduced to 25 V, what will be the new value of the current flowing?\n",
"\n",
"//initializing the variables:\n",
"I = 0.005; // in Ampere\n",
"V1 = 100; // in Volts\n",
"V2 = 25; // in Volts\n",
"\n",
"//calculation:\n",
"//resistance\n",
"R = V1/I\n",
"//Current when voltage is reduced to 25 V,\n",
"I = V2/R\n",
"\n",
"printf('\n\nResult\n\n')\n",
"printf('\nResistance(R): %.0f Ohms',R)\n",
"printf('\n Current when voltage is reduced to 25 V is %.2E A',I)"
   ]
   }
,
{
		   "cell_type": "markdown",
		   "metadata": {},
		   "source": [
			"## Example 2.07: Example_7.sce"
		   ]
		  },
  {
"cell_type": "code",
	   "execution_count": null,
	   "metadata": {
	    "collapsed": true
	   },
	   "outputs": [],
"source": [
"//Problem 2.07: What is the resistance of a coil which draws a current of (a) 50 mA and (b) 200 μA from a 120 V supply?\n",
"\n",
"//initializing the variables:\n",
"I1 = 0.050; // in Ampere\n",
"I2 = 200E-6; // in Ampere\n",
"V = 120; // in Volts\n",
"\n",
"//calculation:\n",
"R1 = V/I1\n",
"R2 = V/I2\n",
"\n",
"printf('\n\nResult\n\n')\n",
"printf('\nResistance(R1): %.0f Ohms',R1)\n",
"printf('\nResistance(R2): %.0f Ohms\n',R2)"
   ]
   }
,
{
		   "cell_type": "markdown",
		   "metadata": {},
		   "source": [
			"## Example 2.08: Example_8.sce"
		   ]
		  },
  {
"cell_type": "code",
	   "execution_count": null,
	   "metadata": {
	    "collapsed": true
	   },
	   "outputs": [],
"source": [
"//Problem 2.08: A 100 W electric light bulb is connected to a 250 V supply. Determine (a) the current flowing in the bulb, and (b) the resistance of the bulb.\n",
"\n",
"//initializing the variables:\n",
"P = 100; // in Watt\n",
"V = 250; // in Volts\n",
"\n",
"//calculation:\n",
"I = P/V\n",
"R = V/I\n",
"\n",
"printf('\n\nResult\n\n')\n",
"printf('\nCurrent(I): %.1f Ampere(A)',I)\n",
"printf('\nResistance(R): %.0f Ohms\n',R)"
   ]
   }
,
{
		   "cell_type": "markdown",
		   "metadata": {},
		   "source": [
			"## Example 2.09: Example_9.sce"
		   ]
		  },
  {
"cell_type": "code",
	   "execution_count": null,
	   "metadata": {
	    "collapsed": true
	   },
	   "outputs": [],
"source": [
"//Problem 2.09: Calculate the power dissipated when a current of 4 mA flows through a resistance of 5 k\n",
"\n",
"//initializing the variables:\n",
"I = 0.004; // in ampere\n",
"R = 5000; // in ohms\n",
"\n",
"//calculation:\n",
"P = I*I*R \n",
"\n",
"printf('\n\nResult\n\n')\n",
"printf('\nPower(P): %.2f Watt(W)\n',P)"
   ]
   }
,
{
		   "cell_type": "markdown",
		   "metadata": {},
		   "source": [
			"## Example 2.10: Example_10.sce"
		   ]
		  },
  {
"cell_type": "code",
	   "execution_count": null,
	   "metadata": {
	    "collapsed": true
	   },
	   "outputs": [],
"source": [
"//Problem 2.10: An electric kettle has a resistance of 30. What current will flow when it is connected to a 240 V supply? Find also the power rating of the kettle.\n",
"\n",
"//initializing the variables:\n",
"V = 240; // in Volts\n",
"R = 30; // in ohms\n",
"\n",
"//calculation:\n",
"I = V/R\n",
"P = V*I\n",
"\n",
"printf('\n\nResult\n\n')\n",
"printf('\nCurrent(I): %.0f Ampere(A)',I)\n",
"printf('\nPower(P): %.0f Watt(W)\n',P)"
   ]
   }
,
{
		   "cell_type": "markdown",
		   "metadata": {},
		   "source": [
			"## Example 2.11: Example_11.sce"
		   ]
		  },
  {
"cell_type": "code",
	   "execution_count": null,
	   "metadata": {
	    "collapsed": true
	   },
	   "outputs": [],
"source": [
"//Problem 2.11: A current of 5 A flows in the winding of an electric motor, the resistance of the winding being 100. Determine (a) the p.d. across the winding, and (b) the power dissipated by the coil.\n",
"\n",
"//initializing the variables:\n",
"I = 5; // in ampere\n",
"R = 100; // in ohms\n",
"\n",
"//calculation:\n",
"V = I*R\n",
"P = I*R*I\n",
"\n",
"printf('\n\nResult\n\n')\n",
"printf('\np.d(V): %.0f Volts(V)',V)\n",
"printf('\nPower(P): %.0f Watt(W)\n',P)"
   ]
   }
,
{
		   "cell_type": "markdown",
		   "metadata": {},
		   "source": [
			"## Example 2.12: Example_12.sce"
		   ]
		  },
  {
"cell_type": "code",
	   "execution_count": null,
	   "metadata": {
	    "collapsed": true
	   },
	   "outputs": [],
"source": [
"//Problem 2.12: The current/voltage relationship for two resistors A and B is as shown in Figure 2.5. Determine the value of the resistance of each resistor.\n",
"\n",
"//initializing the variables:\n",
"I1 = 0.020; // in ampere\n",
"V1 = 20; // in Volts\n",
"I2 = 0.005; // in ampere\n",
"V2 = 16; // in Volts\n",
"\n",
"//calculation:\n",
"R1 = V1/I1\n",
"R2 = V2/I2\n",
"\n",
"printf('\n\nResult\n\n')\n",
"printf('\nResistance(R1): %.0f Ohms',R1)\n",
"printf('\nResistance(R2): %.0f Ohms\n',R2)"
   ]
   }
,
{
		   "cell_type": "markdown",
		   "metadata": {},
		   "source": [
			"## Example 2.13: Example_13.sce"
		   ]
		  },
  {
"cell_type": "code",
	   "execution_count": null,
	   "metadata": {
	    "collapsed": true
	   },
	   "outputs": [],
"source": [
"//Problem 2.13: The hot resistance of a 240 V filament lamp is 960. Find the current taken by the lamp and its power rating.\n",
"\n",
"//initializing the variables:\n",
"V = 240; // in Volts\n",
"R = 960; // in ohms\n",
"\n",
"//calculation:\n",
"I = V/R\n",
"P = I*V\n",
"\n",
"printf('\n\nResult\n\n')\n",
"printf('\nCurrent(I): %.2f Ampere(A)',I)\n",
"printf('\nPower(P): %.0f Watt(W)\n',P)"
   ]
   }
,
{
		   "cell_type": "markdown",
		   "metadata": {},
		   "source": [
			"## Example 2.14: Example_14.sce"
		   ]
		  },
  {
"cell_type": "code",
	   "execution_count": null,
	   "metadata": {
	    "collapsed": true
	   },
	   "outputs": [],
"source": [
"//Problem 2.14: A 12 V battery is connected across a load having a resistance of 40ohms. Determine the current flowing in the load, the power consumed and the energy dissipated in 2 minutes.\n",
"\n",
"//initializing the variables:\n",
"V = 12; // in Volts\n",
"R = 40; // in ohms\n",
"t = 120; // in sec\n",
"\n",
"//calculation:\n",
"I = V/R\n",
"P = I*V\n",
"E = P*t\n",
"\n",
"printf('\n\nResult\n\n')\n",
"printf('\nCurrent(I): %.1f Ampere(A)',I)\n",
"printf('\nPower(P): %.1f Watt(W)',P)\n",
"printf('\nEnergy(E): %.0f Joule(J)\n',E)"
   ]
   }
,
{
		   "cell_type": "markdown",
		   "metadata": {},
		   "source": [
			"## Example 2.15: Example_15.sce"
		   ]
		  },
  {
"cell_type": "code",
	   "execution_count": null,
	   "metadata": {
	    "collapsed": true
	   },
	   "outputs": [],
"source": [
"//Problem 2.15: A source of e.m.f. of 15 V supplies a current of 2 A for six minutes. How much energy is provided in this time?\n",
"\n",
"//initializing the variables:\n",
"V = 15; // in Volts\n",
"I = 2; // in ampere\n",
"t = 360; // in sec\n",
"\n",
"//calculation:\n",
"E = V*I*t\n",
"\n",
"printf('\n\nResult\n\n')\n",
"printf('\nEnergy(E): %.0f Joule(J)\n',E)"
   ]
   }
,
{
		   "cell_type": "markdown",
		   "metadata": {},
		   "source": [
			"## Example 2.16: Example_16.sce"
		   ]
		  },
  {
"cell_type": "code",
	   "execution_count": null,
	   "metadata": {
	    "collapsed": true
	   },
	   "outputs": [],
"source": [
"//Problem 2.16: Electrical equipment in an office takes a current of 13 A from a 240 V supply. Estimate the cost per week of electricity if the equipment is used for 30 hours each week and 1 kWh of energy costs 7p?\n",
"\n",
"//initializing the variables:\n",
"V = 240; // in Volts\n",
"I = 13; // in ampere\n",
"t = 30; // in hours\n",
"p = 7; // in paise per kWh\n",
"\n",
"//calculation:\n",
"P = V*I\n",
"E = P*t/1000 // in kWh\n",
"C = E*p\n",
"\n",
"printf('\n\nResult\n\n')\n",
"printf('\nCost per week: %.1f Paise(p)\n',C)"
   ]
   }
,
{
		   "cell_type": "markdown",
		   "metadata": {},
		   "source": [
			"## Example 2.17: Example_17.sce"
		   ]
		  },
  {
"cell_type": "code",
	   "execution_count": null,
	   "metadata": {
	    "collapsed": true
	   },
	   "outputs": [],
"source": [
"//Problem 2.17: An electric heater consumes 3.6 MJ when connected to a 250 V supply for 40 minutes. Find the power rating of the heater and the current taken from the supply.\n",
"\n",
"//initializing the variables:\n",
"V = 250; // in Volts\n",
"E = 3.6E6; // energy in J\n",
"t = 2400; // in sec\n",
"\n",
"//calculation:\n",
"P = E/t\n",
"I = P/V\n",
"\n",
"printf('\n\nResult\n\n')\n",
"printf('\nPower(P): %.0f Watt(W)',P)\n",
"printf('\nCurrent(I): %.0f Ampere(A)\n',I)"
   ]
   }
,
{
		   "cell_type": "markdown",
		   "metadata": {},
		   "source": [
			"## Example 2.18: Example_18.sce"
		   ]
		  },
  {
"cell_type": "code",
	   "execution_count": null,
	   "metadata": {
	    "collapsed": true
	   },
	   "outputs": [],
"source": [
"//Problem 2.18: Determine the power dissipated by the element of an electric fire of resistance 20ohms when a current of 10 A flows through it. If the fire is on for 6 hours determine the energy used and the cost if 1 unit of electricity costs 7p.\n",
"\n",
"//initializing the variables:\n",
"R = 20; // in ohms\n",
"I = 10; // in ampere\n",
"t = 6; // in hours\n",
"p = 7; // in paise per kWh\n",
"\n",
"//calculation:\n",
"P = I*I*R\n",
"E = P*t/1000 // in kWh\n",
"C = E*p\n",
"\n",
"printf('\n\nResult\n\n')\n",
"printf('\nPower(P): %.0f Watt(W)',P)\n",
"printf('\nCost per week: %.0f Paise(p)\n',C)"
   ]
   }
,
{
		   "cell_type": "markdown",
		   "metadata": {},
		   "source": [
			"## Example 2.19: Example_19.sce"
		   ]
		  },
  {
"cell_type": "code",
	   "execution_count": null,
	   "metadata": {
	    "collapsed": true
	   },
	   "outputs": [],
"source": [
"//Problem 2.19: A business uses two 3 kW fires for an average of 20 hours each per week, and six 150 W lights for 30 hours each per week. If the cost of electricity is 7p per unit, determine the weekly cost of electricity to the business.\n",
"\n",
"//initializing the variables:\n",
"P1 = 3; // in kW\n",
"P2 = 150; // in Watt\n",
"n1 = 2; // no. of P1 Equips\n",
"n2 = 6; // no. of P2 Equips\n",
"t1 = 20; // in hours each per week\n",
"t2 = 30; // in hours each per week\n",
"p = 7; // in paise per kWh\n",
"\n",
"//calculation:\n",
"E1 = P1*t1*n1 // in kWh by two P1 eqips\n",
"E2 = P2*t2*n2/1000 // in kWh by six P2 eqips\n",
"Et = E1 + E2\n",
"C = Et * 7\n",
"printf('\n\nResult\n\n')\n",
"printf('\nCost per week: %.0f Paise(p)\n',C)"
   ]
   }
],
"metadata": {
		  "kernelspec": {
		   "display_name": "Scilab",
		   "language": "scilab",
		   "name": "scilab"
		  },
		  "language_info": {
		   "file_extension": ".sce",
		   "help_links": [
			{
			 "text": "MetaKernel Magics",
			 "url": "https://github.com/calysto/metakernel/blob/master/metakernel/magics/README.md"
			}
		   ],
		   "mimetype": "text/x-octave",
		   "name": "scilab",
		   "version": "0.7.1"
		  }
		 },
		 "nbformat": 4,
		 "nbformat_minor": 0
}
