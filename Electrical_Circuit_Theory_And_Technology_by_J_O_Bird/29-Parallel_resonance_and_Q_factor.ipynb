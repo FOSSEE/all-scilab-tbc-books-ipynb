{
"cells": [
 {
		   "cell_type": "markdown",
	   "metadata": {},
	   "source": [
       "# Chapter 29: Parallel resonance and Q factor"
	   ]
	},
{
		   "cell_type": "markdown",
		   "metadata": {},
		   "source": [
			"## Example 29.01: Example_1.sce"
		   ]
		  },
  {
"cell_type": "code",
	   "execution_count": null,
	   "metadata": {
	    "collapsed": true
	   },
	   "outputs": [],
"source": [
"//Problem 29.01: A coil of inductance 5 mH and resistance 10 ohm is connected in parallel with a 250 nF capacitor across a 50 V variable-frequency supply. Determine (a) the resonant frequency, (b) the dynamic resistance, (c) the current at resonance, and (d) the circuit Q-factor at resonance.\n",
"\n",
"//initializing the variables:\n",
"R = 10; // in ohms\n",
"L = 0.005; // IN Henry\n",
"C = 0.25e-6; // IN fARADS\n",
"V = 50; //in volts\n",
"\n",
"//calculation:\n",
"//Resonant frequency, for parallel\n",
"fr = ((1/(L*C) - ((R^2)/(L^2)))^0.5)/(2*%pi)\n",
"//dynamic resistance\n",
"Rd = L/(C*R)\n",
"//Current at resonance\n",
"Ir = V/Rd\n",
"wr = 2*%pi*fr\n",
"//Q-factor at resonance, Q = wr*L/R\n",
"Qr = wr*L/R\n",
"\n",
"printf('\n\n Result \n\n')\n",
"printf('\n (a)Resonance frequency is %.0f Hz ',fr)\n",
"printf('\n (b)dynamic resistance %.0f ohm ',Rd)\n",
"printf('\n (c)Current at resonance, Ir is %.3f A ',Ir)\n",
"printf('\n (d)Q-factor at resonance is %.1f ',Qr)"
   ]
   }
,
{
		   "cell_type": "markdown",
		   "metadata": {},
		   "source": [
			"## Example 29.02: Example_2.sce"
		   ]
		  },
  {
"cell_type": "code",
	   "execution_count": null,
	   "metadata": {
	    "collapsed": true
	   },
	   "outputs": [],
"source": [
"//Problem 29.02: In the parallel network of Figure 29.6, inductance, L = 100 mH and capacitance, C = 40 μF. Determine the resonant frequency for the network if (a) RL = 0 and (b) RL = 30 ohm.\n",
"\n",
"//initializing the variables:\n",
"RL1 = 0; // in ohms\n",
"RL2 = 30; // in ohms\n",
"L = 0.100; // IN Henry\n",
"C = 40e-6; // IN fARADS\n",
"V = 50; //in volts\n",
"\n",
"//calculation:\n",
"//for RL1\n",
"//Resonant frequency,\n",
"wr1 = (1/(L*C))^0.5\n",
"fr1 = wr1/(2*%pi)\n",
"//for RL2\n",
"//Resonant frequency,\n",
"wr2 = (1/(L*C) - ((RL2^2)/(L^2)))^0.5\n",
"fr2 = wr2/(2*%pi)\n",
"\n",
"printf('\n\n Result \n\n')\n",
"printf('\n (a)Resonance frequency at RL = 0 is %.1f Hz',fr1)\n",
"printf('\n (b)Resonance frequency at RL = 30 ohm is %.1f Hz\n',fr2)"
   ]
   }
,
{
		   "cell_type": "markdown",
		   "metadata": {},
		   "source": [
			"## Example 29.03: Example_3.sce"
		   ]
		  },
  {
"cell_type": "code",
	   "execution_count": null,
	   "metadata": {
	    "collapsed": true
	   },
	   "outputs": [],
"source": [
"//Problem 29.03: A coil of inductance 120 mH and resistance 150 ohm is connected in parallel with a variable capacitor across a 20 V, 4 kHz supply. Determine for the condition when the supply current is a minimum, (a) the capacitance of the capacitor, (b) the dynamic resistance, (c) the supply current, (d) the Q-factor, (e) the band-width, (f) the upper and lower -3 dB frequencies, and (g) the value of the circuit impedance at the -3 dB frequencies.\n",
"\n",
"//initializing the variables:\n",
"R = 150; // in ohms\n",
"L = 0.120; // IN Henry\n",
"V = 20; //in volts\n",
"fr = 4000; // in Hz\n",
"\n",
"//calculation:\n",
"//capacitance, C\n",
"C = 1/(L*[(2*%pi*fr)^2 + ((R^2)/(L^2))])\n",
"Rd = L/(C*R)\n",
"//Current at resonance\n",
"Ir = V/Rd\n",
"wr = 2*%pi*fr\n",
"//Q-factor at resonance, Q = wr*L/R\n",
"Qr = wr*L/R\n",
"//bandwidth,.(f2 − f1)\n",
"bw = fr/Qr\n",
"//upper half-power frequency, f2\n",
"f2 = (bw + ((bw^2) + 4*(fr^2))^0.5)/2\n",
"//lower half-power frequency, f1\n",
"f1 = f2 - bw\n",
"//impedance at the −3 dB frequencies\n",
"Z = Rd/(2^0.5)\n",
"\n",
"printf('\n\n Result \n\n')\n",
"printf('\n (a)the capacitance of the capacitor,C is %.2E F',C)\n",
"printf('\n (b)dynamic resistance %.2E ohm ',Rd)\n",
"printf('\n (c)Current at resonance, Ir is %.3E A ',Ir)\n",
"printf('\n (d)Q-factor at resonance is %.2f ',Qr)\n",
"printf('\n (e)bandwidth is %.0f Hz ',bw)\n",
"printf('\n (f)the upper half-power frequency, f2 is %.0f Hz and the lower half-power frequency, f1 is %.0f Hz ',f2,f1)\n",
"printf('\n (g)impedance at the −3 dB frequencies is %.3E ohm',Z)"
   ]
   }
,
{
		   "cell_type": "markdown",
		   "metadata": {},
		   "source": [
			"## Example 29.04: Example_4.sce"
		   ]
		  },
  {
"cell_type": "code",
	   "execution_count": null,
	   "metadata": {
	    "collapsed": true
	   },
	   "outputs": [],
"source": [
"//Problem 29.03: A two-branch parallel network is shown in Figure 29.8. Determine the resonant frequency of the network.\n",
"\n",
"//initializing the variables:\n",
"RL = 5; // in ohms\n",
"L = 0.002; // IN Henry\n",
"C = 25e-6; // IN fARADS\n",
"Rc = 3; // in ohms\n",
"\n",
"//calculation:\n",
"//Resonant frequency, for parallel\n",
"fr = (1/(2*%pi*((L*C)^0.5)))*((RL^2 - (L/C))/(Rc^2 - (L/C)))^0.5\n",
"\n",
"printf('\n\n Result \n\n')\n",
"printf('\n resonant frequency, fr is %.2f Hz',fr)"
   ]
   }
,
{
		   "cell_type": "markdown",
		   "metadata": {},
		   "source": [
			"## Example 29.05: Example_5.sce"
		   ]
		  },
  {
"cell_type": "code",
	   "execution_count": null,
	   "metadata": {
	    "collapsed": true
	   },
	   "outputs": [],
"source": [
"//Problem 29.05: Determine for the parallel network shown in Figure 29.9 the values of inductance L for which the network is resonant at a frequency of 1 kHz.\n",
"\n",
"//initializing the variables:\n",
"RL = 3; // in ohms\n",
"fr = 1000; // in Hz\n",
"Xc = 10; // IN ohms\n",
"Rc = 4; // in ohms\n",
"\n",
"//calculation:\n",
"XL1 = (((Rc^2 + Xc^2)/Xc) + ((((Rc^2 + Xc^2)/Xc)^2) - 4*(RL^2))^0.5)/2\n",
"XL2 = (((Rc^2 + Xc^2)/Xc) - ((((Rc^2 + Xc^2)/Xc)^2) - 4*(RL^2))^0.5)/2\n",
"wr = 2*%pi*fr\n",
"//inductance\n",
"L1 = XL1/wr\n",
"L2 = XL2/wr\n",
"\n",
"printf('\n\n Result \n\n')\n",
"printf('\n inductance is either %.2E H or %.2E H',L1, L2)"
   ]
   }
,
{
		   "cell_type": "markdown",
		   "metadata": {},
		   "source": [
			"## Example 29.06: Example_6.sce"
		   ]
		  },
  {
"cell_type": "code",
	   "execution_count": null,
	   "metadata": {
	    "collapsed": true
	   },
	   "outputs": [],
"source": [
"//Problem 29.06: A capacitor having a Q-factor of 300 is connected in parallel with a coil having a Q-factor of 60. Determine the overall Q-factor of the parallel combination.\n",
"\n",
"//initializing the variables:\n",
"QL = 60; // Q-factor\n",
"Qc = 300; // Q-factor\n",
"\n",
"//calculation:\n",
"QT = QL*Qc/(QL + Qc)\n",
"\n",
"printf('\n\n Result \n\n')\n",
"printf('\n the overall Q-factor is %.0f \n',QT)"
   ]
   }
,
{
		   "cell_type": "markdown",
		   "metadata": {},
		   "source": [
			"## Example 29.07: Example_7.sce"
		   ]
		  },
  {
"cell_type": "code",
	   "execution_count": null,
	   "metadata": {
	    "collapsed": true
	   },
	   "outputs": [],
"source": [
"//Problem 29.07: In an LR–C network, the capacitance is 10.61 nF, the bandwidth is 500 Hz and the resonant frequency is 150 kHz. Determine for the circuit (a) the Q-factor, (b) the dynamic resistance, and (c) the magnitude of the impedance when the supply frequency is 0.4% greater than the tuned frequency.\n",
"\n",
"//initializing the variables:\n",
"C = 10.61E-9; // in Farad\n",
"bw = 500; // in Hz\n",
"fr = 150000; // in Hz\n",
"x = 0.004\n",
"\n",
"//calculation:\n",
"//Q-factor\n",
"Q = fr/bw\n",
"wr = 2*%pi*fr\n",
"//dynamic resistance, RD\n",
"Rd = L*Q/(C*wr*L)\n",
"del = x\n",
"Z = Rd/(1 + (2*del*Q*%i))\n",
"Zmag = (real(Z)^2 + imag(Z)^2)^0.5\n",
"\n",
"printf('\n\n Result \n\n')\n",
"printf('\n (a)Q-factor %.2f',Q)\n",
"printf('\n (b)dynamic resistance %.2E ohm',Rd)\n",
"printf('\n (c)magnitude of the impedance %.2E ohm',Zmag)"
   ]
   }
],
"metadata": {
		  "kernelspec": {
		   "display_name": "Scilab",
		   "language": "scilab",
		   "name": "scilab"
		  },
		  "language_info": {
		   "file_extension": ".sce",
		   "help_links": [
			{
			 "text": "MetaKernel Magics",
			 "url": "https://github.com/calysto/metakernel/blob/master/metakernel/magics/README.md"
			}
		   ],
		   "mimetype": "text/x-octave",
		   "name": "scilab",
		   "version": "0.7.1"
		  }
		 },
		 "nbformat": 4,
		 "nbformat_minor": 0
}
