{
"cells": [
 {
		   "cell_type": "markdown",
	   "metadata": {},
	   "source": [
       "# Chapter 7: Magnetic circuits"
	   ]
	},
{
		   "cell_type": "markdown",
		   "metadata": {},
		   "source": [
			"## Example 7.01: Example_1.sce"
		   ]
		  },
  {
"cell_type": "code",
	   "execution_count": null,
	   "metadata": {
	    "collapsed": true
	   },
	   "outputs": [],
"source": [
"//Problem 7.01: A magnetic pole face has a rectangular section having dimensions 200 mm by 100 mm. If the total flux emerging from the pole is 150 μWb, calculate the flux density.\n",
"\n",
"//initializing the variables:\n",
"Phi = 150E-6; // in Wb\n",
"l = 200E-3; // in m\n",
"b = 100E-3; // in m\n",
"\n",
"//calculation:\n",
"A = l*b\n",
"B = Phi/A\n",
"\n",
"printf('\n\nResult\n\n')\n",
"printf('\n Flux density %.2E T\n',B)"
   ]
   }
,
{
		   "cell_type": "markdown",
		   "metadata": {},
		   "source": [
			"## Example 7.02: Example_2.sce"
		   ]
		  },
  {
"cell_type": "code",
	   "execution_count": null,
	   "metadata": {
	    "collapsed": true
	   },
	   "outputs": [],
"source": [
"//Problem 7.02: The maximum working flux density of a lifting electromagnet is 1.8 T and the effective area of a pole face is circular in cross-section. If the total magnetic flux produced is 353 mWb, determine the radius of the pole face.\n",
"\n",
"//initializing the variables:\n",
"Phi = 353E-3; // in Wb\n",
"B = 1.8; // in tesla\n",
"Pi = 3.14;\n",
"\n",
"//calculation:\n",
"A = Phi/B\n",
"r = (A/Pi)^0.5\n",
"\n",
"printf('\n\nResult\n\n')\n",
"printf('\n radius of the pole face is %.2E m\n',r)"
   ]
   }
,
{
		   "cell_type": "markdown",
		   "metadata": {},
		   "source": [
			"## Example 7.03: Example_3.sce"
		   ]
		  },
  {
"cell_type": "code",
	   "execution_count": null,
	   "metadata": {
	    "collapsed": true
	   },
	   "outputs": [],
"source": [
"//Problem 7.03: A magnetizing force of 8000 A/m is applied to a circular magnetic circuit of mean diameter 30 cm by passing a current through a coil wound on the circuit. If the coil is uniformly wound around the circuit and has 750 turns, find the current in the coil.\n",
"\n",
"//initializing the variables:\n",
"H = 8000; // in A/m\n",
"d = 0.30; // in m\n",
"N = 750; // no. of turns\n",
"Pi = 3.14;\n",
"\n",
"//calculation:\n",
"l = Pi*d\n",
"I = H*l/N\n",
"\n",
"printf('\n\nResult\n\n')\n",
"printf('\n current I = %.2f Ampere(A)\n',I)"
   ]
   }
,
{
		   "cell_type": "markdown",
		   "metadata": {},
		   "source": [
			"## Example 7.04: Example_4.sce"
		   ]
		  },
  {
"cell_type": "code",
	   "execution_count": null,
	   "metadata": {
	    "collapsed": true
	   },
	   "outputs": [],
"source": [
"//Problem 7.04: A flux density of 1.2 T is produced in a piece of cast steel by a magnetizing force of 1250 A/m. Find the relative permeability of the steel under these conditions.\n",
"\n",
"//initializing the variables:\n",
"B = 1.2; // in Tesla\n",
"H = 1250; // in A/m\n",
"Pi = 3.14;\n",
"u0 = 4*Pi*1E-7;\n",
"\n",
"//calculation:\n",
"ur = B/(u0*H)\n",
"\n",
"printf('\n\nResult\n\n')\n",
"printf('\n relative permeability of the steel = %.0f \n',ur)"
   ]
   }
,
{
		   "cell_type": "markdown",
		   "metadata": {},
		   "source": [
			"## Example 7.05: Example_5.sce"
		   ]
		  },
  {
"cell_type": "code",
	   "execution_count": null,
	   "metadata": {
	    "collapsed": true
	   },
	   "outputs": [],
"source": [
"//Problem 7.05: Determine the magnetic field strength and the mmf required to produce a flux density of 0.25 T in an air gap of length 12 mm.\n",
"\n",
"//initializing the variables:\n",
"B = 0.25; // in Tesla\n",
"u0 = 4*%pi*1E-7;\n",
"l = 12E-3; // in m\n",
"\n",
"//calculation:\n",
"H = B/u0\n",
"mmf = H*l\n",
"\n",
"printf('\n\nResult\n\n')\n",
"printf('\n (a)Magnetic field strength H = %.0f A/m',H)\n",
"printf('\n (b)mmf = %.0f A\n',mmf)"
   ]
   }
,
{
		   "cell_type": "markdown",
		   "metadata": {},
		   "source": [
			"## Example 7.06: Example_6.sce"
		   ]
		  },
  {
"cell_type": "code",
	   "execution_count": null,
	   "metadata": {
	    "collapsed": true
	   },
	   "outputs": [],
"source": [
"//Problem 7.06: A coil of 300 turns is wound uniformly on a ring of non-magnetic material. The ring has a mean circumference of 40 cm and a uniform cross sectional area of 4 cm2. If the current in the coil is 5 A, calculate (a) the magnetic field strength, (b) the flux density and (c) the total magnetic flux in the ring.\n",
"\n",
"//initializing the variables:\n",
"N = 300; // no. of turns\n",
"l = 0.40; // in m\n",
"A = 4E-4; // in m2\n",
"I = 5; // in Amperes\n",
"u0 = 4*%pi*1E-7;\n",
"ur = 1\n",
"//calculation:\n",
"H = N*I/l\n",
"B = u0*ur*H\n",
"Phi = B*A\n",
"\n",
"printf('\n\nResult\n\n')\n",
"printf('\n (a)Magnetic field strength H = %.0f A/m\',H)\n",
"printf('\n (b)Flux Density = %.2E T',B)\n",
"printf('\n (c)total magnetic flux = %.2E Wb',Phi)"
   ]
   }
,
{
		   "cell_type": "markdown",
		   "metadata": {},
		   "source": [
			"## Example 7.07: Example_7.sce"
		   ]
		  },
  {
"cell_type": "code",
	   "execution_count": null,
	   "metadata": {
	    "collapsed": true
	   },
	   "outputs": [],
"source": [
"//Problem 7.07: An iron ring of mean diameter 10 cm is uniformly wound with 2000 turns of wire. When a current of 0.25 A is passed through the coil a flux density of 0.4 T is set up in the iron. Find (a) the magnetizing force and (b) the relative permeability of the iron under these conditions.\n",
"\n",
"//initializing the variables:\n",
"N = 2000; // no. of turns\n",
"d = 0.10; // in m\n",
"B = 0.4; // in Tesla\n",
"I = 0.25; // in Amperes\n",
"u0 = 4*%pi*1E-7;\n",
"\n",
"//calculation:\n",
"l = %pi*d\n",
"H = N*I/l\n",
"ur = B/(u0*H)\n",
"\n",
"printf('\n\nResult\n\n')\n",
"printf('\n (a)Magnetic field strength H = %.0f A/m',H)\n",
"printf('\n (b)relative permeability of the iron = %.0f ',ur)"
   ]
   }
,
{
		   "cell_type": "markdown",
		   "metadata": {},
		   "source": [
			"## Example 7.08: Example_8.sce"
		   ]
		  },
  {
"cell_type": "code",
	   "execution_count": null,
	   "metadata": {
	    "collapsed": true
	   },
	   "outputs": [],
"source": [
"//Problem 7.08: A uniform ring of cast iron has a cross-sectional area of 10 cm2 and a mean circumference of 20 cm. Determine the mmf necessary to produce a flux of 0.3 mWb in the ring.\n",
"\n",
"//initializing the variables:\n",
"A = 10E-4; // in m2\n",
"l = 0.20; // in m\n",
"Phi = 0.3E-3; // in Wb\n",
"u0 = 4*%pi*1E-7;\n",
"\n",
"//calculation:\n",
"B = Phi/A\n",
"// from the magnetisation curve, corresponding the value of B\n",
"H = 1000\n",
"mmf = H*l\n",
"printf('\n\nResult\n\n')\n",
"printf('\n (a)mmf = %.0f A\n',mmf)"
   ]
   }
,
{
		   "cell_type": "markdown",
		   "metadata": {},
		   "source": [
			"## Example 7.09: Example_9.sce"
		   ]
		  },
  {
"cell_type": "code",
	   "execution_count": null,
	   "metadata": {
	    "collapsed": true
	   },
	   "outputs": [],
"source": [
"//Problem 7.09: Determine the reluctance of a piece of mumetal of  length 150 mm and cross-sectional area 1800 mm2 when the relative permeability is 4000. Find also the absolute permeability of the mumetal.\n",
"\n",
"//initializing the variables:\n",
"A = 18E-4; // in m2\n",
"l = 0.15; // in m\n",
"u0 = 4*%pi*1E-7;\n",
"ur = 4000;\n",
"\n",
"//calculation:\n",
"S = l/(u0*ur*A)\n",
"u = u0*ur\n",
"\n",
"printf('\n\nResult\n\n')\n",
"printf('\n (a)Reluctance S = %.0f /H',S)\n",
"printf('\n (b)Absolute permeability, μ = %.2E H/m\n',u)"
   ]
   }
,
{
		   "cell_type": "markdown",
		   "metadata": {},
		   "source": [
			"## Example 7.10: Example_10.sce"
		   ]
		  },
  {
"cell_type": "code",
	   "execution_count": null,
	   "metadata": {
	    "collapsed": true
	   },
	   "outputs": [],
"source": [
"//Problem 7.10: A mild steel ring has a radius of 50 mm and a crosssectional area of 400 mm2. A current of 0.5 A flows in a coil wound uniformly around the ring and the flux produced is 0.1 mWb. If the relative permeability at this value of current is 200 find (a) the reluctance of the mild steel and (b) the number of turns on the coil.\n",
"\n",
"//initializing the variables:\n",
"A = 4E-4; // in m2\n",
"r = 0.05; // in m\n",
"I = 0.5; // in Amperes\n",
"Phi = 0.1E-3; // in Wb\n",
"u0 = 4*%pi*1E-7;\n",
"ur = 200;\n",
"\n",
"//calculation:\n",
"l = 2*%pi*r\n",
"S = l/(u0*ur*A)\n",
"N = S*Phi/I\n",
"\n",
"printf('\n\nResult\n\n')\n",
"printf('\n (a)Reluctance S = %.2E /H',S)\n",
"printf('\n (b)number of turns on the coil = %.0f ',N)"
   ]
   }
,
{
		   "cell_type": "markdown",
		   "metadata": {},
		   "source": [
			"## Example 7.11: Example_11.sce"
		   ]
		  },
  {
"cell_type": "code",
	   "execution_count": null,
	   "metadata": {
	    "collapsed": true
	   },
	   "outputs": [],
"source": [
"//Problem 7.11: A closed magnetic circuit of cast steel contains a 6 cm long path of cross-sectional area 1 cm2 and a 2 cm path of cross-sectional area 0.5 cm2. A coil of 200 turns is wound around the 6 cm length of the circuit and a current of 0.4 A flows. Determine the flux density in the 2 cm path, if the relative permeability of the cast steel is 750.\n",
"\n",
"//initializing the variables:\n",
"A1 = 1E-4; // in m2\n",
"A2 = 0.5E-4; // in m2\n",
"l1 = 0.06; // in m\n",
"l2 = 0.02; // in m\n",
"N1 = 200; // no. of turns about 6 cm coil\n",
"I = 0.4; // in Amperes\n",
"u0 = 4*%pi*1E-7;\n",
"ur = 750;\n",
"\n",
"//calculation:\n",
"//Reluctance \n",
"S1 = l1/(u0*ur*A1) // for 6 cm\n",
"S2 = l2/(u0*ur*A2) // for 2 cm\n",
"St = S1 + S2\n",
"Phi = N1*I/St\n",
"B2 = Phi/A2\n",
"\n",
"printf('\n\nResult\n\n')\n",
"printf('\n flux density in the 2 cm path = %.2f T\n',B2)"
   ]
   }
,
{
		   "cell_type": "markdown",
		   "metadata": {},
		   "source": [
			"## Example 7.12: Example_12.sce"
		   ]
		  },
  {
"cell_type": "code",
	   "execution_count": null,
	   "metadata": {
	    "collapsed": true
	   },
	   "outputs": [],
"source": [
"//Problem 7.12: A silicon iron ring of cross-sectional area 5 cm2 has a radial air gap of 2 mm cut into it. If the mean length of the silicon iron path is 40 cm, calculate the magnetomotive force to produce a flux of 0.7 mWb.\n",
"\n",
"//initializing the variables:\n",
"A = 5E-4; // in m2\n",
"l = 0.4; // in m\n",
"r = 2E-3; // in m\n",
"u0 = 4*%pi*1E-7;\n",
"Phi = 0.7E-3; // in Wb\n",
"\n",
"//calculation:\n",
"//For the silicon iron: \n",
"B = Phi/A\n",
"//From the B–H curve for silicon iron, corresponding to value of B\n",
"Hs = 1650\n",
"mmfs = Hs*l\n",
"//For the air gap:\n",
"Ha = B/u0\n",
"mmfa = Ha*r\n",
"mmft = mmfs + mmfa\n",
"\n",
"printf('\n\nResult\n\n')\n",
"printf('\n Total mmf to produce a flux of 0.7 mWb = %.0f A\n',mmft)"
   ]
   }
,
{
		   "cell_type": "markdown",
		   "metadata": {},
		   "source": [
			"## Example 7.13: Example_13.sce"
		   ]
		  },
  {
"cell_type": "code",
	   "execution_count": null,
	   "metadata": {
	    "collapsed": true
	   },
	   "outputs": [],
"source": [
"//Problem 7.13: Figure 7.4 shows a ring formed with two differentmaterials—cast steel and mild steel. The dimensions are:\n",
"//                      mean length          cross-sectional area\n",
"//   Mild steel          400 mm                   500 mm2\n",
"//   Cast steel          300 mm                   312.5 mm2\n",
"//Find the total mmf required to cause a flux of 500 μWb in the magnetic circuit. Determine also the total circuit reluctance.\n",
"\n",
"//initializing the variables:\n",
"A1 = 5E-4; // in m2\n",
"A2 = 3.125E-4; // in m2\n",
"l1 = 0.4; // in m\n",
"l2 = 0.3; // in m\n",
"u0 = 4*%pi*1E-7;\n",
"Phi = 0.5E-3; // in Wb\n",
"\n",
"//calculation:\n",
"//For the mild steel: \n",
"B1 = Phi/A1\n",
"//From the B–H curve for Mild steel, corresponding to value of B\n",
"Hm = 1400\n",
"mmfm = Hm*l1\n",
"//For the cast steel:\n",
"B2 = Phi/A2\n",
"//From the B–H curve for cast steel steel, corresponding to value of B\n",
"Hc = 4800\n",
"mmfc = Hc*l2\n",
"mmft = mmfm + mmfc\n",
"//Reluctance\n",
"S = mmft/Phi\n",
"\n",
"printf('\n\nResult\n\n')\n",
"printf('\n Total mmf to produce a flux of 0.5 mWb = %.0f A',mmft)\n",
"printf('\n Total circuit reluctance = %.2E /H',S)"
   ]
   }
,
{
		   "cell_type": "markdown",
		   "metadata": {},
		   "source": [
			"## Example 7.14: Example_14.sce"
		   ]
		  },
  {
"cell_type": "code",
	   "execution_count": null,
	   "metadata": {
	    "collapsed": true
	   },
	   "outputs": [],
"source": [
"//Problem 7.14: A section through a magnetic circuit of uniform cross-sectional area 2 cm2 is shown in Figure 7.5. The cast steel core has a mean length of 25 cm. The air gap is 1 mm wide and the coil has 5000 turns. The B–H curve for cast steel is shown on page 78. Determine the current in the coil to produce a flux density of 0.80 T in the air gap, assuming that all the flux passes through both parts of the magnetic circuit.\n",
"\n",
"//initializing the variables:\n",
"A = 2E-4; // in m2\n",
"l1 = 0.25; // in m\n",
"l2 = 0.001; // in m\n",
"u0 = 4*%pi*1E-7;\n",
"N = 5000; // no. of turns\n",
"B = 0.8; // in tesla\n",
"ua = 1; // for air\n",
"\n",
"//calculation:\n",
"//for the core\n",
"//From the B–H curve for Mild steel, corresponding to value of B = 0.8\n",
"H = 750\n",
"ur = B/(u0*H)\n",
"S1 = l1/(u0*ur*A)\n",
"//For the air gap:\n",
"S2 = l2/(u0*ua*A)\n",
"St = S1 + S2\n",
"//flux\n",
"Phi = B*A\n",
"//current\n",
"I = St*Phi/N\n",
"\n",
"printf('\n\nResult\n\n')\n",
"printf('\n current = %.3f A',I)"
   ]
   }
],
"metadata": {
		  "kernelspec": {
		   "display_name": "Scilab",
		   "language": "scilab",
		   "name": "scilab"
		  },
		  "language_info": {
		   "file_extension": ".sce",
		   "help_links": [
			{
			 "text": "MetaKernel Magics",
			 "url": "https://github.com/calysto/metakernel/blob/master/metakernel/magics/README.md"
			}
		   ],
		   "mimetype": "text/x-octave",
		   "name": "scilab",
		   "version": "0.7.1"
		  }
		 },
		 "nbformat": 4,
		 "nbformat_minor": 0
}
