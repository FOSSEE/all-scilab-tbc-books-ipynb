{
"cells": [
 {
		   "cell_type": "markdown",
	   "metadata": {},
	   "source": [
       "# Chapter 34: Delta star and star delta transformations"
	   ]
	},
{
		   "cell_type": "markdown",
		   "metadata": {},
		   "source": [
			"## Example 34.02: Example_2.sce"
		   ]
		  },
  {
"cell_type": "code",
	   "execution_count": null,
	   "metadata": {
	    "collapsed": true
	   },
	   "outputs": [],
"source": [
"//Problem 34.02: For the network shown in Figure 34.7, determine (a) the equivalent circuit impedance across terminals AB, (b) supply current I and (c) the power dissipated in the 10 ohm resistor.\n",
"\n",
"//initializing the variables:\n",
"rv = 40; // in volts\n",
"thetav = 0; // in degrees\n",
"ZA = %i*10; // in ohm\n",
"ZB = %i*15; // in ohm\n",
"ZC = %i*25; // in ohm\n",
"ZD = -1*%i*8; // in ohm\n",
"ZE = 10; // in ohm\n",
"\n",
"//calculation: \n",
"//voltage\n",
"V = rv*cos(thetav*%pi/180) + %i*rv*sin(thetav*%pi/180)\n",
"//The network of Figure 34.7 is redrawn, as in Figure 34.8, showing more clearly the part of the network 1, 2, 3 forming a delta connection  This may he transformed into a star connection as shown in Figure 34.9.\n",
"Z1 = ZA*ZB/(ZA + ZB + ZC)\n",
"Z2 = ZC*ZB/(ZA + ZB + ZC)\n",
"Z3 = ZA*ZC/(ZA + ZB + ZC)\n",
"//The equivalent network is shown in Figure 34.10 and is further simplified in Figure 34.11\n",
"//(ZE + Z3) in parallel with (Z1 + ZD) gives an equivalent impedance of\n",
"z = (ZE + Z3)*(Z1 + ZD)/(Z1 + ZD + ZE + Z3)\n",
"//Hence the total circuit equivalent impedance across terminals AB is given by\n",
"Zab = z + Z2\n",
"//Supply current I\n",
"I = V/Zab\n",
"I1 = ((Z1 + ZD)/(Z1 + ZD + ZE + Z3))*I\n",
"I1mag = (real(I1)^2 + imag(I1)^2)^0.5\n",
"//Power P dissipated in the 10 ohm resistance of Figure 34.7 is given by\n",
"Pr10 = ZE*I1mag^2\n",
"\n",
"printf('\n\n Result \n\n')\n",
"printf('\n (a)the equivalent circuit impedance across terminals AB is %.2f + (%.2f)i ohm',real(Zab), imag(Zab))\n",
"printf('\n (b)supply current I is %.2f + (%.2f)i A',real(I), imag(I))\n",
"printf('\n (c)power P dissipated in the 10 ohm resistor is %.2f W',Pr10)"
   ]
   }
,
{
		   "cell_type": "markdown",
		   "metadata": {},
		   "source": [
			"## Example 34.03: Example_3.sce"
		   ]
		  },
  {
"cell_type": "code",
	   "execution_count": null,
	   "metadata": {
	    "collapsed": true
	   },
	   "outputs": [],
"source": [
"//Problem 34.03: Determine, for the bridge network shown in Figure 34.12, (a) the value of the single equivalent resistance that replaces the network between terminals A and B, (b) the current supplied by the 52 V source, and (c) the current flowing in the 8 ohm resistance.\n",
"\n",
"//initializing the variables:\n",
"V = 52; // in volts\n",
"ZA = 8; // in ohm\n",
"ZB = 16; // in ohm\n",
"ZC = 40; // in ohm\n",
"ZD = 1; // in ohm\n",
"ZE = 4; // in ohm\n",
"\n",
"//calculation: \n",
"//In Figure 34.12, no resistances are directly in parallel or directly in series with each other. However, ACD and BCD are both delta connections and either may be converted into an equivalent star connection. The delta network BCD is redrawn in Figure 34.13(a) and is transformed into an equivalent star connection as shown in Figure 34.13(b), where\n",
"Z1 = ZA*ZB/(ZA + ZB + ZC)\n",
"Z2 = ZC*ZB/(ZA + ZB + ZC)\n",
"Z3 = ZA*ZC/(ZA + ZB + ZC)\n",
"//The network of Figure 34.12 may thus be redrawn as shown in Figure 34.14. The Z1 and ZE are in series with each other, as are the ZD and Z3 resistors. Hence the equivalent network is as shown in Figure 34.15. The total equivalent resistance across terminals A and B is given by\n",
"Zab = (Z1 + ZE)*(ZD + Z3)/(Z1 + ZE + ZD + Z3) + Z2\n",
"//Current supplied by the source, i.e., current I in Figure 34.15, is given by\n",
"I = V/Zab\n",
"//From Figure 34.15, current I1\n",
"I1 = ((ZD + Z3)/(Z1 + ZE + ZD + Z3))*I\n",
"//current I2\n",
"I2 = I - I1\n",
"//From Figure 34.14, p.d. across AC,\n",
"Vac = I1*ZE\n",
"//p.d. across AD\n",
"Vad = I2*ZD\n",
"//Hence p.d. between C and D is given\n",
"Vcd = Vac - Vad\n",
"//current in the 8 ohm resistance\n",
"Ir8 = Vcd/ZA\n",
"\n",
"printf('\n\n Result \n\n')\n",
"printf('\n (a)the equivalent circuit impedance across terminals AB is %.2f  ohm',Zab)\n",
"printf('\n (b)the current supplied by the 52 V source is %.2f  A',I)\n",
"printf('\n (c)the current flowing in the 8 ohm resistance is %.2f A',Ir8)"
   ]
   }
,
{
		   "cell_type": "markdown",
		   "metadata": {},
		   "source": [
			"## Example 34.05: Example_5.sce"
		   ]
		  },
  {
"cell_type": "code",
	   "execution_count": null,
	   "metadata": {
	    "collapsed": true
	   },
	   "outputs": [],
"source": [
"//Problem 34.05: For the network shown in Figure 34.20, determine (a) the current flowing in the (0+i10) ohm impedance, and (b) the power dissipated in the (20 + i0) ohm impedance.\n",
"\n",
"//initializing the variables:\n",
"rv = 120; // in volts\n",
"thetav = 0; // in degrees\n",
"ZA = 25 - %i*5; // in ohm\n",
"ZB = 15 + %i*10; // in ohm\n",
"ZC = 20 - %i*30; // in ohm\n",
"ZD = 20 + %i*0; // in ohm\n",
"ZE = 0 + %i*10; // in ohm\n",
"ZF = 2.5 - %i*5; // in ohm\n",
"\n",
"//calculation: \n",
"//voltage\n",
"V = rv*cos(thetav*%pi/180) + %i*rv*sin(thetav*%pi/180)\n",
"//The network may initially be simplified by transforming the delta PQR to its equivalent star connection as represented by impedances Z1, Z2 and Z3 in Figure 34.21. From equation (34.7),\n",
"Z1 = ZA*ZB/(ZA + ZB + ZC)\n",
"Z2 = ZC*ZB/(ZA + ZB + ZC)\n",
"Z3 = ZA*ZC/(ZA + ZB + ZC)\n",
"//The network is shown redrawn in Figure 34.22 and further simplified in Figure 34.23, from which,\n",
"Zab = ((Z3 + ZE)*(ZD + Z2)/(Z2 + ZE + ZD + Z3)) + (Z1 + ZF)\n",
"//Current I1\n",
"I1 = V/Zab\n",
"//current I2\n",
"I2 = ((ZE + Z3)/(Z2 + ZE + ZD + Z3))*I1\n",
"//current I3\n",
"I3 = I1 - I2\n",
"//The power P dissipated in the ZD impedance of Figure 34.20 is given by\n",
"Pzd = ZD*I2^2\n",
"\n",
"printf('\n\n Result \n\n')\n",
"printf('\n (a)the current flowing in the (0+i10) ohm impedance is %.2f  A',I3)\n",
"printf('\n (b) the power dissipated in the (20 + i0) ohm impedance is %.2f W',Pzd)"
   ]
   }
],
"metadata": {
		  "kernelspec": {
		   "display_name": "Scilab",
		   "language": "scilab",
		   "name": "scilab"
		  },
		  "language_info": {
		   "file_extension": ".sce",
		   "help_links": [
			{
			 "text": "MetaKernel Magics",
			 "url": "https://github.com/calysto/metakernel/blob/master/metakernel/magics/README.md"
			}
		   ],
		   "mimetype": "text/x-octave",
		   "name": "scilab",
		   "version": "0.7.1"
		  }
		 },
		 "nbformat": 4,
		 "nbformat_minor": 0
}
