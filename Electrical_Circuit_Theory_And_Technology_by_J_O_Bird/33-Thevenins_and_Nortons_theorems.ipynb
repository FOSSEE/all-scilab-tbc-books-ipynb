{
"cells": [
 {
		   "cell_type": "markdown",
	   "metadata": {},
	   "source": [
       "# Chapter 33: Thevenins and Nortons theorems"
	   ]
	},
{
		   "cell_type": "markdown",
		   "metadata": {},
		   "source": [
			"## Example 33.01: Example_1.sce"
		   ]
		  },
  {
"cell_type": "code",
	   "execution_count": null,
	   "metadata": {
	    "collapsed": true
	   },
	   "outputs": [],
"source": [
"//Problem 33.01: For the circuit shown in Figure 33.12, use Th´evenin’s theorem to determine (a) the current flowing in the capacitor, and (b) the p.d. across the 150 kohm resistor.\n",
"\n",
"//initializing the variables:\n",
"rv = 200; // in volts\n",
"thetav = 0; // in degrees\n",
"R1 = 5000; // in ohm\n",
"R2 = 20000; // in ohm\n",
"R3 = -1*%i*120000; // in ohm\n",
"R4 = 150000; // in ohm\n",
"\n",
"//calculation:\n",
"//voltage\n",
"V = rv*cos(thetav*%pi/180) + %i*rv*sin(thetav*%pi/180)\n",
"//Initially the (150-i120)kohm impedance is removed from the  circuit as shown in Figure 33.13.\n",
"//Note that, to find the current in the capacitor, only the capacitor need have been initially removed from the circuit. However, removing each of the components from the branch through which the current is required will often result in a simpler solution. \n",
"//From Figure 33.13,\n",
"//current, I1 \n",
"I1 = V/(R1 + R2)\n",
"//The open-circuit e.m.f. E is equal to the p.d. across the 20 kohm resistor, i.e.\n",
"E = I1*R2\n",
"//Removing the V1 source gives the network shown in Figure 33.14.\n",
"//The impedance, z, ‘looking in’ at the open-circuited terminals is given by\n",
"z = R1*R2/(R1 + R2)\n",
"//The Th´evenin equivalent circuit is shown in Figure 33.15, where current iL is given by\n",
"ZL = R3 + R4\n",
"IL = E/(ZL + z)\n",
"ILmag = (real(IL)^2 + imag(IL)^2)^0.5\n",
"//current flowing in the capacitor\n",
"Ic = ILmag\n",
"//P.d. across the 150 kohm resistor,\n",
"Vr150 = ILmag*R4\n",
"\n",
"printf('\n\n Result \n\n')\n",
"printf('\n(a)the current flowing in the capacitor is %.1E A',Ic)\n",
"printf('\n(b) the p.d. across the 150 ohm resistance is %.0f V',Vr150)"
   ]
   }
,
{
		   "cell_type": "markdown",
		   "metadata": {},
		   "source": [
			"## Example 33.02: Example_2.sce"
		   ]
		  },
  {
"cell_type": "code",
	   "execution_count": null,
	   "metadata": {
	    "collapsed": true
	   },
	   "outputs": [],
"source": [
"//Problem 33.02: Determine, for the network shown in Figure 33.16, the value of current I. Each of the voltage sources has a frequency of 2 kHz.\n",
"\n",
"//initializing the variables:\n",
"V1 = 20; // in volts\n",
"V2 = 10; // in volts\n",
"R1 = 2; // in ohm\n",
"R2 = 1.5; // in ohm\n",
"L = 235E-6; // in Henry\n",
"R4 = 3; // in ohm\n",
"f = 2000; // in Hz\n",
"\n",
"//calculation:\n",
"//The impedance through which current I is flowing is initially removed from the network, as shown in Figure 33.17.\n",
"//From Figure 33.17,\n",
"//current, I1 \n",
"I1 = (V1 - V2)/(R1 + R4)\n",
"//the open circuit e.m.f. E\n",
"E = V1 - I1*R1\n",
"//When the sources of e.m.f. are removed from the circuit, the impedance, z, ‘looking in’ at the break is given by\n",
"z = R1*R4/(R1 + R4)\n",
"//The Th´evenin equivalent circuit is shown in Figure 33.18, where inductive reactance,\n",
"XL = 2*%pi*f*L\n",
"R3 = %i*XL\n",
"//Hence current\n",
"I = E/(R2 + R3 + z)\n",
"\n",
"printf('\n\n Result \n\n')\n",
"printf('\n the current I is %.2f + (%.2f)i A',real(I), imag(I))"
   ]
   }
,
{
		   "cell_type": "markdown",
		   "metadata": {},
		   "source": [
			"## Example 33.03: Example_3.sce"
		   ]
		  },
  {
"cell_type": "code",
	   "execution_count": null,
	   "metadata": {
	    "collapsed": true
	   },
	   "outputs": [],
"source": [
"//Problem 33.03: Use Th´evenin’s theorem to determine the power dissipated in the 48 ohm resistor of the network shown in Figure 33.19\n",
"\n",
"//initializing the variables:\n",
"rv = 50; // in volts\n",
"thetav = 0; // in degrees\n",
"R1 = -1*%i*400; // in ohm\n",
"R2 = 300; // in ohm\n",
"R3 = %i*144; // in ohm\n",
"R4 = 48; // in ohm\n",
"\n",
"//calculation:\n",
"//voltage\n",
"V = rv*cos(thetav*%pi/180) + %i*rv*sin(thetav*%pi/180)\n",
"//The R3 and R4 impedance is initially removed from the network as shown in Figure 33.20.\n",
"//From Figure 33.20,\n",
"//current, I\n",
"i = V/(R1 + R2)\n",
"//the open circuit e.m.f. E\n",
"E = i*R2\n",
"//When the V is removed from the circuit, the impedance, z, ‘looking in’ at the break is given by\n",
"z = R1*R2/(R1 + R2)\n",
"//The Th´evenin equivalent circuit is shown in Figure 33.21 connected to R# and R4,\n",
"//Hence current\n",
"I = E/(R4 + R3 + z)\n",
"Imag = (real(I)^2 + imag(I)^2)^0.5\n",
"//the power dissipated in the 48 ohm resistor\n",
"Pr48 = R4*Imag^2\n",
"\n",
"printf('\n\n Result \n\n')\n",
"printf('\n the power dissipated in the 48 ohm resistor is %.2f W',Pr48)"
   ]
   }
,
{
		   "cell_type": "markdown",
		   "metadata": {},
		   "source": [
			"## Example 33.04: Example_4.sce"
		   ]
		  },
  {
"cell_type": "code",
	   "execution_count": null,
	   "metadata": {
	    "collapsed": true
	   },
	   "outputs": [],
"source": [
"//Problem 33.04:For the network shown in Figure 33.22, use Th´evenin’s theorem to determine the current flowing in the 80 ohm resistor.\n",
"\n",
"//initializing the variables:\n",
"V = 100; // in volts\n",
"R1 = 5; // in ohm\n",
"R2 = 20; // in ohm\n",
"R3 = 46; // in ohm\n",
"R4 = 50; // in ohm\n",
"R5 = 15; // in ohm\n",
"R6 = 60; // in ohm\n",
"R7 = 16; // in ohm\n",
"R8 = 80; // in ohm\n",
"\n",
"//calculation:\n",
"//One method of analysing a multi-branch network as shown in Figure 33.22 is to use Th´evenin’s theorem on one part of the network at a time. For example, the part of the circuit to the left of AA may be reduced to a Th´evenin equivalent circuit.\n",
"//From Figure 33.23,\n",
"E1 = (R2/(R1 + R2))*V\n",
"z1 = R1*R2/(R1 + R2)\n",
"//Thus the network of Figure 33.22 reduces to that of Figure 33.24. The part of the network shown in Figure 33.24 to the left of BB may be reduced to a Th´evenin equivalent circuit, where\n",
"E2 = (R4/(R3 + R4 + z1))*E1\n",
"z2 = R4*(z1 + R3)/(R4 + z1 + R3)\n",
"//Thus the original network reduces to that shown in Figure 33.25. The part of the network shown in Figure 33.25 to the left of CC may be reduced to a Th´evenin equivalent circuit, where\n",
"E3 = (R6/(R5 + R6 + z2))*E2\n",
"z3 = R6*(z2 + R5)/(R5 + z2 + R6)\n",
"//Thus the original network reduces to that of Figure 33.26, from which the current in the 80 ohm resistor is given by\n",
"I = E3/(z3 + R7 + R8)\n",
"\n",
"printf('\n\n Result \n\n')\n",
"printf('\n the current flowing in the 80 ohm resistor is %.2f A',I)"
   ]
   }
,
{
		   "cell_type": "markdown",
		   "metadata": {},
		   "source": [
			"## Example 33.05: Example_5.sce"
		   ]
		  },
  {
"cell_type": "code",
	   "execution_count": null,
	   "metadata": {
	    "collapsed": true
	   },
	   "outputs": [],
"source": [
"//Problem 33.05:Determine the Th´evenin equivalent circuit with respect to terminals AB of the circuit shown in Figure 33.27. Hence determine (a) the magnitude of the current flowing in a (3.75 + i11) ohm impedance connected across terminals AB, and (b) the magnitude of the p.d. across the( 3.75 + i11)ohm impedance.\n",
"\n",
"//initializing the variables:\n",
"rv = 24; // in volts\n",
"thetav = 0; // in degrees\n",
"R1 = -1*%i*3; // in ohm\n",
"R2 = 4; // in ohm\n",
"R3 = %i*3; // in ohm\n",
"\n",
"//calculation:\n",
"//voltage\n",
"V = rv*cos(thetav*%pi/180) + %i*rv*sin(thetav*%pi/180)\n",
"//Current I1 shown in Figure 33.27 is given by\n",
"I1 = V/(R1 + R2 + R3)\n",
"//The Th´evenin equivalent voltage, i.e., the open-circuit voltage across terminals AB, is given by\n",
"E = I1*(R2 + R3)\n",
"//When the voltage source is removed, the impedance z ‘looking in’ at AB is given by\n",
"z = (R2 + R3)*R1/(R1 + R2 + R3)\n",
"//Thus the Th´evenin equivalent circuit is as shown in Figure 33.28.\n",
"//when (3.75 + i11) ohm impedance connected across terminals AB, the current I flowing in the impedance is given by\n",
"R = 3.75 + %i*11;  // in ohms\n",
"I = E/(R + z)\n",
"Imag = (real(I)^2 + imag(I)^2)^0.5\n",
"//the p.d. across the( 3.75 + i11)ohm impedance.\n",
"VR = I*R\n",
"VRmag = (real(VR)^2 + imag(VR)^2)^0.5\n",
"\n",
"printf('\n\n Result \n\n')\n",
"printf('\n (a) the current I flowing in the (3.75 + i11) impedance is given by is %.0f A',Imag)\n",
"printf('\n (b) the magnitude of the p.d. across the impedance is %.1f V',VRmag)"
   ]
   }
,
{
		   "cell_type": "markdown",
		   "metadata": {},
		   "source": [
			"## Example 33.06: Example_6.sce"
		   ]
		  },
  {
"cell_type": "code",
	   "execution_count": null,
	   "metadata": {
	    "collapsed": true
	   },
	   "outputs": [],
"source": [
"//Problem 33.06: Use Th´evenin’s theorem to determine the current flowing in the capacitor of the network shown in Figure 33.29.\n",
"\n",
"//initializing the variables:\n",
"rv = 16.55; // in volts\n",
"thetav = -22.62; // in degrees\n",
"R1 = 4; // in ohm\n",
"R2 = %i*2; // in ohm\n",
"R3 = %i*6; // in ohm\n",
"R4 = 3; // in ohm\n",
"R5 = 5; // in ohm\n",
"R6 = -1*%i*8; // in ohm\n",
"\n",
"//calculation:\n",
"//voltage\n",
"V = rv*cos(thetav*%pi/180) + %i*rv*sin(thetav*%pi/180)\n",
"//The capacitor is removed from branch AB, as shown in Figure 33.30.\n",
"//Impedance, Z\n",
"Z1 = R3 + R4 + R5\n",
"Z = R1 + (Z1*R2/(R2 + Z1))\n",
"I1 = V/Z\n",
"I2 = (R2/(R2 +Z1))*I1\n",
"//The open-circuit voltage, E\n",
"E = I2*R5\n",
"//If the voltage source is removed from Figure 33.30, the impedance, z, ‘looking in’ at AB is given by\n",
"z = R5*((R1*R2/(R1 + R2)) + R3 + R4)/(R5 + ((R1*R2/(R1 + R2)) + R3 + R4))\n",
"//The Th´evenin equivalent circuit is shown in Figure 33.31, where the current flowing in the capacitor, I, is given by\n",
"I = E/(z + R6)\n",
"Imag = (real(I)^2 + imag(I)^2)^0.5\n",
"phiid = (atan(imag(I)/real(I)))*180/%pi\n",
"printf('\n\n Result \n\n')\n",
"printf('\n the current flowing in the capacitor of the network is %.2f/_%.2f° A',Imag,phiid)"
   ]
   }
,
{
		   "cell_type": "markdown",
		   "metadata": {},
		   "source": [
			"## Example 33.07: Example_7.sce"
		   ]
		  },
  {
"cell_type": "code",
	   "execution_count": null,
	   "metadata": {
	    "collapsed": true
	   },
	   "outputs": [],
"source": [
"//Problem 33.07: For the network shown in Figure 33.32, derive the Th´evenin equivalent circuit with respect to terminals PQ, and hence determine the power dissipated by a 2 ohm resistor connected across PQ.\n",
"\n",
"//initializing the variables:\n",
"rv1 = 5; // in volts\n",
"rv2 = 10; // in volts\n",
"thetav1 = 45; // in degrees\n",
"thetav2 = 0; // in degrees\n",
"R1 = 8; // in ohm\n",
"R2 = 5; // in ohm\n",
"R3 = %i*3; // in ohm\n",
"R4 = 4; // in ohm\n",
"\n",
"//calculation:\n",
"//voltage\n",
"V1 = rv1*cos(thetav1*%pi/180) + %i*rv1*sin(thetav1*%pi/180)\n",
"V2 = rv2*cos(thetav2*%pi/180) + %i*rv2*sin(thetav2*%pi/180)\n",
"//Current I1 shown in Figure 33.32 is given by\n",
"I1 = V2/(R2 + R3 + R4)\n",
"//Hence the voltage drop across the 5 ohm resistor is given by VX is in the direction shown in Figure 33.32,\n",
"Vx = I1*R2\n",
"//The open-circuit voltage E across PQ is the phasor sum of V1, Vx and V2, as shown in Figure 33.33.\n",
"E = V2 - V1 - Vx\n",
"//The impedance, z, ‘looking in’ at terminals PQ with the voltage sources removed is given by\n",
"z = R1 + R2*(R3 + R4)/(R2 + R3 + R4)\n",
"//The Th´evenin equivalent circuit is shown in Figure 33.34 with the 2 ohm resistance connected across terminals PQ.\n",
"//The current flowing in the 2 ohm resistance is given by\n",
"R = 2; // in ohms\n",
"I = E/(z + R)\n",
"Imag = (real(I)^2 + imag(I)^2)^0.5\n",
"//power P dissipated in the 2 ohm resistor is given by\n",
"Pr2 = R*Imag^2\n",
"\n",
"printf('\n\n Result \n\n')\n",
"printf('\n power P dissipated in the 2 ohm resistor is %.4f W',Pr2)"
   ]
   }
,
{
		   "cell_type": "markdown",
		   "metadata": {},
		   "source": [
			"## Example 33.08: Example_8.sce"
		   ]
		  },
  {
"cell_type": "code",
	   "execution_count": null,
	   "metadata": {
	    "collapsed": true
	   },
	   "outputs": [],
"source": [
"//Problem 33.08: For the a.c. bridge network shown in Figure 33.35, determine the current flowing in the capacitor, and its direction, by using Th´evenin’s theorem. Assume the 306/_0° V source to have negligible internal impedance.\n",
"\n",
"//initializing the variables:\n",
"rv = 30; // in volts\n",
"thetav = 0; // in degrees\n",
"R1 = 15; // in ohm\n",
"R2 = 40; // in ohm\n",
"R3 = %i*20; // in ohm\n",
"R4 = 20; // in ohm\n",
"R5 = %i*5; // in ohm\n",
"R6 = 5; // in ohm\n",
"R7 = -1*%i*25; // in ohm\n",
"\n",
"//calculation:\n",
"//voltage\n",
"V = rv*cos(thetav*%pi/180) + %i*rv*sin(thetav*%pi/180)\n",
"//The R7 is initially removed from the network, as shown in Figure 33.36\n",
"Z1 = R1\n",
"Z2 = R2\n",
"Z3 = R3 + R4\n",
"Z4 = R5 + R6\n",
"//P.d. between A and C,\n",
"Vac = (Z1/(Z1 + Z4))*V\n",
"//P.d. between B and C,\n",
"Vbc = (Z2/(Z2 + Z3))*V\n",
"//Assuming that point A is at a higher potential than point B, then the p.d. between A and B is\n",
"Vab = Vac - Vbc\n",
"//the open-circuit voltage across AB is given by\n",
"E = Vab\n",
"//Point C is at a potential of V . Between C and A is a volt drop of Vac. Hence the voltage at point A is\n",
"Va = V - Vac\n",
"//Between points C and B is a voltage drop of Vbc. Hence the voltage at point B\n",
"Vb = V - Vbc\n",
"//Replacing the V source with a short-circuit (i.e., zero internal impedance) gives the network shown in Figure 33.37(a). The network is shown redrawn in Figure 33.37(b) and simplified in Figure 33.37(c). Hence the impedance, z, ‘looking in’ at terminals AB is given by\n",
"z = Z1*Z4/(Z1 + Z4) + Z2*Z3/(Z2 + Z3)\n",
"//The Th´evenin equivalent circuit is shown in Figure 33.38, where current I is given by\n",
"I = E/(z + R7)\n",
"Imag = (real(I)^2 + imag(I)^2)^0.5\n",
"\n",
"printf('\n\n Result \n\n')\n",
"printf('\n  the current flowing in the capacitor is %.3f A in direction from B to A.',Imag)"
   ]
   }
,
{
		   "cell_type": "markdown",
		   "metadata": {},
		   "source": [
			"## Example 33.09: Example_9.sce"
		   ]
		  },
  {
"cell_type": "code",
	   "execution_count": null,
	   "metadata": {
	    "collapsed": true
	   },
	   "outputs": [],
"source": [
"//Problem 33.09: Use Norton’s theorem to determine the value of current I in the circuit shown in Figure 33.47.\n",
"\n",
"//initializing the variables:\n",
"V = 5; // in volts\n",
"R1 = 2; // in ohm\n",
"R2 = 3; // in ohm\n",
"R3 = -1*%i*3; // in ohm\n",
"R4 = 2.8; // in ohm\n",
"\n",
"//calculation:\n",
"//The branch containing the R4 is short-circuited, as shown in Figure 33.48.\n",
"//The R2 in parallel with a short-circuit is the same as R2 in parallel with 0 ohm giving an equivalent impedance of\n",
"Z1 = R2*0/(R3 + 0)\n",
"//Hence the network reduces to that shown in Figure 33.49, where\n",
"Isc = V/R1\n",
"//If the Voltage source is removed from the network the input impedance, z, ‘looking-in’ at a break made in AB of Figure 33.48 gives\n",
"z = R1*R2/(R1 + R2)\n",
"//The Norton equivalent network is shown in Figure 33.51, where current I is given by\n",
"I = (z/(z + R4 + R3))*Isc\n",
"\n",
"printf('\n\n Result \n\n')\n",
"printf('\n  the current flowing in the capacitor is %.2f + (%.2f)i A',real(I), imag(I))"
   ]
   }
,
{
		   "cell_type": "markdown",
		   "metadata": {},
		   "source": [
			"## Example 33.10: Example_10.sce"
		   ]
		  },
  {
"cell_type": "code",
	   "execution_count": null,
	   "metadata": {
	    "collapsed": true
	   },
	   "outputs": [],
"source": [
"//Problem 33.10: For the circuit shown in Figure 33.52 determine the current flowing in the inductive branch by using Norton’s theorem.\n",
"\n",
"//initializing the variables:\n",
"V1 = 20; // in volts\n",
"V2 = 10; // in volts\n",
"R1 = 2; // in ohm\n",
"R2 = 1.5; // in ohm\n",
"R3 = %i*2.95; // in ohm\n",
"R4 = 3; // in ohm\n",
"\n",
"//calculation:\n",
"//The inductive branch is initially short-circuited, as shown in Figure 33.53.\n",
"//From Figure 33.53,\n",
"I1 = V1/R1\n",
"I2 = V2/R4\n",
"Isc = I1 + I2\n",
"//If the voltage sources are removed, the impedance, z, ‘looking in’ at a break made in AB is given by\n",
"z = R1*R4/(R1 + R4)\n",
"//The Norton equivalent network is shown in Figure 33.54, where current I is given by\n",
"I = (z/(z + R2 + R3))*Isc\n",
"\n",
"printf('\n\n Result \n\n')\n",
"printf('\n  the current flowing in the inductive branch is %.2f + (%.2f)i A',real(I), imag(I))"
   ]
   }
,
{
		   "cell_type": "markdown",
		   "metadata": {},
		   "source": [
			"## Example 33.11: Example_11.sce"
		   ]
		  },
  {
"cell_type": "code",
	   "execution_count": null,
	   "metadata": {
	    "collapsed": true
	   },
	   "outputs": [],
"source": [
"//Problem 33.11: Use Norton’s theorem to determine the magnitude of the p.d. across the 1 ohm resistance of the network shown in Figure 33.55.\n",
"\n",
"//initializing the variables:\n",
"V = 10; // in volts\n",
"R1 = 4; // in ohm\n",
"R2 = 4; // in ohm\n",
"R3 = -1*%i*2; // in ohm\n",
"R4 = 1; // in ohm\n",
"\n",
"//calculation:\n",
"//The branch containing the R4 is initially short-circuited, as shown in Figure 33.56.\n",
"//R2 in parallel with R3 in parallel with 0 ohm (i.e., the short-circuit) is equivalent 0 ohm giving the equivalent circuit of Figure 33.57. Hence Isc\n",
"Isc = V/R1\n",
"//The voltage source is removed from the network of Figure 33.55, as shown in Figure 33.58, and the impedance z, ‘looking in’ at a break made in AB is given by\n",
"z = 1/(1/R1 + 1/R2 + 1/R3)\n",
"//The Norton equivalent network is shown in Figure 33.59, from which current I is given by\n",
"I = (z/(z + R4))*Isc\n",
"Imag = (real(I)^2 + imag(I)^2)^0.5\n",
"Vr1 = Imag*R4\n",
"\n",
"printf('\n\n Result \n\n')\n",
"printf('\n the magnitude of the p.d. across the 1 ohm resistor is %.2f V', Vr1)"
   ]
   }
,
{
		   "cell_type": "markdown",
		   "metadata": {},
		   "source": [
			"## Example 33.12: Example_12.sce"
		   ]
		  },
  {
"cell_type": "code",
	   "execution_count": null,
	   "metadata": {
	    "collapsed": true
	   },
	   "outputs": [],
"source": [
"//Problem 33.12:For the network shown in Figure 33.60, obtain the Norton equivalent network at terminals AB. Hence determine the power dissipated in a 5 ohm resistor connected between A and B.\n",
"\n",
"//initializing the variables:\n",
"rv = 20; // in volts\n",
"thetav = 0; // in degrees\n",
"R1 = 2; // in ohm\n",
"R2 = 4; // in ohm\n",
"R3 = %i*3; // in ohm\n",
"R4 = -1*%i*3; // in ohm\n",
"\n",
"//calculation:\n",
"//voltage\n",
"V = rv*cos(thetav*%pi/180) + %i*rv*sin(thetav*%pi/180)\n",
"//Terminals AB are initially short-circuited, as shown in Figure 33.61.\n",
"//The circuit impedance Z presented to the voltage source is given by\n",
"Z = R1 + R4*(R2 + R3)/(R2 + R3 + R4)\n",
"//Thus current I in Figure 33.61 is given by\n",
"I = V/Z\n",
"Isc = ((R2 + R3)/(R2 + R3 + R4))*I\n",
"//Removing the voltage source of Figure 33.60 gives the network Figure 33.62 of Figure 33.62. Impedance, z, ‘looking in’ at terminals AB is given by\n",
"z = R4 + R1*(R2 + R3)/(R2 + R3 + R1)\n",
"//The Norton equivalent network is shown in Figure 33.63.\n",
"R = 5; // in ohms\n",
"//Current IL\n",
"IL = (z/(z + R))*Isc\n",
"ILmag = (real(IL)^2 + imag(IL)^2)^0.5\n",
"//the power dissipated in the 5 ohm resistor is\n",
"Pr5 = R*ILmag^2\n",
"\n",
"printf('\n\n Result \n\n')\n",
"printf('\n the power dissipated in the 5 ohm resistor is %.2f W', Pr5)"
   ]
   }
,
{
		   "cell_type": "markdown",
		   "metadata": {},
		   "source": [
			"## Example 33.13: Example_13.sce"
		   ]
		  },
  {
"cell_type": "code",
	   "execution_count": null,
	   "metadata": {
	    "collapsed": true
	   },
	   "outputs": [],
"source": [
"//Problem 33.13:Derive the Norton equivalent network with respect to terminals PQ for the network shown in Figure 33.64 and hence determine the magnitude of the current flowing in a 2 ohm resistor connected across PQ.\n",
"\n",
"//initializing the variables:\n",
"rv1 = 5; // in volts\n",
"rv2 = 10; // in volts\n",
"thetav1 = 45; // in degrees\n",
"thetav2 = 0; // in degrees\n",
"R1 = 8; // in ohm\n",
"R2 = 5; // in ohm\n",
"R3 = %i*3; // in ohm\n",
"R4 = 4; // in ohm\n",
"\n",
"//calculation:\n",
"//voltage\n",
"V1 = rv1*cos(thetav1*%pi/180) + %i*rv1*sin(thetav1*%pi/180)\n",
"V2 = rv2*cos(thetav2*%pi/180) + %i*rv2*sin(thetav2*%pi/180)\n",
"//Terminals PQ are initially short-circuited, as shown in Figure 33.65.\n",
"//Currents I1 and I2 are shown labelled. Kirchhoff’s laws are used.\n",
"//For loop ABCD, and moving anticlockwise,\n",
"//I1*(R2 + R3 + R4) + I2*(R3 + R4) = V2\n",
"//For loop DPQC, and moving clockwise,\n",
"//R2*I1 - R1*I2 = V2 - V1\n",
"//Solving Equations by using determinants gives\n",
"d1 = [V2 (R3 + R4); (V2 - V1) -1*R1]\n",
"D1 = det(d1)\n",
"d2 = [(R2 + R3 + R4) V2; R2 (V2 - V1)]\n",
"D2 = det(d2)\n",
"d = [(R2 + R3 + R4) (R3 + R4); R2 -1*R1]\n",
"D = det(d)\n",
"I1 = D1/D\n",
"I2 = D2/D\n",
"//the short-circuit current Isc\n",
"Isc = I2\n",
"//The impedance, z, ‘looking in’ at a break made between P and Q is given by\n",
"z = R1 + R2*(R3 + R4)/(R2 + R3 + R4)\n",
"//The Norton equivalent circuit is shown in Figure 33.66, where current I is given by\n",
"R = 2; //in ohm\n",
"I = (z/(z + R))*Isc\n",
"Imag = (real(I)^2 + imag(I)^2)^0.5\n",
"\n",
"printf('\n\n Result \n\n')\n",
"printf('\n the magnitude of the current flowing 5 ohm resistor is %.2f A', Imag)"
   ]
   }
,
{
		   "cell_type": "markdown",
		   "metadata": {},
		   "source": [
			"## Example 33.15: Example_15.sce"
		   ]
		  },
  {
"cell_type": "code",
	   "execution_count": null,
	   "metadata": {
	    "collapsed": true
	   },
	   "outputs": [],
"source": [
"//Problem 33.15: (a) Convert the circuit to the left of terminals AB in Figure 33.72 to an equivalent Th´evenin circuit by initially converting to a Norton equivalent circuit. (b) Determine the magnitude of the current flowing in the (1.8+i4) ohm impedance connected between terminals A and B of Figure 33.72.\n",
"\n",
"//initializing the variables:\n",
"E1 = 12; // in volts\n",
"E2 = 24; // in volts\n",
"Z1 = 3; // in ohm\n",
"Z2 = 2; // in ohm\n",
"R1 = %i*4; // in ohm\n",
"R2 = 1.8; // in ohm\n",
"\n",
"//calculation:\n",
"Z3 = R1 + R2\n",
"//For the branch containing the E1 source, conversion to a Norton equivalent network gives\n",
"Isc1 = E1/Z1\n",
"//For the branch containing the E2 source, conversion to a Norton equivalent circuit gives\n",
"Isc2 = E2/Z2\n",
"//Thus Figure 33.73 shows a network equivalent to Figure 33.72. From Figure 33.73, the total short-circuit current\n",
"Isc = Isc1 + Isc2\n",
"//the total impedance is given by\n",
"z = Z1*Z2/(Z1 + Z2)\n",
"//Thus Figure 33.73 simplifies to Figure 33.74.\n",
"//The open-circuit voltage across AB of Figure 33.74, E\n",
"E = Isc*z\n",
"//the impedance ‘looking in’ at AB,is z\n",
"//the Th´evenin equivalent circuit is as shown in Figure 33.75.\n",
"R = 1.8 + %i*4; // in ohm\n",
"//when R impedance is connected to terminals AB of Figure 33.75, the current I flowing is given by\n",
"I = E/(z + R)\n",
"Imag = (real(I)^2 + imag(I)^2)^0.5\n",
"\n",
"printf('\n\n Result \n\n')\n",
"printf('\n the magnitude of the current flowing (1.8 + i4) ohm resistor is %.2f A', Imag)"
   ]
   }
,
{
		   "cell_type": "markdown",
		   "metadata": {},
		   "source": [
			"## Example 33.16: Example_16.sce"
		   ]
		  },
  {
"cell_type": "code",
	   "execution_count": null,
	   "metadata": {
	    "collapsed": true
	   },
	   "outputs": [],
"source": [
"//Problem 33.16: Determine, by successive conversions between Th´evenin’s and Norton’s equivalent networks, a Th´evenin equivalent circuit for terminals AB of Figure 33.76. Hence determine the magnitude of the current flowing in the capacitive branch connected to terminals AB.\n",
"\n",
"//initializing the variables:\n",
"V1 = 5; // in volts\n",
"V2 = 10; // in volts\n",
"i = 0.001; // in Amperes\n",
"R1 = 1000; // in ohm\n",
"R2 = 4000; // in ohm\n",
"R3 = 2000; // in ohm\n",
"R4 = 200; // in ohm\n",
"R5 = -1*%i*4000; // in ohm\n",
"\n",
"//calculation: \n",
"//For the branch containing the V1 source, conversion to a Norton equivalent network gives\n",
"Isc1 = V1/R1\n",
"z1 = R1\n",
"//For the branch containing the V2 source, conversion to a Norton equivalent circuit gives\n",
"Isc2 = V2/R2\n",
"z2 = R2\n",
"//Thus the circuit of Figure 33.76 converts to that of Figure 33.77.\n",
"//The above two Norton equivalent networks shown in Figure 33.77 may be combined, since the total short-circuit current is\n",
"Isc = Isc1 + Isc2\n",
"//the total impedance is given by\n",
"Z1 = z1*z2/(z1 + z2)\n",
"//Both of the Norton equivalent networks shown in Figure 33.78 may be converted to Th´evenin equivalent circuits. Open-circuit voltage across CD is\n",
"Ecd = Isc*Z1\n",
"//the impedance ‘looking in’ at CD is Z1\n",
"//Open-circuit voltage across EF\n",
"Eef = i*R3\n",
"//the impedance ‘looking in’ Figure 33.79 at EF\n",
"Z2 = R3\n",
"//Thus Figure 33.78 converts to Figure 33.79.\n",
"//Combining the two Th´evenin circuits gives e.m.f.\n",
"E = Ecd - Eef\n",
"//impedance z\n",
"z = Z1 + Z2\n",
"//the Th´evenin equivalent circuit for terminals AB of Figure 33.76 is as shown in Figure 33.80.\n",
"Z3 = R4 + R5\n",
"//If an impedance Z3 is connected across terminals AB, then the current I flowing is given by\n",
"I = E/(z + Z3)\n",
"Imag = (real(I)^2 + imag(I)^2)^0.5\n",
"\n",
"printf('\n\n Result \n\n')\n",
"printf('\n the current in the capacitive branch is %.2E A', Imag)"
   ]
   }
,
{
		   "cell_type": "markdown",
		   "metadata": {},
		   "source": [
			"## Example 33.17: Example_17.sce"
		   ]
		  },
  {
"cell_type": "code",
	   "execution_count": null,
	   "metadata": {
	    "collapsed": true
	   },
	   "outputs": [],
"source": [
"//Problem 33.17: (a) Determine an equivalent Th´evenin circuit for terminals AB of the network shown in Figure 33.81. (b) Calculate the power dissipated in a (600 - i800)ohm impedance connected between A and B of Figure 33.81.\n",
"\n",
"//initializing the variables:\n",
"V = 5; // in volts\n",
"i = 0.004; // in Amperes\n",
"R1 = 2000; // in ohm\n",
"R2 = %i*1000; // in ohm\n",
"\n",
"//calculation: \n",
"//Converting the Th´evenin circuit to a Norton network gives\n",
"Isc1 = V/R2\n",
"//Thus Figure 33.81 converts to that shown in Figure 33.82. The two Norton equivalent networks may be combined, giving\n",
"Isc = Isc1 + i\n",
"z = R1*R2/(R1 + R2)\n",
"//This results in the equivalent network shown in Figure 33.83. Converting to an equivalent Th´evenin circuit gives open circuit e.m.f. across AB,\n",
"E = Isc*z\n",
"//Thus the The´venin equivalent circuit is as shown in Figure 33.84.\n",
"R = 600 - %i*800; // in ohms\n",
"//When a R impedance is connected across AB, the current I flowing is given by\n",
"I = E/(z + R)\n",
"Imag = (real(I)^2 + imag(I)^2)^0.5\n",
"//the power dissipated in the R resistor is\n",
"PR = R*Imag^2\n",
"\n",
"printf('\n\n Result \n\n')\n",
"printf('\n the power dissipated in the (600 - i800) ohm resistor is %.2E W', PR)"
   ]
   }
],
"metadata": {
		  "kernelspec": {
		   "display_name": "Scilab",
		   "language": "scilab",
		   "name": "scilab"
		  },
		  "language_info": {
		   "file_extension": ".sce",
		   "help_links": [
			{
			 "text": "MetaKernel Magics",
			 "url": "https://github.com/calysto/metakernel/blob/master/metakernel/magics/README.md"
			}
		   ],
		   "mimetype": "text/x-octave",
		   "name": "scilab",
		   "version": "0.7.1"
		  }
		 },
		 "nbformat": 4,
		 "nbformat_minor": 0
}
