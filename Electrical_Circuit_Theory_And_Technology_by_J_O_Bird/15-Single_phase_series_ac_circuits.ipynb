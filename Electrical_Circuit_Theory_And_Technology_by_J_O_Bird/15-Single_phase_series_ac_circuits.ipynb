{
"cells": [
 {
		   "cell_type": "markdown",
	   "metadata": {},
	   "source": [
       "# Chapter 15: Single phase series ac circuits"
	   ]
	},
{
		   "cell_type": "markdown",
		   "metadata": {},
		   "source": [
			"## Example 15.01: Example_1.sce"
		   ]
		  },
  {
"cell_type": "code",
	   "execution_count": null,
	   "metadata": {
	    "collapsed": true
	   },
	   "outputs": [],
"source": [
"//Problem 15.01: (a) Calculate the reactance of a coil of inductance 0.32 H when it is connected to a 50 Hz supply. (b) A coil has a reactance of 124 ohm in a circuit with a supply of frequency 5 kHz. Determine the inductance of the coil.\n",
"\n",
"//initializing the variables:\n",
"L = 0.32; // in Henry\n",
"f1 = 50; // in Hz\n",
"f2 = 5000; // in Hz\n",
"Z = 124; // in ohms\n",
"\n",
"//calculation:\n",
"XL = 2*%pi*f1*L\n",
"L = Z/(2*%pi*f2)\n",
"\n",
"printf('\n\n Result \n\n') \n",
"printf('\n (a)Inductive reactance, XL = %.1f ohms ', XL)\n",
"printf('\n (b)Inductance L = %.2E H',L)"
   ]
   }
,
{
		   "cell_type": "markdown",
		   "metadata": {},
		   "source": [
			"## Example 15.02: Example_2.sce"
		   ]
		  },
  {
"cell_type": "code",
	   "execution_count": null,
	   "metadata": {
	    "collapsed": true
	   },
	   "outputs": [],
"source": [
"//Problem 15.02: A coil has an inductance of 40 mH and negligible resistance. Calculate its inductive reactance and the resulting current if connected to (a) a 240 V, 50 Hz supply, and (b) a 100 V, 1 kHz supply.\n",
"\n",
"//initializing the variables:\n",
"L = 0.040; // in Henry\n",
"V1 = 240; // in volts\n",
"V2 = 100; // in volts\n",
"f1 = 50; // in Hz\n",
"f2 = 1000; // in Hz\n",
"\n",
"//calculation:\n",
"XL1 = 2*%pi*f1*L\n",
"I1 = V1/XL1\n",
"XL2 = 2*%pi*f2*L\n",
"I2 = V2/XL2\n",
"\n",
"printf('\n\n Result \n\n') \n",
"printf('\n (a)Inductive reactance, XL = %.2f ohms and current I = %.2f A', XL1, I1)\n",
"printf('\n (b)Inductive reactance, XL = %.1f ohms and current I = %.3f A', XL2, I2)"
   ]
   }
,
{
		   "cell_type": "markdown",
		   "metadata": {},
		   "source": [
			"## Example 15.03: Example_3.sce"
		   ]
		  },
  {
"cell_type": "code",
	   "execution_count": null,
	   "metadata": {
	    "collapsed": true
	   },
	   "outputs": [],
"source": [
"//Problem 15.03: Determine the capacitive reactance of a capacitor of 10 μF when connected to a circuit of frequency (a) 50 Hz (b) 20 kHz\n",
"\n",
"//initializing the variables:\n",
"C = 10E-6; // in Farads\n",
"f1 = 50; // in Hz\n",
"f2 = 20000; // in Hz\n",
"\n",
"//calculation:\n",
"Xc1 = 1/(2*%pi*f1*C)\n",
"Xc2 = 1/(2*%pi*f2*C)\n",
"\n",
"printf('\n\n Result \n\n') \n",
"printf('\n (a)Capacitive reactance, Xc = %.1f ohms ', Xc1)\n",
"printf('\n (b)Capacitive reactance, Xc = %.3f ohms ', Xc2)"
   ]
   }
,
{
		   "cell_type": "markdown",
		   "metadata": {},
		   "source": [
			"## Example 15.04: Example_4.sce"
		   ]
		  },
  {
"cell_type": "code",
	   "execution_count": null,
	   "metadata": {
	    "collapsed": true
	   },
	   "outputs": [],
"source": [
"//Problem 15.04: A capacitor has a reactance of 40 ohms when operated on a 50 Hz supply. Determine the value of its capacitance.\n",
"\n",
"//initializing the variables:\n",
"Z = 40; // in ohms\n",
"f = 50; // in Hz\n",
"\n",
"//calculation:\n",
"C = 1/(2*%pi*f1*Z)\n",
"\n",
"printf('\n\n Result \n\n') \n",
"printf('\n Capacitance,C = %.2E F ', C)"
   ]
   }
,
{
		   "cell_type": "markdown",
		   "metadata": {},
		   "source": [
			"## Example 15.05: Example_5.sce"
		   ]
		  },
  {
"cell_type": "code",
	   "execution_count": null,
	   "metadata": {
	    "collapsed": true
	   },
	   "outputs": [],
"source": [
"//Problem 15.05: Calculate the current taken by a 23 μF capacitor when connected to a 240 V, 50 Hz supply.\n",
"\n",
"//initializing the variables:\n",
"C = 23E-6; // in Farads\n",
"f = 50; // in Hz\n",
"V = 240; // in volts\n",
"\n",
"//calculation:\n",
"Xc = 1/(2*%pi*f1*C)\n",
"I = V/Xc\n",
"\n",
"printf('\n\n Result \n\n') \n",
"printf('\n current I = %.2f A ',I)"
   ]
   }
,
{
		   "cell_type": "markdown",
		   "metadata": {},
		   "source": [
			"## Example 15.06: Example_6.sce"
		   ]
		  },
  {
"cell_type": "code",
	   "execution_count": null,
	   "metadata": {
	    "collapsed": true
	   },
	   "outputs": [],
"source": [
"//Problem 15.06: In a series R–L circuit the p.d. across the resistance R is 12 V and the p.d. across the inductance L is 5 V. Find the supply voltage and the phase angle between current and voltage.\n",
"\n",
"//initializing the variables:\n",
"Vr = 12; // in volts\n",
"Vl = 5; // in volts\n",
"\n",
"//calculation:\n",
"V = (Vr^2 + Vl^2)^0.5\n",
"phi = atan(Vl/Vr)\n",
"phid = phi*180/%pi\n",
"\n",
"printf('\n\n Result \n\n') \n",
"printf('\n supply voltage V = %.0f V, phase angle between current and voltage is %.2f° ',V, phid)"
   ]
   }
,
{
		   "cell_type": "markdown",
		   "metadata": {},
		   "source": [
			"## Example 15.07: Example_7.sce"
		   ]
		  },
  {
"cell_type": "code",
	   "execution_count": null,
	   "metadata": {
	    "collapsed": true
	   },
	   "outputs": [],
"source": [
"//Problem 15.07: A coil has a resistance of 4 ohms and an inductance of 9.55 mH. Calculate (a) the reactance, (b) the impedance, and (c) the current taken from a 240 V, 50 Hz supply. Determine also the phase angle between the supply voltage and current.\n",
"\n",
"//initializing the variables:\n",
"V = 240; // in volts\n",
"R = 4; // in ohms\n",
"L = 0.00955; // in Henry\n",
"f = 50; // in Hz\n",
"\n",
"//calculation:\n",
"XL = 2*%pi*f*L\n",
"Z = (R^2 + XL^2)^0.5\n",
"I = V/Z\n",
"phid = atan(XL/R)*180/%pi\n",
"\n",
"printf('\n\n Result \n\n') \n",
"printf('\n (a)Inductive reactance, XL = %.0f ohms',XL)\n",
"printf('\n (b)Impedance, Z = %.0f ohms',Z)\n",
"printf('\n (c)Current, I = %.0f A',I)\n",
"printf('\n (d)phase angle between the supply voltage and current is %.2f°',phid)"
   ]
   }
,
{
		   "cell_type": "markdown",
		   "metadata": {},
		   "source": [
			"## Example 15.08: Example_8.sce"
		   ]
		  },
  {
"cell_type": "code",
	   "execution_count": null,
	   "metadata": {
	    "collapsed": true
	   },
	   "outputs": [],
"source": [
"//Problem 15.08: A coil takes a current of 2 A from a 12 V d.c. supply. When connected to a 240 V, 50 Hz supply the current is 20 A. Calculate the resistance, impedance, inductive reactance and inductance of the coil.\n",
"\n",
"//initializing the variables:\n",
"Vdc = 12; // in volts\n",
"Vac = 240; // in volts\n",
"Iac = 20; // in Amperes\n",
"Idc = 2; // in Amperes\n",
"f = 50; // in Hz\n",
"\n",
"//calculation:\n",
"R = Vdc/Idc\n",
"Z = Vac/Iac\n",
"XL = (Z^2 - R^2)^0.5\n",
"L = XL/(2*%pi*f)\n",
"\n",
"printf('\n\n Result \n\n') \n",
"printf('\n (a)Resistance, R = %.0f ohms',R)\n",
"printf('\n (b)Impedance, Z = %.0f ohms',Z)\n",
"printf('\n (c)Inductive reactance, XL = %.2f ohms',XL)\n",
"printf('\n (d)Inductance, L = %.4f H',L)"
   ]
   }
,
{
		   "cell_type": "markdown",
		   "metadata": {},
		   "source": [
			"## Example 15.09: Example_9.sce"
		   ]
		  },
  {
"cell_type": "code",
	   "execution_count": null,
	   "metadata": {
	    "collapsed": true
	   },
	   "outputs": [],
"source": [
"//Problem 15.09: A coil of inductance 318.3 mH and negligible resistance is connected in series with a 200 ohms resistor to a 240 V, 50 Hz supply. Calculate (a) the inductive reactance of the coil, (b) the impedance of the circuit, (c) the current in the circuit, (d) the p.d. across each component, and (e) the circuit phase angle\n",
"\n",
"//initializing the variables:\n",
"R = 200; // in ohms\n",
"L = 0.3183; // in henry\n",
"Vac = 240; // in volts\n",
"f = 50; // in Hz\n",
"\n",
"//calculation:\n",
"XL = 2*%pi*f*L\n",
"Z = (R^2 + XL^2)^0.5\n",
"I = V/Z\n",
"VL = I*XL\n",
"VR = I*R\n",
"phid = atan(XL/R)*180/%pi\n",
"\n",
"printf('\n\n Result \n\n') \n",
"printf('\n (a)Inductive reactance, XL = %.0f ohms',XL)\n",
"printf('\n (b)Impedance, Z = %.1f ohms',Z)\n",
"printf('\n (c)current, I = %.3f A',I)\n",
"printf('\n (d)p.d. across Inductor, VL = %.1f V and p.d. across resistance, VR = %.1f V',VL, VR)\n",
"printf('\n (e)circuit phase angle is %.2f°',phid)"
   ]
   }
,
{
		   "cell_type": "markdown",
		   "metadata": {},
		   "source": [
			"## Example 15.10: Example_10.sce"
		   ]
		  },
  {
"cell_type": "code",
	   "execution_count": null,
	   "metadata": {
	    "collapsed": true
	   },
	   "outputs": [],
"source": [
"//Problem 15.10: A coil consists of a resistance of 100 ohms and an inductance of 200 mH. If an alternating voltage, v, given by v = 200 sin500t volts is applied across the coil, calculate (a) the circuit impedance, (b) the current flowing, (c) the p.d. across the resistance, (d) the p.d. across the inductance and (e) the phase angle between voltage and current.\n",
"\n",
"//initializing the variables:\n",
"R = 100; // in ohms\n",
"L = 0.2; // in henry\n",
"Vmax = 200; // in volts\n",
"w = 500; // in rad/sec\n",
"\n",
"//calculation:\n",
"Vrms = 0.707*Vmax\n",
"f = w/(2*%pi)\n",
"XL = 2*%pi*f*L\n",
"Z = (R^2 + XL^2)^0.5\n",
"I = Vrms/Z\n",
"VL = I*XL\n",
"VR = I*R\n",
"phid = atan(XL/R)*180/%pi\n",
"\n",
"printf('\n\n Result \n\n') \n",
"printf('\n (a)Impedance, Z = %.1f ohms',Z)\n",
"printf('\n (b)current, I = %.0f A',I)\n",
"printf('\n (c)p.d. across resistance, VR = %.0f V', VR)\n",
"printf('\n (d)p.d. across Inductor, VL = %.0f V',VL)\n",
"printf('\n (e)circuit phase angle is %.0f°',phid)"
   ]
   }
,
{
		   "cell_type": "markdown",
		   "metadata": {},
		   "source": [
			"## Example 15.11: Example_11.sce"
		   ]
		  },
  {
"cell_type": "code",
	   "execution_count": null,
	   "metadata": {
	    "collapsed": true
	   },
	   "outputs": [],
"source": [
"//Problem 15.11: A pure inductance of 1.273 mH is connected in series with a pure resistance of 30 ohms. If the frequency of the sinusoidal supply is 5 kHz and the p.d. across the 30 ohm resistor is 6 V, determine the value of the supply voltage and the voltage across the 1.273 mH inductance. Draw the phasor diagram.\n",
"\n",
"//initializing the variables:\n",
"R = 30; // in ohms\n",
"L = 1.2273E-3; // in henry\n",
"f = 5000; // in Hz\n",
"VR = 6; // in volts\n",
"\n",
"//calculation:\n",
"I =VR/R\n",
"XL = 2*%pi*f*L\n",
"Z = (R^2 + XL^2)^0.5\n",
"V = I*Z\n",
"VL = I*XL\n",
"\n",
"printf('\n\n Result \n\n') \n",
"printf('\n (a)supply voltage = %.0f Volts',V)\n",
"printf('\n (b)p.d. across Inductor, VL = %.0f V',VL)"
   ]
   }
,
{
		   "cell_type": "markdown",
		   "metadata": {},
		   "source": [
			"## Example 15.12: Example_12.sce"
		   ]
		  },
  {
"cell_type": "code",
	   "execution_count": null,
	   "metadata": {
	    "collapsed": true
	   },
	   "outputs": [],
"source": [
"//Problem 15.12: A coil of inductance 159.2 mH and resistance 20 ohms is connected in series with a 60 ohms resistor to a 240 V, 50 Hz supply. Determine (a) the impedance of the circuit, (b) the current in the circuit, (c) the circuit phase angle, (d) the p.d. across the 60 ohms resistor and (e) the p.d. across the coil. (f) Draw the circuit phasor diagram showing all voltages.\n",
"\n",
"//initializing the variables:\n",
"R = 60; // in ohms\n",
"Rc = 20; // in ohms\n",
"L = 159.2E-3; // in henry\n",
"f = 50; // in Hz\n",
"V = 240; // in volts\n",
"\n",
"//calculation:\n",
"XL = 2*%pi*f*L\n",
"Rt = R + Rc\n",
"Z = (Rt^2 + XL^2)^0.5\n",
"I = V/Z\n",
"phid = atan(XL/Rt)*180/%pi\n",
"VR = I*R\n",
"Zc = (Rc^2 + XL^2)^0.5\n",
"Vc = I*Zc\n",
"VL = I*XL\n",
"VRc = I*Rc\n",
"\n",
"printf('\n\n Result \n\n') \n",
"printf('\n (a)Impedance, Z = %.2f ohms',Z)\n",
"printf('\n (b)current, I = %.3f A',I)\n",
"printf('\n (c)circuit phase angle is %.0f°',phid)\n",
"printf('\n (d)p.d. across resistance, VR = %.1f V', VR)\n",
"printf('\n (e)p.d. across coil, Vc = %.0f V',Vc)\n",
"printf('\n (f1)p.d. across Inductor, VL = %.1f V',VL)\n",
"printf('\n (f2)p.d. across coil resistance, VRc = %.2f V',VRc)"
   ]
   }
,
{
		   "cell_type": "markdown",
		   "metadata": {},
		   "source": [
			"## Example 15.13: Example_13.sce"
		   ]
		  },
  {
"cell_type": "code",
	   "execution_count": null,
	   "metadata": {
	    "collapsed": true
	   },
	   "outputs": [],
"source": [
"//Problem 15.13: A resistor of 25 ohms is connected in series with a capacitor of 45 μF. Calculate (a) the impedance, and (b) the current taken from a 240 V, 50 Hz supply. Find also the phase angle between the supply voltage and the current.\n",
"\n",
"//initializing the variables:\n",
"R = 25; // in ohms\n",
"C = 45E-6; // in Farads\n",
"f = 50; // in Hz\n",
"V = 240; // in volts\n",
"\n",
"//calculation:\n",
"Xc = 1/(2*%pi*f*C)\n",
"Z = (R^2 + Xc^2)^0.5\n",
"I = V/Z\n",
"phid = atan(Xc/R)*180/%pi\n",
"\n",
"printf('\n\n Result \n\n') \n",
"printf('\n (a)Impedance, Z = %.2f ohms',Z)\n",
"printf('\n (b)current, I = %.2f A',I)\n",
"printf('\n (c)phase angle between the supply voltage and current is %.2f°',phid)"
   ]
   }
,
{
		   "cell_type": "markdown",
		   "metadata": {},
		   "source": [
			"## Example 15.14: Example_14.sce"
		   ]
		  },
  {
"cell_type": "code",
	   "execution_count": null,
	   "metadata": {
	    "collapsed": true
	   },
	   "outputs": [],
"source": [
"//Problem 15.14: A capacitor C is connected in series with a 40 ohm resistor across a supply of frequency 60 Hz. A current of 3 A flows and the circuit impedance is 50 ohms. Calculate: (a) the value of capacitance, C, (b) the supply voltage, (c) the phase angle between the supply voltage and current, (d) the p.d. across the resistor, and (e) the p.d. across the capacitor. Draw the phasor diagram.\n",
"\n",
"//initializing the variables:\n",
"R = 40; // in ohms\n",
"f = 60; // in Hz\n",
"I = 3; //in amperes\n",
"Z = 50; // in ohms\n",
"\n",
"//calculation:\n",
"Xc = (Z^2 - R^2)^0.5\n",
"C = 1/(2*%pi*f*Xc)\n",
"V = I*Z\n",
"phid = atan(Xc/R)*180/%pi\n",
"VR = I*R\n",
"Vc = I*Xc\n",
"\n",
"printf('\n\n Result \n\n') \n",
"printf('\n (a)capacitance, C = %.2E F',C)\n",
"printf('\n (b)Voltage, V = %.0f Volts',V)\n",
"printf('\n (c)phase angle between the supply voltage and current is %.2f°',phid)\n",
"printf('\n (d)p.d. across resistance, VR = %.0f V', VR)\n",
"printf('\n (e)p.d. across Capacitor, Vc = %.0f V',Vc)"
   ]
   }
,
{
		   "cell_type": "markdown",
		   "metadata": {},
		   "source": [
			"## Example 15.15: Example_15.sce"
		   ]
		  },
  {
"cell_type": "code",
	   "execution_count": null,
	   "metadata": {
	    "collapsed": true
	   },
	   "outputs": [],
"source": [
"//Problem 15.15: A coil of resistance 5 ohms and inductance 120 mH in series with a 100 μF capacitor, is connected to a 300 V, 50 Hz supply. Calculate (a) the current flowing, (b) the phase difference between the supply voltage and current, (c) the voltage across the coil and (d) the voltage across the capacitor.\n",
"\n",
"//initializing the variables:\n",
"R = 5; // in ohms\n",
"C = 100E-6; // in Farads\n",
"L = 0.12; // in Henry\n",
"f = 50; // in Hz\n",
"V = 300; // in volts\n",
"\n",
"//calculation:\n",
"XL = 2*%pi*f*L\n",
"Xc = 1/(2*%pi*f*C)\n",
"X = XL - Xc\n",
"//Since XL is greater than Xc, the circuit is inductive.\n",
"Z = (R^2 + (XL-Xc)^2)^0.5\n",
"I = V/Z\n",
"phid = atan((XL-Xc)/R)*180/%pi\n",
"Zcl = (R^2 + XL^2)^0.5\n",
"Vcl = I*Zcl\n",
"phidc = atan(XL/R)*180/%pi\n",
"Vc = I*Xc\n",
"\n",
"printf('\n\n Result \n\n') \n",
"printf('\n (a)Current,I = %.2f A',I)\n",
"printf('\n (b)phase angle between the supply voltage and current is %.2f°',phid)\n",
"printf('\n (c)Voltage across the coil, Vcoil = %.0f Volts',Vcl)\n",
"printf('\n (d)p.d. across Capacitor, Vc = %.0f V',Vc)"
   ]
   }
,
{
		   "cell_type": "markdown",
		   "metadata": {},
		   "source": [
			"## Example 15.16: Example_16.sce"
		   ]
		  },
  {
"cell_type": "code",
	   "execution_count": null,
	   "metadata": {
	    "collapsed": true
	   },
	   "outputs": [],
"source": [
"//Problem 15.16: The following three impedances are connected in series across a 40 V, 20 kHz supply: (i) a resistance of 8 ohms, (ii) a coil of inductance 130 μH and 5 ohms resistance, and (iii) a 10 ohms  resistor in series with a 0.25 μF capacitor. Calculate (a) the circuit current, (b) the circuit phase angle and (c) the voltage drop across each impedance.\n",
"\n",
"//initializing the variables:\n",
"R1 = 8; // in ohms\n",
"C = 0.25E-6; // in Farads\n",
"L = 130E-6; // in Henry\n",
"Rc = 5; // in ohms\n",
"R2 = 10; // in ohms\n",
"f = 20000; // in Hz\n",
"V = 40; // in volts\n",
"\n",
"//calculation:\n",
"XL = 2*%pi*f*L\n",
"Xc = 1/(2*%pi*f*C)\n",
"X = Xc - XL\n",
"R = R1 + R2 + Rc\n",
"//Since Xc is greater than XL, the circuit is capacitive.\n",
"Z = (R^2 + (Xc-XL)^2)^0.5\n",
"I = V/Z\n",
"phid = atan((Xc-XL)/R)*180/%pi\n",
"V1 = I*R1\n",
"V2 = I*((Rc^2 + XL^2)^0.5)\n",
"V3 = I*((R2^2 + Xc^2)^0.5)\n",
"\n",
"printf('\n\n Result \n\n') \n",
"printf('\n (a)Current,I = %.3f A',I)\n",
"printf('\n (b)circuit phase angle is %.2f°',phid)\n",
"printf('\n (c1)Voltage across the Resistance of 8 ohms = %.2f Volts',V1)\n",
"printf('\n (c2)Voltage across the coil, Vcoil = %.2f Volts',V2)\n",
"printf('\n (c3)p.d. across Capacitor resistance circuit = %.2f Volts',V3)"
   ]
   }
,
{
		   "cell_type": "markdown",
		   "metadata": {},
		   "source": [
			"## Example 15.17: Example_17.sce"
		   ]
		  },
  {
"cell_type": "code",
	   "execution_count": null,
	   "metadata": {
	    "collapsed": true
	   },
	   "outputs": [],
"source": [
"//Problem 15.17: Determine the p.d.’s V1 and V2 for the circuit shown in Figure 15.17 if the frequency of the supply is 5 kHz. Draw the phasor diagram and hence determine the supply voltage V and the circuit phase angle.\n",
"\n",
"//initializing the variables:\n",
"R1 = 4; // in ohms\n",
"C = 1.273E-6; // in Farads\n",
"L = 286E-6; // in Henry\n",
"R2 = 8; // in ohms\n",
"f = 5000; // in Hz\n",
"I = 5; // in amperes\n",
"\n",
"//calculation:\n",
"XL = 2*%pi*f*L\n",
"phid1 = atan(XL/R)*180/%pi\n",
"V1 = I*((R1^2 + XL^2)^0.5)\n",
"Xc = 1/(2*%pi*f*C)\n",
"V2 = I*((R2^2 + Xc^2)^0.5)\n",
"phid2 = atan(Xc/R)*180/%pi\n",
"Z = ((R1+R2)^2 + (Xc-XL)^2)^0.5\n",
"V = I*Z\n",
"phid = atan((Xc-XL)/(R1+R2))*180/%pi\n",
"\n",
"printf('\n\n Result \n\n') \n",
"printf('\n Voltage V1 = %.2f V and V2 = %.1f V',V1, V2)\n",
"printf('\n Voltage supply, V = %.0f V',V)\n",
"printf('\n circuit phase angle is %.2f°',phid)"
   ]
   }
,
{
		   "cell_type": "markdown",
		   "metadata": {},
		   "source": [
			"## Example 15.18: Example_18.sce"
		   ]
		  },
  {
"cell_type": "code",
	   "execution_count": null,
	   "metadata": {
	    "collapsed": true
	   },
	   "outputs": [],
"source": [
"//Problem 15.18: A coil having a resistance of 10 ohms and an inductanc of 125 mH is connected in series with a 60 μF capacitor across a 120 V supply. At what frequency does resonance occur? Find the current flowing at the resonant frequency.\n",
"\n",
"//initializing the variables:\n",
"R = 10; // in ohms\n",
"C = 60E-6; // in Farads\n",
"L = 125E-3; // in Henry\n",
"V = 120; // in Volts\n",
"\n",
"//calculation:\n",
"fr = 1/(2*%pi*(L*C)^0.5)\n",
"//At resonance, XL = Xc and impedance Z = R\n",
"I = V/R\n",
"\n",
"printf('\n\n Result \n\n') \n",
"printf('\n (a)Resonance frequency,Fr = %.2f Hz',fr)\n",
"printf('\n (b)Current, I = %.0f',I)"
   ]
   }
,
{
		   "cell_type": "markdown",
		   "metadata": {},
		   "source": [
			"## Example 15.19: Example_19.sce"
		   ]
		  },
  {
"cell_type": "code",
	   "execution_count": null,
	   "metadata": {
	    "collapsed": true
	   },
	   "outputs": [],
"source": [
"//Problem 15.19: The current at resonance in a series L–C–R circuit is 100 μA. If the applied voltage is 2 mV at a frequency of 200 kHz, and the circuit inductance is 50 μH, find (a) the circuit resistance, and (b) the circuit capacitance.\n",
"\n",
"//initializing the variables:\n",
"L = 0.05E-3; // in Henry\n",
"fr = 200000; // in Hz\n",
"V = 0.002; // in Volts\n",
"I = 0.1E-3; // in amperes\n",
"\n",
"//calculation:\n",
"// L-C-R\n",
"//At resonance, XL = Xc and impedance Z = R\n",
"R = V/I\n",
"C = 1/(L*(2*%pi*fr)^2)\n",
"\n",
"printf('\n\n Result \n\n') \n",
"printf('\n (a)Resistance, R = %.0f ohms',R)\n",
"printf('\n (b)Capacitance, C = %.2E F',C)"
   ]
   }
,
{
		   "cell_type": "markdown",
		   "metadata": {},
		   "source": [
			"## Example 15.20: Example_20.sce"
		   ]
		  },
  {
"cell_type": "code",
	   "execution_count": null,
	   "metadata": {
	    "collapsed": true
	   },
	   "outputs": [],
"source": [
"//Problem 15.20: A coil of inductance 80 mH and negligible resistance is connected in series with a capacitance of 0.25 μF and a resistor of resistance 12.5 ohms across a 100 V, variable frequency supply. Determine (a) the resonant frequency, and (b) the current at resonance. How many times greater than the supply voltage is the voltage across the reactances at resonance?\n",
"\n",
"//initializing the variables:\n",
"L = 80E-3; // in Henry\n",
"C = 0.25E-6; // in Farads\n",
"R = 12.5; // in ohms\n",
"V = 100; // in Volts\n",
"\n",
"//calculation:\n",
"fr = 1/(2*%pi*((L*C)^0.5))\n",
"//At resonance, XL = Xc and impedance Z = R\n",
"I = V/R\n",
"VL = I*(2*%pi*fr*L)\n",
"Vc = I/(2*%pi*fr*C)\n",
"Vm = VL/V\n",
"\n",
"printf('\n\n Result \n\n') \n",
"printf('\n (a)the resonant frequency = %.1f Hz',fr)\n",
"printf('\n (b)Current, I = %.0f A',I)\n",
"printf('\n (b)Voltage magnification at resonance = %.3f V',Vm)"
   ]
   }
,
{
		   "cell_type": "markdown",
		   "metadata": {},
		   "source": [
			"## Example 15.21: Example_21.sce"
		   ]
		  },
  {
"cell_type": "code",
	   "execution_count": null,
	   "metadata": {
	    "collapsed": true
	   },
	   "outputs": [],
"source": [
"//Problem 15.21: A series circuit comprises a coil of resistance 2 ohms and inductance 60 mH, and a 30 μF capacitor. Determine the Qfactor of the circuit at resonance.\n",
"\n",
"//initializing the variables:\n",
"L = 60E-3; // in Henry\n",
"C = 30E-6; // in Farads\n",
"R = 2; // in ohms\n",
"\n",
"//calculation:\n",
"Q = ((L/C)^0.5)/R\n",
"\n",
"printf('\n\n Result \n\n') \n",
"printf('\n At resonance, Q-factor = %.2f',Q)"
   ]
   }
,
{
		   "cell_type": "markdown",
		   "metadata": {},
		   "source": [
			"## Example 15.22: Example_22.sce"
		   ]
		  },
  {
"cell_type": "code",
	   "execution_count": null,
	   "metadata": {
	    "collapsed": true
	   },
	   "outputs": [],
"source": [
"//Problem 15.22: A coil of negligible resistance and inductance 100 mH is connected in series with a capacitance of 2 μF and a resistance of 10  across a 50 V, variable frequency supply. Determine (a) the resonant frequency, (b) the current at resonance, (c) the voltages across the coil and the capacitor at resonance, and (d) the Q-factor of the circuit.\n",
"\n",
"//initializing the variables:\n",
"L = 100E-3; // in Henry\n",
"C = 2E-6; // in Farads\n",
"R = 10; // in ohms\n",
"V = 50; // in Volts\n",
"\n",
"//calculation:\n",
"fr = 1/(2*%pi*((L*C)^0.5))\n",
"//At resonance, XL = Xc and impedance Z = R\n",
"I = V/R\n",
"VL = I*(2*%pi*fr*L)\n",
"Vc = I/(2*%pi*fr*C)\n",
"Q = VL/V\n",
"\n",
"printf('\n\n Result \n\n')\n",
"printf('\n (a)the resonant frequency = %.1f Hz',fr)\n",
"printf('\n (b)Current, I = %.0f A',I) \n",
"printf('\n (c)Voltage across coil at resonance is %.0fV and Voltage across capacitance at resonance is %.0fV',VL, Vc) \n",
"printf('\n (d)At resonance, Q-factor = %.2f',Q)"
   ]
   }
,
{
		   "cell_type": "markdown",
		   "metadata": {},
		   "source": [
			"## Example 15.23: Example_23.sce"
		   ]
		  },
  {
"cell_type": "code",
	   "execution_count": null,
	   "metadata": {
	    "collapsed": true
	   },
	   "outputs": [],
"source": [
"//Problem 15.23: A filter in the form of a series L–R–C circuit is designed to operate at a resonant frequency of 5 kHz. Included within the filter is a 20 mH inductance and 10 ohm resistance. Determine the bandwidth of the filter.\n",
"\n",
"//initializing the variables:\n",
"L = 20E-3; // in Henry\n",
"R = 10; // in ohms\n",
"fr = 5000; // in Hz\n",
"\n",
"//calculation:\n",
"Qr = (2*%pi*fr)*L/R\n",
"bw = fr/Qr\n",
"\n",
"printf('\n\n Result \n\n')\n",
"printf('\n Bandwidth, (f2-f1) = %.1f Hz',bw)"
   ]
   }
,
{
		   "cell_type": "markdown",
		   "metadata": {},
		   "source": [
			"## Example 15.24: Example_24.sce"
		   ]
		  },
  {
"cell_type": "code",
	   "execution_count": null,
	   "metadata": {
	    "collapsed": true
	   },
	   "outputs": [],
"source": [
"//Problem 15.24: An instantaneous current, i = 250 sin wt mA flows through a pure resistance of 5 kohm. Find the power dissipated in the resistor.\n",
"\n",
"//initializing the variables:\n",
"R = 5000; // in ohms\n",
"Imax = 0.250; // in Amperes\n",
"\n",
"//calculation:\n",
"Irms = 0.707*Imax\n",
"P = Irms*Irms*R\n",
"\n",
"printf('\n\n Result \n\n')\n",
"printf('\n Power, P = %.1f Watts',P)"
   ]
   }
,
{
		   "cell_type": "markdown",
		   "metadata": {},
		   "source": [
			"## Example 15.25: Example_25.sce"
		   ]
		  },
  {
"cell_type": "code",
	   "execution_count": null,
	   "metadata": {
	    "collapsed": true
	   },
	   "outputs": [],
"source": [
"//Problem 15.25: A series circuit of resistance 60 ohm and inductance 75 mH is connected to a 110 V, 60 Hz supply. Calculate the power dissipated.\n",
"\n",
"//initializing the variables:\n",
"R = 60; // in ohms\n",
"L = 75E-3; // in Henry\n",
"V = 110; // in Volts\n",
"f = 60; // in Hz\n",
"\n",
"//calculation:\n",
"XL = 2*%pi*f*L\n",
"Z = (R^2 + XL^2)^0.5\n",
"I = V/Z\n",
"P = I*I*R\n",
"\n",
"printf('\n\n Result \n\n')\n",
"printf('\n Power, P = %.0f Watts',P)"
   ]
   }
,
{
		   "cell_type": "markdown",
		   "metadata": {},
		   "source": [
			"## Example 15.26: Example_26.sce"
		   ]
		  },
  {
"cell_type": "code",
	   "execution_count": null,
	   "metadata": {
	    "collapsed": true
	   },
	   "outputs": [],
"source": [
"//Problem 15.26: A pure inductance is connected to a 150 V, 50 Hz supply, and the apparent power of the circuit is 300 VA. Find the value of the inductance.\n",
"\n",
"//initializing the variables:\n",
"VI = 300; // in VA\n",
"V = 150; // in Volts\n",
"f = 50; // in Hz\n",
"\n",
"//calculation:\n",
"I = VI/V\n",
"XL = V/I\n",
"L = XL/(2*%pi*f)\n",
"\n",
"printf('\n\n Result \n\n')\n",
"printf('\n Inductance = %.3f H',L)"
   ]
   }
,
{
		   "cell_type": "markdown",
		   "metadata": {},
		   "source": [
			"## Example 15.27: Example_27.sce"
		   ]
		  },
  {
"cell_type": "code",
	   "execution_count": null,
	   "metadata": {
	    "collapsed": true
	   },
	   "outputs": [],
"source": [
"//Problem 15.27: A transformer has a rated output of 200 kVA at a power factor of 0.8. Determine the rated power output and the corresponding reactive power.\n",
"\n",
"//initializing the variables:\n",
"VI = 200000; // in VA\n",
"pf = 0.8; // power factor\n",
"\n",
"//calculation:\n",
"P = VI*pf\n",
"Q = VI*sin(acos(pf))\n",
"\n",
"printf('\n\n Result \n\n')\n",
"printf('\n rated power output is %.0fW and the corresponding reactive power is %.0f var',P,Q)"
   ]
   }
,
{
		   "cell_type": "markdown",
		   "metadata": {},
		   "source": [
			"## Example 15.28: Example_28.sce"
		   ]
		  },
  {
"cell_type": "code",
	   "execution_count": null,
	   "metadata": {
	    "collapsed": true
	   },
	   "outputs": [],
"source": [
"//Problem 15.28: The power taken by an inductive circuit when connected to a 120 V, 50 Hz supply is 400 W and the current is 8 A. Calculate (a) the resistance, (b) the impedance, (c) the reactance, (d) the power factor, and (e) the phase angle between voltage and current.\n",
"\n",
"//initializing the variables:\n",
"V = 120; // in Volts\n",
"f = 50; // in Hz\n",
"P = 400; // in Watt\n",
"I = 8; // in Amperes\n",
"\n",
"//calculation:\n",
"R = P/(I*I)\n",
"Z = V/I\n",
"XL = (Z^2 - R^2)^0.5\n",
"pf = P/(V*I)\n",
"phi = acos(pf)*180/%pi\n",
"\n",
"printf('\n\n Result \n\n')\n",
"printf('\n (a)resistance = %.2f ohm ',R)\n",
"printf('\n (b)Impedance Z = %.0f Ohm ',Z)\n",
"printf('\n (c)reactance = %.2f ohm ',XL)\n",
"printf('\n (d)Power factor = %.4f',pf)\n",
"printf('\n (e)phase angle = %.2f°',phi)"
   ]
   }
,
{
		   "cell_type": "markdown",
		   "metadata": {},
		   "source": [
			"## Example 15.29: Example_29.sce"
		   ]
		  },
  {
"cell_type": "code",
	   "execution_count": null,
	   "metadata": {
	    "collapsed": true
	   },
	   "outputs": [],
"source": [
"//Problem 15.29: A circuit consisting of a resistor in series with a capacitor takes 100 watts at a power factor of 0.5 from a 100 V, 60 Hz supply. Find (a) the current flowing, (b) the phase angle, (c) the resistance, (d) the impedance, and (e) the capacitance.\n",
"\n",
"//initializing the variables:\n",
"V = 100; // in Volts\n",
"f = 60; // in Hz\n",
"P = 100; // in Watt\n",
"pf = 0.5; // power factor\n",
"\n",
"//calculation:\n",
"I = P/(pf*V)\n",
"phi = acos(pf)*180/%pi\n",
"R = P/(I*I)\n",
"Z = V/I\n",
"Xc = (Z^2 - R^2)^0.5\n",
"C = 1/(2*%pi*f*Xc)\n",
"\n",
"printf('\n\n Result \n\n')\n",
"printf('\n (a)Current I = %.0f A ',I)\n",
"printf('\n (b)phase angle = %.0f°',phi)\n",
"printf('\n (c)resistance = %.0f ohm ',R)\n",
"printf('\n (d)Impedance Z = %.0f Ohm ',Z)\n",
"printf('\n (e)capacitance = %.2E F ',C)"
   ]
   }
],
"metadata": {
		  "kernelspec": {
		   "display_name": "Scilab",
		   "language": "scilab",
		   "name": "scilab"
		  },
		  "language_info": {
		   "file_extension": ".sce",
		   "help_links": [
			{
			 "text": "MetaKernel Magics",
			 "url": "https://github.com/calysto/metakernel/blob/master/metakernel/magics/README.md"
			}
		   ],
		   "mimetype": "text/x-octave",
		   "name": "scilab",
		   "version": "0.7.1"
		  }
		 },
		 "nbformat": 4,
		 "nbformat_minor": 0
}
