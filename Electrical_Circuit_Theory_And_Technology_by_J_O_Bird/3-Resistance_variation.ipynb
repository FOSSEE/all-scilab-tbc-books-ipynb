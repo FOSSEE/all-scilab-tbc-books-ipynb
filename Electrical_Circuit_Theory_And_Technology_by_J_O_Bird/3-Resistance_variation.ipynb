{
"cells": [
 {
		   "cell_type": "markdown",
	   "metadata": {},
	   "source": [
       "# Chapter 3: Resistance variation"
	   ]
	},
{
		   "cell_type": "markdown",
		   "metadata": {},
		   "source": [
			"## Example 3.01: Example_1.sce"
		   ]
		  },
  {
"cell_type": "code",
	   "execution_count": null,
	   "metadata": {
	    "collapsed": true
	   },
	   "outputs": [],
"source": [
"//Problem 3.01: The resistance of a 5 m length of wire is 600 ohms. Determine (a) the resistance of an 8 m length of the same wire, and (b) the length of the same wire when the resistance is 420 ohms.\n",
"\n",
"//initializing the variables:\n",
"R = 600; // in ohms\n",
"L = 5; // in meter\n",
"L1 = 8; // in meter\n",
"R2 = 420; // in ohms\n",
"\n",
"//calculation:\n",
"R1 = R*L1/L\n",
"L2 = R2*L/R\n",
"\n",
"printf('\n\nResult\n\n')\n",
"printf('\n(a)Resistance %.0f Ohms',R1)\n",
"printf('\n(b)Length: %.1f meters(m)\n',L2)"
   ]
   }
,
{
		   "cell_type": "markdown",
		   "metadata": {},
		   "source": [
			"## Example 3.02: Example_2.sce"
		   ]
		  },
  {
"cell_type": "code",
	   "execution_count": null,
	   "metadata": {
	    "collapsed": true
	   },
	   "outputs": [],
"source": [
"//Problem 3.02: A piece of wire of cross-sectional area 2 mm2 has a resistance of 300 ohms. Find (a) the resistance of a wire of the same length and material if the cross-sectional area is 5 mm2, (b) the cross-sectional area of a wire of the same length and material of resistance 750 ohms. \n",
"\n",
"//initializing the variables:\n",
"R = 300; // in ohms\n",
"A = 2; // in mm2\n",
"A1 = 5; // in mm2\n",
"R2 = 750; // in ohms\n",
"\n",
"//calculation:\n",
"R1 = R*A/A1\n",
"A2 = R*A/R2\n",
"\n",
"printf('\n\nResult\n\n')\n",
"printf('\n(a)Resistance %.0f Ohms',R1)\n",
"printf('\n(b)C.S.A: %.1f mm2\n',A2)"
   ]
   }
,
{
		   "cell_type": "markdown",
		   "metadata": {},
		   "source": [
			"## Example 3.03: Example_3.sce"
		   ]
		  },
  {
"cell_type": "code",
	   "execution_count": null,
	   "metadata": {
	    "collapsed": true
	   },
	   "outputs": [],
"source": [
"//Problem 3.03: A wire of length 8 m and cross-sectional area 3 mm2 has a resistance of 0.16 ohms. If the wire is drawn out until its crosssectional area is 1 mm2, determine the resistance of the wire.\n",
"\n",
"//initializing the variables:\n",
"R = 0.16; // in ohms\n",
"A = 3; // in mm2\n",
"L = 8; // in m\n",
"A1 = 1; // in mm2\n",
"\n",
"//calculation:\n",
"L1 = L*3\n",
"R1 = R*A*L1/(A1*L)\n",
"\n",
"printf('\n\nResult\n\n')\n",
"printf('\nResistance %.2f Ohms\n',R1)"
   ]
   }
,
{
		   "cell_type": "markdown",
		   "metadata": {},
		   "source": [
			"## Example 3.04: Example_4.sce"
		   ]
		  },
  {
"cell_type": "code",
	   "execution_count": null,
	   "metadata": {
	    "collapsed": true
	   },
	   "outputs": [],
"source": [
"//Problem 3.04: Calculate the resistance of a 2 km length of aluminium overhead power cable if the cross-sectional area of the cable is 100 mm2. Take the resistivity of aluminium to be 0.03E-6 ohm m.\n",
"\n",
"//initializing the variables:\n",
"A = 100E-6; // in m2\n",
"L = 2000; // in m\n",
"p = 0.03E-6; // in ohm m\n",
"\n",
"//calculation:\n",
"R = p*L/A\n",
"\n",
"printf('\n\nResult\n\n')\n",
"printf('\nResistance %.1f Ohms\n',R)"
   ]
   }
,
{
		   "cell_type": "markdown",
		   "metadata": {},
		   "source": [
			"## Example 3.05: Example_5.sce"
		   ]
		  },
  {
"cell_type": "code",
	   "execution_count": null,
	   "metadata": {
	    "collapsed": true
	   },
	   "outputs": [],
"source": [
"//Problem 3.05: Calculate the cross-sectional area, in mm2, of a piece of copper wire, 40 m in length and having a resistance of 0.25 ohms. Take the resistivity of copper as 0.02E-6ohm m.\n",
"\n",
"//initializing the variables:\n",
"R = 0.25; // in ohms\n",
"L = 40; // in m\n",
"p = 0.02E-6; // in ohm m\n",
"\n",
"//calculation:\n",
"A = p*L*1E6/R\n",
"\n",
"printf('\n\nResult\n\n')\n",
"printf('\nC.S.A %.1f Ohms\n',A)"
   ]
   }
,
{
		   "cell_type": "markdown",
		   "metadata": {},
		   "source": [
			"## Example 3.06: Example_6.sce"
		   ]
		  },
  {
"cell_type": "code",
	   "execution_count": null,
	   "metadata": {
	    "collapsed": true
	   },
	   "outputs": [],
"source": [
"//Problem 3.06: The resistance of 1.5 km of wire of cross-sectional area 0.17 mm2 is 150 ohms. Determine the resistivity of the wire.\n",
"\n",
"//initializing the variables:\n",
"R = 150; // in ohms\n",
"L = 1500; // in m\n",
"A = 0.17E-6; // in m2\n",
"\n",
"//calculation:\n",
"p = R*A/L\n",
"\n",
"printf('\n\nResult\n\n')\n",
"printf('\nresistivity %.3E Ohm m\n',p)"
   ]
   }
,
{
		   "cell_type": "markdown",
		   "metadata": {},
		   "source": [
			"## Example 3.07: Example_7.sce"
		   ]
		  },
  {
"cell_type": "code",
	   "execution_count": null,
	   "metadata": {
	    "collapsed": true
	   },
	   "outputs": [],
"source": [
"//Problem 3.07: Determine the resistance of 1200 m of copper cable having a diameter of 12 mm if the resistivity of copper is 1.7E-8 ohm m.\n",
"\n",
"//initializing the variables:\n",
"d = 0.012; // in m\n",
"L = 1200; // in m\n",
"p = 1.7E-8; // in ohm m\n",
"pi = 3.14;\n",
"\n",
"//calculation:\n",
"A = pi*d*d/4\n",
"R = p*L/A\n",
"\n",
"printf('\n\nResult\n\n')\n",
"printf('\nresistance %.3f Ohm\n',R)"
   ]
   }
,
{
		   "cell_type": "markdown",
		   "metadata": {},
		   "source": [
			"## Example 3.08: Example_8.sce"
		   ]
		  },
  {
"cell_type": "code",
	   "execution_count": null,
	   "metadata": {
	    "collapsed": true
	   },
	   "outputs": [],
"source": [
"//Problem 3.08: A coil of copper wire has a resistance of 100 ohms when its temperature is 0°C. Determine its resistance at 70°C if the temperature coefficient of resistance of copper at 0°C is 0.0043/°C\n",
"\n",
"//initializing the variables:\n",
"R0 = 100; // in ohms\n",
"T0 = 0; // in °C\n",
"T1 = 70; // in °C\n",
"a0 = 0.0043; // in per°C\n",
"pi = 3.14;\n",
"\n",
"//calculation:\n",
"R70 = R0*[1 + (a0*T1)]\n",
"\n",
"printf('\n\nResult\n\n')\n",
"printf('\nresistance %.1f Ohm\n',R70)"
   ]
   }
,
{
		   "cell_type": "markdown",
		   "metadata": {},
		   "source": [
			"## Example 3.09: Example_9.sce"
		   ]
		  },
  {
"cell_type": "code",
	   "execution_count": null,
	   "metadata": {
	    "collapsed": true
	   },
	   "outputs": [],
"source": [
"//Problem 3.09: An aluminium cable has a resistance of 27 ohms at a temperature of 35°C. Determine its resistance at 0°C. Take the temperature coefficient of resistance at 0°C to be 0.0038/°C\n",
"\n",
"//initializing the variables:\n",
"R1 = 27; // in ohms\n",
"T0 = 0; // in °C\n",
"T1 = 35; // in °C\n",
"a0 = 0.0038; // in per°C\n",
"pi = 3.14;\n",
"\n",
"//calculation:\n",
"R0 = R1/[1 + (a0*T1)]\n",
"\n",
"printf('\n\nResult\n\n')\n",
"printf('\nresistance %.2f Ohm\n',R0)"
   ]
   }
,
{
		   "cell_type": "markdown",
		   "metadata": {},
		   "source": [
			"## Example 3.10: Example_10.sce"
		   ]
		  },
  {
"cell_type": "code",
	   "execution_count": null,
	   "metadata": {
	    "collapsed": true
	   },
	   "outputs": [],
"source": [
"//Problem 3.10: A carbon resistor has a resistance of 1 kohms at 0°C. Determine its resistance at 80°C. Assume that the temperature coefficient of resistance for carbon at 0°C is 0.0005/°C\n",
"\n",
"//initializing the variables:\n",
"R0 = 1000; // in ohms\n",
"T0 = 0; // in °C\n",
"T1 = 80; // in °C\n",
"a0 = -0.0005; // in per°C\n",
"pi = 3.14;\n",
"\n",
"//calculation:\n",
"R80 = R0*[1 + (a0*T1)]\n",
"\n",
"printf('\n\nResult\n\n')\n",
"printf('\nresistance %.0f Ohm\n',R80)"
   ]
   }
,
{
		   "cell_type": "markdown",
		   "metadata": {},
		   "source": [
			"## Example 3.11: Example_11.sce"
		   ]
		  },
  {
"cell_type": "code",
	   "execution_count": null,
	   "metadata": {
	    "collapsed": true
	   },
	   "outputs": [],
"source": [
"//Problem 3.11: A coil of copper wire has a resistance of 10 ohms at 20°C. If the temperature coefficient of resistance of copper at 20°C is 0.004/°C determine the resistance of the coil when the temperature rises to 100°C.\n",
"\n",
"//initializing the variables:\n",
"R20 = 10; // in ohms\n",
"T0 = 20; // in °C\n",
"T1 = 100; // in °C\n",
"a20 = 0.004; // in per°C\n",
"pi = 3.14;\n",
"\n",
"//calculation:\n",
"R100 = R20*[1 + (a20)*(T1 - T0)]\n",
"\n",
"printf('\n\nResult\n\n')\n",
"printf('\nresistance %.1f Ohm\n',R100)"
   ]
   }
,
{
		   "cell_type": "markdown",
		   "metadata": {},
		   "source": [
			"## Example 3.12: Example_12.sce"
		   ]
		  },
  {
"cell_type": "code",
	   "execution_count": null,
	   "metadata": {
	    "collapsed": true
	   },
	   "outputs": [],
"source": [
"//Problem 3.12: The resistance of a coil of aluminium wire at 18°C is 200 ohms. The temperature of the wire is increased and the resistance rises to 240 ohms. If the temperature coefficient of resistance of aluminium is 0.0039/°C at 18°C determine the temperature to which the coil has risen.\n",
"\n",
"//initializing the variables:\n",
"R18 = 200; // in ohms\n",
"R1 = 240; // in ohms\n",
"T0 = 18; // in °C\n",
"a18 = 0.0039; // in per°C\n",
"pi = 3.14;\n",
"\n",
"//calculation:\n",
"T1 = (((R1/R18)-1)/a18) + T0\n",
"\n",
"printf('\n\nResult\n\n')\n",
"printf('\nTemperature %.2f °C\n',T1)"
   ]
   }
,
{
		   "cell_type": "markdown",
		   "metadata": {},
		   "source": [
			"## Example 3.13: Example_13.sce"
		   ]
		  },
  {
"cell_type": "code",
	   "execution_count": null,
	   "metadata": {
	    "collapsed": true
	   },
	   "outputs": [],
"source": [
"//Problem 3.13: Some copper wire has a resistance of 200 ohms at 20°C. A current is passed through the wire and the temperature rises to 90°C. Determine the resistance of the wire at 90°C, correct to thenearest ohm, assuming that the temperature coefficient of resistance is 0.004/°C at 0°C.\n",
"\n",
"//initializing the variables:\n",
"R20 = 200; // in ohms\n",
"T0 = 20; // in °C\n",
"T1 = 90; // in °C\n",
"a0 = 0.004; // in per°C\n",
"pi = 3.14;\n",
"\n",
"//calculation:\n",
"R90 = R20*[1 + (a0*T1)]/[1 + (a0*T0)]\n",
"\n",
"printf('\n\nResult\n\n')\n",
"printf('\nResistance %.0f ohms\n',R90)"
   ]
   }
],
"metadata": {
		  "kernelspec": {
		   "display_name": "Scilab",
		   "language": "scilab",
		   "name": "scilab"
		  },
		  "language_info": {
		   "file_extension": ".sce",
		   "help_links": [
			{
			 "text": "MetaKernel Magics",
			 "url": "https://github.com/calysto/metakernel/blob/master/metakernel/magics/README.md"
			}
		   ],
		   "mimetype": "text/x-octave",
		   "name": "scilab",
		   "version": "0.7.1"
		  }
		 },
		 "nbformat": 4,
		 "nbformat_minor": 0
}
