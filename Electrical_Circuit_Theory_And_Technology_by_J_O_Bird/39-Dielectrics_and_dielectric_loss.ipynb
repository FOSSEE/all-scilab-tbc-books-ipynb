{
"cells": [
 {
		   "cell_type": "markdown",
	   "metadata": {},
	   "source": [
       "# Chapter 39: Dielectrics and dielectric loss"
	   ]
	},
{
		   "cell_type": "markdown",
		   "metadata": {},
		   "source": [
			"## Example 39.01: Example_1.sce"
		   ]
		  },
  {
"cell_type": "code",
	   "execution_count": null,
	   "metadata": {
	    "collapsed": true
	   },
	   "outputs": [],
"source": [
"//Problem 39.01: The equivalent series circuit for a particular capacitor consists of a 1.5 ohm resistance in series with a 400 pF capacitor. Determine for the capacitor, at a frequency of 8 MHz, (a) the loss angle, (b) the power factor, (c) the Q-factor, and (d) the dissipation factor.\n",
"\n",
"//initializing the variables:\n",
"Rs = 1.5; // in ohms\n",
"Cs = 400E-12; // in Farads\n",
"f = 8E6; // in Hz\n",
"\n",
"//calculation: \n",
"//for a series equivalent circuit,\n",
"//tan(del) = Rs*w*Cs\n",
"//loss angle,\n",
"del = atan(Rs*Cs*(2*%pi*f))\n",
"//power factor\n",
"pf = cos(del)\n",
"//the Q-factor\n",
"Q = 1/tan(del)\n",
"//dissipation factor,\n",
"D = 1/Q\n",
"\n",
"printf('\n\n Result \n\n')\n",
"printf('\n (a)loss angle %.3f rad.',del)\n",
"printf('\n (b)power factor %.3f rad.',del)\n",
"printf('\n (c)Q-factor is %.2f ',Q)\n",
"printf('\n (d)dissipation factor %.3f rad.',D)"
   ]
   }
,
{
		   "cell_type": "markdown",
		   "metadata": {},
		   "source": [
			"## Example 39.02: Example_2.sce"
		   ]
		  },
  {
"cell_type": "code",
	   "execution_count": null,
	   "metadata": {
	    "collapsed": true
	   },
	   "outputs": [],
"source": [
"//Problem 39.02: A capacitor has a loss angle of 0.025 rad, and when it is connected across a 5 kV, 50 Hz supply, the power loss is 20 .W Determine the component values of the equivalent parallel circuit.\n",
"\n",
"//initializing the variables:\n",
"del = 0.025; // in rad.\n",
"V = 5000; // in Volts\n",
"PL = 20; // power loss\n",
"f = 50; // in Hz\n",
"\n",
"//calculation: \n",
"//power loss = w*C*V^2*tan(del)\n",
"Cp = PL/(2*%pi*f*V*V*tan(del))\n",
"//for a parallel equivalent circuit,\n",
"//tan(del) = 1/(Rp*w*Cp)\n",
"Rp = 1/(2*%pi*f*Cp*tan(del))\n",
"\n",
"printf('\n\n Result \n\n')\n",
"printf('\n capacitance C %.2E F and parallel resistance %.2E ohm.',Cp, Rp)"
   ]
   }
,
{
		   "cell_type": "markdown",
		   "metadata": {},
		   "source": [
			"## Example 39.03: Example_3.sce"
		   ]
		  },
  {
"cell_type": "code",
	   "execution_count": null,
	   "metadata": {
	    "collapsed": true
	   },
	   "outputs": [],
"source": [
"//Problem 39.03: A 2000 pF capacitor has an alternating voltage of 20 V connected across it at a frequency of 10 kHz. If the power dissipated in the dielectric is 500 μW, determine (a) the loss angle, (b) the equivalent series loss resistance, and (c) the equivalent parallel loss resistance.\n",
"\n",
"//initializing the variables:\n",
"P = 500E-6; // in Watt\n",
"C = 2000E-12; // in Farads\n",
"V = 20; // in Volts\n",
"f = 10000; // in Hz\n",
"\n",
"//calculation: \n",
"//power loss = w*C*V^2*tan(del)\n",
"//loss angle\n",
"del = atan(P/(2*%pi*f*V*V*C))\n",
"//for an equivalent series circuit,\n",
"//tan(del) = (Rs*w*Cs)\n",
"Cs = C\n",
"Rs = (tan(del))/(2*%pi*f*Cp)\n",
"//for an equivalent parallel circuit\n",
"//tan(del) = 1/(Rp*w*Cp)\n",
"Cp = C\n",
"Rp = 1/(2*%pi*f*Cp*tan(del))\n",
"\n",
"printf('\n\n Result \n\n')\n",
"printf('\n (a)loss angle %.6f rad.',del)\n",
"printf('\n (b)series resistance %.2f ohm.',Rs)\n",
"printf('\n (c)parallel resistance %.2E ohm.',Rp)"
   ]
   }
],
"metadata": {
		  "kernelspec": {
		   "display_name": "Scilab",
		   "language": "scilab",
		   "name": "scilab"
		  },
		  "language_info": {
		   "file_extension": ".sce",
		   "help_links": [
			{
			 "text": "MetaKernel Magics",
			 "url": "https://github.com/calysto/metakernel/blob/master/metakernel/magics/README.md"
			}
		   ],
		   "mimetype": "text/x-octave",
		   "name": "scilab",
		   "version": "0.7.1"
		  }
		 },
		 "nbformat": 4,
		 "nbformat_minor": 0
}
