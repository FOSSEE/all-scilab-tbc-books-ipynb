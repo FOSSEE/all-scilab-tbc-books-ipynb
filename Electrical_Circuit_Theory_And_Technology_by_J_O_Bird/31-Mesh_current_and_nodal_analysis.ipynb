{
"cells": [
 {
		   "cell_type": "markdown",
	   "metadata": {},
	   "source": [
       "# Chapter 31: Mesh current and nodal analysis"
	   ]
	},
{
		   "cell_type": "markdown",
		   "metadata": {},
		   "source": [
			"## Example 31.01: Example_1.sce"
		   ]
		  },
  {
"cell_type": "code",
	   "execution_count": null,
	   "metadata": {
	    "collapsed": true
	   },
	   "outputs": [],
"source": [
"//Problem 31.01: Use mesh-current analysis to determine the current flowing in (a) the 5 ohm resistance, and (b) the 1ohm  resistance of the d.c. circuit shown in Figure 31.2.\n",
"\n",
"//initializing the variables:\n",
"V1 = 4; // in volts\n",
"V2 = 5; // in volts\n",
"R1 = 3; // in ohm\n",
"R2 = 5; // in ohm\n",
"R3 = 4; // in ohm\n",
"R4 = 1; // in ohm\n",
"R5 = 6; // in ohm\n",
"R6 = 8; // in ohm\n",
"\n",
"//calculation:\n",
"//The mesh currents I1, I2 and I3 are shown in Figure 31.2. Using Kirchhoff’s voltage law in 3 loops\n",
"//three eqns obtained\n",
"//(R1 + R2)*I1 - R2*I2 = V1\n",
"//-1*R2*I1 + (R2 + R3 + R4 + R5)*I2 - R4*I3 = 0\n",
"// -1*R4*I2 + (R4 + R6)*I3 = -1*V2\n",
"//using determinants\n",
"d1 = [V1 -1*R2 0; 0 (R2 + R3 + R4 + R5) -1*R4; -1*V2 -1*R4 (R4 + R6)]\n",
"D1 = det(d1)\n",
"d2 = [(R1 + R2) V1 0; -1*R2 0 -1*R4; 0 -1*V2 (R4 + R6)]\n",
"D2 = det(d2)\n",
"d3 = [(R1 + R2) -1*R2 V1; -1*R2 (R2 + R3 + R4 + R5) 0; 0 -1*R4 -1*V2]\n",
"D3 = det(d3)\n",
"d = [(R1 + R2) -1*R2 0; -1*R2 (R2 + R3 + R4 + R5) -1*R4; 0 -1*R4 (R4 + R6)]\n",
"D = det(d)\n",
"I1 = D1/D\n",
"I2 = D2/D\n",
"I3 = D3/D \n",
"IR2 = I1 - I2\n",
"IR4 = I2 - I3\n",
"\n",
"printf('\n\n Result \n\n')\n",
"printf('\n (a)current in the 5 ohm resistance is %.2f A',IR2)\n",
"printf('\n (b)current in the 1 ohm resistance is %.2f A',IR4)"
   ]
   }
,
{
		   "cell_type": "markdown",
		   "metadata": {},
		   "source": [
			"## Example 31.02: Example_2.sce"
		   ]
		  },
  {
"cell_type": "code",
	   "execution_count": null,
	   "metadata": {
	    "collapsed": true
	   },
	   "outputs": [],
"source": [
"//Problem 31.02: For the a.c. network shown in Figure 31.3 determine, using mesh-current analysis, (a) the mesh currents I1 and I2 (b) the current flowing in the capacitor, and (c) the active power delivered by the 100/_0° V voltage source.\n",
"\n",
"//initializing the variables:\n",
"rv = 100; // in volts\n",
"thetav = 0; // in degrees\n",
"R1 = 5; // in ohm\n",
"R2 = -1*4*%i; // in ohm\n",
"R3 = 4; // in ohm\n",
"R4 = %i*3; // in ohm\n",
"\n",
"//calculation:\n",
"//voltages\n",
"V = rv*cos(thetav*%pi/180) + %i*rv*sin(thetav*%pi/180)\n",
"//Currents I1, I2 with their directions are shown in Figure 31.03.\n",
"//Two loops are chosen. The choice of loop directions is arbitrary.\n",
"//using kirchoff rule in 2 loops\n",
"//two eqns obtained\n",
"//(R1 + R2)*I1 - R2*I2 = V\n",
"//-1*R2*I1 + (R3 + R2 + R4)*I2 = 0\n",
"//using determinants\n",
"d1 = [V -1*R2; 0 (R3 + R2 + R4)]\n",
"D1 = det(d1)\n",
"d2 = [(R1 + R2) V; -1*R2 0]\n",
"D2 = det(d2)\n",
"d = [(R1 + R2) -1*R2; -1*R2 (R3 + R2 + R4)]\n",
"D = det(d)\n",
"I1 = D1/D\n",
"I2 = D2/D\n",
"I1mag = (real(I1)^2 + imag(I1)^2)^0.5\n",
"//Current flowing in capacitor\n",
"Ic = I1 - I2\n",
"//Source power P\n",
"phi = atan(imag(I1)/real(I1))\n",
"P = V*I1mag*cos(phi)\n",
"Icmag = (real(Ic)^2 + imag(Ic)^2)^0.5\n",
"\n",
"printf('\n\n Result \n\n')\n",
"printf('\n (a)current, I1 is %.2f + (%.2f)i A, current, I2 is  %.2f + (%.2f)i A',real(I1), imag(I1),real(I2), imag(I2))\n",
"printf('\n (b)current in the capacitor is %.2f A',Icmag)\n",
"printf('\n (c)Source power P is %.2f W',P)"
   ]
   }
,
{
		   "cell_type": "markdown",
		   "metadata": {},
		   "source": [
			"## Example 31.03: Example_3.sce"
		   ]
		  },
  {
"cell_type": "code",
	   "execution_count": null,
	   "metadata": {
	    "collapsed": true
	   },
	   "outputs": [],
"source": [
"//Problem 31.03: A balanced star-connected 3-phase load is shown in Figure 31.4. Determine the value of the line currents IR, IY and IB using mesh-current analysis.\n",
"\n",
"//initializing the variables:\n",
"rv1 = 415; // in volts\n",
"rv2 = 415; // in volts\n",
"thetav1 = 120; // in degrees\n",
"thetav2 = 0; // in degrees\n",
"R = 3 + %i*4; // in ohm\n",
"\n",
"//calculation:\n",
"//voltages\n",
"V1 = rv1*cos(thetav1*%pi/180) + %i*rv1*sin(thetav1*%pi/180)\n",
"V2 = rv2*cos(thetav2*%pi/180) + %i*rv2*sin(thetav2*%pi/180)\n",
"//Two mesh currents I1 and I2 are chosen as shown in Figure 31.4.\n",
"//Two loops are chosen. The choice of loop directions is arbitrary.\n",
"//using kirchoff rule in 2 loops\n",
"//two eqns obtained\n",
"//2*R*I1 - R*I2 = V1\n",
"//-1*R*I1 + 2*R*I2 = V2\n",
"//using determinants\n",
"d1 = [V1 -1*R; V2 2*R]\n",
"D1 = det(d1)\n",
"d2 = [2*R V1; -1*R V2]\n",
"D2 = det(d2)\n",
"d = [2*R -1*R; -1*R 2*R]\n",
"D = det(d)\n",
"I1 = D1/D\n",
"I2 = D2/D\n",
"I1mag = (real(I1)^2 + imag(I1)^2)^0.5\n",
"//line current IR\n",
"IR = I1\n",
"//line current IB\n",
"IB = -1*I2\n",
"//line current IY\n",
"IY = I2 - I1\n",
"\n",
"printf('\n\n Result \n\n')\n",
"printf('\n current, IR is %.2f + (%.2f)i A, current, IB is  %.2f + (%.2f)i A and current, IY is %.2f + (%.2f)i A',real(IR), imag(IR),real(IB), imag(IB),real(IY), imag(IY))"
   ]
   }
,
{
		   "cell_type": "markdown",
		   "metadata": {},
		   "source": [
			"## Example 31.04: Example_4.sce"
		   ]
		  },
  {
"cell_type": "code",
	   "execution_count": null,
	   "metadata": {
	    "collapsed": true
	   },
	   "outputs": [],
"source": [
"//Problem 31.04: For the network shown in Figure 31.8, determine the voltage VAB, by using nodal analysis.\n",
"\n",
"//initializing the variables:\n",
"ri = 20; // in amperes\n",
"thetai = 0; // in degrees\n",
"R1 = 10; // in ohm\n",
"R2 = %i*3; // in ohm\n",
"R3 = 4; // in ohm\n",
"R4 = 16; // in ohm\n",
"\n",
"//calculation:\n",
"//current\n",
"I = ri*cos(thetai*%pi/180) + %i*ri*sin(thetai*%pi/180)\n",
"//Figure 31.8 contains two principal nodes (at 1 and B) and thus only one nodal equation is required. B is taken as the reference node and the equation for node 1 is obtained as follows. Applying Kirchhoff’s current law to node 1 gives:\n",
"//IX + IY = I\n",
"V1 = I/((1/R4) +(1/(R2  +R3)))\n",
"IY = V1/(R2 + R3)\n",
"VAB = IY*R3\n",
"\n",
"printf('\n\n Result \n\n')\n",
"printf('\n voltage VAB is %.2f + (%.2f)i V',real(VAB), imag(VAB))"
   ]
   }
,
{
		   "cell_type": "markdown",
		   "metadata": {},
		   "source": [
			"## Example 31.05: Example_5.sce"
		   ]
		  },
  {
"cell_type": "code",
	   "execution_count": null,
	   "metadata": {
	    "collapsed": true
	   },
	   "outputs": [],
"source": [
"//Problem 31.05: Determine the value of voltage VXY shown in the circuit of Figure 31.9.\n",
"\n",
"//initializing the variables:\n",
"rv1 = 8; // in volts\n",
"rv2 = 8; // in volts\n",
"thetav1 = 0; // in degrees\n",
"thetav2 = 90; // in degrees\n",
"R1 = 5; // in ohm\n",
"R2 = %i*6; // in ohm\n",
"R3 = 4; // in ohm\n",
"R4 = 3; // in ohm\n",
"\n",
"//calculation:\n",
"//voltages\n",
"V1 = rv1*cos(thetav1*%pi/180) + %i*rv1*sin(thetav1*%pi/180)\n",
"V2 = rv2*cos(thetav2*%pi/180) + %i*rv2*sin(thetav2*%pi/180)\n",
"//The circuit contains no principal nodes. However, if point Y is chosen as the reference node then an equation may be written for node X assuming that current leaves point X by both branches\n",
"VX = [(V1/(R1 + R3) + V2/(R2 + R4))/(1/(R1 + R3) + 1/(R2 + R4))]\n",
"VXY = VX\n",
"\n",
"printf('\n\n Result \n\n')\n",
"printf('\n voltage VXY is %.2f + (%.2f)i V',real(VXY), imag(VXY))"
   ]
   }
,
{
		   "cell_type": "markdown",
		   "metadata": {},
		   "source": [
			"## Example 31.06: Example_6.sce"
		   ]
		  },
  {
"cell_type": "code",
	   "execution_count": null,
	   "metadata": {
	    "collapsed": true
	   },
	   "outputs": [],
"source": [
"//Problem 31.06: Use nodal analysis to determine the current flowing in each branch of the network shown in Figure 31.10.\n",
"\n",
"//initializing the variables:\n",
"rv1 = 100; // in volts\n",
"rv2 = 50; // in volts\n",
"thetav1 = 0; // in degrees\n",
"thetav2 = 90; // in degrees\n",
"R1 = 25; // in ohm\n",
"R2 = 20; // in ohm\n",
"R3 = 10; // in ohm\n",
"\n",
"//calculation:\n",
"//voltages\n",
"V1 = rv1*cos(thetav1*%pi/180) + %i*rv1*sin(thetav1*%pi/180)\n",
"V2 = rv2*cos(thetav2*%pi/180) + %i*rv2*sin(thetav2*%pi/180)\n",
"//There are only two principal nodes in Figure 31.10 so only one nodal equation is required. Node 2 is taken as the reference node.\n",
"//The equation at node 1 is I1 + I2 + I3 = 0\n",
"Vn1 = [(V1/R1 + V2/R3)/(1/R1 + 1/R2 + 1/R3)]\n",
"I1 = (Vn1 - V1)/R1\n",
"I2 = Vn1/R2\n",
"I3 = (Vn1 - V2)/R3\n",
"\n",
"printf('\n\n Result \n\n')\n",
"printf('\n current, I1 is %.2f + (%.2f)i A, current, I2 is  %.2f + (%.2f)i A and current, I3 is %.2f + (%.2f)i A',real(I1), imag(I1),real(I2), imag(I2),real(I3), imag(I3))"
   ]
   }
,
{
		   "cell_type": "markdown",
		   "metadata": {},
		   "source": [
			"## Example 31.07: Example_7.sce"
		   ]
		  },
  {
"cell_type": "code",
	   "execution_count": null,
	   "metadata": {
	    "collapsed": true
	   },
	   "outputs": [],
"source": [
"//Problem 31.07: In the network of Figure 31.11 use nodal analysis to determine (a) the voltage at nodes 1 and 2, (b) the current in the j4 ohm inductance, (c) the current in the 5 ohm resistance, and (d) the magnitude of the active power dissipated in the 2.5 ohm resistance.\n",
"\n",
"//initializing the variables:\n",
"rv1 = 25; // in volts\n",
"rv2 = 25; // in volts\n",
"thetav1 = 0; // in degrees\n",
"thetav2 = 90; // in degrees\n",
"R1 = 2; // in ohm\n",
"R2 = -1*%i*4; // in ohm\n",
"R3 = 5; // in ohm\n",
"R4 = %i*4; // in ohm\n",
"R5 = 2.5; // in ohm\n",
"\n",
"//calculation:\n",
"//voltages\n",
"V1 = rv1*cos(thetav1*%pi/180) + %i*rv1*sin(thetav1*%pi/180)\n",
"V2 = rv2*cos(thetav2*%pi/180) + %i*rv2*sin(thetav2*%pi/180)\n",
"//The equation at node 1\n",
"//Vn1*(1/R1 + 1/R2 + 1/R3) - Vn2/R3 = V1/R1\n",
"//The equation at node 2\n",
"//Vn1*(-1/R3) + Vn2*(1/R4 + 1/R5 + 1/R3) = V2/R5\n",
"//using determinants\n",
"d1 = [V1/R1 -1/R3; V2/R5 (1/R4 + 1/R5 + 1/R3)]\n",
"D1 = det(d1)\n",
"d2 = [(1/R1 + 1/R2 + 1/R3) V1/R1; -1/R3 V2/R5]\n",
"D2 = det(d2)\n",
"d = [(1/R1 + 1/R2 + 1/R3) -1/R3; -1/R3 (1/R4 + 1/R5 + 1/R3)]\n",
"D = det(d)\n",
"Vn1 = D1/D\n",
"Vn2 = D2/D\n",
"//current in the j4 ohm inductance is given by:\n",
"I4 = Vn2/R4\n",
"//current in the 5 ohm resistance is given by:\n",
"I3 = (Vn1 - Vn2)/R3\n",
"//active power dissipated in the 2.5 ohm resistor is given by\n",
"P5 = R5*((Vn2 - V2)/R5)^2\n",
"//magnitude of the active power dissipated\n",
"P5mag = (real(P5)^2 + imag(P5)^2)^0.5\n",
"\n",
"printf('\n\n Result \n\n')\n",
"printf('\n (a) the voltage at nodes 1 and 2 is %.2f + (%.2f)i V and %.2f + (%.2f)i V',real(Vn1), imag(Vn1),real(Vn2), imag(Vn2))\n",
"printf('\n (b)the current in the j4 ohm inductance is %.2f + (%.2f)i A',real(I4), imag(I4))\n",
"printf('\n (c)the current in the 5 ohm resistance is %.2f + (%.2f)i A',real(I3), imag(I3))\n",
"printf('\n (d) magnitude of the active power dissipated in the 2.5 ohm resistance is %.2f W',P5mag)"
   ]
   }
,
{
		   "cell_type": "markdown",
		   "metadata": {},
		   "source": [
			"## Example 31.08: Example_8.sce"
		   ]
		  },
  {
"cell_type": "code",
	   "execution_count": null,
	   "metadata": {
	    "collapsed": true
	   },
	   "outputs": [],
"source": [
"//Problem 31.08: In the network shown in Figure 31.12 determine the voltage VXY using nodal analysis\n",
"\n",
"//initializing the variables:\n",
"ri = 25; // in amperes\n",
"thetai = 0; // in degrees\n",
"R1 = 4; // in ohm\n",
"R2 = %i*3; // in ohm\n",
"R3 = 5; // in ohm\n",
"R4 = %i*10; // in ohm\n",
"R5 = %i*20; // in ohm\n",
"\n",
"//calculation:\n",
"//current\n",
"I = ri*cos(thetai*%pi/180) + %i*ri*sin(thetai*%pi/180)\n",
"//Node 3 is taken as the reference node.\n",
"//At node 1,\n",
"//V1*(1/(R1 + R2) + 1/R3) - V2/R3 = I\n",
"//The equation at node 2\n",
"//V1*(-1/R3) + V2*(1/R4 + 1/R5 + 1/R3) = 0\n",
"//using determinants\n",
"d1 = [I -1/R3; 0 (1/R4 + 1/R5 + 1/R3)]\n",
"D1 = det(d1)\n",
"d2 = [(1/(R1 + R2) + 1/R3) I; -1/R3 0]\n",
"D2 = det(d2)\n",
"d = [(1/(R1 + R2) + 1/R3) -1/R3; -1/R3 (1/R4 + 1/R5 + 1/R3)]\n",
"D = det(d)\n",
"V1 = D1/D\n",
"V2 = D2/D\n",
"//the voltage between point X and node 3 is\n",
"VX = V1*R2/(R1 + R2)\n",
"//Thus the voltage\n",
"VY = V2\n",
"VXY = VX - VY\n",
"\n",
"printf('\n\n Result \n\n')\n",
"printf('\n voltage VXY is %.2f + (%.2f)i V',real(VXY), imag(VXY))"
   ]
   }
,
{
		   "cell_type": "markdown",
		   "metadata": {},
		   "source": [
			"## Example 31.09: Example_9.sce"
		   ]
		  },
  {
"cell_type": "code",
	   "execution_count": null,
	   "metadata": {
	    "collapsed": true
	   },
	   "outputs": [],
"source": [
"//Problem 31.09: Use nodal analysis to determine the voltages at nodes 2 and 3 in Figure 31.13 and hence determine the current flowing in the 2 ohm resistor and the power dissipated in the 3 ohm resistor.\n",
"\n",
"//initializing the variables:\n",
"V = 8; // in volts\n",
"R1 = 1; // in ohm\n",
"R2 = 2; // in ohm\n",
"R3 = 3; // in ohm\n",
"R4 = 4; // in ohm\n",
"R5 = 5; // in ohm\n",
"R6 = 6; // in ohm\n",
"\n",
"//calculation:\n",
"//In Figure 31.13, the reference node is shown at point A.\n",
"//At node 1,\n",
"//V1*(1/R1 + 1/R6 + 1/R5) - V2/R1 - V3/R5 = V/R5\n",
"//The equation at node 2\n",
"//V1*(-1/R1) + V2*(1/R2 + 1/R1 + 1/R3) - V3/R3 = 0\n",
"//At node 3\n",
"// - V1/R5 - V2/R3 + V3*(1/R4 + 1/R3 + 1/R5) = -1*V/R5\n",
"//using determinants\n",
"d1 = [V/R5 -1/R1 -1/R5; 0 (1/R2 + 1/R1 + 1/R3) -1/R3; -1*V/R5 -1/R3 (1/R4 + 1/R3 + 1/R5)]\n",
"D1 = det(d1)\n",
"d2 = [(1/R1 + 1/R6 + 1/R5) V/R5 -1/R5; -1/R1 0 -1/R3; -1/R5 -1*V/R5 (1/R4 + 1/R3 + 1/R5)]\n",
"D2 = det(d2)\n",
"d3 = [(1/R1 + 1/R6 + 1/R5) -1/R1 V/R5; -1/R1 (1/R2 + 1/R1 + 1/R3) 0; -1/R5 -1/R3 -1*V/R5]\n",
"D3 = det(d3)\n",
"d = [(1/R1 + 1/R6 + 1/R5) -1/R1 -1/R5; -1/R1 (1/R2 + 1/R1 + 1/R3) -1/R3; -1/R5 -1/R3 (1/R4 + 1/R3 + 1/R5)]\n",
"D = det(d)\n",
"Vn1 = D1/D\n",
"Vn2 = D2/D\n",
"Vn3 = D3/D \n",
"//the current in the 2 ohm resistor\n",
"I2 = Vn2/R2\n",
"//power dissipated in the 3 ohm resistance\n",
"P3 = R3*((Vn2 - Vn3)/R3)^2\n",
"\n",
"printf('\n\n Result \n\n')\n",
"printf('\n voltage at node 2 is %.2f V',Vn2)\n",
"printf('\n voltage at node 3 is %.2f V',Vn3)\n",
"printf('\n (a)current through 2 ohm resistor is %.2f A',I2)\n",
"printf('\n (b)power dissipated in the 3 ohm resistor is %.2f W',P3)"
   ]
   }
],
"metadata": {
		  "kernelspec": {
		   "display_name": "Scilab",
		   "language": "scilab",
		   "name": "scilab"
		  },
		  "language_info": {
		   "file_extension": ".sce",
		   "help_links": [
			{
			 "text": "MetaKernel Magics",
			 "url": "https://github.com/calysto/metakernel/blob/master/metakernel/magics/README.md"
			}
		   ],
		   "mimetype": "text/x-octave",
		   "name": "scilab",
		   "version": "0.7.1"
		  }
		 },
		 "nbformat": 4,
		 "nbformat_minor": 0
}
