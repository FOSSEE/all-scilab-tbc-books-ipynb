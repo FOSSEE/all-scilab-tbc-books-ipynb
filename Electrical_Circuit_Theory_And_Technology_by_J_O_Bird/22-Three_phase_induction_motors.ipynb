{
"cells": [
 {
		   "cell_type": "markdown",
	   "metadata": {},
	   "source": [
       "# Chapter 22: Three phase induction motors"
	   ]
	},
{
		   "cell_type": "markdown",
		   "metadata": {},
		   "source": [
			"## Example 22.01: Example_1.sce"
		   ]
		  },
  {
"cell_type": "code",
	   "execution_count": null,
	   "metadata": {
	    "collapsed": true
	   },
	   "outputs": [],
"source": [
"//Problem 22.01: A three-phase two-pole induction motor is connected to a 50 Hz supply. Determine the synchronous speed of the motor in rev/min.\n",
"\n",
"//initializing the variables:\n",
"f = 50; // in Hz\n",
"p = 2/2; // number of pairs of poles\n",
"\n",
"//calculation:\n",
"//ns is the synchronous speed, f is the frequency in hertz of the supply to the stator and p is the number of pairs of poles.\n",
"ns = f/p\n",
"nsrpm = ns*60\n",
"\n",
"printf('\n\n Result \n\n')\n",
"printf('\nsynchronous speed of the motor is %.0f rev/min', nsrpm)"
   ]
   }
,
{
		   "cell_type": "markdown",
		   "metadata": {},
		   "source": [
			"## Example 22.02: Example_2.sce"
		   ]
		  },
  {
"cell_type": "code",
	   "execution_count": null,
	   "metadata": {
	    "collapsed": true
	   },
	   "outputs": [],
"source": [
"//Problem 22.02: A stator winding supplied from a three-phase 60 Hz system is required to produce a magnetic flux rotating at 900 rev/min. Determine the number of poles.\n",
"\n",
"//initializing the variables:\n",
"f = 60; // in Hz\n",
"ns = 900/60; // in rev/sec\n",
"\n",
"//calculation:\n",
"//ns is the synchronous speed, f is the frequency in hertz of the supply to the stator and p is the number of pairs of poles.\n",
"p = f/ns\n",
"np = p*2\n",
"\n",
"printf('\n\n Result \n\n')\n",
"printf('\nnumber of poles is %.0f', np)"
   ]
   }
,
{
		   "cell_type": "markdown",
		   "metadata": {},
		   "source": [
			"## Example 22.03: Example_3.sce"
		   ]
		  },
  {
"cell_type": "code",
	   "execution_count": null,
	   "metadata": {
	    "collapsed": true
	   },
	   "outputs": [],
"source": [
"//Problem 22.03: A three-phase 2-pole motor is to have a synchronous speed of 6000 rev/min. Calculate the frequency of the supply voltage.\n",
"\n",
"//initializing the variables:\n",
"p = 2/2; // number of pairs of poles\n",
"ns = 6000/60; // in rev/sec\n",
"\n",
"//calculation:\n",
"//ns is the synchronous speed, f is the frequency in hertz of the supply to the stator and p is the number of pairs of poles.\n",
"f = p*ns\n",
"\n",
"printf('\n\n Result \n\n')\n",
"printf('\nfrequency is %.0f Hz',f)"
   ]
   }
,
{
		   "cell_type": "markdown",
		   "metadata": {},
		   "source": [
			"## Example 22.04: Example_4.sce"
		   ]
		  },
  {
"cell_type": "code",
	   "execution_count": null,
	   "metadata": {
	    "collapsed": true
	   },
	   "outputs": [],
"source": [
"//Problem 22.04: The stator of a 3-phase, 4-pole induction motor is connected to a 50 Hz supply. The rotor runs at 1455 rev/min at full load. Determine (a) the synchronous speed and (b) the slip at full load.\n",
"\n",
"//initializing the variables:\n",
"p = 4/2; // number of pairs of poles\n",
"f = 50; // in Hz\n",
"nr = 1455/60; // in rev/sec\n",
"\n",
"//calculation:\n",
"//ns is the synchronous speed, f is the frequency in hertz of the supply to the stator and p is the number of pairs of poles.\n",
"ns = f/p\n",
"//The slip, s\n",
"s = ((ns - nr)/ns)*100 // in percent\n",
"\n",
"printf('\n\n Result \n\n')\n",
"printf('\n(a) synchronous speed is %.0f rev/sec',ns)\n",
"printf('\n(b) slip is %.0f percent',s)"
   ]
   }
,
{
		   "cell_type": "markdown",
		   "metadata": {},
		   "source": [
			"## Example 22.05: Example_5.sce"
		   ]
		  },
  {
"cell_type": "code",
	   "execution_count": null,
	   "metadata": {
	    "collapsed": true
	   },
	   "outputs": [],
"source": [
"//Problem 22.05: A 3-phase, 60 Hz induction motor has 2 poles. If the slip is 2% at a certain load, determine (a) the synchronous speed, (b) the speed of the rotor and (c) the frequency of the induced e.m.f.’s in the rotor.\n",
"\n",
"//initializing the variables:\n",
"p = 2/2; // number of pairs of poles\n",
"f = 60; // in Hz\n",
"s = 0.02; // slip\n",
"\n",
"//calculation:\n",
"//ns is the synchronous speed, f is the frequency in hertz of the supply to the stator and p is the number of pairs of poles.\n",
"ns = f/p\n",
"//The the rotor runs at\n",
"nr = ns*(1 - s)\n",
"//frequency of the e.m.f.’s induced in the rotor bars is\n",
"fr = ns - nr\n",
"\n",
"printf('\n\n Result \n\n')\n",
"printf('\n(a) synchronous speed is %.0f rev/sec',ns)\n",
"printf('\n(b) rotor speed is %.1f rev/sec',nr)\n",
"printf('\n(c) frequency of the e.m.f.’s induced in the rotor bars is is %.1f Hz',fr)"
   ]
   }
,
{
		   "cell_type": "markdown",
		   "metadata": {},
		   "source": [
			"## Example 22.06: Example_6.sce"
		   ]
		  },
  {
"cell_type": "code",
	   "execution_count": null,
	   "metadata": {
	    "collapsed": true
	   },
	   "outputs": [],
"source": [
"//Problem 22.06: A three-phase induction motor is supplied from a 50 Hz supply and runs at 1200 rev/min when the slip is 4%. Determine the synchronous speed.\n",
"\n",
"//initializing the variables:\n",
"f = 50; // in Hz\n",
"nr = 1200/60; // in rev/min\n",
"s = 0.04; // slip\n",
"\n",
"//calculation:\n",
"//the synchronous speed.\n",
"ns = nr/(1 - s)\n",
"nsrpm = ns*60\n",
"printf('\n\n Result \n\n')\n",
"printf('\n synchronous speed is %.0f rev/min',nsrpm)"
   ]
   }
,
{
		   "cell_type": "markdown",
		   "metadata": {},
		   "source": [
			"## Example 22.07: Example_7.sce"
		   ]
		  },
  {
"cell_type": "code",
	   "execution_count": null,
	   "metadata": {
	    "collapsed": true
	   },
	   "outputs": [],
"source": [
"//Problem 22.07: The frequency of the supply to the stator of an 8- pole induction motor is 50 Hz and the rotor frequency is 3 Hz. Determine (a) the slip, and (b) the rotor speed.\n",
"\n",
"//initializing the variables:\n",
"p = 8/2; // number of pairs of poles\n",
"f = 50; // in Hz\n",
"fr = 3; // in Hz\n",
"\n",
"//calculation:\n",
"//ns is the synchronous speed, f is the frequency in hertz of the supply to the stator and p is the number of pairs of poles.\n",
"ns = f/p\n",
"//fr = s*f\n",
"s = (fr/f)\n",
"//the rotor speed.\n",
"nr = ns*(1 - s)\n",
"nrrpm = nr*60\n",
"\n",
"printf('\n\n Result \n\n')\n",
"printf('\n(a) slip is %.0f percent',s*100)\n",
"printf('\n (b) rotor speed is %.0f rev/min',nrrpm)"
   ]
   }
,
{
		   "cell_type": "markdown",
		   "metadata": {},
		   "source": [
			"## Example 22.08: Example_8.sce"
		   ]
		  },
  {
"cell_type": "code",
	   "execution_count": null,
	   "metadata": {
	    "collapsed": true
	   },
	   "outputs": [],
"source": [
"//Problem 22.08: The power supplied to a three-phase induction motor is 32 kW and the stator losses are 1200 W. If the slip is 5%, determine (a) the rotor copper loss, (b) the total mechanical power developed by the rotor, (c) the output power of the motor if friction and windage losses are 750 W, and (d) the efficiency of the motor, neglecting rotor iron loss.\n",
"\n",
"//initializing the variables:\n",
"Psi = 32000; // in Watts\n",
"Psl = 1200; // in Watts\n",
"s = 0.05; // slip\n",
"Pfl = 750; // in Watts\n",
"\n",
"//calculation:\n",
"//Input power to rotor = stator input power - stator losses\n",
"Pi =  Psi - Psl\n",
"//slip = rotor copper loss/rotor input\n",
"Pl = s*Pi\n",
"//Total mechanical power developed by the rotor = rotor input power - rotor losses\n",
"Pr = Pi - Pl\n",
"//Output power of motor = power developed by the rotor - friction and windage losses\n",
"Po = Pr - Pfl\n",
"//Efficiency of induction motor = (output power/input power)*100\n",
"eff = (Po/Psi)*100 // in percent\n",
"\n",
"printf('\n\n Result \n\n')\n",
"printf('\n(a) rotor copper loss is %.0f Watt',Pl)\n",
"printf('\n(b) Total mechanical power developed by the rotor is %.0f W',Pr)\n",
"printf('\n(c) Output power of motor is %.0f Watt',Po)\n",
"printf('\n(d) efficiency of induction motor is %.2f percent',eff)"
   ]
   }
,
{
		   "cell_type": "markdown",
		   "metadata": {},
		   "source": [
			"## Example 22.09: Example_9.sce"
		   ]
		  },
  {
"cell_type": "code",
	   "execution_count": null,
	   "metadata": {
	    "collapsed": true
	   },
	   "outputs": [],
"source": [
"//Problem 22.09: The speed of the induction motor of Problem 22.08 is reduced to 35% of its synchronous speed by using external rotor resistance. If the torque and stator losses are unchanged, determine (a) the rotor copper loss, and (b) the efficiency of the motor.\n",
"\n",
"//initializing the variables:\n",
"Psi = 32000; // in Watts\n",
"Psl = 1200; // in Watts\n",
"Pfl = 750; // in Watts\n",
"x = 0.35;\n",
"\n",
"//calculation:\n",
"nr = x*ns\n",
"//The slip, s\n",
"s = ((ns - nr)/ns)\n",
"//Input power to rotor = stator input power - stator losses\n",
"Pi =  Psi - Psl\n",
"//slip = rotor copper loss/rotor input\n",
"Pl = s*Pi\n",
"//Total mechanical power developed by the rotor = rotor input power - rotor losses\n",
"Pr = Pi - Pl\n",
"//Output power of motor = power developed by the rotor - friction and windage losses\n",
"Po = Pr - Pfl\n",
"//Efficiency of induction motor = (output power/input power)*100\n",
"eff = (Po/Psi)*100 // in percent\n",
"\n",
"printf('\n\n Result \n\n')\n",
"printf('\n(a) rotor copper loss is %.0f Watt',Pl)\n",
"printf('\n(b) efficiency of induction motor is %.2f percent',eff)"
   ]
   }
,
{
		   "cell_type": "markdown",
		   "metadata": {},
		   "source": [
			"## Example 22.10: Example_10.sce"
		   ]
		  },
  {
"cell_type": "code",
	   "execution_count": null,
	   "metadata": {
	    "collapsed": true
	   },
	   "outputs": [],
"source": [
"//Problem 22.10: A 415 V, three-phase, 50 Hz, 4 pole, star-connected induction motor runs at 24 rev/s on full load. The rotor resistance and reactance per phase are 0.35 ohm and 3.5 ohm respectively, and the effective rotor-stator turns ratio is 0.85:1. Calculate (a) the synchronous speed, (b) the slip, (c) the full load torque, (d) the power output if mechanical losses amount to 770 W, (e) the maximum torque, (f) the speed at which maximum torque occurs and (g) the starting torque.\n",
"\n",
"//initializing the variables:\n",
"V = 415; // in Volts\n",
"f = 50 ; // in Hz\n",
"nr = 24; // in rev/sec\n",
"p = 4/2; // no. of pole pairs\n",
"R2 = 0.35; // in Ohms\n",
"X2 = 3.5; // in Ohms\n",
"tr = 0.85; // turn ratio N2/N1\n",
"Pl = 770; // in Watt\n",
"m = 3; // no. of phases\n",
"\n",
"//calculation:\n",
"//ns is the synchronous speed, f is the frequency in hertz of the supply to the stator and p is the number of pairs of poles.\n",
"ns = f/p\n",
"//The slip, s\n",
"s = ((ns - nr)/ns)*100 // in percent\n",
"//Phase voltage, E1 = V/(3^0.5)\n",
"E1 = V/(3^0.5)\n",
"//Full load torque\n",
"T = [m*(tr^2)/(2*%pi*ns)]*[(s/100)*E1*E1*R2/(R2*R2 + (X2*(s/100))^2)]\n",
"//Output power, including friction losses\n",
"Pm = 2*%pi*nr*T\n",
"//power output\n",
"Po = Pm - Pl\n",
"//Maximum torque occurs when R2 = Xr = 0.35 ohm\n",
"//Slip \n",
"sm = R2/X2\n",
"//maximum torque, Tm \n",
"Tm = [m*(tr^2)/(2*%pi*ns)]*[sm*E1*E1*R2/(R2*R2 + (X2*sm)^2)]\n",
"//speed at which maximum torque occurs\n",
"nrm = ns*(1 - sm)\n",
"nrmrpm = nrm*60\n",
"//At the start, i.e., at standstill, slip, s=1\n",
"ss = 1\n",
"//starting torque\n",
"Ts = [m*(tr^2)/(2*%pi*ns)]*[ss*E1*E1*R2/(R2*R2 + (X2*ss)^2)]\n",
"\n",
"printf('\n\n Result \n\n')\n",
"printf('\n(a)Synchronous speed is %.0f rev/sec',ns)\n",
"printf('\n(b)Slip is %.0f percent',s)\n",
"printf('\n(c)Full load torque is %.2f Nm',T)\n",
"printf('\n(d)power output is %.2E W',Po)\n",
"printf('\n(e)maximum torque is %.2f Nm',Tm)\n",
"printf('\n(f)speed at which maximum torque occurs is %.0frev/min',nrmrpm)\n",
"printf('\n(g)starting torque is %.2f Nm',Ts)"
   ]
   }
,
{
		   "cell_type": "markdown",
		   "metadata": {},
		   "source": [
			"## Example 22.11: Example_11.sce"
		   ]
		  },
  {
"cell_type": "code",
	   "execution_count": null,
	   "metadata": {
	    "collapsed": true
	   },
	   "outputs": [],
"source": [
"//Problem 22.11: Determine for the induction motor in problem 22.10 at full load, (a) the rotor current, (b) the rotor copper loss, and (c) the starting current.\n",
"\n",
"//initializing the variables:\n",
"V = 415; // in Volts\n",
"f = 50 ; // in Hz\n",
"nr = 24; // in rev/sec\n",
"p = 4/2; // no. of pole pairs\n",
"R2 = 0.35; // in Ohms\n",
"X2 = 3.5; // in Ohms\n",
"tr = 0.85; // turn ratio N2/N1\n",
"m = 3; // no. of phases\n",
"\n",
"//calculation:\n",
"//ns is the synchronous speed, f is the frequency in hertz of the supply to the stator and p is the number of pairs of poles.\n",
"ns = f/p\n",
"//The slip, s\n",
"s = ((ns - nr)/ns)*100 // in percent\n",
"//Phase voltage, E1 = V/(3^0.5)\n",
"E1 = V/(3^0.5)\n",
"//rotor current,\n",
"Ir = (s/100)*E1*tr/((R2^2 + (X2*(s/100))^2)^0.5)\n",
"//Rotor copper loss \n",
"Pcl = m*R2*(Ir^2)\n",
"//starting current,\n",
"ss =1\n",
"I2 = ss*tr*E1/((R2^2 + (X2*ss)^2)^0.5)\n",
"\n",
"printf('\n\n Result \n\n')\n",
"printf('\n(a)rotor current is %.2f A',Ir)\n",
"printf('\n(b)Total copper loss is %.2f W',Pcl)\n",
"printf('\n(c)starting current is %.2f A',I2)"
   ]
   }
,
{
		   "cell_type": "markdown",
		   "metadata": {},
		   "source": [
			"## Example 22.12: Example_12.sce"
		   ]
		  },
  {
"cell_type": "code",
	   "execution_count": null,
	   "metadata": {
	    "collapsed": true
	   },
	   "outputs": [],
"source": [
"//Problem 22.12: For the induction motor in problems 22.10 and 22.11, if the stator losses are 650 W, determine (a) the power input at full load, (b) the efficiency of the motor at full load and (c) the current taken from the supply at full load, if the motor runs at a power factor of 0.87 lagging.\n",
"\n",
"//initializing the variables:\n",
"V = 415; // in Volts\n",
"Psl = 650; // in Watt\n",
"pf = 0.87; // power factor\n",
"\n",
"//calculation:\n",
"Pm = 11770; // watts from part (d), Problem 22.10\n",
"Pcl = 490.35; // watts, Rotor copper loss, from part (b), Problem 22.11\n",
"//Stator input power\n",
"P1 = Pm + Pcl + Psl\n",
"Po = 11000 // watts, Net power output, from part (d), Problem 22.10\n",
"//efficiency = (output/input) *100\n",
"eff = (Po/P1)*100 // in percent\n",
"//Power input, P1 = (3^0.5)*VL*IL*cos(phi)\n",
"// pf = cos(phi)\n",
"//supply current, IL\n",
"I = P1/((3^0.5)*V*pf)\n",
"\n",
"printf('\n\n Result \n\n')\n",
"printf('\n(aStator input power is %.2E W',P1)\n",
"printf('\n(b)efficiency is %.2f percent',eff)\n",
"printf('\n(c)supply current is %.2f A',I)"
   ]
   }
,
{
		   "cell_type": "markdown",
		   "metadata": {},
		   "source": [
			"## Example 22.13: Example_13.sce"
		   ]
		  },
  {
"cell_type": "code",
	   "execution_count": null,
	   "metadata": {
	    "collapsed": true
	   },
	   "outputs": [],
"source": [
"//Problem 22.13: For the induction motor of Problems 22.10 to 22.12, determine the resistance of the rotor winding required for maximum starting torque.\n",
"\n",
"//initializing the variables:\n",
"V = 415; // in Volts\n",
"f = 50 ; // in Hz\n",
"nr = 24; // in rev/sec\n",
"p = 4/2; // no. of pole pairs\n",
"R2 = 0.35; // in Ohms\n",
"X2 = 3.5; // in Ohms\n",
"\n",
"//calculation:\n",
"//At the moment of starting, slip, \n",
"s = 1\n",
"//Maximum torque occurs when rotor reactance equals rotor resistance\n",
"//for maximum torque\n",
"R2 = s*X2\n",
"\n",
"printf('\n\n Result \n\n')\n",
"printf('\nresistance of the rotor is %.1f Ohm',R2)"
   ]
   }
],
"metadata": {
		  "kernelspec": {
		   "display_name": "Scilab",
		   "language": "scilab",
		   "name": "scilab"
		  },
		  "language_info": {
		   "file_extension": ".sce",
		   "help_links": [
			{
			 "text": "MetaKernel Magics",
			 "url": "https://github.com/calysto/metakernel/blob/master/metakernel/magics/README.md"
			}
		   ],
		   "mimetype": "text/x-octave",
		   "name": "scilab",
		   "version": "0.7.1"
		  }
		 },
		 "nbformat": 4,
		 "nbformat_minor": 0
}
