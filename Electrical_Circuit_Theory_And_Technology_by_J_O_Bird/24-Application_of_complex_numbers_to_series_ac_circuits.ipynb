{
"cells": [
 {
		   "cell_type": "markdown",
	   "metadata": {},
	   "source": [
       "# Chapter 24: Application of complex numbers to series ac circuits"
	   ]
	},
{
		   "cell_type": "markdown",
		   "metadata": {},
		   "source": [
			"## Example 24.01: Example_1.sce"
		   ]
		  },
  {
"cell_type": "code",
	   "execution_count": null,
	   "metadata": {
	    "collapsed": true
	   },
	   "outputs": [],
"source": [
"//Problem 24.01: Determine the values of the resistance and the series-connected inductance or capacitance for each of the following impedances:(a)(12 + i5)ohm (b)-i40 ohm (c)30/_60° ohm (d)2.20 x 10^6 /_-30° ohm. Assume for each a frequency of 50 Hz.\n",
"\n",
"//initializing the variables:\n",
"z1 = 12 + %i*5;\n",
"z2 = -40*%i;\n",
"r3 = 30;\n",
"theta3 = 60;  // in degrees\n",
"r4 = 2.20E6; \n",
"theta4 = -30; // in degrees\n",
"f = 50; // in Hz\n",
"\n",
"//calculation:\n",
"//for an R–L series circuit, impedance\n",
"// Z = R + iXL\n",
"Ra = real(z1)\n",
"XLa = imag(z1)\n",
"La = XLa/(2*%pi*f)\n",
"//for a purely capacitive circuit, impedance Z = -iXc\n",
"Xcb = abs(imag(z2))\n",
"Cb = 1/(2*%pi*f*Xcb)\n",
"z3 = r3*cos(theta3*%pi/180) + %i*(r3*sin(theta3*%pi/180))\n",
"Rc = real(z3)\n",
"XLc = imag(z3)\n",
"Lc = XLc/(2*%pi*f)\n",
"z4 = r4*cos(theta4*%pi/180) + %i*(r4*sin(theta4*%pi/180))\n",
"Rd = real(z4)\n",
"Xcd = abs(imag(z4))\n",
"Cd = 1/(2*%pi*f*Xcd)\n",
"\n",
"printf('\n\n Result \n\n')\n",
"printf('\n (a)an impedance (12 + i5)ohm represents a resistance of %.0f ohm in series with an inductance of %.2E', Ra,La)\n",
"printf('\n (b)an impedance -i40 ohm represents a pure capacitor of capacitance %.2E', Cb)\n",
"printf('\n (c)an impedance 30/_60° ohm represents a resistance of %.0f ohm in series with an inductance of %.2E', Rc,Lc)\n",
"printf('\n (d)an impedance 2.20 x 10^6 /_-30° ohm represents a resistance of %.2E ohm in series with a capacitor of capacitance %.2E',Rd, Cd)"
   ]
   }
,
{
		   "cell_type": "markdown",
		   "metadata": {},
		   "source": [
			"## Example 24.02: Example_2.sce"
		   ]
		  },
  {
"cell_type": "code",
	   "execution_count": null,
	   "metadata": {
	    "collapsed": true
	   },
	   "outputs": [],
"source": [
"//Problem 24.02: Determine, in polar and rectangular forms, the current flowing in an inductor of negligible resistance and inductance 159.2 mH when it is connected to a 250 V, 50 Hz supply.\n",
"\n",
"//initializing the variables:\n",
"L = 0.1592 ; // in Henry\n",
"V = 250; // in Volts\n",
"f = 50; // in Hz\n",
"R = 0; // in ohms\n",
"\n",
"//calculation:\n",
"//for an R–L series circuit, impedance\n",
"// Z = R + iXL\n",
"XL = 2*%pi*f*L\n",
"Z = R + %i*XL\n",
"I = V/Z\n",
"x = real(I)\n",
"y = imag(I)\n",
"r = (x^2 + y^2)^0.5\n",
"if ((x==0)&(y<0)) then\n",
"    theta = -90\n",
"elseif ((x==0)&(y>0)) then\n",
"    theta = +90\n",
"else\n",
"    theta = atan(y/x)*180/%pi\n",
"end\n",
"\n",
"printf('\n\n Result \n\n')\n",
"printf('\n current is (%.0f/_%.0f°) A', r, theta)"
   ]
   }
,
{
		   "cell_type": "markdown",
		   "metadata": {},
		   "source": [
			"## Example 24.03: Example_3.sce"
		   ]
		  },
  {
"cell_type": "code",
	   "execution_count": null,
	   "metadata": {
	    "collapsed": true
	   },
	   "outputs": [],
"source": [
"//Problem 24.03: A 3 μF capacitor is connected to a supply of frequency 1 kHz and a current of 2.83/_90° A flows. Determine the value of the supply p.d.\n",
"\n",
"//initializing the variables:\n",
"C = 3E-6 ; // in farad\n",
"f = 1000; // in Hz\n",
"ri = 2.83;\n",
"thetai = 90; // in degrees\n",
"\n",
"//calculation:\n",
"//Capacitive reactance Xc\n",
"Xc = 1/(2*%pi*f*C)\n",
"// circuit impedance Z\n",
"Z = -1*%i*Xc\n",
"I = ri*cos(thetai*%pi/180) + %i*ri*sin(thetai*%pi/180)\n",
"V = I*Z\n",
"x = real(V)\n",
"y = imag(V)\n",
"\n",
"printf('\n\n Result \n\n')\n",
"printf('\n supply p.d. is %.0f + (%.0f) V', x,y)"
   ]
   }
,
{
		   "cell_type": "markdown",
		   "metadata": {},
		   "source": [
			"## Example 24.04: Example_4.sce"
		   ]
		  },
  {
"cell_type": "code",
	   "execution_count": null,
	   "metadata": {
	    "collapsed": true
	   },
	   "outputs": [],
"source": [
"//Problem 24.04: The impedance of an electrical circuit is (30 - i50) ohms.Determine (a) the resistance, (b) the capacitance, (c) the modulus of the impedance, and (d) the current flowing and its phase angle, when the circuit is connected to a 240 V, 50 Hz supply.\n",
"\n",
"//initializing the variables:\n",
"V = 240; // in Volts\n",
"f = 50; // in Hz\n",
"Z = 30 - %i*50;\n",
"\n",
"//calculation:\n",
"//Since impedance Z = 30 - i50,\n",
"//resistance\n",
"R = real(Z)\n",
"//capacitive reactance\n",
"Xc = abs(imag(Z))\n",
"//capacitance\n",
"C = 1/(2*%pi*f*Xc)\n",
"//modulus of impedance\n",
"modZ = (R^2 + Xc^2)^0.5\n",
"I = V/Z\n",
"x = real(I)\n",
"y = imag(I)\n",
"r = (x^2 + y^2)^0.5\n",
"if ((x==0)&(y<0)) then\n",
"    theta = -90\n",
"elseif ((x==0)&(y>0)) then\n",
"    theta = +90\n",
"else\n",
"    theta = atan(y/x)*180/%pi\n",
"end\n",
"\n",
"printf('\n\n Result \n\n')\n",
"printf('\n (a)resistance is %.0f ohm', R)\n",
"printf('\n (b)capacitance is %.2E Farad', C)\n",
"printf('\n (c)modulus of impedance is %.2f ohm', modZ)\n",
"printf('\n (d)current flowing and its phase angle is (%.2f/_%.2f°) A', r, theta)"
   ]
   }
,
{
		   "cell_type": "markdown",
		   "metadata": {},
		   "source": [
			"## Example 24.05: Example_5.sce"
		   ]
		  },
  {
"cell_type": "code",
	   "execution_count": null,
	   "metadata": {
	    "collapsed": true
	   },
	   "outputs": [],
"source": [
"//Problem 24.05: A 200 V, 50 Hz supply is connected across a coil of negligible resistance and inductance 0.15 H connected in series with a 32 ohm resistor. Determine (a) the impedance of the circuit, (b) the current and circuit phase angle, (c) the p.d. across the 32 ohm resistor, and (d) the p.d. across the coil.\n",
"\n",
"//initializing the variables:\n",
"V = 200; // in Volts\n",
"f = 50; // in Hz\n",
"R = 32; // in ohms\n",
"L = 0.15; // in Henry\n",
"\n",
"//calculation:\n",
"//Inductive reactance XL\n",
"XL = 2*%pi*f*L\n",
"//impedance, Z\n",
"Z = R + %i*XL\n",
"//Current I\n",
"I = V/Z\n",
"xi = real(I)\n",
"yi = imag(I)\n",
"ri = (xi^2 + yi^2)^0.5\n",
"if ((xi==0)&(yi<0)) then\n",
"    thetai = -90\n",
"elseif ((xi==0)&(yi>0)) then\n",
"    thetai = +90\n",
"else\n",
"    thetai = atan(yi/xi)*180/%pi\n",
"end\n",
"//P.d. across the resistor\n",
"VR = I*R\n",
"xr = real(VR)\n",
"yr = imag(VR)\n",
"rr = (xr^2 + yr^2)^0.5\n",
"thetar = atan(yr/xr)*180/%pi\n",
"//P.d. across the coil, VL\n",
"VL = I*%i*XL\n",
"xl = real(VL)\n",
"yl = imag(VL)\n",
"rl = (xl^2 + yl^2)^0.5\n",
"thetal = atan(yl/xl)*180/%pi\n",
"\n",
"printf('\n\n Result \n\n')\n",
"printf('\n (a)impedance is %.0f + (%.1f)i ohm', real(Z), imag(Z))\n",
"printf('\n (b)current flowing and its phase angle is (%.2f/_%.2f°) A', ri, thetai)\n",
"printf('\n (c)P.d. across the resistor is (%.2f/_%.2f°) V', rr,thetar)\n",
"printf('\n (d)P.d. across the coil, VL is (%.2f/_%.2f°) V', rl, thetal)"
   ]
   }
,
{
		   "cell_type": "markdown",
		   "metadata": {},
		   "source": [
			"## Example 24.06: Example_6.sce"
		   ]
		  },
  {
"cell_type": "code",
	   "execution_count": null,
	   "metadata": {
	    "collapsed": true
	   },
	   "outputs": [],
"source": [
"//Problem 24.06: Determine the value of impedance if a current of (7+i16)A flows in a circuit when the supply voltage is (120+i200)V. If the frequency of the supply is 5 MHz, determine the value of the components forming the series circuit.\n",
"\n",
"//initializing the variables:\n",
"V = 120 + %i*200; // in Volts\n",
"f = 5E6; // in Hz\n",
"I = 7 + %i*16;  // in amperes\n",
"\n",
"//calculation:\n",
"//impedance, Z\n",
"Z = V/I\n",
"R = real(Z)\n",
"X = imag(Z) \n",
"if ((R>0)&(X<0)) then\n",
"    printf('\n\n Result \n\n')\n",
"    C = -1/(2*%pi*f*X)\n",
"    printf('\n The series circuit thus consists of a resistor of resistance %.2f ohm and a capacitor of capacitance %.2E Farad\n',R,C)\n",
"elseif ((R>0)&(X>0)) then\n",
"    printf('\n\n Result \n\n')\n",
"    L = 2*%pi*f*X\n",
"    printf('\n The series circuit thus consists of a resistor of resistance %.2f ohm and a inductor of insuctance %.2E Henry\n',R,L)\n",
"end"
   ]
   }
,
{
		   "cell_type": "markdown",
		   "metadata": {},
		   "source": [
			"## Example 24.07: Example_7.sce"
		   ]
		  },
  {
"cell_type": "code",
	   "execution_count": null,
	   "metadata": {
	    "collapsed": true
	   },
	   "outputs": [],
"source": [
"//Problem 24.07: For the circuit shown in Figure 24.11, determine the value of impedance Z2.\n",
"\n",
"//initializing the variables:\n",
"rv = 70; // in volts\n",
"thetav = 30; // in degrees\n",
"ri = 3.5; // in amperes\n",
"thetai = -20; // in degrees\n",
"//z1 consist of two resistance\n",
"R1 = 4.36; // in ohms\n",
"R2 = -2.1*%i; // in ohms\n",
"\n",
"//calculation:\n",
"V = rv*cos(thetav*%pi/180) + %i*rv*sin(thetav*%pi/180)\n",
"I = ri*cos(thetai*%pi/180) + %i*ri*sin(thetai*%pi/180)\n",
"//impedance, Z\n",
"Z = V/I\n",
"//Total impedance Z = z1 + z2\n",
"Z1 = R1 + R2\n",
"Z2 = Z - Z1\n",
"x = real(Z2)\n",
"y = imag(Z2) \n",
"\n",
"printf('\n\n Result \n\n')\n",
"printf('\n impedance Z2 is %.2f + (%.2f) ohm\n',x,y)"
   ]
   }
,
{
		   "cell_type": "markdown",
		   "metadata": {},
		   "source": [
			"## Example 24.08: Example_8.sce"
		   ]
		  },
  {
"cell_type": "code",
	   "execution_count": null,
	   "metadata": {
	    "collapsed": true
	   },
	   "outputs": [],
"source": [
"//Problem 24.08: A circuit comprises a resistance of 90 ohm in series with an inductor of inductive reactance 150 ohm. If the supply current is(1.35/_0°)A, determine (a) the supply voltage, (b) the voltage across the 90 ohm resistance, (c) the voltage across the inductance, and (d) the circuit phase angle. Draw the phasor diagram. \n",
"\n",
"//initializing the variables:\n",
"R = 90; // in ohms\n",
"XL = 150; // in ohms\n",
"ri = 1.35; // in amperes\n",
"thetai = 0; // in degrees\n",
"\n",
"//calculation:\n",
"I = ri*cos(thetai*%pi/180) + %i*ri*sin(thetai*%pi/180)\n",
"//Circuit impedance Z\n",
"Z = R + %i*XL\n",
"//Supply voltage, V\n",
"V = I*Z\n",
"//Voltage across 90 ohm resistor\n",
"VR = real(V)\n",
"//Voltage across inductance, VL\n",
"VL = imag(V)\n",
"xv = real(V)\n",
"yv = imag(V)\n",
"rv = (xv^2 + yv^2)^0.5\n",
"thetav = atan(yv/xv)*180/%pi\n",
"phi = thetav - thetai\n",
"\n",
"printf('\n\n Result \n\n')\n",
"printf('\n (a)Supply voltage, V is %.2f + (%.2f)i V',xv,yv)\n",
"printf('\n (b)Voltage across 90 ohm resistor, VR is %.2f V',VR)\n",
"printf('\n (c)Voltage across inductance, VL is %.2f V',VL)\n",
"printf('\n (d)Circuit phase angle is %.2f°',phi)"
   ]
   }
,
{
		   "cell_type": "markdown",
		   "metadata": {},
		   "source": [
			"## Example 24.09: Example_9.sce"
		   ]
		  },
  {
"cell_type": "code",
	   "execution_count": null,
	   "metadata": {
	    "collapsed": true
	   },
	   "outputs": [],
"source": [
"//Problem 24.09: A coil of resistance 25 ohm and inductance 20 mH has an alternating voltage given by v = 282.8sin(628.4t + pi/3) volts applied across it. Determine (a) the rms value of voltage (in polar form), (b) the circuit impedance, (c) the rms current flowing, and (d) the circuit phase angle.\n",
"\n",
"//initializing the variables:\n",
"R = 25; // in ohms\n",
"L = 0.02; // in henry\n",
"Vm = 282.8; // in volts\n",
"w = 628.4; // in rad/sec\n",
"phiv = %pi/3; // phase angle\n",
"\n",
"//calculation:\n",
"//rms voltage\n",
"Vrms = 0.707*Vm*cos(phiv) + %i*0.707*Vm*sin(phiv)\n",
"//frequency\n",
"f = w/(2*%pi)\n",
"//Inductive reactance XL\n",
"XL = 2*%pi*f*L\n",
"//Circuit impedance Z\n",
"Z = R + %i*XL\n",
"//Rms current\n",
"Irms = Vrms/Z\n",
"phii = atan(imag(Irms)/real(Irms))*180/%pi\n",
"phi = phiv*180/%pi - phii\n",
"\n",
"printf('\n\n Result \n\n')\n",
"printf('\n (a)the rms value of voltage is %.2f + (%.2f)i V ',real(Vrms), imag(Vrms))\n",
"printf('\n (b)the circuit impedance is %.2f + (%.2f)i ohm ',R, XL)\n",
"printf('\n (c)the rms current flowing is %.2f + (%.2f)i A ',real(Irms), imag(Irms))\n",
"printf('\n (d)Circuit phase angle is %.2f° ',phi)"
   ]
   }
,
{
		   "cell_type": "markdown",
		   "metadata": {},
		   "source": [
			"## Example 24.10: Example_10.sce"
		   ]
		  },
  {
"cell_type": "code",
	   "execution_count": null,
	   "metadata": {
	    "collapsed": true
	   },
	   "outputs": [],
"source": [
"//Problem 24.10: A 240 V, 50 Hz voltage is applied across a series circuit comprising a coil of resistance 12 ohm and inductance 0.10 H, and 120 μF capacitor. Determine the current flowing in the circuit.\n",
"\n",
"//initializing the variables:\n",
"R = 12; // in ohms\n",
"L = 0.10; // in henry\n",
"C = 120E-6; // in Farads\n",
"f = 50; // in Hz\n",
"V = 240; // in volts\n",
"\n",
"//calculation:\n",
"//Inductive reactance, XL\n",
"XL = 2*%pi*f*L\n",
"//Capacitive reactance, Xc\n",
"Xc = 1/(2*%pi*f*C)\n",
"//Circuit impedance Z\n",
"Z = R + %i*(XL - Xc)\n",
"I = V/Z\n",
"phii = atan(imag(I)/real(I))*180/%pi\n",
"phiv = 0 // in degrees\n",
"phi = phiv - phii\n",
"\n",
"printf('\n\n Result \n\n')\n",
"printf('\n the current flowing is %.2f + (%.2f)i A\n',real(I), imag(I))\n",
"printf('and Circuit phase angle is %.2f°\n',phi)"
   ]
   }
,
{
		   "cell_type": "markdown",
		   "metadata": {},
		   "source": [
			"## Example 24.11: Example_11.sce"
		   ]
		  },
  {
"cell_type": "code",
	   "execution_count": null,
	   "metadata": {
	    "collapsed": true
	   },
	   "outputs": [],
"source": [
"//Problem 24.11:A coil of resistance R ohms and inductance L henrys is connected in series with a 50 μF capacitor. If the supply voltage is 225 V at 50 Hz and the current flowing in the circuit is 1.56/_-30° A, determine the values of R and L. Determine also the voltage across the coil and the voltage across the capacitor.\n",
"\n",
"//initializing the variables:\n",
"C = 50E-6; // in Farads\n",
"f = 50; // in Hz\n",
"V = 225; // in volts\n",
"ri = 1.5; // in Amperes\n",
"thetai = -30; // in degrees\n",
"\n",
"//calculation:\n",
"I = ri*cos(thetai*%pi/180) + %i*ri*sin(thetai*%pi/180)\n",
"//Capacitive reactance, Xc\n",
"Xc = 1/(2*%pi*f*C)\n",
"//Circuit impedance Z\n",
"Z = V/I\n",
"R = real(Z)\n",
"XL = imag(Z) + Xc\n",
"//inductance L\n",
"L = XL/(2*%pi*f)\n",
"//Voltage across coil\n",
"Zcoil = R + %i*XL\n",
"Vcoil = I*Zcoil\n",
"//Voltage across capacitor,\n",
"Vc = -1*I*Xc*%i\n",
"\n",
"printf('\n\n Result \n\n')\n",
"printf('\n (a)resistance is %.2f ohm and inductance is %.2f H ',R, L)\n",
"printf('\n (b)voltage across the coil is %.2f + (%.2f)i V ',real(Vcoil), imag(Vcoil))\n",
"printf('\n (c)voltage across the capacitor is %.2f + (%.2f)i V ',real(Vc), imag(Vc))"
   ]
   }
,
{
		   "cell_type": "markdown",
		   "metadata": {},
		   "source": [
			"## Example 24.12: Example_12.sce"
		   ]
		  },
  {
"cell_type": "code",
	   "execution_count": null,
	   "metadata": {
	    "collapsed": true
	   },
	   "outputs": [],
"source": [
"//Problem 24.12: For the circuit shown in Figure 24.17, determine the values of voltages V1 and V2 if the supply frequency is 4 kHz. Determine also the value of the supply voltage V and the circuit phase angle. Draw the phasor diagram.\n",
"\n",
"//initializing the variables:\n",
"C = 2.653E-6; // in Farads\n",
"R1 = 8; // in ohms\n",
"R2 = 5; // in ohms\n",
"L = 0.477E-3; // in Henry\n",
"f = 4000; // in Hz\n",
"ri = 6; // in Amperes\n",
"thetai = 0; // in degrees\n",
"\n",
"//calculation:\n",
"I = ri*cos(thetai*%pi/180) + %i*ri*sin(thetai*%pi/180)\n",
"//Capacitive reactance, Xc\n",
"Xc = 1/(2*%pi*f*C)\n",
"//impedance Z1\n",
"Z1 = R1 - %i*Xc\n",
"//inductive reactance XL\n",
"XL = 2*%pi*f*L\n",
"//impedance Z2,\n",
"Z2 = R2 + %i*XL\n",
"//voltage V1\n",
"V1 = I*Z1\n",
"//voltage V2\n",
"V2 = I*Z2\n",
"//Supply voltage, V\n",
"V = V1 + V2\n",
"phiv = atan(imag(V)/real(V))*180/%pi\n",
"phi = phiv - thetai\n",
"\n",
"printf('\n\n Result \n\n')\n",
"printf('\n supply voltage is %.2f + (%.2f)i V\n',real(V), imag(V))\n",
"printf('and Circuit phase angle is %.2f° \n',phi)"
   ]
   }
],
"metadata": {
		  "kernelspec": {
		   "display_name": "Scilab",
		   "language": "scilab",
		   "name": "scilab"
		  },
		  "language_info": {
		   "file_extension": ".sce",
		   "help_links": [
			{
			 "text": "MetaKernel Magics",
			 "url": "https://github.com/calysto/metakernel/blob/master/metakernel/magics/README.md"
			}
		   ],
		   "mimetype": "text/x-octave",
		   "name": "scilab",
		   "version": "0.7.1"
		  }
		 },
		 "nbformat": 4,
		 "nbformat_minor": 0
}
