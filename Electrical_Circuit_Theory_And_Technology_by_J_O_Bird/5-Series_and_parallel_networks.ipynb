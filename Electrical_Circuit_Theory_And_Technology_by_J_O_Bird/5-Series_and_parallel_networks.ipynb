{
"cells": [
 {
		   "cell_type": "markdown",
	   "metadata": {},
	   "source": [
       "# Chapter 5: Series and parallel networks"
	   ]
	},
{
		   "cell_type": "markdown",
		   "metadata": {},
		   "source": [
			"## Example 5.01: Example_1.sce"
		   ]
		  },
  {
"cell_type": "code",
	   "execution_count": null,
	   "metadata": {
	    "collapsed": true
	   },
	   "outputs": [],
"source": [
"//Problem 5.01: For the circuit shown in Figure 5.2, determine (a) the battery voltage V, (b) the total resistance of the circuit, and (c) the values of resistance of resistors R1, R2 and R3, given that the p.d.’s across R1, R2 and R3 are 5 V, 2 V and 6 V respectively.\n",
"\n",
"//initializing the variables:\n",
"V1 = 5; // in volts\n",
"V2 = 2; // in volts\n",
"V3 = 6; // in volts\n",
"I = 4; // in Amperes\n",
"\n",
"//calculation:\n",
"Vt = V1 + V2 + V3\n",
"Rt = Vt/I\n",
"R1 = V1/I\n",
"R2 = V2/I\n",
"R3 = V3/I\n",
"\n",
"printf('\n\nResult\n\n')\n",
"printf('\n (a) Total Voltage %.0f Volts(V)',Vt)\n",
"printf('\n (b)Total Resistance %.2f Ohms',Rt)\n",
"printf('\n (c)Resistance(R1) %.2f Ohms',R1)\n",
"printf('\n (c)Resistance(R2) %.1f Ohms',R2)\n",
"printf('\n (c)Resistance(R3) %.1f Ohms',R3)"
   ]
   }
,
{
		   "cell_type": "markdown",
		   "metadata": {},
		   "source": [
			"## Example 5.02: Example_2.sce"
		   ]
		  },
  {
"cell_type": "code",
	   "execution_count": null,
	   "metadata": {
	    "collapsed": true
	   },
	   "outputs": [],
"source": [
"//Problem 5.02: For the circuit shown in Figure 5.3, determine the p.d. across resistor R3. If the total resistance of the circuit is 100 ohms, determine the current flowing through resistor R1. Find also the value of resistor R2\n",
"\n",
"//initializing the variables:\n",
"V1 = 10; // in volts\n",
"V2 = 4; // in volts\n",
"Vt = 25; // in volts\n",
"Rt = 100; // in ohms\n",
"\n",
"//calculation:\n",
"V3 = Vt - V1 - V2\n",
"I = Vt/Rt\n",
"R2 = V2/I\n",
"\n",
"printf('\n\nResult\n\n')\n",
"printf('\n (a)Voltage(V3) %.0f Volts(V)',V3)\n",
"printf('\n (b)current %.2f Amperes(A)',I)\n",
"printf('\n (c)Resistance(R2) %.0f Ohms',R2)"
   ]
   }
,
{
		   "cell_type": "markdown",
		   "metadata": {},
		   "source": [
			"## Example 5.03: Example_3.sce"
		   ]
		  },
  {
"cell_type": "code",
	   "execution_count": null,
	   "metadata": {
	    "collapsed": true
	   },
	   "outputs": [],
"source": [
"//Problem 5.03: A 12 V battery is connected in a circuit having three series-connected resistors having resistances of 4 ohms, 9 ohms and 11 ohms. Determine the current flowing through, and the p.d. across the 9 ohms resistor. Find also the power dissipated in the 11 ohms resistor.\n",
"\n",
"//initializing the variables:\n",
"Vt = 12; // in volts\n",
"R1 = 4; // in ohms\n",
"R2 = 9; // in ohms\n",
"R3 = 11; // in ohms\n",
"\n",
"//calculation:\n",
"Rt = R1 + R2 + R3\n",
"I = Vt/Rt\n",
"V9 = I*R2\n",
"P11 = I*I*R3\n",
"\n",
"printf('\n\nResult\n\n')\n",
"printf('\n (a)current %.1f Amperes(A)',I)\n",
"printf('\n (b)Voltage(V2) %.1f Volts(V)',V9)\n",
"printf('\n (c)Power %.2f Watt(W)',P11)"
   ]
   }
,
{
		   "cell_type": "markdown",
		   "metadata": {},
		   "source": [
			"## Example 5.04: Example_4.sce"
		   ]
		  },
  {
"cell_type": "code",
	   "execution_count": null,
	   "metadata": {
	    "collapsed": true
	   },
	   "outputs": [],
"source": [
"//Problem 5.04:Determine the value of voltage V shown in Figure 5.6.\n",
"\n",
"//initializing the variables:\n",
"Vt = 50; // in volts\n",
"R1 = 4; // in ohms\n",
"R2 = 6; // in ohms\n",
"\n",
"//calculation:\n",
"Rt = R1 + R2\n",
"I = Vt/Rt\n",
"V2 = I*R2\n",
"\n",
"printf('\n\nResult\n\n')\n",
"printf('\n Voltage(V) %.0f Volts(V)\n',V2)"
   ]
   }
,
{
		   "cell_type": "markdown",
		   "metadata": {},
		   "source": [
			"## Example 5.05: Example_5.sce"
		   ]
		  },
  {
"cell_type": "code",
	   "execution_count": null,
	   "metadata": {
	    "collapsed": true
	   },
	   "outputs": [],
"source": [
"//Problem 5.05:Two resistors are connected in series across a 24 V supply and a current of 3 A flows in the circuit. If one of the resistors has a resistance of 2 ohms determine (a) the value of the other resistor, and (b) the p.d. across the 2  resistor. If the circuit is connected for 50 hours, how much energy is used?\n",
"\n",
"//initializing the variables:\n",
"Vt = 24; // in volts\n",
"R1 = 2; // in ohms\n",
"I = 3; // in Amperes\n",
"t = 50; // in hrs\n",
"\n",
"//calculation:\n",
"V1 = I*R1\n",
"R2 = [Vt-(I*R1)]/I\n",
"E = Vt*I*t\n",
"\n",
"printf('\n\nResult\n\n')\n",
"printf('\n (a)Voltage(V1) %.0f Volts(V)',V1)\n",
"printf('\n (b)Resistance(R2) %.0f Ohms',R2)\n",
"printf('\n (a)Energy(E) %.2E Wh',E)"
   ]
   }
,
{
		   "cell_type": "markdown",
		   "metadata": {},
		   "source": [
			"## Example 5.06: Example_6.sce"
		   ]
		  },
  {
"cell_type": "code",
	   "execution_count": null,
	   "metadata": {
	    "collapsed": true
	   },
	   "outputs": [],
"source": [
"//Problem 5.06:For the circuit shown in Figure 5.10, determine (a) the reading on the ammeter, and (b) the value of resistor R2\n",
"\n",
"//initializing the variables:\n",
"R1 = 5; // in ohms\n",
"R3 = 20; // in ohms\n",
"I1 = 8; // in Amperes\n",
"It = 11; // in Amperes\n",
"\n",
"//calculation:\n",
"Vt = I1*R1\n",
"I3 = Vt/R3\n",
"R2 = Vt/[It - I1 - I3]\n",
"\n",
"printf('\n\nResult\n\n')\n",
"printf('\n (a)Ammeter Reading %.0f Amperes(A)',I3)\n",
"printf('\n (b)Resistance(R2) %.0f Ohms\n',R2)"
   ]
   }
,
{
		   "cell_type": "markdown",
		   "metadata": {},
		   "source": [
			"## Example 5.07: Example_7.sce"
		   ]
		  },
  {
"cell_type": "code",
	   "execution_count": null,
	   "metadata": {
	    "collapsed": true
	   },
	   "outputs": [],
"source": [
"//Problem 5.07: Two resistors, of resistance 3 ohms and 6 ohms, are connected in parallel across a battery having a voltage of 12 V. Determine (a) the total circuit resistance and (b) the current flowing in the 3 ohms resistor.\n",
"\n",
"//initializing the variables:\n",
"R1 = 3; // in ohms\n",
"R2 = 6; // in ohms\n",
"Vt = 12; // in volts\n",
"\n",
"//calculation:\n",
"Rt = R1*R2/[R1 + R2]\n",
"I1 = [Vt/R1]\n",
"\n",
"printf('\n\nResult\n\n')\n",
"printf('\n (a)Total Resistance %.0f Ohms',Rt)\n",
"printf('\n (b)Current(I1) %.0f Amperes(A)\n',I1)"
   ]
   }
,
{
		   "cell_type": "markdown",
		   "metadata": {},
		   "source": [
			"## Example 5.08: Example_8.sce"
		   ]
		  },
  {
"cell_type": "code",
	   "execution_count": null,
	   "metadata": {
	    "collapsed": true
	   },
	   "outputs": [],
"source": [
"//Problem 5.08: For the circuit shown in Figure 5.12, find (a) the value of the supply voltage V and (b) the value of current I.\n",
"\n",
"//initializing the variables:\n",
"R1 = 10; // in ohms\n",
"R2 = 20; // in ohms\n",
"R3 = 60; // in ohms\n",
"I2 = 3; // in Amperes\n",
"\n",
"//calculation:\n",
"Vt = I2*R2\n",
"I1 = Vt/R1\n",
"I3 = Vt/R3\n",
"I = I1 +I2 + I3\n",
"\n",
"printf('\n\nResult\n\n')\n",
"printf('\n (a)Voltage(V) %.0f Volts(V)',Vt)\n",
"printf('\n (b)Total Current(I) %.0f Amperes(A)',I)"
   ]
   }
,
{
		   "cell_type": "markdown",
		   "metadata": {},
		   "source": [
			"## Example 5.10: Example_10.sce"
		   ]
		  },
  {
"cell_type": "code",
	   "execution_count": null,
	   "metadata": {
	    "collapsed": true
	   },
	   "outputs": [],
"source": [
"//Problem 5.10: Find the equivalent resistance for the circuit shown in Figure 5.17.\n",
"\n",
"//initializing the variables:\n",
"R1 = 1; // in ohms\n",
"R2 = 2.2; // in ohms\n",
"R3 = 3; // in ohms\n",
"R4 = 6; // in ohms\n",
"R5 = 18; // in ohms\n",
"R6 = 4; // in ohms\n",
"\n",
"\n",
"//calculation:\n",
"R0 = 1/[(1/3) + (1/6) + (1/18)]\n",
"Rt = R1 + R2 + R0 + R6\n",
"\n",
"printf('\n\nResult\n\n')\n",
"printf('\n Equivalent Resistance %.0f Ohms\n',Rt)"
   ]
   }
,
{
		   "cell_type": "markdown",
		   "metadata": {},
		   "source": [
			"## Example 5.11: Example_11.sce"
		   ]
		  },
  {
"cell_type": "code",
	   "execution_count": null,
	   "metadata": {
	    "collapsed": true
	   },
	   "outputs": [],
"source": [
"//Problem 5.11: For the series-parallel arrangement shown in Figure 5.19, find (a) the supply current, (b) the current flowing through each resistor and (c) the p.d. across each resistor.\n",
"\n",
"//initializing the variables:\n",
"R1 = 2.5; // in ohms\n",
"R2 = 6; // in ohms\n",
"R3 = 2; // in ohms\n",
"R4 = 4; // in ohms\n",
"Vt = 200; // in volts\n",
"\n",
"//calculation:\n",
"R0 = 1/[(1/R2) + (1/R3)]\n",
"Rt = R1 + R0 + R4\n",
"It = Vt/Rt\n",
"I1 = It\n",
"I4 = It\n",
"I2 = R3*It/(R3+R2)\n",
"I3 = It - I2\n",
"V1 = I1*R1\n",
"V2 = I2*R2\n",
"V3 = I3*R3\n",
"V4 = I4*R4\n",
"\n",
"printf('\n\nResult\n\n')\n",
"printf('\n (a)Total Current Supply %.0f Amperes(A)',It)\n",
"printf('\n (b)Current through resistors (R1, R2, R3, R4)%.0f, %.2f, %.2f, %.0f Amperes(A) respectively',I1, I2, I3, I4)\n",
"printf('\n (c)voltage across resistors (R1, R2, R3, R4)%.1f, %.1f, %.1f, %.0f Volts(V) respectively',V1, V2, V3, V4)"
   ]
   }
,
{
		   "cell_type": "markdown",
		   "metadata": {},
		   "source": [
			"## Example 5.12: Example_12.sce"
		   ]
		  },
  {
"cell_type": "code",
	   "execution_count": null,
	   "metadata": {
	    "collapsed": true
	   },
	   "outputs": [],
"source": [
"//Problem 5.12: For the circuit shown in Figure 5.21 calculate (a) the value of resistor Rx such that the total power dissipated in the circuit is 2.5 kW, and (b) the current flowing in each of the four resistors.\n",
"\n",
"//initializing the variables:\n",
"R1 = 15; // in ohms\n",
"R2 = 10; // in ohms\n",
"R3 = 38; // in ohms\n",
"Vt = 250; // in volts\n",
"P = 2500; // in Watt\n",
"\n",
"//calculation:\n",
"It = P/Vt\n",
"I2 = R1*It/(R1+R2)\n",
"I1 = It - I2\n",
"Re1 = 1/[(1/R1) + (1/R2)]\n",
"Rt = Vt/It\n",
"Re2 = Rt - Re1\n",
"Rx = 1/[(1/Re2) - (1/R3)]\n",
"I4 = R3*It/(R3+Rx)\n",
"I3 = It - I4\n",
"\n",
"printf('\n\nResult\n\n')\n",
"printf('\n (a)Resistance (Rx) %.0f Ohms',Rx)\n",
"printf('\n (b)Current through resistors (R1, R2, R3, R4): %.0f, %.0f, %.0f, %.0f Amperes(A) respectively',I1, I2, I3, I4)"
   ]
   }
,
{
		   "cell_type": "markdown",
		   "metadata": {},
		   "source": [
			"## Example 5.13: Example_13.sce"
		   ]
		  },
  {
"cell_type": "code",
	   "execution_count": null,
	   "metadata": {
	    "collapsed": true
	   },
	   "outputs": [],
"source": [
"//Problem 5.13: For the arrangement shown in Figure 5.22, find the current Ix\n",
"\n",
"//initializing the variables:\n",
"R1 = 8; // in ohms\n",
"R2 = 2; // in ohms\n",
"R3 = 1.4; // in ohms\n",
"R4 = 9; // in ohms\n",
"R5 = 2; // in ohms\n",
"Vt = 17; // in volts\n",
"\n",
"//calculation:\n",
"R01 = R1*R2/(R1 + R2)\n",
"R02 = R01 + R3\n",
"R03 = R4*R02/(R4 +R02)\n",
"Rt = R5 + R03\n",
"It = Vt/Rt\n",
"I1 = R4*It/(R4 + R02)\n",
"Ix = R2*I1/(R1 + R2)\n",
"\n",
"printf('\n\nResult\n\n')\n",
"printf('\n Current(Ix) %.1f Amperes(A)\n',Ix)"
   ]
   }
,
{
		   "cell_type": "markdown",
		   "metadata": {},
		   "source": [
			"## Example 5.14: Example_14.sce"
		   ]
		  },
  {
"cell_type": "code",
	   "execution_count": null,
	   "metadata": {
	    "collapsed": true
	   },
	   "outputs": [],
"source": [
"//Problem 5.14: If three identical lamps are connected in parallel and the combined resistance is 150 ohms, find the resistance of one lamp.\n",
"\n",
"//initializing the variables:\n",
"Rt = 150; // in ohms\n",
"n = 3; // no. of identical lamp\n",
"\n",
"//calculation:\n",
"R = Rt*3 // (1/Rt)=(1/R)+(1/R)+(1/R)\n",
"\n",
"printf('\n\nResult\n\n')\n",
"printf('\n Resistance %.0f Ohms\n',R)"
   ]
   }
,
{
		   "cell_type": "markdown",
		   "metadata": {},
		   "source": [
			"## Example 5.15: Example_15.sce"
		   ]
		  },
  {
"cell_type": "code",
	   "execution_count": null,
	   "metadata": {
	    "collapsed": true
	   },
	   "outputs": [],
"source": [
"//Problem 5.15: Three identical lamps A, B and C are connected in series across a 150 V supply. State (a) the voltage across each lamp, and (b) the effect of lamp C failing.\n",
"\n",
"//initializing the variables:\n",
"//series connection\n",
"n = 3; // no. of identical lamp\n",
"Vt = 150; // in volts\n",
"\n",
"//calculation:\n",
"V = Vt/3 // Since each lamp is identical, then V volts across each.\n",
"\n",
"printf('\n\nResult\n\n')\n",
"printf('\n Voltage across each resistor = %.0f Volts(V)',V)"
   ]
   }
],
"metadata": {
		  "kernelspec": {
		   "display_name": "Scilab",
		   "language": "scilab",
		   "name": "scilab"
		  },
		  "language_info": {
		   "file_extension": ".sce",
		   "help_links": [
			{
			 "text": "MetaKernel Magics",
			 "url": "https://github.com/calysto/metakernel/blob/master/metakernel/magics/README.md"
			}
		   ],
		   "mimetype": "text/x-octave",
		   "name": "scilab",
		   "version": "0.7.1"
		  }
		 },
		 "nbformat": 4,
		 "nbformat_minor": 0
}
