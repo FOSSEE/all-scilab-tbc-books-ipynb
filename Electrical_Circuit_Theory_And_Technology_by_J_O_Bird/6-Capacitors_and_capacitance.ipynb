{
"cells": [
 {
		   "cell_type": "markdown",
	   "metadata": {},
	   "source": [
       "# Chapter 6: Capacitors and capacitance"
	   ]
	},
{
		   "cell_type": "markdown",
		   "metadata": {},
		   "source": [
			"## Example 6.01: Example_1.sce"
		   ]
		  },
  {
"cell_type": "code",
	   "execution_count": null,
	   "metadata": {
	    "collapsed": true
	   },
	   "outputs": [],
"source": [
"//Problem 6.01:(a) Determine the p.d. across a 4 μF capacitor when charged with 5 mC. (b) Find the charge on a 50 pF capacitor when the voltage applied to it is 2 kV.\n",
"\n",
"//initializing the variables:\n",
"C1 = 4E-6; // in Farad\n",
"C2 = 50E-12; // in Farad\n",
"Q1 = 5E-3; // in Coulomb\n",
"V2 = 2000; // in volts\n",
"\n",
"//calculation:\n",
"V1 = Q1/C1\n",
"Q2 = C2*V2\n",
"\n",
"printf('\n\nResult\n\n')\n",
"printf('\n (a)P.d %.0f Volts(V)',V1)\n",
"printf('\n (b)Charge(Q) %.2E Coulomb(C)',Q2)"
   ]
   }
,
{
		   "cell_type": "markdown",
		   "metadata": {},
		   "source": [
			"## Example 6.02: Example_2.sce"
		   ]
		  },
  {
"cell_type": "code",
	   "execution_count": null,
	   "metadata": {
	    "collapsed": true
	   },
	   "outputs": [],
"source": [
"//Problem 6.02: A direct current of 4 A flows into a previously uncharged 20 μF capacitor for 3 ms. Determine the pd between the plates.\n",
"\n",
"//initializing the variables:\n",
"I = 4; // in amperes\n",
"C = 20E-6; // in Farad\n",
"t = 3E-3; // in sec\n",
"\n",
"//calculation:\n",
"Q = I*t\n",
"V = Q/C\n",
"\n",
"printf('\n\nResult\n\n')\n",
"printf('\n (a)P.d %.0f Volts(V)\n',V)"
   ]
   }
,
{
		   "cell_type": "markdown",
		   "metadata": {},
		   "source": [
			"## Example 6.03: Example_3.sce"
		   ]
		  },
  {
"cell_type": "code",
	   "execution_count": null,
	   "metadata": {
	    "collapsed": true
	   },
	   "outputs": [],
"source": [
"//Problem 6.03:A 5 μF capacitor is charged so that the pd between its plates is 800 V. Calculate how long the capacitor can provide an average discharge current of 2 mA.\n",
"\n",
"//initializing the variables:\n",
"I = 2E-3; // in amperes\n",
"C = 5E-6; // in Farad\n",
"V = 800; // in volts\n",
"\n",
"//calculation:\n",
"Q = C*V\n",
"t = Q/I\n",
"\n",
"printf('\n\nResult\n\n')\n",
"printf('\n capacitor can provide an average discharge current of 2mA for %.0f Sec\n',t)"
   ]
   }
,
{
		   "cell_type": "markdown",
		   "metadata": {},
		   "source": [
			"## Example 6.04: Example_4.sce"
		   ]
		  },
  {
"cell_type": "code",
	   "execution_count": null,
	   "metadata": {
	    "collapsed": true
	   },
	   "outputs": [],
"source": [
"//Problem 6.04: Two parallel rectangular plates measuring 20 cm by 40 cm carry an electric charge of 0.2 μC. Calculate the electric flux density. If the plates are spaced 5 mm apart and the voltage between them is 0.25 kV determine the electric field strength.\n",
"\n",
"//initializing the variables:\n",
"Q = 0.2E-6; // in Coulomb\n",
"A = 800E-4; // in m2\n",
"d = 0.005; // in m\n",
"V = 250; // in Volts\n",
"\n",
"//calculation:\n",
"D = Q/A\n",
"E = V/d\n",
"\n",
"printf('\n\nResult\n\n')\n",
"printf('\n (a)Electric flux density D %.2E C/m2',D)\n",
"printf('\n (b)Electric field strength E %.2E V/m\n',E)"
   ]
   }
,
{
		   "cell_type": "markdown",
		   "metadata": {},
		   "source": [
			"## Example 6.05: Example_5.sce"
		   ]
		  },
  {
"cell_type": "code",
	   "execution_count": null,
	   "metadata": {
	    "collapsed": true
	   },
	   "outputs": [],
"source": [
"//Problem 6.05: The flux density between two plates separated by mica of relative permittivity 5 is 2 μC/m2. Find the voltage gradient between the plates.\n",
"\n",
"//initializing the variables:\n",
"D = 2E-6; // in μC/m2\n",
"e0 = 8.85E-12; // in F/m\n",
"er = 5;\n",
"\n",
"//calculation:\n",
"E = D/(e0*er)\n",
"\n",
"printf('\n\nResult\n\n')\n",
"printf('\n Electric field strength E %.2E V/m\n',E)"
   ]
   }
,
{
		   "cell_type": "markdown",
		   "metadata": {},
		   "source": [
			"## Example 6.06: Example_6.sce"
		   ]
		  },
  {
"cell_type": "code",
	   "execution_count": null,
	   "metadata": {
	    "collapsed": true
	   },
	   "outputs": [],
"source": [
"//Problem 6.06: Two parallel plates having a pd of 200 V between them are spaced 0.8 mm apart. What is the electric field strength? Find also the flux density when the dielectric between the plates is (a) air, and (b) polythene of relative permittivity 2.3\n",
"\n",
"//initializing the variables:\n",
"d = 0.8E-3; // in m\n",
"e0 = 8.85E-12; // in F/m\n",
"era = 1; // for air\n",
"erp = 2.3; // for polythene\n",
"V =200; // in Volts\n",
"\n",
"//calculation:\n",
"E = V/d\n",
"//for air\n",
"Da = E*e0*era\n",
"//for polythene\n",
"Dp = E*e0*erp\n",
"printf('\n\nResult\n\n')\n",
"printf('\n (a)Electric flux density for air %.2E C/m2',Da)\n",
"printf('\n (b)Electric flux density for polythene  %.2E C/m2\n',Dp)"
   ]
   }
,
{
		   "cell_type": "markdown",
		   "metadata": {},
		   "source": [
			"## Example 6.07: Example_7.sce"
		   ]
		  },
  {
"cell_type": "code",
	   "execution_count": null,
	   "metadata": {
	    "collapsed": true
	   },
	   "outputs": [],
"source": [
"//Problem 6.07: (a) A ceramic capacitor has an effective plate area of 4 cm2 separated by 0.1 mm of ceramic of relative permittivity 100. Calculate the capacitance of the capacitor in picofarads. (b) If the capacitor in part (a) is given a charge of 1.2 μC what will be the pd between the plates?\n",
"\n",
"//initializing the variables:\n",
"A = 4E-4; // in m2\n",
"d = 0.1E-3; // in m\n",
"e0 = 8.85E-12; // in F/m\n",
"er = 100;\n",
"Q = 1.2E-6; // in coulomb\n",
"\n",
"//calculation:\n",
"C = e0*er*A/d\n",
"V = Q/C\n",
"\n",
"printf('\n\nResult\n\n')\n",
"printf('\n (a)Capacitance  %.2E F',C)\n",
"printf('\n (b)P.d.= %.0f Volts(V)\n',V)"
   ]
   }
,
{
		   "cell_type": "markdown",
		   "metadata": {},
		   "source": [
			"## Example 6.08: Example_8.sce"
		   ]
		  },
  {
"cell_type": "code",
	   "execution_count": null,
	   "metadata": {
	    "collapsed": true
	   },
	   "outputs": [],
"source": [
"//Problem 6.08: A waxed paper capacitor has two parallel plates, each of effective area 800 cm2. If the capacitance of the capacitor is 4425 pF determine the effective thickness of the paper if its relative permittivity is 2.5\n",
"\n",
"//initializing the variables:\n",
"A = 800E-4; // in m2\n",
"C = 4425E-12; // in Farads\n",
"e0 = 8.85E-12; // in F/m\n",
"er = 2.5;\n",
"\n",
"//calculation:\n",
"d = e0*er*A/C\n",
"\n",
"printf('\n\nResult\n\n')\n",
"printf('\n Thickness  %.2E m\n',d)"
   ]
   }
,
{
		   "cell_type": "markdown",
		   "metadata": {},
		   "source": [
			"## Example 6.09: Example_9.sce"
		   ]
		  },
  {
"cell_type": "code",
	   "execution_count": null,
	   "metadata": {
	    "collapsed": true
	   },
	   "outputs": [],
"source": [
"//Problem 6.09: A parallel plate capacitor has nineteen interleaved plates each 75 mm by 75 mm separated by mica sheets 0.2 mm thick. Assuming the relative permittivity of the mica is 5, calculate the capacitance of the capacitor.\n",
"\n",
"//initializing the variables:\n",
"n = 19; // no. of plates\n",
"L = 75E-3; // in m\n",
"B = 75E-3; // in m\n",
"d = 0.2E-3; // in m\n",
"e0 = 8.85E-12; // in F/m\n",
"er = 5;\n",
"\n",
"//calculation:\n",
"A = L*B\n",
"C = e0*er*A*(n-1)/d\n",
"\n",
"printf('\n\nResult\n\n')\n",
"printf('\n Capacitance %.2E F\n',C)"
   ]
   }
,
{
		   "cell_type": "markdown",
		   "metadata": {},
		   "source": [
			"## Example 6.10: Example_10.sce"
		   ]
		  },
  {
"cell_type": "code",
	   "execution_count": null,
	   "metadata": {
	    "collapsed": true
	   },
	   "outputs": [],
"source": [
"//Problem 6.10: Calculate the equivalent capacitance of two capacitors of 6 μF and 4 μF connected (a) in parallel and (b) in series\n",
"\n",
"//initializing the variables:\n",
"C1 = 6E-6; // in Farads\n",
"C2 = 4E-6; // in Farads\n",
"\n",
"//calculation:\n",
"// in Parallel\n",
"Cp = C1 +C2\n",
"// in Series\n",
"Cs = 1/[(1/C1) + (1/C2)]\n",
"\n",
"printf('\n\nResult\n\n')\n",
"printf('\n (a)Capacitance in parallel %.2E F',Cp)\n",
"printf('\n (b)Capacitance in Series %.2E F\n',Cs)"
   ]
   }
,
{
		   "cell_type": "markdown",
		   "metadata": {},
		   "source": [
			"## Example 6.11: Example_11.sce"
		   ]
		  },
  {
"cell_type": "code",
	   "execution_count": null,
	   "metadata": {
	    "collapsed": true
	   },
	   "outputs": [],
"source": [
"//Problem 6.11: What capacitance must be connected in series with a 30 μF capacitor for the equivalent capacitance to be 12 μF?\n",
"\n",
"//initializing the variables:\n",
"C1 = 30E-6; // in Farads\n",
"Cs = 12E-6; // in Farads\n",
"\n",
"//calculation:\n",
"// in Series\n",
"C2 = 1/[(1/Cs) - (1/C1)]\n",
"\n",
"printf('\n\nResult\n\n')\n",
"printf('\n (a)Capacitance in series %.2E F\n',C2)"
   ]
   }
,
{
		   "cell_type": "markdown",
		   "metadata": {},
		   "source": [
			"## Example 6.12: Example_12.sce"
		   ]
		  },
  {
"cell_type": "code",
	   "execution_count": null,
	   "metadata": {
	    "collapsed": true
	   },
	   "outputs": [],
"source": [
"//Problem 6.12: Capacitances of 1 μF, 3 μF, 5 μF and 6 μF are connected in parallel to a direct voltage supply of 100 V. Determine (a) the equivalent circuit capacitance, (b) the total charge and (c) the charge on each capacitor.\n",
"\n",
"//initializing the variables:\n",
"C1 = 1E-6; // in Farads\n",
"C2 = 3E-6; // in Farads\n",
"C3 = 5E-6; // in Farads\n",
"C4 = 6E-6; // in Farads\n",
"Vt = 100; // in Volts\n",
"\n",
"//calculation:\n",
"// in Parallel\n",
"Cp = C1 + C2 + C3 + C4\n",
"Qt = Vt*Cp\n",
"Q1 = C1*Vt\n",
"Q2 = C2*Vt\n",
"Q3 = C3*Vt\n",
"Q4 = C4*Vt\n",
"\n",
"printf('\n\nResult\n\n')\n",
"printf('\n (a)Equivalent Capacitance in Parallel %.2E F',Cp)\n",
"printf('\n (b)Total charge %.2E C',Qt)\n",
"printf('\n (c)Charge on each capacitors (C1, C2, C3, C4) %.2E C, %.2E C, %.2E C, %.2E C respectively',Q1,Q2,Q3,Q4)"
   ]
   }
,
{
		   "cell_type": "markdown",
		   "metadata": {},
		   "source": [
			"## Example 6.13: Example_13.sce"
		   ]
		  },
  {
"cell_type": "code",
	   "execution_count": null,
	   "metadata": {
	    "collapsed": true
	   },
	   "outputs": [],
"source": [
"//Problem 6.13: Capacitances of 3 μF, 6 μF and 12 μF are connected in series across a 350 V supply. Calculate (a) the equivalent circuit capacitance, (b) the charge on each capacitor and (c) the pd across each capacitor.\n",
"\n",
"//initializing the variables:\n",
"C1 = 3E-6; // in Farads\n",
"C2 = 6E-6; // in Farads\n",
"C3 = 12E-6; // in Farads\n",
"Vt = 350; // in Volts\n",
"\n",
"//calculation:\n",
"// in series\n",
"Cs = 1/[(1/C1) + (1/C2) + (1/C3)]\n",
"Qt = Vt*Cs\n",
"V1 = Qt/C1\n",
"V2 = Qt/C2\n",
"V3 = Qt/C3\n",
"\n",
"printf('\n\nResult\n\n')\n",
"printf('\n (a)Equivalent Capacitance in Series %.2E F',Cs)\n",
"printf('\n (b)Charge on each capacitors (C1, C2, C3) %.2E C',Qt)\n",
"printf('\n (b)P.d Across each capacitors (C1, C2, C3) %.0f V, %.0f V, %.0f V respectively',V1, V2, V3)"
   ]
   }
,
{
		   "cell_type": "markdown",
		   "metadata": {},
		   "source": [
			"## Example 6.14: Example_14.sce"
		   ]
		  },
  {
"cell_type": "code",
	   "execution_count": null,
	   "metadata": {
	    "collapsed": true
	   },
	   "outputs": [],
"source": [
"//Problem 6.14: A capacitor is to be constructed so that its capacitance is 0.2 μF and to take a p.d. of 1.25 kV across its terminals. The dielectric is to be mica which, after allowing a safety factor of 2, has a dielectric strength of 50 MV/m. Find (a) the thickness of the mica needed, and (b) the area of a plate assuming a two-plate construction. (Assume r for mica to be 6)\n",
"\n",
"//initializing the variables:\n",
"C = 0.2E-6; // in Farads\n",
"V = 1250; // in Volts\n",
"E  = 50E6; // in V/m\n",
"e0 = 8.85E-12; // in F/m\n",
"er = 6;\n",
"\n",
"//calculation:\n",
"d = V/E\n",
"A = C*d/e0/er\n",
"\n",
"printf('\n\nResult\n\n')\n",
"printf('\n (a)Thickness %.2E m',d)\n",
"printf('\n (b)Area of plate is %.2E m2 \n',A)"
   ]
   }
,
{
		   "cell_type": "markdown",
		   "metadata": {},
		   "source": [
			"## Example 6.15: Example_15.sce"
		   ]
		  },
  {
"cell_type": "code",
	   "execution_count": null,
	   "metadata": {
	    "collapsed": true
	   },
	   "outputs": [],
"source": [
"//Problem 6.15: (a) Determine the energy stored in a 3 μF capacitor when charged to 400 V. (b) Find also the average power developed if this energy is dissipated in a time of 10 μs\n",
"\n",
"//initializing the variables:\n",
"C = 3E-6; // in Farads\n",
"V = 400; // in Volts\n",
"t = 10E-6; // in secs\n",
"\n",
"//calculation:\n",
"W = C*V*V/2\n",
"P = W/t\n",
"\n",
"printf('\n\nResult\n\n')\n",
"printf('\n (a)Energy stored %.2f J',W)\n",
"printf('\n (b)Power developed %.2E W ',P)"
   ]
   }
,
{
		   "cell_type": "markdown",
		   "metadata": {},
		   "source": [
			"## Example 6.16: Example_16.sce"
		   ]
		  },
  {
"cell_type": "code",
	   "execution_count": null,
	   "metadata": {
	    "collapsed": true
	   },
	   "outputs": [],
"source": [
"//Problem 6.16: A 12 μF capacitor is required to store 4 J of energy. Find the pd to which the capacitor must be charged.\n",
"\n",
"//initializing the variables:\n",
"C = 12E-6; // in Farads\n",
"W = 4; // in Joules\n",
"\n",
"//calculation:\n",
"V = (2*W/C)^0.5\n",
"\n",
"printf('\n\nResult\n\n')\n",
"printf('\n P.d %.1f V\n',V)"
   ]
   }
,
{
		   "cell_type": "markdown",
		   "metadata": {},
		   "source": [
			"## Example 6.17: Example_17.sce"
		   ]
		  },
  {
"cell_type": "code",
	   "execution_count": null,
	   "metadata": {
	    "collapsed": true
	   },
	   "outputs": [],
"source": [
"//Problem 6.17: A capacitor is charged with 10 mC. If the energystored is 1.2 J find (a) the voltage and (b) the capacitance.\n",
"\n",
"//initializing the variables:\n",
"W = 1.2; // in Joules\n",
"Q = 10E-3; // in Coulomb\n",
"\n",
"//calculation:\n",
"V = 2*W/Q\n",
"C = Q/V\n",
"\n",
"printf('\n\nResult\n\n')\n",
"printf('\n (a)P.d %.0f V',V)\n",
"printf('\n (b)Capacitance %.2E F\n',C)"
   ]
   }
],
"metadata": {
		  "kernelspec": {
		   "display_name": "Scilab",
		   "language": "scilab",
		   "name": "scilab"
		  },
		  "language_info": {
		   "file_extension": ".sce",
		   "help_links": [
			{
			 "text": "MetaKernel Magics",
			 "url": "https://github.com/calysto/metakernel/blob/master/metakernel/magics/README.md"
			}
		   ],
		   "mimetype": "text/x-octave",
		   "name": "scilab",
		   "version": "0.7.1"
		  }
		 },
		 "nbformat": 4,
		 "nbformat_minor": 0
}
