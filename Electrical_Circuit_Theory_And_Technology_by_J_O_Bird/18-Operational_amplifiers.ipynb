{
"cells": [
 {
		   "cell_type": "markdown",
	   "metadata": {},
	   "source": [
       "# Chapter 18: Operational amplifiers"
	   ]
	},
{
		   "cell_type": "markdown",
		   "metadata": {},
		   "source": [
			"## Example 18.01: Example_1.sce"
		   ]
		  },
  {
"cell_type": "code",
	   "execution_count": null,
	   "metadata": {
	    "collapsed": true
	   },
	   "outputs": [],
"source": [
"//Problem 18.01: A differential amplifier has an open-loop voltage gain of 120. The input signals are 2.45 V and 2.35 V. Calculate the output voltage of the amplifier\n",
"\n",
"//initializing the variables:\n",
"Vi2 = 2.45; // in Volts\n",
"Vi1 = 2.35; // in Volts\n",
"A0 = 120; // open-loop voltage gain\n",
"\n",
"//calculation:\n",
"Vo = A0*(Vi2 - Vi1)\n",
"\n",
"printf('\n\n Result \n\n')\n",
"printf('\n the output voltage is %.0f V',Vo)"
   ]
   }
,
{
		   "cell_type": "markdown",
		   "metadata": {},
		   "source": [
			"## Example 18.02: Example_2.sce"
		   ]
		  },
  {
"cell_type": "code",
	   "execution_count": null,
	   "metadata": {
	    "collapsed": true
	   },
	   "outputs": [],
"source": [
"//Problem 18.02: Determine the common-mode gain of an op amp that has a differential voltage gain of 150E3 and a CMRR of 90 dB.\n",
"\n",
"//initializing the variables:\n",
"Vg = 150E3; // differential voltage gain \n",
"CMRR = 90; // in dB\n",
"\n",
"//calculation:\n",
"CMG = Vg/(10^(CMRR/20))\n",
"\n",
"printf('\n\n Result \n\n')\n",
"printf('\n common-mode gain is %.2f',CMG)"
   ]
   }
,
{
		   "cell_type": "markdown",
		   "metadata": {},
		   "source": [
			"## Example 18.03: Example_3.sce"
		   ]
		  },
  {
"cell_type": "code",
	   "execution_count": null,
	   "metadata": {
	    "collapsed": true
	   },
	   "outputs": [],
"source": [
"//Problem 18.03: A differential amplifier has an open-loop voltage gain of 120 and a common input signal of 3.0 V to both terminals. An output signal of 24 mV results. Calculate the common-mode gain and the CMRR.\n",
"\n",
"//initializing the variables:\n",
"Vg = 120; // differential voltage gain \n",
"Vi = 3; // in Volts\n",
"Vo = 0.024; // in Volts\n",
"\n",
"//calculation:\n",
"CMG = Vo/Vi\n",
"CMRR = 20*log10(Vg/CMG)\n",
"\n",
"printf('\n\n Result \n\n')\n",
"printf('\n common-mode gain is %.3f and CMRR is %.2f dB',CMG, CMRR)"
   ]
   }
,
{
		   "cell_type": "markdown",
		   "metadata": {},
		   "source": [
			"## Example 18.04: Example_4.sce"
		   ]
		  },
  {
"cell_type": "code",
	   "execution_count": null,
	   "metadata": {
	    "collapsed": true
	   },
	   "outputs": [],
"source": [
"//Problem 18.04: In the inverting amplifier of Figure 18.5, Ri = 1 kohm and Rf = 2 kohm. Determine the output voltage when the input voltage is: (a)+0.4 V (b) -1.2 V\n",
"\n",
"//initializing the variables:\n",
"Rf = 2000; // in ohms\n",
"Ri = 1000; // in ohms\n",
"Vi1 = 0.4; // in Volts\n",
"Vi2 = -1.2; // in Volts\n",
"\n",
"//calculation:\n",
"Vo1 = -1*Rf*Vi1/Ri\n",
"Vo2 = -1*Rf*Vi2/Ri\n",
"\n",
"printf('\n\n Result \n\n')\n",
"printf('\n output voltage when the input voltage is 0.4V is %.1f V and when the input voltage is -1.2V is %.1f V',Vo1, Vo2)"
   ]
   }
,
{
		   "cell_type": "markdown",
		   "metadata": {},
		   "source": [
			"## Example 18.05: Example_5.sce"
		   ]
		  },
  {
"cell_type": "code",
	   "execution_count": null,
	   "metadata": {
	    "collapsed": true
	   },
	   "outputs": [],
"source": [
"//Problem 18.05: The op amp shown in Figure 18.6 has an input bias current of 100 nA at 20°C. Calculate (a) the voltage gain, and (b) the output offset voltage due to the input bias current. (c) How can the effect of input bias current be minimised?\n",
"\n",
"//initializing the variables:\n",
"Ii = 100E-9; // in Amperes\n",
"T = 20; // in °C\n",
"Rf = 1E6; // in ohms\n",
"Ri = 10000; // in ohms\n",
"\n",
"//calculation:\n",
"A = -1*Rf/Ri\n",
"Vos = Ii*Ri*Rf/(Ri+Rf)\n",
"\n",
"printf('\n\n Result \n\n')\n",
"printf('\n (a)the voltage gain is %.0f',A)\n",
"printf('\n (b)output offset voltage is %.5f V',Vos)"
   ]
   }
,
{
		   "cell_type": "markdown",
		   "metadata": {},
		   "source": [
			"## Example 18.06: Example_6.sce"
		   ]
		  },
  {
"cell_type": "code",
	   "execution_count": null,
	   "metadata": {
	    "collapsed": true
	   },
	   "outputs": [],
"source": [
"//Problem 18.06: Design an inverting amplifier to have a voltage gain of 40 dB, a closed-loop bandwidth of 5 kHz and an input resistance of 10 kohm.\n",
"\n",
"//initializing the variables:\n",
"Vg = 40; // in dB\n",
"bf = 5000; // in Hz\n",
"Ri = 10000; // in ohms\n",
"\n",
"//calculation:\n",
"A = 10^(Vg/20)\n",
"Rf = A*Ri\n",
"f = A*bf\n",
"\n",
"printf('\n\n Result \n\n')\n",
"printf('\n the voltage gain is %.0f, Rf = %.0f ohm and frequency = %.0f Hz',A, Rf, f)"
   ]
   }
,
{
		   "cell_type": "markdown",
		   "metadata": {},
		   "source": [
			"## Example 18.07: Example_7.sce"
		   ]
		  },
  {
"cell_type": "code",
	   "execution_count": null,
	   "metadata": {
	    "collapsed": true
	   },
	   "outputs": [],
"source": [
"//Problem 18.07: For the op amp shown in Figure 18.8, R1 = 4.7 kohm and R2 = 10 kohm. If the input voltage is- 0.4 V, determine (a) the voltage gain (b) the output voltage\n",
"\n",
"//initializing the variables:\n",
"Vi = -0.4; // in Volts\n",
"R1 = 4700; // in ohms\n",
"R2 = 10000; // in ohms\n",
"\n",
"//calculation:\n",
"A = 1 + (R2/R1)\n",
"Vo = A*Vi\n",
"\n",
"printf('\n\n Result \n\n')\n",
"printf('\n(a) the voltage gain is %.2f',A)\n",
"printf('\n(b) output voltageis %.2f V',Vo)"
   ]
   }
,
{
		   "cell_type": "markdown",
		   "metadata": {},
		   "source": [
			"## Example 18.08: Example_8.sce"
		   ]
		  },
  {
"cell_type": "code",
	   "execution_count": null,
	   "metadata": {
	    "collapsed": true
	   },
	   "outputs": [],
"source": [
"//Problem 18.08: For the summing op amp shown in Figure 18.11, determine the output voltage, Vo\n",
"\n",
"//initializing the variables:\n",
"V1 = 0.5; // in Volts\n",
"V2 = 0.8; // in Volts\n",
"V3 = 1.2; // in Volts\n",
"R1 = 10000; // in ohms\n",
"R2 = 20000; // in ohms\n",
"R3 = 30000; // in ohms\n",
"Rf = 50000; // in ohms\n",
"\n",
"//calculation:\n",
"Vo = -1*Rf*(V1/R1 + V2/R2 + V3/R3)\n",
"\n",
"printf('\n\n Result \n\n')\n",
"printf('\n output voltageis %.1f V',Vo)"
   ]
   }
,
{
		   "cell_type": "markdown",
		   "metadata": {},
		   "source": [
			"## Example 18.10: Example_10.sce"
		   ]
		  },
  {
"cell_type": "code",
	   "execution_count": null,
	   "metadata": {
	    "collapsed": true
	   },
	   "outputs": [],
"source": [
"//Problem 18.10: A steady voltage of -0.75V is applied to an op amp integrator having component values of R = 200 kohm and C = 2.5 μF. Assuming that the initial capacitor charge is zero, determine the value of the output voltage 100 ms after application of the input.\n",
"\n",
"//initializing the variables:\n",
"Vs = -0.75; // in Volts\n",
"R = 200000; // in ohms\n",
"C = 2.5E-6; // in Farads\n",
"t = 0.1; // in secs\n",
"\n",
"//calculation:\n",
"Vo = (-1/(C*R))*integrate('-0.75', 't', 0, 0.1)\n",
"\n",
"printf('\n\n Result \n\n')\n",
"printf('\n output voltage is %.2f V',Vo)"
   ]
   }
,
{
		   "cell_type": "markdown",
		   "metadata": {},
		   "source": [
			"## Example 18.11: Example_11.sce"
		   ]
		  },
  {
"cell_type": "code",
	   "execution_count": null,
	   "metadata": {
	    "collapsed": true
	   },
	   "outputs": [],
"source": [
"//Problem 18.11: In the differential amplifier shown in Figure 18.16, R1 = 10 kohm, R2 = 10 kohm, R3 = 100 kohm and Rf = 100 kohm. Determine the output voltage Vo if: \n",
"//(a) V1 = 5 mV and V2 = 0 \n",
"//(b) V1 = 0 and V2 = 5mV \n",
"//(c) V1 = 50 mV and V2 = 25mV \n",
"//(d) V1 = 25 mV and V2 = 50mV\n",
"\n",
"//initializing the variables:\n",
"V1a = 0.005; // in Volts\n",
"V2a = 0; // in Volts\n",
"V1b = 0; // in Volts\n",
"V2b = 0.005; // in Volts\n",
"V1c = 0.05; // in Volts\n",
"V2c = 0.025; // in Volts\n",
"V1d = 0.025; // in Volts\n",
"V2d = 0.05; // in Volts\n",
"R1 = 10000; // in ohms\n",
"R2 = 10000; // in ohms\n",
"R3 = 100000; // in ohms\n",
"Rf = 100000; // in ohms\n",
"\n",
"//calculation:\n",
"Vo1 = -1*Rf*V1a/R1\n",
"Vo2 = (R3/(R2+R3))*(1 + (Rf/R1))*V2b\n",
"Vo3 = -1*Rf*(V1c-V2c)/R1\n",
"Vo4 = (R3/(R2+R3))*(1 + (Rf/R1))*(V2d-V1d)\n",
"\n",
"printf('\n\n Result \n\n')\n",
"printf('\n (a)output voltage is %.3f V',Vo1)\n",
"printf('\n (b)output voltage is %.3f V',Vo2)\n",
"printf('\n (c)output voltage is %.3f V',Vo3)\n",
"printf('\n (d)output voltage is %.3f V',Vo4)"
   ]
   }
],
"metadata": {
		  "kernelspec": {
		   "display_name": "Scilab",
		   "language": "scilab",
		   "name": "scilab"
		  },
		  "language_info": {
		   "file_extension": ".sce",
		   "help_links": [
			{
			 "text": "MetaKernel Magics",
			 "url": "https://github.com/calysto/metakernel/blob/master/metakernel/magics/README.md"
			}
		   ],
		   "mimetype": "text/x-octave",
		   "name": "scilab",
		   "version": "0.7.1"
		  }
		 },
		 "nbformat": 4,
		 "nbformat_minor": 0
}
