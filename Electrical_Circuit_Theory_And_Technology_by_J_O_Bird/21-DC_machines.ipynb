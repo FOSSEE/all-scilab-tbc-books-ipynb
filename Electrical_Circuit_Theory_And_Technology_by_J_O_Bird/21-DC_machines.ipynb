{
"cells": [
 {
		   "cell_type": "markdown",
	   "metadata": {},
	   "source": [
       "# Chapter 21: DC machines"
	   ]
	},
{
		   "cell_type": "markdown",
		   "metadata": {},
		   "source": [
			"## Example 21.01: Example_1.sce"
		   ]
		  },
  {
"cell_type": "code",
	   "execution_count": null,
	   "metadata": {
	    "collapsed": true
	   },
	   "outputs": [],
"source": [
"//Problem 21.01: An 8-pole, wave-connected armature has 600 conductors and is driven at 625 rev/min. If the flux per pole is 20 mWb, determine the generated e.m.f.\n",
"\n",
"//initializing the variables:\n",
"Z = 600; // no. of conductors\n",
"c = 2; // for a wave winding\n",
"p = 4; // no. of pairs\n",
"n = 625/60; // in rev/sec\n",
"Phi = 20E-3; // in Wb\n",
"\n",
"//calculation:\n",
"//Generated e.m.f., E = 2*p*Phi*n*Z/c\n",
"E = 2*p*Phi*n*Z/c\n",
"\n",
"printf('\n\n Result \n\n')\n",
"printf('\n the generated e.m.f is %.0f V ',E)"
   ]
   }
,
{
		   "cell_type": "markdown",
		   "metadata": {},
		   "source": [
			"## Example 21.02: Example_2.sce"
		   ]
		  },
  {
"cell_type": "code",
	   "execution_count": null,
	   "metadata": {
	    "collapsed": true
	   },
	   "outputs": [],
"source": [
"//Problem 21.02: A 4-pole generator has a lap-wound armature with 50 slots with 16 conductors per slot. The useful flux per pole is 30 mWb. Determine the speed at which the machine must be driven to generate an e.m.f. of 240 V.\n",
"\n",
"//initializing the variables:\n",
"Z = 50*16; // no. of conductors\n",
"p = 1; // let no. of pairs\n",
"c = 2*p; // for a lap winding\n",
"Phi = 30E-3; // in Wb\n",
"E = 240; // in Volts\n",
"\n",
"//calculation:\n",
"//Generated e.m.f., E = 2*p*Phi*n*Z/c\n",
"//Rearranging gives, speed\n",
"n = E*c/(2*p*Phi*Z)\n",
"\n",
"printf('\n\n Result \n\n')\n",
"printf('\n the speed at which the machine must be driven is %.0f rev/sec ',n)"
   ]
   }
,
{
		   "cell_type": "markdown",
		   "metadata": {},
		   "source": [
			"## Example 21.03: Example_3.sce"
		   ]
		  },
  {
"cell_type": "code",
	   "execution_count": null,
	   "metadata": {
	    "collapsed": true
	   },
	   "outputs": [],
"source": [
"//Problem 21.03: An 8-pole, lap-wound armature has 1200 conductors and a flux per pole of 0.03 Wb. Determine the e.m.f. generated when running at 500 rev/min.\n",
"\n",
"//initializing the variables:\n",
"Z = 1200; // no. of conductors\n",
"p = 1; // let, no. of pairs\n",
"c = 2*p; // for a lap winding\n",
"Phi = 30E-3; // in Wb\n",
"n = 500/60; // in rev/sec\n",
"\n",
"//calculation:\n",
"//Generated e.m.f., E = 2*p*Phi*n*Z/c\n",
"E = 2*p*Phi*n*Z/c\n",
"\n",
"printf('\n\n Result \n\n')\n",
"printf('\n Generated e.m.f. is %.0f V ',E)"
   ]
   }
,
{
		   "cell_type": "markdown",
		   "metadata": {},
		   "source": [
			"## Example 21.04: Example_4.sce"
		   ]
		  },
  {
"cell_type": "code",
	   "execution_count": null,
	   "metadata": {
	    "collapsed": true
	   },
	   "outputs": [],
"source": [
"//Problem 21.04: Determine the generated e.m.f. in problem 21.03 if the armature is wave-wound.\n",
"\n",
"//initializing the variables:\n",
"Z = 1200; // no. of conductors\n",
"p = 4; // let, no. of pairs\n",
"c = 2; // for a wave winding\n",
"Phi = 30E-3; // in Wb\n",
"n = 500/60; // in rev/sec\n",
"\n",
"//calculation:\n",
"//Generated e.m.f., E = 2*p*Phi*n*Z/c\n",
"E = 2*p*Phi*n*Z/c\n",
"\n",
"printf('\n\n Result \n\n')\n",
"printf('\n Generated e.m.f. is %.0f V ',E)"
   ]
   }
,
{
		   "cell_type": "markdown",
		   "metadata": {},
		   "source": [
			"## Example 21.06: Example_6.sce"
		   ]
		  },
  {
"cell_type": "code",
	   "execution_count": null,
	   "metadata": {
	    "collapsed": true
	   },
	   "outputs": [],
"source": [
"//Problem 21.06: A d.c. generator running at 30 rev/s generates an e.m.f. of 200 V. Determine the percentage increase in the flux per pole required to generate 250 V at 20 rev/s.\n",
"\n",
"//initializing the variables:\n",
"n1 = 30; // in rev/sec\n",
"E1 = 200; // in Volts\n",
"n2 = 20; // in rev/sec\n",
"E2 = 250; // in Volts\n",
"\n",
"//calculation:\n",
"//generated e.m.f., E proportional to phi*w and since w = 2*pi*n, then\n",
"// E proportional to phi*n\n",
"// E1/E2 = Phi1*n1/(Phi2*n2)\n",
"// let Phi2/Phi1 = Phi\n",
"Phi = E2*n1/(E1*n2)\n",
"Phi_inc = (Phi - 1)*100 ///in percent\n",
"\n",
"printf('\n\n Result \n\n')\n",
"printf('\n percentage increase in the flux per pole is %.1f percent ',Phi_inc)"
   ]
   }
,
{
		   "cell_type": "markdown",
		   "metadata": {},
		   "source": [
			"## Example 21.07: Example_7.sce"
		   ]
		  },
  {
"cell_type": "code",
	   "execution_count": null,
	   "metadata": {
	    "collapsed": true
	   },
	   "outputs": [],
"source": [
"//Problem 21.07: Determine the terminal voltage of a generator which develops an e.m.f. of 200 V and has an armature current of 30 A on load. Assume the armature resistance is 0.30 ohm. \n",
"\n",
"//initializing the variables:\n",
"Ra = 0.30; // in ohms\n",
"Ia = 30; // in Amperes\n",
"E = 200; // in Volts\n",
"\n",
"//calculation:\n",
"//terminal voltage,\n",
"//V = E - Ia*Ra\n",
"V = E - Ia*Ra\n",
"\n",
"printf('\n\n Result \n\n')\n",
"printf('\n terminal voltage of a generator is %.0f V ',V)"
   ]
   }
,
{
		   "cell_type": "markdown",
		   "metadata": {},
		   "source": [
			"## Example 21.08: Example_8.sce"
		   ]
		  },
  {
"cell_type": "code",
	   "execution_count": null,
	   "metadata": {
	    "collapsed": true
	   },
	   "outputs": [],
"source": [
"//Problem 21.08: A generator is connected to a 60 ohm load and a current of 8 A flows. If the armature resistance is 1 ohm determine (a) the terminal voltage, and (b) the generated e.m.f.\n",
"\n",
"//initializing the variables:\n",
"RL = 60; // in ohms\n",
"Ia = 8; // in Amperes\n",
"Ra = 1; // in ohms\n",
"\n",
"//calculation:\n",
"//terminal voltage,\n",
"//V = Ia*RL\n",
"V = Ia*RL\n",
"//Generated e.m.f., E\n",
"E = V + Ia*Ra\n",
"\n",
"printf('\n\n Result \n\n')\n",
"printf('\n (a)terminal voltage is %.0f V ',V)\n",
"printf('\n (b)generated e.m.f. is %.0f V ',E)"
   ]
   }
,
{
		   "cell_type": "markdown",
		   "metadata": {},
		   "source": [
			"## Example 21.09: Example_9.sce"
		   ]
		  },
  {
"cell_type": "code",
	   "execution_count": null,
	   "metadata": {
	    "collapsed": true
	   },
	   "outputs": [],
"source": [
"//Problem 21.09: A separately-excited generator develops a no-load e.m.f. of 150 V at an armature speed of 20 rev/s and a flux per pole of 0.10 Wb. Determine the generated e.m.f. when (a) the speed increases to 25 rev/s and the pole flux remains unchanged, (b) the speed remains at 20 rev/s and the pole flux is decreased to 0.08 Wb, and (c) the speed increases to 24 rev/s and the pole flux is decreased to 0.07 Wb.\n",
"\n",
"//initializing the variables:\n",
"E1 = 150; // in Volts\n",
"n1 = 20; // in rev/sec\n",
"Phi1 = 0.10; // in Wb\n",
"n2 = 25; // in rev/sec\n",
"Phi2 = 0.10; // in Wb\n",
"n3 = 20; // in rev/sec\n",
"Phi3 = 0.08; // in Wb\n",
"n4 = 24; // in rev/sec\n",
"Phi4 = 0.07; // in Wb\n",
"\n",
"//calculation:\n",
"//generated e.m.f., E proportional to phi*w and since w = 2*pi*n, then\n",
"// E proportional to phi*n\n",
"// E1/E2 = Phi1*n1/(Phi2*n2)\n",
"E2 = E1*Phi2*n2/(Phi1*n1)\n",
"E3 = E1*Phi3*n3/(Phi1*n1)\n",
"E4 = E1*Phi4*n4/(Phi1*n1)\n",
"\n",
"printf('\n\n Result \n\n')\n",
"printf('\n (a)the generated e.m.f is %.1f V ',E2)\n",
"printf('\n (b)generated e.m.f. is %.0f V ',E3)\n",
"printf('\n (c)generated e.m.f. is %.0f V ',E4)"
   ]
   }
,
{
		   "cell_type": "markdown",
		   "metadata": {},
		   "source": [
			"## Example 21.10: Example_10.sce"
		   ]
		  },
  {
"cell_type": "code",
	   "execution_count": null,
	   "metadata": {
	    "collapsed": true
	   },
	   "outputs": [],
"source": [
"//Problem 21.10: A shunt generator supplies a 20 kW load at 200 V through cables of resistance, R = 100 mohm. If the field winding resistance, Rf=D 50ohm  and the armature resistance, Ra = 40 mohm, determine (a) the terminal voltage, and (b) the e.m.f. generated in the armature.\n",
"\n",
"//initializing the variables:\n",
"Ps = 20000; // in Watts\n",
"Vs = 200; // in Volts\n",
"Rs = 0.1; // in ohms\n",
"Rf = 50; // in ohms\n",
"Ra = 0.04; // in ohms\n",
"\n",
"//calculation:\n",
"//Load current, I\n",
"Is = Ps/Vs\n",
"//Volt drop in the cables to the load\n",
"Vd = Is*Rs\n",
"//Hence terminal voltage,\n",
"V = Vs + Vd\n",
"//Field current, If\n",
"If = V/Rf\n",
"//Armature current\n",
"Ia = If + Is\n",
"//Generated e.m.f. E\n",
"E = V + Ia*Ra\n",
"\n",
"printf('\n\n Result \n\n')\n",
"printf('\n (a)terminal voltage is %.0f V ',V)\n",
"printf('\n (b)generated e.m.f. is %.2f V ',E)"
   ]
   }
,
{
		   "cell_type": "markdown",
		   "metadata": {},
		   "source": [
			"## Example 21.11: Example_11.sce"
		   ]
		  },
  {
"cell_type": "code",
	   "execution_count": null,
	   "metadata": {
	    "collapsed": true
	   },
	   "outputs": [],
"source": [
"//Problem 21.11: A short-shunt compound generator supplies 80 A at 200 V. If the field resistance, Rf = 40 ohm, the series resistance, Rse = 0.02ohms  and the armature resistance, Ra = 0.04 ohm, determin  the e.m.f. generated.\n",
"\n",
"//initializing the variables:\n",
"Is = 80; // in amperes\n",
"Vs = 200; // in Volts\n",
"Rf = 40; // in ohms\n",
"Rse = 0.02; // in ohms\n",
"Ra = 0.04; // in ohms\n",
"\n",
"//calculation:\n",
"//Volt drop in series winding\n",
"Vse = Is*Rse\n",
"//P.d. across the field winding = p.d. across armature\n",
"V1 = Vs + Vse\n",
"//Field current, If\n",
"If = V1/Rf\n",
"//Armature current\n",
"Ia = If + Is\n",
"//Generated e.m.f. E\n",
"E = V1 + Ia*Ra\n",
"\n",
"printf('\n\n Result \n\n')\n",
"printf('\n generated e.m.f. is %.0f V ',E)"
   ]
   }
,
{
		   "cell_type": "markdown",
		   "metadata": {},
		   "source": [
			"## Example 21.12: Example_12.sce"
		   ]
		  },
  {
"cell_type": "code",
	   "execution_count": null,
	   "metadata": {
	    "collapsed": true
	   },
	   "outputs": [],
"source": [
"//Problem 21.12: A 10 kW shunt generator having an armature circuit resistance of 0.75 ohm and a field resistance of 125 ohms , generates a terminal voltage of 250 V at full load. Determine the efficiency of the generator at full load, assuming the iron, friction and windage losses amount to 600 W.\n",
"\n",
"//initializing the variables:\n",
"Ps = 10000; // in Watt\n",
"Pl = 600; // in Watt\n",
"Ra = 0.75; // in ohms\n",
"Rf = 125; // in ohms\n",
"V = 250; // in Volts\n",
"\n",
"//calculation:\n",
"//Output power Ps = V*I\n",
"//from which, load current I\n",
"I = Ps/V\n",
"//Field current, If\n",
"If = V/Rf\n",
"//Armature current\n",
"Ia = If + I\n",
"//Efficiency,\n",
"eff = Ps*100/((V*I) + (Ia*Ia*Ra) + (If*V) + (Pl)) // in Percent\n",
"\n",
"printf('\n\n Result \n\n')\n",
"printf('\n Efficiency is %.2f percent ',eff)"
   ]
   }
,
{
		   "cell_type": "markdown",
		   "metadata": {},
		   "source": [
			"## Example 21.13: Example_13.sce"
		   ]
		  },
  {
"cell_type": "code",
	   "execution_count": null,
	   "metadata": {
	    "collapsed": true
	   },
	   "outputs": [],
"source": [
"//Problem 21.13: A d.c. motor operates from a 240 V supply. The armature resistance is 0.2 ohm. Determine the back e.m.f. when the armature current is 50 A.\n",
"\n",
"//initializing the variables:\n",
"Ra = 0.2; // in ohms\n",
"V = 240; // in Volts\n",
"Ia = 50; // in Amperes\n",
"\n",
"//calculation:\n",
"//For a motor, V = E + Ia*Ra\n",
"E = V - Ia*Ra\n",
"\n",
"printf('\n\n Result \n\n')\n",
"printf('\n back e.m.f. is %.0f V ',E)"
   ]
   }
,
{
		   "cell_type": "markdown",
		   "metadata": {},
		   "source": [
			"## Example 21.14: Example_14.sce"
		   ]
		  },
  {
"cell_type": "code",
	   "execution_count": null,
	   "metadata": {
	    "collapsed": true
	   },
	   "outputs": [],
"source": [
"//Problem 21.14: The armature of a d.c. machine has a resistance of 0.25 ohm and is connected to a 300 V supply. Calculate the e.m.f. generated when it is running: (a) as a generator giving 100 A, and (b) as a motor taking 80 A.\n",
"\n",
"//initializing the variables:\n",
"Ra = 0.25; // in ohms\n",
"V = 300; // in Volts\n",
"Ig = 100; // in Amperes\n",
"Im = 80; // in Amperes\n",
"\n",
"//calculation:\n",
"//As a generator, generated e.m.f.,\n",
"// E = V + Ia*Ra\n",
"Eg = V + Ig*Ra\n",
"//For a motor, generated e.m.f. (or back e.m.f.),\n",
"// E = V - Ia*Ra\n",
"E = V - Im*Ra\n",
"\n",
"printf('\n\n Result \n\n')\n",
"printf('\n (a)As a generator, generated e.m.f. is %.0f V ',Eg)\n",
"printf('\n (b)back e.m.f. is %.0f V ',E)"
   ]
   }
,
{
		   "cell_type": "markdown",
		   "metadata": {},
		   "source": [
			"## Example 21.15: Example_15.sce"
		   ]
		  },
  {
"cell_type": "code",
	   "execution_count": null,
	   "metadata": {
	    "collapsed": true
	   },
	   "outputs": [],
"source": [
"//Problem 21.15: An 8-pole d.c. motor has a wave-wound armature with 900 conductors. The useful flux per pole is 25 mWb. Determine the torque exerted when a current of 30 A flows in each armature conductor.\n",
"\n",
"//initializing the variables:\n",
"p = 4;\n",
"c = 2; // for a wave winding\n",
"Phi = 25E-3; // Wb\n",
"Z = 900;\n",
"Ia = 30; // in Amperes\n",
"\n",
"//calculation:\n",
"//torque T = p*Phi*Z*Ia/(pi*c)\n",
"T = p*Phi*Z*Ia/(1*%pi*c)\n",
"\n",
"printf('\n\n Result \n\n')\n",
"printf('\n the torque exerted is %.1f Nm ',T)"
   ]
   }
,
{
		   "cell_type": "markdown",
		   "metadata": {},
		   "source": [
			"## Example 21.16: Example_16.sce"
		   ]
		  },
  {
"cell_type": "code",
	   "execution_count": null,
	   "metadata": {
	    "collapsed": true
	   },
	   "outputs": [],
"source": [
"//Problem 21.16: Determine the torque developed by a 350 V d.c. motor having an armature resistance of 0.5 ohm and running at 15 rev/s. The armature current is 60 A.\n",
"\n",
"//initializing the variables:\n",
"V = 350; // in Volts\n",
"Ra = 0.5; // in ohms\n",
"n = 15; // in rev/sec\n",
"Ia = 60; // in Amperes\n",
"\n",
"//calculation:\n",
"//Back e.m.f. E = V - Ia*Ra\n",
"E = V - Ia*Ra\n",
"//torque T = E*Ia/(2*n*pi)\n",
"T = E*Ia/(2*n*%pi)\n",
"\n",
"printf('\n\n Result \n\n')\n",
"printf('\n the torque exerted is %.1f Nm ',T)"
   ]
   }
,
{
		   "cell_type": "markdown",
		   "metadata": {},
		   "source": [
			"## Example 21.17: Example_17.sce"
		   ]
		  },
  {
"cell_type": "code",
	   "execution_count": null,
	   "metadata": {
	    "collapsed": true
	   },
	   "outputs": [],
"source": [
"//Problem 21.17: A six-pole lap-wound motor is connected to a 250 V d.c. supply. The armature has 500 conductors and a resistance of 1 ohm. The flux per pole is 20 mWb. Calculate (a) the speed and (b) the torque developed when the armature current is 40 A\n",
"\n",
"//initializing the variables:\n",
"p = 1; // let\n",
"c = 2*p; // for a lap winding\n",
"Phi = 20E-3; // Wb\n",
"Z = 500;\n",
"V = 250; // in Volts\n",
"Ra = 1; // in ohms\n",
"Ia = 40; // in Amperes\n",
"\n",
"//calculation:\n",
"//Back e.m.f. E = V - Ia*Ra\n",
"E = V - Ia*Ra\n",
"//E.m.f. E = 2*p*Phi*n*Z/c\n",
"// rearrange,\n",
"n = E*c/(2*p*Phi*Z)\n",
"//torque T = E*Ia/(2*n*pi)\n",
"T = E*Ia/(2*n*%pi)\n",
"\n",
"printf('\n\n Result \n\n')\n",
"printf('\n (a)speed n is %.0f rev/sec ',n)\n",
"printf('\n (b)the torque exerted is %.2f Nm ',T)"
   ]
   }
,
{
		   "cell_type": "markdown",
		   "metadata": {},
		   "source": [
			"## Example 21.18: Example_18.sce"
		   ]
		  },
  {
"cell_type": "code",
	   "execution_count": null,
	   "metadata": {
	    "collapsed": true
	   },
	   "outputs": [],
"source": [
"//Problem 21.18: The shaft torque of a diesel motor driving a 100 V d.c. shunt-wound generator is 25 Nm. The armature current of the generator is 16 A at this value of torque. If the shunt field regulator is adjusted so that the flux is reduced by 15%, the torque increases to 35 Nm. Determine the armature current at this new value of torque.\n",
"\n",
"//initializing the variables:\n",
"T1 = 25; // in Nm\n",
"T2 = 35; // in Nm\n",
"Ia1 = 16; // in Amperes\n",
"V = 100; // in Volts\n",
"x = 0.15;\n",
"\n",
"//calculation:\n",
"//the shaft torque T of a generator is proportional to (phi*Ia), where Phi is the flux and Ia is the armature current. Thus, T = k*Phi*Ia, where k is a constant.\n",
"//The torque at flux phi1 and armature current Ia1 is T1 = k*Phi1*Ia1.\n",
"//similarly T2 = k*Phi2*Ia2\n",
"Phi2 = (1 - x)*Phi1\n",
"Ia2 = T2*Ia1*Phi1/(Phi2*T1)\n",
"\n",
"printf('\n\n Result \n\n')\n",
"printf('\n armature current at the new value of torque is %.2f A ',Ia2)"
   ]
   }
,
{
		   "cell_type": "markdown",
		   "metadata": {},
		   "source": [
			"## Example 21.19: Example_19.sce"
		   ]
		  },
  {
"cell_type": "code",
	   "execution_count": null,
	   "metadata": {
	    "collapsed": true
	   },
	   "outputs": [],
"source": [
"//Problem 21.19: A 100 V d.c. generator supplies a current of 15 A when running at 1500 rev/min. If the torque on the shaft driving the generator is 12 Nm, determine (a) the efficiency of the generator and (b) the power loss in the generator.\n",
"\n",
"//initializing the variables:\n",
"T = 12; // in Nm\n",
"I = 15; // in Amperes\n",
"V = 100; // in Volts\n",
"n = 1500/60; // in rev/sec\n",
"\n",
"//calculation:\n",
"//the efficiency of a generator = (output power/input power)*100 %\n",
"//The output power is the electrical output, i.e. VI watts. The input power to a generator is the mechanical power in the shaft driving the generator, i.e. T*w or T(2*pi*n) watts, where T is the torque in Nm and n is speed of rotation in rev/s. Hence, for a generator \n",
"//efficiency = V*I*100/(T*2*pi*n)  %\n",
"eff = V*I*100/(T*2*%pi*n) // in  Percent\n",
"//The input power = output power + losses\n",
"// hence, T*2*%pi*n = V*I + losses\n",
"Pl = T*2*%pi*n - V*I\n",
"\n",
"printf('\n\n Result \n\n')\n",
"printf('\n (a) efficiency is %.2f percent ',eff)\n",
"printf('\n (b) power loss is %.0f W ',Pl)"
   ]
   }
,
{
		   "cell_type": "markdown",
		   "metadata": {},
		   "source": [
			"## Example 21.20: Example_20.sce"
		   ]
		  },
  {
"cell_type": "code",
	   "execution_count": null,
	   "metadata": {
	    "collapsed": true
	   },
	   "outputs": [],
"source": [
"//Problem 21.20: A 240 V shunt motor takes a total current of 30 A. If the field winding resistance Rf = 150 ohm and the armature resistance Ra = 0.4 ohm. determine (a) the current in the armature, and (b) the back e.m.f.\n",
"\n",
"//initializing the variables:\n",
"Rf = 150; // in Ohms\n",
"Ra = 0.4; // in Ohms\n",
"I = 30; // in Amperes\n",
"V = 240; // in Volts\n",
"\n",
"//calculation:\n",
"//Field current If\n",
"If = V/Rf\n",
"//Supply current I = Ia + If\n",
"//Hence armature current, Ia\n",
"Ia = I - If\n",
"//Back e.m.f. E = V - Ia*Ra\n",
"E = V - (Ia*Ra)\n",
"\n",
"printf('\n\n Result \n\n')\n",
"printf('\n (a)  current in the armature is %.1f A ',Ia)\n",
"printf('\n (b) Back e.m.f. E is %.2f V ',E)"
   ]
   }
,
{
		   "cell_type": "markdown",
		   "metadata": {},
		   "source": [
			"## Example 21.21: Example_21.sce"
		   ]
		  },
  {
"cell_type": "code",
	   "execution_count": null,
	   "metadata": {
	    "collapsed": true
	   },
	   "outputs": [],
"source": [
"//Problem 21.21: A 200 V, d.c. shunt-wound motor has an armature resistance of 0.4 ohm and at a certain load has an armature current of 30 A and runs at 1350 rev/min. If the load on the shaft of the motor is increased so that the armature current increases to 45 A, determine the speed of the motor, assuming the flux remains constant.\n",
"\n",
"//initializing the variables:\n",
"Ia1 = 30; // in Amperes\n",
"Ia2 = 45; // in Amperes\n",
"Ra = 0.4; // in ohm\n",
"n1 = 1350/60; // in Rev/sec\n",
"V = 200; // in Volts\n",
"\n",
"//calculation:\n",
"//The relationship E proportional to (Phi*n) applies to both generators and motors. For a motor,\n",
"//E = V - (Ia*Ra)\n",
"E1 =  V - (Ia1*Ra)\n",
"E2 =  V - (Ia2*Ra)\n",
"//The relationship, E1/E2 = Phi1*n1/Phi2*n2,  applies to both generators and motors. Since the flux is constant, Phi1 = Phi2\n",
"Phi2 = Phi1\n",
"n2 = E2*Phi1*n1/(Phi2*E1)\n",
"\n",
"printf('\n\n Result \n\n')\n",
"printf('\n the speed of the motor is %.2f rev/sec ',n2)"
   ]
   }
,
{
		   "cell_type": "markdown",
		   "metadata": {},
		   "source": [
			"## Example 21.22: Example_22.sce"
		   ]
		  },
  {
"cell_type": "code",
	   "execution_count": null,
	   "metadata": {
	    "collapsed": true
	   },
	   "outputs": [],
"source": [
"//Problem 21.22: A 220 V, d.c. shunt-wound motor runs at 800 rev/min and the armature current is 30 A. The armature circuit resistance is 0.4 ohm. Determine (a) the maximum value of armature current if the flux is suddenly reduced by 10% and (b) the steady state value of the armature current at the new value of flux, assuming the shaft torque of the motor remains constant.\n",
"\n",
"//initializing the variables:\n",
"Ia1 = 30; // in Amperes\n",
"Ra = 0.4; // in ohm\n",
"n = 800/60; // in Rev/sec\n",
"V = 220; // in Volts\n",
"x= 0.1;\n",
"\n",
"//calculation:\n",
"//For a d.c. shunt-wound motor, E = V - (Ia*Ra),Hence initial generated e.m.f.,\n",
"E1 =  V - (Ia1*Ra)\n",
"//The generated e.m.f. is also such that E proportional to (Phi*n) so at the instant the flux is reduced, the speed has not had time to change, and\n",
"E = E1*(1-x)\n",
"//Hence, the voltage drop due to the armature resistance is\n",
"Vd = V - E\n",
"//The instantaneous value of the current is\n",
"Ia = Vd/Ra\n",
"//T proportional to (Phi*Ia), since the torque is constant,\n",
"//Phi1*Ia1 = Phi2*Ia2,  The flux 8 is reduced by 10%, hence\n",
"Phi2 = (1-x)*Phi1\n",
"Ia2 = Phi1*Ia1/Phi2\n",
"\n",
"printf('\n\n Result \n\n')\n",
"printf('\n (a)instantaneous value of the current %.0f A ',Ia)\n",
"printf('\n (b)steady state value of armature current, %.2f A ',Ia2)"
   ]
   }
,
{
		   "cell_type": "markdown",
		   "metadata": {},
		   "source": [
			"## Example 21.23: Example_23.sce"
		   ]
		  },
  {
"cell_type": "code",
	   "execution_count": null,
	   "metadata": {
	    "collapsed": true
	   },
	   "outputs": [],
"source": [
"//Problem 21.23: A series motor has an armature resistance of 0.2 ohm and a series field resistance of 0.3 ohm. It is connected to a 240 V supply and at a particular load runs at 24 rev/s when drawing 15 A from the supply. (a) Determine the generated e.m.f. at this load. (b) Calculate the speed of the motor when the load is changed such that the current is increased to 30 A. Assume that this causes a doubling of the flux.\n",
"\n",
"//initializing the variables:\n",
"Ia1 = 15; // in Amperes\n",
"Ia2 = 30; // in Amperes\n",
"Rf = 0.3; // in ohms\n",
"Ra = 0.2; // in ohm\n",
"n1 = 24; // in Rev/sec\n",
"V = 240; // in Volts\n",
"x= 2;\n",
"\n",
"//calculation:\n",
"//generated e.m.f., E, at initial load, is given by\n",
"E1 =  V - Ia1*(Ra + Rf)\n",
"//When the current is increased to 30 A, the generated e.m.f. is given by:\n",
"E2 =  V - Ia2*(Ra + Rf)\n",
"//E proportional to (Phi*n)\n",
"//E1/E2 = Phi1*n1/Phi2*n2\n",
"Phi2 = x*Phi1\n",
"n2 = E2*Phi1*n1/(Phi2*E1) \n",
"\n",
"printf('\n\n Result \n\n')\n",
"printf('\n (a)generated e.m.f., E is %.1f V ',E1)\n",
"printf('\n (b)speed of motor, n2, %.2f A ',n2)"
   ]
   }
,
{
		   "cell_type": "markdown",
		   "metadata": {},
		   "source": [
			"## Example 21.24: Example_24.sce"
		   ]
		  },
  {
"cell_type": "code",
	   "execution_count": null,
	   "metadata": {
	    "collapsed": true
	   },
	   "outputs": [],
"source": [
"//Problem 21.24: A 320 V shunt motor takes a total current of 80 A and runs at 1000 rev/min. If the iron, friction and windage losses amount to 1.5 kW, the shunt field resistance is 40 ohm and the armature resistance is 0.2 ohm , determine the overall efficiency of the motor.\n",
"\n",
"//initializing the variables:\n",
"I = 80; // in Amperes\n",
"C = 1500; // in Watt\n",
"Rf = 40; // in ohms\n",
"Ra = 0.2; // in ohm\n",
"n = 1000/60; // in Rev/sec\n",
"V = 320; // in Volts\n",
"\n",
"//calculation:\n",
"//Field current, If\n",
"If = V/Rf\n",
"//Armature current Ia\n",
"Ia = I - If\n",
"//Efficiency =((V*I - Ia*Ia*Ra - If*V - C)/(V*I))*100%\n",
"eff = ((V*I - (Ia*Ia*Ra) - (If*V) - C)/(V*I))*100 // in percent\n",
"\n",
"printf('\n\n Result \n\n')\n",
"printf('\n efficiency is %.1f',eff)"
   ]
   }
,
{
		   "cell_type": "markdown",
		   "metadata": {},
		   "source": [
			"## Example 21.25: Example_25.sce"
		   ]
		  },
  {
"cell_type": "code",
	   "execution_count": null,
	   "metadata": {
	    "collapsed": true
	   },
	   "outputs": [],
"source": [
"//Problem 21.25: A 250 V series motor draws a current of 40 A. The armature resistance is 0.15 ohm and the field resistance is 0.05ohm . Determine the maximum efficiency of the motor.\n",
"\n",
"//initializing the variables:\n",
"I = 40; // in Amperes\n",
"Rf = 0.05; // in ohms\n",
"Ra = 0.15; // in ohm\n",
"V = 250; // in Volts\n",
"\n",
"//calculation:\n",
"//However for a series motor, If = 0 and the Ia*Ia*Ra loss needs to be I*I*(Ra + Rf)\n",
"//For maximum efficiency I*I*(Ra + Rf) = C\n",
"//Efficiency =((V*I -2*Ia*Ia*Ra)/(V*I))*100%\n",
"eff = ((V*I - (2*I*I*(Ra + Rf)))/(V*I))*100 // in percent\n",
"\n",
"printf('\n\n Result \n\n')\n",
"printf('\n efficiency is %.1f',eff)"
   ]
   }
,
{
		   "cell_type": "markdown",
		   "metadata": {},
		   "source": [
			"## Example 21.26: Example_26.sce"
		   ]
		  },
  {
"cell_type": "code",
	   "execution_count": null,
	   "metadata": {
	    "collapsed": true
	   },
	   "outputs": [],
"source": [
"//Problem 21.26: A 200 V d.c. motor develops a shaft torque of 15 Nm at 1200 rev/min. If the efficiency is 80%, determine the current supplied to the motor.\n",
"\n",
"//initializing the variables:\n",
"T = 15; // in Nm\n",
"n = 1200/60; // in rev/sec\n",
"eff = 0.8;\n",
"V = 200; // in Volts\n",
"\n",
"//calculation:\n",
"//The efficiency of a motor = (output power/input power)*100 %\n",
"//The output power of a motor is the power available to do work at its shaft and is given by Tw or T proportional to (2*pi*n) watts, where T is the torque in Nm and n is the speed of rotation in rev/s. The input power is the electrical power in watts supplied to the motor, i.e. VI watts.\n",
"//Thus for a motor, efficiency =(T*2*pi*n/(V*I))%\n",
"I = T*2*%pi*n/(V*eff)\n",
"\n",
"printf('\n\n Result \n\n')\n",
"printf('\n current supplied, I is %.1f A',I)"
   ]
   }
,
{
		   "cell_type": "markdown",
		   "metadata": {},
		   "source": [
			"## Example 21.27: Example_27.sce"
		   ]
		  },
  {
"cell_type": "code",
	   "execution_count": null,
	   "metadata": {
	    "collapsed": true
	   },
	   "outputs": [],
"source": [
"//Problem 21.27: A d.c. series motor drives a load at 30 rev/s and takes a current of 10 A when the supply voltage is 400 V. If the total resistance of the motor is 2 ohm and the iron, friction and windage losses amount to 300 W, determine the efficiency of the motor.\n",
"\n",
"//initializing the variables:\n",
"R = 2; // in ohm\n",
"n = 30; // in rev/sec\n",
"I = 10; // in A\n",
"C = 300; // in Watt\n",
"V = 400; // in Volts\n",
"\n",
"//calculation:\n",
"//Efficiency =((V*I - I*I*R - C)/(V*I))*100%\n",
"eff = ((V*I - (I*I*R) - C)/(V*I))*100 // in percent\n",
"\n",
"printf('\n\n Result \n\n')\n",
"printf('\n efficiency is %.1f percent',eff)"
   ]
   }
,
{
		   "cell_type": "markdown",
		   "metadata": {},
		   "source": [
			"## Example 21.28: Example_28.sce"
		   ]
		  },
  {
"cell_type": "code",
	   "execution_count": null,
	   "metadata": {
	    "collapsed": true
	   },
	   "outputs": [],
"source": [
"//Problem 21.28: A 500 V shunt motor runs at its normal speed of 10 rev/s when the armature current is 120 A. The armature resistance is 0.2 ohm.  (a) Determine the speed when the current is 60 A and a resistance of 0.5 ohm is connected in series with the armature, the shunt field remaining constant. (b) Determine the speed when the current is 60 A and the shunt field is reduced to 80% of its normal value by increasin resistance in the field circuit.\n",
"\n",
"//initializing the variables:\n",
"Ia1 = 120; // in A\n",
"Ia2 = 60; // in A\n",
"Ra = 0.2; // in ohm\n",
"n1 = 10; // in rev/sec\n",
"R = 0.5; // in ohm\n",
"x = 0.8;\n",
"V = 500; // in Volts\n",
"\n",
"//calculation:\n",
"//back e.m.f. at Ia1\n",
"E1 = V - Ia1*Ra\n",
"//at Ia2\n",
"E2 = V - Ia2*(Ra + R)\n",
"//E1/E2 = Phi1*n1/Phi2*n2\n",
"Phi2 = Phi1\n",
"n2 = Phi1*n1*E2/(Phi2*E1)\n",
"//Back e.m.f. when Ia2\n",
"E3 = V - Ia2*Ra\n",
"Phi3 = x*Phi1\n",
"n3 = Phi1*n1*E3/(Phi3*E1)\n",
"\n",
"printf('\n\n Result \n\n')\n",
"printf('\n (a)speed n2 is %.2f rev/sec', n2)\n",
"printf('\n (b)speed n3 is %.2f rev/sec', n3)"
   ]
   }
,
{
		   "cell_type": "markdown",
		   "metadata": {},
		   "source": [
			"## Example 21.29: Example_29.sce"
		   ]
		  },
  {
"cell_type": "code",
	   "execution_count": null,
	   "metadata": {
	    "collapsed": true
	   },
	   "outputs": [],
"source": [
"//Problem 21.29: On full-load a 300 V series motor takes 90 A and runs at 15 rev/s. The armature resistance is 0.1 ohm and the series winding resistance is 50 mohm. Determine the speed when developing full load torque but with a 0.2 ohm diverter in parallel with the field winding. (Assume that the flux is proportional to the field current.)\n",
"\n",
"//initializing the variables:\n",
"Ia1 = 90; // in Amperes\n",
"Ra = 0.1; // in ohm\n",
"Rse = 0.05; // in ohm\n",
"Rd = 0.2; // in Ohm\n",
"n1 = 15; // in rev/sec\n",
"V = 300; // in Volts\n",
"\n",
"//calculation:\n",
"//e.m.f. E1\n",
"E1 = V - Ia1*(Ra + Rse)\n",
"//With the Rd diverter in parallel with Rse\n",
"//equivalent resistance, Re\n",
"Re = Rd*Rse/(Rd+Rse)\n",
"//Torque, T proprtional to Ia*Phi and for full load torque, Ia1*Phi1 = Ia2*Phi2\n",
"//Since flux is proportional to field current Phi1 proportional to Ta1 and Phi2 Proportional to I1\n",
"I1 =  (Ia1*Ia1*0.8)^0.5\n",
"//By current division, current I1\n",
"Ia2 = I1/(Rd/(Rd + Rse))\n",
"//Hence e.m.f. E2\n",
"E2 = V - Ia2*(Ra + Re)\n",
"//E1/E2 = Phi1*n1/Phi2*n2\n",
"n2 = E2*Ia1*n1/(I1*E1)\n",
"\n",
"printf('\n\n Result \n\n')\n",
"printf('\n speed n2 is %.2f rev/sec', n2)"
   ]
   }
,
{
		   "cell_type": "markdown",
		   "metadata": {},
		   "source": [
			"## Example 21.30: Example_30.sce"
		   ]
		  },
  {
"cell_type": "code",
	   "execution_count": null,
	   "metadata": {
	    "collapsed": true
	   },
	   "outputs": [],
"source": [
"//Problem 21.30: A series motor runs at 800 rev/min when the voltag is 400 V and the current is 25 A. The armature resistance is 0.4 ohm and the series field resistance is 0.2 ohm. Determine the resistance to be connected in series to reduce the speed to 600 rev/min with the same current.\n",
"\n",
"//initializing the variables:\n",
"Ia1 = 25; // in Amperes\n",
"Ra = 0.4; // in ohm\n",
"Rse = 0.2; // in ohm\n",
"n1 = 800/60; // in rev/sec\n",
"n2 = 600/60; // in rev/sec\n",
"V = 400; // in Volts\n",
"\n",
"//calculation:\n",
"//e.m.f. E1\n",
"E1 = V - Ia1*(Ra + Rse)\n",
"//At n2, since the current is unchanged, the flux is unchanged.\n",
"//E1/E2 = n1/n2\n",
"E2 = E1*n2/n1\n",
"//and E2 = V - Ia1(Ra + Rse + R)\n",
"R = (V - E2)/Ia1 - Ra - Rse\n",
"\n",
"printf('\n\n Result \n\n')\n",
"printf('\n Resistance is %.2f ohm', R)"
   ]
   }
],
"metadata": {
		  "kernelspec": {
		   "display_name": "Scilab",
		   "language": "scilab",
		   "name": "scilab"
		  },
		  "language_info": {
		   "file_extension": ".sce",
		   "help_links": [
			{
			 "text": "MetaKernel Magics",
			 "url": "https://github.com/calysto/metakernel/blob/master/metakernel/magics/README.md"
			}
		   ],
		   "mimetype": "text/x-octave",
		   "name": "scilab",
		   "version": "0.7.1"
		  }
		 },
		 "nbformat": 4,
		 "nbformat_minor": 0
}
