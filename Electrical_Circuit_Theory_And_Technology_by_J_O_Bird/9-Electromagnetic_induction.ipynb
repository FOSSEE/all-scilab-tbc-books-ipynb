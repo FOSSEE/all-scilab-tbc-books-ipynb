{
"cells": [
 {
		   "cell_type": "markdown",
	   "metadata": {},
	   "source": [
       "# Chapter 9: Electromagnetic induction"
	   ]
	},
{
		   "cell_type": "markdown",
		   "metadata": {},
		   "source": [
			"## Example 9.01: Example_1.sce"
		   ]
		  },
  {
"cell_type": "code",
	   "execution_count": null,
	   "metadata": {
	    "collapsed": true
	   },
	   "outputs": [],
"source": [
"//Problem 9.01: A conductor 300 mm long moves at a uniform speed of 4 m/s at right-angles to a uniform magnetic field of flux density 1.25 T. Determine the current flowing in the conductor when (a) its ends are open-circuited, (b) its ends are connected to a load of 20 ohm resistance.\n",
"\n",
"//initializing the variables:\n",
"l = 0.3; // in m\n",
"v = 4; // in m/s\n",
"B = 1.25; // in Tesla\n",
"R = 20; // in ohms\n",
"u0 = 4*%pi*1E-7;\n",
"\n",
"//calculation:\n",
"E = B*l*v\n",
"I2 = E/R\n",
"\n",
"printf('\n\nResult\n\n')\n",
"printf('\n (a)If the ends of the conductor are open circuited no current will flow even though %.1f V has been induced',E)\n",
"printf('\n (b)From Ohm’s law, I = %.3f Ampere',I2)"
   ]
   }
,
{
		   "cell_type": "markdown",
		   "metadata": {},
		   "source": [
			"## Example 9.02: Example_2.sce"
		   ]
		  },
  {
"cell_type": "code",
	   "execution_count": null,
	   "metadata": {
	    "collapsed": true
	   },
	   "outputs": [],
"source": [
"//Problem 9.02: At what velocity must a conductor 75 mm long cut a magnetic field of flux density 0.6 T if an e.m.f. of 9 V is to be induced in it? Assume the conductor, the field and the direction of motion are mutually perpendicular.\n",
"\n",
"//initializing the variables:\n",
"l = 0.075; // in m\n",
"E = 9; // in Volts\n",
"B = 0.6; // in Tesla\n",
"R = 20; // in ohms\n",
"u0 = 4*%pi*1E-7;\n",
"\n",
"//calculation:\n",
"v = E/(B*l)\n",
"\n",
"printf('\n\nResult\n\n')\n",
"printf('\n velocity v = %.0f m/s\n',v)"
   ]
   }
,
{
		   "cell_type": "markdown",
		   "metadata": {},
		   "source": [
			"## Example 9.03: Example_3.sce"
		   ]
		  },
  {
"cell_type": "code",
	   "execution_count": null,
	   "metadata": {
	    "collapsed": true
	   },
	   "outputs": [],
"source": [
"//Problem 9.03: A conductor moves with a velocity of 15 m/s at an angle of (a) 90°, (b) 60° and (c) 30° to a magnetic field produced between two square-faced poles of side length 2 cm. If the flux leaving a pole face is 5 μWb, find the magnitude of the induced e.m.f. in each case.\n",
"\n",
"//initializing the variables:\n",
"l = 0.02; // in m\n",
"b = 0.02; // in m\n",
"v = 15; // in m/s\n",
"R = 20; // in ohms\n",
"Phi = 5E-6; // in Wb\n",
"u0 = 4*%pi*1E-7;\n",
"a1 = 90; // in degrees\n",
"a2 = 60; // in degrees\n",
"a3 = 30; // in degrees\n",
"\n",
"//calculation:\n",
"A = l*b\n",
"B = Phi/A\n",
"E90 = B*l*v*sin(a1*%pi/180)\n",
"E60 = B*l*v*sin(a2*%pi/180)\n",
"E30 = B*l*v*sin(a3*%pi/180)\n",
"\n",
"printf('\n\nResult\n\n')\n",
"printf('\n Induced e.m.f. at angles 90°, 60°, 30° are %.2E V, %.2E V, %.3E V respectively\n',E90,E60,E30)"
   ]
   }
,
{
		   "cell_type": "markdown",
		   "metadata": {},
		   "source": [
			"## Example 9.04: Example_4.sce"
		   ]
		  },
  {
"cell_type": "code",
	   "execution_count": null,
	   "metadata": {
	    "collapsed": true
	   },
	   "outputs": [],
"source": [
"//Problem 9.04: The wing span of a metal aeroplane is 36 m. If the aeroplane is flying at 400 km/h, determine the e.m.f. induced between its wing tips. Assume the vertical component of the earth’s magnetic field is 40 μT\n",
"\n",
"//initializing the variables:\n",
"s = 36; // in m\n",
"v = 400; // in km/h\n",
"u0 = 4*%pi*1E-7;\n",
"B = 40E-6; // in Tesla\n",
"\n",
"//calculation:\n",
"v0 = v*5/18\n",
"E = B*s*v0\n",
"\n",
"printf('\n\nResult\n\n')\n",
"printf('\n Induced e.m.f. = %.2f V\n',E)"
   ]
   }
,
{
		   "cell_type": "markdown",
		   "metadata": {},
		   "source": [
			"## Example 9.06: Example_6.sce"
		   ]
		  },
  {
"cell_type": "code",
	   "execution_count": null,
	   "metadata": {
	    "collapsed": true
	   },
	   "outputs": [],
"source": [
"//Problem 9.06: Determine the e.m.f. induced in a coil of 200 turns when there is a change of flux of 25 mWb linking with it in 50 ms\n",
"\n",
"//initializing the variables:\n",
"N = 200; // no. of turns\n",
"dt = 0.050; // change of time in sec\n",
"u0 = 4*%pi*1E-7;\n",
"dPhi = 0.025; // change of flux in Wb\n",
"\n",
"//calculation:\n",
"E = -1*N*dPhi/dt\n",
"\n",
"printf('\n\nResult\n\n')\n",
"printf('\n Induced e.m.f. = %.0f V\n',E)"
   ]
   }
,
{
		   "cell_type": "markdown",
		   "metadata": {},
		   "source": [
			"## Example 9.07: Example_7.sce"
		   ]
		  },
  {
"cell_type": "code",
	   "execution_count": null,
	   "metadata": {
	    "collapsed": true
	   },
	   "outputs": [],
"source": [
"//Problem 9.07: A flux of 400 μWb passing through a 150-turn coil is reversed in 40 ms. Find the average e.m.f. induced.\n",
"\n",
"//initializing the variables:\n",
"N = 150; // no. of turns\n",
"dt = 0.040; // change of time in sec\n",
"u0 = 4*%pi*1E-7;\n",
"dPhi = 800E-6; // change of flux in Wb\n",
"\n",
"//calculation:\n",
"//Since the flux reverses, the flux changes from C400 μWb to 400 μWb, a total change of flux of 800 μWb\n",
"E = -1*N*dPhi/dt\n",
"\n",
"printf('\n\nResult\n\n')\n",
"printf('\n Induced e.m.f. = %.0f V\n',E)"
   ]
   }
,
{
		   "cell_type": "markdown",
		   "metadata": {},
		   "source": [
			"## Example 9.08: Example_8.sce"
		   ]
		  },
  {
"cell_type": "code",
	   "execution_count": null,
	   "metadata": {
	    "collapsed": true
	   },
	   "outputs": [],
"source": [
"//Problem 9.08: Calculate the e.m.f. induced in a coil of inductance 12 H by a current changing at the rate of 4 A/s\n",
"\n",
"//initializing the variables:\n",
"L = 12; // in Henry\n",
"u0 = 4*%pi*1E-7;\n",
"dIdt = 4; // change of current with change in time in A/s\n",
"\n",
"//calculation:\n",
"E = -1*L*dIdt\n",
"\n",
"printf('\n\nResult\n\n')\n",
"printf('\n Induced e.m.f. = %.0f V\n',E)"
   ]
   }
,
{
		   "cell_type": "markdown",
		   "metadata": {},
		   "source": [
			"## Example 9.09: Example_9.sce"
		   ]
		  },
  {
"cell_type": "code",
	   "execution_count": null,
	   "metadata": {
	    "collapsed": true
	   },
	   "outputs": [],
"source": [
"//Problem 9.09: An e.m.f. of 1.5 kV is induced in a coil when a current of 4 A reduced to 0 A in a 8 ms. find the inductance of the coil.\n",
"\n",
"//initializing the variables:\n",
"E = 1500; // in Volts\n",
"dt = 0.008; // Change of time in sec\n",
"dI = 4; // change of current in A/s\n",
"\n",
"//calculation:\n",
"L = abs(E)*dt/dI\n",
"\n",
"printf('\n\n Result \n\n')\n",
"printf('\n Inductance L = %.0f H\n',L)"
   ]
   }
,
{
		   "cell_type": "markdown",
		   "metadata": {},
		   "source": [
			"## Example 9.10: Example_10.sce"
		   ]
		  },
  {
"cell_type": "code",
	   "execution_count": null,
	   "metadata": {
	    "collapsed": true
	   },
	   "outputs": [],
"source": [
"//Problem 9.10: An 8 H inductor has a current of 3 A flowing through it. How much energy is stored in the magnetic field of the inductor?\n",
"\n",
"//initializing the variables:\n",
"L = 8; // in Henry\n",
"I = 3; // in Amperes\n",
"\n",
"//calculation:\n",
"W = L*I*I/2\n",
"\n",
"printf('\n\n Result \n\n')\n",
"printf('\n Energy stored, W = %.0f J\n',W)"
   ]
   }
,
{
		   "cell_type": "markdown",
		   "metadata": {},
		   "source": [
			"## Example 9.11: Example_11.sce"
		   ]
		  },
  {
"cell_type": "code",
	   "execution_count": null,
	   "metadata": {
	    "collapsed": true
	   },
	   "outputs": [],
"source": [
"//Problem 9.11: Calculate the coil inductance when a current of 4 A in a coil of 800 turns produces a flux of 5 mWb linking with the coil.\n",
"\n",
"//initializing the variables:\n",
"I = 4; // in Amperes\n",
"N = 800; //turns\n",
"Phi = 0.005; // in Wb\n",
"\n",
"//calculation:\n",
"L = N*Phi/I\n",
"\n",
"printf('\n\n Result \n\n')\n",
"printf('\n Inductance L = %.0f H\n',L)"
   ]
   }
,
{
		   "cell_type": "markdown",
		   "metadata": {},
		   "source": [
			"## Example 9.12: Example_12.sce"
		   ]
		  },
  {
"cell_type": "code",
	   "execution_count": null,
	   "metadata": {
	    "collapsed": true
	   },
	   "outputs": [],
"source": [
"//Problem 9.12: A flux of 25 mWb links with a 1500 turn coil when a current of 3 A passes through the coil. Calculate (a) the inductance of the coil, (b) the energy stored in the magnetic field, and (c) the average e.m.f. induced if the current falls to zero in 150 ms.\n",
"\n",
"//initializing the variables:\n",
"I1 = 3; // in Amperes\n",
"I2 = 0; // in Amperes\n",
"dt = 0.150; // in secs\n",
"N = 1500; //turns\n",
"Phi = 0.025; // in Wb\n",
"\n",
"//calculation:\n",
"L = N*Phi/I1\n",
"W = L*I1*I1/2\n",
"dI = I1 - I2\n",
"E = -1*L*dI/dt\n",
"\n",
"printf('\n\n Result \n\n')\n",
"printf('\n (a)Inductance L = %.1f H',L)\n",
"printf('\n (b)energy stored W = %.2f J',W)\n",
"printf('\n (c)e.m.f. induced = %.0f V',E)"
   ]
   }
,
{
		   "cell_type": "markdown",
		   "metadata": {},
		   "source": [
			"## Example 9.13: Example_13.sce"
		   ]
		  },
  {
"cell_type": "code",
	   "execution_count": null,
	   "metadata": {
	    "collapsed": true
	   },
	   "outputs": [],
"source": [
"//Problem 9.13: A 750 turn coil of inductance 3 H carries a current of 2 A. Calculate the flux linking the coil and the e.m.f. induced in the coil when the current collapses to zero in 20 ms\n",
"\n",
"//initializing the variables:\n",
"I1 = 2; // in Amperes\n",
"I2 = 0; // in Amperes\n",
"dt = 0.020; // in secs\n",
"N = 750; //turns\n",
"L = 3; // in Henry\n",
"\n",
"//calculation:\n",
"Phi = L*I1/N\n",
"dI = I1 - I2\n",
"E = -1*L*dI/dt\n",
"\n",
"printf('\n\n Result \n\n')\n",
"printf('\n (a)Flux = %.3f Wb',Phi)\n",
"printf('\n (b)e.m.f. induced = %.0f V',E)"
   ]
   }
,
{
		   "cell_type": "markdown",
		   "metadata": {},
		   "source": [
			"## Example 9.14: Example_14.sce"
		   ]
		  },
  {
"cell_type": "code",
	   "execution_count": null,
	   "metadata": {
	    "collapsed": true
	   },
	   "outputs": [],
"source": [
"//Problem 9.14: Calculate the mutual inductance between two coils when a current changing at 200 A/s in one coil induces an e.m.f. of 1.5 V in the other.\n",
"\n",
"//initializing the variables:\n",
"dI1dt = 200; // change of current with change in time in A/s\n",
"N = 2; // no. of coils\n",
"E2 = 1.5; // in Volts\n",
"\n",
"//calculation:\n",
"M = abs(E2)/dI1dt\n",
"\n",
"printf('\n\n Result \n\n')\n",
"printf('\n mutual inductance, M = %.4f H\n', M)"
   ]
   }
,
{
		   "cell_type": "markdown",
		   "metadata": {},
		   "source": [
			"## Example 9.15: Example_15.sce"
		   ]
		  },
  {
"cell_type": "code",
	   "execution_count": null,
	   "metadata": {
	    "collapsed": true
	   },
	   "outputs": [],
"source": [
"//Problem 9.15: The mutual inductance between two coils is 18 mH. Calculate the steady rate of change of current in one coil to induce an e.m.f. of 0.72 V in the other.\n",
"\n",
"//initializing the variables:\n",
"M = 0.018; // in Henry\n",
"N = 2; // no. of coils\n",
"E2 = 0.72; // in Volts\n",
"\n",
"//calculation:\n",
"dI1dt = abs(E2)/M\n",
"\n",
"printf('\n\n Result \n\n')\n",
"printf('\n rate of change of current dI1/dt = %.0f A/s\n', dI1dt)"
   ]
   }
,
{
		   "cell_type": "markdown",
		   "metadata": {},
		   "source": [
			"## Example 9.16: Example_16.sce"
		   ]
		  },
  {
"cell_type": "code",
	   "execution_count": null,
	   "metadata": {
	    "collapsed": true
	   },
	   "outputs": [],
"source": [
"//Problem 9.16: Two coils have a mutual inductance of 0.2 H. If the current in one coil is changed from 10 A to 4 A in 10 ms, calculate (a) the average induced e.m.f. in the second coil, (b) the change of flux linked with the second coil if it is wound with 500 turns.\n",
"\n",
"//initializing the variables:\n",
"M = 0.2; // in Henry\n",
"I1 = 10; // in Amperes\n",
"I2 = 4; // in Amperes\n",
"dt = 0.010; // in secs\n",
"N = 500; // turns\n",
"\n",
"//calculation:\n",
"dI1dt = (I1 -I2)/dt \n",
"E2 = -1*dI1dt*M\n",
"dPhi = abs(E2)*dt/N\n",
"\n",
"printf('\n\n Result \n\n')\n",
"printf('\n (a)Induced e.m.f. E2 = %.0f V', E2)\n",
"printf('\n (b)change of flux = %.4f Wb', dPhi)"
   ]
   }
],
"metadata": {
		  "kernelspec": {
		   "display_name": "Scilab",
		   "language": "scilab",
		   "name": "scilab"
		  },
		  "language_info": {
		   "file_extension": ".sce",
		   "help_links": [
			{
			 "text": "MetaKernel Magics",
			 "url": "https://github.com/calysto/metakernel/blob/master/metakernel/magics/README.md"
			}
		   ],
		   "mimetype": "text/x-octave",
		   "name": "scilab",
		   "version": "0.7.1"
		  }
		 },
		 "nbformat": 4,
		 "nbformat_minor": 0
}
