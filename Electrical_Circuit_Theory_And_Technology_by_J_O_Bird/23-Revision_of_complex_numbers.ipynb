{
"cells": [
 {
		   "cell_type": "markdown",
	   "metadata": {},
	   "source": [
       "# Chapter 23: Revision of complex numbers"
	   ]
	},
{
		   "cell_type": "markdown",
		   "metadata": {},
		   "source": [
			"## Example 23.01: Example_1.sce"
		   ]
		  },
  {
"cell_type": "code",
	   "execution_count": null,
	   "metadata": {
	    "collapsed": true
	   },
	   "outputs": [],
"source": [
"//Problem 23.01: In an electrical circuit the total impedance ZT is given by ZT = (Z1*Z2/(Z1 + Z2))+ Z3.   Determine ZT in (a + jb) form, correct to two decimal places, when Z1 = 5 - j3, Z2 = 4 - i7 and Z3 = 3.9 - i6.7.\n",
"\n",
"//initializing the variables:\n",
"Z1 = 5 - 3*%i;\n",
"Z2 = 4 + 7*%i;\n",
"Z3 = 3.9 - 6.7*%i;\n",
"\n",
"//calculation:\n",
"ZT = (Z1*Z2/(Z1 + Z2))+ Z3\n",
"y = imag(ZT)\n",
"x = real(ZT)\n",
"\n",
"printf('\n\n Result \n\n')\n",
"printf('\n ZT is %.2f + (%.2f)i', x,y)"
   ]
   }
,
{
		   "cell_type": "markdown",
		   "metadata": {},
		   "source": [
			"## Example 23.02: Example_2.sce"
		   ]
		  },
  {
"cell_type": "code",
	   "execution_count": null,
	   "metadata": {
	    "collapsed": true
	   },
	   "outputs": [],
"source": [
"//Problem 23.02: Given Z1 = 3 + i4, Z2 = 2 - i5 determine in cartesian form correct to three decimal places:\n",
"//(a)1/Z1, (b)1/Z2,  (c)1/Z1 + 1/Z2,  (d)1/(1/Z1 +  1/Z2)\n",
"\n",
"//initializing the variables:\n",
"Z1 = 3 + 4*%i;\n",
"Z2 = 2 - 5*%i;\n",
"\n",
"//calculation:\n",
"za = 1/Z1\n",
"zb = 1/Z2\n",
"zc = za + zb\n",
"zd = 1/zc\n",
"zax = real(za)\n",
"zay = imag(za)\n",
"zbx = real(zb)\n",
"zby = imag(zb)\n",
"zcx = real(zc)\n",
"zcy = imag(zc)\n",
"zdx = real(zd)\n",
"zdy = imag(zd)\n",
"\n",
"printf('\n\n Result \n\n')\n",
"printf('\n (a)1/Z1 is %.3f + (%.3f)i', zax,zay)\n",
"printf('\n (b)1/Z2 is %.3f + (%.3f)i', zbx,zby)\n",
"printf('\n (c)1/Z1 + 1/Z2 is %.3f + (%.3f)i', zcx,zcy)\n",
"printf('\n (d)1/(1/Z1 + 1/Z2) is %.3f + (%.3f)i', zdx,zdy)"
   ]
   }
,
{
		   "cell_type": "markdown",
		   "metadata": {},
		   "source": [
			"## Example 23.03: Example_3.sce"
		   ]
		  },
  {
"cell_type": "code",
	   "execution_count": null,
	   "metadata": {
	    "collapsed": true
	   },
	   "outputs": [],
"source": [
"//Problem 23.03: Solve the following complex equations:\n",
"//(a) 3(a + ib) = 9-i2\n",
"//(b) (2+i)(-2+i) = x+iy\n",
"//(c) (a-i(2b))+(b-i3a) = 5+i2\n",
"\n",
"//initializing the variables:\n",
"Z1 = 9 - 2*%i;\n",
"Z2 = 2 + 1*%i;\n",
"Z3 = -2 + 1*%i;\n",
"Z4 = 5 + 2*%i;\n",
"\n",
"//calculation:\n",
"za = Z1/3\n",
"zb = Z2*Z3\n",
"zca = (2*real(Z4) + imag(Z4))/-1\n",
"zcb = real(Z4) - zca\n",
"zaa = real(za)\n",
"zab = imag(za)\n",
"zbx = real(zb)\n",
"zby = imag(zb)\n",
"\n",
"printf('\n\n Result \n\n')\n",
"printf('\n (a)a and b are %.0f and %.2f resp.', zaa,zab)\n",
"printf('\n (b)x and y are %.0f and %.0f resp.', zbx,zby)\n",
"printf('\n (c)a and b are %.0f and %.0f resp.', zca,zcb)"
   ]
   }
,
{
		   "cell_type": "markdown",
		   "metadata": {},
		   "source": [
			"## Example 23.05: Example_5.sce"
		   ]
		  },
  {
"cell_type": "code",
	   "execution_count": null,
	   "metadata": {
	    "collapsed": true
	   },
	   "outputs": [],
"source": [
"//Problem 23.05: Convert (5,-132°) into a + ib form correct to four significant figures.\n",
"\n",
"//initializing the variables:\n",
"r = 5; // magnitude\n",
"theta = -132; // in degree\n",
"\n",
"//calculation:\n",
"x = r*sin(theta*%pi/180)\n",
"y = r*cos(theta*%pi/180)\n",
"z = x+%i*y\n",
"\n",
"printf('\n\n Result \n\n')\n",
"printf('\n Z is %.3f + (%.3f)i', x,y)"
   ]
   }
,
{
		   "cell_type": "markdown",
		   "metadata": {},
		   "source": [
			"## Example 23.06: Example_6.sce"
		   ]
		  },
  {
"cell_type": "code",
	   "execution_count": null,
	   "metadata": {
	    "collapsed": true
	   },
	   "outputs": [],
"source": [
"//Problem 23.06: Two impedances in an electrical network are given by Z1 = (4.7,35°) and Z2 = (7.3, -48)°. Determine in polar form the total impedance ZT given that ZT = Z1*Z2/(Z1 + Z2)\n",
"\n",
"//initializing the variables:\n",
"r1 = 4.7; // magnitude\n",
"theta1 = 35; // in degree\n",
"r2 = 7.3; // magnitude\n",
"theta2 = -48; // in degree\n",
"\n",
"//calculation:\n",
"x1 = r1*cos(theta1*%pi/180)\n",
"y1 = r1*sin(theta1*%pi/180)\n",
"z1 = x1+%i*y1\n",
"x2 = r2*cos(theta2*%pi/180)\n",
"y2 = r2*sin(theta2*%pi/180)\n",
"z2 = x2+%i*y2\n",
"z3 = z1*z2/(z1 + z2)\n",
"x3 = real(z3)\n",
"y3 = imag(z3)\n",
"r3 = (x3^2 + y3^2)^0.5\n",
"theta3 = atan(y3/x3)*180/%pi\n",
"\n",
"printf('\n\n Result \n\n')\n",
"printf('\n ZT is (%.2f/_%.2f°)', r3,theta3)"
   ]
   }
,
{
		   "cell_type": "markdown",
		   "metadata": {},
		   "source": [
			"## Example 23.07: Example_7.sce"
		   ]
		  },
  {
"cell_type": "code",
	   "execution_count": null,
	   "metadata": {
	    "collapsed": true
	   },
	   "outputs": [],
"source": [
"//Problem 23.07: Determine (-2 + i3)^5 in polar and in cartesian form.\n",
"\n",
"//initializing the variables:\n",
"z = -2 + %i*3;\n",
"\n",
"//calculation:\n",
"zc = z^5\n",
"x = real(zc)\n",
"y = imag(zc)\n",
"r = (x^2 + y^2)^0.5\n",
"theta = atan(y/x)*180/%pi\n",
"if ((x<0)&(y<0)) then\n",
"    theta = theta -180;\n",
"elseif ((x<0)&(y>0)) then\n",
"    theta = theta +180;\n",
"end\n",
"\n",
"printf('\n\n Result \n\n')\n",
"printf('\n Z is %.0f + (%.0f)i', x,y)\n",
"printf('\n ZT is (%.1f/_%.2f°)', r,theta)"
   ]
   }
,
{
		   "cell_type": "markdown",
		   "metadata": {},
		   "source": [
			"## Example 23.08: Example_8.sce"
		   ]
		  },
  {
"cell_type": "code",
	   "execution_count": null,
	   "metadata": {
	    "collapsed": true
	   },
	   "outputs": [],
"source": [
"//Problem 23.08: Determine the two square roots of the complex number (12 + i5) in cartesian and polar form, correct to three significant figures. Show the roots on an Argand diagram.\n",
"\n",
"//initializing the variables:\n",
"z = 12 + %i*5;\n",
"\n",
"//calculation:\n",
"x = real(z)\n",
"y = imag(z)\n",
"r = (x^2 + y^2)^0.5\n",
"theta1 = atan(y/x)*180/%pi\n",
"if ((x<0)&(y<0)) then\n",
"    theta1 = theta1 -180;\n",
"elseif ((x<0)&(y>0)) then\n",
"    theta1 = theta1 +180;\n",
"end\n",
"theta2 = theta1 + 360\n",
"rtheta1 = theta1/2\n",
"rtheta2 = theta2/2\n",
"if (rtheta2 > 180) then\n",
"    rtheta2 = rtheta2 -360;\n",
"elseif ((x<0)&(y>0)) then\n",
"    rtheta2 = rtheta2 +360;\n",
"end\n",
"rr = r^0.5\n",
"x1 = rr*cos(rtheta1*%pi/180)\n",
"y1 = rr*sin(rtheta1*%pi/180)\n",
"z1 = x1 + %i*y1\n",
"x2 = rr*cos(rtheta2*%pi/180)\n",
"y2 = rr*sin(rtheta2*%pi/180)\n",
"z2 = x2 + %i*y2\n",
"\n",
"printf('\n\n Result \n\n')\n",
"printf('\n two roots are (%.2f + (%.2f)i) and (%.2f + (%.2f)i)', x1,y1,x2,y2)\n",
"printf('\n two roots are (%.1f/_%.2f°) and (%.1f/_%.2f°)', rr,rtheta1, rr,rtheta2)"
   ]
   }
],
"metadata": {
		  "kernelspec": {
		   "display_name": "Scilab",
		   "language": "scilab",
		   "name": "scilab"
		  },
		  "language_info": {
		   "file_extension": ".sce",
		   "help_links": [
			{
			 "text": "MetaKernel Magics",
			 "url": "https://github.com/calysto/metakernel/blob/master/metakernel/magics/README.md"
			}
		   ],
		   "mimetype": "text/x-octave",
		   "name": "scilab",
		   "version": "0.7.1"
		  }
		 },
		 "nbformat": 4,
		 "nbformat_minor": 0
}
