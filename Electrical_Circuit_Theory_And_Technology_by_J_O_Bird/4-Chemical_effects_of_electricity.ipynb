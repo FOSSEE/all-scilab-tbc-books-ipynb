{
"cells": [
 {
		   "cell_type": "markdown",
	   "metadata": {},
	   "source": [
       "# Chapter 4: Chemical effects of electricity"
	   ]
	},
{
		   "cell_type": "markdown",
		   "metadata": {},
		   "source": [
			"## Example 4.01: Example_1.sce"
		   ]
		  },
  {
"cell_type": "code",
	   "execution_count": null,
	   "metadata": {
	    "collapsed": true
	   },
	   "outputs": [],
"source": [
"//Problem 4.01: Eight cells, each with an internal resistance of 0.2 ohms and an e.m.f. of 2.2 V are connected (a) in series, (b) in parallel. Determine the e.m.f. and the internal resistance of the batteries so formed.\n",
"\n",
"//initializing the variables:\n",
"R = 0.2; // in ohms\n",
"n = 8; // no. of cells\n",
"e = 2.2; // in volts\n",
"\n",
"//calculation:\n",
"es = n*e\n",
"ep = e\n",
"Rs = n*R\n",
"Rp = R/n\n",
"\n",
"printf('\n\nResult\n\n')\n",
"printf('\n(a)Resistance %.1f ohms',Rs)\n",
"printf('\n(a)e.m.f %.1f Volts(V)',es)\n",
"printf('\n(b)Resistance %.3f ohms',Rp)\n",
"printf('\n(b)e.m.f %.1f Volts(V)',ep)"
   ]
   }
,
{
		   "cell_type": "markdown",
		   "metadata": {},
		   "source": [
			"## Example 4.02: Example_2.sce"
		   ]
		  },
  {
"cell_type": "code",
	   "execution_count": null,
	   "metadata": {
	    "collapsed": true
	   },
	   "outputs": [],
"source": [
"//Problem 4.02: A cell has an internal resistance of 0.02 ohms and an e.m.f. of 2.0 V. Calculate its terminal p.d. if it delivers (a) 5 A, (b) 50 A\n",
"\n",
"//initializing the variables:\n",
"r = 0.02; // in ohms\n",
"e = 2; // in volts\n",
"I1 = 5; // in Amperes\n",
"I2 = 50; // in Amperes\n",
"\n",
"//calculation:\n",
"pd1 = e - (I1*r)\n",
"pd2 = e - (I2*r)\n",
"\n",
"printf('\n\nResult\n\n')\n",
"printf('\n(a)p.d %.1f Volts(V)',pd1)\n",
"printf('\n(b)p.d %.1f Volts(V)\n',pd2)"
   ]
   }
,
{
		   "cell_type": "markdown",
		   "metadata": {},
		   "source": [
			"## Example 4.03: Example_3.sce"
		   ]
		  },
  {
"cell_type": "code",
	   "execution_count": null,
	   "metadata": {
	    "collapsed": true
	   },
	   "outputs": [],
"source": [
"//Problem 4.03: The p.d. at the terminals of a battery is 25 V when no load is connected and 24 V when a load taking 10 A is connected. Determine the internal resistance of the battery.\n",
"\n",
"//initializing the variables:\n",
"e1 = 25; // in volts\n",
"e2 = 24; // in volts\n",
"I2 = 10; // in Amperes\n",
"\n",
"//calculation:\n",
"r = (e1 - e2)/I2\n",
"\n",
"printf('\n\nResult\n\n')\n",
"printf('\n Resistance %.1f Ohms\n',r)"
   ]
   }
,
{
		   "cell_type": "markdown",
		   "metadata": {},
		   "source": [
			"## Example 4.04: Example_4.sce"
		   ]
		  },
  {
"cell_type": "code",
	   "execution_count": null,
	   "metadata": {
	    "collapsed": true
	   },
	   "outputs": [],
"source": [
"//Problem 4.04: Ten 1.5 V cells, each having an internal resistance of 0.2 ohms, are connected in series to a load of 58 ohms . Determine(a) the current flowing in the circuit and (b) the p.d. at the battery terminals.\n",
"\n",
"//initializing the variables:\n",
"r = 0.2; // in ohms\n",
"n = 10; // no. of cells\n",
"e = 1.5; // in volts\n",
"R = 58; // in ohms\n",
"\n",
"//calculation:\n",
"es = n*e\n",
"rs = n*r\n",
"I = es/(rs + R)\n",
"pd = es - (I*rs)\n",
"\n",
"printf('\n\nResult\n\n')\n",
"printf('\n (a)Current %.2f Amperes(A)',I)\n",
"printf('\n (b)p.d %.1f Volts(V)\n',pd)"
   ]
   }
],
"metadata": {
		  "kernelspec": {
		   "display_name": "Scilab",
		   "language": "scilab",
		   "name": "scilab"
		  },
		  "language_info": {
		   "file_extension": ".sce",
		   "help_links": [
			{
			 "text": "MetaKernel Magics",
			 "url": "https://github.com/calysto/metakernel/blob/master/metakernel/magics/README.md"
			}
		   ],
		   "mimetype": "text/x-octave",
		   "name": "scilab",
		   "version": "0.7.1"
		  }
		 },
		 "nbformat": 4,
		 "nbformat_minor": 0
}
