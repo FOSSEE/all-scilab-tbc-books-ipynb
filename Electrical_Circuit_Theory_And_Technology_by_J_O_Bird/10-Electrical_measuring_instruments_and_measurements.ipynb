{
"cells": [
 {
		   "cell_type": "markdown",
	   "metadata": {},
	   "source": [
       "# Chapter 10: Electrical measuring instruments and measurements"
	   ]
	},
{
		   "cell_type": "markdown",
		   "metadata": {},
		   "source": [
			"## Example 10.01: Example_1.sce"
		   ]
		  },
  {
"cell_type": "code",
	   "execution_count": null,
	   "metadata": {
	    "collapsed": true
	   },
	   "outputs": [],
"source": [
"//Problem 10.01: A moving-coil instrument gives a f.s.d. when the current is 40 mA and its resistance is 25 ohms. Calculate the value of the shunt to be connected in parallel with the meter to enable it to be used as an ammeter for measuring currents up to 50 A.\n",
"\n",
"//initializing the variables:\n",
"Ia = 0.040; // in Amperes\n",
"I = 50; // in Amperes\n",
"ra = 25; // in ohms\n",
"\n",
"\n",
"//calculation:\n",
"Is = I - Ia\n",
"V = Ia*ra\n",
"Rs = V/Is\n",
"\n",
"printf('\n\n Result \n\n')\n",
"printf('\n  value of the shunt to be connected in parallel = %.3E ohms',Rs)"
   ]
   }
,
{
		   "cell_type": "markdown",
		   "metadata": {},
		   "source": [
			"## Example 10.02: Example_2.sce"
		   ]
		  },
  {
"cell_type": "code",
	   "execution_count": null,
	   "metadata": {
	    "collapsed": true
	   },
	   "outputs": [],
"source": [
"//Problem 10.02: A moving-coil instrument having a resistance of 10 ohms, gives a f.s.d. when the current is 8 mA. Calculate the value of the multiplier to be connected in series with the instrument so that it can be used as a voltmeter for measuring p.d.s. up to 100 V.\n",
"\n",
"//initializing the variables:\n",
"V = 100; // in volts\n",
"I = 0.008; // in Amperes\n",
"ra = 10; // in ohms\n",
"\n",
"\n",
"//calculation:\n",
"Rm = (V/I) - ra\n",
"\n",
"printf('\n\n Result \n\n')\n",
"printf('\n value of the multiplier to be connected in series = %.3Eohms\n', Rm)"
   ]
   }
,
{
		   "cell_type": "markdown",
		   "metadata": {},
		   "source": [
			"## Example 10.03: Example_3.sce"
		   ]
		  },
  {
"cell_type": "code",
	   "execution_count": null,
	   "metadata": {
	    "collapsed": true
	   },
	   "outputs": [],
"source": [
"//Problem 10.03: Calculate the power dissipated by the voltmeter and by resistor R in Figure 10.9 when (a) R = 250 ohms (b) R = 2 Mohms. Assume that the voltmeter sensitivity (sometimes called figure of merit) is 10 kohms/V.\n",
"\n",
"//initializing the variables:\n",
"fsd = 200; // in volts\n",
"R1 = 250; // in ohms\n",
"R2 = 2E6; // in ohms\n",
"sensitivity = 10000; // in ohms/V\n",
"\n",
"//calculation:\n",
"Rv = sensitivity*fsd\n",
"Iv = V/Rv\n",
"Pv = V*Iv\n",
"I1 = V/R1\n",
"P1 = V*I1\n",
"I2 = V/R2\n",
"P2 = V*I2\n",
"\n",
"printf('\n\n Result \n\n')\n",
"printf('\n (a)the power dissipated by the voltmeter = %.2E W', Pv)\n",
"printf('\n (b)the power dissipated by resistor 250 ohm = %.0f W', P1)\n",
"printf('\n (c)the power dissipated by resistor 2 Mohm = %.2E W', P2)"
   ]
   }
,
{
		   "cell_type": "markdown",
		   "metadata": {},
		   "source": [
			"## Example 10.04: Example_4.sce"
		   ]
		  },
  {
"cell_type": "code",
	   "execution_count": null,
	   "metadata": {
	    "collapsed": true
	   },
	   "outputs": [],
"source": [
"//Problem 10.04: An ammeter has a f.s.d. of 100 mA and a resistance of 50 ohms. The ammeter is used to measure the current in a load of resistance 500 ohms when the supply voltage is 10 V. Calculate (a) the ammeter reading expected (neglecting its resistance), (b) the actual current in the circuit, (c) the power dissipaed in the ammeter, and (d) the power dissipated in the load.\n",
"\n",
"//initializing the variables:\n",
"V = 10; // in volts\n",
"fsd = 0.1; // in Amperes\n",
"ra = 50; // in ohms\n",
"R = 500; // in ohms\n",
"\n",
"//calculation:\n",
"Ie = V/R\n",
"Ia = V/(R + ra)\n",
"Pa = Ia*Ia*ra\n",
"PR = Ia*Ia*R\n",
"\n",
"printf('\n\n Result \n\n')\n",
"printf('\n (a)expected ammeter reading = %.2E A\', Ie)\n",
"printf('\n (b)Actual ammeter reading = %.2E A',Ia)\n",
"printf('\n (c)Power dissipated in the ammeter = %.2E W', Pa)\n",
"printf('\n (d)Power dissipated in the load resistor = %.2E W',PR)"
   ]
   }
,
{
		   "cell_type": "markdown",
		   "metadata": {},
		   "source": [
			"## Example 10.05: Example_5.sce"
		   ]
		  },
  {
"cell_type": "code",
	   "execution_count": null,
	   "metadata": {
	    "collapsed": true
	   },
	   "outputs": [],
"source": [
"//Problem 10.05: A voltmeter having a f.s.d. of 100 V and a sensitivity of 1.6 kohms/V is used to measure voltage V1 in the circuit of Figure 10.11. Determine (a) the value of voltage V1 with the voltmeter not connected, and (b) the voltage indicated by the voltmeter when connected between A and B.\n",
"\n",
"//initializing the variables:\n",
"fsd = 100; // in volts\n",
"R1 = 40E3; // in ohms\n",
"R2 = 60E3; // in ohms\n",
"sensitivity = 1600; // in ohms/V\n",
"\n",
"//calculation:\n",
"V1 = (R1/(R1 + R2))*fsd\n",
"Rv = fsd*sensitivity\n",
"Rep = R1*Rv/(R1 + Rv)\n",
"V1n = (Rep/(Rep + R2))*fsd\n",
"\n",
"printf('\n\n Result \n\n')\n",
"printf('\n (a)the value of voltage V1 with the voltmeter6 not connected = %.0f V', V1)\n",
"printf('\n (b)the voltage indicated by the voltmeter when connected between A and B = %.2f V',V1n)"
   ]
   }
,
{
		   "cell_type": "markdown",
		   "metadata": {},
		   "source": [
			"## Example 10.06: Example_6.sce"
		   ]
		  },
  {
"cell_type": "code",
	   "execution_count": null,
	   "metadata": {
	    "collapsed": true
	   },
	   "outputs": [],
"source": [
"//Problem 10.06: (a) A current of 20 A flows through a load having a resistance of 2 ohms. Determine the power dissipated in the load. (b) A wattmeter, whose current coil has a resistance of 0.01 ohm is connected as shown in Figure 10.13. Determine the wattmeter reading.\n",
"\n",
"//initializing the variables:\n",
"I = 20; // in amperes\n",
"R = 2; // in ohms\n",
"Rw = 0.01; // in ohms\n",
"\n",
"//calculation:\n",
"PR = I*I*R\n",
"Rt = R + Rw\n",
"Pw = I*I*Rt\n",
"\n",
"printf('\n\n Result \n\n')\n",
"printf('\n (a)the power dissipated in the load = %.0f W', PR)\n",
"printf('\n (b)the wattmeter reading. = %.0f W\n',Pw)"
   ]
   }
,
{
		   "cell_type": "markdown",
		   "metadata": {},
		   "source": [
			"## Example 10.08: Example_8.sce"
		   ]
		  },
  {
"cell_type": "code",
	   "execution_count": null,
	   "metadata": {
	    "collapsed": true
	   },
	   "outputs": [],
"source": [
"//Problem 10.08: (For the c.r.o. square voltage waveform shown in Figure 10.15 determine (a) the periodic time, (b) the frequency and (c) the peak-to-peak voltage. The ‘time/cm’ (or timebase control) switch is on 100 μs/cm and the ‘volts/cm’ (or signal amplitude control) switch is on 20 V/cm.\n",
"//(In Figures 10.15 to 10.18 assume that the squares shown are 1 cm by 1 cm)\n",
"\n",
"//initializing the variables:\n",
"tc = 100E-6; // in s/cm\n",
"Vc = 20; // in V/cm\n",
"w = 5.2; // in cm ( width of one complete cycle )\n",
"h = 3.6; // in cm ( peak-to-peak height of the display )\n",
"\n",
"//calculation:\n",
"T = w*tc\n",
"f = 1/T\n",
"ptpv = h*Vc\n",
"\n",
"printf('\n\n Result \n\n')\n",
"printf('\n (a)the periodic time, T = %.2E sec', T)\n",
"printf('\n (b)Frequency, f = %.0f Hz',f)\n",
"printf('\n (c)the peak-to-peak voltage = %.0f V',ptpv)"
   ]
   }
,
{
		   "cell_type": "markdown",
		   "metadata": {},
		   "source": [
			"## Example 10.09: Example_9.sce"
		   ]
		  },
  {
"cell_type": "code",
	   "execution_count": null,
	   "metadata": {
	    "collapsed": true
	   },
	   "outputs": [],
"source": [
"//Problem 10.09: (For the c.r.o. display of a pulse waveform shown in Figure 10.16 the ‘time/cm’ switch is on 50 ms/cm and the ‘volts/cm’ switch is on 0.2 V/cm. Determine (a) the periodic time, (b) the frequency, (c) the magnitude of the pulse voltage.\n",
"//(In Figures 10.15 to 10.18 assume that the squares shown are 1 cm by 1 cm)\n",
"\n",
"//initializing the variables:\n",
"tc = 50E-3; // in s/cm\n",
"Vc = 0.2; // in V/cm\n",
"w = 3.5; // in cm ( width of one complete cycle )\n",
"h = 3.4; // in cm ( peak-to-peak height of the display )\n",
"\n",
"//calculation:\n",
"T = w*tc\n",
"f = 1/T\n",
"ptpv = h*Vc\n",
"\n",
"printf('\n\n Result \n\n')\n",
"printf('\n (a)the periodic time, T = %.2E sec ',T)\n",
"printf('\n (b)Frequency, f = %.2f Hz',f)\n",
"printf('\n (c)the peak-to-peak voltage = %.2f V',ptpv)"
   ]
   }
,
{
		   "cell_type": "markdown",
		   "metadata": {},
		   "source": [
			"## Example 10.10: Example_10.sce"
		   ]
		  },
  {
"cell_type": "code",
	   "execution_count": null,
	   "metadata": {
	    "collapsed": true
	   },
	   "outputs": [],
"source": [
"//Problem 10.10: A sinusoidal voltage trace displayed by a c.r.o. is shown in Figure 10.17. If the ‘time/cm’ switch is on 500 μs/cm and the ‘volts/cm’ switch is on 5 V/cm, find, for the waveform, (a) the frequency, (b) the peak-to-peak voltage, (c) the amplitude, (d) the r.m.s. value.\n",
"//(In Figures 10.15 to 10.18 assume that the squares shown are 1 cm by 1 cm)\n",
"\n",
"//initializing the variables:\n",
"tc = 500E-6; // in s/cm\n",
"Vc = 5; // in V/cm\n",
"w = 4; // in cm ( width of one complete cycle )\n",
"h = 5; // in cm ( peak-to-peak height of the display )\n",
"\n",
"//calculation:\n",
"T = w*tc\n",
"f = 1/T\n",
"ptpv = h*Vc\n",
"Amp = ptpv/2\n",
"Vrms = Amp/(2^0.5)\n",
"\n",
"printf('\n\n Result \n\n')\n",
"printf('\n (a)Frequency, f = %.0f Hz',f)\n",
"printf('\n (b)the peak-to-peak voltage = %.0f V',ptpv)\n",
"printf('\n (c)Amplitude = %.1f V',Amp)\n",
"printf('\n (d)r.m.s voltage = %.2f V',Vrms)"
   ]
   }
,
{
		   "cell_type": "markdown",
		   "metadata": {},
		   "source": [
			"## Example 10.11: Example_11.sce"
		   ]
		  },
  {
"cell_type": "code",
	   "execution_count": null,
	   "metadata": {
	    "collapsed": true
	   },
	   "outputs": [],
"source": [
"//Problem 10.11: For the double-beam oscilloscope displays shown in Figure 10.18 determine (a) their frequency, (b) their r.m.s. values, (c) their phase difference. The ‘time/cm’ switch is on 100 μs/cm and the ‘volts/cm’ switch on 2 V/cm.\n",
"//(In Figures 10.15 to 10.18 assume that the squares shown are 1 cm by 1 cm)\n",
"\n",
"//initializing the variables:\n",
"tc = 100E-6; // in s/cm\n",
"Vc = 2; // in V/cm\n",
"w = 5; // in cm ( width of one complete cycle for both waveform )\n",
"h1 = 2; // in cm ( peak-to-peak height of the display )\n",
"h2 = 2.5; // in cm ( peak-to-peak height of the display )\n",
"\n",
"//calculation:\n",
"T = w*tc\n",
"f = 1/T\n",
"ptpv1 = h1*Vc\n",
"Vrms1 = ptpv1/(2^0.5)\n",
"ptpv2 = h2*Vc\n",
"Vrms2 = ptpv2/(2^0.5)\n",
"phi = 0.5*360/w\n",
"\n",
"printf('\n\n Result \n\n')\n",
"printf('\n (a)Frequency, f = %.0f Hz',f)\n",
"printf('\n (b1)r.m.s voltage of 1st waveform = %.2f V',Vrms1)\n",
"printf('\n (b2)r.m.s voltage of 2nd waveform = %.2f V',Vrms2)\n",
"printf('\n (c)Phase difference = %.0f°',phi)"
   ]
   }
,
{
		   "cell_type": "markdown",
		   "metadata": {},
		   "source": [
			"## Example 10.12: Example_12.sce"
		   ]
		  },
  {
"cell_type": "code",
	   "execution_count": null,
	   "metadata": {
	    "collapsed": true
	   },
	   "outputs": [],
"source": [
"//Problem 10.12: The ratio of two powers is (a) 3 (b) 20 (c) 400 (d) 1/20. Determine the decibel power ratio in each case.\n",
"\n",
"//initializing the variables:\n",
"rP1 = 3; // ratio of two powers\n",
"rP2 = 20; // ratio of two powers\n",
"rP3 = 400; // ratio of two powers\n",
"rP4 = 1/20; // ratio of two powers\n",
"\n",
"//calculation:\n",
"X1 = 10*log10(3)\n",
"X2 = 10*log10(20)\n",
"X3 = 10*log10(400)\n",
"X4 = 10*log10(1/20)\n",
"\n",
"printf('\n\n Result \n\n')\n",
"printf('\n (a)decibel power ratio for power ratio 3 = %.2f dB ',X1)\n",
"printf('\n (b)decibel power ratio for power ratio 20 = %.1f dB ',X2)\n",
"printf('\n (c)decibel power ratio for power ratio 400 = %.1f dB ',X3)\n",
"printf('\n (d)decibel power ratio for power ratio 1/20 = %.1f dB ',X4)"
   ]
   }
,
{
		   "cell_type": "markdown",
		   "metadata": {},
		   "source": [
			"## Example 10.13: Example_13.sce"
		   ]
		  },
  {
"cell_type": "code",
	   "execution_count": null,
	   "metadata": {
	    "collapsed": true
	   },
	   "outputs": [],
"source": [
"//Problem 10.13: The current input to a system is 5 mA and the current output is 20 mA. Find the decibel current ratio assuming the input and load resistances of the system are equal.\n",
"\n",
"//initializing the variables:\n",
"I2 = 0.020; // in ampere\n",
"I1 = 0.005; // in ampere\n",
"\n",
"//calculation:\n",
"X = 20*log10(I2/I1)\n",
"\n",
"printf('\n\n Result \n\n')\n",
"printf('\n decibel current ratio = %.0f dB\n',X)"
   ]
   }
,
{
		   "cell_type": "markdown",
		   "metadata": {},
		   "source": [
			"## Example 10.14: Example_14.sce"
		   ]
		  },
  {
"cell_type": "code",
	   "execution_count": null,
	   "metadata": {
	    "collapsed": true
	   },
	   "outputs": [],
"source": [
"//Problem 10.14: 6% of the power supplied to a cable appears at the output terminals. Determine the power loss in decibels.\n",
"\n",
"//initializing the variables:\n",
"rP = 0.06; // power ratios rP = P2/P1\n",
"\n",
"//calculation:\n",
"X = 10*log10(rP)\n",
"\n",
"printf('\n\n Result \n\n')\n",
"printf('\n decibel Power ratios = %.2f dB\n',X)"
   ]
   }
,
{
		   "cell_type": "markdown",
		   "metadata": {},
		   "source": [
			"## Example 10.15: Example_15.sce"
		   ]
		  },
  {
"cell_type": "code",
	   "execution_count": null,
	   "metadata": {
	    "collapsed": true
	   },
	   "outputs": [],
"source": [
"//Problem 10.15: An amplifier has a gain of 14 dB. Its input power is 8 mW. Find its output power.\n",
"\n",
"//initializing the variables:\n",
"X = 14; // decibal power ratio in dB\n",
"P1 = 0.008; // in Watt\n",
"\n",
"//calculation:\n",
"rP = 10^(X/10)\n",
"P2 = rP*P1\n",
"\n",
"printf('\n\n Result \n\n')\n",
"printf('\n output power P2 = %.3f W\n',P2)"
   ]
   }
,
{
		   "cell_type": "markdown",
		   "metadata": {},
		   "source": [
			"## Example 10.16: Example_16.sce"
		   ]
		  },
  {
"cell_type": "code",
	   "execution_count": null,
	   "metadata": {
	    "collapsed": true
	   },
	   "outputs": [],
"source": [
"//Problem 10.16: The output voltage from an amplifier is 4 V. If the voltage gain is 27 dB, calculate the value of the input voltage assuming that the amplifier input resistance and load resistance are equal.\n",
"\n",
"//initializing the variables:\n",
"X = 27; // Voltage gain in decibels\n",
"V2 = 4; // output voltage in Volts\n",
"\n",
"//calculation:\n",
"V1 = V2/(10^(27/20))\n",
"\n",
"printf('\n\n Result \n\n') \n",
"printf('\n input Voltage V1 = %.3f V\n',V1)"
   ]
   }
,
{
		   "cell_type": "markdown",
		   "metadata": {},
		   "source": [
			"## Example 10.17: Example_17.sce"
		   ]
		  },
  {
"cell_type": "code",
	   "execution_count": null,
	   "metadata": {
	    "collapsed": true
	   },
	   "outputs": [],
"source": [
"//Problem 10.17: In a Wheatstone bridge ABCD, a galvanometer is connected between A and C, and a battery between B and D. A resistor of unknown value is connected between A and B. When the bridge is balanced, the resistance between B and C is 100 ohms, that between C and D is 10 ohms and that between D and A is 400 ohms. calculate the value of the unknown resistance.\n",
"\n",
"//initializing the variables:\n",
"R2 = 100; // in ohms\n",
"R3 = 400; // in ohms\n",
"R4 = 10; // in ohms\n",
"\n",
"//calculation:\n",
"R1 = R2*R3/R4\n",
"\n",
"printf('\n\n Result \n\n') \n",
"printf('\n unknown resistance, R1 = %.0f Ohms\n',R1)"
   ]
   }
,
{
		   "cell_type": "markdown",
		   "metadata": {},
		   "source": [
			"## Example 10.18: Example_18.sce"
		   ]
		  },
  {
"cell_type": "code",
	   "execution_count": null,
	   "metadata": {
	    "collapsed": true
	   },
	   "outputs": [],
"source": [
"//Problem 10.18: In a d.c. potentiometer, balance is obtained at a length of 400 mm when using a standard cell of 1.0186 volts. Determine the e.m.f. of a dry cell if balance is obtained with a length of 650 mm\n",
"\n",
"//initializing the variables:\n",
"E1 = 1.0186; // in Volts\n",
"l1 = 0.400; // in m\n",
"l2 = 0.650; // in m\n",
"\n",
"//calculation:\n",
"E2 = (l2/l1)*E1\n",
"\n",
"printf('\n\n Result \n\n') \n",
"printf('\n the e.m.f. of a dry cell = %.3f Volts\n',E2)"
   ]
   }
,
{
		   "cell_type": "markdown",
		   "metadata": {},
		   "source": [
			"## Example 10.19: Example_19.sce"
		   ]
		  },
  {
"cell_type": "code",
	   "execution_count": null,
	   "metadata": {
	    "collapsed": true
	   },
	   "outputs": [],
"source": [
"//Problem 10.19: The current flowing through a resistor of 5 kohm(+-)0.4% is measured as 2.5 mA with an accuracy of measurement of (+-)0.5%. Determine the nominal value of the voltage across the resistor and its accuracy.\n",
"\n",
"//initializing the variables:\n",
"I = 0.0025; // in Amperes\n",
"R = 5000; // in ohms\n",
"e1 = 0.4; // in %\n",
"e2 = 0.5; // in %\n",
"\n",
"//calculation:\n",
"V = I*R\n",
"em = e1 + e2\n",
"Ve = em*V/100\n",
"\n",
"printf('\n\n Result \n\n') \n",
"printf('\n voltage V = %.1fV(+-)%.2fV\n',V,Ve)"
   ]
   }
,
{
		   "cell_type": "markdown",
		   "metadata": {},
		   "source": [
			"## Example 10.20: Example_20.sce"
		   ]
		  },
  {
"cell_type": "code",
	   "execution_count": null,
	   "metadata": {
	    "collapsed": true
	   },
	   "outputs": [],
"source": [
"//Problem 10.20: The current I flowing in a resistor R is measured by a 0–10 A ammeter which gives an indication of 6.25 A. The voltage V across the resistor is measured by a 0–50 V voltmeter, which gives an indication of 36.5 V. Determine the resistance of the resistor, and its accuracy of measurement if both instruments have a limit of error of 2% of f.s.d. Neglect any loading effects of the instruments.\n",
"\n",
"//initializing the variables:\n",
"I = 6.25; // in Amperes\n",
"Im = 10; // max in Amperes\n",
"V = 36.5; // in volts\n",
"Vm = 50; // max in volts\n",
"e = 2; // in %\n",
"\n",
"//calculation:\n",
"R = V/I\n",
"Ve = e*Vm/100 \n",
"Ve1 = Ve*100/V  // in  %\n",
"Ie = e*Im/100\n",
"Ie1 = Ie*100/I  // in %\n",
"em = Ve1 + Ie1\n",
"Re = em*R/100\n",
"\n",
"printf('\n\n Result \n\n') \n",
"printf('\n Resistance R = %.2f ohms(+-)%.2f ohms\n',R,Re)"
   ]
   }
,
{
		   "cell_type": "markdown",
		   "metadata": {},
		   "source": [
			"## Example 10.21: Example_21.sce"
		   ]
		  },
  {
"cell_type": "code",
	   "execution_count": null,
	   "metadata": {
	    "collapsed": true
	   },
	   "outputs": [],
"source": [
"//Problem 10.21: The arms of a Wheatstone bridge ABCD have the following resistances: AB: R1 = 1000 ohms (+-) 1.0% ; BC: R2 = 100 ohm (+-) 0.5%; CD: unknown resistance Rx; DA: R3 = 432.5 ohms (+-)0.2%. Determine the value of the unknown resistance and its accuracy of measurement.\n",
"\n",
"//initializing the variables:\n",
"R1 = 1000; // in ohms\n",
"R2 = 100; // in ohms\n",
"R3 = 432.5; // in ohms\n",
"e1 = 1; // in %\n",
"e2 = 0.5; // in %\n",
"e3 = 0.2; // in %\n",
"\n",
"//calculation:\n",
"Rx = R2*R3/R1\n",
"em = e1 + e2 + e3\n",
"Re = em*Rx/100\n",
"\n",
"printf('\n\n Result \n\n') \n",
"printf('\n Resistance R = %.2f ohms(+-)%.2f ohms\n',Rx,Re)"
   ]
   }
],
"metadata": {
		  "kernelspec": {
		   "display_name": "Scilab",
		   "language": "scilab",
		   "name": "scilab"
		  },
		  "language_info": {
		   "file_extension": ".sce",
		   "help_links": [
			{
			 "text": "MetaKernel Magics",
			 "url": "https://github.com/calysto/metakernel/blob/master/metakernel/magics/README.md"
			}
		   ],
		   "mimetype": "text/x-octave",
		   "name": "scilab",
		   "version": "0.7.1"
		  }
		 },
		 "nbformat": 4,
		 "nbformat_minor": 0
}
