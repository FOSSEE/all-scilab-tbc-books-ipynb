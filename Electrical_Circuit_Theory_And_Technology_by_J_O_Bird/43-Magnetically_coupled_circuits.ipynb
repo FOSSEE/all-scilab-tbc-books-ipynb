{
"cells": [
 {
		   "cell_type": "markdown",
	   "metadata": {},
	   "source": [
       "# Chapter 43: Magnetically coupled circuits"
	   ]
	},
{
		   "cell_type": "markdown",
		   "metadata": {},
		   "source": [
			"## Example 43.01: Example_1.sce"
		   ]
		  },
  {
"cell_type": "code",
	   "execution_count": null,
	   "metadata": {
	    "collapsed": true
	   },
	   "outputs": [],
"source": [
"//Problem 43.01: A and B are two coils in close proximity. A has 1200 turns and B has 1000 turns. When a current of 0.8 A flows in coil A a flux of 100 μWb links with coil A and 75% of this flux links coil B. Determine (a) the self inductance of coil A, and (b) the mutual inductance.\n",
"\n",
"//initializing the variables:\n",
"Na = 1200; \n",
"Nb = 1000;\n",
"Ia = 0.8; // in amperes\n",
"Phia = 100E-6; // in Wb\n",
"xb = 0.75;\n",
"\n",
"//calculation:\n",
"//self inductance of coil A\n",
"La = Na*Phia/Ia\n",
"//mutual inductance, M\n",
"Phib = xb*Phia\n",
"M = Nb*Phib/Ia\n",
"\n",
"printf('\n\n Result \n\n')\n",
"printf('\n self inductance of coil A is %.2f H',La)\n",
"printf('\n mutual inductance, M is %.2E H',M)"
   ]
   }
,
{
		   "cell_type": "markdown",
		   "metadata": {},
		   "source": [
			"## Example 43.02: Example_2.sce"
		   ]
		  },
  {
"cell_type": "code",
	   "execution_count": null,
	   "metadata": {
	    "collapsed": true
	   },
	   "outputs": [],
"source": [
"//Problem 43.02: Two circuits have a mutual inductance of 600 mH. A current of 5 A in the primary is reversed in 200 ms. Determine the e.m.f. induced in the secondary, assuming the current changes at a uniform rate.\n",
"\n",
"//initializing the variables:\n",
"M = 600E-3; // in Henry\n",
"Ia = 5; // in amperes\n",
"dt = 0.2; // in secs\n",
"\n",
"//calculation:\n",
"//change of current\n",
"dIa = 2*Ia \n",
"dIadt = dIa/dt\n",
"//secondary induced e.m.f., E2\n",
"E2 = -1*M*dIadt\n",
"\n",
"printf('\n\n Result \n\n')\n",
"printf('\n secondary induced e.m.f., E2 is %.0f V',E2)"
   ]
   }
,
{
		   "cell_type": "markdown",
		   "metadata": {},
		   "source": [
			"## Example 43.03: Example_3.sce"
		   ]
		  },
  {
"cell_type": "code",
	   "execution_count": null,
	   "metadata": {
	    "collapsed": true
	   },
	   "outputs": [],
"source": [
"//Problem 43.03: Two coils have self inductances of 250 mH and 400 mH respectively. Determine the magnetic coupling coefficient of the pair of coils if their mutual inductance is 80 mH.\n",
"\n",
"//initializing the variables:\n",
"La = 250E-3; // in Henry\n",
"Lb = 400E-3; // in Henry\n",
"M = 80E-3; // in Henry\n",
"\n",
"//calculation:\n",
"//coupling coefficient,\n",
"k = M/(La*Lb)^0.5\n",
"\n",
"printf('\n\n Result \n\n')\n",
"printf('\n coupling coefficient, is %.3f',k)"
   ]
   }
,
{
		   "cell_type": "markdown",
		   "metadata": {},
		   "source": [
			"## Example 43.04: Example_4.sce"
		   ]
		  },
  {
"cell_type": "code",
	   "execution_count": null,
	   "metadata": {
	    "collapsed": true
	   },
	   "outputs": [],
"source": [
"//Problem 43.04: Two coils, X and Y, having self inductances of 80 mH and 60 mH respectively, are magnetically coupled. Coil X has 200 turns and coil Y has 100 turns. When a current of 4A flows in coil X the change of flux in coil Y is 5 mWb. Determine (a) the mutual inductance between the coils, and (b) the coefficient of coupling.\n",
"\n",
"//initializing the variables:\n",
"Lx = 80E-3; // in Henry\n",
"Ly = 60E-3; // in Henry\n",
"Nx = 200; // turns\n",
"Ny = 100; // turns\n",
"Ix = 4; // in Amperes\n",
"Phiy = 0.005; // in Wb\n",
"\n",
"//calculation:\n",
"//mutual inductance, M\n",
"M = Ny*Phiy/(2*Ix)\n",
"//coupling coefficient,\n",
"k = M/(Lx*Ly)^0.5\n",
"\n",
"printf('\n\n Result \n\n')\n",
"printf('\n mutual inductance, M is %.2E H',M)\n",
"printf('\n coupling coefficient, is %.3f',k)"
   ]
   }
,
{
		   "cell_type": "markdown",
		   "metadata": {},
		   "source": [
			"## Example 43.05: Example_5.sce"
		   ]
		  },
  {
"cell_type": "code",
	   "execution_count": null,
	   "metadata": {
	    "collapsed": true
	   },
	   "outputs": [],
"source": [
"//Problem 43.05: Two coils connected in series have self inductance of 40 mH and 10 mH respectively. The total inductance of the circuit is found to be 60 mH. Determine (a) the mutual inductance between the two coils, and (b) the coefficient of coupling.\n",
"\n",
"//initializing the variables:\n",
"La = 40E-3; // in Henry\n",
"Lb = 10E-3; // in Henry\n",
"L = 60E-3; // in Henry\n",
"\n",
"//calculation:\n",
"//mutual inductance, M\n",
"M = (L - La - Lb)/2\n",
"//coupling coefficient,\n",
"k = M/(La*Lb)^0.5\n",
"\n",
"printf('\n\n Result \n\n')\n",
"printf('\n mutual inductance, M is %.2E H',M)\n",
"printf('\n coupling coefficient, is %.3f',k)"
   ]
   }
,
{
		   "cell_type": "markdown",
		   "metadata": {},
		   "source": [
			"## Example 43.06: Example_6.sce"
		   ]
		  },
  {
"cell_type": "code",
	   "execution_count": null,
	   "metadata": {
	    "collapsed": true
	   },
	   "outputs": [],
"source": [
"//Problem 43.06: Two mutually coupled coils X and Y are connected in series to a 240 V d.c. supply. Coil X has a resistance of 5 ohm and an inductance of 1 H. Coil Y has a resistance of 10 ohm and an inductance of 5 H. At a certain instant after the circuit is connected, the current is 8 A and increasing at a rate of 15 A/s. Determine (a) the mutual inductance between the coils and (b) the coefficient of coupling.\n",
"\n",
"//initializing the variables:\n",
"V = 240; // in Volts\n",
"Ra = 5; // in Ohm\n",
"La = 1; // in Henry\n",
"Rb = 10; // in Ohm\n",
"Lb = 5; // in Henry\n",
"I = 8; // in amperes\n",
"dIdt = 15; // in A/sec\n",
"\n",
"//calculation:\n",
"//Kirchhoff’s voltage law\n",
"L = (V - I*(Ra + Rb))/dIdt\n",
"//mutual inductance, M\n",
"M = (L - La - Lb)/2\n",
"//coupling coefficient,\n",
"k = M/(La*Lb)^0.5\n",
"\n",
"printf('\n\n Result \n\n')\n",
"printf('\n mutual inductance, M is %.0f H',M)\n",
"printf('\n coupling coefficient, is %.3f',k)"
   ]
   }
,
{
		   "cell_type": "markdown",
		   "metadata": {},
		   "source": [
			"## Example 43.07: Example_7.sce"
		   ]
		  },
  {
"cell_type": "code",
	   "execution_count": null,
	   "metadata": {
	    "collapsed": true
	   },
	   "outputs": [],
"source": [
"//Problem 43.07: Two coils are connected in series and their effective inductance is found to be 15 mH. When the connection to one coil is reversed, the effective inductance is found to be 10 mH. If the coefficient of coupling is 0.7, determine (a) the self inductance of each coil, and (b) the mutual inductance.\n",
"\n",
"//initializing the variables:\n",
"k = 0.7; // coefficient of coupling\n",
"L1 = 15E-3; // in Henry\n",
"L2 = 10E-3; // in Henry\n",
"\n",
"//calculation:\n",
"//L1 = La + Lb + 2*k*(La*Lb)^0.5\n",
"//L2 = La + Lb - 2*k*(La*Lb)^0.5\n",
"//self inductance of coils\n",
"a = ((L1 - (L1  + L2)/2)/(2*k))^2\n",
"La1 =((L1  + L2)/2 + (((L1  + L2)/2)^2 - 4*a)^0.5)/2\n",
"La2 =((L1  + L2)/2 - (((L1  + L2)/2)^2 - 4*a)^0.5)/2\n",
"Lb1 = (L1 + L2)/2 - La1\n",
"Lb2 = (L1 + L2)/2 - La2\n",
"//mutual inductance, M\n",
"M = (L1 - L2)/4\n",
"\n",
"printf('\n\n Result \n\n')\n",
"printf('\nself inductance of coils are %.2E H and %.2E H',La1, Lb1)\n",
"printf('\n mutual inductance, M is %.2E H',M)"
   ]
   }
,
{
		   "cell_type": "markdown",
		   "metadata": {},
		   "source": [
			"## Example 43.08: Example_8.sce"
		   ]
		  },
  {
"cell_type": "code",
	   "execution_count": null,
	   "metadata": {
	    "collapsed": true
	   },
	   "outputs": [],
"source": [
"//Problem 43.08: For the circuit shown in Figure 43.7, determine the p.d. E2 which appears across the open-circuited secondary winding, given that E1 D 8 sin 2500t volts.\n",
"\n",
"//initializing the variables:\n",
"E1 = 8; // in Volts\n",
"thetae1 = 0; // in degrees\n",
"w = 2500; // in rad/sec\n",
"R = 15; // in ohm\n",
"L = 5E-3; // in Henry\n",
"M = 0.1E-3; // in Henry\n",
"\n",
"//calculation:\n",
"//voltage\n",
"E1 = E1*cos(thetae1*%pi/180) + %i*E1*sin(thetae1*%pi/180)\n",
"//Impedance of primary\n",
"Z1 = R + %i*w*L\n",
"//Primary current I1\n",
"I1 = E1/Z1\n",
"//E2\n",
"E2 = %i*w*M*I1\n",
"\n",
"printf('\n\n Result \n\n')\n",
"printf('\nE2 is %.2f + (%.2f)i V',real(E2), imag(E2))"
   ]
   }
,
{
		   "cell_type": "markdown",
		   "metadata": {},
		   "source": [
			"## Example 43.09: Example_9.sce"
		   ]
		  },
  {
"cell_type": "code",
	   "execution_count": null,
	   "metadata": {
	    "collapsed": true
	   },
	   "outputs": [],
"source": [
"//Problem 43.09: Two coils x and y, with negligible resistance, have self inductances of 20 mH and 80 mH respectively, and the coefficient of coupling between them is 0.75. If a sinusoidal alternating p.d. of 5 V is applied to x, determine the magnitude of the open circuit e.m.f. induced in y.\n",
"\n",
"//initializing the variables:\n",
"Lx = 20E-3; // in Henry\n",
"Ly = 80E-3; // in Henry\n",
"k = 0.75; // coupling coeff.\n",
"Ex = 5; // in Volts\n",
"\n",
"//calculation:\n",
"//mutual inductance\n",
"M = k*(Lx*Ly)^0.5\n",
"//magnitude of the open circuit e.m.f. induced\n",
"Ey = M*Ex/Lx\n",
"\n",
"printf('\n\n Result \n\n')\n",
"printf('\n mutual inductance is %.2f H',M)\n",
"printf('\n magnitude of the open circuit e.m.f. induced is %.2f V',Ey)"
   ]
   }
,
{
		   "cell_type": "markdown",
		   "metadata": {},
		   "source": [
			"## Example 43.10: Example_10.sce"
		   ]
		  },
  {
"cell_type": "code",
	   "execution_count": null,
	   "metadata": {
	    "collapsed": true
	   },
	   "outputs": [],
"source": [
"//Problem 43.10: For the circuit shown in Figure 43.9, determine the value of the secondary current I2 if E1 = 2/_0° volts and the frequency is 1000/pi Hz.\n",
"\n",
"//initializing the variables:\n",
"E1 = 2; // in Volts\n",
"thetae1 = 0; // in degrees\n",
"f = 1000/%pi; // in Hz\n",
"R1 = 4; // in ohm\n",
"R2 = 16; // in ohm\n",
"R3 = 16; // in ohm\n",
"R4 = 50; // in ohm\n",
"L = 10E-3; // in Henry\n",
"M = 2E-3; // in Henry\n",
"\n",
"//calculation:\n",
"w = 2*%pi*f\n",
"//voltage\n",
"E1 = E1*cos(thetae1*%pi/180) + %i*E1*sin(thetae1*%pi/180)\n",
"//R1e is the real part of Z1e\n",
"R1e = R1 + R2 + ((R3 + R4)*(M^2)*(w^2))/((R3 + R4)^2 + (w*L)^2)\n",
"//X1e is the imaginary part of Z1e\n",
"X1e = w*L - (L*(M^2)*(w^3))/((R3 + R4)^2 + (w*L)^2)\n",
"Z1e = R1e + %i*X1e\n",
"Z2e = R3 + R4 + %i*w*L\n",
"//primary current, I1\n",
"I1 = E1/Z1e\n",
"//E2\n",
"E2 = %i*w*M*I1\n",
"//secondary current I2\n",
"I2 = E2/Z2e\n",
"\n",
"printf('\n\n Result \n\n')\n",
"printf('\n secondary current I2 is %.2E +(%.2E)i A',real(I2), imag(I2))"
   ]
   }
,
{
		   "cell_type": "markdown",
		   "metadata": {},
		   "source": [
			"## Example 43.11: Example_11.sce"
		   ]
		  },
  {
"cell_type": "code",
	   "execution_count": null,
	   "metadata": {
	    "collapsed": true
	   },
	   "outputs": [],
"source": [
"//Problem 43.11: For the coupled circuit shown in Figure 43.10, calculate (a) the self impedance of the primary circuit, (b) the self impedance of the secondary circuit, (c) the impedance reflected into the primary circuit, (d) the effective primary impedance, (e) the primary current, and (f) the secondary current\n",
"//initializing the variables:\n",
"E1 = 50; // in Volts\n",
"thetae1 = 0; // in degrees\n",
"w = 500; // in rad/sec\n",
"R1 = 300; // in ohm\n",
"L1 = 0.2; // in Henry\n",
"L2 = 0.5; // in Henry\n",
"L3 = 0.3; // in Henry\n",
"R2 = 500; // in ohm\n",
"C = 5E-6; // in farad\n",
"M = 0.2; // in Henry\n",
"//calculation:\n",
"//voltage\n",
"E1 = E1*cos(thetae1*%pi/180) + %i*E1*sin(thetae1*%pi/180)\n",
"// Self impedance of primary circuit\n",
"Z1 = R1 + %i*w*(L1 + L2)\n",
"//Self impedance of secondary circuit,\n",
"Z2 = R2 + %i*(w*L3 - 1/(w*C))\n",
"//reflected impedance, Zr\n",
"Zr = (w*M)^2/Z2\n",
"//Effective primary impedance,\n",
"Z1e = Z1 + Zr\n",
"//Primary current I1 \n",
"I1 = E1/Z1e\n",
"//Secondary current I2\n",
"E2 = %i*w*M*I1\n",
"I2 = E2/Z2\n",
"printf('\n\n Result \n\n')\n",
"printf('\n Self impedance of primary circuit, Z1 is %.0f + (%.0f)i ohm',real(Z1), imag(Z1))\n",
"printf('\n Self impedance of secondary circuit, Z2 is %.0f + (%.0f)i ohm',real(Z2), imag(Z2))\n",
"printf('\n reflected impedance, Zr is %.0f +(%.0f)i ohm',real(Zr), imag(Zr))\n",
"printf('\n Effective primary impedance Z1(eff) is %.0f +(%.0f)i ohm',real(Z1e), imag(Z1e))\n",
"printf('\n primary current I1 is %.2f +(%.2f)i A',real(I1), imag(I1))\n",
"printf('\n secondary current I2 is %.2f +(%.2f)i A',real(I2), imag(I2))"
   ]
   }
,
{
		   "cell_type": "markdown",
		   "metadata": {},
		   "source": [
			"## Example 43.12: Example_12.sce"
		   ]
		  },
  {
"cell_type": "code",
	   "execution_count": null,
	   "metadata": {
	    "collapsed": true
	   },
	   "outputs": [],
"source": [
"//Problem 43.12:For the circuit shown in Figure 43.12 each winding is tuned to resonate at the same frequency. Determine (a) the reso-nant frequency, (b) the value of capacitor C2 , (c) the effective primary impedance, (d) the primary current, (e) the voltage across capacitor C2 and (f) the coefficient of coupling.\n",
"//initializing the variables:\n",
"E1 = 20; // in Volts\n",
"thetae1 = 0; // in degrees\n",
"R1 = 15; // in ohm\n",
"C1 = 400E-12; // in farad\n",
"R2 = 30; // in ohm\n",
"L1 = 0.001; // in Henry\n",
"L2 = 0.0002; // in Henry\n",
"R3 = 50; // in ohm\n",
"M = 10E-6; // in Henry\n",
"//calculation:\n",
"//voltage\n",
"E1 = E1*cos(thetae1*%pi/180) + %i*E1*sin(thetae1*%pi/180)\n",
"//the resonant frequency, fr \n",
"fr = 1/(2*%pi*(L1*C1)^0.5)\n",
"w = 2*%pi*fr\n",
"//The secondary is also tuned to a resonant frequency\n",
"//capacitance,C2\n",
"C2 = 1/(L2*(2*%pi*fr)^2)\n",
"//the effective primary impedance Z1eff \n",
"Z1e = R1 + R2 + ((w*M)^2)/R3\n",
"//Primary current I1 \n",
"I1 = E1/Z1e\n",
"//Secondary current I2\n",
"E2 = %i*w*M*I1\n",
"I2 = E2/R3\n",
"//voltage across capacitor C2\n",
"Vc2 = I2*-1*%i/(w*C2)\n",
"//coefficient of coupling, k \n",
"k = M/(L1*L2)^0.5\n",
"printf('\n\n Result \n\n')\n",
"printf('\n the resonant frequency,fr is %.0f Hz',fr)\n",
"printf('\n capacitance,C2 is %.2E F',C2)\n",
"printf('\n Effective primary impedance Z1(eff) is %.0f +(%.0f)i ohm',real(Z1e), imag(Z1e))\n",
"printf('\n primary current I1 is %.2f +(%.2f)i A',real(I1), imag(I1))\n",
"printf('\n voltage across capacitor C2 is %.0f +(%.0f)i V',real(Vc2), imag(Vc2))\n",
"printf('\n coefficient of coupling, k  is %.4f',k)"
   ]
   }
,
{
		   "cell_type": "markdown",
		   "metadata": {},
		   "source": [
			"## Example 43.13: Example_13.sce"
		   ]
		  },
  {
"cell_type": "code",
	   "execution_count": null,
	   "metadata": {
	    "collapsed": true
	   },
	   "outputs": [],
"source": [
"//Problem 43.13:For the coupled circuit shown in Figure 43.16, determiine the values of currents I1 and I2.\n",
"//initializing the variables:\n",
"E1 = 250; // in Volts\n",
"thetae1 = 0; // in degrees\n",
"R1 = %i*50; // in ohm\n",
"R2 = 10; // in ohm\n",
"R3 = 10; // in ohm\n",
"R4 = %i*50; // in ohm\n",
"R5 = 50; // in ohm\n",
"M = %i*10; // in ohm\n",
"//calculation:\n",
"//voltage\n",
"E1 = E1*cos(thetae1*%pi/180) + %i*E1*sin(thetae1*%pi/180)\n",
"//Applying Kirchhoff’s voltage law to the primary circuit gives\n",
"//(R1 + R2)*I1 - M*I2 = E1\n",
"//Applying Kirchhoff’s voltage law to the secondary circuit gives\n",
"//-1*M*I1 + ( R3 + R4 + R5)*I2 = 0\n",
"//solving these two\n",
"I2 = E1/((R1 + R2)*(R3 + R4 + R5)/(M) + (-1*M))\n",
"I1 = I2*(R3 + R4 + R5)/(M)\n",
"printf('\n\n Result \n\n')\n",
"printf('\n primary current I1 is %.2f +(%.2f)i A',real(I1), imag(I1))\n",
"printf('\n secondary current I2 is %.2f +(%.2f)i A',real(I2), imag(I2))"
   ]
   }
,
{
		   "cell_type": "markdown",
		   "metadata": {},
		   "source": [
			"## Example 43.14: Example_14.sce"
		   ]
		  },
  {
"cell_type": "code",
	   "execution_count": null,
	   "metadata": {
	    "collapsed": true
	   },
	   "outputs": [],
"source": [
"//Problem 43.14:The circuit diagram of an air-cored transformer winding is shown in Figure 43.17. The coefficient of coupling between primary and secondary windings is 0.70. Determine for the circuit (a) the mutual inductance M, (b) the primary current I1 and (c) the secondary terminal p.d.\n",
"\n",
"//initializing the variables:\n",
"re = 40; // in Volts\n",
"thetae1 = 0; // in degrees\n",
"R1 = 5; // in ohm\n",
"L1 = 0.001; // in Henry\n",
"L2 = 0.006; // in Henry\n",
"R2 = 40; // in ohm\n",
"rzl = 200; // in ohm\n",
"thetazl = -60; // in degrees\n",
"k = 0.70\n",
"f = 20000; // in Hz\n",
"\n",
"//calculation:\n",
"w = 2*%pi*f\n",
"//voltage\n",
"E1 = re*cos(thetae1*%pi/180) + %i*re*sin(thetae1*%pi/180)\n",
"//impedance\n",
"ZL = rzl*cos(thetazl*%pi/180) + %i*rzl*sin(thetazl*%pi/180)\n",
"//mutual inductance, M\n",
"M = k*(L1*L2)^0.5\n",
"//Applying Kirchhoff’s voltage law to the primary circuit gives\n",
"//(R1 + %i*w*L1)*I1 - %i*w*M*I2 = E1\n",
"//Applying Kirchhoff’s voltage law to the secondary circuit gives\n",
"//-1*%i*w*M*I1 + ( R2 + ZL + %i*w*L2)*I2 = 0\n",
"//solving these two\n",
"I1 = E1/((R1 +%i*w*L1) - (%i*w*M)^2/(R2 + ZL + %i*w*L2))\n",
"//secondary terminal p.d.\n",
"pd = I2*ZL\n",
"\n",
"printf('\n\n Result \n\n')\n",
"printf('\n mutual induction M is %.2E H',M)\n",
"printf('\n primary current I1 is %.2f +(%.2f)i A',real(I1), imag(I1))\n",
"printf('\n secondary terminal p.d. is %.2f +(%.2f)i V',real(pd), imag(pd))"
   ]
   }
,
{
		   "cell_type": "markdown",
		   "metadata": {},
		   "source": [
			"## Example 43.15: Example_15.sce"
		   ]
		  },
  {
"cell_type": "code",
	   "execution_count": null,
	   "metadata": {
	    "collapsed": true
	   },
	   "outputs": [],
"source": [
"//Problem 43.15:A mutual inductor is used to couple a 20 ohm resistive load to a 50/_0° V generator as shown in Figure 43.18. The generator has an internal resistance of 5 ohm and the mutual inductor parameters are R1 = 20 ohm , L1 = 0.2 H, R2 = 25 ohm , L2 = 0.4 H and M = 0.1 H. The supply frequency is 75/pi Hz. Determine (a) the generator current I1 and (b) the load current I2 .\n",
"//initializing the variables:\n",
"E1 = 50; // in Volts\n",
"thetae1 = 0; // in degrees\n",
"r = 5; // in ohm\n",
"R1 = 20; // in ohm\n",
"L1 = 0.2; // in Henry\n",
"L2 = 0.4; // in Henry\n",
"R2 = 25; // in ohm\n",
"RL = 20; // in ohm\n",
"M = 0.1; // in Henry\n",
"f = 75/%pi; // in Hz\n",
"//calculation:\n",
"w = 2*%pi*f\n",
"//voltage\n",
"E1 = E1*cos(thetae1*%pi/180) + %i*E1*sin(thetae1*%pi/180)\n",
"//Applying Kirchhoff’s voltage law to the primary circuit gives\n",
"//(r + R1 + %i*w*L1)*I1 - %i*w*M*I2 = E1\n",
"//Applying Kirchhoff’s voltage law to the secondary circuit gives\n",
"//-1*%i*w*M*I1 + ( R2 + RL + %i*w*L2)*I2 = 0\n",
"//solving these two\n",
"I2 = E1/((r + R1 + %i*w*L1)*(R2 + RL + %i*w*L2)/(%i*w*M) + (-1*%i*w*M))\n",
"I1 = I2*(R2 + RL + %i*w*L2)/(%i*w*M)\n",
"printf('\n\n Result \n\n')\n",
"printf('\n primary current I1 is %.2f +(%.2f)i A',real(I1), imag(I1))\n",
"printf('\n load current I2 is %.2f +(%.2f)i A',real(I2), imag(I2))"
   ]
   }
,
{
		   "cell_type": "markdown",
		   "metadata": {},
		   "source": [
			"## Example 43.16: Example_16.sce"
		   ]
		  },
  {
"cell_type": "code",
	   "execution_count": null,
	   "metadata": {
	    "collapsed": true
	   },
	   "outputs": [],
"source": [
"//Problem 43.16:The mutual inductor of problem 43.15 is connected to the circuit of Figure 43.19. Determine the source and load currents for (a) the windings as shown (i.e. with the dots adjacent), and (b) with one winding reversed (i.e. with the dots at opposite ends). \n",
"//initializing the variables:\n",
"E1 = 50; // in Volts\n",
"thetae1 = 0; // in degrees\n",
"r = 5; // in ohm\n",
"R1 = 20; // in ohm\n",
"L1 = 0.2; // in Henry\n",
"R = 8; // in ohm\n",
"L = 0.1; // in Henry\n",
"L2 = 0.4; // in Henry\n",
"R2 = 25; // in ohm\n",
"RL = 20; // in ohm\n",
"M = 0.1; // in Henry\n",
"f = 75/%pi; // in Hz\n",
"//calculation:\n",
"w = 2*%pi*f\n",
"//voltage\n",
"E1 = E1*cos(thetae1*%pi/180) + %i*E1*sin(thetae1*%pi/180)\n",
"//Applying Kirchhoff’s voltage law to the primary circuit gives\n",
"//(r + R1 + %i*w*L1 + R + %i*w*L)*I1 - (%i*w*M + R + %i*w*L)*I2 = E1\n",
"//Applying Kirchhoff’s voltage law to the secondary circuit gives\n",
"//-1*(%i*w*M + R + %i*w*L)*I1 + (R2 + RL + %i*w*L2 + R + %i*w*L)*I2 = 0\n",
"//solving these two\n",
"I2 = E1/((r + R1 + %i*w*L1 + R + %i*w*L)*(R2 + RL + %i*w*L2 + R + %i*w*L)/((%i*w*M + R + %i*w*L)) + (-1*(%i*w*M + R + %i*w*L)))\n",
"I1 = I2*(R2 + RL + %i*w*L2 + R + %i*w*L)/(%i*w*M + R + %i*w*L)\n",
"//reversing\n",
"//Applying Kirchhoff’s voltage law to the primary circuit gives\n",
"//(r + R1 + %i*w*L1 + R + %i*w*L)*I1r - (-1*%i*w*M + R + %i*w*L)*I2r = E1\n",
"//Applying Kirchhoff’s voltage law to the secondary circuit gives\n",
"//-1*(-1*%i*w*M + R + %i*w*L)*I1r + (R2 + RL + %i*w*L2 + R + %i*w*L)*I2r = 0\n",
"//solving these two\n",
"I2r = E1/((r + R1 + %i*w*L1 + R + %i*w*L)*(R2 + RL + %i*w*L2 + R + %i*w*L)/((-1*%i*w*M + R + %i*w*L)) + (-1*(-1*%i*w*M + R + %i*w*L)))\n",
"I1r = I2r*(R2 + RL + %i*w*L2 + R + %i*w*L)/((-1*%i*w*M + R + %i*w*L))\n",
"printf('\n\n Result \n\n')\n",
"printf('\n primary current I1 is %.2f +(%.2f)i A',real(I1), imag(I1))\n",
"printf('\n load current I2 is %.2f +(%.2f)i A',real(I2), imag(I2))\n",
"printf('\n reversed primary current I1r is %.2f +(%.2f)i A',real(I1r), imag(I1r))\n",
"printf('\n reversed load current I2r is %.2f +(%.2f)i A',real(I2r), imag(I2r))"
   ]
   }
],
"metadata": {
		  "kernelspec": {
		   "display_name": "Scilab",
		   "language": "scilab",
		   "name": "scilab"
		  },
		  "language_info": {
		   "file_extension": ".sce",
		   "help_links": [
			{
			 "text": "MetaKernel Magics",
			 "url": "https://github.com/calysto/metakernel/blob/master/metakernel/magics/README.md"
			}
		   ],
		   "mimetype": "text/x-octave",
		   "name": "scilab",
		   "version": "0.7.1"
		  }
		 },
		 "nbformat": 4,
		 "nbformat_minor": 0
}
