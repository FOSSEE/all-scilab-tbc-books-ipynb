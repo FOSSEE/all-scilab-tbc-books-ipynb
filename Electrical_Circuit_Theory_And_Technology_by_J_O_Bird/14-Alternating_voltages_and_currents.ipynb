{
"cells": [
 {
		   "cell_type": "markdown",
	   "metadata": {},
	   "source": [
       "# Chapter 14: Alternating voltages and currents"
	   ]
	},
{
		   "cell_type": "markdown",
		   "metadata": {},
		   "source": [
			"## Example 14.01: Example_1.sce"
		   ]
		  },
  {
"cell_type": "code",
	   "execution_count": null,
	   "metadata": {
	    "collapsed": true
	   },
	   "outputs": [],
"source": [
"//Problem 14.01: Determine the periodic time for frequencies of (a) 50 Hz and (b) 20 kHz\n",
"\n",
"//initializing the variables:\n",
"f1 = 50; // in Hz\n",
"f2 = 20000; // in Hz\n",
"\n",
"//calculation:\n",
"T1 = 1/f1\n",
"T2 = 1/f2\n",
"\n",
"printf('\n\n Result \n\n') \n",
"printf('\n (a) Periodic time T = %.2f secs',T1)\n",
"printf('\n (b) Periodic time T = %.2E secs\n',T2)"
   ]
   }
,
{
		   "cell_type": "markdown",
		   "metadata": {},
		   "source": [
			"## Example 14.02: Example_2.sce"
		   ]
		  },
  {
"cell_type": "code",
	   "execution_count": null,
	   "metadata": {
	    "collapsed": true
	   },
	   "outputs": [],
"source": [
"//Problem 14.02: Determine the frequencies for periodic times of (a) 4 ms, (b) 4 μs\n",
"\n",
"//initializing the variables:\n",
"T1 = 0.004; // in secs\n",
"T2 = 4E-6; // in secs\n",
"\n",
"//calculation:\n",
"f1 = 1/T1\n",
"f2 = 1/T2\n",
"\n",
"printf('\n\n Result \n\n') \n",
"printf('\n (a) Frequency f = %.0f Hz',f1)\n",
"printf('\n (b) Frequency f = %.2E secs',f2)"
   ]
   }
,
{
		   "cell_type": "markdown",
		   "metadata": {},
		   "source": [
			"## Example 14.03: Example_3.sce"
		   ]
		  },
  {
"cell_type": "code",
	   "execution_count": null,
	   "metadata": {
	    "collapsed": true
	   },
	   "outputs": [],
"source": [
"//Problem 14.03: An alternating current completes 5 cycles in 8 ms. What is its frequency?\n",
"\n",
"//initializing the variables:\n",
"T = (8E-3)/5; // in secs\n",
"\n",
"//calculation:\n",
"f = 1/T\n",
"\n",
"printf('\n\n Result \n\n') \n",
"printf('\n Frequency f = %.0f Hz\n',f)"
   ]
   }
,
{
		   "cell_type": "markdown",
		   "metadata": {},
		   "source": [
			"## Example 14.04: Example_4.sce"
		   ]
		  },
  {
"cell_type": "code",
	   "execution_count": null,
	   "metadata": {
	    "collapsed": true
	   },
	   "outputs": [],
"source": [
"//Problem 14.04: For the periodic waveforms shown in Figure 14.5 determine for each: (i) frequency (ii) average value over half a cycle (iii) rms value (iv) form factor and (v) peak factor\n",
"\n",
"//initializing the variables:\n",
"Ta = 0.02; // Time for 1 complete cycle in secs\n",
"Vamax = 200; // in volts\n",
"Va1 = 25; // in volts\n",
"Va2 = 75; // in volts\n",
"Va3 = 125; // in volts\n",
"Va4 = 175; // in volts\n",
"Tb = 0.016; // Time for 1 complete cycle in secs\n",
"Ibmax = 10; // in Amperes\n",
"\n",
"//calculation:\n",
"//for Triangular waveform (Figure 14.5(a))\n",
"fa = 1/Ta\n",
"Aaw = Ta*Vamax/4\n",
"Vaavg = Aaw*2/Ta\n",
"Varms = (((Va1^2) + (Va2^2) + (Va3^2) + (Va4^2))/4)^0.5 //Note that the greater the number of intervals chosen, the greater the accuracy of the result\n",
"Ffa = Varms/Vaavg\n",
"Pfa = Vamax/Varms\n",
"\n",
"//for Rectangular waveform (Figure 14.5(b))\n",
"fb = 1/Tb\n",
"Abw = Tb*Ibmax/2\n",
"Ibavg = Abw*2/Tb\n",
"Ibrms = 10\n",
"Ffb = Ibrms/Ibavg\n",
"Pfb = Ibmax/Ibrms\n",
"\n",
"printf('\n\n Result \n\n') \n",
"printf('\n (a1)Frequency f = %.0f Hz',fa)\n",
"printf('\n (a2)average value over half a cycle = %.0f V',Vaavg)\n",
"printf('\n (a3)rms value = %.1f V',Varms)\n",
"printf('\n (a4)Form factor = %.2f',Ffa)\n",
"printf('\n (a5)Peak factor = %.2f',Pfa)\n",
"printf('\n (b1)Frequency f = %.1f Hz',fb)\n",
"printf('\n (b2)average value over half a cycle = %.0f A',Ibavg)\n",
"printf('\n (b3)rms value = %.0f A',Ibrms)\n",
"printf('\n (b4)Form factor = %.0f',Ffb)\n",
"printf('\n (b5)Peak factor = %.0f',Pfb)"
   ]
   }
,
{
		   "cell_type": "markdown",
		   "metadata": {},
		   "source": [
			"## Example 14.06: Example_6.sce"
		   ]
		  },
  {
"cell_type": "code",
	   "execution_count": null,
	   "metadata": {
	    "collapsed": true
	   },
	   "outputs": [],
"source": [
"//Problem 14.06: Calculate the rms value of a sinusoidal current of maximum value 20 A\n",
"\n",
"//initializing the variables:\n",
"Imax = 20; // in Amperes\n",
"\n",
"//calculation:\n",
"//for a sine wave\n",
"Irms = Imax/(2^0.5)\n",
"\n",
"printf('\n\n Result \n\n') \n",
"printf('\n Rms value = %.2f A\n',Irms)"
   ]
   }
,
{
		   "cell_type": "markdown",
		   "metadata": {},
		   "source": [
			"## Example 14.07: Example_7.sce"
		   ]
		  },
  {
"cell_type": "code",
	   "execution_count": null,
	   "metadata": {
	    "collapsed": true
	   },
	   "outputs": [],
"source": [
"//Problem 14.07: Determine the peak and mean values for a 240 V mains supply.\n",
"\n",
"//initializing the variables:\n",
"Vrms = 240; // in Volts\n",
"\n",
"//calculation:\n",
"//for a sine wave\n",
"Vmax = Vrms*(2^0.5)\n",
"Vmean = 0.637*Vmax\n",
"\n",
"printf('\n\n Result \n\n') \n",
"printf('\n peak value = %.1f V',Vmax)\n",
"printf('\n mean value = %.1f V',Vmean)"
   ]
   }
,
{
		   "cell_type": "markdown",
		   "metadata": {},
		   "source": [
			"## Example 14.08: Example_8.sce"
		   ]
		  },
  {
"cell_type": "code",
	   "execution_count": null,
	   "metadata": {
	    "collapsed": true
	   },
	   "outputs": [],
"source": [
"//Problem 14.08: A supply voltage has a mean value of 150 V. Determine its maximum value and its rms value\n",
"\n",
"//initializing the variables:\n",
"Vmean = 150; // in Volts\n",
"\n",
"//calculation:\n",
"//for a sine wave\n",
"Vmax = Vmean/0.637\n",
"Vrms = 0.707*Vmax\n",
"\n",
"printf('\n\n Result \n\n') \n",
"printf('\n peak value = %.1f V',Vmax)\n",
"printf('\n rms value = %.1f V',Vrms)"
   ]
   }
,
{
		   "cell_type": "markdown",
		   "metadata": {},
		   "source": [
			"## Example 14.09: Example_9.sce"
		   ]
		  },
  {
"cell_type": "code",
	   "execution_count": null,
	   "metadata": {
	    "collapsed": true
	   },
	   "outputs": [],
"source": [
"//Problem 14.09: An alternating voltage is given by v = 282.8 sin 314t volts. Find (a) the rms voltage, (b) the frequency and (c) the instantaneous value of voltage when t = 4 ms\n",
"\n",
"//initializing the variables:\n",
"Vmax = 282.8; // in Volts\n",
"w = 314; // in rad/sec\n",
"t = 0.004; // in sec\n",
"\n",
"//calculation:\n",
"//for a sine wave\n",
"Vrms = 0.707*Vmax\n",
"f = w/(2*%pi)\n",
"v = Vmax*sin(w*t)\n",
"\n",
"printf('\n\n Result \n\n') \n",
"printf('\n (a)rms value = %.0f V',Vrms)\n",
"printf('\n (b)frequency f = %.0f Hz',f)\n",
"printf('\n (c)instantaneous value of voltage at 4 ms = %.1f V',v)"
   ]
   }
,
{
		   "cell_type": "markdown",
		   "metadata": {},
		   "source": [
			"## Example 14.10: Example_10.sce"
		   ]
		  },
  {
"cell_type": "code",
	   "execution_count": null,
	   "metadata": {
	    "collapsed": true
	   },
	   "outputs": [],
"source": [
"//Problem 14.10: An alternating voltage is given by v = 75sin(200*pi*t -0.25) volts. Find (a) the amplitude, (b) the peak-to-peak value, (c) the rms value, (d) the periodic time, (e) the frequency, and (f) the phase angle (in degrees and minutes) relative to 75 sin 200t\n",
"\n",
"//initializing the variables:\n",
"Vmax = 75; // in Volts\n",
"w = 200*%pi; // in rad/sec\n",
"t = 0.004; // in sec\n",
"phi = 0.25; // in radians\n",
"\n",
"//calculation:\n",
"//for a sine wave\n",
"Vptp = 2*Vmax\n",
"Vrms = 0.707*Vmax\n",
"f = w/(2*%pi)\n",
"T = 1/f\n",
"v = Vmax*sin(w*t)\n",
"phid = phi*180/%pi\n",
"\n",
"printf('\n\n Result \n\n') \n",
"printf('\n (a) Amplitude, or peak value = %.0f V',Vmax)\n",
"printf('\n (b) Peak-to-peak value = %.0f V',Vptp)\n",
"printf('\n (c)rms value = %.0f V',Vrms)\n",
"printf('\n (d)periodic time, T = %.2f sec',T)\n",
"printf('\n (e)frequency f = %.0f Hz',f)\n",
"printf('\n (f)phase angle = %.2f°',phid)"
   ]
   }
,
{
		   "cell_type": "markdown",
		   "metadata": {},
		   "source": [
			"## Example 14.12: Example_12.sce"
		   ]
		  },
  {
"cell_type": "code",
	   "execution_count": null,
	   "metadata": {
	    "collapsed": true
	   },
	   "outputs": [],
"source": [
"//Problem 14.12: The current in an a.c. circuit at any time t seconds is given by: i = 120 sin(100*pit+0.36) amperes. Find: (a) the peak value, the periodic time, the frequency and phase angle relative to 120sin 100pit (b) the value of the current when t = 0 (c) the value of the current when t = 8 ms (d) the time when the current first reaches 60 A, and (e) the time when the current is first a maximum\n",
"\n",
"//initializing the variables:\n",
"Imax = 120; // in Amperes\n",
"w = 100*%pi; // in rad/sec\n",
"phi = 0.36; // in rad\n",
"t1 = 0; // in secs\n",
"t2 = 0.008; // in secs\n",
"i = 60; // in amperes\n",
"\n",
"//calculation:\n",
"//for a sine wave\n",
"f = w/(2*%pi)\n",
"T = 1/f\n",
"phid = phi*180/%pi\n",
"i0 = Imax*sin((w*t1) + phi)\n",
"i8 = Imax*sin((w*t2)+phi) \n",
"ti = (asin(i/Imax) - phi)/w\n",
"tm1 = (asin(Imax/Imax) - phi)/w\n",
"\n",
"printf('\n\n Result \n\n') \n",
"printf('\n (a)Peak value = %.0f A, Periodic time T = %.2f sec, Frequency, f = %.0f Hz Phase angle = %.1f°', Imax, T, f, phid)\n",
"printf('\n (b) When t = 0, i = %.1f A',i0)\n",
"printf('\n (c)When t = 8 ms = %.1f A', i8)\n",
"printf('\n (d)When i is 60 A, then time t = %.2E s',ti)\n",
"printf('\n (e)When the current is a maximum, time, t = %.2E s',tm1)"
   ]
   }
],
"metadata": {
		  "kernelspec": {
		   "display_name": "Scilab",
		   "language": "scilab",
		   "name": "scilab"
		  },
		  "language_info": {
		   "file_extension": ".sce",
		   "help_links": [
			{
			 "text": "MetaKernel Magics",
			 "url": "https://github.com/calysto/metakernel/blob/master/metakernel/magics/README.md"
			}
		   ],
		   "mimetype": "text/x-octave",
		   "name": "scilab",
		   "version": "0.7.1"
		  }
		 },
		 "nbformat": 4,
		 "nbformat_minor": 0
}
