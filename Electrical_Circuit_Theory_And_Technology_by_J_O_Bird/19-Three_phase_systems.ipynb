{
"cells": [
 {
		   "cell_type": "markdown",
	   "metadata": {},
	   "source": [
       "# Chapter 19: Three phase systems"
	   ]
	},
{
		   "cell_type": "markdown",
		   "metadata": {},
		   "source": [
			"## Example 19.01: Example_1.sce"
		   ]
		  },
  {
"cell_type": "code",
	   "execution_count": null,
	   "metadata": {
	    "collapsed": true
	   },
	   "outputs": [],
"source": [
"//Problem 19.01: Three loads, each of resistance 30 ohm , are connected in star to a 415 V, 3-phase supply. Determine (a) the system phase voltage, (b) the phase current and (c) the line current.\n",
"\n",
"//initializing the variables:\n",
"Vl = 415; // in Volts\n",
"Rp = 30; // in ohms\n",
"\n",
"//calculation:\n",
"Vp = Vl/(3^0.5)\n",
"Ip = Vp/Rp\n",
"Il = Ip\n",
"\n",
"printf('\n\n Result \n\n')\n",
"printf('\n (a)the system phase voltage is %.1f V',Vp)\n",
"printf('\n (b)phase current is %.0f A',Ip)\n",
"printf('\n (c)line current is %.0f A',Il)"
   ]
   }
,
{
		   "cell_type": "markdown",
		   "metadata": {},
		   "source": [
			"## Example 19.02: Example_2.sce"
		   ]
		  },
  {
"cell_type": "code",
	   "execution_count": null,
	   "metadata": {
	    "collapsed": true
	   },
	   "outputs": [],
"source": [
"//Problem 19.02: A star-connected load consists of three identical coils each of resistance 30 ohm and inductance 127.3 mH. If the line current is 5.08 A, calculate the line voltage if the supply frequency is 50 Hz.\n",
"\n",
"//initializing the variables:\n",
"R = 30; // in ohms\n",
"L = 0.1273; // in Henry\n",
"Ip = 5.08; // in Amperes\n",
"f = 50; // in Hz\n",
"\n",
"//calculation:\n",
"XL = 2*%pi*f*L\n",
"Zp = (R*R + XL*XL)^0.5\n",
"Il = Ip\n",
"Vp = Ip*Zp\n",
"Vl = Vp*(3^0.5)\n",
"\n",
"printf('\n\n Result \n\n')\n",
"printf('\n (a)line voltage is %.0f V',Vl)"
   ]
   }
,
{
		   "cell_type": "markdown",
		   "metadata": {},
		   "source": [
			"## Example 19.04: Example_4.sce"
		   ]
		  },
  {
"cell_type": "code",
	   "execution_count": null,
	   "metadata": {
	    "collapsed": true
	   },
	   "outputs": [],
"source": [
"//Problem 19.04: A 415 V, 3-phase, 4 wire, star-connected system supplies three resistive loads as shown in Figure 19.7. Determine (a) the current in each line and (b) the current in the neutral conductor.\n",
"\n",
"//initializing the variables:\n",
"V = 415; // in Volts\n",
"PR = 24000; // in Watt\n",
"Py = 18000; // in Watt\n",
"Pb = 12000; // in Watt\n",
"VR = 240; // in Volts\n",
"Vy = 240; // in Volts\n",
"Vb = 240; // in Volts\n",
"\n",
"//calculation:\n",
"//For a star-connected system VL = Vp*(3^0.5)\n",
"Vp = Vl/(3^0.5)\n",
"phir = 90*%pi/180\n",
"phiy = 330*%pi/180\n",
"phib = 210*%pi/180\n",
"// I = P/V  for a resistive load\n",
"IR = PR/VR\n",
"Iy = Py/Vy\n",
"Ib = Pb/Vb\n",
"Inh = IR*cos(phir) + Ib*cos(phib) + Iy*cos(phiy)\n",
"Inv = IR*sin(phir) + Ib*sin(phib) + Iy*sin(phiy)\n",
"In = (Inh^2 + Inv^2)^0.5\n",
"\n",
"printf('\n\n Result \n\n')\n",
"printf('\n (a)cuurnt in R line is %.0f A, cuurnt in Y line is %.0f A and cuurnt in B line is %.0f A',IR,Iy,Ib)\n",
"printf('\n (b)cuurnt in neutral line is %.1f A',In)"
   ]
   }
,
{
		   "cell_type": "markdown",
		   "metadata": {},
		   "source": [
			"## Example 19.05: Example_5.sce"
		   ]
		  },
  {
"cell_type": "code",
	   "execution_count": null,
	   "metadata": {
	    "collapsed": true
	   },
	   "outputs": [],
"source": [
"//Problem 19.05: Three identical coils each of resistance 30 ohm and inductance 127.3 mH are connected in delta to a 440 V, 50 Hz, 3-phase supply. Determine (a) the phase current, and (b) the line current.\n",
"\n",
"//initializing the variables:\n",
"R = 30; // in ohms\n",
"L = 0.1273; // in Henry\n",
"VL = 440; // in Volts\n",
"f = 50; // in Hz\n",
"\n",
"//calculation:\n",
"XL = 2*%pi*f*L\n",
"Zp = (R*R + XL*XL)^0.5\n",
"Vp = VL\n",
"//Phase current\n",
"Ip = Vp/Zp\n",
"//For a delta connection,\n",
"IL = Ip*(3^0.5)\n",
"\n",
"printf('\n\n Result \n\n')\n",
"printf('\n (a)the phase current %.1f A',Ip)\n",
"printf('\n (b)line current %.2f A',IL)"
   ]
   }
,
{
		   "cell_type": "markdown",
		   "metadata": {},
		   "source": [
			"## Example 19.06: Example_6.sce"
		   ]
		  },
  {
"cell_type": "code",
	   "execution_count": null,
	   "metadata": {
	    "collapsed": true
	   },
	   "outputs": [],
"source": [
"//Problem 19.06: Three identical capacitors are connected in delta to a 415 V, 50 Hz, 3-phase supply. If the line current is 15 A, determine the capacitance of each of the capacitors.\n",
"\n",
"//initializing the variables:\n",
"IL = 15; // in Amperes\n",
"VL = 415; // in Volts\n",
"f = 50; // in Hz\n",
"\n",
"//calculation:\n",
"//For a delta connection\n",
"Ip = IL/(3^0.5)   //phase current\n",
"Vp = VL\n",
"//Capacitive reactance per phase\n",
"Xc = Vp/Ip\n",
"C = 1/(2*%pi*f*Xc)\n",
"\n",
"printf('\n\n Result \n\n')\n",
"printf('\n capacitance is %.3E F',C)"
   ]
   }
,
{
		   "cell_type": "markdown",
		   "metadata": {},
		   "source": [
			"## Example 19.07: Example_7.sce"
		   ]
		  },
  {
"cell_type": "code",
	   "execution_count": null,
	   "metadata": {
	    "collapsed": true
	   },
	   "outputs": [],
"source": [
"//Problem 19.07: Three coils each having resistance 3 ohm and inductive reactance 4 ohm are connected (i) in star and (ii) in delta to a 415 V, 3-phase supply. Calculate for each connection (a) the line and phase voltages and (b) the phase and line currents.\n",
"\n",
"//initializing the variables:\n",
"R = 3; // in ohms\n",
"XL = 4; // in ohms\n",
"VL = 415; // in Volts\n",
"\n",
"//calculation:\n",
"//For a star connection:\n",
"//IL = Ip\n",
"//VL = Vp*(3^0.5)\n",
"VLs = VL\n",
"Vps = VLs/(3^0.5)\n",
"//Impedance per phase,\n",
"Zp = (R*R + XL*XL)^0.5\n",
"Ips = Vps/Zp\n",
"ILs = Ips\n",
"//For a delta connection:\n",
"//VL = Vp\n",
"//IL = Ip*(3^0.5)\n",
"VLd = VL\n",
"Vpd = VLd\n",
"Ipd = Vpd/Zp\n",
"ILd = Ipd*(3^0.5)\n",
"\n",
"printf('\n\n Result \n\n')\n",
"printf('\n (a)the line voltage for star connection is %.0f V and the phase voltage for star connection is %.0f V and the line voltage for delta connection is %.0f V and the phase voltage for delta connection is %.0f V',VLs,Vps,VLd,Vpd)\n",
"printf('\n (b)the line current for star connection is %.0f A and the phase current for star connection is %.0f A and the line current for delta connection is %.0f A and the phase current for delta connection is %.0f A',ILs,Ips,ILd,Ipd)"
   ]
   }
,
{
		   "cell_type": "markdown",
		   "metadata": {},
		   "source": [
			"## Example 19.08: Example_8.sce"
		   ]
		  },
  {
"cell_type": "code",
	   "execution_count": null,
	   "metadata": {
	    "collapsed": true
	   },
	   "outputs": [],
"source": [
"//Problem 19.08: Three 12 ohms resistors are connected in star to a 415 V, 3-phase supply. Determine the total power dissipated by the resistors.\n",
"\n",
"//initializing the variables:\n",
"Rp = 12; // in ohms\n",
"VL = 415; // in Volts\n",
"\n",
"//calculation:\n",
"//Power dissipated, P = VL*IL*(3^0.5)*cos(phi)  or  P = 3*Ip*Ip*Rp)\n",
"Vp = VL/(3^0.5)   // since the resistors are star-connected\n",
"//Phase current, Ip\n",
"Zp = Rp\n",
"Ip = Vp/Zp\n",
"//For a star connection\n",
"IL = Ip\n",
"// For a purely resistive load, the power factor cos(phi) = 1\n",
"pf = 1\n",
"P = VL*IL*(3^0.5)*pf\n",
"\n",
"printf('\n\n Result \n\n')\n",
"printf('\n (a)total power dissipated by the resistors is %.0f W',P)"
   ]
   }
,
{
		   "cell_type": "markdown",
		   "metadata": {},
		   "source": [
			"## Example 19.09: Example_9.sce"
		   ]
		  },
  {
"cell_type": "code",
	   "execution_count": null,
	   "metadata": {
	    "collapsed": true
	   },
	   "outputs": [],
"source": [
"//Problem 19.09: The input power to a 3-phase a.c. motor is measured as 5 kW. If the voltage and current to the motor are 400 V and 8.6 A respectively, determine the power factor of the system.\n",
"\n",
"//initializing the variables:\n",
"P = 5000; // in Watts\n",
"IL = 8.6; // in amperes\n",
"VL = 400; // in Volts\n",
"\n",
"//calculation:\n",
"//Power dissipated, P = VL*IL*(3^0.5)*cos(phi)  or  P = 3*Ip*Ip*Rp)\n",
"pf = P/(VL*IL*(3^0.5))\n",
"\n",
"printf('\n\n Result \n\n')\n",
"printf('\n power factor is %.3f',pf)"
   ]
   }
,
{
		   "cell_type": "markdown",
		   "metadata": {},
		   "source": [
			"## Example 19.10: Example_10.sce"
		   ]
		  },
  {
"cell_type": "code",
	   "execution_count": null,
	   "metadata": {
	    "collapsed": true
	   },
	   "outputs": [],
"source": [
"//Problem 19.10: Three identical coils, each of resistance 10 ohm and inductance 42 mH are connected (a) in star and (b) in delta to a 415 V, 50 Hz, 3-phase supply. Determine the total power dissipated in each case.\n",
"\n",
"//initializing the variables:\n",
"R = 10; // in ohms\n",
"L = 0.042; // in Henry\n",
"VL = 415; // in Volts\n",
"f = 50; // in Hz\n",
"\n",
"//calculation:\n",
"//For a star connection:\n",
"//IL = Ip\n",
"//VL = Vp*(3^0.5)\n",
"XL = 2*%pi*f*L\n",
"Zp = (R*R + XL*XL)^0.5\n",
"VLs = VL\n",
"Vps = VLs/(3^0.5)\n",
"//Impedance per phase,\n",
"Ips = Vps/Zp\n",
"ILs = Ips\n",
"//Power dissipated, P = VL*IL*(3^0.5)*cos(phi)  or  P = 3*Ip*Ip*Rp)\n",
"pfs = R/Zp\n",
"Ps = VLs*ILs*(3^0.5)*pfs\n",
"\n",
"//For a delta connection:\n",
"//VL = Vp\n",
"//IL = Ip*(3^0.5)\n",
"VLd = VL\n",
"Vpd = VLd\n",
"Ipd = Vpd/Zp\n",
"ILd = Ipd*(3^0.5)\n",
"//Power dissipated, P = VL*IL*(3^0.5)*cos(phi)  or  P = 3*Ip*Ip*Rp)\n",
"pfd = R/Zp\n",
"Pd = VLd*ILd*(3^0.5)*pfd\n",
"\n",
"printf('\n\n Result \n\n')\n",
"printf('\n total power dissipated in star is %.1E W and in delta is %.2E W',Ps, Pd)"
   ]
   }
,
{
		   "cell_type": "markdown",
		   "metadata": {},
		   "source": [
			"## Example 19.11: Example_11.sce"
		   ]
		  },
  {
"cell_type": "code",
	   "execution_count": null,
	   "metadata": {
	    "collapsed": true
	   },
	   "outputs": [],
"source": [
"//Problem 19.11: A 415 V, 3-phase a.c. motor has a power output of 12.75 kW and operates at a power factor of 0.77 lagging and with an efficiency of 85%. If the motor is delta-connected, determine (a) the power input, (b) the line current and (c) the phase current.\n",
"\n",
"//initializing the variables:\n",
"Po = 12750; // in Watts\n",
"pf = 0.77; // power factor\n",
"eff = 0.85;\n",
"VL = 415; // in Volts\n",
"\n",
"//calculation:\n",
"//eff = power_out/power_in\n",
"Pi = Po/eff\n",
"//Power P = VL*IL*(3^0.5)*cos(phi)  or  P = 3*Ip*Ip*Rp)\n",
"IL = Pi/(VL*(3^0.5)*pf) // line current\n",
"\n",
"//For a delta connection:\n",
"//IL = Ip*(3^0.5)\n",
"Ip = IL/(3^0.5)\n",
"\n",
"printf('\n\n Result \n\n')\n",
"printf('\n (a)power input is %.2E W',Pi)\n",
"printf('\n (b)line current is %.2f A',IL)\n",
"printf('\n (c)phase current is %.2f A',Ip)"
   ]
   }
,
{
		   "cell_type": "markdown",
		   "metadata": {},
		   "source": [
			"## Example 19.13: Example_13.sce"
		   ]
		  },
  {
"cell_type": "code",
	   "execution_count": null,
	   "metadata": {
	    "collapsed": true
	   },
	   "outputs": [],
"source": [
"//Problem 19.13: A 400 V, 3-phase star connected alternator supplies a delta-connected load, each phase of which has a resistance of 30 ohm and inductive reactance 40 ohm. Calculate (a) the current supplied by the alternator and (b) the output power and the kVA of the alternator, neglecting losses in the line between the alternator and load.\n",
"\n",
"//initializing the variables:\n",
"R = 30; // in ohms\n",
"XL = 40; // in ohms\n",
"VL = 400; // in Volts\n",
"\n",
"//calculation:\n",
"Zp = (R*R + XL*XL)^0.5\n",
"//a delta-connected load\n",
"Vp = VL\n",
"//Phase current\n",
"Ip = Vp/Zp\n",
"IL = Ip*(3^0.5)\n",
"//Alternator output power is equal to the power dissipated by the load.\n",
"//Power P = VL*IL*(3^0.5)*cos(phi)  or  P = 3*Ip*Ip*Rp)\n",
"pf = R/Zp\n",
"P = VL*IL*(3^0.5)*pf\n",
"//Alternator output kVA,\n",
"S = VL*IL*(3^0.5)\n",
"\n",
"printf('\n\n Result \n\n')\n",
"printf('\n (a)the current supplied by the alternator is %.2f A',IL)\n",
"printf('\n (b)output power is %.2E W and kVA of the alternator is %.2E kVA',P, S)"
   ]
   }
,
{
		   "cell_type": "markdown",
		   "metadata": {},
		   "source": [
			"## Example 19.14: Example_14.sce"
		   ]
		  },
  {
"cell_type": "code",
	   "execution_count": null,
	   "metadata": {
	    "collapsed": true
	   },
	   "outputs": [],
"source": [
"//Problem 19.14: Each phase of a delta-connected load comprises a resistance of 30 ohm and an 80 μF capacitor in series. The load is connected to a 400 V, 50 Hz, 3-phase supply. Calculate (a) the phase current, (b) the line current, (c) the total power dissipated and (d) the kVA rating of the load. Draw the complete phasor diagram for the load.\n",
"\n",
"//initializing the variables:\n",
"R = 30; // in ohms\n",
"C = 80E-6; // in Farads\n",
"f = 50; // in Hz\n",
"VL = 400; // in Volts\n",
"\n",
"//calculation:\n",
"//Capacitive reactance\n",
"Xc = 1/(2*%pi*f*C)\n",
"Zp = (R*R + Xc*Xc)^0.5\n",
"pf = R/Zp\n",
"//a delta-connected load\n",
"Vp = VL\n",
"//Phase current\n",
"Ip = Vp/Zp\n",
"IL = Ip*(3^0.5)\n",
"//Power P = VL*IL*(3^0.5)*cos(phi)  or  P = 3*Ip*Ip*Rp)\n",
"P = VL*IL*(3^0.5)*pf\n",
"//Alternator output kVA,\n",
"S = VL*IL*(3^0.5)\n",
"\n",
"printf('\n\n Result \n\n')\n",
"printf('\n (a)the phase current  is %.3f A',Ip)\n",
"printf('\n (b)the line current  is %.2f A',IL)\n",
"printf('\n (c) power is %.2E W and \n(d)kVA of the alternator is %.2E kVA',P, S)"
   ]
   }
,
{
		   "cell_type": "markdown",
		   "metadata": {},
		   "source": [
			"## Example 19.15: Example_15.sce"
		   ]
		  },
  {
"cell_type": "code",
	   "execution_count": null,
	   "metadata": {
	    "collapsed": true
	   },
	   "outputs": [],
"source": [
"//Problem 19.15: Two wattmeters are connected to measure the input power to a balanced 3-phase load by the two-wattmeter method. If the instrument readings are 8 kW and 4 kW, determine (a) the total power input and (b) the load power factor.\n",
"\n",
"//initializing the variables:\n",
"Pi1 = 8000; // in Watts\n",
"Pi2 = 4000; // in Watts\n",
"\n",
"//calculation:\n",
"//Total input power\n",
"Pi = Pi1 + Pi2\n",
"phi = atan((Pi1 - Pi2)*(3^0.5)/(Pi1 + Pi2))\n",
"//Power factor\n",
"pf = cos(phi)\n",
"\n",
"printf('\n\n Result \n\n')\n",
"printf('\n (a)power input is %.1E W',Pi)\n",
"printf('\n (b)power factor is %.3f',pf)"
   ]
   }
,
{
		   "cell_type": "markdown",
		   "metadata": {},
		   "source": [
			"## Example 19.16: Example_16.sce"
		   ]
		  },
  {
"cell_type": "code",
	   "execution_count": null,
	   "metadata": {
	    "collapsed": true
	   },
	   "outputs": [],
"source": [
"//Problem 19.16: Two wattmeters connected to a 3-phase motor indicate the total power input to be 12 kW. The power factor is 0.6. Determine the readings of each wattmeter.\n",
"\n",
"//initializing the variables:\n",
"Pi = 12000; // in Watts\n",
"pf = 0.6; // power factor\n",
"\n",
"//calculation:\n",
"//If the two wattmeters indicate Pi1 and Pi2 respectively\n",
"// Pit = Pi1 + Pi2\n",
"Pit = Pi\n",
"// Pid = Pi1 - Pi2\n",
"//power factor = 0.6 = cos(phi) \n",
"phi = acos(pf)\n",
"Pid = Pit*tan(phi)/(3^0.5)\n",
"//Hence wattmeter 1 reads\n",
"Pi1 = (Pid + Pit)/2\n",
"//wattmeter 2 reads\n",
"Pi2 = Pit - Pi1\n",
"\n",
"printf('\n\n Result \n\n')\n",
"printf('\n reading in each wattameter are %.2E W and %.2E W',Pi1,Pi2)"
   ]
   }
,
{
		   "cell_type": "markdown",
		   "metadata": {},
		   "source": [
			"## Example 19.17: Example_17.sce"
		   ]
		  },
  {
"cell_type": "code",
	   "execution_count": null,
	   "metadata": {
	    "collapsed": true
	   },
	   "outputs": [],
"source": [
"//Problem 19.17: Two wattmeters indicate 10 kW and 3 kW respectively when connected to measure the input power to a 3-phase balanced load, the reverse switch being operated on the meter indicating the 3 kW reading. Determine (a) the input power and (b) the load power factor.\n",
"\n",
"//initializing the variables:\n",
"Pi1 = 10000; // in Watts\n",
"Pi2 = -3000; // in Watts\n",
"\n",
"//calculation:\n",
"//Total input power\n",
"Pi = Pi1 + Pi2\n",
"phi = atan((Pi1 - Pi2)*(3^0.5)/(Pi1 + Pi2))\n",
"//Power factor\n",
"pf = cos(phi)\n",
"\n",
"printf('\n\n Result \n\n')\n",
"printf('\n (a)power input is %.2E W',Pi)\n",
"printf('\n (b)power factor is %.3f',pf)"
   ]
   }
,
{
		   "cell_type": "markdown",
		   "metadata": {},
		   "source": [
			"## Example 19.18: Example_18.sce"
		   ]
		  },
  {
"cell_type": "code",
	   "execution_count": null,
	   "metadata": {
	    "collapsed": true
	   },
	   "outputs": [],
"source": [
"//Problem 19.18: Three similar coils, each having a resistance of 8 ohm  and an inductive reactance of 8 ohm  are connected (a) in star and (b) in delta, across a 415 V, 3-phase supply. Calculate for each connection the readings on each of two wattmeters connected to measure the power by the two-wattmeter method.\n",
"\n",
"//initializing the variables:\n",
"R = 8; // in ohms\n",
"XL = 8; // in ohms\n",
"VL = 415; // in Volts\n",
"\n",
"//calculation:\n",
"//For a star connection:\n",
"//IL = Ip\n",
"//VL = Vp*(3^0.5)\n",
"VLs = VL\n",
"Vps = VLs/(3^0.5)\n",
"//Impedance per phase,\n",
"Zp = (R*R + XL*XL)^0.5\n",
"Ips = Vps/Zp\n",
"ILs = Ips\n",
"//Power dissipated, P = VL*IL*(3^0.5)*cos(phi)  or  P = 3*Ip*Ip*Rp)\n",
"pf = R/Zp\n",
"Ps = VLs*ILs*(3^0.5)*pf\n",
"//If wattmeter readings are P1 and P2 then P1 + P2 = Pst\n",
"Pst = Ps\n",
"// Pid = Pi1 - Pi2\n",
"phi = acos(pf)\n",
"Psd = Pst*tan(phi)/(3^0.5)\n",
"//Hence wattmeter 1 reads\n",
"Ps1 = (Psd + Pst)/2\n",
"//wattmeter 2 reads\n",
"Ps2 = Pst - Ps1\n",
"\n",
"//For a delta connection:\n",
"//VL = Vp\n",
"//IL = Ip*(3^0.5)\n",
"VLd = VL\n",
"Vpd = VLd\n",
"Ipd = Vpd/Zp\n",
"ILd = Ipd*(3^0.5)\n",
"//Power dissipated, P = VL*IL*(3^0.5)*cos(phi)  or  P = 3*Ip*Ip*Rp)\n",
"Pd = VLd*ILd*(3^0.5)*pf\n",
"//If wattmeter readings are P1 and P2 then P1 + P2 = Pdt\n",
"Pdt = Pd\n",
"// Pid = Pi1 - Pi2\n",
"Pdd = Pdt*tan(phi)/(3^0.5)\n",
"//Hence wattmeter 1 reads\n",
"Pd1 = (Pdd + Pdt)/2\n",
"//wattmeter 2 reads\n",
"Pd2 = Pdt - Pd1\n",
"\n",
"printf('\n\n Result \n\n')\n",
"printf('\n (a)When the coils are star-connected the wattmeter readings are %.3E W and %.3E W',Ps1,Ps2)\n",
"printf('\n (b)When the coils are delta-connected the wattmeter readings are are %.3E W and %.3E W',Pd1,Pd2)"
   ]
   }
],
"metadata": {
		  "kernelspec": {
		   "display_name": "Scilab",
		   "language": "scilab",
		   "name": "scilab"
		  },
		  "language_info": {
		   "file_extension": ".sce",
		   "help_links": [
			{
			 "text": "MetaKernel Magics",
			 "url": "https://github.com/calysto/metakernel/blob/master/metakernel/magics/README.md"
			}
		   ],
		   "mimetype": "text/x-octave",
		   "name": "scilab",
		   "version": "0.7.1"
		  }
		 },
		 "nbformat": 4,
		 "nbformat_minor": 0
}
