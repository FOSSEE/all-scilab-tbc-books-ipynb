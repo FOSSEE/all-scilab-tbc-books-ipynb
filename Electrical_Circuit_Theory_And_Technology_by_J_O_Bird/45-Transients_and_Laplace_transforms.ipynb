{
"cells": [
 {
		   "cell_type": "markdown",
	   "metadata": {},
	   "source": [
       "# Chapter 45: Transients and Laplace transforms"
	   ]
	},
{
		   "cell_type": "markdown",
		   "metadata": {},
		   "source": [
			"## Example 45.01: Example_1.sce"
		   ]
		  },
  {
"cell_type": "code",
	   "execution_count": null,
	   "metadata": {
	    "collapsed": true
	   },
	   "outputs": [],
"source": [
"//Problem 45.01: A 500 nF capacitor is connected in series with a 100 kohm resistor and the circuit is connected to a 50 V, d.c. supply. Calculate (a) the initial value of current flowing, (b) the value of current 150 ms after connection, (c) the value of capacitor voltage 80 ms after connection, and (d) the time after connection when the resistor voltage is 35 V.\n",
"//initializing the variables:\n",
"C = 500E-9; // in Farad\n",
"R = 100000; // in Ohm\n",
"V = 50; // in VOlts\n",
"ti = 0.15; // in sec\n",
"tc = 0.08; // in sec\n",
"Vrt = 35; // in Volts\n",
"//calculation:\n",
"//Initial current, \n",
"i0 = (V/R)\n",
"//when time t = 150ms current is\n",
"i150 = (V/R)*%e^(-1*ti/(R*C))\n",
"//capacitor voltage, Vc\n",
"Vc = V*(1 - %e^(-1*tc/(R*C)))\n",
"//time, t\n",
"tvr = -1*R*C*log(Vrt/V)\n",
"printf('\n\n Result \n\n')\n",
"printf('\n initial value of current flowing is %.2E A',i0)\n",
"printf('\n current flowing at t = 150ms is %.2E A',i150)\n",
"printf('\n  value of capacitor voltage at t = 80ms is %.2f V',Vc)\n",
"printf('\n  the time after connection when the resistor voltage is 35 V is %.4f sec',tvr)"
   ]
   }
,
{
		   "cell_type": "markdown",
		   "metadata": {},
		   "source": [
			"## Example 45.02: Example_2.sce"
		   ]
		  },
  {
"cell_type": "code",
	   "execution_count": null,
	   "metadata": {
	    "collapsed": true
	   },
	   "outputs": [],
"source": [
"//Problem 45.02: A d.c. voltage supply of 200 V is connected across a 5 μF capacitor as shown in Figure 45.5. When the supply is suddenly cut by opening switch S, the capacitor is left isolated except for a parallel resistor of 2 Mohm. Calculate the p.d. across the capacitor after 20 s.\n",
"//initializing the variables:\n",
"C = 5E-6; // in Farad\n",
"R = 2000000; // in Ohm\n",
"V = 200; // in VOlts\n",
"tc = 20; // in sec\n",
"//calculation:\n",
"//capacitor voltage, Vc\n",
"Vc = V*(%e^(-1*tc/(R*C)))\n",
"printf('\n\n Result \n\n')\n",
"printf('\n  value of capacitor voltage at t = 20s is %.2f V',Vc)"
   ]
   }
,
{
		   "cell_type": "markdown",
		   "metadata": {},
		   "source": [
			"## Example 45.03: Example_3.sce"
		   ]
		  },
  {
"cell_type": "code",
	   "execution_count": null,
	   "metadata": {
	    "collapsed": true
	   },
	   "outputs": [],
"source": [
"//Problem 45.03: A coil of inductance 50 mH and resistance 5 ohm is connected to a 110 V, d.c. supply. Determine (a) the final value of current, (b) the value of current after 4 ms, (c) the value of the voltage across the resistor after 6 ms, (d) the value of the voltage across the inductance after 6 ms, and (e) the time when the current reaches 15 A.\n",
"//initializing the variables:\n",
"L = 0.05; // in Henry\n",
"R = 5; // in Ohm\n",
"V = 110; // in VOlts\n",
"ti = 0.004; // in sec\n",
"tvr = 0.006; // in sec\n",
"tvl = 0.006; // in sec\n",
"it = 15; // in amperes\n",
"//calculation:\n",
"//steady state current i\n",
"i = V/R\n",
"//when time t = 4ms current is\n",
"i4 = (V/R)*(1 - %e^(-1*ti*R/L))\n",
"//resistor voltage, VR\n",
"VR6 = V*(1 - %e^(-1*tvr*R/L))\n",
"//inductor voltage, VL\n",
"VL6 = V*(%e^(-1*tvl*R/L))\n",
"//time, t\n",
"ti = (-1*L/R)*log(1 - it*R/V)\n",
"printf('\n\n Result \n\n')\n",
"printf('\n steady state current i is %.0f A',i)\n",
"printf('\n when time t = 4ms current is is %.2f A',i4)\n",
"printf('\n  value of resistor voltage at t = 6ms is %.2f V',VR6)\n",
"printf('\n  value of inductor voltage at t = 6ms is %.2f V',VL6)\n",
"printf('\n  the time after connection when the current is 15 A is %.5f sec',ti)"
   ]
   }
,
{
		   "cell_type": "markdown",
		   "metadata": {},
		   "source": [
			"## Example 45.04: Example_4.sce"
		   ]
		  },
  {
"cell_type": "code",
	   "execution_count": null,
	   "metadata": {
	    "collapsed": true
	   },
	   "outputs": [],
"source": [
"//Problem 45.04:  In the circuit shown in Figure 45.8, a current of 5 A flows from the supply source. Switch S is then opened. Determine (a) the time for the current in the 2 H inductor to fall to 200 mA, and (b) the maximum voltage appearing across the resistor.\n",
"//initializing the variables:\n",
"i = 5; // in Amperes\n",
"L = 2 // in Henry\n",
"i1 = 0.2; // in Amperes\n",
"R = 10; // in Ohm\n",
"//calculation:\n",
"//time t\n",
"ti = (-1*L/R)*log(i1/i)\n",
"//voltage across the resistor is a maximum \n",
"VRm = i*R\n",
"printf('\n\n Result \n\n')\n",
"printf('\n  time t for the current in the 2 H inductor to fall to 200 mA is %.3f sec',ti)\n",
"printf('\n  max voltage across the resistor is %.0f V',VRm)"
   ]
   }
,
{
		   "cell_type": "markdown",
		   "metadata": {},
		   "source": [
			"## Example 45.05: Example_5.sce"
		   ]
		  },
  {
"cell_type": "code",
	   "execution_count": null,
	   "metadata": {
	    "collapsed": true
	   },
	   "outputs": [],
"source": [
"//Problem 45.05:  A series L –R–C circuit has inductance, L = 2 mH, resistance, R = 1 kohm and capacitance, C = 5 μF. (a) Determine whether the circuit is over, critical or underdamped. (b) If C = 5 nF, determine the state of damping.\n",
"//initializing the variables:\n",
"L = 0.002 // in Henry\n",
"R = 1000; // in Ohm\n",
"C1 = 5E-6; // in farad\n",
"C2 = 5E-9; // in farad\n",
"//calculation:\n",
"a = (R/(2*L))^2\n",
"b = 1/(L*C1)\n",
"if (a>b) then\n",
"	s1 = 'overdamped';\n",
"elseif (a<b) then\n",
"	s1 = 'underdamped';\n",
"else\n",
"	s1 = 'critically damped';\n",
"end\n",
"c = 1/(L*C2)\n",
"if (a>c) then\n",
"	s2 = 'overdamped';\n",
"elseif (a<c) then\n",
"	s2 = 'underdamped';\n",
"else\n",
"	s2 = 'critically damped';\n",
"end\n",
"    \n",
"printf('\n\n Result \n\n')\n",
"printf('\n  circuit is %s',s1)\n",
"printf('\n  if C = 5 nF, circuit is %s',s2)"
   ]
   }
,
{
		   "cell_type": "markdown",
		   "metadata": {},
		   "source": [
			"## Example 45.06: Example_6.sce"
		   ]
		  },
  {
"cell_type": "code",
	   "execution_count": null,
	   "metadata": {
	    "collapsed": true
	   },
	   "outputs": [],
"source": [
"//Problem 45.06:  In the circuit of problem 45.05, what value of capacitance will give critical damping ?\n",
"//initializing the variables:\n",
"L = 0.002 // in Henry\n",
"R = 1000; // in Ohm\n",
"//calculation:\n",
"a = (R/(2*L))^2\n",
"//for critically damped\n",
"C = 4*L/R^2\n",
"	\n",
"printf('\n\n Result \n\n')\n",
"printf('\n  capacitance C is %.2E F',C)"
   ]
   }
],
"metadata": {
		  "kernelspec": {
		   "display_name": "Scilab",
		   "language": "scilab",
		   "name": "scilab"
		  },
		  "language_info": {
		   "file_extension": ".sce",
		   "help_links": [
			{
			 "text": "MetaKernel Magics",
			 "url": "https://github.com/calysto/metakernel/blob/master/metakernel/magics/README.md"
			}
		   ],
		   "mimetype": "text/x-octave",
		   "name": "scilab",
		   "version": "0.7.1"
		  }
		 },
		 "nbformat": 4,
		 "nbformat_minor": 0
}
