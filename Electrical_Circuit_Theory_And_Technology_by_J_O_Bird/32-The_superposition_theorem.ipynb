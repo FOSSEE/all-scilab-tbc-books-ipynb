{
"cells": [
 {
		   "cell_type": "markdown",
	   "metadata": {},
	   "source": [
       "# Chapter 32: The superposition theorem"
	   ]
	},
{
		   "cell_type": "markdown",
		   "metadata": {},
		   "source": [
			"## Example 32.01: Example_1.sce"
		   ]
		  },
  {
"cell_type": "code",
	   "execution_count": null,
	   "metadata": {
	    "collapsed": true
	   },
	   "outputs": [],
"source": [
"//Problem 32.01:A.c. sources of 100/_0° V and internal resistance 25 ohm and 50/_90° V and internal resistance 10 ohm, are connected in parallel across a 20 ohm load. Determine using the superposition theorem, the current in the 20 ohm load and the current in each voltage source\n",
"\n",
"//initializing the variables:\n",
"rv1 = 100; // in volts\n",
"rv2 = 50; // in volts\n",
"thetav1 = 0; // in degrees\n",
"thetav2 = 90; // in degrees\n",
"r1 = 25; // in ohm\n",
"R = 20; // in ohm\n",
"r2 = 10; // in ohm\n",
"\n",
"//calculation:\n",
"//voltage\n",
"V1 = rv1*cos(thetav1*%pi/180) + %i*rv1*sin(thetav1*%pi/180)\n",
"V2 = rv2*cos(thetav2*%pi/180) + %i*rv2*sin(thetav2*%pi/180)\n",
"//The circuit diagram is shown in Figure 32.7. Following the above procedure:\n",
"//The network is redrawn with the 50/_90° V source removed as shown in Figure 32.8\n",
"//Currents I1, I2 and I3 are labelled as shown in Figure 32.8.\n",
"I1 = V1/(r1 + r2*R/(R + r2))\n",
"I2 = (r2/(r2 + R))*I1\n",
"I3 = (R/(r2 + R))*I1\n",
"//The network is redrawn with the 100/_0° V source removed as shown in Figure 32.9\n",
"//Currents I4, I5 and I6 are labelled as shown in Figure 32.9.\n",
"I4 = V2/(r2 + r1*R/(r1 + R))\n",
"I5 = (r1/(r1 + R))*I4\n",
"I6 = (R/(r1 + R))*I4\n",
"//Figure 32.10 shows Figure 32.9 superimposed on Figure 32.8, giving the currents shown.\n",
"//Current in the 20 ohm load,\n",
"I20 = I2 + I5\n",
"//Current in the 100/_0° V source\n",
"IV1 = I1 - I6\n",
"//Current in the 50/_90° V source\n",
"IV2 = I4 - I3\n",
"\n",
"printf('\n\n Result \n\n')\n",
"printf('\n (a)current in the 20 ohm load is %.3f + (%.3f)i A',real(I20), imag(I20))\n",
"printf('\n (b)Current in the 100/_0° V source is %.3f + (%.3f)i A',real(IV1), imag(IV1))\n",
"printf('\n (b)Current in the 50/_90° V source is %.3f + (%.3f)i A',real(IV2), imag(IV2))"
   ]
   }
,
{
		   "cell_type": "markdown",
		   "metadata": {},
		   "source": [
			"## Example 32.02: Example_2.sce"
		   ]
		  },
  {
"cell_type": "code",
	   "execution_count": null,
	   "metadata": {
	    "collapsed": true
	   },
	   "outputs": [],
"source": [
"//Problem 32.02:Use the superposition theorem to determine the current in the 4 ohm resistor of the network shown in Figure 32.11.\n",
"\n",
"//initializing the variables:\n",
"V1 = 12; // in volts\n",
"V2 = 20; // in volts\n",
"R1 = 5; // in ohm\n",
"R2 = 4; // in ohm\n",
"R3 = 2.5; // in ohm\n",
"R4 = 6; // in ohm\n",
"R5 = 2; // in ohm\n",
"\n",
"//calculation:\n",
"//Removing the 20 V source gives the network shown in Figure 32.12.\n",
"//Currents I1 and I2 are shown labelled in Figure 32.12\n",
"Re1 = (R4*R5/(R4 + R5)) + R3\n",
"Re2 = Re1*R2/(Re1  + R2) + R1\n",
"I1 = V1/Re2\n",
"I2 = (R2/(Re1 + R2))*I1\n",
"//Removing the 12 V source from the original network gives the network shown in Figure 32.14.\n",
"//Currents I3, I4 and I5 are shown labelled in Figure 32.14.\n",
"Re3 = (R1*R2/(R1 + R2)) + R3\n",
"Re4 = Re3*R4/(Re3 + R4) + R5\n",
"I3 = V2/Re4\n",
"I4 = (R4/(Re3 + R4))*I3\n",
"I5 = (R1/(R1 + R2))*I4\n",
"//Superimposing Figure 32.14 on Figure 32.12 shows that the current flowing in the 4 ohm resistor is given by\n",
"Ir4 = I5 - I2\n",
"\n",
"printf('\n\n Result \n\n')\n",
"printf('\ncurrent in the 4 ohm resistor of the network is %.3f A',Ir4)"
   ]
   }
,
{
		   "cell_type": "markdown",
		   "metadata": {},
		   "source": [
			"## Example 32.03: Example_3.sce"
		   ]
		  },
  {
"cell_type": "code",
	   "execution_count": null,
	   "metadata": {
	    "collapsed": true
	   },
	   "outputs": [],
"source": [
"//Problem 32.03: Use the superposition theorem to obtain the current flowing in the (4 + i3) ohm impedance of Figure 32.16.\n",
"\n",
"//initializing the variables:\n",
"rv1 = 30; // in volts\n",
"rv2 = 30; // in volts\n",
"thetav1 = 45; // in degrees\n",
"thetav2 = -45; // in degrees\n",
"R1 = 4; // in ohm\n",
"R2 = 4; // in ohm\n",
"R3 = %i*3; // in ohm\n",
"R4 = -1*%i*10; // in ohm\n",
"\n",
"//calculation:\n",
"//voltage\n",
"V1 = rv1*cos(thetav1*%pi/180) + %i*rv1*sin(thetav1*%pi/180)\n",
"V2 = rv2*cos(thetav2*%pi/180) + %i*rv2*sin(thetav2*%pi/180)\n",
"//The network is redrawn with V2 removed, as shown in Figure 32.17.\n",
"//Current I1 and I2 are shown in Figure 32.17. From Figure 32.17,\n",
"Re1 = R4*(R2 + R3)/(R4 + R3 + R2)\n",
"Re2 = Re1 + R1\n",
"//current\n",
"I1 = V1/Re2\n",
"I2 = (R4/(R2 + R3 + R4))*I1\n",
"//The original network is redrawn with V1 removed, as shown in Figure 32.18\n",
"//Currents I3 and I4 are shown in Figure 32.18. From Figure 32.18,\n",
"Re3 = R1*(R2 + R3)/(R1 + R3 + R2)\n",
"Re4 = Re3 + R4\n",
"I3 = V2/Re4\n",
"I4 = (R1/(R2 + R3 + R1))*I3\n",
"//If the network of Figure 32.18 is superimposed on the network of Figure 32.17, it can be seen that the current in the (4+i3) ohm impedance is given by\n",
"Ir4i3 = I2 - I4\n",
"\n",
"printf('\n\n Result \n\n')\n",
"printf('\ncurrent in the (4 + i3) ohm impedance of the network is %.3f + (%.3f)i A',real(Ir4i3), imag(Ir4i3))"
   ]
   }
,
{
		   "cell_type": "markdown",
		   "metadata": {},
		   "source": [
			"## Example 32.04: Example_4.sce"
		   ]
		  },
  {
"cell_type": "code",
	   "execution_count": null,
	   "metadata": {
	    "collapsed": true
	   },
	   "outputs": [],
"source": [
"//Problem 32.04: For the a.c. network shown in Figure 32.19 determine, using the superposition theorem, (a) the current in each branch, (b) the magnitude of the voltage across the(6 + i8) ohm impedance, and (c) the total active power delivered to the network.\n",
"\n",
"//initializing the variables:\n",
"E1 = 5 + %i*0; // in volts\n",
"E2 = 2 + %i*4; // in volts\n",
"Z1 = 3 + %i*4; // in ohm\n",
"Z2 = 2 - %i*5; // in ohm\n",
"Z3 = 6 + %i*8; // in ohm\n",
"\n",
"//calculation:\n",
"//The original network is redrawn with E2 removed, as shown in Figure 32.20.\n",
"//Currents I1, I2 and I3 are labelled as shown in Figure 32.20.\n",
"Ze1 = Z3*Z2/(Z3 + Z2)\n",
"Ze2 = Ze1 + Z1\n",
"//current\n",
"I1 = E1/Ze2\n",
"I2 = (Z2/(Z3 + Z2))*I1\n",
"I3 = (Z3/(Z3 + Z2))*I1\n",
"//The original network is redrawn with E1 removed, as shown in Figure 32.22\n",
"//Currents I4, I5 and I6 are shown labelled in Figure 32.22 with I4 flowing away from the positive terminal of the E2 source.\n",
"Ze3 = Z3*Z1/(Z3 + Z1)\n",
"Ze4 = Ze3 + Z2\n",
"I4 = E2/Ze4\n",
"I5 = (Z1/(Z3 + Z1))*I4\n",
"I6 = (Z3/(Z3 + Z1))*I4\n",
"//If the network of Figure 32.18 is superimposed on the network of Figure 32.17, it can be seen that the current in the (4+i3) ohm impedance is given by\n",
"i1 = I1 + I6\n",
"i2 = I3 + I4\n",
"i3 = I2 - I5\n",
"//magnitude\n",
"i1mag = (real(i1)^2 + imag(i1)^2)^0.5\n",
"i2mag = (real(i2)^2 + imag(i2)^2)^0.5\n",
"E1mag = (real(E1)^2 + imag(E1)^2)^0.5\n",
"E2mag = (real(E2)^2 + imag(E2)^2)^0.5\n",
"//phase\n",
"phi1 = atan(imag(i1)/real(i1))\n",
"phi2 = atan(imag(i2)/real(i2))\n",
"//voltage across the(6 + i8) ohm impedance\n",
"V6i8 = i3*Z3\n",
"V6i8m = (real(V6i8)^2 + imag(V6i8)^2)^0.5\n",
"//power\n",
"P = (E1mag*i1mag*cos(phi1)) + (E2mag*i2mag*cos(phi2 - atan(imag(E2)/real(E2))))\n",
"\n",
"printf('\n\n Result \n\n')\n",
"printf('\n(b)current in the (6 + i8) ohm resistor of the network is %.3f V',V6i8m)\n",
"printf('\n(c)the total active power delivered to the network is %.3f W',P)"
   ]
   }
,
{
		   "cell_type": "markdown",
		   "metadata": {},
		   "source": [
			"## Example 32.05: Example_5.sce"
		   ]
		  },
  {
"cell_type": "code",
	   "execution_count": null,
	   "metadata": {
	    "collapsed": true
	   },
	   "outputs": [],
"source": [
"//Problem 32.05: Use the superposition theorem to determine, for the network shown in Figure 32.25, (a) the magnitude of the current flowing in the capacitor, (b) the p.d. across the 5 ohm resistance, (c) the active power dissipated in the 20 ohm resistance and (d) the total active power taken from the supply.\n",
"\n",
"//initializing the variables:\n",
"rv1 = 50; // in volts\n",
"rv2 = 30; // in volts\n",
"thetav1 = 0; // in degrees\n",
"thetav2 = 90; // in degrees\n",
"R1 = 20; // in ohm\n",
"R2 = 5; // in ohm\n",
"R3 = -1*%i*3; // in ohm\n",
"R4 = 8; // in ohm\n",
"R5 = 8; // in ohm\n",
"\n",
"//calculation:\n",
"//voltage\n",
"V1 = rv1*cos(thetav1*%pi/180) + %i*rv1*sin(thetav1*%pi/180)\n",
"V2 = rv2*cos(thetav2*%pi/180) + %i*rv2*sin(thetav2*%pi/180)\n",
"//The network is redrawn with the V2 source removed, as shown in Figure 32.26.\n",
"//Currents I1 to I5 are shown labelled in Figure 32.26. \n",
"//current\n",
"Re1 = R4*R5/(R5 + R4) + R3\n",
"Re2 = Re1*R2/(R2 + Re1)\n",
"I1 = V1/(Re2 + R1)\n",
"I2 = (Re1/(R2 + Re1))*I1\n",
"I3 = (R2/(Re1 + R2))*I1\n",
"I4 = (R4/(R4 + R5))*I3\n",
"I5 = I3 - I4\n",
"//The original network is redrawn with the V1 source removed, as shown in Figure 32.27.\n",
"//Currents I6 to I10 are shown labelled in Figure 32.27\n",
"Re3 = R1*R2/(R1 + R2)\n",
"Re4 = Re3 + R3\n",
"Re5 = Re4*R4/(Re4 + R4)\n",
"Re6 = Re5  + R5\n",
"I6 = V2/Re6\n",
"I7 = (Re4/(Re4 + R4))*I6\n",
"I8 = (R4/(Re4 + R4))*I6\n",
"I9 = (R1/(R1 + R2))*I8\n",
"I10 = (R2/(R1 + R2))*I8\n",
"//current flowing in the capacitor is given by\n",
"Ic = I3 - I8\n",
"//magnitude of the current in the capacitor\n",
"Icmag = (real(Ic)^2 + imag(Ic)^2)^0.5\n",
"//\n",
"i1 = I2 + I9\n",
"i1mag = (real(i1)^2 + imag(i1)^2)^0.5\n",
"//magnitude of the p.d. across the 5 ohm resistance is given by\n",
"Vr5m = i1mag*R2\n",
"//Active power dissipated in the 20 ohm resistance is given by\n",
"i2 = I1 - I10\n",
"i2mag = (real(i2)^2 + imag(i2)^2)^0.5\n",
"phii2 = atan(imag(i2)/real(i2))\n",
"Pr20 = R1*(i2mag)^2\n",
"//Active power developed by the V1\n",
"P1 = rv1*i2mag*cos(phii2)\n",
"//Active power developed by V2 source\n",
"i3 = I6 - I5\n",
"i3mag = (real(i3)^2 + imag(i3)^2)^0.5\n",
"phii3 = atan(imag(i3)/real(i3))\n",
"if ((imag(i3)>0) & (real(i3)<0)) then\n",
"    phii3 = phii3 + %pi\n",
"end\n",
"P2 = rv2*i3mag*cos(phii3 - (thetav2*%pi/180))\n",
"//Total power developed\n",
"P = P1 + P2\n",
"\n",
"printf('\n\n Result \n\n')\n",
"printf('\n(a)the magnitude of the current flowing in the capacitor is %.2f A',Icmag)\n",
"printf('\n(b) the p.d. across the 5 ohm resistance is %.3f V',Vr5m)\n",
"printf('\n(c)the active power dissipated in the 20 ohm resistance is %.0f W',Pr20)\n",
"printf('\n(d)the total active power taken from the supply is %.1f W',P)"
   ]
   }
],
"metadata": {
		  "kernelspec": {
		   "display_name": "Scilab",
		   "language": "scilab",
		   "name": "scilab"
		  },
		  "language_info": {
		   "file_extension": ".sce",
		   "help_links": [
			{
			 "text": "MetaKernel Magics",
			 "url": "https://github.com/calysto/metakernel/blob/master/metakernel/magics/README.md"
			}
		   ],
		   "mimetype": "text/x-octave",
		   "name": "scilab",
		   "version": "0.7.1"
		  }
		 },
		 "nbformat": 4,
		 "nbformat_minor": 0
}
