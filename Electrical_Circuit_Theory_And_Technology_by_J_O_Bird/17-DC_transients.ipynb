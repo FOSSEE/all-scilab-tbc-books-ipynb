{
"cells": [
 {
		   "cell_type": "markdown",
	   "metadata": {},
	   "source": [
       "# Chapter 17: DC transients"
	   ]
	},
{
		   "cell_type": "markdown",
		   "metadata": {},
		   "source": [
			"## Example 17.01: Example_1.sce"
		   ]
		  },
  {
"cell_type": "code",
	   "execution_count": null,
	   "metadata": {
	    "collapsed": true
	   },
	   "outputs": [],
"source": [
"//Problem 17.01: A 15 μF uncharged capacitor is connected in series with a 47 kohm resistor across a 120 V, d.c. supply. Use the tangential graphical method to draw the capacitor voltage/time characteristic of the circuit. From the characteristic, determine the capacitor voltage at a time equal to one time constant after being connected to the supply, and also two seconds after being connected to the supply. Also, find the time for the capacitor voltage to reach one half of its steady state value.\n",
"\n",
"//initializing the variables:\n",
"C = 15E-6; // in Farads\n",
"R = 47000; // in ohms\n",
"V = 120; // in Volts\n",
"\n",
"//calculation:\n",
"tou = R*C\n",
"t1 = tou\n",
"Vctou = V*(1-%e^(-1*t1/tou))\n",
"Vct = V/2\n",
"t = 0:0.1:10\n",
"Vc = V*(1-%e^(-1*t/tou));\n",
"plot(t,Vc)\n",
"xtitle('capacitor voltage/time characteristic', 't', 'Vc')\n",
"t = -1*tou*log(1 - Vct/V)\n",
"\n",
"printf('\ = \n\n Result \n\n')\n",
"printf('\n (a)the capacitor voltage at a time equal to one time constant = %.2f V',Vctou)\n",
"printf('\n (b)the time for the capacitor voltage to reach one half of its steady state value = %.1f sec',t)"
   ]
   }
,
{
		   "cell_type": "markdown",
		   "metadata": {},
		   "source": [
			"## Example 17.02: Example_2.sce"
		   ]
		  },
  {
"cell_type": "code",
	   "execution_count": null,
	   "metadata": {
	    "collapsed": true
	   },
	   "outputs": [],
"source": [
"//Problem 17.02: A 4 μF capacitor is charged to 24 V and then discharged through a 220 kohms resistor. Use the ‘initial slope and three point’ method to draw: (a) the capacitor voltage/time characteristic, (b) the resistor voltage/time characteristic and (c) the current/time characteristic, for the transients which occur. From the characteristics determine the value of capacitor voltage, resistor voltage and current one and a half seconds after discharge has started.\n",
"\n",
"//initializing the variables:\n",
"C = 4E-6; // in Farads\n",
"R = 220000; // in ohms\n",
"V = 24; // in Volts\n",
"t1 = 1.5; // in secs\n",
"\n",
"//calculation:\n",
"tou = R*C\n",
"t = 0:0.1:10\n",
"Vc = V*(1-%e^(-1*t/tou));\n",
"plot2d(t,Vc)\n",
"xtitle('capacitor voltage/time characteristic', 't', 'Vc')\n",
"xset('window',1)\n",
"VR = V*(1-%e^(-1*t/tou));\n",
"plot2d(t,VR)\n",
"xtitle('resistor voltage/time characteristic', 't', 'VR')\n",
"xset('window',2)\n",
"I = V/R\n",
"i = I*%e^(-1*t/tou)\n",
"plot2d(t,i)\n",
"xtitle('current/time characteristic', 't', 'i')\n",
"Vct1 = V*%e^(-1*t1/tou)\n",
"VRt1 = V*%e^(-1*t1/tou)\n",
"it1 = I*%e^(-1*t1/tou)\n",
"\n",
"printf('\ = \n\n Result \n\n')\n",
"printf('\n the value of capacitor voltage is %.2f V, resistor voltage is %.2f V, current is %.1E A at one and a half seconds after discharge has started.',Vct1, VRt1,it1)"
   ]
   }
,
{
		   "cell_type": "markdown",
		   "metadata": {},
		   "source": [
			"## Example 17.03: Example_3.sce"
		   ]
		  },
  {
"cell_type": "code",
	   "execution_count": null,
	   "metadata": {
	    "collapsed": true
	   },
	   "outputs": [],
"source": [
"//Problem 17.03: A 20 μF capacitor is connected in series with a 50 kohm resistor and the circuit is connected to a 20 V, d.c. supply. Determine (a) the initial value of the current flowing, (b) the time constant of the circuit, (c) the value of the current one second after connection, (d) the value of the capacitor voltage two seconds after connection, and (e) the time after connection when the resistor voltage is 15 V\n",
"\n",
"//initializing the variables:\n",
"C = 20E-6; // in Farads\n",
"R = 50000; // in ohms\n",
"V = 20; // in Volts\n",
"t1 = 1; // in secs\n",
"t2 = 2; // in secs\n",
"VRt = 15; // in Volts\n",
"\n",
"//calculation:\n",
"tou = R*C\n",
"I = V/R\n",
"Vct1 = V*(1-%e^(-1*t2/tou))\n",
"t3 = -1*tou*log(VRt/V)\n",
"it1 = I*%e^(-1*t1/tou)\n",
"\n",
"printf('\ = \n\n Result \n\n')\n",
"printf('\n (a)initial value of the current flowing is %.4f A',I)\n",
"printf('\n (b)time constant of the circuit %.0f Sec',tou)\n",
"printf('\n (c)the value of the current one second after connection, %.3f mA',(it1/1E-3))\n",
"printf('\n (d)the value of the capacitor voltage two seconds after connection %.1f V',Vct1)\n",
"printf('\n (e)the time after connection when the resistor voltage is 15 V is %.3f sec',t3)"
   ]
   }
,
{
		   "cell_type": "markdown",
		   "metadata": {},
		   "source": [
			"## Example 17.04: Example_4.sce"
		   ]
		  },
  {
"cell_type": "code",
	   "execution_count": null,
	   "metadata": {
	    "collapsed": true
	   },
	   "outputs": [],
"source": [
"//Problem 17.04: A circuit consists of a resistor connected in series with a 0.5 μF capacitor and has a time constant of 12 ms. Determine (a) the value of the resistor, and (b) the capacitor voltage 7 ms after connecting the circuit to a 10 V supply\n",
"\n",
"//initializing the variables:\n",
"C = 0.5E-6; // in Farads\n",
"V = 10; // in Volts\n",
"tou = 0.012; // in secs\n",
"t1 = 0.007; // in secs\n",
"\n",
"//calculation:\n",
"R = tou/C\n",
"Vc = V*(1-%e^(-1*t1/tou))\n",
"\n",
"printf('\ = \n\n Result \n\n')\n",
"printf('\n (a)value of the resistor is %.0f ohm',R)\n",
"printf('\n (b)capacitor voltage is %.2f V',Vc)"
   ]
   }
,
{
		   "cell_type": "markdown",
		   "metadata": {},
		   "source": [
			"## Example 17.05: Example_5.sce"
		   ]
		  },
  {
"cell_type": "code",
	   "execution_count": null,
	   "metadata": {
	    "collapsed": true
	   },
	   "outputs": [],
"source": [
"//Problem 17.05: A capacitor is charged to 100 V and then discharged through a 50 kohm resistor. If the time constant of the circuit is 0.8 s, determine: (a) the value of the capacitor, (b) the time for the capacitor voltage to fall to 20 V, (c) the current flowing when the capacitor has been discharging for 0.5 s, and (d) the voltage drop across the resistor when the capacitor has been discharging for one second.\n",
"\n",
"//initializing the variables:\n",
"R = 50000; // in ohms\n",
"V = 100; // in Volts\n",
"Vc1 = 20; // in Volts\n",
"tou = 0.8; // in secs\n",
"t1 = 0.5; // in secs\n",
"t2 = 1; // in secs\n",
"\n",
"//calculation:\n",
"C = tou/R\n",
"t = -1*tou*log(Vc1/V)\n",
"I = V/R\n",
"it1 = I*%e^(-1*t1/tou)\n",
"Vc = V*%e^(-1*t2/tou)\n",
"\n",
"printf('\ = \n\n Result \n\n')\n",
"printf('\n (a)the value of the capacitor is %.2E F',C)\n",
"printf('\n (b)the time for the capacitor voltage to fall to 20 V is %.2f sec',t)\n",
"printf('\n (c)the current flowing when the capacitor has been discharging for 0.5 s is %.5f A',it1)\n",
"printf('\n (d)the voltage drop across the resistor when the capacitor has been discharging for one second is %.1f V',Vc)"
   ]
   }
,
{
		   "cell_type": "markdown",
		   "metadata": {},
		   "source": [
			"## Example 17.06: Example_6.sce"
		   ]
		  },
  {
"cell_type": "code",
	   "execution_count": null,
	   "metadata": {
	    "collapsed": true
	   },
	   "outputs": [],
"source": [
"//Problem 17.06: A 0.1 μF capacitor is charged to 200 V before being connected across a 4 kohm resistor. Determine (a) the initial discharge current, (b) the time constant of the circuit, and (c) the minimum time required for the voltage across the capacitor to fall to less than 2 V\n",
"\n",
"//initializing the variables:\n",
"C = 0.1E-6; // in Farads\n",
"R = 4000; // in ohms\n",
"V = 200; // in Volts\n",
"Vc1 = 2; // in Volts\n",
"\n",
"//calculation:\n",
"tou = R*C\n",
"I = V/R\n",
"t = -1*tou*log(Vc1/V)\n",
"\n",
"printf('\ = \n\n Result \n\n')\n",
"printf('\n (a) initial discharge current is %.2f A',I)\n",
"printf('\n (b)Time constant tou is %.4f sec',tou)\n",
"printf('\n (c)minimum time required for the voltage across the capacitor to fall to less than 2 V is %.3f sec',t)"
   ]
   }
,
{
		   "cell_type": "markdown",
		   "metadata": {},
		   "source": [
			"## Example 17.07: Example_7.sce"
		   ]
		  },
  {
"cell_type": "code",
	   "execution_count": null,
	   "metadata": {
	    "collapsed": true
	   },
	   "outputs": [],
"source": [
"//Problem 17.07: A relay has an inductance of 100 mH and a resistance of 20 ohm. It is connected to a 60 V, d.c. supply. Use the ‘initial slope and three point’ method to draw the current/time characteristic and hence determine the value of current flowing at a time equal to two time constants and the time for the current to grow to 1.5 A.\n",
"\n",
"//initializing the variables:\n",
"L = 0.1; // in Henry\n",
"R = 20; // in ohms\n",
"V = 60; // in Volts\n",
"i2 = 1.5; // in Amperes\n",
"\n",
"//calculation:\n",
"tou = L/R\n",
"t1 = 2*tou\n",
"t = 0:0.0001:0.025\n",
"I = V/R\n",
"i = I*(1 - %e^(-1*t/tou))\n",
"plot2d(t,i)\n",
"xtitle('current/time characteristic', 't', 'i')\n",
"i1 = I*(1 - %e^(-1*t1/tou))\n",
"t2 = -1*tou*log(1 - i2/I)\n",
"\n",
"printf('\ = \n\n Result \n\n')\n",
"printf('\n (a) the value of current flowing at a time equal to two time constants is %.3f A',i1)\n",
"printf('\n (b)the time for the current to grow to 1.5 A is %.7f sec',t2)"
   ]
   }
,
{
		   "cell_type": "markdown",
		   "metadata": {},
		   "source": [
			"## Example 17.08: Example_8.sce"
		   ]
		  },
  {
"cell_type": "code",
	   "execution_count": null,
	   "metadata": {
	    "collapsed": true
	   },
	   "outputs": [],
"source": [
"//Problem 17.08: A coil of inductance 0.04 H and resistance 10 ohm is connected to a 120 V, d.c. supply. Determine (a) the final value of current, (b) the time constant of the circuit, (c) the value of current after a time equal to the time constant from the instant the supply voltage is connected, (d) the expected time for the current to rise to within 1% of its final value.\n",
"\n",
"//initializing the variables:\n",
"L = 0.04; // in Henry\n",
"R = 10; // in ohms\n",
"V = 120; // in Volts\n",
"i2 = 0.01*I; // in amperes\n",
"\n",
"//calculation:\n",
"tou = L/R\n",
"t1 = tou\n",
"I = V/R\n",
"i1 = I*(1 - %e^(-1*t1/tou))\n",
"i2 = 0.01*I\n",
"t2 = -1*tou*log(i2/I)\n",
"\n",
"printf('\ = \n\n Result \n\n')\n",
"printf('\n (a) the final value of current is %.0f A',I)\n",
"printf('\n (b)time constant of the circuit is %.3f sec',tou)\n",
"printf('\n (c) value of current after a time equal to the time constant is %.2f A',i1)\n",
"printf('\n (d)the expected time for the current to rise to within 0.01 times of its final value is %.2f sec',t2)"
   ]
   }
,
{
		   "cell_type": "markdown",
		   "metadata": {},
		   "source": [
			"## Example 17.09: Example_9.sce"
		   ]
		  },
  {
"cell_type": "code",
	   "execution_count": null,
	   "metadata": {
	    "collapsed": true
	   },
	   "outputs": [],
"source": [
"//Problem 17.09: The winding of an electromagnet has an inductance of 3 H and a resistance of 15 ohm. When it is connected to a 120 V, d.c. supply, calculate: (a) the steady state value of current flowing in the winding, (b) the time constant of the circuit, (c) the value of the induced e.m.f. after 0.1 s, (d) the time for the current to rise to 85% of its final value, and (e) the value of the current after 0.3 s.\n",
"\n",
"//initializing the variables:\n",
"L = 3; // in Henry\n",
"R = 15; // in ohms\n",
"V = 120; // in Volts\n",
"t1 = 0.1; // in secs\n",
"t3 = 0.3; // in secs\n",
"\n",
"//calculation:\n",
"tou = L/R\n",
"I = V/R\n",
"i2 = 0.85*I\n",
"VL = V*%e^(-1*t1/tou)\n",
"t2 = -1*tou*log(1 - (i2/I))\n",
"i3 = I*(1 - %e^(-1*t3/tou))\n",
"\n",
"printf('\ = \n\n Result \n\n')\n",
"printf('\n (a) steady state value of current is %.0f A',I)\n",
"printf('\n (b)time constant of the circuit is %.3f sec',tou)\n",
"printf('\n (c)value of the induced e.m.f. after 0.1 s is %.2f V',VL)\n",
"printf('\n (d) time for the current to rise to 0.85 times of its final values is %.3f sec',t2)\n",
"printf('\n (e)value of the current after 0.3 s is %.3f A',i3)"
   ]
   }
,
{
		   "cell_type": "markdown",
		   "metadata": {},
		   "source": [
			"## Example 17.10: Example_10.sce"
		   ]
		  },
  {
"cell_type": "code",
	   "execution_count": null,
	   "metadata": {
	    "collapsed": true
	   },
	   "outputs": [],
"source": [
"//Problem 17.10: The field winding of a 110 V, d.c. motor has a resistance of 15 ohms and a time constant of 2 s. Determine the inductance and use the tangential method to draw the current/time characteristic when the supply is removed and replaced by a shorting link. From the characteristic determine (a) the current flowing in the winding 3 s after being shorted-out and (b) the time for the current to decay to 5 A.\n",
"\n",
"//initializing the variables:\n",
"R = 15; // in ohms\n",
"V = 110; // in Volts\n",
"tou = 2; // in secs\n",
"t1 = 3; // in secs\n",
"i2 =5; // in amperes\n",
"\n",
"//calculation:\n",
"L = tou*R\n",
"t = 0:0.1:10\n",
"I = V/R\n",
"i = I*(%e^(-1*t/tou))\n",
"plot2d(t,i)\n",
"xtitle('current/time characteristic', 't', 'i')\n",
"i1 = I*(%e^(-1*t1/tou))\n",
"t2 = -1*tou*log((i2/I))\n",
"\n",
"printf('\ = \n\n Result \n\n')\n",
"printf('\n inductance is %.0f H',L)\n",
"printf('\n (a)the current flowing in the winding 3 s after being shorted-out is %.2f A',i1)\n",
"printf('\n (b)the time for the current to decay to 5 A is %.3f sec',t2)"
   ]
   }
,
{
		   "cell_type": "markdown",
		   "metadata": {},
		   "source": [
			"## Example 17.11: Example_11.sce"
		   ]
		  },
  {
"cell_type": "code",
	   "execution_count": null,
	   "metadata": {
	    "collapsed": true
	   },
	   "outputs": [],
"source": [
"//Problem 17.11 A coil having an inductance of 6 H and a resistance of R  is connected in series with a resistor of 10  to a 120 V, d.c. supply. The time constant of the circuit is 300 ms. When steady-state conditions have been reached, the supply is replaced instantaneously by a short-circuit. Determine: (a) the resistance of the coil,(b) the current flowing in the circuit one second after the shorting link has been placed in the circuit, and (c) the time taken for the current to fall to 10% of its initial value.\n",
"\n",
"//initializing the variables:\n",
"L = 6; // in Henry\n",
"r = 10; // in ohms\n",
"V = 120; // in Volts\n",
"tou = 0.3; // in secs\n",
"t1 = 1; // in secs\n",
"\n",
"//calculation:\n",
"R = (L/tou) - r\n",
"Rt = R + r\n",
"I = V/Rt\n",
"i2 = 0.1*I\n",
"i1 = I*(%e^(-1*t1/tou))\n",
"t2 = -1*tou*log((i2/I))\n",
"\n",
"printf('\ = \n\n Result \n\n')\n",
"printf('\n (a) resistance of the coil is %.0f ohm',R)\n",
"printf('\n (b) current flowing in the circuit one second after the shorting link has been placed is %.3f A',i1)\n",
"printf('\n (c)the time for the current to decay to 0.1 times of initial value is %.3f sec',t2)"
   ]
   }
,
{
		   "cell_type": "markdown",
		   "metadata": {},
		   "source": [
			"## Example 17.12: Example_12.sce"
		   ]
		  },
  {
"cell_type": "code",
	   "execution_count": null,
	   "metadata": {
	    "collapsed": true
	   },
	   "outputs": [],
"source": [
"//Problem 17.12: An inductor has a negligible resistance and an inductance of 200 mH and is connected in series with a 1 kohm resistor to a 24 V, d.c. supply. Determine the time constant of the circuit and the steady-state value of the current flowing in the circuit. Find (a) the current flowing in the circuit at a time equal to one time constant, (b) the voltage drop across the inductor at a time equal to two time constants and (c) the voltage drop across the resistor after a time equal to three time constants.\n",
"\n",
"//initializing the variables:\n",
"L = 0.2; // in Henry\n",
"R = 1000; // in ohms\n",
"V = 24; // in Volts\n",
"\n",
"//calculation:\n",
"tou = L/R\n",
"t1 = 1*tou // in secs\n",
"t2 = 2*tou // in secs\n",
"t3 = 3*tou // in secs\n",
"I = V/R\n",
"i1 = I*(1 - %e^(-1*t1/tou))\n",
"VL = V*(%e^(-1*t2/tou))\n",
"VR = V*(1 - %e^(-1*t3/tou))\n",
"\n",
"printf('\ = \n\n Result \n\n')\n",
"printf('\n time constant of the circuit is %.4f sec, and  the steady-state value of the current is %.3f A',tou, I)\n",
"printf('\n (a) urrent flowing in the circuit at a time equal to one time constant is %.5f A',i1)\n",
"printf('\n (b) voltage drop across the inductor at a time equal to two time constants is %.3f V',VL)\n",
"printf('\n (c)the voltage drop across the resistor after a time equal to three time constants is %.2f V',VR)"
   ]
   }
],
"metadata": {
		  "kernelspec": {
		   "display_name": "Scilab",
		   "language": "scilab",
		   "name": "scilab"
		  },
		  "language_info": {
		   "file_extension": ".sce",
		   "help_links": [
			{
			 "text": "MetaKernel Magics",
			 "url": "https://github.com/calysto/metakernel/blob/master/metakernel/magics/README.md"
			}
		   ],
		   "mimetype": "text/x-octave",
		   "name": "scilab",
		   "version": "0.7.1"
		  }
		 },
		 "nbformat": 4,
		 "nbformat_minor": 0
}
