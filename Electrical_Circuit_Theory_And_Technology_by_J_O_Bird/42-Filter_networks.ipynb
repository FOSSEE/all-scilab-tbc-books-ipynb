{
"cells": [
 {
		   "cell_type": "markdown",
	   "metadata": {},
	   "source": [
       "# Chapter 42: Filter networks"
	   ]
	},
{
		   "cell_type": "markdown",
		   "metadata": {},
		   "source": [
			"## Example 42.01: Example_1.sce"
		   ]
		  },
  {
"cell_type": "code",
	   "execution_count": null,
	   "metadata": {
	    "collapsed": true
	   },
	   "outputs": [],
"source": [
"//Problem 42.01: Determine the cut-off frequency and the nominal impedance of each of the low-pass filter sections shown in Figure 42.19.\n",
"\n",
"//initializing the variables:\n",
"L1 = 2*100E-3; // in Henry\n",
"C1 = 0.2E-6; // in Fareads\n",
"L2 = 0.4; // in Henry\n",
"C2 = 2*200E-12; // in Fareads\n",
"\n",
"//calculation:\n",
"//cut-off frequency\n",
"fc1 = 1/(%pi*(L1*C1)^0.5)\n",
"//nominal impedance\n",
"R01 = (L1/C1)^0.5\n",
"//cut-off frequency\n",
"fc2 = 1/(%pi*(L2*C2)^0.5)\n",
"//nominal impedance\n",
"R02 = (L2/C2)^0.5\n",
"\n",
"printf('\n\n Result \n\n')\n",
"printf('\n cut-off frequency %.0f Hz and the nominal impedance is %.0f ohm ',fc1, R01)\n",
"printf('\n cut-off frequency %.0f Hz and the nominal impedance is %.0f ohm ',fc2, R02)"
   ]
   }
,
{
		   "cell_type": "markdown",
		   "metadata": {},
		   "source": [
			"## Example 42.02: Example_2.sce"
		   ]
		  },
  {
"cell_type": "code",
	   "execution_count": null,
	   "metadata": {
	    "collapsed": true
	   },
	   "outputs": [],
"source": [
"//Problem 42.02: A filter section is to have a characteristic impedance at zero frequency of 600 ohm and a cut-off frequency at 5 MHz. Design (a) a low-pass T section filter, and (b) a low-pass pi section filter to meet these requirements.\n",
"\n",
"//initializing the variables:\n",
"R0 = 600; // in ohm\n",
"fc = 5E6; // in Hz\n",
"\n",
"//calculation:\n",
"//capacitance\n",
"C = 1/(%pi*R0*fc)\n",
"//inductance\n",
"L = R0/(%pi*fc)\n",
"\n",
"printf('\n\n Result \n\n')\n",
"printf('\n A low-pass T section filter capcitance is %.2E farad and inductance is%.2E Henry',C, L/2)\n",
"printf('\n A low-pass pi section filter capcitance is %.2E farad and inductance is%.2E Henry',C/2, L)"
   ]
   }
,
{
		   "cell_type": "markdown",
		   "metadata": {},
		   "source": [
			"## Example 42.03: Example_3.sce"
		   ]
		  },
  {
"cell_type": "code",
	   "execution_count": null,
	   "metadata": {
	    "collapsed": true
	   },
	   "outputs": [],
"source": [
"//Problem 42.03: The nominal impedance of a low-pass pi section filter is 500 ohm and its cut-off frequency is at 100 kHz. Determine (a) the value of the characteristic impedance of the section at a frequency of 90 kHz, and (b) the value of the characteristic impedance of the equivalent low-pass T section filter.\n",
"\n",
"//initializing the variables:\n",
"R0 = 500; // in ohm\n",
"fc = 100000; // in Hz\n",
"f = 90000; // in Hz\n",
"\n",
"//calculation:\n",
"//characteristic impedance of the pi section\n",
"Zpi = R0/(1 - (f/fc)^2)^0.5\n",
"//characteristic impedance of the T section\n",
"Zt =  R0*(1 - (f/fc)^2)^0.5\n",
"\n",
"printf('\n\n Result \n\n')\n",
"printf('\ncharacteristic impedance of the pi section is %.0f ohm',Zpi)\n",
"printf('\ncharacteristic impedance of the T section is %.0f ohm',Zt)"
   ]
   }
,
{
		   "cell_type": "markdown",
		   "metadata": {},
		   "source": [
			"## Example 42.04: Example_4.sce"
		   ]
		  },
  {
"cell_type": "code",
	   "execution_count": null,
	   "metadata": {
	    "collapsed": true
	   },
	   "outputs": [],
"source": [
"//Problem 42.04: A low-pass  section filter has a nominal impedanc of 600 ohm and a cut-off frequency of 2 MHz. Determine the frequency at which the characteristic impedance of the section is (a) 600 ohm (b) 1 kohm (c) 10kohm.\n",
"\n",
"//initializing the variables:\n",
"R0 = 600; // in ohm\n",
"fc = 2E6; // in Hz\n",
"Z1 = 600; // in ohm\n",
"Z2 = 1000; // in ohm\n",
"Z3 = 10000; // in ohm\n",
"\n",
"//calculation:\n",
"//frequency\n",
"f1 = fc*(1 - (R0/Z1)^2)^0.5\n",
"f2 = fc*(1 - (R0/Z2)^2)^0.5\n",
"f3 = fc*(1 - (R0/Z3)^2)^0.5\n",
"\n",
"printf('\n\n Result \n\n')\n",
"printf('\nfrequency at which the characteristic impedance of the section is 600 ohm is %.0f Hz and 1000 Ohm is %.2E Hz and 10000 ohm is %.3E Hz ',f1,f2,f3)"
   ]
   }
,
{
		   "cell_type": "markdown",
		   "metadata": {},
		   "source": [
			"## Example 42.05: Example_5.sce"
		   ]
		  },
  {
"cell_type": "code",
	   "execution_count": null,
	   "metadata": {
	    "collapsed": true
	   },
	   "outputs": [],
"source": [
"//Problem 42.05: Determine for each of the high-pass filter sections shown in Figure 42.27 (i) the cut-off frequency, and (ii) the nominal impedance.\n",
"\n",
"//initializing the variables:\n",
"L1 = 100E-3; // in Henry\n",
"C1 = 0.2E-6/2; // in Fareads\n",
"L2 = 200E-6/2; // in Henry\n",
"C2 = 4000E-12; // in Fareads\n",
"\n",
"//calculation:\n",
"//cut-off frequency\n",
"fc1 = 1/(4*%pi*(L1*C1)^0.5)\n",
"//nominal impedance\n",
"R01 = (L1/C1)^0.5\n",
"//cut-off frequency\n",
"fc2 = 1/(4*%pi*(L2*C2)^0.5)\n",
"//nominal impedance\n",
"R02 = (L2/C2)^0.5\n",
"\n",
"printf('\n\n Result \n\n')\n",
"printf('\n cut-off frequency %.0f Hz and the nominal impedance is %.0f ohm',fc1, R01)\n",
"printf('\n cut-off frequency %.0f Hz and the nominal impedance is %.0f ohm ',fc2, R02)"
   ]
   }
,
{
		   "cell_type": "markdown",
		   "metadata": {},
		   "source": [
			"## Example 42.07: Example_7.sce"
		   ]
		  },
  {
"cell_type": "code",
	   "execution_count": null,
	   "metadata": {
	    "collapsed": true
	   },
	   "outputs": [],
"source": [
"//Problem 42.07: A low-pass T section filter having a cut-off frequency of 15 kHz is connected in series with a high-pass T section filter having a cut-off frequency of 10 kHz. The terminating impedance of the filter is 600 ohm.(a) Determine the values of the components comprising the composite filter.\n",
"\n",
"//initializing the variables:\n",
"R0 = 600; // in ohm\n",
"fc1 = 15000; // in Hz\n",
"fc2 = 10000; // in Hz\n",
"\n",
"//calculation:\n",
"//capacitance\n",
"C1 = 1/(%pi*R0*fc1)\n",
"//inductance\n",
"L1 = R0/(%pi*fc1)\n",
"//capacitance\n",
"C2 = 1/(4*%pi*R0*fc2)\n",
"//inductance\n",
"L2 = R0/(4*%pi*fc2)\n",
"\n",
"printf('\n\n Result \n\n')\n",
"printf('\n A low-pass T section filter capcitance is %.2E farad and inductance is%.2E Henry',C1, L1/2)\n",
"printf('\n A high-pass pi section filter capcitance is %.2E farad and inductance is%.2E Henry',2*C2, L2)"
   ]
   }
,
{
		   "cell_type": "markdown",
		   "metadata": {},
		   "source": [
			"## Example 42.08: Example_8.sce"
		   ]
		  },
  {
"cell_type": "code",
	   "execution_count": null,
	   "metadata": {
	    "collapsed": true
	   },
	   "outputs": [],
"source": [
"//Problem 42.08: A high-pass T section filter has a cut-off frequency of 500 Hz and a nominal impedance of 600 ohm. Determine the frequency at which the characteristic impedance of the section is (a) zero, (b) 300 ohm, (c) 590 ohm.\n",
"\n",
"//initializing the variables:\n",
"R0 = 600; // in ohm\n",
"fc = 500; // in Hz\n",
"Z1 = 0; // in ohm\n",
"Z2 = 300; // in ohm\n",
"Z3 = 590; // in ohm\n",
"\n",
"//calculation:\n",
"//frequency\n",
"f1 = fc\n",
"f2 = fc/(1 - (Z2/R0)^2)^0.5\n",
"f3 = fc/(1 - (Z3/R0)^2)^0.5\n",
"\n",
"printf('\n\n Result \n\n')\n",
"printf('\nfrequency at which the characteristic impedance of the section is 0 ohm is %.0f Hz and 300 Ohm is %.1f Hz and 590 ohm is %.0f Hz ',f1,f2,f3)"
   ]
   }
,
{
		   "cell_type": "markdown",
		   "metadata": {},
		   "source": [
			"## Example 42.09: Example_9.sce"
		   ]
		  },
  {
"cell_type": "code",
	   "execution_count": null,
	   "metadata": {
	    "collapsed": true
	   },
	   "outputs": [],
"source": [
"//Problem 42.09: The propagation coefficients of two filter networks are given by (a) r = (1.25 + i0.52) (b) r = 1.794/_-39.4° Determine for each (i) the attenuation coefficient, and (ii) the phase shift coefficient.\n",
"\n",
"//initializing the variables:\n",
"r1 = 1.25 + %i*0.52; // propagation coefficients \n",
"rr = 1.794; // propagation coefficients \n",
"thetar = -39.4; // in ddegrees\n",
"\n",
"//calculation:\n",
"//r\n",
"r2 = rr*cos(thetar*%pi/180) + %i*rr*sin(thetar*%pi/180)\n",
"//attenuation coefficient\n",
"a1 = real(r1)\n",
"a2 = real(r2)\n",
"//phase shift coefficient\n",
"b1 = imag(r1)\n",
"b2 = imag(r2)\n",
"\n",
"printf('\n\n Result \n\n')\n",
"printf('\nattenuation coefficient are for (a) is %.2f N and for (b) is %.3f N ',a1,a2)\n",
"printf('\nphase shift coefficient are for (a) is %.2f rad and for (b) is %.3f rad ',b1,b2)"
   ]
   }
,
{
		   "cell_type": "markdown",
		   "metadata": {},
		   "source": [
			"## Example 42.10: Example_10.sce"
		   ]
		  },
  {
"cell_type": "code",
	   "execution_count": null,
	   "metadata": {
	    "collapsed": true
	   },
	   "outputs": [],
"source": [
"//Problem 42.10: The current input to a filter section is 24/_10° mA and the current output is 8/_-45° mA. Determine for the section (a) the attenuation coefficient, (b) the phase shift coefficient, and (c) the propagation coefficient. (d) If five such sections are cascaded determine the output current of the fifth stage and the overall propagation constant of the network.\n",
"\n",
"//initializing the variables:\n",
"ri1 = 0.024; // in amperes\n",
"ri2 = 0.008; // in amperes\n",
"thetai1 = 10; // in ddegrees\n",
"thetai2 = -45; // in ddegrees\n",
"\n",
"//calculation:\n",
"//currents\n",
"I1 = ri1*cos(thetai1*%pi/180) + %i*ri1*sin(thetai1*%pi/180)\n",
"I2 = ri2*cos(thetai2*%pi/180) + %i*ri2*sin(thetai2*%pi/180)\n",
"//ir\n",
"ir = I1/I2\n",
"irmag = ri1/ri2\n",
"thetai = thetai1-thetai2\n",
"//attenuation coefficient\n",
"a = log(irmag)\n",
"//phase shift coefficient\n",
"b = thetai*%pi/180\n",
"//propagation coefficient \n",
"r = a + %i*b\n",
"//output current of the fifth stage\n",
"I6 = I1/(ir^5)\n",
"x = ir^5\n",
"xmg = (real(x)^2 + imag(x)^2)^0.5\n",
"//overall attenuation coefficient\n",
"ad = log(xmg)\n",
"//overall phase shift coefficient\n",
"bd = atan(imag(x)/real(x)) + 2*%pi\n",
"\n",
"printf('\n\n Result \n\n')\n",
"printf('\nattenuation coefficient is %.3f N ',a)\n",
"printf('\nphase shift coefficient is %.3f rad ',b)\n",
"printf('\npropagation coefficient is %.3f + (%.3f)i ',a,b)\n",
"printf('\nthe output current of the fifth stage is %.2E + (%.2E)i A and the overall propagation coefficient is %.2f + (%.2f)i',real(I6),imag(I6),ad,bd)"
   ]
   }
,
{
		   "cell_type": "markdown",
		   "metadata": {},
		   "source": [
			"## Example 42.11: Example_11.sce"
		   ]
		  },
  {
"cell_type": "code",
	   "execution_count": null,
	   "metadata": {
	    "collapsed": true
	   },
	   "outputs": [],
"source": [
"//Problem 42.11: For the low-pass T section filter shown in Figure 42.34 determine (a) the attenuation coefficient, (b) the phase shift coefficient and (c) the propagation coefficient r.\n",
"\n",
"//initializing the variables:\n",
"XL = %i*5; // in ohms\n",
"Xc = -1*%i*10; // in ohms\n",
"RL = 12; // in ohms\n",
"I1 = 1; // in amperes (lets say)\n",
"\n",
"//calculation:\n",
"//current I2\n",
"I2 = (Xc/(Xc + XL + RL))*I1\n",
"//current ratio\n",
"Ir = I1/I2\n",
"Irmg = (real(Ir)^2 + imag(Ir)^2)^0.5\n",
"//attenuation coefficient\n",
"a = log(Irmg)\n",
"//phase shift coefficient\n",
"b = atan(imag(Ir)/real(Ir))\n",
"//propagation coefficient \n",
"r = a + %i*b\n",
"\n",
"printf('\n\n Result \n\n')\n",
"printf('\nattenuation coefficient is %.3f N ',a)\n",
"printf('\nphase shift coefficient is %.3f rad ',b)\n",
"printf('\npropagation coefficient is %.3f + (%.3f)i ',a,b)"
   ]
   }
,
{
		   "cell_type": "markdown",
		   "metadata": {},
		   "source": [
			"## Example 42.12: Example_12.sce"
		   ]
		  },
  {
"cell_type": "code",
	   "execution_count": null,
	   "metadata": {
	    "collapsed": true
	   },
	   "outputs": [],
"source": [
"//Problem 42.12: Determine for the filter section shown in Figure 42.40, (a) the time delay for the signal to pass through the filter, assuming the phase shift is small, and (b) the time delay for a signal to pass through the section at the cut-off frequency.\n",
"\n",
"//initializing the variables:\n",
"L = 2*0.5; // in Henry\n",
"C = 2E-9; // in Farad\n",
"\n",
"//calculation:\n",
"//time delay\n",
"t = (L*C)^0.5\n",
"//time delay at the cut-off frequency\n",
"tfc = t*%pi/2\n",
"\n",
"printf('\n\n Result \n\n')\n",
"printf('\n time delay is %.2E sec ',t)\n",
"printf('\ntime delay at the cut-off frequency is %.2E sec',tfc)"
   ]
   }
,
{
		   "cell_type": "markdown",
		   "metadata": {},
		   "source": [
			"## Example 42.13: Example_13.sce"
		   ]
		  },
  {
"cell_type": "code",
	   "execution_count": null,
	   "metadata": {
	    "collapsed": true
	   },
	   "outputs": [],
"source": [
"//Problem 42.13: A filter network comprising n identical sections passes signals of all frequencies up to 500 kHz and provides a total delay of 9.55 μs. If the nominal impedance of the circuit into which the filter is inserted is 1 kohm, determine (a) the values of the elements in each section, and (b) the value of n.\n",
"\n",
"//initializing the variables:\n",
"fc = 500000; // in Hz\n",
"t1 = 9.55E-6; // in secs\n",
"R0 = 1000; // in ohm\n",
"\n",
"//calculation:\n",
"//for a low-pass filter section, capacitance\n",
"C = 1/(%pi*R0*fc)\n",
"//inductance\n",
"L = R0/(%pi*fc)\n",
"//time delay\n",
"t2 = (L*C)^0.5\n",
"//number of cascaded sections required\n",
"n = t1/t2\n",
"\n",
"printf('\n\n Result \n\n')\n",
"printf('\n for low-pass T section inductance is %.2E H and capacitance is %.2E F',L/2,C)\n",
"printf('\n for low-pass pi section inductance is %.2E H and capacitance is %.2E F',L,C/2)\n",
"printf('\nnumber of cascaded sections required is %.0f',n)"
   ]
   }
,
{
		   "cell_type": "markdown",
		   "metadata": {},
		   "source": [
			"## Example 42.14: Example_14.sce"
		   ]
		  },
  {
"cell_type": "code",
	   "execution_count": null,
	   "metadata": {
	    "collapsed": true
	   },
	   "outputs": [],
"source": [
"//Problem 42.14: A filter network consists of 8 sections in cascade having a nominal impedance of 1 kohm. If the total delay time is 4 μs, determine the component values for each section if the filter is (a) a low-pass T network, and (b) a high-pass pi network.\n",
"\n",
"//initializing the variables:\n",
"n = 8; // sections in cascade\n",
"R0 = 1000; // in ohm\n",
"t1 = 4E-6; // in secs\n",
"\n",
"\n",
"//calculation:\n",
"//time delay\n",
"t2 = t1/n\n",
"//capacitance\n",
"C = t2/R0\n",
"//inductance\n",
"L = t2*R0\n",
"\n",
"printf('\n\n Result \n\n')\n",
"printf('\n for low-pass T section inductance is %.2E H and capacitance is %.2E F',L/2,C)\n",
"printf('\n for high-pass pi section inductance is %.2E H and capacitance is %.2E F',2*L,C)"
   ]
   }
],
"metadata": {
		  "kernelspec": {
		   "display_name": "Scilab",
		   "language": "scilab",
		   "name": "scilab"
		  },
		  "language_info": {
		   "file_extension": ".sce",
		   "help_links": [
			{
			 "text": "MetaKernel Magics",
			 "url": "https://github.com/calysto/metakernel/blob/master/metakernel/magics/README.md"
			}
		   ],
		   "mimetype": "text/x-octave",
		   "name": "scilab",
		   "version": "0.7.1"
		  }
		 },
		 "nbformat": 4,
		 "nbformat_minor": 0
}
