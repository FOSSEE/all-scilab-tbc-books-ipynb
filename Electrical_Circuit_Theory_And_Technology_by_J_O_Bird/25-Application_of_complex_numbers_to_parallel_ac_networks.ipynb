{
"cells": [
 {
		   "cell_type": "markdown",
	   "metadata": {},
	   "source": [
       "# Chapter 25: Application of complex numbers to parallel ac networks"
	   ]
	},
{
		   "cell_type": "markdown",
		   "metadata": {},
		   "source": [
			"## Example 25.01: Example_1.sce"
		   ]
		  },
  {
"cell_type": "code",
	   "execution_count": null,
	   "metadata": {
	    "collapsed": true
	   },
	   "outputs": [],
"source": [
"//Problem 25.01: Determine the admittance, conductance and susceptance of the following impedances: (a)-i5 ohm, (b)25+i40 ohm, (c)3-i2 ohm, (d)50/_40°ohm.\n",
"\n",
"//initializing the variables:\n",
"Z1 = 0 - %i*5; // in ohms\n",
"Z2 = 25 + %i*40; // in ohms\n",
"Z3 = 3 - %i*2; // in ohms\n",
"r4 = 50; // in ohms\n",
"theta4 = 40; // in degrees\n",
"\n",
"//calculation:\n",
"//admittance Y\n",
"Y1 = 1/Z1\n",
"//conductance, G\n",
"G1 = real(Y1)\n",
"//Suspectance, Bc\n",
"Bc1 = abs(imag(Y1))\n",
"//admittance Y\n",
"Y2 = 1/Z2\n",
"//conductance, G\n",
"G2 = real(Y2)\n",
"//Suspectance, Bc\n",
"Bc2 = abs(imag(Y2))\n",
"//admittance Y\n",
"Y3 = 1/Z3\n",
"//conductance, G\n",
"G3 = real(Y3)\n",
"//Suspectance, Bc\n",
"Bc3 = abs(imag(Y3))\n",
"Z4 = r4*cos(theta4*%pi/180) + %i*r4*sin(theta4*%pi/180)\n",
"//admittance Y\n",
"Y4 = 1/Z4\n",
"//conductance, G\n",
"G4 = real(Y4)\n",
"//Suspectance, Bc\n",
"Bc4 = abs(imag(Y4))\n",
"\n",
"printf('\n\n Result \n\n')\n",
"printf('\n (a)admittance Y is (%.0f + (%.1f)i) S,conductance, G is %.0f S, susceptance,Bc is %.1f S  ',real(Y1), imag(Y1),G1,Bc1)\n",
"printf('\n (b)admittance Y is (%.4f + (%.4f)i) S, conductance, G is %.4f S, susceptance,Bc is %.4f S ',real(Y2), imag(Y2),G2, Bc2)\n",
"printf('\n (c)admittance Y is (%.3f + (%.3f)i) S, conductance, G is %.3f S, susceptance,Bc is %.3f S ',real(Y3), imag(Y3),G3,Bc3)\n",
"printf('\n (d)admittance Y is (%.4f + (%.4f)i) S, conductance, G is %.4f S, susceptance,Bc is %.4f S ',real(Y4), imag(Y4),G4,Bc4)"
   ]
   }
,
{
		   "cell_type": "markdown",
		   "metadata": {},
		   "source": [
			"## Example 25.02: Example_2.sce"
		   ]
		  },
  {
"cell_type": "code",
	   "execution_count": null,
	   "metadata": {
	    "collapsed": true
	   },
	   "outputs": [],
"source": [
"//Problem 25.02: Determine expressions for the impedance of the following admittances: (a)0.004/_30°S (b) (0.001-i0.002)S (c)(0.05 + i0.08)S\n",
"\n",
"//initializing the variables:\n",
"Y2 = 0.001 - %i*0.002; // in S\n",
"Y3 = 0.05 + %i*0.08; // in S\n",
"r1 = 0.004; // in S\n",
"theta1 = 30; // in degrees\n",
"\n",
"//calculation:\n",
"//impedance, Z\n",
"Z2 = 1/Y2\n",
"Z3 = 1/Y3\n",
"Y1 = r1*cos(theta1*%pi/180) + %i*r1*sin(theta1*%pi/180)\n",
"Z1 = 1/Y1\n",
"\n",
"printf('\n\n Result \n\n')\n",
"printf('\n (a)Impedance,Z is (%.1f + (%.0f)i) ohm ',real(Z1), imag(Z1))\n",
"printf('\n (b)Impedance,Z is (%.0f + (%.0f)i) ohm ',real(Z2), imag(Z2))\n",
"printf('\n (c)Impedance,Z is (%.2f + (%.2f)i) ohm ',real(Z3), imag(Z3))"
   ]
   }
,
{
		   "cell_type": "markdown",
		   "metadata": {},
		   "source": [
			"## Example 25.03: Example_3.sce"
		   ]
		  },
  {
"cell_type": "code",
	   "execution_count": null,
	   "metadata": {
	    "collapsed": true
	   },
	   "outputs": [],
"source": [
"//Problem 25.03: The admittance of a circuit is (0.040 + i0.025) S. Determine the values of the resistance and the capacitive reactance of the circuit if they are connected (a) in parallel, (b) in series. Draw the phasor diagram for each of the circuits.\n",
"\n",
"//initializing the variables:\n",
"Y = 0.040 - %i*0.025; // in S\n",
"\n",
"//calculation:\n",
"//impedance, Z\n",
"Z = 1/Y\n",
"//conductance, G\n",
"G = real(Y)\n",
"//Suspectance, Bc\n",
"Bc = abs(imag(Y))\n",
"//parallrl \n",
"//resistance, R\n",
"Rp = 1/G\n",
"//capacitive reactance\n",
"Xcp = 1/Bc\n",
"//series\n",
"//resistance, R\n",
"Rs = real(Z)\n",
"//capacitive reactance\n",
"Xcs = abs(imag(Z))\n",
"\n",
"printf('\n\n Result \n\n')\n",
"printf('\n (a)for parallel, resistance,R is %.0f ohm and capacitive reactance, Xc is %.0f ohm ',Rp,Xcp)\n",
"printf('\n (b)forseries, resistance,R is %.2f ohm and capacitive reactance, Xc is %.2f ohm ',Rs,Xcs)"
   ]
   }
,
{
		   "cell_type": "markdown",
		   "metadata": {},
		   "source": [
			"## Example 25.04: Example_4.sce"
		   ]
		  },
  {
"cell_type": "code",
	   "execution_count": null,
	   "metadata": {
	    "collapsed": true
	   },
	   "outputs": [],
"source": [
"//Problem 25.04: Determine the values of currents I, I1 and I2 shown in the network of Figure 25.5.\n",
"\n",
"//initializing the variables:\n",
"R1 = 8; // in ohm\n",
"R = 5; // in ohm\n",
"R2 = 6; // ohm\n",
"rv = 50; // in volts\n",
"thetav = 0; // in degrees\n",
"\n",
"//calculation:\n",
"//voltage,V\n",
"V = rv*cos(thetav*%pi/180) + %i*rv*sin(thetav*%pi/180)\n",
"//circuit impedance, ZT\n",
"ZT = R + (R1*%i*R2/(R1 + %i*R2))\n",
"//Current I\n",
"I = V/ZT\n",
"//current,I1\n",
"I1 = I*(%i*R2/(R1 + %i*R2))\n",
"//current, I2\n",
"I2 = I*(R1/(R1 + %i*R2))\n",
"\n",
"printf('\n\n Result \n\n')\n",
"printf('\n current, I is (%.2f + (%.2f)i) A,current,I1 is (%.2f + (%.2f)i) A, current, I2 is (%.2f + (%.2f)i) A ',real(I), imag(I),real(I1), imag(I1),real(I2), imag(I2))"
   ]
   }
,
{
		   "cell_type": "markdown",
		   "metadata": {},
		   "source": [
			"## Example 25.05: Example_5.sce"
		   ]
		  },
  {
"cell_type": "code",
	   "execution_count": null,
	   "metadata": {
	    "collapsed": true
	   },
	   "outputs": [],
"source": [
"//Problem 25.05: For the parallel network shown in Figure 25.6, determine the value of supply current I and its phase relative to the 40 V supply.\n",
"\n",
"//initializing the variables:\n",
"R1 = 5; // in ohm\n",
"R2 = 3; // in ohm \n",
"R3 = 8; // ohm\n",
"Xc = 4; // in ohms\n",
"XL = 12; // in Ohms\n",
"V = 40; // in volts\n",
"f = 50; // in Hz\n",
"\n",
"//calculation:\n",
"Z1 = R1 + %i*XL\n",
"Z2 = R2 - %i*Xc\n",
"Z3 = R3\n",
"//circuit admittance, YT = 1/ZT\n",
"YT = (1/Z1) + (1/Z2) + (1/Z3)\n",
"//Current I\n",
"I = V*YT\n",
"I1 = V/Z1\n",
"I2 = V/Z2\n",
"I3 = V/Z2\n",
"thetav = 0\n",
"thetai = atan(imag(I)/real(I))*180/%pi\n",
"phi = thetav - thetai \n",
"if (phi>0) then\n",
"    a = 'lagging'\n",
"else\n",
"    a = 'leading'\n",
"end\n",
"\n",
"printf('\n\n Result \n\n')\n",
"printf('\n current, I is (%.2f + (%.2f)i) A,and its phase relative to the 40 V supply is %s by %.2f°\n',real(I), imag(I),a,abs(phi))"
   ]
   }
,
{
		   "cell_type": "markdown",
		   "metadata": {},
		   "source": [
			"## Example 25.06: Example_6.sce"
		   ]
		  },
  {
"cell_type": "code",
	   "execution_count": null,
	   "metadata": {
	    "collapsed": true
	   },
	   "outputs": [],
"source": [
"//Problem 25.06: An a.c. network consists of a coil, of inductance 79.58 mH and resistance 18 ohm, in parallel with a capacitor of capacitance 64.96 μF. If the supply voltage is 250/_0° V at 50 Hz, determine (a) the total equivalent circuit impedance, (b) the supply current, (c) the circuit phase angle, (d) the current in the coil, and (e) the current in the capacitor.\n",
"\n",
"//initializing the variables:\n",
"L = 0.07958; // in Henry\n",
"R = 18; // in ohm\n",
"C = 64.96E-6; // in Farad\n",
"rv = 250; // in volts\n",
"thetav = 0; // in degrees\n",
"f = 50; // in Hz\n",
"\n",
"//calculation:\n",
"//Inductive reactance\n",
"XL = 2*%pi*f*L\n",
"//capacitive reactance\n",
"Xc = 1/(2*%pi*f*C)\n",
"//impedance of the coil,\n",
"Zcoil = R + %i*XL\n",
"//impedance presented by the capacitor,\n",
"Zc = -1*%i*Xc\n",
"//Total equivalent circuit impedance,\n",
"ZT = Zcoil*Zc/(Zcoil + Zc)\n",
"//voltage\n",
"V = rv*cos(thetav*%pi/180) + %i*rv*sin(thetav*%pi/180)\n",
"//current, I\n",
"I = V/ZT\n",
"thetai = atan(imag(I)/real(I))*180/%pi\n",
"phi = thetav - thetai\n",
"if (phi>0) then\n",
"    a = 'lagging'\n",
"else\n",
"    a = 'leading'\n",
"end\n",
"//Current in the coil, ICOIL\n",
"Icoil = V/Zcoil\n",
"//Current in the capacitor, IC\n",
"Ic = V/Zc\n",
"\n",
"printf('\n\n Result \n\n')\n",
"printf('\n (a)the circuit impedance is %.2f + (%.2f)i ohm ',real(ZT), imag(ZT))\n",
"printf('\n (b)supply current, I is %.2f + (%.2f)i A ',real(I), imag(I))\n",
"printf('\n (c)circuit phase relative is %s by %.2f° ',a,abs(phi))\n",
"printf('\n (d)current in coil, Icoil is %.2f + (%.2f)i A ',real(Icoil), imag(Icoil))\n",
"printf('\n (e)current in capacitor, Ic is %.2f + (%.2f)i A ',real(Ic), imag(Ic))"
   ]
   }
,
{
		   "cell_type": "markdown",
		   "metadata": {},
		   "source": [
			"## Example 25.07: Example_7.sce"
		   ]
		  },
  {
"cell_type": "code",
	   "execution_count": null,
	   "metadata": {
	    "collapsed": true
	   },
	   "outputs": [],
"source": [
"//Problem 25.07: (a) For the network diagram of Figure 25.8, determine the value of impedance Z1 (b) If the supply frequency is 5 kHz, determine the value of the components comprising impedance Z1.\n",
"\n",
"//initializing the variables:\n",
"RL = %i*6; // in ohm\n",
"R2 = 8; // in ohm\n",
"Z3 = 10; // in ohm\n",
"rv = 50; // in volts\n",
"thetav = 30; // in degrees\n",
"ri = 31.4; // in amperes\n",
"thetai = 52.48; // in degrees\n",
"f = 5000; // in Hz\n",
"\n",
"//calculation:\n",
"//impedance, Z2\n",
"Z2 = R2 + RL\n",
"//voltage\n",
"V = rv*cos(thetav*%pi/180) + %i*rv*sin(thetav*%pi/180)\n",
"//current, I\n",
"I = ri*cos(thetai*%pi/180) + %i*ri*sin(thetai*%pi/180)\n",
"//Total circuit admittance,\n",
"YT = I/V\n",
"//admittance, Y3\n",
"Y3 = 1/Z3\n",
"//admittance, Y2\n",
"Y2 = 1/Z2\n",
"//admittance, Y1\n",
"Y1 = YT - Y2 - Y3\n",
"//impedance, Z1\n",
"Z1 = 1/Y1\n",
"\n",
"printf('\n\n Result \n\n')\n",
"printf('\n (a)the impedance Z1 is %.2f + (%.2f)i ohm',real(Z1), imag(Z1))\n",
"\n",
"//resistance, R1\n",
"R1 = real(Z1)\n",
"X1 = imag(Z1) \n",
"if ((R1>0)&(X1<0)) then\n",
"    C1 = -1/(2*%pi*f*X1)\n",
"    printf('\n (b)The series circuit thus consists of a resistor of resistance %.2f ohm and a capacitor of capacitance %.2E Farad\n',R1,C1)\n",
"elseif ((R1>0)&(X1>0)) then\n",
"    L1 = 2*%pi*f*X1\n",
"    printf('\n (b)The series circuit thus consists of a resistor of resistance %.2f ohm and a inductor of insuctance %.2E Henry\n',R1,L1)\n",
"end"
   ]
   }
,
{
		   "cell_type": "markdown",
		   "metadata": {},
		   "source": [
			"## Example 25.08: Example_8.sce"
		   ]
		  },
  {
"cell_type": "code",
	   "execution_count": null,
	   "metadata": {
	    "collapsed": true
	   },
	   "outputs": [],
"source": [
"//Problem 25.08: For the series-parallel arrangement shown in Figure 25.9, determine (a) the equivalent series circuit impedance, (b) the supply current I, (c) the circuit phase angle, (d) the values of voltages V1 and V2, and (e) the values of currents IA and IB.\n",
"\n",
"//initializing the variables:\n",
"RL1 = %i*1.02; // in ohm\n",
"R1 = 1.65; // in ohm\n",
"RLa = %i*7; // in ohm\n",
"Ra = 5; // in ohm\n",
"Rcb = -1*%i*15; // in ohm\n",
"Rb = 4; // in ohm\n",
"rv = 91; // in volts\n",
"thetav = 0; // in degree\n",
"\n",
"//calculation:\n",
"//voltage\n",
"V = rv*cos(thetav*%pi/180) + %i*rv*sin(thetav*%pi/180)\n",
"//impedance, Z1\n",
"Z1 = R1 + RL1\n",
"//impedance, Za\n",
"Za = Ra + RLa\n",
"//impedance, Zb\n",
"Zb = Rb + Rcb\n",
"//impedance, Z, of the two branches connected in parallel\n",
"Z = Za*Zb/(Za + Zb)\n",
"//Total circuit impedance\n",
"ZT = Z1 + Z\n",
"//Supply current, I\n",
"I = V/ZT\n",
"thetai = atan(imag(I)/real(I))*180/%pi\n",
"phi = thetav - thetai \n",
"if (phi>0) then\n",
"    a = 'lagging'\n",
"else\n",
"    a = 'leading'\n",
"end\n",
"//Voltage V1\n",
"V1 = I*Z1\n",
"//Voltage V2\n",
"V2 = I*Z\n",
"//current Ia\n",
"Ia = V2/Za\n",
"//Current Ib\n",
"Ib = V2/Zb\n",
"\n",
"printf('\n\n Result \n\n')\n",
"printf('\n (a)equivalent series circuit impedance is %.2f + (%.2f)i ohm ',real(ZT), imag(ZT))\n",
"printf('\n (b)supply current, I is %.2f + (%.2f)i A ',real(I), imag(I))\n",
"printf('\n (c)circuit phase relative is %s by %.2f° ',a,abs(phi))\n",
"printf('\n (d)voltage, V1 is (%.2f + (%.2f)i) V and V2 is(%.2f + (%.2f)i) V ',real(V1), imag(V1),real(V2), imag(V2))\n",
"printf('\n (e)current, Ia is (%.2f + (%.2f)i) A and Ib is(%.2f + (%.2f)i) A ',real(Ia), imag(Ia),real(Ib), imag(Ib))"
   ]
   }
],
"metadata": {
		  "kernelspec": {
		   "display_name": "Scilab",
		   "language": "scilab",
		   "name": "scilab"
		  },
		  "language_info": {
		   "file_extension": ".sce",
		   "help_links": [
			{
			 "text": "MetaKernel Magics",
			 "url": "https://github.com/calysto/metakernel/blob/master/metakernel/magics/README.md"
			}
		   ],
		   "mimetype": "text/x-octave",
		   "name": "scilab",
		   "version": "0.7.1"
		  }
		 },
		 "nbformat": 4,
		 "nbformat_minor": 0
}
