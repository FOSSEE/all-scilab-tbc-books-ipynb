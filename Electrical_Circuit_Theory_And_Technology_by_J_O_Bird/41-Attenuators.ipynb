{
"cells": [
 {
		   "cell_type": "markdown",
	   "metadata": {},
	   "source": [
       "# Chapter 41: Attenuators"
	   ]
	},
{
		   "cell_type": "markdown",
		   "metadata": {},
		   "source": [
			"## Example 41.01: Example_1.sce"
		   ]
		  },
  {
"cell_type": "code",
	   "execution_count": null,
	   "metadata": {
	    "collapsed": true
	   },
	   "outputs": [],
"source": [
"//Problem 41.01: The ratio of output power to input power in a system is\n",
"//(a)2 (b) 25 (c) 1000 and (d) 0.01\n",
"//Determine the power ratio in each case (i) in decibels and (ii) in nepers.\n",
"\n",
"//initializing the variables:\n",
"//ratio of output power to input power\n",
"rp1 = 2;\n",
"rp2 = 25; \n",
"rp3 = 1000;\n",
"rp4 = 0.01;\n",
"\n",
"//calculation:\n",
"//power ratio in decibels\n",
"rpd1 = 10*log10(rp1)\n",
"rpd2 = 10*log10(rp2)\n",
"rpd3 = 10*log10(rp3)\n",
"rpd4 = 10*log10(rp4)\n",
"//power ratio in nepers\n",
"rpn1 = (log(rp1))/2\n",
"rpn2 = (log(rp2))/2\n",
"rpn3 = (log(rp3))/2\n",
"rpn4 = (log(rp4))/2\n",
"\n",
"printf('\n\n Result \n\n')\n",
"printf('\n power ratio in decibels are (a)%.0f dB (b)%.0f dB (c) %.0f dB and (d) %.0f dB',rpd1,rpd2,rpd3,rpd4)\n",
"printf('\n power ratio in nepers are (a)%.3f Np (b)%.3f Np (c) %.3f Np and (d) %.3f Np',rpn1,rpn2,rpn3,rpn4)"
   ]
   }
,
{
		   "cell_type": "markdown",
		   "metadata": {},
		   "source": [
			"## Example 41.02: Example_2.sce"
		   ]
		  },
  {
"cell_type": "code",
	   "execution_count": null,
	   "metadata": {
	    "collapsed": true
	   },
	   "outputs": [],
"source": [
"//Problem 41.02: 5% of the power supplied to a cable appears at the output terminals. Determine the attenuation in decibels.\n",
"\n",
"//initializing the variables:\n",
"rp = 0.05; // power ratio P2/P1\n",
"\n",
"//calculation:\n",
"//power ratio in decibels\n",
"rpd = 10*log10(rp)\n",
"\n",
"printf('\n\n Result \n\n')\n",
"printf('\nthe attenuation is %.0f dB',abs(rpd))"
   ]
   }
,
{
		   "cell_type": "markdown",
		   "metadata": {},
		   "source": [
			"## Example 41.03: Example_3.sce"
		   ]
		  },
  {
"cell_type": "code",
	   "execution_count": null,
	   "metadata": {
	    "collapsed": true
	   },
	   "outputs": [],
"source": [
"//Problem 41.03: An amplifier has a gain of 15 dB. If the input power is 12 mW, determine the output power.\n",
"\n",
"//initializing the variables:\n",
"gain = 1.5; // in dB\n",
"Pi = 0.012; // in Watt\n",
"\n",
"//calculation:\n",
"//output power\n",
"Po = Pi*10^gain\n",
"\n",
"printf('\n\n Result \n\n')\n",
"printf('\noutput power is %.4f W',Po)"
   ]
   }
,
{
		   "cell_type": "markdown",
		   "metadata": {},
		   "source": [
			"## Example 41.04: Example_4.sce"
		   ]
		  },
  {
"cell_type": "code",
	   "execution_count": null,
	   "metadata": {
	    "collapsed": true
	   },
	   "outputs": [],
"source": [
"//Problem 41.04: The current output of an attenuator is 50 mA. If the current ratio of the attenuator is 1.32 Np, determine (a) the current input and (b) the current ratio expressed in decibels. Assume that the input and load resistances of the attenuator are equal.\n",
"\n",
"//initializing the variables:\n",
"I2 = 0.05; // in Amperes\n",
"rin = 1.32; // in Np\n",
"\n",
"//calculation:\n",
"//current input, I1\n",
"I1 = I2*%e^(rin)\n",
"//current ratio in decibels\n",
"rid = 20*log10(I2/I1)\n",
"\n",
"printf('\n\n Result \n\n')\n",
"printf('\ncurrent input, I1 is %.4f A',I1)\n",
"printf('\ncurrent ratio in decibels is %.2f dB',rid)"
   ]
   }
,
{
		   "cell_type": "markdown",
		   "metadata": {},
		   "source": [
			"## Example 41.05: Example_5.sce"
		   ]
		  },
  {
"cell_type": "code",
	   "execution_count": null,
	   "metadata": {
	    "collapsed": true
	   },
	   "outputs": [],
"source": [
"//Problem 41.05: Determine the characteristic impedance of each of the attenuator sections shown in Figure 41.9.\n",
"\n",
"//initializing the variables:\n",
"R1a = 8; // in ohm\n",
"R2a = 21; // in ohm\n",
"R1b = 10; // in ohm\n",
"R2b = 15; // in ohm\n",
"R1c = 200; // in ohm\n",
"R2c = 56.25; // in ohm\n",
"\n",
"//calculation:\n",
"//for a T-section attenuator the characteristic impedance\n",
"Roa = (R1a^2 + 2*R1a*R2a)^0.5\n",
"Rob = (R1b^2 + 2*R1b*R2b)^0.5\n",
"Roc = (R1c^2 + 2*R1c*R2c)^0.5\n",
"\n",
"printf('\n\n Result \n\n')\n",
"printf('\nfor a T-sections attenuator the characteristic impedances are (a) %.0f ohm, (b) %.0f ohm and (c)%.0f ohm',Roa,Rob,Roc)"
   ]
   }
,
{
		   "cell_type": "markdown",
		   "metadata": {},
		   "source": [
			"## Example 41.06: Example_6.sce"
		   ]
		  },
  {
"cell_type": "code",
	   "execution_count": null,
	   "metadata": {
	    "collapsed": true
	   },
	   "outputs": [],
"source": [
"//Problem 41.06: A symmetrical pi-attenuator pad has a series arm of 500 ohm resistance and each shunt arm of 1 kohm resistance. Determine (a) the characteristic impedance, and (b) the attenuation (in dB) produced by the pad.\n",
"\n",
"//initializing the variables:\n",
"R1 = 500; // in ohm\n",
"R2 = 1000; // in ohm\n",
"I1 = 1; // in ampere (lets say)\n",
"\n",
"//calculation:\n",
"// for symmetrical pi-attenuator section\n",
"//characteristic impedance, R0\n",
"R0 = (R1*(R2^2)/(R1 + 2*R2))^0.5\n",
"//current Ix\n",
"Ix = (R2/(R2 + R1 + (R2*R0/(R2 + R0))))*I1\n",
"//current I2\n",
"I2 = (R2/(R2 + R0))*Ix\n",
"ri = I1/I2; // retio of currents\n",
"//attenuation\n",
"attn = 20*log10(ri)\n",
"\n",
"printf('\n\n Result \n\n')\n",
"printf('\n the characteristic impedance is %.0f ohm',R0)\n",
"printf('\n attenuation is %.2f dB',attn)"
   ]
   }
,
{
		   "cell_type": "markdown",
		   "metadata": {},
		   "source": [
			"## Example 41.07: Example_7.sce"
		   ]
		  },
  {
"cell_type": "code",
	   "execution_count": null,
	   "metadata": {
	    "collapsed": true
	   },
	   "outputs": [],
"source": [
"//Problem 41.07: For each of the attenuator networks shown in Figure 41.11, determine (a) the input resistance when the output port is open-circuited, (b) the input resistance when the output port is short-circuited, and (c) the characteristic impedance.\n",
"\n",
"//initializing the variables:\n",
"R1 = 15; // in ohm\n",
"R2 = 10; // in ohm\n",
"R3 = 5; // in ohm\n",
"\n",
"//calculation:\n",
"//For the T-network shown in Figure 41.11(i):\n",
"Roct = R1 + R2\n",
"Rsct = R1 + R1*R2/(R1 + R2)\n",
"Rot = (Roct*Rsct)^0.5\n",
"//For the Pi-network shown in Figure 41.11(ii):\n",
"Rocpi = R3*(R1 + R3)/(R3 + R1 + R3)\n",
"Rscpi = R3*R1/(R3 + R1)\n",
"Ropi = (R1*(R3^2)/(R1 + 2*R3))^0.5\n",
"\n",
"printf('\n\n Result \n\n')\n",
"printf('\n the input resistance when the output port is open-circuited is (a) %.0f ohm (b) %.0f ohm',Roct,Rocpi)\n",
"printf('\n the input resistance when the output port is short-circuited is (a) %.0f ohm (b) %.2f ohm',Rsct, Rscpi)\n",
"printf('\n the characteristic impedance is (a) %.1f ohm (b) %.2f ohm',Rot, Ropi)"
   ]
   }
,
{
		   "cell_type": "markdown",
		   "metadata": {},
		   "source": [
			"## Example 41.10: Example_10.sce"
		   ]
		  },
  {
"cell_type": "code",
	   "execution_count": null,
	   "metadata": {
	    "collapsed": true
	   },
	   "outputs": [],
"source": [
"//Problem 41.10: The attenuator shown in Figure 41.15 feeds a matched load. Determine (a) the characteristic impedance R0, and (b) the insertion loss in decibels.\n",
"\n",
"//initializing the variables:\n",
"R1 = 300; // in ohm\n",
"R2 = 450; // in ohm\n",
"I1 = 1; // in ampere (lets say)\n",
"\n",
"//calculation:\n",
"//the characteristic impedance of a symmetric T-pad attenuator is given by\n",
"R0 = (R1^2 + 2*R1*R2)^0.5\n",
"//By current division\n",
"//current I2\n",
"I2 = (R2/(R2 + R1+ R0))*I1\n",
"ri = I1/I2; // ratio of currents\n",
"//insertion loss\n",
"il = 20*log10(ri)\n",
"\n",
"printf('\n\n Result \n\n')\n",
"printf('\n the characteristic impedance is %.0f ohm',R0)\n",
"printf('\n insertion loss is %.2f dB',il)"
   ]
   }
,
{
		   "cell_type": "markdown",
		   "metadata": {},
		   "source": [
			"## Example 41.11: Example_11.sce"
		   ]
		  },
  {
"cell_type": "code",
	   "execution_count": null,
	   "metadata": {
	    "collapsed": true
	   },
	   "outputs": [],
"source": [
"//Problem 41.11: A 0–3 kohm rheostat is connected across the output of a signal generator of internal resistance 500 ohm. If a load of 2 kohm is connected across the rheostat, determine the insertion loss at a tapping of (a) 2 kohm, (b) 1 kohm.\n",
"\n",
"//initializing the variables:\n",
"r = 500; // in ohm\n",
"Rhm = 3000; // in ohm\n",
"RL = 2000; // in ohm\n",
"r1 = 2000; // in ohm\n",
"r2 = 1000; // in ohm\n",
"E = 1; // in volts (lets say)\n",
"\n",
"//calculation:\n",
"//Without the rheostat in the circuit the voltage across the 2 kohm load, VL\n",
"VL = (RL/(RL + r))*E\n",
"//voltage V2 with 2kohm tapping\n",
"V2 = ((RL*r1/(r1 + RL))/((RL*r1/(r1 + RL)) + Rhm - r1 + r))*E\n",
"rv1 = VL/V2; // ratio of currents\n",
"//insertion loss \n",
"il1 = 20*log10(rv1)\n",
"//voltage V1 with 1kohm tapping\n",
"V1 = ((RL*r2/(r2 + RL))/((RL*r2/(r2 + RL)) + Rhm - r2 + r))*E\n",
"rv2 = VL/V1; // ratio of currents\n",
"//insertion loss \n",
"il2 = 20*log10(rv2)\n",
"\n",
"printf('\n\n Result \n\n')\n",
"printf('\n insertion loss for 2kohm tap is %.2f dB',il1)\n",
"printf('\n insertion loss for 1kohm tap is %.2f dB',il2)"
   ]
   }
,
{
		   "cell_type": "markdown",
		   "metadata": {},
		   "source": [
			"## Example 41.12: Example_12.sce"
		   ]
		  },
  {
"cell_type": "code",
	   "execution_count": null,
	   "metadata": {
	    "collapsed": true
	   },
	   "outputs": [],
"source": [
"//Problem 41.12: A symmetrical pi-attenuator pad has a series arm of resistance 1000 ohm and shunt arms each of 500ohm . Determine (a) its characteristic impedance, and (b) the insertion loss (in decibels) when feeding a matched load..\n",
"\n",
"//initializing the variables:\n",
"R1 = 1000; // in ohm\n",
"R2 = 500; // in ohm\n",
"I1 = 1; // in amperes (lets say)\n",
"\n",
"//calculation:\n",
"//characteristic impedance of a symmetrical attenuator\n",
"R0 = (R1*(R2^2)/(R1 + 2*R2))^0.5\n",
"//current Ix\n",
"Ix = (R2/(R2 + R1 + (R2*R0/(R2 + R0))))*I1\n",
"//current I2\n",
"I2 = (R2/(R2 + R0))*Ix\n",
"ri = I1/I2; // retio of currents\n",
"//insertion loss \n",
"il = 20*log10(ri)\n",
"\n",
"printf('\n\n Result \n\n')\n",
"printf('\n characteristic impedance is %.0f ohm',R0)\n",
"printf('\n insertion loss is %.2f dB',il)"
   ]
   }
,
{
		   "cell_type": "markdown",
		   "metadata": {},
		   "source": [
			"## Example 41.13: Example_13.sce"
		   ]
		  },
  {
"cell_type": "code",
	   "execution_count": null,
	   "metadata": {
	    "collapsed": true
	   },
	   "outputs": [],
"source": [
"//Problem 41.13: An asymmetrical T-section attenuator is shown in Figure 41.24. Determine for the section (a) the image impedances, and (b) the iterative impedances.\n",
"\n",
"//initializing the variables:\n",
"R1 = 100; // in ohm\n",
"R2 = 200; // in ohm\n",
"R3 = 300; // in ohm\n",
"I1 = 1; // in amperes (lets say)\n",
"\n",
"//calculation:\n",
"//image impedance Roa\n",
"Roa = ((R1 + R2)*(R2 + (R1*R3/(R1 + R3))))^0.5\n",
"//image impedance Rob\n",
"Rob = ((R1 + R3)*(R3 + (R1*R2/(R1 + R2))))^0.5\n",
"//The iterative impedance at port 1\n",
"Ri1 = (-1*R1 + (R1^2 - (-1*4*((R2*(R1 + R3)) + (R3*R1))))^0.5)/2\n",
"//The iterative impedance at port 2\n",
"Ri2 = (R1 + (R1^2 - (-1*4*((R3*(R1 + R2)) + (R2*R1))))^0.5)/2\n",
"\n",
"printf('\n\n Result \n\n')\n",
"printf('\n image impedance are %.1f ohm and %.0f ohm ',Roa,Rob)\n",
"printf('\n iterative impedances are %.1f ohm and %.1f ohm ',Ri1,Ri2)"
   ]
   }
,
{
		   "cell_type": "markdown",
		   "metadata": {},
		   "source": [
			"## Example 41.14: Example_14.sce"
		   ]
		  },
  {
"cell_type": "code",
	   "execution_count": null,
	   "metadata": {
	    "collapsed": true
	   },
	   "outputs": [],
"source": [
"//Problem 41.14: An asymmetrical pi-section attenuator is shown in Figure 41.28. Determine for the section (a) the image impedances, and (b) the iterative impedances.\n",
"\n",
"//initializing the variables:\n",
"R1 = 1000; // in ohm\n",
"R2 = 2000; // in ohm\n",
"R3 = 3000; // in ohm\n",
"I1 = 1; // in amperes (lets say)\n",
"\n",
"//calculation:\n",
"//image impedance Roa\n",
"Roa = (((R3 + R2)*R1/(R1 + R2 + R3))*(R1*R3/(R1 + R3)))^0.5\n",
"//image impedance Rob\n",
"Rob = (((R3 + R1)*R2/(R1 + R2 + R3))*(R2*R3/(R2 + R3)))^0.5\n",
"//The iterative impedance at port 1\n",
"Ri1 = (-1*R1 + ((R1^2) - (-1*4*2*R2*R1))^0.5)/(2*2)\n",
"//The iterative impedance at port 2\n",
"Ri2 = (R1 + ((-1*R1)^2 - (-1*4*2*R2*R1))^0.5)/(2*2)\n",
"\n",
"printf('\n\n Result \n\n')\n",
"printf('\n image impedance are %.0f ohm and %.0f ohm ',Roa,Rob)\n",
"printf('\n iterative impedances are %.0f ohm and %.0f ohm ',Ri1,Ri2)"
   ]
   }
,
{
		   "cell_type": "markdown",
		   "metadata": {},
		   "source": [
			"## Example 41.15: Example_15.sce"
		   ]
		  },
  {
"cell_type": "code",
	   "execution_count": null,
	   "metadata": {
	    "collapsed": true
	   },
	   "outputs": [],
"source": [
"//Problem 41.15: A generator having an internal resistance of 500 ohm is connected to a 100 ohm load via an impedance-matching resistance pad as shown in Figure 41.33. Determine (a) the values of resistance R1 and R2, (b) the attenuation of the pad in decibels, and (c) its insertion loss.\n",
"\n",
"//initializing the variables:\n",
"r = 500; // in ohm\n",
"RL = 100; // in ohm\n",
"E = 1; // in volts (lets say)\n",
"\n",
"//calculation:\n",
"//res.\n",
"R1 = (r*(r - RL))^0.5\n",
"R2 = (r*RL^2/(r - RL))^0.5\n",
"//current I1\n",
"I1 = E/(r + R1 + R2*RL/(RL + R2))\n",
"//current I2\n",
"I2 = (R2/(R2 + RL))*I1\n",
"//input power\n",
"P1 = r*I1^2\n",
"//output power\n",
"P2 = RL*I2^2\n",
"//attenuation\n",
"attn = 10*log10(P1/P2)\n",
"//Load current, IL\n",
"IL = E/(r + RL)\n",
"//voltage, VL\n",
"VL = IL*RL\n",
"//voltage, V1\n",
"V1 = E - I1*r\n",
"//voltage, V2\n",
"V2 = V1 - I1*R1\n",
"//insertion loss\n",
"il = 20*log10(VL/V2)\n",
"\n",
"printf('\n\n Result \n\n')\n",
"printf('\n R1 = %.1f ohm and R2 = %.1f ohm ',R1,R2)\n",
"printf('\n attenuation is %.2f dB ',attn)\n",
"printf('\n In decibels, the insertion loss is %.2f dB ',il)"
   ]
   }
,
{
		   "cell_type": "markdown",
		   "metadata": {},
		   "source": [
			"## Example 41.16: Example_16.sce"
		   ]
		  },
  {
"cell_type": "code",
	   "execution_count": null,
	   "metadata": {
	    "collapsed": true
	   },
	   "outputs": [],
"source": [
"//Problem 41.16: Five identical attenuator sections are connected in cascade. The overall attenuation is 70 dB and the voltage input to the first section is 20 mV. Determine (a) the attenuation of eac individual attenuation section, (b) the voltage output of the fina stage, and (c) the voltage output of the third stage.\n",
"\n",
"//initializing the variables:\n",
"attnO = 70; // in dB\n",
"n = 5; // numbers of identical atteneurs\n",
"V1 = 0.02; // in Volts\n",
"\n",
"//calculation:\n",
"//attenuation of each section\n",
"attn = attnO/n\n",
"//output of the final stage\n",
"Vo = V1/(10^(attnO/20))\n",
"//voltage output of the third stage\n",
"V3 = V1/(10^(3*attn/20))\n",
"\n",
"printf('\n\n Result \n\n')\n",
"printf('\n attenuation of each section = %.0f dB ',attn)\n",
"printf('\n output of the final stage is %.2E V ',Vo)\n",
"printf('\n voltage output of the third stage is %.2E V ',V3)"
   ]
   }
],
"metadata": {
		  "kernelspec": {
		   "display_name": "Scilab",
		   "language": "scilab",
		   "name": "scilab"
		  },
		  "language_info": {
		   "file_extension": ".sce",
		   "help_links": [
			{
			 "text": "MetaKernel Magics",
			 "url": "https://github.com/calysto/metakernel/blob/master/metakernel/magics/README.md"
			}
		   ],
		   "mimetype": "text/x-octave",
		   "name": "scilab",
		   "version": "0.7.1"
		  }
		 },
		 "nbformat": 4,
		 "nbformat_minor": 0
}
