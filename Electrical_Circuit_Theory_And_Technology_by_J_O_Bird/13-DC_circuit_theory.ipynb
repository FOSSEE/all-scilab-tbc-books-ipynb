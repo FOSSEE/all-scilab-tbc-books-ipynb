{
"cells": [
 {
		   "cell_type": "markdown",
	   "metadata": {},
	   "source": [
       "# Chapter 13: DC circuit theory"
	   ]
	},
{
		   "cell_type": "markdown",
		   "metadata": {},
		   "source": [
			"## Example 13.01: Example_1.sce"
		   ]
		  },
  {
"cell_type": "code",
	   "execution_count": null,
	   "metadata": {
	    "collapsed": true
	   },
	   "outputs": [],
"source": [
"//Problem 13.01: (a) Find the unknown currents marked in Figure 13.3(a). (b) Determine the value of e.m.f. E in Figure 13.3(b).\n",
"\n",
"//initializing the variables:\n",
"Iab = 50; // in ampere\n",
"Ibc = 20; // in ampere\n",
"Iec = 15; // in ampere\n",
"Idf = 120; // in ampere\n",
"Ifg = 40; // in ampere\n",
"Iab = 50; // in ampere\n",
"I = 2; // in ampere\n",
"V1 = 4; // in volts\n",
"V2 = 3; // in volts\n",
"V3 = 6; // in volts\n",
"R1 = 1; // in ohms\n",
"R2 = 2; // in ohms\n",
"R3 = 2.5; // in ohms\n",
"R4 = 1.5; // in ohms\n",
"\n",
"//calculation:\n",
"I1 = Iab - Ibc\n",
"I2 = Ibc + Iec\n",
"I3 = I1 - Idf\n",
"I4 = Iec - I3\n",
"I5 = Idf - Ifg\n",
"// Applying Kirchhoff’s voltage law and moving clockwise around the loop of Figure 13.3(b) starting at point A:\n",
"E = I*R2 + I*R3 + I*R4 + I*R1 - V2 - V3 + V1\n",
"\n",
"printf('\n\n Result \n\n') \n",
"printf('\n (a) unknown currents I1, I2, I3, I4, I5 are %.0fA, %.0fA, %.0fA, %.0fA, %.0fA respetively',I1, I2, I3, I4, I5)\n",
"printf('\n (b) value of e.m.f. E = %.0f Volts',E)"
   ]
   }
,
{
		   "cell_type": "markdown",
		   "metadata": {},
		   "source": [
			"## Example 13.06: Example_6.sce"
		   ]
		  },
  {
"cell_type": "code",
	   "execution_count": null,
	   "metadata": {
	    "collapsed": true
	   },
	   "outputs": [],
"source": [
"//Problem 13.06: For the circuit shown in Figure 13.16, find, using the superposition theorem, (a) the current flowing in and the pd across the 18 ohm resistor, (b) the current in the 8 V battery and (c) the current in the 3 V battery.\n",
"\n",
"//initializing the variables:\n",
"E1 = 8; // in volts\n",
"E2 = 3; // in volts\n",
"R1 = 3; // in ohms\n",
"R2 = 2; // in ohms\n",
"R3 = 18; // in ohms\n",
"\n",
"//calculation:\n",
"//Removing source E2 gives the circuit of Figure 13.17(a).\n",
"//The current directions are labelled as shown in Figure 13.17(a), I1 flowing from the positive terminal of E1.\n",
"//From Figure 13.17(b), I1\n",
"r1 = 1/(1/R2 + 1/R3)\n",
"I1 = E1/(R1 + r1)\n",
"//From Figure 13.17(a), I2\n",
"I2 = (R3/(R3 + R2))*I1\n",
"I3 = (R2/(R3 + R2))*I1\n",
"//Removing source E1 gives the circuit of Figure 13.18(a)\n",
"//The current directions are labelled as shown in Figures 13.18(a) and 13.18(b), I4 flowing from the positive terminal of E2\n",
"//From Figure 13.18(c), I4\n",
"r2 = 1/(1/R3 + 1/R1)\n",
"I4 = E2/(r2 + R2)\n",
"//From Figure 13.18(b), I5\n",
"I5 = (R3/(R1 + R3))*I4\n",
"I6 = (R1/(R1 + R3))*I4\n",
"//Resultant current in the R3 resistor\n",
"I18 = I3 - I6\n",
"//P.d. across the R3\n",
"V3 = I18*R3\n",
"//Resultant current in the E1\n",
"Ie1 = I1 + I5\n",
"//Resultant current in the E2\n",
"Ie2 = I2 + I4\n",
"\n",
"printf('\n\n Result \n\n') \n",
"printf('\n Resultant current in the 18 ohm resistor is %.3f A',I18)\n",
"printf('\n P.d. across the 18 ohm resistor is %.3f V',V3)\n",
"printf('\n Resultant current in the E1 is %.3f A',Ie1)\n",
"printf('\n Resultant current in the E2 is %.3f A',Ie2)"
   ]
   }
,
{
		   "cell_type": "markdown",
		   "metadata": {},
		   "source": [
			"## Example 13.07: Example_7.sce"
		   ]
		  },
  {
"cell_type": "code",
	   "execution_count": null,
	   "metadata": {
	    "collapsed": true
	   },
	   "outputs": [],
"source": [
"//Problem 13.07: Use Th´evenin’s theorem to find the current flowing in the 10 ohm resistor for the circuit shown in Figure 13.28(a).\n",
"\n",
"//initializing the variables:\n",
"V = 10; // in volts\n",
"R1 = 2; // in ohms\n",
"R2 = 8; // in ohms\n",
"R3 = 5; // in ohms\n",
"R = 10; // in ohms\n",
"\n",
"//calculation:\n",
"//The 10 ohm resistance branch is short-circuited as shown in Figure 13.28(b).\n",
"//Current I1\n",
"I1 = V/(R1 + R2)\n",
"//p.d. across AB, E\n",
"E = R2*I1\n",
"//the resistance ‘looking-in’ at a break made between A and B is given by\n",
"r = R3 + (R1*R2)/(R2 + R1)\n",
"//The equivalent Th´evenin’s circuit is shown in Figure 13.28(d), the current in the 10 ohm resistance is given by:\n",
"I = E/(r + R)\n",
"\n",
"printf('\n\n Result \n\n') \n",
"printf('\n the current in the 10 ohm resistance is given by %.3f A',I)"
   ]
   }
,
{
		   "cell_type": "markdown",
		   "metadata": {},
		   "source": [
			"## Example 13.08: Example_8.sce"
		   ]
		  },
  {
"cell_type": "code",
	   "execution_count": null,
	   "metadata": {
	    "collapsed": true
	   },
	   "outputs": [],
"source": [
"//Problem 13.08: For the network shown in Figure 13.29(a) determine the current in the 0.8 ohm resistor using Th´evenin’s theorem.\n",
"\n",
"//initializing the variables:\n",
"V = 12; // in volts\n",
"R1 = 5; // in ohms\n",
"R2 = 1; // in ohms\n",
"R3 = 4; // in ohms\n",
"R = 0.8; // in ohms\n",
"\n",
"//calculation:\n",
"//The 0.8 ohm resistance branch is short-circuited as shown in Figure 13.29(b).\n",
"//Current I1\n",
"I1 = V/(R1 + R2 + R3)\n",
"//p.d. across AB, E\n",
"E = R3*I1\n",
"//the resistance ‘looking-in’ at a break made between A and B is given by\n",
"r = R3*(R1 + R2)/(R2 + R1 + R3)\n",
"//The equivalent Th´evenin’s circuit is shown in Figure 13.29(d), the current in the 0.8 ohm resistance is given by:\n",
"I = E/(r + R)\n",
"\n",
"printf('\n\n Result \n\n') \n",
"printf('\n the current in the 0.8 ohm resistance is given by %.1f A',I)"
   ]
   }
,
{
		   "cell_type": "markdown",
		   "metadata": {},
		   "source": [
			"## Example 13.09: Example_9.sce"
		   ]
		  },
  {
"cell_type": "code",
	   "execution_count": null,
	   "metadata": {
	    "collapsed": true
	   },
	   "outputs": [],
"source": [
"//Problem 13.09: Use Th´evenin’s theorem to determine the current I flowing in the 4 ohm resistor shown in Figure 13.30(a). Find also the power dissipated in the 4 ohm resistor.\n",
"\n",
"//initializing the variables:\n",
"E1 = 4; // in volts\n",
"E2 = 2; // in volts\n",
"R1 = 2; // in ohms\n",
"R2 = 1; // in ohms\n",
"R3 = 4; // in ohms\n",
"\n",
"//calculation:\n",
"//The 4 ohm resistance branch is short-circuited as shown in Figure 13.30(b).\n",
"//Current I1\n",
"I1 = (E1 - E2)/(R1 + R2)\n",
"//p.d. across AB, E\n",
"E = E1 - I1*R1\n",
"//the resistance ‘looking-in’ at a break made between A and B is given by\n",
"r = R2*R1/(R2 + R1)\n",
"//The equivalent Th´evenin’s circuit is shown in Figure 13.30(d), the current in the 4ohm resistance is given by:\n",
"I = E/(r + R3)\n",
"//Power dissipated in R3\n",
"P3 = R3*I^2\n",
"\n",
"printf('\n\n Result \n\n') \n",
"printf('\n the current in the 4 ohm resistance is given by %.3f A',I)\n",
"printf('\n power disipated in 4 ohm resistor is given by %.3f W',P3)"
   ]
   }
,
{
		   "cell_type": "markdown",
		   "metadata": {},
		   "source": [
			"## Example 13.10: Example_10.sce"
		   ]
		  },
  {
"cell_type": "code",
	   "execution_count": null,
	   "metadata": {
	    "collapsed": true
	   },
	   "outputs": [],
"source": [
"//Problem 13.10: Use Th´evenin’s theorem to determine the current flowing in the 3 ohm resistance of the network shown in Figure 13.31(a). The voltage source has negligible internal resistance.\n",
"\n",
"//initializing the variables:\n",
"V = 24; // in volts\n",
"R1 = 20; // in ohms\n",
"R2 = 5; // in ohms\n",
"R3 = 10; // in ohms\n",
"R4 = 5/3; // in ohms\n",
"R5 = 3; // in ohms\n",
"\n",
"//calculation:\n",
"//The 3 ohm resistance branch is short-circuited as shown in Figure 13.31(b).\n",
"//P.d. across R3\n",
"V3 = (R3/(R3 + R2))*V\n",
"//p.d. across AB, E\n",
"E = V3\n",
"//the resistance ‘looking-in’ at a break made between A and B is given by\n",
"r = R4 + R2*R3/(R2 + R3)\n",
"//The equivalent Th´evenin’s circuit is shown in Figure 13.31(e), the current in the 32 ohm resistance is given by:\n",
"I = E/(r + R5)\n",
"\n",
"printf('\n\n Result \n\n') \n",
"printf('\n the current in the 3 ohm resistance is given by %.0f A',I)"
   ]
   }
,
{
		   "cell_type": "markdown",
		   "metadata": {},
		   "source": [
			"## Example 13.11: Example_11.sce"
		   ]
		  },
  {
"cell_type": "code",
	   "execution_count": null,
	   "metadata": {
	    "collapsed": true
	   },
	   "outputs": [],
"source": [
"//Problem 13.11: A Wheatstone Bridge network is shown in Figure 13.32(a). Calculate the current flowing in the 32 ohm resistor, and its direction, using Th´evenin’s theorem. Assume the source of e.m.f. to have negligible resistance.\n",
"\n",
"//initializing the variables:\n",
"E = 54; // in volts\n",
"R1 = 2; // in ohms\n",
"R2 = 14; // in ohms\n",
"R3 = 3; // in ohms\n",
"R4 = 11; // in ohms\n",
"R5 = 32; // in ohms\n",
"\n",
"//calculation:\n",
"//The 32ohm resistance branch is short-circuited as shown in Figure 13.32(b).\n",
"//The p.d. between A and C,\n",
"Vac = (R1/(R1 + R4))*E\n",
"//The p.d. between B and C,\n",
"Vbc = (R2/(R2 + R3))*E\n",
"//Hence the p.d. between A and B\n",
"Vab = Vbc - Vac\n",
"//the resistance ‘looking-in’ at a break made between A and B is given by\n",
"r = R1*R4/(R1 + R4) + R2*R3/(R2 + R3)\n",
"//The equivalent Th´evenin’s circuit is shown in Figure 13.32(f), the current in the 32 ohm resistance is given by:\n",
"I = E/(r + R5)\n",
"\n",
"printf('\n\n Result \n\n') \n",
"printf('\n the current in the 32 ohm resistance is given by %.0f A',I)"
   ]
   }
,
{
		   "cell_type": "markdown",
		   "metadata": {},
		   "source": [
			"## Example 13.12: Example_12.sce"
		   ]
		  },
  {
"cell_type": "code",
	   "execution_count": null,
	   "metadata": {
	    "collapsed": true
	   },
	   "outputs": [],
"source": [
"//Problem 13.12: Use Norton’s theorem to determine the current flowing in the 10 ohm resistance for the circuit shown in Figure 13.34(a).\n",
"\n",
"//initializing the variables:\n",
"V = 10; // in volts\n",
"R1 = 2; // in ohms\n",
"R2 = 8; // in ohms\n",
"R3 = 5; // in ohms\n",
"R4 = 10; // in ohms\n",
"\n",
"//calculation:\n",
"//The 10ohm resistance branch is short-circuited as shown in Figure 13.34(b).\n",
"//Figure 13.34(c) is equivalent to Figure 13.34(b). Hence\n",
"Isc = V/R1\n",
"//the resistance ‘looking-in’ at a break made between A and B is given by\n",
"r = R1*R2/(R1 + R2)\n",
"//From the Norton equivalent network shown in Figure 13.34(d) the current in the 10 ohm resistance is given by:\n",
"I = (r/(r + R3 + R4))*Isc\n",
"\n",
"printf('\n\n Result \n\n') \n",
"printf('\n the current in the 10 ohm resistance is given by %.3f A',I)"
   ]
   }
,
{
		   "cell_type": "markdown",
		   "metadata": {},
		   "source": [
			"## Example 13.13: Example_13.sce"
		   ]
		  },
  {
"cell_type": "code",
	   "execution_count": null,
	   "metadata": {
	    "collapsed": true
	   },
	   "outputs": [],
"source": [
"//Problem 13.13: Use Norton’s theorem to determine the current I flowing in the 4 ohm resistance shown in Figure 13.35(a).\n",
"\n",
"//initializing the variables:\n",
"V1 = 4; // in volts\n",
"V2 = 2; // in volts\n",
"R1 = 2; // in ohms\n",
"R2 = 1; // in ohms\n",
"R3 = 4; // in ohms\n",
"\n",
"//calculation:\n",
"//The 4ohm resistance branch is short-circuited as shown in Figure 13.35(b).\n",
"//Figure 13.35(b)\n",
"Isc = V1/R1 + V2/R2\n",
"//the resistance ‘looking-in’ at a break made between A and B is given by\n",
"r = R1*R2/(R1 + R2)\n",
"//From the Norton equivalent network shown in Figure 13.35(c) the current in the 4ohm resistance is given by:\n",
"I = (r/(r + R3))*Isc\n",
"\n",
"printf('\n\n Result \n\n') \n",
"printf('\n the current in the 4ohm resistance is given by %.3f A',I)"
   ]
   }
,
{
		   "cell_type": "markdown",
		   "metadata": {},
		   "source": [
			"## Example 13.14: Example_14.sce"
		   ]
		  },
  {
"cell_type": "code",
	   "execution_count": null,
	   "metadata": {
	    "collapsed": true
	   },
	   "outputs": [],
"source": [
"//Problem 13.14: Use Norton’s theorem to determine the current flowing in the 3 ohm resistance of the network shown in Figure 13.36(a). The voltage source has negligible internal resistance.\n",
"\n",
"//initializing the variables:\n",
"V = 24; // in volts\n",
"R1 = 20; // in ohms\n",
"R2 = 5; // in ohms\n",
"R3 = 10; // in ohms\n",
"R4 = 5/3; // in ohms\n",
"R5 = 3; // in ohms\n",
"\n",
"//calculation:\n",
"//The 3ohm resistance branch is short-circuited as shown in Figure 13.36(b).\n",
"//Figure 13.36(c) is equivalent to Figure 13.36(b).\n",
"Isc = V/R2\n",
"//the resistance ‘looking-in’ at a break made between A and B is given by\n",
"r = R3*R2/(R3 + R2)\n",
"//From the Norton equivalent network shown in Figure 13.36(f) the current in the 3ohm resistance is given by:\n",
"I = (r/(r + R4 + R5))*Isc\n",
"\n",
"printf('\n\n Result \n\n') \n",
"printf('\n the current in the 3ohm resistance is given by %.0f A',I)"
   ]
   }
,
{
		   "cell_type": "markdown",
		   "metadata": {},
		   "source": [
			"## Example 13.15: Example_15.sce"
		   ]
		  },
  {
"cell_type": "code",
	   "execution_count": null,
	   "metadata": {
	    "collapsed": true
	   },
	   "outputs": [],
"source": [
"//Problem 13.15: Determine the current flowing in the 2ohm resistance in the network shown in Figure 13.37(a).\n",
"\n",
"//initializing the variables:\n",
"I = 15; // in amperes\n",
"R1 = 6; // in ohms\n",
"R2 = 4; // in ohms\n",
"R3 = 8; // in ohms\n",
"R4 = 2; // in ohms\n",
"R5 = 7; // in ohms\n",
"\n",
"//calculation:\n",
"//The 2ohm resistance branch is short-circuited as shown in Figure 13.37(b).\n",
"//Figure 13.37(c) is equivalent to Figure 13.37(b).\n",
"Isc = (R1/(R1 + R2))*I\n",
"//the resistance ‘looking-in’ at a break made between A and B is given by\n",
"r = ((R1 + R2)*(R3 + R5)/(R1 + R2 + R3 + R5))\n",
"//From the Norton equivalent network shown in Figure 13.37(e) the current in the 2ohm resistance is given by:\n",
"I = (r/(r + R4))*Isc\n",
"\n",
"printf('\n\n Result \n\n') \n",
"printf('\n the current in the 2ohm resistance is given by %.2f A',I)"
   ]
   }
,
{
		   "cell_type": "markdown",
		   "metadata": {},
		   "source": [
			"## Example 13.18: Example_18.sce"
		   ]
		  },
  {
"cell_type": "code",
	   "execution_count": null,
	   "metadata": {
	    "collapsed": true
	   },
	   "outputs": [],
"source": [
"//Problem 13.18: (a) Convert the circuit to the left of terminals AB in Figure 13.45(a) to an equivalent Th´evenin circuit by initially converting to a Norton equivalent circuit. (b) Determine the current flowing in the 1.8 ohm resistor.\n",
"\n",
"//initializing the variables:\n",
"E1 = 12; // in volts\n",
"E2 = 24; // in volts\n",
"R1 = 3; // in ohms\n",
"R2 = 2; // in ohms\n",
"R3 = 1.8; // in ohms\n",
"\n",
"//calculation:\n",
"//For the branch containing the V1 source, converting to a Norton equivalent network gives\n",
"Isc1 = E1/R1\n",
"r1 = R1\n",
"//For the branch containing the V2 source, converting to a Norton equivalent network gives\n",
"Isc2 = E2/R2\n",
"r2 = R2\n",
"//Thus the network of Figure 13.46(a) converts to Figure 13.46(b).\n",
"//total short-circuit current\n",
"Isct = Isc1 + Isc2\n",
"//the resistance is\n",
"z = r1*r2/(r1 + r2)\n",
"//Both of the Norton equivalent networks shown in Figure 13.46(c) may be converted to Th´evenin equivalent circuits. The open-circuit voltage across CD is\n",
"Vcd = Isct*z\n",
"//the current I flowing in a 1.8 ohm resistance connected between A and B is given by:\n",
"I = Vcd/(z + R3)\n",
"\n",
"printf('\n\n Result \n\n') \n",
"printf('\n the current I flowing in a 1.8 ohm resistance connected between A and B is given by %.2f A',I)"
   ]
   }
,
{
		   "cell_type": "markdown",
		   "metadata": {},
		   "source": [
			"## Example 13.19: Example_19.sce"
		   ]
		  },
  {
"cell_type": "code",
	   "execution_count": null,
	   "metadata": {
	    "collapsed": true
	   },
	   "outputs": [],
"source": [
"//Problem 13.19: Determine by successive conversions between Th´evenin and Norton equivalent networks a Th´evenin equivalent circuit for terminals AB of Figure 13.46(a). Hence determine the current flowing in the 200 ohm resistance.\n",
"\n",
"//initializing the variables:\n",
"V1 = 10; // in volts\n",
"V2 = 6; // in volts\n",
"R1 = 2000; // in ohms\n",
"R2 = 3000; // in ohms\n",
"R3 = 600; // in ohms\n",
"R4 = 200; // in ohms\n",
"i = 0.001; // in amperes\n",
"\n",
"//calculation:\n",
"//For the branch containing the V1 source, converting to a Norton equivalent network gives\n",
"Isc1 = V1/R1\n",
"r1 = R1\n",
"//For the branch containing the V2 source, converting to a Norton equivalent network gives\n",
"Isc2 = V2/R2\n",
"r2 = R2\n",
"//Thus the network of Figure 13.46(a) converts to Figure 13.46(b).\n",
"//total short-circuit current\n",
"Isct = Isc1 + Isc2\n",
"//the resistance is\n",
"z = r1*r2/(r1 + r2)\n",
"//Both of the Norton equivalent networks shown in Figure 13.46(c) may be converted to Th´evenin equivalent circuits. The open-circuit voltage across CD is\n",
"Vcd = Isct*z\n",
"//The open-circuit voltage across EF is\n",
"Vef = i*R3\n",
"//the resistance ‘looking-in’ at EF is\n",
"r3 = R3\n",
"//Thus Figure 13.46(c) converts to Figure 13.46(d). Combining the two Th´evenin circuits gives\n",
"E = Vcd - Vef\n",
"r = z + r3\n",
"//the current I flowing in a 200 ohm resistance connected between A and B is given by:\n",
"I = E/(r + R4)\n",
"\n",
"printf('\n\n Result \n\n') \n",
"printf('\n the current I flowing in a 200ohm resistance connected between A and B is given by:is %.2E A',I)"
   ]
   }
,
{
		   "cell_type": "markdown",
		   "metadata": {},
		   "source": [
			"## Example 13.20: Example_20.sce"
		   ]
		  },
  {
"cell_type": "code",
	   "execution_count": null,
	   "metadata": {
	    "collapsed": true
	   },
	   "outputs": [],
"source": [
"//Problem 13.20: The circuit diagram of Figure 13.48 shows dry cells of source e.m.f. 6 V, and internal resistance 2.5 ohm. If the load resistance RL is varied from 0 to 5 ohm in 0.5 ohm  steps, calculate the power dissipated by the load in each case. Plot a graph of RL (horizontally) against power (vertically) and determine the maximum power dissipated.\n",
"\n",
"//initializing the variables:\n",
"V = 6; // in volts\n",
"r = 2.5; // in ohms\n",
"\n",
"//calculation:\n",
"RL=(0:0.5:5)';\n",
"function [y]=f(RL)\n",
"    y = RL*(V/(r + RL))^2;\n",
"endfunction\n",
"fplot2d(RL, f)\n",
"xtitle('graph of (RL) against power(P)', 'RL(ohm)', 'P(W)')"
   ]
   }
,
{
		   "cell_type": "markdown",
		   "metadata": {},
		   "source": [
			"## Example 13.21: Example_21.sce"
		   ]
		  },
  {
"cell_type": "code",
	   "execution_count": null,
	   "metadata": {
	    "collapsed": true
	   },
	   "outputs": [],
"source": [
"//Problem 13.21: A d.c. source has an open-circuit voltage of 30 V and an internal resistance of 1.5 ohm. State the value of load resistance that gives maximum power dissipation and determine the value of this power.\n",
"\n",
"//initializing the variables:\n",
"V = 30; // in volts\n",
"r = 1.5; // in ohms\n",
"\n",
"//calculation:\n",
"//current I = E/(r + RL)\n",
"//For maximum power, RL = r\n",
"RL = r\n",
"I = V/(r + RL)\n",
"//Power, P, dissipated in load RL, P\n",
"P = RL*I^2\n",
"\n",
"printf('\n\n Result \n\n') \n",
"printf('\n (a) the value of the load resistor RL is %.1f ohm',RL)\n",
"printf('\n (b) maximum power dissipation = %.0f W',P)"
   ]
   }
,
{
		   "cell_type": "markdown",
		   "metadata": {},
		   "source": [
			"## Example 13.22: Example_22.sce"
		   ]
		  },
  {
"cell_type": "code",
	   "execution_count": null,
	   "metadata": {
	    "collapsed": true
	   },
	   "outputs": [],
"source": [
"//Problem 13.22: Find the value of the load resistor RL shown in Figure 13.51(a) that gives maximum power dissipation and determine the value of this power.\n",
"\n",
"//initializing the variables:\n",
"V = 15; // in volts\n",
"R1 = 3; // in ohms\n",
"R2 = 12; // in ohms\n",
"\n",
"//calculation:\n",
"//Resistance RL is removed from the circuit as shown in Figure 13.51(b).\n",
"//The p.d. across AB is the same as the p.d. across the 12 ohm resistor.\n",
"E = (R2/(R1 + R2))*V\n",
"//Removing the source of e.m.f. gives the circuit of Figure 13.51(c),\n",
"//from which resistance, r\n",
"r = R1*R2/(R1 + R2)\n",
"//The equivalent Th´evenin’s circuit supplying terminals AB is shown in Figure 13.51(d), from which, current I = E/(r + RL)\n",
"//For maximum power, RL = r\n",
"RL = r\n",
"I = E/(r + RL)\n",
"//Power, P, dissipated in load RL, P\n",
"P = RL*I^2\n",
"\n",
"printf('\n\n Result \n\n') \n",
"printf('\n (a) the value of the load resistor RL is %.1f ohm',RL)\n",
"printf('\n (b) maximum power dissipation = %.0f W',P)"
   ]
   }
],
"metadata": {
		  "kernelspec": {
		   "display_name": "Scilab",
		   "language": "scilab",
		   "name": "scilab"
		  },
		  "language_info": {
		   "file_extension": ".sce",
		   "help_links": [
			{
			 "text": "MetaKernel Magics",
			 "url": "https://github.com/calysto/metakernel/blob/master/metakernel/magics/README.md"
			}
		   ],
		   "mimetype": "text/x-octave",
		   "name": "scilab",
		   "version": "0.7.1"
		  }
		 },
		 "nbformat": 4,
		 "nbformat_minor": 0
}
