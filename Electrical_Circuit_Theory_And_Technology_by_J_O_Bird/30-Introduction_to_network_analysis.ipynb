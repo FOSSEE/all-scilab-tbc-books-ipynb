{
"cells": [
 {
		   "cell_type": "markdown",
	   "metadata": {},
	   "source": [
       "# Chapter 30: Introduction to network analysis"
	   ]
	},
{
		   "cell_type": "markdown",
		   "metadata": {},
		   "source": [
			"## Example 30.01: Example_1.sce"
		   ]
		  },
  {
"cell_type": "code",
	   "execution_count": null,
	   "metadata": {
	    "collapsed": true
	   },
	   "outputs": [],
"source": [
"//Problem 30.01: Use Kirchhoff’s laws to find the current flowing in each branch of the network shown in Figure 30.3.\n",
"\n",
"//initializing the variables:\n",
"rv1 = 100; // in volts\n",
"rv2 = 50; // in volts\n",
"thetav1 = 0; // in degrees\n",
"thetav2 = 90; // in degrees\n",
"R1 = 25; // in ohm\n",
"R2 = 20; // in ohm\n",
"R3 = 10; // in ohm\n",
"\n",
"//calculation:\n",
"//voltage\n",
"V1 = rv1*cos(thetav1*%pi/180) + %i*rv1*sin(thetav1*%pi/180)\n",
"V2 = rv2*cos(thetav2*%pi/180) + %i*rv2*sin(thetav2*%pi/180)\n",
"//The branch currents and their directions are labelled as shown in Figure 30.4\n",
"//Two loops are chosen. loop ABEF, and loop BCDE\n",
"//using kirchoff rule in 3 loops\n",
"//two eqns obtained\n",
"//(R1 + R2)*I1 + R2*I2 = V1\n",
"//R2*I1 + (R2 + R3)*I2 = V2\n",
"I1 = (3*V1 - 2*V2)/(3*(R1 + R2) - 2*(R2))\n",
"I2 = (V2 - R2*I1)/(R2 + R3)\n",
"I = I1 + I2\n",
"\n",
"printf('\n\n Result \n\n')\n",
"printf('\n current, I1 is %.2f + (%.2f)i A, current, I2 is  %.2f + (%.2f)i A and total current, I is %.2f + (%.2f)i A',real(I1), imag(I1),real(I2), imag(I2),real(I), imag(I))"
   ]
   }
,
{
		   "cell_type": "markdown",
		   "metadata": {},
		   "source": [
			"## Example 30.02: Example_2.sce"
		   ]
		  },
  {
"cell_type": "code",
	   "execution_count": null,
	   "metadata": {
	    "collapsed": true
	   },
	   "outputs": [],
"source": [
"//Problem 30.02: Determine the current flowing in the 2 ohm resistor of the circuit shown in Figure 30.5 using Kirchhoff’s laws. Find also the power dissipated in the 3 ohm resistance.\n",
"\n",
"//initializing the variables:\n",
"V = 8; // in volts\n",
"R1 = 1; // in ohm\n",
"R2 = 2; // in ohm\n",
"R3 = 3; // in ohm\n",
"R4 = 4; // in ohm\n",
"R5 = 5; // in ohm\n",
"R6 = 6; // in ohm\n",
"\n",
"//calculation:\n",
"//Currents and their directions are assigned as shown in Figure 30.6.\n",
"//Three loops are chosen since three unknown currents are required. The choice of loop directions is arbitrary. loop ABCDE, and loop EDGF and loop DCHG\n",
"//using kirchoff rule in 3 loops\n",
"//three eqns obtained\n",
"//R5*I1 + (R6 + R4)*I2 - R4*I3 = V\n",
"//-1*R1*I1 + (R6 + R1)*I2 + R2*I3 = 0\n",
"// R3*I1 - (R3 + R4)*I2 + (R2 + R3 + R4)*I3 = 0\n",
"//using determinants\n",
"d1 = [V (R6 + R4) -1*R4; 0 (R6 + R1) R2; 0 (-1*(R3 + R4)) (R2 + R3 + R4)]\n",
"D1 = det(d1)\n",
"d2 = [R5 V -1*R4; -1*R1 0 R2; R3 0 (R2 + R3 + R4)]\n",
"D2 = det(d2)\n",
"d3 = [R5 (R6 + R4) V; -1*R1 (R6 + R1) 0; R3 (-1*(R3 + R4)) 0]\n",
"D3 = det(d3)\n",
"d = [R5 (R6 + R4) -1*R4; -1*R1 (R6 + R1) R2; R3 (-1*(R3 + R4)) (R2 + R3 + R4)]\n",
"D = det(d)\n",
"I1 = D1/D\n",
"I2 = D2/D\n",
"I3 = D3/D \n",
"//Current in the 2 ohm resistance\n",
"I = I1 - I2 + I3\n",
"//power dissipated in the 3 ohm resistance\n",
"P3 = R3*I^2\n",
"\n",
"printf('\n\n Result \n\n')\n",
"printf('\n (a)current through 2 ohm resistor is %.2f A',I2)\n",
"printf('\n (b)power dissipated in the 3 ohm resistor is %.2f W',P3)"
   ]
   }
,
{
		   "cell_type": "markdown",
		   "metadata": {},
		   "source": [
			"## Example 30.03: Example_3.sce"
		   ]
		  },
  {
"cell_type": "code",
	   "execution_count": null,
	   "metadata": {
	    "collapsed": true
	   },
	   "outputs": [],
"source": [
"//Problem 30.03: For the a.c. network shown in Figure 30.7, determine the current flowing in each branch using Kirchhoff’s laws.\n",
"\n",
"//initializing the variables:\n",
"E1 = 5 + %i*0; // in volts\n",
"E2 = 2 + %i*4; // in volts\n",
"Z1 = 3 + %i*4; // in ohm\n",
"Z2 = 2 - %i*5; // in ohm\n",
"Z3 = 6 + %i*8; // in ohm\n",
"\n",
"//calculation:\n",
"//Currents I1 and I2 with their directions are shown in Figure 30.8.\n",
"//Two loops are chosen with their directions both clockwise.loop ABEF and loop BCDE,\n",
"//using kirchoff rule in 3 loops\n",
"//two eqns obtained\n",
"//(Z1 + Z3)*I1 - Z3*I2 = E1\n",
"//-1*Z3*I1 + (Z2 + Z3)*I2 = E2\n",
"I1 = ((Z2 + Z3)*E1 + Z3*E2)/((Z2 + Z3)*(Z1 + Z3) - Z3*Z3)\n",
"I2 = -1*(E1 - (Z1 + Z3)*I1)/Z3\n",
"I3 = I1 - I2\n",
"\n",
"printf('\n\n Result \n\n')\n",
"printf('\n current, I1 is %.2f + (%.2f)i A, current, I2 is  %.2f + (%.2f)i A and current in Z3, I3 is %.3f + (%.3f)i A',real(I1), imag(I1),real(I2), imag(I2),real(I3), imag(I3))"
   ]
   }
,
{
		   "cell_type": "markdown",
		   "metadata": {},
		   "source": [
			"## Example 30.04: Example_4.sce"
		   ]
		  },
  {
"cell_type": "code",
	   "execution_count": null,
	   "metadata": {
	    "collapsed": true
	   },
	   "outputs": [],
"source": [
"//Problem 30.04: For the network shown in Figure 30.9, use Kirchhoff’s laws to determine the magnitude of the current in the (4 + i3)ohm impedance.\n",
"\n",
"//initializing the variables:\n",
"rv1 = 10; // in volts\n",
"rv2 = 12; // in volts\n",
"rv3 = 15; // in volts\n",
"thetav1 = 0; // in degrees\n",
"thetav2 = 0; // in degrees\n",
"thetav3 = 0; // in degrees\n",
"R1 = 4; // in ohm\n",
"R2 = -1*5*%i; // in ohm\n",
"R3 = 8; // in ohm\n",
"R4 = 4; // in ohm\n",
"R5 = %i*3; // in ohm\n",
"\n",
"//calculation:\n",
"//voltages\n",
"V1 = rv1*cos(thetav1*%pi/180) + %i*rv1*sin(thetav1*%pi/180)\n",
"V2 = rv2*cos(thetav2*%pi/180) + %i*rv2*sin(thetav2*%pi/180)\n",
"V3 = rv3*cos(thetav3*%pi/180) + %i*rv3*sin(thetav3*%pi/180)\n",
"//Currents I1, I2 and I3 with their directions are shown in Figure 30.10.\n",
"//Three loops are chosen. The choice of loop directions is arbitrary. loop ABGH, and loopBCFG and loop CDEF\n",
"Z4 = R4 + R5\n",
"//using kirchoff rule in 3 loops\n",
"//three eqns obtained\n",
"//R1*I1 + R2*I2 = V1 + V2\n",
"//-1*R3*I1 + (R3 + R2)*I2 + R3*I3 = V2 + V3\n",
"// -1*R3*I1 + R3*I2 + (R3 + Z4)*I3 = V3\n",
"//using determinants\n",
"d1 = [(V1 + V2) R2 0; (V2 + V3) (R3 + R2) R3; V3 R3 (R3 + Z4)]\n",
"D1 = det(d1)\n",
"d2 = [R1 (V1 + V2) 0; -1*R3 (V2 + V3) R3; -1*R3 V3 (R3 + Z4)]\n",
"D2 = det(d2)\n",
"d3 = [R1 R2 (V1 + V2); -1*R3 (R3 + R2) (V2 + V3); -1*R3 R3 V3]\n",
"D3 = det(d3)\n",
"d = [R1 R2 0; -1*R3 (R3 + R2) R3; -1*R3 R3 (R3 + Z4)]\n",
"D = det(d)\n",
"I1 = D1/D\n",
"I2 = D2/D\n",
"I3 = D3/D \n",
"I3mag = (real(I3)^2 + imag(I3)^2)^0.5\n",
"\n",
"printf('\n\n Result \n\n')\n",
"printf('\n magnitude of the current through (4 + i3)ohm impedance is %.2f A',I3mag)"
   ]
   }
],
"metadata": {
		  "kernelspec": {
		   "display_name": "Scilab",
		   "language": "scilab",
		   "name": "scilab"
		  },
		  "language_info": {
		   "file_extension": ".sce",
		   "help_links": [
			{
			 "text": "MetaKernel Magics",
			 "url": "https://github.com/calysto/metakernel/blob/master/metakernel/magics/README.md"
			}
		   ],
		   "mimetype": "text/x-octave",
		   "name": "scilab",
		   "version": "0.7.1"
		  }
		 },
		 "nbformat": 4,
		 "nbformat_minor": 0
}
