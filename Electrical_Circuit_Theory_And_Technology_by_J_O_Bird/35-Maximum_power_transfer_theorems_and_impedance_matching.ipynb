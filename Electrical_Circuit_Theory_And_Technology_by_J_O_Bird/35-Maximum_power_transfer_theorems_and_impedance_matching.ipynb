{
"cells": [
 {
		   "cell_type": "markdown",
	   "metadata": {},
	   "source": [
       "# Chapter 35: Maximum power transfer theorems and impedance matching"
	   ]
	},
{
		   "cell_type": "markdown",
		   "metadata": {},
		   "source": [
			"## Example 35.01: Example_1.sce"
		   ]
		  },
  {
"cell_type": "code",
	   "execution_count": null,
	   "metadata": {
	    "collapsed": true
	   },
	   "outputs": [],
"source": [
"//Problem 35.01: For the circuit shown in Figure 35.2 the load impedance Z is a pure resistance. Determine (a) the value of R for maximum power to be transferred from the source to the load, and (b) the value of the maximum power delivered to R.\n",
"\n",
"//initializing the variables:\n",
"rv = 120; // in volts\n",
"thetav = 0; // in degrees\n",
"Z = 15 + %i*20; // in ohm\n",
"\n",
"//calculation: \n",
"//voltage\n",
"V = rv*cos(thetav*%pi/180) + %i*rv*sin(thetav*%pi/180)\n",
"//maximum power transfer occurs when R = mod(Z)\n",
"R = (real(Z)^2 + imag(Z)^2)^0.5\n",
"//the total circuit impedance\n",
"ZT = Z + R\n",
"//Current I flowing in the load is given by\n",
"I = V/ZT\n",
"Imag = (real(I)^2 + imag(I)^2)^0.5\n",
"//maximum power delivered\n",
"P = R*Imag^2\n",
"\n",
"printf('\n\n Result \n\n')\n",
"printf('\n (a)maximum power transfer occurs when R is %.0f ohm',R)\n",
"printf('\n (b) maximum power delivered is %.0f W',P)"
   ]
   }
,
{
		   "cell_type": "markdown",
		   "metadata": {},
		   "source": [
			"## Example 35.02: Example_2.sce"
		   ]
		  },
  {
"cell_type": "code",
	   "execution_count": null,
	   "metadata": {
	    "collapsed": true
	   },
	   "outputs": [],
"source": [
"//Problem 35.02: If the load impedance Z in Figure 35.2 of problem 35.01 consists of variable resistance R and variable reactance X, determine (a) the value of Z that results in maximum power transfer, and (b) the value of the maximum power.\n",
"\n",
"//initializing the variables:\n",
"rv = 120; // in volts\n",
"thetav = 0; // in degrees\n",
"Z = 15 + %i*20; // in ohm\n",
"\n",
"//calculation: \n",
"//voltage\n",
"V = rv*cos(thetav*%pi/180) + %i*rv*sin(thetav*%pi/180)\n",
"//maximum power transfer occurs when X = -1*imag(Z) and R = real(Z)\n",
"z = real(Z) - %i*imag(Z)\n",
"//Total circuit impedance at maximum power transfer condition,\n",
"ZT = Z + z\n",
"//Current I flowing in the load is given by\n",
"I = V/ZT\n",
"Imag = (real(I)^2 + imag(I)^2)^0.5\n",
"//maximum power delivered\n",
"P = real(Z)*I^2\n",
"\n",
"printf('\n\n Result \n\n')\n",
"printf('\n (a)maximum power transfer occurs when Z is %.0f + (%.0f)i ohm',real(z), imag(z))\n",
"printf('\n (b) maximum power delivered is %.0f W',P)"
   ]
   }
,
{
		   "cell_type": "markdown",
		   "metadata": {},
		   "source": [
			"## Example 35.03: Example_3.sce"
		   ]
		  },
  {
"cell_type": "code",
	   "execution_count": null,
	   "metadata": {
	    "collapsed": true
	   },
	   "outputs": [],
"source": [
"//Problem 35.03: For the network shown in Figure 35.3, determine (a) the value of the load resistance R required for maximum power transfer, and (b) the value of the maximum power transferred.\n",
"\n",
"//initializing the variables:\n",
"rv = 200; // in volts\n",
"thetav = 0; // in degrees\n",
"R1 = 100; // in ohm\n",
"C = 1E-6; // in farad\n",
"f = 1000; // in Hz\n",
"\n",
"//calculation: \n",
"//voltage\n",
"V = rv*cos(thetav*%pi/180) + %i*rv*sin(thetav*%pi/180)\n",
"//Capacitive reactance, Xc\n",
"Xc = 1/(2*%pi*f*C)\n",
"//Hence source impedance,\n",
"z = R1*(%i*Xc)/(R1 + %i*Xc)\n",
"//maximum power transfer is achieved when R = mod(z)\n",
"R = (real(z)^2 + imag(z)^2)^0.5\n",
"//Total circuit impedance at maximum power transfer condition,\n",
"ZT = z + R\n",
"//Current I flowing in the load is given by\n",
"I = V/ZT\n",
"Imag = (real(I)^2 + imag(I)^2)^0.5\n",
"//maximum power transferred,\n",
"P = R*Imag^2\n",
"\n",
"printf('\n\n Result \n\n')\n",
"printf('\n (a)maximum power transfer occurs when R is %.2f ohm',R)\n",
"printf('\n (b) maximum power delivered is %.0f W',P)"
   ]
   }
,
{
		   "cell_type": "markdown",
		   "metadata": {},
		   "source": [
			"## Example 35.04: Example_4.sce"
		   ]
		  },
  {
"cell_type": "code",
	   "execution_count": null,
	   "metadata": {
	    "collapsed": true
	   },
	   "outputs": [],
"source": [
"//Problem 35.04: In the network shown in Figure 35.4 the load consists of a fixed capacitive reactance of 7 ohm and a variable resistance R. Determine (a) the value of R for which the power transferred to the load is a maximum, and (b) the value of the maximum power.\n",
"\n",
"//initializing the variables:\n",
"rv = 60; // in volts\n",
"thetav = 0; // in degrees\n",
"R1 = 4; // in ohm\n",
"XL = 10; // in ohm\n",
"Xc = 7; // in ohm\n",
"R2 = %i*XL; // in ohm\n",
"R3 = -1*%i*Xc; // in ohm\n",
"\n",
"//calculation: \n",
"//voltage\n",
"V = rv*cos(thetav*%pi/180) + %i*rv*sin(thetav*%pi/180)\n",
"//maximum power transfer is achieved when\n",
"R = (R1^2 + (XL - Xc)^2)^0.5\n",
"//Hence source impedance,\n",
"ZT = R1 + R2 + R3 + R\n",
"//Current I flowing in the load is given by\n",
"I = V/ZT\n",
"Imag = (real(I)^2 + imag(I)^2)^0.5\n",
"//maximum power transferred,\n",
"P = R*Imag^2\n",
"\n",
"printf('\n\n Result \n\n')\n",
"printf('\n (a)maximum power transfer occurs when R is %.2f ohm',R)\n",
"printf('\n (b) maximum power delivered is %.0f W',P)"
   ]
   }
,
{
		   "cell_type": "markdown",
		   "metadata": {},
		   "source": [
			"## Example 35.05: Example_5.sce"
		   ]
		  },
  {
"cell_type": "code",
	   "execution_count": null,
	   "metadata": {
	    "collapsed": true
	   },
	   "outputs": [],
"source": [
"//Problem 35.05: Determine the value of the load resistance R shown in Figure 35.5 that gives maximum power dissipation and calculate the value of this power.\n",
"\n",
"//initializing the variables:\n",
"V = 20; // in volts\n",
"R1 = 5; // in ohm\n",
"R2 = 15; // in ohm\n",
"\n",
"//calculation: \n",
"//R is removed from the network as shown in Figure 35.6\n",
"//P.d. across AB, E\n",
"E = (R2/(R1 + R2))*V\n",
"//Impedance ‘looking-in’ at terminals AB with the source removed is given by\n",
"r = R1*R2/(R1 + R2)\n",
"//The equivalent Th´evenin circuit supplying terminals AB is shown in Figure 35.7. From condition (2), for maximum power transfer\n",
"R = r\n",
"//Current I flowing in the load is given by\n",
"I = E/(R + r)\n",
"//maximum power transferred,\n",
"P = R*I^2\n",
"\n",
"printf('\n\n Result \n\n')\n",
"printf('\n (a)maximum power transfer occurs when R is %.2f ohm',R)\n",
"printf('\n (b) maximum power delivered is %.0f W',P)"
   ]
   }
,
{
		   "cell_type": "markdown",
		   "metadata": {},
		   "source": [
			"## Example 35.06: Example_6.sce"
		   ]
		  },
  {
"cell_type": "code",
	   "execution_count": null,
	   "metadata": {
	    "collapsed": true
	   },
	   "outputs": [],
"source": [
"//Problem 35.06: Determine, for the network shown in Figure 35.8, (a) the values of R and X that will result in maximum power being transferred across terminals AB, and (b) the value of the maximum power.\n",
"\n",
"//initializing the variables:\n",
"rv = 100; // in volts\n",
"thetav = 30; // in degrees\n",
"R1 = 5; // in ohm\n",
"R2 = 5; // in ohm\n",
"R3 = %i*10; // in ohm\n",
"\n",
"//calculation: \n",
"//voltage\n",
"V = rv*cos(thetav*%pi/180) + %i*rv*sin(thetav*%pi/180)\n",
"//Resistance R and reactance X are removed from the network as shown in Figure 35.9\n",
"//P.d. across AB,\n",
"E = ((R2 + R3)/(R1 + R2 + R3))*V\n",
"//With the source removed the impedance, z, ‘looking in’ at terminals AB is given by:\n",
"z = (R2 + R3)*R1/(R1 + R2 + R3)\n",
"//The equivalent Th´evenin circuit is shown in Figure 35.10. From condition 3, maximum power transfer is achieved when X = -1*imag(z) and R = real(z)\n",
"X = -1*imag(z)\n",
"R = real(z)\n",
"Z = R + %i*X\n",
"//Current I flowing in the load is given by\n",
"I = E/(z + Z)\n",
"Imag = (real(I)^2 + imag(I)^2)^0.5\n",
"//maximum power transferred,\n",
"P = R*Imag^2\n",
"\n",
"printf('\n\n Result \n\n')\n",
"printf('\n (a)maximum power transfer occurs when R is %.2f ohm and X is %.2f ohm',R, X)\n",
"printf('\n (b) maximum power delivered is %.0f W',P)"
   ]
   }
,
{
		   "cell_type": "markdown",
		   "metadata": {},
		   "source": [
			"## Example 35.07: Example_7.sce"
		   ]
		  },
  {
"cell_type": "code",
	   "execution_count": null,
	   "metadata": {
	    "collapsed": true
	   },
	   "outputs": [],
"source": [
"//Problem 35.07: Determine the optimum value of load resistance for maximum power transfer if the load is connected to an amplifier of output resistance 448 ohm through a transformer with a turns ratio of 8:1.\n",
"\n",
"//initializing the variables:\n",
"Ro = 448; // in ohm\n",
"tr = 8; // turn ratio N1/N2\n",
"\n",
"//calculation: \n",
"//The equivalent input resistance r of the transformer must be Ro for maximum power transfer.\n",
"r = Ro\n",
"RL = r*(1/tr)^2\n",
"\n",
"printf('\n\n Result \n\n')\n",
"printf('\n the optimum value of load resistance is %.0f ohm',RL)"
   ]
   }
,
{
		   "cell_type": "markdown",
		   "metadata": {},
		   "source": [
			"## Example 35.08: Example_8.sce"
		   ]
		  },
  {
"cell_type": "code",
	   "execution_count": null,
	   "metadata": {
	    "collapsed": true
	   },
	   "outputs": [],
"source": [
"//Problem 35.08: A generator has an output impedance of (450 + i60) ohm. Determine the turns ratio of an ideal transformer necessary to match the generator to a load of (40 + i19) ohm for maximum transfer of power.\n",
"\n",
"//initializing the variables:\n",
"Zo = 450 + %i*60; // in ohm\n",
"ZL = 40 + %i*19; // in ohm\n",
"\n",
"//calculation: \n",
"//transformer turns ratio tr = (N1/N2)\n",
"Zomag = (real(Zo)^2 + imag(Zo)^2)^0.5\n",
"ZLmag = (real(ZL)^2 + imag(ZL)^2)^0.5\n",
"tr = (Zomag/ZLmag)^0.5\n",
"\n",
"printf('\n\n Result \n\n')\n",
"printf('\n the transformer turns ratio is %.2f',tr)"
   ]
   }
,
{
		   "cell_type": "markdown",
		   "metadata": {},
		   "source": [
			"## Example 35.09: Example_9.sce"
		   ]
		  },
  {
"cell_type": "code",
	   "execution_count": null,
	   "metadata": {
	    "collapsed": true
	   },
	   "outputs": [],
"source": [
"//Problem 35.09: A single-phase, 240 V/1920 V ideal transformer is supplied from a 240 V source through a cable of resistance 5 ohm. If the load across the secondary winding is 1.60 kohm determine (a) the primary current flowing, and (b) the power dissipated in the load resistance.\n",
"\n",
"//initializing the variables:\n",
"V1 = 240; // in volts\n",
"V2 = 1920; // in volts\n",
"R1 = 5; // in ohms\n",
"R2 = 1600; // in ohms\n",
"\n",
"//calculation: \n",
"//The network is shown in Figure 35.12.\n",
"//turn ratio N1/N2 = V1/V2\n",
"tr = V1/V2\n",
"//Equivalent input resistance of the transformer,\n",
"RL = R2\n",
"r = RL*tr^2\n",
"//Total input resistance,\n",
"Rin = R1 + r\n",
"//primary current, I1\n",
"I1 = V1/Rin\n",
"//For an ideal transformer V1/V2 = I2/I1\n",
"I2 = I1*(V1/V2)\n",
"//Power dissipated in the load resistance\n",
"P = RL*I2^2\n",
"\n",
"printf('\n\n Result \n\n')\n",
"printf('\n (a) primary current flowing is %.0f A',I1)\n",
"printf('\n (b) Power dissipated in the load resistance is %.0fW',P)"
   ]
   }
,
{
		   "cell_type": "markdown",
		   "metadata": {},
		   "source": [
			"## Example 35.10: Example_10.sce"
		   ]
		  },
  {
"cell_type": "code",
	   "execution_count": null,
	   "metadata": {
	    "collapsed": true
	   },
	   "outputs": [],
"source": [
"//Problem 35.10: An ac. source of 30/_0° V and internal resistance 20 kohm is matched to a load by a 20:1 ideal transformer. Determine for maximum power transfer (a) the value of the load resistance, and (b) the power dissipated in the load.\n",
"\n",
"//initializing the variables:\n",
"rv = 30; // in volts\n",
"thetav = 0; // in degrees\n",
"r = 20000; // in ohms\n",
"tr = 20; // turn ratio\n",
"\n",
"//calculation:\n",
"//voltage\n",
"V = rv*cos(thetav*%pi/180) + %i*rv*sin(thetav*%pi/180) \n",
"//The network diagram is shown in Figure 35.13.\n",
"//For maximum power transfer, r1 must be equal to\n",
"r1 = r\n",
"//load resistance RL\n",
"RL = r1/tr^2\n",
"//The total input resistance when the source is connected to the matching transformer is\n",
"RT = r + r1\n",
"//Primary current\n",
"I1 = V/RT\n",
"//N1/N2 = I2/I1\n",
"I2 = I1*tr\n",
"//Power dissipated in load resistance RL is given by\n",
"P = RL*I2^2\n",
"\n",
"printf('\n\n Result \n\n')\n",
"printf('\n (a)the value of the load resistance is %.0f ohm',RL)\n",
"printf('\n (b) Power dissipated in the load resistance is %.2E W',P)"
   ]
   }
],
"metadata": {
		  "kernelspec": {
		   "display_name": "Scilab",
		   "language": "scilab",
		   "name": "scilab"
		  },
		  "language_info": {
		   "file_extension": ".sce",
		   "help_links": [
			{
			 "text": "MetaKernel Magics",
			 "url": "https://github.com/calysto/metakernel/blob/master/metakernel/magics/README.md"
			}
		   ],
		   "mimetype": "text/x-octave",
		   "name": "scilab",
		   "version": "0.7.1"
		  }
		 },
		 "nbformat": 4,
		 "nbformat_minor": 0
}
