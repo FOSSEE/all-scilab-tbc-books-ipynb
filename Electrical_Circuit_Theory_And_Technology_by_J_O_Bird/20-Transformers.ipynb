{
"cells": [
 {
		   "cell_type": "markdown",
	   "metadata": {},
	   "source": [
       "# Chapter 20: Transformers"
	   ]
	},
{
		   "cell_type": "markdown",
		   "metadata": {},
		   "source": [
			"## Example 20.01: Example_1.sce"
		   ]
		  },
  {
"cell_type": "code",
	   "execution_count": null,
	   "metadata": {
	    "collapsed": true
	   },
	   "outputs": [],
"source": [
"//Problem 20.01: A transformer has 500 primary turns and 3000 secondary turns. If the primary voltage is 240 V, determine the secondary voltage, assuming an ideal transformer.\n",
"\n",
"//initializing the variables:\n",
"N1 = 500; // primary turns\n",
"N2 = 3000; // secondary turns\n",
"V1 = 240; // in Volts\n",
"\n",
"//calculation:\n",
"//For an ideal transformer, voltage ratio = turns ratio\n",
"V2 = V1*N2/N1\n",
"\n",
"printf('\n\n Result \n\n')\n",
"printf('\n secondary voltage %.2E V',V2)"
   ]
   }
,
{
		   "cell_type": "markdown",
		   "metadata": {},
		   "source": [
			"## Example 20.02: Example_2.sce"
		   ]
		  },
  {
"cell_type": "code",
	   "execution_count": null,
	   "metadata": {
	    "collapsed": true
	   },
	   "outputs": [],
"source": [
"//Problem 20.02: An ideal transformer with a turns ratio of 2:7 is fed from a 240 V supply. Determine its output voltage.\n",
"\n",
"//initializing the variables:\n",
"tr = 2/7;  // turns ratio\n",
"V1 = 240; // in Volts\n",
"\n",
"//calculation:\n",
"//A turns ratio of 2:7 means that the transformer has 2 turns on the primary for every 7 turns on the secondary\n",
"V2 = V1/tr\n",
"\n",
"printf('\n\n Result \n\n')\n",
"printf('\n output voltage %.0f V',V2)"
   ]
   }
,
{
		   "cell_type": "markdown",
		   "metadata": {},
		   "source": [
			"## Example 20.03: Example_3.sce"
		   ]
		  },
  {
"cell_type": "code",
	   "execution_count": null,
	   "metadata": {
	    "collapsed": true
	   },
	   "outputs": [],
"source": [
"//Problem 20.03: An ideal transformer has a turns ratio of 8:1 and the primary current is 3 A when it is supplied at 240 V. Calculate the secondary voltage and current.\n",
"\n",
"//initializing the variables:\n",
"tr = 8/1;  // turns ratio\n",
"I1 = 3; // in Amperes\n",
"V1 = 240; // in Volts\n",
"\n",
"//calculation:\n",
"//A turns ratio of 8:1 means that the transformer has 28 turns on the primary for every 1turns on the secondary\n",
"V2 = V1/tr\n",
"//secondary current\n",
"I2 = I1*tr\n",
"\n",
"printf('\n\n Result \n\n')\n",
"printf('\n secondary voltage is %.0f V and secondary current is %.0f A',V2, I2)"
   ]
   }
,
{
		   "cell_type": "markdown",
		   "metadata": {},
		   "source": [
			"## Example 20.04: Example_4.sce"
		   ]
		  },
  {
"cell_type": "code",
	   "execution_count": null,
	   "metadata": {
	    "collapsed": true
	   },
	   "outputs": [],
"source": [
"//Problem 20.04: An ideal transformer, connected to a 240 V mains, supplies a 12 V, 150 W lamp. Calculate the transformer turns ratio and the current taken from the supply.\n",
"\n",
"//initializing the variables:\n",
"V1 = 240; // in Volts\n",
"V2 = 12; // in Volts\n",
"P = 150; // in Watts\n",
"\n",
"//calculation:\n",
"I2 = P/V2\n",
"//A turns ratio = Vp/Vs\n",
"tr = V1/V2 // turn ratio\n",
"//  V1/V2 = I2/I1\n",
"//current taken from the supply\n",
"I1 = I2*V2/V1\n",
"\n",
"printf('\n\n Result \n\n')\n",
"printf('\n turn ratio is %.0f and current taken from the supply is %.3f A',tr, I1)"
   ]
   }
,
{
		   "cell_type": "markdown",
		   "metadata": {},
		   "source": [
			"## Example 20.05: Example_5.sce"
		   ]
		  },
  {
"cell_type": "code",
	   "execution_count": null,
	   "metadata": {
	    "collapsed": true
	   },
	   "outputs": [],
"source": [
"//Problem 20.05: A 5 kVA single-phase transformer has a turns ratio of 10:1 and is fed from a 2.5 kV supply. Neglecting losses, determine (a) the full-load secondary current, (b) the minimum load resistance which can be connected across the secondary winding to give full load kVA, (c) the primary current at full load kVA.\n",
"\n",
"//initializing the variables:\n",
"S = 5000; // in VA\n",
"tr = 10; // turn ratio\n",
"V1 = 2500; // in Volts\n",
"\n",
"//calculation:\n",
"//A turns ratio of 8:1 means that the transformer has 28 turns on the primary for every 1turns on the secondary\n",
"V2 = V1/tr\n",
"//transformer rating in volt-amperes = Vs*Is\n",
"I2 = S/V2\n",
"//Minimum value of load resistance\n",
"RL = V2/I2\n",
"//  tr = I2/I1\n",
"I1 = I2/tr\n",
"\n",
"printf('\n\n Result \n\n')\n",
"printf('\n (a)full-load secondary current is %.0f A',I2)\n",
"printf('\n (b)minimum load resistance is %.1f ohm',RL)\n",
"printf('\n (c) primary current is %.0f A',I1)"
   ]
   }
,
{
		   "cell_type": "markdown",
		   "metadata": {},
		   "source": [
			"## Example 20.06: Example_6.sce"
		   ]
		  },
  {
"cell_type": "code",
	   "execution_count": null,
	   "metadata": {
	    "collapsed": true
	   },
	   "outputs": [],
"source": [
"//Problem 20.06: A 2400 V/400 V single-phase transformer takes a no load current of 0.5 A and the core loss is 400 W. Determine the values of the magnetizing and core loss components of the no load current. Draw to scale the no-load phasor diagram for the transformer.\n",
"\n",
"//initializing the variables:\n",
"V1 = 2400; // in Volts\n",
"V2 = 400; // in Volts\n",
"I0 = 0.5; // in Amperes\n",
"Pc = 400; // in Watts\n",
"\n",
"//calculation:\n",
"//Core loss (i.e. iron loss) P = V1*I0*cos(phi0)\n",
"pf = Pc/(V1*I0)\n",
"phi0 = acos(pf)\n",
"//Magnetizing component\n",
"Im = I0*sin(phi0)\n",
"//Core loss component\n",
"Ic = I0*cos(phi0)\n",
"\n",
"printf('\n\n Result \n\n')\n",
"printf('\n (a)magnetizing component is %.3f A and Core loss component is %.3f A',Im, Ic)"
   ]
   }
,
{
		   "cell_type": "markdown",
		   "metadata": {},
		   "source": [
			"## Example 20.07: Example_7.sce"
		   ]
		  },
  {
"cell_type": "code",
	   "execution_count": null,
	   "metadata": {
	    "collapsed": true
	   },
	   "outputs": [],
"source": [
"//Problem 20.07: A transformer takes a current of 0.8 A when its primary is connected to a 240 volt, 50 Hz supply, the secondary being on open circuit. If the power absorbed is 72 watts, determine (a) the iron loss current, (b) the power factor on no-load, and (c) the magnetizing current.\n",
"\n",
"//initializing the variables:\n",
"V = 240; // in Volts\n",
"I0 = 0.8; // in Amperes\n",
"P = 72; // in Watts\n",
"f = 50; // in Hz\n",
"\n",
"//calculation:\n",
"//Power absorbed = total core loss, P = V*I0*cos(phi0)\n",
"//Ic = I0*cos(phi0)\n",
"Ic = P/V\n",
"pf = Ic/I0\n",
"//From the right-angled triangle in Figure 20.2(b) and using\n",
"//Pythagoras’ theorem, \n",
"Im = (I0*I0 - Ic*Ic)^0.5\n",
"\n",
"printf('\n\n Result \n\n')\n",
"printf('\n (a) Core loss component is %.2f A', Ic)\n",
"printf('\n (b) power factor is %.3f', pf)\n",
"printf('\n (c)magnetizing component is %.2f A',Im)"
   ]
   }
,
{
		   "cell_type": "markdown",
		   "metadata": {},
		   "source": [
			"## Example 20.08: Example_8.sce"
		   ]
		  },
  {
"cell_type": "code",
	   "execution_count": null,
	   "metadata": {
	    "collapsed": true
	   },
	   "outputs": [],
"source": [
"//Problem 20.08: A 100 kVA, 4000 V/200 V, 50 Hz single-phase transformer has 100 secondary turns. Determine (a) the primary and secondary current, (b) the number of primary turns, and (c) the maximum value of the flux.\n",
"\n",
"//initializing the variables:\n",
"S = 100000; // in VA\n",
"V1 = 4000; // in Volts\n",
"V2 = 200; // in Volts\n",
"N2 = 100; // sec turns\n",
"f = 50; // in Hz\n",
"\n",
"//calculation:\n",
"//Transformer rating = V1*I1 = V2*I2\n",
"//primary current\n",
"I1 = S/V1\n",
"//secondary current\n",
"I2 = S/V2\n",
"//primary turns\n",
"N1 = N2*V1/V2\n",
"//maximum flux\n",
"//assuming E2 = V2\n",
"Phim = V2/(4.44*f*N2)\n",
"\n",
"printf('\n\n Result \n\n')\n",
"printf('\n (a)primary current is %.0f A and secondary current is %.0f A', I1, I2)\n",
"printf('\n (b)number of primary turns is %.0f', N1)\n",
"printf('\n (c)maximum value of the flux is %.2E Wb',Phim)"
   ]
   }
,
{
		   "cell_type": "markdown",
		   "metadata": {},
		   "source": [
			"## Example 20.09: Example_9.sce"
		   ]
		  },
  {
"cell_type": "code",
	   "execution_count": null,
	   "metadata": {
	    "collapsed": true
	   },
	   "outputs": [],
"source": [
"//Problem 20.09: A single-phase, 50 Hz transformer has 25 primary turns and 300 secondary turns. The cross-sectional area of the core is 300 cm2. When the primary winding is connected to a 250 V supply, determine (a) the maximum value of the flux density in the core, and (b) the voltage induced in the secondary winding.\n",
"\n",
"//initializing the variables:\n",
"V1 = 250; // in Volts\n",
"A = 0.03; // in m2\n",
"N2 = 300; // sec turns\n",
"N1 = 25; // prim turns\n",
"f = 50; // in Hz\n",
"\n",
"//calculation:\n",
"//e.m.f. E1 = 4.44*f*Phim*N1\n",
"//maximum flux density,\n",
"Phim = V1/(4.44*f*N1)\n",
"//Phim = Bm*A, where Bm = maximum core flux density and A = cross-sectional area of the core\n",
"//maximum core flux density\n",
"Bm = Phim/A\n",
"//voltage induced in the secondary winding,\n",
"V2 = V1*N2/N1\n",
"\n",
"printf('\n\n Result \n\n')\n",
"printf('\n (a)maximum core flux density %.2f T', Bm)\n",
"printf('\n (b)voltage induced in the secondary winding is %.0f V', V2)"
   ]
   }
,
{
		   "cell_type": "markdown",
		   "metadata": {},
		   "source": [
			"## Example 20.10: Example_10.sce"
		   ]
		  },
  {
"cell_type": "code",
	   "execution_count": null,
	   "metadata": {
	    "collapsed": true
	   },
	   "outputs": [],
"source": [
"//Problem 20.10: A single-phase 500 V/100 V, 50 Hz transformer has a maximum core flux density of 1.5 T and an effective core crosssectional area of 50 cm2. Determine the number of primary and secondary turns.\n",
"\n",
"//initializing the variables:\n",
"V1 = 500; // in Volts\n",
"V2 = 100; // in Volts\n",
"Bm = 1.5; // in Tesla\n",
"A = 0.005; // in m2\n",
"f = 50; // in Hz\n",
"\n",
"//calculation:\n",
"//Phim = Bm*A, where Bm = maximum core flux density and A = cross-sectional area of the core\n",
"//maximum core flux density\n",
"Phim = Bm*A\n",
"//e.m.f. E1 = 4.44*f*Phim*N1\n",
"//primary turns,\n",
"N1 = V1/(4.44*f*Phim)\n",
"//secondary turns,\n",
"N2 = V2*N1/V1\n",
"\n",
"printf('\n\n Result \n\n')\n",
"printf('\n no. of primary and secondary turns are %.0f turns, and %.0f turns respectively', N1, N2)"
   ]
   }
,
{
		   "cell_type": "markdown",
		   "metadata": {},
		   "source": [
			"## Example 20.11: Example_11.sce"
		   ]
		  },
  {
"cell_type": "code",
	   "execution_count": null,
	   "metadata": {
	    "collapsed": true
	   },
	   "outputs": [],
"source": [
"//Problem 20.11: A 4500 V/225 V, 50 Hz single-phase transformer is to have an approximate e.m.f. per turn of 15 V and operate with a maximum flux of 1.4 T. Calculate (a) the number of primary and secondary turns and (b) the cross-sectional area of the core.\n",
"\n",
"//initializing the variables:\n",
"emfpt = 15; // in Volts\n",
"V1 = 4500; // in Volts\n",
"V2 = 225; // in Volts\n",
"Bm = 1.4; // in Tesla\n",
"f = 50; // in Hz\n",
"\n",
"//calculation:\n",
"//E.m.f. per turn, V1/N1 = V2/N2 = emfpt\n",
"//primary turns,\n",
"N1 = V1/emfpt\n",
"//secondary turns,\n",
"N2 = V2/emfpt\n",
"//e.m.f. E1 = 4.44*f*Phim*N1\n",
"//maximum flux density,\n",
"Phim = V1/(4.44*f*N1)\n",
"//Phim = Bm*A, where Bm = maximum core flux density and A = cross-sectional area of the core\n",
"//cross-sectional area\n",
"A = Phim/Bm\n",
"\n",
"printf('\n\n Result \n\n')\n",
"printf('\n (a)no. of primary and secondary turns are %.0f turns, and %.0f turns respectively', N1, N2)\n",
"printf('\n (b)cross-sectional area is %.2E m2', A)"
   ]
   }
,
{
		   "cell_type": "markdown",
		   "metadata": {},
		   "source": [
			"## Example 20.12: Example_12.sce"
		   ]
		  },
  {
"cell_type": "code",
	   "execution_count": null,
	   "metadata": {
	    "collapsed": true
	   },
	   "outputs": [],
"source": [
"//Problem 20.12: A single-phase transformer has 2000 turns on the primary and 800 turns on the secondary. Its no-load current is 5 A at a power factor of 0.20 lagging. Assuming the volt drop in the windings is negligible, determine the primary current and power factor when the secondary current is 100 A at a power factor of 0.85 lagging.\n",
"\n",
"//initializing the variables:\n",
"N1 = 2000; // prim turns\n",
"N2 = 800; // sec turns\n",
"I0 = 5; // in Amperes\n",
"pf0 = 0.20; // power factor\n",
"I2 = 100; // in Amperes\n",
"pf2 = 0.85; // power factor\n",
"\n",
"//calculation:\n",
"//Let I01 be the component of the primary current which provides the restoring mmf. Then I01*N1 = I2*N2\n",
"I01 = I2*N2/N1\n",
"//If the power factor of the secondary is 0.85\n",
"phi2 = acos(pf2)\n",
"//If the power factor on no-load is 0.20,\n",
"phi0 = acos(pf0)\n",
"I1h = I0*cos(phi0) + I01*cos(phi2)\n",
"I1v = I0*sin(phi0) + I01*sin(phi2)\n",
"//Hence the magnitude of I1\n",
"I1 = (I1h*I1h + I1v*I1v)^0.5\n",
"pf1 = cos(atan(I1v/I1h))\n",
"\n",
"printf('\n\n Result \n\n')\n",
"printf('\n Primary currnt is %.2f A, and Power factor is %.2f', I1, pf1)"
   ]
   }
,
{
		   "cell_type": "markdown",
		   "metadata": {},
		   "source": [
			"## Example 20.13: Example_13.sce"
		   ]
		  },
  {
"cell_type": "code",
	   "execution_count": null,
	   "metadata": {
	    "collapsed": true
	   },
	   "outputs": [],
"source": [
"//Problem 20.13: A transformer has 600 primary turns and 150 secondary turns. The primary and secondary resistances are 0.25 ohm and 0.01 ohm respectively and the corresponding leakage reactances are 1.0 ohm and 0.04 ohm  respectively. Determine (a) the equivalent resistance referred to the primary winding, (b) the equivalent reactance referred to the primary winding, (c) the equivalent impedance referred to the primary winding, and (d) the phase angle of the impedance.\n",
"\n",
"//initializing the variables:\n",
"N1 = 600; // prim turns\n",
"N2 = 150; // sec turns\n",
"R1 = 0.25; // in ohms\n",
"R2 = 0.01; // in ohms\n",
"X1 = 1.0; // in ohms\n",
"X2 = 0.04; // in ohms\n",
"\n",
"//calculation:\n",
"tr = N1/N2 // turn ratio\n",
"vr = tr // voltage ratio = turn raio, vr = V1/V2\n",
"//equivalent resistance Re\n",
"Re = R1 + R2*(vr^2)\n",
"//equivalent reactance, Xe\n",
"Xe = X1 + X2*(vr^2)\n",
"//equivalent impedance, Ze\n",
"Ze = (Re*Re + Xe*Xe)^0.5\n",
"//cos(phie) = Re/Ze\n",
"pfe = Re/Ze\n",
"phie = acos(pfe)\n",
"phied = phie*180/%pi // in °(deg)\n",
"\n",
"printf('\n\n Result \n\n')\n",
"printf('\n (a)the equivalent resistance referred to the primary winding is %.2f ohm', Re)\n",
"printf('\n (b)the equivalent reactance referred to the primary winding is %.2f ohm', Xe)\n",
"printf('\n (c)the equivalent impedance referred to the primary winding is %.2f ohm', Ze)\n",
"printf('\n (d)phase angle is %.2f°', phied)"
   ]
   }
,
{
		   "cell_type": "markdown",
		   "metadata": {},
		   "source": [
			"## Example 20.14: Example_14.sce"
		   ]
		  },
  {
"cell_type": "code",
	   "execution_count": null,
	   "metadata": {
	    "collapsed": true
	   },
	   "outputs": [],
"source": [
"//Problem 20.14: A 5 kVA, 200 V/400 V, single-phase transformer has a secondary terminal voltage of 387.6 volts when loaded. Determine the regulation of the transformer.\n",
"\n",
"//initializing the variables:\n",
"V1 = 200; // in Volts\n",
"V2 = 400; // in Volts\n",
"V2L = 387.6; // in Volts\n",
"S = 5000; // in VA\n",
"\n",
"//calculation:\n",
"//regulation =(No-load secondary voltage - terminal voltage on load)*100/no-load secondary voltage  in %\n",
"reg = (V2 - V2L)*100/V2\n",
"\n",
"printf('\n\n Result \n\n')\n",
"printf('\n the regulation of the transformer is %.1f percent ', reg)"
   ]
   }
,
{
		   "cell_type": "markdown",
		   "metadata": {},
		   "source": [
			"## Example 20.15: Example_15.sce"
		   ]
		  },
  {
"cell_type": "code",
	   "execution_count": null,
	   "metadata": {
	    "collapsed": true
	   },
	   "outputs": [],
"source": [
"//Problem 20.15: The open circuit voltage of a transformer is 240 V. A tap changing device is set to operate when the percentage regulation drops below 2.5%. Determine the load voltage at which the mechanism operates.\n",
"\n",
"//initializing the variables:\n",
"VnL = 240; // in Volts\n",
"reg = 2.5; // in percent\n",
"\n",
"//calculation:\n",
"//regulation =(No-load secondary voltage - terminal voltage on load)*100/no-load secondary voltage  in %\n",
"VL = VnL - reg*VnL/100\n",
"\n",
"printf('\n\n Result \n\n')\n",
"printf('\n the load voltage at which the mechanism operates is %.0f V ', VL)"
   ]
   }
,
{
		   "cell_type": "markdown",
		   "metadata": {},
		   "source": [
			"## Example 20.16: Example_16.sce"
		   ]
		  },
  {
"cell_type": "code",
	   "execution_count": null,
	   "metadata": {
	    "collapsed": true
	   },
	   "outputs": [],
"source": [
"//Problem 20.16: A 200 kVA rated transformer has a full-load copper loss of 1.5 kW and an iron loss of 1 kW. Determine the transformer efficiency at full load and 0.85 power factor.\n",
"\n",
"//initializing the variables:\n",
"S = 200000; // in VA\n",
"Pc = 1500; // in Watt\n",
"Pi = 1000; // in Watt\n",
"pf = 0.85; // power factor\n",
"\n",
"//calculation:\n",
"//Efficiency = output power/input power = (input power—losses)/input power\n",
"//Efficiency = 1 - losses/input power\n",
"//Full-load output power = V*I*pf\n",
"Po = S*pf\n",
"//Total losses\n",
"Pl = Pc + Pi\n",
"//Input power = output power + losses\n",
"PI = Po + Pl\n",
"//efficiency\n",
"eff = 1-(Pl/PI)\n",
"\n",
"printf('\n\n Result \n\n')\n",
"printf('\n the transformer efficiency at full load is %.4f', eff)"
   ]
   }
,
{
		   "cell_type": "markdown",
		   "metadata": {},
		   "source": [
			"## Example 20.17: Example_17.sce"
		   ]
		  },
  {
"cell_type": "code",
	   "execution_count": null,
	   "metadata": {
	    "collapsed": true
	   },
	   "outputs": [],
"source": [
"//Problem 20.17: Determine the efficiency of the transformer in Problem 20.16 at half full-load and 0.85 power factor.\n",
"\n",
"//initializing the variables:\n",
"S = 200000; // in VA\n",
"Pc = 1500; // in Watt\n",
"Pi = 1000; // in Watt\n",
"pf = 0.85; // power factor\n",
"\n",
"//calculation:\n",
"//Efficiency = output power/input power = (input power—losses)/input power\n",
"//Efficiency = 1 - losses/input power\n",
"//Half full-load power output = V*I*pf/2\n",
"Po = S*pf/2\n",
"//Copper loss (or I*I*R loss) is proportional to current squared\n",
"//Hence the copper loss at half full-load is\n",
"Pch = Pc/(2*2)\n",
"//Iron loss = 1000 W (constant)\n",
"//Total losses\n",
"Pl = Pch + Pi\n",
"//Input power at half full-load = output power at half full-load + losses\n",
"PI = Po + Pl\n",
"//efficiency\n",
"eff = (1-(Pl/PI))*100\n",
"\n",
"printf('\n\n Result \n\n')\n",
"printf('\n the transformer efficiency at half full load is %.2f percent', eff)"
   ]
   }
,
{
		   "cell_type": "markdown",
		   "metadata": {},
		   "source": [
			"## Example 20.18: Example_18.sce"
		   ]
		  },
  {
"cell_type": "code",
	   "execution_count": null,
	   "metadata": {
	    "collapsed": true
	   },
	   "outputs": [],
"source": [
"//Problem 20.18: A 400 kVA transformer has a primary winding resistance of 0.5 ohm and a secondary winding resistance of 0.001 ohm . The iron loss is 2.5 kW and the primary and secondary voltages are 5 kV and 320 V respectively. If the power factor of the load is 0.85, determine the efficiency of the transformer (a) on full load, and (b) on half load.\n",
"\n",
"//initializing the variables:\n",
"S = 400000; // in VA\n",
"R1 = 0.5; // in Ohm\n",
"R2 = 0.001; // in Ohm\n",
"V1 = 5000; // in Volts\n",
"V2 = 320; // in Volts\n",
"Pi = 2500; // in Watt\n",
"pf = 0.85; // power factor\n",
"\n",
"//calculation:\n",
"//Rating = 400 kVA = V1*I1 = V2*I2\n",
"//Hence primary current\n",
"I1 = S/V1\n",
"//secondary current\n",
"I2 = S/V2\n",
"//Total copper loss = I1*I1*R1 + I2*I2*R2,\n",
"Pcf = I1*I1*R1 + I2*I2*R2\n",
"//On full load, total loss = copper loss + iron loss\n",
"Plf = Pcf + Pi\n",
"// full-load power output = V2*I2*pf\n",
"Pof = S*pf\n",
"//Input power at full-load = output power at full-load + losses\n",
"PIf = Pof + Plf\n",
"//Efficiency = output power/input power = (input power—losses)/input power\n",
"//Efficiency = 1 - losses/input power\n",
"efff = (1-(Plf/PIf))*100\n",
"\n",
"//Half full-load power output = V*I*pf/2\n",
"Poh = S*pf/2\n",
"//Copper loss (or I*I*R loss) is proportional to current squared\n",
"//Hence the copper loss at half full-load is\n",
"Pch = Pcf/(2*2)\n",
"//Iron loss = 2500 W (constant)\n",
"//Total losses\n",
"Plh = Pch + Pi\n",
"//Input power at half full-load = output power at half full-load + losses\n",
"PIh = Poh + Plh\n",
"//efficiency\n",
"effh = (1-(Plh/PIh))*100\n",
"\n",
"printf('\n\n Result \n\n')\n",
"printf('\n (a)the transformer efficiency at full load is %.2f percent', efff)\n",
"printf('\n (b)the transformer efficiency at half full load is %.2f percent', effh)"
   ]
   }
,
{
		   "cell_type": "markdown",
		   "metadata": {},
		   "source": [
			"## Example 20.19: Example_19.sce"
		   ]
		  },
  {
"cell_type": "code",
	   "execution_count": null,
	   "metadata": {
	    "collapsed": true
	   },
	   "outputs": [],
"source": [
"//Problem 20.19: A 500 kVA transformer has a full load copper loss of 4 kW and an iron loss of 2.5 kW. Determine (a) the output kVA at which the efficiency of the transformer is a maximum, and (b) the maximum efficiency, assuming the power factor of the load is 0.75.\n",
"\n",
"//initializing the variables:\n",
"S = 500000; // in VA\n",
"Pcf = 4000; // in Watt\n",
"Pi = 2500; // in Watt\n",
"pf = 0.75; // power factor\n",
"\n",
"//calculation:\n",
"//Let x be the fraction of full load kVA at which the efficiency is a maximum.\n",
"//The corresponding total copper loss = (4 kW)*(x^2)\n",
"//At maximum efficiency, copper loss = iron loss Hence\n",
"x = (Pi/Pcf)^0.5\n",
"//Hence the output kVA at maximum efficiency\n",
"So = x*S\n",
"//Total loss at maximum efficiency\n",
"Pl = 2*Pi\n",
"//Output power\n",
"Po = So*pf\n",
"//Input power = output power + losses\n",
"PI = Po + Pl\n",
"//Efficiency = output power/input power = (input power—losses)/input power\n",
"//Efficiency = 1 - losses/input power\n",
"//Maximum efficiency\n",
"effm = (1 - Pl/PI)*100\n",
"\n",
"printf('\n\n Result \n\n')\n",
"printf('\n the output kVA at maximum efficiency is %.2E VA', So)\n",
"printf('\n max. efficiency is %.2f pecent', effm)"
   ]
   }
,
{
		   "cell_type": "markdown",
		   "metadata": {},
		   "source": [
			"## Example 20.20: Example_20.sce"
		   ]
		  },
  {
"cell_type": "code",
	   "execution_count": null,
	   "metadata": {
	    "collapsed": true
	   },
	   "outputs": [],
"source": [
"//Problem 20.20: A transformer having a turns ratio of 4:1 supplies a load of resistance 100 ohm. Determine the equivalent input resistance of the transformer.\n",
"\n",
"//initializing the variables:\n",
"tr = 4; // turn ratio\n",
"RL = 100; // in Ohms\n",
"\n",
"//calculation:\n",
"//the equivalent input resistance,\n",
"Ri = RL*(tr^2)\n",
"\n",
"printf('\n\n Result \n\n')\n",
"printf('\n the equivalent input resistance is %.0f ohm', Ri)"
   ]
   }
,
{
		   "cell_type": "markdown",
		   "metadata": {},
		   "source": [
			"## Example 20.21: Example_21.sce"
		   ]
		  },
  {
"cell_type": "code",
	   "execution_count": null,
	   "metadata": {
	    "collapsed": true
	   },
	   "outputs": [],
"source": [
"//Problem 20.21: The output stage of an amplifier has an output resistance of 112 ohm. Calculate the optimum turns ratio of a transformer which would match a load resistance of 7 ohm to the output resistance of the amplifier.\n",
"\n",
"//initializing the variables:\n",
"R1 = 112; // in Ohms\n",
"RL = 7; // in Ohms\n",
"\n",
"//calculation:\n",
"//The equivalent input resistance, R1 of the transformer needs to be 112 ohm for maximum power transfer.\n",
"//R1 = RL*(tr^2)\n",
"// tr = N1/N2 turn ratio\n",
"tr = (R1/RL)^0.5\n",
"\n",
"printf('\n\n Result \n\n')\n",
"printf('\n the optimum turns ratio is %.0f ', tr)"
   ]
   }
,
{
		   "cell_type": "markdown",
		   "metadata": {},
		   "source": [
			"## Example 20.22: Example_22.sce"
		   ]
		  },
  {
"cell_type": "code",
	   "execution_count": null,
	   "metadata": {
	    "collapsed": true
	   },
	   "outputs": [],
"source": [
"//Problem 20.22: Determine the optimum value of load resistance for maximum power transfer if the load is connected to an amplifier of output resistance 150 ohm through a transformer with a turns ratio of 5:1..\n",
"\n",
"//initializing the variables:\n",
"tr = 5; // turn ratio\n",
"R1 = 150; // in Ohms\n",
"\n",
"//calculation:\n",
"//The equivalent input resistance, R1 of the transformer needs to be 150 ohm for maximum power transfer.\n",
"//R1 = RL*(tr^2)\n",
"RL = R1/(tr^2)\n",
"\n",
"printf('\n\n Result \n\n')\n",
"printf('\n the optimum value of load resistance is %.0f ohm', RL)"
   ]
   }
,
{
		   "cell_type": "markdown",
		   "metadata": {},
		   "source": [
			"## Example 20.23: Example_23.sce"
		   ]
		  },
  {
"cell_type": "code",
	   "execution_count": null,
	   "metadata": {
	    "collapsed": true
	   },
	   "outputs": [],
"source": [
"//Problem 20.23: A single-phase, 220 V/1760 V ideal transformer is supplied from a 220 V source through a cable of resistance 2 ohm. If the load across the secondary winding is 1.28 kohm determine (a) the primary current flowing and (b) the power dissipated in the load resistor.\n",
"\n",
"//initializing the variables:\n",
"V1 = 220; // in Volts\n",
"V2 = 1760; // in Volts\n",
"V = 220; // in Volts\n",
"RL = 1280; // in Ohms\n",
"R = 2; // in Ohms\n",
"\n",
"//calculation:\n",
"//Turns ratio, tr = N1/N2 = V1/V2\n",
"tr = V1/V2\n",
"//Equivalent input resistance of the transformer,\n",
"//R1 = RL*(tr^2)\n",
"R1 = RL*(tr^2)\n",
"//Total input resistance\n",
"Rin = R + R1\n",
"// Primary current\n",
"I1 = V1/Rin\n",
"//For an ideal transformer V1/V2 = I2/I1,\n",
"I2 = I1*tr\n",
"//Power dissipated in load resistor RL\n",
"P = I2*I2*RL\n",
"\n",
"printf('\n\n Result \n\n')\n",
"printf('\n (a) primary current flowing is %.0f A', I1)\n",
"printf('\n (b)  power dissipated in the load resistor is %.0f W', P)"
   ]
   }
,
{
		   "cell_type": "markdown",
		   "metadata": {},
		   "source": [
			"## Example 20.24: Example_24.sce"
		   ]
		  },
  {
"cell_type": "code",
	   "execution_count": null,
	   "metadata": {
	    "collapsed": true
	   },
	   "outputs": [],
"source": [
"//Problem 20.24: An a.c. source of 24 V and internal resistance 15 kohm is matched to a load by a 25:1 ideal transformer. Determine (a) the value of the load resistance and (b) the power dissipated in the load.\n",
"\n",
"//initializing the variables:\n",
"tr = 25; // teurn ratio\n",
"V = 24; // in Volts\n",
"R1 = 15000; // in Ohms\n",
"Rin = 15000; // in ohms\n",
"\n",
"//calculation:\n",
"//Turns ratio, tr = N1/N2 = V1/V2\n",
"//For maximum power transfer R1 needs to be equal to 15 kohm\n",
"RL = R1/(tr^2)\n",
"//The total input resistance when the source is connected to the matching transformer is\n",
"Rt = Rin + R1\n",
"//Primary current,\n",
"I1 = V/Rt\n",
"//N1/N2 = I2/I1\n",
"I2 = I1*tr\n",
"//Power dissipated in load resistor RL\n",
"P = I2*I2*RL\n",
"\n",
"printf('\n\n Result \n\n')\n",
"printf('\n (a) the load resistance is %.0f ohm', RL)\n",
"printf('\n (b)  power dissipated in the load resistor is %.2E W', P)"
   ]
   }
,
{
		   "cell_type": "markdown",
		   "metadata": {},
		   "source": [
			"## Example 20.25: Example_25.sce"
		   ]
		  },
  {
"cell_type": "code",
	   "execution_count": null,
	   "metadata": {
	    "collapsed": true
	   },
	   "outputs": [],
"source": [
"//Problem 20.25: A single-phase auto transformer has a voltage ratio 320 V:250 V and supplies a load of 20 kVA at 250 V. Assuming an ideal transformer, determine the current in each section of the winding.\n",
"\n",
"//initializing the variables:\n",
"V1 = 320; // in Volts\n",
"V2 = 250; // in Volts\n",
"S = 20000; // in VA\n",
"\n",
"//calculation:\n",
"//Rating = 20 kVA = V1*I1 = V2*I2\n",
"//Hence primary current, I1\n",
"I1 = S/V1\n",
"//secondary current, I2\n",
"I2 = S/V2\n",
"//Hence current in common part of the winding\n",
"I = I2 - I1\n",
"\n",
"printf('\n\n Result \n\n')\n",
"printf('\n current in common part of the winding is %.1f A', I)\n",
"printf('\n primary current and secondary current are %.1f A and %.0f A respectively',I1, I2)"
   ]
   }
,
{
		   "cell_type": "markdown",
		   "metadata": {},
		   "source": [
			"## Example 20.26: Example_26.sce"
		   ]
		  },
  {
"cell_type": "code",
	   "execution_count": null,
	   "metadata": {
	    "collapsed": true
	   },
	   "outputs": [],
"source": [
"//Problem 20.26: Determine the saving in the volume of copper used in an auto transformer compared with a double-wound transformer for (a) a 200 V:150 V transformer, and (b) a 500 V:100 V transformer.\n",
"\n",
"//initializing the variables:\n",
"V1a = 200; // in Volts\n",
"V2a = 150; // in Volts\n",
"V1b = 500; // in Volts\n",
"V2b = 100; // in Volts\n",
"\n",
"//calculation:\n",
"//For a 200 V:150 V transformer, xa\n",
"xa = V2a/V1a\n",
"//volume of copper in auto transformer\n",
"vca = (1 - xa)*100 // of copper in a double-wound transformer\n",
"//the saving is\n",
"vsa = 100 - vca\n",
"//For a 500 V:100 V transformer, xb\n",
"xb = V2b/V1b\n",
"//volume of copper in auto transformer\n",
"vcb = (1 - xb)*100 // of copper in a double-wound transformer\n",
"//the saving is\n",
"vsb = 100 - vcb\n",
"\n",
"printf('\n\n Result \n\n')\n",
"printf('\n (a)For a 200 V:150 V transformer, the saving is %.0f percent', vsa)\n",
"printf('\n (b)For a 500 V:100 V transformer, the saving is %.0f percent', vsb)"
   ]
   }
,
{
		   "cell_type": "markdown",
		   "metadata": {},
		   "source": [
			"## Example 20.27: Example_27.sce"
		   ]
		  },
  {
"cell_type": "code",
	   "execution_count": null,
	   "metadata": {
	    "collapsed": true
	   },
	   "outputs": [],
"source": [
"//Problem 20.27: A three-phase transformer has 500 primary turns and 50 secondary turns. If the supply voltage is 2.4 kV find the secondary line voltage on no-load when the windings are connected a) star-delta, (b) delta-star.\n",
"\n",
"//initializing the variables:\n",
"N1 = 500; // prim turns\n",
"N2 = 50; // sec turns\n",
"VL = 2400; // in Volts\n",
"\n",
"//calculation:\n",
"//For a star-connection, VL = Vp*(3^0.5)\n",
"VL1s = VL\n",
"//Primary phase voltage\n",
"Vp1s = VL1s/(3^0.5)\n",
"//For a delta-connection, VL = Vp\n",
"//N1/N2 = V1/V2, from which,\n",
"//secondary phase voltage, Vp2s\n",
"Vp2s = Vp1s*N2/N1\n",
"VL2d = Vp2s\n",
"\n",
"//For a delta-connection, VL = Vp\n",
"VL1d = VL\n",
"//primary phase voltage Vp1d\n",
"Vp1d = VL1d\n",
"//Secondary phase voltage, Vp2d\n",
"Vp2d = Vp1d*N2/N1\n",
"//For a star-connection, VL = Vp*(3^0.5)\n",
"VL2s = Vp2d*(3^0.5)\n",
"\n",
"printf('\n\n Result \n\n')\n",
"printf('\n the secondary line voltage for star and delta connection are %.0f V and %.1f V respectively', VL2s, VL2d)"
   ]
   }
,
{
		   "cell_type": "markdown",
		   "metadata": {},
		   "source": [
			"## Example 20.28: Example_28.sce"
		   ]
		  },
  {
"cell_type": "code",
	   "execution_count": null,
	   "metadata": {
	    "collapsed": true
	   },
	   "outputs": [],
"source": [
"//Problem 20.28: A current transformer has a single turn on the primary winding and a secondary winding of 60 turns. The secondary winding is connected to an ammeter with a resistance of 0.15 ohm. The resistance of the secondary winding is 0.25 ohm. If the current in the primary winding is 300 A, determine (a) the reading on the ammeter, (b) the potential difference across the ammeter and (c) the total load (in VA) on the secondary.\n",
"\n",
"//initializing the variables:\n",
"N1 = 1; // prim turns\n",
"N2 = 60; // sec turns\n",
"I1 = 300; // in amperes\n",
"Ra = 0.15; // in ohms\n",
"R2 = 0.25; // in ohms\n",
"\n",
"//calculation:\n",
"//Reading on the ammeter,\n",
"I2 = I1*(N1/N2)\n",
"//P.d. across the ammeter = I2*RA, where RA is the ammeter resistance\n",
"pd = I2*Ra\n",
"//Total resistance of secondary circuit\n",
"Rt = Ra + R2\n",
"//Induced e.m.f. in secondary\n",
"V2 = I2*Rt\n",
"//Total load on secondary\n",
"S = V2*I2\n",
"\n",
"printf('\n\n Result \n\n')\n",
"printf('\n (a)the reading on the ammeter is %.0f A ',I2)\n",
"printf('\n (b)potential difference across the ammeter is %.2f V ',pd)\n",
"printf('\n (c)total load (in VA) on the secondary is %.0f VA ',S)"
   ]
   }
],
"metadata": {
		  "kernelspec": {
		   "display_name": "Scilab",
		   "language": "scilab",
		   "name": "scilab"
		  },
		  "language_info": {
		   "file_extension": ".sce",
		   "help_links": [
			{
			 "text": "MetaKernel Magics",
			 "url": "https://github.com/calysto/metakernel/blob/master/metakernel/magics/README.md"
			}
		   ],
		   "mimetype": "text/x-octave",
		   "name": "scilab",
		   "version": "0.7.1"
		  }
		 },
		 "nbformat": 4,
		 "nbformat_minor": 0
}
