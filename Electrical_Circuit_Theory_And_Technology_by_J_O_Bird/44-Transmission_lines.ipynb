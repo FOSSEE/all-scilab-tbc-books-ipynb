{
"cells": [
 {
		   "cell_type": "markdown",
	   "metadata": {},
	   "source": [
       "# Chapter 44: Transmission lines"
	   ]
	},
{
		   "cell_type": "markdown",
		   "metadata": {},
		   "source": [
			"## Example 44.01: Example_1.sce"
		   ]
		  },
  {
"cell_type": "code",
	   "execution_count": null,
	   "metadata": {
	    "collapsed": true
	   },
	   "outputs": [],
"source": [
"//Problem 44.01:A parallel-wire air-spaced transmission line operating at 1910 Hz has a phase shift of 0.05 rad/km. Determine (a) the wavelength on the line, and (b) the speed of transmission of a signal.\n",
"//initializing the variables:\n",
"f = 1910; // in Hz\n",
"b = 0.05; // in rad/km\n",
"//calculation:\n",
"w = 2*%pi*f\n",
"//wavelength \n",
"Y = 2*%pi/b\n",
"//speed of transmission\n",
"u = f*Y\n",
"printf('\n\n Result \n\n')\n",
"printf('\n wavelength Y is %.1f km',Y)\n",
"printf('\n speed of transmission %.2E km/sec',u)"
   ]
   }
,
{
		   "cell_type": "markdown",
		   "metadata": {},
		   "source": [
			"## Example 44.02: Example_2.sce"
		   ]
		  },
  {
"cell_type": "code",
	   "execution_count": null,
	   "metadata": {
	    "collapsed": true
	   },
	   "outputs": [],
"source": [
"//Problem 44.02:A transmission line has an inductance of 4 mH/loop km and a capacitance of 0.004 μF/km. Determine, for a frequency of operation of 1 kHz, (a) the phase delay, (b) the wavelength on the line, and (c) the velocity of propagation (in metres per second) of the signal.\n",
"//initializing the variables:\n",
"L = 0.004; // in Henry/loop\n",
"C = 0.004E-6; // in F/loop\n",
"f = 1000; // in Hz\n",
"//calculation:\n",
"w = 2*%pi*f\n",
"//phase delay\n",
"b = w*(L*C)^0.5\n",
"//wavelength \n",
"Y = 2*%pi/b\n",
"//speed of transmission\n",
"u = f*Y\n",
"printf('\n\n Result \n\n')\n",
"printf('\n phase delay is %.3f rad/km',b)\n",
"printf('\n wavelength Y is %.1f km',Y)\n",
"printf('\n speed of transmission %.2E km/sec',u)"
   ]
   }
,
{
		   "cell_type": "markdown",
		   "metadata": {},
		   "source": [
			"## Example 44.03: Example_3.sce"
		   ]
		  },
  {
"cell_type": "code",
	   "execution_count": null,
	   "metadata": {
	    "collapsed": true
	   },
	   "outputs": [],
"source": [
"//Problem 44.03: When operating at a frequency of 2 kHz, a cable has an attenuation of 0.25 Np/km and a phase shift of 0.20 rad/km. If a 5 V rms signal is applied at the sending end, determine the voltage at a point 10 km down the line, assuming that the termination is equal to the characteristic impedance of the line.\n",
"//initializing the variables:\n",
"a = 0.25; // in Np/km\n",
"b = 0.20; // in rad/km\n",
"Vs = 5; // in Volts\n",
"n = 10; // in km\n",
"f = 2000; // in Hz\n",
"//calculation:\n",
"w = 2*%pi*f\n",
"//the voltage 10 km down the line\n",
"r = a + %i*b\n",
"VR = Vs*%e^(-1*n*r)\n",
"printf('\n\n Result \n\n')\n",
"printf('\n the voltage 10 km down the line is %.2f +(%.2f)i A',real(VR), imag(VR))"
   ]
   }
,
{
		   "cell_type": "markdown",
		   "metadata": {},
		   "source": [
			"## Example 44.04: Example_4.sce"
		   ]
		  },
  {
"cell_type": "code",
	   "execution_count": null,
	   "metadata": {
	    "collapsed": true
	   },
	   "outputs": [],
"source": [
"//Problem 44.04: A transmission line 5 km long has a characteristic impedance of 800/_-25° ohm. At a particular frequency, the attenuation coefficient of the line is 0.5 Np/km and the phase shift coefficient is 0.25 rad/km. Determine the magnitude and phase of the current at the receiving end, if the sending end voltage is 2.0/_0° V r.m.s.\n",
"//initializing the variables:\n",
"a = 0.5; // in Np/km\n",
"b = 0.25; // in rad/km\n",
"rvs = 2; // in Volts\n",
"thetavs = 0; // in degrees\n",
"rzo = 800; // in ohm\n",
"thetazo = -25; // in degrees\n",
"n = 5; // in km\n",
"//calculation:\n",
"//voltage\n",
"Vs = rvs*cos(thetavs*%pi/180) + %i*rvs*sin(thetavs*%pi/180)\n",
"//characteristic impedance\n",
"Zo = rzo*cos(thetazo*%pi/180) + %i*rzo*sin(thetazo*%pi/180)\n",
"// receiving end voltage\n",
"r = a + %i*b\n",
"VR = Vs*%e^(-1*n*r)\n",
"//Receiving end current,\n",
"IR = VR/Zo\n",
"printf('\n\n Result \n\n')\n",
"printf('\n Receiving end current, IR is %.2E +(%.2E)i A',real(IR), imag(IR))"
   ]
   }
,
{
		   "cell_type": "markdown",
		   "metadata": {},
		   "source": [
			"## Example 44.05: Example_5.sce"
		   ]
		  },
  {
"cell_type": "code",
	   "execution_count": null,
	   "metadata": {
	    "collapsed": true
	   },
	   "outputs": [],
"source": [
"//Problem 44.05: The voltages at the input and at the output of a transmission line properly terminated in its characteristic impedance are 8.0 V and 2.0 V rms respectively. Determine the output voltage if the length of the line is doubled. \n",
"//initializing the variables:\n",
"Vs = 8; // in Volts\n",
"VR = 2; // in Volts\n",
"x = 2; \n",
"//calculation:\n",
"// receiving end voltage VR = Vs*e^(-nr)\n",
"//e^-nr = p\n",
"p = VR/Vs\n",
"//If the line is doubled in length, then\n",
"VR = Vs*(p)^2\n",
"printf('\n\n Result \n\n')\n",
"printf('\n Receiving end voltage If the line is doubled in length, VR is %.2f +(%.2f)i V',real(VR), imag(VR))"
   ]
   }
,
{
		   "cell_type": "markdown",
		   "metadata": {},
		   "source": [
			"## Example 44.06: Example_6.sce"
		   ]
		  },
  {
"cell_type": "code",
	   "execution_count": null,
	   "metadata": {
	    "collapsed": true
	   },
	   "outputs": [],
"source": [
"//Problem 44.06: At a frequency of 1.5 kHz the open-circuit impedance of a length of transmission line is 800/_-50° ohm and the short-circuit impedance is 413/_-20° ohm. Determine the characteristic impedance of the line at this frequency.\n",
"//initializing the variables:\n",
"rzoc = 800; // in ohm\n",
"thetazoc = -50; // in degrees\n",
"rzsc = 413; // in ohm\n",
"thetazsc = -20; // in degrees\n",
"f = 1500; // in Hz\n",
"//calculation:\n",
"//open circuit impedance\n",
"Zoc = rzoc*cos(thetazoc*%pi/180) + %i*rzoc*sin(thetazoc*%pi/180)\n",
"//short circuit impedance\n",
"Zsc = rzsc*cos(thetazsc*%pi/180) + %i*rzsc*sin(thetazsc*%pi/180)\n",
"//characteristic impedance Zo\n",
"Zo = (Zoc*Zsc)^0.5\n",
"printf('\n\n Result \n\n')\n",
"printf('\n characteristic impedance Zo is %.0f +(%.0f)i ohm',real(Zo), imag(Zo))"
   ]
   }
,
{
		   "cell_type": "markdown",
		   "metadata": {},
		   "source": [
			"## Example 44.07: Example_7.sce"
		   ]
		  },
  {
"cell_type": "code",
	   "execution_count": null,
	   "metadata": {
	    "collapsed": true
	   },
	   "outputs": [],
"source": [
"//Problem 44.07: A transmission line has the following primary constants: resistance R = 15 ohm/loop km, inductance L = 3.4 mH/loop km, conductance G = 3 μS/km and capacitance C = 10 nF/km. Determine the characteristic impedance of the line when the frequency is 2 kHz.\n",
"//initializing the variables:\n",
"R = 15; // in ohm/loop km\n",
"L = 0.0034; // in H/loop km\n",
"C = 10E-9; // in F/km\n",
"G = 3E-6; // in S/km\n",
"f = 2000; // in Hz\n",
"//calculation:\n",
"w = 2*%pi*f\n",
"//characteristic impedance Zo\n",
"Zo = ((R + %i*w*L)/(G + %i*w*C))^0.5\n",
"printf('\n\n Result \n\n')\n",
"printf('\n characteristic impedance Zo is %.1f +(%.1f)i ohm',real(Zo), imag(Zo))"
   ]
   }
,
{
		   "cell_type": "markdown",
		   "metadata": {},
		   "source": [
			"## Example 44.08: Example_8.sce"
		   ]
		  },
  {
"cell_type": "code",
	   "execution_count": null,
	   "metadata": {
	    "collapsed": true
	   },
	   "outputs": [],
"source": [
"//Problem 44.08: A transmission line having negligible losses has primary line constants of inductance L = 0.5 mH/loop km and capacitance C = 0.12 μF/km. Determine, at an operating frequency of 400 kHz, (a) the characteristic impedance, (b) the propagation coefficient, (c) the wavelength on the line, and (d) the velocity of propagation, in metres per second, of a signal.\n",
"//initializing the variables:\n",
"L = 0.0005; // in H/loop km\n",
"C = 0.12E-6; // in F/km\n",
"f = 400000; // in Hz\n",
"//calculation:\n",
"w = 2*%pi*f\n",
"//characteristic impedance Zo\n",
"Zo = (L/C)^0.5\n",
"//the propagation coefficient\n",
"r = %i*w*(L*C)^0.5\n",
"//the attenuation coefficient \n",
"a = real(r)\n",
"//the phaseshift coefficient\n",
"b = imag(r)\n",
"//wavelength\n",
"Y = 2*%pi/b\n",
"//velocity of propagation \n",
"u = f*Y\n",
"printf('\n\n Result \n\n')\n",
"printf('\n characteristic impedance Zo is %.1f +(%.1f)i ohm',real(Zo), imag(Zo))\n",
"printf('\n propagation coefficient is %.2f +(%.2f)i',a,b)\n",
"printf('\n wavelength Y is %.3f km',Y)\n",
"printf('\n speed of transmission %.2E km/sec',u)"
   ]
   }
,
{
		   "cell_type": "markdown",
		   "metadata": {},
		   "source": [
			"## Example 44.09: Example_9.sce"
		   ]
		  },
  {
"cell_type": "code",
	   "execution_count": null,
	   "metadata": {
	    "collapsed": true
	   },
	   "outputs": [],
"source": [
"//Problem 44.09: At a frequency of 1 kHz the primary constants of a transmission line are resistance R = 25 ohm/loop km, inductance L = 5 mH/loop km, capacitance C = 0.04 μF/km and conductance G = 80 μS/km. Determine for the line (a) the characteristic impedance, (b) the propagation coefficient, (c) the attenuation coefficient and (d) the phase-shift coefficient.\n",
"//initializing the variables:\n",
"R = 25; // in ohm/loop km\n",
"L = 0.005; // in H/loop km\n",
"C = 0.04E-6; // in F/km\n",
"G = 80E-6; // in S/km\n",
"f = 1000; // in Hz\n",
"//calculation:\n",
"w = 2*%pi*f\n",
"//characteristic impedance Zo\n",
"Zo = ((R + %i*w*L)/(G + %i*w*C))^0.5\n",
"//the propagation coefficient\n",
"r =((R + %i*w*L)*(G + %i*w*C))^0.5\n",
"//the attenuation coefficient \n",
"a = real(r)\n",
"//the phaseshift coefficient\n",
"b = imag(r)\n",
"printf('\n\n Result \n\n')\n",
"printf('\n characteristic impedance Zo is %.1f +(%.1f)i ohm',real(Zo), imag(Zo))\n",
"printf('\n propagation coefficient is %.4f +(%.4f)i',a,b)\n",
"printf('\n attenuation coefficient is %.4f Np/km',a)\n",
"printf('\n the phaseshift coefficient %.4f rad/km',b)"
   ]
   }
,
{
		   "cell_type": "markdown",
		   "metadata": {},
		   "source": [
			"## Example 44.10: Example_10.sce"
		   ]
		  },
  {
"cell_type": "code",
	   "execution_count": null,
	   "metadata": {
	    "collapsed": true
	   },
	   "outputs": [],
"source": [
"//Problem 44.10: An open wire line is 300 km long and is terminated in its characteristic impedance. At the sending end is a generator having an open-circuit e.m.f. of 10.0 V, an internal impedance of (400 + j0) ohmand a frequency of 1 kHz. If the line primary constants are R = 8 ohm/loop km, L = 3 mH/loop km, C = 7500 pF/km and G = 0.25 μS/km, determine (a) the characteristic impedance, (b) the propagation coefficient, (c) the attenuation and phase-shift coefficients, (d) the sending-end current, (e) the receiving-end current, (f) the wavelength on the line, and (g) the speed of transmission of signal.\n",
"//initializing the variables:\n",
"R = 8; // in ohm/loop km\n",
"L = 0.003; // in H/loop km\n",
"C = 7500E-12; // in F/km\n",
"G = 0.25E-6; // in S/km\n",
"f = 1000; // in Hz\n",
"n = 300; // in km\n",
"Zg = 400 + %i*0; // in ohm\n",
"Vg = 10; // in Volts\n",
"//calculation:\n",
"w = 2*%pi*f\n",
"//characteristic impedance Zo\n",
"Zo = ((R + %i*w*L)/(G + %i*w*C))^0.5\n",
"//the propagation coefficient\n",
"r = ((R + %i*w*L)*(G + %i*w*C))^0.5\n",
"//the attenuation coefficient \n",
"a = real(r)\n",
"//the phaseshift coefficient\n",
"b = imag(r)\n",
"//the sending-end current,\n",
"Is = Vg/(Zg + Zo)\n",
"//the receiving-end current,\n",
"IR = Is*%e^(-1*n*r)\n",
"//wavelength\n",
"Y = 2*%pi/b\n",
"//velocity of propagation \n",
"u = f*Y\n",
"printf('\n\n Result \n\n')\n",
"printf('\n characteristic impedance Zo is %.1f +(%.1f)i ohm',real(Zo), imag(Zo))\n",
"printf('\n propagation coefficient is %.2f +(%.2f)i',a,b)\n",
"printf('\n attenuation coefficient is %.4f Np/km and the phaseshift coefficient %.4f rad/km',a,b)\n",
"printf('\n sending-end current Is is %.3E +(%.3E)i A',real(Is), imag(Is))\n",
"printf('\n receiving-end current IR is %.3E +(%.3E)i A',real(IR), imag(IR))\n",
"printf('\n wavelength Y is %.3f km',Y)\n",
"printf('\n speed of transmission %.2E km/sec',u)"
   ]
   }
,
{
		   "cell_type": "markdown",
		   "metadata": {},
		   "source": [
			"## Example 44.11: Example_11.sce"
		   ]
		  },
  {
"cell_type": "code",
	   "execution_count": null,
	   "metadata": {
	    "collapsed": true
	   },
	   "outputs": [],
"source": [
"//Problem 44.11: An underground cable has the following primary constants: resistance R = 10 ohm/loop km, inductance L = 1.5 mH/loop km, conductance G = 1.2 μS/km and capacitance C = 0.06 μF/km. Determine by how much the inductance should be increased to satisfy the condition for minimum distortion. \n",
"//initializing the variables:\n",
"R = 10; // in ohm/loop km\n",
"L = 0.0015; // in H/loop km\n",
"C = 0.06E-6; // in F/km\n",
"G = 1.2E-6; // in S/km\n",
"//calculation:\n",
"//the condition for minimum distortion is given by LG = CR, from which,\n",
"Lm = C*R/G\n",
"dL = Lm - L\n",
"printf('\n\n Result \n\n')\n",
"printf('\n inductance should be increased by %.2E H/loop km for minimum distortion',dL)"
   ]
   }
,
{
		   "cell_type": "markdown",
		   "metadata": {},
		   "source": [
			"## Example 44.12: Example_12.sce"
		   ]
		  },
  {
"cell_type": "code",
	   "execution_count": null,
	   "metadata": {
	    "collapsed": true
	   },
	   "outputs": [],
"source": [
"//Problem 44.12: A cable has the following primary constants: resistance R = 80 ohm/loop km, conductance, G = 2 μS/km, and capacitance C = 5 nF/km. Determine, for minimum distortion at a frequency of 1.5 kHz (a) the value of inductance per loop kilometre required, (b) the propagation coefficient, (c) the velocity of propagation of signal, and (d) the wavelength on the line \n",
"//initializing the variables:\n",
"R = 80; // in ohm/loop km\n",
"C = 5E-9; // in F/km\n",
"G = 2E-6; // in S/km\n",
"f = 1500; // in Hz\n",
"//calculation:\n",
"w = 2*%pi*f\n",
"//the condition for minimum distortion is given by LG = CR, from which, inductance\n",
"L = C*R/G\n",
"//attenuation coefficient,\n",
"a = (R*G)^0.5\n",
"//phase shift coefficient,\n",
"b = w*(L*C)^0.5\n",
"//propagation coefficient,\n",
"r = a + %i*b\n",
"//velocity of propagation,\n",
"u = 1/(L*C)^0.5\n",
"//wavelength\n",
"Y = u/f\n",
"printf('\n\n Result \n\n')\n",
"printf('\n inductance is %.2f H',L)\n",
"printf('\n propagation coefficient is %.4f +(%.4f)i',a,b)\n",
"printf('\n wavelength Y is %.2f km',Y)\n",
"printf('\n speed of transmission %.2E km/sec',u)"
   ]
   }
,
{
		   "cell_type": "markdown",
		   "metadata": {},
		   "source": [
			"## Example 44.13: Example_13.sce"
		   ]
		  },
  {
"cell_type": "code",
	   "execution_count": null,
	   "metadata": {
	    "collapsed": true
	   },
	   "outputs": [],
"source": [
"//Problem 44.13: A cable which has a characteristic impedance of 75 ohm is terminated in a 250 ohm resistive load. Assuming that the cable has negligible losses and the voltage measured across the terminating load is 10 V, calculate the value of (a) the reflection coefficient for the line, (b) the incident current, (c) the incident voltage, (d) the reflected current, and (e) the reflected voltage.\n",
"//initializing the variables:\n",
"Zo = 75; // in ohm\n",
"ZR = 250; // in ohm\n",
"VR = 10; // in Volts\n",
"//calculation:\n",
"//reflection coefficient\n",
"p = (Zo - ZR)/(Zo + ZR)\n",
"//Current flowing in the terminating load\n",
"IR = VR/ZR\n",
"//incident current, Ii\n",
"Ii = IR/(1 + p)\n",
"//incident voltage, Vi  \n",
"Vi = Ii*Zo\n",
"//reflected current, Ir\n",
"Ir = IR - Ii\n",
"//reflected voltage, Vr\n",
"Vr = -1*Ir*Zo\n",
"printf('\n\n Result \n\n')\n",
"printf('\n reflection coefficient is %.3f',p)\n",
"printf('\n incident current, Ii is %.4f A',Ii)\n",
"printf('\n incident voltage, Vi is %.2f V',Vi)\n",
"printf('\n reflected current, Ir is %.4f A',Ir)\n",
"printf('\n reflected voltage, Vr is %.2f V',Vr)"
   ]
   }
,
{
		   "cell_type": "markdown",
		   "metadata": {},
		   "source": [
			"## Example 44.14: Example_14.sce"
		   ]
		  },
  {
"cell_type": "code",
	   "execution_count": null,
	   "metadata": {
	    "collapsed": true
	   },
	   "outputs": [],
"source": [
"//Problem 44.14: A long transmission line has a characteristic impedance of 500 - j40  ohm and is terminated in an impedance of (a) 500 + j40 ohm and (b) 600 + j20 ohm. Determine the magnitude of the reflection coefficient in each case.\n",
"//initializing the variables:\n",
"Zo = 500 - %i*40; // in ohm\n",
"ZR1 = 500 + %i*40; // in ohm\n",
"ZR2 = 600 + %i*20; // in ohm\n",
"//calculation:\n",
"//reflection coefficient\n",
"p1 = (Zo - ZR1)/(Zo + ZR1)\n",
"p2 = (Zo - ZR2)/(Zo + ZR2)\n",
"p1mag = (real(p1)^2 + imag(p1)^2)^0.5\n",
"p2mag = (real(p2)^2 + imag(p2)^2)^0.5\n",
"printf('\n\n Result \n\n')\n",
"printf('\n reflection coefficient (a)%.3f and (b)%.3f',p1mag, p2mag)"
   ]
   }
,
{
		   "cell_type": "markdown",
		   "metadata": {},
		   "source": [
			"## Example 44.15: Example_15.sce"
		   ]
		  },
  {
"cell_type": "code",
	   "execution_count": null,
	   "metadata": {
	    "collapsed": true
	   },
	   "outputs": [],
"source": [
"//Problem 44.15: A loss-free transmission line has a characteristic impedance of 500/_0° and is connected to an aerial of impedance 320 + j240 ohm. Determine (a) the magnitude of the ratio of the reflected to the incident voltage wave, and (b) the incident voltage if the reflected voltage is 20/_35° V\n",
"//initializing the variables:\n",
"rzo = 500; // in ohm\n",
"thetazo = 0; // in degrees\n",
"ZR = 320 + %i*240; // in ohm\n",
"rvr = 20; // in volts\n",
"thetavr = 35; // in degrees\n",
"//calculation:\n",
"//voltage\n",
"VR = rvr*cos(thetavr*%pi/180) + %i*rvr*sin(thetavr*%pi/180)\n",
"//characteristic impedance\n",
"Zo = rzo*cos(thetazo*%pi/180) + %i*rzo*sin(thetazo*%pi/180)\n",
"//the ratio of the reflected to the incident voltage \n",
"//vr = VR/Vi\n",
"vr = (ZR - Zo)/(Zo + ZR)\n",
"vrmag = (real(vr)^2 + imag(vr)^2)^0.5\n",
"//incident voltage, Vi\n",
"Vi = VR/vr\n",
"printf('\n\n Result \n\n')\n",
"printf('\n the magnitude of the ratio Vr : Vi is %.3f',vrmag)\n",
"printf('\n incident voltage, Vi is %.2f +(%.2f)i V',real(Vi), imag(Vi))"
   ]
   }
,
{
		   "cell_type": "markdown",
		   "metadata": {},
		   "source": [
			"## Example 44.16: Example_16.sce"
		   ]
		  },
  {
"cell_type": "code",
	   "execution_count": null,
	   "metadata": {
	    "collapsed": true
	   },
	   "outputs": [],
"source": [
"//Problem 44.16: A transmission line has a characteristic impedance of 600/_0° and negligible loss. If the terminating impedance of the line is 400 + j250 ohm, determine (a) the reflection coefficient and (b) the standing-wave ratio.\n",
"//initializing the variables:\n",
"rzo = 600; // in ohm\n",
"thetazo = 0; // in degrees\n",
"ZR = 400 + %i*250; // in ohm\n",
"//calculation:\n",
"//characteristic impedance\n",
"Zo = rzo*cos(thetazo*%pi/180) + %i*rzo*sin(thetazo*%pi/180)\n",
"//reflection coefficient\n",
"p = (Zo - ZR)/(Zo + ZR)\n",
"pmag = (real(p)^2 + imag(p)^2)^0.5\n",
"//standing-wave ratio,\n",
"s = (1 + pmag)/(1 - pmag)\n",
"printf('\n\n Result \n\n')\n",
"printf('\n reflection coefficient, is %.4f +(%.4f)i V',real(p), imag(p))\n",
"printf('\n standing-wave ratio, s is %.3f',s)"
   ]
   }
,
{
		   "cell_type": "markdown",
		   "metadata": {},
		   "source": [
			"## Example 44.17: Example_17.sce"
		   ]
		  },
  {
"cell_type": "code",
	   "execution_count": null,
	   "metadata": {
	    "collapsed": true
	   },
	   "outputs": [],
"source": [
"//Problem 44.17: A low-loss transmission line has a mismatched load such that the reflection coefficient at the termination is 0.2/_-120°. The characteristic impedance of the line is 80 ohm. Calculate (a) the standing-wave ratio, (b) the load impedance, and (c) the incident current flowing if the reflected current is 10 mA.\n",
"//initializing the variables:\n",
"rp = 0.2; \n",
"thetap = -120; // in degrees\n",
"Zo = 80; // in ohm\n",
"Ir = 0.01; // in Amperes\n",
"//calculation:\n",
"//reflection coefficient\n",
"p = rp*cos(thetap*%pi/180) + %i*rp*sin(thetap*%pi/180)\n",
"//standing-wave ratio,\n",
"s = (1 + rp)/(1 - rp)\n",
"//load impedance ZR \n",
"ZR = Zo*(1 - p)/(1 + p)\n",
"//incident current\n",
"Ii = Ir*(s + 1)/(s - 1)\n",
"printf('\n\n Result \n\n')\n",
"printf('\n standing-wave ratio, s is %.1f',s)\n",
"printf('\n load impedance ZR is %.2f +(%.2f)i ohm',real(ZR), imag(ZR))\n",
"printf('\n incident current is %.3f A',Ii)"
   ]
   }
,
{
		   "cell_type": "markdown",
		   "metadata": {},
		   "source": [
			"## Example 44.18: Example_18.sce"
		   ]
		  },
  {
"cell_type": "code",
	   "execution_count": null,
	   "metadata": {
	    "collapsed": true
	   },
	   "outputs": [],
"source": [
"//Problem 44.18: The standing-wave ratio on a mismatched line is calculated as 1.60. If the incident power arriving at the termination is 200 mW, determine the value of the reflected power.\n",
"//initializing the variables:\n",
"s = 1.6;\n",
"Pi = 0.2; // in Watts\n",
"//calculation:\n",
"//reflected power, Pr\n",
"Pr = Pi*((s - 1)/(s + 1))^2\n",
"printf('\n\n Result \n\n')\n",
"printf('\n reflected power, Pr is %.5f W',Pr)"
   ]
   }
],
"metadata": {
		  "kernelspec": {
		   "display_name": "Scilab",
		   "language": "scilab",
		   "name": "scilab"
		  },
		  "language_info": {
		   "file_extension": ".sce",
		   "help_links": [
			{
			 "text": "MetaKernel Magics",
			 "url": "https://github.com/calysto/metakernel/blob/master/metakernel/magics/README.md"
			}
		   ],
		   "mimetype": "text/x-octave",
		   "name": "scilab",
		   "version": "0.7.1"
		  }
		 },
		 "nbformat": 4,
		 "nbformat_minor": 0
}
