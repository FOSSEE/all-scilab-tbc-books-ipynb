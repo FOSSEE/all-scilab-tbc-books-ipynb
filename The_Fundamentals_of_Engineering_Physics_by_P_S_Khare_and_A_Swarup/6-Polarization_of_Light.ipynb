{
"cells": [
 {
		   "cell_type": "markdown",
	   "metadata": {},
	   "source": [
       "# Chapter 6: Polarization of Light"
	   ]
	},
{
		   "cell_type": "markdown",
		   "metadata": {},
		   "source": [
			"## Example 6.10: Thickness_of_a_quarter_wave_plate_of_quartz.sce"
		   ]
		  },
  {
"cell_type": "code",
	   "execution_count": null,
	   "metadata": {
	    "collapsed": true
	   },
	   "outputs": [],
"source": [
"// Scilab code Ex6.10: Pg:261 (2008)\n",
"clc;clear;\n",
"mu_O = 1.55336;    // Refractive index for an ordinary beam\n",
"mu_E = 1.54425;    // Refractive index for an extra-ordinary beam\n",
"lambda = 5.893e-05;    // Wavelength of sodium light, cm\n",
"t = lambda/(4*(mu_O-mu_E));    // Thickness of quarter wave plate, cm\n",
"printf('\nThe thickness of the quarter wave plate for quartz = %4.2e cm', t);\n",
"\n",
"// Result \n",
"// The thickness of the quarter wave plate for quartz = 1.62e-003 cm "
   ]
   }
,
{
		   "cell_type": "markdown",
		   "metadata": {},
		   "source": [
			"## Example 6.11: Phase_retardation_in_quarter_wave_plate_for_given_wavelength.sce"
		   ]
		  },
  {
"cell_type": "code",
	   "execution_count": null,
	   "metadata": {
	    "collapsed": true
	   },
	   "outputs": [],
"source": [
"// Scilab code Ex6.11: Pg:261 (2008)\n",
"clc;clear;\n",
"mu_O = 1.55336;    // Refractive index for an ordinary beam\n",
"mu_E = 1.54425;    // Refractive index for an extra-ordinary beam\n",
"lambda_O = 5.893e-05;    // Wavelength of ordinary light, cm\n",
"lambda = 4.358e-005;    // Given wavelength of light, cm\n",
"PR = 2*%pi/lambda*lambda_O/4;    // The phase retardation in quarter wave plate for given wavelength\n",
"printf('\nThe phase retardation in quarter wave plate for given wavelength = %4.2f pi-radian', PR/%pi);\n",
"\n",
"// Result \n",
"// The phase retardation in quarter wave plate for given wavelength = 0.68 pi-radian "
   ]
   }
,
{
		   "cell_type": "markdown",
		   "metadata": {},
		   "source": [
			"## Example 6.12: Difference_in_the_refractive_indices_of_two_rays.sce"
		   ]
		  },
  {
"cell_type": "code",
	   "execution_count": null,
	   "metadata": {
	    "collapsed": true
	   },
	   "outputs": [],
"source": [
"// Scilab code Ex6.12: Pg:262 (2008)\n",
"clc;clear;\n",
"t = 0.003;    // Thickness of the crystal slice, cm\n",
"Lambda = 6e-005;    // Wavelength of linearly polarized light, cm\n",
"d_mu = Lambda/(4*t);    // Difference in the refractive indices of two rays \n",
"printf('\nThe difference in the refractive indices of two rays = %1.0e ', d_mu );\n",
"\n",
"// Result \n",
"// The difference in the refractive indices of two rays = 5e-003  "
   ]
   }
,
{
		   "cell_type": "markdown",
		   "metadata": {},
		   "source": [
			"## Example 6.13: Thickness_of_the_doubly_refracting_crystal.sce"
		   ]
		  },
  {
"cell_type": "code",
	   "execution_count": null,
	   "metadata": {
	    "collapsed": true
	   },
	   "outputs": [],
"source": [
"// Scilab code Ex6.13: Pg:262 (2008)\n",
"clc;clear;\n",
"mu_O = 1.65;    // Refractive index for an ordinary beam\n",
"mu_E = 1.48;    // Refractive index for an extra-ordinary beam\n",
"lambda = 6000e-08;    // Wavelength of light, cm\n",
"t = lambda/(2*(mu_O - mu_E));    // Thickness of doubly refracting crystal, cm\n",
"printf('\nThe thickness of the doubly refracting crystal = %4.2e cm', t);\n",
"\n",
"// Result \n",
"// The thickness of the doubly refracting crystal = 1.76e-004 cm"
   ]
   }
,
{
		   "cell_type": "markdown",
		   "metadata": {},
		   "source": [
			"## Example 6.14: Thinnest_possible_quartz_plate.sce"
		   ]
		  },
  {
"cell_type": "code",
	   "execution_count": null,
	   "metadata": {
	    "collapsed": true
	   },
	   "outputs": [],
"source": [
"// Scilab code Ex6.14: Pg:262 (2008)\n",
"clc;clear;\n",
"mu_O = 1.544;    // Refractive index for an ordinary beam\n",
"mu_E = 1.553;    // Refractive index for an extra-ordinary beam\n",
"lambda = 6000e-08;    // Wavelength of light, cm\n",
"t = lambda/(2*(mu_E - mu_O));    // Thickness of doubly refracting crystal, cm\n",
"printf('\nThe thinnest possible quartz = %4.2e cm', t);\n",
"printf('\nThe thicknesses which would give the same result are %4.2e cm, %4.2e cm, %4.2e cm,...', t, 3*t, 5*t);\n",
"\n",
"// Result \n",
"// The thinnest possible quartz = 3.33e-003 cm\n",
"// The thicknesses which would give the same result are 3.33e-003 cm, 1.00e-002 cm, 1.67e-002 cm,..."
   ]
   }
,
{
		   "cell_type": "markdown",
		   "metadata": {},
		   "source": [
			"## Example 6.15: Wavelength_for_a_quarter_and_a_half_wave_plate_in_the_visible_region.sce"
		   ]
		  },
  {
"cell_type": "code",
	   "execution_count": null,
	   "metadata": {
	    "collapsed": true
	   },
	   "outputs": [],
"source": [
"// Scilab code Ex6.15: Pg:263 (2008)\n",
"clc;clear;\n",
"mu_O = 1.5443;    // Refractive index for an ordinary beam\n",
"mu_E = 1.5533;    // Refractive index for an extra-ordinary beam\n",
"t = 0.01436;    // Thickness of the quartz plate, cm\n",
"lambda = zeros(6);    // Initialize lambda\n",
"// As t = (2*n + 1)*lambda/(4*(mu_O - mu_E)) for quarter wave plate, solving for lambda\n",
"printf('\nFor quarter wave in visible region the wavelengths are:\n');\n",
"for n = 1:1:6\n",
"lambda(n) = 4*(mu_E - mu_O)*t/(2*(n-1) + 1)*1e+008;    // Wavelength for a quarter wave plate, cm\n",
"if lambda(n) >= 3500 & lambda(n) <= 8000 then\n",
"    printf('%d ansgtrom; ', ceil(lambda(n)));\n",
"end\n",
"end // for loop\n",
"// As t = (2*n + 1)*lambda/(2*(mu_O - mu_E)) for half wave plate, solving for lambda\n",
"printf('\n\nFor half wave in visible region the wavelengths are:\n');\n",
"for n = 1:1:6\n",
"lambda(n) = 2*(mu_E - mu_O)*t/(2*(n-1) + 1)*1e+008;    // Wavelength for a half wave plate, cm\n",
"if lambda(n) >= 3500 & lambda(n) <= 8000 then\n",
"    printf('%d ansgtrom; ', ceil(lambda(n)));\n",
"end\n",
"end    // for loop\n",
"\n",
"// Result \n",
"// For quarter wave in visible region the wavelengths are:\n",
"// 7386 ansgtrom; 5744 ansgtrom; 4700 ansgtrom; \n",
"\n",
"// For half wave in visible region the wavelengths are:\n",
"// 5170 ansgtrom; 3693 ansgtrom;  "
   ]
   }
,
{
		   "cell_type": "markdown",
		   "metadata": {},
		   "source": [
			"## Example 6.1: Refractive_index_of_the_material_and_angle_of_refraction.sce"
		   ]
		  },
  {
"cell_type": "code",
	   "execution_count": null,
	   "metadata": {
	    "collapsed": true
	   },
	   "outputs": [],
"source": [
"// Scilab code Ex6.1: Pg:247 (2008)\n",
"clc;clear;\n",
"i_p = 60;    // Angle of polarization, degree\n",
"mu = tand(i_p);    // Refractive index of the material\n",
"r = 90-i_p;    // Angle of refraction, degree\n",
"printf('\nThe refractive index of the material = %5.3f ', mu);\n",
"printf('\nThe angle of refraction = %2d degree', r);\n",
"\n",
"// Result \n",
"// The refractive index of the material = 1.732 \n",
"// The angle of refraction = 30 degree "
   ]
   }
,
{
		   "cell_type": "markdown",
		   "metadata": {},
		   "source": [
			"## Example 6.2: Angle_of_refraction_in_benzene.sce"
		   ]
		  },
  {
"cell_type": "code",
	   "execution_count": null,
	   "metadata": {
	    "collapsed": true
	   },
	   "outputs": [],
"source": [
"// Scilab code Ex6.2: Pg:247 (2008)\n",
"clc;clear;\n",
"mu = 1.50;    // Refractive index of the material\n",
"// Since mu = tan i_p, solving for i_p \n",
"i_p = atand(mu);    // Angle of polarization, degree\n",
"r = 90-i_p;    // Angle of refraction, degree\n",
"printf('\nThe angle of polarization = %4.1f degree', i_p);\n",
"printf('\nThe angle of refraction = %4.1f degree', r);\n",
"\n",
"// Result \n",
"// The angle of polarization = 56.3 degree\n",
"// The angle of refraction = 33.7 degree"
   ]
   }
,
{
		   "cell_type": "markdown",
		   "metadata": {},
		   "source": [
			"## Example 6.3: Comparison_of_polarizing_angle_from_two_different_media.sce"
		   ]
		  },
  {
"cell_type": "code",
	   "execution_count": null,
	   "metadata": {
	    "collapsed": true
	   },
	   "outputs": [],
"source": [
"// Scilab code Ex6.3: Pg:248 (2008)\n",
"clc;clear;\n",
"mu_glass = 1.54;    // Refractive index of the glass\n",
"mu_water = 1.33;    // Refractive index of the water\n",
"mu_1 = mu_glass/mu_water;    // Refractive index for a water to glass interface\n",
"mu_2 = mu_water/mu_glass;    // Refractive index for a glass to water interface\n",
"// Since mu = tan i_p, solving for i_p \n",
"i_p_1 = atand(mu_1);    // Angle of polarization for water to glass interface, degree\n",
"i_p_2 = atand(mu_2);    // Angle of polarization for glass to water interface, degree\n",
"printf('\nThe polarizing angle for the water to glass interface is larger than that of glass to water inteface by %3.1f degree', i_p_1 - i_p_2);\n",
"\n",
"// Result \n",
"// The polarizing angle for the water to glass interface is larger than that of glass to water inteface by 8.4 degree"
   ]
   }
,
{
		   "cell_type": "markdown",
		   "metadata": {},
		   "source": [
			"## Example 6.4: Angle_of_minimum_deviation.sce"
		   ]
		  },
  {
"cell_type": "code",
	   "execution_count": null,
	   "metadata": {
	    "collapsed": true
	   },
	   "outputs": [],
"source": [
"// Scilab code Ex6.4: Pg:248 (2008)\n",
"clc;clear;\n",
"A = 60;    // Angle of prism, degree\n",
"i_p = 60;    // Polarizing angle, degree\n",
"mu = tand(i_p);    // Refractive index of glass\n",
"// Since mu = sind((A + d_m)/2)/sind(A/2), solving for d_m\n",
"d_m = 2*asind(mu*sind(A/2)) - A;    // Angle of minimum deviation, degree\n",
"printf('\nThe angle of minimum deviation = %2d degree', ceil(d_m));\n",
"\n",
"// Result \n",
"// The angle of minimum deviation = 60 degree\n",
"// The answer is given wrongly in the textbook"
   ]
   }
,
{
		   "cell_type": "markdown",
		   "metadata": {},
		   "source": [
			"## Example 6.5: Angle_between_two_polarizing_sheets.sce"
		   ]
		  },
  {
"cell_type": "code",
	   "execution_count": null,
	   "metadata": {
	    "collapsed": true
	   },
	   "outputs": [],
"source": [
"// Scilab code Ex6.5: Pg:249 (2008)\n",
"clc;clear;\n",
"// Define function to convert degrees to degree and minute\n",
"function [deg, minute] = deg2degmin(theta)\n",
"    deg = floor(theta);\n",
"    minute = ceil((theta-deg)*60);\n",
"endfunction\n",
"I_m = 1;    // For simplicity assume maximum intensity to be unity, unit\n",
"I0 = I_m;    // Initial intensity, unit\n",
"I = I_m/3;    // Final intensity, unit\n",
"// From Malus' Law. I = I0*cosd(theta)^2, solving for theta\n",
"theta = acosd(sqrt(I/I0));    // The angle between two polarizing sheets, degree\n",
"[d1, m1] = deg2degmin(theta);    // Call conversion function\n",
"[d2, m2] = deg2degmin(180-theta);    // Call conversion function for supplement\n",
"printf('\nThe angle between two polarizing sheets = %2d degree %2d minute = %2d degree %2d minute', d1, m1, d2, m2);\n",
"\n",
"// Result \n",
"// The angle between two polarizing sheets = 54 degree 45 minute = 125 degree 16 minute\n",
"// The answer is given wrongly in the textbook"
   ]
   }
,
{
		   "cell_type": "markdown",
		   "metadata": {},
		   "source": [
			"## Example 6.6: Intensity_of_the_transmitted_light.sce"
		   ]
		  },
  {
"cell_type": "code",
	   "execution_count": null,
	   "metadata": {
	    "collapsed": true
	   },
	   "outputs": [],
"source": [
"// Scilab code Ex6.6: Pg:249 (2008)\n",
"clc;clear;\n",
"I_m = 1;    // For simplicity assume maximum intensity to be unity, unit\n",
"I = I_m/3;    // Final intensity, unit\n",
"for theta = 30:15:60\n",
"I = I_m*cosd(theta)^2;    // Intensity of the emerging light\n",
"printf('\nThe fractional intensity of light transmitted for theta = %2d degree is %3.2f ', theta, I/I_m);\n",
"end\n",
"\n",
"// Result \n",
"// The fractional intensity of light transmitted for theta = 30 degree is 0.75 \n",
"// The fractional intensity of light transmitted for theta = 45 degree is 0.50 \n",
"// The fractional intensity of light transmitted for theta = 60 degree is 0.25  "
   ]
   }
,
{
		   "cell_type": "markdown",
		   "metadata": {},
		   "source": [
			"## Example 6.7: Intensity_ratio_of_two_emerging_beams.sce"
		   ]
		  },
  {
"cell_type": "code",
	   "execution_count": null,
	   "metadata": {
	    "collapsed": true
	   },
	   "outputs": [],
"source": [
"// Scilab code Ex6.7: Pg:249 (2008)\n",
"clc;clear;\n",
"I_0 = 1;    // For simplicity assume maximum intensity to be unity, unit\n",
"theta_A = 60;    // Angle between the plane of polarizer and plane of the analyzer for beam A, degree\n",
"theta_B = 30;    // Angle between the plane of polarizer and plane of the analyzer for beam B, degree\n",
"I_A = I_0*cosd(theta_A)^2;    // Malus' Law for beam A\n",
"I_B = I_0*cosd(theta_B)^2;    // Malus' Law for beam A\n",
"printf('\nThe intensity ratio of two emerging beams = %4.2f ', I_A/I_B);\n",
"\n",
"// Result \n",
"// The intensity ratio of two emerging beams = 0.33  "
   ]
   }
,
{
		   "cell_type": "markdown",
		   "metadata": {},
		   "source": [
			"## Example 6.8: Polarizing_angle_and_the_angle_of_refraction_for_light_incident_on_water.sce"
		   ]
		  },
  {
"cell_type": "code",
	   "execution_count": null,
	   "metadata": {
	    "collapsed": true
	   },
	   "outputs": [],
"source": [
"// Scilab code Ex6.8: Pg:250 (2008)\n",
"clc;clear;\n",
"// Define function to convert degrees to degree and minute\n",
"function [deg, minute] = deg2degmin(theta)\n",
"    deg = floor(theta);\n",
"    minute = ceil((theta-deg)*60);\n",
"endfunction\n",
"C = 48;    // Critical angle of incidence, degree\n",
"mu = 1/sind(C);    // Index of refraction\n",
"// From Brewester's law mu = tan i_p, solving for i_p\n",
"i_p = atand(mu);    // Polarizing angle, degree\n",
"// Since i_p + r = %pi/2, solving for r\n",
"r = 90 - i_p;    // Angle of refraction, degree\n",
"[d1, m1] = deg2degmin(i_p);\n",
"[d2, m2] = deg2degmin(r);\n",
"printf('\nThe polarizing angle = %2d degree %2d minute', d1, m1);\n",
"printf('\nThe angle of refraction = %2d degree %2d minute', d2, m2);\n",
"\n",
"// Result \n",
"// The polarizing angle = 53 degree 23 minute\n",
"// The angle of refraction = 36 degree 38 minute"
   ]
   }
,
{
		   "cell_type": "markdown",
		   "metadata": {},
		   "source": [
			"## Example 6.9: Thickness_of_a_quarter_wave_plate_for_a_crystal.sce"
		   ]
		  },
  {
"cell_type": "code",
	   "execution_count": null,
	   "metadata": {
	    "collapsed": true
	   },
	   "outputs": [],
"source": [
"// Scilab code Ex6.9: Pg:261 (2008)\n",
"clc;clear;\n",
"mu_O = 1.55;    // Refractive index for an ordinary beam\n",
"mu_E = 1.54;    // Refractive index for an extra-ordinary beam\n",
"lambda = 5890e-08;    // Wavelength of light, cm\n",
"t = lambda/(4*(mu_O-mu_E));    // Thickness of quarter wave plate, cm\n",
"printf('\nThe thickness of a quarter wave plate for the crystal = %4.2e cm', t);\n",
"\n",
"// Result \n",
"// The thickness of a quarter wave plate for the crystal = 1.47e-003 cm "
   ]
   }
],
"metadata": {
		  "kernelspec": {
		   "display_name": "Scilab",
		   "language": "scilab",
		   "name": "scilab"
		  },
		  "language_info": {
		   "file_extension": ".sce",
		   "help_links": [
			{
			 "text": "MetaKernel Magics",
			 "url": "https://github.com/calysto/metakernel/blob/master/metakernel/magics/README.md"
			}
		   ],
		   "mimetype": "text/x-octave",
		   "name": "scilab",
		   "version": "0.7.1"
		  }
		 },
		 "nbformat": 4,
		 "nbformat_minor": 0
}
