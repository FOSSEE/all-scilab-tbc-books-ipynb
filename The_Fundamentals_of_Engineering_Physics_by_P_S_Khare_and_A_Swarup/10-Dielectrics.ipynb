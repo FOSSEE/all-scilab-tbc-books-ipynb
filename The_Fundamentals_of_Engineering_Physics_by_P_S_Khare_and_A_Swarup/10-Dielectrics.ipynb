{
"cells": [
 {
		   "cell_type": "markdown",
	   "metadata": {},
	   "source": [
       "# Chapter 10: Dielectrics"
	   ]
	},
{
		   "cell_type": "markdown",
		   "metadata": {},
		   "source": [
			"## Example 10.1: Relative_permittivity_of_sodium_chloride.sce"
		   ]
		  },
  {
"cell_type": "code",
	   "execution_count": null,
	   "metadata": {
	    "collapsed": true
	   },
	   "outputs": [],
"source": [
"// Scilab code Ex10.1 : Pg:405 (2008)\n",
"clc;clear;\n",
"E = 1000;    // Electric field applied to sodium chloride crystal, V/m\n",
"P = 4.3e-008;    // Polarization, Coulomb per meter square\n",
"epsilon_0 = 8.85e-012;    // Permittivity of free space, force per meter\n",
"// Since P = epsilon_0*(epsilon_r-1)*E, solving for epsilon_r\n",
"epsilon_r = 1 + P/(epsilon_0*E);    // Relative permittivity of sodium chloride\n",
"printf('\nThe relative permittivity of sodium chloride = %4.2f ', epsilon_r);\n",
"\n",
"// Result \n",
"// The relative permittivity of sodium chloride = 5.86  "
   ]
   }
,
{
		   "cell_type": "markdown",
		   "metadata": {},
		   "source": [
			"## Example 10.2: Electronic_polarizability_of_an_argon_atom.sce"
		   ]
		  },
  {
"cell_type": "code",
	   "execution_count": null,
	   "metadata": {
	    "collapsed": true
	   },
	   "outputs": [],
"source": [
"// Scilab code Ex10.2: Pg:411 (2008)\n",
"clc;clear;\n",
"N = 2.7e+025;    // Number of molecules per unit volume\n",
"epsilon_r = 1.0024;    // Dielectric constant due to electronic polarization\n",
"epsilon_0 = 8.85e-012;    // Permittivity of free space, force per meter\n",
"// P = epsilon_0*(epsilon_r-1)*E and P = N*alpha_e*E, solving for alpha_e \n",
"alpha_e = epsilon_0*(epsilon_r-1)/N;    // Electronic polarizability of an argon atom, farad Sq.m\n",
"printf('\nThe electronic polarizability of an argon atom = %3.1e farad Sq.m', alpha_e);\n",
"\n",
"// Result \n",
"// The electronic polarizability of an argon atom = 7.9e-040 farad Sq.m  "
   ]
   }
,
{
		   "cell_type": "markdown",
		   "metadata": {},
		   "source": [
			"## Example 10.3: Polarizability_and_relative_permittivity_of_one_cubic_meter_of_hydrogen_gas.sce"
		   ]
		  },
  {
"cell_type": "code",
	   "execution_count": null,
	   "metadata": {
	    "collapsed": true
	   },
	   "outputs": [],
"source": [
"// Scilab code Ex10.3  : Pg:414 (2008)\n",
"clc;clear;\n",
"N = 9.8e+026;    // Number of atoms in one cubic meter of hydrogen gas\n",
"R = 0.53e-010;    // Radius of hydrogen atom, meter\n",
"epsilon_0 = 8.85e-012;    // Permittivity of free space, force per meter\n",
"alpha_e = 4*%pi*epsilon_0*R^3;    // Electronic polarizability of an argon atom, farad Sq.m\n",
"epsilon_r = 1 + 4*%pi*N*R^3;    // Relative permittivity of one cubic meter of hydrogen gas\n",
"printf('\nThe polarizability of one cubic meter of hydrogen gas = %4.2e farad Sq.m', alpha_e);\n",
"printf('\nThe relative permittivity of one cubic meter of hydrogen gas = %6.4f', epsilon_r);\n",
"\n",
"// Result \n",
"// The polarizability of one cubic meter of hydrogen gas = 1.66e-041 farad Sq.m\n",
"// The relative permittivity of one cubic meter of hydrogen gas = 1.0018"
   ]
   }
,
{
		   "cell_type": "markdown",
		   "metadata": {},
		   "source": [
			"## Example 10.4: Relative_dielectric_constant_for_sulphur.sce"
		   ]
		  },
  {
"cell_type": "code",
	   "execution_count": null,
	   "metadata": {
	    "collapsed": true
	   },
	   "outputs": [],
"source": [
"// Scilab code Ex10.4: Pg:417 (2008)\n",
"clc;clear;\n",
"alpha_e = 3.28e-040;    // Electronic polarizability of sulphur atom, Force meter square\n",
"eps_0 = 8.85e-012;    // Permittivity of free space, farad per metre\n",
"N_A = 6.023e+026;    // Avagadro's number\n",
"M = 32;    // Atomic weight of sulphur\n",
"rho = 2.08e+003;    // Density of sulphur atom, kg per cubic meter\n",
"// Since (eps_r - 1)/(eps_r + 2) = N*alphe_e/(3*eps_0), solvinf for  eps_r\n",
"ep_r = poly(0, 'ep_r');\n",
"ep_r = roots((ep_r - 1)*3*M*eps_0-(ep_r + 2)*N_A*rho*alpha_e);    // Relative permittivity of the medium\n",
"printf('\nThe relative dielectric constant for sulphur = %3.1f', ep_r);\n",
"\n",
"// Result \n",
"// The relative dielectric constant for sulphur = 3.8"
   ]
   }
,
{
		   "cell_type": "markdown",
		   "metadata": {},
		   "source": [
			"## Example 10.5: Ionic_polarizability_for_glass.sce"
		   ]
		  },
  {
"cell_type": "code",
	   "execution_count": null,
	   "metadata": {
	    "collapsed": true
	   },
	   "outputs": [],
"source": [
"// Scilab code Ex10.5: Pg:419 (2008)\n",
"clc;clear;\n",
"n = 1.5;    // Refractive index of glass\n",
"E = 1;    // For simplicity assume electric field strength to be unity, N/C\n",
"epsilon_0 = 8.85e-012;    // Permittivity of free space, farad per metre\n",
"epsilon_r = 6.75;    // Relative permittivity of free space at optical frequencies\n",
"mu = 1.5;    // Refractive index for glass\n",
"P_e = epsilon_0*(n^2 - 1)*E;        // Electronic polarizability, farad Sq.m\n",
"P_i = epsilon_0*(epsilon_r - n^2)*E;    // Ionic polarizability, farad Sq.m\n",
"percent_P_i = P_i/(P_e+P_i)*100;    // Percentage ionic polarizability\n",
"printf('\nPercent ionic polarizability for glass = %3.1f percent', percent_P_i);\n",
"\n",
"// Result \n",
"// Percent ionic polarizability for glass = 78.3 percent  "
   ]
   }
,
{
		   "cell_type": "markdown",
		   "metadata": {},
		   "source": [
			"## Example 10.6: Frequency_and_phase_difference_in_the_presence_of_dielectric.sce"
		   ]
		  },
  {
"cell_type": "code",
	   "execution_count": null,
	   "metadata": {
	    "collapsed": true
	   },
	   "outputs": [],
"source": [
"// Scilab code Ex10.6: Pg:422 (2008)\n",
"clc;clear;\n",
"eps_r_prime = 1;    // For simplicity assume real part of dielectric constant to be unity\n",
"eps_r_dprime = eps_r_prime;    // Imaginary part of dielectric constant is the same as that of real part\n",
"tau = 18e-06;    // Relaxation time of ice, s\n",
"f = 1/(2*%pi*tau*1e+003);    // Frequency when the real and imaginary parts of the complex dielectric constant will become equal, kHz\n",
"delta = atand(eps_r_dprime/eps_r_prime);    // Loss angle, degree\n",
"phi = 90 - delta;    // Phase difference between the current and voltage, degree\n",
"printf('\nThe frequency when the real and imaginary parts of the complex dielectric constant will become equal = %3.1f kHz', f);\n",
"printf('\nThe phase difference between the current and voltage = %2.0f degree', phi);\n",
"\n",
"// Result \n",
"// The frequency when the real and imaginary parts of the complex dielectric constant will become equal = 8.8 kHz\n",
"// The phase difference between the current and voltage = 45 degree"
   ]
   }
],
"metadata": {
		  "kernelspec": {
		   "display_name": "Scilab",
		   "language": "scilab",
		   "name": "scilab"
		  },
		  "language_info": {
		   "file_extension": ".sce",
		   "help_links": [
			{
			 "text": "MetaKernel Magics",
			 "url": "https://github.com/calysto/metakernel/blob/master/metakernel/magics/README.md"
			}
		   ],
		   "mimetype": "text/x-octave",
		   "name": "scilab",
		   "version": "0.7.1"
		  }
		 },
		 "nbformat": 4,
		 "nbformat_minor": 0
}
