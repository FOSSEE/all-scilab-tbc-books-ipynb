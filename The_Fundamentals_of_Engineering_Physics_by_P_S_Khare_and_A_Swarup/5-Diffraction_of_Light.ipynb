{
"cells": [
 {
		   "cell_type": "markdown",
	   "metadata": {},
	   "source": [
       "# Chapter 5: Diffraction of Light"
	   ]
	},
{
		   "cell_type": "markdown",
		   "metadata": {},
		   "source": [
			"## Example 5.10: Dispersion_in_the_spectrograph_and_separation_between_the_spectral_lines.sce"
		   ]
		  },
  {
"cell_type": "code",
	   "execution_count": null,
	   "metadata": {
	    "collapsed": true
	   },
	   "outputs": [],
"source": [
"// Scilab code Ex5.10:  Pg:219 (2008)\n",
"clc;clear;\n",
"Lambda = 5.9e-05;    // Wavelength of spectral line, Angstorm\n",
"n = 2;    // Second order principal maxima \n",
"f = 25;    // focal length of the convex lens, cm\n",
"aplusb = 2.54/15000;    // Grating element where a is the width of slit and b is the width of opaque region in a grating, cm\n",
"sin_theta = n*Lambda/aplusb;    \n",
"// Since (a +b)*sin_theta = n*Lambda, solving for cos_theta \n",
"cos_theta = sqrt(1-sin_theta^2);\n",
"tl_ratio = n/(aplusb*cos_theta);    // Angular dispersion produced by grating, radians per Angstorm\n",
"xl_ratio = f*(tl_ratio);    // Linear dispersion in the spectrograph, radian per Angstorm\n",
"d_Lambda = 6;    // Separation between two wavelengths, Angstorm\n",
"d_x = xl_ratio*1e-008*d_Lambda;    // Separation between spectral lines, cm\n",
"printf('\nThe angular dispersion produced by the grating = %3.1e rad/angstrom', tl_ratio*1e-008);\n",
"printf('\nThe linear dispersion in the spectrograph = %1.0e cm/Angstorm', xl_ratio*1e-008);\n",
"printf('\nThe separation between spectral lines = %3.1e cm', d_x);\n",
"\n",
"// Result \n",
"// The angular dispersion produced by the grating = 1.6e-004 rad/angstrom\n",
"// The linear dispersion in the spectrograph = 4e-003 cm/Angstorm\n",
"// The separation between spectral lines = 2.5e-002 cm "
   ]
   }
,
{
		   "cell_type": "markdown",
		   "metadata": {},
		   "source": [
			"## Example 5.11: Separation_between_two_spectral_lines_in_the_first_order_spectrum.sce"
		   ]
		  },
  {
"cell_type": "code",
	   "execution_count": null,
	   "metadata": {
	    "collapsed": true
	   },
	   "outputs": [],
"source": [
"// Scilab code Ex5.11: Pg:219 (2008)\n",
"clc;clear;\n",
"Lambda_1 = 5000e-08;    // First wavelength of spectral line, cm\n",
"Lambda_2 = 5200e-08;    // Second wavelength of spectral line, cm\n",
"aplusb = 1/10000;    // Grating element where a is the width of slit and b is the width of opaque region in a grating, cm\n",
"f = 150;    // Focal length of the lens, cm\n",
"n = 1;    // Order of diffractions\n",
"// Since (a +b)*sin_theta = n*Lambda\n",
"theta_1 = asind(n*Lambda_1/aplusb);    // Angle of diffraction for the first order with first wavelength, degree\n",
"theta_2 = asind(n*Lambda_2/aplusb);    // Angle of diffraction for the first order with second wavelength, degree\n",
"x_1 = tand(theta_1)*f;    // Position of first spectral line in the first order spectrum, cm\n",
"x_2 = tand(theta_2)*f;    // Position of second spectral line in the first order spectrum, cm\n",
"d_x = x_2 - x_1;    // Separation between two spectral lines in the first order spectrum, cm\n",
"printf('\nThe separation between two spectral lines in the first order spectrum  = %4.2f cm', d_x);\n",
"\n",
"// Result \n",
"// The separation between two spectral lines in the first order spectrum  = 4.71 cm"
   ]
   }
,
{
		   "cell_type": "markdown",
		   "metadata": {},
		   "source": [
			"## Example 5.12: Resolving_power_of_a_grating_in_the_second_order.sce"
		   ]
		  },
  {
"cell_type": "code",
	   "execution_count": null,
	   "metadata": {
	    "collapsed": true
	   },
	   "outputs": [],
"source": [
"// Scilab code Ex5.12: Pg:224 (2008)\n",
"clc;clear;\n",
"n = 2;    // Second order diffraction\n",
"N = 40000;    // Number of lines per inch on the diffraction grating\n",
"lambda_ratio = n*N;    // Resolving power of grating in second order where d_Lambda is the smallest wavelength difference between neighbouring lines\n",
"printf('\nThe resolving power of a grating in the second order = %d ', lambda_ratio);\n",
"\n",
"// Result \n",
"// The resolving power of a grating in the second order = 80000  "
   ]
   }
,
{
		   "cell_type": "markdown",
		   "metadata": {},
		   "source": [
			"## Example 5.13: EX5_13.sce"
		   ]
		  },
  {
"cell_type": "code",
	   "execution_count": null,
	   "metadata": {
	    "collapsed": true
	   },
	   "outputs": [],
"source": [
"// Scilab code Ex5.13: Pg:224 (2008)\n",
"clc;clear;\n",
"n_1 = 1;    // First order diffraction\n",
"n_2 = 2;    // Second order diffraction\n",
"Lambda_1 = 5890;    // First wavelength of sodium light, Angstorm\n",
"Lambda_2 = 5896;    // Second wavelength of sodium light, Angstorm\n",
"Lambda = (Lambda_1 + Lambda_2)/2;    // Mean wavelength, angstorm\n",
"d_Lambda = Lambda_2 - Lambda_1;    // Difference in wavelength, Angstorm\n",
"N1 = Lambda_1/(n_1*d_Lambda);    // Number of lines in a plane diffraction grating required to just resolve the sodium doublet in the first order\n",
"N2 = Lambda_2/(n_2*d_Lambda);    // Number of lines in a plane diffraction grating required to just resolve the sodium doublet in the second order\n",
"printf('\nThe minimum number of lines in the plane diffraction grating in the first and second order spectra respectively are %d and %d', ceil(N1), N2);\n",
"\n",
"// Result \n",
"// The minimum number of lines in the plane diffraction grating in the first and second order spectra respectively are 982 and 491 "
   ]
   }
,
{
		   "cell_type": "markdown",
		   "metadata": {},
		   "source": [
			"## Example 5.14: Wavelength_difference_in_the_first_order_spectrum.sce"
		   ]
		  },
  {
"cell_type": "code",
	   "execution_count": null,
	   "metadata": {
	    "collapsed": true
	   },
	   "outputs": [],
"source": [
"// Scilab code Ex5.14: Pg:225 (2008)\n",
"clc;clear;\n",
"n = 1;    // First order diffraction\n",
"N = 1000;    // Number of lines on the grating\n",
"Lambda = 6e-05;    // Wavelength of light, cm\n",
"// Let Lambda and d_Lambda be the two wavelengths in the first order spectrum. Since the resolving power of a grating is given by Lambda/d_Lambda = n*N. On solving for d_lambda, we have\n",
"d_Lambda = Lambda/(n*N);    // Difference between two wavelength in the first order spectrum, Angstorm\n",
"printf('\nThe wavelength difference in the first order spectrum = %d angstrom', d_Lambda/1e-008);\n",
"\n",
"// Result \n",
"// The wavelength difference in the first order spectrum = 6 angstrom"
   ]
   }
,
{
		   "cell_type": "markdown",
		   "metadata": {},
		   "source": [
			"## Example 5.15: Maximum_resolving_power_for_normal_incidence.sce"
		   ]
		  },
  {
"cell_type": "code",
	   "execution_count": null,
	   "metadata": {
	    "collapsed": true
	   },
	   "outputs": [],
"source": [
"// Scilab code Ex5.15: Pg:225 (2008)\n",
"clc;clear;\n",
"Lambda = 5080e-08;    // Wavelength of light on the grating, cm\n",
"theta = 90;    // Angle of incidence of light on grating, degree\n",
"d = 2.54;    // Total ruled width of grating, cm\n",
"frac_lambda_max = d/Lambda;\n",
"printf('\nThe maximum resolving power = %1.0e ', frac_lambda_max);\n",
"\n",
"// Result \n",
"// The maximum resolving power = 5e+004  "
   ]
   }
,
{
		   "cell_type": "markdown",
		   "metadata": {},
		   "source": [
			"## Example 5.16: Resolving_power_of_the_grating_in_the_second_order.sce"
		   ]
		  },
  {
"cell_type": "code",
	   "execution_count": null,
	   "metadata": {
	    "collapsed": true
	   },
	   "outputs": [],
"source": [
"// Scilab code Ex5.16: Pg:225 (2008)\n",
"clc;clear;\n",
"Lambda_1 = 5140.34;    // First wavelength of light on the grating in the first order, angstrom\n",
"Lambda_2 = 5140.85;    // Second wavelength of light on the grating in the first order, angstrom\n",
"Lambda_3 = 8037.20;    // First wavelength of light on the grating in the second order, angstrom\n",
"Lambda_4 = 8037.50;    // Second wavelength of light on the grating in the second order, angstrom\n",
"Lambda = (Lambda_1 + Lambda_2)/2;    //Mean wavelength for the first order diffraction, angstrom\n",
"d_Lambda = Lambda_2 - Lambda_1;    // Smallest wavelength difference at the mean wavelength Lambda for the first order diffraction, angstrom\n",
"n = 1;    // First order diffraction\n",
"// As RP_1 = Lambda/d_Lambda = n*N, solving for N\n",
"N = 1/n*Lambda/d_Lambda;    // Number of lines on the diffraction grating for the first order diffraction\n",
"n = 2;    // Second order diffraction\n",
"RP2 = n*N;    // Expected resolving power of grating in the second order\n",
"Lambda = (Lambda_3 + Lambda_4)/2;    // Mean wavelength for the second order diffraction, angstrom\n",
"d_Lambda = Lambda_4 - Lambda_3;    // Smallest wavelength difference at the mean wavelength Lambda for the second order diffraction, angstrom\n",
"RP = Lambda/d_Lambda;    // Calculated resolving power of grating in the second order\n",
"if (RP > RP2) then\n",
"    printf('The grating will not be able to resolve the lines %7.2f angstrom and %7.2f angstrom', Lambda_3, Lambda_4);\n",
"else \n",
"    printf('The grating will be able to resolve the lines %7.2f angstrom and %7.2f angstrom', Lambda_3, Lambda_4);\n",
"end\n",
"\n",
"// Result \n",
"// The grating will not be able to resolve the lines 8037.20 angstrom and 8037.50 angstrom"
   ]
   }
,
{
		   "cell_type": "markdown",
		   "metadata": {},
		   "source": [
			"## Example 5.17: EX5_17.sce"
		   ]
		  },
  {
"cell_type": "code",
	   "execution_count": null,
	   "metadata": {
	    "collapsed": true
	   },
	   "outputs": [],
"source": [
"// Scilab code Ex5.17: Pg:226 (2008)\n",
"clc;clear;\n",
"n = 2;    // Second order diffraction\n",
"theta = 10;    // Angle of diffraction, degree\n",
"d_Lambda = 5e-009;    // Wavelength of second spectral line of light on the grating in the second order, cm\n",
"d_theta = (3/3600)*(%pi/180);    // Differential angle of diffraction, rad\n",
"Lambda = sind(theta)*d_Lambda/(cosd(theta)*d_theta);    // Wavelength of spectral line, cm\n",
"N = (Lambda/d_Lambda)*1/n;    // Number of lines on the grating\n",
"w_min = N*n*Lambda/sind(theta);    // Minimum grating width of diffraction grating required to resolve the spectral lines, cm\n",
"printf('\nThe wavelength of first spectral line = %4.0f angstrom', Lambda/1e-008);\n",
"printf('\nThe wavelength of Second spectral line = %6.1f angstrom', (Lambda+d_Lambda)/1e-008);\n",
"printf('\nThe minimum grating width of diffraction grating required to resolve the spectral lines = %3.1f cm', w_min);\n",
"\n",
"// Result \n",
"// The wavelength of first spectral line = 6062 angstrom\n",
"// The wavelength of Second spectral line = 6062.2 angstrom\n",
"// The minimum grating width of diffraction grating required to resolve the spectral lines = 4.2 cm \n",
"// The answer is given wrong in the textbook"
   ]
   }
,
{
		   "cell_type": "markdown",
		   "metadata": {},
		   "source": [
			"## Example 5.18: Smallest_wavelength_difference_in_the_second_order.sce"
		   ]
		  },
  {
"cell_type": "code",
	   "execution_count": null,
	   "metadata": {
	    "collapsed": true
	   },
	   "outputs": [],
"source": [
"// Scilab code Ex5.18: Pg:227 (2008)\n",
"clc;clear;\n",
"n = 2;    // Order of diffraction\n",
"Lambda = 6000e-08;    // Wavelength of light on the grating, cm\n",
"m = 16000;    // Number of lines per inch on grating\n",
"L = 5;    // Length of the ruled grating, inches\n",
"N = L*m;    // Total number of lines on the grating\n",
"// Since the resolving power, Lambda/d_Lambda = n*N, solving for d_Lambda\n",
"d_Lambda = Lambda/(n*N);    // The smallest wavelength difference, Angstorm \n",
"printf('\nThe smallest wavelength difference in the second order = %6.4f angstrom',d_Lambda/1e-008);\n",
"\n",
"// Result \n",
"// The smallest wavelength difference in the second order = 0.0375 angstrom "
   ]
   }
,
{
		   "cell_type": "markdown",
		   "metadata": {},
		   "source": [
			"## Example 5.19: Resolution_of_smallest_difference_of_wavelengths_by_a_spectrometer.sce"
		   ]
		  },
  {
"cell_type": "code",
	   "execution_count": null,
	   "metadata": {
	    "collapsed": true
	   },
	   "outputs": [],
"source": [
"// Scilab code Ex5.19: Pg:229 (2008)\n",
"clc;clear;\n",
"t = 5;    // width of the base of the prism, cm\n",
"Lambda = 5000;    // wavelength, angstrom\n",
"D = 200;    // Rate of change of refractive index with wavelength, per cm\n",
"RP = t*D;    // Resolving power of a prism\n",
"d_Lambda = Lambda/(D*t);    // Smallest difference in wavelengths by a spectrometer, angstrom\n",
"printf('\nThe resolution of smallest difference of wavelengths by a spectrometer = %d angstrom', d_Lambda);\n",
"\n",
"// Result \n",
"// The resolution of smallest difference of wavelengths by a spectrometer = 5 angstrom"
   ]
   }
,
{
		   "cell_type": "markdown",
		   "metadata": {},
		   "source": [
			"## Example 5.1: Distance_between_the_first_and_fourth_band.sce"
		   ]
		  },
  {
"cell_type": "code",
	   "execution_count": null,
	   "metadata": {
	    "collapsed": true
	   },
	   "outputs": [],
"source": [
"// Scilab code Ex5.1: Pg:200 (2008)\n",
"clc;clear;\n",
"a = 300;    // Distance between narrow slit and straight edge, cm\n",
"b = 600;    // Distance between straight edge and screen, cm\n",
"Lambda = 4900e-08;    // Wavelength of light, cm\n",
"// For n = 1\n",
"n = 1;\n",
"x_1 = sqrt(b*(a + b)*Lambda/a)*sqrt(2*n);    // Distance of Ist minimum outside the geometrical shadow\n",
"// For n = 4\n",
"n = 4;\n",
"x_4 = sqrt(b*(a + b)*Lambda/a)*sqrt(2*n);    // Distance of fourth minimum outside the geometrical shadow\n",
"x = x_4 - x_1;    // Distance between first and fourth band, cm\n",
"printf('\nThe distance between the first and fourth band = %4.2f cm', x);\n",
"\n",
"// Result \n",
"// The distance between the first and fourth band = 0.42 cm "
   ]
   }
,
{
		   "cell_type": "markdown",
		   "metadata": {},
		   "source": [
			"## Example 5.20: Length_of_base_of_a_flint_glass_prism.sce"
		   ]
		  },
  {
"cell_type": "code",
	   "execution_count": null,
	   "metadata": {
	    "collapsed": true
	   },
	   "outputs": [],
"source": [
"// Scilab code Ex5.20: Pg:229 (2008)\n",
"clc;clear;\n",
"Lambda_1= 5896;    // Wavelength of D1 Sodium light, Angstorm\n",
"Lambda_2= 5890;    // Wavelength of D2 Sodium light, Angstorm\n",
"Lambda = (Lambda_1 + Lambda_2)/2;    // Mean wavelength of sodium light, Angstorm\n",
"d_Lambda = Lambda_1 - Lambda_2;    // Difference in wavelengths of sodium, Angstorm\n",
"RP = Lambda/d_Lambda;    // Resolving power of prism\n",
"D = 982;    // Rate of change of refractive index with wavelength, per cm\n",
"// As RP = t*D, solving for t\n",
"t =1/D*RP;    // Length of base of a flint glass prism, cm\n",
"printf('\nThe length of base of a flint glass prism = %3.1f cm', t);\n",
"\n",
"// Result \n",
"// The length of base of a flint glass prism = 1.0 cm"
   ]
   }
,
{
		   "cell_type": "markdown",
		   "metadata": {},
		   "source": [
			"## Example 5.21: Smallest_difference_of_wavelengths_resolved_by_a_prism_of_flint_glass.sce"
		   ]
		  },
  {
"cell_type": "code",
	   "execution_count": null,
	   "metadata": {
	    "collapsed": true
	   },
	   "outputs": [],
"source": [
"// Scilab code Ex5.21: Pg:229 (2008)\n",
"clc;clear;\n",
"mu_C = 1.6389;    // Refractive index index of material\n",
"mu_F = 1.7168;    // Refractive index index of material\n",
"Lambda_C = 6563e-008;    // Wavelength of C Sodium light, Angstorm\n",
"Lambda_F = 4861e-008;    // Wavelength of F Sodium light, Angstorm\n",
"Lambda = 5e-05;    // Wavelength of light, cm\n",
"t = 3;    // Length of base of a flint glass prism, cm \n",
"// Since the resolving power of a spectrometer is given by Lambda/d_Lambda. Thus\n",
"D = (mu_F - mu_C)/(Lambda_C - Lambda_F);    // Dispersion of material of the prism\n",
"d_Lambda = Lambda/(t*D);    // Resolving power of a prism\n",
"printf('\nThe smallest difference of wavelengths resolved by the flint glass prism = %4.2f angstrom', d_Lambda/1e-008);\n",
"\n",
"// Result \n",
"// The smallest difference of wavelengths resolved by the flint glass prism = 0.36 angstrom \n",
"// The answer is given wrong in the textbook"
   ]
   }
,
{
		   "cell_type": "markdown",
		   "metadata": {},
		   "source": [
			"## Example 5.22: Size_of_the_grating_interval.sce"
		   ]
		  },
  {
"cell_type": "code",
	   "execution_count": null,
	   "metadata": {
	    "collapsed": true
	   },
	   "outputs": [],
"source": [
"// Scilab code Ex5.22: Pg:230 (2008)\n",
"clc;clear;\n",
"Lambda_1 = 6708e-008;    // Wavelength, Angstorm\n",
"Lambda_2 = 6438e-008;    // wavelength, Angstorm\n",
"n = 2;    // Order of diffraction\n",
"mu_1 = 1.5400;    // Refractive index index of material\n",
"mu_2 = 1.5412;    // Refractive index index of material\n",
"D = (mu_2 - mu_1)/(Lambda_1 - Lambda_2);    // Dispersion of the material of the grating, per cm\n",
"aplusb = n/D;    // Size of the grating interval, cm\n",
"printf('\nThe size of the grating interval = %3.1e cm', aplusb);\n",
"\n",
"// Result \n",
"// The size of the grating interval = 4.5e-003 cm\n",
"// The answer is given wrong in the textbook"
   ]
   }
,
{
		   "cell_type": "markdown",
		   "metadata": {},
		   "source": [
			"## Example 5.23: Smallest_angular_separation_of_two_stars_resolved_by_a_telescope.sce"
		   ]
		  },
  {
"cell_type": "code",
	   "execution_count": null,
	   "metadata": {
	    "collapsed": true
	   },
	   "outputs": [],
"source": [
"// Scilab code Ex5.23: Pg:232 (2008)\n",
"clc;clear;\n",
"Lambda = 5600e-08;    //Mean wavelength of light, cm\n",
"a = 101.6;    // Diameter of the objective of a telescope, cm\n",
"theta_1 = 1.22*Lambda/a;    // The smallest angular separation of two stars in seconds resolved by a telescope, radian\n",
"theta = theta_1*(180/%pi)*60*60;    // Smallest angular separation of two stars in seconds resolved by a telescope, second\n",
"printf('\nThe smallest angular separation of two stars in seconds resolved by a telescope = %4.2f second', theta);\n",
"\n",
"// Result \n",
"// The smallest angular separation of two stars in seconds resolved by a telescope = 0.14 second "
   ]
   }
,
{
		   "cell_type": "markdown",
		   "metadata": {},
		   "source": [
			"## Example 5.24: Diameter_of_an_objective_of_a_telescope.sce"
		   ]
		  },
  {
"cell_type": "code",
	   "execution_count": null,
	   "metadata": {
	    "collapsed": true
	   },
	   "outputs": [],
"source": [
"// Scilab code Ex5.24: Pg:232 (2008)\n",
"clc;clear;\n",
"Lambda = 5000e-08;    //Mean wavelength of light, cm\n",
"theta = 10e-03;    // Smallest angular separation resolvable by a telescope objective, degree\n",
"theta = %pi/180*(1/1000);    // The smallest angular separation resolvable by a telescope objective, radian\n",
"// As theta = (1.22*Lambda)/a, solving for a\n",
"a = 1.22*Lambda/theta;    // Diameter of an objective of the telescope, cm\n",
"printf('\nThe diameter of an objective of the telescope = %3.1f cm', a);\n",
"\n",
"// Result \n",
"// The diameter of an objective of the telescope = 3.5 cm "
   ]
   }
,
{
		   "cell_type": "markdown",
		   "metadata": {},
		   "source": [
			"## Example 5.25: EX5_25.sce"
		   ]
		  },
  {
"cell_type": "code",
	   "execution_count": null,
	   "metadata": {
	    "collapsed": true
	   },
	   "outputs": [],
"source": [
"// Scilab code Ex5.25: Pg:232 (2008)\n",
"clc;clear;\n",
"Lambda = 5800e-08;    // Mean wavelength of light, cm\n",
"a = 20;    // Diameter of the objective of a telescope, cm\n",
"theta = 1.22*Lambda/a;    // The smallest angular separation resolvable by a telescope objective of diameter a, radian\n",
"l = 4e+05;    // Distance of moon from the earth, km\n",
"x = theta * l;    // Distance between two objects on the moon, km\n",
"theta = 1.22*Lambda/a;    // Angular resolution of the eye\n",
"theta_prime = 1.5*%pi/180*1/60;    // Angular resolution of the telescope, degree\n",
"MP = theta_prime/theta;    // Magnifying power of a telescope\n",
"printf('\nThe distance between two objects on the moon = %3.1f km', x);\n",
"printf('\nThe magnifying power of the telescope = %3d ', MP);\n",
"\n",
"// Result \n",
"// The distance between two objects on the moon = 1.4 km\n",
"// The magnifying power of the telescope = 123"
   ]
   }
,
{
		   "cell_type": "markdown",
		   "metadata": {},
		   "source": [
			"## Example 5.26: Minimum_linear_resolvable_distance_between_two_person.sce"
		   ]
		  },
  {
"cell_type": "code",
	   "execution_count": null,
	   "metadata": {
	    "collapsed": true
	   },
	   "outputs": [],
"source": [
"// Scilab code Ex5.26: Pg:233 (2008)\n",
"clc;clear;\n",
"Lambda = 5.5e-05;    //Mean wavelength of light, cm\n",
"a = 0.2;    // Diameter of the pupil of an eye, cm\n",
"theta = 1.22*Lambda/a;    // The smallest angular separation resolvable by a human eye of pupil diameter a, radian\n",
"l = 5000;    // Distance of person from the man, cm\n",
"x = theta * l;    // Minimum linear resolvable distance between two person, cm\n",
"printf('\nThe minimum linear resolvable distance between two persons = %4.3f cm',x);\n",
"\n",
"// Result \n",
"// The minimum linear resolvable distance between two persons = 1.678 cm "
   ]
   }
,
{
		   "cell_type": "markdown",
		   "metadata": {},
		   "source": [
			"## Example 5.27: EX5_27.sce"
		   ]
		  },
  {
"cell_type": "code",
	   "execution_count": null,
	   "metadata": {
	    "collapsed": true
	   },
	   "outputs": [],
"source": [
"// Scilab code Ex5.27: Pg:233 (2008)\n",
"clc;clear;\n",
"Lambda = 6000e-08;    //Mean wavelength of light, cm\n",
"a = 200;    // Diameter of the objective of a telescope, cm\n",
"a_prime = 0.2;    // Aperture of the eye lens, cm\n",
"f = 2.54;    // Focal length of eye-piece, cm\n",
"theta = 1.22*Lambda/a;    // The smallest angular separation resolvable by a telescope objective of diameter a, radian\n",
"theta_prime = 1.22*Lambda/a_prime;    // The smallest angle that can be resolved by the eye where a^' is the aperture of the eye, radian\n",
"MP = theta_prime/theta;    // Magnifying power of the telescope\n",
"// As MP = F/f, solving for F\n",
"F = MP*f;    // The minimum focal length of the objective, cm\n",
"printf('\nThe minimum focal length of the objective if the full resolving power of the telescope is to be utilized = %4d cm', F);\n",
"\n",
"// Result \n",
"// The minimum focal length of the objective if the full resolving power of the telescope is to be utilized = 2540 cm "
   ]
   }
,
{
		   "cell_type": "markdown",
		   "metadata": {},
		   "source": [
			"## Example 5.28: Resolving_limit_of_a_microscope.sce"
		   ]
		  },
  {
"cell_type": "code",
	   "execution_count": null,
	   "metadata": {
	    "collapsed": true
	   },
	   "outputs": [],
"source": [
"// Scilab code Ex5.28: Pg:236 (2008)\n",
"clc;clear;\n",
"Lambda = 5500e-08;    // Wavelength of the visible light, cm\n",
"theta = 30;    // Semi-angle of the cone of light, degree\n",
"x = 1.22*Lambda/(2*sind(theta));    // Distance between the two nearby objects just resolved by the microscope, cm\n",
"printf('\nThe resolving limit of the microscope = %3.1e cm', x);\n",
"\n",
"// Result \n",
"// The resolving limit of the microscope = 6.7e-005 cm"
   ]
   }
,
{
		   "cell_type": "markdown",
		   "metadata": {},
		   "source": [
			"## Example 5.29: Resolving_power_of_a_microscope.sce"
		   ]
		  },
  {
"cell_type": "code",
	   "execution_count": null,
	   "metadata": {
	    "collapsed": true
	   },
	   "outputs": [],
"source": [
"// Scilab code Ex5.29: Pg:236 (2008)\n",
"clc;clear;\n",
"Lambda = 6e-05;    // Wavelength of the light, cm\n",
"NA = 0.12;    // numerical aperture\n",
"x = Lambda/(2*NA);    // Minimum resolvable distance between two nearby objects \n",
"RP = 1/x;    // Resolving power of a microscope \n",
"printf('\nThe resolving power of the microscope = %4d ', RP);\n",
"\n",
"// Result \n",
"// The resolving power of the microscope = 4000"
   ]
   }
,
{
		   "cell_type": "markdown",
		   "metadata": {},
		   "source": [
			"## Example 5.2: Angular_position_of_first_two_minima_on_either_side_of_the_central_maxima.sce"
		   ]
		  },
  {
"cell_type": "code",
	   "execution_count": null,
	   "metadata": {
	    "collapsed": true
	   },
	   "outputs": [],
"source": [
"// Scilab code Ex5.2: : Pg:207 (2008)\n",
"clc;clear;\n",
"// Define function to convert degrees to degree and minute\n",
"function [deg, minute] = deg2degmin(theta)\n",
"    deg = floor(theta);\n",
"    minute = ceil((theta-deg)*60);\n",
"endfunction\n",
"a = 22e-05;    // Width of slit, cm\n",
"Lambda = 5500e-08;    // Wavelength of light, cm\n",
"// Since a*sin(theta) = n*Lambda, solving for sin(theta_1)\n",
"n = 1;    // First order minimum\n",
"theta_1 = asind(n*Lambda/a);    // Angular position of first order minimum, degree\n",
"[d1, m1] = deg2degmin(theta_1);     // Transformtion function\n",
"n = 2;    // Second order minimum\n",
"theta_2 = asind(n*Lambda/a);    // Angular position of second order minimum, degree\n",
"[d2, m2] = deg2degmin(theta_2);     // Transformtion function\n",
"printf('\nThe angular position of first order minima = %d degree %d minute', d1, m1);\n",
"printf('\nThe angular position of second order minima = %d degree %d minute', d2, m2);\n",
"\n",
"// Result \n",
"// The angular position of first order minima = 14 degree 29 minute\n",
"// The angular position of second order minima = 30 degree 1 minute "
   ]
   }
,
{
		   "cell_type": "markdown",
		   "metadata": {},
		   "source": [
			"## Example 5.30: Magnifying_power_of_a_microscope.sce"
		   ]
		  },
  {
"cell_type": "code",
	   "execution_count": null,
	   "metadata": {
	    "collapsed": true
	   },
	   "outputs": [],
"source": [
"// Scilab code Ex5.30: Pg:236 (2008)\n",
"clc;clear;\n",
"L_1 = 5e-05;    // Limit of resolution of microscope, cm\n",
"l = 25;    // Least distance of distiinct vision, cm\n",
"theta_1 = 1.5;    // Angular limit of resolution of eye, minute\n",
"theta_2 = theta_1/60*%pi/180;    // Angular limit of resolution of eye, radian\n",
"L_2 = l*theta_2;    // Linear limit of the resolution of eye, cm\n",
"M = L_2/L_1;    // Magnifying power of the microscope\n",
"printf('\nThe magnifying power of the microscope = %3d ', M);\n",
"\n",
"// Result \n",
"// The magnifying power of the microscope = 218   "
   ]
   }
,
{
		   "cell_type": "markdown",
		   "metadata": {},
		   "source": [
			"## Example 5.3: The_wavelengths_of_incident_light_in_diffraction_pattern.sce"
		   ]
		  },
  {
"cell_type": "code",
	   "execution_count": null,
	   "metadata": {
	    "collapsed": true
	   },
	   "outputs": [],
"source": [
"// Scilab code Ex5.3:  Pg:207 (2008)\n",
"clc;clear;\n",
"a = 0.04;    // Width of slit, cm\n",
"Lambda = 5500e-08;    // Wavelength of light, cm\n",
"x = 0.5;    // Distance from the central maximum at which both fourth and fifth minimum occur, cm\n",
"f = 100;    // Focal length of lens, cm\n",
"theta = x/f;    // Angle of diffraction, radian\n",
"// As a*sin(theta) = 4*Lambda_1 = 5*Lambda_2, solving for Lambdas\n",
"Lambda_1 = a*sin(theta)/4;    // First wavelength, cm\n",
"Lambda_2 = 4*Lambda_1/5;    // Second wavelength, cm\n",
"printf('\nThe two wavelengths of incident lights are:\nLambda_1 = %1.0e cm; Lambda_2 = %1.0e cm', Lambda_1, Lambda_2);\n",
"\n",
"// Result \n",
"// The two wavelengths of incident lights are:\n",
"// Lambda_1 = 5e-005 cm; Lambda_2 = 4e-005 cm"
   ]
   }
,
{
		   "cell_type": "markdown",
		   "metadata": {},
		   "source": [
			"## Example 5.4: Wavelength_of_spectral_line.sce"
		   ]
		  },
  {
"cell_type": "code",
	   "execution_count": null,
	   "metadata": {
	    "collapsed": true
	   },
	   "outputs": [],
"source": [
"// Scilab code Ex5.4: : Pg:216 (2008)\n",
"clc;clear;\n",
"aplusb = 1/1250;    // Grating element where a is the width of slit and b is the width of opaque region in a grating, cm\n",
"theta = 30;    // Direction of principal maxima, degree\n",
"n = 2;    // Second order principal maxima\n",
"Lambda = aplusb*sind(theta)/n;    // Wavelength of spectral line, angstrom\n",
"printf('\nThe wavelength of spectral line = %d angstrom', ceil(Lambda/1e-008));\n",
"\n",
"// Result \n",
"// The wavelength of spectral line = 20000 angstrom "
   ]
   }
,
{
		   "cell_type": "markdown",
		   "metadata": {},
		   "source": [
			"## Example 5.5: Number_of_lines_on_the_grating_surface.sce"
		   ]
		  },
  {
"cell_type": "code",
	   "execution_count": null,
	   "metadata": {
	    "collapsed": true
	   },
	   "outputs": [],
"source": [
"// Scilab code Ex5.5: Pg:217 (2008)\n",
"clc;clear;\n",
"Lambda = 5e-05;    // Wavelength of spectral line, cm\n",
"n = 2;    // Second order principal maxima \n",
"theta = 30;    // Direction of principal maxima, degree\n",
"aplusb_inv = sind(theta)/(n*Lambda);    // Number of lines in one cm of grating where a is the width of slit and b is the width of opaque region in a grating, cm\n",
"printf('\nThe number of lines on the grating surface = %d ', ceil(aplusb_inv));\n",
"\n",
"// Result \n",
"// The number of lines on the grating surface = 5000 "
   ]
   }
,
{
		   "cell_type": "markdown",
		   "metadata": {},
		   "source": [
			"## Example 5.6: Direction_of_principal_maxima.sce"
		   ]
		  },
  {
"cell_type": "code",
	   "execution_count": null,
	   "metadata": {
	    "collapsed": true
	   },
	   "outputs": [],
"source": [
"// Scilab code Ex5.6: Pg:217 (2008)\n",
"clc;clear;\n",
"Lambda = 6e-05;    // Wavelength of spectral line, cm\n",
"n = 1;    // First order principal maxima \n",
"aplusb = 1/160;    // Grating element where a is the width of slit and b is the width of opaque region in a grating, cm\n",
"// since the grating equation is given by (a +b)*sint_theta = n*Lambda. On solving fot theta, we have\n",
"theta = asind(n*Lambda/aplusb);    // Direction of principal maxima, minutes\n",
"printf('\nThe direction of principal maxima = %2d minutes', theta*60);\n",
"\n",
"// Result \n",
"// The direction of principal maxima = 33 minutes "
   ]
   }
,
{
		   "cell_type": "markdown",
		   "metadata": {},
		   "source": [
			"## Example 5.7: Angle_of_diffraction_in_first_order.sce"
		   ]
		  },
  {
"cell_type": "code",
	   "execution_count": null,
	   "metadata": {
	    "collapsed": true
	   },
	   "outputs": [],
"source": [
"// Scilab code Ex5.7:  Pg:217 (2008)\n",
"clc;clear;\n",
"// Define function to convert degrees to degree and minute\n",
"function [deg, minute] = deg2degmin(theta)\n",
"    deg = floor(theta);\n",
"    minute = ceil((theta-deg)*60);\n",
"endfunction\n",
"Lambda = 5e-05;    // Wavelength of spectral line, cm\n",
"n = 1;    // First order principal maxima \n",
"aplusb = 3/15000;    // Grating element where a is the width of slit and b is the width of opaque region in a grating, cm\n",
"// Since (a +b)*sint_theta = n*Lambda, solving fot theta\n",
"theta = asind((n*Lambda/aplusb));    // Angle of diffraction in first order, minutes\n",
"[d, m] = deg2degmin(theta);\n",
"printf('\nThe angle of diffraction in first order = %2d degree %2d minutes', d, m);\n",
"\n",
"// Result \n",
"// The angle of diffraction in first order = 14 degree 29 minutes"
   ]
   }
,
{
		   "cell_type": "markdown",
		   "metadata": {},
		   "source": [
			"## Example 5.8: Dispersive_powers_of_first_and_third_order_spectra_of_diffraction_grating.sce"
		   ]
		  },
  {
"cell_type": "code",
	   "execution_count": null,
	   "metadata": {
	    "collapsed": true
	   },
	   "outputs": [],
"source": [
"// Scilab code Ex5.8: Pg:218 (2008)\n",
"clc;clear;\n",
"Lambda = 5000;    // Wavelength of spectral line, Angstorm\n",
"n = 1;    // First order principal maxima \n",
"n = 3;    // Third order principal maxima \n",
"aplusb = 18000;    // Grating element where a is the width of slit and b is the width of opaque region in a grating, cm\n",
"n = 1;     // First order diffraction\n",
"tl_ratio_1 = 1/sqrt((aplusb/n)^2-Lambda^2);    // Angular dispersion produced by a grating around a mean wavelength lambda, radian per angstorm\n",
"n = 3;     // Second order diffraction\n",
"tl_ratio_3 = 1/sqrt((aplusb/n)^2-Lambda^2);    // Angular dispersion produced by a grating around a mean wavelength lambda, radian per angstorm\n",
"printf('\nThe dispersive powers of first and third order spectra of diffraction grating are %4.2e rad/angstrom and %3.1e rad/angstrom', tl_ratio_1, tl_ratio_3);\n",
"\n",
"// Result \n",
"// The dispersive powers of first and third order spectra of diffraction grating are 5.78e-005 rad/angstrom and 3.0e-004 rad/angstrom"
   ]
   }
,
{
		   "cell_type": "markdown",
		   "metadata": {},
		   "source": [
			"## Example 5.9: Difference_in_two_wavelengths.sce"
		   ]
		  },
  {
"cell_type": "code",
	   "execution_count": null,
	   "metadata": {
	    "collapsed": true
	   },
	   "outputs": [],
"source": [
"// Scilab code Ex5.9: Pg:218 (2008)\n",
"clc;clear;\n",
"Lambda = 5000;    // Wavelength of spectral line, Angstorm\n",
"theta = 30;    // Direction of principal maxima, degree\n",
"d_theta = 0.01;    // Angular separation between two wavelengths, radians\n",
"d_Lambda = Lambda*cotd(theta)*d_theta;    // Difference in two wavelengths, angstrom\n",
"printf('\nThe difference in two wavelengths = %4.1f angstrom', d_Lambda);\n",
"\n",
"// Result \n",
"// The difference in two wavelengths = 86.6 angstroms"
   ]
   }
],
"metadata": {
		  "kernelspec": {
		   "display_name": "Scilab",
		   "language": "scilab",
		   "name": "scilab"
		  },
		  "language_info": {
		   "file_extension": ".sce",
		   "help_links": [
			{
			 "text": "MetaKernel Magics",
			 "url": "https://github.com/calysto/metakernel/blob/master/metakernel/magics/README.md"
			}
		   ],
		   "mimetype": "text/x-octave",
		   "name": "scilab",
		   "version": "0.7.1"
		  }
		 },
		 "nbformat": 4,
		 "nbformat_minor": 0
}
