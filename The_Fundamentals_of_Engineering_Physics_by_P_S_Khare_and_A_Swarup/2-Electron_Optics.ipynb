{
"cells": [
 {
		   "cell_type": "markdown",
	   "metadata": {},
	   "source": [
       "# Chapter 2: Electron Optics"
	   ]
	},
{
		   "cell_type": "markdown",
		   "metadata": {},
		   "source": [
			"## Example 2.1: Potential_difference_between_two_regions_of_an_electric_field.sce"
		   ]
		  },
  {
"cell_type": "code",
	   "execution_count": null,
	   "metadata": {
	    "collapsed": true
	   },
	   "outputs": [],
"source": [
"// Scilab code Ex2.1: Pg:55 (2008)\n",
"clc;clear;\n",
"V1 = 250;    // Accelerating potential of electron in first region, volts\n",
"theta1 = 50;    // Angle of incidence, degrees\n",
"theta2 = 30;    // Angle of refraction, degrees\n",
"// According to Bethe's law  sind(theta1)/sind(theta2) = []V2/V1]^1/2\n",
"// On solving for V2\n",
"V2 = V1*(sind(theta1)/sind(theta2))^2;    // Potential in second region, volts\n",
"deltaV = (V2-V1);    // Potential difference between two regions, volts\n",
"printf('\nPotential difference between two regions of an electric field = %5.1f V', deltaV);\n",
"\n",
"// Result \n",
"// Potential difference between two regions of an electric field = 336.8 V "
   ]
   }
,
{
		   "cell_type": "markdown",
		   "metadata": {},
		   "source": [
			"## Example 2.2: Linear_separation_between_the_lines_on_a_photographic_plates.sce"
		   ]
		  },
  {
"cell_type": "code",
	   "execution_count": null,
	   "metadata": {
	    "collapsed": true
	   },
	   "outputs": [],
"source": [
"// Scilab code Ex2.2: Pg:79(2008)\n",
"clc;clear;\n",
"amu = 1.67e-027;    // Mass of a nucleon, kg\n",
"E = 8e+004;    // Electric field in a Bainbridge mass spectrograph, V/m\n",
"B = 0.55;    // Magnetic induction, Wb per square meter\n",
"M1 = 20;    // Atomic mass of first isotope of neon, amu\n",
"M2 = 22;    // Atomic mass of second isotope of neon, amu\n",
"q = 1.602e-019;    // Charge of the ion, coulomb\n",
"delta_x = 2*E*(M2-M1)*amu/(q*B^2);    // Separation between the lines, mm\n",
"printf('\nLinear separation between the lines on a photographic plates = %4.2f m', delta_x);\n",
"\n",
"// Result \n",
"// Linear separation between the lines on a photographic plates= 0.01 m "
   ]
   }
],
"metadata": {
		  "kernelspec": {
		   "display_name": "Scilab",
		   "language": "scilab",
		   "name": "scilab"
		  },
		  "language_info": {
		   "file_extension": ".sce",
		   "help_links": [
			{
			 "text": "MetaKernel Magics",
			 "url": "https://github.com/calysto/metakernel/blob/master/metakernel/magics/README.md"
			}
		   ],
		   "mimetype": "text/x-octave",
		   "name": "scilab",
		   "version": "0.7.1"
		  }
		 },
		 "nbformat": 4,
		 "nbformat_minor": 0
}
