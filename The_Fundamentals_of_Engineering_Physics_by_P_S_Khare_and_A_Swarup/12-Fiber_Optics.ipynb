{
"cells": [
 {
		   "cell_type": "markdown",
	   "metadata": {},
	   "source": [
       "# Chapter 12: Fiber Optics"
	   ]
	},
{
		   "cell_type": "markdown",
		   "metadata": {},
		   "source": [
			"## Example 12.1: Specifications_of_an_optical_fibre.sce"
		   ]
		  },
  {
"cell_type": "code",
	   "execution_count": null,
	   "metadata": {
	    "collapsed": true
	   },
	   "outputs": [],
"source": [
"// Scilab code Ex12.1: Pg:463 (2008)\n",
"clc;clear;\n",
"n1 = 1.5;    // Core index of an optical fibre\n",
"n0 = 1;    // Refractive index of air\n",
"delta = 0.0005;    // Intermodal dispersion factor for the fibre\n",
"// Since delta = (n1-n2)/n1, solving for n2\n",
"n2 = n1 - n1*delta;    // Refractive index of cladding\n",
"//As sind(phi_c) = n2/n1, solving for phi_c, we have\n",
"phi_c = asind(n2/n1);    // Critical internal reflection angle, degree\n",
"// As sind(theta_0) = sqrt(n1^2-n2^2)/n0, solving for theta_0\n",
"theta_0 = asind(sqrt(n1^2-n2^2)/n0);    // External critical acceptance angle, degree\n",
"NA = n1*sqrt(2*delta);    // Numerical aperture\n",
"printf('\nThe refractive index of cladding = %7.5f ', n2);\n",
"printf('\nThe critical internal reflection angle = %4.1f degree', phi_c);\n",
"printf('\nThe external critical acceptance angle = %4.2f degree', theta_0);\n",
"printf('\nThe numerical aperture = %6.4f ', NA);\n",
"\n",
"// Result \n",
"// The refractive index of cladding = 1.49925 \n",
"// The critical internal reflection angle = 88.2 degree\n",
"// The external critical acceptance angle = 2.72 degree\n",
"// The numerical aperture = 0.0474  "
   ]
   }
,
{
		   "cell_type": "markdown",
		   "metadata": {},
		   "source": [
			"## Example 12.2: Acceptance_angle_for_fiber_in_water.sce"
		   ]
		  },
  {
"cell_type": "code",
	   "execution_count": null,
	   "metadata": {
	    "collapsed": true
	   },
	   "outputs": [],
"source": [
"// Scilab code Ex12.2: Pg:464 (2008)\n",
"clc;clear;\n",
"n2 = 1.59;    // Cladding refractive index of an optical fibre\n",
"n0 = 1;    // Refractive index when the fiber is in air\n",
"NA = 0.20;    // Numerical aperture of fiber\n",
"// Since NA = sqrt(n_1^2-n_2^2)/n0, solving for n1\n",
"n1 = sqrt(NA^2 + n2^2)/n0;    // Core refractive index of fiber\n",
"// In water, n0 = 1.33\n",
"n0 = 1.33;    // Refractive index of water\n",
"NA = sqrt(n1^2-n2^2)/n0;    // Numerical aperture when the fiber is in water\n",
"theta_max = asind(NA);    // Acceptance angle  for the fiber in water, degree\n",
"printf('\nThe acceptance angle for the fibre = %3.1f degree', theta_max);\n",
"\n",
"// Result\n",
"// The acceptance angle for the fibre = 8.6 degree "
   ]
   }
,
{
		   "cell_type": "markdown",
		   "metadata": {},
		   "source": [
			"## Example 12.3: Normalized_frequency_for_the_fiber.sce"
		   ]
		  },
  {
"cell_type": "code",
	   "execution_count": null,
	   "metadata": {
	    "collapsed": true
	   },
	   "outputs": [],
"source": [
"// Scilab code Ex12.3: Pg:467 (2008)\n",
"clc;clear;\n",
"n1 = 1.45;    // Core refractive index of an fibre\n",
"d = 0.6;    // Core  diameter of fiber, m\n",
"NA = 0.16;    // Numerical aperture of fiber\n",
"lambda_0 = 9e-007;    // Wavelength of light, m\n",
"V = %pi*d*NA/lambda_0;    // Normalized frequency (V-number)for the fiber\n",
"printf('\nThe normalized frequency for fiber = %4.2e ', V);\n",
"\n",
"// Result\n",
"// The normalized frequency for fiber = 3.35e+005"
   ]
   }
,
{
		   "cell_type": "markdown",
		   "metadata": {},
		   "source": [
			"## Example 12.4: Normalized_frequency_and_number_of_modes_for_the_fiber.sce"
		   ]
		  },
  {
"cell_type": "code",
	   "execution_count": null,
	   "metadata": {
	    "collapsed": true
	   },
	   "outputs": [],
"source": [
"// Scilab code Ex12.4: Pg:468 (2008)\n",
"clc;clear;\n",
"n1 = 1.52;    // Core refractive index of an fibre\n",
"d = 29e-06;    // Core  diameter of fiber, m\n",
"delta = 0.0007;    // Fractional difference index\n",
"lambda_0 = 1.3e-06;    // Wavelength of light, m\n",
"// Since delta = (n1-n2)/n1, solving for n2\n",
"n2 = n1-n1*delta;    // Cladding refractive index of fiber\n",
"V = %pi*d*sqrt(n1^2 - n2^2)/lambda_0;    // Normalized frequency for the fiber\n",
"N = 1/2*V^2;    // Number of modes the fiber will support\n",
"printf('\nThe normalized frequency for fiber = %5.3f ', V);\n",
"printf('\nThe number of modes supported by the fiber = %1.0f ', N);\n",
"\n",
"// Result\n",
"// The normalized frequency for fiber = 3.985 \n",
"// The number of modes supported by the fiber = 8 "
   ]
   }
,
{
		   "cell_type": "markdown",
		   "metadata": {},
		   "source": [
			"## Example 12.5: Single_mode_operation_in_step_index_fiber.sce"
		   ]
		  },
  {
"cell_type": "code",
	   "execution_count": null,
	   "metadata": {
	    "collapsed": true
	   },
	   "outputs": [],
"source": [
"// Scilab code Ex12.5: Pg:468 (2008)\n",
"clc;clear;\n",
"// Define function to convert degrees to degree, minute and second\n",
"function [deg, minute, second] = deg2dms(theta)\n",
"    deg = floor(theta);\n",
"    minute = floor((theta-deg)*60);\n",
"    second = floor(((theta-deg)*60-minute)*60);\n",
"endfunction\n",
"n1 = 1.480;    // Core refractive index of an optical fibre\n",
"n2 = 1.47;    // Cladding refractive index of an optical fibre\n",
"lambda_0 = 850e-09;    // wavelength of light, m\n",
"V = 2.405;    // Normalized frequency for single mode propagation of the fibre\n",
"// As V = %pi*d*sqrt(n1^2-n2^2)/lambda_0, solving for d\n",
"d = V*lambda_0/(%pi*sqrt(n1^2-n2^2)*1e-006);    // Core radius, micro-metre\n",
"NA = sqrt(n1^2-n2^2);    // Numerical aperture of the fiber\n",
"// Since sind(theta_0) = NA, solving for theta_0\n",
"theta_0 = asind(NA);    // The maximum acceptance angle of fiber, degree\n",
"[deg, m, s] = deg2dms(theta_0);    // Call conversion function\n",
"printf('\nThe core radius of the fiber = %4.2f micro-meter', d);\n",
"printf('\nThe numerical aperture of fiber = %6.4f ', NA);\n",
"printf('\nThe maximum acceptance angle = %d deg %d min %d sec', deg, m, s);\n",
"\n",
"// Result \n",
"// The core radius of the fiber = 3.79 micro-meter\n",
"// The numerical aperture of fiber = 0.1718 \n",
"// The maximum acceptance angle = 9 deg 53 min 23 sec"
   ]
   }
,
{
		   "cell_type": "markdown",
		   "metadata": {},
		   "source": [
			"## Example 12.6: Output_power_level_in_optical_fiber.sce"
		   ]
		  },
  {
"cell_type": "code",
	   "execution_count": null,
	   "metadata": {
	    "collapsed": true
	   },
	   "outputs": [],
"source": [
"// Scilab code Ex12.6: Pg:473 (2008)\n",
"clc;clear;\n",
"alpha = 3.5;    // Attenuation of optical signal, dB/km\n",
"Pi = 0.5e-003;    // Initial Power level of optical fibre, mW\n",
"L = 4;    // Lenght of optical fibre, km\n",
"// As alpha = (10/L)*log(Pi/Po), solving for Po\n",
"Po = Pi/10^(alpha*L/10);    // Output power level of optical fibre, micro-W\n",
"printf('\nThe output power level in optical fiber = %4.1f micro-W', Po/1e-006);\n",
"// Result \n",
"// The output power level in optical fiber = 19.9 micro-W"
   ]
   }
,
{
		   "cell_type": "markdown",
		   "metadata": {},
		   "source": [
			"## Example 12.7: Attenuation_of_optical_signal.sce"
		   ]
		  },
  {
"cell_type": "code",
	   "execution_count": null,
	   "metadata": {
	    "collapsed": true
	   },
	   "outputs": [],
"source": [
"// Scilab code Ex12.7: Pg:473 (2008)\n",
"clc;clear;\n",
"Pi = 1;    // Initial Power level of optical fibre, mW\n",
"Po = 0.85;    // Output Power level of optical fibre, mW\n",
"L = 0.5;    // Lenght of optical fibre, km\n",
"alpha = (10/L)*log10(Pi/Po);    // Attenuation of optical signal, dB/km\n",
"printf('\nThe attenuation of optical signal = %4.2f dB/km', alpha);\n",
"\n",
"// Result \n",
"// The attenuation of optical signal = 1.41 dB/km "
   ]
   }
,
{
		   "cell_type": "markdown",
		   "metadata": {},
		   "source": [
			"## Example 12.8: EX12_8.sce"
		   ]
		  },
  {
"cell_type": "code",
	   "execution_count": null,
	   "metadata": {
	    "collapsed": true
	   },
	   "outputs": [],
"source": [
"// Scilab code Ex12.8: Pg:477 (2008)\n",
"clc;clear;\n",
"c = 3e+008;    // Speed of light, m/s\n",
"n1 = 1.5;    // Core index of an optical fibre\n",
"n2 = 1.498;    // Cladding index of an optical fibre\n",
"l = 18;    // Length of an optical fibre, km\n",
"D = (n1-n2)/n1;    // Intermodal dispersion factor for the fibre\n",
"// For a 1 km length fibre\n",
"delta = n1*1000/c*D/(1-D)*1e+009;    // intermodal dispersion factor for 1 km length fibre, ns/km\n",
"delta_t_total = delta*l;    // Total dispersion in 18 km length, ns\n",
"B_max = 1/(5*delta_t_total*1e-009);    // Maximum bit rate, bits/sec\n",
"printf('\nThe intermodal dispersion factor for 1 km length fibre = %4.2f ns/km', delta );\n",
"printf('\nThe total dispersion in 18 km length fibre = %5.1f ns', delta_t_total);\n",
"printf('\nThe maximum bit rate allowed asuuming dispersion limiting = %4.2f M bits/s',B_max/1e+006);\n",
"\n",
"// Result\n",
"// The intermodal dispersion factor for 1 km length fibre = 6.68 ns/km\n",
"// The total dispersion in 18 km length fibre = 120.2 ns\n",
"// The maximum bit rate allowed asuuming dispersion limiting = 1.66 M bits/s  "
   ]
   }
,
{
		   "cell_type": "markdown",
		   "metadata": {},
		   "source": [
			"## Example 12.9: Initial_power_level_of_an_optical_fibre.sce"
		   ]
		  },
  {
"cell_type": "code",
	   "execution_count": null,
	   "metadata": {
	    "collapsed": true
	   },
	   "outputs": [],
"source": [
"// Scilab code Ex12.9:Pg:478 (2008)\n",
"clc;clear;\n",
"P2 = 0.3e-006;    // Optical power level at the detector, W\n",
"dB_1 = 0.8*15;    // Connector loss, dB\n",
"dB_2 = 1.5*15;    // Fibre loss, dB\n",
"dB = dB_1 + dB_2;    // Total Loss, dB\n",
"// As dB = 10*log10(P1/P2), solving for P1\n",
"P1 = P2*10^(dB/10)/1e-003;    // Initial power level of an optical fibre, mw\n",
"printf('\nThe initial power level of an optical fibre = %4.2f mW',P1 );\n",
"\n",
"// Result \n",
"// The initial power level of an optical fibre = 0.85 mW "
   ]
   }
],
"metadata": {
		  "kernelspec": {
		   "display_name": "Scilab",
		   "language": "scilab",
		   "name": "scilab"
		  },
		  "language_info": {
		   "file_extension": ".sce",
		   "help_links": [
			{
			 "text": "MetaKernel Magics",
			 "url": "https://github.com/calysto/metakernel/blob/master/metakernel/magics/README.md"
			}
		   ],
		   "mimetype": "text/x-octave",
		   "name": "scilab",
		   "version": "0.7.1"
		  }
		 },
		 "nbformat": 4,
		 "nbformat_minor": 0
}
