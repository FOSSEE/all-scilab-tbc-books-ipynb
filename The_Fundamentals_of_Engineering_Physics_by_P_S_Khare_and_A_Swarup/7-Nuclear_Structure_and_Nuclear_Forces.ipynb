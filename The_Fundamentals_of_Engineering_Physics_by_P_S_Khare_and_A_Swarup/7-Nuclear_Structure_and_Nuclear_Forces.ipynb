{
"cells": [
 {
		   "cell_type": "markdown",
	   "metadata": {},
	   "source": [
       "# Chapter 7: Nuclear Structure and Nuclear Forces"
	   ]
	},
{
		   "cell_type": "markdown",
		   "metadata": {},
		   "source": [
			"## Example 7.10: Total_energy_in_fission_of_uranium_reaction_in_MeV_and_kilowatt_hours.sce"
		   ]
		  },
  {
"cell_type": "code",
	   "execution_count": null,
	   "metadata": {
	    "collapsed": true
	   },
	   "outputs": [],
"source": [
"// Scilab code Ex7.10: Pg:306 (2008)\n",
"clc;clear;\n",
"m_u = 235.0439;    // Mass of uranium, amu\n",
"m_n = 1.0087;    // Mass of neutron, amu\n",
"m_Ba = 140.9139;    // Mass of Barium, amu\n",
"m_Kr = 91.8937;    // Mass of Krypton, amu\n",
"M_1 = m_u + m_n;    // Sum of masses before reaction, amu\n",
"M_2 = m_Ba + m_Kr + 3*m_n;    // Sum of masses after reaction, amu\n",
"delta_m = M_1 -M_2;    // Mass lost in the fission, amu\n",
"// Since the number of atoms in 235 g of Uranium is 6.02e+023\n",
"N = 6.02e+023/235;    // Number of atoms in one gm of U-235\n",
"// Since energy equivalent of 1 amu is 931.5MeV\n",
"E_MeV = delta_m*N*931.5;    // Energy released in fission of Uranium 235, MeV\n",
"printf('\nTotal energy in fission of uranium reaction in MeV = %4.2e MeV ', E_MeV);\n",
"E_kWh = E_MeV*1.6e-013/3.6e+06;    // Energy released in fission of Uranium 235, kWh\n",
"printf('\nTotal energy in fission of uranium reaction in kiloWatt hour = %4.2e kWh', E_kWh);\n",
"\n",
"// Result \n",
"// Total energy in fission of uranium reaction in MeV = 5.22e+023 MeV \n",
"// Total energy in fission of uranium reaction in kiloWatt hour = 2.32e+004 kWh "
   ]
   }
,
{
		   "cell_type": "markdown",
		   "metadata": {},
		   "source": [
			"## Example 7.11: Uranium_undergoing_fission_in_a_nuclear_reactor.sce"
		   ]
		  },
  {
"cell_type": "code",
	   "execution_count": null,
	   "metadata": {
	    "collapsed": true
	   },
	   "outputs": [],
"source": [
"// Scilab code Ex7.11: Pg:307 (2008)\n",
"clc;clear;\n",
"P = 3.2e+07/1.6e-013;    // Power developed by the reactor, MeV\n",
"E = 200;    // Energy released by the reactor per fission, MeV\n",
"n = P/E;    // Number of fissions occuring in the reactor per second, per sec\n",
"N = n*1000*3600;    // Number of atoms or nuclei of Uranium 235 consumed in 1000 hours\n",
"// Since the number of atoms in 235 g of Uranium is 6e+023\n",
"M = N/6e+023*235/1000;    // Mass of Uranium 235 consumed in 1000 hours, kg\n",
"printf('\nThe number of atoms of Uranium 235 undergoing fission per second = %4.1e ', N);\n",
"printf('\nThe mass of Uranium 235 consumed in 1000 hours = %4.2f kg ', M);\n",
"\n",
"// Result \n",
"// The number of atoms of Uranium 235 undergoing fission per second = 3.6e+024 \n",
"// The mass of Uranium 235 consumed in 1000 hours = 1.41 kg  "
   ]
   }
,
{
		   "cell_type": "markdown",
		   "metadata": {},
		   "source": [
			"## Example 7.12: Energy_liberated_by_the_fission_of_one_kg_of_substance.sce"
		   ]
		  },
  {
"cell_type": "code",
	   "execution_count": null,
	   "metadata": {
	    "collapsed": true
	   },
	   "outputs": [],
"source": [
"// Scilab code Ex7.12: Pg:307 (2008)\n",
"clc;clear;\n",
"c = 3e+08;    // Velocity of light, m/s\n",
"delta_m =0.1/100*1;    // Mass lost in one kg of substance, kg\n",
"delta_E = delta_m*c^2;    // Energy liberated by the fission of one kg of substance, joule\n",
"// Since 1kWh = 1000 watt*3600 sec = 3.6e+06 joule\n",
"delta_E = delta_m*c^2/3.6e+06;    // Energy liberated by the fission of one kg of substance, kWh\n",
"printf('\nThe energy liberated by the fission of one kg of substance = %3.2e kWh', delta_E);\n",
"\n",
"// Result \n",
"// The energy liberated by the fission of one kg of substance = 2.50e+007 kWh "
   ]
   }
,
{
		   "cell_type": "markdown",
		   "metadata": {},
		   "source": [
			"## Example 7.13: Total_energy_released_in_the_fission_of_uranium_235.sce"
		   ]
		  },
  {
"cell_type": "code",
	   "execution_count": null,
	   "metadata": {
	    "collapsed": true
	   },
	   "outputs": [],
"source": [
"// Scilab code Ex7.13: Pg:308 (2008)\n",
"clc;clear;\n",
"P = 2/1.6e-013;    // Power to be produced, MeV/sec\n",
"E_bar = 200;    // Energy released per fission, MeV\n",
"n = P/E_bar;    // Required number of fissions per second\n",
"// Since the number of atoms in 235gm of Uranium is 6.02e+023\n",
"N = (6.02e+023/235)*500;    // Number of atoms in 500 gm of U-235\n",
"E = E_bar*N;    // Total energy released in the complete fission of 500gm of uranium 235, MeV\n",
"printf('\nThe total energy released in the complete fission of 500gm of uranium 235 = %4.2e MeV', E);\n",
"\n",
"// Result \n",
"// The total energy released in the complete fission of 500gm of uranium 235 = 2.56e+026 MeV "
   ]
   }
,
{
		   "cell_type": "markdown",
		   "metadata": {},
		   "source": [
			"## Example 7.14: Energy_source_in_stars.sce"
		   ]
		  },
  {
"cell_type": "code",
	   "execution_count": null,
	   "metadata": {
	    "collapsed": true
	   },
	   "outputs": [],
"source": [
"// Scilab code Ex7.14: Pg:309 (2008)\n",
"clc;clear;\n",
"amu = 931.5;    // Energy equivalent of 1 amu, MeV\n",
"M_He = 4.00260;    // Mass of helium, amu\n",
"m_e = 0.00055;    // Mass of electron, amu\n",
"M_C = 12.000;    // Mass of carbon, amu\n",
"m_He = M_He - 2*m_e;    // Mass of helium nucleus, amu\n",
"m_C = M_C - 6*m_e;    // Mass of carbon nucleus, amu\n",
"d_m = 3*m_He - m_C;    // Mass defect, amu\n",
"E = d_m*amu;    // Equivalent energy of mass defect, MeV\n",
"printf('\nThe energy invloved in each fusion reaction inside the star = %4.2f MeV', E);\n",
"\n",
"// Result \n",
"// The energy invloved in each fusion reaction inside the star = 7.27 MeV"
   ]
   }
,
{
		   "cell_type": "markdown",
		   "metadata": {},
		   "source": [
			"## Example 7.15: Average_current_in_the_Geiger_Muller_circuit.sce"
		   ]
		  },
  {
"cell_type": "code",
	   "execution_count": null,
	   "metadata": {
	    "collapsed": true
	   },
	   "outputs": [],
"source": [
"// Scilab code Ex7.15: Pg:311 (2008)\n",
"clc;clear;\n",
"r = 500;    // Counting rate of Geiger-Muller counter, counts/minute\n",
"n = r*1e+08;    // Number of electrons collected per minute\n",
"q = n*1.6e-019;    // Charge per minute, coulomb per minute\n",
"I = q/60;    // Charge per second, coulomb per second\n",
"printf('\nThe average current in the Geiger-Muller counter circuit = %4.2e ampere ', I);\n",
"\n",
"// Result \n",
"// The average current in the Geiger-Muller counter circuit = 1.33e-010 ampere "
   ]
   }
,
{
		   "cell_type": "markdown",
		   "metadata": {},
		   "source": [
			"## Example 7.16: Mass_of_the_particle_in_an_Aston_mass_spectrograph.sce"
		   ]
		  },
  {
"cell_type": "code",
	   "execution_count": null,
	   "metadata": {
	    "collapsed": true
	   },
	   "outputs": [],
"source": [
"// Scilab code Ex7.16: Pg 315 (2008)\n",
"clc;clear;\n",
"m1 = 12;    // Mass of first trace, unit\n",
"m2 = 16;    // Mass of second trace, unit\n",
"d = 4.8;    // Distance between the traces, cm\n",
"D = [8.4, -8.4];    // Distance of the mark from the trace of mass 16\n",
"x = poly(0, 'x');\n",
"x = roots(m1*x-m2*(x-d));    // The distance of the mark from the trace of mass 16\n",
"M = m2*(x+D)/x;    // Mass of the particle whose trace is at a distance of 8.4 cm from the trace of mass 16\n",
"printf('\nThe mass of the particle whose trace is at a distance of 8.4 cm from the trace of mass 16 = %d or %d', M(1), M(2));\n",
"\n",
"// Result \n",
"// The mass of the particle whose trace is at a distance of 8.4 cm from the trace of mass 16 = 23 or 9 "
   ]
   }
,
{
		   "cell_type": "markdown",
		   "metadata": {},
		   "source": [
			"## Example 7.1: Binding_energy_of_an_alpha_particle.sce"
		   ]
		  },
  {
"cell_type": "code",
	   "execution_count": null,
	   "metadata": {
	    "collapsed": true
	   },
	   "outputs": [],
"source": [
"// Scilab code Ex7.1: Pg:275 (2008)\n",
"clc;clear;\n",
"M_He = 4.001265;    // Mass of helium nucleus, amu\n",
"M_P = 1.007277;    // Mass of proton, amu\n",
"M_N = 1.008666;    // Mass of neutron, amu\n",
"amu = 931.4812;    // One amu\n",
"M = 2*M_P+2*M_N;    // Total initial mass of two protons and two neutrons, amu\n",
"delta_m = M-M_He;    // Mass defect, amu\n",
"BE = delta_m * amu;    // Binding energy of alpha particle, MeV\n",
"printf('\nThe binding energy of an alpha particle = %7.4f Mev', BE);\n",
"printf('\nThe binding energy per nucleon = %8.6f Mev', BE/4);\n",
"\n",
"// Result \n",
"// The binding energy of an alpha particle = 28.5229 Mev\n",
"// The binding energy per nucleon = 7.130721 Mev "
   ]
   }
,
{
		   "cell_type": "markdown",
		   "metadata": {},
		   "source": [
			"## Example 7.2: EX7_2.sce"
		   ]
		  },
  {
"cell_type": "code",
	   "execution_count": null,
	   "metadata": {
	    "collapsed": true
	   },
	   "outputs": [],
"source": [
"// Scilab code Ex7.2: Pg:275 (2008)\n",
"clc;clear;\n",
"M_H = 1e-03;    // Mass of hydrogen, kg\n",
"M_He = 0.993e-03;    // Mass of helium, kg\n",
"delta_m = M_H-M_He;    // Mass defect, amu\n",
"c = 3e+08;    // Velocity of light, m/s\n",
"E = delta_m*c^2;    // Energy released, joules\n",
"EL = (5/100)*E/36e+05;    // Electrical energy, kilowatt hour\n",
"printf('\nThe energy released in joule in a thermonuclear reaction = %4.1e joule', E);\n",
"printf('\nThe electrical energy in kilowatt hours in a thermonuclear reaction = %4.2e kilowatt hour', EL);\n",
"\n",
"// Result \n",
"// The energy released in joule in a thermonuclear reaction = 6.3e+011 joule\n",
"// The electrical energy in kilowatt hours in a thermonuclear reaction = 8.75e+003 kilowatt hour"
   ]
   }
,
{
		   "cell_type": "markdown",
		   "metadata": {},
		   "source": [
			"## Example 7.3: Energy_produced_when_a_neutron_breaks_into_a_proton_and_electron.sce"
		   ]
		  },
  {
"cell_type": "code",
	   "execution_count": null,
	   "metadata": {
	    "collapsed": true
	   },
	   "outputs": [],
"source": [
"// Scilab code Ex7.3: Pg:276 (2008)\n",
"clc;clear;\n",
"M_n = 1.6747e-027;    // Mass of neutron, kg\n",
"M_p = 1.6725e-027;    // Mass of proton, kg\n",
"M_e = 9e-031;    // Mass of electron, kg\n",
"c = 3e+08;    // Velocity of light, m/s\n",
"delta_m = M_n-(M_p + M_e);    // Mass defect, kg\n",
"E = delta_m*c^2/1.6e-013;    // Energy released, MeV\n",
"printf('\nThe energy produced when a neutron breaks into a proton and an electron  = %4.2f MeV', E);\n",
"\n",
"// Result \n",
"// The energy produced when a neutron breaks into a proton and an electron  = 0.73 MeV"
   ]
   }
,
{
		   "cell_type": "markdown",
		   "metadata": {},
		   "source": [
			"## Example 7.4: Magnetic_field_to_accelerate_protons.sce"
		   ]
		  },
  {
"cell_type": "code",
	   "execution_count": null,
	   "metadata": {
	    "collapsed": true
	   },
	   "outputs": [],
"source": [
"// Scilab code Ex7.4: Pg:288 (2008)\n",
"clc;clear;\n",
"f0 = 8e+06;    // Cyclotron frequency, c/s\n",
"c = 3e+010;    // Speed of light, cm/s\n",
"m = 1.67e-024;    // Mass of proton, gm\n",
"q = 4.8e-010/c;    // Charge on a proton, esu\n",
"// Since the cyclotron frequency is given by fo = q*B/2*%pi*m. On solving it for B, we have \n",
"B = 2*%pi*m*f0/q;    // Magnetic field, Weber per meter square \n",
"printf('\nThe magnetic field to accelerate protons = %5.3f Wb per Sq. m', B/1e+04);\n",
"\n",
"// Result \n",
"// The magnetic field to accelerate protons = 0.525 Wb per Sq. m "
   ]
   }
,
{
		   "cell_type": "markdown",
		   "metadata": {},
		   "source": [
			"## Example 7.5: Velocity_and_energy_of_deutron.sce"
		   ]
		  },
  {
"cell_type": "code",
	   "execution_count": null,
	   "metadata": {
	    "collapsed": true
	   },
	   "outputs": [],
"source": [
"// Scilab code Ex7.5: Pg:288 (2008)\n",
"clc;clear;\n",
"m = 3.34e-027;    // Mass of deutron, gm\n",
"q = 1.6e-019;    // Charge, coulomb\n",
"r = 0.2;    // Radius of the path of deutron, meter\n",
"B = 1.5;    // Magnetic field, weber per meter square\n",
"v = q*B*r/m;    // velocity of the deutron, m/s\n",
"E = 1/2*m*v^2/1.6e-013;    // Energy of the deutron, MeV\n",
"printf('\nThe velocity of deutron = %5.3e m/s ', v);\n",
"printf('\nThe energy of deutron = %5.3f MeV ', E);\n",
"\n",
"// Result \n",
"// The velocity of deutron = 1.437e+007 m/s \n",
"// The energy of deutron = 2.156 MeV  "
   ]
   }
,
{
		   "cell_type": "markdown",
		   "metadata": {},
		   "source": [
			"## Example 7.6: Energy_of_an_electron_undergoing_revolutions_in_a_betatron.sce"
		   ]
		  },
  {
"cell_type": "code",
	   "execution_count": null,
	   "metadata": {
	    "collapsed": true
	   },
	   "outputs": [],
"source": [
"// Scilab code Ex7.6: Pg:293 (2008)\n",
"clc;clear;\n",
"dE = 15/1e+006;    // Increase in energy per revolution, MeV\n",
"n = 1e+006;    // Number of revolutions\n",
"E = dE*n;    // Final energy of an electron after 10e+06 revolutions, MeV\n",
"printf('\nThe energy of an electron undergoing revolutions = %2.0f MeV ', E);\n",
"\n",
"// Result \n",
"// The energy of an electron undergoing revolutions = 15 MeV  "
   ]
   }
,
{
		   "cell_type": "markdown",
		   "metadata": {},
		   "source": [
			"## Example 7.7: Final_energy_and_average_energy_gained_per_revolution_by_electron.sce"
		   ]
		  },
  {
"cell_type": "code",
	   "execution_count": null,
	   "metadata": {
	    "collapsed": true
	   },
	   "outputs": [],
"source": [
"// Scilab code Ex7.7: Pg:294 (2008)\n",
"clc;clear;\n",
"c = 3e+08;    // Velocity of light, m/s\n",
"e = 1.6e-019;    // Charge of an electron, coulomb\n",
"B = 0.5;    // Maximum magnetic field at the electron orbit, Weber per meter square\n",
"R = 0.75;    // Radius of the orbit, meter\n",
"omega = 50;    // frequency of alternating current through electromagnetic coils, Hz\n",
"N = c/(4*2*%pi*omega*R);    // Number of revolutions\n",
"E = B*e*R*c/(e*1e+006);    // Final energy of the electrons, MeV\n",
"E_av = E*1e+06/N;    // Average energy per revolution, eV\n",
"printf('\nThe final energy of electron = %5.1f MeV ', E);\n",
"printf('\nThe average energy of electron = %3.0f eV ', E_av);\n",
"\n",
"// Result \n",
"// The final energy of electron = 112.5 MeV \n",
"// The average energy of electron = 353 eV  \n",
"// The answer is wrong in the textbook"
   ]
   }
,
{
		   "cell_type": "markdown",
		   "metadata": {},
		   "source": [
			"## Example 7.8: Energy_per_revolution_of_an_electron.sce"
		   ]
		  },
  {
"cell_type": "code",
	   "execution_count": null,
	   "metadata": {
	    "collapsed": true
	   },
	   "outputs": [],
"source": [
"// Scilab code Ex7.8: Pg:295 (2008)\n",
"clc;clear;\n",
"c = 3e+08;    // Velocity of light, m/s\n",
"e = 1.6e-019;    // Charge of an electron, coulomb\n",
"B = 0.5;    // Maximum magnetic field at the electron orbit, Weber per meter square\n",
"D = 1.5;    // Diameter of the orbit, meter \n",
"R = D/2;    // Radius of the orbit, meter\n",
"omega = 50;    // frequency of alternating current through electromagnetic coils, Hz\n",
"N = c/(4*2*%pi*omega*R);    // Number of revolutions\n",
"E = B*e*R*c/1.6e-013;    // Final energy of the electrons, MeV\n",
"E_av = (E*1e+06)/N;    // Average energy per revolution, eV\n",
"printf('\nThe energy per revolution of the electron = %4.1f eV ', E);\n",
"printf('\nThe average energy of electron = %3.0f eV ', E_av);\n",
"\n",
"// Result \n",
"// The energy per revolution of the electron = 112.5 eV \n",
"// The average energy of electron = 353 eV \n",
"// The answer is given wrong in the textbook"
   ]
   }
,
{
		   "cell_type": "markdown",
		   "metadata": {},
		   "source": [
			"## Example 7.9: Thermal_neutrons_capture.sce"
		   ]
		  },
  {
"cell_type": "code",
	   "execution_count": null,
	   "metadata": {
	    "collapsed": true
	   },
	   "outputs": [],
"source": [
"// Scilab code Ex7.9: Pg:298 (2008)\n",
"clc;clear;\n",
"sigma = 2e+04*1e-028;    // Nuclear reaction cross-section, Sq.m\n",
"x = 1e-04;    // Thickness of the sheet, meter\n",
"m = 112;    // Mean atomic mass of cadmium, amu\n",
"rho = 8.64e+03;    // Density of cadmium sheet, kg per cubic meter\n",
"amu = 1.66e-027;    // Mass equivalent of 1 amu, kg\n",
"// Since cadmium 113 contains 12 percent of natural cadmium. Thus \n",
"n = 12/100*rho/(m*amu);    // Number of nuclei per unit volume, atoms per cubic meter\n",
"n_sigma = n*sigma;    // Microscopic cross-section, per length\n",
"// As N = N0*exp(-n*sigma*x), so that (N - N0)/N0 = 1-exp(-n_sigma*x)\n",
"frac_N = 1-exp(-n_sigma*x);\n",
"N0 = 1;    // For simlicity assume number of incident neutrons be unity\n",
"N = 1/100*N0;    // Given number of neutrons which pass through cadmium sheet\n",
"x = -log(N/N0)/n_sigma*1e+003;    // Thickness of the cadmium sheet when one percent of the incident neutrons pass through the cadmium sheet, mm\n",
"printf('\nThe fraction of the incident thermal neutrons absorbed by the cadmium sheet = %4.2f ', frac_N);\n",
"printf('\nThe thickness of the cadmium sheet when one percent of the incident neutrons pass through the cadmium sheet = %4.2f mm', x);\n",
"\n",
"// Result \n",
"// The fraction of the incident thermal neutrons absorbed by the cadmium sheet = 0.67 \n",
"// The thickness of the cadmium sheet when one percent of the incident neutrons pass through the cadmium sheet = 0.41 mm "
   ]
   }
],
"metadata": {
		  "kernelspec": {
		   "display_name": "Scilab",
		   "language": "scilab",
		   "name": "scilab"
		  },
		  "language_info": {
		   "file_extension": ".sce",
		   "help_links": [
			{
			 "text": "MetaKernel Magics",
			 "url": "https://github.com/calysto/metakernel/blob/master/metakernel/magics/README.md"
			}
		   ],
		   "mimetype": "text/x-octave",
		   "name": "scilab",
		   "version": "0.7.1"
		  }
		 },
		 "nbformat": 4,
		 "nbformat_minor": 0
}
