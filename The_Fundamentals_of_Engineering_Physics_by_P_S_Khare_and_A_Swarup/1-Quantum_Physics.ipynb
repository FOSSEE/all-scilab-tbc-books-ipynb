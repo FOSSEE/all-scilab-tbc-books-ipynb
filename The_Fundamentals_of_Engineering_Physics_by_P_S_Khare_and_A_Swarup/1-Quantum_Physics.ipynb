{
"cells": [
 {
		   "cell_type": "markdown",
	   "metadata": {},
	   "source": [
       "# Chapter 1: Quantum Physics"
	   ]
	},
{
		   "cell_type": "markdown",
		   "metadata": {},
		   "source": [
			"## Example 1.10: Maximum_speed_of_electrons_striking_anticathode_in_an_X_ray_tube.sce"
		   ]
		  },
  {
"cell_type": "code",
	   "execution_count": null,
	   "metadata": {
	    "collapsed": true
	   },
	   "outputs": [],
"source": [
"// Scilab code Ex1.10: Pg:36 (2008)\n",
"clc;clear;\n",
"m = 9.13e-031;    // Mass of an electron, kg\n",
"e = 1.6e-019;    // Charge of electron, coulomb\n",
"V = 20000;    // Potential difference applied between cathode and anode, volt\n",
"// Since (1/2)*m*v^2 = e*V, solving for v\n",
"v = sqrt(2*e*V/m);    // Maximum speed of electrons striking the anti cathode, m/s\n",
"printf('\nThe maximum speed of electrons striking anticathode in an X-ray tube = %4.2e m/s', v);\n",
"\n",
"// Result \n",
"// The maximum speed of electrons striking anticathode in an X-ray tube = 8.37e+007 m/s  "
   ]
   }
,
{
		   "cell_type": "markdown",
		   "metadata": {},
		   "source": [
			"## Example 1.11: Shortest_wavelength_of_X_rays_in_an_X_ray_tube.sce"
		   ]
		  },
  {
"cell_type": "code",
	   "execution_count": null,
	   "metadata": {
	    "collapsed": true
	   },
	   "outputs": [],
"source": [
"// Scilab code Ex1.11:  Pg:36 (2008)\n",
"clc;clear;\n",
"h = 6.62e-034;    // Planck's constant, joule-sec\n",
"c = 3e+08;    // Velocity of light, m/s\n",
"m = 9.13e-031;    // Mass of an electron, kg\n",
"e = 1.6e-019;    // Charge of electron, coulomb\n",
"V = 18000;    // Potential difference applied between cathode and anode, volts\n",
"E = e*V;    // Energy of the electron, joule\n",
"// Since energy of X-rays is equal to energy of the electron thus\n",
"// h*c/Lambda = e*V, solving for Lambda\n",
"Lambda = h*c/E;    // Wavelength of X-rays, angstorm\n",
"printf('\nThe shortest wavelength of X-rays in an X-ray tube = %4.2f angstorm', Lambda/1e-010);\n",
"\n",
"// Result \n",
"// The shortest wavelength of X-rays in an X-ray tube = 0.69 angstorm "
   ]
   }
,
{
		   "cell_type": "markdown",
		   "metadata": {},
		   "source": [
			"## Example 1.12: Energy_and_velocity_of_an_electron_beam.sce"
		   ]
		  },
  {
"cell_type": "code",
	   "execution_count": null,
	   "metadata": {
	    "collapsed": true
	   },
	   "outputs": [],
"source": [
"// Scilab code Ex1.12:  Pg:37 (2008)\n",
"clc;clear;\n",
"Lambda = 1e-010;    // Wavelength of X-rays, cm\n",
"c = 3e+08;    // Velocity of light, m/s\n",
"m = 9.13e-031;    // Mass of an electron, kg\n",
"h = 6.62e-034;    // Planck's constant, joule-sec\n",
"e = 1.6e-019;    // Charge of electron, coulomb\n",
"f = c/Lambda;    // Frequency of X-rays, cycles/sec\n",
"E = h*f;    // Energy of X-ray photon, joule\n",
"// Since energy of X-ray photon is converted into energy of electrons thus\n",
"// h*f = (1/2)*m*v^2, solving for v\n",
"v = sqrt(2*h*f/m);    // Velocity of the electron, m/s\n",
"printf('\nThe energy of an electron beam = %5.0f eV', E/e);\n",
"printf('\nThe velocity of an X-ray beam = %5.3e m/s', v);\n",
"\n",
"// Result \n",
"// The energy of an electron beam = 12413 eV\n",
"// The velocity of an X-ray beam = 6.596e+007 m/s"
   ]
   }
,
{
		   "cell_type": "markdown",
		   "metadata": {},
		   "source": [
			"## Example 1.13: Minimum_voltage_applied_to_an_X_ray_tube_to_produce_X_rays.sce"
		   ]
		  },
  {
"cell_type": "code",
	   "execution_count": null,
	   "metadata": {
	    "collapsed": true
	   },
	   "outputs": [],
"source": [
"// Scilab code Ex1.13:  Pg:37 (2008)\n",
"clc;clear;\n",
"Lambda = 1e-010;    // Wavelength of X-rays, m\n",
"c = 3e+08;    // Velocity of light, m/s\n",
"h = 6.625e-034;    // Planck's constant, joule-sec\n",
"e = 1.6e-019;    // Charge of electron, coulomb\n",
"E = h*c/Lambda;    // Energy of X-rays, cycles/sec\n",
"// Since h*c/Lambda = e*V, solving for V\n",
"V = E/e;    // voltage applied to an X-ray tube, volts\n",
"printf('\nThe minimum voltage applied to an X-ray tube to produce X-rays = %5.2e volt', V);\n",
"\n",
"// Result \n",
"// The minimum voltage applied to an X-ray tube to produce X-rays = 1.24e+004 volt"
   ]
   }
,
{
		   "cell_type": "markdown",
		   "metadata": {},
		   "source": [
			"## Example 1.14: Wavelength_of_X_rays_in_Bragg_reflection.sce"
		   ]
		  },
  {
"cell_type": "code",
	   "execution_count": null,
	   "metadata": {
	    "collapsed": true
	   },
	   "outputs": [],
"source": [
"// Scilab code Ex1.14: Pg:43 (2008)\n",
"clc;clear;\n",
"d = 2.82e-008;    // Interplanar spacing in sodium chloride crystal, cm\n",
"n = 1;    // Order of reflection\n",
"theta = 10;    // Glancing angle, degree\n",
"// Since 2*d*sin theta = n*Lambda, solving for Lambda\n",
"Lambda = 2*d*sind(theta);    // Wavelength of X-rays in Bragg's reflection, cm\n",
"printf('\nThe wavelength of X-rays in Bragg reflection = %4.2f angstrom', Lambda/1e-008);\n",
"\n",
"// Result \n",
"// The wavelength of X-rays in Bragg reflection = 0.98 angstrom"
   ]
   }
,
{
		   "cell_type": "markdown",
		   "metadata": {},
		   "source": [
			"## Example 1.15: Glancing_angle_for_the_first_order_Bragg_spectrum_in_Sylvine_crystal.sce"
		   ]
		  },
  {
"cell_type": "code",
	   "execution_count": null,
	   "metadata": {
	    "collapsed": true
	   },
	   "outputs": [],
"source": [
"// Scilab code Ex1.15: Pg:44 (2008)\n",
"clc;clear;\n",
"function [deg, minute] = deg2min(theta)\n",
"    deg = floor(theta);\n",
"    minute = (theta-deg)*60;\n",
"endfunction\n",
"d = 3.14e-010;    // Interplanar spacing in sylvine crystal, cm\n",
"n = 1;    // Order of reflectio\n",
"h = 6.62e-034;    // Planck's constant, joule-sec\n",
"c = 3e+08;    // Velocity of light, m/s\n",
"E = 0.01*1e+06*1.6e-019;    // Energy of X-ray beam, joule\n",
"Lambda = h*c/E;    // Wavelength of X-rays, m\n",
"// Since 2*d*sin theta = n*Lambda, solving for theta\n",
"theta = asind(n*Lambda)/(2*d)    // Glancing angle, degree\n",
"[deg, minute] = deg2min(theta);\n",
"printf('\nThe glancing angle for the first order Bragg spectrum in Sylvine crystal = %2d degree %2d minute', deg, minute);\n",
"\n",
"// Result\n",
"// The glancing angle for the first order Bragg spectrum in Sylvine crystal = 11 degree 19 minute\n",
"// The answer is given wrongly in the textbook"
   ]
   }
,
{
		   "cell_type": "markdown",
		   "metadata": {},
		   "source": [
			"## Example 1.1: de_Broglie_wavelength_of_a_golf_ball_and_sub_atomic_particles.sce"
		   ]
		  },
  {
"cell_type": "code",
	   "execution_count": null,
	   "metadata": {
	    "collapsed": true
	   },
	   "outputs": [],
"source": [
"// Scilab code Ex1.1 : Pg:18 (2008)\n",
"clc;clear;\n",
"e = 1.6e-019;    // Energy equivalent of 1 eV, J\n",
"m = 0.05;    // Mass of the golf ball, kg\n",
"v = 20;    // Velocity of golf ball, m/s\n",
"h = 6.625e-034;    // Planck's constant, joule-sec\n",
"Lambda1 = h/(m*v);    // de Broglie wavelength of a golf ball, m\n",
"m = 1.67e-027;    // mass of proton, kg\n",
"v = 2200;    // Velocity of proton, m/s\n",
"Lambda2 = h/(m*v);    // de Broglie wavelength of a proton, m\n",
"E = 10*e;    // Kinetic energy of an electron, eV\n",
"m = 9.11e-031;    // Mass of electron, kg\n",
"Lambda3 = h/sqrt(2*m*E);    // de Broglie wavelength of an electron, m\n",
"printf('\nThe de-Broglie wavelength of a golf ball = %5.3e m', Lambda1);\n",
"printf('\nThe de-Broglie wavelength of a proton = %4.2e m', Lambda2);\n",
"printf('\nThe de-Broglie wavelength of a electron = %3.1f m', Lambda3/1e-010);\n",
"\n",
"// Result \n",
"// The de-Broglie wavelength of a golf ball = 6.625e-034 m\n",
"// The de-Broglie wavelength of a proton = 1.80e-010 m\n",
"// The de-Broglie wavelength of a electron = 3.9 m"
   ]
   }
,
{
		   "cell_type": "markdown",
		   "metadata": {},
		   "source": [
			"## Example 1.2: de_Broglie_wavelength_of_an_electron.sce"
		   ]
		  },
  {
"cell_type": "code",
	   "execution_count": null,
	   "metadata": {
	    "collapsed": true
	   },
	   "outputs": [],
"source": [
"// Scilab code Ex1.2: : Pg:19 (2008)\n",
"clc; clear;\n",
"V = 100;    // potential difference, volt\n",
"Lambda = 12.25/sqrt(V);    // de Broglie wavelength, angstorm\n",
"printf('\nThe de-Broglie wavelength of an electron = %5.3f angstorm', Lambda);\n",
"\n",
"// Result \n",
"// The de-Broglie wavelength of an electron = 1.225 angstorm "
   ]
   }
,
{
		   "cell_type": "markdown",
		   "metadata": {},
		   "source": [
			"## Example 1.3: de_Broglie_wavelength_of_a_proton.sce"
		   ]
		  },
  {
"cell_type": "code",
	   "execution_count": null,
	   "metadata": {
	    "collapsed": true
	   },
	   "outputs": [],
"source": [
"// Scilab code Ex1.3: : Pg:19 (2008)\n",
"clc;clear;\n",
"m = 1.67e-027;    // Mass of proton, kg\n",
"h = 6.62e-034;    // Planck's constant, joule-sec\n",
"c = 3e+08;    // Velocity of light, m/s\n",
"v = c/20;    // Velocity of proton, m/sec\n",
"Lambda = h/(m*v);    // de-Broglie wavelength of a proton, m\n",
"printf('\nThe de-Broglie wavelength of a proton = %4.2e m', Lambda);\n",
"\n",
"// Result \n",
"// The de-Broglie wavelength of a proton = 2.64e-014 m "
   ]
   }
,
{
		   "cell_type": "markdown",
		   "metadata": {},
		   "source": [
			"## Example 1.4: Energy_of_neutron_in_electron_volt.sce"
		   ]
		  },
  {
"cell_type": "code",
	   "execution_count": null,
	   "metadata": {
	    "collapsed": true
	   },
	   "outputs": [],
"source": [
"// Scilab code Ex1.4: Pg:19 (2008)\n",
"clc;clear;\n",
"m = 1.674e-027;    // Mass of neutron, kg\n",
"h = 6.60e-034;    // Planck's constant, joule-sec\n",
"Lambda = 1e-010;    // de-Broglie wavelength of neutron, \n",
"E = h^2/(2*m*Lambda^2);    // Energy of neutron, joule\n",
"printf('\nThe energy of neutron in electron volt = %4.2e eV', E/1.6e-019);\n",
"\n",
"// Result \n",
"// The energy of neutron in electron volt = 8.13e-002 eV"
   ]
   }
,
{
		   "cell_type": "markdown",
		   "metadata": {},
		   "source": [
			"## Example 1.5: Energy_of_an_electron_wave_in_electron_volt.sce"
		   ]
		  },
  {
"cell_type": "code",
	   "execution_count": null,
	   "metadata": {
	    "collapsed": true
	   },
	   "outputs": [],
"source": [
"// Scilab code Ex1.5: Pg:20 (2008)\n",
"clc;clear;\n",
"m = 9.1e-031;    // Mass of the electron, kg-m\n",
"h = 6.62e-034;    // Planck's constant, joule-sec\n",
"Lambda = 3e-002;    // de-Broglie wavelength of the electron, m\n",
"E = h^2/(2*m*Lambda^2);    // Energy of the electron wave, joule\n",
"printf('\nThe energy of the electron wave = %4.2e eV', E/1.6e-019);\n",
"\n",
"// Result \n",
"// The energy of the electron wave = 1.67e-015 eV"
   ]
   }
,
{
		   "cell_type": "markdown",
		   "metadata": {},
		   "source": [
			"## Example 1.6: Voltage_applied_to_an_electron_microscope_to_produce_electrons.sce"
		   ]
		  },
  {
"cell_type": "code",
	   "execution_count": null,
	   "metadata": {
	    "collapsed": true
	   },
	   "outputs": [],
"source": [
"// Scilab code Ex1.6:  Pg:20 (2008)\n",
"clc; clear;\n",
"e = 1.6e-019;    // Energy equivalent of 1 eV, J\n",
"m = 9.1e-031;    // Mass of an electron, kg-m\n",
"h = 6.6e-034;    // Planck's constant, joule-sec\n",
"Lambda = 0.4e-010;    // de-Broglie wavelength of an electron, m\n",
"// Since E = e*V and Lambda = h/sqrt(2*m*e*V), solving for V we have \n",
"V = h^2/(2*Lambda^2*m*e);    // Voltage that must be applied to an electron microscope, volt\n",
"printf('\nThe voltage that must be applied to the electron microscope = %3d V', V);\n",
"\n",
"// Result \n",
"// The voltage that must be applied to the electron microscope = 934 V \n",
"// The answer is given wrongly in the textbook"
   ]
   }
,
{
		   "cell_type": "markdown",
		   "metadata": {},
		   "source": [
			"## Example 1.7: Wavelength_of_quantum_of_radiant_energy.sce"
		   ]
		  },
  {
"cell_type": "code",
	   "execution_count": null,
	   "metadata": {
	    "collapsed": true
	   },
	   "outputs": [],
"source": [
"// Scilab code Ex1.7:  Pg:20 (2008)\n",
"clc;clear;\n",
"m = 9.1e-031;    // Mass of an electron, kgm\n",
"h = 6.6e-034;    // Planck's constant, joule-sec\n",
"c = 3e+08;    // Velocity of light, m/s\n",
"// Energy of one quantum of radiation is given by E = h*nu and \n",
"// furhter, E = m*c^2 where nu = c/Lambda, the frequency of radiation\n",
"// On compairing the energies and solving for Lambda \n",
"Lambda = h/(m*c);    // de Broglie wavelength of an electron, m\n",
"printf('\nThe wavelength of quantum of radiant energy = %6.4f angstrom', Lambda/1e-010);\n",
"\n",
"// Result \n",
"// The wavelength of quantum of radiant energy = 0.0242 angstrom"
   ]
   }
,
{
		   "cell_type": "markdown",
		   "metadata": {},
		   "source": [
			"## Example 1.8: de_Broglie_wavelength_of_neutron.sce"
		   ]
		  },
  {
"cell_type": "code",
	   "execution_count": null,
	   "metadata": {
	    "collapsed": true
	   },
	   "outputs": [],
"source": [
"// Scilab code Ex1.8:  Pg:20 (2008)\n",
"clc;clear;\n",
"m = 1.675e-027;    // Mass of a neutron, kg\n",
"h = 6.625e-034;    // Planck's constant, joule-sec\n",
"E = 1.6e-005;    // Kinetic energy of the neutron, joule\n",
"// Since (1/2)*m*v^2 = 1.6e-005, solving for v \n",
"v = (2*E/m)^(1/2);\n",
"Lambda = h/(m*v);    // de Broglie wavelength of a neutron, m\n",
"printf('\nThe de-Broglie wavelength of neutron = %4.2e m', Lambda);\n",
"\n",
"// Result \n",
"// The de-Broglie wavelength of neutron = 2.86e-018 m"
   ]
   }
,
{
		   "cell_type": "markdown",
		   "metadata": {},
		   "source": [
			"## Example 1.9: EX1_9.sce"
		   ]
		  },
  {
"cell_type": "code",
	   "execution_count": null,
	   "metadata": {
	    "collapsed": true
	   },
	   "outputs": [],
"source": [
"// Scilab code Ex1.9:  Pg:21 (2008)\n",
"clc;clear;\n",
"h = 6.62e-034;    // Planck's constant, joule-sec\n",
"c = 3e+008;    // Velocity of light, m/s\n",
"m_0 = 9.1e-031;    // Rest mass of an electron, kg\n",
"m = 1836*m_0;    // Mass of a proton, kg\n",
"E = m_0*c^2;    // Energy of an electron, joule\n",
"// Since (1/2)*m*v^2 = 81.9e-015, solving for v\n",
"v = (2*E/m)^(1/2);    // Velocity of the electron, m/s\n",
"Lambda = h/(m*v);    // The de-Broglie wavelength of a proton, m\n",
"printf('\nThe de-Broglie wavelength of proton whose kinetic energy is equal to the rest energy of an electron = %1.0e angstrom', Lambda/1e-010);\n",
"\n",
"// Result \n",
"// The de-Broglie wavelength of proton whose kinetic energy is equal to the rest energy of an electron = 4e-004 angstrom"
   ]
   }
],
"metadata": {
		  "kernelspec": {
		   "display_name": "Scilab",
		   "language": "scilab",
		   "name": "scilab"
		  },
		  "language_info": {
		   "file_extension": ".sce",
		   "help_links": [
			{
			 "text": "MetaKernel Magics",
			 "url": "https://github.com/calysto/metakernel/blob/master/metakernel/magics/README.md"
			}
		   ],
		   "mimetype": "text/x-octave",
		   "name": "scilab",
		   "version": "0.7.1"
		  }
		 },
		 "nbformat": 4,
		 "nbformat_minor": 0
}
