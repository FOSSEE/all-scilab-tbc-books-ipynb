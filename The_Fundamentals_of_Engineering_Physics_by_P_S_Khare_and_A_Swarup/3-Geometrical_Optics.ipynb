{
"cells": [
 {
		   "cell_type": "markdown",
	   "metadata": {},
	   "source": [
       "# Chapter 3: Geometrical Optics"
	   ]
	},
{
		   "cell_type": "markdown",
		   "metadata": {},
		   "source": [
			"## Example 3.10: EX3_10.sce"
		   ]
		  },
  {
"cell_type": "code",
	   "execution_count": null,
	   "metadata": {
	    "collapsed": true
	   },
	   "outputs": [],
"source": [
"// Scilab code Ex3.10 : Pg:113 (2008)\n",
"clc;clear;\n",
"omega1 = 0.02;    // Dispersive power of the convex lens\n",
"omega2 = 0.04;    // Dispersive power of the concave lens\n",
"f2 = -80;    // Focakl length of the concave lens, cm\n",
"// As omega1/omega2 = -f1/f2, solving for f1\n",
"f1 = -omega1/omega2*f2;    // Focal length of the crown glass convex lens, cm\n",
"printf('\nThe focal length of the crown glass convex lens = %2.0f cm', f1);\n",
"\n",
"// Result \n",
"// The focal length of the crown glass convex lens = 40 cm "
   ]
   }
,
{
		   "cell_type": "markdown",
		   "metadata": {},
		   "source": [
			"## Example 3.11: Dispersive_power_of_the_flint_glass.sce"
		   ]
		  },
  {
"cell_type": "code",
	   "execution_count": null,
	   "metadata": {
	    "collapsed": true
	   },
	   "outputs": [],
"source": [
"// Scilab code Ex3.11 : Pg:113 (2008)\n",
"clc;clear;\n",
"mu_V = 1.55;    // Refractive index of violet color\n",
"mu_R = 1.53;    // Refractive index of red color\n",
"mu_Y = (mu_V + mu_R)/2;    // Refractive index of yellow color\n",
"omega1 = (mu_V - mu_R)/(mu_Y - 1);    // Dispersive power of the crown glass convex lens\n",
"F = 150;    // Focal length of the combination of lenses, cm\n",
"R = 54;    // Radius of curvature of the convex lens, cm\n",
"f1 = R/(2*(mu_Y-1));    // Focal length of the convex lens from thin lens maker formula, cm\n",
"f2 = F*f1/(f1 - F);    // Focal length of the second lens, cm\n",
"// As omega1/omega2 = -f1/f2, solving for omega2\n",
"omega2 = -f2/f1*omega1;    // Dispersive power of flint glass\n",
"printf('\nThe dispersive power of flint glass = %5.3f', omega2);\n",
"\n",
"// Result \n",
"// The dispersive power of flint glass = 0.056 "
   ]
   }
,
{
		   "cell_type": "markdown",
		   "metadata": {},
		   "source": [
			"## Example 3.12: EX3_12.sce"
		   ]
		  },
  {
"cell_type": "code",
	   "execution_count": null,
	   "metadata": {
	    "collapsed": true
	   },
	   "outputs": [],
"source": [
"// Scilab code Ex3.12 : Pg:114 (2008)\n",
"clc;clear;\n",
"omega1 = 0.017;    // Dispersive power of the crown glass lens\n",
"omega2 = 0.034;    // Dispersive power of flint glass lens\n",
"F = 40;    // Focal length of the combination of lenses, cm\n",
"f1 = (omega2 - omega1)/omega2*F;    // Focal length of crown glass lens, cm\n",
"f2 = (omega1 - omega2)/omega1*F;    // Focal length of flint glass lens, cm\n",
"mu = 1.5;    // Refractive index of crown glass\n",
"R2 = -25;    // Radius of curvature of the first surface of convex lens, cm\n",
"// Now from lens maker's formula\n",
"R1 = (mu - 1)/(1/f1+(mu-1)/R2);    // Radius of curvature of second surface of convex lens, cm\n",
"printf('\nThe radius of curvature of the second surface of convex lens = %5.2f cm', R1);\n",
"mu = 1.7;    // Refractive index of flint glass\n",
"R1 = -25;    // Radius of curvature of the first surface of concave lens, cm\n",
"R2 = (mu - 1)/(1/f2-(mu-1)/R1);    // Radius of curvature of second surface of concave lens, cm\n",
"printf('\nThe radius of curvature of the second surface of concave lens = %6.2f cm', R2);\n",
"\n",
"// Result \n",
"// The radius of curvature of the second surface of convex lens = 16.67 cm\n",
"// The radius of curvature of the second surface of concave lens = 233.33 cm "
   ]
   }
,
{
		   "cell_type": "markdown",
		   "metadata": {},
		   "source": [
			"## Example 3.13: Radius_of_curvature_of_convex_lens_from_given_data.sce"
		   ]
		  },
  {
"cell_type": "code",
	   "execution_count": null,
	   "metadata": {
	    "collapsed": true
	   },
	   "outputs": [],
"source": [
"// Scilab code Ex3.13 : Pg:115 (2008)\n",
"clc;clear;\n",
"P = 5;    // Power of combination of a convex lens and a plano-convex lens, dioptre\n",
"mu1 = 1.50;    // Refractive index of crown glass\n",
"mu2 = 1.60;    // Refractive index of flint glass\n",
"omega1 = 0.01;    // Dispersive power of the crown glass convex lens\n",
"omega2 = 0.02;    // Dispersive power of flint glass plano-convex lens\n",
"F = 100/P;    // Focal length of the combination of lenses, cm\n",
"f_ratio = -omega2/omega1;    // Ratio of f2 to f1\n",
"// From thin lens formula, 1/F = 1/f1 + 1/f2 and as f2 = f_ratio*f1, solving for f1\n",
"f1 = -F/f_ratio;    // Focal length of flint glass lens, cm\n",
"f2 = f_ratio*f1;    // Focal length of crown glass lens, cm\n",
"mu = 1.60;    // Refractive index of flint glass\n",
"R2 = %inf;    // Radius of curvature of the first surface of convex lens, cm\n",
"// Now from lens maker's formula\n",
"R1 = (mu - 1)/(1/f2+(mu-1)/R2);    // Radius of curvature of second surface of convex lens, cm\n",
"mu = 1.5;    // Refractive index of crown glass\n",
"R2 = R1;    // Radius of curvature of the first surface of convex lens, cm\n",
"R1_prime = (mu - 1)/(1/f1+(mu-1)/R2);    // Radius of curvature of second surface of concave lens, cm\n",
"printf('\nThe radii of curvature of the convex lens are = %-3.1f cm and %2.0f cm', R1_prime, R1);\n",
"\n",
"// Result \n",
"// The radii of curvature of the convex lens are = 8.6 cm and -12 cm"
   ]
   }
,
{
		   "cell_type": "markdown",
		   "metadata": {},
		   "source": [
			"## Example 3.15: Distance_between_two_achromatic_lenses.sce"
		   ]
		  },
  {
"cell_type": "code",
	   "execution_count": null,
	   "metadata": {
	    "collapsed": true
	   },
	   "outputs": [],
"source": [
"// Scilab code Ex3.15 : Pg:117 (2008)\n",
"clc;clear;\n",
"omega1 = 0.01;    // Dispersive power of the crown glass convex lens\n",
"omega2 = 0.02;    // Dispersive power of flint glass plano-convex lens\n",
"f1 = 20;    // Focal length of crown glass lens, cm\n",
"f2 = 30;    // Focal length of crown flint lens, cm\n",
"d = (omega1*f2+omega2*f1)/(omega1 + omega2);    // The distance between two achromatic lenses of different material, cm\n",
"// For same material\n",
"printf('\nThe distance between two achromatic lenses of different material = %5.2f cm', d);\n",
"omega1 = 1, omega2 = 1;    \n",
"d = (omega1*f2+omega2*f1)/(omega1 + omega2);    // The distance between two achromatic lenses of same material, cm\n",
"printf('\nThe distance between two achromatic lenses of same material = %2.0f cm', d);\n",
"\n",
"// Result \n",
"// The distance between two achromatic lenses of different material = 23.33 cm\n",
"// The distance between two achromatic lenses of same material = 25 cm "
   ]
   }
,
{
		   "cell_type": "markdown",
		   "metadata": {},
		   "source": [
			"## Example 3.16: Spherical_aberration_for_a_spherical_surface.sce"
		   ]
		  },
  {
"cell_type": "code",
	   "execution_count": null,
	   "metadata": {
	    "collapsed": true
	   },
	   "outputs": [],
"source": [
"// Scilab code Ex3.16 : Pg:121 (2008)\n",
"clc;clear;\n",
"R = 20;    // Radius of curvature of the spherical surface, cm\n",
"mu = 1.5;    // Refractive index of the material\n",
"h = 5;    // First height of the incident ray from the principal axis, cm\n",
"delta_f_h = h^2/(2*mu*(mu - 1)*R);    // Spherical aberration of the spherical surface, cm\n",
"printf('\nFor h = %d, the Spherical aberration of the spherical surface = %4.2f cm', h, delta_f_h);\n",
"h = 7;  // Second height of the incident ray from the principal axis, cm\n",
"delta_f_h = h^2/(2*mu*(mu - 1)*R);    // Spherical aberration of the spherical surface, cm\n",
"printf('\nFor h = %d, the Spherical aberration of the spherical surface = %4.2f cm', h, delta_f_h);\n",
"\n",
"// Result \n",
"// For h = 5, the Spherical aberration of the spherical surface = 0.83 cm\n",
"// For h = 7, the Spherical aberration of the spherical surface = 1.63 cm "
   ]
   }
,
{
		   "cell_type": "markdown",
		   "metadata": {},
		   "source": [
			"## Example 3.17: Focal_length_of_component_lenses_of_a_convergent_doublet.sce"
		   ]
		  },
  {
"cell_type": "code",
	   "execution_count": null,
	   "metadata": {
	    "collapsed": true
	   },
	   "outputs": [],
"source": [
"// Scilab code Ex3.17 : Pg:125(2008)\n",
"clc;clear;\n",
"F = 10;    // Equivalent focal length of the combination of lenses, cm\n",
"d = 2;    // Distance between the lenses of doublet, cm\n",
"// The condition of minimum spherical aberration gives \n",
"// f1 = f2 = d or f2 = f1 - d\n",
"f1 = 2*F;    // Focal length of the first lens, cm\n",
"f2 = f1 - d;    // Focal length of the second lens, cm\n",
"printf('\nThe focal length of component lenses of a convergent doublet, f1 = %2d cm and f2 = %2d cm', f1, f2);\n",
"\n",
"// Result \n",
"// The focal length of component lenses of a convergent doublet, f1 = 20 cm and f2 = 18 cm "
   ]
   }
,
{
		   "cell_type": "markdown",
		   "metadata": {},
		   "source": [
			"## Example 3.18: EX3_18.sce"
		   ]
		  },
  {
"cell_type": "code",
	   "execution_count": null,
	   "metadata": {
	    "collapsed": true
	   },
	   "outputs": [],
"source": [
"// Scilab code Ex3.18 : Pg:125(2008)\n",
"clc;clear;\n",
"F = 5.0;    // Equivalent focal length of the combination of lenses, cm\n",
"// As F = 3*d/4, solving for d\n",
"d = 4/3*F;    // // Distance between the lenses of doublet, cm \n",
"// The condition of minimum spherical aberration gives \n",
"// 2*d = f1 + f2 and f1 - f2 = d, solving for f1 and f2\n",
"f1 = 3*d/2;    // Focal length of the first lens, cm\n",
"f2 = d/2;    // Focal length of the second lens, cm\n",
"printf('\nTo have no chromatic aberration and minimum spherical abberation, the doublet lens should be designed with the following parameters:\n');\n",
"printf(' d = %4.2f cm; f1 = %2d cm and f2 = %4.2f cm', d, f1, f2);\n",
"\n",
"// Result \n",
"// To have no chromatic aberration and minimum spherical abberation, the doublet lens should be designed with the following parameters:\n",
"//  d = 6.67 cm; f1 = 10 cm and f2 = 3.33 cm "
   ]
   }
,
{
		   "cell_type": "markdown",
		   "metadata": {},
		   "source": [
			"## Example 3.1: Positions_of_the_cardinal_points.sce"
		   ]
		  },
  {
"cell_type": "code",
	   "execution_count": null,
	   "metadata": {
	    "collapsed": true
	   },
	   "outputs": [],
"source": [
"// Scilab code Ex3.1  Pg:89 (2008)\n",
"clc;clear;\n",
"f1 = 30;    // Focal length of first lens, cm\n",
"f2 = 10;    // Focal length of second lens, cm\n",
"d = 25;    // Distance of separation between two lenses, cm\n",
"F = f1*f2/(f1 + f2 - d);    // Focal length of the combination of lenses, cm\n",
"// Positions of Principal Points\n",
"alpha = F*d/f2;    // Distance of the first principal point from the first lens, cm\n",
"bita = -F*d/f1;    // Distance of the second principal point from the second lens, cm\n",
"// Positions of Focal Points\n",
"L1F1 = -F*(1-d/f2);    // Distance of the first focal point from the first lens, cm\n",
"L2F2 = F*(1-d/f1);    // Distance of the second focal point from the second lens, cm\n",
"printf('\nThe positions of Principal points = %2.0f cm and %4.2f cm', alpha, bita);\n",
"printf('\nThe positions of Focal points = %2.0f cm and %3.1f cm', L1F1, L2F2);\n",
"\n",
"// Result \n",
"// The positions of Principal points = 50 cm and -16.67 cm\n",
"// The positions of Focal points = 30 cm and 3.3 cm"
   ]
   }
,
{
		   "cell_type": "markdown",
		   "metadata": {},
		   "source": [
			"## Example 3.2: Coaxial_converging_and_diverging_lenses_held_at_a_distance.sce"
		   ]
		  },
  {
"cell_type": "code",
	   "execution_count": null,
	   "metadata": {
	    "collapsed": true
	   },
	   "outputs": [],
"source": [
"// Scilab code Ex3.2: Pg:90 (2008)\n",
"clc;clear;\n",
"f1 = 10;    // Focal length of converging lens, cm\n",
"f2 = -10;    // Focal length of diverging lens, cm\n",
"d = 5;    // Distance of separation between two lenses, cm\n",
"F = f1*f2/(f1 + f2 - d);    // Focal length of the combination of lenses, cm\n",
"P = 100/F;    // Power of the combination of lenses, diopter\n",
"// Positions of Principal Points\n",
"alpha = F*d/f2;    // Distance of the first principal point from the first lens, cm\n",
"bita = -F*d/f1;    // Distance of the second principal point from the second lens, cm\n",
"printf('\nThe focal length of the combination of lenses = %2.0f cm', F);\n",
"printf('\nThe power of the combination of lenses = %1.0f diopter', P);\n",
"printf('\nThe positions of Principal points = %2.0f cm and %2.0f cm', alpha, bita);\n",
"\n",
"// Result \n",
"// The focal length of the combination of lenses = 20 cm\n",
"// The power of the combination of lenses = 5 diopter\n",
"// The positions of Principal points = -10 cm and -10 cm "
   ]
   }
,
{
		   "cell_type": "markdown",
		   "metadata": {},
		   "source": [
			"## Example 3.3: Combination_of_a_convex_and_a_concave_lens_placed_at_a_distance.sce"
		   ]
		  },
  {
"cell_type": "code",
	   "execution_count": null,
	   "metadata": {
	    "collapsed": true
	   },
	   "outputs": [],
"source": [
"// Scilab code Ex3.3 : Pg:91 (2008)\n",
"clc;clear;\n",
"f1 = 30;    // Focal length of convex lens, cm\n",
"f2 = -50;    // Focal length of concave lens, cm\n",
"d = 20;    // Distance of separation between two lenses, cm\n",
"F = f1*f2/(f1 + f2 - d);    // Focal length of the combination of lenses, cm\n",
"// Positions of Principal Points\n",
"alpha = F*d/f2;    // Distance of the first principal point from the first lens, cm\n",
"bita = -F*d/f1;    // Distance of the second principal point from the second lens, cm\n",
"// Positions of Focal Points\n",
"L1F1 = -F*(1-d/f2);    // Distance of the first focal point from the first lens, cm\n",
"L2F2 = F*(1-d/f1);    // Distance of the second focal point from the second lens, cm\n",
"// Positions of Final image\n",
"u = -25;    // Object distance from principal point, cm\n",
"// As from thin lens formula, 1/v - 1/u = 1/F, solving for v\n",
"v = (u*F)/(u+F);    // Image distance from principal point, cm\n",
"m = v/u;    // Linear magnification\n",
"printf('\nThe positions of Principal points = %2.0f cm and %4.2f cm', alpha, bita);\n",
"printf('\nThe positions of Focal points = %4.1f cm and %4.1f cm', L1F1, L2F2);\n",
"printf('\nThe image distance from principal point = %2.0f cm', v);\n",
"printf('\nThe linear magnification = %1.0f cm', m);\n",
"\n",
"\n",
"// Result \n",
"// The positions of Principal points = -15 cm and -25.00 cm\n",
"// The positions of Focal points = -52.5 cm and 12.5 cm\n",
"// The image distance from principal point = -75 cm\n",
"// The linear magnification = 3 cm "
   ]
   }
,
{
		   "cell_type": "markdown",
		   "metadata": {},
		   "source": [
			"## Example 3.4: Lens_combination_in_Huygen_eye_piece.sce"
		   ]
		  },
  {
"cell_type": "code",
	   "execution_count": null,
	   "metadata": {
	    "collapsed": true
	   },
	   "outputs": [],
"source": [
"// Scilab code Ex3.4 : Pg:97 (2008)\n",
"clc;clear;\n",
"f = 4;    // Focal length of eye lens of Huygen eye-piece, cm\n",
"f1 = 3*f;    // Focal length of first lens, cm\n",
"f2 = f;    // Focal length of second lens, cm\n",
"d = 2*f;    // Distance of separation between two lenses, cm\n",
"F = f1*f2/(f1 + f2 - d);    // Focal length of the combination of lenses, cm\n",
"// Positions of Principal Points\n",
"alpha = F*d/f2;    // Distance of the first principal point from the first lens, cm\n",
"bita = -F*d/f1;    // Distance of the second principal point from the second lens, cm\n",
"// Positions of Focal Points\n",
"L1F1 = -F*(1-d/f2);    // Distance of the first focal point from the first lens, cm\n",
"L2F2 = F*(1-d/f1);    // Distance of the second focal point from the second lens, cm\n",
"// Positions of Final image\n",
"u = -18;    // Object distance from principal point, cm\n",
"// As from thin lens formula, 1/v - 1/u = 1/F, solving for v\n",
"v = (u*F)/(u+F);    // Image distance from principal point, cm\n",
"L2I = v + bita;    // The position of image to the right of eye lens, cm\n",
"printf('\nThe positions of Principal points = %2.0f cm and %1.0f cm', alpha, bita);\n",
"printf('\nThe positions of Focal points = %1.0f cm and %1.0f cm', L1F1, L2F2);\n",
"printf('\nThe The position of image to the right of eye lens = %1.0f cm', L2I);\n",
"\n",
"\n",
"// Result \n",
"// The positions of Principal points = 12 cm and -4 cm\n",
"// The positions of Focal points = 6 cm and 2 cm\n",
"// The The position of image to the right of eye lens = 5 cm "
   ]
   }
,
{
		   "cell_type": "markdown",
		   "metadata": {},
		   "source": [
			"## Example 3.5: EX3_5.sce"
		   ]
		  },
  {
"cell_type": "code",
	   "execution_count": null,
	   "metadata": {
	    "collapsed": true
	   },
	   "outputs": [],
"source": [
"// Scilab code Ex3.5 : Pg:98 (2008)\n",
"clc;clear;\n",
"d = 10;    // Distance of separation of two lenses, cm\n",
"// As 2*f1 = d, solving for f1\n",
"f1 = d/2;    // Focal length of the first plano-convex lens, cm\n",
"f2 = 3*f1;    // Focal length of the second plano-convex lens, cm\n",
"F = f1*f2/(f1 + f2 - d);    // Focal length of the eye-piece, cm\n",
"printf('\nThe focal lengths of the plano-convex lenses are %1.0f cm and %2.0f cm', f1, f2);\n",
"printf('\nThe focal length of the eye-piece = %3.1f cm', F);\n",
"\n",
"// Result \n",
"// The focal lengths of the plano-convex lenses are 5 cm and 15 cm\n",
"// The focal length of the eye-piece = 7.5 cm "
   ]
   }
,
{
		   "cell_type": "markdown",
		   "metadata": {},
		   "source": [
			"## Example 3.6: EX3_6.sce"
		   ]
		  },
  {
"cell_type": "code",
	   "execution_count": null,
	   "metadata": {
	    "collapsed": true
	   },
	   "outputs": [],
"source": [
"// Scilab code Ex3.6 : Pg:101 (2008)\n",
"clc;clear;\n",
"F = 12;    // Focal length of the eye-piece, cm\n",
"// For Huygen's eye-piece\n",
"// As F = f1*f2/(f1 + f2 - d) and f1 = 3*f; f2 = f; d = 2*f, solving for f\n",
"f = poly(0, 'f');\n",
"f = roots(3*f*f-F*(3*f+f-2*f));    // Focal length of the eye-lens, cm\n",
"d = 2*f(1);    // Distance of separation of two lenses, cm\n",
"f1 = 3*f(1);    // Focal length of the first plano-convex lens, cm\n",
"f2 = f(1);    // Focal length of the second plano-convex lens, cm\n",
"printf('\nFor Huygen eye-piece:');\n",
"printf('\nThe focal lengths of the plano-convex lenses are %1.0f cm and %2.0f cm', f1, f2);\n",
"printf('\nThe distance between the lenses = %2.0f cm', d);\n",
"// For Ramsden eye-piece\n",
"// As F = f1*f2/(f1 + f2 - d) and f1 = f; f2 = f; d = 2/3*f, solving for f\n",
"f = poly(0, 'f');\n",
"f = roots(f*f-12*(f+f-2/3*f));    // Focal length of the eye-lens, cm\n",
"d = 2/3*f(1);    // Distance of separation of two lenses, cm\n",
"f1 = f(1);    // Focal length of the first plano-convex lens, cm\n",
"f2 = f(1);    // Focal length of the second plano-convex lens, cm\n",
"printf('\n\nFor Ramsden eye-piece:');\n",
"printf('\nThe focal lengths of the plano-convex lenses are %1.0f cm and %2.0f cm', f1, f2);\n",
"printf('\nThe distance between the lenses = %5.2f cm', d);\n",
"\n",
"// Result \n",
"// For Huygen eye-piece:\n",
"// The focal lengths of the plano-convex lenses are 24 cm and  8 cm\n",
"// The distance between the lenses = 16 cm\n",
"\n",
"// For Ramsden eye-piece:\n",
"// The focal lengths of the plano-convex lenses are 16 cm and 16 cm\n",
"// The distance between the lenses = 10.67 cm \n",
"// The distance between the lenses for Ramsden eye-piece is wrong in the textbook"
   ]
   }
,
{
		   "cell_type": "markdown",
		   "metadata": {},
		   "source": [
			"## Example 3.7: Composition_and_cardinal_points_of_a_Ramsden_eye_piece.sce"
		   ]
		  },
  {
"cell_type": "code",
	   "execution_count": null,
	   "metadata": {
	    "collapsed": true
	   },
	   "outputs": [],
"source": [
"// Scilab code Ex3.7  : Pg:102 (2008)\n",
"clc;clear;\n",
"F = 9.0;    // Focal length of the eye-piece, cm\n",
"// As F = f1*f2/(f1 + f2 - d) and f1 = f; f2 = f; d = 2/3*f, solving for f\n",
"f = poly(0, 'f');\n",
"f = roots(f*f-F*(f+f-2/3*f));    // Focal length of the eye-lens, cm\n",
"d = 2/3*f(1);    // Distance of separation of two lenses, cm\n",
"f1 = f(1);    // Focal length of the first plano-convex lens, cm\n",
"f2 = f(1);    // Focal length of the second plano-convex lens, cm\n",
"alpha = F*d/f2;    // Distance of first principal point from the field lens L1, cm\n",
"bita = -F*d/f1;    // Distance of second principal point from the field lens L2, cm\n",
"L1F1 = -F*(1-d/f2);    // Distance of first focal point from the lens L1, cm\n",
"L2F2 = F*(1-d/f1);     // Distance of second focal point from the lens L2, cm   \n",
"printf('\nThe focal lengths of the plano-convex lenses are %1.0f cm and %2.0f cm', f1, f2);\n",
"printf('\nThe distance between the lenses = %1.0f cm', d);\n",
"printf('\nThe distance of first principal point from the field lens L1 = %1.0f cm', alpha);\n",
"printf('\nThe distance of second principal point from the field lens L2 = %1.0f cm', bita);\n",
"printf('\nThe distance of first focal point from the field lens L1 = %1.0f cm', L1F1);\n",
"printf('\nThe distance of second focal point from the field lens L2 = %1.0f cm', L2F2);\n",
"\n",
"// Result \n",
"// The focal lengths of the plano-convex lenses are 12 cm and 12 cm\n",
"// The distance between the lenses = 8 cm\n",
"// The distance of first principal point from the field lens L1 = 6 cm\n",
"// The distance of second principal point from the field lens L2 = -6 cm\n",
"// The distance of first focal point from the field lens L1 = -3 cm\n",
"// The distance of second focal point from the field lens L2 = 3 cm"
   ]
   }
,
{
		   "cell_type": "markdown",
		   "metadata": {},
		   "source": [
			"## Example 3.8: Longitudinal_chromatic_abberation_for_an_object_at_infinity.sce"
		   ]
		  },
  {
"cell_type": "code",
	   "execution_count": null,
	   "metadata": {
	    "collapsed": true
	   },
	   "outputs": [],
"source": [
"// Scilab code Ex3.8 : Pg:108 (2008)\n",
"clc;clear;\n",
"mu_v = 1.5230;    // Refractive index of violet color\n",
"mu_r = 1.5145;    // Refractive index of red color\n",
"R1 = 40;    // Radius of curvature of first curvature of lens, cm\n",
"R2 = -10;    // Radius of curvature of second curvature of lens, cm\n",
"// As 1/f_r = (mu_r - 1)*(1/R1 - 1/R2), solving for f_r\n",
"f_r = 1/((mu_r-1)*(1/R1 - 1/R2));    // Focal length for red color, cm\n",
"f_v = 1/((mu_v-1)*(1/R1 - 1/R2));    // Focal length for violet color, cm\n",
"CA = f_r - f_v;    // The longitudinal chromatic abberation, cm\n",
"printf('\nThe longitudinal chromatic abberation for the object at infinity = %5.3f cm', CA);\n",
"\n",
"// Result \n",
"// The longitudinal chromatic abberation for the object at infinity = 0.253 cm "
   ]
   }
,
{
		   "cell_type": "markdown",
		   "metadata": {},
		   "source": [
			"## Example 3.9: Longitudinal_chromatic_abberation_for_a_lens_of_crown_glass.sce"
		   ]
		  },
  {
"cell_type": "code",
	   "execution_count": null,
	   "metadata": {
	    "collapsed": true
	   },
	   "outputs": [],
"source": [
"// Scilab code Ex3.9 : Pg:109 (2008)\n",
"clc;clear;\n",
"mu_F = 1.5249;    // Refractive index of violet color\n",
"mu_C = 1.5164;    // Refractive index of red color\n",
"mu_D = (mu_F + mu_C)/2;    // Mean refractive index\n",
"omega = (mu_F - mu_C)/(mu_D - 1);    // Dispersive power of the lens\n",
"f = 40;    // Focal length of the crown glass lens, cm\n",
"CA = omega*f;    // The longitudinal chromatic abberation, cm\n",
"printf('\nThe longitudinal chromatic abberation = %6.4f cm', CA);\n",
"\n",
"// Result \n",
"// The longitudinal chromatic abberation = 0.6530 cm \n",
"// The answer is given wrong in the textbook"
   ]
   }
],
"metadata": {
		  "kernelspec": {
		   "display_name": "Scilab",
		   "language": "scilab",
		   "name": "scilab"
		  },
		  "language_info": {
		   "file_extension": ".sce",
		   "help_links": [
			{
			 "text": "MetaKernel Magics",
			 "url": "https://github.com/calysto/metakernel/blob/master/metakernel/magics/README.md"
			}
		   ],
		   "mimetype": "text/x-octave",
		   "name": "scilab",
		   "version": "0.7.1"
		  }
		 },
		 "nbformat": 4,
		 "nbformat_minor": 0
}
