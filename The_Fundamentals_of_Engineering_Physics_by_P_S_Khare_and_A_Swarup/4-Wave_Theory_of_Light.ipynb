{
"cells": [
 {
		   "cell_type": "markdown",
	   "metadata": {},
	   "source": [
       "# Chapter 4: Wave Theory of Light"
	   ]
	},
{
		   "cell_type": "markdown",
		   "metadata": {},
		   "source": [
			"## Example 4.10: Wavelength_of_light_in_two_slit_experiment.sce"
		   ]
		  },
  {
"cell_type": "code",
	   "execution_count": null,
	   "metadata": {
	    "collapsed": true
	   },
	   "outputs": [],
"source": [
"// Scilab code Ex4.10: Pg:147 (2008)\n",
"clc;clear;\n",
"delta_D = 5e-002;    // Distance through which the screen is moved, m\n",
"delta_omega = 3e-005;    // Change in fringe width as a result of motion of screen, m\n",
"d = 1e-003/2;    // Half of the separation distance between the slits, m\n",
"// As delta_omega = lambda*delta_D/(2*d), solving for lambda\n",
"lambda = delta_omega*(2*d)/delta_D;    // Wavelength of light used, m\n",
"printf('\nThe wavelength of light used = %4d angstrom', lambda/1e-010);\n",
"\n",
"// Result \n",
"// The wavelength of light used = 6000 angstrom "
   ]
   }
,
{
		   "cell_type": "markdown",
		   "metadata": {},
		   "source": [
			"## Example 4.11: EX4_11.sce"
		   ]
		  },
  {
"cell_type": "code",
	   "execution_count": null,
	   "metadata": {
	    "collapsed": true
	   },
	   "outputs": [],
"source": [
"// Scilab code Ex4.11: Pg:148 (2008)\n",
"clc;clear;\n",
"x0 = 12.34;    // Position of zero order fringe, mm\n",
"Lambda = 6000;    // Wavelength of light, angstrom\n",
"Lambda_prime = 5000;    // New wavelength of light, angstrom\n",
"omega = 0.239;    // Fringe width, mm\n",
"omega_prime = Lambda_prime/Lambda*omega;    // New fringe width, mm\n",
"d_20 = 20*omega_prime;     // Separation of 20th fringe, mm\n",
"x_20 = [d_20, -d_20];    // Position of 20th order fringe, mm \n",
"x = x0 + x_20;     // Positions of 20th order fringe relative to zero order fringe, mm\n",
"printf('\nThe positions of 20th order fringe relative to zero order fringe are %5.2f mm or %4.2f mm', x(1), x(2));\n",
"\n",
"// Result \n",
"// The positions of 20th order fringe relative to zero order fringe are 16.32 mm or 8.36 mm "
   ]
   }
,
{
		   "cell_type": "markdown",
		   "metadata": {},
		   "source": [
			"## Example 4.12: Brightt_fringes_in_Young_double_slit_experiment.sce"
		   ]
		  },
  {
"cell_type": "code",
	   "execution_count": null,
	   "metadata": {
	    "collapsed": true
	   },
	   "outputs": [],
"source": [
"// Scilab code Ex4.12: Pg:149 (2008)\n",
"clc;clear;\n",
"Lambda = 6500e-007;    // Wavelength of light, mm\n",
"Lambda_prime = 5200e-007;    // New wavelength of light, mm\n",
"n = 3;    // Order of bright fringe\n",
"D = 1200;    // Distance between the source and the slits, mm\n",
"d = 2/2;    // Separation between teh slits, mm\n",
"x3 = n*Lambda*D/(2*d);    // The distance of the third bright fringe from the central maximum, mm\n",
"n = 5;        // Minimum value of n \n",
"m = Lambda_prime/Lambda*n;    // Minimum value of m \n",
"x4 = m*Lambda*D/(2*d);    // The least distance from the central maximum at which bright fringes duw to both the wavelengths coincide, mm\n",
"printf('\nThe distance of the third bright fringe from the central maximum = %4.2f mm', x3);\n",
"printf('\nThe least distance from the central maximum at which bright fringes duw to both the wavelengths coincide = %5.3f cm', x4/10);\n",
"\n",
"// Result \n",
"// The distance of the third bright fringe from the central maximum = 1.17 mm\n",
"// The least distance from the central maximum at which bright fringes duw to both the wavelengths coincide = 0.156 cm "
   ]
   }
,
{
		   "cell_type": "markdown",
		   "metadata": {},
		   "source": [
			"## Example 4.13: Width_of_the_fringes_observed_with_the_biprism.sce"
		   ]
		  },
  {
"cell_type": "code",
	   "execution_count": null,
	   "metadata": {
	    "collapsed": true
	   },
	   "outputs": [],
"source": [
"// Scilab code Ex4.13 : Pg:155 (2008)\n",
"clc;clear;\n",
"D = 80;    // Distance between the biprism and narrow slit, cm\n",
"Lambda = 5890e-08;    // Wavelength of light, cm\n",
"d = 0.05/2;    // Half of the distance between the sources, cm\n",
"omega = D*Lambda/(2*d);    // Fringe width, cm\n",
"printf('\nThe width of the fringes observed with the biprism = %5.3e cm', omega);\n",
"\n",
"// Result \n",
"// The width of the fringes observed with the biprism = 9.424e-002 cm "
   ]
   }
,
{
		   "cell_type": "markdown",
		   "metadata": {},
		   "source": [
			"## Example 4.14: Fringe_width_at_a_distance_of_one_meter_from_biprism.sce"
		   ]
		  },
  {
"cell_type": "code",
	   "execution_count": null,
	   "metadata": {
	    "collapsed": true
	   },
	   "outputs": [],
"source": [
"// Scilab code Ex4.14 : Pg:155 (2008)\n",
"clc;clear;\n",
"D = 110;    // Distance between the biprism and narrow slit, cm\n",
"Lambda = 5500e-08;    // Wavelength of light, cm\n",
"mu = 1.5;    // refractive index of glass biprism\n",
"a = 10;    // Distance of slit from biprism, cm\n",
"alpha = 2*%pi/180;    // Angle between the inclined faces and base of prism, degree\n",
"d = a*(mu-1)*alpha;    // Separation between two virtual sources, cm\n",
"omega = D*Lambda/(2*d);    // Fringe width at a distance of one meter from biprism, cm\n",
"printf('\nThe width of the fringes in the eye-piece from the biprism = %6.4f cm', omega);\n",
"\n",
"// Result \n",
"// The width of the fringes in the eye-piece from the biprism = 0.0173 cm "
   ]
   }
,
{
		   "cell_type": "markdown",
		   "metadata": {},
		   "source": [
			"## Example 4.15: EX4_15.sce"
		   ]
		  },
  {
"cell_type": "code",
	   "execution_count": null,
	   "metadata": {
	    "collapsed": true
	   },
	   "outputs": [],
"source": [
"// Scilab code Ex4.15 : Pg:156 (2008)\n",
"clc;clear;\n",
"d1 = 0.45;    // Position of the first lens placed between the biprism and the eye-piece, cm\n",
"d2 = 0.29;    // Position of the second lens placed between the biprism and the eye-piece, cm\n",
"omega = 0.0326;    // Fringe width, cm\n",
"D = 200;    // Distance between the biprism and narrow slit, cm\n",
"d = sqrt(d1*d2)/2;    // Separation between two virtual sources, cm\n",
"Lambda = 2*d*omega/D;    // Wavelength of light used, cm\n",
"printf('\nThe wavelength of light used = %4.2e cm', Lambda);\n",
"\n",
"// Result \n",
"// The wavelength of light used = 5.89e-005 cm "
   ]
   }
,
{
		   "cell_type": "markdown",
		   "metadata": {},
		   "source": [
			"## Example 4.16: Wavelength_of_sodium_light_from_Fresnel_biprism_experiment.sce"
		   ]
		  },
  {
"cell_type": "code",
	   "execution_count": null,
	   "metadata": {
	    "collapsed": true
	   },
	   "outputs": [],
"source": [
"// Scilab code Ex4.16 : Pg:156 (2008)\n",
"clc;clear;\n",
"omega = 0.0196;    // Fringe width, cm\n",
"D = 100;    // Distance between the biprism and narrow slit, cm\n",
"I = 0.70;    // Separation of the two coherent sources, cm\n",
"u = 30;    // Distance of the lens from the slit, cm\n",
"v = D - u;    // Distance of image from the lens, cm\n",
"// As magnification, M = I/O = v/u and O = 2*d, solving for d\n",
"d = I*u/(2*v);    // Half the distance between two coherent sources, cm\n",
"Lambda = 2*d*omega/D;    // Wavelength of light used, cm\n",
"printf('\nThe wavelength of light used = %4.2e cm', Lambda);\n",
"\n",
"// Result \n",
"// The wavelength of light used = 5.88e-005 cm "
   ]
   }
,
{
		   "cell_type": "markdown",
		   "metadata": {},
		   "source": [
			"## Example 4.17: Wavelength_of_the_light_of_the_source_in_the_biprism_experiment.sce"
		   ]
		  },
  {
"cell_type": "code",
	   "execution_count": null,
	   "metadata": {
	    "collapsed": true
	   },
	   "outputs": [],
"source": [
"// Scilab code Ex4.17 : Pg:156 (2008)\n",
"clc;clear;\n",
"omega = 1.888/20;    // Fringe width, cm\n",
"D = 120;    // Distance between the biprism and narrow slit, cm\n",
"d = 0.075/2;    // Half the distance between two coherent sources, cm\n",
"Lambda = 2*d*omega/D;    // Wavelength of light used, cm\n",
"printf('\nThe wavelength of the light of the source = %4d angstrom', Lambda/1e-008);\n",
"\n",
"// Result \n",
"// The wavelength of the light of the source = 5900 angstrom "
   ]
   }
,
{
		   "cell_type": "markdown",
		   "metadata": {},
		   "source": [
			"## Example 4.18: EX4_18.sce"
		   ]
		  },
  {
"cell_type": "code",
	   "execution_count": null,
	   "metadata": {
	    "collapsed": true
	   },
	   "outputs": [],
"source": [
"// Scilab code Ex4.18 : Pg:157 (2008)\n",
"clc;clear;\n",
"D = 1;    // For simplicity assume the distance between the biprism and narrow slit to be unity, unit\n",
"d = 1;    // Assume half the distance between two coherent sourcesto be unity, unit\n",
"lambda = 5893;    // Mean wavelength of sodium light, angstrom\n",
"lambda1 = 5461    // Wavelength of green color, angstrom\n",
"lambda2 = 4358;    // Wavelength of violet color, angstrom\n",
"omega = lambda*D/(2*d);    // Fringe width with yellow color, unit\n",
"omega1 = lambda1*D/(2*d);    // Fringe width with green color, unit\n",
"omega2 = lambda2*D/(2*d);    // Fringe width with violet color, unit\n",
"n = 62;    // Number of fringes obtained with light from sodium lamp\n",
"// As n1*omega1 = n*omega, solving for n1\n",
"n1 = n*omega/omega1;    // Number of fringes obtained with green color \n",
"// As n2*omega2 = n*omega, solving for n2\n",
"n2 = n*omega/omega2;    // Number of fringes obtained with violet color \n",
"printf('\nThe number of fringes with green filter = %2d', ceil(n1));\n",
"printf('\nThe number of fringes with violet filter = %2d', ceil(n2));\n",
"\n",
"// Result \n",
"// The number of fringes with green filter = 67\n",
"// The number of fringes with violet filter = 84 \n",
"// The second answer is given wrong in the textbook"
   ]
   }
,
{
		   "cell_type": "markdown",
		   "metadata": {},
		   "source": [
			"## Example 4.19: Distance_between_biprism_and_eye_piece_and_wavelength_of_light.sce"
		   ]
		  },
  {
"cell_type": "code",
	   "execution_count": null,
	   "metadata": {
	    "collapsed": true
	   },
	   "outputs": [],
"source": [
"// Scilab code Ex4.19 : Pg:158 (2008)\n",
"clc;clear;\n",
"x1 = 100;    // Position of eye-piece, cm\n",
"x2 = 67;     // Position of first lens, cm\n",
"x3 = 34;     // Position of second lens, cm\n",
"v1 = x1 - x2;    // Distance between eye-piece and the second position of the lens, cm\n",
"u = v1;    \n",
"x = x3 - u;    // The reading of the slit on the bench, cm\n",
"D = x1 - x;    // The distance between the focal plane of the eye-piece and the plane of the interfering sources, cm\n",
"d1 = 0.12;    // Position of the first lens placed between the biprism and the eye-piece, cm\n",
"d2 = 0.03;    // Position of the second lens placed between the biprism and the eye-piece, cm\n",
"omega = 0.972/10;    // Fringe width, cm\n",
"d = sqrt(d1*d2)/2;    // Separation between two virtual sources, cm\n",
"Lambda = 2*d*omega/D;    // Wavelength of light used, cm\n",
"printf('\nThe distance between the focal plane of the eye-piece and the plane of the interfering sources = %2d cm', D);\n",
"printf('\nThe wavelength of light used = %5.3e cm', Lambda);\n",
"\n",
"// Result \n",
"// The distance between the focal plane of the eye-piece and the plane of the interfering sources = 99 cm\n",
"// The wavelength of light used = 5.891e-005 cm "
   ]
   }
,
{
		   "cell_type": "markdown",
		   "metadata": {},
		   "source": [
			"## Example 4.1: Ratio_between_the_amplitude_and_intensities_of_the_two_interfering_waves.sce"
		   ]
		  },
  {
"cell_type": "code",
	   "execution_count": null,
	   "metadata": {
	    "collapsed": true
	   },
	   "outputs": [],
"source": [
"// Scilab code Ex4.1 : Pg:139 (2008)\n",
"clc;clear;\n",
"I_max = 36;    // Maxiumum intensity of interfering waves\n",
"I_min = 1;    // Minimum intensity of interfering waves\n",
"// As (a + b)/(a - b) = sqrt(I_max/I_min), solving for a/b\n",
"a1 = sqrt(I_max)+1;    // Amplitude of first wave, unit\n",
"a2 = sqrt(I_max)-1;    // Amplitude of second wave, unit\n",
"I1 = a1^2;    // Intensity of the first wave, unit\n",
"I2 = a2^2;    // Intensity of the second wave, unit\n",
"printf('\nThe ratio between the amplitudes of the two interfering waves, a1:a2 = %d:%d', a1, a2);\n",
"printf('\nThe ratio between the intensities of the two interfering waves, I1:I2 = %d:%d', I1, I2);\n",
"\n",
"// Result \n",
"// The ratio between the amplitudes of the two interfering waves, a1:a2 = 7:5\n",
"// The ratio between the intensities of the two interfering waves, I1:I2 = 49:25 "
   ]
   }
,
{
		   "cell_type": "markdown",
		   "metadata": {},
		   "source": [
			"## Example 4.20: EX4_20.sce"
		   ]
		  },
  {
"cell_type": "code",
	   "execution_count": null,
	   "metadata": {
	    "collapsed": true
	   },
	   "outputs": [],
"source": [
"// Scilab code Ex4.20 : Pg:159 (2008)\n",
"clc;clear;\n",
"D = 10;    // The distance between the slits and the screen, cm\n",
"d = 0.2/2;    // Half the separation between two slits, cm\n",
"lambda = 6000e-008;    // Wavelength of light used, cm\n",
"t = 0.05;    // Thickness of transparent plate, cm\n",
"x0 = 0.5;    // The shift of interference pattern, cm\n",
"// As x0 = D/(2*d)*(mu - 1)*t, solving for mu\n",
"mu = 2*d*x0/(D*t)+1;    // The refractive index of transparent plate\n",
"printf('\nThe refractive index of transparent plate = %3.1f', mu);\n",
"\n",
"// Result \n",
"// The refractive index of transparent plate = 1.2 "
   ]
   }
,
{
		   "cell_type": "markdown",
		   "metadata": {},
		   "source": [
			"## Example 4.21: Thickness_of_mica_sheet_in_the_double_slit_interference_experiment.sce"
		   ]
		  },
  {
"cell_type": "code",
	   "execution_count": null,
	   "metadata": {
	    "collapsed": true
	   },
	   "outputs": [],
"source": [
"// Scilab code Ex4.21 : Pg:159 (2008)\n",
"clc;clear;\n",
"D = 50;    // The distance between the slits and the screen, cm\n",
"d = 0.1/2;    // Half the separation between two slits, cm\n",
"mu = 1.58;    // The refractive index of mica sheet\n",
"x0 = 0.2;    // The shift of interference pattern, cm\n",
"// As x0 = D/(2*d)*(mu - 1)*t, solving for t\n",
"t = 2*d*x0/(D*(mu-1));    // Thickness of mica sheet, cm\n",
"printf('\nThe thickness of mica sheet = %3.1e cm', t);\n",
"\n",
"// Result \n",
"// The thickness of mica sheet = 6.9e-004 cm "
   ]
   }
,
{
		   "cell_type": "markdown",
		   "metadata": {},
		   "source": [
			"## Example 4.22: Thickness_of_transparent_material_in_two_slit_experiment.sce"
		   ]
		  },
  {
"cell_type": "code",
	   "execution_count": null,
	   "metadata": {
	    "collapsed": true
	   },
	   "outputs": [],
"source": [
"// Scilab code Ex4.22 : Pg:159 (2008)\n",
"clc;clear;\n",
"lambda = 5890e-008;    // Wavelength of light used, cm\n",
"n = 12;    // Number of bright fringe to which the central fringe shifts\n",
"mu = 1.60;    // The refractive index of transparent material\n",
"t = n*lambda/(mu-1);    // Thickness of transparent material, cm\n",
"printf('\nThe thickness of the transparent material = %5.3e cm', t);\n",
"\n",
"// Result \n",
"// The thickness of the transparent material = 1.178e-003 cm \n",
"// The answer is given wrong in the textbook"
   ]
   }
,
{
		   "cell_type": "markdown",
		   "metadata": {},
		   "source": [
			"## Example 4.23: Intensity_and_lateral_shift_of_the_central_fringe.sce"
		   ]
		  },
  {
"cell_type": "code",
	   "execution_count": null,
	   "metadata": {
	    "collapsed": true
	   },
	   "outputs": [],
"source": [
"// Scilab code Ex4.23 : Pg:159 (2008)\n",
"clc;clear;\n",
"a = 1;    // Assume amplitude of the wave from coherent sources to be unity\n",
"D = 1;    // The distance between the slits and the screen, m\n",
"d = 5e-004/2;    // Half the separation between two slits, m\n",
"mu = 1.5;    // The refractive index of glass plate\n",
"t = 1.5e-006;    // Thickness of glass plate, m\n",
"lambda = 5000e-010;    // Wavelength of light used, m\n",
"x0 = D/(2*d)*(mu - 1)*t;    // The lateral shift of central fringe, m\n",
"delta = (mu - 1)*t;    // Path difference created due to the introduction of the thin glass plate, m\n",
"kro_delta = 2*%pi/lambda*delta;    // Phase difference, rad\n",
"a1 = a, a2 = a;    // Amplitude of waves from coherent sources\n",
"I = a1^2 + a2^2 + 2*a1*a2*cos(kro_delta);    // Intensity of central fringe\n",
"printf('\nThe lateral shift of central fringe = %4.2f cm', x0*100);\n",
"printf('\nThe intensity of central fringe = %d', I);\n",
"\n",
"// Result \n",
"// The lateral shift of central fringe = 0.15 cm\n",
"// The intensity of central fringe = 0 \n",
"// The first answer is given wrong in the textbook"
   ]
   }
,
{
		   "cell_type": "markdown",
		   "metadata": {},
		   "source": [
			"## Example 4.24: Shift_in_fringe_position_due_to_changed_wavelength_of_path_length.sce"
		   ]
		  },
  {
"cell_type": "code",
	   "execution_count": null,
	   "metadata": {
	    "collapsed": true
	   },
	   "outputs": [],
"source": [
"// Scilab code Ex4.24 : Pg:160 (2008)\n",
"clc;clear;\n",
"lambda = 5.9e-005;    // Wavelength of light, cm\n",
"lambda_prime = 7.5e-005;    // Chamged wavelength of light, cm\n",
"t = 0.002;    // Thickness of mica sheet, cm\n",
"mu = 1.5;    // Refractive index of mica\n",
"x0 = 0.237;    // Position of zeroth order fringe, cm\n",
"x10 = 0.355;    // Position of tenthth order fringe, cm\n",
"omega = (x10-x0)/10;    // Fringe width with original pattern, cm\n",
"// As omega = lambda*D/(2*d), so\n",
"omega_prime = omega*lambda_prime/lambda;    // New fringe width with changed wavelength, cm\n",
"x10_prime = x0+10*omega_prime;    // Position of tenth order fringe due to changed wavelength, cm\n",
"x_0 = omega/lambda*(mu - 1)*t;    // Shift in the zeroth fringe, cm\n",
"dx0 = [x_0 -x_0];\n",
"x0_prime = x0+dx0;    // Position of the zeroth order fringe due to changed path length, cm\n",
"printf('\nThe position of tenth order fringe due to changed wavelength = %4.2f mm', x10_prime*10);\n",
"printf('\nThe position of the zeroth order fringe due to changed path length = %4.2f mm or %4.2f mm', x0_prime(1)*10, x0_prime(2)*10);\n",
"\n",
"// Result \n",
"// The position of tenth order fringe due to changed wavelength = 3.87 mm\n",
"// The position of the zeroth order fringe due to changed path length = 4.37 mm or 0.37 mm "
   ]
   }
,
{
		   "cell_type": "markdown",
		   "metadata": {},
		   "source": [
			"## Example 4.25: EX4_25.sce"
		   ]
		  },
  {
"cell_type": "code",
	   "execution_count": null,
	   "metadata": {
	    "collapsed": true
	   },
	   "outputs": [],
"source": [
"// Scilab code Ex4.25 : Pg:167 (2008)\n",
"clc;clear;\n",
"lambda = 5880e-008;    // Wavelength of light, cm\n",
"mu = 1.5;    // Refractive index of mica\n",
"r = 60;    // Angle of reflection in the plate, degree\n",
"n = 1;    // Order of fringes for the smallest thickness\n",
"t = n*lambda/(2*mu*cosd(r));    // The smallest thickness of the glass plate, cm\n",
"printf('\nThe smallest thickness of the glass plate = %4.0f angstrom', t/1e-008);\n",
"\n",
"// Result \n",
"// The smallest thickness of the glass plate = 3920 angstrom "
   ]
   }
,
{
		   "cell_type": "markdown",
		   "metadata": {},
		   "source": [
			"## Example 4.26: EX4_26.sce"
		   ]
		  },
  {
"cell_type": "code",
	   "execution_count": null,
	   "metadata": {
	    "collapsed": true
	   },
	   "outputs": [],
"source": [
"// Scilab code Ex4.26 : Pg:167 (2008)\n",
"clc;clear;\n",
"lambda = 4000e-008;    // Wavelength of light, cm\n",
"mu = 1.4;    // Refractive index of the film\n",
"r = 0;    // Angle of reflection in the plate, degree\n",
"n = 1;    // Order of firnges for the smallest thickness\n",
"t = n*lambda/(4*mu*cosd(r));    // The thickness of the thinnest film, cm\n",
"printf('\nThe thickness of the thinnest film for reflection from violet component = %4.1f angstrom', t/1e-008);\n",
"\n",
"// Result \n",
"// The thickness of the thinnest film for reflection from violet component = 714.3 angstrom "
   ]
   }
,
{
		   "cell_type": "markdown",
		   "metadata": {},
		   "source": [
			"## Example 4.27: Thickness_of_the_oil_film.sce"
		   ]
		  },
  {
"cell_type": "code",
	   "execution_count": null,
	   "metadata": {
	    "collapsed": true
	   },
	   "outputs": [],
"source": [
"// Scilab code Ex4.27 : Pg:167 (2008)\n",
"clc;clear;\n",
"lambda = 5890e-008;    // Wavelength of light, cm\n",
"mu = 1.5;    // Refractive index of oil\n",
"i = 30;    // Angle of incidence, degree\n",
"n = 8;    // Order of dark band\n",
"sin_r = sind(i)/mu;    // Sine of angle of reflection from Snell's Law, degree\n",
"cos_r = sqrt(1-sin_r^2);    // Cosine of angle of reflection from the trigonometric identity, degree\n",
"t = n*lambda/(2*mu*cos_r);    // The thickness of the oil film, cm\n",
"printf('\nThe thickness of the oil film = %5.3e cm', t);\n",
"\n",
"// Result \n",
"// The thickness of the oil film = 1.666e-004 cm "
   ]
   }
,
{
		   "cell_type": "markdown",
		   "metadata": {},
		   "source": [
			"## Example 4.28: Thickness_of_the_soap_film_from_interference_by_reflection.sce"
		   ]
		  },
  {
"cell_type": "code",
	   "execution_count": null,
	   "metadata": {
	    "collapsed": true
	   },
	   "outputs": [],
"source": [
"// Scilab code Ex4.28 : Pg:168 (2008)\n",
"clc;clear;\n",
"lambda1 = 6.1e-005;    // Wavelength corresponding to the first dark band, cm\n",
"lambda2 = 6.0e-005;    // Wavelength corresponding to the second dark band, cm\n",
"n = lambda2/(lambda1 - lambda2);    // Order of dark band\n",
"mu = 4/3;    // Refractive index of the film\n",
"sin_i = 4/5;    // Sine of ngle of incidence\n",
"sin_r = sin_i/mu;    // Sine of angle of reflection from Snell's Law, degree\n",
"cos_r = sqrt(1-sin_r^2);    // Cosine of angle of reflection from the trigonometric identity, degree\n",
"t = n*lambda1/(2*mu*cos_r);    // The thickness of the oil film, cm\n",
"printf('\nThe thickness of the soap film = %6.4f cm', t);\n",
"\n",
"// Result \n",
"// The thickness of the soap film = 0.0017 cm "
   ]
   }
,
{
		   "cell_type": "markdown",
		   "metadata": {},
		   "source": [
			"## Example 4.29: EX4_29.sce"
		   ]
		  },
  {
"cell_type": "code",
	   "execution_count": null,
	   "metadata": {
	    "collapsed": true
	   },
	   "outputs": [],
"source": [
"// Scilab code Ex4.29 : Pg:168 (2008)\n",
"clc;clear;\n",
"lambda1 = 4e-005;    // First wavelength, cm\n",
"lambda2 = 7e-005;    // Second wavelength, cm\n",
"t = 0.001;    // The thickness of the air film, cm\n",
"mu = 1;    // Refractive index of the air film\n",
"i = 30;    // Angle of incidence, degree\n",
"// As mu = sin_i/sin_r = 1, so that sin_i = sin_r \n",
"sin_r = sind(30);    // Sine of angle of reflection from Snell's Law, degree\n",
"cos_r = sqrt(1-sin_r^2);    // Cosine of angle of reflection from the trigonometric identity, degree\n",
"n1 = 2*mu*t*cos_r/lambda1;    // Number of dark bands seen at first wavelength\n",
"n2 = 2*mu*t*cos_r/lambda2;    // Number of dark bands seen at second wavelength\n",
"n = n1 - n2;    // Number of dark bands observed within the given spectral range\n",
"printf('\nThe number of dark bands observed within the given spectral range = %2d', ceil(n));\n",
"\n",
"// Result \n",
"// The number of dark bands observed within the given spectral range = 19"
   ]
   }
,
{
		   "cell_type": "markdown",
		   "metadata": {},
		   "source": [
			"## Example 4.2: Ratio_of_maximum_intensity_to_minimum_intensity_of_the_two_interfering_waves.sce"
		   ]
		  },
  {
"cell_type": "code",
	   "execution_count": null,
	   "metadata": {
	    "collapsed": true
	   },
	   "outputs": [],
"source": [
"// Scilab code Ex4.2 : Pg:139 (2008)\n",
"clc;clear;\n",
"I1 = 100;    // Maxiumum intensity of interfering waves\n",
"I2 = 1;    // Minimum intensity of interfering waves\n",
"a1_ratio_a2 = sqrt(I1/I2);    // Ratio of two amplitudes\n",
"a2 = 1;    // Assume the amplitude of second wave to be unity\n",
"a1 = a2*a1_ratio_a2;    // The amplitude of second wave\n",
"I_max = (a1+a2)^2;    // Maximum intensity of interfering waves\n",
"I_min = (a1-a2)^2;    // Minimum intensity of interfering waves\n",
"printf('\nThe ratio of maximum intensity to minimum intensity of the two interfering waves, I_max:I_min = %d:%d', I_max, I_min);\n",
"\n",
"// Result \n",
"// The ratio of maximum intensity to minimum intensity of the two interfering waves, I_max:I_min = 121:81 "
   ]
   }
,
{
		   "cell_type": "markdown",
		   "metadata": {},
		   "source": [
			"## Example 4.30: Fringe_width_in_air_wedge_for_normal_incidence.sce"
		   ]
		  },
  {
"cell_type": "code",
	   "execution_count": null,
	   "metadata": {
	    "collapsed": true
	   },
	   "outputs": [],
"source": [
"// Scilab code Ex4.30 : Pg:180 (2008)\n",
"clc;clear;\n",
"Lambda = 6000e-08;    // Wavelength of light, cm\n",
"d = 0.005;    // Diameter of wire, mm\n",
"x = 15;    // Distance between the glass plates, cm\n",
"theta = d/x;    // Angle of the wedge, degree\n",
"omega = Lambda/(2*theta);    // Fringe width in air wedge for normal incidence, cm\n",
"printf('\nThe fringe width in air-wedge for normal incidence = %4.2f cm', omega);\n",
"\n",
"// Result \n",
"// The fringe width in air-wedge for normal incidence = 0.09 cm"
   ]
   }
,
{
		   "cell_type": "markdown",
		   "metadata": {},
		   "source": [
			"## Example 4.31: Angle_of_the_wedge.sce"
		   ]
		  },
  {
"cell_type": "code",
	   "execution_count": null,
	   "metadata": {
	    "collapsed": true
	   },
	   "outputs": [],
"source": [
"// Scilab code Ex4.31: : Pg:181 (2008)\n",
"clc;clear;\n",
"Lambda = 6000e-08;    // Wavelength of light, cm\n",
"mu = 1.35;    // Refractive index of thin wedge shaped film\n",
"omega = 0.20;    // Fringe width, cm\n",
"// As omega = Lambda/(2*mu*theta), solving for theta\n",
"theta = Lambda/(2*mu*omega)*180/%pi;    // Angle of the wedge, degree\n",
"printf('\nThe angle of the wedge = %6.4f degree', theta);\n",
"\n",
"// Result \n",
"// The angle of the wedge = 0.0064 degree"
   ]
   }
,
{
		   "cell_type": "markdown",
		   "metadata": {},
		   "source": [
			"## Example 4.32: Thickness_of_the_wire.sce"
		   ]
		  },
  {
"cell_type": "code",
	   "execution_count": null,
	   "metadata": {
	    "collapsed": true
	   },
	   "outputs": [],
"source": [
"// Scilab code Ex4.32: : Pg:181 (2008)\n",
"clc;clear;\n",
"Lambda = 5890e-08;    // Wavelength of light, cm\n",
"n = 20;    // Number of fringes\n",
"// Since omega = Lambda*x/2*t and x = n*omega, solving for t\n",
"t = n*Lambda/2;    // Thickness of the wire, cm\n",
"printf('\nThe thickness of the wire = %4.2e cm', t);\n",
"\n",
"// Result \n",
"// The thickness of the wire = 5.89e-004 cm "
   ]
   }
,
{
		   "cell_type": "markdown",
		   "metadata": {},
		   "source": [
			"## Example 4.33: Wedge_shaped_air_film_between_two_optically_plane_glass_plates.sce"
		   ]
		  },
  {
"cell_type": "code",
	   "execution_count": null,
	   "metadata": {
	    "collapsed": true
	   },
	   "outputs": [],
"source": [
"// Scilab code Ex4.33: : Pg:182 (2008)\n",
"clc;clear;\n",
"Lambda = 5.46e-05;    // Wavelength of light, cm\n",
"n = 12;    // Number of fringes\n",
"d = 0.40;    // Spacing between 12 fringes, cm\n",
"omega = d/n;    // Fringe width, cm\n",
"// Since fringe width in air wedge for normal incidence is given by omega = Lambda/2*theta. On solving for theta, we have\n",
"// As omega = Lambda/(2*theta), solving for theta\n",
"theta = Lambda/(2*omega);    // Angle of the wedge, radian\n",
"l = 3;    // Length of the plate, cm\n",
"t = theta*l;    // Thickness of the foil, cm\n",
"mu = 1.33;    // Refractive index of water\n",
"omega_prime = Lambda/(2*mu*theta);    // Fringe width if water is introduced in the wedge space in Newton's ring experiment, cm\n",
"printf('\nThe angle of the wedge = %3.1e radian', theta);\n",
"printf('\nThe thickness of the foil = %4.2e cm', t);\n",
"printf('\nThe fringe width if water is introduced in the wedge space = %5.3f cm', omega_prime);\n",
"\n",
"// Result \n",
"// The angle of the wedge = 8.2e-004 radian\n",
"// The thickness of the foil = 2.46e-003 cm\n",
"// The fringe width if water is introduced in the wedge space = 0.025 cm "
   ]
   }
,
{
		   "cell_type": "markdown",
		   "metadata": {},
		   "source": [
			"## Example 4.34: Angular_diameter_of_bright_fringe.sce"
		   ]
		  },
  {
"cell_type": "code",
	   "execution_count": null,
	   "metadata": {
	    "collapsed": true
	   },
	   "outputs": [],
"source": [
"// Scilab code Ex4.34: : Pg:188 (2008)\n",
"clc;clear;\n",
"Lambda = 5896e-08;    // Wavelength of light, cm\n",
"d = 0.3;    // Path difference between the M1 and M2 mirrors, cm\n",
"r = 0;    // For central bright fringe\n",
"// Since 2*d*cos(r) = n*Lambda and for r = 0 which gives 2*d = n*Lambda\n",
"// 2*d*cos_theta = (n-6)*Lambda, solving for theta\n",
"theta = acosd(1-6*Lambda/(2*d));    // Angular radius of the seventh bright fringe, degree\n",
"D = 2*theta;    // Angular diameter of the seventh bright fringe, degree\n",
"printf('\nThe angular diameter of 7th bright fringe = %1.0f degree', D);\n",
"\n",
"// Result \n",
"// The angular diameter of 7th bright fringe = 4 degree "
   ]
   }
,
{
		   "cell_type": "markdown",
		   "metadata": {},
		   "source": [
			"## Example 4.35: Wavelength_of_light.sce"
		   ]
		  },
  {
"cell_type": "code",
	   "execution_count": null,
	   "metadata": {
	    "collapsed": true
	   },
	   "outputs": [],
"source": [
"// Scilab code Ex4.35: : Pg:188 (2008)\n",
"clc;clear;\n",
"N = 500;    // Number of fringes\n",
"x = 0.01474;    // Distance traversed by the mirror when N fringes cross the field of view, cm\n",
"//Since x = N*Lambda/2, solving for Lambda\n",
"Lambda = 2*x/(N*1e-08);    // wavelngth of light, angstrom\n",
"printf('\nThe wavelength of light = %4.0f angstrom', Lambda);\n",
"\n",
"// Result \n",
"// The wavelength of light = 5896 angstrom "
   ]
   }
,
{
		   "cell_type": "markdown",
		   "metadata": {},
		   "source": [
			"## Example 4.36: Difference_in_the_wavelengths_of_the_D1_and_D2_lines_of_the_sodium_lamp.sce"
		   ]
		  },
  {
"cell_type": "code",
	   "execution_count": null,
	   "metadata": {
	    "collapsed": true
	   },
	   "outputs": [],
"source": [
"// Scilab code Ex4.36: : Pg:188 (2008)\n",
"clc;clear;\n",
"x = 0.0289;    // Distance traversed by the mirror between two successive disappearances, cm\n",
"Lambda = 5890e-08;    // Wavelength of light, cm\n",
"delta_Lambda = Lambda^2/(2*x);    // Difference in the wavelengths of the D1 and D2 lines of the sodium lamp, cm\n",
"printf('\nThe difference in the wavelengths of the D1 and D2 lines of the sodium lamp = %1.0e cm', delta_Lambda);\n",
"\n",
"// Result \n",
"// The difference in the wavelengths of the D1 and D2 lines of the sodium lamp = 6e-008 cm "
   ]
   }
,
{
		   "cell_type": "markdown",
		   "metadata": {},
		   "source": [
			"## Example 4.4: Lowest_phase_difference_between_the_waves_at_interfering_point.sce"
		   ]
		  },
  {
"cell_type": "code",
	   "execution_count": null,
	   "metadata": {
	    "collapsed": true
	   },
	   "outputs": [],
"source": [
"// Scilab code Ex4.4 : Pg:140 (2008)\n",
"clc;clear;\n",
"I1 = 1.44;    // Intensity of first wave\n",
"I2 = 4.00;    // Intensity of second wave\n",
"I = 0.90;    // Intensity of resultant wave\n",
"// As I_delta = I1 + I2 + 2*sqrt(I1*I2)*cos(delta), solving for delta\n",
"delta = acosd((I-I1-I2)/(2*sqrt(I1*I2)));\n",
"printf('\nThe lowest phase difference between the waves at interfering point = %3d degree', delta);    \n",
"\n",
"// Result \n",
"// The lowest phase difference between the waves at interfering point = 161 degree "
   ]
   }
,
{
		   "cell_type": "markdown",
		   "metadata": {},
		   "source": [
			"## Example 4.6: Value_of_fringe_width.sce"
		   ]
		  },
  {
"cell_type": "code",
	   "execution_count": null,
	   "metadata": {
	    "collapsed": true
	   },
	   "outputs": [],
"source": [
"// Scilab code Ex4.6: : Pg:146 (2008)\n",
"clc;clear;\n",
"D = 60;    // Distance between the source and the screen, cm\n",
"Lambda = 5.9e-05;    // Wavelength of light, cm\n",
"d = 0.3/2;    // Separation between the slits, cm\n",
"omega = D*Lambda/(2*d);    // Fringe width, cm\n",
"printf('\nThe value of fringe width = %6.4f cm', omega);\n",
"\n",
"// Result \n",
"// The value of fringe width = 0.0118 cm "
   ]
   }
,
{
		   "cell_type": "markdown",
		   "metadata": {},
		   "source": [
			"## Example 4.7: Wavelength_of_light.sce"
		   ]
		  },
  {
"cell_type": "code",
	   "execution_count": null,
	   "metadata": {
	    "collapsed": true
	   },
	   "outputs": [],
"source": [
"// Scilab code Ex4.7 : Pg:146 (2008)\n",
"clc;clear;\n",
"D = 80;    // Distance between the source and the screen, cm\n",
"d = 0.018/2;    // Separation between two coherent sources, cm\n",
"n = 4;    // Number of the fringe\n",
"x_n = 1.08;    // Distance of nth bright fringe from the center of central fringe, cm\n",
"// As x_n = n*Lambda*D/(2*d), solving for Lambda\n",
"Lambda = x_n*2*d/(n*D);    // wavelength of light, Angstorm \n",
"printf('\nThe wavelength of light used = %4.0f angstrom', Lambda/1e-008);\n",
"\n",
"// Result \n",
"// The wavelength of light used = 6075 angstrom"
   ]
   }
,
{
		   "cell_type": "markdown",
		   "metadata": {},
		   "source": [
			"## Example 4.8: Double_slit_separatio.sce"
		   ]
		  },
  {
"cell_type": "code",
	   "execution_count": null,
	   "metadata": {
	    "collapsed": true
	   },
	   "outputs": [],
"source": [
"// Scilab code Ex4.8 : Pg:146 (2008)\n",
"clc;clear;\n",
"D = 200;    // Distance between the source and the screen, cm\n",
"Lambda = 5100e-08;    // Wavelength of light, cm\n",
"x = 2;    // Separation of fringes, cm\n",
"n = 10;    // number of fringes\n",
"omega = x/n;    // Fringe width, cm\n",
"d = D*Lambda/(2*omega);    // Double slit separation, mm\n",
"printf('\nThe double slit separation = %4.2f mm', 2*d*10);\n",
"\n",
"// Result \n",
"// The double slit separation = 0.51 mm"
   ]
   }
,
{
		   "cell_type": "markdown",
		   "metadata": {},
		   "source": [
			"## Example 4.9: Wavelength_of_light_used_in_double_slit_experiment.sce"
		   ]
		  },
  {
"cell_type": "code",
	   "execution_count": null,
	   "metadata": {
	    "collapsed": true
	   },
	   "outputs": [],
"source": [
"// Scilab code Ex4.9: Pg:147 (2008)\n",
"clc;clear;\n",
"D = 1000;    // Distance between the source and the screen, mm\n",
"omega = 1;    // For simplicity assume fringe width to be unity, mm\n",
"x9 = 9*omega;    // Position of 9th bright fringe, mm\n",
"x2_prime = 3/2*omega;    // Position of 9th bright fringe, mm\n",
"d = 0.5/2;    // Separation between the slits, mm\n",
"l = 8.835;    // Distance between 9th bright fringe and second dark fringe\n",
"// As x9 - x2_prime = 9*omega-3/2*omega = l, solving for omega\n",
"omega = l/(x9 - x2_prime);    // Fringe width, mm\n",
"lambda = omega*2*d/D;    // Wavelength of light used, mm\n",
"printf('\nThe wavelength of light used = %4d angstrom', lambda/1e-007);\n",
"\n",
"// Result \n",
"// The wavelength of light used = 5890 angstrom "
   ]
   }
],
"metadata": {
		  "kernelspec": {
		   "display_name": "Scilab",
		   "language": "scilab",
		   "name": "scilab"
		  },
		  "language_info": {
		   "file_extension": ".sce",
		   "help_links": [
			{
			 "text": "MetaKernel Magics",
			 "url": "https://github.com/calysto/metakernel/blob/master/metakernel/magics/README.md"
			}
		   ],
		   "mimetype": "text/x-octave",
		   "name": "scilab",
		   "version": "0.7.1"
		  }
		 },
		 "nbformat": 4,
		 "nbformat_minor": 0
}
