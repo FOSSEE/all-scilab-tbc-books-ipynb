{
"cells": [
 {
		   "cell_type": "markdown",
	   "metadata": {},
	   "source": [
       "# Chapter 7: The Z Transform"
	   ]
	},
{
		   "cell_type": "markdown",
		   "metadata": {},
		   "source": [
			"## Example 7.10: z_transform.sce"
		   ]
		  },
  {
"cell_type": "code",
	   "execution_count": null,
	   "metadata": {
	    "collapsed": true
	   },
	   "outputs": [],
"source": [
"//Example 7.10\n",
"//Z-transform of (2^n)u[n-2]\n",
"clc;\n",
"syms n z;\n",
"x=2^n;\n",
"X=symsum(x*(z^-n),n,2,%inf);\n",
"disp(X,'X(z)=');"
   ]
   }
,
{
		   "cell_type": "markdown",
		   "metadata": {},
		   "source": [
			"## Example 7.11_a: z_transform.sce"
		   ]
		  },
  {
"cell_type": "code",
	   "execution_count": null,
	   "metadata": {
	    "collapsed": true
	   },
	   "outputs": [],
"source": [
"//Example 7.11a\n",
"//Z transform of (a^n)cos(Wo*n)\n",
"clc;\n",
"syms Wo n z a;\n",
"x1=(a^n)*exp(sqrt(-1)*Wo*n);\n",
"X1=symsum(x1*(z^-n),n,0,%inf);\n",
"x2=(a^n)*exp(-sqrt(-1)*Wo*n);\n",
"X2=symsum(x2*(z^-n),n,0,%inf);\n",
"X=(X1+X2)/2;\n",
"disp(X,'X(z)=');"
   ]
   }
,
{
		   "cell_type": "markdown",
		   "metadata": {},
		   "source": [
			"## Example 7.11_b: z_transform.sce"
		   ]
		  },
  {
"cell_type": "code",
	   "execution_count": null,
	   "metadata": {
	    "collapsed": true
	   },
	   "outputs": [],
"source": [
"//Example 7.11b\n",
"//Z transform of (a^n)sin(Wo*n)\n",
"clc;\n",
"syms Wo n z a;\n",
"x1=(a^n)*exp(sqrt(-1)*Wo*n);\n",
"X1=symsum(x1*(z^-n),n,0,%inf);\n",
"x2=(a^n)*exp(-sqrt(-1)*Wo*n);\n",
"X2=symsum(x2*(z^-n),n,0,%inf);\n",
"X=(X1-X2)/(2*%i);\n",
"disp(X,'X(z)=');"
   ]
   }
,
{
		   "cell_type": "markdown",
		   "metadata": {},
		   "source": [
			"## Example 7.12: z_transform_using_differentiation_property.sce"
		   ]
		  },
  {
"cell_type": "code",
	   "execution_count": null,
	   "metadata": {
	    "collapsed": true
	   },
	   "outputs": [],
"source": [
"//Example 7.12\n",
"//Ztransform of x[n]=(n^2)*u[n] done by Diffrentiation property\n",
"clc;\n",
"syms z n;\n",
"x=1;\n",
"X1=symsum(x*(z^-n),n,0,%inf);\n",
"X2=(-z)*(diff(X1,z));\n",
"X=(-z)*(diff(X2,z));\n",
"disp(X,'X(z)=');"
   ]
   }
,
{
		   "cell_type": "markdown",
		   "metadata": {},
		   "source": [
			"## Example 7.13: z_transform.sce"
		   ]
		  },
  {
"cell_type": "code",
	   "execution_count": null,
	   "metadata": {
	    "collapsed": true
	   },
	   "outputs": [],
"source": [
"//Example 7.13\n",
"//Diffrentiation property is used here\n",
"clc;\n",
"syms n z;\n",
"x1=((-1/2)^n);\n",
"x2=(1/4)^-n;\n",
"X1=symsum(x1*(z^-n),n,0,%inf);\n",
"X3=(-z)*diff(X1,z);\n",
"X2=symsum(x2*(z^-n),n,-%inf,0);\n",
"X=X3*X2;\n",
"disp(X,'X(z)=');"
   ]
   }
,
{
		   "cell_type": "markdown",
		   "metadata": {},
		   "source": [
			"## Example 7.18: Find_Discrete_time_input_signal.sce"
		   ]
		  },
  {
"cell_type": "code",
	   "execution_count": null,
	   "metadata": {
	    "collapsed": true
	   },
	   "outputs": [],
"source": [
"//Example 7.18\n",
"//Determine the input x[n] if h[n]=[1,2,3]and y[n]=[1,1,2,-1,3]\n",
"clc;\n",
"clear;\n",
"function[za]=ztransfer(sequence,n)\n",
"    z=poly(0,'z','r')\n",
"    za=sequence*(1/z)^n'\n",
"endfunction\n",
"z=poly(0,'z');\n",
"h=[1,2,3];\n",
"n1=0:length(h)-1;\n",
"H=ztransfer(h,n1);\n",
"y=[1,1,2,-1,3];\n",
"n2=0:length(y)-1;\n",
"Y=ztransfer(y,n2);\n",
"X=Y/H;\n",
"funcprot(0);\n",
"funcprot(0);\n",
"x=ldiv(z^2-z+1,z^2,3);\n",
"disp(x,'x[n]=');"
   ]
   }
,
{
		   "cell_type": "markdown",
		   "metadata": {},
		   "source": [
			"## Example 7.19: Inverse_Z_transform.sce"
		   ]
		  },
  {
"cell_type": "code",
	   "execution_count": null,
	   "metadata": {
	    "collapsed": true
	   },
	   "outputs": [],
"source": [
"//Example 7.19\n",
"//Find the inverse Z-transform using long division method\n",
"clc;\n",
"clear;\n",
"z=poly(0,'z');\n",
"x=ldiv(z^2,z^2-(3/2)*z+(1/2),4);\n",
"disp(x,'x[n]=');"
   ]
   }
,
{
		   "cell_type": "markdown",
		   "metadata": {},
		   "source": [
			"## Example 7.1: z_transform.sce"
		   ]
		  },
  {
"cell_type": "code",
	   "execution_count": null,
	   "metadata": {
	    "collapsed": true
	   },
	   "outputs": [],
"source": [
"//Example 7.1\n",
"clc;\n",
"syms a z n;\n",
"x=a^n;\n",
"X=symsum(x*(z^-n),n,0,%inf);\n",
"disp(X,'X(z)=');"
   ]
   }
,
{
		   "cell_type": "markdown",
		   "metadata": {},
		   "source": [
			"## Example 7.24_a: Inverse_Z_transform_using_long_division_method.sce"
		   ]
		  },
  {
"cell_type": "code",
	   "execution_count": null,
	   "metadata": {
	    "collapsed": true
	   },
	   "outputs": [],
"source": [
"//Example 7.24a\n",
"//Inverse Z-transform using long division method\n",
"clc;\n",
"clear;\n",
"z=poly(0,'z');\n",
"x=ldiv(2*z^3+3*z^2,(z+1)*(z+0.5)*(z-0.25),4);\n",
"disp(x,'x[n]=');"
   ]
   }
,
{
		   "cell_type": "markdown",
		   "metadata": {},
		   "source": [
			"## Example 7.2: z_transform_of_unit_impulse.sce"
		   ]
		  },
  {
"cell_type": "code",
	   "execution_count": null,
	   "metadata": {
	    "collapsed": true
	   },
	   "outputs": [],
"source": [
"//Example 7.2\n",
"clc;\n",
"syms n z;\n",
"x=1;\n",
"X=symsum(x*(z^-n),n,0,0);\n",
"disp(X,'X(z)=');"
   ]
   }
,
{
		   "cell_type": "markdown",
		   "metadata": {},
		   "source": [
			"## Example 7.36: z_transform.sce"
		   ]
		  },
  {
"cell_type": "code",
	   "execution_count": null,
	   "metadata": {
	    "collapsed": true
	   },
	   "outputs": [],
"source": [
"//Example 7.36\n",
"clc;\n",
"syms z n;\n",
"x1=2^n;\n",
"X1=symsum(x1*(z^-n),n,0,%inf);\n",
"x2=3^n;\n",
"X2=symsum(x2*(z^-n),n,0,%inf);\n",
"X=3*X1-4*X2;"
   ]
   }
,
{
		   "cell_type": "markdown",
		   "metadata": {},
		   "source": [
			"## Example 7.37: z_transform.sce"
		   ]
		  },
  {
"cell_type": "code",
	   "execution_count": null,
	   "metadata": {
	    "collapsed": true
	   },
	   "outputs": [],
"source": [
"//Example 7.37\n",
"clc;\n",
"syms z n;\n",
"x=(1/2)^n;\n",
"X=symsum(x*(z^-n),n,0,%inf);"
   ]
   }
,
{
		   "cell_type": "markdown",
		   "metadata": {},
		   "source": [
			"## Example 7.38: z_transform.sce"
		   ]
		  },
  {
"cell_type": "code",
	   "execution_count": null,
	   "metadata": {
	    "collapsed": true
	   },
	   "outputs": [],
"source": [
"//Example 7.38\n",
"clc;\n",
"syms a z n;\n",
"x=-(a^n);\n",
"X=symsum(x*(z^-n),n,-%inf,-1);"
   ]
   }
,
{
		   "cell_type": "markdown",
		   "metadata": {},
		   "source": [
			"## Example 7.39: z_transform_using_differentiation_property.sce"
		   ]
		  },
  {
"cell_type": "code",
	   "execution_count": null,
	   "metadata": {
	    "collapsed": true
	   },
	   "outputs": [],
"source": [
"//Example 7.39\n",
"clc;\n",
"syms z n a;\n",
"x1=(a^n);\n",
"X1=symsum(x1*(z^-n),n,0,%inf);\n",
"X=(-z)*(diff(X1,z));"
   ]
   }
,
{
		   "cell_type": "markdown",
		   "metadata": {},
		   "source": [
			"## Example 7.3: z_transform_of_unit_step.sce"
		   ]
		  },
  {
"cell_type": "code",
	   "execution_count": null,
	   "metadata": {
	    "collapsed": true
	   },
	   "outputs": [],
"source": [
"clc;\n",
"syms n;\n",
"x=ones(1);\n",
"X=symsum(x*(z^-n),n,0,%inf);\n",
"disp(X,'X(z)=');"
   ]
   }
,
{
		   "cell_type": "markdown",
		   "metadata": {},
		   "source": [
			"## Example 7.42_a: z_transform_of_sequence.sce"
		   ]
		  },
  {
"cell_type": "code",
	   "execution_count": null,
	   "metadata": {
	    "collapsed": true
	   },
	   "outputs": [],
"source": [
"//Example 7.42a\n",
"clc;\n",
"function[za]=ztransfer(sequence,n)\n",
"    z=poly(0,'z','r')\n",
"    za=sequence*(1/z)^n'\n",
"endfunction\n",
"x=[1,2,3,4,5,0,7];\n",
"n1=0:length(x)-1;\n",
"X=ztransfer(x,n1);\n",
"funcprot(0);"
   ]
   }
,
{
		   "cell_type": "markdown",
		   "metadata": {},
		   "source": [
			"## Example 7.42_b: z_transform_of_sequence.sce"
		   ]
		  },
  {
"cell_type": "code",
	   "execution_count": null,
	   "metadata": {
	    "collapsed": true
	   },
	   "outputs": [],
"source": [
"//Example 7.42b\n",
"clc;\n",
"function[za]=ztransfer(sequence,n)\n",
"    z=poly(0,'z','r')\n",
"    za=sequence*(1/z)^n'\n",
"endfunction\n",
"x=[1,2,3,4,5,0,7];\n",
"n1=-3:length(x)-4;\n",
"X=ztransfer(x,n1);\n",
"funcprot(0);"
   ]
   }
,
{
		   "cell_type": "markdown",
		   "metadata": {},
		   "source": [
			"## Example 7.43: z_transform.sce"
		   ]
		  },
  {
"cell_type": "code",
	   "execution_count": null,
	   "metadata": {
	    "collapsed": true
	   },
	   "outputs": [],
"source": [
"//Example 7.43\n",
"clc;\n",
"syms z n;\n",
"x1=(-1/3)^n;\n",
"x2=(1/2)^n;\n",
"X1=symsum(x1*(z^-n),n,0,%inf);\n",
"X2=symsum(x2*(z^-n),n,-%inf,-1);\n",
"X=X1-X2;"
   ]
   }
,
{
		   "cell_type": "markdown",
		   "metadata": {},
		   "source": [
			"## Example 7.48_a: z_transform.sce"
		   ]
		  },
  {
"cell_type": "code",
	   "execution_count": null,
	   "metadata": {
	    "collapsed": true
	   },
	   "outputs": [],
"source": [
"//Example 7.48a\n",
"clc;\n",
"syms z n;\n",
"x1=2^n;\n",
"X1=symsum(x1*(z^-n),n,0,%inf);\n",
"x2=(1/2)^n;\n",
"X2=symsum(x2*(z^-n),n,0,%inf);\n",
"X=X1+(3*X2);"
   ]
   }
,
{
		   "cell_type": "markdown",
		   "metadata": {},
		   "source": [
			"## Example 7.48_b: z_transform.sce"
		   ]
		  },
  {
"cell_type": "code",
	   "execution_count": null,
	   "metadata": {
	    "collapsed": true
	   },
	   "outputs": [],
"source": [
"//Example 7.48b\n",
"clc;\n",
"syms z n;\n",
"x1=(-1/2)^n;\n",
"X1=symsum(x1*(z^-n),n,0,%inf);\n",
"x2=(3)^n;\n",
"X2=symsum(x2*(z^-n),n,-%inf,-1);\n",
"X=(3*X1)-(2*X2);"
   ]
   }
,
{
		   "cell_type": "markdown",
		   "metadata": {},
		   "source": [
			"## Example 7.50: z_transform_of_sequence.sce"
		   ]
		  },
  {
"cell_type": "code",
	   "execution_count": null,
	   "metadata": {
	    "collapsed": true
	   },
	   "outputs": [],
"source": [
"//Example 7.50\n",
"clc;\n",
"syms n z;\n",
"X1=0;\n",
"X2=0;\n",
"for i=0:2:4\n",
"    x1=(1/2)^i;\n",
"    X1=X1+x1*z^-i;\n",
"end\n",
"for i=1:2:5\n",
"    x2=(1/3)^i;\n",
"    X2=X2+x2*z^-i;\n",
"end\n",
"x3=(2)^n;\n",
"X3=symsum(x3*(z^-n),n,-%inf,1);\n",
"X=X1+X2+X3;  "
   ]
   }
,
{
		   "cell_type": "markdown",
		   "metadata": {},
		   "source": [
			"## Example 7.52: z_transform_of_discrete_signal.sce"
		   ]
		  },
  {
"cell_type": "code",
	   "execution_count": null,
	   "metadata": {
	    "collapsed": true
	   },
	   "outputs": [],
"source": [
"//Example 7.52\n",
"//Z transform of x[n]=(2^n)u[n-2]\n",
"clc;\n",
"syms z n;\n",
"x=2^n;\n",
"X=symsum(x*(z^-n),n,2,%inf);"
   ]
   }
,
{
		   "cell_type": "markdown",
		   "metadata": {},
		   "source": [
			"## Example 7.54: Inverse_Z_transform.sce"
		   ]
		  },
  {
"cell_type": "code",
	   "execution_count": null,
	   "metadata": {
	    "collapsed": true
	   },
	   "outputs": [],
"source": [
"//Example 7.54\n",
"clc;\n",
"clear;\n",
"z=poly(0,'z');\n",
"X=[2;3*z^-1;4*z^-2];\n",
"n=0:2;\n",
"ZI=z^n';\n",
"x=numer(X.*ZI);\n",
"disp(x,'x[n]=');"
   ]
   }
,
{
		   "cell_type": "markdown",
		   "metadata": {},
		   "source": [
			"## Example 7.56: Find_Discrete_time_input_signal.sce"
		   ]
		  },
  {
"cell_type": "code",
	   "execution_count": null,
	   "metadata": {
	    "collapsed": true
	   },
	   "outputs": [],
"source": [
"//Example 7.56\n",
"//Determine the input x[n] if h[n]=[1,2,3]and y[n]=[1,1,2,-1,3]\n",
"clc;\n",
"clear;\n",
"function[za]=ztransfer(sequence,n)\n",
"    z=poly(0,'z','r')\n",
"    za=sequence*(1/z)^n'\n",
"endfunction\n",
"z=poly(0,'z');\n",
"h=[1,2,3];\n",
"n1=0:length(h)-1;\n",
"H=ztransfer(h,n1);\n",
"y=[1,1,2,-1,3];\n",
"n2=0:length(y)-1;\n",
"Y=ztransfer(y,n2);\n",
"X=Y/H;\n",
"funcprot(0);\n",
"funcprot(0);\n",
"x=ldiv(1-z+z^2,z^2,3);\n",
"disp(x,'x[n]=');"
   ]
   }
,
{
		   "cell_type": "markdown",
		   "metadata": {},
		   "source": [
			"## Example 7.59_a: z_transform.sce"
		   ]
		  },
  {
"cell_type": "code",
	   "execution_count": null,
	   "metadata": {
	    "collapsed": true
	   },
	   "outputs": [],
"source": [
"//Example 7.59a\n",
"//Z transform of x[n]=-(a^n)u[-n-1]\n",
"clc;\n",
"syms a n z;\n",
"x=-(a^n);\n",
"X=symsum(x*(z^-n),n,-%inf,-1);"
   ]
   }
,
{
		   "cell_type": "markdown",
		   "metadata": {},
		   "source": [
			"## Example 7.59_b: z_transform.sce"
		   ]
		  },
  {
"cell_type": "code",
	   "execution_count": null,
	   "metadata": {
	    "collapsed": true
	   },
	   "outputs": [],
"source": [
"//Example 7.59b\n",
"//Z transform of x[n]=(a^-n)u[-n-1]\n",
"clc;\n",
"syms a n z;\n",
"x=(a^-n);\n",
"X=symsum(x*(z^-n),n,-%inf,-1);"
   ]
   }
,
{
		   "cell_type": "markdown",
		   "metadata": {},
		   "source": [
			"## Example 7.5: z_transform_of_cosine.sce"
		   ]
		  },
  {
"cell_type": "code",
	   "execution_count": null,
	   "metadata": {
	    "collapsed": true
	   },
	   "outputs": [],
"source": [
"//Example 7.5\n",
"clc;\n",
"syms Wo n z;\n",
"x1=exp(sqrt(-1)*Wo*n);\n",
"X1=symsum(x1*(z^-n),n,0,%inf);\n",
"x2=exp(-sqrt(-1)*Wo*n);\n",
"X2=symsum(x2*(z^-n),n,0,%inf);\n",
"X=(X1+X2)/2;\n",
"disp(X,'X(z)=');"
   ]
   }
,
{
		   "cell_type": "markdown",
		   "metadata": {},
		   "source": [
			"## Example 7.61_a: z_transform_of_discrete_signal.sce"
		   ]
		  },
  {
"cell_type": "code",
	   "execution_count": null,
	   "metadata": {
	    "collapsed": true
	   },
	   "outputs": [],
"source": [
"//Example 7.61a\n",
"clc;\n",
"syms z n;\n",
"x1=(1/2)^n;\n",
"X1=symsum(x1*(z^-n),n,0,%inf);\n",
"x2=(1/3)^n;\n",
"X2=symsum(x2*(z^-n),n,0,%inf);\n",
"X=X1+X2;"
   ]
   }
,
{
		   "cell_type": "markdown",
		   "metadata": {},
		   "source": [
			"## Example 7.61_b: z_transform_of_discrete_signal.sce"
		   ]
		  },
  {
"cell_type": "code",
	   "execution_count": null,
	   "metadata": {
	    "collapsed": true
	   },
	   "outputs": [],
"source": [
"//Example 7.61b\n",
"clc;\n",
"syms z n;\n",
"x1=(1/3)^n;\n",
"X1=symsum(x1*(z^-n),n,0,%inf);\n",
"x2=(1/2)^n;\n",
"X2=symsum(x2*(z^-n),n,-%inf,-1);\n",
"X=X1+X2;"
   ]
   }
,
{
		   "cell_type": "markdown",
		   "metadata": {},
		   "source": [
			"## Example 7.61_c: z_transform_of_discrete_signal.sce"
		   ]
		  },
  {
"cell_type": "code",
	   "execution_count": null,
	   "metadata": {
	    "collapsed": true
	   },
	   "outputs": [],
"source": [
"//Example 7.61c\n",
"clc;\n",
"syms z n;\n",
"x1=(1/2)^n;\n",
"X1=symsum(x1*(z^-n),n,0,%inf);\n",
"x2=(1/3)^n;\n",
"X2=symsum(x2*(z^-n),n,-%inf,-1);\n",
"X=X1+X2;"
   ]
   }
,
{
		   "cell_type": "markdown",
		   "metadata": {},
		   "source": [
			"## Example 7.65: z_transform.sce"
		   ]
		  },
  {
"cell_type": "code",
	   "execution_count": null,
	   "metadata": {
	    "collapsed": true
	   },
	   "outputs": [],
"source": [
"//Example 7.65\n",
"clc;\n",
"syms z n;\n",
"h1=(1/2)^n;\n",
"H1=symsum(h1*(z^-n),n,0,%inf);\n",
"h2=(-1/4)^n;\n",
"H2=symsum(h2*(z^-n),n,0,%inf);\n",
"H=(H1+H2)/2;"
   ]
   }
,
{
		   "cell_type": "markdown",
		   "metadata": {},
		   "source": [
			"## Example 7.68_a: z_transform_of_discrete_signal.sce"
		   ]
		  },
  {
"cell_type": "code",
	   "execution_count": null,
	   "metadata": {
	    "collapsed": true
	   },
	   "outputs": [],
"source": [
"//Example 7.68a\n",
"//Z transform of x[n]=u[n]\n",
"clc;\n",
"syms n z;\n",
"x=1;\n",
"X=symsum(x*(z^-n),n,0,%inf);"
   ]
   }
,
{
		   "cell_type": "markdown",
		   "metadata": {},
		   "source": [
			"## Example 7.68_b: z_transform_of_discrete_signal.sce"
		   ]
		  },
  {
"cell_type": "code",
	   "execution_count": null,
	   "metadata": {
	    "collapsed": true
	   },
	   "outputs": [],
"source": [
"//Example 7.68b\n",
"//Z transform of x[n]=-u[-n-1]\n",
"clc;\n",
"syms n z;\n",
"x=-1;\n",
"X=symsum(x*(z^-n),n,-%inf,-1);"
   ]
   }
,
{
		   "cell_type": "markdown",
		   "metadata": {},
		   "source": [
			"## Example 7.6: z_transform.sce"
		   ]
		  },
  {
"cell_type": "code",
	   "execution_count": null,
	   "metadata": {
	    "collapsed": true
	   },
	   "outputs": [],
"source": [
"//Example 7.6\n",
"clc;\n",
"syms n z;\n",
"x=1;\n",
"X=symsum(x*(z^-n),n,-%inf,0);\n",
"disp(X,'X(z)=');"
   ]
   }
,
{
		   "cell_type": "markdown",
		   "metadata": {},
		   "source": [
			"## Example 7.7: z_transform_of_sequence.sce"
		   ]
		  },
  {
"cell_type": "code",
	   "execution_count": null,
	   "metadata": {
	    "collapsed": true
	   },
	   "outputs": [],
"source": [
"//Example 7.7\n",
"clc;\n",
"syms n z;\n",
"X1=0;\n",
"X2=0;\n",
"for i=0:2:4\n",
"    x1=(1/2)^i;\n",
"    X1=X1+x1*z^-i;\n",
"end\n",
"for i=1:2:5\n",
"    x2=(1/3)^i;\n",
"    X2=X2+x2*z^-i;\n",
"end\n",
"x3=2^n;\n",
"X3=symsum(x3*(z^-n),n,-%inf,1);\n",
"X=X1+X2+X3;  \n",
"disp(X,'X(z)=');"
   ]
   }
],
"metadata": {
		  "kernelspec": {
		   "display_name": "Scilab",
		   "language": "scilab",
		   "name": "scilab"
		  },
		  "language_info": {
		   "file_extension": ".sce",
		   "help_links": [
			{
			 "text": "MetaKernel Magics",
			 "url": "https://github.com/calysto/metakernel/blob/master/metakernel/magics/README.md"
			}
		   ],
		   "mimetype": "text/x-octave",
		   "name": "scilab",
		   "version": "0.7.1"
		  }
		 },
		 "nbformat": 4,
		 "nbformat_minor": 0
}
