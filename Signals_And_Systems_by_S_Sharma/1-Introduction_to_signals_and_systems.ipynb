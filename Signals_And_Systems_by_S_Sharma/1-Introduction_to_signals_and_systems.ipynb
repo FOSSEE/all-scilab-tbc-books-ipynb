{
"cells": [
 {
		   "cell_type": "markdown",
	   "metadata": {},
	   "source": [
       "# Chapter 1: Introduction to signals and systems"
	   ]
	},
{
		   "cell_type": "markdown",
		   "metadata": {},
		   "source": [
			"## Example 1.14_a: Check_for_causal_system.sce"
		   ]
		  },
  {
"cell_type": "code",
	   "execution_count": null,
	   "metadata": {
	    "collapsed": true
	   },
	   "outputs": [],
"source": [
"//Example 1.14a\n",
"clc;\n",
"x=[1,2,3,4,0,4,3,2,1]\n",
"t=-length(x)/2:length(x)/2\n",
"count=0\n",
"mid=ceil(length(x)/2)\n",
"y=zeros(1,length(x))\n",
"y(mid+1:$)=x($:-1:mid+1)\n",
"for t=-1:-1:-mid\n",
"    y(t+1+mid)=x(-t)\n",
"end\n",
"for i=1:length(x)\n",
"    if(y(i)==x(i))\n",
"        count=count+1\n",
"     end\n",
"end\n",
"if(count==length(x))\n",
"    disp('THE GIVEN SYSTEM IS CAUSAL')\n",
"else\n",
"    disp('Since it depends on future values')\n",
"    disp('THE GIVEN SYSTEM IS NON CAUSAL')\n",
"end"
   ]
   }
,
{
		   "cell_type": "markdown",
		   "metadata": {},
		   "source": [
			"## Example 1.18_a: Check_for_time_invariant_systems.sce"
		   ]
		  },
  {
"cell_type": "code",
	   "execution_count": null,
	   "metadata": {
	    "collapsed": true
	   },
	   "outputs": [],
"source": [
"//Example 1.18a\n",
"clc;\n",
"t0=1;\n",
"T=10;\n",
"for t=1:T\n",
"    x(t)=2*%pi*t/T;\n",
"    y(t)=sin(x(t));\n",
"end\n",
"inputshift=sin(x(T-t0));\n",
"outputshift=y(T-t0);\n",
"if(inputshift==outputshift)\n",
"    disp('THE GIVEN SYSTEM IS TIME INVARIANT')\n",
"else\n",
"    disp('THE GIVEN SYSTEM IS TIME VARIANT');\n",
"end"
   ]
   }
,
{
		   "cell_type": "markdown",
		   "metadata": {},
		   "source": [
			"## Example 1.18_b: Check_for_time_invariant_systems.sce"
		   ]
		  },
  {
"cell_type": "code",
	   "execution_count": null,
	   "metadata": {
	    "collapsed": true
	   },
	   "outputs": [],
"source": [
"//Example 1.18b\n",
"clc;\n",
"t0=2;\n",
"T=10;\n",
"for t=1:T\n",
"    x(t)=t;\n",
"    y(t)=t*x(t);\n",
"end\n",
"inputshift=x(T-t0);\n",
"outputshift=y(T-t0);\n",
"if(inputshift==outputshift)\n",
"    disp('THE GIVEN SYSTEM IS TIME INVARIANT')\n",
"else\n",
"    disp('THE GIVEN SYSTEM IS TIME VARIANT');\n",
"end"
   ]
   }
,
{
		   "cell_type": "markdown",
		   "metadata": {},
		   "source": [
			"## Example 1.18_c: Check_for_time_invariant_systems.sce"
		   ]
		  },
  {
"cell_type": "code",
	   "execution_count": null,
	   "metadata": {
	    "collapsed": true
	   },
	   "outputs": [],
"source": [
"//Example 1.18c\n",
"clc;\n",
"t0=2;\n",
"T=10;\n",
"for t=1:T\n",
"    x(t)=t;\n",
"    y(t)=x(t)*cos(200*%pi*t);\n",
"end\n",
"inputshift=x(T-t0);\n",
"outputshift=y(T-t0);\n",
"if(inputshift==outputshift)\n",
"    disp('THE GIVEN SYSTEM IS TIME INVARIANT')\n",
"else\n",
"    disp('THE GIVEN SYSTEM IS TIME VARIANT');\n",
"end"
   ]
   }
,
{
		   "cell_type": "markdown",
		   "metadata": {},
		   "source": [
			"## Example 1.19_a: Check_for_linear_systems.sce"
		   ]
		  },
  {
"cell_type": "code",
	   "execution_count": null,
	   "metadata": {
	    "collapsed": true
	   },
	   "outputs": [],
"source": [
"//Example 1.19a\n",
"clc;\n",
"x1=[1,1,1,1]\n",
"x2=[2,2,2,2]\n",
"a=1\n",
"b=1\n",
"for t=1:length(x1)\n",
"    x3(t)=a*x1(t)+b*x2(t)\n",
"end\n",
"for t=1:length(x1)\n",
"    y1(t)=t*x1(t)\n",
"    y2(t)=t*x2(t)\n",
"    y3(t)=t*x3(t)\n",
"end\n",
"for t=1:length(y1)\n",
"    z(t)=a*y1(t)+b*y2(t)\n",
"end\n",
"count=0\n",
"for n=1:length(y1)\n",
"    if(y3(t)==z(t))\n",
"        count=count+1;\n",
"     end   \n",
"end\n",
"if(count==length(y3))\n",
"    disp('It satisfy the superposition principle');\n",
"    disp('THE GIVEN SYSTEM IS LINEAR ');\n",
"else\n",
"    disp('It does not satisfy superposition principle ');\n",
"    disp('THE GIVEN SYSTEM IS NON LINEAR');\n",
"end"
   ]
   }
,
{
		   "cell_type": "markdown",
		   "metadata": {},
		   "source": [
			"## Example 1.19_b: Check_for_linear_systems.sce"
		   ]
		  },
  {
"cell_type": "code",
	   "execution_count": null,
	   "metadata": {
	    "collapsed": true
	   },
	   "outputs": [],
"source": [
"//Example 1.19b\n",
"clc;\n",
"x1=[1,1,1,1]\n",
"x2=[2,2,2,2]\n",
"a=1\n",
"b=1\n",
"for t=1:length(x1)\n",
"    x3(t)=a*x1(t)+b*x2(t)\n",
"end\n",
"for t=1:length(x1)\n",
"    y1(t)=x1(t)^2\n",
"    y2(t)=x2(t)^2\n",
"    y3(t)=x3(t)^2\n",
"end\n",
"for t=1:length(y1)\n",
"    z(t)=a*y1(t)+b*y2(t)\n",
"end\n",
"count=0\n",
"for n=1:length(y1)\n",
"    if(y3(t)==z(t))\n",
"        count=count+1;\n",
"     end   \n",
"end\n",
"if(count==length(y3))\n",
"disp('It satisfy the superposition principle');\n",
"disp('THE GIVEN SYSTEM IS LINEAR ');\n",
"else\n",
"    disp('It does not satisfy superposition principle ');\n",
"    disp('THE GIVEN SYSTEM IS NON LINEAR');\n",
"end"
   ]
   }
,
{
		   "cell_type": "markdown",
		   "metadata": {},
		   "source": [
			"## Example 1.1_a: Check_for_periodicity.sce"
		   ]
		  },
  {
"cell_type": "code",
	   "execution_count": null,
	   "metadata": {
	    "collapsed": true
	   },
	   "outputs": [],
"source": [
"//Example 1.1a\n",
"//Determine whether the given signal is periodic or not\n",
"clc;\n",
"t=0:1/100:1\n",
"x=sin(15*%pi*t);\n",
"plot(x);\n",
"disp('ploting the signal and showing that it is periodic with period=2pi/15pi');"
   ]
   }
,
{
		   "cell_type": "markdown",
		   "metadata": {},
		   "source": [
			"## Example 1.1_b: Check_for_periodicity.sce"
		   ]
		  },
  {
"cell_type": "code",
	   "execution_count": null,
	   "metadata": {
	    "collapsed": true
	   },
	   "outputs": [],
"source": [
"//Example 1.1b\n",
"//Determine whether the given signal is periodic or not\n",
"clc;\n",
"t=0:1/100:5\n",
"x=sin(sqrt(2)*%pi*t);\n",
"plot(x);\n",
"disp('ploting the signal and showing that itis periodic with period=2pi/sqrt(2)pi');"
   ]
   }
,
{
		   "cell_type": "markdown",
		   "metadata": {},
		   "source": [
			"## Example 1.20_b: Check_for_linear_systems.sce"
		   ]
		  },
  {
"cell_type": "code",
	   "execution_count": null,
	   "metadata": {
	    "collapsed": true
	   },
	   "outputs": [],
"source": [
"//Example 1.20b\n",
"clc;\n",
"x1=[1,1,1,1]\n",
"x2=[2,2,2,2]\n",
"a=1\n",
"b=1\n",
"for t=1:length(x1)\n",
"    x3(t)=a*x1(t)+b*x2(t)\n",
"end\n",
"for t=1:length(x1)\n",
"    y1(t)=x1(t)^2\n",
"    y2(t)=x2(t)^2\n",
"    y3(t)=x3(t)^2\n",
"end\n",
"for t=1:length(y1)\n",
"    z(t)=a*y1(t)+b*y2(t)\n",
"end\n",
"count=0\n",
"for n=1:length(y1)\n",
"    if(y3(t)==z(t))\n",
"        count=count+1;\n",
"     end   \n",
"end\n",
"if(count==length(y3))\n",
"disp('It satisfy the superposition principle');\n",
"disp('THE GIVEN SYSTEM IS LINEAR ');\n",
"else\n",
"    disp('It does not satisfy superposition principle ');\n",
"    disp('THE GIVEN SYSTEM IS NON LINEAR');\n",
"end"
   ]
   }
,
{
		   "cell_type": "markdown",
		   "metadata": {},
		   "source": [
			"## Example 1.21: Check_for_linear_systems.sce"
		   ]
		  },
  {
"cell_type": "code",
	   "execution_count": null,
	   "metadata": {
	    "collapsed": true
	   },
	   "outputs": [],
"source": [
"//Example 1.21\n",
"clc;\n",
"x1=[1,1,1,1]\n",
"x2=[2,2,2,2]\n",
"a1=1;\n",
"b1=1;\n",
"a=7;\n",
"b=5;\n",
"for t=1:length(x1)\n",
"    x3(t)=a1*x1(t)+b1*x2(t)\n",
"end\n",
"for t=1:length(x1)\n",
"    y1(t)=a*x1(t)+b\n",
"    y2(t)=a*x2(t)+b\n",
"    y3(t)=a*x3(t)+b\n",
"end\n",
"for t=1:length(y1)\n",
"    z(t)=a1*y1(t)+b1*y2(t)\n",
"end\n",
"count=0\n",
"for n=1:length(y1)\n",
"    if(y3(t)==z(t))\n",
"        count=count+1;\n",
"     end   \n",
"end\n",
"if(count==length(y3))\n",
"disp('It satisfy the superposition principle');\n",
"disp('THE GIVEN SYSTEM IS LINEAR ');\n",
"else\n",
"    disp('It does not satisfy superposition principle ');\n",
"    disp('THE GIVEN SYSTEM IS NON LINEAR');\n",
"end"
   ]
   }
,
{
		   "cell_type": "markdown",
		   "metadata": {},
		   "source": [
			"## Example 1.22: Check_for_linear_systems.sce"
		   ]
		  },
  {
"cell_type": "code",
	   "execution_count": null,
	   "metadata": {
	    "collapsed": true
	   },
	   "outputs": [],
"source": [
"//Example 1.22\n",
"clc;\n",
"x1=[1,1,1,1]\n",
"x2=[2,2,2,2]\n",
"a1=1\n",
"b1=1\n",
"Wc=%pi\n",
"for t=1:length(x1)\n",
"    x3(t)=a1*x1(t)+b1*x2(t)\n",
"end\n",
"for t=1:length(x1)\n",
"    y1(t)=x1(t)*cos(Wc*t)\n",
"    y2(t)=x2(t)*cos(Wc*t)\n",
"    y3(t)=x3(t)*cos(Wc*t)\n",
"end\n",
"for t=1:length(y1)\n",
"    z(t)=a1*y1(t)+b1*y2(t)\n",
"end\n",
"count=0\n",
"for n=1:length(y1)\n",
"    if(y3(t)==z(t))\n",
"        count=count+1;\n",
"     end   \n",
"end\n",
"if(count==length(y3))\n",
"disp('It satisfy the superposition principle');\n",
"disp('THE GIVEN SYSTEM IS LINEAR ');\n",
"else\n",
"    disp('It does not satisfy superposition principle ');\n",
"    disp('THE GIVEN SYSTEM IS NON LINEAR');\n",
"end"
   ]
   }
,
{
		   "cell_type": "markdown",
		   "metadata": {},
		   "source": [
			"## Example 1.25: Check_for_linear_systems.sce"
		   ]
		  },
  {
"cell_type": "code",
	   "execution_count": null,
	   "metadata": {
	    "collapsed": true
	   },
	   "outputs": [],
"source": [
"//Example 1.25\n",
"clc;\n",
"x1=[1,1,1,1]\n",
"x2=[2,2,2,2]\n",
"a1=1;\n",
"b1=1;\n",
"a=7;\n",
"b=3;\n",
"for t=1:length(x1)\n",
"    x3(t)=a1*x1(t)+b1*x2(t)\n",
"end\n",
"for t=1:length(x1)\n",
"    y1(t)=a*x1(t)+b\n",
"    y2(t)=a*x2(t)+b\n",
"    y3(t)=a*x3(t)+b\n",
"end\n",
"for t=1:length(y1)\n",
"    z(t)=a1*y1(t)+b1*y2(t)\n",
"end\n",
"count=0\n",
"for n=1:length(y1)\n",
"    if(y3(t)==z(t))\n",
"        count=count+1;\n",
"     end   \n",
"end\n",
"if(count==length(y3))\n",
"disp('It satisfy the superposition principle');\n",
"disp('THE GIVEN SYSTEM IS LINEAR ');\n",
"else\n",
"    disp('It does not satisfy superposition principle ');\n",
"    disp('THE GIVEN SYSTEM IS NON LINEAR');\n",
"end"
   ]
   }
,
{
		   "cell_type": "markdown",
		   "metadata": {},
		   "source": [
			"## Example 1.27: Find_energy_of_signal.sce"
		   ]
		  },
  {
"cell_type": "code",
	   "execution_count": null,
	   "metadata": {
	    "collapsed": true
	   },
	   "outputs": [],
"source": [
"//Example 1.27\n",
"//Energy of the signal x(t)=Aexp(-a*t).u(t)\n",
"clc;\n",
"A=2;\n",
"a=0.5;\n",
"E=integrate('(A*exp(-a*t))^2','t',0,100);//Energy of the given signal"
   ]
   }
,
{
		   "cell_type": "markdown",
		   "metadata": {},
		   "source": [
			"## Example 1.28: Find_power_of_signal.sce"
		   ]
		  },
  {
"cell_type": "code",
	   "execution_count": null,
	   "metadata": {
	    "collapsed": true
	   },
	   "outputs": [],
"source": [
"//Example 1.28\n",
"//Power of the signal x(t)=A\n",
"clc;\n",
"A=2;\n",
"P=(integrate('A^2','t',0,100))/(2*100)"
   ]
   }
,
{
		   "cell_type": "markdown",
		   "metadata": {},
		   "source": [
			"## Example 1.30: Find_energy_of_signal.sce"
		   ]
		  },
  {
"cell_type": "code",
	   "execution_count": null,
	   "metadata": {
	    "collapsed": true
	   },
	   "outputs": [],
"source": [
"//Example 1.30\n",
"//Detremine the energy of the signal x(n)=0.5^n for n >0\n",
"clc;\n",
"E=integrate('(0.5^n)','n',0,1000);"
   ]
   }
,
{
		   "cell_type": "markdown",
		   "metadata": {},
		   "source": [
			"## Example 1.31_a: Check_for_periodicity.sce"
		   ]
		  },
  {
"cell_type": "code",
	   "execution_count": null,
	   "metadata": {
	    "collapsed": true
	   },
	   "outputs": [],
"source": [
"//Example 1.31a\n",
"//Determine whether the given signal is periodic or not\n",
"clc;\n",
"n=0:1/100:10\n",
"x=sin(6*%pi*n/7);\n",
"plot(x)//plotting the signal and showing it is periodic with period 2pi/(6pi/7);"
   ]
   }
,
{
		   "cell_type": "markdown",
		   "metadata": {},
		   "source": [
			"## Example 1.31_b: Check_for_periodicity.sce"
		   ]
		  },
  {
"cell_type": "code",
	   "execution_count": null,
	   "metadata": {
	    "collapsed": true
	   },
	   "outputs": [],
"source": [
"//Example 1.31b\n",
"//Determine whether the given signal is periodic or not \n",
"clc;\n",
"n=0:1/1000:100\n",
"x=sin(n/8);\n",
"plot(x);//plotting the signal and showing that it is periodic with period 16pi"
   ]
   }
,
{
		   "cell_type": "markdown",
		   "metadata": {},
		   "source": [
			"## Example 1.33: Find_power_of_signal.sce"
		   ]
		  },
  {
"cell_type": "code",
	   "execution_count": null,
	   "metadata": {
	    "collapsed": true
	   },
	   "outputs": [],
"source": [
"//Example 1.33\n",
"//Find the power of the signal x(t)=Acos(Wot+theeta)\n",
"clc;\n",
"A=10;\n",
"T=4;\n",
"Wo=(2*%pi)/T;\n",
"for i=1:T\n",
"    x(i)=A*cos(Wo*i);\n",
"end\n",
"p=0;\n",
"for i=1:T\n",
"    p=p+(abs(x(i)^2))/T;\n",
"end\n",
"disp(p,'The power of the given signal is =');"
   ]
   }
,
{
		   "cell_type": "markdown",
		   "metadata": {},
		   "source": [
			"## Example 1.34: Find_energy_of_signal.sce"
		   ]
		  },
  {
"cell_type": "code",
	   "execution_count": null,
	   "metadata": {
	    "collapsed": true
	   },
	   "outputs": [],
"source": [
"//Example 1.34\n",
"//Find energy of x(t)=8exp(2+i4pi)t\n",
"clc;\n",
"E=0;\n",
"for t=1:100\n",
"    x(t)=8*exp((2+(%i*4*%pi))*t);\n",
"end\n",
"for t=1:100\n",
"    E=E+x(t)^2;\n",
"end"
   ]
   }
,
{
		   "cell_type": "markdown",
		   "metadata": {},
		   "source": [
			"## Example 1.39_a: Sketch_continous_time_signal.sce"
		   ]
		  },
  {
"cell_type": "code",
	   "execution_count": null,
	   "metadata": {
	    "collapsed": true
	   },
	   "outputs": [],
"source": [
"//Example 1.39a\n",
"//Sketch the signal x(t)=u(t)\n",
"clc;\n",
"t=0:1/100:10\n",
"x=1;\n",
"plot(t,x);"
   ]
   }
,
{
		   "cell_type": "markdown",
		   "metadata": {},
		   "source": [
			"## Example 1.39_b: Sketch_continous_time_signal.sce"
		   ]
		  },
  {
"cell_type": "code",
	   "execution_count": null,
	   "metadata": {
	    "collapsed": true
	   },
	   "outputs": [],
"source": [
"//Example 1.39b\n",
"//Sketch the signal x(t)=tu(t)\n",
"clc;\n",
"t=0:1/100:10\n",
"x=t\n",
"plot(t,x)"
   ]
   }
,
{
		   "cell_type": "markdown",
		   "metadata": {},
		   "source": [
			"## Example 1.43: Check_for_linear_systems.sce"
		   ]
		  },
  {
"cell_type": "code",
	   "execution_count": null,
	   "metadata": {
	    "collapsed": true
	   },
	   "outputs": [],
"source": [
"//Example 1.43\n",
"clc;\n",
"x1=[1,1,1,1]\n",
"x2=[2,2,2,2]\n",
"a=1\n",
"b=1\n",
"for t=1:length(x1)\n",
"    x3(t)=a*x1(t)+b*x2(t)\n",
"end\n",
"for t=1:length(x1)\n",
"    y1(t)=x1(t)^2\n",
"    y2(t)=x2(t)^2\n",
"    y3(t)=x3(t)^2\n",
"end\n",
"for t=1:length(y1)\n",
"    z(t)=a*y1(t)+b*y2(t)\n",
"end\n",
"count=0\n",
"for n=1:length(y1)\n",
"    if(y3(t)==z(t))\n",
"        count=count+1;\n",
"     end   \n",
"end\n",
"if(count==length(y3))\n",
"disp('It satisfy the superposition principle');\n",
"disp('THE GIVEN SYSTEM IS LINEAR ');\n",
"else\n",
"    disp('It does not satisfy superposition principle ');\n",
"    disp('THE GIVEN SYSTEM IS NON LINEAR');\n",
"end"
   ]
   }
,
{
		   "cell_type": "markdown",
		   "metadata": {},
		   "source": [
			"## Example 1.47: Check_for_time_invariant_systems.sce"
		   ]
		  },
  {
"cell_type": "code",
	   "execution_count": null,
	   "metadata": {
	    "collapsed": true
	   },
	   "outputs": [],
"source": [
"//Example 1.47\n",
"clc;\n",
"k0=2;\n",
"n0=2;\n",
"N=10;\n",
"x=[1,2,3,4,5,6,7,8,9,10];\n",
"y=zeros(1,length(x));\n",
"for n=1:length(x)/k0\n",
"    y(n)=x(k0*n);\n",
"end\n",
"inputshift=x(N-n0);\n",
"outputshift=y(N-n0);\n",
"if(inputshift==outputshift)\n",
"    disp('THE GIVEN SYSTEM IS TIME INVARIANT')\n",
"else\n",
"    disp('THE GIVEN SYSTEM IS TIME VARIANT');\n",
"end"
   ]
   }
,
{
		   "cell_type": "markdown",
		   "metadata": {},
		   "source": [
			"## Example 1.49_a: Check_for_periodicity.sce"
		   ]
		  },
  {
"cell_type": "code",
	   "execution_count": null,
	   "metadata": {
	    "collapsed": true
	   },
	   "outputs": [],
"source": [
"//Example 1.49a\n",
"//Determine whether the signal x(n)=sin(7/9*pi*(n^2)+1)\n",
"clc;\n",
"n=0:1/100:5\n",
"x=sin((7/9)*%pi*(n^2)+1)\n",
"plot(x);\n",
"disp('this shows that signal is NOT periodic');"
   ]
   }
,
{
		   "cell_type": "markdown",
		   "metadata": {},
		   "source": [
			"## Example 1.49_b: Check_for_periodicity.sce"
		   ]
		  },
  {
"cell_type": "code",
	   "execution_count": null,
	   "metadata": {
	    "collapsed": true
	   },
	   "outputs": [],
"source": [
"//Example 1.49b\n",
"//Determine whether the signal x(n)=cos(pi*n/2)cos(pi*n/4)\n",
"clc;\n",
"n=0:1/100:100\n",
"x0=cos((%pi*n/2)+(%pi*n/4))\n",
"x1=cos((%pi*n/2)-(%pi*n/4))\n",
"x=(x0+x1)/2;\n",
"plot(x);\n",
"disp('plot shows that this is a periodic signal');"
   ]
   }
,
{
		   "cell_type": "markdown",
		   "metadata": {},
		   "source": [
			"## Example 1.4: Sketch_and_find_power.sce"
		   ]
		  },
  {
"cell_type": "code",
	   "execution_count": null,
	   "metadata": {
	    "collapsed": true
	   },
	   "outputs": [],
"source": [
"//Example 1.4\n",
"//Sketch the signal x(t)=Asin(t)\n",
"clc;\n",
"A=0.5;\n",
"t=0:1/100:10\n",
"x=A*sin(t);\n",
"plot(x);\n",
"//since it is a periodic signal so it is power signal \n",
"P=(integrate('((0.5)^2)*(sin(t)^2)','t',0,2*%pi))/(2*%pi);"
   ]
   }
,
{
		   "cell_type": "markdown",
		   "metadata": {},
		   "source": [
			"## Example 1.5: Sketch_and_find_energy.sce"
		   ]
		  },
  {
"cell_type": "code",
	   "execution_count": null,
	   "metadata": {
	    "collapsed": true
	   },
	   "outputs": [],
"source": [
"//Example 1.5\n",
"//Sketch the signal x(t)=A[u(t+a)-u(t-a)]\n",
"clc;\n",
"A=1;\n",
"a=2;\n",
"t=-a:a\n",
"x=1;\n",
"plot(t,x)\n",
"//this signal is a finite duration signal so it is energy signal\n",
"E=integrate('1','t',-a,a);"
   ]
   }
,
{
		   "cell_type": "markdown",
		   "metadata": {},
		   "source": [
			"## Example 1.6: Sketch_and_find_energy.sce"
		   ]
		  },
  {
"cell_type": "code",
	   "execution_count": null,
	   "metadata": {
	    "collapsed": true
	   },
	   "outputs": [],
"source": [
"//Example 1.6\n",
"//Sketch the signal x(t)=exp(-a*t)\n",
"clc;\n",
"t=0:1/100:10;\n",
"x=exp(-0.5*t);\n",
"plot(x)\n",
"E=integrate('(exp(-0.5*t)^2)','t',0,10)\n",
"//Energy of the signal"
   ]
   }
,
{
		   "cell_type": "markdown",
		   "metadata": {},
		   "source": [
			"## Example 1.8: Find_power_of_signal.sce"
		   ]
		  },
  {
"cell_type": "code",
	   "execution_count": null,
	   "metadata": {
	    "collapsed": true
	   },
	   "outputs": [],
"source": [
"//Example 1.8\n",
"//Find the power of the signal x(t)=Acos(Wot+theeta)\n",
"clc;\n",
"A=20;\n",
"Wo=(2*%pi)/4;\n",
"for i=1:50\n",
"    x(i)=A*cos(Wo*i);\n",
"end\n",
"p=0;\n",
"for i=1:4\n",
"    p=p+(abs(x(i)^2))/4;\n",
"end\n",
"disp(p,'The power of the given signal is =');"
   ]
   }
],
"metadata": {
		  "kernelspec": {
		   "display_name": "Scilab",
		   "language": "scilab",
		   "name": "scilab"
		  },
		  "language_info": {
		   "file_extension": ".sce",
		   "help_links": [
			{
			 "text": "MetaKernel Magics",
			 "url": "https://github.com/calysto/metakernel/blob/master/metakernel/magics/README.md"
			}
		   ],
		   "mimetype": "text/x-octave",
		   "name": "scilab",
		   "version": "0.7.1"
		  }
		 },
		 "nbformat": 4,
		 "nbformat_minor": 0
}
