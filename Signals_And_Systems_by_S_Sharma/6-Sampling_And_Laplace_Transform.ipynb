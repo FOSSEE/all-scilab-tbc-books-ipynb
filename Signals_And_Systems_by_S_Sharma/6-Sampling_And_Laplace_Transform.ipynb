{
"cells": [
 {
		   "cell_type": "markdown",
	   "metadata": {},
	   "source": [
       "# Chapter 6: Sampling And Laplace Transform"
	   ]
	},
{
		   "cell_type": "markdown",
		   "metadata": {},
		   "source": [
			"## Example 6.1: Find_nyquist_rate.sce"
		   ]
		  },
  {
"cell_type": "code",
	   "execution_count": null,
	   "metadata": {
	    "collapsed": true
	   },
	   "outputs": [],
"source": [
"//Example 6.1\n",
"clc;\n",
"disp('x(t)=3cos(50%pi*t)+10sin(300%pi*t)-cos(100%pi*t)');\n",
"w1=50*%pi;\n",
"w2=300*%pi;\n",
"w3=100*%pi;\n",
"f1=w1/(2*%pi);\n",
"f2=w2/(2*%pi);\n",
"f3=w3/(2*%pi);\n",
"if f1>f2 then\n",
"    if f1>f3 then\n",
"        disp(2*f1,'Nyquist rate=');\n",
"    else \n",
"        disp(2*f3,'Nyquist rate=');\n",
"    end\n",
"else\n",
"    if f2>f3 then\n",
"        disp(2*f2,'Nyquist rate=');\n",
"    else\n",
"        disp(2*f3,'Nyquist rate=');\n",
"    end\n",
"end"
   ]
   }
,
{
		   "cell_type": "markdown",
		   "metadata": {},
		   "source": [
			"## Example 6.26: Laplace_transform_of_signal.sce"
		   ]
		  },
  {
"cell_type": "code",
	   "execution_count": null,
	   "metadata": {
	    "collapsed": true
	   },
	   "outputs": [],
"source": [
"//Example 6.26\n",
"//Find laplace transform x(t)=2e^(-3t)u(t)-e^(-2t)u(t)\n",
"clc;\n",
"syms t;\n",
"x=2*%e^(-3*t)-%e^(-2*t);\n",
"X=laplace(x);"
   ]
   }
,
{
		   "cell_type": "markdown",
		   "metadata": {},
		   "source": [
			"## Example 6.27_a: Laplace_transform_of_function.sce"
		   ]
		  },
  {
"cell_type": "code",
	   "execution_count": null,
	   "metadata": {
	    "collapsed": true
	   },
	   "outputs": [],
"source": [
"//Example 6.27a\n",
"//Laplace transform of x(t)=t^3+3*t^2-6*t+4\n",
"clc;\n",
"syms t;\n",
"x=t^3+3*t^2-6*t+4;\n",
"X=laplace(x);"
   ]
   }
,
{
		   "cell_type": "markdown",
		   "metadata": {},
		   "source": [
			"## Example 6.27_b: Laplace_transform_of_function.sce"
		   ]
		  },
  {
"cell_type": "code",
	   "execution_count": null,
	   "metadata": {
	    "collapsed": true
	   },
	   "outputs": [],
"source": [
"//Example 6.27b\n",
"//x(t)=(cos(3t))^3\n",
"clc;\n",
"syms t;\n",
"x=(cos(3*t))^3;\n",
"X=laplace(x);"
   ]
   }
,
{
		   "cell_type": "markdown",
		   "metadata": {},
		   "source": [
			"## Example 6.27_c: Laplace_transform_of_function.sce"
		   ]
		  },
  {
"cell_type": "code",
	   "execution_count": null,
	   "metadata": {
	    "collapsed": true
	   },
	   "outputs": [],
"source": [
"//Example 6.27c\n",
"clc;\n",
"syms a b t;\n",
"x=sin(a*t)*cos(b*t);\n",
"X=laplace(x);"
   ]
   }
,
{
		   "cell_type": "markdown",
		   "metadata": {},
		   "source": [
			"## Example 6.27_d: Laplace_transform_of_function.sce"
		   ]
		  },
  {
"cell_type": "code",
	   "execution_count": null,
	   "metadata": {
	    "collapsed": true
	   },
	   "outputs": [],
"source": [
"//Example 6.27d\n",
"clc;\n",
"syms t a;\n",
"x=t*sin(a*t);\n",
"X=laplace(x);"
   ]
   }
,
{
		   "cell_type": "markdown",
		   "metadata": {},
		   "source": [
			"## Example 6.27_e: Laplace_transform_of_function.sce"
		   ]
		  },
  {
"cell_type": "code",
	   "execution_count": null,
	   "metadata": {
	    "collapsed": true
	   },
	   "outputs": [],
"source": [
"//Example 6.27e\n",
"clc;\n",
"syms t s;\n",
"x1=1-%e^t;\n",
"X1=laplace(x1);\n",
"X=integ(X1,s,s,%inf);"
   ]
   }
,
{
		   "cell_type": "markdown",
		   "metadata": {},
		   "source": [
			"## Example 6.2: Find_nyquist_rate.sce"
		   ]
		  },
  {
"cell_type": "code",
	   "execution_count": null,
	   "metadata": {
	    "collapsed": true
	   },
	   "outputs": [],
"source": [
"//Example 6.2\n",
"clc;\n",
"disp('x(t)=(1/2%pi)cos(4000%pi*t)cos(1000%pi*t)');\n",
"w1=5000*%pi;\n",
"w2=3000*%pi;\n",
"f1=w1/(2*%pi);\n",
"f2=w2/(2*%pi);\n",
"if f1>f2 then\n",
"    nyquist_rate=2*f1;\n",
"else\n",
"    nyquist_rate=2*f2;\n",
"end\n",
"nyquist_interval=1/nyquist_rate;\n",
"disp(nyquist_rate,'Nyquist rate=');\n",
"disp(nyquist_interval,'Nyquist interval in seconds');"
   ]
   }
,
{
		   "cell_type": "markdown",
		   "metadata": {},
		   "source": [
			"## Example 6.48: Find_responce_of_system.sce"
		   ]
		  },
  {
"cell_type": "code",
	   "execution_count": null,
	   "metadata": {
	    "collapsed": true
	   },
	   "outputs": [],
"source": [
"//Example 6.48\n",
"clc;\n",
"syms t s;\n",
"x=1+%e^(-3*t)-%e^(-t);\n",
"X=laplace(x);\n",
"H=1/((s+1)*(s^2+s+1));\n",
"Y=X*H;\n",
"y=ilaplace(Y);"
   ]
   }
,
{
		   "cell_type": "markdown",
		   "metadata": {},
		   "source": [
			"## Example 6.4: Find_nyquist_rate.sce"
		   ]
		  },
  {
"cell_type": "code",
	   "execution_count": null,
	   "metadata": {
	    "collapsed": true
	   },
	   "outputs": [],
"source": [
"//Example 6.4\n",
"clc;\n",
"disp('x(t)=6cos(50%pi*t)+20sin(300%pi*t)-10cos(100%pi*t)');\n",
"w1=50*%pi;\n",
"w2=300*%pi;\n",
"w3=100*%pi;\n",
"f1=w1/(2*%pi);\n",
"f2=w2/(2*%pi);\n",
"f3=w3/(2*%pi);\n",
"if f1>f2 then\n",
"    if f1>f3 then\n",
"        disp(2*f1,'Nyquist rate=');\n",
"    else \n",
"        disp(2*f3,'Nyquist rate=');\n",
"    end\n",
"else\n",
"    if f2>f3 then\n",
"        disp(2*f2,'Nyquist rate=');\n",
"    else\n",
"        disp(2*f3,'Nyquist rate=');\n",
"    end\n",
"end"
   ]
   }
],
"metadata": {
		  "kernelspec": {
		   "display_name": "Scilab",
		   "language": "scilab",
		   "name": "scilab"
		  },
		  "language_info": {
		   "file_extension": ".sce",
		   "help_links": [
			{
			 "text": "MetaKernel Magics",
			 "url": "https://github.com/calysto/metakernel/blob/master/metakernel/magics/README.md"
			}
		   ],
		   "mimetype": "text/x-octave",
		   "name": "scilab",
		   "version": "0.7.1"
		  }
		 },
		 "nbformat": 4,
		 "nbformat_minor": 0
}
