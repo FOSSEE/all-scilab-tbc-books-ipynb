{
"cells": [
 {
		   "cell_type": "markdown",
	   "metadata": {},
	   "source": [
       "# Chapter 8: Discrete Fourier Transform and Fast Fourier Transform"
	   ]
	},
{
		   "cell_type": "markdown",
		   "metadata": {},
		   "source": [
			"## Example 8.10: IDFT_computatio.sce"
		   ]
		  },
  {
"cell_type": "code",
	   "execution_count": null,
	   "metadata": {
	    "collapsed": true
	   },
	   "outputs": [],
"source": [
"//Example 8.10\n",
"//Find the IDFT of the following sequence\n",
"clc;\n",
"i=sqrt(-1);\n",
"X=[3,2+i,1,2-i];\n",
"x=fft(X,1);\n",
"disp(x,'x[n]=');"
   ]
   }
,
{
		   "cell_type": "markdown",
		   "metadata": {},
		   "source": [
			"## Example 8.11: DFT_computation_using_FFT_algorithm.sce"
		   ]
		  },
  {
"cell_type": "code",
	   "execution_count": null,
	   "metadata": {
	    "collapsed": true
	   },
	   "outputs": [],
"source": [
"//Example 8.11\n",
"//For the given x[n] determine X[k] using FFT algorithm\n",
"clc;\n",
"x=[1,2,3,4,4,3,2,1];\n",
"X=fft(x,-1);\n",
"disp(X,'X[k]=');"
   ]
   }
,
{
		   "cell_type": "markdown",
		   "metadata": {},
		   "source": [
			"## Example 8.12: DFT_computation_using_FFT_algorithm.sce"
		   ]
		  },
  {
"cell_type": "code",
	   "execution_count": null,
	   "metadata": {
	    "collapsed": true
	   },
	   "outputs": [],
"source": [
"//Example 8.12\n",
"//For the given x[n] determine X[k] using FFT algorithm\n",
"clc;\n",
"x=[0,1,2,3,4,5,6,7];\n",
"X=fft(x,-1);\n",
"disp(X,'X[k]=');"
   ]
   }
,
{
		   "cell_type": "markdown",
		   "metadata": {},
		   "source": [
			"## Example 8.13: DFT_computatio.sce"
		   ]
		  },
  {
"cell_type": "code",
	   "execution_count": null,
	   "metadata": {
	    "collapsed": true
	   },
	   "outputs": [],
"source": [
"//Example 8.13\n",
"//Find the DFT of the following sequence\n",
"clc;\n",
"h=[1/3,1/3,1/3];\n",
"H=fft(h,-1);\n",
"disp(H,'H[k]=');"
   ]
   }
,
{
		   "cell_type": "markdown",
		   "metadata": {},
		   "source": [
			"## Example 8.14: DFT_computatio.sce"
		   ]
		  },
  {
"cell_type": "code",
	   "execution_count": null,
	   "metadata": {
	    "collapsed": true
	   },
	   "outputs": [],
"source": [
"//Example 8.14\n",
"//Find the DFT of the following sequence\n",
"clc;\n",
"h=[1/3,1/3,1/3];\n",
"H=fft(h,-1);\n",
"disp(H,'H[k]=');"
   ]
   }
,
{
		   "cell_type": "markdown",
		   "metadata": {},
		   "source": [
			"## Example 8.15: DFT_computatio.sce"
		   ]
		  },
  {
"cell_type": "code",
	   "execution_count": null,
	   "metadata": {
	    "collapsed": true
	   },
	   "outputs": [],
"source": [
"//Example 8.15\n",
"//Obtain the DFT of x[n]=(a^n).u[n]\n",
"clc;\n",
"a=0.5;\n",
"for i=0:1:7\n",
"    x(i+1)=a.^i;\n",
"end\n",
"X=fft(x,-1);\n",
"disp(X,'X[k]=');"
   ]
   }
,
{
		   "cell_type": "markdown",
		   "metadata": {},
		   "source": [
			"## Example 8.16: DFT_computatio.sce"
		   ]
		  },
  {
"cell_type": "code",
	   "execution_count": null,
	   "metadata": {
	    "collapsed": true
	   },
	   "outputs": [],
"source": [
"//Example 8.16\n",
"//Program to find DFT of sequence x=[1,1,1,1,1,1,1,0]\n",
"clc ;\n",
"x=[1,1,1,1,1,1,1,0];\n",
"X=fft(x,-1);\n",
"disp(X,'X[k]=');"
   ]
   }
,
{
		   "cell_type": "markdown",
		   "metadata": {},
		   "source": [
			"## Example 8.17: DFT_computatio.sce"
		   ]
		  },
  {
"cell_type": "code",
	   "execution_count": null,
	   "metadata": {
	    "collapsed": true
	   },
	   "outputs": [],
"source": [
"//Example 8.17\n",
"//Determine the DFT of the following sequence\n",
"clc;\n",
"x=[0,0,1,1,1,1,1,0,0,0];\n",
"X=fft(x,-1);\n",
"disp(X,'X[k]=');"
   ]
   }
,
{
		   "cell_type": "markdown",
		   "metadata": {},
		   "source": [
			"## Example 8.1: Convolution_of_two_finite_duration_sequences.sce"
		   ]
		  },
  {
"cell_type": "code",
	   "execution_count": null,
	   "metadata": {
	    "collapsed": true
	   },
	   "outputs": [],
"source": [
"//Example 8.1\n",
"//Determine the convolution of the two finite duration sequence\n",
"clc;\n",
"x=[1,1,1];\n",
"n1=-1:1;\n",
"h=[1,1,1];\n",
"n2=-1:1;\n",
"y=convol(x,h);\n",
"n=-2:1:2;\n",
"disp(y,'y[n]=');\n",
"a = gca ();\n",
"a.y_location ='origin';\n",
"a.x_location ='origin';\n",
"plot2d3(n,round(y),5);\n",
"poly1=a.children(1).children (1);\n",
"poly1.thickness=2;\n",
"xtitle('Plot of sequence y[n]','n','y[n]');\n",
"funcprot(0);"
   ]
   }
,
{
		   "cell_type": "markdown",
		   "metadata": {},
		   "source": [
			"## Example 8.2: Responce_of_an_FIR_filter.sce"
		   ]
		  },
  {
"cell_type": "code",
	   "execution_count": null,
	   "metadata": {
	    "collapsed": true
	   },
	   "outputs": [],
"source": [
"//Example 8.2\n",
"//Find the response of an FIR filter with impulse response h[n]=[1,2,4] //to the input sequence x[n]=[1,2]\n",
"clc;\n",
"x=[1,2];\n",
"h=[1,2,4];\n",
"Y=convol(x,h);\n",
"disp(Y,'y[n]=');"
   ]
   }
,
{
		   "cell_type": "markdown",
		   "metadata": {},
		   "source": [
			"## Example 8.3: DFT_and_IDFT.sce"
		   ]
		  },
  {
"cell_type": "code",
	   "execution_count": null,
	   "metadata": {
	    "collapsed": true
	   },
	   "outputs": [],
"source": [
"//Example 8.3\n",
"//Compute DFT of x(n)={1,1,0,0} and IDFT of y(n)={1,0,1,0}\n",
"clc;\n",
"x=[1,1,0,0];\n",
"Y=[1,0,1,0];\n",
"X=fft(x,-1);\n",
"y=fft(Y,1);"
   ]
   }
,
{
		   "cell_type": "markdown",
		   "metadata": {},
		   "source": [
			"## Example 8.4: DFT_computatio.sce"
		   ]
		  },
  {
"cell_type": "code",
	   "execution_count": null,
	   "metadata": {
	    "collapsed": true
	   },
	   "outputs": [],
"source": [
"//Example 8.4\n",
"//Compute DFT of the following sequence \n",
"clc;\n",
"x=[0.25,0.25,0.25];\n",
"X=fft(x,-1);\n",
"disp(X,'X[k]=');"
   ]
   }
,
{
		   "cell_type": "markdown",
		   "metadata": {},
		   "source": [
			"## Example 8.5: DFT_computatio.sce"
		   ]
		  },
  {
"cell_type": "code",
	   "execution_count": null,
	   "metadata": {
	    "collapsed": true
	   },
	   "outputs": [],
"source": [
"//Example 8.5\n",
"//Find the DFT of the following sequence\n",
"clc;\n",
"x=[0.2,0.2,0.2];\n",
"n=-1:1;\n",
"X=fft(x,-1);\n",
"disp(X,'X[k]=');"
   ]
   }
,
{
		   "cell_type": "markdown",
		   "metadata": {},
		   "source": [
			"## Example 8.6: DFT_of_sequence.sce"
		   ]
		  },
  {
"cell_type": "code",
	   "execution_count": null,
	   "metadata": {
	    "collapsed": true
	   },
	   "outputs": [],
"source": [
"//Example 8.6\n",
"//Determine the DFT of the following sequence\n",
"clc;\n",
"x=[1,1,2,2,3,3];\n",
"X=fft(x,-1);\n",
"disp(X,'X[k]=');"
   ]
   }
,
{
		   "cell_type": "markdown",
		   "metadata": {},
		   "source": [
			"## Example 8.7: DFT_computatio.sce"
		   ]
		  },
  {
"cell_type": "code",
	   "execution_count": null,
	   "metadata": {
	    "collapsed": true
	   },
	   "outputs": [],
"source": [
"//Example 8.7\n",
"//DFT of x[n]=a.^n\n",
"clc;\n",
"a=0.5;//Say for a=0.5\n",
"n=0:4;\n",
"x=a.^n;\n",
"X=fft(x,-1);\n",
"disp(X,'X[k]=');"
   ]
   }
,
{
		   "cell_type": "markdown",
		   "metadata": {},
		   "source": [
			"## Example 8.8: DFT_computatio.sce"
		   ]
		  },
  {
"cell_type": "code",
	   "execution_count": null,
	   "metadata": {
	    "collapsed": true
	   },
	   "outputs": [],
"source": [
"//Example 8.8\n",
"//Compute 4-point DFT of the sequence x[n]=cos(n*pi/4)\n",
"clc;\n",
"n=0:3;\n",
"pi=22/7;\n",
"x=cos(n*pi/4);\n",
"X=fft(x,-1);\n",
"disp(X,'X[k]=');"
   ]
   }
,
{
		   "cell_type": "markdown",
		   "metadata": {},
		   "source": [
			"## Example 8.9: IDFT_computatio.sce"
		   ]
		  },
  {
"cell_type": "code",
	   "execution_count": null,
	   "metadata": {
	    "collapsed": true
	   },
	   "outputs": [],
"source": [
"//Example 8.9\n",
"//Computing IDFT of the following sequence\n",
"clc;\n",
"X=[1,2,3,4];\n",
"x=fft(X,1);\n",
"disp(x,'x[n]=');"
   ]
   }
],
"metadata": {
		  "kernelspec": {
		   "display_name": "Scilab",
		   "language": "scilab",
		   "name": "scilab"
		  },
		  "language_info": {
		   "file_extension": ".sce",
		   "help_links": [
			{
			 "text": "MetaKernel Magics",
			 "url": "https://github.com/calysto/metakernel/blob/master/metakernel/magics/README.md"
			}
		   ],
		   "mimetype": "text/x-octave",
		   "name": "scilab",
		   "version": "0.7.1"
		  }
		 },
		 "nbformat": 4,
		 "nbformat_minor": 0
}
