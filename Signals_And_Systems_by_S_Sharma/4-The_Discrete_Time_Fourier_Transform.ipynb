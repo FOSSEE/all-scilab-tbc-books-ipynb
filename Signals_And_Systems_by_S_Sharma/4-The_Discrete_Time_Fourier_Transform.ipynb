{
"cells": [
 {
		   "cell_type": "markdown",
	   "metadata": {},
	   "source": [
       "# Chapter 4: The Discrete Time Fourier Transform"
	   ]
	},
{
		   "cell_type": "markdown",
		   "metadata": {},
		   "source": [
			"## Example 4.10: DTFT_of_cosine.sce"
		   ]
		  },
  {
"cell_type": "code",
	   "execution_count": null,
	   "metadata": {
	    "collapsed": true
	   },
	   "outputs": [],
"source": [
"//Example 4.10\n",
"//Find DTFT of x[n]=cos(Won) with Wo=(2*pi/5)\n",
"clc;\n",
"syms w n;\n",
"x1=exp(%i*(2*%pi*n/5));\n",
"x2=exp(-%i*(2*%pi*n/5));\n",
"X1=symsum(x1*exp(-%i*w*n),n,0,%inf);\n",
"X2=symsum(x2*exp(-%i*w*n),n,0,%inf);\n",
"X=(X1+X2)/2;"
   ]
   }
,
{
		   "cell_type": "markdown",
		   "metadata": {},
		   "source": [
			"## Example 4.12: DTFT_of_unit_step.sce"
		   ]
		  },
  {
"cell_type": "code",
	   "execution_count": null,
	   "metadata": {
	    "collapsed": true
	   },
	   "outputs": [],
"source": [
"//Example 4.12\n",
"//Find DTFT of x[n]=u[n]\n",
"clc;\n",
"syms w n;\n",
"x=1;\n",
"X=symsum(x*exp(-%i*w*n),n,0,%inf);"
   ]
   }
,
{
		   "cell_type": "markdown",
		   "metadata": {},
		   "source": [
			"## Example 4.16: DTFT_computatio.sce"
		   ]
		  },
  {
"cell_type": "code",
	   "execution_count": null,
	   "metadata": {
	    "collapsed": true
	   },
	   "outputs": [],
"source": [
"//Example 4.16\n",
"//Find DTFT of x[n]=(a^n)u[n],for 0<a<1\n",
"clc;\n",
"syms w a n;\n",
"x=a^n;\n",
"X=symsum(x*exp(-%i*w*n),n,0,%inf);"
   ]
   }
,
{
		   "cell_type": "markdown",
		   "metadata": {},
		   "source": [
			"## Example 4.1: DTFT_computatio.sce"
		   ]
		  },
  {
"cell_type": "code",
	   "execution_count": null,
	   "metadata": {
	    "collapsed": true
	   },
	   "outputs": [],
"source": [
"//Example 4.1\n",
"//Find the DTFT of (a^n)u[n],for |a|<1\n",
"clc;\n",
"syms w a n;\n",
"x=a^n;\n",
"X=symsum(x*exp(-%i*w*n),n,0,%inf);"
   ]
   }
,
{
		   "cell_type": "markdown",
		   "metadata": {},
		   "source": [
			"## Example 4.22: DTFT_computatio.sce"
		   ]
		  },
  {
"cell_type": "code",
	   "execution_count": null,
	   "metadata": {
	    "collapsed": true
	   },
	   "outputs": [],
"source": [
"//Example 4.22\n",
"//Find DTFT of x[n]=((1/2)^(n-1))u[n-1]\n",
"clc;\n",
"syms w n;\n",
"x=(1/2)^(n-1);\n",
"X=symsum(x*exp(-%i*w*n),n,1,%inf);"
   ]
   }
,
{
		   "cell_type": "markdown",
		   "metadata": {},
		   "source": [
			"## Example 4.2: DTFT_computatio.sce"
		   ]
		  },
  {
"cell_type": "code",
	   "execution_count": null,
	   "metadata": {
	    "collapsed": true
	   },
	   "outputs": [],
"source": [
"//Example 4.2\n",
"//Find DTFT of x[n]=(a^n)u[-(n+1)]\n",
"clc;\n",
"syms w a n;\n",
"x=a^n;\n",
"X=symsum(x*exp(-%i*w*n),n,-%inf,-1);"
   ]
   }
,
{
		   "cell_type": "markdown",
		   "metadata": {},
		   "source": [
			"## Example 4.3: DTFT_computation_of_unit_impluse.sce"
		   ]
		  },
  {
"cell_type": "code",
	   "execution_count": null,
	   "metadata": {
	    "collapsed": true
	   },
	   "outputs": [],
"source": [
"//Example 4.3\n",
"//Find DTFT of unit impluse\n",
"clc;\n",
"syms w n;\n",
"x=1;\n",
"X=symsum(x*exp(-%i*w*n),n,0,0);"
   ]
   }
,
{
		   "cell_type": "markdown",
		   "metadata": {},
		   "source": [
			"## Example 4.5: DTFT_computatio.sce"
		   ]
		  },
  {
"cell_type": "code",
	   "execution_count": null,
	   "metadata": {
	    "collapsed": true
	   },
	   "outputs": [],
"source": [
"//Example 4.5\n",
"//Find DTFT of x[n]=a^|n| for -1<a<1\n",
"clc;\n",
"syms w a n;\n",
"x1=a^n;\n",
"x2=a^(-n);\n",
"X1=symsum(x1*exp(-%i*w*n),n,0,%inf);\n",
"X2=symsum(x2*exp(-%i*w*n),n,-%inf,-1);\n",
"X=X1+X2;\n",
"disp(X,'X(e^jw)=');"
   ]
   }
,
{
		   "cell_type": "markdown",
		   "metadata": {},
		   "source": [
			"## Example 4.9: Sketch_discrete_time_signal.sce"
		   ]
		  },
  {
"cell_type": "code",
	   "execution_count": null,
	   "metadata": {
	    "collapsed": true
	   },
	   "outputs": [],
"source": [
"//Example 4.9\n",
"clc;\n",
"syms w a n;\n",
"x=a^n;\n",
"pi=22/7;\n",
"X=symsum(x*exp(-%i*w*n),n,0,%inf);\n",
"n1=0:10;\n",
"a=0.5;\n",
"x1=a^n1;\n",
"plot2d3(n1,x1);\n",
"xtitle('Discrete Time Signal','n','x[n]');\n",
"a.thickness=2;"
   ]
   }
],
"metadata": {
		  "kernelspec": {
		   "display_name": "Scilab",
		   "language": "scilab",
		   "name": "scilab"
		  },
		  "language_info": {
		   "file_extension": ".sce",
		   "help_links": [
			{
			 "text": "MetaKernel Magics",
			 "url": "https://github.com/calysto/metakernel/blob/master/metakernel/magics/README.md"
			}
		   ],
		   "mimetype": "text/x-octave",
		   "name": "scilab",
		   "version": "0.7.1"
		  }
		 },
		 "nbformat": 4,
		 "nbformat_minor": 0
}
