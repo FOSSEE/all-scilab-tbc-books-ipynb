{
"cells": [
 {
		   "cell_type": "markdown",
	   "metadata": {},
	   "source": [
       "# Chapter 3: Fourier Analysis of Periodic and APeriodic Continous Time Signal"
	   ]
	},
{
		   "cell_type": "markdown",
		   "metadata": {},
		   "source": [
			"## Example 3.15: Fourier_Transform.sce"
		   ]
		  },
  {
"cell_type": "code",
	   "execution_count": null,
	   "metadata": {
	    "collapsed": true
	   },
	   "outputs": [],
"source": [
"//Example 3.15\n",
"clc;\n",
"clear;\n",
"T1=2;\n",
"T=4*T1;\n",
"Wo=2*%pi/T;\n",
"W=[-Wo,0,Wo];\n",
"ak=(2*%pi*Wo*T1/%pi)/sqrt(-1);\n",
"XW=[-ak,0,ak];\n",
"ak1=(2*%pi*Wo*T1/%pi);\n",
"XW1=[ak1,0,ak1];\n",
"figure\n",
"a=gca();\n",
"a.y_location='origin';\n",
"a.x_location='origin';\n",
"plot2d3('gnn',W,XW1,2);\n",
"poly1=a.children(1).children(1);\n",
"poly1.thickness=3;\n",
"xlabel('W');\n",
"title('CTFT of cos(Wot)');"
   ]
   }
,
{
		   "cell_type": "markdown",
		   "metadata": {},
		   "source": [
			"## Example 3.31: Fourier_Transform.sce"
		   ]
		  },
  {
"cell_type": "code",
	   "execution_count": null,
	   "metadata": {
	    "collapsed": true
	   },
	   "outputs": [],
"source": [
"//Example 3.31\n",
"clc ;\n",
"clear;\n",
"R=10^3;\n",
"C=10^-3;\n",
"A=1/(R*C);\n",
"Dt=0.005;\n",
"t=0:Dt:10;\n",
"xt=A*exp(-A*t);\n",
"Wmax=2*%pi*1;\n",
"K=4;\n",
"k=0:(K/1000):K;\n",
"W=k*Wmax/K;\n",
"XW=xt*exp(-sqrt(-1)*t'*W)*Dt;\n",
"XW_Mag=abs(XW);\n",
"W=[-mtlb_fliplr(W),W(2:1001)];\n",
"XW_Mag=[mtlb_fliplr(XW_Mag),XW_Mag(2:1001)];\n",
"[XW_Phase,db]=phasemag(XW);\n",
"XW_Phase=[-mtlb_fliplr(XW_Phase),XW_Phase(2:1001)];\n",
"figure\n",
"a=gca();\n",
"a.y_location='origin';\n",
"plot(t,xt);\n",
"xlabel('t in sec.');\n",
"ylabel('x(t)');\n",
"title('Continuous Time Signal');\n",
"figure\n",
"subplot(2,1,1);\n",
"a=gca();\n",
"a.y_location='origin';\n",
"plot(W,XW_Mag);\n",
"xlabel('Frequency in Radians/Seconds>W');\n",
"ylabel('abs(X(jW))');\n",
"title('Magnitude Response (CTFT)');\n",
"subplot(2,1,2);\n",
"a=gca();\n",
"a.y_location='origin';\n",
"a.x_location='origin';\n",
"plot(W,XW_Phase*%pi/180) ;\n",
"xlabel(' Frequency in Radians/Seconds􀀀􀀀􀀀> W' );\n",
"ylabel('<X(jW)')\n",
"title('Phase Response (CTFT) in Radians');"
   ]
   }
,
{
		   "cell_type": "markdown",
		   "metadata": {},
		   "source": [
			"## Example 3.8: Fourier_Transform.sce"
		   ]
		  },
  {
"cell_type": "code",
	   "execution_count": null,
	   "metadata": {
	    "collapsed": true
	   },
	   "outputs": [],
"source": [
"clc ;\n",
"close ;\n",
"// Analog S i g n a l\n",
"A =1; // Ampl i tude\n",
"Dt = 0.005;\n",
"t = 0: Dt :10;\n",
"xt = exp(-A*t);\n",
"Wmax = 2* %pi *1; // Analog Fr equency = 1Hz\n",
"K = 4;\n",
"k = 0:( K /1000) :K;\n",
"W = k* Wmax /K;\n",
"XW = xt* exp (- sqrt ( -1)*t'*W) * Dt;\n",
"XW_Mag = abs(XW);\n",
"W = [-mtlb_fliplr(W),W(2:1001)]; // Omega f rom 􀀀 Wmax to Wmax\n",
"XW_Mag = [mtlb_fliplr(XW_Mag),XW_Mag(2:1001)];\n",
"[ XW_Phase ,db] = phasemag (XW);\n",
"XW_Phase =[-mtlb_fliplr(XW_Phase),XW_Phase(2:1001)];\n",
"//Plotting Continuous Time Signal\n",
"figure\n",
"a = gca ();\n",
"a.y_location ='origin';\n",
"plot (t,xt);\n",
"xlabel ( ' t in sec. ' );\n",
"ylabel ( ' x ( t ) ' )\n",
"title ( ' Continuous Time Signal ' )\n",
"figure\n",
"// Pl o t t i n g Magni tude Re spons e o f CTS\n",
"subplot (2 ,1 ,1);\n",
"a = gca ();\n",
"a.y_location ='origin';\n",
"plot (W, XW_Mag );\n",
"xlabel ( ' Fr equency i n Radians / Seconds􀀀􀀀􀀀> W' );\n",
"ylabel ( ' abs (X(jW) ) ' )\n",
"title ( 'Magni tude Re spons e (CTFT) ' )\n",
"// Pl o t t i n g Phase Reponse o f CTS\n",
"subplot (2 ,1 ,2);\n",
"a = gca ();\n",
"a.y_location = 'origin';\n",
"a.x_location = 'origin';\n",
"plot (W, XW_Phase *%pi /180) ;\n",
"xlabel ( ' Fr equency in Radians / Seconds􀀀􀀀􀀀> W' );\n",
"ylabel ( '<X(jW) ' )\n",
"title ( ' Phase Re spons e (CTFT) i n Radians ' )"
   ]
   }
,
{
		   "cell_type": "markdown",
		   "metadata": {},
		   "source": [
			"## Example 3.9: Fourier_Transform.sce"
		   ]
		  },
  {
"cell_type": "code",
	   "execution_count": null,
	   "metadata": {
	    "collapsed": true
	   },
	   "outputs": [],
"source": [
"//Example 3.9\n",
"clc;\n",
"clear;\n",
"A=1;\n",
"Dt=0.005;\n",
"T1=4;\n",
"t=-T1/2:Dt:T1/2;\n",
"for i=1:length(t)\n",
"xt(i)=A;\n",
"end\n",
"Wmax=2*%pi*1;\n",
"K=4;\n",
"k=0:(K/1000):K;\n",
"W=k*Wmax/K;\n",
"xt=xt';\n",
"XW=xt*exp(-sqrt(-1)*t'*W)*Dt;\n",
"XW_Mag=real(XW);\n",
"W=[-mtlb_fliplr(W),W(2:1001)];\n",
"XW_Mag=[mtlb_fliplr(XW_Mag),XW_Mag(2:1001)];\n",
"subplot(2,1,1);\n",
"a=gca();\n",
"a.data_bounds=[-4,0;4,2];\n",
"a.y_location='origin';\n",
"plot(t,xt);\n",
"xlabel('t in sec.');\n",
"title('Continous Time Signal x(t)');\n",
"subplot(2,1,2);\n",
"a=gca();\n",
"a.y_location='origin';\n",
"plot(W,XW_Mag);\n",
"xlabel('Frequency in Radians/Seconds');\n",
"title('Continuous time Fourier Transform X(jW)');"
   ]
   }
],
"metadata": {
		  "kernelspec": {
		   "display_name": "Scilab",
		   "language": "scilab",
		   "name": "scilab"
		  },
		  "language_info": {
		   "file_extension": ".sce",
		   "help_links": [
			{
			 "text": "MetaKernel Magics",
			 "url": "https://github.com/calysto/metakernel/blob/master/metakernel/magics/README.md"
			}
		   ],
		   "mimetype": "text/x-octave",
		   "name": "scilab",
		   "version": "0.7.1"
		  }
		 },
		 "nbformat": 4,
		 "nbformat_minor": 0
}
