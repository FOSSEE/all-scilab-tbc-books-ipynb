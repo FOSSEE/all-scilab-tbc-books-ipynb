{
"cells": [
 {
		   "cell_type": "markdown",
	   "metadata": {},
	   "source": [
       "# Chapter 1: Introduction To Data Structures"
	   ]
	},
{
		   "cell_type": "markdown",
		   "metadata": {},
		   "source": [
			"## Example 1.1_4: Decimal_form_of_given_no_represented_variably.sci"
		   ]
		  },
  {
"cell_type": "code",
	   "execution_count": null,
	   "metadata": {
	    "collapsed": true
	   },
	   "outputs": [],
"source": [
"//Exercise1.1 Example.1.1.4\n",
"//To calculate  Decimal No. of a given Number\n",
"//Treating them as i)Normal binary nos(ii)Twos complemented iii)BCD:\n",
"function[c]=twos1(a1)\n",
"  [j1,i1]=size(a1)\n",
"  i4=1\n",
"  c=-(a1(i4)*2^(i1-1));\n",
"  i1=i1-1;\n",
"  while(i1>=1)\n",
"    i4=i4+1;\n",
"    c=c+a1(i4)*2^(i1-1);\n",
"    i1=i1-1;\n",
"  end\n",
"  disp(a1,'Decimal form of the Twos Complement Number');\n",
"  disp(c,' is');\n",
"endfunction\n",
"function[d]=binary_dec(a2)\n",
"  [j2,i2]=size(a2);\n",
"  k=modulo(i2,4);\n",
"  d=0;\n",
"  if(k==0)\n",
"    e=i2/4;\n",
"    i3=1\n",
"    while(i3<=i2)\n",
"      l=3\n",
"      m=0\n",
"      while(l>=0)\n",
"        m=m+(a2(i3)*2^l);\n",
"        l=l-1;\n",
"        i3=i3+1;\n",
"      end\n",
"      if(m>9)\n",
"        d=-1;\n",
"        disp('Cannot be coded in this form')\n",
"       break;\n",
"      end\n",
"      if(m<=9)\n",
"        d=d+m*10^(e-1)\n",
"        e=e-1;\n",
"      end\n",
"    end\n",
"  end\n",
"  disp(a2,'Decimal form of  BCD number');\n",
"  disp(d,'is');\n",
"endfunction\n",
"//Given Example:\n",
"//(A)\n",
"p1=[1 0 0 1 1 0 0 1];\n",
"p2=base2dec(['10011001'],2)\n",
"p2=twos1(p1)\n",
"p2=binary_dec(p1)\n",
"//(b)\n",
"p3=[1 0 0 1];\n",
"p4=base2dec(['1001'],2)\n",
"p4=twos1(p3)\n",
"p4=binary_dec(p3)\n",
"//(C)\n",
"p5=[0 0 0 1 0 0 0 1 0 0 0 1];\n",
"p6=base2dec(['000100010001'],2)\n",
"p6=twos1(p5)\n",
"p6=binary_dec(p5)\n",
"//(d)\n",
"p7=[0 1 1 1 0 1 1 1];\n",
"p8=base2dec(['01110111'],2)\n",
"p8=twos1(p7)\n",
"p8=binary_dec(p7)\n",
"//(e)\n",
"p9=[0 1 0 1 0 1 0 1];\n",
"p10=base2dec(['01010101'],2)\n",
"p10=twos1(p9)\n",
"p10=binary_dec(p9)\n",
"//(F)\n",
"p11=[1 0 0 0 0 0 0 1 0 1 0 1];\n",
"p12=base2dec(['100000010101'],2)\n",
"p12=twos1(p11)\n",
"p12=binary_dec(p11)\n",
"    "
   ]
   }
,
{
		   "cell_type": "markdown",
		   "metadata": {},
		   "source": [
			"## Example 1.1_5: Add_Substract_And_Multiply_binary_numbers.sci"
		   ]
		  },
  {
"cell_type": "code",
	   "execution_count": null,
	   "metadata": {
	    "collapsed": true
	   },
	   "outputs": [],
"source": [
"//Exercise 1.1 example 1.1.5\n",
"//Add,Substract And Multiply binary numbers\n",
"function[a]=add(b,c)\n",
"  d=base2dec(b,2)\n",
"  e=base2dec(c,2)\n",
"  a=d+e\n",
"  a=dec2bin(a)\n",
"  disp(a,'Result of addition')\n",
"endfunction\n",
"function[a]=subtract(b,c)\n",
"  d=base2dec(b,2)\n",
"  e=base2dec(c,2)\n",
"  a=d-e\n",
"  a=dec2bin(a)\n",
"  disp(a,'Result of subtraction')\n",
"endfunction\n",
"function[a]=multiply(b,c)\n",
"  d=base2dec(b,2)\n",
"  e=base2dec(c,2)\n",
"  a=d*e\n",
"  a=dec2bin(a)\n",
"  disp(a,'Result  of multiplication');\n",
"endfunction\n",
"//Calling Routine:\n",
"b='11001';\n",
"c='10011';\n",
"a=add(b,c)\n",
"a=subtract(b,c)\n",
"a=multiply(b,c)"
   ]
   }
,
{
		   "cell_type": "markdown",
		   "metadata": {},
		   "source": [
			"## Example 1.1_7: TO_Convert_Binary_To_Ternary.sci"
		   ]
		  },
  {
"cell_type": "code",
	   "execution_count": null,
	   "metadata": {
	    "collapsed": true
	   },
	   "outputs": [],
"source": [
"//Exercise 1.1Example 1.1.7\n",
"//TO Convert Binary To Ternary\n",
"function[t]=bin_ter(a)\n",
"  b=0\n",
"  b=base2dec(a,2);\n",
"  disp(b);\n",
"  [j,i]=size(a);\n",
"  t=[];\n",
"  while(b~=0)\n",
"    m=modulo(b,3);\n",
"    t=[t(:,:) m];\n",
"    b=b/3;\n",
"    b=b-modulo(b,10);\n",
"  end\n",
"  disp(t,'Ternary Equivalent');\n",
"endfunction\n",
"//Calling Routine:\n",
"a='100101101110'\n",
"disp(a,'input string is');\n",
"b=bin_ter(a)"
   ]
   }
,
{
		   "cell_type": "markdown",
		   "metadata": {},
		   "source": [
			"## Example 1.1: To_calcualte_Average_And_Deviation.sci"
		   ]
		  },
  {
"cell_type": "code",
	   "execution_count": null,
	   "metadata": {
	    "collapsed": true
	   },
	   "outputs": [],
"source": [
"//Solved Example 1\n",
"//:To  calcualte Average And Deviation\n",
"function[avg]=average(a)\n",
"  i=1;\n",
"  [j,k]=size(a);\n",
"  j=0;\n",
"  for i=1:k\n",
"    j=j+a(i);\n",
"  end\n",
"  avg=j/k;\n",
"  dev=0;\n",
"  disp(avg,'Average =');\n",
"  disp('The deviations are:');\n",
"  for i=1:k\n",
"    dev=a(i)-avg;\n",
"    disp(dev);\n",
"  end\n",
"endfunction\n",
"//Calling routine\n",
"a=[3 223 212 343]\n",
"avg=average(a)"
   ]
   }
,
{
		   "cell_type": "markdown",
		   "metadata": {},
		   "source": [
			"## Example 1.2_1: Calculate_Median_And_Mode_Of_an_Array.sci"
		   ]
		  },
  {
"cell_type": "code",
	   "execution_count": null,
	   "metadata": {
	    "collapsed": true
	   },
	   "outputs": [],
"source": [
"//Exercise Example 1.2.1\n",
"//Calculates Median And Mode Of an  Array\n",
"//(A)\n",
"function[y]=median1(a)\n",
"  p=mtlb_sort(a);\n",
"  [j,i]=size(a);\n",
"  y=0\n",
"  j=modulo(i,2);\n",
"  if(j==0)\n",
"    y=((a(i/2)+a(i/2+1))/2);\n",
"  end\n",
"  if(j==1)\n",
"    i=i/2;\n",
"    i=i-modulo(i,10);\n",
"    y=a(i+1);\n",
"  end\n",
"  disp(y,'median is');\n",
"endfunction\n",
"//(B)\n",
"function[z]=mode1(a)\n",
"  p=mtlb_sort(a);\n",
"  disp(p)\n",
"  q=1;\n",
"  r=1;\n",
"  i=1;\n",
"  [j,i1]=size(a);\n",
"  if(i1>1)\n",
"    for i=1:i1-1\n",
"      if(p(i)~=p(i+1))\n",
"      q=[q(:,:) i+1];\n",
"      r=[r(:,:) 1];\n",
"      else\n",
"        [c,d]=size(r);\n",
"        r(d)=r(d)+1;\n",
"      end\n",
"    end\n",
"    q1=mtlb_sort(r);\n",
"    [j,i1]=size(q1)\n",
"    if(q1(i1-1)==q1(i1))\n",
"      z=-1;\n",
"      disp('Mode does not exist');\n",
"      break;\n",
"      else\n",
"        c=q1(i1);\n",
"        k=1;\n",
"        while(r(k)~=c)\n",
"          k=k+1;\n",
"        end\n",
"        z=p(q(k));\n",
"      end\n",
"    end    \n",
"    if(i1==1)\n",
"      z=a(1);\n",
"    end\n",
"    disp(z,'mode is');\n",
"endfunction\n",
"a=[223 12 233322 121]\n",
"y=median1(a);\n",
"z=mode1(a);   "
   ]
   }
,
{
		   "cell_type": "markdown",
		   "metadata": {},
		   "source": [
			"## Example 1.2_6: Finding_the_adress_in_a_row_major_array.sci"
		   ]
		  },
  {
"cell_type": "code",
	   "execution_count": null,
	   "metadata": {
	    "collapsed": true
	   },
	   "outputs": [],
"source": [
"//Exercise1.2 Example 1.2.6\n",
"//Finding the adress in a row major array\n",
"function[]=add(m,n)\n",
"  printf('Adress is %d\n',m+n*20);\n",
"endfunction\n",
"\n",
"//(a)\n",
"add(10,0);\n",
"//(b)\n",
"add(100,0);\n",
"//(c)\n",
"add(0,0);\n",
"//(d)\n",
"add(2,1);\n",
"//(e)\n",
"add(5,1);\n",
"//(f)\n",
"add(1,10);\n",
"//(g)\n",
"add(2,10);\n",
"//(h)\n",
"add(5,3);\n",
"//(i)\n",
"add(9,19);"
   ]
   }
,
{
		   "cell_type": "markdown",
		   "metadata": {},
		   "source": [
			"## Example 1.2: String_Manipulations.sci"
		   ]
		  },
  {
"cell_type": "code",
	   "execution_count": null,
	   "metadata": {
	    "collapsed": true
	   },
	   "outputs": [],
"source": [
"//Solved Example 2\n",
"//:String Manipulations\n",
"funcprot(0)\n",
"function[l]=strlen(str)\n",
"  i=1;\n",
"  l=0;\n",
"  [j,k]=size(str)\n",
"  for  i=1:k\n",
"    l=l+length(str(i));\n",
"  end\n",
"  disp(l,'string length is');\n",
"endfunction\n",
"//Calling Routine:\n",
"str='Hello World';\n",
"l=strlen(str)\n",
"function[c]=strcat1(a,b)\n",
"  disp(strcat([a b]),'After concatination');\n",
"  c=strcat([a b]);\n",
"endfunction\n",
"//Calling Routine:\n",
"a='hello ';\n",
"b='world';\n",
"c=strcat1(a,b);"
   ]
   }
,
{
		   "cell_type": "markdown",
		   "metadata": {},
		   "source": [
			"## Example 1.3_1: Implementing_Complex_Numbers_by_structure.sci"
		   ]
		  },
  {
"cell_type": "code",
	   "execution_count": null,
	   "metadata": {
	    "collapsed": true
	   },
	   "outputs": [],
"source": [
"//Exercise 1.3\n",
"//Example 1.3.1\n",
"//Implementing Complex Numbers by structure\n",
"function[]=complexmanu(x1,x2,x3,x4)\n",
"  \n",
"  com1=struct('real',x1,'complex',x2);\n",
"  com2=struct('real',x3,'complex',x4);\n",
"   //adding 2 numbers\n",
"   add=struct('real',x1+x3,'complex',x2+x4);\n",
"   disp(add.complex,'+ i',add.real,'Addition result is ');\n",
"   //Substract\n",
"   sub=struct('real',x1-x3,'complex',x2-x4);\n",
"   disp(sub.complex,'+ i',sub.real,'Substraction result is ');\n",
"   //Negating \n",
"   neg=struct('real',-x1,'complex',-x2);\n",
"   disp(neg.complex,'+ i',neg.real,'Negation result for the first is ');\n",
"   //Multiplication\n",
"   mul=struct('real',x1*x3-x2*x4,'complex',x2*x3+x4*x1);\n",
"    disp(mul.complex,'+ i',mul.real,'Multiplication result is ');\n",
" endfunction\n",
" x1=3;\n",
" x2=5;\n",
" x3=5;\n",
" x4=6;\n",
" complexmanu(x1,x2,x3,x4);"
   ]
   }
,
{
		   "cell_type": "markdown",
		   "metadata": {},
		   "source": [
			"## Example 1.3_6: Adding_Substracting_and_multiplying_Rational_Nos.sci"
		   ]
		  },
  {
"cell_type": "code",
	   "execution_count": null,
	   "metadata": {
	    "collapsed": true
	   },
	   "outputs": [],
"source": [
"//Exercise 1.3\n",
"//Example  1.3.6\n",
"//Adding,Subtracting and multiplying Rational Numbers\n",
"function[]=rational(x1,x2,x3,x4)\n",
"rational1=struct('numerator',x1,'denominator',x2);\n",
"disp(rational1);\n",
"rational2=struct('numerator',x3,'denominator',x4);\n",
"disp(rational2);\n",
"//Add\n",
"x5=int32([x2 x4]);\n",
"x5=lcm(x5);\n",
"x6=x1*(x5/x2)+x3*(x5/x4);\n",
"rational3=struct('numerator',x6,'denominator',x5);\n",
"disp(rational3,'After addition');\n",
"//subtract\n",
"x6=x1*(x5/x2)-x3*(x5/x4)\n",
"rational4=struct('numerator',x6,'denominator',x5);\n",
"disp(rational4,'After Subtraction');\n",
"//Multiply\n",
"x7=x1*x3;\n",
"x8=x2*x4;\n",
"rational5=struct('numerator',x7,'denominator',x8);\n",
"disp(rational5,'After multiplication');\n",
"endfunction\n",
"x1=43;\n",
"x2=32;\n",
"x3=233;\n",
"x4=33;\n",
"rational(x1,x2,x3,x4);"
   ]
   }
,
{
		   "cell_type": "markdown",
		   "metadata": {},
		   "source": [
			"## Example 1.3_7: Checking_Equality_Of_2_Rational_Numbers.sci"
		   ]
		  },
  {
"cell_type": "code",
	   "execution_count": null,
	   "metadata": {
	    "collapsed": true
	   },
	   "outputs": [],
"source": [
"//Exercise 1.3\n",
"//Example 1.3.7\n",
"//Checking Equality Of 2 Rational Numbers Without Reducing Them\n",
"function[]=rational_equal(x1,x2,x3,x4)\n",
"rational1=struct('numerator',x1,'denominator',x2);\n",
"disp(rational1);\n",
"rational2=struct('numerator',x3,'denominator',x4);\n",
"disp(rational2);\n",
"if(x1*x4==x2*x3)\n",
"  disp('Equal');\n",
"  break;\n",
"else\n",
"  disp('Not  Equal');\n",
"  break;\n",
"end\n",
"endfunction\n",
"//Calling Routine:\n",
"x1=32;\n",
"x2=45;\n",
"x3=43;\n",
"x4=55;\n",
"rational_equal(x1,x2,x3,x4);"
   ]
   }
,
{
		   "cell_type": "markdown",
		   "metadata": {},
		   "source": [
			"## Example 1.3: Writing_name_from_structure_and_counting_alphabets.sci"
		   ]
		  },
  {
"cell_type": "code",
	   "execution_count": null,
	   "metadata": {
	    "collapsed": true
	   },
	   "outputs": [],
"source": [
"//Solved Example 5:\n",
"//Writing a name from the given structure and \n",
"//counting the number of alphabets printed\n",
"function[l]=strlen(str)\n",
"  i=1;\n",
"  l=0;\n",
"  [j,k]=size(str)\n",
"  for  i=1:k\n",
"    l=l+length(str(i));\n",
"  end\n",
"endfunction\n",
"function[count]=writename(name)\n",
"  printf('\n');\n",
"  printf('%s',name.first);\n",
"  printf('%c','  ');\n",
"  printf('%s',name.midinit);\n",
"  printf('\t');\n",
"  printf('%s',name.last);\n",
"  printf('\n');\n",
"  \n",
"  a=string(name.first);\n",
"  count=strlen(a);\n",
"  a=string(name.midinit);\n",
"  count=count+strlen(a);\n",
"  a=string(name.last);\n",
"  count=count+strlen(a);\n",
"  disp(count,'Count is:');\n",
"endfunction\n",
"//Calling Routine\n",
"name=struct('first','praveen','midinit','rajeev','last','chauhan');\n",
"count=writename(name)"
   ]
   }
,
{
		   "cell_type": "markdown",
		   "metadata": {},
		   "source": [
			"## Example 1.4: Raising_the_salary_of_employee.sci"
		   ]
		  },
  {
"cell_type": "code",
	   "execution_count": null,
	   "metadata": {
	    "collapsed": true
	   },
	   "outputs": [],
"source": [
"//Solved Example 6\n",
"//To Raise The salary of an employee\n",
"function[employee1]=raise(employee,n)//employee is the list of employees\n",
"  for i=1:n\n",
"    if(employee(i)(1).year<=2000)\n",
"      employee(i)(2)=employee(i)(2)*1.1;\n",
"    else\n",
"      employee(i)(2)=employee(i)(2)*1.05;\n",
"    end\n",
"  end\n",
"  employee1=employee;\n",
"  disp('After Raising');\n",
"  for i=1:n\n",
"    printf('Employee no %d\n',i);\n",
"    disp(employee(i)(1));\n",
"    disp(employee(i)(2));\n",
"  end\n",
"  \n",
"endfunction\n",
"//Calling Routine:\n",
"datehired=struct('year',1993,'month',12);\n",
"employee1=list(datehired,14000);\n",
"datehired=struct('year',1998,'month',12);\n",
"employee2=list(datehired,17000);\n",
"datehired=struct('year',2003,'month',12);\n",
"employee3=list(datehired,25000);\n",
"datehired=struct('year',2002,'month',12);\n",
"employee4=list(datehired,35000);\n",
"datehired=struct('year',2006,'month',12);\n",
"employee5=list(datehired,13000);\n",
"employee=list(employee1,employee2,employee3,employee4,employee5);\n",
"employee=raise(employee,5)"
   ]
   }
,
{
		   "cell_type": "markdown",
		   "metadata": {},
		   "source": [
			"## Example 1.5: Reducing_the_given_rational_number.sci"
		   ]
		  },
  {
"cell_type": "code",
	   "execution_count": null,
	   "metadata": {
	    "collapsed": true
	   },
	   "outputs": [],
"source": [
"//Solved Example 7:\n",
"//Reducing The Given Rational Number\n",
"funcprot(0)\n",
"function[y]=reduce(nm,dn)\n",
"rational1=struct('numerator',nm,'denominator',dn)\n",
"y=0\n",
"if(rational1.numerator>rational1.denominator)\n",
"  a=rational1.numerator;\n",
"  b=rational1.denominator;\n",
"else\n",
"  a=rational1.denominator;\n",
"  b=rational1.numerator;\n",
"end\n",
"while(b~=0)\n",
"  rem=modulo(a,b);\n",
"  a=b;\n",
"  b=rem;\n",
"end\n",
"y=struct('numerator',nm/a,'denominator',dn/a);\n",
"disp(y);\n",
"endfunction\n",
"nm=22;\n",
"dn=44;\n",
"y=reduce(nm,dn)"
   ]
   }
,
{
		   "cell_type": "markdown",
		   "metadata": {},
		   "source": [
			"## Example 1.6: Equality_check_of_2_rational_nos_by_reduction.sci"
		   ]
		  },
  {
"cell_type": "code",
	   "execution_count": null,
	   "metadata": {
	    "collapsed": true
	   },
	   "outputs": [],
"source": [
"//Solved Example 8:\n",
"//Checking for the equality of 2 rational numbers by reducing them\n",
"function[]=equal(x1,x2,x3,x4)\n",
"  rational1=struct('numerator',x1,'denominator',x2)\n",
" rational2=struct('numerator',x3,'denominator',x4)\n",
" y=0\n",
"if(rational1.numerator>rational1.denominator)\n",
"  a=rational1.numerator;\n",
"  b=rational1.denominator;\n",
"else\n",
"  a=rational1.denominator;\n",
"  b=rational1.numerator;\n",
"end\n",
"while(b~=0)\n",
"  rem=modulo(a,b);\n",
"  a=b;\n",
"  b=rem;\n",
"end\n",
"y=struct('numerator',x1/a,'denominator',x2/a);\n",
"y1=0\n",
"if(rational2.numerator>rational2.denominator)\n",
"  a=rational2.numerator;\n",
"  b=rational2.denominator;\n",
"else\n",
"  a=rational2.denominator;\n",
"  b=rational2.numerator;\n",
"end\n",
"while(b~=0)\n",
"  rem=modulo(a,b);\n",
"  a=b;\n",
"  b=rem;\n",
"end\n",
"y1=struct('numerator',x3/a,'denominator',x4/a);\n",
"if(y==y1)\n",
"  disp('Equal')\n",
"  break;\n",
"else\n",
"  disp('Not Equal')\n",
"  break;\n",
"end\n",
"endfunction\n",
"x1=5;\n",
"x2=7;\n",
"x3=35;\n",
"x4=49;\n",
"equal(x1,x2,x3,x4);"
   ]
   }
],
"metadata": {
		  "kernelspec": {
		   "display_name": "Scilab",
		   "language": "scilab",
		   "name": "scilab"
		  },
		  "language_info": {
		   "file_extension": ".sce",
		   "help_links": [
			{
			 "text": "MetaKernel Magics",
			 "url": "https://github.com/calysto/metakernel/blob/master/metakernel/magics/README.md"
			}
		   ],
		   "mimetype": "text/x-octave",
		   "name": "scilab",
		   "version": "0.7.1"
		  }
		 },
		 "nbformat": 4,
		 "nbformat_minor": 0
}
