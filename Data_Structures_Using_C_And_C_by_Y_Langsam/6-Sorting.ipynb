{
"cells": [
 {
		   "cell_type": "markdown",
	   "metadata": {},
	   "source": [
       "# Chapter 6: Sorting"
	   ]
	},
{
		   "cell_type": "markdown",
		   "metadata": {},
		   "source": [
			"## Example 6.1: Bubble_Sort.sci"
		   ]
		  },
  {
"cell_type": "code",
	   "execution_count": null,
	   "metadata": {
	    "collapsed": true
	   },
	   "outputs": [],
"source": [
"function[a1]=bubble(a,n)\n",
"  i=1;\n",
"  j=1;\n",
"  temp=0;\n",
"  for i=1:n-1\n",
"   for j=1:n-i\n",
"      if(a(j)>a(j+1))\n",
"        temp=a(j);\n",
"        a(j)=a(j+1);\n",
"        a(j+1)=temp;\n",
"      end\n",
"      j=j+1;\n",
"    end\n",
"    i=i+1;\n",
"  end\n",
"  a1=a;\n",
"  disp(a1,'Sorted array is:');\n",
"endfunction\n",
"//Calling Routine:\n",
"a=[23 21 232 121 2324 1222433 1212]\n",
"disp(a,'Given Array');\n",
"a1=bubble(a,7)"
   ]
   }
,
{
		   "cell_type": "markdown",
		   "metadata": {},
		   "source": [
			"## Example 6.2: Quick_Sort.sci"
		   ]
		  },
  {
"cell_type": "code",
	   "execution_count": null,
	   "metadata": {
	    "collapsed": true
	   },
	   "outputs": [],
"source": [
"function[a1]=quick(a);\n",
"  a=gsort(a);//IN BUILT QUICK SORT FUNCTION\n",
"  n=length(a);\n",
"  a1=[];\n",
"  for i=1:n\n",
"    a1=[a1(:,:) a(n+1-i)];\n",
"  end\n",
"  disp(a1,'Sorted array is:');\n",
"endfunction\n",
"//Calling Routine:\n",
"a=[23 21 232 121 2324 1222433 1212]\n",
"disp(a,'Given Array');\n",
"a1=quick(a)"
   ]
   }
,
{
		   "cell_type": "markdown",
		   "metadata": {},
		   "source": [
			"## Example 6.3: Selection_Sort.sci"
		   ]
		  },
  {
"cell_type": "code",
	   "execution_count": null,
	   "metadata": {
	    "collapsed": true
	   },
	   "outputs": [],
"source": [
"function[a1]=selection(a,n)\n",
"  i=n;\n",
"  while(i>=1)\n",
"    large=a(1);\n",
"    indx=1;\n",
"    for j=1:i\n",
"      if(a(j)>large)\n",
"        large=a(j);\n",
"        indx=j;\n",
"      end\n",
"    end\n",
"    a(indx)=a(i);\n",
"    a(i)=large;\n",
"    i=i-1;\n",
"  end\n",
"  a1=a;\n",
"  disp(a1,'Sorted array is:');\n",
"endfunction\n",
"//Calling Routine:\n",
"a=[23 21 232 121 2324 1222433 1212]\n",
"disp(a,'Given Array');\n",
"a1=selection(a,7)"
   ]
   }
,
{
		   "cell_type": "markdown",
		   "metadata": {},
		   "source": [
			"## Example 6.4: Insertion_Sort.sci"
		   ]
		  },
  {
"cell_type": "code",
	   "execution_count": null,
	   "metadata": {
	    "collapsed": true
	   },
	   "outputs": [],
"source": [
"function[a1]=insertion(a,n)\n",
"  for k=1:n\n",
"    y=a(k);\n",
"    i=k;\n",
"    while(i>=1)\n",
"      if(y<a(i))\n",
"        a(i+1)=a(i);\n",
"        a(i)=y;\n",
"      end\n",
"      i=i-1;\n",
"    end\n",
"  end\n",
"  a1=a;\n",
"  disp(a1,'Sorted array is:');\n",
"endfunction\n",
"//Calling Routine:\n",
"a=[23 21 232 121 2324 1222433 1212]\n",
"disp(a,'Given Array');\n",
"a1=insertion(a,7) "
   ]
   }
,
{
		   "cell_type": "markdown",
		   "metadata": {},
		   "source": [
			"## Example 6.5: Shell_sort.sci"
		   ]
		  },
  {
"cell_type": "code",
	   "execution_count": null,
	   "metadata": {
	    "collapsed": true
	   },
	   "outputs": [],
"source": [
"function[a1]=shell(a,n,incr,nic)\n",
"  for i=1:nic\n",
"    span=incr(i);\n",
"    for j=span+1:n\n",
"      y=a(j);\n",
"      k=j-span;\n",
"      while(k>=1&y<a(k))\n",
"          a(k+span)=a(k);\n",
"        k=k-span;\n",
"      end\n",
"      a(k+span)=y;\n",
"    end\n",
"  end\n",
"  a1=a;\n",
"  disp(a1,'Sorted array is:');\n",
"endfunction\n",
"//Calling Routine:\n",
"a=[23 21 232 121 2324 1222433 1212]\n",
"disp(a,'Given Array');\n",
"incr=[5 3 1]//must always end with 1\n",
"a1=shell(a,7,incr,3)"
   ]
   }
,
{
		   "cell_type": "markdown",
		   "metadata": {},
		   "source": [
			"## Example 6.6: Merge_Sort.sci"
		   ]
		  },
  {
"cell_type": "code",
	   "execution_count": null,
	   "metadata": {
	    "collapsed": true
	   },
	   "outputs": [],
"source": [
"function[a1]=mergesort(a,p,r)\n",
"  if(p<r)\n",
"    q=int((p+r)/2);\n",
"    a=mergesort(a,p,q);\n",
"    a=mergesort(a,q+1,r);\n",
"    a=merge(a,p,q,r);\n",
"  else\n",
"    a1=a;\n",
"    return;\n",
"  end\n",
"  a1=a;\n",
"endfunction\n",
"function[a1]=merge(a,p,q,r)\n",
"  n1=q-p+1;\n",
"  n2=r-q;\n",
"  left=zeros(n1+1);\n",
"  right=zeros(n2+1);\n",
"  for i=1:n1\n",
"    left(i)=a(p+i-1);\n",
"  end\n",
"  for i1=1:n2\n",
"      right(i1)=a(q+i1);\n",
"  end\n",
"  left(n1+1)=999999999;\n",
"  right(n2+1)=999999999;\n",
"  i=1;\n",
"  j=1;\n",
"  k=p;\n",
"  for  k=p:r\n",
"    if(left(i)<=right(j))\n",
"      a(k)=left(i);\n",
"      i=i+1;\n",
"    else\n",
"      a(k)=right(j);\n",
"      j=j+1;\n",
"    end\n",
"  end\n",
"  a1=a;\n",
"endfunction\n",
"//Calling Routine:\n",
"a=[23 21 232 121 26324 1222433 14212]\n",
"disp(a,'Given Array');\n",
"a1=mergesort(a,1,7)\n",
"disp(a1,'Sorted array is:');\n",
"a=[232 11212 3443 23221 123424 32334 12212 2443 232]\n",
"disp(a,'Given Array');\n",
"a1=mergesort(a,1,9);\n",
"disp(a1,'Sorted Array');"
   ]
   }
,
{
		   "cell_type": "markdown",
		   "metadata": {},
		   "source": [
			"## Example 6.7: Binary_Tree_Sort.sci"
		   ]
		  },
  {
"cell_type": "code",
	   "execution_count": null,
	   "metadata": {
	    "collapsed": true
	   },
	   "outputs": [],
"source": [
"function[tree1]=binary(tree,x)\n",
"  p=1;\n",
"  while(tree(p)~=-1&tree(p)~=-2)\n",
"    q=p;\n",
"    if(tree(p)>x)\n",
"      p=2*p;\n",
"    else\n",
"      p=2*p+1;\n",
"    end\n",
"  end\n",
"  if(tree(q)>x)\n",
"      tree(2*q)=x;\n",
"  else\n",
"      tree(2*q+1)=x;\n",
"  end\n",
"  tree1=tree;\n",
"endfunction\n",
"funcprot(0);\n",
"function[tree]=maketree(x)\n",
"  tree=zeros(100,1);\n",
"  for i=1:100\n",
"    tree(i)=-1;\n",
"  end\n",
"  tree(1)=x;\n",
"  tree(2)=-2;\n",
"endfunction\n",
"function[]=inorder(tree,p)\n",
"  if(tree(p)==-1|tree(p)==-2)\n",
"    return;\n",
"  else\n",
"    inorder(tree,2*p);\n",
"    printf('%d\t',tree(p));\n",
"    inorder(tree,2*p+1);\n",
"  end\n",
"endfunction\n",
"function[]=binsort(a,n)\n",
"  a1=maketree(a(1))\n",
"  for i=2:n\n",
"    a1=binary(a1,a(i));\n",
"  end\n",
"  disp('Sorted array is:');\n",
"  inorder(a1,1);\n",
"endfunction\n",
"//Calling Routine:\n",
"a=[23 21 232 121 2324 1222433 1212]\n",
"disp(a,'Given Array');\n",
"a1=binsort(a,7)"
   ]
   }
],
"metadata": {
		  "kernelspec": {
		   "display_name": "Scilab",
		   "language": "scilab",
		   "name": "scilab"
		  },
		  "language_info": {
		   "file_extension": ".sce",
		   "help_links": [
			{
			 "text": "MetaKernel Magics",
			 "url": "https://github.com/calysto/metakernel/blob/master/metakernel/magics/README.md"
			}
		   ],
		   "mimetype": "text/x-octave",
		   "name": "scilab",
		   "version": "0.7.1"
		  }
		 },
		 "nbformat": 4,
		 "nbformat_minor": 0
}
