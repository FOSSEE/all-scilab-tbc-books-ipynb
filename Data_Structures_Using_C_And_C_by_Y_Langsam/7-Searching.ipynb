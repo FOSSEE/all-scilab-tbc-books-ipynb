{
"cells": [
 {
		   "cell_type": "markdown",
	   "metadata": {},
	   "source": [
       "# Chapter 7: Searching"
	   ]
	},
{
		   "cell_type": "markdown",
		   "metadata": {},
		   "source": [
			"## Example 7.1: Sequential_Search.sci"
		   ]
		  },
  {
"cell_type": "code",
	   "execution_count": null,
	   "metadata": {
	    "collapsed": true
	   },
	   "outputs": [],
"source": [
"function[]=search(a,n,ele)\n",
"  i=1;\n",
"  j=0;\n",
"  for i=1:n\n",
"    if(a(i)==ele)\n",
"      printf('Found %d AT %d\n',ele,i);\n",
"      j=1;\n",
"    end\n",
"  end\n",
"  if(j==0)\n",
"    disp('%d NOT FOUND',ele);\n",
"  end\n",
"endfunction\n",
"//Calling Routine:\n",
"a=[2 33 22 121 23 233 222]\n",
"disp(a,'Given array');\n",
"search(a,7,23)"
   ]
   }
,
{
		   "cell_type": "markdown",
		   "metadata": {},
		   "source": [
			"## Example 7.2: Sorted_sequential_search.sci"
		   ]
		  },
  {
"cell_type": "code",
	   "execution_count": null,
	   "metadata": {
	    "collapsed": true
	   },
	   "outputs": [],
"source": [
"function[]=sortedsearch(a,n,ele)\n",
"  if(a(1)>ele|a(n)<ele)\n",
"    disp('NOT IN THE LIST');\n",
"  else\n",
"    i=1;\n",
"    j=0;\n",
"    for i=1:n\n",
"      if(a(i)==ele)\n",
"        printf('FOUND %d AT %d',ele,i);\n",
"        j=1;\n",
"      else\n",
"        if(a(i)>ele)\n",
"          break;\n",
"        end\n",
"      end\n",
"    end\n",
"    if(j==0)\n",
"      disp('%d NOT FOUND',ele);\n",
"    end\n",
"  end\n",
"endfunction\n",
"//Calling Routine:\n",
"a=[2 22 23 33 121 222 233]//a should be  sorted\n",
"disp(a,'Given array');\n",
"search(a,7,23)"
   ]
   }
,
{
		   "cell_type": "markdown",
		   "metadata": {},
		   "source": [
			"## Example 7.3: Binary_Search.sci"
		   ]
		  },
  {
"cell_type": "code",
	   "execution_count": null,
	   "metadata": {
	    "collapsed": true
	   },
	   "outputs": [],
"source": [
"function[]=binsearch(a,n,i)\n",
"  l=1;\n",
"  h=n;\n",
"  while(l<=h)\n",
"    mid=int((l+h)/2);\n",
"    if(a(mid)==i)\n",
"      printf('FOUND %d AT %d',i,mid);\n",
"      break;\n",
"    else\n",
"      if(a(mid)>i)\n",
"        h=mid-1;\n",
"      else\n",
"        l=mid+1;\n",
"      end\n",
"    end\n",
"  end\n",
"endfunction\n",
"//Calling Routine:\n",
"a=[2 22 23 33 121 222 233]//a should be  sorted\n",
"disp(a,'Given array');\n",
"search(a,7,23)"
   ]
   }
],
"metadata": {
		  "kernelspec": {
		   "display_name": "Scilab",
		   "language": "scilab",
		   "name": "scilab"
		  },
		  "language_info": {
		   "file_extension": ".sce",
		   "help_links": [
			{
			 "text": "MetaKernel Magics",
			 "url": "https://github.com/calysto/metakernel/blob/master/metakernel/magics/README.md"
			}
		   ],
		   "mimetype": "text/x-octave",
		   "name": "scilab",
		   "version": "0.7.1"
		  }
		 },
		 "nbformat": 4,
		 "nbformat_minor": 0
}
