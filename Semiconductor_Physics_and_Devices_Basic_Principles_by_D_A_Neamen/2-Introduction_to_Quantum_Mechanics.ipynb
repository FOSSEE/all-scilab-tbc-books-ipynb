{
"cells": [
 {
		   "cell_type": "markdown",
	   "metadata": {},
	   "source": [
       "# Chapter 2: Introduction to Quantum Mechanics"
	   ]
	},
{
		   "cell_type": "markdown",
		   "metadata": {},
		   "source": [
			"## Example 2.1: Calculate_photon_energy.sce"
		   ]
		  },
  {
"cell_type": "code",
	   "execution_count": null,
	   "metadata": {
	    "collapsed": true
	   },
	   "outputs": [],
"source": [
"clc\n",
"\n",
"lambda=0.708*10^-8// cm\n",
"h=6.625*10^-34// J*s Plank's constant\n",
"c=3*10^10// cm/s\n",
"e=1.6*10^-19// eV\n",
"E=h*c/lambda// E=hv=hc/lambda\n",
"disp(E,'the value of E in J is')\n",
"E=E/e\n",
"disp(E,'the value of E in eV is')"
   ]
   }
,
{
		   "cell_type": "markdown",
		   "metadata": {},
		   "source": [
			"## Example 2.2: Calculate_de_broglie_wavelength.sce"
		   ]
		  },
  {
"cell_type": "code",
	   "execution_count": null,
	   "metadata": {
	    "collapsed": true
	   },
	   "outputs": [],
"source": [
"clc\n",
"\n",
"m=9.11*10^-31// kg*m/s\n",
"v=10^5//m/s\n",
"h=6.625*10^-34//js\n",
"\n",
"p=m*v\n",
"disp(p,'momentum is')\n",
"lambda=h/p\n",
"disp(lambda,'de broglie wavelength in meter is')"
   ]
   }
,
{
		   "cell_type": "markdown",
		   "metadata": {},
		   "source": [
			"## Example 2.3: Calculate_first_three_energy_levels.sce"
		   ]
		  },
  {
"cell_type": "code",
	   "execution_count": null,
	   "metadata": {
	    "collapsed": true
	   },
	   "outputs": [],
"source": [
"clc\n",
"\n",
"a=5*10^-8// a=5A = 5*10^-8cm\n",
"h=1.054*10^-34// J*s Plank's constant \n",
"m=9.11*10^-31// kg*m/s\n",
"e=1.6*10^-19// eV\n",
"\n",
"n=1\n",
"En=(h^2*n^2*%pi^2)/(2*m*a^2)\n",
"disp(En,'the value of En in J')\n",
"En=(En/e)\n",
"disp(En,'the value of En in eV')\n",
"\n",
"n=2\n",
"E2=(h^2*n^2*%pi^2)/(2*m*a^2)\n",
"disp(En,'the value of E2 in J')\n",
"E2=(E2/e)\n",
"disp(E2,'the value of E2 in eV')\n",
"\n",
"n=3\n",
"E3=(h^2*n^2*%pi^2)/(2*m*a^2)\n",
"disp(E3,'the value of E3 in J')\n",
"E3=(E3/e)\n",
"disp(E3,'the value of E3 in eV')"
   ]
   }
,
{
		   "cell_type": "markdown",
		   "metadata": {},
		   "source": [
			"## Example 2.4: Calculate_penetration_depth.sce"
		   ]
		  },
  {
"cell_type": "code",
	   "execution_count": null,
	   "metadata": {
	    "collapsed": true
	   },
	   "outputs": [],
"source": [
"clc\n",
"\n",
"v=10^5// m/s\n",
"m=9.11*10^-31// kg*m/s\n",
"e=1.6*10^-19// eV\n",
"h=1.054*10^-34\n",
"E=0.5*m*v*v\n",
"disp(E,'the value of E in J is eV')\n",
"E1=E/e // value of E in eV\n",
"disp(E1,'eV=')\n",
"d=sqrt((h*h)/(2*m*E))\n",
"disp(d,'the value of d in m is ')"
   ]
   }
,
{
		   "cell_type": "markdown",
		   "metadata": {},
		   "source": [
			"## Example 2.5: Calculate_probability.sce"
		   ]
		  },
  {
"cell_type": "code",
	   "execution_count": null,
	   "metadata": {
	    "collapsed": true
	   },
	   "outputs": [],
"source": [
"clc\n",
"\n",
"E=2// eV\n",
"V0=20// eV\n",
"a=3*10^-10// a=3A = 3*10^-10 m\n",
"m=9.11*10^-31// kg*m/s\n",
"e=1.6*10^-19// eV\n",
"h=1.054*10^-34// J*s\n",
"K2=((2*m*(V0-E)*e)/(h*h))^0.5\n",
"disp(K2,'the value of K2 in m^-1 is')\n",
"T=16*(E/V0)*(1-E/V0)*exp(-2*K2*a)\n",
"disp(T,'the value of T is')"
   ]
   }
],
"metadata": {
		  "kernelspec": {
		   "display_name": "Scilab",
		   "language": "scilab",
		   "name": "scilab"
		  },
		  "language_info": {
		   "file_extension": ".sce",
		   "help_links": [
			{
			 "text": "MetaKernel Magics",
			 "url": "https://github.com/calysto/metakernel/blob/master/metakernel/magics/README.md"
			}
		   ],
		   "mimetype": "text/x-octave",
		   "name": "scilab",
		   "version": "0.7.1"
		  }
		 },
		 "nbformat": 4,
		 "nbformat_minor": 0
}
