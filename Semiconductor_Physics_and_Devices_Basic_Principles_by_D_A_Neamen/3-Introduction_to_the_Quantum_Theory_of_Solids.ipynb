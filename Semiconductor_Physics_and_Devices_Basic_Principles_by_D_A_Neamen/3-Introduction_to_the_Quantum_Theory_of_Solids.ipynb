{
"cells": [
 {
		   "cell_type": "markdown",
	   "metadata": {},
	   "source": [
       "# Chapter 3: Introduction to the Quantum Theory of Solids"
	   ]
	},
{
		   "cell_type": "markdown",
		   "metadata": {},
		   "source": [
			"## Example 3.1: Calculate_change_in_KE.sce"
		   ]
		  },
  {
"cell_type": "code",
	   "execution_count": null,
	   "metadata": {
	    "collapsed": true
	   },
	   "outputs": [],
"source": [
"clc\n",
"\n",
"v1=10^5 //m per sec\n",
"deltav=0.01 //m per sec\n",
"m=9.11*10^-31// kg*m/s\n",
"e=1.6*10**-9 //Coulombs\n",
"\n",
"//deltaE=0.5*m*(v2**2-v1**2)\n",
"//deltav=v2-v1.............deltav<<v1\n",
"\n",
"deltaE=m*v1*deltav\n",
"disp(deltaE,'in J is')\n",
"deltaE=deltaE/e\n",
"disp(deltaE,'in eV is')"
   ]
   }
,
{
		   "cell_type": "markdown",
		   "metadata": {},
		   "source": [
			"## Example 3.2: Determine_lowest_energy_bandwidth.sce"
		   ]
		  },
  {
"cell_type": "code",
	   "execution_count": null,
	   "metadata": {
	    "collapsed": true
	   },
	   "outputs": [],
"source": [
"clc\n",
"\n",
"P=10\n",
"a=5*10^-10 // a=5 Armstrong\n",
"h=1.054*10^-34\n",
"m=9.11*10^-31 //kg\n",
"\n",
"//alpha*a=%pi\n",
"//sqrt((2*m*E2)/h^2)*a=%pi\n",
"E2=(%pi^2*h^2)/(2*m*a^2)\n",
"disp(E2,'E2= %f J\n')\n",
"E2=E2*6.2415*10^18\n",
"disp(E2,'E2= %f eV')\n",
"\n",
"E1=1.053 //eV\n",
"AE=E2-E1\n",
"disp(AE,'AE= %f eV')\n",
""
   ]
   }
,
{
		   "cell_type": "markdown",
		   "metadata": {},
		   "source": [
			"## Example 3.3: Calculate_density_of_states.sce"
		   ]
		  },
  {
"cell_type": "code",
	   "execution_count": null,
	   "metadata": {
	    "collapsed": true
	   },
	   "outputs": [],
"source": [
"clc\n",
"\n",
"m=9.11*10^-31 //kg\n",
"E=1.6*10^-19 //C\n",
"h=6.625*10^-34 //J sec\n",
"N=(4*%pi*(2*m)^(3/2)*2*E^(3/2))/(h^3*3)\n",
"disp(N,'E2= %f per meter^3\n')"
   ]
   }
,
{
		   "cell_type": "markdown",
		   "metadata": {},
		   "source": [
			"## Example 3.4: Determine_possible_no_of_ways.sce"
		   ]
		  },
  {
"cell_type": "code",
	   "execution_count": null,
	   "metadata": {
	    "collapsed": true
	   },
	   "outputs": [],
"source": [
"clc\n",
"\n",
"y=10\n",
"Ni=10\n",
"gi=10\n",
"//(gi-Ni)!=1\n",
"z=(factorial(gi)/factorial(Ni)*factorial(gi-Ni))\n",
"printf('z=%f\n',z)"
   ]
   }
,
{
		   "cell_type": "markdown",
		   "metadata": {},
		   "source": [
			"## Example 3.5: Determine_possible_no_of_ways.sce"
		   ]
		  },
  {
"cell_type": "code",
	   "execution_count": null,
	   "metadata": {
	    "collapsed": true
	   },
	   "outputs": [],
"source": [
"clc\n",
"gi=10\n",
"Ni=9\n",
"x=gi-Ni\n",
"\n",
"//factorial(gi-Ni)=1\n",
"z=(factorial(gi)/factorial(Ni)*factorial(gi-Ni))\n",
"printf('z=%f\n',z)"
   ]
   }
,
{
		   "cell_type": "markdown",
		   "metadata": {},
		   "source": [
			"## Example 3.6: Calculate_probability.sce"
		   ]
		  },
  {
"cell_type": "code",
	   "execution_count": null,
	   "metadata": {
	    "collapsed": true
	   },
	   "outputs": [],
"source": [
"clc\n",
"\n",
"T=300 //K\n",
"//a=E-Ef\n",
"//a=3*k*T\n",
"//fF(E)=1/(1+exp(E-Ef/kT))\n",
"z=exp(3)\n",
"y=1/(1+z)                    //y=fF(E)\n",
"printf('fF(E)=%f\n',y)"
   ]
   }
,
{
		   "cell_type": "markdown",
		   "metadata": {},
		   "source": [
			"## Example 3.7: Determine_temp.sce"
		   ]
		  },
  {
"cell_type": "code",
	   "execution_count": null,
	   "metadata": {
	    "collapsed": true
	   },
	   "outputs": [],
"source": [
"clc\n",
"\n",
"Ef=6.25 //eV\n",
"E=5.95  //eV\n",
"p=0.01\n",
"k= 8.617 *10^-5 //eV K^-1 \n",
"\n",
"//p=1-fF(E)\n",
"//fF(E)=1/(1+exp(E-Ef/kT))\n",
"//p=1-1/(1+exp(E-Ef/kT))               equation 1\n",
"x=E-Ef\n",
"\n",
"y=(1/(1-p))-1     // solving the above equtaion 1\n",
"\n",
"T=x/(k*log(y))\n",
"printf('T=%f K\n',T)"
   ]
   }
],
"metadata": {
		  "kernelspec": {
		   "display_name": "Scilab",
		   "language": "scilab",
		   "name": "scilab"
		  },
		  "language_info": {
		   "file_extension": ".sce",
		   "help_links": [
			{
			 "text": "MetaKernel Magics",
			 "url": "https://github.com/calysto/metakernel/blob/master/metakernel/magics/README.md"
			}
		   ],
		   "mimetype": "text/x-octave",
		   "name": "scilab",
		   "version": "0.7.1"
		  }
		 },
		 "nbformat": 4,
		 "nbformat_minor": 0
}
