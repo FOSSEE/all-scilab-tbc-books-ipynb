{
"cells": [
 {
		   "cell_type": "markdown",
	   "metadata": {},
	   "source": [
       "# Chapter 10: The Bipolar Transistor"
	   ]
	},
{
		   "cell_type": "markdown",
		   "metadata": {},
		   "source": [
			"## Example 10.10: calculate_the_collector_zmitter_saturation_voltage.sce"
		   ]
		  },
  {
"cell_type": "code",
	   "execution_count": null,
	   "metadata": {
	    "collapsed": true
	   },
	   "outputs": [],
"source": [
"clc\n",
"\n",
"T=300 //K\n",
"k=8.617*10**-5//eV/K\n",
"e=1.6*10**-19 //C\n",
"alphaF=0.99\n",
"alphaR=0.20\n",
"Ic=1//mA\n",
"IB=0.050//mA\n",
"\n",
"Vcesat=k*T*log(((Ic*(1-alphaR)+IB)*alphaF)/((alphaF*IB-(1-alphaF)*Ic)*alphaR))\n",
"disp(Vcesat,'VCEsat in V is=')"
   ]
   }
,
{
		   "cell_type": "markdown",
		   "metadata": {},
		   "source": [
			"## Example 10.12: calculate_the_emitter_to_collector_transit_time.sce"
		   ]
		  },
  {
"cell_type": "code",
	   "execution_count": null,
	   "metadata": {
	    "collapsed": true
	   },
	   "outputs": [],
"source": [
"clc\n",
"\n",
"T=300 //K\n",
"k=8.617*10**-5//eV/K\n",
"e=1.6*10**-19 //C\n",
"IE=1*10^-3//A\n",
"Cje=1*10^-12//F\n",
"xB=0.5*10^-4//cm\n",
"Dn=25// cm2/s\n",
"xdc=2.4*10^-4//cm\n",
"vs=10^7\n",
"rc=20//ohm\n",
"Cu=0.1*10^-12//F\n",
"Cs=0.1*10^-12//F\n",
"beta=100\n",
"\n",
"re1=(k*T)/IE\n",
"disp(re1,'re1 in ohm is=')\n",
"taue=re1*Cje\n",
"disp(taue,'taue in sec is=')\n",
"taub=xB^2/(2*Dn)\n",
"disp(taub,'taub in sec is=')\n",
"taub1=xdc/vs\n",
"disp(taub1,'taub in sec is=')\n",
"tauc=rc*(Cu+Cs)\n",
"disp(tauc,'tauc in sec is=')\n",
"tauec=taue+taub+taub1+tauc\n",
"disp(tauec,'tauec in sec is=')\n",
"ftau=1/(2*%pi*tauec)\n",
"disp(ftau,'ftau in GHz is=')\n",
"fbeta=ftau/beta\n",
"disp(fbeta,'fbeta in Hz is=')\n",
""
   ]
   }
,
{
		   "cell_type": "markdown",
		   "metadata": {},
		   "source": [
			"## Example 10.1: design_the_ratio_of_emitter_doping.sce"
		   ]
		  },
  {
"cell_type": "code",
	   "execution_count": null,
	   "metadata": {
	    "collapsed": true
	   },
	   "outputs": [],
"source": [
"clc\n",
"\n",
"T=300 //K\n",
"k=8.617*10**-5//eV/K\n",
"e=1.6*10**-19 //C\n",
"y=0.9967\n",
"//NB/NC=z\n",
"z=(1/y)-1\n",
"disp(z,'NB/NE value is=')"
   ]
   }
,
{
		   "cell_type": "markdown",
		   "metadata": {},
		   "source": [
			"## Example 10.2: design_the_base_width.sce"
		   ]
		  },
  {
"cell_type": "code",
	   "execution_count": null,
	   "metadata": {
	    "collapsed": true
	   },
	   "outputs": [],
"source": [
"clc\n",
"\n",
"T=300 //K\n",
"k=8.617*10**-5//eV/K\n",
"e=1.6*10**-19 //C\n",
"DB=10//cm^2/s\n",
"tauB0=10^-7//sec\n",
"alphatau=0.9967\n",
"//(xB/LB)=z\n",
"z=acosh(1/alphatau)\n",
"disp(z,'xB/LB is=')\n",
"\n",
"LB=sqrt(DB*tauB0)\n",
"disp(LB,'LB in cm is=')\n",
"xB=z*10^-4\n",
"disp(xB,'xB in meter is=')"
   ]
   }
,
{
		   "cell_type": "markdown",
		   "metadata": {},
		   "source": [
			"## Example 10.3: calculate_the_forujard_biased.sce"
		   ]
		  },
  {
"cell_type": "code",
	   "execution_count": null,
	   "metadata": {
	    "collapsed": true
	   },
	   "outputs": [],
"source": [
"clc\n",
"\n",
"T=300 //K\n",
"k=8.617*10**-5//eV/K\n",
"e=1.6*10**-19 //C\n",
"Js0=10^-11//A/cm^2\n",
"Jr0=10^-8//A/cm^2\n",
"delta=0.9967\n",
"VBE=2*k*T*log(delta*10^3/(1-delta))\n",
"disp(VBE,'VBE in V is=')\n",
""
   ]
   }
,
{
		   "cell_type": "markdown",
		   "metadata": {},
		   "source": [
			"## Example 10.4: calculate_the_common_emitter_current_gain.sce"
		   ]
		  },
  {
"cell_type": "code",
	   "execution_count": null,
	   "metadata": {
	    "collapsed": true
	   },
	   "outputs": [],
"source": [
"clc\n",
"\n",
"T=300 //K\n",
"k=8.617*10**-5//eV/K\n",
"e=1.6*10**-19 //C\n",
"DE=10//cm^2/s\n",
"DB=25//cm^2/s\n",
"xB=0.70*10^-6//m\n",
"xE=0.50*10^-6//m\n",
"NE=1*10^18//cm^-3\n",
"NB=1*10^16//cm^-3\n",
"VBE=0.65//V\n",
"tauB0=5*10^-7//s\n",
"tauE0=1*10^-7//s\n",
"Jr0=5*10^-8//A/cm62\n",
"pE0=2.25*10^2//cm^-3\n",
"nB0=2.25*10^4//cm^-3\n",
"LE=10^-3//cm\n",
"LB=3.54*10^-3//cm\n",
"\n",
"gamma1=1/(1+(pE0*DE*LB*tanh(0.0198))/(nB0*DB*LE*tanh(0.050)))\n",
"disp(gamma1,'gamma1 is=')\n",
"alphatau=1/cosh(xB/LB)\n",
"disp(alphatau,'alphatau is=')\n",
"Js0=(e*DB*nB0)/(LB*tanh(xB/LB))\n",
"disp(Js0,'Js0 is A/cm^2')\n",
"delta=1/(1+(Jr0/Js0)*exp(-VBE/(2*0.0259)))\n",
"disp(delta,'delta is=')\n",
"a=gamma1*alphatau*delta\n",
"disp(a,'a is=')\n",
"beta1=a/(1-a)\n",
"disp(beta1,'beta1 is=')//          ans varies cause of long no.of digits"
   ]
   }
,
{
		   "cell_type": "markdown",
		   "metadata": {},
		   "source": [
			"## Example 10.5: calculate_the_change_in_the_neutral_base_width.sce"
		   ]
		  },
  {
"cell_type": "code",
	   "execution_count": null,
	   "metadata": {
	    "collapsed": true
	   },
	   "outputs": [],
"source": [
"clc\n",
"\n",
"T=300 //K\n",
"k=8.617*10**-5//eV/K\n",
"e=1.6*10**-19 //C\n",
"NB=5*10^16//cm^-3\n",
"NC=2*10^15//cm^-3\n",
"epsilons=11.7\n",
"eps=8.85*10^-14 //V\n",
"ni=1.5*10**10 //cm^-3\n",
"x=0.70*10^-6\n",
"a=9.96*10^-12///solving the equation\n",
"Vbi=((k*T))*log((NB*NC)/ni^2)\n",
"disp(Vbi,'Vbi in V is=')\n",
"\n",
"//for \n",
"VCB=2 //V\n",
"xdB1=sqrt(a*(Vbi+VCB))\n",
"disp(xdB1,'xdB in meter is=')\n",
"xB1=x-xdB1\n",
"disp(xB1,'xB in meter is=')//        textbook ans are wrong\n",
"\n",
"//for \n",
"VCB=10 //V\n",
"xdB2=sqrt(a*(Vbi+VCB))\n",
"disp(xdB2,'xdB in meter is=')\n",
"xB2=x-xdB2\n",
"disp(xB2,'xB in meter is=')//        textbook ans are wrong\n",
""
   ]
   }
,
{
		   "cell_type": "markdown",
		   "metadata": {},
		   "source": [
			"## Example 10.7: determine_the_increase_in_pE0.sce"
		   ]
		  },
  {
"cell_type": "code",
	   "execution_count": null,
	   "metadata": {
	    "collapsed": true
	   },
	   "outputs": [],
"source": [
"clc\n",
"\n",
"T=300// K\n",
"k=1.3806*10^-23// JK^-1\n",
"e=1.6*10^-19// eV\n",
"ni=1.5*10^10// cm^-3\n",
"NE=10^18// cm^-3\n",
"pE01=(ni*ni)/NE// neglecting bandgap\n",
"disp(pE01,'pE01 the value of pE01 in cm^-3 is')\n",
"NE=10^19// cm^-3\n",
"pE03=(ni*ni)/NE// neglecting bandgap\n",
"disp(pE03,'pE03 the value of pE03 in cm^-3 is')\n",
"pE02=((ni*ni)/NE)*exp(0.030/(k*(T/e)))// including bandgap\n",
"disp(pE02,'pE02 the value of pE02 in cm^-3 is')\n",
"pE04=((ni*ni)/NE)*exp(0.1/(k*(T/e)))// including bandgap\n",
"disp(pE04,'pE04 the value of pE04 in cm^-3 is')"
   ]
   }
,
{
		   "cell_type": "markdown",
		   "metadata": {},
		   "source": [
			"## Example 10.8: desipn_the_collector_doping.sce"
		   ]
		  },
  {
"cell_type": "code",
	   "execution_count": null,
	   "metadata": {
	    "collapsed": true
	   },
	   "outputs": [],
"source": [
"clc\n",
"\n",
"T=300// K\n",
"k=1.3806*10^-23// JK^-1\n",
"e=1.6*10^-19// eV\n",
"epsilon=8.85*10^-14 //V\n",
"eps=11.7\n",
"NB=10^16//cm^-3\n",
"Vpt=25//V\n",
"WB=0.5*10^-4\n",
"\n",
"\n",
"//Vpt=(e*WB^2*NB*(NC+NB))/(2*epsilon*eps*NC)\n",
"a=(Vpt*2*epsilon*eps)/(e*WB^2*NB)\n",
"disp(a)\n",
"NC=NB/(a-1)\n",
"disp(NC,'NC in cm^-3 is=')"
   ]
   }
,
{
		   "cell_type": "markdown",
		   "metadata": {},
		   "source": [
			"## Example 10.9: design_a_bipolar_transistor.sce"
		   ]
		  },
  {
"cell_type": "code",
	   "execution_count": null,
	   "metadata": {
	    "collapsed": true
	   },
	   "outputs": [],
"source": [
"clc\n",
"\n",
"T=300 //K\n",
"k=8.617*10**-5//eV/K\n",
"e=1.6*10**-19 //C\n",
"NB=10^17//cm^-3\n",
"beta=100\n",
"BVCEO=15//V\n",
"\n",
"BVCBO=(beta)^(1/3)*BVCEO\n",
"disp(BVCBO,'in V is=')"
   ]
   }
],
"metadata": {
		  "kernelspec": {
		   "display_name": "Scilab",
		   "language": "scilab",
		   "name": "scilab"
		  },
		  "language_info": {
		   "file_extension": ".sce",
		   "help_links": [
			{
			 "text": "MetaKernel Magics",
			 "url": "https://github.com/calysto/metakernel/blob/master/metakernel/magics/README.md"
			}
		   ],
		   "mimetype": "text/x-octave",
		   "name": "scilab",
		   "version": "0.7.1"
		  }
		 },
		 "nbformat": 4,
		 "nbformat_minor": 0
}
