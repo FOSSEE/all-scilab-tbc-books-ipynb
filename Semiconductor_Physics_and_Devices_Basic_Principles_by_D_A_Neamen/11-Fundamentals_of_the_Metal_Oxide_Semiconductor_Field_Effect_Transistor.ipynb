{
"cells": [
 {
		   "cell_type": "markdown",
	   "metadata": {},
	   "source": [
       "# Chapter 11: Fundamentals of the Metal Oxide Semiconductor Field Effect Transistor"
	   ]
	},
{
		   "cell_type": "markdown",
		   "metadata": {},
		   "source": [
			"## Example 11.10: calculate_the_change_in_the_threshold_voltage.sce"
		   ]
		  },
  {
"cell_type": "code",
	   "execution_count": null,
	   "metadata": {
	    "collapsed": true
	   },
	   "outputs": [],
"source": [
"clc\n",
"\n",
"T=300// K\n",
"Na=3*10^16// cm^-3\n",
"tox=500*10^-8// tox=500A =500*10^-8 cm\n",
"k=1.3806*10^-23// JK^-1\n",
"VSB=1// V\n",
"epsilon0=8.85*10^-14// F/m\n",
"epsilons=11.7\n",
"epsilonox=3.9\n",
"ni=1.5*10^10// cm^-3\n",
"e=1.6*10^-19// eV\n",
"phifp=(((k*T)/e)*log(Na/ni))// phifp=V1*log(Na/ni)=((k*T)/e)*log(Na/ni)\n",
"disp(phifp,'the value of phifp in V is')\n",
"Cox=(epsilon0*epsilonox)/tox\n",
"disp(Cox,'the value of Cox in F/cm^2 is')\n",
"deltaVT=(sqrt(2*e*(epsilon0*epsilons)*Na))/Cox*((sqrt(2*phifp+VSB))-(sqrt(2*phifp)))\n",
"disp(deltaVT,'the value of deltaVT in V is')"
   ]
   }
,
{
		   "cell_type": "markdown",
		   "metadata": {},
		   "source": [
			"## Example 11.11: calculate_the_cutoff_frequency.sce"
		   ]
		  },
  {
"cell_type": "code",
	   "execution_count": null,
	   "metadata": {
	    "collapsed": true
	   },
	   "outputs": [],
"source": [
"clc\n",
"\n",
"micron=400// cm^2/V-s\n",
"L=4*10^-6// m\n",
"VT=1// V\n",
"VGS=3// V\n",
"ftau=(micron*(VGS-VT))/(2*%pi*L*L)\n",
"disp(ftau,'the value of fr is')"
   ]
   }
,
{
		   "cell_type": "markdown",
		   "metadata": {},
		   "source": [
			"## Example 11.1: calculate_the_maximum_space_charge_width.sce"
		   ]
		  },
  {
"cell_type": "code",
	   "execution_count": null,
	   "metadata": {
	    "collapsed": true
	   },
	   "outputs": [],
"source": [
"clc\n",
"\n",
"T=300//K\n",
"Na=10^16// cm^-3\n",
"ni=1.5*10^10 // cm^-3\n",
"epsilon0=8.85*10^-14// F/m\n",
"epsilons=11.7\n",
"e=1.6*10^-19// eV\n",
"Vt=0.0259 // V\n",
"phifp=Vt*log(Na/ni)\n",
"disp(phifp,'the value of phisp in V is')\n",
"xdT=(4*(epsilons*epsilon0)*phifp/(e*Na))^0.5\n",
"disp(xdT,'the value of xdT in meter is')"
   ]
   }
,
{
		   "cell_type": "markdown",
		   "metadata": {},
		   "source": [
			"## Example 11.2: calculate_the_metal_semiconductor_work_function_difference.sce"
		   ]
		  },
  {
"cell_type": "code",
	   "execution_count": null,
	   "metadata": {
	    "collapsed": true
	   },
	   "outputs": [],
"source": [
"clc\n",
"\n",
"phim=3.20// v\n",
"x=3.25// v\n",
"Eg=1.11//eV\n",
"Na=10^14// cm^-3\n",
"k=1.3806*10^-23// JK^-1\n",
"T=300// K\n",
"ni=1.5*10^10// cm^-3\n",
"e=1.6*10^-19// eV\n",
"phifp=(((k*T)/e)*log(Na/ni))\n",
"disp(phifp,'the value of phifp in V is')\n",
"phims=phim-(x+(Eg/2)+phifp)\n",
"disp(phims,'work function difference in V is ')"
   ]
   }
,
{
		   "cell_type": "markdown",
		   "metadata": {},
		   "source": [
			"## Example 11.3: calculate_the_flat_band_voltage.sce"
		   ]
		  },
  {
"cell_type": "code",
	   "execution_count": null,
	   "metadata": {
	    "collapsed": true
	   },
	   "outputs": [],
"source": [
"clc\n",
"\n",
"Nd=10^16// cm^-3\n",
"tox=500*10^-8// a=500A =500*10^-8 cm\n",
"Qss=10^11// electronic charge per cm\n",
"phims=-1.1// V\n",
"e=1.6*10^-19// eV\n",
"epsilonox=3.9\n",
"epsilon0=8.85*10^-14// F/m\n",
"C=((epsilonox*epsilon0)/tox)\n",
"disp(C,'the value of C in F/cm^2 is')\n",
"Qss=10^11*e\n",
"disp(Qss,'the value of Qss in C/cm^2 is')\n",
"VFB=phims-(Qss/C)\n",
"disp(VFB,'the value of VFB in V is' )"
   ]
   }
,
{
		   "cell_type": "markdown",
		   "metadata": {},
		   "source": [
			"## Example 11.4: design_the_oxide_thickness.sce"
		   ]
		  },
  {
"cell_type": "code",
	   "execution_count": null,
	   "metadata": {
	    "collapsed": true
	   },
	   "outputs": [],
"source": [
"clc\n",
"\n",
"T=300// K\n",
"k=1.3806*10^-23// JK^-1\n",
"Na=3*10^16// cm^-3\n",
"Qss=10^11// cm^-2\n",
"VTN=0.65// V\n",
"phims=-1.13// V\n",
"epsilon0=8.85*10^-14// F/m\n",
"epsilons=11.7\n",
"epsilonox=3.9\n",
"ni=1.5*10^10// cm^-3\n",
"e=1.6*10^-19// eV\n",
"phifp=(((k*T)/e)*log(Na/ni))\n",
"disp(phifp,'the value of phifp in V is')\n",
"xdT=(4*(epsilons*epsilon0)*phifp/(e*Na))^0.5\n",
"disp(xdT,'the value of xdT in  meter is')\n",
"QSD=e*Na*xdT// [QSD(max)]=e*Na*xdT\n",
"disp(QSD,'the value of QSD in C.cm^2 is')\n",
"tox=((VTN-phims-2*phifp)*(epsilonox*epsilon0))/(QSD-(Qss*e))\n",
"disp(tox,'in meter is')"
   ]
   }
,
{
		   "cell_type": "markdown",
		   "metadata": {},
		   "source": [
			"## Example 11.5: calculate_the_threshold_voltage.sce"
		   ]
		  },
  {
"cell_type": "code",
	   "execution_count": null,
	   "metadata": {
	    "collapsed": true
	   },
	   "outputs": [],
"source": [
"clc\n",
"\n",
"T=300// K\n",
"k=1.3806*10^-23// JK^-1\n",
"Na=10^14// cm^-3\n",
"Qss=10^10// cm^-2\n",
"tox=500*10^-8// a=500A =500*10^-8 cm\n",
"phims=-0.83// V\n",
"epsilon0=8.85*10^-14// F/m\n",
"epsilons=11.7\n",
"epsilonox=3.9\n",
"ni=1.5*10^10// cm^-3\n",
"e=1.6*10^-19// eV\n",
"phifp=(((k*T)/e)*log(Na/ni))\n",
"disp(phifp,'the value of phifp in V is')\n",
"xdT=(4*(epsilons*epsilon0)*phifp/(e*Na))^0.5\n",
"disp(xdT,'the value of xdT in microm is')\n",
"QSD=e*Na*xdT// [QSD(max)]=e*Na*xdT\n",
"disp(QSD,'the value of QSD in C/cm^2')\n",
"VTN=(QSD-(Qss*e))*(tox/(epsilonox*epsilon0))+phims+2*phifp// VTN=(QSD(max)-Qss)*(tox/epsilonox)+phims+2*phifp\n",
"disp(VTN,'the value of VTN in V is')"
   ]
   }
,
{
		   "cell_type": "markdown",
		   "metadata": {},
		   "source": [
			"## Example 11.6: design_the_semiconductor_dnping_concentration.sce"
		   ]
		  },
  {
"cell_type": "code",
	   "execution_count": null,
	   "metadata": {
	    "collapsed": true
	   },
	   "outputs": [],
"source": [
"clc\n",
"\n",
"T=300// K\n",
"k=1.3806*10^-23// JK^-1\n",
"Qss=10^10// cm^-2\n",
"tox=650*10^-8// tox=650A =650*10^-8 cm\n",
"epsilon0=8.85*10^-14// F/m\n",
"epsilons=11.7\n",
"epsilonox=3.9\n",
"ni=1.5*10^10// cm^-3\n",
"e=1.6*10^-19// eV\n",
"Nd=2.5*10^14// cm^-3\n",
"phifn=(((k*T)/e)*log(Nd/ni))//phifn=V1*log(Nd/ni)=((k*T)/e)*log(Nd/ni)\n",
"disp(phifn,'the value of phifn in V is')\n",
"xdT=(4*(epsilons*epsilon0)*phifn/(e*Nd))^0.5\n",
"disp(xdT,'the value of xdT in meter is')\n",
"QSD=e*Nd*xdT// [QSD(max)]=e*Na*xdT\n",
"disp(QSD,'the value of QSD in C/cm^2')\n",
"phims=-0.35// V\n",
"VTP=(-QSD-(Qss*e))*(tox/(epsilonox*epsilon0))+phims-(2*phifn)// VTP=(-QSD(max)-Qss)*(tox/epsilonox)+phims+2*phifn\n",
"disp(VTP,'the value of VTP in V is')\n",
""
   ]
   }
,
{
		   "cell_type": "markdown",
		   "metadata": {},
		   "source": [
			"## Example 11.7: calculate_Cox.sce"
		   ]
		  },
  {
"cell_type": "code",
	   "execution_count": null,
	   "metadata": {
	    "collapsed": true
	   },
	   "outputs": [],
"source": [
"clc\n",
"\n",
"T=300 //K\n",
"k=8.617*10**-5//eV/K\n",
"e=1.6*10**-19 //C\n",
"espox=3.9\n",
"esp0=8.85*10^-14 \n",
"esp=11.7\n",
"tox=550*10^-8//550 Armstrong\n",
"Na=10^16//cm^-3\n",
"ni=1.5*10^10 //cm^-3\n",
"\n",
"Cox=(espox*esp0)/tox\n",
"disp(Cox,'oxide capacitance in F/cm^2 is= ')\n",
"\n",
"phi=(k*T)*log(Na/ni)\n",
"disp(phi,'mini capacitance in V is= ')\n",
"\n",
"xdt=sqrt((4*esp*esp0*phi)/(e*Na))\n",
"disp(xdt,'in cm^-4 is= ')\n",
"\n",
"Cmin=(espox*esp0)/(tox+(espox/esp)*xdt)\n",
"disp(Cmin,'in F/cm^2 is =')\n",
"\n",
"a=Cmin/Cox\n",
"disp(a,'ratio of Cmin to Cox is= ')\n",
"\n",
"Cfb=(espox*esp0)/(tox+(espox/esp)*sqrt((k*T*esp*esp0)/(e*Na)))\n",
"disp(Cfb,'Cfb in F/cm^2 is=')\n",
"\n",
"b=Cfb/Cox\n",
"disp(b,'ratio of Cfb to Cox is= ')\n",
"\n",
"\n",
"\n",
""
   ]
   }
,
{
		   "cell_type": "markdown",
		   "metadata": {},
		   "source": [
			"## Example 11.8: design_the_width.sce"
		   ]
		  },
  {
"cell_type": "code",
	   "execution_count": null,
	   "metadata": {
	    "collapsed": true
	   },
	   "outputs": [],
"source": [
"clc\n",
"\n",
"T=300 //K\n",
"k=8.617*10**-5//eV/K\n",
"e=1.6*10**-19 //C\n",
"Cox=6.9*10^-8//F/cm2\n",
"esp0=8.85*10^-14 \n",
"Vtau=0.65//V\n",
"VGS=5//V\n",
"L=1.25*10^-4//cm\n",
"u=650//cm^2/Vs\n",
"IDsat=4*10^-3//A\n",
"\n",
"W=(IDsat*2*L)/(u*Cox*(VGS-Vtau)^2)\n",
"disp(W,'W in meter is=')"
   ]
   }
,
{
		   "cell_type": "markdown",
		   "metadata": {},
		   "source": [
			"## Example 11.9: determine_the_inversion_carrier_mobility.sce"
		   ]
		  },
  {
"cell_type": "code",
	   "execution_count": null,
	   "metadata": {
	    "collapsed": true
	   },
	   "outputs": [],
"source": [
"clc\n",
"\n",
"T=300 //K\n",
"k=8.617*10**-5//eV/K\n",
"e=1.6*10**-19 //C\n",
"Cox=6.9*10^-8//F/cm2\n",
"esp0=8.85*10^-14 \n",
"Vtau=0.65//V\n",
"VGS1=1.5//V\n",
"VGS2=2.5//V\n",
"VDS=0.10//V\n",
"L=2*10^-6//cm\n",
"u=650//cm^2/Vs\n",
"ID1=35*10^-6//A\n",
"ID2=75*10^-6//A\n",
"W=15*10^-6//m\n",
"\n",
"un=(ID2-ID1)*L/(W*Cox*(VGS2-VGS1)*VDS)\n",
"disp(un,'un in cm^2/Vs is=')"
   ]
   }
],
"metadata": {
		  "kernelspec": {
		   "display_name": "Scilab",
		   "language": "scilab",
		   "name": "scilab"
		  },
		  "language_info": {
		   "file_extension": ".sce",
		   "help_links": [
			{
			 "text": "MetaKernel Magics",
			 "url": "https://github.com/calysto/metakernel/blob/master/metakernel/magics/README.md"
			}
		   ],
		   "mimetype": "text/x-octave",
		   "name": "scilab",
		   "version": "0.7.1"
		  }
		 },
		 "nbformat": 4,
		 "nbformat_minor": 0
}
