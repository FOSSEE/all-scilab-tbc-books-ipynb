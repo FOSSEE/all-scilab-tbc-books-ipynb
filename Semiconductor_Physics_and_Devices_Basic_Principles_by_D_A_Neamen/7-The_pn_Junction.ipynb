{
"cells": [
 {
		   "cell_type": "markdown",
	   "metadata": {},
	   "source": [
       "# Chapter 7: The pn Junction"
	   ]
	},
{
		   "cell_type": "markdown",
		   "metadata": {},
		   "source": [
			"## Example 7.1: calculate_the_built_in_potential_barrier.sce"
		   ]
		  },
  {
"cell_type": "code",
	   "execution_count": null,
	   "metadata": {
	    "collapsed": true
	   },
	   "outputs": [],
"source": [
"clc\n",
"\n",
"T=300//K\n",
"Na=1*10^18// Na=L*10^18 cm^-3\n",
"Nd=1*10^15// cm^-3\n",
"ni=1.5*10^10// cm^-3\n",
"e=1.6*10^-19// eV\n",
"k=1.3806*10^-23// JK^-1\n",
"Vbi=(((k*T)/e)*log(Na*Nd/ni^2))\n",
"disp(Vbi,'the value of Vbi in V is')\n",
"\n",
"//changing the Na value\n",
"Na=10^16// Na=l*10^16 cm^1\n",
"Vbi=(((k*T)/e)*log(Na*Nd/ni^2))\n",
"disp(Vbi,'the value of Vbi in V is')"
   ]
   }
,
{
		   "cell_type": "markdown",
		   "metadata": {},
		   "source": [
			"## Example 7.2: calculate_the_space_charge_width.sce"
		   ]
		  },
  {
"cell_type": "code",
	   "execution_count": null,
	   "metadata": {
	    "collapsed": true
	   },
	   "outputs": [],
"source": [
"clc\n",
"\n",
"T=300//K\n",
"Na=10^16// cm^-3\n",
"Nd=10^15// cm^-3\n",
"e=1.6*10^-19// eV\n",
"epsilon0=8.85*10^-14// F/m\n",
"epsilons=11.7\n",
"Vbi=0.635// V\n",
"W=(((2*(epsilons*epsilon0)*Vbi)/e)*((Na+Nd)/(Na*Nd)))^0.5\n",
"disp(W,'W spacing charge width in meter is')\n",
"xn=0.864*10^-4// xp=0.086 micro m \n",
"Emax=-e*Nd*xn/(epsilons*epsilon0)\n",
"disp(Emax,'the value of Emax in V/cm is')"
   ]
   }
,
{
		   "cell_type": "markdown",
		   "metadata": {},
		   "source": [
			"## Example 7.3: Tocalculate_the_width_of_the_space_charge_regio.sce"
		   ]
		  },
  {
"cell_type": "code",
	   "execution_count": null,
	   "metadata": {
	    "collapsed": true
	   },
	   "outputs": [],
"source": [
"clc\n",
"\n",
"T=300//K\n",
"Na=10^16//  cm^-3\n",
"Nd=10^15// cm^-3\n",
"e=1.6*10^-19// eV\n",
"epsilon0=8.85*10^-14// F/m\n",
"epsilons=11.7\n",
"Vbi=0.635// V\n",
"Vr=5// V\n",
"W=(((2*(epsilons*epsilon0)*(Vbi+Vr))/e)*((Na+Nd)/(Na*Nd)))^0.5\n",
"disp(W,'the value of W in m is')"
   ]
   }
,
{
		   "cell_type": "markdown",
		   "metadata": {},
		   "source": [
			"## Example 7.4: design_a_pn_junction.sce"
		   ]
		  },
  {
"cell_type": "code",
	   "execution_count": null,
	   "metadata": {
	    "collapsed": true
	   },
	   "outputs": [],
"source": [
"clc\n",
"\n",
"T=300//K\n",
"k=8.617*10**-5//eV/K\n",
"e=1.6*10**-19 //C\n",
"Vr=25 //V\n",
"Emax=3*10^5//V/cm\n",
"Na=10^18//cm^-3\n",
"esp=11.7\n",
"esp0=8.85*10^-14 \n",
"\n",
"//Emax=sqrt((2*e*Vr*(Na+Nd))/(esp*(Na+Nd))\n",
"x=((Emax^2)*esp*esp0)/(2*e*Vr)            //solving the above equation we get\n",
"\n",
"Nd=(Na*x)/(Na-x)\n",
"disp(Nd,'doping concentration in cm^-3 is =')"
   ]
   }
,
{
		   "cell_type": "markdown",
		   "metadata": {},
		   "source": [
			"## Example 7.5: calculate_the_junction_capacitance.sce"
		   ]
		  },
  {
"cell_type": "code",
	   "execution_count": null,
	   "metadata": {
	    "collapsed": true
	   },
	   "outputs": [],
"source": [
"clc\n",
"\n",
"T=300//K\n",
"Na=10^16//  cm^-3\n",
"Nd=10^15// cm^-3\n",
"e=1.6*10^-19// eV\n",
"epsilon0=8.85*10^-14// F/m\n",
"epsilons=11.7\n",
"Vbi=0.635// V\n",
"Vr=5// V\n",
"C=((e*(epsilons*epsilon0)*Na*Nd)/(2*(Vbi+Vr)*(Na+Nd)))^0.5\n",
"A=10^-4// cm^2\n",
"C=C*A\n",
"disp(C,'the value of c with cross section area in F is')"
   ]
   }
,
{
		   "cell_type": "markdown",
		   "metadata": {},
		   "source": [
			"## Example 7.6: determine_the_impurity_doping_concentrations.sce"
		   ]
		  },
  {
"cell_type": "code",
	   "execution_count": null,
	   "metadata": {
	    "collapsed": true
	   },
	   "outputs": [],
"source": [
"clc\n",
"\n",
"T=300//K\n",
"ni=1.5*10^10// cm^-3\n",
"Nd=10^15// cm^-3\n",
"Vbi=0.855// V\n",
"e=1.6*10^-19// eV\n",
"k=1.3806*10^-23// JK^-1\n",
"S=1.32*10^15// Slope=1.32*10^-15 (F/cm^2)^-2*(V)-1\n",
"epsilon0=8.85*10^-14// F/m\n",
"epsilons=11.7\n",
"Nd=2/((e*(epsilons*epsilon0))*S)\n",
"Na=((ni*ni)/Nd)*exp((e*Vbi)/(k*T))\n",
"disp(Na,'the value of Na in cm^-3 is')"
   ]
   }
],
"metadata": {
		  "kernelspec": {
		   "display_name": "Scilab",
		   "language": "scilab",
		   "name": "scilab"
		  },
		  "language_info": {
		   "file_extension": ".sce",
		   "help_links": [
			{
			 "text": "MetaKernel Magics",
			 "url": "https://github.com/calysto/metakernel/blob/master/metakernel/magics/README.md"
			}
		   ],
		   "mimetype": "text/x-octave",
		   "name": "scilab",
		   "version": "0.7.1"
		  }
		 },
		 "nbformat": 4,
		 "nbformat_minor": 0
}
