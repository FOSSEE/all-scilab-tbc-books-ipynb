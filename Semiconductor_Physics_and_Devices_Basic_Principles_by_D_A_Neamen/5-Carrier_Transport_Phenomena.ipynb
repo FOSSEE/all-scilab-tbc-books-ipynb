{
"cells": [
 {
		   "cell_type": "markdown",
	   "metadata": {},
	   "source": [
       "# Chapter 5: Carrier Transport Phenomena"
	   ]
	},
{
		   "cell_type": "markdown",
		   "metadata": {},
		   "source": [
			"## Example 5.1: Drift_current_density.sce"
		   ]
		  },
  {
"cell_type": "code",
	   "execution_count": null,
	   "metadata": {
	    "collapsed": true
	   },
	   "outputs": [],
"source": [
"clc\n",
"\n",
"Nd=10**16 //cm^-3\n",
"Na=0\n",
"ni=1.8*10**6 //cm^-3\n",
"T=300 //K\n",
"k=8.617*10^-5 //eV/K\n",
"E=10 //V/cm^2\n",
"e=1.6*10**-19\n",
"un=8500\n",
"\n",
"n0=((Nd-Na)/2)+sqrt((((Nd-Na)/2)^2)+ni^2)\n",
"disp(n0,'n0 in cm^-3 is')\n",
"\n",
"p0=(ni^2)/n0\n",
"disp(p0,'p0 in cm^-3')\n",
"\n",
"//Jdrf=e*(un*n0+up*p0)*E= e*un*Nd*E\n",
"Jdrf=e*un*Nd*E\n",
"disp(Jdrf,'Jdrf in A/cm^2 is= ')\n",
""
   ]
   }
,
{
		   "cell_type": "markdown",
		   "metadata": {},
		   "source": [
			"## Example 5.2: doping_concentration.sce"
		   ]
		  },
  {
"cell_type": "code",
	   "execution_count": null,
	   "metadata": {
	    "collapsed": true
	   },
	   "outputs": [],
"source": [
"clc\n",
"\n",
"Na=10**17 //cm**-3\n",
"T=300 //K\n",
"k=8.617*10^-5 //eV/K\n",
"E=10 //V/cm^2\n",
"e=1.6*10**-19 //C\n",
"\n",
"\n",
"//sigma=e*un*n0=e*un*(Nd-Na)\n",
" //if \n",
"Nd=2*10**17 //cm**-3\n",
"sigma=8.16//ohm/cm\n",
"un=sigma/(e*(Nd-Na))\n",
"disp(un,'un in cm^2/Vs is=')\n",
"\n",
"//if\n",
"Nd=5*10**17 //cm^-3\n",
"sigma=20.8//ohm/cm\n",
"un=sigma/(e*(Nd-Na))\n",
"disp(un,'un in cm^2/Vs is=')\n",
"\n",
"//if\n",
"Nd=3.5*10**17 //cm^-3\n",
"sigma=16//ohm/cm\n",
"un=sigma/(e*(Nd-Na))\n",
"disp(un,'un in cm^2/Vs is=')"
   ]
   }
,
{
		   "cell_type": "markdown",
		   "metadata": {},
		   "source": [
			"## Example 5.3: design_semiconductor_resistor.sce"
		   ]
		  },
  {
"cell_type": "code",
	   "execution_count": null,
	   "metadata": {
	    "collapsed": true
	   },
	   "outputs": [],
"source": [
"clc\n",
"\n",
"V=5 //v\n",
"R=10*10^3 //ohm\n",
"J=50 //A/cm^2\n",
"E=100\n",
"Na=1.25*10**16 //cm^-3\n",
"Nd=5*10**15 //cm^-3\n",
"e=1.6*10**-19 //C\n",
"up=410 //cm**2/Vs\n",
"\n",
"I=V/R\n",
"disp(I,'I current in Ampere is=')\n",
"\n",
"A=I/J\n",
"disp(A,'A cross sectional area in cm^2 is=')\n",
"\n",
"L=V/E\n",
"disp(L,'L length of resistor in cm is= ')\n",
"\n",
"sigma=L/(R*A)\n",
"disp(sigma,'sigma conductivity in per ohm cm is=')\n",
"\n",
"//sigma=e*up*p0=e*up*(Na-Nd)\n",
"sigma=e*up*(Na-Nd)\n",
"disp(sigma,'sigma conductivity in per ohm cm is=')\n",
""
   ]
   }
,
{
		   "cell_type": "markdown",
		   "metadata": {},
		   "source": [
			"## Example 5.4: diffusion_current_density.sce"
		   ]
		  },
  {
"cell_type": "code",
	   "execution_count": null,
	   "metadata": {
	    "collapsed": true
	   },
	   "outputs": [],
"source": [
"clc\n",
"\n",
"T=300 // ..K\n",
"Dn=225 //cm^2/s\n",
"e=1.6*10^-19// C\n",
"deltax=0.10 //cm\n",
"deltan=(1*10**18-7*10**17)//cm^-3\n",
"\n",
"//Jnxdif=e*Dx*derivative (n,x)=e*Dn*(deltan/deltax)\n",
"Jnxdif=e*Dn*(deltan/deltax)\n",
"disp(Jnxdif,'diffusion current density in A/cm^2 is= ')"
   ]
   }
,
{
		   "cell_type": "markdown",
		   "metadata": {},
		   "source": [
			"## Example 5.5: Determine_induced_electric_field.sce"
		   ]
		  },
  {
"cell_type": "code",
	   "execution_count": null,
	   "metadata": {
	    "collapsed": true
	   },
	   "outputs": [],
"source": [
"clc\n",
"\n",
"T=300 //K\n",
"k=8.617*10^-5 //eV/K\n",
"//derivative(Ndx,x)=a\n",
"a=-10**19 //cm**-4\n",
"Ndx=(10^16-10^19) //cm^3\n",
"l=1\n",
"\n",
"//Ex=-(k*T/l)*(1/Ndx)*derivative(Ndx,x)\n",
"Ex=-(k*T/l)*(1/Ndx)*a*10^3\n",
"disp(Ex,'induced electric field in V/cm is= ')\n",
""
   ]
   }
,
{
		   "cell_type": "markdown",
		   "metadata": {},
		   "source": [
			"## Example 5.6: Determine_diffusion_coefficient.sce"
		   ]
		  },
  {
"cell_type": "code",
	   "execution_count": null,
	   "metadata": {
	    "collapsed": true
	   },
	   "outputs": [],
"source": [
"clc\n",
"\n",
"T=300 //K\n",
"u=1000 //cm^2/s\n",
"k=8.617*10^-5 //eV/K\n",
"e=1.6*10**-19 //C\n",
"\n",
"//D=((k*T)/e)*u\n",
"D=k*T*u\n",
"disp(D,'diffusion coefficient in cm^2/s is =')"
   ]
   }
,
{
		   "cell_type": "markdown",
		   "metadata": {},
		   "source": [
			"## Example 5.7: determine_majority_carrier.sce"
		   ]
		  },
  {
"cell_type": "code",
	   "execution_count": null,
	   "metadata": {
	    "collapsed": true
	   },
	   "outputs": [],
"source": [
"clc\n",
"\n",
"I=10^-3 //A\n",
"Bz=5*10**-2 //500gauss\n",
"e=1.6810*10**-19 //C\n",
"Vh=-6.25*10^-3 //V\n",
"Vx=12.5 //V\n",
"W=10**-4//m\n",
"d=10**-5 //m\n",
"\n",
"u=-(I*Bz)/(e*Vh*d)\n",
"disp(u,'electron concemtration in m^-3 is= ')\n",
"\n",
"un=(I*I)/(e*Bz*Vx*W*d)\n",
"disp(un,'electron mobility in /Vs is=')//     textbook ans is wrong"
   ]
   }
],
"metadata": {
		  "kernelspec": {
		   "display_name": "Scilab",
		   "language": "scilab",
		   "name": "scilab"
		  },
		  "language_info": {
		   "file_extension": ".sce",
		   "help_links": [
			{
			 "text": "MetaKernel Magics",
			 "url": "https://github.com/calysto/metakernel/blob/master/metakernel/magics/README.md"
			}
		   ],
		   "mimetype": "text/x-octave",
		   "name": "scilab",
		   "version": "0.7.1"
		  }
		 },
		 "nbformat": 4,
		 "nbformat_minor": 0
}
