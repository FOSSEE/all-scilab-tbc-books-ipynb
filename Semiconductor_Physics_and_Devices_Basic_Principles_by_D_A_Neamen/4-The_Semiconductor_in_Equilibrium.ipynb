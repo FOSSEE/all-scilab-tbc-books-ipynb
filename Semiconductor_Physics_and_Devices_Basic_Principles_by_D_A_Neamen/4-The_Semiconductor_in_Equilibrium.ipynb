{
"cells": [
 {
		   "cell_type": "markdown",
	   "metadata": {},
	   "source": [
       "# Chapter 4: The Semiconductor in Equilibrium"
	   ]
	},
{
		   "cell_type": "markdown",
		   "metadata": {},
		   "source": [
			"## Example 4.10: Calculate_thermal_equlilibrium.sce"
		   ]
		  },
  {
"cell_type": "code",
	   "execution_count": null,
	   "metadata": {
	    "collapsed": true
	   },
	   "outputs": [],
"source": [
"clc\n",
"\n",
"Nd=5*10**13 //cm^-3\n",
"Na=0\n",
"ni=2.4*10**13 //cm^-3\n",
"T=300 //K\n",
"k=8.617*10^-5 //eV/K\n",
"\n",
"n0=((Nd-Na)/2)+sqrt((((Nd-Na)/2)^2)+ni^2)\n",
"disp(n0,'n0 in cm^-3 is')\n",
"\n",
"p0=(ni^2)/n0\n",
"disp(p0,'p0 in cm^-3')\n",
"\n",
"\n",
""
   ]
   }
,
{
		   "cell_type": "markdown",
		   "metadata": {},
		   "source": [
			"## Example 4.11: Calculate_thermal_equlilibrium.sce"
		   ]
		  },
  {
"cell_type": "code",
	   "execution_count": null,
	   "metadata": {
	    "collapsed": true
	   },
	   "outputs": [],
"source": [
"clc\n",
"\n",
"T=300 //K\n",
"Nd=3*10**15 //cm**-3\n",
"Na=10**16 //cm**-3\n",
"k=8.617*10^-5 //eV/K\n",
"ni=1.5*10**16 //cm^-3\n",
"\n",
"a=((Na-Nd)/2)\n",
"disp(a)\n",
"b=sqrt(((Na-Nd)/2)^2+(ni^2))\n",
"disp(b)\n",
"\n",
"p0=a+b\n",
"disp(p0,'p0 in cm^-3 is=')         //textbook ans is wrpng\n",
"\n",
"n0=(ni^2)/p0\n",
"disp(n0,'n0 in cm^-3 is=')         //textbook ans is wrpng\n",
""
   ]
   }
,
{
		   "cell_type": "markdown",
		   "metadata": {},
		   "source": [
			"## Example 4.12: Determine_impurity_concentration.sce"
		   ]
		  },
  {
"cell_type": "code",
	   "execution_count": null,
	   "metadata": {
	    "collapsed": true
	   },
	   "outputs": [],
"source": [
"clc\n",
"\n",
"T1=550 //K\n",
"T2=300 //K\n",
"Nc=2.8*10**19 //cm**-3\n",
"Ne=1.04*10**19 //cm**-3\n",
"k=8.617*10^-5 //eV/K\n",
"Eg=1.12\n",
"\n",
"//ni^2=Nc*Ne*exp(-Eg/(k*T))\n",
"\n",
"ni=sqrt(Nc*Ne*(T1/T2)^3*exp((-Eg/(k*T2))*(T2/T1)))\n",
"disp(ni ,'ni in cm^-3 is = ')\n",
"\n",
"//n0=1.05*Nd\n",
"//n0=(Nd/2)+sqrt((Nd/2)^2+ni^2)      equation 1\n",
"\n",
"a=(((1.05*2)-1)/2)^2            //simplifying and sloving the about equaton 1\n",
"b=ni^2\n",
"c=((4*a)-1)/4\n",
"Nd=sqrt(b/c)\n",
"disp(Nd,'Nd value in cm^-3 is=')\n",
"\n",
""
   ]
   }
,
{
		   "cell_type": "markdown",
		   "metadata": {},
		   "source": [
			"## Example 4.13: Determine_impurity_concentration.sce"
		   ]
		  },
  {
"cell_type": "code",
	   "execution_count": null,
	   "metadata": {
	    "collapsed": true
	   },
	   "outputs": [],
"source": [
"clc\n",
"\n",
"T=300 //K\n",
"Na=10**16 //cm^-3\n",
"Nc=2.8*10**19 //cm**-3\n",
"k=8.617*10^-5 //eV/K\n",
"\n",
"//a=Ec-Ef\n",
"a=0.20 //eV\n",
"//Ec-Ef=k*T*log(Ne/(Nd-Na))\n",
"//Nd-Na=Nc*exp(-(Ec-Ef)/k*T)\n",
"\n",
"Nd=Na+Nc*exp(-a/(k*T))\n",
"disp(Nd,'Nd in cm^-3 is= ')"
   ]
   }
,
{
		   "cell_type": "markdown",
		   "metadata": {},
		   "source": [
			"## Example 4.14: Determine_fermi_level_position.sce"
		   ]
		  },
  {
"cell_type": "code",
	   "execution_count": null,
	   "metadata": {
	    "collapsed": true
	   },
	   "outputs": [],
"source": [
"clc\n",
"\n",
"T=300 //K\n",
"k=8.617*10^-5 //eV/K\n",
"ni=1.5*10**10 //cm^-3\n",
"//Ef-Ea=a\n",
"a=3*k*T\n",
"//Ea-Ev=b\n",
"b=0.045 //eV\n",
"Eg=1.12 //eV\n",
"\n",
"//Efi-Ef=(Eg/2)-(Ea-Ev)-(Ef-Ea)=kT*log(Na/ni)\n",
"c=(Eg/2)-(b)-(a)\n",
"Na=ni*exp(c/(k*T))\n",
"disp(Na,'Na in cm^-3 is= ')\n",
""
   ]
   }
,
{
		   "cell_type": "markdown",
		   "metadata": {},
		   "source": [
			"## Example 4.1: Calculate_probability.sce"
		   ]
		  },
  {
"cell_type": "code",
	   "execution_count": null,
	   "metadata": {
	    "collapsed": true
	   },
	   "outputs": [],
"source": [
"clc\n",
"\n",
"T=300 //K\n",
"Nc=2.8*10^19 //cm^-3\n",
"k=8.617 *10^-5 //eV K^-1 \n",
"//E=Ec\n",
"//a=Ec-Ef\n",
"a=-0.25\n",
"//fF(E)=1/(1+exp(Ec-Ef/kT)) =exp(-(Ec-Ef)/kT)\n",
"//b=k*T\n",
"//disp(b)\n",
"c=k*T\n",
"fFE=exp(a/c)\n",
"disp(fFE,'fF(E) value is=')\n",
"n0=Nc*exp(-a/(k*T))\n",
"disp(n0,'n0 value in cm^-3 is')"
   ]
   }
,
{
		   "cell_type": "markdown",
		   "metadata": {},
		   "source": [
			"## Example 4.2: Calculate_thermal_equlilibrium.sce"
		   ]
		  },
  {
"cell_type": "code",
	   "execution_count": null,
	   "metadata": {
	    "collapsed": true
	   },
	   "outputs": [],
"source": [
"clc\n",
"\n",
"T1=400 //K\n",
"T2=300 //K\n",
"N=1.04*10^19 //cm^-3\n",
"k=8.617*10^-5 //eV/K\n",
"\n",
"Nv=N*(T1/T2)^(3/2)\n",
"disp(Nv,'Nv=%f cm^-3\n\n')\n",
"\n",
"a=k*T2*(T1/T2)\n",
"disp(a,'kT=%f eV\n\n')\n",
"\n",
"//p0=Nv*exp(-(Ef-Ev)/kT)\n",
"p0=Nv*exp(-0.27/a)\n",
"disp(p0,'p0=%f cm^-3 \n')"
   ]
   }
,
{
		   "cell_type": "markdown",
		   "metadata": {},
		   "source": [
			"## Example 4.3: Calculate_intrinsic_carrier.sce"
		   ]
		  },
  {
"cell_type": "code",
	   "execution_count": null,
	   "metadata": {
	    "collapsed": true
	   },
	   "outputs": [],
"source": [
"clc\n",
"\n",
"T1=300 //K\n",
"T2=450 //K\n",
"Nc=4.7*10^17 //cm^-3\n",
"N=7*10^18 //cm^-3\n",
"k=8.617*10^-5 //eV/K\n",
"a=k*T1*(T2/T1)\n",
"disp(a,'kT=%f eV\n\n')\n",
"\n",
"ni=sqrt(Nc*N*exp(-1.42/(k*T1)))\n",
"disp(ni,'ni=%f cm^-3\n\n')\n",
"\n",
"ni=sqrt(Nc*N*(T2/T1)^3*exp(-1.42/a))\n",
"disp(ni,'ni=%f cm^-3\n\n')"
   ]
   }
,
{
		   "cell_type": "markdown",
		   "metadata": {},
		   "source": [
			"## Example 4.4: Calculate_positio.sce"
		   ]
		  },
  {
"cell_type": "code",
	   "execution_count": null,
	   "metadata": {
	    "collapsed": true
	   },
	   "outputs": [],
"source": [
"clc\n",
"\n",
"T=300 //K\n",
"mn=1.08 //m0\n",
"mp=0.56 //m0\n",
"k=8.617*10^-5 //eV/K\n",
"\n",
"//Efi-Emidgap=(3/4)k*T*log(mp/mn)\n",
"//a=Efi-Emidgap\n",
"\n",
"a=(0.75)*k*T*log(mp/mn)\n",
"printf('Efi-Emidgap=%f eV',a)     //textbook ans is wrong"
   ]
   }
,
{
		   "cell_type": "markdown",
		   "metadata": {},
		   "source": [
			"## Example 4.5: Calculate_thermal_equlilibrium.sce"
		   ]
		  },
  {
"cell_type": "code",
	   "execution_count": null,
	   "metadata": {
	    "collapsed": true
	   },
	   "outputs": [],
"source": [
"clc\n",
"\n",
"T=300 //K\n",
"Nn=2.8*10^19 //cm^-3\n",
"Np=1.04*10^19 //cm^-3\n",
"//a=Ef-Ev\n",
"an=0.25 //eV\n",
"ap=0.87 //eV\n",
"k=8.617*10^-5 //eV/K\n",
"\n",
"n0=Nn*exp(-an/(k*T))\n",
"disp(n0,'n0 in cm^-3 is=')\n",
"\n",
"p0=Np*exp(-ap/(k*T))\n",
"disp(p0,'p0 in cm^-3 is=')"
   ]
   }
,
{
		   "cell_type": "markdown",
		   "metadata": {},
		   "source": [
			"## Example 4.6: Calculate_electron_concentration.sce"
		   ]
		  },
  {
"cell_type": "code",
	   "execution_count": null,
	   "metadata": {
	    "collapsed": true
	   },
	   "outputs": [],
"source": [
"clc\n",
"\n",
"nf=2\n",
"T=300 //K\n",
"Nc=2.8*10**19 //cm^-3\n",
"\n",
"//n0=(2/sqrt(%pi))*Nc*F12(nf)\n",
"//x=F12(nf)=2.3\n",
"x=2.3\n",
"n0=(2/sqrt(%pi))*Nc*x\n",
"disp(n0,'n0 in cm^-3 is= ')"
   ]
   }
,
{
		   "cell_type": "markdown",
		   "metadata": {},
		   "source": [
			"## Example 4.7: Determine_fraction_of_total_electron.sce"
		   ]
		  },
  {
"cell_type": "code",
	   "execution_count": null,
	   "metadata": {
	    "collapsed": true
	   },
	   "outputs": [],
"source": [
"clc\n",
"\n",
"Nd=10**16 //cm^-3\n",
"Ne=2.8*10**19 //cm^-3\n",
"T=300 //K\n",
"\n",
"//(nd/(n0+nd))=z=1/(1+(Ne/2*Nd)*exp(-(Ec-Ed)/kT))\n",
"//y=Ec-Ed\n",
"y=0.045\n",
"k=8.617*10^-5 //eV/K\n",
"z=1/(1+(Ne/(2*Nd))*exp(-y/(k*T)))\n",
"disp(z,'the donor states is=')"
   ]
   }
,
{
		   "cell_type": "markdown",
		   "metadata": {},
		   "source": [
			"## Example 4.9: Calculate_thermal_equlilibrium.sce"
		   ]
		  },
  {
"cell_type": "code",
	   "execution_count": null,
	   "metadata": {
	    "collapsed": true
	   },
	   "outputs": [],
"source": [
"clc\n",
"\n",
"Nd=10**16 //cm^-3\n",
"Na=0\n",
"ni=1.5*10**10 //cm^-3\n",
"T=300 //K\n",
"k=8.617*10^-5 //eV/K\n",
"\n",
"n0=((Nd-Na)/2)+sqrt((((Nd-Na)/2)^2)+ni^2)\n",
"disp(n0,'n0 in cm^-3 is')\n",
"\n",
"p0=(ni^2)/n0\n",
"disp(p0,'p0 in cm^-3')\n",
""
   ]
   }
],
"metadata": {
		  "kernelspec": {
		   "display_name": "Scilab",
		   "language": "scilab",
		   "name": "scilab"
		  },
		  "language_info": {
		   "file_extension": ".sce",
		   "help_links": [
			{
			 "text": "MetaKernel Magics",
			 "url": "https://github.com/calysto/metakernel/blob/master/metakernel/magics/README.md"
			}
		   ],
		   "mimetype": "text/x-octave",
		   "name": "scilab",
		   "version": "0.7.1"
		  }
		 },
		 "nbformat": 4,
		 "nbformat_minor": 0
}
