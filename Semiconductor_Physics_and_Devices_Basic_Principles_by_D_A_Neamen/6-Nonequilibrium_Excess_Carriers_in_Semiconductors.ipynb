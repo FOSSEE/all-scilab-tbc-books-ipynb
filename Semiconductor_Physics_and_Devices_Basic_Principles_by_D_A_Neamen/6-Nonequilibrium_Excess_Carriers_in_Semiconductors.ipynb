{
"cells": [
 {
		   "cell_type": "markdown",
	   "metadata": {},
	   "source": [
       "# Chapter 6: Nonequilibrium Excess Carriers in Semiconductors"
	   ]
	},
{
		   "cell_type": "markdown",
		   "metadata": {},
		   "source": [
			"## Example 6.10: determine_the_value_of_surface_recombinaion_velocity.sce"
		   ]
		  },
  {
"cell_type": "code",
	   "execution_count": null,
	   "metadata": {
	    "collapsed": true
	   },
	   "outputs": [],
"source": [
"clc\n",
"\n",
"k=8.617*10**-5//eV/K\n",
"e=1.6*10**-19 //C\n",
"Dp=10//cm^2/sec\n",
"Lp=31.6*10**-4 //m\n",
"g1taup0=10^14 //cm^-3\n",
"deltap0=10^13 //cm6-3\n",
"\n",
"//deltap0=g1taup0*[g/((Dp/Lp)+s)]\n",
"s=(Dp/Lp)*((g1taup0/deltap0)-1)\n",
"disp(s,'surface recombination velocity in cm per sec is= ')\n",
""
   ]
   }
,
{
		   "cell_type": "markdown",
		   "metadata": {},
		   "source": [
			"## Example 6.5: dielechic_relaxation_time_constant.sce"
		   ]
		  },
  {
"cell_type": "code",
	   "execution_count": null,
	   "metadata": {
	    "collapsed": true
	   },
	   "outputs": [],
"source": [
"clc\n",
"\n",
"k=8.617*10**-5//eV/K\n",
"e=1.6*10**-19 //C\n",
"un=1200\n",
"Nd=10^16 //cm^-3\n",
"esp0=8.85*10^-14 \n",
"espr=11.7\n",
"\n",
"sigma=e*un*Nd\n",
"disp(sigma,'conductivity in per ohm cm is= ')\n",
"\n",
"esp=espr*esp0\n",
"disp(esp,'permittivity of silicon in F/cm')\n",
"\n",
"taud=esp/sigma\n",
"disp(taud,'dielectric relaxtion time constant in sec is= ')"
   ]
   }
,
{
		   "cell_type": "markdown",
		   "metadata": {},
		   "source": [
			"## Example 6.6: calculate_the_quasi_Fermi_energy_levels.sce"
		   ]
		  },
  {
"cell_type": "code",
	   "execution_count": null,
	   "metadata": {
	    "collapsed": true
	   },
	   "outputs": [],
"source": [
"clc\n",
"\n",
"T=300//K\n",
"k=8.617*10**-5//eV/K\n",
"e=1.6*10**-19 //C\n",
"n0=10^15 //cm^-3\n",
"p0=10^5 //cm^-3\n",
"ni=10^10 //cm^-3\n",
"deltan=10**13 //cm**-3\n",
"deltap=10**13 //cm**-3\n",
"\n",
"//Ef-Efi=a\n",
"a=(k*T)*log(n0/ni)\n",
"disp(a,'fermi level for thermal equlibrium in eV is= ')\n",
"\n",
"//Efn-Efi=b\n",
"b=(k*T)*log((n0+deltan)/ni)\n",
"disp(b,'quasi fermi level for electrons in eV is= ')\n",
"\n",
"//Efi-Efp=c\n",
"c=(k*T)*log((p0+deltap)/ni)\n",
"disp(c,'quasi fermi level for holes in eV is= ')"
   ]
   }
,
{
		   "cell_type": "markdown",
		   "metadata": {},
		   "source": [
			"## Example 6.8: detrrminr_the_steady_state_excess_carrier_concentration.sce"
		   ]
		  },
  {
"cell_type": "code",
	   "execution_count": null,
	   "metadata": {
	    "collapsed": true
	   },
	   "outputs": [],
"source": [
"clc\n",
"\n",
"k=8.617*10**-5//eV/K\n",
"e=1.6*10**-19 //C\n",
"x=0\n",
"taup0=10**-6//ses\n",
"taup01=10**-7 //sec\n",
"deltapb=10**14 //cm**-3\n",
"Dn=10 //cm^2/sec\n",
"Dp=10 //cm^2/sec\n",
"B=-9*10^13\n",
"\n",
"deltap=deltapb*(taup01/taup0)\n",
"disp(deltap,'deltap in cm^-3 is=')\n",
"\n",
"g=deltap/taup0\n",
"disp(g,'g generation in cm^-3s^-1 is= ')\n",
"\n",
"//deltapx=10^14*(1-0.9*exp(-x/Lp))\n",
"Lp=sqrt(Dp*taup0)\n",
"disp(Lp,'Lp in meter is=')\n",
"\n",
"deltapx=10^14*(1-0.9*exp(-x/Lp))\n",
"disp(deltapx,'distance from the surface is =')"
   ]
   }
],
"metadata": {
		  "kernelspec": {
		   "display_name": "Scilab",
		   "language": "scilab",
		   "name": "scilab"
		  },
		  "language_info": {
		   "file_extension": ".sce",
		   "help_links": [
			{
			 "text": "MetaKernel Magics",
			 "url": "https://github.com/calysto/metakernel/blob/master/metakernel/magics/README.md"
			}
		   ],
		   "mimetype": "text/x-octave",
		   "name": "scilab",
		   "version": "0.7.1"
		  }
		 },
		 "nbformat": 4,
		 "nbformat_minor": 0
}
