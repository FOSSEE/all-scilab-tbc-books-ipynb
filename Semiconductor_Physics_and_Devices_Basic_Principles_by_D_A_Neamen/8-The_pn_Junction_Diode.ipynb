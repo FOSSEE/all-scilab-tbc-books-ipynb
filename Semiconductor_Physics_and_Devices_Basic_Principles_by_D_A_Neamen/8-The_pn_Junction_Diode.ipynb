{
"cells": [
 {
		   "cell_type": "markdown",
	   "metadata": {},
	   "source": [
       "# Chapter 8: The pn Junction Diode"
	   ]
	},
{
		   "cell_type": "markdown",
		   "metadata": {},
		   "source": [
			"## Example 8.1: calculate_the_minority_carrier_hole_concentration.sce"
		   ]
		  },
  {
"cell_type": "code",
	   "execution_count": null,
	   "metadata": {
	    "collapsed": true
	   },
	   "outputs": [],
"source": [
"clc\n",
"\n",
"T=300// K\n",
"ni=1.5*10^10 //cm^-3\n",
"k=8.617*10^-5 //eV/K\n",
"Nd=10^16 //cm^-3\n",
"Va=0.60 //V\n",
"\n",
"//pn=pn0*exp(e*Va/k*T)\n",
"pn0=ni^2/Nd\n",
"disp(pn0,'thermal equlibrium minority carrier hole concentration in cm^-3 is= ')\n",
"\n",
"pn=pn0*exp(Va/(k*T))\n",
"disp(pn,'minority carrier hole concentration in cm^-3 is= ')\n",
""
   ]
   }
,
{
		   "cell_type": "markdown",
		   "metadata": {},
		   "source": [
			"## Example 8.2: ideal_reverse_saturation_current_density.sce"
		   ]
		  },
  {
"cell_type": "code",
	   "execution_count": null,
	   "metadata": {
	    "collapsed": true
	   },
	   "outputs": [],
"source": [
"clc\n",
"\n",
"T=300//K\n",
"Na=10**16 //cm^-3\n",
"Nd=10**16 //cm^-3\n",
"ni=1.5*10**10 //cm^-3\n",
"Dn=25 //cm^2/s\n",
"Dp=10 //cm^2/s\n",
"taup0=5*10^-7 //s\n",
"taun0=5*10^-7 //s\n",
"epsilon=11.7\n",
"e=1.6*10**-19 //C\n",
"\n",
"//J=(E*D*np0/Ln)+(E*D*pn0/Lp)\n",
"Js=e*ni^2*[(1/Na)*sqrt(Dn/taun0)+(1/Nd)*sqrt(Dp/taup0)]\n",
"disp(Js,'reverse saturation current density in A/cm^2 is=')"
   ]
   }
,
{
		   "cell_type": "markdown",
		   "metadata": {},
		   "source": [
			"## Example 8.3: design_a_pn_junction_diode.sce"
		   ]
		  },
  {
"cell_type": "code",
	   "execution_count": null,
	   "metadata": {
	    "collapsed": true
	   },
	   "outputs": [],
"source": [
"clc\n",
"\n",
"T=300 //K\n",
"k=8.617*10**-5//eV/K\n",
"e=1.6*10**-19 //C\n",
"Jp=5 //A/cm^2\n",
"Jn=20 //A/cm^2\n",
"Va=0.65 //V\n",
"ni=1.5*10**10 //cm^-3\n",
"Dn=25 //cm^2/s\n",
"Dp=10 //cm^2/s\n",
"taup0=5*10^-7 //s\n",
"taun0=5*10^-7 //s\n",
"\n",
"//Jn=(e*Dn*np0/Ln)*[exp(e*Va/k*T)-1]==e*sqrt(Dn/taun0)*(ni^2/Na)*[exp(e*Va/k*T)-1]\n",
"\n",
"Na=e*sqrt(Dn/taun0)*(ni^2/Jn)*[(exp(Va/(k*T)))-1]\n",
"disp(Na,'Na elctron diffusion current density in cm^-3 is= ')\n",
"\n",
"//Jp=(e*Dp*pn0/Lp)*[exp(e*Va/k*T)-1]==e*sqrt(Dp/taup0)*(ni^2/Nd)\n",
"\n",
"Nd=e*sqrt(Dp/taup0)*(ni^2/Jp)*[(exp(Va/(k*T)))-1]\n",
"disp(Nd,'Nd hole diffusion current density in cm^-3 is= ')"
   ]
   }
,
{
		   "cell_type": "markdown",
		   "metadata": {},
		   "source": [
			"## Example 8.4: calculate_the_electric_field.sce"
		   ]
		  },
  {
"cell_type": "code",
	   "execution_count": null,
	   "metadata": {
	    "collapsed": true
	   },
	   "outputs": [],
"source": [
"clc\n",
"\n",
"T=300 //K\n",
"k=8.617*10**-5//eV/K\n",
"e=1.6*10**-19 //C\n",
"Va=0.65 //V\n",
"Js=4.15*10^-11// A/cm^2\n",
"Nd=10**16 //cm**-3\n",
"un=1350 //cm^2/Vs\n",
"Jn=3.29 //A/cm^2\n",
"\n",
"J=Js*[exp(Va/(k*T))-1]\n",
"disp(J,'current density in A/cm^2 is= ')\n",
"\n",
"E=Jn/(e*Nd*un)\n",
"disp(E,'electric field in V/cm is= ')\n",
""
   ]
   }
,
{
		   "cell_type": "markdown",
		   "metadata": {},
		   "source": [
			"## Example 8.5: determine_the_change_in_the_forward_bias_voltage.sce"
		   ]
		  },
  {
"cell_type": "code",
	   "execution_count": null,
	   "metadata": {
	    "collapsed": true
	   },
	   "outputs": [],
"source": [
"clc\n",
"\n",
"T1=300 //K\n",
"T2=310 //K\n",
"k=8.617*10**-5//eV/K\n",
"e=1.6*10**-19 //C\n",
"Va1=0.60 //V\n",
"Va2=0.5827 //V\n",
"E=1.12 //eV\n",
"\n",
"//J=exp(-Eg/(k*T))*exp((e*Va)/(k*T))\n",
"\n",
"a=([e*Va2*k*T1]+[e*Va1*k*T2])/((k*T1)-(k*T2))\n",
"disp(a)"
   ]
   }
,
{
		   "cell_type": "markdown",
		   "metadata": {},
		   "source": [
			"## Example 8.6: calculate_thc_small_signal_admittance.sce"
		   ]
		  },
  {
"cell_type": "code",
	   "execution_count": null,
	   "metadata": {
	    "collapsed": true
	   },
	   "outputs": [],
"source": [
"clc\n",
"\n",
"T=300 //K\n",
"k=8.617*10**-5//eV/K\n",
"e=1.6*10**-19 //C\n",
"Vt=0.0259 //v\n",
"lp0=10^-3 //A\n",
"taup0=10^-7 //s\n",
"Idq=1*10**-3//A\n",
"\n",
"Cd=(1*lp0*taup0)/(2*Vt)\n",
"disp(Cd,'diffusion capacitance in F is= ')\n",
"\n",
"vd=(Vt/Idq)\n",
"disp(vd,'diffusion in ohm is= ')"
   ]
   }
,
{
		   "cell_type": "markdown",
		   "metadata": {},
		   "source": [
			"## Example 8.7: determine_the_relative_magnitudes.sce"
		   ]
		  },
  {
"cell_type": "code",
	   "execution_count": null,
	   "metadata": {
	    "collapsed": true
	   },
	   "outputs": [],
"source": [
"clc\n",
"\n",
"T=300 //K\n",
"k=8.617*10**-5//eV/K\n",
"e=1.6*10**-19 //C\n",
"Na=10**16 //cm^-3\n",
"Nd=10**16 //cm^-3\n",
"ni=1.5*10**10 //cm^-3\n",
"tau0=5*10^-7 //s\n",
"eps=11.7\n",
"//Vbr+Vr=z\n",
"z=5 //V\n",
"\n",
"W=sqrt(((2*eps))*((Na+Nd)/Na*Nd)*z)\n",
"disp(W,'depletion width in cm is= ')//       textbook ans is wrong\n",
"\n",
"Jgen=(e*ni*W)/(2*tau0)\n",
"disp(Jgen,'generation current density in A/cm^2 is= ')//       textbook ans is wrong"
   ]
   }
],
"metadata": {
		  "kernelspec": {
		   "display_name": "Scilab",
		   "language": "scilab",
		   "name": "scilab"
		  },
		  "language_info": {
		   "file_extension": ".sce",
		   "help_links": [
			{
			 "text": "MetaKernel Magics",
			 "url": "https://github.com/calysto/metakernel/blob/master/metakernel/magics/README.md"
			}
		   ],
		   "mimetype": "text/x-octave",
		   "name": "scilab",
		   "version": "0.7.1"
		  }
		 },
		 "nbformat": 4,
		 "nbformat_minor": 0
}
