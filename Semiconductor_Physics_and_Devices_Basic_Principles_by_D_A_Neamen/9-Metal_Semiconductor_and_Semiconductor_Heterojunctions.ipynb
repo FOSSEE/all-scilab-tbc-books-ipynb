{
"cells": [
 {
		   "cell_type": "markdown",
	   "metadata": {},
	   "source": [
       "# Chapter 9: Metal Semiconductor and Semiconductor Heterojunctions"
	   ]
	},
{
		   "cell_type": "markdown",
		   "metadata": {},
		   "source": [
			"## Example 9.1: calculate_the_ilieorelical_harrier_height.sce"
		   ]
		  },
  {
"cell_type": "code",
	   "execution_count": null,
	   "metadata": {
	    "collapsed": true
	   },
	   "outputs": [],
"source": [
"clc\n",
"\n",
"T=300 //K\n",
"k=8.617*10**-5//eV/K\n",
"e=1.6*10**-19 //C\n",
"Nd=10**16 //cm^-3\n",
"Nr=2.8*10**19 //cm^-3\n",
"Vbi=0.33\n",
"phim=4.55 //V\n",
"psi=4.01 //V\n",
"esp=11.7\n",
"esp0=8.85*10^-14 \n",
"\n",
"hb=phim-psi\n",
"disp(hb,'barrier height in V is= ')\n",
"\n",
"phiu=(k*T)*log(Nr/Nd)\n",
"disp(phiu,'schottky barrier height in V is= ')\n",
"\n",
"Vbt=hb-phiu\n",
"disp(Vbt,'in V is=')\n",
"\n",
"xn=sqrt((2*esp*esp0*Vbi)/(e*Nd))\n",
"disp(xn,'space charge in cm is= ')\n",
"\n",
"Emax=(e*Nd*xn)/(esp*esp0)\n",
"disp(Emax,'maxi electric field in V/cm is= ')"
   ]
   }
,
{
		   "cell_type": "markdown",
		   "metadata": {},
		   "source": [
			"## Example 9.2: calculate_thc_semiconductor_doping.sce"
		   ]
		  },
  {
"cell_type": "code",
	   "execution_count": null,
	   "metadata": {
	    "collapsed": true
	   },
	   "outputs": [],
"source": [
"clc\n",
"\n",
"T=300 //K\n",
"k=8.617*10**-5//eV/K\n",
"e=1.6*10**-19 //C\n",
"esp=11.7\n",
"esp0=8.85*10^-14 \n",
"Nd=2.7*10**17 //cm^-3\n",
"Na=2.8*10**19 //cm^-3\n",
"Vbi=0.40\n",
"\n",
"//(1/C)^2=2*(Vbi+Vr)/(e*esp*Nd)\n",
"//delta(1/C)^2/deltaVr=z\n",
"z=4.4*10**13\n",
"Nd=2/(e*esp*esp0*z)\n",
"disp(Nd,'semiconductor doping in cm^-3 is= ')\n",
"\n",
"phin=(k*T)*log(Na/Nd)\n",
"disp(phin,'in v is=')\n",
"\n",
"phibn=Vbi+phin\n",
"disp(phibn,'schottky barrier height in V is=')"
   ]
   }
,
{
		   "cell_type": "markdown",
		   "metadata": {},
		   "source": [
			"## Example 9.3: calculalr_the_Schottky_barrier_lowering.sce"
		   ]
		  },
  {
"cell_type": "code",
	   "execution_count": null,
	   "metadata": {
	    "collapsed": true
	   },
	   "outputs": [],
"source": [
"clc\n",
"\n",
"T=300 //K\n",
"k=8.617*10**-5//eV/K\n",
"e=1.6*10**-19 //C\n",
"esp=11.7\n",
"esp0=8.85*10^-14 \n",
"E=6.8*10**4 //V/cm\n",
"\n",
"deltaphi=sqrt((e*E)/(4*%pi*esp*esp0))\n",
"disp(deltaphi,'schottky barrier lowring in V is =')\n",
"\n",
"xm=sqrt(e/(16*%pi*esp*esp0*E))\n",
"disp(xm,'maxi barrier height in meter is=')\n",
""
   ]
   }
,
{
		   "cell_type": "markdown",
		   "metadata": {},
		   "source": [
			"## Example 9.4: calculate_the_effective_Richardson_constant.sce"
		   ]
		  },
  {
"cell_type": "code",
	   "execution_count": null,
	   "metadata": {
	    "collapsed": true
	   },
	   "outputs": [],
"source": [
"clc\n",
"\n",
"T=300 //K\n",
"k=8.617*10**-5//eV/K\n",
"e=1.6*10**-19 //C\n",
"esp=11.7\n",
"esp0=8.85*10^-14 \n",
"phibe=0.67 //V\n",
"Jst=6*10**-5 //A/cm^2\n",
"\n",
"A=exp(phibe/(k*T))*(Jst/T^2)\n",
"disp(A,'Richardson constant in A/K^2-cm^2 is=')     //textbook ans is different\n",
""
   ]
   }
,
{
		   "cell_type": "markdown",
		   "metadata": {},
		   "source": [
			"## Example 9.5: calculate_the_reverse_saturation_current_densities.sce"
		   ]
		  },
  {
"cell_type": "code",
	   "execution_count": null,
	   "metadata": {
	    "collapsed": true
	   },
	   "outputs": [],
"source": [
"clc\n",
"\n",
"T=300 //K\n",
"k=8.617*10**-5//eV/K\n",
"e=1.6*10**-19 //C\n",
"esp=11.7\n",
"esp0=8.85*10^-14 \n",
"phibe=0.67 //V\n",
"A=114 //A/K^2-cm^2\n",
"Na=10^18 //cm^-3\n",
"Nd=10^16 //cm^-3\n",
"taup0=10^-7\n",
"taun0=10^-7\n",
"Dp=10 //cm^2/s\n",
"Dn=25 //cm^2/s\n",
"Lp=1.0*10**-3 //cm\n",
"Ln=1.58*10**-3 //cm\n",
"pn0=2.25*10**4 //cm^-3\n",
"np0=2.25*10**2 //cm^-3\n",
"\n",
"\n",
"a=k*T\n",
"Jst=(A*T^2)*exp(-phibe/a)\n",
"disp(Jst,'Richardson constant in A/K^2-cm^2 is=')\n",
"\n",
"Js=((e*Dn*np0)/Ln)+((e*Dp*pn0)/Lp)\n",
"disp(Js,'reverse saturation current density in A/cm^2 is=')"
   ]
   }
,
{
		   "cell_type": "markdown",
		   "metadata": {},
		   "source": [
			"## Example 9.6: calculate_the_forward_bias_voltage.sce"
		   ]
		  },
  {
"cell_type": "code",
	   "execution_count": null,
	   "metadata": {
	    "collapsed": true
	   },
	   "outputs": [],
"source": [
"clc\n",
"\n",
"T=300 //K\n",
"k=8.617*10**-5//eV/K\n",
"e=1.6*10**-19 //C\n",
"esp=11.7\n",
"esp0=8.85*10^-14 \n",
"J=10 //A/K^2-cm^2\n",
"Jst=5.98*10^-5//A/K^2-cm^2\n",
"Js=3.66*10^-11 //A/K^2-cm^2\n",
"\n",
"//J=Jst*[exp(e*Va/k*T)-1]\n",
"//Va=(k*T/e)*log(J/Jst)\n",
"Va=(k*T)*log(J/Jst)\n",
"disp(Va,'forward bias voltage in V is= ')\n",
"\n",
"Va=(k*T)*log(J/Js)\n",
"disp(Va,'forward bias voltage in V is= ')\n",
""
   ]
   }
,
{
		   "cell_type": "markdown",
		   "metadata": {},
		   "source": [
			"## Example 9.7: calculate_the_space_charge_width.sce"
		   ]
		  },
  {
"cell_type": "code",
	   "execution_count": null,
	   "metadata": {
	    "collapsed": true
	   },
	   "outputs": [],
"source": [
"clc\n",
"\n",
"T=300 //K\n",
"k=8.617*10**-5//eV/K\n",
"e=1.6*10**-19 //C\n",
"Nd=7*10^18 //cm^3\n",
"esp=11.7\n",
"esp0=8.85*10^-14 \n",
"phibn=0.67 //V\n",
"Vbi=0.67\n",
"\n",
"xn=sqrt((2*esp*esp0*Vbi)/(e*Nd))\n",
"disp(xn,'space charge width in cm is= ')\n",
""
   ]
   }
,
{
		   "cell_type": "markdown",
		   "metadata": {},
		   "source": [
			"## Example 9.8: detcmminc_AE_At_and_Vbi.sce"
		   ]
		  },
  {
"cell_type": "code",
	   "execution_count": null,
	   "metadata": {
	    "collapsed": true
	   },
	   "outputs": [],
"source": [
"clc\n",
"\n",
"T=300 //K\n",
"k=8.617*10**-5//eV/K\n",
"e=1.6*10**-19 //C\n",
"ni=2.4*10^13 //cm^-3\n",
"Na=7*10^18 //cm^3\n",
"Nd=10^16 //cm^-3\n",
"pp0=6*10^18 //cm^-3\n",
"esp=11.7\n",
"esp0=8.85*10^-14 \n",
"xn=4.13\n",
"xp=4.07\n",
"\n",
"//AE1=e*(xn-xp)\n",
"AE=(xn-xp)\n",
"disp(AE,'AE in eV is=')\n",
"\n",
"deltaE=1.43-0.67\n",
"\n",
"AE1=deltaE-AE\n",
"disp(AE1,'AE1 in eV is= ')\n",
"\n",
"pn0=(ni^2)/Nd\n",
"disp(pn0,'pn0 in cm^-3 is=')\n",
"\n",
"Vbi=AE1+(k*T)*log((Nd*pp0)/(pn0*Na))\n",
"disp(Vbi,'Vbi in V is=')\n",
""
   ]
   }
],
"metadata": {
		  "kernelspec": {
		   "display_name": "Scilab",
		   "language": "scilab",
		   "name": "scilab"
		  },
		  "language_info": {
		   "file_extension": ".sce",
		   "help_links": [
			{
			 "text": "MetaKernel Magics",
			 "url": "https://github.com/calysto/metakernel/blob/master/metakernel/magics/README.md"
			}
		   ],
		   "mimetype": "text/x-octave",
		   "name": "scilab",
		   "version": "0.7.1"
		  }
		 },
		 "nbformat": 4,
		 "nbformat_minor": 0
}
