{
"cells": [
 {
		   "cell_type": "markdown",
	   "metadata": {},
	   "source": [
       "# Chapter 5: Atomic Physics"
	   ]
	},
{
		   "cell_type": "markdown",
		   "metadata": {},
		   "source": [
			"## Example 5.1: L_S_coupling_for_two_electrons.sci"
		   ]
		  },
  {
"cell_type": "code",
	   "execution_count": null,
	   "metadata": {
	    "collapsed": true
	   },
	   "outputs": [],
"source": [
"// Scilab Code Ex5.1 L-S coupling for two electrons: Pg:145 (2008)\n",
"// For 2D(3/2) state\n",
"l2 = 1;    // Orbital quantum number for p state\n",
"l1 = 1;    // Orbital quantum number for p state\n",
"printf('\nThe values of orbital quantum number L, for l1 = %d and l2 = %d are: \n', l1, l2);\n",
"for L = l2-l1:1:l2+l1\n",
"printf('%d ', L);\n",
"end\n",
"// Result \n",
"// The values of orbital quantum number L, for l1 = 1 and l2 = 1 are: \n",
"// 0 1 2"
   ]
   }
,
{
		   "cell_type": "markdown",
		   "metadata": {},
		   "source": [
			"## Example 5.2: Term_Values_for_L_S_Coupling.sci"
		   ]
		  },
  {
"cell_type": "code",
	   "execution_count": null,
	   "metadata": {
	    "collapsed": true
	   },
	   "outputs": [],
"source": [
"// Scilab Code Ex5.2 Term values for L-S coupling: Pg:145 (2008)\n",
"// For 2D(3/2) state\n",
"// Set-I values of L and S\n",
"L = 1;    // Orbital quantum number\n",
"S = 1/2;    // Spin quantum number\n",
"printf('\nThe term values for L = %d and S = %2.1f (P-state) are:\n',L, S);\n",
"J1 = 3/2;    // Total quantum number\n",
"printf('%dP(%2.1f)\t', 2*S+1,J1);\n",
"J2 = 1/2;    // Total quantum number\n",
"printf('%dP(%2.1f)', 2*S+1,J2);\n",
"\n",
"// Set-II values of L and S\n",
"L = 2;    // Orbital quantum number\n",
"S = 1/2;    // Spin quantum number\n",
"printf('\nThe term values for L = %d and S = %2.1f (P-state) are:\n',L, S);\n",
"J1 = 5/2;    // Total quantum number\n",
"printf('%dD(%2.1f)\t', 2*S+1,J1);\n",
"J2 = 3/2;    // Total quantum number\n",
"printf('%dD(%2.1f)', 2*S+1,J2);\n",
"\n",
"// Result \n",
"// The term values for L = 1 and S = 0.5 (P-state) are:\n",
"// 2P(1.5)	2P(0.5)\n",
"// The term values for L = 2 and S = 0.5 (P-state) are:\n",
"// 2D(2.5)	2D(1.5) "
   ]
   }
,
{
		   "cell_type": "markdown",
		   "metadata": {},
		   "source": [
			"## Example 5.4: Angle_Between_l_and_s_State.sci"
		   ]
		  },
  {
"cell_type": "code",
	   "execution_count": null,
	   "metadata": {
	    "collapsed": true
	   },
	   "outputs": [],
"source": [
"// Scilab Code Ex5.4 Angle between l and s for 2D(3/2) state: Pg:146 (2008)\n",
"// For 2D(3/2) state\n",
"l = 2;    // Orbital quantum number\n",
"s = 1/2;    // Spin quantum number\n",
"j = l+s;    // Total quantum number\n",
"// Now by cosine rule of L-S coupling\n",
"// cos(theta) = (j*(j+1)-l*(l+1)-s*(s+1))/(2*sqrt(s*(s+1))*sqrt(l*(l+1))), solving for theta\n",
"theta = acosd((l*(l+1)+s*(s+1)-j*(j+1))/(2*sqrt(s*(s+1))*sqrt(l*(l+1))));    // Angle between l and s for 2D(3/2) state\n",
"printf('\nThe angle between l and s for 2D(3/2) state = %5.1f degrees', theta);\n",
"// Result \n",
"// The angle between l and s for 2D(3/2) state = 118.1 degrees "
   ]
   }
],
"metadata": {
		  "kernelspec": {
		   "display_name": "Scilab",
		   "language": "scilab",
		   "name": "scilab"
		  },
		  "language_info": {
		   "file_extension": ".sce",
		   "help_links": [
			{
			 "text": "MetaKernel Magics",
			 "url": "https://github.com/calysto/metakernel/blob/master/metakernel/magics/README.md"
			}
		   ],
		   "mimetype": "text/x-octave",
		   "name": "scilab",
		   "version": "0.7.1"
		  }
		 },
		 "nbformat": 4,
		 "nbformat_minor": 0
}
