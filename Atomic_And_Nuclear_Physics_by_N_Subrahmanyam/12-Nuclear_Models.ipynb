{
"cells": [
 {
		   "cell_type": "markdown",
	   "metadata": {},
	   "source": [
       "# Chapter 12: Nuclear Models"
	   ]
	},
{
		   "cell_type": "markdown",
		   "metadata": {},
		   "source": [
			"## Example 12.10: Rate_of_Fission_of_U_235.sci"
		   ]
		  },
  {
"cell_type": "code",
	   "execution_count": null,
	   "metadata": {
	    "collapsed": true
	   },
	   "outputs": [],
"source": [
"// Scilab Code Ex12.10 Rate of fission of U-235 : Pg: 249 (2008)\n",
"N = 6.023e+026;    // Avogadro's number, No. of atoms per kg\n",
"e = 1.6e-019;    // Energy equivalent of 1 eV, J/eV\n",
"P = 1;    // Average power generation, J/s\n",
"U = P*365*24*60*60;    // Energy required in one year, J\n",
"U1 = 200e+06*e;    // Energy produced by one atom fission of U-235\n",
"n = U/U1;    // Number of atoms undergoing fission per year\n",
"M = n/N;    // Mass of U-235 required per year, kg\n",
"printf('\nThe rate of fission of U-235 per year = %5.3e kg', M);\n",
"// Result \n",
"// The rate of fission of U-235 per year = 1.636e-009 kg "
   ]
   }
,
{
		   "cell_type": "markdown",
		   "metadata": {},
		   "source": [
			"## Example 12.11: Energy_Released_During_Fission_of_U_235.sci"
		   ]
		  },
  {
"cell_type": "code",
	   "execution_count": null,
	   "metadata": {
	    "collapsed": true
	   },
	   "outputs": [],
"source": [
"// Scilab Code Ex12.11 Energy released during fission of U-235: Pg: 250 (2008)\n",
"N = 6.023e+023;    // Avogadro's number\n",
"A = 235;    // Mass number of U-235\n",
"n = N/235;    // Number of atoms in 1g of U-235\n",
"E = 200;    // Energy produced by fission of 1 U-235 atom, MeV\n",
"U = n*E;    // Energy produced by fission of 1g of U-235 atoms, MeV\n",
"printf('\nThe energy produced by fission of 1g of U-235 atoms = %5.3e MeV', U);\n",
"// Result\n",
"// The energy produced by fission of 1g of U-235 atoms = 5.126e+023 MeV"
   ]
   }
,
{
		   "cell_type": "markdown",
		   "metadata": {},
		   "source": [
			"## Example 12.12: Minimum_Energy_of_Gamma_Photon_for_Pair_Production.sci"
		   ]
		  },
  {
"cell_type": "code",
	   "execution_count": null,
	   "metadata": {
	    "collapsed": true
	   },
	   "outputs": [],
"source": [
"// Scilab Code Ex12.12 Minimum energy of gamma photon for pair production: Pg: 250 (2008)\n",
"c = 3.0e+08;    // Speed of light, m/s\n",
"me = 9.1e-031;    // Mass of electron, kg\n",
"e = 1.6e-019;    // Energy equivalent of 1 eV, J/eV\n",
"mp = me;    // Mass of positron, kg\n",
"U = (me+mp)*c^2/(e*1e+06);    // Energy of gamma-ray photon, MeV\n",
"printf('\nThe energy of gamma-ray photon = %5.3f MeV', U);\n",
"// Result\n",
"// The energy of gamma-ray photon = 1.024 MeV "
   ]
   }
,
{
		   "cell_type": "markdown",
		   "metadata": {},
		   "source": [
			"## Example 12.13: Uranium_Atom_Undergoing_Fission_in_a_Reactor.sci"
		   ]
		  },
  {
"cell_type": "code",
	   "execution_count": null,
	   "metadata": {
	    "collapsed": true
	   },
	   "outputs": [],
"source": [
"// Scilab Code Ex12.13 Uranium atom undergoing fission in a reactor: Pg: 250 (2008)\n",
"P_out = 800e+06;    // Output power of the reactor, J/s\n",
"E1 = P_out*24*60*60;    // Energy required one day, J\n",
"eta = 0.25;    // Efiiciency of reactor\n",
"N=poly(0,'N');    // Declare N as the variable\n",
"E2 = N*200e+06*1.6e-019*eta;    // Useful energy produced by N atoms in a day, J\n",
"N=roots(E2-E1);        // Number of U-235 atoms consumed in one day\n",
"m = N*235/6.023e+026;    // Mass of uranium consumption in one day, kg\n",
"printf('\nThe number of U-235 atoms consumed in one day = %4.2e atoms', N);\n",
"printf('\nThe mass of uranium consumption in one day = %4.2f kg', m);\n",
"\n",
"// Result\n",
"// The number of U-235 atoms consumed in one day = 8.64e+024 atoms\n",
"// The mass of uranium consumption in one day = 3.37 kg "
   ]
   }
,
{
		   "cell_type": "markdown",
		   "metadata": {},
		   "source": [
			"## Example 12.14: Amount_of_Uranium_Fuel_Required_For_One_Day_Operation.sci"
		   ]
		  },
  {
"cell_type": "code",
	   "execution_count": null,
	   "metadata": {
	    "collapsed": true
	   },
	   "outputs": [],
"source": [
"// Scilab Code Ex12.14 Amount of uranium fuel required for one day operation: Pg: (2008)\n",
"e = 1.6e-019;    // Energy equivalent of 1 eV, J/eV\n",
"eta = 0.20;    // Efficiency of the nuclear reactor\n",
"E1 = 100e+06*24*60*60;    // Average energy required per day, J\n",
"m = poly(0,'m');    // Suppose amount of fuel required be m kg\n",
"n = m*6.023e+026/235;    // Number of uranium atoms\n",
"E = 200e+06*e;    // Energy released per fission of U-235, J\n",
"U = E*n;    // Total energy released by fission of U-235, J\n",
"E2 = U*eta;    // Useful energy produced by n atoms in a day, J\n",
"m = roots(E2-E1);  \n",
"printf('\nThe mass of uranium fuel required for one day operation = %6.4f kg/day', m);\n",
"// Result\n",
"// The mass of uranium fuel required for one day operation = 0.5267 kg/day "
   ]
   }
,
{
		   "cell_type": "markdown",
		   "metadata": {},
		   "source": [
			"## Example 12.15: Binding_Energy_of_Fe_Using_Weizsaecker_Formula.sci"
		   ]
		  },
  {
"cell_type": "code",
	   "execution_count": null,
	   "metadata": {
	    "collapsed": true
	   },
	   "outputs": [],
"source": [
"// Scilab Code Ex12.15 Binding energy of Fe using Weizsaecker formula: Pg: 251 (2008)\n",
"amu = 931.5;    // Energy equivalent of 1 amu, MeV\n",
"A = 56;    // Mass number of Fe\n",
"Z = 26;    // Atomic number of Fe\n",
"av = 15.7;    // Binding energy per nucleon due to volume effect, MeV\n",
"as = 17.8;    // Surface energy constant, MeV\n",
"ac = 0.711;    // Coulomb energy constant, MeV\n",
"aa = 23.7;    // asymmetric energy constant, MeV\n",
"ap = 11.18;    // Pairing energy constant, MeV\n",
"BE = av*A - as*A^(2/3) - ac*Z^2*A^(-1/3)-aa*(A-2*Z)^2*A^(-1)+ap*A^(-1/2);    // Weizsaecker Semiempirical mass formula\n",
"M_Fe = 55.939395;    // Atomic mass of Fe-56\n",
"mp = 1.007825;    // Mass of proton, amu\n",
"mn = 1.008665;    // Mass of neutron, amu\n",
"E_B = (Z*mp+(A-Z)*mn-M_Fe)*amu;    // Binding energy of Fe-56, MeV\n",
"printf('\nThe binding energy of Fe-56 using Weizsaecker formula = %6.2f MeV', BE);\n",
"printf('\nThe binding energy of Fe-56 using mass defect = %6.2f MeV', E_B);\n",
"printf('\nThe result of the semi empirical formula agrees with the experimental value within %3.1f percent', abs((BE-E_B)/BE*100));\n",
"// Result\n",
"// The binding energy of Fe-56 using Weizsaecker formula = 487.75 MeV\n",
"// The binding energy of Fe-56 using mass defect = 488.11 MeV \n",
"// The result of the semi empirical formula agrees with the experimental value within 0.1 percent "
   ]
   }
,
{
		   "cell_type": "markdown",
		   "metadata": {},
		   "source": [
			"## Example 12.1: Rate_of_Consumption_of_U235_Per_Year.sci"
		   ]
		  },
  {
"cell_type": "code",
	   "execution_count": null,
	   "metadata": {
	    "collapsed": true
	   },
	   "outputs": [],
"source": [
"// Scilab Code Ex12.1 Rate of consumption of U-235 per year: Pg:246 (2008)\n",
"e = 1.6e-019;    // Energy equivalent of 1 eV, J/eV\n",
"amu = 1.6e-027;    // Mass of a nucleon, kg\n",
"P_out = 250e+06;    // Output power of nuclear reactor, J/s\n",
"E = 200e+06*e;    // Energy released per fission of U-235, J\n",
"n = P_out/E;    // Number of fissions per second\n",
"m = 235*amu;    // Mass of a nucleon, kg\n",
"m_sec = m*n;    // Consumption per second of U-235, kg\n",
"m_year = m_sec*365*24*60*60;    // Consumption per year of U-235, kg\n",
"printf('\nThe rate of consumption of U-235 per year = %5.2f kg', m_year);\n",
"// Result \n",
"// The rate of consumption of U-235 per year = 92.64 kg "
   ]
   }
,
{
		   "cell_type": "markdown",
		   "metadata": {},
		   "source": [
			"## Example 12.2: Rate_of_Fission_of_U_235.sci"
		   ]
		  },
  {
"cell_type": "code",
	   "execution_count": null,
	   "metadata": {
	    "collapsed": true
	   },
	   "outputs": [],
"source": [
"// Scilab Code Ex12.2 Rate of fission of U-235: Pg:246 (2008)\n",
"e = 1.6e-019;    // Energy equivalent of 1 eV, J/eV\n",
"E1 = 32e+06;    // Energy released per second, J\n",
"E2 = 200e+06;    // Energy released per fission, J\n",
"N = E1/E2;    // Number of atoms undergoing fission per second\n",
"printf('\nThe number of atoms undergoing fission per second = %1.0e', N/e);\n",
"// Result \n",
"// The number of atoms undergoing fission per second = 1e+018 "
   ]
   }
,
{
		   "cell_type": "markdown",
		   "metadata": {},
		   "source": [
			"## Example 12.3: Binding_Energy_of_Helium_Nucleus.sci"
		   ]
		  },
  {
"cell_type": "code",
	   "execution_count": null,
	   "metadata": {
	    "collapsed": true
	   },
	   "outputs": [],
"source": [
"// Scilab Code Ex12.3 Binding energy of helium nucleus: Pg: 247 (2008)\n",
"e = 1.6e-019;    // Energy equivalent of 1 eV, J/eV\n",
"amu = 931;    // Energy equivalent of 1 amu, MeV\n",
"m = 2*1.007825+2*1.008665-4.002603;    // Mass difference in formation of He, amu\n",
"E = m*amu;    // Energy equivalent of mass difference for He nucleus, MeV\n",
"printf('\nThe minimum energy required to break He nucleus = %5.2f MeV', E);\n",
"// Result \n",
"// The minimum energy required to break He nucleus = 28.28 MeV "
   ]
   }
,
{
		   "cell_type": "markdown",
		   "metadata": {},
		   "source": [
			"## Example 12.4: Energy_Released_During_Fusion_of_Deuterium_Nuclei.sci"
		   ]
		  },
  {
"cell_type": "code",
	   "execution_count": null,
	   "metadata": {
	    "collapsed": true
	   },
	   "outputs": [],
"source": [
"// Scilab Code Ex12.4 Energy released during fusion of deuterium nuclei: PG: 247 (2008)\n",
"e = 1.6e-019;    // Energy equivalent of 1 eV, J/eV\n",
"amu = 931.5;    // Energy equivalent of 1 amu, MeV\n",
"M_H = 2.014102;    // Mass of hydrogen nucleus, amu\n",
"M_He = 4.002603;    // Mass of helium nucleus, amu\n",
"m = 2*M_H-M_He;    // Mass difference, amu\n",
"E = m*amu;    // Energy released during fusion of deuterium nuclei, MeV\n",
"printf('\nThe energy released during fusion of deuterium nuclei = %6.3f MeV', E);\n",
"// Result \n",
"// The energy released during fusion of deuterium nuclei = 23.847 MeV "
   ]
   }
,
{
		   "cell_type": "markdown",
		   "metadata": {},
		   "source": [
			"## Example 12.5: Energy_Required_to_Break_One_Gram_Mole_of_Helium.sci"
		   ]
		  },
  {
"cell_type": "code",
	   "execution_count": null,
	   "metadata": {
	    "collapsed": true
	   },
	   "outputs": [],
"source": [
"// Scilab Code Ex12.5 Energy required to break one gram mole of helium: Pg: 247 (2008)\n",
"amu = 931.5;    // Energy equivalent of 1 amu, MeV\n",
"mp = 1.007825;    // Mass of proton, amu\n",
"mn = 1.008665;    // Mass of neutron, amu\n",
"M_He = 4.002603;    // Mass of helium nucleus, amu\n",
"N = 6.023e+023;    // Avogadro's number, g/mol\n",
"m = 2*mp+2*mn-M_He;    // Mass difference, amu\n",
"E1 = m*amu;    // Energy required to break one atom of He, MeV\n",
"E = N*E1;    // Energy required to break one gram mole of He, MeV\n",
"printf('\nThe energy required to break one gram mole of He = %5.3e MeV', E);\n",
"// Result \n",
"// The energy required to break one gram mole of He = 1.704e+025 MeV "
   ]
   }
,
{
		   "cell_type": "markdown",
		   "metadata": {},
		   "source": [
			"## Example 12.6: Energy_Liberated_During_Production_of_Alpha_Particles.sci"
		   ]
		  },
  {
"cell_type": "code",
	   "execution_count": null,
	   "metadata": {
	    "collapsed": true
	   },
	   "outputs": [],
"source": [
"// Scilab Code Ex12.6 Energy liberated during production of alpha particles: Pg: 248 (2008)\n",
"amu = 931;    // Energy equivalent of 1 amu, MeV\n",
"mp = 1.007825;    // Mass of proton, amu\n",
"M_Li = 7.016005;    // Mass of lithium nucleus, amu\n",
"M_He = 4.002604;    // Mass of helium nucleus, amu\n",
"dm = M_Li+mp-2*M_He;    // Mass difference, amu\n",
"disp(dm)\n",
"U = dm*amu;    // Energy liberated during production of two alpha particles, MeV\n",
"printf('\nThe energy liberated during production of two alpha particles = %5.2f MeV', U);\n",
"// Result \n",
"// The energy liberated during production of two alpha particles = 17.34 MeV  "
   ]
   }
,
{
		   "cell_type": "markdown",
		   "metadata": {},
		   "source": [
			"## Example 12.7: Kinetic_Energy_of_Neutrons.sci"
		   ]
		  },
  {
"cell_type": "code",
	   "execution_count": null,
	   "metadata": {
	    "collapsed": true
	   },
	   "outputs": [],
"source": [
"// Scilab Code Ex12.7 Kinetic energy of neutrons: Pg: 248 (2008)\n",
"d = 2.2;    // Binding energy of deuterium, MeV\n",
"H3 = 8.5;    // Binding energy of tritium, MeV\n",
"He4 = 28.3;    // Binding energy of helium, MeV\n",
"KE = He4-d-H3;    // Kinetic energy of the neutron, MeV\n",
"printf('\nThe kinetic energy of the neutron = %4.1f MeV', KE);\n",
"// Result \n",
"// The kinetic energy of the neutron = 17.6 MeV "
   ]
   }
,
{
		   "cell_type": "markdown",
		   "metadata": {},
		   "source": [
			"## Example 12.8: Consumption_Rate_of_U_235.sci"
		   ]
		  },
  {
"cell_type": "code",
	   "execution_count": null,
	   "metadata": {
	    "collapsed": true
	   },
	   "outputs": [],
"source": [
"// Scilab Code Ex12.8 Consumption rate of U-235: Pg: 248 (2008)\n",
"N = 6.023e+026;    // Avogadro's number, No. of atoms per kg\n",
"e = 1.6e-019;    // Energy equivalent of 1 eV, J/eV\n",
"P = 100e+06;    // Average power generation, J/s\n",
"U = P*365*24*60*60;    // Energy required in one year, J\n",
"U1 = 180e+06*e;    // Energy produced by one atom fission of U-235\n",
"n = U/U1;    // Number of atoms required to produce energy in one year\n",
"M = n*235/N;    // Mass of U-235 required per year, kg\n",
"printf('\nThe rate of consumption of U-235 per year = %7.4f kg', M);\n",
"// Result \n",
"// The rate of consumption of U-235 per year = 42.7237 kg  "
   ]
   }
,
{
		   "cell_type": "markdown",
		   "metadata": {},
		   "source": [
			"## Example 12.9: Minimum_Disintegraton_Energy_of_Nucleus.sci"
		   ]
		  },
  {
"cell_type": "code",
	   "execution_count": null,
	   "metadata": {
	    "collapsed": true
	   },
	   "outputs": [],
"source": [
"// Scilab Code Ex12.9 Minimum disintegraton energy of nucleus: Pg: 249 (2008)\n",
"mn = 1.008665;    // Mass of neutron, amu\n",
"mp = 1.007276;    // Mass of proton, amu\n",
"amu = 931;    // Energy equivalent of 1 amu, MeV\n",
"BE = 2.21;    // Binding energy of deutron nucleus, MeV\n",
"E = BE/amu;    // Binding energy of deutron nucleus, amu\n",
"M_D = mp+mn-E;    // Mass of deuterium nucleus, amu\n",
"printf('\nThe mass of deuterium nucleus = %8.6f amu', M_D);\n",
"// Result \n",
"// The mass of deuterium nucleus = 2.013567 amu "
   ]
   }
],
"metadata": {
		  "kernelspec": {
		   "display_name": "Scilab",
		   "language": "scilab",
		   "name": "scilab"
		  },
		  "language_info": {
		   "file_extension": ".sce",
		   "help_links": [
			{
			 "text": "MetaKernel Magics",
			 "url": "https://github.com/calysto/metakernel/blob/master/metakernel/magics/README.md"
			}
		   ],
		   "mimetype": "text/x-octave",
		   "name": "scilab",
		   "version": "0.7.1"
		  }
		 },
		 "nbformat": 4,
		 "nbformat_minor": 0
}
