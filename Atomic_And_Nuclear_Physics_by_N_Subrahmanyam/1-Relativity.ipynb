{
"cells": [
 {
		   "cell_type": "markdown",
	   "metadata": {},
	   "source": [
       "# Chapter 1: Relativity"
	   ]
	},
{
		   "cell_type": "markdown",
		   "metadata": {},
		   "source": [
			"## Example 1.10: Heat_Equivalent_of_Mass.sci"
		   ]
		  },
  {
"cell_type": "code",
	   "execution_count": null,
	   "metadata": {
	    "collapsed": true
	   },
	   "outputs": [],
"source": [
"// Scilab Code Ex1.10 Heat equivalent of mass: Pg:23 (2008)\n",
"c = 3e+08;    // Speed of light, m/s\n",
"J = 4.18;    // Joule's equivalent of heat, joule per calorie\n",
"m = 4.18e-03;    // Mass of the substance, kg\n",
"U = m*c^2;    // Energy equivalent of mass, J\n",
"Q = U/J;    // Heat equivalent of mass, calorie\n",
"printf('\nThe heat equivalent of mass = %1.0e cal', Q);\n",
"// Result \n",
"// The heat equivalent of mass = 9e+013 cal"
   ]
   }
,
{
		   "cell_type": "markdown",
		   "metadata": {},
		   "source": [
			"## Example 1.11: Variation_of_Space_and_Time.sci"
		   ]
		  },
  {
"cell_type": "code",
	   "execution_count": null,
	   "metadata": {
	    "collapsed": true
	   },
	   "outputs": [],
"source": [
"// Scilab Code Ex1.11 Variation of space and time: Pg: 23 (2008)\n",
"L = 0.5;    // Shortened length of the rod, m\n",
"L0 = 1;    // Actual length of the rod, m\n",
"t0 = 1;    // Actual time on the spaceship, s\n",
"c = 3e+08;    // Speed of light, m/s\n",
"v = sqrt(1 - (L/L0)^2)*c;    // Speed of the spaceship, m/s\n",
"t = t0/sqrt(1 - (v/c)^2);       // Dilated time for stationary observer, s\n",
"printf('\nThe speed of light = %5.3e m/s', v);\n",
"printf('\nThe time dilation corresponding to 1 s on the spaceship = %d s', round(t));\n",
"// Result \n",
"// The speed of light = 2.598e+008 m/s\n",
"// The time dilation corresponding to 1 s on the spaceship = 2 s"
   ]
   }
,
{
		   "cell_type": "markdown",
		   "metadata": {},
		   "source": [
			"## Example 1.12: Mean_Lifetime_of_a_Moving_Meason.sci"
		   ]
		  },
  {
"cell_type": "code",
	   "execution_count": null,
	   "metadata": {
	    "collapsed": true
	   },
	   "outputs": [],
"source": [
"// Scilab Code Ex1.12 Mean lifetime of a moving meason: Pg: 24 (2008)\n",
"c = 1;    // For convenience, speed of light is assumed to be unity\n",
"t0 = 2e-08;    // Mean life time of pi-meson at rest, s\n",
"v = 0.8*c;    // Velocity of moving pi-meason, m/s\n",
"t = t0/sqrt(1-(v/c)^2);    // Mean lifetime of moving pi-meason, s\n",
"printf('\nThe mean lifetime of moving meason = %4.2e s', t);\n",
"// Result \n",
"// The mean lifetime of moving meason = 3.33e-008 s"
   ]
   }
,
{
		   "cell_type": "markdown",
		   "metadata": {},
		   "source": [
			"## Example 1.13: Velocity_of_One_Atomic_Mass_Unit.sci"
		   ]
		  },
  {
"cell_type": "code",
	   "execution_count": null,
	   "metadata": {
	    "collapsed": true
	   },
	   "outputs": [],
"source": [
"// Scilab Code Ex1.13 Velocity of one atomic mass unit: Pg: 24 (2008)\n",
"c = 1;    // For convenience, speed of light is assumed to be unity, m/s\n",
"m0 = 1;    // For convenience, rest mass is assumed to be unity\n",
"// Here 2*m0*c^2 = m*c^2 - m0*c^2 = KE which gives\n",
"m = 3*m0;    // Atomic mass in motion, kg\n",
"// As m = m0/sqrt(1 - (v/c)^2), solving for v\n",
"v = sqrt(1 - (m0/m)^2)*c;    // Velocity of one atomic mass, m/s \n",
"printf('\nThe velocity of one atomic mass = %5.3fc', v);\n",
"// Result \n",
"// The velocity of one atomic mass = 0.943c "
   ]
   }
,
{
		   "cell_type": "markdown",
		   "metadata": {},
		   "source": [
			"## Example 1.14: Speed_of_an_Electron_for_an_Equivalent_Proton_Mass.sci"
		   ]
		  },
  {
"cell_type": "code",
	   "execution_count": null,
	   "metadata": {
	    "collapsed": true
	   },
	   "outputs": [],
"source": [
"// Scilab Code Ex1.14 Speed of an electron for an equivalent proton mass: Pg: 25 (2008)\n",
"c = 3e+08;    // Speed of light, m/s\n",
"m0 = 1;    // For convenience, rest mass of an electron is assumed to be unity\n",
"m = 2000*m0;    // Rest mass of a proton, units\n",
"// As m = m0/sqrt(1 - (v/c)^2), solving for v\n",
"v = sqrt(1 - (m0/m)^2)*c;    // Speed of the moving electron, m/s \n",
"printf('\nThe speed of the moving electron = %4.2e m/s (approx.)', v);\n",
"// Result \n",
"// The speed of the moving electron = 3.00e+008 m/s (approx.) "
   ]
   }
,
{
		   "cell_type": "markdown",
		   "metadata": {},
		   "source": [
			"## Example 1.15: Speed_at_Total_Energy_Twice_the_Rest_Mass_Energy.sci"
		   ]
		  },
  {
"cell_type": "code",
	   "execution_count": null,
	   "metadata": {
	    "collapsed": true
	   },
	   "outputs": [],
"source": [
"// Scilab Code Ex1.15 Speed at total energy twice the rest mass energy: Pg: 25 (2008)\n",
"c = 1;    // Speed of light is assumed to be unity, m/s\n",
"m0 = 1;    // For convenience, rest mass of the particle is assumed to be unity, kg\n",
"m = 2*m0;    // Mass of the moving particle when m*c^2 = 2*m0*c^2, kg\n",
"// As m = m0/sqrt(1 - (v/c)^2), solving for v\n",
"v = sqrt(1 - (m0/m)^2)*c;    // Speed of the moving particle, m/s \n",
"printf('\nThe speed of the moving  particle = %5.3fc', v);\n",
"// Result \n",
"// The speed of the moving  particle = 0.866c "
   ]
   }
,
{
		   "cell_type": "markdown",
		   "metadata": {},
		   "source": [
			"## Example 1.16: Relative_Velocity_and_Mass.sci"
		   ]
		  },
  {
"cell_type": "code",
	   "execution_count": null,
	   "metadata": {
	    "collapsed": true
	   },
	   "outputs": [],
"source": [
"// Scilab Code Ex1.16 Relative velocity and mass: Pg:26 (2008)\n",
"c = 3e+08;    // Speed of light, m/s\n",
"u = 2e+08;    // Speed of first particle, m/s\n",
"v = -2e+08;    // Speed of second particle, m/s\n",
"u_prime = (u - v)/(1 - u*v/c^2);    // Velocity addition rule giving relative velocity, m/s\n",
"m0 = 3e-025;    // Rest mass of each particle, kg\n",
"m = m0/sqrt(1 - (u_prime/c)^2);    // Mass of one particle relative to the other, kg\n",
"printf('\nThe relative speed of one particle w.r.t the other = %5.3e m/s', u_prime);\n",
"printf('\nThe mass of one particle relative to the other = %3.1e kg', m);\n",
"// Result \n",
"// The relative speed of one particle w.r.t the other = 2.769e+008 m/s\n",
"// The mass of one particle relative to the other = 7.8e-025 kg \n",
" "
   ]
   }
,
{
		   "cell_type": "markdown",
		   "metadata": {},
		   "source": [
			"## Example 1.17: Relativistic_Variation_of_density_with_Velocity.sci"
		   ]
		  },
  {
"cell_type": "code",
	   "execution_count": null,
	   "metadata": {
	    "collapsed": true
	   },
	   "outputs": [],
"source": [
"// Scilab Code Ex1.17 Relativistic variation of density with velocity: Pg: 26 (2008)\n",
"c = 1;    // Speed of light is assumed to be unity for convenience, m/s\n",
"v = 0.9*c;    // Speed of moving frame, m/s\n",
"rho_0 = 19.3e+03;    // Density of gold in rest frame, kg metre per cube\n",
"L0 = 1;    // Actual length is assumed to be unity, m\n",
"m0 = 1;    // Rest mass of gold is assumed to be unity, kg\n",
"V0 = m0/rho_0;    // Volume of gold in rest frame, metre cube\n",
"L = L0*sqrt(1 - (v/c)^2);    // Relativistic Length Contraction Formula, m\n",
"y = 1;    // Width of gold block is assumed to be unity, m\n",
"z = 1;    // Height of gold block is assumed to be unity, m\n",
"V = L*y*z*V0;    // Volume of gold as observed from moving frame, metre cube\n",
"m = m0/sqrt(1 - (v/c)^2);    // Mass of gold as observed from moving frame, kg\n",
"rho = m/V;    // Density of gold as observed from moving frame, kg per metre cube\n",
"printf('\nThe density of gold as observed from moving frame = %5.1fe+003 kg per metre cube', rho/1e+03);\n",
"// Result \n",
"// The density of gold as observed from moving frame = 101.6e+003 kg per metre cube \n",
" "
   ]
   }
,
{
		   "cell_type": "markdown",
		   "metadata": {},
		   "source": [
			"## Example 1.18: Electrons_Accelerated_to_Relativistic_Speeds.sci"
		   ]
		  },
  {
"cell_type": "code",
	   "execution_count": null,
	   "metadata": {
	    "collapsed": true
	   },
	   "outputs": [],
"source": [
"// Scilab Code Ex1.18 Electrons accelerated to relativistic speeds: Pg: 27 (2008)\n",
"U = 1e+09*1.6e-019;    // Kinetic energy of the electrons, J\n",
"// As U = m*c^2, solving for m\n",
"m = U/c^2;    // Mass of moving electrons, kg\n",
"m0 = 9.1e-031;    // Rest mass of an electron, kg\n",
"mass_ratio = m/m0;    // Ratio of a moving electron mass to its rest mass \n",
"c = 3e+08;    // Speed of light, m/s\n",
"// As m = m0/sqrt(1 - (v/c)^2), Relativistic mass of electron, kg, solving for v, we have\n",
"v = sqrt(1 - (m0/m)^2)*c;    // Velocity of moving electron, m/s\n",
"vel_ratio = v/c;    // Ratio of electron velocity to the velocity of light\n",
"U0 = m0*c^2;    // Rest mass energy of electron, J\n",
"ene_ratio = U/U0;    // Ratio of electron energy to its rest mass energy\n",
"printf('\nThe ratio of a moving electron mass to its rest mass %4.2e', mass_ratio);\n",
"printf('\nThe ratio of electron velocity to the velocity of light = 1 - %5.3e', (1-vel_ratio^2)/2);\n",
"printf('\nThe ratio of electron energy to its rest mass energy = %5.3e', ene_ratio);\n",
"// Result \n",
"// The ratio of a moving electron mass to its rest mass 1.95e+003\n",
"// The ratio of electron velocity to the velocity of light = 1 - 1.310e-007\n",
"// The ratio of electron energy to its rest mass energy = 1.954e+003 \n",
" "
   ]
   }
,
{
		   "cell_type": "markdown",
		   "metadata": {},
		   "source": [
			"## Example 1.19: Electron_Speed_Equivalent_of_Twice_its_Rest_Mass.sci"
		   ]
		  },
  {
"cell_type": "code",
	   "execution_count": null,
	   "metadata": {
	    "collapsed": true
	   },
	   "outputs": [],
"source": [
"// Scilab Code Ex1.19 Electron speed equivalent of twice its rest mass: Pg: 28 (2008)\n",
"m0 = 9.1e-031;    // Rest mass of an electron, kg\n",
"m = 2*m0;    // Mass of moving electron, kg\n",
"c = 3e+08;    // Speed of light, m/s\n",
"// As m = m0/sqrt(1 - (v/c)^2), Relativistic mass of electron, kg, solving for v, we have\n",
"v = sqrt(1 - (m0/m)^2)*c;    // Velocity of moving electron, m/s\n",
"printf('\nThe speed of electron so that its mass becomes twice its rest mass = %5.3e m/s', v);\n",
"// Result \n",
"// The speed of electron so that its mass becomes twice its rest mass = 2.598e+008 m/s \n",
"\n",
" "
   ]
   }
,
{
		   "cell_type": "markdown",
		   "metadata": {},
		   "source": [
			"## Example 1.1: Relative_Speed_of_Approach.sci"
		   ]
		  },
  {
"cell_type": "code",
	   "execution_count": null,
	   "metadata": {
	    "collapsed": true
	   },
	   "outputs": [],
"source": [
"// Scilab Code Ex1.1 Relative Speed of approach: Pg:20 (2008)\n",
"c = 1;    // For the sake of simplicity, assume c = 1, m/s\n",
"u = 0.87*c;    // Velocity of approach of spaceship A towards spaceship B, m/s\n",
"v = -0.63*c;    // Velocity of approach of spaceship B towards spaceship A, m/s\n",
"V = (u - v)/(1 - (u*v)/c^2);    // Velocity Addition Rule giving relative speed of approach of particles, m/s\n",
"printf('\nThe relative speed of approach of particles = %6.4fc', V);\n",
"// Result \n",
"// The relative speed of approach of particles = 0.9689c "
   ]
   }
,
{
		   "cell_type": "markdown",
		   "metadata": {},
		   "source": [
			"## Example 1.20: Electron_Speed_Equivalent_of_Twice_its_Rest_Mass.sci"
		   ]
		  },
  {
"cell_type": "code",
	   "execution_count": null,
	   "metadata": {
	    "collapsed": true
	   },
	   "outputs": [],
"source": [
"// Scilab Code Ex1.20 Electron speed equivalent of twice its rest mass: Pg: 28 (2008)\n",
"m0 = 9.1e-031;    // Rest mass of an electron, kg\n",
"m = 2*m0;    // Mass of moving electron, kg\n",
"c = 3e+08;    // Speed of light, m/s\n",
"// As m = m0/sqrt(1 - (v/c)^2), Relativistic mass of electron, kg, solving for v, we have\n",
"v = sqrt(1 - (m0/m)^2)*c;    // Velocity of moving electron, m/s\n",
"printf('\nThe speed of electron so that its mass becomes twice its rest mass = %5.3e m/s', v);\n",
"// Result \n",
"// The speed of electron so that its mass becomes twice its rest mass = 2.598e+008 m/s "
   ]
   }
,
{
		   "cell_type": "markdown",
		   "metadata": {},
		   "source": [
			"## Example 1.21: Fractional_Speed_of_Electron.sci"
		   ]
		  },
  {
"cell_type": "code",
	   "execution_count": null,
	   "metadata": {
	    "collapsed": true
	   },
	   "outputs": [],
"source": [
"// Scilab Code Ex1.21 Fractional speed of electron: Pg:29 (2008)\n",
"m0 = 9.1e-031;    // Rest mass of an electron, kg\n",
"c = 3e+08;    // Speed of light, m/s\n",
"E = 0.5*1e+06*1.6e-019;    // Kinetic energy of electron, J\n",
"// As E = (m - m0)*c^2, solving for m\n",
"m = E/c^2+m0;    // Mass of moving electron, kg\n",
"// As m = m0/sqrt(1 - (v/c)^2), Relativistic mass of electron, kg, solving for v, we have\n",
"v = sqrt(1 - (m0/m)^2)*c;    // Velocity of moving electron, m/s\n",
"printf('\nThe speed of electron relative to speed of light = %5.3f', v/c);\n",
"// Result \n",
"// The speed of electron relative to speed of light = 0.863 "
   ]
   }
,
{
		   "cell_type": "markdown",
		   "metadata": {},
		   "source": [
			"## Example 1.22: Effective_Mass_and_Speed_of_Electron.sci"
		   ]
		  },
  {
"cell_type": "code",
	   "execution_count": null,
	   "metadata": {
	    "collapsed": true
	   },
	   "outputs": [],
"source": [
"// Scilab Code Ex1.22 Effective mass and speed of electron: Pg: 29 (2008)\n",
"c = 3e+08;    // Speed of light, m/s\n",
"e = 1.6e-019;    // Electron-volt equivalent of 1 joule, eV/joule\n",
"U = 2*1e+06*e;    // Total energy of electron, J\n",
"// As E = (m - m0)*c^2, solving for m\n",
"m = U/c^2;    // Effective mass of electron, kg\n",
"m0 = 0.511*1e+06*e/c^2;    // Rest mass of the electron, kg\n",
"// As m = m0/sqrt(1 - (v/c)^2), Relativistic mass of electron, kg, solving for v, we have\n",
"v = sqrt(1 - (m0/m)^2)*c;    // Velocity of moving electron, m/s\n",
"printf('\nThe effective mass of electron = %4.1e kg', m);\n",
"printf('\nThe relativistic speed of electron = %4.2fc m', v/c);\n",
"// Result \n",
"// The effective mass of electron = 3.6e-030 kg\n",
"// The relativistic speed of electron = 0.97c m "
   ]
   }
,
{
		   "cell_type": "markdown",
		   "metadata": {},
		   "source": [
			"## Example 1.23: Energy_Released_in_Fission.sci"
		   ]
		  },
  {
"cell_type": "code",
	   "execution_count": null,
	   "metadata": {
	    "collapsed": true
	   },
	   "outputs": [],
"source": [
"// Scilab Code Ex1.23 Energy released in fission: Pg: 30 (2008)\n",
"c = 3e+08;    // Speed of light, m/s\n",
"e = 1.6e-019;    // Charge on an electron, coulomb\n",
"r0 = 1.2e-015;    // Equilibrium nuclear radius, m\n",
"A = 238;    // Twice the mass of each fragment\n",
"q1 = 46*e;    // Charge on first fragment, coulomb\n",
"q2 = 46*e;    // Charge on second fragment, coulomb\n",
"R = r0*(A/2)^(1/3);\n",
"d = 2*R;    // Distance between two fragments, m\n",
"U = q1*q2*9e+09/d;    // Energy released in fission, J\n",
"printf('\nThe energy released in fission of U(92,238) = %3d MeV', U/(e*1e+06));\n",
"// Result \n",
"// The energy released in fission of U(92,238) = 258 MeV  "
   ]
   }
,
{
		   "cell_type": "markdown",
		   "metadata": {},
		   "source": [
			"## Example 1.24: Relativistic_Speed_Form_Relativistic_Mass.sci"
		   ]
		  },
  {
"cell_type": "code",
	   "execution_count": null,
	   "metadata": {
	    "collapsed": true
	   },
	   "outputs": [],
"source": [
"// Scilab Code Ex1.24 Relativistic speed form relativistic mass: Pg: 30 (2008)\n",
"c = 3e+08;    // Speed of light, m/s    \n",
"m0 = 1/2;    // Rest mass of the particle, MeV/c^2\n",
"m = 1/sqrt(2);    // Relativistic mass of the particle, MeV/c^2\n",
"// As m = m0/sqrt(1 - (v/c)^2), Relativistic mass of electron, kg, solving for v, we have\n",
"v = sqrt(1 - (m0/m)^2)*c;    // Relativistic velocity of particle, m/s\n",
"printf('\nThe relativistic velocity of particle = %4.2e m/s', v);\n",
"// Result \n",
"// The relativistic velocity of particle = 2.12e+008 m/s "
   ]
   }
,
{
		   "cell_type": "markdown",
		   "metadata": {},
		   "source": [
			"## Example 1.25: Decay_of_muo.sci"
		   ]
		  },
  {
"cell_type": "code",
	   "execution_count": null,
	   "metadata": {
	    "collapsed": true
	   },
	   "outputs": [],
"source": [
"// Scilab Code Ex1.25 Decay of muon: Pg: 31 (2008)\n",
"c = 3e+08;    // Speed of light, m/s \n",
"v = 0.992*c;    // Relativistic speed of muon, m/s\n",
"S = 60*1e+03;    // Distance travelled by muon before it decays, m\n",
"t_prime = S/v;    // Time measured by observer on earth (Dilated Time), s\n",
"t = t_prime*sqrt(1 - (v/c)^2);    // Time measured by muon in its own frame, s  \n",
"s = v*t;    // Distance covered by the muon in its own frame of reference, m   \n",
"printf('\nThe time measured by observer on earth (Dilated Time) = %5.3e s', t_prime);\n",
"printf('\nThe time measured by muon in its own frame = %4.2e s', t);\n",
"printf('\nThe distance covered by the muon in its own frame of reference = %4.2f km', s/1e+03);\n",
"// Result \n",
"// The time measured by observer on earth (Dilated Time) = 2.016e-004 s\n",
"// The time measured by muon in its own frame = 2.55e-005 s\n",
"// The distance covered by the muon in its own frame of reference = 7.57 km "
   ]
   }
,
{
		   "cell_type": "markdown",
		   "metadata": {},
		   "source": [
			"## Example 1.26: Decay_of_Unstable_Particle.sci"
		   ]
		  },
  {
"cell_type": "code",
	   "execution_count": null,
	   "metadata": {
	    "collapsed": true
	   },
	   "outputs": [],
"source": [
"// Scilab Code Ex1.26 Decay of unstable particle: Pg: 31 (2008)\n",
"c = 3e+08;    // Speed of light, m/s \n",
"v = 0.9*c;    // Relativistic speed of unstable particle, m/s\n",
"t0 = 1e-06;    // Time of decay of unstable particle in rest frame, s\n",
"t = t0/sqrt(1 - (v/c)^2);    //Time of decay of unstable particle in moving frame, s \n",
"s = v*t;    // Distance travelled by unstable particle before it decays in moving frame, m   \n",
"printf('\nThe distance travelled before the unstable particle decays = %4.2e m', s);\n",
"// Result \n",
"// The distance travelled before the unstable particle decays = 6.19e+002 m "
   ]
   }
,
{
		   "cell_type": "markdown",
		   "metadata": {},
		   "source": [
			"## Example 1.2: Relative_Speed_of_Spaceships.sci"
		   ]
		  },
  {
"cell_type": "code",
	   "execution_count": null,
	   "metadata": {
	    "collapsed": true
	   },
	   "outputs": [],
"source": [
"// Scilab Code Ex1.2 Relative Speed of spaceships: Pg: 20 (2008)\n",
"c = 1;    // For the sake of simplicity, assume c = 1, m/s\n",
"u = 0.9*c;    // Velocity of approach of spaceship A towards spaceship B, m/s\n",
"v = -0.9*c;    // Velocity of approach of spaceship B towards spaceship A, m/s\n",
"V = (u - v)/(1 - (u*v)/c^2);    // Velocity Addition Rule giving relative speed of approach of spaceships, m/s\n",
"printf('\nThe relative speed of B w.r.t. A = %5.3fc', V);\n",
"// Result \n",
"// The relative speed of B w.r.t. A = 0.994c "
   ]
   }
,
{
		   "cell_type": "markdown",
		   "metadata": {},
		   "source": [
			"## Example 1.3: Relativistic_Length_Contraction.sci"
		   ]
		  },
  {
"cell_type": "code",
	   "execution_count": null,
	   "metadata": {
	    "collapsed": true
	   },
	   "outputs": [],
"source": [
"// Scilab Code Ex1.3 Relativistic length contraction: Pg: 20 (2008)\n",
"L0 = 1;    // Actual length of the metre stick, m\n",
"rel_mass = 3/2;    // Relative mass of stick w.r.t. rest its mass\n",
"// As m = m0/sqrt(1 - (v/c)^2) and L =  L0*sqrt(1 - (v/c)^2)\n",
"// Thus L/m = (L0/m0)*(1 - (v/c)^2), solving for L\n",
"// L = (m0/m)*L0 i.e.\n",
"L = 1/rel_mass*L0;    // Apparent length of the metre rod, m\n",
"printf('\nThe apparent length of the metre rod = %5.3f m', L);\n",
"// Result \n",
"// The apparent length of the metre rod = 0.667 m"
   ]
   }
,
{
		   "cell_type": "markdown",
		   "metadata": {},
		   "source": [
			"## Example 1.5: Mass_Energy_Equivalence.sci"
		   ]
		  },
  {
"cell_type": "code",
	   "execution_count": null,
	   "metadata": {
	    "collapsed": true
	   },
	   "outputs": [],
"source": [
"// Scilab Code Ex1.5 Mass-Energy Equivalence: Pg: 22 (2008)\n",
"U = 7.5e+011;    // Total electrical energy generated in a country, kWh\n",
"kWh = 1000*3600;    // Conversion factor for kilowatt-hour into joule, J/kWh\n",
"c = 3e+08;    // Speed of light, m/s\n",
"m = (U*kWh)/c^2;    // Mass equivalent of energy, kg\n",
"printf('\nThe mass converted into energy = %2d kg', m);\n",
"// Result \n",
"// The mass converted into energy = 30 kg "
   ]
   }
,
{
		   "cell_type": "markdown",
		   "metadata": {},
		   "source": [
			"## Example 1.6: Energy_Equivalent_of_Mass.sci"
		   ]
		  },
  {
"cell_type": "code",
	   "execution_count": null,
	   "metadata": {
	    "collapsed": true
	   },
	   "outputs": [],
"source": [
"// Scilab Code Ex1.6 Energy equivalent of mass: Pg:22 (2008)\n",
"m = 1;    // Mass of a substance, kg\n",
"c = 3e+08;    // Speed of light, m/s\n",
"U = m*c^2;    // Energy equivalent of mass, J\n",
"printf('\nThe energy equivalent of mass = %1.0e J', U);\n",
"// Result \n",
"// The energy equivalent of mass = 9e+016 J  "
   ]
   }
,
{
		   "cell_type": "markdown",
		   "metadata": {},
		   "source": [
			"## Example 1.7: Relativistic_Variation_of_Mass_with_Speed.sci"
		   ]
		  },
  {
"cell_type": "code",
	   "execution_count": null,
	   "metadata": {
	    "collapsed": true
	   },
	   "outputs": [],
"source": [
"// Scilab Code Ex1.7 Relativistic variation of mass with speed: Pg: 22 (2008)\n",
"m0 = 1e-024;    // Mass of a particle, kg\n",
"v = 1.8e+08;    // Speed of the particle, m/s\n",
"c = 3e+08;    // Speed of light, m/s\n",
"m = m0/sqrt(1-(v/c)^2);    // Mass of the moving particle, kg\n",
"printf('\nThe mass of moving particle = %4.2e kg', m);\n",
"// Result \n",
"// The mass of moving particle = 1.25e-024 kg   "
   ]
   }
,
{
		   "cell_type": "markdown",
		   "metadata": {},
		   "source": [
			"## Example 1.8: Increase_in_Mass_of_Water.sci"
		   ]
		  },
  {
"cell_type": "code",
	   "execution_count": null,
	   "metadata": {
	    "collapsed": true
	   },
	   "outputs": [],
"source": [
"// Scilab Code Ex1.8 Increase in mass of water: Pg: 23 (2008)\n",
"c = 3e+08;    // Speed of light, m/s\n",
"T1 = 273;    // Initial temperature of water, K\n",
"T2 = 373;    // Final temperature of water, K\n",
"M = 1e+06;    // Mass of water, kg\n",
"C = 1e+03;    // Specific heat of water, cal/kg-K\n",
"J = 4.18;    // Joule's mechanical equivalent of heat, cal/joule\n",
"U = M*C*(T2 - T1)*J;    // Increase in energy of water, J\n",
"m = U/c^2;    // Increase in mass of water, kg\n",
"printf('\nThe increase in mass of water = %4.2e kg', m);\n",
"// Result \n",
"// The increase in mass of water = 4.64e-006 kg "
   ]
   }
,
{
		   "cell_type": "markdown",
		   "metadata": {},
		   "source": [
			"## Example 1.9: Ratio_of_Rest_Mass_and_Mass_in_Motion.sci"
		   ]
		  },
  {
"cell_type": "code",
	   "execution_count": null,
	   "metadata": {
	    "collapsed": true
	   },
	   "outputs": [],
"source": [
"// Scilab Code Ex1.9 Ratio of rest mass and mass in motion: Pg:23 (2008)\n",
"c = 1;    // For convenience, speed of light is assumed to be unity, m/s\n",
"v = 0.5*c;    // Velocity of moving particle, m/s\n",
"// As m0 = m*sqrt(1 - (v/c)^2), and m0/m = rel_mass, we have\n",
"rel_mass = sqrt(1 - (v/c)^2);    // Ratio of rest mass and the moving mass\n",
"printf('\nThe ratio of rest mass and the mass in motion = %6.4f kg', rel_mass);\n",
"// Result \n",
"// The ratio of rest mass and the mass in motion = 0.8660 kg "
   ]
   }
],
"metadata": {
		  "kernelspec": {
		   "display_name": "Scilab",
		   "language": "scilab",
		   "name": "scilab"
		  },
		  "language_info": {
		   "file_extension": ".sce",
		   "help_links": [
			{
			 "text": "MetaKernel Magics",
			 "url": "https://github.com/calysto/metakernel/blob/master/metakernel/magics/README.md"
			}
		   ],
		   "mimetype": "text/x-octave",
		   "name": "scilab",
		   "version": "0.7.1"
		  }
		 },
		 "nbformat": 4,
		 "nbformat_minor": 0
}
