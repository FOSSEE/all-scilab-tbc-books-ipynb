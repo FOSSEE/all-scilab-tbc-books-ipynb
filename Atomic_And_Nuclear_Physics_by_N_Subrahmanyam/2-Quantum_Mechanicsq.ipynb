{
"cells": [
 {
		   "cell_type": "markdown",
	   "metadata": {},
	   "source": [
       "# Chapter 2: Quantum Mechanicsq"
	   ]
	},
{
		   "cell_type": "markdown",
		   "metadata": {},
		   "source": [
			"## Example 2.10: Energy_of_Electrons_Emitted_From_the_Surface_of_Tungsten.sci"
		   ]
		  },
  {
"cell_type": "code",
	   "execution_count": null,
	   "metadata": {
	    "collapsed": true
	   },
	   "outputs": [],
"source": [
"// Scilab Code Ex2.10 Energy of electrons emitted from the surface of tungsten: Pg:48 (2008)\n",
"h = 6.624e-034;    // Planck's constant, Js\n",
"c = 3e+08;    // Speed of light, m/s\n",
"e = 1.6e-019;    // Energy equivalent of 1 eV, joule/eV\n",
"L = 1800e-010;    // Wavelength of incident light, m\n",
"L0 = 2300e-010;    // Threshold wavelength of tungsten, m\n",
"E = h*c*(1/L - 1/L0);    // Einstein's photoelectric equation for kinetic energy of emitted electrons, J\n",
"printf('\nThe energy of electrons emitted from the surface of tungsten = %3.1f eV', E/e);\n",
"// Result \n",
"// The energy of electrons emitted from the surface of tungsten = 1.5 eV "
   ]
   }
,
{
		   "cell_type": "markdown",
		   "metadata": {},
		   "source": [
			"## Example 2.11: Energy_of_Photon.sci"
		   ]
		  },
  {
"cell_type": "code",
	   "execution_count": null,
	   "metadata": {
	    "collapsed": true
	   },
	   "outputs": [],
"source": [
"// Scilab Code Ex2.11 Energy of photon : Pg:49 (2008)\n",
"h = 6.624e-034;    // Planck's constant, Js\n",
"c = 3e+08;    // Speed of light, m/s\n",
"e = 1.6e-019;    // Energy equivalent of 1 eV, joule/eV\n",
"L = 1800e-010;    // Wavelength of incident light, m\n",
"L0 = 2300e-010;    // Threshold wavelength of tungsten, m\n",
"E = h*c*(1/L - 1/L0);    // Einstein's photoelectric equation for kinetic energy of emitted electrons, J\n",
"printf('\nThe energy of electrons emitted from the surface of tungsten = %3.1f eV', E/e);\n",
"// Result \n",
"// The energy of electrons emitted from the surface of tungsten = 1.5 eV "
   ]
   }
,
{
		   "cell_type": "markdown",
		   "metadata": {},
		   "source": [
			"## Example 2.12: Velocity_of_the_Emitted_Electro.sci"
		   ]
		  },
  {
"cell_type": "code",
	   "execution_count": null,
	   "metadata": {
	    "collapsed": true
	   },
	   "outputs": [],
"source": [
"// Scilab Code Ex2.12 Velocity of the emitted electron: Pg:49 (2008)\n",
"m = 9.1e-031;    // Mass of electron, kg\n",
"c = 3e+08;    // Speed of light, m/s\n",
"e = 1.6e-019;    // Energy equivalent of 1 eV, joule/eV\n",
"phi = 2.3*e;    // Work function of metal, J\n",
"L = 4300e-010;    // Wavelength of incident light, m\n",
"// As 1/2*m*v^2 = h*f - phi = h*c/L - phi, Einstein's photoelectric equation\n",
"// Solving for v\n",
"v = sqrt(2*(h*c/L - phi)/m);    // Velocity of emitted electron, m/s\n",
"printf('\nThe velocity of emitted electron = %4.2e eV', v);\n",
"// Result \n",
"// The velocity of emitted electron = 4.55e+005 eV "
   ]
   }
,
{
		   "cell_type": "markdown",
		   "metadata": {},
		   "source": [
			"## Example 2.13: Energy_of_a_Quantum_of_Light.sci"
		   ]
		  },
  {
"cell_type": "code",
	   "execution_count": null,
	   "metadata": {
	    "collapsed": true
	   },
	   "outputs": [],
"source": [
"// Scilab Code Ex2.13 Energy of a quantum of light: Pg:50 (2008)\n",
"c = 3e+08;    // Speed of light, m/s\n",
"e = 1.6e-019;    // Energy equivalent of 1 eV, joule/eV\n",
"L = 5.3e-07;    // Wavelength of incident light, m\n",
"E = h*c/L;    // Energy of the incident light, J\n",
"printf('\nThe energy of incident light = %4.2f eV', E/e);\n",
"// Result \n",
"// The energy of incident light = 2.34 eV "
   ]
   }
,
{
		   "cell_type": "markdown",
		   "metadata": {},
		   "source": [
			"## Example 2.14: Ratio_of_Masses_of_a_Proton_and_an_Electron.sci"
		   ]
		  },
  {
"cell_type": "code",
	   "execution_count": null,
	   "metadata": {
	    "collapsed": true
	   },
	   "outputs": [],
"source": [
"// Scilab Code Ex2.14 Ratio of masses of a proton and an electron: Pg:54 (2008)\n",
"RH = 1.09678e+07;    // Rydberg constant for hydrogen, per metre\n",
"RHe = 1.09722e+07;    // Rydberg constant for helium, per metre\n",
"MH_m_ratio = (RH - 1/4*RHe)/(RHe - RH);    // Ratio of mass of a proton to that of an electron\n",
"printf('\nThe ratio of mass of a proton to that of an electron = %4d', MH_m_ratio);\n",
"// Result \n",
"// The ratio of mass of a proton to that of an electron = 1869"
   ]
   }
,
{
		   "cell_type": "markdown",
		   "metadata": {},
		   "source": [
			"## Example 2.15: First_Bohr_Orbit_in_Hydrogen_Atom.sci"
		   ]
		  },
  {
"cell_type": "code",
	   "execution_count": null,
	   "metadata": {
	    "collapsed": true
	   },
	   "outputs": [],
"source": [
"// Scilab Code Ex2.15 First Bohr Orbit in hydrogen atom: Pg:56 (2008)s\n",
"n = 1;    // Principle quantum number of first orbit in H-atom\n",
"h = 6.624e-034;    // Planck's Constant, Js\n",
"c = 3e+08;    // Speed of light, m/s\n",
"epsilon_0 = 8.85e-012;    // Absolute electrical permittivity of free space, coulomb square per newton per metre square\n",
"Z = 1;    // Atomic number of hydrogen\n",
"m = 9.1e-031;    // Mass of an electron, kg\n",
"e = 1.6e-019;    // Charge on an electron, coulomb\n",
"r = epsilon_0*n^2*h^2/(%pi*m*Z*e^2);    // Radius of first Bohr's orbit, m\n",
"v = Z*e^2/(2*8.85e-012*h*n);    // Velocity of electron in the first Bohr orbit, m/s\n",
"printf('\nThe radius of first Bohr orbit = %5.3f angstrom', r/1e-010);\n",
"printf('\nThe velocity of electron in first Bohr orbit = (1/%3d)c', 1/v*c);\n",
"// Result \n",
"// The radius of first Bohr orbit = 0.531 angstrom\n",
"// The velocity of electron in first Bohr orbit = (1/137)c"
   ]
   }
,
{
		   "cell_type": "markdown",
		   "metadata": {},
		   "source": [
			"## Example 2.16: Wavelength_of_Balmer_H_beta_Line.sci"
		   ]
		  },
  {
"cell_type": "code",
	   "execution_count": null,
	   "metadata": {
	    "collapsed": true
	   },
	   "outputs": [],
"source": [
"// Scilab Code Ex2.16 Wavelength of Balmer H_beta line: Pg:57 (2008)s\n",
"L_Hb = 6563e-010;    // Wavelength of H_beta line, m\n",
"R = 1.097e+07;    // Rydberg constant, per metre\n",
"L1 = 36/(5*R);    // Wavenumber of H_alpha line, per metre\n",
"L2 = 16/(3*R);    // Wavenumber of H_beta line, per metre\n",
"L_ratio = L2/L1;    // Ratio of wavelengths of H_beta and H_alpha lines\n",
"L2 = L_ratio*L1;    // Wavelength of Balmer H_beta line, m\n",
"printf('\nThe wavelength of Balmer H_beta line = %4d angstrom', L2/1e-010);\n",
"// Result\n",
"// The wavelength of Balmer H_beta line = 4861 angstrom "
   ]
   }
,
{
		   "cell_type": "markdown",
		   "metadata": {},
		   "source": [
			"## Example 2.17: First_Excitation_Energy_of_Hydrogen_Atom.sci"
		   ]
		  },
  {
"cell_type": "code",
	   "execution_count": null,
	   "metadata": {
	    "collapsed": true
	   },
	   "outputs": [],
"source": [
"// Scilab Code Ex2.17 First excitation energy of hydrogen atom: Pg: 58 (2008)s\n",
"n1 = 1;    // Principle quantum number of first orbit in H-atom\n",
"n2 = 2;    // Principle quantum number of second orbit in H-atom\n",
"m = 9.1e-031;    // Mass of the electron, C\n",
"e = 1.6e-019;    // Charge on an electron, coulomb\n",
"h = 6.624e-034;    // Planck's Constant, Js\n",
"epsilon_0 = 8.85e-012;    // Absolute electrical permittivity of free space, coulomb square per newton per metre square\n",
"U = m*e^4/(8*epsilon_0^2*h^2)*(1/n1^2 - 1/n2^2);    // First excitation energy of hydrogen atom, J\n",
"printf('\nThe first excitation energy of hydrogen atom = %5.2f eV', U/e);\n",
"// Result \n",
"// The first excitation energy of hydrogen atom = 10.17 eV "
   ]
   }
,
{
		   "cell_type": "markdown",
		   "metadata": {},
		   "source": [
			"## Example 2.18: Energy_Difference_in_the_Emission_or_Absorption_of_Sodium_D1_Line.sci"
		   ]
		  },
  {
"cell_type": "code",
	   "execution_count": null,
	   "metadata": {
	    "collapsed": true
	   },
	   "outputs": [],
"source": [
"// Scilab Code Ex2.18 Energy difference in the emission or absorption of sodium D1 line: Pg:58 (2008)s\n",
"h = 6.624e-034;    // Planck's Constant, Js\n",
"c = 3e+08;    // Speed of light, m/s\n",
"L = 590e-09;    // Wavelenght of sodium D1 line, m\n",
"E = h*c/L;    // Energy difference in the emission or absorption of sodium D1 line, J\n",
"printf('\nThe energy difference in the emission or absorption of sodium D1 line = %4.2e J', E);\n",
"// Result \n",
"// The energy difference in the emission or absorption of sodium D1 line = 3.37e-019 J "
   ]
   }
,
{
		   "cell_type": "markdown",
		   "metadata": {},
		   "source": [
			"## Example 2.19: Wavelength_of_First_Line_of_Balmer_Series.sci"
		   ]
		  },
  {
"cell_type": "code",
	   "execution_count": null,
	   "metadata": {
	    "collapsed": true
	   },
	   "outputs": [],
"source": [
"// Scilab Code Ex2.19 Wavelength of first line of Balmer series: Pg:58 (2008)s\n",
"n1 = 2;    // Ground level of Balmer line in H-atom\n",
"n2 = 4;    // Third level of Balmer line in H-atom\n",
"R = 1.097e+07;    // Rydberg constant, per metre\n",
"L2 = 1/((1/n1^2 - 1/n2^2)*R);    // Wavelength of second line of Balmer series, m\n",
"n2 = 3;    // Second level of Balmer line in H-atom\n",
"L1 = 1/((1/n1^2 - 1/n2^2)*R);    // Wavelength of first line of Balmer series, m\n",
"L_ratio = L1/L2;    // Wavelength ratio of first and second line of Balmer series, m\n",
"L2 = 4861;    // Given wavelength of second line of Balmer series, angstrom\n",
"L1 = L2*L_ratio;    // Wavelength of first line of Balmer series, angstrom\n",
"printf('\nThe wavelength of first line of Balmer series = %4d angstrom', L1);\n",
"// Result \n",
"// The wavelength of first line of Balmer series = 6562 angstrom "
   ]
   }
,
{
		   "cell_type": "markdown",
		   "metadata": {},
		   "source": [
			"## Example 2.1: Threshold_Wavelength_of_Tungsten.sci"
		   ]
		  },
  {
"cell_type": "code",
	   "execution_count": null,
	   "metadata": {
	    "collapsed": true
	   },
	   "outputs": [],
"source": [
"// Scilab Code Ex2.1 Threshold wavelength of tungsten: Pg:4 (2008)\n",
"phi = 4.5*1.6e-019;    // Work function for tungesten, joule\n",
"h = 6.6e-034;    // Planck's constant, Js\n",
"c = 3e+08;    // Speed of light, m/s\n",
"// As phi = h*c/L0, solving for L0\n",
"L0 = h*c/phi;    // Threshold wavelength of tungesten, m\n",
"printf('\nThe threshold wavelength of tungesten = %4d angstrom', L0/1e-010);\n",
"// Result \n",
"// The threshold wavelength of tungesten = 2750 angstrom "
   ]
   }
,
{
		   "cell_type": "markdown",
		   "metadata": {},
		   "source": [
			"## Example 2.20: Minimum_Energy_of_the_Electrons_in_Balmer_Series.sci"
		   ]
		  },
  {
"cell_type": "code",
	   "execution_count": null,
	   "metadata": {
	    "collapsed": true
	   },
	   "outputs": [],
"source": [
"// Scilab Code Ex2.20 Minimum energy of the electrons in Balmer series: Pg:59 (2008)\n",
"n1 = 2;    // Ground level of Balmer line in H-atom\n",
"n2 = 3;    // Second level of Balmer line in H-atom\n",
"m = 9.1e-031;    // Mass of the electron, C\n",
"e = 1.6e-019;    // Charge on an electron, coulomb\n",
"h = 6.624e-034;    // Planck's Constant, Js\n",
"epsilon_0 = 8.85e-012;    // Absolute electrical permittivity of free space, coulomb square per newton per metre square\n",
"E = m*e^4/(8*epsilon_0^2*h^2)*(1/n1^2 - 1/n2^2);    // Minimum energy required by an electron to correspond to first wavenumber of Balmer series, J\n",
"printf('\nMinimum energy required by an electron to correspond to first wavenumber of Balmer series = %4.2f', E/e);\n",
"// Result \n",
"// Minimum energy required by an electron to correspond to first wavenumber of Balmer series = 1.88 "
   ]
   }
,
{
		   "cell_type": "markdown",
		   "metadata": {},
		   "source": [
			"## Example 2.21: Ionization_Potential_of_Hydrogen_Atom.sci"
		   ]
		  },
  {
"cell_type": "code",
	   "execution_count": null,
	   "metadata": {
	    "collapsed": true
	   },
	   "outputs": [],
"source": [
"// Scilab Code Ex2.21 Ionization potential of hydrogen atom: Pg:59 (2008)\n",
"m = 9.1e-031;    // Mass of the electron, C\n",
"e = 1.6e-019;    // Charge on an electron, coulomb\n",
"h = 6.626e-034;    // Planck's Constant, Js\n",
"epsilon_0 = 8.85e-012;    // Absolute electrical permittivity of free space, coulomb square per newton per metre square\n",
"phi = m*e^4/(8*epsilon_0^2*h^2);    // Work function or ionization energy of hydrogen atom, J\n",
"printf('\nThe ionization energy of hydrogen atom = %5.2f eV', phi/e);\n",
"// Result \n",
"// The ionization energy of hydrogen atom = 13.55 eV "
   ]
   }
,
{
		   "cell_type": "markdown",
		   "metadata": {},
		   "source": [
			"## Example 2.22: Wavelength_of_Second_Number_of_Balmer_Series_of_Hydrogen.sci"
		   ]
		  },
  {
"cell_type": "code",
	   "execution_count": null,
	   "metadata": {
	    "collapsed": true
	   },
	   "outputs": [],
"source": [
"// Scilab Code Ex2.22 Wavelength of second number of Balmer series of hydrogen: Pg:60 (2008)\n",
"n1 = 2;    // Principle quantum number of second orbit in H-atom\n",
"n2 = 3;    // Principle quantum number of third orbit in H-atom\n",
"R = 1.097e+07;    // Rydberg constant, per metre\n",
"L1 = 1/((1/n1^2 - 1/n2^2)*R);    // Wavelength of first Balmer line, m\n",
"n2 = 4;    // Principle quantum number of third orbit in H-atom \n",
"L2 = 1/((1/n1^2 - 1/n2^2)*R);    // Wavelength of second Balmer line, m\n",
"L_ratio = L2/L1;    // Wavelength ratio of second and first line of Balmer series\n",
"L1 = 6563e-010;    // Given wavelength of first line of Balmer series, m\n",
"L2 = L_ratio*L1;    // Wavelength of second Balmer line, m\n",
"printf('\nThe wavelength of second Balmer line = %4e m', L2);\n",
"// Result \n",
"// The wavelength of second Balmer line = 4.861481e-007 m "
   ]
   }
,
{
		   "cell_type": "markdown",
		   "metadata": {},
		   "source": [
			"## Example 2.23: Wavelength_of_Emitted_Light.sci"
		   ]
		  },
  {
"cell_type": "code",
	   "execution_count": null,
	   "metadata": {
	    "collapsed": true
	   },
	   "outputs": [],
"source": [
"// Scilab Code Ex2.23 Wavelength of emitted light: Pg:60 (2008)\n",
"e = 1.6e-019;    // Charge on an electron, coulomb\n",
"h = 6.624e-034;    // Planck's Constant, Js\n",
"n = 2;    // Principal quantum number for second orbit in H-atom\n",
"V = 13.6;    // Ionization potential of H-atom, V\n",
"U1 = -1*V*e;    // Energy of electron in first orbit, J\n",
"U2 = U1/n^2;    // Energy of electron in second orbit, J\n",
"// As U2 - U1 = h*c/L, solving for L\n",
"L = h*c/(U2 - U1);    // Wavelength of light emitted in the transition from second orbit to the first orbit, m\n",
"printf('\nThe wavelength of light emitted in the transition from second orbit to the first orbit = %4d angstrom', L/1e-010);\n",
"// Result \n",
"// The wavelength of light emitted in the transition from second orbit to the first orbit = 1217 angstrom "
   ]
   }
,
{
		   "cell_type": "markdown",
		   "metadata": {},
		   "source": [
			"## Example 2.24: Radius_and_Speed_of_Electron_in_the_First_Bohr_Orbit.sci"
		   ]
		  },
  {
"cell_type": "code",
	   "execution_count": null,
	   "metadata": {
	    "collapsed": true
	   },
	   "outputs": [],
"source": [
"// Scilab Code Ex2.24 Radius and speed of electron in the first Bohr orbit: Pg:61 (2008)s\n",
"m = 9.1e-031;    // Mass of the electron, C\n",
"e = 1.6e-019;    // Charge on an electron, coulomb\n",
"h = 6.626e-034;    // Planck's Constant, Js\n",
"epsilon_0 = 8.85e-012;    // Absolute electrical permittivity of free space, coulomb square per newton per metre square\n",
"Z = 1, n = 1;\n",
"r_H = epsilon_0*n^2*h^2/(%pi*m*Z*e^2);    // Radius of first Bohr orbit, m\n",
"v_H = Z*e^2/(2*epsilon_0*n*h);    // Velocity of the electron in the first Bohr orbit, m/s\n",
"printf('\nThe radius of first Bohr orbit = %4.2e m', r_H);\n",
"printf('\nThe velocity of the electron in the first Bohr orbit = %3.1e m/s', v_H);\n",
"// Result \n",
"// The radius of first Bohr orbit = 5.31e-011 m\n",
"// The velocity of the electron in the first Bohr orbit = 2.2e+006 m/s"
   ]
   }
,
{
		   "cell_type": "markdown",
		   "metadata": {},
		   "source": [
			"## Example 2.25: Radius_and_Velocity_of_Electron_for_H_and_He.sci"
		   ]
		  },
  {
"cell_type": "code",
	   "execution_count": null,
	   "metadata": {
	    "collapsed": true
	   },
	   "outputs": [],
"source": [
"// Scilab Code Ex2.25 Radius and velocity of electron for H and He: Pg:61 (2008)s\n",
"m = 9.1e-031;    // Mass of the electron, kg\n",
"e = 1.6e-019;    // Charge on an electron, coulomb\n",
"h = 6.624e-034;    // Planck's Constant, Js\n",
"epsilon_0 = 8.85e-012;    // Absolute electrical permittivity of free space, coulomb square per newton per metre square\n",
"c = 3e+08;    // Speed of light, m/s\n",
"Z = 1, n = 1;    // Atomic number and principal quantum number of H-atom\n",
"r_H = epsilon_0*n^2*h^2/(%pi*m*Z*e^2);    // Radius of first Bohr orbit for H-atom, m\n",
"v_H = Z*e^2/(2*epsilon_0*n*h);    // Velocity of the electron in the first Bohr orbit of H-atom, m/s\n",
"printf('\nThe radius of first Bohr orbit = %4.2e m', r_H);\n",
"printf('\nThe velocity of the electron in the first Bohr orbit = %3.1e m/s', v_H);\n",
"printf('\nThe velocity of the electron in H-atom compared to the velocity of light = %4.2e', v_H/c);\n",
"Z = 2;    // Atomic number of He-atom\n",
"r_He = r_H/Z;    // Radius of first Bohr orbit for He-atom, m\n",
"v_He = 2*v_H;    // Velocity of the electron in the first Bohr orbit of He-atom, m/s\n",
"printf('\nThe radius of first Bohr orbit = %4.2e m', r_He);\n",
"printf('\nThe velocity of the electron in the first Bohr orbit = %3.1e m/s', v_He);\n",
"printf('\nThe velocity of the electron in He-atom compared to the velocity of light = %5.3e', v_He/c);\n",
"// Result \n",
"// The radius of first Bohr orbit = 5.31e-011 m\n",
"// The velocity of the electron in the first Bohr orbit = 2.2e+006 m/s\n",
"// The velocity of the electron in H-atom compared to the velocity of light = 7.28e-003\n",
"// The radius of first Bohr orbit = 2.65e-011 m\n",
"// The velocity of the electron in the first Bohr orbit = 4.4e+006 m/s\n",
"// The velocity of the electron in He-atom compared to the velocity of light = 1.456e-002 "
   ]
   }
,
{
		   "cell_type": "markdown",
		   "metadata": {},
		   "source": [
			"## Example 2.26: Difference_in_Wavelength_in_the_Spectra_of_Hydrogen_and_Deuterium.sci"
		   ]
		  },
  {
"cell_type": "code",
	   "execution_count": null,
	   "metadata": {
	    "collapsed": true
	   },
	   "outputs": [],
"source": [
"// Scilab Code Ex2.26 Difference in wavelength in the spectra of hydrogen and deuterium: Pg:62 (2008)\n",
"R_H = 1.097e+07;    // Rydberg constant for H-atom, per metre\n",
"M_H = 1;    // Mass of H-atom, amu\n",
"M_D = 2*M_H;    // Mass of D-atom, amu\n",
"m = 0.000549*M_H;    // Mass of an electron, amu\n",
"R_D = R_H*(1+m/M_H)/(1+m/M_D);    // Rydberg constant for D-atom, per metre\n",
"n1 = 2, n2 = 3;    // Principal qunatum numbers for first line of Balmer series\n",
"L_H = 1/(R_H*(1/n1^2 - 1/n2^2));    // Wavelength of H-atom, m\n",
"L_D = 1/(R_D*(1/n1^2 - 1/n2^2));    // Wavelength of D-atom, m\n",
"delta_H = (L_H - L_D)/1e-010;    // Difference in wavelength in the spectra of hydrogen and deuterium, angstrom\n",
"printf('\nThe difference in wavelength in the spectra of hydrogen and deuterium = %3.1f angstrom', delta_H);\n",
"// Result \n",
"// The difference in wavelength in the spectra of hydrogen and deuterium = 1.8 angstrom "
   ]
   }
,
{
		   "cell_type": "markdown",
		   "metadata": {},
		   "source": [
			"## Example 2.27: Ionization_Energy_of_Hydrogen_Atom_With_Orbiting_Muon.sci"
		   ]
		  },
  {
"cell_type": "code",
	   "execution_count": null,
	   "metadata": {
	    "collapsed": true
	   },
	   "outputs": [],
"source": [
"// Scilab Code Ex2.27 Ionization energy of hydrogen atom with orbiting muon: Pg:63 (2008)\n",
"m = 9.1e-031;    // Mass of the electron, kg\n",
"e = 1.6e-019;    // Charge on an electron, coulomb\n",
"h = 6.624e-034;    // Planck's Constant, Js\n",
"epsilon_0 = 8.85e-012;    // Absolute electrical permittivity of free space, coulomb square per newton per metre square\n",
"m1 = 200*m;    // Mass of muon, kg\n",
"phi1 = m1*e^4/(8*epsilon_0^2*h^2);    // Ionization energy of H-atom with muon, J\n",
"printf('\nThe ionization energy of hydrogen atom with orbiting muon = %4.2e eV', phi1/1.6e-019);\n",
"// Result \n",
"// The ionization energy of hydrogen atom with orbiting muon = 2.71e+003 eV "
   ]
   }
,
{
		   "cell_type": "markdown",
		   "metadata": {},
		   "source": [
			"## Example 2.28: Photon_Emitted_by_Hydrogen_Atom.sci"
		   ]
		  },
  {
"cell_type": "code",
	   "execution_count": null,
	   "metadata": {
	    "collapsed": true
	   },
	   "outputs": [],
"source": [
"// Scilab Code Ex2.28 Photon emitted by hydrogen atom: Pg:64 (2008)\n",
"e = 1.6e-019;    // Energy equivalent of 1 eV, joule/eV\n",
"h = 6.624e-034;    // Planck's constant, Js\n",
"c = 3e+08;    // Speed of light, m/s\n",
"E1 = -13.6;    // Energy of electron in the first orbit of hydrogen atom, eV\n",
"n = 2;    // Principal quantum number for second orbit\n",
"E2 = E1/n^2;    // Energy of electron in the second orbit of hydrogen atom, eV\n",
"E = (E2 - E1)*e;    // Energy of photon emitted, joule\n",
"P = E/c;    // Momentum of photon, kg-m/s\n",
"L = (h/P)/1e-010;    // de_Broglie wavelength of photon, angstrom\n",
"printf('\nThe energy of photon emitted by hydrogen atom %5.2e J', E);\n",
"printf('\nThe momentum of photon = %4.2e kg-m/s', P);\n",
"printf('\nThe de_Broglie wavelength of photon = %4d angstrom', L);\n",
"// Result \n",
"// The energy of photon emitted by hydrogen atom 1.63e-018 J \n",
"// The momentum of photon = 5.44e-027 kg-m/s\n",
"// The de_Broglie wavelength of photon = 1217 angstrom "
   ]
   }
,
{
		   "cell_type": "markdown",
		   "metadata": {},
		   "source": [
			"## Example 2.29: Energy_Required_to_Create_a_Vacancy_in_Cu.sci"
		   ]
		  },
  {
"cell_type": "code",
	   "execution_count": null,
	   "metadata": {
	    "collapsed": true
	   },
	   "outputs": [],
"source": [
"// Scilab Code Ex2.29 Energy required to create a vacancy in Cu: Pg:64 (2008)\n",
"n = 1;    // Principal quantum number of K shell\n",
"Z = 29;    // Atomic number of copper\n",
"U = 13.6;    // Ionization potential of hydrogen atom, eV\n",
"E1 = Z^2*U/n^2;    // Energy required to create a vacancy in K-shell of copper atom, eV\n",
"n = 2;    // Principal quantum number of L shell\n",
"E2 = Z^2*U/n^2;    // Energy required to create a vacancy in K-shell of copper atom, eV\n",
"printf('\nThe energy required to create a vacancy in K-shell of copper atom = %5.2e eV', E1);\n",
"printf('\nThe energy required to create a vacancy in L-shell of copper atom = %5.2e eV', E2);\n",
"// Result \n",
"// The energy required to create a vacancy in K-shell of copper atom = 1.14e+004 eV\n",
"// The energy required to create a vacancy in L-shell of copper atom = 2.86e+003 eV"
   ]
   }
,
{
		   "cell_type": "markdown",
		   "metadata": {},
		   "source": [
			"## Example 2.2: Maximum_Velocity_of_Photoelectrons.sci"
		   ]
		  },
  {
"cell_type": "code",
	   "execution_count": null,
	   "metadata": {
	    "collapsed": true
	   },
	   "outputs": [],
"source": [
"// Scilab Code Ex2.2 Maximum velocity of photoelectrons: Pg:44 (2008)\n",
"phi = 4*1.6e-019;    // Work function for photoelectric surface, joule\n",
"h = 6.6e-034;    // Planck's constant, Js\n",
"e = 1.6e-019;    // Electronic charge, coulomb\n",
"m = 9.1e-031;    // Mass of the electron, kg\n",
"f = 1e+15;    // Frequency of incident photons, Hz\n",
"c = 3e+08;    // Speed of light, m/s\n",
"// KE = 1/2*m*v^2 = h*f - phi, solving for v, we have\n",
"v = sqrt(2*(h*f - phi)/m);    // Maximum velocity of photoelectrons, m/s\n",
"printf('\nThe maximum velocity of photoelectrons = %5.3e m/s', v);\n",
"// Result \n",
"// The maximum velocity of photoelectrons = 2.097e+005 m/s "
   ]
   }
,
{
		   "cell_type": "markdown",
		   "metadata": {},
		   "source": [
			"## Example 2.30: Excitation_Potential_for_Mercury.sci"
		   ]
		  },
  {
"cell_type": "code",
	   "execution_count": null,
	   "metadata": {
	    "collapsed": true
	   },
	   "outputs": [],
"source": [
"// Scilab Code Ex2.30 Excitation potential for mercury: Pg:65 (2008)\n",
"e = 1.6e-019;    // Energy equivalent of 1 eV, joule/eV\n",
"h = 6.624e-034;    // Planck's constant, Js\n",
"c = 3e+08;    // Speed of light, m/s\n",
"L = 2537e-010;    // Wavelength of absorbed line of Hg, m\n",
"V = h*c/(e*L);    // Excitation potential for Hg, v\n",
"printf('\nThe excitation potential for Hg = %3.1f V', V);\n",
"// Result \n",
"// The excitation potential for Hg = 4.9 V "
   ]
   }
,
{
		   "cell_type": "markdown",
		   "metadata": {},
		   "source": [
			"## Example 2.31: Atomic_Number_of_Impurity_in_Zinc_Target.sci"
		   ]
		  },
  {
"cell_type": "code",
	   "execution_count": null,
	   "metadata": {
	    "collapsed": true
	   },
	   "outputs": [],
"source": [
"// Scilab Code Ex2.31 Atomic number of impurity in Zinc target: Pg:65 (2008)\n",
"L1 = 1.43603e-010;    // Wavelength of characteristic K_alpha line from Zn, m\n",
"Z1 = 30;    // Atomic number of zinc\n",
"L2 = 0.53832e-010;    // Wavelength of unknown line from Zn, m\n",
"// As (1/L1)/(1/L2) = (Z1/Z2)^2, solving for Z2\n",
"Z2 = Z1*(L1/L2)^(1/2);    // Atomic number of impurity in Zn target\n",
"printf('\nThe atomic number of impurity in Zn target = %2d', round(Z2));\n",
"// Result \n",
"// The atomic number of impurity in Zn target = 49 "
   ]
   }
,
{
		   "cell_type": "markdown",
		   "metadata": {},
		   "source": [
			"## Example 2.32: Mu_mesonic_Atom_Subjected_to_Bohr_Orbit.sci"
		   ]
		  },
  {
"cell_type": "code",
	   "execution_count": null,
	   "metadata": {
	    "collapsed": true
	   },
	   "outputs": [],
"source": [
"// Scilab Code Ex2.32 Mu-mesonic atom subjected to Bohr orbit: Pg:65 (2008)\n",
"Z = 3;    // Atomic number of Mu-mesonic atom\n",
"m_e = 9.1e-031;    // Mass of the electron, kg\n",
"e = 1.6e-019;    // Charge on an electron, coulomb\n",
"h = 6.624e-034;    // Planck's Constant, Js\n",
"epsilon_0 = 8.85e-012;    // Absolute electrical permittivity of free space, coulomb square per newton per metre square\n",
"m = 200*m_e;    // Mass of a muon, kg\n",
"// As r_H = epsilon_0*^h^2/(%pi*m*(e^2) and r = epsilon_0*n^2*h^2/(%pi*m*Z*(e^2)\n",
"// r = r_H gives\n",
"n = sqrt(m/m_e*Z);    // Value of n for which r = r_H\n",
"n1 = 1, n2 = 2;    // Principal quantum numbers corresponding to first excitation\n",
"U = m*e^4*Z^2/(8*epsilon_0^2*h^2*1.6e-019)*(1/n1^2-1/n2^2);    // First excitation potential of the atom, eV\n",
"printf('\nThe value of n for which radius of orbit is equal to Bohr radius = %2d', round(n));\n",
"printf('\nThe first excitation potential of the atom = %4.2e eV', U);\n",
"// Result \n",
"// The value of n for which radius of orbit is equal to Bohr radius = 24\n",
"// The first excitation potential of the atom = 1.83e+004 eV "
   ]
   }
,
{
		   "cell_type": "markdown",
		   "metadata": {},
		   "source": [
			"## Example 2.3: Energy_of_Photoelectrons.sci"
		   ]
		  },
  {
"cell_type": "code",
	   "execution_count": null,
	   "metadata": {
	    "collapsed": true
	   },
	   "outputs": [],
"source": [
"// Scilab Code Ex2.3 Energy of photoelectrons: Pg:45 (2008)\n",
"h = 6.6e-034;    // Planck's constant, Js\n",
"c = 3e+08;    // Speed of light, m/s\n",
"e = 1.6e-019;    // Energy equivalent of 1 joule, joule/eV\n",
"L = 1800e-010;    // Wavelength of incident light, m\n",
"L0 = 2300e-010;    // Threshold wavelength of tungsten, m\n",
"E = h*c*(1/L - 1/L0);    // Energy of photoelectrons emitted from tungsten, joule\n",
"printf('\nThe energy of photoelectrons emitted from tungsten = %3.1f eV', E/e);\n",
"// Result \n",
"// The energy of photoelectrons emitted from tungsten = 1.5 eV "
   ]
   }
,
{
		   "cell_type": "markdown",
		   "metadata": {},
		   "source": [
			"## Example 2.4: Longest_Wavelength_of_Incident_Radiation.sci"
		   ]
		  },
  {
"cell_type": "code",
	   "execution_count": null,
	   "metadata": {
	    "collapsed": true
	   },
	   "outputs": [],
"source": [
"// Scilab Code Ex2.4 Longest wavelength of incident radiation: Pg:45 (2008)\n",
"h = 6.624e-034;    // Planck's constant, Js\n",
"c = 3e+08;    // Speed of light, m/s\n",
"e = 1.6e-019;    // Energy equivalent of 1 eV, joule/eV\n",
"phi = 6*e;       // Work function of metal, joule\n",
"f0 = phi/h;    // Threshold frequency for metal surface, Hz\n",
"L0 = c/f0;     // Threshold (Longest) wavelength for metal, m\n",
"printf('\nThe longest wavelength of incident radiation = %4d angstrom', L0/1e-010);\n",
"// Result \n",
"// The longest wavelength of incident radiation = 2070 angstrom "
   ]
   }
,
{
		   "cell_type": "markdown",
		   "metadata": {},
		   "source": [
			"## Example 2.5: Threshold_Frequency_and_Wavelength.sci"
		   ]
		  },
  {
"cell_type": "code",
	   "execution_count": null,
	   "metadata": {
	    "collapsed": true
	   },
	   "outputs": [],
"source": [
"// Scilab Code Ex2.5 Threshold frequency and wavelength: Pg:46 (2008)\n",
"h = 6.62e-034;    // Planck's constant, Js\n",
"phi = 3.31e-019;       // Work function of metal, joule\n",
"c = 3e+08;    // Speed of light, m/s\n",
"f0 = phi/h;    // Threshold frequency for metal surface, Hz\n",
"L0 = c/f0;     // Threshold wavelength for metal, m\n",
"printf('\nThe threshold frequency for metal = %1.0e Hz', f0);\n",
"printf('\nThe threshold wavelength for metal = %4d angstrom', round(L0/1e-10));\n",
"// Result \n",
"// The threshold frequency for metal = 5e+014 Hz\n",
"// The threshold wavelength for metal = 6000 angstrom "
   ]
   }
,
{
		   "cell_type": "markdown",
		   "metadata": {},
		   "source": [
			"## Example 2.6: Maximum_Velocity_of_Emitted_Electrons.sci"
		   ]
		  },
  {
"cell_type": "code",
	   "execution_count": null,
	   "metadata": {
	    "collapsed": true
	   },
	   "outputs": [],
"source": [
"// Scilab Code Ex2.6 Maximum velocity of emitted electrons: Pg:46 (2008)\n",
"h = 6.624e-034;    // Planck's constant, Js\n",
"c = 3e+08;    // Speed of light, m/s\n",
"m = 9.1e-031;    // Mass of an electron, kg\n",
"e = 1.6e-019;    // Energy equivalent of 1 eV, joule/eV\n",
"L = 4300e-010;    // Wavelength of incident light, m\n",
"phi = 5*e;       // Work function of nickel surface, joule\n",
"f0 = phi/h;    // Threshold frequency for nickel, Hz\n",
"L0 = c/f0;     // Threshold wavelength for nickel, m\n",
"printf('\nThe threshold wavelength for nickel = %4d angstrom', L0/1e-10);\n",
"printf('\nSince %4d A < %4d A, the electrons will not be emitted.', L0/1e-010, L/1e-010);\n",
"phi = 2.83*e;   // Work function of potassium surface, joule\n",
"f0 = phi/h;    // Threshold frequency for potassium, Hz\n",
"L0 = c/f0;     // Threshold wavelength for potassium, m\n",
"printf('\nThe threshold wavelength for potassium = %4d angstrom', L0/1e-10);\n",
"printf('\nSince %4d A > %4d A, the electrons will be emitted.', L0/1e-010, L/1e-010);\n",
"// Now KE = 1/2*m*v0^2 = h*f - h*f0, where v0 is the maximum velocity \n",
"// solving for v0, we have\n",
"v0 = sqrt(2*h*c/m*(1/L - 1/L0));    // Maximum velocity of photoelectrons, m/s\n",
"printf('\nThe maximum velocity of photoelectrons = %5.3e m/s', v0);\n",
"// Result \n",
"// The threshold wavelength for nickel = 2484 angstrom\n",
"// Since 2484 A < 4300 A, the electrons will not be emitted.\n",
"// The threshold wavelength for potassium = 4388 angstrom\n",
"// Since 4388 A > 4300 A, the electrons will be emitted.\n",
"// The maximum velocity of photoelectrons = 1.433e+005 m/s "
   ]
   }
,
{
		   "cell_type": "markdown",
		   "metadata": {},
		   "source": [
			"## Example 2.7: Maximum_Energy_of_Ejected_Electrons.sci"
		   ]
		  },
  {
"cell_type": "code",
	   "execution_count": null,
	   "metadata": {
	    "collapsed": true
	   },
	   "outputs": [],
"source": [
"// Scilab Code Ex2.7 Maximum energy of ejected electrons: Pg:47 (2008)\n",
"h = 6.6e-034;    // Planck's constant, Js\n",
"c = 3e+08;    // Speed of light, m/s\n",
"L = 2537e-010;    // Wavelength of incident light, m\n",
"L0 = 3250e-010;    // Threshold wavelength of silver, m\n",
"// As U = h*(f - f0), the kinetic energy of ejected electrons\n",
"U = h*c*(1/L - 1/L0);    // Maximum energy of ejected electrons, J\n",
"printf('\nThe maximum energy of ejected electrons = %5.3e J', U);\n",
"// Result \n",
"// The maximum energy of ejected electrons = 1.712e-019 J "
   ]
   }
,
{
		   "cell_type": "markdown",
		   "metadata": {},
		   "source": [
			"## Example 2.8: Maximum_Kinetic_Energy_and_Stopping_Potential_of_Ejected_Electrons.sci"
		   ]
		  },
  {
"cell_type": "code",
	   "execution_count": null,
	   "metadata": {
	    "collapsed": true
	   },
	   "outputs": [],
"source": [
"// Scilab Code Ex2.8 Maximum kinetic energy and stopping potential of ejected electrons: Pg:47 (2008)\n",
"h = 6.624e-034;    // Planck's constant, Js\n",
"c = 3e+08;    // Speed of light, m/s\n",
"e = 1.6e-019;    // Energy equivalent of 1 eV, joule/eV\n",
"phi_0 = 1.51*e;   // Work function of the metal surface, J \n",
"L = 4000e-010;    // Wavelength of incident light, m\n",
"f = c/L;    // Frequency of incident light, Hz\n",
"U = h*f - phi_0;    // Maximum kinetic energy of ejected electrons, J\n",
"V = U/e;    // Stopping potential for ejected electrons, volt\n",
"printf('\nThe maximum energy of ejected electrons = %5.3f eV', U/e);\n",
"printf('\nThe stopping potential of ejected electrons = %5.3f V', V);\n",
"// Result \n",
"// The maximum energy of ejected electrons = 1.595 eV\n",
"// The stopping potential of ejected electrons = 1.595 V "
   ]
   }
,
{
		   "cell_type": "markdown",
		   "metadata": {},
		   "source": [
			"## Example 2.9: Work_Function_of_Metal.sci"
		   ]
		  },
  {
"cell_type": "code",
	   "execution_count": null,
	   "metadata": {
	    "collapsed": true
	   },
	   "outputs": [],
"source": [
"// Scilab Code Ex2.9 Work function of metal: Pg:48 (2008)\n",
"h = 6.624e-034;    // Planck's constant, Js\n",
"c = 3e+08;    // Speed of light, m/s\n",
"e = 1.6e-019;    // Energy equivalent of 1 eV, joule/eV\n",
"V = 1;    // Stopping potential for the electrons emitted from the metal, V\n",
"L = 2500e-010;    // Wavelength of incident light, m\n",
"f = c/L;    // Frequency of incident light, Hz\n",
"// Now KE = h*f - phi = e*V, Einstein's Photoelectric equation, solving for phi\n",
"phi = h*f - e*V;    // Work function of metal\n",
"printf('\nThe work function of metal = %5.3f eV', phi/e);\n",
"// Result \n",
"// The work function of metal = 3.968 eV  "
   ]
   }
],
"metadata": {
		  "kernelspec": {
		   "display_name": "Scilab",
		   "language": "scilab",
		   "name": "scilab"
		  },
		  "language_info": {
		   "file_extension": ".sce",
		   "help_links": [
			{
			 "text": "MetaKernel Magics",
			 "url": "https://github.com/calysto/metakernel/blob/master/metakernel/magics/README.md"
			}
		   ],
		   "mimetype": "text/x-octave",
		   "name": "scilab",
		   "version": "0.7.1"
		  }
		 },
		 "nbformat": 4,
		 "nbformat_minor": 0
}
