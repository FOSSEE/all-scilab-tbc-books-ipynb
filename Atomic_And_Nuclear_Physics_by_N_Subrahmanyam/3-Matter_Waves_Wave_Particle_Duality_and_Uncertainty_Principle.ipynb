{
"cells": [
 {
		   "cell_type": "markdown",
	   "metadata": {},
	   "source": [
       "# Chapter 3: Matter Waves Wave Particle Duality and Uncertainty Principle"
	   ]
	},
{
		   "cell_type": "markdown",
		   "metadata": {},
		   "source": [
			"## Example 3.10: Momentum_of_Proton.sci"
		   ]
		  },
  {
"cell_type": "code",
	   "execution_count": null,
	   "metadata": {
	    "collapsed": true
	   },
	   "outputs": [],
"source": [
"// Scilab code: Ex3.10 : Momentum of proton: Pg: 81 (2008)\n",
"U = 1.6e-010;    // Kinetic energy of proton, joule \n",
"h = 6.624e-034;    // Planck's constant, J-s\n",
"m = 1.67e-027;    // mass of proton, kg\n",
"v = sqrt(2*U/m);    // Velocity of proton, m/s\n",
"p = m*v;    // Momentum of proton, kg m/s\n",
"printf('\nThe momentum of proton = %4.2e kgm/s', p);\n",
"// Result\n",
"// The momentum of proton = 7.31e-019 kgm/s "
   ]
   }
,
{
		   "cell_type": "markdown",
		   "metadata": {},
		   "source": [
			"## Example 3.11: Wavelength_of_an_Electron.sci"
		   ]
		  },
  {
"cell_type": "code",
	   "execution_count": null,
	   "metadata": {
	    "collapsed": true
	   },
	   "outputs": [],
"source": [
"// Scilab code: Ex3.11 : Wavelength of an electron: Pg: 82 (2008)\n",
"U = 1.6e-013;    // Kinetic energy of the electron, joule \n",
"h = 6.624e-034;    // Planck's constant, J-s\n",
"m = 9.1e-031;    // Mass of the electron, kg\n",
"v = sqrt(2*U/m);    // Velocity of the electron, m/s\n",
"L = h/(m*v);    // Wavelength of the electron, m\n",
"printf('\nThe wavelength of an electron = %5.3e angstorm', L/1e-010);\n",
"// Result\n",
"// The wavelength of an electron = 1.228e-002 angstorm "
   ]
   }
,
{
		   "cell_type": "markdown",
		   "metadata": {},
		   "source": [
			"## Example 3.12: de_Broglie_Wavelength_of_Thermal_Neutrons.sci"
		   ]
		  },
  {
"cell_type": "code",
	   "execution_count": null,
	   "metadata": {
	    "collapsed": true
	   },
	   "outputs": [],
"source": [
"6// Scilab code: Ex3.12: De-Broglie wavelength of thermal neutrons:Pg: 82 (2008)\n",
"m = 1.6749e-027;    // Mass of neutron, kg\n",
"h = 6.624e-034;    // Plancks constant, joule second\n",
"k = 1.38e-021;    // Boltzmann constant, joule per kelvin\n",
"T = 300;    // Temperature of thermal neutrons, kelvin\n",
"// Since m*v^2/2 = (3/2)*k*T;    // Energy of neutron, joule\n",
"v = sqrt(3*k*T/m);    // Velocity of neutrons, m/s\n",
"L = h/(m*v);    // Wavelength of neutrons, m\n",
"printf('\nThe de-Broglie wavelength of thermal neutrons = %5.3f angstorm ', L/1e-010);\n",
"// Result\n",
"// The de-Broglie wavelength of thermal neutrons = 0.145 angstorm "
   ]
   }
,
{
		   "cell_type": "markdown",
		   "metadata": {},
		   "source": [
			"## Example 3.13: Kinetic_Energy_of_a_Proton.sci"
		   ]
		  },
  {
"cell_type": "code",
	   "execution_count": null,
	   "metadata": {
	    "collapsed": true
	   },
	   "outputs": [],
"source": [
"// Scilab code: Ex3.13 : Kinetic energy of a proton:Pg: 82 (2008)\n",
"L = 1e-010;    // wavelength of proton, m\n",
"m = 1.67e-027;    // Mass of proton, kg\n",
"h = 6.624e-034;    // Plancks constant, joule second\n",
"// Since L = h/(m*v);    // wavelength of proton, m\n",
"v = h/m*L;    // Velocity of proton, m/s\n",
"v_k = h^2/(2*L^2*m);    // Kinetic energy of proton, joule\n",
"printf('\nThe kinetic energy of proton = %3.1e eV ', v_k/1.6e-019);\n",
"// Result\n",
"// The kinetic energy of proton = 8.2e-002 eV"
   ]
   }
,
{
		   "cell_type": "markdown",
		   "metadata": {},
		   "source": [
			"## Example 3.14: Energy_of_Electrons_in_a_One_Dimensional_Box.sci"
		   ]
		  },
  {
"cell_type": "code",
	   "execution_count": null,
	   "metadata": {
	    "collapsed": true
	   },
	   "outputs": [],
"source": [
"// Scilab Code Ex3.14: Energy of electrons in a one dimensional box: Pg: 85 (2008)\n",
"n1 = 1, l = 0, ml = 0, ms = 1/2;    // Quantum numbers of first electron\n",
"n2 = 1, l = 0, ml = 0, ms = -1/2;    // Quantum numbers of second electron\n",
"// The lowest energy corresponds to the ground state of electrons \n",
"n = n1;    // n1 = n2 = n\n",
"m = 9.1e-031;    // Mass of electron, kg\n",
"h = 6.626e-034;    // Planck's constant, Js\n",
"a = 1;    // For convenience, length of the box is assumed to be unity\n",
"E = 2*n^2*h^2/(8*m*a^2);    // Lowest energy of electron, joule\n",
"printf('\nThe lowest energy of electron = %6.4e/a^2', E);\n",
"// Result \n",
"// The lowest energy of electron = 1.2062e-037/a^2  "
   ]
   }
,
{
		   "cell_type": "markdown",
		   "metadata": {},
		   "source": [
			"## Example 3.15: Lowest_Energy_of_Three_Electrons_in_Box.sci"
		   ]
		  },
  {
"cell_type": "code",
	   "execution_count": null,
	   "metadata": {
	    "collapsed": true
	   },
	   "outputs": [],
"source": [
"// Scilab Code Ex3.15: Lowest energy of three electrons in box: Pg:85 (2008)\n",
"n1 = 1, l = 0, ml = 0, ms = 1/2;    // Quantum numbers of first electron\n",
"n2 = 1, l = 0, ml = 0, ms = -1/2;    // Quantum numbers of second electron\n",
"n3 = 2, l = 0, ml = 0, ms = +1/2;    // Quantum numbers of third electron\n",
"// The lowest energy corresponds to the ground state of electrons\n",
"m = 9.1e-031;    // Mass of electron, kg\n",
"h = 6.626e-034;    // Planck's constant, Js\n",
"a = 1;    // For convenience, length of the box is assumed to be unity\n",
"E = (n1^2*h^2/(8*m*a^2)+n2^2*h^2/(8*m*a^2))+n3^2*h^2/(8*m*a^2);    // Lowest energy of electron, joule\n",
"printf('\nThe lowest energy of electron = %6.4e/a^2', E);\n",
"// Result \n",
"// The lowest energy of electron = 3.6185e-037/a^2 "
   ]
   }
,
{
		   "cell_type": "markdown",
		   "metadata": {},
		   "source": [
			"## Example 3.16: Zero_Point_Energy_of_System.sci"
		   ]
		  },
  {
"cell_type": "code",
	   "execution_count": null,
	   "metadata": {
	    "collapsed": true
	   },
	   "outputs": [],
"source": [
"// Scilab code: Ex3.16 : Zero point energy of system:Pg: 86 (2008)\n",
"m = 9.1e-031;    // Mass of an electron, kg\n",
"a = 1e-010;    // Length of box, m\n",
"h = 6.624e-034;    // Plancks constant, joule second\n",
"n = 1;    // Principal quantum number for the lowest energy level\n",
"E1 = 2*h^2/(8*m*a^2);    // Energy for the two electron system in the n =1 energy level, joule\n",
"E2 = 8*(2^2*h^2)/(8*m*a^2);    // Energy for the eight electron system in the n = 2 energy level, joule\n",
"E = E1 +E2;    // Total lowest energy of system, joule\n",
"printf('\nThe zero point energy of system = %4.2e J ', E);\n",
"// Result\n",
"// The zero point energy of system = 2.05e-016 J  "
   ]
   }
,
{
		   "cell_type": "markdown",
		   "metadata": {},
		   "source": [
			"## Example 3.17: Mean_Energy_Per_Electron_at_0K.sci"
		   ]
		  },
  {
"cell_type": "code",
	   "execution_count": null,
	   "metadata": {
	    "collapsed": true
	   },
	   "outputs": [],
"source": [
"// Scilab code: Ex3.17 : Mean energy per electron at 0K:Pg: 86 (2008)\n",
"m = 9.1e-031;    // Mass of an electron, kg\n",
"a = 50e-010;    // Length of molecule, m\n",
"h = 6.624e-034;    // Plancks constant, joule second\n",
"E = h^2/(8*m*a^2);    // Energy per electron, joule\n",
"printf('\nThe mean energy per electron at 0K = %3.1e eV ', E/1.6e-019);\n",
"// Result\n",
"// The mean energy per electron at 0K = 1.5e-002 eV "
   ]
   }
,
{
		   "cell_type": "markdown",
		   "metadata": {},
		   "source": [
			"## Example 3.18: Lowest_Energy_of_Two_Electron_System.sci"
		   ]
		  },
  {
"cell_type": "code",
	   "execution_count": null,
	   "metadata": {
	    "collapsed": true
	   },
	   "outputs": [],
"source": [
"// Scilab code: Ex3.18 : Lowest energy of two electron system:Pg: 87 (2008)\n",
"m = 9.1e-031;    // Mass of an electron, kg\n",
"a = 1e-010;    // Length of box, m\n",
"h = 6.624e-034;    // Plancks constant, joule second\n",
"E = 2*h^2/(8*m*a^2);    // Energy of two electron system, joule\n",
"printf('\nThe lowest energy of two electron system = %4.1f, eV', E/1.6e-019);\n",
"// Result\n",
"// The lowest energy of two electron system = 75.3, eV "
   ]
   }
,
{
		   "cell_type": "markdown",
		   "metadata": {},
		   "source": [
			"## Example 3.19: Total_Energy_of_the_Three_Electron_System.sci"
		   ]
		  },
  {
"cell_type": "code",
	   "execution_count": null,
	   "metadata": {
	    "collapsed": true
	   },
	   "outputs": [],
"source": [
"// Scilab code: Ex3.19 : Total energy of the three electron system:Pg: 87 (2008)\n",
"m = 9.1e-031;    // Mass of an electron, kg\n",
"h = 6.624e-034;    // Plancks constant, joule second\n",
"a = 1e-010;    // Length of the molecule, m\n",
"E = 6*h^2/(8*m*a^2);    // Energy of three electron system, joule\n",
"printf('\nThe total energy of three electron system = %6.2f, eV ', E/1.6e-019);\n",
"// Result\n",
"// The total energy of three electron system = 226.02, eV  "
   ]
   }
,
{
		   "cell_type": "markdown",
		   "metadata": {},
		   "source": [
			"## Example 3.1: Kinetic_Energy_of_an_Electron.sci"
		   ]
		  },
  {
"cell_type": "code",
	   "execution_count": null,
	   "metadata": {
	    "collapsed": true
	   },
	   "outputs": [],
"source": [
"// Scilab code: Ex3.1 : Kinetic energy of an electron: Pg: 77 (2008)\n",
"h = 6.6e-034;    // Planck's constant, J-s\n",
"m = 9.1e-031;    // mass of an electron, kg\n",
"L = 9e-010;    // wavelength of an electron, m\n",
"// since E = (m*v^2)/2, Energy of an electron, joule\n",
"// thus v = sqrt(2*E/m), solving for L in terms of E, we have\n",
"// L = h/sqrt(2*m*E), wavelength of an electron, m\n",
"// On solving for E\n",
"E = h^2/(2*m*L^2)\n",
"printf('\nThe kinetic energy of an electron = %6.4f eV', E/1.6e-019);\n",
"// Result\n",
"// The kinetic energy of an electron = 1.8468 eV "
   ]
   }
,
{
		   "cell_type": "markdown",
		   "metadata": {},
		   "source": [
			"## Example 3.20: Minimum_Uncertainity_in_the_Velocity_of_an_Electron.sci"
		   ]
		  },
  {
"cell_type": "code",
	   "execution_count": null,
	   "metadata": {
	    "collapsed": true
	   },
	   "outputs": [],
"source": [
"// Scilab code: Ex3.20 : Minimum uncertainity in the velocity of an electron:Pg: 92 (2008)\n",
"m = 9.1e-031;    // Mass of an electron, kg\n",
"del_x = 1e-010;    // Length of the box, m\n",
"h_bar = 1.054e-034;    // Reduced Plancks constant, joule second\n",
"del_v = h_bar/(m*del_x);    // Minimum uncertainity in velocity, m/s\n",
"printf('\nThe minimum uncertainity in the velocity of electron = %4.2e m/s ', del_v);\n",
"// Result\n",
"// The minimum uncertainity in the velocity of electron = 1.16e+006 m/s  "
   ]
   }
,
{
		   "cell_type": "markdown",
		   "metadata": {},
		   "source": [
			"## Example 3.21: Uncertainity_in_Momentum_and_Kinetic_Energy_of_the_Proton.sci"
		   ]
		  },
  {
"cell_type": "code",
	   "execution_count": null,
	   "metadata": {
	    "collapsed": true
	   },
	   "outputs": [],
"source": [
"// Scilab code: Ex3.21 : Uncertainity in momentum and kinetic energy of the proton:Pg: 92 (2008)\n",
"m = 1.67e-027;    // Mass of a proton, kg\n",
"del_x = 1e-014;    // Uncertainity in position, m\n",
"h_bar = 1.054e-034;    // Reduced Plancks constant, joule second\n",
"del_p = h_bar/del_x;    // Minimum uncertainity in momentum, kgm/s\n",
"del_E = del_p^2/(2*m);    // Minimum uncertainity in kinetic energy, joule\n",
"printf('\nThe minimum uncertainity in momentum of the proton = %5.3e kgm/s', del_p);\n",
"printf('\nThe minimum uncertainity in kinetic energy of the proton = %5.3e eV', del_E/1.6e-019);\n",
"// Result\n",
"// The minimum uncertainity in momentum of the proton = 1.054e-020 kgm/s\n",
"// The minimum uncertainity in kinetic energy of the proton = 2.079e+005 eV "
   ]
   }
,
{
		   "cell_type": "markdown",
		   "metadata": {},
		   "source": [
			"## Example 3.22: Uncertainity_in_the_Position_of_an_Electron.sci"
		   ]
		  },
  {
"cell_type": "code",
	   "execution_count": null,
	   "metadata": {
	    "collapsed": true
	   },
	   "outputs": [],
"source": [
"// Scilab code: Ex3.22 : Uncertainity in the position of an electron:Pg: 93 (2008)\n",
"m = 9.1e-031;    // Mass of an electron, kg\n",
"v = 600;    // Speed of electron, m/s\n",
"h_bar = 6.6e-034;    // Reduced Plancks constant, joule second\n",
"p = m*v;    // Momentum of electron, kgm/s\n",
"del_p = 5e-05*m*v;    // Minimum uncertainity in momentum, kgm/s\n",
"del_x = h_bar/(4*%pi*del_p);    // Uncertainity in position, m\n",
"printf('\nThe uncertainity in the position of the electron = %5.3f mm', del_x/1e-03);\n",
"// Result\n",
"// The uncertainity in the position of the electron = 1.924 mm "
   ]
   }
,
{
		   "cell_type": "markdown",
		   "metadata": {},
		   "source": [
			"## Example 3.23: Uncertainity_in_the_Position_of_a_Bullet.sci"
		   ]
		  },
  {
"cell_type": "code",
	   "execution_count": null,
	   "metadata": {
	    "collapsed": true
	   },
	   "outputs": [],
"source": [
"// Scilab code: Ex3.23 : Uncertainity in the position of a bullet:Pg: 93 (2008)\n",
"m = 0.025;    // Mass of an bullet, kg\n",
"v = 400;    // Speed of bullet, m/s\n",
"h_bar = 6.6e-034;    // Reduced Plancks constant, joule second\n",
"p = m*v;    // Momentum of bullet, kgm/s\n",
"del_p = 2e-04*p;    // Minimum uncertainity in momentum, kgm/s\n",
"del_x = h_bar/(4*%pi*del_p);    // Uncertainity in position, m\n",
"printf('\nThe uncertainity in the position of the bullet = %5.3e m', del_x);\n",
"// Result\n",
"//  The uncertainity in the position of the bullet = 2.626e-032 m "
   ]
   }
,
{
		   "cell_type": "markdown",
		   "metadata": {},
		   "source": [
			"## Example 3.24: Unertainity_in_the_Position_of_an_Electron.sci"
		   ]
		  },
  {
"cell_type": "code",
	   "execution_count": null,
	   "metadata": {
	    "collapsed": true
	   },
	   "outputs": [],
"source": [
"// Scilab code: Ex3.24 : Unertainity in the position of an electron:Pg: 94 (2008)\n",
"m = 9.1e-31;    // Mass of an electron, kg\n",
"v = 300;    // Speed of electron, m/s\n",
"h_bar = 6.6e-034;    // Reduced Plancks constant, joule second\n",
"p = m*v;    // Momentum of electron, kgm/s\n",
"del_p = 1e-04*p;    // Minimum uncertainity in momentum, kgm/s\n",
"del_x = h_bar/(4*%pi*del_p);    // Uncertainity in position, m\n",
"printf('\nThe uncertainity in the position of the electron = %5.3f mm', del_x/1e-03);\n",
"// Result\n",
"//  The uncertainity in the position of the electron = 1.924 mm "
   ]
   }
,
{
		   "cell_type": "markdown",
		   "metadata": {},
		   "source": [
			"## Example 3.25: Unertainity_in_the_Velocity_of_an_Electron.sci"
		   ]
		  },
  {
"cell_type": "code",
	   "execution_count": null,
	   "metadata": {
	    "collapsed": true
	   },
	   "outputs": [],
"source": [
"// Scilab code: Ex3.25 : Unertainity in the velocity of an electron:Pg: 94 (2008)\n",
"m = 9.1e-31;    // Mass of an electron, kg\n",
"del_x = 1e-10;    // Length of box, m\n",
"h_bar = 6.6e-034;    // Reduced Plancks constant, joule second\n",
"del_p = m*del_v;    // Uncertainity in Momentum of electron, kgm/s\n",
"del_v = h_bar/(2*%pi*del_x*m);    // Minimum uncertainity in velocity of an electron, m/s\n",
"printf('\nThe uncertainity in the velocity of the electron = %3.2e m/s', del_v);\n",
"// Result\n",
"// The uncertainity in the velocity of the electron = 1.15e+006 m/s "
   ]
   }
,
{
		   "cell_type": "markdown",
		   "metadata": {},
		   "source": [
			"## Example 3.26: Minimum_Uncertainity_in_the_Energy_of_the_Excited_State_of_an_Atom.sci"
		   ]
		  },
  {
"cell_type": "code",
	   "execution_count": null,
	   "metadata": {
	    "collapsed": true
	   },
	   "outputs": [],
"source": [
"// Scilab code: Ex3.26 : Minimum uncertainity in the energy of the excited state of an atom:Pg: 94 (2008)\n",
"del_t = 1e-08;    // Life time of an excited state of an atom, seconds\n",
"h_bar = 1.054e-034;    // Reduced Plancks constant, joule second\n",
"del_E = h_bar/del_t;    // Minimum uncertainity in the energy of excited state, joule\n",
"printf('\nThe minimum uncertainity in the energy of the excited state = %5.3e joule', del_E);\n",
"// Result\n",
"// The minimum uncertainity in the energy of the excited state = 1.054e-026 joule "
   ]
   }
,
{
		   "cell_type": "markdown",
		   "metadata": {},
		   "source": [
			"## Example 3.2: Wavelength_of_Electrons.sci"
		   ]
		  },
  {
"cell_type": "code",
	   "execution_count": null,
	   "metadata": {
	    "collapsed": true
	   },
	   "outputs": [],
"source": [
"// Scilab code: Ex3.2 : Wavelength of electrons: Pg: 78 (2008)\n",
"h = 6.6e-034;    // Planck's constant, J-s\n",
"m = 9.1e-031;    // mass of an electron, kg\n",
"e = 1.6e-019;    // Charge on an electron, coulomb\n",
"E = 100*e;    // Energy of beam of electrons, joule\n",
"// since E = (m*v^2)/2;    // Energy of beam of electron, joule\n",
"p = sqrt(2*m*E);    // Momentum of beam of electrons, kg-m/s\n",
"L = h/p;    // wavelength of a beam of electron, m\n",
"printf('\nThe wavelength of electrons = %4.2f angstorm', L/1e-010);\n",
"// Result\n",
"// The wavelength of electrons = 1.22 angstorm "
   ]
   }
,
{
		   "cell_type": "markdown",
		   "metadata": {},
		   "source": [
			"## Example 3.3: Momentum_of_Photon.sci"
		   ]
		  },
  {
"cell_type": "code",
	   "execution_count": null,
	   "metadata": {
	    "collapsed": true
	   },
	   "outputs": [],
"source": [
"// Scilab code: Ex3.3 : Momentum of photon: Pg: 78 (2008)\n",
"h = 6.624e-034;    // Planck's constant, J-s\n",
"L = 6e-07;    // wavelength of photon, m\n",
"M = h/L;    // Momentum of photon, kg-m/s\n",
"printf('\nThe momentum of photon = %5.3e kg-m/s', M);\n",
"// Result\n",
"// The momentum of photon = 1.104e-027 kg-m/s "
   ]
   }
,
{
		   "cell_type": "markdown",
		   "metadata": {},
		   "source": [
			"## Example 3.4: Momentum_of_an_electron.sci"
		   ]
		  },
  {
"cell_type": "code",
	   "execution_count": null,
	   "metadata": {
	    "collapsed": true
	   },
	   "outputs": [],
"source": [
"// Scilab code: Ex3.4 : Momentum of an electron: Pg: 78 (2008)\n",
"m = 9.1e-031;    // Mass of an electron, kg\n",
"E = 1.6e-010;    // Kinetic energy of an electron, joule\n",
"// Since E = p^2/2*m;    // Kinetic energy of an electron, joule\n",
"p = sqrt(2*m*E);    // Momentum of an electron, kg-m/s\n",
"printf('\nThe momentum of an electron = %3.1e kg-m/s', p);\n",
"// Result\n",
"// The momentum of an electron = 1.7e-020 kg-m/s  "
   ]
   }
,
{
		   "cell_type": "markdown",
		   "metadata": {},
		   "source": [
			"## Example 3.5: Wavelength_of_a_Particle.sci"
		   ]
		  },
  {
"cell_type": "code",
	   "execution_count": null,
	   "metadata": {
	    "collapsed": true
	   },
	   "outputs": [],
"source": [
"// Scilab code: Ex3.5 : wavelength of a particle: Pg: 79 (2008)\n",
"h = 6.624e-034;    // Planck's constant, J-s\n",
"m = 9e-031;    // Mass of an electron, kg\n",
"U = 1.6e-017;    // Kinetic energy of an particle, joule\n",
"// Since U = (m*v^2)/2;    // Kinetic energy of a particle, joule\n",
"// such that v = sqrt(2*U/m);    // Velocity of the particle, m/s\n",
"L = h/sqrt(2*m*U);    // wavelength of a particle, m\n",
"printf('\nThe wavelength of a particle = %5.3f angstorm', L/1e-010);\n",
"// Result\n",
"// The wavelength of a particle = 1.234 angstorm  "
   ]
   }
,
{
		   "cell_type": "markdown",
		   "metadata": {},
		   "source": [
			"## Example 3.6: Comparison_of_Energy_of_Photon_and_Neutron.sci"
		   ]
		  },
  {
"cell_type": "code",
	   "execution_count": null,
	   "metadata": {
	    "collapsed": true
	   },
	   "outputs": [],
"source": [
"// Scilab code: Ex3.6 : Comparison of energy of photon and neutron: Pg: 79 (2008)\n",
"m = 1.67e-027;    // Mass of neutron, kg\n",
"L = 1e-010;    // Wavelength of neutron and photon, m\n",
"c = 3e+08;    // Velocity of light, m/s\n",
"h = 6.624e-034;    // Plancks constant, joule second\n",
"U_1 = h*c/L;    // Energy of photon, joule\n",
"// Since  U_2 = (m*v^2)/2, Energy of neutron, joule\n",
"// Thus v = h/m*L_2, Velocity of the particle, m/s\n",
"// on solving for U_2\n",
"U_2 = h^2/(2*m*L^2);    // Energy of photon, joule\n",
"printf('\nThe ratio of energy of photon and neutron = %4.2e ', U_1/U_2);\n",
"// Result\n",
"// The ratio of energy of photon and neutron = 1.51e+005  "
   ]
   }
,
{
		   "cell_type": "markdown",
		   "metadata": {},
		   "source": [
			"## Example 3.7: de_Broglie_Wavelength_of_Electrons.sci"
		   ]
		  },
  {
"cell_type": "code",
	   "execution_count": null,
	   "metadata": {
	    "collapsed": true
	   },
	   "outputs": [],
"source": [
"// Scilab code: Ex3.7: de-Broglie wavelength of electrons: Pg: 80 (2008)\n",
"L_1 = 3e-07;    // Wavelength of ultraviolet light, m\n",
"L_0 = 4e-07;    // Threshold wavelength of ultraviolet light, m\n",
"m = 9.1e-031;    // Mass of an electron, kg\n",
"c = 3e+08;    // Velocity of light, m/s\n",
"h = 6.624e-034;    // Plancks constant, joule-second\n",
"U = h*c*(1/L_1-1/L_0);    // Maximum Kinetic energy of emitted electrons, joule\n",
"// since U = m*v^2/2, Kinetic energy of electrons, joule\n",
"// Thus v = sqrt(2*U/m), so that L_2 becomes\n",
"L_2 = h/sqrt(2*m*U);    // wavelength of electrons, m\n",
"printf('\nThe wavelength of the electrons = %3.1f angstorm', L_2/1e-010);\n",
"// Result\n",
"// The wavelength of the electrons = 12.1 angstorm "
   ]
   }
,
{
		   "cell_type": "markdown",
		   "metadata": {},
		   "source": [
			"## Example 3.8: de_Broglie_Wavelength_of_Accelerated_Electrons.sci"
		   ]
		  },
  {
"cell_type": "code",
	   "execution_count": null,
	   "metadata": {
	    "collapsed": true
	   },
	   "outputs": [],
"source": [
"// Scilab code: Ex3.8 : de-Broglie wavelength of accelerated electrons:Pg: 80 (2008)\n",
"m = 9.1e-031;    // Mass of an electron, kg\n",
"e = 1.6e-019;    // Charge on an electron, Coulamb\n",
"h = 6.624e-034;    // Plancks constant, joule second\n",
"V = 1;    // For simplicity, we assume retarding potential to be unity, volt\n",
"// Since  e*V = (m*v^2)/2;    // Energy of electron, joule\n",
"v = sqrt(2*e*V/m);    // Velocity of electrons, m/s\n",
"L = h/(m*v);    // Wavelength of electrons, m\n",
"printf('\nThe de-Broglie wavelength of accelerated electrons = %5.2f/sqrt(V) ', L/1e-010);\n",
"// Result\n",
"// The de-Broglie wavelength of accelerated electrons = 12.28/sqrt(V)"
   ]
   }
,
{
		   "cell_type": "markdown",
		   "metadata": {},
		   "source": [
			"## Example 3.9: Wavelength_of_Matter_Waves.sci"
		   ]
		  },
  {
"cell_type": "code",
	   "execution_count": null,
	   "metadata": {
	    "collapsed": true
	   },
	   "outputs": [],
"source": [
"// Scilab code: Ex3.9 : Wavelength of matter waves: Pg: 81 (2008)\n",
"E = 2e-016;    // Energy of electrons, joule \n",
"h = 6.624e-034;    // Planck's constant, J-s\n",
"m = 9.1e-031;    // mass of the electron, kg\n",
"// since E = (m*v^2)/2, the energy of an electron, joule\n",
"// such that v = sqrt(2*E/m);    // Velocity of electron, m/s\n",
"// As L = h/m*v, wavelength of the electron, m\n",
"// on solving for L in terms of E\n",
"L = h/sqrt(2*m*E);    // wavelength of the electron, m\n",
"printf('\nThe wavelength of the electron = %5.3f angstorm', L/1e-010);\n",
"// Result\n",
"// The wavelength of the electron = 0.347 angstorm"
   ]
   }
],
"metadata": {
		  "kernelspec": {
		   "display_name": "Scilab",
		   "language": "scilab",
		   "name": "scilab"
		  },
		  "language_info": {
		   "file_extension": ".sce",
		   "help_links": [
			{
			 "text": "MetaKernel Magics",
			 "url": "https://github.com/calysto/metakernel/blob/master/metakernel/magics/README.md"
			}
		   ],
		   "mimetype": "text/x-octave",
		   "name": "scilab",
		   "version": "0.7.1"
		  }
		 },
		 "nbformat": 4,
		 "nbformat_minor": 0
}
