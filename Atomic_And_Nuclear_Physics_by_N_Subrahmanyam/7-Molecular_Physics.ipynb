{
"cells": [
 {
		   "cell_type": "markdown",
	   "metadata": {},
	   "source": [
       "# Chapter 7: Molecular Physics"
	   ]
	},
{
		   "cell_type": "markdown",
		   "metadata": {},
		   "source": [
			"## Example 7.1: Frequency_of_Oscillation_of_a_Hydrogen_Molecule.sci"
		   ]
		  },
  {
"cell_type": "code",
	   "execution_count": null,
	   "metadata": {
	    "collapsed": true
	   },
	   "outputs": [],
"source": [
"// Scilab code: Ex7.1 : Frequency of oscillation of a hydrogen molecule: Pg: 170 (2008)\n",
"K = 4.8e+02;    // Force constant, N/m\n",
"m = 1.67e-027;    // Mass of hydrogen atom, kg\n",
"mu = m/2;    // Reduced mass of the system, kg\n",
"v = 1/(2*%pi)*sqrt(K/mu);    // Frequency of oscillation of a hydrogen molecule, Hz\n",
"printf('\nThe frequency of oscillation of a hydrogen molecule = %3.1e Hz', v);\n",
"// Result\n",
"// The frequency of oscillation of a hydrogen molecule = 1.2e+014 Hz"
   ]
   }
,
{
		   "cell_type": "markdown",
		   "metadata": {},
		   "source": [
			"## Example 7.2: Bond_Length_of_Carbon_Monoxide.sci"
		   ]
		  },
  {
"cell_type": "code",
	   "execution_count": null,
	   "metadata": {
	    "collapsed": true
	   },
	   "outputs": [],
"source": [
"// Scilab code: Ex7.2: bond Length of carbon monoxide: Pg: 170 (2008)\n",
"h = 6.626e-034;    // Planck's constant, Js\n",
"c = 2.997e+010;    // Speed of light, cm/s\n",
"B = 1.921;    // Rotational constant for CO, per cm\n",
"nu_bar = 2*B;    // Wavenumber of first line in rotation spectra of CO, per cm\n",
"mu = 11.384e-027;    // Reduced mass of the CO system, per cm\n",
"I = 2*h/(8*%pi^2*nu_bar*c);    // Moment of inertia of CO molecule about the axis of rotation, kg-m/s\n",
"r = sqrt(I/mu);    // Bond length of CO molecule, m\n",
"printf('\nThe bond length of CO molecule = %5.2f angstrom', r/1e-010);\n",
"// Result\n",
"// The bond length of CO molecule =  1.13 angstrom "
   ]
   }
,
{
		   "cell_type": "markdown",
		   "metadata": {},
		   "source": [
			"## Example 7.3: Intensity_Ratio_of_J_states_for_HCL_Molecule.sci"
		   ]
		  },
  {
"cell_type": "code",
	   "execution_count": null,
	   "metadata": {
	    "collapsed": true
	   },
	   "outputs": [],
"source": [
"// Scilab code: Ex7.3: Intensity ratio of J states for HCL molecule: Pg: 171 (2008)\n",
"e = 1.6e-019;    // Energy equivalent of 1 eV, J/eV\n",
"K = 1.38e-23;    // Boltzmann constant, J/K\n",
"T = 300;    // Absolute room temperature, K\n",
"J1 = 0;    // Rotational quantum number for ground level\n",
"J2 = 10;    // Rotational quantum number for 10th level\n",
"EJ1 = J1*(J1+1)*1.3e-03;    // Energy of ground level of HCL molecule, eV\n",
"EJ2 = J2*(J2+1)*1.3e-03;    // Energy of 10th level of HCL molecule, eV\n",
"// As n10/n0 is propotional to (2J+1)*exp(-(EJ2-EJ1))/KT, so\n",
"I_ratio = (2*J2+1)/(2*J1+1)*exp(-(EJ2 - EJ1)/(K*T/e));    // Intensity ratio of J10 and J1 states\n",
"printf('\nThe intensity ratio of J-states for HCL molecule = %4.2f', I_ratio);\n",
"// Result\n",
"// The intensity ratio of J-states for HCL molecule = 0.08"
   ]
   }
,
{
		   "cell_type": "markdown",
		   "metadata": {},
		   "source": [
			"## Example 7.4: CO_Molecule_in_Lower_State.sci"
		   ]
		  },
  {
"cell_type": "code",
	   "execution_count": null,
	   "metadata": {
	    "collapsed": true
	   },
	   "outputs": [],
"source": [
"// Scilab code: Ex7.4: CO molecule in lower state: Pg: 171 (2008)\n",
"R = 1.13e-010;    // Bond length of CO molecule, m\n",
"h_red = 1.054e-034;    // Reduced Planck's constant, Js\n",
"mu = 1.14e-026;    // Reduced mass ofthe system, kg\n",
"J = 1;    // Rotational quantum number for lowest state\n",
"I = mu*R^2;    // Moment of inertia of CO molecule about the axis of rotation, kg-metre square\n",
"EJ = J*(J + 1)*h_red^2/(2*I);    // Energy of the CO molecule in the lowest state, J\n",
"omega = sqrt(2*EJ/I);    // Angular velocity of the CO molecule in the lowest state, rad per sec\n",
"printf('\nThe energy of the CO molecule in the lowest state = %4.2e J', EJ);\n",
"printf('\nThe angular velocity of the CO molecule in the lowest state = %4.2e rad/sec', omega);\n",
"// Result\n",
"// The energy of the CO molecule in the lowest state = 7.63e-023 J\n",
"// The angular velocity of the CO molecule in the lowest state = 1.02e+012 rad/sec "
   ]
   }
],
"metadata": {
		  "kernelspec": {
		   "display_name": "Scilab",
		   "language": "scilab",
		   "name": "scilab"
		  },
		  "language_info": {
		   "file_extension": ".sce",
		   "help_links": [
			{
			 "text": "MetaKernel Magics",
			 "url": "https://github.com/calysto/metakernel/blob/master/metakernel/magics/README.md"
			}
		   ],
		   "mimetype": "text/x-octave",
		   "name": "scilab",
		   "version": "0.7.1"
		  }
		 },
		 "nbformat": 4,
		 "nbformat_minor": 0
}
