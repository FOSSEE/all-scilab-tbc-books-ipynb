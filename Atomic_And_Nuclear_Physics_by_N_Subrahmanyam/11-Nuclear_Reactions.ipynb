{
"cells": [
 {
		   "cell_type": "markdown",
	   "metadata": {},
	   "source": [
       "# Chapter 11: Nuclear Reactions"
	   ]
	},
{
		   "cell_type": "markdown",
		   "metadata": {},
		   "source": [
			"## Example 11.1: Energy_Balance_of_a_Nuclear_Reaction.sci"
		   ]
		  },
  {
"cell_type": "code",
	   "execution_count": null,
	   "metadata": {
	    "collapsed": true
	   },
	   "outputs": [],
"source": [
"// Scilab code: Ex11.1 : Energy balance of a nuclear reaction: Pg: 229 (2008)\n",
"mu = 931.5;    // Energy equivalent of 1 amu, MeV\n",
"M_D = 2.0141;    // Mass of deuterium atom, amu\n",
"M_He = 3.01603;    // Mass of helium-3, amu\n",
"mn = 1.008665;    // Mass of neutron, amu\n",
"MD = (2*M_D - M_He - mn);    // Mass defect of the reaction, amu\n",
"Q = MD*mu;    // Energy balance of the nuclear reaction, MeV\n",
"printf('\nThe energy balance of the nuclear reaction = %4.2f MeV', Q);\n",
"// Result\n",
"// The energy balance of the nuclear reaction = 3.26 MeV"
   ]
   }
,
{
		   "cell_type": "markdown",
		   "metadata": {},
		   "source": [
			"## Example 11.2: Threshold_Energy_for_the_Reaction.sci"
		   ]
		  },
  {
"cell_type": "code",
	   "execution_count": null,
	   "metadata": {
	    "collapsed": true
	   },
	   "outputs": [],
"source": [
"// Scilab code: Ex11.2: Threshold energy for the reaction: Pg:229 (2008)\n",
"mu = 931.5;    // Energy equivalent of 1 amu, MeV\n",
"mx = 1.008665;    // Mass of neutron, amu\n",
"Mx = 13.003355;    // Mass of carbon atom, amu\n",
"M_alpha = 4.002603;    // Mass of alpha particle, amu\n",
"M_Be = 10.013534;    // Mass of beryllium, amu\n",
"MD = (Mx + mx - M_Be - M_alpha);    // Mass defect of the reaction, amu\n",
"Q = MD*mu;    // Q-value of the nuclear reaction, MeV\n",
"E_th = -Q*(1 + mx/Mx);    // Threshold energy for the reaction in the laboratory, MeV\n",
"printf('\nThe threshold energy of the reaction is = %4.2f MeV', E_th);\n",
"// Result\n",
"// The threshold energy of the reaction is = 4.13 MeV "
   ]
   }
,
{
		   "cell_type": "markdown",
		   "metadata": {},
		   "source": [
			"## Example 11.3: Gamma_Ray_Emissio.sci"
		   ]
		  },
  {
"cell_type": "code",
	   "execution_count": null,
	   "metadata": {
	    "collapsed": true
	   },
	   "outputs": [],
"source": [
"// Scilab code: Ex11.3 : Gamma ray emission: Pg: 229 (2008)\n",
"h_bar = 1.0e-034;    // Order of reduced Planck's constant, Js\n",
"e = 1.0e-019;    // Order of energy equivalent of 1 eV, J/eV\n",
"tau1 = 1e-009;    // Life time of gamma ray emission, sec\n",
"tau2 = 1e-012;    // Life time of gamma ray emission, sec \n",
"W1 = h_bar/tau1;    // Full width at half maxima for tau1, eV\n",
"W2 = h_bar/tau2;    // Full width at half maxima for tau2, eV\n",
"printf('\nThe full width at half maxima for %1.0e = %1.0e eV', tau1, W1/e);\n",
"printf('\nThe full width at half maxima for %1.0e = %1.0e eV', tau2, W2/e);\n",
"// Result\n",
"// The full width at half maxima for 1e-009 = 1e-006 eV\n",
"// The full width at half maxima for 1e-012 = 1e-003 eV "
   ]
   }
],
"metadata": {
		  "kernelspec": {
		   "display_name": "Scilab",
		   "language": "scilab",
		   "name": "scilab"
		  },
		  "language_info": {
		   "file_extension": ".sce",
		   "help_links": [
			{
			 "text": "MetaKernel Magics",
			 "url": "https://github.com/calysto/metakernel/blob/master/metakernel/magics/README.md"
			}
		   ],
		   "mimetype": "text/x-octave",
		   "name": "scilab",
		   "version": "0.7.1"
		  }
		 },
		 "nbformat": 4,
		 "nbformat_minor": 0
}
