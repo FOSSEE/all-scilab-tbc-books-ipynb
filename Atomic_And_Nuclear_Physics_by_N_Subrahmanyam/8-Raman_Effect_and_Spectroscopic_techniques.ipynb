{
"cells": [
 {
		   "cell_type": "markdown",
	   "metadata": {},
	   "source": [
       "# Chapter 8: Raman Effect and Spectroscopic techniques"
	   ]
	},
{
		   "cell_type": "markdown",
		   "metadata": {},
		   "source": [
			"## Example 8.1: Stokes_and_Anti_Stokes_Wavelength.sci"
		   ]
		  },
  {
"cell_type": "code",
	   "execution_count": null,
	   "metadata": {
	    "collapsed": true
	   },
	   "outputs": [],
"source": [
"// Scilab code: Ex8.1 : Stokes and anti stokes wavelength: Pg: 184 (2008)\n",
"c = 3e+08;    // Speed of light, m/s\n",
"Lo = 2537e-010;    // Wavelength of the exciting line, metre\n",
"Ls = 2683e-010;    // Wavelength of stokes line, metre\n",
"Lm = (Ls * Lo)/(Ls - Lo);    // Raman shift, per m\n",
"printf('\nThe Raman shift = %5.3e per cm', 1/Lm*1e-02);\n",
"Lo1 = 5461e-010;    // Wavelength of exciting line for stokes wavelength, metre\n",
"Ls = (Lm * Lo1)/(Lm - Lo1);    // Stokes wavelength for the new exciting line, metre\n",
"Las = (Lm * Lo1)/(Lm + Lo1);    // Anti-Stokes wavelength for the new exciting line, metre\n",
"printf('\nThe stokes wavelength for the new exciting line = %4d angstrom', Ls/1e-010);\n",
"printf('\nThe anti-stokes wavelength for the new exciting line = %4d angstrom', Las/1e-010);\n",
"// Result\n",
"// The Raman shift = 2.145e+003 per cm\n",
"// The stokes wavelength for the new exciting line = 6185 angstrom\n",
"// The anti-stokes wavelength for the new exciting line = 4888 angstrom "
   ]
   }
,
{
		   "cell_type": "markdown",
		   "metadata": {},
		   "source": [
			"## Example 8.2: Wvelength_of_Infrared_Absorption_Line.sci"
		   ]
		  },
  {
"cell_type": "code",
	   "execution_count": null,
	   "metadata": {
	    "collapsed": true
	   },
	   "outputs": [],
"source": [
"// Scilab code: Ex8.2 : Wvelength of infrared absorption line: Pg: 185 (2008)\n",
"L1 = 4554;    // wavelength of the stokes line, angstorm\n",
"L2 = 4178;    // wavelength of antistokes line, angstorm\n",
"Lm = 2*L1*L2/[L1-L2];    // Wavelength of infrared absorption line, angstorm\n",
"printf('\nThe Wavelength of infrared absorption line = %5.3e angstorm', Lm);\n",
"// Result\n",
"// The Wavelength of infrared absorption line = 1.012e+005 angstorm "
   ]
   }
],
"metadata": {
		  "kernelspec": {
		   "display_name": "Scilab",
		   "language": "scilab",
		   "name": "scilab"
		  },
		  "language_info": {
		   "file_extension": ".sce",
		   "help_links": [
			{
			 "text": "MetaKernel Magics",
			 "url": "https://github.com/calysto/metakernel/blob/master/metakernel/magics/README.md"
			}
		   ],
		   "mimetype": "text/x-octave",
		   "name": "scilab",
		   "version": "0.7.1"
		  }
		 },
		 "nbformat": 4,
		 "nbformat_minor": 0
}
