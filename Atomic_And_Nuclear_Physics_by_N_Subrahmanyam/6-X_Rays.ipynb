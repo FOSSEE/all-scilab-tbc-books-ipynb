{
"cells": [
 {
		   "cell_type": "markdown",
	   "metadata": {},
	   "source": [
       "# Chapter 6: X Rays"
	   ]
	},
{
		   "cell_type": "markdown",
		   "metadata": {},
		   "source": [
			"## Example 6.1: Wavelength_of_X_rays.sci"
		   ]
		  },
  {
"cell_type": "code",
	   "execution_count": null,
	   "metadata": {
	    "collapsed": true
	   },
	   "outputs": [],
"source": [
"// Scilab code: Ex6.1 : Wavelength of X-rays: Pg: 156 (2008)\n",
"h = 6.6e-034;    // Planck's constant, J-s\n",
"V = 50000;    // Potential difference, volts\n",
"c = 3e+08;    // Velocity of light, m/s\n",
"e = 1.6e-019;    // Charge of an electron, coulombs\n",
"L_1 = h*c/(e*V);    // wavelength of X-rays, m\n",
"L = L_1/1e-010;    // wavelength of X-rays, angstorm\n",
"printf('\nThe shortest wavelength of X-rays = %6.4f angstorm', L);\n",
"// Result\n",
"// The shortest wavelength of X-rays = 0.2475 angstorm"
   ]
   }
,
{
		   "cell_type": "markdown",
		   "metadata": {},
		   "source": [
			"## Example 6.2: Plancks_constant.sci"
		   ]
		  },
  {
"cell_type": "code",
	   "execution_count": null,
	   "metadata": {
	    "collapsed": true
	   },
	   "outputs": [],
"source": [
"// Scilab code: Ex6.2 : Planck's constant: Pg: 156 (2008)\n",
"L = 24.7e-012;    // Wavelength of X-rays, m\n",
"V = 50000;    // Potential difference, volts\n",
"c = 3e+08;    // Velocity of light, m/s\n",
"e = 1.6e-019;    // Charge of an electron, coulombs\n",
"// Since e*V = h*c/L;    // Energy required by an electron to move through a potential barrier of one volt, joules\n",
"// solving for h\n",
"h = e*V*L/c;    // Planck's constant, Joule second\n",
"printf('\nh = %3.1e Js ', h);\n",
"// Result\n",
"// h = 6.6e-034 Js"
   ]
   }
,
{
		   "cell_type": "markdown",
		   "metadata": {},
		   "source": [
			"## Example 6.3: Short_Wavelength_Limit.sci"
		   ]
		  },
  {
"cell_type": "code",
	   "execution_count": null,
	   "metadata": {
	    "collapsed": true
	   },
	   "outputs": [],
"source": [
"// Scilab code: Ex6.3 : Short wavelength limit : Pg: 156 (2008)\n",
"V = 50000;    // Potential difference, volts\n",
"h = 6.624e-034;    // Planck's constant, Js\n",
"c = 3e+08;    // Velocity of light, m/s\n",
"e = 1.6e-019;    // Charge of an electron, coulombs\n",
"// Since e*V = h*c/L;    // Energy required by an electron to move through a potential barrier of one volt, joules\n",
"// solving for L\n",
"L = h*c/(e*V);    // Short wavelength limit of X-ray, m\n",
"printf('\nShort wavelength limit of X-ray = %6.4f angstorm', L/1e-010);\n",
"// Result\n",
"// Short wavelength limit of X-ray = 0.2484 angstorm "
   ]
   }
,
{
		   "cell_type": "markdown",
		   "metadata": {},
		   "source": [
			"## Example 6.4: Wavelength_Limit_of_X_rays.sci"
		   ]
		  },
  {
"cell_type": "code",
	   "execution_count": null,
	   "metadata": {
	    "collapsed": true
	   },
	   "outputs": [],
"source": [
"// Scilab code: Ex6.4 : Wavelength limit of X-rays : Pg: 157 (2008)\n",
"V = 20000;    // Potential difference, volt\n",
"h = 6.624e-034;    // Planck's constant, Js\n",
"c = 3e+08;    // Velocity of light, m/s\n",
"e = 1.6e-019;    // Charge of an electron, coulombs\n",
"// Since e*V = h*c/L;    // Energy required by an electron to move through a potential barrier of one volt, joules\n",
"// solving for L\n",
"L = h*c/(e*V);    // Wavelength limit of X-rays, m\n",
"printf('\nShort wavelength limit of X-ray = %6.4f angstorm', L/1e-010);\n",
"// Result\n",
"// Short wavelength limit of X-ray = 0.6210 angstorm "
   ]
   }
,
{
		   "cell_type": "markdown",
		   "metadata": {},
		   "source": [
			"## Example 6.5: Minimum_Voltage_of_an_X_ray_Tube.sci"
		   ]
		  },
  {
"cell_type": "code",
	   "execution_count": null,
	   "metadata": {
	    "collapsed": true
	   },
	   "outputs": [],
"source": [
"// Scilab code: Ex6.5 : Minimum voltage of an X-ray tube : Pg: 157 (2008)\n",
"h = 6.625e-034;    // Planck's constant, Js\n",
"c = 3e+08;    // Velocity of light, m/s\n",
"e = 1.6e-019;    // Charge of an electron, coulombs\n",
"L = 1e-010;    // Wavelength of X-rays, m\n",
"// Since e*V = h*c/L;    // Energy required by an electron to move through a potential barrier of one volt, joules\n",
"// solving for V\n",
"V = h*c/(L*e);    // Potential difference, volts\n",
"printf('\nThe minimum voltage of an X-ray tube = %5.2f kV', V/1e+03);\n",
"// Result\n",
"// The minimum voltage of an X-ray tube = 12.42 kV "
   ]
   }
,
{
		   "cell_type": "markdown",
		   "metadata": {},
		   "source": [
			"## Example 6.6: Minimum_Wavelength_Emitted_by_an_X_ray_Tube.sci"
		   ]
		  },
  {
"cell_type": "code",
	   "execution_count": null,
	   "metadata": {
	    "collapsed": true
	   },
	   "outputs": [],
"source": [
"// Scilab code: Ex6.6 : Minimum wavelength emitted by an X-ray tube : Pg: 157 (2008)\n",
"h = 6.625e-034;    // Planck's constant, Js\n",
"c = 3e+08;    // Velocity of light, m/s\n",
"e = 1.6e-019;    // Charge of an electron, coulombs\n",
"V = 4.5e+04;    // Accelerating potential of X-ray tube, volt\n",
"// Since e*V = h*c/L_min;    // Energy required by an electron to move through a potential barrier of one volt, joules\n",
"// solving for L_min\n",
"L_min = h*c/(V*e);    // Minimum wavelength emitted by an X-ray tube, m\n",
"printf('\nThe minimum wavelength emitted by the X-ray tube = %5.3f angstrom', L_min/1e-010);\n",
"// Result\n",
"// The minimum wavelength emitted by the X-ray tube = 0.276 angstrom "
   ]
   }
,
{
		   "cell_type": "markdown",
		   "metadata": {},
		   "source": [
			"## Example 6.7: Critical_Voltage_for_Stimualted_Emissio.sci"
		   ]
		  },
  {
"cell_type": "code",
	   "execution_count": null,
	   "metadata": {
	    "collapsed": true
	   },
	   "outputs": [],
"source": [
"// Scilab code: Ex6.7: Critical voltage for stimualted emission : Pg: 158 (2008)\n",
"h = 6.625e-034;    // Planck's constant, Js\n",
"c = 3e+08;    // Velocity of light, m/s\n",
"e = 1.6e-019;    // Charge of an electron, coulombs\n",
"L_k = 0.178e-010;    // Wavelength of k absorption egde of X-rays, m\n",
"// Since e*V_critical = h*c/L;    // Energy required by an electron to move through a potential barrier of one volt, joules\n",
"// solving for V_critical\n",
"V_critical = h*c/(L_k*e);    // Crtical voltage for stimulated enission, volt\n",
"printf('\nThe critical voltage for stimulated emission = %4.1f kV', V_critical/1e+03);\n",
"// Result\n",
"// The critical voltage for stimulated emission = 69.8 kV "
   ]
   }
],
"metadata": {
		  "kernelspec": {
		   "display_name": "Scilab",
		   "language": "scilab",
		   "name": "scilab"
		  },
		  "language_info": {
		   "file_extension": ".sce",
		   "help_links": [
			{
			 "text": "MetaKernel Magics",
			 "url": "https://github.com/calysto/metakernel/blob/master/metakernel/magics/README.md"
			}
		   ],
		   "mimetype": "text/x-octave",
		   "name": "scilab",
		   "version": "0.7.1"
		  }
		 },
		 "nbformat": 4,
		 "nbformat_minor": 0
}
