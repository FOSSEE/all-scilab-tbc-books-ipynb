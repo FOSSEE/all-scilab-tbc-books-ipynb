{
"cells": [
 {
		   "cell_type": "markdown",
	   "metadata": {},
	   "source": [
       "# Chapter 4: Mechanics"
	   ]
	},
{
		   "cell_type": "markdown",
		   "metadata": {},
		   "source": [
			"## Example 4.1: Percentage_Transmission_of_Beam_Through_Potential_Barrier.sci"
		   ]
		  },
  {
"cell_type": "code",
	   "execution_count": null,
	   "metadata": {
	    "collapsed": true
	   },
	   "outputs": [],
"source": [
"// Scilab code: Ex4.1 : Percentage transmission of beam through potential barrier: Pg: 124 (2008)\n",
"eV = 1.6e-019;    // Energy required by an electron to move through a potential barrier of one volt, joules\n",
"m = 9.1e-031;    // Mass of electron, kg\n",
"E = 4*eV;    // Energy of each electron, joule\n",
"Vo = 6*eV    // Height of potential barrier, joule\n",
"a = 10e-010;    // Width of potential barrier, m\n",
"h_bar = 1.054e-34;    // Reduced Planck's constant, J-s\n",
"k = 2*m*(Vo-E)/h_bar^2\n",
"// Since 2*k*a = 2*a*[2*m*(Vo-E)^1/2]/h_bar so\n",
"pow = 2*a/h_bar*[2*m*(Vo-E)]^(1/2);    // Power of exponential in the expression for T\n",
"T = [16*E/Vo]*[1-E/Vo]*exp(-1*pow);    // Transmission coefficient of the beam through the potential barrier\n",
"percent_T = T*100;    \n",
"printf('\nThe percentage transmission of beam throught potential barrier = %5.3e percent', percent_T);\n",
"// Result\n",
"// The percentage transmission of beam throught potential barrier = 1.828e-004 percent"
   ]
   }
,
{
		   "cell_type": "markdown",
		   "metadata": {},
		   "source": [
			"## Example 4.2: Width_of_the_Potential_Barrier.sci"
		   ]
		  },
  {
"cell_type": "code",
	   "execution_count": null,
	   "metadata": {
	    "collapsed": true
	   },
	   "outputs": [],
"source": [
"// Scilab code: Ex4.2 : Width of the potential barrier: Pg: 125 (2008)\n",
"A = 222;    // Atomic weight of radioactive atom\n",
"Z = 86;    // Atomic number of radioactive atom\n",
"eV = 1.6e-19;    // Energy required by an electron to move through a potential barrier of one volt, joules\n",
"epsilon_0 = 8.854e-012;    // Absolute electrical permittivity of free space, coulomb square per newton per metre square\n",
"e = 1.6e-19;     // Charge on an electron, coulomb\n",
"r0 = 1.5e-015;    // Nuclear radius constant, m\n",
"r = r0*A^(1/3);    // Radius of the radioactive atom, m\n",
"E = 4*eV*1e+06;    // Kinetic energy of an alpha particle, joule\n",
"// At the distance of closest approach, r1, E = 2*(Z-2)*e^2/(4*%pi*epsilon_0*r1)\n",
"// Solving for r1, we have\n",
"r1 = 2*(Z-2)*e^2/(4*%pi*epsilon_0*E);    // The distance form the centre of the nucleus at which PE = KE\n",
"a = r1 - r;    // Width of the potential barrier, m\n",
"printf('\nThe width of the potential barrier of the alpha particle = %5.2e m', a);\n",
"// Result\n",
"// The width of the potential barrier of the alpha particle = 5.13e-014 m"
   ]
   }
,
{
		   "cell_type": "markdown",
		   "metadata": {},
		   "source": [
			"## Example 4.3: Energy_of_Electrons_Through_the_Potential_Barrier.sci"
		   ]
		  },
  {
"cell_type": "code",
	   "execution_count": null,
	   "metadata": {
	    "collapsed": true
	   },
	   "outputs": [],
"source": [
"// Scilab code: Ex4.3: Energy of electrons through the potential barrier : Pg : 125 (2008)\n",
"h_bar = 1.054e-34;    // Reduced Planck's constant, J-s\n",
"Vo = 8e-019;    // Height of potential barrier, joules\n",
"m = 9.1e-031;    // Mass of an electron, kg\n",
"a = 5e-010;    // Width of potential barrier, m\n",
"T = 1/2;    // Transmission coefficient of electrons\n",
"// As T = 1/((1 + m*Vo^2*a^2)/2*E*h^2), solving for E we have\n",
"E = m*Vo^2*a^2/(2*(1/T-1)*h_bar^2*1.6e-019);    // Energy of half of the electrons through the potential barrier, eV\n",
"printf('\nThe energy of electrons through the potential barrier = %5.2f eV', E);\n",
"// Result\n",
"// The energy of electrons through the potential barrier = 40.96 eV "
   ]
   }
,
{
		   "cell_type": "markdown",
		   "metadata": {},
		   "source": [
			"## Example 4.4: Zero_Point_Energy_of_a_System.sci"
		   ]
		  },
  {
"cell_type": "code",
	   "execution_count": null,
	   "metadata": {
	    "collapsed": true
	   },
	   "outputs": [],
"source": [
"// Scilab code: Ex4.4 : Zero point energy of a system : Pg: 126 (2008)\n",
"h = 6.626e-034;    // Planck's constant, Js\n",
"x = 1e-02;    // Displacement of the spring about its mean position, m\n",
"F = 1e-02;    // Force applied to the spring-mass system, N\n",
"m = 1e-03;    // Mass of attached to the spring, kg\n",
"// As F = k*x, k = 4*%pi^2*f^2*m is the stiffness constant, solving for f, \n",
"f = sqrt(F/(4*%pi^2*m*x));    // Frequency of oscillations of mass-spring system, Hz\n",
"U = 1/2*h*f;    // Zero point energy of the mass-spring system, J\n",
"printf('\nThe zero point energy of the mass-spring system = %4.2e J', U);\n",
"// Result\n",
"// The zero point energy of the mass-spring system = 1.67e-033 J"
   ]
   }
],
"metadata": {
		  "kernelspec": {
		   "display_name": "Scilab",
		   "language": "scilab",
		   "name": "scilab"
		  },
		  "language_info": {
		   "file_extension": ".sce",
		   "help_links": [
			{
			 "text": "MetaKernel Magics",
			 "url": "https://github.com/calysto/metakernel/blob/master/metakernel/magics/README.md"
			}
		   ],
		   "mimetype": "text/x-octave",
		   "name": "scilab",
		   "version": "0.7.1"
		  }
		 },
		 "nbformat": 4,
		 "nbformat_minor": 0
}
