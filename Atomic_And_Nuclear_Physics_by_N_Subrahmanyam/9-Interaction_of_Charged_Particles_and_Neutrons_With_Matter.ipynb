{
"cells": [
 {
		   "cell_type": "markdown",
	   "metadata": {},
	   "source": [
       "# Chapter 9: Interaction of Charged Particles and Neutrons With Matter"
	   ]
	},
{
		   "cell_type": "markdown",
		   "metadata": {},
		   "source": [
			"## Example 9.1: Maximum_Energy_Transferred_by_Alpha_Particles.sci"
		   ]
		  },
  {
"cell_type": "code",
	   "execution_count": null,
	   "metadata": {
	    "collapsed": true
	   },
	   "outputs": [],
"source": [
"// Scilab Code Ex9.1 Maximum energy transferred by alpha particles: Pg:201 (2008)\n",
"E_alpha = 3e+06;    // Incident energy of alpha particles, eV\n",
"m = 9.1e-031;    // Mass of an electron, kg\n",
"M = 4*1.67e-027;    // Mass of an alpha particle, kg\n",
"// As E_alpha = 1/2*M*v^2 so E_electron = 1/2*m*(2*v)^2\n",
"// From the two equations\n",
"E_electron = 4*E_alpha*m/M;    // Maximum energy of electron, eV\n",
"printf('\nThe maximum energy transferred by alpha particles to the electron = %5.3f keV', E_electron/1e+03);\n",
"// Result \n",
"// The maximum energy transferred by alpha particles to the electron = 1.635 keV "
   ]
   }
,
{
		   "cell_type": "markdown",
		   "metadata": {},
		   "source": [
			"## Example 9.2: Rate_of_Energy_Loss_and_Range_of_Deuteron_and_Alpha_Particle.sci"
		   ]
		  },
  {
"cell_type": "code",
	   "execution_count": null,
	   "metadata": {
	    "collapsed": true
	   },
	   "outputs": [],
"source": [
"// Scilab Code Ex9.2 Rate of energy loss and range of deuteron and alpha particle: Pg:201 (2008)\n",
"E_loss_P = 59;    // Specific rate of energy loss per unit mass per unit area of proton, keV per mg cm square\n",
"R_prime_P = 50;    // Range of proton, mg per cm\n",
"Z_D = 1;    // Atomic number of deuteron\n",
"m_D = 2;    // Mass of deuteron, units\n",
"E_loss_D = Z_D^2*E_loss_P;    // Specific rate of energy loss per unit mass per unit area of deuteron, keV per mg cm square\n",
"R_prime_D = R_prime_P*m_D/Z_D^2;    // Range of deuteron, mg per cm square\n",
"Z_alpha = 2;    // Atomic number of alpha particle\n",
"m_alpha = 4;    // Mass of alpha particle, units\n",
"E_loss_alpha = Z_alpha^2*E_loss_P;    // Specific rate of energy loss per unit mass per unit area of alpha particle, keV per mg cm square\n",
"R_prime_alpha = R_prime_P*m_alpha/Z_alpha^2;    // Range of alpha particle, mg per cm square\n",
"printf('\nThe specific rate of energy loss per unit mass per unit area of deuteron = %2d keV per mg cm square', E_loss_D);\n",
"printf('\nThe range of deuteron = %3d mg per cm square', R_prime_D);\n",
"printf('\nThe specific rate of energy loss per unit mass per unit area of alpha particle = %2d keV per mg cm square', E_loss_alpha);\n",
"printf('\nThe range of alpha particle = %2d mg per cm square', R_prime_alpha);\n",
"// Result \n",
"// The specific rate of energy loss per unit mass per unit area of deuteron = 59 keV per mg cm square\n",
"// The range of deuteron = 100 mg per cm square\n",
"// The specific rate of energy loss per unit mass per unit area of alpha particle = 236 keV per mg cm square\n",
"// The range of alpha particle = 50 mg per cm square "
   ]
   }
,
{
		   "cell_type": "markdown",
		   "metadata": {},
		   "source": [
			"## Example 9.3: Thickness_of_Concrete_Collimator.sci"
		   ]
		  },
  {
"cell_type": "code",
	   "execution_count": null,
	   "metadata": {
	    "collapsed": true
	   },
	   "outputs": [],
"source": [
"// Scilab Code Ex9.3 Thickness of concrete collimator: Pg:202 (2008)\n",
"rho = 2200e-03;    // Density of concrete, g per cm\n",
"mu_m = 0.064;    // Mass attenuation coefficient of concrete, cm square per g\n",
"mu = rho*mu_m;    // Linear attenuation coefficient o concrete, per cm\n",
"// As attenuation exponential is exp(-mu*x) = 1e+06, solving for x\n",
"x = -log(1e-06)/mu;\n",
"printf('\nThe required thickness of concrete to attenuate a collimated beam = %2d cm', x);\n",
"// Result \n",
"// The required thickness of concrete to attenuate a collimated beam = 98 cm "
   ]
   }
,
{
		   "cell_type": "markdown",
		   "metadata": {},
		   "source": [
			"## Example 9.4: Average_Number_of_Collsions_for_Thermalization_of_Neutrons.sci"
		   ]
		  },
  {
"cell_type": "code",
	   "execution_count": null,
	   "metadata": {
	    "collapsed": true
	   },
	   "outputs": [],
"source": [
"// Scilab Code Ex9.4 Average number of collsions for thermalization of neutrons: Pg:202 (2008)\n",
"A = 9;    // Mass number of beryllium\n",
"xi = 2/A - 4/(3*A^2);    // Logarithmic energy decrement of energy distribution of neutron\n",
"E0 = 2;    // Initial energy of neutrons, MeV\n",
"En_prime = 0.025e-06;    // Thermal energy of the neutrons, MeV\n",
"n = 1/xi*log(E0/En_prime);    // Average number of collisions needed for neutrons to thermalize\n",
"En_half = 1/2*E0;    // Half of the initial energy of neutrons, MeV\n",
"n_half = 1/xi*log(E0/En_half);    // Number of collsions for half the initial energy of neutrons\n",
"printf('\nThe average number of collsions for thermalization of neutrons = %2d', n);\n",
"printf('\nThe number of collsions for half the initial energy of neutrons = %3.1f', n_half);\n",
"// Result \n",
"// The average number of collsions for thermalization of neutrons = 88\n",
"// The number of collsions for half the initial energy of neutrons = 3.4"
   ]
   }
,
{
		   "cell_type": "markdown",
		   "metadata": {},
		   "source": [
			"## Example 9.5: Change_in_Voltage_Across_a_G_M_Tube.sci"
		   ]
		  },
  {
"cell_type": "code",
	   "execution_count": null,
	   "metadata": {
	    "collapsed": true
	   },
	   "outputs": [],
"source": [
"// Scilab Code Ex9.5 Change in voltage across a G.M. tube: Pg:202 (2008)\n",
"e= 1.6e-019;    // Charge on an electron, coulomb\n",
"W = 25;    // Ionization potential of gas (Ar/N2), eV\n",
"E = 5e+06;    // Energy of incident alpha particles, eV\n",
"C = 1e-010;    // Capacity of the system, farad\n",
"N = E/W;    // Number of ions produced\n",
"delta_V = N*e/C;    // Change in voltage across the G.M. tube, volt\n",
"printf('\nThe change in voltage across the G.M. tube = %3.1e volt', delta_V);\n",
"// Result \n",
"// The change in voltage across the G.M. tube = 3.2e-004 volt "
   ]
   }
],
"metadata": {
		  "kernelspec": {
		   "display_name": "Scilab",
		   "language": "scilab",
		   "name": "scilab"
		  },
		  "language_info": {
		   "file_extension": ".sce",
		   "help_links": [
			{
			 "text": "MetaKernel Magics",
			 "url": "https://github.com/calysto/metakernel/blob/master/metakernel/magics/README.md"
			}
		   ],
		   "mimetype": "text/x-octave",
		   "name": "scilab",
		   "version": "0.7.1"
		  }
		 },
		 "nbformat": 4,
		 "nbformat_minor": 0
}
