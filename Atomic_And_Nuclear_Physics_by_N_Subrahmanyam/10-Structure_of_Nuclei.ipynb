{
"cells": [
 {
		   "cell_type": "markdown",
	   "metadata": {},
	   "source": [
       "# Chapter 10: Structure of Nuclei"
	   ]
	},
{
		   "cell_type": "markdown",
		   "metadata": {},
		   "source": [
			"## Example 10.1_1: Energy_and_Mass_Equivalence_of_Wavelength.sci"
		   ]
		  },
  {
"cell_type": "code",
	   "execution_count": null,
	   "metadata": {
	    "collapsed": true
	   },
	   "outputs": [],
"source": [
"// Scilab Code Ex10.1.1 Energy and mass equivalence of wavelength: Pg:209 (2008)\n",
"e = 1.6e-019;    // Energy equivalent of 1 eV, J/eV\n",
"me = 9.1e-031;    // Mass of en electron, kg\n",
"L = 4.5e-013;    // Wavelength of gamma ray, m\n",
"h = 6.626e-034;    // Planck's constant, Js\n",
"c = 3e+08;    // Speed of light, m/s\n",
"U = h*c/L;    // Energy equivalence of wavelength, J\n",
"m = U/c^2;    // Mass equivalent of wavelength, kg\n",
"printf('\nThe energy equivalence of wavelength %3.1e m = %4.2f MeV', L, U/(e*1e+06));\n",
"printf('\nThe mass equivalence of wavelength %3.1e m = %4.2f me', L, m/me);\n",
"// Result \n",
"// The energy equivalence of wavelength 4.5e-013 m = 2.76 MeV\n",
"// The mass equivalence of wavelength 4.5e-013 m = 5.39 me "
   ]
   }
,
{
		   "cell_type": "markdown",
		   "metadata": {},
		   "source": [
			"## Example 10.1_2: Binding_Energy_per_Nucleon_for_Oxygen_Isotopes.sci"
		   ]
		  },
  {
"cell_type": "code",
	   "execution_count": null,
	   "metadata": {
	    "collapsed": true
	   },
	   "outputs": [],
"source": [
"// Scilab Code Ex10.1.2 Binding energy per nucleon for oxygen isotopes: Pg:210 (2008)\n",
"mp = 1.007276;    // Mass of proton, amu\n",
"mn = 1.008665;    // Mass of neutron, amu\n",
"amu = 931;    // Energy equivalent of 1 amu, MeV\n",
"// For Isotope O-16\n",
"M_O16 = 15.990523;    // Mass of O-16 isotope, amu\n",
"Z = 8;    // Number of protons\n",
"N = 8;    // Number of neutrons\n",
"BE = (8*(mp+mn)-M_O16)*amu;    // Binding energy of O-16 isotope, MeV\n",
"BE_bar16 = BE/(Z+N);    // Binding energy per nucleon of O-16 isotope, MeV\n",
"// For Isotope O-18\n",
"M_O18 = 17.994768;    // Mass of O-18 isotope, amu\n",
"Z = 8;    // Number of protons\n",
"N = 10;    // Number of neutrons\n",
"BE = (8*mp+10*mn-M_O18)*amu;    // Binding energy of O-18 isotope, MeV\n",
"BE_bar18 = BE/(Z+N);    // Binding energy per nucleon of O-18 isotope, MeV\n",
"printf('\nThe binding energy per nucleon of O-16 isotope = %5.3f MeV', BE_bar16);\n",
"printf('\nThe binding energy per nucleon of O-18 isotope = %5.3f MeV', BE_bar18);\n",
"// Result \n",
"// The binding energy per nucleon of O-16 isotope = 7.972 MeV\n",
"// The binding energy per nucleon of O-18 isotope = 7.763 MeV "
   ]
   }
,
{
		   "cell_type": "markdown",
		   "metadata": {},
		   "source": [
			"## Example 10.2_1: Range_of_Alpha_Emitters_of_Uranium.sci"
		   ]
		  },
  {
"cell_type": "code",
	   "execution_count": null,
	   "metadata": {
	    "collapsed": true
	   },
	   "outputs": [],
"source": [
"// Scilab Code Ex10.2.1 Range of alpha-emitters of uranium: Pg:214 (2008)\n",
"L1 = 4.8e-018;    // Decay constant of first alpha-emitter, per sec\n",
"L2 = 4.225e+03;    // Decay constant of second alpha-emitter, per sec\n",
"L3 = 3.786e-03;    // Decay constant of third alpha-emitter, per sec\n",
"R1 = 4.19;    // Range of first alpha-emitter, cm\n",
"R2 = 7.86;    // Range of second alpha-emitter, cm\n",
"// From Geiger Nuttal law, log R = A log L + B\n",
"// Putting R1, L1 and R2, L2, subtracting and solving for A\n",
"A = log(R2/R1)/log(L2/L1);    // Slope of straight line between R and L\n",
"B = poly(0,'B');    // Intercept of straight line between R and L\n",
"B = roots(log(R2)-A*log(L2)-B);    // Other constant of Geiger-Nuttal law\n",
"R3 = exp(A*log(L3)+B);    // Range of third alpha-emitter of uranium, cm\n",
"printf('\nThe range of third alpha-emitter of uranium = %5.3f cm', R3);\n",
"// Result \n",
"// The range of third alpha-emitter of uranium = 6.554 cm "
   ]
   }
,
{
		   "cell_type": "markdown",
		   "metadata": {},
		   "source": [
			"## Example 10.3_1: Binding_Energy_per_Nucleon_of_Helium.sci"
		   ]
		  },
  {
"cell_type": "code",
	   "execution_count": null,
	   "metadata": {
	    "collapsed": true
	   },
	   "outputs": [],
"source": [
"// Scilab Code Ex10.3.1 Binding energy per nucleon of helium: Pg:219 (2008)\n",
"amu = 931;    // Energy equivalent of amu, MeV\n",
"mp = 1.007895;    // Mass of proton, amu\n",
"mn = 1.008665;    // Mass of neutron, amu\n",
"M_He = 4.00260;    // Atomic weight of helium, amu\n",
"dm = 2*(mp+mn)-M_He;    // Mass difference, amu\n",
"BE = dm*amu;    // Binding energy of helium, MeV\n",
"BE_bar = BE/4;    // Binding energy per nucleon, MeV\n",
"printf('\nThe binding energy per nucleon of helium = %6.4f MeV', BE_bar);\n",
"// Result \n",
"// The binding energy per nucleon of helium = 7.1035 MeV "
   ]
   }
,
{
		   "cell_type": "markdown",
		   "metadata": {},
		   "source": [
			"## Example 10.3_2: Energy_Released_in_the_Fusion_of_Deuterium.sci"
		   ]
		  },
  {
"cell_type": "code",
	   "execution_count": null,
	   "metadata": {
	    "collapsed": true
	   },
	   "outputs": [],
"source": [
"// Scilab Code Ex10.3.2 Energy released in the fusion of deuterium: Pg:220 (2008)\n",
"e = 1.6e-019;    // Energy equivalent of 1 eV, J/eV\n",
"Q = 43;    // Energy released in fusion of six deuterium atoms, MeV\n",
"N = 6.023e+026;    // Avogadro's number, No. of atoms per kg\n",
"n = N/2;    // Number of atoms contained in 1 kg of deuterium\n",
"U = Q/6*n*e*1e+06;    // Energy released due to fusion of 1 kg of deuterium, J\n",
"printf('\nThe energy released due to fusion of 1 kg of deuterium = %5.3e J', U);\n",
"// Result \n",
"// The energy released due to fusion of 1 kg of deuterium = 3.453e+014 J "
   ]
   }
,
{
		   "cell_type": "markdown",
		   "metadata": {},
		   "source": [
			"## Example 10.3_3: Mass_of_Deuterium_Nucleus.sci"
		   ]
		  },
  {
"cell_type": "code",
	   "execution_count": null,
	   "metadata": {
	    "collapsed": true
	   },
	   "outputs": [],
"source": [
"// Scilab Code Ex10.3.3 Mass of deuterium nucleus: Pg: 220 (2008)\n",
"amu = 1.6e-027;    // Mass of a nucleon, kg\n",
"mp = 1.007895;    // Mass of proton, amu\n",
"mn = 1.008665;    // Mass of neutron, amu\n",
"BE = 2/931;    // Binding energy of two nucleons, amu\n",
"M_D = (mp+mn-BE)*amu;    // Mass of a deuterium nucleus, kg\n",
"printf('\nThe mass of deuterium nucleus = %5.3e kg', M_D);\n",
"// Result \n",
"// The mass of deuterium nucleus = 3.223e-027 kg "
   ]
   }
,
{
		   "cell_type": "markdown",
		   "metadata": {},
		   "source": [
			"## Example 10.3_4: Binding_Energy_per_Nucleon_of_Ni.sci"
		   ]
		  },
  {
"cell_type": "code",
	   "execution_count": null,
	   "metadata": {
	    "collapsed": true
	   },
	   "outputs": [],
"source": [
"// Scilab Code Ex10.3.4 Binding energy per nucleon of Ni-64: Pg: 220 (2008)\n",
"amu = 931;    // Mass of a nucleon, MeV\n",
"MH = 1.007825;    // Mass of hydrogen, amu\n",
"Me = 0.000550;    // Mass of electron, amu\n",
"Mp = MH-Me;    // Mass of proton, amu\n",
"Mn = 1.008665;    // Mass of neutron, amu\n",
"m_Ni = 63.9280;    // Mass of Ni-64 atom, amu\n",
"MNi = m_Ni-28*Me;    // Mass of ni-64 nucleus, amu\n",
"m = (28*Mp+36*Mn)-MNi;    // Mass difference, amu\n",
"BE = m*amu;    // Binding energy of Ni-64, MeV\n",
"BE_bar = BE/64;    // Binding energy per nucleon of Ni-64, MeV\n",
"printf('\nThe binding energy per nucleon of Ni-64 = %4.2f MeV', BE_bar);\n",
"// Result \n",
"// The binding energy per nucleon of Ni-64 = 8.77 MeV "
   ]
   }
,
{
		   "cell_type": "markdown",
		   "metadata": {},
		   "source": [
			"## Example 10.3_5: Energy_Released_during_Fusion_of_two_Deuterons.sci"
		   ]
		  },
  {
"cell_type": "code",
	   "execution_count": null,
	   "metadata": {
	    "collapsed": true
	   },
	   "outputs": [],
"source": [
"// Scilab Code Ex10.3.5 Energy released during fusion of two deuterons: Pg: 221 (2008)\n",
"e = 1.6e-019;    // Energy equivalent of 1 eV, J/eV\n",
"x = 1.1;    // Binding energy per nucleon of deuterium, MeV\n",
"y = 7.0;    // Binding energy per nucleon of helium-4, MeV\n",
"E = (y - 2*x)*1e+06*e;    // Energy released when two deutron nuclei fuse together, MeV\n",
"printf('\nThe binding energy per nucleon of deuterium = %4.2e J', E);\n",
"// Result \n",
"// The binding energy per nucleon of deuterium = 7.68e-013 J "
   ]
   }
,
{
		   "cell_type": "markdown",
		   "metadata": {},
		   "source": [
			"## Example 10.3_6: Binding_Energy_and_Packing_Fraction_of_Helium.sci"
		   ]
		  },
  {
"cell_type": "code",
	   "execution_count": null,
	   "metadata": {
	    "collapsed": true
	   },
	   "outputs": [],
"source": [
"// Scilab Code Ex10.6 Binding energy and packing fraction of helium: Pg: 221 (2008)\n",
"amu = 931;    // Energy equivalent of amu, MeV\n",
"mp = 1.00814;    // Mass of proton, amu\n",
"mn = 1.00898;    // Mass of neutron, amu\n",
"m_He = 4.00387;    // Mass of helium, amu\n",
"A = 4;    // Mass number of helium\n",
"m = 2*(mp+mn)-m_He;    // Mass difference, amu\n",
"dm = m_He - A;    // Mass defect of He\n",
"BE = dm*amu;    // Binding energy of He, MeV\n",
"p = dm/A;    // Packing fraction of He\n",
"printf('\nThe binding energy of helium = %6.3f MeV', BE);\n",
"printf('\nThe packing fraction of helium = %5.3e', p);\n",
"// Result \n",
"// The binding energy of helium = 28.414 MeV\n",
"// The packing fraction of helium = 9.675e-004 "
   ]
   }
,
{
		   "cell_type": "markdown",
		   "metadata": {},
		   "source": [
			"## Example 10.3_7: Mass_of_Yukawa_Particle.sci"
		   ]
		  },
  {
"cell_type": "code",
	   "execution_count": null,
	   "metadata": {
	    "collapsed": true
	   },
	   "outputs": [],
"source": [
"// Scilab Code Ex10.7 Mass of Yukawa particle: Pg: 222 (2008)\n",
"h = 6.626e-034;    // Reduced Planck's constant, Js\n",
"e = 1.6e-019;    // Charge on an electron, coulomb\n",
"R0 = 1.2e-015;    // Nuclear radius constant, m\n",
"R = 2*R0;    // Range of nuclear force, m\n",
"v = 1e+08;    // Speed of the particle, m/s\n",
"S = R;    // Distance travelled by particle within the nucleus, m\n",
"dt = S/v;    // time taken by the particle to travel across the nucleus, s\n",
"// From Heisenberg's uncertainty principle, dE.dt = h_bar, solving for dE\n",
"dE = h/(1e+06*e*dt);    // Energy of Yukawa paeticle, MeV\n",
"m = dE/0.51;    // Approximate mass of Yukawa particle, electronic mass unit\n",
"printf('\nThe mass of Yukawa particle = %3d me', m);\n",
"// Result \n",
"// The mass of Yukawa particle = 338 me "
   ]
   }
,
{
		   "cell_type": "markdown",
		   "metadata": {},
		   "source": [
			"## Example 10.3_8: Maximum_Height_of_the_Potential_Barrier_for_Alpha_Penetration.sci"
		   ]
		  },
  {
"cell_type": "code",
	   "execution_count": null,
	   "metadata": {
	    "collapsed": true
	   },
	   "outputs": [],
"source": [
"// Scilab Code Ex10.8 Maximum height of the potential barrier for alpha penetration: Pg:222 (2008)\n",
"epsilon_0 = 8.854e-12;    // Absolute electrical permittivity of free space, coulomb square per newton per metre square\n",
"Z = 92;    // Atomic number of U-92 nucleus\n",
"z = 2;    // Atomic number of He nucleus\n",
"e = 1.6e-019;    // Charge on an electron, coulomb\n",
"R = 9.3e-015;    // Radius of residual nucleus, m\n",
"U = 1/(4*%pi*epsilon_0)*Z*z*e^2/(R*1.6e-013);    // Maximum height of potential barrier, MeV\n",
"printf('\nThe maximum height of the potential barrier for alpha penetration = %2d MeV', U);\n",
"// Result \n",
"// The maximum height of the potential barrier for alpha penetration = 28 MeV "
   ]
   }
],
"metadata": {
		  "kernelspec": {
		   "display_name": "Scilab",
		   "language": "scilab",
		   "name": "scilab"
		  },
		  "language_info": {
		   "file_extension": ".sce",
		   "help_links": [
			{
			 "text": "MetaKernel Magics",
			 "url": "https://github.com/calysto/metakernel/blob/master/metakernel/magics/README.md"
			}
		   ],
		   "mimetype": "text/x-octave",
		   "name": "scilab",
		   "version": "0.7.1"
		  }
		 },
		 "nbformat": 4,
		 "nbformat_minor": 0
}
