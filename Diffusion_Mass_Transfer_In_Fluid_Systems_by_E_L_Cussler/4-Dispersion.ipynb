{
"cells": [
 {
		   "cell_type": "markdown",
	   "metadata": {},
	   "source": [
       "# Chapter 4: Dispersion"
	   ]
	},
{
		   "cell_type": "markdown",
		   "metadata": {},
		   "source": [
			"## Example 4.2_1: Dispersion_coefficient.sce"
		   ]
		  },
  {
"cell_type": "code",
	   "execution_count": null,
	   "metadata": {
	    "collapsed": true
	   },
	   "outputs": [],
"source": [
"clc\n",
"//initialization of variables\n",
"z = 80 // metres\n",
"c1 = 410 //ppm\n",
"c = 860 // ppm\n",
"d = 2 //km\n",
"v = 0.6 //km/hr\n",
"r = 3600 //sec/hr\n",
"//Calculations\n",
"t1 = (d/v)*r//sec\n",
"E = (-((z^2)/(4*t1))/(log(410/860)))*10^4// cm^2/sec//answer in textbook is wrong\n",
"d2 = 15 //km\n",
"c2 = c*(sqrt(d/d2))//ppm\n",
"//Results\n",
"printf('The value of dispersion coefficent is %.f cm^2/sec',E)\n",
"printf('\n The value of maximum concentration  at 15 km downstream is %.f ppm',c2)\n",
"\n",
"\n",
"\n",
"\n",
""
   ]
   }
,
{
		   "cell_type": "markdown",
		   "metadata": {},
		   "source": [
			"## Example 4.2_2: Percent_of_pipe.sce"
		   ]
		  },
  {
"cell_type": "code",
	   "execution_count": null,
	   "metadata": {
	    "collapsed": true
	   },
	   "outputs": [],
"source": [
"clc\n",
"//initialization of variables\n",
"d = 10 //cm\n",
"s = 3 // km\n",
"v = 500 //cm/sec\n",
"nu = 0.15 // cm^2/sec\n",
"//Calculations\n",
"E = 0.5*d*v // cm^2/sec\n",
"c1 = 1000 // m/km\n",
"c2 = 1/100 // m/cm\n",
"z = sqrt(4*E*c1*c2*s/v)\n",
"percent = z*100/(s*c1)\n",
"//Results\n",
"printf(' The percent of pipe containing mixed gases is %.1f percent',percent)"
   ]
   }
],
"metadata": {
		  "kernelspec": {
		   "display_name": "Scilab",
		   "language": "scilab",
		   "name": "scilab"
		  },
		  "language_info": {
		   "file_extension": ".sce",
		   "help_links": [
			{
			 "text": "MetaKernel Magics",
			 "url": "https://github.com/calysto/metakernel/blob/master/metakernel/magics/README.md"
			}
		   ],
		   "mimetype": "text/x-octave",
		   "name": "scilab",
		   "version": "0.7.1"
		  }
		 },
		 "nbformat": 4,
		 "nbformat_minor": 0
}
