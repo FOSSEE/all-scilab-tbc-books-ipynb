{
"cells": [
 {
		   "cell_type": "markdown",
	   "metadata": {},
	   "source": [
       "# Chapter 6: Diffusion of Interacting Species"
	   ]
	},
{
		   "cell_type": "markdown",
		   "metadata": {},
		   "source": [
			"## Example 6.1_1: Diffusion_coefficient_and_transference.sce"
		   ]
		  },
  {
"cell_type": "code",
	   "execution_count": null,
	   "metadata": {
	    "collapsed": true
	   },
	   "outputs": [],
"source": [
"clc\n",
"//Initialization of variables\n",
"DHplus = 9.31*10^-5 // cm^2/sec\n",
"DClminus = 2.03*10^-5 // cm^2/sec\n",
"//Calculations\n",
"DHCl = (2/((1/DHplus)+(1/DClminus)))*10^5 // x*10^-5 cm^2/sec\n",
"tHplus = DHplus/(DHplus+DClminus)\n",
"percentage = tHplus*100 // percent\n",
"//Results\n",
"printf('The diffusion co efficient of the solution is %.1f x10^-5 cm^2/sec',DHCl)\n",
"printf('\n The transeference for protons is %.f percent',percentage)"
   ]
   }
,
{
		   "cell_type": "markdown",
		   "metadata": {},
		   "source": [
			"## Example 6.1_2: Diffusion_coefficient.sce"
		   ]
		  },
  {
"cell_type": "code",
	   "execution_count": null,
	   "metadata": {
	    "collapsed": true
	   },
	   "outputs": [],
"source": [
"clc\n",
"//Initialization of variables\n",
"z1 = 3\n",
"z2 = 1\n",
"D2 = 2.03*10^-5 // cm^2/sec\n",
"D1 = 0.62*10^-5 // cm^2/sec\n",
"//Calculations\n",
"D = ((z1+z2)/((z1/D2)+(z2/D1)))*10^5// x*10^-5 cm^2/sec\n",
"//Results\n",
"printf('The diffusion coefficient is %.2f x10^-5 cm^2/sec',D)"
   ]
   }
,
{
		   "cell_type": "markdown",
		   "metadata": {},
		   "source": [
			"## Example 6.1_5: Diffusion_coefficient.sce"
		   ]
		  },
  {
"cell_type": "code",
	   "execution_count": null,
	   "metadata": {
	    "collapsed": true
	   },
	   "outputs": [],
"source": [
" clc\n",
"//Initialization of variables\n",
"zCa = 2\n",
"zCl = 1\n",
"DCl = 2.03*10^-5 // cm^2/sec\n",
"DCa = 0.79*10^-5 // cm^2/sec\n",
"//Calculations\n",
"DCaCl2 = ((zCa+zCl)/((zCa/DCl)+(zCl/DCa)))*10^5// x*10^-5 cm^2/sec\n",
"//Results\n",
"printf('The diffusion coefficient of CaCl2 is %.2f x10^-5 cm^2/sec',DCaCl2)"
   ]
   }
,
{
		   "cell_type": "markdown",
		   "metadata": {},
		   "source": [
			"## Example 6.2_1: Diffusion_coefficient.sce"
		   ]
		  },
  {
"cell_type": "code",
	   "execution_count": null,
	   "metadata": {
	    "collapsed": true
	   },
	   "outputs": [],
"source": [
"clc\n",
"//initialization of variables\n",
"pKa = 4.756\n",
"DH = 9.31*10^-5 // cm^2/sec\n",
"DCH3COO = 1.09*10^-5 //cm^2/sec\n",
"D2 = 1.80*10^-5 //cm^2/sec\n",
"Ct = 10 // moles/lit\n",
"//Calculations\n",
"K = 10^pKa // litres/mol\n",
"D1 = 2/((1/DH)+(1/DCH3COO))\n",
"D = 2/((1/D1)+(1/D2))*10^5// Diffusion co efficient in x*10^-5 cm^2/sec\n",
"//Results\n",
"printf('The diffusion coefficient of acetic acid in water is %.1f x10^-5 cm^2/sec',D)"
   ]
   }
,
{
		   "cell_type": "markdown",
		   "metadata": {},
		   "source": [
			"## Example 6.4_1: Tortuosity_calculatio.sce"
		   ]
		  },
  {
"cell_type": "code",
	   "execution_count": null,
	   "metadata": {
	    "collapsed": true
	   },
	   "outputs": [],
"source": [
"clc\n",
"//Initialization of variables\n",
"sigma1 = 4.23 // angstroms\n",
"sigma2 = 4.16 //Angstroms\n",
"sigma12 = (sigma1+sigma2)/2 // angstroms\n",
"T = 573 // Kelvin\n",
"M1 = 28\n",
"M2 = 26\n",
"p = 1 //atm\n",
"Omega = 0.99\n",
"Deff = 0.17 //cm^2/sec\n",
"//calculations\n",
"D = ((1.86*10^-3)*((T)^1.5)*(((1/M1)+(1/M2))^0.5))/((p)*((sigma12)^2)*Omega)//cm^2/sec\n",
"Tou = D/Deff\n",
"//Results\n",
"printf('The tortuosity is %.f',Tou)\n",
""
   ]
   }
,
{
		   "cell_type": "markdown",
		   "metadata": {},
		   "source": [
			"## Example 6.4_2: Diffusion_coefficient.sce"
		   ]
		  },
  {
"cell_type": "code",
	   "execution_count": null,
	   "metadata": {
	    "collapsed": true
	   },
	   "outputs": [],
"source": [
"clc\n",
"//Initialzation of variables\n",
"kb = 1.38*10^-16 // g-cm^2/sec^2-K\n",
"T = 310 //Kelvin\n",
"Mu = 0.01 // g/cm-sec\n",
"R0 = 2.5*10^-8 //cm\n",
"d = 30*10^-8 //cm\n",
"//Calculations\n",
"D = (kb*T/(6*%pi*Mu*R0))*(1+((9/8)*(2*R0/d)*(log(2*R0/d)))+((-1.54)*(2*R0/d)))//cm^2/sec\n",
"//Results\n",
"printf('The diffusion coefficient is %.8f cm^2/sec',D)"
   ]
   }
,
{
		   "cell_type": "markdown",
		   "metadata": {},
		   "source": [
			"## Example 6.4_3: Diffusion_flux.sce"
		   ]
		  },
  {
"cell_type": "code",
	   "execution_count": null,
	   "metadata": {
	    "collapsed": true
	   },
	   "outputs": [],
"source": [
"clc\n",
"//Initialzation of variables\n",
"kb = 1.38*10^-16 // g-cm^2/sec^2-K\n",
"T = 373 // K\n",
"T0 = 273 // K\n",
"sigma = 2.83*10^-8 // cm\n",
"p = 1.01*10^6// g/cm-sec^2\n",
"l = 0.6 // cm\n",
"d = 13*10^-7 // cm\n",
"m = 2/(6.023*10^23)// gm/sec\n",
"M1 = 2.01\n",
"M2 = 28.0\n",
"sigma1 = 2.92//cm\n",
"sigma2 = 3.68//cm\n",
"sigma12 = (sigma1+sigma2)/2\n",
"omega = 0.80\n",
"deltac1 = (1/(22.4*10^3))*(T0/T)\n",
"//Calculations\n",
"DKn = (d/3)*(sqrt((2*kb*T)/m))//cm^2/sec\n",
"flux1 = (DKn*deltac1/l)*10^5//in x*10^-5mol/cm^2-sec\n",
"D = (1.86*10^-3)*(T^(1.5))*(((1/M1)+(1/M2))^0.5)/(p*(sigma12^2)*omega)\n",
"flux2 = (D*deltac1/l)*10^11// in x*10^-11 mol/cm^2-sec\n",
"//Results\n",
"printf('The steady diffusion flux is %.2f x10^-5 mol/cm^2-sec',flux1)\n",
"printf('\nThe flux through 18.3 micrometre pore is %.1f x10^-11 cm^2/sec',flux2)// answer wrong in text book"
   ]
   }
,
{
		   "cell_type": "markdown",
		   "metadata": {},
		   "source": [
			"## Example 6.4_4: Diffusion_coefficient_in_gel.sce"
		   ]
		  },
  {
"cell_type": "code",
	   "execution_count": null,
	   "metadata": {
	    "collapsed": true
	   },
	   "outputs": [],
"source": [
"clc\n",
"//initialization of variables\n",
"d=0.01 //cm\n",
"s=2*10^-2 //cm\n",
"//calculations\n",
"phi = 4/3 *%pi*(d/2)^3 /(s^3)\n",
"disp('On solving, D')\n",
"D=5*10^-7 //cm^2/s\n",
"//results\n",
"printf('Diffusion in homogeneous gel = %.1e cm^2/sec',D)"
   ]
   }
],
"metadata": {
		  "kernelspec": {
		   "display_name": "Scilab",
		   "language": "scilab",
		   "name": "scilab"
		  },
		  "language_info": {
		   "file_extension": ".sce",
		   "help_links": [
			{
			 "text": "MetaKernel Magics",
			 "url": "https://github.com/calysto/metakernel/blob/master/metakernel/magics/README.md"
			}
		   ],
		   "mimetype": "text/x-octave",
		   "name": "scilab",
		   "version": "0.7.1"
		  }
		 },
		 "nbformat": 4,
		 "nbformat_minor": 0
}
