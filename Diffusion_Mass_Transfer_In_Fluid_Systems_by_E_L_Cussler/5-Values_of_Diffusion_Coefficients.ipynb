{
"cells": [
 {
		   "cell_type": "markdown",
	   "metadata": {},
	   "source": [
       "# Chapter 5: Values of Diffusion Coefficients"
	   ]
	},
{
		   "cell_type": "markdown",
		   "metadata": {},
		   "source": [
			"## Example 5.1_1: Diffusion_Coefficient.sce"
		   ]
		  },
  {
"cell_type": "code",
	   "execution_count": null,
	   "metadata": {
	    "collapsed": true
	   },
	   "outputs": [],
"source": [
"clc\n",
"//initialization of variables\n",
"m = 20/(6*10^23)//wt of each molecule\n",
"kb = 1.38*10^-16 // g-cm^2/sec-K\n",
"T = 298 // Kelvin\n",
"dou = 0.04*10^-7 // cm\n",
"//Calculations\n",
"v = sqrt(kb*T*2/m) //cm/sec\n",
"D = (dou*v/6)*10^5 // in x*10^-5 cm^2/sec\n",
"//Results\n",
"printf('The value of Diffusion co efficient is %.f x10^-5 cm^2/sec',D)"
   ]
   }
,
{
		   "cell_type": "markdown",
		   "metadata": {},
		   "source": [
			"## Example 5.1_2: Diffusion_coefficient_and_error.sce"
		   ]
		  },
  {
"cell_type": "code",
	   "execution_count": null,
	   "metadata": {
	    "collapsed": true
	   },
	   "outputs": [],
"source": [
"clc\n",
"//Initialization of variables\n",
"sigma1 = 2.92 // angstroms\n",
"sigma2 = 3.68 // angstroms\n",
"sigma12 = (sigma1+sigma2)/2 // angstroms\n",
"T = 294 // Kelvin\n",
"M1 = 2.02 // Mol wt of hydrogen\n",
"V1 = 7.07 \n",
"V2 = 17.9\n",
"M2 = 28 // Mol wt of Nitrogen\n",
"p = 2 //atm\n",
"Omega = 0.842\n",
"Dexp = 0.38 // cm^2/sec\n",
"//calculations\n",
"D1 = ((1.86*10^-3)*((T)^1.5)*(((1/M1)+(1/M2))^0.5))/((p)*((sigma12)^2)*Omega)//cm^2/sec\n",
"err1 = ((Dexp-D1)/Dexp)*100\n",
"D2 = ((10^-3)*((T)^1.75)*(((1/M1)+(1/M2))^0.5))/((p)*((((V1)^(1/3))+ ((V2)^(1/3)))^2))  //cm^2/sec\n",
"err2 = ((Dexp-D2)/Dexp)*100\n",
"//Results\n",
"printf('The diffusion co efficient using Chapman-enskong theory is %.2f cm^2/sec',D1)\n",
"printf('\nThe error for the above correlation is %.f percent',err1)\n",
"printf('\nThe diffusion co efficient using Fuller correlation is %.2f cm^2/sec',D2)\n",
"printf('\nThe error for the above correlation is %.f percent',err2)"
   ]
   }
,
{
		   "cell_type": "markdown",
		   "metadata": {},
		   "source": [
			"## Example 5.1_3: Diffusion_coefficient.sce"
		   ]
		  },
  {
"cell_type": "code",
	   "execution_count": null,
	   "metadata": {
	    "collapsed": true
	   },
	   "outputs": [],
"source": [
"\n",
"\n",
"clc\n",
"//initialization of variables\n",
"p0 = 1//atm\n",
"p = 33 //atm\n",
"D0 = 0.043 // cm^2/sec\n",
"//Calculations \n",
"D = (p0*D0/p)*10^5 // x*10^-5 cm^2/sec\n",
"//Results\n",
"printf('The diffusion co efficient for the given conditions is %.3f x10^-5 cm^2/sec',D)\n",
"disp('The answer is a bit different due to rounding off error in textbook. Also please verify that 10^-5 factor is utilized outside.')"
   ]
   }
,
{
		   "cell_type": "markdown",
		   "metadata": {},
		   "source": [
			"## Example 5.2_1: Diffusion_coefficient_stokes.sce"
		   ]
		  },
  {
"cell_type": "code",
	   "execution_count": null,
	   "metadata": {
	    "collapsed": true
	   },
	   "outputs": [],
"source": [
"clc\n",
"//Initialization of variables\n",
"R0 = 1.73*10^-8 //cm\n",
"kb = 1.38*10^-16 // g-cm^2/sec^2-K\n",
"T = 298 // kelvin\n",
"Mu = 0.01 // g/cm-sec\n",
"Mu2 = 1 // Centipoise\n",
"DE = 1.80//x*10^-5 cm^2/sec\n",
"phi = 2.6\n",
"VH2O = 18 // cc/g-mol\n",
"VO2 = 25 // cc/g-mol\n",
"//calculations\n",
"D1 = ((kb*T)/(6*%pi*Mu*R0))*10^5// x*10^-5 cm^2/sec\n",
"err1 = (DE-D1)*100/DE // error percentage\n",
"D2 = (((8.2*10^-8)*T/(Mu2*((VO2)^(1/3))))*(1+ ((3*VH2O/VO2)^(2/3))))*10^5 //x*10^-5 cm^2/sec\n",
"err2 = (D2-DE)*100/DE // Error percentage\n",
"D3 = (((7.4*10^-8)*((phi*VH2O)^0.5)*T)/(Mu2*((VO2)^0.6)))*10^5//x*10^-5 cm^2/sec\n",
"err3 = (D3-DE)*100/DE// Error percentage \n",
"//Results\n",
"printf('The diffusion co efficent using Stokes einstien correlation is %.1f x10^-5 cm^2/sec',D1)\n",
"printf('\nThe error regarding above correlation is %.1f percent low',err1)\n",
"printf('\nThe diffusion co efficent using Wilke-Chang correlation is %.1f x10^-5 cm^2/sec',D3)\n",
"printf('\nThe error regarding above correlation is %.1f percent high',err3)"
   ]
   }
,
{
		   "cell_type": "markdown",
		   "metadata": {},
		   "source": [
			"## Example 5.2_2: a_b_calculatio.sce"
		   ]
		  },
  {
"cell_type": "code",
	   "execution_count": null,
	   "metadata": {
	    "collapsed": true
	   },
	   "outputs": [],
"source": [
"clc\n",
"//Initialization of variables\n",
"kb = 1.38*10^-16//g-cm^2-sec^2-K\n",
"T = 310 // kelvin\n",
"k = 30 // which is a/b\n",
"D = 2.0*10^-7 // cm^2/sec\n",
"Mu = 0.00695 // g/cm-sec\n",
"//Calculations\n",
"a = ((kb*T/(6*%pi*Mu*D))*((log(k + ((k^2-1)^(0.5))))/((1-(1/k^2))^0.5)))*10^7 // nm\n",
"b = a/k // nm\n",
"//Results\n",
"printf('The results of a and b are %.f nm and %.1f nm',a,b)\n",
""
   ]
   }
,
{
		   "cell_type": "markdown",
		   "metadata": {},
		   "source": [
			"## Example 5.2_3: Diffusion_coefficient.sce"
		   ]
		  },
  {
"cell_type": "code",
	   "execution_count": null,
	   "metadata": {
	    "collapsed": true
	   },
	   "outputs": [],
"source": [
"clc\n",
"//initialization of variables\n",
"D1 = 1.26*10^-5 // for x1=1 , D0 value in cm^2/sec\n",
"x1 = 0.5\n",
"D2 = 4.68*10^-5 // for x2=1 , D0 Value in cm^2/sec\n",
"x2 = 0.5\n",
"k = -0.69 // dlngamma1/dx1 value given\n",
"//Calculations\n",
"D0 = ((D1)^x1)*((D2)^x2)*10^5 // x*10^-5 cm^2/sec\n",
"D = D0*(1+k) // Diffusion coefficient in x*10^-5 cm^2/sec\n",
"//Results\n",
"printf('The diffusion coefficent is %.2f x10^-5 cm^2/sec',D)"
   ]
   }
,
{
		   "cell_type": "markdown",
		   "metadata": {},
		   "source": [
			"## Example 5.5_1: Diffusion_coefficient.sce"
		   ]
		  },
  {
"cell_type": "code",
	   "execution_count": null,
	   "metadata": {
	    "collapsed": true
	   },
	   "outputs": [],
"source": [
"clc\n",
"//initialization of variables\n",
"m = 20/(6*10^23)//wt of each molecule\n",
"kb = 1.38*10^-16 // g-cm^2/sec-K\n",
"T = 298 // Kelvin\n",
"dou = 0.04*10^-7 // cm\n",
"//Calculations\n",
"v = sqrt(kb*T*2/m) //cm/sec\n",
"D = (dou*v/6)*10^5 // in x*10^-5 cm^2/sec\n",
"//Results\n",
"printf('The value of Diffusion co efficient is %.f x10^-5 cm^2/sec',D)"
   ]
   }
,
{
		   "cell_type": "markdown",
		   "metadata": {},
		   "source": [
			"## Example 5.5_2: Diffusion_coefficient.sce"
		   ]
		  },
  {
"cell_type": "code",
	   "execution_count": null,
	   "metadata": {
	    "collapsed": true
	   },
	   "outputs": [],
"source": [
"clc\n",
"//Intialization of variables\n",
"sigmasquare = 0.014 // Slope of the graph\n",
"t = 150 // seconds\n",
"//Calculations\n",
"D = (sigmasquare/(2*t))*10^5 // in x*10^-5 cm^2/sec\n",
"//Results\n",
"printf('The value of diffusion co efficient is %.1f x10^-5 cm^2/sec',D)"
   ]
   }
],
"metadata": {
		  "kernelspec": {
		   "display_name": "Scilab",
		   "language": "scilab",
		   "name": "scilab"
		  },
		  "language_info": {
		   "file_extension": ".sce",
		   "help_links": [
			{
			 "text": "MetaKernel Magics",
			 "url": "https://github.com/calysto/metakernel/blob/master/metakernel/magics/README.md"
			}
		   ],
		   "mimetype": "text/x-octave",
		   "name": "scilab",
		   "version": "0.7.1"
		  }
		 },
		 "nbformat": 4,
		 "nbformat_minor": 0
}
