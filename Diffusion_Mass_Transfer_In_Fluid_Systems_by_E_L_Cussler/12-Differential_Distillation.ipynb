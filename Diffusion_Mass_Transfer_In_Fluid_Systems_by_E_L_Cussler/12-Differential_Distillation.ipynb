{
"cells": [
 {
		   "cell_type": "markdown",
	   "metadata": {},
	   "source": [
       "# Chapter 12: Differential Distillation"
	   ]
	},
{
		   "cell_type": "markdown",
		   "metadata": {},
		   "source": [
			"## Example 12.2_1: Mass_transfer.sce"
		   ]
		  },
  {
"cell_type": "code",
	   "execution_count": null,
	   "metadata": {
	    "collapsed": true
	   },
	   "outputs": [],
"source": [
"clc\n",
"//initialization of variables\n",
"l = 1.22 // length of tower\n",
"Gflow = 0.026 // mol/sec\n",
"GbyL = 0.07\n",
"dia = 0.088 // m\n",
"pl = 1.1/100// pl = 1-yl\n",
"p0 = 0.04/100 // p0 = 1-y0\n",
"//Calculations\n",
"A = %pi*(dia^2)/4 // cross sectional of tower in m^2\n",
"G = Gflow/A // Gas flux in mol/m^2-sec\n",
"Kya = (G/l)*(1/(1-GbyL))*(log(pl/p0))// Mass transfer per volume in mol/m^3-sec\n",
"//Results\n",
"printf('The mass transfer per volume is %.1f mol/m^3-sec',Kya)"
   ]
   }
,
{
		   "cell_type": "markdown",
		   "metadata": {},
		   "source": [
			"## Example 12.2_2: NTU.sce"
		   ]
		  },
  {
"cell_type": "code",
	   "execution_count": null,
	   "metadata": {
	    "collapsed": true
	   },
	   "outputs": [],
"source": [
"clc\n",
"//Initialization of variables\n",
"x1=0.99\n",
"x2=0.99\n",
"y1=0.95\n",
"y2=0.95\n",
"alpha=1.5\n",
"m=0.42\n",
"l=2\n",
"HTU=0.34\n",
"//calculations\n",
"y1s= (y1-0.58)/m\n",
"xrd= (x2-y2)/(x1-y1s)\n",
"Rd=xrd/(1-xrd)\n",
"Rds=alpha*Rd\n",
"xl= ((Rds+1)*y1 - x1)/(Rds)\n",
"function z= ystar(y)\n",
"    z=0.58+0.42*y\n",
"endfunction\n",
"NTU = log((ystar(xl) -y1)/(ystar(x1)-x1)) /(1- m*(Rds+1)/Rds)\n",
"NTU2=l/HTU\n",
"xd2=(ystar(y1)-y1)/%e^(NTU2*(1-m))\n",
"xd=(0.58-xd2)/(1-m)\n",
"//results\n",
"printf('In case 1, NTU = %.2f',NTU)\n",
"printf('\n In case 2, xd = %.3f',xd)"
   ]
   }
,
{
		   "cell_type": "markdown",
		   "metadata": {},
		   "source": [
			"## Example 12.4_1: length_of_tower.sce"
		   ]
		  },
  {
"cell_type": "code",
	   "execution_count": null,
	   "metadata": {
	    "collapsed": true
	   },
	   "outputs": [],
"source": [
"clc\n",
"//initialization of variables\n",
"F=3500 //mol/hr\n",
"xf=0.4\n",
"x1=0.98\n",
"y1=0.97\n",
"y2=0.625\n",
"x1=0.97\n",
"x2=0.4\n",
"ratio=1.5\n",
"HTU=0.2\n",
"//calculations\n",
"A=[1 1;x1 1-x1]\n",
"B=[F;xf*F]\n",
"C=A\B\n",
"DA=C(1)\n",
"BA=C(2)\n",
"Rds=(y1-y2)/(x1-x2)\n",
"Rd=Rds/(1-Rds)\n",
"Rdreq=ratio*Rd\n",
"NTU=13.9\n",
"l=HTU*NTU\n",
"//results\n",
"printf('length of the tower = %.1f m',l)"
   ]
   }
],
"metadata": {
		  "kernelspec": {
		   "display_name": "Scilab",
		   "language": "scilab",
		   "name": "scilab"
		  },
		  "language_info": {
		   "file_extension": ".sce",
		   "help_links": [
			{
			 "text": "MetaKernel Magics",
			 "url": "https://github.com/calysto/metakernel/blob/master/metakernel/magics/README.md"
			}
		   ],
		   "mimetype": "text/x-octave",
		   "name": "scilab",
		   "version": "0.7.1"
		  }
		 },
		 "nbformat": 4,
		 "nbformat_minor": 0
}
