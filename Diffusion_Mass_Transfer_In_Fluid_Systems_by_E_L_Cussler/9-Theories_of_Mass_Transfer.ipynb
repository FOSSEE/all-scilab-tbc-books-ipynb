{
"cells": [
 {
		   "cell_type": "markdown",
	   "metadata": {},
	   "source": [
       "# Chapter 9: Theories of Mass Transfer"
	   ]
	},
{
		   "cell_type": "markdown",
		   "metadata": {},
		   "source": [
			"## Example 9.1_1: Film_thickness.sce"
		   ]
		  },
  {
"cell_type": "code",
	   "execution_count": null,
	   "metadata": {
	    "collapsed": true
	   },
	   "outputs": [],
"source": [
"clc\n",
"//initialization of variables\n",
"p1 = 10 // pressure in atm\n",
"H = 600 // henrys constant in atm\n",
"c1 = 0 // gmol/cc\n",
"N1 = 2.3*10^-6 // mass flux in mol/cm^2-sec\n",
"c = 1/18 //total Concentration in g-mol/cc\n",
"D = 1.9*10^-5 // Diffusion co efficient in cm^2/sec\n",
"//Calculations\n",
"c1i = (p1/H)*c // Component concentration in gmol/cc\n",
"k = N1/(c1i-c1)//Mass transfer co efficient in cm/sec\n",
"l = D/k // Film thickness in cm\n",
"//Results\n",
"printf('The film thickness is %.5f cm',l)\n",
""
   ]
   }
,
{
		   "cell_type": "markdown",
		   "metadata": {},
		   "source": [
			"## Example 9.2_1: Contact_time_and_residence_time.sce"
		   ]
		  },
  {
"cell_type": "code",
	   "execution_count": null,
	   "metadata": {
	    "collapsed": true
	   },
	   "outputs": [],
"source": [
"clc\n",
"//initialization of variables\n",
"D = 1.9*10^-5 //Diffusion co efficient in cm^2/sec\n",
"k = 2.5*10^-3 // M.T.C in cm/sec\n",
"//Calculations\n",
"Lbyvmax = 4*D/((k^2)*%pi)//sec\n",
"tou = D/k^2 // sec\n",
"//Results\n",
"printf('The contact time is %.1f sec',Lbyvmax)\n",
"printf('\nThe surface resident time is %.1f sec',tou)"
   ]
   }
,
{
		   "cell_type": "markdown",
		   "metadata": {},
		   "source": [
			"## Example 9.3_1: Apparent_Mass_transfer_coefficient.sce"
		   ]
		  },
  {
"cell_type": "code",
	   "execution_count": null,
	   "metadata": {
	    "collapsed": true
	   },
	   "outputs": [],
"source": [
"\n",
"clc\n",
"//initialization of variables\n",
"const = 0.5 // The part of flow in the system which bypasses the region where the mass transfer occurs\n",
"v1 = 1 // cm/sec\n",
"al = 10^3\n",
"k = 10^-3 // cm/sec\n",
"v2 = 3 // cm/sec\n",
"//Calculations\n",
"C1byC10first = const + (1-const)*(exp(-k*al/v1))// c1/c10\n",
"appk1 = (v1/al)*(log(1/C1byC10first))// Apparent m.t.c for first case in cm/sec\n",
"C1byC10second = const + (1-const)*(exp(-(sqrt(3))*k*al/v2))//c1/c10 in second case\n",
"appk2 = (v2/al)*log(1/C1byC10second)// apparent m.t.c for second case in cm/sec\n",
"power = log(appk2/appk1)/log(v2/v1)\n",
"//Results\n",
"printf('The apparent m.t.c for the first case is %.2e cm/sec',appk1)\n",
"printf('\nThe apparent m.t.c for the second case is %.2e cm/sec',appk2)\n",
"printf('\nThe apparent is proportional to the power of %.2f of the velocity',power)"
   ]
   }
,
{
		   "cell_type": "markdown",
		   "metadata": {},
		   "source": [
			"## Example 9.4_1: Average_Mass_transfer_coefficient.sce"
		   ]
		  },
  {
"cell_type": "code",
	   "execution_count": null,
	   "metadata": {
	    "collapsed": true
	   },
	   "outputs": [],
"source": [
"clc\n",
"//initialization of variables\n",
"D = 1*10^-5 //cm^2/sec\n",
"d = 2.3 // cm\n",
"L = 14 // cm\n",
"v0 = 6.1 // cm/sec\n",
"//calculations\n",
"k = ((3^(1/3))/(gamma(4/3)))*((D/d))*(((d^2)*v0/(D*L))^(1/3))// cm/sec\n",
"//Results\n",
"printf('The average mass transfer coefficient is %.6f cm/sec',k)"
   ]
   }
,
{
		   "cell_type": "markdown",
		   "metadata": {},
		   "source": [
			"## Example 9.4_2: Local_Mtc.sce"
		   ]
		  },
  {
"cell_type": "code",
	   "execution_count": null,
	   "metadata": {
	    "collapsed": true
	   },
	   "outputs": [],
"source": [
"clc\n",
"//initialization of variables\n",
"tn = 300000 // turbulence number\n",
"v0  = 10 // cm/sec\n",
"p = 1 // g/cc\n",
"mu = 0.01 // g/cm-sec\n",
"delta = 2.5 //cm\n",
"D = 1*10^-5 // cm^2/sec\n",
"//Calculations\n",
"x = tn*mu/(v0*p)// cm\n",
"delta = ((280/13)^(1/2))*x*((mu/(x*v0*p))^(1/2))//cm\n",
"deltac = ((D*p/mu)^(1/3))*delta//cm\n",
"k = (0.323*(D/x)*((x*v0*p/mu)^0.5)*((mu/(p*D))^(1/3)))*10^5// x*10^-5 cm/sec\n",
"//Results\n",
"printf('The distance at which turbulent flow starts is %.f cm',x)\n",
"printf('\nThe boundary layer for flow at this point is %.1f cm',delta)\n",
"printf('\nThe boundary layer for concentration at this point is %.2f cm',deltac)\n",
"printf('\nThe local m.t.c at the leading edge and at the position of transistion is %.1f x10^-5 cm/sec',k)"
   ]
   }
],
"metadata": {
		  "kernelspec": {
		   "display_name": "Scilab",
		   "language": "scilab",
		   "name": "scilab"
		  },
		  "language_info": {
		   "file_extension": ".sce",
		   "help_links": [
			{
			 "text": "MetaKernel Magics",
			 "url": "https://github.com/calysto/metakernel/blob/master/metakernel/magics/README.md"
			}
		   ],
		   "mimetype": "text/x-octave",
		   "name": "scilab",
		   "version": "0.7.1"
		  }
		 },
		 "nbformat": 4,
		 "nbformat_minor": 0
}
