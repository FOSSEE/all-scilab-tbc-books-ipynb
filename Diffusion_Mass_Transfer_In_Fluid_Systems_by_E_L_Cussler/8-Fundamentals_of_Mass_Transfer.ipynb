{
"cells": [
 {
		   "cell_type": "markdown",
	   "metadata": {},
	   "source": [
       "# Chapter 8: Fundamentals of Mass Transfer"
	   ]
	},
{
		   "cell_type": "markdown",
		   "metadata": {},
		   "source": [
			"## Example 8.1_1: Time_taken.sce"
		   ]
		  },
  {
"cell_type": "code",
	   "execution_count": null,
	   "metadata": {
	    "collapsed": true
	   },
	   "outputs": [],
"source": [
"clc\n",
"//initiliazation of variables\n",
"Vap = (0.05/22.4)*23.8/760 // Vapour concentration\n",
"V = 18.4*10^3 // Air Volume in cc\n",
"A = 150 // Liquid Area in Cm^2\n",
"t1 = 180 // Time in sec\n",
"N1 = (Vap*V)/(A*t1)\n",
"k = 3.4*10^-2 // cm/sec\n",
"C = 0.9\n",
"//Calculations\n",
"t = (-V/(k*A))*log(1 - C)\n",
"thr = t/3600\n",
"//Results\n",
"printf('the time taken to reach 90 percent saturation is %.3f hr',thr)"
   ]
   }
,
{
		   "cell_type": "markdown",
		   "metadata": {},
		   "source": [
			"## Example 8.1_2: Mass_transfer_coefficient.sce"
		   ]
		  },
  {
"cell_type": "code",
	   "execution_count": null,
	   "metadata": {
	    "collapsed": true
	   },
	   "outputs": [],
"source": [
"\n",
"clc\n",
"//initialization of variables\n",
"Vo = 5 // cm/sec\n",
"a = 23 //cm^2/cm^3\n",
"z = 100 //cm\n",
"Crat = 0.62 // Ratio of c/Csat\n",
"//Calculations\n",
"k = -(Vo/(a*z))*log(1-Crat)\n",
"//Results\n",
"printf('the mass transfer co efficient is %.1e cm/sec',k)"
   ]
   }
,
{
		   "cell_type": "markdown",
		   "metadata": {},
		   "source": [
			"## Example 8.1_3: Mass_transfer_coefficient.sce"
		   ]
		  },
  {
"cell_type": "code",
	   "execution_count": null,
	   "metadata": {
	    "collapsed": true
	   },
	   "outputs": [],
"source": [
"\n",
"clc\n",
"//initialization of variables\n",
"t = 3*60 // seconds\n",
"crat = 0.5 // Ratio of c and csat\n",
"//calculations\n",
"ka = -(1/t)*log(1-crat)\n",
"//results\n",
"printf('the mass transfer co efficient along the product with a is %.1e sec^-1',ka)"
   ]
   }
,
{
		   "cell_type": "markdown",
		   "metadata": {},
		   "source": [
			"## Example 8.1_4: Mass_transfer_coefficient.sce"
		   ]
		  },
  {
"cell_type": "code",
	   "execution_count": null,
	   "metadata": {
	    "collapsed": true
	   },
	   "outputs": [],
"source": [
"\n",
"clc\n",
"//initialiazation of variables\n",
"rin = 0.05 // initial radius of oxygen bubble in cm\n",
"rf = 0.027 //final radius of oxygen bubble in cm\n",
"tin = 0 // initial time in seconds\n",
"tf = 420 // final time in seconds\n",
"c1 = 1/22.4 // oxygen concentration in the bubble in mol/litres\n",
"c1sat = 1.5*10^-3 // oxygen concentration outside which is saturated in mol/litres\n",
"//Calculations\n",
"k = -((rf-rin)/(tf-tin))*(c1/c1sat)\n",
"//Results\n",
"printf('The mass transfer co efficient is %.1e cm/sec',k)\n",
""
   ]
   }
,
{
		   "cell_type": "markdown",
		   "metadata": {},
		   "source": [
			"## Example 8.2_1: Mass_transfer_coefficient.sce"
		   ]
		  },
  {
"cell_type": "code",
	   "execution_count": null,
	   "metadata": {
	    "collapsed": true
	   },
	   "outputs": [],
"source": [
"\n",
"clc\n",
"//initialization of variables\n",
"kc = 3.3*10^-3 // M.T.C in cm/sec\n",
"d = 1 // density of oxygen in g/cm^3\n",
"M = 18 // Mol wt of water in g/mol\n",
"Hatm = 4.4*10^4 // Henrys constant in atm\n",
"HmmHg = Hatm*760 // Henrys constant in mm Hg\n",
"//calculations\n",
"ratio = d/(M*HmmHg)// Ratio of concentration and pressure of oxygen\n",
"kp = kc*ratio // M.T.O=C in x*10^12mol/cm^2-sec-mm Hg \n",
"//Results\n",
"printf('the M.T.C in given units is %.1e',kp )\n",
""
   ]
   }
,
{
		   "cell_type": "markdown",
		   "metadata": {},
		   "source": [
			"## Example 8.2_2: Mass_transfer_coefficient_liquid_and_gas.sce"
		   ]
		  },
  {
"cell_type": "code",
	   "execution_count": null,
	   "metadata": {
	    "collapsed": true
	   },
	   "outputs": [],
"source": [
"\n",
"clc\n",
"//initialization of variables\n",
"k1 = 1.18 // M.T.C in lb-mol NH3/hr-ft^2\n",
"k2 =  1.09 // M.T.C in lb-mol NH3/hr-ft^2\n",
"M2 = 18 // Mol wt of NH3 in lb/mol\n",
"d = 62.4 //  Density of NH3 in lb/ft^3\n",
"c1 = 30.5 // Conversion factor from ft to cm\n",
"c2 = 1/3600 // Conversion factor from seconds to hour\n",
"R = 1.314 // Gas constant in atm-ft^3/lb-mol-K\n",
"T = 298 // Temperature in Kelvin scale\n",
"//Calculations\n",
"kf1 = (M2/d)*k1*c1*c2 // M.T.C in cm/sec\n",
"kf2 = R*T*k2*c1*c2 // M.T.C in cm/sec\n",
"//Results\n",
"printf('the M.T.C for liquid is %.1e cm/sec',kf1)\n",
"printf('\n the M.T.C for gas is %.1f cm/sec',kf2)"
   ]
   }
,
{
		   "cell_type": "markdown",
		   "metadata": {},
		   "source": [
			"## Example 8.3_1: Column_length.sce"
		   ]
		  },
  {
"cell_type": "code",
	   "execution_count": null,
	   "metadata": {
	    "collapsed": true
	   },
	   "outputs": [],
"source": [
"clc\n",
"//initialization of variables\n",
"l = 0.07 // flim thickness in cm \n",
"v = 3 // water flow in cm/sec\n",
"D = 1.8*10^-5 // diffusion coefficient in cm^2/sec\n",
"crat = 0.1 // Ratio of c1 and c1(sat)\n",
"//Calculations\n",
"z = (((l^2)*v)/(1.38*D))*((log(1-crat))^2) //Column length\n",
"//Results\n",
"printf('the column length needed is %.1f cm',z)\n",
""
   ]
   }
,
{
		   "cell_type": "markdown",
		   "metadata": {},
		   "source": [
			"## Example 8.3_2: Mass_flux_in_air_and_water.sce"
		   ]
		  },
  {
"cell_type": "code",
	   "execution_count": null,
	   "metadata": {
	    "collapsed": true
	   },
	   "outputs": [],
"source": [
"clc\n",
"//Initialization of variables\n",
"Dw = 1*10^-5 // Diffusion co efficient in cm^2/sec\n",
"omeg = 20*2*%pi/60 // disc rotation in /sec\n",
"Nuw = 0.01 // Kinematic viscousity in water in cm^2/sec\n",
"Da = 0.233 // Diffusion co efficient in cm^2/sec\n",
"Nua = 0.15 // Kinematic viscousity in air in cm^2/sec\n",
"c1satw = 0.003 // Solubility of benzoic acid in water in gm/cm^3\n",
"p1sat = 0.30 // Equilibrium Vapor pressure in mm Hg\n",
"ratP = 0.3/760 // Ratio of pressures\n",
"c1 = 1/(22.4*10^3) // Moles per volume\n",
"c2 = 273/298 // Ratio of temperatures\n",
"c3 = 122 // Grams per mole\n",
"//Calculations\n",
"kw = 0.62*Dw*((omeg/Nuw)^0.5)*((Nuw/Dw)^(1/3))// cm/sec\n",
"Nw = kw*c1satw*10^6 // mass flux in x*10^-6 in g/cm^2-sec\n",
"ka = 0.62*Da*((omeg/Nua)^0.5)*((Nua/Da)^(1/3))//cm/sec\n",
"c1sata = ratP*c1*c2*c3// Solubility of benzoic acid in air in gm/cm^3\n",
"Na = ka*c1sata*10^6  // mass flux in x*10^-6 in g/cm^2-sec\n",
"//Results\n",
"printf ('the mass flux in water is %.1f x10^-6 g/cm^2-sec',Nw)\n",
"printf('\n the mass flux in air is %.1f x10^-6 g/cm^2-sec',Na)\n",
""
   ]
   }
,
{
		   "cell_type": "markdown",
		   "metadata": {},
		   "source": [
			"## Example 8.5_1: Overall_Mass_transfer_coefficient.sce"
		   ]
		  },
  {
"cell_type": "code",
	   "execution_count": null,
	   "metadata": {
	    "collapsed": true
	   },
	   "outputs": [],
"source": [
"\n",
"clc\n",
"//initialization of variables\n",
"Dl=2.1*10^-5// Diffusion co efficient for Oxygen in air in cm^2/sec\n",
"Dg = 0.23 //Diffusion co efficient for Oxygen in water in cm^2/sec\n",
"R = 82 // Gas constant in cm^3-atm/g-mol-K\n",
"T = 298 //Temperature in Kelvin\n",
"l1 = 0.01 // film thickness in liquids in cm\n",
"l2 = 0.1 // film thickness in gases in cm\n",
"H1 = 4.3*10^4 // Henrys constant in atm\n",
"c = 1/18 // concentration of water in g-mol/cm^3\n",
"//Calculations\n",
"kl = (Dl/l1)*c // m.t.c in liquid phase in mol/cm^2/sec\n",
"kp = (Dg/l2)/(R*T)// m.t.c in gas phase in gmol/cm^2-sec-atm\n",
"KL = 1/((1/kl)+(1/(kp*H1)))// Overall m.t.c in mol/cm^2-sec liquid phase\n",
"//Results\n",
"printf('The overall m.t.c in liquid side is %.1e mol/cm^2-sec',KL)"
   ]
   }
,
{
		   "cell_type": "markdown",
		   "metadata": {},
		   "source": [
			"## Example 8.5_2: Overall_Mass_transfer_coefficient.sce"
		   ]
		  },
  {
"cell_type": "code",
	   "execution_count": null,
	   "metadata": {
	    "collapsed": true
	   },
	   "outputs": [],
"source": [
"clc\n",
"//initialization of variables\n",
"Dl=1.9*10^-5// Diffusion co efficient for liquid phase in cm^2/sec\n",
"Dg = 0.090 //Diffusion co efficient for gas phase in cm^2/sec\n",
"R = 82 // Gas constant in cm^3-atm/g-mol-K\n",
"T = 363 //Temperature in Kelvin\n",
"H1 = 0.70 // Henrys constant in atm\n",
"c = 1/97 // concentration of water in g-mol/cm^3\n",
"//Calculations\n",
"kl = (Dl/0.01)*c // m.t.c in liquid phase in mol/cm^2/sec\n",
"kp = (Dg/0.1)/(R*T)// m.t.c in gas phase in gmol/cm^2-sec-atm\n",
"KL = 1/((1/kl)+(1/(kp*H1)))*10^5// Overall m.t.c in x*10^-5 mol/cm^2-secliquid phase\n",
"//Results\n",
"printf('The overall m.t.c in liquid side is %.2f x10^-5 mol/cm^2-sec',KL)// answer wrong in textbook"
   ]
   }
,
{
		   "cell_type": "markdown",
		   "metadata": {},
		   "source": [
			"## Example 8.5_3: Overall_Mass_transfer_coefficient.sce"
		   ]
		  },
  {
"cell_type": "code",
	   "execution_count": null,
	   "metadata": {
	    "collapsed": true
	   },
	   "outputs": [],
"source": [
"clc\n",
"//Initialization of variables\n",
"k1 = 3.0*10^-4 // m.t.c in benzene in cm/sec\n",
"k2 = 2.4*10^-3 // m.t.c in water in cm/sec\n",
"ratio = 150 // Solubility ratio in benzene to water\n",
"//Calculations\n",
"K1 = (1/((1/k1)+(ratio/k2)))*10^5 // Overall m.t.c through benzene phase in x*10^-5 cm/sec\n",
"//Results\n",
"printf('The overall M.T.C through benzene phase is %.1f x10^-5 cm/sec',K1)"
   ]
   }
,
{
		   "cell_type": "markdown",
		   "metadata": {},
		   "source": [
			"## Example 8.5_4: Overall_Mass_transfer_coefficient.sce"
		   ]
		  },
  {
"cell_type": "code",
	   "execution_count": null,
	   "metadata": {
	    "collapsed": true
	   },
	   "outputs": [],
"source": [
"clc\n",
"//initialization of variables\n",
"H1 = 75 // henrys constant for ammonia in atm\n",
"H2 = 41000 // henrys constant for methane in atm\n",
"p = 2.2 // pressure in atm\n",
"kya = 18 // product of m.t.c and packing area per tower volume in lb-mol/hr-ft^3\n",
"kxa = 530 //product of m.t.c and packing area per tower volume in lb-mol/hr-ft^3\n",
"//calcuations\n",
"Kya1 = 1/((1/kya) + (H1/p)/kxa) //The overall coefficient for ammonia in lb-mol/hr-ft^3\n",
"Kya2 = 1/((1/kya) + (H2/p)/kxa) //The overall coefficient for methane in lb-mol/hr-ft^3\n",
"//Results\n",
"printf('The overall coefficient for ammonia is %.1f lb-mol/hr-ft^3',Kya1)\n",
"printf('\n The overall coefficient for methane is %.2f lb-mol/hr-ft^3',Kya2)"
   ]
   }
],
"metadata": {
		  "kernelspec": {
		   "display_name": "Scilab",
		   "language": "scilab",
		   "name": "scilab"
		  },
		  "language_info": {
		   "file_extension": ".sce",
		   "help_links": [
			{
			 "text": "MetaKernel Magics",
			 "url": "https://github.com/calysto/metakernel/blob/master/metakernel/magics/README.md"
			}
		   ],
		   "mimetype": "text/x-octave",
		   "name": "scilab",
		   "version": "0.7.1"
		  }
		 },
		 "nbformat": 4,
		 "nbformat_minor": 0
}
