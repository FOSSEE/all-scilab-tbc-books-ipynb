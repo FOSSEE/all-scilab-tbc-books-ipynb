{
"cells": [
 {
		   "cell_type": "markdown",
	   "metadata": {},
	   "source": [
       "# Chapter 13: Staged Distillation"
	   ]
	},
{
		   "cell_type": "markdown",
		   "metadata": {},
		   "source": [
			"## Example 13.1_1: Column_diameter.sce"
		   ]
		  },
  {
"cell_type": "code",
	   "execution_count": null,
	   "metadata": {
	    "collapsed": true
	   },
	   "outputs": [],
"source": [
"\n",
"clc\n",
"//Intialization of variables\n",
"xD = 0.90 // Distillate mole fraction\n",
"xB = 0.15// Reboiler mole fraction\n",
"xF = 0.50 //Feed mole fraction\n",
"F = 10 // mol/sec\n",
"dg = 3.1*10^-3 // g/cc\n",
"dl = 0.65 // g/cc\n",
"C = 0.11 // m/sec\n",
"//Calculations\n",
"D = ((xF*F)-(xB*F))/(xD-xB)\n",
"B = ((xF*F)-(xD*F))/(xB-xD)\n",
"L = 3.5*D\n",
"G = L+D\n",
"L1 = L+F\n",
"G1 = G\n",
"f = (L1/G1)*(sqrt(dg/dl)) // flow parameter\n",
"vG = C*(sqrt((dl-dg)/dg))//vapor velocity in m/sec\n",
"c = (22.4*10^-3)*340/373\n",
"d = sqrt(4*G1*c/(vG*%pi))//m\n",
"//Results\n",
"printf('The column diameter is %.1f m',d)\n",
"\n",
"//Calculation mistake in textbook\n",
"\n",
""
   ]
   }
,
{
		   "cell_type": "markdown",
		   "metadata": {},
		   "source": [
			"## Example 13.2_1: Number_of_stages.sce"
		   ]
		  },
  {
"cell_type": "code",
	   "execution_count": null,
	   "metadata": {
	    "collapsed": true
	   },
	   "outputs": [],
"source": [
"\n",
"clc\n",
"//Initialization of variables\n",
"y1 = 0.9999\n",
"x0 = y1 // For a total condenser\n",
"y0 =0.58 + 0.42*x0 // The equilbirum line\n",
"LbyG = 0.75\n",
"yNplus1 = 0.99\n",
"A = LbyG/0.42\n",
"n= 1\n",
"//Calculations\n",
"xN = (yNplus1-((1-LbyG)*y1))/LbyG\n",
"yN = 0.58 + 0.42*xN\n",
"N = (log((yNplus1-yN)/(y1-y0))/log(A))+n//, number of stages\n",
"//Results\n",
"printf('the number of stages approximately is %.f',N)\n",
"\n",
"\n",
""
   ]
   }
,
{
		   "cell_type": "markdown",
		   "metadata": {},
		   "source": [
			"## Example 13.2_2: Number_of_stages.sce"
		   ]
		  },
  {
"cell_type": "code",
	   "execution_count": null,
	   "metadata": {
	    "collapsed": true
	   },
	   "outputs": [],
"source": [
"clc\n",
"//initialization of variables\n",
"x0 = 0.0082\n",
"xB = 10^-4\n",
"L = 1\n",
"//Calculations\n",
"y0 = 36*x0\n",
"//There are two balancing equations , mole fraction balance , mole balance , from them G is \n",
"G0 = (xB-x0)*L/(xB-y0)\n",
"G = 3*G0\n",
"B = L-G\n",
"y1 = ((L*x0)-(B*xB))/G\n",
"yNplus1 = 36*xB\n",
"xN = (L*x0 - (G*(y1-yNplus1)))/L\n",
"yN = 36*xN\n",
"N = (log((yNplus1-yN)/(y1-y0)))/log((yNplus1-y1)/(yN-y0))\n",
"//Results\n",
"printf('The number of stages are %.1f',N)\n",
"//Answer wrong in textbook\n",
""
   ]
   }
,
{
		   "cell_type": "markdown",
		   "metadata": {},
		   "source": [
			"## Example 13.4_1: Murphree_efficiency.sce"
		   ]
		  },
  {
"cell_type": "code",
	   "execution_count": null,
	   "metadata": {
	    "collapsed": true
	   },
	   "outputs": [],
"source": [
"clc\n",
"//initialization of variables\n",
"yn = 0.84\n",
"ynplus1 = 0.76\n",
"ystarn = 0.874\n",
"GA = 0.14 // kg-mol/sec\n",
"Al = 0.04 // m^3\n",
"//Calculations\n",
"Murphree = (yn-ynplus1)/(ystarn-ynplus1)\n",
"Kya = GA/(Al*((1/Murphree)-1))\n",
"//results\n",
"printf('the murphree efficiency is %.2f',Murphree)\n",
"printf('\n the m.t.c along with the product with a is %.2f kg-mol/m^3-sec',Kya)"
   ]
   }
,
{
		   "cell_type": "markdown",
		   "metadata": {},
		   "source": [
			"## Example 13.4_2: Murphree_efficiency.sce"
		   ]
		  },
  {
"cell_type": "code",
	   "execution_count": null,
	   "metadata": {
	    "collapsed": true
	   },
	   "outputs": [],
"source": [
"clc\n",
"//Initialization of variables\n",
"R = 82 // atm-cm^3/gmol-K\n",
"T = 273 + 60 // Kelvin\n",
"pk = 1 // atm\n",
"a1 = 440 // sec^-1 (of gas)\n",
"a2 = 1.7 //sec^-1 (of liquid)\n",
"ck = 1.5/((0.47*(76.1))+(0.53*(158.7)))\n",
"x = 0.2\n",
"Vs = 10 // litres\n",
"GA = 59 // gmol/sec\n",
"m = 1.41\n",
"//Calculations\n",
"k = (R*T)/(pk*a1) + (m/(ck*a2))\n",
"Kya = (1/k)*1000 // gmol/l-sec\n",
"Murphree = 1 - exp(-Kya*Vs/(GA))\n",
"//Results\n",
"printf('The murphree efficiency is %.2f',Murphree)"
   ]
   }
],
"metadata": {
		  "kernelspec": {
		   "display_name": "Scilab",
		   "language": "scilab",
		   "name": "scilab"
		  },
		  "language_info": {
		   "file_extension": ".sce",
		   "help_links": [
			{
			 "text": "MetaKernel Magics",
			 "url": "https://github.com/calysto/metakernel/blob/master/metakernel/magics/README.md"
			}
		   ],
		   "mimetype": "text/x-octave",
		   "name": "scilab",
		   "version": "0.7.1"
		  }
		 },
		 "nbformat": 4,
		 "nbformat_minor": 0
}
