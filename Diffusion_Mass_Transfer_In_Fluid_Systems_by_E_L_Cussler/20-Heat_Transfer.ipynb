{
"cells": [
 {
		   "cell_type": "markdown",
	   "metadata": {},
	   "source": [
       "# Chapter 20: Heat Transfer"
	   ]
	},
{
		   "cell_type": "markdown",
		   "metadata": {},
		   "source": [
			"## Example 20.1_1: Thermal_diffusivity.sce"
		   ]
		  },
  {
"cell_type": "code",
	   "execution_count": null,
	   "metadata": {
	    "collapsed": true
	   },
	   "outputs": [],
"source": [
"clc\n",
"//initialization of variables\n",
"T = 26.2 // centigrade\n",
"T0 = 4 // centigrade\n",
"Tinf = 40 //centigrade\n",
"z = 1.3//cm\n",
"t = 180 //seconds\n",
"//calculations\n",
"k = erfinv((T-T0)/(Tinf-T0))\n",
"alpha = (1/(4*t))*((z/k)^2)//cm^2/sec\n",
"//Results\n",
"printf('The thermal diffusivity is %.3f',alpha)//answer wrong in textbook"
   ]
   }
,
{
		   "cell_type": "markdown",
		   "metadata": {},
		   "source": [
			"## Example 20.3_1: Overall_heat_transfer_coefficient.sce"
		   ]
		  },
  {
"cell_type": "code",
	   "execution_count": null,
	   "metadata": {
	    "collapsed": true
	   },
	   "outputs": [],
"source": [
"clc\n",
"//initialization of variables\n",
"Q = 18 // m^3/hr\n",
"z = 2.80 //m\n",
"T = 140//C\n",
"T1 = 240 //C\n",
"T2 = 20 //C\n",
"p= 900 //kg/m^3\n",
"Cp = 2 // W/kg-K\n",
"d = 0.05//m\n",
"//Calculations\n",
"A = %pi*(d^2)/4\n",
"v = Q*(1/(3600*40))/(A)\n",
"U = (v*p*Cp*d/(4*z))*(log((T1-T2)/(T1-T)))//W/m^2-K\n",
"DeltaT = ((T1-T2)+(T1-T))/2//C\n",
"q = (Q*(1/(3600*40))*p*Cp/(%pi*d*z))*(T-T2)//W/m^2-K\n",
"U1 = q/DeltaT//W/m^2-K\n",
"//Results\n",
"printf('The overall heat transfer co efficient based on local temp difference is %.2f W/m^2-K',U)\n",
"printf('\nThe overall heat transfer co efficient based on average temp difference is %.2f W/m^2-K',U1)"
   ]
   }
,
{
		   "cell_type": "markdown",
		   "metadata": {},
		   "source": [
			"## Example 20.3_2: Time_take.sce"
		   ]
		  },
  {
"cell_type": "code",
	   "execution_count": null,
	   "metadata": {
	    "collapsed": true
	   },
	   "outputs": [],
"source": [
"clc\n",
"//initialization of variables\n",
"T = 32 //F\n",
"T0 = 10//F\n",
"Tinf= 80 //F\n",
"U = 3.6 //Btu/hr-ft^2-F\n",
"A = 27 //ft^2\n",
"d = 8.31 //lb/gal\n",
"V = 100 //gal\n",
"Cv = 1//Btu/lb-F\n",
"//Calculations\n",
"t = (-log((T-T0)/(Tinf-T0)))*d*V*Cv/(U*A)//hr\n",
"//Results\n",
"printf('The time we can wait before the water in the tank starts to freeze is %.f hr',t)"
   ]
   }
,
{
		   "cell_type": "markdown",
		   "metadata": {},
		   "source": [
			"## Example 20.3_3: Savings_calculation.sce"
		   ]
		  },
  {
"cell_type": "code",
	   "execution_count": null,
	   "metadata": {
	    "collapsed": true
	   },
	   "outputs": [],
"source": [
"clc\n",
"//initialization of variables\n",
"//Given q = h*DeltaT and 0.6q = (1/(1/h)+10/12*0.03)*delta T , divide both to get \n",
"l = 10/12 //ft\n",
"k = 0.03 //Btu/hr-ft-F\n",
"//Calculations\n",
"l2 = 2//feet\n",
"k2 = 0.03 //Btu/hr-ft-F\n",
"h = ((1/0.6)-1)*k/l //Btu/hr-ft^2-F\n",
"U = 1/((1/h)+(l2/k2))//Btu/hr-ft^2-F\n",
"Savings = U*100/h\n",
"//Results\n",
"printf('The savings due to insulation is about %.f percent',Savings)\n",
""
   ]
   }
,
{
		   "cell_type": "markdown",
		   "metadata": {},
		   "source": [
			"## Example 20.4_1: Overall_heat_transfer_coefficient.sce"
		   ]
		  },
  {
"cell_type": "code",
	   "execution_count": null,
	   "metadata": {
	    "collapsed": true
	   },
	   "outputs": [],
"source": [
"clc\n",
"//initialization of variables\n",
"T = 673 // Kelvin\n",
"M = 28 \n",
"sigma = 3.80 // angstroms\n",
"omega = 0.87\n",
"d1 = 0.05 //m\n",
"v1 = 17 //m/sec\n",
"Mu1 = 3.3*10^-5 // kg/m-sec\n",
"p1 = 5.1*10^-1 // kg/m^3\n",
"Cp1 = 1100 // J/kg-K\n",
"k2 = 42 // W/m-K\n",
"l2 = 3*10^-3 //m\n",
"d3 = 0.044 //m\n",
"v3 = 270 //m/sec\n",
"p3 = 870 //kg/m^3\n",
"Mu3 = 5.3*10^-4 // kg/m-sec\n",
"Cp3 = 1700// J/kg-K\n",
"k3 = 0.15 //W/m-K\n",
"//Calculations\n",
"kincal = (1.99*10^-4)*(sqrt(T/M))/((sigma^2)*omega)//W/m^2-K\n",
"k = kincal*4.2*10^2// k in W/m-K\n",
"h1 = 0.33*(k/d1)*((d1*v1*p1/Mu1)^0.6)*((Mu1*Cp1/k)^0.3)//W/m^2-K\n",
"h2 = k2/l2 //W/m^2-K\n",
"h3 = 0.027*(k3/d3)*((d3*v3*p3/Mu3)^0.8)*((Mu3*Cp3/k3)^0.33)//W/m^2-K\n",
"U = 1/((1/h1)+(1/h2)+(1/h3))//W/m^2-K\n",
"//Results\n",
"printf('The overall heat transfer co efficient is %.f W/m^2-K',U)\n",
""
   ]
   }
,
{
		   "cell_type": "markdown",
		   "metadata": {},
		   "source": [
			"## Example 20.4_2: heat_transfer_coefficient.sce"
		   ]
		  },
  {
"cell_type": "code",
	   "execution_count": null,
	   "metadata": {
	    "collapsed": true
	   },
	   "outputs": [],
"source": [
"clc\n",
"//initialization of variables\n",
"//For window with two panes 3 cm apart\n",
"k = 0.57*10^-4 //cal/cm-sec-K\n",
"l = 3 //cm\n",
"g = 980 // cm/sec^2\n",
"Nu = 0.14 // cm^2/sec\n",
"DeltaT = 30 // Kelvin\n",
"T = 278 // Kelvin\n",
"L = 100 // cm\n",
"//calculations\n",
"h = (0.065*(k/l)*(((l^3)*g*DeltaT/((Nu^2)*T))^(1/3))*((l/L)^(1/9)))*10^4//for two pane in x*10^-4 cal/cm^2-sec-K\n",
"printf('The heat transfer co efficent for two panes is %.2f x10^-4 cal/cm^2-sec-K',h)\n",
"\n",
"//For window with three panes 1.5 cm each apart\n",
"k = 0.57*10^-4 //cal/cm-sec-K\n",
"l = 1.5//cm\n",
"DeltaT = 15 // Kelvin\n",
"g = 980 // cm/sec^2\n",
"Nu = 0.14 // cm^2/sec\n",
"//calculations\n",
"h = (0.065*(k/l)*(((l^3)*g*DeltaT/((Nu^2)*T))^(1/3))*((l/L)^(1/9)))*10^4//for two pane in x*10^-4 cal/cm^2-sec-K\n",
"printf('\nThe heat transfer co efficent for three panes is %.2f x10^-4 cal/cm^2-sec-K',h/2)//Because there are two gaps\n",
""
   ]
   }
],
"metadata": {
		  "kernelspec": {
		   "display_name": "Scilab",
		   "language": "scilab",
		   "name": "scilab"
		  },
		  "language_info": {
		   "file_extension": ".sce",
		   "help_links": [
			{
			 "text": "MetaKernel Magics",
			 "url": "https://github.com/calysto/metakernel/blob/master/metakernel/magics/README.md"
			}
		   ],
		   "mimetype": "text/x-octave",
		   "name": "scilab",
		   "version": "0.7.1"
		  }
		 },
		 "nbformat": 4,
		 "nbformat_minor": 0
}
