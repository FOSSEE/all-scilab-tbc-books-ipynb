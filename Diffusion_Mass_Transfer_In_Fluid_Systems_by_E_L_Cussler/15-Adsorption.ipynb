{
"cells": [
 {
		   "cell_type": "markdown",
	   "metadata": {},
	   "source": [
       "# Chapter 15: Adsorption"
	   ]
	},
{
		   "cell_type": "markdown",
		   "metadata": {},
		   "source": [
			"## Example 15.3_2: Length_of_bed.sce"
		   ]
		  },
  {
"cell_type": "code",
	   "execution_count": null,
	   "metadata": {
	    "collapsed": true
	   },
	   "outputs": [],
"source": [
"clc\n",
"//initialization of variables\n",
"tE = 33 // Time taken for ferric ion to exhaust the bed in min\n",
"tB = 23 // Time taken for nickel to break through ferric in min\n",
"l = 120 //bed length in cm\n",
"//Calculations\n",
"Theta = 2*tB/(tB+tE)\n",
"lunused = (1-Theta)*120 // cm\n",
"//Results\n",
"printf('the length of the bed unused is %.1f cm',lunused)"
   ]
   }
,
{
		   "cell_type": "markdown",
		   "metadata": {},
		   "source": [
			"## Example 15.3_3: volume_of_adsorbent.sce"
		   ]
		  },
  {
"cell_type": "code",
	   "execution_count": null,
	   "metadata": {
	    "collapsed": true
	   },
	   "outputs": [],
"source": [
"clc\n",
"//initialization of variables\n",
"tB = 10 // min\n",
"tE = 14 // min\n",
"l = 0.12 //m\n",
"l2 = 10 // m\n",
"c = 10000\n",
"A = 1/10000 // m^2\n",
"//Calculations\n",
"theta = 2*tB/(tB+tE)\n",
"l1 = l*(1-theta)// m , length of bed unused in first case\n",
"V1 = c*A*l // m^3\n",
"l3 = l2-l1 // length of bed unused in second case\n",
"d = sqrt(V1*4/(l3*%pi))// m\n",
"V2 = c*(l-l1)*A*l2/l3 // volume needed for second case\n",
"//Results\n",
"printf('The volume of adsorbent needed if the bed is kept 12 cm deep is %.2f m^3',V1)\n",
"printf('\nThe volume of adsorbent needed if the bed length is 10 m long is %.4f m^3',V2)"
   ]
   }
,
{
		   "cell_type": "markdown",
		   "metadata": {},
		   "source": [
			"## Example 15.4_1: Breakthrough_time.sce"
		   ]
		  },
  {
"cell_type": "code",
	   "execution_count": null,
	   "metadata": {
	    "collapsed": true
	   },
	   "outputs": [],
"source": [
"clc\n",
"//intialization of variables\n",
"tB1 = 38 // days , breakthrough time\n",
"tE1 = 46 // days, exhaustion time\n",
"c = 2 // number of times flow doubled\n",
"//Calculations\n",
"theta1 = 2*tB1/(tB1+tE1)// in the first case\n",
"ratio1 = 1-theta1 // ratio of unused bed length to total bed length\n",
"ratio2 = ratio1*c\n",
"tB2 = ((1/c)*(tB1 + 0.5*(tE1-tB1)))*ratio2//breakthrough time for second case\n",
"tE2 = (c-ratio2)*tB2/ratio2//exhaustion time for second case\n",
"//Results\n",
"//answwer slightly wrong in textbook\n",
"printf('The breakthrough time for this case is %.1f days',tB2)"
   ]
   }
,
{
		   "cell_type": "markdown",
		   "metadata": {},
		   "source": [
			"## Example 15.4_2: rate_constant.sce"
		   ]
		  },
  {
"cell_type": "code",
	   "execution_count": null,
	   "metadata": {
	    "collapsed": true
	   },
	   "outputs": [],
"source": [
"clc\n",
"//initialization of variables\n",
"slope = 0.93/3600 // sec^-1\n",
"q0 = 300 // 300 times y0 \n",
"E = 0.4 // void fraction\n",
"d = 310*10^-4 //cm\n",
"v = 1/60 //cm/sec\n",
"Nu = 0.01 //cm^2/sec\n",
"D = 5*10^-6 //cm^2/sec\n",
"//Calculations\n",
"ka1 = slope*q0*(1-E)//sec^-1\n",
"k = (D/d)*1.17*((d*v/Nu)^0.58)*((Nu/D)^0.33)// cm/sec\n",
"a = (6/d)*(1-E)//cm^2/cm^3\n",
"ka2 = k*a//sec^-1\n",
"//Results\n",
"printf('The rate constant is %.3f sec^-1',ka1)\n",
"printf('\nThe rate constant of literature is %.3f sec^-1',ka2)"
   ]
   }
],
"metadata": {
		  "kernelspec": {
		   "display_name": "Scilab",
		   "language": "scilab",
		   "name": "scilab"
		  },
		  "language_info": {
		   "file_extension": ".sce",
		   "help_links": [
			{
			 "text": "MetaKernel Magics",
			 "url": "https://github.com/calysto/metakernel/blob/master/metakernel/magics/README.md"
			}
		   ],
		   "mimetype": "text/x-octave",
		   "name": "scilab",
		   "version": "0.7.1"
		  }
		 },
		 "nbformat": 4,
		 "nbformat_minor": 0
}
