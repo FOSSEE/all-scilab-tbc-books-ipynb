{
"cells": [
 {
		   "cell_type": "markdown",
	   "metadata": {},
	   "source": [
       "# Chapter 19: Controlled Release and Phenomena"
	   ]
	},
{
		   "cell_type": "markdown",
		   "metadata": {},
		   "source": [
			"## Example 19.1_1: Permeability.sce"
		   ]
		  },
  {
"cell_type": "code",
	   "execution_count": null,
	   "metadata": {
	    "collapsed": true
	   },
	   "outputs": [],
"source": [
"\n",
"clc\n",
"//initialization of variables\n",
"VP = 0.045*10^-3// Vapor pressure of permethrin in kg/m-sec^2\n",
"R = 8.31 // Gas constant in kg-m^2/sec^2-gmol-K\n",
"l = 63*10^-6 // membrane thickness in m\n",
"A = 12*10^-4 // area surrounded by the membrane in m^2\n",
"M1 = 19*10^-3 // Permithrin release in gmol\n",
"t = 24*3600 // time taken to release\n",
"T = 298 // Kelvin\n",
"MW = 391 // Mol wt\n",
"//Calculations\n",
"c1 = VP/(R*T) // C1sat \n",
"P = (M1/(t*MW))*(l/c1)*(1/A)*10^-3 //Permeability in cm^2/sec\n",
"//Results\n",
"printf('The permeability is %.1e m^2/sec',P)"
   ]
   }
,
{
		   "cell_type": "markdown",
		   "metadata": {},
		   "source": [
			"## Example 19.2_1: Membrane_area_calculation.sce"
		   ]
		  },
  {
"cell_type": "code",
	   "execution_count": null,
	   "metadata": {
	    "collapsed": true
	   },
	   "outputs": [],
"source": [
"clc\n",
"//initialization of variables\n",
"M= 25*10^-6 //gm/hr\n",
"d = 0.006 //g/cc\n",
"P = 1.4*10^-4// permeance in cm/sec\n",
"Deltac1 = 0.006 //Equivalent//cc\n",
"//Calculations\n",
"c1 = 1/3600 // unit conversion factor hr/sec\n",
"c2 = 1/18 //unit conversion factor mole/cc\n",
"m = M*c1*c2/d // moles/sec\n",
"A = m/(P*Deltac1)//cm^2\n",
"//Results\n",
"printf('you will need a membrane area of  %.3f cm^2',A)"
   ]
   }
],
"metadata": {
		  "kernelspec": {
		   "display_name": "Scilab",
		   "language": "scilab",
		   "name": "scilab"
		  },
		  "language_info": {
		   "file_extension": ".sce",
		   "help_links": [
			{
			 "text": "MetaKernel Magics",
			 "url": "https://github.com/calysto/metakernel/blob/master/metakernel/magics/README.md"
			}
		   ],
		   "mimetype": "text/x-octave",
		   "name": "scilab",
		   "version": "0.7.1"
		  }
		 },
		 "nbformat": 4,
		 "nbformat_minor": 0
}
