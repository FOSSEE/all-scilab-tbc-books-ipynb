{
"cells": [
 {
		   "cell_type": "markdown",
	   "metadata": {},
	   "source": [
       "# Chapter 21: Simultaneous Heat and Mass Transfer"
	   ]
	},
{
		   "cell_type": "markdown",
		   "metadata": {},
		   "source": [
			"## Example 21.1_2: Thermal_diffusivity.sce"
		   ]
		  },
  {
"cell_type": "code",
	   "execution_count": null,
	   "metadata": {
	    "collapsed": true
	   },
	   "outputs": [],
"source": [
"\n",
"clc\n",
"//initialization of variables\n",
"Tdisc = 30 // Centigrade\n",
"T = 21 // Centigrade\n",
"T0 = 18 // Centigrade\n",
"R0 = 1.5 // cm\n",
"V = 1000 // cc\n",
"t = 3600 //seconds\n",
"Nu = 0.082 //cm^2/sec\n",
"omeg = 2*%pi*10/60 //sec^-1\n",
"//Calculations\n",
"k = -V*(log((Tdisc-T)/(Tdisc-T0)))/(%pi*(R0^2)*t)// k = h/d*cp cm/sec\n",
"alpha = ((1/0.62)*(k)*(Nu^(1/6))*(omeg^(-0.5)))^1.5 // cm^2/sec\n",
"//Results\n",
"printf('the value of thermal diffusivity is %.1e cm^2/sec',alpha)"
   ]
   }
,
{
		   "cell_type": "markdown",
		   "metadata": {},
		   "source": [
			"## Example 21.3_1: Time_take.sce"
		   ]
		  },
  {
"cell_type": "code",
	   "execution_count": null,
	   "metadata": {
	    "collapsed": true
	   },
	   "outputs": [],
"source": [
"clc\n",
"//initialization of variables\n",
"d =1000 // kg/m^3\n",
"h = 30 // W/m^2-C-sec\n",
"Hvap = 2300*10^3 // J/kg\n",
"T = 75 // C\n",
"Ti = 31 // C\n",
"l = 0.04 // m\n",
"epsilon = 0.36\n",
"c = 3600 // sec/hr\n",
"t1 = (Hvap/h)*(1/(T-Ti))*(l*epsilon*d)// sec\n",
"t = t1/c // in hr\n",
"//Results\n",
"printf('The time taken for drying is %.f hr',t)// answer wrong in textbook"
   ]
   }
,
{
		   "cell_type": "markdown",
		   "metadata": {},
		   "source": [
			"## Example 21.3_2: Mass_transfer_and_time_taken.sce"
		   ]
		  },
  {
"cell_type": "code",
	   "execution_count": null,
	   "metadata": {
	    "collapsed": true
	   },
	   "outputs": [],
"source": [
"clc\n",
"//intialization of variables\n",
"d = 100*10^-4 // cm\n",
"v = 10^-3// cm/sec\n",
"nu = 0.2 // cm^2/sec\n",
"DS = 0.3 // cm^2/sec\n",
"DG = 3*10^-7 // cm^2/sec\n",
"H = 4.3*10^-4 // at 60 degree centigrade\n",
"//Calculations\n",
"kG = (2+(0.6*((d*v/nu)^0.5)*((nu/DS)^(1/3))))*DS/d// cm/sec\n",
"k = kG*H \n",
"t = 30*DG/k^2\n",
"//Results\n",
"printf('The mass transfer coefficient is %.5f cm/sec',k)\n",
"printf('\nTHe time needed to dry the particle is %.6f sec',t)\n",
"//Answer wrong in textbook starting from kG"
   ]
   }
,
{
		   "cell_type": "markdown",
		   "metadata": {},
		   "source": [
			"## Example 21.4_1: Flow_rate_area_and_length.sce"
		   ]
		  },
  {
"cell_type": "code",
	   "execution_count": null,
	   "metadata": {
	    "collapsed": true
	   },
	   "outputs": [],
"source": [
"clc\n",
"//initialization of variables\n",
"slope = 230 //J/g-mol-C\n",
"nair = 60 // gmol/cm^2-sec\n",
"CpH2O = 75 // J/gmol-C\n",
"f = 0.4 // Correction factor\n",
"F = 2150/(60*0.018)//gmol/m^2-sec\n",
"kc= 20/3\n",
"a = 3 // m^2/m^3\n",
"k = 2.7 // integral of dH/Hi-H with limits Hout and Hin\n",
"//Calculations\n",
"nH2Omax = slope*nair/CpH2O//gmol/m^2-sec\n",
"nH2O = nH2Omax*(1-f) //gmol/m^2-sec\n",
"A = F/nH2O // m^2\n",
"l = (nair/(kc*a))*k // m\n",
"//Results\n",
"printf('The flow rate of the water per tower cross section is %.f gmol H2O/m^2-sec',nH2O)\n",
"printf('\nThe area of tower cross section is %.f m^2',A)\n",
"printf('\nThe length of the tower is %.1f m',l)\n",
""
   ]
   }
,
{
		   "cell_type": "markdown",
		   "metadata": {},
		   "source": [
			"## Example 21.5_1: Time_take.sce"
		   ]
		  },
  {
"cell_type": "code",
	   "execution_count": null,
	   "metadata": {
	    "collapsed": true
	   },
	   "outputs": [],
"source": [
"clc\n",
"//initialization of variables\n",
"A = 0.01 // cm^2\n",
"l = 1 // cm\n",
"VA = 3 // cc\n",
"VB = 3 // cc\n",
"alphagas = 0.29 \n",
"alphaliquid = -1.3\n",
"x1 = 0.5\n",
"x2 = 0.5 \n",
"deltaT = 50 // Kelvin Thot-Tcold = 50\n",
"Tavg = 298 // kelvin\n",
"Dgas = 0.3 // cm^2/sec\n",
"Dliquid = 10^-5 // cm^2/sec\n",
"//calculations\n",
"deltaY = alphagas*x1*x2*deltaT/Tavg // Y1hot-Y1cold = DeltaY\n",
"deltaX = alphaliquid*x1*x2*deltaT/Tavg// X1hot-X1cold = DeltaX\n",
"Beta = (A/l)*((1/VA)+(1/VB))//cm^-2\n",
"BetaDgasinverse = 1/(Beta*Dgas)// sec\n",
"BetaDliquidinverse = (1/(Beta*Dliquid))/(365*24*60*60)\n",
"//Results\n",
"printf('The seperation achieved for gas is  %.3f',deltaY)\n",
"printf('\nThe seperation achieved for liquid is  %.2f',deltaY)\n",
"printf('\nThe time taken for seperation for gas will be %.f seconds',BetaDgasinverse)\n",
"printf('\nThe time taken for seperation for liquid will be %.1f year',BetaDliquidinverse)"
   ]
   }
],
"metadata": {
		  "kernelspec": {
		   "display_name": "Scilab",
		   "language": "scilab",
		   "name": "scilab"
		  },
		  "language_info": {
		   "file_extension": ".sce",
		   "help_links": [
			{
			 "text": "MetaKernel Magics",
			 "url": "https://github.com/calysto/metakernel/blob/master/metakernel/magics/README.md"
			}
		   ],
		   "mimetype": "text/x-octave",
		   "name": "scilab",
		   "version": "0.7.1"
		  }
		 },
		 "nbformat": 4,
		 "nbformat_minor": 0
}
