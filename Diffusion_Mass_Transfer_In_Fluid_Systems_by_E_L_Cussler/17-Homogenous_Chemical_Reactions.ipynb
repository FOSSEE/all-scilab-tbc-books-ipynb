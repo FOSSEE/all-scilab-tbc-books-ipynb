{
"cells": [
 {
		   "cell_type": "markdown",
	   "metadata": {},
	   "source": [
       "# Chapter 17: Homogenous Chemical Reactions"
	   ]
	},
{
		   "cell_type": "markdown",
		   "metadata": {},
		   "source": [
			"## Example 17.1_1: Diffusion_coefficient.sce"
		   ]
		  },
  {
"cell_type": "code",
	   "execution_count": null,
	   "metadata": {
	    "collapsed": true
	   },
	   "outputs": [],
"source": [
"clc\n",
"//initialization of variables\n",
"K = 1.46*10^-4 // lit/mol-sec (rate constant)\n",
"cpyridine = 0.1 // mol/lit\n",
"K1 = 2.0*10^-5 // cm^2/sec\n",
"//Calculations\n",
"D = K*cpyridine // sec^-1\n",
"k0 = (sqrt(D*K1))*10^5//in x*10^-5 cm/sec\n",
"//Results\n",
"printf('The diffusion co efficient of methyl iodide in benzene is %.1f x10^-5 cm/sec',k0)"
   ]
   }
,
{
		   "cell_type": "markdown",
		   "metadata": {},
		   "source": [
			"## Example 17.1_2: Reduction_in_reaction_rate.sce"
		   ]
		  },
  {
"cell_type": "code",
	   "execution_count": null,
	   "metadata": {
	    "collapsed": true
	   },
	   "outputs": [],
"source": [
"clc\n",
"//initialization of variables\n",
"R = 0.3 // cm\n",
"K1 = 18.6 // sec^-1\n",
"D = 0.027 // cm^2/sec\n",
"//Calculations\n",
"l = R/3 // cm\n",
"n = (sqrt(D/(K1*(l^2))))*coth(sqrt(K1*(l^2)/D))\n",
"//Results\n",
"printf('The value of reduction in reaction rate due to diffusion is %.2f',n)"
   ]
   }
,
{
		   "cell_type": "markdown",
		   "metadata": {},
		   "source": [
			"## Example 17.1_3: rate_constant.sce"
		   ]
		  },
  {
"cell_type": "code",
	   "execution_count": null,
	   "metadata": {
	    "collapsed": true
	   },
	   "outputs": [],
"source": [
"clc\n",
"//initialization of variables\n",
"k = 16*10^-3 // m.t.c in cm/sec\n",
"D  = 1.25*10^-5 // Diffusion co efficient in cm^2/sec\n",
"//Calculations \n",
"K1 = (k^2)/D\n",
"//Results\n",
"printf('The rate constant is %.f sec^-1',K1)"
   ]
   }
,
{
		   "cell_type": "markdown",
		   "metadata": {},
		   "source": [
			"## Example 17.2_1: Increase_in_rate.sce"
		   ]
		  },
  {
"cell_type": "code",
	   "execution_count": null,
	   "metadata": {
	    "collapsed": true
	   },
	   "outputs": [],
"source": [
"clc\n",
"//initialization of variables\n",
"D2 = 5*10^-6 // The diffusion co efficient of the new compound in cm^2/sec\n",
"Nu = 3 // The factor\n",
"D1 = 0.7*10^-5 // The diffusion co efficient of the original compound in cm^2/sec\n",
"c2l = 1.5*10^-5 // the new solubility in mol/cc\n",
"c1l = 3*10^-7 // The old solubility in mol/cc\n",
"//Calculations\n",
"k = 1 + ((D2*c2l)/(Nu*D1*c1l))// The number of times the rate has increased to the previous rate\n",
"//Results\n",
"printf('There is about a %.f fold increase in rate',k)"
   ]
   }
,
{
		   "cell_type": "markdown",
		   "metadata": {},
		   "source": [
			"## Example 17.4_1: Rate_constant.sce"
		   ]
		  },
  {
"cell_type": "code",
	   "execution_count": null,
	   "metadata": {
	    "collapsed": true
	   },
	   "outputs": [],
"source": [
"\n",
"clc\n",
"//initialization of variables\n",
"//For first reaction\n",
"D1 = 9.3*10^-5 // cm^2/sec\n",
"D2 = 5.3*10^-5 // cm^2/sec\n",
"K1exp = 1.4*10^11 // litre/mol-sec\n",
"sigma12 = 2.8*10^-8 // cm\n",
"N = (6.02*10^23)/10^3// liter/cc-mol\n",
"K1 = 4*%pi*(D1+D2)*sigma12*N // Rate constant for first reaction in litre/mol-sec\n",
"printf('The rate constant for this reaction is %.1e litre/',K1)\n",
"if K1>K1exp\n",
"     then disp('This reaction is controlled more by chemical factors')\n",
"    else\n",
"         disp('This reaction is diffusion controlled')\n",
"end\n",
"//Second reaction\n",
"D1 = 5.3*10^-5 // cm^2/sec\n",
"D2 = 0.8*10^-5 // cm^2/sec\n",
"sigma12 = 5*10^-8 // cm\n",
"K1exp = 3.8*10^7 // litre/mol-sec\n",
"K1 = 4*%pi*(D1+D2)*sigma12*N // Rate constant for second reaction in litre/mol-sec\n",
"printf('The rate constant for this reaction is %.1e litre/mol-sec',K1)\n",
"if K1>K1exp then \n",
"    disp('This reaction is controlled more by chemical factors')\n",
"else \n",
"    disp('The reaction is diffusion controlled')\n",
"end"
   ]
   }
,
{
		   "cell_type": "markdown",
		   "metadata": {},
		   "source": [
			"## Example 17.5_1: relaxation_time.sce"
		   ]
		  },
  {
"cell_type": "code",
	   "execution_count": null,
	   "metadata": {
	    "collapsed": true
	   },
	   "outputs": [],
"source": [
"clc\n",
"//intitialization of variables\n",
"d = 5// cm\n",
"v = 200 // cm/sec\n",
"nu = 0.01 // cm^2/sec\n",
"D = 3.2*10^-5 // cm^2/sec\n",
"l = 30*10^-4 // cm\n",
"//Calculations\n",
"Re = d*v/nu // Flow is turbulent\n",
"E = d*v/2 // cm^2/sec\n",
"tou1 = (d^2)/(4*E)// sec\n",
"tou2 = (l^2)/(4*D)\n",
"tou = tou1 + tou2 // sec\n",
"//Results\n",
"printf('The relaxation time is %.2f sec',tou)"
   ]
   }
],
"metadata": {
		  "kernelspec": {
		   "display_name": "Scilab",
		   "language": "scilab",
		   "name": "scilab"
		  },
		  "language_info": {
		   "file_extension": ".sce",
		   "help_links": [
			{
			 "text": "MetaKernel Magics",
			 "url": "https://github.com/calysto/metakernel/blob/master/metakernel/magics/README.md"
			}
		   ],
		   "mimetype": "text/x-octave",
		   "name": "scilab",
		   "version": "0.7.1"
		  }
		 },
		 "nbformat": 4,
		 "nbformat_minor": 0
}
