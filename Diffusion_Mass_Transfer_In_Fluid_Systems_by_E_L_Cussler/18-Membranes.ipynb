{
"cells": [
 {
		   "cell_type": "markdown",
	   "metadata": {},
	   "source": [
       "# Chapter 18: Membranes"
	   ]
	},
{
		   "cell_type": "markdown",
		   "metadata": {},
		   "source": [
			"## Example 18.1_1: Rapidness_calculation.sce"
		   ]
		  },
  {
"cell_type": "code",
	   "execution_count": null,
	   "metadata": {
	    "collapsed": true
	   },
	   "outputs": [],
"source": [
"clc\n",
"//initialization of variables\n",
"d = 240*10^-4 // cm\n",
"D = 2.1*10^-5 // cm^2/sec\n",
"v = 10 // cm/sec\n",
"Nu = 0.01 // cm^2/sec\n",
"E = 0.5\n",
"ka1 = 0.09 // sec^-1\n",
"//Calculations\n",
"k = 0.8*(D/d)*((d*v/Nu)^0.47)*((Nu/D)^0.33)\n",
"a = 4*(1-E)/d // cm^2/cm^3\n",
"ka2 = k*a\n",
"ratio = ka2/ka1\n",
"//results\n",
"printf('The rapidness is roughly %.f times that of sparger',ratio)\n",
""
   ]
   }
,
{
		   "cell_type": "markdown",
		   "metadata": {},
		   "source": [
			"## Example 18.2_1: Permeability_calculatio.sce"
		   ]
		  },
  {
"cell_type": "code",
	   "execution_count": null,
	   "metadata": {
	    "collapsed": true
	   },
	   "outputs": [],
"source": [
"clc\n",
"//initialization of variables\n",
"p1 = 10^-10 // cm^3(stp)cm/cm^2-sec-cm-Hg\n",
"c = 1/(22.4*10^3) // mol at stp /cc\n",
"P = p1*c // for proper units\n",
"R = 6240 // cmHg cm^3 //mol-K (gas constant)\n",
"T = 298 // Kelvin\n",
"//Calculations\n",
"DH = P*R*T*10^9 // Permeability in x*10^-9 cm^2/sec\n",
"//Results\n",
"printf('The permeability is %.1f x10^-9 cm^2/sec',DH)"
   ]
   }
,
{
		   "cell_type": "markdown",
		   "metadata": {},
		   "source": [
			"## Example 18.2_2: Time_spent.sce"
		   ]
		  },
  {
"cell_type": "code",
	   "execution_count": null,
	   "metadata": {
	    "collapsed": true
	   },
	   "outputs": [],
"source": [
"clc\n",
"//initialization of variables\n",
"P = 1*10^-4 // membrane permeability in cm^2/sec\n",
"l = 2.3*10^-4 // membrane thickness in cm\n",
"d = 320*10^-4 // fiber dia in cm\n",
"E = 0.5 // void fraction\n",
"c0 = 1// initial concentration\n",
"c = 0.1// final concentration\n",
"//Calculations\n",
"a = 4*(1-E)/d // surface area per module volume in cm^2/cm^3\n",
"t = (log(c0/c))*(l/P)/a // t = z/v in seconds , time gas spends in the module in sec\n",
"//Results\n",
"printf('The gas spends %.2f sec in the module',t)"
   ]
   }
,
{
		   "cell_type": "markdown",
		   "metadata": {},
		   "source": [
			"## Example 18.3_1: Osmotic_pressure_difference.sce"
		   ]
		  },
  {
"cell_type": "code",
	   "execution_count": null,
	   "metadata": {
	    "collapsed": true
	   },
	   "outputs": [],
"source": [
"clc\n",
"//initialization of variables\n",
"R = 0.082 // litre-atm/mol-K\n",
"T = 283 // Kelvin\n",
"V2 = 0.018 // litre/mol\n",
"//For first solution contents are sucrose and water\n",
"w1 = 0.01 // gm of sucrose\n",
"MW1 = 342 // MW of sucrose\n",
"w2 = 0.09 // gm of water\n",
"MW2 = 18 // MW of water\n",
"n1 = 1 // no of particles sucrose divides into in water\n",
"//Calculations\n",
"x1juice = (n1*w1/MW1)/((n1*w1/MW1)+(w2/MW2))// Mole fracion of sucrose\n",
"//For second solution , contents are NaCl and water\n",
"w1 = 35 // gm of NaCl\n",
"MW1 = 58.5 // MW of Nacl\n",
"w2 = 100 // gm of water\n",
"MW2 = 18 // MW of water\n",
"n1 = 2 // no of particles sucrose divides into in water\n",
"//Calculations\n",
"x1brine = (n1*w1/MW1)/((n1*w1/MW1)+(w2/MW2))// Mole fracion of sucrose\n",
"//Calculation of difference in Osmotic pressure\n",
"DeltaPi = (R*T/V2)*log((1-x1juice)/(1-x1brine))// atm\n",
"//Results\n",
"printf('The osmotic pressure difference is %.f atm',DeltaPi)\n",
"//answer wrong in textbook\n",
""
   ]
   }
,
{
		   "cell_type": "markdown",
		   "metadata": {},
		   "source": [
			"## Example 18.3_2: Transport_coefficient.sce"
		   ]
		  },
  {
"cell_type": "code",
	   "execution_count": null,
	   "metadata": {
	    "collapsed": true
	   },
	   "outputs": [],
"source": [
"clc\n",
"//initialization of variables\n",
"D1=0.0035\n",
"l=2.59 //cm\n",
"t=1.62 //hr\n",
"C1=0.03 //mol/l\n",
"T1=298 //K\n",
"R=0.0821 //arm/mol K\n",
"D2=0.005\n",
"t2=0.49 //hr\n",
"Ps=733 //mm of Hg\n",
"P=760 //mm of Hg\n",
"//calculations\n",
"Lps=D1*l/(t*3600) /(C1*R*T1)\n",
"Lp=(D2*l/(t2*3600) + Lps*(C1*R*T1))/(Ps/P)\n",
"Lp=2.4*10^-6\n",
"sig=Lps/Lp\n",
"sig2=0.95\n",
"//results\n",
"printf('Transport coefficient for phase 1 = %.2f',sig)\n",
"printf('\n Transport coefficient for phase 2 = %.2f',sig2)"
   ]
   }
,
{
		   "cell_type": "markdown",
		   "metadata": {},
		   "source": [
			"## Example 18.4_1: Membrane_selectivity.sce"
		   ]
		  },
  {
"cell_type": "code",
	   "execution_count": null,
	   "metadata": {
	    "collapsed": true
	   },
	   "outputs": [],
"source": [
"clc\n",
"//initialization of variables\n",
"D1 = 3.0*10^-7 // cm^2/sec\n",
"H1 = 0.18 // mol/cc-atm\n",
"D2 = 1.4*10^-6 // cm^2/sec\n",
"H2 = 2.2*10^-3 // mol/cc-atm\n",
"H11 = 13 // atm-cc/mol\n",
"H21 = 0.6 // atm-cc/mol\n",
"//Calculations\n",
"Beta = (D1*H1/(D2*H2))*(H11/H21)// Membrane selectivity\n",
"//Results\n",
"printf('The membrane selectivity is %.f',Beta)"
   ]
   }
,
{
		   "cell_type": "markdown",
		   "metadata": {},
		   "source": [
			"## Example 18.5_2: total_flux.sce"
		   ]
		  },
  {
"cell_type": "code",
	   "execution_count": null,
	   "metadata": {
	    "collapsed": true
	   },
	   "outputs": [],
"source": [
"clc\n",
"// Initialization of variables\n",
"D = 2*10^-5 // cm^2/sec\n",
"l = 32*10^-4 // cm\n",
"c = 6.8*10^-6 // mol/cc\n",
"C10 = 10^-4 // mol/cc\n",
"function[j] = Totalflux(H,K)\n",
"    j = (D*H*C10/l)+((D*H*K*c*C10)/(l*(1+(H*K*C10))))\n",
"endfunction\n",
"//For Lithium Chloride\n",
"H1 = 4.5*10^-4 //Partition coefficient \n",
"K1 = 2.6*10^5 // cc/mol association constant\n",
"j1 = (Totalflux(H1,K1))*10^10 // TOtal flux in x*10^-10 mol/cm^2-sec\n",
"printf('The total flux for Lithium Chloride is %.1f x10^-10 mol/cm^2-sec',j1)\n",
" //For Sodium Chloride\n",
"H2 = 3.4*10^-4 //Partition coefficient \n",
"K2 = 1.3*10^7 // cc/mol association constant\n",
"j2 = (Totalflux(H2,K2))*10^10 // TOtal flux in x*10^-10 mol/cm^2-sec\n",
"printf('\nThe total flux for Sodium Chloride is %.1f x10^-10 mol/cm^2-sec',j2)\n",
" //For potassium Chloride\n",
"H3 = 3.8*10^-4 //Partition coefficient \n",
"K3 = 4.7*10^9 // cc/mol association constant\n",
"j3 = (Totalflux(H3,K3))*10^10 // TOtal flux in x*10^-10 mol/cm^2-sec\n",
"printf('\nThe total flux for Potassium Chloride is %.1f x10^-10 mol/cm^2-sec',j3)"
   ]
   }
],
"metadata": {
		  "kernelspec": {
		   "display_name": "Scilab",
		   "language": "scilab",
		   "name": "scilab"
		  },
		  "language_info": {
		   "file_extension": ".sce",
		   "help_links": [
			{
			 "text": "MetaKernel Magics",
			 "url": "https://github.com/calysto/metakernel/blob/master/metakernel/magics/README.md"
			}
		   ],
		   "mimetype": "text/x-octave",
		   "name": "scilab",
		   "version": "0.7.1"
		  }
		 },
		 "nbformat": 4,
		 "nbformat_minor": 0
}
