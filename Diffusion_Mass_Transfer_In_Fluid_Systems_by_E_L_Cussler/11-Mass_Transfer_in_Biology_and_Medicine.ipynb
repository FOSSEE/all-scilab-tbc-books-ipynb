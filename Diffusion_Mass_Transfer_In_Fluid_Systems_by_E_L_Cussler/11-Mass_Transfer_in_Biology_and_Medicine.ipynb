{
"cells": [
 {
		   "cell_type": "markdown",
	   "metadata": {},
	   "source": [
       "# Chapter 11: Mass Transfer in Biology and Medicine"
	   ]
	},
{
		   "cell_type": "markdown",
		   "metadata": {},
		   "source": [
			"## Example 11.1_1: Mass_transfer_coefficient.sce"
		   ]
		  },
  {
"cell_type": "code",
	   "execution_count": null,
	   "metadata": {
	    "collapsed": true
	   },
	   "outputs": [],
"source": [
"clc\n",
"//Initialization of variables\n",
"N1 = 1.6*10^-10 // mol/cm^2-sec\n",
"c1star = 0 // mol/cc\n",
"c1 = 2.7*10^-4/1000 // mol/cc\n",
"//Calculations\n",
"K = N1/(c1-c1star)// cm/sec\n",
"//Results\n",
"printf('The mass transfer co efficient is %.4f cm/sec',K)"
   ]
   }
,
{
		   "cell_type": "markdown",
		   "metadata": {},
		   "source": [
			"## Example 11.2_1: Mass_transfer_coefficient.sce"
		   ]
		  },
  {
"cell_type": "code",
	   "execution_count": null,
	   "metadata": {
	    "collapsed": true
	   },
	   "outputs": [],
"source": [
"\n",
"clc\n",
"//Initialization of variables\n",
"d = 400*10^-4 // cm\n",
"D = 10^-5 // cm^2/sec\n",
"v = 1 // cm/sec\n",
"l = 30 // cm\n",
"nu = 0.01 // cm^2/sec\n",
"//Calculations \n",
"k1 = (D/d)*1.62*(((d^2)*v/D*l)^(1/3))// Mass transfer co efficient inside the hollow fibers in cm/sec\n",
"k2 = (D/d)*0.8*((d*v/nu)^0.47)*((nu/D)^(1/3))//Mass transfer co efficient outside the hollow fibers in cm/sec\n",
"//Results\n",
"printf('Mass transfer co efficient inside the hollow fibers %.2e cm/sec',k1)\n",
"printf('\nMass transfer co efficient outside the hollow fibers %.1e cm/sec',k2)"
   ]
   }
,
{
		   "cell_type": "markdown",
		   "metadata": {},
		   "source": [
			"## Example 11.2_2: Percentage_of_toxins.sce"
		   ]
		  },
  {
"cell_type": "code",
	   "execution_count": null,
	   "metadata": {
	    "collapsed": true
	   },
	   "outputs": [],
"source": [
"clc\n",
"//initialization of variables\n",
"phi = 0.2\n",
"d = 200*10^-4 // cm\n",
"dia = 3.8 // cm\n",
"Q = 4.1 // blood flow in cc/sec\n",
"k = 3.6*10^-4 // cm/sec\n",
"l = 30 // cm\n",
"//Calculations\n",
"a = 4*phi/d // cm^2/cm^3\n",
"B  = Q/((%pi*dia^2)/4) // cm/sec\n",
"ratio1 = 1/(1+(k*a*l/B))// D equals B\n",
"percent1 = (1-ratio1)*100 // percentage of toxins removed when dialystate flow equals blood flow\n",
"D = 2*B // in second case\n",
"ratio2 =1/(((1/(exp(-k*a*l/D)))-0.5)*2) // when D =2B\n",
"percent2 = (1-ratio2)*100 // percentage of toxins removed when dialystate flow is twice the blood flow\n",
"ratio3 = exp(-k*a*l/B)// when dialystate flow is very large\n",
"percent3 = (1-ratio3)*100 // percentage of toxins removed when dialystate flow is very large\n",
"//Results\n",
"printf('The percentage of toxins removed when dialystate flow equals blood flow is %.f',percent1)\n",
"printf('\nThe percentage of toxins removed when dialystate flow is twice the blood flow is %.f',percent2)\n",
"printf('\nThe percentage of toxins removed when dialystate flow is very large is %.f',percent3)"
   ]
   }
],
"metadata": {
		  "kernelspec": {
		   "display_name": "Scilab",
		   "language": "scilab",
		   "name": "scilab"
		  },
		  "language_info": {
		   "file_extension": ".sce",
		   "help_links": [
			{
			 "text": "MetaKernel Magics",
			 "url": "https://github.com/calysto/metakernel/blob/master/metakernel/magics/README.md"
			}
		   ],
		   "mimetype": "text/x-octave",
		   "name": "scilab",
		   "version": "0.7.1"
		  }
		 },
		 "nbformat": 4,
		 "nbformat_minor": 0
}
