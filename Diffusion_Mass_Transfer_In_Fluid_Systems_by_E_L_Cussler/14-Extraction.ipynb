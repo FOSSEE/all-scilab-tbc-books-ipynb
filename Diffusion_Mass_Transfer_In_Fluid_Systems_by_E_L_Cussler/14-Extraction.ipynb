{
"cells": [
 {
		   "cell_type": "markdown",
	   "metadata": {},
	   "source": [
       "# Chapter 14: Extraction"
	   ]
	},
{
		   "cell_type": "markdown",
		   "metadata": {},
		   "source": [
			"## Example 14.3_1: Length_required.sce"
		   ]
		  },
  {
"cell_type": "code",
	   "execution_count": null,
	   "metadata": {
	    "collapsed": true
	   },
	   "outputs": [],
"source": [
"clc\n",
"//initialization of variables\n",
"Rat1 = (6.5/3)*(1-0.47)// as Rat = x0/y0\n",
"m = 0.14 \n",
"H = (6.5*10^3)/3600 // Extract flow in g/sec\n",
"L = (3*10^3)/3600// Solvent flow in g/sec\n",
"d= 10 // cm\n",
"A = 0.25*%pi*d^2 // cm^2\n",
"l = 65 // cm\n",
"//Calculations and Results\n",
"Kya = ((H/(l*A))*(1/(1-((m*H)/L)))*(log((1-0.14*Rat1)/(0.47))))*10^3// kg/m^3-sec\n",
"printf('The value of Kya is %.2f  kg/m^3-sec',Kya)\n",
"Rat2 = (6.5/3)*(1-0.1)//For case B\n",
"l2 = l*(log(1/((1-0.14*Rat2)/(0.1))))/(log(1/((1-0.14*Rat1)/(0.47))))/100// m\n",
"printf('\nThe length for 90 percent recovery is %.1f m',l2)\n",
""
   ]
   }
,
{
		   "cell_type": "markdown",
		   "metadata": {},
		   "source": [
			"## Example 14.4_1: No_of_stages_required.sce"
		   ]
		  },
  {
"cell_type": "code",
	   "execution_count": null,
	   "metadata": {
	    "collapsed": true
	   },
	   "outputs": [],
"source": [
"\n",
"clc\n",
"//Initialization of variables\n",
"m = 0.018 \n",
"H = 450 // litres/hr\n",
"L = 37 // litres/hr\n",
"Ynplus1byY1 = 100 \n",
"//Calculations\n",
"E =m*H/L\n",
"nplus1 = log((Ynplus1byY1*((1/E)-1))+1)/log(1/E)\n",
"n = nplus1 -1\n",
"printf('The number of ideal stages are %.f',n)\n",
"N = 0.60//Murphree efficienct\n",
"E1 = (m*H/L) + (1/N) - 1\n",
"nplus1 = log((Ynplus1byY1*((1/E1)-1))+1)/log(1/E1)\n",
"n=nplus1-1\n",
"printf('\nThe number of stages required if Murphree efficiency is 60 percent is %.f',n)\n",
""
   ]
   }
,
{
		   "cell_type": "markdown",
		   "metadata": {},
		   "source": [
			"## Example 14.5_1: No_of_stages_including_feed.sce"
		   ]
		  },
  {
"cell_type": "code",
	   "execution_count": null,
	   "metadata": {
	    "collapsed": true
	   },
	   "outputs": [],
"source": [
"clc\n",
"//initialization of variables\n",
"F = 5 //kg feed\n",
"S = 2 // kg solvent\n",
"E = F-S // kg extract\n",
"W = 1 // kg waste\n",
"EG = 80 // ppm\n",
"y0 = (100-99)/100 // mole fraction of gold left\n",
"y1 = y0*EG*W/S // concentration in raffinate\n",
"//Calculations\n",
"xN = (EG*W - y1*S)/E // solvent concentration\n",
"xNminus1 = ((xN*(E+S)) - EG*W)/F//feed stage balance\n",
"N = 1 + ((log((xN-xNminus1)/(y1))/log(F/S)))//numner of stages including feed stage\n",
"//Results\n",
"printf('The number of stages including feed stage is %.f',N)"
   ]
   }
],
"metadata": {
		  "kernelspec": {
		   "display_name": "Scilab",
		   "language": "scilab",
		   "name": "scilab"
		  },
		  "language_info": {
		   "file_extension": ".sce",
		   "help_links": [
			{
			 "text": "MetaKernel Magics",
			 "url": "https://github.com/calysto/metakernel/blob/master/metakernel/magics/README.md"
			}
		   ],
		   "mimetype": "text/x-octave",
		   "name": "scilab",
		   "version": "0.7.1"
		  }
		 },
		 "nbformat": 4,
		 "nbformat_minor": 0
}
