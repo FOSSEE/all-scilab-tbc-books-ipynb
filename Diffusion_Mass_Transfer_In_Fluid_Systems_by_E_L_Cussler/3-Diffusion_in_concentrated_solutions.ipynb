{
"cells": [
 {
		   "cell_type": "markdown",
	   "metadata": {},
	   "source": [
       "# Chapter 3: Diffusion in concentrated solutions"
	   ]
	},
{
		   "cell_type": "markdown",
		   "metadata": {},
		   "source": [
			"## Example 3.2_4: Average_velocity.sce"
		   ]
		  },
  {
"cell_type": "code",
	   "execution_count": null,
	   "metadata": {
	    "collapsed": true
	   },
	   "outputs": [],
"source": [
"clc\n",
"D = 0.1 // cm^2/sec\n",
"l = 10 // cm\n",
"C10 = 1\n",
"C1l = 0\n",
"C1 = 0.5\n",
"V1 = (D/l)*(C10 - C1l)/C1 // Cm/sec\n",
"V2 = -V1\n",
"M1 = 28 \n",
"M2 = 2\n",
"omeg1 = C1*M1/(C1*M1 + C1*M2)\n",
"omeg2 = C1*M2/(C1*M1 + C1*M2)\n",
"V = omeg1*V1 + omeg2*V2\n",
"printf('The mass average velocity is %.5f cm/s',V)"
   ]
   }
,
{
		   "cell_type": "markdown",
		   "metadata": {},
		   "source": [
			"## Example 3.3_1: Error_calculatio.sce"
		   ]
		  },
  {
"cell_type": "code",
	   "execution_count": null,
	   "metadata": {
	    "collapsed": true
	   },
	   "outputs": [],
"source": [
"clc\n",
"//initialization of variables\n",
"// At 6 degree centigrade\n",
"p1sat = 37 // Vapor pressure of benzene in mm Hg\n",
"p = 760 // atmospheric pressure in mm Hg\n",
"y1l = 0\n",
"y10 = p1sat/p\n",
"n1byDcbyl = log((1-y1l)/(1-y10))// because flux n1 = D*c/l * ln(1-y11/1-y10)\n",
"n2byDcbyl = y10-y1l // Flux calculated assuming dilute solution as n1 = Dc/l*(y10-y1l)\n",
"err1 = ((n1byDcbyl-n2byDcbyl)/n2byDcbyl)*100 // Percentage error\n",
"printf('The error in measurement at 6 degree centigrade is %.1f percent',err1)\n",
"// At 60 degree centigrade\n",
"p1sat = 395 // Vapor pressure of benzene in mm Hg\n",
"p = 760 // atmospheric pressure in mm Hg\n",
"y1l = 0\n",
"y10 = p1sat/p\n",
"n1byDcbyl = log((1-y1l)/(1-y10))// because flux n1 = D*c/l * ln(1-y11/1-y10)\n",
"n2byDcbyl = y10-y1l // Flux calculated assuming dilute solution as n1 = Dc/l*(y10-y1l)\n",
"err1 = ((n1byDcbyl-n2byDcbyl)/n2byDcbyl)*100 // Percentage error\n",
"printf('\n The error in measurement at 60 degree centigrade is %.1f percent',err1)\n",
"\n",
""
   ]
   }
],
"metadata": {
		  "kernelspec": {
		   "display_name": "Scilab",
		   "language": "scilab",
		   "name": "scilab"
		  },
		  "language_info": {
		   "file_extension": ".sce",
		   "help_links": [
			{
			 "text": "MetaKernel Magics",
			 "url": "https://github.com/calysto/metakernel/blob/master/metakernel/magics/README.md"
			}
		   ],
		   "mimetype": "text/x-octave",
		   "name": "scilab",
		   "version": "0.7.1"
		  }
		 },
		 "nbformat": 4,
		 "nbformat_minor": 0
}
