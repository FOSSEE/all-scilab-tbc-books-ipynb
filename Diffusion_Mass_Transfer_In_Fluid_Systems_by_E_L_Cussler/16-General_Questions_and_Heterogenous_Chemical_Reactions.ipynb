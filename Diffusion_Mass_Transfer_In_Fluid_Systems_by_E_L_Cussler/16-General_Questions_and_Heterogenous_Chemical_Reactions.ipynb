{
"cells": [
 {
		   "cell_type": "markdown",
	   "metadata": {},
	   "source": [
       "# Chapter 16: General Questions and Heterogenous Chemical Reactions"
	   ]
	},
{
		   "cell_type": "markdown",
		   "metadata": {},
		   "source": [
			"## Example 16.3_2: rate_constant.sce"
		   ]
		  },
  {
"cell_type": "code",
	   "execution_count": null,
	   "metadata": {
	    "collapsed": true
	   },
	   "outputs": [],
"source": [
"clc\n",
"//initialization of variables\n",
"K = 0.0087 // overall m.t.c in cm/sec\n",
"D = 0.98*10^-5 // cm^2/sec\n",
"L = 0.3 // cm\n",
"v = 70 // cm/sec\n",
"nu = 0.01 //cm^2/sec\n",
"//Calculations\n",
"k1 = 0.646*(D/L)*((L*v/nu)^(0.5))*((nu/D)^(1/3))// cm/sec\n",
"k2 = (1/((1/K)-(1/k1)))/// cm/sec\n",
"//Results\n",
"printf('The rate constant for the reaction is %.2f cm/sec',k2)"
   ]
   }
,
{
		   "cell_type": "markdown",
		   "metadata": {},
		   "source": [
			"## Example 16.3_3: rate_of_reactio.sce"
		   ]
		  },
  {
"cell_type": "code",
	   "execution_count": null,
	   "metadata": {
	    "collapsed": true
	   },
	   "outputs": [],
"source": [
"\n",
"clc\n",
"//initialization of variables\n",
"D =2*10^-6 // cm^2/sec\n",
"nu = 0.036 // cm^2/sec \n",
"d1 = 1.59 // cm\n",
"d2 = 1 // cm\n",
"deltap = 1*10^-5 // g/cc ( change in density)\n",
"p = 1 // g/cc\n",
"Re = 11200 // Reynolds number\n",
"g = 980 // cm/sec^2 \n",
"dis = 5.37*10^-9 // g/cm^2-sec // Dissolution rate\n",
"sol = 1.48*10^-3 // g/cc\n",
"//Calculations\n",
"k11 = 0.62*(D/d1)*(Re^(0.5))*((nu/D)^(1/3))// cm/sec\n",
"K1 = dis/sol// the overall mass transfer co efficient in cm/sec\n",
"k2 = (1/((1/K1)-(1/k11)))/// cm/sec /// the rate constant in cm/sec\n",
"k12 = (D/d2)*(2+(((0.6*((d2^3)*(deltap)*g/(p*nu^2)))^0.25)*((nu/D)^(1/3)))) // cm/sec\n",
"K2 = 1/((1/k12)+(1/k2))// cm/sec (the overall mtc)\n",
"//Results\n",
"printf('the rate of surface reaction is %.7f cm/sec',k2)\n",
"printf('\nThe dissolution rate for 1 cm gallstone is %.7f cm/sec',K2)"
   ]
   }
],
"metadata": {
		  "kernelspec": {
		   "display_name": "Scilab",
		   "language": "scilab",
		   "name": "scilab"
		  },
		  "language_info": {
		   "file_extension": ".sce",
		   "help_links": [
			{
			 "text": "MetaKernel Magics",
			 "url": "https://github.com/calysto/metakernel/blob/master/metakernel/magics/README.md"
			}
		   ],
		   "mimetype": "text/x-octave",
		   "name": "scilab",
		   "version": "0.7.1"
		  }
		 },
		 "nbformat": 4,
		 "nbformat_minor": 0
}
