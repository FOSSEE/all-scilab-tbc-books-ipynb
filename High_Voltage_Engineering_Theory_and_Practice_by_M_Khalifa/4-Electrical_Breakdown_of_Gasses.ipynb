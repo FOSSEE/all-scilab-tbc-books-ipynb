{
"cells": [
 {
		   "cell_type": "markdown",
	   "metadata": {},
	   "source": [
       "# Chapter 4: Electrical Breakdown of Gasses"
	   ]
	},
{
		   "cell_type": "markdown",
		   "metadata": {},
		   "source": [
			"## Example 4.10: Chapter_4_Example_10.sce"
		   ]
		  },
  {
"cell_type": "code",
	   "execution_count": null,
	   "metadata": {
	    "collapsed": true
	   },
	   "outputs": [],
"source": [
"//Chapter 4, Exmaple 10, page 144\n",
"//Claculate (a)Raether's criterion (b)Meek and Lobe's criterion\n",
"clc\n",
"clear\n",
"//(a)Raether's criterion\n",
"// as assumed by Raether and based equation 3.3, 3.50, 4.22 and 4.23\n",
"d = 0.001 // m\n",
"alpha = 10792.2 // m^-1\n",
"p = 101.3 //kPa^-1\n",
"ap = 106.54 // alpha/p Unit: m^-1*kPa^-1\n",
"T = 11253.7 // m^-1*kPa^-1\n",
"B = 273840 // V/m*kPa\n",
"Ep = 58764.81 // E/p Unit:V/m*kPa\n",
"ad = 17.7 + log(d)\n",
"E = Ep*p\n",
"Vs = E*d*10^-3 //Voltage breakdown\n",
"printf('\n E = %e V/m',E)\n",
"printf('\n Voltage breakdown = %f kV',Vs)\n",
"//(b)Meek and Loeb's criterion\n",
"//Using equation 4.11 and based on 4.24 & 4,25 \n",
"//+ we get Er = 468*10^4 V/m\n",
"Er = 468*10^4 // V/m\n",
"Vs2 = Er*0.001*10^-3\n",
"printf('\n Voltage breakdown = %f kV',Vs2)\n",
"// Answers may vary due to round of error"
   ]
   }
,
{
		   "cell_type": "markdown",
		   "metadata": {},
		   "source": [
			"## Example 4.11: Chapter_4_Example_11.sce"
		   ]
		  },
  {
"cell_type": "code",
	   "execution_count": null,
	   "metadata": {
	    "collapsed": true
	   },
	   "outputs": [],
"source": [
"//Chapter 4, Exmaple 11, page 146\n",
"//Claculate the first Townsend's ionization coefficient\n",
"clc\n",
"clear\n",
"t = 0.2*10**-6 // transit time of electrons in seconds\n",
"d = 0.05 // m\n",
"ve = d/t\n",
"TC = 35*10**-9 // Time constant\n",
"a = 1/(ve*TC)\n",
"printf('\n Electron drift velocity = %e m/s',ve)\n",
"printf('\n alpha = %e m^-1',a)\n",
"// Answers may vary due to round of error"
   ]
   }
,
{
		   "cell_type": "markdown",
		   "metadata": {},
		   "source": [
			"## Example 4.12: Chapter_4_Example_12.sce"
		   ]
		  },
  {
"cell_type": "code",
	   "execution_count": null,
	   "metadata": {
	    "collapsed": true
	   },
	   "outputs": [],
"source": [
"//Chapter 4, Exmaple 12, page 146\n",
"//Travel time and maximum frequency\n",
"clc\n",
"clear\n",
"//(a)Determine the travel time\n",
"Ea = 200*sqrt(2)*10**3/0.1\n",
"x = 1.4*10**-4*2828.4*10**3/(2*%pi*50)\n",
"d = 0.1\n",
"printf('\n Ea = %e V/m',Ea)\n",
"printf('\n x = %f*sin(3.14*t)',x)\n",
"//obtaining t from x\n",
"t = asin(d/x)/3.14\n",
"printf('\n t = %f ms',t) // answer mentioned in the text is wrong\n",
"//(b)Determine the maximum frequency\n",
"k = 1.4*10**-4\n",
"fmax = k*Ea/(2*%pi*d)\n",
"printf('\n fmax = %f Hz',fmax)\n",
"//Answer may vary due to round off error"
   ]
   }
,
{
		   "cell_type": "markdown",
		   "metadata": {},
		   "source": [
			"## Example 4.1: Chapter_4_Example_1.sce"
		   ]
		  },
  {
"cell_type": "code",
	   "execution_count": null,
	   "metadata": {
	    "collapsed": true
	   },
	   "outputs": [],
"source": [
"//Chapter 4, Exmaple 1, page 139\n",
"//Claculate alpha and No. of electrons emmited\n",
"clc\n",
"clear\n",
"//Claculate (a)alpha\n",
"d2 = 0.01\n",
"d1 = 0.005\n",
"I2 = 2.7*10**-7\n",
"I1 = 2.7*10**-8\n",
"alpha = 1/(d2-d1)*log(I2/I1)\n",
"//(b)number of electrons emmited from cathode per second\n",
"I0 = I1*%e**(-alpha*d1)\n",
"n0 = I0/(1.6*10**-19)\n",
"printf('\n Part (a)\n alpha = %f m^-1',alpha)\n",
"printf('\n Part (b)\n I0 = %e ',I0)\n",
"printf('\n No of electrons emitted = %e electrons/s',n0)\n",
"//Answer may vary due to round off error"
   ]
   }
,
{
		   "cell_type": "markdown",
		   "metadata": {},
		   "source": [
			"## Example 4.2: Chapter_4_Example_2.sce"
		   ]
		  },
  {
"cell_type": "code",
	   "execution_count": null,
	   "metadata": {
	    "collapsed": true
	   },
	   "outputs": [],
"source": [
"//Chapter 4, Exmaple 2, page 140\n",
"//Claculate electrode space\n",
"clc\n",
"clear\n",
"//based on the values of example 1\n",
"d2 = 0.01\n",
"d1 = 0.005\n",
"I2 = 2.7*10**-7\n",
"I1 = 2.7*10**-8\n",
"a = 1/(d2-d1)*log(I2/I1) // alpha\n",
"//10^9 = %e^a(a*d) \n",
"//multiplying log on bith sides log(10^9) = a*d\n",
"ad = log(10^9)\n",
"printf('\n a*d = %f ',ad)\n",
"d = ad/a\n",
"printf('\n electrode space = %f m',d) \n",
"//Answers may vary due to round off error"
   ]
   }
,
{
		   "cell_type": "markdown",
		   "metadata": {},
		   "source": [
			"## Example 4.3: Chapter_4_Example_3.sce"
		   ]
		  },
  {
"cell_type": "code",
	   "execution_count": null,
	   "metadata": {
	    "collapsed": true
	   },
	   "outputs": [],
"source": [
"//Chapter 4, Exmaple 3, page 140\n",
"//Claculate size of developed avalanche\n",
"clc\n",
"clear\n",
"a = 4*10**4\n",
"b = 15*10**5\n",
"//Rewriting equation 4.2\n",
"x0=0;x1=0.0005;\n",
"X=integrate('a-b*sqrt(x)','x',x0,x1);\n",
"As = exp(X) // Avelanche size\n",
"printf('\n Avalanche size = %f m',As)\n",
" \n",
"//Answers may vary due to round of error"
   ]
   }
,
{
		   "cell_type": "markdown",
		   "metadata": {},
		   "source": [
			"## Example 4.4: Chapter_4_Example_4.sce"
		   ]
		  },
  {
"cell_type": "code",
	   "execution_count": null,
	   "metadata": {
	    "collapsed": true
	   },
	   "outputs": [],
"source": [
"//Chapter 4, Exmaple 4, page 141\n",
"//Claculate distance to produce avalanche\n",
"clc\n",
"clear\n",
"//Rewrite equation 4.2\n",
"//using the values of a and b from previous example\n",
"//convert integartion to quaderatic equation form\n",
"x=poly(0,'x');\n",
"p=59.97-4*10**4*x+7.5*10**5*x^2 // making the polinomial equation\n",
"r= roots(p) //obtaining the roots\n",
"printf('\n %f m or %f m away from the cathode',r(1),r(2))\n",
"//Answer may vary due to round of error."
   ]
   }
,
{
		   "cell_type": "markdown",
		   "metadata": {},
		   "source": [
			"## Example 4.5: Chapter_4_Example_5.sce"
		   ]
		  },
  {
"cell_type": "code",
	   "execution_count": null,
	   "metadata": {
	    "collapsed": true
	   },
	   "outputs": [],
"source": [
"//Chapter 4, Exmaple 5, page 141\n",
"//Claculate minimum distance to produce avalanche of size 10^19\n",
"clc\n",
"clear\n",
"//Rewriting equation 4.2 and converting it into quadratic equation\n",
"x=poly(0,'x');\n",
"p=43.75-4*10**4*x+7.5*10**5*x^2 // making the polinomial equation\n",
"r= roots(p) //obtaining the roots\n",
"printf('\n Minimum distance = %f m',r(2)) // other root is disregarded\n",
"//Answer may vary due to round of error."
   ]
   }
,
{
		   "cell_type": "markdown",
		   "metadata": {},
		   "source": [
			"## Example 4.7: Chapter_4_Example_7.sce"
		   ]
		  },
  {
"cell_type": "code",
	   "execution_count": null,
	   "metadata": {
	    "collapsed": true
	   },
	   "outputs": [],
"source": [
"//Chapter 4, Exmaple 7, page 142\n",
"//Claculate secondary coefficient\n",
"clc\n",
"clear\n",
"//Using equation 3.15\n",
"E = 9*10**3/0.002\n",
"T = 11253.7 // m^-7*kPa^-1\n",
"B = 273840 // V/mkPa\n",
"p = 101.3 // kPa or 1 atm\n",
"d = 0.002 // m\n",
"alpha = p*T*exp(-B*p/E)\n",
"Y = 1/(exp(alpha*d)-1)\n",
"printf('\n E = %e V/m',E)\n",
"printf('\n Alpha = %f m^-1',alpha)\n",
"printf('\n Total secondary coefficient of ionization = %f ',Y)\n",
"//Answer may vary due to round off error"
   ]
   }
,
{
		   "cell_type": "markdown",
		   "metadata": {},
		   "source": [
			"## Example 4.8: Chapter_4_Example_8.sce"
		   ]
		  },
  {
"cell_type": "code",
	   "execution_count": null,
	   "metadata": {
	    "collapsed": true
	   },
	   "outputs": [],
"source": [
"//Chapter 4, Exmaple 8, page 143\n",
"//Claculate first and secondary ionization coefficient\n",
"clc\n",
"clear\n",
"//(a)first ionization coefficient\n",
"//Using equation 4.7a\n",
"d1 = 0.005\n",
"a1d1 = log(1.22)\n",
"a1 = a1d1/d1\n",
"d2 = 0.01504\n",
"a2d2 = log(1.82)\n",
"a2 = a2d2/d2\n",
"d3 = 0.019 // wrong value used in the text\n",
"a3d3 = log(2.22)\n",
"a3 = a3d3/d3\n",
"printf('\n Alpha 1 = %f m^-1',a1)\n",
"printf('\n Alpha 2 = %f m^-1',a2)\n",
"printf('\n Alpha 3 = %f m^-1',a3)\n",
"printf('\n From the above results we can understand that ionization mechanism must be acting at d3 ')\n",
"//secondary ionization coefficient\n",
"I = 2.22\n",
"e = exp(a1*d3)\n",
"Y = (I-e)/(I*(e-1))\n",
"printf('\n secondary ionization coefficient = %f ',Y)\n",
"//Answer may vary due to round off error."
   ]
   }
,
{
		   "cell_type": "markdown",
		   "metadata": {},
		   "source": [
			"## Example 4.9: Chapter_4_Example_9.sce"
		   ]
		  },
  {
"cell_type": "code",
	   "execution_count": null,
	   "metadata": {
	    "collapsed": true
	   },
	   "outputs": [],
"source": [
"//Chapter 4, Exmaple 9, page 144\n",
"//Claculate distance and voltage\n",
"clc\n",
"clear\n",
"a = 39.8 // alpha\n",
"Y = 0.0354 // corfficient\n",
"p = 0.133 // kPa\n",
"Ep = 12000 // E/P , unit : V/m*kPa\n",
"d = (1/a)*(log(1/Y + 1)) // distance\n",
"E = Ep*p\n",
"V = E*d\n",
"printf('\n Distance = %f m',d)\n",
"printf('\n E = %f V/m',E)\n",
"printf('\n Volatge  = %f V',V)\n",
"//Answers may vary due to round off error"
   ]
   }
],
"metadata": {
		  "kernelspec": {
		   "display_name": "Scilab",
		   "language": "scilab",
		   "name": "scilab"
		  },
		  "language_info": {
		   "file_extension": ".sce",
		   "help_links": [
			{
			 "text": "MetaKernel Magics",
			 "url": "https://github.com/calysto/metakernel/blob/master/metakernel/magics/README.md"
			}
		   ],
		   "mimetype": "text/x-octave",
		   "name": "scilab",
		   "version": "0.7.1"
		  }
		 },
		 "nbformat": 4,
		 "nbformat_minor": 0
}
