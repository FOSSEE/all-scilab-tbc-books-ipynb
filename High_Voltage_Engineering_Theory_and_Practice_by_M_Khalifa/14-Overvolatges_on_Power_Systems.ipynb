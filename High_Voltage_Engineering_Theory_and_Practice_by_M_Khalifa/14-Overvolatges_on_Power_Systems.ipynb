{
"cells": [
 {
		   "cell_type": "markdown",
	   "metadata": {},
	   "source": [
       "# Chapter 14: Overvolatges on Power Systems"
	   ]
	},
{
		   "cell_type": "markdown",
		   "metadata": {},
		   "source": [
			"## Example 14.4_2_1: Chapter_14_Example_1.sce"
		   ]
		  },
  {
"cell_type": "code",
	   "execution_count": null,
	   "metadata": {
	    "collapsed": true
	   },
	   "outputs": [],
"source": [
"//Chapter 14,Example 1, page 453\n",
"//Determine the time to crest \n",
"clear\n",
"clc\n",
"I = 400 // mH of inductance\n",
"L = 500*10^-3 // mH\n",
"C = 1.5*10^-6 // micro F\n",
"f = 1/(2*%pi*sqrt(L*C))  \n",
"t = 10**6/(4*f) // calulation done in the text is wrong\n",
"printf('\n f1 = %f Hz',f)\n",
"printf('\n Time to crest = %f micro seconds',t)\n",
"// Answer may vary due to round off error."
   ]
   }
],
"metadata": {
		  "kernelspec": {
		   "display_name": "Scilab",
		   "language": "scilab",
		   "name": "scilab"
		  },
		  "language_info": {
		   "file_extension": ".sce",
		   "help_links": [
			{
			 "text": "MetaKernel Magics",
			 "url": "https://github.com/calysto/metakernel/blob/master/metakernel/magics/README.md"
			}
		   ],
		   "mimetype": "text/x-octave",
		   "name": "scilab",
		   "version": "0.7.1"
		  }
		 },
		 "nbformat": 4,
		 "nbformat_minor": 0
}
