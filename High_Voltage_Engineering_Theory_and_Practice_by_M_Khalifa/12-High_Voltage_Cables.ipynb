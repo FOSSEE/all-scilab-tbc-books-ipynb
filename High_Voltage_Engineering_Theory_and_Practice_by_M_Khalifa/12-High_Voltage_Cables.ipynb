{
"cells": [
 {
		   "cell_type": "markdown",
	   "metadata": {},
	   "source": [
       "# Chapter 12: High Voltage Cables"
	   ]
	},
{
		   "cell_type": "markdown",
		   "metadata": {},
		   "source": [
			"## Example 12.10: Chapter_12_Example_10.sce"
		   ]
		  },
  {
"cell_type": "code",
	   "execution_count": null,
	   "metadata": {
	    "collapsed": true
	   },
	   "outputs": [],
"source": [
"//Chapter 12,Example 10, page 412\n",
"//Determine the maximum stress \n",
"clear\n",
"clc\n",
"a = 1 //cm\n",
"r1 = 2 // cm\n",
"b = 2.65 // cm\n",
"er1 = 4.5\n",
"er2 = 3.6\n",
"V = 53.8 // kV\n",
"ba = 5.3/2 // b/a\n",
"alpha = 1.325\n",
"E1max = V/(log(r1)+(er1/er2)*log(alpha))\n",
"E2max = V/((r1*(er2/er1)*log(r1))+log(alpha))\n",
"printf('\n E1max = %f kV/cm',E1max)\n",
"printf('\n E2max = %f kV/cm',E2max) // answer vary from the text\n",
"// Answer vary from the text due to round off "
   ]
   }
,
{
		   "cell_type": "markdown",
		   "metadata": {},
		   "source": [
			"## Example 12.1: Chapter_12_Example_1.sce"
		   ]
		  },
  {
"cell_type": "code",
	   "execution_count": null,
	   "metadata": {
	    "collapsed": true
	   },
	   "outputs": [],
"source": [
"//Chapter 12, Exmaple 1, page 403\n",
"//Calculate radial thickness of insulating layer\n",
"clc\n",
"clear\n",
"//based on equation 12.15 and v1alues of E1 and E2 \n",
"E1 = 40 // kV/cm\n",
"E2 = 25 // kV/cm\n",
"ep1 = 6 // permittives of the material\n",
"ep2 = 4 //permittives of the material\n",
"d1 = 4 // cm\n",
"d2 = 10 // cm\n",
"r1 = 2 // cm\n",
"r2 = (E1*ep1*2)/(E2*ep2)\n",
"inner = r2-(d1/2)\n",
"outer = (d2/2)-r2\n",
"//based on equation 12.16\n",
"V1peak = E1*r1*log(r2/r1) // inner dielectric\n",
"V2peak = E2*r2*log(d2/(2*r2)) // outter dielectric\n",
"Vcab = V1peak+V2peak // Peak volatge of cable\n",
"rms = Vcab/sqrt(2)\n",
"printf('\n Radius = %f cm ',r2)\n",
"printf('\n Inner radial thickness = %f cm ',inner)\n",
"printf('\n Outer radial thickness = %f cm',outer)\n",
"printf('\n Vpeak of outer dielectric = %f kV', V1peak)\n",
"printf('\n Vpeak of inner dielectric = %f kV', V2peak)\n",
"printf('\n Peak voltage of cable = %f kV', Vcab)\n",
"printf('\n Safe opearating voltage = %f kV', rms)\n",
"// Answers may vary due to round off error."
   ]
   }
,
{
		   "cell_type": "markdown",
		   "metadata": {},
		   "source": [
			"## Example 12.2: Chapter_12_Example_2.sce"
		   ]
		  },
  {
"cell_type": "code",
	   "execution_count": null,
	   "metadata": {
	    "collapsed": true
	   },
	   "outputs": [],
"source": [
"//Chapter 12, Exmaple 2, page 404\n",
"//Calculate optimum value of r\n",
"clear\n",
"clc\n",
"//Based on equation 12.17\n",
"V1 = 100 // kV\n",
"V2 = 55 // kV\n",
"r = V1*sqrt(2)/V2\n",
"printf('\n Radius = %f cm ',r)\n",
"// Answers may vary due to round off error"
   ]
   }
,
{
		   "cell_type": "markdown",
		   "metadata": {},
		   "source": [
			"## Example 12.3: Chapter_12_Example_3.sce"
		   ]
		  },
  {
"cell_type": "code",
	   "execution_count": null,
	   "metadata": {
	    "collapsed": true
	   },
	   "outputs": [],
"source": [
"//Chapter 12, Exmaple 3, page 406\n",
"//Calculate resistivity\n",
"clear\n",
"clc\n",
"l = 10^4 // cable length in m\n",
"Rr = 3/1.5 // R/r ratio\n",
"ins = 0.5*10**6 // insulation in ohms\n",
"p = 2*%pi*l*ins/log(Rr)\n",
"printf('\n Resistivity of insulation material = %e ohm/m ',p)\n",
"// Answers may vary due to round off error  "
   ]
   }
,
{
		   "cell_type": "markdown",
		   "metadata": {},
		   "source": [
			"## Example 12.4: Chapter_12_Example_4.sce"
		   ]
		  },
  {
"cell_type": "code",
	   "execution_count": null,
	   "metadata": {
	    "collapsed": true
	   },
	   "outputs": [],
"source": [
"//Chapter 12, Exmaple 4, page 406\n",
"//Calculate resistivity\n",
"clear\n",
"clc\n",
"// Baased on Equation 12.1*10**2\n",
"c4 = 0.5*10**2/10 // micro F\n",
"Ic = 2*10**4*2*%pi*5*50*10**-6/sqrt(3)\n",
"C = (sqrt(3)*10000*Ic)*(10**-9*10**6)\n",
"printf('\n C4 = %f mircoF ',c4)\n",
"printf('\n Line charging current = %f A ',Ic)\n",
"printf('\n Charging = %f kVA ',C)\n",
"// Answers may vary due to round off error"
   ]
   }
,
{
		   "cell_type": "markdown",
		   "metadata": {},
		   "source": [
			"## Example 12.5: Chapter_12_Example_5.sce"
		   ]
		  },
  {
"cell_type": "code",
	   "execution_count": null,
	   "metadata": {
	    "collapsed": true
	   },
	   "outputs": [],
"source": [
"//Chapter 12,Example 5, page 408\n",
"//Calculate capasitance and kVAr \n",
"clear\n",
"clc\n",
"//(a) Using the notations used in FiVgs. 12.15 and 12.16\n",
"C2 = 0.75/3 // microF/km\n",
"C3 = (0.6*3-2*C2)/2 // microF/km\n",
"C4 = (C2+C3)/2 // microF/km\n",
"printf('\n C2 = %f mircoF/Km ',C2)\n",
"printf('\n C3 = %f mircoF/Km ',C3)\n",
"printf('\n C4 = %f mircoF/Km ',C4)\n",
"//(b)Capacitance of 10 km between 2 cores\n",
"V = 33*10**3\n",
"w = 2*%pi*50\n",
"C = 2*V^2*w*C4*10*10**-9\n",
"printf('\n Carging = %f kVAr ',C)\n",
"// Answers may vary due to round of errors."
   ]
   }
,
{
		   "cell_type": "markdown",
		   "metadata": {},
		   "source": [
			"## Example 12.6: Chapter_12_Example_6.sce"
		   ]
		  },
  {
"cell_type": "code",
	   "execution_count": null,
	   "metadata": {
	    "collapsed": true
	   },
	   "outputs": [],
"source": [
"//Chapter 12,Example 6, page 409\n",
"//Determine the efective electrical parameters \n",
"clear\n",
"clc\n",
"rc = 0.0875*(1+0.004*50) // conductor resistance in ohm/km\n",
"Rc = 0.105*85 // ohm\n",
"w = 2*%pi*50\n",
"Rsh = 23.2*10**-6*85*10**5/(%pi*(3^2-2.5^2)) // Resistance of sheath\n",
"D = 8\n",
"rsh = 1/2*(2.5+3)\n",
"Xm = w*2*log(D/rsh)*10**-7*85000\n",
"Ref = Rc + Xm^2*Rsh/(Rsh^2+Xm^2) // Effective AC resistance \n",
"Xc = 11.1// reactance with sheaths open-circuit\n",
"Xef = Xc-(Xm^2/(Rsh^2+Xm^2)) //Effective reactance per cable\n",
"SlCl = Rsh*Xm^2/(Rc*(Rsh^2+Xm^2)) // Sheath loss/conductor loss\n",
"I = 400 // A\n",
"emf = Xm*I // emf induced per sheath\n",
"printf('\n Conductor resistance = %f ohm',rc)\n",
"printf('\n Conductor resistance for the whole leangth (Rc) = %f ohm',Rc)\n",
"printf('\n Resistance of sheath (Rsh) = %f ohm/Km ',Rsh)\n",
"printf('\n Conductor to sheath mutual inductive reactance (Xm)= %f ohm/m ',Xm)\n",
"printf('\n Effective AC resistance(Ref) = %f ohm ',Ref)\n",
"printf('\n Reactance with sheaths open-circuit(Xc) = %f ohm ',Xc)\n",
"printf('\n Effective reactance per cable(Xef) = %f ohm ',Xef)\n",
"printf('\n Sheath loss/conductor loss = %f ',SlCl)\n",
"printf('\n emf induced per sheath(emf) = %f V',emf)"
   ]
   }
,
{
		   "cell_type": "markdown",
		   "metadata": {},
		   "source": [
			"## Example 12.7: Chapter_12_Example_7.sce"
		   ]
		  },
  {
"cell_type": "code",
	   "execution_count": null,
	   "metadata": {
	    "collapsed": true
	   },
	   "outputs": [],
"source": [
"//Chapter 12,Example 7, page 410\n",
"//Determine the induced sheath voltage \n",
"clear\n",
"clc\n",
"D = 15 // cm\n",
"rsh = 5.5/2 // Sheath diameter converted to radius in cm\n",
"I = 250 // A\n",
"E = 2*10^-7*314*I*log(D/rsh)*10^3\n",
"printf('\n Induced sheath voltage per Km = %f V/km',E)\n",
"printf('\n If the sheaths are bonded at one end, the voltage between them at the other end = = %f V/km',E*sqrt(3))\n",
"// Answers may vary due to round off errors. "
   ]
   }
,
{
		   "cell_type": "markdown",
		   "metadata": {},
		   "source": [
			"## Example 12.8: Chapter_12_Example_8.sce"
		   ]
		  },
  {
"cell_type": "code",
	   "execution_count": null,
	   "metadata": {
	    "collapsed": true
	   },
	   "outputs": [],
"source": [
"//Chapter 12,Example 8, page 411\n",
"//Determine the maximum stress \n",
"clear\n",
"clc\n",
"ba = 5.3/2 // b/a\n",
"alpha = nthroot(ba,3)\n",
"r1 = 1.385 // cm\n",
"r2 = 1.92 // cm\n",
"r = 2.65 // cm\n",
"V = 66*sqrt(2)/sqrt(3)\n",
"V2 = V/(1+(1/alpha)+(1/alpha^2))\n",
"V1 = (1+1/alpha)*V2\n",
"//calculating maximim and minimum stress without sheaths\n",
"Emax0 = V/1*log(r/1)\n",
"Emin0 = V/(r*log(r))\n",
"//calculating max and min stress with the sheaths\n",
"Emax = Emax0*3/(1+(alpha)+(alpha^2))\n",
"Emin = Emax/alpha\n",
"printf('\n Peak voltage of the conductor V = %f kV',V)\n",
"printf('\n V1 = %f kV',V1)\n",
"printf('\n V2 = %f kV',V2)\n",
"printf('\n Maximum stress without sheaths = %f kV/cm',Emax0)\n",
"printf('\n Minimum stress without sheaths = %f kV/cm',Emin0)\n",
"printf('\n Maximum stress with sheaths = %f kV/cm',Emax)\n",
"printf('\n Minimum stress with sheaths = %f kV/cm',Emin)\n",
"// Answers vary due to round off errors."
   ]
   }
,
{
		   "cell_type": "markdown",
		   "metadata": {},
		   "source": [
			"## Example 12.9: Chapter_12_Example_9.sce"
		   ]
		  },
  {
"cell_type": "code",
	   "execution_count": null,
	   "metadata": {
	    "collapsed": true
	   },
	   "outputs": [],
"source": [
"//Chapter 12,Example 9, page 412\n",
"//Determine the maximum stress \n",
"clear\n",
"clc\n",
"Emax = 47.5 // kV\n",
"b = 2.65 // cm\n",
"a = 1 // cm\n",
"ba = 0.55*3 // 1/3(b-a)\n",
"r1 = 1.55 // cm\n",
"r2 = 2.1 // cm2Vr = 2.65 // cm  \n",
"V = 53.8 // kV\n",
"alpha = nthroot(ba,3)\n",
"// based on the example 12_8 \n",
"//calculating VEmax1, Emax2, Emax3 \n",
"x = 1/(a*log(r1/a))\n",
"y = 1/(r1*log(r2/r1))\n",
"z = 1/(r2*log(b/r2))\n",
"VV1 = Emax/x\n",
"V1V2 = Emax/y\n",
"V2 = Emax/z\n",
"V1 = V2+(Emax/y)\n",
"printf('\n Emax = %f kV/cm',Emax)\n",
"printf('\n V1 = %f kV/cm',V1)\n",
"printf('\n V2 = %f kV/cm',V2)\n",
"// Answers may vary due to round off error."
   ]
   }
],
"metadata": {
		  "kernelspec": {
		   "display_name": "Scilab",
		   "language": "scilab",
		   "name": "scilab"
		  },
		  "language_info": {
		   "file_extension": ".sce",
		   "help_links": [
			{
			 "text": "MetaKernel Magics",
			 "url": "https://github.com/calysto/metakernel/blob/master/metakernel/magics/README.md"
			}
		   ],
		   "mimetype": "text/x-octave",
		   "name": "scilab",
		   "version": "0.7.1"
		  }
		 },
		 "nbformat": 4,
		 "nbformat_minor": 0
}
