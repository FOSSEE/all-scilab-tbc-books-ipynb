{
"cells": [
 {
		   "cell_type": "markdown",
	   "metadata": {},
	   "source": [
       "# Chapter 2: Electric Fields "
	   ]
	},
{
		   "cell_type": "markdown",
		   "metadata": {},
		   "source": [
			"## Example 2.11: Chapter_2_Example_11.sce"
		   ]
		  },
  {
"cell_type": "code",
	   "execution_count": null,
	   "metadata": {
	    "collapsed": true
	   },
	   "outputs": [],
"source": [
"//Chapter 2, Exmaple 11, page 75\n",
"//Calculate the potential within the mesh\n",
"clc\n",
"clear\n",
"//Based on figure 2.38(b)\n",
"//equations are obtained using Eq.2.46\n",
"A1 = 1/2*(0.54+0.16)\n",
"A2 = 1/2*(0.91+0.14)\n",
"S = [0.5571 -0.4571 -0.1;-0.4751 0.828 0.3667;-0.1 0.667 0.4667]\n",
"//By obtaining the elements of the global stiffness matrix(Sadiku,1994)\n",
"//and by emplying the Eq.2.49(a)\n",
"S1 = [1.25 -0.014;-0.014 0.8381]\n",
"S2 = [-0.7786 -0.4571;-0.4571 -0.3667]\n",
"Phi13 = [0 ;10]\n",
"val1 = S2*Phi13\n",
"Phi24 = S1\val1\n",
"disp(-Phi24,'The values of Phi2 and Phi4 are:')\n",
"//Answers may vary due to round of error  "
   ]
   }
,
{
		   "cell_type": "markdown",
		   "metadata": {},
		   "source": [
			"## Example 2.5: Chapter_2_example_5.sce"
		   ]
		  },
  {
"cell_type": "code",
	   "execution_count": null,
	   "metadata": {
	    "collapsed": true
	   },
	   "outputs": [],
"source": [
"//Chapter 2, Example 5, page 65\n",
"//Calculate the maximum field at the sphere surface\n",
"clc\n",
"clear\n",
"//Calulating Field at surface E based on figure 2.31 and table 2.3\n",
"Q1 = 0.25\n",
"e0 = 8.85418*10**-12 //Epselon nought\n",
"RV1= ((1/0.25**2)+(0.067/(0.25-0.067)**2)+(0.0048/(0.25-0.067)**2))\n",
"RV2= ((0.25+0.01795+0.00128)/(0.75-0.067)**2)\n",
"RV= RV1+RV2\n",
"E = (Q1*RV)/(4*%pi*e0)\n",
"printf('Maximum field = %e V/m per volt',E)\n",
"//Answers vary due to round off error"
   ]
   }
,
{
		   "cell_type": "markdown",
		   "metadata": {},
		   "source": [
			"## Example 2.6: Chapter_2_Example_6.sce"
		   ]
		  },
  {
"cell_type": "code",
	   "execution_count": null,
	   "metadata": {
	    "collapsed": true
	   },
	   "outputs": [],
"source": [
"//Chapter 2, Exmaple 6, page 66\n",
"clc\n",
"clear\n",
"//calculation based on figure 2.32\n",
"//(a)Charge on each bundle\n",
"printf('Part a\n')\n",
"req = sqrt(0.0175*0.45)\n",
"printf('Equivalent radius = %e m \n', req)\n",
"V = 400*10**3 //Voltage\n",
"H = 12 //bundle height in m\n",
"d = 9 //pole to pole spacing in m\n",
"e0 = 8.85418*10**-12 //Epselon nought\n",
"Hd = sqrt((2*H)^2+d^2)//2*H^2 + d^2\n",
"Q = V*2*%pi*e0/(log((2*H/req))-log((Hd/d)))\n",
"q = Q/2\n",
"printf('Charge per bundle = %e uC/m \n',Q) //micro C/m\n",
"printf('Charge per sunconducter = %e uC/m \n',q) //micro C/m\n",
"//(b part i)Maximim & average surface feild\n",
"printf('\nPart b')\n",
"printf('\nSub part 1\n')\n",
"r = 0.0175 //subconductor radius\n",
"R = 0.45 //conductor to subconductor spacing\n",
"MF = (q/(2*%pi*e0))*((1/r)+(1/R)) // maximum feild\n",
"printf('Maximum feild = %e kV/m \n',MF)\n",
"MSF = (q/(2*%pi*e0))*((1/r)-(1/R)) // maximum surface feild\n",
"printf('Maximum feild = %e kV/m \n',MSF)\n",
"ASF = (q/(2*%pi*e0))*(1/r) // Average surface feild\n",
"printf('Maximum feild = %e kV/m \n',ASF)\n",
"//(b part ii) Considering the two sunconductors on the left\n",
"printf('\nSub part 2\n')\n",
"//field at the outer point of subconductor #1 \n",
"drO1 = 1/(d+r)\n",
"dRrO1 = 1/(d+R+r)\n",
"EO1 =  MF -((q/(2*%pi*e0))*(drO1+dRrO1))\n",
"printf('EO1 = %e kV/m \n',EO1)\n",
"//field at the outer point of subconductor #2 \n",
"drO2 = 1/(d-r)\n",
"dRrO2 = 1/(d-R-r)\n",
"EO2 =  MF -((q/(2*%pi*e0))*(dRrO2+drO2))\n",
"printf('EO2 = %e kV/m \n',EO2)\n",
"//field at the inner point of subconductor #1 \n",
"drI1 = 1/(d-r)\n",
"dRrI1 = 1/(d+R-r)\n",
"EI1 =  MSF -((q/(2*%pi*e0))*(drI1+dRrI1))\n",
"printf('EI1 = %e kV/m \n',EI1)\n",
"//field at the inner point of subconductor #2 \n",
"drI2 = 1/(d+r)\n",
"dRrI2 = 1/(d-R+r)\n",
"EI2 =  MSF -((q/(2*%pi*e0))*(dRrI2+drI2)) \n",
"printf('EI2 = %e kV/m \n',EI2)\n",
"//(part c)Average of the maximim gradient\n",
"printf('\nPart c\n')\n",
"Eavg = (EO1+EO2)/2\n",
"printf('The average of the maximum gradient = %e kV/m \n',Eavg)\n",
"//Answers might vary due to round off error"
   ]
   }
,
{
		   "cell_type": "markdown",
		   "metadata": {},
		   "source": [
			"## Example 2.7: Chapter_2_Example_7.sce"
		   ]
		  },
  {
"cell_type": "code",
	   "execution_count": null,
	   "metadata": {
	    "collapsed": true
	   },
	   "outputs": [],
"source": [
"//Chapter 2, Exmaple 7, page 69\n",
"//Electric feild induced at x\n",
"clc\n",
"clear\n",
"e0 = 8.85418*10**-12 //Epselon nought\n",
"q = 1 // C/m\n",
"C = (q/(2*%pi*e0))\n",
"//Based on figure 2.33\n",
"E = C-(C*(1/3+1/7))+(C*(1+1/5+1/9))+(C*(1/5+1/9))-(C*(1/3+1/7))\n",
"printf('Electric Feild = %e V/m \n',E)\n",
"//Answers might vary due to round off error"
   ]
   }
,
{
		   "cell_type": "markdown",
		   "metadata": {},
		   "source": [
			"## Example 2.8: Chapter_2_Example_8.sce"
		   ]
		  },
  {
"cell_type": "code",
	   "execution_count": null,
	   "metadata": {
	    "collapsed": true
	   },
	   "outputs": [],
"source": [
"//Chapter 2, Exmaple 8, page 70\n",
"//Calculate the volume of the insulator\n",
"clc\n",
"clear\n",
"//Thinkness of graded design\n",
"V = 150*sqrt(2)\n",
"Ebd = 50\n",
"T = V/Ebd\n",
"printf('\nThickness of graded design= %e cm \n',T)\n",
"//Based on figure 2.24\n",
"r = 2 // radius of the conductor\n",
"l = 10 //length of graded cylinder; The textbook uses 10 instead of 20\n",
"zr = l*(T+r)\n",
"printf('Curve = %e cm^2 \n',zr)\n",
"//Volume of graded design V1\n",
"V1 = 4*%pi*zr*(zr-r)\n",
"printf('V1 = %e cm^3 \n',V1) //Unit is wrong in the textbook\n",
"//Thickness of regular design as obtained form Eq.2.77\n",
"pow = V/(2*Ebd)\n",
"t = 2*(%e^pow-1)\n",
"printf('Thickness of regular design = %e cm \n',t)\n",
"//Volume of regular design V2\n",
"V2 = %pi*((2+t)^2-4)\n",
"printf('V2 = %e cm^3 \n',V2)//unit not mentioned in textbook\n",
" \n",
"//Answers may vary due to round off error"
   ]
   }
],
"metadata": {
		  "kernelspec": {
		   "display_name": "Scilab",
		   "language": "scilab",
		   "name": "scilab"
		  },
		  "language_info": {
		   "file_extension": ".sce",
		   "help_links": [
			{
			 "text": "MetaKernel Magics",
			 "url": "https://github.com/calysto/metakernel/blob/master/metakernel/magics/README.md"
			}
		   ],
		   "mimetype": "text/x-octave",
		   "name": "scilab",
		   "version": "0.7.1"
		  }
		 },
		 "nbformat": 4,
		 "nbformat_minor": 0
}
