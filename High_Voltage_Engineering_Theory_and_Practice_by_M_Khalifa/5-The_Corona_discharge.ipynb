{
"cells": [
 {
		   "cell_type": "markdown",
	   "metadata": {},
	   "source": [
       "# Chapter 5: The Corona discharge"
	   ]
	},
{
		   "cell_type": "markdown",
		   "metadata": {},
		   "source": [
			"## Example 5.10: Chapter_5_Example_10.sce"
		   ]
		  },
  {
"cell_type": "code",
	   "execution_count": null,
	   "metadata": {
	    "collapsed": true
	   },
	   "outputs": [],
"source": [
"//Chapter 5, Exmaple 10, page 180\n",
"//Calculate corona power loss\n",
"clc\n",
"clear\n",
"p = 75 // pressure\n",
"t = 35 // temprature\n",
"m1 = 0.92\n",
"m2 = 0.95\n",
"t = 5*5*8.66 // the three side of the trangle in m\n",
"Deq = nthroot(t,3) \n",
"dt = (3.92*p)/(273+t) //Relative air density\n",
"E0 = 30*dt*(1 + 0.3*sqrt(dt))*m1*m2\n",
"En = 27.501 // kVpeak/cm\n",
"Vph = (275*10^3)/sqrt(3)\n",
"V0peak = E0*log(Deq*10**2)\n",
"V0 = En*log(Deq*10**2)\n",
"V0ratio = 275/V0\n",
"printf('\n Reative air density %f ',dt)\n",
"printf('\n Corona onset field = %f kVpeak/cm',E0)\n",
"printf('\n V0peak = %f kVpeak',V0peak)\n",
"printf('\n V0 = %f kV',V0)\n",
"printf('\n Ration of V0 = %f ',V0ratio)\n",
"K = 0.05 // K factor\n",
"Pc = (3.73*K*50*Vph^2)/(Deq*10**2)^2\n",
"Cc = Pc*10^3/Vph\n",
"printf('\n Corona power loss Pc = %f kW/km',Pc*10**-5)\n",
"printf('\n Corona current = %f mA/Km',Cc*10^-2)\n",
"//Answer vary due to round off error\n",
"//Some of the answers provided in the textbook are wrong"
   ]
   }
,
{
		   "cell_type": "markdown",
		   "metadata": {},
		   "source": [
			"## Example 5.11: Chapter_5_Example_11.sce"
		   ]
		  },
  {
"cell_type": "code",
	   "execution_count": null,
	   "metadata": {
	    "collapsed": true
	   },
	   "outputs": [],
"source": [
"//Chapter 5, Exmaple 11, page 180\n",
"//Calculate corona onset voltage and effective corona envelope\n",
"clc\n",
"clear\n",
"//(a) corona onset voltage\n",
"r = 3.175 // cm\n",
"h = 13 // m\n",
"m= 0.9 // m1 and m2\n",
"dt = 1 // Relative air density\n",
"E0 = 30*dt*(1 + 0.3/sqrt(r))*m*m\n",
"V0 = 20*r*log(2*h*10^2/r)\n",
"printf('\n E0 = %f kVpeak/cm or 20 kV/cm',E0)\n",
"printf('\n V0 = %f kV',V0)\n",
"printf('\n V0 (line to line) = %f kV',V0*sqrt(3))\n",
"//(b)Corona envelope at 2.5 p.u\n",
"V = 2.5*525 // line to line voltage * 2.5\n",
"printf('\n Voltage (line to line) = %f kV',V)\n",
"//Solving the equations in trila and error method\n",
"printf('\n Envelope radius = 5 cm')\n",
"// Answers may vary due to round off error.\n",
" "
   ]
   }
,
{
		   "cell_type": "markdown",
		   "metadata": {},
		   "source": [
			"## Example 5.2: Chapter_5_Example_2.sce"
		   ]
		  },
  {
"cell_type": "code",
	   "execution_count": null,
	   "metadata": {
	    "collapsed": true
	   },
	   "outputs": [],
"source": [
"//Chapter 5, Exmaple 2, page 173\n",
"//Calculate breakdown voltage\n",
"clc\n",
"clear\n",
"//(a)Based on equation 4.13\n",
"p = 101.3 // kPa\n",
"Ep = 2400.4/0.027\n",
"E = p*Ep\n",
"d = 1*10**-3 // 1 mm\n",
"Vs1 = E*d\n",
"printf('\n Part (a): based on equation 4.13')\n",
"printf('\n Breakdown voltage = %f V or %f kV',Vs1,Vs1*10^-3)\n",
"//(b)Corrsponding to an avelanche size of 10^8\n",
"p = 101.3 // kPa\n",
"Cp = Ep*0.027*p\n",
"Vs2 = (18.42 + (Cp*10**-3))/0.027\n",
"printf('\n Part (b):Corrsponding to an avelanche size of 10^8')\n",
"printf('\n Breakdown voltage = %f V or %f kV',Vs2,Vs2*10^-3)\n",
"//(b)According to criteria expressed by Equations 5.4 and 5.5\n",
"p = 101.3 // kPa\n",
"Vs3a = 9.4\n",
"Vs3b = 9.2\n",
"printf('\n Part (c):According to criteria expressed by Equations 5.4 and 5.5')\n",
"printf('\n Breakdown voltage = %f kV or %f kV',Vs3a,Vs3b)\n",
"//Answer may vary due to round off error"
   ]
   }
,
{
		   "cell_type": "markdown",
		   "metadata": {},
		   "source": [
			"## Example 5.3: Chapter_5_Example_3.sce"
		   ]
		  },
  {
"cell_type": "code",
	   "execution_count": null,
	   "metadata": {
	    "collapsed": true
	   },
	   "outputs": [],
"source": [
"//Chapter 5, Exmaple 3, page 174\n",
"//Calculate breakdown voltage at atm pressure 3 and 5\n",
"clc\n",
"clear\n",
"//(a)Based on equation 5.14\n",
"p = 101.3 // kPa\n",
"Ep = 2400.4/0.027\n",
"E = p*Ep\n",
"d = 1*10**-3 // 1 mm\n",
"Vs13 = E*d*3 // at 3 atm\n",
"Vs15 = E*d*5 // at 5 atm\n",
"printf('\n Part (a): based on equation 5.14')\n",
"printf('\n Breakdown voltage = %f kV or %f kV',Vs13*10^-3,Vs15*10^-3)\n",
"//(b)According to eqution 5.13\n",
"p = 101.3 // kPa\n",
"Cp3 = Ep*0.027*p*3 // at 3 atm\n",
"Vs23 = (18.42 + (Cp3*10**-3))/0.027\n",
"Cp5 = Ep*0.027*p*5 // at 5 atm\n",
"Vs25 = (18.42 + (Cp5*10**-3))/0.027\n",
"printf('\n Part (b):According to eqution 5.13')\n",
"printf('\n Breakdown voltage = %f V or %f kV',Vs23*10^-3,Vs25*10^-3)\n",
"//(b)According to criteria expressed by Equations 5.4 and 5.5\n",
"p = 101.3 // kPa\n",
"Vs3a = 27.73 // at 3 atm\n",
"Vs3b = 45.5 // at 5 atm\n",
"printf('\n Part (c):According to criteria expressed by Equations 5.4 and 5.5')\n",
"printf('\n Breakdown voltage = %f kV or %f kV',Vs3a,Vs3b)\n",
"//Answer may vary due to round off error"
   ]
   }
,
{
		   "cell_type": "markdown",
		   "metadata": {},
		   "source": [
			"## Example 5.8: Chapter_5_Example_8.sce"
		   ]
		  },
  {
"cell_type": "code",
	   "execution_count": null,
	   "metadata": {
	    "collapsed": true
	   },
	   "outputs": [],
"source": [
"//Chapter 5, Exmaple 8, page 179\n",
"//Calculate corona onset voltage\n",
"clc\n",
"clear\n",
"s = 4 // cm\n",
"r = 1 // cm\n",
"D = 5*10^2 // cm\n",
"dt = 1\n",
"E0 = 30*dt*(1 + 0.3*sqrt(dt*r))\n",
"printf('\n E0 = %f kVpeak/cm',E0)\n",
"//using equations (5.18), the positive and negative corona\n",
"En = 27.501 // kVpeak/cm\n",
"//part a\n",
"Vp1 = 6.2*E0\n",
"Vn1 = 6.2*En\n",
"printf('\n Part (a)')\n",
"printf('\n The postive corona = %f kVpeak',Vp1)\n",
"printf('\n The negative corona = %f kV',Vn1)\n",
"//part b\n",
"Vp2 = 8.32*E0\n",
"Vn2 = 8.32*En\n",
"printf('\n Part (b)')\n",
"printf('\n The postive corona = %f kVpeak',Vp2)\n",
"printf('\n The negative corona = %f kV',Vn2)\n",
"//part c\n",
"Vp3 = 9.97*E0\n",
"Vn3 = 9.97*En\n",
"printf('\n Part (c)')\n",
"printf('\n The postive corona = %f kVpeak',Vp3)\n",
"printf('\n The negative corona = %f kV',Vn3)\n",
"//part d\n",
"Vp4 = 11.39*E0\n",
"Vn4 = 11.39*En\n",
"printf('\n Part (d)')\n",
"printf('\n The postive corona = %f kVpeak',Vp4)\n",
"printf('\n The negative corona = %f kV',Vn4)\n",
"//Answer CONSIDERABLY vary due to round off error."
   ]
   }
,
{
		   "cell_type": "markdown",
		   "metadata": {},
		   "source": [
			"## Example 5.9: Chapter_5_Example_9.sce"
		   ]
		  },
  {
"cell_type": "code",
	   "execution_count": null,
	   "metadata": {
	    "collapsed": true
	   },
	   "outputs": [],
"source": [
"//Chapter 5, Exmaple 9, page 180\n",
"//Calculate corona onset voltage\n",
"clc\n",
"clear\n",
"t = 5*5*8.66 // the three side of the trangle in m\n",
"Deq = nthroot(t,3) \n",
"dt = 1 //delta = 1 at standard temperature and pressure\n",
"r = 1 //radius of the conductor\n",
"En = 27.501 // kVpeak/cm\n",
"E0 = 30*dt*(1 + 0.3*sqrt(dt*r))\n",
"V0peak = E0*log(Deq*10**2)\n",
"V0 = En*log(Deq*10**2)\n",
"printf('\n Mean geometric distance between the conductors %f m',Deq)\n",
"printf('\n E0 = %f kVpeak/cm',E0)\n",
"printf('\n V0peak = %f kVpeak',V0peak)\n",
"printf('\n V0 = %f kV',V0)\n",
"//Answers may vary due to round off error"
   ]
   }
],
"metadata": {
		  "kernelspec": {
		   "display_name": "Scilab",
		   "language": "scilab",
		   "name": "scilab"
		  },
		  "language_info": {
		   "file_extension": ".sce",
		   "help_links": [
			{
			 "text": "MetaKernel Magics",
			 "url": "https://github.com/calysto/metakernel/blob/master/metakernel/magics/README.md"
			}
		   ],
		   "mimetype": "text/x-octave",
		   "name": "scilab",
		   "version": "0.7.1"
		  }
		 },
		 "nbformat": 4,
		 "nbformat_minor": 0
}
