{
"cells": [
 {
		   "cell_type": "markdown",
	   "metadata": {},
	   "source": [
       "# Chapter 19: Applications of High Voltage Engineering"
	   ]
	},
{
		   "cell_type": "markdown",
		   "metadata": {},
		   "source": [
			"## Example 19.10: Chapter_19_Example_10.sce"
		   ]
		  },
  {
"cell_type": "code",
	   "execution_count": null,
	   "metadata": {
	    "collapsed": true
	   },
	   "outputs": [],
"source": [
"//Chapter 19,Example 10,page 679\n",
"//Determine the minimum voltage required for gnerating drops witha charge of 50 pC per drop\n",
"clear\n",
"clc\n",
"q = 50*10^-12\n",
"a = 25*10^-6\n",
"b = 750*10^-6\n",
"E0 = 8.84*10^-12\n",
"r = 50*10^-6 \n",
"V = (3*q*b^2*log(b/a))/(7*%pi*E0*r^3)\n",
"printf('\n The minimum voltage required for gnerating drops witha charge of 50 pC per drop = %f kV',V*10^-6)\n",
"// Answers may vary due to round off error"
   ]
   }
,
{
		   "cell_type": "markdown",
		   "metadata": {},
		   "source": [
			"## Example 19.1: Chapter_19_Example_1.sce"
		   ]
		  },
  {
"cell_type": "code",
	   "execution_count": null,
	   "metadata": {
	    "collapsed": true
	   },
	   "outputs": [],
"source": [
"//Chapter 19,Example 1,page 665\n",
"//Determine the sepration between the particles\n",
"clear\n",
"clc\n",
"// Based on the equations 19.6, 19.7, 19.8, 19.9 and 19.10\n",
"E = 8*10^5 // V/m\n",
"qm = 10*10^-6 // C/kg, qm = q/m\n",
"y = -1 // m\n",
"t = (1*2/9.8)\n",
"x = 1/2*qm*E*t\n",
"printf('\n The seperation between the particles = %f m',2*x)\n",
"// Answers may vary due to round off error"
   ]
   }
,
{
		   "cell_type": "markdown",
		   "metadata": {},
		   "source": [
			"## Example 19.2: Chapter_19_Example_2.sce"
		   ]
		  },
  {
"cell_type": "code",
	   "execution_count": null,
	   "metadata": {
	    "collapsed": true
	   },
	   "outputs": [],
"source": [
"//Chapter 19,Example 2,page 667\n",
"//Determine the pumping pressure\n",
"clear\n",
"clc\n",
"p0 = 30*10^-3 // C/m^3\n",
"V = 30*10^3 // V\n",
"P = p0*V\n",
"printf('\n The pumping pressure P = %f N/m^2',P)\n",
"// Answers may vary due to round off error"
   ]
   }
,
{
		   "cell_type": "markdown",
		   "metadata": {},
		   "source": [
			"## Example 19.4: Chapter_19_Example_4.sce"
		   ]
		  },
  {
"cell_type": "code",
	   "execution_count": null,
	   "metadata": {
	    "collapsed": true
	   },
	   "outputs": [],
"source": [
"//Chapter 19,Example 4,page 670\n",
"//Determine the vertical displacement of the drop\n",
"clear\n",
"clc\n",
"d = 0.03*10^-3 // m\n",
"p = 2000 // kg/m^3\n",
"q = 100*10^-15 // C\n",
"V0 = 3500 // V\n",
"d2 = 2*10^-3 // m\n",
"L1 = 15*10^-3 // m\n",
"L2 = 12*10^-3 // m\n",
"Vz = 25 // m/s\n",
"m = 4/3*%pi*(1/2*d)^3*p\n",
"t0 = L1/Vz\n",
"Vx0 = q*V0*t0/(m*d2)\n",
"x0 = 1/2*Vx0*t0\n",
"t1 = (L1+L2)/Vz\n",
"x1 = x0+Vx0*(t1-t0)\n",
"printf('\n The vertical displacement of the drop = %e m',x1)\n",
" \n",
"// Answers may vary due to round off error"
   ]
   }
,
{
		   "cell_type": "markdown",
		   "metadata": {},
		   "source": [
			"## Example 19.5: Chapter_19_Example_5.sce"
		   ]
		  },
  {
"cell_type": "code",
	   "execution_count": null,
	   "metadata": {
	    "collapsed": true
	   },
	   "outputs": [],
"source": [
"//Chapter 19,Example 5,page 672\n",
"//Determine the electric stress and charge density\n",
"clear\n",
"clc\n",
"a = 25*10^-6 // m\n",
"b = 75*10^-6 // m\n",
"Er = 2.8\n",
"ps = 25*10^-6 // C/m^3\n",
"E0 = 8.84*10^-12\n",
"Ea = (b*ps)/(ps*E0+b*Er*E0)\n",
"Eb = (a*ps)/(ps*E0+b*Er*E0) // the negative noation is removed to obtain positive answer as in the book \n",
"psc = E0*Eb\n",
"printf('\n Ea = %e V/m',Ea)\n",
"printf('\n Eb = %e V/m',Eb)\n",
"printf('\n Charge density = %e C/m^2',psc)\n",
"// Answers may vary due to round off error"
   ]
   }
,
{
		   "cell_type": "markdown",
		   "metadata": {},
		   "source": [
			"## Example 19.6: Chapter_19_Example_6.sce"
		   ]
		  },
  {
"cell_type": "code",
	   "execution_count": null,
	   "metadata": {
	    "collapsed": true
	   },
	   "outputs": [],
"source": [
"//Chapter 19,Example 6,page 675\n",
"//Determine the current density\n",
"clear\n",
"clc\n",
"E0 = 8.84*10^-12\n",
"Us = 1.5*10^-3*10^-4\n",
"V = 100\n",
"d3 = 10^-6 // d^3\n",
"J = 4*E0*Us*V^2/d3\n",
"printf('\n Current density = %e A/m^2',J)\n",
"// Answer may vary due to round off error"
   ]
   }
,
{
		   "cell_type": "markdown",
		   "metadata": {},
		   "source": [
			"## Example 19.7: Chapter_19_Example_7.sce"
		   ]
		  },
  {
"cell_type": "code",
	   "execution_count": null,
	   "metadata": {
	    "collapsed": true
	   },
	   "outputs": [],
"source": [
"//Chapter 19,Example 7,page 676\n",
"//Determine the thickness of dust layer\n",
"clear\n",
"clc\n",
"Edb = 3*10^6\n",
"E0 = 8.84*10^-12\n",
"p0 = 15*10^-3\n",
"d = Edb*E0/p0\n",
"printf('\n Thickness of the dust layer = %e m',d)\n",
"// Answers may vary due to round off errors"
   ]
   }
,
{
		   "cell_type": "markdown",
		   "metadata": {},
		   "source": [
			"## Example 19.8: Chapter_19_Example_8.sce"
		   ]
		  },
  {
"cell_type": "code",
	   "execution_count": null,
	   "metadata": {
	    "collapsed": true
	   },
	   "outputs": [],
"source": [
"//Chapter 19,Example 8,page 676\n",
"//Determine the velocity of the ejected ions and propolsion force\n",
"clear\n",
"clc\n",
"mi = 133*1.67*10^-27 // kg\n",
"qi = 1.6*10^-19 // C\n",
"Va = 3500 // V\n",
"I = 0.2 // A\n",
"vi = sqrt(2*qi*Va/mi)\n",
"F = vi*mi*I/qi\n",
"printf('\n Ion velocity = %e m/s',vi)\n",
"printf('\n Populsion force = %e N',F)\n",
"// Answers may vary due to round off errors"
   ]
   }
,
{
		   "cell_type": "markdown",
		   "metadata": {},
		   "source": [
			"## Example 19.9: Chapter_19_Example_9.sce"
		   ]
		  },
  {
"cell_type": "code",
	   "execution_count": null,
	   "metadata": {
	    "collapsed": true
	   },
	   "outputs": [],
"source": [
"//Chapter 19,Example 9,page 677\n",
"//Determine the position of the particle \n",
"clear\n",
"clc\n",
"V = 120*10^3 // applied voltage in V\n",
"d = 0.6 //  space b/w the plates in m\n",
"vd = 1.2 // vertical dimention in m \n",
"qm = 10*10^-6 // charge to mass C/kg \n",
"y = 4.9\n",
"t0 = sqrt(vd/y)\n",
"// based on eq 19.51 and 19.52\n",
"dx2 = qm*V/d\n",
"x = t0^2\n",
"printf('\n Velocity = %d m/s2',dx2)\n",
"printf('\n Position of the particle = %f m',x)\n",
"// Answer may vary due to round off error"
   ]
   }
],
"metadata": {
		  "kernelspec": {
		   "display_name": "Scilab",
		   "language": "scilab",
		   "name": "scilab"
		  },
		  "language_info": {
		   "file_extension": ".sce",
		   "help_links": [
			{
			 "text": "MetaKernel Magics",
			 "url": "https://github.com/calysto/metakernel/blob/master/metakernel/magics/README.md"
			}
		   ],
		   "mimetype": "text/x-octave",
		   "name": "scilab",
		   "version": "0.7.1"
		  }
		 },
		 "nbformat": 4,
		 "nbformat_minor": 0
}
