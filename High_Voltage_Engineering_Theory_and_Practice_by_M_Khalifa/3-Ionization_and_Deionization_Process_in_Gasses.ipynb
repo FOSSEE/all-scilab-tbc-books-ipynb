{
"cells": [
 {
		   "cell_type": "markdown",
	   "metadata": {},
	   "source": [
       "# Chapter 3: Ionization and Deionization Process in Gasses"
	   ]
	},
{
		   "cell_type": "markdown",
		   "metadata": {},
		   "source": [
			"## Example 3.10: Chapter_3_Example_10.sce"
		   ]
		  },
  {
"cell_type": "code",
	   "execution_count": null,
	   "metadata": {
	    "collapsed": true
	   },
	   "outputs": [],
"source": [
"//Chapter 3, Exmaple 10, page 106\n",
"//KE and velocity of photoelectron\n",
"clc\n",
"clear\n",
"h = 4.15*10**-15\n",
"c = 3*10**8\n",
"l = 200*10**-10\n",
"BE = 13.6 // Binding energy\n",
"PE = h*c/l\n",
"KE = PE-BE // Kinetic energy of photoelectron\n",
"Ve = sqrt((2*KE*1.6*10**-19)/9.11*10**-31)*10**31\n",
"printf('\nPhoton energy eV = %e ',PE)\n",
"printf('\nKinetic energy eV = %e ',KE)\n",
"printf('\nVelocity m/s = %e ',Ve)\n",
"//Answer may vary due to round off error"
   ]
   }
,
{
		   "cell_type": "markdown",
		   "metadata": {},
		   "source": [
			"## Example 3.11: Chapter_3_Example_11.sce"
		   ]
		  },
  {
"cell_type": "code",
	   "execution_count": null,
	   "metadata": {
	    "collapsed": true
	   },
	   "outputs": [],
"source": [
"//Chapter 3, Exmaple 11, page 107\n",
"//Find the absorption coefficient\n",
"clc\n",
"clear\n",
"// Using equation 3.20\n",
"x = 20\n",
"I0 = 6\n",
"Mu = -1/x*log(1/I0)\n",
"printf('\nLiquid photon absorption coefficient cm^-1 = %e ',Mu)\n",
"//Answer may vary due to round off error "
   ]
   }
,
{
		   "cell_type": "markdown",
		   "metadata": {},
		   "source": [
			"## Example 3.12: Chapter_3_Example_12.sce"
		   ]
		  },
  {
"cell_type": "code",
	   "execution_count": null,
	   "metadata": {
	    "collapsed": true
	   },
	   "outputs": [],
"source": [
"//Chapter 3, Exmaple 12, page 107\n",
"//Binding energy\n",
"clc\n",
"clear\n",
"h = 4.15*10**-15\n",
"c = 3*10**8\n",
"Imax = 1000*10**-10\n",
"We = h*c/Imax\n",
"printf('\nBinding Energy = %e eV ',We)\n",
"//Answer may vary due to round off errorS"
   ]
   }
,
{
		   "cell_type": "markdown",
		   "metadata": {},
		   "source": [
			"## Example 3.14: Chapter_3_Example_14.sce"
		   ]
		  },
  {
"cell_type": "code",
	   "execution_count": null,
	   "metadata": {
	    "collapsed": true
	   },
	   "outputs": [],
"source": [
"//Chapter 3, Exmaple 14, page 108\n",
"//Diameter of argon atom\n",
"clc\n",
"clear\n",
"//As derived from example 13\n",
"N = (1.01*10**5/760)/(1.38*10**-23*273)\n",
"printf('\nN = %e atoms/m^3 ',N)\n",
"//Use equation 3.10\n",
"ra = sqrt((85*10^2/(%pi*3.527*10**22))) \n",
"printf('\nra = %e m ',ra)\n",
"//Answer may vary due to round off error"
   ]
   }
,
{
		   "cell_type": "markdown",
		   "metadata": {},
		   "source": [
			"## Example 3.15: Chapter_3_Example_15.sce"
		   ]
		  },
  {
"cell_type": "code",
	   "execution_count": null,
	   "metadata": {
	    "collapsed": true
	   },
	   "outputs": [],
"source": [
"//Chapter 3, Exmaple 15, page 109\n",
"//Mobility of electrons\n",
"clc\n",
"clear\n",
"Ie = 3\n",
"d = 0.8\n",
"A = 8*10**-4\n",
"Vne = 20*10**17 //V*ne\n",
"e = 1.6*10**-19\n",
"ke = (Ie*d)/(A*Vne*e)\n",
"printf('\Mobility of electrons = %d m^2/s*V ',ke)\n",
"//Answer may vary from the text"
   ]
   }
,
{
		   "cell_type": "markdown",
		   "metadata": {},
		   "source": [
			"## Example 3.17: Chapter_3_Example_17.sce"
		   ]
		  },
  {
"cell_type": "code",
	   "execution_count": null,
	   "metadata": {
	    "collapsed": true
	   },
	   "outputs": [],
"source": [
"//Chapter 3, Exmaple 17, page 110\n",
"//Determine the ion density\n",
"clc\n",
"clear\n",
"//Based on equation 3.50 and 3.52\n",
"nplus = 10**11*%e**(-1.6*10**-19*5*0.02/(1.38*10**-23*293))\n",
"nminus = 10**11*%e**(-1.6*10**-19*5*-0.02/(1.38*10**-23*293)) //textbook uses 0.02 inseatead of -0.02. In the program I have used -0.02\n",
"printf('\n+(0.02) = %e ions/m^3 ',nplus)\n",
"printf('\n+(-0.02) = %e ions/m^3 ',nminus)\n",
"//answers may vary due to round off error"
   ]
   }
,
{
		   "cell_type": "markdown",
		   "metadata": {},
		   "source": [
			"## Example 3.18: Chapter_3_Example_18.sce"
		   ]
		  },
  {
"cell_type": "code",
	   "execution_count": null,
	   "metadata": {
	    "collapsed": true
	   },
	   "outputs": [],
"source": [
"//Chapter 3, Exmaple 18, page 110\n",
"//Determine the diameter\n",
"clc\n",
"clear\n",
"//Based on the equation 3.40\n",
"k = 1.38*10**-23\n",
"T = 293\n",
"z2z1 = 0.05\n",
"e = 1.6*10**-19\n",
"E = 250\n",
"r1 = 0.09*10**-6\n",
"r1r2 = (6*k*T*z2z1)/(e*E)\n",
"r2 = sqrt(r1+r1r2)\n",
"printf('\n r1^2-r2^2 = %e ',r1r2)\n",
"printf('\n r2 = %e m ',r2)\n",
"//answers may vary due to round off error"
   ]
   }
,
{
		   "cell_type": "markdown",
		   "metadata": {},
		   "source": [
			"## Example 3.19: Chapter_3_Example_19.sce"
		   ]
		  },
  {
"cell_type": "code",
	   "execution_count": null,
	   "metadata": {
	    "collapsed": true
	   },
	   "outputs": [],
"source": [
"//Chapter 3, Exmaple 19, page 111\n",
"//Determine mean free path and ionization\n",
"clc\n",
"clear\n",
"//(a)Mean free path\n",
"//Based on equation 3.14 and 3.15\n",
"lambda = 1/(9003*0.5)\n",
"//(b)Ionization potential\n",
"Vi = 256584/9003\n",
"printf('\n lambda = %e m ',lambda)\n",
"printf('\n Vi = %f V ',Vi)\n",
"//answers may vary due to round off error"
   ]
   }
,
{
		   "cell_type": "markdown",
		   "metadata": {},
		   "source": [
			"## Example 3.1: Chapter_3_Example_1.sce"
		   ]
		  },
  {
"cell_type": "code",
	   "execution_count": null,
	   "metadata": {
	    "collapsed": true
	   },
	   "outputs": [],
"source": [
"//Chapter 3, Exmaple 1, page 103\n",
"//Movement of oxygen molecule\n",
"clc\n",
"clear\n",
"//using equation 3.3\n",
"R = 3814 // J/Kg.mol.K\n",
"T = 300 // K\n",
"M = 32 // mol^-1\n",
"V2 = 3*R*(T/M)\n",
"V = sqrt(V2)\n",
"printf('Velocity of Oxygen (O2)= %d m^2/s^2\n',V2)\n",
"//Since Oxygen is a diatomic gas\n",
"printf('Velocity of Oxygen (O)= %d m/s',V)\n",
"//Velocity of oxygen is about 300 m/s\n",
"//Answer given in the textbook is wrong"
   ]
   }
,
{
		   "cell_type": "markdown",
		   "metadata": {},
		   "source": [
			"## Example 3.2: Chapter_3_Example_2.sce"
		   ]
		  },
  {
"cell_type": "code",
	   "execution_count": null,
	   "metadata": {
	    "collapsed": true
	   },
	   "outputs": [],
"source": [
"//Chapter 3, Exmaple 2, page 104\n",
"//Kinetic energy of oxygen molecule\n",
"clc\n",
"clear\n",
"//from Eq.3.2\n",
"G = (2*10**-3/32)*(8314*298*1.01*10**5)*10**-10\n",
"printf('\nG = %e m^3\n',G) // Answer is is wrong in the text \n",
"//From equation 3.1\n",
"mv2 = 3/2*1.01*10**5 // 1/2*m0*v^2\n",
"KE = mv2*G//total transalational K.E\n",
"printf('K.E = %f J\n',KE)\n",
"//Answer may varry due to round off error"
   ]
   }
,
{
		   "cell_type": "markdown",
		   "metadata": {},
		   "source": [
			"## Example 3.3: Chapter_3_Example_3.sce"
		   ]
		  },
  {
"cell_type": "code",
	   "execution_count": null,
	   "metadata": {
	    "collapsed": true
	   },
	   "outputs": [],
"source": [
"//Chapter 3, Exmaple 3, page 104\n",
"//Maximum pressure in the chamber\n",
"clc\n",
"clear\n",
"//Making use of equation 3.10\n",
"N1 = (4*%pi*1.7*1.7*0.10*10^-10*10^-10)\n",
"N = 1/N1\n",
"//Using equation 3.2\n",
"R = 8314 // J/Kg*mol*K \n",
"M = 28 // Mol^-1\n",
"N = 220*10**-8 // Kg\n",
"T = 300 // K\n",
"p =  N/M*R*T\n",
"printf('\nN = %e ',N1) // answer mentioned in the tectbook is wrong\n",
"printf('\nPressure = %f N/m^2',p)\n",
"//Answer vary due to round off error"
   ]
   }
,
{
		   "cell_type": "markdown",
		   "metadata": {},
		   "source": [
			"## Example 3.4: Chapter_3_Example_4.sce"
		   ]
		  },
  {
"cell_type": "code",
	   "execution_count": null,
	   "metadata": {
	    "collapsed": true
	   },
	   "outputs": [],
"source": [
"//Chapter 3, Exmaple 4, page 105\n",
"//Temperature & Average K.E of He atom\n",
"clc\n",
"clear\n",
"m0 = 1\n",
"v2 = 1.6*10**-19 // V^2\n",
"KE = m0*v2\n",
"//Using equation 3.3\n",
"T = 2*KE/(3*1.38*10**-23) \n",
"printf('\nK.E = %e J',KE)\n",
"printf('\nTemperature = %e K',T)\n",
"  "
   ]
   }
,
{
		   "cell_type": "markdown",
		   "metadata": {},
		   "source": [
			"## Example 3.5: Chapter_3_Example_5.sce"
		   ]
		  },
  {
"cell_type": "code",
	   "execution_count": null,
	   "metadata": {
	    "collapsed": true
	   },
	   "outputs": [],
"source": [
"//Chapter 3, Exmaple 5, page 105\n",
"//Volume of Helium \n",
"clc\n",
"clear\n",
"// Using equation 3.2\n",
"G = (1*8314*273)/(2.016*1.01*10**5)\n",
"printf('\nVolume of He = %f m^3',G)\n",
"//Answer may vary due to round off error."
   ]
   }
,
{
		   "cell_type": "markdown",
		   "metadata": {},
		   "source": [
			"## Example 3.6: Chapter_3_Example_6.sce"
		   ]
		  },
  {
"cell_type": "code",
	   "execution_count": null,
	   "metadata": {
	    "collapsed": true
	   },
	   "outputs": [],
"source": [
"//Chapter 3, Exmaple 6, page 105\n",
"//Determine mean free path \n",
"clc\n",
"clear\n",
"//(a) Mean free path\n",
"na = %e^-1\n",
"//(b) 5 times mean free path\n",
"nb = %e^-5\n",
"printf('\n Mean free path = %f*n0 ',na)\n",
"printf('\n 5 times mean free path = %f*n0 ',nb)\n",
"//Answer may vary due to round of error "
   ]
   }
,
{
		   "cell_type": "markdown",
		   "metadata": {},
		   "source": [
			"## Example 3.7: Chapter_3_Example_7.sce"
		   ]
		  },
  {
"cell_type": "code",
	   "execution_count": null,
	   "metadata": {
	    "collapsed": true
	   },
	   "outputs": [],
"source": [
"//Chapter 3, Exmaple 7, page 105\n",
"//Mean square velocity of Helium \n",
"clc\n",
"clear\n",
"//based on equation 3.2 and 3.3 we derive the gas density\n",
"N = 178*10**-3 // kg/m^3\n",
"// calculating mean square velocity\n",
"v2 = (3*1.01*10**5)/N\n",
"printf('\nV^2 = %e m^2/s^2',v2)\n",
"v = sqrt(v2)\n",
"printf('\nMean square velocity = %f m/s',v)\n",
"//Answer may vary due to round off error"
   ]
   }
,
{
		   "cell_type": "markdown",
		   "metadata": {},
		   "source": [
			"## Example 3.8: Chapter_3_Example_8.sce"
		   ]
		  },
  {
"cell_type": "code",
	   "execution_count": null,
	   "metadata": {
	    "collapsed": true
	   },
	   "outputs": [],
"source": [
"//Chapter 3, Exmaple 8, page 106\n",
"//Energy of free electron\n",
"clc\n",
"clear\n",
"//Using equation 3.3\n",
"mv2 = (3/2*1.38*10**-21*293) // 1/2*m*v^2\n",
"E = mv2*10**38/1.6*10**-19\n",
"printf('\n1/2*m*v^2 = %e J',mv2)\n",
"printf('\nEnergy of free electron = %f eV',E)\n",
"//Answers may vary due to round off error"
   ]
   }
,
{
		   "cell_type": "markdown",
		   "metadata": {},
		   "source": [
			"## Example 3.9: Chapter_3_Example_9.sce"
		   ]
		  },
  {
"cell_type": "code",
	   "execution_count": null,
	   "metadata": {
	    "collapsed": true
	   },
	   "outputs": [],
"source": [
"//Chapter 3, Exmaple 9, page 106\n",
"//Average separation and volume occupied by one atom\n",
"clc\n",
"clear\n",
"NA = 6.0244*10**23\n",
"NoA = NA*0.075 // Number of atoms/cm^3\n",
"V = 1/NoA // Average volume occupied by one atom\n",
"S = nthroot(V,3) //  Average separation between atoms\n",
"printf('\nNumber od atoms per cm^3 = %e ',NoA)\n",
"printf('\nAverage vloume occupied by one atom = %e cm^3',V)\n",
"printf('\nAverage separation between atoms = %e cm',S)\n",
"//Answers may vary due to round off error"
   ]
   }
],
"metadata": {
		  "kernelspec": {
		   "display_name": "Scilab",
		   "language": "scilab",
		   "name": "scilab"
		  },
		  "language_info": {
		   "file_extension": ".sce",
		   "help_links": [
			{
			 "text": "MetaKernel Magics",
			 "url": "https://github.com/calysto/metakernel/blob/master/metakernel/magics/README.md"
			}
		   ],
		   "mimetype": "text/x-octave",
		   "name": "scilab",
		   "version": "0.7.1"
		  }
		 },
		 "nbformat": 4,
		 "nbformat_minor": 0
}
