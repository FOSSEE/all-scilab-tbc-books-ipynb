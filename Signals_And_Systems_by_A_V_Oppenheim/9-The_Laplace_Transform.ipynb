{
"cells": [
 {
		   "cell_type": "markdown",
	   "metadata": {},
	   "source": [
       "# Chapter 9: The Laplace Transform"
	   ]
	},
{
		   "cell_type": "markdown",
		   "metadata": {},
		   "source": [
			"## Example 9.10: Inverse_Lapalce_Transform.sce"
		   ]
		  },
  {
"cell_type": "code",
	   "execution_count": null,
	   "metadata": {
	    "collapsed": true
	   },
	   "outputs": [],
"source": [
"//clear//\n",
"//Example9.10:Inverse Lapalce Transform \n",
"//X(S) = 1/((s+1)(s+2))  Re(s)< -1,Re(s)< -2\n",
"s =%s ;\n",
"syms t ;\n",
"[A]=pfss(1/((s+1)*(s+2))) //partial fraction of F(s)\n",
"F1 = ilaplace(A(1),s,t)\n",
"F2 = ilaplace(A(2),s,t)\n",
"F = -F1-F2;\n",
"disp(F,'f(t)=')\n",
"//Result\n",
"// %e^-(2*t)-%e^-t   "
   ]
   }
,
{
		   "cell_type": "markdown",
		   "metadata": {},
		   "source": [
			"## Example 9.11: Inverse_Lapalce_Transform.sce"
		   ]
		  },
  {
"cell_type": "code",
	   "execution_count": null,
	   "metadata": {
	    "collapsed": true
	   },
	   "outputs": [],
"source": [
"//clear//\n",
"//Example9.11:Inverse Lapalce Transform \n",
"//X(S) = 1/((s+1)(s+2))  -2< Re(s)< -1\n",
"s =%s ;\n",
"syms t ;\n",
"[A]=pfss(1/((s+1)*(s+2))) //partial fraction of F(s)\n",
"F1 = ilaplace(A(1),s,t)\n",
"F2 = ilaplace(A(2),s,t)\n",
"F = -F1+F2;\n",
"disp(F,'f(t)=')\n",
"//Result\n",
"// -(%e^-t)-(%e^-(2*t)) "
   ]
   }
,
{
		   "cell_type": "markdown",
		   "metadata": {},
		   "source": [
			"## Example 9.12: Inverse_Lapalce_Transform.sce"
		   ]
		  },
  {
"cell_type": "code",
	   "execution_count": null,
	   "metadata": {
	    "collapsed": true
	   },
	   "outputs": [],
"source": [
"//clear//\n",
"//Example9.12:Inverse Lapalce Transform \n",
"//X(S) = 1/(s+(1/2))   Re(s)> -1/2\n",
"s =%s ;\n",
"G =syslin('c',(1/(s+0.5)))\n",
"disp(G,'G( s )=')\n",
"plzr(G)"
   ]
   }
,
{
		   "cell_type": "markdown",
		   "metadata": {},
		   "source": [
			"## Example 9.13: Inverse_Lapalce_Transform.sce"
		   ]
		  },
  {
"cell_type": "code",
	   "execution_count": null,
	   "metadata": {
	    "collapsed": true
	   },
	   "outputs": [],
"source": [
"//clear//\n",
"//Example9.13\n",
"//Inverse Lapalce Transform \n",
"//X1(S) = 1/(s+1)   Re(s)> -1\n",
"//X2(S) = 1/((s+1)(s+2)) Re(s)>-1\n",
"s =%s ;\n",
"syms t ;\n",
"G1 =syslin('c',(1/(s+1)));\n",
"disp(G1,'G( s )=')\n",
"figure\n",
"plzr(G1)\n",
"G2 =syslin('c',(1/((s+1)*(s+2))));\n",
"disp(G2,'G( s )=')\n",
"figure\n",
"plzr(G2)\n",
"G3 = syslin('c',(1/(s+1))-(1/((s+1)*(s+2))));\n",
"disp(G3,'G( s )=')\n",
"figure\n",
"plzr(G3)"
   ]
   }
,
{
		   "cell_type": "markdown",
		   "metadata": {},
		   "source": [
			"## Example 9.14: Lapalce_Transform.sce"
		   ]
		  },
  {
"cell_type": "code",
	   "execution_count": null,
	   "metadata": {
	    "collapsed": true
	   },
	   "outputs": [],
"source": [
"//clear//\n",
"//Example9.14:Lapalce Transform \n",
"//x(t) = t.exp(-at), t>0\n",
"//x(t) = (t^2)/2.exp(-at), t>0\n",
"s =%s ;\n",
"syms t ;\n",
"a =10;\n",
"x1 = laplace('t*%e^(-10*t)',t,s);\n",
"disp(x1)\n",
"x2 = laplace('((t^2)/2)*%e^(-10*t)',t,s);\n",
"disp(x2)\n",
"//Result\n",
"//1/((s+10)^2)\n",
"// 1/((s+10)^3)"
   ]
   }
,
{
		   "cell_type": "markdown",
		   "metadata": {},
		   "source": [
			"## Example 9.15: Inverse_Lapalce_Transform.sce"
		   ]
		  },
  {
"cell_type": "code",
	   "execution_count": null,
	   "metadata": {
	    "collapsed": true
	   },
	   "outputs": [],
"source": [
"//clear//\n",
"//Example9.15:Inverse Lapalce Transform \n",
"//X(S) = (2s^2+5s+5)/((s+1)^2)(s+2))  Re(s)>-1\n",
"s =%s ;\n",
"syms t ;\n",
"[A]=pfss((2*(s^2)+5*s+5)/(((s+1)^2)*(s+2))); //partial fraction of F(s)\n",
"F1 = ilaplace(A(1),s,t)\n",
"F2 = ilaplace(A(2),s,t)\n",
"//F3 = ilaplace(A(3),s,t)\n",
"F = F1+F2;\n",
"disp(F,'f(t)=')\n",
"//Result\n",
"//(2*t*(%e^-t))-(%e^-t)+(3*%e^-(2*t))   "
   ]
   }
,
{
		   "cell_type": "markdown",
		   "metadata": {},
		   "source": [
			"## Example 9.16: Initial_Value_Theorem_of_Lapalace_Transform.sce"
		   ]
		  },
  {
"cell_type": "code",
	   "execution_count": null,
	   "metadata": {
	    "collapsed": true
	   },
	   "outputs": [],
"source": [
"//clear//\n",
"//Example9.16:Initial Value Theorem of Lapalace Transform\n",
"syms s;\n",
"num =poly([12 5 2],'s','coeff')\n",
"den =poly([20 14 4 1],'s','coeff')\n",
"X = num/den\n",
"disp (X,'X(s)=')\n",
"SX = s*X;\n",
"Initial_Value =limit(SX,s,%inf); \n",
"disp(Initial_Value,'x(0)=')\n",
"//Result\n",
"//(2*%inf^3+5*%inf^2+12*%inf)/(%inf^3+4*%inf^2+14*%inf+20) =2"
   ]
   }
,
{
		   "cell_type": "markdown",
		   "metadata": {},
		   "source": [
			"## Example 9.17: Analysis_and_Characterization_of_LTI_System.sce"
		   ]
		  },
  {
"cell_type": "code",
	   "execution_count": null,
	   "metadata": {
	    "collapsed": true
	   },
	   "outputs": [],
"source": [
"//clear//\n",
"//Example9.17:Analysis and Characterization of LTI System\n",
"//Lapalce Transform h(t) = exp(-t).u(t)\n",
"syms t s;\n",
"h =laplace('%e^(-t)',t,s);\n",
"disp(h)\n",
"//Result\n",
"//1/(s+1) "
   ]
   }
,
{
		   "cell_type": "markdown",
		   "metadata": {},
		   "source": [
			"## Example 9.18: Analysis_and_Characterization_of_LTI_System.sce"
		   ]
		  },
  {
"cell_type": "code",
	   "execution_count": null,
	   "metadata": {
	    "collapsed": true
	   },
	   "outputs": [],
"source": [
"//clear//\n",
"//Example9.18:Analysis and Characterization of LTI System\n",
"//Lapalce Transform x(t) = exp(-abs(t))\n",
"//x(t) = exp(-t).u(t)+exp(t).u(-t)\n",
"syms t s;\n",
"y = laplace('%e^(-t)-%e^(t)',t,s);\n",
"disp(y)\n",
"//Result\n",
"//  (1/(s+1))-(1/(s-1))  "
   ]
   }
,
{
		   "cell_type": "markdown",
		   "metadata": {},
		   "source": [
			"## Example 9.19: Analysis_and_Characterization_of_LTI_System.sce"
		   ]
		  },
  {
"cell_type": "code",
	   "execution_count": null,
	   "metadata": {
	    "collapsed": true
	   },
	   "outputs": [],
"source": [
"//clear//\n",
"//Example9.19:Analysis and Characterization of LTI System\n",
"//Inverse Lapalce Transform \n",
"//X(S) = (e^s)/(s+1)\n",
"syms s t ;\n",
"h1 = exp(-1);//Inverse Laplace Transform of exp(s)\n",
"H2 =1/(s+1); \n",
"h2 = ilaplace(H2,s,t)\n",
"h = h1*h2;\n",
"disp(h,'h(t)=')\n",
"//Result\n",
"// (18089*(%e^-t))/49171 =  0.3678794(%e^-t) "
   ]
   }
,
{
		   "cell_type": "markdown",
		   "metadata": {},
		   "source": [
			"## Example 9.1: Lapalce_Transform_x_t_.sce"
		   ]
		  },
  {
"cell_type": "code",
	   "execution_count": null,
	   "metadata": {
	    "collapsed": true
	   },
	   "outputs": [],
"source": [
"//clear//\n",
"//Example9.1:Lapalce Transform x(t) = exp(-at).u(t)\n",
"syms t s;\n",
"a = 3;\n",
"y =laplace('%e^(-a*t)',t,s);\n",
"disp(y)\n",
"//Result\n",
"//1/(s+a) "
   ]
   }
,
{
		   "cell_type": "markdown",
		   "metadata": {},
		   "source": [
			"## Example 9.20: Inverse_Lapalce_Transform.sce"
		   ]
		  },
  {
"cell_type": "code",
	   "execution_count": null,
	   "metadata": {
	    "collapsed": true
	   },
	   "outputs": [],
"source": [
"//clear//\n",
"//Example9.20:Inverse Lapalce Transform \n",
"//X(S) = ((s-1)/((s+1)*(s-2)))  \n",
"s =%s ;\n",
"syms t ;\n",
"[A] = pfss(s/((s+1)*(s-2)));\n",
"[B] = pfss(1/((s+1)*(s-2)));\n",
"F1 = ilaplace(A(1),s,t)\n",
"F2 = ilaplace(A(2),s,t)\n",
"F3 = ilaplace(B(1),s,t)\n",
"F4 = ilaplace(B(2),s,t)\n",
"F = F1+F2-F3-F4;\n",
"disp(F,'f(t)=')\n",
"//Result\n",
"//f(t)= 33333329999999*exp(2*t)/99999970000000+6666664*%e^-t/9999997 \n",
"//i.e. f(t) =0.3333334*exp(2*t)+0.6666666*%e^(-t)\n",
"//Refer equation 9.120. (1/3)=0.3333 and (2/3) = 0.66666"
   ]
   }
,
{
		   "cell_type": "markdown",
		   "metadata": {},
		   "source": [
			"## Example 9.21: Analysis_and_Characterization_of_LTI_System.sce"
		   ]
		  },
  {
"cell_type": "code",
	   "execution_count": null,
	   "metadata": {
	    "collapsed": true
	   },
	   "outputs": [],
"source": [
"//clear//\n",
"//Example9.21:Analysis and Characterization of LTI System\n",
"//Lapalce Transform h(t) = exp(2t)u(t), Re(s)>2\n",
"syms t s;\n",
"X = laplace('%e^(2*t)',t,s);\n",
"disp(X)\n",
"//Result\n",
"//1/(s-2)  "
   ]
   }
,
{
		   "cell_type": "markdown",
		   "metadata": {},
		   "source": [
			"## Example 9.25: Finding_Transfer_function_H_S_of_LTI_system.sce"
		   ]
		  },
  {
"cell_type": "code",
	   "execution_count": null,
	   "metadata": {
	    "collapsed": true
	   },
	   "outputs": [],
"source": [
"//clear//\n",
"//Example9.25:LTI Systems Characterized by Linear Constant\n",
"//Coefficient differential Equation\n",
"//Finding Transfer function H(S) of LTI system\n",
"//x(t) = exp(-3t).u(t)\n",
"//y(t) = [exp(-t)-exp(-2t)].u(t) \n",
"syms t s;\n",
"X = laplace('%e^(-3*t)',t,s);\n",
"Y = laplace('%e^(-t)-%e^(-2*t)',t,s);\n",
"H = Y/X;\n",
"disp(H)\n",
"//Result\n",
"//(s+3)*(1/(s+1)-1/(s+2))   "
   ]
   }
,
{
		   "cell_type": "markdown",
		   "metadata": {},
		   "source": [
			"## Example 9.2: Lapalce_Transform_x_t_.sce"
		   ]
		  },
  {
"cell_type": "code",
	   "execution_count": null,
	   "metadata": {
	    "collapsed": true
	   },
	   "outputs": [],
"source": [
"//clear//\n",
"//Example9.2:Lapalce Transform x(t) = -exp(-at).u(-t)\n",
"syms t s;\n",
"a =3;\n",
"y = laplace('%e^(a*-t)',t,s);\n",
"disp(y)\n",
"//Result\n",
"//1/(s+a) "
   ]
   }
,
{
		   "cell_type": "markdown",
		   "metadata": {},
		   "source": [
			"## Example 9.31: Partial_Fractio.sce"
		   ]
		  },
  {
"cell_type": "code",
	   "execution_count": null,
	   "metadata": {
	    "collapsed": true
	   },
	   "outputs": [],
"source": [
"//clear//\n",
"//Example9.31:Causal LTI Systems described by differential equations\n",
"//and Rational System functions \n",
"//Partial Fraction\n",
"//H(S) = ((s-1)/((s+1)*(s-2)))  \n",
"s =%s ;\n",
"syms t ;\n",
"[A] = pfss((2*s^2+4*s-6)/(s^2+3*s+2));\n",
"disp(A,'H(S)=')\n",
"//Result  H(S)=\n",
"//// - 8     \n",
"//    -----   \n",
"//    1 + s   \n",
"//     6     \n",
"//    -----   \n",
"//    2 + s  \n",
"//    \n",
"//    2\n",
"  "
   ]
   }
,
{
		   "cell_type": "markdown",
		   "metadata": {},
		   "source": [
			"## Example 9.33: Unilateral_Laplace_Transform.sce"
		   ]
		  },
  {
"cell_type": "code",
	   "execution_count": null,
	   "metadata": {
	    "collapsed": true
	   },
	   "outputs": [],
"source": [
"//clear//\n",
"//Example9.33:Unilateral Laplace Transform:Time Shifting Property\n",
"//x(t) = exp(-a(t+1)).u(t+1)\n",
"syms t s;\n",
"a = 2;\n",
"X = laplace('%e^(-a*(t+1))',t,s);\n",
"disp(X)\n",
"//Result\n",
"//%e^-a/(s+a)    "
   ]
   }
,
{
		   "cell_type": "markdown",
		   "metadata": {},
		   "source": [
			"## Example 9.34: Unilateral_Laplace_Transform.sce"
		   ]
		  },
  {
"cell_type": "code",
	   "execution_count": null,
	   "metadata": {
	    "collapsed": true
	   },
	   "outputs": [],
"source": [
"//clear//\n",
"//Example9.34:Unilateral Laplace Transform\n",
"//x(t) = s(t)+2u(t)+e^t.u(t)\n",
"syms t s;\n",
"a = 2;\n",
"X = laplace('2+%e^(t)',t,s);\n",
"Y = 1+X;\n",
"disp(X)\n",
"disp(Y)\n",
"//Result\n",
"// (2/s)+(1/(s-1))+1  "
   ]
   }
,
{
		   "cell_type": "markdown",
		   "metadata": {},
		   "source": [
			"## Example 9.35: clear.sce"
		   ]
		  },
  {
"cell_type": "code",
	   "execution_count": null,
	   "metadata": {
	    "collapsed": true
	   },
	   "outputs": [],
"source": [
"//clear//\n",
"//Example9.35:Unilateral Inverse Laplace Transform\n",
"//X(S) = 1/((s+1)(s+2))\n",
"s = %s;\n",
"syms t;\n",
"X = 1/((s+1)*(s+2));\n",
"x = ilaplace(X,s,t);\n",
"disp(X)\n",
"disp(x)\n",
"//Result\n",
"// (%e^-t)-(%e^-(2*t)) "
   ]
   }
,
{
		   "cell_type": "markdown",
		   "metadata": {},
		   "source": [
			"## Example 9.36: clear.sce"
		   ]
		  },
  {
"cell_type": "code",
	   "execution_count": null,
	   "metadata": {
	    "collapsed": true
	   },
	   "outputs": [],
"source": [
"//clear//\n",
"//Example9.36:Unilateral  Laplace Transform\n",
"//X(S) = ((s^2)-3)/(s+2)\n",
"s = %s;\n",
"syms t;\n",
"[X] = pfss(((s^2)-3)/(s+2));\n",
"disp(X)"
   ]
   }
,
{
		   "cell_type": "markdown",
		   "metadata": {},
		   "source": [
			"## Example 9.37: clear.sce"
		   ]
		  },
  {
"cell_type": "code",
	   "execution_count": null,
	   "metadata": {
	    "collapsed": true
	   },
	   "outputs": [],
"source": [
"//clear//\n",
"//Example9.37:Unilateral  Laplace Transform:Solving Differential Equation\n",
"//Y(S) = alpha/(s(s+1)(s+2))\n",
"s = %s;\n",
"syms t;\n",
"alpha = 1;   //Alpha value assigned as some constant one\n",
"[A] = pfss(alpha/(s*(s+1)*(s+2)));\n",
"F1 = ilaplace(A(1),s,t)\n",
"F2 = ilaplace(A(2),s,t)\n",
"F3 = ilaplace(A(3),s,t)\n",
"F = F1+F2+F3\n",
"disp(F)\n",
"//result\n",
"// (-%e^-t)+((%e^-(2*t))/2)+(1/2 )"
   ]
   }
,
{
		   "cell_type": "markdown",
		   "metadata": {},
		   "source": [
			"## Example 9.38: clear.sce"
		   ]
		  },
  {
"cell_type": "code",
	   "execution_count": null,
	   "metadata": {
	    "collapsed": true
	   },
	   "outputs": [],
"source": [
"//clear//\n",
"//Example9.38:Unilateral  Laplace Transform:Solving Differential Equation\n",
"//Y(S)=[beta(s+3)/((s+1)(s+2))]+[gamma/((s+2)(s+2))]+[alpha/(s(s+1)(s+2))]\n",
"s = %s;\n",
"syms t;\n",
"alpha = 2; //input constant\n",
"beta_B = 3; //intial condition\n",
"gamma_v = -5; //initial condition\n",
"Y1 = 1/s;\n",
"Y2 = 1/(s+1);\n",
"Y3 = 3/(s+2);\n",
"Y = Y1-Y2+Y3;\n",
"disp(Y)\n",
"y = ilaplace(Y,s,t)\n",
"disp(y)\n",
"//result\n",
"// ( -%e^(-t))+3*(%e^(-(2*t)))+1   "
   ]
   }
,
{
		   "cell_type": "markdown",
		   "metadata": {},
		   "source": [
			"## Example 9.3: Lapalce_Transform_x_t_.sce"
		   ]
		  },
  {
"cell_type": "code",
	   "execution_count": null,
	   "metadata": {
	    "collapsed": true
	   },
	   "outputs": [],
"source": [
"//clear//\n",
"//Example9.3:Lapalce Transform x(t) = 3exp(-2t)u(t)-2exp(-t)u(t)\n",
"syms t s;\n",
"y = laplace('3*%e^(-2*t)-2*%e^(-t)',t,s);\n",
"disp(y)\n",
"//Result\n",
"//(3/(s+2))-(2/(s+1))  "
   ]
   }
,
{
		   "cell_type": "markdown",
		   "metadata": {},
		   "source": [
			"## Example 9.4: clear.sce"
		   ]
		  },
  {
"cell_type": "code",
	   "execution_count": null,
	   "metadata": {
	    "collapsed": true
	   },
	   "outputs": [],
"source": [
"//clear//\n",
"//Example9.4:Lapalce Transform x(t) = exp(-2t)u(t)+exp(-t)(cos3t)u(t)\n",
"syms t s;\n",
"y = laplace('%e^(-2*t)+%e^(-t)*cos(3*t)',t,s);\n",
"disp(y)\n",
"//Result\n",
"//[(s+1)/(s^2+2*s+10)]+[1/(s+2)]  refer equation 9.29\n",
"//Equivalent to (2*s^2+5*s+12)/((s^2+2*s+10)*(s+2)) refer equation 9.30"
   ]
   }
,
{
		   "cell_type": "markdown",
		   "metadata": {},
		   "source": [
			"## Example 9.5: clear.sce"
		   ]
		  },
  {
"cell_type": "code",
	   "execution_count": null,
	   "metadata": {
	    "collapsed": true
	   },
	   "outputs": [],
"source": [
"//clear//\n",
"//Example9.5:Lapalce Transform of x(t)=s(t)-(4/3)exp(-t)u(t)+(1/3)exp(2t)u(t)\n",
"syms t s;\n",
"y = laplace('-(4/3)*%e^(-t)+(1/3)*%e^(2*t)',t,s);\n",
"y = 1+y;\n",
"disp(y)\n",
"//Result\n",
"//[-4/(3*(s+1))]+[1/(3*(s-2))]+1     "
   ]
   }
,
{
		   "cell_type": "markdown",
		   "metadata": {},
		   "source": [
			"## Example 9.6: clear.sce"
		   ]
		  },
  {
"cell_type": "code",
	   "execution_count": null,
	   "metadata": {
	    "collapsed": true
	   },
	   "outputs": [],
"source": [
"//clear//\n",
"//Example9.6\n",
"//Lapalce Transform x(t) = exp(-at)u(t), 0<t<T\n",
"syms t s;\n",
"a = 3;\n",
"T = 10;\n",
"//t = T;\n",
"y = laplace('%e^(-a*t)-%e^(-a*t)*%e^(-(s+a)*T)',t,s);\n",
"disp(y)\n",
"//Result\n",
"// [1/(s+a)]-[(exp((-s-a)*T))/(s+a)] "
   ]
   }
,
{
		   "cell_type": "markdown",
		   "metadata": {},
		   "source": [
			"## Example 9.7: clear.sce"
		   ]
		  },
  {
"cell_type": "code",
	   "execution_count": null,
	   "metadata": {
	    "collapsed": true
	   },
	   "outputs": [],
"source": [
"//clear//\n",
"//Example9.7\n",
"//Lapalce Transform x(t) = exp(-b.abs(t)).u(t), 0<t<T\n",
"//x(t) = exp(-bt).u(t)+exp(bt).u(-t)\n",
"syms t s;\n",
"b = 3;\n",
"y = laplace('%e^(-b*t)-%e^(b*t)',t,s);\n",
"disp(y)\n",
"//Result\n",
"// [1/(s+b)]-[1/(s-b)] "
   ]
   }
,
{
		   "cell_type": "markdown",
		   "metadata": {},
		   "source": [
			"## Example 9.8: clear.sce"
		   ]
		  },
  {
"cell_type": "code",
	   "execution_count": null,
	   "metadata": {
	    "collapsed": true
	   },
	   "outputs": [],
"source": [
"//clear//\n",
"//Example9.8:Inverse Lapalce Transform \n",
"//X(S) = 1/((s+1)(s+2))\n",
"s =%s ;\n",
"G =syslin('c',(1/((s+1)*(s+2)))) ;\n",
"disp(G,'G( s )=')\n",
"plzr(G)\n",
"x=denom(G) ;\n",
"disp(x,'Ch a r a c t e r i s t i c s Polynomial=' )\n",
"y = roots(x) ;\n",
"disp(y,'Poles of a system=' )\n",
"//Result\n",
"// -1 and -2"
   ]
   }
,
{
		   "cell_type": "markdown",
		   "metadata": {},
		   "source": [
			"## Example 9.9: clear.sce"
		   ]
		  },
  {
"cell_type": "code",
	   "execution_count": null,
	   "metadata": {
	    "collapsed": true
	   },
	   "outputs": [],
"source": [
"//clear//\n",
"//Example9.9:Inverse Lapalce Transform \n",
"//X(S) = 1/((s+1)(s+2))\n",
"s =%s ;\n",
"syms t ;\n",
"[A]=pfss(1/((s+1)*(s+2))) //partial fraction of F(s)\n",
"F1 = ilaplace(A(1),s,t)\n",
"F2 = ilaplace(A(2),s,t)\n",
"F=F1+F2;\n",
"disp(F,'f(t)=')\n",
"//Result\n",
"// (%e^-t)-(%e^-(2*t)) "
   ]
   }
],
"metadata": {
		  "kernelspec": {
		   "display_name": "Scilab",
		   "language": "scilab",
		   "name": "scilab"
		  },
		  "language_info": {
		   "file_extension": ".sce",
		   "help_links": [
			{
			 "text": "MetaKernel Magics",
			 "url": "https://github.com/calysto/metakernel/blob/master/metakernel/magics/README.md"
			}
		   ],
		   "mimetype": "text/x-octave",
		   "name": "scilab",
		   "version": "0.7.1"
		  }
		 },
		 "nbformat": 4,
		 "nbformat_minor": 0
}
