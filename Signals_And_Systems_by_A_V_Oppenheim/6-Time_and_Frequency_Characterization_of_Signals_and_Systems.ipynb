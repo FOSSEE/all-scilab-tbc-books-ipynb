{
"cells": [
 {
		   "cell_type": "markdown",
	   "metadata": {},
	   "source": [
       "# Chapter 6: Time and Frequency Characterization of Signals and Systems"
	   ]
	},
{
		   "cell_type": "markdown",
		   "metadata": {},
		   "source": [
			"## Example 6.1: Phase_Response_and_Group_Delay.sce"
		   ]
		  },
  {
"cell_type": "code",
	   "execution_count": null,
	   "metadata": {
	    "collapsed": true
	   },
	   "outputs": [],
"source": [
"//clear//\n",
"//Example6.1:Phase Response and Group Delay\n",
"clear;\n",
"clc;\n",
"close;\n",
"f1 = 50;\n",
"f2 = 150;\n",
"f3 = 300;\n",
"w1 = 315;\n",
"tuo1 = 0.066;\n",
"w2 = 943;\n",
"tuo2 = 0.033;\n",
"w3 = 1888;\n",
"tuo3 = 0.058;\n",
"f = 0:0.1:400;\n",
"W = 2*%pi*f;\n",
"for i =1:length(f)\n",
" num1(i) = (1+(sqrt(-1)*f(i)/f1)^2-2*sqrt(-1)*tuo1*(f(i)/f1));\n",
" den1(i) = (1+(sqrt(-1)*f(i)/f1)^2+2*sqrt(-1)*tuo1*(f(i)/f1));\n",
" H1W(i) = num1(i)/den1(i);\n",
" num2(i) = (1+(sqrt(-1)*f(i)/f2)^2-2*sqrt(-1)*tuo2*(f(i)/f2));\n",
" den2(i) = (1+(sqrt(-1)*f(i)/f2)^2+2*sqrt(-1)*tuo2*(f(i)/f2));\n",
" H2W(i) = num2(i)/den2(i);\n",
" num3(i) = (1+(sqrt(-1)*f(i)/f3)^2-2*sqrt(-1)*tuo3*(f(i)/f3));\n",
" den3(i) = (1+(sqrt(-1)*f(i)/f3)^2+2*sqrt(-1)*tuo3*(f(i)/f3));\n",
" H3W(i) = num3(i)/den3(i);\n",
" H_W(i) = H1W(i)*H2W(i);\n",
" HW(i) = H_W(i)*H3W(i);\n",
"  phase1(i) = -2*atan((2*tuo1*(f(i)/f1))/(1.001-(f(i)/f1)^2));\n",
"  phase2(i) = -2*atan((2*tuo2*(f(i)/f2))/(1.001-(f(i)/f2)^2));\n",
"  phase3(i) = -2*atan((2*tuo3*(f(i)/f3))/(1.001-(f(i)/f3)^2));\n",
"  phase_total(i) = phase1(i)+phase2(i)+phase3(i);\n",
" if(f(i)<=50)\n",
"    W_phase1(i) = -2*atan((2*tuo1*(f(i)/f1))/(1.001-(f(i)/f1)^2));\n",
"    W_phase2(i) = -2*atan((2*tuo2*(f(i)/f2))/(1.001-(f(i)/f2)^2));\n",
"    W_phase3(i) = -2*atan((2*tuo3*(f(i)/f3))/(1.001-(f(i)/f3)^2));\n",
"    group_delay(i) = -phase_total(i)*0.1/%pi;  //delta_f= 0.1\n",
" elseif(f(i)>=50 & f(i)<=150)\n",
"    W_phase1(i)= -2*%pi-2*atan((2*tuo1*(f(i)/f1))/(1.001-(f(i)/f1)^2));\n",
"    W_phase2(i)= -2*atan((2*tuo2*(f(i)/f2))/(1.001-(f(i)/f2)^2));\n",
"    W_phase3(i)= -2*atan((2*tuo3*(f(i)/f3))/(1.001-(f(i)/f3)^2));\n",
"    group_delay(i) = -phase_total(i)*0.1/(2*%pi);\n",
" elseif(f(i)>=150 & f(i)<=300)\n",
"    W_phase1(i)= -2*atan((2*tuo1*(f(i)/f1))/(1.001-(f(i)/f1)^2));\n",
"    W_phase2(i)= -4*%pi-2*atan((2*tuo2*(f(i)/f2))/(1.001-(f(i)/f2)^2));\n",
"    W_phase3(i)= -2*atan((2*tuo3*(f(i)/f3))/(1.001-(f(i)/f3)^2));\n",
"    group_delay(i) = -phase_total(i)*0.1/(4*%pi);\n",
" elseif(f(i)>300 & f(i)<=400)\n",
"    W_phase1(i)= -2*atan((2*tuo1*(f(i)/f1))/(1.001-(f(i)/f1)^2));\n",
"    W_phase2(i)= -2*atan((2*tuo2*(f(i)/f2))/(1.001-(f(i)/f2)^2));\n",
"    W_phase3(i)= -6*%pi-2*atan((2*tuo3*(f(i)/f3))/(1.001-(f(i)/f3)^2));\n",
"    group_delay(i) = -phase_total(i)*0.1/(4*%pi);\n",
" end\n",
" if(f(i)==300.1)\n",
"   W_phase_total(i) = 2*%pi+W_phase1(i)+W_phase2(i)+W_phase3(i);\n",
" else\n",
"   W_phase_total(i) = W_phase1(i)+W_phase2(i)+W_phase3(i);\n",
" end\n",
"end\n",
"figure\n",
"plot2d(f,phase_total,2)\n",
"xtitle('Principal phase','Frequency(Hz)','Phase(rad)');\n",
"figure\n",
"plot2d(f,W_phase_total,2)\n",
"xtitle('unwrapped phase','Frequency(Hz)','Phase(rad)');\n",
"figure\n",
"plot2d(f,abs(group_delay),2)\n",
"xtitle('group delay','Frequency(Hz)','Group Delay(sec)');"
   ]
   }
,
{
		   "cell_type": "markdown",
		   "metadata": {},
		   "source": [
			"## Example 6.3: Analog_Lowpass_IIR_filter_design.sce"
		   ]
		  },
  {
"cell_type": "code",
	   "execution_count": null,
	   "metadata": {
	    "collapsed": true
	   },
	   "outputs": [],
"source": [
"//clear//\n",
"//Example6.3:Analog Lowpass IIR filter design\n",
"//Cutoff frequency Fc = 500Hz\n",
"//Passband ripple 1-0.05 and stopband ripple = 0.05\n",
"clear;\n",
"close;\n",
"clc;\n",
"hs_butt = analpf(5,'butt',[0.05,0.05],500);\n",
"hs_ellip = analpf(5,'ellip',[0.05,0.05],500);\n",
"fr=0:.1:2000;\n",
"hf_butt=freq(hs_butt(2),hs_butt(3),%i*fr);\n",
"hm_butt = abs(hf_butt);\n",
"hf_ellip=freq(hs_ellip(2),hs_ellip(3),%i*fr);\n",
"hm_ellip = abs(hf_ellip);\n",
"//Plotting Magnitude Response of Analog IIR Filters\n",
"a = gca();\n",
"plot2d(fr,hm_butt)\n",
"poly1 = a.children(1).children(1);\n",
"poly1.foreground = 2;\n",
"poly1.thickness = 2; \n",
"poly1.line_style = 3; \n",
"plot2d(fr,hm_ellip)\n",
"poly1 = a.children(1).children(1);\n",
"poly1.foreground = 5;\n",
"poly1.thickness = 2;\n",
"xlabel('Frequency(Hz)')\n",
"ylabel('Magnitude of frequency response')\n",
"legend(['Butterworth Filter';'Elliptic Filter'])"
   ]
   }
,
{
		   "cell_type": "markdown",
		   "metadata": {},
		   "source": [
			"## Example 6.4: Bode_Plot.sce"
		   ]
		  },
  {
"cell_type": "code",
	   "execution_count": null,
	   "metadata": {
	    "collapsed": true
	   },
	   "outputs": [],
"source": [
"//clear//\n",
"//Example 6.4:Bode Plot\n",
"s = %s;\n",
"//Open Loop Transfer Function\n",
"H = syslin('c',[20000/(s^2+100*s+10000)]);//jw replaced by s\n",
"clf;\n",
"bode(H,0.01,10000)"
   ]
   }
,
{
		   "cell_type": "markdown",
		   "metadata": {},
		   "source": [
			"## Example 6.5: Bode_Plot.sce"
		   ]
		  },
  {
"cell_type": "code",
	   "execution_count": null,
	   "metadata": {
	    "collapsed": true
	   },
	   "outputs": [],
"source": [
"//clear//\n",
"//Example 6.5:Bode Plot\n",
"s = %s;\n",
"//Open Loop Transfer Function\n",
"H = syslin('c',[(100*(1+s))/((10+s)*(100+s))]);//jw replaced by s\n",
"clf;\n",
"bode(H,0.01,10000)"
   ]
   }
],
"metadata": {
		  "kernelspec": {
		   "display_name": "Scilab",
		   "language": "scilab",
		   "name": "scilab"
		  },
		  "language_info": {
		   "file_extension": ".sce",
		   "help_links": [
			{
			 "text": "MetaKernel Magics",
			 "url": "https://github.com/calysto/metakernel/blob/master/metakernel/magics/README.md"
			}
		   ],
		   "mimetype": "text/x-octave",
		   "name": "scilab",
		   "version": "0.7.1"
		  }
		 },
		 "nbformat": 4,
		 "nbformat_minor": 0
}
