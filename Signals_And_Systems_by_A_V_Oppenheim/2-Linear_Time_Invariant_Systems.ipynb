{
"cells": [
 {
		   "cell_type": "markdown",
	   "metadata": {},
	   "source": [
       "# Chapter 2: Linear Time Invariant Systems"
	   ]
	},
{
		   "cell_type": "markdown",
		   "metadata": {},
		   "source": [
			"## Example 2.1: Linear_Convolution_Sum.sce"
		   ]
		  },
  {
"cell_type": "code",
	   "execution_count": null,
	   "metadata": {
	    "collapsed": true
	   },
	   "outputs": [],
"source": [
"//clear//\n",
"//Example 2.1:Linear Convolution Sum\n",
"//page 80\n",
"clear;\n",
"close;\n",
"clc;\n",
"h = [0,0,1,1,1,0,0];\n",
"N1 = -2:4;\n",
"x = [0,0,0.5,2,0,0,0];\n",
"N2 = -2:4;\n",
"y = convol(x,h);\n",
"for i = 1:length(y)\n",
"  if (y(i)<=0.0001)\n",
"    y(i)=0;\n",
"  end\n",
"end\n",
"N = -4:8;\n",
"figure\n",
"a=gca();\n",
"plot2d3('gnn',N1,h) \n",
"xtitle('Impulse Response','n','h[n]');\n",
"a.thickness = 2;\n",
"figure\n",
"a=gca();\n",
"plot2d3('gnn',N2,x) \n",
"xtitle('Input Response','n','x[n]');\n",
"a.thickness = 2;\n",
"figure\n",
"a=gca();\n",
"plot2d3('gnn',N,y) \n",
"xtitle('Output Response','n','y[n]');\n",
"a.thickness = 2;"
   ]
   }
,
{
		   "cell_type": "markdown",
		   "metadata": {},
		   "source": [
			"## Example 2.3: Convolution_of_x_n_and_Unit_Impulse_response_h_n_.sce"
		   ]
		  },
  {
"cell_type": "code",
	   "execution_count": null,
	   "metadata": {
	    "collapsed": true
	   },
	   "outputs": [],
"source": [
"//clear//\n",
"//Example 2.3:Convolution Sum:Convolution of x[n] and\n",
"//Unit Impulse response h[n]\n",
"clear;\n",
"close;\n",
"clc;\n",
"Max_Limit = 10;\n",
"h = ones(1,Max_Limit);\n",
"N1 = 0:Max_Limit-1;\n",
"Alpha = 0.5;    //alpha < 1\n",
"for n = 1:Max_Limit\n",
"  x(n)= (Alpha^(n-1))*1;\n",
"end\n",
"N2 = 0:Max_Limit-1;\n",
"y = convol(x,h);\n",
"N = 0:2*Max_Limit-2;\n",
"figure\n",
"a=gca();\n",
"plot2d3('gnn',N1,h) \n",
"xtitle('Impulse Response Fig 2.5.(b)','n','h[n]');\n",
"a.thickness = 2;\n",
"figure\n",
"a=gca();\n",
"plot2d3('gnn',N2,x) \n",
"xtitle('Input Response Fig 2.5.(a)','n','x[n]');\n",
"a.thickness = 2;\n",
"figure\n",
"a=gca();\n",
"plot2d3('gnn',N(1:Max_Limit),y(1:Max_Limit),5) \n",
"xtitle('Output Response Fig 2.7','n','y[n]');\n",
"a.thickness = 2;"
   ]
   }
,
{
		   "cell_type": "markdown",
		   "metadata": {},
		   "source": [
			"## Example 2.4: Convolution_Sum_of_finite_duration_sequences.sce"
		   ]
		  },
  {
"cell_type": "code",
	   "execution_count": null,
	   "metadata": {
	    "collapsed": true
	   },
	   "outputs": [],
"source": [
"//clear//\n",
"//Example 2.4:Convolution Sum of finite duration sequences\n",
"clear;\n",
"close;\n",
"clc;\n",
"x = ones(1,5);\n",
"N1 =0:length(x)-1;\n",
"Alpha = 1.4;    //alpha > 1\n",
"for n = 1:7\n",
"  h(n)= (Alpha^(n-1))*1;\n",
"end\n",
"N2 =0:length(h)-1;\n",
"y = convol(x,h);\n",
"N = 0:length(x)+length(h)-2;\n",
"figure\n",
"a=gca();\n",
"plot2d3('gnn',N2,h) \n",
"xtitle('Impulse Response','n','h[n]');\n",
"a.thickness = 2;\n",
"figure\n",
"a=gca();\n",
"plot2d3('gnn',N1,x) \n",
"xtitle('Input Response','n','x[n]');\n",
"a.thickness = 2;\n",
"figure\n",
"a=gca();\n",
"plot2d3('gnn',N,y) \n",
"xtitle('Output Response','n','y[n]');\n",
"a.thickness = 2;"
   ]
   }
,
{
		   "cell_type": "markdown",
		   "metadata": {},
		   "source": [
			"## Example 2.5: Convolution_Sum_of_input_sequence.sce"
		   ]
		  },
  {
"cell_type": "code",
	   "execution_count": null,
	   "metadata": {
	    "collapsed": true
	   },
	   "outputs": [],
"source": [
"//clear//\n",
"//Example 2.5:Convolution Sum of input sequence x[n]=(2^n).u[-n]\n",
"//and h[n] = u[n]\n",
"clear;\n",
"close;\n",
"clc;\n",
"Max_Limit = 10;\n",
"h = ones(1,Max_Limit);\n",
"N2 =0:length(h)-1;\n",
"for n = 1:Max_Limit\n",
"  x1(n)= (2^(-(n-1)))*1;\n",
"end\n",
"x = x1($:-1:1);\n",
"N1 = -length(x)+1:0;\n",
"y = convol(x,h);\n",
"N = -length(x)+1:length(h)-1;\n",
"figure\n",
"a=gca();\n",
"plot2d3('gnn',N2,h) \n",
"xtitle('Impulse Response','n','h[n]');\n",
"a.thickness = 2;\n",
"figure\n",
"a=gca();\n",
"a.y_location = 'origin';\n",
"plot2d3('gnn',N1,x) \n",
"xtitle('Input Response Fig 2.11(a)','n','x[n]');\n",
"a.thickness = 2;\n",
"figure\n",
"a=gca();\n",
"a.y_location ='origin';\n",
"plot2d3('gnn',N,y) \n",
"xtitle('Output Response Fig 2.11(b)','n','y[n]');\n",
"a.thickness = 2;"
   ]
   }
,
{
		   "cell_type": "markdown",
		   "metadata": {},
		   "source": [
			"## Example 2.6: Convolution_Integral_of_input.sce"
		   ]
		  },
  {
"cell_type": "code",
	   "execution_count": null,
	   "metadata": {
	    "collapsed": true
	   },
	   "outputs": [],
"source": [
"//clear//\n",
"//Example 2.6:Convolution Integral of input x(t) = (e^-at).u(t)\n",
"//and h(t) =u(t)\n",
"clear;\n",
"close;\n",
"clc;\n",
"Max_Limit = 10;\n",
"h = ones(1,Max_Limit);\n",
"N2 =0:length(h)-1;\n",
"a = 0.5;  //constant a>0\n",
"for t = 1:Max_Limit\n",
"  x(t)= exp(-a*(t-1));\n",
"end\n",
"N1 =0:length(x)-1;\n",
"y = convol(x,h)-1;\n",
"N = 0:length(x)+length(h)-2;\n",
"figure\n",
"a=gca();\n",
"plot2d(N2,h) \n",
"xtitle('Impulse Response','t','h(t)');\n",
"a.thickness = 2;\n",
"figure\n",
"a=gca();\n",
"plot2d(N1,x) \n",
"xtitle('Input Response','t','x(t)');\n",
"a.thickness = 2;\n",
"figure\n",
"a=gca();\n",
"plot2d(N(1:Max_Limit),y(1:Max_Limit)) \n",
"xtitle('Output Response','t','y(t)');\n",
"a.thickness = 2;"
   ]
   }
,
{
		   "cell_type": "markdown",
		   "metadata": {},
		   "source": [
			"## Example 2.7: Convolution_Integral_of_fintie_duration_signals.sce"
		   ]
		  },
  {
"cell_type": "code",
	   "execution_count": null,
	   "metadata": {
	    "collapsed": true
	   },
	   "outputs": [],
"source": [
"//clear//\n",
"//Example 2.7:Convolution Integral of fintie duration signals\n",
"//page99\n",
"clear;\n",
"close;\n",
"clc;\n",
"T = 10;\n",
"x = ones(1,T);  //Input Response\n",
"for t = 1:2*T\n",
"  h(t) = t-1;    //Impulse Response\n",
"end\n",
"N1 = 0:length(x)-1;\n",
"N2 = 0:length(h)-1;\n",
"y = convol(x,h);\n",
"N = 0:length(x)+length(h)-2;\n",
"figure\n",
"a=gca();\n",
"a.x_location='origin';\n",
"plot2d(N2,h) \n",
"xtitle('Impulse Response','t','h(t)');\n",
"a.thickness = 2;\n",
"figure\n",
"a=gca();\n",
"plot2d(N1,x) \n",
"xtitle('Input Response','t','x(t)');\n",
"a.thickness = 2;\n",
"figure\n",
"a=gca();\n",
"plot2d(N,y) \n",
"xtitle('Output Response','t','y(t)');\n",
"a.thickness = 2;"
   ]
   }
,
{
		   "cell_type": "markdown",
		   "metadata": {},
		   "source": [
			"## Example 2.8: Convolution_Integral_of_input.sce"
		   ]
		  },
  {
"cell_type": "code",
	   "execution_count": null,
	   "metadata": {
	    "collapsed": true
	   },
	   "outputs": [],
"source": [
"//clear//\n",
"//Example 2.8:Convolution Integral of input x(t)=(e^2t).u(-t) and\n",
"//h(t) = u(t-3)\n",
"clear;\n",
"close;\n",
"clc;\n",
"Max_Limit = 10;\n",
"h =[0,0,0,ones(1,Max_Limit-3)]; //h(n-3)\n",
"a = 2;\n",
"t = -9:0;\n",
"x= exp(a*t);\n",
"//x = x1($:-1:1)\n",
"N2 = 0:length(h)-1;\n",
"N1 = -length(x)+1:0;\n",
"t1 = -6:3;\n",
"y1 = (1/a)*exp(a*(t1-3));\n",
"y2 = (1/a)*ones(1,Max_Limit);\n",
"y = [y1 y2]\n",
"N = -length(h)+1:length(x)-1;\n",
"figure\n",
"a=gca();\n",
"a.x_location='origin';\n",
"a.y_location='origin';\n",
"plot2d(-Max_Limit+1:0,h($:-1:1)) \n",
"xtitle('Impulse Response','t','h(t-T)');\n",
"a.thickness = 2;\n",
"figure\n",
"a=gca();\n",
"a.y_location = 'origin';\n",
"plot2d(t,x) \n",
"xtitle('Input Response','t','x(t)');\n",
"a.thickness = 2;\n",
"figure\n",
"a=gca();\n",
"a.y_location = 'origin';\n",
"a.x_location = 'origin';\n",
"a.data_bounds=[-10,0;13,1];\n",
"plot2d(-Max_Limit+4:Max_Limit+3,y) \n",
"xtitle('Output Response','t','y(t)');\n",
"a.thickness = 2;"
   ]
   }
],
"metadata": {
		  "kernelspec": {
		   "display_name": "Scilab",
		   "language": "scilab",
		   "name": "scilab"
		  },
		  "language_info": {
		   "file_extension": ".sce",
		   "help_links": [
			{
			 "text": "MetaKernel Magics",
			 "url": "https://github.com/calysto/metakernel/blob/master/metakernel/magics/README.md"
			}
		   ],
		   "mimetype": "text/x-octave",
		   "name": "scilab",
		   "version": "0.7.1"
		  }
		 },
		 "nbformat": 4,
		 "nbformat_minor": 0
}
