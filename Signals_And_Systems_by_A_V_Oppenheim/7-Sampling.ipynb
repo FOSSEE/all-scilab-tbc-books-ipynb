{
"cells": [
 {
		   "cell_type": "markdown",
	   "metadata": {},
	   "source": [
       "# Chapter 7: Sampling"
	   ]
	},
{
		   "cell_type": "markdown",
		   "metadata": {},
		   "source": [
			"## Example 7.1: Sinusoidal_signal.sce"
		   ]
		  },
  {
"cell_type": "code",
	   "execution_count": null,
	   "metadata": {
	    "collapsed": true
	   },
	   "outputs": [],
"source": [
"//clear//\n",
"//Example7.1:Sinusoidal signal\n",
"clear;\n",
"close;\n",
"clc;\n",
"Wm = 2*%pi;\n",
"Ws = 2*Wm;\n",
"t = -2:0.01:2;\n",
"phi = -%pi/2;\n",
"x = cos((Ws/2)*t+phi);\n",
"y = sin((Ws/2)*t);\n",
"subplot(2,1,1)\n",
"a = gca();\n",
"a.x_location = 'origin';\n",
"a.y_location = 'origin';\n",
"plot(t,x)\n",
"title('cos(Ws/2*t+phi)')\n",
"subplot(2,1,2)\n",
"a = gca();\n",
"a.x_location = 'origin';\n",
"a.y_location = 'origin';\n",
"plot(t,y)\n",
"title('sin(Ws/2*t)')"
   ]
   }
,
{
		   "cell_type": "markdown",
		   "metadata": {},
		   "source": [
			"## Example 7.2: Digital_Differentiator.sce"
		   ]
		  },
  {
"cell_type": "code",
	   "execution_count": null,
	   "metadata": {
	    "collapsed": true
	   },
	   "outputs": [],
"source": [
"//clear//\n",
"//Example7.2:Digital Differentiator\n",
"syms t n;\n",
"T = 0.1; //Sampling time in seconds\n",
"xct = sin(%pi*t/T)/(%pi*t);\n",
"yct  = diff(xct,t);\n",
"disp(yct,'yc(t)=');\n",
"t = n*T;\n",
"xdn = sin(%pi*t/T)/(%pi*t);\n",
"ydn = diff(xdn,n);\n",
"disp(ydn,'yd[n]=');\n",
"hdn = T*ydn;\n",
"disp(hdn,'hd[n]=');\n",
"//Result\n",
"//yc(t) = (10*cos(31.415927*t)/t)-(0.3183099*sin(31.415927*t)/(t^2))\n",
"//yd[n]=(10*cos(3.1415927*n)/n)-3.183*sin(3.1415927*n)/(n^2)\n",
"//hd[n]=(cos(3.1415927*n)/n)-0.3183*sin(3.1415927*n)/(n^2)"
   ]
   }
,
{
		   "cell_type": "markdown",
		   "metadata": {},
		   "source": [
			"## Example 7.3: Half_Sample_Delay_system.sce"
		   ]
		  },
  {
"cell_type": "code",
	   "execution_count": null,
	   "metadata": {
	    "collapsed": true
	   },
	   "outputs": [],
"source": [
"//clear//\n",
"//Example7.3:Half Sample Delay system\n",
"syms t n T;\n",
"//T = 0.1; //Sampling time in seconds\n",
"xct = sin(%pi*t/T)/(%pi*t);\n",
"t = t-T/2;\n",
"yct_del  = sin(%pi*t/T)/(%pi*t);\n",
"disp(yct_del,'Output of Half Sample delay system continuous =');\n",
"t = n*T-T/2;\n",
"xdn = sin(%pi*t/T)/(%pi*t);\n",
"ydn_del = xdn;\n",
"disp(ydn_del,'Output of Half Sample delay system discrete =');\n",
"hdn = T*ydn_del;\n",
"disp(hdn,'Impulse Response of discrete time half sample delay system=');\n",
"//Result\n",
"//Output of Half Sample delay system continuous = \n",
"//sin(3.14*(t-T/2)/T)/(3.14*(t-T/2))  \n",
"//Output of Half Sample delay system discrete =   \n",
"// sin(3.14*(n*T-T/2)/T)/(3.14*(n*T-T/2))  \n",
"// Impulse Response of discrete time half sample delay system=   \n",
"// T*sin(3.14*(n*T-T/2)/T)/(3.14*(n*T-T/2))   "
   ]
   }
,
{
		   "cell_type": "markdown",
		   "metadata": {},
		   "source": [
			"## Example 7.4: Period_of_the_sampled_signal_and_Sampling_frequency.sce"
		   ]
		  },
  {
"cell_type": "code",
	   "execution_count": null,
	   "metadata": {
	    "collapsed": true
	   },
	   "outputs": [],
"source": [
"//clear//\n",
"//Example7.4:Finding the period of the sampled signal\n",
"//and Sampling frequency\n",
"clear;\n",
"close;\n",
"clc;\n",
"Wm = 2*%pi/9;\n",
"N = floor(2*%pi/(2*Wm))\n",
"disp(N,'Period of the discrete signal')\n",
"Ws = 2*%pi/N;\n",
"disp(Ws,'The Sampling frequency corresponding to the period N')"
   ]
   }
,
{
		   "cell_type": "markdown",
		   "metadata": {},
		   "source": [
			"## Example 7.5: Multirate_Signal_Processing.sce"
		   ]
		  },
  {
"cell_type": "code",
	   "execution_count": null,
	   "metadata": {
	    "collapsed": true
	   },
	   "outputs": [],
"source": [
"//clear//\n",
"//Example7.5:Multirate Signal Processing:Sampling Rate Conversion\n",
"//(1)Downsampling by 4\n",
"//(2)Upsampling by 2\n",
"//(3)Upsampling by 2 and followed by downsampling by 9\n",
"clear;\n",
"close;\n",
"clc;\n",
"Wm = 2*%pi/9;//Maximum frequency of signal\n",
"Ws = 2*Wm;   //Sampling frequency\n",
"N = floor(2*%pi/Ws);//period of discrete signal\n",
"//Original discrete time signal generation and Magnitude response\n",
"n = 0:0.01:N;\n",
"x = sin(Wm*n);\n",
"Wmax = 2*%pi/9;\n",
"K = 4;\n",
"k = 0:(K/1000):K;\n",
"W = k*Wmax/K;\n",
"XW = x* exp(-sqrt(-1)*n'*W);\n",
"XW_Mag = real(XW);\n",
"XW_Mag = XW_Mag/max(XW_Mag);\n",
"W = [-mtlb_fliplr(W), W(2:1001)]; // Omega from -Wmax to Wmax\n",
"XW_Mag = [mtlb_fliplr(XW_Mag), XW_Mag(2:1001)];\n",
"//(1)downsampling by 4 and corresponding magnitude response\n",
"n1 = 0:0.01:N/4;\n",
"y = x(1:4:length(x));\n",
"k1 = 0:(K/2000):K;\n",
"W1 = k1*4*Wmax/K;\n",
"XW4 = y* exp(-sqrt(-1)*n1'*W1);\n",
"XW4_Mag = real(XW4);\n",
"XW4_Mag = XW4_Mag/max(XW4_Mag);\n",
"W1 = [-mtlb_fliplr(W1), W1(2:$)]; // Omega from -Wmax to Wmax\n",
"XW4_Mag = [mtlb_fliplr(XW4_Mag), XW4_Mag(2:$)];\n",
"//(2)Upsampling by 2 and corresponding magnitude response\n",
"n2 = 0:0.01:2*N;\n",
"z = zeros(1,length(n2));\n",
"z([1:2:length(z)]) = x;\n",
"k2 = 0:(K/500):K;\n",
"W2 = k2*Wmax/(2*K);\n",
"XW2 = z* exp(-sqrt(-1)*n2'*W2);\n",
"XW2_Mag = real(XW2);\n",
"XW2_Mag = XW2_Mag/max(XW2_Mag);\n",
"W2 = [-mtlb_fliplr(W2), W2(2:$)]; // Omega from -Wmax to Wmax\n",
"XW2_Mag = [mtlb_fliplr(XW2_Mag), XW2_Mag(2:$)];\n",
"//(3)Upsampling by 2 and Downsampling by 9 corresponding magnitude response\n",
"n3 = 0:0.01:2*N/9;\n",
"g = z([1:9:length(z)]);\n",
"k3 = 0:K/(9*500):K;\n",
"W3 = k3*9*Wmax/(2*K);\n",
"XW3 = g* exp(-sqrt(-1)*n3'*W3);\n",
"XW3_Mag = real(XW3);\n",
"XW3_Mag = XW3_Mag/max(XW3_Mag);\n",
"W3 = [-mtlb_fliplr(W3), W3(2:$)]; // Omega from -Wmax to Wmax\n",
"XW3_Mag = [mtlb_fliplr(XW3_Mag), XW3_Mag(2:$)];\n",
"//\n",
"figure\n",
"subplot(2,2,1)\n",
"a = gca();\n",
"a.y_location ='origin';\n",
"a.x_location ='origin';\n",
"a.data_bounds =[-%pi,0;%pi,1.5];\n",
"plot2d(W,XW_Mag,5);\n",
"title('Spectrum of Discrete Signal X(exp(jW))')\n",
"subplot(2,2,2)\n",
"a = gca();\n",
"a.y_location ='origin';\n",
"a.x_location ='origin';\n",
"a.data_bounds =[-%pi,0;%pi,1.5];\n",
"plot2d(W1,XW4_Mag,5);\n",
"title('Spectrum of downsampled signal by 4 X(exp(jW/4))')\n",
"subplot(2,2,3)\n",
"a = gca();\n",
"a.y_location ='origin';\n",
"a.x_location ='origin';\n",
"a.data_bounds =[-%pi,0;%pi,1.5];\n",
"plot2d(W2,XW2_Mag,5);\n",
"title('Spectrum of Upsampled signal by 2  X(exp(2jW))')\n",
"subplot(2,2,4)\n",
"a = gca();\n",
"a.y_location ='origin';\n",
"a.x_location ='origin';\n",
"a.data_bounds =[-%pi,0;%pi,1.5];\n",
"plot2d(W3,XW3_Mag,5);\n",
"title('Spectrum of Upsampled by 2 and Downsampled by 9  X(exp(2jW/9))')"
   ]
   }
],
"metadata": {
		  "kernelspec": {
		   "display_name": "Scilab",
		   "language": "scilab",
		   "name": "scilab"
		  },
		  "language_info": {
		   "file_extension": ".sce",
		   "help_links": [
			{
			 "text": "MetaKernel Magics",
			 "url": "https://github.com/calysto/metakernel/blob/master/metakernel/magics/README.md"
			}
		   ],
		   "mimetype": "text/x-octave",
		   "name": "scilab",
		   "version": "0.7.1"
		  }
		 },
		 "nbformat": 4,
		 "nbformat_minor": 0
}
