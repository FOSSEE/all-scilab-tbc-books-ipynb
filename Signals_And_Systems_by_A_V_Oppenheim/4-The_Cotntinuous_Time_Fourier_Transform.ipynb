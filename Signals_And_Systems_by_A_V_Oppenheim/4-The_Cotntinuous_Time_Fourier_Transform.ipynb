{
"cells": [
 {
		   "cell_type": "markdown",
	   "metadata": {},
	   "source": [
       "# Chapter 4: The Cotntinuous Time Fourier Transform"
	   ]
	},
{
		   "cell_type": "markdown",
		   "metadata": {},
		   "source": [
			"## Example 4.12: clear.sce"
		   ]
		  },
  {
"cell_type": "code",
	   "execution_count": null,
	   "metadata": {
	    "collapsed": true
	   },
	   "outputs": [],
"source": [
"//clear//\n",
"//Example 4.12:Continuous Time Fourier Transform: \n",
"//Derivative property\n",
"clear;\n",
"clc;\n",
"close;\n",
"// CTFT\n",
"t = -1:0.1:1;\n",
"x1 = ones(1,length(t));\n",
"x2 = [-1,zeros(1,length(t)-2),-1];\n",
"x = t;\n",
"//differentiation of x can be expressed as\n",
"//summation of x1 and x2\n",
"subplot(3,1,1)\n",
"a = gca();\n",
"a.x_location = 'origin';\n",
"a.y_location = 'origin';\n",
"plot(t,x1)\n",
"xtitle('x1(t)')\n",
"subplot(3,1,2)\n",
"a = gca();\n",
"a.x_location = 'origin';\n",
"a.y_location = 'origin';\n",
"plot2d3('gnn',t,x2)\n",
"xtitle('x2(t)')\n",
"subplot(3,1,3)\n",
"a = gca();\n",
"a.x_location = 'origin';\n",
"a.y_location = 'origin';\n",
"plot(t,x)\n",
"xtitle('x(t)')"
   ]
   }
,
{
		   "cell_type": "markdown",
		   "metadata": {},
		   "source": [
			"## Example 4.18: clear.sce"
		   ]
		  },
  {
"cell_type": "code",
	   "execution_count": null,
	   "metadata": {
	    "collapsed": true
	   },
	   "outputs": [],
"source": [
"//clear//\n",
"//Example 4.18:Frequency Response of Ideal Low pass Filter\n",
"// X(jW)= 1, from -T1 to T1\n",
"clear;\n",
"clc;\n",
"close;\n",
"Wc = 10;    //1 rad/sec\n",
"W  = -Wc:0.1:Wc; //Passband of filter\n",
"HW0 = 1; //Magnitude of Filter\n",
"HW = HW0*ones(1,length(W));\n",
"//Inverse Continuous-time Fourier Transform\n",
"t = -%pi:%pi/length(W):%pi;\n",
"Dw = 0.1;\n",
"ht =(1/(2*%pi))*HW *exp(sqrt(-1)*W'*t)*Dw;\n",
"ht = real(ht);\n",
"figure\n",
"subplot(2,1,1)\n",
"a = gca();\n",
"a.y_location ='origin';\n",
"a.x_location ='origin';\n",
"plot(W,HW);\n",
"xtitle('Frequency Response of Filter H(jW)')\n",
"subplot(2,1,2)\n",
"a = gca();\n",
"a.y_location ='origin';\n",
"a.x_location ='origin';\n",
"plot(t,ht);\n",
"xtitle('Impulse Response of Filter h(t)')"
   ]
   }
,
{
		   "cell_type": "markdown",
		   "metadata": {},
		   "source": [
			"## Example 4.1: clear.sce"
		   ]
		  },
  {
"cell_type": "code",
	   "execution_count": null,
	   "metadata": {
	    "collapsed": true
	   },
	   "outputs": [],
"source": [
"//clear//\n",
"//Example 4.1:Continuous Time Fourier Transform of a\n",
"//Continuous Time Signal x(t)= exp(-A*t)u(t), t>0\n",
"clear;\n",
"clc;\n",
"close;\n",
"// Analog Signal\n",
"A =1;    //Amplitude\n",
"Dt = 0.005;\n",
"t = 0:Dt:10;\n",
"xt = exp(-A*t);\n",
"//\n",
"// Continuous-time Fourier Transform\n",
"Wmax = 2*%pi*1;        //Analog Frequency = 1Hz\n",
"K = 4;\n",
"k = 0:(K/1000):K;\n",
"W = k*Wmax/K;\n",
"XW = xt* exp(-sqrt(-1)*t'*W) * Dt;\n",
"XW_Mag = abs(XW);\n",
"W = [-mtlb_fliplr(W), W(2:1001)]; // Omega from -Wmax to Wmax\n",
"XW_Mag = [mtlb_fliplr(XW_Mag), XW_Mag(2:1001)];\n",
"[XW_Phase,db] = phasemag(XW);\n",
"XW_Phase = [-mtlb_fliplr(XW_Phase),XW_Phase(2:1001)];\n",
"//Plotting Continuous Time Signal\n",
"figure\n",
"a = gca();\n",
"a.y_location = 'origin';\n",
"plot(t,xt);\n",
"xlabel('t in sec.');\n",
"ylabel('x(t)')\n",
"title('Continuous Time Signal')\n",
"figure\n",
"//Plotting Magnitude Response of CTS\n",
"subplot(2,1,1);\n",
"a = gca();\n",
"a.y_location = 'origin';\n",
"plot(W,XW_Mag);\n",
"xlabel('Frequency in Radians/Seconds---> W');\n",
"ylabel('abs(X(jW))')\n",
"title('Magnitude Response (CTFT)')\n",
"//Plotting Phase Reponse of CTS\n",
"subplot(2,1,2);\n",
"a = gca();\n",
"a.y_location = 'origin';\n",
"a.x_location = 'origin';\n",
"plot(W,XW_Phase*%pi/180);\n",
"xlabel('                         Frequency in Radians/Seconds---> W');\n",
"ylabel('                                                <X(jW)')\n",
"title('Phase Response(CTFT) in Radians')"
   ]
   }
,
{
		   "cell_type": "markdown",
		   "metadata": {},
		   "source": [
			"## Example 4.22: clear.sce"
		   ]
		  },
  {
"cell_type": "code",
	   "execution_count": null,
	   "metadata": {
	    "collapsed": true
	   },
	   "outputs": [],
"source": [
"//clear//\n",
"//Figure 4.22\n",
"//Plotting Continuous Time Fourier Transform of\n",
"//Impulse Response h(t)= exp(-A*t)u(t), t>0\n",
"clear;\n",
"clc;\n",
"close;\n",
"// Analog Signal\n",
"A =1;    //Amplitude\n",
"Dt = 0.005;\n",
"t = 0:Dt:10;\n",
"ht = exp(-A*t);\n",
"// Continuous-time Fourier Transform\n",
"Wmax = 2*%pi*1;        //Analog Frequency = 1Hz\n",
"K = 4;\n",
"k = 0:(K/1000):K;\n",
"W = k*Wmax/K;\n",
"HW = ht* exp(-sqrt(-1)*t'*W) * Dt;\n",
"HW_Mag = abs(HW);\n",
"W = [-mtlb_fliplr(W), W(2:1001)]; // Omega from -Wmax to Wmax\n",
"HW_Mag = [mtlb_fliplr(HW_Mag), HW_Mag(2:1001)];\n",
"//Plotting Continuous Time Signal\n",
"figure\n",
"a = gca();\n",
"a.y_location = 'origin';\n",
"plot(t,ht);\n",
"xlabel('t in sec.');\n",
"title('Impulse Response h(t)')\n",
"figure\n",
"//Plotting Magnitude Response of CTS\n",
"a = gca();\n",
"a.y_location = 'origin';\n",
"plot(W,HW_Mag);\n",
"xlabel('Frequency in Radians/Seconds---> W');\n",
"title('Frequency Response H(jW)')"
   ]
   }
,
{
		   "cell_type": "markdown",
		   "metadata": {},
		   "source": [
			"## Example 4.23: clear.sce"
		   ]
		  },
  {
"cell_type": "code",
	   "execution_count": null,
	   "metadata": {
	    "collapsed": true
	   },
	   "outputs": [],
"source": [
"//Figure 4.23:Multiplication Property of CTFT\n",
"clear;\n",
"clc;\n",
"close;\n",
"W1 = -1:0.1:1;\n",
"W2 = -2:0.1:2;\n",
"W = -3:0.1:3;\n",
"//Fourier Transform of sinc funcion is square wave\n",
"XW1 = (1/%pi)*ones(1,length(W1)); //CTFT of x1(t)\n",
"XW2 = (1/(2*%pi))*ones(1,length(W2));//CTFT of x2(t)\n",
"XW = (1/2)*convol(XW1,XW2);//CTFT of x(t)=x1(t)*x2(t)\n",
"//X(jw) = linear convolution of X1(jw)and X2(jw)\n",
"figure\n",
"a = gca();\n",
"a.y_location = 'origin';\n",
"a.x_location = 'origin';\n",
"plot(W,XW);\n",
"xlabel('Frequency in Radians/Seconds---> W');\n",
"title('Multiplication Property X(jW)')"
   ]
   }
,
{
		   "cell_type": "markdown",
		   "metadata": {},
		   "source": [
			"## Example 4.2: clear.sce"
		   ]
		  },
  {
"cell_type": "code",
	   "execution_count": null,
	   "metadata": {
	    "collapsed": true
	   },
	   "outputs": [],
"source": [
"//clear//\n",
"//Example 4.2:Continuous Time Fourier Transform of a\n",
"//Continuous Time Signal x(t)= exp(-A*abs(t))\n",
"clear;\n",
"clc;\n",
"close;\n",
"// Analog Signal\n",
"A =1;    //Amplitude\n",
"Dt = 0.005;\n",
"t = -4.5:Dt:4.5;\n",
"xt = exp(-A*abs(t));\n",
"//\n",
"// Continuous-time Fourier Transform\n",
"Wmax = 2*%pi*1;        //Analog Frequency = 1Hz\n",
"K = 4;\n",
"k = 0:(K/1000):K;\n",
"W = k*Wmax/K;\n",
"XW = xt* exp(-sqrt(-1)*t'*W) * Dt;\n",
"XW = real(XW);\n",
"W = [-mtlb_fliplr(W), W(2:1001)]; // Omega from -Wmax to Wmax\n",
"XW = [mtlb_fliplr(XW), XW(2:1001)];\n",
"subplot(1,1,1)\n",
"subplot(2,1,1);\n",
"a = gca();\n",
"a.y_location = 'origin';\n",
"plot(t,xt);\n",
"xlabel('t in sec.');\n",
"ylabel('x(t)')\n",
"title('Continuous Time Signal')\n",
"subplot(2,1,2);\n",
"a = gca();\n",
"a.y_location = 'origin';\n",
"plot(W,XW);\n",
"xlabel('Frequency in Radians/Seconds W');\n",
"ylabel('X(jW)')\n",
"title('Continuous-time Fourier Transform')"
   ]
   }
,
{
		   "cell_type": "markdown",
		   "metadata": {},
		   "source": [
			"## Example 4.4: clear.sce"
		   ]
		  },
  {
"cell_type": "code",
	   "execution_count": null,
	   "metadata": {
	    "collapsed": true
	   },
	   "outputs": [],
"source": [
"//clear//\n",
"//Example 4.4\n",
"// Continuous Time Fourier Transform\n",
"//and Frequency Response of a Square Waveform\n",
"// x(t)= A, from -T1 to T1\n",
"clear;\n",
"clc;\n",
"close;\n",
"// CTS Signal\n",
"A =1;    //Amplitude\n",
"Dt = 0.005;\n",
"T1 = 4;  //Time in seconds\n",
"t = -T1/2:Dt:T1/2;\n",
"for i = 1:length(t)\n",
"  xt(i) = A;\n",
"end\n",
"//\n",
"// Continuous-time Fourier Transform\n",
"Wmax = 2*%pi*1;        //Analog Frequency = 1Hz\n",
"K = 4;\n",
"k = 0:(K/1000):K;\n",
"W = k*Wmax/K;\n",
"xt = xt';\n",
"XW = xt* exp(-sqrt(-1)*t'*W) * Dt;\n",
"XW_Mag = real(XW);\n",
"W = [-mtlb_fliplr(W), W(2:1001)]; // Omega from -Wmax to Wmax\n",
"XW_Mag = [mtlb_fliplr(XW_Mag), XW_Mag(2:1001)];\n",
"//\n",
"subplot(2,1,1);\n",
"a = gca();\n",
"a.data_bounds=[-4,0;4,2];\n",
"a.y_location ='origin';\n",
"plot(t,xt);\n",
"xlabel('t in msec.');\n",
"title('Contiuous Time Signal x(t)')\n",
"subplot(2,1,2);\n",
"a = gca();\n",
"a.y_location ='origin';\n",
"plot(W,XW_Mag);\n",
"xlabel('Frequency in Radians/Seconds');\n",
"title('Continuous-time Fourier Transform  X(jW)')"
   ]
   }
,
{
		   "cell_type": "markdown",
		   "metadata": {},
		   "source": [
			"## Example 4.5: clear.sce"
		   ]
		  },
  {
"cell_type": "code",
	   "execution_count": null,
	   "metadata": {
	    "collapsed": true
	   },
	   "outputs": [],
"source": [
"//clear//\n",
"//Example 4.5\n",
"// Inverse Continuous Time Fourier Transform\n",
"// X(jW)= 1, from -T1 to T1\n",
"clear;\n",
"clc;\n",
"close;\n",
"// CTFT\n",
"A =1;    //Amplitude\n",
"Dw = 0.005;\n",
"W1 = 4;  //Time in seconds\n",
"w = -W1/2:Dw:W1/2;\n",
"for i = 1:length(w)\n",
"  XW(i) = A;\n",
"end\n",
"XW = XW';\n",
"//\n",
"//Inverse Continuous-time Fourier Transform\n",
"t = -%pi:%pi/length(w):%pi;\n",
"xt =(1/(2*%pi))*XW *exp(sqrt(-1)*w'*t)*Dw;\n",
"xt = real(xt);\n",
"figure\n",
"a = gca();\n",
"a.y_location ='origin';\n",
"a.x_location ='origin';\n",
"plot(t,xt);\n",
"xlabel('                                     t time in Seconds');\n",
"title('Inverse Continuous Time Fourier Transform x(t)')"
   ]
   }
,
{
		   "cell_type": "markdown",
		   "metadata": {},
		   "source": [
			"## Example 4.6: clear.sce"
		   ]
		  },
  {
"cell_type": "code",
	   "execution_count": null,
	   "metadata": {
	    "collapsed": true
	   },
	   "outputs": [],
"source": [
"//clear//\n",
"//Example 4.6\n",
"// Continuous Time Fourier Transform of Symmetric\n",
"// periodic Square waveform\n",
"clear;\n",
"clc;\n",
"close;\n",
"// CTFT\n",
"T1 = 2;\n",
"T = 4*T1;\n",
"Wo = 2*%pi/T;\n",
"W = -%pi:Wo:%pi;\n",
"delta = ones(1,length(W));\n",
"XW(1) = (2*%pi*Wo*T1/%pi);\n",
"mid_value = ceil(length(W)/2);\n",
"for k = 2:mid_value\n",
"  XW(k) = (2*%pi*sin((k-1)*Wo*T1)/(%pi*(k-1)));\n",
"end\n",
"figure\n",
"a = gca();\n",
"a.y_location ='origin';\n",
"a.x_location ='origin';\n",
"plot2d3('gnn',W(mid_value:$),XW,2);\n",
"poly1 = a.children(1).children(1);\n",
"poly1.thickness = 3; \n",
"plot2d3('gnn',W(1:mid_value-1),XW($:-1:2),2);\n",
"poly1 = a.children(1).children(1);\n",
"poly1.thickness = 3; \n",
"xlabel('W in radians/Seconds');\n",
"title('Continuous Time Fourier Transform of Periodic Square Wave')"
   ]
   }
,
{
		   "cell_type": "markdown",
		   "metadata": {},
		   "source": [
			"## Example 4.7: clear.sce"
		   ]
		  },
  {
"cell_type": "code",
	   "execution_count": null,
	   "metadata": {
	    "collapsed": true
	   },
	   "outputs": [],
"source": [
"//clear//\n",
"//Example 4.7\n",
"// Continuous Time Fourier Transforms of \n",
"// Sinusoidal waveforms (a)sin(Wot) (b)cos(Wot)\n",
"clear;\n",
"clc;\n",
"close;\n",
"// CTFT\n",
"T1 = 2;\n",
"T = 4*T1;\n",
"Wo = 2*%pi/T;\n",
"W = [-Wo,0,Wo];\n",
"ak = (2*%pi*Wo*T1/%pi)/sqrt(-1);\n",
"XW = [-ak,0,ak];\n",
"ak1 = (2*%pi*Wo*T1/%pi);\n",
"XW1 =[ak1,0,ak1];\n",
"//\n",
"figure\n",
"a = gca();\n",
"a.y_location ='origin';\n",
"a.x_location ='origin';\n",
"plot2d3('gnn',W,imag(XW),2);\n",
"poly1 = a.children(1).children(1);\n",
"poly1.thickness = 3; \n",
"xlabel('                                                      W');\n",
"title('CTFT of sin(Wot)')\n",
"//\n",
"figure\n",
"a = gca();\n",
"a.y_location ='origin';\n",
"a.x_location ='origin';\n",
"plot2d3('gnn',W,XW1,2);\n",
"poly1 = a.children(1).children(1);\n",
"poly1.thickness = 3; \n",
"xlabel('                                                       W');\n",
"title('CTFT of cos(Wot)')"
   ]
   }
,
{
		   "cell_type": "markdown",
		   "metadata": {},
		   "source": [
			"## Example 4.8: clear.sce"
		   ]
		  },
  {
"cell_type": "code",
	   "execution_count": null,
	   "metadata": {
	    "collapsed": true
	   },
	   "outputs": [],
"source": [
"//clear//\n",
"//Example 4.8\n",
"// Continuous Time Fourier Transforms of \n",
"// Periodic Impulse Train\n",
"clear;\n",
"clc;\n",
"close;\n",
"// CTFT\n",
"T = -4:4;;\n",
"T1 = 1; //Sampling Interval\n",
"xt = ones(1,length(T));\n",
"ak = 1/T1;\n",
"XW = 2*%pi*ak*ones(1,length(T));\n",
"Wo = 2*%pi/T1;\n",
"W = Wo*T;\n",
"figure\n",
"subplot(2,1,1)\n",
"a = gca();\n",
"a.y_location ='origin';\n",
"a.x_location ='origin';\n",
"plot2d3('gnn',T,xt,2);\n",
"poly1 = a.children(1).children(1);\n",
"poly1.thickness = 3; \n",
"xlabel('                                                         t');\n",
"title('Periodic Impulse Train')\n",
"subplot(2,1,2)\n",
"a = gca();\n",
"a.y_location ='origin';\n",
"a.x_location ='origin';\n",
"plot2d3('gnn',W,XW,2);\n",
"poly1 = a.children(1).children(1);\n",
"poly1.thickness = 3; \n",
"xlabel('                                                         t');\n",
"title('CTFT of Periodic Impulse Train')"
   ]
   }
,
{
		   "cell_type": "markdown",
		   "metadata": {},
		   "source": [
			"## Example 4.9: clear.sce"
		   ]
		  },
  {
"cell_type": "code",
	   "execution_count": null,
	   "metadata": {
	    "collapsed": true
	   },
	   "outputs": [],
"source": [
"//clear//\n",
"//Example 4.9:Continuous Time Fourier Transform Properties: \n",
"//Linearity and Time Shift Property\n",
"clear;\n",
"clc;\n",
"close;\n",
"// CTFT\n",
"t1 = -1/2:0.1:1/2;\n",
"t2 = -3/2:0.1:3/2;\n",
"x1 = ones(1,length(t1));\n",
"x2 = ones(1,length(t2));\n",
"t3 = t1+2.5;\n",
"t4 = t2+2.5;\n",
"x1 = (1/2)*x1;\n",
"x = [x2(1:floor(length(x2)/3)),x1+x2(ceil(length(x2)/3):$-floor(length(x2)/3)),x2(($-ceil(length(x2)/3))+2:$)];\n",
"subplot(3,1,1)\n",
"a = gca();\n",
"a.x_location = 'origin';\n",
"a.y_location = 'origin';\n",
"plot(t1,x1)\n",
"xtitle('x1(t)')\n",
"subplot(3,1,2)\n",
"a = gca();\n",
"a.x_location = 'origin';\n",
"a.y_location = 'origin';\n",
"plot(t2,x2)\n",
"xtitle('x2(t)')\n",
"subplot(3,1,3)\n",
"a = gca();\n",
"a.x_location = 'origin';\n",
"a.y_location = 'origin';\n",
"plot(t4,x)\n",
"xtitle('x(t)')"
   ]
   }
],
"metadata": {
		  "kernelspec": {
		   "display_name": "Scilab",
		   "language": "scilab",
		   "name": "scilab"
		  },
		  "language_info": {
		   "file_extension": ".sce",
		   "help_links": [
			{
			 "text": "MetaKernel Magics",
			 "url": "https://github.com/calysto/metakernel/blob/master/metakernel/magics/README.md"
			}
		   ],
		   "mimetype": "text/x-octave",
		   "name": "scilab",
		   "version": "0.7.1"
		  }
		 },
		 "nbformat": 4,
		 "nbformat_minor": 0
}
