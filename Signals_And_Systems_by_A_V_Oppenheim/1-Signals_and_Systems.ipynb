{
"cells": [
 {
		   "cell_type": "markdown",
	   "metadata": {},
	   "source": [
       "# Chapter 1: Signals and Systems"
	   ]
	},
{
		   "cell_type": "markdown",
		   "metadata": {},
		   "source": [
			"## Example 01.13: Determination_of_stability_of_a_given_system.sce"
		   ]
		  },
  {
"cell_type": "code",
	   "execution_count": null,
	   "metadata": {
	    "collapsed": true
	   },
	   "outputs": [],
"source": [
"//clear//\n",
"//Example 1.13(b):Determination of stability of a given system\n",
"//Page 50\n",
"//given system y(t) = exp(x(t))\n",
"clear;\n",
"clc;\n",
"Maximum_Limit = 10;\n",
"S = 0;\n",
"for t = 0:Maximum_Limit-1\n",
"  x(t+1)= -2^t;          //Input some bounded value\n",
"  S = S+exp(x(t+1));\n",
"end \n",
"if (S >Maximum_Limit)\n",
"  disp('Eventhough input is bounded output is unbounded')\n",
"  disp('The given system is unstable');\n",
"  disp('S =');\n",
"  S\n",
" else\n",
"  disp('The given system is stable');\n",
"  disp(S);\n",
"end"
   ]
   }
,
{
		   "cell_type": "markdown",
		   "metadata": {},
		   "source": [
			"## Example 0.15: Sum_of_two_complex_exponentials.sce"
		   ]
		  },
  {
"cell_type": "code",
	   "execution_count": null,
	   "metadata": {
	    "collapsed": true
	   },
	   "outputs": [],
"source": [
"//clear//\n",
"//Example 1.5:To express sum of two complex exponentials\n",
"//as a single sinusoid\n",
"clear;\n",
"clc;\n",
"close;\n",
"t =0:1/100:2*%pi;\n",
"x1 = exp(sqrt(-1)*2*t);\n",
"x2 = exp(sqrt(-1)*3*t);\n",
"x = x1+x2;\n",
"for i = 1:length(x)\n",
"  X(i) = sqrt((real(x(i)).^2)+(imag(x(i)).^2));\n",
"end\n",
"plot(t,X);\n",
"xtitle('Full wave rectified sinusoid','time t','Magnitude');"
   ]
   }
,
{
		   "cell_type": "markdown",
		   "metadata": {},
		   "source": [
			"## Example 1.12: Classification_of_system.sce"
		   ]
		  },
  {
"cell_type": "code",
	   "execution_count": null,
	   "metadata": {
	    "collapsed": true
	   },
	   "outputs": [],
"source": [
"//clear//\n",
"//Example 1.12:Classification of system:Causality property\n",
"//Page 47\n",
"//To check whether the given discrete system is a Causal System (or) Non-Causal System\n",
"//Given discrete system y[n]= x[-n]\n",
"clear;\n",
"clc;\n",
"x = [2,4,6,8,10,0,0,0,1];  //Assign some value to input\n",
"n = -length(x)/2:length(x)/2;\n",
"count = 0;\n",
"mid = ceil(length(x)/2);\n",
"y = zeros(1,length(x));\n",
"y(mid+1:$) = x($:-1:mid+1);\n",
"for n = -1:-1:-mid\n",
"  y(n+1+mid) = x(-n);\n",
"end\n",
"for i = 1:length(x)\n",
"  if (y(i)==x(i))\n",
"    count = count+1;\n",
"  end\n",
"end \n",
"if (count==length(x))\n",
"    disp('The given system is a causal system')\n",
"else\n",
"    disp('Since it depends on future input value')\n",
"    disp('The given system is a non-causal system')\n",
"end"
   ]
   }
,
{
		   "cell_type": "markdown",
		   "metadata": {},
		   "source": [
			"## Example 1.13: Determination_of_stablility_of_a_given_system.sce"
		   ]
		  },
  {
"cell_type": "code",
	   "execution_count": null,
	   "metadata": {
	    "collapsed": true
	   },
	   "outputs": [],
"source": [
"//clear//\n",
"//Example 1.13:Determination of stablility of a given system\n",
"//Page 49\n",
"//given system y(t) = t.x(t)\n",
"clear;\n",
"clc;\n",
"x = [1,2,3,4,0,2,1,3,5,8]; //Assign some input \n",
"Maximum_Limit = 10;\n",
"S = 0;\n",
"for t = 0:Maximum_Limit-1\n",
"  S = S+t*x(t+1);\n",
"end \n",
"if (S >Maximum_Limit)\n",
"  disp('Eventhough input is bounded output is unbounded')\n",
"  disp('The given system is unstable');\n",
"  disp('S =');\n",
"  S\n",
" else\n",
"  disp('The given system is stable');\n",
"  disp('The value of S =');\n",
"  S\n",
"end"
   ]
   }
,
{
		   "cell_type": "markdown",
		   "metadata": {},
		   "source": [
			"## Example 1.14: Time_Invariance_Property.sce"
		   ]
		  },
  {
"cell_type": "code",
	   "execution_count": null,
	   "metadata": {
	    "collapsed": true
	   },
	   "outputs": [],
"source": [
"//clear//\n",
"//Example 1.14:classification of a system:Time Invariance Property\n",
"//Page 51\n",
"//To check whether the given system is a Time variant (or) Time In-variant\n",
"// The given discrete signal is y(t) = sin(x(t))\n",
"clear;\n",
"clc;\n",
"to = 2; //Assume the amount of time shift  =2\n",
"T = 10; //Length of given  signal\n",
"for t = 1:T\n",
"  x(t) = (2*%pi/T)*t;\n",
"  y(t) = sin(x(t));\n",
"end\n",
"//First shift the input signal only\n",
"Input_shift = sin(x(T-to));\n",
"Output_shift = y(T-to);\n",
"if(Input_shift == Output_shift)\n",
"  disp('The given discrete system is a Time In-variant system');\n",
"else\n",
"  disp('The given discrete system is a Time Variant system');\n",
"end"
   ]
   }
,
{
		   "cell_type": "markdown",
		   "metadata": {},
		   "source": [
			"## Example 1.15: Classification_of_a_System.sce"
		   ]
		  },
  {
"cell_type": "code",
	   "execution_count": null,
	   "metadata": {
	    "collapsed": true
	   },
	   "outputs": [],
"source": [
"//clear//\n",
"//Example 1.15:Classification of a System:Time Invariance Property\n",
"//Page 51\n",
"//To check whether the given system is a Time variant (or) Time In-variant\n",
"// The given discrete signal is y[n] = n.x[n]\n",
"clear;\n",
"clc;\n",
"no = 2; //Assume the amount of time shift  =2\n",
"L = 10; //Length of given  signal\n",
"for n = 1:L\n",
"  x(n) = n;\n",
"  y(n) = n*x(n);\n",
"end\n",
"//First shift the input signal only\n",
"Input_shift = x(L-no);\n",
"Output_shift = y(L-no);\n",
"if(Input_shift == Output_shift)\n",
"  disp('The given discrete system is a Time In-variant system');\n",
"else\n",
"  disp('The given discrete system is a Time Variant system');\n",
"end"
   ]
   }
,
{
		   "cell_type": "markdown",
		   "metadata": {},
		   "source": [
			"## Example 1.16: Time_Invariance_Property.sce"
		   ]
		  },
  {
"cell_type": "code",
	   "execution_count": null,
	   "metadata": {
	    "collapsed": true
	   },
	   "outputs": [],
"source": [
"//clear//\n",
"//Example 1.16:Classification of system:Time Invariance Property\n",
"//Page 52\n",
"//To check whether the given system is a Time variant (or) Time In-variant\n",
"// The given discrete signal is y(t) = x(2t)\n",
"clear;\n",
"clc;\n",
"to = 2; //Assume the amount of time shift  =2\n",
"T = 10; //Length of given  signal\n",
"x = [1,2,3,4,5,6,7,8,9,10];\n",
"y = zeros(1,length(x));\n",
"for t = 1:length(x)/2\n",
"    y(t) = x(2*t);\n",
"end\n",
"//First shift the input signal only\n",
"Input_shift = x(T-to);\n",
"Output_shift = y(T-to);\n",
"if(Input_shift == Output_shift)\n",
"  disp('The given discrete system is a Time In-variant system');\n",
"else\n",
"  disp('The given discrete system is a Time Variant system');\n",
"end"
   ]
   }
,
{
		   "cell_type": "markdown",
		   "metadata": {},
		   "source": [
			"## Example 1.17: Linearity_Property.sce"
		   ]
		  },
  {
"cell_type": "code",
	   "execution_count": null,
	   "metadata": {
	    "collapsed": true
	   },
	   "outputs": [],
"source": [
"//clear//\n",
"//Example 1.17:Classification of system:Linearity Property\n",
"//Page 54\n",
"//To check whether the given discrete system is a Linear System (or) Non-Linear System\n",
"//Given discrete system y(t)= t*x(t)\n",
"clear;\n",
"clc;\n",
"x1 = [1,1,1,1];\n",
"x2 = [2,2,2,2];\n",
"a = 1;\n",
"b = 1;\n",
"for t = 1:length(x1)\n",
"  x3(t) = a*x1(t)+b*x2(t);\n",
"end\n",
"for t = 1:length(x1)\n",
"  y1(t) = t*x1(t);\n",
"  y2(t) = t*x2(t);\n",
"  y3(t) = t*x3(t);\n",
"end\n",
"for t = 1:length(y1)\n",
"  z(t) = a*y1(t)+b*y2(t);\n",
"end\n",
"count = 0;\n",
"for n =1:length(y1)\n",
"  if(y3(t)== z(t))\n",
"    count = count+1;\n",
"  end\n",
"end\n",
"if(count == length(y3))\n",
"   disp('Since It satisifies the superposition principle')\n",
"   disp('The given system is a Linear system')\n",
"   y3\n",
"   z\n",
"  else\n",
"    disp('Since It does not satisify the superposition principle')\n",
"    disp('The given system is a Non-Linear system')\n",
"end"
   ]
   }
,
{
		   "cell_type": "markdown",
		   "metadata": {},
		   "source": [
			"## Example 1.18: Linearity_Property.sce"
		   ]
		  },
  {
"cell_type": "code",
	   "execution_count": null,
	   "metadata": {
	    "collapsed": true
	   },
	   "outputs": [],
"source": [
"//clear//\n",
"//Example 1.18:Classsification of a system:Linearity Property\n",
"//Page 54\n",
"//To check whether the given discrete system is a Linear System (or) Non-Linear System\n",
"//Given discrete system y(t)= (x(t)^2)\n",
"clear;\n",
"clc;\n",
"x1 = [1,1,1,1];\n",
"x2 = [2,2,2,2];\n",
"a = 1;\n",
"b = 1;\n",
"for t = 1:length(x1)\n",
"  x3(t) = a*x1(t)+b*x2(t);\n",
"end\n",
"for t = 1:length(x1)\n",
"  y1(t) = (x1(t)^2);\n",
"  y2(t) = (x2(t)^2);\n",
"  y3(t) = (x3(t)^2);\n",
"end\n",
"for t = 1:length(y1)\n",
"  z(t) = a*y1(t)+b*y2(t);\n",
"end\n",
"count = 0;\n",
"for n =1:length(y1)\n",
"  if(y3(t)== z(t))\n",
"    count = count+1;\n",
"  end\n",
"end\n",
"if(count == length(y3))\n",
"   disp('Since It satisifies the superposition principle')\n",
"   disp('The given system is a Linear system')\n",
"   y3\n",
"   z\n",
"  else\n",
"    disp('Since It does not satisify the superposition principle')\n",
"    disp('The given system is a Non-Linear system')\n",
"end"
   ]
   }
,
{
		   "cell_type": "markdown",
		   "metadata": {},
		   "source": [
			"## Example 1.1: Time_Shifting.sce"
		   ]
		  },
  {
"cell_type": "code",
	   "execution_count": null,
	   "metadata": {
	    "collapsed": true
	   },
	   "outputs": [],
"source": [
"//clear//\n",
"//Example 1.1: Time Shifting\n",
"//SIGNALS & SYSTEMS, Second Edition\n",
"//V.OPPENHEIM, S.WILLSKY, S.HAMID NAMWAB\n",
"//PHI, 2008 Edition\n",
"//Page 10\n",
"clear;\n",
"clc;\n",
"close;\n",
"t = 0:1/100:1;\n",
"for i = 1:length(t)\n",
"  x(i) = 1 ;\n",
"end\n",
"for i = length(t)+1:2*length(t)\n",
"  x(i) = 1-t(i-length(t));\n",
"end\n",
"t1 = 0:1/100:2;\n",
"t2 = -1:1/100:1;\n",
"//t3 = 0:1/100:4/3;\n",
"//t4 = 0:1/length(t3):1;\n",
"//Mid =ceil(length(t3)/2);\n",
"//for i = 1:Mid\n",
"//  x3(i) = 1 ;\n",
"//end\n",
"//for i = Mid+1:length(t3)\n",
"//  x3(i) = 1-t4(i-Mid);\n",
"//end\n",
"figure\n",
"a=gca();\n",
"plot2d(t1,x(1:$-1)) \n",
"a.thickness=2;\n",
"xtitle('The signal x(t)')\n",
"figure\n",
"a=gca();\n",
"plot2d(t2,x(1:$-1))\n",
"a.thickness=2;\n",
"a.y_location = 'middle';\n",
"xtitle('The signal x(t+1)')\n",
"figure\n",
"a=gca();\n",
"plot2d(t2,x($:-1:2))\n",
"a.thickness=2; \n",
"a.y_location = 'middle';\n",
"xtitle('The signal x(-t+1)')"
   ]
   }
,
{
		   "cell_type": "markdown",
		   "metadata": {},
		   "source": [
			"## Example 1.20: Linearity_Property.sce"
		   ]
		  },
  {
"cell_type": "code",
	   "execution_count": null,
	   "metadata": {
	    "collapsed": true
	   },
	   "outputs": [],
"source": [
"//clear//\n",
"//Example 1.20:Classsification of a system:Linearity Property\n",
"//Page 55\n",
"//To check whether the given discrete system is a Linear System (or) Non-Linear System\n",
"//Given discrete system y[n])= 2*x[n]+3\n",
"clear;\n",
"clc;\n",
"x1 = [1,1,1,1];\n",
"x2 = [2,2,2,2];\n",
"a = 1;\n",
"b = 1;\n",
"for n = 1:length(x1)\n",
"  x3(n) = a*x1(n)+b*x2(n);\n",
"end\n",
"for n = 1:length(x1)\n",
"  y1(n) = 2*x1(n)+3;\n",
"  y2(n) = 2*x2(n)+3;\n",
"  y3(n) = 2*x3(n)+3;\n",
"end\n",
"for n = 1:length(y1)\n",
"  z(n) = a*y1(n)+b*y2(n);\n",
"end\n",
"count = 0;\n",
"for n =1:length(y1)\n",
"  if(y3(n)== z(n))\n",
"    count = count+1;\n",
"  end\n",
"end\n",
"if(count == length(y3))\n",
"   disp('Since It satisifies the superposition principle')\n",
"   disp('The given system is a Linear system')\n",
"   y3\n",
"   z\n",
"  else\n",
"    disp('Since It does not satisify the superposition principle')\n",
"    disp('The given system is a Non-Linear system')\n",
"end"
   ]
   }
,
{
		   "cell_type": "markdown",
		   "metadata": {},
		   "source": [
			"## Example 1.2: Time_Scaling.sce"
		   ]
		  },
  {
"cell_type": "code",
	   "execution_count": null,
	   "metadata": {
	    "collapsed": true
	   },
	   "outputs": [],
"source": [
"//clear//\n",
"//Example 1.2:Time Scaling\n",
"//SIGNALS & SYSTEMS, Second Edition\n",
"//V.OPPENHEIM, S.WILLSKY, S.HAMID NAMWAB\n",
"//PHI, 2008 Edition\n",
"//Page 11\n",
"clear;\n",
"clc;\n",
"close;\n",
"t3 = 0:1/100:4/3;\n",
"t4 = 0:1/length(t3):1;\n",
"Mid =ceil(length(t3)/2);\n",
"for i = 1:Mid\n",
"  x3(i) = 1 ;\n",
"end\n",
"for i = Mid+1:length(t3)\n",
"  x3(i) = 1-t4(i-Mid);\n",
"end\n",
"figure\n",
"a=gca();\n",
"plot2d(t3,x3) \n",
"a.thickness=2;\n",
"xtitle('Time Scaling x(3t/2)')"
   ]
   }
,
{
		   "cell_type": "markdown",
		   "metadata": {},
		   "source": [
			"## Example 1.3: Time_Scaling_and_Time_Shifting.sce"
		   ]
		  },
  {
"cell_type": "code",
	   "execution_count": null,
	   "metadata": {
	    "collapsed": true
	   },
	   "outputs": [],
"source": [
"//clear//\n",
"//Example 1.3:Time Scaling and Time Shifting\n",
"//SIGNALS & SYSTEMS, Second Edition\n",
"//V.OPPENHEIM, S.WILLSKY, S.HAMID NAMWAB\n",
"//PHI, 2008 Edition\n",
"//Page 11\n",
"clear;\n",
"clc;\n",
"close;\n",
"t3 = 0:1/100:4/3;\n",
"t4 = 0:1/length(t3):1;\n",
"Mid =ceil(length(t3)/2);\n",
"for i = 1:Mid\n",
"  x3(i) = 1 ;\n",
"end\n",
"for i = Mid+1:length(t3)\n",
"  x3(i) = 1-t4(i-Mid);\n",
"end\n",
"t5 = -2/3:1/100:2/3;\n",
"figure\n",
"a=gca();\n",
"plot2d(t5,x3) \n",
"a.thickness=2;\n",
"a.y_location ='middle';\n",
"xtitle('Time Scaling and Time Shifting x((3t/2)+1)')"
   ]
   }
,
{
		   "cell_type": "markdown",
		   "metadata": {},
		   "source": [
			"## Example 1.4: Combinationation_two_periodic_signals.sce"
		   ]
		  },
  {
"cell_type": "code",
	   "execution_count": null,
	   "metadata": {
	    "collapsed": true
	   },
	   "outputs": [],
"source": [
"//clear//\n",
"//Example 1.4:Combinationation two periodic signals\n",
"// Aperiodic signal\n",
"//Page 12\n",
"clear;\n",
"clc;\n",
"close;\n",
"F=1;  //Frequency  = 1 Hz\n",
"t1 = 0:-1/100:-2*%pi; \n",
"x1 = cos(F*t1);\n",
"t2 = 0:1/100:2*%pi;\n",
"x2 = sin(F*t2);\n",
"a=gca();\n",
"plot(t2,x2);\n",
"plot(t1,x1);\n",
"a.y_location = 'middle';\n",
"a.x_location = 'middle';\n",
"xtitle('The signal x(t) = cost for t < 0 and sint for t > 0: Aperiodic Signal')"
   ]
   }
,
{
		   "cell_type": "markdown",
		   "metadata": {},
		   "source": [
			"## Example 1.6: Fundamental_period_of_composite_discrete_time_signal.sce"
		   ]
		  },
  {
"cell_type": "code",
	   "execution_count": null,
	   "metadata": {
	    "collapsed": true
	   },
	   "outputs": [],
"source": [
"//clear//\n",
"//Example 1.6:Determine the fundamental period of composite\n",
"// discrete time signal\n",
"//x[n] = exp(j(2*%pi/3)n)+exp(j(3*%pi/4)n)\n",
"clear;\n",
"clc;\n",
"close;\n",
"Omega1 = 2*%pi/3;   //Angular frequency signal 1\n",
"Omega2 = 3*%pi/4;  //Angular frequency signal 2\n",
"N1 = (2*%pi)/Omega1;  //Peirod of signal 1\n",
"N2 = (2*%pi)/Omega2;  //Period of signal 2\n",
"//To find rational period of signal 1\n",
"for m1 = 1:100\n",
"  period = N1*m1;\n",
"  if(modulo(period,1)==0)\n",
"    period1 = period;\n",
"    integer_value = m1\n",
"    break;\n",
"  end\n",
"end\n",
"//To find rational period of signal 2\n",
"for m2 = 1:100\n",
"  period = N2*m2;\n",
"  if(modulo(period,1)==0)\n",
"    period2 = period;\n",
"    integer_value = m2\n",
"    break;\n",
"  end\n",
"end\n",
"disp(period1)\n",
"disp(period2)\n",
"//To determine the fundamental period N\n",
"N = period1*period2"
   ]
   }
],
"metadata": {
		  "kernelspec": {
		   "display_name": "Scilab",
		   "language": "scilab",
		   "name": "scilab"
		  },
		  "language_info": {
		   "file_extension": ".sce",
		   "help_links": [
			{
			 "text": "MetaKernel Magics",
			 "url": "https://github.com/calysto/metakernel/blob/master/metakernel/magics/README.md"
			}
		   ],
		   "mimetype": "text/x-octave",
		   "name": "scilab",
		   "version": "0.7.1"
		  }
		 },
		 "nbformat": 4,
		 "nbformat_minor": 0
}
