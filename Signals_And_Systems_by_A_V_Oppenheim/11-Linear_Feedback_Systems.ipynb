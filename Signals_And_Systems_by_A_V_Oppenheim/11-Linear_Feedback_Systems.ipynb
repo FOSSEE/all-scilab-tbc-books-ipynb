{
"cells": [
 {
		   "cell_type": "markdown",
	   "metadata": {},
	   "source": [
       "# Chapter 11: Linear Feedback Systems"
	   ]
	},
{
		   "cell_type": "markdown",
		   "metadata": {},
		   "source": [
			"## Example 11.05: Nyquist_criterion_for_Continuous_Time_Systems.sce"
		   ]
		  },
  {
"cell_type": "code",
	   "execution_count": null,
	   "metadata": {
	    "collapsed": true
	   },
	   "outputs": [],
"source": [
"//clear//\n",
"//Example 11.5:Nyquist criterion for Continuous Time Systems\n",
"//Nyquist Plot\n",
"s = %s;\n",
"//Open Loop Transfer Function\n",
"G = syslin('c',[1/(s+1)]);\n",
"H = syslin('c',[1/(0.5*s+1)]);\n",
"F = G*H;\n",
"clf;\n",
"nyquist(F)\n",
"show_margins(F,'nyquist')"
   ]
   }
,
{
		   "cell_type": "markdown",
		   "metadata": {},
		   "source": [
			"## Example 11.09: Root_locus_analysis_of_Linear_feedback_systems.sce"
		   ]
		  },
  {
"cell_type": "code",
	   "execution_count": null,
	   "metadata": {
	    "collapsed": true
	   },
	   "outputs": [],
"source": [
"//clear//\n",
"//Figure11.9:Root locus analysis of Linear feedback systems\n",
"s = %s;\n",
"beta_b1 = 1;\n",
"beta_b2 = -1;\n",
"G1 = syslin('c',[2*beta_b1/s]);\n",
"G2 = syslin('c',[2*beta_b2/s]);\n",
"H = syslin('c',[s/(s-2)]);\n",
"F1 = G1*H;\n",
"F2 = G2*H;\n",
"clf;\n",
"evans(F1,2)\n",
"figure\n",
"evans(F2,2)"
   ]
   }
,
{
		   "cell_type": "markdown",
		   "metadata": {},
		   "source": [
			"## Example 11.1: Root_locus_Analysis_of_Linear_Feedback_Systems.sce"
		   ]
		  },
  {
"cell_type": "code",
	   "execution_count": null,
	   "metadata": {
	    "collapsed": true
	   },
	   "outputs": [],
"source": [
"//clear//\n",
"//Example11.1:Root locus Analysis of Linear Feedback Systems\n",
"//Continuous Time Systems\n",
"//Refer figure 11.12(a) in Openhiem &Willksy page 840\n",
"s = %s;\n",
"H = syslin('c',[1/(s+1)]);\n",
"G = syslin('c',[1/(s+2)]);\n",
"F = G*H;\n",
"clf;\n",
"evans(F,3)"
   ]
   }
,
{
		   "cell_type": "markdown",
		   "metadata": {},
		   "source": [
			"## Example 11.2: Continuous_Time_Systems.sce"
		   ]
		  },
  {
"cell_type": "code",
	   "execution_count": null,
	   "metadata": {
	    "collapsed": true
	   },
	   "outputs": [],
"source": [
"//clear//\n",
"//Example11.2:Root locus Analysis of Linear Feedback Systems\n",
"//Continuous Time Systems\n",
"//Refer figure 11.14(a) in Openhiem &Willksy page 844\n",
"s = %s;\n",
"G = syslin('c',[(s-1)/((s+1)*(s+2))]);\n",
"clf;\n",
"evans(G,2)"
   ]
   }
,
{
		   "cell_type": "markdown",
		   "metadata": {},
		   "source": [
			"## Example 11.3: Discrete_time_system.sce"
		   ]
		  },
  {
"cell_type": "code",
	   "execution_count": null,
	   "metadata": {
	    "collapsed": true
	   },
	   "outputs": [],
"source": [
"//clear//\n",
"//Example11.3:Root locus Analysis of Linear Feedback Systems\n",
"////Discrete time system\n",
"//Refer figure 11.16(a) in Openhiem &Willksy page 846\n",
"z = %z;\n",
"G = syslin('d',[z/((z-0.5)*(z-0.25))]);\n",
"clf;\n",
"evans(G,2)"
   ]
   }
,
{
		   "cell_type": "markdown",
		   "metadata": {},
		   "source": [
			"## Example 11.5: Bode_Plot.sce"
		   ]
		  },
  {
"cell_type": "code",
	   "execution_count": null,
	   "metadata": {
	    "collapsed": true
	   },
	   "outputs": [],
"source": [
"//clear//\n",
"//Example 11.5:Nyquist criterion for Continuous Time Systems\n",
"//Bode Plot\n",
"s = %s;\n",
"//Open Loop Transfer Function\n",
"G = syslin('c',[1/(s+1)]);\n",
"H = syslin('c',[1/(0.5*s+1)]);\n",
"F = G*H;\n",
"clf;\n",
"bode(F,0.01,100)\n",
"show_margins(F)"
   ]
   }
,
{
		   "cell_type": "markdown",
		   "metadata": {},
		   "source": [
			"## Example 11.6: Nyquist_Plot.sce"
		   ]
		  },
  {
"cell_type": "code",
	   "execution_count": null,
	   "metadata": {
	    "collapsed": true
	   },
	   "outputs": [],
"source": [
"//clear//\n",
"//Example 11.6:Nyquist criterion for Continuous Time Systems\n",
"//Nyquist Plot\n",
"s = %s;\n",
"//Open Loop Transfer Function\n",
"F = syslin('c',[(s+1)/((s-1)*(0.5*s+1))])\n",
"clf;\n",
"nyquist(F)\n",
"show_margins(F,'nyquist')"
   ]
   }
,
{
		   "cell_type": "markdown",
		   "metadata": {},
		   "source": [
			"## Example 11.7: Nyquist_Plot.sce"
		   ]
		  },
  {
"cell_type": "code",
	   "execution_count": null,
	   "metadata": {
	    "collapsed": true
	   },
	   "outputs": [],
"source": [
"//clear//\n",
"//Example 11.7\n",
"//Nyquist Plot\n",
"s = %s;\n",
"T =1;\n",
"//Open Loop Transfer Function\n",
"G = syslin('c',[-%e^(-s*T)]);\n",
"clf;\n",
"nyquist(G)\n",
"show_margins(G,'nyquist')"
   ]
   }
,
{
		   "cell_type": "markdown",
		   "metadata": {},
		   "source": [
			"## Example 11.8: Nyquist_Plot.sce"
		   ]
		  },
  {
"cell_type": "code",
	   "execution_count": null,
	   "metadata": {
	    "collapsed": true
	   },
	   "outputs": [],
"source": [
"//clear//\n",
"//Example 11.8:Nyquist criterion for Discrete Time Systems\n",
"//Nyquist Plot\n",
"//Discrete Time System\n",
"z = %z;\n",
"//Open Loop Transfer Function\n",
"F = syslin('d',[1/(z*(z+0.5))])\n",
"clf;\n",
"nyquist(F)\n",
"show_margins(F,'nyquist')"
   ]
   }
,
{
		   "cell_type": "markdown",
		   "metadata": {},
		   "source": [
			"## Example 11.9: Gain_and_Phase_Margins.sce"
		   ]
		  },
  {
"cell_type": "code",
	   "execution_count": null,
	   "metadata": {
	    "collapsed": true
	   },
	   "outputs": [],
"source": [
"//clear//\n",
"//Example 11.9:Gain and Phase Margins and their\n",
"//associated cross over frequencies\n",
"s =poly(0,'s'); // Define ss as polynomial variable\n",
"//Create s transfer function in forward path\n",
"F = syslin('c',[(4*(1+0.5*s))/(s*(1+2*s)*(1+0.05*s+(0.125*s)^2))])\n",
"B = syslin('c',(1+0*s)/(1+0*s)) \n",
"OL = F*B;\n",
"fmin = 0.01; // Min freq in Hz\n",
"fmax = 10; // Max freq in Hz\n",
"scf(1);\n",
"//clf;\n",
"// Plot frequency response of open loop transfer function \n",
"bode(OL,0.01,10); \n",
"// display gain and phase margin and cross over frequencies\n",
"show_margins(OL);\n",
"[gm,fr1] = g_margin(OL)\n",
"[phm,fr2] = p_margin(OL)\n",
"disp(gm,'gain margin in dB')\n",
"disp(fr1,'gain cross over frequency in Hz')\n",
"disp(phm,'phase margin in dB')\n",
"disp(fr2,'phase cross over frequency in Hz')"
   ]
   }
],
"metadata": {
		  "kernelspec": {
		   "display_name": "Scilab",
		   "language": "scilab",
		   "name": "scilab"
		  },
		  "language_info": {
		   "file_extension": ".sce",
		   "help_links": [
			{
			 "text": "MetaKernel Magics",
			 "url": "https://github.com/calysto/metakernel/blob/master/metakernel/magics/README.md"
			}
		   ],
		   "mimetype": "text/x-octave",
		   "name": "scilab",
		   "version": "0.7.1"
		  }
		 },
		 "nbformat": 4,
		 "nbformat_minor": 0
}
