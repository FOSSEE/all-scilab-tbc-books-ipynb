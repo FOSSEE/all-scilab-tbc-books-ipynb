{
"cells": [
 {
		   "cell_type": "markdown",
	   "metadata": {},
	   "source": [
       "# Chapter 10: The Z Transform"
	   ]
	},
{
		   "cell_type": "markdown",
		   "metadata": {},
		   "source": [
			"## Example 10.10: Inverse_Z_Transform.sce"
		   ]
		  },
  {
"cell_type": "code",
	   "execution_count": null,
	   "metadata": {
	    "collapsed": true
	   },
	   "outputs": [],
"source": [
"//clear//\n",
"//Example10.10:Inverse Z Transform:ROC 1/4<|z|<1/3\n",
"z = %z;\n",
"syms n z1;//To find out Inverse z transform z must be linear z = z1\n",
"X  =z*(3*z-(5/6))/((z-(1/4))*(z-(1/3)))\n",
"X1 = denom(X);\n",
"zp = roots(X1);\n",
"X1 = z1*(3*z1-(5/6))/((z1-(1/4))*(z1-(1/3)))\n",
"F1 = X1*(z1^(n-1))*(z1-zp(1));\n",
"F2 = X1*(z1^(n-1))*(z1-zp(2));\n",
"h1 = limit(F1,z1,zp(1));\n",
"disp(h1*'u(n)','h1[n]=')\n",
"h2 = limit(F2,z1,zp(2));\n",
"disp((h2)*'u(-n-1)','h2[n]=')\n",
"disp((h1)*'u(n)'-(h2)*'u(n-1)','h[n]=')\n",
"////Result\n",
"// h[n]=  u(n)/4^n-2*u(n-1)/3^n \n",
"//Equivalent to h[n] =(1/4)^n.u[n]-2*(1/3)^n.u[-n-1]"
   ]
   }
,
{
		   "cell_type": "markdown",
		   "metadata": {},
		   "source": [
			"## Example 10.11: Inverse_Z_Transform.sce"
		   ]
		  },
  {
"cell_type": "code",
	   "execution_count": null,
	   "metadata": {
	    "collapsed": true
	   },
	   "outputs": [],
"source": [
"//clear//\n",
"//Example10.11:Inverse Z Transform:ROC |z|<1/4\n",
"z = %z;\n",
"syms n z1;//To find out Inverse z transform z must be linear z = z1\n",
"X  =z*(3*z-(5/6))/((z-(1/4))*(z-(1/3)))\n",
"X1 = denom(X);\n",
"zp = roots(X1);\n",
"X1 = z1*(3*z1-(5/6))/((z1-(1/4))*(z1-(1/3)))\n",
"F1 = X1*(z1^(n-1))*(z1-zp(1));\n",
"F2 = X1*(z1^(n-1))*(z1-zp(2));\n",
"h1 = limit(F1,z1,zp(1));\n",
"disp(h1*'u(-n-1)','h1[n]=')\n",
"h2 = limit(F2,z1,zp(2));\n",
"disp((h2)*'u(-n-1)','h2[n]=')\n",
"disp(-(h1)*'u(-n-1)'-(h2)*'u(-n-1)','h[n]=')\n",
"////Result\n",
"// h[n]=  -u(-n-1)/4^n-2*u(-n-1)/3^n  \n",
"//Equivalent to h[n] =-(1/4)^n.u[-n-1]-2*(1/3)^n.u[-n-1]"
   ]
   }
,
{
		   "cell_type": "markdown",
		   "metadata": {},
		   "source": [
			"## Example 10.12: Inverse_z_tranform.sce"
		   ]
		  },
  {
"cell_type": "code",
	   "execution_count": null,
	   "metadata": {
	    "collapsed": true
	   },
	   "outputs": [],
"source": [
"//clear//\n",
"//Example10.12:Inverse z tranform:For Finite duration discrete sequence\n",
"syms z;\n",
"X = [4*z^2 0 2 3*z^-1];\n",
"n = -2:1;\n",
"for i = 1:length(X)\n",
"  x(i) = X(i)*(z^n(i));\n",
"end\n",
"disp(x,'x[n]=')"
   ]
   }
,
{
		   "cell_type": "markdown",
		   "metadata": {},
		   "source": [
			"## Example 10.13: Inverse_z_tranform_of_InFinite_duration_discrete_sequence.sce"
		   ]
		  },
  {
"cell_type": "code",
	   "execution_count": null,
	   "metadata": {
	    "collapsed": true
	   },
	   "outputs": [],
"source": [
"//clear//\n",
"//Example10.13:Inverse z tranform ofInFinite duration discrete sequence\n",
"//Power Series Method (OR)//Long Division Method\n",
"z = %z;\n",
"a = 2;\n",
"X = ldiv(z,z-a,5)"
   ]
   }
,
{
		   "cell_type": "markdown",
		   "metadata": {},
		   "source": [
			"## Example 10.18: Ztransform_Differentiation_Property.sce"
		   ]
		  },
  {
"cell_type": "code",
	   "execution_count": null,
	   "metadata": {
	    "collapsed": true
	   },
	   "outputs": [],
"source": [
"//clear//\n",
"// Example10.18:Ztransform-Differentiation Property\n",
"// x[n]  = (a)^n.u[n]\n",
"syms n z;\n",
"a = 0.5;\n",
"x =(a)^n\n",
"X = symsum(x*(z^(-n)),n,0,%inf)\n",
"X1 = -1/((1/(2*z))-1)      //z transform of 0.5^n.u[n]\n",
"Y  = -z*diff(X,z)  //Differentiation property of z-transform\n",
"disp(X,'ans=')\n",
"disp(Y,'ans=')\n",
"//Result\n",
"//X(z) = 1.0*(2^(-%inf-1)*z^(-%inf-1)-1)/(1/(2*z)-1)\n",
"//Y(z) = -1.0*(-%inf-1)*2^(-%inf-1)*z^(-%inf-1)/(1/(2*z)-1)  \n",
"//Y1(z) = 1/(2*(1/(2*z)-1)^2*z)\n",
"//Equivalent  to  Y1(z) = 0.5*z^-1/((1-0.5*z^-1)^2)"
   ]
   }
,
{
		   "cell_type": "markdown",
		   "metadata": {},
		   "source": [
			"## Example 10.19: Z_Transform_Initial_Value_Theorem.sce"
		   ]
		  },
  {
"cell_type": "code",
	   "execution_count": null,
	   "metadata": {
	    "collapsed": true
	   },
	   "outputs": [],
"source": [
"//clear//\n",
"//Example10.19:Z Transform : Initial Value Theorem\n",
"z = %z;\n",
"syms n z1;//To find out Inverse z transform z must be linear z = z1\n",
"X  =z*(z-(3/2))/((z-(1/3))*(z-(1/2)))\n",
"X1 = denom(X);\n",
"zp = roots(X1);\n",
"X1 = z1*(z1-(3/2))/((z1-(1/3))*(z1-(1/2)))\n",
"F1 = X1*(z1^(n-1))*(z1-zp(1));\n",
"F2 = X1*(z1^(n-1))*(z1-zp(2));\n",
"x1 = limit(F1,z1,zp(1));\n",
"x2 = limit(F2,z1,zp(2));\n",
"x = x1+x2;\n",
"disp(x,'x[n]=')\n",
"x_initial = limit(x,n,0);\n",
"disp(x_initial,'x[0]=')\n",
"////Result\n",
"//x[n]= 7/3^n-3*2^(1-n)  \n",
"//x[0]= 1; Initial Value"
   ]
   }
,
{
		   "cell_type": "markdown",
		   "metadata": {},
		   "source": [
			"## Example 10.1: Ztransform_of_x_n_.sce"
		   ]
		  },
  {
"cell_type": "code",
	   "execution_count": null,
	   "metadata": {
	    "collapsed": true
	   },
	   "outputs": [],
"source": [
"//clear//\n",
"// Example10.1:Ztransform of x[n]  = (a)^n.u[n]\n",
"syms n z;\n",
"a = 0.5;\n",
"x =(a)^n\n",
"X = symsum(x*(z^(-n)),n,0,%inf)\n",
"disp(X,'ans=')\n",
"//Result\n",
"//1.0*(2^(-%inf-1)*z^(-%inf-1)-1)/(1/(2*z)-1) \n",
"//Equivalent to -1/(0.5*(z^-1)-1)"
   ]
   }
,
{
		   "cell_type": "markdown",
		   "metadata": {},
		   "source": [
			"## Example 10.23: Inverse_Z_Transform_H_z_z_z_a.sce"
		   ]
		  },
  {
"cell_type": "code",
	   "execution_count": null,
	   "metadata": {
	    "collapsed": true
	   },
	   "outputs": [],
"source": [
"//clear//\n",
"//Example10.23:Inverse Z Transform H(z) =z/z-a\n",
"//z = %z;\n",
"syms n z;\n",
"a = 2;\n",
"H = z/(z-a);\n",
"F = H*z^(n-1)*(z-a);\n",
"h = limit(F,z,a);\n",
"disp(h,'h[n]=')"
   ]
   }
,
{
		   "cell_type": "markdown",
		   "metadata": {},
		   "source": [
			"## Example 10.25: Coefficient_Difference_equations.sce"
		   ]
		  },
  {
"cell_type": "code",
	   "execution_count": null,
	   "metadata": {
	    "collapsed": true
	   },
	   "outputs": [],
"source": [
"//clear//\n",
"//Example10.25:LTi Systems characterized by Linear Constant\n",
"//Coefficient Difference equations\n",
"//Inverse Z Transform\n",
"//z = %z;\n",
"syms n z;\n",
"H1 = z/(z-(1/2));\n",
"H2 = (1/3)/(z-(1/2));\n",
"F1 = H1*z^(n-1)*(z-(1/2));\n",
"F2 = H2*z^(n-1)*(z-(1/2));\n",
"h1 = limit(F1,z,1/2);\n",
"disp(h1,'h1[n]=')\n",
"h2 = limit(F2,z,1/2);\n",
"disp(h2,'h2[n]=')\n",
"h = h1+h2;\n",
"disp(h,'h[n]=')\n",
"//Result\n",
"//h[n]=  [(1/2)^n]+[2^(1-n)]/3   \n",
"//Which is Equivalent to h[n] =[(1/2)^n]+[(1/2)^(n-1)]/3 "
   ]
   }
,
{
		   "cell_type": "markdown",
		   "metadata": {},
		   "source": [
			"## Example 10.2: Z_transform_of_x_n_a_n_u_n_1_.sce"
		   ]
		  },
  {
"cell_type": "code",
	   "execution_count": null,
	   "metadata": {
	    "collapsed": true
	   },
	   "outputs": [],
"source": [
"//clear//\n",
"//Example 10.2:Z transform of x[n] = -a^n. u[-n-1]\n",
"//a = 0.5\n",
"clear;\n",
"close;\n",
"clc;\n",
"syms n z;\n",
"a = 0.5;\n",
"x=-(0.5)^(-n)\n",
"X=symsum(x*(z^(n)),n,1,%inf)\n",
"disp(X,'ans=')\n",
"//Result\n",
"//-1.0*(2^(%inf+1)*z^(%inf+1)-2*z)/(2*z-1) \n",
"//Equivalent to -1*-2*z/(2*z-1) = 1/(1-0.5*z^-1)"
   ]
   }
,
{
		   "cell_type": "markdown",
		   "metadata": {},
		   "source": [
			"## Example 10.33: Differentiation_Property_of_Unilateral_Ztransform.sce"
		   ]
		  },
  {
"cell_type": "code",
	   "execution_count": null,
	   "metadata": {
	    "collapsed": true
	   },
	   "outputs": [],
"source": [
"//clear//\n",
"// Example10.33:Differentiation Property of Unilateral Ztransform\n",
"// x[n]  = (a)^(n+1).u[n+1]\n",
"syms n z;\n",
"a = 0.5;\n",
"x =(a)^(n+1)\n",
"X = symsum(x*(z^(-n)),n,-1,%inf)\n",
"disp(X,'ans=')\n",
"//Result\n",
"//X(z)= 0.5*(2^(-%inf-1)*z^(-%inf-1)-2*z)/(1/(2*z)-1) \n",
"//Equivalent to z/(1-0.5*z^-1) "
   ]
   }
,
{
		   "cell_type": "markdown",
		   "metadata": {},
		   "source": [
			"## Example 10.34: Unilateral_Ztransform_partial_fraction.sce"
		   ]
		  },
  {
"cell_type": "code",
	   "execution_count": null,
	   "metadata": {
	    "collapsed": true
	   },
	   "outputs": [],
"source": [
"//clear//\n",
"// Example10.34:Unilateral Ztransform- partial fraction\n",
"// X(z) =(3-(5/6)*(z^-1))/((1-(1/4)*(z^-1))*(1-(1/3)*(z^-1)))\n",
"z = %z;\n",
"s = %s;\n",
"syms n t;\n",
"a = 0.5;\n",
"[A]=pfss((3-(5/6)*(z^-1))/((1-(1/4)*(z^-1))*(1-(1/3)*(z^-1))))\n",
"x1 = horner(A(1),z)\n",
"x2 = horner(A(2),z)\n",
"x3 = A(3)\n",
"x = x1+x2+x3\n",
"disp(x1,'ans=')\n",
"disp(x2,'ans=')\n",
"disp(x3,'ans=')\n",
"disp(x,'ans=')\n",
"//Result\n",
"\n",
"//      0.6666667     \n",
"//    -------------   \n",
"//  - 0.3333333 + z  \n",
"\n",
"//      0.25     \n",
"//    --------   \n",
"//  - 0.25 + z  \n",
"\n",
"//3\n",
"\n",
"//sum of these, gives the original value\n",
"//                        2        \n",
"//       - 0.8333333z + 3z         \n",
"//    -------------------------    \n",
"//                              2  \n",
"//    0.0833333 - 0.5833333z + z   "
   ]
   }
,
{
		   "cell_type": "markdown",
		   "metadata": {},
		   "source": [
			"## Example 10.36: Output_response_of_an_LTI_System.sce"
		   ]
		  },
  {
"cell_type": "code",
	   "execution_count": null,
	   "metadata": {
	    "collapsed": true
	   },
	   "outputs": [],
"source": [
"//clear//\n",
"//Example 10.36:To find output response of an LTI System\n",
"syms n z;\n",
"H = z/(z+3)\n",
"X = z/(z-1)\n",
"Y = X*H\n",
"F1 = Y*(z^(n-1))*(z-1);\n",
"y1 = limit(F1,z,1);\n",
"F2 = Y*(z^(n-1))*(z+3);\n",
"y2 = limit(F2,z,-3);\n",
"disp(y1*'u(n)'+y2*'u(n)','y[n]=')\n",
"//Result\n",
"//y[n] = u(n)/4-(-3)^(n+1)*u(n)/4   \n",
"//Equivalent to = (1/4).u[n]-(3/4)(-3)^n.u[n]"
   ]
   }
,
{
		   "cell_type": "markdown",
		   "metadata": {},
		   "source": [
			"## Example 10.37: Output_response_of_an_LTI_System.sce"
		   ]
		  },
  {
"cell_type": "code",
	   "execution_count": null,
	   "metadata": {
	    "collapsed": true
	   },
	   "outputs": [],
"source": [
"//clear//\n",
"//Example 10.37:To find output response of an LTI System\n",
"syms n z;\n",
"alpha = 8; //input constant\n",
"beta_b = 1; //initial condition y[-1] = 1\n",
"Y1 = -((3*beta_b*z)/(z+3))\n",
"Y2 = (alpha*z^2/((z+3)*(z-1)))\n",
"F1 = Y1*(z^(n-1))*(z+3);\n",
"y1 = limit(F1,z,-3);\n",
"F2 = Y2*(z^(n-1))*(z+3);\n",
"y2 = limit(F2,z,-3);\n",
"F3 = Y2*(z^(n-1))*(z-1);\n",
"y3 = limit(F3,z,1);\n",
"disp((y1+y2+y3)*'u(n)','y[n]=')\n",
"//Result\n",
"//y[n] =  (2-(-3)^(n+1))*u(n) "
   ]
   }
,
{
		   "cell_type": "markdown",
		   "metadata": {},
		   "source": [
			"## Example 10.3: Z_transform_of_x_n_.sce"
		   ]
		  },
  {
"cell_type": "code",
	   "execution_count": null,
	   "metadata": {
	    "collapsed": true
	   },
	   "outputs": [],
"source": [
"//clear//\n",
"//Example 10.3:Z transform of x[n] = 7.(1/3)^n.u[n]-6.(1/2)^n.u[n]\n",
"syms n z;\n",
"x1=(0.33)^(n)\n",
"X1=symsum(7*x1*(z^(-n)),n,0,%inf)\n",
"x2=(0.5)^(n)\n",
"X2=symsum(6*x2*(z^(-n)),n,0,%inf)\n",
"X = X1-X2\n",
"disp(X,'ans=')\n",
"//Result\n",
"// -6.0*(2^(-%inf-1)*z^(-%inf-1)-1)/(1/(2*z)-1) \n",
"//Equivalent to -6*-1/(0.5*z^-1 -1)\n",
"//The Region of Convergence is |z|>1/2"
   ]
   }
,
{
		   "cell_type": "markdown",
		   "metadata": {},
		   "source": [
			"## Example 10.4: Z_transform_of_sine_signal.sce"
		   ]
		  },
  {
"cell_type": "code",
	   "execution_count": null,
	   "metadata": {
	    "collapsed": true
	   },
	   "outputs": [],
"source": [
"//clear//\n",
"//Example10.4:Z-transform of sine signal\n",
"syms n z;\n",
"Wo =%pi/4;\n",
"a = (0.33)^n;\n",
"x1=%e^(sqrt(-1)*Wo*n);\n",
"X1=symsum(a*x1*(z^(-n)),n,0,%inf)\n",
"x2=%e^(-sqrt(-1)*Wo*n)\n",
"X2=symsum(a*x2*(z^(-n)),n,0,%inf)\n",
"X =(1/(2*sqrt(-1)))*(X1-X2)\n",
"disp(X,'ans=')"
   ]
   }
,
{
		   "cell_type": "markdown",
		   "metadata": {},
		   "source": [
			"## Example 10.5: Z_transform_of_Impulse_Sequence.sce"
		   ]
		  },
  {
"cell_type": "code",
	   "execution_count": null,
	   "metadata": {
	    "collapsed": true
	   },
	   "outputs": [],
"source": [
"//clear//\n",
"//Example10.5:Z-transform of Impulse Sequence\n",
"syms n z;\n",
"X=symsum(1*(z^(-n)),n,0,0);\n",
"disp(X,'ans=')\n",
"//Result\n",
"// 1   "
   ]
   }
,
{
		   "cell_type": "markdown",
		   "metadata": {},
		   "source": [
			"## Example 10.6: Z_transform_of_x_n_.sce"
		   ]
		  },
  {
"cell_type": "code",
	   "execution_count": null,
	   "metadata": {
	    "collapsed": true
	   },
	   "outputs": [],
"source": [
"//clear//\n",
"//Example 10.6:Z transform of x[n] = a^n, 0 < n < N-1\n",
"syms n z;\n",
"a = 0.5;\n",
"N =6;\n",
"x=(a)^(n)\n",
"X=symsum(x*(z^(-n)),n,0,N)\n",
"disp(X,'ans=')\n",
"//Result\n",
"//0.5/z+0.25/z^2+0.125/z^3+0.0625/z^4+0.03125/z^5+0.015625/z^6+1.0  "
   ]
   }
,
{
		   "cell_type": "markdown",
		   "metadata": {},
		   "source": [
			"## Example 10.7: Z_transform_of_x_n_.sce"
		   ]
		  },
  {
"cell_type": "code",
	   "execution_count": null,
	   "metadata": {
	    "collapsed": true
	   },
	   "outputs": [],
"source": [
"//clear//\n",
"//Example 10.7:Z transform of x[n] = b^n.u[n]+b^-n.u[-n-1]\n",
"syms n z;\n",
"b = 0.5;\n",
"x1=(b)^(n)\n",
"x2=(b)^(-n)\n",
"X1=symsum(x1*(z^(-n)),n,0,%inf)\n",
"X2=symsum(x2*(z^(n)),n,1,%inf)\n",
"X = X1+X2;\n",
"disp(X,'ans=')\n",
"//Result\n",
"//+1.0*(2^(-%inf-1)*z^(-%inf-1)-1)/(1/(2*z)-1)   \n",
"//Equivalent to -1/(0.5*z^-1 - 1)\n",
"//Region of Convergence |z|>0.5"
   ]
   }
,
{
		   "cell_type": "markdown",
		   "metadata": {},
		   "source": [
			"## Example 10.9: clear.sce"
		   ]
		  },
  {
"cell_type": "code",
	   "execution_count": null,
	   "metadata": {
	    "collapsed": true
	   },
	   "outputs": [],
"source": [
"//clear//\n",
"//Example10.9:Inverse Z Transform:ROC |z|>1/3\n",
"z = %z;\n",
"syms n z1;//To find out Inverse z transform z must be linear z = z1\n",
"X  =z*(3*z-(5/6))/((z-(1/4))*(z-(1/3)))\n",
"X1 = denom(X);\n",
"zp = roots(X1);\n",
"X1 = z1*(3*z1-(5/6))/((z1-(1/4))*(z1-(1/3)))\n",
"F1 = X1*(z1^(n-1))*(z1-zp(1));\n",
"F2 = X1*(z1^(n-1))*(z1-zp(2));\n",
"h1 = limit(F1,z1,zp(1));\n",
"disp(h1,'h1[n]=')\n",
"h2 = limit(F2,z1,zp(2));\n",
"disp(h2,'h2[n]=')\n",
"h = h1+h2;\n",
"disp(h,'h[n]=')\n",
"////Result\n",
"//h[n]= (1/4)^n+(2/3)^n "
   ]
   }
],
"metadata": {
		  "kernelspec": {
		   "display_name": "Scilab",
		   "language": "scilab",
		   "name": "scilab"
		  },
		  "language_info": {
		   "file_extension": ".sce",
		   "help_links": [
			{
			 "text": "MetaKernel Magics",
			 "url": "https://github.com/calysto/metakernel/blob/master/metakernel/magics/README.md"
			}
		   ],
		   "mimetype": "text/x-octave",
		   "name": "scilab",
		   "version": "0.7.1"
		  }
		 },
		 "nbformat": 4,
		 "nbformat_minor": 0
}
