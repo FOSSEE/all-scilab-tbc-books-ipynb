{
"cells": [
 {
		   "cell_type": "markdown",
	   "metadata": {},
	   "source": [
       "# Chapter 5: The Discreet Time Fourier Transform"
	   ]
	},
{
		   "cell_type": "markdown",
		   "metadata": {},
		   "source": [
			"## Example 5.12: IDTFT_Impulse_Response_of_Ideal_Low_pass_Filter.sce"
		   ]
		  },
  {
"cell_type": "code",
	   "execution_count": null,
	   "metadata": {
	    "collapsed": true
	   },
	   "outputs": [],
"source": [
"//clear//\n",
"//Example 5.12:IDTFT:Impulse Response of Ideal Low pass Filter \n",
"clear;\n",
"clc;\n",
"close;\n",
"Wc = 1;    //1 rad/sec\n",
"W  = -Wc:0.1:Wc; //Passband of filter\n",
"H0 = 1; //Magnitude of Filter\n",
"HlpW = H0*ones(1,length(W));\n",
"//Inverse Discrete-time Fourier Transform\n",
"t = -2*%pi:2*%pi/length(W):2*%pi;\n",
"ht =(1/(2*%pi))*HlpW *exp(sqrt(-1)*W'*t);\n",
"ht = real(ht);\n",
"figure\n",
"subplot(2,1,1)\n",
"a = gca();\n",
"a.y_location ='origin';\n",
"a.x_location ='origin';\n",
"a.data_bounds=[-%pi,0;%pi,2];\n",
"plot2d(W,HlpW,2);\n",
"poly1 = a.children(1).children(1);\n",
"poly1.thickness = 3;\n",
"xtitle('Frequency Response of LPF H(exp(jW))')\n",
"subplot(2,1,2)\n",
"a = gca();\n",
"a.y_location ='origin';\n",
"a.x_location ='origin';\n",
"a.data_bounds=[-2*%pi,-1;2*%pi,2];\n",
"plot2d3('gnn',t,ht);\n",
"poly1 = a.children(1).children(1);\n",
"poly1.thickness = 3;\n",
"xtitle('Impulse Response of LPF h(t)')"
   ]
   }
,
{
		   "cell_type": "markdown",
		   "metadata": {},
		   "source": [
			"## Example 5.15: Multiplication_Property_of_DTFT.sce"
		   ]
		  },
  {
"cell_type": "code",
	   "execution_count": null,
	   "metadata": {
	    "collapsed": true
	   },
	   "outputs": [],
"source": [
"//clear//\n",
"//Example5.15:Multiplication Property of DTFT\n",
"clear;\n",
"clc;\n",
"close;\n",
"n = 1:100;\n",
"x2 = [3/4,sin(0.75*%pi*n)./(%pi*n)];\n",
"x1 = [1/2,sin(0.5*%pi*n)./(%pi*n)];\n",
"x = x1.*x2;\n",
"Wmax = %pi;       \n",
"K = 1;\n",
"k = 0:(K/1000):K;\n",
"W = k*Wmax/K;\n",
" n = 0:100;\n",
"XW1 = x1* exp(-sqrt(-1)*n'*W);\n",
"XW2 = x2* exp(-sqrt(-1)*n'*W);\n",
"XW = x* exp(-sqrt(-1)*n'*W);\n",
"XW1_Mag = real(XW1);\n",
"XW2_Mag = real(XW2);\n",
"XW_Mag = real(XW);\n",
"W = [-mtlb_fliplr(W), W(2:$)]; // Omega from -Wmax to Wmax\n",
"XW1_Mag = [mtlb_fliplr(XW1_Mag), XW1_Mag(2:$)];\n",
"XW2_Mag = [mtlb_fliplr(XW2_Mag), XW2_Mag(2:$)];\n",
"XW_Mag = [mtlb_fliplr(XW_Mag), XW_Mag(2:$)];\n",
"figure\n",
"subplot(3,1,1)\n",
"a = gca();\n",
"a.y_location = 'origin';\n",
"a.x_location = 'origin';\n",
"plot(W,XW1_Mag);\n",
"title('DTFT X1(exp(jW))');\n",
"subplot(3,1,2)\n",
"a = gca();\n",
"a.y_location = 'origin';\n",
"a.x_location = 'origin';\n",
"plot(W,XW2_Mag);\n",
"title('DTFT X2(exp(jW))');\n",
"subplot(3,1,3)\n",
"a = gca();\n",
"a.y_location = 'origin';\n",
"a.x_location = 'origin';\n",
"plot(W,XW_Mag);\n",
"title('Multiplication Property of DTFT');"
   ]
   }
,
{
		   "cell_type": "markdown",
		   "metadata": {},
		   "source": [
			"## Example 5.1: Discrete_Time_Fourier_Transform_of_discrete_sequence.sce"
		   ]
		  },
  {
"cell_type": "code",
	   "execution_count": null,
	   "metadata": {
	    "collapsed": true
	   },
	   "outputs": [],
"source": [
"//clear//\n",
"//Example 5.1:Discrete Time Fourier Transform of discrete sequence\n",
"//x[n]= (a^n).u[n], a>0 and a<0\n",
"clear;\n",
"clc;\n",
"close;\n",
"// DTS Signal\n",
"a1 = 0.5;\n",
"a2 = -0.5;\n",
"max_limit = 10;\n",
"for n = 0:max_limit-1\n",
"  x1(n+1) = (a1^n);\n",
"  x2(n+1) = (a2^n);\n",
"end\n",
"n = 0:max_limit-1;\n",
"// Discrete-time Fourier Transform\n",
"Wmax = 2*%pi;       \n",
"K = 4;\n",
"k = 0:(K/1000):K;\n",
"W = k*Wmax/K;\n",
"x1 = x1';\n",
"x2 = x2';\n",
"XW1 = x1* exp(-sqrt(-1)*n'*W);\n",
"XW2 = x2* exp(-sqrt(-1)*n'*W);\n",
"XW1_Mag = abs(XW1);\n",
"XW2_Mag = abs(XW2);\n",
"W = [-mtlb_fliplr(W), W(2:1001)]; // Omega from -Wmax to Wmax\n",
"XW1_Mag = [mtlb_fliplr(XW1_Mag), XW1_Mag(2:1001)];\n",
"XW2_Mag = [mtlb_fliplr(XW2_Mag), XW2_Mag(2:1001)];\n",
"[XW1_Phase,db] = phasemag(XW1);\n",
"[XW2_Phase,db] = phasemag(XW2);\n",
"XW1_Phase = [-mtlb_fliplr(XW1_Phase),XW1_Phase(2:1001)];\n",
"XW2_Phase = [-mtlb_fliplr(XW2_Phase),XW2_Phase(2:1001)];\n",
"//plot for a>0\n",
"figure\n",
"subplot(3,1,1);\n",
"plot2d3('gnn',n,x1);\n",
"xtitle('Discrete Time Sequence x[n] for a>0')\n",
"subplot(3,1,2);\n",
"a = gca();\n",
"a.y_location ='origin';\n",
"a.x_location ='origin';\n",
"plot2d(W,XW1_Mag);\n",
"title('Magnitude Response abs(X(jW))')\n",
"subplot(3,1,3);\n",
"a = gca();\n",
"a.y_location ='origin';\n",
"a.x_location ='origin';\n",
"plot2d(W,XW1_Phase);\n",
"title('Phase Response <(X(jW))')\n",
"//plot for a<0\n",
"figure\n",
"subplot(3,1,1);\n",
"plot2d3('gnn',n,x2);\n",
"xtitle('Discrete Time Sequence x[n] for a>0')\n",
"subplot(3,1,2);\n",
"a = gca();\n",
"a.y_location ='origin';\n",
"a.x_location ='origin';\n",
"plot2d(W,XW2_Mag);\n",
"title('Magnitude Response abs(X(jW))')\n",
"subplot(3,1,3);\n",
"a = gca();\n",
"a.y_location ='origin';\n",
"a.x_location ='origin';\n",
"plot2d(W,XW2_Phase);\n",
"title('Phase Response <(X(jW))')"
   ]
   }
,
{
		   "cell_type": "markdown",
		   "metadata": {},
		   "source": [
			"## Example 5.2: Discrete_Time_Fourier_Transform.sce"
		   ]
		  },
  {
"cell_type": "code",
	   "execution_count": null,
	   "metadata": {
	    "collapsed": true
	   },
	   "outputs": [],
"source": [
"//clear//\n",
"//Example 5.2:Discrete Time Fourier Transform of\n",
"//x[n]= (a^abs(n)) a>0 and a<0\n",
"clear;\n",
"clc;\n",
"close;\n",
"// DTS Signal\n",
"a = 0.5;\n",
"max_limit = 10;\n",
"n = -max_limit+1:max_limit-1;\n",
"x = a^abs(n);\n",
"// Discrete-time Fourier Transform\n",
"Wmax = 2*%pi;      \n",
"K = 4;\n",
"k = 0:(K/1000):K;\n",
"W = k*Wmax/K;\n",
"XW = x* exp(-sqrt(-1)*n'*W);\n",
"XW_Mag = real(XW);\n",
"W = [-mtlb_fliplr(W), W(2:1001)]; // Omega from -Wmax to Wmax\n",
"XW_Mag = [mtlb_fliplr(XW_Mag), XW_Mag(2:1001)];\n",
"//plot for abs(a)<1\n",
"figure\n",
"subplot(2,1,1);\n",
"a = gca();\n",
"a.y_location ='origin';\n",
"a.x_location ='origin';\n",
"plot2d3('gnn',n,x);\n",
"xtitle('Discrete Time Sequence x[n] for a>0')\n",
"subplot(2,1,2);\n",
"a = gca();\n",
"a.y_location ='origin';\n",
"a.x_location ='origin';\n",
"plot2d(W,XW_Mag);\n",
"title('Discrete Time Fourier Transform X(exp(jW))')"
   ]
   }
,
{
		   "cell_type": "markdown",
		   "metadata": {},
		   "source": [
			"## Example 5.3: Discrete_Time_Fourier_Transform.sce"
		   ]
		  },
  {
"cell_type": "code",
	   "execution_count": null,
	   "metadata": {
	    "collapsed": true
	   },
	   "outputs": [],
"source": [
"//clear//\n",
"//Example 5.3:Discrete Time Fourier Transform of\n",
"//x[n]= 1 , abs(n)<=N1\n",
"clear;\n",
"clc;\n",
"close;\n",
"// DTS Signal\n",
"N1 = 2;\n",
"n = -N1:N1;\n",
"x = ones(1,length(n));\n",
"// Discrete-time Fourier Transform\n",
"Wmax = 2*%pi;       \n",
"K = 4;\n",
"k = 0:(K/1000):K;\n",
"W = k*Wmax/K;\n",
"XW = x* exp(-sqrt(-1)*n'*W);\n",
"XW_Mag = real(XW);\n",
"W = [-mtlb_fliplr(W), W(2:1001)]; // Omega from -Wmax to Wmax\n",
"XW_Mag = [mtlb_fliplr(XW_Mag), XW_Mag(2:1001)];\n",
"//plot for abs(a)<1\n",
"figure\n",
"subplot(2,1,1);\n",
"a = gca();\n",
"a.y_location ='origin';\n",
"a.x_location ='origin';\n",
"plot2d3('gnn',n,x);\n",
"xtitle('Discrete Time Sequence x[n]')\n",
"subplot(2,1,2);\n",
"a = gca();\n",
"a.y_location ='origin';\n",
"a.x_location ='origin';\n",
"plot2d(W,XW_Mag);\n",
"title('Discrete Time Fourier Transform X(exp(jW))')"
   ]
   }
,
{
		   "cell_type": "markdown",
		   "metadata": {},
		   "source": [
			"## Example 5.5: Time_Fourier_Transform_x_n_cos_nWo_.sce"
		   ]
		  },
  {
"cell_type": "code",
	   "execution_count": null,
	   "metadata": {
	    "collapsed": true
	   },
	   "outputs": [],
"source": [
"//clear//\n",
"//Example5.5:Discrete Time Fourier Transform:x[n]= cos(nWo)\n",
"clear;\n",
"clc;\n",
"close;\n",
"N = 5;\n",
"Wo = 2*%pi/N;\n",
"W = [-Wo,0,Wo];\n",
"XW =[%pi,0,%pi];\n",
"//\n",
"figure\n",
"a = gca();\n",
"a.y_location ='origin';\n",
"a.x_location ='origin';\n",
"plot2d3('gnn',W,XW,2);\n",
"poly1 = a.children(1).children(1);\n",
"poly1.thickness = 3; \n",
"xlabel('                                                      W');\n",
"title('DTFT of cos(nWo)')\n",
"disp(Wo)"
   ]
   }
,
{
		   "cell_type": "markdown",
		   "metadata": {},
		   "source": [
			"## Example 5.6: Discrete_Time_Fourier_Transform.sce"
		   ]
		  },
  {
"cell_type": "code",
	   "execution_count": null,
	   "metadata": {
	    "collapsed": true
	   },
	   "outputs": [],
"source": [
"//clear//\n",
"//Example5.6:Discrete Time Fourier Transform of \n",
"// Periodic Impulse Train\n",
"clear;\n",
"clc;\n",
"close;\n",
"N = 5;\n",
"N1 = -3*N:3*N;\n",
"xn = [zeros(1,N-1),1];\n",
"x = [1 xn xn xn xn xn xn];\n",
"ak = 1/N;\n",
"XW = 2*%pi*ak*ones(1,2*N);\n",
"Wo = 2*%pi/N;\n",
"n  = -N:N-1;\n",
"W = Wo*n;\n",
"figure\n",
"subplot(2,1,1)\n",
"a = gca();\n",
"a.y_location ='origin';\n",
"a.x_location ='origin';\n",
"plot2d3('gnn',N1,x,2);\n",
"poly1 = a.children(1).children(1);\n",
"poly1.thickness = 3; \n",
"xlabel('                                                         n');\n",
"title('Periodic Impulse Train')\n",
"subplot(2,1,2)\n",
"a = gca();\n",
"a.y_location ='origin';\n",
"a.x_location ='origin';\n",
"plot2d3('gnn',W,XW,2);\n",
"poly1 = a.children(1).children(1);\n",
"poly1.thickness = 3; \n",
"xlabel('                                                         W');\n",
"title('DTFT of Periodic Impulse Train')\n",
"disp(Wo)"
   ]
   }
,
{
		   "cell_type": "markdown",
		   "metadata": {},
		   "source": [
			"## Example 5.7: Frequency_Shifting_Property_of_DTFT.sce"
		   ]
		  },
  {
"cell_type": "code",
	   "execution_count": null,
	   "metadata": {
	    "collapsed": true
	   },
	   "outputs": [],
"source": [
"//clear//\n",
"//Example 5.7:Frequency Shifting Property of DTFT:Frequency Response of Ideal Low pass Filter and HPF\n",
"clear;\n",
"clc;\n",
"close;\n",
"Wc = 1;    //1 rad/sec\n",
"W  = -Wc:0.1:Wc; //Passband of filter\n",
"H0 = 1; //Magnitude of Filter\n",
"HlpW = H0*ones(1,length(W));\n",
"Whp1 = W+%pi;\n",
"Whp2 = -W-%pi;\n",
"figure\n",
"subplot(2,1,1)\n",
"a = gca();\n",
"a.y_location ='origin';\n",
"a.x_location ='origin';\n",
"a.data_bounds=[-%pi,0;%pi,2];\n",
"plot2d(W,HlpW);\n",
"xtitle('Frequency Response of LPF H(exp(jW))')\n",
"subplot(2,1,2)\n",
"a = gca();\n",
"a.y_location ='origin';\n",
"a.x_location ='origin';\n",
"a.data_bounds=[-2*%pi,0;2*%pi,2];\n",
"plot2d(Whp1,HlpW);\n",
"plot2d(Whp2,HlpW);\n",
"xtitle('Frequency Response of HPF H(exp(jW))')"
   ]
   }
,
{
		   "cell_type": "markdown",
		   "metadata": {},
		   "source": [
			"## Example 5.9: Expansion_Property_of_DTFT.sce"
		   ]
		  },
  {
"cell_type": "code",
	   "execution_count": null,
	   "metadata": {
	    "collapsed": true
	   },
	   "outputs": [],
"source": [
"//clear//\n",
"//Example 5.9:Time Expansion Property of DTFT\n",
"clear;\n",
"close;\n",
"clc;\n",
"n = -1:11;\n",
"x = [0,1,2,1,2,1,2,1,2,1,2,0,0];\n",
"y = [1,1,1,1,1];\n",
"y_2_n =zeros(1,2*length(y)+1);\n",
"y_2_n(1:2:2*length(y)) = y;\n",
"y_2_n = [0 y_2_n 0];\n",
"y_2_n_1 = [0,y_2_n(1:$-1)];\n",
"x_r = y_2_n+2*y_2_n_1;\n",
"y = [0,y,zeros(1,7)];\n",
"figure\n",
"subplot(4,1,1)\n",
"plot2d3('gnn',n,y)\n",
"title('y[n]')\n",
"subplot(4,1,2)\n",
"plot2d3('gnn',n,y_2_n)\n",
"title('y(2)[n]')\n",
"subplot(4,1,3)\n",
"plot2d3('gnn',n,y_2_n_1)\n",
"title('y(2)[n-1]')\n",
"subplot(4,1,4)\n",
"plot2d3('gnn',n,x)\n",
"title('x[n]=y(2)[n]+2*y(2)[n-1]')"
   ]
   }
],
"metadata": {
		  "kernelspec": {
		   "display_name": "Scilab",
		   "language": "scilab",
		   "name": "scilab"
		  },
		  "language_info": {
		   "file_extension": ".sce",
		   "help_links": [
			{
			 "text": "MetaKernel Magics",
			 "url": "https://github.com/calysto/metakernel/blob/master/metakernel/magics/README.md"
			}
		   ],
		   "mimetype": "text/x-octave",
		   "name": "scilab",
		   "version": "0.7.1"
		  }
		 },
		 "nbformat": 4,
		 "nbformat_minor": 0
}
