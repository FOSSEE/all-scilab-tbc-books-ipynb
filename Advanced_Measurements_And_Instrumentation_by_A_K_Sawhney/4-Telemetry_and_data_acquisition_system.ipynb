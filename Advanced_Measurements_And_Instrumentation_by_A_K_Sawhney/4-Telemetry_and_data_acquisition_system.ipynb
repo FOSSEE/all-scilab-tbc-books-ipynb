{
"cells": [
 {
		   "cell_type": "markdown",
	   "metadata": {},
	   "source": [
       "# Chapter 4: Telemetry and data acquisition system"
	   ]
	},
{
		   "cell_type": "markdown",
		   "metadata": {},
		   "source": [
			"## Example 4.10: Calculating_the_fuel_level.sci"
		   ]
		  },
  {
"cell_type": "code",
	   "execution_count": null,
	   "metadata": {
	    "collapsed": true
	   },
	   "outputs": [],
"source": [
"// 4.10\n",
"clc;\n",
"Fc=430-370;\n",
"disp('At 403 change in frequency')\n",
"Fc1=403-370;\n",
"Fuel_level=Fc1*3000/Fc;\n",
"printf('\nFuel level =%.1f L',Fuel_level)"
   ]
   }
,
{
		   "cell_type": "markdown",
		   "metadata": {},
		   "source": [
			"## Example 4.11: Calculating_the_lowest_practical_sampling_rate.sci"
		   ]
		  },
  {
"cell_type": "code",
	   "execution_count": null,
	   "metadata": {
	    "collapsed": true
	   },
	   "outputs": [],
"source": [
"// 4.11\n",
"clc;\n",
"disp('for good quality data the sampling rate should be at least 5 times the data frequency for one channel')\n",
"channel=5;\n",
"f=50;\n",
"sampling_rate=5*channel*f;\n",
"printf('\nsampling rate =%.1f samples per second',sampling_rate)"
   ]
   }
,
{
		   "cell_type": "markdown",
		   "metadata": {},
		   "source": [
			"## Example 4.12: EX4_12.sci"
		   ]
		  },
  {
"cell_type": "code",
	   "execution_count": null,
	   "metadata": {
	    "collapsed": true
	   },
	   "outputs": [],
"source": [
"//4.12\n",
"clc;\n",
"Vs=7;\n",
"Vn=1;\n",
"fh=10^3;\n",
"H=2*fh*log2(1+(Vs/Vn));\n",
"printf('\nMaximum possible data transmission rate =%.1f bits per second',H)\n",
"Sampling_rate=2*fh;\n",
"printf('\nminimum sampling rate per channel =%.1f samples per second',Sampling_rate)\n",
"C_max=85714/2000;\n",
"printf('\nmaximum number of channels =%.0f ',C_max)"
   ]
   }
,
{
		   "cell_type": "markdown",
		   "metadata": {},
		   "source": [
			"## Example 4.13: Calculating_the_cut_off_frequency.sci"
		   ]
		  },
  {
"cell_type": "code",
	   "execution_count": null,
	   "metadata": {
	    "collapsed": true
	   },
	   "outputs": [],
"source": [
"//4.13\n",
"clc;\n",
"d_rate=100;\n",
"fc= 0.5*d_rate;\n",
"printf('cutt off frquency =%.1f kHz ',fc)"
   ]
   }
,
{
		   "cell_type": "markdown",
		   "metadata": {},
		   "source": [
			"## Example 4.14: Calculating_the_number_of_transmission_channels.sci"
		   ]
		  },
  {
"cell_type": "code",
	   "execution_count": null,
	   "metadata": {
	    "collapsed": true
	   },
	   "outputs": [],
"source": [
"//4.14\n",
"clc;\n",
"disp('The modulated carrier will have a bandwidth of 100MHz+/- 1kHz.')\n",
"disp('therefore we can have 5 channels each transmitting a 1KHz data for 5kHz bandwidth')"
   ]
   }
,
{
		   "cell_type": "markdown",
		   "metadata": {},
		   "source": [
			"## Example 4.15: Calculating_bandwidth_of_intelligence_and_rise_time.sci"
		   ]
		  },
  {
"cell_type": "code",
	   "execution_count": null,
	   "metadata": {
	    "collapsed": true
	   },
	   "outputs": [],
"source": [
"// 4.15\n",
"clc;\n",
"Fd=7.5*165*10^3/100;\n",
"mf=5;\n",
"Bandwidth=Fd/mf;\n",
"printf('Bandwidth of intelligence =%.1f Hz ',Bandwidth)\n",
"Tr=0.35/Bandwidth*10^6;\n",
"printf('\nRise time=%.1f us ',Tr)"
   ]
   }
,
{
		   "cell_type": "markdown",
		   "metadata": {},
		   "source": [
			"## Example 4.1: To_calculate_the_frequencies_present_in_output.sci"
		   ]
		  },
  {
"cell_type": "code",
	   "execution_count": null,
	   "metadata": {
	    "collapsed": true
	   },
	   "outputs": [],
"source": [
"// 4.1\n",
"clc;\n",
"fc=1000;\n",
"disp('In addition to carrier frequency of 1000kHz the other upeer and lower frequencies are')\n",
"fs1=0.3;\n",
"fu1=fc+fs1;\n",
"printf('\nUpper side band frequency for modulating frequency of 300 Hz =%.1f kHz',fu1)\n",
"fl1=fc-fs1;\n",
"printf('\nLower side band frequency for modulating frequency of 300 Hz =%.1f kHz',fl1)\n",
"fs2=0.8;\n",
"fu2=fc+fs2;\n",
"printf('\nUpper side band frequency for modulating frequency of 800 Hz =%.1f kHz',fu2)\n",
"fl2=fc-fs2;\n",
"printf('\nLower side band frequency for modulating frequency of 800 Hz =%.1f kHz',fl2)\n",
"fs3=2;\n",
"fu3=fc+fs3;\n",
"printf('\nUpper side band frequency for modulating frequency of 2kHz =%.1f kHz',fu3)\n",
"fl3=fc-fs3;\n",
"printf('\nLower side band frequency for modulating frequency of 2kHz =%.1f kHz',fl3)"
   ]
   }
,
{
		   "cell_type": "markdown",
		   "metadata": {},
		   "source": [
			"## Example 4.2: To_calculate_the_frequencies_range_occupied_by_the_side_bands.sci"
		   ]
		  },
  {
"cell_type": "code",
	   "execution_count": null,
	   "metadata": {
	    "collapsed": true
	   },
	   "outputs": [],
"source": [
"// 4.2\n",
"clc;\n",
"L=50*10^-6;\n",
"C=1*10^-9;\n",
"fc=1/(2*%pi*(L*C)^0.5);\n",
"fs1=10000;\n",
"fu1=(fc+fs1)*10^-3;\n",
"printf('\nUpper side band frequency =%.2f kHz',fu1)\n",
"fl1=(fc-fs1)*10^-3;\n",
"printf('\nLower side band frequency =%.2f kHz',fl1)"
   ]
   }
,
{
		   "cell_type": "markdown",
		   "metadata": {},
		   "source": [
			"## Example 4.3: To_calculate_the_radiation_power.sci"
		   ]
		  },
  {
"cell_type": "code",
	   "execution_count": null,
	   "metadata": {
	    "collapsed": true
	   },
	   "outputs": [],
"source": [
"// 4.3\n",
"clc;\n",
"Pc=50;\n",
"m=0.85;\n",
"Pt=Pc*(1+(m^2/2))\n",
"printf('Radiation Power =%.2f kW',Pt)"
   ]
   }
,
{
		   "cell_type": "markdown",
		   "metadata": {},
		   "source": [
			"## Example 4.4: To_calculate_the_modulation_indicies.sci"
		   ]
		  },
  {
"cell_type": "code",
	   "execution_count": null,
	   "metadata": {
	    "collapsed": true
	   },
	   "outputs": [],
"source": [
"// 4.4\n",
"clc;\n",
"delta=4.8;\n",
"Es=2.4;\n",
"K=delta/Es;\n",
"Es1=7.2;\n",
"delta1=K*Es1;\n",
"Es2=10;\n",
"delta2=K*Es2;\n",
"fs1=500*10^-3;\n",
"mf1=delta/fs1;\n",
"printf('\nmodulation index for Es (2.4) =%.1f',mf1)\n",
"mf2=delta1/fs1;\n",
"printf('\nmodulation index for Es(7.2)=%.1f',mf2)\n",
"mf3=delta2/fs1;\n",
"printf('\nmodulation indexfor Es(10) =%.1f',mf3)\n",
""
   ]
   }
,
{
		   "cell_type": "markdown",
		   "metadata": {},
		   "source": [
			"## Example 4.5: EX4_5.sci"
		   ]
		  },
  {
"cell_type": "code",
	   "execution_count": null,
	   "metadata": {
	    "collapsed": true
	   },
	   "outputs": [],
"source": [
"// 4.5\n",
"clc;\n",
"wc=6*10^8;\n",
"fc=(wc)/(2*%pi)*10^-3;\n",
"printf('\ncarrier frequency =%.1f kHz',fc)\n",
"ws=1250;\n",
"fs=(ws)/(2*%pi);\n",
"printf('\nmodulating frequency =%.1f Hz',fs)\n",
"mf=5;\n",
"delta=mf*fs;\n",
"printf('\nmaximum deviation =%.1f Hz',delta)\n",
"Rms=12/(2^0.5);\n",
"P=Rms^2/10;\n",
"printf('\nPower dissipated =%.1f W',P)\n",
""
   ]
   }
,
{
		   "cell_type": "markdown",
		   "metadata": {},
		   "source": [
			"## Example 4.6: Calculating_bandwidth_of_intelligence_and_rise_time.sci"
		   ]
		  },
  {
"cell_type": "code",
	   "execution_count": null,
	   "metadata": {
	    "collapsed": true
	   },
	   "outputs": [],
"source": [
"// 4.6\n",
"clc;\n",
"delta=10;\n",
"fs=2;\n",
"mf=delta/fs;\n",
"BW=16*mf;\n",
"printf('\nBand width =%.0f kHz',BW)"
   ]
   }
,
{
		   "cell_type": "markdown",
		   "metadata": {},
		   "source": [
			"## Example 4.7: Write_down_the_voltage_expression.sci"
		   ]
		  },
  {
"cell_type": "code",
	   "execution_count": null,
	   "metadata": {
	    "collapsed": true
	   },
	   "outputs": [],
"source": [
"// 4.7\n",
"clc;\n",
"fc=100*10^6;\n",
"wc=2*%pi*fc;\n",
"fs=6*10^3;\n",
"ws=2*%pi*fs;\n",
"delta=60*10^3;\n",
"mf=delta/fs;\n",
"mp=mf;\n",
"disp('epm=8sin(0.6283*10^9t+10 sin 37.7*10^3t)V')\n",
"disp('for a signal voltage of 4 V')\n",
"mp=4*10/3;\n",
"disp('epm=8sin(0.6283*10^9t+13.33 sin 37.7*10^3t)V')\n",
"disp('for a fs of 8 kHz')\n",
"disp('epm=8sin(0.6283*10^9t+13.33 sin 50.27*10^3t)V')"
   ]
   }
,
{
		   "cell_type": "markdown",
		   "metadata": {},
		   "source": [
			"## Example 4.8: Calculating_the_quantization_error.sci"
		   ]
		  },
  {
"cell_type": "code",
	   "execution_count": null,
	   "metadata": {
	    "collapsed": true
	   },
	   "outputs": [],
"source": [
"// 4.8\n",
"clc;\n",
"n=5;\n",
"Ql=2^n;\n",
"Range=(Ql-1)*1;\n",
"disp('range is 0-31 V with each step representing 1V')\n",
"Qe=27.39-27;\n",
"printf('\nquattization error =%.1f V',Qe)"
   ]
   }
,
{
		   "cell_type": "markdown",
		   "metadata": {},
		   "source": [
			"## Example 4.9: Calculating_the_minimum_carrier_chnnel_bandwidth.sci"
		   ]
		  },
  {
"cell_type": "code",
	   "execution_count": null,
	   "metadata": {
	    "collapsed": true
	   },
	   "outputs": [],
"source": [
"// 4.9\n",
"clc;\n",
"disp('For amplitude modulation')\n",
"MCCW=2*1;\n",
"printf('\nMinimum width of carrier channel =%.1f kHz',MCCW)\n",
"disp('For frequency modulation')\n",
"MCCW=2*(1.5+1);\n",
"printf('\nMinimum width of carrier channel =%.1f kHz',MCCW)\n",
"disp('For pulse code modulation')\n",
"MCCW=8*1;\n",
"printf('\nMinimum width of carrier channel =%.1f kHz',MCCW)"
   ]
   }
],
"metadata": {
		  "kernelspec": {
		   "display_name": "Scilab",
		   "language": "scilab",
		   "name": "scilab"
		  },
		  "language_info": {
		   "file_extension": ".sce",
		   "help_links": [
			{
			 "text": "MetaKernel Magics",
			 "url": "https://github.com/calysto/metakernel/blob/master/metakernel/magics/README.md"
			}
		   ],
		   "mimetype": "text/x-octave",
		   "name": "scilab",
		   "version": "0.7.1"
		  }
		 },
		 "nbformat": 4,
		 "nbformat_minor": 0
}
