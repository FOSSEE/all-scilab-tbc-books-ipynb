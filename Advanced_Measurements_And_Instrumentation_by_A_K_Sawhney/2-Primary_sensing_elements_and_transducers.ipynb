{
"cells": [
 {
		   "cell_type": "markdown",
	   "metadata": {},
	   "source": [
       "# Chapter 2: Primary sensing elements and transducers"
	   ]
	},
{
		   "cell_type": "markdown",
		   "metadata": {},
		   "source": [
			"## Example 2.10: To_plot_the_graph_of_error_versus_K.sci"
		   ]
		  },
  {
"cell_type": "code",
	   "execution_count": null,
	   "metadata": {
	    "collapsed": true
	   },
	   "outputs": [],
"source": [
"// 2.10\n",
"clc;\n",
"K=[0    0.25    0.5    0.75    1];\n",
"V=[0    -0.174    -0.454    -0.524    0];\n",
"plot(K,V)"
   ]
   }
,
{
		   "cell_type": "markdown",
		   "metadata": {},
		   "source": [
			"## Example 2.11: Calculating_the_output_voltage.sci"
		   ]
		  },
  {
"cell_type": "code",
	   "execution_count": null,
	   "metadata": {
	    "collapsed": true
	   },
	   "outputs": [],
"source": [
"//2.11\n",
"clc;\n",
"RAB=125;\n",
"Rtotal=5000;\n",
"R2=75/125*Rtotal;\n",
"R4=2500;\n",
"ei=5;\n",
"eo=[(R2/Rtotal)-(R4/Rtotal)]*ei;\n",
"printf('Output voltage = %.1f V',eo)"
   ]
   }
,
{
		   "cell_type": "markdown",
		   "metadata": {},
		   "source": [
			"## Example 2.12: Calculating_the_maximum_excitation_voltage_and_the_sensitivity.sci"
		   ]
		  },
  {
"cell_type": "code",
	   "execution_count": null,
	   "metadata": {
	    "collapsed": true
	   },
	   "outputs": [],
"source": [
"// 2.12\n",
"clc;\n",
"Rm=10000;\n",
"Rp=Rm/15;\n",
"R=600;\n",
"P=5;\n",
"ei= (P*R)^0.5;\n",
"printf('Maximum excitation voltage = %.1f V',ei)\n",
"S=ei/360;\n",
"printf('\nSensitivity  = %.3f V/degree',S)"
   ]
   }
,
{
		   "cell_type": "markdown",
		   "metadata": {},
		   "source": [
			"## Example 2.13: Calculating_the_resolution_of_the_potentiometer.sci"
		   ]
		  },
  {
"cell_type": "code",
	   "execution_count": null,
	   "metadata": {
	    "collapsed": true
	   },
	   "outputs": [],
"source": [
"// 2.13\n",
"clc;\n",
"Rwga=1/400;\n",
"Re=Rwga/5;\n",
"printf('Resolution = %.4f mm',Re)"
   ]
   }
,
{
		   "cell_type": "markdown",
		   "metadata": {},
		   "source": [
			"## Example 2.14: Checking_the_suitability_of_the_potentiometer.sci"
		   ]
		  },
  {
"cell_type": "code",
	   "execution_count": null,
	   "metadata": {
	    "collapsed": true
	   },
	   "outputs": [],
"source": [
"// 2.14\n",
"clc;\n",
"mo=0.8;\n",
"sr=250;\n",
"sm=sr/mo;\n",
"R=sm*1*10^-3;\n",
"printf('Resolution of 1mm movement = %.4f degree/mm',R)\n",
"Rq=300/1000;\n",
"printf('\nRequired Resolution of 1mm movement = %.3f degree/mm',Rq)\n",
"disp('Since the resolution of potentiometer is higher than the resolution required so it is suitable for the application')"
   ]
   }
,
{
		   "cell_type": "markdown",
		   "metadata": {},
		   "source": [
			"## Example 2.15: Checking_the_suitability_of_the_potentiometer.sci"
		   ]
		  },
  {
"cell_type": "code",
	   "execution_count": null,
	   "metadata": {
	    "collapsed": true
	   },
	   "outputs": [],
"source": [
"// 2.15\n",
"clc;\n",
"Pd=(10^2)/150;\n",
"printf('Power dissipation = %.3f W',Pd)\n",
"th_pot=80+Pd*30;\n",
"PDa=(10*10^-3)*(th_pot-35);\n",
"printf('\nPower dissipation = %.3f W',PDa)\n",
"disp('Since power dissipation is higher than the dissipation allowed so potentiometer is not suitable')\n",
""
   ]
   }
,
{
		   "cell_type": "markdown",
		   "metadata": {},
		   "source": [
			"## Example 2.16: Calculating_the_possions_ratio.sci"
		   ]
		  },
  {
"cell_type": "code",
	   "execution_count": null,
	   "metadata": {
	    "collapsed": true
	   },
	   "outputs": [],
"source": [
"// 2.16\n",
"clc;\n",
"Gf=4.2;\n",
"v=(Gf-1)/2;\n",
"disp(v,'Possion s ratio=')"
   ]
   }
,
{
		   "cell_type": "markdown",
		   "metadata": {},
		   "source": [
			"## Example 2.17: Calculating_the_value_of_the_resistance_of_the_gauges.sci"
		   ]
		  },
  {
"cell_type": "code",
	   "execution_count": null,
	   "metadata": {
	    "collapsed": true
	   },
	   "outputs": [],
"source": [
"// 2.17\n",
"clc;\n",
"strain=-5*10^-6;\n",
"Gf=-12.1;\n",
"R=120;\n",
"dR_nickel=Gf*R*strain;\n",
"printf('Change in resistance of nickel = %.3f ohm',dR_nickel)\n",
"Gf=2;\n",
"R=120;\n",
"dR_nicrome=Gf*R*strain;\n",
"printf('\nChange in resistance of nicrome = %.3f ohm',dR_nicrome)"
   ]
   }
,
{
		   "cell_type": "markdown",
		   "metadata": {},
		   "source": [
			"## Example 2.18: Calculating_the_percentage_change_in_value_of_the_gauge_resistance.sci"
		   ]
		  },
  {
"cell_type": "code",
	   "execution_count": null,
	   "metadata": {
	    "collapsed": true
	   },
	   "outputs": [],
"source": [
"// 2.18\n",
"clc;\n",
"s=100*10^6;\n",
"E=200*10^9;\n",
"strain=s/E;\n",
"Gf=2;\n",
"r_per_unit=Gf*strain*100;\n",
"printf('Percentage change in resistance = %.1f ',r_per_unit)"
   ]
   }
,
{
		   "cell_type": "markdown",
		   "metadata": {},
		   "source": [
			"## Example 2.19: Calculating_the_Gauge_factor.sci"
		   ]
		  },
  {
"cell_type": "code",
	   "execution_count": null,
	   "metadata": {
	    "collapsed": true
	   },
	   "outputs": [],
"source": [
"//2.19\n",
"clc;\n",
"b=0.02;\n",
"d=0.003;\n",
"I=(b*d^3)/12;\n",
"E=200*10^9;\n",
"x=12.7*10^-3;\n",
"l=0.25;\n",
"F=3*E*I*x/l^3;\n",
"x=0.15;\n",
"M=F*x;\n",
"t=0.003;\n",
"s=(M*t)/(I*2);\n",
"strain=s/E;\n",
"dR=0.152;\n",
"R=120;\n",
"Gf=(dR/R)/strain;\n",
"printf('Gauge factor = %.2f ',Gf)"
   ]
   }
,
{
		   "cell_type": "markdown",
		   "metadata": {},
		   "source": [
			"## Example 2.1: To_Calculate_the_displacement_of_the_free_end.sci"
		   ]
		  },
  {
"cell_type": "code",
	   "execution_count": null,
	   "metadata": {
	    "collapsed": true
	   },
	   "outputs": [],
"source": [
"// 2.1\n",
"clc;\n",
"t=0.35;\n",
"P=1500*10^3;\n",
"E=180*10^9;\n",
"r=36.5;\n",
"x=16;\n",
"y=3;\n",
"a=%pi*36.5*10^-3;\n",
"da=(0.05*a*P/E)*((r/t)^0.2)*((x/y)^0.33)*((x/t)^3);\n",
"printf('Displacement of the free end = %.2f m', da)"
   ]
   }
,
{
		   "cell_type": "markdown",
		   "metadata": {},
		   "source": [
			"## Example 2.20: Calculating_the_change_in_length_and_the_force_applied.sci"
		   ]
		  },
  {
"cell_type": "code",
	   "execution_count": null,
	   "metadata": {
	    "collapsed": true
	   },
	   "outputs": [],
"source": [
"// 2.20\n",
"clc;\n",
"dR=0.013;\n",
"R=240;\n",
"l=0.1;\n",
"Gf=2.2;\n",
"dl=(dR/R)*l/Gf*10^6;\n",
"printf(' Change in length= %.1f um ',dl)\n",
"\n",
"strain=dl*10^-6/l;\n",
"E=207*10^9;\n",
"s=E*strain;\n",
"A=4*10^-4;\n",
"F=s*A;\n",
"printf('\n Force= %.2f N ',F)"
   ]
   }
,
{
		   "cell_type": "markdown",
		   "metadata": {},
		   "source": [
			"## Example 2.21: To_calculate_the_linear_approximation.sci"
		   ]
		  },
  {
"cell_type": "code",
	   "execution_count": null,
	   "metadata": {
	    "collapsed": true
	   },
	   "outputs": [],
"source": [
"// 2.21\n",
"clc;\n",
"th1=30;\n",
"th2=60;\n",
"th0=th1+th2/2;\n",
"Rth1=4.8;\n",
"Rth2=6.2;\n",
"Rth0=5.5;\n",
"ath0=(1/Rth0)*(Rth2-Rth1)/(th2-th1);\n",
"printf('\n alpha at o degree= %.4f /degree C ',ath0)\n",
"disp('5.5[1+0.0085(th-45)]')"
   ]
   }
,
{
		   "cell_type": "markdown",
		   "metadata": {},
		   "source": [
			"## Example 2.22: Calculate_the_linear_approximation.sci"
		   ]
		  },
  {
"cell_type": "code",
	   "execution_count": null,
	   "metadata": {
	    "collapsed": true
	   },
	   "outputs": [],
"source": [
"// 2.22\n",
"clc;\n",
"th1=100;\n",
"th2=130;\n",
"th0=th1+th2/2;\n",
"Rth1=573.40;\n",
"Rth2=605.52;\n",
"Rth0=589.48;\n",
"ath0=(1/Rth0)*(Rth2-Rth1)/(th2-th1);\n",
"printf('alpha at o degree= %.5f /degree C ',ath0)\n",
"disp('Linear approximation is: Rth= 589.48[1+0.00182(th-115)]')"
   ]
   }
,
{
		   "cell_type": "markdown",
		   "metadata": {},
		   "source": [
			"## Example 2.23: Calculate_the_resistance_and_the_temperature.sci"
		   ]
		  },
  {
"cell_type": "code",
	   "execution_count": null,
	   "metadata": {
	    "collapsed": true
	   },
	   "outputs": [],
"source": [
"// 2.23\n",
"clc;\n",
"Rth0=100;\n",
"ath0=0.00392;\n",
"dth=65-25;\n",
"R65=Rth0*[1+ath0*dth];\n",
"printf('resistance at 65 degree C= %.2f ohm ',R65)\n",
"th={[(150/100)-1]/ath0}+25;\n",
"printf('\n Temperature = %.2f degree C ',th)"
   ]
   }
,
{
		   "cell_type": "markdown",
		   "metadata": {},
		   "source": [
			"## Example 2.24: Calculate_the_resistance.sci"
		   ]
		  },
  {
"cell_type": "code",
	   "execution_count": null,
	   "metadata": {
	    "collapsed": true
	   },
	   "outputs": [],
"source": [
"// 2.24\n",
"clc;\n",
"Rth0=10;\n",
"ath0=0.00393;\n",
"dth=150-20;\n",
"R150=Rth0*[1+ath0*dth];\n",
"printf('Resistance at 150 degree C=%.2f ohm',R150)"
   ]
   }
,
{
		   "cell_type": "markdown",
		   "metadata": {},
		   "source": [
			"## Example 2.25: Calculate_the_time.sci"
		   ]
		  },
  {
"cell_type": "code",
	   "execution_count": null,
	   "metadata": {
	    "collapsed": true
	   },
	   "outputs": [],
"source": [
"// Calculate the time\n",
"clc;\n",
"th=30;\n",
"th0=50;\n",
"tc=120;\n",
"t=-120*[log(1-(th/th0))];\n",
"printf('Time= %.2f s ',t)"
   ]
   }
,
{
		   "cell_type": "markdown",
		   "metadata": {},
		   "source": [
			"## Example 2.26: To_Calculate_the_resistance.sci"
		   ]
		  },
  {
"cell_type": "code",
	   "execution_count": null,
	   "metadata": {
	    "collapsed": true
	   },
	   "outputs": [],
"source": [
"//2.26\n",
"clc;\n",
"R25=100;\n",
"ath=-0.05;\n",
"dth=35-25;\n",
"R35=R25*[1+ath*dth];\n",
"printf('Resistance at 35 degree C= %.2f ohm ',R35)"
   ]
   }
,
{
		   "cell_type": "markdown",
		   "metadata": {},
		   "source": [
			"## Example 2.27: Calculating_the_resistance.sci"
		   ]
		  },
  {
"cell_type": "code",
	   "execution_count": null,
	   "metadata": {
	    "collapsed": true
	   },
	   "outputs": [],
"source": [
"// 2.27\n",
"clc;\n",
"Ro=3980;\n",
"Ta=273;\n",
"//3980= a*3980*exp(b/273)\n",
"Rt50=794;\n",
"Ta50=273+50;\n",
"//794= a*3980*exp(b/323)\n",
"//on solving\n",
"//a=30*10^-6, b=2843\n",
"Ta40=273+40;\n",
"Rt40=(30*10^-6)*3980*exp(2843/313);\n",
"printf('Resistance at 40 degree C= %.2f ohm ',Rt40)\n",
"Rt100=(30*10^-6)*3980*exp(2843/373);\n",
"printf('\nResistance at 100 degree C= %.2f ohm ',Rt100)"
   ]
   }
,
{
		   "cell_type": "markdown",
		   "metadata": {},
		   "source": [
			"## Example 2.28: calculating_the_change_in_temperature.sci"
		   ]
		  },
  {
"cell_type": "code",
	   "execution_count": null,
	   "metadata": {
	    "collapsed": true
	   },
	   "outputs": [],
"source": [
"// 2.28\n",
"clc;\n",
"th=((1-1800/2000)/0.05)+70;\n",
"dth=th-70;\n",
"printf('Change in temperature= %.1f degree C ',dth)"
   ]
   }
,
{
		   "cell_type": "markdown",
		   "metadata": {},
		   "source": [
			"## Example 2.29: calculating_the_frequencies_of_oscillation.sci"
		   ]
		  },
  {
"cell_type": "code",
	   "execution_count": null,
	   "metadata": {
	    "collapsed": true
	   },
	   "outputs": [],
"source": [
"// 2.29\n",
"clc;\n",
"C=500*10^-12;\n",
"R20=10000*(1-0.05*(20-25));\n",
"f20=1/(2*%pi*R20*C);\n",
"printf('Frequency of oscillation at 20 degree C = %.2f Hz ',f20)\n",
"R25=10000*(1-0.05*(25-25));\n",
"f25=1/(2*%pi*R25*C);\n",
"printf('\nFrequency of oscillation at 25 degree C = %.2f Hz ',f25)\n",
"R30=10000*(1-0.05*(30-25));\n",
"f30=1/(2*%pi*R30*C);\n",
"printf('\nFrequency of oscillation at 30 degree C = %.2f Hz ',f30)"
   ]
   }
,
{
		   "cell_type": "markdown",
		   "metadata": {},
		   "source": [
			"## Example 2.2: To_calculate_the_natural_length_of_the_spring_and_dispacement.sci"
		   ]
		  },
  {
"cell_type": "code",
	   "execution_count": null,
	   "metadata": {
	    "collapsed": true
	   },
	   "outputs": [],
"source": [
"// 2.2\n",
"clc;\n",
"P=100*10^3;\n",
"A=1500*10^-6;\n",
"F=P*A;\n",
"Cs=F/3;\n",
"Ls=Cs+40;\n",
"printf('Natural length of spring = %.2f mm', Ls)\n",
"P1=10*10^3;\n",
"F1=P1*A;\n",
"Ss=3+2*.5;\n",
"D=F1/Ss;\n",
"printf('\nDisplacement of point C = %.2f mm', D)"
   ]
   }
,
{
		   "cell_type": "markdown",
		   "metadata": {},
		   "source": [
			"## Example 2.30: Calculating_the_sensitivity_and_maximum_output_voltage.sci"
		   ]
		  },
  {
"cell_type": "code",
	   "execution_count": null,
	   "metadata": {
	    "collapsed": true
	   },
	   "outputs": [],
"source": [
"// 2.30\n",
"clc;\n",
"Se_thermocouple=500-(-72);\n",
"printf('Sensitivity of thermocouple= %.1f micro V/degree C',Se_thermocouple)\n",
"Vo=Se_thermocouple*100*10^-6;\n",
"printf('\nMaximum output voltage= %.2f V ',Vo)"
   ]
   }
,
{
		   "cell_type": "markdown",
		   "metadata": {},
		   "source": [
			"## Example 2.31: Calculating_the_temperature.sci"
		   ]
		  },
  {
"cell_type": "code",
	   "execution_count": null,
	   "metadata": {
	    "collapsed": true
	   },
	   "outputs": [],
"source": [
"// 2.31\n",
"clc;\n",
"ET=27.07+0.8;\n",
"printf('Required e.m.f.= %.2f mV ',ET)\n",
"disp('Temperature corresponding to 27.87 mV is 620 degree C')"
   ]
   }
,
{
		   "cell_type": "markdown",
		   "metadata": {},
		   "source": [
			"## Example 2.32: Calcating_the_series_resistance_and_approximate_error.sci"
		   ]
		  },
  {
"cell_type": "code",
	   "execution_count": null,
	   "metadata": {
	    "collapsed": true
	   },
	   "outputs": [],
"source": [
"// 2.32\n",
"clc;\n",
"Rm=50;\n",
"Re=12;\n",
"E=33.3*10^-3;\n",
"i=0.1*10^-3;\n",
"Rs=(E/i)-Rm-Re;\n",
"printf('Series resistance=%.2f ohm',Rs)\n",
"Re=13;\n",
"i1=E/(Rs+Re+Rm);\n",
"AE=[(i1-i)/i]*800;\n",
"printf('\nApproximate error due to rise in resistance of 1 ohm in Re=%.2f degree C',AE)\n",
"R_change=50*0.00426*10;\n",
"i1=E/(Rs+Re+Rm+R_change);\n",
"AE=[(i1-i)/i]*800;\n",
"printf('\nApproximate error due to rise in Temp. of 10=%.2f degree C',AE)"
   ]
   }
,
{
		   "cell_type": "markdown",
		   "metadata": {},
		   "source": [
			"## Example 2.33: Calculate_the_values_of_resistance_R1_and_R2.sci"
		   ]
		  },
  {
"cell_type": "code",
	   "execution_count": null,
	   "metadata": {
	    "collapsed": true
	   },
	   "outputs": [],
"source": [
"// 2.33\n",
"clc;\n",
"E_20=0.112*10^-3;// emf at 20degree C\n",
"E_900=8.446*10^-3;\n",
"E_1200=11.946*10^-3;\n",
"E1=E_900-E_20;\n",
"E2=E_1200-E_20;\n",
"//E1=1.08*R1/(R1+2.5+R2      (i)\n",
"//E2=1.08*(R1+2.5)/(R1+2.5+R2      (ii)\n",
"//on solving (i) and (ii)\n",
"R1=5.95;\n",
"R2=762.6;\n",
"printf('Value of resistance R1=%.2f ohm',R1)\n",
"printf('\nValue of resistance R2=%.2f ohm',R2)"
   ]
   }
,
{
		   "cell_type": "markdown",
		   "metadata": {},
		   "source": [
			"## Example 2.34: Design_the_circuit.sci"
		   ]
		  },
  {
"cell_type": "code",
	   "execution_count": null,
	   "metadata": {
	    "collapsed": true
	   },
	   "outputs": [],
"source": [
"// 2.34\n",
"clc;\n",
"th=20;\n",
"Vz=2.73+th*10*10^-3;\n",
"Voffset=-2.73;\n",
"Vout=Vz+Voffset;\n",
"Rbias=(5-0.2)/10^-3;\n",
"Rzero=500;\n",
"th=50;\n",
"Vz=2.73+th*10*10^-3;\n",
"VmaxT=Vz+Voffset;\n",
"Vsupply=5;\n",
"Rl=(VmaxT*Rbias)/(Vsupply-VmaxT);\n",
"printf('Value of resistance R1=%.2f ohm',R1)\n",
"disp('value of resistance RL>>Rl')"
   ]
   }
,
{
		   "cell_type": "markdown",
		   "metadata": {},
		   "source": [
			"## Example 2.35: Calculate_the_change_in_inductance.sci"
		   ]
		  },
  {
"cell_type": "code",
	   "execution_count": null,
	   "metadata": {
	    "collapsed": true
	   },
	   "outputs": [],
"source": [
"// 2.35\n",
"clc;\n",
"L1=2;\n",
"La=1-0.02;\n",
"Lnew=2/La;\n",
"dl=Lnew-L1;\n",
"printf('Change in inductance=%.2f mH',dl)"
   ]
   }
,
{
		   "cell_type": "markdown",
		   "metadata": {},
		   "source": [
			"## Example 2.36: Calculate_the_percentage_linearity.sci"
		   ]
		  },
  {
"cell_type": "code",
	   "execution_count": null,
	   "metadata": {
	    "collapsed": true
	   },
	   "outputs": [],
"source": [
"// 2.36\n",
"clc;\n",
"linearity_percentage=(0.003/1.5)*100;\n",
"printf('percentage linearity=%.2f ',linearity_percentage)"
   ]
   }
,
{
		   "cell_type": "markdown",
		   "metadata": {},
		   "source": [
			"## Example 2.37: Calculate_senstivity_of_the_LVDT_Instrument_and_resolution_of_instrument_in_mm.sci"
		   ]
		  },
  {
"cell_type": "code",
	   "execution_count": null,
	   "metadata": {
	    "collapsed": true
	   },
	   "outputs": [],
"source": [
"// 2.37\n",
"clc;\n",
"displacement=0.5;\n",
"Vo=2*10^-3;\n",
"Se_LVDT=Vo/displacement;\n",
"printf('senstivity of the LVDT=%.3f V/mm',Se_LVDT)\n",
"Af=250;\n",
"Se_instrument=Se_LVDT*Af;\n",
"printf('\nSenstivity of the instrument=%.1f V/mm',Se_instrument)\n",
"sd=5/100;\n",
"Vo_min=50/5;\n",
"Re_instrument=1*1/1000;\n",
"printf('\nresolution of instrument=%.3f mm',Re_instrument)"
   ]
   }
,
{
		   "cell_type": "markdown",
		   "metadata": {},
		   "source": [
			"## Example 2.38: calculate_the_deflection_maximum_and_minimum_force.sci"
		   ]
		  },
  {
"cell_type": "code",
	   "execution_count": null,
	   "metadata": {
	    "collapsed": true
	   },
	   "outputs": [],
"source": [
"// 2.38\n",
"clc;\n",
"b=0.02;\n",
"t=0.004;\n",
"I=(1/12)*b*t^3;\n",
"F=25;\n",
"l=0.25;\n",
"E=200*10^9;\n",
"x=(F*l^3)/(3*E*I);\n",
"printf('deflection=%.2f m',x)\n",
"DpF=x/F;\n",
"Se=DpF*0.5*1000;\n",
"Re=(10/1000)*(2/10);\n",
"F_min=Re/Se;\n",
"F_max=10/Se;\n",
"printf('\nminimum force=%.2f N',F_min)\n",
"printf('\nmaximum force=%.2f N',F_max)\n",
""
   ]
   }
,
{
		   "cell_type": "markdown",
		   "metadata": {},
		   "source": [
			"## Example 2.39: calculating_the_sensitivity_of_the_transducer.sci"
		   ]
		  },
  {
"cell_type": "code",
	   "execution_count": null,
	   "metadata": {
	    "collapsed": true
	   },
	   "outputs": [],
"source": [
"// 2.39\n",
"clc;\n",
"disp('permittivity of the air e0=8.85*10^-12')\n",
"e0=8.85*10^-12;\n",
"w=25*10^-3;\n",
"d=0.25*10^-3;\n",
"Se=-4*e0*w/d;\n",
"printf('sensitivity of the transducer=%.2f F/m',Se)"
   ]
   }
,
{
		   "cell_type": "markdown",
		   "metadata": {},
		   "source": [
			"## Example 2.3: To_calculate_the_deflection_at_center_and_natural_frequency_of_the_diaphragm.sci"
		   ]
		  },
  {
"cell_type": "code",
	   "execution_count": null,
	   "metadata": {
	    "collapsed": true
	   },
	   "outputs": [],
"source": [
"// 2.3\n",
"clc;\n",
"D=15*10^-3;\n",
"P=300*10^3;\n",
"sm=300*10^6;\n",
"t=[3*D^2*P/(16*sm)]^0.5*10^3;\n",
"printf('Thickness = %.2f mm',t)\n",
"P=150*10^3;\n",
"v=0.28;\n",
"E=200*10^9;\n",
"dm=3*(1-v^2)*D^4*P/(256*E*t^3);\n",
"printf('\nDeflection at center for Pressure of 150 kN/m2= %.4f mm',dm)\n",
"d=8900;\n",
"wn=(20*t*10^-3/D^2)*(E/(3*d*(1-v^2)))^0.5;\n",
"printf('\nNatural frequency of the diaphragm =%.0f rad/sec',wn)"
   ]
   }
,
{
		   "cell_type": "markdown",
		   "metadata": {},
		   "source": [
			"## Example 2.40: Calculate_the_value_of_the_capacitance_afte_the_application_of_pressure.sci"
		   ]
		  },
  {
"cell_type": "code",
	   "execution_count": null,
	   "metadata": {
	    "collapsed": true
	   },
	   "outputs": [],
"source": [
"// 2.40\n",
"clc;\n",
"C1=370*10^-12;\n",
"d1=3.5*10^-3;\n",
"d2=2.9*10^-3;\n",
"C2=C1*d1*10^12/d2;\n",
"printf('the value of the capacitance afte the application of pressure=%.2f pF',C2)"
   ]
   }
,
{
		   "cell_type": "markdown",
		   "metadata": {},
		   "source": [
			"## Example 2.41: Calculate_the_change_in_frequency_of_the_oscillator.sci"
		   ]
		  },
  {
"cell_type": "code",
	   "execution_count": null,
	   "metadata": {
	    "collapsed": true
	   },
	   "outputs": [],
"source": [
"// 2.41\n",
"clc;\n",
"fo1=100*10^3;\n",
"d1=4;\n",
"d2=3.7;\n",
"fo2=[(d2/d1)^0.5]*fo1;\n",
"dfo=fo1-fo2/10^-3;\n",
"printf('change in frequency of the oscillator=%.1f kHz',dfo)"
   ]
   }
,
{
		   "cell_type": "markdown",
		   "metadata": {},
		   "source": [
			"## Example 2.42: Calculate_the_dielectric_stress_change_in_value_of_capacitance.sci"
		   ]
		  },
  {
"cell_type": "code",
	   "execution_count": null,
	   "metadata": {
	    "collapsed": true
	   },
	   "outputs": [],
"source": [
"// 2.42\n",
"clc;\n",
"L_air=(3.1-3)/2;\n",
"D_stress=100/L_air;\n",
"e0=8.85*10^-12;\n",
"l=20*10^-3;\n",
"D2=3.1;\n",
"D1=3;\n",
"C=(2*%pi)*e0*l*10^12/(log(D2/D1));\n",
"printf('Capacitance=%.1f pF',C)\n",
"l=(20*10^-3)-(2*10^-3);\n",
"C_new=(2*%pi)*e0*l/(log(D2/D1));\n",
"C_change=C-C_new*10^12;\n",
"printf('\nchange in Capacitance=%.1f pF',C_change)"
   ]
   }
,
{
		   "cell_type": "markdown",
		   "metadata": {},
		   "source": [
			"## Example 2.43: EX2_43.sci"
		   ]
		  },
  {
"cell_type": "code",
	   "execution_count": null,
	   "metadata": {
	    "collapsed": true
	   },
	   "outputs": [],
"source": [
"//2.43\n",
"clc;\n",
"M=0.95;\n",
"w=2*%pi*20;\n",
"tc=(1/w)*[(M^2)/(1-M^2)]^0.5;\n",
"printf('Time constant=%.2f s',tc)\n",
"ph={(%pi/2)-[atan(w*tc)]}*(180/%pi);\n",
"printf('\nPhase shift=%.1f deg',ph)\n",
"C=(8.85*10^-12*300*10^-6)/(0.125*10^-3);\n",
"R=tc*10^-6/C;\n",
"printf('\nSeries resistance=%.0f Mohm',R)\n",
"M=1/(1+(1/(2*%pi*5*tc)^2))^0.5;\n",
"printf('\nAmplitude ratio=%.1f ',M)\n",
"Eb=100;\n",
"x=0.125*10^-3;\n",
"Vs=Eb/x;\n",
"printf('\nVoltage sensitivity=%.1f V/m',Vs)\n",
"\n",
""
   ]
   }
,
{
		   "cell_type": "markdown",
		   "metadata": {},
		   "source": [
			"## Example 2.44: Calculate_the_change_in_capacitance_and_ratio.sci"
		   ]
		  },
  {
"cell_type": "code",
	   "execution_count": null,
	   "metadata": {
	    "collapsed": true
	   },
	   "outputs": [],
"source": [
"//2.44\n",
"clc;\n",
"e0=8.85*10^-12;\n",
"A=500*10^-6;\n",
"d=0.2*10^-3;\n",
"C=e0*A/d;\n",
"d1=0.18*10^-3;\n",
"C_new=e0*A/d1;\n",
"C_change=C_new-C;\n",
"Ratio=(C_change/C)/(0.02/0.2);\n",
"printf('\nratio of per unit change of capacitance to per unit change of diaplacement=%.2f',Ratio)\n",
"d1=0.19*10^-3;\n",
"e1=1;\n",
"d2=0.01*10^-3;\n",
"e2=8;\n",
"C=(e0*A)/((d1/e1)+(d2/e2));\n",
"d1_new=0.17*10^-3;\n",
"C_new=(e0*A)/((d1_new/e1)+(d2/e2));\n",
"C_change=C_new-C;\n",
"Ratio=(C_change/C)/(0.02/0.2);\n",
"printf('\n New ratio of per unit change of capacitance to per unit change of diaplacement=%.2f',Ratio)"
   ]
   }
,
{
		   "cell_type": "markdown",
		   "metadata": {},
		   "source": [
			"## Example 2.47: Calculate_the_output_voltage_and_charge_sensitivity.sci"
		   ]
		  },
  {
"cell_type": "code",
	   "execution_count": null,
	   "metadata": {
	    "collapsed": true
	   },
	   "outputs": [],
"source": [
"// 2.47\n",
"clc;\n",
"g=0.055;\n",
"t=2*10^-3;\n",
"P=1.5*10^6;\n",
"Eo=g*t*P;\n",
"printf('Output voltage=%.0f V',Eo)\n",
"e=40.6*10^-12;\n",
"d=e*g*10^12;\n",
"printf('\n Charge sensitivity=%.2f pC/N',d)"
   ]
   }
,
{
		   "cell_type": "markdown",
		   "metadata": {},
		   "source": [
			"## Example 2.48: Calculate_the_force.sci"
		   ]
		  },
  {
"cell_type": "code",
	   "execution_count": null,
	   "metadata": {
	    "collapsed": true
	   },
	   "outputs": [],
"source": [
"// 2.48\n",
"clc;\n",
"g=0.055;\n",
"t=1.5*10^-3;\n",
"Eo=100;\n",
"P= Eo/(g*t);\n",
"A=25*10^-6;\n",
"F=P*A;\n",
"printf('\n Force=%.0f N',F)"
   ]
   }
,
{
		   "cell_type": "markdown",
		   "metadata": {},
		   "source": [
			"## Example 2.49: Calculate_the_strain_charge_and_capacitance.sci"
		   ]
		  },
  {
"cell_type": "code",
	   "execution_count": null,
	   "metadata": {
	    "collapsed": true
	   },
	   "outputs": [],
"source": [
"// 2.49\n",
"clc;\n",
"A=25*10^-6;\n",
"F=5;\n",
"P=F/A;\n",
"d=150*10^-12;\n",
"e=12.5*10^-9;\n",
"g=d/(e);\n",
"t=1.25*10^-3;\n",
"Eo=(g*t*P);\n",
"strain=P/(12*10^6);\n",
"Q=d*F*10^12;\n",
"C=Q/Eo;\n",
"printf('\n strain=%.4f ',strain)\n",
"printf('\n Charge=%.0f pC',Q)\n",
"printf('\n capacitance=%.0f pF',C)"
   ]
   }
,
{
		   "cell_type": "markdown",
		   "metadata": {},
		   "source": [
			"## Example 2.4: To_calculate_the_angle_of_twist.sci"
		   ]
		  },
  {
"cell_type": "code",
	   "execution_count": null,
	   "metadata": {
	    "collapsed": true
	   },
	   "outputs": [],
"source": [
"// 2.4\n",
"clc;\n",
"T=100;\n",
"G=80*10^9;\n",
"d=2*15*10^-3;\n",
"th=16*T/(%pi*G*d^3)\n",
"printf('Angle of twist= %.6f rad',th)"
   ]
   }
,
{
		   "cell_type": "markdown",
		   "metadata": {},
		   "source": [
			"## Example 2.50: EX2_50.sci"
		   ]
		  },
  {
"cell_type": "code",
	   "execution_count": null,
	   "metadata": {
	    "collapsed": true
	   },
	   "outputs": [],
"source": [
"// 2.50\n",
"clc;\n",
"d=2*10^-12;\n",
"t=1*10^-3;\n",
"Fmax=0.01;\n",
"e0=8.85*10^-12;\n",
"er=5;\n",
"A=100*10^-6;\n",
"Eo_peak_to_peak=2*d*t*Fmax*10^3/(e0*er*A);\n",
"printf('\n peak voltage swing under open conditions=%.2f mV',Eo_peak_to_peak)\n",
"Rl=100*10^6;\n",
"Cl=20*10^-12;\n",
"d1=1*10^-3;\n",
"Cp=e0*er*A/d1;\n",
"C=Cp+Cl;\n",
"w=1000;\n",
"m=[w*Cp*Rl/[1+(w*C*Rl)^2]^0.5];\n",
"El_peak_to_peak=[2*d*t*Fmax*10^3/(e0*er*A)]*m;\n",
"printf('\n peak voltage swing under loaded conditions=%.2f mV',El_peak_to_peak)\n",
"E=90*10^9;\n",
"dt=2*Fmax*t*10^12/(A*E);\n",
"printf('\n Maximum change in crystal thickness=%.2f pm',dt)"
   ]
   }
,
{
		   "cell_type": "markdown",
		   "metadata": {},
		   "source": [
			"## Example 2.51: Calculate_the_minimum_frequency_and_phase_shift.sci"
		   ]
		  },
  {
"cell_type": "code",
	   "execution_count": null,
	   "metadata": {
	    "collapsed": true
	   },
	   "outputs": [],
"source": [
"// 2.51\n",
"clc;\n",
"M=0.95;\n",
"tc=1.5*10^-3;\n",
"w=(1/tc)*[(M^2)/(1-M^2)]^0.5;\n",
"printf('\n Minimum frequency=%.2f rad/sec',w)\n",
"ph={(%pi/2)-[atan(w*tc)]}*(180/%pi);\n",
"printf('\n Phase shift=%.2f deg',ph)"
   ]
   }
,
{
		   "cell_type": "markdown",
		   "metadata": {},
		   "source": [
			"## Example 2.52: EX2_52.sci"
		   ]
		  },
  {
"cell_type": "code",
	   "execution_count": null,
	   "metadata": {
	    "collapsed": true
	   },
	   "outputs": [],
"source": [
"//2.52\n",
"clc;\n",
"Kq=40*10^-3;\n",
"Cp=1000*10^-12;\n",
"K=Kq/Cp;\n",
"printf(' Sensitivity of the transducer=%.2f V/m',K)\n",
"Cc=300*10^-12;\n",
"Ca=50*10^-12;\n",
"C=Cp+Cc+Ca;\n",
"Hf=Kq/C;\n",
"printf('\n High frequency sensitivity =%.2f V/m',Hf)\n",
"R=1*10^6;\n",
"tc=R*C;\n",
"M=0.95;\n",
"w=(1/tc)*[(M^2)/(1-M^2)]^0.5;\n",
"f=w/(2*%pi);\n",
"printf('\n Minimum frequency=%.2f sec',f)\n",
"disp('now f=10Hz')\n",
"f=10;\n",
"w=2*%pi*f;\n",
"tc=(1/w)*[(M^2)/(1-M^2)]^0.5;\n",
"C_new=tc/R;\n",
"Ce=(C_new-C)*10^6;\n",
"printf('\n External shunt capacitance=%.2f pF',Ce)\n",
"Hf_new=Kq/C_new;\n",
"printf('\n new value of high frequency sensitivity=%.2f V/m',Hf_new)\n",
""
   ]
   }
,
{
		   "cell_type": "markdown",
		   "metadata": {},
		   "source": [
			"## Example 2.53: Calculate_output_voltage_10_ms_after_the_application_of_impulse.sci"
		   ]
		  },
  {
"cell_type": "code",
	   "execution_count": null,
	   "metadata": {
	    "collapsed": true
	   },
	   "outputs": [],
"source": [
"// 2.53\n",
"clc;\n",
"R=10^6;\n",
"C=2500*10^-12;\n",
"tc=R*C;\n",
"t=2*10^-3;\n",
"d=100*10^-12;\n",
"F=0.1;\n",
"el=10^3*{d*F*[exp(-t/tc)]/C};\n",
"printf('Voltage just before t=2ms =%.2f mV',e1)\n",
"el_after=10^3*{d*F*[exp(-t/tc)-1]/C};\n",
"disp(el_after,'voltage just after t=2ms (mV)')\n",
"printf('Voltage just after t=2ms =%.2f mV',el_after)\n",
"disp('when t=10ms')\n",
"t=10*10^-3;\n",
"T=2*10\n",
"e_10=10^3*{d*F*[exp((-T/tc)-1)]*{exp(-(t-T))/tc}/C}\n",
"printf('output voltage 10 ms after the application of impulse =%.0f mV',e_10)"
   ]
   }
,
{
		   "cell_type": "markdown",
		   "metadata": {},
		   "source": [
			"## Example 2.54: EX2_54.sci"
		   ]
		  },
  {
"cell_type": "code",
	   "execution_count": null,
	   "metadata": {
	    "collapsed": true
	   },
	   "outputs": [],
"source": [
"// 2.54\n",
"clc;\n",
"disp('Let T=1');\n",
"T=1;\n",
"el=0.95;\n",
"tc=-T/log(el);\n",
"printf('Time constant =%.2f s',tc)\n",
"disp('as T=1 so time constant should be approximately equal to 20T')"
   ]
   }
,
{
		   "cell_type": "markdown",
		   "metadata": {},
		   "source": [
			"## Example 2.55: Calculate_the_output_voltage.sci"
		   ]
		  },
  {
"cell_type": "code",
	   "execution_count": null,
	   "metadata": {
	    "collapsed": true
	   },
	   "outputs": [],
"source": [
"//2.55\n",
"clc;\n",
"Kh=-1*10^-6;\n",
"I=3;\n",
"B=0.5;\n",
"t=2*10^-3;\n",
"Eh=Kh*I*B*10^3/t;\n",
"printf('output voltage =%.2f mV',Eh)"
   ]
   }
,
{
		   "cell_type": "markdown",
		   "metadata": {},
		   "source": [
			"## Example 2.56: Calculate_the_external_resistance_and_dark_current.sci"
		   ]
		  },
  {
"cell_type": "code",
	   "execution_count": null,
	   "metadata": {
	    "collapsed": true
	   },
	   "outputs": [],
"source": [
"//2.56\n",
"clc;\n",
"R1=(30/10*10^-3)-1000;\n",
"printf('External resistance required =%.3f ohm',R1)\n",
"Id=30*10^3/((2*10^3)+(100*10^3))\n",
"printf('\nDark current =%.2f mA',Id)"
   ]
   }
,
{
		   "cell_type": "markdown",
		   "metadata": {},
		   "source": [
			"## Example 2.57: Calculate_the_output_voltage_of_bridge.sci"
		   ]
		  },
  {
"cell_type": "code",
	   "execution_count": null,
	   "metadata": {
	    "collapsed": true
	   },
	   "outputs": [],
"source": [
"//2.57\n",
"clc;\n",
"Vb=10-(10/((2*10^3))*10^3);\n",
"disp(Vb,'Potential of point b, Vb=')\n",
"Vd=10-(10/((3*10^3))*2*10^3);\n",
"disp(Vd,'Potential of point d, Vd=')\n",
"Ebd=Vb-Vd;\n",
"printf('\nOutout voltage of bridge =%.2f V',Ebd)"
   ]
   }
,
{
		   "cell_type": "markdown",
		   "metadata": {},
		   "source": [
			"## Example 2.5: EX2_5.sci"
		   ]
		  },
  {
"cell_type": "code",
	   "execution_count": null,
	   "metadata": {
	    "collapsed": true
	   },
	   "outputs": [],
"source": [
"// 2.5\n",
"clc;\n",
"d=60*10^-3;\n",
"Q=80*10^-3;\n",
"A=(%pi/4)*d^2;\n",
"v=Q/A;\n",
"vi=10^-3;\n",
"de=10^3;\n",
"Re=v*de*d/vi;\n",
"printf('Reynoids number = %.2f mm',Re)\n",
"d2=60*10^-3;\n",
"d1=100*10^-3;\n",
"A2=(%pi/4)*d2^2;\n",
"M=1/[(1-(d2/d1)^2)^0.5];\n",
"Cd=0.99;\n",
"w=1*10^3;\n",
"Qact=80*10^-3;\n",
"Pd=[[Qact/(Cd*M*A2)]^2]*w/(2)*10^-3;\n",
"printf('\nDifferential pressure = %.0f kN/m2 ',Pd)\n",
"Po=0.28;\n",
"D=10*10^-3;\n",
"E=206*10^9;\n",
"t=0.2*10^-3;\n",
"dm=[3*(1-Po^2)*D^4*Pd]/(256*E*t^3);\n",
"def=dm*10^6;\n",
"printf('\nDeflection at the center of diaphragm = %.2f micro m',def)"
   ]
   }
,
{
		   "cell_type": "markdown",
		   "metadata": {},
		   "source": [
			"## Example 2.6: To_calculate_mean_velocity_of_water_and_velocity_of_air.sci"
		   ]
		  },
  {
"cell_type": "code",
	   "execution_count": null,
	   "metadata": {
	    "collapsed": true
	   },
	   "outputs": [],
"source": [
"// 2.6\n",
"clc;\n",
"Pd=10*10^3;\n",
"d=1000;\n",
"VmeanW= (2*Pd/d)^0.5;\n",
"printf('Mean velocity of water = %.2f m/s',VmeanW)\n",
"d=0.65;\n",
"Va= (2*Pd/d)^0.5;\n",
"printf('\nVelocity of air= %.1f m/s',Va)"
   ]
   }
,
{
		   "cell_type": "markdown",
		   "metadata": {},
		   "source": [
			"## Example 2.7: To_calculate_depth_of_flow.sci"
		   ]
		  },
  {
"cell_type": "code",
	   "execution_count": null,
	   "metadata": {
	    "collapsed": true
	   },
	   "outputs": [],
"source": [
"// 2.7\n",
"disp('let coefficient of discharge Cd=1')\n",
"H1=0.9;\n",
"L=1.2;\n",
"g=9.81;\n",
"Q=(2/3)*L*(2*g)^0.5*(H1)^(1.5);\n",
"th=45;\n",
"H2={Q*(15/8)/[(2*g)^0.5*tan(th)]}^(-1/2.5);\n",
"printf('Depth of flow = %.1f m',H2)"
   ]
   }
,
{
		   "cell_type": "markdown",
		   "metadata": {},
		   "source": [
			"## Example 2.8: To_calculate_uncertinity_in_discharge.sci"
		   ]
		  },
  {
"cell_type": "code",
	   "execution_count": null,
	   "metadata": {
	    "collapsed": true
	   },
	   "outputs": [],
"source": [
"// 2.8\n",
"Cd=0.6;\n",
"H=0.5;\n",
"dH=0.01;\n",
"g=9.81;\n",
"Q=(8/15)*Cd*(2*g)^0.5*(H)^(2.5);\n",
"dQ=(2.5*dH/H)*Q;\n",
"printf('Uncertinity in discharge = %.4f m3/s',dQ)"
   ]
   }
,
{
		   "cell_type": "markdown",
		   "metadata": {},
		   "source": [
			"## Example 2.9: To_calculate_the_displacement_and_resolution_of_the_potentiometer.sci"
		   ]
		  },
  {
"cell_type": "code",
	   "execution_count": null,
	   "metadata": {
	    "collapsed": true
	   },
	   "outputs": [],
"source": [
"// 2.9\n",
"clc;\n",
"Rnormal=10000/2;\n",
"Rpl=10000/50;\n",
"Rc1=Rnormal-3850;\n",
"Dnormal=Rc1/Rpl;\n",
"printf('Displacement = %.2f mm',Dnormal)\n",
"Rc2=Rnormal-7560;\n",
"Dnormal=Rc2/Rpl;\n",
"printf('\nDisplacement = %.2f mm',Dnormal)\n",
"disp('One displacement is positive and other is negative so two displacements are in the opposite direction')\n",
"Re=10*1/200;\n",
"printf('\nResolution = %.2f mm',Re)"
   ]
   }
],
"metadata": {
		  "kernelspec": {
		   "display_name": "Scilab",
		   "language": "scilab",
		   "name": "scilab"
		  },
		  "language_info": {
		   "file_extension": ".sce",
		   "help_links": [
			{
			 "text": "MetaKernel Magics",
			 "url": "https://github.com/calysto/metakernel/blob/master/metakernel/magics/README.md"
			}
		   ],
		   "mimetype": "text/x-octave",
		   "name": "scilab",
		   "version": "0.7.1"
		  }
		 },
		 "nbformat": 4,
		 "nbformat_minor": 0
}
