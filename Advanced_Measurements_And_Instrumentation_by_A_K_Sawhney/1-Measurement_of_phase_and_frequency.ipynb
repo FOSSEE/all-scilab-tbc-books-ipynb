{
"cells": [
 {
		   "cell_type": "markdown",
	   "metadata": {},
	   "source": [
       "# Chapter 1: Measurement of phase and frequency"
	   ]
	},
{
		   "cell_type": "markdown",
		   "metadata": {},
		   "source": [
			"## Example 1.1: To_Calculate_the_inductance_of_the_circuit_and_resonant_frequency.sci"
		   ]
		  },
  {
"cell_type": "code",
	   "execution_count": null,
	   "metadata": {
	    "collapsed": true
	   },
	   "outputs": [],
"source": [
"// 1.1\n",
"clc;\n",
"c1=10^-6;\n",
"f1=60;\n",
"L1=1/(4*%pi*%pi*(f1^2)*c1);\n",
"printf('inductance of the circuit 1 = %.2f H', L1)\n",
"f2=50;\n",
"w=2*%pi*f2;\n",
"R1=100;\n",
"Z1=complex(R1,((w*L1)-(1/w*c1)));\n",
"//Z2=complex(100+j*((2*%pi*50*L2)-(1/(2*%pi*50*1.5*10^-6)))));\n",
"//for equal currents in two circuits Z1=Z2\n",
"disp('inductance of circuit 2 L2=9.82 H')\n",
"L2=9.82;\n",
"C2=1.5*10^-6;\n",
"Rf2=(1/(2*%pi))*(1/(L2*C2))^0.5;\n",
"printf('Resonant frequency of the circuit 1 = %.2f Hz', Rf2)\n",
""
   ]
   }
],
"metadata": {
		  "kernelspec": {
		   "display_name": "Scilab",
		   "language": "scilab",
		   "name": "scilab"
		  },
		  "language_info": {
		   "file_extension": ".sce",
		   "help_links": [
			{
			 "text": "MetaKernel Magics",
			 "url": "https://github.com/calysto/metakernel/blob/master/metakernel/magics/README.md"
			}
		   ],
		   "mimetype": "text/x-octave",
		   "name": "scilab",
		   "version": "0.7.1"
		  }
		 },
		 "nbformat": 4,
		 "nbformat_minor": 0
}
