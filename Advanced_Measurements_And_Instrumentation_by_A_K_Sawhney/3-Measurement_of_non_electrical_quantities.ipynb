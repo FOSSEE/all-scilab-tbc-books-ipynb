{
"cells": [
 {
		   "cell_type": "markdown",
	   "metadata": {},
	   "source": [
       "# Chapter 3: Measurement of non electrical quantities"
	   ]
	},
{
		   "cell_type": "markdown",
		   "metadata": {},
		   "source": [
			"## Example 3.1: To_calculate_the_optimum_setting.sci"
		   ]
		  },
  {
"cell_type": "code",
	   "execution_count": null,
	   "metadata": {
	    "collapsed": true
	   },
	   "outputs": [],
"source": [
"// 3.1\n",
"clc;\n",
"Aou=700*25*1/100;\n",
"Aol=100*25*1/100;\n",
"AouPtP= 2*Aou;\n",
"AolPtP= 2*Aol;\n",
"Se1=1;\n",
"D1=AouPtP/Se1;\n",
"printf('\ndeflection of screen corresponding to maximum pressure for sensitivity of 1mV/mm =%.1f mm',D1)\n",
"disp('sinch the length of the screen is 100mm so waveform is out of range and hence sensitivity setting of 1mV/mm should not be used')\n",
"Se2=5;\n",
"D2=AouPtP/Se2;\n",
"printf('\ndeflection of screen corresponding to maximum pressure for sensitivity of 5mV/mm =%.1f mm',D2)\n",
"disp('delection is within the range')\n",
"Se3=20;\n",
"D3=AouPtP/Se3;\n",
"printf('\ndeflection of screen corresponding to maximum pressure for sensitivity of 20mV/mm =%.1f mm',D3)\n",
"disp('delection is within the range')\n",
"Se4=100;\n",
"D4=AouPtP/Se4;\n",
"printf('\ndeflection of screen corresponding to maximum pressure for sensitivity of 10mV/mm =%.1f mm',D4)\n",
"disp('delection is within the range')\n",
"Se5=500;\n",
"D5=AouPtP/Se5;\n",
"printf('\ndeflection of screen corresponding to maximum pressure for sensitivity of 500mV/mm =%.1f mm',D5)\n",
"disp('delection is within the range')\n",
"disp('since the sensitivity of 5mV/mm gives higher deflection so it is the optimum sensitivity')"
   ]
   }
,
{
		   "cell_type": "markdown",
		   "metadata": {},
		   "source": [
			"## Example 3.2: Calculating_the_radius_of_curvature.sci"
		   ]
		  },
  {
"cell_type": "code",
	   "execution_count": null,
	   "metadata": {
	    "collapsed": true
	   },
	   "outputs": [],
"source": [
"//3.2\n",
"clc;\n",
"tA=1;\n",
"tB=1;\n",
"m=tA/tB;\n",
"EB=147;\n",
"EA=216;\n",
"T2=200;\n",
"T1=25;\n",
"n=EB/EA;\n",
"T=T2-T1;\n",
"A=12.5*10^-6;\n",
"B=1.7*10^-6;\n",
"a=3*(1+m)^2;\n",
"b=(1+m*n)*((m^2)+1/(m*n));\n",
"c= (6*(A-B)*T*(1+m)^2);\n",
"r=(a+b)/c;\n",
"printf('\nRadius of curvature =%.2f mm',r)"
   ]
   }
,
{
		   "cell_type": "markdown",
		   "metadata": {},
		   "source": [
			"## Example 3.3: Calculating_the_vertical_displacement.sci"
		   ]
		  },
  {
"cell_type": "code",
	   "execution_count": null,
	   "metadata": {
	    "collapsed": true
	   },
	   "outputs": [],
"source": [
"//3.3\n",
"clc;\n",
"t=2;\n",
"T2=180;\n",
"T1=20;\n",
"T=T2-T1;\n",
"A=12.5*10^-6;\n",
"r=t/(2*T*A);\n",
"printf('\nRadius of curvature =%.0f mm',r)\n",
"Th=40/500;\n",
"y=r*(1-cos(Th));\n",
"printf('\nvertical displacement =%.0f mm',y)"
   ]
   }
,
{
		   "cell_type": "markdown",
		   "metadata": {},
		   "source": [
			"## Example 3.4: To_calculate_the_true_temperature.sci"
		   ]
		  },
  {
"cell_type": "code",
	   "execution_count": null,
	   "metadata": {
	    "collapsed": true
	   },
	   "outputs": [],
"source": [
"//3.4\n",
"clc;\n",
"Ta=1480+273;\n",
"Tf=0.8;\n",
"T=Tf^-0.25*Ta;\n",
"printf('\nTrue temperature =%.2f degree K',T)\n",
"Tc=T-273;\n",
"printf('\nTrue temperature =%.2f degree C',Tc)\n",
""
   ]
   }
,
{
		   "cell_type": "markdown",
		   "metadata": {},
		   "source": [
			"## Example 3.5: To_calculate_the_error_in_the_measurement_of_temperature.sci"
		   ]
		  },
  {
"cell_type": "code",
	   "execution_count": null,
	   "metadata": {
	    "collapsed": true
	   },
	   "outputs": [],
"source": [
"// 3.5\n",
"clc;\n",
"ATC1=1065;\n",
"AT=ATC1+273;\n",
"Em1=0.82;\n",
"Ta=(Em1^(-0.25))*AT;\n",
"Em2=0.75;\n",
"Taa=(Em2^-0.25)*Ta;\n",
"ATC2=Taa-273;\n",
"E=ATC1-ATC2;\n",
"printf('Error in temperature measurement=%.2f degree C',E)"
   ]
   }
,
{
		   "cell_type": "markdown",
		   "metadata": {},
		   "source": [
			"## Example 3.6: To_calculate_average_flow_rate_and_percentage_decrease_in_voltage.sci"
		   ]
		  },
  {
"cell_type": "code",
	   "execution_count": null,
	   "metadata": {
	    "collapsed": true
	   },
	   "outputs": [],
"source": [
"// 3.6\n",
"clc;\n",
"EL=0.1;\n",
"Zo=250*10^3;\n",
"ZL=2.5*10^6;\n",
"Eo=EL*(1+(Zo/ZL));\n",
"B=0.1;\n",
"l=50*10^-3;\n",
"G=1000;\n",
"v=Eo/(B*l*G);\n",
"printf('Average flow rate=%.2f degree m/s',v)\n",
"Zon=1.2*250*10^3;\n",
"ELn=2*Eo/(1+(Zon/ZL));\n",
"PDV=[(0.2-ELn)/0.2]*100;\n",
"printf('Percentage decrease in voltage=%.2f degree m/s',PDV)\n",
""
   ]
   }
],
"metadata": {
		  "kernelspec": {
		   "display_name": "Scilab",
		   "language": "scilab",
		   "name": "scilab"
		  },
		  "language_info": {
		   "file_extension": ".sce",
		   "help_links": [
			{
			 "text": "MetaKernel Magics",
			 "url": "https://github.com/calysto/metakernel/blob/master/metakernel/magics/README.md"
			}
		   ],
		   "mimetype": "text/x-octave",
		   "name": "scilab",
		   "version": "0.7.1"
		  }
		 },
		 "nbformat": 4,
		 "nbformat_minor": 0
}
