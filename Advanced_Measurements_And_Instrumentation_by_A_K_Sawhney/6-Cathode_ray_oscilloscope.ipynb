{
"cells": [
 {
		   "cell_type": "markdown",
	   "metadata": {},
	   "source": [
       "# Chapter 6: Cathode ray oscilloscope"
	   ]
	},
{
		   "cell_type": "markdown",
		   "metadata": {},
		   "source": [
			"## Example 6.10: Calculating_the_input_voltage_required_for_deflection_of_3mm.sci"
		   ]
		  },
  {
"cell_type": "code",
	   "execution_count": null,
	   "metadata": {
	    "collapsed": true
	   },
	   "outputs": [],
"source": [
"// 6.10\n",
"clc;\n",
"Ea=2000;\n",
"L=0.3;\n",
"ld=2*10^-2;\n",
"d=5*10^-3;\n",
"D=3*10^-2;\n",
"Ed=(2*d*Ea*D)/(L*ld);\n",
"gain=100;\n",
"V_require=Ed/gain;\n",
"printf('\nInput voltage required for deflection of 3mm =%.1f V',V_require)"
   ]
   }
,
{
		   "cell_type": "markdown",
		   "metadata": {},
		   "source": [
			"## Example 6.11: Calculating_the_velocity_of_the_beam_and_cutt_off_frequency.sci"
		   ]
		  },
  {
"cell_type": "code",
	   "execution_count": null,
	   "metadata": {
	    "collapsed": true
	   },
	   "outputs": [],
"source": [
"// 6.11\n",
"clc;\n",
"e=1.6*10^-19;\n",
"Ea=2000;\n",
"m=9.1*10^-31;\n",
"Vox=(2*e*Ea/m)^0.5;\n",
"printf('\nmaximum velocity of the beam of electrons=%.2f m/s',Vox)\n",
"l=50*10^-3;\n",
"fc=Vox/(4*l)*10^-6;\n",
"printf('\nCutt off frequency=%.2f MHz',fc)"
   ]
   }
,
{
		   "cell_type": "markdown",
		   "metadata": {},
		   "source": [
			"## Example 6.1: calculating_the_amplitude_of_voltage_after_10_ms.sci"
		   ]
		  },
  {
"cell_type": "code",
	   "execution_count": null,
	   "metadata": {
	    "collapsed": true
	   },
	   "outputs": [],
"source": [
"// 6.1\n",
"clc;\n",
"Vcc=50;\n",
"t=10*10^-3;\n",
"R=500*10^3;\n",
"C=0.2*10^-6;\n",
"tc=R*C;\n",
"Vo=Vcc*[1-exp(-t/tc)];\n",
"printf('\namplitude of voltage after 10 ms=%.2f V',Vo)"
   ]
   }
,
{
		   "cell_type": "markdown",
		   "metadata": {},
		   "source": [
			"## Example 6.2: calculating_the_voltage_across_the_capacitor_after_50_microsecond.sci"
		   ]
		  },
  {
"cell_type": "code",
	   "execution_count": null,
	   "metadata": {
	    "collapsed": true
	   },
	   "outputs": [],
"source": [
"// 6.2\n",
"clc;\n",
"Vcc=4.76;\n",
"t=50*10^-6;\n",
"R=0.2*10^3;\n",
"C=0.2*10^-6;\n",
"tc=R*C;\n",
"Vo=Vcc*[exp(-t/tc)];\n",
"printf('\nvoltage across the capacitor after 50 microsecond=%.2f V',Vo)"
   ]
   }
,
{
		   "cell_type": "markdown",
		   "metadata": {},
		   "source": [
			"## Example 6.3: Calculating_the_rise_time.sci"
		   ]
		  },
  {
"cell_type": "code",
	   "execution_count": null,
	   "metadata": {
	    "collapsed": true
	   },
	   "outputs": [],
"source": [
"// 6.3\n",
"clc;\n",
"BW=10*10^6;\n",
"tr=0.35/BW*10^6;\n",
"printf('\nRise time=%.2f us',tr)\n",
""
   ]
   }
,
{
		   "cell_type": "markdown",
		   "metadata": {},
		   "source": [
			"## Example 6.4: Calculating_the_attenuation_factor.sci"
		   ]
		  },
  {
"cell_type": "code",
	   "execution_count": null,
	   "metadata": {
	    "collapsed": true
	   },
	   "outputs": [],
"source": [
"// 6.4\n",
"clc;\n",
"R=(9*10^3)+(900+90+10);\n",
"Rt=100*10^3;\n",
"Attenuation=R/Rt;\n",
"Attenuation_factor=1/Attenuation;\n",
"printf('\nAttenuation factor=%.1f ',Attenuation_factor)\n",
""
   ]
   }
,
{
		   "cell_type": "markdown",
		   "metadata": {},
		   "source": [
			"## Example 6.5: Calculating_the_attenuation_factor.sci"
		   ]
		  },
  {
"cell_type": "code",
	   "execution_count": null,
	   "metadata": {
	    "collapsed": true
	   },
	   "outputs": [],
"source": [
"// 6.5\n",
"clc;\n",
"R=10*10^3;\n",
"Ri=100*10^3;\n",
"Rt=100*10^3;\n",
"Rp=(Ri*R)/(Ri+R);\n",
"Attenuation=Rp/Rt;\n",
"Attenuation_factor=1/Attenuation;\n",
"printf('\nAttenuation factor=%.1f ',Attenuation_factor)"
   ]
   }
,
{
		   "cell_type": "markdown",
		   "metadata": {},
		   "source": [
			"## Example 6.6: Calculating_the_voltage_per_division_voltage_value.sci"
		   ]
		  },
  {
"cell_type": "code",
	   "execution_count": null,
	   "metadata": {
	    "collapsed": true
	   },
	   "outputs": [],
"source": [
"// 6.6\n",
"clc;\n",
"Vo=50*10^-3;\n",
"disp('For point A Attenuation_factor=400')\n",
"Attenuation_factor=400;\n",
"Vi=Attenuation_factor*Vo;\n",
"printf('\nvoltage per division value at point A=%.2f',Vi)\n",
"disp('For point B Attenuation_factor=100')\n",
"Attenuation_factor=100;\n",
"Vi=Attenuation_factor*Vo;\n",
"printf('\nvoltage per division value at point B=%.2f',Vi)\n",
"disp('For point C Attenuation_factor=40')\n",
"Attenuation_factor=40;\n",
"Vi=Attenuation_factor*Vo;\n",
"printf('\nvoltage per division value at point C=%.2f',Vi)\n",
"disp('For point D Attenuation_factor=10')\n",
"Attenuation_factor=10;\n",
"Vi=Attenuation_factor*Vo;\n",
"printf('\nvoltage per division value at point D=%.2f',Vi)\n",
"disp('For point E Attenuation_factor=4')\n",
"Attenuation_factor=4;\n",
"Vi=Attenuation_factor*Vo;\n",
"printf('\nvoltage per division value at point E=%.2f',Vi)\n",
"disp('For point F Attenuation_factor=1')\n",
"Attenuation_factor=1;\n",
"Vi=Attenuation_factor*Vo;\n",
"printf('\nvoltage per division value at point F=%.2f',Vi)"
   ]
   }
,
{
		   "cell_type": "markdown",
		   "metadata": {},
		   "source": [
			"## Example 6.7: Compare_the_output_voltage_of_the_voltage_divider_attenuator_for_dc_and_ac.sci"
		   ]
		  },
  {
"cell_type": "code",
	   "execution_count": null,
	   "metadata": {
	    "collapsed": true
	   },
	   "outputs": [],
"source": [
"//6.7\n",
"clc;\n",
"R2=100*10^3;\n",
"Vi=1;\n",
"R1=900*10^3;\n",
"Vo_dc=Vi*R2/(R1+R2);\n",
"k_dc=1/Vo_dc;\n",
"printf('\nAttenuationn for dc=%.1f', k_dc)\n",
"XC2=1592;\n",
"Vi=1;\n",
"XC1=3183;\n",
"Vo_ac=Vi*XC2/(XC1+XC2);\n",
"k_ac=1/Vo_ac;\n",
"printf('\nAttenuationn for ac=%.1f', k_ac)\n",
"disp('Therefore the attenuation with ac is different from that of dc')"
   ]
   }
,
{
		   "cell_type": "markdown",
		   "metadata": {},
		   "source": [
			"## Example 6.8: Calculating_the_maximum_velocity_of_the_beam_of_electrons.sci"
		   ]
		  },
  {
"cell_type": "code",
	   "execution_count": null,
	   "metadata": {
	    "collapsed": true
	   },
	   "outputs": [],
"source": [
"// 6.8\n",
"clc;\n",
"e=1.6*10^-19;\n",
"Ea=800;\n",
"m=9.1*10^-31;\n",
"Vox=(2*e*Ea/m)^0.5;\n",
"printf('\nmaximum velocity of the beam of electrons=%.2f m/s',Vox)"
   ]
   }
,
{
		   "cell_type": "markdown",
		   "metadata": {},
		   "source": [
			"## Example 6.9: EX6_9.sci"
		   ]
		  },
  {
"cell_type": "code",
	   "execution_count": null,
	   "metadata": {
	    "collapsed": true
	   },
	   "outputs": [],
"source": [
"// 6.9\n",
"clc;\n",
"e=1.6*10^-19;\n",
"Ea=2000;\n",
"m=9.1*10^-31;\n",
"Vox=(2*e*Ea/m)^0.5;\n",
"printf('\nmaximum velocity of the beam of electrons=%.2f m/s',Vox)\n",
"L=5;\n",
"ld=1.5*10^-2;\n",
"d=5*10^-3;\n",
"S=(L*ld/2*d*Ea);\n",
"printf('\ndeflection sensitivity=%.2f mm/V',S)\n",
"G=1/S;\n",
"printf('\nDeflection Factor=%.2f V/mm',G)"
   ]
   }
],
"metadata": {
		  "kernelspec": {
		   "display_name": "Scilab",
		   "language": "scilab",
		   "name": "scilab"
		  },
		  "language_info": {
		   "file_extension": ".sce",
		   "help_links": [
			{
			 "text": "MetaKernel Magics",
			 "url": "https://github.com/calysto/metakernel/blob/master/metakernel/magics/README.md"
			}
		   ],
		   "mimetype": "text/x-octave",
		   "name": "scilab",
		   "version": "0.7.1"
		  }
		 },
		 "nbformat": 4,
		 "nbformat_minor": 0
}
