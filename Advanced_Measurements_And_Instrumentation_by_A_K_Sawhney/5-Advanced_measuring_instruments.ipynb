{
"cells": [
 {
		   "cell_type": "markdown",
	   "metadata": {},
	   "source": [
       "# Chapter 5: Advanced measuring instruments"
	   ]
	},
{
		   "cell_type": "markdown",
		   "metadata": {},
		   "source": [
			"## Example 5.1: calculating_number_of_turns_and_current.sci"
		   ]
		  },
  {
"cell_type": "code",
	   "execution_count": null,
	   "metadata": {
	    "collapsed": true
	   },
	   "outputs": [],
"source": [
"// 5.1\n",
"clc;\n",
"D=8*10^-3;\n",
"A=D^2;\n",
"disp(A,'A=')\n",
"J=8*10^-3;\n",
"K=16*10^-3;\n",
"B=4*J*K;\n",
"disp (B,'B=')\n",
"disp('since A<B so the instrument is underdamped')\n",
"th=(100*%pi)/180;\n",
"i=10*10^-3;\n",
"F=0.2*10^-6;\n",
"G=(K*th+F)/i;\n",
"l=65*10^-3;\n",
"d=25*10^-3;\n",
"N=G/(B*l*d);\n",
"printf('\nNumber of turns=%.0f ',N)\n",
"i=F/G*10^6;\n",
"printf('\ncurrent required to overcome friction=%.1f uA ',i)"
   ]
   }
,
{
		   "cell_type": "markdown",
		   "metadata": {},
		   "source": [
			"## Example 5.2: Calculating_the_frequency_range.sci"
		   ]
		  },
  {
"cell_type": "code",
	   "execution_count": null,
	   "metadata": {
	    "collapsed": true
	   },
	   "outputs": [],
"source": [
"// 5.2\n",
"clc;\n",
"eta=0.6;\n",
"fn=2400;\n",
"M=0.98;\n",
"//M=1/[[(1-u^2)^2]+(2*u*eta)^2]^0.5; ..........(i)\n",
"// On solving the above equation we get u=0.79\n",
"u=0.79;\n",
"fu=u*fn;\n",
"printf('\nupper value of range=%.0f Hz',fu)\n",
"\n",
"//Now let M=1.02, on solving equation (i) we have u=0.29\n",
"u=0.29;\n",
"fl=u*fn;\n",
"printf('\nlower value of range=%.0f Hz',fl)\n",
"disp('So, the range of the frequency is from 696 to 1896 Hz')"
   ]
   }
,
{
		   "cell_type": "markdown",
		   "metadata": {},
		   "source": [
			"## Example 5.3: Calculating_the_phase_displacement_for_the_fundamental_and_5th_harmonic.sci"
		   ]
		  },
  {
"cell_type": "code",
	   "execution_count": null,
	   "metadata": {
	    "collapsed": true
	   },
	   "outputs": [],
"source": [
"// 5.3\n",
"clc;\n",
"eta=0.64;\n",
"u=0.1;\n",
"alpha_1=atand(2*eta*u/(1-u^2))\n",
"printf('\nphase displacement for the fundamental=%.2f degree',alpha_1)\n",
"u=0.5;\n",
"alpha_5=atand(2*eta*u/(1-u^2))\n",
"printf('\nphase displacement for the 5th harmonic=%.2f degree',alpha_5)"
   ]
   }
,
{
		   "cell_type": "markdown",
		   "metadata": {},
		   "source": [
			"## Example 5.4: Calculate_the_percentage_errors_in_the_production_of_harmonics.sci"
		   ]
		  },
  {
"cell_type": "code",
	   "execution_count": null,
	   "metadata": {
	    "collapsed": true
	   },
	   "outputs": [],
"source": [
"//5.4\n",
"clc;\n",
"To=1/2000;\n",
"T=1/50;\n",
"//Rn=1/(1+n^2*(To/T)^2)\n",
"R1=1/(1+1^2*(To/T)^2);\n",
"R3=1/(1+3^2*(To/T)^2);\n",
"R5=1/(1+5^2*(To/T)^2);\n",
"R7=1/(1+7^2*(To/T)^2);\n",
"R11=1/(1+11^2*(To/T)^2);\n",
"R13=1/(1+13^2*(To/T)^2);\n",
"PE3=(R3-1/1)*100;\n",
"printf('Percentage error for the production of 3rd harmonics=%.2f',PE3)\n",
"PE5=(R5-1/1)*100;\n",
"printf('\nPercentage error for the production of 5th harmonics=%.2f',PE5)\n",
"PE7=(R7-1/1)*100;\n",
"printf('\nPercentage error for the production of 7th harmonics=%.2f',PE7)\n",
"PE11=(R11-1/1)*100;\n",
"printf('\nPercentage error for the production of 11th harmonics=%.2f',PE11)\n",
"PE13=(R13-1/1)*100;\n",
"printf('\nPercentage error for the production of 13th harmonics=%.2f',PE13)\n",
"//displacement of nth harmonic alpha=atan2*n/((T/To)-n^2*(To/T))\n",
"alpha_1=atand(2*1/((T/To)-(1^2*(To/T))));\n",
"alpha_13=(atand(2*13/((T/To)-(13^2*(To/T)))));\n",
"alpha_1_equivalent_13=13*alpha_1;\n",
"phase_displacement_13=alpha_13-alpha_1_equivalent_13;\n",
"printf('\n Displacement of 13th harmonic=%.2f degree',phase_displacement_13)"
   ]
   }
,
{
		   "cell_type": "markdown",
		   "metadata": {},
		   "source": [
			"## Example 5.5: Calculating_the_speed_of_the_tape.sci"
		   ]
		  },
  {
"cell_type": "code",
	   "execution_count": null,
	   "metadata": {
	    "collapsed": true
	   },
	   "outputs": [],
"source": [
"// 5.5\n",
"clc;\n",
"W_min=2.5*6.25*10^-6;\n",
"f=500000;\n",
"S_min=W_min*f;\n",
"printf('\nminimum tape speed=%.2f m/s',S_min)\n",
"\n",
"\n",
""
   ]
   }
,
{
		   "cell_type": "markdown",
		   "metadata": {},
		   "source": [
			"## Example 5.6: Calculating_the_number_density_of_the_tape.sci"
		   ]
		  },
  {
"cell_type": "code",
	   "execution_count": null,
	   "metadata": {
	    "collapsed": true
	   },
	   "outputs": [],
"source": [
"// 5.6\n",
"clc;\n",
"Num_per_sec=12000;\n",
"S=1.5*10^3;\n",
"Number_density=Num_per_sec/S;\n",
"printf('\nNumber density of the tape=%.0f numbers/mm',Number_density)"
   ]
   }
],
"metadata": {
		  "kernelspec": {
		   "display_name": "Scilab",
		   "language": "scilab",
		   "name": "scilab"
		  },
		  "language_info": {
		   "file_extension": ".sce",
		   "help_links": [
			{
			 "text": "MetaKernel Magics",
			 "url": "https://github.com/calysto/metakernel/blob/master/metakernel/magics/README.md"
			}
		   ],
		   "mimetype": "text/x-octave",
		   "name": "scilab",
		   "version": "0.7.1"
		  }
		 },
		 "nbformat": 4,
		 "nbformat_minor": 0
}
