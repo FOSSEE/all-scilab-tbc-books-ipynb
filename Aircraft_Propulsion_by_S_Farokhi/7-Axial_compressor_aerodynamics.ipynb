{
"cells": [
 {
		   "cell_type": "markdown",
	   "metadata": {},
	   "source": [
       "# Chapter 7: Axial compressor aerodynamics"
	   ]
	},
{
		   "cell_type": "markdown",
		   "metadata": {},
		   "source": [
			"## Example 7.1: Specific_work_at_pitchline_and_the_rotor_torque_per_unit_mass_flow_rate.sce"
		   ]
		  },
  {
"cell_type": "code",
	   "execution_count": null,
	   "metadata": {
	    "collapsed": true
	   },
	   "outputs": [],
"source": [
"clear;\n",
"clc;\n",
"close;\n",
"disp('Example 7.1')\n",
"w=5600 //rpm\n",
"rm=0.5 //m\n",
"Ct2=145 //m/s\n",
"Um=w*2*%pi*rm/60 //Rotor tangential speed at pitchline in m/s\n",
"Ct1=0\n",
"dU=Ct2-Ct1\n",
"wc=Um*dU/1000 // in kJ/kg\n",
"tpm=rm*(dU)\n",
"disp(wc,'Specific work at pitchline in kJ/kg:')\n",
"disp(tpm,'Rotor torque per unit mass flow rate in m^2/s:')"
   ]
   }
,
{
		   "cell_type": "markdown",
		   "metadata": {},
		   "source": [
			"## Example 7.2: Stage_parameters.sce"
		   ]
		  },
  {
"cell_type": "code",
	   "execution_count": null,
	   "metadata": {
	    "collapsed": true
	   },
	   "outputs": [],
"source": [
"clear;\n",
"clc;\n",
"close;\n",
"disp('Example 7.2')\n",
"rm=0.5\n",
"Um=212 //m/s\n",
"Czm=155 //m/s\n",
"Ct1m=28 //m/s\n",
"Rm=0.6\n",
"alfar=1 //alfar=alfa3/alfa1.\n",
"w=Um*60/(rm*2*%pi)\n",
"disp(w,'(a)Rotor angular speed w in rpm')\n",
"Ct2m=2*Um*(1-Rm)-Ct1m\n",
"disp(Ct2m,'(b)Rotor exit swirl in m/s:')\n",
"wcm=Um*(Ct2m-Ct1m)/1000\n",
"disp(wcm,'(c)Rotor specific work at pitchline Wcm in kJ/kg :')\n",
"Wt2m=Ct2m-Um\n",
"disp(Wt2m,'(d)Rotor relative velocity vector at rotor exit in m/s:')\n",
"disp('Hence vector is 155k-70.4e')\n",
"//Since alfa3=alfa1, rotor and stator torques are equal and opposite each other.\n",
"trm=rm*(Ct2m-Ct1m)\n",
"tsm=-1*trm\n",
"disp(trm,'(e)Rotor torque per unit mass flow rate in m^2/s:')\n",
"disp(tsm,'stotor torque per unit mass flow rate in m^2/s')  \n",
"pshm=(Ct2m-Ct1m)/Um\n",
"phm=Czm/Um\n",
"disp(pshm,'(f)Stage loading parameter at pitchline :')\n",
"disp(phm,'(g)Flow coefficient :')\n",
"\n",
"\n",
"\n",
""
   ]
   }
,
{
		   "cell_type": "markdown",
		   "metadata": {},
		   "source": [
			"## Example 7.3: Stage_parameters.sce"
		   ]
		  },
  {
"cell_type": "code",
	   "execution_count": null,
	   "metadata": {
	    "collapsed": true
	   },
	   "outputs": [],
"source": [
"clear;\n",
"clc;\n",
"close;\n",
"disp('Example 7.3')\n",
"Um1=200 // in m/s\n",
"Um2=Um1\n",
"Cz1=150 //in m/s\n",
"Cz2=Cz1\n",
"b2=-35 //in degree \n",
"Cm=7 //in cm\n",
"Sm=7 //in cm\n",
"W1m=((Um1^2)+Cz1^2)^(1/2) \n",
"Wt2m=Cz2*tand(-35)\n",
"W2m=((Cz1)^2+(Wt2m)^2)^(1/2)\n",
"disp(W1m,'(a)W1m in m/s:')\n",
"disp(W2m,'W2m in m/s :')\n",
"sigma=Cm/Sm\n",
"Wt1m=-1*Um1\n",
"Dm=1-(W2m/W1m)+(abs(Wt2m-Wt1m))/(2*sigma*W1m)\n",
"disp(Dm,'(b)D-factor Dm :')\n",
"Tm=Sm/100*abs(Wt1m-Wt2m)\n",
"disp(Tm,'(c)Circulation Tm in m^2/s:')"
   ]
   }
,
{
		   "cell_type": "markdown",
		   "metadata": {},
		   "source": [
			"## Example 7.4: de_Haller_criterio.sce"
		   ]
		  },
  {
"cell_type": "code",
	   "execution_count": null,
	   "metadata": {
	    "collapsed": true
	   },
	   "outputs": [],
"source": [
"clear;\n",
"clc;\n",
"close;\n",
"disp('Example 7.4')\n",
"W1=300 //in m/s\n",
"wrm=0.03\n",
"W2min=0.72*W1\n",
"Cp=1-(W2min/W1)^2-wrm\n",
"disp(W2min,'(a)Minimum W2 in m/s :')\n",
"disp(Cp,'(b)Static pressure rise coefficient :')"
   ]
   }
,
{
		   "cell_type": "markdown",
		   "metadata": {},
		   "source": [
			"## Example 7.5: Stage_parameters.sce"
		   ]
		  },
  {
"cell_type": "code",
	   "execution_count": null,
	   "metadata": {
	    "collapsed": true
	   },
	   "outputs": [],
"source": [
"clear;\n",
"clc;\n",
"close;\n",
"disp('Example 7.5')\n",
"ps=1.5\n",
"es=0.9\n",
"gm=1.4\n",
"ts=1+(1/es)*(ps^((gm-1)/gm)-1)\n",
"ec=(gm-1)/gm*(log(ps))/log(ts)\n",
"disp(ts,'Total temperature ratio :')\n",
"disp(ec,'Compressor polytropic efficiency :')"
   ]
   }
,
{
		   "cell_type": "markdown",
		   "metadata": {},
		   "source": [
			"## Example 7.6: Stage_parameters.sce"
		   ]
		  },
  {
"cell_type": "code",
	   "execution_count": null,
	   "metadata": {
	    "collapsed": true
	   },
	   "outputs": [],
"source": [
"clear;\n",
"clc;\n",
"close;\n",
"disp('Example 7.6')\n",
"W1=460 //in m/s\n",
"b1=45 //degrees\n",
"W2=376\n",
"b2=30\n",
"c=5.25\n",
"w=0.05\n",
"s=3.5\n",
"Wt1=W1*sind(45)\n",
"Wt2=W2*sind(30)\n",
"Wtm=(Wt1+Wt2)/2\n",
"Wz1=W1*cosd(45)\n",
"Wz2=W2*cosd(30)\n",
"Wz=(Wz1+Wz2)/2\n",
"bm=(atan(Wtm/Wz))*180/%pi\n",
"sigma=c/s\n",
"Cd=w/sigma*cosd(bm)\n",
"T=s/100*(abs(Wt1-Wt2))\n",
"Wm=(Wz^2+Wtm^2)^(1/2)\n",
"C1=2*T/(Wm*(c/100))-Cd*tand(bm)\n",
"disp(bm,'(a)mean relative flow angle :')\n",
"disp(Cd,'(b)The rotor section (2D) drag coefficient :')\n",
"disp(T,'(c)The rotor circulation in m^2/s :')\n",
"disp(C1,'(d)The rotor sectional (2D) lift coefficient :')"
   ]
   }
,
{
		   "cell_type": "markdown",
		   "metadata": {},
		   "source": [
			"## Example 7.7: EX7_7.sce"
		   ]
		  },
  {
"cell_type": "code",
	   "execution_count": null,
	   "metadata": {
	    "collapsed": true
	   },
	   "outputs": [],
"source": [
"clear;\n",
"clc;\n",
"close;\n",
"disp('Example 7.7')\n",
"Rm=0.5\n",
"b=0 //b=b/w\n",
"i=1\n",
"for b=0:0.1:0.5\n",
"r=0.5\n",
"vr=[]\n",
"x=[]\n",
"count=1\n",
"    for r=0.5:0.05:1.5\n",
"    \n",
"R=(1-b)-((1-b)-Rm)/(r)^2\n",
"x(count)=R\n",
"count=count+1\n",
"end\n",
"vr=[0.5:0.05:1.5]\n",
"a=gca();\n",
"a.data_bounds=[0.5,0;1.5,0.9]\n",
"\n",
"plot2d(vr,x,i)\n",
"i=i+1\n",
"xgrid\n",
"xlabel('r/r1 (<---------)Possible hub radii and Possible tip radii(--------->)')\n",
"ylabel('R(r)')\n",
"title('Degree of reaction for a compressor stage with an IGV')\n",
"legend('b/w=0','b/w=0.1','b/w=0.2 so on')\n",
"end"
   ]
   }
],
"metadata": {
		  "kernelspec": {
		   "display_name": "Scilab",
		   "language": "scilab",
		   "name": "scilab"
		  },
		  "language_info": {
		   "file_extension": ".sce",
		   "help_links": [
			{
			 "text": "MetaKernel Magics",
			 "url": "https://github.com/calysto/metakernel/blob/master/metakernel/magics/README.md"
			}
		   ],
		   "mimetype": "text/x-octave",
		   "name": "scilab",
		   "version": "0.7.1"
		  }
		 },
		 "nbformat": 4,
		 "nbformat_minor": 0
}
