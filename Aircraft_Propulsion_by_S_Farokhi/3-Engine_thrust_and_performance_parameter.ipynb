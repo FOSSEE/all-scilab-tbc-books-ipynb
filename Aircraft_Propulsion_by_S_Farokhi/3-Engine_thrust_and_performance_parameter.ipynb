{
"cells": [
 {
		   "cell_type": "markdown",
	   "metadata": {},
	   "source": [
       "# Chapter 3: Engine thrust and performance parameter"
	   ]
	},
{
		   "cell_type": "markdown",
		   "metadata": {},
		   "source": [
			"## Example 3.1: Ram_drag.sce"
		   ]
		  },
  {
"cell_type": "code",
	   "execution_count": null,
	   "metadata": {
	    "collapsed": true
	   },
	   "outputs": [],
"source": [
"clear;\n",
"clc;\n",
"close;\n",
"disp('Example 3.1')\n",
"M0=0.85 //Mach no.\n",
"a0=300 //speed of sound in m/s\n",
"m=50 //Air mass flow rate in kg/s\n",
"//Calculations\n",
"V0=M0*a0 //Flight speed\n",
"Dr=m*V0 //Ram drag\n",
"Dk=Dr/1000 //in kN\n",
"disp(Dk,'The ram drag for given engine in kN:')"
   ]
   }
,
{
		   "cell_type": "markdown",
		   "metadata": {},
		   "source": [
			"## Example 3.2: Gross_thrust_of_separate_flow_turbofa.sce"
		   ]
		  },
  {
"cell_type": "code",
	   "execution_count": null,
	   "metadata": {
	    "collapsed": true
	   },
	   "outputs": [],
"source": [
"\n",
"clear;\n",
"clc;\n",
"close;\n",
"disp('Example 3.2')\n",
"Cv=450 //exhaust velocity at core in m/s\n",
"Nv=350 //exhaust velocity at nozzle in m/s\n",
"Cm=50 //Mass flow rate through core in kg/s\n",
"Nm=350 //Mass flow rate through nozzle in kg/s\n",
"//Calculations:\n",
"//Newton's second law\n",
"Fgc=Cm*Cv //gross thrust of the core\n",
"Fgf=Nm*Nv //gross thrust of the nozzle fan\n",
"disp(Fgc,'Gross thrust of the core in SI unit(N):')\n",
"disp(Fgf,'Gross thrust of the fan nozzles in SI unit(N):')"
   ]
   }
,
{
		   "cell_type": "markdown",
		   "metadata": {},
		   "source": [
			"## Example 3.3: Rocket_thrust.sce"
		   ]
		  },
  {
"cell_type": "code",
	   "execution_count": null,
	   "metadata": {
	    "collapsed": true
	   },
	   "outputs": [],
"source": [
"clear;\n",
"clc;\n",
"close;\n",
"disp('Example 3.3')\n",
"V9=4000 //in m/s\n",
"p9=200*10^3 //in Pa\n",
"p0=100*10^3 // in Pa\n",
"D=2 //in meter\n",
"m=200+50 // in kg/s\n",
"A=%pi*(D^2)/4 //nozzle exit area\n",
"//let p=(p9-p0)*A i.e. pressure thrust\n",
"p=(p9-p0)*A\n",
"mt=m*V9 //momentum thrust.\n",
"t=p+mt //rocket gross thrust\n",
"disp(p,'(a)The pressure thrust in SI units(N):')\n",
"disp(t,'(b)The rocket gross thrust in SI units(N):')"
   ]
   }
,
{
		   "cell_type": "markdown",
		   "metadata": {},
		   "source": [
			"## Example 3.4: Airbreathing_engine_performance_parameters.sce"
		   ]
		  },
  {
"cell_type": "code",
	   "execution_count": null,
	   "metadata": {
	    "collapsed": true
	   },
	   "outputs": [],
"source": [
"clear;\n",
"clc;\n",
"close;\n",
"disp('Example 3.4')\n",
"m0=100 //air flow rate in kg/s\n",
"V0=0 //takeoff assumptions in m/s\n",
"mf=2 //2% of fuel-to-air ratio\n",
"Qr=43000 //Heating value of typical hydrocarbon fuel in kJ/kg\n",
"V9=900 //high speed exhaust jet (in m/s)\n",
"e=((m0+mf)*(V9)^2)/(2*(mf)*(Qr)*1000)\n",
"m9=m0+mf\n",
"t=m9*V9 // the engine thrust at takeoff.\n",
"disp(t,'The engine thrust at takeoff in SI units(N):')"
   ]
   }
,
{
		   "cell_type": "markdown",
		   "metadata": {},
		   "source": [
			"## Example 3.5: Propulsive_efficiency.sce"
		   ]
		  },
  {
"cell_type": "code",
	   "execution_count": null,
	   "metadata": {
	    "collapsed": true
	   },
	   "outputs": [],
"source": [
"clear;\n",
"clc;\n",
"close;\n",
"disp('Example 3.5')\n",
"V9=900 // in m/s\n",
"V0=200 // in m/s\n",
"e=2/(1+(V9/V0))\n",
"disp(e,'Engine propulsive efficiency:')"
   ]
   }
,
{
		   "cell_type": "markdown",
		   "metadata": {},
		   "source": [
			"## Example 3.6: Propulsive_efficiency_of_turbofan_engine.sce"
		   ]
		  },
  {
"cell_type": "code",
	   "execution_count": null,
	   "metadata": {
	    "collapsed": true
	   },
	   "outputs": [],
"source": [
"clear;\n",
"clc;\n",
"close;\n",
"disp('Example 3.6')\n",
"V9=250 //in m/s\n",
"V0=200 //in m/s\n",
"//Calculations:\n",
"e=2/(1+(V9/V0))\n",
"disp(e,'Propulsive efficiency:')"
   ]
   }
],
"metadata": {
		  "kernelspec": {
		   "display_name": "Scilab",
		   "language": "scilab",
		   "name": "scilab"
		  },
		  "language_info": {
		   "file_extension": ".sce",
		   "help_links": [
			{
			 "text": "MetaKernel Magics",
			 "url": "https://github.com/calysto/metakernel/blob/master/metakernel/magics/README.md"
			}
		   ],
		   "mimetype": "text/x-octave",
		   "name": "scilab",
		   "version": "0.7.1"
		  }
		 },
		 "nbformat": 4,
		 "nbformat_minor": 0
}
