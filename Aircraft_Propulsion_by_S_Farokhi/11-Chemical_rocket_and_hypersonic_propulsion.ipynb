{
"cells": [
 {
		   "cell_type": "markdown",
	   "metadata": {},
	   "source": [
       "# Chapter 11: Chemical rocket and hypersonic propulsion"
	   ]
	},
{
		   "cell_type": "markdown",
		   "metadata": {},
		   "source": [
			"## Example 11.10: Liquid_propellant_combustion_chambers_in_rocket.sce"
		   ]
		  },
  {
"cell_type": "code",
	   "execution_count": null,
	   "metadata": {
	    "collapsed": true
	   },
	   "outputs": [],
"source": [
"clear;\n",
"clc;\n",
"close;\n",
"disp('Example 11.10')\n",
"\n",
"Cdf=0.82\n",
"Cdo=0.65\n",
"dpf=200 //kPa\n",
"dp0=200 //in kPa\n",
"rhof=85 //kg/m^3\n",
"rho0=1350 //kg/m^3\n",
"r=2.5\n",
"A=r*Cdf/Cdo*(dpf/dp0*rhof/rho0)^(1/2)\n",
"disp(A,'(a)Oxidizer-to-fuel oriface aera ratio A0/Af :')\n",
"vf=Cdf*(2*dpf/rhof)^(1/2)\n",
"v0=((2*dp0/rho0)^(1/2))*Cdo\n",
"disp(vf,'(b)Fuel oriface discharge speed in m/s:')\n",
"disp(v0,'Oxidizer oriface discharge speed in m/s:')\n",
"disp('(c)The graph between injection angle versus oxidizer injection angle for axial resultant stream 0 ')\n",
"//for graph\n",
"\n",
"z0=10:0.05:60\n",
"i=2\n",
"for r=2.5:1:4.5\n",
"    g1=[]\n",
"gc1=1\n",
"\n",
"for gm0=10:0.05:60\n",
"gmf=asind((r*(v0/vf)*sind(gm0)))\n",
"g1(gc1)=gmf\n",
"gc1=gc1+1\n",
"end\n",
"plot2d(z0,g1,i)\n",
"xgrid\n",
"i=i+1\n",
"xlabel('Oxidizer injection angle in degree')\n",
"ylabel('Fuel injection angle in degree')\n",
"title('(c)Oxidizer-fuel injection angles')\n",
"legend('r=2.5','r=3.5','r=4.5')\n",
"end\n",
"\n",
"\n",
"\n",
"\n",
"\n",
"\n",
"\n",
"\n",
"\n",
""
   ]
   }
,
{
		   "cell_type": "markdown",
		   "metadata": {},
		   "source": [
			"## Example 11.11: Solid_propellant_combustion_chamber_in_rockets.sce"
		   ]
		  },
  {
"cell_type": "code",
	   "execution_count": null,
	   "metadata": {
	    "collapsed": true
	   },
	   "outputs": [],
"source": [
"clear;\n",
"clc;\n",
"close;\n",
"disp('Example 11.11')\n",
" \n",
"p=7 //in MPa, \n",
"n=0.5 //and \n",
"a=5 //cm/s \n",
"Tdg=15 //in degree C\n",
"Td=15+273 //in K\n",
"br=0.002 //per degree C\n",
"pk=0.004 //per degree C\n",
"t=60//s, \n",
"\n",
"DT=30 // temp difference in degree C\n",
"pc=p*(1+pk*DT)\n",
"disp(pc,'(a)The new chamber pressure when the initial grain temp. is 45 degree C in MPa')\n",
"r=a*(pc/p)^n\n",
"r=r*(1+br*DT) //correcting for the effect of the grain temperature on burning rate.\n",
"disp(r,'Burning rate when grain temp. is 45 degree C')\n",
"L=a*t/100\n",
"tb=L*100/r //time to burn 3m of end burning grain at 5.61cm/s\n",
"tbn=t*(p/pc) //burn time for a constant total impulse\n",
"\n",
"dt=t-tb\n",
"disp(dt,'(b)The corresponding reduction in burn time in seconds:')\n",
"\n",
"\n",
"\n",
"\n",
"\n",
"\n",
"\n",
"\n",
""
   ]
   }
,
{
		   "cell_type": "markdown",
		   "metadata": {},
		   "source": [
			"## Example 11.12: Regenerative_cooling_in_liquid_propellant_rocket_combustor_in_rocket.sce"
		   ]
		  },
  {
"cell_type": "code",
	   "execution_count": null,
	   "metadata": {
	    "collapsed": true
	   },
	   "outputs": [],
"source": [
"clear;\n",
"clc;\n",
"close;\n",
"disp('Example 11.12')\n",
"Tg=2750 //in K\n",
"Ttg=Tg\n",
"Tc=300 // coolant bulk temp. in K\n",
"tw=0.002 //Wall thickness in m\n",
"kw=43 //thermal conductivity of the wall in W/m.C\n",
"hg=657 //Gas side film coefficient in W/m^2K\n",
"hc=26000 //Coolant side film coefficient in W/m^2K\n",
"eg=0.05 //emissivity of the gas \n",
"sigma=5.67*10^(-8)//in W/m^2K\n",
"Taw=Ttg\n",
"\n",
"rhf=eg*sigma*Tg^4/1000\n",
"disp(rhf,'(a)The radiation heat flux in kW/m^2 :')\n",
"qw=(Ttg-Tc+(rhf*1000/hg))/((1/hg)+(tw/kw)+(1/hc))/1000\n",
"disp(qw,'(b)The total heat flux in kW/m^2:')\n",
"qc=qw-rhf\n",
"disp(qc,'(c)The convection heat in kW/m^2:')\n",
"Twg=Taw-qc*1000/hg\n",
"disp(Twg,'(d)Wall temp. on the gas side in K:')\n",
"Twc=Tc+(qw*1000/hc)\n",
"disp(Twc,'(e)Wall temp. on the coolant side in K:')\n",
""
   ]
   }
,
{
		   "cell_type": "markdown",
		   "metadata": {},
		   "source": [
			"## Example 11.13: Multiphase_flow_in_rocket_nozzle.sce"
		   ]
		  },
  {
"cell_type": "code",
	   "execution_count": null,
	   "metadata": {
	    "collapsed": true
	   },
	   "outputs": [],
"source": [
"clear;\n",
"clc;\n",
"close;\n",
"disp('Example 11.13')\n",
"\n",
"Cpg=2006 //in J/kg.K\n",
"Cs=903 //J/kg.K\n",
"X1=0.18\n",
"X2=0.16\n",
"Tr=1.057\n",
"Ir=(((1-X1)*Cpg+X1*Cs)*Tr/((1-X2)*Cpg+X2*Cs))^(1/2) //Ratio of specific impulse \n",
"disp(Ir,'Raio of specific impulse :')"
   ]
   }
,
{
		   "cell_type": "markdown",
		   "metadata": {},
		   "source": [
			"## Example 11.1: Space_Shuttle_Main_Engine_diameter_from_given_thrust.sce"
		   ]
		  },
  {
"cell_type": "code",
	   "execution_count": null,
	   "metadata": {
	    "collapsed": true
	   },
	   "outputs": [],
"source": [
"clear;\n",
"clc;\n",
"close;\n",
"disp('Example 11.1')\n",
"\n",
"Ts=470000 //in lb\n",
"Tv=375000 //in lb\n",
"A2=(Ts-Tv)/(14.7*144)\n",
"D=(4*A2/%pi)^(1/2)\n",
"disp(D,'Diameter of the SSME nozzle exit area :')"
   ]
   }
,
{
		   "cell_type": "markdown",
		   "metadata": {},
		   "source": [
			"## Example 11.2: Rocket_thrust_and_exhaust_velocity.sce"
		   ]
		  },
  {
"cell_type": "code",
	   "execution_count": null,
	   "metadata": {
	    "collapsed": true
	   },
	   "outputs": [],
"source": [
"clear;\n",
"clc;\n",
"close;\n",
"disp('Example 11.2')\n",
"\n",
"m=1000 //in kg/s\n",
"g=9.8 //m/s^2\n",
"Is=340 //in s\n",
"F=m*g*Is\n",
"disp(F,'(a)Rocket thrust F in N :')\n",
"c=F/m\n",
"disp(c,'(b)Effective exhaust velocity c in m/s :')"
   ]
   }
,
{
		   "cell_type": "markdown",
		   "metadata": {},
		   "source": [
			"## Example 11.3: Thrust_coefficient_of_a_rocket_engine.sce"
		   ]
		  },
  {
"cell_type": "code",
	   "execution_count": null,
	   "metadata": {
	    "collapsed": true
	   },
	   "outputs": [],
"source": [
"clear;\n",
"clc;\n",
"close;\n",
"disp('Example 11.3')\n",
"\n",
"pc=200 //in atm\n",
"p2=1 //in atm\n",
"gm=1.3\n",
"Ath=25 //in m^2\n",
"Cf=((2*gm^2)/(gm-1)*(2/(gm+1))^((gm+1)/(gm-1))*(1-(p2/pc)^((gm-1)/gm)))^(1/2)\n",
"disp(Cf,'(a)Optimum thrust coefficient Cf,opt :')\n",
"pc=200*101 //converting to MPa\n",
"F=Ath*Cf*pc\n",
"disp(F,'(b)thrust F in N')\n",
"pc=200\n",
"M2=((2/(gm-1))*((pc/p2)^((gm-1)/gm)-1))^(1/2)\n",
"disp(M2,'(c)Nozzle exit Mach no. M2 :')\n",
"A=1/M2*(2/(gm+1)*(1+(gm-1)/2*M2^2))^((gm+1)/(2*(gm-1)))\n",
"disp(A,'(d)Nozzle area expansion ratio A2/Ath :')"
   ]
   }
,
{
		   "cell_type": "markdown",
		   "metadata": {},
		   "source": [
			"## Example 11.4: Characteristic_velocity.sce"
		   ]
		  },
  {
"cell_type": "code",
	   "execution_count": null,
	   "metadata": {
	    "collapsed": true
	   },
	   "outputs": [],
"source": [
"clear;\n",
"clc;\n",
"close;\n",
"disp('Example 11.4')\n",
"\n",
"Tc=2999 //in K\n",
"Ccr=2432 //in m/s\n",
"gm=1.26\n",
"f=4.02\n",
"R=((Ccr*gm*(2/(gm+1))^((gm+1)/(2*(gm-1))))^2)/(gm*Tc)\n",
"disp(R,'Combustion gas constant R in J/kg.K:')\n",
"RU=8314.6 //in j/kmol.K\n",
"MW=RU/R\n",
"disp(MW,'Molecular weight of the mixture in kg/kmol :')"
   ]
   }
,
{
		   "cell_type": "markdown",
		   "metadata": {},
		   "source": [
			"## Example 11.5: Combustion_of_hydrogen_and_oxygen.sce"
		   ]
		  },
  {
"cell_type": "code",
	   "execution_count": null,
	   "metadata": {
	    "collapsed": true
	   },
	   "outputs": [],
"source": [
"clear;\n",
"clc;\n",
"close;\n",
"disp('Example 11.5')\n",
"\n",
"f=4\n",
"MW=(2*18+2*2)/4 //from equation\n",
"disp(f,'(a)The oxidizer-to-fuel mixture ratio :')\n",
"disp(MW,'(b)The molecular weight of the mixture of gases in the product of combustion in kg/kmol:')"
   ]
   }
,
{
		   "cell_type": "markdown",
		   "metadata": {},
		   "source": [
			"## Example 11.6: Rocket_in_a_zero_gravity_vaccum_flight.sce"
		   ]
		  },
  {
"cell_type": "code",
	   "execution_count": null,
	   "metadata": {
	    "collapsed": true
	   },
	   "outputs": [],
"source": [
"clear;\n",
"clc;\n",
"close;\n",
"disp('Example 11.6')\n",
"\n",
"g=9.8 //in m/s^2\n",
"Is=400 //in s\n",
"\n",
"delv1=g*Is*log(1/0.1) //for pmf=0.9\n",
"delv2=g*Is*log(1/0.05) //for pmf=0.95\n",
"delp=(delv2-delv1)/delv1*100\n",
"disp(delp,'% improvement in delv :')"
   ]
   }
,
{
		   "cell_type": "markdown",
		   "metadata": {},
		   "source": [
			"## Example 11.7: Rocket_performance_including_the_effect_of_gravity.sce"
		   ]
		  },
  {
"cell_type": "code",
	   "execution_count": null,
	   "metadata": {
	    "collapsed": true
	   },
	   "outputs": [],
"source": [
"clear;\n",
"clc;\n",
"close;\n",
"disp('Example 11.7')\n",
"\n",
"g=9.8 //in m/s^2\n",
"Is=420 //in s\n",
"the=90 //in degree\n",
"tb=30 //in s\n",
"gavg=9.65 //in m/s^2\n",
"MR=0.1\n",
"delv1=-g*Is*log(MR) //in m/s\n",
"delv2=-g*Is*log(MR)-gavg*tb\n",
"delp=abs(delv2-delv1)/delv1*100\n",
"disp(delp,'% reduction in terminal speed :')"
   ]
   }
,
{
		   "cell_type": "markdown",
		   "metadata": {},
		   "source": [
			"## Example 11.8: Rocket_flight_performance_including_the_effects_of_gravity_and_aerodynamic_drag.sce"
		   ]
		  },
  {
"cell_type": "code",
	   "execution_count": null,
	   "metadata": {
	    "collapsed": true
	   },
	   "outputs": [],
"source": [
"clear;\n",
"clc;\n",
"close;\n",
"disp('Example 11.8')\n",
"\n",
"mf=0.8\n",
"g=9.8 //in m/s^2\n",
"Is=345 //in s\n",
"delvt=-g*Is*log(1-mf)\n",
"m=500000 //in kg\n",
"q0=100000 //in Pa\n",
"tb=60 //in s\n",
"Af=20 //in m^2\n",
"Cd=0.3 //mean drag coefficient\n",
"delvd=log(1-mf)*(Af/m)*q0*(tb/(1-mf))*Cd\n",
"delv=delvt+delvd\n",
"disp(delv,'Terminal speed of rocket vehical excluding gravitatinal effect in m/s :')\n",
""
   ]
   }
,
{
		   "cell_type": "markdown",
		   "metadata": {},
		   "source": [
			"## Example 11.9: Propulsive_and_overall_efficiencies.sce"
		   ]
		  },
  {
"cell_type": "code",
	   "execution_count": null,
	   "metadata": {
	    "collapsed": true
	   },
	   "outputs": [],
"source": [
"clear;\n",
"clc;\n",
"close;\n",
"disp('Example 11.9')\n",
"\n",
" g=9.8 //in m/s^2\n",
" Is=421 //in s\n",
" Qr=120000000\n",
" v=5000 //in m/s\n",
" c=g*Is\n",
" disp(c,'(a)Effective exhaust speed c in m/s :')\n",
" ep=2*(v/c)/(1+(v/c)^2)\n",
" disp(ep,'(b)propulsive efficiency :')\n",
" eo=c*v/Qr\n",
" disp(eo,'(c)Overall efficiency :')"
   ]
   }
],
"metadata": {
		  "kernelspec": {
		   "display_name": "Scilab",
		   "language": "scilab",
		   "name": "scilab"
		  },
		  "language_info": {
		   "file_extension": ".sce",
		   "help_links": [
			{
			 "text": "MetaKernel Magics",
			 "url": "https://github.com/calysto/metakernel/blob/master/metakernel/magics/README.md"
			}
		   ],
		   "mimetype": "text/x-octave",
		   "name": "scilab",
		   "version": "0.7.1"
		  }
		 },
		 "nbformat": 4,
		 "nbformat_minor": 0
}
