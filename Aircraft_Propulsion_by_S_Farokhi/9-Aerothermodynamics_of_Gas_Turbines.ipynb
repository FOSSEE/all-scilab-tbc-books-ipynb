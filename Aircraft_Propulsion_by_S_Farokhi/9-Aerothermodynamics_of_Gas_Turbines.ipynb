{
"cells": [
 {
		   "cell_type": "markdown",
	   "metadata": {},
	   "source": [
       "# Chapter 9: Aerothermodynamics of Gas Turbines"
	   ]
	},
{
		   "cell_type": "markdown",
		   "metadata": {},
		   "source": [
			"## Example 9.1: Axial_flow_turbine.sce"
		   ]
		  },
  {
"cell_type": "code",
	   "execution_count": null,
	   "metadata": {
	    "collapsed": true
	   },
	   "outputs": [],
"source": [
"clear;\n",
"clc;\n",
"close;\n",
"disp('Example 9.1')\n",
" Tt1=1800\n",
" M1=0.55\n",
" alfa1=0\n",
" gm=1.33\n",
" Cp=1157\n",
" alfa2=60\n",
" T1=Tt1/(1+(gm-1)*M1^2/2)\n",
" a1=((gm-1)*Cp*T1)^(1/2)\n",
" C1=a1*M1\n",
" C2=C1/cosd(alfa2)\n",
" Tt2=Tt1\n",
" T2=Tt2-C2^2/(2*Cp)\n",
" a2=((gm-1)*Cp*T2)^(1/2)\n",
" M2=C2/a2\n",
" Ct2=C1*tand(alfa2)\n",
" r=0.35\n",
" t=0-r*Ct2\n",
" disp(C1,'(a)Inlet velocity C1 in m/s :')\n",
" disp(M2,'(b)The exit absolute Mach no. M2 :')\n",
" disp(t,'(c)Nozzle torque per unit mass flow rate for r1=r2=0.35m :')"
   ]
   }
,
{
		   "cell_type": "markdown",
		   "metadata": {},
		   "source": [
			"## Example 9.2: Axial_flow_turbine.sce"
		   ]
		  },
  {
"cell_type": "code",
	   "execution_count": null,
	   "metadata": {
	    "collapsed": true
	   },
	   "outputs": [],
"source": [
"clear;\n",
"clc;\n",
"close;\n",
"disp('Example 9.2')\n",
"M2=1.0 //i.e choked\n",
"Tt2=1800\n",
"gm=1.33\n",
"C1=445\n",
"Cp=1157\n",
"T2=Tt2/(1+(gm-1)*M2^2/2)\n",
"a2=((gm-1)*Cp*T2)^(1/2) \n",
"M2=1\n",
"C2=M2*a2\n",
"alfa2=acos(C1/C2)*180/%pi\n",
"disp(alfa2,'Nozzle exit flow angle if M2=1 in degrees:')"
   ]
   }
,
{
		   "cell_type": "markdown",
		   "metadata": {},
		   "source": [
			"## Example 9.3: Axial_flow_turbine.sce"
		   ]
		  },
  {
"cell_type": "code",
	   "execution_count": null,
	   "metadata": {
	    "collapsed": true
	   },
	   "outputs": [],
"source": [
"clear;\n",
"clc;\n",
"close;\n",
"disp('Example 9.3')\n",
"C1=411\n",
"alfa2=60\n",
"C2=800\n",
"W2=450\n",
"alfa3=13\n",
"C3=411\n",
"Cz2=C2*cosd(60)\n",
"Cz3=C3*cosd(13)\n",
"Ct2m=Cz3*tand(60)\n",
"Wt2m=(450^2-400^2)^(1/2)\n",
"Um=Ct2m-Wt2m\n",
"Ct3=C3*sind(13)\n",
"Rm=1-(Ct2m+Ct3)/(2*Um)\n",
"disp(Cz2,'(a)The axial velocities up- and downstream of the rotor in m/s:')\n",
"disp(Cz3)\n",
"disp(Um,'(b)The rotor velocity Um in m/s:')\n",
"disp(Rm,'(c)The degree of reaction at this radius :')"
   ]
   }
,
{
		   "cell_type": "markdown",
		   "metadata": {},
		   "source": [
			"## Example 9.4: Loss_of_turbine_efficiency.sce"
		   ]
		  },
  {
"cell_type": "code",
	   "execution_count": null,
	   "metadata": {
	    "collapsed": true
	   },
	   "outputs": [],
"source": [
"clear;\n",
"clc;\n",
"close;\n",
"disp('Exmple 9.4')\n",
"Cd=0.5\n",
"bm=-20\n",
"r=1.25\n",
"phi=0.5\n",
"chi=1\n",
"t=0.02\n",
"\n",
"De=Cd*t*r*(1-(chi/phi)*tand(bm))^(1/2)\n",
"disp(De,'Loss of the turbine efficiency (eta0 times) :')"
   ]
   }
,
{
		   "cell_type": "markdown",
		   "metadata": {},
		   "source": [
			"## Example 9.5: Turbine_cooling.sce"
		   ]
		  },
  {
"cell_type": "code",
	   "execution_count": null,
	   "metadata": {
	    "collapsed": true
	   },
	   "outputs": [],
"source": [
"clear;\n",
"clc;\n",
"close;\n",
"disp('Example 9.5')\n",
"Tt=1700 //total gas temp at exit\n",
"gm=1.33 //gamma\n",
"Cp=1157 //in J/kg.K\n",
"M2=1 //local gas Mach no.\n",
"Pr=0.71 // Prandtl no.\n",
"W2=455 // gas speed relative to rotor\n",
"Tg=Tt/(1+(gm-1)*(M2^2)/2)\n",
"disp(Tg,'(a)The gas static temperature Tg in K:')\n",
"a2=((gm-1)*Cp*Tg)^(1/2)\n",
"C2=a2\n",
"r=Pr^(1/3)\n",
"Taw=Tg+Pr^(1/3)*C2^2/(Cp)\n",
"disp(Taw,'(b)The adiabatic wall temperatue Taw on the nozzle for a turbulent boundary layer in K:')\n",
"Ttr=Tg+(W2^2)/(2*Cp)\n",
"Tawl=Tg+Pr^(1/2)*C2^2/(Cp)\n",
"disp(Tawl,'The adiabatic wall temperature on the nozzle for a laminar boundary layer in K: ')\n",
"disp(Ttr,'(d)The rotor temperature of the gas on the rotor in K:')"
   ]
   }
,
{
		   "cell_type": "markdown",
		   "metadata": {},
		   "source": [
			"## Example 9.6: Convective_cooling.sce"
		   ]
		  },
  {
"cell_type": "code",
	   "execution_count": null,
	   "metadata": {
	    "collapsed": true
	   },
	   "outputs": [],
"source": [
"clear;\n",
"clc;\n",
"close;\n",
"disp('Example 9.6')\n",
"T0=288 //in K\n",
"p0=100 //in kPa\n",
"Tt3=800 //in K\n",
"gm=1.4\n",
"Cpc=1.0045 //kJ/Kg.K\n",
"pc=25\n",
"ec=0.9\n",
"Tt4=2000 //in K\n",
"gmc=1.33\n",
"Cpg=1.188 //kJ/Kg.K\n",
"Stg=0.005 //Gas-side Stanton no.\n",
"Taw=2000 //in K\n",
"ptg=2.5 //in Mpa\n",
"Tawd=1200 // desired temp. in K\n",
"d=2 //thickness of internally cooled wall in mm\n",
"bms=2 //blade mean solidity in HPT\n",
"kw=14.9 //in W/m.K\n",
"Twc=870 //in K\n",
"S=1/2 //S=Stc/Stg\n",
"e=(Cpc/Cpg)*S*(Twc-Tt3)/(Tt4-Tawd)\n",
"disp(e,'Cooling fraction :')"
   ]
   }
],
"metadata": {
		  "kernelspec": {
		   "display_name": "Scilab",
		   "language": "scilab",
		   "name": "scilab"
		  },
		  "language_info": {
		   "file_extension": ".sce",
		   "help_links": [
			{
			 "text": "MetaKernel Magics",
			 "url": "https://github.com/calysto/metakernel/blob/master/metakernel/magics/README.md"
			}
		   ],
		   "mimetype": "text/x-octave",
		   "name": "scilab",
		   "version": "0.7.1"
		  }
		 },
		 "nbformat": 4,
		 "nbformat_minor": 0
}
