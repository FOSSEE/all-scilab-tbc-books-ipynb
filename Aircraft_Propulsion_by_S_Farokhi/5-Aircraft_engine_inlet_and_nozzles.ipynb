{
"cells": [
 {
		   "cell_type": "markdown",
	   "metadata": {},
	   "source": [
       "# Chapter 5: Aircraft engine inlet and nozzles"
	   ]
	},
{
		   "cell_type": "markdown",
		   "metadata": {},
		   "source": [
			"## Example 5.10: EX5_10.sce"
		   ]
		  },
  {
"cell_type": "code",
	   "execution_count": null,
	   "metadata": {
	    "collapsed": true
	   },
	   "outputs": [],
"source": [
"\n",
"clear;\n",
"clc;\n",
"close;\n",
"disp('Example 5.10')\n",
"p=0.96 //p=p't8/pt8\n",
"f=0.02\n",
"fAB=0.04\n",
"\n",
"z0=[0.45:0.03:0.65]\n",
"gmr=1.3/1.33 //gm=gm/gm' gm=gamma\n",
"gm=1.33\n",
"gm1=1.3\n",
"tlAB=7\n",
"tl=6\n",
"i=2\n",
"for tlAB=7:1:9\n",
"    tt=6.5\n",
"    g1=[]\n",
"gc1=1\n",
"\n",
"    for tt=0.45:0.03:0.65\n",
"        A=(1+f+fAB)/(1+f)*((gmr)^(1/2))*1/p*((tlAB/(tl*tt))^(1/2))*((((gm1+1)/2)^((gm1+1)/(2*(gm1-1))))/(((gm+1)/2)^((gm+1)/(2*(gm-1)))))\n",
"        g1(gc1)=A\n",
"        gc1=gc1+1\n",
"    end\n",
"    \n",
"    plot2d(z0,g1,i)\n",
"    xgrid\n",
"    i=i+1\n",
"    xlabel('Turbine expansion parameter')\n",
"    ylabel('A8-AB-ON/A8-AB-OFF')\n",
"    title('Nozzle throat area variation with ')\n",
"    legend(['tau(AB)=7','tau(AB)=8','tau(AB)=9'])\n",
"end "
   ]
   }
,
{
		   "cell_type": "markdown",
		   "metadata": {},
		   "source": [
			"## Example 5.12: Hypersonic_nozzle.sce"
		   ]
		  },
  {
"cell_type": "code",
	   "execution_count": null,
	   "metadata": {
	    "collapsed": true
	   },
	   "outputs": [],
"source": [
"clear;\n",
"clc;\n",
"close;\n",
"disp('Example 5.12')\n",
"gm=1.1\n",
"M0=2.5\n",
"g1=[]\n",
"\n",
"z0=[0:0.1:4]\n",
"i=2\n",
"for gm=1.1:0.1:1.4\n",
"    gc1=1\n",
"for M=0:0.1:4\n",
"p0=(1+(gm-1)/2*(M^2))^(gm/(gm-1))\n",
"p20=.4*p0-.5*p0\n",
"M=3\n",
"p42=0.37\n",
"NPR=p20*p42\n",
"g1(gc1)=p0\n",
"gc1=gc1+1\n",
"end\n",
"\n",
"plot2d(z0,g1,i)\n",
"xgrid\n",
"title('Total-to-static pressure ratio')\n",
"xlabel('Flight Mach no. (M0)')\n",
"ylabel('pt0/p')\n",
"legend(['gamma=1.1','gamma=1.2','gamma=1.3','gamma=1.4'])\n",
"i=i+1\n",
"\n",
"end"
   ]
   }
,
{
		   "cell_type": "markdown",
		   "metadata": {},
		   "source": [
			"## Example 5.13: EX5_13.sce"
		   ]
		  },
  {
"cell_type": "code",
	   "execution_count": null,
	   "metadata": {
	    "collapsed": true
	   },
	   "outputs": [],
"source": [
"\n",
"clear;\n",
"clc;\n",
"close;\n",
"disp('Example 5.13')\n",
"//T=Th/Tc\n",
"z0=[0:0.05:8]\n",
"i=1\n",
"for T=1:0.5:4.5\n",
"g1=[]\n",
"gc1=1\n",
"for alfa=0:0.05:8\n",
"\n",
"FR=((1+alfa)^(1/2)*(T+alfa)^(1/2))/(T^(1/2)+alfa)\n",
"g1(gc1)=FR\n",
"gc1=gc1+1\n",
"end\n",
"\n",
"//a.data_bounds=[0,1;8,1.08]\n",
"plot2d(z0,g1,i)\n",
"xgrid\n",
"i=i+1\n",
"xlabel('Bypass ratio(alfa)')\n",
"ylabel('Ratio of mixed to seperate-flow turbofan engines gross thrust')\n",
"legend('T(hot)/T(cold)=1.5','T(hot)/T(cold)=2','T(hot)/T(cold)=2.5 so on')\n",
"title('Ideal gross thrust gain with a perfect mixer')\n",
"end\n",
""
   ]
   }
,
{
		   "cell_type": "markdown",
		   "metadata": {},
		   "source": [
			"## Example 5.1: Overspeed_Mach_no.sce"
		   ]
		  },
  {
"cell_type": "code",
	   "execution_count": null,
	   "metadata": {
	    "collapsed": true
	   },
	   "outputs": [],
"source": [
"clear;\n",
"clc;\n",
"close;\n",
"disp('Example 5.1')\n",
"Md=1.5\n",
"//From isentropic table,\n",
"gm=1.4 //gamma\n",
"A=1.176 //A=A1/Ath=A1/Acr\n",
"//for same A, from isentropic table for M<1\n",
"My=0.61\n",
"//for My=0.61, from normal shock table\n",
"Mx=1.8\n",
"Mos=Mx\n",
"disp(Mos,'Overspeed Mach no.')"
   ]
   }
,
{
		   "cell_type": "markdown",
		   "metadata": {},
		   "source": [
			"## Example 5.2: Kantrowitz_Donaldson_inlet.sce"
		   ]
		  },
  {
"cell_type": "code",
	   "execution_count": null,
	   "metadata": {
	    "collapsed": true
	   },
	   "outputs": [],
"source": [
"clear;\n",
"clc;\n",
"close;\n",
"disp('Example 5.2')\n",
"Md=2.65\n",
"Mx=Md\n",
"//for Mx=2.65, from normal shock table \n",
"My=0.4996\n",
"M1=My\n",
"//from isentropic table for M1=0.5, \n",
"A=1.34\n",
"//for Md=2.65, from isentropic table (A=A1/Acr)\n",
"A1=3.036\n",
"Af=A1/A\n",
"//from isentropic table Af, \n",
"Mth=2.35\n",
"//for Mth=2.35, from normal shock table\n",
"p=0.5615 //p=pty/ptx\n",
"disp(p,'Maximum total pressure recovery:')"
   ]
   }
,
{
		   "cell_type": "markdown",
		   "metadata": {},
		   "source": [
			"## Example 5.3: Variable_throat_isentropic_C_D_nozzle.sce"
		   ]
		  },
  {
"cell_type": "code",
	   "execution_count": null,
	   "metadata": {
	    "collapsed": true
	   },
	   "outputs": [],
"source": [
"clear;\n",
"clc;\n",
"close;\n",
"disp('Example 5.3')\n",
"Md=3.3 //from isentropioc  table \n",
"A=5.629 // A=A1/Acr=A1/Ath\n",
"Mx=Md //from normal shock table \n",
"My=0.4596\n",
"M1=My\n",
"//from isentropic table \n",
"A11=1.425\n",
"pt=((1/A11-1/A)/(1/A))*100\n",
"Af=A/A11\n",
"//for Af=3.95, from isentropic table for M>1\n",
"M1th=2.95\n",
"disp(A,'Inlet design contraction ratio A1/Ath:')\n",
"disp(pt,'The % opening of the throat:')\n",
"disp(M1th,'Throat Mach no.:')"
   ]
   }
,
{
		   "cell_type": "markdown",
		   "metadata": {},
		   "source": [
			"## Example 5.4: Normal_shock_inlet.sce"
		   ]
		  },
  {
"cell_type": "code",
	   "execution_count": null,
	   "metadata": {
	    "collapsed": true
	   },
	   "outputs": [],
"source": [
"clear;\n",
"clc;\n",
"close;\n",
"disp('Example 5.4')\n",
"M0=1.4\n",
"//from normal shock table \n",
"p=0.9582 //p=pt2/pt0\n",
"M1=M0\n",
"//from isentropic table:\n",
"A=1.115 //A=A1/Acr\n",
"A11=1.1 //A11=Ax/A1\n",
"Af=A11*A\n",
"//from normal shock table for M>1\n",
"Mx=1.56\n",
"//from normal table\n",
"p1=0.91 //p=pt2/pt0\n",
"p2=p\n",
"disp(p,'(a)The best backpressure :')\n",
"disp(p1,'(b)The supercritical mode inlet total pressure recovery:')\n",
"disp(p2,'(c)Inlet pressure recovery in subcritical mode with 10% spillage:')"
   ]
   }
,
{
		   "cell_type": "markdown",
		   "metadata": {},
		   "source": [
			"## Example 5.5: External_compression_inlets.sce"
		   ]
		  },
  {
"cell_type": "code",
	   "execution_count": null,
	   "metadata": {
	    "collapsed": true
	   },
	   "outputs": [],
"source": [
"clear;\n",
"clc;\n",
"close;\n",
"disp('Example 5.5')\n",
"//th=theta and b=beta.\n",
"gm=1.4 //gamma\n",
"//OBLIQUE SHOCK 1\n",
"M0=2\n",
"th=8 //degree\n",
"//from theta-beta-M chart,\n",
"b1=37 //degree\n",
"Mn1=M0*sind(b1)\n",
"p1=0.993 //p=pt2/pt1\n",
"Mn2=((2+(gm-1)*Mn1^2)/(2*gm*Mn1^2-(gm-1)))^(1/2)\n",
"M2=Mn2/sind(b1-th)\n",
"//OBLIQUE SHOCK 2\n",
"M0=M2\n",
"th=12\n",
"//from oblique shock chart,\n",
"b2=48.7\n",
"Mn1=M0*sind(b2)\n",
"p2=0.978\n",
"Mn2=((2+(gm-1)*Mn1^2)/(2*gm*Mn1^2-(gm-1)))^(1/2)\n",
"M3=Mn2/sind(b1-th)\n",
"//NORMAL SHOCK\n",
"M0=M3\n",
"b3=90\n",
"pNS=0.977\n",
"\n",
"Po=p1*p2*pNS\n",
"disp(Po,'Total pressure recovery:')\n",
"\n",
"\n",
"\n",
"\n",
"\n",
"\n",
"\n",
"\n",
""
   ]
   }
,
{
		   "cell_type": "markdown",
		   "metadata": {},
		   "source": [
			"## Example 5.6: Gross_thrust_by_perfectly_expanded_C_D_nozzle.sce"
		   ]
		  },
  {
"cell_type": "code",
	   "execution_count": null,
	   "metadata": {
	    "collapsed": true
	   },
	   "outputs": [],
"source": [
"clear;\n",
"clc;\n",
"close;\n",
"disp('Example 5.6')\n",
"M9=1 // Mach no.\n",
"p=1/8 //p=p0/pt7\n",
"gm=1.3 //gamma\n",
"V9cd=(2*(1-p^((gm-1)/gm)))^(1/2)\n",
"px=p*((gm+1)/2)^(gm/(gm-1))\n",
"V9c=(2*(gm-1)/(gm+1))^(1/2)\n",
"FR=(V9cd/V9c)/(1+(1-px)/gm)\n",
"pr=(FR-1)*100/1\n",
"disp(pr,'% increase in gross thrust:')"
   ]
   }
,
{
		   "cell_type": "markdown",
		   "metadata": {},
		   "source": [
			"## Example 5.7: Effect_of_boundary_layer_formation_on_nozzle_internal_performance.sce"
		   ]
		  },
  {
"cell_type": "code",
	   "execution_count": null,
	   "metadata": {
	    "collapsed": true
	   },
	   "outputs": [],
"source": [
"clear;\n",
"clc;\n",
"close;\n",
"disp('Example 5.7')\n",
"p98=0.95 //p98=pt9/pt8\n",
"p87=0.98 //p98=pt8/pt7\n",
"p70=8 //p70=pt7/pt0\n",
"p97=8 //p97=pt9/pt7\n",
"Cp=1243.7 //specific heat in J/kg.K\n",
"gm=1.3 //gamma\n",
"Tt9=900 //Total temp. of the gas entering a C-D nozzle\n",
"Tt7=Tt9\n",
"p90=1 //p90=p9/p0\n",
"p99=p98*p87*p70*p90 //p99=pt9/p9\n",
"M9=(2/(gm-1)*(p99^((gm-1)/gm)-1))^(1/2) //exit mach no.\n",
"T9=Tt9/(1+(gm-1)*M9^2/2) //The nozzle exit static temp.\n",
"a9=((gm-1)*Cp*T9)^(1/2) //speed of sound in exit plane\n",
"V9=a9*M9 //exit velocity\n",
"V9s=(2*Cp*Tt7*(1-p97^-((gm-1)/gm)))^(1/2)\n",
"p89=p87*p70*p90 //p89=pt8/p9\n",
"V9i=(2*Cp*Tt7*(1-p89^-((gm-1)/gm)))^(1/2)\n",
"Cv=V9/V9i\n",
"disp(V9,'(a)V9 in m/s:')\n",
"disp(V9s,'(b)V9s in m/s:')\n",
"disp(V9i,'(c)V9i in m/s:')\n",
"disp(Cv,'(d)The velocity coefficient Cv:')"
   ]
   }
,
{
		   "cell_type": "markdown",
		   "metadata": {},
		   "source": [
			"## Example 5.8: EX5_8.sce"
		   ]
		  },
  {
"cell_type": "code",
	   "execution_count": null,
	   "metadata": {
	    "collapsed": true
	   },
	   "outputs": [],
"source": [
"clear;\n",
"clc;\n",
"close;\n",
"disp('Example 5.8')\n",
"alfa=0 //alfa=cone half angle\n",
"dx=[0:0.03:44] \n",
"x=[]\n",
"count=1\n",
"for alfa=0:0.03:44\n",
"Ca=(1+cosd(alfa))/2 //Flow angularity loss coefficient\n",
"x(count)=Ca\n",
"count=count+1\n",
"//disp(Ca,'Divergence correction factor Ca:')\n",
"end\n",
"plot2d(dx,x,2)\n",
"xgrid\n",
"title('Flow convergence loss in a conical nozzle')\n",
"xlabel('Cone half-angle')\n",
"ylabel('Flow angularity loss coefficient')"
   ]
   }
,
{
		   "cell_type": "markdown",
		   "metadata": {},
		   "source": [
			"## Example 5.9: EX5_9.sce"
		   ]
		  },
  {
"cell_type": "code",
	   "execution_count": null,
	   "metadata": {
	    "collapsed": true
	   },
	   "outputs": [],
"source": [
"clear;\n",
"clc;\n",
"close;\n",
"disp('Example 5.9')\n",
"alfa=0.1\n",
"dx=[0.1:0.5:44]\n",
"x=[]\n",
"g1=[]\n",
"g1=1\n",
"count=1\n",
"g2=[]\n",
"gc1=1\n",
"for alfa=0.1:0.5:44\n",
"Ca=(sind(alfa))/(alfa*%pi/180)\n",
"Cac=(1+cosd(alfa))/2\n",
"x(count)=Ca\n",
"count=count+1\n",
"g1(gc1)=Cac\n",
"gc1=gc1+1\n",
"end\n",
"subplot(1,2,1)\n",
"plot2d(dx,x,2)\n",
"xgrid\n",
"title('Flow divergence loss in a 2D-CD nozzle')\n",
"xlabel('Divergent flap angle(degree)')\n",
"ylabel('Flow angularity loss coefficient')\n",
"subplot(1,2,2)\n",
"plot2d(dx,g1,5)\n",
"plot2d(dx,x,2)\n",
"xgrid\n",
"legend(['Conical','2D-CD'])\n",
"xlabel('Divegent flap angle or Cone half-angle(degree)')\n",
"ylabel('Flow angularity loss coefficient')\n",
"title('Divergent loss of a conical nozzle and a 2D-CD nozzle')"
   ]
   }
],
"metadata": {
		  "kernelspec": {
		   "display_name": "Scilab",
		   "language": "scilab",
		   "name": "scilab"
		  },
		  "language_info": {
		   "file_extension": ".sce",
		   "help_links": [
			{
			 "text": "MetaKernel Magics",
			 "url": "https://github.com/calysto/metakernel/blob/master/metakernel/magics/README.md"
			}
		   ],
		   "mimetype": "text/x-octave",
		   "name": "scilab",
		   "version": "0.7.1"
		  }
		 },
		 "nbformat": 4,
		 "nbformat_minor": 0
}
