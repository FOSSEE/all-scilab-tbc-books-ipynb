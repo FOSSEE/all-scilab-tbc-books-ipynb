{
"cells": [
 {
		   "cell_type": "markdown",
	   "metadata": {},
	   "source": [
       "# Chapter 2: Compressible flow with friction and heat A review"
	   ]
	},
{
		   "cell_type": "markdown",
		   "metadata": {},
		   "source": [
			"## Example 2.10: EX2_10.sce"
		   ]
		  },
  {
"cell_type": "code",
	   "execution_count": null,
	   "metadata": {
	    "collapsed": true
	   },
	   "outputs": [],
"source": [
"clear;\n",
"clc;\n",
"close;\n",
"disp('Example2.10')\n",
"M1=0.5\n",
"a=2 // area of cross section units in cm^2\n",
"Cf=0.005 //coefficient of skin friction\n",
"gm=1.4 //gamma\n",
"//Calculations\n",
"c=2*(2+1); //Parameter of surface.\n",
"//From FANNO table: 4*Cf*L1cr/Dh=1.0691;\n",
"Dh=4*a/c; //Hydrolic diameter.\n",
"L1cr=1.069*Dh/(4*Cf);\n",
"//maximum length will be L1cr.\n",
"//For new length(i.e. 2.16*L1cr), Mach no. M2 from FANNO table, M2=0.4;.\n",
"M2=0.4;\n",
"//the inlet total pressue and temp remains the same, therefore the mass flow rate in the duct is proportional to f(M):\n",
"function [f]=f(M)\n",
"    f=M/(1+((gm-1)/2)*M^2)^((gm+1)/(2*(gm-1)))\n",
"endfunction\n",
"dm=(f(M1)-f(M2))/f(M1)*100;\n",
"disp(L1cr,'(a)Maximum length of duct that will support given inlet condition(in cm):')\n",
"disp(M2,'(b)The new inlet condition mach no. M2:')\n",
"disp(dm,'(c)% inlet mass flow drop due to the longer length of the duct:')\n",
"\n",
"\n",
"\n",
""
   ]
   }
,
{
		   "cell_type": "markdown",
		   "metadata": {},
		   "source": [
			"## Example 2.12: Subsonic_diffuser.sce"
		   ]
		  },
  {
"cell_type": "code",
	   "execution_count": null,
	   "metadata": {
	    "collapsed": true
	   },
	   "outputs": [],
"source": [
"clear;\n",
"clc;\n",
"close;\n",
"disp('Example2.12')\n",
"M1=0.7;\n",
"dpt=0.99; //pt2/pt1=dpt.\n",
"gm=1.4; //gamma\n",
"//A2=1.237A1.\n",
"a=1/1.237;\n",
"\n",
"//Calculations:\n",
"M2 = poly(0, 'M2');\n",
"k=(1/dpt)*(a)*(M1/(1+(0.2*(M1)^2))^3)\n",
"pol = k*(1+(0.2*(M2)^2))^3 -M2;\n",
"W=roots(pol);\n",
"//disp(W)\n",
"i=1\n",
"while i<=6\n",
"z=W(i)\n",
"if imag(z)==0 then\n",
"    if real(z)<0.7 then  //since diffusing duct with inlet mach no. <1\n",
"        M2=z\n",
"    end\n",
"      end\n",
"\n",
"i=i+1\n",
"end\n",
"disp(M2,'(a)The exit Mach no. M2:')\n",
"//p=p2/p1 i.e. static pressure ratio\n",
"p=dpt*((1+(gm-1)*(M1)^2/2)/(1+(gm-1)*(M2)^2/2))^(gm/(gm-1))\n",
"//disp(p)\n",
"Cpr=(2/(gm*(M1)^2))*(p-1) //Cpr is static pressure recovery : (p2-p1)/q1.\n",
"disp(Cpr,'(b)The static pressure recovery in the diffuser:')\n",
"//Change in fluid impulse:\n",
"//Fxwalls=I2-I1=A1p1(1+gm*M1^2)-A2p2(1+gm*M2^2)\n",
"//Let, u=Fxwall/(p1*A1)\n",
"u=1+gm*(M1)^2-(1.237)*(p)*(1+(gm*(M2)^2))\n",
"disp(u,'(c)The force acting on the diffuser inner wall nondimensionalized by inlet static pressure and area:')\n",
"\n",
"\n",
""
   ]
   }
,
{
		   "cell_type": "markdown",
		   "metadata": {},
		   "source": [
			"## Example 2.13: Supersonic_nozzle.sce"
		   ]
		  },
  {
"cell_type": "code",
	   "execution_count": null,
	   "metadata": {
	    "collapsed": true
	   },
	   "outputs": [],
"source": [
"clear;\n",
"clc;\n",
"close;\n",
"disp('Example2.13')\n",
"M1=0.5 //inlet mach no.\n",
"p=10 //(p=pt1/p0) whaere pt1 is inlet total pressure and p0 is ambient pressure.\n",
"dpc=0.01 //dpc=(pt1-Pth)/pt1 i.e. total pressure loss in convergant section\n",
"f=0.99 //f=Pth/pt1\n",
"dpd=0.02 //dpd=(Pth-pt2)/Pth i.e. total pressure loss in the divergent section\n",
"j=1/0.98 //j=Pth/pt2\n",
"A=2 //a=A2/Ath. nozzle area expansion ratio.\n",
"gm=1.4 // gamma\n",
"R=287 //J/kg.K universal gas constant.\n",
"//Calculations:\n",
"//'th'' subscript denotes throat.\n",
"Mth=1 //mach no at thorat is always 1.\n",
"M2=poly(0,'M2')\n",
"k=(j)*(1/A)*(Mth/(1+(0.2*(Mth)^2))^3)\n",
"po=k*(1+(0.2*(M2)^2))^3 -M2;\n",
"W=roots(po)\n",
"i=1\n",
"s=1\n",
"while i<=6\n",
"z=W(i)\n",
"//disp(z)\n",
"if imag(z)==0 then\n",
"    if real(z)>1 then //since large nozzle pressure ratio ()\n",
"        M2=z\n",
"    end\n",
"      end\n",
"i=i+1\n",
"end\n",
"disp(M2,'(a)The exit Mach no. M2:')\n",
"//p2/pt2=1/(1+(gm-1)/2*M2^2)^(gm/(gm-1)) \n",
"//pt2=(pt2/Pth)*(Pth/pt1)*(pt1/p0)*p0\n",
"//let pr=p2/p0\n",
"pr=((1/j)*f*p)/(1+(0.2*(M2)^2))^(gm/(gm-1))\n",
"disp(pr,'(b)The exit static pressure in terms of ambient pressure p2/p0:')//Fxwall=-Fxliquid=I1-I2\n",
"//let r=A1/Ath\n",
"r=(f)*(1/M1)*(((1+((gm-1)/2)*(M1)^2)/((gm+1)/2))^((gm+1)/(2*(gm-1))))\n",
"//disp(r)\n",
"//Psth is throat static pressure.\n",
"//z1=Psth/pt1=f/((gm+1)/2)^(gm/(gm-1))\n",
"z1=f/((gm+1)/2)^(gm/(gm-1))\n",
"//disp(z1)\n",
"//p1 is static pressure at inlet\n",
"//s1=p1/pt1\n",
"s1=1/(1+((gm-1)/2)*(M1)^2)^(gm/(gm-1))\n",
"//disp(s1)\n",
"//let y=Fxcwall/(Ath*pt1), where Fxwall is Fx converging-wall\n",
"y=s1*r*(1+(gm*(M1)^2))-(z1*(1+(gm*(Mth)^2)))\n",
"disp(y,'(c)The nondimensional axial force acting on the convergent nozzle:')\n",
"//similarly finding nondimensional force on the nozzle DIVERGENT section\n",
"//y1=Fxdiv-wall/Ath*pt1\n",
"//f1=p2/pt1\n",
"f1=pr*(1/p)\n",
"//disp(f1)\n",
"y1=z1*(1+(gm*(Mth)^2))-f1*A*(1+(gm*(M2)^2))\n",
"disp(y1,'(d)The nondimensional axial force acting on the divergent nozzle:')\n",
"//total axial force acting on nozzle wall: Fsum=y+y1\n",
"Fsum=y+y1\n",
"disp(Fsum,'(e)The total axial force(nondimensional) acting on the nozzle: ')"
   ]
   }
,
{
		   "cell_type": "markdown",
		   "metadata": {},
		   "source": [
			"## Example 2.14: Axial_flow_compressor.sce"
		   ]
		  },
  {
"cell_type": "code",
	   "execution_count": null,
	   "metadata": {
	    "collapsed": true
	   },
	   "outputs": [],
"source": [
"clear;\n",
"clc;\n",
"close;\n",
"disp('Example2.14')\n",
"p=20 //p=p2/p1 i.e. compression ratio.\n",
"gm=1.4 // gamma\n",
"//Vx1=Vx2 i.e. axial velocity remains same.\n",
"//calculations:\n",
"d=p^(1/gm) //d=d2/d1 i.e. density ratio\n",
"A=1/d // A=A2/A1 i.e. area ratio which is related to density ratio as: A2/A1=d1/d2.\n",
"//disp(A)\n",
"Fx=1-p*A  //Fx=Fxwall/p1*A1 i.e nondimensional axial force.\n",
"disp(Fx,'The non-dimensional axial force is :')\n",
"disp('The negative sign on the axial force experienced by the compressor structure signifies a thrust production by this component.')"
   ]
   }
,
{
		   "cell_type": "markdown",
		   "metadata": {},
		   "source": [
			"## Example 2.15: Combustor.sce"
		   ]
		  },
  {
"cell_type": "code",
	   "execution_count": null,
	   "metadata": {
	    "collapsed": true
	   },
	   "outputs": [],
"source": [
"clear;\n",
"clc;\n",
"close;\n",
"disp('Example 2.15')\n",
"t=1.8 //t=T2/T1\n",
"d=1/t //d=d2/d1 i.e. density ratio\n",
"v=1/d //v=Vx2/Vx1 axial velocity ratio\n",
"ndaf=1-(v) //nondimensional axial force acting on the combustor walls\n",
"disp(ndaf,'The nondimensional axial force acting on the combustor walls:')\n",
"disp('Negative sign signifies a thrust production by the device')"
   ]
   }
,
{
		   "cell_type": "markdown",
		   "metadata": {},
		   "source": [
			"## Example 2.16: Axial_flow_turbine.sce"
		   ]
		  },
  {
"cell_type": "code",
	   "execution_count": null,
	   "metadata": {
	    "collapsed": true
	   },
	   "outputs": [],
"source": [
"clear;\n",
"clc;\n",
"close;\n",
"disp('Example 2.16')\n",
"t=0.79 //T2/T1 i.e. turbione expansion\n",
"gm=1.4 //gamma\n",
"//calculations:\n",
"d=t^(1/(gm-1))\n",
"//disp(d)\n",
"a=1/d //area ratio\n",
"p=d^gm //pressure ratio\n",
"ndaf=1-p*a\n",
"disp(ndaf,'The nondimensional axial force:')"
   ]
   }
,
{
		   "cell_type": "markdown",
		   "metadata": {},
		   "source": [
			"## Example 2.1: Brief_review_of_thermodynamics.sce"
		   ]
		  },
  {
"cell_type": "code",
	   "execution_count": null,
	   "metadata": {
	    "collapsed": true
	   },
	   "outputs": [],
"source": [
"clear;\n",
"clc;\n",
"close;\n",
"disp('Example 2.1')\n",
"p=3*10^6 ; //pressure in Pa\n",
"t=298 ; //temperatue in kelvin\n",
"mw= 29; //molecular weight in kg/mol\n",
"ru=8314; //universal constant in J/kmol.K\n",
"r=ru/mw ;\n",
"//using perfect gas law to get density:\n",
"rho=p/(r*t) ;\n",
"disp(r,'Gas constant of air in J/kg.K:')\n",
"disp(rho,'Density of air in kg/m^3:')"
   ]
   }
,
{
		   "cell_type": "markdown",
		   "metadata": {},
		   "source": [
			"## Example 2.2: Isentropic_process_and_isentropic_flow.sce"
		   ]
		  },
  {
"cell_type": "code",
	   "execution_count": null,
	   "metadata": {
	    "collapsed": true
	   },
	   "outputs": [],
"source": [
"clear;\n",
"clc;\n",
"close;\n",
"disp('Example2.2')\n",
"t1=288; //inlet temperture in Kelvin\n",
"p1=100*10^3; //inlet pressure in Pa\n",
"p2=1*10^6 //exit pressure in Pa\n",
"gma=1.4; //gamma.\n",
"rg=287; //gas constant in J/kg.K\n",
"t2=t1*(p2/p1)^((gma-1)/gma);   //exit temperature \n",
"disp(t2,'Exit temperature in K:')\n",
"//first method to find exit density:\n",
"//application of perfect gas law at exit\n",
"rho=p2/(rg*t2); //rho= exit density.\n",
"disp(rho,'exit density at by method 1 in kg/m^3:')\n",
"//method 2: using isentropic relation between inlet and exit density.\n",
"rho1=p1/(rg*t1); //inlet density.\n",
"rho=rho1*(p2/p1)^(1/gma);\n",
"disp(rho,'exit density by method 2 in kg/m^3:')\n",
"\n",
"                                                     "
   ]
   }
,
{
		   "cell_type": "markdown",
		   "metadata": {},
		   "source": [
			"## Example 2.3: Conservation_principle_for_systems_and_control_volumes.sce"
		   ]
		  },
  {
"cell_type": "code",
	   "execution_count": null,
	   "metadata": {
	    "collapsed": true
	   },
	   "outputs": [],
"source": [
"clear;\n",
"clc;\n",
"close;\n",
"disp('Example2.3')\n",
"d1=1.2 //inlet 1 density in kg/m^3.\n",
"u1=25 // inlet 1 veocity in m/s.\n",
"a1=0.25 //inlet 1 area in m^2.\n",
"d2=0.2 //inlet 2 density in kg/m^3.\n",
"u2=225 //inlet 2 velocity in m/s.\n",
"a2=0.10 //inlet 2 area in m^2.\n",
"m1=d1*a1*u1; //rate of mass flow entering inlet 1.\n",
"m2=d2*u2*a2; //rate of mass flow entering inlet 2.\n",
"//since total mass in=total mass out,\n",
"m3=m1+m2; //m3=rate of mass flow through exit.\n",
"disp(m3,'Rate of mass flow through exit in kg/s:')\n",
""
   ]
   }
,
{
		   "cell_type": "markdown",
		   "metadata": {},
		   "source": [
			"## Example 2.4: Conservation_principle_for_systems_and_control_volumes.sce"
		   ]
		  },
  {
"cell_type": "code",
	   "execution_count": null,
	   "metadata": {
	    "collapsed": true
	   },
	   "outputs": [],
"source": [
"clear;\n",
"clc;\n",
"close;\n",
"disp('Example2.4')\n",
"u1=2 //speed of water going on the plate. X-component in m/s.\n",
"v1=0 //speed of water going on the plate. Y-component in m/s.\n",
"u2=1 //speed of water going on the plate. X-component in m/s.\n",
"v2=1.73 //speed of water going on the plate Y-coponent in m/s.\n",
"m=0.1 //rate of flow of mass of the water on the plate in kg/s.\n",
"//Using Newton's second law.\n",
"Fx=m*(u2-u1); //X-component of force exerted by water\n",
"disp(Fx,'Axial force needed to support the plate in N:')\n",
"Fy=m*(v2-v1); //Y-component of force exerted by water.\n",
"disp(Fy,'Lateral force needed to support the plate in N:')"
   ]
   }
,
{
		   "cell_type": "markdown",
		   "metadata": {},
		   "source": [
			"## Example 2.5: Conservation_principle_for_systems_and_control_volumes.sce"
		   ]
		  },
  {
"cell_type": "code",
	   "execution_count": null,
	   "metadata": {
	    "collapsed": true
	   },
	   "outputs": [],
"source": [
"clear;\n",
"clc;\n",
"close;\n",
"disp('Example2.5')\n",
"m=50 //mass flow rate in kg/s.\n",
"T1=298 //inlet temperature in K.\n",
"u1=150 //inlet velocity in m/s.\n",
"cp1=1004 //specific heat at constant pressure of inlet in J/kg.K.\n",
"gm=1.4 //gamma.\n",
"u2=400 // exit velocity in m/s.\n",
"cp2=1243. //specific heat at constant pressure of exit in J/kg.K.\n",
"q=42*10^6 //heat transfer rate in control volume in Watt.\n",
"me=-100*10^3 //mechanical power in Watt.\n",
"//first calculate total enthalpy at the inlet:\n",
"ht1=cp1*T1+(u1^2)/2; //ht1=Total inlet enthalpy.\n",
"//now applying conservation of energy equation:\n",
"ht2=ht1+((q-me)/m) //ht2=Total enthalpy at exit.\n",
"Tt2=ht2/cp2; //Tt2=Total exit temperature.\n",
"T2=Tt2-((u2^2)/(2*cp2)); //T2=static exit temperature.\n",
"disp(Tt2,'Exit total temperature in K:');\n",
"disp(T2,'Exit static temperature in K:');"
   ]
   }
,
{
		   "cell_type": "markdown",
		   "metadata": {},
		   "source": [
			"## Example 2.6: Flow_through_a_constant_area_duct.sce"
		   ]
		  },
  {
"cell_type": "code",
	   "execution_count": null,
	   "metadata": {
	    "collapsed": true
	   },
	   "outputs": [],
"source": [
"clear;\n",
"clc;\n",
"close;\n",
"disp('Example2.6')\n",
"d=0.2 //Diameter in meters.\n",
"M1=0.2 //inlet Mach no.\n",
"p1=100*10^3 //inlet pressure in Pa\n",
"Tt1=288 //total inlet temperature in K\n",
"q=100*10^3 //rate of heat transfer to fluid in Watt.\n",
"rg=287 //Gas constant in J/kg.K.\n",
"gm=1.4 //gamma\n",
"//(a)inlet mass flow:\n",
"m=((gm/rg)^(1/2))*(p1/(Tt1)^(1/2))*3.14*(d^2)/4*(M1/(1+((gm-1)/2)*(M1^2))^((gm+1)/(2*(gm-1))));\n",
"\n",
"//(b)\n",
"qm=q/m; //Heat per unit mass.\n",
"//Tt1/Tcr=0.1736, pt1/Pcr=1.2346, ((Delta(s)/R)1=6.3402,p1/Pcr=2.2727)\n",
"Tcr=Tt1/0.1736;\n",
"\n",
"Pcr=p1/2.2727;\n",
"//From energy equation:\n",
"cp=(gm/(gm-1))*rg;\n",
"Tt2=Tt1+(q/cp);\n",
"q1cr=cp*(Tcr-Tt1)/1000;\n",
"M2=0.22;\n",
"//From table : pt2/Pcr=1.2281, (Delta(s)/R)2=5.7395, p2/Pcr=2.2477.\n",
"//The percent total pressure drop is (((pt1/Pcr)-(pt2/Pcr))/(pt1/Pcr))*100.\n",
"p2=2.2477*Pcr;\n",
"dp=((1.2346-1.2281)/1.2346)*100;\n",
"//Entropy rise is the difference between (delta(s)/R)1 and (delta(s)/R)2.\n",
"ds=6.3402-5.7395;\n",
"//Static pressure drop in duct due to heat transfer is\n",
"dps=((p1/Pcr)-(p2/Pcr))*Pcr/1000;\n",
"disp(m,'(a)Mass flow rate through duct in kg/s:')\n",
"disp(q1cr,'(b)Critical heat flux that would choke the duct for the M1 in kJ/kg:')\n",
"disp(M2,'(c)The exit Mach No.:')\n",
"disp(dp,'(d)The percent total pressure loss (%):')\n",
"disp(ds,'(e)The entropy rise (delta(s)/R):')\n",
"disp(dps,'(f)The static pressure drop Delta(p) in kPa')"
   ]
   }
,
{
		   "cell_type": "markdown",
		   "metadata": {},
		   "source": [
			"## Example 2.7: Flow_through_constant_area_combustion_chamber.sce"
		   ]
		  },
  {
"cell_type": "code",
	   "execution_count": null,
	   "metadata": {
	    "collapsed": true
	   },
	   "outputs": [],
"source": [
"clear;\n",
"clc;\n",
"close;\n",
"disp('Example2.7')\n",
"M1=3.0 //Mach no. at inlet\n",
"pt1=45*10^3 //Total pressure t inlet in Pa\n",
"Tt1=1800 //Total temperature at inlet in K\n",
"hv=12000 //Lower heating value of hydrogen kJ/kg\n",
"gm=1.3 //gamma\n",
"R=0.287 //in kJ/kg.K\n",
"//Using RAYLEIGH table for M1=3.0 and gamma=1.3, we get Tt1/Tcr=0.6032, pt1/Pcr=4.0073.\n",
"Tcr=Tt1/0.6032\n",
"Pcr=pt1/4.0073\n",
"//if exit is choked, Tt2=Tcr\n",
"Tt2=Tt1/0.6032;\n",
"cp=gm*R/(gm-1);\n",
"//Energy balance across burner:\n",
"Q1cr=cp*(Tcr-Tt1);\n",
"f=(Q1cr/120000);\n",
"//total pressure loss:\n",
"dpt=1-Pcr/pt1;\n",
"disp(Tt2,'(a)Total exit temperature if exit is choked in K:')\n",
"disp(Q1cr,'(b)Maximum heat released per unit mass of air in kJ/kg:')\n",
"disp(f,'(c)fuel-to-air ratio to thermally choke the combustor exit:')\n",
"disp(dpt,'(d)Total pressure loss (in fraction):')"
   ]
   }
,
{
		   "cell_type": "markdown",
		   "metadata": {},
		   "source": [
			"## Example 2.8: Heat_transfer_in_subsonic_flow_in_constant_area_duct.sce"
		   ]
		  },
  {
"cell_type": "code",
	   "execution_count": null,
	   "metadata": {
	    "collapsed": true
	   },
	   "outputs": [],
"source": [
"clear;\n",
"clc;\n",
"close;\n",
"disp('Example2.8')\n",
"Tt1=50+460 //Converting the inlet temp. to the absolute scale i.e. in degree R\n",
"M1=0.5 //Initial inlet Mach no.\n",
"pt1=14.7 //Units in psia\n",
"gm=1.4 //gamma\n",
"R=53.34 //units in ft.lbf/lbm.degree R\n",
"Tcr=Tt1/0.69136 \n",
"cp=gm*R/(gm-1)\n",
"//using energy equation:\n",
"Q1cr=cp*(Tcr-Tt1)\n",
"//since heat flux is 1.2(Q1cr).\n",
"q=1.2*Q1cr\n",
"Tt1cr1=Tt1+(Q1cr'/cp) //new exit total temp.\n",
"z=Tt1/Tt1cr1\n",
"M2=0.473\n",
"function [f]=f(M)\n",
"    f=M/(1+((gm-1)/2)*M^2)^((gm+1)/(2*(gm-1)))\n",
"endfunction\n",
"sm=((f(M1)-f(M2))/f(M1))*100 //sm=The % spilled flow at the inlet\n",
"disp(M2,'(a)The new inlet Mach no. M2:')\n",
"disp(sm,'(b)The % spilled flow at the inlet:')"
   ]
   }
,
{
		   "cell_type": "markdown",
		   "metadata": {},
		   "source": [
			"## Example 2.9: EX2_9.sce"
		   ]
		  },
  {
"cell_type": "code",
	   "execution_count": null,
	   "metadata": {
	    "collapsed": true
	   },
	   "outputs": [],
"source": [
"clear;\n",
"clc;\n",
"close;\n",
"disp('Example2.9')\n",
"d=0.2 //diameter in meters.\n",
"l=0.2 //length in meters.\n",
"Cf=0.005 //average wall friction coefficient.\n",
"M1=0.24 //inlet mach no.\n",
"gm=1.4 //gamma.\n",
"//From FANNO tbale\n",
"L1cr=(9.3866*d/2)/(4*Cf);\n",
"L2cr=L1cr-l;\n",
"//from FANNO table\n",
"M2=0.3;\n",
"x=2.4956;\n",
"y=2.0351;\n",
"a=4.5383;\n",
"b=3.6191;\n",
"i1=2.043;\n",
"i2=1.698;\n",
"//% total pressure drop due to friction:\n",
"dpt=(x-y)/(x)*100;\n",
"//static pressur drop:\n",
"dps=(a-b)/a*100;\n",
"//Loss pf fluid:\n",
"lf=(i2-i1);\n",
"disp(L1cr,'(a)The choking length of duct in m:')\n",
"disp(M2,'(b)The exit Mach no.:')\n",
"disp(dpt,'(c)% total pressure loss:')\n",
"disp(dps,'(d)The static pressure drop in %:')\n",
"disp(lf,'(e)Loss of impulse due to friction(I* times):')"
   ]
   }
],
"metadata": {
		  "kernelspec": {
		   "display_name": "Scilab",
		   "language": "scilab",
		   "name": "scilab"
		  },
		  "language_info": {
		   "file_extension": ".sce",
		   "help_links": [
			{
			 "text": "MetaKernel Magics",
			 "url": "https://github.com/calysto/metakernel/blob/master/metakernel/magics/README.md"
			}
		   ],
		   "mimetype": "text/x-octave",
		   "name": "scilab",
		   "version": "0.7.1"
		  }
		 },
		 "nbformat": 4,
		 "nbformat_minor": 0
}
