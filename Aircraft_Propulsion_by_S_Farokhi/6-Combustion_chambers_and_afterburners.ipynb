{
"cells": [
 {
		   "cell_type": "markdown",
	   "metadata": {},
	   "source": [
       "# Chapter 6: Combustion chambers and afterburners"
	   ]
	},
{
		   "cell_type": "markdown",
		   "metadata": {},
		   "source": [
			"## Example 6.1: Moles_in_a_mixture.sce"
		   ]
		  },
  {
"cell_type": "code",
	   "execution_count": null,
	   "metadata": {
	    "collapsed": true
	   },
	   "outputs": [],
"source": [
"clear;\n",
"clc;\n",
"close;\n",
"disp('Example 6.1')\n",
"nH2=12/2 //molecular mass og hydrogen =2kg/kmol\n",
"nO2=8/32 //Molecular mass of O2=32kg/kmol\n",
"disp(nH2,'No. of kilomoles of H2:')\n",
"disp(nO2,'No. of kilomoles of O2:')"
   ]
   }
,
{
		   "cell_type": "markdown",
		   "metadata": {},
		   "source": [
			"## Example 6.3: Heating_values_of_hydrogen.sce"
		   ]
		  },
  {
"cell_type": "code",
	   "execution_count": null,
	   "metadata": {
	    "collapsed": true
	   },
	   "outputs": [],
"source": [
"clear;\n",
"clc;\n",
"close;\n",
"disp('Example 6.3')\n",
"T=298.16 //in K\n",
"dhf=-241827 //heat of formation of H2O(g in kJ.\n",
"n=1 //kmol\n",
"Qr=n*dhf //kJ/kmol\n",
"LHV=(-1)*Qr/2\n",
"disp(LHV,'LHV in kJ/kg:')\n",
"HHV=LHV+9*2443\n",
"disp(HHV,'HHV in kJ/kg:')"
   ]
   }
,
{
		   "cell_type": "markdown",
		   "metadata": {},
		   "source": [
			"## Example 6.5: Chemical_reaction_and_flame_temperature.sce"
		   ]
		  },
  {
"cell_type": "code",
	   "execution_count": null,
	   "metadata": {
	    "collapsed": true
	   },
	   "outputs": [],
"source": [
"clear;\n",
"clc;\n",
"close;\n",
"disp('Example 6.5')\n",
"//from equation CH4+2.4(O2+3.76N2)-->CO2+2H2O+0.4O2+9.02N2\n",
"f=(12+4)/(2.4*(32+3.76*28)) //fuel to air ratio based on mass.\n",
"fs=(12+4)/(2*(32+3.76*28)) //fuel to air ratio based on stoichometric condition.\n",
"feq=f/fs\n",
"disp(f,'(a1)fuel to air ratio based on mass:')\n",
"disp(fs,'(a2)fuel to air ratio based on stoichometric condition:')\n",
"disp(feq,'(b)Equivalent ratio:')\n",
"dH=-802303 //kJ\n",
"dC=484.7 //kJ\n",
"Dt=(-1)*dH/dC //Dt=T2-Tf\n",
"Tf=25+273\n",
"T2=Dt+Tf\n",
"disp(T2,'(c)The diabatic flame temperature in K:')"
   ]
   }
,
{
		   "cell_type": "markdown",
		   "metadata": {},
		   "source": [
			"## Example 6.6: Mole_fraction_at_equilibrium.sce"
		   ]
		  },
  {
"cell_type": "code",
	   "execution_count": null,
	   "metadata": {
	    "collapsed": true
	   },
	   "outputs": [],
"source": [
"clear;\n",
"clc;\n",
"close;\n",
"disp('Example 6.6')\n",
"Kp=0.1\n",
"x=poly(0,'x')\n",
"pm=1\n",
"y=4*(x)^2*pm-Kp+Kp*(x)^2\n",
"d=roots(y)\n",
"for i=1:1:2\n",
"\n",
"if real(d(i))>0 then\n",
"    disp(d(i),'(a)Mole fraction of N2 at equilibrium when pm is 1 atm:')\n",
"end\n",
"end\n",
"//part (b)\n",
"Kp=0.1\n",
"x=poly(0,'x')\n",
"pm=10\n",
"y=4*(x)^2*pm-Kp+Kp*(x)^2\n",
"d=roots(y)\n",
"for i=1:1:2\n",
"\n",
"if real(d(i))>0 then\n",
"    disp(d(i),'(b)Mole fraction of N2 at equilibrium when pm is 10 atm:')\n",
"end\n",
"end"
   ]
   }
],
"metadata": {
		  "kernelspec": {
		   "display_name": "Scilab",
		   "language": "scilab",
		   "name": "scilab"
		  },
		  "language_info": {
		   "file_extension": ".sce",
		   "help_links": [
			{
			 "text": "MetaKernel Magics",
			 "url": "https://github.com/calysto/metakernel/blob/master/metakernel/magics/README.md"
			}
		   ],
		   "mimetype": "text/x-octave",
		   "name": "scilab",
		   "version": "0.7.1"
		  }
		 },
		 "nbformat": 4,
		 "nbformat_minor": 0
}
