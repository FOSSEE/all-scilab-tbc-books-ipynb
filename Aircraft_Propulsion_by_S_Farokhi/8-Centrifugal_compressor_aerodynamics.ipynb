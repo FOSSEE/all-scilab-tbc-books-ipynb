{
"cells": [
 {
		   "cell_type": "markdown",
	   "metadata": {},
	   "source": [
       "# Chapter 8: Centrifugal compressor aerodynamics"
	   ]
	},
{
		   "cell_type": "markdown",
		   "metadata": {},
		   "source": [
			"## Example 8.1: EX8_1.sce"
		   ]
		  },
  {
"cell_type": "code",
	   "execution_count": null,
	   "metadata": {
	    "collapsed": true
	   },
	   "outputs": [],
"source": [
"clear;\n",
"clc;\n",
"close;\n",
"disp('Example 8.1')\n",
"z0=[0.2:0.05:0.6]\n",
"g1=[]\n",
"gc1=1\n",
"gm=1.4\n",
"for M1=0.2:0.05:0.6\n",
"\n",
"y=1/((1+((gm-1)/2)*M1^2)^(1/2))\n",
"\n",
"g1(gc1)=y\n",
"gc1=gc1+1\n",
"end\n",
"a=gca()\n",
"a.data_bounds=[0.2,0.96;0.6,1]\n",
"\n",
"plot2d(z0,g1,2)\n",
"xgrid\n",
"xlabel('Inlet Mach no M1')\n",
"ylabel('Ratio of index to the impeller tip tangential Mach no.')\n",
"title('Ratio of Mach index to impeller tip Mach no.')"
   ]
   }
,
{
		   "cell_type": "markdown",
		   "metadata": {},
		   "source": [
			"## Example 8.3: Radial_diffuser.sce"
		   ]
		  },
  {
"cell_type": "code",
	   "execution_count": null,
	   "metadata": {
	    "collapsed": true
	   },
	   "outputs": [],
"source": [
"clear;\n",
"clc;\n",
"close;\n",
"disp('Example 8.3')\n",
"M1=1.2 //Mach no at impeller tip\n",
"gm=1.4 //gamma\n",
"p31=(1+(gm-1)*M1^2)^(gm/(gm-1)) //p=p3/p1\n",
"p32=p31^(1/2) //p31=p3/p2\n",
"Cp=(2/(gm*M1^2))*(2.2-1) //static pressure rise in radial diffuser\n",
"disp(p31,'(a)The static pressure the rotor and diffuser p3/p1 :')\n",
"disp(p32,'The static pressure ratio across the diffuser p3/p2')\n",
"disp(Cp,'Diffuser static pressure rise :')"
   ]
   }
,
{
		   "cell_type": "markdown",
		   "metadata": {},
		   "source": [
			"## Example 8.4: EX8_4.sce"
		   ]
		  },
  {
"cell_type": "code",
	   "execution_count": null,
	   "metadata": {
	    "collapsed": true
	   },
	   "outputs": [],
"source": [
"clear;\n",
"clc;\n",
"close;\n",
"disp('Example 8.4')\n",
"M=2\n",
"i=2\n",
"sigma=1\n",
"z0=[0.1:0.1:0.5]\n",
"gm=1.4\n",
"\n",
"for M=2:4\n",
"    g1=[]\n",
"gc1=1\n",
"    for r=[0.1:0.1:0.5]\n",
"y=1-(1/(1+(r^2)*(M^2)))+((M*r)/(2*sigma*(1+(r^2)*(M^2))^(1/2)))\n",
"g1(gc1)=y\n",
"gc1=gc1+1\n",
"end\n",
"i=i+1\n",
"plot2d(z0,g1,i)\n",
"xgrid\n",
"xlabel('Eye-to-lip radius ratio (r1/r2)')\n",
"ylabel('D inducer')\n",
"title('Inducer performance and centrifugal compressor design parameters (solidity=1)')\n",
"legend('Mt/Mz1=2','Mt/Mz1=3','Mt/Mz1=4')\n",
"end\n",
""
   ]
   }
,
{
		   "cell_type": "markdown",
		   "metadata": {},
		   "source": [
			"## Example 8.6: Performance_parameters_of_a_centrifugal_compressor.sce"
		   ]
		  },
  {
"cell_type": "code",
	   "execution_count": null,
	   "metadata": {
	    "collapsed": true
	   },
	   "outputs": [],
"source": [
"clear;\n",
"clc;\n",
"close;\n",
"disp('Example 8.6')\n",
"\n",
"Tt1=288\n",
"Cp=1004\n",
"gm=1.4\n",
"ett=0.8\n",
"p=6.8 //pt3/pt1\n",
"C1=200\n",
"pt1=101\n",
"Tt3=Tt1*(1+(1/ett)*(p^((gm-1)/gm)-1))\n",
"Tt2s=Tt1*p^((gm-1)/gm)\n",
"T1=Tt1-C1^2/(2*Cp)\n",
"ets=(Tt2s-T1)/(Tt3-T1)\n",
"disp(ets,'Compressor total-to-static efficiency :')"
   ]
   }
],
"metadata": {
		  "kernelspec": {
		   "display_name": "Scilab",
		   "language": "scilab",
		   "name": "scilab"
		  },
		  "language_info": {
		   "file_extension": ".sce",
		   "help_links": [
			{
			 "text": "MetaKernel Magics",
			 "url": "https://github.com/calysto/metakernel/blob/master/metakernel/magics/README.md"
			}
		   ],
		   "mimetype": "text/x-octave",
		   "name": "scilab",
		   "version": "0.7.1"
		  }
		 },
		 "nbformat": 4,
		 "nbformat_minor": 0
}
