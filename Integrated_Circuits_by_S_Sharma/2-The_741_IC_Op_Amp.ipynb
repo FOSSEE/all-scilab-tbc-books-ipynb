{
"cells": [
 {
		   "cell_type": "markdown",
	   "metadata": {},
	   "source": [
       "# Chapter 2: The 741 IC Op Amp"
	   ]
	},
{
		   "cell_type": "markdown",
		   "metadata": {},
		   "source": [
			"## Example 2.17: Lowest_value_of_RL.sce"
		   ]
		  },
  {
"cell_type": "code",
	   "execution_count": null,
	   "metadata": {
	    "collapsed": true
	   },
	   "outputs": [],
"source": [
"// Exa 2.17\n",
"clc;\n",
"clear;\n",
"close;\n",
"// Given data\n",
"V = 10;// in V\n",
"R1 = 1;// in k ohm\n",
"R1=R1*10^3;// in ohm\n",
"R2 = 9;// in  k ohm\n",
"R2= R2*10^3;// in ohm\n",
"I_out = 20;// in mA\n",
"I_out=I_out*10^-3;// in A\n",
"R_L = V/( I_out-(V/(R1+R2)) );// in ohm\n",
"disp(R_L,'The lowest value of R_L in ohm is');"
   ]
   }
,
{
		   "cell_type": "markdown",
		   "metadata": {},
		   "source": [
			"## Example 2.18: Slew_rate_and_maximum_possible_frequency.sce"
		   ]
		  },
  {
"cell_type": "code",
	   "execution_count": null,
	   "metadata": {
	    "collapsed": true
	   },
	   "outputs": [],
"source": [
"// Exa 2.18\n",
"clc;\n",
"clear;\n",
"close;\n",
"// Given data\n",
"I_CQ = 10;// in µA\n",
"I_CQ= I_CQ*10^-6;// in A\n",
"I = I_CQ;// in A\n",
"C_C = 33;// in pF\n",
"C_C=C_C*10^-12;// in F\n",
"C = C_C;// in F\n",
"S = I/C;// in V/sec\n",
"disp(S*10^-6,'The slew rate in V/µ-sec is');\n",
"V_m = 12;// in V\n",
"f_m = S/(2*%pi*V_m);// in Hz\n",
"f_m = f_m * 10^-3;// in kHz\n",
"disp(f_m,'Maximum possible frequency in kHz is');"
   ]
   }
,
{
		   "cell_type": "markdown",
		   "metadata": {},
		   "source": [
			"## Example 2.2: Input_bias_current.sce"
		   ]
		  },
  {
"cell_type": "code",
	   "execution_count": null,
	   "metadata": {
	    "collapsed": true
	   },
	   "outputs": [],
"source": [
"// Exa 2.2\n",
"clc;\n",
"clear;\n",
"close;\n",
"// Given data\n",
"I_b1 = 18;// in µA\n",
"I_b2 = 22;// in µA\n",
"I_b = (I_b1+I_b2)/2;// in µA\n",
"disp(I_b,'Input bias current in µA is ');\n",
"I_ios = abs(I_b1-I_b2);// in µA\n",
"disp(I_ios,'Input offset current in µA is');"
   ]
   }
,
{
		   "cell_type": "markdown",
		   "metadata": {},
		   "source": [
			"## Example 2.4: Slew_rate_and_maximum_possible_frequency.sce"
		   ]
		  },
  {
"cell_type": "code",
	   "execution_count": null,
	   "metadata": {
	    "collapsed": true
	   },
	   "outputs": [],
"source": [
"// Exa 2.4\n",
"clc;\n",
"clear;\n",
"close;\n",
"// Given data\n",
"I_CQ = 10;// in µA\n",
"I_CQ= I_CQ*10^-6;// in A\n",
"I = I_CQ;// in A\n",
"C_C = 33;// in pF\n",
"C_C=C_C*10^-12;// in F\n",
"C = C_C;// in F\n",
"S = I/C;// in V/sec\n",
"disp(S*10^-6,'The slew rate in V/µ-sec is');\n",
"V_m = 12;// in V\n",
"f_m = S/(2*%pi*V_m);// in Hz\n",
"f_m = f_m * 10^-3;// in kHz\n",
"disp(f_m,'Maximum possible frequency in kHz is');"
   ]
   }
,
{
		   "cell_type": "markdown",
		   "metadata": {},
		   "source": [
			"## Example 2.5: Output_voltage.sce"
		   ]
		  },
  {
"cell_type": "code",
	   "execution_count": null,
	   "metadata": {
	    "collapsed": true
	   },
	   "outputs": [],
"source": [
"// Exa 2.5\n",
"clc;\n",
"clear;\n",
"close;\n",
"// Given data\n",
"CMRR = 100;\n",
"V1 = 300;// in µV\n",
"V2 = 240;// in µV\n",
"V_id = V1-V2;// in µV\n",
"V_cm = (V1+V2)/2;// in µV\n",
"A_id = 5000;\n",
"A_cm = A_id/CMRR;\n",
"V_out = (A_id*V_id) + (A_cm*V_cm);// in µV\n",
"V_out = V_out * 10^-3;// in mV\n",
"disp('Part (i)')\n",
"disp(V_out,'The output Voltage in mV is');\n",
"disp('Part (ii)')\n",
"CMRR = 10^5;\n",
"A_cm = A_id/CMRR;\n",
"V_out = (A_id*V_id) + (A_cm*V_cm);// in µV\n",
"V_out = V_out* 10^-3;// in mV\n",
"disp(V_out,'The output voltage in mV is');"
   ]
   }
,
{
		   "cell_type": "markdown",
		   "metadata": {},
		   "source": [
			"## Example 2.6_2: Input_offset_voltage.sce"
		   ]
		  },
  {
"cell_type": "code",
	   "execution_count": null,
	   "metadata": {
	    "collapsed": true
	   },
	   "outputs": [],
"source": [
"// Exa 2.6 Again\n",
"clc;\n",
"clear;\n",
"close;\n",
"// Given data\n",
"gm1= 1/5.26;// in mA/V\n",
"gm1= gm1*10^-3;// in A/v\n",
"I= 9.5;// in µA\n",
"I=I*10^-6;// in A\n",
"del_I= 5.5*10^-3*I;// in A\n",
"V_OS= del_I/gm1;// in V\n",
"disp(V_OS*10^3,'The offset voltage in mV is : ')"
   ]
   }
,
{
		   "cell_type": "markdown",
		   "metadata": {},
		   "source": [
			"## Example 2.6: CMRR.sce"
		   ]
		  },
  {
"cell_type": "code",
	   "execution_count": null,
	   "metadata": {
	    "collapsed": true
	   },
	   "outputs": [],
"source": [
"// Exa 2.6\n",
"clc;\n",
"clear;\n",
"close;\n",
"// Given data\n",
"R1 = 1;// in k ohm\n",
"R2 = 100;// in k ohm\n",
"A_id = R2/R1;// in k ohm\n",
"Epsilon = 1 - (90/R2);\n",
"A_cm = (R2*Epsilon)/(R1+R2)\n",
"CMMR = A_id/A_cm;\n",
"CMRR = 20*log10(CMMR);// in dB\n",
"disp(CMRR,'The value of CMRR in dB is');"
   ]
   }
],
"metadata": {
		  "kernelspec": {
		   "display_name": "Scilab",
		   "language": "scilab",
		   "name": "scilab"
		  },
		  "language_info": {
		   "file_extension": ".sce",
		   "help_links": [
			{
			 "text": "MetaKernel Magics",
			 "url": "https://github.com/calysto/metakernel/blob/master/metakernel/magics/README.md"
			}
		   ],
		   "mimetype": "text/x-octave",
		   "name": "scilab",
		   "version": "0.7.1"
		  }
		 },
		 "nbformat": 4,
		 "nbformat_minor": 0
}
