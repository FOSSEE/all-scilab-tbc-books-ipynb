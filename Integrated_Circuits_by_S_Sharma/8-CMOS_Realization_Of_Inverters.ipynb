{
"cells": [
 {
		   "cell_type": "markdown",
	   "metadata": {},
	   "source": [
       "# Chapter 8: CMOS Realization Of Inverters"
	   ]
	},
{
		   "cell_type": "markdown",
		   "metadata": {},
		   "source": [
			"## Example 8.2: Value_of_RL_ans_WbyL.sce"
		   ]
		  },
  {
"cell_type": "code",
	   "execution_count": null,
	   "metadata": {
	    "collapsed": true
	   },
	   "outputs": [],
"source": [
"// Exa 8.2\n",
"clc;\n",
"clear;\n",
"close;\n",
"// Given data\n",
"NMH= 1;// in V\n",
"VIH= 2;// in V\n",
"VTon= 0.5;// in V\n",
"VOL= 0.2;// in V\n",
"VDD= 3;// in V\n",
"KP= 30*10^-6;// in A/V^2\n",
"PD= 100*10^-6;// power dissipation in W\n",
"// Formula VIH= VTon +2*sqrt(2*VDD/(3*kn*RL))-1/(kn*RL) (i)\n",
"// Let x= 1/(kn*RL), putting the values in (i), we get\n",
"// x^2-5*x+2.25=0\n",
"x= [1 -5 2.25];\n",
"x= roots(x);\n",
"x=x(2);\n",
"// Formula PD= VDD*(VDD-VOL)/(2*RL)\n",
"RL= VDD*(VDD-VOL)/(2*PD);// in Ω\n",
"disp(RL,'The value of RL in Ω is : ')\n",
"kn= 1/(x*RL);// in A/V^2\n",
"// Formula kn= KP*(W/L)\n",
"WbyL= kn/KP;\n",
"disp(WbyL,'The value of (W/L)n is : ')"
   ]
   }
,
{
		   "cell_type": "markdown",
		   "metadata": {},
		   "source": [
			"## Example 8.4: CMOS_Inverter.sce"
		   ]
		  },
  {
"cell_type": "code",
	   "execution_count": null,
	   "metadata": {
	    "collapsed": true
	   },
	   "outputs": [],
"source": [
"// Exa 8.4\n",
"clc;\n",
"clear;\n",
"close;\n",
"// Given data\n",
"unCox= 40;// in µA/V^2\n",
"upCox= 20;// in µA/V^2\n",
"Ln= 0.5;// in µm\n",
"Lp= 0.5;// in µm\n",
"Wn= 2.0;// in µm\n",
"Wp= unCox*Wn/upCox;// in µm\n",
"disp(Wp,'The value of Wp in µm is : ')\n",
"\n",
""
   ]
   }
,
{
		   "cell_type": "markdown",
		   "metadata": {},
		   "source": [
			"## Example 8.5: Value_of_VOH_VOL_and_Vth.sce"
		   ]
		  },
  {
"cell_type": "code",
	   "execution_count": null,
	   "metadata": {
	    "collapsed": true
	   },
	   "outputs": [],
"source": [
"// Exa 8.5\n",
"clc;\n",
"clear;\n",
"close;\n",
"// Given data\n",
"VTO= 0.43;// in V\n",
"VDD= 2.5;// in V\n",
"g=0.4; // value of gamma\n",
"W1= 0.375;\n",
"L1=0.25;\n",
"W2= 0.75;\n",
"L2=0.25;\n",
"//VDD-VOUT-VT= VDD-VOUT-(VTO+g*(sqrt(0.6+VOUT)-sqrt(0.6)))=0\n",
"//VOUT^2+VOUT*(2*A-g^2)+(A-0.6*g^2)=0, where\n",
"A=VTO-VDD-g*sqrt(0.6);// assumed\n",
"B= (2*A-g^2);// assumed\n",
"C=(A^2-0.6*g^2);//assumed\n",
"VOUT= [1 B C];\n",
"VOUT= roots(VOUT);// in V\n",
"VOUT= VOUT(2);// in V\n",
"VOH= VOUT;// in V\n",
"disp(VOH,'The value of VOH in volts is : ')\n",
"Vout=(W1+3*L2)-(VDD-VTO)*(W2*L1/(W1*L2)-1)+ (VDD)/(VDD-VTO)\n",
"VOL= Vout;// in V\n",
"disp(VOL,'The value of VOL in volts is : ')\n",
"Vth= (VDD+VTO-L1)/(VDD*VTO)*(1-W1*L2/(W2*L1))+(L1*L2/VDD)\n",
"disp(Vth,'The value of Vth for circuit A in volts is : ')\n",
"W4= 0.365;\n",
"L4=0.25;\n",
"W3= 0.75;\n",
"L3=0.15;\n",
"Vth=(L3*L4/VDD)+(VDD/(W3*L4*VDD))-(VDD)/(1-W4*L3/(W3*L4))-2*W4\n",
"disp(Vth,'The value of Vth for circuit B in volts is : ')"
   ]
   }
,
{
		   "cell_type": "markdown",
		   "metadata": {},
		   "source": [
			"## Example 8.6: Value_of_Vx.sce"
		   ]
		  },
  {
"cell_type": "code",
	   "execution_count": null,
	   "metadata": {
	    "collapsed": true
	   },
	   "outputs": [],
"source": [
"// Exa 8.6\n",
"clc;\n",
"clear;\n",
"close;\n",
"// Given data\n",
"VTO= 0.43;// in V\n",
"VDD= 2.5;// in V\n",
"g=0.5; // value of gamma\n",
"//VDD-Vx-VT= VDD-Vx-(VTO+g*(sqrt(0.6+Vx)-sqrt(0.6)))=0\n",
"//Vx^2+Vx*(2*A-g^2)+(A-0.6*g^2)=0, where\n",
"A=VTO-VDD-g*sqrt(0.6);// assumed\n",
"B= (2*A-g^2);// assumed\n",
"C=(A^2-0.6*g^2);//assumed\n",
"Vx= [1 B C];\n",
"Vx= roots(Vx);// in V\n",
"Vx= Vx(2);// in V\n",
"disp(Vx,'The value of Vx in volts is : ')"
   ]
   }
],
"metadata": {
		  "kernelspec": {
		   "display_name": "Scilab",
		   "language": "scilab",
		   "name": "scilab"
		  },
		  "language_info": {
		   "file_extension": ".sce",
		   "help_links": [
			{
			 "text": "MetaKernel Magics",
			 "url": "https://github.com/calysto/metakernel/blob/master/metakernel/magics/README.md"
			}
		   ],
		   "mimetype": "text/x-octave",
		   "name": "scilab",
		   "version": "0.7.1"
		  }
		 },
		 "nbformat": 4,
		 "nbformat_minor": 0
}
