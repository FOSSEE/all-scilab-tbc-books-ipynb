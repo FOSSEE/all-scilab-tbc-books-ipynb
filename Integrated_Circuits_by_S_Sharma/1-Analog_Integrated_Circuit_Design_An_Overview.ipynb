{
"cells": [
 {
		   "cell_type": "markdown",
	   "metadata": {},
	   "source": [
       "# Chapter 1: Analog Integrated Circuit Design An Overview"
	   ]
	},
{
		   "cell_type": "markdown",
		   "metadata": {},
		   "source": [
			"## Example 1.1: Constant_current.sce"
		   ]
		  },
  {
"cell_type": "code",
	   "execution_count": null,
	   "metadata": {
	    "collapsed": true
	   },
	   "outputs": [],
"source": [
"// Exa 1.1\n",
"clc;\n",
"clear;\n",
"close;\n",
"// Given data\n",
"V_EE = 10;// in V\n",
"R2 = 2.4;// in k ohm\n",
"R1 = 2.4;// in k ohm\n",
"R3 = 1;// in k ohm\n",
"V_BE3 = 0.7;// in V\n",
"I = (V_EE - ((R2*V_EE)/(R1+R2)) - V_BE3)/R3;// in mA\n",
"disp(I,'The constant current in mA is');"
   ]
   }
,
{
		   "cell_type": "markdown",
		   "metadata": {},
		   "source": [
			"## Example 1.2: Value_of_RE.sce"
		   ]
		  },
  {
"cell_type": "code",
	   "execution_count": null,
	   "metadata": {
	    "collapsed": true
	   },
	   "outputs": [],
"source": [
"// Exa 1.2\n",
"clc;\n",
"clear;\n",
"close;\n",
"// Given data\n",
"V_CC = 50;// in V\n",
"V_BE2 = 0.7;// in V\n",
"R = 50;// in k ohm\n",
"R = 50 * 10^3;// in ohm\n",
"I_C1 = 10;// in µA\n",
"I_C1 =I_C1 * 10^-6;// in A\n",
"V_T = 26;// in mV\n",
"V_T = V_T * 10^-3;// in V\n",
"I_C2 = (V_CC - V_BE2)/R;// in A\n",
"R_E = (V_T*log(I_C2/I_C1))/I_C1;// in ohm\n",
"R_E = R_E * 10^-3;// in k ohm\n",
"disp(R_E,'The value of R_E in kΩ is');"
   ]
   }
,
{
		   "cell_type": "markdown",
		   "metadata": {},
		   "source": [
			"## Example 1.3: Collector_current.sce"
		   ]
		  },
  {
"cell_type": "code",
	   "execution_count": null,
	   "metadata": {
	    "collapsed": true
	   },
	   "outputs": [],
"source": [
"// Exa 1.3\n",
"clc;\n",
"clear;\n",
"close;\n",
"// Given data\n",
"V = 10;// in V\n",
"V_BE = 0.715;// in V\n",
"V_R = 0-(V_BE - V);// in V\n",
"R = 5.6;// in  k ohm\n",
"I_R = V_R/R;// in  mA\n",
"bita = 100;\n",
"I_C = I_R * (bita/(1+bita));// in mA\n",
"disp(I_C,'For transistor Q1, the collector current in mA is');\n",
"I_C2 = I_R;// in mA\n",
"disp(I_C2,'For transistor Q2, the collector current in mA is');\n",
"I_C3 = I_R;// in mA\n",
"disp(I_C3,'For transistor Q3, the collector current in mA is');\n",
"I_C4 = I_R;// in mA\n",
"disp(I_C4,'For transistor Q4, the collector current in mA is');"
   ]
   }
,
{
		   "cell_type": "markdown",
		   "metadata": {},
		   "source": [
			"## Example 1.4: Collector_current.sce"
		   ]
		  },
  {
"cell_type": "code",
	   "execution_count": null,
	   "metadata": {
	    "collapsed": true
	   },
	   "outputs": [],
"source": [
"// Exa 1.4\n",
"clc;\n",
"clear;\n",
"close;\n",
"// Given data\n",
"V = 10;// in V\n",
"V_BE = 0.715;// in V\n",
"R = 5.6;// in k ohm\n",
"I = (V-V_BE)/(R);// in mA\n",
"bita = 100;\n",
"I_C1 = (bita/(4+bita))*I;// in mA\n",
"disp(I_C1,'For transistor Q1, the collector current in mA is');\n",
"I_C2 = I_C1;// in mA\n",
"disp(I_C2,'For transistor Q2, the collector current in mA is');\n",
"I_C3 = I_C1;// in mA\n",
"disp(I_C3,'For transistor Q3, the collector current in mA is');\n",
"I_C4 = I_C1;// in mA\n",
"disp(I_C4,'For transistor Q4, the collector current in mA is');"
   ]
   }
,
{
		   "cell_type": "markdown",
		   "metadata": {},
		   "source": [
			"## Example 1.5: Output_resistance.sce"
		   ]
		  },
  {
"cell_type": "code",
	   "execution_count": null,
	   "metadata": {
	    "collapsed": true
	   },
	   "outputs": [],
"source": [
"// Exa 1.5\n",
"clc;\n",
"clear;\n",
"close;\n",
"// Given data\n",
"I_D1 = 100;// in µA\n",
"k_n = 200;// in µA/V^2\n",
"W = 10;// in µm\n",
"l = 1;// in µm\n",
"V_A = 20;// in V\n",
"V_ov = sqrt((I_D1*2)/(k_n*(W/l)));// in V\n",
"V_t = 0.7;// in V\n",
"V_GS = V_t + V_ov;// in V\n",
"V_GS = round(V_GS);// in V\n",
"V_DD = 3;// in V\n",
"I_REF = 100;// in µA\n",
"I_REF = I_REF * 10^-3;// in mA\n",
"R = (V_DD - V_GS)/I_REF;// in k ohm\n",
"disp(R,'The value of R in kΩ is');\n",
"V_ov_min = V_ov ;// in volt\n",
"disp(V_ov_min,'The lowest possible value of V_o in V is');\n",
"r_o2 = V_A/I_D1;// in M ohm\n",
"disp(r_o2,'The output resistance in MΩ is');\n",
"V_O = V_GS;// in V\n",
"del_Io = V_O/r_o2;// in µA\n",
"disp(del_Io,'The change in output current in µA is');"
   ]
   }
],
"metadata": {
		  "kernelspec": {
		   "display_name": "Scilab",
		   "language": "scilab",
		   "name": "scilab"
		  },
		  "language_info": {
		   "file_extension": ".sce",
		   "help_links": [
			{
			 "text": "MetaKernel Magics",
			 "url": "https://github.com/calysto/metakernel/blob/master/metakernel/magics/README.md"
			}
		   ],
		   "mimetype": "text/x-octave",
		   "name": "scilab",
		   "version": "0.7.1"
		  }
		 },
		 "nbformat": 4,
		 "nbformat_minor": 0
}
