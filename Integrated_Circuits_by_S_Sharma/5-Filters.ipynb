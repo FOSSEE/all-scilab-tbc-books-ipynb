{
"cells": [
 {
		   "cell_type": "markdown",
	   "metadata": {},
	   "source": [
       "# Chapter 5: Filters"
	   ]
	},
{
		   "cell_type": "markdown",
		   "metadata": {},
		   "source": [
			"## Example 5.12: Second_order_low_pass_filter.sce"
		   ]
		  },
  {
"cell_type": "code",
	   "execution_count": null,
	   "metadata": {
	    "collapsed": true
	   },
	   "outputs": [],
"source": [
"// Exa 5.12\n",
"clc;\n",
"clear;\n",
"close;\n",
"// Given data\n",
"f_c = 10;// in kHz\n",
"f_c = f_c * 10^3;// in Hz\n",
"omega_c= 2*%pi*f_c;// in rad/sec\n",
"C = 0.01;// in µF\n",
"C= C*10^-6;// in F\n",
"Ri= 10*10^3;// in Ω\n",
"n=2;\n",
"Q= 1/1.414;\n",
"R= 1/(2*%pi*f_c*C);// in Ω\n",
"Af= 3-1/Q;\n",
"Rf= (Af-1)*Ri;// in Ω\n",
"disp(C*10^6,'The value of C in µF is : ')\n",
"disp(R*10^-3,'The value of R in kΩ is : ')\n",
"disp(Rf*10^-3,'The value of Rf in kΩ is : ')\n",
"disp('Frequency versus gain magnitude shown in following table:')\n",
"disp('      Frequency in Hz                        Gain Magnitude in dB |H(s)|')\n",
"f= 1000;// in Hz\n",
"omega= 2*%pi*f;// in rad/sec\n",
"HsdB= 20*log10(Af/sqrt(1+(omega/omega_c)^4))\n",
"disp('            '+string(f)+'                                               '+string(HsdB))\n",
"f= 2000;// in Hz\n",
"omega= 2*%pi*f;// in rad/sec\n",
"HsdB= 20*log10(Af/sqrt(1+(omega/omega_c)^4))\n",
"disp('            '+string(f)+'                                               '+string(HsdB))\n",
"f= 5000;// in Hz\n",
"omega= 2*%pi*f;// in rad/sec\n",
"HsdB= 20*log10(Af/sqrt(1+(omega/omega_c)^4))\n",
"disp('            '+string(f)+'                                               '+string(HsdB))\n",
"f= 10000;// in Hz\n",
"omega= 2*%pi*f;// in rad/sec\n",
"HsdB= 20*log10(Af/sqrt(1+(omega/omega_c)^4))\n",
"disp('           '+string(f)+'                                              '+string(HsdB))\n",
"f= 50000;// in Hz\n",
"omega= 2*%pi*f;// in rad/sec\n",
"HsdB= 20*log10(Af/sqrt(1+(omega/omega_c)^4))\n",
"disp('           '+string(f)+'                                             '+string(HsdB))\n",
"f= 100000;// in Hz\n",
"omega= 2*%pi*f;// in rad/sec\n",
"HsdB= 20*log10(Af/sqrt(1+(omega/omega_c)^4))\n",
"disp('          '+string(f)+'                                           '+string(HsdB))"
   ]
   }
,
{
		   "cell_type": "markdown",
		   "metadata": {},
		   "source": [
			"## Example 5.13: Fourth_order_Butterworth_filter.sce"
		   ]
		  },
  {
"cell_type": "code",
	   "execution_count": null,
	   "metadata": {
	    "collapsed": true
	   },
	   "outputs": [],
"source": [
"// Exa 5.13\n",
"clc;\n",
"clear;\n",
"close;\n",
"// Given data\n",
"f_c = 1;// in kHz\n",
"f_c = f_c * 10^3;// in Hz\n",
"C = 0.1;// in µF\n",
"disp(C,'The value of C in µF is');\n",
"C = C * 10^-6;// in F\n",
"R = 1/(2*%pi*f_c*C);// in ohm\n",
"disp(R*10^-3,'The value of R in kΩ is');\n",
"Q1 = 1/0.765;\n",
"alpha1 = 1/Q1;\n",
"Q2 = 1/1.848;\n",
"alpha2 = 1/Q2;\n",
"A_F1 = 3-alpha1;\n",
"A_F2 = 3-alpha2;\n",
"R_i =10*10^3;// in ohm\n",
"R_F = (A_F1-1)*R_i;// in ohm\n",
"disp(R_F*10^-3,'For first stage the value of R_F in kΩ is');\n",
"R_i = 100*10^3;// ohm\n",
"R_F = (A_F2-1)*R_i;// in ohm\n",
"disp(R_F*10^-3,'For second stage the value of R_F in kΩ is');"
   ]
   }
,
{
		   "cell_type": "markdown",
		   "metadata": {},
		   "source": [
			"## Example 5.14: Value_of_Resistance.sce"
		   ]
		  },
  {
"cell_type": "code",
	   "execution_count": null,
	   "metadata": {
	    "collapsed": true
	   },
	   "outputs": [],
"source": [
"// Exa 5.14\n",
"clc;\n",
"clear;\n",
"close;\n",
"// Given data\n",
"f_c = 10;// in kHz\n",
"f_c = f_c *10^3;// in Hz\n",
"C = 0.0047;// in µF\n",
"C = C * 10^-6;// in F\n",
"R = 1/(2*%pi*f_c*C);// in ohm\n",
"R = R * 10^-3;// in k ohm\n",
"disp(R,'The value of R in kΩ is');"
   ]
   }
,
{
		   "cell_type": "markdown",
		   "metadata": {},
		   "source": [
			"## Example 5.15: Passband_gain.sce"
		   ]
		  },
  {
"cell_type": "code",
	   "execution_count": null,
	   "metadata": {
	    "collapsed": true
	   },
	   "outputs": [],
"source": [
"// Exa 5.15\n",
"clc;\n",
"clear;\n",
"close;\n",
"// Given data\n",
"R = 15;// in k ohm\n",
"R = R *10^3;// in ohm\n",
"C = 0.01;// in µF\n",
"C = C * 10^-6;// in F\n",
"f_c = 1/(2*%pi*R*C);// in Hz\n",
"f_c= round(f_c);\n",
"disp(f_c,'Cut off frequency in Hz is');\n",
"Omega_c = 2*%pi*f_c;// in rad/sec\n",
"disp(Omega_c*10^-3,'The value of omega_c in k rad/sec is');\n",
"\n",
"// Note: There is calculation error to find the value of omega_c. So the answer in the book is wrong"
   ]
   }
,
{
		   "cell_type": "markdown",
		   "metadata": {},
		   "source": [
			"## Example 5.16: Cut_off_frequency_and_passband_voltage_gain.sce"
		   ]
		  },
  {
"cell_type": "code",
	   "execution_count": null,
	   "metadata": {
	    "collapsed": true
	   },
	   "outputs": [],
"source": [
"// Exa 5.16 printed as 5.13\n",
"clc;\n",
"clear;\n",
"close;\n",
"// Given data\n",
"R1 = 27;// in k ohm\n",
"R1 = R1 * 10^3;// in ohm\n",
"R2 = R1;// in ohm\n",
"R3 = R2 ;// in ohm\n",
"R = R1;// in ohm\n",
"R_L = 10;// in k ohm\n",
"R_F = 16;// in k ohm\n",
"C2 = 0.005;// in µF\n",
"C2 = C2 * 10^-6;// in F\n",
"C3 = C2;// in F\n",
"C = C3;// in F\n",
"f_c = 1/(2*%pi*R*C);// in Hz\n",
"f_c = f_c * 10^-3;// in kHz\n",
"R1= R1*10^-3;// in kohm\n",
"disp(f_c,'Cut off frequency in kHz is');\n",
"A_F = 1+(R_F/R1);\n",
"disp(A_F,'Voltage gain is');"
   ]
   }
,
{
		   "cell_type": "markdown",
		   "metadata": {},
		   "source": [
			"## Example 5.17: Second_order_Bessel_Filter.sce"
		   ]
		  },
  {
"cell_type": "code",
	   "execution_count": null,
	   "metadata": {
	    "collapsed": true
	   },
	   "outputs": [],
"source": [
"// Exa 5.17\n",
"clc;\n",
"clear;\n",
"close;\n",
"// Given data\n",
"alpha = 1.732;\n",
"k_f = 1.274;\n",
"C1 = 1;// in F\n",
"C2 = C1;// in F\n",
"R1 = alpha/2;// in ohm\n",
"R2 = 2/alpha;// in ohm\n",
"R_F = R2;// in ohm\n",
"f_3dB = 2;// in kHz\n",
"f_3dB = f_3dB * 10^3;// in Hz\n",
"f_c = f_3dB/k_f;// in Hz\n",
"Omega_c = 2*%pi*f_c;// in rad/sec\n",
"R1 = R1/Omega_c;// in ohm\n",
"R1 = R1 * 10^8;// in ohm\n",
"R2 = R2/Omega_c;// in ohm\n",
"R2 = R2 * 10^8;// in ohm\n",
"R_F = R2;// in ohm\n",
"C1 = C1/10^8;// in F\n",
"disp(R1*10^-3,'The value of R1 in kΩ is : ')\n",
"disp(R2*10^-3,'The value of R2 and R_F in kΩ is : ')\n",
"disp(C1*10^9,'The value of C1 and C2 in nF is : ')"
   ]
   }
,
{
		   "cell_type": "markdown",
		   "metadata": {},
		   "source": [
			"## Example 5.18: Wide_band_pass_filter.sce"
		   ]
		  },
  {
"cell_type": "code",
	   "execution_count": null,
	   "metadata": {
	    "collapsed": true
	   },
	   "outputs": [],
"source": [
"// Exa 5.18 printed as 5.15\n",
"clc;\n",
"clear;\n",
"close;\n",
"// Given data\n",
"Cdesh = 0.01;// in µF\n",
"Cdesh= Cdesh* 10^-6;// in F\n",
"f_H = 1;// in kHz\n",
"f_H = f_H * 10^3;// in Hz\n",
"Rdesh= 1/(2*%pi*f_H*Cdesh);// in ohm\n",
"A_F2 = 2;\n",
"R1desh = 10*10^3;// in ohm\n",
"Rdesh_F= R1desh;// in ohm\n",
"disp('(i) Low-pass Filter Components : ')\n",
"disp(R1desh*10^-3,'The value of R1desh in kΩ is');\n",
"disp(Rdesh*10^-3,'The value of Rdesh in kΩ is : ');\n",
"disp(Rdesh_F*10^-3,'The value of Rdesh_F in kΩ is :  ');\n",
"disp(Cdesh*10^6,'The value of C in µF is ');\n",
"C = 0.05;// in µF\n",
"C = C * 10^-6;// in F\n",
"f_L = 100;// in Hz\n",
"R = 1/(2*%pi*f_L*C);// in ohm\n",
"A_F1 = 2;\n",
"R1 = 10*10^3;// in ohm\n",
"R_F = R1;// in ohm\n",
"disp('(ii) High pass Filter Components')\n",
"disp(R1*10^-3,'The value of R1 in kΩ is');\n",
"disp(R*10^-3,'The value of R in kΩ is');\n",
"disp(R_F*10^-3,'The value of R_F in kΩ is');\n",
"disp(C*10^6,'The value of C in µF is ');\n",
"Q = sqrt(f_H*f_L)/(f_H-f_L);\n",
"disp(Q,'The quality factor is');\n",
"\n",
"// Note : In High pass filter components, the value of R is calculated 31.83 kΩ but at last it is writter as 3.183 kΩ so the answer of R in High pass filter components is wrong."
   ]
   }
,
{
		   "cell_type": "markdown",
		   "metadata": {},
		   "source": [
			"## Example 5.19: Narror_band_pass_filter.sce"
		   ]
		  },
  {
"cell_type": "code",
	   "execution_count": null,
	   "metadata": {
	    "collapsed": true
	   },
	   "outputs": [],
"source": [
"// Exa 5.19\n",
"clc;\n",
"clear;\n",
"close;\n",
"// Given data\n",
"f_c = 2;// in kHz\n",
"f_c = f_c * 10^3;// in Hz\n",
"A_F = 10;\n",
"Q = 4;\n",
"C = 0.01;// in µF\n",
"C = C * 10^-6;// in F\n",
"R1 = Q/(2*%pi*f_c*C*A_F);// in ohm \n",
"R1 = R1 * 10^-3;// in k ohm\n",
"disp('The value of R1 is '+string(R1)+' kΩ (standard value 3.3 kΩ)');\n",
"R2 = Q/(2*%pi*f_c*C*(2*Q^2-A_F));// in ohm\n",
"R2 = R2 * 10^-3;// in k ohm\n",
"disp('The value of R2 is '+string(R2)+' kΩ (standard value 1.5 kΩ)');\n",
"R3 = Q/(%pi*f_c*C);// in ohm\n",
"R3 = R3 * 10^-3;// in k ohm\n",
"disp('The value of R3 is '+string(R3)+' kΩ (standard value 63 kΩ)');\n",
"f_c1 = 1;// in kHz\n",
"Rdesh2 = R2*(((f_c*10^-3)/f_c1)^2);// in k ohm\n",
"disp('The value of Rdesh_2 is '+string(Rdesh2)+' kΩ (standard value 5.8 kΩ)');"
   ]
   }
,
{
		   "cell_type": "markdown",
		   "metadata": {},
		   "source": [
			"## Example 5.1: Cut_off_frequency_and_passband_voltage_gain.sce"
		   ]
		  },
  {
"cell_type": "code",
	   "execution_count": null,
	   "metadata": {
	    "collapsed": true
	   },
	   "outputs": [],
"source": [
"// Exa 5.1\n",
"clc;\n",
"clear;\n",
"close;\n",
"// Given data\n",
"R = 10;// in k ohm\n",
"R = R * 10^3;// in ohm\n",
"C = 0.001;// in µF\n",
"C = C * 10^-6;// in F\n",
"f_c = 1/(2*%pi*R*C);// Hz\n",
"f_c = f_c * 10^-3;// in kHz\n",
"disp(f_c,'Cutoff frequency in kHz is');\n",
"R_F = 100;// in k ohm\n",
"R1 = 10;// in k ohm\n",
"A_F = 1+(R_F/R1);\n",
"disp(A_F,'The passband voltage gain is');"
   ]
   }
,
{
		   "cell_type": "markdown",
		   "metadata": {},
		   "source": [
			"## Example 5.20: Wide_band_reject_Filter.sce"
		   ]
		  },
  {
"cell_type": "code",
	   "execution_count": null,
	   "metadata": {
	    "collapsed": true
	   },
	   "outputs": [],
"source": [
"// Exa 5.20 Printed as 5.17\n",
"clc;\n",
"clear;\n",
"close;\n",
"// Given data\n",
"f_H = 100;// in Hz\n",
"f_L = 2;// in kHz\n",
"f_L = f_L * 10^3;// in Hz\n",
"C = 0.01;// in µF\n",
"C = C * 10^-6;// in F\n",
"R = 1/(2*%pi*f_L*C);// in ohm\n",
"R = R * 10^-3;// in k ohm\n",
"A_F = 2;\n",
"R1 = 10;// in k ohm\n",
"// A_F= 1+R_F/R1 or\n",
"R_F= (A_F-1)*R1;// in k ohm\n",
"disp('(i) High-pass Section Components : ')\n",
"disp(C*10^6,'The value of C in µF is : ')\n",
"disp(R,'The value of R in kΩ is');\n",
"disp(R_F,'The value of R_F and R1 in kΩ is');\n",
"Cdesh = 0.1;// in µF\n",
"Cdesh= Cdesh* 10^-6;// in F\n",
"Rdesh = 1/(2*%pi*f_H*Cdesh);// in ohm\n",
"Rdesh= Rdesh * 10^-3;// in k ohm\n",
"Rdesh1 = 10;// in k ohm\n",
"Rdesh_F= Rdesh1;// in k ohm\n",
"disp('(ii) Low-pass Section components : ')\n",
"disp(Cdesh*10^6,'The value of Cdesh in µF is : ')\n",
"disp(Rdesh,'The value of Rdesh in kΩ is');\n",
"disp(Rdesh_F,'The value of Rdesh_F and Rdesh1 in kΩ is');\n",
"R2 = 10;// in k ohm\n",
"R3 = R2;// in k ohm\n",
"R4 = R2;// in k ohm\n",
"R_OM = (R2*R3*R4)/(R2*R3+R3*R4+R4*R2);// in k ohm\n",
"disp('(iii) Summing Amplifier component')\n",
"disp(R_OM,'The value of R_OM in kΩ is');"
   ]
   }
,
{
		   "cell_type": "markdown",
		   "metadata": {},
		   "source": [
			"## Example 5.21: Active_notch_filter.sce"
		   ]
		  },
  {
"cell_type": "code",
	   "execution_count": null,
	   "metadata": {
	    "collapsed": true
	   },
	   "outputs": [],
"source": [
"// Exa 5.21\n",
"clc;\n",
"clear;\n",
"close;\n",
"// Given data\n",
"f_N = 50;// in Hz\n",
"C = 0.47;// in µF\n",
"C = C * 10^-6;// in F\n",
"R = 1/(2*%pi*f_N*C);// in ohm\n",
"R = R * 10^-3;// in k ohm\n",
"disp(R,'Resistance in k ohm is');"
   ]
   }
,
{
		   "cell_type": "markdown",
		   "metadata": {},
		   "source": [
			"## Example 5.22: Phase_shift_between_input_and_output_voltages.sce"
		   ]
		  },
  {
"cell_type": "code",
	   "execution_count": null,
	   "metadata": {
	    "collapsed": true
	   },
	   "outputs": [],
"source": [
"// EXa 5.22\n",
"clc;\n",
"clear;\n",
"close;\n",
"// Given data\n",
"R = 10;// in k ohm\n",
"R = R * 10^3;// in ohm\n",
"C = 0.01;// in µF\n",
"C = C * 10^-6;// in F\n",
"f = 2;// in kHz\n",
"f = f * 10^3;// in Hz\n",
"Phi = -2*atand(2*%pi*R*C*f);// in degree\n",
"disp(Phi,'The phase shift in degree is');"
   ]
   }
,
{
		   "cell_type": "markdown",
		   "metadata": {},
		   "source": [
			"## Example 5.23: Center_frequency_and_quality_factor.sce"
		   ]
		  },
  {
"cell_type": "code",
	   "execution_count": null,
	   "metadata": {
	    "collapsed": true
	   },
	   "outputs": [],
"source": [
"// Exa 5.23\n",
"clc;\n",
"clear;\n",
"close;\n",
"// Given data\n",
"f_L = 200;// in Hz\n",
"f_H = 1;// in kHz\n",
"f_H = f_H * 10^3;// in Hz\n",
"f_c = sqrt(f_H*f_L);// in Hz\n",
"disp(f_c,'The center frequency in Hz is');\n",
"Q = f_c/(f_H-f_L);\n",
"disp(Q,'Quality factor is');"
   ]
   }
,
{
		   "cell_type": "markdown",
		   "metadata": {},
		   "source": [
			"## Example 5.24: Wide_bandpass_Filter.sce"
		   ]
		  },
  {
"cell_type": "code",
	   "execution_count": null,
	   "metadata": {
	    "collapsed": true
	   },
	   "outputs": [],
"source": [
"// Exa 5.24\n",
"clc;\n",
"clear;\n",
"close;\n",
"// Given data\n",
"f1 = 5;// in kHz\n",
"f1 = f1 * 10^3;// in Hz\n",
"f2 = 15;// in kHz\n",
"f2 = f2 * 10^3;// in Hz\n",
"Cdesh = 0.01;// in µF\n",
"Cdesh= Cdesh * 10^-6;// in F\n",
"Rdesh = 1/(2*%pi*f2*Cdesh);// in ohm\n",
"A_F1 = 1.414;\n",
"A_F2 = A_F1;\n",
"Rdesh1 = 10;// in k ohm\n",
"Rdesh_F = (A_F1-1)*Rdesh1;// in k ohm\n",
"disp('(i) Low pass Filter components : ')\n",
"disp(Rdesh1,'The value of Rdesh1 in kΩ is : ')\n",
"disp(Rdesh*10^-3,'The value of Rdesh in kΩ is : ')\n",
"disp(Rdesh_F,'The value of Rdesh_F in kΩ is : ')\n",
"disp(Cdesh*10^6,'The value of Cdesh in µF is');\n",
"C = 0.05;// in µF\n",
"C = C * 10^-6;// in F\n",
"R = 1/(2*%pi*f1*C);//in ohm\n",
"R1 = 10;// in k ohm\n",
"R_F = (A_F1-1)*R1;// in k ohm\n",
"disp('(ii) High pass Filter components : ')\n",
"disp(R1,'The value of R1 in kΩ is : ');\n",
"disp(R,'The value of R in Ω is : ');\n",
"disp(R_F,'The value of R_F in kΩ is : ');\n",
"disp(C*10^6,'The value of C in µF  is : ');"
   ]
   }
,
{
		   "cell_type": "markdown",
		   "metadata": {},
		   "source": [
			"## Example 5.2: First_order_low_pass_filter.sce"
		   ]
		  },
  {
"cell_type": "code",
	   "execution_count": null,
	   "metadata": {
	    "collapsed": true
	   },
	   "outputs": [],
"source": [
"// Exa 5.2\n",
"clc;\n",
"clear;\n",
"close;\n",
"// Given data\n",
"R1 = 10;// in k ohm\n",
"R_F = R1;// in k ohm\n",
"disp(R_F,'The value of R_F in kΩ is');\n",
"C = 0.001;// in µF\n",
"C = C  *10^-6;// in F\n",
"f_c = 10;// in kHz\n",
"f_c = f_c * 10^3;// in Hz\n",
"R = 1/(2*%pi*f_c*C);// in ohm\n",
"R  = R * 10^-3;// in k ohm\n",
"disp(R,'The value of R in kΩ is');"
   ]
   }
,
{
		   "cell_type": "markdown",
		   "metadata": {},
		   "source": [
			"## Example 5.3: Low_pass_filter.sce"
		   ]
		  },
  {
"cell_type": "code",
	   "execution_count": null,
	   "metadata": {
	    "collapsed": true
	   },
	   "outputs": [],
"source": [
"// Exa 5.3\n",
"clc;\n",
"clear;\n",
"close;\n",
"// Given data\n",
"f_c = 2;// in kHz\n",
"f_c = f_c * 10^3;// in Hz\n",
"C = 0.01;// in µF\n",
"C = C * 10^-6;// in F\n",
"R = 1/(2*%pi*f_c*C);// in ohm\n",
"R = R * 10^-3;// in k ohm\n",
"R = 8.2;// in k ohm(Practical value)\n",
"A_F = 2.5;\n",
"R1 = (A_F*R)/1.5;// in k ohm\n",
"R_F = 1.5*R1;// in k ohm\n",
"disp(R1,'The value of R1 in kΩ is : ')\n",
"disp(R_F,'The value of R_F in kΩ is : ')"
   ]
   }
,
{
		   "cell_type": "markdown",
		   "metadata": {},
		   "source": [
			"## Example 5.4: Second_order_low_pass_filter.sce"
		   ]
		  },
  {
"cell_type": "code",
	   "execution_count": null,
	   "metadata": {
	    "collapsed": true
	   },
	   "outputs": [],
"source": [
"// Exa 5.4\n",
"clc;\n",
"clear;\n",
"close;\n",
"// Given data\n",
"f_c = 1;// in kHz\n",
"f_c = f_c * 10^3;// in Hz\n",
"C = 0.005*10^-6;// in F\n",
"R3 = 1/(2*%pi*f_c*C);// in ohm\n",
"R3 = R3 * 10^-3;// in k ohm\n",
"R2 = R3;// in k ohm\n",
"R1 = 33;// in k ohm (standard value)\n",
"R_F = 0.586*R1;// in k ohm\n",
"disp(R1,'The value of R1 in kΩ is : ')\n",
"disp(R3,'The value of R2 and R3 in kΩ is');\n",
"disp(R_F,'The value of R_F in kΩ is : ')\n",
"disp(C*10^6,'The value of C2 and C3 in µF is :')"
   ]
   }
,
{
		   "cell_type": "markdown",
		   "metadata": {},
		   "source": [
			"## Example 5.5: Second_order_low_pass_filter.sce"
		   ]
		  },
  {
"cell_type": "code",
	   "execution_count": null,
	   "metadata": {
	    "collapsed": true
	   },
	   "outputs": [],
"source": [
"// Exa 5.5\n",
"clc;\n",
"clear;\n",
"close;\n",
"// Given data\n",
"R1 = 12;// in k ohm\n",
"R_F = 7;// in k ohm\n",
"R2 = 33;// in k ohm\n",
"R3 = R2;// in k ohm\n",
"R = R2;// in k ohm\n",
"R = R * 10^3;// in ohm\n",
"C1 = 0.002;// in µF\n",
"C1 = C1 * 10^-6;// in F\n",
"C2 = C1;// in F\n",
"C = C1;// in F\n",
"f_c = 1/(2*%pi*R*C);// in Hz\n",
"f_c = f_c * 10^-3;// in kHz\n",
"disp(f_c,'Cut off frequency in kHz is');\n",
"A_F = 1+(R_F/R1);\n",
"disp(A_F,'Pass band voltage gain is');"
   ]
   }
,
{
		   "cell_type": "markdown",
		   "metadata": {},
		   "source": [
			"## Example 5.6: Second_order_low_pass_filter.sce"
		   ]
		  },
  {
"cell_type": "code",
	   "execution_count": null,
	   "metadata": {
	    "collapsed": true
	   },
	   "outputs": [],
"source": [
"// Exa 5.6\n",
"clc;\n",
"clear;\n",
"close;\n",
"// Given data\n",
"f_c = 2;// in kHz\n",
"f_c = f_c * 10^3;// in Hz\n",
"C2 = 0.033;// in µF\n",
"C2 = C2 * 10^-6;// in F\n",
"C3 = C2;// in F\n",
"C = C2;// in F\n",
"R2 = 1/(2*%pi*f_c*C);// in ohm\n",
"R2 = R2 * 10^-3;// in k ohm\n",
"R3=R2;// in kohm\n",
"disp(R2,'The value of R2 and R3 in kΩ is : ');\n",
"//R_F= 0.586*R1\n",
"R1= 2*R2*(1+0.586)/0.586;// in k ohm\n",
"disp(R1,'The value of R1 in kΩ is : ')\n",
"R1= 15;// in k ohm\n",
"R_F = 0.586 * R1;// in k ohm\n",
"disp(R_F,'The value of R_F in kΩ is : ');\n",
"disp('R_F may be taken as a pot of 10 kΩ')"
   ]
   }
,
{
		   "cell_type": "markdown",
		   "metadata": {},
		   "source": [
			"## Example 5.7: Second_order_low_pass_filter.sce"
		   ]
		  },
  {
"cell_type": "code",
	   "execution_count": null,
	   "metadata": {
	    "collapsed": true
	   },
	   "outputs": [],
"source": [
"// Exa 5.7\n",
"clc;\n",
"clear;\n",
"close;\n",
"// Given data\n",
"f_c = 1;// in kHz\n",
"f_c = f_c * 10^3;// in Hz\n",
"C2 = 0.0047;// in µF\n",
"C2 = C2 * 10^-6;// in F\n",
"C3 = C2;// in F\n",
"C = C2;// in F\n",
"R2 = 1/(2*%pi*f_c*C);// in ohm\n",
"R2 = R2 * 10^-3;// in k ohm\n",
"R3= R2;// in kohm\n",
"// Let\n",
"R1=30;// in kohm\n",
"R_F= R1*0.586;// in kohm\n",
"disp(floor(R2),'The value of R2 and R3 in kΩ is : ')\n",
"disp(R1,'The value of R1 in kΩ is : ')\n",
"disp(R_F,'The value of R_F in kΩ is : ')\n",
"disp('The standard value of R_F is 20 kΩ')"
   ]
   }
,
{
		   "cell_type": "markdown",
		   "metadata": {},
		   "source": [
			"## Example 5.8: Second_order_Butterworth_filter.sce"
		   ]
		  },
  {
"cell_type": "code",
	   "execution_count": null,
	   "metadata": {
	    "collapsed": true
	   },
	   "outputs": [],
"source": [
"// Exa 5.8\n",
"clc;\n",
"clear;\n",
"close;\n",
"// Given data\n",
"f_c = 1.5;// in kHz\n",
"f_c = f_c * 10^3;// in Hz\n",
"alpha = sqrt(2);\n",
"R_F = (2-alpha);// in ohm\n",
"disp(R_F,'The value of R_F in Ω is : ');\n",
"R_i = 1;// in ohm\n",
"A_F = 1+(R_F/R_i);\n",
"disp(A_F,'The pass band gain is');\n",
"Omega_c = 2*%pi*f_c;// in rad/sec\n",
"C = 1;// in F\n",
"R = 1/Omega_c;// in ohm\n",
"R = R * 10^7;// in ohm\n",
"R=R*10^-3;// in kohm\n",
"R1 = R;// in k ohm\n",
"R2=R1;// in kohm\n",
"disp(R1,'The value of R1 and R2 in kΩ is');\n",
"C = C/10^7;// in µF\n",
"C = C * 10^9;// in nF\n",
"C1=C;// in nF\n",
"C2= C1;// in nF\n",
"disp(C1,'The value of C1 and C2 in nF is');\n",
"\n",
"//Note: The unit of R1 and R2 is wrong in the book"
   ]
   }
,
{
		   "cell_type": "markdown",
		   "metadata": {},
		   "source": [
			"## Example 5.9: Second_order_Butterworth_filter.sce"
		   ]
		  },
  {
"cell_type": "code",
	   "execution_count": null,
	   "metadata": {
	    "collapsed": true
	   },
	   "outputs": [],
"source": [
"// Exa 5.9\n",
"clc;\n",
"clear;\n",
"close;\n",
"// Given data\n",
"alpha = 1.414;\n",
"f_c = 1.5;// in kHz\n",
"f_c = f_c * 10^3;// in Hz\n",
"C1 = 2/alpha;// in F\n",
"C2 = alpha/2;// in F\n",
"R1 = 1;// in ohm\n",
"R2 = R1;// in ohm \n",
"R_F = 2;// in ohm\n",
"Omega_c = 2*%pi*f_c;// in rad/sec\n",
"R = 1/Omega_c;// in ohm\n",
"R = R * 10^7;// in ohm\n",
"R1 = R;// in ohm\n",
"R2= R1;// in ohm\n",
"R_F = 2*R;// in ohm\n",
"C1 = C1/10^7;// in F\n",
"C2 = C2/10^7;// in F\n",
"disp(R1*10^-3,'The value of R1 and R2 in k ohm');\n",
"disp(C1*10^9,'The value of C1 in nF is');\n",
"disp(C2*10^9,'The value of C2 in nF is');\n",
"disp(R_F*10^-3,'The value of R_F in k ohm');"
   ]
   }
],
"metadata": {
		  "kernelspec": {
		   "display_name": "Scilab",
		   "language": "scilab",
		   "name": "scilab"
		  },
		  "language_info": {
		   "file_extension": ".sce",
		   "help_links": [
			{
			 "text": "MetaKernel Magics",
			 "url": "https://github.com/calysto/metakernel/blob/master/metakernel/magics/README.md"
			}
		   ],
		   "mimetype": "text/x-octave",
		   "name": "scilab",
		   "version": "0.7.1"
		  }
		 },
		 "nbformat": 4,
		 "nbformat_minor": 0
}
