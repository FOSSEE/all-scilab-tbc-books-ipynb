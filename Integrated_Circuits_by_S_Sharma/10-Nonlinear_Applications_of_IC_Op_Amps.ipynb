{
"cells": [
 {
		   "cell_type": "markdown",
	   "metadata": {},
	   "source": [
       "# Chapter 10: Nonlinear Applications of IC Op Amps"
	   ]
	},
{
		   "cell_type": "markdown",
		   "metadata": {},
		   "source": [
			"## Example 10.10: Values_of_VUT_VLT_and_oscillation_frequency.sce"
		   ]
		  },
  {
"cell_type": "code",
	   "execution_count": null,
	   "metadata": {
	    "collapsed": true
	   },
	   "outputs": [],
"source": [
"// Exa 10.10\n",
"clc;\n",
"clear;\n",
"close;\n",
"// Given data\n",
"R1 = 86;// in k ohm\n",
"V_sat = 15;// in V\n",
"R2 = 100;// in k ohm\n",
"V_UT = (R1/(R1+R2))*V_sat;// in V\n",
"disp(V_UT,'The value of V_UT in V is ');\n",
"V_LT = (R1/(R1+R2))*(-V_sat);// in V\n",
"disp(V_LT,'The value of V_LT in V is');\n",
"R_F = 100;// in k ohm\n",
"R_F= R_F*10^3;// in ohm\n",
"C = 0.1;// in µF\n",
"C = C * 10^-6;// in F\n",
"f_o = 1/(2*R_F*C*log( (V_sat-V_LT)/(V_sat-V_UT) ));// in Hz\n",
"disp(f_o,'Frequency of oscillation in Hz is');"
   ]
   }
,
{
		   "cell_type": "markdown",
		   "metadata": {},
		   "source": [
			"## Example 10.12: Change_in_output_voltage.sce"
		   ]
		  },
  {
"cell_type": "code",
	   "execution_count": null,
	   "metadata": {
	    "collapsed": true
	   },
	   "outputs": [],
"source": [
"// Exa 10.12\n",
"clc;\n",
"clear;\n",
"close;\n",
"// Given data\n",
"del_Vin = 5;// in V\n",
"FRR = 80;// in dB\n",
"// Formula FRR= 20*log10(del_Vin/del_Vout)\n",
"del_Vout=del_Vin/(10^(FRR/20));// in V\n",
"disp(del_Vout*10^3,'Change in output voltage in mV is : ')"
   ]
   }
,
{
		   "cell_type": "markdown",
		   "metadata": {},
		   "source": [
			"## Example 10.1: Threshold_voltages.sce"
		   ]
		  },
  {
"cell_type": "code",
	   "execution_count": null,
	   "metadata": {
	    "collapsed": true
	   },
	   "outputs": [],
"source": [
"// Exa 10.1\n",
"clc;\n",
"clear;\n",
"close;\n",
"// Given data\n",
"V_CC = 15;// in V\n",
"V_sat = V_CC;// in V\n",
"R1 = 120;// in ohm\n",
"R2 = 51;// in k ohm\n",
"R2 = R2 * 10^3;// in ohm\n",
"V_in = 1;// in V\n",
"V_UT = (V_sat*R1)/(R1+R2);//in V\n",
"disp(V_UT*10^3,'When supply voltage is +15V then threshold voltage in mV is');\n",
"V_ULT = ((-V_sat)*R1)/(R1+R2);// in V\n",
"V_ULT = V_ULT;// in V\n",
"disp(V_ULT*10^3,'When supply voltage is -15V then threshold voltage in mV is');"
   ]
   }
,
{
		   "cell_type": "markdown",
		   "metadata": {},
		   "source": [
			"## Example 10.2: Value_of_R1_and_R2.sce"
		   ]
		  },
  {
"cell_type": "code",
	   "execution_count": null,
	   "metadata": {
	    "collapsed": true
	   },
	   "outputs": [],
"source": [
"// EXa 10.2\n",
"clc;\n",
"clear;\n",
"close;\n",
"// Given data\n",
"V_sat = 12;// in V\n",
"V_H = 6;// in V\n",
"R1 = 10;// in k ohm\n",
"R1 = R1 * 10^3;// in ohm\n",
"// Formula V_H= R1/(R1+R2)*(V_sat-(-V_sat)) and Let\n",
"V = V_H/(V_sat-(-V_sat));// in V (assumed)\n",
"R2= (R1-V*R1)/V\n",
"disp(R1*10^-3,'The value of R1 in kΩ is');\n",
"disp(R2*10^-3,'The value of R2 in kΩ is');"
   ]
   }
,
{
		   "cell_type": "markdown",
		   "metadata": {},
		   "source": [
			"## Example 10.3: Time_duratio.sce"
		   ]
		  },
  {
"cell_type": "code",
	   "execution_count": null,
	   "metadata": {
	    "collapsed": true
	   },
	   "outputs": [],
"source": [
"// Exa 10.3\n",
"clc;\n",
"clear;\n",
"close;\n",
"// Given data\n",
"V_P = 5;// in V\n",
"V_LT = -1.5;// in V\n",
"V_H = 2;// in V\n",
"f = 1;// in kHz\n",
"f = f * 10^3;// in Hz\n",
"V_UT = V_H-V_LT;// in V\n",
"V_m = V_P/2;// in V\n",
"// Formula V_LT= V_m*sind(theta)\n",
"theta= asind(-V_LT/V_m);\n",
"T = 1/f;// in sec\n",
"theta1 = theta+180;// in degree\n",
"T1 = (T*theta1)/360;// in sec\n",
"T2 = T-T1;// in sec\n",
"disp(T1*10^3,'The value of T1 in ms is : ')\n",
"disp(T2*10^3,'The value of T2 in ms is : ')"
   ]
   }
,
{
		   "cell_type": "markdown",
		   "metadata": {},
		   "source": [
			"## Example 10.4: Value_of_R1_and_R2.sce"
		   ]
		  },
  {
"cell_type": "code",
	   "execution_count": null,
	   "metadata": {
	    "collapsed": true
	   },
	   "outputs": [],
"source": [
"// Exa 10.4\n",
"clc;\n",
"clear;\n",
"close;\n",
"// Given data\n",
"V_H = 10;// in V\n",
"V_L = -10;// in V\n",
"I_max = 100;// in µA\n",
"I_max = I_max * 10^-6;// in A\n",
"V_HV = 0.1;// in V\n",
"V_sat = 10;// in V\n",
"R2 = 1;// in k ohm\n",
"R1 = 199;// in  k ohm\n",
"R = (R1*R2)/(R1+R2);// in k ohm\n",
"disp(R*10^3,'The resistance in Ω is');\n",
"\n",
"// Note: The unit of the answer in the book is wrong"
   ]
   }
,
{
		   "cell_type": "markdown",
		   "metadata": {},
		   "source": [
			"## Example 10.6: values_of_VLT_VUT_and_VH.sce"
		   ]
		  },
  {
"cell_type": "code",
	   "execution_count": null,
	   "metadata": {
	    "collapsed": true
	   },
	   "outputs": [],
"source": [
"// Exa 10.6\n",
"clc;\n",
"clear;\n",
"close;\n",
"// Given data\n",
"V_sat = 12;// in V\n",
"R1 = 1;// in k ohm\n",
"R2 = 3;// in k ohm\n",
"V_LT = ((-V_sat)*R1)/R2;// in V\n",
"disp(V_LT,'The value of V_LT in V is');\n",
"V_UT = (-(-V_sat) * R1)/R2;// in V\n",
"disp(V_UT,'The value of V_UT in V is');\n",
"V_H = (R1/R2)*(V_sat - (-V_sat));// in V\n",
"disp(V_H,'The value of V_H in V is');"
   ]
   }
,
{
		   "cell_type": "markdown",
		   "metadata": {},
		   "source": [
			"## Example 10.7: Threshold_voltages_and_hysteresis_voltage.sce"
		   ]
		  },
  {
"cell_type": "code",
	   "execution_count": null,
	   "metadata": {
	    "collapsed": true
	   },
	   "outputs": [],
"source": [
"// Exa 10.7\n",
"clc;\n",
"clear;\n",
"close;\n",
"// Given data\n",
"R1 = 80;// in k ohm\n",
"R2 = 20;// in k ohm\n",
"V_sat = 12.5;// in V\n",
"V_UT = (R2/(R1+R2))*V_sat;// in V\n",
"disp(V_UT,'Upper threshold voltage in V is');\n",
"V_LT = (R2/(R1+R2))*(-V_sat);// in V\n",
"disp(V_LT,'Lower threshold voltage in V is');\n",
"V_HV = (R2/(R1+R2))*(2*V_sat);// in V\n",
"disp(V_HV,'The hysteresis voltage in V is');"
   ]
   }
],
"metadata": {
		  "kernelspec": {
		   "display_name": "Scilab",
		   "language": "scilab",
		   "name": "scilab"
		  },
		  "language_info": {
		   "file_extension": ".sce",
		   "help_links": [
			{
			 "text": "MetaKernel Magics",
			 "url": "https://github.com/calysto/metakernel/blob/master/metakernel/magics/README.md"
			}
		   ],
		   "mimetype": "text/x-octave",
		   "name": "scilab",
		   "version": "0.7.1"
		  }
		 },
		 "nbformat": 4,
		 "nbformat_minor": 0
}
