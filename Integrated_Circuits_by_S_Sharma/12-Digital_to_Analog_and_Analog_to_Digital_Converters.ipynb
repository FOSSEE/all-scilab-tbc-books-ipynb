{
"cells": [
 {
		   "cell_type": "markdown",
	   "metadata": {},
	   "source": [
       "# Chapter 12: Digital to Analog and Analog to Digital Converters"
	   ]
	},
{
		   "cell_type": "markdown",
		   "metadata": {},
		   "source": [
			"## Example 12.10: Digital_output.sce"
		   ]
		  },
  {
"cell_type": "code",
	   "execution_count": null,
	   "metadata": {
	    "collapsed": true
	   },
	   "outputs": [],
"source": [
"// Exa 12.10\n",
"clc;\n",
"clear;\n",
"close;\n",
"// Given data\n",
"C_F = 12;//clock frequency in kHz\n",
"C_F = C_F * 10^3;// in Hz\n",
"V_i = 100;// in mV\n",
"V_R = 100;// in mV\n",
"t1 = 83.33*10^-3;// in sec\n",
"D = C_F * t1*(V_i/V_R);// in counts\n",
"disp('The Digital output is : '+string(round(D))+' counts');"
   ]
   }
,
{
		   "cell_type": "markdown",
		   "metadata": {},
		   "source": [
			"## Example 12.11: Conversion_time.sce"
		   ]
		  },
  {
"cell_type": "code",
	   "execution_count": null,
	   "metadata": {
	    "collapsed": true
	   },
	   "outputs": [],
"source": [
"// Exa 12.12\n",
"clc;\n",
"clear;\n",
"close;\n",
"// Given data\n",
"n = 8;\n",
"T_C = 9;//in µsec\n",
"T_C = T_C * 10^-6;// in sec\n",
"f_max = 1/(2*%pi*T_C*(2^n));// in Hz\n",
"disp(f_max,'Maximum frequency in Hz is');"
   ]
   }
,
{
		   "cell_type": "markdown",
		   "metadata": {},
		   "source": [
			"## Example 12.12: Maximum_frequency.sce"
		   ]
		  },
  {
"cell_type": "code",
	   "execution_count": null,
	   "metadata": {
	    "collapsed": true
	   },
	   "outputs": [],
"source": [
"// Exa 12.12\n",
"clc;\n",
"clear;\n",
"close;\n",
"// Given data\n",
"n = 8;\n",
"T_C = 9;//in µsec\n",
"T_C = T_C * 10^-6;// in sec\n",
"f_max = 1/(2*%pi*T_C*(2^n));// in Hz\n",
"disp(f_max,'Maximum frequency in Hz is');"
   ]
   }
,
{
		   "cell_type": "markdown",
		   "metadata": {},
		   "source": [
			"## Example 12.1: Resolutio.sce"
		   ]
		  },
  {
"cell_type": "code",
	   "execution_count": null,
	   "metadata": {
	    "collapsed": true
	   },
	   "outputs": [],
"source": [
"// Exa 12.1\n",
"clc;\n",
"clear;\n",
"close;\n",
"// Given data\n",
"n = 8;\n",
"Resolution = 2^n;\n",
"disp(Resolution,'The resolution is');\n",
"disp('That is, the output voltage can have '+string(Resolution)+' different values including zero')\n",
"V_OFS = 2.55;// in V\n",
"Resolution= V_OFS/(2^n - 1)*10^3;\n",
"disp('Resolution is : '+string(Resolution)+' mV/1LSB')\n",
"disp('That is, an input change of 1 LSB causes the output to change by '+string(Resolution)+' mV')"
   ]
   }
,
{
		   "cell_type": "markdown",
		   "metadata": {},
		   "source": [
			"## Example 12.2: Final_output_voltage.sce"
		   ]
		  },
  {
"cell_type": "code",
	   "execution_count": null,
	   "metadata": {
	    "collapsed": true
	   },
	   "outputs": [],
"source": [
"// Exa 12.2\n",
"clc;\n",
"clear;\n",
"close;\n",
"// Given data\n",
"n = 4;\n",
"V_OFS = 15;// in V\n",
"digital_input = '0110';// in binary\n",
"D= bin2dec(digital_input);\n",
"Resolution = V_OFS/((2^n)-1);// in V/LSB\n",
"V_out = Resolution*D;// in V\n",
"disp(V_out,'Final output voltage in V is');"
   ]
   }
,
{
		   "cell_type": "markdown",
		   "metadata": {},
		   "source": [
			"## Example 12.3: VoFS_and_Vout.sce"
		   ]
		  },
  {
"cell_type": "code",
	   "execution_count": null,
	   "metadata": {
	    "collapsed": true
	   },
	   "outputs": [],
"source": [
"// Exa 12.3\n",
"clc;\n",
"clear;\n",
"close;\n",
"// Given data\n",
"n = 8;\n",
"Resolution = 20;// in mV/LSB\n",
"digital_input= '10000000';// in binary\n",
"D= bin2dec(digital_input);// in decimal\n",
"Resolution=Resolution*10^-3;// in V/LSB\n",
"V_OFS = Resolution * ((2^n)-1);// in V\n",
"disp(V_OFS,'The value of V_OFS in V is');\n",
"V_out = Resolution*D;// in V\n",
"disp(V_out,'The value of V_out in V is');"
   ]
   }
,
{
		   "cell_type": "markdown",
		   "metadata": {},
		   "source": [
			"## Example 12.4: Step_size_and_analog_output.sce"
		   ]
		  },
  {
"cell_type": "code",
	   "execution_count": null,
	   "metadata": {
	    "collapsed": true
	   },
	   "outputs": [],
"source": [
"// Exa 12.4\n",
"clc;\n",
"clear;\n",
"close;\n",
"// Given data\n",
"n = 4;\n",
"V_OFS = 5;// in V\n",
"digital_input= '1000';// in binary\n",
"D= bin2dec(digital_input);// in decimal\n",
"Resolution = V_OFS/((2^n)-1);\n",
"V_out = Resolution * D;// in V\n",
"disp(V_out,'When input is 1000 then, the output in V is');\n",
"// When\n",
"digital_input= '1111';// in binary\n",
"D= bin2dec(digital_input);// in decimal\n",
"V_out= Resolution * D;// in V\n",
"disp(V_out,'When input is 1111 then , the output in V is');"
   ]
   }
,
{
		   "cell_type": "markdown",
		   "metadata": {},
		   "source": [
			"## Example 12.5: Full_scale_output_voltage_and_percentage_resolution.sce"
		   ]
		  },
  {
"cell_type": "code",
	   "execution_count": null,
	   "metadata": {
	    "collapsed": true
	   },
	   "outputs": [],
"source": [
"// Exa 12.5\n",
"clc;\n",
"clear;\n",
"close;\n",
"// Given data\n",
"n=12;\n",
"digital_input= '010101101101';// in binary\n",
"D= bin2dec(digital_input);// in decimal\n",
"step_size= 8;// in mV\n",
"step_size=step_size*10^-3;// in V\n",
"VoFS= step_size*(2^n-1);// in V\n",
"disp(VoFS,'The full scale output voltage in V is : ')\n",
"Per_resolution= step_size/VoFS*100;// in %\n",
"disp(Per_resolution,'Percentage resolution is :')\n",
"Vout= step_size*D;// in V\n",
"disp(Vout,'The output voltage in V is : ')"
   ]
   }
,
{
		   "cell_type": "markdown",
		   "metadata": {},
		   "source": [
			"## Example 12.6: Values_of_resistors.sce"
		   ]
		  },
  {
"cell_type": "code",
	   "execution_count": null,
	   "metadata": {
	    "collapsed": true
	   },
	   "outputs": [],
"source": [
"// EXa 12.6\n",
"clc;\n",
"clear;\n",
"close;\n",
"// Given data\n",
"V_R = 10;// in V\n",
"n = 4;\n",
"Resolution = 0.5;// in V\n",
"R_F = 10;// in k ohm\n",
"R = (1/2^n)*(V_R/Resolution)*R_F;// in k ohm\n",
"disp(R,'The value of resistor in kΩ is');"
   ]
   }
,
{
		   "cell_type": "markdown",
		   "metadata": {},
		   "source": [
			"## Example 12.7: Resolution_and_digital_output.sce"
		   ]
		  },
  {
"cell_type": "code",
	   "execution_count": null,
	   "metadata": {
	    "collapsed": true
	   },
	   "outputs": [],
"source": [
"// Exa 12.7\n",
"clc;\n",
"clear;\n",
"close;\n",
"// Given data\n",
"V_i = 5.1;// in V\n",
"n = 8;\n",
"Re = 2^n;\n",
"Resolution = V_i/(2^n-1);// in V/LSB\n",
"disp(Resolution*10^3,'The Resolution in mV/LSB is');\n",
"// When\n",
"V_i = 1.28;// in V\n",
"D = round(V_i/Resolution);\n",
"D_in_binary= dec2bin(D);// in binary\n",
"disp(D_in_binary,'The digital output is :')\n",
""
   ]
   }
,
{
		   "cell_type": "markdown",
		   "metadata": {},
		   "source": [
			"## Example 12.8: Quantizing_error.sce"
		   ]
		  },
  {
"cell_type": "code",
	   "execution_count": null,
	   "metadata": {
	    "collapsed": true
	   },
	   "outputs": [],
"source": [
"// Exa 12.8\n",
"clc;\n",
"clear;\n",
"close;\n",
"// Given data\n",
"V_i = 4.095;//input voltage in V\n",
"n = 12;\n",
"Q_E = V_i/( ((2^n)-1)*2 );// in V\n",
"Q_E = Q_E * 10^3;// in mV\n",
"disp(Q_E,'The quantizing error in mV is');"
   ]
   }
,
{
		   "cell_type": "markdown",
		   "metadata": {},
		   "source": [
			"## Example 12.9: The_value_of_t2.sce"
		   ]
		  },
  {
"cell_type": "code",
	   "execution_count": null,
	   "metadata": {
	    "collapsed": true
	   },
	   "outputs": [],
"source": [
"// Exa 12.9\n",
"clc;\n",
"clear;\n",
"close;\n",
"// Given data\n",
"disp('Part (i)')\n",
"V_i = 100;// in mV\n",
"V_R = 100;// in mV\n",
"t1 = 83.33;// in ms\n",
"t2 = (V_i/V_R)*t1;// in ms\n",
"disp(t2,'The value of t2 in ms is');\n",
"disp('Part (ii)')\n",
"Vi = 200;// in mV\n",
"t_2 = (Vi/V_R)*t1;// in ms\n",
"disp(t_2,'The value of t_2 in ms is');"
   ]
   }
],
"metadata": {
		  "kernelspec": {
		   "display_name": "Scilab",
		   "language": "scilab",
		   "name": "scilab"
		  },
		  "language_info": {
		   "file_extension": ".sce",
		   "help_links": [
			{
			 "text": "MetaKernel Magics",
			 "url": "https://github.com/calysto/metakernel/blob/master/metakernel/magics/README.md"
			}
		   ],
		   "mimetype": "text/x-octave",
		   "name": "scilab",
		   "version": "0.7.1"
		  }
		 },
		 "nbformat": 4,
		 "nbformat_minor": 0
}
