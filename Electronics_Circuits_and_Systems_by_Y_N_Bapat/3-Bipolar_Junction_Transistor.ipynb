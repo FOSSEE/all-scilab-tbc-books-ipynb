{
"cells": [
 {
		   "cell_type": "markdown",
	   "metadata": {},
	   "source": [
       "# Chapter 3: Bipolar Junction Transistor"
	   ]
	},
{
		   "cell_type": "markdown",
		   "metadata": {},
		   "source": [
			"## Example 3.10: Find_maximum_allowed_power_dissipation_at_25_and_75_degree_celsius.sce"
		   ]
		  },
  {
"cell_type": "code",
	   "execution_count": null,
	   "metadata": {
	    "collapsed": true
	   },
	   "outputs": [],
"source": [
"//Ex3_10\n",
"clc\n",
"TJmax=175\n",
"disp('TJmax= '+string(TJmax)+ 'degree celsius')  //maximum allowed junction temperature\n",
"theta=0.5\n",
"disp('theta= '+string(theta)+ 'degree celsius/mW ')  //thermal resistances b/w junction to ambient\n",
"change_T=TJmax-25//temperature difference\n",
"PDmax=change_T/theta\n",
"disp('at 25 degree celsius,PDmax=(TJmax-25 )/theta = '+string(PDmax)+ ' mW ')  //maximum allowed power dissipation at TA=25 degree celsius\n",
"change_T=TJmax-75\n",
"PDmax2=change_T/theta\n",
"disp('at 75 degree celsius,PDmax2= (TJmax-75)/theta = '+string(PDmax2)+ ' mW ')  //maximum allowed power dissipation at TA=75 degree celsius"
   ]
   }
,
{
		   "cell_type": "markdown",
		   "metadata": {},
		   "source": [
			"## Example 3.11: Find_maximum_allowed_power_dissipation_at_25_and_75_degree_celsius.sce"
		   ]
		  },
  {
"cell_type": "code",
	   "execution_count": null,
	   "metadata": {
	    "collapsed": true
	   },
	   "outputs": [],
"source": [
"//Ex3_11\n",
"clc\n",
"TJmax=175\n",
"disp('TJmax= '+string(TJmax)+ ' degree celsius')  //maximum allowed junction temperature\n",
"theta=0.1\n",
"disp('theta= '+string(theta)+ ' degree celsius/mW ')  //thermal resistances b/w junction to ambient\n",
"change_T=TJmax-25 //temperature difference\n",
"PDmax=change_T/theta\n",
"disp('at 25 degree celsius,PDmax=(TJmax-25 )/theta = '+string(PDmax)+ ' mW ')  //maximum allowed power dissipation at TA=25 degree celsius\n",
"change_T=TJmax-75 //temperature difference\n",
"PDmax=change_T/theta\n",
"disp('at 75 degree celsius,PDmax= (TJmax-75)/theta = '+string(PDmax)+ ' mW ')  //maximum allowed power dissipation at TA=75 degree celsius"
   ]
   }
,
{
		   "cell_type": "markdown",
		   "metadata": {},
		   "source": [
			"## Example 3.12: Calculate_resistance_R_for_BJT_current_mirror.sce"
		   ]
		  },
  {
"cell_type": "code",
	   "execution_count": null,
	   "metadata": {
	    "collapsed": true
	   },
	   "outputs": [],
"source": [
"//Ex3_12\n",
"clc\n",
"VBE=(0.7)\n",
"disp('VBE = '+string(VBE)+' volts') // value of base-emitter voltage\n",
"VCC=10\n",
"disp('VCC = '+string(VCC)+' volts') // collector supply voltage \n",
"IREF=5*10^(-3)\n",
"disp('IREF =IQ= '+string(IREF)+' ampere') //  current mirror source current\n",
"R=(VCC-VBE)/(IREF)// formulae\n",
"disp('R=(VCC-VBE)/(IREF)= '+string(R)+ ' ohm')  //resistance"
   ]
   }
,
{
		   "cell_type": "markdown",
		   "metadata": {},
		   "source": [
			"## Example 3.1: BJT_current_and_voltages.sce"
		   ]
		  },
  {
"cell_type": "code",
	   "execution_count": null,
	   "metadata": {
	    "collapsed": true
	   },
	   "outputs": [],
"source": [
"//Ex3_1\n",
"clc\n",
"Vcc=15\n",
"disp('Vcc = '+string(Vcc)+' volts')   //initialization\n",
"VBB=1\n",
"disp('VBB = '+string(VBB)+' volts')  //initialization\n",
"VBE=0.7\n",
"disp('VBE = '+string(VBE)+' volts')  //initialization\n",
"RB=5*(10^3)\n",
"disp('resistance,RB = '+string(RB)+ ' ohm')  //initialization\n",
"RL=650\n",
"disp('resistance,RL = '+string(RL)+ ' ohm')  //initialization\n",
"Bf=200\n",
"disp('Gain,Bf = '+string(Bf)+ ' ')  //initialization\n",
"IB=(VBB-VBE)/RB //Formulae\n",
"disp('IB =(VBB-VBE)/RB = '+string(IB)+' ampere') //calculation\n",
"IC=IB*Bf  //Formulae\n",
"disp('IC =IB*Bf= '+string(IC)+' ampere')//calculation\n",
"IE=IB+IC  //Formulae\n",
"disp('IE = IB+IC='+string(IE)+' ampere')//calculation\n",
"VCE=Vcc-IC*RL //Formulae\n",
"disp('VCE =Vcc-IC*RL= '+string(VCE)+' volts') //calculation\n",
"VCB=VCE-VBE  //Formulae\n",
"disp('VCB = VCE-VBE='+string(VCB)+' volts')//calculation\n",
"RB=(Vcc-VBE)/IB  //Formulae\n",
"disp('resistance,RB =(Vcc-VBE)/IB= '+string(RB)+ ' ohm') //calculation"
   ]
   }
,
{
		   "cell_type": "markdown",
		   "metadata": {},
		   "source": [
			"## Example 3.2: find_current_gain_and_voltage_gain.sce"
		   ]
		  },
  {
"cell_type": "code",
	   "execution_count": null,
	   "metadata": {
	    "collapsed": true
	   },
	   "outputs": [],
"source": [
"//refer BJT characteristics in fig3.2(a)and fig3.4(a)\n",
"//Ex3_2\n",
"clc\n",
"Vbe1=0.025\n",
"disp('Vbe1 = '+string(Vbe1)+' volts') // value of base-emitter voltage1\n",
"Vbe2=(-0.025)\n",
"disp('Vbe2 = '+string(Vbe2)+' volts') // value of base-emitter voltage2\n",
"ib1=20*10^(-6)\n",
"disp('ib1 = '+string(ib1)+' ampere') // value of base current1\n",
"ib2=(-20*10^(-6))\n",
"disp('ib2 = '+string(ib2)+' ampere')// value of base current2\n",
"IBQ=60*10^(-6)\n",
"disp('IBQ = '+string(IBQ)+' ampere') // operating point\n",
"ICP=15.5*10^(-3)\n",
"disp('ICP = '+string(ICP)+' ampere') // initialization\n",
"ICR=8.5*10^(-3)\n",
"disp('ICR = '+string(ICR)+' ampere') // initialization\n",
"VCEP=5\n",
"disp('VCEP = '+string(VCEP)+' volts') // value of collector-emitter voltage1\n",
"VCER=9\n",
"disp('VCER = '+string(VCER)+' volts') // value of collector-emitter voltage2\n",
"change_IC=ICP-ICR  //change in collector current\n",
"disp('change_IC = '+string(change_IC)+' ampere')\n",
"change_VCE=VCER-VCEP //change in collector voltage\n",
"disp('change_VCE = '+string(change_VCE)+' volts') \n",
"change_VBE=Vbe1-Vbe2\n",
"change_IB=ib1-ib2\n",
"AV=(change_VCE/change_VBE) //formulae voltage gain\n",
"disp('AV = '+string(AV)+' ')//voltage gain\n",
"AI=change_IC/change_IB //formulae current gain\n",
"disp('AI = '+string(AI)+' ')"
   ]
   }
,
{
		   "cell_type": "markdown",
		   "metadata": {},
		   "source": [
			"## Example 3.3: Find_transconductance_gm_and_hybrid_parameter_hie_and_unity_gain_frequency.sce"
		   ]
		  },
  {
"cell_type": "code",
	   "execution_count": null,
	   "metadata": {
	    "collapsed": true
	   },
	   "outputs": [],
"source": [
"//Ex3_3\n",
"clc\n",
"ICQ=12*10^(-3)\n",
"disp('ICQ = '+string(ICQ)+' ampere') // collector current\n",
"B=200\n",
"disp('B = '+string(B)+' ') //BJT gain\n",
"Cbe=100*10^(-12)// capacitance\n",
"disp('capacitance,Cbe = '+string(Cbe)+' F ')\n",
"VT=26*10^(-3)\n",
"disp('VT = '+string(VT)+' volts') // thermal voltage\n",
"gm=(ICQ/VT) //transconductance\n",
"disp('gm =(ICQ/VT)= '+string(gm)+' A/V')\n",
"hie=B/gm //forward resistance hybrid parameter\n",
"disp('hie =(B/gm)= '+string(hie)+' ohm')\n",
"fT=((1/2)*(gm/Cbe)*(1/%pi)) //unity gain frequency formulae\n",
"disp('fT =((1/2)*(gm/Cbe)*(1/%pi))= '+string(fT)+' hertz')"
   ]
   }
,
{
		   "cell_type": "markdown",
		   "metadata": {},
		   "source": [
			"## Example 3.4: operating_point_of_BJT.sce"
		   ]
		  },
  {
"cell_type": "code",
	   "execution_count": null,
	   "metadata": {
	    "collapsed": true
	   },
	   "outputs": [],
"source": [
"//Ex3_4\n",
"//refer fig3.2(a)\n",
"clc\n",
"VCC=20\n",
"disp('VCC = '+string(VCC)+' volts') // collector supply voltage \n",
"VBB=VCC\n",
"RL=5*(10^3)\n",
"disp('RL= '+string(RL)+ ' ohm')  //resistance\n",
"RB=965*(10^3)\n",
"disp('RB = '+string(RB)+ ' ohm')  //initialization base resistance\n",
"VBE=(0.7)\n",
"disp('VBE = '+string(VBE)+' volts') // value of base-emitter voltage\n",
"BF=50\n",
"disp('BF = '+string(BF)+' ') //BJT gain\n",
"ICO=10*10^(-9)\n",
"disp('ICO = '+string(ICO)+' ampere') // collector reverse bias current\n",
"Vi=0\n",
"disp('Vi = '+string(Vi)+' volts') // value of input\n",
"IBQ=(VCC-VBE)/RB //base current as operating point\n",
"disp('IBQ = '+string(IBQ)+' ampere')\n",
"ICQ=BF*IBQ //operating point (collector current)\n",
"disp('ICQ =BF*IBQ= '+string(ICQ)+' ampere') // calculation\n",
"VCEQ=VCC-ICQ*RL //  collector-emitter voltage as operating point\n",
"disp('VCEQ =VCC-ICQ*RL = '+string(VCEQ)+' volts') //calculation"
   ]
   }
,
{
		   "cell_type": "markdown",
		   "metadata": {},
		   "source": [
			"## Example 3.5: Find_operating_point_of_BJT.sce"
		   ]
		  },
  {
"cell_type": "code",
	   "execution_count": null,
	   "metadata": {
	    "collapsed": true
	   },
	   "outputs": [],
"source": [
"//Ex3_5\n",
"clc\n",
"BF1=100\n",
"disp('BF1 = '+string(BF1)+' ') //BJT gain\n",
"VCC=20\n",
"disp('VCC = '+string(VCC)+' volts') // collector supply voltage \n",
"VBB=VCC\n",
"RL=5*(10^3)\n",
"disp('resistance,RL= '+string(RL)+ ' ohm')  //initialization\n",
"RB=965*(10^3)\n",
"disp('resistance,RB = '+string(RB)+ ' ohm')  //initialization\n",
"VBE=(0.7)\n",
"disp('VBE = '+string(VBE)+' volts') // value of base-emitter voltage\n",
"ICO=10*10^(-9)\n",
"disp('ICO = '+string(ICO)+' ampere') // collector reverse bias current\n",
"Vi=0\n",
"disp('Vi = '+string(Vi)+' volts') // value of input\n",
"IBQ=(VCC-VBE)/RB //base current as operating point\n",
"disp('IBQ = '+string(IBQ)+' ampere')\n",
"ICQ1=BF1*IBQ //operating point (collector current)\n",
"disp('ICQ1 =BF1*IBQ= '+string(ICQ1)+' ampere') // calculation\n",
"VCEQ1=VCC-ICQ1*RL //  collector-emitter voltage as operating point\n",
"disp('VCEQ1 =VCC-ICQ1*RL = '+string(VCEQ1)+' volts') //calculation"
   ]
   }
,
{
		   "cell_type": "markdown",
		   "metadata": {},
		   "source": [
			"## Example 3.6: Find_operating_point_of_BJT.sce"
		   ]
		  },
  {
"cell_type": "code",
	   "execution_count": null,
	   "metadata": {
	    "collapsed": true
	   },
	   "outputs": [],
"source": [
"//Ex3_6\n",
"clc\n",
"VBE2=(0.5)\n",
"disp('VBE2 = '+string(VBE2)+' volts') // value of base-emitter voltage\n",
"VCC=20\n",
"disp('VCC = '+string(VCC)+' volts') // collector supply voltage \n",
"BF2=150\n",
"disp('BF2 = '+string(BF2)+' ') //BJT gain\n",
"ICO2=500*10^(-9)\n",
"disp('ICO2 = '+string(ICO2)+' ampere') // collector reverse bias current\n",
"RB=965*(10^3)\n",
"disp('RB = '+string(RB)+ ' ohm')  //initialization base resistance\n",
"RL=5*(10^3)\n",
"disp('RL= '+string(RL)+ ' ohm')  // load resistance\n",
"IBQ2=(VCC-VBE2)/RB   //base current as operating point\n",
"disp('IBQ2 = (VCC-VBE2)/RB='+string(IBQ2)+' ampere')\n",
"ICQ2=(BF2*IBQ2)   //operating point (collector current)\n",
"disp('ICQ2 =BF2*IBQ2= '+string(ICQ2)+' ampere') // \n",
"dICQ2=BF2*ICO2  // increase in reverse bias current\n",
"disp('dICQ2 =BF2*ICO2= '+string(dICQ2)+' ampere') // \n",
"ICQ3=ICQ2+dICQ2\n",
"disp('ICQ3 =ICQ2+dICQ2= '+string(ICQ3)+' ampere') // calculation\n",
"VCEQ3=VCC-ICQ3*RL //  collector-emitter voltage as operating point\n",
"disp('VCEQ3 =VCC-ICQ3*RL = '+string(VCEQ3)+' volts') //calculation\n",
"//NOTE: Calculated ans for VCEQ3=4.4695596 volts but in book it is given as 4.625volts(due to approximations done in)   \n",
"    \n",
" "
   ]
   }
,
{
		   "cell_type": "markdown",
		   "metadata": {},
		   "source": [
			"## Example 3.7: Calculate_extreme_variation_in_operating_collector_current_ICQ.sce"
		   ]
		  },
  {
"cell_type": "code",
	   "execution_count": null,
	   "metadata": {
	    "collapsed": true
	   },
	   "outputs": [],
"source": [
"//Ex3_7\n",
"clc\n",
"VCC=20\n",
"disp('VCC = '+string(VCC)+' volts') // collector supply voltage \n",
"RL=5*(10^3)\n",
"disp('resistance,RL= '+string(RL)+ ' ohm')  //initialization\n",
"R1=90*(10^3)\n",
"disp('resistance,R1 = '+string(R1)+ ' ohm')  //initialization\n",
"R2=10*(10^3)\n",
"disp('resistance,R2 = '+string(R2)+ ' ohm')  //initialization \n",
"Rc=1*(10^3)\n",
"disp('resistance,Rc = '+string(Rc)+ ' ohm')  // resistance at collector\n",
"VBEmax=(0.7)\n",
"disp('VBEmax = '+string(VBEmax)+' volts') // maximum base-emitter voltage\n",
"VBEmin=(0.5)\n",
"disp('VBEmin = '+string(VBEmin)+' volts') // minimum base-emitter voltage\n",
"BFmax=150\n",
"disp('BFmax = '+string(BFmax)+' ') //BJT gain maximum\n",
"BFmin=50\n",
"disp('BFmin = '+string(BFmin)+' ') //BJT gain minimum\n",
"ICOmax=500*10^(-9)\n",
"disp('ICOmax = '+string(ICOmax)+' ampere') // maximum collector reverse bias current\n",
"ICOmin=10*10^(-9)\n",
"disp('ICOmin = '+string(ICOmin)+' ampere') // minimum collector reverse bias current\n",
"VBB=(VCC*R2)/(R1+R2)\n",
"disp('VBB = '+string(VBB)+' volts') // Base supply voltage \n",
"RB=(R1*R2)/(R1+R2)\n",
"disp('RB = (R1*R2)/(R1+R2)='+string(RB)+ ' ohm') // eqivalent base resistance\n",
"ICmin=[(BFmin*(VBB-VBEmax)+(RB+Rc)*(1+BFmin)*ICOmin)/(RB+Rc*(1+BFmin))] // minimum collector  current\n",
"disp('ICmin = '+string(ICmin)+' ampere')\n",
"VCEQmax=VCC-ICmin*RL //  maximum collector-emitter voltage (d.c value)\n",
"disp('VCEQmax =VCC-ICmin*RL = '+string(VCEQmax)+' volts') //calculation\n",
"ICmax=[(BFmax*(VBB-VBEmin)+(RB+Rc)*(1+BFmax)*ICOmax)/(RB+Rc*(1+BFmax))] // maximum collector  current\n",
"disp('ICmax = '+string(ICmax)+' ampere')\n",
"VCEQmin=VCC-ICmax*RL // minimum collector-emitter voltage (d.c value)\n",
"disp('VCEQmin =VCC-ICmax*RL = '+string(VCEQmin)+' volts') //calculation\n",
"change_IC=ICmax-ICmin\n",
"disp('change_IC= '+string(change_IC)+' ampere') // extreme variation in collector current\n",
"// ERROR - NOTE: Extreme variation in collector current given in book is 0.397 mA but calculated correct ans is 0.3276 mA \n",
" "
   ]
   }
,
{
		   "cell_type": "markdown",
		   "metadata": {},
		   "source": [
			"## Example 3.8: find_value_of_collector_current_Ic_and_check_is_BJT_in_active_region.sce"
		   ]
		  },
  {
"cell_type": "code",
	   "execution_count": null,
	   "metadata": {
	    "collapsed": true
	   },
	   "outputs": [],
"source": [
"//Ex3_8\n",
"clc\n",
"VCC=20\n",
"disp('VCC = '+string(VCC)+' volts') // collector supply voltage \n",
"RL=2*(10^3)\n",
"disp('RL= '+string(RL)+ ' ohm')  //resistance\n",
"R1=100*(10^3)\n",
"R2=R1\n",
"disp('R1 =R2= '+string(R1)+ ' ohm')  //resistance\n",
"VBE=(0.7)\n",
"disp('VBE = '+string(VBE)+' volts') //  base-emitter voltage\n",
"BF=100\n",
"disp('BF = '+string(BF)+' ') //BJT gain\n",
"ICO=0\n",
"VBB=(VCC*R2)/(R1+R2)\n",
"disp('VBB = '+string(VBB)+' volts') // Base supply voltage \n",
"RB=(R1*R2)/(R1+R2)\n",
"disp('RB = (R1*R2)/(R1+R2)='+string(RB)+ ' ohm') // eqivalent base resistance\n",
"IC=[(BF*(VBB-VBE))/(RB+RL*(1+BF))] // collector  current\n",
"disp('IC = '+string(IC)+' ampere')\n",
"VE=IC*RL\n",
"disp('VE = '+string(VE)+' volts') //  emitter voltage\n",
"VB=VBE+VE\n",
"disp('VB = '+string(VB)+' volts') //  base voltage\n",
"VCB=VCC-VB\n",
"disp('VCB = '+string(VCB)+' volts') //  collector-base voltage\n",
"//hence BJT in active region."
   ]
   }
,
{
		   "cell_type": "markdown",
		   "metadata": {},
		   "source": [
			"## Example 3.9: find_forced_vaue_of_current_gain_for_BJT_in_saturation_region.sce"
		   ]
		  },
  {
"cell_type": "code",
	   "execution_count": null,
	   "metadata": {
	    "collapsed": true
	   },
	   "outputs": [],
"source": [
"//Ex3_9\n",
"clc\n",
"VCC=5\n",
"disp('VCC = '+string(VCC)+' volts') // collector supply voltage \n",
"RL=250\n",
"disp('RL= '+string(RL)+ ' ohm')  //initialization\n",
"RB=25*10^(3)\n",
"disp('RB ='+string(RB)+ ' ohm') //  base resistance\n",
"VCS=(0.2)\n",
"disp('VCS = '+string(VCS)+' volts') //   voltage\n",
"BF=200\n",
"disp('BF = '+string(BF)+' ') //BJT gain\n",
"VBS=(0.8)\n",
"disp('VBS = '+string(VBS)+' volts') //  base-emitter voltage for BJT switch\n",
"VI=5\n",
"disp('VI = '+string(VI)+' volts')// input voltage\n",
"VCON=0.3\n",
"disp('VCON = '+string(VCON)+' volts')\n",
"ICON=(VCC-VCON)/RL\n",
"disp('ICON = (VCC-VCON)/RL='+string(ICON)+' ampere')//collector current for saturated BJT\n",
"IBON=(ICON)/BF\n",
"disp('IBON = (ICON)/BF='+string(IBON)+' ampere')//Base current for saturated BJT\n",
"IBS=(VI-VBS)/RB\n",
"disp('IBS = (VI-VBS)/RB='+string(IBS)+' ampere')//Base-emitter current for  saturated BJT\n",
"ICS=(VCC-VCS)/RL\n",
"disp('ICS = (VCC-VCS)/RL='+string(ICS)+' ampere')//Collector-emitter current for  saturated BJT\n",
"Bforced=ICS/IBS\n",
"disp('Bforced = ICS/IBS='+string(Bforced)+' ') //BJT forced gain\n",
"//IBS>>IBON hence BJT in saturation\n",
"\n",
"\n",
""
   ]
   }
],
"metadata": {
		  "kernelspec": {
		   "display_name": "Scilab",
		   "language": "scilab",
		   "name": "scilab"
		  },
		  "language_info": {
		   "file_extension": ".sce",
		   "help_links": [
			{
			 "text": "MetaKernel Magics",
			 "url": "https://github.com/calysto/metakernel/blob/master/metakernel/magics/README.md"
			}
		   ],
		   "mimetype": "text/x-octave",
		   "name": "scilab",
		   "version": "0.7.1"
		  }
		 },
		 "nbformat": 4,
		 "nbformat_minor": 0
}
