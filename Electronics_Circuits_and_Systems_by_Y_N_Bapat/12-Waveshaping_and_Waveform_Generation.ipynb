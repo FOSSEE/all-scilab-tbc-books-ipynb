{
"cells": [
 {
		   "cell_type": "markdown",
	   "metadata": {},
	   "source": [
       "# Chapter 12: Waveshaping and Waveform Generation"
	   ]
	},
{
		   "cell_type": "markdown",
		   "metadata": {},
		   "source": [
			"## Example 12.1: Find_parameters_for_op_amp_based_schmitt_trigger.sce"
		   ]
		  },
  {
"cell_type": "code",
	   "execution_count": null,
	   "metadata": {
	    "collapsed": true
	   },
	   "outputs": [],
"source": [
"//Ex12_1\n",
"clc\n",
"VEE=15\n",
"disp('VEE= '+string(VEE)+' volts') //  voltage supply \n",
"VCC=15\n",
"disp('VCC= '+string(VCC)+' volts') //  voltage supply\n",
"VHI=+5\n",
"disp('VHI= '+string(VHI)+' volts') //  output voltage upper limit\n",
"VLO=-5\n",
"disp('VLO= '+string(VLO)+' volts') //  output voltage Lower limit\n",
"Vo=-VLO\n",
"IZmin=1*10^(-3)\n",
"disp('IZmin= '+string(IZmin)+' A') // Zener diode current rating\n",
"SR=0.5*10^(6)\n",
"disp('SR= '+string(SR)+' volts/seconds')//Slew rate\n",
"RB=100\n",
"disp('RB= '+string(RB)+ ' ohm')  // resistance\n",
"RA=10*10^(3) \n",
"disp('RA= '+string(RA)+ ' ohm')  // resistance\n",
"A = 5000\n",
"disp('A = '+string(A))//op-amp gain\n",
"VREF=1\n",
"disp('VREF= '+string(VREF)+' volts') // Reference- voltage \n",
"disp('part(i)')\n",
"RD=(VCC-Vo)/IZmin\n",
"disp('RD=(VCC-Vo)/IZmin= '+string(RD)+ ' ohm')  // Series dropping-resistance\n",
"\n",
"disp('part(ii)')\n",
"t=(VHI-VLO)/SR\n",
"disp('t=(VHI-VLO)/SR= '+string(t)+' seconds')// Time required to swing the output\n",
"tp=10*t\n",
"disp('tp=(VHI-VLO)/SR= '+string(tp)+' seconds')// Pulse width\n",
"fmax=1/(2*tp) \n",
"disp('fmax=1/(2*tp) = '+string(fmax)+' Hz')// Maximum frequency of operation of OP-AMP comparator\n",
"disp('part(iii)')\n",
"B=RB/(RA+RB)\n",
"disp('B=RB/(RA+RB)= '+string(B))//Feedback factor\n",
"VLTP=(VLO*B)+[VREF*(RA/(RA+RB))]\n",
"disp('VLTP=(VLO*B)+[VREF*(RA/(RA+RB))]= '+string(VLTP)+' volts') //   Lower trigger point\n",
"VUTP=(VHI*B)+[VREF*(RA/(RA+RB))]\n",
"disp('VUTP=(VHI*B)+[VREF*(RA/(RA+RB))]= '+string(VUTP)+' volts') // Upper trigger point\n",
"VH=VUTP-VLTP\n",
"disp('VH=VUTP-VLTP= '+string(VH)+' volts') //  Hysteresis voltage "
   ]
   }
,
{
		   "cell_type": "markdown",
		   "metadata": {},
		   "source": [
			"## Example 12.2: Calculate_component_values_for_astable_multivibrator.sce"
		   ]
		  },
  {
"cell_type": "code",
	   "execution_count": null,
	   "metadata": {
	    "collapsed": true
	   },
	   "outputs": [],
"source": [
"//Ex12_2\n",
"clc\n",
"Vo=14\n",
"disp('Vo= '+string(Vo)+' volts') //  output voltage\n",
"f=500 \n",
"disp('f = '+string(f)+' Hz')//frequency\n",
"IB2=500*10^(-9)\n",
"disp('IB2= '+string(IB2)+' A') //base- Current\n",
"B=0.5\n",
"disp('B='+string(B))//Feedback factor\n",
"vf=B*Vo\n",
"disp('vf=B*Vo= +'+string(vf)+', -'+string(vf)+' volts') // Feedback voltage\n",
"IR=100*IB2// Taking IR as 100 times that of IB2\n",
"disp('IR=100*IB2= '+string(IR)+' A') // Current in RB resistor\n",
"RB=vf/IR\n",
"disp('RB=vf/IR= '+string(RB)+ ' ohm')  // resistance\n",
"RA=RB*((1/B)-1)// Using formulae B=RA/(RA+RB)\n",
"disp('RA=RB*((1/B)-1)= '+string(RA)+ ' ohm')  // resistance\n",
"RF=100*10^(3)//Choosing RF=100k\n",
"disp('RF= '+string(RF)+ ' ohm')  //Feedback resistance\n",
"C1=1/[2*RF*f*log(1+(2*RB/RA))]\n",
"disp('C1=1/[2*RF*f*log(1+(2*RB/RA))]= '+string(C1)+' farad') // calculated capacitance value"
   ]
   }
,
{
		   "cell_type": "markdown",
		   "metadata": {},
		   "source": [
			"## Example 12.3: Find_capacitor_C2_for_triangular_wave_generator.sce"
		   ]
		  },
  {
"cell_type": "code",
	   "execution_count": null,
	   "metadata": {
	    "collapsed": true
	   },
	   "outputs": [],
"source": [
"//Ex12_3\n",
"clc\n",
"Vo=14\n",
"disp('Vo= '+string(Vo)+' volts') //  output voltage\n",
"f=500 \n",
"disp('f = '+string(f)+' Hz')//frequency\n",
"R2=10*10^(3)\n",
"disp('R2= '+string(R2)+ ' ohm')  // resistance\n",
"VTW=14\n",
"disp('VTW= '+string(VTW)+' volts') // Triangular peak-peak output voltage\n",
"T=1/f\n",
"C2=(Vo*T)/(2*VTW*R2)\n",
"disp('C2=(Vo*T)/(2*VTW*R2)= '+string(C2)+' farad') // calculated capacitance value for deriving triangular wave from square wave astable multivibrator"
   ]
   }
,
{
		   "cell_type": "markdown",
		   "metadata": {},
		   "source": [
			"## Example 12.4: Find_sweep_rate_and_amplitude_Vsw_for_sweep_generator.sce"
		   ]
		  },
  {
"cell_type": "code",
	   "execution_count": null,
	   "metadata": {
	    "collapsed": true
	   },
	   "outputs": [],
"source": [
"//Ex12_4\n",
"clc\n",
"VI=-15\n",
"disp('VI= '+string(VI)+' volts') //  Input voltage\n",
"TSW=2*10^(-3)\n",
"disp('TSW= '+string(TSW)+' seconds')// triangular wave Sweep time\n",
"R=10*10^(3)\n",
"disp('R= '+string(R)+ ' ohm')  // resistance as ckt. parameter\n",
"C=0.5*10^(-6)\n",
"disp('C= '+string(C)+' farad') //  capacitance as ckt. parameter\n",
"S=-VI/(R*C)\n",
"disp('Sweep rate=VI/(R*C)='+string(S)+ ' V/s') // Sweep rate for sweep generator\n",
"VSW=TSW*S\n",
"disp('VSW=TSW*S= '+string(VSW)+' volts') //   Sweep voltage amplitude\n",
"\n",
"\n",
"// note in book author has not provided any variable for sweep rate ... but here I have used 'S' for it ."
   ]
   }
,
{
		   "cell_type": "markdown",
		   "metadata": {},
		   "source": [
			"## Example 12.5: Find_parameters_for_feedback_op_amp_soft_limiter_circuit.sce"
		   ]
		  },
  {
"cell_type": "code",
	   "execution_count": null,
	   "metadata": {
	    "collapsed": true
	   },
	   "outputs": [],
"source": [
"//Ex12_5\n",
"clc\n",
"VEE=15\n",
"disp('VEE= '+string(VEE)+' volts') //  voltage supply \n",
"VCC=15\n",
"disp('VCC= '+string(VCC)+' volts') //  voltage supply\n",
"R1=10*10^(3)\n",
"disp('R1= '+string(R1)+ ' ohm')  // resistance\n",
"RF=20*10^(3) \n",
"disp('RF= '+string(RF)+ ' ohm')  // Feedback resistance\n",
"RB1=3*10^(3)\n",
"disp('R1= '+string(R1)+ ' ohm')  // resistance\n",
"RB2=RB1\n",
"RF1=1*10^(3) \n",
"disp('RF1= '+string(RF1)+ ' ohm')  // Feedback resistance\n",
"RF2=RF1\n",
"Av=1*10^(3)\n",
"disp('Av= '+string(Av))\n",
"disp('part(i)')\n",
"VBR1= (VCC*RF1)/RB1\n",
"VBR2 = VBR1\n",
"disp('VBR1=VBR2=(VCC*RF1)/RB1= '+string(VBR1)+' volts') //Limit values at the break points and VBR=VBR1=VBR2\n",
"So=-RF/R1\n",
"disp('So=-RF/R1= '+string(So))// slope of Transfer characteristic at zero crossings \n",
"S1=-(RF1/R1)\n",
"disp('S1=S2=-RF1/R1= '+string(S1))// slope of Transfer characteristic at the extreme ends\n",
"VSL=(-VBR1/So)\n",
"disp('VSL=VSU=(-VBR1/So)= '+string(VSL)+' volts') //  magnitude of input voltage required to produce vo=VBR\n",
"VSU=VSL\n",
"disp('part(ii)')\n",
"VSU=(VBR2/Av)//Formulae\n",
"disp('VSU=VSL=(VBR2/Av)= -'+string(VSU)+', +'+string(VSU)+' volts') //  magnitude of input voltage required to produce vo=VBR in case gain Av is very large"
   ]
   }
],
"metadata": {
		  "kernelspec": {
		   "display_name": "Scilab",
		   "language": "scilab",
		   "name": "scilab"
		  },
		  "language_info": {
		   "file_extension": ".sce",
		   "help_links": [
			{
			 "text": "MetaKernel Magics",
			 "url": "https://github.com/calysto/metakernel/blob/master/metakernel/magics/README.md"
			}
		   ],
		   "mimetype": "text/x-octave",
		   "name": "scilab",
		   "version": "0.7.1"
		  }
		 },
		 "nbformat": 4,
		 "nbformat_minor": 0
}
