{
"cells": [
 {
		   "cell_type": "markdown",
	   "metadata": {},
	   "source": [
       "# Chapter 10: Combinational Logic Systems"
	   ]
	},
{
		   "cell_type": "markdown",
		   "metadata": {},
		   "source": [
			"## Example 10.10: convert_binary_to_hexadecimal.sce"
		   ]
		  },
  {
"cell_type": "code",
	   "execution_count": null,
	   "metadata": {
	    "collapsed": true
	   },
	   "outputs": [],
"source": [
"//Ex10_10\n",
"clc\n",
"x='1001000';\n",
"disp('Binary number='+string(x))//binary value\n",
"d=bin2dec(x)//binary to decimal\n",
"h=dec2hex(d)//decimal to hexa decimal\n",
"disp('Eqivalent hexadecimal number='+string(h))"
   ]
   }
,
{
		   "cell_type": "markdown",
		   "metadata": {},
		   "source": [
			"## Example 10.11: Convert_decimal_to_BCD.sce"
		   ]
		  },
  {
"cell_type": "code",
	   "execution_count": null,
	   "metadata": {
	    "collapsed": true
	   },
	   "outputs": [],
"source": [
"//Ex10_11\n",
"//for two digit decimal value to convert into BCD\n",
"clc\n",
"x=72;\n",
"n=2// length of decimal input\n",
"f=10^(n-1)\n",
"z =int( x/f)            // taking MSB of input string\n",
"y=x-(z*10^(n-1))   // taking LSB of input string\n",
"disp('Decimal number='+string(x))\n",
"str1=dec2bin(z,4)// for 4 bit binary of MSB digit i.e 7 here\n",
"str2=dec2bin(y,4)//for 4 bit binary of LSB digit i.e 2 \n",
"disp(' Binary number of 7 ='+string(str1))\n",
"disp(' Binary number of 2 ='+string(str2))\n",
"disp('Eqivalent BCD of 72='+string(str1)+string(str2))// Binary coded decimal for  72\n",
""
   ]
   }
,
{
		   "cell_type": "markdown",
		   "metadata": {},
		   "source": [
			"## Example 10.1: Convert_decimal_to_binary.sce"
		   ]
		  },
  {
"cell_type": "code",
	   "execution_count": null,
	   "metadata": {
	    "collapsed": true
	   },
	   "outputs": [],
"source": [
"//Ex10_1\n",
"clc\n",
"x=72;//given value in Decimal\n",
"disp('Decimal number='+string(x))\n",
"str=dec2bin(x)\n",
"disp('Eqivalent Binary number='+string(str))//Binary value\n",
"\n",
"\n",
""
   ]
   }
,
{
		   "cell_type": "markdown",
		   "metadata": {},
		   "source": [
			"## Example 10.2: Convert_binary_to_decimal.sce"
		   ]
		  },
  {
"cell_type": "code",
	   "execution_count": null,
	   "metadata": {
	    "collapsed": true
	   },
	   "outputs": [],
"source": [
"//Ex10_2\n",
"clc\n",
"x='1001000';//Binary value\n",
"disp('Binary number='+string(x))\n",
"str=bin2dec(x)\n",
"disp('Eqivalent Decimal number='+string(str))//decimal value\n",
"\n",
"\n",
""
   ]
   }
,
{
		   "cell_type": "markdown",
		   "metadata": {},
		   "source": [
			"## Example 10.3: Convert_binary_to_octal.sce"
		   ]
		  },
  {
"cell_type": "code",
	   "execution_count": null,
	   "metadata": {
	    "collapsed": true
	   },
	   "outputs": [],
"source": [
"//Ex10_3\n",
"clc\n",
"b='1001000';\n",
"disp('Binary number='+string(b))//Binary value\n",
"d=bin2dec(b)// Binary to decimal value\n",
"o=dec2oct(d)// Decimal to octal\n",
"disp('Eqivalent Octal number='+string(o))\n",
"\n",
""
   ]
   }
,
{
		   "cell_type": "markdown",
		   "metadata": {},
		   "source": [
			"## Example 10.4: Convert_decimal_to_octal.sce"
		   ]
		  },
  {
"cell_type": "code",
	   "execution_count": null,
	   "metadata": {
	    "collapsed": true
	   },
	   "outputs": [],
"source": [
"//Ex10_4\n",
"clc\n",
"x=72;\n",
"disp('Decimal number='+string(x))//Decimal value\n",
"str=dec2oct(x)//decimal to octal\n",
"disp('Eqivalent Octal number='+string(str))\n",
"\n",
"\n",
""
   ]
   }
,
{
		   "cell_type": "markdown",
		   "metadata": {},
		   "source": [
			"## Example 10.5: Convert_octal_to_binary.sce"
		   ]
		  },
  {
"cell_type": "code",
	   "execution_count": null,
	   "metadata": {
	    "collapsed": true
	   },
	   "outputs": [],
"source": [
"//Ex10_5\n",
"clc\n",
"x='110';\n",
"disp('Octal number='+string(x))//octal value\n",
"y=oct2dec(x)// octal to decimal\n",
"str=dec2bin(y)//decimal to binary\n",
"disp('Eqivalent Binary number='+string(str))\n",
"\n",
""
   ]
   }
,
{
		   "cell_type": "markdown",
		   "metadata": {},
		   "source": [
			"## Example 10.6: Convert_octal_to_decimal.sce"
		   ]
		  },
  {
"cell_type": "code",
	   "execution_count": null,
	   "metadata": {
	    "collapsed": true
	   },
	   "outputs": [],
"source": [
"//Ex10_6\n",
"clc\n",
"x='110';\n",
"disp('Octal number='+string(x))// octal value\n",
"str=oct2dec(x)//octal to decimal\n",
"disp('Eqivalent Decimal number='+string(str))\n",
""
   ]
   }
,
{
		   "cell_type": "markdown",
		   "metadata": {},
		   "source": [
			"## Example 10.7: Convert_decimal_to_hexadecimal.sce"
		   ]
		  },
  {
"cell_type": "code",
	   "execution_count": null,
	   "metadata": {
	    "collapsed": true
	   },
	   "outputs": [],
"source": [
"//Ex10_7\n",
"clc\n",
"x=72;\n",
"disp('Decimal number='+string(x))//decimal value\n",
"str=dec2hex(x)// decimal to hexadecimal\n",
"disp('Eqivalent Hexadecimal number='+string(str))\n",
"\n",
""
   ]
   }
,
{
		   "cell_type": "markdown",
		   "metadata": {},
		   "source": [
			"## Example 10.8: Convert_hexadecimal_to_decimal.sce"
		   ]
		  },
  {
"cell_type": "code",
	   "execution_count": null,
	   "metadata": {
	    "collapsed": true
	   },
	   "outputs": [],
"source": [
"//Ex10_8\n",
"clc\n",
"h='48';\n",
"disp('Hexadecimal number='+string(h))// value in hexadecimal\n",
"d=hex2dec(h)//hexadecimal to decimal\n",
"disp('Eqivalent Decimal number='+string(d))"
   ]
   }
,
{
		   "cell_type": "markdown",
		   "metadata": {},
		   "source": [
			"## Example 10.9: Convert_hexadecimal_to_binary.sce"
		   ]
		  },
  {
"cell_type": "code",
	   "execution_count": null,
	   "metadata": {
	    "collapsed": true
	   },
	   "outputs": [],
"source": [
"//Ex10_9\n",
"clc\n",
"h='48';\n",
"disp('Hexadecimal number='+string(h))//hexadecimal\n",
"d=hex2dec(h)// converting hexadecimal to decimal\n",
"str=dec2bin(d)// converting decimal to binary\n",
"disp('Eqivalent Binary number='+string(str))"
   ]
   }
],
"metadata": {
		  "kernelspec": {
		   "display_name": "Scilab",
		   "language": "scilab",
		   "name": "scilab"
		  },
		  "language_info": {
		   "file_extension": ".sce",
		   "help_links": [
			{
			 "text": "MetaKernel Magics",
			 "url": "https://github.com/calysto/metakernel/blob/master/metakernel/magics/README.md"
			}
		   ],
		   "mimetype": "text/x-octave",
		   "name": "scilab",
		   "version": "0.7.1"
		  }
		 },
		 "nbformat": 4,
		 "nbformat_minor": 0
}
