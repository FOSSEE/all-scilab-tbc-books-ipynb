{
"cells": [
 {
		   "cell_type": "markdown",
	   "metadata": {},
	   "source": [
       "# Chapter 2: The Semiconductor diode"
	   ]
	},
{
		   "cell_type": "markdown",
		   "metadata": {},
		   "source": [
			"## Example 2.1: calculate_diode_current.sce"
		   ]
		  },
  {
"cell_type": "code",
	   "execution_count": null,
	   "metadata": {
	    "collapsed": true
	   },
	   "outputs": [],
"source": [
"//Ex2_1\n",
"clc\n",
"IR=50*10^(-9)\n",
"disp('IR = '+string(IR)+' ampere') // value of Reverse saturation current\n",
"VT=26*10^(-3)\n",
"disp(' Thermal voltage,VT= '+string(VT)+'volt')\n",
"VAK1=(-0.25)// diode junction voltage\n",
"disp('Junction voltage,VAK1='+string(VAK1)+'volt')\n",
"IA =IR*[exp(VAK1/(2*VT))-1]// formulae for diode current\n",
"disp('Diode current,IA =IR*(exp(VAK1/(2*VT))-1)= '+string(IR*(exp(VAK1/(2*VT))-1))+' ampere') // calculation\n",
"VAK2=(+0.25)\n",
"disp('Junction voltage,VAK2='+string(VAK2)+'volt')\n",
"IA =IR*[exp(VAK2/(2*VT))-1]\n",
"disp('Diode current,IA =IR*(exp(VAK2/(2*VT))-1)= '+string(IA)+' ampere') // calculation\n",
"VAK3=(+0.5)\n",
"disp('Junction voltage,VAK3='+string(VAK3)+'volt')\n",
"disp('Diode current,IA =IR*(exp(VAK3/(2*VT))-1)= '+string(IR*(exp(VAK3/(2*VT))-1))+' ampere') // calculation\n",
"VAK4=(+0.6)\n",
"disp('Junction voltage,VAK4='+string(VAK4)+'volt')\n",
"disp('Diode current,IA =IR*(exp(VAK4/(2*VT))-1)= '+string(IR*(exp(VAK4/(2*VT))-1))+' ampere') // calculation\n",
"VAK5=(+0.7)\n",
"disp('Junction voltage,VAK3='+string(VAK5)+'volt')\n",
"disp('Diode current,IA =IR*(exp(VAK5/(2*VT))-1)= '+string(IR*(exp(VAK5/(2*VT))-1))+' ampere') // calculation\n",
"VAK6=(+0.8)\n",
"disp('Junction voltage,VAK3='+string(VAK6)+'volt')\n",
"disp('Diode current,IA =IR*(exp(VAK6/(2*VT))-1)= '+string(IR*(exp(VAK6/(2*VT))-1))+' ampere') // calculation"
   ]
   }
,
{
		   "cell_type": "markdown",
		   "metadata": {},
		   "source": [
			"## Example 2.2: Diode_current_and_diode_junction_voltage_calculation.sce"
		   ]
		  },
  {
"cell_type": "code",
	   "execution_count": null,
	   "metadata": {
	    "collapsed": true
	   },
	   "outputs": [],
"source": [
"//Ex2_2\n",
"//refer to fig 2.1(c) ,fig.2.3(b) and fig.2.3(c)\n",
"clc\n",
"VF=5\n",
"disp('source voltage,VF = '+string(VF)+ ' volts')//initialization\n",
"VD=0.7\n",
"disp('voltage drop,VD = '+string(VD)+ ' volts')//initialization\n",
"R=5*10^(3)\n",
"disp('resistance,R = '+string(R)+ 'ohm')//initialization\n",
"RF=100\n",
"disp('resistance,R = '+string(RF)+ 'ohm')//initialization\n",
"VR=0.6\n",
"disp('VR = '+string(VR)+ ' volts')//initialization\n",
"IA=(VF-VD)/R //formulae\n",
"disp('Diode current ,IA = '+string(IA)+' ampere') // calculation\n",
"IA=(VF-VR)/(R+RF)// Formulae\n",
"disp(' using large signal model,IA = '+string(IA)+' ampere') // calculation\n",
"VAK=(VR+IA*RF)// Formulae\n",
"disp('Junction voltage,VAK ='+ string(VAK)+' volts')//calculation"
   ]
   }
,
{
		   "cell_type": "markdown",
		   "metadata": {},
		   "source": [
			"## Example 2.3: small_signal_forward_and_reverse_resistance.sce"
		   ]
		  },
  {
"cell_type": "code",
	   "execution_count": null,
	   "metadata": {
	    "collapsed": true
	   },
	   "outputs": [],
"source": [
"//Ex2_3\n",
"clc\n",
"VT=26*10^(-3)\n",
"disp(' Thermal voltage,VT= '+string(VT)+' volt')//initialization\n",
"IR=50*10^(-9)\n",
"disp('IR = '+string(IR)+' ampere') // value of Reverse saturation current\n",
"VAK1=(0.7)// diode junction voltage\n",
"disp('Junction voltage,VAK1='+string(VAK1)+' volt')//initialization\n",
"gf=(IR/(2*VT))*exp(VAK1/(2*VT))  //Formulae\n",
"disp('Forward conductance,gf='+string(gf)+' mho')\n",
"rf=1/gf  //Formulae\n",
"disp('Forward resistance,rf = '+string(rf)+ ' ohm')\n",
"VAK2=(-0.7)\n",
"gr=(IR/(2*VT))*exp(VAK2/(2*VT))  //Formulae\n",
"disp('Reverse conductance,gr='+string(gr)+' mho')\n",
"rr=1/gr  //Formulae\n",
"disp(' Reverse resistance,rr = '+string(rr)+ ' ohm')"
   ]
   }
,
{
		   "cell_type": "markdown",
		   "metadata": {},
		   "source": [
			"## Example 2.4: various_parameters_for_two_diode_rectifier.sce"
		   ]
		  },
  {
"cell_type": "code",
	   "execution_count": null,
	   "metadata": {
	    "collapsed": true
	   },
	   "outputs": [],
"source": [
"//Ex2_4\n",
"clc\n",
"Vi=10\n",
"disp('input voltage,Vi = '+string(Vi)+' volts')  //initialization\n",
"Rs=0.2\n",
"disp('resistance,Rs = '+string(Rs)+ 'ohm')  //initialization\n",
"RL=10\n",
"disp('resistance,RL = '+string(RL)+ 'ohm')  //initialization\n",
"VD=0.7\n",
"disp('input voltage,VD = '+string(VD)+' volts')  //initialization\n",
"Vim=Vi*sqrt(2)  //Formulae\n",
"Iim=(Vim-VD)/(RL+Rs)  //Formulae\n",
"disp(' Peak load current ,Iim =(Vim-VD)/(RL+Rs) ='+string(Iim)+' ampere') // calculation\n",
"Ildc=(2*Iim/(%pi))  //Formulae\n",
"disp(' D.C load current ,Ildc =(2*Iim/(%pi)) ='+string(Ildc)+' ampere') // calculation\n",
"Iadc=(Ildc/2)  //Formulae\n",
"disp(' diode d.c current ,Iadc =(Ildc/2)= '+string(Iadc)+' ampere') // calculation\n",
"PIV=2*Vim  //Formulae\n",
"disp('peak inverse voltage ,PIV = 2*Vim='+string(PIV)+' volts') // calculation\n",
"Vldc=Ildc*RL  //Formulae\n",
"disp('D.C output voltage,Vldc=Ildc*RL= '+string(Vldc)+' volts') // calculation\n",
""
   ]
   }
,
{
		   "cell_type": "markdown",
		   "metadata": {},
		   "source": [
			"## Example 2.5: calculation_of_resistance.sce"
		   ]
		  },
  {
"cell_type": "code",
	   "execution_count": null,
	   "metadata": {
	    "collapsed": true
	   },
	   "outputs": [],
"source": [
"//Ex2_5\n",
"clc\n",
"Idc=1*10^(-3)\n",
"disp(' D.C load current ,Idc = '+string(Idc)+' ampere') //initialization\n",
"Vi=2.5\n",
"disp('input voltage,Vi = '+string(Vi)+' volts')//initialization\n",
"Vim=Vi*sqrt(2)\n",
"VD=0.7\n",
"disp('voltage drop,VD = '+string(VD)+ ' volts') //initialization\n",
"Rm=50\n",
"disp('resistance,Rm = '+string(Rm)+ ' ohm') //initialization\n",
"R=[(2/%pi)*((Vim-2*VD)/Idc)-Rm] //Formulae\n",
"disp('resistance,R =[(2/%pi)*((Vim-2*VD)/Idc)-Rm]= '+string(R)+ ' ohm')\n",
"\n",
"// NOTE: VALUE OF R=1310 ohm as given in book but here calculated ans is 1309.5231ohm   "
   ]
   }
,
{
		   "cell_type": "markdown",
		   "metadata": {},
		   "source": [
			"## Example 2.6: full_wave_rectifier_parameters.sce"
		   ]
		  },
  {
"cell_type": "code",
	   "execution_count": null,
	   "metadata": {
	    "collapsed": true
	   },
	   "outputs": [],
"source": [
"//Ex2_6\n",
"clc\n",
"Vi=10\n",
"disp('input voltage,Vi = '+string(Vi)+' volts') //initialization\n",
"Vim=Vi*sqrt(2)\n",
"f1=50\n",
"disp('frequency,f1='+string(f1)+' hertz')  //initialization\n",
"RL=1100\n",
"disp('resistance,RL = '+string(RL)+ ' ohm')  //initialization\n",
"C=50*10^(-6)\n",
"r=1/[(4*sqrt(3))*f1*RL*C] // Formulae\n",
"disp('Ripple factor,r = '+string(r)+'')\n",
"x=1/(4*f1*RL*C) // Formulae\n",
"VLDC=Vim/(1+x) // Formulae\n",
"disp('output voltage,VLDC = VLDC=Vim/(1+x)='+string(VLDC)+' volts') //calculation\n",
"VR=(Vim-VLDC)/(VLDC) // Formulae\n",
"disp(' voltage Regulation,VR =(Vim-VLDC)/(VLDC)= '+string(VR)+' volts')  //calculation\n",
"Vr=VLDC*r // Formulae\n",
"disp('Ripple output voltage,Vr = Vr=VLDC*r='+string(Vr)+' volts')//calculation"
   ]
   }
,
{
		   "cell_type": "markdown",
		   "metadata": {},
		   "source": [
			"## Example 2.7: Zener_diode_parameters.sce"
		   ]
		  },
  {
"cell_type": "code",
	   "execution_count": null,
	   "metadata": {
	    "collapsed": true
	   },
	   "outputs": [],
"source": [
"//Ex2_7\n",
"clc\n",
"VI=10\n",
"disp('input voltage,VI = '+string(VI)+' volts') //initialization\n",
"Vz=5\n",
"disp('diode voltage,Vz = '+string(Vz)+' volts') //initialization\n",
"Rz=100\n",
"disp('resistance,Rz = '+string(Rz)+ ' ohm')  //initialization\n",
"RD=500\n",
"disp('resistance,RD = '+string(RD)+ ' ohm')  //initialization\n",
"DVI=25\n",
"disp('percentage change in VI,DVI= '+string(DVI)+' volts') //initialization\n",
"DVL=(DVI)*(Rz/(RD+Rz))  //Formulae\n",
"disp('percentage change in VL,DVL=(DVI)*(Rz/(RD+Rz))= '+string(DVL)+' %')\n",
"R0=(RD*Rz)/(RD+Rz) //Formulae\n",
"disp('Output resistance,R0 =(RD*Rz)/(RD+Rz)= '+string(R0)+ ' ohm')\n",
"VImax=12.5\n",
"Izmax=(VImax-Vz)/(RD+Rz) //Formulae\n",
"disp('resistance,RD = '+string(RD)+ ' ohm')\n",
"PZmax=(Izmax*Vz)  //Formulae\n",
"disp('Power dissipated,PZmax =PZmax=(Izmax*Vz)= '+string(PZmax)+ ' watt')\n",
"Prd=(Izmax*Izmax*RD)  //Formulae\n",
"disp('Power dissipated,Prd=Prd=(Izmax*Izmax*RD)= '+string(Prd)+ ' watt')\n",
"PD=(PZmax+Prd)  //Formulae\n",
"disp('Power dissipated,PD = '+string(PD)+ ' watt')\n",
"RL=0.5*(10^3)\n",
"disp('resistance,RL = '+string(RL)+ ' ohm') //initialization\n",
"%VR=(R0*100)/RL  //Formulae\n",
"disp(' voltage Regulation Percentage,%VR =(R0/RL)*(100)= '+string(%VR)+'% ')"
   ]
   }
,
{
		   "cell_type": "markdown",
		   "metadata": {},
		   "source": [
			"## Example 2.8: reference_voltage_and_temperature_coefficient.sce"
		   ]
		  },
  {
"cell_type": "code",
	   "execution_count": null,
	   "metadata": {
	    "collapsed": true
	   },
	   "outputs": [],
"source": [
"//Ex2_8\n",
"clc\n",
"Vz=10 //initialization\n",
"disp('diode voltage,Vz = '+string(Vz)+' volts')\n",
"TC1=(10*0.02)/(100) //calculation\n",
"disp(' Zener diode TC1 = '+string(TC1)+' V/degree celsius')\n",
"VD=0.7\n",
"disp(' voltage drop,VD = '+string(VD)+' volts')\n",
"TC2=(-2.5*10^(-3))  //calculation\n",
"disp('Si diode TC = '+string(TC2)+' V/degree celsius')\n",
"Vref1=VD+Vz\n",
"disp('Combined voltage ,Vref=VD+Vz= '+string(Vref1)+' volts')\n",
"TC3=(TC1+TC2) //calculation\n",
"disp(' Combined TC = '+string(TC3)+' V/degree celsius')\n",
"TC=(TC1+TC2)*100/(Vref1) //calculation\n",
"disp('New Combined TC = (TC1+TC2)*100/(Vref1)='+string(TC)+' percent/degree celsius')\n",
"T1=25//temperature\n",
"T2=50// new temperature\n",
"Vref=Vref1-((-TC3)*(T2-T1))//calculation\n",
"disp('New Combined reference voltage ,Vref= Vref1-((-TC3)*(T2-T1))='+string(Vref)+' volts')"
   ]
   }
,
{
		   "cell_type": "markdown",
		   "metadata": {},
		   "source": [
			"## Example 2.9: load_voltage_and_current.sce"
		   ]
		  },
  {
"cell_type": "code",
	   "execution_count": null,
	   "metadata": {
	    "collapsed": true
	   },
	   "outputs": [],
"source": [
"//Ex2_9\n",
"clc\n",
"Vi1=0.2\n",
"disp('input voltage,Vi1 = '+string(Vi1)+' volts') //initialization\n",
"VD=0.7\n",
"disp(' voltage drop,VD = '+string(VD)+' volts') //initialization\n",
"RL=5*(10^3)\n",
"disp('resistance,RL = '+string(RL)+ ' ohm') //initialization\n",
"Vcc=5\n",
"disp('Supply voltage,Vcc = '+string(Vcc)+' volts')\n",
"V01=VD+Vi1 //Formulae\n",
"disp('output voltage ,V01 ==VD+Vi1 = '+string(V01)+' volts') \n",
"IL1=(Vcc-V01)/RL //Formulae\n",
"disp(' output current ,IL1=IL1=(Vcc-V01)/RL = '+string(IL1)+' ampere') // calculation\n",
"Vi2=5\n",
"disp('input voltage,Vi2 = '+string(Vi2)+' volts') //initialization\n",
"V02=3*VD //Formulae\n",
"disp('output voltage ,V02 =3*VD= '+string(V02)+' volts')\n",
"IL2=(Vcc-V02)/RL //Formulae\n",
"disp(' output current ,IL2= IL2=(Vcc-V02)/RL = '+string(IL2)+' ampere') // calculation\n",
"VAK=V02-Vi2 //Formulae\n",
"disp(' Diode voltage ,VAK = V02-Vi2 = '+string(VAK)+' volts')\n",
"\n",
"//NOTE:correct value of IL2=0.58 mA but in book given as 0.592mA"
   ]
   }
],
"metadata": {
		  "kernelspec": {
		   "display_name": "Scilab",
		   "language": "scilab",
		   "name": "scilab"
		  },
		  "language_info": {
		   "file_extension": ".sce",
		   "help_links": [
			{
			 "text": "MetaKernel Magics",
			 "url": "https://github.com/calysto/metakernel/blob/master/metakernel/magics/README.md"
			}
		   ],
		   "mimetype": "text/x-octave",
		   "name": "scilab",
		   "version": "0.7.1"
		  }
		 },
		 "nbformat": 4,
		 "nbformat_minor": 0
}
