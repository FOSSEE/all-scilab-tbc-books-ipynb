{
"cells": [
 {
		   "cell_type": "markdown",
	   "metadata": {},
	   "source": [
       "# Chapter 13: Non Linear Analog Systems"
	   ]
	},
{
		   "cell_type": "markdown",
		   "metadata": {},
		   "source": [
			"## Example 13.1: output_voltage_for_log_amplifier.sce"
		   ]
		  },
  {
"cell_type": "code",
	   "execution_count": null,
	   "metadata": {
	    "collapsed": true
	   },
	   "outputs": [],
"source": [
"//Ex13_1\n",
"clc\n",
"VT=26*10^(-3)\n",
"disp('VT= '+string(VT)+' volts') // Thermal voltage \n",
"R1=5*10^(3)\n",
"disp('R1= '+string(R1)+ ' ohm')  // resistance\n",
"Iso=1*10^(-10)\n",
"disp(' Iso = '+string(Iso)+' ampere') // Scale factor (as current)directly proportional to cross-section area of EBJ \n",
"\n",
"disp('part(i)')\n",
"vs=1*10^(-3)\n",
"disp('vs= '+string(vs)+' volts') // Input voltage1\n",
"vo=-VT*[log(vs/(Iso*R1))]\n",
"disp('vo=-VT*[log(vs/(Iso*R1))]= '+string(vo)+' volts') // Output voltage of Log OP-AMP for input1 i.e vs = 1 mV\n",
"\n",
"disp('part(ii)')\n",
"vs=10*10^(-3)\n",
"disp('vs= '+string(vs)+' volts') // Input voltage2\n",
"vo=-VT*[log(vs/(Iso*R1))]\n",
"disp('vo=-VT*[log(vs/(Iso*R1))]= '+string(vo)+' volts') // Output voltage of Log OP-AMP for input1 i.e vs = 10 mV\n",
"\n",
"disp('part(iii)')\n",
"vs=100*10^(-3)\n",
"disp('vs= '+string(vs)+' volts') // Input voltage3\n",
"vo=-VT*[log(vs/(Iso*R1))]\n",
"disp('vo=-VT*[log(vs/(Iso*R1))]= '+string(vo)+' volts') // Output voltage of Log OP-AMP for input1 i.e vs = 100 mV\n",
"\n",
"disp('part(iv)')\n",
"vs=1\n",
"disp('vs= '+string(vs)+' volts') // Input voltage4\n",
"vo=-VT*[log(vs/(Iso*R1))]\n",
"disp('vo=-VT*[log(vs/(Iso*R1))]= '+string(vo)+' volts') // Output voltage of Log OP-AMP for input1 i.e vs = 1V"
   ]
   }
,
{
		   "cell_type": "markdown",
		   "metadata": {},
		   "source": [
			"## Example 13.2: output_voltage_for_log_amplifier.sce"
		   ]
		  },
  {
"cell_type": "code",
	   "execution_count": null,
	   "metadata": {
	    "collapsed": true
	   },
	   "outputs": [],
"source": [
"//Ex13_2\n",
"clc\n",
"VT=26*10^(-3)\n",
"disp('VT= '+string(VT)+' volts') // Thermal voltage \n",
"R1=100*10^(3)\n",
"disp('R1= '+string(R1)+ ' ohm')  // resistance\n",
"Iso=50*10^(-9)\n",
"disp(' Iso = '+string(Iso)+' ampere') // Scale factor (as current)directly proportional to cross-section area of EBJ \n",
"vs=2.5\n",
"disp('vs= '+string(vs)+' volts') // Input voltage\n",
"vo=-VT*[log(vs/(Iso*R1))]\n",
"disp('vo=-VT*[log(vs/(Iso*R1))]= '+string(vo)+' volts') // Output voltage of Log OP-AMP for input1 i.e vs = 2.5 V"
   ]
   }
,
{
		   "cell_type": "markdown",
		   "metadata": {},
		   "source": [
			"## Example 13.3: output_for_antilog_amplifier.sce"
		   ]
		  },
  {
"cell_type": "code",
	   "execution_count": null,
	   "metadata": {
	    "collapsed": true
	   },
	   "outputs": [],
"source": [
"//Ex13_3\n",
"clc\n",
"VT=26*10^(-3)\n",
"disp('VT= '+string(VT)+' volts') // Thermal voltage \n",
"RF=100*10^(3)\n",
"disp('RF= '+string(RF)+ ' ohm')  // resistance\n",
"Iso=50*10^(-9)\n",
"disp(' Iso = '+string(Iso)+' ampere') // Scale factor (as current)directly proportional to cross-section area of EBJ \n",
"vs=-0.162\n",
"disp('vs= '+string(vs)+' volts') // Input voltage\n",
"vo=Iso*RF*(exp(-vs/VT))\n",
"disp('vo=Iso*RF*(exp(-vs/VT))= '+string(vo)+' volts') // Output voltage of Antilog OP-AMP for input1 i.e vs = -0.162 V"
   ]
   }
],
"metadata": {
		  "kernelspec": {
		   "display_name": "Scilab",
		   "language": "scilab",
		   "name": "scilab"
		  },
		  "language_info": {
		   "file_extension": ".sce",
		   "help_links": [
			{
			 "text": "MetaKernel Magics",
			 "url": "https://github.com/calysto/metakernel/blob/master/metakernel/magics/README.md"
			}
		   ],
		   "mimetype": "text/x-octave",
		   "name": "scilab",
		   "version": "0.7.1"
		  }
		 },
		 "nbformat": 4,
		 "nbformat_minor": 0
}
