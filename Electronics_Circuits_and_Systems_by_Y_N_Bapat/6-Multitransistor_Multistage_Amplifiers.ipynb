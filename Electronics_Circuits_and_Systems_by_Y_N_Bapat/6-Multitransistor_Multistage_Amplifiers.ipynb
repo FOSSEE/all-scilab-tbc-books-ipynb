{
"cells": [
 {
		   "cell_type": "markdown",
	   "metadata": {},
	   "source": [
       "# Chapter 6: Multitransistor Multistage Amplifiers"
	   ]
	},
{
		   "cell_type": "markdown",
		   "metadata": {},
		   "source": [
			"## Example 6.1: Express_voltage_gains_in_decibels.sce"
		   ]
		  },
  {
"cell_type": "code",
	   "execution_count": null,
	   "metadata": {
	    "collapsed": true
	   },
	   "outputs": [],
"source": [
"//Ex6_1\n",
"clc\n",
"Av=0.1\n",
"disp('Av= '+string(Av)) //Voltage gain\n",
"AvdB=20*log10(Av)\n",
"disp('Av(dB)=20*log10(Av)= '+string(AvdB)+'dB ') //Voltage gain in decibel\n",
"Av=0.707\n",
"disp('Av= '+string(Av)) //Voltage gain\n",
"AvdB=20*log10(Av)\n",
"disp('Av(dB)=20*log10(Av)= '+string(AvdB)+'dB ') //Voltage gain in decibel\n",
"Av=1\n",
"disp('Av= '+string(Av)) //Voltage gain\n",
"AvdB=20*log10(Av)\n",
"disp('Av(dB)=20*log10(Av)= '+string(AvdB)+'dB ') //Voltage gain in decibel\n",
"Av=10\n",
"disp('Av= '+string(Av)) //Voltage gain\n",
"AvdB=20*log10(Av)\n",
"disp('Av(dB)=20*log10(Av)= '+string(AvdB)+'dB ') //Voltage gain in decibel\n",
"Av=100\n",
"disp('Av= '+string(Av)) //Voltage gain\n",
"AvdB=20*log10(Av)\n",
"disp('Av(dB)=20*log10(Av)= '+string(AvdB)+'dB ') //Voltage gain in decibel\n",
"Av=1000\n",
"disp('Av= '+string(Av)) //Voltage gain\n",
"AvdB=20*log10(Av)\n",
"disp('Av(dB)=20*log10(Av)= '+string(AvdB)+'dB ') //Voltage gain in decibel\n",
"//NOTE:calculated voltage gain in dB for Av=0.707 is -3.0116117dB    "
   ]
   }
,
{
		   "cell_type": "markdown",
		   "metadata": {},
		   "source": [
			"## Example 6.2: Find_voltage_gain_Av_and_current_gain_Ai_and_power_gain_Ap_for_amplifier.sce"
		   ]
		  },
  {
"cell_type": "code",
	   "execution_count": null,
	   "metadata": {
	    "collapsed": true
	   },
	   "outputs": [],
"source": [
"//Ex6_2\n",
"clc\n",
"Ri=0.5*10^(3)\n",
"disp('Ri= '+string(Ri)+ ' ohm')  // Amplifier input resistance\n",
"RL=0.05*10^(3)\n",
"disp('RL= '+string(RL)+ ' ohm')  // Load resistance\n",
"Vom=1\n",
"disp('Vom= '+string(Vom)+' volts') // Output voltage \n",
"Vo=Vom/sqrt(2)//RMS value of Output voltage \n",
"Vim=1*10^(-3)\n",
"disp('Vim= '+string(Vim)+' volts') // Peak Input voltage\n",
"Vi=Vim/sqrt(2)//RMS Input voltage \n",
"Av=20*log10(Vo/Vi)\n",
"disp('Av(in dB)=20*log10(Vo/Vi)= '+string(Av)+' dB ') //Voltage gain in decibel\n",
"Iim=Vim/Ri\n",
"disp('Iim= Vim/Ri= '+string(Iim)+' A') // Input peak current\n",
"Ii=Iim/sqrt(2) //RMS value of input current\n",
"Iom=Vom/RL \n",
"disp('Iom= Vom/RL= '+string(Iom)+' A') // Output peak current\n",
"Io=Iom/sqrt(2) //RMS value of Output current\n",
"Ai=20*log10(Io/Ii)\n",
"disp('Ai=20*log10(Io/Ii)= '+string(Ai)+' dB ') //Current gain in decibel\n",
"pi=Vi^2/Ri\n",
"disp('pi= Vi^2/Ri= '+string(pi)+' W') // Input power \n",
"po=Vo^2/RL\n",
"disp('po= Vo^2/RL= '+string(po)+' W') // Output power \n",
"Ap=10*log10(po/pi)\n",
"disp('Ap=10*log10(po/pi)= '+string(Ap)+' dB ') //Power gain in decibel\n",
"\n",
"\n",
""
   ]
   }
,
{
		   "cell_type": "markdown",
		   "metadata": {},
		   "source": [
			"## Example 6.3: EX6_3.sce"
		   ]
		  },
  {
"cell_type": "code",
	   "execution_count": null,
	   "metadata": {
	    "collapsed": true
	   },
	   "outputs": [],
"source": [
"//Ex6_3\n",
"clc\n",
"RL=1*10^(3)\n",
"disp('RL= '+string(RL)+ ' ohm')  //Load resistance\n",
"RF=500*10^(3)\n",
"disp('RF= '+string(RF)+ ' ohm')  //Feedback resistance\n",
"Beta_o=50\n",
"disp('Beta_o = '+string(Beta_o)) //BJT gain\n",
"rbe=1*10^(3)\n",
"disp('rbe= '+string(rbe)+ ' ohm')  //Base-emitter resistance\n",
"gm=50*10^(-3)\n",
"disp('gm = '+string(gm)+' A/V')//  transconductance for BJT \n",
"rc=50*10^(3)\n",
"disp('rc= '+string(rc)+ ' ohm')  //collector resistance\n",
"disp('part(i)')\n",
"Adm1=(-gm*RL)\n",
"disp('Adm1=(-gm*RL)= '+string(Adm1)) // Differential mode gain for BJT for DIDO and SIDO modes\n",
"Adm2=(0.5*gm*RL)\n",
"disp('Adm2=(0.5*gm*RL)= '+string(Adm2)) // Differential mode gain for BJT for DISO and SISO modes\n",
"Rid=2*rbe\n",
"disp('Rid=2*rbe= '+string(Rid)+ ' ohm')  //input differential mode resistance\n",
"Acm=(-RL)/(2*RF)\n",
"disp('Acm=(-RL)/(2*RF)= '+string(Acm)) // Common mode gain for BJT for DISO and SISO modes\n",
"Ric=Beta_o*RF\n",
"disp('Ric=Beta_o*RF= '+string(Ric)+ ' ohm')  // common mode input resistance\n",
"CMRR=2*gm*RF\n",
"disp('CMRR=2*gm*RF= '+string(CMRR))  // common mode rejection ratio\n",
"disp('part(ii)')\n",
"Vi1=(-0.5)*10^(-3)\n",
"disp('Vi1= '+string(Vi1)+' volts') // input voltage1 \n",
"Vi2=(+0.5)*10^(-3)\n",
"disp('Vi2= '+string(Vi2)+' volts') // input voltage2\n",
"Vcm=(10)*10^(-3)\n",
"disp('Vcm= '+string(Vcm)+' volts') // common mode voltage\n",
"Vd=Vi1-Vi2\n",
"disp('Vd=Vi1-Vi2= '+string(Vd)+' volts') // differential voltage\n",
"Vod=abs(Vd*Adm2)\n",
"disp('Vod=abs(Vd*Adm2)= '+string(Vod)+' volts') // output differential voltage for DISO and SISO modes\n",
"Voc=abs(Vcm*Acm)\n",
"disp('Voc=abs(Vcm*Acm)= '+string(Voc)+' volts') // output common mode  voltage\n",
"Error=(Voc/Vod)*100\n",
"disp('percentage error=(Voc/Vod)*100= '+string(Error)+'%')//percentage error due to CM signal\n",
"disp('part(iii)')\n",
"RLeff=(RL*Rid)/(RL+Rid)\n",
"disp('RLeff=(RL*Rid)/(RL+Rid)= '+string(RLeff)+ ' ohm')  // Effective load resistance\n",
"Adm=gm*RLeff\n",
"disp('Adm=gm*RLeff= '+string(Adm)) // Modified Differential mode gain for BJT for DIDO and SIDO modes\n",
"Acm=(-RLeff)/(2*RF)\n",
"disp('Acm=(-RLeff)/(2*RF)= '+string(Acm)) // Modified Common mode gain for BJT for DISO and SISO modes\n",
"CMRR=abs(Adm/(Acm))\n",
"disp('CMRR=abs(Adm/(Acm))= '+string(CMRR))  // Modified common mode rejection ratio\n",
"//NOTE:  In Book, Formulae used for Acm in part(iii) is written as Acm=(-RL)/(2*RF)but ans is calculated by using RLeff in place of RL.So i have written formulae as Acm=(-RLeff)/(2*RF) in programming.\n",
"// Assigned variable name: in part(i) Adm for DIDO and SIDO modes is represented by Adm1 and Adm for DISO and SISO modes is represented by Adm2 to resist any anamoly in the programming."
   ]
   }
,
{
		   "cell_type": "markdown",
		   "metadata": {},
		   "source": [
			"## Example 6.4: EX6_4.sce"
		   ]
		  },
  {
"cell_type": "code",
	   "execution_count": null,
	   "metadata": {
	    "collapsed": true
	   },
	   "outputs": [],
"source": [
"//Ex6_4\n",
"clc\n",
"VCC=(10)\n",
"disp('VCC= '+string(VCC)+' volts') // Collector voltage supply\n",
"VEE=VCC\n",
"disp('VEE=VCC= '+string(VEE)+' volts') // Emitter supply voltage\n",
"IQ=2*10^(-3)\n",
"disp('IQ = '+string(IQ)+' ampere') //  operating current for CC class-Aamplifier\n",
"VBE=(0.7)\n",
"disp('VBE= '+string(VBE)+' volts') // Base-emitter voltage \n",
"disp('part(i)')\n",
"RL=VCC/IQ\n",
"disp('RL=VCC/IQ= '+string(RL)+ ' ohm')  //Load resistance\n",
"Pomax=VCC^2/(2*RL)\n",
"disp('Pomax=VCC^2/(2*RL)= '+string(Pomax)+' W') // maximum Output power \n",
"PDC=2*VCC*IQ\n",
"disp('PDC=2*VCC*IQ= '+string(PDC)+' W') // Total D.C power supply\n",
"Etta_max=(Pomax/PDC)*100\n",
"disp('Efficiency,Etta_max=(Pomax/PDC)*100= '+string(Etta_max)+'%') //maximum power amplifier conversion efficiency\n",
"PDmax=VCC*IQ\n",
"disp('PDmax=VCC*IQ= '+string(PDmax)+' W') // maximum power dissipation \n",
"disp('part(ii)')\n",
"Vcm=(5)\n",
"disp('Vcm= '+string(Vcm)+' volts') // common mode voltage\n",
"Po=Vcm^2/(2*RL)\n",
"disp('Po=Vcm^2/(2*RL)= '+string(Po)+' W') // Output power \n",
"Etta=(Po/PDC)*100\n",
"disp('Efficiency,Etta=(Po/PDC)*100= '+string(Etta)+' %') // power amplifier conversion efficiency\n",
"PDCavg=PDmax-Po//Using law of conservation of energy\n",
"disp('PDCavg=PDmax-Po= '+string(PDCavg)+' W') // Average power dissipated in BJT"
   ]
   }
,
{
		   "cell_type": "markdown",
		   "metadata": {},
		   "source": [
			"## Example 6.5: EX6_5.sce"
		   ]
		  },
  {
"cell_type": "code",
	   "execution_count": null,
	   "metadata": {
	    "collapsed": true
	   },
	   "outputs": [],
"source": [
"//Ex6_5 \n",
"// For  class-AB BJT amplifier\n",
"clc\n",
"VCC=(10)\n",
"disp('VCC= '+string(VCC)+' volts') // Collector voltage supply\n",
"VEE=VCC\n",
"disp('VEE=VCC= '+string(VEE)+' volts') // Emitter supply voltage\n",
"ICQ_0=10*10^(-3)\n",
"disp('ICQ_0 = '+string(ICQ_0)+' ampere') //  Zero signal collector current\n",
"RL=5\n",
"disp('RL= '+string(RL)+ ' ohm')  //Load resistance\n",
"disp('part(i)')\n",
"Po=0// Since Output power at Zero signal condition is Zero\n",
"disp('Po='+string(Po)+' W') // Output power at Zero signal condition\n",
"PDC=2*VCC*ICQ_0\n",
"disp('PDC=2*VCC*ICQ_0= '+string(PDC)+' W') // Total D.C power supply for Zero signal condition\n",
"disp('part(ii)')\n",
"Vcm=VCC//For Full output voltage swing Vcm=VCC\n",
"disp('Vcm=VCC =' +string(Vcm)+' volts') // common mode voltage for full swing condition\n",
"Icm=VCC/RL\n",
"disp('Icm = VCC/RL='+string(Icm)+' ampere') // common mode current\n",
"Po=(1/2)*(Icm*Vcm)\n",
"disp('Po=(1/2)*(Icm*Vcm)='+string(Po)+' W') // Output power at full swing condition\n",
"ICavg=(Icm)/(%pi)\n",
"disp('ICavg=(Icm)/(%pi)='+string(ICavg)+' ampere') //  Average value of common mode current\n",
"PDC=2*(ICavg*VCC)\n",
"disp('PDC=2*VCC*ICavg= '+string(PDC)+' W') // Total D.C power supply for full swing condition\n",
"Etta=(Po/PDC)*100\n",
"disp('Efficiency,Etta=(Po/PDC)*100= '+string(Etta)+' %') // power amplifier conversion efficiency\n",
"disp('part(iii)')\n",
"Vcm1=(5)//given value\n",
"disp('Vcm1= '+string(Vcm1)+' volts') // common mode voltage for output swing Vcm=5 V\n",
"ICavg1=(Vcm1)/(%pi*RL)\n",
"disp('ICavg1=(Vcm1)/(%pi*RL)='+string(ICavg1)+' ampere') //  Average value of common mode current\n",
"Po1=(Vcm1^2)/(2*RL)\n",
"disp('Po1=(Vcm1^2)/(2*RL)='+string(Po1)+' W') // Output power for output swing Vcm=5 V\n",
"PDC1=2*(ICavg1*VCC)\n",
"disp('PDC1=2*VCC*ICavg1= '+string(PDC1)+' W') // Total D.C power supply for  output swing Vcm=5 V\n",
"Etta=(Po1/PDC1)*100\n",
"disp('Efficiency,Etta=(Po1/PDC1)*100= '+string(Etta)+' %') // power amplifier conversion efficiency for output swing Vcm=5 V\n",
"// NOTE:Correct value of Efficiency,Etta=(Po1/PDC1)*100= 39.269908 % for part(iii) but book ans is 39.31%(because of approximation used during calculation)"
   ]
   }
,
{
		   "cell_type": "markdown",
		   "metadata": {},
		   "source": [
			"## Example 6.6: Find_maximum_difference_voltage_Vdmax_for_op_amp_without_feedback.sce"
		   ]
		  },
  {
"cell_type": "code",
	   "execution_count": null,
	   "metadata": {
	    "collapsed": true
	   },
	   "outputs": [],
"source": [
"//Ex6_6\n",
"clc\n",
"Av=1*10^(5)\n",
"disp('Av= '+string(Av)) //Voltage gain\n",
"VCC=(10)\n",
"disp('VCC= '+string(VCC)+' volts') // Collector voltage supply\n",
"vo=VCC\n",
"disp('vo= VCC='+string(vo)+' volts') // maximum output voltage\n",
"Vdmax=VCC/Av\n",
"disp('Vdmax= VCC/Av='+string(Vdmax)+' volts') // Difference input voltage at OP-amp terminals\n",
""
   ]
   }
],
"metadata": {
		  "kernelspec": {
		   "display_name": "Scilab",
		   "language": "scilab",
		   "name": "scilab"
		  },
		  "language_info": {
		   "file_extension": ".sce",
		   "help_links": [
			{
			 "text": "MetaKernel Magics",
			 "url": "https://github.com/calysto/metakernel/blob/master/metakernel/magics/README.md"
			}
		   ],
		   "mimetype": "text/x-octave",
		   "name": "scilab",
		   "version": "0.7.1"
		  }
		 },
		 "nbformat": 4,
		 "nbformat_minor": 0
}
