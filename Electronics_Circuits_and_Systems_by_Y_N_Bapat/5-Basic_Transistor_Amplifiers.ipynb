{
"cells": [
 {
		   "cell_type": "markdown",
	   "metadata": {},
	   "source": [
       "# Chapter 5: Basic Transistor Amplifiers"
	   ]
	},
{
		   "cell_type": "markdown",
		   "metadata": {},
		   "source": [
			"## Example 5.1: EX5_1.sce"
		   ]
		  },
  {
"cell_type": "code",
	   "execution_count": null,
	   "metadata": {
	    "collapsed": true
	   },
	   "outputs": [],
"source": [
"//Ex5_1\n",
"clc\n",
"RL=5*10^(3)\n",
"disp('RL= '+string(RL)+ ' ohm')  //Load resistance\n",
"R1=100*10^(3)\n",
"disp('R1= '+string(R1)+ ' ohm')  // resistance\n",
"R2=10*10^(3)\n",
"disp('R2= '+string(R2)+ ' ohm')  // resistance\n",
"rc=50*10^(3)\n",
"disp('rc= '+string(rc)+ ' ohm')  //collector resistance\n",
"rd=rc // Drain and collector  resistance are equal\n",
"rbe=1*10^(3)\n",
"disp('rbe= '+string(rbe)+ ' ohm')  //Load resistance\n",
"gm=50*10^(-3)\n",
"disp('gm = '+string(gm)+' A/V')//  transconductance for BJT \n",
"Av=(-gm*RL)\n",
"disp('For BJT,Av=(-gm*RL)= '+string(Av)) //Voltage gain for BJT\n",
"AI=gm*rbe\n",
"disp('AI=(gm*rbe)= '+string(AI)) // current gain for BJT\n",
"gm=5*10^(-3)\n",
"disp('gm = '+string(gm)+' A/V')//  transconductance for FET \n",
"Av=(-gm*RL)\n",
"disp('For FET,Av=(-gm*RL)= '+string(Av)+ ' ') // gain for FET\n",
"R0=rd\n",
"disp('R0= '+string(R0)+ ' ohm')  //output resistance for FET and BJT\n",
"Ri=rbe\n",
"disp('Ri= '+string(Ri)+ ' ohm')  //BJT input resistance \n",
"RB=(R1*R2)/(R1+R2)\n",
"disp('RB=(R1*R2)/(R1+R2)= '+string(RB)+ ' ohm')  // eqivalent Base resistance for  BJT\n",
"Ri=(RB*rbe)/(RB+rbe)\n",
"disp('Ri= (RB*rbe)/(RB+rbe)='+string(Ri)+ ' ohm')  //New value of BJT input resistance "
   ]
   }
,
{
		   "cell_type": "markdown",
		   "metadata": {},
		   "source": [
			"## Example 5.2: EX5_2.sce"
		   ]
		  },
  {
"cell_type": "code",
	   "execution_count": null,
	   "metadata": {
	    "collapsed": true
	   },
	   "outputs": [],
"source": [
"//Ex5_2\n",
"clc\n",
"RL=5*10^(3)\n",
"disp('RL= '+string(RL)+ ' ohm')  //Load resistance\n",
"R1=100*10^(3)\n",
"disp('R1= '+string(R1)+ ' ohm')  // resistance\n",
"R2=100*10^(3)\n",
"disp('R2= '+string(R2)+ ' ohm')  // resistance\n",
"Rs=5*10^(3)\n",
"disp('Rs= '+string(Rs)+ ' ohm')  // Source resistance\n",
"Beta_o=50\n",
"disp('Beta_o = '+string(Beta_o)) //BJT gain\n",
"rbe=1*10^(3)\n",
"disp('rbe= '+string(rbe)+ ' ohm')  //Base-emitter resistance\n",
"gm=50*10^(-3)\n",
"disp('gm = '+string(gm)+' A/V')//  transconductance for BJT \n",
"rc=50*10^(3)\n",
"disp('rc= '+string(rc)+ ' ohm')  //collector resistance\n",
"Av=RL/(RL+1/gm) // Gain formulae\n",
"disp('Av=RL/(RL+1/gm)= '+string(Av)) // voltage gain for BJT\n",
"Avs=RL/[(Rs/Beta_o)+(1/gm)+(RL)]\n",
"disp('Avs=RL/[(Rs/Beta_o)+(1/gm)+(RL)]= '+string(Avs)) // Overall voltage gain for BJT\n",
"AI=-(Beta_o+1)\n",
"disp('AI=-(Beta_o+1)= '+string(AI)) // current gain for BJT\n",
"R0=(Rs+rbe)/Beta_o\n",
"disp('R0= (Rs+rbe)/Beta_o='+string(R0)+ ' ohm')  //output resistance for  BJT\n",
"Ri=rbe+Beta_o*RL // formulae\n",
"disp('Ri= rbe+Beta_o*RL='+string(Ri)+ ' ohm')  // value of BJT input resistance \n",
"RB=(R1*R2)/(R1+R2)\n",
"disp('RB=(R1*R2)/(R1+R2)= '+string(RB)+ ' ohm')  // eqivalent Base resistance for  BJT\n",
"Rieff=(Ri*RB)/(RB+Ri)\n",
"disp('Rieff= (Ri*RB)/(RB+Ri)='+string(Rieff)+ ' ohm')  //Effective value of BJT input resistance \n",
""
   ]
   }
,
{
		   "cell_type": "markdown",
		   "metadata": {},
		   "source": [
			"## Example 5.3: EX5_3.sce"
		   ]
		  },
  {
"cell_type": "code",
	   "execution_count": null,
	   "metadata": {
	    "collapsed": true
	   },
	   "outputs": [],
"source": [
"//Ex5_3\n",
"clc\n",
"RL=5*10^(3)\n",
"disp('RL= '+string(RL)+ ' ohm')  //Load resistance\n",
"RF=5*10^(3)\n",
"disp('RF= '+string(RF)+ ' ohm')  // resistance\n",
"Beta_o=50\n",
"disp('Beta_o = '+string(Beta_o)) //BJT gain\n",
"rbe=1*10^(3)\n",
"disp('rbe= '+string(rbe)+ ' ohm')  //Base-emitter resistance\n",
"gm=50*10^(-3)\n",
"disp('gm = '+string(gm)+' A/V')//  transconductance for BJT \n",
"rc=50*10^(3)\n",
"disp('rc= '+string(rc)+ ' ohm')  //collector resistance\n",
"Ri=rbe+RF*(1+gm*rbe) // formulae\n",
"disp('Ri= rbe+RF*(1+gm*rbe)='+string(Ri)+ ' ohm')  //  BJT input resistance \n",
"Av=(-gm*RL)/(1+gm*RF)// formulae\n",
"disp('Av=(-gm*RL)/(1+gm*RF)= '+string(Av)) // voltage gain for BJT\n",
"AI=Beta_o\n",
"disp('AI=(Beta_o)= '+string(AI)) // current gain for BJT\n",
"R0=Beta_o*rc\n",
"disp('R0= Beta_o*rc='+string(R0)+ ' ohm')  //output resistance for  BJT"
   ]
   }
,
{
		   "cell_type": "markdown",
		   "metadata": {},
		   "source": [
			"## Example 5.4: EX5_4.sce"
		   ]
		  },
  {
"cell_type": "code",
	   "execution_count": null,
	   "metadata": {
	    "collapsed": true
	   },
	   "outputs": [],
"source": [
"//Ex5_4\n",
"clc\n",
"RL=5*10^(3)\n",
"disp('RL= '+string(RL)+ ' ohm')  //Load resistance\n",
"RF=2.5*10^(3)\n",
"disp('RF= '+string(RF)+ ' ohm')  // resistance\n",
"Rs=50\n",
"disp('Rs= '+string(Rs)+ ' ohm')  // resistance\n",
"ro=50*10^(3)\n",
"disp('ro= '+string(ro)+ ' ohm')  // output resistance\n",
"rd=ro // drain resistance\n",
"rc=ro// Collector resistance\n",
"disp('rc= '+string(rc)+ ' ohm')  // Collector resistance\n",
"rbe=1*10^(3)\n",
"disp('rbe= '+string(rbe)+ ' ohm')  //base -emitter resistance\n",
"disp('For CG Amplifier')\n",
"gm=5*10^(-3)\n",
"disp('gm = '+string(gm)+' A/V')//  transconductance for FET \n",
"Ri=1/gm // formulae\n",
"disp('Ri= 1/gm='+string(Ri)+ ' ohm')  // value of CGA (common gate amplifier)input resistance for FET\n",
"Avs=gm*RL/(1+gm*Rs)\n",
"disp('Avs=gm*RL/(1+gm*Rs)= '+string(Avs)) // Overall voltage gain for FET (CGA)\n",
"Ro=rd*(1+gm*Rs)\n",
"disp('Ro=rd*(1+gm*Rs)='+string(Ro)+ ' ohm')  //output resistance for  FET (CGA)\n",
"disp('For CB Amplifier')\n",
"gm=50*10^(-3)\n",
"disp('gm = '+string(gm)+' A/V')//  transconductance for BJT\n",
"Ri=1/gm // formulae\n",
"disp('Ri= 1/gm='+string(Ri)+ ' ohm')  // value of CBA (common base amplifier)input resistance for BJT\n",
"Avs=gm*RL/(1+gm*Rs)\n",
"disp('Avs=gm*RL/(1+gm*Rs)= '+string(Avs)) // Overall voltage gain for BJT (CBA)\n",
"Ro=gm*(rbe*rc)\n",
"disp('Ro=gm*(rbe*rc)='+string(Ro)+ ' ohm')  //output resistance for  BJT (CBA)\n",
"\n",
"//NOTE: I have calculated first all the parameters for CG amplifier and then for CB amplifier but in book parameters have been calculated alternatingly for CG and CB amplifiers."
   ]
   }
,
{
		   "cell_type": "markdown",
		   "metadata": {},
		   "source": [
			"## Example 5.5: Find_high_cut_off_frequency_and_bandwidth_and_unity_gain_bandwidth.sce"
		   ]
		  },
  {
"cell_type": "code",
	   "execution_count": null,
	   "metadata": {
	    "collapsed": true
	   },
	   "outputs": [],
"source": [
"//Ex5_5\n",
"clc\n",
"RL=5*10^(3)\n",
"disp('RL= '+string(RL)+ ' ohm')  //Load resistance\n",
"Cc=0.1*10^(-6)\n",
"disp('Cc= '+string(Cc)+ ' farad')  //capacitance\n",
"Ri=100*10^(3)\n",
"disp('Ri= '+string(Ri)+ ' ohm')  //  input resistance for Amplifier\n",
"CSH=100*10^(-12)\n",
"disp('CSH= '+string(CSH)+ ' farad')  //shunt load capacitance\n",
"Avm=100\n",
"disp('Avm='+string(Avm)) // Mid-frequency gain \n",
"fL=1/[2*(%pi)*(Ri)*(Cc)]\n",
"disp('fL=1/[2*(%pi)*(Ri)*(Cc)]= '+string(fL)+ 'Hz ') // Lower cutoff-frequency \n",
"fH=1/[2*(%pi)*(RL)*(CSH)]\n",
"disp('fH=1/[2*(%pi)*(RL)*(CSH)]= '+string(fH)+ ' Hz') // Higher cutoff-frequency \n",
"BW=fH-fL\n",
"disp('BW=fH-fL= '+string(BW)+ ' Hz') // Bandwidth\n",
"fT=Avm*fH\n",
"disp('fT=Avm*fH= '+string(fT)+ ' Hz') // Unity gain bandwidth\n",
"// ERROR NOTE: calculated value of lower cutoff frequency, fL= 15.915494 Hz but in book given as 15.0 Hz   \n",
" "
   ]
   }
,
{
		   "cell_type": "markdown",
		   "metadata": {},
		   "source": [
			"## Example 5.6: Find_percentage_second_harmonic_distortion_in_small_signal_CS_JFET_amplifier.sce"
		   ]
		  },
  {
"cell_type": "code",
	   "execution_count": null,
	   "metadata": {
	    "collapsed": true
	   },
	   "outputs": [],
"source": [
"//Ex5_6\n",
"clc\n",
"IDSS=16*10^(-3)\n",
"disp('IDSS = '+string(IDSS)+' ampere') //  maximum drain current JFET \n",
"VP=(-4)\n",
"disp('VP= '+string(VP)+' volts') // pinch off voltage for JFET \n",
"VGSQ=(-2)\n",
"disp('VGSQ= '+string(VGSQ)+' volts') // Gate  operating point voltage \n",
"Vsm=(0.2)\n",
"disp('Vsm= '+string(Vsm)+' volts') //  sinusoidal input voltage for JFET \n",
"D=[((0.5)*(Vsm)^2)/(4*Vsm)]*100 // derived from ID=IDSS(1-VGS/VP)^2 and putting value of VGS=VGSQ+Vs, where Vs=Vsm sinwt\n",
"disp('D=[((0.5)*(Vsm)^2)/(4*Vsm)]*100  ='+string(D)+'% ') //  Percentage second harmonic distortion calculation"
   ]
   }
,
{
		   "cell_type": "markdown",
		   "metadata": {},
		   "source": [
			"## Example 5.7: Compare_perrformance_of_CE_and_CC_and_CB_configuration_of_BJT.sce"
		   ]
		  },
  {
"cell_type": "code",
	   "execution_count": null,
	   "metadata": {
	    "collapsed": true
	   },
	   "outputs": [],
"source": [
"//Ex5_7  \n",
"clc\n",
"Ic=1*10^(-3)\n",
"disp('Ic = '+string(Ic)+' ampere') //  collector current BJT\n",
"rbe=2*10^(3)\n",
"disp('rbe= '+string(rbe)+ ' ohm')  //base -emitter resistance\n",
"gm=50*10^(-3)\n",
"disp('gm = '+string(gm)+' A/V')//  transconductance for BJT\n",
"Beta_o=100\n",
"disp('Beta_o = '+string(Beta_o)+' ') //BJT gain\n",
"rc=50*10^(3)\n",
"disp('rc= '+string(rc)+ ' ohm')  //collector resistance\n",
"Cbe=10*10^(-12)\n",
"disp('Cbe= '+string(Cbe)+ ' farad')  //base -emitter capacitance\n",
"Ctc=1*10^(-12)\n",
"disp('Ctc= '+string(Ctc)+ ' farad')  //input device capacitance\n",
"disp('part(i)')// part(i)of question\n",
"RL=10*10^(3)\n",
"disp('RL= '+string(RL)+ ' ohm')  //Load resistance\n",
"Rs=500\n",
"disp('Rs= '+string(Rs)+ ' ohm')  //input source resistance\n",
"Rth=(Rs*rbe)/(Rs+rbe)\n",
"disp('Rth=(Rs*rbe)/(Rs+rbe)='+string(Rth)+ ' ohm')  // eqivalent resistance\n",
"Avm=(-gm*RL)\n",
"disp('Avm=(-gm*RL)='+string(Avm)) // Mid-frequency gain for CE amplifier\n",
"CM=Ctc*(1-Avm)\n",
"disp('CM=Ctc*(1-Avm)= '+string(CM)+ ' farad')  //calculated capacitance\n",
"Ci=Cbe\n",
"disp('Ci=Cbe= '+string(Ci)+ ' farad')  //calculated input capacitance\n",
"fHi=1/[2*(%pi)*(Rth)*(Cbe+CM)]\n",
"disp('fHi=1/[2*(%pi)*(Rth)*(Cbe+CM)]= '+string(fHi)+ ' Hz') // Higher-frequency cutoff for CE amplifier\n",
"Ri=rbe\n",
"disp('Ri=rbe ='+string(Ri)+ ' ohm')  //input resistance CE amplifier\n",
"Ro=rc\n",
"disp('R0= rc='+string(Ro)+ ' ohm')  //output  resistance for CE amplifier\n",
"fB=1/[2*(%pi)*(rbe)*(Cbe)]\n",
"disp('fB=1/[2*(%pi)*(rbe)*(Cbe)]= '+string(fB)+ ' Hz') // base terminal frequency cutoff\n",
"fT=Beta_o*fB\n",
"disp('fT=Beta_o*fB= '+string(fT)+ ' Hz') // Unity gain bandwidth for CE amplifier\n",
"disp('part(ii)')// part(ii)of question\n",
"Rs=50*10^(3)\n",
"disp('Rs= '+string(Rs)+ ' ohm')  //input source resistance for CC amplifier\n",
"RL=1*10^(3)\n",
"disp('RL= '+string(RL)+ ' ohm')  //Load resistance  for CC amplifier\n",
"fhi=1/[2*(%pi)*(Rs)*(Ctc)]\n",
"disp('fhi=1/[2*(%pi)*(Rs)*(Ctc)]= '+string(fhi)+ ' Hz') // Higher-frequency cutoff for CC amplifier\n",
"Avm=(gm*RL)/(1+gm*RL)\n",
"disp('Avm=(gm*RL)/(1+gm*RL)='+string(Avm)) // Mid-frequency gain for CC amplifier\n",
"Ro=1/gm\n",
"disp('Ro= 1/gm='+string(Ro)+ ' ohm')  //output  resistance for CC amplifier\n",
"Ri=Beta_o*RL\n",
"disp('Ri=Beta_o*RL ='+string(Ri)+ ' ohm')  //input resistance CE amplifier\n",
"disp('part(iii)')// part(iii)of question\n",
"RL=10*10^(3)\n",
"disp('RL= '+string(RL)+ ' ohm') //Load resistance  for CB amplifier\n",
"Rs=50\n",
"disp('Rs= '+string(Rs)+ ' ohm')  //input source resistance for CB amplifier\n",
"fHi=gm/[2*(%pi)*(Cbe)]\n",
"disp('fHi=gm/[2*(%pi)*(Cbe)]= '+string(fHi)+ ' Hz') // Higher-frequency cutoff for CB amplifier\n",
"fHo=1/[2*(%pi)*(Ctc)*(RL)]\n",
"disp('fHo=gm/[2*(%pi)*(Ctc)*(RL)]= '+string(fHo)+ ' Hz') // Higher-frequency cutoff for CB amplifier\n",
"Avs=(gm*RL)/(1+gm*Rs)\n",
"disp('Avs=(gm*RL)/(1+gm*Rs)='+string(Avs)) // Mid-frequency gain for CB amplifier\n",
"Ri=1/gm\n",
"disp('Ri= 1/gm='+string(Ri)+ ' ohm')  //output  resistance for CB amplifier\n",
"Ro=Beta_o*rc\n",
"disp('Ro=Beta_o*rc ='+string(Ro)+ ' ohm')  //input resistance CB amplifier\n",
"//ERROR NOTE:some parameters in the book have been calculated using gm=40 mA/V while given value is gm=50 mA/V. So ,for part(ii) CC amplifier correct value of R0=20 ohm,Ri=100000 ohm,and for part(iii)CB amplifier over all voltage gain Avs=142.85714 ,Ri=20 ohm all calculated for gm=50 mA/V."
   ]
   }
,
{
		   "cell_type": "markdown",
		   "metadata": {},
		   "source": [
			"## Example 5.8: Find_load_resistance_RL_and_coupling_capacitor.sce"
		   ]
		  },
  {
"cell_type": "code",
	   "execution_count": null,
	   "metadata": {
	    "collapsed": true
	   },
	   "outputs": [],
"source": [
"//Ex5_8\n",
"clc\n",
"tp=10*10^(-3)\n",
"disp('tp= '+string(tp)+' s') // Time period of pulse\n",
"tr=0.05*10^(-6)\n",
"disp('tr= '+string(tr)+' s') // Rise-Time of pulse\n",
"CSH=50*10^(-12)\n",
"disp('CSH= '+string(CSH)+ ' farad')  //output capacitor\n",
"tilt=5\n",
"disp('percentage tilt= '+string(tilt)+ '%')  //Sag or percentage tilt of output \n",
"Ri=100*10^(3)\n",
"disp('Ri= '+string(Ri)+ ' ohm')  // source resistance\n",
"RL=tr/(2.2*CSH)\n",
"disp('RL=tr/(2.2*CSH)= '+string(RL)+ ' ohm')  //Load resistance calculation\n",
"Cc=(tp*100)/(tilt*Ri)\n",
"disp('Cc= (tp*100)/( tilt*Ri)='+string(Cc)+ ' farad')  //capacitance\n",
"//ERROR NOTE: calculated value of RL=454.54545 ohm but in book given as 455 ohm  "
   ]
   }
],
"metadata": {
		  "kernelspec": {
		   "display_name": "Scilab",
		   "language": "scilab",
		   "name": "scilab"
		  },
		  "language_info": {
		   "file_extension": ".sce",
		   "help_links": [
			{
			 "text": "MetaKernel Magics",
			 "url": "https://github.com/calysto/metakernel/blob/master/metakernel/magics/README.md"
			}
		   ],
		   "mimetype": "text/x-octave",
		   "name": "scilab",
		   "version": "0.7.1"
		  }
		 },
		 "nbformat": 4,
		 "nbformat_minor": 0
}
