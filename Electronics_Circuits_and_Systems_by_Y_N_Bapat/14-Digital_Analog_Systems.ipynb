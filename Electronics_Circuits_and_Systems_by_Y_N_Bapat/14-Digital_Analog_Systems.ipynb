{
"cells": [
 {
		   "cell_type": "markdown",
	   "metadata": {},
	   "source": [
       "# Chapter 14: Digital Analog Systems"
	   ]
	},
{
		   "cell_type": "markdown",
		   "metadata": {},
		   "source": [
			"## Example 14.1: Find_quantization_error_and_resolution.sce"
		   ]
		  },
  {
"cell_type": "code",
	   "execution_count": null,
	   "metadata": {
	    "collapsed": true
	   },
	   "outputs": [],
"source": [
"//Ex14_1 Refer fig 14.1(b) and (c)\n",
"clc\n",
"n=3\n",
"disp('n= '+string(n))// Number of bits \n",
"L=2^(n)\n",
"disp('L=2^(n)= '+string(L))// Number of quantization levels\n",
"VFS=10\n",
"disp('VFS= '+string(VFS)+' volts') // Maximum value of analog input voltage\n",
"Q.E=VFS/L\n",
"disp('Q.E=VFS/L= '+string(Q.E))// Quantization error\n",
"disp('Q.E= +0.625,-0.625')// To make Quantization error symmetrical ittaken as (-Q.E/2) negative and positive value(+Q.E/2)\n",
"Resolution=(100/2^(n))//Formulae\n",
"disp('Resolution=(100/2^(n))= '+string(Resolution)+' percent')//Resolution\n",
"disp('Resolution= '+string(+Resolution)+' percent,'+string(-Resolution)+' percent')// Since Resolution is (+)as well as (-)"
   ]
   }
,
{
		   "cell_type": "markdown",
		   "metadata": {},
		   "source": [
			"## Example 14.2: Find_parameters_for_3_bit_ADC.sce"
		   ]
		  },
  {
"cell_type": "code",
	   "execution_count": null,
	   "metadata": {
	    "collapsed": true
	   },
	   "outputs": [],
"source": [
"//Ex14_2 \n",
"clc\n",
"n=3\n",
"disp('n= '+string(n))// Number of bits \n",
"L=2^(n)\n",
"disp('L=2^(n)= '+string(L))// Number of quantization levels\n",
"VFS=1024*10^(-3)\n",
"disp('VFS= '+string(VFS)+' volts') // Maximum value of analog input voltage\n",
"\n",
"disp('part(i)')// Part(i)\n",
"LSB=VFS/(2^n)\n",
"disp('LSB=VFS/(2^n)= '+string(LSB)+' volts') // Lowest significant bit of 3-bit ADC\n",
"\n",
"disp('part(ii)')// Part(ii)\n",
"disp('vh= 64 to 192 mV with offset') // Analog voltage corresponding to binary word 001\n",
"\n",
"disp('part(iii)')// Part(iii)\n",
"I.E=(LSB)/2\n",
"disp('Inherent error,I.E= (LSB)/2= -'+string(I.E)+' V,+'+string(I.E)+' V')// Inherent error in each binary word\n",
"\n",
"disp('part(iv)')// Part(iv)\n",
"Resolution=(1*10^(-3))\n",
"disp('Resolution= '+string(Resolution)+' V')//Resolution\n",
"VFS=1\n",
"disp('VFS= '+string(VFS)+' V') // Maximum value of analog input voltage2\n",
"k=VFS/(Resolution)\n",
"disp('k=VFS/(Resolution)= '+string(k)) // 'k' taken only for calculation purpose\n",
"disp('number of bits=10')// since k =[VFS/(Resolution)]is approximately equal to 2^10,\n",
"disp('so 10-bit ADC required')"
   ]
   }
,
{
		   "cell_type": "markdown",
		   "metadata": {},
		   "source": [
			"## Example 14.3: Find_output_voltage_for_weighted_resistor_DAC.sce"
		   ]
		  },
  {
"cell_type": "code",
	   "execution_count": null,
	   "metadata": {
	    "collapsed": true
	   },
	   "outputs": [],
"source": [
"//Ex14_3\n",
"clc\n",
"VREF=-10\n",
"disp('VREF= '+string(VREF)+' V') // Reference voltage\n",
"RF=5*10^(3)\n",
"disp('RF= '+string(RF)+ ' ohm')  //Feedback resistance\n",
"R=10*10^(3)\n",
"disp('R= '+string(R)+ ' ohm')  // resistance\n",
"vLSB=(-RF*VREF)/(8*R)// Since IF=I/8,so vLSB=(-RF*IF)=(-RF*I/8)=(-RF*VREF/8*R)\n",
"disp('vLSB=(-RF*VREF)/(8*R)='+string(vLSB)+' V') // Equivalent voltage for binary word 0001\n",
"vo=-2*vLSB// Since current IF=I/4\n",
"disp('vo = -2*vLSB ='+string(vo)+' V') // Equivalent voltage for binary word 0010=2 (in decimal)\n",
"vo=-15*vLSB// Since current IF=I+(I/2)+(I/4)+(I/8)=(15*I/8),so vo=15*VLSB\n",
"disp('vo= -15*vLSB ='+string(vo)+' V') // Equivalent voltage for binary word 0010=2 (in decimal)"
   ]
   }
,
{
		   "cell_type": "markdown",
		   "metadata": {},
		   "source": [
			"## Example 14.4: Output_for_resistor_ladder_DAC.sce"
		   ]
		  },
  {
"cell_type": "code",
	   "execution_count": null,
	   "metadata": {
	    "collapsed": true
	   },
	   "outputs": [],
"source": [
"//Ex14_4\n",
"clc\n",
"VREF=-10\n",
"disp('VREF= '+string(VREF)+' V') // Reference voltage\n",
"RF=5*10^(3)\n",
"disp('RF= '+string(RF)+ ' ohm')  //Feedback resistance\n",
"R=10*10^(3)\n",
"disp('R= '+string(R)+ ' ohm')  // resistance\n",
"vMSB=-(RF*VREF)/(2*R)// Since IF=I/2,so vMSB=(-RF*IF)=(-RF*I/2)=(-RF*VREF/2*R)\n",
"disp('vMSB=-(RF*VREF)/(2*R)='+string(vMSB)+' V') // Equivalent voltage for binary word 1000=8(in decimal)\n",
"vo2=vMSB/2// Since current IF=I/4\n",
"disp('vo2 = vMSB/2 ='+string(vo2)+' V') // Equivalent voltage for binary word 0100=4 (in decimal)\n",
"vo3=(15/8)*vMSB// Since current IF=I+(I/2)+(I/4)+(I/8)+(I/16)=(15*I/6),so vo=(15/8)*VMSB\n",
"disp('vo3= (15/8)*vMSB ='+string(vo3)+' V') // Equivalent voltage for binary word 1111=15 (in decimal)"
   ]
   }
,
{
		   "cell_type": "markdown",
		   "metadata": {},
		   "source": [
			"## Example 14.5: Quantization_error_and_percentage_resolution_for_12_bit_DAC.sce"
		   ]
		  },
  {
"cell_type": "code",
	   "execution_count": null,
	   "metadata": {
	    "collapsed": true
	   },
	   "outputs": [],
"source": [
"//Ex14_5\n",
"clc\n",
"n=12\n",
"disp('n= '+string(n))// Number of bits\n",
"VFS=50\n",
"disp('VFS= '+string(VFS)+' volts') // Maximum value of analog input voltage\n",
"S=VFS/(2^n)\n",
"disp('S=VFS/(2^n)= '+string(S)+' volts') // Maximum quantization error\n",
"Resolution=(100/2^(n))//Formulae\n",
"disp('Resolution=(100/2^(n))= -'+string(Resolution)+' percent, +'+string(Resolution)+' percent')// Since Resolution is (+)as well as (-)\n",
""
   ]
   }
,
{
		   "cell_type": "markdown",
		   "metadata": {},
		   "source": [
			"## Example 14.7: Find_highest_analog_input_frequency_for_12_bit_ADC.sce"
		   ]
		  },
  {
"cell_type": "code",
	   "execution_count": null,
	   "metadata": {
	    "collapsed": true
	   },
	   "outputs": [],
"source": [
"//Ex14_7\n",
"clc\n",
"n=12\n",
"disp('n= '+string(n))// Number of bits\n",
"t=5*10^(-6)\n",
"disp('t= '+string(t)+' A')\n",
"Vsp=10\n",
"disp('Vsp= '+string(Vsp)+' volts') // value of analog input voltage\n",
"LSB=Vsp/(2^n)\n",
"disp('LSB=Vsp/(2^n)= '+string(LSB)+' volts') // Lowest significant bit of 12-bit ADC\n",
"disp('LSB/2= -'+string(LSB/2)+' V, -'+string(LSB/2)+' V') \n",
"SR=(LSB/2)/t\n",
"disp('SR=(LSB/2)/t= '+string(SR)+' V/s')\n",
"fmax=SR/(2*%pi*Vsp)\n",
"disp('f = SR/(2*%pi*Vsp)='+string(fmax)+' Hz')// Highest frequency allowed at the input\n",
""
   ]
   }
],
"metadata": {
		  "kernelspec": {
		   "display_name": "Scilab",
		   "language": "scilab",
		   "name": "scilab"
		  },
		  "language_info": {
		   "file_extension": ".sce",
		   "help_links": [
			{
			 "text": "MetaKernel Magics",
			 "url": "https://github.com/calysto/metakernel/blob/master/metakernel/magics/README.md"
			}
		   ],
		   "mimetype": "text/x-octave",
		   "name": "scilab",
		   "version": "0.7.1"
		  }
		 },
		 "nbformat": 4,
		 "nbformat_minor": 0
}
