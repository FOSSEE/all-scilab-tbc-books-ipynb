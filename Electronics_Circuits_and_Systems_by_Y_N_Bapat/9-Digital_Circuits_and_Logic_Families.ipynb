{
"cells": [
 {
		   "cell_type": "markdown",
	   "metadata": {},
	   "source": [
       "# Chapter 9: Digital Circuits and Logic Families"
	   ]
	},
{
		   "cell_type": "markdown",
		   "metadata": {},
		   "source": [
			"## Example 9.10: EX9_10.sce"
		   ]
		  },
  {
"cell_type": "code",
	   "execution_count": null,
	   "metadata": {
	    "collapsed": true
	   },
	   "outputs": [],
"source": [
"//Ex9_10 Refer Fig.9.17(a)\n",
"clc\n",
"V_gamma=0.6\n",
"disp('V_gamma= '+string(V_gamma)+' volts') //Threshold voltage\n",
"VEE=-5.2\n",
"disp('VEE= '+string(VEE)+' volts') //  voltage supply \n",
"VBE3=0.7\n",
"VBE4=VBE3\n",
"VBE5=VBE3\n",
"disp('VBE3=VBE4=VBE5 '+string(VBE3)+' volts') //base-emitter voltage\n",
"RE=779\n",
"disp('RE= '+string(RE)+ ' ohm')  // Emitter-resistance\n",
"RL2=220\n",
"disp('RL2= '+string(RL2)+ ' ohm')  // Load resistance\n",
"RL3=245\n",
"disp('RL3= '+string(RL3)+ ' ohm')  // Load resistance\n",
"VREF=-1.29\n",
"disp('VREF= '+string(VREF)+' volts') // Reference- voltage \n",
"V_1=-0.7\n",
"disp('V(1)= '+string(V_1)+' volts') // Acceptable voltage for high logic  \n",
"V_0=-1.7\n",
"disp('V(0)= '+string(V_0)+' volts') // Acceptable voltage for low logic \n",
"\n",
"disp('part(i)')// part(i)of question\n",
"VE=VREF-VBE3\n",
"disp('VE=VREF-VBE3= '+string(VE)+' volts') // Emitter- voltage  \n",
"IE=(VEE-VE)/RE\n",
"disp('IE=(VEE-VE)/RE= '+string(IE)+' A') //Emitter- Current\n",
"IC3=IE// since IC=IE neglecting IB\n",
"disp('IC3=IE= '+string(IE)+' A') //Collector- Current\n",
"vC3=IC3*RL3\n",
"disp('vC3=IC3*RL3= '+string(vC3)+' volts') // Collector- voltage \n",
"vY=vC3-VBE5\n",
"disp('vY=vC3-VBE5= '+string(vY)+' volts') // Emitter follower output voltage for vB=V(0) \n",
"vC2=0 \n",
"vX=vC2-VBE4\n",
"disp('vX=vC2-VBE4= '+string(vX)+' volts') // Emitter follower output voltage  for vB=V(0)  \n",
"VBEr=(V_0)-VE\n",
"disp('Base -Emitter reverse voltage,VBEr=V(0)-VE= '+string(VBEr)+' volts')//Base- Emitter junction reverse voltage ,this is sufficient to keep T1 and T2 off since threshold =0.6V\n",
"disp('Transistor T1 and T2 off since VBEr < V_gamma') // Since VBEr < V_gamma hence T1 and T2 off\n",
"\n",
"disp('part(ii)')// part(ii)of question\n",
"IC2=IE\n",
"VBE=0.7 \n",
"vB=V_1\n",
"IC3=0\n",
"VC3=0\n",
"vY=VC3-VBE5\n",
"disp('vY=VC3-VBE= '+string(vY)+' volts')// Emitter follower output voltage  for SECOND CASE for vB=V(1)  \n",
"VE=vB-VBE\n",
"disp('VE=vB-VBE= '+string(VE)+' volts') // Emitter- voltage   \n",
"VBE3=VREF-VE\n",
"disp('VBE3=VREF-VE= '+string(VBE3)+' volts')//Base- Emitter junction voltage\n",
"disp('VBE3 is smaller than V_gamma,hence T3 is off')\n",
"IC2=(VEE-VE)/RE\n",
"disp('IC2=(VEE-VE)/RE= '+string(IC2)+' A') //Collector- Current for T2(transistor)\n",
"vC2=IC2*RL2\n",
"disp('vC2=IC2*RL2= '+string(vC2)+' volts') // Collector- voltage for T2\n",
"vX=vC2-VBE4\n",
"disp('vX=vC2-VBE4= '+string(vX)+' volts') // Emitter follower output voltage for vB=V(1)\n",
"\n",
"disp('part(iii)')// part(iii)of question \n",
"VE3=-1.99\n",
"disp('VE3=VE= '+string(VE3)+' volts') //  Transistor T3 Emitter- voltage ,when T3 is conducting  \n",
"VB3=VREF\n",
"disp('VB3=VREF= '+string(VB3)+' volts') // Base- voltage when T3 is conducting\n",
"IC3=(VEE-VE3)/RE// Collector current for T3 neglecting IB\n",
"disp('IC3=(VEE-VE3)/RE= '+string(IC3)+' A') //Collector- Current\n",
"VC3=IC3*RL3\n",
"disp('VC3=IC3*RL3= '+string(VC3)+' volts') // Collector- voltage when T3 is conducting  \n",
"VCB3=VC3-VB3\n",
"disp('VCB3=VC3-VB3= '+string(VCB3)+' volts') // Base- voltage when T3 is conducting  \n",
"//All parameters have appropriate signs for npn BJT hence BJT in active region not in saturation in which VCB will have a (-)value\n",
"disp('All parameters have appropriate signs for npn BJT hence BJT in active region ')  \n",
"\n",
"\n",
"// NOTE: Author ha not used any symbol for Base- Emitter junction reverse voltage   But I have used 'VBEr' for it.\n",
"// ERROR :sign of IE is given wrong in the book in part(i) and sign of IC2 in part(ii)\n",
"// In part(i) Correct Formulae of vC3 is vC3 =IC3*RL3 but given in book is vC3 =(-)IC3*RL3  because author has  included the (-)ive sign or the polarity of IC3 in the formulae \n",
"// IN book in part(ii) mistakenly it  is written as vB=V_0 =-0.7 V but Correct expression is vB=V_1=-0.7 V because vB is at high at V_1=-0.7 V\n",
"// In part(ii) Author has used formulae vC2=-IC2*RL2  because he has included the (-)ive sign of the IC2  in the formulae  but I have used vC2=IC2*RL2 to remove any ambiguity in program\n",
"\n",
"\n",
"\n",
""
   ]
   }
,
{
		   "cell_type": "markdown",
		   "metadata": {},
		   "source": [
			"## Example 9.11: find_low_and_high_level_noise_immunities.sce"
		   ]
		  },
  {
"cell_type": "code",
	   "execution_count": null,
	   "metadata": {
	    "collapsed": true
	   },
	   "outputs": [],
"source": [
"//Ex9_11\n",
"clc\n",
"VIL=-1.475\n",
"disp('VIL= '+string(VIL)+' V') //  Minimum input voltage level for which output is maximum\n",
"VIH=-1.105\n",
"disp('VIH= '+string(VIH)+' V') //  Maximum input voltage level for which output is minimum\n",
"VOL=-1.63\n",
"disp('VOL= '+string(VOL)+' V') //  Minimum output voltage level for  maximum input level\n",
"VOH=-0.98\n",
"disp('VOH= '+string(VOH)+' V') //   Maximum output voltage level for   minimum input level\n",
"NML=VIL-VOL\n",
"disp('NML=VIL-VOL= '+string(NML)+' V') //  Low level noise immunities\n",
"NMH=VOH-VIH\n",
"disp('NMH=VOH-VIH= '+string(NMH)+' V') // High level noise immunities\n",
"\n",
""
   ]
   }
,
{
		   "cell_type": "markdown",
		   "metadata": {},
		   "source": [
			"## Example 9.1: Find_minimum_gain_for_proper_operation_of_NOT_gate.sce"
		   ]
		  },
  {
"cell_type": "code",
	   "execution_count": null,
	   "metadata": {
	    "collapsed": true
	   },
	   "outputs": [],
"source": [
"//Ex9_1\n",
"clc\n",
"VCC=5\n",
"disp('VCC= '+string(VCC)+' volts') //  voltage supply  \n",
"RB=10*10^(3)\n",
"disp('RB= '+string(RB)+ ' ohm')  // Base-resistance\n",
"RL=1*10^(3)\n",
"disp('RL= '+string(RL)+ ' ohm')  // Load resistance\n",
"VCS=0.2\n",
"disp('VCS= '+string(VCS)+' volts') // collector saturated voltage \n",
"VBS=0.8\n",
"disp('VBS= '+string(VBS)+' volts') // Base voltage at saturation \n",
"V_gamma=0.6\n",
"disp('V_gamma= '+string(V_gamma)+' volts') //  Threshold or cut-in voltage\n",
"ICS=(VCC-VCS)/RL\n",
"disp('ICS = (VCC-VCS)/RL='+string(ICS)+' ampere') //Saturation collector current of transistor T1\n",
"vi=5\n",
"disp('vi= '+string(vi)+' volts') //  Input voltage \n",
"IBS=(vi-VBS)/RB\n",
"disp('IBS=(vi-VBS)/RB='+string(IBS)+' ampere') // Forward base drive required to sustain ICS\n",
"Beta_Fmin=ICS/IBS\n",
"disp('Beta_Fmin=ICS/IBS= '+string(Beta_Fmin)) // Common-emitter current gain\n",
"\n",
"//NOTE:  Correct formulae for ICS=(VCC-VCS)/RL\n",
"// but in book it is written wrong as ICS=(VCC-VCS)/RB but had calculated ans (in book) according to correct formulae ICS=(VCC-VCS)/RL"
   ]
   }
,
{
		   "cell_type": "markdown",
		   "metadata": {},
		   "source": [
			"## Example 9.2: calculate_output_voltage_Vx_for_OR_logic_gate.sce"
		   ]
		  },
  {
"cell_type": "code",
	   "execution_count": null,
	   "metadata": {
	    "collapsed": true
	   },
	   "outputs": [],
"source": [
"//Ex9_2 Refer fig.9.3(e)\n",
"clc\n",
"VD=0.7\n",
"disp('VD= '+string(VD)+' V') //  Diode voltage drop in conduction mode\n",
"\n",
"disp('part(i)')// part(i)of question\n",
"vA=0\n",
"disp('vA= '+string(vA)+' V') //   Input voltage1 of diode OR logic gate\n",
"vB=0\n",
"disp('vB= '+string(vB)+' V') //  Input voltage2 of diode OR logic gate\n",
"vX=0 // Since both input voltages vA=vB=0V\n",
"disp('vX='+string(vX)+' V') //  Output voltage of diode OR logic gate for part(i)\n",
"\n",
"disp('part(ii)')// part(ii)of question\n",
"vA=0\n",
"disp('vA= '+string(vA)+' V') //  Input voltage1 of diode OR logic gate\n",
"vB=5\n",
"disp('vB= '+string(vB)+' V') //  Input voltage2 of diode OR logic gate for  SECOND CASE: when vA=0V and vB=5V\n",
"vX=vB-VD\n",
"disp('vX=vB-VD= '+string(vX)+' V') //  Output voltage of diode OR logic gate for  SECOND CASE\n",
"\n",
"disp('part(iii)')// part(iii)of question\n",
"vA=5\n",
"disp('vA= '+string(vA)+' V') //  Input voltage1 of diode OR logic gate for  THIRD CASE  when vA=5V and vB=0V\n",
"vB=0\n",
"disp('vB= '+string(vB)+' V') //  Input voltage2 of diode OR logic gate\n",
"vX=vA-VD\n",
"disp('vX=vA-VD= '+string(vX)+' V') //  Output voltage of diode OR logic gate for  THIRD CASE\n",
"\n",
"disp('part(iv)')// part(iv)of question\n",
"vA=(+5)\n",
"disp('vA= '+string(vA)+' V') //  Input voltage1 of diode OR logic gate\n",
"vB=(+5)\n",
"disp('vB= '+string(vB)+' V') //  Input voltage2 of diode OR logic gate\n",
"vX=vA-VD // Since both diodes D1 and D2 are conducting\n",
"vX=vB-VD \n",
"disp('vX=vA-VD=vB-VD= '+string(vX)+' V') //  Output voltage of diode OR logic gate for FOURTH CASE: when vA=5V and vB=5V"
   ]
   }
,
{
		   "cell_type": "markdown",
		   "metadata": {},
		   "source": [
			"## Example 9.3: Calculate_output_voltage_Vx_for_diode_AND_logic_gate.sce"
		   ]
		  },
  {
"cell_type": "code",
	   "execution_count": null,
	   "metadata": {
	    "collapsed": true
	   },
	   "outputs": [],
"source": [
"//Ex9_3 Refer fig.9.4(e)\n",
"// For AND logic gate\n",
"clc\n",
"VD=0.7\n",
"disp('VD= '+string(VD)+' V') //  Diode voltage drop in conduction mode\n",
"\n",
"disp('part(i)')\n",
"vA=0\n",
"disp('vA= '+string(vA)+' V') //  Input voltage of diode AND logic gate\n",
"vB=0\n",
"disp('vB= '+string(vB)+' V') //  Input voltage2 of diode  AND logic gate\n",
"\n",
"vX=VD // Since both input voltages vA=vB=0V\n",
"disp('vX=VD='+string(vX)+' V') //  Output voltage of diode  AND logic gate for FIRST CASE: when vA=0V and vB=0V\n",
"\n",
"disp('part(ii)')\n",
"vA=0\n",
"disp('vA= '+string(vA)+' V') //  Input voltage of diode AND logic gate\n",
"vB=5\n",
"disp('vB= '+string(vB)+' V') //  Input voltage2 of diode AND logic gate for  SECOND CASE: when vA=0V and vB=5V\n",
"vX=VD //due to diode A which is  conducting and the Diode B is reverse biased with a voltage VD-VB=0.7-5=-4.3\n",
"disp('vX=VD '+string(vX)+' V')\n",
"//due to diode B which is conducting\n",
"\n",
"\n",
"\n",
"disp('part(iii)')\n",
"vA=5\n",
"disp('vA= '+string(vA)+' V') //  Input voltage for  THIRD CASE  when vA=5V and vB=0V\n",
"vB=0\n",
"disp('vB= '+string(vB)+' V') //  Input voltage2 of diode  AND logic gate\n",
"vX = VD//due to diode B which is  conducting and the Diode A is reverse biased with a voltage VD-VA=0.7-5=-4.3\n",
"disp('vX= '+string(vX)+' V')\n",
"\n",
"disp('part(iv)')\n",
"vA=5\n",
"disp('vA= '+string(vA)+' V') //  Input voltage forfourth CASE  when vA=5V and vB=5V\n",
"vB=5\n",
"disp('vB= '+string(vB)+' V') //  Input voltage2 of diode AND logic gate for  CASE: when vA=0V and vB=5V\n",
"vX=vA // Since both diodes D1 and D2 are Non-conducting, so no voltage drop across'R'(resistor)\n",
"disp('vX = vA = vB= '+string(vX)+' V') //  Output voltage of diode  AND logic gate for FOURTH CASE: when vA=5V and vB=5V"
   ]
   }
,
{
		   "cell_type": "markdown",
		   "metadata": {},
		   "source": [
			"## Example 9.6: Find_low_and_high_level_noise_immunities.sce"
		   ]
		  },
  {
"cell_type": "code",
	   "execution_count": null,
	   "metadata": {
	    "collapsed": true
	   },
	   "outputs": [],
"source": [
"//Ex9_6 \n",
"clc\n",
"VIL=0.6\n",
"disp('VIL= '+string(VIL)+' V') //  Minimum input voltage level for which output is maximum\n",
"VIH=0.75\n",
"disp('VIH= '+string(VIH)+' V') //  Maximum input voltage level for which output is minimum\n",
"VOL=0.2\n",
"disp('VOL= '+string(VOL)+' V') //  Minimum output voltage level for  maximum input level\n",
"VOH=1\n",
"disp('VOH= '+string(VOH)+' V') //   Maximum output voltage level for   minimum input level\n",
"NML=VIL-VOL\n",
"disp('NML=VIL-VOL= '+string(NML)+' V') //  Low level noise immunities\n",
"NMH=VOH-VIH\n",
"disp('NMH=VOH-VIH= '+string(NMH)+' V') // High level noise immunities\n",
"\n",
"\n",
""
   ]
   }
,
{
		   "cell_type": "markdown",
		   "metadata": {},
		   "source": [
			"## Example 9.7: Find_fan_out_of_TTL.sce"
		   ]
		  },
  {
"cell_type": "code",
	   "execution_count": null,
	   "metadata": {
	    "collapsed": true
	   },
	   "outputs": [],
"source": [
"//Ex9_7\n",
"clc\n",
"IIL=-1.6*10^(-3)\n",
"disp('IIL= '+string(IIL)+' A') //  Input sink Current of TTL driver\n",
"IIH=40*10^(-6)\n",
"disp('IIH= '+string(IIH)+' A') //  source (supply) reverse Current of TTL driver\n",
"IOL=16*10^(-3)\n",
"disp('IOL= '+string(IOL)+' A') //  Specified Maximum sink Current of TTL driver\n",
"IOH=-400*10^(-6)\n",
"disp('IOH= '+string(IOH)+' A') //  Specified Maximum source Current of TTL driver\n",
"Fan_out=abs((IOH/IIH))\n",
"disp('Fan-out=abs((IOH/IIH)=abs((IOL/IIL))= '+string(Fan_out))// Fan-out of TTL"
   ]
   }
,
{
		   "cell_type": "markdown",
		   "metadata": {},
		   "source": [
			"## Example 9.8: Find_low_and_high_level_noise_immunities.sce"
		   ]
		  },
  {
"cell_type": "code",
	   "execution_count": null,
	   "metadata": {
	    "collapsed": true
	   },
	   "outputs": [],
"source": [
"//Ex9_8 \n",
"clc\n",
"VIL=0.8\n",
"disp('VIL= '+string(VIL)+' V') //  Minimum input voltage level for which output is maximum\n",
"VIH=2\n",
"disp('VIH= '+string(VIH)+' V') //  Maximum input voltage level for which output is minimum\n",
"VOL=0.4\n",
"disp('VOL= '+string(VOL)+' V') //  Minimum output voltage level for  maximum input level\n",
"VOH=2.4\n",
"disp('VOH= '+string(VOH)+' V') //   Maximum output voltage level for   minimum input level\n",
"NML=VIL-VOL\n",
"disp('NML=VIL-VOL= '+string(NML)+' V') //  Low level noise immunities\n",
"NMH=VOH-VIH\n",
"disp('NMH=VOH-VIH= '+string(NMH)+' V') // High level noise immunities\n",
"\n",
""
   ]
   }
,
{
		   "cell_type": "markdown",
		   "metadata": {},
		   "source": [
			"## Example 9.9: Find_low_and_high_level_noise_immunities.sce"
		   ]
		  },
  {
"cell_type": "code",
	   "execution_count": null,
	   "metadata": {
	    "collapsed": true
	   },
	   "outputs": [],
"source": [
"//Ex9_9\n",
"clc\n",
"VIL=1\n",
"disp('VIL= '+string(VIL)+' V') //  Minimum input voltage level for which output is maximum\n",
"VIH=4\n",
"disp('VIH= '+string(VIH)+' V') //  Maximum input voltage level for which output is minimum\n",
"VOL=0.5\n",
"disp('VOL= '+string(VOL)+' V') //  Minimum output voltage level for  maximum input level\n",
"VOH=4.5\n",
"disp('VOH= '+string(VOH)+' V') //   Maximum output voltage level for   minimum input level\n",
"NML=VIL-VOL\n",
"disp('NML=VIL-VOL= '+string(NML)+' V') //  Low level noise immunities\n",
"NMH=VOH-VIH\n",
"disp('NMH=VOH-VIH= '+string(NMH)+' V') // High level noise immunities\n",
"\n",
"\n",
""
   ]
   }
],
"metadata": {
		  "kernelspec": {
		   "display_name": "Scilab",
		   "language": "scilab",
		   "name": "scilab"
		  },
		  "language_info": {
		   "file_extension": ".sce",
		   "help_links": [
			{
			 "text": "MetaKernel Magics",
			 "url": "https://github.com/calysto/metakernel/blob/master/metakernel/magics/README.md"
			}
		   ],
		   "mimetype": "text/x-octave",
		   "name": "scilab",
		   "version": "0.7.1"
		  }
		 },
		 "nbformat": 4,
		 "nbformat_minor": 0
}
