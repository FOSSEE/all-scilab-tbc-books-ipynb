{
"cells": [
 {
		   "cell_type": "markdown",
	   "metadata": {},
	   "source": [
       "# Chapter 4: Field Effect Transistors"
	   ]
	},
{
		   "cell_type": "markdown",
		   "metadata": {},
		   "source": [
			"## Example 4.10: EX4_10.sce"
		   ]
		  },
  {
"cell_type": "code",
	   "execution_count": null,
	   "metadata": {
	    "collapsed": true
	   },
	   "outputs": [],
"source": [
"//Ex4_10\n",
"clc\n",
"RL=12*10^(3)\n",
"disp('RL= '+string(RL)+ ' ohm')  //Load resistance\n",
"RF=6*10^(3) \n",
"disp('RF= '+string(RF)+ ' ohm')  //  feedback resistance \n",
"R1=12*10^(6)\n",
"disp('R1= '+string(R1)+ ' ohm')  // first resistance R1 at input side\n",
"R2=8.57*10^(6)\n",
"disp('R2= '+string(R2)+ ' ohm')  // second resistance R2 at input side\n",
"VDD=(24)\n",
"disp('VDD= '+string(VDD)+' volts') // Drain voltage supply\n",
"VT=(3)\n",
"disp('VT= '+string(VT)+' volts') // Threshold voltage for n-channel EMOSFET\n",
"KF=0.375*10^(-3)\n",
"disp('KF= '+string(KF)+' A/V^2') // Constant for  n-channel EMOSFET \n",
"VGG=(VDD*R2)/(R1+R2)\n",
"disp('VGG= VDD*R2/(R1+R2)='+string(VGG)+' volts') // Gate voltage for  n-channel EMOSFET \n",
"disp('Quadratic equation =36*ID^(2)-86.67*ID+49=0')// IDS=KF*(VGS-VT)^2 and VGS=VGG-ID*RD ,so Quadratic equation formed is :IDS=KF*(VGG-ID*RD-VT)^2 ,where ID in mA\n",
"p = [36  -86.67  49]\n",
"ID=roots(p)*10^(-3)//values of ID converted into Ampere  by multiplying by 10^(-3)\n",
"disp('ID = '+string(ID)+' A') //   drain current n-channel EMOSFET in Ampere \n",
"VGS=VGG-ID*RF//  Gate voltage for ID = 1.5 mA and ID = 0.91 mA\n",
"disp('VGS = VGG-ID*RF = '+string(VGS)+' volts') //  Gate voltage \n",
"disp('Since VGS < VT for ID=1.5 mA, hence ID = 1.5 mA cannot be chosen, so we chose ID= 0.91 mA as operating drain current IDQ')\n",
"IDQ=0.91*10^(-3)\n",
"disp('IDQ ='+string(IDQ)+' A')//Since VGS < VT for ID=1.5 mA, hence ID = 1.5 mA cannot be chosen, so we chose ID= 0.91 mA as operating drain current IDQ\n",
"change_IDQ=[(1-0.91)*100]/(1)// \n",
"disp('change in IDQ = '+string(change_IDQ)+' percent')// Percent change in IDQ from value 1 mA from its actual value IDQ=0.91mA\n",
"VGSQ=VGG-IDQ*RF\n",
"disp('VGSQ = VGG-IDQ*RF = '+string(VGSQ)+' volts') //  Gate  operating point voltage \n",
"VDSQ=VDD-IDQ*(RL+RF)\n",
"disp('VDSQ= VDD-IDQ*(RL+RF)= '+string(VDSQ)+' volts') // Drain voltage for n-channel EMOSFET \n",
"\n",
"\n",
"// note: in the textbook author has given KF = .375 but I have work with KF = .375*10^-3A/V^2"
   ]
   }
,
{
		   "cell_type": "markdown",
		   "metadata": {},
		   "source": [
			"## Example 4.11: Calculate_load_resistance_RL_and_percentage_change_in_drain_current_ID_for_JFET.sce"
		   ]
		  },
  {
"cell_type": "code",
	   "execution_count": null,
	   "metadata": {
	    "collapsed": true
	   },
	   "outputs": [],
"source": [
"//Ex4_11 Refer fig 4.7(b)// ANS is not correct check &correct\n",
"clc\n",
"RF=6*10^(3) \n",
"disp('RF= '+string(RF)+ ' ohm')  //  feedback resistance \n",
"VDD=(20)\n",
"disp('VDD= '+string(VDD)+' volts') // Drain voltage supply\n",
"disp('part(i) ')// part(i) of this question\n",
"VT=(2)\n",
"disp('VT= '+string(VT)+' volts') // Threshold voltage for EMOSFET\n",
"KF=0.25*10^(-3)\n",
"disp('KF= '+string(KF)+' A/V^2') // Constant for EMOSFET \n",
"ID=1*10^(-3)\n",
"disp('ID = '+string(ID)+' A') //   drain current EMOSFET in Ampere \n",
"RL=[VDD-VT-sqrt(ID/KF)]/ID // Using formulae ID=KF*(VDD-ID*RL-VT)\n",
"disp('RL=[VDD-VT-sqrt(ID/KF)]/ID= '+string(RL)+ ' ohm')  //Load resistance\n",
"disp('part(ii) ')// part(ii) of this question\n",
"VT=(3)\n",
"disp('VT= '+string(VT)+' volts') // Threshold voltage for EMOSFET\n",
"KF=0.375*10^(-3)\n",
"disp('KF= '+string(KF)+' A/V^2') // Constant for EMOSFET \n",
"disp('Quadratic equation =(256)*ID^(2)-(546.67)*ID+289=0')//IDS=KF*(VGS-VT)^2 =KF*(VDS-VT)^2 and VDS=VDD-ID*RL,so Quadratic equation  is:IDS=KF*(VDD-ID*RL-VT)^2 ,where ID in mA\n",
"p = [256  -546.66  289]\n",
"ID=roots(p)*10^(-3)//values of ID converted into Ampere  by multiplying by 10^(-3)\n",
"disp('ID = '+string(ID)+' A') //   drain current EMOSFET in Ampere \n",
"VDS=VDD-ID*RL// Drain voltage for ID = 1.173 mA and ID = 0.962 mA\n",
"disp('VDS =VDD-ID*RL = '+string(VDS)+' volts') //  Drain voltage \n",
"IDQ=0.962*10^(-3)\n",
"disp('IDQ ='+string(IDQ)+' A')//Since VDS < VT for ID=1.173 mA, hence ID = 1.173 mA cannot be chosen, so we chose ID= 0.962 mA as operating drain current IDQ\n",
"Percentage_change=[(1-0.962)*100]/(1)\n",
"disp('Percentage change= '+string(Percentage_change)+' percent')// Percent change in IDQ  value from 1 mA(part(i)) to its  value ( of part(ii))IDQ=0.91mA\n",
"// NOTE: part(ii):the values of ID = 1.173 mA or ID = 0.962 mA but in book given as ID= 1.197 mA and ID = 0.939 mA .Hence (correct) Percentage_change in ID= 3.8 % but in book given as 6.1 % "
   ]
   }
,
{
		   "cell_type": "markdown",
		   "metadata": {},
		   "source": [
			"## Example 4.12: Find_ON_stage_output_voltage_VDON_for_EMOSFET.sce"
		   ]
		  },
  {
"cell_type": "code",
	   "execution_count": null,
	   "metadata": {
	    "collapsed": true
	   },
	   "outputs": [],
"source": [
"//Ex4_12 Refer fig 4.9(a)and fig 4.9(b)\n",
"clc\n",
"VDD=(5)\n",
"disp('VDD= '+string(VDD)+' volts') // Drain voltage supply\n",
"RL1=125*10^(3)\n",
"disp('RL1= '+string(RL1)+ ' ohm')  //Load resistance\n",
"RL2=200*10^(3)\n",
"disp('RL2= '+string(RL2)+ ' ohm')  //Load resistance\n",
"IDON1=34.88*10^(-6)\n",
"disp('IDON1 ='+string(IDON1)+' A')//Drain current for load line 1 from fig.\n",
"IDON2=22.5*10^(-6)\n",
"disp('IDON2 ='+string(IDON2)+' A')//Drain current for load line 2 from fig.\n",
"VDON1=VDD-IDON1*RL1\n",
"disp('VDON1=VDD-IDON1*RL1= '+string(VDON1)+' volts') //  output voltage  at drain terminal for IDON1\n",
"VDON2=VDD-IDON2*RL2\n",
"disp('VDON2=VDD-IDON2*RL2= '+string(VDON2)+' volts') //  output voltage  at drain terminal for IDON2"
   ]
   }
,
{
		   "cell_type": "markdown",
		   "metadata": {},
		   "source": [
			"## Example 4.13: Verify_DEMOSFET_act_as_DC_constant_current_source.sce"
		   ]
		  },
  {
"cell_type": "code",
	   "execution_count": null,
	   "metadata": {
	    "collapsed": true
	   },
	   "outputs": [],
"source": [
"//Ex4_13\n",
"clc\n",
"IDSS=10*10^(-3)\n",
"disp('IDSS = '+string(IDSS)+' ampere') //  maximum drain current for n-channel DEMOSFET\n",
"ID=IDSS // since VGS=0V, so ID=maximum\n",
"VP=(-4)\n",
"disp('VP= '+string(VP)+' volts') // pinch off voltage \n",
"VGS=(0)\n",
"disp('VGS= '+string(VGS)+' volts') // Gate to source voltage \n",
"VDD=(10)\n",
"disp('VDD= '+string(VDD)+' volts') // Drain supply voltage \n",
"RL=0.5*10^(3)\n",
"disp('RL= '+string(RL)+ ' ohm')  //Load resistance\n",
"VDS=VDD-ID*RL\n",
"disp('VDS=VDD-ID*RL= '+string(VDS)+' volts') // Drain to source  voltage ,since VDS>VP DEMOSFET is in pinch off\n",
"disp('VDS>VP,so pinch off region')\n",
"RL=0.75*10^(3)\n",
"disp('RL= '+string(RL)+ ' ohm')  // New Load resistance value\n",
"VDS=VDD-ID*RL\n",
"disp('VDS=VDD-ID*RL= '+string(VDS)+' volts') // New Drain to source  voltage for RL=750 ohm\n",
"disp('VDS<VP,so ohmic region')// since VDS < VP DEMOSFET is in ohmic region for RL=750 ohm and hence will not operate as a current source"
   ]
   }
,
{
		   "cell_type": "markdown",
		   "metadata": {},
		   "source": [
			"## Example 4.14: Find_resistance_value_to_obtain_constant_current_source_for_MOS_current_mirror.sce"
		   ]
		  },
  {
"cell_type": "code",
	   "execution_count": null,
	   "metadata": {
	    "collapsed": true
	   },
	   "outputs": [],
"source": [
"//Ex4_14\n",
"clc\n",
"KF1=0.25*10^(-3)\n",
"disp('KF1 = '+string(KF1)+' A/V^2') //  Scale factor \n",
"KF2=KF1\n",
"disp('KF2 = '+string(KF2)+' A/V^2') //  Scale factor \n",
"IQ=1*10^(-3)\n",
"disp('IQ= '+string(IQ)+' ampere') // constant current  source value\n",
"VT1=2\n",
"disp('VT1 = '+string(VT1)+' volts')// Threshold voltage\n",
"VT2=VT1\n",
"disp('VT2 = '+string(VT2)+' volts')// Threshold voltage\n",
"VDD=(15)\n",
"disp('VDD= '+string(VDD)+' volts') // Drain supply voltage \n",
"IREF=IQ\n",
"disp('IREF =IQ= '+string(IREF)+' ampere') // Reference current value\n",
"VGS=VT1+sqrt(2*IREF/KF1) // Formulae\n",
"disp('VGS= VT1+sqrt(2*IREF/KF1)='+string(VGS)+' volts') // Gate to source voltage \n",
"R=(VDD-VGS)/IREF\n",
"disp('R= (VDD-VGS)/IREF='+string(R)+ ' ohm')  // resistance value to obtain constant current\n",
"//  ERROR NOTE:values of VGS and R (correct) are 4.8284271 volts and 10171.573 ohm  respectively but given in book are VGS=4V and R=11 kilo ohms"
   ]
   }
,
{
		   "cell_type": "markdown",
		   "metadata": {},
		   "source": [
			"## Example 4.15: Determine_ON_voltage_and_off_isolation_errors_for_RL_and_analog_shunt_switch.sce"
		   ]
		  },
  {
"cell_type": "code",
	   "execution_count": null,
	   "metadata": {
	    "collapsed": true
	   },
	   "outputs": [],
"source": [
"//Ex4_15\n",
"clc\n",
"RON=100\n",
"disp('RON= '+string(RON)+ ' ohm')  //ON resistance of  analog series switch\n",
"ROFF=10^(10)\n",
"disp('ROFF= '+string(ROFF)+ ' ohm')  //OFF resistance analog series switch\n",
"Vip=1\n",
"disp('Vip= '+string(Vip)+' volts')// Peak amplitude of analog voltage\n",
"Rs=100\n",
"disp('Rs= '+string(Rs)+ ' ohm')  //Voltage source resistance\n",
"RL=10*10^(3)\n",
"disp('RL= '+string(RL)+ ' ohm')  //Load resistance\n",
"disp('part(i) ')// part(i) of this question\n",
"Vo=(Vip*RL)/(RL+RON+Rs)\n",
"disp('Vo=(Vip*RL)/(RL+RON+Rs)= '+string(Vo)+' volts')// ON voltage\n",
"ErON=[Vip*(RON+Rs)/(RL+RON+Rs)]*100\n",
"disp('ErON=[Vip*(RON+Rs)/(RL+RON+Rs)]*100= '+string(ErON)+' percent')// Output voltage error \n",
"vOFF=(Vip*RL)/ROFF\n",
"disp('vOFF=(Vip*RL)/ROFF= '+string(vOFF)+' volts')// Output voltage in OFF state\n",
"OFF_isolation=20*log10(Vip/vOFF)\n",
"disp('OFF_isolation=20*log10(Vip/vOFF)= '+string(OFF_isolation)+' dB') // OFF_isolation=20*log10(Vip/vOFF) in dB// Thus ON error and OFF isolation decrease with increasing values of RL.\n",
"disp('part(ii) ')// part(ii) of this question\n",
"vOFF=(Vip*RON)/(Rs+RON)\n",
"disp('vOFF=(Vip*RON)/(Rs+RON)= '+string(vOFF)+' volts')// Output voltage in OFF state for analog shunt switch\n",
"OFF_isolation=20*log10((Rs+RON)/RON)// OFF_isolation of shunt switch\n",
"disp('OFF_isolation=20*log10((Rs+RON)/RON)= '+string(OFF_isolation)+' dB')// Thus shunt switch is inferior to series switch in its OFF isolation property\n",
"\n",
"// ERROR NOTE: in question the author has given RL = 10K but in solution he has used RL = 1 k ... I have done programming using RL = 10 K.\n",
"\n",
""
   ]
   }
,
{
		   "cell_type": "markdown",
		   "metadata": {},
		   "source": [
			"## Example 4.1: Find_drain_to_source_voltage_VDS_and_drain_current_ID_for_JFET.sce"
		   ]
		  },
  {
"cell_type": "code",
	   "execution_count": null,
	   "metadata": {
	    "collapsed": true
	   },
	   "outputs": [],
"source": [
"//Ex4_1\n",
"clc\n",
"IDSS=10*10^(-3)\n",
"disp('IDSS = '+string(IDSS)+' ampere') //  maximum drain current\n",
"VP=(-4)\n",
"disp('VP= '+string(VP)+' volts') // pinch off voltage \n",
"VGS=(-2)\n",
"disp('VGS = '+string(VGS)+' volts') // gate to source voltage \n",
"VDSmin=VGS-VP\n",
"disp('VDSmin  =VGS-VP='+string(VDSmin)+' volts') // Drain to source voltage \n",
"ID=IDSS*(1-VGS/VP)^2\n",
"disp('ID =IDSS*(1-VGS/VP)^2= '+string(ID)+' ampere') //   drain current"
   ]
   }
,
{
		   "cell_type": "markdown",
		   "metadata": {},
		   "source": [
			"## Example 4.2: Find_drain_to_source_resistance_RDS_for_JFET.sce"
		   ]
		  },
  {
"cell_type": "code",
	   "execution_count": null,
	   "metadata": {
	    "collapsed": true
	   },
	   "outputs": [],
"source": [
"//Ex4_2\n",
"clc\n",
"IDSS=10*10^(-3)\n",
"disp('IDSS = '+string(IDSS)+' ampere') //  maximum drain current\n",
"VP=(-4)\n",
"disp('VP= '+string(VP)+' volts') // pinch off voltage \n",
"VGS=(0)\n",
"disp('VGS = '+string(VGS)+' volts') // gate to source voltage1 \n",
"RDS=1/[(2*(IDSS/(-VP)))*(1-VGS/VP)]//formula for JFET\n",
"disp('RDS = 1/[(2*(IDSS/(-VP)))*(1-VGS/VP)]='+string(RDS)+' ohm') //   drain to source resistance for VGS=0V\n",
"VGS=(-2)\n",
"disp('VGS = '+string(VGS)+' volts') // gate to source voltage2 \n",
"RDS=1/[(2*(IDSS/(-VP)))*(1-VGS/VP)]\n",
"disp('RDS = 1/[(2*(IDSS/(-VP)))*(1-VGS/VP)]='+string(RDS)+' ohm') //   drain to source resistance for VGS=(-2)\n",
"\n",
""
   ]
   }
,
{
		   "cell_type": "markdown",
		   "metadata": {},
		   "source": [
			"## Example 4.3: Find_load_resistance_RL_for_EMOSFET.sce"
		   ]
		  },
  {
"cell_type": "code",
	   "execution_count": null,
	   "metadata": {
	    "collapsed": true
	   },
	   "outputs": [],
"source": [
"//Ex4_3\n",
"clc\n",
"ID=10*10^(-3)\n",
"disp('ID = '+string(ID)+' ampere') //  given drain current \n",
"VDD=(24)\n",
"disp('VDD= '+string(VDD)+' volts') // Drain voltage \n",
"VT=(5)\n",
"disp('VT= '+string(VT)+' volts') // Threshold voltage \n",
"VGS=(10)\n",
"disp('VGS= '+string(VGS)+' volts') // gate to source voltage1 \n",
"KF=ID/(VGS-VT)^2\n",
"disp('KF = ID/(VGS-VT)^2 = '+string(KF)+' A/V^2') // To calculate Scale factor for finding ID2\n",
"VDS=(7)\n",
"disp('VDS =VGS= '+string(VDS)+' volts') // drain to source voltage \n",
"VGS=(VDS)\n",
"ID=KF*(VGS-VT)^2\n",
"disp('ID =KF*(VGS-VT)^2= '+string(ID)+' ampere') // New drain current for VDS=24V\n",
"RL=(VDD-VDS)/ID\n",
"disp('RL=(VDD-VDS)/ID= '+string(RL)+ ' ohm')  //calculation for load resistance at VDS=24V\n",
""
   ]
   }
,
{
		   "cell_type": "markdown",
		   "metadata": {},
		   "source": [
			"## Example 4.4: calculate_transconductance_gm_for_FETs_at_various_device_parameters.sce"
		   ]
		  },
  {
"cell_type": "code",
	   "execution_count": null,
	   "metadata": {
	    "collapsed": true
	   },
	   "outputs": [],
"source": [
"//Ex4_4\n",
"clc\n",
"disp('part(i) ')// part(i) of this question\n",
"IDSS=5*10^(-3)\n",
"disp('IDSS = '+string(IDSS)+' ampere') //  maximum drain current JFET 1\n",
"VP=(2)\n",
"disp('VP= '+string(VP)+' volts') // pinch off voltage for JFET 1\n",
"IDQ=4.42*10^(-3)\n",
"disp('IDQ = '+string(IDQ)+' ampere') //   drain current for JFET 1\n",
"gm=[(2)*sqrt(IDQ*IDSS)]/VP\n",
"disp('gm =[(2)*sqrt(IDQ*IDSS)]/VP= '+string(gm)+' A/V')// calculating transconductance for JFET with IDQ = 4.42 mA\n",
"\n",
"disp('part(ii) ')// part(ii) of this question\n",
"IDQ=6.04*10^(-3)\n",
"disp('IDQ = '+string(IDQ)+' ampere') //   drain current for JFET 1\n",
"IDSS=15*10^(-3)\n",
"disp('IDSS = '+string(IDSS)+' ampere') //  maximum drain current JFET2\n",
"VP=(6)\n",
"disp('VP= '+string(VP)+' volts') // pinch off voltage for JFET2  \n",
"gm=[(2)*sqrt(IDQ*IDSS)]/VP\n",
"disp('gm =[(2)*sqrt(IDQ*IDSS)]/VP= '+string(gm)+' A/V')// calculating transconductance for JFET with IDQ = 6.04 mA\n",
"\n",
"disp('part(iii) ')// part(iii) of this question\n",
"IDQ=1*10^(-3)\n",
"disp('IDQ = '+string(IDQ)+' ampere') //   drain current for EMOSFET 1\n",
"KF=0.25*10^(-3)\n",
"disp('KF = '+string(KF)+' A/V^2') //  Scale factor for finding EMOSFET1\n",
"gm=sqrt(4*IDQ*KF)\n",
"disp('gm =sqrt(4*IDQ*KF)= '+string(gm)+' A/V')// calculating transconductance for EMOSFET1 with IDQ = 1 mA\n",
"\n",
"disp('part(iv) ')// part(iv) of this question\n",
"IDQ=0.91*10^(-3)\n",
"disp('IDQ = '+string(IDQ)+' ampere') //   drain current for EMOSFET 2\n",
"KF=0.375*10^(-3)\n",
"disp('KF = '+string(KF)+' A/V^2') //  Scale factor for finding EMOSFET2\n",
"gm=sqrt(4*IDQ*KF)\n",
"disp('gm =sqrt(4*IDQ*KF)= '+string(gm)+' A/V')// calculating transconductance for EMOSFET2 with IDQ = 0.91 mA\n",
"\n",
"\n",
"\n",
""
   ]
   }
,
{
		   "cell_type": "markdown",
		   "metadata": {},
		   "source": [
			"## Example 4.5: Design_potential_divider_biasing_for_JFET.sce"
		   ]
		  },
  {
"cell_type": "code",
	   "execution_count": null,
	   "metadata": {
	    "collapsed": true
	   },
	   "outputs": [],
"source": [
"//Ex4_5\n",
"//Refer fig.4.8\n",
"clc\n",
"IDQmax=5*10^(-3)\n",
"disp('IDQmax = '+string(IDQmax)+' ampere') //  drain current for JFET for maximum transfer characteristics\n",
"IDmax=IDQmax// maximum drain current will be given by IDQmax\n",
"IDQmin=3*10^(-3)\n",
"disp('IDQmin = '+string(IDQmin)+' ampere') //  drain current for JFET for minimum transfer characteristics \n",
"VDD=(20)\n",
"disp('VDD= '+string(VDD)+' volts') // Drain voltage supply\n",
"VDSmin=(6)\n",
"disp('VDSmin= '+string(VDSmin)+' volts') // minimum Drain to source voltage supply\n",
"ID=2.4*10^(-3)\n",
"disp('ID = '+string(ID)+' ampere') //  drain current chosen for operation within max and min limits \n",
"VGG=3\n",
"disp('VGG= '+string(VGG)+' volts') // Gate voltage from fig.\n",
"Ri=100*10^(3)\n",
"disp('Ri= '+string(Ri)+ ' ohm')  //eqivalent input resistance\n",
"RF=(VGG-0)/(ID-0)\n",
"disp('RF= (VGG-0)/(ID-0)= '+string(RF)+ ' ohm')  //calculation for  feedback resistance \n",
"R1=VDD*Ri/VGG //using formulae VGG=VDD*Ri/R1\n",
"disp('R1= VDD*Ri/VGG= '+string(R1)+ ' ohm')  //calculation for  first resistance R1 at input side\n",
"R2=R1*VGG/(VDD-VGG)\n",
"disp('R2= R1*VGG/(VDD-VGG)= '+string(R2)+ ' ohm')  //calculation for  second resistance R2 at input side\n",
"RL=[((VDD-VDSmin)/IDmax)-RF] // using formulae VDD=IDmax(RL+RF)+VDSmin\n",
"disp('RL=[((VDD-VDSmin)/IDmax)-RF]='+string(RL)+ ' ohm')  //Load resistance calculation\n",
"\n",
"\n",
"\n",
""
   ]
   }
,
{
		   "cell_type": "markdown",
		   "metadata": {},
		   "source": [
			"## Example 4.6: calculate_feedback_resistance_RF_for_n_channel_JFET.sce"
		   ]
		  },
  {
"cell_type": "code",
	   "execution_count": null,
	   "metadata": {
	    "collapsed": true
	   },
	   "outputs": [],
"source": [
"//Ex4_6\n",
"clc\n",
"IDSS=50*10^(-3)\n",
"disp('IDSS = '+string(IDSS)+' ampere') //  maximum drain current JFET \n",
"VP=(-10)\n",
"disp('VP= '+string(VP)+' volts') // pinch off voltage for JFET \n",
"VGSQ=(-5)\n",
"disp('VGSQ= '+string(VGSQ)+' volts') // Gate  operating point voltage \n",
"ID=IDSS*(1-VGSQ/VP)^2\n",
"disp('ID =IDSS*(1-VGS/VP)^2= '+string(ID)+' ampere') //   drain current JFET \n",
"RF=abs(VGSQ/ID) \n",
"disp('RF= (VGSQ)/(ID)= '+string(RF)+ ' ohm')  //calculation for  feedback resistance "
   ]
   }
,
{
		   "cell_type": "markdown",
		   "metadata": {},
		   "source": [
			"## Example 4.7: Find_drain_current_ID_and_verify_operating_region_is_pinch_off.sce"
		   ]
		  },
  {
"cell_type": "code",
	   "execution_count": null,
	   "metadata": {
	    "collapsed": true
	   },
	   "outputs": [],
"source": [
"//Ex4_7 \n",
"clc\n",
"IDSS=5*10^(-3)\n",
"disp('IDSS = '+string(IDSS)+' ampere') //  maximum drain current JFET \n",
"RL=910\n",
"disp('RL= '+string(RL)+ ' ohm')  //Load resistance\n",
"RF=2.29*10^(3) \n",
"disp('RF= '+string(RF)+ ' ohm')  //  feedback resistance \n",
"R1=12*10^(6)\n",
"disp('R1= '+string(R1)+ ' ohm')  // first resistance R1 at input side\n",
"R2=8.57*10^(6)\n",
"disp('R2= '+string(R2)+ ' ohm')  // second resistance R2 at input side\n",
"VDD=(24)\n",
"disp('VDD= '+string(VDD)+' volts') // Drain voltage supply\n",
"VP=(-2)\n",
"disp('VP= '+string(VP)+' volts') // pinch off voltage for JFET \n",
"VGG=(VDD*R2)/(R1+R2)\n",
"disp('VGG= VDD*R2/(R1+R2)='+string(VGG)+' volts') // Gate voltage for JFET\n",
"disp('Quadratic equation =5.244*ID^(2)-55.76*ID+144=0')//  Forming Quadratic equation using VGS = VGG-ID*RF and ID = IDSS(1-VGS/VP)^2 where ID in mA\n",
"p = [5.244  -55.76  144]\n",
"ID=roots(p)*10^(-3)// values of ID converted into Ampere  by multiplying by 10^(-3)\n",
"disp('ID = '+string(ID)+' ampere') //   drain current JFET \n",
"disp('Since ID <=IDSS, hence ID=6.214 mA cannot be chosen, so we chose ID=4.42 mA')\n",
"IDQ=4.42*10^(-3) \n",
"disp('IDQ ='+string(IDQ)+'  A')//Since ID <=IDSS, hence ID=6.214 mA cannot be chosen, so we chose ID=4.42 mA\n",
"VGSQ=VGG-IDQ*RF\n",
"disp('VGSQ = VGG-IDQ*RF = '+string(VGSQ)+' volts') //  Gate  operating point voltage \n",
"VDSQ=VDD-IDQ*(RL+RF)\n",
"disp('VDSQ= VDD-IDQ*(RL+RF)= '+string(VDSQ)+' volts') // Drain voltage for JFET\n",
"VDGQ=VDSQ-VGSQ\n",
"disp('VDGQ = VDSQ-VGSQ ='+string(VDGQ)+' volts') // Drain-Gate voltage for JFET\n",
"disp('VDGQ >magnitude_VP,Hence FET is in pinch off region')"
   ]
   }
,
{
		   "cell_type": "markdown",
		   "metadata": {},
		   "source": [
			"## Example 4.8: EX4_8.sce"
		   ]
		  },
  {
"cell_type": "code",
	   "execution_count": null,
	   "metadata": {
	    "collapsed": true
	   },
	   "outputs": [],
"source": [
"//Ex4_8// NOTE :all values of book ans is wrong so give note-INCOMPLETE QUESTION\n",
"clc\n",
"IDSS=15*10^(-3)\n",
"disp('IDSS = '+string(IDSS)+' ampere') //  maximum drain current of JFET \n",
"RL=910\n",
"disp('RL= '+string(RL)+ ' ohm')  //Load resistance\n",
"RF=2.29*10^(3) \n",
"disp('RF= '+string(RF)+ ' ohm')  //  feedback resistance \n",
"R1=12*10^(6)\n",
"disp('R1= '+string(R1)+ ' ohm')  // first resistance R1 at input side\n",
"R2=8.57*10^(6)\n",
"disp('R2= '+string(R2)+ ' ohm')  // second resistance R2 at input side\n",
"VDD=(24)\n",
"disp('VDD= '+string(VDD)+' volts') // Drain voltage supply\n",
"VP=(-6)\n",
"disp('VP= '+string(VP)+' volts') // pinch off voltage for JFET \n",
"VGG=(VDD*R2)/(R1+R2)\n",
"disp('VGG= VDD*R2/(R1+R2)='+string(VGG)+' volts') // Gate voltage for JFET\n",
"disp('Quadratic equation =5.244*ID^(2)-75.68*ID+256=0')// where ID in mA\n",
"p = [5.244  -75.68  256]\n",
"ID=roots(p)*10^(-3)//values of ID converted into Ampere  by multiplying by 10^(-3)\n",
"disp('ID = '+string(ID)+' ampere') //   drain current JFET \n",
"VDG=VDD-(ID*RL)-VGG\n",
"disp('VDG= '+string(VDG)+' volts') // Drain-gate voltage for JFET\n",
"disp('since VDG < magnitude_VP for ID=9.0189 mA which is inappropriate for JFET pinch off region ,hence ID=5.4128 mA is choosen  !') \n",
"IDQ=5.41*10^(-3) // since VDG < magnitude_VP for ID=9.0189 mA which is inappropriate for JFET pinch off region ,hence ID=5.4128 mA is choosen  !\n",
"disp('IDQ ='+string(IDQ)+'  ampere')\n",
"VGSQ=VGG-IDQ*RF\n",
"disp('VGSQ = VGG-IDQ*RF = '+string(VGSQ)+' volts') //  Gate  operating point voltage \n",
"VDSQ=VDD-IDQ*(RL+RF)\n",
"disp('VDSQ= VDD-IDQ*(RL+RF)= '+string(VDSQ)+' volts') // Drain voltage for JFET\n",
"VDGQ=VDSQ-VGSQ\n",
"disp('VDGQ = VDSQ-VGSQ ='+string(VDGQ)+' volts') // Drain-Gate voltage for JFET\n",
"disp('VDGQ > VP,Hence FET is in pinch off region')\n",
"\n",
"\n",
"//Roots for drain current quadratic equation are wrong in the book thus value for VGSQ,VDSQ and VDGQ are also wrong"
   ]
   }
,
{
		   "cell_type": "markdown",
		   "metadata": {},
		   "source": [
			"## Example 4.9: EX4_9.sce"
		   ]
		  },
  {
"cell_type": "code",
	   "execution_count": null,
	   "metadata": {
	    "collapsed": true
	   },
	   "outputs": [],
"source": [
"//Ex4_9\n",
"clc\n",
"RL=12*10^(3)\n",
"disp('RL= '+string(RL)+ ' ohm')  //Load resistance\n",
"RF=6*10^(3) \n",
"disp('RF= '+string(RF)+ ' ohm')  //  feedback resistance \n",
"R1=12*10^(6)\n",
"disp('R1= '+string(R1)+ ' ohm')  // first resistance R1 at input side\n",
"R2=8.57*10^(6)\n",
"disp('R2= '+string(R2)+ ' ohm')  // second resistance R2 at input side\n",
"VDD=(24)\n",
"disp('VDD= '+string(VDD)+' volts') // Drain voltage supply\n",
"VT=(3)\n",
"disp('VT= '+string(VT)+' volts') // Threshold voltage for n-channel EMOSFET\n",
"KF=0.25*10^(-3)\n",
"disp('KF= '+string(KF)+' A/V^2') // Constant for n-channel EMOSFET \n",
"VGG=(VDD*R2)/(R1+R2)\n",
"disp('VGG= VDD*R2/(R1+R2)='+string(VGG)+' volts') // Gate voltage for n-channel EMOSFET \n",
"disp('Quadratic equation =9*ID^(2)-25*ID+16=0')// IDS=KF*(VGS-VT)^2 and VGS=VGG-ID*RD ,so Quadratic equation formed is :IDS=KF*(VGG-ID*RD-VT)^2 where ID in mA\n",
"p = [9  -25  16]\n",
"ID=roots(p)*10^(-3)//values of ID converted into Ampere  by multiplying by 10^(-3)\n",
"disp('ID = '+string(ID)+' A') //   drain current n-channel EMOSFET in Ampere \n",
"VGS=VGG-ID*RF// For ID=1.78 mA and ID=1mA\n",
"disp('VGS = VGG-ID*RF = '+string(VGS)+' volts') //  Gate  operating point voltage \n",
"disp('Since VGS < VT for ID=1.78 mA, hence ID = 1.78 mA cannot be chosen, so we chose ID= 1 mA as operating drain current IDQ')\n",
"IDQ=1*10^(-3)\n",
"disp('IDQ ='+string(IDQ)+'A')//Since VGS < VT for ID=1.78 mA, hence ID = 1.78 mA cannot be chosen, so we chose ID= 1 mA as operating drain current IDQ\n",
"VGSQ=VGG-IDQ*RF\n",
"disp('VGSQ = VGG-IDQ*RF = '+string(VGSQ)+' volts') //  Gate  operating point voltage \n",
"VDSQ=VDD-IDQ*(RL+RF)\n",
"disp('VDSQ= VDD-IDQ*(RL+RF)= '+string(VDSQ)+' volts') // Drain voltage for n-channel EMOSFET \n",
"// NOTE:Value of VGS= -0.6676390 volts for ID=1.78 mA but in book given as -0.68 V"
   ]
   }
],
"metadata": {
		  "kernelspec": {
		   "display_name": "Scilab",
		   "language": "scilab",
		   "name": "scilab"
		  },
		  "language_info": {
		   "file_extension": ".sce",
		   "help_links": [
			{
			 "text": "MetaKernel Magics",
			 "url": "https://github.com/calysto/metakernel/blob/master/metakernel/magics/README.md"
			}
		   ],
		   "mimetype": "text/x-octave",
		   "name": "scilab",
		   "version": "0.7.1"
		  }
		 },
		 "nbformat": 4,
		 "nbformat_minor": 0
}
