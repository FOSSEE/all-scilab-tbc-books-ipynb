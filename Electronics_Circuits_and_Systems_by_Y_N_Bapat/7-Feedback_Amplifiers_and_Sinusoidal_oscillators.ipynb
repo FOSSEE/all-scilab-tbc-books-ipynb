{
"cells": [
 {
		   "cell_type": "markdown",
	   "metadata": {},
	   "source": [
       "# Chapter 7: Feedback Amplifiers and Sinusoidal oscillators"
	   ]
	},
{
		   "cell_type": "markdown",
		   "metadata": {},
		   "source": [
			"## Example 7.10: Find_different_parameters_for_Pierce_oscillator.sce"
		   ]
		  },
  {
"cell_type": "code",
	   "execution_count": null,
	   "metadata": {
	    "collapsed": true
	   },
	   "outputs": [],
"source": [
"//Ex7_10\n",
"clc\n",
"gm=10*10^(-3)\n",
"disp('gm = '+string(gm)+' A/V')//  transconductance \n",
"Cgs=5*10^(-12)\n",
"disp('Cgs= '+string(Cgs)+ ' farad')  // capacitance between gate-source\n",
"Cds=1*10^(-12)\n",
"disp('Cds= '+string(Cds)+ ' farad')  // capacitance between drain-source\n",
"rd=50*10^(3)\n",
"disp('rd= '+string(rd)+ ' ohm')  //Drain resistance\n",
"RG=10*10^(6)\n",
"disp('RG= '+string(RG)+ ' ohm')  //Gate resistance\n",
"Rse=1*10^(3)\n",
"disp('Rse= '+string(Rse)+ ' ohm')  //Gate resistance\n",
"L=0.5\n",
"disp('L= '+string(L)+ ' H')  //Inductance\n",
"C2=0.05*10^(-12)\n",
"disp('C2= '+string(C2)+ ' farad')  // Crystal parameter \n",
"C1=1*10^(-12)\n",
"disp('C1= '+string(C1)+ ' farad')  // Crystal parameter\n",
"disp('part(i)') \n",
"x=C1+[(Cds*Cgs)/(Cds+Cgs)]\n",
"CT=1/[(1/C2)+(1/x)]\n",
"disp('CT= '+string(CT)+ ' farad')  // Equivalent series-resonating capacitance\n",
"disp('part(ii)') \n",
"fo=sqrt(2)/[2*%pi*sqrt(L*CT)]\n",
"disp('fo= sqrt(2)/[2*%pi*sqrt(L*CT)]='+string(fo)+' Hz')// frequency of oscillations\n",
"disp('part(iii)')\n",
"z=sqrt((L*C1*C2)/(C1+C2))\n",
"fp=1/[2*%pi*z]\n",
"disp('fp= '+string(fp)+' Hz')// parallel-resonant frequency\n",
"p=sqrt(L*C2)\n",
"fs=1/[2*%pi*p]\n",
"disp('fs= '+string(fs)+' Hz')// series-resonant frequency\n",
"Q=[sqrt(L/C2)]/(Rse)\n",
"disp('Q=[sqrt(L/C2)]/(Rse)= '+string(Q))// Quality factor\n",
"disp('part(iv)')\n",
"AB=gm*rd*(Cds/Cgs)\n",
"disp('AB=gm*rd*(Cds/Cgs)= '+string(AB))//Loop gain\n",
"T_bias=RG*(Cgs+Cds)\n",
"disp('T_bias=RG*(Cgs+Cds)= '+string(T_bias)+'s')//Bias Time-Constant\n",
"T_r = 1/(2*%pi*fo)\n",
"disp('T_r =1/(2*%pi*fo)= '+string(T_r)+'s')//resonant Time-Constant for 'fo'\n",
"disp('for proper operation T_bias >> T_r')\n",
"\n",
"\n",
"// in part (ii)... value calculated for series resonant frequecy 'fo' is wrong in textbook.\n",
"// NOTE: in part(iii)... there is a misprint in the calculated value of Quality factor 'Q' in the textbook.\n",
"//I have used T_r instead of 1/wo (given in the book)\n",
"\n",
"\n",
"\n",
"\n",
""
   ]
   }
,
{
		   "cell_type": "markdown",
		   "metadata": {},
		   "source": [
			"## Example 7.1: Calculate_amount_of_negative_feedback_and_feedback_factor.sce"
		   ]
		  },
  {
"cell_type": "code",
	   "execution_count": null,
	   "metadata": {
	    "collapsed": true
	   },
	   "outputs": [],
"source": [
"//Ex7_1\n",
"clc\n",
"A=60000\n",
"disp('A= '+string(A)) //Amplifier gain\n",
"Af=10000\n",
"disp('Af= '+string(Af)) //Feedback gain\n",
"N_dB=20*log10(Af/A)\n",
"disp('N_dB=20*log10(Af/A)= '+string(N_dB)+'dB') //Negative feedback gain\n",
"B=[1/(Af)]-(1/A)// formulae using [Af=A/(1+A*B)]\n",
"disp('B=[1/(Af)]-(1/A)= '+string(B)) //Feedback factor"
   ]
   }
,
{
		   "cell_type": "markdown",
		   "metadata": {},
		   "source": [
			"## Example 7.2: Find_gain_with_feedback.sce"
		   ]
		  },
  {
"cell_type": "code",
	   "execution_count": null,
	   "metadata": {
	    "collapsed": true
	   },
	   "outputs": [],
"source": [
"//Ex7_2\n",
"clc\n",
"A=10000\n",
"disp('A= '+string(A)) //Amplifier gain\n",
"B=0.01\n",
"disp('B= '+string(B)) //Feedback factor\n",
"Af=[A/(1+A*B)]\n",
"disp('Af= [A/(1+A*B)]='+string(Af)) //Feedback gain\n",
"A1=100000\n",
"disp('A1= '+string(A1)) //New amplifier gain value\n",
"Af1=[A1/(1+A1*B)]\n",
"disp('Af1= [A1/(1+A1*B)]='+string(Af1)) //New feedback gain"
   ]
   }
,
{
		   "cell_type": "markdown",
		   "metadata": {},
		   "source": [
			"## Example 7.3: calculate_amount_of_feedback_and_gain_Af_and_new_input_voltage.sce"
		   ]
		  },
  {
"cell_type": "code",
	   "execution_count": null,
	   "metadata": {
	    "collapsed": true
	   },
	   "outputs": [],
"source": [
"//Ex7_3\n",
"clc\n",
"Vo=(50)\n",
"disp('Vo= '+string(Vo)+' volts') // output voltage\n",
"Vi=(0.5)\n",
"disp('Vi= '+string(Vi)+' volts') // input voltage\n",
"disp('part(i)')  \n",
"A=Vo/Vi\n",
"disp('A= Vo/Vi='+string(A)) //Amplifier gain\n",
"H.D=10\n",
"disp('Harmonic_distortion='+string(H.D)+'%')// Percentage second harmonic distortion\n",
"D=(10*Vo)/100\n",
"disp('D= (10*Vo)/100 = '+string(D)+' volts') // Second Harmonic distortion \n",
"Df=(1*Vo)/100\n",
"disp('Df= (1*Vo)/100 = '+string(Df)+' volts') // Harmonic distortion with Feedback\n",
"B=[D/(Df*A)]-(1/A) //Using formulae Df=[D/(1+A*B)]\n",
"disp('B=[D/(Df*A)]-(1/A) = '+string(B)) //Feedback factor\n",
"disp('part(ii)') \n",
"Af=[A/(1+A*B)]\n",
"disp('Af= [A/(1+A*B)] = '+string(Af)) //Feedback gain\n",
"disp('part(iii)') \n",
"Vif=Vo/Af\n",
"disp('Vif= Vo/Af = '+string(Vif)+' volts') // New input voltage required"
   ]
   }
,
{
		   "cell_type": "markdown",
		   "metadata": {},
		   "source": [
			"## Example 7.4: find_signal_bandwidth_and_frequency_below_which_midband_gain_will_not_deviate.sce"
		   ]
		  },
  {
"cell_type": "code",
	   "execution_count": null,
	   "metadata": {
	    "collapsed": true
	   },
	   "outputs": [],
"source": [
"//Ex7_4\n",
"clc\n",
"GBW=10^(6)\n",
"disp('GBW= '+string(GBW)+' Hz')// Gain-Bandwidth product\n",
"AMf=100\n",
"disp('AMf='+string(AMf)) // Midband gain with feedback\n",
"fHF=GBW/AMf\n",
"disp('fHF=GBW/AMf= '+string(fHF)+' Hz')//Signal bandwidth\n",
"f_10percent=(10*fHF)/100\n",
"disp('f_10per cent=(10*fHF)/100= '+string(f_10percent)+' Hz')//Frequency below which AMf will not deviate by more than 10 percent"
   ]
   }
,
{
		   "cell_type": "markdown",
		   "metadata": {},
		   "source": [
			"## Example 7.5: EX7_5.sce"
		   ]
		  },
  {
"cell_type": "code",
	   "execution_count": null,
	   "metadata": {
	    "collapsed": true
	   },
	   "outputs": [],
"source": [
"//Ex7_5\n",
"clc\n",
"AM=50000\n",
"disp('AM='+string(AM)) // Midband gain \n",
"fH=20*10^(3)\n",
"disp('fH= '+string(fH)+' Hz')// Upper cut-off frequency\n",
"fL=30\n",
"disp('fL= '+string(fL)+' Hz')// Lower cut-off frequency\n",
"B=5*10^(-5)\n",
"disp('B= '+string(B)) //Feedback factor\n",
"AMf=AM/(1+B*AM)\n",
"disp('AMf=AM/(1+B*AM)='+string(AMf)) // Midband gain with feedback\n",
"fHf=fH*(1+B*AM)\n",
"disp('fHf=fH*(1+B*AM)= '+string(fHf)+' Hz')//Upper cut-off frequency with feedback\n",
"fLf=fL/(1+B*AM)\n",
"disp('fLf=fL/(1+B*AM)= '+string(fLf)+' Hz')//Lower cut-off frequency with feedback\n",
"//NOTE: calculated value of AMf is AMf=14285.714  and fLF=8.5714286 but in book given as AMf=14286  and fLF=8.58 Hz"
   ]
   }
,
{
		   "cell_type": "markdown",
		   "metadata": {},
		   "source": [
			"## Example 7.6: calculate_phase_margin_for_different_feedback_gains.sce"
		   ]
		  },
  {
"cell_type": "code",
	   "execution_count": null,
	   "metadata": {
	    "collapsed": true
	   },
	   "outputs": [],
"source": [
"//Ex7_6\n",
"//Refer fig7.4\n",
"clc\n",
"AM=100\n",
"disp('AM='+string(AM)+'dB') // Midband gain \n",
"fc1=1*10^(4)\n",
"disp('fc1= '+string(fc1)+' Hz')// First Critical frequency\n",
"fc2=10^5\n",
"disp('fc2= '+string(fc2)+' Hz')// Second Critical frequency\n",
"fc3=10^6\n",
"disp('fc3= '+string(fc3)+' Hz')// Third Critical frequency\n",
"disp('part(i)')\n",
"Af1=85\n",
"disp('Af1='+string(Af1)+'dB') //  gain at 50 kHz and -20dB/decade roll-off\n",
"f=50*10^(3)\n",
"disp('f= '+string(f)+' Hz')// operating frequency\n",
"theta_A=- atand(f/fc1)-  atand(f/fc2)-  atand(f/fc3)//phase shift in radians\n",
"disp('theta_A='+string(theta_A)+' degree')// Phase shift for feedback gain Af1\n",
"theta_pm=180-abs(theta_A)// formulae phase margin\n",
"disp('theta_pm=180-abs(theta_A)='+string(theta_pm)+' degree')// Phase Margin for feedback gain Af1\n",
"disp('Amplifier stable')// Since phase margin is (+)ive\n",
"disp('part(ii)')\n",
"Af2=50\n",
"disp('Af2='+string(Af2)+' dB') //  gain at 500 kHz and -40dB/decade roll-off\n",
"f=500*10^(3)\n",
"disp('f= '+string(f)+' Hz')//  frequency\n",
"theta_A=- atand(f/fc1)-  atand(f/fc2)-  atand(f/fc3)//phase shift in radians\n",
"disp('theta_A= '+string(theta_A)+' degree')//  Phase shift for feedback gain Af2\n",
"theta_pm=180-abs(theta_A)// formulae phase margin\n",
"disp('theta_pm=180-abs(theta_A)='+string(theta_pm)+' degree')// Phase Margin for feedback gain Af1\n",
"disp('Amplifier  unstable')// Since phase margin is (-)ive\n",
"disp('part(iii)')\n",
"Af3=20\n",
"disp('Af3='+string(Af3)+'dB') //  gain at 1100 kHz and -60dB/decade roll-off\n",
"f=1100*10^(3)\n",
"disp('f= '+string(f)+' Hz')//  frequency\n",
"theta_A=- atand(f/fc1)-  atand(f/fc2)-  atand(f/fc3)//phase shift in radians\n",
"disp('theta_A='+string(theta_A)+' degree')// Phase shift for feedback gain Af3\n",
"theta_pm=180-abs(theta_A)// formulae phase margin\n",
"disp('theta_pm=180-abs(theta_A)='+string(theta_pm)+' degree')// Phase Margin for feedback gain Af1\n",
"disp('Amplifier unstable')// Since phase margin is (-)ive\n",
"//NOTE:Correct ans for part(i) phase margin ,theta_pm=71.882476 degree but in book given as 71.86 degree\n",
"// correct ans for part(iii) phase shift, theta_A=-222.01103 degree but in book given as -220.02 degree    \n",
""
   ]
   }
,
{
		   "cell_type": "markdown",
		   "metadata": {},
		   "source": [
			"## Example 7.7: Find_maximum_allowed_input_voltage_without_causing_output_clipping.sce"
		   ]
		  },
  {
"cell_type": "code",
	   "execution_count": null,
	   "metadata": {
	    "collapsed": true
	   },
	   "outputs": [],
"source": [
"//Ex7_7\n",
"clc\n",
"AV=50000\n",
"disp('AV='+string(AV)) // Voltage gain \n",
"Ri=50*10^(6)\n",
"disp('Ri= '+string(Ri)+ ' ohm')  //Input resistance of OP-AMP\n",
"R0=1*10^(3)\n",
"disp('R0= '+string(R0)+ ' ohm')  //Output resistance\n",
"AVf=10\n",
"disp('AVf='+string(AVf)) // Overall Voltage gain \n",
"RSf=50*10^(3)\n",
"disp('RSf= '+string(RSf)+ ' ohm')  //Source resistance\n",
"R1=RSf\n",
"RF=AVf*(R1)\n",
"disp('RF=AVf*(R1)= '+string(RF)+ ' ohm')  //Feedback resistance\n",
"VS=30\n",
"disp('VS= '+string(VS)+' volts') // Peak-peak output swing voltage\n",
"Vomax=0.5*(VS)\n",
"disp('Vomax=0.5*(VS)= -'+string(Vomax)+', +'+string(Vomax)+' volts') // Maximum output voltage swing at negative and positive polarities respectively\n",
"Vsmax=Vomax/AVf\n",
"disp('Vsmax=Vomax/AVf= -'+string(Vsmax)+', +'+string(Vsmax)+' volts') // Maximum output voltage without overload clipping at both polarities\n",
"\n",
"\n",
"//for overall voltage gain author has used two notations 'Avf' and 'Af' ... but I am working with 'Avf' only"
   ]
   }
,
{
		   "cell_type": "markdown",
		   "metadata": {},
		   "source": [
			"## Example 7.8: find_output_voltage_and_error_for_gain_and_value_of_gain_to_reduce_output_error.sce"
		   ]
		  },
  {
"cell_type": "code",
	   "execution_count": null,
	   "metadata": {
	    "collapsed": true
	   },
	   "outputs": [],
"source": [
"//Ex7_8\n",
"//refer fig. 7.6(b)\n",
"clc\n",
"R1=50*10^(3)\n",
"disp('R1= '+string(R1)+ ' ohm')  // resistance at input terminal of OP-AMP\n",
"RF=500*10^(3)\n",
"disp('RF= '+string(RF)+ ' ohm')  //Feedback resistance\n",
"VS=1\n",
"disp('VS= '+string(VS)+' volts') // Peak-peak output swing voltage\n",
"disp('part(i)')  \n",
"disp('A = infinite')// voltage gain\n",
"Vo1=-(RF/R1) //Output voltage when gain, A=infinite\n",
"disp('Vo1=-(RF/R1)= '+string(Vo1)+' volts')\n",
"disp('part(ii)')  \n",
"A=50000\n",
"disp('A='+string(A)) //  gain of OP-AMP\n",
"B=R1/(R1+RF)\n",
"disp('B=R1/(R1+RF)= '+string(B)) //Feedback factor\n",
"Vo2=-[(RF)*(B*A)]/(R1*(1+A*B))\n",
"disp('Vo2=-[(RF)*(B*A)]/(R1*(1+A*B))= '+string(Vo2)+' volts')// output voltage for A=50000\n",
"e=-[(Vo2-Vo1)*100]/Vo1\n",
"disp('%Error,e= [(Vo2-Vo1)*100]/Vo1='+string(e)+'% ')//  calculation for percentage error in output voltage\n",
"disp('part(iii)')  \n",
"e=0.01\n",
"disp('%Error,e='+string(e)+'% ')//Given percentage error in output voltage\n",
"Vo3=-(Vo1-(e*Vo1/100))\n",
"disp('Vo3=Vo1-(e*Vo1/100)= '+string(Vo3)+' volts')// output voltage for error 0.01%\n",
"x=Vo3*(R1/RF)\n",
"A=(x)/[B*(1-x)] //using formulae Vo=-(RF/R1)*[(B*A)/1+A*B)]\n",
"disp('A=(Vo*R1)/[B*RF*(1-(Vo*RF/R1))]='+string(A)) // New Required gain for error less than 0.01%\n",
"\n",
"// while solving the problem I have used 'e' for the error as no varriable is given for the same in textbook by author\n",
"// in textbook author has used 'Vo' for output voltage in all parts.. but to remove any ambiguity in the programe I have used 'Vo1' 'Vo2' 'Vo3' for part i, ii, iii, respectively"
   ]
   }
,
{
		   "cell_type": "markdown",
		   "metadata": {},
		   "source": [
			"## Example 7.9: EX7_9.sce"
		   ]
		  },
  {
"cell_type": "code",
	   "execution_count": null,
	   "metadata": {
	    "collapsed": true
	   },
	   "outputs": [],
"source": [
"//Ex7_9\n",
"clc\n",
"AV=100000\n",
"disp('AV='+string(AV)) // Voltage gain \n",
"Ri=10*10^(3)\n",
"disp('Ri= '+string(Ri)+ ' ohm')  //Input resistance of OP-AMP\n",
"Ro=10\n",
"disp('Ro= '+string(Ro)+ ' ohm')  //Output resistance\n",
"Rs=10*10^(6)\n",
"disp('Rs= '+string(Rs)+ ' ohm')  //Source resistance\n",
"RL=1*10^(3)\n",
"disp('RL= '+string(RL)+ ' ohm')  //Load resistance\n",
"B=(Rs-Ri)/(AV*Ri)\n",
"disp('B=(Rs-Ri)/(AV*Ri)= '+string(B)) //Feedback factor\n",
"AVf=AV/(1+B*AV)\n",
"disp('AVf=AV/(1+B*AV)='+string(AVf)) // Overall Voltage gain with feedback\n",
"Rof=Ro/(1+B*AV)\n",
"disp('Rof=Ro/(1+B*AV) ='+string(Rof)+ ' ohm')  //output resistance with feedback\n",
"Rif=Ri*(1+B*AV)\n",
"disp('Rif=Ri/(1+B*AV) ='+string(Rif)+ ' ohm')  //Input resistance with feedback\n",
"Ap=(AVf^2)*(Rif/RL)\n",
"disp('Ap=(AVf^2)*(Rif/RL)='+string(Ap)) // Overall Power gain \n",
"AP=10*log10(Ap)\n",
"disp('AP=10*log10(Ap)='+string(AP)+'dB') // Overall Power gain in dB "
   ]
   }
],
"metadata": {
		  "kernelspec": {
		   "display_name": "Scilab",
		   "language": "scilab",
		   "name": "scilab"
		  },
		  "language_info": {
		   "file_extension": ".sce",
		   "help_links": [
			{
			 "text": "MetaKernel Magics",
			 "url": "https://github.com/calysto/metakernel/blob/master/metakernel/magics/README.md"
			}
		   ],
		   "mimetype": "text/x-octave",
		   "name": "scilab",
		   "version": "0.7.1"
		  }
		 },
		 "nbformat": 4,
		 "nbformat_minor": 0
}
