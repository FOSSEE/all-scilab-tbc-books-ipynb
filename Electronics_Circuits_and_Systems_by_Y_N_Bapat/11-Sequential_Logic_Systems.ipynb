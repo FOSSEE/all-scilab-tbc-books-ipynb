{
"cells": [
 {
		   "cell_type": "markdown",
	   "metadata": {},
	   "source": [
       "# Chapter 11: Sequential Logic Systems"
	   ]
	},
{
		   "cell_type": "markdown",
		   "metadata": {},
		   "source": [
			"## Example 11.1: Find_maximum_operating_clock_frequency_for_flip_flop.sce"
		   ]
		  },
  {
"cell_type": "code",
	   "execution_count": null,
	   "metadata": {
	    "collapsed": true
	   },
	   "outputs": [],
"source": [
"//Ex11_1\n",
"clc\n",
"tsu=20*10^(-9)\n",
"disp('tsu= '+string(tsu)+' seconds') // Input set-up time of second flip flop\n",
"tpd=30*10^(-9)\n",
"disp('tpd= '+string(tpd)+' seconds') // Input set-up time of first flip flop\n",
"Tmin=tpd+tsu\n",
"disp('Tmin=tpd+tsu= '+string(Tmin)+' seconds') // Minimum allowed time interval b/w threshold levels of two consecutive triggering clock edges activating two flip-flops\n",
"fCkmax=1/Tmin //  formulae  \n",
"disp('fCkmax=1/Tmin = '+string(fCkmax)+' Hz')// Maximum clock frequency at which flip-flop can operate reliably"
   ]
   }
,
{
		   "cell_type": "markdown",
		   "metadata": {},
		   "source": [
			"## Example 11.4: Find_maximum_counting_rate_for_3_bit_ripple_count.sce"
		   ]
		  },
  {
"cell_type": "code",
	   "execution_count": null,
	   "metadata": {
	    "collapsed": true
	   },
	   "outputs": [],
"source": [
"//Ex11_4\n",
"clc\n",
"tphL=40*10^(-9)\n",
"disp('tphL= '+string(tphL)+' seconds') // Time taken from Clear to output\n",
"n=3\n",
"disp('n= '+string(n))// Number of bits in counter i.e no. of flip-flops used\n",
"fmax=1/(n*tphL) // Using formulae fmax<= 1/(n*tphL)\n",
"disp('fmax=1/(n*tphL) = '+string(fmax)+' Hz')// Maximum counting rate at which flip-flop can operate reliably\n",
""
   ]
   }
,
{
		   "cell_type": "markdown",
		   "metadata": {},
		   "source": [
			"## Example 11.6: Find_display_count_for_decade_counter.sce"
		   ]
		  },
  {
"cell_type": "code",
	   "execution_count": null,
	   "metadata": {
	    "collapsed": true
	   },
	   "outputs": [],
"source": [
"//Ex11_6\n",
"clc\n",
"fs=2*10^(3) \n",
"disp('fs= '+string(fs)+' Hz')// sine wave input signal frequency\n",
"fB=1*10^(6)\n",
"disp('fB= '+string(fB)+' Hz')// input Time-Base clock frequency\n",
"\n",
"disp('part(i)')// part(i)of question\n",
"fb=fB/(10^5)\n",
"disp('fb= fB/(10^5)='+string(fb)+' Hz')//  Time-Base frequency for 5 decade counter\n",
"delta_t=1/fb\n",
"disp('delta_t=1/fb= '+string(delta_t)+' seconds') // Gate Time interval\n",
"DISP1=fs*delta_t\n",
"disp('fs*delta_t= '+string(DISP1))// Display indication for 5 decade counter\n",
"disp('Display indication=0200')// Display indication as 4-bit\n",
"\n",
"disp('part(ii)')// part(ii)of question\n",
"fb=fB/(10^3)\n",
"disp('fb=fB/(10^3)= '+string(fb)+' Hz')//  Time-Base frequency for 3 decade counter\n",
"delta_t=1/fb\n",
"disp('delta_t=1/fb= '+string(delta_t)+' seconds') // Gate Time interval for 3 decade counter\n",
"DISP2=fs*delta_t\n",
"disp('fs*delta_t= '+string(DISP2))// Display indication for 3 decade counter\n",
"disp('Display indication=0002')// Display indication as 4-bit"
   ]
   }
],
"metadata": {
		  "kernelspec": {
		   "display_name": "Scilab",
		   "language": "scilab",
		   "name": "scilab"
		  },
		  "language_info": {
		   "file_extension": ".sce",
		   "help_links": [
			{
			 "text": "MetaKernel Magics",
			 "url": "https://github.com/calysto/metakernel/blob/master/metakernel/magics/README.md"
			}
		   ],
		   "mimetype": "text/x-octave",
		   "name": "scilab",
		   "version": "0.7.1"
		  }
		 },
		 "nbformat": 4,
		 "nbformat_minor": 0
}
