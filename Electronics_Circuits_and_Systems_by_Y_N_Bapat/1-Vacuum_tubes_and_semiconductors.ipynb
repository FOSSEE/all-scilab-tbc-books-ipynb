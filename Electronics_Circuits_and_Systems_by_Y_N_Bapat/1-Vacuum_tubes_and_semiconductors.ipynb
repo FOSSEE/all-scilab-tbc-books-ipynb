{
"cells": [
 {
		   "cell_type": "markdown",
	   "metadata": {},
	   "source": [
       "# Chapter 1: Vacuum tubes and semiconductors"
	   ]
	},
{
		   "cell_type": "markdown",
		   "metadata": {},
		   "source": [
			"## Example 1.1: small_signal_parameters.sce"
		   ]
		  },
  {
"cell_type": "code",
	   "execution_count": null,
	   "metadata": {
	    "collapsed": true
	   },
	   "outputs": [],
"source": [
"//Ex_1.1\n",
"//refer to fig 1.2(c) and given d.c operating points VGKQ=-2 V,VAKQ=250 V,IAQ=-1.2 mA\n",
"clc\n",
"VAK2=300\n",
"disp('VAK2 = '+string(VAK2)+' volts') // value of anode voltage2 \n",
"VAK1=170\n",
"disp('VAK1 = '+string(VAK1)+' volts') // value of anode voltage1 \n",
"IA2=2*10^(-3)\n",
"disp('IA2 = '+string(IA2)+' ampere') // value of anode current2\n",
"IA1=0*10^(-3)\n",
"disp('IA1 = '+string(IA1)+' ampere') // value of anode current1\n",
"rP=(VAK2-VAK1)/(IA2-IA1)//anode resistance at VGK=VGKQ\n",
"disp('resistance,rP =(VAK2-VAK1)/(IA2-IA1)='+string(rP)+' ohm') //calculation\n",
"VGK2=-2.5\n",
"disp('VGK2 = '+string(VGK2)+' volts') // value of grid voltage2 \n",
"VGK3=-1.5\n",
"disp('VGK1 = '+string(VGK3)+' volts') // value of grid voltage1\n",
"VAK3=200\n",
"disp('VAK3 = '+string(VAK3)+' volts') // value of anode voltage1 \n",
"u=(VAK2-VAK3)/(VGK2-VGK3)//amplification factor at IA=IAQ\n",
"disp('amplification factor,u =(VAK2-VAK1)/(VGK2-VGK1)='+string(u)+' unitless ') //calculation\n",
"IA4=2.2*10^(-3)\n",
"disp('IA4 = '+string(IA4)+' ampere') // value of anode current4\n",
"IA3=0.5*10^(-3)\n",
"disp('IA1 = '+string(IA3)+' ampere') // value of anode current1\n",
"gm=(IA4-IA3)/(VGK2-VGK3)// transconductance at VAK=VAKQ\n",
"disp('transconductance,gm =(IAK4-IAK3)/(VGK2-VGK3)='+string(gm)+' ampere/volt ') //calculation\n",
"//mistake of negative sign for answers for u(amplification factor) and gm(transconductance)in book"
   ]
   }
,
{
		   "cell_type": "markdown",
		   "metadata": {},
		   "source": [
			"## Example 1.2: CRT_parameters.sce"
		   ]
		  },
  {
"cell_type": "code",
	   "execution_count": null,
	   "metadata": {
	    "collapsed": true
	   },
	   "outputs": [],
"source": [
"//Ex1_2\n",
"clc\n",
"d=0.5*10^(-2)\n",
"disp('d = '+string(d)+'metre') //initializing value of distance b/w plates\n",
"l=2*10^(-2)\n",
"disp('l = '+string(l)+'metre') //initializing value of length of plates\n",
"L=20*10^(-2)\n",
"disp('L = '+string(L)+'metre') //initializing value of distance b/w centre of plates and screen\n",
"Va=2000\n",
"disp('Va = '+string(Va)+'volts') ////initializing value ofanode voltage\n",
"Vd=100\n",
"disp('Vd = '+string(Vd)+'volts') //initializing value of deflecting voltage\n",
"m=9.11*10^(-31)\n",
"disp('m = '+string(m)+'Kg') //mass of electron\n",
"q=1.6*10^(-19)\n",
"disp('q = '+string(q)+'coulomb') //charge on an electron\n",
"disp('horizontal beam velocity,Vx =(2*Va*q/m)^(0.5) metre/second') //formula\n",
"Vx =(2*Va*q/m)^(0.5)\n",
"disp('horizontal beam velocity,Vx =(2*Va*q/m)^(0.5)= '+string(Vx)+' metre/second')//calculation\n",
"disp('transit time,t1 =(l/Vx) second') //formula\n",
"t1=(l/Vx)\n",
"disp('transit time,t1 =(l/Vx)= '+string(t1)+' second')//calculation\n",
"disp('vertical beam velocity,Vy =(q*Vd*l/d*m*Vx) metre/second') //formula\n",
"Vy=((q*Vd*l)/(d*m*Vx))\n",
"disp('vertical beam velocity,Vy =(q*Vd*l/d*m*Vx)= '+string(Vy)+' metre/second')//calculation\n",
"disp('vertical displacement,D =((l*L*Vd)/(2*d*Va) metre')//formula\n",
"D =(l*L*Vd)/(2*d*Va)\n",
"disp('vertical displacement,D =((l*L*Vd)/(2*d*Va)='+string(D)+' metre')//calculation\n",
"disp('sensitivity of CRT,S =(0.5*l*L)/(d*Va) metre/volt')//formula\n",
"S =(0.5*l*L)/(d*Va)\n",
"disp('sensitivity of CRT,S =(0.5*l*L)/(d*Va)='+string(S)+' metre/volt')//calculation\n",
"\n",
"\n",
""
   ]
   }
,
{
		   "cell_type": "markdown",
		   "metadata": {},
		   "source": [
			"## Example 1.3: Find_deflection_of_electron_beam.sce"
		   ]
		  },
  {
"cell_type": "code",
	   "execution_count": null,
	   "metadata": {
	    "collapsed": true
	   },
	   "outputs": [],
"source": [
"//Ex1-3\n",
"clc\n",
"m=9.11*10^(-31)\n",
"disp('m = '+string(m)+' Kg') //mass of electron\n",
"q=1.6*10^(-19)\n",
"disp('q = '+string(q)+' coulomb') //charge on an electron\n",
"B=1.5*10^(-3)\n",
"disp('B = '+string(B)+ ' wb/m^2') //initializing value of magnetic field\n",
"l=5*10^(-2)\n",
"disp('l = '+string(l)+' metre') //initializing axial length of magnetic field\n",
"L=30*10^(-2)\n",
"disp('L = '+string(L)+' metre') //initializing value of distance of screen from centre of magnetic field\n",
"Va=10000\n",
"disp('Va = '+string(Va)+' volts') ////initializing value of anode voltage\n",
"disp('horizontal beam velocity,Vx =(2*Va*q/m)^(0.5) metre/second') //formula\n",
"Vx =(2*Va*q/m)^(0.5)\n",
"disp('horizontal beam velocity,Vx =(2*Va*q/m)^(0.5)= '+string(Vx)+' metre/second')//calculation\n",
"disp('radius,r =(m*Vx)/(B*q) metre') //formula\n",
"r =(m*Vx)/(B*q)\n",
"disp('radius,r =(m*Vx)/(B*q)= '+string(r)+' metre')//calculation\n",
"disp('deflection,D =(L*l)/r) metre')//formula\n",
"D =(L*l)/r\n",
"disp('deflection,D =(L*l)/r)='+string(D)+' metre')//calculation"
   ]
   }
,
{
		   "cell_type": "markdown",
		   "metadata": {},
		   "source": [
			"## Example 1.4: calculate_drift_velocity.sce"
		   ]
		  },
  {
"cell_type": "code",
	   "execution_count": null,
	   "metadata": {
	    "collapsed": true
	   },
	   "outputs": [],
"source": [
"//Ex-1.4\n",
"clc\n",
"q=1.6*10^(-19)\n",
"disp('q = '+string(q)+'coulomb') //charge on an electron\n",
"I=10\n",
"disp('I = '+string(I)+'Ampere') //initializing value of current\n",
"r=64.25\n",
"disp('radius,r = '+string(r)+' mils')//initializing value of radius of wire\n",
"function[metres]=mils2metres(mils)\n",
"metres=(mils*2.54)/(1000*100)\n",
"endfunction\n",
"[r1]=mils2metres(r)   \n",
"disp('r1 = '+string(r1)+' metre')\n",
"n=5*10^(28)\n",
"disp('n = '+string(n)+' electrons/m^3') // electrons concentration in copper\n",
"A=(%pi*r1^2) //formulae                            \n",
"disp('cross sectional area,A =(%pi*r1^2)= '+string(A)+' square metre')//calculation\n",
"v=(I)/(A*q*n)//formulae(I=A*q*n*v)\n",
"disp('drift velocity,v=(I)/(A*q*n)='+string(v)+' metre/second')//calculation\n",
"\n",
" "
   ]
   }
,
{
		   "cell_type": "markdown",
		   "metadata": {},
		   "source": [
			"## Example 1.5: calculation_of_resistance.sce"
		   ]
		  },
  {
"cell_type": "code",
	   "execution_count": null,
	   "metadata": {
	    "collapsed": true
	   },
	   "outputs": [],
"source": [
"//Ex1_5\n",
"clc\n",
"A=10*10^(-6); p1=10^(-4); p2=10^(3);p3=10^(10);l=1*10^(-2); //initializations\n",
"disp('cross sectional area,A ='+string(A)+'merer square') \n",
"disp('resitivity(rho),p1 ='+string(p1)+' ohm-m')\n",
"disp('resitivity(rho),p2 ='+string(p2)+' ohm-m')\n",
"disp('resitivity(rho),p3 ='+string(p3)+' ohm-m')\n",
"disp('conductor length,l ='+string(l)+' metre')\n",
"disp(' resistance for copper,R = p1*l/A = '+string(p1*l/A)+'ohm') //calculations for copper\n",
"disp(' resistance for silicon,R = p2*l/A = '+string(p2*l/A)+'ohm') //calculations for silicon\n",
"disp(' resistance for glass,R = p3*l/A = '+string(p3*l/A)+'ohm') //calculations for glass"
   ]
   }
,
{
		   "cell_type": "markdown",
		   "metadata": {},
		   "source": [
			"## Example 1.6: parameters_for_Silicon_atoms.sce"
		   ]
		  },
  {
"cell_type": "code",
	   "execution_count": null,
	   "metadata": {
	    "collapsed": true
	   },
	   "outputs": [],
"source": [
"//Ex1_6\n",
"clc\n",
"ni = 1.45*10^10 //initializations\n",
"nV = 5*10^22 //initializations\n",
"un = 1500 //initializations\n",
"up = 0475//initializations\n",
"T = 300 //initializations\n",
"I=10^(-6)\n",
"disp('I = '+string(I)+'Ampere') //initializing value of current\n",
"A=(50*10^(-4))^2; l=0.5 //initializations\n",
"q=1.59*10^(-19) //charge on an electron\n",
"disp('intrinsic charge concentration,ni = '+string(ni)+' /centimetre cube')\n",
"disp('silicon atoms concntration, nV = '+string(nV)+' /centimetre cube ')\n",
"\n",
"disp('electron mobility,un = '+string(un)+' cm.sq/V-s')\n",
"disp('hole mobility,up = '+string(up)+'cm.sq/V-s')\n",
"disp('temperature,T = '+string(T)+'K')\n",
"disp('q = '+string(q)+'coulomb') //charge on an electron\n",
"disp('cross sectional area,A ='+string(A)+'cm square') \n",
"disp('conductor length,l ='+string(l)+'cm')\n",
" N=nV/ni\n",
"disp('relative concentration,N =nV/ni= '+string(N)+' silicon atoms per electron -hole pair') //calculation\n",
"sigma=(1.59*10^(-19)*(1.45*10^10)*(1500+0475))\n",
"disp('intrinsic conductivityi,sigma =(1.59*10^(-19)*(1.45*10^10)*(1500+0475))= '+string(sigma)+' (ohm-cm)^-1') //calculation\n",
"pi =(1/sigma)//formulae\n",
"disp('resitivity(rho),pi =(1/sigma)='+string(pi)+' ohm-cm')//calculation\n",
"R=(2.22*10^5*0.5)/0.000025\n",
"disp(' resistance for silicon,R =((2.22*10^5*0.5)/0.000025) = '+string(R)+' ohm') //calculations for silicon\n",
"V=I*R\n",
"disp(' voltage drop,V =I*R = '+string(V)+' V') //calculations "
   ]
   }
,
{
		   "cell_type": "markdown",
		   "metadata": {},
		   "source": [
			"## Example 1.7: N_type_Silicon_parameters.sce"
		   ]
		  },
  {
"cell_type": "code",
	   "execution_count": null,
	   "metadata": {
	    "collapsed": true
	   },
	   "outputs": [],
"source": [
"//Ex1_7\n",
"clc\n",
"ni = 1.45*10^10 //initializations\n",
"nV = 5*10^22 //initializations\n",
"un = 1500 //initializations\n",
"up = 0475//initializations\n",
"T = 300 //initializations\n",
"I=10^(-6)\n",
"disp('I = '+string(I)+'Ampere') //initializing value of current\n",
"A=(50*10^(-4))^2; l=0.5 //initializations\n",
"q=1.59*10^(-19) //charge on an electron\n",
"disp('intrinsic charge concentration,ni = '+string(ni)+' /centimetre cube')\n",
"disp('silicon atoms concntration, nV = '+string(nV)+' /centimetre cube ')\n",
"\n",
"disp('electron mobility,un = '+string(un)+' cm.sq/V-s')\n",
"disp('hole mobility,up = '+string(up)+' cm.sq/V-s')\n",
"disp('temperature,T = '+string(T)+' K')\n",
"disp('q = '+string(q)+'coulomb') //charge on an electron\n",
"disp('cross sectional area,A ='+string(A)+' cm square') \n",
"disp('conductor length,l ='+string(l)+' cm')\n",
"nD=nV/10^6//formulae\n",
"disp('donor concentration,nD= nV/10^6='+string(nD)+' /cm.cube')//calculation\n",
"nn=nD//formulae\n",
"disp('resulting mobile electron concentration,nn= nD='+string(nn)+' /cm.cube')//calculation\n",
"pn= ni^2/nD//formulae\n",
"disp('resulting hole concentration,pn= ni^2/nD='+string(pn)+' /cm.cube')//calculation\n",
"sigma=q*nD*un//formulae\n",
"disp('n-type semiconductor conductivity,sigma=q*nD*un= '+string(sigma)+' (ohm-cm)^-1') //calculation\n",
"pn =(1/sigma)\n",
"disp('doped silicon resitivity(rho),pn =(1/sigma)='+string(pn)+' ohm-cm')//calculation\n",
"R=(0.084*0.5)/A\n",
"disp(' resistance for silicon,R =((0.084*0.5)/A) = '+string(R)+' ohm') //calculations for silicon\n",
"V=I*R\n",
"disp(' voltage drop,V =I*R = '+string(V)+' V') //calculations "
   ]
   }
,
{
		   "cell_type": "markdown",
		   "metadata": {},
		   "source": [
			"## Example 1.8: diffusion_hole_current.sce"
		   ]
		  },
  {
"cell_type": "code",
	   "execution_count": null,
	   "metadata": {
	    "collapsed": true
	   },
	   "outputs": [],
"source": [
"//Ex1_8\n",
"clc\n",
"q=1.59*10^(-19) //charge on an electron\n",
"disp('q = '+string(q)+'coulomb') //charge on an electron\n",
"d=0.037\n",
"disp('dimension of semiconductor,d='+string(d)+' cm')\n",
"A=(d^2) //area formulae for square shaped semiconductor\n",
"disp('cross sectional area,A =d^2='+string(A)+' cm square') \n",
"x=10^(-4)\n",
"disp('thickness,x ='+string(x)+' cm')\n",
"x0=0\n",
"disp('thickness,x0 ='+string(x0)+' cm')\n",
"p=9.22*10^(15)//\n",
"disp('hole concentration at x,p= '+string(p)+' /cm-cube')//calculation\n",
"p0=0//\n",
"disp('hole concentration at x0,p0= '+string(p0)+' /cm-cube')//calculation\n",
"dp=(p-p0)//formulae\n",
"dx=(x-x0)//formulae\n",
"disp(' change in concentration at ,dp= '+string(dp)+' /cm-cube')//calculation\n",
"disp('change in thickness,dx= '+string(dx)+' cm')//calculation\n",
"(dp/dx)==(p-p0)/(x-x0)//formulae\n",
"disp(' slope,(dp/dx) =(p-p0)/(x-x0)='+string(dp/dx)+' holes/cm-cube')//calculation\n",
"Dp=12\n",
"disp('hole diffusion constant,Dp= '+string(Dp)+' cm-sq/s')//calculation\n",
"Ip=A*q*Dp*(dp/dx)\n",
"disp(' hole diffusion current,Ip =A*q*Dp*(dp/dx)='+string(Ip)+' ampere')//calculation"
   ]
   }
],
"metadata": {
		  "kernelspec": {
		   "display_name": "Scilab",
		   "language": "scilab",
		   "name": "scilab"
		  },
		  "language_info": {
		   "file_extension": ".sce",
		   "help_links": [
			{
			 "text": "MetaKernel Magics",
			 "url": "https://github.com/calysto/metakernel/blob/master/metakernel/magics/README.md"
			}
		   ],
		   "mimetype": "text/x-octave",
		   "name": "scilab",
		   "version": "0.7.1"
		  }
		 },
		 "nbformat": 4,
		 "nbformat_minor": 0
}
