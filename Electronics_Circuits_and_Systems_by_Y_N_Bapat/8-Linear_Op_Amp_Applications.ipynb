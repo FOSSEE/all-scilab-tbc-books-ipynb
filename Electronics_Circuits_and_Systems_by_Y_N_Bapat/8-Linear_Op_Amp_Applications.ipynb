{
"cells": [
 {
		   "cell_type": "markdown",
	   "metadata": {},
	   "source": [
       "# Chapter 8: Linear Op Amp Applications"
	   ]
	},
{
		   "cell_type": "markdown",
		   "metadata": {},
		   "source": [
			"## Example 8.10: Design_2nd_order_single_op_amp_band_pass_filter.sce"
		   ]
		  },
  {
"cell_type": "code",
	   "execution_count": null,
	   "metadata": {
	    "collapsed": true
	   },
	   "outputs": [],
"source": [
"//Ex8_10\n",
"clc\n",
"fo=150\n",
"disp('fo= '+string(fo)+' Hz')//Central frequency of band pass filter\n",
"BW=15\n",
"disp('BW= '+string(BW)+' Hz')// Upper cut-off frequency or 3-dB bandwidth\n",
"Q=fo/BW // Quality factor\n",
"disp('Q= '+string(Q))\n",
"C=0.05*10^(-6) // Choosing value of capacitor same as in book\n",
"disp('C='+string(C)+'farad')\n",
"R=sqrt(2)/(2*%pi*fo*C)\n",
"disp('R=sqrt(2)/(2*%pi*fo*C)='+string(R)+ ' ohm')  // resistance value for filter design\n",
"Am=5-(sqrt(2)/Q) // formulae\n",
"disp('Am=5-(sqrt(2)/Q)='+string(Am)) // Midband gain \n",
"Abp=Am/(5-Am)\n",
"disp('Abp=Am/(5-Am)='+string(Abp)) // Central frequency  gain "
   ]
   }
,
{
		   "cell_type": "markdown",
		   "metadata": {},
		   "source": [
			"## Example 8.11: Determine_filter_response_for_state_variable_filter.sce"
		   ]
		  },
  {
"cell_type": "code",
	   "execution_count": null,
	   "metadata": {
	    "collapsed": true
	   },
	   "outputs": [],
"source": [
"//Ex8_11\n",
"clc\n",
"R=10*10^(3)\n",
"disp('R= '+string(R)+ ' ohm')  // resistance\n",
"R1=10*10^(3)\n",
"disp('R1= '+string(R1)+ ' ohm')  // resistance\n",
"C=0.01*10^(-6) //  value of capacitor\n",
"disp('C='+string(C)+' farad')\n",
"R1_ratio_K=2.5*10^(3)\n",
"disp('R1_ratio_K= '+string(R1_ratio_K)+ ' ohm')  // resistance\n",
"R2=5*10^(3)\n",
"disp('R= '+string(R)+ ' ohm')  // resistance\n",
"alpha_R2=250\n",
"disp('alpha_R2= '+string(alpha_R2)+ ' ohm')  // resistance\n",
"alpha=alpha_R2/R2\n",
"disp('alpha=alpha_R2/R2= '+string(alpha))  // Damping factor\n",
"Q=1/alpha\n",
"disp('Q= 1/alpha='+string(Q))// Quality factor\n",
"omega_o=1/(R*C)\n",
"disp('omega_o=1/(R*C)= '+string(omega_o)+' radian')// centre angular frequency\n",
"BW=omega_o/Q\n",
"disp('Bandwidth=omega_o/Q= '+string(BW)+' radian')// Upper cut-off frequency or 3-dB bandwidth\n",
"K=R1/(R1_ratio_K)// Pass band gain for lPF and HPF of state variable filter\n",
"disp('K=R1/(R1_ratio_K)= '+string(K))\n",
"Gm=K/alpha// Pass band gain of state variable filter\n",
"disp('center frequency gain for BPF, K/alpha=K*Q= '+string(Gm)) // Centre frequency gain for BP filter\n",
""
   ]
   }
,
{
		   "cell_type": "markdown",
		   "metadata": {},
		   "source": [
			"## Example 8.12: Find_output_offset_voltage_with_and_without_comensation.sce"
		   ]
		  },
  {
"cell_type": "code",
	   "execution_count": null,
	   "metadata": {
	    "collapsed": true
	   },
	   "outputs": [],
"source": [
"//Ex8_12\n",
"clc\n",
"IB=0.5*10^(-6)\n",
"disp('IB = '+string(IB)+' ampere') //Input bias current \n",
"Iio=0.05*10^(-6)\n",
"disp('Iio = '+string(Iio)+' ampere') //Input offset current  \n",
"Vio=1*10^(-3)\n",
"disp('Vio= '+string(Vio)+' volts') //Input offset voltage\n",
"R1=10*10^(3)\n",
"disp('R1= '+string(R1)+ ' ohm')  // resistance\n",
"RF=500*10^(3)\n",
"disp('RF= '+string(RF)+ ' ohm')  //Feedback resistance\n",
"Vos1=Vio*(1+RF/R1)\n",
"disp('Vos1=Vio*(1+RF/R1)='+string(Vos1)+' volts') //output offset voltage due to input offset voltage\n",
"Vos2=IB*RF\n",
"disp('Vos2=IB*RF='+string(Vos2)+' volts') //output offset voltage due to Input bias current \n",
"Vos=Vos1+Vos2\n",
"disp('Vos=Vos1+Vos2='+string(Vos)+' volts') //total output offset voltage \n",
"R2=(R1*RF)/(R1+RF)\n",
"disp('R2=(R1*RF)/(R1+RF)= '+string(R2)+ ' ohm')  // resistance to balance IB effect \n",
"Vos2=Iio*RF\n",
"disp('Vos2=Iio*RF='+string(Vos2)+' volts') // Reduced output offset voltage due to Input offset current  \n",
"Vos=Vos1+Vos2\n",
"disp('Vos=Vos1+Vos2='+string(Vos)+' volts') // output offset voltage with compensation \n",
"  "
   ]
   }
,
{
		   "cell_type": "markdown",
		   "metadata": {},
		   "source": [
			"## Example 8.13: EX8_13.sce"
		   ]
		  },
  {
"cell_type": "code",
	   "execution_count": null,
	   "metadata": {
	    "collapsed": true
	   },
	   "outputs": [],
"source": [
"//Ex8_13\n",
"clc\n",
"Iio=0.1*10^(-9)\n",
"disp('Iio = '+string(Iio)+' ampere/degree _celsius') //Input offset current  \n",
"Vio=10*10^(-6)\n",
"disp('Vio= '+string(Vio)+' volt/degree _celsius') //Input offset voltage\n",
"Vs=10*10^(-3)\n",
"disp('Vs= '+string(Vs)+' volts') //Input voltage\n",
"R1=10*10^(3)\n",
"disp('R1= '+string(R1)+ ' ohm')  // resistance\n",
"RF=100*10^(3)\n",
"disp('RF= '+string(RF)+ ' ohm')  //Feedback resistance\n",
"disp('part(i)')\n",
"R2=(R1*RF)/(R1+RF)// R1 in parallel with RF\n",
"disp('R2=(R1*RF)/(R1+RF)= '+string(R2)+ ' ohm')  // resistance to balance IB i.e offset effect \n",
"disp('part(ii)')\n",
"delta_T=75-25\n",
"disp('delta_T=75-25 = '+string(delta_T)+' degree_celsius') //Temperature change\n",
"delta_Vo=[(Vio*delta_T)*(1+RF/R1)]+(Iio*delta_T*RF)\n",
"disp('delta_Vo=[(Vio*delta_T)*(1+RF/R1)]+(Iio*delta_T*RF)= '+string(delta_Vo)+' volts') //Output voltage drift\n",
"disp('part(iii)')\n",
"Vo=(-RF/R1)*Vs\n",
"disp('Vo=(-RF/R1)*Vs= '+string(Vo)+' volts') //Inverting OP-AMP output voltage\n",
"e=(delta_Vo/Vo)*100\n",
"disp('Percentage error=(delta_Vo/Vo)*100 =(-)'+string(abs(e))+', (+)'+string(abs(e))+'  percent')//percentage error"
   ]
   }
,
{
		   "cell_type": "markdown",
		   "metadata": {},
		   "source": [
			"## Example 8.14: Find_power_supply_voltage_regulation.sce"
		   ]
		  },
  {
"cell_type": "code",
	   "execution_count": null,
	   "metadata": {
	    "collapsed": true
	   },
	   "outputs": [],
"source": [
"//Ex8_14\n",
"clc\n",
"Iio=0.1*10^(-9)\n",
"disp('Iio = '+string(Iio)+' ampere') //Input offset current\n",
"VCC=15\n",
"disp('VCC= '+string(VCC)+' volts') //  voltage supply  \n",
"PSRR=150*10^(-6)\n",
"disp('PSRR= '+string(PSRR)+'  volts/V')// Power supply rejection ratio\n",
"Vio=10*10^(-6)\n",
"disp('Vio= '+string(Vio)+' volts') //Input offset voltage\n",
"R1=10*10^(3)\n",
"disp('R1= '+string(R1)+ ' ohm')  // resistance\n",
"RF=100*10^(3)\n",
"disp('RF= '+string(RF)+ ' ohm')  //Feedback resistance\n",
"delta_T=75-25\n",
"disp('delta_T=75-25 = '+string(delta_T)+' celsius') //Temperature change\n",
"delta_Vo=[(Vio*delta_T)*(1+RF/R1)]+(Iio*delta_T*RF)\n",
"disp('delta_Vo=[(Vio*delta_T)*(1+RF/R1)]+(Iio*delta_T*RF)= '+string(delta_Vo)+' volts') //Output voltage drift\n",
"delta_Vio1=(delta_Vo)*(R1/RF)\n",
"disp('delta_Vio1=(delta_Vo)*(R1/RF)= '+string(delta_Vio1)+' volts') // voltage change at Input for voltage drift found\n",
"delta_Vio2=(delta_Vio1)*(1/10)\n",
"disp('delta_Vio2=(delta_Vio1)*(1/10)= '+string(delta_Vio2)+' volts') //  change in Vio due to PSRR\n",
"p=[(delta_Vio2)/(VCC*PSRR)]*100\n",
"disp('power supply regulation=[(delta_Vio2)/(VCC*PSRR)]*100 ='+string(p)+ ' percent')// power supply regulation requirement\n",
"\n",
"//delta_Vio1 corresponds to voltage change at Input for voltage drift found \n",
"//delta_Vio2 corresponds voltage change at input due to PSRR\n",
""
   ]
   }
,
{
		   "cell_type": "markdown",
		   "metadata": {},
		   "source": [
			"## Example 8.15: calculate_full_power_bandwidth.sce"
		   ]
		  },
  {
"cell_type": "code",
	   "execution_count": null,
	   "metadata": {
	    "collapsed": true
	   },
	   "outputs": [],
"source": [
"//Ex8_15\n",
"clc\n",
"SR=0.65\n",
"disp('SR= '+string(SR)+'  volts/microsecond')// Slew rate of OP-AMP\n",
"disp('part(i)')\n",
"Vm=5\n",
"disp('Vm= '+string(Vm)+' volts') //  Output peak voltage1\n",
"fsm=SR/[10^(-6)*(2*%pi*Vm)] // using formulae  SR=2*pi*fsm*Vm\n",
"disp('fsm=SR/[10^(-6)*(2*%pi*Vm)] = '+string(fsm)+' Hz')// // Full power bandwidth  for Output peak voltage Vm=5V\n",
"disp('part(ii)')\n",
"Vm=1\n",
"disp('Vm= '+string(Vm)+' volts') //  Output peak voltage2\n",
"fsm=SR/[10^(-6)*(2*%pi*Vm)]  // using formulae  SR=2*pi*fsm*Vm\n",
"disp('fsm=SR/[10^(-6)*(2*%pi*Vm)] = '+string(fsm)+' Hz')// // Full power bandwidth  for Output peak voltage Vm=1V"
   ]
   }
,
{
		   "cell_type": "markdown",
		   "metadata": {},
		   "source": [
			"## Example 8.1: calculate_feedback_factor_and_variation_in_feedback_gain_Af.sce"
		   ]
		  },
  {
"cell_type": "code",
	   "execution_count": null,
	   "metadata": {
	    "collapsed": true
	   },
	   "outputs": [],
"source": [
"//Ex8_1\n",
"clc\n",
"Amin=8000\n",
"disp('Amin='+string(Amin)) // Minimum gain of OP-AMP\n",
"Amax=64000\n",
"disp('Amax='+string(Amax)) // Maximum gain \n",
"disp('part (i)')\n",
"delta_Af=0.01\n",
"disp('delta_Af='+string(delta_Af)) // Change in overall feedBack gain \n",
"delta_A=(Amax-Amin)/Amin\n",
"disp('delta_A= (Amax-Amin)/Amin = '+string(delta_A)) // Change in open loop gain \n",
"Sg = delta_Af/delta_A\n",
"B = (1/Sg - 1)/Amax\n",
"disp('Sg = delta_Af/delta_A = '+string(Sg))//desensitivity factor\n",
"disp(' B = (1/Sg - 1)/Amax = '+string(B))//feedBack factor\n",
" disp(' part (ii)')\n",
"Af_min = Amin/(1+B*Amin)//minimum change in overall feedBack gain \n",
"Af_max = Amax/(1+B*Amax)///maximum change in overall feedBack gain \n",
"disp('Af_min = Amin/(1+B*Amin) = '+string(Af_min))\n",
"disp('Af_max = Amax/(1+B*Amax) = '+string(Af_max))\n",
"disp('variation in Af = '+string(Af_max/Af_min))//variation in Af with feedBack factor 'B'\n",
"\n",
"\n",
"// for above problem author has divided question in two parts but during solution has written 3 parts. \n",
"// part (i) and part (ii) combinedly equivlent to part (i) \n",
"// part (iii) is equivalent to part (ii)"
   ]
   }
,
{
		   "cell_type": "markdown",
		   "metadata": {},
		   "source": [
			"## Example 8.2: Design_an_inverting_op_amp.sce"
		   ]
		  },
  {
"cell_type": "code",
	   "execution_count": null,
	   "metadata": {
	    "collapsed": true
	   },
	   "outputs": [],
"source": [
"//Ex8_2\n",
"clc\n",
"Avf=-100\n",
"disp('Avf='+string(Avf)) // Voltage gain \n",
"Rif=1\n",
"disp('Rif= '+string(Rif)+ ' ohm')  //Input resistance of OP-AMP\n",
"R1=Rif\n",
"RF=-R1*Avf // using formulae Vo=(-RF/R1)*Vi\n",
"disp('RF= -R1*Avf='+string(RF)+ ' ohm')  //Feedback resistance of OP-AMP\n",
"// NOTE:Error in value of RF since they have given value of Rif=1ohm but calculated RF by using Rif=1 Kilo ohm\n",
"// So i have calculated using Ri=1ohm and hence RF=100 ohm"
   ]
   }
,
{
		   "cell_type": "markdown",
		   "metadata": {},
		   "source": [
			"## Example 8.3: Find_resistances_R11_and_R12_and_R13_for_op_amp_adder_and_output_voltage.sce"
		   ]
		  },
  {
"cell_type": "code",
	   "execution_count": null,
	   "metadata": {
	    "collapsed": true
	   },
	   "outputs": [],
"source": [
"//Ex8_3\n",
"clc\n",
"R11=1*10^(3)\n",
"disp('R11= '+string(R11)+ ' ohm')  // resistance at input terminal of OP-AMP Adder\n",
"RF=100*10^(3)\n",
"disp('RF= '+string(RF)+ ' ohm')  //Feedback resistance\n",
"R12=10*10^(3)\n",
"disp('R12= '+string(R12)+ ' ohm')  // resistance at input terminal of OP-AMP  Adder\n",
"R13=100*10^(3)\n",
"disp('R13= '+string(R13)+ ' ohm')  // resistance at input terminal of OP-AMP  Adder\n",
"disp('vo = -('+string(RF/R11)+'vs1 +'+string(RF/R12)+'vs2 +'+string(RF/R13)+'vs3)') // output voltage of opamp adder in terms of input vs1,vs2 vs3\n",
"\n",
"// for average value of input signal\n",
"n = 3// given inputs are '3'\n",
"R11 = n*RF\n",
"R12 = n*RF\n",
"R13 = n*RF\n",
"disp('vo = -('+string(RF/R11)+' vs1 +'+string(RF/R12)+' vs2 +'+string(RF/R13)+ ' vs3)') // output voltage of opamp adder \n",
"\n",
"\n",
"// note : the output voltage of inverting adder is negative \n",
"// but while calculating weighted output voltage in above question ..author has neglected  or miss the negative sign"
   ]
   }
,
{
		   "cell_type": "markdown",
		   "metadata": {},
		   "source": [
			"## Example 8.4: Find_scale_factor_of_photometer.sce"
		   ]
		  },
  {
"cell_type": "code",
	   "execution_count": null,
	   "metadata": {
	    "collapsed": true
	   },
	   "outputs": [],
"source": [
"//Ex8_4\n",
"clc\n",
"Ir=10*10^(-3)\n",
"disp('Ir = '+string(Ir)+' ampere/lumen of radiant energy ') //photodiode Reverse saturation current for constant reverse bias VR\n",
"RF=10*10^(3)\n",
"disp('RF= '+string(RF)+ ' ohm')  //Feedback resistance\n",
"E=1*10^(-2)\n",
"disp('E = '+string(E)+' lumens')//  radiant energy\n",
"IR=Ir*E\n",
"disp('IR =Ir*E= '+string(IR)+' ampere') // Reverse saturation current\n",
"Vo=IR*RF\n",
"disp('Vo=IR*RF= '+string(Vo)+' volts') //  output voltage\n",
"s=E/Vo\n",
"disp('scale factor=E/Vo= '+string(E)+' lumens/V') //  Scale factor of photometer\n",
"\n",
""
   ]
   }
,
{
		   "cell_type": "markdown",
		   "metadata": {},
		   "source": [
			"## Example 8.5: EX8_5.sce"
		   ]
		  },
  {
"cell_type": "code",
	   "execution_count": null,
	   "metadata": {
	    "collapsed": true
	   },
	   "outputs": [],
"source": [
"//Ex8_5\n",
"clc\n",
"Av=1*10^(5)\n",
"disp('Av= '+string(Av)) //Voltage gain\n",
"RF=100*10^(3)\n",
"disp('RF= '+string(RF)+ ' ohm')  //Feedback resistance\n",
"RM=10*10^(3)\n",
"disp('RM= '+string(RM)+ ' ohm')  // D.C Ammeter internal resistance\n",
"is=10*10^(-6)\n",
"disp('is = '+string(is)+' ampere') //  Source current\n",
"vo=is*RF\n",
"disp('vo=is*RF= '+string(vo)+' volts') //  output voltage\n",
"S=vo/is\n",
"disp('S=vo/is= '+string(S)+' V/A') // Sensitivity of Ammeter\n",
"Rif=RF/(1+Av)\n",
"disp('Rif=RF/(1+Av)= '+string(Rif)+ ' ohm')  //Input resistance of OP-AMP\n",
"im=100*10^(-6)\n",
"disp('im = '+string(im)+' ampere') // Meter Full-Scale deflection current   \n",
"RF=(im*RM)/is\n",
"disp('RF=(im*RM)/is= '+string(RF)+ ' ohm')  // New required Feedback resistance for im=100 micro ampere"
   ]
   }
,
{
		   "cell_type": "markdown",
		   "metadata": {},
		   "source": [
			"## Example 8.6: Find_resistances_R1_and_RF_for_non_inverting_op_amp.sce"
		   ]
		  },
  {
"cell_type": "code",
	   "execution_count": null,
	   "metadata": {
	    "collapsed": true
	   },
	   "outputs": [],
"source": [
"//Ex8_6\n",
"clc\n",
"Av=36\n",
"disp('Av= '+string(Av)+' dB') //Voltage gain\n",
"R1=1*10^(3)// Choosing value of R1\n",
"disp('R1= '+string(R1)+ ' ohm')  // Resistor at input side of OP-AMP\n",
"RF=R1*[10^(Av/20)-1] // Using formulae Av=20*log(1+RF/R1)\n",
"disp('RF=R1*[10^(Av/20)-1]= '+string(RF)+ ' ohm')  // Calculated Feedback resistance\n",
"//NOTE: Correct value of RF=62095.734 ohm or 62.095 kilo ohm but in book given as 62.24 kilo ohm \n",
" "
   ]
   }
,
{
		   "cell_type": "markdown",
		   "metadata": {},
		   "source": [
			"## Example 8.7: EX8_7.sce"
		   ]
		  },
  {
"cell_type": "code",
	   "execution_count": null,
	   "metadata": {
	    "collapsed": true
	   },
	   "outputs": [],
"source": [
"//Ex8_7\n",
"clc\n",
"if=100*10^(-6)\n",
"disp('if = '+string(if)+' ampere') //Full-Scale deflection current\n",
"Av=1*10^(5)\n",
"disp('Av= '+string(Av)) //Voltage gain    \n",
"vs=10*10^(-3)    \n",
"disp('vs= '+string(vs)+' volts') //  Input voltage \n",
"RM=100\n",
"disp('RM= '+string(RM)+ ' ohm')  // Moving coil Ammeter internal resistance\n",
"Ri=10*10^(3)\n",
"disp('Ri= '+string(Ri)+ ' ohm')  //Input resistance of OP-AMP\n",
"R1=vs/if\n",
"disp('R1=vs/if= '+string(R1)+ ' ohm')  // Resistor at input side of OP-AMP in Voltage-to-Current converter \n",
"Avf=1+(RM/R1) // formulae using Avf=1+(RF/R1)=1+(RM/R1)// since RF=RM\n",
"disp('Avf=1+(RM/R1)='+string(Avf)) // Overall Voltage gain\n",
"Rif=Ri*(Av/Avf)\n",
"disp('Rif=Ri*(Av/Avf)='+string(Rif)+ ' ohm')  // Equivalent input side resistance of OP-AMP with feedback\n",
"\n",
" "
   ]
   }
,
{
		   "cell_type": "markdown",
		   "metadata": {},
		   "source": [
			"## Example 8.8: Find_worst_case_change_in_output_voltage_Vo.sce"
		   ]
		  },
  {
"cell_type": "code",
	   "execution_count": null,
	   "metadata": {
	    "collapsed": true
	   },
	   "outputs": [],
"source": [
"//Ex8_8\n",
"clc\n",
"Ro=0.001\n",
"disp('Ro= '+string(Ro)+ ' ohm')  //Output resistance\n",
"Sv=0.01\n",
"disp('Sv= '+string(Sv)+'%') // Input Regulation for IC regulator\n",
"delta_VI=12-9\n",
"disp('change in regulator voltage= '+string(delta_VI)+' volts') // Regulator input voltage variation\n",
"delta_IL=1.25-1\n",
"disp('change in regulator Current= '+string(delta_IL)+' A') // Regulator Current variation\n",
"delta_Vo=[delta_VI*(Sv/100)+delta_IL*Ro]\n",
"disp('change in regulator output voltage= '+string(delta_Vo)+' volts') // Regulator output voltage variation\n",
""
   ]
   }
,
{
		   "cell_type": "markdown",
		   "metadata": {},
		   "source": [
			"## Example 8.9: Design_2nd_order_LP_Butterworth_filter.sce"
		   ]
		  },
  {
"cell_type": "code",
	   "execution_count": null,
	   "metadata": {
	    "collapsed": true
	   },
	   "outputs": [],
"source": [
"//Ex8_9\n",
"clc\n",
"alpha=1.414// Damping coefficient for Butterworth LP filter\n",
"disp('alpha='+string(alpha)) \n",
"AM=3-alpha\n",
"disp('AM='+string(AM)) // Midband gain of filter \n",
"fOH=1*10^(3)\n",
"disp('fOH= '+string(fOH)+' Hz')//Cut off frequency\n",
"R1=10*10^(3)// Choosing value of R1 same as in book\n",
"disp('R1= '+string(R1)+ ' ohm')  // Resistor at input side of (OP-AMP)filter \n",
"RF=R1*(AM-1)\n",
"disp('RF=R1*(AM-1)='+string(RF)+ ' ohm')  //Feedback resistance \n",
"C=0.1*10^(-6) // Choosing value of capacitor same a in book\n",
"disp('C='+string(C)+'farad')\n",
"R=1/(2*%pi*fOH*C)// Using formulae wOH=1/C*R and wOH=(2*%pi*fOH)\n",
"disp('R=1/(omega_OH*C)=1/(2*%pi*fOH*C)='+string(R)+ ' ohm')  // resistance value for filter design"
   ]
   }
],
"metadata": {
		  "kernelspec": {
		   "display_name": "Scilab",
		   "language": "scilab",
		   "name": "scilab"
		  },
		  "language_info": {
		   "file_extension": ".sce",
		   "help_links": [
			{
			 "text": "MetaKernel Magics",
			 "url": "https://github.com/calysto/metakernel/blob/master/metakernel/magics/README.md"
			}
		   ],
		   "mimetype": "text/x-octave",
		   "name": "scilab",
		   "version": "0.7.1"
		  }
		 },
		 "nbformat": 4,
		 "nbformat_minor": 0
}
