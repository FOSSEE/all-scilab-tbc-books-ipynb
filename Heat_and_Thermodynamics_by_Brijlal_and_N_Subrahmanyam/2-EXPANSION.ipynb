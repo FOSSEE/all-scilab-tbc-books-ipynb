{
"cells": [
 {
		   "cell_type": "markdown",
	   "metadata": {},
	   "source": [
       "# Chapter 2: EXPANSION"
	   ]
	},
{
		   "cell_type": "markdown",
		   "metadata": {},
		   "source": [
			"## Example 2.1: Expansion.sce"
		   ]
		  },
  {
"cell_type": "code",
	   "execution_count": null,
	   "metadata": {
	    "collapsed": true
	   },
	   "outputs": [],
"source": [
"clc\n",
"clear\n",
"//Input data\n",
"l=1;//The thickness of the crystal in cm\n",
"w=5890d-8;//The wavelength of light used in cm\n",
"t2=50;//The final temperature of the crystal in degree centigrade \n",
"t1=20;//The initial temperature of the crystal in degree centigrade\n",
"p=14;//The number of fringes that crossed the field of view\n",
"\n",
"//Calculations \n",
"t=t2-t1;//The temperature difference in degree centigrade\n",
"a=(p*w)/(2*l*t);//The coefficient of linear expansion of the crystal in per degree centigrade\n",
"\n",
"//output\n",
"printf('The coefficient of linear expansion of the crystal is %3.4g /degree centigrade',a)\n",
""
   ]
   }
,
{
		   "cell_type": "markdown",
		   "metadata": {},
		   "source": [
			"## Example 2.2: Stress.sce"
		   ]
		  },
  {
"cell_type": "code",
	   "execution_count": null,
	   "metadata": {
	    "collapsed": true
	   },
	   "outputs": [],
"source": [
"clc\n",
"clear\n",
"//Input data\n",
"L=500;//The length of a steel rod in cm\n",
"t=40;//The increase in temperature in degree centigrade \n",
"y=2*10^12;//The youngs modulus of elasticity of steel in dynes/cm^2\n",
"e=12*10^-6;//The coefficient of linear expansion of steel in per degree centigrade \n",
"\n",
"//Calculations \n",
"S=y*e*t;//The stress in the rod in dynes/cm^2\n",
"\n",
"//Output\n",
"printf('The stress in the rod is %3g dynes/cm^2',S)"
   ]
   }
,
{
		   "cell_type": "markdown",
		   "metadata": {},
		   "source": [
			"## Example 2.3: Tension.sce"
		   ]
		  },
  {
"cell_type": "code",
	   "execution_count": null,
	   "metadata": {
	    "collapsed": true
	   },
	   "outputs": [],
"source": [
"clc\n",
"clear\n",
"//Input data\n",
"L=800;//The length of the wire in cm\n",
"r=0.2;//The radius of the wire in cm\n",
"t=10;//The temperature fall in degree centigrade \n",
"a=12*10^-6;//The coefficient of linear expansion of steel wire in per degree centigrade \n",
"y=2*10^12;//The youngs modulus of elasticity of steel in dynes/cm^2\n",
"pi=(22/7);//Mathematical constant pi\n",
"\n",
"//Calculations \n",
"I=y*a*t*pi*r^2;//The increase in tension in dynes \n",
"\n",
"//Output\n",
"printf('The increase in tension is %3g dynes',I)"
   ]
   }
,
{
		   "cell_type": "markdown",
		   "metadata": {},
		   "source": [
			"## Example 2.4: Energy.sce"
		   ]
		  },
  {
"cell_type": "code",
	   "execution_count": null,
	   "metadata": {
	    "collapsed": true
	   },
	   "outputs": [],
"source": [
"clc\n",
"clear\n",
"//Input data\n",
"A=2*10^-6;//The cross section area of a uniform rod in m^2\n",
"t=20;//The change in temperature in degree centigrade \n",
"y=10^11;//The youngs modulus of the rod in newtons/m^2\n",
"a=12*10^-6;//The coefficient of linear expansion of rod in per degree centigrade \n",
"\n",
"//Calculations\n",
"F=y*a*t*A;//The force required to prevent it from expanding in newtons\n",
"E=(1/2)*y*a*t*a*t;//The energy stored per unit volume in j/m^3\n",
"\n",
"//Output\n",
"printf('The force required to prevent the rod from expanding is %3.0f newtons \n The Energy stored per unit volume is %3.0f j/m^3',F,E)"
   ]
   }
,
{
		   "cell_type": "markdown",
		   "metadata": {},
		   "source": [
			"## Example 2.5: Force.sce"
		   ]
		  },
  {
"cell_type": "code",
	   "execution_count": null,
	   "metadata": {
	    "collapsed": true
	   },
	   "outputs": [],
"source": [
"clc\n",
"clear\n",
"//Input data\n",
"d=10^-3;//The diameter of a steel wire in m\n",
"t=20;//The difference in the temperature in degree centigrade \n",
"y=2*10^11;//The youngs modulus of a steel wire in newtons/m^2\n",
"a=12*10^-6;//The coefficient of linear expansion of steel wire in per degree centigrade\n",
"pi=(22/7);//Mathematical constant value\n",
"\n",
"//calculations\n",
"A=(pi*d^2)/4;//The cross sectional area of the steel wire in m^2\n",
"F=(y*a*t*A)/(9.8);//Force required to maintain the original length in kg wt\n",
"\n",
"//output\n",
"printf('Force required to maintain the original length is %3.3f kg wt ',F)"
   ]
   }
],
"metadata": {
		  "kernelspec": {
		   "display_name": "Scilab",
		   "language": "scilab",
		   "name": "scilab"
		  },
		  "language_info": {
		   "file_extension": ".sce",
		   "help_links": [
			{
			 "text": "MetaKernel Magics",
			 "url": "https://github.com/calysto/metakernel/blob/master/metakernel/magics/README.md"
			}
		   ],
		   "mimetype": "text/x-octave",
		   "name": "scilab",
		   "version": "0.7.1"
		  }
		 },
		 "nbformat": 4,
		 "nbformat_minor": 0
}
