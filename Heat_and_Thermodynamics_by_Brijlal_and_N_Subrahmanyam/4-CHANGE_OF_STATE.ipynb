{
"cells": [
 {
		   "cell_type": "markdown",
	   "metadata": {},
	   "source": [
       "# Chapter 4: CHANGE OF STATE"
	   ]
	},
{
		   "cell_type": "markdown",
		   "metadata": {},
		   "source": [
			"## Example 4.1: Heat_required.sce"
		   ]
		  },
  {
"cell_type": "code",
	   "execution_count": null,
	   "metadata": {
	    "collapsed": true
	   },
	   "outputs": [],
"source": [
"clc\n",
"clear\n",
"//Input data \n",
"m=1000;//Mass of Ice in gms \n",
"Sp=0.5;//Specific heat of Ice in cal/g-K \n",
"t1=-10;//Initial temperature of Ice in degree centigrade \n",
"t2=0;//The final temperature of Ice in degree centigrade \n",
"Li=80;//Latent heat of fusion of ice in cals per gram \n",
"Ls=540;//Latent heat of fusion of steam in cals per gram \n",
"\n",
"//Calculations \n",
"h1=m*-t1*Sp;//Heat required to raise the temperature of Ice in cals \n",
"h2=m*Li;//Heat required to melt ice at 0 degree centigrade in cals \n",
"h3=m*100;//Heat required to raise the temperature of water from 0 to 100 degree centigrade in cals \n",
"h4=m*Ls;//Heat required to convert water into steam at 100 degree centigrade in cals \n",
"T=h1+h2+h3+h4;//Total quantity of heat required in cals \n",
"\n",
"//Output \n",
"printf('Total quantity of heat required is %3.0f cals ',T)"
   ]
   }
,
{
		   "cell_type": "markdown",
		   "metadata": {},
		   "source": [
			"## Example 4.2: Amount_of_ice.sce"
		   ]
		  },
  {
"cell_type": "code",
	   "execution_count": null,
	   "metadata": {
	    "collapsed": true
	   },
	   "outputs": [],
"source": [
"clc \n",
"clear\n",
"//Input data\n",
"m=1;//Mass of steam in gms \n",
"Ls=537;//Latent heat of fusion of steam in cal per gram \n",
"mi=100;//mass of ice in gms \n",
"Li=80;//Latent heat of fusion of ice in cal per gram \n",
"\n",
"//Calculations \n",
"h1=m*Ls;//Heat given out by one gram of steam when converted from steam into water at 100 degree centigrade in cals \n",
"h2=1*100;//Heat given out by one gram of water when cooled from 100 to 0 degree centigrade in cals \n",
"h=h1+h2;//Total quantity of heat given out by one gram of steam in cals \n",
"m=h/Li;//The amount of Ice melted in gms \n",
"\n",
"//Output \n",
"printf('The amount of Ice melted is m = %3.2f gms ',m)"
   ]
   }
,
{
		   "cell_type": "markdown",
		   "metadata": {},
		   "source": [
			"## Example 4.3: Ice.sce"
		   ]
		  },
  {
"cell_type": "code",
	   "execution_count": null,
	   "metadata": {
	    "collapsed": true
	   },
	   "outputs": [],
"source": [
"clc\n",
"clear\n",
"//Input data\n",
"m=100;//Mass of water in gms \n",
"tw=40;//The temperature of water in degree centigrade \n",
"mi=52;//Mass of Ice in gms \n",
"Lw=100;//Latent heat of fusion of water in cals per gram \n",
"Li=80;//Latent heat of fusion of Ice in cals per gram \n",
"\n",
"//Calculations \n",
"h=Lw*tw;//Heat lost by water when its temperature falls from 40 to 0 degree centigrade in cals \n",
"hi=mi*Li;//Heat gained by Ice in cals \n",
"hg=h;//The amount of heat gained by Ice in cals \n",
"ml=(hg/Li);//The amount of Ice melted in gms \n",
"M=mi-ml;//The amount of ice remaining in gms \n",
"W=m+(mi-M);//The amount of water in gms\n",
"\n",
"//Output\n",
"printf('The remaining Ice is %3.0f g \n Hence the result will be %3.0f g of Ice and %3.0f g of water at 0 degree centigrade ',M,M,W)"
   ]
   }
,
{
		   "cell_type": "markdown",
		   "metadata": {},
		   "source": [
			"## Example 4.4: Latent_heat.sce"
		   ]
		  },
  {
"cell_type": "code",
	   "execution_count": null,
	   "metadata": {
	    "collapsed": true
	   },
	   "outputs": [],
"source": [
"clc\n",
"clear\n",
"//Input data \n",
"m=100;//Let the mass of water in gms \n",
"t=15;//Time taken for an electric kettle to heat a certain quantity of water from 0 to 100 degree centigrade in minutes \n",
"T=80;//Time taken to turn all the water at 100 degree centigrade into steam in minutes \n",
"Lw=100;//Latent heat of fusion of water in cals per gram \n",
"\n",
"//Calculations \n",
"h1=m*Lw;//Heat required to raise its temperature from 0 to 100 degree centigrade in cals \n",
"h2=h1;//Heat produced by electric kettle in 15 minutes in cals \n",
"h3=h2/15;//Heat produced by electric kettle in 1 minute in cals \n",
"h4=h3*80;//Heat produced by electric kettle in 80 minutes in cals \n",
"L=h4/m;//Latent heat of steam in cal/g\n",
"\n",
"//Output\n",
"printf('The latent heat of steam is L = %3.2f cal/g ',L)"
   ]
   }
,
{
		   "cell_type": "markdown",
		   "metadata": {},
		   "source": [
			"## Example 4.5: Heat_removed.sce"
		   ]
		  },
  {
"cell_type": "code",
	   "execution_count": null,
	   "metadata": {
	    "collapsed": true
	   },
	   "outputs": [],
"source": [
"clc\n",
"clear\n",
"//Input data\n",
"m=50;//Mass of water in gms \n",
"t1=15;//Initial temperature in degree centigrade \n",
"t2=-20;//Final temperature in degree centigrade \n",
"Sp=0.5;//Specific heat of Ice in cal/g-K \n",
"Li=80;//Latent heat of fusion of Ice in cals per gram \n",
"\n",
"//Calculations \n",
"h1=m*1*t1;//Heat removed in cooling water from 15 to 0 degree centigrade in cal \n",
"h2=m*Li;//Heat removed in converting water into Ice at 0 degree centigrade in cal \n",
"h3=m*Sp*-t2;//Heat removed in cooling ice from 0 to -20 degree centigrade in cal \n",
"H=h1+h2+h3;//Total heat removed in one hour in cal \n",
"H1=H/60;//Heat removed per minute in cal/minute \n",
"\n",
"//Output \n",
"printf('The Quantity of heat removed per minute is %3.1f cal/minute ',H1)"
   ]
   }
,
{
		   "cell_type": "markdown",
		   "metadata": {},
		   "source": [
			"## Example 4.6: Specific_heat.sce"
		   ]
		  },
  {
"cell_type": "code",
	   "execution_count": null,
	   "metadata": {
	    "collapsed": true
	   },
	   "outputs": [],
"source": [
"clc\n",
"clear\n",
"//Input data \n",
"M=20;//Mass of the substance in g \n",
"t=100;//The temperature of the substance in degree centigrade \n",
"a=1/100;//Area of cross section in cm^2 \n",
"l=5;//The length of the coloumn through which liquid moves in cm \n",
"V1=1000;//The volume of water in cm^3 \n",
"V2=1090;//The volume of Ice from the volume of water on freezing in cm^3 \n",
"Li=80;//Latent heat of Ice in cals per gram \n",
"\n",
"//Calculations \n",
"V=V2-V1;//The decrease in volume of Ice in cm^3 \n",
"Vi=V/1000;//The decrease in volume when one gram of ice melts in cm^3 \n",
"v=l*a;//Decrease in volume in cm^3 \n",
"S=(Li*v)/(Vi*M*t);//Specific heat of the substance incal/g degree centigrade \n",
"\n",
"//Output\n",
"printf('The specific heat of the substance is %3.3f cal/g.degree centigrade ',S)"
   ]
   }
,
{
		   "cell_type": "markdown",
		   "metadata": {},
		   "source": [
			"## Example 4.7: Specific_heat.sce"
		   ]
		  },
  {
"cell_type": "code",
	   "execution_count": null,
	   "metadata": {
	    "collapsed": true
	   },
	   "outputs": [],
"source": [
"clc\n",
"clear\n",
"//Input data \n",
"M=27;//The mass of the substance in g\n",
"t=100;//The temperature of the substance in degree centigrade \n",
"a=3/100;//Area of cross section in cm^2 \n",
"l=10;//The length of the coloumn through which liquid moves in cm \n",
"Li=80;//Latent heat of Ice in cals per gram \n",
"V1=1000;//The volume of water in cm^3 \n",
"V2=1090;//The volume of Ice from the volume of water on freezing in cm^3 \n",
"\n",
"//Calculations \n",
"v=l*a;//Decrease in volume in cm^3\n",
"V=V2-V1;//The decrease in volume of Ice in cm^3 \n",
"Vi=V/1000;//The decrease in volume when one gram of ice melts in cm^3 \n",
"S=(Li*v)/(Vi*M*t);//Specific heat of the substance incal/g degree centigrade \n",
"\n",
"//Output\n",
"printf('The specific heat of the substance is %3.3f cal/g.degree centigrade ',S)"
   ]
   }
,
{
		   "cell_type": "markdown",
		   "metadata": {},
		   "source": [
			"## Example 4.8: Relative_humidity.sce"
		   ]
		  },
  {
"cell_type": "code",
	   "execution_count": null,
	   "metadata": {
	    "collapsed": true
	   },
	   "outputs": [],
"source": [
"clc\n",
"clear\n",
"//Input data \n",
"t=16.5;//The temperature of air in degree centigrade \n",
"d=6.5;//The dew point in degree centigrade \n",
"s1=7.05;//S.V.P at 6 degree centigrade in mm \n",
"s2=7.51;//S.V.P at 7 degree centigrade in mm \n",
"s3=13.62;//S.V.P at 16 degree centigrade in mm \n",
"s4=14.42;//S.V.P at 17 degree centigrade in mm \n",
"\n",
"//Calculations \n",
"s5=(s1+s2)/2;//S.V.P at 6.5 degree centigrade in mm \n",
"s6=(s3+s4)/2;//S.V.P at 16.5 degree centigrade in mm \n",
"R=(s5/s6)*100;//Relative humidity of air in percent \n",
"\n",
"//Output \n",
"printf('The percentage relative humidity of air is R.H = %3.1f percent ',R)"
   ]
   }
,
{
		   "cell_type": "markdown",
		   "metadata": {},
		   "source": [
			"## Example 4.9: Dew_point.sce"
		   ]
		  },
  {
"cell_type": "code",
	   "execution_count": null,
	   "metadata": {
	    "collapsed": true
	   },
	   "outputs": [],
"source": [
"clc\n",
"clear\n",
"//Input data \n",
"R=52;//The relative humidity of air in percent \n",
"t=20;//The temperature of air in degree centigrade \n",
"s1=17.5;//S.V.P of water at 20 degree centigrade in mm \n",
"s2=9.2;//S.V.P of water at 10 degree centigrade in mm \n",
"s3=8.6;//S.V.P of water at 9 degree centigrade in mm \n",
"\n",
"//Calculations \n",
"s4=(R/100)*s1;//S.V.P at dew point in mm \n",
"s5=s2-s3;//S.V.P for 1 degree centigrade difference in mm \n",
"d=9+((s4-s3)/(s2-s3));//The dew point temperature in degree centigrade \n",
"\n",
"//Output \n",
"printf('The dew point temperature is %3.2f degree centigrade ',d)"
   ]
   }
],
"metadata": {
		  "kernelspec": {
		   "display_name": "Scilab",
		   "language": "scilab",
		   "name": "scilab"
		  },
		  "language_info": {
		   "file_extension": ".sce",
		   "help_links": [
			{
			 "text": "MetaKernel Magics",
			 "url": "https://github.com/calysto/metakernel/blob/master/metakernel/magics/README.md"
			}
		   ],
		   "mimetype": "text/x-octave",
		   "name": "scilab",
		   "version": "0.7.1"
		  }
		 },
		 "nbformat": 4,
		 "nbformat_minor": 0
}
