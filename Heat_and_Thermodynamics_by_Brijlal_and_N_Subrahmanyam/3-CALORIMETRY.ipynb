{
"cells": [
 {
		   "cell_type": "markdown",
	   "metadata": {},
	   "source": [
       "# Chapter 3: CALORIMETRY"
	   ]
	},
{
		   "cell_type": "markdown",
		   "metadata": {},
		   "source": [
			"## Example 3.10: Specific_heat.sce"
		   ]
		  },
  {
"cell_type": "code",
	   "execution_count": null,
	   "metadata": {
	    "collapsed": true
	   },
	   "outputs": [],
"source": [
"clc\n",
"clear\n",
"//Input data\n",
"w=4;//The Molecular weight of helium \n",
"v=22400;//The volume of one gram molecule of a gas at N.T.P in cm^3\n",
"p=76;//The pressure in cm of Hg \n",
"T=273;//The temperature in K \n",
"J=4.2*10^7;//The amount of energy in ergs/cal\n",
"\n",
"//Calculations \n",
"V=(v/w);//The volume of one gram of helium at N.T.P in cm^3 \n",
"P=p*13.6*980;//The pressure in dynes/cm^2 \n",
"r=(P*V)/T;//The gas constant for one gram of a gas in ergs/g-K \n",
"C=r/J;//The difference in the two specific heats of one gram of helium \n",
"\n",
"//Output\n",
"printf('The difference in the two specific heats of one gram of helium is Cp-Cv = %3.4f',C)"
   ]
   }
,
{
		   "cell_type": "markdown",
		   "metadata": {},
		   "source": [
			"## Example 3.11: Efficiency.sce"
		   ]
		  },
  {
"cell_type": "code",
	   "execution_count": null,
	   "metadata": {
	    "collapsed": true
	   },
	   "outputs": [],
"source": [
"clc\n",
"clear\n",
"//Input data \n",
"V=25;//Volume of gasoline consumed by an engine in litres/hour \n",
"cv=6*10^6;//The calorific value of gasoline in calories/litre \n",
"P=35;//The output of the engine in kilowatts \n",
"\n",
"//Calculations \n",
"h=V*cv;//Total heat produced by gasoline in one hour in calories \n",
"H=h/3600;//Heat produced per second in cal/s \n",
"I=H*4.2;//Heat produced per second in joules/s or watts \n",
"E=((P*1000)/I)*100;//The efficiency in percent \n",
"\n",
"//Output \n",
"printf('The efficiency of the engine is %3.0f percent ',E)"
   ]
   }
,
{
		   "cell_type": "markdown",
		   "metadata": {},
		   "source": [
			"## Example 3.1: Time.sce"
		   ]
		  },
  {
"cell_type": "code",
	   "execution_count": null,
	   "metadata": {
	    "collapsed": true
	   },
	   "outputs": [],
"source": [
"clc\n",
"clear\n",
"//Input data\n",
"T=5;//Time taken for a liquid to cool from 80 to 50 degree centigrade in minutes\n",
"t11=80;//The initial temperature of the liquid in degree centigrade \n",
"t12=50;//The final temperature of the liquid in degree centigrade \n",
"t21=60;//If the initial temperature of the liquid in degree centigrade \n",
"t22=30;//If the final temperature of the liquid in degree centigrade \n",
"ts=20;//The temperature of the surrounding in degree centigrade \n",
"\n",
"//Calculations \n",
"T1=((log((t22-ts)/(t21-ts)))/(log((t12-ts)/(t11-ts))))*T;//The time taken for the liquid to cool from 60 to 30 degree centigrade in minutes\n",
"\n",
"//Output\n",
"printf('The time taken for a liquid to cool from 60 to 30 degree centigrade is t = %3.0f minutes ',T1)"
   ]
   }
,
{
		   "cell_type": "markdown",
		   "metadata": {},
		   "source": [
			"## Example 3.2: Thermal_capacity.sce"
		   ]
		  },
  {
"cell_type": "code",
	   "execution_count": null,
	   "metadata": {
	    "collapsed": true
	   },
	   "outputs": [],
"source": [
"clc\n",
"clear\n",
"//Input data\n",
"dw=1;//The density of water in g/cm^3\n",
"da=0.8;//The density of alcohol in g/cm^3\n",
"t1=100;//The time taken for the water to cool from 50 to 40 degree centigrade in seconds\n",
"t2=74;//The time taken for the alcohol to cool from 50 to 40 degree centigrade in seconds \n",
"V=1;//Let the volume of either liquid be in cm^3\n",
"\n",
"//Calculations \n",
"m=V*dw;//The mass of water in g\n",
"M=V*da;//The mass of alcohol in g\n",
"w=V;//Water equivalent of each calorimeter in cm^3\n",
"C=((((m+w)*t2)/(M*t1))-(w/M));//The specific heat of alcohol in calorie/g-K\n",
"\n",
"//Output\n",
"printf('The specific heat of alcohol is C = %3.1f calorie/g-K',C)"
   ]
   }
,
{
		   "cell_type": "markdown",
		   "metadata": {},
		   "source": [
			"## Example 3.3: Temperature.sce"
		   ]
		  },
  {
"cell_type": "code",
	   "execution_count": null,
	   "metadata": {
	    "collapsed": true
	   },
	   "outputs": [],
"source": [
"clc\n",
"clear\n",
"//Input data\n",
"t=5;//Time taken for a body to cool from 60 to 40 degree centigrade in minutes \n",
"t11=60;//The initial temperature of the body in degree centigrade \n",
"t12=40;//The final temperature of the body in degree centigrade  \n",
"ts=10;//The temperature of the surrounding in degree centigrade \n",
"\n",
"//Calculations \n",
"K=log((t12-ts)/(t11-ts));//The constant value for the first case at ts \n",
"x=((exp(K))*(t12-ts))+ts;//The temperature after the next 5 minutes in degree centigrade \n",
"\n",
"//Output\n",
"printf('The temperature after the next 5 minutes is x = %3.0f degree centigrade ',x)"
   ]
   }
,
{
		   "cell_type": "markdown",
		   "metadata": {},
		   "source": [
			"## Example 3.4: Time.sce"
		   ]
		  },
  {
"cell_type": "code",
	   "execution_count": null,
	   "metadata": {
	    "collapsed": true
	   },
	   "outputs": [],
"source": [
"clc\n",
"clear\n",
"//Input data\n",
"T=4;//Time taken for a liquid to cool from 70 to 50 degree centigrade in minutes\n",
"t11=70;//The initial temperature of the liquid in degree centigrade \n",
"t12=50;//The final temperature of the liquid in degree centigrade \n",
"t21=50;//If the initial temperature of the liquid in degree centigrade \n",
"t22=40;//If the final temperature of the liquid in degree centigrade \n",
"ts=25;//The temperature of the surrounding in degree centigrade \n",
"\n",
"//Calculations \n",
"T1=((log((t22-ts)/(t21-ts)))/(log((t12-ts)/(t11-ts))))*T;//The time taken for the liquid to cool from 50 to 40 degree centigrade in minutes\n",
"\n",
"//Output\n",
"printf('The time taken for a liquid to cool from 50 to 40 degree centigrade is t = %3.3f minutes ',T1)"
   ]
   }
,
{
		   "cell_type": "markdown",
		   "metadata": {},
		   "source": [
			"## Example 3.5: Temperature.sce"
		   ]
		  },
  {
"cell_type": "code",
	   "execution_count": null,
	   "metadata": {
	    "collapsed": true
	   },
	   "outputs": [],
"source": [
"clc\n",
"clear\n",
"//Input data\n",
"t=6;//Time taken for a liquid to cool from 80 to 60 degree centigrade in minutes \n",
"T=10;//To find the temperature after the time in minutes \n",
"t11=80;//The initial temperature of the liquid in degree centigrade \n",
"t12=60;//The final temperature of the liquid in degree centigrade  \n",
"ts=30;//The temperature of the surrounding in degree centigrade \n",
"\n",
"//Calculations \n",
"K=(log((t12-ts)/(t11-ts)))/(-t);//The constant value for the first case at ts \n",
"x=((exp(-T*K))*(t12-ts))+ts;//The temperature after the next 10 minutes in degree centigrade \n",
"\n",
"//Output\n",
"printf('The temperature after the next 10 minutes is x = %3.2f degree centigrade ',x)"
   ]
   }
,
{
		   "cell_type": "markdown",
		   "metadata": {},
		   "source": [
			"## Example 3.6: Temperature.sce"
		   ]
		  },
  {
"cell_type": "code",
	   "execution_count": null,
	   "metadata": {
	    "collapsed": true
	   },
	   "outputs": [],
"source": [
"clc\n",
"clear\n",
"//Input data \n",
"t=5;//The time taken for a body to cool from 80 to 64 degree centigrade in minutes \n",
"t11=80;//The initial temperature of the body in degree centigrade \n",
"t12=64;//The final temperature of the body in degree centigrade \n",
"t21=52;//The temperature of the body after 10 minutes in degree centigrade  \n",
"T=10;//The time taken for a body to cool from 80 to 52 degree centigrade in minutes \n",
"T1=15;//To find the temperature after the time in minutes \n",
"\n",
"//Calculations \n",
"ts=((t21*t11)-(t12^2))/(t11+t21-(2*t12));//The temperature of the surroundings in degree centigrade \n",
"K=(log((t21-ts)/(t12-ts)));//The constant value for the first case at ts \n",
"x=((exp(K))*(t21-ts))+ts;//The temperature after the next 15 minutes in degree centigrade \n",
"\n",
"//Output\n",
"printf('(1)The temperature of the surroundings is %3.0f degree centigrade \n (2)The temperature after the 15 minutes is %3.0f degree centigrade ',ts,x)"
   ]
   }
,
{
		   "cell_type": "markdown",
		   "metadata": {},
		   "source": [
			"## Example 3.7: Thermal_constant.sce"
		   ]
		  },
  {
"cell_type": "code",
	   "execution_count": null,
	   "metadata": {
	    "collapsed": true
	   },
	   "outputs": [],
"source": [
"clc\n",
"clear\n",
"//Input data\n",
"t2=2;//The time taken for the liquid to cool from 50 to 40 degree centigrade in minutes \n",
"t11=50;//The initial temperature of the liquid in degree centigrade \n",
"t12=40;//The final temperature of the liquid in degree centigrade \n",
"t1=5;//The time taken for the water to cool from 50 to 40 degree centigrade in minutes \n",
"m=100;//The mass of water in gms\n",
"M=85;//The mass of liquid in gms\n",
"w=10;//Water equivalent of the vessel in gms\n",
"\n",
"//Calculations \n",
"C=(((m+w)*(t2*60))/(M*(t1*60)))-(w/M);//The specific heat of a liquid in calories/g-K\n",
"\n",
"//Output\n",
"printf('The specific heat of a liquid is C = %3.1f calories/g-K',C)"
   ]
   }
,
{
		   "cell_type": "markdown",
		   "metadata": {},
		   "source": [
			"## Example 3.8: Gas_constant.sce"
		   ]
		  },
  {
"cell_type": "code",
	   "execution_count": null,
	   "metadata": {
	    "collapsed": true
	   },
	   "outputs": [],
"source": [
"clc\n",
"clear\n",
"//Input data\n",
"V=22400;//The volume of One gram molecule of a gas at N.T.P in cm^3\n",
"p=76;//The pressure in cm of Hg \n",
"T=273;//The temperature in K\n",
"\n",
"//Calculations \n",
"P=p*13.6*981;//The pressure in dynes/cm^2\n",
"R=(P*V)/T;//The universal gas constant for one gram molecule of a gas in ergs/mole-K\n",
"\n",
"//Output\n",
"printf('The universal gas constant for one gram molecule of a gas is R = %3.4g ergs/mole-K',R)"
   ]
   }
,
{
		   "cell_type": "markdown",
		   "metadata": {},
		   "source": [
			"## Example 3.9: Specific_heat.sce"
		   ]
		  },
  {
"cell_type": "code",
	   "execution_count": null,
	   "metadata": {
	    "collapsed": true
	   },
	   "outputs": [],
"source": [
"clc\n",
"clear\n",
"//Input data\n",
"Cp=0.23;//Specific heat of air at constant pressure \n",
"J=4.2*10^7;//The amount of energy in ergs/cal\n",
"d=1.293;//The density of air at N.T.P in g/litre \n",
"p=76;//The pressure in cm of Hg \n",
"T=273;//The temperature in K \n",
"\n",
"//Calculations \n",
"P=p*13.6*980;//The pressure in dynes/cm^2 \n",
"V=(1000/d);//Volume of one gram of air at N.T.P in cm^3 \n",
"r=(P*V)/T;//The gas constant for one gram of a gas in ergs/g-K \n",
"Cv=Cp-(r/J);//Specific heat of air at constant volume \n",
"\n",
"//Output\n",
"printf('The specific heat of air at constant volume is Cv = %3.4f ',Cv)"
   ]
   }
],
"metadata": {
		  "kernelspec": {
		   "display_name": "Scilab",
		   "language": "scilab",
		   "name": "scilab"
		  },
		  "language_info": {
		   "file_extension": ".sce",
		   "help_links": [
			{
			 "text": "MetaKernel Magics",
			 "url": "https://github.com/calysto/metakernel/blob/master/metakernel/magics/README.md"
			}
		   ],
		   "mimetype": "text/x-octave",
		   "name": "scilab",
		   "version": "0.7.1"
		  }
		 },
		 "nbformat": 4,
		 "nbformat_minor": 0
}
