{
"cells": [
 {
		   "cell_type": "markdown",
	   "metadata": {},
	   "source": [
       "# Chapter 1: THERMOMETRY"
	   ]
	},
{
		   "cell_type": "markdown",
		   "metadata": {},
		   "source": [
			"## Example 1.10: Temperature.sce"
		   ]
		  },
  {
"cell_type": "code",
	   "execution_count": null,
	   "metadata": {
	    "collapsed": true
	   },
	   "outputs": [],
"source": [
"clc\n",
"clear\n",
"//Input data\n",
"t1=50;//Temperature on platinum scale in degree centigrade\n",
"t11=50.25;//Temperature on gas scale in degree centigrade\n",
"t2=150;//Temperature on gas scale in degree centigrade\n",
"\n",
"//Calculations\n",
"g=(t1-t11)/((t1/100)^2-(t1/100));\n",
"x=t2-(g*((t2/100)^2-(t2/100)));//The temperature on the platinum scale corresponding to 150 degrees centigrade on gas scale in degree centigrade\n",
"\n",
"//Output data\n",
"printf('The temperature on the platinum scale is %3.2f degree centigrade',x)"
   ]
   }
,
{
		   "cell_type": "markdown",
		   "metadata": {},
		   "source": [
			"## Example 1.11: Temperature.sce"
		   ]
		  },
  {
"cell_type": "code",
	   "execution_count": null,
	   "metadata": {
	    "collapsed": true
	   },
	   "outputs": [],
"source": [
"clc\n",
"clear\n",
"//Input data\n",
"R0=5.5;//The resistance of a platinum wire at 0 degree centigrade in ohms\n",
"R100=7.5;//The resistance of a platinum wire at 100 degree centigrade in ohms\n",
"R444=14.5;//The resistance of a platinum wire at 444.5 degree centigrade in ohms\n",
"\n",
"//Calculations \n",
"b=((900-(2*444.6))/(5.5*444.6*100*344.6));//The value of beta in per degree centigrade square \n",
"a=(2/(5.5*100))-(100*(b));//The value of alpha in per degree centigrade \n",
"\n",
"//Output \n",
"printf('The values are b = %3.4g /degree centigrade square \n   and a = %3g /degree centigrade ',b,a)"
   ]
   }
,
{
		   "cell_type": "markdown",
		   "metadata": {},
		   "source": [
			"## Example 1.1: Temperature.sce"
		   ]
		  },
  {
"cell_type": "code",
	   "execution_count": null,
	   "metadata": {
	    "collapsed": true
	   },
	   "outputs": [],
"source": [
"clc\n",
"clear\n",
"//Input data\n",
"C=6500;//Temperature of the surface of the sun in degrees centigrade\n",
"\n",
"//Calculations\n",
"K=((C/100)*(100))+273;//Temperature of the surface of the sun in Kelvin\n",
"R=((C/100)*180)+492;//Temperature of the surface of the sun in degree Rankine\n",
"\n",
"//Output\n",
"printf('The temperature of the surface of the sun corresponding to 6500 degrees centigrade is \n\n (1)%3.0f Kelvin and (2)%3.0f degree Rankine',K,R)"
   ]
   }
,
{
		   "cell_type": "markdown",
		   "metadata": {},
		   "source": [
			"## Example 1.2: Temperature.sce"
		   ]
		  },
  {
"cell_type": "code",
	   "execution_count": null,
	   "metadata": {
	    "collapsed": true
	   },
	   "outputs": [],
"source": [
"clc\n",
"clear\n",
"//Input data\n",
"C=-183;//The normal boiling point of liquid oxygen in degrees centigrade\n",
"\n",
"//Calculations\n",
"K=((C/100)*100)+273;//The normal boiling point of liquid oxygen in Kelvin\n",
"R=((C/100)*180)+492;//The normal boiling point of liquid oxygen in degree Rankine\n",
"\n",
"//Output data\n",
"printf('The boiling point of liquid oxygen corresponding to -183 degree centigrade is \n\n (1)%3.0f Kelvin and (2)%3.1f degree Rankine',K,R)"
   ]
   }
,
{
		   "cell_type": "markdown",
		   "metadata": {},
		   "source": [
			"## Example 1.3: Temperature.sce"
		   ]
		  },
  {
"cell_type": "code",
	   "execution_count": null,
	   "metadata": {
	    "collapsed": true
	   },
	   "outputs": [],
"source": [
"clc\n",
"clear\n",
"//Calculations\n",
"x=((273*180)-(32*100))/80;//The temperature at which Kelvin and Fahrenheit scale coincide in Kelvin and degree Fahrenheit\n",
"\n",
"//Output\n",
"printf('The temperature at which Kelvin and Fahrenheit coincide is %3.2f degree',x)"
   ]
   }
,
{
		   "cell_type": "markdown",
		   "metadata": {},
		   "source": [
			"## Example 1.4: Temperature.sce"
		   ]
		  },
  {
"cell_type": "code",
	   "execution_count": null,
	   "metadata": {
	    "collapsed": true
	   },
	   "outputs": [],
"source": [
"clc\n",
"clear\n",
"//Calculations\n",
"x=(-(32*100))/80;//The temperature at which degree centigrade and Fahrenheit scale coincide in degree centigrade and degree Fahrenheit\n",
"\n",
"//Output\n",
"printf('The temperature at which degree centigrade and Fahrenheit coincide is %3.0f degree',x)"
   ]
   }
,
{
		   "cell_type": "markdown",
		   "metadata": {},
		   "source": [
			"## Example 1.5: Temperature.sce"
		   ]
		  },
  {
"cell_type": "code",
	   "execution_count": null,
	   "metadata": {
	    "collapsed": true
	   },
	   "outputs": [],
"source": [
"clc\n",
"clear\n",
"//Input data\n",
"K=20.2;//The normal boiling point of liquid hydrogen in Kelvin\n",
"\n",
"//Calculations\n",
"R=(((K-273)/100)*180)+492;//The normal boiling point of liquid hydrogen in degree Rankine\n",
"\n",
"//Output data\n",
"printf('The boiling point of liquid hydrogen corresponding to 20.2 Kelvin is %3.2f degree Rankine',R)"
   ]
   }
,
{
		   "cell_type": "markdown",
		   "metadata": {},
		   "source": [
			"## Example 1.6: Temperature.sce"
		   ]
		  },
  {
"cell_type": "code",
	   "execution_count": null,
	   "metadata": {
	    "collapsed": true
	   },
	   "outputs": [],
"source": [
"clc\n",
"clear\n",
"//Input data\n",
"V=1000;//Volume of the bulb of the callendar's compensated constant pressure air thermometer in cm^3\n",
"v=100;//Volume of mercury drawn out of the reservoir in cm^3\n",
"\n",
"//Calculations\n",
"t=((v)/(V-v))*273;//The temperature of the bath in degree centigrade\n",
"\n",
"//Output data \n",
"printf('The temperature of the bath on the celsius scale is %3.2f degree centigrade',t)"
   ]
   }
,
{
		   "cell_type": "markdown",
		   "metadata": {},
		   "source": [
			"## Example 1.7: Temperature.sce"
		   ]
		  },
  {
"cell_type": "code",
	   "execution_count": null,
	   "metadata": {
	    "collapsed": true
	   },
	   "outputs": [],
"source": [
"clc\n",
"clear\n",
"//Input data\n",
"Pt=100;//Pressure of air when the bulb is placed in hot water in cm of Hg\n",
"P100=109.3;//Pressure of air in a constant volume thermometer at 100 degree centigrade in cm of Hg\n",
"P0=80;//Pressure of air in a constant volume thermometer at 0 degree centigrade in cm of Hg\n",
"\n",
"//Calculations\n",
"t=((Pt-P0)/(P100-P0))*100;//The temperature of the hot water in degree centigrade\n",
"\n",
"//Output data\n",
"printf('The temperature of the hot water is %3.2f degree centigrade',t)"
   ]
   }
,
{
		   "cell_type": "markdown",
		   "metadata": {},
		   "source": [
			"## Example 1.8: Temperature.sce"
		   ]
		  },
  {
"cell_type": "code",
	   "execution_count": null,
	   "metadata": {
	    "collapsed": true
	   },
	   "outputs": [],
"source": [
"clc\n",
"clear\n",
"//Input data\n",
"P0=76;//The pressure in the bulb at 0 degree centigrade in cm of Hg\n",
"Pt=152+P0;//The excess pressure in the bulb in cm of Hg\n",
"T0=273;//Temperature in K\n",
"\n",
"//Calculations\n",
"T=(Pt/P0)*T0;//The temperature of the furnace in Kelvin\n",
"T1=T-273;//The temperature of the furnace in degree centigrade\n",
"\n",
"//Output data\n",
"printf('The temperature of the furnace T = %3.0f Kelvin = %3.0f degree centigrade',T,T1)"
   ]
   }
,
{
		   "cell_type": "markdown",
		   "metadata": {},
		   "source": [
			"## Example 1.9: Temperature.sce"
		   ]
		  },
  {
"cell_type": "code",
	   "execution_count": null,
	   "metadata": {
	    "collapsed": true
	   },
	   "outputs": [],
"source": [
"clc\n",
"clear\n",
"//Input data\n",
"R0=5;//The resistance of the platinum wire of a platinum resistance thermometer at the ice point in ohms\n",
"R100=5.93;//The resistance of the platinum wire of a platinum resistance thermometer at the steam point in ohms\n",
"Rt=5.795;//The resistance of the platinum wire when both the thermometers are inserted in a hot bath in ohms\n",
"P0=100;//The pressure at ice point in cm of Hg\n",
"P100=136.6;//The pressure at steam point in cm of Hg\n",
"Pt=131.11;//The pressure of the gas in cm of Hg\n",
"\n",
"//Calculations\n",
"Tp=((Rt-R0)/(R100-R0))*100;//The temperature of the bath on the platinum scale in degree centigrade\n",
"T=((Pt-P0)/(P100-P0))*100;//The temperature of the bath on the gas scale in degree centigrade\n",
"\n",
"//Output data\n",
"printf('The temperature of the bath , \n (1)On the platinum scale is %3.2f degree centigrade \n (2)On the gas scale is %3.0f degree centigrade',Tp,T)"
   ]
   }
],
"metadata": {
		  "kernelspec": {
		   "display_name": "Scilab",
		   "language": "scilab",
		   "name": "scilab"
		  },
		  "language_info": {
		   "file_extension": ".sce",
		   "help_links": [
			{
			 "text": "MetaKernel Magics",
			 "url": "https://github.com/calysto/metakernel/blob/master/metakernel/magics/README.md"
			}
		   ],
		   "mimetype": "text/x-octave",
		   "name": "scilab",
		   "version": "0.7.1"
		  }
		 },
		 "nbformat": 4,
		 "nbformat_minor": 0
}
