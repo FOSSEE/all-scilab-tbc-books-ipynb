{
"cells": [
 {
		   "cell_type": "markdown",
	   "metadata": {},
	   "source": [
       "# Chapter 9: STATISTICAL THERMODYNAMICS"
	   ]
	},
{
		   "cell_type": "markdown",
		   "metadata": {},
		   "source": [
			"## Example 9.1: Relative_probabilities.sce"
		   ]
		  },
  {
"cell_type": "code",
	   "execution_count": null,
	   "metadata": {
	    "collapsed": true
	   },
	   "outputs": [],
"source": [
"clc\n",
"clear\n",
"//Input data \n",
"N=6000;//Number of particles in a system \n",
"e=3;//The number of energy states with equal spacing \n",
"n1=3000;//Number of particles in the lower level \n",
"n2=2500;//Number of particles in the middle level \n",
"n3=500;//Number of particles in the upper level \n",
"n11=3001;//Number of particles in the lower level in the second case\n",
"n22=2498;//Number of particles in the middle level in the second case\n",
"n33=501;//Number of particles in the upper level in the second case \n",
"g=1;//Let us assume the probability of locating a particle in a certain energy state is one\n",
"\n",
"//Calculations \n",
"P1=1/(2500*2499);//The probability in the first case \n",
"P2=1/(3001*501);//The probability in the second case \n",
"P=P2/P1;//Comparing the relative probabilities \n",
"\n",
"//Output \n",
"printf('By comparing the relative probabilities P = %3.1f  \n (It means the transfer of one particle from the middle to the\n upper and the lower state has changed the probability by a factor %3.1f \n Hence both the distributions are not near the equilibrium state)',P,P)\n",
"\n",
""
   ]
   }
],
"metadata": {
		  "kernelspec": {
		   "display_name": "Scilab",
		   "language": "scilab",
		   "name": "scilab"
		  },
		  "language_info": {
		   "file_extension": ".sce",
		   "help_links": [
			{
			 "text": "MetaKernel Magics",
			 "url": "https://github.com/calysto/metakernel/blob/master/metakernel/magics/README.md"
			}
		   ],
		   "mimetype": "text/x-octave",
		   "name": "scilab",
		   "version": "0.7.1"
		  }
		 },
		 "nbformat": 4,
		 "nbformat_minor": 0
}
