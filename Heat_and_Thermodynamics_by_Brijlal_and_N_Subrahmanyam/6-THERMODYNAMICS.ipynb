{
"cells": [
 {
		   "cell_type": "markdown",
	   "metadata": {},
	   "source": [
       "# Chapter 6: THERMODYNAMICS"
	   ]
	},
{
		   "cell_type": "markdown",
		   "metadata": {},
		   "source": [
			"## Example 6.10: Temperature.sce"
		   ]
		  },
  {
"cell_type": "code",
	   "execution_count": null,
	   "metadata": {
	    "collapsed": true
	   },
	   "outputs": [],
"source": [
"clc\n",
"clear\n",
"//Input data \n",
"T1=400;//The temperature of the source in k \n",
"H1=200;//The amount of heat taken by the engine at T1 in calories \n",
"H2=150;//The amount of heat rejected by the engine to the sink in calories \n",
"\n",
"//Calculations \n",
"T2=(H2/H1)*T1;//The temperature of the sink in K \n",
"n=(1-(T2/T1))*100;//The efficiency of the engine in percent \n",
"\n",
"//output \n",
"printf('The temperature of the sink is T2 = %3.0f K \n The efficiency of the engine is %3.0f percent ',T2,n)"
   ]
   }
,
{
		   "cell_type": "markdown",
		   "metadata": {},
		   "source": [
			"## Example 6.11: Work_done.sce"
		   ]
		  },
  {
"cell_type": "code",
	   "execution_count": null,
	   "metadata": {
	    "collapsed": true
	   },
	   "outputs": [],
"source": [
"clc\n",
"clear\n",
"//Input data \n",
"T1=450;//The temperature of the source in k \n",
"H1=1000;//The amount of heat taken by the engine at T1 in calories \n",
"T2=350;//The temperature of the sink in K \n",
"\n",
"//Calculations \n",
"H2=(T2/T1)*H1;//The amount of heat rejected to the sink in each cycle in calories\n",
"n=(1-(T2/T1))*100;//The efficiency of the engine in percent \n",
"W=H1-H2;//The work done by the engine in each cycle in calories\n",
"W1=W*4.2;//The work done by the engine in each cycle in joules \n",
"\n",
"//Output\n",
"printf('The amount of heat rejected to the sink in each cycle is H2 = %3.2f cals \n The efficiency of the engine is %3.2f percent \n The work done by the engine in each cycle is W = %3.2f joules',H2,n,W1)"
   ]
   }
,
{
		   "cell_type": "markdown",
		   "metadata": {},
		   "source": [
			"## Example 6.12: Work_done.sce"
		   ]
		  },
  {
"cell_type": "code",
	   "execution_count": null,
	   "metadata": {
	    "collapsed": true
	   },
	   "outputs": [],
"source": [
"clc\n",
"clear\n",
"//Input data \n",
"T1=300;//The higher temperature of the reservoir in K \n",
"T2=260;//The lower temperature of the reservoir in K \n",
"H2=500;//The amount of heat from the reservoir at the lower temperature in calories \n",
"\n",
"//Calculations \n",
"H1=(T1/T2)*H2;//The amount of heat rejected to the reservoir at the higher temperature in calories \n",
"W=(H1-H2)*4.2;//The amount of work done in each cycle to operate the refrigerator in joules\n",
"\n",
"//Output\n",
"printf('The amount of heat rejected to the reservoir at the higher temperature is H1 = %3.2f cal \n The amount of work done in each cycle to operate the refrigerator is W = %3.2f joules ',H1,W)"
   ]
   }
,
{
		   "cell_type": "markdown",
		   "metadata": {},
		   "source": [
			"## Example 6.13: Performance.sce"
		   ]
		  },
  {
"cell_type": "code",
	   "execution_count": null,
	   "metadata": {
	    "collapsed": true
	   },
	   "outputs": [],
"source": [
"clc\n",
"clear\n",
"//Input data \n",
"T2=273;//The lower temperature of the reservoir for a carnot refrigerator in K\n",
"T1=27+273;//The higher temperature of the reservoir for a carnot refrigerator in K \n",
"H2=1000*80;//The amount of heat from the reservoir to the lower temperature in cal \n",
"J=4.2;//The one calorie in joules \n",
"\n",
"//Calculations \n",
"H1=(T1/T2)*H2;//The amount of heat discarded to the room in calories \n",
"W=J*(H1-H2);//The work done by the refrigerator in joules \n",
"C=H2/(H1-H2);//The coefficient of performance \n",
"\n",
"//output\n",
"printf('The amount of heat discarded to the room is H1 = %3.0f cal \n The work done by the refrigerator is W = %3.4g joules \n The coefficient of performance of the machine is %3.2f ',H1,W,C)"
   ]
   }
,
{
		   "cell_type": "markdown",
		   "metadata": {},
		   "source": [
			"## Example 6.14: Temperature.sce"
		   ]
		  },
  {
"cell_type": "code",
	   "execution_count": null,
	   "metadata": {
	    "collapsed": true
	   },
	   "outputs": [],
"source": [
"clc\n",
"clear\n",
"//Input data \n",
"t2=7;//The lower temperature of the reservoir in degree centigrade \n",
"n=50;//The efficiency of the carnot engine in percent \n",
"n1=70;//It is desired to increase the efficiency in percent \n",
"\n",
"//Calculations \n",
"T2=t2+273;//The lower temperature of the reservoir in K \n",
"T1=T2/(1-(n/100));//The higher temperature of the reservoir for 50% efficiency of the engine in K \n",
"T11=T2/(1-(n1/100));//The higher temperature of the reservoir for 70% efficiency of the engine in K\n",
"T=T11-T1;//Increase in temperature for the change in efficiencies in K \n",
"\n",
"//Output\n",
"printf('The temperature of the high temperature reservoir should be increased by %3.0f K ',T)"
   ]
   }
,
{
		   "cell_type": "markdown",
		   "metadata": {},
		   "source": [
			"## Example 6.15: Efficiency.sce"
		   ]
		  },
  {
"cell_type": "code",
	   "execution_count": null,
	   "metadata": {
	    "collapsed": true
	   },
	   "outputs": [],
"source": [
"clc\n",
"clear\n",
"//Input data \n",
"T1=600;//The higher temperature of the reservoir in K \n",
"T2=300;//The lower temperature of the reservoir in K \n",
"n1=52;//The efficiency claimed by the inventor in percent \n",
"\n",
"//Calculations \n",
"n=(1-(T2/T1))*100;//The efficiency of the carnot engine in percent \n",
"\n",
"//Output \n",
"printf('The efficiency of the carnot engine is %3.0f percent \n The efficiency claimed is %3.0f percent \n The efficiency of the engine is more than the efficiency of the carnot engine \n .But no engine can have an efficiency more than a carnots engine, \n so his claim is invalid',n,n1)"
   ]
   }
,
{
		   "cell_type": "markdown",
		   "metadata": {},
		   "source": [
			"## Example 6.16: Power.sce"
		   ]
		  },
  {
"cell_type": "code",
	   "execution_count": null,
	   "metadata": {
	    "collapsed": true
	   },
	   "outputs": [],
"source": [
"clc\n",
"clear\n",
"//Input data \n",
"P=10^5;//The average pressure of the steam in a double acting steam engine in newtons/m^2\n",
"L=1;//The length of the stroke in m \n",
"A=0.15;//The area of the piston in m^2 \n",
"N=5;//Number of strokes in strokes per second \n",
"\n",
"//Calculations \n",
"P=(2*P*L*A*N)/1000;//The power of the engine in kilowatts \n",
"\n",
"//Output \n",
"printf('The power of the engine is %3.0f kilowatts ',P)"
   ]
   }
,
{
		   "cell_type": "markdown",
		   "metadata": {},
		   "source": [
			"## Example 6.17: Temperature.sce"
		   ]
		  },
  {
"cell_type": "code",
	   "execution_count": null,
	   "metadata": {
	    "collapsed": true
	   },
	   "outputs": [],
"source": [
"clc\n",
"clear\n",
"//Input data \n",
"l=80;//The latent heat of ice in calories per gram \n",
"V1=1.091;//The specific volume of 1 gram of ice at 0 degree centigrade in cm^3 \n",
"V2=1.000;//The specific volume of 1 gram of water at 0 degree centigrade in cm^3 \n",
"p=1;//The pressure in atm \n",
"T=273;//The temperature at 0 degree centigrade in K \n",
"\n",
"//Calculations \n",
"L=80*4.2*10^7;//The latent heat of ice in ergs \n",
"P=76*13.6*980;//The pressure in dynes/cm^2\n",
"T=(P*T*(V2-V1))/L;//The depression in the melting point of ice produced by one atmosphere increase of pressure in K \n",
"T1=-T;//The decrease in the melting point of ice with an increase in pressure of one atmosphere \n",
"\n",
"//Output \n",
"printf('The decrease in the melting point of ice with an increase, \n in pressure of one atmosphere is %3.4f K  (or) %3.4f degree centigrade ',T1,T1)"
   ]
   }
,
{
		   "cell_type": "markdown",
		   "metadata": {},
		   "source": [
			"## Example 6.18: Temperature.sce"
		   ]
		  },
  {
"cell_type": "code",
	   "execution_count": null,
	   "metadata": {
	    "collapsed": true
	   },
	   "outputs": [],
"source": [
"clc\n",
"clear\n",
"//input data \n",
"p=1;//The pressure in atm \n",
"V1=1.000;//The specific volume of one gram of water in cm^3 \n",
"V2=1677;//The specific volume of one gram of steam in cm^3 \n",
"l=540;//Latent heat of vaporisation of steam in cal/gram \n",
"\n",
"//Calculations \n",
"P=76*13.6*980;//The pressure in dynes/cm^2\n",
"T=100+273;//The temperature at 100 degree centigrade in K \n",
"L=l*4.2*10^7;//The latent heat of vapourisation in ergs \n",
"T=(P*T*(V2-V1))/L;//The increase in the boiling point of water with an increase in pressure of one atmosphere in degree centigrade\n",
"\n",
"//Output\n",
"printf('The increase in the boiling point of water with an increase , \n in pressure of one atmosphere is %3.2f degree centigrade  (or)  %3.2f K ',T,T)"
   ]
   }
,
{
		   "cell_type": "markdown",
		   "metadata": {},
		   "source": [
			"## Example 6.19: Temperature.sce"
		   ]
		  },
  {
"cell_type": "code",
	   "execution_count": null,
	   "metadata": {
	    "collapsed": true
	   },
	   "outputs": [],
"source": [
"clc\n",
"clear\n",
"//Input data \n",
"l=537;//Latent heat of steam in cal/g \n",
"V2=1674;//The specific volume of one gram of steam in cm^3 \n",
"V1=1.000;//The specific volume of one gram of water in cm^3 \n",
"p=2.712;//The increase in the pressure in cm of Hg \n",
"t=100;//The boiling point of water in degree centigrade \n",
"\n",
"//Calculations \n",
"T=t+273;//The boiling point of water in K \n",
"P=p*13.6*980;//The increase in the pressure in dynes/cm^2 \n",
"L=l*4.2*10^7;//Latent heat of steam in ergs \n",
"T1=(P*T*(V2-V1))/L;//The change in the temperature of the boiling water when the pressure is increased in K\n",
"\n",
"//Output\n",
"printf('The change in temperature of boiling water is %3.0f K  (or)  %3.0f degree centigrade ',T1,T1)"
   ]
   }
,
{
		   "cell_type": "markdown",
		   "metadata": {},
		   "source": [
			"## Example 6.1: Heat.sce"
		   ]
		  },
  {
"cell_type": "code",
	   "execution_count": null,
	   "metadata": {
	    "collapsed": true
	   },
	   "outputs": [],
"source": [
"clc\n",
"clear \n",
"//Input data \n",
"H=80;//The Heat flows into the system in joules \n",
"W=30;//The Work done by the system in joules \n",
"\n",
"//Calculations \n",
"U=H-W;//The internal energy of the system in joules \n",
"W1=10;//The work done along the path ADB in joules \n",
"H1=W1+U;//The heat flows into the system along the path ADB in joules \n",
"W2=-20;//The work done on the system from B to A in joules \n",
"H2=W2-U;//The heat liberated from B to A in joules \n",
"Ua=0;//Internal energy at A in joules \n",
"Ud=40;//Internal energy at D in joules \n",
"Wa=10;//Work done from A to D in joules \n",
"Wd=0;//Work done from D to B in joules \n",
"Uc=50;//Internal energy at C in joules \n",
"Had=(Ud-Ua)+Wa;//Heat absorbed in the process AD in joules \n",
"Hdb=Uc-Ud+Wd;//Heat absorbed in the process DB in joules \n",
"\n",
"//Output \n",
"printf('(a)Heat flows into the system along the path ADB is H = %3.0f joules \n (b)The heat liberated by the system is H = %3.0f joules \n (c)The heat absorbed in the process AD is H = %3.0f joules   and  \n The heat absorbed in the process DB is H = %3.0f joules ',H1,H2,Had,Hdb)"
   ]
   }
,
{
		   "cell_type": "markdown",
		   "metadata": {},
		   "source": [
			"## Example 6.20: Temperature.sce"
		   ]
		  },
  {
"cell_type": "code",
	   "execution_count": null,
	   "metadata": {
	    "collapsed": true
	   },
	   "outputs": [],
"source": [
"clc\n",
"clear\n",
"//Input data \n",
"l=4563;//The latent heat of fusion of naphthalene in cal/mol \n",
"V=18.7;//The increase in volume of fusion in cm^3/mol\n",
"p=1;//The pressure in atm \n",
"t=80;//The melting point of naphthalene in degree centigrade \n",
"\n",
"//Calculations \n",
"L=l*4.2*10^7;//The latent heat of fusion of naphthalene in ergs/mol \n",
"T=t+273;//The melting point of naphthalene in K \n",
"P=76*13.6*980;//The pressure in dynes/cm^2\n",
"T1=(P*T*(V))/L;//The increase in the melting point of naphthalene with an increase in pressure of one atmosphere in K \n",
"\n",
"//Output \n",
"printf('The increase in the melting point of naphthalene with an increase,\n in pressure of one atmosphere is %3.5f K  (or)  %3.5f degree centigrade ',T1,T1)"
   ]
   }
,
{
		   "cell_type": "markdown",
		   "metadata": {},
		   "source": [
			"## Example 6.21: Temperature.sce"
		   ]
		  },
  {
"cell_type": "code",
	   "execution_count": null,
	   "metadata": {
	    "collapsed": true
	   },
	   "outputs": [],
"source": [
"clc\n",
"clear\n",
"//Input data \n",
"p1=80;//The under pressure of benzene in cm of Hg \n",
"t=80;//The normal boiling point of benzene in degree centigrade \n",
"l=380;//The latent heat of vapourisation in joules/g \n",
"d2=4;//Density of vapour at boiling point in g/litre \n",
"d1=0.9;//Density of liquid in g/cm^3 \n",
"\n",
"//Calculations \n",
"p=p1-76;//The change in pressure in cm of Hg \n",
"P=p*13.6*980;//The change in pressure in dynes/cm^2 \n",
"T=t+273;//The normal boiling point of benzene in K \n",
"L=l*10^7;//Latent heat of vapourisation in ergs/g \n",
"V1=1/d1;//The specific volume of liquid in cm^3 \n",
"V2=1000/d2;//The specific volume of vapour in cm^3 \n",
"T1=(P*T*(V2-V1))/L;//The increase in the boiling point of benzene in K \n",
"T2=t+T1;//The boiling point of benzene at a pressure of 80 cm of Hg in degree centigrade \n",
"\n",
"//Output\n",
"printf('The boiling point of benzene at a pressure of 80 cm of Hg is  %3.3f degree centigrade ',T2)"
   ]
   }
,
{
		   "cell_type": "markdown",
		   "metadata": {},
		   "source": [
			"## Example 6.22: Temperature.sce"
		   ]
		  },
  {
"cell_type": "code",
	   "execution_count": null,
	   "metadata": {
	    "collapsed": true
	   },
	   "outputs": [],
"source": [
"clc\n",
"clear\n",
"//Input data \n",
"t=100;//The boiling point of water in degree centigrade \n",
"p1=1;//Initial pressure in atm \n",
"p2=1.10;//Final pressure in atm \n",
"l=537;//Latent heat of water at 100 degree centigrade in cal/g \n",
"V1=1;//The specific volume of one gram of water in cm^3 \n",
"V2=1676;//The specific volume of one gram of steam in cm^3 \n",
"\n",
"//Calculations \n",
"p=p2-p1;//The change in pressure in atm \n",
"P=p*76*13.6*980;//The change in pressure in dynes/cm^2 \n",
"T=t+273;//The boiling point of water in K \n",
"L=l*4.2*10^7;//The latent heat of water at 100 degree centigrade in ergs/g \n",
"T1=(P*T*(V2-V1))/L;//The change in boiling point of water in K (or) degree centigrade \n",
"\n",
"//Output\n",
"printf('The increase in the boiling point of water with an increase,\n of 0.1 atmosphere pressure is %3.3f K  (or)  %3.3f degree centigrade ',T1,T1)"
   ]
   }
,
{
		   "cell_type": "markdown",
		   "metadata": {},
		   "source": [
			"## Example 6.23: Temperature.sce"
		   ]
		  },
  {
"cell_type": "code",
	   "execution_count": null,
	   "metadata": {
	    "collapsed": true
	   },
	   "outputs": [],
"source": [
"clc\n",
"clear\n",
"//Input data \n",
"p1=1;//The atmospheric pressure in atm \n",
"p2=100;//The given pressure in atm \n",
"d1=0.917;//The density of ice in g/cm^3 \n",
"l=336;//The latent heat of ice in j/g \n",
"\n",
"//Calculations \n",
"p=p2-p1;//The change in pressure in atms \n",
"P=p*76*13.6*980;//The change in pressure in dynes/cm^2 \n",
"L=l*10^7;//The latent heat of ice in ergs/g \n",
"T=273;//The temperature of melting point of ice in K \n",
"V2=1;//The specific volume of one gram of water in cm^3 \n",
"V1=1/d1;//The specific volume of ice in cm^3 \n",
"T1=(T*P*(V2-V1))/L;//The change in the melting point of ice in K\n",
"T2=-T1;//The decrease in the melting point of ice in K (or) degree centigrade \n",
"\n",
"//Output\n",
"printf('The decrease in the melting point of ice,\n with a pressure of 100 atmospheres is %3.4f degree centigrade ',T2)"
   ]
   }
,
{
		   "cell_type": "markdown",
		   "metadata": {},
		   "source": [
			"## Example 6.24: Pressure.sce"
		   ]
		  },
  {
"cell_type": "code",
	   "execution_count": null,
	   "metadata": {
	    "collapsed": true
	   },
	   "outputs": [],
"source": [
"clc\n",
"clear\n",
"//Input data\n",
"l=79.6;//latent heat of ice in cal/g\n",
"V2=1;//The specific volume of water at 0 degree centigrade in cm^3\n",
"V1=1.091;//The specific volume of ice at 0 degree centigrade in cm^3 \n",
"p=1.013*10^6;//One atmospheric pressure in dynes/cm^3\n",
"T=-1;//The change in temperature in K \n",
"T1=273;//The temperature of water at 0 degree centigrade in K \n",
"p1=1;//The atmospheric pressure in atm\n",
"\n",
"//Calculations \n",
"L=l*4.18*10^7;//The latent heat of ice in ergs/g \n",
"P=((L*T)/(T1*(V2-V1)*p));//The change in pressure in atmospheres \n",
"P1=P+p1;//The pressure required in atmospheres \n",
"\n",
"//Output\n",
"printf('The pressure required to lower melting point of ice,\n by 1 degree centigrade is  %3.1f atmospheres ',P1)"
   ]
   }
,
{
		   "cell_type": "markdown",
		   "metadata": {},
		   "source": [
			"## Example 6.25: Latent_heat.sce"
		   ]
		  },
  {
"cell_type": "code",
	   "execution_count": null,
	   "metadata": {
	    "collapsed": true
	   },
	   "outputs": [],
"source": [
"clc\n",
"clear\n",
"//Input data \n",
"t=100;//The temperature at which water boils in degree centigrade \n",
"p2=787;//The pressure at which water boils in mm of Hg \n",
"J=4.2*10^7;//Joule in ergs/cal \n",
"p1=760;//The atmospheric pressure in mm of Hg \n",
"V2=1601;//The specific volume of 1 g of water at 100 degree centigrade in cm^3\n",
"V1=1;//The specific volume of 1 g of water at 0 degree centigrade in cm^3 \n",
"\n",
"//Calculations \n",
"T=t+273;//The temperature at which water boils in K \n",
"T1=1;//The difference in the temperature in K\n",
"p=p2-p1;//The difference in the pressure in mm of Hg \n",
"P=(p/10)*13.6*980;//The difference in the pressure in dynes/cm^2 \n",
"L=(T*P*(V2-V1))/T1;//The latent heat of steam in ergs/g \n",
"L1=L/J;//The latent heat of steam in cal/g \n",
"\n",
"//Output\n",
"printf('The Latent heat of steam is L = %3.1f cal/g ',L1)\n",
""
   ]
   }
,
{
		   "cell_type": "markdown",
		   "metadata": {},
		   "source": [
			"## Example 6.26: Temperature.sce"
		   ]
		  },
  {
"cell_type": "code",
	   "execution_count": null,
	   "metadata": {
	    "collapsed": true
	   },
	   "outputs": [],
"source": [
"clc\n",
"clear\n",
"//Input data \n",
"T=600;//The melting point of lead in K \n",
"d1=11.01;//Initial density of the lead in g/cm^3 \n",
"d2=10.65;//The final density of the lead in g/cm^3 \n",
"l=24.5;//The latent heat of fusion of lead in j/g \n",
"p1=1;//The atmospheric pressure in atmospheres \n",
"p2=100;//The given pressure in atmospheres \n",
"\n",
"//Calculations \n",
"p=p2-p1;//The change in pressure in atmospheres \n",
"P=p*76*13.6*980;//The change in pressure in dynes/cm^2 \n",
"L=l*10^7;//The latent heat of fusion of lead in ergs/g \n",
"V1=1/d1;//The initial specific volume of the lead in cm^3 \n",
"V2=1/d2;//The final specific volume of the lead in cm^3\n",
"T1=(T*P*(V2-V1))/L;//The change in the temperature in K \n",
"T2=T+T1;//Melting point of lead at 100 atmospheres pressure in K \n",
"\n",
"//Output \n",
"printf('The melting point of lead at a pressure of 100 atmospheres is  %3.4f K ',T2)"
   ]
   }
,
{
		   "cell_type": "markdown",
		   "metadata": {},
		   "source": [
			"## Example 6.28: Pressure.sce"
		   ]
		  },
  {
"cell_type": "code",
	   "execution_count": null,
	   "metadata": {
	    "collapsed": true
	   },
	   "outputs": [],
"source": [
"clc\n",
"clear\n",
"//Input data \n",
"t2=120;//The given temperature for the water to boil in degree centigrade \n",
"t1=100;//The actual boiling point of water in degree centigrade \n",
"V=1676;//The change in specific volume in cm^3 \n",
"l=540;//Latent heat of steam in cal/g \n",
"J=4.2*10^7;//joule in ergs/cal \n",
"\n",
"//Calculations \n",
"T1=t2-t1;//The change in temperature in degree centigrade (or) K \n",
"T=t1+273;//The boiling point of water in K \n",
"L=l*J;//The latent heat of steam in ergs/g \n",
"p=1;//The atmospheric pressure in atmospheres \n",
"P=(L*T1)/(T*V);//The change in pressure in dynes/cm^2 \n",
"P1=P/10^6;//The change in pressure in atmospheres \n",
"P2=P1+p;//The required pressure in atmospheres \n",
"\n",
"//Output \n",
"printf('The required pressure is %3.4f atmospheres ',P2)"
   ]
   }
,
{
		   "cell_type": "markdown",
		   "metadata": {},
		   "source": [
			"## Example 6.29: Entropy.sce"
		   ]
		  },
  {
"cell_type": "code",
	   "execution_count": null,
	   "metadata": {
	    "collapsed": true
	   },
	   "outputs": [],
"source": [
"clc\n",
"clear \n",
"//Input data \n",
"l=80;//Latent heat of ice in cal/g \n",
"m=10;//Mass of ice in g \n",
"T=273;//The temperature of ice in K \n",
"\n",
"//Calculations \n",
"H=m*l;//Heat absorbed by 10 g of ice at 273 K when it is converted into water at 273 K in cal \n",
"S=H/T;//The gain in entropy in cal/K \n",
"\n",
"//Output \n",
"printf('The gain in entropy is  %3.2f cal/K',S)"
   ]
   }
,
{
		   "cell_type": "markdown",
		   "metadata": {},
		   "source": [
			"## Example 6.2: Temperature.sce"
		   ]
		  },
  {
"cell_type": "code",
	   "execution_count": null,
	   "metadata": {
	    "collapsed": true
	   },
	   "outputs": [],
"source": [
"clc\n",
"clear\n",
"//Input data \n",
"p=2;//Given Pressure of a motor car tyre in atms \n",
"t=27;//The room temperature in degree centigrade \n",
"g=1.4;//Adiabatic index \n",
"\n",
"//Calculations \n",
"P1=p;//The pressure of a motor car tyre in atms \n",
"T1=t+273;//The room temperature in K \n",
"P2=1;//The surrounding pressure in atms \n",
"T2=((P2/P1)^((g-1)/g))*T1;//The resulting temperature in K \n",
"T21=T2-273;//The resulting temperature in degree centigrade \n",
"\n",
"//Output \n",
"printf('The resulting temperature is T2 = %3.1f K  (or)  %3.1f degree centigrade ',T2,T21)"
   ]
   }
,
{
		   "cell_type": "markdown",
		   "metadata": {},
		   "source": [
			"## Example 6.30: Entropy.sce"
		   ]
		  },
  {
"cell_type": "code",
	   "execution_count": null,
	   "metadata": {
	    "collapsed": true
	   },
	   "outputs": [],
"source": [
"clc\n",
"clear \n",
"//Input data \n",
"m=5;//Mass of water in kg \n",
"t=100;//The temperature of water in degree centigrade \n",
"l=540;//Latent heat of water at 100 degree centigrade in cal/g \n",
"\n",
"//Calculations \n",
"T=t+273;//The temperature of water in K \n",
"M=m*1000;//Mass of water in g \n",
"H=M*l;//Heat absorbed by 5 kg of water at 100 degree centigrade when it is converted into steam at 100 degree centigrade in cal \n",
"S=H/T;//The gain in entropy in cal/K \n",
"\n",
"//Output \n",
"printf('The gain in entropy is  %3.0f cal/K ',S)"
   ]
   }
,
{
		   "cell_type": "markdown",
		   "metadata": {},
		   "source": [
			"## Example 6.31: Entropy.sce"
		   ]
		  },
  {
"cell_type": "code",
	   "execution_count": null,
	   "metadata": {
	    "collapsed": true
	   },
	   "outputs": [],
"source": [
"clc\n",
"clear\n",
"//Input data \n",
"m=1;//mass of ice in g \n",
"t1=-10;//The given temperature of ice in degree centigrade \n",
"t2=100;//The given temperature of steam in degree centigrade \n",
"S=0.5;//Specific heat of ice \n",
"s=1;//Specific heat of water \n",
"l1=80;//Latent heat of ice in cal/g \n",
"l2=540;//Latent heat of steam in cal/g\n",
"\n",
"//Calculations \n",
"T=273;//The temperature of ice at 0 degree centigrade in K \n",
"T1=t1+273;//The given temperature of ice in K \n",
"T2=t2+273;//The given temperature of steam in K \n",
"S1=m*S*2.3026*log10(T/T1);//Increase in entropy when the temperature of 1 gram of ice increases from -10 to 0 degree centigrade in cal/K \n",
"S2=l1/T;//Increase in entropy when 1 g of ice at 0 degree centigrade is converted into water at 0 degree centigrade in cal/K \n",
"S3=m*s*2.3026*log10(T2/T);//Increase in entropy when 1 g of water raised from 0 to 100 degree centigrade in cal/K \n",
"S4=l2/T2;//Increase in entropy when 1g water at 100 degree centigrade is converted into steam at 100 degree centigrade in cal/K \n",
"S5=S1+S2+S3+S4;//Total increase in entropy in cal/K \n",
"\n",
"//Output\n",
"printf('The total increase in entropy is  %3.5f cal/K',S5)\n",
"\n",
""
   ]
   }
,
{
		   "cell_type": "markdown",
		   "metadata": {},
		   "source": [
			"## Example 6.32: Entropy.sce"
		   ]
		  },
  {
"cell_type": "code",
	   "execution_count": null,
	   "metadata": {
	    "collapsed": true
	   },
	   "outputs": [],
"source": [
"clc\n",
"clear\n",
"//Input data \n",
"V1=1;//Let us assume the initial volume be one in cc \n",
"V2=4*V1;//Then the final volume is four times the initial volume in cc \n",
"\n",
"//Calculations \n",
"S=2.3026*(log10(V2/V1));//The gain in entropy in terms of the gas constant in cal/K \n",
"\n",
"//Output\n",
"printf('The gain in entropy in terms of the gas constant is  %3.3f (R/J)cal/K',S)"
   ]
   }
,
{
		   "cell_type": "markdown",
		   "metadata": {},
		   "source": [
			"## Example 6.33: Entropy.sce"
		   ]
		  },
  {
"cell_type": "code",
	   "execution_count": null,
	   "metadata": {
	    "collapsed": true
	   },
	   "outputs": [],
"source": [
"clc\n",
"clear\n",
"//Input data \n",
"m1=50;//Mass of water at 0 degree centigrade in g \n",
"m2=50;//Mass of water at 83 degree centigrade in g \n",
"t1=0;//The temperature of water in degree centigrade \n",
"t2=83;//The temperature of water in degree centigrade \n",
"\n",
"//Calculations \n",
"T1=t1+273;//Temperature of water in K \n",
"T2=t2+273;//Tempearture of water in K \n",
"s=1;//The specific heat of water \n",
"T=((m2*s*T2)+(m1*s*T1))/((m1+m2)*s);//The final temperature of the mixture in K \n",
"S1=(m1*s*log(T/T1));//The change in entropy by 50 g of water when its temperature rises from 273 K to 313 K in cal/K \n",
"S2=(m2*s*log(T/T2));//The change in entropy by 50 g of water when its temperature falls from 353 K to 313 K in cal/K \n",
"S3=S1+S2;//The total gain in the entropy of the system in cal/K \n",
"\n",
"//Output\n",
"printf('The total gain in entropy of the system is  %3.3f cal/K ',S3)"
   ]
   }
,
{
		   "cell_type": "markdown",
		   "metadata": {},
		   "source": [
			"## Example 6.34: Entropy.sce"
		   ]
		  },
  {
"cell_type": "code",
	   "execution_count": null,
	   "metadata": {
	    "collapsed": true
	   },
	   "outputs": [],
"source": [
"clc\n",
"clear\n",
"//Input data \n",
"m1=50;//Mass of water at 15 degree centigrade in g \n",
"m2=80;//Mass of water at 40 degree centigrade in g \n",
"t1=15;//The temperature of water in degree centigrade \n",
"t2=40;//The temperature of water in degree centigrade \n",
"\n",
"//Calculations \n",
"T1=t1+273;//Temperature of water in K \n",
"T2=t2+273;//Tempearture of water in K \n",
"s=1;//The specific heat of water \n",
"T=((m2*s*T2)+(m1*s*T1))/((m1+m2)*s);//The final temperature of the mixture in K \n",
"S1=(m1*s*log(T/T1));//The change in entropy by 50 g of water when its temperature rises from 288 K to 303.4 K in cal/K \n",
"S2=(m2*s*log(T/T2));//The change in entropy by 80 g of water when its temperature falls from 313 K to 303.4 K in cal/K \n",
"S3=S1+S2;//The total gain in the entropy of the system in cal/K \n",
"\n",
"//Output\n",
"printf('The net increase in the entropy of the system is  %3.3f cal/K ',S3)"
   ]
   }
,
{
		   "cell_type": "markdown",
		   "metadata": {},
		   "source": [
			"## Example 6.35: Entropy.sce"
		   ]
		  },
  {
"cell_type": "code",
	   "execution_count": null,
	   "metadata": {
	    "collapsed": true
	   },
	   "outputs": [],
"source": [
"clc\n",
"clear\n",
"//Input data \n",
"m1=10;//Mass of steam in g \n",
"t1=100;//The temperature of the steam in degree centigrade \n",
"m=90;//mass of water in g \n",
"t2=0;//The temperature of water in degree centigrade \n",
"m2=m+m1;//The total mass of water in g \n",
"l=540;//The latent heat of steam in cal/g\n",
"\n",
"//Calculations \n",
"T1=t1+273;//The temperature of the steam in K \n",
"T2=t2+273;//The temperature of the water in K \n",
"T=((m1*l)+(m1*T1)+(m2*T2))/(m1+m2);//The final temperature in K \n",
"S1=m2*log(T/T2);//The change in entropy when the temperature of water and calorimeter rises from 273 K to 331.2 K in cal/K \n",
"S2=-(m1*l)/T1;//The change in entropy when 10 grams of steam at 373 K condenses to water at 373K in cal/K \n",
"S3=m1*log(T/T1);//Change in entropy when 10 g of water at 373 K is cooled to water at 331.2 K in cal/K \n",
"S4=S1+S2+S3;//Net change in entropy in cal/K \n",
"\n",
"//Output\n",
"printf('The net increase in the entropy of the system is  %3.3f cal/K ',S4)\n",
""
   ]
   }
,
{
		   "cell_type": "markdown",
		   "metadata": {},
		   "source": [
			"## Example 6.36: Entropy.sce"
		   ]
		  },
  {
"cell_type": "code",
	   "execution_count": null,
	   "metadata": {
	    "collapsed": true
	   },
	   "outputs": [],
"source": [
"clc\n",
"clear\n",
"//Input data \n",
"m=1;//Mass of water in g \n",
"t1=20;//The temperature of water in degree centigrade \n",
"t2=-10;//The temperature of ice in degree centigrade \n",
"s1=4.2;//Heat capacity for one gram of water in J/g-K \n",
"s2=2.1;//Heat capacity for ice in J/g-K \n",
"li=335;//Latent heat of fusion of ice at 0 degree centigrade in J/g \n",
"\n",
"//Calculations \n",
"T=273;//The temperature of water at 0 degree centigrade in K\n",
"T1=t1+273;//The temperature of water in K \n",
"T2=t2+273;//The temperature of ice in K \n",
"S1=m*s1*log(T/T1);//Change in entropy when the temperature of 1 g of water at 293 K falls to 273 K in J/K \n",
"S2=-(m*li)/T;//Change in entropy when 1 g of water at 273 K is converted into ice at 273 K in J/K \n",
"S3=m*s2*log(T2/T);//Change in entropy when the temperature of 1 g of ice at 273 K falls to 263 K in J/K \n",
"S4=S1+S2+S3;//The total change in entropy of the system in J/K \n",
"\n",
"//Output \n",
"printf('The total change in the entropy of the system is  %3.5f J/K \n  (Negative sign indicates that there is decrease in the entropy of the system)',S4)"
   ]
   }
,
{
		   "cell_type": "markdown",
		   "metadata": {},
		   "source": [
			"## Example 6.37: Entropy.sce"
		   ]
		  },
  {
"cell_type": "code",
	   "execution_count": null,
	   "metadata": {
	    "collapsed": true
	   },
	   "outputs": [],
"source": [
"clc\n",
"clear\n",
"//Input data \n",
"M=1;//Mass of water in kg \n",
"m=M*1000;//Mass of water in g \n",
"T1=273;//The temperature of the water in K \n",
"T2=373;//The temperature of the heat reservoir in K \n",
"s=1;//Specific heat of water\n",
"\n",
"//Calculations \n",
"S1=m*s*log(T2/T1);//Increase in entropy when the temperature of 1000 g of water is raised from 273 K to 373 k in cal/K \n",
"S2=-(m*s*(T2-T1))/T2;//Change in entropy of the reservoir in cal/K \n",
"S=S1+S2;//Change in entropy of the universe in cal/K \n",
"\n",
"//Output\n",
"printf('(1)The change in entropy of water when temperature reaches 373 K is  %3.0f cal/K \n (2) (i)The Change in entropy of the reservoir is  %3.1f cal/K  \n (ii)The Change in entropy of the universe is  %3.1f cal/K ',S1,S2,S)"
   ]
   }
,
{
		   "cell_type": "markdown",
		   "metadata": {},
		   "source": [
			"## Example 6.3: Temperature.sce"
		   ]
		  },
  {
"cell_type": "code",
	   "execution_count": null,
	   "metadata": {
	    "collapsed": true
	   },
	   "outputs": [],
"source": [
"clc\n",
"clear\n",
"//Input data \n",
"t=27;//The room temperature of air in degree centigrade \n",
"g=1.4;//Adiabatic index \n",
"\n",
"//Calculations \n",
"V1=1;//Let the Original volume in cc \n",
"V2=V1/2;//The final volume i.e half the original volume in cc \n",
"P1=1;//The atmospheric pressure in atms \n",
"P2=P1*(V1/V2)^g;//The final pressure in atms \n",
"T1=t+273;//The room temperature in K \n",
"T2=T1*(V1/V2)^(g-1);//The final temperature in K \n",
"T21=T2-273;//The final temperature in degree centigrade \n",
"\n",
"//Output\n",
"printf('(1)The final pressure is P2 = %3.3f atmospheres \n (2)The final temperature is T2 = %3.1f K  (or)  %3.1f degree centigrade ',P2,T2,T21)\n",
""
   ]
   }
,
{
		   "cell_type": "markdown",
		   "metadata": {},
		   "source": [
			"## Example 6.42: Pressure.sce"
		   ]
		  },
  {
"cell_type": "code",
	   "execution_count": null,
	   "metadata": {
	    "collapsed": true
	   },
	   "outputs": [],
"source": [
"clc\n",
"clear\n",
"//Input data \n",
"l=540;//Latent heat of vapourisation of steam in cal/g \n",
"L=l*4.2*10^7;//Latent heat of vapourisation of steam in ergs/g \n",
"V=1676;//The change in specific volume when 1 g of water is converted into steam in cc \n",
"t1=100;//The actual boiling temperature of water in degree centigrade \n",
"t2=150;//The given temperature at which water must boil in degree centigrade \n",
"p=1;//The atmospheric pressure in atmospheres \n",
"\n",
"//Calculations \n",
"T1=t1+273;//The actual boiling temperature of water in K \n",
"T2=t2+273;//The given temperature at which water must boil in K \n",
"T=T2-T1;//The change in temperature in K \n",
"P=(L*T)/(T1*V);//The pressure in dynes/cm^2 \n",
"P1=P/10^6;//The pressure in atmospheres \n",
"P2=P1+p;//The pressure at which water would boil at 150 degree centigrade in atmospheres \n",
"\n",
"//Output\n",
"printf('The pressure at which water would boil at 150 degree centigrade is  %3.3f atmospheres ',P2)\n",
""
   ]
   }
,
{
		   "cell_type": "markdown",
		   "metadata": {},
		   "source": [
			"## Example 6.43: Pressure.sce"
		   ]
		  },
  {
"cell_type": "code",
	   "execution_count": null,
	   "metadata": {
	    "collapsed": true
	   },
	   "outputs": [],
"source": [
"clc\n",
"clear\n",
"//Input data \n",
"l=80;//Latent heat of fusion of ice in cal/g \n",
"L=l*4.2*10^7;//Latent heat of fusion in ergs/g \n",
"V=0.091;//The change in specific volume when 1 g of water freezes into ice in cc \n",
"t1=0;//The actual freezing point of ice in degree centigrade \n",
"t2=-1;//The given temperature at which ice must freeze in degree centigrade \n",
"p=1;//The atmospheric pressure in atmospheres \n",
"\n",
"//Calculations \n",
"T1=t1+273;//The actual freezing point of ice in K \n",
"T2=t2+273;//The given temperature at which ice must freeze in K \n",
"T=T1-T2;//The change in temperature in K \n",
"P=(L*T)/(V*T1);//The pressure in dynes/cm^2\n",
"P1=P/10^6;//The pressure in atmospheres \n",
"P2=P1+p;//The pressure under which ice would freeze in atmospheres\n",
"\n",
"//Output \n",
"printf('The pressure under which ice would freeze at -1 degree centigrade is  %3.1f atmospheres ',P2)\n",
"\n",
"\n",
""
   ]
   }
,
{
		   "cell_type": "markdown",
		   "metadata": {},
		   "source": [
			"## Example 6.44: Specific_heat.sce"
		   ]
		  },
  {
"cell_type": "code",
	   "execution_count": null,
	   "metadata": {
	    "collapsed": true
	   },
	   "outputs": [],
"source": [
"clc\n",
"clear\n",
"//Input data \n",
"t=100;//The given temperature of water in degree centigrade \n",
"C1=1.01;//The specific heat of water at 100 degree centigrade in cal/g\n",
"L=-0.64;//The rate at which the latent heat of vapourisation decreases with rise in temperature in cal/K \n",
"l=540;//The latent heat of vapourisation of steam in cal \n",
"\n",
"//Calculations \n",
"T=t+273;//The given temperature of water in K \n",
"C2=L-(l/T)+C1;//The specific heat of saturated steam in cal/g \n",
"\n",
"//Output\n",
"printf('The specific heat of satureted steam is  %3.3f cal/g \n (The specific heat of saturated steam is negative)',C2)"
   ]
   }
,
{
		   "cell_type": "markdown",
		   "metadata": {},
		   "source": [
			"## Example 6.45: Specific_heat.sce"
		   ]
		  },
  {
"cell_type": "code",
	   "execution_count": null,
	   "metadata": {
	    "collapsed": true
	   },
	   "outputs": [],
"source": [
"clc\n",
"clear\n",
"//Input data \n",
"t=100;//The temperature of saturated steam in degree centigrade \n",
"L1=545.25;//The latent heat of saturated steam at 90 degree centigrade in cal\n",
"L2=539.30;//The latent heat of saturated steam at 100 degree centigrade in cal\n",
"L3=533.17;//The latent heat of saturated steam at 110 degree centigrade in cal\n",
"C1=1.013;//The specific heat of water at 100 degree centigrade in cal/g \n",
"\n",
"//Calculations \n",
"T=t+273;//The temperature of saturated steam in K \n",
"L=(L3-L1)/(110-90);//The rate at which the latent heat of saturated steam decreases with rise in temperature in cal/K \n",
"C2=C1+L-(L2/T);//The specific heat of saturated steam at 100 degree centigrade in cal/g \n",
"\n",
"//Output \n",
"printf('The specific heat of saturated steam at 100 degree centigrade is  %3.3f cal/g',C2)\n",
""
   ]
   }
,
{
		   "cell_type": "markdown",
		   "metadata": {},
		   "source": [
			"## Example 6.4: Temperature.sce"
		   ]
		  },
  {
"cell_type": "code",
	   "execution_count": null,
	   "metadata": {
	    "collapsed": true
	   },
	   "outputs": [],
"source": [
"clc\n",
"clear \n",
"//Input data \n",
"g=1.4;//Adiabatic index \n",
"\n",
"//Calculations \n",
"V1=1;//Let the initial volume be in cc \n",
"V2=V1/2;//The final volume is half the initial volume in cc \n",
"T1=1;//Let the initial temperature of air be in K \n",
"T2=T1*(V1/V2)^(g-1);//The final temperature of air in K \n",
"T=T2-T1;//The change in temperature of air in K \n",
"\n",
"//Output \n",
"printf('The change in the temperature is %3.3fT1 K ',T)"
   ]
   }
,
{
		   "cell_type": "markdown",
		   "metadata": {},
		   "source": [
			"## Example 6.5: Temperature.sce"
		   ]
		  },
  {
"cell_type": "code",
	   "execution_count": null,
	   "metadata": {
	    "collapsed": true
	   },
	   "outputs": [],
"source": [
"clc\n",
"clear\n",
"//Input data \n",
"g=(5/3);//Adiabatic index for monoatomic \n",
"t=27;//The room temperature in degree centigrade \n",
"P1=1;//The initial pressure in atmosphere \n",
"P2=50;//The final pressure in atmosphere \n",
"\n",
"//Calculations \n",
"T1=t+273;//The room temperature in K \n",
"T2=((P2/P1)^((g-1)/g))*T1;//The final temperature in K \n",
"T21=T2-273;//The final temperature in degree centigrade \n",
"\n",
"//Output\n",
"printf('The Final temperature is T2 = %3.0f K  (or)  %3.0f degree centigrade ',T2,T21)"
   ]
   }
,
{
		   "cell_type": "markdown",
		   "metadata": {},
		   "source": [
			"## Example 6.6: Temperature.sce"
		   ]
		  },
  {
"cell_type": "code",
	   "execution_count": null,
	   "metadata": {
	    "collapsed": true
	   },
	   "outputs": [],
"source": [
"clc\n",
"clear\n",
"//Input data \n",
"t=27;//The temperature of dry air in degree centigrade \n",
"g=1.4;//Adiabatic index \n",
"\n",
"//Calculations \n",
"V1=1;//Let us assume the initial volume in cc \n",
"V2=V1/3;//Then the final volume is 1/3 of the initial volume in cc \n",
"T1=t+273;//The initial temperature of dry air in K \n",
"T2=((V1/V2)^(g-1))*T1;//The final temperature of air in K \n",
"T21=T2-273;//The final temperature of air in degree centigrade \n",
"T=T21-t;//The change in temperature in degree centigrade \n",
"\n",
"//Output\n",
"printf('(1)When the process is slow the temperature of the system remains constant so, there is no change in the temperature \n (2)When the compression is sudden then, \n The temperature of the air increases by T = %3.1f degree centigrade  (or) %3.1f K',T,T)"
   ]
   }
,
{
		   "cell_type": "markdown",
		   "metadata": {},
		   "source": [
			"## Example 6.7: Pressure.sce"
		   ]
		  },
  {
"cell_type": "code",
	   "execution_count": null,
	   "metadata": {
	    "collapsed": true
	   },
	   "outputs": [],
"source": [
"clc\n",
"clear\n",
"//Input data \n",
"g=1.4;//Adiabatic index \n",
"\n",
"//Calculations \n",
"V1=1;//Let the initial volume of the gas in cc \n",
"V2=3*V1;//Then the final volume of the gas is 3 times the initial volume of the gas in cc \n",
"T1=273;//Initial temperature of the gas at NTP in K \n",
"T2=((V1/V2)^(g-1))*T1;//The resulting temperature in K \n",
"T21=T2-273;//The resulting temperature in degree centigrade \n",
"P1=1;//The atmospheric pressure in atms \n",
"P2=((V1/V2)^(g))*P1;//The resulting atmospheric pressure in atmosphere \n",
"\n",
"//Output\n",
"printf('(1)The resulting temperature is T2 = %3.0f K  (or)  %3.0f degree centigrade \n (2)The resulting pressure is P2 = %3.4f atmosphere ',T2,T21,P2)"
   ]
   }
,
{
		   "cell_type": "markdown",
		   "metadata": {},
		   "source": [
			"## Example 6.8: Efficiency.sce"
		   ]
		  },
  {
"cell_type": "code",
	   "execution_count": null,
	   "metadata": {
	    "collapsed": true
	   },
	   "outputs": [],
"source": [
"clc\n",
"clear\n",
"//Input data \n",
"t1=100;//The temperature at steam point in degree centigrade \n",
"t2=0;//The temperature at ice point in degree centigrade \n",
"\n",
"//Calculations \n",
"T1=t1+273;//The temperature at steam point in K \n",
"T2=t2+273;//The temperature at ice point in K \n",
"n=(1-(T2/T1))*100;//The efficiency of the carnots engine in percent \n",
"\n",
"//Output \n",
"printf('The efficiency of the Carnot engine is %3.2f percent ',n)"
   ]
   }
,
{
		   "cell_type": "markdown",
		   "metadata": {},
		   "source": [
			"## Example 6.9: Efficiency.sce"
		   ]
		  },
  {
"cell_type": "code",
	   "execution_count": null,
	   "metadata": {
	    "collapsed": true
	   },
	   "outputs": [],
"source": [
"clc\n",
"clear\n",
"//Input data \n",
"t1=127;//The temperature at initial point in degree centigrade \n",
"t2=27;//The temperature at final point in degree centigrade \n",
"\n",
"//Calculations \n",
"T1=t1+273;//The temperature at initial point in K \n",
"T2=t2+273;//The temperature at final point in K \n",
"n=(1-(T2/T1))*100;//The efficiency of the carnots engine in percent \n",
"\n",
"//Output \n",
"printf('The efficiency of the Carnot engine is %3.0f percent ',n)"
   ]
   }
],
"metadata": {
		  "kernelspec": {
		   "display_name": "Scilab",
		   "language": "scilab",
		   "name": "scilab"
		  },
		  "language_info": {
		   "file_extension": ".sce",
		   "help_links": [
			{
			 "text": "MetaKernel Magics",
			 "url": "https://github.com/calysto/metakernel/blob/master/metakernel/magics/README.md"
			}
		   ],
		   "mimetype": "text/x-octave",
		   "name": "scilab",
		   "version": "0.7.1"
		  }
		 },
		 "nbformat": 4,
		 "nbformat_minor": 0
}
