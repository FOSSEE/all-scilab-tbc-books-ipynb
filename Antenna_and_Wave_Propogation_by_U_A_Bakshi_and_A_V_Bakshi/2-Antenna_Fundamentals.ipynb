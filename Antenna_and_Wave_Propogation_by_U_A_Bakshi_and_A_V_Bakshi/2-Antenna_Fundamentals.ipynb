{
"cells": [
 {
		   "cell_type": "markdown",
	   "metadata": {},
	   "source": [
       "# Chapter 2: Antenna Fundamentals"
	   ]
	},
{
		   "cell_type": "markdown",
		   "metadata": {},
		   "source": [
			"## Example 2.10: Average_power_calculatio.sce"
		   ]
		  },
  {
"cell_type": "code",
	   "execution_count": null,
	   "metadata": {
	    "collapsed": true
	   },
	   "outputs": [],
"source": [
"//chapter 2\n",
"//Rrad=36.5ohm\n",
"//Irms=Im/sqrt(2)\n",
"printf('\n');\n",
"Im=1.22;//on applying Kvl\n",
"Pavg=36.5*(1.122/sqrt(2))^2;\n",
"printf('the average power is %gW',Pavg);"
   ]
   }
,
{
		   "cell_type": "markdown",
		   "metadata": {},
		   "source": [
			"## Example 2.11: power_calculatio.sce"
		   ]
		  },
  {
"cell_type": "code",
	   "execution_count": null,
	   "metadata": {
	    "collapsed": true
	   },
	   "outputs": [],
"source": [
"//chapter 2\n",
"//Hphi=Im*dl*sin(theta)/(2*lamda*r);\n",
"//for Hertzian Dipole\n",
"printf('\n');\n",
"Hphi=5*10^-6;\n",
"lamda=1;//assume\n",
"dl=0.04;\n",
"Im=(5*10^-6)*2*(2*10^3)/(0.04);\n",
"Irms=Im/(sqrt(2));\n",
"Prad=80*(%pi)^2*(0.04)^2*(Irms)^2;\n",
"printf('the radiated Power is %gW',Prad);"
   ]
   }
,
{
		   "cell_type": "markdown",
		   "metadata": {},
		   "source": [
			"## Example 2.12: Power_calculatio.sce"
		   ]
		  },
  {
"cell_type": "code",
	   "execution_count": null,
	   "metadata": {
	    "collapsed": true
	   },
	   "outputs": [],
"source": [
"//chapter 2\n",
"//For Half wave Dipole\n",
"//Hphi=Im/(2*pi*r)*cos(pi/2*cos(theta)/sin(theta))\n",
"//Rrad=73 ohm\n",
"Hphi=5*10^-6;\n",
"r=2*10^3;\n",
"Im=(5*10^-6)*(4*(%pi)*10^3);\n",
"Prad=73*(Im/sqrt(2))^2;\n",
"printf('the radiated power is %gW',Prad);"
   ]
   }
,
{
		   "cell_type": "markdown",
		   "metadata": {},
		   "source": [
			"## Example 2.13: power_calculatio.sce"
		   ]
		  },
  {
"cell_type": "code",
	   "execution_count": null,
	   "metadata": {
	    "collapsed": true
	   },
	   "outputs": [],
"source": [
"//chapter 2\n",
"//For quarter wave monopole\n",
"//Rrad=36.5 ohm\n",
"Im=20*(%pi)*10^-3;//from previous problem\n",
"Prad=36.5*((20*(%pi)*10^-3)/sqrt(2))^2;\n",
"printf('the radiated power is %gW',Prad);\n",
"\n",
""
   ]
   }
,
{
		   "cell_type": "markdown",
		   "metadata": {},
		   "source": [
			"## Example 2.14: Dipole_length_calculation.sce"
		   ]
		  },
  {
"cell_type": "code",
	   "execution_count": null,
	   "metadata": {
	    "collapsed": true
	   },
	   "outputs": [],
"source": [
"//chapter 2\n",
"//lamda=velocity/frequency\n",
"printf('\n');\n",
"frequency=50*10^6;\n",
"lamda=3*10^8/frequency;\n",
"leng=lamda/2;\n",
"printf('the length of the dipole antenna is %dm',leng);"
   ]
   }
,
{
		   "cell_type": "markdown",
		   "metadata": {},
		   "source": [
			"## Example 2.15: Current_calculation.sce"
		   ]
		  },
  {
"cell_type": "code",
	   "execution_count": null,
	   "metadata": {
	    "collapsed": true
	   },
	   "outputs": [],
"source": [
"//chapter 2\n",
"//Etheta=60*Im*cos(pi/2*cos(theta)/sin(theta))/r\n",
"printf('\n');\n",
"r=500*10^3;\n",
"Etheta=10*10^-6;\n",
"Im=Etheta*r/60;\n",
"printf('the current through the dipole is %gA',Im);"
   ]
   }
,
{
		   "cell_type": "markdown",
		   "metadata": {},
		   "source": [
			"## Example 2.16: power_calculatio.sce"
		   ]
		  },
  {
"cell_type": "code",
	   "execution_count": null,
	   "metadata": {
	    "collapsed": true
	   },
	   "outputs": [],
"source": [
"//chapter 2\n",
"//for half wave dipole\n",
"Pavg=0.5*73*0.0833;//Rrad*Irms^2;Rrad=73 ohm\n",
"printf('the radiated power is %gW',Pavg);"
   ]
   }
,
{
		   "cell_type": "markdown",
		   "metadata": {},
		   "source": [
			"## Example 2.17: Directivity_calculatio.sce"
		   ]
		  },
  {
"cell_type": "code",
	   "execution_count": null,
	   "metadata": {
	    "collapsed": true
	   },
	   "outputs": [],
"source": [
"//chapter 2\n",
"//efficiency=Prad/Pinput\n",
"//efficiency=0.95,Umax=0.5W/sr,D=Umax/[Prad/4*pi];\n",
"//part (i)\n",
"printf('\n');\n",
"Pinput=0.4;\n",
"n=0.95;\n",
"Umax=0.5;\n",
"Prad=n*Pinput;\n",
"printf('the radiated power is %gW',Prad);\n",
"D=0.5/(0.38/(4*(%pi)));\n",
"printf('\nthe directivity is %g',D);\n",
"//part(ii)\n",
"Prad=0.3;\n",
"D=0.5/(0.3/(4*(%pi)));\n",
"printf('\nthe directivity is%g',D);"
   ]
   }
,
{
		   "cell_type": "markdown",
		   "metadata": {},
		   "source": [
			"## Example 2.18: efield_calculatio.sce"
		   ]
		  },
  {
"cell_type": "code",
	   "execution_count": null,
	   "metadata": {
	    "collapsed": true
	   },
	   "outputs": [],
"source": [
"//chapter 2\n",
"//for half wave dipole\n",
"//on applying kvl\n",
"printf('\n');\n",
"Im=0.0768;\n",
"Rrad=73;\n",
"r=10^4;\n",
"Prad=0.5*Rrad*Im^2;//Rrad=73 for half wave dipole\n",
"printf('the radiated power is %gW',Prad);\n",
"Gd=1.6405//on taking antilog of Gd(in db)\n",
"E4=Prad/(4*(%pi)*r^2);\n",
"E3=1.6405*E4;\n",
"E2=E3*240*(%pi);\n",
"printf('\n%g',E2);\n",
"E=sqrt(E2);\n",
"printf('\nthe field value is %gV/m',E);"
   ]
   }
,
{
		   "cell_type": "markdown",
		   "metadata": {},
		   "source": [
			"## Example 2.19: power_calculatio.sce"
		   ]
		  },
  {
"cell_type": "code",
	   "execution_count": null,
	   "metadata": {
	    "collapsed": true
	   },
	   "outputs": [],
"source": [
"//chapter 2\n",
"//frequency=100 MHz\n",
"printf('\n');\n",
"frequency=100*10^6;\n",
"lamda=3*10^8/frequency;\n",
"leng=lamda/2;\n",
"printf('the length of antenna is %gm',leng);\n",
"Rrad=73;\n",
"Im=25;\n",
"Prad=Rrad*0.5*Im^2;\n",
"printf('\nthe power radiated is %gW',Prad);\n",
""
   ]
   }
,
{
		   "cell_type": "markdown",
		   "metadata": {},
		   "source": [
			"## Example 2.1: Etheta_calculatio.sce"
		   ]
		  },
  {
"cell_type": "code",
	   "execution_count": null,
	   "metadata": {
	    "collapsed": true
	   },
	   "outputs": [],
"source": [
"//chapter 2\n",
"//formula is Etheta=60*pi*I(dl/lambda)*(sin(theta)/r) where thetha=90\n",
"printf('\n');\n",
"r=200;\n",
"printf('distance between points is %dm',r);\n",
"lam=10;\n",
"printf('\nthe wavelength is %dm',lam);\n",
"idl=3*10^-4;\n",
"printf('\nthe current element is %eA/m',idl);\n",
"Etheta=60*3.14*3*10^-3/2;\n",
"printf('\nEtheta is value is %eV/m',Etheta);"
   ]
   }
,
{
		   "cell_type": "markdown",
		   "metadata": {},
		   "source": [
			"## Example 2.20: Radiation_resistance_calculation.sce"
		   ]
		  },
  {
"cell_type": "code",
	   "execution_count": null,
	   "metadata": {
	    "collapsed": true
	   },
	   "outputs": [],
"source": [
"//chapter 2\n",
"printf('\n');\n",
"Im=15;\n",
"Prad=6*10^3;\n",
"Rrad=Prad/(Im/sqrt(2))^2;\n",
"printf('the radiation resistance is %gohm',Rrad);"
   ]
   }
,
{
		   "cell_type": "markdown",
		   "metadata": {},
		   "source": [
			"## Example 2.21: Directive_gain_calculation.sce"
		   ]
		  },
  {
"cell_type": "code",
	   "execution_count": null,
	   "metadata": {
	    "collapsed": true
	   },
	   "outputs": [],
"source": [
"//chapter 2\n",
"//Gpmax=n*Gdmax\n",
"//N=Rrad/Rrad+Rloss\n",
"printf('\n');\n",
"Rrad=72;\n",
"Rloss=8;\n",
"n=Rrad/(Rrad+Rloss);\n",
"printf('the radiation efficiency is given by %g',n);\n",
"Gpmax=15.8489;//antilog(Gpmax/10);Gpmax=12db\n",
"Gdmax=Gpmax/n;\n",
"Gdmaxdb=10*log10(Gdmax);\n",
"printf('\nthe directive gain is %g',Gdmax);\n",
"printf('\nthe directive gain in db is %g',Gdmaxdb);"
   ]
   }
,
{
		   "cell_type": "markdown",
		   "metadata": {},
		   "source": [
			"## Example 2.22: Radiation_efficiency_calculation.sce"
		   ]
		  },
  {
"cell_type": "code",
	   "execution_count": null,
	   "metadata": {
	    "collapsed": true
	   },
	   "outputs": [],
"source": [
"//chapter 2\n",
"printf('\n');\n",
"dl=1/40;\n",
"Im=125;\n",
"Rloss=1;\n",
"Rrad=80*(%pi)^2*(dl)^2;\n",
"printf('the Radiation resistance is %gohm',Rrad);\n",
"Irms=Im/sqrt(2);\n",
"Prad=Rrad*(Irms)^2;\n",
"printf('\nthe Power radiated is %gW',Prad);\n",
"n=Rrad/(Rrad+Rloss);\n",
"printf('\nthe radiation efficiency is %g',n);"
   ]
   }
,
{
		   "cell_type": "markdown",
		   "metadata": {},
		   "source": [
			"## Example 2.23: Efield_calculatio.sce"
		   ]
		  },
  {
"cell_type": "code",
	   "execution_count": null,
	   "metadata": {
	    "collapsed": true
	   },
	   "outputs": [],
"source": [
"//chapter 2\n",
"//|E|^2=sqrt(60*Gd*Prad)/r;\n",
"printf('\n');\n",
"r=10^4;\n",
"Gd=3.1622//antilog(5db/10)\n",
"Prad=20*10^3;\n",
"E=sqrt(60*Gd*Prad)/r;\n",
"printf('the Electric field value is %gV/m',E);"
   ]
   }
,
{
		   "cell_type": "markdown",
		   "metadata": {},
		   "source": [
			"## Example 2.24: Efield_calculatio.sce"
		   ]
		  },
  {
"cell_type": "code",
	   "execution_count": null,
	   "metadata": {
	    "collapsed": true
	   },
	   "outputs": [],
"source": [
"//chapter 2\n",
"//Gd=antilog(12db/10)\n",
"printf('\n');\n",
"Gd=15.85;\n",
"Prad=5*10^3;\n",
"r=3*10^3;\n",
"E=sqrt(60*Gd*Prad)/r;\n",
"printf('the electric field is %gV/m',E);"
   ]
   }
,
{
		   "cell_type": "markdown",
		   "metadata": {},
		   "source": [
			"## Example 2.25: Radiation_efficiency_calculation.sce"
		   ]
		  },
  {
"cell_type": "code",
	   "execution_count": null,
	   "metadata": {
	    "collapsed": true
	   },
	   "outputs": [],
"source": [
"//chapter 2\n",
"//R=l*sqrt(pi*F*Uo*Sigma)/Sigma*2*pi*r\n",
"printf('\n');\n",
"L=2;\n",
"r=1*10^-3;\n",
"f=2*10^6;\n",
"u=4*(%pi)*10^-7;\n",
"sig=5.7*10^6;\n",
"R=sqrt((%pi)*2*10^6*4*(%pi)*10^-7/(5.7*10^6))*L/(2*(%pi)*10^-3);\n",
"printf('the resistance of hertzian dipole is %gohm',R);\n",
"dl=2\n",
"frequency=2*10^6;\n",
"lamda=3*10^8/(frequency);\n",
"Rrad=80*(%pi)^2*(dl/lamda)^2;\n",
"n=Rrad/(Rrad+R);\n",
"printf('\nthe radiation efficiency is %gohm',n);"
   ]
   }
,
{
		   "cell_type": "markdown",
		   "metadata": {},
		   "source": [
			"## Example 2.26: Radiation_efficiency_calculation.sce"
		   ]
		  },
  {
"cell_type": "code",
	   "execution_count": null,
	   "metadata": {
	    "collapsed": true
	   },
	   "outputs": [],
"source": [
"//chapter 2\n",
"//half wave dipole\n",
"printf('\n');\n",
"dl=1/15;//assume lamda=1;\n",
"Rloss=1.5;\n",
"Rrad=80*(%pi)^2*(1/15)^2;\n",
"n=Rrad/(Rrad+Rloss);\n",
"printf('the radiation efficiency is %g',n);"
   ]
   }
,
{
		   "cell_type": "markdown",
		   "metadata": {},
		   "source": [
			"## Example 2.27: Voltage_calculatio.sce"
		   ]
		  },
  {
"cell_type": "code",
	   "execution_count": null,
	   "metadata": {
	    "collapsed": true
	   },
	   "outputs": [],
"source": [
"//chapter 2\n",
"//Leff=Voc/E\n",
"printf('\n');\n",
"Leff=8;\n",
"E=0.01;\n",
"Voc=Leff*E;\n",
"printf('the voltage induced is %gV',Voc);"
   ]
   }
,
{
		   "cell_type": "markdown",
		   "metadata": {},
		   "source": [
			"## Example 2.28: Dipole_length_calculation.sce"
		   ]
		  },
  {
"cell_type": "code",
	   "execution_count": null,
	   "metadata": {
	    "collapsed": true
	   },
	   "outputs": [],
"source": [
"//chapter 2\n",
"//Antenna Bandwidth=Operating Frequency/Q;\n",
"printf('\n');\n",
"Q=30;\n",
"f=10*10^6;\n",
"f0=f*Q;\n",
"c=3*10^8;\n",
"lamda=c/f0;\n",
"leng=lamda/2;\n",
"printf('the length of the half wave dipole is %gm',leng);"
   ]
   }
,
{
		   "cell_type": "markdown",
		   "metadata": {},
		   "source": [
			"## Example 2.29: effective_aperture_calculatio.sce"
		   ]
		  },
  {
"cell_type": "code",
	   "execution_count": null,
	   "metadata": {
	    "collapsed": true
	   },
	   "outputs": [],
"source": [
"//chapter 2\n",
"//part a\n",
"printf('\n');\n",
"c=3*10^8;\n",
"f=10^9;\n",
"lamda=c/f;\n",
"printf('the wavelength is %gm',lamda);\n",
"//part b\n",
"dl=3*10^-2;\n",
"Rrad=80*(%pi)^2*(dl/lamda)^2;\n",
"printf('\nthe radiation resistance is %gohm',Rrad);\n",
"//part c\n",
"Gdmax=1.5//Gd=1.5sin^2(theta),where theta=90 for short dipole\n",
"n=0.6;\n",
"Gp=n*Gdmax;\n",
"printf('\nthe antenna gain is given by %g',Gp);\n",
"//part d\n",
"Ae=1.5*(lamda)^2/(4*(%pi));\n",
"printf('\nthe effective aperture is %gm^2',Ae);"
   ]
   }
,
{
		   "cell_type": "markdown",
		   "metadata": {},
		   "source": [
			"## Example 2.2: Directive_gain_calculation.sce"
		   ]
		  },
  {
"cell_type": "code",
	   "execution_count": null,
	   "metadata": {
	    "collapsed": true
	   },
	   "outputs": [],
"source": [
"//chapter 2\n",
"//formula etta=Prad/Prad+Ploss=Rrad/Rrad+Rloss\n",
"printf('\n');\n",
"Rrad=72;\n",
"printf('radiation resistance is %dohm',Rrad);\n",
"Rloss=8;\n",
"ettar=72/(72+8);\n",
"printf('\nthe Loss resistance is %dohm',Rloss);\n",
"Gpmax=30;\n",
"printf('\nthe power gain of antenna is %d',Gpmax);\n",
"Gdmax=Gpmax/ettar;\n",
"Gdmax1=10 *log10(Gdmax);//in db\n",
"printf('\nthe Directivity gain is %g',Gdmax);\n",
"printf('\nthe Directivity gain in db is given by %edb',Gdmax1);"
   ]
   }
,
{
		   "cell_type": "markdown",
		   "metadata": {},
		   "source": [
			"## Example 2.30: Noise_power_calculatio.sce"
		   ]
		  },
  {
"cell_type": "code",
	   "execution_count": null,
	   "metadata": {
	    "collapsed": true
	   },
	   "outputs": [],
"source": [
"//chapter 2\n",
"//P=k(Ta+Tr)B\n",
"printf('\n');\n",
"Ta=15;\n",
"Tr=20;\n",
"b=4*10^6;\n",
"//part a\n",
"k=1.38*10^-23;\n",
"Pb=k*(Ta+Tr);\n",
"printf('the power per unit bandwidth is %gW/hz',Pb);\n",
"//part b\n",
"P=Pb*b;\n",
"printf('\nthe available noise power is %gW',P);"
   ]
   }
,
{
		   "cell_type": "markdown",
		   "metadata": {},
		   "source": [
			"## Example 2.31: Tuning_factor_calculation.sce"
		   ]
		  },
  {
"cell_type": "code",
	   "execution_count": null,
	   "metadata": {
	    "collapsed": true
	   },
	   "outputs": [],
"source": [
"//chapter 2\n",
"//Q=Fo/delf;\n",
"printf('\n');\n",
"f0=30*10^6;\n",
"f=600*10^3;\n",
"Q=f0/f;\n",
"printf('the tuning factor Q is %d',Q);"
   ]
   }
,
{
		   "cell_type": "markdown",
		   "metadata": {},
		   "source": [
			"## Example 2.32: Antenna_gain_calculation.sce"
		   ]
		  },
  {
"cell_type": "code",
	   "execution_count": null,
	   "metadata": {
	    "collapsed": true
	   },
	   "outputs": [],
"source": [
"//chapter 2\n",
"//part a\n",
"printf('\n');\n",
"c=3*10^8;\n",
"frequency=20*10^9;\n",
"lamda=c/frequency;\n",
"printf('the wavelength is %gm',lamda);\n",
"//part b\n",
"//Ae=G*(lamda)^2/4*pi\n",
"r=0.61;\n",
"Aep=(%pi)*r^2;\n",
"printf('\nthe effective physical aperture is %gm^2',Aep);\n",
"Ae=0.55*Aep;\n",
"Ga=(Ae*4*(%pi))/(lamda)^2;\n",
"Gdb=10*log10(Ga);\n",
"printf('\nthe antenna gain is %g',Ga);\n",
"printf('\nthe antenna gain in db is %gdb',Gdb);"
   ]
   }
,
{
		   "cell_type": "markdown",
		   "metadata": {},
		   "source": [
			"## Example 2.33: Dipole_length_calculation.sce"
		   ]
		  },
  {
"cell_type": "code",
	   "execution_count": null,
	   "metadata": {
	    "collapsed": true
	   },
	   "outputs": [],
"source": [
"//chapter 2\n",
"printf('\n');\n",
"f=30*10^6;\n",
"c=3*10^8;\n",
"lamda=c/f;\n",
"leng=lamda/2;\n",
"printf('the length of half wave dipole is %dm',leng);"
   ]
   }
,
{
		   "cell_type": "markdown",
		   "metadata": {},
		   "source": [
			"## Example 2.34: Directive_gain_calculation.sce"
		   ]
		  },
  {
"cell_type": "code",
	   "execution_count": null,
	   "metadata": {
	    "collapsed": true
	   },
	   "outputs": [],
"source": [
"//chapter 2\n",
"printf('\n');\n",
"Rrad=72;\n",
"Rloss=8;\n",
"Gp=16;\n",
"n=Rrad/(Rrad+Rloss);\n",
"printf('the radiation efficiency is %g',n);\n",
"Gp=16;\n",
"Gd=Gp/n;\n",
"Gddb=10*log10(Gd);\n",
"printf('\nthe directive gain is %g',Gd);\n",
"printf('\nthe directive gain in db is %gdb',Gddb);"
   ]
   }
,
{
		   "cell_type": "markdown",
		   "metadata": {},
		   "source": [
			"## Example 2.35: power_calculatio.sce"
		   ]
		  },
  {
"cell_type": "code",
	   "execution_count": null,
	   "metadata": {
	    "collapsed": true
	   },
	   "outputs": [],
"source": [
"//chapter 2\n",
"printf('\n');\n",
"Gt=1.5;\n",
"Gr=1.5;\n",
"d=10;\n",
"Pt=15;\n",
"f=10^9;\n",
"c=3*10^8;\n",
"lamda=c/f;\n",
"Pr=Pt*Gt*Gr*(lamda/(4*(%pi)*d))^2;\n",
"printf('the radiated power is %gW',Pr);"
   ]
   }
,
{
		   "cell_type": "markdown",
		   "metadata": {},
		   "source": [
			"## Example 2.36: power_calculatio.sce"
		   ]
		  },
  {
"cell_type": "code",
	   "execution_count": null,
	   "metadata": {
	    "collapsed": true
	   },
	   "outputs": [],
"source": [
"//chapter 2\n",
"printf('\n');\n",
"f=2*10^9;\n",
"c=3*10^8;\n",
"lamda=c/f;\n",
"printf('the wavelngth is %gm',lamda);\n",
"//part b\n",
"Pr=10^-12;\n",
"Gt=200;\n",
"Gr=200;\n",
"d=3*10^6;\n",
"Pt=((4*(%pi)*d)/lamda)^2*(Pr/(Gt*Gr));\n",
"printf('\nthe transmitted power is %gW',Pt);"
   ]
   }
,
{
		   "cell_type": "markdown",
		   "metadata": {},
		   "source": [
			"## Example 2.37: Gain_calculation.sce"
		   ]
		  },
  {
"cell_type": "code",
	   "execution_count": null,
	   "metadata": {
	    "collapsed": true
	   },
	   "outputs": [],
"source": [
"//chapter 2\n",
"//part a\n",
"printf('\n');\n",
"c=3*10^8;\n",
"f=100*10^6;\n",
"lamda=c/f;\n",
"printf('the wavelength is %dm',lamda);\n",
"//part b\n",
"Gt=15.8489//antilog(12/10)\n",
"Pt=10^-1;\n",
"Pr=10^-9;\n",
"d=384.4*10^6;//238857*1609.35\n",
"Gr=(((4*(%pi)*d)/lamda)^2*Pr)/(Pt*Gt);\n",
"printf('\nthe gain of receiver is %g',Gr);\n",
"Grdb=10*log10(Gr);\n",
"printf('\nthe gain of receiver in db is %gdb',Grdb);"
   ]
   }
,
{
		   "cell_type": "markdown",
		   "metadata": {},
		   "source": [
			"## Example 2.38: Bandwidth_calculation.sce"
		   ]
		  },
  {
"cell_type": "code",
	   "execution_count": null,
	   "metadata": {
	    "collapsed": true
	   },
	   "outputs": [],
"source": [
"//chapter 2\n",
"printf('\n');\n",
"Q=15;\n",
"lamda=1;\n",
"c=3*10^8;\n",
"f0=c/lamda;\n",
"Bw=f0/Q;\n",
"printf('the bandwidth of antenna is %eHz',Bw);"
   ]
   }
,
{
		   "cell_type": "markdown",
		   "metadata": {},
		   "source": [
			"## Example 2.39: Directive_gain_calculation.sce"
		   ]
		  },
  {
"cell_type": "code",
	   "execution_count": null,
	   "metadata": {
	    "collapsed": true
	   },
	   "outputs": [],
"source": [
"//chapter 2\n",
"//Aemax=Gdmax*lamda^2/4*pi;\n",
"printf('\n');\n",
"Aemax=0.13;//assume lamda=1 for half wave dipole\n",
"Gdmax=4*(%pi)*Aemax;\n",
"printf('the maximum directive gain is %g',Gdmax);\n",
"Gdmaxdb=10*log10(Gdmax);\n",
"printf('\nthe maximum directive gian in db is %gdb',Gdmaxdb);"
   ]
   }
,
{
		   "cell_type": "markdown",
		   "metadata": {},
		   "source": [
			"## Example 2.3: Radiation_Resistance_calculation.sce"
		   ]
		  },
  {
"cell_type": "code",
	   "execution_count": null,
	   "metadata": {
	    "collapsed": true
	   },
	   "outputs": [],
"source": [
"//chapter 2\n",
"//Rrad=80*pi^2*(dl/lambda)^2\n",
"printf('\n');\n",
"dl=0.1;\n",
"printf('the elemental length is given by %g',dl);\n",
"Rrad=80*(%pi)^2*(0.1)^2;\n",
"printf('\nthe radiation resistance is %gohm',Rrad);"
   ]
   }
,
{
		   "cell_type": "markdown",
		   "metadata": {},
		   "source": [
			"## Example 2.40: Radiated_power_calculatio.sce"
		   ]
		  },
  {
"cell_type": "code",
	   "execution_count": null,
	   "metadata": {
	    "collapsed": true
	   },
	   "outputs": [],
"source": [
"//chapter 2\n",
"printf('\n');\n",
"Rloss=1;\n",
"Ra=73;\n",
"Im=14.166*10^-3;//on applying kvl\n",
"Prad=(Im/sqrt(2))^2*(Rloss+Ra);\n",
"printf('the radiated power is %gW',Prad);"
   ]
   }
,
{
		   "cell_type": "markdown",
		   "metadata": {},
		   "source": [
			"## Example 2.41: Average_power_calculatio.sce"
		   ]
		  },
  {
"cell_type": "code",
	   "execution_count": null,
	   "metadata": {
	    "collapsed": true
	   },
	   "outputs": [],
"source": [
"//chapter 2\n",
"//Etheta=n0Im/2pir*cos(pi/2 cos(theta)/sin(theta))\n",
"printf('\n');\n",
"Pin=100;\n",
"n=0.5;\n",
"r=500;\n",
"Prad=n*Pin;\n",
"printf('the radiated power is %gW',Prad);\n",
"Rrad=73;//for half wave dipole\n",
"Im=sqrt((2*Prad)/Rrad);\n",
"n0=120*(%pi);\n",
"Etheta=(cos((%pi/2)*cos(%pi/3))/sin(%pi/3))*n0*(Im/(2*(%pi)*r));\n",
"printf('\nthe electric field is given by %gV/m',Etheta);\n",
"Pavg=(0.5*(Etheta)^2)/(n0);\n",
"printf('\nthe average power is %gW',Pavg);"
   ]
   }
,
{
		   "cell_type": "markdown",
		   "metadata": {},
		   "source": [
			"## Example 2.42: Radiation_Power_calculation.sce"
		   ]
		  },
  {
"cell_type": "code",
	   "execution_count": null,
	   "metadata": {
	    "collapsed": true
	   },
	   "outputs": [],
"source": [
"//chapter 2\n",
"//may june 2008\n",
"printf('\n');\n",
"Pt=15\n",
"Aet=2.5;\n",
"Aer=0.5;\n",
"d=15*10^3;\n",
"f=5*10^9;\n",
"c=3*10^8;\n",
"lamda=c/f;\n",
"Pr=(Pt*Aet*Aer)/((d)^2*(lamda)^2);\n",
"printf('the radiated power is %gW',Pr);"
   ]
   }
,
{
		   "cell_type": "markdown",
		   "metadata": {},
		   "source": [
			"## Example 2.43: Directive_gain_calculation.sce"
		   ]
		  },
  {
"cell_type": "code",
	   "execution_count": null,
	   "metadata": {
	    "collapsed": true
	   },
	   "outputs": [],
"source": [
"//chapter 2\n",
"//may june 2009\n",
"printf('\n');\n",
"n=10;\n",
"d=0.25;\n",
"lamda=1;//assume\n",
"Gdmax=4*((n*d)/lamda);\n",
"printf('\nthe maximum directive gain is %g',Gdmax);\n",
"Gdmaxdb=10*log10(Gdmax);\n",
"printf('\nthe maximum directive gain in db is %gdb',Gdmaxdb);"
   ]
   }
,
{
		   "cell_type": "markdown",
		   "metadata": {},
		   "source": [
			"## Example 2.44: Radiation_efficiency_calculation.sce"
		   ]
		  },
  {
"cell_type": "code",
	   "execution_count": null,
	   "metadata": {
	    "collapsed": true
	   },
	   "outputs": [],
"source": [
"//chapter 2\n",
"//nov-dec 2012\n",
"printf('\n');\n",
"Rrad=65;\n",
"Rloss=10;\n",
"n=Rrad/(Rrad+Rloss);\n",
"printf('the radiation efficiency is %g',n);"
   ]
   }
,
{
		   "cell_type": "markdown",
		   "metadata": {},
		   "source": [
			"## Example 2.45: Effective_aperture_calculatio.sce"
		   ]
		  },
  {
"cell_type": "code",
	   "execution_count": null,
	   "metadata": {
	    "collapsed": true
	   },
	   "outputs": [],
"source": [
"//chapter 2\n",
"//may june 2013\n",
"//Aem=Gdmax*lamda^2/4*pi;\n",
"printf('\n');\n",
"Gdmax=1.5;//for half wave dipole\n",
"f=10^9;\n",
"c=3*10^8;\n",
"lamda=c/f;\n",
"Aem=(Gdmax*(lamda)^2)/(4*(%pi));\n",
"printf('the effective aperture is %gm^2',Aem);\n",
" "
   ]
   }
,
{
		   "cell_type": "markdown",
		   "metadata": {},
		   "source": [
			"## Example 2.46: FBR_ratio_calculatio.sce"
		   ]
		  },
  {
"cell_type": "code",
	   "execution_count": null,
	   "metadata": {
	    "collapsed": true
	   },
	   "outputs": [],
"source": [
"//chapter 2\n",
"printf('\n');\n",
"Pdes=3*10^3;\n",
"Popp=500;\n",
"FBR=Pdes/Popp;\n",
"printf('the front to back ratio is %d',FBR);"
   ]
   }
,
{
		   "cell_type": "markdown",
		   "metadata": {},
		   "source": [
			"## Example 2.47: Radiation_resistance_calculation.sce"
		   ]
		  },
  {
"cell_type": "code",
	   "execution_count": null,
	   "metadata": {
	    "collapsed": true
	   },
	   "outputs": [],
"source": [
"//chapter 2\n",
"printf('\n');\n",
"dl=1/50;\n",
"Rr=80*(%pi)^2*(dl)^2;\n",
"printf('the radiation resistance is %gohm',Rr);"
   ]
   }
,
{
		   "cell_type": "markdown",
		   "metadata": {},
		   "source": [
			"## Example 2.4: Rms_current_calculation.sce"
		   ]
		  },
  {
"cell_type": "code",
	   "execution_count": null,
	   "metadata": {
	    "collapsed": true
	   },
	   "outputs": [],
"source": [
"//chapter 2\n",
"//Prad=80*(pi)^2*(dl/lambda)*(Irms)^2;\n",
"printf('\n');\n",
"frequency=100*10^6;\n",
"lamda=(3*10^8)/(100*10^6);//lamda=c/f;\n",
"printf('the wavelength is %dm',lamda);\n",
"Prad=100;\n",
"printf('\nthe Radiated power is %dW',Prad);\n",
"dl=0.01;\n",
"printf('\nthe elemental length is %gm',dl);\n",
"Irms2=(3/0.01)^2*100/(80*(%pi)^2);\n",
"Irms=sqrt(Irms2);\n",
"printf('\nthe Irms current is %gA',Irms)"
   ]
   }
,
{
		   "cell_type": "markdown",
		   "metadata": {},
		   "source": [
			"## Example 2.5: Effective_aperture_calculatio.sce"
		   ]
		  },
  {
"cell_type": "code",
	   "execution_count": null,
	   "metadata": {
	    "collapsed": true
	   },
	   "outputs": [],
"source": [
"//chapter 2\n",
"//Pavg=0.5*|E|^2/etta0,Prmax=2*10^-6W,Aem=Prmax/Pavg\n",
"printf('\n');\n",
"E=50*10^-3;\n",
"Etta0=120*(%pi);\n",
"printf('the electric field is %eV/m',E);\n",
"Pavg=0.5*(50*10^-3)^2/(120*(%pi));\n",
"printf('\nthe average power is %gW',Pavg);\n",
"Aem=(2*10^-6)/(3.315*10^-6);\n",
"printf('\nthe maximum effective aperture area is %gm^2',Aem);"
   ]
   }
,
{
		   "cell_type": "markdown",
		   "metadata": {},
		   "source": [
			"## Example 2.6: Aperture_area_calculatio.sce"
		   ]
		  },
  {
"cell_type": "code",
	   "execution_count": null,
	   "metadata": {
	    "collapsed": true
	   },
	   "outputs": [],
"source": [
"//chapter 2\n",
"//Pavg=0.5*|E|^2/etta0,Prmax=2*10^-6W,Aem=Prmax/Pavg\n",
"printf('\n');\n",
"E=50*10^-3;\n",
"Etta0=120*(%pi);\n",
"printf('the electric field is %eV/m',E);\n",
"Pavg=0.5*(50*10^-3)^2/(120*(%pi));\n",
"printf('\nthe average power is %gW',Pavg);\n",
"Aem=(2*10^-6)/(3.315*10^-6);\n",
"printf('\nthe maximum effective aperture area is %gm^2',Aem);"
   ]
   }
,
{
		   "cell_type": "markdown",
		   "metadata": {},
		   "source": [
			"## Example 2.7: Transmitted_power_calculation.sce"
		   ]
		  },
  {
"cell_type": "code",
	   "execution_count": null,
	   "metadata": {
	    "collapsed": true
	   },
	   "outputs": [],
"source": [
"//chapter 2\n",
"//GT=GR=Antilog[GT or Gr(in db)/10]=31.622*10^3\n",
"//1 mile=1609.35 m\n",
"printf('\n');\n",
"freq=3*10^9;\n",
"d=48280.5;//30miles*1609.35\n",
"lamda=(3*10^8)/(3*10^9);\n",
"printf('the wavelength is %gm',lamda);\n",
"Pt=(10^-3)*((4*(%pi)*48280.5)/0.1)^2*(1/(31.622*10^3)^2);//Pr=Pt(GR*GT*(lamda/4*pi*d)^2),Pr=1mW\n",
"printf('\nthe transmitter power is %gW',Pt);"
   ]
   }
,
{
		   "cell_type": "markdown",
		   "metadata": {},
		   "source": [
			"## Example 2.8: Noise_temperature_calculatio.sce"
		   ]
		  },
  {
"cell_type": "code",
	   "execution_count": null,
	   "metadata": {
	    "collapsed": true
	   },
	   "outputs": [],
"source": [
"//chapter 2\n",
"//T0=290k,room temperature\n",
"printf('\n');\n",
"F=1.2882;\n",
"printf('given F is given by %g',F);\n",
"Te=(1.2882-1)*290;//Te=(F-1)T0\n",
"printf('\neffective noise temperature is %gK',Te);"
   ]
   }
,
{
		   "cell_type": "markdown",
		   "metadata": {},
		   "source": [
			"## Example 2.9: Average_power_calculatio.sce"
		   ]
		  },
  {
"cell_type": "code",
	   "execution_count": null,
	   "metadata": {
	    "collapsed": true
	   },
	   "outputs": [],
"source": [
"//chapter 2\n",
"//Etheta=60Im/r*(cos(pi/2cos(theta))/sin(theta));\n",
"//theta=90\n",
"//Pavg=Rrad*Irms^2;\n",
"//Irms=Im/sqrt(2)\n",
"printf('\n');\n",
"Im=100*10^-3;\n",
"r=100\n",
"Etheta=(60*10^-3);\n",
"H=(60*10^-3)/(120*(%pi));\n",
"Pavg=73*(10^-1/sqrt(2))^2;//Rrad=73ohm for half wave dipole\n",
"printf('the average power is %gW',Pavg);"
   ]
   }
],
"metadata": {
		  "kernelspec": {
		   "display_name": "Scilab",
		   "language": "scilab",
		   "name": "scilab"
		  },
		  "language_info": {
		   "file_extension": ".sce",
		   "help_links": [
			{
			 "text": "MetaKernel Magics",
			 "url": "https://github.com/calysto/metakernel/blob/master/metakernel/magics/README.md"
			}
		   ],
		   "mimetype": "text/x-octave",
		   "name": "scilab",
		   "version": "0.7.1"
		  }
		 },
		 "nbformat": 4,
		 "nbformat_minor": 0
}
