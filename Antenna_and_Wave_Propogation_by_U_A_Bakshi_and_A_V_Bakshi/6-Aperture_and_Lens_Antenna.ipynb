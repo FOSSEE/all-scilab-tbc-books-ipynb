{
"cells": [
 {
		   "cell_type": "markdown",
	   "metadata": {},
	   "source": [
       "# Chapter 6: Aperture and Lens Antenna"
	   ]
	},
{
		   "cell_type": "markdown",
		   "metadata": {},
		   "source": [
			"## Example 6.1: Directive_gain_calculation.sce"
		   ]
		  },
  {
"cell_type": "code",
	   "execution_count": null,
	   "metadata": {
	    "collapsed": true
	   },
	   "outputs": [],
"source": [
"//chapter 6\n",
"//horn antenna\n",
"printf('\n');\n",
"Ae=10;\n",
"del=0.2;\n",
"p=Ae^2/(8*del);\n",
"del1=0.375;\n",
"Thetae=2*atan((Ae/(2*p)))*180/(%pi);//flare angle\n",
"Thetah=2*acos(p/(p+del1))*180/(%pi);\n",
"Ah=2*p*tan(((Thetah*(%pi)/180)/2));\n",
"printf(' the length is %gm',p);\n",
"printf('\n the angle ThetaE is %g degree',Thetae);\n",
"printf('\n the angle ThetaH is %g degree',Thetah);\n",
"printf('\n the H plane aperture is %g',Ah);\n",
"HPBWH=67/Ah;\n",
"HPBWE=56/Ae;\n",
"Ddb=10*log10((7.5*Ae*Ah));\n",
"printf('\n the HPBWE is %g degree',HPBWE);\n",
"printf('\n the HPBWH is %g degree',HPBWH);\n",
"printf('\n the Directive gain in db is %gdb',Ddb);   "
   ]
   }
,
{
		   "cell_type": "markdown",
		   "metadata": {},
		   "source": [
			"## Example 6.2: Effective_aperture_calculatio.sce"
		   ]
		  },
  {
"cell_type": "code",
	   "execution_count": null,
	   "metadata": {
	    "collapsed": true
	   },
	   "outputs": [],
"source": [
"//chapter 6\n",
"//may june 2009\n",
"//parabolic reflector antenna\n",
"printf('\n');\n",
"BWFN=10;\n",
"f=3*10^9;\n",
"c=3*10^8;\n",
"lamda=c/f;\n",
"d=140*lamda/(BWFN);\n",
"printf('the diameter d is %gm',d);\n",
"//For circular parabolidal antenna\n",
"Ae=((%pi)*(d^2))/4;\n",
"printf('\nthe effective aperture is %gm^2',Ae);"
   ]
   }
],
"metadata": {
		  "kernelspec": {
		   "display_name": "Scilab",
		   "language": "scilab",
		   "name": "scilab"
		  },
		  "language_info": {
		   "file_extension": ".sce",
		   "help_links": [
			{
			 "text": "MetaKernel Magics",
			 "url": "https://github.com/calysto/metakernel/blob/master/metakernel/magics/README.md"
			}
		   ],
		   "mimetype": "text/x-octave",
		   "name": "scilab",
		   "version": "0.7.1"
		  }
		 },
		 "nbformat": 4,
		 "nbformat_minor": 0
}
