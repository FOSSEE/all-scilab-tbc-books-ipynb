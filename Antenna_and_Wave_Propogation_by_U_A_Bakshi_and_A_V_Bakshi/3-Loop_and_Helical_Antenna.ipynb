{
"cells": [
 {
		   "cell_type": "markdown",
	   "metadata": {},
	   "source": [
       "# Chapter 3: Loop and Helical Antenna"
	   ]
	},
{
		   "cell_type": "markdown",
		   "metadata": {},
		   "source": [
			"## Example 3.1: Directive_gain_calculation.sce"
		   ]
		  },
  {
"cell_type": "code",
	   "execution_count": null,
	   "metadata": {
	    "collapsed": true
	   },
	   "outputs": [],
"source": [
"//chapter 3\n",
"//tan(alpha)=s/c;\n",
"//helical antenna Gdmax=15NSC^2/lamda^3\n",
"printf('\n');\n",
"c=1;\n",
"n=20;\n",
"lamda=1;\n",
"s=tan(0.2093)*1;//12*pi/180 radians\n",
"Gdmax=(15*n*s*(c)^2)/(lamda)^3;\n",
"printf('the directive gain is %g',Gdmax);"
   ]
   }
,
{
		   "cell_type": "markdown",
		   "metadata": {},
		   "source": [
			"## Example 3.2: HPBW_calculatio.sce"
		   ]
		  },
  {
"cell_type": "code",
	   "execution_count": null,
	   "metadata": {
	    "collapsed": true
	   },
	   "outputs": [],
"source": [
"//chapter 3\n",
"//helical antenna\n",
"//part a\n",
"printf('\n');\n",
"c=3*10^8;\n",
"f=3*10^9;\n",
"lamda=c/f;\n",
"printf('the wavelength is %gm',lamda);\n",
"//part b\n",
"n=20;\n",
"s=0.03;\n",
"c=0.1;\n",
"Gdmax=(15*20*0.3*(0.1)^2)/(0.1)^3;\n",
"printf('\nthe directive gain is %g',Gdmax);\n",
"//part c\n",
"HPBW=sqrt((0.1)^3/(20*0.03))*520;\n",
"printf('\nthe half power beamwidth is %gdegree',HPBW);"
   ]
   }
,
{
		   "cell_type": "markdown",
		   "metadata": {},
		   "source": [
			"## Example 3.3: Radiation_resistance_calculation.sce"
		   ]
		  },
  {
"cell_type": "code",
	   "execution_count": null,
	   "metadata": {
	    "collapsed": true
	   },
	   "outputs": [],
"source": [
"//chapter 3\n",
"//loop antenna\n",
"printf('\n');\n",
"r=10;\n",
"lamda=100;\n",
"A=(%pi)*r^2;\n",
"Rr=31200*(A/lamda^2)^2;\n",
"printf('the radiation resistance is %gohm',Rr);"
   ]
   }
,
{
		   "cell_type": "markdown",
		   "metadata": {},
		   "source": [
			"## Example 3.4: Radiation_Resisitance_calculation.sce"
		   ]
		  },
  {
"cell_type": "code",
	   "execution_count": null,
	   "metadata": {
	    "collapsed": true
	   },
	   "outputs": [],
"source": [
"//chapter 3\n",
"//loop antenna\n",
"printf('\n');\n",
"l=1;\n",
"b=1;\n",
"A=l*b;\n",
"lamda=100;\n",
"Rrad=31200*(A/lamda^2);\n",
"printf('the radiation resistance is %gohm',Rrad);"
   ]
   }
],
"metadata": {
		  "kernelspec": {
		   "display_name": "Scilab",
		   "language": "scilab",
		   "name": "scilab"
		  },
		  "language_info": {
		   "file_extension": ".sce",
		   "help_links": [
			{
			 "text": "MetaKernel Magics",
			 "url": "https://github.com/calysto/metakernel/blob/master/metakernel/magics/README.md"
			}
		   ],
		   "mimetype": "text/x-octave",
		   "name": "scilab",
		   "version": "0.7.1"
		  }
		 },
		 "nbformat": 4,
		 "nbformat_minor": 0
}
