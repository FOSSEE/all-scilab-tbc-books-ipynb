{
"cells": [
 {
		   "cell_type": "markdown",
	   "metadata": {},
	   "source": [
       "# Chapter 4: Antenna Arrays"
	   ]
	},
{
		   "cell_type": "markdown",
		   "metadata": {},
		   "source": [
			"## Example 4.10: BWFN_calculatio.sce"
		   ]
		  },
  {
"cell_type": "code",
	   "execution_count": null,
	   "metadata": {
	    "collapsed": true
	   },
	   "outputs": [],
"source": [
"//chapter 4\n",
"//broadside array\n",
"printf('\n');\n",
"Gdmax=15;\n",
"L=Gdmax/2;\n",
"printf('the length is %gm',L);\n",
"//endfire array\n",
"L1=Gdmax/4;\n",
"printf('\nthe length is %gm',L1);\n",
"BWFN=114.6*sqrt(2/L1);\n",
"printf('\nthe BWFN is %g degree',BWFN);"
   ]
   }
,
{
		   "cell_type": "markdown",
		   "metadata": {},
		   "source": [
			"## Example 4.11: Directivity_calculatio.sce"
		   ]
		  },
  {
"cell_type": "code",
	   "execution_count": null,
	   "metadata": {
	    "collapsed": true
	   },
	   "outputs": [],
"source": [
"//chapter 4\n",
"//Hansen-Woodyard end fire array\n",
"printf('\n');\n",
"n=10;\n",
"d=0.25;\n",
"L=n*d;\n",
"D=1.789*4*L;\n",
"Ddb=10*log10(D);\n",
"printf('the directivity is %g',D);\n",
"printf('\nthe directivity in db is %gdb',Ddb);"
   ]
   }
,
{
		   "cell_type": "markdown",
		   "metadata": {},
		   "source": [
			"## Example 4.12: Effective_Aperture_calculatio.sce"
		   ]
		  },
  {
"cell_type": "code",
	   "execution_count": null,
	   "metadata": {
	    "collapsed": true
	   },
	   "outputs": [],
"source": [
"//chapter 4\n",
"//end fire array\n",
"printf('\n');\n",
"n=16;\n",
"d=0.25;\n",
"L=(n-1)*d;\n",
"m=1;\n",
"//part a\n",
"HPBW=57.3*sqrt((2*m)/L);\n",
"printf('the HPBW is %g degree',HPBW);\n",
"//part b\n",
"D=4*L;\n",
"Ddb=10*log10(D);\n",
"printf('\nthe directivity is %d',D);\n",
"printf('\nthe directivity in db is %gdb',Ddb);\n",
"//part c\n",
"A=4*(%pi)/D;\n",
"printf('\nthe beam solid angle is %gsr',A);\n",
"//part d\n",
"lamda=1;\n",
"Ae=D*lamda^2/(4*(%pi));\n",
"printf('\nthe effective aperture is %gm^2',Ae);"
   ]
   }
,
{
		   "cell_type": "markdown",
		   "metadata": {},
		   "source": [
			"## Example 4.13: Directive_Gain_Calculation.sce"
		   ]
		  },
  {
"cell_type": "code",
	   "execution_count": null,
	   "metadata": {
	    "collapsed": true
	   },
	   "outputs": [],
"source": [
"//chapter 4\n",
"//end fire array\n",
"printf('\n');\n",
"n=10;\n",
"d=0.25;\n",
"lamda=1;//assume\n",
"Gdmax=4*n*d;\n",
"Gdmaxdb=10*log10(Gdmax);\n",
"printf('the directive gian is %d',Gdmax);\n",
"printf('\nthe directive gain in db is %ddb',Gdmaxdb);"
   ]
   }
,
{
		   "cell_type": "markdown",
		   "metadata": {},
		   "source": [
			"## Example 4.14: Directivity_calculatio.sce"
		   ]
		  },
  {
"cell_type": "code",
	   "execution_count": null,
	   "metadata": {
	    "collapsed": true
	   },
	   "outputs": [],
"source": [
"//chapter 4\n",
"//may june 2013\n",
"n=50;\n",
"d=0.5;\n",
"lamda=1;//assume\n",
"L=n*d;\n",
"D=2*(L/lamda);\n",
"printf('the directivity is %g',D);"
   ]
   }
,
{
		   "cell_type": "markdown",
		   "metadata": {},
		   "source": [
			"## Example 4.1: HPBW_calculatio.sce"
		   ]
		  },
  {
"cell_type": "code",
	   "execution_count": null,
	   "metadata": {
	    "collapsed": true
	   },
	   "outputs": [],
"source": [
"//chaptr 4\n",
"//D=2(L/lamda)\n",
"//broadside array\n",
"printf('\n');\n",
"L=1;\n",
"Lamda=1;//assume\n",
"BWFN=2 *180/(%pi);//2/(L/lamda)\n",
"printf('the Beam Width First Null is %gdegree',BWFN);\n",
"HPBW=BWFN/2;\n",
"printf('\nthe half power beam width is %gdegree',HPBW);\n",
"\n",
"\n",
"\n",
"\n",
"\n",
"\n",
"\n",
"\n",
"\n",
""
   ]
   }
,
{
		   "cell_type": "markdown",
		   "metadata": {},
		   "source": [
			"## Example 4.2: BWFN_calculatio.sce"
		   ]
		  },
  {
"cell_type": "code",
	   "execution_count": null,
	   "metadata": {
	    "collapsed": true
	   },
	   "outputs": [],
"source": [
"//chapter 4\n",
"//end fire array\n",
"//D=4(L/lamda)\n",
"//BWFN=2sqrt(2m/(L/lamda))\n",
"printf('\n');\n",
"lamda=1;\n",
"D=36;\n",
"L=D/4;\n",
"m=1;\n",
"BWFN=114.6*sqrt(2*m/L);\n",
"printf('The Beam Width First Null is %gdegree',BWFN);\n",
"\n",
"\n",
""
   ]
   }
,
{
		   "cell_type": "markdown",
		   "metadata": {},
		   "source": [
			"## Example 4.3: Maxima_Minima_calculation.sce"
		   ]
		  },
  {
"cell_type": "code",
	   "execution_count": null,
	   "metadata": {
	    "collapsed": true
	   },
	   "outputs": [],
"source": [
"//chapter 4\n",
"//2 element array\n",
"//part a\n",
"printf('\n');\n",
"max1=acos(0);\n",
"max2=acos(1);\n",
"max3=acos(-1);\n",
"printf('the positions of maxima are %g,%d,%g radians',max1,max2,max3);\n",
"//part b\n",
"//minima\n",
"min1=acos(0.5);\n",
"min2=acos(0.5);\n",
"printf('\nthe positions of minima are %g,%g radians',min1,min2);\n",
"\n",
""
   ]
   }
,
{
		   "cell_type": "markdown",
		   "metadata": {},
		   "source": [
			"## Example 4.4: Radiation_Pattern_calculation.sce"
		   ]
		  },
  {
"cell_type": "code",
	   "execution_count": null,
	   "metadata": {
	    "collapsed": true
	   },
	   "outputs": [],
"source": [
"//chapter 4\n",
"//2 element array\n",
"//introduces warning at scanf statement but output is displayed\n",
"printf('\n');\n",
"max1=acos(1);\n",
"printf('the only position of maximum radiation is %d radians',max1);\n",
"min1=acos(-1);\n",
"printf('\nthe position of minimum radiation pattern is %g radians',min1);\n",
"phi=180;//assume phi=180 degree;\n",
"Et=2*cos(((%pi/4)*cos(phi))-(%pi/4));\n",
"disp(Et);\n",
"printf('Hence as the radiation pattern suggest that antenna is unidirectional antenna');"
   ]
   }
,
{
		   "cell_type": "markdown",
		   "metadata": {},
		   "source": [
			"## Example 4.5: Null_Calculatio.sce"
		   ]
		  },
  {
"cell_type": "code",
	   "execution_count": null,
	   "metadata": {
	    "collapsed": true
	   },
	   "outputs": [],
"source": [
"//chapter 4\n",
"//broadside array\n",
"//part a\n",
"printf('\n');\n",
"n=8;\n",
"m1=1;\n",
"d=0.5;\n",
"lamda=1;\n",
"ph1=acos((m1*lamda)/(n*d));\n",
"m2=2; \n",
"ph2=acos((m2*lamda)/(n*d));\n",
"m3=3;\n",
"ph3=acos((m3*lamda)/(n*d));\n",
"printf('the direction of nulls are');\n",
"printf('\n%g %g %g radians',ph1,ph2,ph3);"
   ]
   }
,
{
		   "cell_type": "markdown",
		   "metadata": {},
		   "source": [
			"## Example 4.6: Lobe_calculatio.sce"
		   ]
		  },
  {
"cell_type": "code",
	   "execution_count": null,
	   "metadata": {
	    "collapsed": true
	   },
	   "outputs": [],
"source": [
"//chapter 4\n",
"//from previous problems values\n",
"//broadside array\n",
"printf('\n');\n",
"m1=1;\n",
"n=8;\n",
"d=0.5;\n",
"lamda=1;\n",
"ph1=acos(lamda*(2*m1+1)/(2*n*d));\n",
"m2=2;\n",
"ph2=acos(lamda*(2*m2+1)/(2*n*d));\n",
"m3=3;\n",
"ph3=acos(lamda*(2*m3+1)/(2*n*d));\n",
"printf('the minor lobes values are');\n",
"printf('\n%g %g %g',ph1,ph2,ph3);"
   ]
   }
,
{
		   "cell_type": "markdown",
		   "metadata": {},
		   "source": [
			"## Example 4.7: BWFN_calculatio.sce"
		   ]
		  },
  {
"cell_type": "code",
	   "execution_count": null,
	   "metadata": {
	    "collapsed": true
	   },
	   "outputs": [],
"source": [
"//chapter 4\n",
"//broadside array\n",
"printf('\n');\n",
"n=4;\n",
"lamda=0.1\n",
"d=0.5\n",
"i=0.25\n",
"Rrad=73;\n",
"//part a\n",
"Prad=n*(i^2*Rrad);\n",
"printf('the radiated power is %gW',Prad);\n",
"//part b\n",
"L=n*d;\n",
"printf('\nthe length is %dm',L);\n",
"BWFN=2*lamda/L;\n",
"HPBW=BWFN/2;\n",
"printf('\nthe Beam width first null is %g radians',BWFN);\n",
"printf('\nthe half power beam width is %g radians',HPBW);"
   ]
   }
,
{
		   "cell_type": "markdown",
		   "metadata": {},
		   "source": [
			"## Example 4.8: Dmin_calculation.sce"
		   ]
		  },
  {
"cell_type": "code",
	   "execution_count": null,
	   "metadata": {
	    "collapsed": true
	   },
	   "outputs": [],
"source": [
"//chapter 2\n",
"//broadside array\n",
"printf('\n');\n",
"Gdmax=5.01108;//antilog[7/10]\n",
"n=10;\n",
"lamda=1;\n",
"d=Gdmax/(20*lamda);\n",
"printf('the minimum distance between array is %gm',d);"
   ]
   }
,
{
		   "cell_type": "markdown",
		   "metadata": {},
		   "source": [
			"## Example 4.9: Gain_calculation.sce"
		   ]
		  },
  {
"cell_type": "code",
	   "execution_count": null,
	   "metadata": {
	    "collapsed": true
	   },
	   "outputs": [],
"source": [
"//chapter 4\n",
"//broadside array\n",
"printf('\n');\n",
"n=8;\n",
"d=0.25;\n",
"lamda=1;\n",
"//part a\n",
"Gdmax=(2*n*d)/lamda;\n",
"Gdmaxdb=10*log10(Gdmax);\n",
"printf('In Case of Broadside array')\n",
"printf('\nthe directive gain is %g',Gdmax);\n",
"printf('\nthe directive gain in db is %gdb',Gdmaxdb);\n",
"//part b\n",
"//end fire array\n",
"Gdmax1=(4*n*d)/lamda;\n",
"Gdmaxdb1=10*log10(Gdmax1);\n",
"printf('\nIn case of End fire array');\n",
"printf('\nthe directive gain is %g',Gdmax1);\n",
"printf('\nthe directive gain in db is %gdb',Gdmaxdb1);"
   ]
   }
],
"metadata": {
		  "kernelspec": {
		   "display_name": "Scilab",
		   "language": "scilab",
		   "name": "scilab"
		  },
		  "language_info": {
		   "file_extension": ".sce",
		   "help_links": [
			{
			 "text": "MetaKernel Magics",
			 "url": "https://github.com/calysto/metakernel/blob/master/metakernel/magics/README.md"
			}
		   ],
		   "mimetype": "text/x-octave",
		   "name": "scilab",
		   "version": "0.7.1"
		  }
		 },
		 "nbformat": 4,
		 "nbformat_minor": 0
}
