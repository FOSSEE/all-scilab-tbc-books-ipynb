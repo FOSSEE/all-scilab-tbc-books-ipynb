{
"cells": [
 {
		   "cell_type": "markdown",
	   "metadata": {},
	   "source": [
       "# Chapter 7: Propagation of Radio Waves"
	   ]
	},
{
		   "cell_type": "markdown",
		   "metadata": {},
		   "source": [
			"## Example 7.10: Frequency_calculation.sce"
		   ]
		  },
  {
"cell_type": "code",
	   "execution_count": null,
	   "metadata": {
	    "collapsed": true
	   },
	   "outputs": [],
"source": [
"//chapter 7\n",
"//the power is 10^6 and not 10^-6 as in book\n",
"printf('\n');\n",
"n=0.5;\n",
"N=400*10^6;\n",
"f=sqrt((81*N)/(1-n^2));\n",
"printf('the frequency is %eHz',f);"
   ]
   }
,
{
		   "cell_type": "markdown",
		   "metadata": {},
		   "source": [
			"## Example 7.11: Critical_freq_calculatio.sce"
		   ]
		  },
  {
"cell_type": "code",
	   "execution_count": null,
	   "metadata": {
	    "collapsed": true
	   },
	   "outputs": [],
"source": [
"//chapter 7\n",
"printf('\n');\n",
"D=1500;\n",
"h=250;\n",
"fmuf=37.95*10^6;\n",
"fcr=fmuf/sqrt(1+(D/(2*h))^2);\n",
"printf('the critical frequency is %eHz',fcr);"
   ]
   }
,
{
		   "cell_type": "markdown",
		   "metadata": {},
		   "source": [
			"## Example 7.12: Usable_freq_calculatio.sce"
		   ]
		  },
  {
"cell_type": "code",
	   "execution_count": null,
	   "metadata": {
	    "collapsed": true
	   },
	   "outputs": [],
"source": [
"//chapter 7\n",
"printf('\n');\n",
"D=2500;\n",
"h=200;\n",
"fcr=5*10^6;\n",
"fmuf=fcr*sqrt(1+(D/(2*h))^2);\n",
"printf('the maximum usable frequency is %gHz',fmuf);"
   ]
   }
,
{
		   "cell_type": "markdown",
		   "metadata": {},
		   "source": [
			"## Example 7.13: virtual_height_calculatio.sce"
		   ]
		  },
  {
"cell_type": "code",
	   "execution_count": null,
	   "metadata": {
	    "collapsed": true
	   },
	   "outputs": [],
"source": [
"//chapter 7\n",
"printf('\n');\n",
"T=5*10^-3;\n",
"c=3*10^8;\n",
"h=c*(T/2);\n",
"printf('the virtual height is given by %gm',h);"
   ]
   }
,
{
		   "cell_type": "markdown",
		   "metadata": {},
		   "source": [
			"## Example 7.14: LOS_calculatio.sce"
		   ]
		  },
  {
"cell_type": "code",
	   "execution_count": null,
	   "metadata": {
	    "collapsed": true
	   },
	   "outputs": [],
"source": [
"//chapter 7\n",
"printf('\n');\n",
"ht=40;\n",
"hr=25;\n",
"f=90*10^6;\n",
"p=35;\n",
"LOS=4.12*(sqrt(ht)+sqrt(hr));\n",
"printf('the line of sight distance is %gm',LOS);"
   ]
   }
,
{
		   "cell_type": "markdown",
		   "metadata": {},
		   "source": [
			"## Example 7.15: critical_freq_calculatio.sce"
		   ]
		  },
  {
"cell_type": "code",
	   "execution_count": null,
	   "metadata": {
	    "collapsed": true
	   },
	   "outputs": [],
"source": [
"//chapter 7\n",
"printf('\n');\n",
"Nmax=1.26*10^12;\n",
"fcr=sqrt(81*Nmax);\n",
"printf('the critical frequency is %gHz',fcr);"
   ]
   }
,
{
		   "cell_type": "markdown",
		   "metadata": {},
		   "source": [
			"## Example 7.16: critical_freq_calculatio.sce"
		   ]
		  },
  {
"cell_type": "code",
	   "execution_count": null,
	   "metadata": {
	    "collapsed": true
	   },
	   "outputs": [],
"source": [
"//chapter 7\n",
"//may june 2008\n",
"printf('\n');\n",
"Nmax=1.24*10^12;\n",
"fcr=sqrt(81*Nmax);\n",
"printf('the critical frequency is %gHz',fcr);"
   ]
   }
,
{
		   "cell_type": "markdown",
		   "metadata": {},
		   "source": [
			"## Example 7.17: usable_freq_calculatio.sce"
		   ]
		  },
  {
"cell_type": "code",
	   "execution_count": null,
	   "metadata": {
	    "collapsed": true
	   },
	   "outputs": [],
"source": [
"//chapter 7\n",
"printf('\n');\n",
"fcr=6*10^6;\n",
"D=200*10^3;\n",
"h=200*10^3;\n",
"fmuf=fcr*sqrt(1+(D/(2*h))^2);\n",
"printf('the maximum usable frequency is %gHz',fmuf);"
   ]
   }
,
{
		   "cell_type": "markdown",
		   "metadata": {},
		   "source": [
			"## Example 7.18: Range_calculation.sce"
		   ]
		  },
  {
"cell_type": "code",
	   "execution_count": null,
	   "metadata": {
	    "collapsed": true
	   },
	   "outputs": [],
"source": [
"//chapter 7\n",
"printf('\n');\n",
"ht=100;\n",
"hr=50;\n",
"d=1.4142*(sqrt(ht)+sqrt(hr));\n",
"printf('the maximum range is %gmiles',d);"
   ]
   }
,
{
		   "cell_type": "markdown",
		   "metadata": {},
		   "source": [
			"## Example 7.1: frequency_calculation.sce"
		   ]
		  },
  {
"cell_type": "code",
	   "execution_count": null,
	   "metadata": {
	    "collapsed": true
	   },
	   "outputs": [],
"source": [
"//chapter 7\n",
"printf('\n');\n",
"fcr=11*10^6;\n",
"D=1000;\n",
"h=400;\n",
"fmuf=fcr*sqrt(1+(D/(2*h))^2);\n",
"printf('the maximum stable frequency is %gHz',fmuf);"
   ]
   }
,
{
		   "cell_type": "markdown",
		   "metadata": {},
		   "source": [
			"## Example 7.2: Usable_frequency_calculation.sce"
		   ]
		  },
  {
"cell_type": "code",
	   "execution_count": null,
	   "metadata": {
	    "collapsed": true
	   },
	   "outputs": [],
"source": [
"//chapter 7\n",
"printf('\n');\n",
"Nmax=10^11;\n",
"phi=(%pi)/9;\n",
"fcr=sqrt(81*Nmax);\n",
"printf('the critical frequency is %gHz',fcr);\n",
"fmuf=fcr*sec(phi);\n",
"printf('\nthe maximum usable frequency is %gHz',fmuf);"
   ]
   }
,
{
		   "cell_type": "markdown",
		   "metadata": {},
		   "source": [
			"## Example 7.3: Critical_frequency_calculation.sce"
		   ]
		  },
  {
"cell_type": "code",
	   "execution_count": null,
	   "metadata": {
	    "collapsed": true
	   },
	   "outputs": [],
"source": [
"//chapter 7\n",
"printf('\n');\n",
"D=2000;\n",
"h=200;\n",
"fmuf=30.6*10^6;\n",
"fcr=fmuf/sqrt(1+(D/(2*h))^2);\n",
"printf('the critical frequency is %gHz',fcr);"
   ]
   }
,
{
		   "cell_type": "markdown",
		   "metadata": {},
		   "source": [
			"## Example 7.4: Skip_distance_calculation.sce"
		   ]
		  },
  {
"cell_type": "code",
	   "execution_count": null,
	   "metadata": {
	    "collapsed": true
	   },
	   "outputs": [],
"source": [
"//chapter 7\n",
"printf('\n');\n",
"n=0.9;\n",
"fmuf=10*10^6;\n",
"f=10*10^6;\n",
"h=400*10^3;\n",
"Nmax=(1-n^2)*f^2/81;\n",
"printf('the Nmax value is %g /m^3',Nmax);\n",
"fcr=sqrt(81*Nmax);\n",
"printf('\n the critical frequency is %gHz',fcr);\n",
"Dskip=2*h*sqrt((fmuf/fcr)^2-1);\n",
"printf('\n the skip distance is %gm',Dskip);"
   ]
   }
,
{
		   "cell_type": "markdown",
		   "metadata": {},
		   "source": [
			"## Example 7.5: Efield_calculatio.sce"
		   ]
		  },
  {
"cell_type": "code",
	   "execution_count": null,
	   "metadata": {
	    "collapsed": true
	   },
	   "outputs": [],
"source": [
"//chapter 7\n",
"printf('\n');\n",
"ht=150;\n",
"hr=2;\n",
"Is=9;\n",
"d=40*10^3;\n",
"f=1.2*10^6;\n",
"c=3*10^8;\n",
"lamda=c/f;\n",
"printf('the wavelength is %dm',lamda);\n",
"E=120*(%pi)*ht*hr*Is/(lamda*d);\n",
"printf('\nthe electric field is %gV/m',E);"
   ]
   }
,
{
		   "cell_type": "markdown",
		   "metadata": {},
		   "source": [
			"## Example 7.6: Transmission_height_calculation.sce"
		   ]
		  },
  {
"cell_type": "code",
	   "execution_count": null,
	   "metadata": {
	    "collapsed": true
	   },
	   "outputs": [],
"source": [
"//chapter 7\n",
"printf('\n');\n",
"dmax=45*10^3;\n",
"ht=(dmax/8.24)^2;//dmax=4.12[sqrt(ht)+sqrt(hr)];ht=hr;\n",
"printf('the height of transmission is %gm',ht);"
   ]
   }
,
{
		   "cell_type": "markdown",
		   "metadata": {},
		   "source": [
			"## Example 7.7: Nmax_calculatio.sce"
		   ]
		  },
  {
"cell_type": "code",
	   "execution_count": null,
	   "metadata": {
	    "collapsed": true
	   },
	   "outputs": [],
"source": [
"//chapter 7\n",
"printf('\n');\n",
"fcre=2.5*10^6;\n",
"fcrf=8.5*10^6;\n",
"Nmaxe=(fcre)^2/81;\n",
"Nmaxf=(fcrf)^2/81;\n",
"printf('the Nmax for e layer is %g /m^3',Nmaxe);\n",
"printf('\n the Nmax for f layer is %g /m^3',Nmaxf);"
   ]
   }
,
{
		   "cell_type": "markdown",
		   "metadata": {},
		   "source": [
			"## Example 7.8: Critical_freq_calculatio.sce"
		   ]
		  },
  {
"cell_type": "code",
	   "execution_count": null,
	   "metadata": {
	    "collapsed": true
	   },
	   "outputs": [],
"source": [
"//chapter7\n",
"printf('\n');\n",
"Nmaxf1=2.5;\n",
"Nmaxf2=3.5;\n",
"Nmaxf3=1.5;//10^6*10^-6=1;\n",
"fcr1=sqrt(81*Nmaxf1);\n",
"fcr2=sqrt(81*Nmaxf2);\n",
"fcr3=sqrt(81*Nmaxf3);\n",
"printf('the critical frequencies are');\n",
"printf('\n %gHz %gHz %gHz',fcr1,fcr2,fcr3);"
   ]
   }
,
{
		   "cell_type": "markdown",
		   "metadata": {},
		   "source": [
			"## Example 7.9: Electron_Density_calculation.sce"
		   ]
		  },
  {
"cell_type": "code",
	   "execution_count": null,
	   "metadata": {
	    "collapsed": true
	   },
	   "outputs": [],
"source": [
"//chapter7\n",
"printf('\n');\n",
"fcr1=4.5*10^6;\n",
"fcr2=1.5*10^6;\n",
"Nmax1=(fcr1/9)^2';\n",
"Nmax2=(fcr2/9)^2;\n",
"printf('the Nmax values are');\n",
"printf('\n %gm^3 %gm^3',Nmax1,Nmax2);\n",
"Nmax=Nmax1-Nmax2;\n",
"printf('\n the change in electron density is %gm^3',Nmax);"
   ]
   }
],
"metadata": {
		  "kernelspec": {
		   "display_name": "Scilab",
		   "language": "scilab",
		   "name": "scilab"
		  },
		  "language_info": {
		   "file_extension": ".sce",
		   "help_links": [
			{
			 "text": "MetaKernel Magics",
			 "url": "https://github.com/calysto/metakernel/blob/master/metakernel/magics/README.md"
			}
		   ],
		   "mimetype": "text/x-octave",
		   "name": "scilab",
		   "version": "0.7.1"
		  }
		 },
		 "nbformat": 4,
		 "nbformat_minor": 0
}
