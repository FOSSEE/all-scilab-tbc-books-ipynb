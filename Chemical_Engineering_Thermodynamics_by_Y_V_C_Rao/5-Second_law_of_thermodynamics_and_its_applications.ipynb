{
"cells": [
 {
		   "cell_type": "markdown",
	   "metadata": {},
	   "source": [
       "# Chapter 5: Second law of thermodynamics and its applications"
	   ]
	},
{
		   "cell_type": "markdown",
		   "metadata": {},
		   "source": [
			"## Example 5.10: Change_in_entropy_of_steel_and_water.sce"
		   ]
		  },
  {
"cell_type": "code",
	   "execution_count": null,
	   "metadata": {
	    "collapsed": true
	   },
	   "outputs": [],
"source": [
"// Y.V.C.Rao ,1997.Chemical Engineering Thermodynamics.Universities Press,Hyderabad,India.\n",
"\n",
"//Chapter-5,Example 10,Page 173\n",
"//Title: Change in entropy of steel and water\n",
"//================================================================================================================\n",
"clear \n",
"clc\n",
"\n",
"//INPUT\n",
"m_steel=10;//mass of steel casting in kg\n",
"T_steel=800;//temperature of steel casting in degree celsius\n",
"m_water=100;//mass of water used for quenching in kg\n",
"T_water=30;//temperature of water used for quenching in degree celsius\n",
"Cp_steel=0.461;//heat capacity of steel in kJ/kgK\n",
"Cp_water=4.23;//heat capacity of water in kJ/kgK\n",
"\n",
"//CALCULATION\n",
"Ti_steel=T_steel+273.15;//conversion of temperature in K\n",
"Ti_water=T_water+273.15;//conversion of temperature in K\n",
"//calculation of final temperature of steel and water usung the first law of thermodynamics in K\n",
"T_final=((m_steel*Cp_steel*Ti_steel)+(m_water*Cp_water*Ti_water))/((m_steel*Cp_steel)+(m_water*Cp_water));\n",
"del_S_steel=m_steel*Cp_steel*log(T_final/Ti_steel);//calculation of the entropy change of steel using Eq.(5.32) in kJ/K\n",
"del_S_water=m_water*Cp_water*log(T_final/Ti_water);//calculation of the entropy change of water using Eq.(5.32) in kJ/K\n",
"\n",
"//OUTPUT\n",
"mprintf('\n The change in entropy of steel = %0.4f kJ/K\n',del_S_steel);\n",
"mprintf('\n The change in entropy of water = %f kJ/K\n',del_S_water);\n",
"\n",
"//===============================================END OF PROGRAM==================================================="
   ]
   }
,
{
		   "cell_type": "markdown",
		   "metadata": {},
		   "source": [
			"## Example 5.11: Entropy_change_of_the_gas.sce"
		   ]
		  },
  {
"cell_type": "code",
	   "execution_count": null,
	   "metadata": {
	    "collapsed": true
	   },
	   "outputs": [],
"source": [
"// Y.V.C.Rao ,1997.Chemical Engineering Thermodynamics.Universities Press,Hyderabad,India.\n",
"\n",
"//Chapter-5,Example 11,Page 175\n",
"//Title: Entropy change of the gas\n",
"//================================================================================================================\n",
"clear \n",
"clc\n",
"\n",
"//INPUT\n",
"V=2;//volume of insulated tank in m^3\n",
"Ta=400;//temperature of gas in compartment (a) in K\n",
"Pa=3;//pressure of gas in compartment (a) in MPa\n",
"Tb=600;//temperature of gas in compartment (b) in K\n",
"Pb=1;//pressure of gas in compartment (b) in MPa\n",
"R=8.314;//universal gas constant in J/molK\n",
"\n",
"//CALCULATION\n",
"Va=V/2;//calculation of volume of compartment (a) in m^3\n",
"Vb=V/2;//calculation of volume of compartment (b) in m^3\n",
"Na=(Pa*10^6*Va)/(R*Ta);//calculation of number of moles of gas in compartment (a) in mol\n",
"Nb=(Pb*10^6*Vb)/(R*Tb);//calculation of number of moles of gas in compartment (b) in mol\n",
"//From the first law of thermodynamics, del_U=Q-W=0; since Q=0 and W=0. This implies that Na*Cv*(T-Ta)+Nb*Cv*(T-Tb)=0, therefore, Na*(T-Ta)+Nb*(T-Tb)=0\n",
"T=((Na*Ta)+(Nb*Tb))/(Na+Nb);//calculation of final temperature using the above equation in K\n",
"N=Na+Nb;//calculation of total number of moles of gas in mol\n",
"P=((N*R*T)/V)*10^-6;//calculation of final pressure of gas in MPa\n",
"Cp=(5/2)*R;//calculation of isobaric molar heat capacity as given in the problem statement in J/molK\n",
"del_S=((Na*((Cp*log(T/Ta))-(R*log(P/Pa))))+(Nb*((Cp*log(T/Tb))-(R*log(P/Pb)))))*10^-3;//calculation of the change in entropy using Eq.(5.43) in kJ/K\n",
"\n",
"//OUTPUT\n",
"mprintf('\n Entropy change of the gas=%0.2f kJ/K\n',del_S);\n",
"\n",
"\n",
"//===============================================END OF PROGRAM==================================================="
   ]
   }
,
{
		   "cell_type": "markdown",
		   "metadata": {},
		   "source": [
			"## Example 5.12: Minimum_work_to_be_done_for_separation.sce"
		   ]
		  },
  {
"cell_type": "code",
	   "execution_count": null,
	   "metadata": {
	    "collapsed": true
	   },
	   "outputs": [],
"source": [
"// Y.V.C.Rao ,1997.Chemical Engineering Thermodynamics.Universities Press,Hyderabad,India.\n",
"\n",
"//Chapter-5,Example 12,Page 177\n",
"//Title: Minimum work to be done for separation\n",
"//================================================================================================================\n",
"clear \n",
"clc\n",
"\n",
"//INPUT\n",
"N=1;//amount of air to be separated into its components in kmol\n",
"P=0.1;//pressure of air in MPa\n",
"T=300;//temperature of air in K\n",
"per_oxygen=21;//percentage of oxygen in air\n",
"per_nitrogen=79;//percentage of nitrogen in air\n",
"R=8.314;//universal gas constant in J/molK\n",
"\n",
"//CALCULATION\n",
"\n",
"//From the first law of thermodynamics, del_U=Q-W. As air is considered as an ideal gas, U is a function of temperature alone.Here, both pure nitrogen and \n",
"//pure oxygen are at the same temperature in the initial and the final states. Therefore, del_U=0. This implies that W=Q\n",
"\n",
"//From the second law of thermodynamics ,Eq.(5.32), ds=(dQ/T), therefore, Q=T*del_S, hence, W=T*del_s\n",
"x1=per_nitrogen/100;//calculation of mole fraction of nitrogen (no unit)\n",
"x2=per_oxygen/100;//calculation of mole fraction of oxygen (no unit)\n",
"W=(T*N*10^3*R*((x1*log (x1))+(x2*log (x2))))*10^-3;//calculation of the work to be done based on the above formula in kJ, del_S is computed using Eq.(5.47)\n",
"\n",
"//OUTPUT\n",
"mprintf('\n Minimum work to be done to separate 1kmol of air at 0.1MPa and 300K into pure oxygen and nitrogen at the same temperature and pressure=%0.2f kJ\n',abs(W));\n",
"\n",
"\n",
"//===============================================END OF PROGRAM==================================================="
   ]
   }
,
{
		   "cell_type": "markdown",
		   "metadata": {},
		   "source": [
			"## Example 5.13: Change_in_the_entropy_of_the_mixture.sce"
		   ]
		  },
  {
"cell_type": "code",
	   "execution_count": null,
	   "metadata": {
	    "collapsed": true
	   },
	   "outputs": [],
"source": [
"// Y.V.C.Rao ,1997.Chemical Engineering Thermodynamics.Universities Press,Hyderabad,India.\n",
"\n",
"//Chapter-5,Example 13,Page 179\n",
"//Title: Change in the entropy of the mixture\n",
"//================================================================================================================\n",
"clear \n",
"clc\n",
"\n",
"//INPUT\n",
"m_ice=10;//mass of the block of ice in kg\n",
"T_ice=0;//temperature of the ice in degree celsius\n",
"m_water=100;//mass of watre in the tank in kg\n",
"T_water=30;//temperature of the water in the tank in degree celsius\n",
"Cp=4.23;//heat capacity of water in kJ/kgK\n",
"lambda_melting=333.44;//latent heat of melting of ice in kJ/kg\n",
"\n",
"//CALCULATION\n",
"Ti_ice=T_ice+273.15;//conversion of temperature in K\n",
"Ti_water=T_water+273.15;//conversion of temperature in K\n",
"\n",
"//applying the first law of thermodynamics, an energy balance on the system is established from which the final temperature of water is determined\n",
"\n",
"T_final=((m_water*Cp*Ti_water)+(m_ice*Cp*Ti_ice)-(m_ice*lambda_melting))/((m_ice*Cp)+(m_water*Cp));//calculation of final temperature of water in K\n",
"del_S_ice=((m_ice*lambda_melting)/(Ti_ice))+(m_ice*Cp*log (T_final/Ti_ice));//calculation of entropy change of ice in kJ/K\n",
"del_S_water=m_water*Cp*log (T_final/Ti_water);//calculation of entropy change of water in kJ/K\n",
"del_S_G=del_S_ice+del_S_water;//calculation of entropy generated using Eq.(5.54) in kJ/K\n",
"\n",
"//OUTPUT\n",
"mprintf('\n The change in entropy of ice = %f kJ/K\n',del_S_ice);\n",
"mprintf('\n The change in entropy of water = %f kJ/K\n',del_S_water);\n",
"mprintf('\n The entropy generated= %f kJ/K\n',del_S_G);\n",
"\n",
"//===============================================END OF PROGRAM==================================================="
   ]
   }
,
{
		   "cell_type": "markdown",
		   "metadata": {},
		   "source": [
			"## Example 5.14: Power_output_of_turbine.sce"
		   ]
		  },
  {
"cell_type": "code",
	   "execution_count": null,
	   "metadata": {
	    "collapsed": true
	   },
	   "outputs": [],
"source": [
"// Y.V.C.Rao ,1997.Chemical Engineering Thermodynamics.Universities Press,Hyderabad,India.\n",
"\n",
"//Chapter-5,Example 14,Page 182\n",
"//Title: Power output of turbine\n",
"//================================================================================================================\n",
"clear \n",
"clc\n",
"\n",
"//INPUT\n",
"P=3;//pressure of superheated steam in MPa\n",
"T_enter=300;//entrance temperature of superheated steam in degree celsius\n",
"T_exit=45;//final temperature at which the steam leaves in degree celsisus\n",
"m=1;//mass flow rate of steam in kg/s\n",
"\n",
"//CALCULATION\n",
"\n",
"//From steam tables corresponding to P and T_enter\n",
"si=6.5422;//entropy of steam at the entrance in kJ/kgK\n",
"hi=2995.1;//entahlpy of steam at the entrance in kJ/kg\n",
"\n",
"//From steam tables corresponding to T_exit\n",
"sf=0.6383;//entropy of saturated liquid in kJ/kgK\n",
"hf=188.35;//enthalpy of saturated liquid in kJ/kg\n",
"sg=8.1661;//entropy of saturated vapour in kJ/kgK\n",
"hg=2583.3;//entahlpy of saturayed vapour in kJ/kg\n",
"\n",
"Xe=(si-sf)/(sg-sf);//calculation of quality of steam at the exit (no unit)\n",
"he=((1-Xe)*hf)+(Xe*hg);//calculation of enthalpy of steam at the exit in kJ/kg\n",
"Ws=-m*(he-hi);//calculation of power output from turbine using the first law of thermodynamics on the control-volume in kW\n",
"\n",
"//OUTPUT\n",
"mprintf('\n The power output from the turbine=%0.1f kW\n',Ws);\n",
"\n",
"\n",
"//===============================================END OF PROGRAM==================================================="
   ]
   }
,
{
		   "cell_type": "markdown",
		   "metadata": {},
		   "source": [
			"## Example 5.15: Exit_velocity_of_steam.sce"
		   ]
		  },
  {
"cell_type": "code",
	   "execution_count": null,
	   "metadata": {
	    "collapsed": true
	   },
	   "outputs": [],
"source": [
"// Y.V.C.Rao ,1997.Chemical Engineering Thermodynamics.Universities Press,Hyderabad,India.\n",
"\n",
"//Chapter-5,Example 15,Page 183\n",
"//Title: Exit velocity of steam\n",
"//================================================================================================================\n",
"clear \n",
"clc\n",
"\n",
"//INPUT\n",
"Pi=3;//pressure of dry saturated steam when it enters the nozzle in bar\n",
"Pe=2;//pressure of dry saturated steam at the exit in bar\n",
"\n",
"//CALCULATION\n",
"//From steam tables corresponding to Pi\n",
"si=6.9909;//entropy of steam at the entrance in kJ/kgK\n",
"hi=2724.7;//entahlpy of steam at the entrance in kJ/kg\n",
"\n",
"//From steam tables corresponding to Pe\n",
"sf=1.5301;//entropy of saturated liquid in kJ/kgK\n",
"hf=504.70;//enthalpy of saturated liquid in kJ/kg\n",
"sg=7.1268;//entropy of saturated vapour in kJ/kgK\n",
"hg=2706.3;//entahlpy of saturayed vapour in kJ/kg\n",
"\n",
"se=6.9909;//From Eq.(5.67), se=si (i.e. entropy of the fluid remains constant), where se is in kJ/kgK\n",
"Xe=(se-sf)/(sg-sf);//calculation of the quality of steam at the exit (no unit)\n",
"he=((1-Xe)*hf)+(Xe*hg);//calculation of enthalpy of steam at the exit in kJ/kg\n",
"Ve=sqrt (2*(hi-he)*10^3);//calculation of exit velocity of steam in m/s by applying the first law of thermodynamics\n",
"\n",
"//OUTPUT\n",
"mprintf('\n The exit velocity of steam=%f m/s\n',Ve);\n",
"\n",
"\n",
"//===============================================END OF PROGRAM==================================================="
   ]
   }
,
{
		   "cell_type": "markdown",
		   "metadata": {},
		   "source": [
			"## Example 5.16: Rate_at_which_entropy_is_generated.sce"
		   ]
		  },
  {
"cell_type": "code",
	   "execution_count": null,
	   "metadata": {
	    "collapsed": true
	   },
	   "outputs": [],
"source": [
"// Y.V.C.Rao ,1997.Chemical Engineering Thermodynamics.Universities Press,Hyderabad,India.\n",
"\n",
"//Chapter-5,Example 16,Page 183\n",
"//Title: Rate at which entropy is generated\n",
"//================================================================================================================\n",
"clear \n",
"clc\n",
"\n",
"//INPUT\n",
"N_glycerol=100;//molar flow rate of glycerol in mol/s\n",
"Ti_gly=227;//inlet temperature of glycerol in degree celsius\n",
"Te_gly=40;//outlet temperature of glycerol in degree celsius\n",
"Ti_water=25;//inlet temperature of cooling water in degree celsius\n",
"Te_water=50;//outlet temperature of cooling water in degree celsius\n",
"Cp_gly=280;//heat capacity of glycerol in J/molK\n",
"Cp_water=77;//heat capacity of water in J/molK\n",
"\n",
"//CALCULATION\n",
"Ti_gly=Ti_gly+273.15;//conversion of temperature in K\n",
"Te_gly=Te_gly+273.15;//conversion of temperature in K\n",
"Ti_water=Ti_water+273.15;//conversion of temperature in K\n",
"Te_water=Te_water+273.15;//conversion of temperature in K\n",
"//calculation of the molar flow rate of water in mol/s by applying the first law of thermodynamics on the control-volume\n",
"N_water=-(N_glycerol*Cp_gly*(Te_gly-Ti_gly))/(Cp_water*(Te_water-Ti_water));\n",
"del_S_gly=N_glycerol*Cp_gly*log (Te_gly/Ti_gly)*10^-3;//calculation of change in entropy of glycerol in kJ/K s\n",
"del_S_water=N_water*Cp_water*log (Te_water/Ti_water)*10^-3;//calculation of change in entropy of water in kJ/K s\n",
"S_G=del_S_gly+del_S_water;//calculation of the rate at which entropy is generated  in the heat exchanger in kJ/K s\n",
"\n",
"//OUTPUT\n",
"mprintf('\n The rate at which entropy is generated in the heat exchanger=%0.3f kJ/K s\n',S_G);\n",
"\n",
"\n",
"//===============================================END OF PROGRAM==================================================="
   ]
   }
,
{
		   "cell_type": "markdown",
		   "metadata": {},
		   "source": [
			"## Example 5.17: Device_and_its_feasibility.sce"
		   ]
		  },
  {
"cell_type": "code",
	   "execution_count": null,
	   "metadata": {
	    "collapsed": true
	   },
	   "outputs": [],
"source": [
"// Y.V.C.Rao ,1997.Chemical Engineering Thermodynamics.Universities Press,Hyderabad,India.\n",
"\n",
"//Chapter-5,Example 17,Page 183\n",
"//Title: Device and its feasibility\n",
"//================================================================================================================\n",
"clear \n",
"clc\n",
"\n",
"//INPUT\n",
"T_i=150;//temperature of saturated steam taken up by the device in degree celsius\n",
"T_e=200;//temperature of superheated steam delivered by the device in degree celsius\n",
"P_e=0.2;//pressure of superheated steam delivered by the device in MPa\n",
"me2=0.949;//mass of superheated steam leaving the device in kg\n",
"me1=0.051;//mass of saturated liquid leaving the device in kg\n",
"T_liq=100;//temperature of saturated liquid leaving the device in degree celsius\n",
"mi=1;//mass of saturated steam fed to the device in kg\n",
"\n",
"//CALCULATION\n",
"//From steam tables corresponding to T_i\n",
"hi=2745.4//enthalpy of saturated vapour in kJ/kg\n",
"si=6.8358;//entropy of saturated vapour in kJ/kgK\n",
"\n",
"//For saturated liquid at T_liq\n",
"he1=419.06;//enthalpy of saturated liquid in kJ/kg\n",
"se1=1.3069;//entropy of saturated vapour in kJ/kgK\n",
"\n",
"//For superheated steam at P_e and T_e\n",
"he2=2870.5;//enthalpy of superheated steam in kJ/kg\n",
"se2=7.5072;//entropy of superheated steam in kJ/kgK\n",
"\n",
"//Test to see if the device obeys the first law of thermodynamics\n",
"//Application of the first law of thermodynamics to the flow device gives: mi*hi=(me1*he1)+(me2*he2)\n",
"LHS=mi*hi;\n",
"RHS=(me1*he1)+(me2*he2);\n",
"\n",
"//Test to see if the device obeys the second law of thermodynamics\n",
"//Application of the second law of thermodynamics to the flow device gives: (Ne1*se1)+(Ne2*se2)-(Ni*si)>|0\n",
"S_G=(me1*se1)+(me2*se2)-(mi*si);\n",
"\n",
"//OUTPUT\n",
"mprintf('\n The LHS of the equation applied to the flow device to check if the first law of thermodynamics is satisfied= %0.1f kJ\n',LHS);\n",
"mprintf('\n The RHS of the equation applied to the flow device to check if the first law of thermodynamics is satisfied=%0.1f kJ\n',RHS);\n",
"mprintf('\n The entropy generated by applying the second law of thermodynamics to the flow device=%0.4f kJ/kgK\n',S_G);\n",
"if int(LHS)== int(RHS)& S_G>0 | S_G==0 then\n",
"    mprintf('\n As the first and second law of thermodynamics are satisfied, the device is theoretically feasible \n');\n",
"else\n",
"mprintf('\n As both the first and second law or either the first or second law of thermodynamics are not satisfied, the device is not feasible \n');\n",
"end\n",
"\n",
"\n",
"//===============================================END OF PROGRAM==================================================="
   ]
   }
,
{
		   "cell_type": "markdown",
		   "metadata": {},
		   "source": [
			"## Example 5.18: Isentropic_efficiency.sce"
		   ]
		  },
  {
"cell_type": "code",
	   "execution_count": null,
	   "metadata": {
	    "collapsed": true
	   },
	   "outputs": [],
"source": [
"// Y.V.C.Rao ,1997.Chemical Engineering Thermodynamics.Universities Press,Hyderabad,India.\n",
"\n",
"//Chapter-5,Example 18,Page 185\n",
"//Title: Isentropic efficiency\n",
"//================================================================================================================\n",
"clear \n",
"clc\n",
"\n",
"//INPUT\n",
"Pi=30;//pressure of superheated steam entering the turbine in bar\n",
"Ti=300;//temperature of superheated steam entering the turbine in degree celsius\n",
"Pe=0.1;//pressure at which steam exits the turbine in bar\n",
"Xe=0.9;//quality of steam at the exit (no unit)(for the actual turbine)\n",
"\n",
"//CALCULATION\n",
"//For superheated steam at Pi and Ti\n",
"hi=2995.1;//enthalpy of superheated steam at the entrance in kJ/kg\n",
"si=6.5422;//entropy of superheated steam at the entrance in kJ/kgK\n",
"\n",
"//For steam at Pe\n",
"hf=191.83;//enthalpy of saturated liquid in kJ/kg\n",
"hg=2584.8;//enthalpy of saturated vapour in kJ/kg\n",
"sf=0.6493;//entropy of saturated liquid in kJ/kgK\n",
"sg=8.1511;//entropy of saturated vapour in kJ/kgK\n",
"\n",
"//For isentropic turbine s1=s2 i.e. si=se, where si is the entropy at the entrance and se is the entropy at the exit\n",
"X2=(si-sf)/(sg-sf);//calculation of the quality of steam at the exit for the isentropic process (no unit)\n",
"h2=(hf*(1-X2))+(X2*hg);//calculation of the enthalpy of steam at the exit for the isentropic process in kJ/kg\n",
"he=(hf*(1-Xe))+(Xe*hg);//calculation of the enthalpy of steam at the exit for the actual turbine in kJ/kg\n",
"n_T=(hi-he)/(hi-h2);//calculation of isentropic efficiency of the turbine using Eq.(5.68) (no unit)\n",
"\n",
"//OUTPUT\n",
"mprintf('\n The isentropic efficiency of the turbine=%f \n',n_T);\n",
"\n",
"\n",
"//===============================================END OF PROGRAM==================================================="
   ]
   }
,
{
		   "cell_type": "markdown",
		   "metadata": {},
		   "source": [
			"## Example 5.19: Power_consumed_by_the_compressor.sce"
		   ]
		  },
  {
"cell_type": "code",
	   "execution_count": null,
	   "metadata": {
	    "collapsed": true
	   },
	   "outputs": [],
"source": [
"// Y.V.C.Rao ,1997.Chemical Engineering Thermodynamics.Universities Press,Hyderabad,India.\n",
"\n",
"//Chapter-5,Example 19,Page 186\n",
"//Title: Power consumed by the compressor\n",
"//================================================================================================================\n",
"clear \n",
"clc\n",
"\n",
"//INPUT\n",
"Ti=25;//temperature of air taken in by the adiabatic air compressor in degree celsius\n",
"Pi=0.1;//pressure of air taken in by the adiabatic air compressor in MPa\n",
"Pe=1;//discharge pressure of air in MPa\n",
"n_c=0.8;//isentropic efficiency of the compressor (no unit)\n",
"gaamma=1.4;//ratio of molar specific heat capacities (no unit)\n",
"R=8.314;//universal gas constant in J/molK\n",
"\n",
"//CALCULATION\n",
"Ti=Ti+273.15;//conversion of temperature in K\n",
"Te=Ti*(((Pe*10^6)/(Pi*10^6))^((gaamma-1)/gaamma));//calculation of the discharge temperature of air using Eq.(4.35) in K (for reversible and adiabatic compression)\n",
"W_s=(((R*gaamma)/(gaamma-1))*(Te-Ti))*10^-3;//calculation of the power consumed by the isentropic compressor using Eq.(5.69) in kW\n",
"Ws=W_s/n_c;//calculation of the power consumed by an actual compressor per mole of air using Eq.(5.68)in kW \n",
"Te_actual=((Ws*10^3*(gaamma-1))/(R*gaamma))+Ti;//calculation of the exit temperature of air in K\n",
"\n",
"//OUTPUT\n",
"mprintf('\n The exit temperature of air=%0.2f K\n',Te_actual);\n",
"mprintf('\n The power consumed by the compressor =%f kW/mol\n',Ws);\n",
"\n",
"\n",
"//===============================================END OF PROGRAM==================================================="
   ]
   }
,
{
		   "cell_type": "markdown",
		   "metadata": {},
		   "source": [
			"## Example 5.20: Power_consumed_by_the_pump.sce"
		   ]
		  },
  {
"cell_type": "code",
	   "execution_count": null,
	   "metadata": {
	    "collapsed": true
	   },
	   "outputs": [],
"source": [
"// Y.V.C.Rao ,1997.Chemical Engineering Thermodynamics.Universities Press,Hyderabad,India.\n",
"\n",
"//Chapter-5,Example 20,Page 187\n",
"//Title: Power consumed by the pump\n",
"//================================================================================================================\n",
"clear \n",
"clc\n",
"\n",
"//INPUT\n",
"Ti=30;//temperature of saturated liquid water in degree celsius\n",
"m=500;//mass flow rate of water being pumped in kg/s\n",
"P2=3;//preesure maintained in the boiler in MPa\n",
"n_p=0.75;//isentropic efficiency of the pump (no unit)\n",
"\n",
"//CALCULATION\n",
"//For saturated liquid water at Ti\n",
"vf=0.0010043;//specific volume in m^3/kg\n",
"P1=4.241;//pressure in kPa\n",
"\n",
"//Assuming that the liquid is incompressible, the power input required for an isentropic pump is calculated as:\n",
"Ws_m=(vf*((P2*10^6)-(P1*10^3)))*10^-3;//power input required by the isentropic pump in kJ/kg\n",
"Ws_act_m=Ws_m/n_p;//power input required by an actual pump in kJ/kg \n",
"P=((Ws_act_m*10^3)*m)*10^-6;//calculation of the total power consumed by the pump in MW\n",
"\n",
"//OUTPUT\n",
"mprintf('\n The power consumed by the pump = %d MW\n',P);\n",
"\n",
"\n",
"//===============================================END OF PROGRAM==================================================="
   ]
   }
,
{
		   "cell_type": "markdown",
		   "metadata": {},
		   "source": [
			"## Example 5.21: Isentropic_efficiency_of_nozzle.sce"
		   ]
		  },
  {
"cell_type": "code",
	   "execution_count": null,
	   "metadata": {
	    "collapsed": true
	   },
	   "outputs": [],
"source": [
"// Y.V.C.Rao ,1997.Chemical Engineering Thermodynamics.Universities Press,Hyderabad,India.\n",
"\n",
"//Chapter-5,Example 21,Page 188\n",
"//Title: Isentropic efficiency of nozzle\n",
"//================================================================================================================\n",
"clear \n",
"clc\n",
"\n",
"//INPUT\n",
"Pi=3;//pressure of dry saturated steam entering the nozzle in bar\n",
"Xe=0.98;//quality of steam exiting the nozzle (no unit)\n",
"Pe=2;//pressure of steam exiting the nozzle in bar\n",
"\n",
"//CALCULATION\n",
"//For steam at Pi\n",
"hi=2724.7;//enthalpy of dry saturated steam in kJ/kg\n",
"he=2652.8;//enthalpy of steam at the exit for an isentropic nozzle,from Example 5.15,in kJ/kg\n",
"V2_2_s=hi-he;//calculation of the specific kinetic energy of steam at the nozzle exit (for isentropic nozzle) in kJ/kg\n",
"\n",
"//For steam at Pe\n",
"hf=504.70;//enthalpy of saturated liquid in kJ/kg\n",
"hg=2706.3;//enthalpy of saturated vapour in kJ/kg\n",
"he_act=((1-Xe)*hf)+(Xe*hg);//calculation of enthalpy of steam at the exit in kJ/kg\n",
"V2_2=hi-he_act;//calculation of the actual specific kinetic energy of steam leaving the nozzle in kJ/kg\n",
"n_N=(V2_2)/(V2_2_s);//calculation of isentropic efficiency of the nozzle using Eq.(5.72) (no unit)\n",
"\n",
"//OUTPUT\n",
"mprintf('\n The isentropic efficiency of the nozzle=%0.3f \n',n_N);\n",
"\n",
"\n",
"//===============================================END OF PROGRAM==================================================="
   ]
   }
,
{
		   "cell_type": "markdown",
		   "metadata": {},
		   "source": [
			"## Example 5.2: Inventor_and_the_heat_engine.sce"
		   ]
		  },
  {
"cell_type": "code",
	   "execution_count": null,
	   "metadata": {
	    "collapsed": true
	   },
	   "outputs": [],
"source": [
"// Y.V.C.Rao ,1997.Chemical Engineering Thermodynamics.Universities Press,Hyderabad,India.\n",
"\n",
"//Chapter-5,Example 2,Page 161\n",
"//Title: Inventor and the heat engine\n",
"//================================================================================================================\n",
"clear \n",
"clc\n",
"\n",
"//INPUT\n",
"Q=1000;//amount of energy absorbed by the heat engine in kJ/s\n",
"W=650;//work delivered by the heat engine in kW\n",
"T_source=500;//temperature of the source in degree celsius\n",
"T_sink=25;//temperature of the sink in degree celsius\n",
"\n",
"//CALCULATION\n",
"n_claimed=W/Q;//calculation of the efficiency of the heat engine invented by the inventor (no unit)\n",
"T1=T_source+273.15;//conversion of source temperature in K\n",
"T2=T_sink+273.15;//conversion of sink temperature in K\n",
"n_carnot=1-(T2/T1);//calculation of the efficiency of a carnot engine from Eg.(5.1) (no unit)\n",
"\n",
"//OUTPUT\n",
"mprintf('\n The efficiency of the Carnot engine=%0.3f \n',n_carnot);\n",
"mprintf('\n The efficiency of the engine claimed by the inventor=%0.2f \n',n_claimed);\n",
"if n_claimed<n_carnot then\n",
"    mprintf('\n The claimed heat engine is theoretically feasible as the efficiency of the engine is lesser than that of a Carnot engine\n');\n",
"else\n",
"    mprintf('\n The claimed heat engine is not theoretically feasible as the efficiency of the engine is greater than that of a Carnot engine\n');\n",
"end\n",
"\n",
"//===============================================END OF PROGRAM==================================================="
   ]
   }
,
{
		   "cell_type": "markdown",
		   "metadata": {},
		   "source": [
			"## Example 5.3: Minimum_power_required.sce"
		   ]
		  },
  {
"cell_type": "code",
	   "execution_count": null,
	   "metadata": {
	    "collapsed": true
	   },
	   "outputs": [],
"source": [
"// Y.V.C.Rao ,1997.Chemical Engineering Thermodynamics.Universities Press,Hyderabad,India.\n",
"\n",
"//Chapter-5,Example 3,Page 165\n",
"//Title: Minimum power required\n",
"//================================================================================================================\n",
"clear \n",
"clc\n",
"\n",
"//INPUT\n",
"T_source_summer=42;//temperature in the summer months in degree celsius\n",
"T_sink_winter=0;//temperature in the winter months in degree celius\n",
"T_amb=25;//temperature at which the house is to be maintained during both the months in degree celsius\n",
"//rate of energy loss from the windows,walls and roof, in kW per degree celsius difference between the ambient temperature and the conditions inside the room\n",
"energy_loss=0.5;\n",
"\n",
"//CALCULATION\n",
"T_H_summer=T_source_summer+273.15;//conversion of temperature in K\n",
"T_L_summer=T_amb+273.15;//conversion of temperature in K\n",
"T_H_winter=T_amb+273.15;//conversion of temperature in K\n",
"T_L_winter=T_sink_winter+273.15;//conversion of temperature in K\n",
"W_summer=(energy_loss*((T_H_summer-T_L_summer)^2))/(T_L_summer);//calculation of the minimum power required to operate the device in summer using Eq.(5.20) in kW\n",
"W_winter=(energy_loss*((T_H_winter-T_L_winter)^2))/(T_H_winter);//calculation of the minimum power required to operate the device in winter using Eq.(5.21) in kW\n",
"\n",
"//OUTPUT\n",
"mprintf('\n The minimum power required to operate the device in summer=%f kW \n',W_summer);\n",
"mprintf('\n The minimum power required to operate the device in winter=%f kW \n',W_winter);\n",
"\n",
"//===============================================END OF PROGRAM===================================================\n",
"\n",
"//DISCLAIMER: THE ANSWER GIVEN FOR THE MINIMUM POWER REQUIRED TO OPERATE THE DEVICE IN WINTER, IS NUMERICALLY INCORRECT IN THE TEXTBOOK."
   ]
   }
,
{
		   "cell_type": "markdown",
		   "metadata": {},
		   "source": [
			"## Example 5.4: Minimum_work_and_maximum_possible_COP.sce"
		   ]
		  },
  {
"cell_type": "code",
	   "execution_count": null,
	   "metadata": {
	    "collapsed": true
	   },
	   "outputs": [],
"source": [
"// Y.V.C.Rao ,1997.Chemical Engineering Thermodynamics.Universities Press,Hyderabad,India.\n",
"\n",
"//Chapter-5,Example 4,Page 166\n",
"//Title: Minimum work and maximum possible COP\n",
"//================================================================================================================\n",
"clear \n",
"clc\n",
"\n",
"//INPUT\n",
"T_L=4.25;//normal boiling point of helium in K\n",
"Q_L=0.083;//latent heat of vaporization of helium in kJ/mol\n",
"n=1;//amount of liquid helium to be produced in kmol\n",
"T_amb=42;//ambient temperature in summer in degree celsius\n",
"\n",
"//CALCULATION\n",
"T_H=T_amb+273.15;//conversion of temperature in K\n",
"COP=(T_L)/(T_H-T_L);//calculation of COP of the refrigerator using Eq.(5.20)(no unit)\n",
"W=(Q_L)/COP;//calculation of work to be done on the refrigerator unit using Eq.(5.20) in kJ\n",
"\n",
"//OUTPUT\n",
"mprintf('\n The maximum possible COP of the unit=%0.4f \n',COP);\n",
"mprintf('\n The minimum amount of work to be done on the refrigerating unit=%f kJ \n',W);\n",
"\n",
"//===============================================END OF PROGRAM==================================================="
   ]
   }
,
{
		   "cell_type": "markdown",
		   "metadata": {},
		   "source": [
			"## Example 5.5: Minimum_power_and_maximum_efficiency.sce"
		   ]
		  },
  {
"cell_type": "code",
	   "execution_count": null,
	   "metadata": {
	    "collapsed": true
	   },
	   "outputs": [],
"source": [
"// Y.V.C.Rao ,1997.Chemical Engineering Thermodynamics.Universities Press,Hyderabad,India.\n",
"\n",
"//Chapter-5,Example 5,Page 166\n",
"//Title: Minimum power and maximum efficiency\n",
"//================================================================================================================\n",
"clear \n",
"clc\n",
"\n",
"//INPUT\n",
"T_ice=0;//temperature of the ice to be produced in degree celsius\n",
"m=5000;//rate at which ice is to be produced in kg/hour\n",
"T_water=0;//temperature of water used to produce ice in degree celsius\n",
"T_amb=40;//ambient temperature in degree celsius\n",
"T_source=100;//temperature of the source for operating heat engine in degree celsius\n",
"lambda_fusion=6.002;//latent heat of fusion of water in kJ/mol at 0 degree celsius\n",
"molar_mass=18*10^-3;//molar mass of water in kg/mol\n",
"\n",
"//CALCULATION\n",
"T_L=T_water+273.15;//sink temperature of the refrigerating unit in K\n",
"T_H=T_amb+273.15;//source temperature of the refrigerating unit in K\n",
"COP=(T_L)/(T_H-T_L);//calculation of COP of the refrigerating unit using Eq.(5.20) (no unit)\n",
"Q_L=((m/3600)/molar_mass)*(lambda_fusion);//calculation of the energy from the sink taken up by the refrigerator in kW\n",
"W=(Q_L)/(COP);//calculation of the minimum power required to operate the refrigerator using Eq.(5.20)in kW\n",
"T1=T_source+273.15;//temperature of the source of the heat engine in K\n",
"T2=T_amb+273.15;//temperature of the sink of the heat engine in K\n",
"n_heatengine=(T1-T2)/T1;//calculation of the efficiency of heat engine using Eq.(5.18) (no unit)\n",
"Q1=W/n_heatengine;//calculation of the energy absorbed by the heat engine using Eq.(5.1) in kW\n",
"//calculation of the ratio of energy rejected by both the devices to ambient atmosphere to the energy absorbed by the refrigerator (no unit)\n",
"energy_ratio=(Q1+Q_L)/Q_L;\n",
"\n",
"//OUTPUT\n",
"mprintf('\n The minimum power required to operate the refrigerator=%0.2f kW\n',W);\n",
"mprintf('\n The maximum possible efficiency of the heat engine=%0.4f \n',n_heatengine);\n",
"mprintf('\n Ratio of the energy rejected to the ambient atmosphere to the energy absorbed from the water=%0.4f \n',energy_ratio);\n",
"\n",
"//===============================================END OF PROGRAM==================================================="
   ]
   }
,
{
		   "cell_type": "markdown",
		   "metadata": {},
		   "source": [
			"## Example 5.6: Inventor_and_the_claim.sce"
		   ]
		  },
  {
"cell_type": "code",
	   "execution_count": null,
	   "metadata": {
	    "collapsed": true
	   },
	   "outputs": [],
"source": [
"// Y.V.C.Rao ,1997.Chemical Engineering Thermodynamics.Universities Press,Hyderabad,India.\n",
"\n",
"//Chapter-5,Example 6,Page 169\n",
"//Title: Inventor and the claim\n",
"//================================================================================================================\n",
"clear \n",
"clc\n",
"\n",
"//INPUT\n",
"T1=800;//temperature of reservoir 1 in K\n",
"T2=400;//temperature of reservoir 2 in K\n",
"Q1=1000;//energy absorbed from reservoir maintained at T1 in kJ\n",
"Q2=400;//energy absorbed from reservoir maintained at T2 in kJ\n",
"W=1000;//work delivered by the heat engine in kJ\n",
"T3=300;//temperature of the sink in K\n",
"\n",
"//CALCULATION\n",
"Q3=(Q1+Q2)-W;//calculation of the energy rejected to the sink using the first law of thermodynamics in kJ\n",
"clausius_inequality=(Q1/T1)+(Q2/T2)-(Q3/T3);//application of the second law of thermodynamics in the form of the Clausius inequality using Eq.(5.28)\n",
"\n",
"//OUTPUT\n",
"mprintf('\n The LHS of the Clausius inequality=%0.4f \n',clausius_inequality);\n",
"if clausius_inequality<0 | clausius_inequality==0 then\n",
"    mprintf('\n The given process does not violate the second law of thermodynamics, therefore the claim is correct\n');\n",
"else\n",
"    mprintf('\n This is a violation of the second law of thermodynamics, and hence the claim cannot be justified\n');\n",
"end\n",
"\n",
"//===============================================END OF PROGRAM==================================================="
   ]
   }
,
{
		   "cell_type": "markdown",
		   "metadata": {},
		   "source": [
			"## Example 5.7: Change_in_the_entropy_of_the_reactor_contents.sce"
		   ]
		  },
  {
"cell_type": "code",
	   "execution_count": null,
	   "metadata": {
	    "collapsed": true
	   },
	   "outputs": [],
"source": [
"// Y.V.C.Rao ,1997.Chemical Engineering Thermodynamics.Universities Press,Hyderabad,India.\n",
"\n",
"//Chapter-5,Example 7,Page 172\n",
"//Title: Change in the entropy of the reactor contents\n",
"//================================================================================================================\n",
"clear \n",
"clc\n",
"\n",
"//INPUT\n",
"T_system=200;//temperature of the contents of reactor in degree celsius\n",
"t=15;//operation time of agitator in minutes\n",
"P=750;//power of the operating motor in W\n",
"\n",
"//CALCULATION\n",
"dQ=P*t*60*10^-3;//calculation of energy added as heat in kJ\n",
"T=T_system+273.15;//conversion of temperature in K\n",
"del_S=dQ/T;//calculation of entropy change using Eq.(5.32) in kJ/K\n",
"\n",
"//OUTPUT\n",
"mprintf('\n The change in the entropy of the reactor contents=%0.4f kJ/K \n',del_S);\n",
"\n",
"\n",
"//===============================================END OF PROGRAM==================================================="
   ]
   }
,
{
		   "cell_type": "markdown",
		   "metadata": {},
		   "source": [
			"## Example 5.8: Entropy_change.sce"
		   ]
		  },
  {
"cell_type": "code",
	   "execution_count": null,
	   "metadata": {
	    "collapsed": true
	   },
	   "outputs": [],
"source": [
"// Y.V.C.Rao ,1997.Chemical Engineering Thermodynamics.Universities Press,Hyderabad,India.\n",
"\n",
"//Chapter-5,Example 8,Page 172\n",
"//Title: Entropy change\n",
"//================================================================================================================\n",
"clear \n",
"clc\n",
"\n",
"//INPUT\n",
"P=0.101325;//pressure in the piston cylinder assembly in MPa\n",
"T1=300;//temperature of the piston cylinder assembly in K\n",
"T2=400;//final temperature of the piston cylinder assembly in K\n",
"a=45.369;//coefficients to compute isobaric molar heat capacity of CO2(g) in J/molK\n",
"b=8.688*10^-3;//coefficients to compute isobaric molar heat capacity of CO2(g) in J/molK\n",
"e=-9.619*10^5;//coefficients to compute isobaric molar heat capacity of CO2(g) in J/molK\n",
"//Cpo for CO2(g) is given as a+bT+eT^-2\n",
"\n",
"//CALCULATION\n",
"\n",
"del_S=(a*log(T2/T1))+(b*(T2-T1))-((e/2)*((1/T2^2)-(1/T1^2)));//calculation of entropy change for the constant pressure expansion in J/molK\n",
"\n",
"//OUTPUT\n",
"mprintf('\n The change in entropy of CO2=%f J/molK\n',del_S);\n",
"\n",
"\n",
"//===============================================END OF PROGRAM===================================================\n",
"//DISCLAIMER: THE AUTHOR HAS NOT DIVIDED 'e' IN THE INTEGRATED EXPRESSION USED TO COMPUTE del_S BY 2, WHICH IS AN ERROR.THE INTEGRATION OF (eT^-3)dT IS -(e/2)*T^-2 THIS ERROR HAS BEEN RECTIFIED IN THIS PROGRAM."
   ]
   }
,
{
		   "cell_type": "markdown",
		   "metadata": {},
		   "source": [
			"## Example 5.9: Change_in_entropy_of_water.sce"
		   ]
		  },
  {
"cell_type": "code",
	   "execution_count": null,
	   "metadata": {
	    "collapsed": true
	   },
	   "outputs": [],
"source": [
"// Y.V.C.Rao ,1997.Chemical Engineering Thermodynamics.Universities Press,Hyderabad,India.\n",
"\n",
"//Chapter-5,Example 9,Page 173\n",
"//Title: Change in entropy of water\n",
"//================================================================================================================\n",
"clear \n",
"clc\n",
"\n",
"//INPUT\n",
"m=1;//amount of saturated liquid water in kg\n",
"T_initial=100;//initial temperature of water in degree celsius\n",
"T_body=500;//temperature of body which is brought into contact with the cylinder in degree celsius\n",
"hfg=2256.94;//enthalpy of vaporization taken from steam tables corresponding to T1 in kJ/kg\n",
"\n",
"//CALCULATION\n",
"T=T_initial+273.15;//conversion of temperature in K\n",
"del_S=hfg/T;//calculation of the entropy change during the process using Eq.(5.34) in kJ/kgK\n",
"\n",
"//OUTPUT\n",
"mprintf('\n The change in entropy of water=%0.4f kJ/kgK\n',del_S);\n",
"\n",
"\n",
"//===============================================END OF PROGRAM==================================================="
   ]
   }
],
"metadata": {
		  "kernelspec": {
		   "display_name": "Scilab",
		   "language": "scilab",
		   "name": "scilab"
		  },
		  "language_info": {
		   "file_extension": ".sce",
		   "help_links": [
			{
			 "text": "MetaKernel Magics",
			 "url": "https://github.com/calysto/metakernel/blob/master/metakernel/magics/README.md"
			}
		   ],
		   "mimetype": "text/x-octave",
		   "name": "scilab",
		   "version": "0.7.1"
		  }
		 },
		 "nbformat": 4,
		 "nbformat_minor": 0
}
