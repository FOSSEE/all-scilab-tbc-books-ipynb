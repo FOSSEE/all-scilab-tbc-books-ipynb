{
"cells": [
 {
		   "cell_type": "markdown",
	   "metadata": {},
	   "source": [
       "# Chapter 8: Thermodynamic properties of real gases"
	   ]
	},
{
		   "cell_type": "markdown",
		   "metadata": {},
		   "source": [
			"## Example 8.10: EX8_10.sce"
		   ]
		  },
  {
"cell_type": "code",
	   "execution_count": null,
	   "metadata": {
	    "collapsed": true
	   },
	   "outputs": [],
"source": [
"// Y.V.C.Rao ,1997.Chemical Engineering Thermodynamics.Universities Press,Hyderabad,India.\n",
"\n",
"//Chapter-8,Example 10,Page 299\n",
"//Title: Enthalpy and entropy departure using the generalized virial coefficient correlation\n",
"//================================================================================================================\n",
"clear \n",
"clc\n",
"\n",
"//INPUT\n",
"T=339.7;//temperature of ethylene in K\n",
"P=1;//pressure of ethylene in bar\n",
"Tc=283.1;//critical temperature of ethylene in K\n",
"Pc=51.17;//critical pressure of ethylene in bar\n",
"w=0.089;//acentric factor (no unit)\n",
"R=8.314;//universal gas constant in J/molK\n",
"\n",
"//CALCULATION\n",
"Pr=P/Pc;//calculation of reduced pressure (no unit)\n",
"Tr=T/Tc;//calculation of reduced temperature (no unit)\n",
"dep_h=R*Tc*Pr*((0.083-(1.097/(Tr^1.6)))+(w*(0.139-(0.894/(Tr^4.2)))));//calculation of the enthalpy departure using Eq.(8.75) in J/mol\n",
"dep_s=-Pr*R*((0.675/(Tr^2.6))+(w*(0.722/(Tr^5.2))));//calculation of the entropy departure using Eq.(8.76) in J/molK\n",
"\n",
"//OUTPUT\n",
"mprintf('\n The enthalpy departure for ethylene using the generalized virial coefficient correlation = %f J/mol\n',dep_h);\n",
"mprintf('\n The entropy departure for ethylene using the generalized virial coefficient correlation = %e J/mol K\n',dep_s);\n",
"\n",
"//===============================================END OF PROGRAM=================================================== "
   ]
   }
,
{
		   "cell_type": "markdown",
		   "metadata": {},
		   "source": [
			"## Example 8.11: Volume_Enthalpy_and_Entropy_departure_using_the_Peng_Robinson_equation_of_state.sce"
		   ]
		  },
  {
"cell_type": "code",
	   "execution_count": null,
	   "metadata": {
	    "collapsed": true
	   },
	   "outputs": [],
"source": [
"// Y.V.C.Rao ,1997.Chemical Engineering Thermodynamics.Universities Press,Hyderabad,India.\n",
"\n",
"//Chapter-8,Example 11,Page 299\n",
"//Title: Volume,Enthalpy and entropy departure using the Peng-Robinson equation of state\n",
"//================================================================================================================\n",
"clear \n",
"clc\n",
"\n",
"//INPUT\n",
"T=427.85;//temperature of n-octane vapour in K\n",
"P=0.215;//pressure of n-octane vapour in MPa\n",
"T_ref=0;//reference state saturated liquid temperature in degree celsius\n",
"h0=0;//enthalpy of saturated liquid in J/mol (reference state)\n",
"s0=0;//entropy of saturated liquid in J/molK (reference state)\n",
"Tc=569.4;//critical temperature of n-octane in K\n",
"Pc=24.97;//critical pressure of n-octane in bar\n",
"w=0.398;//acentric factor (no unit)\n",
"NBP=398.8;//normal boiling point of n-octane (saturated liquid)\n",
"[Cp]=[6.907;741.770*10^-3;-397.204*10^-6;82.629*10^-9;0];//coefficients to compute the isobaric molar heat capacity, where Cp=a+bT+cT^2+dT^3+eT^-2,in J/molK\n",
"S=0.9457;//value of S taken from Example (3.16)\n",
"b=1.4750*10^-4;//value of the Peng-Robinson constant in m^3/mol from Example (3.16)\n",
"v=15.14*10^-3;//volume of saturated vapour in m^3/mol from Example (3.16)\n",
"R=8.314;//universal gas constant in J/molK\n",
"P_amb=101.325;//pressure at which the normal boiling point is computed in kPa\n",
"\n",
"//CALCULATION\n",
"\n",
"//Step a: Vaporization of n-octane at T_ref\n",
"T_ref=T_ref+273.15;//conversion of temperature in K\n",
"//calculation of the enthalpy of vaporization using Eq.(7.92)(Clausius-Clayperon equation) in kJ/mol\n",
"del_hv=((R*log ((Pc*10^5)/(P_amb*10^3)))/((1/NBP)-(1/Tc)))*10^-3;\n",
"P2=P_amb*exp (((del_hv*10^3)/(R))*((1/NBP)-(1/T_ref)));//calculation of the vapour pressure at T_ref using Eq.(7.92)(Clausius-Clayperon equation) in kPa\n",
"Tbr=NBP/Tc;//calculation of the reduced normal boiling point (no unit)\n",
"//calculation of the enthalpy of vaporization at the normal boiling point using Eq.(7.102)(Riedel's correlation) in kJ/mol\n",
"del_hvn=(1.093*R*Tc*(Tbr*(((log (Pc))-1.013)/(0.930-Tbr))))*10^-3;\n",
"Tr2=T_ref/Tc;//calculation of the reduced temperature with reference to T_ref (no unit)\n",
"//calculation of the enthalpy of vaporization (Step a)at T_ref using Eq.(7.101)(Watson's correlation) in kJ/mol\n",
"del_ha=((del_hvn*10^3)*(((1-Tr2)/(1-Tbr))^(0.38)))*10^-3;\n",
"del_sa=(del_ha*10^3)/T_ref;//calculation of the entropy change in the conversion from saturated liquid to saturated vapour (Step a) at T_ref in J/molK\n",
"\n",
"//Step b:Change from real state of n-octane at T_ref and P2 to ideal gas state at the same temperature and pressure\n",
"alpha=(1+(S*(1-sqrt (Tr2))))^2;//calculation of alpha so as to compute the Peng-Robinson constant (a)\n",
"a=(0.45724*(R^2)*(Tc^2)*alpha)/(Pc*10^5);//calculation of the Peng-Robinson constant using Eq.(3.76) in Pa(m^3/mol)^2\n",
"//Using the Cardan's method to evaluate Z\n",
"A=(a*P2*10^3)/(R*T_ref)^2;//calculation of A to determine alpha,beeta and gaamma by using Eq.(3.25)\n",
"B=(b*P2*10^3)/(R*T_ref);//calculation of B to determine alpha,beeta and gaamma by using Eq.(3.26)\n",
"alpha=-1+B;//calculation of alpha for Peng-Robinson equation of state using Table (3.2)\n",
"beeta=A-(2*B)-(3*B^2);//calculation of beeta for Peng-Robinson equation of state using Table (3.2)\n",
"gaamma=-(A*B)+(B^2)+(B^3);//calculation of gaamma for Peng-Robinson equation of state using Table (3.2)\n",
"p=beeta-(alpha^2)/3;//calculation of p to determine the roots of the cubic equation using Eq.(3.29)\n",
"q=((2*alpha^3)/27)-((alpha*beeta)/3)+gaamma;//calculation of q to determine the roots of the cubic equation using Eq.(3.30)\n",
"D=(((q)^2)/4)+(((p)^3)/27);//calculation of D to determine the nature of roots using Eq.(3.31)\n",
"\n",
"if D>0 then\n",
"        Z=((-q/2)+(sqrt(D)))^(1/3)+((-q/2)-(sqrt(D)))^(1/3)-(alpha/3);//One real root given by  Eq.(3.32)\n",
"else if D==0 then\n",
"        Z1=((-2*(q/2))^(1/3))-(alpha/3);//Three real roots and two equal given by Eq.(3.33)\n",
"        Z2=((q/2)^(1/3))-(alpha/3);\n",
"        Z3=((q/2)^(1/3))-(alpha/3);\n",
"        Za=[Z1 Z2 Z3];\n",
"        Z=max(Za);\n",
"    else\n",
"        theta=acos((-(q)/2)*(sqrt((-27)/(((p)^3)))));//calculation of theta in radians using Eq.(3.37)\n",
"        r=sqrt((-(p^3)/27));//calculation of r using Eq.(3.38)\n",
"        Z1=(2*(r^(1/3))*cos(theta/3))-(alpha/3);\n",
"        Z2=(2*(r^(1/3))*cos(((2*%pi)+theta)/3))-(alpha/3);//Three unequal real roots given by Eqs.(3.34,3.35 and 3.36)\n",
"        Z3=(2*(r^(1/3))*cos(((4*%pi)+theta)/3))-(alpha/3);\n",
"        Za=[Z1 Z2 Z3];\n",
"        Z=max(Za);\n",
"    end\n",
"end\n",
"da_dT=(-a*S)/(sqrt (alpha*T_ref*Tc));//calculation of da/dT using Eq.(8.47)\n",
"//calculation of the enthalpy departure using Eq.(8.45) in J/mol\n",
"dep_h=(R*T_ref*(Z-1))+(((((T_ref*da_dT)-a)/(2*sqrt(2)*b)))*(log ((Z+(B*(1+sqrt (2))))/(Z+(B*(1-sqrt (2)))))));\n",
"//calculation of the entropy departure using Eq.(8.46)in J/molK\n",
"dep_s=(R*log (Z-B))+((1/(2*sqrt (2)*b))*(da_dT)*(log ((Z+(B*(1+sqrt (2))))/(Z+(B*(1-sqrt (2)))))));\n",
"del_hb=-dep_h;//calculation of the enthalpy change corresponding to Step b in J/mol\n",
"del_sb=-dep_s;//calculation of the entropy change corresponding to Step b in J/molK\n",
"\n",
"//Step c:Change n-octane in the ideal gas state at T_ref and P2 to n-octane in the ideal gas state at T and P\n",
"//Calculation of the enthalpy change corresponding to Step c using Eq.(4.25) in kJ/mol\n",
" del_hc=((Cp(1,:)*(T-T_ref))+(((Cp(2,:))/2)*((T^2)-(T_ref^2)))+(((Cp(3,:))/3)*((T^3)-(T_ref^3)))+(((Cp(4,:))/4)*((T^4)-(T_ref^4)))-((Cp(5,:))*((1/T)-(1/T_ref))))*10^-3;\n",
"del_sc=((Cp(1,:))*log (T/T_ref))+((Cp(2,:))*(T-T_ref))+(((Cp(3,:))/2)*((T^2)-(T_ref^2)))+(((Cp(4,:))/3)*((T^3)-(T_ref^3)))-(((Cp(5,:))/2)*((1/(T^2))-(1/(T_ref^2))))-(R*log ((P*10^6)/(P2*10^3)));//calculation of the entropy change corresponding to Step c using Eq.(5.43) in J/molK\n",
"\n",
"//Step d: Change n-octane from the ideal gas state to the real state at T and P\n",
"Z=0.9151;//compressibility factor taken from Example (3.16) (no unit)\n",
"da_dT=(-a*S)/(sqrt (alpha*T*Tc));//calculation of da/dT using Eq.(8.47)\n",
"//calculation of the enthalpy change corresponding to Step d using Eq.(8.45) in J/mol\n",
"del_hd=(R*T*(Z-1))+((((T*da_dT)-a)/(2*sqrt(2)*b))*log ((Z+(B*(1+sqrt (2))))/(Z+(B*(1-sqrt (2))))));\n",
"//calculation of the entropy change corresponding to Step d using Eq.(8.46)in J/molK\n",
"del_sd=(R*log (Z-B))+((1/(2*sqrt (2)*b))*(da_dT)*(log ((Z+(B*(1+sqrt (2))))/(Z+(B*(1-sqrt (2)))))));\n",
"\n",
"h=h0+del_ha+(del_hb*10^-3)+del_hc+(del_hd*10^-3);//calculation of the enthalpy of n-octane vapour at T and P in kJ/mol\n",
"s=s0+del_sa+del_sb+del_sc+del_sd;//calculation of the entropy of n-octane vapour at T and P in J/molK\n",
"\n",
"//OUTPUT\n",
"mprintf('\n The enthalpy of n-octane vapour at 427.85K and 0.215MPa using the Peng-Robinson equation of state = %f kJ/mol\n',h);\n",
"mprintf('\n The entropy of n-octane vapour at 427.85K and 0.215MPa using the Peng-Robinson equation of state = %f J/mol K\n',s);\n",
"mprintf('\n The volume of n-octane vapour at 427.85K and 0.215MPa using the Peng-Robinson equation of state = %f m^3/mol\n',v)\n",
"\n",
"//===============================================END OF PROGRAM===================================================\n",
"\n",
"//DISCLAIMER: THE VOLUME OF n-OCTANE VAPOUR AS COMPUTED IN EXAMPLE 3.16 IS 15.14*10^-3 m^3/mol AND NOT 15.41*10^-3 m^3/mol AS PRINTED IN THIS EXAMPLE IN THE TEXTBOOK.\n",
""
   ]
   }
,
{
		   "cell_type": "markdown",
		   "metadata": {},
		   "source": [
			"## Example 8.2: Enthalpy_and_entropy_departure.sce"
		   ]
		  },
  {
"cell_type": "code",
	   "execution_count": null,
	   "metadata": {
	    "collapsed": true
	   },
	   "outputs": [],
"source": [
"// Y.V.C.Rao ,1997.Chemical Engineering Thermodynamics.Universities Press,Hyderabad,India.\n",
"\n",
"//Chapter-8,Example 2,Page 275\n",
"//Title: Enthalpy and entropy departure\n",
"//================================================================================================================\n",
"clear \n",
"clc\n",
"\n",
"//INPUT\n",
"T=427.85;//temperature of n-octane vapour in K\n",
"P=0.215;//pressure of n-octane vapour in MPa\n",
"a=3.789;//van der Waals constant in Pa (m^3/mol)^2\n",
"b=2.37*10^-4;//van der Waals constant in m^3/mol\n",
"v=15.675*10^-3;//volume occupied by n-octane vapour taken from Example (3.8) in m^3/mol\n",
"R=8.314;//universal gas constant in J/molK\n",
"\n",
"//CALCULATION\n",
"//n-octane obeys the van der Waals equation of state\n",
"dep_h=(P*10^6*v)-(R*T)-(a/v);//calculation of the enthalpy departure using Example(8.1) in J/mol\n",
"dep_s=R*log ((P*10^6*(v-b))/(R*T));//calculation of the entropy departure using Example(8.1) in J/molK\n",
"\n",
"//OUTPUT\n",
"mprintf('\n The enthalpy departure for n-octane vapour = %0.2f J/mol\n',dep_h);\n",
"mprintf('\n The entropy departure for n-octane vapour = %0.4f J/mol K\n',dep_s);\n",
"\n",
"//===============================================END OF PROGRAM==================================================="
   ]
   }
,
{
		   "cell_type": "markdown",
		   "metadata": {},
		   "source": [
			"## Example 8.3: Enthalpy_departure_using_Beattie_Bridgman_equation_of_state.sce"
		   ]
		  },
  {
"cell_type": "code",
	   "execution_count": null,
	   "metadata": {
	    "collapsed": true
	   },
	   "outputs": [],
"source": [
"// Y.V.C.Rao ,1997.Chemical Engineering Thermodynamics.Universities Press,Hyderabad,India.\n",
"\n",
"//Chapter-8,Example 3,Page 276\n",
"//Title: Enthalpy departure using Beattie-Bridgman equation of state\n",
"//================================================================================================================\n",
"clear \n",
"clc\n",
"\n",
"//INPUT\n",
"T=100;//temperature of carbon dioxide in degree celsius\n",
"P=10;//pressure of carbon dioxide in MPa\n",
"A0=0.5073;//Beattie-Bridgman constant for carbon dioxide in (Pa m^3)/mol^2\n",
"B0=104.76*10^-6;//Beattie-Bridgman constant for carbon dioxide in m^3/mol\n",
"a=71.32*10^-6;//Beattie-Bridgman constant for carbon dioxide in m^3/mol\n",
"b=72.35*10^-6;//Beattie-Bridgman constant for carbon dioxide in m^3/mol\n",
"C=660.0;//Beattie-Bridgman constant for carbon dioxide in (m^3 K^3)/mol\n",
"R=8.314;//universal gas constant in J/molK\n",
"\n",
"//CALCULATION\n",
"//The virial form of the Beattie-Bridgman equation of state from Eq.(8.25) is given as:\n",
"//P=(A1/v)+(A2/v^2)+(A3/v^3)+(A4/v^4)\n",
"\n",
"T=T+273.15;//conversion of temperature in K\n",
"A1=(R*T);//calculation of A1 using Eq.(8.27)\n",
"A2=(B0*R*T)-A0-((C*R)/T^2);//calculation of A2 using Eq.(8.28)\n",
"A3=(a*A0)-(b*B0*R*T)-((B0*C*R)/T^2);//calculation of A3 using Eq.(8.29)\n",
"A4=((b*C*B0*R)/T^2);//calculation of A4 using Eq.(8.30)\n",
"vguess=0.01;//taking a guess value of the volume,to be used for solving Eq.(8.25) using the function defined below, in m^3/mol\n",
"tolerance=1e-6;//Framing the tolerance limit for the convergence of the equation\n",
"function[fn]=solver_func(vi)\n",
"    fn=(P*10^6)-((A1/vi)+(A2/vi^2)+(A3/vi^3)+(A4/vi^4));//Function defined for solving the system given by Eq.(8.25)\n",
"endfunction\n",
"[v]=fsolve(vguess,solver_func,tolerance)//using inbuilt function fsolve for solving the system of equations, to determine the volume in m^3/mol\n",
"Z=(P*10^6*v)/(R*T);//calculation of compressibility factor (no unit)\n",
"//calculation of the enthalpy departure using Eq.(8.37) in J/mol\n",
"dep_h=(((B0*R*T)-(2*A0)-((4*C*R)/(T^2)))*(1/v))+((((3/2)*a*A0)-(b*B0*R*T)-((5*B0*C*R)/(2*(T^2))))*(1/(v^2)))+((2*b*C*B0*R)/((T^2)*(v^3)));\n",
"\n",
"//OUTPUT\n",
"mprintf('\n Molar volume of CO2 at %0.f MPa and %0.2f K = %f m^3/mol \n',P,T,v);\n",
"mprintf('\n The compressibility factor=%f \n',Z);\n",
"mprintf('\n The enthalpy departure for carbon dioxide using the Beattie-Bridgman equation of state = %f J/mol\n',dep_h);\n",
"\n",
"\n",
"//===============================================END OF PROGRAM===================================================\n",
"\n",
"//DISCLAIMER: THE PROBLEM STATEMENT GIVES THE TEMPERATURE AS 100 DEGREE CELSIUS, WHICH CORRESPONDS TO A TEMPERATURE OF 373.15K.  HOWEVER, IN THE COMPUTATION OF THE SECOND TERM IN THE ENTHALPY DEPARTURE EXPRESSION, THE AUTHOR HAS TAKEN THE TEMPERATURE TO BE  313.15K, WHICH CLEARLY IS A PRINTING ERROR. THE CODE ABOVE HAS BEEN WRITTEN FOR THE TEMPERATURE OF 373.15K, AS GIVEN IN THE PROBLEM STATEMENT.\n",
"\n",
""
   ]
   }
,
{
		   "cell_type": "markdown",
		   "metadata": {},
		   "source": [
			"## Example 8.4: Entropy_departure_using_Beattie_Bridgman_equation_of_state.sce"
		   ]
		  },
  {
"cell_type": "code",
	   "execution_count": null,
	   "metadata": {
	    "collapsed": true
	   },
	   "outputs": [],
"source": [
"// Y.V.C.Rao ,1997.Chemical Engineering Thermodynamics.Universities Press,Hyderabad,India.\n",
"\n",
"//Chapter-8,Example 4,Page 278\n",
"//Title: Entropy departure using Beattie-Bridgman equation of state\n",
"//================================================================================================================\n",
"clear \n",
"clc\n",
"\n",
"//INPUT\n",
"T=100;//temperature of carbon dioxide in degree celsius\n",
"P=10;//pressure of carbon dioxide in MPa\n",
"B0=104.76*10^-6;//Beattie-Bridgman constant for carbon dioxide in m^3/mol\n",
"b=72.35*10^-6;//Beattie-Bridgman constant for carbon dioxide in m^3/mol\n",
"C=660.0;//Beattie-Bridgman constant for carbon dioxide in (m^3 K^3)/mol\n",
"R=8.314;//universal gas constant in J/molK\n",
"v=0.233*10^-3;//volume calculated in Example (8.3) in m^3/mol\n",
"Z=0.751;//compressibility factor as calculated in Example (8.3) (no unit)\n",
"\n",
"//CALCULATION\n",
"T=T+273.15;//conversion of temperature in K\n",
"//calculation of entropy departure using Eq.(8.38) in J/molK\n",
"dep_s=(R*log (Z))-(((B0*R)+((2*C*R)/(T^3)))*(1/v))+(((b*B0*R)-((2*C*B0*R)/(T^3)))*(1/(2*(v^2))))+((2*b*C*B0*R)/(3*(T^3)*(v^3)));\n",
"\n",
"//OUTPUT\n",
"mprintf('\n The entropy departure for carbon dioxide using the Beattie-Bridgman equation of state = %f J/mol K\n',dep_s);\n",
"\n",
"\n",
"//===============================================END OF PROGRAM===================================================\n",
"\n",
"//DISCLAIMER: THE PROBLEM STATEMENT MENTIONS THE TEMPERATURE TO BE 100 DEGREE CELSIUS, WHICH CORRESPONDS TO A TEMPERATURE OF     373.15K. HOWEVER, THE AUTHOR HAS EVALUATED THE ENTROPY DEPARTURE FOR A TEMPERATURE OF 313.15K, WHICH IS CLEARLY A PRINTING ERROR. THE CODE ABOVE HAS BEEN WRITTEN FOR THE TEMPERATURE OF 373.15K  AS GIVEN IN THE PROBLEM STATEMENT."
   ]
   }
,
{
		   "cell_type": "markdown",
		   "metadata": {},
		   "source": [
			"## Example 8.5: EX8_5.sce"
		   ]
		  },
  {
"cell_type": "code",
	   "execution_count": null,
	   "metadata": {
	    "collapsed": true
	   },
	   "outputs": [],
"source": [
"// Y.V.C.Rao ,1997.Chemical Engineering Thermodynamics.Universities Press,Hyderabad,India.\n",
"\n",
"//Chapter-8,Example 5,Page 281\n",
"//Title: Enthalpy and entropy departure using the generalized Redlich-Kwong equation of state\n",
"//================================================================================================================\n",
"clear \n",
"clc\n",
"\n",
"//INPUT\n",
"T=427.85;//temperature of n-octane vapour in K\n",
"P=0.215;//pressure of n-octane vapour in MPa\n",
"a=4.426;//Redlich-Kwong constant taken from Example(3.9) in (m^6 Pa mol^-2)\n",
"b=164.3*10^-6;//Redlich-Kwong constant taken from Example(3.9) in m^3/mol\n",
"Z=0.9308;//compressibility factor taken from Example(3.9) (no unit)\n",
"B=9.9306*10^-3;//value of B, used in the Cardan's method in Example (3.9)\n",
"R=8.314;//universal gas constant in J/molK\n",
"\n",
"//CALCULATION\n",
"dep_h=(R*T*(Z-1))-(((3*a)/(2*b))*log ((Z+B)/Z));//calculation of the enthalpy departure using Eq.(8.39) in J/mol\n",
"dep_s=(R*log(Z-B))-((a/(2*b*T))*log((Z+B)/Z));//calculation of the entropy departure using Eq.(8.40) in J/molK\n",
"\n",
"//OUTPUT\n",
"mprintf('\n The enthalpy departure for n-octane vapour using the generalized Redlich-Kwong equation of state = %0.2f J/mol\n',dep_h);\n",
"mprintf('\n The entropy departure for n-octane vapour using the generalized Redlich-Kwong equation of state = %0.4f J/mol K\n',dep_s);\n",
"\n",
"//===============================================END OF PROGRAM==================================================="
   ]
   }
,
{
		   "cell_type": "markdown",
		   "metadata": {},
		   "source": [
			"## Example 8.6: Enthalpy_and_entropy_departure_using_the_SRK_equation_of_state.sce"
		   ]
		  },
  {
"cell_type": "code",
	   "execution_count": null,
	   "metadata": {
	    "collapsed": true
	   },
	   "outputs": [],
"source": [
"// Y.V.C.Rao ,1997.Chemical Engineering Thermodynamics.Universities Press,Hyderabad,India.\n",
"\n",
"//Chapter-8,Example 6,Page 281\n",
"//Title: Enthalpy and entropy departure using the SRK equation of state\n",
"//================================================================================================================\n",
"clear \n",
"clc\n",
"\n",
"//INPUT\n",
"T=427.85;//temperature of n-octane vapour in K\n",
"P=0.215;//pressure of n-octane vapour in MPa\n",
"S=1.0786;//constant used in the SRK equation of state,from Example(3.15)\n",
"alpha=1.3079;//constant used in the SRK equation of state,from Example(3.15)\n",
"a=5.0180;//constant used in the SRK equation of state,from Example(3.15) in (m^6 Pa mol^-2)\n",
"b=1.6426*10^-4;//constant used in the SRK equation of state,from Example(3.15) in m^3/mol\n",
"B=9.9282*10^-3;//factor used in the Cardan's method for solving the SRK equation of state,from Example(3.15) (no unit)\n",
"Z=0.9191;//compressibility factor taken from Example (3.15) (no unit)\n",
"R=8.314;//universal gas constant in J/molK\n",
"Tc=569.4;//critical temperature of n-octane in K\n",
"\n",
"//CALCULATION\n",
"da_dT=(-a*S)/(sqrt (alpha*T*Tc));//calculation of da/dT using Eq.(8.44)\n",
"dep_h=(R*T*(Z-1))+((((T*da_dT)-a)/b)*log ((Z+B)/Z));//calculation of the enthalpy departure using Eq.(8.42) in J/mol\n",
"dep_s=(R*log (Z-B))+((1/b)*(da_dT)*log ((Z+B)/Z));//calculation of the entropy departure using Eq.(8.43) in J/molK\n",
"\n",
"//OUTPUT\n",
"mprintf('\n The enthalpy departure for n-octane vapour using the SRK equation of state = %f J/mol\n',dep_h);\n",
"mprintf('\n The entropy departure for n-octane vapour using the SRK equation of state = %0.4f J/mol K\n',dep_s);\n",
"\n",
"//===============================================END OF PROGRAM===================================================\n",
"\n",
"// DISCLAIMER: NUMERICAL ERROR OBSERVED IN ENTHALPY DEPARTURE FUNCTION CALCULATION. FOR THE GIVEN INPUT DATA, THE ANSWER GIVEN IN THE BOOK '-890.22 J/mol' WAS FOUND TO BE NUMERICALLY INCORRECT."
   ]
   }
,
{
		   "cell_type": "markdown",
		   "metadata": {},
		   "source": [
			"## Example 8.7: Enthalpy_and_entropy_departure_using_the_Peng_Robinson_equation_of_state.sce"
		   ]
		  },
  {
"cell_type": "code",
	   "execution_count": null,
	   "metadata": {
	    "collapsed": true
	   },
	   "outputs": [],
"source": [
"// Y.V.C.Rao ,1997.Chemical Engineering Thermodynamics.Universities Press,Hyderabad,India.\n",
"\n",
"//Chapter-8,Example 7,Page 282\n",
"//Title: Enthalpy and entropy departure using the Peng-Robinson equation of state\n",
"//================================================================================================================\n",
"clear \n",
"clc\n",
"\n",
"//INPUT\n",
"T=427.85;//temperature of n-octane vapour in K\n",
"P=0.215;//pressure of n-octane vapour in MPa\n",
"S=0.9457;//constant used in the Peng-Robinson equation of state,from Example(3.16)\n",
"alpha=1.2677;//constant used in the Peng-Robinson equation of state,from Example(3.16)\n",
"a=5.2024;//constant used in the Peng-Robinson equation of state,from Example(3.16) in (m^6 Pa mol^-2)\n",
"b=1.4750*10^-4;//constant used in the Peng-Robinson equation of state,from Example(3.16) in m^3/mol\n",
"B=8.9151*10^-3;//factor used in the Cardan's method for solving the Peng-Robinson equation of state,from Example(3.16) (no unit)\n",
"Z=0.9151;//compressibility factor taken from Example (3.16) (no unit)\n",
"R=8.314;//universal gas constant in J/molK\n",
"Tc=569.4;//critical temperature of n-octane in K\n",
"\n",
"//CALCULATION\n",
"da_dT=(-a*S)/(sqrt (alpha*T*Tc));//calculation of da/dT using Eq.(8.47)\n",
"//calculation of the enthalpy departure using Eq.(8.45) in J/mol\n",
"dep_h=(R*T*(Z-1))+(((((T*da_dT)-a)/(2*sqrt(2)*b)))*(log ((Z+(B*(1+sqrt (2))))/(Z+(B*(1-sqrt (2)))))));\n",
"dep_s=(R*log (Z-B))+((1/(2*sqrt (2)*b))*(da_dT)*(log ((Z+(B*(1+sqrt (2))))/(Z+(B*(1-sqrt (2)))))));//calculation of the entropy departure using Eq.(8.46)in J/molK\n",
"\n",
"//OUTPUT\n",
"mprintf('\n The enthalpy departure for n-octane vapour using the Peng-Robinson equation of state = %0.1f J/mol\n',dep_h);\n",
"mprintf('\n The entropy departure for n-octane vapour using the Peng-Robinson equation of state = %0.3f J/mol K\n',dep_s);\n",
"\n",
"//===============================================END OF PROGRAM==================================================="
   ]
   }
,
{
		   "cell_type": "markdown",
		   "metadata": {},
		   "source": [
			"## Example 8.8: Enthalpy_and_entropy_departure_using_the_Edmister_charts.sce"
		   ]
		  },
  {
"cell_type": "code",
	   "execution_count": null,
	   "metadata": {
	    "collapsed": true
	   },
	   "outputs": [],
"source": [
"// Y.V.C.Rao ,1997.Chemical Engineering Thermodynamics.Universities Press,Hyderabad,India.\n",
"\n",
"//Chapter-8,Example 8,Page 284\n",
"//Title: Enthalpy and entropy departure using the Edmister charts\n",
"//================================================================================================================\n",
"clear \n",
"clc\n",
"\n",
"//INPUT\n",
"T=339.7;//temperature of ethylene in K\n",
"P=30.7;//pressure of ethylene in bar\n",
"Tc=283.1;//critical temperature of ethylene in K\n",
"Pc=51.17;//critical pressure of ethylene in bar\n",
"w=0.089;//acentric factor (no unit)\n",
"R=8.314;//universal gas constant in J/molK\n",
"\n",
"//CALCULATION\n",
"Pr=P/Pc;//calculation of reduced pressure (no unit)\n",
"Tr=T/Tc;//calculation of reduced temperature (no unit)\n",
"del_h0=0.45;//value of ((h0-h)/RTc)_0 read from Fig.(8.2) corresponding to Pr and Tr (no unit)\n",
"del_h1=0.18;//value of ((h0-h)/RTc)_1 read from Fig.(8.3) corresponding to Pr and Tr (no unit)\n",
"del_s0=0.26;//value of ((s0-s)/R)_0 read from Fig.(8.4) corresponding to Pr and Tr (no unit)\n",
"del_s1=0.20;//value of ((s0-s)/R)_1 read from Fig.(8.5) corresponding to Pr and Tr (no unit)\n",
"dep_h=((del_h0)+(w*del_h1))*R*Tc;//calculation of the enthalpy departure using Eq.(8.52) in J/mol\n",
"dep_s=((del_s0)+(w*del_s1))*R;//calculation of the entropy departure using Eq.(8.56) in J/molK\n",
"\n",
"//OUTPUT\n",
"mprintf('\n The enthalpy departure for ethylene using the Edmister charts = %0.3f J/mol\n',dep_h);\n",
"mprintf('\n The entropy departure for ethylene using the Edmister charts = %0.4f J/mol K\n',dep_s);\n",
"\n",
"//===============================================END OF PROGRAM===================================================\n",
"\n",
""
   ]
   }
,
{
		   "cell_type": "markdown",
		   "metadata": {},
		   "source": [
			"## Example 8.9: Enthalpy_and_entropy_departure_using_the_Lee_Kesler_data.sce"
		   ]
		  },
  {
"cell_type": "code",
	   "execution_count": null,
	   "metadata": {
	    "collapsed": true
	   },
	   "outputs": [],
"source": [
"// Y.V.C.Rao ,1997.Chemical Engineering Thermodynamics.Universities Press,Hyderabad,India.\n",
"\n",
"//Chapter-8,Example 9,Page 297\n",
"//Title: Enthalpy and entropy departure using the Lee-Kesler data\n",
"//================================================================================================================\n",
"clear \n",
"clc\n",
"\n",
"//INPUT\n",
"T=339.7;//temperature of ethylene in K\n",
"P=30.7;//pressure of ethylene in bar\n",
"Tc=283.1;//critical temperature of ethylene in K\n",
"Pc=51.17;//critical pressure of ethylene in bar\n",
"w=0.089;//acentric factor (no unit)\n",
"R=8.314;//universal gas constant in J/molK\n",
"\n",
"//CALCULATION\n",
"Pr=P/Pc;//calculation of reduced pressure (no unit)\n",
"Tr=T/Tc;//calculation of reduced temperature (no unit)\n",
"del_h0=0.474;//value of ((h0-h)/RTc)_0 read from Fig.(8.6) corresponding to Pr and Tr (no unit)\n",
"del_h1=0.232;//value of ((h0-h)/RTc)_1 read from Fig.(8.8) corresponding to Pr and Tr (no unit)\n",
"del_s0=0.277;//value of ((s0-s)/R)_0 read from Fig.(8.10) corresponding to Pr and Tr (no unit)\n",
"del_s1=0.220;//value of ((s0-s)/R)_1 read from Fig.(8.12) corresponding to Pr and Tr (no unit)\n",
"dep_h=((del_h0)+(w*del_h1))*R*Tc;//calculation of the enthalpy departure using Eq.(8.62) in J/mol\n",
"dep_s=((del_s0)+(w*del_s1))*R;//calculation of the entropy departure using Eq.(8.65) in J/molK\n",
"\n",
"//OUTPUT\n",
"mprintf('\n The enthalpy departure for ethylene using the Lee-Kesler data = %f J/mol\n',dep_h);\n",
"mprintf('\n The entropy departure for ethylene using the Lee-Kesler data = %f J/mol K\n',dep_s);\n",
"\n",
"//===============================================END OF PROGRAM===================================================\n",
"\n",
""
   ]
   }
],
"metadata": {
		  "kernelspec": {
		   "display_name": "Scilab",
		   "language": "scilab",
		   "name": "scilab"
		  },
		  "language_info": {
		   "file_extension": ".sce",
		   "help_links": [
			{
			 "text": "MetaKernel Magics",
			 "url": "https://github.com/calysto/metakernel/blob/master/metakernel/magics/README.md"
			}
		   ],
		   "mimetype": "text/x-octave",
		   "name": "scilab",
		   "version": "0.7.1"
		  }
		 },
		 "nbformat": 4,
		 "nbformat_minor": 0
}
