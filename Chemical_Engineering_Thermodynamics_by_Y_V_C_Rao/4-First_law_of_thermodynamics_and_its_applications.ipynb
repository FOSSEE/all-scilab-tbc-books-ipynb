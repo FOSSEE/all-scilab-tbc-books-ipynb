{
"cells": [
 {
		   "cell_type": "markdown",
	   "metadata": {},
	   "source": [
       "# Chapter 4: First law of thermodynamics and its applications"
	   ]
	},
{
		   "cell_type": "markdown",
		   "metadata": {},
		   "source": [
			"## Example 4.10: Final_temperature.sce"
		   ]
		  },
  {
"cell_type": "code",
	   "execution_count": null,
	   "metadata": {
	    "collapsed": true
	   },
	   "outputs": [],
"source": [
"// Y.V.C.Rao ,1997.Chemical Engineering Thermodynamics.Universities Press,Hyderabad,India.\n",
"\n",
"//Chapter-4,Example 10,Page 105\n",
"//Title:Final temperature\n",
"//================================================================================================================\n",
"clear \n",
"clc\n",
"\n",
"//INPUT\n",
"N=100;//number of moles of carbon dioxide in mol\n",
"T1=298;//initial temperature in K\n",
"Q=1;//energy added as heat in MJ\n",
"a=45.369;//coefficient in the specific heat capacity expression where Cp=a+bT+eT^-2\n",
"b=8.688*10^-3;//coefficient in the specific heat capacity expression where Cp=a+bT+eT^-2\n",
"e=-9.619*10^5;//coefficient in the specific heat capacity expression where Cp=a+bT+eT^-2\n",
"//Where Cp is in J/molK\n",
"\n",
"//CALCULATION\n",
"delh=Q*10^6/N;//calculation of enthalpy in J\n",
"Tguess=520;//The final temperature guess value in K used for solving the system of equations\n",
"//The system of equations are defined by :\n",
"//T2=T1+(delh/Cpm)--->A\n",
"//Cpm=a+(b*Tm)+(e/T1T2)--->B\n",
"Cpm_guess=a+(b*((T1+Tguess)/2))+(e/(T1*Tguess));//calculation of Cpm guess (in J/molK) to be used to determine T2 from Equation A\n",
"T2_guess=T1+(delh/Cpm_guess);//calculation of T2 using Equation A (in K) based on the value of Cpm guess computed using Equation B\n",
"tolerance=1e-6;//defining the tolerance limit to obtain convergence\n",
"while abs(T2_guess-Tguess)>tolerance\n",
"    Tguess=T2_guess;\n",
"    Cpm_guess=a+(b*((T1+Tguess)/2))+(e/(T1*Tguess));\n",
"    T2_guess=T1+(delh/Cpm_guess);//the iteration process to solve the system of equations\n",
"end\n",
"T2=T2_guess;//value of the final temperature of CO2 obtained upon solving the system of equations(A and B) in K \n",
"\n",
"//OUTPUT\n",
"mprintf('\n The final temperature= %0.1f K\n',T2);\n",
"\n",
"//===============================================END OF PROGRAM==================================================="
   ]
   }
,
{
		   "cell_type": "markdown",
		   "metadata": {},
		   "source": [
			"## Example 4.11: Final_temperature_Pressure_and_work_done_in_adiabatic_process.sce"
		   ]
		  },
  {
"cell_type": "code",
	   "execution_count": null,
	   "metadata": {
	    "collapsed": true
	   },
	   "outputs": [],
"source": [
"// Y.V.C.Rao ,1997.Chemical Engineering Thermodynamics.Universities Press,Hyderabad,India.\n",
"\n",
"//Chapter-4,Example 11,Page 107\n",
"//Title:Final temperature,Pressure and work done in adiabatic process\n",
"//================================================================================================================\n",
"clear \n",
"clc\n",
"\n",
"//INPUT\n",
"volume_ratio=1/15;//final volume to the initial volume of air at the end of compression stroke (no unit)\n",
"gaamma=1.4;//ratio of the molar heat capacities at constant pressure and constant volume for air (no unit)\n",
"T1=300;//initial temperature of air in K\n",
"P1=0.1;//initial pressure of air in MPa\n",
"R=8.314;//universal gas constant in J/molK\n",
"\n",
"//CALCULATION\n",
"T2=T1*((1/volume_ratio)^(gaamma-1));//calculation of final temperature in K using Eq.(4.32)\n",
"P2=P1*((1/volume_ratio)^(gaamma));//calculation of final pressure in MPa using Eq.(4.34)\n",
"W=(R*(T1-T2)*10^-3)/(gaamma-1);//calculation of work to be done on the system in kJ/mol using Eq.(4.31)\n",
"\n",
"//OUTPUT\n",
"mprintf('\n The final temperature= %0.2f K\n',T2);\n",
"mprintf('\n The final pressure= %0.4f MPa\n',P2);\n",
"mprintf('\n Work done per mole of air= %0.3f kJ/mol\n',W);\n",
"\n",
"//===============================================END OF PROGRAM===================================================\n",
""
   ]
   }
,
{
		   "cell_type": "markdown",
		   "metadata": {},
		   "source": [
			"## Example 4.12: Final_temperature_Pressure_work_done_and_heat_interaction_in_polytropic_process.sce"
		   ]
		  },
  {
"cell_type": "code",
	   "execution_count": null,
	   "metadata": {
	    "collapsed": true
	   },
	   "outputs": [],
"source": [
"// Y.V.C.Rao ,1997.Chemical Engineering Thermodynamics.Universities Press,Hyderabad,India.\n",
"\n",
"//Chapter-4,Example 12,Page 110\n",
"//Title:Final temperature Pressure work done and heat interaction in polytropic process\n",
"//================================================================================================================\n",
"clear \n",
"clc\n",
"\n",
"//INPUT\n",
"volume_ratio=1/15;//final volume to the initial volume of ideal gas at the end of compression (no unit)\n",
"T1=300;//initial temperature of ideal gas in K\n",
"P1=0.1;//initial pressure of ideal gas in MPa\n",
"R=8.314;//universal gas constant in J/molK\n",
"n=1.2;//index of expansion (no unit)\n",
"gaamma=1.4;//ratio of the molar heat capacities at constant pressure and constant volume for ideal gas (no unit)\n",
"\n",
"//CALCULATION\n",
"P2=P1*((1/volume_ratio)^n);//calculation of final pressure in MPa using Eq.(4.37)\n",
"T2=T1*(P2/P1)*(volume_ratio);//calculation of final temperature in K (since the gas is taken to be ideal, (P1*V1)/T1=(P2*V2)/T2))\n",
"W=(R*(T1-T2)*10^-3)/(n-1);//calculation of work to be done on the system in kJ/mol using Eq.(4.38)\n",
"del_u=(R*(T2-T1)*10^-3)/(gaamma-1);//calculation of the change in the internal energy in kJ/mol using Eq.(4.28 and 4.29) (del_u=Cv*(T2-T1) and Cv=R/(gaamma-1))\n",
"q=del_u+W;//calculation of the heat interaction during the process in kJ/mol using the first law of thermodynamics\n",
"\n",
"//OUTPUT\n",
"mprintf('\n The final pressure= %0.3f MPa\n',P2);\n",
"mprintf('\n The final temperature= %0.1f K\n',T2);\n",
"mprintf('\n Work done on the gas= %f kJ/mol\n',W);\n",
"mprintf('\n Heat interaction during the process= %f kJ/mol\n',q);\n",
"\n",
"//===============================================END OF PROGRAM===================================================\n",
"\n",
""
   ]
   }
,
{
		   "cell_type": "markdown",
		   "metadata": {},
		   "source": [
			"## Example 4.13: Final_temperature_and_amount_of_gas_entering_the_tank.sce"
		   ]
		  },
  {
"cell_type": "code",
	   "execution_count": null,
	   "metadata": {
	    "collapsed": true
	   },
	   "outputs": [],
"source": [
"// Y.V.C.Rao ,1997.Chemical Engineering Thermodynamics.Universities Press,Hyderabad,India.\n",
"\n",
"//Chapter-4,Example 13,Page 112\n",
"//Title:Final temperature and amount of gas entering the tank\n",
"//================================================================================================================\n",
"clear \n",
"clc\n",
"\n",
"//INPUT\n",
"V=1;//volume of tank in m^3\n",
"T0=300;//initial temperature of ideal gas in K\n",
"P0=0.1;//initial pressure of ideal gas in MPa\n",
"T=500;//temperature of ideal gas in the pipeline in K\n",
"P=3;//pressure of ideal gas in the pipeline in MPa\n",
"R=8.314;//universal gas constant in J/molK\n",
"gaamma=1.4;//ratio of the molar heat capacities at constant pressure and constant volume for ideal gas (no unit)\n",
"\n",
"//CALCULATION\n",
"Pf=3;//final pressure reached in the tank in MPa\n",
"//calculation of final temperature of the gas in the tank in K using Eq.(4.44) (and applying u=Cv*T, h=Cp*T and N=P*V/R*T as the gas is taken to be ideal)\n",
"Tf=(Pf*10^6)/((((Pf*10^6)-(P0*10^6))/(gaamma*T))+((P0*10^6)/T0));\n",
"//calculation of the moles of ideal gas entering into the tank using Eq.(4.44) (and applying u=Cv*T, h=Cp*T and N=P*V/R*T as the gas is taken to be ideal)\n",
"N=(V/R)*(((Pf*10^6)/Tf)-((P0*10^6)/T0));\n",
"\n",
"//OUTPUT\n",
"mprintf('\n The final temperature= %0.1f K\n',Tf);\n",
"mprintf('\n The amount of gas that has entered the tank= %0.2f mol\n',N);\n",
"\n",
"//===============================================END OF PROGRAM===================================================\n",
"\n",
"\n",
""
   ]
   }
,
{
		   "cell_type": "markdown",
		   "metadata": {},
		   "source": [
			"## Example 4.14: Final_state_and_mass_of_steam_that_entered_the_tank.sce"
		   ]
		  },
  {
"cell_type": "code",
	   "execution_count": null,
	   "metadata": {
	    "collapsed": true
	   },
	   "outputs": [],
"source": [
"// Y.V.C.Rao ,1997.Chemical Engineering Thermodynamics.Universities Press,Hyderabad,India.\n",
"\n",
"//Chapter-4,Example 14,Page 113\n",
"//Title:Final state and mass of steam that entered the tank\n",
"//================================================================================================================\n",
"clear \n",
"clc\n",
"\n",
"//INPUT\n",
"V=3;//volume of tank in m^3\n",
"T0=100;//initial temperature of steam in degree celsius\n",
"T=300;//temperature of superheated steam in the pipeline in degree celsius\n",
"P=3;//pressure of superheated steam in the pipeline in MPa\n",
"R=8.314;//universal gas constant in J/molK\n",
"\n",
"//CALCULATION\n",
"Ps=101.33;//pressure of saturated steam in kPa from steam tables corresponding to T0\n",
"vg=1.673;//specific volume of saturated vapour in m^3/kg obtained from steam tables corresponding to T0\n",
"hg=2676.0;//specific enthalpy of saturated vapour in kJ/kg obtained from steam tables corresponding to T0\n",
"h=2995.1;//specific enthalpy of superheated steam in kJ/kg obtained from superheated steam tables corresponding to T and P\n",
"u0=((hg*10^3)-(Ps*10^3*vg))*10^-3;//calculation of initial internal energy of steam in kJ/mol using the first law of thermodynamics for the adiabatic charging of a tank\n",
"m0=V/vg;//calculation of mass of steam initially in the tank in kg\n",
"//The first law of thermodynamics for the adiabatic charging of a tank is given by:\n",
"//mfuf-m0u0=(mf-m0)h. This equation is to be solved to determine mf\n",
"\n",
"Tf=418;// assuming final temperature of superheated steam in degree celsius\n",
"//For superheated steam at P and Tf\n",
"vf=0.102329;//specific volume of superheated steam in m^3/kg\n",
"uf=2965.78;//internal energy of the superheated steam in kJ/kg \n",
"\n",
"mf_guess=V/vf;//taking a guess value for the mass of steam inside the tank at the end of the charging operation,in kg\n",
"\n",
"function[fn]=solver_func(ui)\n",
"//Function defined for solving the system to determine the internal energy of steam inside the tank at the end of the charging operation in kJ/kg using Eq.(4.44, where Q=0 as the process is adiabatic)\n",
"    fn=(mf_guess*ui)-(m0*u0)-((mf_guess-m0)*h);\n",
"endfunction\n",
"[uf_solved]=fsolve(mf_guess,solver_func,1e-6)//using inbuilt function fsolve for solving the system of equations\n",
"mf=mf_guess//mass of the steam inside the tank at the end of the charging operation, in kg\n",
"mass=mf-m0;//calculation of mass of steam that entered the tank in kg\n",
"\n",
"//OUTPUT\n",
"mprintf('\n The final state of steam(superheated),Pressure=%d MPa\n',P);\n",
"mprintf('\n The final state of steam(superheated),Temperature=%d degree celsius\n',Tf);\n",
"mprintf('\n The mass of steam that entered the tank=%0.3f kg\n',mass);\n",
"\n",
"//===============================================END OF PROGRAM===================================================\n",
""
   ]
   }
,
{
		   "cell_type": "markdown",
		   "metadata": {},
		   "source": [
			"## Example 4.15: Final_temperature_and_amount_of_gas_escaping_the_cylinder.sce"
		   ]
		  },
  {
"cell_type": "code",
	   "execution_count": null,
	   "metadata": {
	    "collapsed": true
	   },
	   "outputs": [],
"source": [
"// Y.V.C.Rao ,1997.Chemical Engineering Thermodynamics.Universities Press,Hyderabad,India.\n",
"\n",
"//Chapter-4,Example 15,Page 115\n",
"//Title:Final temperature and amount of gas escaping the cylinder\n",
"//================================================================================================================\n",
"clear \n",
"clc\n",
"\n",
"//INPUT\n",
"V=0.1;//volume of cylinder in m^3\n",
"T0=300;//initial temperature of nitrogen in K\n",
"P0=14;//initial pressure of nitrogen in MPa\n",
"P=0.1;//ambient pressure in MPa\n",
"Pf=2;//final pressure of nitrogen in MPa\n",
"R=8.314;//universal gas constant in J/molK\n",
"gaamma=1.4;//ratio of the molar heat capacities at constant pressure and constant volume for nitrogen (no unit)\n",
"\n",
"//CALCULATION\n",
"//calculation of final temperature of the gas in the tank in K using Eq.(4.51) (and applying u=Cv*T, h=Cp*T and N=P*V/R*T as the gas is taken to be ideal)\n",
"function[fn]=solver_func(Ti)\n",
"    //Function defined for solving the system to determine the final temperature\n",
"    fn=((P0*10^6)-(Pf*10^6))-((gaamma/2)*(T0+Ti)*(((P0*10^6)/T0)-((Pf*10^6)/Ti)));\n",
"endfunction\n",
"Tguess=300;//The final temperature guess value in K used for solving the system of equations\n",
"[Tf]=fsolve(Tguess,solver_func,1e-6)//using inbuilt function fsolve for solving the system of equations\n",
"\n",
"//calculation of the moles of nitrogen escaping from the tank using Eq.(4.51) (and applying u=Cv*T, h=Cp*T and N=P*V/R*T as the gas is taken to be ideal)\n",
"N=(V/R)*(((P0*10^6)/T0)-((Pf*10^6)/Tf));\n",
"\n",
"//OUTPUT\n",
"mprintf('\n The final temperature= %0.1f K\n',Tf);\n",
"mprintf('\n The amount of gas that has escaped from the cylinder= %0.2f mol\n',N);\n",
"\n",
"//===============================================END OF PROGRAM===================================================\n",
"\n",
"\n",
""
   ]
   }
,
{
		   "cell_type": "markdown",
		   "metadata": {},
		   "source": [
			"## Example 4.16: Percentage_error.sce"
		   ]
		  },
  {
"cell_type": "code",
	   "execution_count": null,
	   "metadata": {
	    "collapsed": true
	   },
	   "outputs": [],
"source": [
"// Y.V.C.Rao ,1997.Chemical Engineering Thermodynamics.Universities Press,Hyderabad,India.\n",
"\n",
"//Chapter-4,Example 16,Page 118\n",
"//Title:Percentage error\n",
"//================================================================================================================\n",
"clear \n",
"clc\n",
"\n",
"//INPUT\n",
"T0=300;//initial temperature of superheated steam in degree celsius\n",
"P0=3;//initial pressure of superheated steam in MPa\n",
"Xe=0.85;//quality of steam leaving the turbine (no unit)\n",
"Tf=45;//final temperature of steam leaving the turbine in degree celsius\n",
"Vi=10;//velocity of steam at the entrance in m/s\n",
"Ve=40;//exit velocity of steam in m/s\n",
"Zi=10;//elevation at the entrance in m\n",
"Ze=4;//elevation at the exit in m\n",
"m=1;//mass flow rate of steam through turbine in kg/s\n",
"g=9.81;//accleration due to gravity in m/s^2\n",
"\n",
"//CALCULATION\n",
"hi=2995.1;//specific enthalpy of superheated steam in kJ/kg obtained from superheated steam tables corresponding to T0 and P0\n",
"hf=188.35;//specific enthalpy of saturated liquid in kJ/kg obtained from steam tables corresponding to Tf\n",
"hg=2583.3;//specific enthalpy of saturated vapour in kJ/kg obtained from steam tables corresponding to Tf\n",
"he=((1-Xe)*hf)+(Xe*hg);//calculation of specific enthalpy of steam at the exit in kJ/kg using Eq.(3.6)\n",
"Q=0;//adiabatic process\n",
"enthalpy_change=(he*10^3)-(hi*10^3);//calculation of the enthalpy change between the entrance and exit in J/kg\n",
"KE_change=((Ve^2)-(Vi^2))/2;//calculation of the kinetic energy change between the entrance and exit in J/kg\n",
"PE_change=g*(Ze-Zi);//calculation of the potential energy change between the entrance and exit in J/kg\n",
"Ws=Q-(m*(enthalpy_change+KE_change+PE_change)*10^-3);//calculation of power output in kW using Eq.(4.61)\n",
"err_KE=((KE_change)/(Ws*10^3))*100;//calculation of percentage error when kinetic energy change is ignored\n",
"err_PE=((abs (PE_change)/(Ws*10^3)))*100;//calculation of percentage error when potential energy change is ignored\n",
"err=err_KE+err_PE;//calculation of percentage error when both potential kinetic energy changes are ignored\n",
"\n",
"//OUTPUT\n",
"mprintf('\n The percentage error when Kinetic energy change is ignored= %0.3f \n',err_KE);\n",
"mprintf('\n The percentage error when Potential energy change is ignored= %0.4f \n',err_PE);\n",
"mprintf('\n The percentage error when both Kinetic and Potential energy changes are ignored= %f \n',err);\n",
"\n",
"//===============================================END OF PROGRAM==================================================="
   ]
   }
,
{
		   "cell_type": "markdown",
		   "metadata": {},
		   "source": [
			"## Example 4.17: Exit_velocity.sce"
		   ]
		  },
  {
"cell_type": "code",
	   "execution_count": null,
	   "metadata": {
	    "collapsed": true
	   },
	   "outputs": [],
"source": [
"// Y.V.C.Rao ,1997.Chemical Engineering Thermodynamics.Universities Press,Hyderabad,India.\n",
"\n",
"//Chapter-4,Example 17,Page 119\n",
"//Title:Exit velocity\n",
"//================================================================================================================\n",
"clear \n",
"clc\n",
"\n",
"//INPUT\n",
"Pi=5;//pressure of dry saturated steam at the entrance in bar\n",
"Pe=2;//pressure of dry saturated steam at the exit in bar\n",
"Vi=3;//velocity of dry saturated steam at the entrance in m/s\n",
"m=1;//flow rate of steam through the nozzle in kg/s\n",
"g=9.81;//acceleration due to gravity in m/s^2\n",
"\n",
"//CALCULATION\n",
"hi=2747.5;//specific enthalpy in kJ/kg of the dry saturated steam at the entrance taken from steam tables corresponding to Pi\n",
"he=2706.3;//specific enthalpy in kJ/kg of the dry saturated steam at the exit taken from steam tables corresponding to Pe\n",
"ve=0.8854;//specific volume in m^3/kg of the dry saturated steam at the exit taken from steam tables corresponding to Pe\n",
"Zi=0;//assuming that the nozzle is horizontal\n",
"Ze=0;//assuming that the nozzle is horizontal\n",
"Q=0;//adiabatic process\n",
"Ws=0;//since no shaft work is done \n",
"Ve=sqrt (2*(((Q-Ws)/m)-(g*(Zi-Ze))-((he*10^3)-(hi*10^3)))+(Vi^2));//calculation of velocity at the exit in m/s using Eq.(4.61)\n",
"A=(m*ve)/Ve;//calculation of cross sectional area of the nozzle at the exit in m^2\n",
"\n",
"//OUTPUT\n",
"mprintf('\n The velocity of dry saturated steam at the exit= %0.2f m/s\n',Ve);\n",
"mprintf('\n The cross sectional area of the nozzle at the exit= %0.3e m^2\n',A);\n",
"\n",
"//===============================================END OF PROGRAM===================================================\n",
""
   ]
   }
,
{
		   "cell_type": "markdown",
		   "metadata": {},
		   "source": [
			"## Example 4.18: Quality_of_wet_steam.sce"
		   ]
		  },
  {
"cell_type": "code",
	   "execution_count": null,
	   "metadata": {
	    "collapsed": true
	   },
	   "outputs": [],
"source": [
"// Y.V.C.Rao ,1997.Chemical Engineering Thermodynamics.Universities Press,Hyderabad,India.\n",
"\n",
"//Chapter-4,Example 18,Page 123\n",
"//Title:Quality of wet steam\n",
"//================================================================================================================\n",
"clear \n",
"clc\n",
"\n",
"//INPUT\n",
"T1=270;//temperature of wet steam in degree celsius\n",
"T2=120;//final temperature of superheated steam in degree celsius\n",
"P=0.1;//pressure of superheated steam in MPa\n",
"\n",
"//CALCULATION\n",
"hf=1185.2;//specific enthaply of saturated liquid in kJ/kg obtained from steam tables corresponding to T1\n",
"hg=2789.9;//specific enthalpy of saturated vapour in kJ/kg obtained from stean tables corresponding to T1\n",
"he=2716.04;//specific enthalpy of superheated steam in kJ/kg obtained from superheated steam tables corresponding to T2 obtained by interpolation\n",
"Xi=(he-hf)/(hg-hf);//calculation of quality of steam using Eq.(3.6) (no unit)\n",
"\n",
"//OUTPUT\n",
"mprintf('\n The quality of wet steam= %0.3f \n',Xi);\n",
"\n",
"//===============================================END OF PROGRAM===================================================\n",
"\n",
""
   ]
   }
,
{
		   "cell_type": "markdown",
		   "metadata": {},
		   "source": [
			"## Example 4.1: Net_work_done_by_the_system.sce"
		   ]
		  },
  {
"cell_type": "code",
	   "execution_count": null,
	   "metadata": {
	    "collapsed": true
	   },
	   "outputs": [],
"source": [
"// Y.V.C.Rao ,1997.Chemical Engineering Thermodynamics.Universities Press,Hyderabad,India.\n",
"\n",
"//Chapter-4,Example 1,Page 94\n",
"//Title:Net work done by the system\n",
"//================================================================================================================\n",
"clear \n",
"clc\n",
"\n",
"//INPUT\n",
"Q1=50;//Energy added as heat in kJ when the system undergoes a process 1-2\n",
"W1=30;//Work done by the system in kJ during the process 1-2\n",
"Q2=-40;//Energy rejected as heat in kJ during the process 2-3\n",
"W2=-50;//Work done on the system in kJ during the process 2-3\n",
"Q3=0;//System undergoes an adiabatic process to return to initial state\n",
"\n",
"//CALCULATION\n",
"U2_1=Q1-W1;//calculation of net change in energy in kJ during process 1-2 using Eq.(4.5)\n",
"U3_2=Q2-W2;//calculation of net change in energy in kJ during process 2-3 using Eq.(4.5)\n",
"U1_3=(-U2_1)-(U3_2);//calculation of net change in energy in kJ during process 3-1 using Eq.(4.5)\n",
"W3=Q3-U1_3;//calculation of work by the system in kJ using Eq.(4.5)\n",
"net_work=W1+W2+W3;//calculation of net work done in kJ\n",
"\n",
"//OUTPUT\n",
"mprintf('\n The net work done by the system= %d kJ\n',net_work);\n",
"\n",
"//===============================================END OF PROGRAM==================================================="
   ]
   }
,
{
		   "cell_type": "markdown",
		   "metadata": {},
		   "source": [
			"## Example 4.20: Standard_enthalpy_change.sce"
		   ]
		  },
  {
"cell_type": "code",
	   "execution_count": null,
	   "metadata": {
	    "collapsed": true
	   },
	   "outputs": [],
"source": [
"// Y.V.C.Rao ,1997.Chemical Engineering Thermodynamics.Universities Press,Hyderabad,India.\n",
"\n",
"//Chapter-4,Example 20,Page 128\n",
"//Title:Standard enthalpy change\n",
"//================================================================================================================\n",
"clear \n",
"clc\n",
"\n",
"//INPUT\n",
"del_H=-90.135;//standard enthalpy change for the reaction CO(g)+2H2(g)--->CH3OH(g) at 298.15K in kJ\n",
"\n",
"//CALCULATION\n",
"del_H1=2*del_H;//calculation of standard enthalpy change for the reaction 2CO(g)+4H2(g)--->2CH3OH(g) at 298.15K in kJ\n",
"del_H2=(1/2)*del_H;//calculation of standard enthalpy change for the reaction (1/2)CO(g)+H2(g)--->(1/2)CH3OH(g) at 298.15K in kJ\n",
"\n",
"//OUTPUT\n",
"mprintf('\n The standard enthalpy change for the reaction 2CO(g)+4H2(g)---->2CH3OH(g) at 298.15K= %0.2f kJ\n',del_H1);\n",
"mprintf('\n The standard enthalpy change for the reaction (1/2)CO(g)+H2(g)---->(1/2)CH3OH(g) at 298.15K= %0.4f kJ\n',del_H2 );\n",
"\n",
"//===============================================END OF PROGRAM==================================================="
   ]
   }
,
{
		   "cell_type": "markdown",
		   "metadata": {},
		   "source": [
			"## Example 4.22: Standard_enthalpy_change_for_the_reaction_from_standard_enthalpies_of_formation.sce"
		   ]
		  },
  {
"cell_type": "code",
	   "execution_count": null,
	   "metadata": {
	    "collapsed": true
	   },
	   "outputs": [],
"source": [
"// Y.V.C.Rao ,1997.Chemical Engineering Thermodynamics.Universities Press,Hyderabad,India.\n",
"\n",
"//Chapter-4,Example 22,Page 130\n",
"//Title:Standard enthalpy change for the reaction from standard enthalpies of formation\n",
"//================================================================================================================\n",
"clear \n",
"clc\n",
"\n",
"//INPUT\n",
"del_Hf_C4H10=-74.943;//standard enthalpy of formation of C4H10(g) at 298.15K in kJ\n",
"del_Hf_CO2=-393.978;//standard enthalpy of formation of CO2(g) at 298.15K in kJ\n",
"del_Hf_H2O=-241.997;//standard enthalpy of formation of H2O(g) at 298.15K in kJ\n",
"\n",
"//CALCULATION\n",
"\n",
"//calculation of the standard enthalpy change for the reaction C4H10(g)+(13/2)O2(g)--->4CO2(g)+5H2O(g) at 298.15K in kJ\n",
"// by using the standard enthalpy of formation data where the formation reactions are:\n",
"// 4C(s)+5H2(g)--->C4H10(g)--->A\n",
"//C(s)+O2(g)--->CO2(g)---->B\n",
"//H2(g)+(1/2)O2(g)--->H2O(g)---->C\n",
"//del_Hr=5(C)+4(B)-(A)\n",
"\n",
"del_Hr=(5*del_Hf_H2O)+(4*del_Hf_CO2)-(del_Hf_C4H10);\n",
"\n",
"//OUTPUT\n",
"mprintf('\n The standard enthalpy change for the reaction C4H10(g)+(13/2)O2(g)---->4CO2(g)+5H2O(g) at 298.15K= %0.3f kJ\n',del_Hr);\n",
"\n",
"//===============================================END OF PROGRAM==================================================="
   ]
   }
,
{
		   "cell_type": "markdown",
		   "metadata": {},
		   "source": [
			"## Example 4.23: EX4_23.sce"
		   ]
		  },
  {
"cell_type": "code",
	   "execution_count": null,
	   "metadata": {
	    "collapsed": true
	   },
	   "outputs": [],
"source": [
"// Y.V.C.Rao ,1997.Chemical Engineering Thermodynamics.Universities Press,Hyderabad,India.\n",
"\n",
"//Chapter-4,Example 23,Page 131\n",
"//Title:Standard enthalpy change for the reaction from standard enthalpies of formation (2)\n",
"//================================================================================================================\n",
"clear \n",
"clc\n",
"\n",
"//INPUT\n",
"del_Hf_C4H10=-74.943;//standard enthalpy of formation of C4H10(g) at 298.15K in kJ\n",
"del_Hf_CO2=-393.978;//standard enthalpy of formation of CO2(g) at 298.15K in kJ\n",
"del_Hf_H2O=-241.997;//standard enthalpy of formation of H2O(g) at 298.15K in kJ\n",
"del_H_vap=43.966;//enthalpy of vaporization of H2O at 298.15K in kJ/mol\n",
"\n",
"//CALCULATION\n",
"\n",
"//calculation of the standard enthalpy change for the reaction C4H10(g)+(13/2)O2(g)--->4CO2(g)+5H2O(l)--->A at 298.15K in kJ\n",
"//The above reaction A can be expressed as a sum of the following two reactions:\n",
"//C4H10(g)+(13/2)O2(g)--->4CO2(g)+5H2O(g) --->B\n",
"//5H2O(g)--->5H2O(l)--->C\n",
"//Reaction C represents the physical change H2O((g);25 degree celsius,1 bar)--->H2O((l);25 degree celsius,1 bar), which can be expressed as:\n",
"//a-->H2O((g);25 degree celsius,1 bar)--->H2O((g);25 degree celsius,Ps)---->del_H1\n",
"//b-->H2O((g);25 degree celsius,Ps)--->H2O((l);25 degree celsius,Ps)--->del_H2\n",
"//c-->H2O((l);25 degree celsius,Ps)--->H2O((l);25 degree celsius,1 bar)--->del_H3, where Ps is the saturation pressure at 25 degree celsius\n",
"//The overall enthalpy change therefore is given as del_H0=del_H1+del_H2+del_H3\n",
"\n",
"del_H1=0;//vapour phase at low pressures behaves like an ideal gas therefore the enthalpy change is zero\n",
"del_H2=5*(-del_H_vap);//calculation of the enthalpy of reaction b in kJ\n",
"del_H3=0;//effect of pressure on the enthalpy of liquids is negligible\n",
"\n",
"//calculation of the standard enthalpy change for the reaction C4H10(g)+(13/2)O2(g)--->4CO2(g)+5H2O(g) at 298.15K in kJ, from Example (4.22)\n",
"//by using the standard enthalpy of formation data where the formation reactions are:\n",
"//4C(s)+5H2(g)--->C4H10(g)\n",
"//C(s)+O2(g)--->CO2(g)\n",
"//H2(g)+(1/2)O2(g)--->H2O(g)\n",
"del_H=(5*del_Hf_H2O)+(4*del_Hf_CO2)-(del_Hf_C4H10);\n",
"del_net_H=(del_H)+(del_H1)+(del_H2)+(del_H3);//calculation of the standard enthalpy change for the reaction C4H10(g)+(13/2)O2(g)-->4CO2(g)+5H2O(l) at298.15K in kJ\n",
"\n",
"//OUTPUT\n",
"mprintf('\n The standard enthalpy change for the reaction C4H10(g)+(13/2)O2(g)---->4CO2(g)+5H2O(l) at 298.15K= %0.3f kJ\n',del_net_H);\n",
"\n",
"//===============================================END OF PROGRAM==================================================="
   ]
   }
,
{
		   "cell_type": "markdown",
		   "metadata": {},
		   "source": [
			"## Example 4.24: Standard_enthalpy_change_of_formation_of_n_butane_gas.sce"
		   ]
		  },
  {
"cell_type": "code",
	   "execution_count": null,
	   "metadata": {
	    "collapsed": true
	   },
	   "outputs": [],
"source": [
"// Y.V.C.Rao ,1997.Chemical Engineering Thermodynamics.Universities Press,Hyderabad,India.\n",
"\n",
"//Chapter-4,Example 24,Page 132\n",
"//Title:Standard enthalpy change of formation of n-butane gas\n",
"//================================================================================================================\n",
"clear \n",
"clc\n",
"\n",
"//INPUT\n",
"del_H_comb=2880.44;//gross heating value of n-buatne gas at 298.15K in kJ/mol\n",
"del_Hf_CO2=-393.978;//standard enthalpy of formation of CO2(g) at 298.15K in kJ\n",
"del_Hf_H2O=-285.958;//standard enthalpy of formation of H2O(l) at 298.15K in kJ\n",
"del_Hf_O2=0;//standard enthalpy of formation of O2(g) at 298.15K in kJ\n",
"//CALCULATION\n",
"\n",
"//The combustion reaction is given by:\n",
"//C4H10(g)+(13/2)O2(g)--->4CO2(g)+5H2O(l)\n",
"//del_H_comb=(4*del_Hf_CO2)+(5*del_Hf_H2O)-(del_Hf_C4H10), from which del_Hf_C4H10 is computed\n",
"n_CO2=4;//stoichiometric coefficient (no unit)\n",
"n_H2O=5;//stoichiometric coefficient (no unit)\n",
"n_O2=-13/2;//stoichiometric coefficient (no unit)\n",
"n_C4H10=-1;//stoichiometric coefficient (no unit)\n",
"//computation of the standard enthaply of formation of n-butane gas at 298.15K in kJ\n",
"del_Hf_C4H10=(n_CO2*del_Hf_CO2)+(n_H2O*del_Hf_H2O)+(n_O2*del_Hf_O2)-(-del_H_comb);\n",
"\n",
"\n",
"//OUTPUT\n",
"mprintf('\n The standard enthalpy of formation of n-butane gas at 298.15K= %0.3f kJ\n',del_Hf_C4H10);\n",
"\n",
"//===============================================END OF PROGRAM==================================================="
   ]
   }
,
{
		   "cell_type": "markdown",
		   "metadata": {},
		   "source": [
			"## Example 4.25: Standard_enthalpy_change.sce"
		   ]
		  },
  {
"cell_type": "code",
	   "execution_count": null,
	   "metadata": {
	    "collapsed": true
	   },
	   "outputs": [],
"source": [
"// Y.V.C.Rao ,1997.Chemical Engineering Thermodynamics.Universities Press,Hyderabad,India.\n",
"\n",
"//Chapter-4,Example 25,Page 133\n",
"//Title:Standard enthalpy change \n",
"//================================================================================================================\n",
"clear \n",
"clc\n",
"\n",
"//INPUT\n",
"\n",
"//The reaction is: CH4(g)+H2O(g)--->CO(g)+3H2(g)\n",
"//The standard enthalpy change for the above reaction is determined by using the individual combustion reactions\n",
"//The combustion reactions are:\n",
"//A--->CH4(g)+2O2(g)--->CO2(g)+2H2O(l)--->del_Hc_A\n",
"//B--->CO(g)+(1/2)O2(g)--->CO2(g)--->del_Hc_B\n",
"//C--->H2(g)+(1/2)O2(g)--->H2O(l)--->del_Hc_C\n",
"//D--->H2O(g)--->H2O(l)--->del_H_vap\n",
"\n",
"del_Hc_A=-890.94;//enthalpy change accompanying reaction A in kJ\n",
"del_Hc_B=-283.18;//enthalpy change accompanying reaction B in kJ\n",
"del_Hc_C=-286.03;//enthalpy change accompanying reaction C in kJ\n",
"del_H_vap=-43.966;//enthalpy change of vaporization of H2O at 298.15K in kJ/mol\n",
"\n",
"//CALCULATION\n",
"del_H0=(del_Hc_A)-(del_Hc_B)-(3*del_Hc_C)+(del_H_vap);//calculation of the standard enthalpy change of the reaction in kJ\n",
"\n",
"//OUTPUT\n",
"mprintf('\n The standard enthalpy change at 298.15K for the reaction CH4(g)+H2O(g)--->CO(g)+3H2(g)= %0.3f kJ\n',del_H0);\n",
"\n",
"//===============================================END OF PROGRAM===================================================\n",
""
   ]
   }
,
{
		   "cell_type": "markdown",
		   "metadata": {},
		   "source": [
			"## Example 4.26: Standard_enthalpy_change_at_400K.sce"
		   ]
		  },
  {
"cell_type": "code",
	   "execution_count": null,
	   "metadata": {
	    "collapsed": true
	   },
	   "outputs": [],
"source": [
"// Y.V.C.Rao ,1997.Chemical Engineering Thermodynamics.Universities Press,Hyderabad,India.\n",
"\n",
"//Chapter-4,Example 26,Page 135\n",
"//Title:Standard enthalpy change at 400K\n",
"//================================================================================================================\n",
"clear \n",
"clc\n",
"\n",
"//INPUT\n",
"\n",
"//The reaction is : C2H4(g)+H2O(g)--->C2H5OH(g)\n",
"\n",
"del_H_vap=43.82;//enthalpy of vaporization of ethanol at 298.15K in kJ/mol\n",
"\n",
"//Data taken from Appendix tables A.3 and A.4 have been given below:\n",
"\n",
"del_Hf=[52.335;-241.997;0;-277.819];//standard enthalpies of formation of C2H4(g),H2O(g),C2H5OH(g),C2H5OH(l) at 298.15K in kJ\n",
"a=[4.196;28.850;20.691;0]//coefficients to compute isobaric molar heat capacity of C2H4(g),H2O(g),C2H5OH(g),C2H5OH(l) in J/molK\n",
"b=[154.565*10^-3;12.055*10^-3;205.346*10^-3;0]//coefficients to compute isobaric molar heat capacity of C2H4(g),H2O(g),C2H5OH(g),C2H5OH(l) in J/molK\n",
"c=[-81.076*10^-6;0;-99.793*10^-6;0]//coefficients to compute isobaric molar heat capacity of C2H4(g),H2O(g),C2H5OH(g),C2H5OH(l) in J/molK\n",
"d=[16.813*10^-9;0;18.825*10^-9;0]//coefficients to compute isobaric molar heat capacity of C2H4(g),H2O(g),C2H5OH(g),C2H5OH(l) in J/molK\n",
"e=[0;1.006*10^5;0;0];//coefficients to compute isobaric molar heat capacity of C2H4(g),H2O(g),C2H5OH(g),C2H5OH(l) in J/molK\n",
"//where Cp0=a+bT+cT^2+dT^3+eT^-2\n",
"\n",
"T1=298.15;//Ambient temeprature in K\n",
"T2=400;//temperature at which the standard enthalpy change has to be determined in K\n",
"n_C2H4=-1;//stoichiometric coefficient (no unit)\n",
"n_H2O=-1;//stoichiometric coefficient (no unit)\n",
"n_C2H5OH=1;//stoichiometric coefficient (no unit)\n",
"\n",
"//CALCULATION\n",
"\n",
"//The standard enthalpy of formation of C2H5OH(g) can be obtained from the following reactions:\n",
"//2C(s)+3H2(g)+(1/2)O2(g)--->C2H5OH(l)\n",
"//C2H5OH(l)--->C2H5OH(g)\n",
"\n",
"del_Hf_C2H5OH_g=del_Hf(4,:)+del_H_vap;//calculation of standard enthalpy of formation of C2H5OH(g) at 298.15K in kJ\n",
"del_Hr=(n_C2H5OH*del_Hf_C2H5OH_g)+(n_C2H4*del_Hf(1,:))+(n_H2O*del_Hf(2,:));//calculation of standard enthalpy change of reaction in kJ\n",
"del_a=(n_C2H4*a(1,:))+(n_H2O*a(2,:))+(n_C2H5OH*a(3,:));//calculation of del_a using Eq.(4.83)\n",
"del_b=(n_C2H4*b(1,:))+(n_H2O*b(2,:))+(n_C2H5OH*b(3,:));//calculation of del_b using Eq.(4.83)\n",
"del_c=(n_C2H4*c(1,:))+(n_H2O*c(2,:))+(n_C2H5OH*c(3,:));//calculation of del_c using Eq.(4.83)\n",
"del_d=(n_C2H4*d(1,:))+(n_H2O*d(2,:))+(n_C2H5OH*d(3,:));//calculation of del_d using Eq.(4.83)\n",
"del_e=(n_C2H4*e(1,:))+(n_H2O*e(2,:))+(n_C2H5OH*e(3,:));//calculation of del_e using Eq.(4.83)\n",
"del_H0=(del_Hr*10^3)-((del_a*T1)+((del_b/2)*T1^2)+((del_c/3)*T1^3)+((del_d/4)*T1^4)-(del_e/T1));//calculation del_H0 in kJ using Eq.(4.82)\n",
"//calculation of the standard enthalpy of reaction at 400K in kJ\n",
"del_Hr_T2=(del_H0+((del_a*T2)+((del_b/2)*T2^2)+((del_c/3)*T2^3)+((del_d/4)*T2^4)-(del_e/T2)))*10^-3;\n",
"\n",
"//OUTPUT\n",
"mprintf('\n The standard enthalpy change at 400K for the reaction C2H4(g)+H2O(g)--->C2H5OH(g)= %f kJ\n',del_Hr_T2);\n",
"\n",
"//===============================================END OF PROGRAM===================================================\n",
"\n",
"\n",
""
   ]
   }
,
{
		   "cell_type": "markdown",
		   "metadata": {},
		   "source": [
			"## Example 4.28: Flame_temperature.sce"
		   ]
		  },
  {
"cell_type": "code",
	   "execution_count": null,
	   "metadata": {
	    "collapsed": true
	   },
	   "outputs": [],
"source": [
"// Y.V.C.Rao ,1997.Chemical Engineering Thermodynamics.Universities Press,Hyderabad,India.\n",
"\n",
"//Chapter-4,Example 28,Page 137\n",
"//Title:Flame temperature\n",
"//================================================================================================================\n",
"clear \n",
"clc\n",
"\n",
"//INPUT\n",
" \n",
"//The combustion reaction of methane is given by:\n",
"// CH4(g)+2O2(g)--->CO2(g)+2H2O(g)\n",
"\n",
"n_O2=2;// stoichiometric amount of oxygen required for combustion\n",
"n_CH4=1;//number of moles of CH4(g) in moles\n",
"n_CO2=1;//number of moles of CO2(g) formed in the combustion reaction in moles\n",
"n_H2O=2;//number of moles of H2O(g) formed in the combustion reaction in moles\n",
"del_Hf=[-74.943;0;-393.978;-241.997];// standard enthalpies of formation of CH4(g),O2(g),CO2(g),H2O(g) at 298.15K in kJ\n",
"a=[45.369;28.850;30.255;27.270];//coefficients to compute isobaric molar heat capacity of CO2(g),H2O(g),O2(g),N2(g) in J/molK\n",
"b=[8.688*10^-3;12.055*10^-3;4.207*10^-3;4.930*10^-3];//coefficients to compute isobaric molar heat capacity of CO2(g),H2O(g),O2(g),N2(g) in J/molK\n",
"c=[0;0;0;0];//coefficients to compute isobaric molar heat capacity of CO2(g),H2O(g),O2(g),N2(g) in J/molK\n",
"d=[0;0;0;0];//coefficients to compute isobaric molar heat capacity of CO2(g),H2O(g),O2(g),N2(g) in J/molK\n",
"e=[-9.619*10^5;1.006*10^5;-1.887*10^5;0.333*10^5];//coefficients to compute isobaric molar heat capacity of CO2(g),H2O(g),O2(g),N2(g) in J/molK\n",
"per_excess_air=50; //percentage excess of air supplied to the adiabatic burner\n",
"T_amb=298.15;// temperature at which air and methane enter the burner in K\n",
"per_N2=79;//percentage of N2 in the air supplied\n",
"per_O2=21;//percentage of O2 in the air supplied\n",
"\n",
"//CALCULATION\n",
"n_O2_actual=(1+(per_excess_air/100))*n_O2;//calculation of the number of moles of oxygen actually present in the system in moles\n",
"n_N2=n_O2_actual*(per_N2/per_O2);//calculation of the number of moles of nitrogen actually present in the system in moles\n",
"n_O2_residual=n_O2_actual-n_O2;//calculation of excess oxygen leaving as product in moles\n",
"// The actual combustion reaction can be written as:\n",
"// CH4(g)+3O2(g)+11.286N2(g)--->CO2(g)+2H2O(g)+O2(g)+11.286N2(g)\n",
"\n",
"\n",
"del_Hr=(n_CO2*del_Hf(3,:))+(n_H2O*del_Hf(4,:))-(n_O2*del_Hf(2,:))-(n_CH4*del_Hf(1,:));//standard enthalpy of reaction at 298.15K in kJ\n",
"\n",
"//-delH_r=del_Hp\n",
"//deriving an expression for del_Hp:\n",
"\n",
"del_a=(n_CO2*a(1,:))+(n_H2O*a(2,:))+(n_O2_residual*a(3,:))+(n_N2*a(4,:));//calculation of del_a using Eq.(4.83)\n",
"del_b=(n_CO2*b(1,:))+(n_H2O*b(2,:))+(n_O2_residual*b(3,:))+(n_N2*b(4,:));//calculation of del_b using Eq.(4.83)\n",
"del_c=(n_CO2*c(1,:))+(n_H2O*c(2,:))+(n_O2_residual*c(3,:))+(n_N2*c(4,:));//calculation of del_c using Eq.(4.83)\n",
"del_d=(n_CO2*d(1,:))+(n_H2O*d(2,:))+(n_O2_residual*d(3,:))+(n_N2*d(4,:));//calculation of del_d using Eq.(4.83)\n",
"del_e=(n_CO2*e(1,:))+(n_H2O*e(2,:))+(n_O2_residual*e(3,:))+(n_N2*e(4,:));//calculation of del_a using Eq.(4.83)\n",
"tguess=500;//giving a guess value of temperature in K for using the inbuilt solver, fsolve to solve the system of equations below\n",
"function[fn]=solver_func(ti)\n",
"    //Function defined for solving the system \n",
"fn=(-(del_Hr*10^3))-((del_a*(ti-T_amb))+((del_b/2)*((ti^2)-(T_amb^2)))+((del_c/3)*((ti^3)-(T_amb^3)))+((del_d/4)*((ti^4)-(T_amb^4)))+(del_e*((1/T_amb)-(1/ti))));\n",
"endfunction\n",
"[T]=fsolve(tguess,solver_func,1e-6)//using inbuilt function fsolve for solving the system of equations to get the flame temperaure in K\n",
"\n",
" //OUTPUT\n",
"mprintf('\n The flame temperature when methane is burned with 50 percent excess air in an adiabatic burner= %f K\n',T);\n",
"\n",
"//===============================================END OF PROGRAM===================================================\n",
"\n",
" \n",
"  \n",
"  "
   ]
   }
,
{
		   "cell_type": "markdown",
		   "metadata": {},
		   "source": [
			"## Example 4.29: Amount_of_energy_transferred_as_heat_in_the_boiler.sce"
		   ]
		  },
  {
"cell_type": "code",
	   "execution_count": null,
	   "metadata": {
	    "collapsed": true
	   },
	   "outputs": [],
"source": [
"// Y.V.C.Rao ,1997.Chemical Engineering Thermodynamics.Universities Press,Hyderabad,India.\n",
"\n",
"//Chapter-4,Example 29,Page 139\n",
"//Title: Amount of energy transferred as heat in the boiler\n",
"//================================================================================================================\n",
"clear \n",
"clc\n",
"\n",
"//INPUT\n",
"T_exit=550;//temperature in K at which the combustion products leave the boiler\n",
"percent_molar_comp_prdct=[6.28;3.14;7.85;82.73];// percentage molar composition of the combustion products CO2(g),CO(g),O2(g),N2(g) on dry basis\n",
"T_ent=298.15;//temperature in K at which Propane and air enter the combustion chamber\n",
"del_Hf=[-393.978;-110.532;-241.997;0;0;-103.833];//standard enthalpies of formation of CO2(g),CO(g),H2O(g),O2(g),N2(g),C3H8(g) at 298.15K in kJ\n",
"a=[45.369;28.068;30.255;27.270;28.850];//coefficients to compute isobaric molar heat capacity of CO2(g),CO(g),O2(g),N2(g),H2O(g) in J/molK\n",
"//coefficients to compute isobaric molar heat capacity of CO2(g),CO(g),O2(g),N2(g),H2O(g) in J/molK\n",
"b=[8.688*10^-3;4.631*10^-3;4.207*10^-3;4.930*10^-3;12.055*10^-3];\n",
"c=[0;0;0;0;0];//coefficients to compute isobaric molar heat capacity of CO2(g),CO(g),O2(g),N2(g),H2O(g) in J/molK\n",
"d=[0;0;0;0;0];//coefficients to compute isobaric molar heat capacity of CO2(g),CO(g),O2(g),N2(g),H2O(g) in J/molK\n",
"e=[-9.619*10^5;-0.258*10^5;-1.887*10^5;0.333*10^5;1.006*10^5];//coefficients to compute isobaric molar heat capacity of CO2(g),CO(g),O2(g),N2(g),H2O(g) in J/molK\n",
"per_N2=79;//percentage of nitrogen in air\n",
"per_O2=21;//percentage of oxygen in air\n",
"molar_mass_propane=44*10^-3;//molar mass of propane in kg/mole\n",
"\n",
"//CALCULATION\n",
"// TAKE BASIS AS 100 mol OF  DRY COMBUSTION PRODUCTS\n",
"n_CO2=percent_molar_comp_prdct(1,:);//number of moles of CO2(g) in the product stream\n",
"n_CO=percent_molar_comp_prdct(2,:);//number of moles of CO(g) in the product stream\n",
"n_O2=percent_molar_comp_prdct(3,:);//number of moles of O2(g) in the product stream\n",
"n_N2=percent_molar_comp_prdct(4,:);//number of moles of N2(g) in the product stream\n",
"\n",
"//The combustion reaction can be given as:\n",
"// x C3H8+ y O2+ (79/21)y N2--->6.28CO2+3.14CO+7.85O2+82.73N2+ zH2O\n",
"\n",
"//Determination of x, y, z\n",
"\n",
"//carbon atom balance:\n",
"x=(n_CO2+n_CO)/3;\n",
"\n",
"//Nitrogen atom balance:\n",
"y=(2*n_N2)/(2*(per_N2/per_O2));\n",
"\n",
"//oxygen atom balance\n",
"z=(2*y)-(2*n_CO2)-(n_CO)-(2*n_O2);\n",
"\n",
"//The actual combustion reaction becomes:\n",
"//3.14C3H8+ 21.992O2+ 82.73N2--->6.28CO2+3.14CO+7.85O2+82.73N2+ 12.584H2O\n",
"\n",
"n_H2O=z;//number of moles of H2O determined after the balance done on the carbon,oxygen,and nitrogen atoms\n",
"n_C3H8=x;//number of moles of C3H8 determined after the balance done on the carbon,oxygen,and nitrogen atoms\n",
"\n",
"//calculation of the standard enthalpy of the reaction at 298.15K in kJ\n",
"//del_hf=0, for oxygen and nitrogen,therefore they are omitted in the expression\n",
"del_Hr=(n_CO2*del_Hf(1,:))+(n_CO*del_Hf(2,:))+(n_H2O*del_Hf(3,:))-(n_C3H8*del_Hf(6,:));\n",
"\n",
"del_a=(n_CO2*a(1,:))+(n_CO*a(2,:))+(n_O2*a(3,:))+(n_N2*a(4,:))+(n_H2O*a(5,:));//calculation of del_a using Eq.(4.83)\n",
"del_b=(n_CO2*b(1,:))+(n_CO*b(2,:))+(n_O2*b(3,:))+(n_N2*b(4,:))+(n_H2O*b(5,:));//calculation of del_b using Eq.(4.83)\n",
"del_c=(n_CO2*c(1,:))+(n_CO*c(2,:))+(n_O2*c(3,:))+(n_N2*c(4,:))+(n_H2O*c(5,:));//calculation of del_c using Eq.(4.83)\n",
"del_d=(n_CO2*d(1,:))+(n_CO*d(2,:))+(n_O2*d(3,:))+(n_N2*d(4,:))+(n_H2O*d(5,:));//calculation of del_d using Eq.(4.83)\n",
"del_e=(n_CO2*e(1,:))+(n_CO*e(2,:))+(n_O2*e(3,:))+(n_N2*e(4,:))+(n_H2O*e(5,:));//calculation of del_e using Eq.(4.83)\n",
"\n",
"//calulation of del_Hp J\n",
"       del_Hp=(del_a*(T_exit-T_ent))+((del_b/2)*((T_exit^2)-(T_ent^2)))+((del_c/3)*((T_exit^3)-(T_ent^3)))+((del_d/4)*((T_exit^4)-(T_ent^4)))-(del_e*((1/T_exit)-(1/T_ent)));\n",
"       del_H=((del_Hr*10^3)+(del_Hp))*10^-3;//calculation of total energy transferred as heat in kJ\n",
"       mass_propane=n_C3H8*molar_mass_propane;//calculation of amount of propane in the system in kg\n",
"       energy=(-(del_H*10^3)/mass_propane)*10^-6;//energy transferred as heat per kg propane in MJ\n",
"       \n",
"//OUTPUT\n",
"mprintf('\n The energy transferred as heat per kg propane= %f MJ\n',energy);\n",
"\n",
"//===============================================END OF PROGRAM===================================================\n",
"\n",
"       "
   ]
   }
,
{
		   "cell_type": "markdown",
		   "metadata": {},
		   "source": [
			"## Example 4.3: Final_temperature_and_final_pressure.sce"
		   ]
		  },
  {
"cell_type": "code",
	   "execution_count": null,
	   "metadata": {
	    "collapsed": true
	   },
	   "outputs": [],
"source": [
"// Y.V.C.Rao ,1997.Chemical Engineering Thermodynamics.Universities Press,Hyderabad,India.\n",
"\n",
"//Chapter-4,Example 3,Page 96\n",
"//Title:Final temperature and final pressure\n",
"//================================================================================================================\n",
"clear \n",
"clc\n",
"\n",
"//INPUT\n",
"V=1;//volume of tank in m^3;\n",
"N=200;//number of moles of carbon dioxide in tank in mol\n",
"T1=25;//ambient temperature in degree celsius\n",
"I=5;//current in amperes passed through the resistor place in the tank\n",
"Voltage=440;//voltage in volts existing across the resistor\n",
"t=10;//time in minutes for which the current is passed\n",
"a=363.077*10^-3;//van der waals constant in Pa (m^3/mol)^2\n",
"b=0.043*10^-3;//van der waals constant in m^3/mol\n",
"Cv=32.34;//molar heat capacity at constant volume in J/molK\n",
"R=8.314;//universal gas constant in J/molK\n",
"\n",
"//CALCULATION\n",
"MV=V/N;//calculation of molar volume in m^3/mol\n",
"Q=0;//energy transfer as heat during the process\n",
"W_Pdv=0;//mechanical work done by the system\n",
"W_elec=-(Voltage*I*t*60)*(10^-6);//calculation of electrical work done on the system in MJ\n",
"U2_1=Q-(W_Pdv+W_elec);//calculation of internal energy in MJ using Eq.(4.5)\n",
"T2=((U2_1*10^6)/(N*Cv))+(T1+273.15);//calculation of final temperature in K using the relation du=CvdT+(a/v^2)dv, where dv is zero\n",
"P=(((R*T2)/(MV-b))-(a/(MV^2)))*10^-3;//calculation of final pressure in kPa using Eq.(3.18)\n",
"\n",
"//OUTPUT\n",
"mprintf('\n The final pressure= %0.3f kPa \n',P);\n",
"mprintf('\n The final temperature= %0.2f K\n',T2);\n",
"\n",
"\n",
"//===============================================END OF PROGRAM==================================================="
   ]
   }
,
{
		   "cell_type": "markdown",
		   "metadata": {},
		   "source": [
			"## Example 4.4: Energy_transferred_and_final_state_masses_of_liquid_and_vapour.sce"
		   ]
		  },
  {
"cell_type": "code",
	   "execution_count": null,
	   "metadata": {
	    "collapsed": true
	   },
	   "outputs": [],
"source": [
"// Y.V.C.Rao ,1997.Chemical Engineering Thermodynamics.Universities Press,Hyderabad,India.\n",
"\n",
"//Chapter-4,Example 4,Page 97\n",
"//Title:Energy transferred and final state masses of liquid and vapour\n",
"//================================================================================================================\n",
"clear \n",
"clc\n",
"\n",
"//INPUT\n",
"V=0.1;//volume of tank in m^3\n",
"T1=200;//initial temperature of saturated steam inside the tank in degree celsius\n",
"T2=150;//temperature in degree celsius that the tank attains after some time due to poor insulation\n",
"P1=15.549;//pressure in bar obtained from steam tables corresponding to T1\n",
"vg1=0.1272;//specific volume of saturated vapour in m^3/kg obtained from steam tables corresponding to T1\n",
"hg1=2790.9;//specific enthalpy of saturated vapour in kJ/kg obtained from steam tables corresponding to T1\n",
"P2=4.76;//pressure in bar obtained from steam tables corresponding to T2\n",
"vf=0.0010908;//specific volume of saturated liquid in m^3/kg obtained from steam tables corresponding to T2\n",
"vg2=0.3924;//specific volume of saturated vapour in m^3/kg obtained from steam tables corresponding to T2\n",
"hf=632.15;//specific enthalpy of saturated liquid in kJ/kg obtained from steam tables corresponding to T1\n",
"hg2=2745.4;//specific enthalpy of saturated vapour in kJ/kg obtained from steam tables corresponding to T1\n",
"\n",
"//CALCULATION\n",
"ug1=((hg1*10^3)-(P1*10^5*vg1))*10^-3;//calculation of internal energy of vapour corresponding to T1 in kJ/kg\n",
"uf=((hf*10^3)-(P2*10^5*vf))*10^-3;//calculation of internal energy of liquid corresponding to T2 in kJ/kg\n",
"ug2=((hg2*10^3)-(P2*10^5*vg2))*10^-3;//calculation of internal energy of vapour corresponding to T2 in kJ/kg\n",
"v2=vg1;//since constant volume process\n",
"X2=(v2-vf)/(vg2-vf);//calculation of the final quality of steam (no unit)\n",
"u2=(X2*ug2)+((1-X2)*uf);//calculation of the internal energy at the final state in kJ/kg\n",
"m=V/vg1;//calculation of the mass of steam in kg\n",
"Q=m*(u2-ug1);//calculation of energy transferred as heat in kJ, using the first law of thermodynamics\n",
"mf=m*(1-X2);//calculation of mass of liquid in the tank in the final state in kg\n",
"mg=m*X2;//calculation of mass of vapour in the tank in the final state in kg\n",
"\n",
" //OUTPUT\n",
"mprintf('\n The energy transferred as heat= %f kJ\n',Q);\n",
"mprintf('\n The mass of liquid in the tank in the final state= %0.3f kg\n',mf);\n",
"mprintf('\n The mass of vapour in the tank in the final state= %0.3f kg\n',mg);\n",
"//===============================================END OF PROGRAM===================================================\n",
"\n",
""
   ]
   }
,
{
		   "cell_type": "markdown",
		   "metadata": {},
		   "source": [
			"## Example 4.5: Work_done_and_energy_transferred.sce"
		   ]
		  },
  {
"cell_type": "code",
	   "execution_count": null,
	   "metadata": {
	    "collapsed": true
	   },
	   "outputs": [],
"source": [
"// Y.V.C.Rao ,1997.Chemical Engineering Thermodynamics.Universities Press,Hyderabad,India.\n",
"\n",
"//Chapter-4,Example 5,Page 102\n",
"//Title:Work done and energy transferred\n",
"//================================================================================================================\n",
"clear \n",
"clc\n",
"\n",
"//INPUT\n",
"W=1;//weight of steam in kg in the piston cylinder assembly\n",
"X=0.8;//quality of steam (no unit)\n",
"T1=150;//initial temperature of steam in degree celsius\n",
"T2=200;//final temperature of steam in degree celsius\n",
"P1=476;//pressure in kPa obatined from steam tables (corresponding to T1)\n",
"vf=0.0010908;//specific volume of saturated liquid in m^3/kg obatined from steam tables (corresponding to T1)\n",
"vg=0.3924;//specific volume of satuarted vapour in m^3/kg obatined from steam tables (corresponding to T1)\n",
"hf=632.15;//specific enthalpy of saturated liquid in kJ/kg obtained from steam tables (corresponding to T1)\n",
"hg=2745.4;//specific enthalpy of saturated vapour in kJ/kg obtained from steam tables (corresponding to T1)\n",
"\n",
"//CALCULATION\n",
"V1=(X*vg)+((1-X)*vf);//calculation of specific volume of steam in m^3/kg\n",
"h1=(X*hg)+((1-X)*hf);//calculation of specific enthalpy of steam in kJ/kg\n",
"P2=0.476;//Pressure in MPa is held constant during the process \n",
"P_int1=0.4;//Pressure in MPa from steam tables at T2 taken for interpolation to find V2 and h2 corresponding to P2\n",
"P_int2=0.5;//Pressure in MPa from steam tables at T2 taken for interpolation to find V2 and h2 corresponding to P2\n",
"V_int1=0.5343;//specific volume in m^3/kg at P_int1 obtained from steam tables at T2 taken for interpolation to find V2 and h2 corresponding to P2\n",
"V_int2=0.4250;//specific volume in m^3/kg at P_int2 obtained from steam tables at T2 taken for interpolation to find V2 and h2 corresponding to P2\n",
"h_int1=2860.4;//specific enthalpy in kJ/kg at P_int1 obtained from steam tables at T2 taken for interpolation to find V2 and h2 corresponding to P2\n",
"h_int2=2855.1;//specific enthalpy in kJ/kg at P_int2 obtained from steam tables at T2 taken for interpolation to find V2 and h2 corresponding to P2\n",
"V2=(((P2-P_int1)/(P_int2-P_int1))*(V_int2-V_int1))+V_int1;//specific volume of superheated steam in m^3/kg obtained by interpolation (corresponding to T2 and P2)\n",
"h2=(((P2-P_int1)/(P_int2-P_int1))*(h_int2-h_int1))+h_int1;//specific enthalpy of superheated steam in kJ/kg obtained by interpolation (corresponding to T2 and P2)\n",
"Q=(h2-h1)*W;//calculation of net heat transferred in kJ using Eq.(4.15)\n",
"W=P1*(V2-V1)*W;//calculation of work done by steam in kJ using Eq.(4.14)\n",
"\n",
"//OUTPUT\n",
"mprintf('\n The work done by steam= %0.2f kJ \n',W);\n",
"mprintf('\n The net energy transferred as heat = %0.2f kJ\n',Q);\n",
"mprintf('\n The final state of superheated steam,Pressure=%0.3f MPa \n',P2);\n",
"mprintf('\n The final state of superheated steam,Temperature=%d degree celsius \n',T2);\n",
"\n",
"//===============================================END OF PROGRAM==================================================="
   ]
   }
,
{
		   "cell_type": "markdown",
		   "metadata": {},
		   "source": [
			"## Example 4.6: Work_done_and_final_temperature.sce"
		   ]
		  },
  {
"cell_type": "code",
	   "execution_count": null,
	   "metadata": {
	    "collapsed": true
	   },
	   "outputs": [],
"source": [
"// Y.V.C.Rao ,1997.Chemical Engineering Thermodynamics.Universities Press,Hyderabad,India.\n",
"\n",
"//Chapter-4,Example 6,Page 103\n",
"//Title:Work done and final temperature\n",
"//================================================================================================================\n",
"clear \n",
"clc\n",
"\n",
"//INPUT\n",
"W=1;//weight of steam in kg in the piston cylinder assembly\n",
"X=0.8;//quality of steam (no unit)\n",
"T1=150;//initial temperature  of steam in degree celsius\n",
"I=5;//current passed in Amperes\n",
"V=220;//voltage in volts across the resistor\n",
"t=10;//time for which the current is passed in minutes\n",
"P1=476;//pressure in kPa obatined from steam tables (corresponding to T1)\n",
"vf=0.0010908;//specific volume of saturated liquid in m^3/kg obatined from steam tables (corresponding to T1)\n",
"vg=0.3924;//specific volume of satuarted vapour in m^3/kg obatined from steam tables (corresponding to T1)\n",
"hf=632.15;//specific enthalpy of saturated liquid in kJ/kg obtained from steam tables (corresponding to T1)\n",
"hg=2745.4;//specific enthalpy of saturated vapour in kJ/kg obtained from steam tables (corresponding to T1)\n",
"\n",
"//CALCULATION\n",
"V1=(X*vg)+((1-X)*vf);//calculation of specific volume of steam in m^3/kg\n",
"h1=(X*hg)+((1-X)*hf);//calculation of specific enthalpy of steam in m^3/kg\n",
"Ws=-V*I*t*60*10^-3;//calculation of electrical work done on the system in kJ\n",
"h2=h1-Ws;//calculation of the specific enthalpy of steam in the final state in kJ/kg\n",
"P2=0.476;//Pressure in MPa is held constant during the process\n",
"T_int1=200;//Temperature in degree celsius obtained from steam tables at P2 taken for interpolation to find V2 and T2 corresponding to P2 \n",
"T_int2=300;//Temperature in degree celsius obtained from steam tables at P2 taken for interpolation to find V2 and T2 corresponding to P2 \n",
"V_int1=0.4512;//specific volume in m^3/kg at T_int1 from steam tables at P2 taken for interpolation to find V2 and T2 corresponding to P2\n",
"V_int2=0.5544;//specific volume in m^3/kg at T_int2 from steam tables at P2 taken for interpolation to find V2 and T2 corresponding to P2\n",
"h_int1=2856.37;//specific enthalpy in kJ/kg at T_int1 obtained from steam tables at P2 taken for interpolation to find V2 and T2 corresponding to P2\n",
"h_int2=3065.38;//specific enthalpy in kJ/kg at T_int2 obtained from steam tables at P2 taken for interpolation to find V2 and T2 corresponding to P2\n",
"V2=(((h2-h_int1)/(h_int2-h_int1))*(V_int2-V_int1))+V_int1;//specific volume of superheated steam in m^3/kg obtained by interpolation (corresponding to T2 and P2)\n",
"//Temperature of superheated steam in degree celsius obtained by interpolation (corresponding to T2 and P2) \n",
"T2=(((h2-h_int1)/(h_int2-h_int1))*(T_int2-T_int1))+T_int1;\n",
"W=(P1*10^3*(V2-V1)*W)*10^-3;//calculation of work done by steam in kJ using Eq.(4.14)\n",
"\n",
"//OUTPUT\n",
"mprintf('\n The work done by steam= %0.2f kJ \n',W);\n",
"mprintf('\n The final temperature= %0.2f degree celsius\n',T2);\n",
"\n",
"//===============================================END OF PROGRAM==================================================="
   ]
   }
,
{
		   "cell_type": "markdown",
		   "metadata": {},
		   "source": [
			"## Example 4.7: Amount_of_energy.sce"
		   ]
		  },
  {
"cell_type": "code",
	   "execution_count": null,
	   "metadata": {
	    "collapsed": true
	   },
	   "outputs": [],
"source": [
"// Y.V.C.Rao ,1997.Chemical Engineering Thermodynamics.Universities Press,Hyderabad,India.\n",
"\n",
"//Chapter-4,Example 7,Page 104\n",
"//Title:Amount of energy\n",
"//================================================================================================================\n",
"clear \n",
"clc\n",
"\n",
"//INPUT\n",
"N=1;//number of moles of carbon dioxide in kmol\n",
"T1=298;//initial temperature in K\n",
"T2=600;//final raised temperature in K\n",
"a=45.369;//coefficient in the specific heat capacity expression where Cp=a+bT+eT^-2\n",
"b=8.688*10^-3;//coefficient in the specific heat capacity expression where Cp=a+bT+eT^-2\n",
"e=-9.619*10^5;//coefficient in the specific heat capacity expression where Cp=a+bT+eT^-2\n",
"//Where Cp is in J/molK\n",
"\n",
"//CALCULATION\n",
"Q=N*10^3*((a*(T2-T1)+((b/2)*(T2^2-T1^2))-(e*((1/T2)-(1/T1)))))*10^-6;//calculation of the amount of energy to be transferred in MJ using Eq.(4.25)\n",
"\n",
"//OUTPUT\n",
"mprintf('\n The amount of energy to be transferred as heat= %0.3f MJ\n',Q);\n",
"\n",
"//===============================================END OF PROGRAM===================================================\n",
""
   ]
   }
,
{
		   "cell_type": "markdown",
		   "metadata": {},
		   "source": [
			"## Example 4.8: Isobaric_molar_heat_capacity.sce"
		   ]
		  },
  {
"cell_type": "code",
	   "execution_count": null,
	   "metadata": {
	    "collapsed": true
	   },
	   "outputs": [],
"source": [
"// Y.V.C.Rao ,1997.Chemical Engineering Thermodynamics.Universities Press,Hyderabad,India.\n",
"\n",
"//Chapter-4,Example 8,Page 104\n",
"//Title:Isobaric molar heat capacity\n",
"//================================================================================================================\n",
"clear \n",
"clc\n",
"\n",
"//INPUT\n",
"T1=298;//initial temperature in K\n",
"T2=600;//final raised temperature in K\n",
"a=45.369;//coefficient in the specific heat capacity expression where Cp=a+bT+eT^-2\n",
"b=8.688*10^-3;//coefficient in the specific heat capacity expression where Cp=a+bT+eT^-2\n",
"e=-9.619*10^5;//coefficient in the specific heat capacity expression where Cp=a+bT+eT^-2\n",
"//Where Cp is in J/molK\n",
"\n",
"//CALCULATION\n",
"Cpm=((a*(T2-T1))+((b/2)*(T2^2-T1^2))-(e*((1/T2)-(1/T1))))/(T2-T1);//calculation of isobaric molar heat capacity in J/molK using Eq.(4.26)\n",
"\n",
"//OUTPUT\n",
"mprintf('\n The isobaric molar heat capacity= %0.2f J/molK\n',Cpm);\n",
"\n",
"//===============================================END OF PROGRAM==================================================="
   ]
   }
,
{
		   "cell_type": "markdown",
		   "metadata": {},
		   "source": [
			"## Example 4.9: Amount_of_energy_transferred_using_isobaric_molar_heat_capacity.sce"
		   ]
		  },
  {
"cell_type": "code",
	   "execution_count": null,
	   "metadata": {
	    "collapsed": true
	   },
	   "outputs": [],
"source": [
"// Y.V.C.Rao ,1997.Chemical Engineering Thermodynamics.Universities Press,Hyderabad,India.\n",
"\n",
"//Chapter-4,Example 9,Page 105\n",
"//Title:Amount of energy transferred using isobaric molar heat capacity\n",
"//================================================================================================================\n",
"clear \n",
"clc\n",
"\n",
"//INPUT\n",
"N=1;//number of moles of carbon dioxide in kmol\n",
"T1=298;//initial temperature in K\n",
"T2=600;//final raised temperature in K\n",
"a=45.369;//coefficient in the specific heat capacity expression where Cp=a+bT+eT^-2\n",
"b=8.688*10^-3;//coefficient in the specific heat capacity expression where Cp=a+bT+eT^-2\n",
"e=-9.619*10^5;//coefficient in the specific heat capacity expression where Cp=a+bT+eT^-2\n",
"//Where Cp is in J/molK\n",
"\n",
"//CALCULATION\n",
"Cpm=((a*(T2-T1))+((b/2)*(T2^2-T1^2))-(e*((1/T2)-(1/T1))))/(T2-T1);//calculation of isobaric molar heat capacity in J/molK using Eq.(4.26)\n",
"Q=N*10^3*Cpm*(T2-T1)*10^-6;//calculation of the amount of energy to be transferred in MJ using Eq.(4.25)\n",
"\n",
"//OUTPUT\n",
"mprintf('\n The amount of energy to be transferred as heat= %0.3f MJ \n',Q);\n",
"\n",
"//===============================================END OF PROGRAM==================================================="
   ]
   }
],
"metadata": {
		  "kernelspec": {
		   "display_name": "Scilab",
		   "language": "scilab",
		   "name": "scilab"
		  },
		  "language_info": {
		   "file_extension": ".sce",
		   "help_links": [
			{
			 "text": "MetaKernel Magics",
			 "url": "https://github.com/calysto/metakernel/blob/master/metakernel/magics/README.md"
			}
		   ],
		   "mimetype": "text/x-octave",
		   "name": "scilab",
		   "version": "0.7.1"
		  }
		 },
		 "nbformat": 4,
		 "nbformat_minor": 0
}
