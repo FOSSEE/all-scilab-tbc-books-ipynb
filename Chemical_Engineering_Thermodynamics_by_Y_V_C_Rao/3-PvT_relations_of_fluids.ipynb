{
"cells": [
 {
		   "cell_type": "markdown",
	   "metadata": {},
	   "source": [
       "# Chapter 3: PvT relations of fluids"
	   ]
	},
{
		   "cell_type": "markdown",
		   "metadata": {},
		   "source": [
			"## Example 3.10: Acentric_factor.sce"
		   ]
		  },
  {
"cell_type": "code",
	   "execution_count": null,
	   "metadata": {
	    "collapsed": true
	   },
	   "outputs": [],
"source": [
"// Y.V.C.Rao ,1997.Chemical Engineering Thermodynamics.Universities Press,Hyderabad,India.\n",
"\n",
"//Chapter-3,Example 10,Page 67\n",
"//Title:Acentric factor\n",
"//================================================================================================================\n",
"clear \n",
"clc\n",
"\n",
"//INPUT\n",
"T=180;//temperature of water in degree celsius\n",
"P=1.0027;//saturation pressure of water in MPa\n",
"Tc=647.3;//critical temperature of water in K\n",
"Pc=221.2;//critical pressure of water in bar\n",
"Tr=0.7;//reduced temperature at which acentric factor was defined by Pitzer \n",
"\n",
"//CALCULATION\n",
"T1=Tr*Tc;//calculating temperature  in K using reduced temperature value\n",
"T1=T1-273.15;//conversion to degree celsius\n",
"Pr=(P*10)/Pc;//calculation of reduced pressure (no unit) using saturation pressure at t1. In this case t1 equals t, therefore the given saturation pressure is taken\n",
"w=-log10(Pr)-1.0;//calculation of acentric factor using Eq.(3.62)\n",
"\n",
"////OUTPUT\n",
"mprintf('\n The acentric factor of water= %f \n',w);\n",
"\n",
"\n",
"//===============================================END OF PROGRAM==================================================="
   ]
   }
,
{
		   "cell_type": "markdown",
		   "metadata": {},
		   "source": [
			"## Example 3.11: Volume_using_two_paramter_and_three_parameter_compressibility_factor_correlation.sce"
		   ]
		  },
  {
"cell_type": "code",
	   "execution_count": null,
	   "metadata": {
	    "collapsed": true
	   },
	   "outputs": [],
"source": [
"// Y.V.C.Rao ,1997.Chemical Engineering Thermodynamics.Universities Press,Hyderabad,India.\n",
"\n",
"//Chapter-3,Example 11,Page 72\n",
"//Title:Volume using two paramter and three parameter compressibility factor correlation\n",
"//================================================================================================================\n",
"clear \n",
"clc\n",
"\n",
"//INPUT\n",
"T=409.41;//temperature of n-octane in degree celsius\n",
"P=4.98;//pressure in bar\n",
"Tc=569.4;//critical temperature of n-octane in K\n",
"Pc=24.97;//critical pressure of n-octane in bar\n",
"w=0.398;//acentric factor (no unit)\n",
"R=8.314;//universal gas constant in (Pa m^3)/(mol K)\n",
"\n",
"//CALCULATION\n",
"Tr=(T+273.15)/Tc;//calculation of reduced temperature (no unit)\n",
"Pr=P/Pc;//calculation of reduced pressure (no unit)\n",
"z0=0.96;//value of compressibilty factor at tr and pr obtained from Fig.3.11 \n",
"V1=(z0*R*(T+273.15))/(P*10^5);//calculation of volume in m^3/mol using the two parameter compressibilty factor correlation\n",
"z1=0.01;//value of compressibilty factor at tr and pr obtained from Fig.3.12\n",
"z=z0+(w*z1);//calculation of compressibility factor using Eq.3.64\n",
"V2=(z*R*(T+273.15))/(P*10^5);//calculation of volume in m^3/mol using the three parameter compressibility factor correlation\n",
"\n",
"//OUTPUT\n",
"mprintf('\n The volume occupied by n-octane obtained by the two parameter compressibilty factor correlation= %f m^3/mol\n',V1);\n",
"mprintf('\n The volume occupied by n-octane obtained by the three parameter compressibility factor correlation= %f m^3/mol\n',V2);\n",
"\n",
"\n",
"//===============================================END OF PROGRAM==================================================="
   ]
   }
,
{
		   "cell_type": "markdown",
		   "metadata": {},
		   "source": [
			"## Example 3.12: Pressure_developed_using_two_paramter_compressibility_factor_correlation.sce"
		   ]
		  },
  {
"cell_type": "code",
	   "execution_count": null,
	   "metadata": {
	    "collapsed": true
	   },
	   "outputs": [],
"source": [
"// Y.V.C.Rao ,1997.Chemical Engineering Thermodynamics.Universities Press,Hyderabad,India.\n",
"\n",
"//Chapter-3,Example 12,Page 72\n",
"//Title:Pressure developed using two paramter compressibility factor correlation\n",
"//================================================================================================================\n",
"clear \n",
"clc\n",
"\n",
"//INPUT\n",
"V=1;//volume of the tank in m^3\n",
"m=180;//mass of carbon dioxide in kg\n",
"T=91.8;//temperature of the tank in degree celsius after it is placed in the vicinity of a furnace\n",
"Tc=304.2;//critical temperature of carbon dioxide in K\n",
"Pc=73.87;//critical pressure of carbon dioxide in bar\n",
"R=8.314;//universal gas constant in (Pa m^3)/(mol K)\n",
"\n",
"//CALCULATION\n",
"mwt=44*10^-3;//molecular weight of carbon dioxide in kg/mol\n",
"n=m/mwt;//calculation of number of moles of carbon dioxide in the tank in moles\n",
"MV=V/n;//calculation of molar volume in m^3/mol\n",
"slope=(MV*Pc*10^5)/(R*(T+273.15));//slope of the straight line formed when z0 is plotted against Pr formed by using the relation z0=(V*Pc*Pr)/(R*T)\n",
"Tr=(T+273.15)/Tc;//calculation of reduced temperature (no unit)\n",
"\n",
"//At the given conditions, the state of CO2 must lie on the curve corresponding to the obtained value of Tr. To determine the state of CO2, a straight line passing through the origin, with the obtained value of slope is drawn on the z0 vs Pr plot of Fig.3.12 and the point of intersection of this straight line with the Tr curve is obtained to get the value of z0\n",
"\n",
"z0=0.725;//value of compressibilty factor obtained by doing the above mentioned procedure\n",
"P=(z0*R*10^-6*(T+273.15))/(MV)//calculation of pressure in MPa using Eq.(3.59)\n",
"\n",
"//OUTPUT\n",
"mprintf('\n The pressure developed by carbon dioxide= %.0f MPa\n',P);\n",
"\n",
"\n",
"\n",
"//===============================================END OF PROGRAM==================================================="
   ]
   }
,
{
		   "cell_type": "markdown",
		   "metadata": {},
		   "source": [
			"## Example 3.13: Pressure_developed_using_three_paramter_compressibility_factor_correlation.sce"
		   ]
		  },
  {
"cell_type": "code",
	   "execution_count": null,
	   "metadata": {
	    "collapsed": true
	   },
	   "outputs": [],
"source": [
"// Y.V.C.Rao ,1997.Chemical Engineering Thermodynamics.Universities Press,Hyderabad,India.\n",
"\n",
"//Chapter-3,Example 13,Page 73\n",
"//Title:Pressure developed using three paramter compressibility factor correlation\n",
"//================================================================================================================\n",
"clear \n",
"clc\n",
"\n",
"//INPUT\n",
"V=1;//volume of the tank in m^3\n",
"m=180;//mass of carbon dioxide in kg\n",
"T=91.8;//temperature of the tank in degree celsius after it is placed in the vicinity of a furnace\n",
"Tc=304.2;//critical temperature of carbon dioxide in K\n",
"Pc=73.87;//critical pressure of carbon dioxide in bar\n",
"R=8.314;//universal gas constant in (Pa m^3)/(mol K)\n",
"w=0.239;//acentric factor (no unit)\n",
"\n",
"//CALCULATION\n",
"mwt=44*10^-3;//molecular weight of carbon dioxide in kg/mol\n",
"n=m/mwt;//calculation of number of moles of carbon dioxide in the tank in mol\n",
"MV=V/n;//calculation of molar volume in m^3/mol\n",
"Tr=(T+273.15)/Tc;//calculation of reduced temperature (no unit)\n",
"z0=0.725;//the value of z0 as computed in Example 3.12 (no unit)\n",
"z_init=z0;//taking the initial guess value of z as z0\n",
"slope=(MV*Pc*10^5)/(R*(T+273.15));//slope of the straight line formed when z is plotted against Pr formed by using the relation  z0=(V*Pc*Pr)/(R*T)\n",
"Prguess=z_init/slope;//Calculation of an initial guess value of reduced pressure (no unit) to compute the value of z\n",
"z1guess=0.1;//z1 read from Fig.3.14 for the value of Tr and Prguess (no unit)\n",
"tolerance=1e-6;//framing the tolerance limit for the convergence of the equation\n",
"function[fn]=solver_function(zi)\n",
"    fn=zi-(z0+(w*z1guess));//Function defined for solving the system using Eq.(3.64)\n",
"endfunction\n",
"[z]=fsolve(z1guess,solver_function,tolerance)//using inbuilt function fsolve for solving the system of equations\n",
"Pr=z/slope;//calculation of the proper reduced pressure (no unit)\n",
"P=((Pc*10^5)*Pr)*10^-6;//calculation of pressure exerted by carbon dioxide in MPa\n",
"\n",
"//OUTPUT\n",
"mprintf('\n The pressure developed by carbon dioxide= %f MPa\n',P);\n",
"\n",
"\n",
"\n",
"//===============================================END OF PROGRAM===================================================\n",
"\n",
"\n",
""
   ]
   }
,
{
		   "cell_type": "markdown",
		   "metadata": {},
		   "source": [
			"## Example 3.14: Volume_using_generalized_form_of_the_Redlich_Kwong_equation_of_state.sce"
		   ]
		  },
  {
"cell_type": "code",
	   "execution_count": null,
	   "metadata": {
	    "collapsed": true
	   },
	   "outputs": [],
"source": [
"// Y.V.C.Rao ,1997.Chemical Engineering Thermodynamics.Universities Press,Hyderabad,India.\n",
"\n",
"//Chapter-3,Example 14,Page 75\n",
"//Title:Volume using generalized form of the Redlich-Kwong equation of state\n",
"//================================================================================================================\n",
"clear \n",
"clc\n",
"\n",
"//INPUT\n",
"T=427.85;//temperature of n-octane vapour in K\n",
"P=0.215;//pressure of n-ocatne vapour in MPa\n",
"Tc=569.4;//critical temperature of n-octane in K\n",
"Pc=2.497;//critical pressure of n-octane in MPa\n",
"R=8.314;//universal gas constant in (Pa m^3)/(mol K)\n",
"\n",
"//CALCULATION\n",
"Tr=T/Tc;//calculation of reduced temperature (no unit)\n",
"Pr=P/Pc;//calculation of reduced pressure (no unit)\n",
"z_init=1;//taking a guess value of z (compressibilty factor) to get a value of h for solving the system\n",
"h=(0.08664*Pr)/(z_init*Tr);//calculation of h using Eq.(3.68)\n",
"tolerance=1e-6;//Framing the tolerance limit for the convergence of the equation\n",
"function[fn]=solver_func(zi)\n",
"    fn=zi-((1/(1-h))-((h/(1+h))*(4.93398/(Tr^(3/2)))));//Function defined for solving the system using Eq.(3.67)\n",
"endfunction\n",
"[z]=fsolve(h,solver_func,tolerance)//using inbuilt function fsolve for solving the system of equations\n",
"V=(z*R*T)/(P*10^6);//calculation of volume in m^3/mol using Eq.(3.59)\n",
"\n",
"//OUTPUT\n",
"mprintf('\n The volume occupied by n-octane vapour obtained by the generalized form of Redlich-Kwong equation of state= %f m^3/mol\n',V);\n",
"\n",
"\n",
"//===============================================END OF PROGRAM==================================================="
   ]
   }
,
{
		   "cell_type": "markdown",
		   "metadata": {},
		   "source": [
			"## Example 3.15: Volume_using_Soave_Redlich_Kwong_equation_of_state.sce"
		   ]
		  },
  {
"cell_type": "code",
	   "execution_count": null,
	   "metadata": {
	    "collapsed": true
	   },
	   "outputs": [],
"source": [
"// Y.V.C.Rao ,1997.Chemical Engineering Thermodynamics.Universities Press,Hyderabad,India.\n",
"\n",
"//Chapter-3,Example 15,Page 77\n",
"//Title:Volume using Soave-Redlich-Kwong equation of state\n",
"//================================================================================================================\n",
"clear \n",
"clc\n",
"\n",
"//INPUT\n",
"T=427.85;//temperature in K\n",
"P=0.215;//saturation pressure in MPa\n",
"Tc=569.4;//critical temperature of n-octane in K\n",
"Pc=24.97;//critical pressure of n-octane in bar\n",
"w=0.398;//acentric factor (no unit) \n",
"R=8.314;//universal gas constant in (Pa m^3)/(mol K)\n",
"\n",
"//CALCULATION\n",
"//The Cardan's method simplifies the equation of state into a cubic equation which can be solved easily\n",
"//The general form of the cubic equation is (Z^3)+(alpha*Z^2)+(beeta*Z)+gaamma=0, where alpha,beeta and gaamma are determined using established relations\n",
"\n",
"Tr=T/Tc;//calculation of reduced temperature (no unit)\n",
"Pr=(P*10^6)/(Pc*10^5);//calculation of reduced pressure (no unit)\n",
"S=0.48+(1.574*w)-(0.176*w^2);//calculation of S using Eq.(3.73)\n",
"alpha1=(1+(S*(1-sqrt(Tr))))^2;//calculation of alpha1 using Eq.(3.72)\n",
"a=(0.42748*R^2*Tc^2*alpha1)/(Pc*10^5);//calculation of the Soave-Redlich-Kwong constant in (m^6 Pa mol^-2) using Eq.(3.70)\n",
"b=(0.08664*R*Tc)/(Pc*10^5);//calculation of the Soave-Redlich-Kwong constant in m^3/mol using Eq.(3.71)\n",
"A=(a*P*10^6)/(R*T)^2;//calculation of A to determine alpha,beeta and gaamma by using Eq.(3.25)\n",
"B=(b*P*10^6)/(R*T);//calculation of B to determine alpha,beeta and gaamma by using Eq.(3.26)\n",
"alpha=-1;//calculation of alpha for Soave-Redlich-Kwong equation of state using Table (3.2)\n",
"beeta=A-B-B^2;//calculation of beeta for Soave-Redlich-Kwong equation of state using Table (3.2)\n",
"gaamma=-(A*B);//calculation of gaamma for Soave-Redlich-Kwong equation of state using Table (3.2)\n",
"p=beeta-(alpha^2)/3;//calculation of p to determine the roots of the cubic equation using Eq.(3.29)\n",
"q=((2*alpha^3)/27)-((alpha*beeta)/3)+gaamma;//calculation of q to determine the roots of the cubic equation using Eq.(3.30)\n",
"D=(((q)^2)/4)+(((p)^3)/27);//calculation of D to determine the nature of roots using Eq.(3.31)\n",
"\n",
"if D>0 then\n",
"        Z=((-q/2)+(sqrt(D)))^(1/3)+((-q/2)-(sqrt(D)))^(1/3)-(alpha/3);//One real root given by  Eq.(3.32)\n",
"        vf=((Z)*R*T)/(P*10^6);//Volume of saturated liquid calculated as vf=(Z*R*T)/P in m^3/mol\n",
"        vg=((Z)*R*T)/(P*10^6);//Volume of saturated vapour calculated as vg=(Z*R*T)/P in m^3/mol\n",
"else if D==0 then\n",
"        Z1=((-2*(q/2))^(1/3))-(alpha/3);//Three real roots and two equal given by Eq.(3.33)\n",
"        Z2=((q/2)^(1/3))-(alpha/3);\n",
"        Z3=((q/2)^(1/3))-(alpha/3);\n",
"        Z=[Z1 Z2 Z3];\n",
"        vf=(min(Z)*R*T)/(P*10^6);//Volume of saturated liquid calculated as vf=(Z*R*T)/P in m^3/mol\n",
"        vg=(max(Z)*R*T)/(P*10^6);//Volume of saturated vapour calculated as vg=(Z*R*T)/P in m^3/mol\n",
"    else\n",
"        r=sqrt((-(p^3)/27));//calculation of r using Eq.(3.38)\n",
"        theta=acos((-(q)/2)*(1/r));//calculation of theta in radians using Eq.(3.37)\n",
"        Z1=(2*(r^(1/3))*cos(theta/3))-(alpha/3);\n",
"        Z2=(2*(r^(1/3))*cos(((2*%pi)+theta)/3))-(alpha/3);//Three unequal real roots given by Eqs.(3.34,3.35 and 3.36)\n",
"        Z3=(2*(r^(1/3))*cos(((4*%pi)+theta)/3))-(alpha/3);\n",
"        Z=[Z1 Z2 Z3];\n",
"        vf=(min(Z)*R*T)/(P*10^6);//Volume of saturated liquid calculated as vf=(Z*R*T)/P in m^3/mol\n",
"        vg=(max(Z)*R*T)/(P*10^6);//Volume of saturated vapour calculated as vg=(Z*R*T)/P in m^3/mol\n",
"\n",
"    end\n",
"end\n",
"\n",
"//OUTPUT\n",
"mprintf('\n The volume occupied by n-octane (saturated vapour) obtained by Soave-Redlich-Kwong equation of state= %f m^3/mol\n',vg);\n",
"mprintf('\n The volume occupied by n-octane (saturated liquid) obtained by Soave-Redlich-Kwong equation of state= %f m^3/mol\n',vf);\n",
"\n",
"\n",
"\n",
"//===============================================END OF PROGRAM==================================================="
   ]
   }
,
{
		   "cell_type": "markdown",
		   "metadata": {},
		   "source": [
			"## Example 3.16: Volume_using_Peng_Robinson_equation_of_state.sce"
		   ]
		  },
  {
"cell_type": "code",
	   "execution_count": null,
	   "metadata": {
	    "collapsed": true
	   },
	   "outputs": [],
"source": [
"// Y.V.C.Rao ,1997.Chemical Engineering Thermodynamics.Universities Press,Hyderabad,India.\n",
"\n",
"//Chapter-3,Example 16,Page 78\n",
"//Title:Volume using Peng-Robinson equation of state\n",
"//================================================================================================================\n",
"clear \n",
"clc\n",
"\n",
"//INPUT\n",
"T=427.85;//temperature in K\n",
"P=0.215;//saturation pressure in MPa\n",
"Tc=569.4;//critical temperature of n-octane in K\n",
"Pc=24.97;//critical pressure of n-octane in bar\n",
"w=0.398;//acentric factor (no unit) \n",
"R=8.314;//universal gas constant in (Pa m^3)/(mol K)\n",
"\n",
"//CALCULATION\n",
"//The Cardan's method simplifies the equation of state into a cubic equation which can be solved easily\n",
"//The general form of the cubic equation is (Z^3)+(alpha*Z^2)+(beeta*Z)+gaamma=0, where alpha,beeta and gaamma are determined using established relations\n",
"\n",
"Tr=T/Tc;//calculation of reduced temperature (no unit)\n",
"Pr=(P*10^6)/(Pc*10^5);//calculation of reduced pressure (no unit)\n",
"S=0.37464+(1.54226*w)-(0.26992*w^2);//calculation of S using Eq.(3.79)\n",
"alpha1=(1+(S*(1-sqrt(Tr))))^2;//calculation of alpha1 using Eq.(3.78)\n",
"a=(0.45724*R^2*Tc^2*alpha1)/(Pc*10^5);//calculation of the Peng-Robinson constant in (m^6 Pa mol^-2) using Eq.(3.76)\n",
"b=(0.07780*R*Tc)/(Pc*10^5);//calculation of the Peng-Robinson constant in m^3/mol using Eq.(3.77)\n",
"A=(a*P*10^6)/(R*T)^2;//calculation of A to determine alpha,beeta and gaamma by using Eq.(3.25)\n",
"B=(b*P*10^6)/(R*T);//calculation of B to determine alpha,beeta and gaamma by using Eq.(3.26)\n",
"alpha=-1+B;//calculation of alpha for Peng-Robinson equation of state using Table (3.2)\n",
"beeta=A-(2*B)-(3*B^2);//calculation of beeta for Peng-Robinson equation of state using Table (3.2)\n",
"gaamma=-(A*B)+(B^2)+(B^3);//calculation of gaamma for Peng-Robinson equation of state using Table (3.2)\n",
"p=beeta-(alpha^2)/3;//calculation of p to determine the roots of the cubic equation using Eq.(3.29)\n",
"q=((2*alpha^3)/27)-((alpha*beeta)/3)+gaamma;//calculation of q to determine the roots of the cubic equation using Eq.(3.30)\n",
"D=(((q)^2)/4)+(((p)^3)/27);//calculation of D to determine the nature of roots using Eq.(3.31)\n",
"\n",
"if D>0 then\n",
"        Z=((-q/2)+(sqrt(D)))^(1/3)+((-q/2)-(sqrt(D)))^(1/3)-(alpha/3);//One real root given by  Eq.(3.32)\n",
"        vf=((Z)*R*t)/(P*10^6);//Volume of saturated liquid calculated as vf=(Z*R*T)/P in m^3/mol\n",
"        vg=((Z)*R*t)/(P*10^6);//Volume of saturated vapour calculated as vg=(Z*R*T)/P in m^3/mol\n",
"else if D==0 then\n",
"        Z1=((-2*(q/2))^(1/3))-(alpha/3);//Three real roots and two equal given by Eq.(3.33)\n",
"        Z2=((q/2)^(1/3))-(alpha/3);\n",
"        Z3=((q/2)^(1/3))-(alpha/3);\n",
"        Z=[Z1 Z2 Z3];\n",
"        vf=(min(Z)*R*T)/(P*10^6);//Volume of saturated liquid calculated as vf=(Z*R*T)/P in m^3/mol\n",
"        vg=(max(Z)*R*T)/(P*10^6);//Volume of saturated vapour calculated as vg=(Z*R*T)/P in m^3/mol\n",
"    else\n",
"        r=sqrt((-(p^3)/27));//calculation of r using Eq.(3.38)\n",
"        theta=acos((-(q)/2)*(1/r));//calculation of theta in radians using Eq.(3.37)\n",
"        Z1=(2*(r^(1/3))*cos(theta/3))-(alpha/3);\n",
"        Z2=(2*(r^(1/3))*cos(((2*%pi)+theta)/3))-(alpha/3);//Three unequal real roots given by Eqs.(3.34,3.35 and 3.36)\n",
"        Z3=(2*(r^(1/3))*cos(((4*%pi)+theta)/3))-(alpha/3);\n",
"        Z=[Z1 Z2 Z3];\n",
"        vf=(min(Z)*R*T)/(P*10^6);//Volume of saturated liquid calculated as vf=(Z*R*T)/P in m^3/mol\n",
"        vg=(max(Z)*R*T)/(P*10^6);//Volume of saturated vapour calculated as vg=(Z*R*T)/P in m^3/mol\n",
"\n",
"    end\n",
"end\n",
"\n",
"//OUTPUT\n",
"mprintf('\n The volume occupied by n-octane (saturated vapour) obtained by Peng-Robinson equation of state= %f m^3/mol\n',vg);\n",
"mprintf('\n The volume occupied by n-octane (saturated liquid) obtained by Peng-Robinson equation of state= %f m^3/mol\n',vf);\n",
"\n",
"\n",
"\n",
"//===============================================END OF PROGRAM==================================================="
   ]
   }
,
{
		   "cell_type": "markdown",
		   "metadata": {},
		   "source": [
			"## Example 3.1: Specific_volume_and_Specific_internal_energy.sce"
		   ]
		  },
  {
"cell_type": "code",
	   "execution_count": null,
	   "metadata": {
	    "collapsed": true
	   },
	   "outputs": [],
"source": [
"// Y.V.C.Rao ,1997.Chemical Engineering Thermodynamics.Universities Press,Hyderabad,India.\n",
"\n",
"//Chapter-3,Example 1,Page 48\n",
"//Title:Specific volume and Specific internal energy\n",
"//================================================================================================================\n",
"clear \n",
"clc\n",
"\n",
"//INPUT\n",
"X=0.8;//Quality of wet steam (no unit)\n",
"T=150;//Temperature of the wet steam in degree celsius\n",
"vf=0.0010908;//molar volume of saturated liquid in m^3/kg\n",
"vg=0.3924;//molar volume of saturated vapour in m^3/kg\n",
"uf=631.63;//molar internal energy of the saturated liquid in kJ/kg\n",
"ug=2558.6;//molar internal energy of the saturated vapour in kJ/kg\n",
"\n",
"//CALCULATION\n",
"V=(X*vg)+((1-X)*vf);//calculation of specific volume in m^3/kg using Eq.(3.3)\n",
"U=(X*ug)+((1-X)*uf);//calculation of specific internal energy in kJ/kg using Eq.(3.6)\n",
"\n",
"//OUTPUT\n",
"mprintf('\n The specific volume of wet steam= %0.4f m^3/kg \n',V);\n",
"mprintf('\n The specific internal energy of wet steam= %0.1f kJ/kg \n',U);\n",
"\n",
"//===============================================END OF PROGRAM===================================================\n",
""
   ]
   }
,
{
		   "cell_type": "markdown",
		   "metadata": {},
		   "source": [
			"## Example 3.2: Quality_of_wet_steam.sce"
		   ]
		  },
  {
"cell_type": "code",
	   "execution_count": null,
	   "metadata": {
	    "collapsed": true
	   },
	   "outputs": [],
"source": [
"// Y.V.C.Rao ,1997.Chemical Engineering Thermodynamics.Universities Press,Hyderabad,India.\n",
"\n",
"//Chapter-3,Example 2,Page 49\n",
"//Title:Quality of wet steam\n",
"//================================================================================================================\n",
"clear \n",
"clc\n",
"\n",
"//INPUT\n",
"V=1.42;//specific volume of wet steam in m^3/kg\n",
"T=100;//temperature of wet steam in degree celsius\n",
"vf=0.0010437;//molar volume of saturated liquid in m^3/kg\n",
"vg=1.673;//molar volume of saturated vapour in m^3/kg\n",
"\n",
"//CALCULATION\n",
"X=(V-vf)/(vg-vf);//calculation of the quality of wet steam using Eq.(3.3) (no unit)\n",
"\n",
"//OUTPUT\n",
"mprintf('\n The quality of wet steam= %0.4f \n',X);\n",
"\n",
"//===============================================END OF PROGRAM==================================================="
   ]
   }
,
{
		   "cell_type": "markdown",
		   "metadata": {},
		   "source": [
			"## Example 3.3: Volume_ratio.sce"
		   ]
		  },
  {
"cell_type": "code",
	   "execution_count": null,
	   "metadata": {
	    "collapsed": true
	   },
	   "outputs": [],
"source": [
"// Y.V.C.Rao ,1997.Chemical Engineering Thermodynamics.Universities Press,Hyderabad,India.\n",
"\n",
"//Chapter-3,Example 3,Page 49\n",
"//Title:Volume ratio \n",
"//================================================================================================================\n",
"clear \n",
"clc\n",
"\n",
"//INPUT\n",
"T=100;//temperature inside the vessel in degree celsius\n",
"V=0.00317;//specific volume of water at the critical point in m^3/kg\n",
"vf=0.0010437;//molar volume of saturated liquid in m^3/kg\n",
"vg=1.673;//molar volume of saturated vapour in m^3/kg\n",
"\n",
"//CALCULATION\n",
"X=(V-vf)/(vg-vf);//calculation of the quality of wet steam using Eq.(3.3) (no unit)\n",
"ratio=(X*vg)/((1-X)*vf);//calculation of volume ratio of saturated vapour to the saturated liquid (no unit)\n",
"\n",
"//OUTPUT\n",
"mprintf('\n The volume ratio of saturated vapour to the saturated liquid= %0.2f \n',ratio);\n",
"\n",
"//===============================================END OF PROGRAM==================================================="
   ]
   }
,
{
		   "cell_type": "markdown",
		   "metadata": {},
		   "source": [
			"## Example 3.4: Mass_ratio.sce"
		   ]
		  },
  {
"cell_type": "code",
	   "execution_count": null,
	   "metadata": {
	    "collapsed": true
	   },
	   "outputs": [],
"source": [
"// Y.V.C.Rao ,1997.Chemical Engineering Thermodynamics.Universities Press,Hyderabad,India.\n",
"\n",
"//Chapter-3,Example 4,Page 49\n",
"//Title:Mass ratio\n",
"//================================================================================================================\n",
"clear \n",
"clc\n",
"\n",
"//INPUT\n",
"U=2000;//specific internal energy of liquid-vapour mixture in kJ/kg\n",
"uf=850.6;//specific internal energy of saturated liquid in kJ/kg\n",
"ug=2593.2;//specific internal energy of saturated vapour in kJ/kg\n",
"\n",
"//CALCULATION\n",
"mass_ratio=(U-uf)/(ug-U);//calculation of the mass ratio of vapour to liquid using the lever rule (no unit)\n",
"\n",
"//OUTPUT\n",
"mprintf('\n The mass ratio of vapour to liquid= %0.4f \n',mass_ratio);\n",
"\n",
"//===============================================END OF PROGRAM==================================================="
   ]
   }
,
{
		   "cell_type": "markdown",
		   "metadata": {},
		   "source": [
			"## Example 3.5: Volume_using_ideal_gas_law.sce"
		   ]
		  },
  {
"cell_type": "code",
	   "execution_count": null,
	   "metadata": {
	    "collapsed": true
	   },
	   "outputs": [],
"source": [
"// Y.V.C.Rao ,1997.Chemical Engineering Thermodynamics.Universities Press,Hyderabad,India.\n",
"\n",
"//Chapter-3,Example 5,Page 52\n",
"//Title:Volume using ideal gas law\n",
"//================================================================================================================\n",
"clear \n",
"clc\n",
"\n",
"//INPUT\n",
"n=1;//number of moles of n-octane vapour in mol\n",
"T=427.85;//tempearture of n-octane vapour in K\n",
"P=0.215;//pressure n-octane vapour in MPa\n",
"R=8.314;//universal gas constant in (kPa m^3)/(kmol K)\n",
"\n",
"//CALCULATION\n",
"V=((n*10^-3)*R*T)/(P*10^3);//calculation of volume using ideal gas law-Eq.(3.9) in m^3\n",
"\n",
"//OUTPUT\n",
"mprintf('\n The volume occupied by n-octane vapour= %f m^3 \n',V);\n",
"\n",
"//===============================================END OF PROGRAM==================================================="
   ]
   }
,
{
		   "cell_type": "markdown",
		   "metadata": {},
		   "source": [
			"## Example 3.6: Volume_using_van_der_Waals_equation.sce"
		   ]
		  },
  {
"cell_type": "code",
	   "execution_count": null,
	   "metadata": {
	    "collapsed": true
	   },
	   "outputs": [],
"source": [
"// Y.V.C.Rao ,1997.Chemical Engineering Thermodynamics.Universities Press,Hyderabad,India.\n",
"\n",
"//Chapter-3,Example 6,Page 54\n",
"//Title:Volume using van der Waals equation\n",
"//================================================================================================================\n",
"clear \n",
"clc\n",
"\n",
"//INPUT\n",
"n=1;//number of moles occupied by n-octane vapour in mol\n",
"T=427.85;//temperature in K\n",
"P=0.215;//saturation pressure in MPa\n",
"a=3.789;//van der Waals constant in Pa(m^3/mol)^2\n",
"b=2.37*10^-4;//van der Waals constant in m^3/mol\n",
"R=8.314;//universal gas constant in (Pa m^3)/(mol K)\n",
"\n",
"//CALCULATION\n",
"Vguess=(n*R*T)/(P*10^6);//taking the vguess as volume from ideal gas (in m^3/mol) for the iteration process in van der Waals equation\n",
"Vnew=(R*T)/((P*10^6)+(a/Vguess^2))+b;//getting the initial value of volume (in m^3/mol) using van der Waals equation to start the iteration process\n",
"tolerance=1e-6;//defining the tolerance limit for the convergence of the iteration process\n",
"while abs(Vguess-Vnew)>tolerance\n",
"    Vguess=Vnew;\n",
"    Vnew=(R*T)/((P*10^6)+(a/Vguess^2))+b;//the iteration process to solve the system of equation\n",
"end\n",
"V=Vnew;//The volume calculated using the van der Waals equation in m^3/mol\n",
"//OUTPUT\n",
"mprintf('\n The volume occupied by n-octane vapour obtained by van der Waals equation= %f m^3/mol\n',V);\n",
"\n",
"//===============================================END OF PROGRAM==================================================="
   ]
   }
,
{
		   "cell_type": "markdown",
		   "metadata": {},
		   "source": [
			"## Example 3.7: Volume_of_liquid_using_van_der_Waals_equation.sce"
		   ]
		  },
  {
"cell_type": "code",
	   "execution_count": null,
	   "metadata": {
	    "collapsed": true
	   },
	   "outputs": [],
"source": [
"// Y.V.C.Rao ,1997.Chemical Engineering Thermodynamics.Universities Press,Hyderabad,India.\n",
"\n",
"//Chapter-3,Example 7,Page 55\n",
"//Title:Volume of liquid using van der Waals equation\n",
"//================================================================================================================\n",
"clear \n",
"clc\n",
"\n",
"//INPUT\n",
"n=1;//number of moles occupied by n-octane liquid in mol\n",
"T=427.85;//temperature in K\n",
"P=0.215;//saturation pressure in MPa\n",
"a=3.789;//van der Waals constant in Pa(m^3/mol)^2\n",
"b=2.37*10^-4;//van der Waals constant in m^3/mol\n",
"R=8.314;//universal gas constant in (Pa m^3)/(mol K)\n",
"\n",
"//CALCULATION\n",
"Vguess=b;//taking vguess (in m^3/mol) for the iteration process in van der Waals equation\n",
"Vnew=(R*T)/((P*10^6)+(a/Vguess^2))+b;//getting the initial value of volume (in m^3/mol) using van der Waals equation to start the iteration process\n",
"tolerance=1e-6;//defining the tolerance limit for the convergence of the iteration process\n",
"while abs(Vguess-Vnew)>tolerance\n",
"    Vguess=Vnew;\n",
"    Vnew=(R*T)/((P*10^6)+(a/Vguess^2))+b;//the iteration process to solve the system of equation\n",
"end\n",
"V=Vnew;//The volume calculated using the van der Waals equation in m^3/mol\n",
"\n",
"//OUTPUT\n",
"mprintf('\n The volume occupied by n-octane liquid obtained by van der Waals equation= %e m^3/mol\n',V);\n",
"\n",
"//===============================================END OF PROGRAM==================================================="
   ]
   }
,
{
		   "cell_type": "markdown",
		   "metadata": {},
		   "source": [
			"## Example 3.8: Volume_using_Cardans_method.sce"
		   ]
		  },
  {
"cell_type": "code",
	   "execution_count": null,
	   "metadata": {
	    "collapsed": true
	   },
	   "outputs": [],
"source": [
"// Y.V.C.Rao ,1997.Chemical Engineering Thermodynamics.Universities Press,Hyderabad,India.\n",
"\n",
"//Chapter-3,Example 8,Page 57\n",
"//Title:Volume using Cardan's method\n",
"//================================================================================================================\n",
"clear \n",
"clc\n",
"\n",
"//INPUT\n",
"T=427.85;//temperature in K\n",
"P=0.215;//saturation pressure in MPa\n",
"a=3.789;//van der Waals constant in Pa(m^3/mol)^2\n",
"b=2.37*10^-4;//van der Waals constant in m^3/mol\n",
"R=8.314;//universal gas constant in (Pa m^3)/(mol K)\n",
"\n",
"//CALCULATION\n",
"//The Cardan's method simplifies the equation of state into a cubic equation which can be solved easily\n",
"//The general form of the cubic equation is (Z^3)+(alpha*Z^2)+(beeta*Z)+gaamma=0, where alpha,beeta and gaamma are determined using established relations\n",
"\n",
"A=(a*P*10^6)/(R*T)^2;//calculation of A to determine alpha,beeta and gaamma by using Eq.(3.25)\n",
"B=(b*P*10^6)/(R*T);//calculation of B to determine alpha,beeta and gaamma by using Eq.(3.26)\n",
"alpha=-1-B;//calculation of alpha for van der Waals equation of state using Table (3.2)\n",
"beeta=A;//calculation of beeta for van der Waals equation of state using Table (3.2)\n",
"gaamma=-(A*B);//calculation of gaamma for van der Waals equation of state using Table (3.2)\n",
"p=beeta-(alpha^2)/3;//calculation of p to determine the roots of the cubic equation using Eq.(3.29)\n",
"q=((2*alpha^3)/27)-((alpha*beeta)/3)+gaamma;//calculation of q to determine the roots of the cubic equation using Eq.(3.30)\n",
"D=(((q)^2)/4)+(((p)^3)/27);//calculation of D to determine the nature of roots using Eq.(3.31)\n",
"if D>0 then\n",
"        Z=((-q/2)+(sqrt(D)))^(1/3)+((-q/2)-(sqrt(D)))^(1/3)-(alpha/3);//One real root given by  Eq.(3.32)\n",
"        vf=((Z)*R*T)/(P*10^6);//Volume of saturated liquid calculated as vf=(Z*R*T)/P in m^3/mol\n",
"        vg=((Z)*R*T)/(P*10^6);//Volume of saturated vapour calculated as vg=(Z*R*T)/P in m^3/mol\n",
"else if D==0 then\n",
"        Z1=((-2*(q/2))^(1/3))-(alpha/3);//Three real roots and two equal given by Eq.(3.33)\n",
"        Z2=((q/2)^(1/3))-(alpha/3);\n",
"        Z3=((q/2)^(1/3))-(alpha/3);\n",
"        Z=[Z1 Z2 Z3];\n",
"        vf=(min(Z)*R*T)/(P*10^6);//Volume of saturated liquid calculated as vf=(Z*R*T)/P in m^3/mol\n",
"        vg=(max(Z)*R*T)/(P*10^6);//Volume of saturated vapour calculated as vg=(Z*R*T)/P in m^3/mol\n",
"    else\n",
"        r=sqrt((-(p^3)/27));//calculation of r using Eq.(3.38)\n",
"        theta=acos((-(q)/2)*(1/r));//calculation of theta in radians using Eq.(3.37)\n",
"        Z1=(2*(r^(1/3))*cos(theta/3))-(alpha/3);\n",
"        Z2=(2*(r^(1/3))*cos(((2*%pi)+theta)/3))-(alpha/3);//Three unequal real roots given by Eqs.(3.34,3.35 and 3.36)\n",
"        Z3=(2*(r^(1/3))*cos(((4*%pi)+theta)/3))-(alpha/3);\n",
"        Z=[Z1 Z2 Z3];\n",
"        vf=(min(Z)*R*T)/(P*10^6);//Volume of saturated liquid calculated as vf=(Z*R*T)/P in m^3/mol\n",
"        vg=(max(Z)*R*T)/(P*10^6);//Volume of saturated vapour calculated as vg=(Z*R*T)/P in m^3/mol\n",
"\n",
"    end\n",
"end\n",
"\n",
"//OUTPUT\n",
"mprintf('\n The volume occupied by n-octane (saturated liquid) obtained by Cardans method= %e m^3/mol\n',vf);\n",
"mprintf('\n The volume occupied by n-octane (saturated vapour) obtained by Cardans method= %f m^3/mol\n',vg);\n",
"\n",
"\n",
"//===============================================END OF PROGRAM===================================================\n",
"\n",
"//DISCLAIMER: THE COMPUTED VALUE OF Z2 IS 0.0213 AND NOT 0.0187 AS PRINTED IN THE TEXTBOOK. THIS HAS BEEN CORRECTED IN THE ABOVE PROGRAM."
   ]
   }
,
{
		   "cell_type": "markdown",
		   "metadata": {},
		   "source": [
			"## Example 3.9: Volume_using_Redlich_Kwong_equation_of_state_by_implementing_Cardans_method.sce"
		   ]
		  },
  {
"cell_type": "code",
	   "execution_count": null,
	   "metadata": {
	    "collapsed": true
	   },
	   "outputs": [],
"source": [
"// Y.V.C.Rao ,1997.Chemical Engineering Thermodynamics.Universities Press,Hyderabad,India.\n",
"\n",
"//Chapter-3,Example 9,Page 60\n",
"//Title:Volume using Redlich-Kwong equation of state by implementing Cardan's method\n",
"//================================================================================================================\n",
"clear \n",
"clc\n",
"\n",
"//INPUT\n",
"T=427.85;//temperature in K\n",
"P=0.215;//saturation pressure in MPa\n",
"R=8.314;//universal gas constant in (Pa m^3)/(mol K)\n",
"Pc=24.97;//critical pressure of n-octane in bar\n",
"Tc=569.4;//critical temperature of n-octane in K\n",
"\n",
"//CALCULATION\n",
"a=(0.42748*R^2*Tc^2.5)/(Pc*100*10^3*sqrt(T));//calculation of Redlich-Kwong constant in (m^6 Pa mol^-2)\n",
"b=(0.08664*R*Tc)/(Pc*100*10^3);//calculation of Redlich-Kwong constant in m^3/mol\n",
"//The Cardan's method simplifies the equation of state into a cubic equation which can be solved easily\n",
"//The general form of the cubic equation is (Z^3)+(alpha*Z^2)+(beeta*Z)+gaamma=0, where alpha,beeta and gaamma are determined using established relations\n",
"\n",
"A=(a*P*10^6)/(R*T)^2;//calculation of A to determine alpha,beeta and gaamma by using Eq.(3.25)\n",
"B=(b*P*10^6)/(R*T);//calculation of B to determine alpha,beeta and gaamma by using Eq.(3.26)\n",
"alpha=-1;//calculation of alpha for Redlich-Kwong equation of state using Table (3.2)\n",
"beeta=A-B-B^2;//calculation of beeta for Redlich-Kwong equation of state using Table (3.2)\n",
"gaamma=-(A*B);//calculation of gaamma for Redlich-Kwong equation of state using Table (3.2)\n",
"p=beeta-(alpha^2)/3;//calculation of p to determine the roots of the cubic equation using Eq.(3.29)\n",
"q=((2*alpha^3)/27)-((alpha*beeta)/3)+gaamma;//calculation of q to determine the roots of the cubic equation using Eq.(3.30)\n",
"D=(((q)^2)/4)+(((p)^3)/27);//calculation of D to determine the nature of roots using Eq.(3.31)\n",
"\n",
"if D>0 then\n",
"        Z=((-q/2)+(sqrt(D)))^(1/3)+((-q/2)-(sqrt(D)))^(1/3)-(alpha/3);//One real root given by  Eq.(3.32)\n",
"        vf=((Z)*R*T)/(P*10^6);//Volume of saturated liquid calculated as vf=(Z*R*T)/P in m^3/mol\n",
"        vg=((Z)*R*T)/(P*10^6);//Volume of saturated vapour calculated as vg=(Z*R*T)/P in m^3/mol\n",
"else if D==0 then\n",
"        Z1=((-2*(q/2))^(1/3))-(alpha/3);//Three real roots and two equal given by Eq.(3.33)\n",
"        Z2=((q/2)^(1/3))-(alpha/3);\n",
"        Z3=((q/2)^(1/3))-(alpha/3);\n",
"        Z=[Z1 Z2 Z3];\n",
"        vf=(min(Z)*R*T)/(P*10^6);//Volume of saturated liquid calculated as vf=(Z*R*T)/P in m^3/mol\n",
"        vg=(max(Z)*R*T)/(P*10^6);//Volume of saturated vapour calculated as vg=(Z*R*T)/P in m^3/mol\n",
"    else\n",
"        r=sqrt((-(p^3)/27));//calculation of r using Eq.(3.38)\n",
"        theta=acos((-(q)/2)*(1/r));//calculation of theta in radians using Eq.(3.37)\n",
"        Z1=(2*(r^(1/3))*cos(theta/3))-(alpha/3);\n",
"        Z2=(2*(r^(1/3))*cos(((2*%pi)+theta)/3))-(alpha/3);//Three unequal real roots given by Eqs.(3.34,3.35 and 3.36)\n",
"        Z3=(2*(r^(1/3))*cos(((4*%pi)+theta)/3))-(alpha/3);\n",
"        Z=[Z1 Z2 Z3];\n",
"        vf=(min(Z)*R*T)/(P*10^6);//Volume of saturated liquid calculated as vf=(Z*R*T)/P in m^3/mol\n",
"        vg=(max(Z)*R*T)/(P*10^6);//Volume of saturated vapour calculated as vg=(Z*R*T)/P in m^3/mol\n",
"\n",
"    end\n",
"end\n",
"\n",
"//OUTPUT\n",
"mprintf('\n The volume occupied by n-octane (saturated vapour) using Redlich-Kwong equation of state= %f m^3/mol\n',vg);\n",
"mprintf('\n The volume occupied by n-octane (saturated liquid) using Redlich-Kwong equation of state= %f m^3/mol\n',vf);\n",
"\n",
"//===============================================END OF PROGRAM===================================================\n",
"\n",
"//DISCLAIMER:THE COMPUTED VALUE OF Z2 IS 0.0147 AND NOT 0.0163 AS PRINTED IN THE TEXTBOOK. THIS HAS BEEN CORRECTED IN THE ABOVE PROGRAM."
   ]
   }
],
"metadata": {
		  "kernelspec": {
		   "display_name": "Scilab",
		   "language": "scilab",
		   "name": "scilab"
		  },
		  "language_info": {
		   "file_extension": ".sce",
		   "help_links": [
			{
			 "text": "MetaKernel Magics",
			 "url": "https://github.com/calysto/metakernel/blob/master/metakernel/magics/README.md"
			}
		   ],
		   "mimetype": "text/x-octave",
		   "name": "scilab",
		   "version": "0.7.1"
		  }
		 },
		 "nbformat": 4,
		 "nbformat_minor": 0
}
