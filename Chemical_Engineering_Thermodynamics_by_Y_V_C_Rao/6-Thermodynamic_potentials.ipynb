{
"cells": [
 {
		   "cell_type": "markdown",
	   "metadata": {},
	   "source": [
       "# Chapter 6: Thermodynamic potentials"
	   ]
	},
{
		   "cell_type": "markdown",
		   "metadata": {},
		   "source": [
			"## Example 6.10: Maximum_work_obtained_from_steam.sce"
		   ]
		  },
  {
"cell_type": "code",
	   "execution_count": null,
	   "metadata": {
	    "collapsed": true
	   },
	   "outputs": [],
"source": [
"// Y.V.C.Rao ,1997.Chemical Engineering Thermodynamics.Universities Press,Hyderabad,India.\n",
"\n",
"//Chapter-6,Example 10,Page 223\n",
"//Title: Maximum work obtained from steam\n",
"//================================================================================================================\n",
"clear \n",
"clc\n",
"\n",
"//INPUT\n",
"m=0.1;//mass of superheated steam in the piston cylinder assembly in kg\n",
"P1=3;//initial pressure of superheated steam in MPa\n",
"T1=300;//initial temperature of superheated steam in degree celsius\n",
"T0=300;//temperature of the reservoir which is placed in thermal contact with the piston-cylinder assembly in degree celsius\n",
"P2=0.1;//pressure of steam after expansion in MPa\n",
"\n",
"// ADDITIONAL DATA PROVIDED\n",
"//For steam at P1 and T1:\n",
"h1=2995.1;//specific enthalpy of steam in kJ/kg\n",
"v1=0.08116;//specific volume of steam in m^3/kg\n",
"s1=6.5422;//entropy of steam in kJ/kgK\n",
"\n",
"//For steam at P2 and T2:\n",
"h2=3074.5;//specific enthalpy of steam in kJ/kg\n",
"v2=2.6390;//specific volume of steam in m^3/kg\n",
"s2=8.2166;//entropy of steam in kJ/kgK\n",
"\n",
"//CALCULATION\n",
"T0=T0+273.15;//conversion of temperature in K\n",
"\n",
"//The maximum work can be carried out if the process is carried out reversibly, which is given by:\n",
"W=m*(h1-h2-(((P1*v1)-(P2*v2))*10^3)-(T0*(s1-s2)));//calculation of maximum work obtained from the steam using Eq.(6.90) in kJ\n",
"\n",
"//OUTPUT\n",
"mprintf('\n The maximum work obtained from steam=%0.2f kJ\n',W);\n",
"\n",
"//===============================================END OF PROGRAM==================================================="
   ]
   }
,
{
		   "cell_type": "markdown",
		   "metadata": {},
		   "source": [
			"## Example 6.12: Minimum_power_for_compression.sce"
		   ]
		  },
  {
"cell_type": "code",
	   "execution_count": null,
	   "metadata": {
	    "collapsed": true
	   },
	   "outputs": [],
"source": [
"// Y.V.C.Rao ,1997.Chemical Engineering Thermodynamics.Universities Press,Hyderabad,India.\n",
"\n",
"//Chapter-6,Example 12,Page 226\n",
"//Title: Minimum power for compression\n",
"//================================================================================================================\n",
"clear \n",
"clc\n",
"\n",
"//INPUT\n",
"P1=0.1;//pressure at which air enters the compressor in MPa\n",
"T1=300;//temperature at which air enters the compressor in K\n",
"P2=1;//pressure at which air leaves the compressor in MPa\n",
"T2=300;//temperature at which air leaves the compressor in K\n",
"T0=300;//ambient temperature in K\n",
"N=1;//molar flow rate of air in mol/s\n",
"gaamma=1.4;//ratio of specific heat capacities (no unit)\n",
"R=8.314;//universal gas constant in J/molK\n",
"\n",
"//CALCULATION\n",
"\n",
"//T0=T1=T2 and h2-h1=Cp*(T2-T1)=0 as T2=T1\n",
"\n",
"Ws=(-N*T0*(-R*log (P2/P1)))*10^-3;//calculation of minimum power required for compression using Eq.(6.99) in kW\n",
"\n",
"//OUTPUT\n",
"mprintf('\n The minimum power required to compress one mole per second of air=%0.3f kW\n',Ws);\n",
"\n",
"//===============================================END OF PROGRAM==================================================="
   ]
   }
,
{
		   "cell_type": "markdown",
		   "metadata": {},
		   "source": [
			"## Example 6.6: Work_done_by_steam.sce"
		   ]
		  },
  {
"cell_type": "code",
	   "execution_count": null,
	   "metadata": {
	    "collapsed": true
	   },
	   "outputs": [],
"source": [
"// Y.V.C.Rao ,1997.Chemical Engineering Thermodynamics.Universities Press,Hyderabad,India.\n",
"\n",
"//Chapter-6,Example 6,Page 218\n",
"//Title: Work done by steam\n",
"//================================================================================================================\n",
"clear \n",
"clc\n",
"\n",
"//INPUT\n",
"m=0.1;//mass of superheated steam in the piston cylinder assembly in kg\n",
"P1=1;//initial pressure of superheated steam in MPa\n",
"T1=300;//initial temperature of superheated steam in degree celsius\n",
"P2=0.1;//pressure of steam after expansion in MPa\n",
"T2=200;//temperature of steam after expansion in degree celsius\n",
"\n",
"//CALCULATION\n",
"//For steam at P1 and T1:\n",
"h1=3052.1;//specific enthalpy of steam in kJ/kg\n",
"v1=0.2580;//specific volume of steam in m^3/kg\n",
"\n",
"//For steam at P2 and T2:\n",
"h2=2875.4;//specific enthalpy of steam in kJ/kg\n",
"v2=2.1720;//specific volume of steam in m^3/kg\n",
"\n",
"del_u=(((h1*10^3)-(P1*10^6*v1))-((h2*10^3)-(P2*10^6*v2)))*10^-3;//calculation of the change in internal energy of the steam in kJ/kg\n",
"W=m*(del_u);//calculation of the work done by  using Eq.(6.77)steam in kJ\n",
"\n",
"//OUTPUT\n",
"mprintf('\n The work done by steam=%0.2f kJ\n',W);\n",
"\n",
"//===============================================END OF PROGRAM==================================================="
   ]
   }
,
{
		   "cell_type": "markdown",
		   "metadata": {},
		   "source": [
			"## Example 6.8: Power_output_of_the_turbine.sce"
		   ]
		  },
  {
"cell_type": "code",
	   "execution_count": null,
	   "metadata": {
	    "collapsed": true
	   },
	   "outputs": [],
"source": [
"// Y.V.C.Rao ,1997.Chemical Engineering Thermodynamics.Universities Press,Hyderabad,India.\n",
"\n",
"//Chapter-6,Example 8,Page 220\n",
"//Title: Power output of the turbine\n",
"//================================================================================================================\n",
"clear \n",
"clc\n",
"\n",
"//INPUT\n",
"P=3;//pressure of superheated steam in MPa\n",
"Ti=300;//temperature at which the steam enters the turbine in degree celsius\n",
"m=1;//mass flow rate of steam in kg/s\n",
"Te=60;//temperature of dry saturated steam when it leaves the turbine in degree celsius\n",
"\n",
"//CALCULATION\n",
"//For steam at P and Ti:\n",
"h1=2995.1;//specific entahlpy of steam in kJ/kg\n",
"\n",
"//For saturated steam at Te:\n",
"h2=2609.7;//specific enthalpy of saturated vapour in kJ/kg\n",
"\n",
"Ws=m*(h1-h2);//calculation of the power output of the turbine using Eq.(6.83) in kW\n",
"\n",
"//OUTPUT\n",
"mprintf('\n The power output of the turbine=%0.1f kW\n',Ws);\n",
"\n",
"//===============================================END OF PROGRAM==================================================="
   ]
   }
],
"metadata": {
		  "kernelspec": {
		   "display_name": "Scilab",
		   "language": "scilab",
		   "name": "scilab"
		  },
		  "language_info": {
		   "file_extension": ".sce",
		   "help_links": [
			{
			 "text": "MetaKernel Magics",
			 "url": "https://github.com/calysto/metakernel/blob/master/metakernel/magics/README.md"
			}
		   ],
		   "mimetype": "text/x-octave",
		   "name": "scilab",
		   "version": "0.7.1"
		  }
		 },
		 "nbformat": 4,
		 "nbformat_minor": 0
}
