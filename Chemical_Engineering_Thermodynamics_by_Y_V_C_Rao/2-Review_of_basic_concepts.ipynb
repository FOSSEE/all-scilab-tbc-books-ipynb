{
"cells": [
 {
		   "cell_type": "markdown",
	   "metadata": {},
	   "source": [
       "# Chapter 2: Review of basic concepts"
	   ]
	},
{
		   "cell_type": "markdown",
		   "metadata": {},
		   "source": [
			"## Example 2.1: work_done_by_gas.sce"
		   ]
		  },
  {
"cell_type": "code",
	   "execution_count": null,
	   "metadata": {
	    "collapsed": true
	   },
	   "outputs": [],
"source": [
"// Y.V.C.Rao ,1997.Chemical Engineering Thermodynamics.Universities Press,Hyderabad,India.\n",
"\n",
"//Chapter-2,Example 1,Page 29\n",
"//Title:Work done by gas\n",
"//================================================================================================================\n",
"clear \n",
"clc\n",
"\n",
"//INPUT\n",
"R=8.314;//universal gas constant in J/molK\n",
"t1=300;//initial temperature of gas in K\n",
"p1=0.1;//initial pressure of the gas in MPa\n",
"p2=0.5;//pressure of gas after heating in MPa\n",
"p3=0.1;//pressure of gas after expansion in MPa\n",
"n=1;//number of moles of gas in mole\n",
"\n",
"//CALCULATION\n",
"w1=0*n;//calculation of work done by the gas during heating in kJ (since dv=0)\n",
"t2=t1*(p2/p1);//calculation of temperature of gas after heating in K\n",
"t3=t2;//calculation of temperature of gas after expansion in K (constant temperature expansion)\n",
"volume2=p2/p3;//calculation of  ratio of volume of gas after expansion to the volume of gas after heating (no unit)\n",
"w2=(R*t2*log(volume2)*n)/1000;//calculation of work done  by the gas during expansion in kJ\n",
"volume3= t3/t1;//calculation of ratio of volume of gas after expansion to the final volume of gas (no unit)\n",
"w3=(R*t1*(1-volume3)*n)/1000;//calculation of work done by the gas during constant pressure compression in kJ\n",
"work_net=w1+w2+w3;//calculation of net work done by the gas for the process in kJ\n",
"\n",
"//OUTPUT\n",
"mprintf('\n Work done during heating process:Work from 1-2= %d kJ \n',w1);\n",
"mprintf('\n Work done during constant temperature expansion: Work from 2-3= %f kJ \n',w2);\n",
"mprintf('\n Work done during constant pressure compression: Work from 3-1= %f kJ \n',w3);\n",
"mprintf('\n Net work done by the gas during the process= %f kJ \n',work_net);\n",
"//===============================================END OF PROGRAM==================================================="
   ]
   }
,
{
		   "cell_type": "markdown",
		   "metadata": {},
		   "source": [
			"## Example 2.2: work_done_by_gas_in_piston_cylinder_assembly.sce"
		   ]
		  },
  {
"cell_type": "code",
	   "execution_count": null,
	   "metadata": {
	    "collapsed": true
	   },
	   "outputs": [],
"source": [
"// Y.V.C.Rao ,1997.Chemical Engineering Thermodynamics.Universities Press,Hyderabad,India.\n",
"\n",
"//Chapter-2,Example 2,Page 30\n",
"//Title:Work done by gas in piston cylinder assembly\n",
"//================================================================================================================\n",
"clear \n",
"clc\n",
"\n",
"//INPUT\n",
"v1=0.1;//volume of gas initially present in the cylinder in m^3\n",
"p1=0.1;//initial pressure of gas in MPa\n",
"p_atm=0.1;//atmospheric pressure acting on the piston in MPa\n",
"v2=0.3;//volume of gas after heating in m^3\n",
"p2=0.6;//pressure of gas after heating in MPa\n",
"\n",
"//CALCULATION\n",
"work=((p1+p2)*(v2-v1)*10^6)/(2*1000);//calculation of work done by the gas in kJ \n",
"//calculation is done by using reversible work done as integral of Pdv followed by a force balance taken on the piston\n",
"\n",
"//OUTPUT\n",
"mprintf('\n The work done by the gas = %d kJ',work);\n",
"\n",
"//===============================================END OF PROGRAM==================================================="
   ]
   }
],
"metadata": {
		  "kernelspec": {
		   "display_name": "Scilab",
		   "language": "scilab",
		   "name": "scilab"
		  },
		  "language_info": {
		   "file_extension": ".sce",
		   "help_links": [
			{
			 "text": "MetaKernel Magics",
			 "url": "https://github.com/calysto/metakernel/blob/master/metakernel/magics/README.md"
			}
		   ],
		   "mimetype": "text/x-octave",
		   "name": "scilab",
		   "version": "0.7.1"
		  }
		 },
		 "nbformat": 4,
		 "nbformat_minor": 0
}
