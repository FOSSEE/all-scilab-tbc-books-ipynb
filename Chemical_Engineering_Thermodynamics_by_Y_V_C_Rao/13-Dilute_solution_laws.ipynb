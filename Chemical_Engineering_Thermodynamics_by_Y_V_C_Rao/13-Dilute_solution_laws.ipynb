{
"cells": [
 {
		   "cell_type": "markdown",
	   "metadata": {},
	   "source": [
       "# Chapter 13: Dilute solution laws"
	   ]
	},
{
		   "cell_type": "markdown",
		   "metadata": {},
		   "source": [
			"## Example 13.1: Depression_in_freezing_point.sce"
		   ]
		  },
  {
"cell_type": "code",
	   "execution_count": null,
	   "metadata": {
	    "collapsed": true
	   },
	   "outputs": [],
"source": [
"// Y.V.C.Rao ,1997.Chemical Engineering Thermodynamics.Universities Press,Hyderabad,India.\n",
"\n",
"//Chapter-13,Example 1,Page 478\n",
"//Title:Depression in freezing point\n",
"//================================================================================================================\n",
"clear \n",
"clc\n",
"\n",
"//INPUT\n",
"weight=10; //weight of NaCl in grams\n",
"volume=1; //volume of water in litres\n",
"weight_water=1000; //  weight of water in grams (Weight=Volume*Density, density of water =1g/cc=1g/ml=1000g/l)\n",
"molwt_NaCl=58.5; //molecular weight of NaCl in grams\n",
"molwt_water=18; //molecular weight of water in grams\n",
"hf=6.002; //enthalpy change of fusion in kJ/mol at 0 degree celsius\n",
"P=101.325; //pressure in kPa\n",
"T=273.15; // freezing point temperature of water at the given pressure in K\n",
"R=8.314; //universal gas constant in J/molK;\n",
"\n",
"//CALCULATION\n",
"x2=(weight/molwt_NaCl)/((weight/molwt_NaCl)+(weight_water/molwt_water));//  calculation of mole fraction of solute NaCl (no unit)\n",
"delt=(R*T^2*x2)/(hf*10^3);//calculation of depression in freezing point of water using Eq.(13.14)\n",
"\n",
"//OUTPUT\n",
"mprintf('\n The depression in freezing point of water when 10g of NaCl solute is added = %0.2f K',delt);\n",
"\n",
"//===============================================END OF PROGRAM==================================================="
   ]
   }
,
{
		   "cell_type": "markdown",
		   "metadata": {},
		   "source": [
			"## Example 13.2: Elevation_in_Boiling_Point.sce"
		   ]
		  },
  {
"cell_type": "code",
	   "execution_count": null,
	   "metadata": {
	    "collapsed": true
	   },
	   "outputs": [],
"source": [
"// Y.V.C.Rao ,1997.Chemical Engineering Thermodynamics.Universities Press,Hyderabad,India.\n",
"\n",
"//Chapter-13,Example 2,Page 480\n",
"//Title:Elevation in Boiling Point\n",
"//================================================================================================================\n",
"clear \n",
"clc\n",
"\n",
"//INPUT\n",
"weight=10; //weight of NaCl in grams\n",
"volume=1; //volume of water in litres\n",
"weight_water=1000; //  weight of water in grams (Weight=Volume*Density, density of water =1g/cc=1g/ml=1000g/l)\n",
"molwt_NaCl=58.5; //molecular weight of NaCl in grams\n",
"molwt_water=18; //molecular weight of water in grams\n",
"lat_ht=2256.94; //latent heat of vaporization in kJ/kg at 100 degree celsius (obtained from steam tables)\n",
"P=101.325; //pressure in kPa\n",
"T=373.15; //boiling point temperature of water at the given pressure in K\n",
"R=8.314; //universal gas constant in J/molK\n",
"\n",
"//CALCULATION\n",
"x2=0.0031;//mole fraction of solute NaCl (From Example 13.1)(no unit)\n",
"hv=(lat_ht*molwt_water)/1000; //conversion of latent heat from kJ/kg to kJ/mol\n",
"delt=(R*T^2*x2)/(hv*10^3); //calculation of elevation in boiling point of water using Eq.(13.24)\n",
"\n",
"//OUTPUT\n",
"mprintf('\n The elevation in boiling point of water when 10g of NaCl solute is added = %0.2f K',delt);\n",
"\n",
"//===============================================END OF PROGRAM==================================================="
   ]
   }
,
{
		   "cell_type": "markdown",
		   "metadata": {},
		   "source": [
			"## Example 13.3: Osmotic_pressure.sce"
		   ]
		  },
  {
"cell_type": "code",
	   "execution_count": null,
	   "metadata": {
	    "collapsed": true
	   },
	   "outputs": [],
"source": [
"// Y.V.C.Rao ,1997.Chemical Engineering Thermodynamics.Universities Press,Hyderabad,India.\n",
"\n",
"//Chapter-13,Example 3,Page 481\n",
"//Title:Osmotic pressure\n",
"//================================================================================================================\n",
"clear \n",
"clc\n",
"\n",
"//INPUT\n",
"weight=10; //weight of NaCl in grams\n",
"weight_water=1000; //  weight of water in grams\n",
"molwt_NaCl=58.5; //molecular weight of NaCl in grams\n",
"molwt_water=18; //molecular weight of water in grams\n",
"T=300; //prevailing temperature of water in K\n",
"R=8.314; //universal gas constant in (Pa m^3)/(mol K);\n",
"v=18*10^-6;//molar volume in m^3/mol\n",
"//CALCULATION\n",
"x2=0.0031;//mole fraction of solute NaCl (From Example 13.1)(no unit)\n",
"pi=((R*T*x2)/v)*10^-3; // calulation of osmotic pressure using Eq(13.30)(in kPa)\n",
"\n",
"//OUTPUT\n",
"mprintf('\n The osmotic pressure of a solution conatining 10g of NaCl in 1000g of water at 300K = %0.2f kPa',pi);\n",
"\n",
"//===============================================END OF PROGRAM==================================================="
   ]
   }
,
{
		   "cell_type": "markdown",
		   "metadata": {},
		   "source": [
			"## Example 13.4: Ideal_solubility.sce"
		   ]
		  },
  {
"cell_type": "code",
	   "execution_count": null,
	   "metadata": {
	    "collapsed": true
	   },
	   "outputs": [],
"source": [
"// Y.V.C.Rao ,1997.Chemical Engineering Thermodynamics.Universities Press,Hyderabad,India.\n",
"\n",
"//Chapter-13,Example 4,Page 483\n",
"//Title:Ideal solubility\n",
"//================================================================================================================\n",
"clear \n",
"clc\n",
"\n",
"//INPUT\n",
"temp=20; // prevailing tempearture in degree celsius\n",
"melt_temp=80.05; // melting point of naphthalene in degree celsius\n",
"hf=18.574; // enthalpy of fusion in kJ/mol\n",
"R=8.314; // universal gas constant in J/molK\n",
"\n",
"//CALCULATION\n",
"t=temp+273.15; // convesion of prevailing temperature to K\n",
"melt_t=melt_temp+273.15; //conversion of melting point of naphtalene to K\n",
"x2=exp(((hf*10^3)/R)*((1/melt_t)-(1/t))); //calculation of ideal solubility using Eq.(13.40)(no unit)\n",
"\n",
"//OUTPUT\n",
"mprintf('\n The ideal solubility of naphthalene at 20 degree celsius= %0.4f',x2);\n",
"\n",
"//===============================================END OF PROGRAM==================================================="
   ]
   }
,
{
		   "cell_type": "markdown",
		   "metadata": {},
		   "source": [
			"## Example 13.5: Solubility_of_gas.sce"
		   ]
		  },
  {
"cell_type": "code",
	   "execution_count": null,
	   "metadata": {
	    "collapsed": true
	   },
	   "outputs": [],
"source": [
"// Y.V.C.Rao ,1997.Chemical Engineering Thermodynamics.Universities Press,Hyderabad,India.\n",
"\n",
"//Chapter-13,Example 5,Page 483\n",
"//Title:Solubility of gas\n",
"//================================================================================================================\n",
"clear \n",
"clc\n",
"\n",
"//INPUT\n",
"t=295.43; //prevailing temperature in K\n",
"sat_p=6.05; //Sasturation pressure of carbon dioxide at the prevailing temperature in MPa\n",
"p=0.1; //pressure at which solubility has to be determined in MPa\n",
"\n",
"//CALCULATION\n",
"x2=p/sat_p; //calculation of solubility using Eq.(13.44)(no unit)\n",
"\n",
"//OUTPUT\n",
"mprintf('\n The solubility of carbon dioxide expressed in mole fraction of carbon dioxide in solution at 0.1MPa= %0.4f',x2);\n",
"\n",
"//===============================================END OF PROGRAM===================================================\n",
" "
   ]
   }
],
"metadata": {
		  "kernelspec": {
		   "display_name": "Scilab",
		   "language": "scilab",
		   "name": "scilab"
		  },
		  "language_info": {
		   "file_extension": ".sce",
		   "help_links": [
			{
			 "text": "MetaKernel Magics",
			 "url": "https://github.com/calysto/metakernel/blob/master/metakernel/magics/README.md"
			}
		   ],
		   "mimetype": "text/x-octave",
		   "name": "scilab",
		   "version": "0.7.1"
		  }
		 },
		 "nbformat": 4,
		 "nbformat_minor": 0
}
