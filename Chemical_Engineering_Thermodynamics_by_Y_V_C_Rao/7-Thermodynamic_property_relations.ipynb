{
"cells": [
 {
		   "cell_type": "markdown",
	   "metadata": {},
	   "source": [
       "# Chapter 7: Thermodynamic property relations"
	   ]
	},
{
		   "cell_type": "markdown",
		   "metadata": {},
		   "source": [
			"## Example 7.10: Pressure_at_which_boiler_is_to_be_operated.sce"
		   ]
		  },
  {
"cell_type": "code",
	   "execution_count": null,
	   "metadata": {
	    "collapsed": true
	   },
	   "outputs": [],
"source": [
"// Y.V.C.Rao ,1997.Chemical Engineering Thermodynamics.Universities Press,Hyderabad,India.\n",
"\n",
"//Chapter-7,Example 10,Page 259\n",
"//Title: Pressure at which boiler is to be operated\n",
"//================================================================================================================\n",
"clear \n",
"clc\n",
"\n",
"//INPUT\n",
"T2=150;//temperature at which water it is desired to boil water in degree celsius\n",
"P1=0.10133;//ambient pressure in MPa\n",
"T1=100;//temperature at which water boils corresponding at pressure P1 in degree celsius\n",
"del_hv=2256.94;//enthalpy of vaporization in kJ/kg\n",
"R=8.314;//universal gas constant in J/molK\n",
"M=18*10^-3;//molar mass of water in kg/mol\n",
"\n",
"//CALCULATION\n",
"T1=T1+273.15;//conversion of temperature in K\n",
"T2=T2+273.15;//conversion of temperature in K\n",
"P2=P1*(exp (((del_hv*10^3*M)*((1/T1)-(1/T2)))/(R)));//calculation of the approximate pressure at which the boiler is to be operated using Eq.(7.92) in MPa\n",
"\n",
"//OUTPUT\n",
"mprintf('\n The approximate pressure at which the boiler is to be operated=%0.3f MPa\n',P2);\n",
"\n",
"//===============================================END OF PROGRAM==================================================="
   ]
   }
,
{
		   "cell_type": "markdown",
		   "metadata": {},
		   "source": [
			"## Example 7.11: The_skating_problem.sce"
		   ]
		  },
  {
"cell_type": "code",
	   "execution_count": null,
	   "metadata": {
	    "collapsed": true
	   },
	   "outputs": [],
"source": [
"// Y.V.C.Rao ,1997.Chemical Engineering Thermodynamics.Universities Press,Hyderabad,India.\n",
"\n",
"//Chapter-7,Example 11,Page 259\n",
"//Title: The skating problem\n",
"//================================================================================================================\n",
"clear \n",
"clc\n",
"\n",
"//INPUT\n",
"m=60;//mass of the person who wants to skate in kg\n",
"T=-2;//temperature of the ice in degree celsius\n",
"A=15;//area of contact between the skate edges and ice in mm^2\n",
"vs=1.091*10^-3;//specific volume of ice in m^3/kg (at Tref)\n",
"vf=1.0*10^-3;//specific volume of water in m^3/kg (at Tref)\n",
"del_hf=6.002;//enthalpy of melting of ice in kJ/mol\n",
"g=9.81;//accleration due to gravity in m/s^2\n",
"Tref=0;//reference temperature at which the specific enthalpy of ice and water are taken in degree celsius\n",
"\n",
"//CALCULATION\n",
"Tref=Tref+273.15;//conversion of temperature in K\n",
"del_P=((m*g)/(A*10^-6))*10^-6;//calculation of the pressure exerted on the ice by the skater in MPa\n",
"del_v=(vf-vs)*(18*10^-3);//calculation of the change in volume in m^3/mol\n",
"del_T=(del_P*10^6)/((del_hf*10^3)/(Tref*del_v));//calculation of the reduction in melting point of ice using Eq.(7.86)(Clapeyron equation) in degree celsius\n",
"\n",
"//OUTPUT\n",
"mprintf('\n The temperature of ice originally = %d degree celsius \n',T);\n",
"mprintf('\n The reduction in melting point of ice due to the additional pressure,computed using the Clayperon equation = %0.2f degree celsius \n',del_T);\n",
"if del_T<T then\n",
"    mprintf ('\n The ice can melt due to the additional pressure and therefore it will be possible to skate \n');\n",
"else\n",
"    mprintf ('\n The ice will not melt and therefore it will be difficult to skate \n');\n",
"end\n",
"\n",
"//===============================================END OF PROGRAM==================================================="
   ]
   }
,
{
		   "cell_type": "markdown",
		   "metadata": {},
		   "source": [
			"## Example 7.12: Enthalpy_of_vaporization.sce"
		   ]
		  },
  {
"cell_type": "code",
	   "execution_count": null,
	   "metadata": {
	    "collapsed": true
	   },
	   "outputs": [],
"source": [
"// Y.V.C.Rao ,1997.Chemical Engineering Thermodynamics.Universities Press,Hyderabad,India.\n",
"\n",
"//Chapter-7,Example 12,Page 261\n",
"//Title: Enthalpy of vaporization \n",
"//================================================================================================================\n",
"clear \n",
"clc\n",
"\n",
"//INPUT\n",
"T1=100;//temperature of water in degree celsius\n",
"del_hv1=2256.94;//enthalpy of vaporization at T1 in kJ/kg\n",
"T2=150;//temperature at which the enthalpy of vaporization is to be determined in degree celsius\n",
"Cp_f=4.26;//isobaric heat capacity of liquid in kJ/kgK\n",
"Cp_g=1.388;//isobaric heat capacity of vapour in kJ/kgK\n",
"\n",
"//CALCULATION\n",
"del_hv2=((Cp_g-Cp_f)*(T2-T1))+del_hv1;//calculation of the enthalpy of vaporization at T2 using Eq.(7.98) (Kirchhoff equation) in kJ/kg\n",
"\n",
"//OUTPUT\n",
"mprintf('\n The enthalpy of vaporization at 150 degree celsius=%0.2f kJ/kg\n',del_hv2);\n",
"\n",
"//===============================================END OF PROGRAM===================================================\n",
""
   ]
   }
,
{
		   "cell_type": "markdown",
		   "metadata": {},
		   "source": [
			"## Example 7.13: Enthalpy_of_vaporization_using_Watsons_correlation.sce"
		   ]
		  },
  {
"cell_type": "code",
	   "execution_count": null,
	   "metadata": {
	    "collapsed": true
	   },
	   "outputs": [],
"source": [
"// Y.V.C.Rao ,1997.Chemical Engineering Thermodynamics.Universities Press,Hyderabad,India.\n",
"\n",
"//Chapter-7,Example 13,Page 261\n",
"//Title: Enthalpy of vaporization using Watson's correlation\n",
"//================================================================================================================\n",
"clear \n",
"clc\n",
"\n",
"//INPUT\n",
"T1=100;//temperature of water in degree celsius\n",
"del_hv1=2256.94;//enthalpy of vaporization at T1 in kJ/kg\n",
"T2=150;//temperature at which the enthalpy of vaporization is to be determined in degree celsius\n",
"del_hv_kirchoff=2113.34;//enthalpy of vaporization predicted by the Kirchhoff relation taken from Example 7.12 for comparison, in kJ/kg\n",
"del_hv_steam_tables=2113.25;//enthalpy of vaporization taken from the steam tables corresponding to T2,for comparison, in kJ/kg\n",
"Tc=647.3;//critical temperature of water in K\n",
"\n",
"//CALCULATION\n",
"T1=T1+273.15;//conversion of temperature in K\n",
"T2=T2+273.15;//conversion of temperature in K\n",
"Tr1=T1/Tc;//calculation of reduced temperature corresponding to state 1 (no unit)\n",
"Tr2=T2/Tc;//calculation of reduced temperature corresponding to state 2 (no unit)\n",
"del_hv2=del_hv1*(((1-Tr2)/(1-Tr1))^0.38);//calculation of enthalpy of vaporization at T2 using Eq.(7.101) in kJ/kg\n",
"\n",
"//OUTPUT\n",
"mprintf('\n The enthalpy of vaporization at 150 degree celsius using \n');\n",
"mprintf('\n Watson correlation \t = %f kJ/kg\n',del_hv2);\n",
"mprintf('\n Kirchhoffs relation \t = %f kJ/kg\n',del_hv_kirchoff);\n",
"mprintf('\n From steam tables \t = %f kJ/kg\n',del_hv_steam_tables);\n",
"\n",
"//===============================================END OF PROGRAM===================================================\n",
""
   ]
   }
,
{
		   "cell_type": "markdown",
		   "metadata": {},
		   "source": [
			"## Example 7.14: Enthalpy_of_vaporization_using_Riedels_correlation.sce"
		   ]
		  },
  {
"cell_type": "code",
	   "execution_count": null,
	   "metadata": {
	    "collapsed": true
	   },
	   "outputs": [],
"source": [
"// Y.V.C.Rao ,1997.Chemical Engineering Thermodynamics.Universities Press,Hyderabad,India.\n",
"\n",
"//Chapter-7,Example 14,Page 262\n",
"//Title: Enthalpy of vaporization using Riedel's correlation\n",
"//================================================================================================================\n",
"clear \n",
"clc\n",
"\n",
"//INPUT\n",
"T=373.15;//normal boiling point of water in K (temperature at which the enthalpy of vaporization is to be determined)\n",
"Pc=221.2//critical pressure of water in bar\n",
"Tc=647.3;//critical temperature of water in K\n",
"R=8.314;//universal gas constant in J/molK\n",
"del_hvn_steam_tables=2256.94;//enthalpy of vaporization at the normal boiling point taken from the steam tables, for comparison, in kJ/kg\n",
"\n",
"//CALCULATION\n",
"Tbr=T/Tc;//calculation of the reduced normal boiling point (no unit)\n",
"//calculation of the enthalpy of vaporization at the normal boiling point using Eq.(7.102) in kJ/kg\n",
"del_hvn=((1.093*R*Tc*(Tbr*((log (Pc)-1.013)/(0.930-Tbr))))*10^-3)/(18*10^-3);\n",
"err=abs ((del_hvn-del_hvn_steam_tables)/del_hvn_steam_tables)*100;//calculation of percentage error\n",
"\n",
"//OUTPUT\n",
"mprintf('\n The enthalpy of vaporization at the normal boiling point \n');\n",
"mprintf('\n Using Riedels correlation \t = %f kJ/kg\n',del_hvn);\n",
"mprintf('\n From the steam tables \t \t = %f kJ/kg\n',del_hvn_steam_tables);\n",
"mprintf('\n Error \t \t \t \t = %f %% \n',err);\n",
"\n",
"//===============================================END OF PROGRAM===================================================\n",
""
   ]
   }
],
"metadata": {
		  "kernelspec": {
		   "display_name": "Scilab",
		   "language": "scilab",
		   "name": "scilab"
		  },
		  "language_info": {
		   "file_extension": ".sce",
		   "help_links": [
			{
			 "text": "MetaKernel Magics",
			 "url": "https://github.com/calysto/metakernel/blob/master/metakernel/magics/README.md"
			}
		   ],
		   "mimetype": "text/x-octave",
		   "name": "scilab",
		   "version": "0.7.1"
		  }
		 },
		 "nbformat": 4,
		 "nbformat_minor": 0
}
