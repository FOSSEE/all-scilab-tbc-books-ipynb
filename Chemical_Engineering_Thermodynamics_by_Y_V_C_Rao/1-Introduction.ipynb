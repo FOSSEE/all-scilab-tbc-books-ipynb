{
"cells": [
 {
		   "cell_type": "markdown",
	   "metadata": {},
	   "source": [
       "# Chapter 1: Introduction"
	   ]
	},
{
		   "cell_type": "markdown",
		   "metadata": {},
		   "source": [
			"## Example 1.1: weight_of_payload.sce"
		   ]
		  },
  {
"cell_type": "code",
	   "execution_count": null,
	   "metadata": {
	    "collapsed": true
	   },
	   "outputs": [],
"source": [
"// Y.V.C.Rao ,1997.Chemical Engineering Thermodynamics.Universities Press,Hyderabad,India.\n",
"\n",
"//Chapter-1,Example 1,Page 6\n",
"//Title:Weight of payload\n",
"//================================================================================================================\n",
"clear \n",
"clc\n",
"\n",
"//INPUT\n",
"weight=981; //weight of payload in N\n",
"gmoon=1.62;//acceleration due to gravity on the moon in m/s^2\n",
"g=9.81;//acceleration due to gravity on earth\n",
"\n",
"//CALCULATION\n",
"mass=weight/g;//calculation of mass of the payload in kg (calculated as F=m*g)\n",
"weightmoon=mass*gmoon;//calculation of weight of payload on the moon in N\n",
"\n",
"//OUTPUT\n",
"mprintf('\n The weight of payload on the moon= %d N',weightmoon);\n",
"\n",
"//===============================================END OF PROGRAM==================================================="
   ]
   }
,
{
		   "cell_type": "markdown",
		   "metadata": {},
		   "source": [
			"## Example 1.2: Force_due_to_atmospheric_air.sce"
		   ]
		  },
  {
"cell_type": "code",
	   "execution_count": null,
	   "metadata": {
	    "collapsed": true
	   },
	   "outputs": [],
"source": [
"// Y.V.C.Rao ,1997.Chemical Engineering Thermodynamics.Universities Press,Hyderabad,India.\n",
"\n",
"//Chapter-1,Example 2,Page 7\n",
"//Title:Force due to atmospheric air\n",
"//================================================================================================================\n",
"clear \n",
"clc\n",
"\n",
"//INPUT\n",
"l=15;//length of the child's head in cm\n",
"b=12;//breadth of the child's head in cm\n",
"p=101325;//atmospheric pressure in Pa\n",
"\n",
"//CALCULATION\n",
"area=(l*b)/(10^4);//calculation of area of the child's head in m^2\n",
"force=p*area;//calculation of force exerted on the child's head due to atmospheric air in N\n",
"\n",
"//OUTPUT\n",
"mprintf('\n The force exerted on the childs head due to atmospheric air= %f N',force);\n",
"\n",
"//===============================================END OF PROGRAM==================================================="
   ]
   }
,
{
		   "cell_type": "markdown",
		   "metadata": {},
		   "source": [
			"## Example 1.3: pressure_drop.sce"
		   ]
		  },
  {
"cell_type": "code",
	   "execution_count": null,
	   "metadata": {
	    "collapsed": true
	   },
	   "outputs": [],
"source": [
"// Y.V.C.Rao ,1997.Chemical Engineering Thermodynamics.Universities Press,Hyderabad,India.\n",
"\n",
"//Chapter-1,Example 3,Page 7\n",
"//Title:Pressure drop\n",
"//================================================================================================================\n",
"clear \n",
"clc\n",
"\n",
"//INPUT\n",
"rho_water=1000;//density of water flowing through the pipeline in kg/m^3\n",
"rho_manomtr=1595;//density of manometric fluid (carbon tetrachloride) in kg/m^3\n",
"l=40;//length between the selected sections in cm\n",
"theta=45;//inclination of the manometer in degrees\n",
"g=9.81;//acceleration due to gravity in m/s^2\n",
"\n",
"//CALCULATION\n",
"delp=(l/100)*sin((theta*%pi)/180)*g*(rho_manomtr-rho_water);//calculation of pressure drop between the required sections in Pa\n",
"\n",
"//OUTPUT\n",
"mprintf('\n The pressure drop between the required sections= %f Pa',delp);\n",
"\n",
"//===============================================END OF PROGRAM==================================================="
   ]
   }
],
"metadata": {
		  "kernelspec": {
		   "display_name": "Scilab",
		   "language": "scilab",
		   "name": "scilab"
		  },
		  "language_info": {
		   "file_extension": ".sce",
		   "help_links": [
			{
			 "text": "MetaKernel Magics",
			 "url": "https://github.com/calysto/metakernel/blob/master/metakernel/magics/README.md"
			}
		   ],
		   "mimetype": "text/x-octave",
		   "name": "scilab",
		   "version": "0.7.1"
		  }
		 },
		 "nbformat": 4,
		 "nbformat_minor": 0
}
