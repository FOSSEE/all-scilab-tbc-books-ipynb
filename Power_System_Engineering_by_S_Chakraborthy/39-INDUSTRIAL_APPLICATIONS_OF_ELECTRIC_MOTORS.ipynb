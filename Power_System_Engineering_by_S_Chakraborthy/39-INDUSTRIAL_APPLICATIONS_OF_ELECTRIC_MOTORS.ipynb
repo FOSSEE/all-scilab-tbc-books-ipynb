{
"cells": [
 {
		   "cell_type": "markdown",
	   "metadata": {},
	   "source": [
       "# Chapter 39: INDUSTRIAL APPLICATIONS OF ELECTRIC MOTORS"
	   ]
	},
{
		   "cell_type": "markdown",
		   "metadata": {},
		   "source": [
			"## Example 39.10: Additional_resistance_to_be_inserted_in_the_field_circuit_to_raise_the_speed.sce"
		   ]
		  },
  {
"cell_type": "code",
	   "execution_count": null,
	   "metadata": {
	    "collapsed": true
	   },
	   "outputs": [],
"source": [
"// A Texbook on POWER SYSTEM ENGINEERING\n",
"// A.Chakrabarti, M.L.Soni, P.V.Gupta, U.S.Bhatnagar\n",
"// DHANPAT RAI & Co.\n",
"// SECOND EDITION \n",
"\n",
"// PART IV : UTILIZATION AND TRACTION\n",
"// CHAPTER 1: INDUSTRIAL APPLICATIONS OF ELECTRIC MOTORS\n",
"\n",
"// EXAMPLE : 1.10 :\n",
"// Page number 687\n",
"clear ; clc ; close ; // Clear the work space and console\n",
"\n",
"// Given data\n",
"V = 220.0       // DC shunt motor voltage(V)\n",
"I_a1 = 50.0     // Armature current at 800rpm(A)\n",
"N_1 = 800.0     // Speed of dc shunt motor(rpm)\n",
"N_2 = 1000.0    // Speed of dc shunt motor with additional resistance(rpm)\n",
"I_a2 = 75.0     // Armature current with additional resistance(A)\n",
"R_a = 0.15      // Armature resistance(ohm)\n",
"R_f = 250.0     // Field resistance(ohm)\n",
"\n",
"// Calculations\n",
"E_b1 = V-R_a*I_a1                 // Back emf at 800 rpm(V)\n",
"I_f1 = V/R_f                      // Shunt field current(A)\n",
"E_b2 = V-R_a*I_a2                 // Back emf at 1000 rpm(V)\n",
"I_f2 = E_b2*N_1*I_f1/(E_b1*N_2)   // Shunt field current at 1000 rpm(A)\n",
"R_f2 = V/I_f2                     // Field resistance at 1000 rpm(ohm)\n",
"R_add = R_f2-R_f                  // Additional resistance required(ohm)\n",
"\n",
"// Results\n",
"disp('PART IV - EXAMPLE : 1.10 : SOLUTION :-')\n",
"printf('\nAdditional resistance to be inserted in the field circuit to raise the speed = %.1f ohm\n', R_add)\n",
"printf('\nNOTE: ERROR: Calculation mistake in E_b2 in the textbook solution')"
   ]
   }
,
{
		   "cell_type": "markdown",
		   "metadata": {},
		   "source": [
			"## Example 39.11: Speed_of_motor_with_a_diverter_connected_in_parallel_with_series_field.sce"
		   ]
		  },
  {
"cell_type": "code",
	   "execution_count": null,
	   "metadata": {
	    "collapsed": true
	   },
	   "outputs": [],
"source": [
"// A Texbook on POWER SYSTEM ENGINEERING\n",
"// A.Chakrabarti, M.L.Soni, P.V.Gupta, U.S.Bhatnagar\n",
"// DHANPAT RAI & Co.\n",
"// SECOND EDITION \n",
"\n",
"// PART IV : UTILIZATION AND TRACTION\n",
"// CHAPTER 1: INDUSTRIAL APPLICATIONS OF ELECTRIC MOTORS\n",
"\n",
"// EXAMPLE : 1.11 :\n",
"// Page number 687\n",
"clear ; clc ; close ; // Clear the work space and console\n",
"\n",
"// Given data\n",
"V = 220.0       // DC series motor voltage(V)\n",
"I_1 = 20.0      // Armature current at 800rpm(A)\n",
"N_1 = 800.0     // Speed of dc series motor(rpm)\n",
"R_div = 0.4     // Diverter resistance(ohm)\n",
"R_a = 0.5       // Armature resistance(ohm)\n",
"R_f = 0.2       // Series field resistance(ohm)\n",
"\n",
"// Calculations\n",
"E_b1 = V-(R_a+R_f)*I_1          // Back emf at 800 rpm(V)\n",
"I_2 = I_1*R_div/(R_div+R_f)     // Series field current at new speed(A)\n",
"E_b2 = V-(R_a*I_1+R_f*I_2)      // Back emf at new speed(V)\n",
"N_2 = I_1*N_1*E_b2/(I_2*E_b1)   // New speed with diverter(rpm)\n",
"\n",
"// Results\n",
"disp('PART IV - EXAMPLE : 1.11 : SOLUTION :-')\n",
"printf('\nSpeed of motor with a diverter connected in parallel with series field, N_2 = %.f rpm', N_2)"
   ]
   }
,
{
		   "cell_type": "markdown",
		   "metadata": {},
		   "source": [
			"## Example 39.12: Diverter_resistance_as_a_percentage_of_field_resistance.sce"
		   ]
		  },
  {
"cell_type": "code",
	   "execution_count": null,
	   "metadata": {
	    "collapsed": true
	   },
	   "outputs": [],
"source": [
"// A Texbook on POWER SYSTEM ENGINEERING\n",
"// A.Chakrabarti, M.L.Soni, P.V.Gupta, U.S.Bhatnagar\n",
"// DHANPAT RAI & Co.\n",
"// SECOND EDITION \n",
"\n",
"// PART IV : UTILIZATION AND TRACTION\n",
"// CHAPTER 1: INDUSTRIAL APPLICATIONS OF ELECTRIC MOTORS\n",
"\n",
"// EXAMPLE : 1.12 :\n",
"// Page number 687-688\n",
"clear ; clc ; close ; // Clear the work space and console\n",
"\n",
"// Given data\n",
"speed_per = 15.0   // Motor speed increased by(%)\n",
"\n",
"// Calculations\n",
"N_2 = (100+speed_per)/100       // New speed N_2(rpm)\n",
"phi_2 = 1/N_2*100               // Flux_2 in terms of full load flux\n",
"I_sc1 = 0.75                    // New series field current in terms of I_a1\n",
"I_a2 = N_2                      // Armature current in terms of I_a1\n",
"R_d = I_sc1/(I_a2-I_sc1)*100    // Diverter resistance in terms of series field resistance(%)\n",
"\n",
"// Results\n",
"disp('PART IV - EXAMPLE : 1.12 : SOLUTION :-')\n",
"printf('\nDiverter resistance, R_d = %.1f percent of field resistance', R_d)"
   ]
   }
,
{
		   "cell_type": "markdown",
		   "metadata": {},
		   "source": [
			"## Example 39.13: Additional_resistance_to_be_placed_in_the_armature_circuit.sce"
		   ]
		  },
  {
"cell_type": "code",
	   "execution_count": null,
	   "metadata": {
	    "collapsed": true
	   },
	   "outputs": [],
"source": [
"// A Texbook on POWER SYSTEM ENGINEERING\n",
"// A.Chakrabarti, M.L.Soni, P.V.Gupta, U.S.Bhatnagar\n",
"// DHANPAT RAI & Co.\n",
"// SECOND EDITION \n",
"\n",
"// PART IV : UTILIZATION AND TRACTION\n",
"// CHAPTER 1: INDUSTRIAL APPLICATIONS OF ELECTRIC MOTORS\n",
"\n",
"// EXAMPLE : 1.13 :\n",
"// Page number 689\n",
"clear ; clc ; close ; // Clear the work space and console\n",
"\n",
"// Given data\n",
"V = 250.0      // Voltage of DC shunt motor(V)\n",
"N_1 = 400.0    // No load speed(rpm)\n",
"R_a = 0.5      // Armature resistance(ohm)\n",
"N_2 = 200.0    // Speed with additional resistance(rpm)\n",
"I_a = 20.0     // Armature current(A)\n",
"\n",
"// Calculations\n",
"k_phi = (V-I_a*R_a)/N_1    // kΦ\n",
"R = (V-k_phi*N_2)/I_a      // Resistance(ohm)\n",
"R_add = R-R_a              // Additional resistance to be placed in armature circuit(ohm)\n",
"\n",
"// Results\n",
"disp('PART IV - EXAMPLE : 1.13 : SOLUTION :-')\n",
"printf('\nResistance to be placed in the armature circuit = %.f ohm\n', R_add)\n",
"printf('\nNOTE: ERROR: The given data doesnt match with example 1.7 as mentioned in problem statement')"
   ]
   }
,
{
		   "cell_type": "markdown",
		   "metadata": {},
		   "source": [
			"## Example 39.14: Resistance_to_be_connected_in_series_with_armature_to_reduce_speed.sce"
		   ]
		  },
  {
"cell_type": "code",
	   "execution_count": null,
	   "metadata": {
	    "collapsed": true
	   },
	   "outputs": [],
"source": [
"// A Texbook on POWER SYSTEM ENGINEERING\n",
"// A.Chakrabarti, M.L.Soni, P.V.Gupta, U.S.Bhatnagar\n",
"// DHANPAT RAI & Co.\n",
"// SECOND EDITION \n",
"\n",
"// PART IV : UTILIZATION AND TRACTION\n",
"// CHAPTER 1: INDUSTRIAL APPLICATIONS OF ELECTRIC MOTORS\n",
"\n",
"// EXAMPLE : 1.14 :\n",
"// Page number 689\n",
"clear ; clc ; close ; // Clear the work space and console\n",
"\n",
"// Given data\n",
"V = 400.0       // Voltage of DC shunt motor(V)\n",
"hp = 20.0       // Power of DC shunt motor(hp)\n",
"I = 44.0        // Current drawn by motor(A)\n",
"N_1 = 1000.0    // Speed(rpm)\n",
"N_2 = 800.0     // Speed with additional resistance(rpm)\n",
"R_sh = 200.0    // Shunt field resistance(ohm)\n",
"\n",
"// Calculations\n",
"output = hp*746            // Motor output(W)\n",
"I_f1 = V/R_sh              // Shunt field current(A)\n",
"I_a1 = I-I_f1              // Armature current(A)\n",
"E_b1 = output/I_a1         // Back emf(V)\n",
"R_a = (V-E_b1)/I_a1        // Armature resistance(ohm)\n",
"I_a2 = I_a1*(N_2/N_1)**2   // Armature current at N2(A)\n",
"E_b2 = N_2/N_1*E_b1        // Back emf at N2(V)\n",
"r = ((V-E_b2)/I_a2)-R_a    // Resistance connected in series with armature(ohm)\n",
"\n",
"// Results\n",
"disp('PART IV - EXAMPLE : 1.14 : SOLUTION :-')\n",
"printf('\nResistance to be connected in series with armature to reduce speed, r = %.2f ohm', r)"
   ]
   }
,
{
		   "cell_type": "markdown",
		   "metadata": {},
		   "source": [
			"## Example 39.15: Ohmic_value_of_resistor_connected_in_the_armature_circuit.sce"
		   ]
		  },
  {
"cell_type": "code",
	   "execution_count": null,
	   "metadata": {
	    "collapsed": true
	   },
	   "outputs": [],
"source": [
"// A Texbook on POWER SYSTEM ENGINEERING\n",
"// A.Chakrabarti, M.L.Soni, P.V.Gupta, U.S.Bhatnagar\n",
"// DHANPAT RAI & Co.\n",
"// SECOND EDITION \n",
"\n",
"// PART IV : UTILIZATION AND TRACTION\n",
"// CHAPTER 1: INDUSTRIAL APPLICATIONS OF ELECTRIC MOTORS\n",
"\n",
"// EXAMPLE : 1.15 :\n",
"// Page number 690\n",
"clear ; clc ; close ; // Clear the work space and console\n",
"\n",
"// Given data\n",
"hp = 15.0         // Power of DC shunt motor(hp)\n",
"V = 400.0         // Voltage of DC shunt motor(V)\n",
"N_reduce = 20.0   // Speed is to be reduced by(%)\n",
"I_f = 3.0         // Field current(A)\n",
"R_a = 0.5         // Armature resistance(ohm)\n",
"n = 0.85          // Efficiency of motor\n",
"\n",
"// Calculations\n",
"motor_input = hp*746/n          // Motor input(W)\n",
"I = motor_input/V               // Motor current(A)\n",
"I_a1 = I-I_f                    // Armature current(A)\n",
"I_a2 = I_a1                     // Armature current at new speed(A)\n",
"E_b1 = V-I_a1*R_a               // Back emf(V)\n",
"E_b2 = E_b1*(100-N_reduce)/100  // Back emf at new speed(V)\n",
"r = ((V-E_b2)/I_a2)-R_a         // Ohmic value of resistor connected in the armature circuit(ohm)\n",
"\n",
"// Results\n",
"disp('PART IV - EXAMPLE : 1.15 : SOLUTION :-')\n",
"printf('\nOhmic value of resistor connected in the armature circuit, r = %.2f ohm', r)"
   ]
   }
,
{
		   "cell_type": "markdown",
		   "metadata": {},
		   "source": [
			"## Example 39.16: External_resistance_per_phase_added_in_rotor_circuit_to_reduce_speed.sce"
		   ]
		  },
  {
"cell_type": "code",
	   "execution_count": null,
	   "metadata": {
	    "collapsed": true
	   },
	   "outputs": [],
"source": [
"// A Texbook on POWER SYSTEM ENGINEERING\n",
"// A.Chakrabarti, M.L.Soni, P.V.Gupta, U.S.Bhatnagar\n",
"// DHANPAT RAI & Co.\n",
"// SECOND EDITION \n",
"\n",
"// PART IV : UTILIZATION AND TRACTION\n",
"// CHAPTER 1: INDUSTRIAL APPLICATIONS OF ELECTRIC MOTORS\n",
"\n",
"// EXAMPLE : 1.16 :\n",
"// Page number 697-698\n",
"clear ; clc ; close ; // Clear the work space and console\n",
"\n",
"// Given data\n",
"p = 6.0           // Number of poles\n",
"f = 50.0          // Frequency(Hz)\n",
"R_2 = 0.3         // Rotor resistance per phase(ohm)\n",
"N_1 = 960.0       // Rotor speed(rpm)\n",
"N_2 = 800.0       // New rotor speed with external resistance(rpm)\n",
"\n",
"// Calculations\n",
"N_s = 120*f/p           // Synchronous speed(rpm)\n",
"S_1 = (N_s-N_1)/N_s     // Slip at full load\n",
"S_2 = (N_s-N_2)/N_s     // New slip\n",
"R = (S_2/S_1*R_2)-R_2   // External resistance per phase added in rotor circuit to reduce speed(ohm)\n",
"\n",
"// Results\n",
"disp('PART IV - EXAMPLE : 1.16 : SOLUTION :-')\n",
"printf('\nExternal resistance per phase added in rotor circuit to reduce speed, R = %.1f ohm', R)"
   ]
   }
,
{
		   "cell_type": "markdown",
		   "metadata": {},
		   "source": [
			"## Example 39.17: Braking_torque_and_Torque_when_motor_speed_has_fallen.sce"
		   ]
		  },
  {
"cell_type": "code",
	   "execution_count": null,
	   "metadata": {
	    "collapsed": true
	   },
	   "outputs": [],
"source": [
"// A Texbook on POWER SYSTEM ENGINEERING\n",
"// A.Chakrabarti, M.L.Soni, P.V.Gupta, U.S.Bhatnagar\n",
"// DHANPAT RAI & Co.\n",
"// SECOND EDITION \n",
"\n",
"// PART IV : UTILIZATION AND TRACTION\n",
"// CHAPTER 1: INDUSTRIAL APPLICATIONS OF ELECTRIC MOTORS\n",
"\n",
"// EXAMPLE : 1.17 :\n",
"// Page number 699\n",
"clear ; clc ; close ; // Clear the work space and console\n",
"\n",
"// Given data\n",
"hp = 50.0           // DC shunt motor rating(hp)\n",
"V = 440.0           // Voltage(V)\n",
"I_b = 150.0         // Breaking current(A)\n",
"N_reduce = 40.0     // Speed of motor fallen by(%)\n",
"R_a = 0.1           // Armature resistance(ohm)\n",
"I_a_fl = 100.0      // Full-load armature current(A)\n",
"N_fl = 600.0        // Full-load speed(rpm)\n",
"\n",
"// Calculations\n",
"E_b = V-I_a_fl*R_a                  // Back emf of motor(V)\n",
"V_a = V+E_b                         // Voltage across armature when braking starts(V)\n",
"R_b = V_a/I_b                       // Resistance required(ohm)\n",
"R_extra = R_b-R_a                   // Extra resistance required(ohm)\n",
"T_fl = hp*746*60/(2*%pi*N_fl)       // Full-load torque(N-m)\n",
"T_initial_b = T_fl*I_b/I_a_fl       // Initial breaking torque(N-m)\n",
"E_b2 = E_b*(100-N_reduce)/100       // Back emf at new speed(V)\n",
"I = (V+E_b2)/R_b                    // Current(A)\n",
"EBT = T_fl*I/I_a_fl                 // Torque when motor speed reduced by 40%(N-m)\n",
"\n",
"// Results\n",
"disp('PART IV - EXAMPLE : 1.17 : SOLUTION :-')\n",
"printf('\nBraking torque = %.1f N-m', T_initial_b)\n",
"printf('\nTorque when motor speed has fallen, E.B.T = %.1f N-m\n', EBT)\n",
"printf('\nNOTE: ERROR: Calculation mistakes in the textbook solution')"
   ]
   }
,
{
		   "cell_type": "markdown",
		   "metadata": {},
		   "source": [
			"## Example 39.18: Initial_plugging_torque_and_Torque_at_standstill.sce"
		   ]
		  },
  {
"cell_type": "code",
	   "execution_count": null,
	   "metadata": {
	    "collapsed": true
	   },
	   "outputs": [],
"source": [
"// A Texbook on POWER SYSTEM ENGINEERING\n",
"// A.Chakrabarti, M.L.Soni, P.V.Gupta, U.S.Bhatnagar\n",
"// DHANPAT RAI & Co.\n",
"// SECOND EDITION \n",
"\n",
"// PART IV : UTILIZATION AND TRACTION\n",
"// CHAPTER 1: INDUSTRIAL APPLICATIONS OF ELECTRIC MOTORS\n",
"\n",
"// EXAMPLE : 1.18 :\n",
"// Page number 699-700\n",
"clear ; clc ; close ; // Clear the work space and console\n",
"\n",
"// Given data\n",
"V = 400.0           // Voltage of IM(V)\n",
"p = 4.0             // Number of poles\n",
"f = 50.0            // Frequency(Hz)\n",
"hp = 25.0           // Power developed(hp)\n",
"S = 0.04            // Slip\n",
"R_X_2 = 1.0/4       // Ratio of rotor resistance to standstill reactance i.e R2/X2\n",
"\n",
"// Calculations\n",
"N_s = 120*f/p                                                                // Synchronous speed(rpm)\n",
"N_fl = N_s*(1-S)                                                             // Full load speed(rpm)\n",
"T_fl = hp*735.5*60/(2*%pi*N_fl*9.81)                                         // Full-load torque(kg-m)\n",
"S_1 = 1.0                                                                    // Slip at standstill\n",
"X_R_2 = 1.0/R_X_2                                                            // Ratio of standstill reactance to rotor resistance\n",
"T_s_fl = S_1/S*((1+(S*X_R_2)**2)/(1+(S_1*X_R_2)**2))                         // T_standstill/T_fl\n",
"T_standstill = T_s_fl*T_fl                                                   // Standstill torque(kg-m)\n",
"S_instant = (N_s+N_fl)/N_s                                                   // Slip at instant of plugging\n",
"T_initial = (S_instant/S)*((1+(S*X_R_2)**2)/(1+(S_instant*X_R_2)**2))*T_fl   // Initial plugging torque(kg-m)\n",
"\n",
"// Results\n",
"disp('PART IV - EXAMPLE : 1.18 : SOLUTION :-')\n",
"printf('\nInitial plugging torque = %.1f kg-m', T_initial)\n",
"printf('\nTorque at standstill = %.f kg-m\n', T_standstill)\n",
"printf('\nNOTE: ERROR: Calculation mistake from full-load torque onwards. Hence, change in obtained answer from that of textbook')"
   ]
   }
,
{
		   "cell_type": "markdown",
		   "metadata": {},
		   "source": [
			"## Example 39.19: Value_of_resistance_to_be_connected_in_motor_circuit.sce"
		   ]
		  },
  {
"cell_type": "code",
	   "execution_count": null,
	   "metadata": {
	    "collapsed": true
	   },
	   "outputs": [],
"source": [
"// A Texbook on POWER SYSTEM ENGINEERING\n",
"// A.Chakrabarti, M.L.Soni, P.V.Gupta, U.S.Bhatnagar\n",
"// DHANPAT RAI & Co.\n",
"// SECOND EDITION \n",
"\n",
"// PART IV : UTILIZATION AND TRACTION\n",
"// CHAPTER 1: INDUSTRIAL APPLICATIONS OF ELECTRIC MOTORS\n",
"\n",
"// EXAMPLE : 1.19 :\n",
"// Page number 701\n",
"clear ; clc ; close ; // Clear the work space and console\n",
"\n",
"// Given data\n",
"T = 312.5         // Load torque(N-m)\n",
"N = 500.0         // Speed limit(rpm)\n",
"R_total = 1.0     // Total resistance of armature & field(ohm)\n",
"\n",
"// Calculations\n",
"input_load = 2*%pi*N*T/60          // Input from load(W)\n",
"E = 345.0                          // Voltage from magnetization curve(V). From Fig E1.5 page no 701\n",
"I = 47.5                           // Current from magnetization curve(A). From Fig E1.5 page no 701\n",
"R = E/I                            // Resistance(ohm)\n",
"R_add = R-R_total                  // Additional resistance required(ohm)\n",
"\n",
"// Results\n",
"disp('PART IV - EXAMPLE : 1.19 : SOLUTION :-')\n",
"printf('\nValue of resistance to be connected in motor circuit = %.2f ohm', R_add)"
   ]
   }
,
{
		   "cell_type": "markdown",
		   "metadata": {},
		   "source": [
			"## Example 39.1: Total_annual_cost_of_group_drive_and_Individual_drive.sce"
		   ]
		  },
  {
"cell_type": "code",
	   "execution_count": null,
	   "metadata": {
	    "collapsed": true
	   },
	   "outputs": [],
"source": [
"// A Texbook on POWER SYSTEM ENGINEERING\n",
"// A.Chakrabarti, M.L.Soni, P.V.Gupta, U.S.Bhatnagar\n",
"// DHANPAT RAI & Co.\n",
"// SECOND EDITION \n",
"\n",
"// PART IV : UTILIZATION AND TRACTION\n",
"// CHAPTER 1: INDUSTRIAL APPLICATIONS OF ELECTRIC MOTORS\n",
"\n",
"// EXAMPLE : 1.1 :\n",
"// Page number 676\n",
"clear ; clc ; close ; // Clear the work space and console\n",
"\n",
"// Given data\n",
"capital_cost_group = 8000.0       // Capital cost of group drive(Rs)\n",
"n_single = 5.0                    // Number of individual drive\n",
"capital_cost_single = 2500.0      // Capital cost of individual drive(Rs)\n",
"energy_cons_group = 40000.0       // Annual energy consumption of group drive(kWh)\n",
"energy_cons_single = 30000.0      // Annual energy consumption of group drive(kWh)\n",
"cost_energy = 8.0/100             // Cost of energy per kWh(Rs)\n",
"dmo_group = 12.0                  // Depreciation,maintenance & other fixed charges for group drive(%)\n",
"dmo_single = 18.0                 // Depreciation,maintenance & other fixed charges for individual drive(%)\n",
"\n",
"// Calculations\n",
"// Case(a)\n",
"annual_cost_energy_a = energy_cons_group*cost_energy   // Annual cost of energy(Rs)\n",
"dmo_cost_a = capital_cost_group*dmo_group/100          // Depreciation,maintenance & other fixed charges per year for group drive(Rs)\n",
"yearly_cost_a = annual_cost_energy_a+dmo_cost_a        // Total yearly cost(Rs)\n",
"// Case(b)\n",
"total_cost = capital_cost_single*n_single              // Capital cost of individual drive(Rs)\n",
"annual_cost_energy_b = energy_cons_single*cost_energy  // Annual cost of energy(Rs)\n",
"dmo_cost_b = total_cost*dmo_single/100                 // Depreciation,maintenance & other fixed charges per year for individual drive(Rs)\n",
"yearly_cost_b = annual_cost_energy_b+dmo_cost_b        // Total yearly cost(Rs)\n",
"\n",
"// Results\n",
"disp('PART IV - EXAMPLE : 1.1 : SOLUTION :-')\n",
"printf('\nTotal annual cost of group drive = Rs. %.f ', yearly_cost_a)\n",
"printf('\nTotal annual cost of individual drive = Rs. %.f ', yearly_cost_b)"
   ]
   }
,
{
		   "cell_type": "markdown",
		   "metadata": {},
		   "source": [
			"## Example 39.20: EX39_20.sce"
		   ]
		  },
  {
"cell_type": "code",
	   "execution_count": null,
	   "metadata": {
	    "collapsed": true
	   },
	   "outputs": [],
"source": [
"// A Texbook on POWER SYSTEM ENGINEERING\n",
"// A.Chakrabarti, M.L.Soni, P.V.Gupta, U.S.Bhatnagar\n",
"// DHANPAT RAI & Co.\n",
"// SECOND EDITION \n",
"\n",
"// PART IV : UTILIZATION AND TRACTION\n",
"// CHAPTER 1: INDUSTRIAL APPLICATIONS OF ELECTRIC MOTORS\n",
"\n",
"// EXAMPLE : 1.20 :\n",
"// Page number 702\n",
"clear ; clc ; close ; // Clear the work space and console\n",
"funcprot(0)\n",
"\n",
"// Given data\n",
"V = 500.0         // Shunt motor voltage(V)\n",
"load = 400.0      // Hoist load(kg)\n",
"speed = 2.5       // Hoist raised speed(m/sec)\n",
"n_motor = 0.85    // Efficiency of motor\n",
"n_hoist = 0.75    // Efficiency of hoist\n",
"\n",
"// Calculations\n",
"P_output = load*speed*9.81                     // Power output from motor(W)\n",
"P_input = P_output/(n_motor*n_hoist)           // Motor input(W)\n",
"I = P_input/V                                  // Current drawn from supply(A)\n",
"output_G = load*speed*9.81*n_motor*n_hoist     // Generator output(W)\n",
"R = V**2/output_G                              // Resistance required in the armature circuit for rheostatic braking(ohm)\n",
"\n",
"// Results\n",
"disp('PART IV - EXAMPLE : 1.20 : SOLUTION :-')\n",
"printf('\nCurrent drawn by the motor from supply = %.1f A', I)\n",
"printf('\nResistance required in the armature circuit for rheostatic braking, R = %.f ohm', R)"
   ]
   }
,
{
		   "cell_type": "markdown",
		   "metadata": {},
		   "source": [
			"## Example 39.21: One_hour_rating_of_motor.sce"
		   ]
		  },
  {
"cell_type": "code",
	   "execution_count": null,
	   "metadata": {
	    "collapsed": true
	   },
	   "outputs": [],
"source": [
"// A Texbook on POWER SYSTEM ENGINEERING\n",
"// A.Chakrabarti, M.L.Soni, P.V.Gupta, U.S.Bhatnagar\n",
"// DHANPAT RAI & Co.\n",
"// SECOND EDITION \n",
"\n",
"// PART IV : UTILIZATION AND TRACTION\n",
"// CHAPTER 1: INDUSTRIAL APPLICATIONS OF ELECTRIC MOTORS\n",
"\n",
"// EXAMPLE : 1.21 :\n",
"// Page number 705\n",
"clear ; clc ; close ; // Clear the work space and console\n",
"\n",
"// Given data\n",
"t = 1.0          // Time(hour)\n",
"hp = 15.0        // Motor rating(hp)\n",
"T = 2.0          // Time constant(hour)\n",
"theta_f = 40.0   // Temperature rise(°C)\n",
"\n",
"// Calculations\n",
"P = (1.0/(1-exp(-t/T)))**0.5*hp     // One-hour rating of motor(hp)\n",
"\n",
"// Results\n",
"disp('PART IV - EXAMPLE : 1.21 : SOLUTION :-')\n",
"printf('\nOne-hour rating of motor, P = %.f hp\n', P)\n",
"printf('\nNOTE: Changes in the obtained answer from that of textbook is due to more approximation in the textbook solution')"
   ]
   }
,
{
		   "cell_type": "markdown",
		   "metadata": {},
		   "source": [
			"## Example 39.22: Final_temperature_rise_and_Thermal_time_constant_of_the_motor.sce"
		   ]
		  },
  {
"cell_type": "code",
	   "execution_count": null,
	   "metadata": {
	    "collapsed": true
	   },
	   "outputs": [],
"source": [
"// A Texbook on POWER SYSTEM ENGINEERING\n",
"// A.Chakrabarti, M.L.Soni, P.V.Gupta, U.S.Bhatnagar\n",
"// DHANPAT RAI & Co.\n",
"// SECOND EDITION \n",
"\n",
"// PART IV : UTILIZATION AND TRACTION\n",
"// CHAPTER 1: INDUSTRIAL APPLICATIONS OF ELECTRIC MOTORS\n",
"\n",
"// EXAMPLE : 1.22 :\n",
"// Page number 706\n",
"clear ; clc ; close ; // Clear the work space and console\n",
"\n",
"// Given data\n",
"hp = 10.0                   // Motor rating(hp)\n",
"d = 0.7                     // Diameter of cylinder(m)\n",
"l = 1.0                     // Length of cylinder(m)\n",
"w = 380.0                   // Weight of motor(kgm)\n",
"heat_specific = 700.0       // Specific heat(J/kg/1°C)\n",
"heat_dissipation = 15.0     // Outer surface heat dissipation rate(W/sq.cm/°C)\n",
"n = 0.88                    // Efficiency\n",
"\n",
"// Calculations\n",
"output = hp*735.5                                        // Output of motor(W)\n",
"loss = (1-n)/n*output                                    // Losses(W)\n",
"area_cooling = %pi*d*l                                   // Cooling surface area(sq.m)\n",
"theta_m = loss/(area_cooling*heat_dissipation)           // Final temperature rise(°C)\n",
"T_sec = w*heat_specific/(area_cooling*heat_dissipation)  // Thermal time constant(sec)\n",
"T_hour = T_sec/3600                                      // Thermal time constant(hours)\n",
"\n",
"// Results\n",
"disp('PART IV - EXAMPLE : 1.22 : SOLUTION :-')\n",
"printf('\nFinal temperature rise, θ_m = %.1f°C', theta_m)\n",
"printf('\nThermal time constant of the motor = %.2f hours\n', T_hour)\n",
"printf('\nNOTE: ERROR: Mistake in calculating thermal time constant in the textbook solution')"
   ]
   }
,
{
		   "cell_type": "markdown",
		   "metadata": {},
		   "source": [
			"## Example 39.23: Half_hour_rating_of_motor.sce"
		   ]
		  },
  {
"cell_type": "code",
	   "execution_count": null,
	   "metadata": {
	    "collapsed": true
	   },
	   "outputs": [],
"source": [
"// A Texbook on POWER SYSTEM ENGINEERING\n",
"// A.Chakrabarti, M.L.Soni, P.V.Gupta, U.S.Bhatnagar\n",
"// DHANPAT RAI & Co.\n",
"// SECOND EDITION \n",
"\n",
"// PART IV : UTILIZATION AND TRACTION\n",
"// CHAPTER 1: INDUSTRIAL APPLICATIONS OF ELECTRIC MOTORS\n",
"\n",
"// EXAMPLE : 1.23 :\n",
"// Page number 706\n",
"clear ; clc ; close ; // Clear the work space and console\n",
"\n",
"// Given data\n",
"hp = 25.0         // Motor rating(hp)\n",
"T = 100.0/60      // Heating time constant(hour)\n",
"theta = 40.0      // Temperature rise(°C)\n",
"t = 0.5           // Time(hour)\n",
"n = 0.85          // Motor maximum efficiency\n",
"\n",
"// Calculations\n",
"output = hp*735.5/1000                          // Output of motor(kW)\n",
"output_max = output*n                           // Power at maximum efficiency(kW)\n",
"theta_f2 = theta/(1-exp(-t/T))                  // θ_f2(°C)\n",
"loss = 1+(output/output_max)**2                 // Losses at 18.4 kW output in terms of W\n",
"P = ((theta_f2/theta*loss)-1)**0.5*output_max   // Half-hour rating of motor(kW)\n",
"P_hp = P*1000/735.5                             // Half-hour rating of motor(hp)\n",
"\n",
"// Results\n",
"disp('PART IV - EXAMPLE : 1.23 : SOLUTION :-')\n",
"printf('\nHalf-hour rating of motor, P = %.f kW = %.1f hp (metric)\n', P,P_hp)\n",
"printf('\nNOTE: ERROR: Calculation mistake from final temperature rise onwards in textbook')"
   ]
   }
,
{
		   "cell_type": "markdown",
		   "metadata": {},
		   "source": [
			"## Example 39.24: EX39_24.sce"
		   ]
		  },
  {
"cell_type": "code",
	   "execution_count": null,
	   "metadata": {
	    "collapsed": true
	   },
	   "outputs": [],
"source": [
"// A Texbook on POWER SYSTEM ENGINEERING\n",
"// A.Chakrabarti, M.L.Soni, P.V.Gupta, U.S.Bhatnagar\n",
"// DHANPAT RAI & Co.\n",
"// SECOND EDITION \n",
"\n",
"// PART IV : UTILIZATION AND TRACTION\n",
"// CHAPTER 1: INDUSTRIAL APPLICATIONS OF ELECTRIC MOTORS\n",
"\n",
"// EXAMPLE : 1.24 :\n",
"// Page number 706\n",
"clear ; clc ; close ; // Clear the work space and console\n",
"\n",
"// Given data\n",
"theta_f1 = 40.0     // Temperature rise(°C)\n",
"T = 100.0           // Heating time constant(min)\n",
"rated_2 = 2.0       // Motor at twice the continuously rating\n",
"\n",
"// Calculations\n",
"loss_cu = 2.0**2                         // Copper loss at twice full load in terms of W\n",
"loss_total = loss_cu+1                   // Total losses at full load in terms of W\n",
"theta_f2 = theta_f1*loss_total/rated_2   // θ_f2(°C)\n",
"t = log(1-(theta_f1/theta_f2))*(-T)      // Time for which motor can run at twice the continuously rated output without overheating(min)\n",
"\n",
"// Results\n",
"disp('PART IV - EXAMPLE : 1.24 : SOLUTION :-')\n",
"printf('\nMotor can run at twice the continuously rated output without overheating for time, t = %.f min', t)"
   ]
   }
,
{
		   "cell_type": "markdown",
		   "metadata": {},
		   "source": [
			"## Example 39.25: Maximum_overload_that_can_be_carried_by_the_motor.sce"
		   ]
		  },
  {
"cell_type": "code",
	   "execution_count": null,
	   "metadata": {
	    "collapsed": true
	   },
	   "outputs": [],
"source": [
"// A Texbook on POWER SYSTEM ENGINEERING\n",
"// A.Chakrabarti, M.L.Soni, P.V.Gupta, U.S.Bhatnagar\n",
"// DHANPAT RAI & Co.\n",
"// SECOND EDITION \n",
"\n",
"// PART IV : UTILIZATION AND TRACTION\n",
"// CHAPTER 1: INDUSTRIAL APPLICATIONS OF ELECTRIC MOTORS\n",
"\n",
"// EXAMPLE : 1.25 :\n",
"// Page number 706-707\n",
"clear ; clc ; close ; // Clear the work space and console\n",
"\n",
"// Given data\n",
"kW = 20.0        // Motor output(kW)\n",
"theta_1 = 50.0   // Temperature rise not to be exceeded on overload(°C)\n",
"t_1 = 1.0        // Time on overload(hour)\n",
"theta_2 = 30.0   // Temperature rise on full-load(°C)\n",
"t_2 = 1.0        // Time on full-load(hour)\n",
"theta_3 = 40.0   // Temperature rise on full-load(°C)\n",
"t_3 = 2.0        // Time on full-load(hour)\n",
"\n",
"// Calculations\n",
"e_lambda = 1.0/3                 // Obtained directly from textbook\n",
"theta_f = theta_2/(1-e_lambda)   // θ_f(°C)\n",
"theta_f1 = theta_1/(1-e_lambda)  // θ'_f(°C)\n",
"P = (theta_f1/theta_f)**0.5*kW   // Maximum overload that can be carried by the motor(kW)\n",
"\n",
"// Results\n",
"disp('PART IV - EXAMPLE : 1.25 : SOLUTION :-')\n",
"printf('\nMaximum overload that can be carried by the motor, P = %.1f kW', P)"
   ]
   }
,
{
		   "cell_type": "markdown",
		   "metadata": {},
		   "source": [
			"## Example 39.26: Required_size_of_continuously_rated_motor.sce"
		   ]
		  },
  {
"cell_type": "code",
	   "execution_count": null,
	   "metadata": {
	    "collapsed": true
	   },
	   "outputs": [],
"source": [
"// A Texbook on POWER SYSTEM ENGINEERING\n",
"// A.Chakrabarti, M.L.Soni, P.V.Gupta, U.S.Bhatnagar\n",
"// DHANPAT RAI & Co.\n",
"// SECOND EDITION \n",
"\n",
"// PART IV : UTILIZATION AND TRACTION\n",
"// CHAPTER 1: INDUSTRIAL APPLICATIONS OF ELECTRIC MOTORS\n",
"\n",
"// EXAMPLE : 1.26 :\n",
"// Page number 707-708\n",
"clear ; clc ; close ; // Clear the work space and console\n",
"\n",
"// Given data\n",
"hp_1 = 100.0       // Motor load(hp)\n",
"t_1 = 10.0         // Time of operation(min)\n",
"hp_2 = 0           // Motor load(hp)\n",
"t_2 = 5.0          // Time of operation(min)\n",
"hp_3 = 60.0        // Motor load(hp)\n",
"t_3 = 8.0          // Time of operation(min)\n",
"hp_4 = 0           // Motor load(hp)\n",
"t_4 = 4.0          // Time of operation(min)\n",
"\n",
"// Calculations\n",
"t_total = t_1+t_2+t_3+t_4                                               // Total time of operation(min)\n",
"rms = ((hp_1**2*t_1+hp_2**2*t_2+hp_3**2*t_3+hp_4**2*t_4)/t_total)**0.5  // rms horsepower\n",
"\n",
"// Results\n",
"disp('PART IV - EXAMPLE : 1.26 : SOLUTION :-')\n",
"printf('\nRequired size of continuously rated motor = %.f H.P\n', rms)\n",
"printf('\nNOTE: ERROR: Calculation mistake in the textbook')\n",
"printf('\n      Actual value is written here instead of standard values')"
   ]
   }
,
{
		   "cell_type": "markdown",
		   "metadata": {},
		   "source": [
			"## Example 39.27: Suitable_size_of_the_motor.sce"
		   ]
		  },
  {
"cell_type": "code",
	   "execution_count": null,
	   "metadata": {
	    "collapsed": true
	   },
	   "outputs": [],
"source": [
"// A Texbook on POWER SYSTEM ENGINEERING\n",
"// A.Chakrabarti, M.L.Soni, P.V.Gupta, U.S.Bhatnagar\n",
"// DHANPAT RAI & Co.\n",
"// SECOND EDITION \n",
"\n",
"// PART IV : UTILIZATION AND TRACTION\n",
"// CHAPTER 1: INDUSTRIAL APPLICATIONS OF ELECTRIC MOTORS\n",
"\n",
"// EXAMPLE : 1.27 :\n",
"// Page number 708\n",
"clear ; clc ; close ; // Clear the work space and console\n",
"\n",
"// Given data\n",
"hp_1 = 200.0     // Motor load(hp)\n",
"t_1 = 5.0        // Time of operation(min)\n",
"hp_2 = 100.0     // Motor load(hp)\n",
"t_2 = 10.0       // Time of operation(min)\n",
"hp_3 = 0         // Motor load(hp)\n",
"t_3 = 3.0        // Time of operation(min)\n",
"\n",
"// Calculations\n",
"m = hp_1/t_1                                           // Slope of uniform rise power\n",
"t_total = t_1+t_2+t_3                                  // Total time of operation(min)\n",
"ans = integrate('(m*x)**2','x', 0, t_1)                // Integarted uniform area upto 5 min\n",
"rms = ((ans+hp_2**2*t_2+hp_3**2*t_3)/t_total)**0.5     // rms horsepower\n",
"\n",
"// Results\n",
"disp('PART IV - EXAMPLE : 1.27 : SOLUTION :-')\n",
"printf('\nrms horsepower = %.1f HP. Therefore, a motor of %.f H.P should be selected', rms,rms+4)"
   ]
   }
,
{
		   "cell_type": "markdown",
		   "metadata": {},
		   "source": [
			"## Example 39.28: Time_taken_to_accelerate_the_motor_to_rated_speed_against_full_load_torque.sce"
		   ]
		  },
  {
"cell_type": "code",
	   "execution_count": null,
	   "metadata": {
	    "collapsed": true
	   },
	   "outputs": [],
"source": [
"// A Texbook on POWER SYSTEM ENGINEERING\n",
"// A.Chakrabarti, M.L.Soni, P.V.Gupta, U.S.Bhatnagar\n",
"// DHANPAT RAI & Co.\n",
"// SECOND EDITION \n",
"\n",
"// PART IV : UTILIZATION AND TRACTION\n",
"// CHAPTER 1: INDUSTRIAL APPLICATIONS OF ELECTRIC MOTORS\n",
"\n",
"// EXAMPLE : 1.28 :\n",
"// Page number 710\n",
"clear ; clc ; close ; // Clear the work space and console\n",
"\n",
"// Given data\n",
"V = 440.0      // DC shunt motor voltage(V)\n",
"hp = 50.0      // Motor rating(hp)\n",
"N = 600.0      // Speed(rpm)\n",
"I = 80.0       // Current at full-load(A)\n",
"I_1 = 1.1      // Lower current limit in terms of full current\n",
"I_2 = 1.5      // Upper current limit in terms of full current\n",
"J = 20.0       // Moment of inertia(kg-m^2)\n",
"\n",
"// Calculations\n",
"T = hp*746*60/(2*%pi*N)       // Full load torque of motor(N-m)\n",
"T_avg_start = (I_1+I_2)/2*T   // Average starting torque(N-m)\n",
"T_g = ((I_1+I_2)/2-1)*T       // Torque available for acceleration(N-m)\n",
"alpha = T_g/J                 // Angular acceleration(rad/sec^2)\n",
"t = 2*%pi*N/(60*alpha)        // Time taken to accelerate the motor(sec)\n",
"\n",
"// Results\n",
"disp('PART IV - EXAMPLE : 1.28 : SOLUTION :-')\n",
"printf('\nTime taken to accelerate the motor to rated speed against full load torque, t = %.2f sec\n', t)\n",
"printf('\nNOTE: ERROR: Calculation mistake in the textbook solution')"
   ]
   }
,
{
		   "cell_type": "markdown",
		   "metadata": {},
		   "source": [
			"## Example 39.29: Time_taken_to_accelerate_the_motor_to_rated_speed.sce"
		   ]
		  },
  {
"cell_type": "code",
	   "execution_count": null,
	   "metadata": {
	    "collapsed": true
	   },
	   "outputs": [],
"source": [
"// A Texbook on POWER SYSTEM ENGINEERING\n",
"// A.Chakrabarti, M.L.Soni, P.V.Gupta, U.S.Bhatnagar\n",
"// DHANPAT RAI & Co.\n",
"// SECOND EDITION \n",
"\n",
"// PART IV : UTILIZATION AND TRACTION\n",
"// CHAPTER 1: INDUSTRIAL APPLICATIONS OF ELECTRIC MOTORS\n",
"\n",
"// EXAMPLE : 1.29 :\n",
"// Page number 710\n",
"clear ; clc ; close ; // Clear the work space and console\n",
"\n",
"// Given data\n",
"hp = 50.0        // Motor rating(hp)\n",
"N = 600.0        // Speed(rpm)\n",
"energy = 276.0   // Stored energy(kg-m/hp)\n",
"\n",
"// Calculations\n",
"g = 9.81\n",
"T = hp*746*60/(2*%pi*N*g)           // Full load torque of motor(kg-m)\n",
"J = hp*energy*2*g/(2*%pi*N/60)**2   // Moment of inertia(kg-m^2)\n",
"alpha = T*g/J                       // Angular acceleration(rad/sec^2)\n",
"t = 2*%pi*N/(60*alpha)              // Time taken to accelerate the motor to rated speed(sec)\n",
"\n",
"// Results\n",
"disp('PART IV - EXAMPLE : 1.29 : SOLUTION :-')\n",
"printf('\nTime taken to accelerate the motor to rated speed, t = %.2f sec', t)"
   ]
   }
,
{
		   "cell_type": "markdown",
		   "metadata": {},
		   "source": [
			"## Example 39.2: EX39_2.sce"
		   ]
		  },
  {
"cell_type": "code",
	   "execution_count": null,
	   "metadata": {
	    "collapsed": true
	   },
	   "outputs": [],
"source": [
"// A Texbook on POWER SYSTEM ENGINEERING\n",
"// A.Chakrabarti, M.L.Soni, P.V.Gupta, U.S.Bhatnagar\n",
"// DHANPAT RAI & Co.\n",
"// SECOND EDITION \n",
"\n",
"// PART IV : UTILIZATION AND TRACTION\n",
"// CHAPTER 1: INDUSTRIAL APPLICATIONS OF ELECTRIC MOTORS\n",
"\n",
"// EXAMPLE : 1.2 :\n",
"// Page number 680\n",
"clear ; clc ; close ; // Clear the work space and console\n",
"\n",
"// Given data\n",
"I_sc = 6.0     // Short circuit current = 6 times full load current\n",
"s_fl = 5.0     // Full load slip(%)\n",
"tap = 60.0     // Auto-tranformer tapping(%)\n",
"\n",
"// Calculations\n",
"// Case(a)\n",
"I_s_fl_a = I_sc/3.0                 // I_s/I_fl\n",
"T_s_fl_a = I_s_fl_a**2*s_fl/100     // Starting torque in terms of full-load torque with star-delta starter\n",
"// Case(b)\n",
"I_s_fl_b = tap/100*I_sc             // I_s/I_fl\n",
"T_s_fl_b = I_s_fl_b**2*s_fl/100     // Starting torque in terms of full-load torque with auto-transformer starter\n",
"\n",
"// Results\n",
"disp('PART IV - EXAMPLE : 1.2 : SOLUTION :-')\n",
"printf('\nCase(a): Starting torque in terms of full-load torque with star-delta starter, I_s/I_fl = %.1f ', T_s_fl_a)\n",
"printf('\nCase(b): Starting torque in terms of full-load torque with auto-transformer starter, I_s/I_fl = %.3f ', T_s_fl_b)"
   ]
   }
,
{
		   "cell_type": "markdown",
		   "metadata": {},
		   "source": [
			"## Example 39.30: Time_taken_to_accelerate_a_fly_wheel.sce"
		   ]
		  },
  {
"cell_type": "code",
	   "execution_count": null,
	   "metadata": {
	    "collapsed": true
	   },
	   "outputs": [],
"source": [
"// A Texbook on POWER SYSTEM ENGINEERING\n",
"// A.Chakrabarti, M.L.Soni, P.V.Gupta, U.S.Bhatnagar\n",
"// DHANPAT RAI & Co.\n",
"// SECOND EDITION \n",
"\n",
"// PART IV : UTILIZATION AND TRACTION\n",
"// CHAPTER 1: INDUSTRIAL APPLICATIONS OF ELECTRIC MOTORS\n",
"\n",
"// EXAMPLE : 1.30 :\n",
"// Page number 710\n",
"clear ; clc ; close ; // Clear the work space and console\n",
"\n",
"// Given data\n",
"J = 1270.0     // Moment of inertia of fly-wheel(kg-m^2)\n",
"N = 500.0      // Speed(rpm)\n",
"hp = 50.0      // Motor rating(hp)\n",
"\n",
"// Calculations\n",
"g = 9.81\n",
"T = hp*746*60/(2*%pi*N*g)         // Full load torque of motor(kg-m)\n",
"T_m = 2*T                         // Accelerating torque(kg-m)\n",
"alpha = T_m*g/J                   // Angular acceleration(rad/sec^2)\n",
"t = 2*%pi*N/(60*alpha)            // Time taken to accelerate a fly-wheel(sec)\n",
"\n",
"// Results\n",
"disp('PART IV - EXAMPLE : 1.30 : SOLUTION :-')\n",
"printf('\nTime taken to accelerate a fly-wheel, t = %.1f sec', t)"
   ]
   }
,
{
		   "cell_type": "markdown",
		   "metadata": {},
		   "source": [
			"## Example 39.31: EX39_31.sce"
		   ]
		  },
  {
"cell_type": "code",
	   "execution_count": null,
	   "metadata": {
	    "collapsed": true
	   },
	   "outputs": [],
"source": [
"// A Texbook on POWER SYSTEM ENGINEERING\n",
"// A.Chakrabarti, M.L.Soni, P.V.Gupta, U.S.Bhatnagar\n",
"// DHANPAT RAI & Co.\n",
"// SECOND EDITION \n",
"\n",
"// PART IV : UTILIZATION AND TRACTION\n",
"// CHAPTER 1: INDUSTRIAL APPLICATIONS OF ELECTRIC MOTORS\n",
"\n",
"// EXAMPLE : 1.31 :\n",
"// Page number 710-711\n",
"clear ; clc ; close ; // Clear the work space and console\n",
"\n",
"// Given data\n",
"N_1 = 1000.0   // Speed of dc shunt motor(rpm)\n",
"N_2 = 400.0    // Speed of dc shunt motor(rpm)\n",
"R = 14.0       // Resistance connected across armature(ohm)\n",
"E_1 = 210.0    // EMF induced in armature at 1000 rpm(V)\n",
"J = 17.0       // Moment of inertia(kg-m^2)\n",
"T_F = 1.0      // Frictional torque(kg-m)\n",
"\n",
"// Calculations\n",
"g = 9.81\n",
"output = E_1**2/R                        // Motor output(W)\n",
"T_E = output*60/(2*%pi*N_1*g)            // Electric braking torque(kg-m)\n",
"w_1 = 2*%pi*N_1/60                       // ω_1(rad/sec)\n",
"k = T_E/w_1\n",
"t = J/(g*k)*log(N_1/N_2)                 // Time taken for dc shunt motor to fall in speed with constant excitation(sec)\n",
"kw = T_E*N_2/N_1                         // kω\n",
"t_F = J/(g*k)*log((1+T_E)/(1+kw))        // Time for the same fall if frictional torque exists(sec)\n",
"\n",
"// Results\n",
"disp('PART IV - EXAMPLE : 1.31 : SOLUTION :-')\n",
"printf('\nTime taken for dc shunt motor to fall in speed with constant excitation, t = %.1f sec', t)\n",
"printf('\nTime for the same fall if frictional torque exists, t = %.1f sec', t_F)"
   ]
   }
,
{
		   "cell_type": "markdown",
		   "metadata": {},
		   "source": [
			"## Example 39.32: EX39_32.sce"
		   ]
		  },
  {
"cell_type": "code",
	   "execution_count": null,
	   "metadata": {
	    "collapsed": true
	   },
	   "outputs": [],
"source": [
"// A Texbook on POWER SYSTEM ENGINEERING\n",
"// A.Chakrabarti, M.L.Soni, P.V.Gupta, U.S.Bhatnagar\n",
"// DHANPAT RAI & Co.\n",
"// SECOND EDITION \n",
"\n",
"// PART IV : UTILIZATION AND TRACTION\n",
"// CHAPTER 1: INDUSTRIAL APPLICATIONS OF ELECTRIC MOTORS\n",
"\n",
"// EXAMPLE : 1.32 :\n",
"// Page number 711\n",
"clear ; clc ; close ; // Clear the work space and console\n",
"\n",
"// Given data\n",
"V = 400.0        // Voltage of synchronous motor(V)\n",
"p = 8.0          // Number of poles\n",
"J = 630.0        // Moment of inertia(kg-m^2)\n",
"T_E = 165.0      // Braking torque(kg-m)\n",
"kw_1 = 690.0     // Electric braking torque(kg-m)\n",
"T_F = 1.4        // Frictional torque(kg-m)\n",
"f = 50.0         // Frequency(Hz). Assumed normal supply frequency\n",
"\n",
"// Calculations\n",
"g = 9.81\n",
"// Case(a) Plugging\n",
"T_B = T_E+T_F                                                         // Torque(kg-m)\n",
"beta = T_B*g/J                                                        // Retardation(rad/sec^2)\n",
"N_s = 120*f/p                                                         // Synchronous speed(rad/sec)\n",
"w = 2*%pi*N_s/60                                                      // ω(rad/sec)\n",
"t_a = integrate('-1.0/beta','w', w, 0)                                // Time taken to stop the motor(sec)\n",
"n_a = integrate('-w/(2*%pi*beta)','w', w, 0)                          // Number of revolutions\n",
"// Case(b) Rheostatic braking\n",
"k = kw_1/w\n",
"t_b = J/(g*k)*log((T_F+kw_1)/T_F)                                     // Time taken to stop the motor(sec)\n",
"n_b = 1.0/(2*%pi*k)*(J/(g*k)*(T_F+kw_1)*(1-exp(-k*g*t_b/J))-T_F*t_b)  // Number of revolutions\n",
"\n",
"// Results\n",
"disp('PART IV - EXAMPLE : 1.32 : SOLUTION :-')\n",
"printf('\nCase(a): Time taken to come to standstill by plugging, t = %.1f sec', t_a)\n",
"printf('\n         Number of revolutions made to come to standstill by plugging, n = %.f revolutions', n_a)\n",
"printf('\nCase(b): Time taken to come to standstill by rheostatic braking, t = %.1f sec', t_b)\n",
"printf('\n         Number of revolutions made to come to standstill by rheostatic braking, n = %.f revolutions\n', n_b)\n",
"printf('\nNOTE: ERROR: Calculation mistake in finding number of revolution in case(a) in textbook solution')"
   ]
   }
,
{
		   "cell_type": "markdown",
		   "metadata": {},
		   "source": [
			"## Example 39.33: Inertia_of_flywheel_required.sce"
		   ]
		  },
  {
"cell_type": "code",
	   "execution_count": null,
	   "metadata": {
	    "collapsed": true
	   },
	   "outputs": [],
"source": [
"// A Texbook on POWER SYSTEM ENGINEERING\n",
"// A.Chakrabarti, M.L.Soni, P.V.Gupta, U.S.Bhatnagar\n",
"// DHANPAT RAI & Co.\n",
"// SECOND EDITION \n",
"\n",
"// PART IV : UTILIZATION AND TRACTION\n",
"// CHAPTER 1: INDUSTRIAL APPLICATIONS OF ELECTRIC MOTORS\n",
"\n",
"// EXAMPLE : 1.33 :\n",
"// Page number 712-713\n",
"clear ; clc ; close ; // Clear the work space and console\n",
"\n",
"// Given data\n",
"hp = 500.0      // Rating of IM(hp)\n",
"N_nl = 40.0     // No-load speed(rpm)\n",
"S_fl = 0.12     // Slip at full-load\n",
"T_l = 41500.0   // Load torque(kg-m)\n",
"t = 10.0        // Duration of each rolling period(sec)\n",
"\n",
"// Calculations\n",
"g = 9.81\n",
"T_fl = hp*746*60/(2*%pi*N_nl*g*(1-S_fl))     // Torque at full-load(kg-m)\n",
"T_m = 2.0*T_fl                               // Motor torque at any instant(kg-m)\n",
"slip = S_fl*N_nl                             // Slip(rpm)\n",
"slip_rad = slip*2*%pi/60                     // Slip(rad/sec)\n",
"k = slip_rad/T_fl\n",
"J = -g*t/(k*log(1-(T_m/T_l)))                // Inertia of flywheel(kg-m^2)\n",
"\n",
"// Results\n",
"disp('PART IV - EXAMPLE : 1.33 : SOLUTION :-')\n",
"printf('\nInertia of flywheel required, J = %.3e kg-m^2\n', J)\n",
"printf('\nNOTE: ERROR : J = 2.93*10^6 kg-m^2 and not 2.93*10^5 as mentioned in the textbook solution')"
   ]
   }
,
{
		   "cell_type": "markdown",
		   "metadata": {},
		   "source": [
			"## Example 39.34: Moment_of_inertia_of_the_flywheel.sce"
		   ]
		  },
  {
"cell_type": "code",
	   "execution_count": null,
	   "metadata": {
	    "collapsed": true
	   },
	   "outputs": [],
"source": [
"// A Texbook on POWER SYSTEM ENGINEERING\n",
"// A.Chakrabarti, M.L.Soni, P.V.Gupta, U.S.Bhatnagar\n",
"// DHANPAT RAI & Co.\n",
"// SECOND EDITION \n",
"\n",
"// PART IV : UTILIZATION AND TRACTION\n",
"// CHAPTER 1: INDUSTRIAL APPLICATIONS OF ELECTRIC MOTORS\n",
"\n",
"// EXAMPLE : 1.34 :\n",
"// Page number 713\n",
"clear ; clc ; close ; // Clear the work space and console\n",
"\n",
"// Given data\n",
"T_l = 150.0     // Load torque(kg-m)\n",
"t = 15.0        // Duration of load torque(sec)\n",
"T_m = 85.0      // Motor torque(kg-m)\n",
"N = 500.0       // Speed(rpm)\n",
"s_fl = 0.1      // Full-load slip\n",
"\n",
"// Calculations\n",
"g = 9.81\n",
"slip = N*s_fl*2*%pi/60                  // Slip(rad/sec)\n",
"k = slip/T_m\n",
"T_0 = 0                                 // No-load torque(kg-m)\n",
"J = -g*t/(k*log((T_l-T_m)/(T_l-T_0)))   // Moment of inertia of flywheel(kg-m^2)\n",
"\n",
"// Results\n",
"disp('PART IV - EXAMPLE : 1.34 : SOLUTION :-')\n",
"printf('\nInertia of flywheel required, J = %.f kg-m^2\n', J)\n",
"printf('\nNOTE: ERROR : Calculation mistake in the textbook solution')"
   ]
   }
,
{
		   "cell_type": "markdown",
		   "metadata": {},
		   "source": [
			"## Example 39.3: EX39_3.sce"
		   ]
		  },
  {
"cell_type": "code",
	   "execution_count": null,
	   "metadata": {
	    "collapsed": true
	   },
	   "outputs": [],
"source": [
"// A Texbook on POWER SYSTEM ENGINEERING\n",
"// A.Chakrabarti, M.L.Soni, P.V.Gupta, U.S.Bhatnagar\n",
"// DHANPAT RAI & Co.\n",
"// SECOND EDITION \n",
"\n",
"// PART IV : UTILIZATION AND TRACTION\n",
"// CHAPTER 1: INDUSTRIAL APPLICATIONS OF ELECTRIC MOTORS\n",
"\n",
"// EXAMPLE : 1.3 :\n",
"// Page number 680-681\n",
"clear ; clc ; close ; // Clear the work space and console\n",
"\n",
"// Given data\n",
"V = 400.0     // IM voltage(V)\n",
"s_fl = 5.0    // Full-load slip(%)\n",
"I_fl = 20.0   // Full load current drawn from supply by IM(A)\n",
"Z = 2.5       // Impedance per phase(ohm)\n",
"I_max = 50.0  // Maximum current drawn(A)\n",
"\n",
"// Calculations\n",
"V_phase = V/3**0.5                   // Normal phase voltage(V)\n",
"P = (100**2*I_max*Z/V_phase)**0.5    // Tapping to be provided to auto-transformer(%)\n",
"I_s = I_max/(P/100)                  // Starting current taken by motor(A)\n",
"T_s_fl = (I_s/I_fl)**2*s_fl/100      // Starting torque in terms of full-load torque\n",
"T_s_fl_R = (I_max/I_fl)**2*s_fl/100  // Starting torque in terms of full-load torque when a resistor is used\n",
"\n",
"// Results\n",
"disp('PART IV - EXAMPLE : 1.3 : SOLUTION :-')\n",
"printf('\nTapping to be provided on an auto-transformer, P = %.1f percent', P)\n",
"printf('\nStarting torque in terms of full-load torque, T_s = %.3f*T_fl ', T_s_fl)\n",
"printf('\nStarting torque in terms of full-load torque if a resistor were used in series, T_s = %.4f*T_fl ', T_s_fl_R)"
   ]
   }
,
{
		   "cell_type": "markdown",
		   "metadata": {},
		   "source": [
			"## Example 39.4: EX39_4.sce"
		   ]
		  },
  {
"cell_type": "code",
	   "execution_count": null,
	   "metadata": {
	    "collapsed": true
	   },
	   "outputs": [],
"source": [
"// A Texbook on POWER SYSTEM ENGINEERING\n",
"// A.Chakrabarti, M.L.Soni, P.V.Gupta, U.S.Bhatnagar\n",
"// DHANPAT RAI & Co.\n",
"// SECOND EDITION \n",
"\n",
"// PART IV : UTILIZATION AND TRACTION\n",
"// CHAPTER 1: INDUSTRIAL APPLICATIONS OF ELECTRIC MOTORS\n",
"\n",
"// EXAMPLE : 1.4 :\n",
"// Page number 681-682\n",
"clear ; clc ; close ; // Clear the work space and console\n",
"\n",
"// Given data\n",
"hp = 30.0      // Power of cage IM(hp)\n",
"V = 500.0      // Cage IM voltage(V)\n",
"P = 4.0        // Number of poles\n",
"f = 50.0       // Frequency(Hz)\n",
"I_fl = 33.0    // Full load current(A)\n",
"s = 4.0/100    // Slip\n",
"Z = 3.5        // Impedance per phase(ohm)\n",
"tap = 60.0     // Auto-transformer tap setting(%)\n",
"\n",
"// Calculations\n",
"// Case(1)\n",
"I_s_1 = 3**0.5*(V/Z)                       // Starting current taken from line(A)\n",
"N_s = 120*f/P                              // Speed(rpm)\n",
"N_fl = N_s-N_s*s                           // Full load speed of motor(rpm)\n",
"T_fl = hp*746*60/(2*%pi*N_fl)              // Full load torque(N-m)\n",
"T_s_1 = (I_s_1/I_fl)**2*s*T_fl             // Starting torque(N-m)\n",
"// Case(2)\n",
"V_ph = V/3**0.5                            // Phase voltage in star(V)\n",
"I_s_2 = V_ph/Z                             // Starting current(A/phase)\n",
"T_s_2 = (I_s_2/(I_fl/3**0.5))**2*s*T_fl    // Starting torque(N-m)\n",
"// Case(3)\n",
"V_ph_at = V*tap/(3**0.5*100)               // Phase voltage of auto-transformer secondary(V)\n",
"V_impressed = V_ph_at*3**0.5               // Volatage impressed on delta-connected stator(V)\n",
"I_s_3 = V_impressed/Z                      // Starting current(A/phase)\n",
"I_s_line = 3**0.5*I_s_3                    // Motor starting line current from auto-transformer secondary(A)\n",
"I_s_line_3 = tap/100*I_s_line              // Starting current taken from supply(A)\n",
"T_s_3 = (I_s_3/(I_fl/3**0.5))**2*s*T_fl    // Starting torque(N-m)\n",
"// Case(4)\n",
"I_s_4 = 3**0.5*V/Z                         // Starting current from line(A)\n",
"T_s_4 = T_fl*s*(I_s_4/I_fl)**2             // Starting torque(N-m)\n",
"\n",
"// Results\n",
"disp('PART IV - EXAMPLE : 1.4 : SOLUTION :-')\n",
"printf('\nCase(1): Starting torque for direct switching, T_s = %.f N-m', T_s_1)\n",
"printf('\n         Starting current taken from supply line for direct switching, I_s = %.f A', I_s_1)\n",
"printf('\nCase(2): Starting torque for star-delta starting, T_s = %.f N-m', T_s_2)\n",
"printf('\n         Starting current taken from supply line for star-delta starting, I_s = %.1f A per phase', I_s_2)\n",
"printf('\nCase(3): Starting torque for auto-transformer starting, T_s = %.f N-m', T_s_3)\n",
"printf('\n         Starting current taken from supply line for auto-transformer starting, I_s = %.f A', I_s_line_3)\n",
"printf('\nCase(4): Starting torque for series-parallel switch, T_s = %.f N-m', T_s_4)\n",
"printf('\n         Starting current taken from supply line for series-parallel switch, I_s = %.f A\n', I_s_4)\n",
"printf('\nNOTE: ERROR: Calculation mistakes and more approximation in textbook solution')"
   ]
   }
,
{
		   "cell_type": "markdown",
		   "metadata": {},
		   "source": [
			"## Example 39.5: EX39_5.sce"
		   ]
		  },
  {
"cell_type": "code",
	   "execution_count": null,
	   "metadata": {
	    "collapsed": true
	   },
	   "outputs": [],
"source": [
"// A Texbook on POWER SYSTEM ENGINEERING\n",
"// A.Chakrabarti, M.L.Soni, P.V.Gupta, U.S.Bhatnagar\n",
"// DHANPAT RAI & Co.\n",
"// SECOND EDITION \n",
"\n",
"// PART IV : UTILIZATION AND TRACTION\n",
"// CHAPTER 1: INDUSTRIAL APPLICATIONS OF ELECTRIC MOTORS\n",
"\n",
"// EXAMPLE : 1.5 :\n",
"// Page number 682\n",
"clear ; clc ; close ; // Clear the work space and console\n",
"\n",
"// Given data\n",
"V = 400.0      // IM voltage(V)\n",
"f = 50.0       // Frequency(Hz)\n",
"I_s = 5.0      // Full voltage starting current in terms of full load current\n",
"T_s = 2.0      // Full voltage starting torque in terms of full load torque\n",
"tap = 65.0     // Auto-tranformer tapping(%)\n",
"\n",
"// Calculations\n",
"V_ph = V/3**0.5               // Phase voltage(V)\n",
"V_ph_motor = tap/100*V_ph     // Motor phase voltage when auto-transformer is used(V)\n",
"I_ph_motor = tap/100*I_s      // Motor phase current in terms of full load current\n",
"I_1 = tap/100*I_ph_motor      // Line current from supply in terms of full load current\n",
"T = (tap/100)**2*T_s          // Starting torque in terms of full load current\n",
"V_applied = V_ph/2**0.5       // Voltage to be applied to develop full-load torque(V)\n",
"I_line = V_applied/V_ph*I_s   // Line current in terms of full load current\n",
"\n",
"// Results\n",
"disp('PART IV - EXAMPLE : 1.5 : SOLUTION :-')\n",
"printf('\nCase(i):   Motor current per phase = %.2f*I_fl ', I_ph_motor)\n",
"printf('\nCase(ii):  Current from the supply, I_1 = %.2f*I_fl ', I_1)\n",
"printf('\nCase(iii): Starting torque with auto-transformer starter, T = %.3f*T_fl ', T)\n",
"printf('\nVoltage to be applied if motor has to develop full-load torque at starting, V = %.f V', V_applied)\n",
"printf('\nLine current from the supply to develop full-load torque at starting = %.2f*I_fl ', I_line)"
   ]
   }
,
{
		   "cell_type": "markdown",
		   "metadata": {},
		   "source": [
			"## Example 39.6: Ratio_of_starting_current_to_full_load_current.sce"
		   ]
		  },
  {
"cell_type": "code",
	   "execution_count": null,
	   "metadata": {
	    "collapsed": true
	   },
	   "outputs": [],
"source": [
"// A Texbook on POWER SYSTEM ENGINEERING\n",
"// A.Chakrabarti, M.L.Soni, P.V.Gupta, U.S.Bhatnagar\n",
"// DHANPAT RAI & Co.\n",
"// SECOND EDITION \n",
"\n",
"// PART IV : UTILIZATION AND TRACTION\n",
"// CHAPTER 1: INDUSTRIAL APPLICATIONS OF ELECTRIC MOTORS\n",
"\n",
"// EXAMPLE : 1.6 :\n",
"// Page number 682\n",
"clear ; clc ; close ; // Clear the work space and console\n",
"\n",
"// Given data\n",
"hp = 10.0      // IM rating(hp)\n",
"V = 400.0      // IM voltage(V)\n",
"pf = 0.8       // Lagging power factor\n",
"n = 0.9        // Efficiency of IM\n",
"I_sc = 7.2     // Short-circuit current at 160V(A)\n",
"V_sc = 160.0   // Voltage at short-circuit(V)\n",
"\n",
"// Calculations\n",
"I_fl = hp*746/(3**0.5*V*pf*n)   // Full-load line current(A)\n",
"I_sc_fv = V/V_sc*I_sc           // Short-circuit current at full voltage(A)\n",
"I_s = I_sc_fv/3.0               // Starting current with star-delta starter(A)\n",
"I_s_fl = I_s/I_fl               // Ratio of starting current to full load current\n",
"\n",
"// Results\n",
"disp('PART IV - EXAMPLE : 1.6 : SOLUTION :-')\n",
"printf('\nRatio of starting current to full-load current, I_s/I_fl = %.1f \n', I_s_fl)\n",
"printf('\nNOTE: ERROR: Calculation mistake in final answer in textbook solution')"
   ]
   }
,
{
		   "cell_type": "markdown",
		   "metadata": {},
		   "source": [
			"## Example 39.7: Resistance_to_be_placed_in_series_with_shunt_field.sce"
		   ]
		  },
  {
"cell_type": "code",
	   "execution_count": null,
	   "metadata": {
	    "collapsed": true
	   },
	   "outputs": [],
"source": [
"// A Texbook on POWER SYSTEM ENGINEERING\n",
"// A.Chakrabarti, M.L.Soni, P.V.Gupta, U.S.Bhatnagar\n",
"// DHANPAT RAI & Co.\n",
"// SECOND EDITION \n",
"\n",
"// PART IV : UTILIZATION AND TRACTION\n",
"// CHAPTER 1: INDUSTRIAL APPLICATIONS OF ELECTRIC MOTORS\n",
"\n",
"// EXAMPLE : 1.7 :\n",
"// Page number 685-686\n",
"clear ; clc ; close ; // Clear the work space and console\n",
"\n",
"// Given data\n",
"V = 230.0      // Voltage of DC shunt motor(V)\n",
"N_1 = 1000.0   // No load speed(rpm)\n",
"R_sh = 40.0    // Shunt resistance(ohm)\n",
"N_2 = 1200.0   // Speed with series resistance(rpm)\n",
"\n",
"// Calculations\n",
"phi_2 = N_1/N_2        // Flux_2 in terms flux_1\n",
"I_N1 = V/R_sh          // Exciting current at 1000 rpm(A)\n",
"phi_1 = 11.9           // Flux corresponding to I_N1(mWb)\n",
"phi_N2 = phi_1*phi_2   // Flux at 1200 rpm(mWb)\n",
"I_phi_N2 = 3.25        // Exciting current corresponding to phi_N2(A)\n",
"R = V/I_phi_N2         // Resistance in field circuit(ohm)\n",
"R_extra = R-R_sh       // Resistance to be placed in series with shunt field(ohm)\n",
"\n",
"// Results\n",
"disp('PART IV - EXAMPLE : 1.7 : SOLUTION :-')\n",
"printf('\nResistance to be placed in series with shunt field = %.1f ohm', R_extra)"
   ]
   }
,
{
		   "cell_type": "markdown",
		   "metadata": {},
		   "source": [
			"## Example 39.9: Speed_and_Current_when_field_winding_is_shunted_by_a_diverter.sce"
		   ]
		  },
  {
"cell_type": "code",
	   "execution_count": null,
	   "metadata": {
	    "collapsed": true
	   },
	   "outputs": [],
"source": [
"// A Texbook on POWER SYSTEM ENGINEERING\n",
"// A.Chakrabarti, M.L.Soni, P.V.Gupta, U.S.Bhatnagar\n",
"// DHANPAT RAI & Co.\n",
"// SECOND EDITION \n",
"\n",
"// PART IV : UTILIZATION AND TRACTION\n",
"// CHAPTER 1: INDUSTRIAL APPLICATIONS OF ELECTRIC MOTORS\n",
"\n",
"// EXAMPLE : 1.9 :\n",
"// Page number 686-687\n",
"clear ; clc ; close ; // Clear the work space and console\n",
"\n",
"// Given data\n",
"I_f1 = 25.0    // Current without diverter(A)\n",
"N_1 = 500.0    // Speed of dc series motor without diverter(rpm)\n",
"\n",
"// Calculations\n",
"I_a2 = ((3.0/2)**0.5*I_f1**2*3/2)**0.5   // Field current with diverter(A)\n",
"N_2 = I_f1*N_1*3/(2*I_a2)                // Speed with diverter(rpm)\n",
"\n",
"// Results\n",
"disp('PART IV - EXAMPLE : 1.9 : SOLUTION :-')\n",
"printf('\nSpeed when field winding is shunted by a diverter, N_2 = %.f rpm', N_2)\n",
"printf('\nCurrent when field winding is shunted by a diverter, I_a2 = %.1f A', I_a2)"
   ]
   }
],
"metadata": {
		  "kernelspec": {
		   "display_name": "Scilab",
		   "language": "scilab",
		   "name": "scilab"
		  },
		  "language_info": {
		   "file_extension": ".sce",
		   "help_links": [
			{
			 "text": "MetaKernel Magics",
			 "url": "https://github.com/calysto/metakernel/blob/master/metakernel/magics/README.md"
			}
		   ],
		   "mimetype": "text/x-octave",
		   "name": "scilab",
		   "version": "0.7.1"
		  }
		 },
		 "nbformat": 4,
		 "nbformat_minor": 0
}
