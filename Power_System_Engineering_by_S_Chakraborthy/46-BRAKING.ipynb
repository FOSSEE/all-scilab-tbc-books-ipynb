{
"cells": [
 {
		   "cell_type": "markdown",
	   "metadata": {},
	   "source": [
       "# Chapter 46: BRAKING"
	   ]
	},
{
		   "cell_type": "markdown",
		   "metadata": {},
		   "source": [
			"## Example 46.1: Braking_torque.sce"
		   ]
		  },
  {
"cell_type": "code",
	   "execution_count": null,
	   "metadata": {
	    "collapsed": true
	   },
	   "outputs": [],
"source": [
"// A Texbook on POWER SYSTEM ENGINEERING\n",
"// A.Chakrabarti, M.L.Soni, P.V.Gupta, U.S.Bhatnagar\n",
"// DHANPAT RAI & Co.\n",
"// SECOND EDITION \n",
"\n",
"// PART IV : UTILIZATION AND TRACTION\n",
"// CHAPTER 8: BRAKING\n",
"\n",
"// EXAMPLE : 8.1 :\n",
"// Page number 806\n",
"clear ; clc ; close ; // Clear the work space and console\n",
"\n",
"// Given data\n",
"V = 525.0    // Voltage of motor(V)\n",
"I_1 = 50.0   // Current(A)\n",
"T_1 = 216.0  // Torque(N-m)\n",
"I_2 = 70.0   // Current(A)\n",
"T_2 = 344.0  // Torque(N-m)\n",
"I_3 = 80.0   // Current(A)\n",
"T_3 = 422.0  // Torque(N-m)\n",
"I_4 = 90.0   // Current(A)\n",
"T_4 = 500.0  // Torque(N-m)\n",
"V_m = 26.0   // Speed(kmph)\n",
"R_b = 5.5    // Resistance of braking rheostat(ohm)\n",
"R_m = 0.5    // Resistance of motor(ohm)\n",
"\n",
"// Calculations\n",
"I = 75.0                // Current drawn at 26 kmph(A)\n",
"back_emf = V-I*R_m      // Back emf of the motor(V)\n",
"R_t = R_b+R_m           // Total resistance(ohm)\n",
"I_del = back_emf/R_t    // Current delivered(A)\n",
"T_b = T_3*I_del/I_3     // Braking torque(N-m)\n",
"\n",
"// Results\n",
"disp('PART IV - EXAMPLE : 8.1 : SOLUTION :-')\n",
"printf('\nBraking torque = %.f N-m', T_b)"
   ]
   }
,
{
		   "cell_type": "markdown",
		   "metadata": {},
		   "source": [
			"## Example 46.2: Current_delivered_when_motor_works_as_generator.sce"
		   ]
		  },
  {
"cell_type": "code",
	   "execution_count": null,
	   "metadata": {
	    "collapsed": true
	   },
	   "outputs": [],
"source": [
"// A Texbook on POWER SYSTEM ENGINEERING\n",
"// A.Chakrabarti, M.L.Soni, P.V.Gupta, U.S.Bhatnagar\n",
"// DHANPAT RAI & Co.\n",
"// SECOND EDITION \n",
"\n",
"// PART IV : UTILIZATION AND TRACTION\n",
"// CHAPTER 8: BRAKING\n",
"\n",
"// EXAMPLE : 8.2 :\n",
"// Page number 806\n",
"clear ; clc ; close ; // Clear the work space and console\n",
"\n",
"// Given data\n",
"V = 525.0      // Voltage of motor(V)\n",
"I_1 = 50.0     // Current(A)\n",
"N_1 = 1200.0   // Speed(rpm)\n",
"I_2 = 100.0    // Current(A)\n",
"N_2 = 950.0    // Speed(rpm)\n",
"I_3 = 150.0    // Current(A)\n",
"N_3 = 840.0    // Speed(rpm)\n",
"I_4 = 200.0    // Current(A)\n",
"N_4 = 745.0    // Speed(rpm)\n",
"N = 1000.0     // Speed opearting(rpm)\n",
"R = 3.0        // Resistance(ohm)\n",
"R_m = 0.5      // Resistance of motor(ohm)\n",
"\n",
"// Calculations\n",
"I = 85.0                // Current drawn at 1000 rpm(A)\n",
"back_emf = V-I*R_m      // Back emf of the motor(V)\n",
"R_t = R+R_m             // Total resistance(ohm)\n",
"I_del = back_emf/R_t    // Current delivered(A)\n",
"\n",
"// Results\n",
"disp('PART IV - EXAMPLE : 8.2 : SOLUTION :-')\n",
"printf('\nCurrent delivered when motor works as generator = %.f A', I_del)"
   ]
   }
,
{
		   "cell_type": "markdown",
		   "metadata": {},
		   "source": [
			"## Example 46.3: Energy_returned_to_lines.sce"
		   ]
		  },
  {
"cell_type": "code",
	   "execution_count": null,
	   "metadata": {
	    "collapsed": true
	   },
	   "outputs": [],
"source": [
"// A Texbook on POWER SYSTEM ENGINEERING\n",
"// A.Chakrabarti, M.L.Soni, P.V.Gupta, U.S.Bhatnagar\n",
"// DHANPAT RAI & Co.\n",
"// SECOND EDITION \n",
"\n",
"// PART IV : UTILIZATION AND TRACTION\n",
"// CHAPTER 8: BRAKING\n",
"\n",
"// EXAMPLE : 8.3 :\n",
"// Page number 810\n",
"clear ; clc ; close ; // Clear the work space and console\n",
"\n",
"// Given data\n",
"W = 400.0       // Weight of train(tonne)\n",
"G = 100.0/70    // Gradient(%)\n",
"t = 120.0       // Time(sec)\n",
"V_1 = 80.0      // Speed(km/hr)\n",
"V_2 = 50.0      // Speed(km/hr)\n",
"r_kg = 5.0      // Tractive resistance(kg/tonne)\n",
"I = 7.5         // Rotational inertia(%)\n",
"n = 0.75        // Overall efficiency\n",
"\n",
"// Calculations\n",
"W_e = W*(100+I)/100                                      // Accelerating weight of train(tonne)\n",
"r = r_kg*9.81                                            // Tractive resistance(N-m/tonne)\n",
"energy_recuperation = 0.01072*W_e*(V_1**2-V_2**2)/1000   // Energy available for recuperation(kWh)\n",
"F_t = W*(r-98.1*G)                                       // Tractive effort during retardation(N)\n",
"distance = (V_1+V_2)*1000*t/(2*3600)                     // Distance travelled by train during retardation period(m)\n",
"energy_train = abs(F_t)*distance/(3600*1000)             // Energy available during train movement(kWh)\n",
"net_energy = n*(energy_recuperation+energy_train)        // Net energy returned to supply system(kWh)\n",
"\n",
"// Results\n",
"disp('PART IV - EXAMPLE : 8.3 : SOLUTION :-')\n",
"printf('\nEnergy returned to lines = %.2f kWh\n', net_energy)\n",
"printf('\nNOTE: ERROR: Calculation mistakes & more approximation in textbook solution')"
   ]
   }
,
{
		   "cell_type": "markdown",
		   "metadata": {},
		   "source": [
			"## Example 46.4: Energy_returned_to_the_line.sce"
		   ]
		  },
  {
"cell_type": "code",
	   "execution_count": null,
	   "metadata": {
	    "collapsed": true
	   },
	   "outputs": [],
"source": [
"// A Texbook on POWER SYSTEM ENGINEERING\n",
"// A.Chakrabarti, M.L.Soni, P.V.Gupta, U.S.Bhatnagar\n",
"// DHANPAT RAI & Co.\n",
"// SECOND EDITION \n",
"\n",
"// PART IV : UTILIZATION AND TRACTION\n",
"// CHAPTER 8: BRAKING\n",
"\n",
"// EXAMPLE : 8.4 :\n",
"// Page number 810\n",
"clear ; clc ; close ; // Clear the work space and console\n",
"\n",
"// Given data\n",
"W = 355.0        // Weight of train(tonne)\n",
"V_1 = 80.5       // Speed(km/hr)\n",
"V_2 = 48.3       // Speed(km/hr)\n",
"D = 1.525        // Distance(km)\n",
"G = 100.0/90     // Gradient(%)\n",
"I = 10.0         // Rotational inertia(%)\n",
"r = 53.0         // Tractive resistance(N/tonne)\n",
"n = 0.8          // Overall efficiency\n",
"\n",
"// Calculations\n",
"beta = (V_1**2-V_2**2)/(2*D*3600)   // Braking retardation(km phps)\n",
"W_e = W*(100+I)/100                 // Accelerating weight of train(tonne)\n",
"F_t = 277.8*W_e*beta+98.1*W*G-W*r   // Tractive effort(N)\n",
"work_done = F_t*D*1000              // Work done by this effort(N-m)\n",
"energy = work_done*n/(1000*3600)    // Energy returned to line(kWh)\n",
"\n",
"// Results\n",
"disp('PART IV - EXAMPLE : 8.4 : SOLUTION :-')\n",
"printf('\nEnergy returned to the line = %.1f kWh', energy)"
   ]
   }
,
{
		   "cell_type": "markdown",
		   "metadata": {},
		   "source": [
			"## Example 46.5: Braking_effect_and_Rate_of_retardation_produced_by_this_braking_effect.sce"
		   ]
		  },
  {
"cell_type": "code",
	   "execution_count": null,
	   "metadata": {
	    "collapsed": true
	   },
	   "outputs": [],
"source": [
"// A Texbook on POWER SYSTEM ENGINEERING\n",
"// A.Chakrabarti, M.L.Soni, P.V.Gupta, U.S.Bhatnagar\n",
"// DHANPAT RAI & Co.\n",
"// SECOND EDITION \n",
"\n",
"// PART IV : UTILIZATION AND TRACTION\n",
"// CHAPTER 8: BRAKING\n",
"\n",
"// EXAMPLE : 8.5 :\n",
"// Page number 811-812\n",
"clear ; clc ; close ; // Clear the work space and console\n",
"funcprot(0)\n",
"\n",
"// Given data\n",
"area = 16.13       // Area of brakes(sq.cm/pole face)\n",
"phi = 2.5*10**-3   // Flux(Wb)\n",
"u = 0.2            // Co-efficient of friction\n",
"W = 10.0           // Weight of car(tonnes)\n",
"\n",
"// Calculations\n",
"a = area*10**-4                   // Area of brakes(sq.m/pole face)\n",
"F = phi**2/(2*%pi*10**-7*a)       // Force(N)\n",
"force = F*u                       // Braking effect considering flux and coefficient of friction(N)\n",
"beta = u*F/(W*1000)*100           // Rate of retardation produced by braking effect(cm/sec^2)\n",
"\n",
"// Results\n",
"disp('PART IV - EXAMPLE : 8.5 : SOLUTION :-')\n",
"printf('\nBraking effect, F = %.f N', force)\n",
"printf('\nRate of retardation produced by this braking effect, β = %.2f cm/sec^2', beta)"
   ]
   }
],
"metadata": {
		  "kernelspec": {
		   "display_name": "Scilab",
		   "language": "scilab",
		   "name": "scilab"
		  },
		  "language_info": {
		   "file_extension": ".sce",
		   "help_links": [
			{
			 "text": "MetaKernel Magics",
			 "url": "https://github.com/calysto/metakernel/blob/master/metakernel/magics/README.md"
			}
		   ],
		   "mimetype": "text/x-octave",
		   "name": "scilab",
		   "version": "0.7.1"
		  }
		 },
		 "nbformat": 4,
		 "nbformat_minor": 0
}
