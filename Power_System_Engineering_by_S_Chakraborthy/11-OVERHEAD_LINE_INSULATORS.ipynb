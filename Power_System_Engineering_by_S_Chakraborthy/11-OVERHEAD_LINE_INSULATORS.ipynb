{
"cells": [
 {
		   "cell_type": "markdown",
	   "metadata": {},
	   "source": [
       "# Chapter 11: OVERHEAD LINE INSULATORS"
	   ]
	},
{
		   "cell_type": "markdown",
		   "metadata": {},
		   "source": [
			"## Example 11.1: Ratio_of_capacitance_Line_voltage_and_String_efficiency.sce"
		   ]
		  },
  {
"cell_type": "code",
	   "execution_count": null,
	   "metadata": {
	    "collapsed": true
	   },
	   "outputs": [],
"source": [
"// A Texbook on POWER SYSTEM ENGINEERING\n",
"// A.Chakrabarti, M.L.Soni, P.V.Gupta, U.S.Bhatnagar\n",
"// DHANPAT RAI & Co.\n",
"// SECOND EDITION \n",
"\n",
"// PART II : TRANSMISSION AND DISTRIBUTION\n",
"// CHAPTER 4: OVERHEAD LINE INSULATORS\n",
"\n",
"// EXAMPLE : 4.1 :\n",
"// Page number 183\n",
"clear ; clc ; close ; // Clear the work space and console\n",
"\n",
"// Given data\n",
"V_1 = 9.0       // Potential across top unit(kV)\n",
"V_2 = 11.0      // Potential across middle unit(kV)\n",
"n = 3.0         // Number of disc insulators\n",
"\n",
"// Calculations\n",
"// Case(a)\n",
"K = (V_2-V_1)/V_1         // Ratio of capacitance b/w pin & earth to self capacitance\n",
"// Case(b)\n",
"V_3 = V_2+(V_1+V_2)*K     // Potential across bottom unit(kV)\n",
"V = V_1+V_2+V_3           // Voltage between line and earth(kV)\n",
"V_l = 3**0.5*V            // Line voltage(kV)\n",
"// Case(c)\n",
"eff = V/(n*V_3)*100       // String efficiency(%)\n",
"\n",
"// Results\n",
"disp('PART II - EXAMPLE : 4.1 : SOLUTION :-')\n",
"printf('\nCase(a): Ratio of capacitance b/w pin & earth to self-capacitance of each unit, K = %.2f ', K)\n",
"printf('\nCase(b): Line voltage = %.2f kV', V_l)\n",
"printf('\nCase(c): String efficiency = %.f percent', eff)"
   ]
   }
,
{
		   "cell_type": "markdown",
		   "metadata": {},
		   "source": [
			"## Example 11.2: Mutual_capacitance_of_each_unit_in_terms_of_C.sce"
		   ]
		  },
  {
"cell_type": "code",
	   "execution_count": null,
	   "metadata": {
	    "collapsed": true
	   },
	   "outputs": [],
"source": [
"// A Texbook on POWER SYSTEM ENGINEERING\n",
"// A.Chakrabarti, M.L.Soni, P.V.Gupta, U.S.Bhatnagar\n",
"// DHANPAT RAI & Co.\n",
"// SECOND EDITION \n",
"\n",
"// PART II : TRANSMISSION AND DISTRIBUTION\n",
"// CHAPTER 4: OVERHEAD LINE INSULATORS\n",
"\n",
"// EXAMPLE : 4.2 :\n",
"// Page number 183-184\n",
"clear ; clc ; close ; // Clear the work space and console\n",
"\n",
"// Given data\n",
"m = 10.0              // Mutual capacitance of top insulator in terms of C\n",
"\n",
"// Calculations\n",
"X = 1+m                  // Mutual capacitance in terms of C\n",
"Y = (1.0+2)+m            // Mutual capacitance in terms of C\n",
"Z = (1.0+2+3)+m          // Mutual capacitance in terms of C\n",
"U = (1.0+2+3+4)+m        // Mutual capacitance in terms of C\n",
"V = (1.0+2+3+4+5)+m      // Mutual capacitance in terms of C\n",
"\n",
"// Results\n",
"disp('PART II - EXAMPLE : 4.2 : SOLUTION :-')\n",
"printf('\nMutual capacitance of each unit:')\n",
"printf('\n X = %.f*C', X)\n",
"printf('\n Y = %.f*C', Y)\n",
"printf('\n Z = %.f*C', Z)\n",
"printf('\n U = %.f*C', U)\n",
"printf('\n V = %.f*C', V)"
   ]
   }
,
{
		   "cell_type": "markdown",
		   "metadata": {},
		   "source": [
			"## Example 11.3: EX11_3.sce"
		   ]
		  },
  {
"cell_type": "code",
	   "execution_count": null,
	   "metadata": {
	    "collapsed": true
	   },
	   "outputs": [],
"source": [
"// A Texbook on POWER SYSTEM ENGINEERING\n",
"// A.Chakrabarti, M.L.Soni, P.V.Gupta, U.S.Bhatnagar\n",
"// DHANPAT RAI & Co.\n",
"// SECOND EDITION \n",
"\n",
"// PART II : TRANSMISSION AND DISTRIBUTION\n",
"// CHAPTER 4: OVERHEAD LINE INSULATORS\n",
"\n",
"// EXAMPLE : 4.3 :\n",
"// Page number 184\n",
"clear ; clc ; close ; // Clear the work space and console\n",
"\n",
"// Given data\n",
"n = 3.0             // Number of insulators\n",
"\n",
"// Calculations\n",
"V_1 = 155.0/475.0            // Potential across top unit\n",
"V_2 = 154.0/155.0*V_1        // Potential across middle unit\n",
"V_3 = 166.0/155.0*V_1        // Potential across bottom unit\n",
"eff = 100/(n*V_3)            // String efficiency(%)\n",
"\n",
"// Results\n",
"disp('PART II - EXAMPLE : 4.3 : SOLUTION :-')\n",
"printf('\nVoltage across top unit, V_1 = %.3f*V', V_1)\n",
"printf('\nVoltage across middle unit, V_2 = %.3f*V', V_2)\n",
"printf('\nVoltage across bottom unit, V_3 = %.2f*V', V_3)\n",
"printf('\nString efficiency = %.2f percent', eff)"
   ]
   }
,
{
		   "cell_type": "markdown",
		   "metadata": {},
		   "source": [
			"## Example 11.4: Line_to_neutral_voltage_and_String_efficiency.sce"
		   ]
		  },
  {
"cell_type": "code",
	   "execution_count": null,
	   "metadata": {
	    "collapsed": true
	   },
	   "outputs": [],
"source": [
"// A Texbook on POWER SYSTEM ENGINEERING\n",
"// A.Chakrabarti, M.L.Soni, P.V.Gupta, U.S.Bhatnagar\n",
"// DHANPAT RAI & Co.\n",
"// SECOND EDITION \n",
"\n",
"// PART II : TRANSMISSION AND DISTRIBUTION\n",
"// CHAPTER 4: OVERHEAD LINE INSULATORS\n",
"\n",
"// EXAMPLE : 4.4 :\n",
"// Page number 184-185\n",
"clear ; clc ; close ; // Clear the work space and console\n",
"\n",
"// Given data\n",
"V_3 = 17.5          // Voltage across line unit(kV)\n",
"c = 1.0/8           // Shunt capacitance = 1/8 of insulator capacitance\n",
"n = 3.0             // Number of insulators\n",
"\n",
"// Calculations\n",
"K = c                       // String constant\n",
"V_1 = V_3/(1+3*K+K**2)      // Voltage across top unit(kV)\n",
"V_2 = (1+K)*V_1             // Voltage across middle unit(kV)\n",
"V = V_1+V_2+V_3             // Voltage between line & earth(kV)\n",
"eff = V*100/(n*V_3)         // String efficiency(%)\n",
"\n",
"// Results\n",
"disp('PART II - EXAMPLE : 4.4 : SOLUTION :-')\n",
"printf('\nLine to neutral voltage, V = %.2f kV', V)\n",
"printf('\nString efficiency = %.2f percent', eff)"
   ]
   }
,
{
		   "cell_type": "markdown",
		   "metadata": {},
		   "source": [
			"## Example 11.5: Value_of_line_to_pin_capacitance.sce"
		   ]
		  },
  {
"cell_type": "code",
	   "execution_count": null,
	   "metadata": {
	    "collapsed": true
	   },
	   "outputs": [],
"source": [
"// A Texbook on POWER SYSTEM ENGINEERING\n",
"// A.Chakrabarti, M.L.Soni, P.V.Gupta, U.S.Bhatnagar\n",
"// DHANPAT RAI & Co.\n",
"// SECOND EDITION \n",
"\n",
"// PART II : TRANSMISSION AND DISTRIBUTION\n",
"// CHAPTER 4: OVERHEAD LINE INSULATORS\n",
"\n",
"// EXAMPLE : 4.5 :\n",
"// Page number 185\n",
"clear ; clc ; close ; // Clear the work space and console\n",
"\n",
"// Given data\n",
"n = 8.0               // Number of insulators\n",
"\n",
"// Calculations\n",
"A = 1.0/(n-1)         // Line to pin capacitance\n",
"B = 2.0/(n-2)         // Line to pin capacitance\n",
"C = 3.0/(n-3)         // Line to pin capacitance\n",
"D = 4.0/(n-4)         // Line to pin capacitance\n",
"E = 5.0/(n-5)         // Line to pin capacitance\n",
"F = 6.0/(n-6)         // Line to pin capacitance\n",
"G = 7.0/(n-7)         // Line to pin capacitance\n",
"\n",
"// Results\n",
"disp('PART II - EXAMPLE : 4.5 : SOLUTION :-')\n",
"printf('\nLine-to-pin capacitance are:')\n",
"printf('\n A = %.3f*C', A)\n",
"printf('\n B = %.3f*C', B)\n",
"printf('\n C = %.3f*C', C)\n",
"printf('\n D = %.3f*C', D)\n",
"printf('\n E = %.3f*C', E)\n",
"printf('\n F = %.3f*C', F)\n",
"printf('\n G = %.3f*C', G)"
   ]
   }
,
{
		   "cell_type": "markdown",
		   "metadata": {},
		   "source": [
			"## Example 11.6: EX11_6.sce"
		   ]
		  },
  {
"cell_type": "code",
	   "execution_count": null,
	   "metadata": {
	    "collapsed": true
	   },
	   "outputs": [],
"source": [
"// A Texbook on POWER SYSTEM ENGINEERING\n",
"// A.Chakrabarti, M.L.Soni, P.V.Gupta, U.S.Bhatnagar\n",
"// DHANPAT RAI & Co.\n",
"// SECOND EDITION \n",
"\n",
"// PART II : TRANSMISSION AND DISTRIBUTION\n",
"// CHAPTER 4: OVERHEAD LINE INSULATORS\n",
"\n",
"// EXAMPLE : 4.6 :\n",
"// Page number 186\n",
"clear ; clc ; close ; // Clear the work space and console\n",
"\n",
"// Given data\n",
"m = 6.0               // Mutual capacitance\n",
"n = 5.0               // Number of insulators\n",
"\n",
"// Calculations\n",
"E_4 = (1+(1/m))                                    // Voltage across 4th insulator as percent of E_5(%)\n",
"E_3 = (1+(3/m)+(1/m**2))                           // Voltage across 3rd insulator as percent of E_5(%)\n",
"E_2 = (1+(6/m)+(5/m**2)+(1/m**3))                  // Voltage across 2nd insulator as percent of E_5(%)\n",
"E_1 = (1+(10/m)+(15/m**2)+(7/m**3)+(1/m**4))       // Voltage across 1st insulator as percent of E_5(%)\n",
"E_5 = 100/(E_4+E_3+E_2+E_1+1)                      // Voltage across 5th insulator as percent of E_5(%)\n",
"E4 = E_4*E_5                                       // Voltage across 4th insulator as percent of E_5(%)\n",
"E3 = E_3*E_5                                       // Voltage across 3rd insulator as percent of E_5(%)\n",
"E2 = E_2*E_5                                       // Voltage across 2nd insulator as percent of E_5(%)\n",
"E1 = E_1*E_5                                       // Voltage across 1st insulator as percent of E_5(%)\n",
"eff = 100/(n*E1/100)                               // String efficiency(%)\n",
"\n",
"// Results\n",
"disp('PART II - EXAMPLE : 4.6 : SOLUTION :-')\n",
"printf('\nVoltage distribution as a percentage of voltage of conductor to earth are:')\n",
"printf('\n E_1 = %.2f percent', E1)\n",
"printf('\n E_2 = %.2f percent', E2)\n",
"printf('\n E_3 = %.1f percent', E3)\n",
"printf('\n E_4 = %.1f percent', E4)\n",
"printf('\n E_5 = %.2f percent', E_5)\n",
"printf('\nString efficiency = %.f percent \n', eff)\n",
"printf('\nNOTE: Changes in obtained answer from that of textbook is due to more precision')"
   ]
   }
,
{
		   "cell_type": "markdown",
		   "metadata": {},
		   "source": [
			"## Example 11.7: EX11_7.sce"
		   ]
		  },
  {
"cell_type": "code",
	   "execution_count": null,
	   "metadata": {
	    "collapsed": true
	   },
	   "outputs": [],
"source": [
"// A Texbook on POWER SYSTEM ENGINEERING\n",
"// A.Chakrabarti, M.L.Soni, P.V.Gupta, U.S.Bhatnagar\n",
"// DHANPAT RAI & Co.\n",
"// SECOND EDITION \n",
"\n",
"// PART II : TRANSMISSION AND DISTRIBUTION\n",
"// CHAPTER 4: OVERHEAD LINE INSULATORS\n",
"\n",
"// EXAMPLE : 4.7 :\n",
"// Page number 186-187\n",
"clear ; clc ; close ; // Clear the work space and console\n",
"\n",
"// Given data\n",
"n = 3.0              // Number of insulators\n",
"C_1 = 0.2            // Capacitance in terms of C\n",
"C_2 = 0.1            // Capacitance in terms of C\n",
"\n",
"// Calculations\n",
"// Without guard ring\n",
"e_2_a = 13.0/13.3                 // Potential across middle unit as top unit\n",
"e_1_a = 8.3/6.5*e_2_a             // Potential across bottom unit\n",
"E_a = 1+(1/(8.3/6.5))+(1/e_1_a)   // Voltage in terms of e_1\n",
"eff_a = E_a/n*100                 // String efficiency(%)\n",
"e1_a = 1/E_a                      // Voltage across bottom unit as a % of line voltage\n",
"e2_a = 1/(8.3/6.5)*e1_a           // Voltage across middle unit as a % of line voltage\n",
"e3_a = 1/e_1_a*e1_a               // Voltage across top unit as a % of line voltage\n",
"// With guard ring\n",
"e_2_b = 15.4/15.5                 // Potential across middle unit as top unit\n",
"e_1_b = 8.3/7.7*e_2_b             // Potential across bottom unit\n",
"E_b = 1+(1/(8.3/7.7))+(1/e_1_b)   // Voltage in terms of e_1\n",
"eff_b = E_b/n*100                 // String efficiency(%)\n",
"e1_b = 1/E_b                      // Voltage across bottom unit as a % of line voltage\n",
"e2_b = 1/(8.3/7.7)*e1_b           // Voltage across middle unit as a % of line voltage\n",
"e3_b = 1/e_1_b*e1_b               // Voltage across top unit as a % of line voltage\n",
"\n",
"// Results\n",
"disp('PART II - EXAMPLE : 4.7 : SOLUTION :-')\n",
"printf('\nWithout guard ring:')\n",
"printf('\n Voltage across bottom unit, e_1 = %.2f*E', e1_a)\n",
"printf('\n Voltage across bottom unit, e_2 = %.2f*E', e2_a)\n",
"printf('\n Voltage across bottom unit, e_3 = %.2f*E', e3_a)\n",
"printf('\n String efficiency = %.1f percent \n', eff_a)\n",
"printf('\nWith guard ring:')\n",
"printf('\n Voltage across bottom unit, e_1 = %.2f*E', e1_b)\n",
"printf('\n Voltage across bottom unit, e_2 = %.2f*E', e2_b)\n",
"printf('\n Voltage across bottom unit, e_3 = %.3f*E', e3_b)\n",
"printf('\n String efficiency = %.2f percent', eff_b)"
   ]
   }
,
{
		   "cell_type": "markdown",
		   "metadata": {},
		   "source": [
			"## Example 11.8: EX11_8.sce"
		   ]
		  },
  {
"cell_type": "code",
	   "execution_count": null,
	   "metadata": {
	    "collapsed": true
	   },
	   "outputs": [],
"source": [
"// A Texbook on POWER SYSTEM ENGINEERING\n",
"// A.Chakrabarti, M.L.Soni, P.V.Gupta, U.S.Bhatnagar\n",
"// DHANPAT RAI & Co.\n",
"// SECOND EDITION \n",
"\n",
"// PART II : TRANSMISSION AND DISTRIBUTION\n",
"// CHAPTER 4: OVERHEAD LINE INSULATORS\n",
"\n",
"// EXAMPLE : 4.8 :\n",
"// Page number 187-188\n",
"clear ; clc ; close ; // Clear the work space and console\n",
"\n",
"// Given data\n",
"n = 3.0              // Number of insulators\n",
"\n",
"// Calculations\n",
"V_1 = 0.988                 // Voltage across top unit as middle unit\n",
"V_3 = 1.362                 // Voltage across bottom unit as middle unit\n",
"V_2 = 1/(V_1+1+V_3)         // Voltage across middle unit as % of line voltage to earth\n",
"V1 = V_1*V_2*100            // Voltage across top unit as % of line voltage to earth\n",
"V2 = V_2*100                // Voltage across middle unit as % of line voltage to earth\n",
"V3 = V_3*V_2*100            // Voltage across bottom unit as % of line voltage to earth\n",
"eff = 100/(n*V3/100)        // String efficiency(%)\n",
"\n",
"// Results\n",
"disp('PART II - EXAMPLE : 4.8 : SOLUTION :-')\n",
"printf('\nCase(a): Voltage across top unit as a percentage of line voltage to earth, V_1 = %.2f percent', V1)\n",
"printf('\n         Voltage across middle unit as a percentage of line voltage to earth, V_2 = %.2f percent', V2)\n",
"printf('\n         Voltage across bottom unit as a percentage of line voltage to earth, V_3 = %.2f percent', V3)\n",
"printf('\nCase(b): String efficiency = %.2f percent', eff)"
   ]
   }
,
{
		   "cell_type": "markdown",
		   "metadata": {},
		   "source": [
			"## Example 11.9: Voltage_on_the_line_end_unit_and_Value_of_capacitance_required.sce"
		   ]
		  },
  {
"cell_type": "code",
	   "execution_count": null,
	   "metadata": {
	    "collapsed": true
	   },
	   "outputs": [],
"source": [
"// A Texbook on POWER SYSTEM ENGINEERING\n",
"// A.Chakrabarti, M.L.Soni, P.V.Gupta, U.S.Bhatnagar\n",
"// DHANPAT RAI & Co.\n",
"// SECOND EDITION \n",
"\n",
"// PART II : TRANSMISSION AND DISTRIBUTION\n",
"// CHAPTER 4: OVERHEAD LINE INSULATORS\n",
"\n",
"// EXAMPLE : 4.9 :\n",
"// Page number 188\n",
"clear ; clc ; close ; // Clear the work space and console\n",
"\n",
"// Given data\n",
"n = 3.0              // Number of insulators\n",
"V = 20.0             // Voltage across each conductor(kV)\n",
"c = 1.0/5            // Capacitance ratio\n",
"\n",
"// Calculations\n",
"V_2 = 6.0/5.0            // Voltage across middle unit as top unit\n",
"V_1 = V/(1+2*V_2)        // Voltage across top unit(kV)\n",
"V_3 = V_2*V_1            // Voltage across bottom unit(kV)\n",
"C_x = c*(1+(1/V_2))      // Capacitance required\n",
"\n",
"// Results\n",
"disp('PART II - EXAMPLE : 4.9 : SOLUTION :-')\n",
"printf('\nCase(a): Voltage on the line-end unit, V_3 = %.2f kV', V_3)\n",
"printf('\nCase(b): Value of capacitance required, Cx = %.3f*C', C_x)"
   ]
   }
],
"metadata": {
		  "kernelspec": {
		   "display_name": "Scilab",
		   "language": "scilab",
		   "name": "scilab"
		  },
		  "language_info": {
		   "file_extension": ".sce",
		   "help_links": [
			{
			 "text": "MetaKernel Magics",
			 "url": "https://github.com/calysto/metakernel/blob/master/metakernel/magics/README.md"
			}
		   ],
		   "mimetype": "text/x-octave",
		   "name": "scilab",
		   "version": "0.7.1"
		  }
		 },
		 "nbformat": 4,
		 "nbformat_minor": 0
}
