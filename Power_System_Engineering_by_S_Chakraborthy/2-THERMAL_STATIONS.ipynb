{
"cells": [
 {
		   "cell_type": "markdown",
	   "metadata": {},
	   "source": [
       "# Chapter 2: THERMAL STATIONS"
	   ]
	},
{
		   "cell_type": "markdown",
		   "metadata": {},
		   "source": [
			"## Example 2.1: Limiting_value_and_Coal_per_hour.sce"
		   ]
		  },
  {
"cell_type": "code",
	   "execution_count": null,
	   "metadata": {
	    "collapsed": true
	   },
	   "outputs": [],
"source": [
"// A Texbook on POWER SYSTEM ENGINEERING\n",
"// A.Chakrabarti, M.L.Soni, P.V.Gupta, U.S.Bhatnagar\n",
"// DHANPAT RAI & Co.\n",
"// SECOND EDITION \n",
"\n",
"// PART I : GENERATION\n",
"// CHAPTER 2: THERMAL STATIONS\n",
"\n",
"// EXAMPLE : 2.1 :\n",
"// Page number 25-26\n",
"clear ; clc ; close ; // Clear the work space and console\n",
"\n",
"//Given data\n",
"M = 15000.0+10.0         // Water evaporated(kg)\n",
"C = 5000.0+5.0           // Coal consumption(kg)\n",
"time = 8.0               // Generation shift time(hours)\n",
"\n",
"//Calculations\n",
"//Case(a)\n",
"M1 = M-15000.0 \n",
"C1 = C-5000.0 \n",
"M_C = M1/C1                                        // Limiting value of water evaporation(kg)\n",
"//Case(b)\n",
"kWh = 0                                            // Station output at no load\n",
"consumption_noload = 5000+5*kWh                    // Coal consumption at no load(kg)\n",
"consumption_noload_hr = consumption_noload/time    // Coal consumption per hour(kg)\n",
"\n",
"//Results\n",
"disp('PART I - EXAMPLE : 2.1 : SOLUTION :-')\n",
"printf('\nCase(a): Limiting value of water evaporation per kg of coal consumed, M/C = %.f kg', M_C)\n",
"printf('\nCase(b): Coal per hour for running station at no load = %.f kg\n', consumption_noload_hr)"
   ]
   }
,
{
		   "cell_type": "markdown",
		   "metadata": {},
		   "source": [
			"## Example 2.2: Average_load_on_power_plant.sce"
		   ]
		  },
  {
"cell_type": "code",
	   "execution_count": null,
	   "metadata": {
	    "collapsed": true
	   },
	   "outputs": [],
"source": [
"// A Texbook on POWER SYSTEM ENGINEERING\n",
"// A.Chakrabarti, M.L.Soni, P.V.Gupta, U.S.Bhatnagar\n",
"// DHANPAT RAI & Co.\n",
"// SECOND EDITION \n",
"\n",
"// PART I : GENERATION\n",
"// CHAPTER 2: THERMAL STATIONS\n",
"\n",
"// EXAMPLE : 2.2 :\n",
"// Page number 26\n",
"clear ; clc ; close ; // Clear the work space and console\n",
"\n",
"//Given data\n",
"amount = 25.0*10**5           // Amount spent in 1 year(Rs)\n",
"value_heat = 5000.0           // Heating value(kcal/kg)\n",
"cost = 500.0                  // Cost of coal per ton(Rs)\n",
"n_ther = 0.35                 // Thermal efficiency\n",
"n_elec = 0.9                  // Electrical efficiency\n",
"\n",
"//Calculations\n",
"n = n_ther*n_elec                          // Overall efficiency\n",
"consumption = amount/cost*1000             // Coal consumption in 1 year(kg)\n",
"combustion = consumption*value_heat        // Heat of combustion(kcal)\n",
"output = n*combustion                      // Heat output(kcal)\n",
"unit_gen = output/860.0                    // Annual heat generated(kWh). 1 kWh = 860 kcal\n",
"hours_year = 365*24.0                      // Total time in a year(hour)\n",
"load_average = unit_gen/hours_year         // Average load on the power plant(kW)\n",
"\n",
"//Result\n",
"disp('PART I - EXAMPLE : 2.2 : SOLUTION :-')\n",
"printf('\nAverage load on power plant = %.2f kW\n', load_average)\n",
"printf('\nNOTE: ERROR: Calculation mistake in the final answer in the textbook')"
   ]
   }
,
{
		   "cell_type": "markdown",
		   "metadata": {},
		   "source": [
			"## Example 2.3: Heat_balance_sheet.sce"
		   ]
		  },
  {
"cell_type": "code",
	   "execution_count": null,
	   "metadata": {
	    "collapsed": true
	   },
	   "outputs": [],
"source": [
"// A Texbook on POWER SYSTEM ENGINEERING\n",
"// A.Chakrabarti, M.L.Soni, P.V.Gupta, U.S.Bhatnagar\n",
"// DHANPAT RAI & Co.\n",
"// SECOND EDITION \n",
"\n",
"// PART I : GENERATION\n",
"// CHAPTER 2: THERMAL STATIONS\n",
"\n",
"// EXAMPLE : 2.3 :\n",
"// Page number 26\n",
"clear ; clc ; close ; // Clear the work space and console\n",
"\n",
"//Given data\n",
"consumption = 0.5       // Coal consumption per kWh output(kg)\n",
"cal_value = 5000.0      // Calorific value(kcal/kg)\n",
"n_boiler = 0.8          // Boiler efficiency\n",
"n_elec = 0.9            // Electrical efficiency\n",
"\n",
"//Calculations\n",
"input_heat = consumption*cal_value                 // Heat input(kcal)\n",
"input_elec = input_heat/860.0                      // Equivalent electrical energy(kWh). 1 kWh = 860 kcal\n",
"loss_boiler = input_elec*(1-n_boiler)              // Boiler loss(kWh)\n",
"input_steam = input_elec-loss_boiler               // Heat input to steam(kWh)\n",
"input_alter = 1/n_elec                             // Alternator input(kWh)\n",
"loss_alter = input_alter*(1-n_elec)                // Alternate loss(kWh)\n",
"loss_turbine = input_steam-input_alter             // Loss in turbine(kWh)\n",
"loss_total = loss_boiler+loss_alter+loss_turbine   // Total loss(kWh)\n",
"output = 1.0                                       // Output(kWh)\n",
"Input = output+loss_total                          // Input(kWh)\n",
"\n",
"//Results\n",
"disp('PART I - EXAMPLE : 2.3 : SOLUTION :-')\n",
"printf('\nHeat Balance Sheet')\n",
"printf('\nLOSSES:  Boiler loss      = %.3f kWh', loss_boiler)\n",
"printf('\n         Alternator loss  = %.2f kWh', loss_alter)\n",
"printf('\n         Turbine loss     = %.3f kWh', loss_turbine)\n",
"printf('\n         Total loss       = %.2f kWh', loss_total)\n",
"printf('\nOUTPUT:  %.1f kWh', output)\n",
"printf('\nINPUT:   %.2f kWh\n', Input)"
   ]
   }
],
"metadata": {
		  "kernelspec": {
		   "display_name": "Scilab",
		   "language": "scilab",
		   "name": "scilab"
		  },
		  "language_info": {
		   "file_extension": ".sce",
		   "help_links": [
			{
			 "text": "MetaKernel Magics",
			 "url": "https://github.com/calysto/metakernel/blob/master/metakernel/magics/README.md"
			}
		   ],
		   "mimetype": "text/x-octave",
		   "name": "scilab",
		   "version": "0.7.1"
		  }
		 },
		 "nbformat": 4,
		 "nbformat_minor": 0
}
