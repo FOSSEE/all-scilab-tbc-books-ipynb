{
"cells": [
 {
		   "cell_type": "markdown",
	   "metadata": {},
	   "source": [
       "# Chapter 29: SYMMETRICAL COMPONENTS ANALYSIS"
	   ]
	},
{
		   "cell_type": "markdown",
		   "metadata": {},
		   "source": [
			"## Example 29.10: EX29_10.sce"
		   ]
		  },
  {
"cell_type": "code",
	   "execution_count": null,
	   "metadata": {
	    "collapsed": true
	   },
	   "outputs": [],
"source": [
"// A Texbook on POWER SYSTEM ENGINEERING\n",
"// A.Chakrabarti, M.L.Soni, P.V.Gupta, U.S.Bhatnagar\n",
"// DHANPAT RAI & Co.\n",
"// SECOND EDITION \n",
"\n",
"// PART III : SWITCHGEAR AND PROTECTION\n",
"// CHAPTER 3: SYMMETRICAL COMPONENTS' ANALYSIS\n",
"\n",
"// EXAMPLE : 3.10 :\n",
"// Page number 494\n",
"clear ; clc ; close ; // Clear the work space and console\n",
"\n",
"// Given data\n",
"R = 20000.0                                    // Resistance of voltmeter(ohm)\n",
"E_R = 100.0                                    // Line-to-neutral voltage(A)\n",
"E_Y = 200.0*exp(%i*270.0*%pi/180)              // Line-to-neutral voltage(A)\n",
"E_B = 100.0*exp(%i*120.0*%pi/180)              // Line-to-neutral voltage(A)\n",
"\n",
"// Calculations\n",
"a = exp(%i*120.0*%pi/180)              // Operator\n",
"V_R0 = 1.0/3*(E_R+E_Y+E_B)             // Zero sequence voltage(V)\n",
"V_R1 = 1.0/3*(E_R+a*E_Y+a**2*E_B)      // Positive sequence voltage(V)\n",
"V_R2 = 1.0/3*(E_R+a**2*E_Y+a*E_B)      // Negative sequence voltage(V)\n",
"I_R1 = V_R1/R                          // Positive sequence current(A)\n",
"I_R2 = V_R2/R                          // Negative sequence current(A)\n",
"V_Y1 = a**2*V_R1                       // Positive sequence voltage of line Y(V)\n",
"V_Y2 = a*V_R2                          // Negative sequence voltage of line Y(V)\n",
"V_Y = V_Y1+V_Y2                        // Voltmeter reading connected to the yellow line(V)\n",
"I_Y = abs(V_Y)/R*1000                  // Current through voltmeter(mA)\n",
"\n",
"// Results\n",
"disp('PART III - EXAMPLE : 3.10 : SOLUTION :-')\n",
"printf('\nVoltmeter reading connected to the yellow line, |V_Y| = %.1f V', abs(V_Y))\n",
"printf('\nCurrent through voltmeter, I_Y = %.3f mA \n', I_Y)\n",
"printf('\nNOTE: Changes in the obtained answer from that of textbook is due to more precision here')"
   ]
   }
,
{
		   "cell_type": "markdown",
		   "metadata": {},
		   "source": [
			"## Example 29.11: Three_line_currents_and_Wattmeter_reading.sce"
		   ]
		  },
  {
"cell_type": "code",
	   "execution_count": null,
	   "metadata": {
	    "collapsed": true
	   },
	   "outputs": [],
"source": [
"// A Texbook on POWER SYSTEM ENGINEERING\n",
"// A.Chakrabarti, M.L.Soni, P.V.Gupta, U.S.Bhatnagar\n",
"// DHANPAT RAI & Co.\n",
"// SECOND EDITION \n",
"\n",
"// PART III : SWITCHGEAR AND PROTECTION\n",
"// CHAPTER 3: SYMMETRICAL COMPONENTS' ANALYSIS\n",
"\n",
"// EXAMPLE : 3.11 :\n",
"// Page number 495\n",
"clear ; clc ; close ; // Clear the work space and console\n",
"\n",
"// Given data\n",
"V = 400.0               // Voltage(V)\n",
"Z_ab = 20.0             // Resistor load(ohm)\n",
"Z_bc = -%i*40.0         // Capacitor load(ohm)\n",
"Z_ca = 5.0+%i*10.0      // Inductor and resistance load(ohm)\n",
"\n",
"// Calculations\n",
"V_ab = V                                          // Line voltage(V)\n",
"V_bc = V*exp(%i*-120.0*%pi/180)                   // Line voltage(V)\n",
"V_ca = V*exp(%i*120.0*%pi/180)                    // Line voltage(V)\n",
"I_ab = V_ab/Z_ab                                  // Current(A)\n",
"I_bc = V_bc/Z_bc                                  // Current(A)\n",
"I_ca = V_ca/Z_ca                                  // Current(A)\n",
"I_a = I_ab-I_ca                                   // Line current(A)\n",
"I_b = I_bc-I_ab                                   // Line current(A)\n",
"I_c = I_ca-I_bc                                   // Line current(A)\n",
"phi = -120.0-phasemag(I_a)                        // φ(°)\n",
"P = abs(I_a*V_bc)*cosd(phi)/1000                  // Wattmeter reading(kW)\n",
"\n",
"// Results\n",
"disp('PART III - EXAMPLE : 3.11 : SOLUTION :-')\n",
"printf('\nLine currents are:')\n",
"printf('\n I_a = %.1f∠%.1f° A', abs(I_a),phasemag(I_a))\n",
"printf('\n I_b = %.1f∠%.2f° A', abs(I_b),phasemag(I_b))\n",
"printf('\n I_c = %.2f∠%.f° A', abs(I_c),phasemag(I_c))\n",
"printf('\nWattmeter reading, P = %.2f kW \n', P)\n",
"printf('\nNOTE: ERROR: Calculation mistakes in the textbook solution')"
   ]
   }
,
{
		   "cell_type": "markdown",
		   "metadata": {},
		   "source": [
			"## Example 29.1: Positive_Negative_and_Zero_sequence_currents.sce"
		   ]
		  },
  {
"cell_type": "code",
	   "execution_count": null,
	   "metadata": {
	    "collapsed": true
	   },
	   "outputs": [],
"source": [
"// A Texbook on POWER SYSTEM ENGINEERING\n",
"// A.Chakrabarti, M.L.Soni, P.V.Gupta, U.S.Bhatnagar\n",
"// DHANPAT RAI & Co.\n",
"// SECOND EDITION \n",
"\n",
"// PART III : SWITCHGEAR AND PROTECTION\n",
"// CHAPTER 3: SYMMETRICAL COMPONENTS' ANALYSIS\n",
"\n",
"// EXAMPLE : 3.1 :\n",
"// Page number 487-488\n",
"clear ; clc ; close ; // Clear the work space and console\n",
"\n",
"// Given data\n",
"I_R = complex(12.0,24.0)    // Line current(A)\n",
"I_Y = complex(16.0,-2.0)    // Line current(A)\n",
"I_B = complex(-4.0,-6.0)    // Line current(A)\n",
"\n",
"// Calculations\n",
"alpha = exp(%i*120.0*%pi/180)                // Operator\n",
"I_R0 = 1.0/3*(I_R+I_Y+I_B)                   // Zero sequence component(A)\n",
"I_R1 = 1.0/3*(I_R+alpha*I_Y+alpha**2*I_B)    // Positive sequence component(A)\n",
"I_R2 = 1.0/3*(I_R+alpha**2*I_Y+alpha*I_B)    // Negative sequence component(A)\n",
"\n",
"// Results\n",
"disp('PART III - EXAMPLE : 3.1 : SOLUTION :-')\n",
"printf('\nPositive sequence current, I_R1 = (%.3f + %.1fj) A', real(I_R1),imag(I_R1))\n",
"printf('\nNegative sequence current, I_R2 = (%.3f + %.2fj) A', real(I_R2),imag(I_R2))\n",
"printf('\nZero sequence current, I_R0 = (%.1f + %.2fj) A', real(I_R0),imag(I_R0))"
   ]
   }
,
{
		   "cell_type": "markdown",
		   "metadata": {},
		   "source": [
			"## Example 29.4: Sequence_components_of_currents_in_the_resistors_and_Supply_lines.sce"
		   ]
		  },
  {
"cell_type": "code",
	   "execution_count": null,
	   "metadata": {
	    "collapsed": true
	   },
	   "outputs": [],
"source": [
"// A Texbook on POWER SYSTEM ENGINEERING\n",
"// A.Chakrabarti, M.L.Soni, P.V.Gupta, U.S.Bhatnagar\n",
"// DHANPAT RAI & Co.\n",
"// SECOND EDITION \n",
"\n",
"// PART III : SWITCHGEAR AND PROTECTION\n",
"// CHAPTER 3: SYMMETRICAL COMPONENTS' ANALYSIS\n",
"\n",
"// EXAMPLE : 3.4 :\n",
"// Page number 489-490\n",
"clear ; clc ; close ; // Clear the work space and console\n",
"\n",
"// Given data\n",
"R_bc = 5.0    // Resistance of resistor connected b/w b & c(ohm)\n",
"R_ca = 10.0   // Resistance of resistor connected b/w c & a(ohm)\n",
"R_ab = 20.0   // Resistance of resistor connected b/w a & b(ohm)\n",
"V = 100.0     // Voltage of balanced system(V)\n",
"\n",
"// Calculations\n",
"E_A = -V                                     // Voltage across resistor connected b/w b & c(V)\n",
"angle = 60.0                                 // Angle in delta system(°)\n",
"E_B = V*exp(%i*60.0*%pi/180)                 // Voltage across resistor connected b/w c & a(V)\n",
"E_C = V*exp(%i*-60.0*%pi/180)                // Voltage across resistor connected b/w a & b(V)\n",
"I_A = E_A/R_bc                               // Current flowing across resistor connected b/w b & c(A)\n",
"I_B = E_B/R_ca                               // Current flowing across resistor connected b/w c & a(A)\n",
"I_C = E_C/R_ab                               // Current flowing across resistor connected b/w a & b(A)\n",
"alpha = exp(%i*120.0*%pi/180)                // Operator\n",
"I_A0 = 1.0/3*(I_A+I_B+I_C)                   // Zero sequence delta current(A)\n",
"I_A1 = 1.0/3*(I_A+alpha*I_B+alpha**2*I_C)    // Positive sequence delta current(A)\n",
"I_A2 = 1.0/3*(I_A+alpha**2*I_B+alpha*I_C)    // Negative sequence delta current(A)\n",
"I_a0 = 0.0                                   // Zero sequence star current(A)\n",
"I_a1 = (alpha-alpha**2)*I_A1                 // Positive sequence star current(A)\n",
"I_a2 = (alpha**2-alpha)*I_A2                 // Negative sequence star current(A)\n",
"\n",
"// Results\n",
"disp('PART III - EXAMPLE : 3.4 : SOLUTION :-')\n",
"printf('\nCurrent in the resistors are:')\n",
"printf('\n I_A = (%.f+%.fj) A', real(I_A),imag(I_A))\n",
"printf('\n I_B = (%.f+%.2fj) A', real(I_B),imag(I_B))\n",
"printf('\n I_C = (%.1f%.2fj) A', real(I_C),imag(I_C))\n",
"printf('\nSequence components of currents in the resistors:')\n",
"printf('\n Zero-sequence current, I_A0 = (%.3f+%.2fj) A', real(I_A0),imag(I_A0))\n",
"printf('\n Positive-sequence current, I_A1 = (%.2f+%.fj) A', real(I_A1),imag(I_A1))\n",
"printf('\n Negative-sequence current, I_A2 = (%.2f%.2fj) A', real(I_A2),imag(I_A2))\n",
"printf('\nSequence components of currents in the supply lines:')\n",
"printf('\n Zero-sequence current, I_a0 = %.f A', I_a0)\n",
"printf('\n Positive-sequence current, I_a1 = %.1fj A', imag(I_a1))\n",
"printf('\n Negative-sequence current, I_a2 = (%.1f+%.2fj) A', real(I_a2),imag(I_a2))"
   ]
   }
,
{
		   "cell_type": "markdown",
		   "metadata": {},
		   "source": [
			"## Example 29.5: EX29_5.sce"
		   ]
		  },
  {
"cell_type": "code",
	   "execution_count": null,
	   "metadata": {
	    "collapsed": true
	   },
	   "outputs": [],
"source": [
"// A Texbook on POWER SYSTEM ENGINEERING\n",
"// A.Chakrabarti, M.L.Soni, P.V.Gupta, U.S.Bhatnagar\n",
"// DHANPAT RAI & Co.\n",
"// SECOND EDITION \n",
"\n",
"// PART III : SWITCHGEAR AND PROTECTION\n",
"// CHAPTER 3: SYMMETRICAL COMPONENTS' ANALYSIS\n",
"\n",
"// EXAMPLE : 3.5 :\n",
"// Page number 490-491\n",
"clear ; clc ; close ; // Clear the work space and console\n",
"\n",
"// Given data\n",
"E_a = 100.0    // Line to line voltage(V)\n",
"E_b = 150.0    // Line to line voltage(V)\n",
"E_c = 200.0    // Line to line voltage(V)\n",
"\n",
"// Calculations\n",
"e_A = 1.0                                         // 100 V = 1 unit\n",
"e_B = 1.5                                         // 150 V = 1 unit\n",
"e_C = 2.0                                         // 200 V = 1 unit\n",
"cos_alpha = (e_C**2-e_A-e_B**2)/(2*e_B)\n",
"alpha = acosd(cos_alpha)                          // angle(°)\n",
"cos_beta = (e_A+e_B*cos_alpha)/e_C\n",
"beta = acosd(cos_beta)                            // angle(°)\n",
"E_A = E_a*exp(%i*180.0*%pi/180)                   // Voltage(V)\n",
"E_B = E_b*exp(%i*(180.0-alpha)*%pi/180)           // Voltage(V)\n",
"E_C = E_c*exp(%i*-beta*%pi/180)                   // Voltage(V)\n",
"a = exp(%i*120.0*%pi/180)                         // Operator\n",
"E_A0 = 1.0/3*(E_A+E_B+E_C)                        // Zero sequence voltage(V)\n",
"E_A1 = 1.0/3*(E_A+a*E_B+a**2*E_C)                 // Positive sequence delta voltage(V)\n",
"E_A1_mag = abs(E_A1)                              // Magnitude of positive sequence delta voltage(V)\n",
"E_a1 = -%i/3**0.5*E_A1                            // Positive sequence star voltage(V)\n",
"E_a1_mag = abs(E_a1)                              // Magnitude of positive sequence star voltage(V)\n",
"E_A2 = 1.0/3*(E_A+a**2*E_B+a*E_C)                 // Negative sequence delta voltage(V)\n",
"E_A2_mag = abs(E_A2)                              // Magnitude of negative sequence delta voltage(V)\n",
"E_a2 = %i/3**0.5*E_A2                             // Negative sequence star voltage(V)\n",
"E_a2_mag = abs(E_a2)                              // Magnitude of negative sequence star voltage(V)\n",
"\n",
"// Results\n",
"disp('PART III - EXAMPLE : 3.5 : SOLUTION :-')\n",
"printf('\nMagnitude of positive sequence delta voltage, |E_A1| = %.f V', E_A1_mag)\n",
"printf('\nMagnitude of positive sequence star voltage, |E_a1| = %.1f V', E_a1_mag)\n",
"printf('\nMagnitude of negative sequence delta voltage, |E_A2| = %.f V', E_A2_mag)\n",
"printf('\nMagnitude of negative sequence star voltage, |E_a2| = %.f V', E_a2_mag)"
   ]
   }
,
{
		   "cell_type": "markdown",
		   "metadata": {},
		   "source": [
			"## Example 29.6: Current_in_each_line_by_the_method_of_symmetrical_components.sce"
		   ]
		  },
  {
"cell_type": "code",
	   "execution_count": null,
	   "metadata": {
	    "collapsed": true
	   },
	   "outputs": [],
"source": [
"// A Texbook on POWER SYSTEM ENGINEERING\n",
"// A.Chakrabarti, M.L.Soni, P.V.Gupta, U.S.Bhatnagar\n",
"// DHANPAT RAI & Co.\n",
"// SECOND EDITION \n",
"\n",
"// PART III : SWITCHGEAR AND PROTECTION\n",
"// CHAPTER 3: SYMMETRICAL COMPONENTS' ANALYSIS\n",
"\n",
"// EXAMPLE : 3.6 :\n",
"// Page number 491-492\n",
"clear ; clc ; close ; // Clear the work space and console\n",
"\n",
"// Given data\n",
"V = 2300.0                                       // Rated voltage(V)\n",
"kVA = 500.0                                      // kVA rating\n",
"E_A = 2760.0*exp(%i*0*%pi/180)                   // Line voltage(V)\n",
"E_B = 2300.0*exp(%i*-138.6*%pi/180)              // Line voltage(V)\n",
"E_C = 1840.0*exp(%i*124.2*%pi/180)               // Line voltage(V)\n",
"\n",
"// Calculations\n",
"a = exp(%i*120.0*%pi/180)                  // Operator\n",
"E_A1 = 1.0/3*(E_A+a*E_B+a**2*E_C)          // Positive sequence voltage(V)\n",
"E_A2 = 1.0/3*(E_A+a**2*E_B+a*E_C)          // Negative sequence voltage(V)\n",
"E_a1 = -%i/3**0.5*E_A1                     // Positive sequence star voltage(V)\n",
"E_a2 = %i/3**0.5*E_A2                      // Negative sequence star voltage(V)\n",
"E_a0 = 0.0                                 // Zero sequence voltage(V)\n",
"E_a = E_a1+E_a2+E_a0                       // Symmetrical voltage component(V)\n",
"R = V**2/(kVA*1000)                        // Resistance(ohm)\n",
"I_a = abs(E_a)/R                           // Current in line a(A)\n",
"E_b = a**2*E_a1+a*E_a2+E_a0                // Symmetrical voltage component(V)\n",
"I_b = abs(E_b)/R                           // Current in line b(A)\n",
"E_c = a*E_a1+a**2*E_a2+E_a0                // Symmetrical voltage component(V)\n",
"I_c = abs(E_c)/R                           // Current in line c(A)\n",
"\n",
"// Results\n",
"disp('PART III - EXAMPLE : 3.6 : SOLUTION :-')\n",
"printf('\nCurrent in line a, |I_a| = %.1f A', I_a)\n",
"printf('\nCurrent in line b, |I_b| = %.f A', I_b)\n",
"printf('\nCurrent in line c, |I_c| = %.1f A \n', I_c)\n",
"printf('\nNOTE: Changes in the obtained answer from that of textbook is due to more precision here')"
   ]
   }
,
{
		   "cell_type": "markdown",
		   "metadata": {},
		   "source": [
			"## Example 29.7: Symmetrical_components_of_line_current_if_phase_3_is_only_switched_off.sce"
		   ]
		  },
  {
"cell_type": "code",
	   "execution_count": null,
	   "metadata": {
	    "collapsed": true
	   },
	   "outputs": [],
"source": [
"// A Texbook on POWER SYSTEM ENGINEERING\n",
"// A.Chakrabarti, M.L.Soni, P.V.Gupta, U.S.Bhatnagar\n",
"// DHANPAT RAI & Co.\n",
"// SECOND EDITION \n",
"\n",
"// PART III : SWITCHGEAR AND PROTECTION\n",
"// CHAPTER 3: SYMMETRICAL COMPONENTS' ANALYSIS\n",
"\n",
"// EXAMPLE : 3.7 :\n",
"// Page number 492-493\n",
"clear ; clc ; close ; // Clear the work space and console\n",
"\n",
"// Given data\n",
"V = 2300.0                                   // Rated voltage(V)\n",
"kVA = 500.0                                  // kVA rating\n",
"I_1 = 100.0                                  // Line current(A)\n",
"I_2 = 100.0*exp(%i*180*%pi/180)              // Line current(A)\n",
"I_3 = 0                                      // Line current(A)\n",
"\n",
"// Calculations\n",
"a = exp(%i*120.0*%pi/180)              // Operator\n",
"I_10 = 1.0/3*(I_1+I_2+I_3)             // Symmetrical component of line current for phase 1(A)\n",
"I_11 = 1.0/3*(I_1+a*I_2+a**2*I_3)      // Symmetrical component of line current for phase 1(A)\n",
"I_12 = 1.0/3*(I_1+a**2*I_2+a*I_3)      // Symmetrical component of line current for phase 1(A)\n",
"I_20 = I_10                            // Symmetrical component of line current for phase 2(A)\n",
"I_21 = a**2*I_11                       // Symmetrical component of line current for phase 2(A)\n",
"I_22 = a*I_12                          // Symmetrical component of line current for phase 2(A)\n",
"I_30 = I_10                            // Symmetrical component of line current for phase 3(A)\n",
"I_31 = a*I_11                          // Symmetrical component of line current for phase 3(A)\n",
"I_32 = a**2*I_12                       // Symmetrical component of line current for phase 3(A)\n",
"\n",
"// Results\n",
"disp('PART III - EXAMPLE : 3.7 : SOLUTION :-')\n",
"printf('\nSymmetrical component of line current for phase 1:')\n",
"printf('\n I_10 = %.1f A', abs(I_10))\n",
"printf('\n I_11 = %.2f∠%.f° A', abs(I_11),phasemag(I_11))\n",
"printf('\n I_12 = %.2f∠%.f° A', abs(I_12),phasemag(I_12))\n",
"printf('\nSymmetrical component of line current for phase 2:')\n",
"printf('\n I_20 = %.1f A', abs(I_20))\n",
"printf('\n I_21 = %.2f∠%.f° A', abs(I_21),phasemag(I_21))\n",
"printf('\n I_22 = %.2f∠%.f° A', abs(I_22),phasemag(I_22))\n",
"printf('\nSymmetrical component of line current for phase 3:')\n",
"printf('\n I_30 = %.1f A', abs(I_30))\n",
"printf('\n I_31 = %.2f∠%.f° A', abs(I_31),phasemag(I_31))\n",
"printf('\n I_32 = %.2f∠%.f° A', abs(I_32),phasemag(I_32))"
   ]
   }
,
{
		   "cell_type": "markdown",
		   "metadata": {},
		   "source": [
			"## Example 29.8: Positive_Negative_and_Zero_sequence_components_of_currents_for_all_phases.sce"
		   ]
		  },
  {
"cell_type": "code",
	   "execution_count": null,
	   "metadata": {
	    "collapsed": true
	   },
	   "outputs": [],
"source": [
"// A Texbook on POWER SYSTEM ENGINEERING\n",
"// A.Chakrabarti, M.L.Soni, P.V.Gupta, U.S.Bhatnagar\n",
"// DHANPAT RAI & Co.\n",
"// SECOND EDITION \n",
"\n",
"// PART III : SWITCHGEAR AND PROTECTION\n",
"// CHAPTER 3: SYMMETRICAL COMPONENTS' ANALYSIS\n",
"\n",
"// EXAMPLE : 3.8 :\n",
"// Page number 493\n",
"clear ; clc ; close ; // Clear the work space and console\n",
"\n",
"// Given data\n",
"I_a = 1000.0                           // Current to earth(A)\n",
"I_b = 0                                // Current(A)\n",
"I_c = 0                                // Current(A)\n",
"\n",
"// Calculations\n",
"a = exp(%i*120.0*%pi/180)              // Operator\n",
"I_a0 = 1.0/3*(I_a+I_b+I_c)             // Zero sequence component of current(A)\n",
"I_b0 = I_a0                            // Zero sequence component of current(A)\n",
"I_c0 = I_a0                            // Zero sequence component of current(A)\n",
"I_a1 = 1.0/3*(I_a+a*I_b+a**2*I_c)      // Positive sequence component of current(A)\n",
"I_b1 = a**2*I_a1                       // Positive sequence component of current(A)\n",
"I_c1 = a*I_a1                          // Positive sequence component of current(A)\n",
"I_a2 = 1.0/3*(I_a+a**2*I_b+a*I_c)      // Negative sequence component of current(A)\n",
"I_b2 = a*I_a2                          // Negative sequence component of current(A)\n",
"I_c2 = a**2*I_a2                       // Negative sequence component of current(A)\n",
"\n",
"// Results\n",
"disp('PART III - EXAMPLE : 3.8 : SOLUTION :-')\n",
"printf('\nZero sequence component of current for all phases are')\n",
"printf('\n I_a0 = %.1f∠%.f° A', abs(I_a0),phasemag(I_a0))\n",
"printf('\n I_b0 = %.1f∠%.f° A', abs(I_b0),phasemag(I_b0))\n",
"printf('\n I_c0 = %.1f∠%.f° A', abs(I_c0),phasemag(I_c0))\n",
"printf('\nPositive sequence component of current for all phases are')\n",
"printf('\n I_a1 = %.1f∠%.f° A', abs(I_a1),phasemag(I_a1))\n",
"printf('\n I_b1 = %.1f∠%.f° A', abs(I_b1),360+phasemag(I_b1))\n",
"printf('\n I_c1 = %.1f∠%.f° A', abs(I_c1),phasemag(I_c1))\n",
"printf('\nNegative sequence component of current for all phases are')\n",
"printf('\n I_a2 = %.1f∠%.f° A', abs(I_a2),phasemag(I_a2))\n",
"printf('\n I_b2 = %.1f∠%.f° A', abs(I_b2),phasemag(I_b2))\n",
"printf('\n I_c2 = %.1f∠%.f° A', abs(I_c2),360+phasemag(I_c2))"
   ]
   }
,
{
		   "cell_type": "markdown",
		   "metadata": {},
		   "source": [
			"## Example 29.9: Currents_in_all_the_lines_and_their_symmetrical_components.sce"
		   ]
		  },
  {
"cell_type": "code",
	   "execution_count": null,
	   "metadata": {
	    "collapsed": true
	   },
	   "outputs": [],
"source": [
"// A Texbook on POWER SYSTEM ENGINEERING\n",
"// A.Chakrabarti, M.L.Soni, P.V.Gupta, U.S.Bhatnagar\n",
"// DHANPAT RAI & Co.\n",
"// SECOND EDITION \n",
"\n",
"// PART III : SWITCHGEAR AND PROTECTION\n",
"// CHAPTER 3: SYMMETRICAL COMPONENTS' ANALYSIS\n",
"\n",
"// EXAMPLE : 3.9 :\n",
"// Page number 493-494\n",
"clear ; clc ; close ; // Clear the work space and console\n",
"\n",
"// Given data\n",
"I_A = 1000.0                           // Current through line A(A)\n",
"I_C = 0                                // Current through line C(A)\n",
"\n",
"// Calculations\n",
"I_B = 1000.0*exp(%i*180.0*%pi/180)     // Current through line B(A)\n",
"a = exp(%i*120.0*%pi/180)              // Operator\n",
"I_a0 = 1.0/3*(I_A+I_B+I_C)             // Zero sequence component of current(A)\n",
"I_b0 = I_a0                            // Zero sequence component of current(A)\n",
"I_c0 = I_a0                            // Zero sequence component of current(A)\n",
"I_a1 = 1.0/3*(I_A+a*I_B+a**2*I_C)      // Positive sequence component of current(A)\n",
"I_b1 = a**2*I_a1                       // Positive sequence component of current(A)\n",
"I_c1 = a*I_a1                          // Positive sequence component of current(A)\n",
"I_a2 = 1.0/3*(I_A+a**2*I_B+a*I_C)      // Negative sequence component of current(A)\n",
"I_b2 = a*I_a2                          // Negative sequence component of current(A)\n",
"I_c2 = a**2*I_a2                       // Negative sequence component of current(A)\n",
"\n",
"// Results\n",
"disp('PART III - EXAMPLE : 3.9 : SOLUTION :-')\n",
"printf('\nCurrent in line A, I_A = %.f∠%.f° A', abs(I_A),phasemag(I_A))\n",
"printf('\nCurrent in line B, I_B = %.f∠%.f° A', abs(I_B),phasemag(I_B))\n",
"printf('\nCurrent in line C, I_C = %.f A', I_C)\n",
"printf('\nSymmetrical current components of line A are:')\n",
"printf('\n I_a0 = %.f A', abs(I_a0))\n",
"printf('\n I_a1 = %.1f∠%.f° A', abs(I_a1),phasemag(I_a1))\n",
"printf('\n I_a2 = %.1f∠%.f° A', abs(I_a2),phasemag(I_a2))\n",
"printf('\nSymmetrical current components of line B are:')\n",
"printf('\n I_b0 = %.f A', abs(I_b0))\n",
"printf('\n I_b1 = %.1f∠%.f° A', abs(I_b1),phasemag(I_b1))\n",
"printf('\n I_b2 = %.1f∠%.f° A', abs(I_b2),phasemag(I_b2))\n",
"printf('\nSymmetrical current components of line C are:')\n",
"printf('\n I_c0 = %.f A', abs(I_c0))\n",
"printf('\n I_c1 = %.1f∠%.f° A', abs(I_c1),phasemag(I_c1))\n",
"printf('\n I_c2 = %.1f∠%.f° A', abs(I_c2),phasemag(I_c2))"
   ]
   }
],
"metadata": {
		  "kernelspec": {
		   "display_name": "Scilab",
		   "language": "scilab",
		   "name": "scilab"
		  },
		  "language_info": {
		   "file_extension": ".sce",
		   "help_links": [
			{
			 "text": "MetaKernel Magics",
			 "url": "https://github.com/calysto/metakernel/blob/master/metakernel/magics/README.md"
			}
		   ],
		   "mimetype": "text/x-octave",
		   "name": "scilab",
		   "version": "0.7.1"
		  }
		 },
		 "nbformat": 4,
		 "nbformat_minor": 0
}
