{
"cells": [
 {
		   "cell_type": "markdown",
	   "metadata": {},
	   "source": [
       "# Chapter 17: POWER SYSTEM STABILITY"
	   ]
	},
{
		   "cell_type": "markdown",
		   "metadata": {},
		   "source": [
			"## Example 17.10: EX17_10.sce"
		   ]
		  },
  {
"cell_type": "code",
	   "execution_count": null,
	   "metadata": {
	    "collapsed": true
	   },
	   "outputs": [],
"source": [
"// A Texbook on POWER SYSTEM ENGINEERING\n",
"// A.Chakrabarti, M.L.Soni, P.V.Gupta, U.S.Bhatnagar\n",
"// DHANPAT RAI & Co.\n",
"// SECOND EDITION \n",
"\n",
"// PART II : TRANSMISSION AND DISTRIBUTION\n",
"// CHAPTER 10: POWER SYSTEM STABILITY\n",
"\n",
"// EXAMPLE : 10.10 :\n",
"// Page number 275-276\n",
"clear ; clc ; close ; // Clear the work space and console\n",
"\n",
"// Given data\n",
"E_1 = 1.1      // Sending end voltage(p.u)\n",
"x_d1 = 1.0     // Reactance(p.u)\n",
"x_T1 = 0.1     // Reactance(p.u)\n",
"x_l1 = 0.4     // Reactance(p.u)\n",
"x_l2 = 0.4     // Reactance(p.u)\n",
"x_T2 = 0.1     // Reactance(p.u)\n",
"E_2 = 1.0      // Receiving end voltage(p.u)\n",
"x_d2 = 1.0     // Reactance(p.u)\n",
"x_L = 1.0      // Shunt inductor reactance(p.u)\n",
"x_C = 1.0      // Static capacitor reactance(p.u)\n",
"delta = 30.0   // δ(°)\n",
"\n",
"// Calculations\n",
"// Case(a)\n",
"Z_1_a = x_d1+x_T1+(x_l1/2.0)                            // Reactance(p.u)\n",
"X_1_a = %i*Z_1_a\n",
"Z_2_a = x_T2+x_d2                                       // Reactance(p.u)\n",
"X_2_a = %i*Z_2_a\n",
"Z_3_a = -x_C                                            // Reactance(p.u)\n",
"X_3_a = %i*Z_3_a\n",
"X_a = X_1_a+X_2_a+(X_1_a*X_2_a/X_3_a)                   // Transfer reactance(p.u)\n",
"P_max_a = E_1*E_2/abs(X_a)                              // Maximum steady state power if static capacitor is connected(p.u)\n",
"P_a = P_max_a*sind(delta)                               // Value of P(p.u)\n",
"Q_a = (E_1*E_2/abs(X_a))*cosd(delta)-(E_2**2/abs(X_a))  // Value of Q(p.u)\n",
"// Case(b)\n",
"Z_1_b = x_d1+x_T1+(x_l1/2.0)                            // Reactance(p.u)\n",
"X_1_b = %i*Z_1_b\n",
"Z_2_b = x_T2+x_d2                                       // Reactance(p.u)\n",
"X_2_b = %i*Z_2_b\n",
"Z_3_b = x_L                                             // Reactance(p.u)\n",
"X_3_b = %i*Z_3_b\n",
"X_b = X_1_b+X_2_b+(X_1_b*X_2_b/X_3_b)                   // Transfer reactance(p.u)\n",
"P_max_b = E_1*E_2/abs(X_b)                              // Maximum steady state power if static capacitor is replaced by an inductive reactor(p.u)\n",
"P_b = P_max_b*sind(delta)                               // Value of P(p.u)\n",
"Q_b = (E_1*E_2/abs(X_b))*cosd(delta)-(E_2**2/abs(X_b))  // Value of Q(p.u)\n",
"\n",
"// Results\n",
"disp('PART II - EXAMPLE : 10.10 : SOLUTION :-')\n",
"printf('\nCase(a): Maximum steady state power if static capacitor is connected, P_max = %.3f p.u', P_max_a)\n",
"printf('\n         Value of P = %.3f p.u', P_a)\n",
"printf('\n         Value of Q = %.3f p.u', Q_a)\n",
"printf('\nCase(b): Maximum steady state power if static capacitor is replaced by an inductive reactor, P_max = %.3f p.u', P_max_b)\n",
"printf('\n         Value of P = %.3f p.u', P_b)\n",
"printf('\n         Value of Q = %.4f p.u', Q_b)"
   ]
   }
,
{
		   "cell_type": "markdown",
		   "metadata": {},
		   "source": [
			"## Example 17.11: Kinetic_energy_stored_in_the_rotor_at_synchronous_speed_and_Acceleration.sce"
		   ]
		  },
  {
"cell_type": "code",
	   "execution_count": null,
	   "metadata": {
	    "collapsed": true
	   },
	   "outputs": [],
"source": [
"// A Texbook on POWER SYSTEM ENGINEERING\n",
"// A.Chakrabarti, M.L.Soni, P.V.Gupta, U.S.Bhatnagar\n",
"// DHANPAT RAI & Co.\n",
"// SECOND EDITION \n",
"\n",
"// PART II : TRANSMISSION AND DISTRIBUTION\n",
"// CHAPTER 10: POWER SYSTEM STABILITY\n",
"\n",
"// EXAMPLE : 10.11 :\n",
"// Page number 303\n",
"clear ; clc ; close ; // Clear the work space and console\n",
"\n",
"// Given data\n",
"f = 50.0        // Frequency(Hz)\n",
"G = 100.0       // Rating of generator(MVA)\n",
"H = 5.0         // Inertia constant(MJ/MVA)\n",
"P_a = 20.0      // Acceleration power(MVA)\n",
"\n",
"// Calculations\n",
"GH = G*H                // Energy stored in rotor at synchronous speed(MJ)\n",
"M = GH/(180*f)          // Angular momentum\n",
"acceleration = P_a/M    // Acceleration(°/sec^2)\n",
"\n",
"// Results\n",
"disp('PART II - EXAMPLE : 10.11 : SOLUTION :-')\n",
"printf('\nKinetic energy stored in the rotor at synchronous speed, GH = %.f MJ', GH)\n",
"printf('\nAcceleration = %.f°/sec^2', acceleration)"
   ]
   }
,
{
		   "cell_type": "markdown",
		   "metadata": {},
		   "source": [
			"## Example 17.12: Kinetic_energy_stored_in_the_rotor_at_synchronous_speed_and_Acceleration.sce"
		   ]
		  },
  {
"cell_type": "code",
	   "execution_count": null,
	   "metadata": {
	    "collapsed": true
	   },
	   "outputs": [],
"source": [
"// A Texbook on POWER SYSTEM ENGINEERING\n",
"// A.Chakrabarti, M.L.Soni, P.V.Gupta, U.S.Bhatnagar\n",
"// DHANPAT RAI & Co.\n",
"// SECOND EDITION \n",
"\n",
"// PART II : TRANSMISSION AND DISTRIBUTION\n",
"// CHAPTER 10: POWER SYSTEM STABILITY\n",
"\n",
"// EXAMPLE : 10.12 :\n",
"// Page number 303-304\n",
"clear ; clc ; close ; // Clear the work space and console\n",
"\n",
"// Given data\n",
"f = 50.0          // Frequency(Hz)\n",
"P = 4.0           // Number of poles\n",
"G = 20.0          // Rating of generator(MVA)\n",
"H = 9.0           // Inertia constant(kWsec/MVA)\n",
"P_m = 26800.0     // Rotational loss(hp)\n",
"P_e = 16000.0     // Electric power developed(kW)\n",
"\n",
"// Calculations\n",
"GH = G*H                                       // Energy stored in rotor at synchronous speed(MJ)\n",
"P_m_kW = P_m*0.746                             // Rotational loss(kW)\n",
"P_a = P_m_kW-P_e                               // Acceleration power(kW)\n",
"P_a1 = P_a/1000.0                              // Acceleration power(MW)\n",
"M = GH/(180*f)                                 // Angular momentum\n",
"acceleration = P_a1/M                          // Acceleration(°/sec^2)\n",
"acceleration_1 = acceleration*%pi/180.0        // Acceleration(rad/sec^2)\n",
"\n",
"// Results\n",
"disp('PART II - EXAMPLE : 10.12 : SOLUTION :-')\n",
"printf('\nKinetic energy stored in the rotor at synchronous speed, GH = %.f MJ', GH)\n",
"printf('\nAcceleration = %.f°/sec^2 = %.2f rad/sec^2 \n', acceleration,acceleration_1)\n",
"printf('\nNOTE: ERROR: H = 9 kW-sec/MVA, not 9 kW-sec/kVA as mentioned in the textbook statement')"
   ]
   }
,
{
		   "cell_type": "markdown",
		   "metadata": {},
		   "source": [
			"## Example 17.13: Change_in_torque_angle_in_that_period_and_RPM_at_the_end_of_10_cycles.sce"
		   ]
		  },
  {
"cell_type": "code",
	   "execution_count": null,
	   "metadata": {
	    "collapsed": true
	   },
	   "outputs": [],
"source": [
"// A Texbook on POWER SYSTEM ENGINEERING\n",
"// A.Chakrabarti, M.L.Soni, P.V.Gupta, U.S.Bhatnagar\n",
"// DHANPAT RAI & Co.\n",
"// SECOND EDITION \n",
"\n",
"// PART II : TRANSMISSION AND DISTRIBUTION\n",
"// CHAPTER 10: POWER SYSTEM STABILITY\n",
"\n",
"// EXAMPLE : 10.13 :\n",
"// Page number 304\n",
"clear ; clc ; close ; // Clear the work space and console\n",
"\n",
"// Given data\n",
"f = 50.0           // Frequency(Hz)\n",
"P = 4.0            // Number of poles\n",
"alpha = 200.0      // Acceleration(°/sec^2)\n",
"alpha_rad = 3.49   // Acceleration(rad/sec^2)\n",
"n = 10.0           // Number of cycle\n",
"\n",
"// Calculations\n",
"t = 1/f*n                                // Time(sec)\n",
"delta_rel = ((alpha_rad*2)**0.5*0.5)**2  // Relation of change in rotor angle with time(rad)\n",
"delta = delta_rel*t**2                   // Change in torque angle(rad)\n",
"delta_deg = delta*180/%pi                // Change in torque angle in that period(°)\n",
"rpm_rad = (alpha_rad*2*delta)**0.5       // r.p.m(rad/sec)\n",
"rpm = rpm_rad*60.0/(%pi*P)               // r.p.m\n",
"speed_rotor = (120*f/P)+rpm              // Rotor speed at the end of 10 cycles(r.p.m)\n",
"\n",
"// Results\n",
"disp('PART II - EXAMPLE : 10.13 : SOLUTION :-')\n",
"printf('\nChange in torque angle in that period, δ = %.4f rad = %.f elect degree', delta,delta_deg)\n",
"printf('\nRotor speed at the end of 10 cycles = %.2f r.p.m', speed_rotor)"
   ]
   }
,
{
		   "cell_type": "markdown",
		   "metadata": {},
		   "source": [
			"## Example 17.14: Accelerating_torque_at_the_time_the_fault_occurs.sce"
		   ]
		  },
  {
"cell_type": "code",
	   "execution_count": null,
	   "metadata": {
	    "collapsed": true
	   },
	   "outputs": [],
"source": [
"// A Texbook on POWER SYSTEM ENGINEERING\n",
"// A.Chakrabarti, M.L.Soni, P.V.Gupta, U.S.Bhatnagar\n",
"// DHANPAT RAI & Co.\n",
"// SECOND EDITION \n",
"\n",
"// PART II : TRANSMISSION AND DISTRIBUTION\n",
"// CHAPTER 10: POWER SYSTEM STABILITY\n",
"\n",
"// EXAMPLE : 10.14 :\n",
"// Page number 304\n",
"clear ; clc ; close ; // Clear the work space and console\n",
"\n",
"// Given data\n",
"Power = 20.0*10**3       // Rating of generator(kVA)\n",
"PF = 0.8                 // Lagging power factor\n",
"fault = 0.5              // Reduction in output under fault\n",
"P = 4.0                  // Number of poles\n",
"f = 50.0                 // Frequency(Hz)\n",
"\n",
"// Calculations\n",
"P_m = Power*PF           // Output power before fault(kW)\n",
"P_e = fault*P_m          // Output after fault(kW)\n",
"P_a = P_m-P_e            // Accelerating power(kW)\n",
"w_s = 4.0*%pi*f/P        // Speed\n",
"T_a = P_a*10**3/w_s      // Accelerating torque at the time the fault occurs(N-m)\n",
"\n",
"// Results\n",
"disp('PART II - EXAMPLE : 10.14 : SOLUTION :-')\n",
"printf('\nAccelerating torque at the time the fault occurs, T_a = %.2f N-m', T_a)"
   ]
   }
,
{
		   "cell_type": "markdown",
		   "metadata": {},
		   "source": [
			"## Example 17.16: Value_of_H_and_in_100_MVA_base.sce"
		   ]
		  },
  {
"cell_type": "code",
	   "execution_count": null,
	   "metadata": {
	    "collapsed": true
	   },
	   "outputs": [],
"source": [
"// A Texbook on POWER SYSTEM ENGINEERING\n",
"// A.Chakrabarti, M.L.Soni, P.V.Gupta, U.S.Bhatnagar\n",
"// DHANPAT RAI & Co.\n",
"// SECOND EDITION \n",
"\n",
"// PART II : TRANSMISSION AND DISTRIBUTION\n",
"// CHAPTER 10: POWER SYSTEM STABILITY\n",
"\n",
"// EXAMPLE : 10.16 :\n",
"// Page number 304-305\n",
"clear ; clc ; close ; // Clear the work space and console\n",
"\n",
"// Given data\n",
"S = 1000.0          // Rating of generator(MVA)\n",
"N = 1500.0          // Speed of alternator(r.p.m)\n",
"WR_sq = 5.0*10**6   // WR^2(lb.ft^2)\n",
"\n",
"// Calculations\n",
"H = 2.31*10**-10*WR_sq*N**2/S      // Inertia constant(MJ/MVA)\n",
"H_100 = H*1000.0/100               // Inertia constant on 100 MVA(MJ/MVA)\n",
"\n",
"// Results\n",
"disp('PART II - EXAMPLE : 10.16 : SOLUTION :-')\n",
"printf('\nValue of inertia constant, H = %.1f MJ/MVA', H)\n",
"printf('\nValue of inertia constant in 100 MVA base, H = %.f MJ/MVA', H_100)"
   ]
   }
,
{
		   "cell_type": "markdown",
		   "metadata": {},
		   "source": [
			"## Example 17.17: Equivalent_H_for_the_two_to_common_100_MVA_base.sce"
		   ]
		  },
  {
"cell_type": "code",
	   "execution_count": null,
	   "metadata": {
	    "collapsed": true
	   },
	   "outputs": [],
"source": [
"// A Texbook on POWER SYSTEM ENGINEERING\n",
"// A.Chakrabarti, M.L.Soni, P.V.Gupta, U.S.Bhatnagar\n",
"// DHANPAT RAI & Co.\n",
"// SECOND EDITION \n",
"\n",
"// PART II : TRANSMISSION AND DISTRIBUTION\n",
"// CHAPTER 10: POWER SYSTEM STABILITY\n",
"\n",
"// EXAMPLE : 10.17 :\n",
"// Page number 305\n",
"clear ; clc ; close ; // Clear the work space and console\n",
"\n",
"// Given data\n",
"MVA_1 = 500.0        // Rating of generator(MVA)\n",
"H_1 = 4.0            // Inertia constant(MJ/VA)\n",
"MVA_2 = 1000.0       // Rating of generator(MVA)\n",
"H_2 = 3.5            // Inertia constant(MJ/VA)\n",
"MVA = 100.0          // Base MVA\n",
"\n",
"// Calculations\n",
"KE_T = H_1*MVA_1+H_2*MVA_2     // Total KE of the system(MJ)\n",
"H_total = KE_T/MVA             // Equivalent H for the two to common 100MVA base(MJ/MVA)\n",
"\n",
"// Results\n",
"disp('PART II - EXAMPLE : 10.17 : SOLUTION :-')\n",
"printf('\nEquivalent H for the two to common 100 MVA base, H = %.f MJ/MVA', H_total)"
   ]
   }
,
{
		   "cell_type": "markdown",
		   "metadata": {},
		   "source": [
			"## Example 17.18: Energy_stored_in_the_rotor_at_the_rated_speed_Value_of_H_and_Angular_momentum.sce"
		   ]
		  },
  {
"cell_type": "code",
	   "execution_count": null,
	   "metadata": {
	    "collapsed": true
	   },
	   "outputs": [],
"source": [
"// A Texbook on POWER SYSTEM ENGINEERING\n",
"// A.Chakrabarti, M.L.Soni, P.V.Gupta, U.S.Bhatnagar\n",
"// DHANPAT RAI & Co.\n",
"// SECOND EDITION \n",
"\n",
"// PART II : TRANSMISSION AND DISTRIBUTION\n",
"// CHAPTER 10: POWER SYSTEM STABILITY\n",
"\n",
"// EXAMPLE : 10.18 :\n",
"// Page number 305\n",
"clear ; clc ; close ; // Clear the work space and console\n",
"\n",
"// Given data\n",
"MVA = 210.0           // Rating of generator(MVA)\n",
"P = 2.0               // Number of poles\n",
"f = 50.0              // Frequency(Hz)\n",
"MI = 60.0*10**3       // Moment of inertia(kg-mt^2)\n",
"\n",
"// Calculations\n",
"N = 120.0*f/P                            // Speed(r.p.m)\n",
"KE = 1.0/2*MI*(2*%pi*N/f)**2/10**6       // Energy stored in the rotor at rated speed(MJ)\n",
"H = KE/MVA                               // Inertia constant(MJ/MVA)\n",
"G = MVA\n",
"M = G*H/(180*f)                          // Angular momentum(MJ-sec/elect.degree)\n",
"\n",
"// Results\n",
"disp('PART II - EXAMPLE : 10.18 : SOLUTION :-')\n",
"printf('\nEnergy stored in the rotor at the rated speed, KE = %.2e MJ', KE)\n",
"printf('\nValue of inertia constant, H = %.2f MJ/MVA', H)\n",
"printf('\nAngular momentum, M = %.3f MJ-sec/elect.degree', M)"
   ]
   }
,
{
		   "cell_type": "markdown",
		   "metadata": {},
		   "source": [
			"## Example 17.19: Acceleration_of_the_rotor.sce"
		   ]
		  },
  {
"cell_type": "code",
	   "execution_count": null,
	   "metadata": {
	    "collapsed": true
	   },
	   "outputs": [],
"source": [
"// A Texbook on POWER SYSTEM ENGINEERING\n",
"// A.Chakrabarti, M.L.Soni, P.V.Gupta, U.S.Bhatnagar\n",
"// DHANPAT RAI & Co.\n",
"// SECOND EDITION \n",
"\n",
"// PART II : TRANSMISSION AND DISTRIBUTION\n",
"// CHAPTER 10: POWER SYSTEM STABILITY\n",
"\n",
"// EXAMPLE : 10.19 :\n",
"// Page number 305\n",
"clear ; clc ; close ; // Clear the work space and console\n",
"\n",
"// Given data\n",
"P_accl = 30.0         // Acceleration power(MVA)\n",
"M = 0.474             // Angular momentum(MJ-sec/elect.degree). From Example 10.18\n",
"\n",
"// Calculations\n",
"acceleration = P_accl/M      // Acceleration of the rotor(elect.degree/sec^2)\n",
"\n",
"// Results\n",
"disp('PART II - EXAMPLE : 10.19 : SOLUTION :-')\n",
"printf('\nAcceleration of the rotor = %.2f elect.degree/sec^2', acceleration)"
   ]
   }
,
{
		   "cell_type": "markdown",
		   "metadata": {},
		   "source": [
			"## Example 17.1: Operating_power_angle_and_Magnitude_of_P0.sce"
		   ]
		  },
  {
"cell_type": "code",
	   "execution_count": null,
	   "metadata": {
	    "collapsed": true
	   },
	   "outputs": [],
"source": [
"// A Texbook on POWER SYSTEM ENGINEERING\n",
"// A.Chakrabarti, M.L.Soni, P.V.Gupta, U.S.Bhatnagar\n",
"// DHANPAT RAI & Co.\n",
"// SECOND EDITION \n",
"\n",
"// PART II : TRANSMISSION AND DISTRIBUTION\n",
"// CHAPTER 10: POWER SYSTEM STABILITY\n",
"\n",
"// EXAMPLE : 10.1 :\n",
"// Page number 270\n",
"clear ; clc ; close ; // Clear the work space and console\n",
"\n",
"// Given data\n",
"Z = 0.1        // Impedance of transmission line(p.u)\n",
"M = 0.3        // Stability margin\n",
"X = 1.0        // Constant(p.u)\n",
"\n",
"// Calculations\n",
"sin_delta_0 = 1-M                // Sin(δ_0)\n",
"delta_0 = asind(sin_delta_0)     // δ_0(°)\n",
"P_0 = X/Z*sin_delta_0            // Magnitude of P_0(p.u)\n",
"\n",
"// Results\n",
"disp('PART II - EXAMPLE : 10.1 : SOLUTION :-')\n",
"printf('\nOperating power angle, δ_0 = %.2f° ', delta_0)\n",
"printf('\nP_0 = %.2f p.u', P_0)"
   ]
   }
,
{
		   "cell_type": "markdown",
		   "metadata": {},
		   "source": [
			"## Example 17.20: Accelerating_power_and_New_power_angle_after_10_cycles.sce"
		   ]
		  },
  {
"cell_type": "code",
	   "execution_count": null,
	   "metadata": {
	    "collapsed": true
	   },
	   "outputs": [],
"source": [
"// A Texbook on POWER SYSTEM ENGINEERING\n",
"// A.Chakrabarti, M.L.Soni, P.V.Gupta, U.S.Bhatnagar\n",
"// DHANPAT RAI & Co.\n",
"// SECOND EDITION \n",
"\n",
"// PART II : TRANSMISSION AND DISTRIBUTION\n",
"// CHAPTER 10: POWER SYSTEM STABILITY\n",
"\n",
"// EXAMPLE : 10.20 :\n",
"// Page number 305\n",
"clear ; clc ; close ; // Clear the work space and console\n",
"\n",
"// Given data\n",
"MVA = 50.0           // Rating of alternator(MVA)\n",
"P = 4.0              // Number of poles\n",
"f = 50.0             // Frequency(Hz)\n",
"KE = 150.0           // Kinetic energy stored in rotor(MJ)\n",
"P_m = 25.0           // Machine input(MW)\n",
"P_e = 22.5           // Developed power(MW)\n",
"n = 10.0             // Number of cycles\n",
"\n",
"// Calculations\n",
"P_a = P_m-P_e            // Accelerating power(MW)\n",
"H = KE/MVA               // Inertia constant(MJ/MVA)\n",
"G = MVA\n",
"M_deg = G*H/(180*f)      // Angular momentum(MJ-sec/elect.degree)\n",
"M = G*H/(%pi*f)          // Angular momentum(MJ-sec/rad)\n",
"acceleration = P_a/M     // Accelerating power(rad/sec^2)\n",
"t = 1/f*n                // Time(sec)\n",
"delta = 1.309*t**2       // Term in δ\n",
"\n",
"// Results\n",
"disp('PART II - EXAMPLE : 10.20 : SOLUTION :-')\n",
"printf('\nAccelerating power = %.3f rad/sec^2', acceleration)\n",
"printf('\nNew power angle after 10 cycles, δ = (%.3f + δ_0) rad', delta)"
   ]
   }
,
{
		   "cell_type": "markdown",
		   "metadata": {},
		   "source": [
			"## Example 17.21: Kinetic_energy_stored_by_rotor_at_synchronous_speed_and_Acceleration_in.sce"
		   ]
		  },
  {
"cell_type": "code",
	   "execution_count": null,
	   "metadata": {
	    "collapsed": true
	   },
	   "outputs": [],
"source": [
"// A Texbook on POWER SYSTEM ENGINEERING\n",
"// A.Chakrabarti, M.L.Soni, P.V.Gupta, U.S.Bhatnagar\n",
"// DHANPAT RAI & Co.\n",
"// SECOND EDITION \n",
"\n",
"// PART II : TRANSMISSION AND DISTRIBUTION\n",
"// CHAPTER 10: POWER SYSTEM STABILITY\n",
"\n",
"// EXAMPLE : 10.21 :\n",
"// Page number 305-306\n",
"clear ; clc ; close ; // Clear the work space and console\n",
"\n",
"// Given data\n",
"f = 50.0        // Frequency(Hz)\n",
"P = 4.0         // Number of poles\n",
"G = 20.0        // Rating of turbo-generator(MVA)\n",
"V = 13.2        // Voltage(kV)\n",
"H = 9.0         // Inertia constant(kW-sec/kVA)\n",
"P_s = 20.0      // Input power less rotational loss(MW)\n",
"P_e = 15.0      // Output power(MW)\n",
"\n",
"// Calculations\n",
"KE = G*H                         // Kinetic energy stored(MJ)\n",
"M = G*H/(180*f)                  // Angular momentum(MJ-sec/elect.degree)\n",
"P_a = P_s-P_e                    // Accelerating power(MW)\n",
"alpha = P_a/M                    // Acceleration(elect.degree/sec^2)\n",
"alpha_deg = alpha/2.0            // Acceleration(degree/sec^2)\n",
"alpha_rpm = 60.0*alpha_deg/360   // Acceleration(rpm/sec)\n",
"\n",
"// Results\n",
"disp('PART II - EXAMPLE : 10.21 : SOLUTION :-')\n",
"printf('\nCase(a): Kinetic energy stored by rotor at synchronous speed, GH = %.f MJ', KE)\n",
"printf('\nCase(b): Acceleration, α = %.f degree/sec^2', alpha_deg)\n",
"printf('\n         Acceleration, α = %.2f rpm/sec', alpha_rpm)"
   ]
   }
,
{
		   "cell_type": "markdown",
		   "metadata": {},
		   "source": [
			"## Example 17.22: Change_in_torque_angle_and_Speed_in_rpm_at_the_end_of_10_cycles.sce"
		   ]
		  },
  {
"cell_type": "code",
	   "execution_count": null,
	   "metadata": {
	    "collapsed": true
	   },
	   "outputs": [],
"source": [
"// A Texbook on POWER SYSTEM ENGINEERING\n",
"// A.Chakrabarti, M.L.Soni, P.V.Gupta, U.S.Bhatnagar\n",
"// DHANPAT RAI & Co.\n",
"// SECOND EDITION \n",
"\n",
"// PART II : TRANSMISSION AND DISTRIBUTION\n",
"// CHAPTER 10: POWER SYSTEM STABILITY\n",
"\n",
"// EXAMPLE : 10.22 :\n",
"// Page number 306\n",
"clear ; clc ; close ; // Clear the work space and console\n",
"\n",
"// Given data\n",
"f = 50.0        // Frequency(Hz)\n",
"P = 4.0         // Number of poles\n",
"G = 20.0        // Rating of turbo-generator(MVA)\n",
"V = 13.2        // Voltage(kV)\n",
"H = 9.0         // Inertia constant(kW-sec/kVA)\n",
"P_s = 20.0      // Input power less rotational loss(MW)\n",
"P_e = 15.0      // Output power(MW)\n",
"n = 10.0        // Number of cycles\n",
"\n",
"// Calculations\n",
"KE = G*H                         // Kinetic energy stored(MJ)\n",
"M = G*H/(180*f)                  // Angular momentum(MJ-sec/elect.degree)\n",
"P_a = P_s-P_e                    // Accelerating power(MW)\n",
"alpha = P_a/M                    // Acceleration(elect.degree/sec^2)\n",
"alpha_deg = alpha/2.0            // Acceleration(degree/sec^2)\n",
"alpha_rpm = 60.0*alpha_deg/360   // Acceleration(rpm/sec)\n",
"t = 1.0/f*n                      // Time(sec)\n",
"delta = 1.0/2*alpha*t**2         // Change in torque angle(elect.degree)\n",
"N_s = 120*f/P                    // Synchronous speed(rpm)\n",
"speed = N_s+alpha_rpm*t          // Speed at the end of 10 cycles(rpm)\n",
"\n",
"// Results\n",
"disp('PART II - EXAMPLE : 10.22 : SOLUTION :-')\n",
"printf('\nChange in torque angle in that period, δ = %.f elect degrees.', delta)\n",
"printf('\nSpeed in rpm at the end of 10 cycles = %.2f rpm', speed)"
   ]
   }
,
{
		   "cell_type": "markdown",
		   "metadata": {},
		   "source": [
			"## Example 17.23: Accelerating_torque_at_the_time_of_fault_occurrence.sce"
		   ]
		  },
  {
"cell_type": "code",
	   "execution_count": null,
	   "metadata": {
	    "collapsed": true
	   },
	   "outputs": [],
"source": [
"// A Texbook on POWER SYSTEM ENGINEERING\n",
"// A.Chakrabarti, M.L.Soni, P.V.Gupta, U.S.Bhatnagar\n",
"// DHANPAT RAI & Co.\n",
"// SECOND EDITION \n",
"\n",
"// PART II : TRANSMISSION AND DISTRIBUTION\n",
"// CHAPTER 10: POWER SYSTEM STABILITY\n",
"\n",
"// EXAMPLE : 10.23 :\n",
"// Page number 306\n",
"clear ; clc ; close ; // Clear the work space and console\n",
"\n",
"// Given data\n",
"G = 20.0        // Rating of turbo-generator(MVA)\n",
"PF = 0.75       // Lagging power factor\n",
"fault = 0.5     // Fault reduces output power\n",
"N_s = 1500.0    // Synchronous speed(rpm). From Example 10.22\n",
"\n",
"// Calculations\n",
"P_prefault = PF*G         // Pre-fault output power(MW)\n",
"P_a = P_prefault*fault    // Post-fault output power(MW)\n",
"w = 2.0*%pi*N_s/60        // ω(rad/sec)\n",
"T_a = P_a*10**6/w         // Accelerating torque at the time of fault occurrence(N-m)\n",
"\n",
"// Results\n",
"disp('PART II - EXAMPLE : 10.23 : SOLUTION :-')\n",
"printf('\nAccelerating torque at the time of fault occurrence, T_a = %.f N-m', T_a)"
   ]
   }
,
{
		   "cell_type": "markdown",
		   "metadata": {},
		   "source": [
			"## Example 17.24: Swing_equation.sce"
		   ]
		  },
  {
"cell_type": "code",
	   "execution_count": null,
	   "metadata": {
	    "collapsed": true
	   },
	   "outputs": [],
"source": [
"// A Texbook on POWER SYSTEM ENGINEERING\n",
"// A.Chakrabarti, M.L.Soni, P.V.Gupta, U.S.Bhatnagar\n",
"// DHANPAT RAI & Co.\n",
"// SECOND EDITION \n",
"\n",
"// PART II : TRANSMISSION AND DISTRIBUTION\n",
"// CHAPTER 10: POWER SYSTEM STABILITY\n",
"\n",
"// EXAMPLE : 10.24 :\n",
"// Page number 306-307\n",
"clear ; clc ; close ; // Clear the work space and console\n",
"\n",
"// Given data\n",
"x_d = %i*0.2        // Transient reactance of generator(p.u)\n",
"P_e = 0.8           // Power delivered(p.u)\n",
"V_t = 1.05          // Terminal voltage(p.u)\n",
"H = 4.0             // Inertia constant(kW-sec/kVA)\n",
"x_t = %i*0.1        // Transformer reactance(p.u)\n",
"x_l = %i*0.4        // Transmission line reactance(p.u)\n",
"V = 1.0             // Infinite bus voltage(p.u)\n",
"f = 50.0            // Frequency(Hz)\n",
"\n",
"// Calculations\n",
"x_12 = x_d+x_t+(x_l/2)                                     // Reactance b/w bus 1 & 2(p.u)\n",
"y_12 = 1/x_12                                              // Admittance b/w bus 1 & 2(p.u)\n",
"y_21 = y_12                                                // Admittance b/w bus 2 & 1(p.u)\n",
"y_10 = 0.0                                                 // Admittance b/w bus 1 & 0(p.u)\n",
"y_20 = 0.0                                                 // Admittance b/w bus 2 & 0(p.u)\n",
"Y_11 = y_12+y_10                                           // Admittance at bus 1(p.u)\n",
"Y_12 = -y_12                                               // Admittance b/w bus 1 & 2(p.u)\n",
"Y_21 = -y_12                                               // Admittance b/w bus 2 & 1(p.u)\n",
"Y_22 = y_21+y_20                                           // Admittance at bus 2(p.u)\n",
"x_32 = x_t+(x_l/2)                                         // Reactance b/w bus 3 & 1(p.u)\n",
"theta_t = asind(P_e*abs(x_32)/V_t)                         // Angle(°)\n",
"V_t1 = V_t*exp(%i*theta_t*%pi/180)                         // Terminal voltage(p.u)\n",
"I = (V_t1-V)/x_32                                          // Current(p.u)\n",
"E = V_t1+I*x_d                                             // Alternator voltage(p.u)\n",
"sine = poly(0,'sin')\n",
"P_e1 = 2.0*abs(E)                                          // Developed power(p.u) in terms of sin δ\n",
"P_m_P_e = P_e-P_e1*sine\n",
"M = 2*H/(2*%pi*f)                                          // Angular momentum\n",
"acc = (P_e-P_e1*sine)*2*%pi*f/(2*H)                        // Acceleration = α (rad/sec^2)\n",
"\n",
"// Results\n",
"disp('PART II - EXAMPLE : 10.24 : SOLUTION :-')\n",
"printf('\nSwing equation is,  %.4f*α = %.1f - %.3fsin δ\n', M,P_e,P_e1)\n",
"printf('\nNOTE: Swing equation is simplified and represented here')\n",
"printf('\n      ERROR: x_d = 0.2 p.u, not 0.1 p.u as mentioned in textbook statement')"
   ]
   }
,
{
		   "cell_type": "markdown",
		   "metadata": {},
		   "source": [
			"## Example 17.26: Critical_clearing_angle.sce"
		   ]
		  },
  {
"cell_type": "code",
	   "execution_count": null,
	   "metadata": {
	    "collapsed": true
	   },
	   "outputs": [],
"source": [
"// A Texbook on POWER SYSTEM ENGINEERING\n",
"// A.Chakrabarti, M.L.Soni, P.V.Gupta, U.S.Bhatnagar\n",
"// DHANPAT RAI & Co.\n",
"// SECOND EDITION \n",
"\n",
"// PART II : TRANSMISSION AND DISTRIBUTION\n",
"// CHAPTER 10: POWER SYSTEM STABILITY\n",
"\n",
"// EXAMPLE : 10.26 :\n",
"// Page number 308-309\n",
"clear ; clc ; close ; // Clear the work space and console\n",
"\n",
"// Given data\n",
"X_d = 0.25         // Transient reactance of generator(p.u)\n",
"X_t1 = 0.15        // Reactance of transformer(p.u)\n",
"X_t2 = 0.15        // Reactance of transformer(p.u)\n",
"X_t3 = 0.15        // Reactance of transformer(p.u)\n",
"X_t4 = 0.15        // Reactance of transformer(p.u)\n",
"X_l1 = 0.20        // Reactance of line(p.u)\n",
"X_l2 = 0.20        // Reactance of line(p.u)\n",
"X_tr = 0.15        // Reactance of transformer(p.u)\n",
"P_m = 1.0          // Power delivered(p.u)\n",
"E = 1.20           // Voltage behind transient reactance(p.u)\n",
"V = 1.0            // Infinite bus voltage(p.u)\n",
"\n",
"// Calculations\n",
"X_14 = X_d+((X_t1+X_t2+X_l1)/2)+X_tr                       // Reactance before fault(p.u)\n",
"x_1_b = X_t1+X_t2+X_l1                                     // Reactance(p.u). From figure (b)\n",
"x_2_b = X_l2+X_t4                                          // Reactance(p.u). From figure (b)\n",
"x_1 = x_1_b*X_t3/(x_1_b+x_2_b+X_t3)                        // Reactance(p.u). From figure (c)\n",
"x_2 = x_1_b*x_2_b/(x_1_b+x_2_b+X_t3)                       // Reactance(p.u). From figure (c)\n",
"x_3 = X_t3*x_2_b/(x_1_b+x_2_b+X_t3)                        // Reactance(p.u). From figure (c)\n",
"X_14_fault = x_1+X_d+x_2+X_tr+((x_1+X_d)*(x_2+X_tr)/x_3)   // Reactance under fault(p.u)\n",
"X_14_after_fault = X_d+X_t1+X_l1+X_t2+X_tr                 // Reactance after fault is cleared(p.u)\n",
"P_max = V*E/X_14                                           // Maximum power transfer(p.u)\n",
"gamma_1 = (V*E/X_14_fault)/P_max                           // γ_1\n",
"gamma_2 = (V*E/X_14_after_fault)/P_max                     // γ_2\n",
"delta_0 = asin(P_m/P_max)                                  // δ_0(radians)\n",
"delta_0_degree = delta_0*180/%pi                           // δ_0(°)\n",
"delta_m = %pi-asin(P_m/(gamma_2*P_max))                    // δ_1(radians)\n",
"delta_m_degree = delta_m*180/%pi                           // δ_1(°)\n",
"delta_c = acosd((P_m/P_max*(delta_m-delta_0)+gamma_2*cos(delta_m)-gamma_1*cos(delta_0))/(gamma_2-gamma_1)) // Clearing angle(°)\n",
"\n",
"// Results\n",
"disp('PART II - EXAMPLE : 10.26 : SOLUTION :-')\n",
"printf('\nCritical clearing angle, δ_c = %.2f° ', delta_c)"
   ]
   }
,
{
		   "cell_type": "markdown",
		   "metadata": {},
		   "source": [
			"## Example 17.27: Critical_angle_using_equal_area_criterion.sce"
		   ]
		  },
  {
"cell_type": "code",
	   "execution_count": null,
	   "metadata": {
	    "collapsed": true
	   },
	   "outputs": [],
"source": [
"// A Texbook on POWER SYSTEM ENGINEERING\n",
"// A.Chakrabarti, M.L.Soni, P.V.Gupta, U.S.Bhatnagar\n",
"// DHANPAT RAI & Co.\n",
"// SECOND EDITION \n",
"\n",
"// PART II : TRANSMISSION AND DISTRIBUTION\n",
"// CHAPTER 10: POWER SYSTEM STABILITY\n",
"\n",
"// EXAMPLE : 10.27 :\n",
"// Page number 309-310\n",
"clear ; clc ; close ; // Clear the work space and console\n",
"\n",
"// Given data\n",
"f = 50.0               // Frequency(Hz)\n",
"P_m = 1.0              // Power delivered(p.u)\n",
"P_max = 1.8            // Maximum power(p.u)\n",
"gamma_1_P_max = 0.4    // Reduced maximum power after fault(p.u)\n",
"gamma_2_P_max = 1.30   // Maximum power after fault clearance(p.u)\n",
"\n",
"// Calculations\n",
"delta_0 = asin(P_m/P_max)                              // δ_0(radians)\n",
"delta_0_degree = delta_0*180/%pi                       // δ_0(°)\n",
"delta_f = %pi-asin(P_m/(gamma_2_P_max))                // δ_1(radians)\n",
"delta_f_degree = delta_f*180/%pi                       // δ_1(°)\n",
"gamma_1 = gamma_1_P_max/P_max                          // γ_1\n",
"gamma_2 = gamma_2_P_max/P_max                          // γ_2\n",
"delta_c = acosd(1.0/(gamma_2-gamma_1)*((delta_f-delta_0)*sin(delta_0)+(gamma_2*cos(delta_f)-gamma_1*cos(delta_0)))) // Clearing angle(°)\n",
"\n",
"// Results\n",
"disp('PART II - EXAMPLE : 10.27 : SOLUTION :-')\n",
"printf('\nCritical angle, δ_c = %.2f° ', delta_c)"
   ]
   }
,
{
		   "cell_type": "markdown",
		   "metadata": {},
		   "source": [
			"## Example 17.28: Critical_clearing_angle.sce"
		   ]
		  },
  {
"cell_type": "code",
	   "execution_count": null,
	   "metadata": {
	    "collapsed": true
	   },
	   "outputs": [],
"source": [
"// A Texbook on POWER SYSTEM ENGINEERING\n",
"// A.Chakrabarti, M.L.Soni, P.V.Gupta, U.S.Bhatnagar\n",
"// DHANPAT RAI & Co.\n",
"// SECOND EDITION \n",
"\n",
"// PART II : TRANSMISSION AND DISTRIBUTION\n",
"// CHAPTER 10: POWER SYSTEM STABILITY\n",
"\n",
"// EXAMPLE : 10.28 :\n",
"// Page number 310\n",
"clear ; clc ; close ; // Clear the work space and console\n",
"\n",
"// Given data\n",
"sin_delta_0 = 0.45     // Supplying percent of peak power capacity before fault\n",
"x = 4.0                // Reactance under fault increased\n",
"gamma_2 = 0.7          // Peak power delivered after fault clearance\n",
"\n",
"// Calculations\n",
"delta_0 = asin(sin_delta_0)                         // δ_0(radians)\n",
"delta_0_degree = delta_0*180/%pi                    // δ_0(°)\n",
"gamma_1 = 1.0/x                                     // γ_1\n",
"delta_m = %pi-asin(sin_delta_0/(gamma_2))           // δ_m(radians)\n",
"delta_m_degree = delta_m*180/%pi                    // δ_m(°)\n",
"delta_c = acosd(1.0/(gamma_2-gamma_1)*((delta_m-delta_0)*sin(delta_0)+(gamma_2*cos(delta_m)-gamma_1*cos(delta_0)))) // Clearing angle(°)\n",
"\n",
"// Results\n",
"disp('PART II - EXAMPLE : 10.28 : SOLUTION :-')\n",
"printf('\nCritical clearing angle, δ_c = %.f° ', delta_c)"
   ]
   }
,
{
		   "cell_type": "markdown",
		   "metadata": {},
		   "source": [
			"## Example 17.2: Minimum_value_of_E_and_VL_Maximum_power_limit_and_Steady_state_stability_margin.sce"
		   ]
		  },
  {
"cell_type": "code",
	   "execution_count": null,
	   "metadata": {
	    "collapsed": true
	   },
	   "outputs": [],
"source": [
"// A Texbook on POWER SYSTEM ENGINEERING\n",
"// A.Chakrabarti, M.L.Soni, P.V.Gupta, U.S.Bhatnagar\n",
"// DHANPAT RAI & Co.\n",
"// SECOND EDITION \n",
"\n",
"// PART II : TRANSMISSION AND DISTRIBUTION\n",
"// CHAPTER 10: POWER SYSTEM STABILITY\n",
"\n",
"// EXAMPLE : 10.2 :\n",
"// Page number 270\n",
"clear ; clc ; close ; // Clear the work space and console\n",
"\n",
"// Given data\n",
"x_s = 0.85     // Reactance(p.u)\n",
"x_T1 = 0.157   // Reactance(p.u)\n",
"x_T2 = 0.157   // Reactance(p.u)\n",
"x_l1 = 0.35    // Reactance(p.u)\n",
"x_l2 = 0.35    // Reactance(p.u)\n",
"E = 1.50       // Sending end voltage(p.u)\n",
"V_L = 1.0      // Load voltage(p.u)\n",
"P_0 = 1.0      // Stable power output(p.u)\n",
"\n",
"// Calculations\n",
"x = x_s+x_T1+x_T2+(x_l1/2)         // Total reactance(p.u)\n",
"P_max = E*V_L/x                    // Maximum power limit(p.u)\n",
"M = (P_max-P_0)/P_max*100          // Steady state stability margin(%)\n",
"V_Lmin = P_0*x/E                   // Minimum value of V_L(p.u)\n",
"E_min = P_0*x/V_L                  // Minimum value of E(p.u)\n",
"\n",
"// Results\n",
"disp('PART II - EXAMPLE : 10.2 : SOLUTION :-')\n",
"printf('\nMinimum value of |E|, |E_min| = %.3f p.u', E_min)\n",
"printf('\nMinimum value of |V_L|, |V_Lmin| = %.3f p.u', V_Lmin)\n",
"printf('\nMaximum power limit, P_0 = %.2f p.u', P_max)\n",
"printf('\nSteady state stability margin, M = %.1f percent', M)"
   ]
   }
,
{
		   "cell_type": "markdown",
		   "metadata": {},
		   "source": [
			"## Example 17.30: Power_angle_and_Swing_curve_data.sce"
		   ]
		  },
  {
"cell_type": "code",
	   "execution_count": null,
	   "metadata": {
	    "collapsed": true
	   },
	   "outputs": [],
"source": [
"// A Texbook on POWER SYSTEM ENGINEERING\n",
"// A.Chakrabarti, M.L.Soni, P.V.Gupta, U.S.Bhatnagar\n",
"// DHANPAT RAI & Co.\n",
"// SECOND EDITION \n",
"\n",
"// PART II : TRANSMISSION AND DISTRIBUTION\n",
"// CHAPTER 10: POWER SYSTEM STABILITY\n",
"\n",
"// EXAMPLE : 10.30 :\n",
"// Page number 310-311\n",
"clear ; clc ; close ; // Clear the work space and console\n",
"\n",
"// Given data\n",
"f = 60.0          // Frequency(Hz)\n",
"P = 6.0           // Number of poles\n",
"H = 4.0           // Inertia constant(p.u)\n",
"P_e = 1.0         // Power supplied by generator(p.u)\n",
"E = 1.2           // Internal voltage(p.u)\n",
"V = 1.0           // Infinite bus voltage(p.u)\n",
"X = 0.3           // Line reactance(p.u)\n",
"del_t = 0.05      // Δt = Interval step size(sec)\n",
"\n",
"// Calculations\n",
"P_max = E*V/X                                // Maximum power(p.u)\n",
"delta_0 = asind(P_e/P_max)                   // δ_0(°)\n",
"G = P_e\n",
"M = G*H/(180*f)                              // Angular momentum(p.u)\n",
"P_a_0 = 1.0/2*(P_e-0)                        // (p.u)\n",
"alpha_0 = P_a_0/M                            // α_0(°/sec^2)\n",
"del_w_r_1 = alpha_0*del_t                    // Δω_r_1(°/sec)\n",
"w_r_1 = 0+del_w_r_1                          // ω_r_1(°/sec)\n",
"del_delta_1 = w_r_1*del_t                    // Δδ_1(°)\n",
"delta_1 = delta_0+del_delta_1                // δ_1(°)\n",
"P_a_1 = 1.0*(P_e-0)                          // (p.u)\n",
"alpha_1 = P_a_1/M                            // α_1(°/sec^2)\n",
"del_w_r_2 = alpha_1*del_t                    // Δω_r_2(°/sec)\n",
"w_r_2 = del_w_r_1+del_w_r_2                  // ω_r_2(°/sec)\n",
"del_delta_2 = w_r_2*del_t                    // Δδ_2(°)\n",
"delta_2 = delta_1+del_delta_2                // δ_2(°)\n",
"del_w_r_3 = del_w_r_2                        // Δω_r_3(°/sec)\n",
"w_r_3 = w_r_2+del_w_r_3                      // ω_r_3(°/sec)\n",
"del_delta_3 = w_r_3*del_t                    // Δδ_3(°)\n",
"delta_3 = delta_2+del_delta_3                // δ_3(°)\n",
"del_w_r_4 = del_w_r_2                        // Δω_r_4(°/sec)\n",
"w_r_4 = w_r_3+del_w_r_4                      // ω_r_4(°/sec)\n",
"del_delta_4 = w_r_4*del_t                    // Δδ_4(°)\n",
"delta_4 = delta_3+del_delta_4                // δ_4(°)\n",
"del_w_r_5 = del_w_r_2                        // Δω_r_5(°/sec)\n",
"w_r_5 = w_r_4+del_w_r_5                      // ω_r_5(°/sec)\n",
"del_delta_5 = w_r_5*del_t                    // Δδ_5(°)\n",
"delta_5 = delta_4+del_delta_5                // δ_5(°)\n",
"\n",
"// Results\n",
"disp('PART II - EXAMPLE : 10.30 : SOLUTION :-')\n",
"printf('\nPower angle, δ_0 = %.2f° ', delta_0)\n",
"printf('\nValue of δ vs t are:')\n",
"printf('\n_________________________')\n",
"printf('\n  t(Sec)   :   δ(degree)')\n",
"printf('\n_________________________')\n",
"printf('\n   %.1f     :    %.2f°', 0,delta_0)\n",
"printf('\n   %.2f    :    %.2f°', (del_t),delta_1)\n",
"printf('\n   %.2f    :    %.2f°', (del_t+del_t),delta_2)\n",
"printf('\n   %.2f    :    %.2f°', (del_t*3),delta_3)\n",
"printf('\n   %.2f    :    %.2f°', (del_t*4),delta_4)\n",
"printf('\n   %.2f    :    %.2f°', (del_t*5),delta_5)\n",
"printf('\n_________________________')"
   ]
   }
,
{
		   "cell_type": "markdown",
		   "metadata": {},
		   "source": [
			"## Example 17.3: EX17_3.sce"
		   ]
		  },
  {
"cell_type": "code",
	   "execution_count": null,
	   "metadata": {
	    "collapsed": true
	   },
	   "outputs": [],
"source": [
"// A Texbook on POWER SYSTEM ENGINEERING\n",
"// A.Chakrabarti, M.L.Soni, P.V.Gupta, U.S.Bhatnagar\n",
"// DHANPAT RAI & Co.\n",
"// SECOND EDITION \n",
"\n",
"// PART II : TRANSMISSION AND DISTRIBUTION\n",
"// CHAPTER 10: POWER SYSTEM STABILITY\n",
"\n",
"// EXAMPLE : 10.3 :\n",
"// Page number 270-271\n",
"clear ; clc ; close ; // Clear the work space and console\n",
"\n",
"// Given data\n",
"E_1 = 1.25     // Sending end voltage(p.u)\n",
"x_d = 1.0      // Reactance(p.u)\n",
"x_T1 = 0.2     // Reactance(p.u)\n",
"x_l1 = 1.0     // Reactance(p.u)\n",
"x_l2 = 1.0     // Reactance(p.u)\n",
"x_T2 = 0.2     // Reactance(p.u)\n",
"E_2 = 1.0      // Receiving end voltage(p.u)\n",
"x_L = 1.0      // Shunt inductor reactance(p.u)\n",
"x_C = 1.0      // Shunt capacitor reactance(p.u)\n",
"\n",
"// Calculations\n",
"// Case(a)\n",
"Z_1_a = x_d+x_T1+(x_l1/2.0)              // Reactance(p.u)\n",
"Z_2_a = x_T2+x_d                         // Reactance(p.u)\n",
"Z_3_a = x_L                              // Reactance(p.u)\n",
"Z_a = Z_1_a+Z_2_a+(Z_1_a*Z_2_a/Z_3_a)    // Transfer reactance(p.u)\n",
"P_max_1 = E_1*E_2/Z_a                    // Maximum power transfer if shunt inductor is connected at bus 2(p.u)\n",
"// Case(b)\n",
"Z_1_b = x_d+x_T1+(x_l1/2.0)              // Reactance(p.u)\n",
"Z_2_b = x_T2+x_d                         // Reactance(p.u)\n",
"Z_3_b = -x_C                             // Reactance(p.u)\n",
"Z_b = Z_1_b+Z_2_b+(Z_1_b*Z_2_b/Z_3_b)    // Transfer reactance(p.u)\n",
"P_max_2 = E_1*E_2/Z_b                    // Maximum power transfer if shunt capacitor is connected at bus 2(p.u)\n",
"\n",
"// Results\n",
"disp('PART II - EXAMPLE : 10.3 : SOLUTION :-')\n",
"printf('\nCase(a): Maximum power transfer if shunt inductor is connected at bus 2, P_max1 = %.3f p.u', P_max_1)\n",
"printf('\nCase(b): Maximum power transfer if shunt capacitor is connected at bus 2, P_max2 = %.2f p.u', P_max_2)"
   ]
   }
,
{
		   "cell_type": "markdown",
		   "metadata": {},
		   "source": [
			"## Example 17.4: Maximum_power_transfer_and_Stability_margin.sce"
		   ]
		  },
  {
"cell_type": "code",
	   "execution_count": null,
	   "metadata": {
	    "collapsed": true
	   },
	   "outputs": [],
"source": [
"// A Texbook on POWER SYSTEM ENGINEERING\n",
"// A.Chakrabarti, M.L.Soni, P.V.Gupta, U.S.Bhatnagar\n",
"// DHANPAT RAI & Co.\n",
"// SECOND EDITION \n",
"\n",
"// PART II : TRANSMISSION AND DISTRIBUTION\n",
"// CHAPTER 10: POWER SYSTEM STABILITY\n",
"\n",
"// EXAMPLE : 10.4 :\n",
"// Page number 271\n",
"clear ; clc ; close ; // Clear the work space and console\n",
"\n",
"// Given data\n",
"V = 400.0          // Voltage(kV)\n",
"L = 220.0          // Line length(km)\n",
"P = 0.58           // Initial real power transfer(p.u)\n",
"PF = 0.85          // Lagging power factor\n",
"V_L = 1.00         // Load bus voltage(p.u)\n",
"x_d = 0.460        // Reactance(p.u)\n",
"x_T1 = 0.200       // Reactance(p.u)\n",
"x_T2 = 0.15        // Reactance(p.u)\n",
"x_line = 0.7       // Reactance(p.u)\n",
"\n",
"// Calculations\n",
"x = x_d+x_T1+x_T2+(x_line/2)                  // Net reactance(p.u)\n",
"phi = acosd(PF)                               // Φ(°)\n",
"Q = P*tand(phi)                               // Reactive power(p.u)\n",
"E = ((V_L+(Q*x/V_L))**2+(P*x/V_L)**2)**0.5    // Excitation voltage of generator(p.u)\n",
"P_max = E*V_L/x                               // Maximum power transfer(p.u)\n",
"M = (P_max-P)/P_max*100                       // Steady state stability margin(%)\n",
"\n",
"// Results\n",
"disp('PART II - EXAMPLE : 10.4 : SOLUTION :-')\n",
"printf('\nMaximum power transfer, P_max = %.2f p.u', P_max)\n",
"printf('\nStability margin, M = %.f percent', M)"
   ]
   }
,
{
		   "cell_type": "markdown",
		   "metadata": {},
		   "source": [
			"## Example 17.5: QgB_Phase_angle_of_VB_and_What_happens_if_QgB_is_made_zero.sce"
		   ]
		  },
  {
"cell_type": "code",
	   "execution_count": null,
	   "metadata": {
	    "collapsed": true
	   },
	   "outputs": [],
"source": [
"// A Texbook on POWER SYSTEM ENGINEERING\n",
"// A.Chakrabarti, M.L.Soni, P.V.Gupta, U.S.Bhatnagar\n",
"// DHANPAT RAI & Co.\n",
"// SECOND EDITION \n",
"\n",
"// PART II : TRANSMISSION AND DISTRIBUTION\n",
"// CHAPTER 10: POWER SYSTEM STABILITY\n",
"\n",
"// EXAMPLE : 10.5 :\n",
"// Page number 271-272\n",
"clear ; clc ; close ; // Clear the work space and console\n",
"\n",
"// Given data\n",
"V_A = 1.0          // Voltage at bus A(p.u)\n",
"Z_AB = %i*0.5      // Impedance(p.u)\n",
"S_DA = 1.0         // p.u\n",
"S_DB = 1.0         // p.u\n",
"V_B = 1.0          // Voltage at bus B(p.u)\n",
"\n",
"// Calculations\n",
"// Case(i) & (ii)\n",
"X = abs(Z_AB)                                 // Reactance(p.u)\n",
"sin_delta = 1.0*X/(V_A*V_B)                   // Sin δ\n",
"delta = asind(sin_delta)                      // δ(°)\n",
"V_2 = V_B\n",
"V_1 = V_A\n",
"Q_gB = (V_2**2/X)-(V_2*V_1*cosd(delta)/X)\n",
"// Case(iii)\n",
"V_2_3 = 1/2.0**0.5                            // Solving quadratic equation from textbook\n",
"delta_3 = acosd(V_2_3)                        // δ(°)\n",
"\n",
"// Results\n",
"disp('PART II - EXAMPLE : 10.5 : SOLUTION :-')\n",
"printf('\nCase(i)  : Q_gB = %.3f', Q_gB)\n",
"printf('\nCase(ii) : Phase angle of V_B, δ = %.f° ', delta)\n",
"printf('\nCase(iii): If Q_gB is equal to zero then amount of power transmitted is, V_2 = %.3f∠%.f° ', V_2_3,delta_3)"
   ]
   }
,
{
		   "cell_type": "markdown",
		   "metadata": {},
		   "source": [
			"## Example 17.6: EX17_6.sce"
		   ]
		  },
  {
"cell_type": "code",
	   "execution_count": null,
	   "metadata": {
	    "collapsed": true
	   },
	   "outputs": [],
"source": [
"// A Texbook on POWER SYSTEM ENGINEERING\n",
"// A.Chakrabarti, M.L.Soni, P.V.Gupta, U.S.Bhatnagar\n",
"// DHANPAT RAI & Co.\n",
"// SECOND EDITION \n",
"\n",
"// PART II : TRANSMISSION AND DISTRIBUTION\n",
"// CHAPTER 10: POWER SYSTEM STABILITY\n",
"\n",
"// EXAMPLE : 10.6 :\n",
"// Page number 272\n",
"clear ; clc ; close ; // Clear the work space and console\n",
"funcprot(0)\n",
"\n",
"// Given data\n",
"A = 0.98*exp(%i*0.3*%pi/180)       // Constant\n",
"B = 82.5*exp(%i*76.0*%pi/180)      // Constant(ohm)\n",
"C = 0.0005*exp(%i*90.0*%pi/180)    // Constant(mho)\n",
"D = A                              // Constant\n",
"V_S = 110.0                        // Sending end voltage(kV)\n",
"V_R = 110.0                        // Receiving end voltage(kV)\n",
"\n",
"// Calculations\n",
"alpha = phasemag(A)                                                 // α(°)\n",
"beta = phasemag(B)                                                  // β(°)\n",
"P_max = (V_S*V_R/abs(B))-(abs(A)*V_R**2/abs(B)*cosd((beta-alpha)))  // Maximum power transfer(MW)\n",
"B_new = abs(B)*sind(beta)                                           // Constant(ohm)\n",
"beta_new = 90.0                                                     // β(°)\n",
"P_max_new = (V_S*V_R/B_new)-(V_R**2/B_new*cosd(beta_new))           // Maximum power transfer(MW)\n",
"\n",
"// Results\n",
"disp('PART II - EXAMPLE : 10.6 : SOLUTION :-')\n",
"printf('\nSteady state stability limit, P_max = %.2f MW', P_max)\n",
"printf('\nSteady state stability limit if shunt admittance is zero & series resistance neglected, P_max = %.2f MW \n', P_max_new)\n",
"printf('\nNOTE: Changes in the obtained answer from that of textbook is due to precision')"
   ]
   }
,
{
		   "cell_type": "markdown",
		   "metadata": {},
		   "source": [
			"## Example 17.8: EX17_8.sce"
		   ]
		  },
  {
"cell_type": "code",
	   "execution_count": null,
	   "metadata": {
	    "collapsed": true
	   },
	   "outputs": [],
"source": [
"// A Texbook on POWER SYSTEM ENGINEERING\n",
"// A.Chakrabarti, M.L.Soni, P.V.Gupta, U.S.Bhatnagar\n",
"// DHANPAT RAI & Co.\n",
"// SECOND EDITION \n",
"\n",
"// PART II : TRANSMISSION AND DISTRIBUTION\n",
"// CHAPTER 10: POWER SYSTEM STABILITY\n",
"\n",
"// EXAMPLE : 10.8 :\n",
"// Page number 273-275\n",
"clear ; clc ; close ; // Clear the work space and console\n",
"funcprot(0)\n",
"\n",
"// Given data\n",
"V = 33.0*10**3        // Line voltage(V)\n",
"R = 6.0               // Resistance per phase(ohm)\n",
"X = 15.0              // Reactance per phase(ohm)\n",
"\n",
"// Calculations\n",
"V_S = V/3**0.5                                              // Sending end phase voltage(V)\n",
"V_R = V/3**0.5                                              // Receiving end phase voltage(V)\n",
"beta = atand(X/R)                                           // β(°)\n",
"Z = (R**2+X**2)**0.5                                        // Impedance(ohm)\n",
"delta_0 = 0.0                                               // δ(°)\n",
"P_0 = (V_R/Z**2)*(V_S*Z*cosd((delta_0-beta))-V_R*R)/10**6   // Power received(MW/phase)\n",
"delta_1 = 30.0                                              // δ(°)\n",
"P_1 = (V_R/Z**2)*(V_S*Z*cosd((delta_1-beta))-V_R*R)/10**6   // Power received(MW/phase)\n",
"delta_2 = 60.0                                              // δ(°)\n",
"P_2 = (V_R/Z**2)*(V_S*Z*cosd((delta_2-beta))-V_R*R)/10**6   // Power received(MW/phase)\n",
"delta_3 = beta                                              // δ(°)\n",
"P_3 = (V_R/Z**2)*(V_S*Z*cosd((delta_3-beta))-V_R*R)/10**6   // Power received(MW/phase)\n",
"delta_4 = 90.0                                              // δ(°)\n",
"P_4 = (V_R/Z**2)*(V_S*Z*cosd((delta_4-beta))-V_R*R)/10**6   // Power received(MW/phase)\n",
"delta_5 = 120.0                                             // δ(°)\n",
"P_5 = (V_R/Z**2)*(V_S*Z*cosd((delta_5-beta))-V_R*R)/10**6   // Power received(MW/phase)\n",
"delta_6 = (acosd(R/Z))+beta                                 // δ(°)\n",
"P_6 = (V_R/Z**2)*(V_S*Z*cosd((delta_6-beta))-V_R*R)/10**6   // Power received(MW/phase)\n",
"\n",
"\n",
"delta = [delta_0,delta_1,delta_2,delta_3,delta_4,delta_5,delta_6]\n",
"P = [P_0,P_1,P_2,P_3,P_4,P_5,P_6]\n",
"a = gca() ;\n",
"a.thickness = 2                                  // sets thickness of plot\n",
"plot(delta,P,'ro-')\n",
"a.x_label.text = 'Electrical degree'             // labels x-axis\n",
"a.y_label.text = 'Power in MW/phase'             // labels y-axis\n",
"xtitle('Fig E10.7 . Power angle diagram') \n",
"xset('thickness',2)                              // sets thickness of axes\n",
"xstring(70,14.12,'P_max = 14.12 MW/phase(approximately)')\n",
"P_max = V_R/Z**2*(V_S*Z-V_R*R)/10**6                                   // Maximum power transmitted(MW/phase)\n",
"delta_equal = 0.0                                                      // δ With no phase shift(°)\n",
"P_no_shift = (V_R/Z**2)*(V_S*Z*cosd((delta_equal-beta))-V_R*R)/10**6   // Power transmitted with no phase shift(MW/phase)\n",
"\n",
"// Results\n",
"disp('PART II - EXAMPLE : 10.8 : SOLUTION :-')\n",
"printf('\nPower angle diagram is plotted and is shown in the Figure 1')\n",
"printf('\nMaximum power the line is capable of transmitting, P_max = %.2f MW/phase', P_max)\n",
"printf('\nWith equal voltage at both ends power transmitted = %.f MW/phase', abs(P_no_shift))"
   ]
   }
,
{
		   "cell_type": "markdown",
		   "metadata": {},
		   "source": [
			"## Example 17.9: Maximum_steady_state_power_that_can_be_transmitted_over_the_line.sce"
		   ]
		  },
  {
"cell_type": "code",
	   "execution_count": null,
	   "metadata": {
	    "collapsed": true
	   },
	   "outputs": [],
"source": [
"// A Texbook on POWER SYSTEM ENGINEERING\n",
"// A.Chakrabarti, M.L.Soni, P.V.Gupta, U.S.Bhatnagar\n",
"// DHANPAT RAI & Co.\n",
"// SECOND EDITION \n",
"\n",
"// PART II : TRANSMISSION AND DISTRIBUTION\n",
"// CHAPTER 10: POWER SYSTEM STABILITY\n",
"\n",
"// EXAMPLE : 10.9 :\n",
"// Page number 275\n",
"clear ; clc ; close ; // Clear the work space and console\n",
"\n",
"// Given data\n",
"V = 132.0*10**3              // Sending end voltage(V)\n",
"Z_line = complex(4,6)        // Line impedance per phase(ohm)\n",
"\n",
"// Calculations\n",
"V_S = V/3**0.5                                         // Sending end phase voltage(V)\n",
"V_R = V/3**0.5                                         // Receiving end phase voltage(V)\n",
"Z = abs(Z_line)                                        // Impedance(ohm)\n",
"R = real(Z_line)                                       // Resistance per phase(ohm)\n",
"P_max_phase = ((V_S*V_R/Z)-(R*V_R**2/Z**2))/10**6      // Maximum steady state power that can be transmitted over the line(MW/phase)\n",
"P_max_total = 3.0*P_max_phase                          // Maximum steady state power that can be transmitted over the line(MW)\n",
"\n",
"// Results\n",
"disp('PART II - EXAMPLE : 10.9 : SOLUTION :-')\n",
"printf('\nMaximum steady state power that can be transmitted over the line, P_max = %.f MW (total 3-phase)', P_max_total)"
   ]
   }
],
"metadata": {
		  "kernelspec": {
		   "display_name": "Scilab",
		   "language": "scilab",
		   "name": "scilab"
		  },
		  "language_info": {
		   "file_extension": ".sce",
		   "help_links": [
			{
			 "text": "MetaKernel Magics",
			 "url": "https://github.com/calysto/metakernel/blob/master/metakernel/magics/README.md"
			}
		   ],
		   "mimetype": "text/x-octave",
		   "name": "scilab",
		   "version": "0.7.1"
		  }
		 },
		 "nbformat": 4,
		 "nbformat_minor": 0
}
