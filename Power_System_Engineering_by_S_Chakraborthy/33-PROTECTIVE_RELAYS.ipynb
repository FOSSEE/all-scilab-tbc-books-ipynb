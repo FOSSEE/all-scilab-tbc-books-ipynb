{
"cells": [
 {
		   "cell_type": "markdown",
	   "metadata": {},
	   "source": [
       "# Chapter 33: PROTECTIVE RELAYS"
	   ]
	},
{
		   "cell_type": "markdown",
		   "metadata": {},
		   "source": [
			"## Example 33.1: Time_of_operation_of_the_relay.sce"
		   ]
		  },
  {
"cell_type": "code",
	   "execution_count": null,
	   "metadata": {
	    "collapsed": true
	   },
	   "outputs": [],
"source": [
"// A Texbook on POWER SYSTEM ENGINEERING\n",
"// A.Chakrabarti, M.L.Soni, P.V.Gupta, U.S.Bhatnagar\n",
"// DHANPAT RAI & Co.\n",
"// SECOND EDITION \n",
"\n",
"// PART III : SWITCHGEAR AND PROTECTION\n",
"// CHAPTER 7: PROTECTIVE RELAYS\n",
"\n",
"// EXAMPLE : 7.1 :\n",
"// Page number 595-596\n",
"clear ; clc ; close ; // Clear the work space and console\n",
"\n",
"// Given data\n",
"I_setting = 150.0   // Current setting of IDMT(%)\n",
"t_mult = 0.5        // Time multiplier setting\n",
"ratio_CT = 500.0/5  // CT ratio\n",
"CT_sec = 5.0        // Secondary turn\n",
"I_f = 6000.0        // Fault current\n",
"\n",
"// Calculations\n",
"I_sec_fault = I_f/ratio_CT                // Secondary fault current(A)\n",
"PSM = I_sec_fault/(CT_sec*I_setting/100)  // Plug setting multiplier\n",
"t = 3.15                                  // Time against this PSM(sec). From graph E7.1 in textbook page no 595\n",
"time_oper = t*t_mult                      // Operating time(sec)\n",
"\n",
"// Results\n",
"disp('PART III - EXAMPLE : 7.1 : SOLUTION :-')\n",
"printf('\nTime of operation of the relay = %.3f sec', time_oper)"
   ]
   }
,
{
		   "cell_type": "markdown",
		   "metadata": {},
		   "source": [
			"## Example 33.2: Time_of_operation_of_the_relay.sce"
		   ]
		  },
  {
"cell_type": "code",
	   "execution_count": null,
	   "metadata": {
	    "collapsed": true
	   },
	   "outputs": [],
"source": [
"// A Texbook on POWER SYSTEM ENGINEERING\n",
"// A.Chakrabarti, M.L.Soni, P.V.Gupta, U.S.Bhatnagar\n",
"// DHANPAT RAI & Co.\n",
"// SECOND EDITION \n",
"\n",
"// PART III : SWITCHGEAR AND PROTECTION\n",
"// CHAPTER 7: PROTECTIVE RELAYS\n",
"\n",
"// EXAMPLE : 7.2 :\n",
"// Page number 596\n",
"clear ; clc ; close ; // Clear the work space and console\n",
"\n",
"// Given data\n",
"ratio = 525.0/1     // CT ratio\n",
"CT_sec = 1.0        // Secondary turn\n",
"t_mult = 0.3        // Time multiplier setting\n",
"I_f = 5250.0        // Fault current(A)\n",
"\n",
"// Calculations\n",
"I_sec_fault = I_f/ratio            // Secondary fault current(A)\n",
"PSM = I_sec_fault/(1.25*CT_sec)    // Plug setting multiplier\n",
"t = 3.15                           // Time against this PSM(sec). From graph E7.1 in textbook page no 595\n",
"time_oper = t*t_mult               // Operating time(sec)\n",
"\n",
"// Results\n",
"disp('PART III - EXAMPLE : 7.2 : SOLUTION :-')\n",
"printf('\nTime of operation of the relay = %.3f sec', time_oper)"
   ]
   }
,
{
		   "cell_type": "markdown",
		   "metadata": {},
		   "source": [
			"## Example 33.3: EX33_3.sce"
		   ]
		  },
  {
"cell_type": "code",
	   "execution_count": null,
	   "metadata": {
	    "collapsed": true
	   },
	   "outputs": [],
"source": [
"// A Texbook on POWER SYSTEM ENGINEERING\n",
"// A.Chakrabarti, M.L.Soni, P.V.Gupta, U.S.Bhatnagar\n",
"// DHANPAT RAI & Co.\n",
"// SECOND EDITION \n",
"\n",
"// PART III : SWITCHGEAR AND PROTECTION\n",
"// CHAPTER 7: PROTECTIVE RELAYS\n",
"\n",
"// EXAMPLE : 7.3 :\n",
"// Page number 596\n",
"clear ; clc ; close ; // Clear the work space and console\n",
"\n",
"// Given data\n",
"MVA = 20.0            // Transformer MVA\n",
"overload = 30.0       // Overload of transformer(%)\n",
"kV = 11.0             // Bus bar rating(kV)\n",
"CT_trans = 1000.0/5   // Transformer CT\n",
"CT_cb = 400.0/5       // Circuit breaker CT\n",
"ps = 125.0            // Plug setting(%)\n",
"ts = 0.3              // Time setting\n",
"I_f = 5000.0          // Fault current(A)\n",
"t_margin = 0.5        // Discriminative time margin(sec)\n",
"\n",
"// Calculations\n",
"I_sec_fault = I_f/CT_cb                          // Secondary fault current(A)\n",
"CT_cb_sec = 5.0                                  // Secondary turn\n",
"PSM = I_sec_fault/(ps/100*CT_cb_sec)             // Plug setting multiplier\n",
"t = 2.8                                          // Time against this PSM(sec). From graph E7.1 in textbook page no 595\n",
"time_oper = t*ts                                 // Operating time of feeder relay(sec)\n",
"I_ol = (1+(overload/100))*MVA*1000/(3**0.5*kV)   // Overload current(A)\n",
"I_sec_T = I_ol/CT_trans                          // Secondary current(A)\n",
"CT_T_sec = 5.0                                   // Secondary turn of transformer\n",
"PSM_T = I_sec_T/CT_T_sec                         // Minimum plug setting multiplier of transformer\n",
"I_sec_T1 = I_f/CT_trans                          // Secondary fault current(A)\n",
"ps_T1 = 1.5                                      // Plug setting as per standard value\n",
"PSM_T1 = I_sec_T1/(CT_T_sec*ps)                  // Plug setting multiplier of transformer\n",
"t_T1 = 7.0                                       // Time against this PSM(sec). From graph E7.1 in textbook page no 595\n",
"time_setting = (time_oper+t_margin)/t_T1         // Time setting of transformer\n",
"\n",
"// Results\n",
"disp('PART III - EXAMPLE : 7.3 : SOLUTION :-')\n",
"printf('\nOperating time of feeder relay = %.2f sec', time_oper)\n",
"printf('\nMinimum plug setting of transformer relay, P.S > %.2f ', PSM_T)\n",
"printf('\nTime setting of transformer = %.3f ', time_setting)"
   ]
   }
,
{
		   "cell_type": "markdown",
		   "metadata": {},
		   "source": [
			"## Example 33.4: Time_of_operation_of_the_two_relays.sce"
		   ]
		  },
  {
"cell_type": "code",
	   "execution_count": null,
	   "metadata": {
	    "collapsed": true
	   },
	   "outputs": [],
"source": [
"// A Texbook on POWER SYSTEM ENGINEERING\n",
"// A.Chakrabarti, M.L.Soni, P.V.Gupta, U.S.Bhatnagar\n",
"// DHANPAT RAI & Co.\n",
"// SECOND EDITION \n",
"\n",
"// PART III : SWITCHGEAR AND PROTECTION\n",
"// CHAPTER 7: PROTECTIVE RELAYS\n",
"\n",
"// EXAMPLE : 7.4 :\n",
"// Page number 596-597\n",
"clear ; clc ; close ; // Clear the work space and console\n",
"\n",
"// Given data\n",
"I_f = 2000.0         // Fault current(A)\n",
"ratio_CT = 200.0/1   // CT ratio\n",
"R_1 = 100.0          // Relay 1 set on(%)\n",
"R_2 = 125.0          // Relay 2 set on(%)\n",
"t_margin = 0.5       // Discriminative time margin(sec)\n",
"TSM_1 = 0.2          // Time setting multiplier of relay 1\n",
"\n",
"// Calculations\n",
"CT_sec = 200.0                         // CT secondary\n",
"PSM_1 = I_f*100/(CT_sec*R_1)           // PSM of relay 1\n",
"t_1 = 2.8                              // Time against this PSM(sec). From graph E7.1 in textbook page no 595\n",
"time_oper_1 = TSM_1*t_1                // Operating time of relay with TSM of 0.2(Sec)\n",
"PSM_2 = I_f*100/(CT_sec*R_2)           // PSM of relay 2\n",
"t_2 = 3.15                             // Time against this PSM(sec). From graph E7.1 in textbook page no 595\n",
"actual_time_2 = time_oper_1+t_margin   // Actual time of operation of relay 2(sec)\n",
"TSM_2 = actual_time_2/t_2              // Time setting multiplier of relay 2\n",
"\n",
"// Results\n",
"disp('PART III - EXAMPLE : 7.4 : SOLUTION :-')\n",
"printf('\nTime of operation of relay 1 = %.2f sec', time_oper_1)\n",
"printf('\nActual time of operation of relay 2 = %.2f sec', actual_time_2)\n",
"printf('\nT.S.M of relay 2 = %.4f', TSM_2)"
   ]
   }
,
{
		   "cell_type": "markdown",
		   "metadata": {},
		   "source": [
			"## Example 33.6: Will_the_relay_operate_the_trip_of_the_breaker.sce"
		   ]
		  },
  {
"cell_type": "code",
	   "execution_count": null,
	   "metadata": {
	    "collapsed": true
	   },
	   "outputs": [],
"source": [
"// A Texbook on POWER SYSTEM ENGINEERING\n",
"// A.Chakrabarti, M.L.Soni, P.V.Gupta, U.S.Bhatnagar\n",
"// DHANPAT RAI & Co.\n",
"// SECOND EDITION \n",
"\n",
"// PART III : SWITCHGEAR AND PROTECTION\n",
"// CHAPTER 7: PROTECTIVE RELAYS\n",
"\n",
"// EXAMPLE : 7.6 :\n",
"// Page number 611\n",
"clear ; clc ; close ; // Clear the work space and console\n",
"\n",
"// Given data\n",
"I_min = 0.1          // Relay minimum pick up current(A)\n",
"slope = 10.0         // Slope characteristic(%)\n",
"CT_ratio = 400.0/5   // CT ratio\n",
"I_1 = 320.0          // Current(A)\n",
"I_2 = 304.0          // Current(A)\n",
"\n",
"// Calculations\n",
"I_op_coil = (I_1-I_2)/CT_ratio           // Current in operating coil(A)\n",
"I_re_coil = 1.0*(I_1+I_2)/(2*CT_ratio)   // Current in restraining coil(A)\n",
"I_re_coil_slope = I_re_coil*slope/100    // Current in restraining coil with slope(A)\n",
"\n",
"// Results\n",
"disp('PART III - EXAMPLE : 7.6 : SOLUTION :-')\n",
"if(I_op_coil<I_re_coil_slope) then\n",
"    printf('\nRelay will not trip the circuit breaker')\n",
"else then\n",
"    print('\nRelay will trip the circuit breaker')\n",
"end"
   ]
   }
],
"metadata": {
		  "kernelspec": {
		   "display_name": "Scilab",
		   "language": "scilab",
		   "name": "scilab"
		  },
		  "language_info": {
		   "file_extension": ".sce",
		   "help_links": [
			{
			 "text": "MetaKernel Magics",
			 "url": "https://github.com/calysto/metakernel/blob/master/metakernel/magics/README.md"
			}
		   ],
		   "mimetype": "text/x-octave",
		   "name": "scilab",
		   "version": "0.7.1"
		  }
		 },
		 "nbformat": 4,
		 "nbformat_minor": 0
}
