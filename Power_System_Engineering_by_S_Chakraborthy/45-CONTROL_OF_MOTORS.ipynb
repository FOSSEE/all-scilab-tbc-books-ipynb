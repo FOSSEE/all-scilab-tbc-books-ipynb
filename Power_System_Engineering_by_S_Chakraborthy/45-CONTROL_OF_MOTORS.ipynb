{
"cells": [
 {
		   "cell_type": "markdown",
	   "metadata": {},
	   "source": [
       "# Chapter 45: CONTROL OF MOTORS"
	   ]
	},
{
		   "cell_type": "markdown",
		   "metadata": {},
		   "source": [
			"## Example 45.1: Approximate_loss_of_energy_in_starting_rheostats.sce"
		   ]
		  },
  {
"cell_type": "code",
	   "execution_count": null,
	   "metadata": {
	    "collapsed": true
	   },
	   "outputs": [],
"source": [
"// A Texbook on POWER SYSTEM ENGINEERING\n",
"// A.Chakrabarti, M.L.Soni, P.V.Gupta, U.S.Bhatnagar\n",
"// DHANPAT RAI & Co.\n",
"// SECOND EDITION \n",
"\n",
"// PART IV : UTILIZATION AND TRACTION\n",
"// CHAPTER 7: CONTROL OF MOTORS\n",
"\n",
"// EXAMPLE : 7.1 :\n",
"// Page number 798\n",
"clear ; clc ; close ; // Clear the work space and console\n",
"\n",
"// Given data\n",
"no = 2.0         // Number of motors\n",
"V_m = 48.0       // Uniform speed(kmph)\n",
"t = 30.0         // Time(sec)\n",
"F_t_m = 13350.0  // Average tractive effort per motor(N)\n",
"\n",
"// Calculations\n",
"F_t = no*F_t_m                  // Average tractive effort(N)\n",
"energy = t*F_t*V_m/(2*3600**2)  // Useful energy for acceleration(kWh)\n",
"energy_loss = energy/no         // Approximate loss of energy in starting rheostats(kWh)\n",
"\n",
"// Results\n",
"disp('PART IV - EXAMPLE : 7.1 : SOLUTION :-')\n",
"printf('\nApproximate loss of energy in starting rheostats = %.3f kWh', energy_loss)"
   ]
   }
,
{
		   "cell_type": "markdown",
		   "metadata": {},
		   "source": [
			"## Example 45.2: EX45_2.sce"
		   ]
		  },
  {
"cell_type": "code",
	   "execution_count": null,
	   "metadata": {
	    "collapsed": true
	   },
	   "outputs": [],
"source": [
"// A Texbook on POWER SYSTEM ENGINEERING\n",
"// A.Chakrabarti, M.L.Soni, P.V.Gupta, U.S.Bhatnagar\n",
"// DHANPAT RAI & Co.\n",
"// SECOND EDITION \n",
"\n",
"// PART IV : UTILIZATION AND TRACTION\n",
"// CHAPTER 7: CONTROL OF MOTORS\n",
"\n",
"// EXAMPLE : 7.2 :\n",
"// Page number 798\n",
"clear ; clc ; close ; // Clear the work space and console\n",
"\n",
"// Given data\n",
"W = 175.0        // Weight of multiple unit train(tonnes)\n",
"no = 6.0         // Number of motors\n",
"F_t = 69000.0    // Total tractive effort(N)\n",
"V = 600.0        // Line voltage(V)\n",
"I = 200.0        // Average current(A)\n",
"V_m = 38.6       // Speed(kmph)\n",
"R = 0.15         // Resistance of each motor(ohm)\n",
"\n",
"// Calculations\n",
"alpha = F_t/(277.8*W)                             // Acceleration(km phps)\n",
"T = V_m/alpha                                     // Time for acceleration(sec)\n",
"t_s = (V-2*I*R)*T/(2*(V-I*R))                     // Duration of starting period(sec)\n",
"t_p = T-t_s                                       // (sec)\n",
"energy_total_series = no/2*V*I*t_s                // Total energy supplied in series position(watt-sec)\n",
"energy_total_parallel = no*V*I*t_p                // Total energy supplied in parallel position(watt-sec)\n",
"total_energy = (energy_total_series+energy_total_parallel)/(1000*3600)         // Energy supplied during starting period(kWh)\n",
"energy_waste_series = (no/2)/2*(V-2*I*R)*I*t_s    // Energy wasted in starting resistance in series position(watt-sec)\n",
"energy_waste_parallel = no*(V/2)/2*I*t_p          // Energy wasted in starting resistance in parallel position(watt-sec)\n",
"total_energy_waste = (energy_waste_series+energy_waste_parallel)/(1000*3600)   // Total energy wasted in starting resistance(kWh)\n",
"energy_lost = (no*I**2*R*T)/(1000*3600)           // Energy lost in motor resistance(kWh)\n",
"useful_energy = T*F_t*V_m/(2*3600**2)             // Useful energy supplied to train(kWh)\n",
"\n",
"// Results\n",
"disp('PART IV - EXAMPLE : 7.2 : SOLUTION :-')\n",
"printf('\nEnergy supplied during the starting period = %.2f kWh', total_energy)\n",
"printf('\nEnergy lost in the starting resistance = %.1f kWh', total_energy_waste)\n",
"printf('\nUseful energy supplied to the train = %.1f kWh', useful_energy)"
   ]
   }
,
{
		   "cell_type": "markdown",
		   "metadata": {},
		   "source": [
			"## Example 45.3: EX45_3.sce"
		   ]
		  },
  {
"cell_type": "code",
	   "execution_count": null,
	   "metadata": {
	    "collapsed": true
	   },
	   "outputs": [],
"source": [
"// A Texbook on POWER SYSTEM ENGINEERING\n",
"// A.Chakrabarti, M.L.Soni, P.V.Gupta, U.S.Bhatnagar\n",
"// DHANPAT RAI & Co.\n",
"// SECOND EDITION \n",
"\n",
"// PART IV : UTILIZATION AND TRACTION\n",
"// CHAPTER 7: CONTROL OF MOTORS\n",
"\n",
"// EXAMPLE : 7.3 :\n",
"// Page number 799\n",
"clear ; clc ; close ; // Clear the work space and console\n",
"\n",
"// Given data\n",
"W = 132.0          // Weight of electric train(tonnes)\n",
"no = 4.0           // Number of motors\n",
"V = 600.0          // Voltage of motor(V)\n",
"I = 400.0          // Current per motor(A)\n",
"F_t_m = 19270.0    // Tractive effort per motor at 400A & 600V(N)\n",
"V_m = 39.0         // Train speed(kmph)\n",
"G = 1.0            // Gradient\n",
"r = 44.5           // Resistance to traction(N/tonne)\n",
"inertia = 10.0     // Rotational inertia(%)\n",
"R = 0.1            // Resistance of each motor(ohm)\n",
"\n",
"// Calculations\n",
"W_e = W*(100+inertia)/100                              // Accelerating weight of train(tonne)\n",
"F_t = F_t_m*no                                         // Total tractive effort at 400A & 600V(N)\n",
"alpha = (F_t-W*r-98.1*W*G)/(277.8*W_e)                 // Acceleration(km phps)\n",
"T = V_m/alpha                                          // Time for acceleration(sec)\n",
"t_s = (V-2*I*R)*T/(2*(V-I*R))                          // Duration of starting period(sec)\n",
"V_transition = alpha*t_s                               // Speed at transition(km phps)\n",
"t_p = T-t_s                                            // (sec)\n",
"loss_series = (no/2*((V-2*I*R)/2)*I*t_s)/(1000*3600)   // Energy lost during series period(kWh)\n",
"loss_parallel = (no*(V/2)/2*I*t_p)/(1000*3600)         // Energy lost during parallel period(kWh)\n",
"\n",
"// Results\n",
"disp('PART IV - EXAMPLE : 7.3 : SOLUTION :-')\n",
"printf('\nCase(i)  : Duration of starting period, t_s = %.1f sec', t_s)\n",
"printf('\nCase(ii) : Speed of train at transition, αt = %.1f sec', V_transition)\n",
"printf('\nCase(iii): Case(a): Rheostatic losses during series starting = %.2f kWh', loss_series)\n",
"printf('\n           Case(b): Rheostatic losses during parallel starting = %.2f kWh\n', loss_parallel)\n",
"printf('\nNOTE: ERROR: Calculation mistakes in the textbook solution')"
   ]
   }
],
"metadata": {
		  "kernelspec": {
		   "display_name": "Scilab",
		   "language": "scilab",
		   "name": "scilab"
		  },
		  "language_info": {
		   "file_extension": ".sce",
		   "help_links": [
			{
			 "text": "MetaKernel Magics",
			 "url": "https://github.com/calysto/metakernel/blob/master/metakernel/magics/README.md"
			}
		   ],
		   "mimetype": "text/x-octave",
		   "name": "scilab",
		   "version": "0.7.1"
		  }
		 },
		 "nbformat": 4,
		 "nbformat_minor": 0
}
