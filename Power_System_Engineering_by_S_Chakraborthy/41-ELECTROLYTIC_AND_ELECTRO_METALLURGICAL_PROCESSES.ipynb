{
"cells": [
 {
		   "cell_type": "markdown",
	   "metadata": {},
	   "source": [
       "# Chapter 41: ELECTROLYTIC AND ELECTRO METALLURGICAL PROCESSES"
	   ]
	},
{
		   "cell_type": "markdown",
		   "metadata": {},
		   "source": [
			"## Example 41.1: Quantity_of_electricity_and_Time_taken_for_the_process.sce"
		   ]
		  },
  {
"cell_type": "code",
	   "execution_count": null,
	   "metadata": {
	    "collapsed": true
	   },
	   "outputs": [],
"source": [
"// A Texbook on POWER SYSTEM ENGINEERING\n",
"// A.Chakrabarti, M.L.Soni, P.V.Gupta, U.S.Bhatnagar\n",
"// DHANPAT RAI & Co.\n",
"// SECOND EDITION \n",
"\n",
"// PART IV : UTILIZATION AND TRACTION\n",
"// CHAPTER 3: ELECTROLYTIC AND ELECTRO-METALLURGICAL PROCESSES\n",
"\n",
"// EXAMPLE : 3.1 :\n",
"// Page number 747-748\n",
"clear ; clc ; close ; // Clear the work space and console\n",
"\n",
"// Given data\n",
"l = 20.0      // Length of shaft(cm)\n",
"d = 10.0      // Diameter of shaft(cm)\n",
"thick = 1.5   // Layer of nickel(mm)\n",
"J = 195.0     // Current density(A/sq.m)\n",
"n_I = 0.92    // Current efficiency\n",
"g = 8.9       // Specific gravity of nickel\n",
"\n",
"// Calculations\n",
"Wt = %pi*l*d*thick/10*g*10**-3        // Weight of nickel to be deposited(kg)\n",
"ece_nickel = 1.0954                   // Electro-chemical equivalent of nickel(kg/1000 Ah)\n",
"Q_I = Wt*1000/(ece_nickel*n_I)        // Quantity of electricity required(Ah)\n",
"time = Q_I/(%pi*l*d*10**-4*J)         // Time taken(hours)\n",
"\n",
"// Results\n",
"disp('PART IV - EXAMPLE : 3.1 : SOLUTION :-')\n",
"printf('\nQuantity of electricity = %.f Ah', Q_I)\n",
"printf('\nTime taken for the process = %.f hours', time)"
   ]
   }
,
{
		   "cell_type": "markdown",
		   "metadata": {},
		   "source": [
			"## Example 41.2: Annual_output_of_refined_copper_and_Energy_consumption.sce"
		   ]
		  },
  {
"cell_type": "code",
	   "execution_count": null,
	   "metadata": {
	    "collapsed": true
	   },
	   "outputs": [],
"source": [
"// A Texbook on POWER SYSTEM ENGINEERING\n",
"// A.Chakrabarti, M.L.Soni, P.V.Gupta, U.S.Bhatnagar\n",
"// DHANPAT RAI & Co.\n",
"// SECOND EDITION \n",
"\n",
"// PART IV : UTILIZATION AND TRACTION\n",
"// CHAPTER 3: ELECTROLYTIC AND ELECTRO-METALLURGICAL PROCESSES\n",
"\n",
"// EXAMPLE : 3.2 :\n",
"// Page number 748\n",
"clear ; clc ; close ; // Clear the work space and console\n",
"\n",
"// Given data\n",
"no_cells = 600.0    // Number of cells employed for copper refining\n",
"I = 4000.0          // Current(A)\n",
"V = 0.3             // Voltage per cell(V)\n",
"hour = 90.0         // Time of plant operation(hours)\n",
"ece_cu = 1.1844     // Electro-chemical equivalent of copper(kg/1000 Ah)\n",
"\n",
"// Calculations\n",
"Ah_week  = I*hour                           // Ah per week per cell\n",
"Ah_year = Ah_week*52                        // Ah per year per cell\n",
"Wt = no_cells*ece_cu*Ah_year/(1000*10**3)   // Weight of copper refined per year(tonnes)\n",
"energy = V*I*no_cells*hour*52/1000          // Energy consumed(kWh)\n",
"consumption = energy/Wt                     // Consumption(kWh/tonne)\n",
"\n",
"// Results\n",
"disp('PART IV - EXAMPLE : 3.2 : SOLUTION :-')\n",
"printf('\nAnnual output of refined copper = %.f tonnes', Wt)\n",
"printf('\nEnergy consumption = %.1f kWh/tonne\n', consumption)\n",
"printf('\nNOTE: ERROR: Substitution & calculation mistake in the textbook solution')"
   ]
   }
,
{
		   "cell_type": "markdown",
		   "metadata": {},
		   "source": [
			"## Example 41.3: Weight_of_aluminium_produced_from_aluminium_oxide.sce"
		   ]
		  },
  {
"cell_type": "code",
	   "execution_count": null,
	   "metadata": {
	    "collapsed": true
	   },
	   "outputs": [],
"source": [
"// A Texbook on POWER SYSTEM ENGINEERING\n",
"// A.Chakrabarti, M.L.Soni, P.V.Gupta, U.S.Bhatnagar\n",
"// DHANPAT RAI & Co.\n",
"// SECOND EDITION \n",
"\n",
"// PART IV : UTILIZATION AND TRACTION\n",
"// CHAPTER 3: ELECTROLYTIC AND ELECTRO-METALLURGICAL PROCESSES\n",
"\n",
"// EXAMPLE : 3.3 :\n",
"// Page number 748\n",
"clear ; clc ; close ; // Clear the work space and console\n",
"\n",
"// Given data\n",
"hour = 24.0         // Time(hour)\n",
"I = 3500.0          // Average current(A)\n",
"n = 0.9             // Current efficiency\n",
"valency = 3.0       // Aluminium valency\n",
"w = 27.0            // Atomic weight of aluminium\n",
"ece_Ag = 107.98     // Electro-chemical equivalent of silver\n",
"Wt_dep = 0.00111    // Silver deposition by one coulomb(gm)\n",
"\n",
"// Calculations\n",
"chemical_eq_Al = w/valency                    // Chemical equivalent of aluminium\n",
"eme_Al  = Wt_dep/ece_Ag*chemical_eq_Al        // Electro-chemical equivalent of aluminium(gm/coulomb)\n",
"Wt_Al_liberated = I*hour*3600*n*eme_Al/1000   // Weight of aluminium liberated(Kg)\n",
"\n",
"// Results\n",
"disp('PART IV - EXAMPLE : 3.3 : SOLUTION :-')\n",
"printf('\nWeight of aluminium produced from aluminium oxide = %.1f kg', Wt_Al_liberated)"
   ]
   }
],
"metadata": {
		  "kernelspec": {
		   "display_name": "Scilab",
		   "language": "scilab",
		   "name": "scilab"
		  },
		  "language_info": {
		   "file_extension": ".sce",
		   "help_links": [
			{
			 "text": "MetaKernel Magics",
			 "url": "https://github.com/calysto/metakernel/blob/master/metakernel/magics/README.md"
			}
		   ],
		   "mimetype": "text/x-octave",
		   "name": "scilab",
		   "version": "0.7.1"
		  }
		 },
		 "nbformat": 4,
		 "nbformat_minor": 0
}
