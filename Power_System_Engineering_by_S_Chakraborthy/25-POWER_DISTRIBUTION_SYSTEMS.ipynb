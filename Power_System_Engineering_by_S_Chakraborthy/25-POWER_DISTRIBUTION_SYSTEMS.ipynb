{
"cells": [
 {
		   "cell_type": "markdown",
	   "metadata": {},
	   "source": [
       "# Chapter 25: POWER DISTRIBUTION SYSTEMS"
	   ]
	},
{
		   "cell_type": "markdown",
		   "metadata": {},
		   "source": [
			"## Example 25.1: Potential_of_O_and_Current_leaving_each_supply_point.sce"
		   ]
		  },
  {
"cell_type": "code",
	   "execution_count": null,
	   "metadata": {
	    "collapsed": true
	   },
	   "outputs": [],
"source": [
"// A Texbook on POWER SYSTEM ENGINEERING\n",
"// A.Chakrabarti, M.L.Soni, P.V.Gupta, U.S.Bhatnagar\n",
"// DHANPAT RAI & Co.\n",
"// SECOND EDITION \n",
"\n",
"// PART II : TRANSMISSION AND DISTRIBUTION\n",
"// CHAPTER 18: POWER DISTRIBUTION SYSTEMS\n",
"\n",
"// EXAMPLE : 18.1 :\n",
"// Page number 437\n",
"clear ; clc ; close ; // Clear the work space and console\n",
"\n",
"// Given data\n",
"V_A = 225.0    // Potential at point A(V)\n",
"R_A = 5.0      // Resistance of line A(ohm)\n",
"V_B = 210.0    // Potential at point B(V)\n",
"R_B = 1.0      // Resistance of line B(ohm)\n",
"V_C = 230.0    // Potential at point C(V)\n",
"R_C = 1.0      // Resistance of line C(ohm)\n",
"V_D = 230.0    // Potential at point D(V)\n",
"R_D = 2.0      // Resistance of line D(ohm)\n",
"V_E = 240.0    // Potential at point E(V)\n",
"R_E = 2.0      // Resistance of line E(ohm)\n",
"\n",
"// Calculations\n",
"V_0 = ((V_A/R_A)+(V_B/R_B)+(V_C/R_C)+(V_D/R_D)+(V_E/R_E))/((1/R_A)+(1/R_B)+(1/R_C)+(1/R_D)+(1/R_E))   // Potential at point O(V)\n",
"I_A = (V_A-V_0)/R_A        // Current leaving supply point A(A)\n",
"I_B = (V_B-V_0)/R_B        // Current leaving supply point B(A)\n",
"I_C = (V_C-V_0)/R_C        // Current leaving supply point C(A)\n",
"I_D = (V_D-V_0)/R_D        // Current leaving supply point D(A)\n",
"I_E = (V_E-V_0)/R_E        // Current leaving supply point E(A)\n",
"\n",
"// Results\n",
"disp('PART II - EXAMPLE : 18.1 : SOLUTION :-')\n",
"printf('\nPotential of point O, V_0 = %.f V', V_0)\n",
"printf('\nCurrent leaving supply point A, I_A = %.f A', I_A)\n",
"printf('\nCurrent leaving supply point B, I_B = %.f A', I_B)\n",
"printf('\nCurrent leaving supply point C, I_C = %.f A', I_C)\n",
"printf('\nCurrent leaving supply point D, I_D = %.2f A', I_D)\n",
"printf('\nCurrent leaving supply point E, I_E = %.2f A', I_E)"
   ]
   }
,
{
		   "cell_type": "markdown",
		   "metadata": {},
		   "source": [
			"## Example 25.2: EX25_2.sce"
		   ]
		  },
  {
"cell_type": "code",
	   "execution_count": null,
	   "metadata": {
	    "collapsed": true
	   },
	   "outputs": [],
"source": [
"// A Texbook on POWER SYSTEM ENGINEERING\n",
"// A.Chakrabarti, M.L.Soni, P.V.Gupta, U.S.Bhatnagar\n",
"// DHANPAT RAI & Co.\n",
"// SECOND EDITION \n",
"\n",
"// PART II : TRANSMISSION AND DISTRIBUTION\n",
"// CHAPTER 18: POWER DISTRIBUTION SYSTEMS\n",
"\n",
"// EXAMPLE : 18.2 :\n",
"// Page number 437-438\n",
"clear ; clc ; close ; // Clear the work space and console\n",
"\n",
"// Given data\n",
"I = 600.0         // Constant current drawn(A)\n",
"D = 8.0           // Distance b/w two sub-stations(km)\n",
"V_A = 575.0       // Potential at point A(V)\n",
"V_B = 590.0       // Potential at point B(V)\n",
"R = 0.04          // Track resistance(ohm/km)\n",
"\n",
"// Calculations\n",
"x = poly(0,'x')                               // x(km)\n",
"I_A = ((-V_B+R*I*D+V_A)-(R*I)*x)/(D*R)        // Simplifying\n",
"V_P = V_A-I_A*R*x                             // Potential at P in terms of x(V)\n",
"dVP_dx = derivat(V_P)                         // dV_P/dx\n",
"x_sol = roots(dVP_dx)                         // Value of x(km)\n",
"I_A_1 = ((-V_B+R*I*D+V_A)-(R*I)*x_sol)/(D*R)  // Current drawn from end A(A)\n",
"I_B = I-I_A_1                                 // Current drawn from end B(A)\n",
"\n",
"// Results\n",
"disp('PART II - EXAMPLE : 18.2 : SOLUTION :-')\n",
"printf('\nPoint of minimum potential along the track, x = %.2f km', x_sol)\n",
"printf('\nCurrent supplied by station A, I_A = %.f A', I_A_1)\n",
"printf('\nCurrent supplied by station B, I_B = %.f A \n', I_B)\n",
"printf('\nNOTE: ERROR: Calculation mistake in the textbook solution')"
   ]
   }
,
{
		   "cell_type": "markdown",
		   "metadata": {},
		   "source": [
			"## Example 25.3: Position_of_lowest_run_lamp_and_its_Voltage.sce"
		   ]
		  },
  {
"cell_type": "code",
	   "execution_count": null,
	   "metadata": {
	    "collapsed": true
	   },
	   "outputs": [],
"source": [
"// A Texbook on POWER SYSTEM ENGINEERING\n",
"// A.Chakrabarti, M.L.Soni, P.V.Gupta, U.S.Bhatnagar\n",
"// DHANPAT RAI & Co.\n",
"// SECOND EDITION \n",
"\n",
"// PART II : TRANSMISSION AND DISTRIBUTION\n",
"// CHAPTER 18: POWER DISTRIBUTION SYSTEMS\n",
"\n",
"// EXAMPLE : 18.3 :\n",
"// Page number 438-439\n",
"clear ; clc ; close ; // Clear the work space and console\n",
"\n",
"// Given data\n",
"l = 400.0          // Length of cable(m)\n",
"i = 1.0            // Load(A/m)\n",
"I_1 = 120.0        // Current at 40m from end A(A)\n",
"l_1 = 40.0         // Distance from end A(A)\n",
"I_2 = 72.0         // Current at 72m from end A(A)\n",
"l_2 = 120.0        // Distance from end A(A)\n",
"I_3 = 48.0         // Current at 200m from end A(A)\n",
"l_3 = 200.0        // Distance from end A(A)\n",
"I_4 = 120.0        // Current at 320m from end A(A)\n",
"l_4 = 320.0        // Distance from end A(A)\n",
"r = 0.15           // Cable resistance(ohm/km)\n",
"V_A = 250.0        // Voltage at end A(A)\n",
"V_B = 250.0        // Voltage at end A(A)\n",
"\n",
"// Calculations\n",
"I = poly(0,'I')                                                      // Current from end A(A)\n",
"A_A1 = l_1*r*(I-(1.0/2)*i*l_1)                                       // Drop over length(V)\n",
"I_d_1 = 40.0                                                         // Distributed tapped off current(A)\n",
"I_A1_A2 = I-l_1-l_2                                                  // Current fed in over length(A)\n",
"A1_A2 = (l_2-l_1)*r*(I_A1_A2-(1.0/2)*i*(l_2-l_1))                    // Drop over length(V)\n",
"I_d_2 = 80.0                                                         // Distributed tapped off current(A)\n",
"I_A2_A3 = I_A1_A2-(I_2+I_d_2)                                        // Current fed in over length(A)\n",
"A2_A3 = (l_3-l_2)*r*(I_A2_A3-(1.0/2)*i*(l_3-l_2))                    // Drop over length(V)\n",
"I_d_3 = 80.0                                                         // Distributed tapped off current(A)\n",
"I_A3_A4 = I_A2_A3-(I_3+I_d_3)                                        // Current fed in over length(A)\n",
"A3_A4 = (l_4-l_3)*r*(I_A3_A4-(1.0/2)*i*(l_4-l_3))                    // Drop over length(V)\n",
"I_d_4 = 120.0                                                        // Distributed tapped off current(A)\n",
"I_A4_B = I_A3_A4-(I_4+I_d_4)                                         // Current fed in over length(A)\n",
"A4_B = (l-l_4)*r*(I_A4_B-(1.0/2)*i*(l-l_4))                          // Drop over length(V)\n",
"V_drop = A_A1+A1_A2+A2_A3+A3_A4+A4_B                                 // Total voltage drop in terms of I\n",
"I = roots(V_drop)                                                    // Current(A)\n",
"I_total = 760.0                                                      // Total load current(A)\n",
"I_B = I_total-I                                                      // Current from B(A)\n",
"A_A3 = 2.0*r/1000*(l_1*(I-20)+(l_2-l_1)*(I-200)+(l_3-l_2)*(I-352))   // Potential drop over length A_A3(V)\n",
"V_A3 = V_A-A_A3                                                      // Voltage at the lowest run lamp(V)\n",
"\n",
"// Results\n",
"disp('PART II - EXAMPLE : 18.3 : SOLUTION :-')\n",
"printf('\nPosition of lowest-run lamp, A_3 = %.f m', l_3)\n",
"printf('\nVoltage at the lowest-run lamp = %.1f V', V_A3)"
   ]
   }
,
{
		   "cell_type": "markdown",
		   "metadata": {},
		   "source": [
			"## Example 25.4: Point_of_minimum_potential_and_its_Potential.sce"
		   ]
		  },
  {
"cell_type": "code",
	   "execution_count": null,
	   "metadata": {
	    "collapsed": true
	   },
	   "outputs": [],
"source": [
"// A Texbook on POWER SYSTEM ENGINEERING\n",
"// A.Chakrabarti, M.L.Soni, P.V.Gupta, U.S.Bhatnagar\n",
"// DHANPAT RAI & Co.\n",
"// SECOND EDITION \n",
"\n",
"// PART II : TRANSMISSION AND DISTRIBUTION\n",
"// CHAPTER 18: POWER DISTRIBUTION SYSTEMS\n",
"\n",
"// EXAMPLE : 18.4 :\n",
"// Page number 439\n",
"clear ; clc ; close ; // Clear the work space and console\n",
"\n",
"// Given data\n",
"l = 450.0          // Length of wire(m)\n",
"V_A = 250.0        // Voltage at end A(V)\n",
"V_B = 250.0        // Voltage at end A(V)\n",
"r = 0.05           // Conductor resistance(ohm/km)\n",
"i = 1.5            // Load(A/m)\n",
"I_C = 20.0         // Current at C(A)\n",
"l_C = 60.0         // Distance to C from A(m)\n",
"I_D = 40.0         // Current at D(A)\n",
"l_D = 100.0        // Distance to D from A(m)\n",
"l_E = 200.0        // Distance to E from A(m)\n",
"\n",
"// Calculations\n",
"x = poly(0,'x')                                  // Current to point D from end A(A)\n",
"AD = (I_C+x)*r*l_C+x*r*(l_D-l_C)                 // Drop in length AD\n",
"BD = (i*r*V_A**2/2)+(I_D-x)*r*(450-l_D)          // Drop in length BD\n",
"x_sol = roots(AD-BD)                             // Current(A)\n",
"I_F = x_sol-I_D                                  // Current supplied to load from end A(A)\n",
"l_F = l_E+(I_F/i)                                // Point of minimum potential at F from A(m)\n",
"V_F = V_B-(375.0-I_F)*(250-(l_F-200))*r/1000     // Potential at F from end B(V)\n",
"\n",
"// Results\n",
"disp('PART II - EXAMPLE : 18.4 : SOLUTION :-')\n",
"printf('\nPoint of minimum potential occurs at F from A = %.2f metres', l_F)\n",
"printf('\nPotential at point F = %.2f V', V_F)"
   ]
   }
,
{
		   "cell_type": "markdown",
		   "metadata": {},
		   "source": [
			"## Example 25.6: Ratio_of_weight_of_copper_with_and_without_interconnector.sce"
		   ]
		  },
  {
"cell_type": "code",
	   "execution_count": null,
	   "metadata": {
	    "collapsed": true
	   },
	   "outputs": [],
"source": [
"// A Texbook on POWER SYSTEM ENGINEERING\n",
"// A.Chakrabarti, M.L.Soni, P.V.Gupta, U.S.Bhatnagar\n",
"// DHANPAT RAI & Co.\n",
"// SECOND EDITION \n",
"\n",
"// PART II : TRANSMISSION AND DISTRIBUTION\n",
"// CHAPTER 18: POWER DISTRIBUTION SYSTEMS\n",
"\n",
"// EXAMPLE : 18.6 :\n",
"// Page number 440-441\n",
"clear ; clc ; close ; // Clear the work space and console\n",
"\n",
"// Given data\n",
"l_AB = 100.0         // Length between A & B(m)\n",
"l_BC = 150.0         // Length between B & C(m)\n",
"l_CD = 200.0         // Length between C & D(m)\n",
"l_AD = 350.0         // Length between A & D(m)\n",
"l_AE = 200.0         // Length between A & E(m)\n",
"l_ED = 250.0         // Length between E & D(m)\n",
"I_B = 10.0           // Current at B(A)\n",
"I_C = 20.0           // Current at C(A)\n",
"I_D = 50.0           // Current at D(A)\n",
"I_E = 39.0           // Current at E(A)\n",
"\n",
"// Calculations\n",
"x = poly(0,'x')                                                     // Current in section AB(A)\n",
"ABCDEA = x*l_AB+(x-I_B)*l_BC+(x-I_B-I_C)*l_CD+(x-I_B-I_C-I_D)*l_ED+(x-I_B-I_C-I_D-I_E)*l_AE   // KVL around loop ABCDEA\n",
"x_sol = roots(ABCDEA)                                               // Current in section AB(A)\n",
"V_AD = x_sol*l_AB+(x_sol-I_B)*l_BC+(x_sol-I_B-I_C)*l_CD             // Voltage drop from A to D in terms of ρ/a_1(V)\n",
"R_AD = (l_AB+l_BC+l_CD)*(l_AE+l_ED)/(l_AB+l_BC+l_CD+l_AE+l_ED)      // Resistance of n/w across terminals AD in terms of ρ/a\n",
"I_AD = V_AD/(R_AD+l_AD)                                             // Current in interconnector AD(A)\n",
"V_A_D = I_AD*l_AD                                                   // Voltage drop between A & D in terms of ρ/a_2\n",
"a2_a1 = V_A_D/V_AD\n",
"length_with = (l_AB+l_BC+l_CD+l_AE+l_ED+l_AD)                       // Length of conductor with interconnector(m)\n",
"length_without = (l_AB+l_BC+l_CD+l_AE+l_ED)                         // Length of conductor without interconnector(m)\n",
"volume_with = a2_a1*length_with/length_without                      // Weight of copper with interconnector\n",
"\n",
"// Results\n",
"disp('PART II - EXAMPLE : 18.6 : SOLUTION :-')\n",
"printf('\nRatio of weight of copper with & without interconnector = %.3f : 1 (or) 1 : %.2f', volume_with,1/volume_with)"
   ]
   }
,
{
		   "cell_type": "markdown",
		   "metadata": {},
		   "source": [
			"## Example 25.7: Potential_difference_at_each_load_point.sce"
		   ]
		  },
  {
"cell_type": "code",
	   "execution_count": null,
	   "metadata": {
	    "collapsed": true
	   },
	   "outputs": [],
"source": [
"// A Texbook on POWER SYSTEM ENGINEERING\n",
"// A.Chakrabarti, M.L.Soni, P.V.Gupta, U.S.Bhatnagar\n",
"// DHANPAT RAI & Co.\n",
"// SECOND EDITION \n",
"\n",
"// PART II : TRANSMISSION AND DISTRIBUTION\n",
"// CHAPTER 18: POWER DISTRIBUTION SYSTEMS\n",
"\n",
"// EXAMPLE : 18.7 :\n",
"// Page number 441-442\n",
"clear ; clc ; close ; // Clear the work space and console\n",
"\n",
"// Given data\n",
"r_out = 0.05             // Resistance of each outer per 100 metre length(ohm)\n",
"r_neutral = 0.10         // Resistance of each neutral per 100 metre length(ohm)\n",
"V_A = 200.0              // Potential at point A(V)\n",
"V_B = 200.0              // Potential at point B(V)\n",
"l_AC = 100.0             // Length between A & C(m)\n",
"l_CD = 150.0             // Length between C & D(m)\n",
"l_DB = 200.0             // Length between D & B(m)\n",
"l_AF = 200.0             // Length between A & F(m)\n",
"l_FE = 100.0             // Length between F & E(m)\n",
"l_EB = 150.0             // Length between E & B(m)\n",
"I_C = 20.0               // Current at point C(A)\n",
"I_D = 30.0               // Current at point D(A)\n",
"I_F = 60.0               // Current at point F(A)\n",
"I_E = 40.0               // Current at point E(A)\n",
"\n",
"// Calculations\n",
"x = poly(0,'x')                                                   // Current in positive outer alone(A)\n",
"equ_1 = r_out*(l_DB*(I_D-x))-r_out*(l_AC*(I_C+x)+l_CD*x)\n",
"x_sol = roots(equ_1)                                              // Current in positive outer alone(A)\n",
"y = poly(0,'y')                                                   // Current in negative outer alone(A)\n",
"equ_2 = r_out*((I_E-y)*l_FE+(I_E+I_F-y)*l_AF)-r_out*(l_EB*y)\n",
"y_sol = roots(equ_2)                                              // Current in negative outer alone(A)\n",
"I_pos_out = I_C+x_sol                                             // Current entering positive outer(A)\n",
"I_neg_out = I_E+I_F-y_sol                                         // Current returning via negative outer(A)\n",
"I_middle = I_neg_out-I_pos_out                                    // Current in the middle wire towards G(A)\n",
"r_CD = r_out*l_CD/100.0                                           // Resistance between C & D(ohm)\n",
"r_D = r_out*l_DB/100.0                                            // Resistance between D & B(ohm)\n",
"r_IH = r_neutral*l_FE*0.5/100.0                                   // Resistance between I & H(ohm)\n",
"r_IJ = r_neutral*l_FE*0.5/100.0                                   // Resistance between I & J(ohm)\n",
"r_GH = r_neutral*l_AF*0.5/100.0                                   // Resistance between G & H(ohm)\n",
"r_AF = r_out*l_AF/100.0                                           // Resistance between A & F(ohm)\n",
"I_CD = x_sol                                                      // Current flowing into D from C(A)\n",
"I_out_D = I_D-x_sol                                               // Current flowing into D from outer side(A)\n",
"I_GH = I_C+I_middle                                               // Current flowing into H from G(A)\n",
"I_IH = I_F-I_GH                                                   // Current flowing into H from I(A)\n",
"I_BJ = I_E-(I_D-I_IH)                                             // Current flowing into J from B(A)\n",
"I_FE = y_sol-I_E                                                  // Current flowing into E from F(A)\n",
"I_IJ = I_D-I_IH                                                   // Current flowing into J from I(A)\n",
"V_C = V_A-(I_pos_out*r_out-I_middle*r_neutral)                    // Potential at load point C(A)\n",
"V_D = V_C-(I_CD*r_CD+I_IH*r_IH-I_GH*r_GH)                         // Potential at load point D(A)\n",
"V_F = V_A-(I_middle*r_neutral+I_GH*r_neutral+I_neg_out*r_AF)      // Potential at load point F(A)\n",
"V_E = V_F-(-I_IH*r_IH+I_IJ*r_IJ-I_FE*r_out)                       // Potential at load point E(A)\n",
"\n",
"// Results\n",
"disp('PART II - EXAMPLE : 18.7 : SOLUTION :-')\n",
"printf('\nPotential difference at load point C = %.3f V', V_C)\n",
"printf('\nPotential difference at load point D = %.3f V', V_D)\n",
"printf('\nPotential difference at load point E = %.3f V', V_E)\n",
"printf('\nPotential difference at load point F = %.3f V', V_F)"
   ]
   }
,
{
		   "cell_type": "markdown",
		   "metadata": {},
		   "source": [
			"## Example 25.8: Load_on_the_main_generators_and_On_each_balancer_machine.sce"
		   ]
		  },
  {
"cell_type": "code",
	   "execution_count": null,
	   "metadata": {
	    "collapsed": true
	   },
	   "outputs": [],
"source": [
"// A Texbook on POWER SYSTEM ENGINEERING\n",
"// A.Chakrabarti, M.L.Soni, P.V.Gupta, U.S.Bhatnagar\n",
"// DHANPAT RAI & Co.\n",
"// SECOND EDITION \n",
"\n",
"// PART II : TRANSMISSION AND DISTRIBUTION\n",
"// CHAPTER 18: POWER DISTRIBUTION SYSTEMS\n",
"\n",
"// EXAMPLE : 18.8 :\n",
"// Page number 442-443\n",
"clear ; clc ; close ; // Clear the work space and console\n",
"\n",
"// Given data\n",
"V = 440.0            // Voltage between outer(V)\n",
"I_pos = 210.0        // Ligting load current on positive side(A)\n",
"I_neg = 337.0        // Ligting load current on negative side(A)\n",
"I_power = 400.0      // Power load current(A)\n",
"P_loss = 1.5         // Loss in each balancer machine(kW)\n",
"\n",
"// Calculations\n",
"P = I_power*V/1000.0                          // Power(kW)\n",
"load_pos = I_pos*V*0.5/1000.0                 // Load on positive side(kW)\n",
"load_neg = I_neg*V*0.5/1000.0                 // Load on negative side(kW)\n",
"loss_total = 2*P_loss                         // Total loss on rotary balancer set(kW)\n",
"load_main = P+load_pos+load_neg+loss_total    // Load on main machine(kW)\n",
"I = load_main*1000/V                          // Current(A)\n",
"I_M = I-610.0                                 // Current through balancer machine(A)\n",
"I_G = 127.0-I_M                               // Current through generator(A)\n",
"output_G = I_G*V*0.5/1000.0                   // Output of generator(kW)\n",
"input_M = I_M*V*0.5/1000.0                    // Input to balancer machine(kW)\n",
"\n",
"// Results\n",
"disp('PART II - EXAMPLE : 18.8 : SOLUTION :-')\n",
"printf('\nLoad on the main machine = %.2f kW', load_main)\n",
"printf('\nOutput of generator = %.2f kW', output_G)\n",
"printf('\nInput to balancer machine = %.2f kW', input_M)"
   ]
   }
,
{
		   "cell_type": "markdown",
		   "metadata": {},
		   "source": [
			"## Example 25.9: Currents_in_various_sections_and_Voltage_at_load_point_C.sce"
		   ]
		  },
  {
"cell_type": "code",
	   "execution_count": null,
	   "metadata": {
	    "collapsed": true
	   },
	   "outputs": [],
"source": [
"// A Texbook on POWER SYSTEM ENGINEERING\n",
"// A.Chakrabarti, M.L.Soni, P.V.Gupta, U.S.Bhatnagar\n",
"// DHANPAT RAI & Co.\n",
"// SECOND EDITION \n",
"\n",
"// PART II : TRANSMISSION AND DISTRIBUTION\n",
"// CHAPTER 18: POWER DISTRIBUTION SYSTEMS\n",
"\n",
"// EXAMPLE : 18.9 :\n",
"// Page number 444\n",
"clear ; clc ; close ; // Clear the work space and console\n",
"\n",
"// Given data\n",
"V_a = 11.0*10**3             // Line voltage at A(V)\n",
"Z_AB = complex(1.0,0.8)      // Impedance between A & B(ohm)\n",
"Z_AC = complex(3.0,2.0)      // Impedance between A & C(ohm)\n",
"Z_BD = complex(3.0,4.0)      // Impedance between B & D(ohm)\n",
"Z_CD = complex(1.0,0.7)      // Impedance between C & D(ohm)\n",
"I_B = 60.0                   // Current at B(A)\n",
"I_C = 30.0                   // Current at C(A)\n",
"I_D = 50.0                   // Current at D(A)\n",
"pf_B = 0.8                   // Power factor at B\n",
"pf_C = 0.9                   // Power factor at C\n",
"pf_D = 0.707                 // Power factor at D\n",
"\n",
"// Calculations\n",
"sin_phi_B = (1-pf_B**2)**0.5\n",
"I_B1 = I_B*(pf_B-%i*sin_phi_B)      // Load current(A)\n",
"sin_phi_C = (1-pf_C**2)**0.5\n",
"I_C1 = I_C*(pf_C-%i*sin_phi_C)      // Load current(A)\n",
"sin_phi_D = (1-pf_D**2)**0.5\n",
"I_D1 = I_D*(pf_D-%i*sin_phi_D)      // Load current(A)\n",
"V_A = V_a/3**0.5                    // Phase voltage at A(V)\n",
"I_AC = I_C1                         // Current in section AC when C & D is removed(A)\n",
"I_BD = I_D1                         // Current in section BD when C & D is removed(A)\n",
"I_AB = I_B1+I_D1                    // Current in section AB when C & D is removed(A)\n",
"V_AC_drop = I_AC*Z_AC               // Voltage drop at section AC(V)\n",
"V_AB_drop = I_AB*Z_AB               // Voltage drop at section AB(V)\n",
"V_BD_drop = I_BD*Z_BD               // Voltage drop at section BD(V)\n",
"V_drop_D = V_BD_drop+V_AB_drop      // Total drop upto D(V)\n",
"pd_CD = V_drop_D-V_AC_drop          // Potential difference between C & D(V)\n",
"Z_C_D = Z_AB+Z_BD+Z_AC              // Impedance of network looking from terminal C & D(ohm)\n",
"I_CD = pd_CD/(Z_C_D+Z_CD)           // Current flowing in section CD(A)\n",
"I_AC = I_CD+I_C1                    // Current flowing in section AC(A)\n",
"I_BD = I_D1-I_CD                    // Current flowing in section BD(A)\n",
"I_AB = I_BD+I_B1                    // Current flowing in section AB(A)\n",
"V_drop_AC = I_AC*Z_AC               // Drop caused by current flowing in section AC(V/phase)\n",
"V_drop_AC_line = V_drop_AC*3**0.5   // Drop caused by current flowing in section AC(V)\n",
"V_C = V_a-V_drop_AC_line            // Voltage at C(V)\n",
"\n",
"// Results\n",
"disp('PART II - EXAMPLE : 18.9 : SOLUTION :-')\n",
"printf('\nCurrent in section CD, I_CD = (%.2f%.2fj) A', real(I_CD),imag(I_CD))\n",
"printf('\nCurrent in section AC, I_AC = (%.2f%.2fj) A', real(I_AC),imag(I_AC))\n",
"printf('\nCurrent in section BD, I_BD = (%.2f%.2fj) A', real(I_BD),imag(I_BD))\n",
"printf('\nCurrent in section AB, I_AB = (%.2f%.2fj) A', real(I_AB),imag(I_AB))\n",
"printf('\nVoltage at load point C = %.2f∠%.2f° kV', abs(V_C)/1000,phasemag(V_C))"
   ]
   }
],
"metadata": {
		  "kernelspec": {
		   "display_name": "Scilab",
		   "language": "scilab",
		   "name": "scilab"
		  },
		  "language_info": {
		   "file_extension": ".sce",
		   "help_links": [
			{
			 "text": "MetaKernel Magics",
			 "url": "https://github.com/calysto/metakernel/blob/master/metakernel/magics/README.md"
			}
		   ],
		   "mimetype": "text/x-octave",
		   "name": "scilab",
		   "version": "0.7.1"
		  }
		 },
		 "nbformat": 4,
		 "nbformat_minor": 0
}
