{
"cells": [
 {
		   "cell_type": "markdown",
	   "metadata": {},
	   "source": [
       "# Chapter 35: PROTECTION OF TRANSFORMERS"
	   ]
	},
{
		   "cell_type": "markdown",
		   "metadata": {},
		   "source": [
			"## Example 35.2: Ratio_of_CTs.sce"
		   ]
		  },
  {
"cell_type": "code",
	   "execution_count": null,
	   "metadata": {
	    "collapsed": true
	   },
	   "outputs": [],
"source": [
"// A Texbook on POWER SYSTEM ENGINEERING\n",
"// A.Chakrabarti, M.L.Soni, P.V.Gupta, U.S.Bhatnagar\n",
"// DHANPAT RAI & Co.\n",
"// SECOND EDITION \n",
"\n",
"// PART III : SWITCHGEAR AND PROTECTION\n",
"// CHAPTER 9: PROTECTION OF TRANSFORMERS\n",
"\n",
"// EXAMPLE : 9.2 :\n",
"// Page number 635-636\n",
"clear ; clc ; close ; // Clear the work space and console\n",
"\n",
"// Given data\n",
"V_lv = 220.0                 // LV side voltage of transformer(V)\n",
"V_hv = 11000.0               // HV side voltage of transformer(V)\n",
"ratio_CT = 600.0/(5/3**0.5)  // CT ratio on LV side of transformer\n",
"\n",
"// Calculations\n",
"CT_pri = 600.0           // Primary CT\n",
"CT_sec = 5.0/3**0.5      // Secondary CT\n",
"I_1 = V_lv/V_hv*CT_pri   // Line current in secondary of transformer corresponding to primary winding(A)\n",
"I_2 = CT_sec*3**0.5      // Current in secondary of CT(A)\n",
"\n",
"// Results\n",
"disp('PART III - EXAMPLE : 9.2 : SOLUTION :-')\n",
"printf('\nRatio of CTs on 11000 V side = %.f : %.f \n', I_1,I_2)\n",
"printf('\nNOTE: ERROR: Mistake in representing the final answer in textbook solution')"
   ]
   }
,
{
		   "cell_type": "markdown",
		   "metadata": {},
		   "source": [
			"## Example 35.3: Ratio_of_CTs_on_high_voltage_side.sce"
		   ]
		  },
  {
"cell_type": "code",
	   "execution_count": null,
	   "metadata": {
	    "collapsed": true
	   },
	   "outputs": [],
"source": [
"// A Texbook on POWER SYSTEM ENGINEERING\n",
"// A.Chakrabarti, M.L.Soni, P.V.Gupta, U.S.Bhatnagar\n",
"// DHANPAT RAI & Co.\n",
"// SECOND EDITION \n",
"\n",
"// PART III : SWITCHGEAR AND PROTECTION\n",
"// CHAPTER 9: PROTECTION OF TRANSFORMERS\n",
"\n",
"// EXAMPLE : 9.3 :\n",
"// Page number 636\n",
"clear ; clc ; close ; // Clear the work space and console\n",
"\n",
"// Given data\n",
"V_lv = 11.0*10**3       // LV side voltage of transformer(V)\n",
"V_hv = 66.0*10**3       // HV side voltage of transformer(V)\n",
"ratio_CT = 250.0/5      // CT ratio on LV side of transformer\n",
"\n",
"// Calculations\n",
"V_hv_phase = V_hv/3**0.5          // HV side phase voltage(V)\n",
"ratio_main_T = V_hv_phase/V_lv    // Ratio of main transformer\n",
"I_2 = 250.0                       // Primary CT\n",
"I_1 = I_2/(ratio_main_T*3**0.5)   // Primary line current(A)\n",
"CT_sec = 5.0                      // Secondary CT\n",
"secondary_side = CT_sec/3**0.5    // HV side CT secondary\n",
"\n",
"// Results\n",
"disp('PART III - EXAMPLE : 9.3 : SOLUTION :-')\n",
"printf('\nRatio of CTs on high voltage side = %.1f : %.1f = (%.f/%.2f√3) : (%.f/√3) ', I_1,secondary_side,I_2,ratio_main_T,CT_sec)"
   ]
   }
,
{
		   "cell_type": "markdown",
		   "metadata": {},
		   "source": [
			"## Example 35.4: Ratio_of_protective_CTs.sce"
		   ]
		  },
  {
"cell_type": "code",
	   "execution_count": null,
	   "metadata": {
	    "collapsed": true
	   },
	   "outputs": [],
"source": [
"// A Texbook on POWER SYSTEM ENGINEERING\n",
"// A.Chakrabarti, M.L.Soni, P.V.Gupta, U.S.Bhatnagar\n",
"// DHANPAT RAI & Co.\n",
"// SECOND EDITION \n",
"\n",
"// PART III : SWITCHGEAR AND PROTECTION\n",
"// CHAPTER 9: PROTECTION OF TRANSFORMERS\n",
"\n",
"// EXAMPLE : 9.4 :\n",
"// Page number 636\n",
"clear ; clc ; close ; // Clear the work space and console\n",
"\n",
"// Given data\n",
"V_hv = 33.0           // HV side voltage of transformer(kV)\n",
"V_lv = 6.6            // LV side voltage of transformer(kV)\n",
"ratio_CT = 100.0/1    // CT ratio on LV side of transformer\n",
"\n",
"// Calculations\n",
"CT_pri = 100.0              // Primary CT\n",
"CT_sec = 1.0                // Secondary CT\n",
"I_hv = V_lv/V_hv*CT_pri     // Line current on HV side(A)\n",
"I_lv = CT_sec/3**0.5        // Line current on LV side(A)\n",
"\n",
"// Results\n",
"disp('PART III - EXAMPLE : 9.4 : SOLUTION :-')\n",
"printf('\nRatio of protective CTs on 33 kV side = %.f : %.f/√3 = %.f : %.f ', I_hv,CT_sec,3**0.5*I_hv,I_lv*3**0.5)"
   ]
   }
,
{
		   "cell_type": "markdown",
		   "metadata": {},
		   "source": [
			"## Example 35.5: CT_ratios_on_high_voltage_side.sce"
		   ]
		  },
  {
"cell_type": "code",
	   "execution_count": null,
	   "metadata": {
	    "collapsed": true
	   },
	   "outputs": [],
"source": [
"// A Texbook on POWER SYSTEM ENGINEERING\n",
"// A.Chakrabarti, M.L.Soni, P.V.Gupta, U.S.Bhatnagar\n",
"// DHANPAT RAI & Co.\n",
"// SECOND EDITION \n",
"\n",
"// PART III : SWITCHGEAR AND PROTECTION\n",
"// CHAPTER 9: PROTECTION OF TRANSFORMERS\n",
"\n",
"// EXAMPLE : 9.5 :\n",
"// Page number 636-637\n",
"clear ; clc ; close ; // Clear the work space and console\n",
"\n",
"// Given data\n",
"kVA = 200.0          // Transformer rating(kVA)\n",
"E_1 = 11000.0        // HV side voltage of transformer(kV)\n",
"E_2 = 400.0          // LV side voltage of transformer(kV)\n",
"ratio_CT = 500.0/5   // CT ratio on LV side of transformer\n",
"I_f = 750.0          // Fault current(A)\n",
"\n",
"// Calculations\n",
"I_2 = 500.0                   // Primary CT\n",
"I_1 = 5.0                     // Secondary CT\n",
"I_1_T = E_2*I_2/(3**0.5*E_1)  // Primary current in transformer(A)\n",
"I_hv_T = I_1_T*3**0.5         // Equivalent line current on HV side(A)\n",
"I_pilot_lv = I_1*3**0.5       // Pilot current on LV side(A)\n",
"\n",
"// Results\n",
"disp('PART III - EXAMPLE : 9.5 : SOLUTION :-')\n",
"printf('\nCT ratios on high voltage side = %.2f : %.2f \n', I_hv_T,I_pilot_lv)\n",
"printf('\nNOTE: Circulating current is not calculated')"
   ]
   }
,
{
		   "cell_type": "markdown",
		   "metadata": {},
		   "source": [
			"## Example 35.6: Suitable_CT_ratios.sce"
		   ]
		  },
  {
"cell_type": "code",
	   "execution_count": null,
	   "metadata": {
	    "collapsed": true
	   },
	   "outputs": [],
"source": [
"// A Texbook on POWER SYSTEM ENGINEERING\n",
"// A.Chakrabarti, M.L.Soni, P.V.Gupta, U.S.Bhatnagar\n",
"// DHANPAT RAI & Co.\n",
"// SECOND EDITION \n",
"\n",
"// PART III : SWITCHGEAR AND PROTECTION\n",
"// CHAPTER 9: PROTECTION OF TRANSFORMERS\n",
"\n",
"// EXAMPLE : 9.6 :\n",
"// Page number 640\n",
"clear ; clc ; close ; // Clear the work space and console\n",
"\n",
"// Given data\n",
"MVA = 50.0        // Transformer rating(MVA)\n",
"V_hv = 132.0      // HV side voltage of transformer(kV)\n",
"V_lv = 33.0       // LV side voltage of transformer(kV)\n",
"CT_sec = 1.0      // Secondary CT rating\n",
"\n",
"// Calculations\n",
"I_FL = MVA*1000/(3**0.5*V_lv)                       // Full-load current(A)\n",
"CT_ratio_33kV = I_FL/CT_sec                         // CT ratio on 33 kV side\n",
"CT_ratio_132kV = (I_FL*V_lv/V_hv)/(CT_sec/3**0.5)   // CT ratio on 132 kV side\n",
"\n",
"// Results\n",
"disp('PART III - EXAMPLE : 9.6 : SOLUTION :-')\n",
"printf('\nCT ratio on 33 kV side = %.f : 1 ', CT_ratio_33kV)\n",
"printf('\nCT ratio on 132 kV side = %.f : 1 = %.f√3 : 1 ', CT_ratio_132kV,CT_ratio_132kV/3**0.5)"
   ]
   }
],
"metadata": {
		  "kernelspec": {
		   "display_name": "Scilab",
		   "language": "scilab",
		   "name": "scilab"
		  },
		  "language_info": {
		   "file_extension": ".sce",
		   "help_links": [
			{
			 "text": "MetaKernel Magics",
			 "url": "https://github.com/calysto/metakernel/blob/master/metakernel/magics/README.md"
			}
		   ],
		   "mimetype": "text/x-octave",
		   "name": "scilab",
		   "version": "0.7.1"
		  }
		 },
		 "nbformat": 4,
		 "nbformat_minor": 0
}
