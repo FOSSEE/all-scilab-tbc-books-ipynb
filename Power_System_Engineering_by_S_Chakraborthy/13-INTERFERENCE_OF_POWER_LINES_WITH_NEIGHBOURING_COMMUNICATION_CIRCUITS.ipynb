{
"cells": [
 {
		   "cell_type": "markdown",
	   "metadata": {},
	   "source": [
       "# Chapter 13: INTERFERENCE OF POWER LINES WITH NEIGHBOURING COMMUNICATION CIRCUITS"
	   ]
	},
{
		   "cell_type": "markdown",
		   "metadata": {},
		   "source": [
			"## Example 13.1: Mutual_inductance_between_the_circuits_and_Voltage_induced_in_the_telephone_line.sce"
		   ]
		  },
  {
"cell_type": "code",
	   "execution_count": null,
	   "metadata": {
	    "collapsed": true
	   },
	   "outputs": [],
"source": [
"// A Texbook on POWER SYSTEM ENGINEERING\n",
"// A.Chakrabarti, M.L.Soni, P.V.Gupta, U.S.Bhatnagar\n",
"// DHANPAT RAI & Co.\n",
"// SECOND EDITION \n",
"\n",
"// PART II : TRANSMISSION AND DISTRIBUTION\n",
"// CHAPTER 6: INTERFERENCE OF POWER LINES WITH NEIGHBOURING COMMUNICATION CIRCUITS\n",
"\n",
"// EXAMPLE : 6.1 :\n",
"// Page number 206\n",
"clear ; clc ; close ; // Clear the work space and console\n",
"\n",
"// Given data\n",
"f = 50.0             // Frequency(Hz)\n",
"d = 4.0              // Spacing b/w conductors(m)\n",
"D = 2.0              // Distance of telephone line below conductor(m)\n",
"s = 60.0/100         // Spacing b/w telephone line(m)\n",
"r = 2.0              // Radius of power line(mm)\n",
"I = 150.0            // Current in power line(A)\n",
"\n",
"// Calculations\n",
"D_ac = (D**2+((d-s)/2)**2)**0.5            // Distance b/w a & c(m)\n",
"D_ad = (D**2+(((d-s)/2)+s)**2)**0.5        // Distance b/w a & d(m)\n",
"M = 4.0*10**-7*log(D_ad/D_ac)*1000         // Mutual inductance b/w circuits(H/km)\n",
"V_CD = 2.0*%pi*f*M*I                       // Voltage induced in the telephone line(V/km)\n",
"\n",
"// Results\n",
"disp('PART II - EXAMPLE : 6.1 : SOLUTION :-')\n",
"printf('\nMutual inductance between the circuits, M = %.e H/km', M)\n",
"printf('\nVoltage induced in the telephone line, V_CD = %.2f V/km', V_CD)"
   ]
   }
,
{
		   "cell_type": "markdown",
		   "metadata": {},
		   "source": [
			"## Example 13.2: Induced_voltage_at_fundamental_frequency_and_Potential_of_telephone_conductor.sce"
		   ]
		  },
  {
"cell_type": "code",
	   "execution_count": null,
	   "metadata": {
	    "collapsed": true
	   },
	   "outputs": [],
"source": [
"// A Texbook on POWER SYSTEM ENGINEERING\n",
"// A.Chakrabarti, M.L.Soni, P.V.Gupta, U.S.Bhatnagar\n",
"// DHANPAT RAI & Co.\n",
"// SECOND EDITION \n",
"\n",
"// PART II : TRANSMISSION AND DISTRIBUTION\n",
"// CHAPTER 6: INTERFERENCE OF POWER LINES WITH NEIGHBOURING COMMUNICATION CIRCUITS\n",
"\n",
"// EXAMPLE : 6.2 :\n",
"// Page number 206-207\n",
"clear ; clc ; close ; // Clear the work space and console\n",
"\n",
"// Given data\n",
"f = 50.0             // Frequency(Hz)\n",
"l = 160.0            // Length of line(km)\n",
"V = 132.0*10**3      // Line voltage(V)\n",
"P = 25.0*10**6       // Load delivered(W)\n",
"PF = 0.8             // Lagging power factor\n",
"r = 5.0/1000         // Radius of power line conductor(m)\n",
"d = 4.0              // Spacing b/w conductors(m)\n",
"OS = 6.0             // Distance(m)\n",
"OT = 6.5             // Distance(m)\n",
"CT = 18.0            // Distance(m)\n",
"\n",
"// Calculations\n",
"AO = 3**0.5*d/2.0                                             // Distance A to O(m). From figure E6.2\n",
"AS = OS+AO                                                    // Distance A to S(m)\n",
"AT = AO+OT                                                    // Distance A to T(m)\n",
"OB = d/2.0                                                    // Distance O to B(m)\n",
"BS = (OB**2+OS**2)**0.5                                       // Distance B to S(m)\n",
"BT = (OB**2+OT**2)**0.5                                       // Distance B to T(m)\n",
"M_A = 0.2*log(AT/AS)                                          // Mutual inductance at A(mH/km)\n",
"M_B = 0.2*log(BT/BS)                                          // Mutual inductance at B(mH/km)\n",
"M = M_B-M_A                                                   // Mutual inductance at C(mH/km)\n",
"I = P/(3**0.5*V*PF)                                           // Current(A)\n",
"E_m = 2.0*%pi*f*M*I*10**-3*l                                  // Induced voltage(V)\n",
"V_A = V/3**0.5                                                // Phase voltage(V)\n",
"h = AO+CT                                                     // Height(m)\n",
"V_SA = V_A*log10(((2*h)-AS)/AS)/log10(((2*h)-r)/r)            // Potential(V)\n",
"H = CT                                                        // Height(m)\n",
"V_B = V_A                                                     // Phase voltage(V)\n",
"V_SB = V_B*log10(((2*H)-BS)/BS)/log10(((2*H)-r)/r)            // Potential(V)\n",
"V_S = V_SB-V_SA                                               // Total potential of S w.r.t earth(V)\n",
"\n",
"// Results\n",
"disp('PART II - EXAMPLE : 6.2 : SOLUTION :-')\n",
"printf('\nInduced voltage at fundamental frequency, E_m = %.1f V', E_m)\n",
"printf('\nPotential of telephone conductor S above earth, V_S = %.f V \n', V_S)\n",
"printf('\nNOTE: ERROR: Changes in obtained answer is due to precision and calculation mistakes in textbook')"
   ]
   }
],
"metadata": {
		  "kernelspec": {
		   "display_name": "Scilab",
		   "language": "scilab",
		   "name": "scilab"
		  },
		  "language_info": {
		   "file_extension": ".sce",
		   "help_links": [
			{
			 "text": "MetaKernel Magics",
			 "url": "https://github.com/calysto/metakernel/blob/master/metakernel/magics/README.md"
			}
		   ],
		   "mimetype": "text/x-octave",
		   "name": "scilab",
		   "version": "0.7.1"
		  }
		 },
		 "nbformat": 4,
		 "nbformat_minor": 0
}
