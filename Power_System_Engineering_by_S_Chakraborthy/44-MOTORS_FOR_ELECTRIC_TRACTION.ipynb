{
"cells": [
 {
		   "cell_type": "markdown",
	   "metadata": {},
	   "source": [
       "# Chapter 44: MOTORS FOR ELECTRIC TRACTION"
	   ]
	},
{
		   "cell_type": "markdown",
		   "metadata": {},
		   "source": [
			"## Example 44.1: Speed_current_of_the_motor.sce"
		   ]
		  },
  {
"cell_type": "code",
	   "execution_count": null,
	   "metadata": {
	    "collapsed": true
	   },
	   "outputs": [],
"source": [
"// A Texbook on POWER SYSTEM ENGINEERING\n",
"// A.Chakrabarti, M.L.Soni, P.V.Gupta, U.S.Bhatnagar\n",
"// DHANPAT RAI & Co.\n",
"// SECOND EDITION \n",
"\n",
"// PART IV : UTILIZATION AND TRACTION\n",
"// CHAPTER 6: MOTORS FOR ELECTRIC TRACTION\n",
"\n",
"// EXAMPLE : 6.1 :\n",
"// Page number 788\n",
"clear ; clc ; close ; // Clear the work space and console\n",
"\n",
"// Given data\n",
"I_1 = 10.0    // Current(A)\n",
"T_1 = 54.0    // Torque(N-m)\n",
"I_2 = 20.0    // Current(A)\n",
"T_2 = 142.0   // Torque(N-m)\n",
"I_3 = 30.0    // Current(A)\n",
"T_3 = 250.0   // Torque(N-m)\n",
"I_4 = 40.0    // Current(A)\n",
"T_4 = 365.0   // Torque(N-m)\n",
"I_5 = 50.0    // Current(A)\n",
"T_5 = 480.0   // Torque(N-m)\n",
"I_6 = 60.0    // Current(A)\n",
"T_6 = 620.0   // Torque(N-m)\n",
"I_7 = 70.0    // Current(A)\n",
"T_7 = 810.0   // Torque(N-m)\n",
"E = 500.0     // Operating voltage(V)\n",
"R_a = 0.6     // Armature resistance(ohm)\n",
"\n",
"// Calculations\n",
"N_1 = 9.55*(E-I_1*R_a)*I_1/T_1   // Speed(rpm)\n",
"N_2 = 9.55*(E-I_2*R_a)*I_2/T_2   // Speed(rpm)\n",
"N_3 = 9.55*(E-I_3*R_a)*I_3/T_3   // Speed(rpm)\n",
"N_4 = 9.55*(E-I_4*R_a)*I_4/T_4   // Speed(rpm)\n",
"N_5 = 9.55*(E-I_5*R_a)*I_5/T_5   // Speed(rpm)\n",
"N_6 = 9.55*(E-I_6*R_a)*I_6/T_6   // Speed(rpm)\n",
"N_7 = 9.55*(E-I_7*R_a)*I_7/T_7   // Speed(rpm)\n",
"\n",
"// Results\n",
"disp('PART IV - EXAMPLE : 6.1 : SOLUTION :-')\n",
"printf('\nSpeed-current of the motor')\n",
"printf('\n_______________________________________')\n",
"printf('\n Current(A)        :      Speed(rpm)  ')\n",
"printf('\n_______________________________________')\n",
"printf('\n   %.f              :        %.f ', I_1,N_1)\n",
"printf('\n   %.f              :        %.f ', I_2,N_2)\n",
"printf('\n   %.f              :        %.f ', I_3,N_3)\n",
"printf('\n   %.f              :        %.f ', I_4,N_4)\n",
"printf('\n   %.f              :        %.f ', I_5,N_5)\n",
"printf('\n   %.f              :        %.f ', I_6,N_6)\n",
"printf('\n   %.f              :        %.f ', I_7,N_7)\n",
"printf('\n_______________________________________\n')\n",
"printf('\nNOTE: ERROR: Calculation mistakes in the textbook solution')"
   ]
   }
,
{
		   "cell_type": "markdown",
		   "metadata": {},
		   "source": [
			"## Example 44.2: Speed_torque_for_motor.sce"
		   ]
		  },
  {
"cell_type": "code",
	   "execution_count": null,
	   "metadata": {
	    "collapsed": true
	   },
	   "outputs": [],
"source": [
"// A Texbook on POWER SYSTEM ENGINEERING\n",
"// A.Chakrabarti, M.L.Soni, P.V.Gupta, U.S.Bhatnagar\n",
"// DHANPAT RAI & Co.\n",
"// SECOND EDITION \n",
"\n",
"// PART IV : UTILIZATION AND TRACTION\n",
"// CHAPTER 6: MOTORS FOR ELECTRIC TRACTION\n",
"\n",
"// EXAMPLE : 6.2 :\n",
"// Page number 788-789\n",
"clear ; clc ; close ; // Clear the work space and console\n",
"\n",
"// Given data\n",
"N_1 = 500.0    // Speed(rpm)\n",
"I_1 = 50.0     // Current(A)\n",
"E_1 = 220.0    // Armature voltage(V)\n",
"I_2 = 100.0    // Current(A)\n",
"E_2 = 350.0    // Armature voltage(V)\n",
"I_3 = 150.0    // Current(A)\n",
"E_3 = 440.0    // Armature voltage(V)\n",
"I_4 = 200.0    // Current(A)\n",
"E_4 = 500.0    // Armature voltage(V)\n",
"I_5 = 250.0    // Current(A)\n",
"E_5 = 540.0    // Armature voltage(V)\n",
"I_6 = 300.0    // Current(A)\n",
"E_6 = 570.0    // Armature voltage(V)\n",
"R_wb = 0.08    // Armature and brush resistance(ohm)\n",
"R_f = 0.05     // Resistance of series field(ohm)\n",
"V = 600.0      // Operating voltage(V)\n",
"\n",
"// Calculations\n",
"R_a = R_wb+R_f               // Armature resistance(ohm)\n",
"N_11 = N_1/E_1*(V-I_1*R_a)   // Speed(rpm)\n",
"T_1 = 9.55*E_1*I_1/N_1       // Torque(N-m)\n",
"N_2 = N_1/E_2*(V-I_2*R_a)    // Speed(rpm)\n",
"T_2 = 9.55*E_2*I_2/N_1       // Torque(N-m)\n",
"N_3 = N_1/E_3*(V-I_3*R_a)    // Speed(rpm)\n",
"T_3 = 9.55*E_3*I_3/N_1       // Torque(N-m)\n",
"N_4 = N_1/E_4*(V-I_4*R_a)    // Speed(rpm)\n",
"T_4 = 9.55*E_4*I_4/N_1       // Torque(N-m)\n",
"N_5 = N_1/E_5*(V-I_5*R_a)    // Speed(rpm)\n",
"T_5 = 9.55*E_5*I_5/N_1       // Torque(N-m)\n",
"N_6 = N_1/E_6*(V-I_6*R_a)    // Speed(rpm)\n",
"T_6 = 9.55*E_6*I_6/N_1       // Torque(N-m)\n",
"\n",
"// Results\n",
"disp('PART IV - EXAMPLE : 6.2 : SOLUTION :-')\n",
"printf('\nSpeed-torque curve for motor')\n",
"printf('\n_______________________________________')\n",
"printf('\n Speed(rpm)         :      Torque(N-m)  ')\n",
"printf('\n_______________________________________')\n",
"printf('\n   %.f             :        %.f ', N_11,T_1)\n",
"printf('\n   %.f              :        %.f ', N_2,T_2)\n",
"printf('\n   %.f              :        %.f ', N_3,T_3)\n",
"printf('\n   %.f              :        %.f ', N_4,T_4)\n",
"printf('\n   %.f              :        %.f ', N_5,T_5)\n",
"printf('\n   %.f              :        %.f ', N_6,T_6)\n",
"printf('\n_______________________________________\n')\n",
"printf('\nNOTE: ERROR: Calculation mistakes in the textbook solution')"
   ]
   }
,
{
		   "cell_type": "markdown",
		   "metadata": {},
		   "source": [
			"## Example 44.3: Speed_of_motors_when_connected_in_series.sce"
		   ]
		  },
  {
"cell_type": "code",
	   "execution_count": null,
	   "metadata": {
	    "collapsed": true
	   },
	   "outputs": [],
"source": [
"// A Texbook on POWER SYSTEM ENGINEERING\n",
"// A.Chakrabarti, M.L.Soni, P.V.Gupta, U.S.Bhatnagar\n",
"// DHANPAT RAI & Co.\n",
"// SECOND EDITION \n",
"\n",
"// PART IV : UTILIZATION AND TRACTION\n",
"// CHAPTER 6: MOTORS FOR ELECTRIC TRACTION\n",
"\n",
"// EXAMPLE : 6.3 :\n",
"// Page number 790\n",
"clear ; clc ; close ; // Clear the work space and console\n",
"\n",
"// Given data\n",
"V = 650.0      // Voltage supply(V)\n",
"r_A = 45.0     // Radius of driving wheel(cm)\n",
"r_B = 43.0     // Radius of driving wheel(cm)\n",
"N_A = 400.0    // Speed(rpm)\n",
"drop = 10.0    // Voltage drop(%)\n",
"\n",
"// Calculations\n",
"rho = r_B/r_A\n",
"IR = drop*V/100                 // Voltage drop(V)\n",
"V_A = (rho*(V-IR)+IR)/(1+rho)   // Voltage(V)\n",
"V_B = V-V_A                     // Voltage(V)\n",
"N_A_A = N_A*(V_A-IR)/(V-IR)     // N'_A(rpm)\n",
"N_B_B = N_A_A*r_A/r_B           // N'_B(rpm)\n",
"\n",
"// Results\n",
"disp('PART IV - EXAMPLE : 6.3 : SOLUTION :-')\n",
"printf('\nSpeed of first motor when connected in series, N_A = %.f rpm', N_A_A)\n",
"printf('\nSpeed of second motor when connected in series, N_B = %.f rpm\n', N_B_B)\n",
"printf('\nNOTE: Changes in the obtained answer from that of textbook is due to more precision here')"
   ]
   }
,
{
		   "cell_type": "markdown",
		   "metadata": {},
		   "source": [
			"## Example 44.4: HP_delivered_by_the_locomotive_when_dc_series_motor_and_Induction_motor_is_used.sce"
		   ]
		  },
  {
"cell_type": "code",
	   "execution_count": null,
	   "metadata": {
	    "collapsed": true
	   },
	   "outputs": [],
"source": [
"// A Texbook on POWER SYSTEM ENGINEERING\n",
"// A.Chakrabarti, M.L.Soni, P.V.Gupta, U.S.Bhatnagar\n",
"// DHANPAT RAI & Co.\n",
"// SECOND EDITION \n",
"\n",
"// PART IV : UTILIZATION AND TRACTION\n",
"// CHAPTER 6: MOTORS FOR ELECTRIC TRACTION\n",
"\n",
"// EXAMPLE : 6.4 :\n",
"// Page number 791\n",
"clear ; clc ; close ; // Clear the work space and console\n",
"\n",
"// Given data\n",
"F_t = 33800.0   // Tractive effort(N)\n",
"V = 48.3        // Velocity(kmph)\n",
"T = 53400.0     // Tractive effort(N)\n",
"\n",
"// Calculations\n",
"HP = F_t*V*1000/(60*60*746)    // HP on level track(hp)\n",
"HP_i = HP*(T/F_t)**0.5         // hp delivered by locomotive for dc series motor(hp)\n",
"HP_ii = HP*T/F_t               // hp delivered by locomotive for induction motor(hp)\n",
"\n",
"// Results\n",
"disp('PART IV - EXAMPLE : 6.4 : SOLUTION :-')\n",
"printf('\nhp delivered by the locomotive when dc series motor is used = %.f HP', HP_i)\n",
"printf('\nhp delivered by the locomotive when induction motor is used = %.f HP', HP_ii)"
   ]
   }
,
{
		   "cell_type": "markdown",
		   "metadata": {},
		   "source": [
			"## Example 44.5: New_characteristics_of_motor.sce"
		   ]
		  },
  {
"cell_type": "code",
	   "execution_count": null,
	   "metadata": {
	    "collapsed": true
	   },
	   "outputs": [],
"source": [
"// A Texbook on POWER SYSTEM ENGINEERING\n",
"// A.Chakrabarti, M.L.Soni, P.V.Gupta, U.S.Bhatnagar\n",
"// DHANPAT RAI & Co.\n",
"// SECOND EDITION \n",
"\n",
"// PART IV : UTILIZATION AND TRACTION\n",
"// CHAPTER 6: MOTORS FOR ELECTRIC TRACTION\n",
"\n",
"// EXAMPLE : 6.5 :\n",
"// Page number 792-793\n",
"clear ; clc ; close ; // Clear the work space and console\n",
"\n",
"// Given data\n",
"I_1 = 100.0                // Current(A)\n",
"N_1 = 71.0                 // Speed(kmph)\n",
"F_t1 = 2225.0              // Tractive effort(N)\n",
"I_2 = 150.0                // Current(A)\n",
"N_2 = 57.0                 // Speed(kmph)\n",
"F_t2 = 6675.0              // Tractive effort(N)\n",
"I_3 = 200.0                // Current(A)\n",
"N_3 = 50.0                 // Speed(kmph)\n",
"F_t3 = 11600.0             // Tractive effort(N)\n",
"I_4 = 250.0                // Current(A)\n",
"N_4 = 45.0                 // Speed(kmph)\n",
"F_t4 = 17350.0             // Tractive effort(N)\n",
"I_5 = 300.0                // Current(A)\n",
"N_5 = 42.0                 // Speed(kmph)\n",
"F_t5 = 23200.0             // Tractive effort(N)\n",
"D_A = 101.6                // Size of wheels(cm)\n",
"ratio_gear = 72.0/23       // Gear ratio\n",
"D_B = 106.7                // Size of wheels(cm)\n",
"ratio_gear_new = 75.0/20   // Gear ratio\n",
"\n",
"// Calculations\n",
"N_B = ratio_gear*D_B/(ratio_gear_new*D_A)    // Speed in terms of V(kmph)\n",
"F_tB = D_A*ratio_gear_new/(ratio_gear*D_B)   // Tractive effort in terms of F_tA(N)\n",
"N_B1 = N_B*N_1                               // Speed(kmph)\n",
"F_tB1 = F_tB*F_t1                            // Tractive effort(N)\n",
"N_B2 = N_B*N_2                               // Speed(kmph)\n",
"F_tB2 = F_tB*F_t2                            // Tractive effort(N)\n",
"N_B3 = N_B*N_3                               // Speed(kmph)\n",
"F_tB3 = F_tB*F_t3                            // Tractive effort(N)\n",
"N_B4 = N_B*N_4                               // Speed(kmph)\n",
"F_tB4 = F_tB*F_t4                            // Tractive effort(N)\n",
"N_B5 = N_B*N_5                               // Speed(kmph)\n",
"F_tB5 = F_tB*F_t5                            // Tractive effort(N)\n",
"\n",
"// Results\n",
"disp('PART IV - EXAMPLE : 6.5 : SOLUTION :-')\n",
"printf('\nNew characteristics of motor')\n",
"printf('\n_______________________________________')\n",
"printf('\n Current(A)  :  Speed(kmph)  :  F_t(N)')\n",
"printf('\n_______________________________________')\n",
"printf('\n  %.f        :   %.1f        :   %.f ', I_1,N_B1,F_tB1)\n",
"printf('\n  %.f        :   %.1f        :   %.f ', I_2,N_B2,F_tB2)\n",
"printf('\n  %.f        :   %.1f        :   %.f ', I_3,N_B3,F_tB3)\n",
"printf('\n  %.f        :   %.1f        :   %.f ', I_4,N_B4,F_tB4)\n",
"printf('\n  %.f        :   %.1f        :   %.f ', I_5,N_B5,F_tB5)\n",
"printf('\n_______________________________________\n')\n",
"printf('\nNOTE: Changes in the obtained answer from that of textbook is due to more precision here')"
   ]
   }
],
"metadata": {
		  "kernelspec": {
		   "display_name": "Scilab",
		   "language": "scilab",
		   "name": "scilab"
		  },
		  "language_info": {
		   "file_extension": ".sce",
		   "help_links": [
			{
			 "text": "MetaKernel Magics",
			 "url": "https://github.com/calysto/metakernel/blob/master/metakernel/magics/README.md"
			}
		   ],
		   "mimetype": "text/x-octave",
		   "name": "scilab",
		   "version": "0.7.1"
		  }
		 },
		 "nbformat": 4,
		 "nbformat_minor": 0
}
