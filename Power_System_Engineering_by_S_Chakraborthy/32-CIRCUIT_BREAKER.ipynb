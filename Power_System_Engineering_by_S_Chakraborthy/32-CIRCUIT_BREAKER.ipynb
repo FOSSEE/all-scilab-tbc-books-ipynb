{
"cells": [
 {
		   "cell_type": "markdown",
	   "metadata": {},
	   "source": [
       "# Chapter 32: CIRCUIT BREAKER"
	   ]
	},
{
		   "cell_type": "markdown",
		   "metadata": {},
		   "source": [
			"## Example 32.1: EX32_1.sce"
		   ]
		  },
  {
"cell_type": "code",
	   "execution_count": null,
	   "metadata": {
	    "collapsed": true
	   },
	   "outputs": [],
"source": [
"// A Texbook on POWER SYSTEM ENGINEERING\n",
"// A.Chakrabarti, M.L.Soni, P.V.Gupta, U.S.Bhatnagar\n",
"// DHANPAT RAI & Co.\n",
"// SECOND EDITION \n",
"\n",
"// PART III : SWITCHGEAR AND PROTECTION\n",
"// CHAPTER 6: CIRCUIT BREAKER\n",
"\n",
"// EXAMPLE : 6.1 :\n",
"// Page number 545\n",
"clear ; clc ; close ; // Clear the work space and console\n",
"\n",
"// Given data\n",
"f = 50.0          // Generator frequency(Hz)\n",
"kV = 7.5          // emf to neutral rms voltage(kV)\n",
"X = 4.0           // Reactance of generator & connected system(ohm)\n",
"C = 0.01*10**-6   // Distributed capacitance(F)\n",
"\n",
"// Calculations\n",
"// Case(a)\n",
"v = 2**0.5*kV                           // Active recovery voltage i.e phase to neutral(kV)\n",
"V_max_restrike = v*2                    // Maximum restriking voltage i.e phase to neutral(kV)\n",
"// Case(b)\n",
"L = X/(2.0*%pi*f)                       // Inductance(H)\n",
"f_n = 1/(2.0*%pi*(L*C)**0.5*1000)       // Frequency of transient oscillation(kHZ)\n",
"// Case(c)\n",
"t = 1.0/(2.0*f_n*1000)                  // Time(sec)\n",
"avg_rate = V_max_restrike/t             // Average rate of rise of voltage upto first peak of oscillation(kV/s)\n",
"\n",
"// Results\n",
"disp('PART III - EXAMPLE : 6.1 : SOLUTION :-')\n",
"printf('\nCase(a): Maximum re-striking voltage(phase-to-neutral) = %.1f kV', V_max_restrike)\n",
"printf('\nCase(b): Frequency of transient oscillation, f_n = %.1f kHz', f_n)\n",
"printf('\nCase(c): Average rate of rise of voltage upto first peak of oscillation = %.f kV/s \n', avg_rate)\n",
"printf('\nNOTE: Changes in the obtained answer from that of textbook is due to more approximation in the textbook')"
   ]
   }
,
{
		   "cell_type": "markdown",
		   "metadata": {},
		   "source": [
			"## Example 32.3: Rate_of_rise_of_restriking_voltage.sce"
		   ]
		  },
  {
"cell_type": "code",
	   "execution_count": null,
	   "metadata": {
	    "collapsed": true
	   },
	   "outputs": [],
"source": [
"// A Texbook on POWER SYSTEM ENGINEERING\n",
"// A.Chakrabarti, M.L.Soni, P.V.Gupta, U.S.Bhatnagar\n",
"// DHANPAT RAI & Co.\n",
"// SECOND EDITION \n",
"\n",
"// PART III : SWITCHGEAR AND PROTECTION\n",
"// CHAPTER 6: CIRCUIT BREAKER\n",
"\n",
"// EXAMPLE : 6.3 :\n",
"// Page number 545-546\n",
"clear ; clc ; close ; // Clear the work space and console\n",
"\n",
"// Given data\n",
"kV = 132.0       // Voltage(kV)\n",
"pf = 0.3         // Power factor of the fault\n",
"K3 = 0.95        // Recovery voltage was 0.95 of full line value\n",
"f_n = 16000.0    // Natural frequency of the restriking transient(Hz)\n",
"\n",
"// Calculations\n",
"kV_phase = kV/3**0.5                    // System voltage(kV)\n",
"sin_phi = sind(acosd(pf))               // Sinφ\n",
"K2 = 1.0\n",
"v = K2*K3*kV/3**0.5*2**0.5*sin_phi      // Active recovery voltage(kV)\n",
"V_max_restrike = 2*v                    // Maximum restriking voltage(kV)\n",
"t = 1.0/(2.0*f_n)                       // Time(sec)\n",
"RRRV = V_max_restrike/(t*10**6)         // Rate of rise of restriking voltage(kV/µ-sec)\n",
"\n",
"// Results\n",
"disp('PART III - EXAMPLE : 6.3 : SOLUTION :-')\n",
"printf('\nRate of rise of restriking voltage, R.R.R.V = %.2f kV/µ-sec', RRRV)"
   ]
   }
,
{
		   "cell_type": "markdown",
		   "metadata": {},
		   "source": [
			"## Example 32.5: Voltage_across_the_pole_of_a_CB_and_Resistance_to_be_used_across_the_contacts.sce"
		   ]
		  },
  {
"cell_type": "code",
	   "execution_count": null,
	   "metadata": {
	    "collapsed": true
	   },
	   "outputs": [],
"source": [
"// A Texbook on POWER SYSTEM ENGINEERING\n",
"// A.Chakrabarti, M.L.Soni, P.V.Gupta, U.S.Bhatnagar\n",
"// DHANPAT RAI & Co.\n",
"// SECOND EDITION \n",
"\n",
"// PART III : SWITCHGEAR AND PROTECTION\n",
"// CHAPTER 6: CIRCUIT BREAKER\n",
"\n",
"// EXAMPLE : 6.5 :\n",
"// Page number 565\n",
"clear ; clc ; close ; // Clear the work space and console\n",
"\n",
"// Given data\n",
"kV = 132.0        // Voltage(kV)\n",
"C = 0.01*10**-6   // Phase to ground capacitance(F)\n",
"L = 6.0           // Inductance(H)\n",
"i = 5.0           // Magnetizing current(A)\n",
"\n",
"// Calculations\n",
"V_pros = i*(L/C)**0.5/1000    // Prospective value of voltage(kV)\n",
"R = 1.0/2*(L/C)**0.5/1000     // Resistance to be used across the contacts to eliminate the restriking voltage(k-ohm)\n",
"\n",
"// Results\n",
"disp('PART III - EXAMPLE : 6.5 : SOLUTION :-')\n",
"printf('\nVoltage across the pole of a CB = %.1f kV', V_pros)\n",
"printf('\nResistance to be used across the contacts to eliminate the restriking voltage, R = %.2f k-ohm\n', R)\n",
"printf('\nNOTE: ERROR: Unit of final answer R is k-ohm, not ohm as in the textbook solution')"
   ]
   }
,
{
		   "cell_type": "markdown",
		   "metadata": {},
		   "source": [
			"## Example 32.6: Rated_normal_current_Breaking_current_Making_current_and_Short_time_rating.sce"
		   ]
		  },
  {
"cell_type": "code",
	   "execution_count": null,
	   "metadata": {
	    "collapsed": true
	   },
	   "outputs": [],
"source": [
"// A Texbook on POWER SYSTEM ENGINEERING\n",
"// A.Chakrabarti, M.L.Soni, P.V.Gupta, U.S.Bhatnagar\n",
"// DHANPAT RAI & Co.\n",
"// SECOND EDITION \n",
"\n",
"// PART III : SWITCHGEAR AND PROTECTION\n",
"// CHAPTER 6: CIRCUIT BREAKER\n",
"\n",
"// EXAMPLE : 6.6 :\n",
"// Page number 567\n",
"clear ; clc ; close ; // Clear the work space and console\n",
"\n",
"// Given data\n",
"I = 1200.0     // Rated normal current(A)\n",
"MVA = 1500.0   // Rated MVA\n",
"kV = 33.0      // Voltage(kV)\n",
"\n",
"// Calculations\n",
"I_breaking = MVA/(3**0.5*kV)   // Rated symmetrical breaking current(kA)\n",
"I_making = I_breaking*2.55     // Rated making current(kA)\n",
"I_short = I_breaking           // Short-time rating(kA)\n",
"\n",
"// Results\n",
"disp('PART III - EXAMPLE : 6.6 : SOLUTION :-')\n",
"printf('\nRated normal current = %.f A', I)\n",
"printf('\nBreaking current = %.2f kA (rms)', I_breaking)\n",
"printf('\nMaking current = %.f kA', I_making)\n",
"printf('\nShort-time rating = %.2f kA for 3 secs', I_short)"
   ]
   }
,
{
		   "cell_type": "markdown",
		   "metadata": {},
		   "source": [
			"## Example 32.8: EX32_8.sce"
		   ]
		  },
  {
"cell_type": "code",
	   "execution_count": null,
	   "metadata": {
	    "collapsed": true
	   },
	   "outputs": [],
"source": [
"// A Texbook on POWER SYSTEM ENGINEERING\n",
"// A.Chakrabarti, M.L.Soni, P.V.Gupta, U.S.Bhatnagar\n",
"// DHANPAT RAI & Co.\n",
"// SECOND EDITION \n",
"\n",
"// PART III : SWITCHGEAR AND PROTECTION\n",
"// CHAPTER 6: CIRCUIT BREAKER\n",
"\n",
"// EXAMPLE : 6.8 :\n",
"// Page number 569\n",
"clear ; clc ; close ; // Clear the work space and console\n",
"\n",
"// Given data\n",
"kVA = 7500.0    // Rated kVA\n",
"X_st = 9.0      // Sub-transient reactance(%)\n",
"X_t = 15.0      // Transient reactance(%)\n",
"X_d = 100.0     // Direct-axis reactance(%)\n",
"kV = 13.8       // Voltage(kV). Assumption\n",
"\n",
"// Calculations\n",
"kVA_base = 7500.0                       // Base kVA\n",
"kVA_sc_sustained = kVA_base/X_d*100     // Sustained S.C kVA\n",
"I_sc_sustained = kVA_base/(3**0.5*kV)   // Sustained S.C current(A). rms\n",
"I_st = kVA*100/(X_st*3**0.5*kV)         // Initial symmetrical rms current in the breaker(A)\n",
"I_max_dc = 2**0.5*I_st                  // Maximum possible dc component of the short-circuit(A)\n",
"I_moment = 1.6*I_st                     // Momentary current rating of the breaker(A)\n",
"I_interrupt = 1.1*I_st                  // Current to be interrupted by the breaker(A)\n",
"I_kVA = 3**0.5*I_interrupt*kV           // Interrupting kVA\n",
"\n",
"// Results\n",
"disp('PART III - EXAMPLE : 6.8 : SOLUTION :-')\n",
"printf('\nCase(a): Sustained short circuit KVA in the breaker = %.f kVA', kVA_sc_sustained)\n",
"printf('\n         Sustained short circuit current in the breaker = %.1f A (rms)', I_sc_sustained)\n",
"printf('\nCase(b): Initial symmetrical rms current in the breaker = %.f A (rms)', I_st)\n",
"printf('\nCase(c): Maximum possible dc component of the short-circuit in the breaker = %.f A', I_max_dc)\n",
"printf('\nCase(d): Momentary current rating of the breaker = %.f A (rms)', I_moment)\n",
"printf('\nCase(e): Current to be interrupted by the breaker = %.f A (rms)', I_interrupt)\n",
"printf('\nCase(f): Interrupting kVA = %.f kVA \n', I_kVA)\n",
"printf('\nNOTE: Changes in the obtained answer from that of textbook due to more approximation in textbook')"
   ]
   }
],
"metadata": {
		  "kernelspec": {
		   "display_name": "Scilab",
		   "language": "scilab",
		   "name": "scilab"
		  },
		  "language_info": {
		   "file_extension": ".sce",
		   "help_links": [
			{
			 "text": "MetaKernel Magics",
			 "url": "https://github.com/calysto/metakernel/blob/master/metakernel/magics/README.md"
			}
		   ],
		   "mimetype": "text/x-octave",
		   "name": "scilab",
		   "version": "0.7.1"
		  }
		 },
		 "nbformat": 4,
		 "nbformat_minor": 0
}
