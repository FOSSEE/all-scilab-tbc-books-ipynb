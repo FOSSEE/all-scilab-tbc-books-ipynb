{
"cells": [
 {
		   "cell_type": "markdown",
	   "metadata": {},
	   "source": [
       "# Chapter 22: INSULATION COORDINATION"
	   ]
	},
{
		   "cell_type": "markdown",
		   "metadata": {},
		   "source": [
			"## Example 22.1: Highest_voltage_to_which_the_transformer_is_subjected.sce"
		   ]
		  },
  {
"cell_type": "code",
	   "execution_count": null,
	   "metadata": {
	    "collapsed": true
	   },
	   "outputs": [],
"source": [
"// A Texbook on POWER SYSTEM ENGINEERING\n",
"// A.Chakrabarti, M.L.Soni, P.V.Gupta, U.S.Bhatnagar\n",
"// DHANPAT RAI & Co.\n",
"// SECOND EDITION \n",
"\n",
"// PART II : TRANSMISSION AND DISTRIBUTION\n",
"// CHAPTER 15: INSULATION CO-ORDINATION\n",
"\n",
"// EXAMPLE : 15.1 :\n",
"// Page number 398-399\n",
"clear ; clc ; close ; // Clear the work space and console\n",
"\n",
"// Given data\n",
"L = 30.0          // Height of arrester located(m)\n",
"BIL = 650.0       // BIL(kV)\n",
"de_dt = 1000.0    // Rate of rising surge wave front(kV/µ-sec)\n",
"V = 132.0         // Transformer voltage at HV side(kV)\n",
"E_a = 400.0       // Discharge voltage of arrester(kV)\n",
"v = 3.0*10**8     // Velocity of surge propagation(m/sec)\n",
"\n",
"// Calculations\n",
"E_t = E_a+(2.0*de_dt*L/300)   // Highest voltage the transformer is subjected(kV)\n",
"\n",
"// Results\n",
"disp('PART II - EXAMPLE : 15.1 : SOLUTION :-')\n",
"printf('\nHighest voltage to which the transformer is subjected, E_t = %.f kV', E_t)"
   ]
   }
,
{
		   "cell_type": "markdown",
		   "metadata": {},
		   "source": [
			"## Example 22.2: Rating_of_LA_and_Location_with_respect_to_transformer.sce"
		   ]
		  },
  {
"cell_type": "code",
	   "execution_count": null,
	   "metadata": {
	    "collapsed": true
	   },
	   "outputs": [],
"source": [
"// A Texbook on POWER SYSTEM ENGINEERING\n",
"// A.Chakrabarti, M.L.Soni, P.V.Gupta, U.S.Bhatnagar\n",
"// DHANPAT RAI & Co.\n",
"// SECOND EDITION \n",
"\n",
"// PART II : TRANSMISSION AND DISTRIBUTION\n",
"// CHAPTER 15: INSULATION CO-ORDINATION\n",
"\n",
"// EXAMPLE : 15.2 :\n",
"// Page number 399\n",
"clear ; clc ; close ; // Clear the work space and console\n",
"\n",
"// Given data\n",
"V_hv = 132.0      // Voltage at the HV side of transformer(kV)\n",
"V_lv = 33.0       // Voltage at the LV side of transformer(kV)\n",
"V = 860.0         // Insulator allowable voltage(kV)\n",
"Z = 400.0         // Line surge impedance(ohm)\n",
"BIL = 550.0       // BIL(kV)\n",
"\n",
"// Calculations\n",
"V_rating_LA = V_hv*1.1*0.8                 // Voltage rating of LA(kV)\n",
"E_a = 351.0                                // Discharge voltage at 5 kA(kV)\n",
"I_disc = (2*V-E_a)*1000/Z                  // Discharge current(A)\n",
"L_1 = 37.7                                 // Separation distance in current b/w arrester tap and power transformer tap(m)\n",
"dist = 11.0                                // Lead length from tap point to ground level(m)\n",
"de_dt = 500.0                              // Maximum rate of rise of surge(kV/µ-sec)\n",
"Inductance = 1.2                           // Inductance(µH/metre)\n",
"di_dt = 5000.0                             // di/dt(A/µ-sec)\n",
"lead_drop = Inductance*dist*di_dt/1000     // Drop in the lead(kV)\n",
"E_d = E_a+lead_drop                        // (kV)\n",
"V_tr_terminal = E_d+2*de_dt*L_1/300        // Voltage at transformer terminals(kV)\n",
"E_t = BIL/1.2                              // Highest voltage the transformer is subjected(kV)\n",
"L = (E_t-E_a)/(2*de_dt)*300                // Distance at which lightning arrester located from transformer(m)\n",
"L_lead = (E_t-E_a*1.1)/(2*de_dt)*300       // Distance at which lightning arrester located from transformer taken 10% lead drop(m)\n",
"\n",
"// Results\n",
"disp('PART II - EXAMPLE : 15.2 : SOLUTION :-')\n",
"printf('\nRating of L.A = %.1f kV', V_rating_LA)\n",
"printf('\nLocation of L.A, L = %.f m', L)\n",
"printf('\nLocation of L.A if 10 percent lead drop is considered, L = %.1f m', L_lead)\n",
"printf('\nMaximum distance at which a ligtning arrester is usually connected from transformer is %.f-%.f m', L-2,L+3)"
   ]
   }
],
"metadata": {
		  "kernelspec": {
		   "display_name": "Scilab",
		   "language": "scilab",
		   "name": "scilab"
		  },
		  "language_info": {
		   "file_extension": ".sce",
		   "help_links": [
			{
			 "text": "MetaKernel Magics",
			 "url": "https://github.com/calysto/metakernel/blob/master/metakernel/magics/README.md"
			}
		   ],
		   "mimetype": "text/x-octave",
		   "name": "scilab",
		   "version": "0.7.1"
		  }
		 },
		 "nbformat": 4,
		 "nbformat_minor": 0
}
