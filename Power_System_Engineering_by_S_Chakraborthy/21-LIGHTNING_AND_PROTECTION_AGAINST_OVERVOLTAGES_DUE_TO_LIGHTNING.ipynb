{
"cells": [
 {
		   "cell_type": "markdown",
	   "metadata": {},
	   "source": [
       "# Chapter 21: LIGHTNING AND PROTECTION AGAINST OVERVOLTAGES DUE TO LIGHTNING"
	   ]
	},
{
		   "cell_type": "markdown",
		   "metadata": {},
		   "source": [
			"## Example 21.1: EX21_1.sce"
		   ]
		  },
  {
"cell_type": "code",
	   "execution_count": null,
	   "metadata": {
	    "collapsed": true
	   },
	   "outputs": [],
"source": [
"// A Texbook on POWER SYSTEM ENGINEERING\n",
"// A.Chakrabarti, M.L.Soni, P.V.Gupta, U.S.Bhatnagar\n",
"// DHANPAT RAI & Co.\n",
"// SECOND EDITION \n",
"\n",
"// PART II : TRANSMISSION AND DISTRIBUTION\n",
"// CHAPTER 14: LIGHTNING AND PROTECTION AGAINST OVERVOLTAGES DUE TO LIGHTNING\n",
"\n",
"// EXAMPLE : 14.1 :\n",
"// Page number 382\n",
"clear ; clc ; close ; // Clear the work space and console\n",
"\n",
"// Given data\n",
"RI_072 = 72000.0     // Charactersistic of lightning arrester\n",
"Z_c = 500.0          // Surge impedance(ohm)\n",
"V = 500.0            // Surge voltage(kV)\n",
"\n",
"// Calculations\n",
"// Case(a)\n",
"V_a = 2.0*V            // Voltage at the end of line at open-circuit(kV)\n",
"ratio_a = V_a/V        // Ratio of voltage when line in open-circuited\n",
"// Case(b)\n",
"I = V*1000/Z_c         // Surge current(A)\n",
"R = RI_072/(I)**0.72   // Resistance of LA(ohm)\n",
"ratio_b = R/Z_c        // Ratio of voltage when line is terminated by arrester\n",
"\n",
"// Results\n",
"disp('PART II - EXAMPLE : 14.1 : SOLUTION :-')\n",
"printf('\nCase(a): Ratio of voltages appearing at the end of a line when line is open-circuited = %.f', ratio_a)\n",
"printf('\nCase(b): Ratio of voltages appearing at the end of a line when line is terminated by arrester = %.f', ratio_b)"
   ]
   }
,
{
		   "cell_type": "markdown",
		   "metadata": {},
		   "source": [
			"## Example 21.2: Choosing_suitable_arrester_rating.sce"
		   ]
		  },
  {
"cell_type": "code",
	   "execution_count": null,
	   "metadata": {
	    "collapsed": true
	   },
	   "outputs": [],
"source": [
"// A Texbook on POWER SYSTEM ENGINEERING\n",
"// A.Chakrabarti, M.L.Soni, P.V.Gupta, U.S.Bhatnagar\n",
"// DHANPAT RAI & Co.\n",
"// SECOND EDITION \n",
"\n",
"// PART II : TRANSMISSION AND DISTRIBUTION\n",
"// CHAPTER 14: LIGHTNING AND PROTECTION AGAINST OVERVOLTAGES DUE TO LIGHTNING\n",
"\n",
"// EXAMPLE : 14.2 :\n",
"// Page number 383\n",
"clear ; clc ; close ; // Clear the work space and console\n",
"\n",
"// Given data\n",
"rating = 5000.0       // Rating of transformer(kVA)\n",
"V_hv = 66.0           // HV voltage(kV)\n",
"V_lv = 11.0           // LV voltage(kV)\n",
"V = 66.0              // System voltage(kV)\n",
"fluctuation = 0.1     // Voltage fluctuations\n",
"BIL = 350.0           // BIL for 66kV(kV)\n",
"dynamic_ov = 1.3      // Dynamic over-voltage = 1.3*system operating voltage\n",
"V_power_freq = 1.5    // Power frequency breakdown voltage of arrester = 1.5*arrester rating(kV)\n",
"lower_limit = 0.05    // Margin of lower limit of arrester rating\n",
"\n",
"// Calculation & Result\n",
"disp('PART II - EXAMPLE : 14.2 : SOLUTION :-')\n",
"V_rating = V*(1+fluctuation)*0.8*(1+lower_limit)          // Voltage rating of arrester(kV)\n",
"if(round(V_rating)==51) then\n",
"    V_rating_choosen = 50.0                               // Arrester rating choosen(kV)\n",
"    V_discharge = 176.0                                   // Discharge voltage for 50kV arrester(kV)\n",
"    protective_margin = BIL-V_discharge                   // Protective margin available(kV)\n",
"    V_power_frequency_bd = V_rating_choosen*V_power_freq  // Power frequency breakdown voltage(kV)\n",
"    Over_voltage_dynamic = dynamic_ov*V/3**0.5            // Dynamic overvoltage(kV)\n",
"    if(V_power_frequency_bd>Over_voltage_dynamic) then\n",
"        printf('\nFirst arrester with rating 50 kV (rms) & discharge voltage 176 kV chosen is suitable')\n",
"    end\n",
"elseif(round(V_rating)==61) then\n",
"    V_rating_choosen = 60.0                               // Arrester rating choosen(kV)\n",
"    V_discharge = 220.0                                   // Discharge voltage for 50kV arrester(kV)\n",
"    protective_margin = BIL-V_discharge                   // Protective margin available(kV)\n",
"    V_power_frequency_bd = V_rating_choosen*V_power_freq  // Power frequency breakdown voltage(kV)\n",
"    Over_voltage_dynamic = dynamic_ov*V/3**0.5            // Dynamic overvoltage(kV)\n",
"    if(V_power_frequency_bd>Over_voltage_dynamic)\n",
"        printf('\nSecond arrester with rating 60 kV (rms) & discharge voltage 220 kV chosen is suitable')\n",
"    end\n",
"else(round(V_rating)==74) then\n",
"    V_rating_choosen = 73.0                               // Arrester rating choosen(kV)\n",
"    V_discharge = 264.0                                   // Discharge voltage for 50kV arrester(kV)\n",
"    protective_margin = BIL-V_discharge                   // Protective margin available(kV)\n",
"    V_power_frequency_bd = V_rating_choosen*V_power_freq  // Power frequency breakdown voltage(kV)\n",
"    Over_voltage_dynamic = dynamic_ov*V/3**0.5            // Dynamic overvoltage(kV)\n",
"    if(V_power_frequency_bd>Over_voltage_dynamic) then\n",
"        printf('\nThird arrester with rating 73 kV (rms) & discharge voltage 264 kV chosen is suitable')\n",
"    end\n",
"end"
   ]
   }
],
"metadata": {
		  "kernelspec": {
		   "display_name": "Scilab",
		   "language": "scilab",
		   "name": "scilab"
		  },
		  "language_info": {
		   "file_extension": ".sce",
		   "help_links": [
			{
			 "text": "MetaKernel Magics",
			 "url": "https://github.com/calysto/metakernel/blob/master/metakernel/magics/README.md"
			}
		   ],
		   "mimetype": "text/x-octave",
		   "name": "scilab",
		   "version": "0.7.1"
		  }
		 },
		 "nbformat": 4,
		 "nbformat_minor": 0
}
