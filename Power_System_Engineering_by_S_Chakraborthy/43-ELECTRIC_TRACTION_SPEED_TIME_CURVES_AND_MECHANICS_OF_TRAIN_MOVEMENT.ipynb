{
"cells": [
 {
		   "cell_type": "markdown",
	   "metadata": {},
	   "source": [
       "# Chapter 43: ELECTRIC TRACTION SPEED TIME CURVES AND MECHANICS OF TRAIN MOVEMENT"
	   ]
	},
{
		   "cell_type": "markdown",
		   "metadata": {},
		   "source": [
			"## Example 43.10: Minimum_adhesive_weight_of_the_locomotive.sce"
		   ]
		  },
  {
"cell_type": "code",
	   "execution_count": null,
	   "metadata": {
	    "collapsed": true
	   },
	   "outputs": [],
"source": [
"// A Texbook on POWER SYSTEM ENGINEERING\n",
"// A.Chakrabarti, M.L.Soni, P.V.Gupta, U.S.Bhatnagar\n",
"// DHANPAT RAI & Co.\n",
"// SECOND EDITION \n",
"\n",
"// PART IV : UTILIZATION AND TRACTION\n",
"// CHAPTER 5: ELECTRIC TRACTION-SPEED TIME CURVES AND MECHANICS OF TRAIN MOVEMENT\n",
"\n",
"// EXAMPLE : 5.10 :\n",
"// Page number 784\n",
"clear ; clc ; close ; // Clear the work space and console\n",
"\n",
"// Given data\n",
"W = 350.0      // Weight of train(tonne)\n",
"G = 1.0        // Gradient\n",
"alpha = 0.8    // Acceleration(km phps)\n",
"u = 0.25       // Co-efficient of adhesion\n",
"r = 44.5       // Train resistance(N/tonne)\n",
"I = 10.0       // Rotational inertia(%)\n",
"\n",
"// Calculations\n",
"W_e = W*(100+I)/100                  // Accelerating weight of train(tonne)\n",
"F_t = 277.8*W_e*alpha+W*r+98.1*W*G   // Tractive effort(N)\n",
"adhesive_weight = F_t/(u*9.81*1000)  // Adhesive weight(tonnes)\n",
"\n",
"// Results\n",
"disp('PART IV - EXAMPLE : 5.10 : SOLUTION :-')\n",
"printf('\nMinimum adhesive weight of the locomotive = %.1f tonnes\n', adhesive_weight)\n",
"printf('\nNOTE: ERROR: Train resistance is 44.5 N per tonne & not 45 N per tonne as mentioned in textbook problem statement')"
   ]
   }
,
{
		   "cell_type": "markdown",
		   "metadata": {},
		   "source": [
			"## Example 43.11: EX43_11.sce"
		   ]
		  },
  {
"cell_type": "code",
	   "execution_count": null,
	   "metadata": {
	    "collapsed": true
	   },
	   "outputs": [],
"source": [
"// A Texbook on POWER SYSTEM ENGINEERING\n",
"// A.Chakrabarti, M.L.Soni, P.V.Gupta, U.S.Bhatnagar\n",
"// DHANPAT RAI & Co.\n",
"// SECOND EDITION \n",
"\n",
"// PART IV : UTILIZATION AND TRACTION\n",
"// CHAPTER 5: ELECTRIC TRACTION-SPEED TIME CURVES AND MECHANICS OF TRAIN MOVEMENT\n",
"\n",
"// EXAMPLE : 5.11 :\n",
"// Page number 784\n",
"clear ; clc ; close ; // Clear the work space and console\n",
"\n",
"// Given data\n",
"W = 400.0       // Weight of train(tonne)\n",
"G = 100.0/75    // Gradient\n",
"alpha = 1.6     // Acceleration(km phps)\n",
"r = 66.75       // Train resistance(N/tonne)\n",
"I = 10.0        // Rotational inertia(%)\n",
"V = 48.0        // Speed(kmph)\n",
"n = 0.7         // Overall efficiency of equipment\n",
"\n",
"// Calculations\n",
"W_e = W*(100+I)/100                  // Accelerating weight of train(tonne)\n",
"F_t = 277.8*W_e*alpha+W*r+98.1*W*G   // Tractive effort(N)\n",
"t = V/alpha                          // Time(sec)\n",
"energy_a = F_t*V*t/(2*3600**2)       // Energy usefully employed(kWh)\n",
"G_r = 98.1*G+r                       // Force(N)\n",
"work_tonne_km = G_r*1000             // Work done per tonne per km(Nw-m)\n",
"energy_b = work_tonne_km/(n*3600)    // Energy consumption(Wh per tonne-km)\n",
"\n",
"// Results\n",
"disp('PART IV - EXAMPLE : 5.11 : SOLUTION :-')\n",
"printf('\nCase(a): Energy usefully employed in attaining speed = %.2f kWh', energy_a)\n",
"printf('\nCase(b): Specific energy consumption at steady state speed = %.1f Wh per tonne-km', energy_b)"
   ]
   }
,
{
		   "cell_type": "markdown",
		   "metadata": {},
		   "source": [
			"## Example 43.12: Minimum_adhesive_weight_of_a_locomotive.sce"
		   ]
		  },
  {
"cell_type": "code",
	   "execution_count": null,
	   "metadata": {
	    "collapsed": true
	   },
	   "outputs": [],
"source": [
"// A Texbook on POWER SYSTEM ENGINEERING\n",
"// A.Chakrabarti, M.L.Soni, P.V.Gupta, U.S.Bhatnagar\n",
"// DHANPAT RAI & Co.\n",
"// SECOND EDITION \n",
"\n",
"// PART IV : UTILIZATION AND TRACTION\n",
"// CHAPTER 5: ELECTRIC TRACTION-SPEED TIME CURVES AND MECHANICS OF TRAIN MOVEMENT\n",
"\n",
"// EXAMPLE : 5.12 :\n",
"// Page number 784-785\n",
"clear ; clc ; close ; // Clear the work space and console\n",
"\n",
"// Given data\n",
"W = 200.0       // Trailing weight(tonne)\n",
"G = 1.0         // Gradient(%)\n",
"alpha = 1.0     // Acceleration(km phps)\n",
"u = 0.2         // Co-efficient of adhesion\n",
"r = 50.0        // Train resistance(N/tonne)\n",
"I = 10.0        // Rotational inertia(%)\n",
"\n",
"// Calculations\n",
"W_L = ((277.8*(100+I)/100*alpha)+98.1*G+r)*W/(u*9.81*1000-((277.8*(100+I)/100*alpha)+98.1*G+r))  // Weight of locomotive(tonnes)\n",
"\n",
"// Results\n",
"disp('PART IV - EXAMPLE : 5.12 : SOLUTION :-')\n",
"printf('\nMinimum adhesive weight of a locomotive, W_L = %.1f tonnes\n', W_L)\n",
"printf('\nNOTE: ERROR: Calculation mistake in textbook solution in calculating W_L')"
   ]
   }
,
{
		   "cell_type": "markdown",
		   "metadata": {},
		   "source": [
			"## Example 43.1: Maximum_speed_over_the_ru.sce"
		   ]
		  },
  {
"cell_type": "code",
	   "execution_count": null,
	   "metadata": {
	    "collapsed": true
	   },
	   "outputs": [],
"source": [
"// A Texbook on POWER SYSTEM ENGINEERING\n",
"// A.Chakrabarti, M.L.Soni, P.V.Gupta, U.S.Bhatnagar\n",
"// DHANPAT RAI & Co.\n",
"// SECOND EDITION \n",
"\n",
"// PART IV : UTILIZATION AND TRACTION\n",
"// CHAPTER 5: ELECTRIC TRACTION-SPEED TIME CURVES AND MECHANICS OF TRAIN MOVEMENT\n",
"\n",
"// EXAMPLE : 5.1 :\n",
"// Page number 778\n",
"clear ; clc ; close ; // Clear the work space and console\n",
"\n",
"// Given data\n",
"speed = 45.0      // Scheduled speed(kmph)\n",
"D = 1.5           // Distance between 2 stops(km)\n",
"t = 20.0          // Time of stop(sec)\n",
"alpha = 2.4       // Acceleration(km phps)\n",
"beta = 3.2        // Retardation(km phps)\n",
"\n",
"// Calculations\n",
"t_total = D*3600/speed                   // Total time(sec)\n",
"T = t_total-t                            // Actual time for run(sec)\n",
"k = (alpha+beta)/(alpha*beta)            // Constant\n",
"V_m = (T/k)-((T/k)**2-(7200*D/k))**0.5   // Maximum speed over the run(kmph)\n",
"\n",
"// Results\n",
"disp('PART IV - EXAMPLE : 5.1 : SOLUTION :-')\n",
"printf('\nMaximum speed over the run, V_m = %.f kmph', V_m)"
   ]
   }
,
{
		   "cell_type": "markdown",
		   "metadata": {},
		   "source": [
			"## Example 43.2: Value_of_retardatio.sce"
		   ]
		  },
  {
"cell_type": "code",
	   "execution_count": null,
	   "metadata": {
	    "collapsed": true
	   },
	   "outputs": [],
"source": [
"// A Texbook on POWER SYSTEM ENGINEERING\n",
"// A.Chakrabarti, M.L.Soni, P.V.Gupta, U.S.Bhatnagar\n",
"// DHANPAT RAI & Co.\n",
"// SECOND EDITION \n",
"\n",
"// PART IV : UTILIZATION AND TRACTION\n",
"// CHAPTER 5: ELECTRIC TRACTION-SPEED TIME CURVES AND MECHANICS OF TRAIN MOVEMENT\n",
"\n",
"// EXAMPLE : 5.2 :\n",
"// Page number 778\n",
"clear ; clc ; close ; // Clear the work space and console\n",
"\n",
"// Given data\n",
"V_m = 65.0        // Maximum speed(kmph)\n",
"t = 30.0          // Time of stop(sec)\n",
"speed = 43.5      // Scheduled speed(kmph)\n",
"alpha = 1.3       // Acceleration(km phps)\n",
"D = 3.0           // Distance between 2 stops(km)\n",
"\n",
"// Calculations\n",
"t_total = D*3600/speed                                 // Total time of run including stop(sec)\n",
"T = t_total-t                                          // Actual time for run(sec)\n",
"V_a = D/T*3600                                         // Average speed(kmph)\n",
"beta = 1/((7200.0*D/V_m**2*((V_m/V_a)-1))-(1/alpha))   // Value of retardation(km phps)\n",
"\n",
"// Results\n",
"disp('PART IV - EXAMPLE : 5.2 : SOLUTION :-')\n",
"printf('\nValue of retardation, β = %.3f km phps\n', beta)\n",
"printf('\nNOTE: Changes in the obtained answer from that of textbook is due to more precision here')\n",
"printf('\n      ERROR: β unit is km phps & not km phps as mentioned in textbook solution')"
   ]
   }
,
{
		   "cell_type": "markdown",
		   "metadata": {},
		   "source": [
			"## Example 43.3: Rate_of_acceleration_required_to_operate_service.sce"
		   ]
		  },
  {
"cell_type": "code",
	   "execution_count": null,
	   "metadata": {
	    "collapsed": true
	   },
	   "outputs": [],
"source": [
"// A Texbook on POWER SYSTEM ENGINEERING\n",
"// A.Chakrabarti, M.L.Soni, P.V.Gupta, U.S.Bhatnagar\n",
"// DHANPAT RAI & Co.\n",
"// SECOND EDITION \n",
"\n",
"// PART IV : UTILIZATION AND TRACTION\n",
"// CHAPTER 5: ELECTRIC TRACTION-SPEED TIME CURVES AND MECHANICS OF TRAIN MOVEMENT\n",
"\n",
"// EXAMPLE : 5.3 :\n",
"// Page number 778-779\n",
"clear ; clc ; close ; // Clear the work space and console\n",
"\n",
"// Given data\n",
"speed = 25.0       // Scheduled speed(kmph)\n",
"D = 800.0/1000     // Distance between 2 stations(km)\n",
"t = 20.0           // Time of stop(sec)\n",
"V_m_per = 20.0     // Maximum speed higher than(%)\n",
"beta = 3.0         // Retardation(km phps)\n",
"\n",
"// Calculations\n",
"t_total = D*3600/speed                                 // Total time of run including stop(sec)\n",
"T = t_total-t                                          // Actual time for run(sec)\n",
"V_a = D/T*3600                                         // Average speed(kmph)\n",
"V_m = (100+V_m_per)*V_a/100                            // Maximum speed(kmph)\n",
"alpha = 1/((7200.0*D/V_m**2*((V_m/V_a)-1))-(1/beta))   // Value of acceleration(km phps)\n",
"\n",
"// Results\n",
"disp('PART IV - EXAMPLE : 5.3 : SOLUTION :-')\n",
"printf('\nRate of acceleration required to operate this service, α = %.2f km phps', alpha)"
   ]
   }
,
{
		   "cell_type": "markdown",
		   "metadata": {},
		   "source": [
			"## Example 43.4: Duration_of_acceleration_Coasting_and_Braking_periods.sce"
		   ]
		  },
  {
"cell_type": "code",
	   "execution_count": null,
	   "metadata": {
	    "collapsed": true
	   },
	   "outputs": [],
"source": [
"// A Texbook on POWER SYSTEM ENGINEERING\n",
"// A.Chakrabarti, M.L.Soni, P.V.Gupta, U.S.Bhatnagar\n",
"// DHANPAT RAI & Co.\n",
"// SECOND EDITION \n",
"\n",
"// PART IV : UTILIZATION AND TRACTION\n",
"// CHAPTER 5: ELECTRIC TRACTION-SPEED TIME CURVES AND MECHANICS OF TRAIN MOVEMENT\n",
"\n",
"// EXAMPLE : 5.4 :\n",
"// Page number 779\n",
"clear ; clc ; close ; // Clear the work space and console\n",
"\n",
"// Given data\n",
"D = 2.0          // Distance between 2 stations(km)\n",
"V_a = 40.0       // Average speed(kmph)\n",
"V_1 = 60.0       // Maximum speed limitation(kph)\n",
"alpha = 2.0      // Acceleration(km phps)\n",
"beta_c = 0.15    // Coasting retardation(km phps)\n",
"beta = 3.0       // Braking retardation(km phps)\n",
"\n",
"// Calculations\n",
"t_1 = V_1/alpha                                        // Time for acceleration(sec)\n",
"T = 3600*D/V_a                                         // Actual time of run(sec)\n",
"V_2 = (T-t_1-(V_1/beta_c))*beta*beta_c/(beta_c-beta)   // Speed at the end of coasting period(kmph)\n",
"t_2 = (V_1-V_2)/beta_c                                 // Coasting period(sec)\n",
"t_3 = V_2/beta                                         // Braking period(sec)\n",
"\n",
"// Results\n",
"disp('PART IV - EXAMPLE : 5.4 : SOLUTION :-')\n",
"printf('\nDuration of acceleration, t_1 = %.f sec', t_1)\n",
"printf('\nDuration of coasting, t_2 = %.f sec', t_2)\n",
"printf('\nDuration of braking, t_3 = %.f sec', t_3)"
   ]
   }
,
{
		   "cell_type": "markdown",
		   "metadata": {},
		   "source": [
			"## Example 43.5: Tractive_resistance.sce"
		   ]
		  },
  {
"cell_type": "code",
	   "execution_count": null,
	   "metadata": {
	    "collapsed": true
	   },
	   "outputs": [],
"source": [
"// A Texbook on POWER SYSTEM ENGINEERING\n",
"// A.Chakrabarti, M.L.Soni, P.V.Gupta, U.S.Bhatnagar\n",
"// DHANPAT RAI & Co.\n",
"// SECOND EDITION \n",
"\n",
"// PART IV : UTILIZATION AND TRACTION\n",
"// CHAPTER 5: ELECTRIC TRACTION-SPEED TIME CURVES AND MECHANICS OF TRAIN MOVEMENT\n",
"\n",
"// EXAMPLE : 5.5 :\n",
"// Page number 781-782\n",
"clear ; clc ; close ; // Clear the work space and console\n",
"\n",
"// Given data\n",
"r = 1.0    // Tractive resistance(N/tonne)\n",
"\n",
"// Calculations\n",
"tractive_res_i = 0.278*r     // Tractive resistance(N/tonne) = Energy consumption(Wh/tonne-km)\n",
"beta = 1/277.8               // Tractive resistance(N/tonne) = Retardation(km kmps/tonne)\n",
"energy = 98.1*1000/3600      // 1% gradient = energy(Wh per tonne km)\n",
"\n",
"// Results\n",
"disp('PART IV - EXAMPLE : 5.5 : SOLUTION :-')\n",
"printf('\nCase(i)  : Tractive resistance of 1 N per tonne = %.3f Wh per tonne-km', tractive_res_i)\n",
"printf('\nCase(ii) : Tractive resistance of 1 N per tonne = %.5f km phps per tonne', beta)\n",
"printf('\nCase(iii): 1 percent gradient = %.2f Wh per tonne km\n', energy)\n",
"printf('\nNOTE: Slight change in the obtained answer from that of textbook is due to more precision here')"
   ]
   }
,
{
		   "cell_type": "markdown",
		   "metadata": {},
		   "source": [
			"## Example 43.6: Torque_developed_by_each_motor.sce"
		   ]
		  },
  {
"cell_type": "code",
	   "execution_count": null,
	   "metadata": {
	    "collapsed": true
	   },
	   "outputs": [],
"source": [
"// A Texbook on POWER SYSTEM ENGINEERING\n",
"// A.Chakrabarti, M.L.Soni, P.V.Gupta, U.S.Bhatnagar\n",
"// DHANPAT RAI & Co.\n",
"// SECOND EDITION \n",
"\n",
"// PART IV : UTILIZATION AND TRACTION\n",
"// CHAPTER 5: ELECTRIC TRACTION-SPEED TIME CURVES AND MECHANICS OF TRAIN MOVEMENT\n",
"\n",
"// EXAMPLE : 5.6 :\n",
"// Page number 782\n",
"clear ; clc ; close ; // Clear the work space and console\n",
"\n",
"// Given data\n",
"W = 254.0      // Weight of motor-coach train(tonne)\n",
"no = 4.0       // Number of motor\n",
"t_1 = 20.0     // Time(sec)\n",
"V_m = 40.25    // Maximum speed(kmph)\n",
"G = 1.0        // Gradient(%)\n",
"gamma = 3.5    // Gear ratio\n",
"n = 0.95       // Gear efficiency\n",
"D = 91.5/100   // Wheel diameter(m)\n",
"r = 44.0       // Train resistance(N/tonne)\n",
"I = 10.0       // Rotational inertia(%)\n",
"\n",
"// Calculations\n",
"W_e = W*(100+I)/100                  // Accelerating weight of train(tonne)\n",
"alpha = V_m/t_1                      // Acceleration(km phps)\n",
"F_t = 277.8*W_e*alpha+W*r+98.1*W*G   // Tractive effort(N)\n",
"T = F_t*D/(2*n*gamma)                // Torque developed(N-m)\n",
"T_each = T/no                        // Torque developed by each motor(N-m)\n",
"\n",
"// Results\n",
"disp('PART IV - EXAMPLE : 5.6 : SOLUTION :-')\n",
"printf('\nTorque developed by each motor = %.f N-m\n', T_each)\n",
"printf('\nNOTE: Changes in the obtained answer from that of textbook is due to more precision here & more approximation in textbook')\n",
"printf('\n      ERROR: W = 254 tonne, not 256 tonne as mentioned in textbook problem statement')"
   ]
   }
,
{
		   "cell_type": "markdown",
		   "metadata": {},
		   "source": [
			"## Example 43.7: Time_taken_by_train_to_attain_speed.sce"
		   ]
		  },
  {
"cell_type": "code",
	   "execution_count": null,
	   "metadata": {
	    "collapsed": true
	   },
	   "outputs": [],
"source": [
"// A Texbook on POWER SYSTEM ENGINEERING\n",
"// A.Chakrabarti, M.L.Soni, P.V.Gupta, U.S.Bhatnagar\n",
"// DHANPAT RAI & Co.\n",
"// SECOND EDITION \n",
"\n",
"// PART IV : UTILIZATION AND TRACTION\n",
"// CHAPTER 5: ELECTRIC TRACTION-SPEED TIME CURVES AND MECHANICS OF TRAIN MOVEMENT\n",
"\n",
"// EXAMPLE : 5.7 :\n",
"// Page number 782\n",
"clear ; clc ; close ; // Clear the work space and console\n",
"\n",
"// Given data\n",
"W = 203.0      // Weight of motor-coach train(tonne)\n",
"no = 4.0       // Number of motors\n",
"T = 5130.0     // Shaft torque(N-m)\n",
"V_m = 42.0     // Maximum speed(kmph)\n",
"G = 100.0/250  // Gradient\n",
"gamma = 3.5    // Gear ratio\n",
"n = 0.93       // Gear efficiency\n",
"D = 91.5/100   // Wheel diameter(m)\n",
"r = 45.0       // Train resistance(N/tonne)\n",
"I = 10.0       // Rotational inertia(%)\n",
"\n",
"// Calculations\n",
"W_e = W*(100+I)/100                     // Accelerating weight of train(tonne)\n",
"F_t = n*4*T*2*gamma/D                   // Tractive effort(N)\n",
"alpha = (F_t-W*r-98.1*W*G)/(277.8*W_e)  // Acceleration(km phps)\n",
"t_1 = V_m/alpha                         // Time taken by train to attain speed(sec)\n",
"\n",
"// Results\n",
"disp('PART IV - EXAMPLE : 5.7 : SOLUTION :-')\n",
"printf('\nTime taken by train to attain speed, t_1 = %.1f sec', t_1)"
   ]
   }
,
{
		   "cell_type": "markdown",
		   "metadata": {},
		   "source": [
			"## Example 43.8: Speed_Time_curve_for_the_run_and_Energy_consumption_at_the_axles_of_train.sce"
		   ]
		  },
  {
"cell_type": "code",
	   "execution_count": null,
	   "metadata": {
	    "collapsed": true
	   },
	   "outputs": [],
"source": [
"// A Texbook on POWER SYSTEM ENGINEERING\n",
"// A.Chakrabarti, M.L.Soni, P.V.Gupta, U.S.Bhatnagar\n",
"// DHANPAT RAI & Co.\n",
"// SECOND EDITION \n",
"\n",
"// PART IV : UTILIZATION AND TRACTION\n",
"// CHAPTER 5: ELECTRIC TRACTION-SPEED TIME CURVES AND MECHANICS OF TRAIN MOVEMENT\n",
"\n",
"// EXAMPLE : 5.8 :\n",
"// Page number 782-783\n",
"clear ; clc ; close ; // Clear the work space and console\n",
"\n",
"// Given data\n",
"V_a = 42.0          // Average speed of train(kmph)\n",
"D = 1400.0/1000     // Distance(km)\n",
"alpha = 1.7         // Acceleration(km phps)\n",
"beta = 3.3          // Retardation(km phps)\n",
"r = 50.0            // Tractive resistance(N/tonne)\n",
"I = 10.0            // Rotational inertia(%)\n",
"\n",
"// Calculations\n",
"T = D*3600/V_a                                       // Time for run(sec)\n",
"k = (alpha+beta)/(alpha*beta)                        // Constant\n",
"V_m = (T/k)-((T/k)**2-(7200*D/k))**0.5               // Maximum speed over the run(kmph)\n",
"t_1 = V_m/alpha                                      // Time of acceleration(sec)\n",
"t_3 = V_m/beta                                       // Time(sec)\n",
"t_2 = T-(t_1+t_3)                                    // Time(sec)\n",
"D_1 = D-(V_a*t_1/(2*3600))                           // Distance(km)\n",
"We_W = (100+I)/100                                   // W_e/W\n",
"energy = (0.0107*V_m**2*We_W/D)+(0.278*r*D_1/D)      // Energy consumption(Wh per tonne-km)\n",
"a = gca() ;\n",
"a.thickness = 2                                      // sets thickness of plot\n",
"plot([0,t_1,t_1,(t_1+t_2),(t_1+t_2),(t_1+t_2+t_3)],[0,V_m,V_m,V_m,V_m,0])       // Plotting speed-time curve\n",
"plot([t_1,t_1],[0,V_m],'r--')\n",
"plot([t_1+t_2,t_1+t_2],[0,V_m],'r--')\n",
"a.x_label.text = 'Time(seconds)'                     // labels x-axis\n",
"a.y_label.text = 'Speed (km/h)'                      // labels y-axis\n",
"xtitle('Fig E5.1 . Speed-time curve for the run') \n",
"xset('thickness',2)                                  // sets thickness of axes\n",
"\n",
"// Results\n",
"disp('PART IV - EXAMPLE : 5.8 : SOLUTION :-')\n",
"printf('\nSpeed-time curve for the run is shown in Figure E5.1')\n",
"printf('\nEnergy consumption at the axles of train = %.1f Wh per tonne-km', energy)"
   ]
   }
,
{
		   "cell_type": "markdown",
		   "metadata": {},
		   "source": [
			"## Example 43.9: Acceleration_Coasting_retardation_and_Scheduled_speed.sce"
		   ]
		  },
  {
"cell_type": "code",
	   "execution_count": null,
	   "metadata": {
	    "collapsed": true
	   },
	   "outputs": [],
"source": [
"// A Texbook on POWER SYSTEM ENGINEERING\n",
"// A.Chakrabarti, M.L.Soni, P.V.Gupta, U.S.Bhatnagar\n",
"// DHANPAT RAI & Co.\n",
"// SECOND EDITION \n",
"\n",
"// PART IV : UTILIZATION AND TRACTION\n",
"// CHAPTER 5: ELECTRIC TRACTION-SPEED TIME CURVES AND MECHANICS OF TRAIN MOVEMENT\n",
"\n",
"// EXAMPLE : 5.9 :\n",
"// Page number 783\n",
"clear ; clc ; close ; // Clear the work space and console\n",
"\n",
"// Given data\n",
"V_A = 48.0       // Speed(kmph)\n",
"t_1 = 24.0       // Time taken to accelerate from rest to speed(sec)\n",
"t_2 = 69.0       // Coasting time(sec)\n",
"r = 58.0         // Constant resistance(N/tonne)\n",
"beta = 3.3       // Retardation(km phps)\n",
"t_3 = 11.0       // Retardation time(sec)\n",
"t_iii_a = 20.0   // Station stop time(sec)\n",
"t_iii_b = 15.0   // Station stop time(sec)\n",
"I = 10.0         // Rotational inertia(%)\n",
"\n",
"// Calculations\n",
"alpha = V_A/t_1                                                   // Acceleration(km phps)\n",
"V_B = beta*t_3                                                    // Speed at B(km phps)\n",
"beta_c = (V_A-V_B)/t_2                                            // Retardation during coasting(km phps)\n",
"distance_acc = 1.0/2*t_1*V_A/3600                                 // Distance covered during acceleration(km)\n",
"distance_coasting = (V_A**2-V_B**2)/(2*beta_c*3600)               // Distance covered during coasting(km)\n",
"distance_braking = t_3*V_B/(3600*2)                               // Distance covered during braking(km)\n",
"distance_total = distance_acc+distance_coasting+distance_braking  // Total distance(km)\n",
"speed_iii_a = distance_total*3600/(t_1+t_2+t_3+t_iii_a)           // Scheduled speed with a stop of 20 sec(kmph)\n",
"speed_iii_b = distance_total*3600/(t_1+t_2+t_3+t_iii_b)           // Scheduled speed with a stop of 15 sec(kmph)\n",
"\n",
"// Results\n",
"disp('PART IV - EXAMPLE : 5.9 : SOLUTION :-')\n",
"printf('\nCase(i)  : Acceleration, α = %.f km phps', alpha)\n",
"printf('\nCase(ii) : Coasting retardation, β_c = %.2f km phps', beta_c)\n",
"printf('\nCase(iii): Scheduled speed with a stop of 20 seconds = %.2f kmph', speed_iii_a)\n",
"printf('\n           Scheduled speed with a stop of 15 seconds = %.2f kmph\n', speed_iii_b)\n",
"printf('\nNOTE: ERROR: Calculation mistakes in the textbook solution')"
   ]
   }
],
"metadata": {
		  "kernelspec": {
		   "display_name": "Scilab",
		   "language": "scilab",
		   "name": "scilab"
		  },
		  "language_info": {
		   "file_extension": ".sce",
		   "help_links": [
			{
			 "text": "MetaKernel Magics",
			 "url": "https://github.com/calysto/metakernel/blob/master/metakernel/magics/README.md"
			}
		   ],
		   "mimetype": "text/x-octave",
		   "name": "scilab",
		   "version": "0.7.1"
		  }
		 },
		 "nbformat": 4,
		 "nbformat_minor": 0
}
