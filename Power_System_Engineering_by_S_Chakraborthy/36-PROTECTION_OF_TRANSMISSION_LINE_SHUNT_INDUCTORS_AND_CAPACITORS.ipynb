{
"cells": [
 {
		   "cell_type": "markdown",
	   "metadata": {},
	   "source": [
       "# Chapter 36: PROTECTION OF TRANSMISSION LINE SHUNT INDUCTORS AND CAPACITORS"
	   ]
	},
{
		   "cell_type": "markdown",
		   "metadata": {},
		   "source": [
			"## Example 36.1: First_Second_and_Third_zone_relay_setting_Without_infeed_and_With_infeed.sce"
		   ]
		  },
  {
"cell_type": "code",
	   "execution_count": null,
	   "metadata": {
	    "collapsed": true
	   },
	   "outputs": [],
"source": [
"// A Texbook on POWER SYSTEM ENGINEERING\n",
"// A.Chakrabarti, M.L.Soni, P.V.Gupta, U.S.Bhatnagar\n",
"// DHANPAT RAI & Co.\n",
"// SECOND EDITION \n",
"\n",
"// PART III : SWITCHGEAR AND PROTECTION\n",
"// CHAPTER 10: PROTECTION OF TRANSMISSION LINE, SHUNT INDUCTORS AND CAPACITORS\n",
"\n",
"// EXAMPLE : 10.1 :\n",
"// Page number 647-648\n",
"clear ; clc ; close ; // Clear the work space and console\n",
"\n",
"// Given data\n",
"G2_per = 70.0              // G2 is fed at 70% distance from A in section AB(%)\n",
"X_T = 10.0                 // Transformer reactance(%)\n",
"zone_1_per = 80.0          // Setting for first zone(%)\n",
"zone_2_per = 50.0          // Setting for second zone(%)\n",
"CT_ratio = 400.0/5         // CT ratio\n",
"PT_ratio = 166000.0/110    // PT ratio\n",
"Z_AB = complex(20.0,60.0)  // Section AB impedance(ohm)\n",
"Z_BC = complex(10.0,25.0)  // Section BC impedance(ohm)\n",
"MVA = 10.0                 // Transformer rating(MVA)\n",
"kV_hv = 166.0              // HV side voltage(kV)\n",
"kV_lv = 33.0               // LV side voltage(kV)\n",
"\n",
"// Calculations\n",
"// Case(i) Without infeed\n",
"Z_sec_1 = zone_1_per/100*Z_AB*CT_ratio/PT_ratio                 // First zone setting(ohm)\n",
"Z_BC_hv = Z_BC*(kV_hv/kV_lv)**2                                 // Z_BC on 166 kV base(ohm)\n",
"Z_T = %i*10*X_T*kV_hv**2/(MVA*1000)                             // Transformer impedance(ohm)\n",
"Z_sec_2 = (Z_AB+zone_2_per/100*Z_BC_hv+Z_T)*CT_ratio/PT_ratio   // Second zone setting(ohm)\n",
"Z_sec_3 = (Z_AB+Z_BC_hv+Z_T)*CT_ratio/PT_ratio                  // Third zone setting(ohm)\n",
"// Case(ii) With infeed\n",
"I_AB = 2.0                                                                                           // Current ratio\n",
"Z_zone_1 = (G2_per/100*Z_AB)+I_AB*(zone_1_per-G2_per)/100*Z_AB                                       // First zone impedance(ohm)\n",
"Z_1 = Z_zone_1*CT_ratio/PT_ratio                                                                     // First zone setting(ohm)\n",
"Z_zone_2 = (G2_per/100*Z_AB)+I_AB*(((zone_1_per-zone_2_per)/100*Z_AB)+(zone_2_per/100*Z_BC_hv)+Z_T)  // Second zone impedance(ohm)\n",
"Z_2 = Z_zone_2*CT_ratio/PT_ratio                                                                     // Second zone setting(ohm)\n",
"under_reach = Z_zone_2-(Z_AB+zone_2_per/100*Z_BC_hv+Z_T)                                             // Under-reach due to infeed(ohm)\n",
"Z_zone_3 = (G2_per/100*Z_AB)+I_AB*(((zone_1_per-zone_2_per)/100*Z_AB)+Z_BC_hv+Z_T)                   // Third zone impedance(ohm)\n",
"Z_3 = Z_zone_3*CT_ratio/PT_ratio                                                                     // Third zone setting(ohm)\n",
"\n",
"// Results\n",
"disp('PART III - EXAMPLE : 10.1 : SOLUTION :-')\n",
"printf('\nCase(i)  Without infeed:')\n",
"printf('\n         First zone relay setting = (%.2f + %.2fj) ohm', real(Z_sec_1),imag(Z_sec_1))\n",
"printf('\n         Second zone relay setting = (%.1f + %.1fj) ohm', real(Z_sec_2),imag(Z_sec_2))\n",
"printf('\n         Third zone relay setting = (%.1f + %.1fj) ohm', real(Z_sec_3),imag(Z_sec_3))\n",
"printf('\nCase(ii) With infeed:')\n",
"printf('\n         First zone relay setting = (%.3f + %.2fj) ohm', real(Z_1),imag(Z_1))\n",
"printf('\n         Second zone relay setting = (%.1f + %.1fj) ohm', real(Z_2),imag(Z_2))\n",
"printf('\n         Third zone relay setting = (%.1f + %.fj) ohm\n', real(Z_3),imag(Z_3))\n",
"printf('\nNOTE: ERROR: Calculation mistake in Z_BC. Hence, changes in the obtained answer from that of textbook')"
   ]
   }
,
{
		   "cell_type": "markdown",
		   "metadata": {},
		   "source": [
			"## Example 36.2: Impedance_seen_by_relay_and_Relay_setting_for_high_speed_backup_protection.sce"
		   ]
		  },
  {
"cell_type": "code",
	   "execution_count": null,
	   "metadata": {
	    "collapsed": true
	   },
	   "outputs": [],
"source": [
"// A Texbook on POWER SYSTEM ENGINEERING\n",
"// A.Chakrabarti, M.L.Soni, P.V.Gupta, U.S.Bhatnagar\n",
"// DHANPAT RAI & Co.\n",
"// SECOND EDITION \n",
"\n",
"// PART III : SWITCHGEAR AND PROTECTION\n",
"// CHAPTER 10: PROTECTION OF TRANSMISSION LINE, SHUNT INDUCTORS AND CAPACITORS\n",
"\n",
"// EXAMPLE : 10.2 :\n",
"// Page number 648\n",
"clear ; clc ; close ; // Clear the work space and console\n",
"\n",
"// Given data\n",
"CT_ratio = 300.0/5          // CT ratio\n",
"PT_ratio = 166000.0/110     // PT ratio\n",
"Z_AB = complex(40.0,160.0)  // Section AB impedance(ohm)\n",
"Z_BC = complex(7.5,15.0)    // Section BC impedance(ohm)\n",
"kV_hv = 166.0               // HV side voltage(kV)\n",
"kV_lv = 33.0                // LV side voltage(kV)\n",
"MVA = 5.0                   // Transformer rating(MVA)\n",
"X_T = 6.04                  // Transformer reactance(%)\n",
"\n",
"// Calculations\n",
"Z_T = %i*10*X_T*kV_hv**2/(MVA*1000)   // Tranformer impedance(ohm)\n",
"Z_fault = Z_AB+Z_T                    // Fault impedance(ohm)\n",
"Z_sec = Z_fault*CT_ratio/PT_ratio     // Relay setting for primary protection(ohm)\n",
"Z_BC_hv = Z_BC*(kV_hv/kV_lv)**2       // Z_BC on 166 kV base(ohm)\n",
"Z = Z_AB+Z_T+Z_BC_hv                  // For backup protection of line BC(ohm)\n",
"Z_sec_set = Z*CT_ratio/PT_ratio       // Relay setting(ohm)\n",
"\n",
"// Results\n",
"disp('PART III - EXAMPLE : 10.2 : SOLUTION :-')\n",
"printf('\nImpedance seen by relay = (%.f + %.fj) ohm', real(Z_fault),imag(Z_fault))\n",
"printf('\nRelay setting for high speed & backup protection = (%.1f + %.2fj) ohm', real(Z_sec_set),imag(Z_sec_set))"
   ]
   }
],
"metadata": {
		  "kernelspec": {
		   "display_name": "Scilab",
		   "language": "scilab",
		   "name": "scilab"
		  },
		  "language_info": {
		   "file_extension": ".sce",
		   "help_links": [
			{
			 "text": "MetaKernel Magics",
			 "url": "https://github.com/calysto/metakernel/blob/master/metakernel/magics/README.md"
			}
		   ],
		   "mimetype": "text/x-octave",
		   "name": "scilab",
		   "version": "0.7.1"
		  }
		 },
		 "nbformat": 4,
		 "nbformat_minor": 0
}
