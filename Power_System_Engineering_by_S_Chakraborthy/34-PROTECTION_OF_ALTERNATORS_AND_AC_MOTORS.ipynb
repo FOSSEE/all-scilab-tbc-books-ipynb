{
"cells": [
 {
		   "cell_type": "markdown",
	   "metadata": {},
	   "source": [
       "# Chapter 34: PROTECTION OF ALTERNATORS AND AC MOTORS"
	   ]
	},
{
		   "cell_type": "markdown",
		   "metadata": {},
		   "source": [
			"## Example 34.1: Neutral_earthing_reactance.sce"
		   ]
		  },
  {
"cell_type": "code",
	   "execution_count": null,
	   "metadata": {
	    "collapsed": true
	   },
	   "outputs": [],
"source": [
"// A Texbook on POWER SYSTEM ENGINEERING\n",
"// A.Chakrabarti, M.L.Soni, P.V.Gupta, U.S.Bhatnagar\n",
"// DHANPAT RAI & Co.\n",
"// SECOND EDITION \n",
"\n",
"// PART III : SWITCHGEAR AND PROTECTION\n",
"// CHAPTER 8: PROTECTION OF ALTERNATORS AND AC MOTORS\n",
"\n",
"// EXAMPLE : 8.1 :\n",
"// Page number 624\n",
"clear ; clc ; close ; // Clear the work space and console\n",
"\n",
"// Given data\n",
"V = 6600.0           // Alternator Voltage(V)\n",
"P = 2000.0*10**3     // Rating of alternator(W)\n",
"PF = 0.8             // Power factor of alternator\n",
"X = 12.5             // Alternator reactance(%)\n",
"I = 200.0            // Current protection(A)\n",
"per = 10.0           // Percentage of winding unprotected(%)\n",
"\n",
"// Calculations\n",
"I_fl = P/(3**0.5*V*PF)          // Full load current of alternator(A)\n",
"x = X*V/(3**0.5*100*I_fl)       // Reactance per phase of alternator(ohm)\n",
"x_per = per/100*x               // Reactance of 10% of the winding(ohm)\n",
"NA = V/(3**0.5*per)             // Voltage induced in winding(V)\n",
"r = ((NA/I)**2-x_per**2)**0.5   // Neutral earthing reactance(ohm)\n",
"\n",
"// Results\n",
"disp('PART III - EXAMPLE : 8.1 : SOLUTION :-')\n",
"printf('\nNeutral earthing reactance, r = %.2f ohm', r)"
   ]
   }
,
{
		   "cell_type": "markdown",
		   "metadata": {},
		   "source": [
			"## Example 34.2: EX34_2.sce"
		   ]
		  },
  {
"cell_type": "code",
	   "execution_count": null,
	   "metadata": {
	    "collapsed": true
	   },
	   "outputs": [],
"source": [
"// A Texbook on POWER SYSTEM ENGINEERING\n",
"// A.Chakrabarti, M.L.Soni, P.V.Gupta, U.S.Bhatnagar\n",
"// DHANPAT RAI & Co.\n",
"// SECOND EDITION \n",
"\n",
"// PART III : SWITCHGEAR AND PROTECTION\n",
"// CHAPTER 8: PROTECTION OF ALTERNATORS AND AC MOTORS\n",
"\n",
"// EXAMPLE : 8.2 :\n",
"// Page number 624-625\n",
"clear ; clc ; close ; // Clear the work space and console\n",
"\n",
"// Given data\n",
"MVA = 20.0            // Generator rating(MVA)\n",
"V = 11.0*10**3        // Generator voltage(V)\n",
"ratio_CT = 1200.0/5   // Ratio of current transformer\n",
"I_min_op = 0.75       // Minimum operating current of relay(A)\n",
"R = 6.0               // Neutral point earthing resistance(ohm)\n",
"\n",
"// Calculations\n",
"I_max_fault = ratio_CT*I_min_op       // Maximum fault current to operate relay(A)\n",
"x = I_max_fault*3**0.5*100*R/V        // Unprotected portion for R = 6 ohm(%)\n",
"R_1 = 3.0                             // Neutral point earthing resistance(ohm)\n",
"x_1 = I_max_fault*3**0.5*100*R_1/V    // Unprotected portion for R = 3 ohm(%)\n",
"R_3 = 12.0                            // Neutral point earthing resistance(ohm)\n",
"x_3 = I_max_fault*3**0.5*100*R_3/V    // Unprotected portion for R = 12 ohm(%)\n",
"\n",
"// Results\n",
"disp('PART III - EXAMPLE : 8.2 : SOLUTION :-')\n",
"printf('\nUnprotected portion of each phase of the stator winding against earth fault, x = %.f percent', x)\n",
"printf('\nEffect of varying neutral earthing resistance keeping relay operating current the same :')\n",
"printf('\n (i)   R = 3 ohms')\n",
"printf('\n       Unprotected portion = %.1f percent', x_1)\n",
"printf('\n       Protected portion = %.1f percent', (100-x_1))\n",
"printf('\n (ii)  R = 6 ohms')\n",
"printf('\n       Unprotected portion = %.f percent', x)\n",
"printf('\n       Protected portion = %.f percent', (100-x))\n",
"printf('\n (iii) R = 12 ohms')\n",
"printf('\n       Unprotected portion = %.f percent', x_3)\n",
"printf('\n       Protected portion = %.f percent', (100-x_3))"
   ]
   }
,
{
		   "cell_type": "markdown",
		   "metadata": {},
		   "source": [
			"## Example 34.3: Portion_of_alternator_winding_unprotected.sce"
		   ]
		  },
  {
"cell_type": "code",
	   "execution_count": null,
	   "metadata": {
	    "collapsed": true
	   },
	   "outputs": [],
"source": [
"// A Texbook on POWER SYSTEM ENGINEERING\n",
"// A.Chakrabarti, M.L.Soni, P.V.Gupta, U.S.Bhatnagar\n",
"// DHANPAT RAI & Co.\n",
"// SECOND EDITION \n",
"\n",
"// PART III : SWITCHGEAR AND PROTECTION\n",
"// CHAPTER 8: PROTECTION OF ALTERNATORS AND AC MOTORS\n",
"\n",
"// EXAMPLE : 8.3 :\n",
"// Page number 625\n",
"clear ; clc ; close ; // Clear the work space and console\n",
"\n",
"// Given data\n",
"kVA = 5000.0      // Alternator rating(kVA)\n",
"V = 6600.0        // Alternator voltage(V)\n",
"X = 2.0           // Synchronous reactance per phase(ohm)\n",
"R = 0.5           // Resistance(ohm)\n",
"ofb = 30.0        // Out-of-balance current(%)\n",
"R_n = 6.5         // Resistance of resistor earthed to star point(ohm)\n",
"\n",
"// Calculations\n",
"I_fl = kVA*1000/(3**0.5*V)                 // Full load current(A)\n",
"I_ofb = ofb/100*I_fl                       // Out-of-balance current(A)\n",
"x = R_n/((V/(3**0.5*100*I_ofb))-(R/100))   // Portion of winding unprotected(%)\n",
"\n",
"// Results\n",
"disp('PART III - EXAMPLE : 8.3 : SOLUTION :-')\n",
"printf('\nPortion of alternator winding unprotected, x = %.1f percent', x)"
   ]
   }
,
{
		   "cell_type": "markdown",
		   "metadata": {},
		   "source": [
			"## Example 34.4: Will_the_relay_trip_the_generator_CB.sce"
		   ]
		  },
  {
"cell_type": "code",
	   "execution_count": null,
	   "metadata": {
	    "collapsed": true
	   },
	   "outputs": [],
"source": [
"// A Texbook on POWER SYSTEM ENGINEERING\n",
"// A.Chakrabarti, M.L.Soni, P.V.Gupta, U.S.Bhatnagar\n",
"// DHANPAT RAI & Co.\n",
"// SECOND EDITION \n",
"\n",
"// PART III : SWITCHGEAR AND PROTECTION\n",
"// CHAPTER 8: PROTECTION OF ALTERNATORS AND AC MOTORS\n",
"\n",
"// EXAMPLE : 8.4 :\n",
"// Page number 625\n",
"clear ; clc ; close ; // Clear the work space and console\n",
"\n",
"// Given data\n",
"I_min = 0.15          // Minimum pick up current of relay(A)\n",
"slope = 12.0          // Slope(%)\n",
"CT_ratio = 400.0/5    // CT ratio\n",
"I_1 = 360.0           // Current(A)\n",
"I_2 = 300.0           // Current(A)\n",
"\n",
"// Calculations\n",
"i_1 = I_1/CT_ratio                         // Current(A)\n",
"i_2 = I_2/CT_ratio                         // Current(A)\n",
"percentage = (i_1-i_2)/((i_1+i_2)/2)*100   // Percentage(%)\n",
"\n",
"// Results\n",
"disp('PART III - EXAMPLE : 8.4 : SOLUTION :-')\n",
"if(percentage>slope) then\n",
"    printf('\nRelay would trip the circuit breaker, since the point lie on +ve torque regime')\n",
"else then\n",
"    printf('\nRelay would not trip the circuit breaker, since the point do not lie on +ve torque regime')\n",
"end"
   ]
   }
,
{
		   "cell_type": "markdown",
		   "metadata": {},
		   "source": [
			"## Example 34.5: EX34_5.sce"
		   ]
		  },
  {
"cell_type": "code",
	   "execution_count": null,
	   "metadata": {
	    "collapsed": true
	   },
	   "outputs": [],
"source": [
"// A Texbook on POWER SYSTEM ENGINEERING\n",
"// A.Chakrabarti, M.L.Soni, P.V.Gupta, U.S.Bhatnagar\n",
"// DHANPAT RAI & Co.\n",
"// SECOND EDITION \n",
"\n",
"// PART III : SWITCHGEAR AND PROTECTION\n",
"// CHAPTER 8: PROTECTION OF ALTERNATORS AND AC MOTORS\n",
"\n",
"// EXAMPLE : 8.5 :\n",
"// Page number 625-626\n",
"clear ; clc ; close ; // Clear the work space and console\n",
"\n",
"// Given data\n",
"MVA = 50.0           // Alternator rating(MVA)\n",
"V = 33.0*10**3       // Alternator voltage(V)\n",
"CT_ratio = 2000.0/5  // CT ratio\n",
"R = 7.5              // Resistor earthed generator neutral(ohm)\n",
"I = 0.5              // Current above which pick up current(A)\n",
"\n",
"// Calculations\n",
"I_min = CT_ratio*I           // Minimum current required to operate relay(A)\n",
"x = I_min*R/(V/3**0.5)*100   // Winding unprotected during normal operation(%)\n",
"\n",
"// Results\n",
"disp('PART III - EXAMPLE : 8.5 : SOLUTION :-')\n",
"printf('\nWinding of each phase unprotected against earth when machine operates at nominal voltage, x = %.2f percent', x)"
   ]
   }
,
{
		   "cell_type": "markdown",
		   "metadata": {},
		   "source": [
			"## Example 34.6: Portion_of_winding_unprotected.sce"
		   ]
		  },
  {
"cell_type": "code",
	   "execution_count": null,
	   "metadata": {
	    "collapsed": true
	   },
	   "outputs": [],
"source": [
"// A Texbook on POWER SYSTEM ENGINEERING\n",
"// A.Chakrabarti, M.L.Soni, P.V.Gupta, U.S.Bhatnagar\n",
"// DHANPAT RAI & Co.\n",
"// SECOND EDITION \n",
"\n",
"// PART III : SWITCHGEAR AND PROTECTION\n",
"// CHAPTER 8: PROTECTION OF ALTERNATORS AND AC MOTORS\n",
"\n",
"// EXAMPLE : 8.6 :\n",
"// Page number 626\n",
"clear ; clc ; close ; // Clear the work space and console\n",
"\n",
"// Given data\n",
"MVA = 50.0        // Alternator rating(MVA)\n",
"kV = 11.0         // Alternator voltage(kV)\n",
"X = 2.0           // Synchronous reactance per phase(ohm)\n",
"R = 0.7           // Resistance per phase(ohm)\n",
"R_n = 5.0         // Resistance through which alternator is earthed(ohm)\n",
"ofb = 25.0        // Out-of-balance current(%)\n",
"\n",
"// Calculations\n",
"I_fl = MVA*1000/(3**0.5*kV)                      // Full load current(A)\n",
"I_ofb = ofb/100*I_fl                             // Out-of-balance current(A)\n",
"x = R_n/((kV*1000/(3**0.5*100*I_ofb))-(R/100))   // Portion of winding unprotected(%)\n",
"\n",
"// Results\n",
"disp('PART III - EXAMPLE : 8.6 : SOLUTION :-')\n",
"printf('\nPortion of winding unprotected, x = %.f percent', x)"
   ]
   }
,
{
		   "cell_type": "markdown",
		   "metadata": {},
		   "source": [
			"## Example 34.7: Percentage_of_winding_that_is_protected_against_earth_faults.sce"
		   ]
		  },
  {
"cell_type": "code",
	   "execution_count": null,
	   "metadata": {
	    "collapsed": true
	   },
	   "outputs": [],
"source": [
"// A Texbook on POWER SYSTEM ENGINEERING\n",
"// A.Chakrabarti, M.L.Soni, P.V.Gupta, U.S.Bhatnagar\n",
"// DHANPAT RAI & Co.\n",
"// SECOND EDITION \n",
"\n",
"// PART III : SWITCHGEAR AND PROTECTION\n",
"// CHAPTER 8: PROTECTION OF ALTERNATORS AND AC MOTORS\n",
"\n",
"// EXAMPLE : 8.7 :\n",
"// Page number 626-627\n",
"clear ; clc ; close ; // Clear the work space and console\n",
"\n",
"// Given data\n",
"kV = 11.0         // Alternator voltage(kV)\n",
"MVA = 5.0         // Alternator rating(MVA)\n",
"X = 2.0           // Reactance per phase(ohm)\n",
"ofb = 35.0        // Out-of-balance current(%)\n",
"R_n = 5.0         // Resistance through which star point is earthed(ohm)\n",
"\n",
"// Calculations\n",
"I_fl = MVA*1000/(3**0.5*kV)              // Full load current(A)\n",
"I_ofb = ofb/100*I_fl                     // Out-of-balance current(A)\n",
"x = I_ofb*R_n*100/(kV*1000/3**0.5)       // Portion of winding unprotected(%)\n",
"protected = 100.0-x                      // Winding that is protected against earth faults(%)\n",
"\n",
"// Results\n",
"disp('PART III - EXAMPLE : 8.7 : SOLUTION :-')\n",
"printf('\nPercentage of winding that is protected against earth faults = %.2f percent', protected)"
   ]
   }
,
{
		   "cell_type": "markdown",
		   "metadata": {},
		   "source": [
			"## Example 34.8: Magnitude_of_neutral_earthing_resistance.sce"
		   ]
		  },
  {
"cell_type": "code",
	   "execution_count": null,
	   "metadata": {
	    "collapsed": true
	   },
	   "outputs": [],
"source": [
"// A Texbook on POWER SYSTEM ENGINEERING\n",
"// A.Chakrabarti, M.L.Soni, P.V.Gupta, U.S.Bhatnagar\n",
"// DHANPAT RAI & Co.\n",
"// SECOND EDITION \n",
"\n",
"// PART III : SWITCHGEAR AND PROTECTION\n",
"// CHAPTER 8: PROTECTION OF ALTERNATORS AND AC MOTORS\n",
"\n",
"// EXAMPLE : 8.8 :\n",
"// Page number 627\n",
"clear ; clc ; close ; // Clear the work space and console\n",
"\n",
"// Given data\n",
"kV = 11.0         // Alternator voltage(kV)\n",
"P = 100.0         // Alternator maximum rating(MW)\n",
"PF = 0.8          // Power factor\n",
"X = 0.1           // Reactance of alternator(pu)\n",
"i = 500.0         // Current(A)\n",
"per = 10.0        // Windings unprotected(%)\n",
"\n",
"// Calculations\n",
"I = P*1000/(3**0.5*kV*PF)      // Rated current of alternator(A)\n",
"a = i/I                        // Relay setting\n",
"I_n = a*I*100/per              // Current through neutral(A)\n",
"R = kV*1000/(3**0.5*I_n)       // Magnitude of neutral earthing resistance(ohm)\n",
"\n",
"// Results\n",
"disp('PART III - EXAMPLE : 8.8 : SOLUTION :-')\n",
"printf('\nMagnitude of neutral earthing resistance, R = %.2f ohm\n', R) \n",
"printf('\nNOTE: ERROR: Unit of resistance is not mentioned in textbook solution')"
   ]
   }
],
"metadata": {
		  "kernelspec": {
		   "display_name": "Scilab",
		   "language": "scilab",
		   "name": "scilab"
		  },
		  "language_info": {
		   "file_extension": ".sce",
		   "help_links": [
			{
			 "text": "MetaKernel Magics",
			 "url": "https://github.com/calysto/metakernel/blob/master/metakernel/magics/README.md"
			}
		   ],
		   "mimetype": "text/x-octave",
		   "name": "scilab",
		   "version": "0.7.1"
		  }
		 },
		 "nbformat": 4,
		 "nbformat_minor": 0
}
