{
"cells": [
 {
		   "cell_type": "markdown",
	   "metadata": {},
	   "source": [
       "# Chapter 47: ELECTRIC TRACTION SYSTEMS AND POWER SUPPLY"
	   ]
	},
{
		   "cell_type": "markdown",
		   "metadata": {},
		   "source": [
			"## Example 47.1: EX47_1.sce"
		   ]
		  },
  {
"cell_type": "code",
	   "execution_count": null,
	   "metadata": {
	    "collapsed": true
	   },
	   "outputs": [],
"source": [
"// A Texbook on POWER SYSTEM ENGINEERING\n",
"// A.Chakrabarti, M.L.Soni, P.V.Gupta, U.S.Bhatnagar\n",
"// DHANPAT RAI & Co.\n",
"// SECOND EDITION \n",
"\n",
"// PART IV : UTILIZATION AND TRACTION\n",
"// CHAPTER 9: ELECTRIC TRACTION SYSTEMS AND POWER SUPPLY\n",
"\n",
"// EXAMPLE : 9.1 :\n",
"// Page number 817-818\n",
"clear ; clc ; close ; // Clear the work space and console\n",
"\n",
"// Given data\n",
"L = 3.0           // Length of section ACB of rail(km)\n",
"L_B_A = 2.0       // Distance of B from A(km)\n",
"I_load = 350.0    // Loading(A/km)\n",
"r_rail = 0.035    // Resistance of rail(ohm/km)\n",
"r_feed = 0.03     // Resistance of negative feeder(ohm/km)\n",
"\n",
"// Calculations\n",
"x_val = integrate('I_load*(L-x)','x',0,L_B_A)\n",
"I = x_val/(L_B_A-0)                            // Current in negative feeder(A)\n",
"x = L-(I/I_load)                               // Distance from feeding point(km)\n",
"C = integrate('r_rail*I_load*x','x',0,x)\n",
"V = r_feed*L_B_A*I                             // Voltage produced by negative booster(V)\n",
"rating = V*I/1000                              // Rating of the booster(kW)\n",
"\n",
"// Results\n",
"disp('PART IV - EXAMPLE : 9.1 : SOLUTION :-')\n",
"printf('\nMaximum potential difference between any two points of the rails, C = %.2f V', C)\n",
"printf('\nRating of the booster = %.1f kW', rating)"
   ]
   }
,
{
		   "cell_type": "markdown",
		   "metadata": {},
		   "source": [
			"## Example 47.2: Maximum_sag_and_Length_of_wire_required.sce"
		   ]
		  },
  {
"cell_type": "code",
	   "execution_count": null,
	   "metadata": {
	    "collapsed": true
	   },
	   "outputs": [],
"source": [
"// A Texbook on POWER SYSTEM ENGINEERING\n",
"// A.Chakrabarti, M.L.Soni, P.V.Gupta, U.S.Bhatnagar\n",
"// DHANPAT RAI & Co.\n",
"// SECOND EDITION \n",
"\n",
"// PART IV : UTILIZATION AND TRACTION\n",
"// CHAPTER 9: ELECTRIC TRACTION SYSTEMS AND POWER SUPPLY\n",
"\n",
"// EXAMPLE : 9.2 :\n",
"// Page number 820\n",
"clear ; clc ; close ; // Clear the work space and console\n",
"\n",
"// Given data\n",
"D = 50.0    // Distance between poles(m)\n",
"w = 0.5     // Weight of trolley wire per metre(kg)\n",
"T = 520.0   // Maximum tension(kg)\n",
"\n",
"// Calculations\n",
"l = D/2                              // Half distance b/w poles(m)\n",
"d = w*l**2/(2*T)                     // Sag(m)\n",
"wire_length = 2*(l+(2*d**2/(3*l)))   // Length of wire required(m)\n",
"\n",
"// Results\n",
"disp('PART IV - EXAMPLE : 9.2 : SOLUTION :-')\n",
"printf('\nMaximum sag, d = %.4f metres', d)\n",
"printf('\nLength of wire required = %.f metres', wire_length)"
   ]
   }
],
"metadata": {
		  "kernelspec": {
		   "display_name": "Scilab",
		   "language": "scilab",
		   "name": "scilab"
		  },
		  "language_info": {
		   "file_extension": ".sce",
		   "help_links": [
			{
			 "text": "MetaKernel Magics",
			 "url": "https://github.com/calysto/metakernel/blob/master/metakernel/magics/README.md"
			}
		   ],
		   "mimetype": "text/x-octave",
		   "name": "scilab",
		   "version": "0.7.1"
		  }
		 },
		 "nbformat": 4,
		 "nbformat_minor": 0
}
