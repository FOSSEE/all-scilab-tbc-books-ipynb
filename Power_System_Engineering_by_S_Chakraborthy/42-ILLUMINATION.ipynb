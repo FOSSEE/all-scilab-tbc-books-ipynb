{
"cells": [
 {
		   "cell_type": "markdown",
	   "metadata": {},
	   "source": [
       "# Chapter 42: ILLUMINATION"
	   ]
	},
{
		   "cell_type": "markdown",
		   "metadata": {},
		   "source": [
			"## Example 42.2: EX42_2.sce"
		   ]
		  },
  {
"cell_type": "code",
	   "execution_count": null,
	   "metadata": {
	    "collapsed": true
	   },
	   "outputs": [],
"source": [
"// A Texbook on POWER SYSTEM ENGINEERING\n",
"// A.Chakrabarti, M.L.Soni, P.V.Gupta, U.S.Bhatnagar\n",
"// DHANPAT RAI & Co.\n",
"// SECOND EDITION \n",
"\n",
"// PART IV : UTILIZATION AND TRACTION\n",
"// CHAPTER 4: ILLUMINATION\n",
"\n",
"// EXAMPLE : 4.2 :\n",
"// Page number 753\n",
"clear ; clc ; close ; // Clear the work space and console\n",
"\n",
"// Given data\n",
"lumens = 800.0        // Flux emitted by a lamp(lumens)\n",
"cp = 100.0            // cp of a lamp\n",
"d = 2.0               // Distance b/w plane surface & lamp(m)\n",
"theta_ii = 45.0       // Inclined surface(°)\n",
"theta_iii = 90.0      // Parallel rays(°)\n",
"\n",
"// Calculations\n",
"// Case(a)\n",
"mscp = lumens/(4.0*%pi)            // mscp of lamp\n",
"// Case(b)\n",
"I_i = cp/d**2                      // Illumination on the surface when it is normal(lux)\n",
"I_ii = cp/d**2*cosd(theta_ii)      // Illumination on the surface when it is inclined to 45°(lux)\n",
"I_iii = cp/d**2*cosd(theta_iii)    // Illumination on the surface when it is parallel to rays(lux)\n",
"\n",
"// Results\n",
"disp('PART IV - EXAMPLE : 4.2 : SOLUTION :-')\n",
"printf('\nCase(a): mscp of the lamp, mscp = %.f ', mscp)\n",
"printf('\nCase(b): Case(i)  : Illumination on the surface when it is normal, I = %.f lux', I_i)\n",
"printf('\n         Case(ii) : Illumination on the surface when it is inclined to 45°, I = %.3f lux', I_ii)\n",
"printf('\n         Case(iii): Illumination on the surface when it is parallel to rays, I = %.f lux\n', abs(I_iii))\n",
"printf('\nNOTE: ERROR: Calculation mistake in case(a) in textbook solution')"
   ]
   }
,
{
		   "cell_type": "markdown",
		   "metadata": {},
		   "source": [
			"## Example 42.3: EX42_3.sce"
		   ]
		  },
  {
"cell_type": "code",
	   "execution_count": null,
	   "metadata": {
	    "collapsed": true
	   },
	   "outputs": [],
"source": [
"// A Texbook on POWER SYSTEM ENGINEERING\n",
"// A.Chakrabarti, M.L.Soni, P.V.Gupta, U.S.Bhatnagar\n",
"// DHANPAT RAI & Co.\n",
"// SECOND EDITION \n",
"\n",
"// PART IV : UTILIZATION AND TRACTION\n",
"// CHAPTER 4: ILLUMINATION\n",
"\n",
"// EXAMPLE : 4.3 :\n",
"// Page number 753-754\n",
"clear ; clc ; close ; // Clear the work space and console\n",
"\n",
"// Given data\n",
"cp = 200.0        // cp of a lamp\n",
"per = 0.6         // Reflector directing light\n",
"D = 10.0          // Diameter(m)\n",
"h = 6.0           // Height at which lamp is hung(m)\n",
"\n",
"// Calculations\n",
"flux = cp*4*%pi                             // Flux(lumens)\n",
"I_i = cp/h**2                               // Illumination at the centre without reflector(lux)\n",
"d = (h**2+(D/2)**2)**0.5                    // (m)\n",
"I_without = (cp/h**2)*(h/d)                 // Illumination at the edge without reflector(lux)\n",
"I_with = cp*4*%pi*per/(25*%pi)              // Illumination at the edge with reflector(lux)\n",
"theta = acosd(h/d)                          // θ(°)\n",
"w = 2.0*%pi*(1-cosd(theta/2))               // ω(steradian)\n",
"phi = cp*w                                  // Φ(lumens)\n",
"I_avg = phi/(25*%pi)                        // Average illumination over the area without reflector(lux)\n",
"\n",
"// Results\n",
"disp('PART IV - EXAMPLE : 4.3 : SOLUTION :-')\n",
"printf('\nCase(i) : Illumination at the centre without reflector = %.2f lux', I_i)\n",
"printf('\n          Illumination at the centre with reflector = %.1f lux', I_with)\n",
"printf('\nCase(ii): Illumination at the edge of the surface without reflector = %.2f lux', I_without)\n",
"printf('\n          Illumination at the edge of the surface with reflector = %.1f lux', I_with)\n",
"printf('\nAverage illumination over the area without the reflector, I  = %.3f lux\n', I_avg)\n",
"printf('\nNOTE: ERROR: Slight calculation mistake & more approximation in textbook solution')"
   ]
   }
,
{
		   "cell_type": "markdown",
		   "metadata": {},
		   "source": [
			"## Example 42.5: EX42_5.sce"
		   ]
		  },
  {
"cell_type": "code",
	   "execution_count": null,
	   "metadata": {
	    "collapsed": true
	   },
	   "outputs": [],
"source": [
"// A Texbook on POWER SYSTEM ENGINEERING\n",
"// A.Chakrabarti, M.L.Soni, P.V.Gupta, U.S.Bhatnagar\n",
"// DHANPAT RAI & Co.\n",
"// SECOND EDITION \n",
"\n",
"// PART IV : UTILIZATION AND TRACTION\n",
"// CHAPTER 4: ILLUMINATION\n",
"\n",
"// EXAMPLE : 4.5 :\n",
"// Page number 754\n",
"clear ; clc ; close ; // Clear the work space and console\n",
"\n",
"// Given data\n",
"flux = 900.0       // Lamp emitting light(lumens)\n",
"D = 30.5           // Diameter of globe(cm)\n",
"B = 250.0*10**-3   // Uniform brightness(Ambert)\n",
"\n",
"// Calculations\n",
"cp = %pi/4*D**2*(B/%pi)            // Candle power\n",
"flux_emit = cp*4*%pi               // Flux emitted by globe(lumens)\n",
"flux_abs = flux-flux_emit          // Flux absorbed by globe(lumens)\n",
"light_abs_per = flux_abs/flux*100  // Light absorbed(%)\n",
"\n",
"// Results\n",
"disp('PART IV - EXAMPLE : 4.5 : SOLUTION :-')\n",
"printf('\ncp of the globe = %.f ', cp)\n",
"printf('\nPercentage of light emitted by lamp that is absorbed by the globe = %.1f percent\n', light_abs_per)\n",
"printf('\nNOTE: Changes in the obtained answer from that of textbook is due to more precision here & approximation in textbook solution')"
   ]
   }
,
{
		   "cell_type": "markdown",
		   "metadata": {},
		   "source": [
			"## Example 42.6: Curve_showing_illumination_on_a_horizontal_line_below_lamp.sce"
		   ]
		  },
  {
"cell_type": "code",
	   "execution_count": null,
	   "metadata": {
	    "collapsed": true
	   },
	   "outputs": [],
"source": [
"// A Texbook on POWER SYSTEM ENGINEERING\n",
"// A.Chakrabarti, M.L.Soni, P.V.Gupta, U.S.Bhatnagar\n",
"// DHANPAT RAI & Co.\n",
"// SECOND EDITION \n",
"\n",
"// PART IV : UTILIZATION AND TRACTION\n",
"// CHAPTER 4: ILLUMINATION\n",
"\n",
"// EXAMPLE : 4.6 :\n",
"// Page number 754-755\n",
"clear ; clc ; close ; // Clear the work space and console\n",
"\n",
"// Given data\n",
"cp_0 = 500.0      // Candle power\n",
"theta_0 = 0.0     // θ(°)\n",
"cp_1 = 560.0      // Candle power\n",
"theta_1 = 10.0    // θ(°)\n",
"cp_2 = 600.0      // Candle power\n",
"theta_2 = 20.0    // θ(°)\n",
"cp_3 = 520.0      // Candle power\n",
"theta_3 = 30.0    // θ(°)\n",
"cp_4 = 400.0      // Candle power\n",
"theta_4 = 40.0    // θ(°)\n",
"cp_5 = 300.0      // Candle power\n",
"theta_5 = 50.0    // θ(°)\n",
"cp_6 = 150.0      // Candle power\n",
"theta_6 = 60.0    // θ(°)\n",
"cp_7 = 50.0       // Candle power\n",
"theta_7 = 70.0    // θ(°)\n",
"h = 6.0           // Height of lamp(m)\n",
"\n",
"// Calculations\n",
"I_0 = cp_0/h**2*(cosd(theta_0))**3    // Illumination(lux)\n",
"l_0 = h*tand(theta_0)                 // Distance(m)\n",
"I_1 = cp_1/h**2*(cosd(theta_1))**3    // Illumination(lux)\n",
"l_1 = h*tand(theta_1)                 // Distance(m)\n",
"I_2 = cp_2/h**2*(cosd(theta_2))**3    // Illumination(lux)\n",
"l_2 = h*tand(theta_2)                 // Distance(m)\n",
"I_3 = cp_3/h**2*(cosd(theta_3))**3    // Illumination(lux)\n",
"l_3 = h*tand(theta_3)                 // Distance(m)\n",
"I_4 = cp_4/h**2*(cosd(theta_4))**3    // Illumination(lux)\n",
"l_4 = h*tand(theta_4)                 // Distance(m)\n",
"I_5 = cp_5/h**2*(cosd(theta_5))**3    // Illumination(lux)\n",
"l_5 = h*tand(theta_5)                 // Distance(m)\n",
"I_6 = cp_6/h**2*(cosd(theta_6))**3    // Illumination(lux)\n",
"l_6 = h*tand(theta_6)                 // Distance(m)\n",
"I_7 = cp_7/h**2*(cosd(theta_7))**3    // Illumination(lux)\n",
"l_7 = h*tand(theta_7)                 // Distance(m)\n",
"l = [-l_7,-l_6,-l_5,-l_4,-l_3,-l_2,-l_1,l_0,l_0,l_1,l_2,l_3,l_4,l_5,l_6,l_7]\n",
"I = [I_7,I_6,I_5,I_4,I_3,I_2,I_1,I_0,I_0,I_1,I_2,I_3,I_4,I_5,I_6,I_7]\n",
"a = gca() ;\n",
"a.thickness = 2                                       // sets thickness of plot\n",
"plot(l,I,'ro-')                                       // Plot of illumination curve\n",
"x = [0,0,0,0,0,0]\n",
"y = [0,5,10,11,14,16]\n",
"plot(x,y)                                             // Plot of straight line\n",
"a.x_label.text = 'Distance(metres)'                   // labels x-axis\n",
"a.y_label.text = 'Illumination(flux)'                 // labels y-axis\n",
"xtitle('Fig E4.4 . Illumination on a horizontal line below the lamp') \n",
"xset('thickness',2)                                   // sets thickness of axes\n",
"\n",
"// Results\n",
"disp('PART IV - EXAMPLE : 4.6 : SOLUTION :-')\n",
"printf('\nThe curve showing illumination on a horizontal line below lamp is represented in Figure E4.4')"
   ]
   }
,
{
		   "cell_type": "markdown",
		   "metadata": {},
		   "source": [
			"## Example 42.7: Maximum_and_Minimum_illumination_on_the_floor_along_the_centre_line.sce"
		   ]
		  },
  {
"cell_type": "code",
	   "execution_count": null,
	   "metadata": {
	    "collapsed": true
	   },
	   "outputs": [],
"source": [
"// A Texbook on POWER SYSTEM ENGINEERING\n",
"// A.Chakrabarti, M.L.Soni, P.V.Gupta, U.S.Bhatnagar\n",
"// DHANPAT RAI & Co.\n",
"// SECOND EDITION \n",
"\n",
"// PART IV : UTILIZATION AND TRACTION\n",
"// CHAPTER 4: ILLUMINATION\n",
"\n",
"// EXAMPLE : 4.7 :\n",
"// Page number 755\n",
"clear ; clc ; close ; // Clear the work space and console\n",
"\n",
"// Given data\n",
"d = 9.15       // Lamp space(m)\n",
"h = 4.575      // Height(m)\n",
"P = 100.0      // Power(candle)\n",
"\n",
"// Calculations\n",
"theta_3_max = 0                                                                          // θ(°)\n",
"cos_theta_3_max_cubic = cosd(theta_3_max)**3\n",
"theta_4_max = atand(2)                                                                   // θ(°)\n",
"cos_theta_4_max_cubic = cosd(theta_4_max)**3\n",
"theta_5_max = atand(4)                                                                   // θ(°)\n",
"cos_theta_5_max_cubic = cosd(theta_5_max)**3\n",
"theta_6_max = atand(6)                                                                   // θ(°)\n",
"cos_theta_6_max_cubic = cosd(theta_6_max)**3\n",
"I_max = P/h**2*(cos_theta_3_max_cubic+2*cos_theta_4_max_cubic+2*cos_theta_5_max_cubic+2*cos_theta_6_max_cubic)   // Max illumination(lux)\n",
"theta_4_min = atand(1)                                                                   // θ(°)\n",
"cos_theta_4_min_cubic = cosd(theta_4_min)**3\n",
"theta_5_min = atand(3)                                                                   // θ(°)\n",
"cos_theta_5_min_cubic = cosd(theta_5_min)**3\n",
"theta_6_min = atand(5)                                                                   // θ(°)\n",
"cos_theta_6_min_cubic = cosd(theta_6_min)**3\n",
"I_min = P/h**2*2*(cos_theta_4_min_cubic+cos_theta_5_min_cubic+cos_theta_6_min_cubic)     // Minimum illumination(lux)\n",
"\n",
"// Results\n",
"disp('PART IV - EXAMPLE : 4.7 : SOLUTION :-')\n",
"printf('\nMaximum illumination on the floor along the centre line = %.2f lux', I_max)\n",
"printf('\nMinimum illumination on the floor along the centre line = %.2f lux', I_min)"
   ]
   }
,
{
		   "cell_type": "markdown",
		   "metadata": {},
		   "source": [
			"## Example 42.8: Illumination_on_the_working_plane.sce"
		   ]
		  },
  {
"cell_type": "code",
	   "execution_count": null,
	   "metadata": {
	    "collapsed": true
	   },
	   "outputs": [],
"source": [
"// A Texbook on POWER SYSTEM ENGINEERING\n",
"// A.Chakrabarti, M.L.Soni, P.V.Gupta, U.S.Bhatnagar\n",
"// DHANPAT RAI & Co.\n",
"// SECOND EDITION \n",
"\n",
"// PART IV : UTILIZATION AND TRACTION\n",
"// CHAPTER 4: ILLUMINATION\n",
"\n",
"// EXAMPLE : 4.8 :\n",
"// Page number 758\n",
"clear ; clc ; close ; // Clear the work space and console\n",
"\n",
"// Given data\n",
"b = 15.25     // Breadth of workshop(m)\n",
"l = 36.6      // Length of workshop(m)\n",
"no = 20.0     // Number of lamps\n",
"P = 500.0     // Power of each lamp(W)\n",
"n = 15.0      // Luminous efficiency of each lamp(lumens/watt)\n",
"df = 0.7      // Depreciation factor\n",
"cou = 0.5     // Co-efficient of utilization\n",
"\n",
"// Calculations\n",
"lumen_lamp = no*P*n                // Lamp lumens\n",
"lumen_plane = lumen_lamp*df*cou    // Lumens on the working plane\n",
"I = lumen_plane/(l*b)              // Illumination(lm/sq.m)\n",
"\n",
"// Results\n",
"disp('PART IV - EXAMPLE : 4.8 : SOLUTION :-')\n",
"printf('\nIllumination on the working plane = %.1f lm per sq.m\n', I)\n",
"printf('\nNOTE: ERROR: The breadth should be 15.25m but mentioned as 5.25m in textbook statement')"
   ]
   }
,
{
		   "cell_type": "markdown",
		   "metadata": {},
		   "source": [
			"## Example 42.9: Suitable_scheme_of_illumination_and_Saving_in_power_consumption.sce"
		   ]
		  },
  {
"cell_type": "code",
	   "execution_count": null,
	   "metadata": {
	    "collapsed": true
	   },
	   "outputs": [],
"source": [
"// A Texbook on POWER SYSTEM ENGINEERING\n",
"// A.Chakrabarti, M.L.Soni, P.V.Gupta, U.S.Bhatnagar\n",
"// DHANPAT RAI & Co.\n",
"// SECOND EDITION \n",
"\n",
"// PART IV : UTILIZATION AND TRACTION\n",
"// CHAPTER 4: ILLUMINATION\n",
"\n",
"// EXAMPLE : 4.9 :\n",
"// Page number 758-759\n",
"clear ; clc ; close ; // Clear the work space and console\n",
"\n",
"// Given data\n",
"b = 27.45      // Breadth of hall(m)\n",
"l = 45.75      // Length of hall(m)\n",
"I_avg = 108.0  // Average illumination(lumens/sq.m)\n",
"h = 0.75       // Height(m)\n",
"cou = 0.35     // Co-efficient of utilization\n",
"pf = 0.9       // Pereciation factor\n",
"P_fl = 80.0    // Fluorescent lamp power(W)\n",
"n_100 = 13.4   // Luminous efficiency for 100W filament lamp(lumens/watt)\n",
"n_200 = 14.4   // Luminous efficiency for 200W filament lamp(lumens/watt)\n",
"n_80 = 30.0    // Luminous efficiency for 80W fluorescent lamp(lumens/watt)\n",
"\n",
"// Calculations\n",
"area = b*l                                   // Area to be illuminated(Sq.m)\n",
"I_total = area*I_avg                         // Total illumination on working plane(lumens)\n",
"gross_lumen = I_total/(cou*pf)               // Gross lumens required\n",
"P_required = gross_lumen/n_200               // Power required for illumination(W)\n",
"P_required_kW = P_required/1000              // Power required for illumination(kW)\n",
"no_lamp = P_required/200                     // Number of lamps\n",
"P_required_new = gross_lumen/n_80            // Power required when fluorescent lamp used(W)\n",
"P_required_new_kW = P_required_new/1000      // Power required when fluorescent lamp used(kW)\n",
"P_saving = P_required_kW-P_required_new_kW   // Saving in power(kW)\n",
"\n",
"// Results\n",
"disp('PART IV - EXAMPLE : 4.9 : SOLUTION :-')\n",
"printf('\nSuitable scheme: Whole area divided into %.f rectangles & 200-watt fitting is suspended at centre of each rectangle', no_lamp)\n",
"printf('\nSaving in power consumption = %.1f kW', P_saving)"
   ]
   }
],
"metadata": {
		  "kernelspec": {
		   "display_name": "Scilab",
		   "language": "scilab",
		   "name": "scilab"
		  },
		  "language_info": {
		   "file_extension": ".sce",
		   "help_links": [
			{
			 "text": "MetaKernel Magics",
			 "url": "https://github.com/calysto/metakernel/blob/master/metakernel/magics/README.md"
			}
		   ],
		   "mimetype": "text/x-octave",
		   "name": "scilab",
		   "version": "0.7.1"
		  }
		 },
		 "nbformat": 4,
		 "nbformat_minor": 0
}
