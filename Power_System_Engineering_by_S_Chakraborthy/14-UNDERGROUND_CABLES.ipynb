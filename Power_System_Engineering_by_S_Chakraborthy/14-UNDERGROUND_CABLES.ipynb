{
"cells": [
 {
		   "cell_type": "markdown",
	   "metadata": {},
	   "source": [
       "# Chapter 14: UNDERGROUND CABLES"
	   ]
	},
{
		   "cell_type": "markdown",
		   "metadata": {},
		   "source": [
			"## Example 14.10: Maximum_stress_in_the_two_dielectrics.sce"
		   ]
		  },
  {
"cell_type": "code",
	   "execution_count": null,
	   "metadata": {
	    "collapsed": true
	   },
	   "outputs": [],
"source": [
"// A Texbook on POWER SYSTEM ENGINEERING\n",
"// A.Chakrabarti, M.L.Soni, P.V.Gupta, U.S.Bhatnagar\n",
"// DHANPAT RAI & Co.\n",
"// SECOND EDITION \n",
"\n",
"// PART II : TRANSMISSION AND DISTRIBUTION\n",
"// CHAPTER 7: UNDERGROUND CABLES\n",
"\n",
"// EXAMPLE : 7.10 :\n",
"// Page number 215-216\n",
"clear ; clc ; close ; // Clear the work space and console\n",
"\n",
"// Given data\n",
"e_1 = 3.6           // Inner relative permittivity\n",
"e_2 = 2.5           // Outer relative permittivity\n",
"d = 1.0             // Conductor diameter(cm)\n",
"d_1 = 3.0           // Sheath diameter(cm)\n",
"D = 5.0             // Overall diameter(cm)\n",
"V_l = 66.0          // Line Voltage(kV)\n",
"\n",
"// Calculations\n",
"V = V_l/3**0.5*2**0.5                                // Peak voltage on core(kV)\n",
"g1_max = 2*V/(d*(log(d_1/d)+e_1/e_2*log(D/d_1)))     // Maximum stress in first dielectric(kV/km)\n",
"g_max = 2*V/(d_1*(e_2/e_1*log(d_1/d)+log(D/d_1)))    // Maximum stress in second dielectric(kV/km)\n",
"\n",
"// Results\n",
"disp('PART II - EXAMPLE : 7.10 : SOLUTION :-')\n",
"printf('\nMaximum stress in first dielectric, g_1_max = %.2f kV/cm', g1_max)\n",
"printf('\nMaximum stress in second dielectric, g_max = %.2f kV/cm', g_max)"
   ]
   }
,
{
		   "cell_type": "markdown",
		   "metadata": {},
		   "source": [
			"## Example 14.11: EX14_11.sce"
		   ]
		  },
  {
"cell_type": "code",
	   "execution_count": null,
	   "metadata": {
	    "collapsed": true
	   },
	   "outputs": [],
"source": [
"// A Texbook on POWER SYSTEM ENGINEERING\n",
"// A.Chakrabarti, M.L.Soni, P.V.Gupta, U.S.Bhatnagar\n",
"// DHANPAT RAI & Co.\n",
"// SECOND EDITION \n",
"\n",
"// PART II : TRANSMISSION AND DISTRIBUTION\n",
"// CHAPTER 7: UNDERGROUND CABLES\n",
"\n",
"// EXAMPLE : 7.11 :\n",
"// Page number 216-217\n",
"clear ; clc ; close ; // Clear the work space and console\n",
"\n",
"// Given data\n",
"V = 85.0          // Line Voltage(kV)\n",
"g_max = 55.0      // Maximum stress(kV/cm)\n",
"\n",
"// Calculations\n",
"V_1 = 0.632*V         // Intersheath potential(kV)\n",
"d = 0.736*V/g_max     // Core diameter(cm)\n",
"d_1 = 2*V/g_max       // Intersheath diameter(cm)\n",
"D = 3.76*V/g_max      // Overall diameter(cm)\n",
"d_un = 2*V/g_max      // Core diameter of ungraded cable(cm)\n",
"D_un = 2.718*d_1      // Overall diameter of ungraded cable(cm)\n",
"\n",
"// Results\n",
"disp('PART II - EXAMPLE : 7.11 : SOLUTION :-')\n",
"printf('\nDiameter of intersheath, d_1 = %.2f cm', d_1)\n",
"printf('\nVoltage of intersheath, V_1 = %.2f kV, to neutral', V_1)\n",
"printf('\nConductor diameter of graded cable, d = %.2f cm', d)\n",
"printf('\nOutside diameter of graded cable, D = %.2f cm', D)\n",
"printf('\nConductor diameter of ungraded cable, d = %.2f cm', d_un)\n",
"printf('\nOutside diameter of ungraded cable, D = %.2f cm', D_un)"
   ]
   }
,
{
		   "cell_type": "markdown",
		   "metadata": {},
		   "source": [
			"## Example 14.12: Equivalent_star_connected_capacity_and_kVA_required.sce"
		   ]
		  },
  {
"cell_type": "code",
	   "execution_count": null,
	   "metadata": {
	    "collapsed": true
	   },
	   "outputs": [],
"source": [
"// A Texbook on POWER SYSTEM ENGINEERING\n",
"// A.Chakrabarti, M.L.Soni, P.V.Gupta, U.S.Bhatnagar\n",
"// DHANPAT RAI & Co.\n",
"// SECOND EDITION \n",
"\n",
"// PART II : TRANSMISSION AND DISTRIBUTION\n",
"// CHAPTER 7: UNDERGROUND CABLES\n",
"\n",
"// EXAMPLE : 7.12 :\n",
"// Page number 219\n",
"clear ; clc ; close ; // Clear the work space and console\n",
"\n",
"// Given data\n",
"c = 0.3         // Capacitance b/w any 2 conductor & sheath earthed(µF/km)\n",
"l = 10.0        // Length(km)\n",
"V = 33.0        // Line Voltage(kV)\n",
"f = 50.0        // Frequency(Hz)\n",
"\n",
"// Calculations\n",
"C_eq = l*c                            // Capacitance b/w any 2 conductor & sheath earthed(µF)\n",
"C_p = 2.0*C_eq                        // Capacitance per phase(µF)\n",
"kVA = V**2*2*%pi*f*C_p/1000.0         // Three-phase kVA required(kVA)\n",
"\n",
"// Results\n",
"disp('PART II - EXAMPLE : 7.12 : SOLUTION :-')\n",
"printf('\nEquivalent star connected capacity, C_eq = %.f µF', C_eq)\n",
"printf('\nkVA required = %.1f kVA', kVA)"
   ]
   }
,
{
		   "cell_type": "markdown",
		   "metadata": {},
		   "source": [
			"## Example 14.13: Charging_current_drawn_by_a_cable_with_three_cores.sce"
		   ]
		  },
  {
"cell_type": "code",
	   "execution_count": null,
	   "metadata": {
	    "collapsed": true
	   },
	   "outputs": [],
"source": [
"// A Texbook on POWER SYSTEM ENGINEERING\n",
"// A.Chakrabarti, M.L.Soni, P.V.Gupta, U.S.Bhatnagar\n",
"// DHANPAT RAI & Co.\n",
"// SECOND EDITION \n",
"\n",
"// PART II : TRANSMISSION AND DISTRIBUTION\n",
"// CHAPTER 7: UNDERGROUND CABLES\n",
"\n",
"// EXAMPLE : 7.13 :\n",
"// Page number 219\n",
"clear ; clc ; close ; // Clear the work space and console\n",
"\n",
"// Given data\n",
"V = 11.0*10**3    // Line Voltage(V)\n",
"f = 50.0          // Frequency(Hz)\n",
"C_c = 3.7         // Measured capacitance(µF)\n",
"\n",
"// Calculations\n",
"C_0 = 2*C_c                               // Capacitance(µF)\n",
"I_ch = 2*%pi*f*C_0*V/3**0.5*10**-6        // Charging current per phase(A)\n",
"\n",
"// Results\n",
"disp('PART II - EXAMPLE : 7.13 : SOLUTION :-')\n",
"printf('\nCharging current drawn by a cable = %.2f A', I_ch)"
   ]
   }
,
{
		   "cell_type": "markdown",
		   "metadata": {},
		   "source": [
			"## Example 14.14: EX14_14.sce"
		   ]
		  },
  {
"cell_type": "code",
	   "execution_count": null,
	   "metadata": {
	    "collapsed": true
	   },
	   "outputs": [],
"source": [
"// A Texbook on POWER SYSTEM ENGINEERING\n",
"// A.Chakrabarti, M.L.Soni, P.V.Gupta, U.S.Bhatnagar\n",
"// DHANPAT RAI & Co.\n",
"// SECOND EDITION \n",
"\n",
"// PART II : TRANSMISSION AND DISTRIBUTION\n",
"// CHAPTER 7: UNDERGROUND CABLES\n",
"\n",
"// EXAMPLE : 7.14 :\n",
"// Page number 219-220\n",
"clear ; clc ; close ; // Clear the work space and console\n",
"\n",
"// Given data\n",
"c_s = 0.90        // Capacitance b/w all conductors(µF)\n",
"C_0 = 0.4         // Capacitance b/w two conductor(µF)\n",
"V = 11.0*10**3    // Line Voltage(V)\n",
"f = 50.0          // Frequency(Hz)\n",
"\n",
"// Calculations\n",
"C_s = c_s/3.0                              // Capacitance measured(µF)\n",
"C_c = (C_0-C_s)/2.0                        // Capacitance(µF)\n",
"C_a = 3.0/2*(C_c+(1/3.0)*C_s)              // Capacitance b/w any two conductors(µF)\n",
"C_b = 2.0*C_c+(2.0/3)*C_s                  // Capacitance b/w any two bounded conductors and the third conductor(µF)\n",
"C_o = 3.0*C_c+C_s                          // Capacitance to neutral(µF)\n",
"I_c = 2.0*%pi*f*C_o*V/3**0.5*10**-6        // Charging current(A)\n",
"\n",
"// Results\n",
"disp('PART II - EXAMPLE : 7.14 : SOLUTION :-')\n",
"printf('\nCase(a): Capacitance between any two conductors = %.3f µF', C_a)\n",
"printf('\nCase(b): Capacitance between any two bounded conductors and the third conductor = %.1f µF', C_b)\n",
"printf('\nCase(c): Capacitance to neutral, C_0 = %.2f µF', C_o)\n",
"printf('\n         Charging current taken by cable, I_c = %.3f A \n', I_c)\n",
"printf('\nNOTE: ERROR: Calculation mistakes in textbook answer')"
   ]
   }
,
{
		   "cell_type": "markdown",
		   "metadata": {},
		   "source": [
			"## Example 14.15: Charging_current_drawn_by_cable.sce"
		   ]
		  },
  {
"cell_type": "code",
	   "execution_count": null,
	   "metadata": {
	    "collapsed": true
	   },
	   "outputs": [],
"source": [
"// A Texbook on POWER SYSTEM ENGINEERING\n",
"// A.Chakrabarti, M.L.Soni, P.V.Gupta, U.S.Bhatnagar\n",
"// DHANPAT RAI & Co.\n",
"// SECOND EDITION \n",
"\n",
"// PART II : TRANSMISSION AND DISTRIBUTION\n",
"// CHAPTER 7: UNDERGROUND CABLES\n",
"\n",
"// EXAMPLE : 7.15 :\n",
"// Page number 220-221\n",
"clear ; clc ; close ; // Clear the work space and console\n",
"\n",
"// Given data\n",
"V = 13.2*10**3    // Line Voltage(V)\n",
"f = 50.0          // Frequency(Hz)\n",
"C_BC = 4.2        // Capacitance b/w two cores(µF)\n",
"\n",
"// Calculations\n",
"C_n = 2.0*C_BC                              // Capacitance to neutral(µF)\n",
"V_ph = V/3**0.5                             // Operating phase voltage(V)\n",
"I_c = 2.0*%pi*f*C_n*V/3**0.5*10**-6         // Charging current(A)\n",
"\n",
"// Results\n",
"disp('PART II - EXAMPLE : 7.15 : SOLUTION :-')\n",
"printf('\nCharging current drawn by cable, I_c = %.2f A', I_c)"
   ]
   }
,
{
		   "cell_type": "markdown",
		   "metadata": {},
		   "source": [
			"## Example 14.16: EX14_16.sce"
		   ]
		  },
  {
"cell_type": "code",
	   "execution_count": null,
	   "metadata": {
	    "collapsed": true
	   },
	   "outputs": [],
"source": [
"// A Texbook on POWER SYSTEM ENGINEERING\n",
"// A.Chakrabarti, M.L.Soni, P.V.Gupta, U.S.Bhatnagar\n",
"// DHANPAT RAI & Co.\n",
"// SECOND EDITION \n",
"\n",
"// PART II : TRANSMISSION AND DISTRIBUTION\n",
"// CHAPTER 7: UNDERGROUND CABLES\n",
"\n",
"// EXAMPLE : 7.16 :\n",
"// Page number 222-223\n",
"clear ; clc ; close ; // Clear the work space and console\n",
"\n",
"// Given data\n",
"V = 33.0*10**3    // Line Voltage(V)\n",
"f = 50.0          // Frequency(Hz)\n",
"l = 4.0           // Length(km)\n",
"d = 2.5           // Diameter of conductor(cm)\n",
"t = 0.5           // Radial thickness of insulation(cm)\n",
"e_r = 3.0         // Relative permittivity of the dielectric\n",
"PF = 0.02         // Power factor of unloaded cable\n",
"\n",
"// Calculations\n",
"// Case(a)\n",
"r = d/2.0                                         // Radius of conductor(cm)\n",
"R = r+t                                           // External radius(cm)\n",
"e_0 = 8.85*10**-12                                // Permittivity\n",
"C = 2.0*%pi*e_0*e_r/log(R/r)*l*1000               // Capacitance of cable/phase(F)\n",
"// Case(b)\n",
"V_ph = V/3**0.5                                   // Phase voltage(V)\n",
"I_c = V_ph*2.0*%pi*f*C                            // Charging current/phase(A)\n",
"// Case(c)\n",
"kVAR = 3.0*V_ph*I_c                               // Total charging kVAR\n",
"// Case(d)\n",
"phi = acosd(PF)                                   // Φ(°)\n",
"delta = 90.0-phi                                  // δ(°)\n",
"P_c = V_ph*I_c*sind(delta)/1000                   // Dielectric loss/phase(kW)\n",
"// Case(e)\n",
"E_max = V_ph/(r*log(R/r)*1000)                    // RMS value of Maximum stress in cable(kV/cm)\n",
"\n",
"// Results\n",
"disp('PART II - EXAMPLE : 7.16 : SOLUTION :-')\n",
"printf('\nCase(a): Capacitance of the cable, C = %.3e F/phase', C)\n",
"printf('\nCase(b): Charging current = %.2f A/phase', I_c)\n",
"printf('\nCase(c): Total charging kVAR = %.4e kVAR', kVAR)\n",
"printf('\nCase(d): Dielectric loss/phase, P_c = %.2f kW', P_c)\n",
"printf('\nCase(e): Maximum stress in the cable, E_max = %.1f kV/cm (rms)', E_max)"
   ]
   }
,
{
		   "cell_type": "markdown",
		   "metadata": {},
		   "source": [
			"## Example 14.1: Insulation_resistance_per_km.sce"
		   ]
		  },
  {
"cell_type": "code",
	   "execution_count": null,
	   "metadata": {
	    "collapsed": true
	   },
	   "outputs": [],
"source": [
"// A Texbook on POWER SYSTEM ENGINEERING\n",
"// A.Chakrabarti, M.L.Soni, P.V.Gupta, U.S.Bhatnagar\n",
"// DHANPAT RAI & Co.\n",
"// SECOND EDITION \n",
"\n",
"// PART II : TRANSMISSION AND DISTRIBUTION\n",
"// CHAPTER 7: UNDERGROUND CABLES\n",
"\n",
"// EXAMPLE : 7.1 :\n",
"// Page number 211\n",
"clear ; clc ; close ; // Clear the work space and console\n",
"\n",
"// Given data\n",
"d = 2.5              // Core diameter(cm)\n",
"t = 1.25             // Insulation thickness(cm)\n",
"rho = 4.5*10**14     // Resistivity of insulation(ohm-cm)\n",
"l = 10.0**5          // Length(cm)\n",
"\n",
"// Calculations\n",
"D = d+2*t                        // Overall diameter(cm)\n",
"R_i = rho/(2*%pi*l)*log(D/d)     // Insulation resistance(ohm)\n",
"\n",
"// Results\n",
"disp('PART II - EXAMPLE : 7.1 : SOLUTION :-')\n",
"printf('\nInsulation resistance per km, R_i = %.2e ohm\n', R_i)\n",
"printf('\nNOTE: ERROR: Mistake in final answer in textbook')"
   ]
   }
,
{
		   "cell_type": "markdown",
		   "metadata": {},
		   "source": [
			"## Example 14.2: Insulation_thickness.sce"
		   ]
		  },
  {
"cell_type": "code",
	   "execution_count": null,
	   "metadata": {
	    "collapsed": true
	   },
	   "outputs": [],
"source": [
"// A Texbook on POWER SYSTEM ENGINEERING\n",
"// A.Chakrabarti, M.L.Soni, P.V.Gupta, U.S.Bhatnagar\n",
"// DHANPAT RAI & Co.\n",
"// SECOND EDITION \n",
"\n",
"// PART II : TRANSMISSION AND DISTRIBUTION\n",
"// CHAPTER 7: UNDERGROUND CABLES\n",
"\n",
"// EXAMPLE : 7.2 :\n",
"// Page number 211\n",
"clear ; clc ; close ; // Clear the work space and console\n",
"\n",
"// Given data\n",
"R = 495.0*10**6      // Insulation resistance(ohm/km)\n",
"d = 3.0              // Core diameter(cm)\n",
"rho = 4.5*10**14     // Resistivity of insulation(ohm-cm)\n",
"\n",
"// Calculations\n",
"l = 1000.0                               // Length of cable(m)\n",
"r_2 = d/2.0                              // Core radius(cm)\n",
"Rho = rho/100.0                          // Resistivity of insulation(ohm-m)\n",
"r1_r2 = exp((2*%pi*l*R)/Rho)             // r1/r2\n",
"r_1 = 2*r_2                              // Cable radius(cm)\n",
"thick = r_1-r_2                          // Insulation thickness(cm)\n",
"\n",
"// Results\n",
"disp('PART II - EXAMPLE : 7.2 : SOLUTION :-')\n",
"printf('\nInsulation thickness = %.1f cm', thick)"
   ]
   }
,
{
		   "cell_type": "markdown",
		   "metadata": {},
		   "source": [
			"## Example 14.3: Capacitance_and_Charging_current_of_single_core_cable.sce"
		   ]
		  },
  {
"cell_type": "code",
	   "execution_count": null,
	   "metadata": {
	    "collapsed": true
	   },
	   "outputs": [],
"source": [
"// A Texbook on POWER SYSTEM ENGINEERING\n",
"// A.Chakrabarti, M.L.Soni, P.V.Gupta, U.S.Bhatnagar\n",
"// DHANPAT RAI & Co.\n",
"// SECOND EDITION \n",
"\n",
"// PART II : TRANSMISSION AND DISTRIBUTION\n",
"// CHAPTER 7: UNDERGROUND CABLES\n",
"\n",
"// EXAMPLE : 7.3 :\n",
"// Page number 212\n",
"clear ; clc ; close ; // Clear the work space and console\n",
"\n",
"// Given data\n",
"V = 66.0*10**3        // Line Voltage(V)\n",
"l = 1.0               // Length of cable(km)\n",
"d = 15.0              // Core diameter(cm)\n",
"D = 60.0              // Sheath diameter(cm)\n",
"e_r = 3.6             // Relative permittivity\n",
"f = 50.0              // Frequency(Hz)\n",
"\n",
"// Calculations\n",
"C = e_r/(18.0*log(D/d))*l           // Capacitance(µF)\n",
"I_ch = V/3**0.5*2*%pi*f*C*10**-6    // Charging current(A)\n",
"\n",
"// Results\n",
"disp('PART II - EXAMPLE : 7.3 : SOLUTION :-')\n",
"printf('\nCapacitance of single-core cable, C = %.3f µF', C)\n",
"printf('\nCharging current of single-core cable = %.2f A', I_ch)"
   ]
   }
,
{
		   "cell_type": "markdown",
		   "metadata": {},
		   "source": [
			"## Example 14.4: EX14_4.sce"
		   ]
		  },
  {
"cell_type": "code",
	   "execution_count": null,
	   "metadata": {
	    "collapsed": true
	   },
	   "outputs": [],
"source": [
"// A Texbook on POWER SYSTEM ENGINEERING\n",
"// A.Chakrabarti, M.L.Soni, P.V.Gupta, U.S.Bhatnagar\n",
"// DHANPAT RAI & Co.\n",
"// SECOND EDITION \n",
"\n",
"// PART II : TRANSMISSION AND DISTRIBUTION\n",
"// CHAPTER 7: UNDERGROUND CABLES\n",
"\n",
"// EXAMPLE : 7.4 :\n",
"// Page number 212\n",
"clear ; clc ; close ; // Clear the work space and console\n",
"\n",
"// Given data\n",
"V_l = 132.0         // Line Voltage(kV)\n",
"g_max = 60.0        // Maximum Line Voltage(kV)\n",
"\n",
"// Calculations\n",
"V = V_l/3**0.5*2**0.5     // Phase Voltage(kV)\n",
"d = 2*V/g_max             // Core diameter(cm)\n",
"D = 2.718*d               // Overall diameter(cm)\n",
"\n",
"// Results\n",
"disp('PART II - EXAMPLE : 7.4 : SOLUTION :-')\n",
"printf('\nMost economical diameter of a single-core cable, d = %.1f cm', d)\n",
"printf('\nOverall diameter of the insulation, D = %.3f cm\n', D)\n",
"printf('\nNOTE: Slight change in obtained answer due to precision')"
   ]
   }
,
{
		   "cell_type": "markdown",
		   "metadata": {},
		   "source": [
			"## Example 14.6: Conductor_radius_and_Electric_field_strength_that_must_be_withstood.sce"
		   ]
		  },
  {
"cell_type": "code",
	   "execution_count": null,
	   "metadata": {
	    "collapsed": true
	   },
	   "outputs": [],
"source": [
"// A Texbook on POWER SYSTEM ENGINEERING\n",
"// A.Chakrabarti, M.L.Soni, P.V.Gupta, U.S.Bhatnagar\n",
"// DHANPAT RAI & Co.\n",
"// SECOND EDITION \n",
"\n",
"// PART II : TRANSMISSION AND DISTRIBUTION\n",
"// CHAPTER 7: UNDERGROUND CABLES\n",
"\n",
"// EXAMPLE : 7.6 :\n",
"// Page number 212-213\n",
"clear ; clc ; close ; // Clear the work space and console\n",
"\n",
"// Given data\n",
"V = 11.0*10**3        // Line Voltage(V)\n",
"dia_out = 8.0         // Outside diameter(cm)\n",
"\n",
"// Calculations\n",
"D = dia_out/2.0                      // Overall diameter(cm)\n",
"d = (D)/2.718                        // Conductor diameter(cm)\n",
"r = d/2                              // Conductor radius(cm)\n",
"g_m = 2*V/(d*log(D/d)*10)            // Maximum value of electric field strength(kV/m)\n",
"\n",
"// Results\n",
"disp('PART II - EXAMPLE : 7.6 : SOLUTION :-')\n",
"printf('\nConductor radius, r = %.3f cm', r)\n",
"printf('\nElectric field strength that must be withstood, g_m = %.f kV/m', g_m)"
   ]
   }
,
{
		   "cell_type": "markdown",
		   "metadata": {},
		   "source": [
			"## Example 14.7: EX14_7.sce"
		   ]
		  },
  {
"cell_type": "code",
	   "execution_count": null,
	   "metadata": {
	    "collapsed": true
	   },
	   "outputs": [],
"source": [
"// A Texbook on POWER SYSTEM ENGINEERING\n",
"// A.Chakrabarti, M.L.Soni, P.V.Gupta, U.S.Bhatnagar\n",
"// DHANPAT RAI & Co.\n",
"// SECOND EDITION \n",
"\n",
"// PART II : TRANSMISSION AND DISTRIBUTION\n",
"// CHAPTER 7: UNDERGROUND CABLES\n",
"\n",
"// EXAMPLE : 7.7 :\n",
"// Page number 214\n",
"clear ; clc ; close ; // Clear the work space and console\n",
"\n",
"// Given data\n",
"R_3 = 1.00            // Cable radius(cm)\n",
"R_1 = 2.5             // Cable radius(cm)\n",
"\n",
"// Calculations\n",
"R_2 = (R_1*R_3)**0.5      // Location of intersheath(cm)\n",
"alpha = R_1/R_2           // α\n",
"ratio = 2.0/(1+alpha)     // Ratio of maximum electric field strength with & without intersheath\n",
"\n",
"// Results\n",
"disp('PART II - EXAMPLE : 7.7 : SOLUTION :-')\n",
"printf('\nLocation of intersheath, R_2 = %.2f cm', R_2)\n",
"printf('\nRatio of maximum electric field strength with & without intersheath = %.3f ', ratio)"
   ]
   }
,
{
		   "cell_type": "markdown",
		   "metadata": {},
		   "source": [
			"## Example 14.8: Maximum_and_Minimum_stress_in_the_insulation.sce"
		   ]
		  },
  {
"cell_type": "code",
	   "execution_count": null,
	   "metadata": {
	    "collapsed": true
	   },
	   "outputs": [],
"source": [
"// A Texbook on POWER SYSTEM ENGINEERING\n",
"// A.Chakrabarti, M.L.Soni, P.V.Gupta, U.S.Bhatnagar\n",
"// DHANPAT RAI & Co.\n",
"// SECOND EDITION \n",
"\n",
"// PART II : TRANSMISSION AND DISTRIBUTION\n",
"// CHAPTER 7: UNDERGROUND CABLES\n",
"\n",
"// EXAMPLE : 7.8 :\n",
"// Page number 215\n",
"clear ; clc ; close ; // Clear the work space and console\n",
"\n",
"// Given data\n",
"V = 33.0              // Line Voltage(kV)\n",
"D_2 = 2.0             // Conductor diameter(cm)\n",
"D_1 = 3.0             // Sheath diameter(cm)\n",
"\n",
"// Calculations\n",
"R_2 = D_2/2                         // Conductor radius(cm)\n",
"R_1 = D_1/2                         // Sheath radius(cm)\n",
"g_max = V/(R_2*log(R_1/R_2))        // RMS value of maximum stress in the insulation(kV/cm)\n",
"g_min = V/(R_1*log(R_1/R_2))        // RMS value of minimum stress in the insulation(kV/cm)\n",
"\n",
"// Results\n",
"disp('PART II - EXAMPLE : 7.8 : SOLUTION :-')\n",
"printf('\nMaximum stress in the insulation, g_max = %.2f kV/cm (rms)', g_max)\n",
"printf('\nMinimum stress in the insulation, g_min = %.2f kV/cm (rms)', g_min)"
   ]
   }
,
{
		   "cell_type": "markdown",
		   "metadata": {},
		   "source": [
			"## Example 14.9: EX14_9.sce"
		   ]
		  },
  {
"cell_type": "code",
	   "execution_count": null,
	   "metadata": {
	    "collapsed": true
	   },
	   "outputs": [],
"source": [
"// A Texbook on POWER SYSTEM ENGINEERING\n",
"// A.Chakrabarti, M.L.Soni, P.V.Gupta, U.S.Bhatnagar\n",
"// DHANPAT RAI & Co.\n",
"// SECOND EDITION \n",
"\n",
"// PART II : TRANSMISSION AND DISTRIBUTION\n",
"// CHAPTER 7: UNDERGROUND CABLES\n",
"\n",
"// EXAMPLE : 7.9 :\n",
"// Page number 215\n",
"clear ; clc ; close ; // Clear the work space and console\n",
"\n",
"// Given data\n",
"d = 2.5             // Conductor diameter(cm)\n",
"D = 6.0             // Sheath diameter(cm)\n",
"V_l = 66.0          // Line Voltage(kV)\n",
"\n",
"// Calculations\n",
"alpha = (D/d)**(1.0/3)               // α\n",
"d_1 = d*alpha                        // Best position of first intersheath(cm)\n",
"d_2 = d_1*alpha                      // Best position of second intersheath(cm)\n",
"V = V_l/3**0.5*2**0.5                // Peak voltage on core(kV)\n",
"V_2 = V/(1+(1/alpha)+(1/alpha**2))   // Peak voltage on second intersheath(kV)\n",
"V_1 = (1+(1/alpha))*V_2              // Voltage on first intersheath(kV)\n",
"stress_max = 2*V/(d*log(D/d))        // Maximum stress without intersheath(kV/cm)\n",
"stress_min = stress_max*d/D          // Minimum stress without intersheath(kV/cm)\n",
"g_max = V*3/(1+alpha+alpha**2)       // Maximum stress with intersheath(kV/cm)\n",
"\n",
"// Results\n",
"disp('PART II - EXAMPLE : 7.9 : SOLUTION :-')\n",
"printf('\nMaximum stress without intersheath = %.2f kV/cm', stress_max)\n",
"printf('\nBest position of first intersheath, d_1 = %.2f cm', d_1)\n",
"printf('\nBest position of second intersheath, d_2 = %.3f cm', d_2)\n",
"printf('\nMaximum stress with intersheath = %.2f kV/cm', g_max)\n",
"printf('\nVoltage on the first intersheath, V_1 = %.2f kV', V_1)\n",
"printf('\nVoltage on the second intersheath, V_2 = %.2f kV \n', V_2)\n",
"printf('\nNOTE: Changes in the obtained answer is due to more precision here') "
   ]
   }
],
"metadata": {
		  "kernelspec": {
		   "display_name": "Scilab",
		   "language": "scilab",
		   "name": "scilab"
		  },
		  "language_info": {
		   "file_extension": ".sce",
		   "help_links": [
			{
			 "text": "MetaKernel Magics",
			 "url": "https://github.com/calysto/metakernel/blob/master/metakernel/magics/README.md"
			}
		   ],
		   "mimetype": "text/x-octave",
		   "name": "scilab",
		   "version": "0.7.1"
		  }
		 },
		 "nbformat": 4,
		 "nbformat_minor": 0
}
