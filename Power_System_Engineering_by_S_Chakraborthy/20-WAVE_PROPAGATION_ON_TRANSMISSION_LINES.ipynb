{
"cells": [
 {
		   "cell_type": "markdown",
	   "metadata": {},
	   "source": [
       "# Chapter 20: WAVE PROPAGATION ON TRANSMISSION LINES"
	   ]
	},
{
		   "cell_type": "markdown",
		   "metadata": {},
		   "source": [
			"## Example 20.4: Reflected_and_Transmitted_wave_of_Voltage_and_Current_at_the_junction.sce"
		   ]
		  },
  {
"cell_type": "code",
	   "execution_count": null,
	   "metadata": {
	    "collapsed": true
	   },
	   "outputs": [],
"source": [
"// A Texbook on POWER SYSTEM ENGINEERING\n",
"// A.Chakrabarti, M.L.Soni, P.V.Gupta, U.S.Bhatnagar\n",
"// DHANPAT RAI & Co.\n",
"// SECOND EDITION \n",
"\n",
"// PART II : TRANSMISSION AND DISTRIBUTION\n",
"// CHAPTER 13: WAVE PROPAGATION ON TRANSMISSION LINES\n",
"\n",
"// EXAMPLE : 13.4 :\n",
"// Page number 366\n",
"clear ; clc ; close ; // Clear the work space and console\n",
"\n",
"// Given data\n",
"R_1 = 60.0     // Surge impedance of underground cable(ohm)\n",
"R_2 = 400.0    // Surge impedance of overhead line(ohm)\n",
"e = 100.0      // Maximum value of surge(kV)\n",
"\n",
"// Calculations\n",
"i = e*1000/R_1                // Current(A)\n",
"k = (R_2-R_1)/(R_2+R_1)\n",
"e_ref = k*e                   // Reflected voltage(kV)\n",
"e_trans = e+e_ref             // Transmitted voltage(kV)\n",
"e_trans_alt = (1+k)*e         // Transmitted voltage(kV). Alternative method\n",
"i_ref = -k*i                  // Reflected current(A)\n",
"i_trans = e_trans*1000/R_2    // Transmitted current(A)\n",
"i_trans_alt = (1-k)*i         // Transmitted current(A). Alternative method\n",
"\n",
"// Results\n",
"disp('PART II - EXAMPLE : 13.4 : SOLUTION :-')\n",
"printf('\nReflected voltage at the junction = %.f kV', e_ref)\n",
"printf('\nTransmitted voltage at the junction = %.f kV', e_trans)\n",
"printf('\nReflected current at the junction = %.f A', i_ref)\n",
"printf('\nTransmitted current at the junction = %.f A\n', i_trans)\n",
"printf('\nNOTE: ERROR: Calculation mistake in textbook in finding Reflected current')"
   ]
   }
,
{
		   "cell_type": "markdown",
		   "metadata": {},
		   "source": [
			"## Example 20.5: First_and_Second_voltages_impressed_on_C.sce"
		   ]
		  },
  {
"cell_type": "code",
	   "execution_count": null,
	   "metadata": {
	    "collapsed": true
	   },
	   "outputs": [],
"source": [
"// A Texbook on POWER SYSTEM ENGINEERING\n",
"// A.Chakrabarti, M.L.Soni, P.V.Gupta, U.S.Bhatnagar\n",
"// DHANPAT RAI & Co.\n",
"// SECOND EDITION \n",
"\n",
"// PART II : TRANSMISSION AND DISTRIBUTION\n",
"// CHAPTER 13: WAVE PROPAGATION ON TRANSMISSION LINES\n",
"\n",
"// EXAMPLE : 13.5 :\n",
"// Page number 366\n",
"clear ; clc ; close ; // Clear the work space and console\n",
"\n",
"// Given data\n",
"R_A = 500.0     // Surge impedance of line A(ohm)\n",
"R_B = 70.0      // Surge impedance of line B(ohm)\n",
"R_C = 600.0     // Surge impedance of line C(ohm)\n",
"e = 20.0        // Rectangular voltage wave(kV)\n",
"\n",
"// Calculations\n",
"E_2 = e*(1+((R_B-R_A)/(R_B+R_A)))       // Transmitted wave(kV)\n",
"E_4 = E_2*(1+((R_C-R_B)/(R_C+R_B)))     // First voltage impressed on C(kV)\n",
"E_3 = E_2*(R_C-R_B)/(R_C+R_B)           // Reflected wave(kV)\n",
"E_5 = E_3*(R_A-R_B)/(R_A+R_B)           // Reflected wave(kV)\n",
"E_6 = E_5*(1+((R_C-R_B)/(R_C+R_B)))     // Transmitted wave(kV)\n",
"second = E_4+E_6                        // Second voltage impressed on C(kV)\n",
"\n",
"// Results\n",
"disp('PART II - EXAMPLE : 13.5 : SOLUTION :-')\n",
"printf('\nFirst voltage impressed on C = %.1f kV', E_4)\n",
"printf('\nSecond voltage impressed on C = %.1f kV', second)"
   ]
   }
,
{
		   "cell_type": "markdown",
		   "metadata": {},
		   "source": [
			"## Example 20.6: Voltage_and_Current_in_the_cable_and_Open_wire_lines.sce"
		   ]
		  },
  {
"cell_type": "code",
	   "execution_count": null,
	   "metadata": {
	    "collapsed": true
	   },
	   "outputs": [],
"source": [
"// A Texbook on POWER SYSTEM ENGINEERING\n",
"// A.Chakrabarti, M.L.Soni, P.V.Gupta, U.S.Bhatnagar\n",
"// DHANPAT RAI & Co.\n",
"// SECOND EDITION \n",
"\n",
"// PART II : TRANSMISSION AND DISTRIBUTION\n",
"// CHAPTER 13: WAVE PROPAGATION ON TRANSMISSION LINES\n",
"\n",
"// EXAMPLE : 13.6 :\n",
"// Page number 367\n",
"clear ; clc ; close ; // Clear the work space and console\n",
"\n",
"// Given data\n",
"Z = 100.0         // Surge impedance of cable(ohm)\n",
"Z_1 = 600.0       // Surge impedance of open wire(ohm)\n",
"Z_2 = 1000.0      // Surge impedance of open wire(ohm)\n",
"e = 2.0           // Steep fronted voltage(kV)\n",
"\n",
"// Calculations\n",
"Z_t = Z_1*Z_2/(Z_1+Z_2)       // Resultant surge impedance(ohm)\n",
"E = e*(1+((Z_t-Z)/(Z_t+Z)))   // Transmitted voltage(kV)\n",
"I_1 = E*1000/Z_1              // Current(A)\n",
"I_2 = E*1000/Z_2              // Current(A)\n",
"E_ref = e*(Z_t-Z)/(Z_t+Z)     // Reflected voltage(kV)\n",
"I_ref = -E_ref*1000/Z         // Reflected current(A)\n",
"\n",
"// Results\n",
"disp('PART II - EXAMPLE : 13.6 : SOLUTION :-')\n",
"printf('\nVoltage in the cable = %.3f kV', E)\n",
"printf('\nCurrent in the cable, I_1 = %.2f A', I_1)\n",
"printf('\nCurrent in the cable, I_2 = %.3f A', I_2)\n",
"printf('\nVoltage in the open-wire lines i.e Reflected voltage = %.3f kV', E_ref)\n",
"printf('\nCurrent in the open-wire lines i.e Reflected current = %.2f A', I_ref)"
   ]
   }
],
"metadata": {
		  "kernelspec": {
		   "display_name": "Scilab",
		   "language": "scilab",
		   "name": "scilab"
		  },
		  "language_info": {
		   "file_extension": ".sce",
		   "help_links": [
			{
			 "text": "MetaKernel Magics",
			 "url": "https://github.com/calysto/metakernel/blob/master/metakernel/magics/README.md"
			}
		   ],
		   "mimetype": "text/x-octave",
		   "name": "scilab",
		   "version": "0.7.1"
		  }
		 },
		 "nbformat": 4,
		 "nbformat_minor": 0
}
