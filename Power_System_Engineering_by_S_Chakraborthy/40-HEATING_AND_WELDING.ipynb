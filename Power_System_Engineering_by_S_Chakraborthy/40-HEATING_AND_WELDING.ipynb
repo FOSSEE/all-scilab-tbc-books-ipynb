{
"cells": [
 {
		   "cell_type": "markdown",
	   "metadata": {},
	   "source": [
       "# Chapter 40: HEATING AND WELDING"
	   ]
	},
{
		   "cell_type": "markdown",
		   "metadata": {},
		   "source": [
			"## Example 40.1: Diameter_Length_and_Temperature_of_the_wire.sce"
		   ]
		  },
  {
"cell_type": "code",
	   "execution_count": null,
	   "metadata": {
	    "collapsed": true
	   },
	   "outputs": [],
"source": [
"// A Texbook on POWER SYSTEM ENGINEERING\n",
"// A.Chakrabarti, M.L.Soni, P.V.Gupta, U.S.Bhatnagar\n",
"// DHANPAT RAI & Co.\n",
"// SECOND EDITION \n",
"\n",
"// PART IV : UTILIZATION AND TRACTION\n",
"// CHAPTER 2: HEATING AND WELDING\n",
"\n",
"// EXAMPLE : 2.1 :\n",
"// Page number 724-725\n",
"clear ; clc ; close ; // Clear the work space and console\n",
"\n",
"// Given data\n",
"P = 15.0*10**3     // Power supplied(W)\n",
"V = 220.0          // Voltage(V)\n",
"T_w = 1000.0       // Temperature of wire(°C)\n",
"T_c = 600.0        // Temperature of charges(°C)\n",
"k = 0.6            // Radiatting efficiency\n",
"e = 0.9            // Emissivity\n",
"\n",
"// Calculations\n",
"rho = 1.016/10**6                                                  // Specific resistance(ohm-m)\n",
"d_square = 4*rho*P/(%pi*V**2)                                      // d^2 in terms of l\n",
"T_1 = T_w+273                                                      // Absolute temperature(°C)\n",
"T_2 = T_c+273                                                      // Absolute temperature(°C)\n",
"H = 5.72*10**4*k*e*((T_1/1000)**4-(T_2/1000)**4)                   // Heat produced(watts/sq.m)\n",
"dl = P/(%pi*H)\n",
"l = (dl**2/d_square)**(1.0/3)                                      // Length of wire(m)\n",
"d = dl/l                                                           // Diameter of wire(m)\n",
"T_2_cold = 20.0+273                                                // Absolute temperature at the 20°C normal temperature(°C)\n",
"T_1_cold = (H/(5.72*10**4*k*e)+(T_2_cold/1000)**4)**(1.0/4)*1000   // Absolute temperature when charge is cold(°C)\n",
"T_1_c = T_1_cold-273                                               // Temperature when charge is cold(°C)\n",
"\n",
"// Results\n",
"disp('PART IV - EXAMPLE : 2.1 : SOLUTION :-')\n",
"printf('\nDiameter of the wire, d = %.3f cm', d*100)\n",
"printf('\nLength of the wire, l = %.2f m', l)\n",
"printf('\nTemperature of the wire when charge is cold, T_1 = %.f°C absolute = %.f°C \n', T_1_cold,T_1_c)\n",
"printf('\nNOTE: Slight changes in the obtained answer from that of textbook is due to more precision here')"
   ]
   }
,
{
		   "cell_type": "markdown",
		   "metadata": {},
		   "source": [
			"## Example 40.2: Width_and_Length_of_nickel_chrome_strip.sce"
		   ]
		  },
  {
"cell_type": "code",
	   "execution_count": null,
	   "metadata": {
	    "collapsed": true
	   },
	   "outputs": [],
"source": [
"// A Texbook on POWER SYSTEM ENGINEERING\n",
"// A.Chakrabarti, M.L.Soni, P.V.Gupta, U.S.Bhatnagar\n",
"// DHANPAT RAI & Co.\n",
"// SECOND EDITION \n",
"\n",
"// PART IV : UTILIZATION AND TRACTION\n",
"// CHAPTER 2: HEATING AND WELDING\n",
"\n",
"// EXAMPLE : 2.2 :\n",
"// Page number 725\n",
"clear ; clc ; close ; // Clear the work space and console\n",
"\n",
"// Given data\n",
"P = 15.0*10**3         // Power supplied(W)\n",
"V = 220.0              // Voltage(V)\n",
"T_w = 1000.0           // Temperature of wire(°C)\n",
"T_c = 600.0            // Temperature of charges(°C)\n",
"k = 0.6                // Radiatting efficiency\n",
"e = 0.9                // Emissivity\n",
"thick = 0.25/1000      // Thickness of nickel-chrome strip(m)\n",
"\n",
"// Calculations\n",
"rho = 1.016/10**6                                     // Specific resistance(ohm-m)\n",
"R = V**2/P                                            // Resistance(ohm)\n",
"l_w = R*thick/rho                                     // Length of strip in terms of w\n",
"T_1 = T_w+273                                         // Absolute temperature(°C)\n",
"T_2 = T_c+273                                         // Absolute temperature(°C)\n",
"H = 5.72*10**4*k*e*((T_1/1000)**4-(T_2/1000)**4)      // Heat produced(watts/sq.m)\n",
"wl = P/(2*H)\n",
"w = (wl/l_w)**0.5                                     // Width of nickel-chrome strip(m)\n",
"l = w*l_w                                             // Length of nickel-chrome strip(m)\n",
"\n",
"// Results\n",
"disp('PART IV - EXAMPLE : 2.2 : SOLUTION :-')\n",
"printf('\nWidth of nickel-chrome strip, w = %.3f cm', w*100)\n",
"printf('\nLength of nickel-chrome strip, l = %.1f m', l)"
   ]
   }
,
{
		   "cell_type": "markdown",
		   "metadata": {},
		   "source": [
			"## Example 40.3: Power_drawn_under_various_connections.sce"
		   ]
		  },
  {
"cell_type": "code",
	   "execution_count": null,
	   "metadata": {
	    "collapsed": true
	   },
	   "outputs": [],
"source": [
"// A Texbook on POWER SYSTEM ENGINEERING\n",
"// A.Chakrabarti, M.L.Soni, P.V.Gupta, U.S.Bhatnagar\n",
"// DHANPAT RAI & Co.\n",
"// SECOND EDITION \n",
"\n",
"// PART IV : UTILIZATION AND TRACTION\n",
"// CHAPTER 2: HEATING AND WELDING\n",
"\n",
"// EXAMPLE : 2.3 :\n",
"// Page number 726-727\n",
"clear ; clc ; close ; // Clear the work space and console\n",
"\n",
"// Given data\n",
"R = 50.0    // Resistance of each resistor in oven(ohm)\n",
"n = 6.0     // Number of resistance\n",
"V = 400.0   // Supply voltage(V)\n",
"tap = 50.0  // Auto-transformer tapping(%)\n",
"\n",
"// Calculations\n",
"// Case(a)(i)\n",
"P_a_i = n*V**2/R*10**-3                       // Power consumption for 6 elements in parallel(kW)\n",
"// Case(a)(ii)\n",
"P_each_a_ii = V**2/(R+R)*10**-3               // Power consumption in each group of 2 resistances in series(kW)\n",
"P_a_ii = n/2*P_each_a_ii                      // Power consumption for 3 groups(kW)\n",
"// Case(b)(i)\n",
"V_b_i = V/3**0.5                              // Supply voltage against each resistance(V)\n",
"P_each_b_i = 2*V_b_i**2/R*10**-3              // Power consumption in each branch(kW)\n",
"P_b_i = n/2*P_each_b_i                        // Power consumption for 2 elements in parallel in each phase(kW)\n",
"// Case(b)(ii)\n",
"V_b_ii = V/3**0.5                             // Supply voltage to any branch(V)\n",
"P_each_b_ii = V_b_ii**2/(R+R)*10**-3          // Power consumption in each branch(kW)\n",
"P_b_ii = n/2*P_each_b_ii                      // Power consumption for 2 elements in series in each phase(kW)\n",
"// Case(c)(i)\n",
"P_each_c_i = V**2/(R+R)*10**-3                // Power consumption by each branch(kW)\n",
"P_c_i = n/2*P_each_c_i                        // Power consumption for 2 elements in series in each branch(kW)\n",
"// Case(c)(ii)\n",
"P_each_c_ii = 2*V**2/R*10**-3                 // Power consumption by each branch(kW)\n",
"P_c_ii = n/2*P_each_c_ii                      // Power consumption for 2 elements in parallel in each branch(kW)\n",
"// Case(d)\n",
"V_d = V*tap/100                               // Voltage under tapping(V)\n",
"ratio_V = V_d/V                               // Ratio of normal voltage to tapped voltage\n",
"loss = ratio_V**2                             // Power loss in terms of normal power\n",
"\n",
"// Results\n",
"disp('PART IV - EXAMPLE : 2.3 : SOLUTION :-')\n",
"printf('\nCase(a): AC Single phase 400 V supply')\n",
"printf('\n         Case(i) :  Power consumption for 6 elements in parallel = %.1f kW', P_a_i)\n",
"printf('\n         Case(ii):  Power consumption for 3 groups in parallel with 2 element in series = %.1f kW', P_a_ii)\n",
"printf('\nCase(b): AC Three phase 400 V supply with star combination')\n",
"printf('\n         Case(i) :  Power consumption for 2 elements in parallel in each phase = %.1f kW', P_b_i)\n",
"printf('\n         Case(ii):  Power consumption for 2 elements in series in each phase = %.1f kW', P_b_ii)\n",
"printf('\nCase(c): AC Three phase 400 V supply with delta combination')\n",
"printf('\n         Case(i) :  Power consumption for 2 elements in series in each branch = %.1f kW', P_c_i)\n",
"printf('\n         Case(ii):  Power consumption for 2 elements in parallel in each branch = %.1f kW', P_c_ii)\n",
"printf('\nCase(d): Power loss will be %.2f of the values obtained as above with auto-transformer tapping', loss)"
   ]
   }
,
{
		   "cell_type": "markdown",
		   "metadata": {},
		   "source": [
			"## Example 40.4: Amount_of_energy_required_to_melt_brass.sce"
		   ]
		  },
  {
"cell_type": "code",
	   "execution_count": null,
	   "metadata": {
	    "collapsed": true
	   },
	   "outputs": [],
"source": [
"// A Texbook on POWER SYSTEM ENGINEERING\n",
"// A.Chakrabarti, M.L.Soni, P.V.Gupta, U.S.Bhatnagar\n",
"// DHANPAT RAI & Co.\n",
"// SECOND EDITION \n",
"\n",
"// PART IV : UTILIZATION AND TRACTION\n",
"// CHAPTER 2: HEATING AND WELDING\n",
"\n",
"// EXAMPLE : 2.4 :\n",
"// Page number 728\n",
"clear ; clc ; close ; // Clear the work space and console\n",
"\n",
"// Given data\n",
"w_brass = 1000.0         // Weight of brass(kg)\n",
"time = 1.0               // Time(hour)\n",
"heat_sp = 0.094          // Specific heat\n",
"fusion = 40.0            // Latent heat of fusion(kcal/kg)\n",
"T_initial = 24.0         // Initial temperature(°C)\n",
"melt_point = 920.0       // Melting point of brass(°C)\n",
"n = 0.65                 // Efficiency\n",
"\n",
"// Calculations\n",
"heat_req = w_brass*heat_sp*(melt_point-T_initial)     // Heat required to raise the temperature(kcal)\n",
"heat_mel = w_brass*fusion                             // Heat required for melting(kcal)\n",
"heat_total = heat_req+heat_mel                        // Total heat required(kcal)\n",
"energy = heat_total*1000*4.18/(10**3*3600*n)          // Energy input(kWh)\n",
"power = energy/time                                   // Power(kW)\n",
"\n",
"// Results\n",
"disp('PART IV - EXAMPLE : 2.4 : SOLUTION :-')\n",
"printf('\nAmount of energy required to melt brass = %.f kWh', energy)"
   ]
   }
,
{
		   "cell_type": "markdown",
		   "metadata": {},
		   "source": [
			"## Example 40.5: EX40_5.sce"
		   ]
		  },
  {
"cell_type": "code",
	   "execution_count": null,
	   "metadata": {
	    "collapsed": true
	   },
	   "outputs": [],
"source": [
"// A Texbook on POWER SYSTEM ENGINEERING\n",
"// A.Chakrabarti, M.L.Soni, P.V.Gupta, U.S.Bhatnagar\n",
"// DHANPAT RAI & Co.\n",
"// SECOND EDITION \n",
"\n",
"// PART IV : UTILIZATION AND TRACTION\n",
"// CHAPTER 2: HEATING AND WELDING\n",
"\n",
"// EXAMPLE : 2.5 :\n",
"// Page number 728-729\n",
"clear ; clc ; close ; // Clear the work space and console\n",
"\n",
"// Given data\n",
"V_2 = 12.0         // Secondary voltage(V)\n",
"P = 30.0*10**3     // Power(W)\n",
"PF = 0.5           // Power factor\n",
"\n",
"// Calculations\n",
"I_2 = P/(V_2*PF)            // Secondary current(A)\n",
"Z_2 = V_2/I_2               // Secondary impedance(ohm)\n",
"R_2 = Z_2*PF                // Secondary resistance(ohm)\n",
"sin_phi = (1-PF**2)**0.5\n",
"X_2 = Z_2*sin_phi           // Secondary reactance(ohm)\n",
"h = R_2/X_2\n",
"H_m = h                     // Height up to which the crucible should be filled to obtain maximum heating effect in terms of H_c\n",
"\n",
"// Results\n",
"disp('PART IV - EXAMPLE : 2.5 : SOLUTION :-')\n",
"printf('\nHeight up to which the crucible should be filled to obtain maximum heating effect, H_m = %.3f*H_c \n', H_m)\n",
"printf('\nNOTE: ERROR: Calculation mistake in textbook solution and P is 30 kW not 300 kW')"
   ]
   }
,
{
		   "cell_type": "markdown",
		   "metadata": {},
		   "source": [
			"## Example 40.6: Voltage_necessary_for_heating_and_Current_flowing_in_the_material.sce"
		   ]
		  },
  {
"cell_type": "code",
	   "execution_count": null,
	   "metadata": {
	    "collapsed": true
	   },
	   "outputs": [],
"source": [
"// A Texbook on POWER SYSTEM ENGINEERING\n",
"// A.Chakrabarti, M.L.Soni, P.V.Gupta, U.S.Bhatnagar\n",
"// DHANPAT RAI & Co.\n",
"// SECOND EDITION \n",
"\n",
"// PART IV : UTILIZATION AND TRACTION\n",
"// CHAPTER 2: HEATING AND WELDING\n",
"\n",
"// EXAMPLE : 2.6 :\n",
"// Page number 732\n",
"clear ; clc ; close ; // Clear the work space and console\n",
"\n",
"// Given data\n",
"l = 10.0         // Length of material(cm)\n",
"b = 10.0         // Breadth of material(cm)\n",
"t = 3.0          // Thickness of material(cm)\n",
"f = 20.0*10**6   // Frequency(Hz)\n",
"P = 400.0        // Power absorbed(W)\n",
"e_r = 5.0        // Relative permittivity\n",
"PF = 0.05        // Power factor\n",
"\n",
"// Calculations\n",
"e_0 = 8.854*10**-12          // Absolute permittivity\n",
"A = l*b*10**-4               // Area(Sq.m)\n",
"C = e_0*e_r*A/(t/100)        // Capacitace of parallel plate condenser(F)\n",
"X_c = 1.0/(2*%pi*f*C)        // Reactance of condenser(ohm)\n",
"phi = acosd(PF)              // Φ(°)\n",
"R = X_c*tand(phi)            // Resistance of condenser(ohm)\n",
"V = (P*R)**0.5               // Voltage necessary for heating(V)\n",
"I_c = V/X_c                  // Current flowing in the material(A)\n",
"\n",
"// Results\n",
"disp('PART IV - EXAMPLE : 2.6 : SOLUTION :-')\n",
"printf('\nVoltage necessary for heating, V = %.f V', V)\n",
"printf('\nCurrent flowing in the material, I_c = %.2f A\n', I_c)\n",
"printf('\nNOTE: Changes in the obtained answer from that of textbook is due to more precision here & approximation in textbook')"
   ]
   }
,
{
		   "cell_type": "markdown",
		   "metadata": {},
		   "source": [
			"## Example 40.7: Voltage_applied_across_electrodes_and_Current_through_the_material.sce"
		   ]
		  },
  {
"cell_type": "code",
	   "execution_count": null,
	   "metadata": {
	    "collapsed": true
	   },
	   "outputs": [],
"source": [
"// A Texbook on POWER SYSTEM ENGINEERING\n",
"// A.Chakrabarti, M.L.Soni, P.V.Gupta, U.S.Bhatnagar\n",
"// DHANPAT RAI & Co.\n",
"// SECOND EDITION \n",
"\n",
"// PART IV : UTILIZATION AND TRACTION\n",
"// CHAPTER 2: HEATING AND WELDING\n",
"\n",
"// EXAMPLE : 2.7 :\n",
"// Page number 732-733\n",
"clear ; clc ; close ; // Clear the work space and console\n",
"\n",
"// Given data\n",
"l = 4.0          // Length of material(cm)\n",
"b = 2.0          // Breadth of material(cm)\n",
"t = 1.0          // Thickness of material(cm)\n",
"l_e = 20.0       // Length of area(cm)\n",
"b_e = 2.0        // Breadth of area(cm)\n",
"dis = 1.6        // Distance of separation of electrode(cm)\n",
"f = 20.0*10**6   // Frequency(Hz)\n",
"P = 80.0         // Power absorbed(W)\n",
"e_r1 = 5.0       // Relative permittivity\n",
"e_r2 = 1.0       // Relative permittivity of air\n",
"PF = 0.05        // Power factor\n",
"\n",
"// Calculations\n",
"e_0 = 8.854*10**-12                                    // Absolute permittivity\n",
"A_1 = (l_e-l)*b_e*10**-4                               // Area of one electrode(sq.m)\n",
"A_2 = l*b*10**-4                                       // Area of material under electrode(sq.m)\n",
"d = dis*10**-2                                         // Distance of separation of electrode(m)\n",
"d_1 = t*10**-2                                         // (m)\n",
"d_2 = (d-d_1)                                          // (m)\n",
"C = e_0*((A_1*e_r2/d)+(A_2/((d_1/e_r1)+(d_2/e_r2))))   // Capacitance(F)\n",
"X_c = 1.0/(2*%pi*f*C)                                  // Reactance(ohm)\n",
"phi = acosd(PF)                                        // Φ(°)\n",
"R = X_c*tand(phi)                                      // Resistance(ohm)\n",
"V = (P*R)**0.5                                         // Voltage applied across electrodes(V)\n",
"I_c = V/X_c                                            // Current through the material(A)\n",
"\n",
"// Results\n",
"disp('PART IV - EXAMPLE : 2.7 : SOLUTION :-')\n",
"printf('\nVoltage applied across electrodes, V = %.f V', V)\n",
"printf('\nCurrent through the material, I_c = %.1f A\n', I_c)\n",
"printf('\nNOTE: ERROR: Calculation mistake in the textbook solution')"
   ]
   }
,
{
		   "cell_type": "markdown",
		   "metadata": {},
		   "source": [
			"## Example 40.8: Time_taken_to_melt_Power_factor_and_Electrical_efficiency_of_the_furnace.sce"
		   ]
		  },
  {
"cell_type": "code",
	   "execution_count": null,
	   "metadata": {
	    "collapsed": true
	   },
	   "outputs": [],
"source": [
"// A Texbook on POWER SYSTEM ENGINEERING\n",
"// A.Chakrabarti, M.L.Soni, P.V.Gupta, U.S.Bhatnagar\n",
"// DHANPAT RAI & Co.\n",
"// SECOND EDITION \n",
"\n",
"// PART IV : UTILIZATION AND TRACTION\n",
"// CHAPTER 2: HEATING AND WELDING\n",
"\n",
"// EXAMPLE : 2.8 :\n",
"// Page number 736-737\n",
"clear ; clc ; close ; // Clear the work space and console\n",
"\n",
"// Given data\n",
"weight = 3000.0       // Weight of steel(kg)\n",
"I = 5000.0            // Current(A)\n",
"V_arc = 60.0          // Arc voltage(V)\n",
"R_t = 0.003           // Resistance of transformer(ohm)\n",
"X_t = 0.005           // Reactance of transformer(ohm)\n",
"heat_sp = 0.12        // Specific heat of steel\n",
"heat_latent = 8.89    // Latent heat of steel(kilo-cal/kg)\n",
"t_2 = 1370.0          // Melting point of steel(°C)\n",
"t_1 = 18.0            // Initial temperature of steel(°C)\n",
"n = 0.6               // Overall efficiency\n",
"\n",
"// Calculations\n",
"R_arc_phase = V_arc/I                           // Arc resistance per phase(ohm)\n",
"IR_t = I*R_t                                    // Voltage drop across resistance(V)\n",
"IX_t = I*X_t                                    // Voltage drop across reactance(V)\n",
"V = ((V_arc+IR_t)**2+IX_t**2)**0.5              // Voltage(V)\n",
"PF = (V_arc+IR_t)/V                             // Power factor\n",
"heat_kg = (t_2-t_1)*heat_sp+heat_latent         // Amount of heat required per kg of steel(kcal)\n",
"heat_total = weight*heat_kg                     // Heat for 3 tonnes(kcal)\n",
"heat_actual_kcal = heat_total/n                 // Actual heat required(kcal)\n",
"heat_actual = heat_actual_kcal*1.162*10**-3     // Actual heat required(kWh)\n",
"P_input = 3*V*I*PF*10**-3                       // Power input(kW)\n",
"time = heat_actual/P_input*60                   // Time required(min)\n",
"n_elect = 3*V_arc*I/(P_input*1000)*100          // Electrical efficiency(%)\n",
"\n",
"// Results\n",
"disp('PART IV - EXAMPLE : 2.8 : SOLUTION :-')\n",
"printf('\nTime taken to melt 3 metric tonnes of steel = %.f minutes', time)\n",
"printf('\nPower factor of the furnace = %.2f ', PF)\n",
"printf('\nElectrical efficiency of the furnace = %.f percent\n', n_elect)\n",
"printf('\nNOTE: ERROR: Calculation and substitution mistake in the textbook solution')"
   ]
   }
],
"metadata": {
		  "kernelspec": {
		   "display_name": "Scilab",
		   "language": "scilab",
		   "name": "scilab"
		  },
		  "language_info": {
		   "file_extension": ".sce",
		   "help_links": [
			{
			 "text": "MetaKernel Magics",
			 "url": "https://github.com/calysto/metakernel/blob/master/metakernel/magics/README.md"
			}
		   ],
		   "mimetype": "text/x-octave",
		   "name": "scilab",
		   "version": "0.7.1"
		  }
		 },
		 "nbformat": 4,
		 "nbformat_minor": 0
}
