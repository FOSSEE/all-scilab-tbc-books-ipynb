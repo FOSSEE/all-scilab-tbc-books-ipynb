{
"cells": [
 {
		   "cell_type": "markdown",
	   "metadata": {},
	   "source": [
       "# Chapter 28: FAULT LIMITING REACTORS"
	   ]
	},
{
		   "cell_type": "markdown",
		   "metadata": {},
		   "source": [
			"## Example 28.1: Reactance_necessary_to_protect_the_switchgear.sce"
		   ]
		  },
  {
"cell_type": "code",
	   "execution_count": null,
	   "metadata": {
	    "collapsed": true
	   },
	   "outputs": [],
"source": [
"// A Texbook on POWER SYSTEM ENGINEERING\n",
"// A.Chakrabarti, M.L.Soni, P.V.Gupta, U.S.Bhatnagar\n",
"// DHANPAT RAI & Co.\n",
"// SECOND EDITION \n",
"\n",
"// PART III : SWITCHGEAR AND PROTECTION\n",
"// CHAPTER 2: FAULT LIMITING REACTORS\n",
"\n",
"// EXAMPLE : 2.1 :\n",
"// Page number 479-480\n",
"clear ; clc ; close ; // Clear the work space and console\n",
"\n",
"// Given data\n",
"kVA_A = 2500.0           // Rating of alternator A(kVA)\n",
"x_A = 8.0                // Reactance of alternator A(%)\n",
"kVA_B = 5000.0           // Rating of alternator B(kVA)\n",
"x_B = 6.0                // Reactance of alternator B(%)\n",
"kVA_CB = 150000.0        // Rating of circuit breaker(kVA)\n",
"kVA_T = 10000.0          // Rating of transformer(kVA)\n",
"x_T = 7.5                // Reactance of transformer(%)\n",
"V = 3300.0               // System voltage(V)\n",
"\n",
"// Calculations\n",
"kVA_base = 10000.0                            // Base kVA\n",
"X_A = kVA_base/kVA_A*x_A                      // Reactance of generator A(%)\n",
"X_B = kVA_base/kVA_B*x_B                      // Reactance of generator B(%)\n",
"X_eq = X_A*X_B/(X_A+X_B)                      // Combined reactance of A & B(%)\n",
"kVA_SC_G = kVA_base/X_eq*100                  // Short-circuit kVA due to generators(kVA)\n",
"kVA_SC_T = kVA_base/x_T*100                   // Short-circuit kVA due to grid supply(kVA)\n",
"X = (kVA_base*100/(kVA_CB-kVA_SC_G))-x_T      // Reactance necessary to protect switchgear(%)\n",
"I_fl = kVA_base*1000/(3**0.5*V)               // Full load current corresponding to 10000 kVA(A)\n",
"X_phase = X*V/(3**0.5*I_fl*100)               // Actual value of reactance per phase(ohm)\n",
"\n",
"// Results\n",
"disp('PART III - EXAMPLE : 2.1 : SOLUTION :-')\n",
"printf('\nReactance necessary to protect the switchgear = %.3f ohm/phase', X_phase)"
   ]
   }
,
{
		   "cell_type": "markdown",
		   "metadata": {},
		   "source": [
			"## Example 28.2: EX28_2.sce"
		   ]
		  },
  {
"cell_type": "code",
	   "execution_count": null,
	   "metadata": {
	    "collapsed": true
	   },
	   "outputs": [],
"source": [
"// A Texbook on POWER SYSTEM ENGINEERING\n",
"// A.Chakrabarti, M.L.Soni, P.V.Gupta, U.S.Bhatnagar\n",
"// DHANPAT RAI & Co.\n",
"// SECOND EDITION \n",
"\n",
"// PART III : SWITCHGEAR AND PROTECTION\n",
"// CHAPTER 2: FAULT LIMITING REACTORS\n",
"\n",
"// EXAMPLE : 2.2 :\n",
"// Page number 480\n",
"clear ; clc ; close ; // Clear the work space and console\n",
"\n",
"// Given data\n",
"X = 10.0        // Reactance of reactor(%)\n",
"kVA = 30000.0   // Rating of generator(kVA)\n",
"X_sc = 20.0     // Short-circuit reactance(%)\n",
"\n",
"// Calculations\n",
"X_1 = 1.0/3*(X_sc+X)           // Combined reactance of generator A,B,C & associated reactors(%)\n",
"X_2 = X_1+X                    // Combined reactance upto fault(%)\n",
"X_total_a = X_2/2.0            // Total reactance upto fault(%)\n",
"kVA_SC_a = 100/X_total_a*kVA   // Short-circuit kVA(kVA)\n",
"X_total_b = 1.0/4*X_sc         // Total reactance upto fault when E,F,G & H are short-circuited(%)\n",
"kVA_SC_b = 100/X_total_b*kVA   // Short-circuit kVA(kVA)\n",
"\n",
"// Results\n",
"disp('PART III - EXAMPLE : 2.2 : SOLUTION :-')\n",
"printf('\nCase(a): kVA developed under short-circuit when reactors are in circuit = %.f kVA', kVA_SC_a)\n",
"printf('\nCase(b): kVA developed under short-circuit when reactors are short-circuited = %.f kVA', kVA_SC_b)"
   ]
   }
,
{
		   "cell_type": "markdown",
		   "metadata": {},
		   "source": [
			"## Example 28.4: Reactance_of_each_reactor.sce"
		   ]
		  },
  {
"cell_type": "code",
	   "execution_count": null,
	   "metadata": {
	    "collapsed": true
	   },
	   "outputs": [],
"source": [
"// A Texbook on POWER SYSTEM ENGINEERING\n",
"// A.Chakrabarti, M.L.Soni, P.V.Gupta, U.S.Bhatnagar\n",
"// DHANPAT RAI & Co.\n",
"// SECOND EDITION \n",
"\n",
"// PART III : SWITCHGEAR AND PROTECTION\n",
"// CHAPTER 2: FAULT LIMITING REACTORS\n",
"\n",
"// EXAMPLE : 2.4 :\n",
"// Page number 481\n",
"clear ; clc ; close ; // Clear the work space and console\n",
"\n",
"// Given data\n",
"kVA = 20000.0   // Rating of generator(kVA)\n",
"f = 50.0        // Frequency(Hz)\n",
"V = 11.0*10**3  // Voltage of generator(V)\n",
"X_G = 20.0      // Generator short-circuit reactance(%)\n",
"x = 60.0        // Reactance falls to 60% normal value\n",
"\n",
"// Calculations\n",
"kVA_base = 20000.0                                      // Base kVA\n",
"X = poly(0,'X')                                         // Reactance of each reactors E,F,G & H(%)\n",
"X_AE = X+X_G                                            // Reactances of A & E in series(%)\n",
"X_BF = X+X_G                                            // Reactances of B & F in series(%)\n",
"X_CD = X+X_G                                            // Reactances of C & D in series(%)\n",
"X_eq = X_AE/3                                           // X_eq = X_AE*X_BF*X_CD/(X_BF*X_CD+X_AE*X_CD+X_AE*X_BF). Combined reactances of 3 groups in parallel(%)\n",
"X_f = X_eq+X                                            // Reactances of these groups to fault via tie-bar(%)\n",
"X_sol = roots(6.66666666666667-(100-x)/100*(X_f))       // Value of reactance of each reactors E,F,G & H(%)\n",
"I_fl = kVA_base*1000/(3**0.5*V)                         // Full load current corresponding to 20000 kVA & 11 kV(A)\n",
"X_ohm = X_sol*V/(3**0.5*100*I_fl)                       // Ohmic value of reactance X(ohm)\n",
"\n",
"// Results\n",
"disp('PART III - EXAMPLE : 2.4 : SOLUTION :-')\n",
"printf('\nReactance of each reactor = %.4f ohm \n', X_ohm)\n",
"printf('\nNOTE: Changes in the obtained answer from that of textbook is due to more precision here')"
   ]
   }
,
{
		   "cell_type": "markdown",
		   "metadata": {},
		   "source": [
			"## Example 28.5: Instantaneous_symmetrical_short_circuit_MVA_for_a_fault_at_X.sce"
		   ]
		  },
  {
"cell_type": "code",
	   "execution_count": null,
	   "metadata": {
	    "collapsed": true
	   },
	   "outputs": [],
"source": [
"// A Texbook on POWER SYSTEM ENGINEERING\n",
"// A.Chakrabarti, M.L.Soni, P.V.Gupta, U.S.Bhatnagar\n",
"// DHANPAT RAI & Co.\n",
"// SECOND EDITION \n",
"\n",
"// PART III : SWITCHGEAR AND PROTECTION\n",
"// CHAPTER 2: FAULT LIMITING REACTORS\n",
"\n",
"// EXAMPLE : 2.5 :\n",
"// Page number 481-482\n",
"clear ; clc ; close ; // Clear the work space and console\n",
"\n",
"// Given data\n",
"kVA_base = 10000.0   // Base kVA\n",
"V = 6.6*10**3        // Voltage of generator(V)\n",
"X_A = 7.5            // Reactance of generator A(%)\n",
"X_B = 7.5            // Reactance of generator B(%)\n",
"X_C = 10.0           // Reactance of generator C(%)\n",
"X_D = 10.0           // Reactance of generator D(%)\n",
"X_E = 8.0            // Reactance of reactor E(%)\n",
"X_F = 8.0            // Reactance of reactor F(%)\n",
"X_G = 6.5            // Reactance of reactor G(%)\n",
"X_H = 6.5            // Reactance of reactor H(%)\n",
"\n",
"// Calculations\n",
"Z_1 = X_B*X_C/(X_H+X_B+X_C)            // Impedance(%). Fig E2.7\n",
"Z_2 = X_H*X_C/(X_H+X_B+X_C)            // Impedance(%). Fig E2.7\n",
"Z_3 = X_B*X_H/(X_H+X_B+X_C)            // Impedance(%). Fig E2.7\n",
"Z_4 = Z_2+X_F                          // Impedance(%). Fig E2.8 & Fig 2.9\n",
"Z_5 = Z_3+X_E                          // Impedance(%). Fig E2.8 & Fig 2.9\n",
"Z_6 = X_D*Z_1/(X_D+Z_1+Z_4)            // Impedance(%). Fig E2.10\n",
"Z_7 = X_D*Z_4/(X_D+Z_1+Z_4)            // Impedance(%). Fig E2.10\n",
"Z_8 = Z_1*Z_4/(X_D+Z_1+Z_4)            // Impedance(%). Fig E2.10\n",
"Z_9 = Z_7+X_G                          // Impedance(%). Fig E2.11 & Fig 2.12\n",
"Z_10 = Z_8+Z_5                         // Impedance(%). Fig E2.11 & Fig 2.12\n",
"Z_11 = Z_9*Z_10/(Z_9+Z_10)             // Impedance(%). Fig 2.12 & Fig 2.13\n",
"Z_12 = Z_6+Z_11                        // Impedance(%). Fig 2.13\n",
"Z_eq = X_A*Z_12/(X_A+Z_12)             // Final Impedance(%). Fig 2.13 & Fig 2.14\n",
"MVA_SC = kVA_base*100/(Z_eq*1000)      // Instantaneous symmetrical short-circuit MVA for a fault at X(MVA)\n",
"\n",
"// Results\n",
"disp('PART III - EXAMPLE : 2.5 : SOLUTION :-')\n",
"printf('\nInstantaneous symmetrical short-circuit MVA for a fault at X = %.f MVA \n', MVA_SC)\n",
"printf('\nNOTE: Changes in the obtained answer from that of textbook is due to more approximation in the textbook')"
   ]
   }
],
"metadata": {
		  "kernelspec": {
		   "display_name": "Scilab",
		   "language": "scilab",
		   "name": "scilab"
		  },
		  "language_info": {
		   "file_extension": ".sce",
		   "help_links": [
			{
			 "text": "MetaKernel Magics",
			 "url": "https://github.com/calysto/metakernel/blob/master/metakernel/magics/README.md"
			}
		   ],
		   "mimetype": "text/x-octave",
		   "name": "scilab",
		   "version": "0.7.1"
		  }
		 },
		 "nbformat": 4,
		 "nbformat_minor": 0
}
