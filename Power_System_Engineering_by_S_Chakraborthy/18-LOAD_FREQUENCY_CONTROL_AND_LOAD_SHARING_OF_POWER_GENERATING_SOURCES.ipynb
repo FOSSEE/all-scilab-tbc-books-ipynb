{
"cells": [
 {
		   "cell_type": "markdown",
	   "metadata": {},
	   "source": [
       "# Chapter 18: LOAD FREQUENCY CONTROL AND LOAD SHARING OF POWER GENERATING SOURCES"
	   ]
	},
{
		   "cell_type": "markdown",
		   "metadata": {},
		   "source": [
			"## Example 18.10: Constants_of_the_second_feeder.sce"
		   ]
		  },
  {
"cell_type": "code",
	   "execution_count": null,
	   "metadata": {
	    "collapsed": true
	   },
	   "outputs": [],
"source": [
"// A Texbook on POWER SYSTEM ENGINEERING\n",
"// A.Chakrabarti, M.L.Soni, P.V.Gupta, U.S.Bhatnagar\n",
"// DHANPAT RAI & Co.\n",
"// SECOND EDITION \n",
"\n",
"// PART II : TRANSMISSION AND DISTRIBUTION\n",
"// CHAPTER 11: LOAD FREQUENCY CONTROL AND LOAD SHARING OF POWER GENERATING SOURCES\n",
"\n",
"// EXAMPLE : 11.10 :\n",
"// Page number 336\n",
"clear ; clc ; close ; // Clear the work space and console\n",
"\n",
"// Given data\n",
"load_1 = 10000.0      // Total balanced load(kW)\n",
"V = 33000.0           // Voltage(V)\n",
"PF_1 = 0.8            // Lagging power factor\n",
"R = 1.6               // Resistance of feeder(ohm/phase)\n",
"X = 2.5               // Reactance of feeder(ohm/phase)\n",
"load_2 = 4460.0       // Load delivered by feeder(kW)\n",
"PF_2 = 0.72           // Lagging power factor\n",
"\n",
"// Calculations\n",
"I = load_1*1000/(3**0.5*V*PF_1)*exp(%i*-acos(PF_1))       // Total line current(A)\n",
"I_1 = load_2*1000/(3**0.5*V*PF_2)*exp(%i*-acos(PF_2))     // Line current of first feeder(A)\n",
"I_2 = I-I_1                                               // Line current of first feeder(A)\n",
"Z_1 = complex(R,X)                                        // Impedance of first feeder(ohm)\n",
"Z_2 = I_1*Z_1/I_2                                         // Impedance of second feeder(ohm)\n",
"\n",
"// Results\n",
"disp('PART II - EXAMPLE : 11.10 : SOLUTION :-')\n",
"printf('\nImpedance of second feeder, Z_2 = %.2f∠%.1f° ohm \n', abs(Z_2),phasemag(Z_2))\n",
"printf('\nNOTE: ERROR: Changes in the obtained answer from that of textbook is due to wrong values of substitution')"
   ]
   }
,
{
		   "cell_type": "markdown",
		   "metadata": {},
		   "source": [
			"## Example 18.11: Necessary_booster_voltages.sce"
		   ]
		  },
  {
"cell_type": "code",
	   "execution_count": null,
	   "metadata": {
	    "collapsed": true
	   },
	   "outputs": [],
"source": [
"// A Texbook on POWER SYSTEM ENGINEERING\n",
"// A.Chakrabarti, M.L.Soni, P.V.Gupta, U.S.Bhatnagar\n",
"// DHANPAT RAI & Co.\n",
"// SECOND EDITION \n",
"\n",
"// PART II : TRANSMISSION AND DISTRIBUTION\n",
"// CHAPTER 11: LOAD FREQUENCY CONTROL AND LOAD SHARING OF POWER GENERATING SOURCES\n",
"\n",
"// EXAMPLE : 11.11 :\n",
"// Page number 337\n",
"clear ; clc ; close ; // Clear the work space and console\n",
"\n",
"// Given data\n",
"P = 9.0                   // Load supplied from substation(MW)\n",
"V = 33000.0               // Voltage(V)\n",
"PF_1 = 1.0                // Unity power factor\n",
"Z_A = complex(2.0,8.0)    // Impedance of circuit A(ohm)\n",
"Z_B = complex(4.0,4.0)    // Impedance of circuit B(ohm)\n",
"\n",
"// Calculations\n",
"V_ph = V/3**0.5                                 // Voltage at receiving end per phase(V)\n",
"P_A = 1.0/3*P                                   // Power supplied by line A(MW)\n",
"P_B = 2.0/3*P                                   // Power supplied by line B(MW)\n",
"I_A = P_A*10**6/(3**0.5*V)                      // Current through line A(A)\n",
"I_B = P_B*10**6/(3**0.5*V)                      // Current through line B(A)\n",
"IA_ZA_drop = I_A*Z_A                            // I_A Z_A drop(V/phase)\n",
"IB_ZB_drop = I_B*Z_B                            // I_B Z_B drop(V/phase)\n",
"phase_boost = real(IB_ZB_drop)-real(IA_ZA_drop) // Voltage in phase boost(V/phase)\n",
"quad_boost = imag(IB_ZB_drop)-imag(IA_ZA_drop)  // Voltage in quadrature boost(V/phase)\n",
"constant_P = V_ph+IA_ZA_drop                    // Assumed that sending end voltage at P is kept constant(V/phase)\n",
"\n",
"// Results\n",
"disp('PART II - EXAMPLE : 11.11 : SOLUTION :-')\n",
"printf('\nVoltage in-phase boost = %.2f V/phase', phase_boost)\n",
"printf('\nVoltage in quadrature boost = %.f V/phase', quad_boost)"
   ]
   }
,
{
		   "cell_type": "markdown",
		   "metadata": {},
		   "source": [
			"## Example 18.12: Load_on_C_at_two_different_conditions_of_load_in_A_and_B.sce"
		   ]
		  },
  {
"cell_type": "code",
	   "execution_count": null,
	   "metadata": {
	    "collapsed": true
	   },
	   "outputs": [],
"source": [
"// A Texbook on POWER SYSTEM ENGINEERING\n",
"// A.Chakrabarti, M.L.Soni, P.V.Gupta, U.S.Bhatnagar\n",
"// DHANPAT RAI & Co.\n",
"// SECOND EDITION \n",
"\n",
"// PART II : TRANSMISSION AND DISTRIBUTION\n",
"// CHAPTER 11: LOAD FREQUENCY CONTROL AND LOAD SHARING OF POWER GENERATING SOURCES\n",
"\n",
"// EXAMPLE : 11.12 :\n",
"// Page number 337\n",
"clear ; clc ; close ; // Clear the work space and console\n",
"\n",
"// Given data\n",
"cap_A = 15000.0              // Capacity of station A(kW)\n",
"cap_B = 10000.0              // Capacity of station B(kW)\n",
"cap_C = 2000.0               // Capacity of station C(kW)\n",
"speed_reg_A = 2.4/100        // Speed regulation of A\n",
"speed_reg_B = 3.2/100        // Speed regulation of B\n",
"slip_C = 4.5/100             // Full load slip\n",
"local_load_B_a = 10000.0     // Local load on station B(kW)\n",
"local_load_A_a = 0           // Local load on station A(kW)\n",
"local_load_both = 10000.0    // Local load on both station(kW)\n",
"\n",
"// Calculations\n",
"// Case(a)\n",
"speed_A = speed_reg_A/cap_A                                       // % of speed drop for A\n",
"speed_C = slip_C/cap_C                                            // % of speed drop for C\n",
"speed_B = speed_reg_B/cap_B                                       // % of speed drop for B\n",
"X = local_load_B_a*speed_B/(speed_A+speed_B+speed_C)              // Load on C when local load of B is 10000 kW and A has no load(kW)\n",
"// Case(b)\n",
"Y = local_load_both*(speed_B-speed_A)/(speed_A+speed_B+speed_C)   // Load on C when both station have local loads of 10000 kW(kW)\n",
"\n",
"// Results\n",
"disp('PART II - EXAMPLE : 11.12 : SOLUTION :-')\n",
"printf('\nCase(a): Load on C when local load of B is 10000 kW and A has no load, X = %.f kW', X)\n",
"printf('\nCase(b): Load on C when both station have local loads of 10000 kW, Y = %.f kW', Y)"
   ]
   }
,
{
		   "cell_type": "markdown",
		   "metadata": {},
		   "source": [
			"## Example 18.13: EX18_13.sce"
		   ]
		  },
  {
"cell_type": "code",
	   "execution_count": null,
	   "metadata": {
	    "collapsed": true
	   },
	   "outputs": [],
"source": [
"// A Texbook on POWER SYSTEM ENGINEERING\n",
"// A.Chakrabarti, M.L.Soni, P.V.Gupta, U.S.Bhatnagar\n",
"// DHANPAT RAI & Co.\n",
"// SECOND EDITION \n",
"\n",
"// PART II : TRANSMISSION AND DISTRIBUTION\n",
"// CHAPTER 11: LOAD FREQUENCY CONTROL AND LOAD SHARING OF POWER GENERATING SOURCES\n",
"\n",
"// EXAMPLE : 11.13 :\n",
"// Page number 337-338\n",
"clear ; clc ; close ; // Clear the work space and console\n",
"\n",
"// Given data\n",
"l = 20.0                 // Length of cable(km)\n",
"r = 0.248                // Resistance(ohm/km)\n",
"x = 0.50*10**-3          // Inductance(H/m)\n",
"V_gen = 6600.0           // Generation voltage(V)\n",
"f = 50.0                 // Frequency(Hz)\n",
"V = 33000.0              // Transmission voltage(V)\n",
"rating = 10.0            // Transformer rating(MVA)\n",
"loss_cu = 100.0          // Copper loss at full load(kW)\n",
"x_tr = 2.5/100           // Transformer reactance\n",
"load = 7.5               // Load to be transmitted(MW)\n",
"PF = 0.71                // Lagging power factor\n",
"\n",
"// Calculations\n",
"R = l*r                                                         // Resistance of the cable(ohm)\n",
"I_fl = rating*10**6/(3**0.5*V)                                  // Transformer current at full load(A)\n",
"R_eq = loss_cu*1000/(3*I_fl**2)                                 // Equivalent resistance per phase of transformer(ohm)\n",
"R_total_hv = R+2.0*R_eq                                         // Total resistance per conductor in terms of hv side(ohm)\n",
"X = 2.0*%pi*f*l*x                                               // Reactance of cable per conductor(ohm)\n",
"per_X_tr = V/3**0.5*x_tr/I_fl                                   // % reactance of transformer(ohm)\n",
"X_total_hv = X+2.0*per_X_tr                                     // Total reactance per conductor in terms of hv side(ohm)\n",
"I = load*10**6/(3**0.5*V*PF)                                    // Line current at receiving end(A)\n",
"IR = I*R_total_hv                                               // IR drop(V)\n",
"IX = I*X_total_hv                                               // IX drop(V)\n",
"E_r = V/3**0.5                                                  // Phase voltage at station B(V)\n",
"cos_phi_r = PF\n",
"sin_phi_r = (1-PF**2)**0.5\n",
"E_s = ((E_r*cos_phi_r+IR)**2+(E_r*sin_phi_r+IX)**2)**0.5/1000   // Sending end voltage(kV)\n",
"E_s_ll = 3**0.5*E_s                                             // Sending end line voltage(kV)\n",
"V_booster = 3**0.5*(E_s-E_r/1000)                               // Booster voltage between lines(kV)\n",
"tan_phi_s = (E_r*sin_phi_r+IX)/(E_r*cos_phi_r+IR)               // tanΦ_s\n",
"phi_s = atand(tan_phi_s)                                        // Φ_s(°)\n",
"cos_phi_s = cosd(phi_s)                                         // cosΦ_s\n",
"P_s = 3.0*E_s*I*cos_phi_s                                       // Power at sending end(kW)\n",
"loss = P_s-load*1000                                            // Loss(kW)\n",
"loss_per = loss/(load*1000)*100                                 // loss percentage\n",
"\n",
"// Results\n",
"disp('PART II - EXAMPLE : 11.13 : SOLUTION :-')\n",
"printf('\nLoss in the interconnector as a percentage of power received = %.3f percent', loss_per)\n",
"printf('\nRequired voltage of the booster = %.3f kV (in terms of H.V) \n', V_booster)\n",
"printf('\nNOTE: Changes in the obtained answer from that of textbook is due to more precision here')\n",
"printf('\n      kVA rating of booster is not calculated in textbook and here')"
   ]
   }
,
{
		   "cell_type": "markdown",
		   "metadata": {},
		   "source": [
			"## Example 18.1: EX18_1.sce"
		   ]
		  },
  {
"cell_type": "code",
	   "execution_count": null,
	   "metadata": {
	    "collapsed": true
	   },
	   "outputs": [],
"source": [
"// A Texbook on POWER SYSTEM ENGINEERING\n",
"// A.Chakrabarti, M.L.Soni, P.V.Gupta, U.S.Bhatnagar\n",
"// DHANPAT RAI & Co.\n",
"// SECOND EDITION \n",
"\n",
"// PART II : TRANSMISSION AND DISTRIBUTION\n",
"// CHAPTER 11: LOAD FREQUENCY CONTROL AND LOAD SHARING OF POWER GENERATING SOURCES\n",
"\n",
"// EXAMPLE : 11.1 :\n",
"// Page number 330\n",
"clear ; clc ; close ; // Clear the work space and console\n",
"funcprot(0)\n",
"\n",
"// Given data\n",
"rating = 1000.0        // Rating of alternator(kW)\n",
"load = 1600.0          // Total load(kW)\n",
"X_fl = 100.0           // Full load speed regulation of alernator X(%)\n",
"Y_fl = 104.0           // Full load speed regulation of alernator Y(%)\n",
"X_nl = 100.0           // No load speed regulation of alernator X(%)\n",
"Y_nl = 105.0           // No load speed regulation of alernator Y(%)\n",
"\n",
"// Calculations\n",
"h = poly(0,'h')\n",
"PB = (Y_nl-X_nl)-h\n",
"PR = rating/(Y_nl-X_nl)*PB           // Load shared by machine X(kW) in terms of h\n",
"QQ = (Y_fl-X_fl)-h\n",
"RQ = rating/(Y_fl-X_fl)*QQ           // Load shared by machine Y(kW) in terms of h\n",
"h_1 = roots(PR+RQ-load)\n",
"PB_1 = (Y_nl-X_nl)-h_1\n",
"PR_1 = rating/(Y_nl-X_nl)*PB_1       // Load shared by machine X(kW)\n",
"QQ_1 = (Y_fl-X_fl)-h_1\n",
"RQ_1 = rating/(Y_fl-X_fl)*QQ_1       // Load shared by machine Y(kW)\n",
"load_cease = rating/(Y_nl-X_nl)      // Y cease supply load(kW)\n",
"\n",
"// Results\n",
"disp('PART II - EXAMPLE : 11.1 : SOLUTION :-')\n",
"printf('\nLoad shared by machine X, PR = %.f kW', PR_1)\n",
"printf('\nLoad shared by machine Y, RQ = %.f kW', RQ_1)\n",
"printf('\nLoad at which machine Y ceases to supply any portion of load = %.f kW', load_cease)"
   ]
   }
,
{
		   "cell_type": "markdown",
		   "metadata": {},
		   "source": [
			"## Example 18.2: Synchronizing_power_and_Synchronizing_torque_for_no_load_and_full_load.sce"
		   ]
		  },
  {
"cell_type": "code",
	   "execution_count": null,
	   "metadata": {
	    "collapsed": true
	   },
	   "outputs": [],
"source": [
"// A Texbook on POWER SYSTEM ENGINEERING\n",
"// A.Chakrabarti, M.L.Soni, P.V.Gupta, U.S.Bhatnagar\n",
"// DHANPAT RAI & Co.\n",
"// SECOND EDITION \n",
"\n",
"// PART II : TRANSMISSION AND DISTRIBUTION\n",
"// CHAPTER 11: LOAD FREQUENCY CONTROL AND LOAD SHARING OF POWER GENERATING SOURCES\n",
"\n",
"// EXAMPLE : 11.2 :\n",
"// Page number 330-331\n",
"clear ; clc ; close ; // Clear the work space and console\n",
"\n",
"// Given data\n",
"kVA = 5000.0        // Rating of alternator(kVA)\n",
"N = 1500.0          // Speed(rpm)\n",
"V = 6600.0          // Voltage(V)\n",
"f = 50.0            // Frequency(Hz)\n",
"PF = 0.8            // Lagging power factor\n",
"x = 0.15            // Short circuit reactance\n",
"\n",
"// Calculations\n",
"E = V/3**0.5                                                    // Phase voltage(V)\n",
"I = kVA*1000/(3**0.5*V)                                         // Full load current of alternator(A)\n",
"V_drop = E*x                                                    // Synchronous reactance drop(V)\n",
"X = V_drop/I                                                    // Synchronous reactance per phase(ohm)\n",
"P = 120*f/N                                                     // Number of poles\n",
"n = N/60                                                        // Speed(rps)\n",
"phi = acosd(PF)                                                 // Φ(°)\n",
"// Case(a)\n",
"theta_a = 2.0                                                   // For a 4 pole m/c. 1 mech degree = 2 elect degree\n",
"E_s_a = E*sind(theta_a)                                         // Synchronizing voltage(V)\n",
"I_s_a = E_s_a/X                                                 // Synchronizing current(A)\n",
"P_s_a = E*I_s_a                                                 // Synchronizing power per phase(W)\n",
"P_s_a_total = 3.0*P_s_a                                         // Total synchronizing power(W)\n",
"P_s_a_total_kw = P_s_a_total/1000.0                             // Total synchronizing power(kW)\n",
"T_s_a = P_s_a_total/(2*%pi*n)                                   // Synchronizing torque(N-m)\n",
"// Case(b)\n",
"sin_phi = sind(phi)\n",
"OB = ((E*PF)**2+(E*sin_phi+V_drop)**2)**0.5                     // Voltage(V)\n",
"E_b = OB                                                        // Voltage(V)\n",
"alpha_phi = atand((E*sin_phi+V_drop)/(E*PF))                    // α+Φ(°)\n",
"alpha = alpha_phi-phi                                           // α(°)\n",
"E_s_b = 2.0*E_b*sind(2.0/2)                                     // Synchronizing voltage(V)\n",
"I_s_b = E_s_b/X                                                 // Synchronizing current(A)\n",
"P_s_b = E*I_s_b*cosd((alpha+1.0))                               // Synchronizing power per phase(W)\n",
"P_s_b_total = 3.0*P_s_b                                         // Total synchronizing power(W)\n",
"P_s_b_total_kw = P_s_b_total/1000.0                             // Total synchronizing power(kW)\n",
"T_s_b = P_s_b_total/(2*%pi*n)                                   // Synchronizing torque(N-m)\n",
"\n",
"// Results\n",
"disp('PART II - EXAMPLE : 11.2 : SOLUTION :-')\n",
"printf('\nCase(a): Synchronizing power for no-load, P_s = %.1f kW', P_s_a_total_kw)\n",
"printf('\n         Synchronizing torque for no-load, T_s = %.f N-m', T_s_a)\n",
"printf('\nCase(b): Synchronizing power at full-load, P_s = %.1f kW', P_s_b_total_kw)\n",
"printf('\n         Synchronizing torque at full-load, T_s = %.f N-m \n', T_s_b)\n",
"printf('\nNOTE: ERROR: Calculation mistakes in textbook')"
   ]
   }
,
{
		   "cell_type": "markdown",
		   "metadata": {},
		   "source": [
			"## Example 18.3: Armature_current_EMF_and_PF_of_the_other_alternator.sce"
		   ]
		  },
  {
"cell_type": "code",
	   "execution_count": null,
	   "metadata": {
	    "collapsed": true
	   },
	   "outputs": [],
"source": [
"// A Texbook on POWER SYSTEM ENGINEERING\n",
"// A.Chakrabarti, M.L.Soni, P.V.Gupta, U.S.Bhatnagar\n",
"// DHANPAT RAI & Co.\n",
"// SECOND EDITION \n",
"\n",
"// PART II : TRANSMISSION AND DISTRIBUTION\n",
"// CHAPTER 11: LOAD FREQUENCY CONTROL AND LOAD SHARING OF POWER GENERATING SOURCES\n",
"\n",
"// EXAMPLE : 11.3 :\n",
"// Page number 331-332\n",
"clear ; clc ; close ; // Clear the work space and console\n",
"\n",
"// Given data\n",
"V = 6600.0             // Voltage(V)\n",
"R = 0.045              // Resistance(ohm)\n",
"X = 0.45               // Reactance(ohm)\n",
"Load = 10000.0*10**3   // Total load(W)\n",
"PF = 0.8               // Lagging power factor\n",
"I_a = 437.5            // Armature current(A)\n",
"\n",
"// Calculations\n",
"I = Load/(3**0.5*V*PF)                           // Load current(A)\n",
"I_working = PF*I                                 // Working component of current(A)\n",
"I_watless = (1-PF**2)**0.5*I                     // Watless component of current(A)\n",
"I_second = (I_a**2+I_watless**2)**0.5            // Load current supplied by second alternator(A)\n",
"PF_second = I_a/I_second                         // Lagging power factor of second alternator\n",
"V_ph = V/3**0.5                                  // Terminal voltage per phase(V)\n",
"I_R = I_second*R                                 // Voltage drop due to resistance(V)\n",
"I_X = I_second*X                                 // Voltage drop due to reactance(V)\n",
"sin_phi_second = (1-PF_second**2)**0.5\n",
"E = ((V_ph+I_R*PF_second+I_X*sin_phi_second)**2+(I_X*PF_second-I_R*sin_phi_second)**2)**0.5   // EMF of the alternator(V/phase)\n",
"E_ll = 3**0.5*E                                  // Line-to-line EMF of the alternator(V)\n",
"\n",
"// Results\n",
"disp('PART II - EXAMPLE : 11.3 : SOLUTION :-')\n",
"printf('\nArmature current of other alternator = %.1f A', I_second)\n",
"printf('\ne.m.f of other alternator = %.f V (line-to-line)', E_ll)\n",
"printf('\nPower factor of other alternator = %.3f (lagging)', PF_second)"
   ]
   }
,
{
		   "cell_type": "markdown",
		   "metadata": {},
		   "source": [
			"## Example 18.4: EX18_4.sce"
		   ]
		  },
  {
"cell_type": "code",
	   "execution_count": null,
	   "metadata": {
	    "collapsed": true
	   },
	   "outputs": [],
"source": [
"// A Texbook on POWER SYSTEM ENGINEERING\n",
"// A.Chakrabarti, M.L.Soni, P.V.Gupta, U.S.Bhatnagar\n",
"// DHANPAT RAI & Co.\n",
"// SECOND EDITION \n",
"\n",
"// PART II : TRANSMISSION AND DISTRIBUTION\n",
"// CHAPTER 11: LOAD FREQUENCY CONTROL AND LOAD SHARING OF POWER GENERATING SOURCES\n",
"\n",
"// EXAMPLE : 11.4 :\n",
"// Page number 332-333\n",
"clear ; clc ; close ; // Clear the work space and console\n",
"\n",
"// Given data\n",
"X = 10.0               // Reactance(ohm)\n",
"I_a = 220.0            // Armature current(A)\n",
"PF = 1.0               // Unity power factor\n",
"V = 11000.0            // Phase voltage(V)\n",
"emf_raised = 0.2       // EMF rasied by 20%\n",
"\n",
"// Calculations\n",
"I_X = I_a*X                        // Reactance drop(V)\n",
"E_0 = (V**2+I_X**2)**0.5           // EMF(V)\n",
"E_00 = (1+emf_raised)*E_0          // New value of induced emf(V)\n",
"U = ((E_00**2-I_X**2)**0.5-V)/X    // Current(A)\n",
"I_1 = (I_a**2+U**2)**0.5           // Current(A)\n",
"PF_1 = I_a/I_1                     // Lagging power factor\n",
"I_X_2 = (E_00**2+V**2)**0.5        // Reactance drop(V)\n",
"I_2 = I_X_2/X                      // Current corresponding to this drop(A)\n",
"PF_2 = E_00/I_X_2                  // Leading power factor\n",
"P_max = V*I_2*PF_2/1000            // Maximum power output(kW)\n",
"\n",
"// Results\n",
"disp('PART II - EXAMPLE : 11.4 : SOLUTION :-')\n",
"printf('\nNew value of machine current = %.1f A', I_1)\n",
"printf('\nNew vaue of power factor, p.f = %.4f (lagging)', PF_1)\n",
"printf('\nPower output at which alternator break from synchronism = %.f kW', P_max)\n",
"printf('\nCurrent corresponding to maximum load = %.f A', I_2)\n",
"printf('\nPower factor corresponding to maximum load = %.4f (leading) \n', PF_2)\n",
"printf('\nNOTE: ERROR: Calculation mistakes in the textbook solution')"
   ]
   }
,
{
		   "cell_type": "markdown",
		   "metadata": {},
		   "source": [
			"## Example 18.5: Phase_angle_between_busbar_sections.sce"
		   ]
		  },
  {
"cell_type": "code",
	   "execution_count": null,
	   "metadata": {
	    "collapsed": true
	   },
	   "outputs": [],
"source": [
"// A Texbook on POWER SYSTEM ENGINEERING\n",
"// A.Chakrabarti, M.L.Soni, P.V.Gupta, U.S.Bhatnagar\n",
"// DHANPAT RAI & Co.\n",
"// SECOND EDITION \n",
"\n",
"// PART II : TRANSMISSION AND DISTRIBUTION\n",
"// CHAPTER 11: LOAD FREQUENCY CONTROL AND LOAD SHARING OF POWER GENERATING SOURCES\n",
"\n",
"// EXAMPLE : 11.5 :\n",
"// Page number 333\n",
"clear ; clc ; close ; // Clear the work space and console\n",
"\n",
"// Given data\n",
"V = 10000.0            // Voltage(V)\n",
"rating = 10000.0       // Full load rating(kW)\n",
"V_drop_per = 0.2       // Voltage drop of 20% for 10000 kW\n",
"\n",
"// Calculations\n",
"V_drop = V_drop_per*rating                    // Voltage drop(V)\n",
"sin_theta_2 = (V_drop/2)/V                    // Sin(θ/2)\n",
"theta_2 = asind(sin_theta_2)                  // θ/2(°)\n",
"theta = 2.0*theta_2                           // Phase angle between busbar sections, θ(°)\n",
"\n",
"// Results\n",
"disp('PART II - EXAMPLE : 11.5 : SOLUTION :-')\n",
"printf('\nPhase angle between busbar sections, θ = %.2f° \n', theta)\n",
"printf('\nNOTE: ERROR: Calculation mistakes in the textbook solution')"
   ]
   }
,
{
		   "cell_type": "markdown",
		   "metadata": {},
		   "source": [
			"## Example 18.6: Voltage_and_Power_factor_at_this_latter_station.sce"
		   ]
		  },
  {
"cell_type": "code",
	   "execution_count": null,
	   "metadata": {
	    "collapsed": true
	   },
	   "outputs": [],
"source": [
"// A Texbook on POWER SYSTEM ENGINEERING\n",
"// A.Chakrabarti, M.L.Soni, P.V.Gupta, U.S.Bhatnagar\n",
"// DHANPAT RAI & Co.\n",
"// SECOND EDITION \n",
"\n",
"// PART II : TRANSMISSION AND DISTRIBUTION\n",
"// CHAPTER 11: LOAD FREQUENCY CONTROL AND LOAD SHARING OF POWER GENERATING SOURCES\n",
"\n",
"// EXAMPLE : 11.6 :\n",
"// Page number 334\n",
"clear ; clc ; close ; // Clear the work space and console\n",
"\n",
"// Given data\n",
"load_1 = 20000.0        // Total load(kW)\n",
"V = 11000.0             // Voltage(V)\n",
"PF_1 = 1.0              // Unity power factor\n",
"load_2 = 8000.0         // Load supplied(kW)\n",
"PF_2 = 0.8              // Lagging power factor\n",
"R = 0.5                 // Resistance(ohm/phase)\n",
"X = 0.8                 // Reactance(ohm/phase)\n",
"\n",
"// Calculations\n",
"I_1 = load_1*1000/(3**0.5*V*PF_1)                                  // Load current(A)\n",
"I_2 = load_2*1000/(3**0.5*V*PF_2)*exp(%i*-acos(PF_2))              // Current supplied by local generators(A)\n",
"I_3 = I_1-I_2                                                      // Current through interconnector(A)\n",
"angle_I_3 = phasemag(I_3)                                          // Current through interconnector leads reference phasor by angle(°)\n",
"V_drop = (R+%i*X)*I_3                                              // Voltage drop across interconnector(V)\n",
"V_ph = V/3**0.5                                                    // Phase voltage(V)\n",
"V_S = V_ph+V_drop                                                  // Sending end voltage(V/phase)\n",
"V_S_ll = 3**0.5*V_S                                                // Sending end voltage(V)\n",
"angle_V_S_ll = phasemag(V_S_ll)                                    // Angle of sending end voltage(°)\n",
"PF_S = cosd(angle_I_3-angle_V_S_ll)                                // Power factor at sending station\n",
"\n",
"// Results\n",
"disp('PART II - EXAMPLE : 11.6 : SOLUTION :-')\n",
"printf('\nVoltage at this latter station = %.f∠%.2f° V (line-to-line)', abs(V_S_ll),angle_V_S_ll)\n",
"printf('\nPower factor at this latter station = %.4f (leading)', PF_S)"
   ]
   }
,
{
		   "cell_type": "markdown",
		   "metadata": {},
		   "source": [
			"## Example 18.7: Load_received_Power_factor_and_Phase_difference_between_voltage.sce"
		   ]
		  },
  {
"cell_type": "code",
	   "execution_count": null,
	   "metadata": {
	    "collapsed": true
	   },
	   "outputs": [],
"source": [
"// A Texbook on POWER SYSTEM ENGINEERING\n",
"// A.Chakrabarti, M.L.Soni, P.V.Gupta, U.S.Bhatnagar\n",
"// DHANPAT RAI & Co.\n",
"// SECOND EDITION \n",
"\n",
"// PART II : TRANSMISSION AND DISTRIBUTION\n",
"// CHAPTER 11: LOAD FREQUENCY CONTROL AND LOAD SHARING OF POWER GENERATING SOURCES\n",
"\n",
"// EXAMPLE : 11.7 :\n",
"// Page number 334\n",
"clear ; clc ; close ; // Clear the work space and console\n",
"\n",
"// Given data\n",
"V = 33000.0             // Voltage(V)\n",
"R = 0.7                 // Resistance(ohm/phase)\n",
"X = 3.5                 // Reactance(ohm/phase)\n",
"load_1 = 60.0           // Load on generator at station X(MW)\n",
"PF_1 = 0.8              // Lagging power factor\n",
"load_2 = 40.0           // Local load taken by consumer(MW)\n",
"PF_2 = 0.707            // Lagging power factor\n",
"\n",
"// Calculations\n",
"V_ph = V/3**0.5                                                     // Phase voltage(V)\n",
"I_1 = load_1*10**6/(3**0.5*V*PF_1)*exp(%i*-acos(PF_1))              // Load current on generator at X(A)\n",
"I_2 = load_2*10**6/(3**0.5*V*PF_2)*exp(%i*-acos(PF_2))              // Current due to local load(A)\n",
"I_3 = I_1-I_2                                                       // Current through interconnector(A)\n",
"angle_I_3 = phasemag(I_3)                                           // Current through interconnector leads reference phasor by angle(°)\n",
"V_drop = (R+%i*X)*I_3                                               // Voltage drop across interconnector(V)\n",
"V_Y = V_ph-V_drop                                                   // Voltage at Y(V)\n",
"angle_V_Y = phasemag(V_Y)                                           // Angle of voltage at Y(°)\n",
"phase_diff = angle_I_3-angle_V_Y                                    // Phase difference b/w Y_Y and I_3(°)\n",
"PF_Y = cosd(phase_diff)                                             // Power factor of current received by Y\n",
"P_Y = 3*abs(V_Y*I_3)*PF_Y/1000.0                                    // Power received by station Y(kW)\n",
"phase_XY = abs(angle_V_Y)                                           // Phase angle b/w voltages of X & Y(°)\n",
"\n",
"// Results\n",
"disp('PART II - EXAMPLE : 11.7 : SOLUTION :-')\n",
"printf('\nLoad received from station X to station Y = %.f kW', P_Y)\n",
"printf('\nPower factor of load received by Y = %.4f (lagging)', PF_Y)\n",
"printf('\nPhase difference between voltage of X & Y = %.2f° (lagging) \n', phase_XY)\n",
"printf('\nNOTE: Changes in the obtained answer from that of textbook is due to more precision here')"
   ]
   }
,
{
		   "cell_type": "markdown",
		   "metadata": {},
		   "source": [
			"## Example 18.8: EX18_8.sce"
		   ]
		  },
  {
"cell_type": "code",
	   "execution_count": null,
	   "metadata": {
	    "collapsed": true
	   },
	   "outputs": [],
"source": [
"// A Texbook on POWER SYSTEM ENGINEERING\n",
"// A.Chakrabarti, M.L.Soni, P.V.Gupta, U.S.Bhatnagar\n",
"// DHANPAT RAI & Co.\n",
"// SECOND EDITION \n",
"\n",
"// PART II : TRANSMISSION AND DISTRIBUTION\n",
"// CHAPTER 11: LOAD FREQUENCY CONTROL AND LOAD SHARING OF POWER GENERATING SOURCES\n",
"\n",
"// EXAMPLE : 11.8 :\n",
"// Page number 335\n",
"clear ; clc ; close ; // Clear the work space and console\n",
"\n",
"// Given data\n",
"V_tie = 11000.0         // Tie line Voltage(V)\n",
"Z = (3.5+%i*7.0)        // Impedance of tie line(ohm/conductor)\n",
"V = 6600.0              // Bus bar voltage(V)\n",
"Z_per = (2.5+%i*7.5)    // Percentage impedance on 1000kVA rating\n",
"kVA = 2500.0            // Load receieved by other(kVA)\n",
"\n",
"// Calculations\n",
"V_ph = V/3**0.5                            // Phase voltage(V)\n",
"I_fl_LV = 100.0*V_tie/V_ph                 // LV side Full load current of each transformer(A)\n",
"R_eq = V_ph*real(Z_per)/(100*I_fl_LV)      // Equivalent resistance of transformer(ohm/phase)\n",
"X_eq = 3.0*R_eq                            // Equivalent reactance of transformer(ohm/phase)\n",
"R_phase = real(Z)*(V/V_tie)**2             // Resistance of line per phase(ohm)\n",
"X_phase = imag(Z)*(V/V_tie)**2             // Resistance of line per phase(ohm)\n",
"R_total = 2.0*R_eq+R_phase                 // Total resistance per phase(ohm)\n",
"X_total = 2.0*X_eq+X_phase                 // Total resistance per phase(ohm)\n",
"Z_total = R_total+%i*X_total               // Total impedance(ohm/phase)\n",
"I = kVA*1000/(3**0.5*V)                    // Load current(A)\n",
"V_drop = I*Z_total                         // Voltage drop per phase(V)\n",
"V_A = V_ph\n",
"V_AA = V_A+V_drop                          // Sending end voltage per phase(V)\n",
"V_increase = abs(V_AA)-V_A                 // Increase in voltage required(V/phase)\n",
"percentage_increase = V_increase/V_A*100   // Percentage increase required(%)\n",
"phase_diff = phasemag(V_AA)                // Angle at which V_A & V_B are displaced(°)\n",
"\n",
"// Results\n",
"disp('PART II - EXAMPLE : 11.8 : SOLUTION :-')\n",
"printf('\nCase(a): Percentage increase in voltage = %.2f percent', percentage_increase)\n",
"printf('\nCase(b): Phase angle difference between the two busbar voltages = %.2f° \n', phase_diff)\n",
"printf('\nNOTE: ERROR: Several calculation mistakes in the textbook')"
   ]
   }
,
{
		   "cell_type": "markdown",
		   "metadata": {},
		   "source": [
			"## Example 18.9: Station_power_factors_and_Phase_angle_between_two_busbar_voltages.sce"
		   ]
		  },
  {
"cell_type": "code",
	   "execution_count": null,
	   "metadata": {
	    "collapsed": true
	   },
	   "outputs": [],
"source": [
"// A Texbook on POWER SYSTEM ENGINEERING\n",
"// A.Chakrabarti, M.L.Soni, P.V.Gupta, U.S.Bhatnagar\n",
"// DHANPAT RAI & Co.\n",
"// SECOND EDITION \n",
"\n",
"// PART II : TRANSMISSION AND DISTRIBUTION\n",
"// CHAPTER 11: LOAD FREQUENCY CONTROL AND LOAD SHARING OF POWER GENERATING SOURCES\n",
"\n",
"// EXAMPLE : 11.9 :\n",
"// Page number 335-336\n",
"clear ; clc ; close ; // Clear the work space and console\n",
"\n",
"// Given data\n",
"X = 2.80             // Combined reactance(ohm/phase)\n",
"load_1 = 7000.0      // Consumer load at station A(kW)\n",
"PF_1 = 0.9           // Lagging power factor\n",
"V = 11000.0          // Voltage(V)\n",
"load_2 = 10000.0     // Load supplied by station B(kW)\n",
"PF_2 = 0.75          // Lagging power factor\n",
"\n",
"// Calculations\n",
"V_ph = V/3**0.5                                                         // Phase voltage(V)\n",
"I_1 = load_1*10**3/(3**0.5*V*PF_1)*exp(%i*-acos(PF_1))                  // Current at A due to local load(A)\n",
"I_2 = load_2*10**3/(3**0.5*V*PF_2)*exp(%i*-acos(PF_2))                  // Current at B due to local load(A)\n",
"IA_X = 0.5*(load_1+load_2)*1000/(3**0.5*V)                              // Current(A)\n",
"Y_1 = 220.443/V_ph                                                      // Solved manually referring textbook\n",
"X_1 = (1-Y_1**2)**0.5\n",
"angle_1 = atand(Y_1/X_1)                                                // Phasor lags by an angle(°)\n",
"IA_Y = (6849.09119318-V_ph*X_1)/X                                       // Current(A)\n",
"Y_X = IA_Y/IA_X\n",
"angle_2 = atand(Y_X)                                                    // Angle by which I_A lags behind V_A(°)\n",
"PF_A = cosd(angle_2)                                                    // Power factor of station A\n",
"angle_3 = acosd(PF_2)+angle_1                                           // Angle by which I_2 lags V_A(°)\n",
"I_22 = load_2*10**3/(3**0.5*V*PF_2)*exp(%i*-angle_3*%pi/180)            // Current(A)\n",
"I = 78.7295821622-%i*(IA_Y-177.942225747)                               // Current(A)\n",
"I_B = I_22-I                                                            // Current(A)\n",
"angle_4 = abs(phasemag(I_B))-angle_1                                    // Angle by which I_B lags behind V_B(°)\n",
"PF_B = cosd(angle_4)                                                    // Power factor of station B\n",
"\n",
"// Results\n",
"disp('PART II - EXAMPLE : 11.9 : SOLUTION :-')\n",
"printf('\nPower factor of station A = %.4f (lagging)', PF_A)\n",
"printf('\nPower factor of station B = %.4f (lagging)', PF_B)\n",
"printf('\nPhase angle between two bus bar voltages = %.f° (V_B lagging V_A)', angle_1)"
   ]
   }
],
"metadata": {
		  "kernelspec": {
		   "display_name": "Scilab",
		   "language": "scilab",
		   "name": "scilab"
		  },
		  "language_info": {
		   "file_extension": ".sce",
		   "help_links": [
			{
			 "text": "MetaKernel Magics",
			 "url": "https://github.com/calysto/metakernel/blob/master/metakernel/magics/README.md"
			}
		   ],
		   "mimetype": "text/x-octave",
		   "name": "scilab",
		   "version": "0.7.1"
		  }
		 },
		 "nbformat": 4,
		 "nbformat_minor": 0
}
