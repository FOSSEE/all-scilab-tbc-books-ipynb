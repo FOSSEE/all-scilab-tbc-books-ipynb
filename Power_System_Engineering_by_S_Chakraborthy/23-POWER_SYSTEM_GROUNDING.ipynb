{
"cells": [
 {
		   "cell_type": "markdown",
	   "metadata": {},
	   "source": [
       "# Chapter 23: POWER SYSTEM GROUNDING"
	   ]
	},
{
		   "cell_type": "markdown",
		   "metadata": {},
		   "source": [
			"## Example 23.1: Inductance_and_Rating_of_arc_suppression_coil.sce"
		   ]
		  },
  {
"cell_type": "code",
	   "execution_count": null,
	   "metadata": {
	    "collapsed": true
	   },
	   "outputs": [],
"source": [
"// A Texbook on POWER SYSTEM ENGINEERING\n",
"// A.Chakrabarti, M.L.Soni, P.V.Gupta, U.S.Bhatnagar\n",
"// DHANPAT RAI & Co.\n",
"// SECOND EDITION \n",
"\n",
"// PART II : TRANSMISSION AND DISTRIBUTION\n",
"// CHAPTER 16: POWER SYSTEM GROUNDING\n",
"\n",
"// EXAMPLE : 16.1 :\n",
"// Page number 409\n",
"clear ; clc ; close ; // Clear the work space and console\n",
"\n",
"// Given data\n",
"V = 132.0*10**3        // Voltage(V)\n",
"n = 3.0                // Number of phase\n",
"f = 50.0               // Frequency(Hz)\n",
"l = 50.0               // Line length(km)\n",
"C = 0.0157*10**-6      // Capacitance to earth(F/km)\n",
"\n",
"// Calculations\n",
"L = 1/(n*(2*%pi*f)**2*C*l)         // Inductance(H)\n",
"X_L = 2*%pi*f*L                    // Reactance(ohm)\n",
"I_F = V/(3**0.5*X_L)               // Current(A)\n",
"rating = I_F*V/(3**0.5*1000)       // Rating of arc suppression coil(kVA)\n",
"\n",
"// Results\n",
"disp('PART II - EXAMPLE : 16.1 : SOLUTION :-')\n",
"printf('\nInductance, L = %.1f Henry', L)\n",
"printf('\nRating of arc suppression coil = %.f kVA \n', rating)\n",
"printf('\nNOTE: Changes in the obtained answer from that of textbook is due to more approximation in the textbook')"
   ]
   }
],
"metadata": {
		  "kernelspec": {
		   "display_name": "Scilab",
		   "language": "scilab",
		   "name": "scilab"
		  },
		  "language_info": {
		   "file_extension": ".sce",
		   "help_links": [
			{
			 "text": "MetaKernel Magics",
			 "url": "https://github.com/calysto/metakernel/blob/master/metakernel/magics/README.md"
			}
		   ],
		   "mimetype": "text/x-octave",
		   "name": "scilab",
		   "version": "0.7.1"
		  }
		 },
		 "nbformat": 4,
		 "nbformat_minor": 0
}
