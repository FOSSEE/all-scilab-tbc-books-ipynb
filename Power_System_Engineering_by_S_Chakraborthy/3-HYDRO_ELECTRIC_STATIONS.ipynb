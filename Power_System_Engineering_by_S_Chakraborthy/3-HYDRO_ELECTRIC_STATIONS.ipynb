{
"cells": [
 {
		   "cell_type": "markdown",
	   "metadata": {},
	   "source": [
       "# Chapter 3: HYDRO ELECTRIC STATIONS"
	   ]
	},
{
		   "cell_type": "markdown",
		   "metadata": {},
		   "source": [
			"## Example 3.1: Firm_capacity_and_Yearly_gross_output.sce"
		   ]
		  },
  {
"cell_type": "code",
	   "execution_count": null,
	   "metadata": {
	    "collapsed": true
	   },
	   "outputs": [],
"source": [
"// A Texbook on POWER SYSTEM ENGINEERING\n",
"// A.Chakrabarti, M.L.Soni, P.V.Gupta, U.S.Bhatnagar\n",
"// DHANPAT RAI & Co.\n",
"// SECOND EDITION \n",
"\n",
"// PART I : GENERATION\n",
"// CHAPTER 3: HYDRO-ELECTRIC STATIONS\n",
"\n",
"// EXAMPLE : 3.1 :\n",
"// Page number 41\n",
"clear ; clc ; close ; // Clear the work space and console\n",
"\n",
"// Given data\n",
"Q = 95.0       // Minimum run-off(m^3/sec)\n",
"h = 40.0       // Head(m)\n",
"\n",
"// Calculations\n",
"w = 1000.0                  // Density of water(kg/m^3)\n",
"weight = Q*w                // Weight of water per sec(kg)\n",
"work_done = weight*h        // Work done in one second(kg-mt)\n",
"kW_1 = 75.0/0.746           // 1 kW(kg-mt/sec)\n",
"power = work_done/kW_1      // Power production(kW)\n",
"hours_year = 365.0*24       // Total hours in a year\n",
"output = power*365*24.0     // Yearly gross output(kWhr)\n",
"\n",
"// Results\n",
"disp('PART I - EXAMPLE : 3.1 : SOLUTION :-')\n",
"printf('\nFirm capacity = %.f kW', power)\n",
"printf('\nYearly gross output = %.2e kWhr.', output)"
   ]
   }
,
{
		   "cell_type": "markdown",
		   "metadata": {},
		   "source": [
			"## Example 3.3: Available_continuous_power.sce"
		   ]
		  },
  {
"cell_type": "code",
	   "execution_count": null,
	   "metadata": {
	    "collapsed": true
	   },
	   "outputs": [],
"source": [
"// A Texbook on POWER SYSTEM ENGINEERING\n",
"// A.Chakrabarti, M.L.Soni, P.V.Gupta, U.S.Bhatnagar\n",
"// DHANPAT RAI & Co.\n",
"// SECOND EDITION \n",
"\n",
"// PART I : GENERATION\n",
"// CHAPTER 3: HYDRO-ELECTRIC STATIONS\n",
"\n",
"// EXAMPLE : 3.3 :\n",
"// Page number 41\n",
"clear ; clc ; close ; // Clear the work space and console\n",
"\n",
"// Given data\n",
"A = 200.0       // Catchment area(Sq.km)\n",
"F = 1000.0      // Annual rainfall(mm)\n",
"H = 200.0       // Effective head(m)\n",
"K = 0.5         // Yield factor\n",
"n = 0.8         // Plant efficiency\n",
"\n",
"// Calculations\n",
"P = 3.14*n*K*A*F*H*10**-4    // Available continuous power(kW)\n",
"\n",
"// Results\n",
"disp('PART I - EXAMPLE : 3.3 : SOLUTION :-')\n",
"printf('\nAvailable continuous power of hydro-electric station , P = %.f kW', P)"
   ]
   }
,
{
		   "cell_type": "markdown",
		   "metadata": {},
		   "source": [
			"## Example 3.4: Minimum_flow_of_river_water_to_operate_the_plant.sce"
		   ]
		  },
  {
"cell_type": "code",
	   "execution_count": null,
	   "metadata": {
	    "collapsed": true
	   },
	   "outputs": [],
"source": [
"// A Texbook on POWER SYSTEM ENGINEERING\n",
"// A.Chakrabarti, M.L.Soni, P.V.Gupta, U.S.Bhatnagar\n",
"// DHANPAT RAI & Co.\n",
"// SECOND EDITION \n",
"\n",
"// PART I : GENERATION\n",
"// CHAPTER 3: HYDRO-ELECTRIC STATIONS\n",
"\n",
"// EXAMPLE : 3.4 :\n",
"// Page number 41-42\n",
"clear ; clc ; close ; // Clear the work space and console\n",
"\n",
"// Given data\n",
"load_factor = 0.15    // Load factor\n",
"P = 10.0*10**3        // Rated installed capacity(kW)\n",
"H = 50.0              // Head of plant(m)\n",
"n = 0.8               // Efficiency of plant\n",
"\n",
"//Calculation\n",
"units_day = P*load_factor       // Total units generated daily on basis of load factor(kWhr)\n",
"units_week = units_day*24.0*7   // Total units generated for one week(kWhr)\n",
"Q = units_week/(9.81*H*n*24*7)  // Minimum flow of water(cubic mt/sec)\n",
"\n",
"//Result\n",
"disp('PART I - EXAMPLE : 3.4 : SOLUTION :-')\n",
"printf('\nMinimum flow of river water to operate the plant, Q = %.3f cubic mt/sec', Q)"
   ]
   }
],
"metadata": {
		  "kernelspec": {
		   "display_name": "Scilab",
		   "language": "scilab",
		   "name": "scilab"
		  },
		  "language_info": {
		   "file_extension": ".sce",
		   "help_links": [
			{
			 "text": "MetaKernel Magics",
			 "url": "https://github.com/calysto/metakernel/blob/master/metakernel/magics/README.md"
			}
		   ],
		   "mimetype": "text/x-octave",
		   "name": "scilab",
		   "version": "0.7.1"
		  }
		 },
		 "nbformat": 4,
		 "nbformat_minor": 0
}
