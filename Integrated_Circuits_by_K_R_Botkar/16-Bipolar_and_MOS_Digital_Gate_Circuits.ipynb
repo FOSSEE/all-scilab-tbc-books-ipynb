{
"cells": [
 {
		   "cell_type": "markdown",
	   "metadata": {},
	   "source": [
       "# Chapter 16: Bipolar and MOS Digital Gate Circuits"
	   ]
	},
{
		   "cell_type": "markdown",
		   "metadata": {},
		   "source": [
			"## Example 16.12: NMOS_operating_region.sci"
		   ]
		  },
  {
"cell_type": "code",
	   "execution_count": null,
	   "metadata": {
	    "collapsed": true
	   },
	   "outputs": [],
"source": [
"//Chapter 16_Bipolar and MOS Digital Gate Circuits\n",
"//Caption : NMOS operating region\n",
"//Example 16.12: A NMOS transistor with K=20uA/V^2 and Vth=1.5V is operated at Vgs=5V and Ids=100uA. Determine the region of the operation on I-V characteristics and find Vds.\n",
"//Solution:\n",
"clear;\n",
"clc;\n",
"K=20*10^-6;\n",
"Vgs=5;\n",
"Vth=1.5;\n",
"Ids=100*10^-6;\n",
"Id=(K/2)*(Vgs-Vth)^2;\n",
"disp('uA',Id/10^-6,'drain current in saturation region')\n",
"if Id>Ids then\n",
"    disp('region of operation of NMOS transistor on I-V characteristics is LINEAR REGION')\n",
"end\n",
"//since NMOS lies in LINEAR REGION so Ids=(K/2)*(2*(Vgs-Vth)*Vds-Vds^2); thus substituting the values we have\n",
"//100*10^-6==(20*10^-6/2)*(2*(5-1.5)*Vds-Vds^2);\n",
"//so Vds^2-7*Vds+10=0; equivalent to quadrattic  equation of form aX^2+b*X+c=0 \n",
"Vds=poly(0,'Vds');\n",
"p=Vds^2-7*Vds+10;//equation whose roots has to be found\n",
"z=roots(p);\n",
"z=real(z)\n",
"  if (z(1)<(Vgs-Vth)) then    \n",
"    disp('Volt',z(1),'drain to source voltage(Vds) in this Linear Region is:')\n",
"elseif (z(2)<(Vgs-Vth)) then\n",
"    disp('Volt',z(2),'drain to source voltage(Vds) in this Linear Region is:')\n",
"end"
   ]
   }
,
{
		   "cell_type": "markdown",
		   "metadata": {},
		   "source": [
			"## Example 16.13: Power_Dissipatio.sci"
		   ]
		  },
  {
"cell_type": "code",
	   "execution_count": null,
	   "metadata": {
	    "collapsed": true
	   },
	   "outputs": [],
"source": [
"//Chapter 16_Bipolar and MOS Digital Gate Circuits\n",
"//Caption : Power Dissipation\n",
"// Example16.13: Calculate the maximum power dissipated by saturated load NMOS inverter for following given values: Vdd=5V;Vth=1.5V; device transconductance parameter for load device Kl=23.34*10^-6 A/V^2.Assume Vo=0V in low state.\n",
"// Solution:\n",
"clear;\n",
"clc;\n",
"Vdd=5;// drain voltage of NMOS inverter in Volt\n",
"Vth=1.5;// threshold voltage of NMOS inverter in Volt\n",
"Kl=23.34*10^-6;// transconductance Parameter for load device\n",
"// since maximum power can be obtained if maximum device current flows whish is when Vo=low i.e.,0 V. So,for saturation region of operation we have Id=Kl*(Vgs-Vth)^2/2;\n",
"// for saturated load inverter Vgs=Vds  and \n",
"//Vds=Vdd in low output condition,so Id=Kl*(Vdd-Vth)^2/2\n",
"Id=23.34*10^-6*(Vdd-Vth)^2/2;\n",
"Pmax=Id*Vdd;\n",
"disp('mW',Pmax/10^-3,'maximum power dissipated by saturated load NMOS inverter is:')"
   ]
   }
,
{
		   "cell_type": "markdown",
		   "metadata": {},
		   "source": [
			"## Example 16.14: AC_Power.sci"
		   ]
		  },
  {
"cell_type": "code",
	   "execution_count": null,
	   "metadata": {
	    "collapsed": true
	   },
	   "outputs": [],
"source": [
"//Chapter 16_Bipolar and MOS Digital Gate Circuits\n",
"//Caption : AC Power\n",
"//Example16.14: Calculate the ac power dissipated by a CMOS inverter which drives a 20pF load.Given f=1MHz and Vdd=10V.\n",
"//Solution:\n",
"clear;\n",
"clc;\n",
"Ct=20*10^-12;// load capacitor in Farad\n",
"Vdd=10;//drain voltage supply in Volt\n",
"f=1*10^6;//frequency at which output voltage changes\n",
"//since P=Ct*Vdd^2*f\n",
"P=20*10^-12*(10)^2*10^6;\n",
"disp('W',P,'ac power dissipated  by a CMOS inverter is:')"
   ]
   }
,
{
		   "cell_type": "markdown",
		   "metadata": {},
		   "source": [
			"## Example 16.2: Noise_Margi.sci"
		   ]
		  },
  {
"cell_type": "code",
	   "execution_count": null,
	   "metadata": {
	    "collapsed": true
	   },
	   "outputs": [],
"source": [
"//Chapter 16_Bipolar and MOS Digital Gate Circuits\n",
"//Caption : Noise Margin\n",
"//Example 16.2: An RTL gate has the worst case voltages listed below:\n",
"// Temp(degree C)            Voh(V)         Vih(V)        Vil(V)       Vol(V)\n",
"//     -55                   1.014           1.01         0.718        0.710\n",
"//      25                   0.844           0.815        0.565        0.300\n",
"//      125                  0.673           0.67         0.325        0.320\n",
"//Calculte the worst case NMl and NMh noise margins.\n",
"//Solution:\n",
"clear;\n",
"clc;\n",
"T=[-55;25;125];// temperatures in degree celsius given in table\n",
"for j=1:3,\n",
"if j==1 then\n",
"    disp('Noise margins for T=-55 degree celsius are:')\n",
"    NMl=0.718-0.710;// since NMl=Vil-Vol\n",
"    NMh=1.014-1.01;// since NMh=Vih-Voh\n",
"    disp('Volt',NMl,'lower limit of noise margin at -55 degree celsius is:')\n",
"    disp('volt',NMh,'upper limit of noise limit at -55 degree celsius is:')\n",
"elseif j==2 then\n",
"    disp('Noise margin for T=25 degree celsius are:')\n",
"    NMl=0.565-0.300;\n",
"    NMh=0.844-0.815;\n",
"    disp('Volt',NMl,'lower limit of noise margin at 25 degree celsius is:')\n",
"    disp('Volt',NMh,'upper limit of noise margin at 25 degree celsius is:')\n",
"elseif j==3 then\n",
"    disp('Noise margin for T=125 degree celsius are:')\n",
"    NMl=0.325-0.320;\n",
"    NMh=0.673-0.670;\n",
"    disp('Volt',NMl,'lower limit of noise margin at 125 degree celsius is:')\n",
"    disp('Volt',NMh,'uppwr limit of noise margin at 125 degree celsius is:')\n",
"end\n",
"end"
   ]
   }
,
{
		   "cell_type": "markdown",
		   "metadata": {},
		   "source": [
			"## Example 16.3: Fanouts.sci"
		   ]
		  },
  {
"cell_type": "code",
	   "execution_count": null,
	   "metadata": {
	    "collapsed": true
	   },
	   "outputs": [],
"source": [
"//Chapter 16_Bipolar and MOS Digital Gate Circuits\n",
"//Caption : Fanouts\n",
"//Example 16.3: A TTL gate is guartnteed to sink 10mA without exceeding ann output voltage Vol=0.4V and to source 5mA without dropping below Voh=2.4V. If Tih=100uA at 2.4V and Iil=1mA at 0.4V,calculate the low-state and high-state fan-outs.\n",
"// Solution:\n",
"clear;\n",
"clc;\n",
"// for TTL gate\n",
"// fanout at low output is= collector saturation current of output transitor/load current of the driven gate.\n",
"// fanout for high output is=source current in driving gatte/input current of load gate\n",
"// from question given\n",
"Ic3=10*10^-3;// collector saturatioon current at output transistor\n",
"Ie=1*10^-3;// load current of driven gate\n",
"Ie4=5*10^-3;// source current in driving gate\n",
"Ic1=100*10^-6;// input current of load gate\n",
"Fl=Ic3/Ie;\n",
"disp(Fl,'fan out at low output state is:')\n",
"Fh=Ie4/Ic1;\n",
"disp(Fh,'fan out at high output state is:')"
   ]
   }
],
"metadata": {
		  "kernelspec": {
		   "display_name": "Scilab",
		   "language": "scilab",
		   "name": "scilab"
		  },
		  "language_info": {
		   "file_extension": ".sce",
		   "help_links": [
			{
			 "text": "MetaKernel Magics",
			 "url": "https://github.com/calysto/metakernel/blob/master/metakernel/magics/README.md"
			}
		   ],
		   "mimetype": "text/x-octave",
		   "name": "scilab",
		   "version": "0.7.1"
		  }
		 },
		 "nbformat": 4,
		 "nbformat_minor": 0
}
