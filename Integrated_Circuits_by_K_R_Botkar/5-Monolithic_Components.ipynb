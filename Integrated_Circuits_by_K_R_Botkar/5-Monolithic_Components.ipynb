{
"cells": [
 {
		   "cell_type": "markdown",
	   "metadata": {},
	   "source": [
       "# Chapter 5: Monolithic Components"
	   ]
	},
{
		   "cell_type": "markdown",
		   "metadata": {},
		   "source": [
			"## Example 5.1: Transit_Time.sci"
		   ]
		  },
  {
"cell_type": "code",
	   "execution_count": null,
	   "metadata": {
	    "collapsed": true
	   },
	   "outputs": [],
"source": [
"//Chapter 5_Monolithic Components\n",
"//Caption : Transit Time\n",
"//Example5.1: A lateral pnp device base width is 8 um and the diffusion cofficient for base region is 10 cm^2/sec. Calculate the base transit time and the unity gain frequency.\n",
"//Solution:\n",
"function T=transittime(W,D)//W:base width=8um; D:base diffusion cofficient=10 sq cm/sec.\n",
"    T= W^2/(2*D);// since f(transit frequency response )=2*D/(W^2)\n",
"    disp('base transit time is:')\n",
"    disp('ns',T*10^9)// in nanoseconds(ns)\n",
"    F=1/(2*%pi*T)// where F=unity gain frequency=1/(2*%pi*transit time)\n",
"    disp('unity gain frequency is:')\n",
"    disp('MHz',F/10^6)// in Mega Hertz\n",
"endfunction\n",
"//transittime((8*10^-6),10*10^-4);"
   ]
   }
,
{
		   "cell_type": "markdown",
		   "metadata": {},
		   "source": [
			"## Example 5.2: Unit_gain_frequency.sci"
		   ]
		  },
  {
"cell_type": "code",
	   "execution_count": null,
	   "metadata": {
	    "collapsed": true
	   },
	   "outputs": [],
"source": [
"//Chapter 5_Monolithic Components\n",
"//Caption : Unit gain frequency\n",
"//Example5.2: a) Find Fl(unit gain frequency ) for the lateral pnp device. Assume diffusion cofficient of holes in the base of 0.5 sq cm/sec and base width of 10um.\n",
"// b) Find the Fs(unit gain frequency) for the substrate pnp device.Assume D=20 sqcm/sec and W=8um.\n",
"clear;\n",
"clc;\n",
"//a)Solution: for the lateral pnp device\n",
"Wl=10*10^-4;//base width in micro centimeter(ucm)\n",
"Dl=0.5;// base diffusion cofficient in sq cm/sec\n",
"Fl=2*Dl/(Wl^2);\n",
"disp('unit gain frequency for lateral pnp  device is;' )\n",
"disp('MHz',Fl/10^6)\n",
"//b)Solution: for substrate pnp device\n",
"Ws=8*10^-4;// base in ucm\n",
"Ds=20;//base diffusion cofficient in sq cm/sec\n",
"Fs=Ds/(Ws^2);\n",
"disp('unit gain frequency for substrate pnp device is;')\n",
"disp('MHz',Fs/10^6)"
   ]
   }
,
{
		   "cell_type": "markdown",
		   "metadata": {},
		   "source": [
			"## Example 5.3: Resistance_and_Sheet_resistance.sci"
		   ]
		  },
  {
"cell_type": "code",
	   "execution_count": null,
	   "metadata": {
	    "collapsed": true
	   },
	   "outputs": [],
"source": [
"//Chapter 5_Monolithic Components\n",
"//Capation : Resistance and Sheet resistance\n",
"//Example5.3: a)A base diffusion layer length is 100um and it's width is 10um.The sheet resistance of the layer is 100 ohm/square.Calculate its resistance.\n",
"//b) Calculate the sheet resistance of a 20um thick,5 ohm-cm ep-layer.\n",
"//a)Solution: \n",
"L=100;//base diffusion layer in um\n",
"W=10;//base diffusion width in um\n",
"Rs=100;//sheet resistance in ohm/square\n",
"R=L*Rs/W;\n",
"disp('resistance of base diffusion layer is:')\n",
"disp('Ohm',R)\n",
"//b)Solution:\n",
"Pe=5*10^-2;//ep-layer resistivity in ucm\n",
"t=20*10^-6;//thickness of the layer in um\n",
"Rse=Pe/t;//sheet resitivity of ep-layer\n",
"disp('sheet resistance of ep-layer is:')\n",
"disp('Ohm',Rse)"
   ]
   }
,
{
		   "cell_type": "markdown",
		   "metadata": {},
		   "source": [
			"## Example 5.4: Capacitance_per_unit_area.sci"
		   ]
		  },
  {
"cell_type": "code",
	   "execution_count": null,
	   "metadata": {
	    "collapsed": true
	   },
	   "outputs": [],
"source": [
"//Chapter 5_Monolithic Components\n",
"//Caption : Capacitance per unit area\n",
"//Example5.4: Determine the capacitance per unit area of the 400 armstrong gate oxide of a MOSFET device relative permittivity of silicon dioxide=3.9.\n",
"//Solution:\n",
"clear;\n",
"clc;\n",
"Eo=8.86*10^-14;//permittivity of free space in F/cm\n",
"Er=3.9;//relative permittivity of MOSFET device\n",
"t=0.4*10^-5;//thickness of the gate oxide in cm\n",
"Co=Eo*Er/t;// since capoacitance(C)=permittivity(E)*area(A)/thicknes(t);        so C/A=e/t\n",
"disp('capacitance per unit area of gate oxide is:')\n",
"disp('F/cm^2',Co)"
   ]
   }
],
"metadata": {
		  "kernelspec": {
		   "display_name": "Scilab",
		   "language": "scilab",
		   "name": "scilab"
		  },
		  "language_info": {
		   "file_extension": ".sce",
		   "help_links": [
			{
			 "text": "MetaKernel Magics",
			 "url": "https://github.com/calysto/metakernel/blob/master/metakernel/magics/README.md"
			}
		   ],
		   "mimetype": "text/x-octave",
		   "name": "scilab",
		   "version": "0.7.1"
		  }
		 },
		 "nbformat": 4,
		 "nbformat_minor": 0
}
