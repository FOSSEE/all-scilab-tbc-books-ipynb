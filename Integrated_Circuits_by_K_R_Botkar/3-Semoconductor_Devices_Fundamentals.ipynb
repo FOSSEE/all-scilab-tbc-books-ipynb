{
"cells": [
 {
		   "cell_type": "markdown",
	   "metadata": {},
	   "source": [
       "# Chapter 3: Semoconductor Devices Fundamentals"
	   ]
	},
{
		   "cell_type": "markdown",
		   "metadata": {},
		   "source": [
			"## Example 3.2: Resistivity.sci"
		   ]
		  },
  {
"cell_type": "code",
	   "execution_count": null,
	   "metadata": {
	    "collapsed": true
	   },
	   "outputs": [],
"source": [
"//Chapter 3_Semoconductor Devices Fundamentals\n",
"//Caption : Resistivity\n",
"//Example3.2: A Sample of Si is doped with 10^17 phosphorus atoms/cubic cm. What is its resistivity? Given Un=700square cm/v-sec.\n",
"//Solution:\n",
"clear;\n",
"clc;\n",
"function Res=resistivity(u,n)//n:doped concentration=10^17 atoms/cubic cm,  u: mobility of electrons=700square cm/v-sec.\n",
"    q=1.6*10^-19 //q:charge\n",
"    Res=1/(q*u*n)// since P is neglegible.\n",
"    disp('resistivity of the si doped with     n-dopant is:')// include ';' at the time of calling\n",
"    disp('ohm-cm',Res)\n",
"endfunction\n",
"// after executing calling resitivity( u=700 and n=10^17)i.e.,                      resistivity(10^17,700);\n",
"// Result: Resistivity of the Si doped with n-dopant is : 0.089 ohm-cm(approx)"
   ]
   }
,
{
		   "cell_type": "markdown",
		   "metadata": {},
		   "source": [
			"## Example 3.3: Resistivity_of_Intrinsic_Ge.sci"
		   ]
		  },
  {
"cell_type": "code",
	   "execution_count": null,
	   "metadata": {
	    "collapsed": true
	   },
	   "outputs": [],
"source": [
"//Chapter 3_Semoconductor Devices Fundamentals\n",
"//Caption : Resistivity of Intrinsic Ge\n",
"//Example3.3: Find the resistivity of intrinsic Ge at 300K. Given un=3900, and up=1900 cm^2/N sec. and ni=2.5*10^13 cm^-3for intrinsic Ge.\n",
"//Solution:\n",
"function RES=resistivity(un,up)// un:electron concentration, up:hole concentration\n",
"    q=1.6*10^-19;//in coulumb\n",
"    ni=2.5*10^13;//concentration in cm^-3\n",
"    RES=1/(q*ni*(un+up))//since n=p=ni\n",
"    disp('resistivity of intrinsic Ge is :')\n",
"    disp('ohm-cm',RES)\n",
"endfunction\n",
"//resistivity(3900,1900);"
   ]
   }
,
{
		   "cell_type": "markdown",
		   "metadata": {},
		   "source": [
			"## Example 3.4: Hole_Concentration.sci"
		   ]
		  },
  {
"cell_type": "code",
	   "execution_count": null,
	   "metadata": {
	    "collapsed": true
	   },
	   "outputs": [],
"source": [
"//Chapter 3_Semoconductor Devices Fundamentals\n",
"//Caption: Hole Concentration\n",
"//Example3.4: A semiconductor is doped with a concentration of 10^17 atoms/cm^3 of rsenic . What is the equilibrium hole concentration p at 300K. Given ni=1.5*10^10 cm^-3\n",
"// Solution:\n",
"clear;\n",
"clc;\n",
"function p=holeconcentration(ni,Nd)//ni=intrinsiic concentration=1.5*10^10 cm^-3, Nd: donar concentration; since, Nd>>ni, so Nd=n=10^17 atoms/cm^3.\n",
"    p=ni^2/Nd\n",
"    disp('hole concentrartion at 300K is:')\n",
"    disp('per cubic cm',p)\n",
"endfunction\n",
"//holeconcentration(1.5*10^10,10^17);"
   ]
   }
,
{
		   "cell_type": "markdown",
		   "metadata": {},
		   "source": [
			"## Example 3.5: Resistivity_of_Cu.sci"
		   ]
		  },
  {
"cell_type": "code",
	   "execution_count": null,
	   "metadata": {
	    "collapsed": true
	   },
	   "outputs": [],
"source": [
"//Chapter 3_Semoconductor Devices Fundamentals\n",
"//Caption: Resistivity of Cu\n",
"//Example3.5:The resistivity of metal is given by p=1/nqu, where n is number of electrons per cubic meter, u is mobility ,a nd q is electronic charge. Determine the resistivit of copper at room temperature. Given n=8.5*10^28 per cubic meter, u=3.2*10^-3 m^2/V-sec, at room temperature.\n",
"//Solution:\n",
"q=1.6*10^-19;\n",
"n=8.5*10^28;\n",
"u=3.2*10^-3;\n",
"p=1/(n*q*u);\n",
"disp('resistivity of the copper is :')\n",
"disp('ohm-meter',p)\n",
"//  2.298D-08  means 2.298*10^-8"
   ]
   }
,
{
		   "cell_type": "markdown",
		   "metadata": {},
		   "source": [
			"## Example 3.6: Bipolar_Transistor_Parameters.sci"
		   ]
		  },
  {
"cell_type": "code",
	   "execution_count": null,
	   "metadata": {
	    "collapsed": true
	   },
	   "outputs": [],
"source": [
"//Chapter 3_Semoconductor Devices Fundamentals\n",
"//Caption : Bipolar Transistor Parameters\n",
"//Example3.6: Determine Cu,Ccs,Gm,C1,R1,R0 and Ru for a bipolar transisitor. Given : Ic=0.2 mA, Vcb=10V,Vcs=15V,Cuo=0.25pF,Cje=1 pF,Ccso=1.5pF,Bo=2000,Tf=0.3ns, n=2*10^-4 and Vo=0.55V for all junctions.\n",
"// Solution:\n",
"clear;\n",
"clc;\n",
"Cuo=0.25;// collector-base depletion region capacitance in pico Farad(pF) for zero bias\n",
"Ccso=1.5 ;// collector-substrate junction capacitance in pico Farad(pF) for zero bias\n",
"q=1.6*10^-19 ;//electron charge in coulomb\n",
"Ic=0.2 ;//collector current in ampere(A)\n",
"k=8.6*10^-5;//in eV/K, where 1eV=1.6*10^-19\n",
"T=300;//absolute temperature in kelvin(K)\n",
"Vcb=10 ;//forward bias on the junction in volt(v)\n",
"Vcs=15 ;//collector-substrate bias in volt(V)\n",
"Cje=1 ;//depletion region capacitance in pico Farad(pF)\n",
"Bo=200;//small signal current gain\n",
"Tf=0.3;//transit time in forward direction in nano seconds(nS)\n",
"n=2*10^-4;// proportionality constant for Ro and gm\n",
"Vo=0.55;// bias voltage in volt(V)\n",
"Cu=Cuo/sqrt(1+(Vcb/Vo));// collector-base capacitance\n",
"disp('Cu is:')\n",
"disp('pF',Cu)\n",
"Ccs=Ccso/sqrt(1+(Vcs/Vo));// collector-substrate capacitance\n",
"disp('Ccs is:')\n",
"disp('pF',Ccs)\n",
"gm=q*Ic/(k*T*1.6*10^-19);// since k is in eV so converting it in Coulomb/Kelvin\n",
"disp('gm is:')// transconductance of the bipolar transistor here\n",
"disp('mA/V',gm)\n",
"Cb=Tf*gm;//diffusion capacitance in pico Farad(pF)\n",
"C1=Cb+Cje;//small signal capacitance of bipolar transistor\n",
"disp('C1 is:')\n",
"disp('pF',C1)\n",
"R1=Bo/gm;// small signal input resistance of bipolar transistor\n",
"disp('R1 is:')\n",
"disp('kilo Ohm',R1)\n",
"Ro=1/(n*gm);//small signal output resistance\n",
"disp('R0 is')\n",
"disp('kilo Ohm',Ro)\n",
"Ru=10*Bo*Ro/10^3;//collector-base resistance\n",
"disp('Ru is:')\n",
"disp('Mega Ohm',Ru)"
   ]
   }
],
"metadata": {
		  "kernelspec": {
		   "display_name": "Scilab",
		   "language": "scilab",
		   "name": "scilab"
		  },
		  "language_info": {
		   "file_extension": ".sce",
		   "help_links": [
			{
			 "text": "MetaKernel Magics",
			 "url": "https://github.com/calysto/metakernel/blob/master/metakernel/magics/README.md"
			}
		   ],
		   "mimetype": "text/x-octave",
		   "name": "scilab",
		   "version": "0.7.1"
		  }
		 },
		 "nbformat": 4,
		 "nbformat_minor": 0
}
