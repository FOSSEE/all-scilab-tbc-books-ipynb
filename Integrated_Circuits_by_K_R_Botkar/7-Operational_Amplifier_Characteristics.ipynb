{
"cells": [
 {
		   "cell_type": "markdown",
	   "metadata": {},
	   "source": [
       "# Chapter 7: Operational Amplifier Characteristics"
	   ]
	},
{
		   "cell_type": "markdown",
		   "metadata": {},
		   "source": [
			"## Example 7.14: Effect_on_Output_Voltage.sci"
		   ]
		  },
  {
"cell_type": "code",
	   "execution_count": null,
	   "metadata": {
	    "collapsed": true
	   },
	   "outputs": [],
"source": [
"//Chapter 7_Operational Amplifier Characteristics\n",
"//Caption : Effect on Output Voltage\n",
"//Example7.14: For the noninverting OP-Amp with input resistance R1 nad feedback resistance R2 find the effect on output voltage Vo because of the common mode voltage Vcm when the input voltage Vs changes by 1V. Given CMRR=70 dB.\n",
"//Solution:\n",
"clear;\n",
"clc;\n",
"CMRR=70;//Common Mode Rejection Ratio in dB\n",
"// since CMRR=20*log(Vcm/Vdm) dB\n",
"//so Vdm=Vcm/10^(CMRR/20)\n",
"//since output voltage of OP-Amp is Vo=(R1+R2)*Vdm/R1=(R1+R2)*Vcm/(R1*10^(CMRR/20))\n",
"R1=100;//assuming input resistance standard value in kilo Ohm\n",
"R2=900;//assuming feedback resistance standard value in kilo Ohm\n",
"Vs=1;//change in input voltage given in question\n",
"Vcm=Vs;//since change in input voltage is applied to noninverting input and through the feedback to the inverting iput of the Op-Amp as well.\n",
"Vo=(R1+R2)*Vcm/(R1*10^(CMRR/20))\n",
"disp('mV',abs(Vo)*10^3,'change in output voltage due to common mode Voltage(Vcm) is:')\n",
"//Note:\n",
"// CMRR,Vdm,Vo may be of either polarity. Here absolute value is calculated"
   ]
   }
,
{
		   "cell_type": "markdown",
		   "metadata": {},
		   "source": [
			"## Example 7.15: Slew_rate_and_Fmax.sci"
		   ]
		  },
  {
"cell_type": "code",
	   "execution_count": null,
	   "metadata": {
	    "collapsed": true
	   },
	   "outputs": [],
"source": [
"//Chapter 7_Operational Amplifier Characteristics\n",
"//Caption : Slew rate and Fmax\n",
"//Example7.15: For type 741 Op-Amp following parameter are given.Quiescent collector current Ic=9.5 uA, Cc=30 pF. Peak amplitude of input voltage Vm=15V.\n",
"//a)Determine the slew rate\n",
"//b)Determine full power bandwidth Fmax for the slew rate as obtained from part (a).\n",
"clear;\n",
"clc;\n",
"//a)Solution:\n",
"Ic=9.5*10^-6;// operating collector current in A\n",
"Cc=30*10^-12;// parasitic capacitance\n",
"SlewRate=2*Ic/Cc;\n",
"disp('V/us',SlewRate/10^6,'Slew rate is:')\n",
"//b)Solution:\n",
"Vm=15;//amplitude of input voltage in Volt\n",
"Fmax=SlewRate/(2*%pi*Vm);// full power bandwidth \n",
"disp('kHz',Fmax/10^3,'full power bandwidth Fmax for  the Slew Rate obtained above is:')"
   ]
   }
,
{
		   "cell_type": "markdown",
		   "metadata": {},
		   "source": [
			"## Example 7.16: Largest_Amplitude.sci"
		   ]
		  },
  {
"cell_type": "code",
	   "execution_count": null,
	   "metadata": {
	    "collapsed": true
	   },
	   "outputs": [],
"source": [
"//Chapter 7_Operational Amplifier Characteristics\n",
"//Caption : Largest Amplitude\n",
"//Example7.16: An amplifier has a 10 kHz sinewave input signal. Find the largest amplitude that the output of the amplifier can be,without distortion owing to slew rate limiting. Given slew rate=0.5V/u sec.\n",
"//Solution:\n",
"clear;\n",
"clc;\n",
"Fmax=10*10^3;//frequency of sinewave input signal in Hz\n",
"SlewRate=0.5*10^6;//given in question in V/sec\n",
"Vm=SlewRate/(2*%pi*Fmax);//Since Fmax=slew rate/(2*%pi*Vm)\n",
"disp('V(peak)',Vm,'largest amplitude that the output of the amplifier can be without distortion owing to slew rate limitation is:')\n",
"//Note:\n",
"// calculated amplitude  is 7.9577 V, which can be approximated to 8 V"
   ]
   }
,
{
		   "cell_type": "markdown",
		   "metadata": {},
		   "source": [
			"## Example 7.17: Maximum_allowable_frequency.sci"
		   ]
		  },
  {
"cell_type": "code",
	   "execution_count": null,
	   "metadata": {
	    "collapsed": true
	   },
	   "outputs": [],
"source": [
"//Chapter 7_Operational Amplifier Characteristics\n",
"//Caption : Maximum allowable frequency\n",
"//Example7.17: When a low frequency sinusoidal waveform is applied to an input of the noninverting Op-Amp the amplifier responds linearly over an output range from -10V to +10V. If R1=R2 and the slew rate of the amplifier is 50V/u sec,what is the maximum allowable frequency of an input sinusoid if the output signal swing is to be maintained from -10V to +10V without distortion? resistance and R2 is feedback resitance.\n",
"//Solution\n",
"clear;\n",
"clc;\n",
"SlewRate=50/10^-6;//in V/sec\n",
"Vo=10-(-10);//from question output is ranging from -10V to +10V\n",
"Vom=Vo;//where Vom is the maximum value of Vo\n",
"//therefore\n",
"Fmax=SlewRate/(2*%pi*Vom);\n",
"disp('kHz',Fmax/10^3,'maximum allowable frequency of an input sinusoidal for output swing maintained from -10V to +10v is:')\n",
"//Note:\n",
"// obtained maximum allowable amplitude is 397.88736 kHz which can be approximated to 400 kHz"
   ]
   }
,
{
		   "cell_type": "markdown",
		   "metadata": {},
		   "source": [
			"## Example 7.1: Bipolar_Differential_Amplifier_Parameter.sci"
		   ]
		  },
  {
"cell_type": "code",
	   "execution_count": null,
	   "metadata": {
	    "collapsed": true
	   },
	   "outputs": [],
"source": [
"//Chapter 7_Operational Amplifier Characteristics\n",
"//Caption : Bipolar Differential Amplifier Parameter\n",
"//Example7.1: The following specification are given for the dual input,balanced output bipolar diferential amplifier:\n",
"//Rc=2.2 kOhm,Re=4/7kOhm,Rs=50 ohm,Vcc=10V,Vee=-10V and Bf=Bo=100. Assume      Vbe=0.7V.\n",
"//Determine\n",
"//a)Icq and Vceq\n",
"//b)Differential-mode voltage fgain , and\n",
"//c)Input and output resistances.\n",
"clear;\n",
"clc;\n",
"//a)Solution:\\n",
"Rc=2.2*10^3;// collector resistance in one transistor in ohm\n",
"Re=4.7*10^3;// emitte resitance of one transistor in ohm\n",
"Rs=50;//base or source resitance of one transistor in ohm\n",
"Vcc=10;// collector power supply in Volt\n",
"Vee=-10;// negative emitter power supply\n",
"Bf=100;// gain of the transistor\n",
"Bo=Bf;\n",
"Vbe=0.7;//base emitter voltage of one transiator\n",
"Icq=(abs(Vee)-Vbe)/(2*Re+(Rs/Bf));\n",
"Vceq=Vcc+Vbe-Rc*Icq;\n",
"//b)Solution:\n",
"gm=Icq/(25*10^-3);// where transconductance gm=Ic/Vt, Vt=25mV at room temperature, so  gm =Ic/25\n",
"Ad=-gm*Rc;// differential mode voltage gain Icq here will be taken as found above  not approximated to as given book\n",
"//c)Solution:\n",
"r=Bo/gm;// input resistance of one transistor\n",
"Ri=2*r;//differential mode input resistance\n",
"Ro=Rc;//differential mode output resistance\n",
"disp('A',Icq*10^3,'operating point collector current')\n",
"disp('V',Vceq,'collector-to-emitter voltage is:')\n",
"disp(abs(Ad),'Differential-mode voltage gain')\n",
"disp('kilo Ohm',Ri/10^3,'Input Resistance')\n",
"disp('kilo Ohm',Ro/10^3,'Output Resistance')\n",
"// Note:\n",
"//value of  Icq is taken as 0.0009893 A or 0.9893 mA not approximated to 0.98 mA"
   ]
   }
,
{
		   "cell_type": "markdown",
		   "metadata": {},
		   "source": [
			"## Example 7.2: Rc_and_Re.sci"
		   ]
		  },
  {
"cell_type": "code",
	   "execution_count": null,
	   "metadata": {
	    "collapsed": true
	   },
	   "outputs": [],
"source": [
"//Chapter 7_Operational Amplifier Characteristics\n",
"//Caption : Rc and Re\n",
"//Example7.2: A bipolar differentail amplifier uses a transistor having Bo=200 and biased at Icq=100 uA. Determine Rc and Re so that abs(Ad)=500 and CMRR=80 dB.\n",
"// Solution:\n",
"clear;\n",
"clc;\n",
"//CMRR in dB is expressed as 20logCMRR, so 80=20logCMRR or \n",
"CMRR=10^(80/20);\n",
"Icq=100*10^-6;//collector current\n",
"Vt=25*10^-3;//standard value of threshold voltage at room temperature\n",
"gm=Icq/Vt;\n",
"Re=CMRR/(2*gm);//since CMRR=2*gm*Re(approx)\n",
"Ad=500;// absolute value of differential mode voltage gain\n",
"Rc=-Ad/gm;//Collector resistance\n",
"disp('Mega Ohm',Re/10^6,'emitter resitance(Re) of bipolar differential amplifier is:')\n",
"disp('Kilo Ohm',abs(Rc)/10^3,'collector resistance(Rc) of bipolar differential amplifier is:') "
   ]
   }
,
{
		   "cell_type": "markdown",
		   "metadata": {},
		   "source": [
			"## Example 7.4: Offset_Voltage_Change.sci"
		   ]
		  },
  {
"cell_type": "code",
	   "execution_count": null,
	   "metadata": {
	    "collapsed": true
	   },
	   "outputs": [],
"source": [
"//Chapter 7_Operation Amplifier Characteristics\n",
"//Caption : Offset Voltage Change\n",
"//Example7.4: What is the change in the offset voltage of a bipolar transistor amplifier for a difference of 10V in the collector-to-emitter voltage and Va=250 V. Assume room temperature.\n",
"//Solution:\n",
"clear;\n",
"clc;\n",
"Vt=25*10^-3;// threshold voltage at room temperature in Volt\n",
"Va=250;//early voltage of the bipolar transistor in volt\n",
"deltaVce=1;//let us assume 1V of change in Vce(collector-to-emitter voltage)\n",
"deltaVos1=Vt*(-deltaVce/Va);\n",
"disp('mV',abs(deltaVos1)*10^3,'change in offset voltage for 1 V change in Vce is:')\n",
"for i=1:1,\n",
"    if i==1 then\n",
"        deltaVce=10;// in volt\n",
"        deltaVos=deltaVce*deltaVos1;\n",
"        disp('mV',abs(deltaVos)*10^3,'change in offset voltage of bipolar transistor for 10V collector-to-emitter voltage(Vce) difference is:')\n",
"    end\n",
"end"
   ]
   }
,
{
		   "cell_type": "markdown",
		   "metadata": {},
		   "source": [
			"## Example 7.5: Temperature_Coefficient.sci"
		   ]
		  },
  {
"cell_type": "code",
	   "execution_count": null,
	   "metadata": {
	    "collapsed": true
	   },
	   "outputs": [],
"source": [
"//Chapter 7_Operational Amplifier Characteristics\n",
"//Caption : Temperature Coefficient\n",
"//Example7.5: Determine the temperature coefficient of the input offset voltage for the bipolar differential amplifier having Vos=1.5 mV. What is the percentage change in the Vos per degree temperature change.\n",
"//Solution:\n",
"clear;\n",
"clc;\n",
"// temperature cofficient of the input offset voltage for the bipolar differential amplifier Vos is=dVos/dT=Vos/T;\n",
"Vos=1.5*10^-3;//input offset voltage for bipolar differential transistor amplifier\n",
"T=300;// assuming room temperature \n",
"TC=Vos/T;// temperature cofficient of Vos\n",
"//percentage change in the Vos per degree temperature change will be given by as follow:\n",
"PC=(TC/Vos)*100;// percentage change(PC) in the Vos per degree temperature change\n",
"disp('%per degree celcius',PC,'percentage change in the Vos   per degree temperature change is:')"
   ]
   }
],
"metadata": {
		  "kernelspec": {
		   "display_name": "Scilab",
		   "language": "scilab",
		   "name": "scilab"
		  },
		  "language_info": {
		   "file_extension": ".sce",
		   "help_links": [
			{
			 "text": "MetaKernel Magics",
			 "url": "https://github.com/calysto/metakernel/blob/master/metakernel/magics/README.md"
			}
		   ],
		   "mimetype": "text/x-octave",
		   "name": "scilab",
		   "version": "0.7.1"
		  }
		 },
		 "nbformat": 4,
		 "nbformat_minor": 0
}
