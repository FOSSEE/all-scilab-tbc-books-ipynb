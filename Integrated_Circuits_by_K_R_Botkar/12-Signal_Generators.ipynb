{
"cells": [
 {
		   "cell_type": "markdown",
	   "metadata": {},
	   "source": [
       "# Chapter 12: Signal Generators"
	   ]
	},
{
		   "cell_type": "markdown",
		   "metadata": {},
		   "source": [
			"## Example 12.11: Desig.sci"
		   ]
		  },
  {
"cell_type": "code",
	   "execution_count": null,
	   "metadata": {
	    "collapsed": true
	   },
	   "outputs": [],
"source": [
"//Chapter 12_Signal Generators\n",
"//Caption : Design\n",
"//Example12.11: A 555 one shot circuit with Vcc=16 V is to have a 2 ms output pulse width.Design a suitable Circuit.Ithres=0.25 uA(max.) from data sheet of the device.\n",
"//Solution:\n",
"clear;\n",
"clc;\n",
"Ithres=0.25*10^-6;\n",
"T=2*10^-3//output pulse width\n",
"Vcc=16;//power supply to 555\n",
"//The value of minimum capacitor charging current Ic should be much greater than the threshold Current Ithres\n",
"Icmin=1000*Ithres;//since Icmin>>Ithres\n",
"Ra=Vcc/(3*Icmin);\n",
"C=T/(1.1*Ra);\n",
"disp('kilo Ohm',Ra/10^3,'resitance design is:')\n",
"disp('uF',C*10^6,'Capacitor design is:')"
   ]
   }
,
{
		   "cell_type": "markdown",
		   "metadata": {},
		   "source": [
			"## Example 12.12: Generating_pulse_by_555_timer.sci"
		   ]
		  },
  {
"cell_type": "code",
	   "execution_count": null,
	   "metadata": {
	    "collapsed": true
	   },
	   "outputs": [],
"source": [
"//Chapter 12_Signal Generators\n",
"//Caption : Generating pulse by 555 timer\n",
"//Example12.12:(a)Design a 555 astable multivibrator to generate an output pulse with pulse repetition frequency(PRF)=4 kHz and a duty cycle of 60%.Given Vcc=15V.\n",
"//(b)Analyse the circuit designed in part (a) to determine the actual PRF and duty cycle. Given Ithres=25 uA(max.) for timer 555.\n",
"clear;\n",
"clc;\n",
"//a)Solution:\n",
"d=60*10^-2;//duty cycle given\n",
"PRF=4*10^3;\n",
"Vcc=15;//power supply\n",
"T=1/PRF;//where T=Tc+Td\n",
"Tc=d*T;\n",
"Td=T-Tc;\n",
"Ithres=25*10^-6;\n",
"Icmin=1*10^-3;//since Icmin>>Ithres,so assuming Icmin=1 mA\n",
"R=Vcc/(3*Icmin);//where R=Ra+Rb\n",
"C=Tc/(0.7*R);\n",
"Rb=Td/(0.7*C);\n",
"Ra=R-Rb;\n",
"disp('kilo Ohm',Ra/10^3,'Designed resistor(Ra) for 555 timer in astable mode is:')\n",
"disp('kilo Ohm',Rb/10^3,'Designed resistor(Rb) for 555 timer in astable mode is:')\n",
"disp('uF',C*10^6,'Designed Capacitor for 555 timer in astable mode is:')\n",
"//b)Solution:\n",
"//from equation of charging\n",
"Tc1=0.7*R*C;\n",
"Td1=0.7*Rb*C;\n",
"T1=Tc1+Td1;\n",
"PRFa=1/T1;\n",
"da=Tc1/(Tc1+Td1)*100;\n",
"disp('kHz',PRFa/10^3,'actual Pulse Repetition Frequency is:')\n",
"disp('%',da,'actual duty cycle is:')"
   ]
   }
,
{
		   "cell_type": "markdown",
		   "metadata": {},
		   "source": [
			"## Example 12.20: Waveform_Generator.sci"
		   ]
		  },
  {
"cell_type": "code",
	   "execution_count": null,
	   "metadata": {
	    "collapsed": true
	   },
	   "outputs": [],
"source": [
"//Chapter 12_Signal Generators\n",
"//Caption : Waveform Generator\n",
"//Example12.20: Design a waveform generator using type 8038 IC.The frequency of Oscillation is 5 kHz and the duty cycles is 50%.From data sheet,typical values for the device at Vcc=5 V are as follws:\n",
"//Voh=3.6 V; Vol=0.2 V; Ill=-1.6 mA and Ilh=40 uA.\n",
"//Solution:\n",
"clear;\n",
"clc;\n",
"Fo=5*10^3;\n",
"//for 50% duty cycle Tp=Tn\n",
"Vcc=5;//in volt\n",
"Vol=0.2;//in Volt\n",
"Voh=3.6;//in volt\n",
"Ill=-1.6*10^-3;\n",
"Ilh=40*10^-6;\n",
"Tp=1/(2*Fo);\n",
"C=0.01;//assuming the Capacitor value in uF for optimum design\n",
"Ra=Tp/(1.66*C);\n",
"Rb=2*Ra*Tp/(1.66*Ra*C+Tp);\n",
"R2min=(Vcc-Vol)/(2*10^-3-abs(Ill));//since Ill is negative\n",
"R2max=(Vcc-Voh)/(1*10^-6+Ilh);//since Ilh is positive\n",
"disp('kilo Ohm',Ra*10^3,'designed value of Ra is:')\n",
"disp('kilo Ohm',Rb*10^3,'designed value of Rb is:')\n",
"disp('kilo Ohm',R2min/10^3,'minimum pull-up resistor is:')\n",
"disp('kilo Ohm',R2max/10^3,'maximum pull-up resistor is:')"
   ]
   }
,
{
		   "cell_type": "markdown",
		   "metadata": {},
		   "source": [
			"## Example 12.6: 555_Timer.sci"
		   ]
		  },
  {
"cell_type": "code",
	   "execution_count": null,
	   "metadata": {
	    "collapsed": true
	   },
	   "outputs": [],
"source": [
"//Chapter 12_Signal Generators\n",
"//Caption : 555 Timer\n",
"//Example12.6: Calculate (a)Tc (b)Td, and (c)the free running frequency for the timer 555 connected in astable mode.Given Ra=6.8kilo Ohm; Rb=3.3 kilo Ohm; C=0.1 uF. What is the duty cycle ,d,of the circuit?\n",
"//Solution:\n",
"clear;\n",
"clc;\n",
"Ra=6.8*10^3;\n",
"Rb=3.3*10^3;\n",
"C=0.1*10^-6;\n",
"// Using equation for astable multivibrator we have\n",
"Tc=0.69*(Ra+Rb)*C;//charging time\n",
"Td=0.69*Rb*C;//discharging time\n",
"f=1.44/((Ra+2*Rb)*C);//free running frequency\n",
"d=Rb/(Ra+2*Rb);//duty cycle\n",
"disp('ms',Tc*10^3,'charging time of 555 timer in astable mode is:')\n",
"disp('ms',Td*10^3,'discharging time of 555 timer in astable mode is:')\n",
"disp('kHz',f/10^3,'free running frequency of 555 timer in astable mode is:')\n",
"disp(d,'duty cycle of 555 timer in astable mode is:')"
   ]
   }
],
"metadata": {
		  "kernelspec": {
		   "display_name": "Scilab",
		   "language": "scilab",
		   "name": "scilab"
		  },
		  "language_info": {
		   "file_extension": ".sce",
		   "help_links": [
			{
			 "text": "MetaKernel Magics",
			 "url": "https://github.com/calysto/metakernel/blob/master/metakernel/magics/README.md"
			}
		   ],
		   "mimetype": "text/x-octave",
		   "name": "scilab",
		   "version": "0.7.1"
		  }
		 },
		 "nbformat": 4,
		 "nbformat_minor": 0
}
