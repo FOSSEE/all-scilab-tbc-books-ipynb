{
"cells": [
 {
		   "cell_type": "markdown",
	   "metadata": {},
	   "source": [
       "# Chapter 9: Active Filters"
	   ]
	},
{
		   "cell_type": "markdown",
		   "metadata": {},
		   "source": [
			"## Example 9.12: Unity_gain_frequency_and_Capacitor_determination.sci"
		   ]
		  },
  {
"cell_type": "code",
	   "execution_count": null,
	   "metadata": {
	    "collapsed": true
	   },
	   "outputs": [],
"source": [
"//Chapter 9_Active Filters\n",
"//Caption : Unity gain frequency and Capacitor determination\n",
"//Example9.12: a)Determine the unity gain frequency,Fo,of a switched capacitor integrator having following specifications:Fclk=1 kHz, C1=1 pF,and C2=15.9 pF\n",
"//b)What is the value of capacitor for an RC integrator having R=1.6 mega Ohm and Fo as obtained in part(a).\n",
"//a)Solution:\n",
"clear;\n",
"clc;\n",
"C1=1*10^-12;//source capacitor in F\n",
"C2=15.9*10^-12;//feedback capacitor\n",
"Fclk=1*10^3;//clock frequency or switching frequency\n",
"Fo=1*(C1/C2)*Fclk/(2*%pi);\n",
"disp('Hz',Fo,'unity gain frequency is:')\n",
"//b)Solution:\n",
"R=1.6*10^6;//resistor of RC integrator in Ohm\n",
"C=1/(2*%pi*Fo*R);\n",
"disp('nF',C*10^9,'for Rc integrator value of capacitor needed is:')\n",
"// Note:\n",
"// Obtained results are approximated to nearest values,thus Fo=10 Hz and C=10 nF"
   ]
   }
,
{
		   "cell_type": "markdown",
		   "metadata": {},
		   "source": [
			"## Example 9.6: Determine_Q_Fl_and_Fh.sci"
		   ]
		  },
  {
"cell_type": "code",
	   "execution_count": null,
	   "metadata": {
	    "collapsed": true
	   },
	   "outputs": [],
"source": [
"//Chapter 9_Active Filters\n",
"//Caption : Determine Q Fl and Fh\n",
"//Example9.6:A certain two-pole band pass filter response is required with a centre frequency of 2 kHz and a 3 dB bandwidth of 400 Hz. Determine Q,Fl and Fh.\n",
"//Solution:\n",
"clear;\n",
"clc;\n",
"Fo=2*10^3;//centre frequency in Hz\n",
"BW=400;//3 dB bandwidth\n",
"Q=Fo/BW;// Q-factor of band pass filter\n",
"Fl=Fo*sqrt(1+1/(4*Q^2))-Fo/(2*Q);\n",
"Fh=Fo*sqrt(1+1/(4*Q^2))+Fo/(2*Q);\n",
"disp('Hz',Fl,'lower cutt off frequency is:')\n",
"disp('Hz',Fh,'Higher cutt off frequency is:')"
   ]
   }
],
"metadata": {
		  "kernelspec": {
		   "display_name": "Scilab",
		   "language": "scilab",
		   "name": "scilab"
		  },
		  "language_info": {
		   "file_extension": ".sce",
		   "help_links": [
			{
			 "text": "MetaKernel Magics",
			 "url": "https://github.com/calysto/metakernel/blob/master/metakernel/magics/README.md"
			}
		   ],
		   "mimetype": "text/x-octave",
		   "name": "scilab",
		   "version": "0.7.1"
		  }
		 },
		 "nbformat": 4,
		 "nbformat_minor": 0
}
