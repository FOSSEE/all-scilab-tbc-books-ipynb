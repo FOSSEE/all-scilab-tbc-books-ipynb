{
"cells": [
 {
		   "cell_type": "markdown",
	   "metadata": {},
	   "source": [
       "# Chapter 10: Special Purpose Amplifiers"
	   ]
	},
{
		   "cell_type": "markdown",
		   "metadata": {},
		   "source": [
			"## Example 10.3: Class_B_Power_Amplifier.sci"
		   ]
		  },
  {
"cell_type": "code",
	   "execution_count": null,
	   "metadata": {
	    "collapsed": true
	   },
	   "outputs": [],
"source": [
"//Chapter 10_Special Purpose Amplifiers\n",
"//Caption : Class B Power Amplifier\n",
"//Example10.3: A class-B audio power amplifier has a supply voltage of  abs(Vcc)=15V. The closed loop gain Av=50 and the amplifier has to deliver 10W of power into an 8 ohm load.Find:\n",
"//a)the peak output voltage swing\n",
"//b)the peak output current swing\n",
"//c)the input signal required(rms)\n",
"//d)the total power from the power supply\n",
"//e)the power dissipated in the amplifier\n",
"//f)the power conversion efficiency\n",
"clear;\n",
"clc;\n",
"//a)Solution:\n",
"Po=10;//power in Watt\n",
"Rl=8;//load resistance in Ohm;\n",
"Vorms=sqrt(Po*Rl);// since output power Po=Vorms^2/Rl\n",
"Vom=sqrt(2)*Vorms;//peak output voltage swing\n",
"disp('V',abs(Vom),'The peak output Voltage swing:')\n",
"//b)Solution:\n",
"Iom=Vom/Rl;\n",
"disp('A',abs(Iom),'The peak output current swing is:')\n",
"//c)Solution:\n",
"Av=50;//closed loop gain\n",
"Vsrms=Vorms/Av;\n",
"disp('V',Vsrms,'The input rms signal required is:')\n",
"//d)Solution:\n",
"Vcc=15;//absolute value of poer supply in volt\n",
"Pin=2*Vcc*Iom/%pi;// since Iorms*2^(1/2)=Iom\n",
"disp('W',Pin,'The total power from power supply is:')\n",
"//e)Solution:\n",
"Pd=(2/%pi)*Vcc*sqrt(2*Po/Rl)-Po;\n",
"disp('W',Pd,'The power dissipated in the amplifier is:')\n",
"//f)Solution:\n",
"n=(Po/Pin)*100;\n",
"disp('%',n,'The power conversion efficiency is:')\n",
"//Note:\n",
"//Vcc,Vom and Iom can be of either polarity but here only absolute value is considered and calculated"
   ]
   }
,
{
		   "cell_type": "markdown",
		   "metadata": {},
		   "source": [
			"## Example 10.4: Power_Output.sci"
		   ]
		  },
  {
"cell_type": "code",
	   "execution_count": null,
	   "metadata": {
	    "collapsed": true
	   },
	   "outputs": [],
"source": [
"//Chapter 10_Special Purpose Amplifier\n",
"//Caption : Power Output\n",
"//Example10.4: For the amplifier of Example10.3, find the power output level at which the power dissipation will bw maximum and the maximum power dissipation.\n",
"//Solution:\n",
"clear;\n",
"clc;\n",
"Vcc=15;//power supply in volt\n",
"Rl=8;//load resistance in ohm\n",
"//since Pd=2*Vcc/%pi*sqrt(2*Po/Rl)-Po\n",
"//to determine the value of Po at which Pd is maximum we differentiate above equation and equate to zero,we find Po as\n",
"Po=2*Vcc^2/((%pi)^2*Rl);\n",
"// there fore maximum power dissipated is\n",
"Pdmax=2*Vcc/%pi*sqrt(2*Po/Rl)-Po;\n",
"disp('W',Po,'The power output level for maximum power dissipation is:')\n",
"disp('W',Pdmax,'Maximum power dissipation for corresponding output power level is;')"
   ]
   }
,
{
		   "cell_type": "markdown",
		   "metadata": {},
		   "source": [
			"## Example 10.8: LM4250_Parameters.sci"
		   ]
		  },
  {
"cell_type": "code",
	   "execution_count": null,
	   "metadata": {
	    "collapsed": true
	   },
	   "outputs": [],
"source": [
"//Chapter 10_Special Purpose Amplifiers\n",
"//Caption : LM4250 Parameters\n",
"//Example10.8: The micropower programmable Op-Amp LM 4250 is supplied by 3 v sourse(absolute value) source.Determine the value of set resistor for Iset=0.1 uA if Rset is connected to (a)Vee and (b)ground. (c)determine the quiescent supply current and the quiescent power dissipation.\n",
"clear;\n",
"clc;\n",
"//a)Solution:\n",
"Vcc=3;//power supply in Volt\n",
"Vee=-Vcc;//negative power supply in Volt\n",
"Iset=0.1*10^-6;//bias setting current in A;\n",
"Rset=(Vcc+abs(Vee)-0.5)/Iset;\n",
"disp('mega Ohm',Rset/10^6,'The bias setting current resistor for Vee=-10 V is:')\n",
"//b)Solution:\n",
"clear Vee;\n",
"Vee=0;//since Rset is connected to ground\n",
"Rset=(Vcc+abs(Vee)-0.5)/Iset;\n",
"disp('mega Ohm',Rset/10^6,'The bias setting current resistor for Vee=0 V is:')\n",
"//c)Solution:\n",
"Qcurrent=5*Iset;\n",
"Qpower=(Vcc+3)*Qcurrent;//where abs(Vee)=3 V \n",
"disp('uA',Qcurrent*10^6,'The quiescent current supply is:')\n",
"disp('uW',Qpower*10^6,'The quiescent power dissipated is:')"
   ]
   }
,
{
		   "cell_type": "markdown",
		   "metadata": {},
		   "source": [
			"## Example 10.9: Common_Emitter_Amplifier_Parameters.sci"
		   ]
		  },
  {
"cell_type": "code",
	   "execution_count": null,
	   "metadata": {
	    "collapsed": true
	   },
	   "outputs": [],
"source": [
"//Chapter 10_Special Purpose Amplifiers\n",
"//Caption : Common Emitter Amplifier Parameters\n",
"//Example10.9: A single common emitter amplifier has following device and circuit parameters: Rb=60 Ohm,Rs=40 Ohm,Cu=1.5 pF,Cl=1 pF,ft=1.6 GHz at Ic=2.5 mA quiescent current.Determine each of the following for two values of Rl: 30 Ohm and 100 Ohm. a)f1 b)F2 (c)BW (d)Avmid (e)avmid*Bw.\n",
"clear;\n",
"clc;\n",
"Ft=1.6*10^9;//reduced unity gain frequency in Hz\n",
"Ic=2.5*10^-3;//collector current in A\n",
"Vt=25*10^-3;//threshold voltage at room temperature\n",
"gm=Ic/Vt;//transconductance\n",
"Cu=1.5*10^-12;\n",
"Cl=1*10^-12;\n",
"Rs=40;\n",
"Rb=60;\n",
"C2=gm/(2*%pi*Ft)-Cu\n",
"for i=1:2,\n",
"    if i==1 then\n",
"        Rl=30;//load resistance\n",
"        F1=1/(2*%pi*(Rs+Rb)*(C2+Cu*(1+gm*Rl)));// first break frequency\n",
"        F2=1/(2*%pi*Rl*(Cu+Cl));//second break frequency\n",
"        BW=F1;//since single common emitter amplifier so n=1 thus BW=F1*sqrt(2^(1/n)-1),i.e.,BW=F1\n",
"        Avmid=-gm*Rl;//mid frequency gain\n",
"        GBW=Avmid*BW;// gain-bandwidth product\n",
"        disp('********For Rl=30 Ohm********')\n",
"        disp('MHz',F1/10^6,'first break frequency is:')\n",
"        disp('MHz',F2/10^6,'second break frequency is:')\n",
"        disp('MHz',BW/10^6,'Bandwidth is:')\n",
"        disp(abs(Avmid),'mid frequency gain is:')\n",
"        disp('MHz',abs(GBW)/10^6,'gain-bandwidth product is:')\n",
"    else\n",
"        Rl=100;//load resistance in ohm        \n",
"        F1=1/(2*%pi*(Rs+Rb)*(C2+Cu*(1+gm*Rl)));// first break frequency\n",
"        F2=1/(2*%pi*Rl*(Cu+Cl));//second break frequency\n",
"        BW=F1;//since single common emitter amplifier so n=1 thus BW=F1*sqrt(2^(1/n)-1),i.e.,BW=F1\n",
"        Avmid=-gm*Rl;//mid frequency gain\n",
"        GBW=Avmid*BW;// gain-bandwidth product\n",
"        disp('********For Rl=100 Ohm********')\n",
"        disp('MHz',F1/10^6,'first break frequency is:')\n",
"        disp('MHz',F2/10^6,'second break frequency is:')\n",
"        disp('MHz',BW/10^6,'Bandwidth is:')\n",
"        disp(abs(Avmid),'mid frequency gain is:')\n",
"        disp('MHz',abs(GBW)/10^6,'gain-bandwidth product is:')\n",
"    end\n",
"end"
   ]
   }
],
"metadata": {
		  "kernelspec": {
		   "display_name": "Scilab",
		   "language": "scilab",
		   "name": "scilab"
		  },
		  "language_info": {
		   "file_extension": ".sce",
		   "help_links": [
			{
			 "text": "MetaKernel Magics",
			 "url": "https://github.com/calysto/metakernel/blob/master/metakernel/magics/README.md"
			}
		   ],
		   "mimetype": "text/x-octave",
		   "name": "scilab",
		   "version": "0.7.1"
		  }
		 },
		 "nbformat": 4,
		 "nbformat_minor": 0
}
