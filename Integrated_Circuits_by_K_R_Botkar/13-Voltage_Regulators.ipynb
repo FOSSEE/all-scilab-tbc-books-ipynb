{
"cells": [
 {
		   "cell_type": "markdown",
	   "metadata": {},
	   "source": [
       "# Chapter 13: Voltage Regulators"
	   ]
	},
{
		   "cell_type": "markdown",
		   "metadata": {},
		   "source": [
			"## Example 13.14: Inductor_and_Capacitor.sci"
		   ]
		  },
  {
"cell_type": "code",
	   "execution_count": null,
	   "metadata": {
	    "collapsed": true
	   },
	   "outputs": [],
"source": [
"//Chapter 13_Voltage Regulators\n",
"//Caption : Inductor and Capacitor\n",
"//Example13.14: A switching voltage regulator operates at a switching frequency of 30kHz and is to supply a load current Io of 1 A at a dc output voltage Vo of +10V.The dc input voltage is Vin=20V and the output(peak-peak) ripple factor is not to exceed 0.05%. Assume Rl=10 Ohm.\n",
"//a)Find the value of the filter inductor L such that the maximum change or ripple in the current through the inductor will not exceed 40% of the average or dc current.\n",
"//b)Find the value of the outpur capacitor CL for L1=100 uH and for L2=500 uH.\n",
"clear;\n",
"clc;\n",
"//a)Solution:\n",
"Rl=10;\n",
"D=0.5;\n",
"T=2.5;\n",
"fs=30*10^3;\n",
"L=Rl*T*(1-D)/fs;\n",
"disp('uH',L/10^-6,'filter inductor L to ensure maximum ripple in the current through the inductor will not exceed 40% of the dc current is:')\n",
"//b)Solution:\n",
"L1=100*10^-6;\n",
"RF=0.05*10^2;//output (peak-peak)ripple factor maximum limit\n",
"//for ripple factor condition we have\n",
"CL1=1/(15*fs^2*L1*RF);\n",
"disp('********For L=100 uH********')\n",
"disp('uF',CL1*10^10,'output capacitor is:')\n",
"disp('********For L=500 uH********')\n",
"L2=500*10^-6;\n",
"CL2=1/(15*fs^2*L2*RF);\n",
"disp('uF',CL2*10^10,'output capacitor is:')"
   ]
   }
,
{
		   "cell_type": "markdown",
		   "metadata": {},
		   "source": [
			"## Example 13.3: Maximum_Efficiency_and_Power.sci"
		   ]
		  },
  {
"cell_type": "code",
	   "execution_count": null,
	   "metadata": {
	    "collapsed": true
	   },
	   "outputs": [],
"source": [
"//Chapter 13_Voltage Regulators\n",
"//Caption : Maximum Efficiency and Power\n",
"//Example13.3: Calculate the maximum efficiency and associated power dissipation for the 5 V MC7805 series regulator.The input ripple is 10 V and the load current is 1 A. The output is between 4.75 to 5.25 for &v<=Vin<=20 V.\n",
"//Solution:\n",
"clear;\n",
"clc;\n",
"Vo=5;\n",
"Vin=17;//since for MC7805 a maximum of 7.5 V is added to the ripple.Since 10 V ropple is given so Vin=10+7=17 V\n",
"Il=1;//load current in ampere\n",
"n=Vo/Vin*100;//series pass reguator overall efficiency\n",
"Pd=(Vin-Vo)*Il;\n",
"disp('%',n,'maximum efficiency for 5V MC7805 series regulator is:')\n",
"disp('W',Pd,'power dissipation for the 5V MC7805 series regulator is:')"
   ]
   }
],
"metadata": {
		  "kernelspec": {
		   "display_name": "Scilab",
		   "language": "scilab",
		   "name": "scilab"
		  },
		  "language_info": {
		   "file_extension": ".sce",
		   "help_links": [
			{
			 "text": "MetaKernel Magics",
			 "url": "https://github.com/calysto/metakernel/blob/master/metakernel/magics/README.md"
			}
		   ],
		   "mimetype": "text/x-octave",
		   "name": "scilab",
		   "version": "0.7.1"
		  }
		 },
		 "nbformat": 4,
		 "nbformat_minor": 0
}
