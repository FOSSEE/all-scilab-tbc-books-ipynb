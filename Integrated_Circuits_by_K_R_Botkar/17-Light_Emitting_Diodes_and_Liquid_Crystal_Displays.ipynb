{
"cells": [
 {
		   "cell_type": "markdown",
	   "metadata": {},
	   "source": [
       "# Chapter 17: Light Emitting Diodes and Liquid Crystal Displays"
	   ]
	},
{
		   "cell_type": "markdown",
		   "metadata": {},
		   "source": [
			"## Example 17.2: Viewing_distance.sci"
		   ]
		  },
  {
"cell_type": "code",
	   "execution_count": null,
	   "metadata": {
	    "collapsed": true
	   },
	   "outputs": [],
"source": [
"//Chapter 17_Light Emitting Diodes and Liquid Crystal Displays\n",
"//Caption :Viewing distance\n",
"//Example17.2: Find out the viewinng distance d for a seven segmant LED display for a character height of 1cm and a height angle of 3 meters.\n",
"//Solution:\n",
"clear;\n",
"clc;\n",
"//d:viewing distance\n",
"h=1*10^-2;//height of character in cm\n",
"O=3;//height angle in meters\n",
"// equivaqlent to height angle of 3 meters\n",
"d=h/tan(0.167*%pi/180);//where 3 meters height angle is equivalent to 0.167 degrees.\n",
"disp('meters',d,'viewing distance is:')"
   ]
   }
],
"metadata": {
		  "kernelspec": {
		   "display_name": "Scilab",
		   "language": "scilab",
		   "name": "scilab"
		  },
		  "language_info": {
		   "file_extension": ".sce",
		   "help_links": [
			{
			 "text": "MetaKernel Magics",
			 "url": "https://github.com/calysto/metakernel/blob/master/metakernel/magics/README.md"
			}
		   ],
		   "mimetype": "text/x-octave",
		   "name": "scilab",
		   "version": "0.7.1"
		  }
		 },
		 "nbformat": 4,
		 "nbformat_minor": 0
}
