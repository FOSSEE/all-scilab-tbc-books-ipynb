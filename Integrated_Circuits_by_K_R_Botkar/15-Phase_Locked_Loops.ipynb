{
"cells": [
 {
		   "cell_type": "markdown",
	   "metadata": {},
	   "source": [
       "# Chapter 15: Phase Locked Loops"
	   ]
	},
{
		   "cell_type": "markdown",
		   "metadata": {},
		   "source": [
			"## Example 15.2: Output_Signal_Frequency.sci"
		   ]
		  },
  {
"cell_type": "code",
	   "execution_count": null,
	   "metadata": {
	    "collapsed": true
	   },
	   "outputs": [],
"source": [
"//Chapter 15_Phase Locked Loops\n",
"//Caption : Output Signal Frequency\n",
"//Example 15.2: A PLL has a Ko of 2*%pi(1kHz)/V, a Kv of 500 per sec, and a free running frequency of 500Hz.\n",
"//a) For a constant input signal frequency of 250 Hz and 1kHz.find vf.\n",
"clear;\n",
"clc;\n",
"//a)Solution:\n",
"Ko=2*%pi*10^3;// VCO gain in kHz/V\n",
"Kv=500;//loop bandwith in per second\n",
"Wc=500;//Free running frequency of VCO in PLL or 2*%pi*500\n",
"//Wi=angular input signal  frequency in Hz\n",
"//Wo=angular output signal frequency in Hz\n",
"//since vf=(Wo(t)-Wc)/Ko\n",
"//under locked condition Wo=Wi, so vf=(Wo-Wc)/Ko\n",
"for i=1:2,\n",
"    if i==1 then \n",
"        Wo=250;\n",
"        //or \n",
"        Fo=2*%pi*Wo;//in Hz\n",
"vf=(Fo-2*%pi*500)/Ko;\n",
"disp('********For input signal frequency W=250 Hz********')\n",
"disp('V',vf,'output signal voltage of PLL for  Wo=250 Hz is:')\n",
"else\n",
"    Wo=1000;\n",
"    Fo=2*%pi*Wo;//in Hz\n",
"    vf=(Fo-2*%pi*500)/Ko;\n",
"    disp('********For input signal frequency Wo=1 kHz********')\n",
"    disp('V',vf,'output signal voltage of PLL for  Wo=1kHz is:')\n",
"end\n",
"end"
   ]
   }
,
{
		   "cell_type": "markdown",
		   "metadata": {},
		   "source": [
			"## Example 15.3: VCO_and_Phase_detector.sci"
		   ]
		  },
  {
"cell_type": "code",
	   "execution_count": null,
	   "metadata": {
	    "collapsed": true
	   },
	   "outputs": [],
"source": [
"//Chapter 15_Phase Locked Loops\n",
"//Caption : VCO and Phase detector\n",
"//Example15.3: A PLL has free running frequency Wc=500 kHz,bandwith of low pass filter=10kHz. Suppose an input signal of frequency 600kHz is applied.Will the loop acquire lock? What is VCO output frequency? The phase detector produces sum and difference frequency components.\n",
"//Solution:\n",
"clear;\n",
"clc;\n",
"BW=10;//bandwidth of low pass filter in kHz\n",
"Fi=600;//input frequency in kHz\n",
"Fc=500;//free running frequency in kHz\n",
"// Output from phase detector is\n",
"Sum=Fi+Fc;\n",
"Difference=Fi-Fc;\n",
"disp('kHz',Sum,'sum frequency component of phase detector in kHz')\n",
"disp('kHz',Difference,'difference frequency component of phase detector in kHz')\n",
"if Sum>BW then\n",
"    if Difference>BW then\n",
"    disp('Both Sum and Difference frequency components are outside the passbandof low-pass filter')\n",
"    disp('Loop will not acquire lock')\n",
"    disp('VCO frequency will be its free running frequency')\n",
"end\n",
"end"
   ]
   }
,
{
		   "cell_type": "markdown",
		   "metadata": {},
		   "source": [
			"## Example 15.4: Second_Order_Butterworth_Filter.sci"
		   ]
		  },
  {
"cell_type": "code",
	   "execution_count": null,
	   "metadata": {
	    "collapsed": true
	   },
	   "outputs": [],
"source": [
"//Chapter 15_Phase Locked Loops\n",
"//Caption : Second Order Butterworth Filter\n",
"//Example 15.4: A Synthesizer using PLL has Kv=5*%pi rad/s. What value of low-pass filter bandwidth should be used so that the closed-loop system approximates a second-order Butterworth filter?\n",
"//Solution:\n",
"clear;\n",
"clc; \n",
"//For Butterworth filter the damping ratio(Dr) is\n",
"Dr=0.707;\n",
"Kv=5*%pi;\n",
"Wl=Kv*(2*Dr)^2;//since (Wl/Kv)^2=2*Dr\n",
"disp('rad/sec',Wl,'low pass filter bandwidth')\n",
"// BW for closed loop system is\n",
"BW=sqrt(Kv*Wl);// since BW=Wn, where Wn=natural frequency,BW=bandwidth of closed loop system\n",
"Wn=real(BW);\n",
"t=2.2/Wn;\n",
"disp('rad/sec',BW,'bandwidth of closed loop system is:')\n",
"disp('sec',t,'corresponding system rise time is:')"
   ]
   }
,
{
		   "cell_type": "markdown",
		   "metadata": {},
		   "source": [
			"## Example 15.5: Lock_Range.sci"
		   ]
		  },
  {
"cell_type": "code",
	   "execution_count": null,
	   "metadata": {
	    "collapsed": true
	   },
	   "outputs": [],
"source": [
"//Chapter 15_Phase Locked Loops\n",
"//Caption : Lock Range\n",
"//Example15.5: A PLL has a VCO with Ko=25kHz/V and Fc=50kHz.The amplifier gain is A=2 and the phase detector has a maximum output voltage swing of +0.7V and -0.7V. Find the lock range of the PLL.Assume filter gain equal to unity.\n",
"//Solution:\n",
"clear;\n",
"clc;\n",
"k1=2*0.7/%pi;//positive maximum gain value of phase detector\n",
"k2=-k1;//negative maximum gain value of phase detector\n",
"A=2;// amplifier gain\n",
"Ko=25;// VCO gain in kHz\n",
"//positive maximum output voltage swing of phase detector is\n",
"V1=k1*%pi/2;\n",
"//Negative maximum output voltage swing of phase detector is\n",
"V2=k2*%pi/2;\n",
"Vf1=k1*A*%pi/2;//Positive maximum control voltage available to drive VCO\n",
"Vf2=k2*A*%pi/2;//negative maximum control voltage available to drive VCO\n",
"//maximum VCO frequency swing that can be obtained is\n",
"Fh=Ko*Vf1;//positive maximum VCO frequency swing\n",
"Fl=Ko*Vf2;// Negative maximum VCO frequency swing\n",
"// so lock range of PLL is\n",
"f=Fh-Fl;\n",
"disp('kHz',f,'The lock range of the PLL is:')"
   ]
   }
],
"metadata": {
		  "kernelspec": {
		   "display_name": "Scilab",
		   "language": "scilab",
		   "name": "scilab"
		  },
		  "language_info": {
		   "file_extension": ".sce",
		   "help_links": [
			{
			 "text": "MetaKernel Magics",
			 "url": "https://github.com/calysto/metakernel/blob/master/metakernel/magics/README.md"
			}
		   ],
		   "mimetype": "text/x-octave",
		   "name": "scilab",
		   "version": "0.7.1"
		  }
		 },
		 "nbformat": 4,
		 "nbformat_minor": 0
}
