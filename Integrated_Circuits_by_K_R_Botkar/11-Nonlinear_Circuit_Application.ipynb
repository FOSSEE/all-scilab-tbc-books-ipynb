{
"cells": [
 {
		   "cell_type": "markdown",
	   "metadata": {},
	   "source": [
       "# Chapter 11: Nonlinear Circuit Application"
	   ]
	},
{
		   "cell_type": "markdown",
		   "metadata": {},
		   "source": [
			"## Example 11.11: Design_Peak_Detector.sci"
		   ]
		  },
  {
"cell_type": "code",
	   "execution_count": null,
	   "metadata": {
	    "collapsed": true
	   },
	   "outputs": [],
"source": [
"//Chapter 11_Nonlinear Circuit Application\n",
"//Caption :Design Peak Detector\n",
"//Example11.11: Design a positive peak detector using type uA 760 comparator that can respond to a 100 mV(pp),5 MHz sinusoidal input signal.The device has following specifications. Response time=25 ns, propagation time=12 ns, and Input bias current=8uA.\n",
"//Solution:\n",
"clear;\n",
"clc;\n",
"Vp=50*10^-3;//since peak-peak voltage is 100 mV\n",
"f=5*10^6;\n",
"T=200*10^-9;\n",
"t=15*10^-9//since rise time(t) should be greater than propagation delay(12ns)\n",
"deltaVc=Vp*(1-cos(4*t/T*90*(%pi)/180));\n",
"Ib=8*10^-6;//input bias current\n",
"C=Ib/(deltaVc/T);\n",
"disp('mV',deltaVc*10^3,'voltage change is:')\n",
"disp('pF',C*10^12,'capacitor value is:')\n",
"//Note:\n",
"// the Exact value as calculated is taken to calculate C, so C=293.59555 pF. If approx value of deltaVc is taken as 5 mV then C=320 pF"
   ]
   }
,
{
		   "cell_type": "markdown",
		   "metadata": {},
		   "source": [
			"## Example 11.4: Time_take.sci"
		   ]
		  },
  {
"cell_type": "code",
	   "execution_count": null,
	   "metadata": {
	    "collapsed": true
	   },
	   "outputs": [],
"source": [
"//Chapter 11_Nonlinear Circuit Application\n",
"//Caption :Time taken\n",
"//Example11.4: b)Type 741 Op-amp is used as a comparator and its slew rate is 0.5V/us.How long will it change from +10 V to -10v?\n",
"//b)Solution:\n",
"clear;\n",
"clc;\n",
"deltaVo=10-(-10);\n",
"SlewRate=0.5*10^-6;\n",
"t=deltaVo/SlewRate;\n",
"disp('us',t/10^6,'time taken by the output voltage to change from +10 V to -10 V is:')"
   ]
   }
,
{
		   "cell_type": "markdown",
		   "metadata": {},
		   "source": [
			"## Example 11.5: Rise_Time.sci"
		   ]
		  },
  {
"cell_type": "code",
	   "execution_count": null,
	   "metadata": {
	    "collapsed": true
	   },
	   "outputs": [],
"source": [
"//Chapter 11_Nonlinear Circuit Application\n",
"//Caption : Rise Time\n",
"//Example11.5: The upper 3-dB frequency of an Op-Amp is 1MHz.Calculate the rise time of the output. If the upper 3-dB frequency of the Op-Amp is increased to 50 MHz by reducing the gain such that gain bandwidth product remains constant,then find out the new rise time.Discuss the effect of increasing bandwidth on accuracy of comparator.\n",
"//Solution:\n",
"clear;\n",
"clc;\n",
"F3dB=1*10^6;//upper 3-dB frequency of Op-Amp\n",
"Tr=0.35/F3dB;//from definition of rise time\n",
"disp('n sec',Tr*10^9,'Rise time of the output is:')\n",
"F3dB1=50*10^6;\n",
"Tr1=0.35/F3dB1;\n",
"disp('n sec',Tr1*10^9,'Rise time of the output is:')"
   ]
   }
],
"metadata": {
		  "kernelspec": {
		   "display_name": "Scilab",
		   "language": "scilab",
		   "name": "scilab"
		  },
		  "language_info": {
		   "file_extension": ".sce",
		   "help_links": [
			{
			 "text": "MetaKernel Magics",
			 "url": "https://github.com/calysto/metakernel/blob/master/metakernel/magics/README.md"
			}
		   ],
		   "mimetype": "text/x-octave",
		   "name": "scilab",
		   "version": "0.7.1"
		  }
		 },
		 "nbformat": 4,
		 "nbformat_minor": 0
}
