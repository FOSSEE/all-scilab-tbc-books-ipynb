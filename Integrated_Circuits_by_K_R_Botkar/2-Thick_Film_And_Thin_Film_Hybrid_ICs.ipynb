{
"cells": [
 {
		   "cell_type": "markdown",
	   "metadata": {},
	   "source": [
       "# Chapter 2: Thick Film And Thin Film Hybrid ICs"
	   ]
	},
{
		   "cell_type": "markdown",
		   "metadata": {},
		   "source": [
			"## Example 2.10: Absolute_Coefficient.sci"
		   ]
		  },
  {
"cell_type": "code",
	   "execution_count": null,
	   "metadata": {
	    "collapsed": true
	   },
	   "outputs": [],
"source": [
"//Chapter 2_Thick Film and Thin Film Hybrid ICs\n",
"//Caption : Absolute Coefficient\n",
"//Example2.10:A thin film resistor measures 150ohmat 25degree celcius and 151.5ohm at 100degree celcius. Calculate its absolute coefficient of resistance in parts per million(ppm) per degre celcius.\n",
"//Solution:\n",
"clear;\n",
"clc;\n",
"function TCR=absresistor(Rt1,Rt2,T1,T2)// TCR:absolute temperature coefficient of resistance, Rt1:resistance at 100 degree celcius=150ohm, Rt2:resistance at 25degree celcius=151.5ohm, T1:temperature=100degree celcius, T2:temperature=25degree celcius\n",
"    TCR=(Rt2-Rt1)*10^6/(Rt1*(T1-T2)) \n",
"    disp('absolute coefficient of resistance is=')// include ';' at the time of calling the function at last\n",
"    disp('ppm/degree Celsius',TCR)// ppm: part per million\n",
"endfunction\n",
"//absresistor(150,151.5,100,25);"
   ]
   }
,
{
		   "cell_type": "markdown",
		   "metadata": {},
		   "source": [
			"## Example 2.11: Ratio.sci"
		   ]
		  },
  {
"cell_type": "code",
	   "execution_count": null,
	   "metadata": {
	    "collapsed": true
	   },
	   "outputs": [],
"source": [
"//Chapter 2_Thick Film and Thin Film Hybrid ICs\n",
"//Caption : Ratio\n",
"//Example2.11: Two thin resistor are measured at 50 degree celcius and 100degree celsius and are found to have the following values:\n",
"//Temperatur(degree C)                Ra(ohm)           Rb(ohm)\n",
"//      50                              50                100\n",
"//      100                             51                102.1\n",
"//Calcullate the ratio TCR in ppm/degree celcius.\n",
"//Solution: \n",
"function TCR= ratio(Rat1,Rbt1,Rat2,Rbt2,T1,T2)\n",
"    TCR=(Rat2/Rbt2-Rat1/Rbt1)*10^6/((Rat1/Rbt1)*(T1-T2))\n",
"    disp('ratio TCR is=')// iinclude ';' at the time of calling the function at last\n",
"    disp('ppm/degree Celsius',TCR)//ppm: part per million\n",
"endfunction\n",
"//ratio(100,50,102.1,51,100,50);"
   ]
   }
,
{
		   "cell_type": "markdown",
		   "metadata": {},
		   "source": [
			"## Example 2.1: Resistance.sci"
		   ]
		  },
  {
"cell_type": "code",
	   "execution_count": null,
	   "metadata": {
	    "collapsed": true
	   },
	   "outputs": [],
"source": [
"//Chapter 2_Thick Film and Thin Film Hybrid ICs\n",
"//Caption : Resistance\n",
"//Example2.1: a) A resistor has an aspect ratio of 20:1 and sheet resistance of 200 ohm/square. Find out the value of resistance.\n",
"// b) Find out the number of squares contained in a 2kiloohm resistor whose sheet resistance is 200 ohm per square.\n",
"//Solution: a)\n",
"clear;\n",
"clc;\n",
"function y= myfunction(x,z)//y:resistance, x: sheet resistance=200ohm/square, z: aspect ratio=20:1\n",
"y = x*z //since,resiatance=sheet resistance\n",
"disp('resistance is=')\n",
"disp('ohm',y)\n",
"endfunction\n",
"\n",
"// Solution: b)\n",
"// we have to find number of square which is to find aspect ratio.\n",
"function s=myfunction1(r,p)//r:resistor=2kohm(or 2000ohm), p:sheet resistance=200 Ohm/square, s: number of square(aspect ratio)\n",
"s=r/p//since, number of square=(resistor/sheet resistance)\n",
"disp('number of squares are=')// include ';'at the time of calling the function\n",
"disp('squares',s)\n",
"endfunction\n",
"//myfunction(200,20/1);myfunction1(2000,200);"
   ]
   }
,
{
		   "cell_type": "markdown",
		   "metadata": {},
		   "source": [
			"## Example 2.2: Resistance_Calculation.sci"
		   ]
		  },
  {
"cell_type": "code",
	   "execution_count": null,
	   "metadata": {
	    "collapsed": true
	   },
	   "outputs": [],
"source": [
"//Chapter 2_Thick Film and Thin Film Hybrid ICs\n",
"//Caption: Resistance calculation\n",
"//Example2.2: A thick film resistor is screened with a paste off sheet resistivity 10000 ohm/square,and the resistor is defined as 0.24 cm long and 0.06 cm wide. Calculate the resistance R.\n",
"// Solution:\n",
"clear;\n",
"clc;\n",
"function R=myfunction3(p,l,w)//r:resistor, p=sheet resistance=10000 ohm/square, l:length of resistor=0.24cm, w:width of the resistor=0.06cm\n",
"    R=p*(l/w)//since, resistance=sheet resistance*(length of resistor/width of the resistor)\n",
"    disp('resistance of the thick film resistor is=')// at the time of calling the function include ';' after it\n",
"    disp('ohm',R)\n",
"endfunction\n",
"// myfunction3(10000,0.24,0.06);"
   ]
   }
,
{
		   "cell_type": "markdown",
		   "metadata": {},
		   "source": [
			"## Example 2.3: Sheet_Resistivity.sci"
		   ]
		  },
  {
"cell_type": "code",
	   "execution_count": null,
	   "metadata": {
	    "collapsed": true
	   },
	   "outputs": [],
"source": [
"//Chapter 2_Thick Film and Thin Film Hybrid ICs\n",
"//Caption : Sheet Resistivity\n",
"//Example2.3: Calculate the sheet resistivity of a square of thick film resistor material with the following properties: bulk resistivity=10^-1ohm-cm and thick film thickness=10micrometer.\n",
"//Solution:\n",
"clear;\n",
"clc;\n",
"function Ps=myfunction4(p,t)// Ps:sheet resistance, p:bulk resistivity of thick film=10^-1(or 0.01), t:thickness of thick film=10micrometer(=10*10^-4=0.001)\n",
"    Ps=p/t// since, sheet resistance of the film=bulk resistance of the film/thickness of the film\n",
"    disp('sheet resistivity is=')// include ';' atat the time of calling the function\n",
"    disp('ohm per square',Ps)\n",
"endfunction\n",
"//myfunction4(10^-1,10*10^-4);"
   ]
   }
,
{
		   "cell_type": "markdown",
		   "metadata": {},
		   "source": [
			"## Example 2.4: Design_Capacitor.sci"
		   ]
		  },
  {
"cell_type": "code",
	   "execution_count": null,
	   "metadata": {
	    "collapsed": true
	   },
	   "outputs": [],
"source": [
"//Chapter 2_Thick Film and Thin Film Hybrid ICs\n",
"//Caption : Design Capacitor\n",
"//Example2.4: Design a circular 100pF capacitor with the thick film dielectric having dielectric film thickness=0.02mm(or 0.002cm), assume Er=100\n",
"//Solution: We have to find the radius of crcular capacitor inorder to design it.\n",
"clear;\n",
"clc;\n",
"function r1= myfunction5(c,t)\n",
"    r1=c*t// constant=capacitor * thickness of thick film\n",
"    Er=100//given relative permeability of thick film\n",
"    r=sqrt(r1/(Er*%pi*8.85*10^-12))//radius of circular capacitor, Eo=8,85*10^-12(dielectric constant of free space)\n",
"    disp('radius of circular capacitor is=')//include ';' at the time of calling the function \n",
"    disp('meter',r)\n",
"endfunction\n",
"//myfunction5(100*10^-12,0.002);"
   ]
   }
,
{
		   "cell_type": "markdown",
		   "metadata": {},
		   "source": [
			"## Example 2.6: Capacitance.sci"
		   ]
		  },
  {
"cell_type": "code",
	   "execution_count": null,
	   "metadata": {
	    "collapsed": true
	   },
	   "outputs": [],
"source": [
"//Chapter 2_Thick Film and Thin Film Hybrid ICs\n",
"//Caption : Capacitance\n",
"//Example2.6: Find out the capacitance of a thick film capacitor,if the dielectric constant Er=100,dielectric film thickness=25micrometer and area A=0.0625 cm square. \n",
"//Solution:\n",
"clear;\n",
"clc;\n",
"function c=capacitance(Er,A,t)\n",
"    c=8.8*10^-12*Er*A/(10^-12*t)// capacitance value will be 2.2*10^-10 or 220pF, Eo:dielectric constant of free space=8.8*10^-12, Er: dielectric constant of thick film= 100(given), A:area of thick film=0.0626 cm square( or 0.0625*10^-4m square), t:thickness of the thick film= 25*10^-6m)\n",
"    // capacitance=Eo*Er*A/t\n",
"    disp('capacitance is=')// c=2.200D-10(=2.2*10^-10)F, include ';' at last at the time of calling the function\n",
"    disp('pF',c)//pF:pico Farad\n",
"endfunction\n",
"//capacitance(100,0.0625*10^-4,25*10^-6);"
   ]
   }
,
{
		   "cell_type": "markdown",
		   "metadata": {},
		   "source": [
			"## Example 2.8: Thickness.sci"
		   ]
		  },
  {
"cell_type": "code",
	   "execution_count": null,
	   "metadata": {
	    "collapsed": true
	   },
	   "outputs": [],
"source": [
"//Chapter 2_Thick Film and Thin Film Hybrid ICs\n",
"//Caption : Thickness\n",
"//Example2.8: The bulk resistivity of nichrom is 120uohm-cm. Calculate the thickness T in angstroms of a film with sheet resistivity of 100ohm/square. \n",
"// Solution:\n",
"function T=thickness(Ps,p)// Ps: sheet resistivity of nichrom=100ohm/square, p:bulk resistivity of nichrom=120uohm-cm\n",
"    T=p/(Ps*10^-8)// since Ps=p/T and 1 angstrom =10^-8cm, so dividing by 10^-8 here\n",
"    disp('thickness is=')// include ';' at the time of callimg the function\n",
"    disp('angstrom',T)\n",
"endfunction\n",
"//thickness(100,120*10^-6);"
   ]
   }
,
{
		   "cell_type": "markdown",
		   "metadata": {},
		   "source": [
			"## Example 2.9: Length.sci"
		   ]
		  },
  {
"cell_type": "code",
	   "execution_count": null,
	   "metadata": {
	    "collapsed": true
	   },
	   "outputs": [],
"source": [
"//Chapter 2_Thick Film and Thin Film Hybrid ICs\n",
"//Caption : Length\n",
"//Rxample2.9: Calculate the length of a 400ohm thin film resistor.Given a sheet resistivity oof 100ohm/square and a resistor width of 100um\n",
"//Solution: \n",
"clear;\n",
"clc;\n",
"function L=extent(r,w,Ps)// L:length of thin film, r:resistance of thin film=400ohm, w:width of resistor=100um, Ps:sheet resistance=100ohm/square\n",
"    L=r*w/(10^-6*Ps)//since, r=Ps*L/w and length in micrometer so dividing by 10^-6.\n",
"    disp('length of thin film is=')// include';' at the time of calling the function at last\n",
"    disp('micrometer',L)\n",
"endfunction\n",
"//extent(400,100*10^-6,100);"
   ]
   }
],
"metadata": {
		  "kernelspec": {
		   "display_name": "Scilab",
		   "language": "scilab",
		   "name": "scilab"
		  },
		  "language_info": {
		   "file_extension": ".sce",
		   "help_links": [
			{
			 "text": "MetaKernel Magics",
			 "url": "https://github.com/calysto/metakernel/blob/master/metakernel/magics/README.md"
			}
		   ],
		   "mimetype": "text/x-octave",
		   "name": "scilab",
		   "version": "0.7.1"
		  }
		 },
		 "nbformat": 4,
		 "nbformat_minor": 0
}
