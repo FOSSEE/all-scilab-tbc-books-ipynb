{
"cells": [
 {
		   "cell_type": "markdown",
	   "metadata": {},
	   "source": [
       "# Chapter 4: Network Theorems"
	   ]
	},
{
		   "cell_type": "markdown",
		   "metadata": {},
		   "source": [
			"## Example 4.10: Voltage_And_Power.sce"
		   ]
		  },
  {
"cell_type": "code",
	   "execution_count": null,
	   "metadata": {
	    "collapsed": true
	   },
	   "outputs": [],
"source": [
"\n",
"              // Examle 4.10\n",
"\n",
"             // From Diagram 4.12\n",
"\n",
"P=25;                              // Power\n",
"Rl=8;                              // Load resistance\n",
"Vth=P*4*Rl;                        // Thevenin's equivalent voltage\n",
"\n",
"           // If Load is Short-ckt (RL=0)\n",
"Vo=0;                              // Voltage\n",
"IL=1;                              // load current \n",
"Po1=Vo*IL;                         // O/p power\n",
"\n",
"           // If Load is Open-ckt ( RL=infinity )\n",
"IL1=0;                             // Load current\n",
"Vo1=1;                             // Voltage\n",
"Po2=Vo1*IL1;                       // O/p power          \n",
"           \n",
"x=[0 2 4 6 8 16 32 ];              // Diffrent value of RL\n",
"y=[0 16 22.22 24.49 25 22.22 16 ]  // Value of Power         \n",
"           \n",
"plot2d(x,y);                       // To plot graph           \n",
"xlabel('RL (in Ohms )--->');       // For X-Label      \n",
"ylabel('Po (in W ---->')           // For Y-Label\n",
"\n",
"\n",
"\n",
"             //  View  p 115            4.10"
   ]
   }
,
{
		   "cell_type": "markdown",
		   "metadata": {},
		   "source": [
			"## Example 4.11: Current_And_Resistance.sce"
		   ]
		  },
  {
"cell_type": "code",
	   "execution_count": null,
	   "metadata": {
	    "collapsed": true
	   },
	   "outputs": [],
"source": [
"                             // Examle 4.11\n",
"               // From the diagram (4.14)\n",
" \n",
"Req=2+{(12*4)/(12+4)}+4;            // Equivalent resistance (for 4.14a )\n",
"v=36;                               // Voltage source\n",
"i=v/Req;                            // Current supply by the voltage source\n",
"I=i*(12/(12+4));                    // Current in branch B  ==> { by current divider }\n",
"disp(' Current in branch B = '+string(I)+' Amp');\n",
"Req1=3+{(12*6)/(12+6)}+1;           // Equivalent resistance (for 4.14b )\n",
"i1=v/Req1;                          // Current supply by the voltage source\n",
"I1=i1*(12/(12+6));                  // Current in branch A  ==> { by current divider }\n",
"disp(' Current in branch A = '+string(I1)+' Amp');\n",
"Rtr=v/I;                           // Transfer resistance\n",
"disp(' Transfer resistance from Branch A to B = '+string(Rtr)+' Ohm');\n",
"                      // p 117         4.11"
   ]
   }
,
{
		   "cell_type": "markdown",
		   "metadata": {},
		   "source": [
			"## Example 4.1: Current.sce"
		   ]
		  },
  {
"cell_type": "code",
	   "execution_count": null,
	   "metadata": {
	    "collapsed": true
	   },
	   "outputs": [],
"source": [
"                             // Examle 4.1\n",
"               // Reffer the diagram (4.2a)\n",
"               // Using Superpositon theorem\n",
"I=-0.5;                       // Source current\n",
"I1=I*(0.3/(0.1+0.3));         // When 0.5-A Current source is on { by voltage divider }\n",
"V=80*10^-3;                   // Voltage source\n",
"I2=(V/(0.1+0.3));             // When 80-mV voltage source is on { by ohm's law }\n",
"i=I1+I2;                      // Current in the circuit  { by Superpositon theorem }\n",
"disp(' Current in the circuit = '+string(i)+' Amp');\n",
"           //   p 105          4.1"
   ]
   }
,
{
		   "cell_type": "markdown",
		   "metadata": {},
		   "source": [
			"## Example 4.2: Current.sce"
		   ]
		  },
  {
"cell_type": "code",
	   "execution_count": null,
	   "metadata": {
	    "collapsed": true
	   },
	   "outputs": [],
"source": [
"                             // Examle 4.2\n",
"               // Reffer the diagram (4.3)\n",
"               // Using Superpositon theorem\n",
"V=10;                         // Voltage source\n",
"I1=(V/(50+150));              // When 10-V voltage source is on { by ohm's law }\n",
"i1=40;                        // Source current\n",
"I2=i1*(150/(50+150));         // When 40-A Current source is on { by current divider }\n",
"i2=-120;                      // Source current\n",
"I3=i2*(50/(50+150));          // When (-120)-A Current source is on { by current divider }\n",
"I=I1+I2+I3;                   // Current in the circuit  { by Superpositon theorem }\n",
"disp(' Current in the circuit = '+string(I)+' Amp');\n",
"           //   p 106          4.2"
   ]
   }
,
{
		   "cell_type": "markdown",
		   "metadata": {},
		   "source": [
			"## Example 4.3: Voltage.sce"
		   ]
		  },
  {
"cell_type": "code",
	   "execution_count": null,
	   "metadata": {
	    "collapsed": true
	   },
	   "outputs": [],
"source": [
"\n",
"\n",
"                  //  Example 4.3\n",
"\n",
"            // From the diagram 4.5\n",
"            // Using super position theorem\n",
"            // 4-A current source is active\n",
"            \n",
"i=4/{1+(2+3)};          // Current\n",
"R=3;                    // Rsistance of 3 Ohms\n",
"V4=i*R;                 // Voltage across 3 Ohms resistance in Case-1\n",
"\n",
"            // 5-A current source is active\n",
"i5=5;                       // 5-A current source             \n",
"V5=(-i5)*{1/[1+(2+3)]*3};   // Voltage across 3 Ohms resistance in Case-2  \n",
"\n",
"            // 6-V voltage source is active\n",
"i6=6;                      // 6-A current source                 \n",
"V6=i6*{3/[1+(2+3)]};       // Voltage across 3 Ohms resistance in Case-3            \n",
"            \n",
"V=V4+V5+V6;                // Voltage across 3 Ohms resistance\n",
"disp(' Voltage across 3 Ohms resistance is = '+string(V)+' Volt');             \n",
"            \n",
"              \n",
"            \n",
"            \n",
"                //  p 106             4.3"
   ]
   }
,
{
		   "cell_type": "markdown",
		   "metadata": {},
		   "source": [
			"## Example 4.4: Current.sce"
		   ]
		  },
  {
"cell_type": "code",
	   "execution_count": null,
	   "metadata": {
	    "collapsed": true
	   },
	   "outputs": [],
"source": [
"                             // Examle 4.4\n",
"               // From the diagram (4.6a)\n",
"               // Using Superpositon theorem\n",
"V=10;                         // Voltage source\n",
"I1=(V/(2+4+6));               // When 10-V voltage source is on { by ohm's law }\n",
"                              // we have to find Is= ?\n",
"                              // When Is-A Current source is on\n",
"                              // will have { I2= -(2/3)Is }\n",
"                              // given that I1+I2= 0\n",
"                              //  there for 5/6 - (2/3)Is= 0\n",
"Is=(5*3)/(6*2);               // Source current\n",
"disp(' The value of source current (Is)  = '+string(Is)+' Amp');\n",
"           //   p 108          4.4"
   ]
   }
,
{
		   "cell_type": "markdown",
		   "metadata": {},
		   "source": [
			"## Example 4.5: Voltage.sce"
		   ]
		  },
  {
"cell_type": "code",
	   "execution_count": null,
	   "metadata": {
	    "collapsed": true
	   },
	   "outputs": [],
"source": [
"                             // Examle 4.5\n",
"               // From the diagram (4.8)\n",
"               // Using thevenin's equivalent theorem\n",
"V1=50;                             // Voltage source V1\n",
"V2=10;                             // Voltage source V2\n",
"I1=(V1-V2)/(10+10+20);             // Current through the ckt ( when Current source is off )\n",
"i=1.5;                            // Current source i\n",
"I2=i*(10/(10+(10+20)));           // Current through the ckt ( when Current source is active )\n",
"I=I1+I2;                          // Addition of I1 & I2\n",
"Vth= I*20;                        // Thevenin's voltage at 20 Ohms R\n",
"Rth=(20*(10+10))/(20+(10+10));    // Thevenin's resistance \n",
"Vl=Vth*(5/(5+10));                // Voltage across Rl\n",
"disp(' Voltage across olad resistor (Rl) = '+string(Vl)+' Volt');\n",
"                    // p 110         4.5"
   ]
   }
,
{
		   "cell_type": "markdown",
		   "metadata": {},
		   "source": [
			"## Example 4.6: Voltage.sce"
		   ]
		  },
  {
"cell_type": "code",
	   "execution_count": null,
	   "metadata": {
	    "collapsed": true
	   },
	   "outputs": [],
"source": [
"                             // Examle 4.6\n",
"               // From the diagram (3.24a)\n",
"               // Using thevenin's equivalent theorem\n",
"Vth=5;                            // Thevenin's voltage ==> { by Circuit reduction }\n",
"Rth=3;                            // Thevenin's resistance ==> { by Circuit reduction }\n",
"Vl=Vth*(3/(3+3));                // Voltage across Rl\n",
"disp(' Voltage across olad resistor (Rl) = '+string(Vl)+' Volt');\n",
"                    // p 111         4.6"
   ]
   }
,
{
		   "cell_type": "markdown",
		   "metadata": {},
		   "source": [
			"## Example 4.7: Current.sce"
		   ]
		  },
  {
"cell_type": "code",
	   "execution_count": null,
	   "metadata": {
	    "collapsed": true
	   },
	   "outputs": [],
"source": [
"                             // Examle 4.7\n",
"               // From the diagram (4.11a)\n",
"                           // Using Nortan's equivalent theorem\n",
"R1=5;                      // Resistance R1\n",
"R2=10;                     // Resistance R2\n",
"V1=10;                     // Voltage source V1\n",
"I1=V1/R1;                  // Current I1\n",
"V2=5;                      // Voltage source V2\n",
"I2=V2/R2;                  // Current I2\n",
"IN=I1+I2;                  // Nortan's current\n",
"RN=(R1*R2)/(R1+R2);        // Nortan's resistance\n",
"Rl=5;                      // Load resistance\n",
"Il=IN*(RN/(RN+Rl));        // Load current\n",
"disp(' Load current (Il)  = '+string(Il)+' Amp');\n",
"        // p 113            4.7"
   ]
   }
,
{
		   "cell_type": "markdown",
		   "metadata": {},
		   "source": [
			"## Example 4.8: Power.sce"
		   ]
		  },
  {
"cell_type": "code",
	   "execution_count": null,
	   "metadata": {
	    "collapsed": true
	   },
	   "outputs": [],
"source": [
"                             // Examle 4.8\n",
"Voc=12.6;                 // Voltage of car battery \n",
"Isc=300;                  // Short-circuit current \n",
"Ro=Voc/Isc;               // O/p resistance \n",
"                          // { P=Vht^2/4Rth } , but here Vth= Voc & Rth= Ro \n",
"Pavl=Voc^2/(4*Ro);        // Available power\n",
"disp(' Available power is = '+string(Pavl)+ ' Watt');\n",
" \n",
"                 //  p 114            4.8"
   ]
   }
,
{
		   "cell_type": "markdown",
		   "metadata": {},
		   "source": [
			"## Example 4.9: Power.sce"
		   ]
		  },
  {
"cell_type": "code",
	   "execution_count": null,
	   "metadata": {
	    "collapsed": true
	   },
	   "outputs": [],
"source": [
"                             // Examle 4.9\n",
"n=8;                       // No.Of dry cells\n",
"E=1.5;                     // Emf of cell\n",
"Voc=n*E;                   // open-circuit Voltage of battery \n",
"r=0.75;                    // Internal resistance\n",
"Ro=r*n;                    // O/p resistance \n",
"              // ==> { P=Vht^2/4Rth } , but here Vth= Voc & Rth= Ro \n",
"Pavl=Voc^2/(4*Ro);         // Available power\n",
"disp(' Available power is = '+string(Pavl)+ ' Watt');\n",
" \n",
"                 //  p 115            4.9"
   ]
   }
],
"metadata": {
		  "kernelspec": {
		   "display_name": "Scilab",
		   "language": "scilab",
		   "name": "scilab"
		  },
		  "language_info": {
		   "file_extension": ".sce",
		   "help_links": [
			{
			 "text": "MetaKernel Magics",
			 "url": "https://github.com/calysto/metakernel/blob/master/metakernel/magics/README.md"
			}
		   ],
		   "mimetype": "text/x-octave",
		   "name": "scilab",
		   "version": "0.7.1"
		  }
		 },
		 "nbformat": 4,
		 "nbformat_minor": 0
}
