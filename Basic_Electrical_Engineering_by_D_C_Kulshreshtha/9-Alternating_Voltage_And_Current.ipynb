{
"cells": [
 {
		   "cell_type": "markdown",
	   "metadata": {},
	   "source": [
       "# Chapter 9: Alternating Voltage And Current"
	   ]
	},
{
		   "cell_type": "markdown",
		   "metadata": {},
		   "source": [
			"## Example 9.10: Current.sce"
		   ]
		  },
  {
"cell_type": "code",
	   "execution_count": null,
	   "metadata": {
	    "collapsed": true
	   },
	   "outputs": [],
"source": [
"                     // Example  9.10\n",
"                       // Given i= 10+10SinQ A\n",
"                       // Since it is Unsymetrical waveform\n",
"                       // Average can be found over 1 cycle \n",
"                       // i.e Average Value of Current is i= 10 Amp\n",
"I1=10;                 // Dc Current 10 Amp\n",
"I2=10/1.414;           // Sinusoidal Current 10/root(2)\n",
"Irms=sqrt(I1^2+I2^2);  // Rms Value of resultant Current\n",
"disp(' Average value of Resultant Current = '+string(I1)+' Amp');\n",
"disp(' Rms  value of Resultant Current = '+string(Irms)+' Amp');\n",
"          // p 319     9.10"
   ]
   }
,
{
		   "cell_type": "markdown",
		   "metadata": {},
		   "source": [
			"## Example 9.11: Voltage.sce"
		   ]
		  },
  {
"cell_type": "code",
	   "execution_count": null,
	   "metadata": {
	    "collapsed": true
	   },
	   "outputs": [],
"source": [
"                     // Example  9.11\n",
"T=8*10^-3;                 // Time period\n",
"A01=10*10^-3;              // Area between t= 0-1\n",
"A13=-5*2*10^-3;            // Area between t= 1-3\n",
"A34=20*10^-3;              // Area between t= 3-4\n",
"A45=0*10^-3;               // Area between t= 4-5\n",
"A58=5*3*10^-3;             // Area between t= 5-8\n",
"A=A01+A13+A34+A45+A58;     // Total Area of waveform\n",
"V=A/T;                     // Average value of waveform\n",
"disp(' Average value of waveform = '+string(V)+' Volt');\n",
"         // p 230     9.11"
   ]
   }
,
{
		   "cell_type": "markdown",
		   "metadata": {},
		   "source": [
			"## Example 9.12: Voltage.sce"
		   ]
		  },
  {
"cell_type": "code",
	   "execution_count": null,
	   "metadata": {
	    "collapsed": true
	   },
	   "outputs": [],
"source": [
"                     // Example  9.12\n",
"T=20*10^-3;                  // Time period\n",
"A0_10=40*100*10^-3;          // Area between t= 0-10\n",
"A10_20=100*10*10^-3;         // Area between t= 10-20\n",
"A=A0_10+A10_20;              // Total Area of waveform\n",
"V=A/T;                       // Average value of waveform\n",
"disp(' Average value of waveform = '+string(V)+' Volt');\n",
"v=sqrt(V);                  // Rms value\n",
"disp(' Rms value of waveform = '+string(v)+' Volt');\n",
"         // p 230     9.12"
   ]
   }
,
{
		   "cell_type": "markdown",
		   "metadata": {},
		   "source": [
			"## Example 9.13: Current_And_Power_Factor.sce"
		   ]
		  },
  {
"cell_type": "code",
	   "execution_count": null,
	   "metadata": {
	    "collapsed": true
	   },
	   "outputs": [],
"source": [
"                     // Example  9.13\n",
"T=3;                 // Time period\n",
"A1=10;               //Current under Area between t= 0-2\n",
"A2=0;                //Current under Area between t= 2-3\n",
"Irms=sqrt((A1*A1*2+A2*A2)/3);        // Rms value\n",
"disp(' Rms value of waveform = '+string(Irms)+' Amp');\n",
"Iav=(A1*2+A2*1)/3;                  // Average Value\n",
"disp(' Average value of waveform = '+string(Iav)+' Amp');\n",
"F=Irms/Iav;                         // Form Factor\n",
"disp(' Form Factor of waveform = '+string(F));\n",
"         // p 321     9.13"
   ]
   }
,
{
		   "cell_type": "markdown",
		   "metadata": {},
		   "source": [
			"## Example 9.14: Voltage_And_Power_Factor.sce"
		   ]
		  },
  {
"cell_type": "code",
	   "execution_count": null,
	   "metadata": {
	    "collapsed": true
	   },
	   "outputs": [],
"source": [
"                     // Example  9.14\n",
"T=5*10^-3;               // Time period\n",
"Vm=10;                   // Peak Value\n",
"Vav=Vm/2;                // Average Value\n",
"disp(' Average value of waveform = '+string(Vav)+' Volt');\n",
"Vrms=Vm/sqrt(3);         // Rms value of Saw-tooth waveform\n",
"disp(' Rms value of waveform = '+string(Vrms)+' Volt');\n",
"F=Vrms/Vav;              // Form Factor\n",
"disp(' Form Factor of waveform = '+string(F));\n",
"Pf=Vm/Vrms;              // Peak Factor\n",
"disp(' Peak Factor of waveform = '+string(Pf));\n",
"       //  p 321    9.14"
   ]
   }
,
{
		   "cell_type": "markdown",
		   "metadata": {},
		   "source": [
			"## Example 9.15: Power_And_Power_Factor.sce"
		   ]
		  },
  {
"cell_type": "code",
	   "execution_count": null,
	   "metadata": {
	    "collapsed": true
	   },
	   "outputs": [],
"source": [
"                     // Example  9.15\n",
"                    // Given v= 55 Sin(wt)V   &  i= 6.1Sin(wt-pi/5)A \n",
"Q=%pi/5;                     // Phase Angle\n",
"Vm=55;                       // Peak Value of Voltage\n",
"Im=6.1;                      // Peak Value of Current\n",
"V=Vm/sqrt(2);                // Rms value of Voltage\n",
"I=Im/sqrt(2);                // Rms value of Current\n",
"Pav=V*I*cos(Q);              // Average Value of power\n",
"disp(' Average value of Power = '+string(Pav)+' Watt');\n",
"Pa=V*I;                      // Apparent Value of power\n",
"disp(' Apparent value of Power = '+string(Pa)+' VA');\n",
"P=Pav-(V*I*cos(0.6-Q));      // Instant Power at (wt= 0.3)\n",
"disp(' Instant Power at (wt= 0.3) = '+string(P)+' VA');\n",
"pf=cos(Q);                   // Power Factor\n",
"disp(' Power Factor = '+string(pf*100)+' %');\n",
"       // p 323    9.15 "
   ]
   }
,
{
		   "cell_type": "markdown",
		   "metadata": {},
		   "source": [
			"## Example 9.1: Voltage_And_Angle.sce"
		   ]
		  },
  {
"cell_type": "code",
	   "execution_count": null,
	   "metadata": {
	    "collapsed": true
	   },
	   "outputs": [],
"source": [
"                     // Example  9.1\n",
"                    // Given v= 20 sinwt\n",
"Q=asind(10/20);     // Angle \n",
"disp('(a) The Angle at which (v=10v) is = '+string(Q)+' Digree');\n",
"disp('(b.1) The maximum value is (Vm)= 20 Volt');\n",
"disp('(b.2) This Occurs twice in acycle i.e at( wt = 90 or 270)');\n",
"   \n",
"   \n",
"   \n",
"          // p 305       9.1"
   ]
   }
,
{
		   "cell_type": "markdown",
		   "metadata": {},
		   "source": [
			"## Example 9.2: Voltage_Time_And_Frequency.sce"
		   ]
		  },
  {
"cell_type": "code",
	   "execution_count": null,
	   "metadata": {
	    "collapsed": true
	   },
	   "outputs": [],
"source": [
"                     // Example  9.2\n",
"                         // Given v=0.04 sin(2000t+60)V\n",
"w=2000;                  // Angular Velocity\n",
"disp(' The Angular Velocity is = '+string(w)+' rad/s');\n",
"f=w/(2*%pi);             // frequency\n",
"disp(' Frequency is = '+string(f)+' Hz');\n",
"v=0.04*sind(2000*160*10^-6*(180/%pi)+60);      // Voltage at (t=160 us)\n",
"disp(' Voltage at (t=160 us) = '+string(v*1000)+' mV');\n",
"T=1/f;                   // Time Period\n",
"t=(60/360)*T;            // Time represent y 60 phase Angle\n",
"disp(' Time represent y 60 phase Angle = '+string(t*1000)+' mS');\n",
"           // p 305    9.2"
   ]
   }
,
{
		   "cell_type": "markdown",
		   "metadata": {},
		   "source": [
			"## Example 9.3: Voltage.sce"
		   ]
		  },
  {
"cell_type": "code",
	   "execution_count": null,
	   "metadata": {
	    "collapsed": true
	   },
	   "outputs": [],
"source": [
"                     // Example  9.3\n",
"vm=20/2;            // Maximum value of Voltage\n",
"T=2*5*10^-3;        // Timwe Period\n",
"f=1/T;              // Frequency\n",
"w=2*%pi*f;          // Angular Frequency\n",
"disp('Angular Frequency is = '+string(w)+' rad/s');\n",
"disp('instantaneous value of Voltage  is v= 10 sin(628.3t+Q)');\n",
"           // at (t=0 v= -3.6 V)   i.e v=10sinQ\n",
"Q=asind(-0.36);    // Angle at (t=0)  ( ==> in Book Q=-158.9 given Which is wrong)\n",
"v= 10*sind(628.3*0.012*(180/%pi)-Q);\n",
"disp('the Voltage at (t=12 mS) = '+string(-v)+' Volt');\n",
"      // p306    9.3"
   ]
   }
,
{
		   "cell_type": "markdown",
		   "metadata": {},
		   "source": [
			"## Example 9.4: Current_And_Time.sce"
		   ]
		  },
  {
"cell_type": "code",
	   "execution_count": null,
	   "metadata": {
	    "collapsed": true
	   },
	   "outputs": [],
"source": [
"                     // Example  9.4\n",
" \n",
"f=60;               // Frequency \n",
"w=2*%pi*f;          // Angular Frequency\n",
"disp(' Angular Frequency is = '+string(w)+' rad/s');\n",
"disp(' instantaneous value of Voltage  is i= 12 sin(377t)A');\n",
"i= 12*sind(377*(1/360)*(180/%pi));   // Formula of Current\n",
"disp(' The Value ofCurrent After (t=1/360 s) = '+string(i)+' Amp');\n",
"i1=9.6;                              // Current\n",
"t={asind(i1/12)*%pi}/(377*180);      // formula of Time Derived from Current Eq\n",
"disp(' Time Required to Rech at (t=9.6) = '+string(t*1000)+' mS');\n",
"       // p306       9.4"
   ]
   }
,
{
		   "cell_type": "markdown",
		   "metadata": {},
		   "source": [
			"## Example 9.5: Time.sce"
		   ]
		  },
  {
"cell_type": "code",
	   "execution_count": null,
	   "metadata": {
	    "collapsed": true
	   },
	   "outputs": [],
"source": [
"                     // Example  9.5\n",
"                    // Given I1=4 Sin(100*pi*t+30)\n",
"                    // Given I2= 6 sin(100*pi*t)\n",
"f=50;                     // Frequency\n",
"w=2*%pi*f;                // Angular Frequency\n",
"T=1/f;                    // Time Period\n",
"t=20*10^-3*(30/360);      // Time for 30 Digree Revolution\n",
"disp('Time for 30 Digree Revolution = '+string(t*1000)+' mS');\n",
"disp('The Phasor i1 Leads the Phasor i2 by 30 Digree  or (t=1.67 mS)');\n",
"        // p 312      9.5"
   ]
   }
,
{
		   "cell_type": "markdown",
		   "metadata": {},
		   "source": [
			"## Example 9.6: Power.sce"
		   ]
		  },
  {
"cell_type": "code",
	   "execution_count": null,
	   "metadata": {
	    "collapsed": true
	   },
	   "outputs": [],
"source": [
"                     // Example  9.6\n",
"R=10;             // Resistance\n",
"i=4+%i*3;         // Current\n",
"I=sqrt(4^2+3^2);  // Absolute Value of Current\n",
"Ir=4;             // Real Component of Current\n",
"Ii=3;             // Imaginary Component of Current\n",
"Q=atand(3/4);     // Phase Angle \n",
"Pr=Ir^2*R;        // Power Due to Real Component\n",
"disp('Power Due to Real Component is = '+string(Pr)+' Watt');\n",
" \n",
"Pi=Ii^2*R;        // Power Due to Imaginary Component\n",
"disp('Power Due to Imaginary Component is = '+string(Pi)+' Watt');\n",
"P=I^2*R;          // total PowerConsumed\n",
"disp('total Power Consumed is = '+string(P)+' Watt');\n",
"           // p 316       9.6"
   ]
   }
,
{
		   "cell_type": "markdown",
		   "metadata": {},
		   "source": [
			"## Example 9.7: Current.sce"
		   ]
		  },
  {
"cell_type": "code",
	   "execution_count": null,
	   "metadata": {
	    "collapsed": true
	   },
	   "outputs": [],
"source": [
"                     // Example  9.7\n",
"I1=10+%i*0;                    // Sinusoidal Current I1\n",
"I2=10+(%i*10*sqrt(3));         // Sinusoidal Current I2\n",
"I=I1+I2;                       // Resultant Current\n",
"disp(' resultant Current is = '+string(I)+' Amp  OR  ('+string(abs(I))+' <'+string(atand(imag(I),real(I)))+' Amp )');\n",
"        // p 318  9.7"
   ]
   }
,
{
		   "cell_type": "markdown",
		   "metadata": {},
		   "source": [
			"## Example 9.8: Current.sce"
		   ]
		  },
  {
"cell_type": "code",
	   "execution_count": null,
	   "metadata": {
	    "collapsed": true
	   },
	   "outputs": [],
"source": [
"                     // Example  9.8\n",
"I1=10+%i*0;              // Current  i1=14.14 sin(wt) A  \n",
"I2=10+%i*17.32;          // Current  i2=28.28 sin(wt+60) A\n",
"I=I1+I2;                 // Summation of 2 Current\n",
"disp(' Summation of 2 Current is = '+string(I)+' Amp  or  37.42<40.9 ');\n",
"            // I= 20+i17.32   i.e I= 37.42<40.9\n",
"disp(' Expration for Sum of 2 Current i= 37.42 Sin(wt+40.9)A');\n",
"Im=37.42;               // Absolute Value of I\n",
"i=Im/sqrt(2);           // RMS value I\n",
"disp(' Rms Value of sum is = '+string(i)+' Amp');\n",
"          // p 318     9.8"
   ]
   }
,
{
		   "cell_type": "markdown",
		   "metadata": {},
		   "source": [
			"## Example 9.9: Current.sce"
		   ]
		  },
  {
"cell_type": "code",
	   "execution_count": null,
	   "metadata": {
	    "collapsed": true
	   },
	   "outputs": [],
"source": [
"                     // Example  9.9\n",
"I1=3.535+%i*0;               // Rectangular form RMS of I1  i.e I1= 5/1.14<0 \n",
"I2=3.061+%i*1.768;           // Rectangular form RMS of I2  i.e I2= 5/1.14<30\n",
"I3=-1.768-%i*3.061;          // Rectangular form RMS of I3  i.e I3= 5/1.14<-120\n",
"I=I1+I2+I3;                  // Resultant of Current\n",
"disp(' Resultant Rms Value of Cuttent = '+string(I)+' Amp   OR  ('+string(abs(I))+' <'+string(atand(imag(I),real(I)))+' Amp )');\n",
"        // p 318    9.9        "
   ]
   }
],
"metadata": {
		  "kernelspec": {
		   "display_name": "Scilab",
		   "language": "scilab",
		   "name": "scilab"
		  },
		  "language_info": {
		   "file_extension": ".sce",
		   "help_links": [
			{
			 "text": "MetaKernel Magics",
			 "url": "https://github.com/calysto/metakernel/blob/master/metakernel/magics/README.md"
			}
		   ],
		   "mimetype": "text/x-octave",
		   "name": "scilab",
		   "version": "0.7.1"
		  }
		 },
		 "nbformat": 4,
		 "nbformat_minor": 0
}
