{
"cells": [
 {
		   "cell_type": "markdown",
	   "metadata": {},
	   "source": [
       "# Chapter 18: Electrical Measuring Instruments"
	   ]
	},
{
		   "cell_type": "markdown",
		   "metadata": {},
		   "source": [
			"## Example 18.10: Current.sce"
		   ]
		  },
  {
"cell_type": "code",
	   "execution_count": null,
	   "metadata": {
	    "collapsed": true
	   },
	   "outputs": [],
"source": [
"                     // Examle 18.10\n",
"w=0.004;              // width of the coil\n",
"l=0.005;              // Length of the coil\n",
"A=w*l;                // Area of the coil\n",
"B=0.1;                // Megnetic flux density\n",
"n=80;                 // No.Of turns\n",
"tc=0.5*60*10^-6;      // Controling torque\n",
"td=3*10^-3;           // Deflecting torque\n",
"I=tc/(B*n*A);         // Current\n",
"disp('Current (I) = '+string(I)+' Amp');\n",
"     //   p 777         18.10"
   ]
   }
,
{
		   "cell_type": "markdown",
		   "metadata": {},
		   "source": [
			"## Example 18.1: Torque.sce"
		   ]
		  },
  {
"cell_type": "code",
	   "execution_count": null,
	   "metadata": {
	    "collapsed": true
	   },
	   "outputs": [],
"source": [
"                // Examle 18.1\n",
"I=0.015;                 // Current in a coil\n",
"B=0.2;                   // Megnetic flux density\n",
"l=0.02;                  // Length of megnetic field\n",
"n1=42;                   // No.Of turns N1\n",
"r=0.0125;                // radius of coil\n",
"n2=43;                   // No.Of turns N2\n",
"F1=I*B*l*n1;             // The force on(42-Conductors)\n",
"disp('The force on(42-Conductors) = '+string(F1)+' N');\n",
"F2=I*B*l*n2;             // The force on(43-Conductors)\n",
"disp('The force on(43-Conductors) = '+string(F2)+' N');\n",
"Tr=(F1+F2)*r;            // Total Torque (Td)\n",
"disp ('Total Torque (Td) = '+string(Tr)+' Nm');\n",
"             //  p 756          18.1"
   ]
   }
,
{
		   "cell_type": "markdown",
		   "metadata": {},
		   "source": [
			"## Example 18.2: Resistance.sce"
		   ]
		  },
  {
"cell_type": "code",
	   "execution_count": null,
	   "metadata": {
	    "collapsed": true
	   },
	   "outputs": [],
"source": [
"                // Examle 18.2\n",
"Ifs=10*10^-3;            // Maximum current\n",
"Im=100*10^-6;            // Full-scale diflection current\n",
"Rm=100;                  // Internal resistance\n",
"Ish=Ifs-Im;              // Shunt Current (Ish)\n",
"disp('Shunt Current (Ish) = '+ string(Ish)+' Amp');\n",
"Rsh=(Im*Rm)/Ish;         // Shunt Current (Rsh)\n",
"disp('Shunt Current (Rsh) = '+ string(Rsh)+' ohms');\n",
"            //  p 762     18.2"
   ]
   }
,
{
		   "cell_type": "markdown",
		   "metadata": {},
		   "source": [
			"## Example 18.4: Resistance.sce"
		   ]
		  },
  {
"cell_type": "code",
	   "execution_count": null,
	   "metadata": {
	    "collapsed": true
	   },
	   "outputs": [],
"source": [
"                // Examle 18.4\n",
"Im=50*10^-6;                // Current sensitivity\n",
"Rm=100;                     // Internal resistance\n",
"Vf=50;                      // volt-meter range\n",
"Rs=(Vf/Im)-Rm;              // The Value of Resister (Rs)\n",
"disp ('The Value of Resister (Rs) = '+string(Rs/1000)+' kilo-ohms');\n",
"              //  p 767    18.4 "
   ]
   }
,
{
		   "cell_type": "markdown",
		   "metadata": {},
		   "source": [
			"## Example 18.5: Resistance_And_Multiplying_Factor.sce"
		   ]
		  },
  {
"cell_type": "code",
	   "execution_count": null,
	   "metadata": {
	    "collapsed": true
	   },
	   "outputs": [],
"source": [
"                // Examle 18.5\n",
"Im=50*10^-6;              // Current sensitivity\n",
"Rm=1000;                  // Internal resistance\n",
"Vf=50;                    // volt-meter range\n",
"Rs=(Vf/Im)-Rm;            // The Value of Resister (Rs)\n",
"disp ('The Value of Resister (Rs) = '+string(Rs/1000)+' kilo-ohms');\n",
"n=Vf/(Im*Rm);            // The Voltage Multiplying Factor (N)\n",
"disp('The Voltage Multiplying Factor (N) = '+string(n));\n",
" \n",
"              // p 767    18.5"
   ]
   }
,
{
		   "cell_type": "markdown",
		   "metadata": {},
		   "source": [
			"## Example 18.6: Voltage_And_Error.sce"
		   ]
		  },
  {
"cell_type": "code",
	   "execution_count": null,
	   "metadata": {
	    "collapsed": true
	   },
	   "outputs": [],
"source": [
"                     // Examle 18.6\n",
"s=1000;                         // Sensitivity of Volt-meter A\n",
"r=50;                           // Load resistance\n",
"Vt=50;                          // Range of volt-meter\n",
"Ri1=s*r;                        // Internal resistance of Volt-meter A \n",
"V1=150*{25000/(100000+25000)};  // Voltage in Ist Meter\n",
"disp('Voltage in Ist Meter (V) = '+string(V1)+' Volt');\n",
"s1=20000;                       // Sensitivity of Volt-meter B\n",
"Ri2=s1*r;                       // Internal resistance of Volt-meter B\n",
"V2=150*{47600/(100000+47600)};  // Voltage in 2nd Meter\n",
"disp('Voltage in 2nd Meter (V) = '+string(V2)+' Volt');\n",
"Er1=(Vt-V1)*100/Vt;             // % Error in Ist meter\n",
"disp('% Error in Ist meter = '+string(Er1)+' %');\n",
"Er2=(Vt-48.36)*100/Vt;           // % Error in 2nd meter ==> { V2=48.3739, but taking V2= 48.36 }\n",
"disp('% Error in 2nd meter = '+string(Er2)+' %');\n",
"          //  p 770         18.6"
   ]
   }
,
{
		   "cell_type": "markdown",
		   "metadata": {},
		   "source": [
			"## Example 18.7: Angle_of_Deflection.sce"
		   ]
		  },
  {
"cell_type": "code",
	   "execution_count": null,
	   "metadata": {
	    "collapsed": true
	   },
	   "outputs": [],
"source": [
"                     // Examle 18.7\n",
"k=60/20;                 // Derived from  { Q= k x I }\n",
"i=12;                    // Current\n",
"Q1=k*i;                  // Diflection for Spring-Control Current\n",
"disp('Diflection for Spring-Control Current = '+string(Q1)+' Digree');\n",
"k1=sind(60)/20;          // Derived from { SinQ= k x I }\n",
"Q2=asind(k1*12);         // Diflection for Gravity-Control Current\n",
"disp('Diflection for Gravity-Control Current = '+string(Q2)+' Digree');\n",
"             // 775      18.7"
   ]
   }
,
{
		   "cell_type": "markdown",
		   "metadata": {},
		   "source": [
			"## Example 18.8: Deflection_in_the_Torque.sce"
		   ]
		  },
  {
"cell_type": "code",
	   "execution_count": null,
	   "metadata": {
	    "collapsed": true
	   },
	   "outputs": [],
"source": [
"                     // Examle 18.8\n",
"w=0.005;                  // Controling weigth\n",
"l=0.024;                  // Distance\n",
"td=1.05*10^-4;            // Deflecting torque\n",
"k=asind(td/(w*l));        // Diflection  in Digree (@)\n",
"disp('Diflection  in Digree (@) = '+string(round(k))+' Digree');\n",
"       //  p 776        18.8"
   ]
   }
,
{
		   "cell_type": "markdown",
		   "metadata": {},
		   "source": [
			"## Example 18.9: Angle_of_Deflection.sce"
		   ]
		  },
  {
"cell_type": "code",
	   "execution_count": null,
	   "metadata": {
	    "collapsed": true
	   },
	   "outputs": [],
"source": [
"                     // Examle 18.9\n",
"i1=10;                          // Current I1 \n",
"i2=5;                           // Current I2 \n",
"Q=90;                           // Deflection due to 10 Amp\n",
"Q1=(i2/i1)^2*Q;                 // Diflection for Spring-Control Current\n",
"disp('Diflection for Spring-Control Current = '+string(Q1)+' Digree');\n",
"        // Using formula ==> {  Q2= Sin[(i2/i1)^2*sin(Q)]  }\n",
"Q2=asind((i2/i1)^2*sind(Q));    // Diflection for Gravity-Control Current\n",
"disp('Diflection for Gravity-Control Current = '+string(Q2)+' Digree');"
   ]
   }
],
"metadata": {
		  "kernelspec": {
		   "display_name": "Scilab",
		   "language": "scilab",
		   "name": "scilab"
		  },
		  "language_info": {
		   "file_extension": ".sce",
		   "help_links": [
			{
			 "text": "MetaKernel Magics",
			 "url": "https://github.com/calysto/metakernel/blob/master/metakernel/magics/README.md"
			}
		   ],
		   "mimetype": "text/x-octave",
		   "name": "scilab",
		   "version": "0.7.1"
		  }
		 },
		 "nbformat": 4,
		 "nbformat_minor": 0
}
