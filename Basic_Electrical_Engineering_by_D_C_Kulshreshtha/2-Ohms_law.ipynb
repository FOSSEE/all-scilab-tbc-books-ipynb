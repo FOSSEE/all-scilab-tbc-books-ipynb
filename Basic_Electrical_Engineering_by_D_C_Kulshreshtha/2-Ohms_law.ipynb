{
"cells": [
 {
		   "cell_type": "markdown",
	   "metadata": {},
	   "source": [
       "# Chapter 2: Ohms law"
	   ]
	},
{
		   "cell_type": "markdown",
		   "metadata": {},
		   "source": [
			"## Example 2.10: Resistance.sce"
		   ]
		  },
  {
"cell_type": "code",
	   "execution_count": null,
	   "metadata": {
	    "collapsed": true
	   },
	   "outputs": [],
"source": [
"                      // Example  2.10\n",
"                     //  Rx=R+(R||2Rx)\n",
"                     //  i.e  2*Rx^2-3R Rx-R^2 =0\n",
"R=1;\n",
"Rx={3*R+sqrt(9*R*R+8*R*R)}/4;    // Using Roots of codratic Equation\n",
"disp(' Equivalent R is = '+string(Rx)+' R');\n",
"               // p 26     2.10"
   ]
   }
,
{
		   "cell_type": "markdown",
		   "metadata": {},
		   "source": [
			"## Example 2.11: Resistance.sce"
		   ]
		  },
  {
"cell_type": "code",
	   "execution_count": null,
	   "metadata": {
	    "collapsed": true
	   },
	   "outputs": [],
"source": [
"                      // Example  2.11\n",
"            // To convet Pi- Section in to T- Section.\n",
"            // We have to Find Ra, Rb & Rc for T-Section\n",
"R2=9;       // Resistance of 9 Ohms\n",
"R3=6;       // Resistance of 6 Ohms\n",
"R1=3;       // Resistance of 3 Ohms\n",
"Ra=(R2*R3)/(R1+R2+R3);\n",
"disp(' Value of Ra is = '+string(Ra)+' Ohm');\n",
"Rb=(R1*R3)/(R1+R2+R3);\n",
"disp(' Value of Rc is = '+string(Rb)+' Ohm');\n",
"Rc=(R2*R1)/(R1+R2+R3);\n",
"disp(' Value of Rc is = '+string(Rc)+' Ohm');\n",
"           // p 26      2.11"
   ]
   }
,
{
		   "cell_type": "markdown",
		   "metadata": {},
		   "source": [
			"## Example 2.12: Resistance.sce"
		   ]
		  },
  {
"cell_type": "code",
	   "execution_count": null,
	   "metadata": {
	    "collapsed": true
	   },
	   "outputs": [],
"source": [
"                      // Example  2.12\n",
"Reff= 100/10;             // Effective R \n",
"         //  P=v^2/R    i.e Power of coil\n",
"v=100;\n",
"R=600;\n",
"R1=v^2/R;\n",
"                          // 2 Coil are connected parallel\n",
"R2=(R1*10)/(R1-10);       // Using parallel R formula\n",
"disp(' Resistance of each coil = '+string(R2)+' Ohm');\n",
"        //    p 27     2.12"
   ]
   }
,
{
		   "cell_type": "markdown",
		   "metadata": {},
		   "source": [
			"## Example 2.13: Cost.sce"
		   ]
		  },
  {
"cell_type": "code",
	   "execution_count": null,
	   "metadata": {
	    "collapsed": true
	   },
	   "outputs": [],
"source": [
"                      // Example  2.13\n",
"v=115;       // Voltage\n",
"i=12;        // current  \n",
"t=6;         // Time Required\n",
"w=v*i*t;     // Energy\n",
"Rate=2.50;\n",
"Cost=w*Rate;\n",
"disp(' cost of boiler Operation is = '+string(Cost/1000)+' Rs/kwh');\n",
"     \n",
"     \n",
"     \n",
"     \n",
"     \n",
"             //  p 27      2.13"
   ]
   }
,
{
		   "cell_type": "markdown",
		   "metadata": {},
		   "source": [
			"## Example 2.14: Rating.sce"
		   ]
		  },
  {
"cell_type": "code",
	   "execution_count": null,
	   "metadata": {
	    "collapsed": true
	   },
	   "outputs": [],
"source": [
"                      // Example  2.14\n",
"v=240;\n",
"p=1000;         //toaster reted at 1000 w\n",
"R=v^2/p;        // resistanc raring \n",
"Imax=p/v;       // Current rating\n",
"v1=220;\n",
"I=v1/R;         // Current at 220 v\n",
"p1=v1*I;\n",
"disp(' Power rating is = '+string(p1)+' Watt');\n",
"disp(' there for the Power rating is less then original power. ');\n",
"       //     p 28       2.14"
   ]
   }
,
{
		   "cell_type": "markdown",
		   "metadata": {},
		   "source": [
			"## Example 2.15: Resistance.sce"
		   ]
		  },
  {
"cell_type": "code",
	   "execution_count": null,
	   "metadata": {
	    "collapsed": true
	   },
	   "outputs": [],
"source": [
"                      // Example  2.15\n",
"            //     To find the Value of Resister\n",
"            // We Sghould know About Colour Code\n",
"Y=4;            // Yelow colour\n",
"V=7;            // Violet colour\n",
"O=10^3;         // Orenge colour\n",
"r=(10*Y+V)*O;\n",
"R=r*(5/100);\n",
"disp(' The value of Resistance is = '+string(R)+' ohm');\n",
"           //  p 30     2.15"
   ]
   }
,
{
		   "cell_type": "markdown",
		   "metadata": {},
		   "source": [
			"## Example 2.16: Resistance.sce"
		   ]
		  },
  {
"cell_type": "code",
	   "execution_count": null,
	   "metadata": {
	    "collapsed": true
	   },
	   "outputs": [],
"source": [
"                      // Example  2.16\n",
"                  // To find the Value of Resister\n",
"                  // We Sghould know About Colour Code\n",
"Gr=8;             // Gray colour\n",
"B=6;              // Blue colour\n",
"G=10^-1;          //Gold colour\n",
"r=(10*Gr+B)*G;\n",
"R=r*(5/100);\n",
"disp(' The value of Resistance is = '+string(R)+' ohm');\n",
"      //     p 30     2.16"
   ]
   }
,
{
		   "cell_type": "markdown",
		   "metadata": {},
		   "source": [
			"## Example 2.17: Resistance.sce"
		   ]
		  },
  {
"cell_type": "code",
	   "execution_count": null,
	   "metadata": {
	    "collapsed": true
	   },
	   "outputs": [],
"source": [
"                      // Example  2.17\n",
"R1=126;       // Resistance of 126 Ohms\n",
"T1=20;        // temperature at 126 ohms resistor\n",
"T2=-35;       // Temperature ( -35 Digree)\n",
"ao=0.00426;\n",
"              // By using Temprerature Formula i.e  R1/(1+aoT1) =R2/(1+aoT2)\n",
"z=(1+ao*T2)/(1+ao*T1);\n",
"R2=R1*z;\n",
"disp(' Resistance of the line (at T=-35) = '+string(R2)+' Ohm');\n",
"       // p 31       2.17"
   ]
   }
,
{
		   "cell_type": "markdown",
		   "metadata": {},
		   "source": [
			"## Example 2.18: Temperature.sce"
		   ]
		  },
  {
"cell_type": "code",
	   "execution_count": null,
	   "metadata": {
	    "collapsed": true
	   },
	   "outputs": [],
"source": [
"                      // Example  2.18\n",
"R1=3.42;        // Resistance of 3.42 Ohms\n",
"T1=20;          // temperature at 3.42 ohms resistor\n",
"R2=4.22;        // Resistance R2\n",
"ao=0.00426;\n",
"      // By using Temprerature Formula  ==> i.e  R1/(1+aoT1) =R2/(1+aoT2)\n",
"z=(R2/R1)*(1+ao*T1);\n",
"T2=(z-1)/ao;\n",
"T=T2-T1;        // Temperature Rise\n",
"disp(' The Temperature Rise is = '+string(T)+' Digree Celsius');\n",
"      // p 32       2.18"
   ]
   }
,
{
		   "cell_type": "markdown",
		   "metadata": {},
		   "source": [
			"## Example 2.1: Resistance.sce"
		   ]
		  },
  {
"cell_type": "code",
	   "execution_count": null,
	   "metadata": {
	    "collapsed": true
	   },
	   "outputs": [],
"source": [
"                      // Example  2.1\n",
"a1=%pi*2^2/4;        // Relative area of wire-A\n",
"a2=%pi*1/4;          // Relative area of wire-B \n",
"l1=1;                // Relative lenght of wire-B \n",
"l2=4;                // Relative lenght of wire-B \n",
"R1=5;                // Resistance of wire\n",
"r=(l2/a2)/(l1/a1);\n",
"disp('The ratio of resistances (R2/R1) = '+string(r)+' ohm');\n",
"R2=r*R1;\n",
"disp('Resistance(R2) = '+string(R2)+' ohm');\n",
"            // p  16           2.1"
   ]
   }
,
{
		   "cell_type": "markdown",
		   "metadata": {},
		   "source": [
			"## Example 2.2: Resistance.sce"
		   ]
		  },
  {
"cell_type": "code",
	   "execution_count": null,
	   "metadata": {
	    "collapsed": true
	   },
	   "outputs": [],
"source": [
"                      // Example  2.2\n",
"a1=%pi*3/4;           // Relative area of wire-A\n",
"a2=%pi*1/4;           // Relative area of wire-B\n",
"l1=1;                 // Relative lenght of wire-A\n",
"l2=3;                 // Relative lenght of wire-B \n",
"R1=10;                // Resistance of wire\n",
"r=(l2/a2)/(l1/a1);\n",
"disp('The ratio of resistances (R2/R1) = '+string(r)+' ohm');\n",
"R2=r*R1;\n",
"disp('Resistance(R2) = '+string(R2)+' ohm');\n",
"             //  p 16          2.2"
   ]
   }
,
{
		   "cell_type": "markdown",
		   "metadata": {},
		   "source": [
			"## Example 2.3: Resistance.sce"
		   ]
		  },
  {
"cell_type": "code",
	   "execution_count": null,
	   "metadata": {
	    "collapsed": true
	   },
	   "outputs": [],
"source": [
"     \n",
"                        // Example  2.3\n",
"          //   Rp=(4+4)||(8+4)\n",
"Rp=(8*12)/(8+12);     // By Voltage divider rule\n",
"disp(' voltage Across Foue resisrance = '+string(Rp)+' Ohm');\n",
"         //   p 20      2.3"
   ]
   }
,
{
		   "cell_type": "markdown",
		   "metadata": {},
		   "source": [
			"## Example 2.4: Voltage_And_Current.sce"
		   ]
		  },
  {
"cell_type": "code",
	   "execution_count": null,
	   "metadata": {
	    "collapsed": true
	   },
	   "outputs": [],
"source": [
"                        // Example  2.4\n",
"v=8.8*{2/(2+2.4)};     // by voltage divider rule \n",
"disp(' Anknown Voltage across the R1 = '+string(v)+' volt');\n",
"v1=8.8*{2.4/(2+2.4)};  // by voltage divider rule \n",
"disp(' Anknown Voltage across the R1 = '+string(v1)+' volt');\n",
"i=4.8/4;               //  I=V/R \n",
"disp(' Anknown Current I1 = '+string(i)+' Amp');\n",
"i1=4.8/6;              // I=V/R \n",
"disp(' Anknown Current I2 = '+string(i1)+' Amp');\n",
"                  // p 20     2.4   "
   ]
   }
,
{
		   "cell_type": "markdown",
		   "metadata": {},
		   "source": [
			"## Example 2.5: Resistance.sce"
		   ]
		  },
  {
"cell_type": "code",
	   "execution_count": null,
	   "metadata": {
	    "collapsed": true
	   },
	   "outputs": [],
"source": [
"\n",
"                  //  Example 2.5\n",
"\n",
"            // From the diagram 2.14\n",
"            \n",
"rp=(1/20)+(1/10)+(1/20);       // Parallel resistance\n",
"Rp=1/rp;                       // The resistance Rp\n",
"Rs=15;                         // Series resistance\n",
"Rab=Rs+Rp;                     // Effective resistance between A & B\n",
"disp('(a) Effective resistance between A & B for diagram (a) = '+string(Rab)+' Ohms');\n",
"\n",
"           // for diagram (b) network above line AB  i.e R1=[(R+R)||R]+R\n",
"R1=5/3;                        // Resistance of network\n",
"R2=R1;                         // The lower part is also same as R1\n",
"R12=5/6;                       // Combination of R1 & R2\n",
"Rab1=(R12*1)/(R12+1);          // Effective resistance between A & B for diagram (b)\n",
"disp('(b) Effective resistance between A & B for diagram (b) = '+string(Rab1)+' R');\n",
"\n",
"          // for diagram (c)\n",
"r1=(3*6)/(3+6);                // Parallel combination of 3 & 6 Ohms Resistance\n",
"Ri=r1+18;                      // series of r1 & 18 Ohms Resistance\n",
"rab=(20*20)/(20+20);           // Parallel combinatuion of Ri & 20 Ohms Resistance\n",
"Rab2=rab+5;                    // series of rab & 2 Ohms Resistance\n",
"disp('(c) Effective resistance between A & B for diagram (c) = '+string(Rab2)+' Ohms');\n",
"\n",
"\n",
"\n",
"\n",
"              //   p 23                 2.5"
   ]
   }
,
{
		   "cell_type": "markdown",
		   "metadata": {},
		   "source": [
			"## Example 2.6: Current.sce"
		   ]
		  },
  {
"cell_type": "code",
	   "execution_count": null,
	   "metadata": {
	    "collapsed": true
	   },
	   "outputs": [],
"source": [
"                        // Example  2.6\n",
"d=(1/12)+(1/20)+(1/30);\n",
"Reff=2+(1/d);    // Effective Resisrence \n",
"v=100;\n",
"I=v/Reff;\n",
"                 //  ( but 12 i1= 20i2= 30i3 )\n",
"                 // i2= 12/20 *i1  &  i3= 12/30 *i1\n",
"                 // but  10=i1+i2+i3 \n",
"                 // 0.6i1+0.4i1+i1=10    i.e  i1=5 \n",
"i1=5;\n",
"disp(' Current of I1 if = '+string(i1)+' Amp');\n",
"i2=0.6*i1;\n",
"disp(' Current of I2 if = '+string(i2)+' Amp');\n",
"i3=0.4*i1;\n",
"disp(' Current of I3 if = '+string(i3)+' Amp');\n",
"         //  p 24      2.6"
   ]
   }
,
{
		   "cell_type": "markdown",
		   "metadata": {},
		   "source": [
			"## Example 2.7: Current.sce"
		   ]
		  },
  {
"cell_type": "code",
	   "execution_count": null,
	   "metadata": {
	    "collapsed": true
	   },
	   "outputs": [],
"source": [
"                       // Example  2.7\n",
"            //  p=i1^2*Rl   i.e  i1=p/Rl\n",
"Rl=5;               // Load resistance\n",
"p=20;               // Power\n",
"i1=p/Rl;\n",
"           // i1= i*(R/R+Rl)   i.e  i= i1*(R+Rl)/R \n",
"i=2*(10+5)/10;\n",
"disp(' Supply Current is = '+string(i)+' Amp');\n",
" \n",
"          // p 25    2.7   "
   ]
   }
,
{
		   "cell_type": "markdown",
		   "metadata": {},
		   "source": [
			"## Example 2.8: Voltage.sce"
		   ]
		  },
  {
"cell_type": "code",
	   "execution_count": null,
	   "metadata": {
	    "collapsed": true
	   },
	   "outputs": [],
"source": [
"                      // Example  2.8\n",
"v=120;                // Supply voltage\n",
"p=60;                 // Power\n",
"R=v^2/p;              // Resistance\n",
"       // the combination R of bulb B & C is Rbc=240/2    i.e Rbc=120 \n",
"       //  vb=vc\n",
"Rbc=240/2;            // R of each bulb \n",
"k=240+120;\n",
"vc=Rbc*(120/k);       // volt across Vc & Vb    {using Volt Divider Rule }\n",
"va=120-40;            // volt across Va\n",
"disp(' the Voltage across bulb A & B = '+string(vc)+' Volt');\n",
"disp(' the Voltage across bulb C = '+string(va)+' Volt');\n",
"vb=40;\n",
"p=(va)^2/240+(vb)^2/240+(vc)^2/240;      //  p=pa+pb+pc   total power\n",
"disp(' Totale Power Dissipated is = '+string(p)+' Watt');\n",
"      //    p 25       2.8"
   ]
   }
,
{
		   "cell_type": "markdown",
		   "metadata": {},
		   "source": [
			"## Example 2.9: Resistance.sce"
		   ]
		  },
  {
"cell_type": "code",
	   "execution_count": null,
	   "metadata": {
	    "collapsed": true
	   },
	   "outputs": [],
"source": [
"\n",
"                  //  Example 2.9\n",
"\n",
"            // From the diagram 2.18\n",
"            // Minimum value of Req is obtained if R=0 \n",
"            // Maximum value of Req is obtained if R= Open ckt\n",
"            \n",
"R1=30;                     // Given the value of R1 & R1+R2= 75             \n",
"R2=75-R1;                  // The value of R2             \n",
"disp(' The value of R1 is = '+string(R1)+' Ohms ');\n",
"disp(' The value of R2 is = '+string(R2)+' Ohms ');\n",
"\n",
"            // From the diagram 2.19            \n",
"            \n",
"Req= (30+75)/2;           // Required value of Req is Req= (30+75)/2\n",
"Rp=Req-R1;                // Hance the parallel combination of R2 & R\n",
"disp(' The value of Rp is = '+string(Rp)+' Ohms ');\n",
"disp('The value of Rp is exactly half of R2= 45, hance the value of R should be '+string(R2)+' Ohms ');\n",
"\n",
"\n",
"\n",
"\n",
"                          //  p 26            2.9"
   ]
   }
],
"metadata": {
		  "kernelspec": {
		   "display_name": "Scilab",
		   "language": "scilab",
		   "name": "scilab"
		  },
		  "language_info": {
		   "file_extension": ".sce",
		   "help_links": [
			{
			 "text": "MetaKernel Magics",
			 "url": "https://github.com/calysto/metakernel/blob/master/metakernel/magics/README.md"
			}
		   ],
		   "mimetype": "text/x-octave",
		   "name": "scilab",
		   "version": "0.7.1"
		  }
		 },
		 "nbformat": 4,
		 "nbformat_minor": 0
}
