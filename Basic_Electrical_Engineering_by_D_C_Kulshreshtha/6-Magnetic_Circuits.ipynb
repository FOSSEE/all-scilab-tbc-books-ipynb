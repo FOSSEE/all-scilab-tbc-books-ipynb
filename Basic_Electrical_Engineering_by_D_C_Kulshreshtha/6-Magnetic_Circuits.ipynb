{
"cells": [
 {
		   "cell_type": "markdown",
	   "metadata": {},
	   "source": [
       "# Chapter 6: Magnetic Circuits"
	   ]
	},
{
		   "cell_type": "markdown",
		   "metadata": {},
		   "source": [
			"## Example 6.1: Megnetic_Field_Strength_And_Flux.sce"
		   ]
		  },
  {
"cell_type": "code",
	   "execution_count": null,
	   "metadata": {
	    "collapsed": true
	   },
	   "outputs": [],
"source": [
"                      // Example  6.1\n",
"N=200;             // No.Of turns\n",
"I=4;               // Current of a Coil\n",
"l=.06;             // circumference of Coil\n",
"H=(N*I)/l;         // Formula of Megnetic Field Strength\n",
"disp('(a) The Megnetic Field Strength = '+string(H)+' A/m');\n",
"mo=4*%pi*10^-7;    // Permeability of free Space\n",
"mr=1;              //Permeability of coil\n",
"B=mr*mo*H;         // Formula of Flux Density\n",
"disp('(b) The Flux Density is = '+string(B)+' Tesla');\n",
"A=500*10^-6;       // Area of Coil \n",
"Q=B*A;             // Total Flux\n",
"disp('(c) The total Flux is = '+string(Q)+' Wb');\n",
"        //  p 211      6.1"
   ]
   }
,
{
		   "cell_type": "markdown",
		   "metadata": {},
		   "source": [
			"## Example 6.2: Megnetomotive_Force.sce"
		   ]
		  },
  {
"cell_type": "code",
	   "execution_count": null,
	   "metadata": {
	    "collapsed": true
	   },
	   "outputs": [],
"source": [
"                      // Example  6.2\n",
"Q=0.015;          // Flux \n",
"A=200*10^-4;      // Area of Conductor \n",
"mo=4*%pi*10^-7;   // Permeability of free Space\n",
"B=Q/A;            // Megnetic Flux Density\n",
"H=B/mo;           // Megnetic Field Strength\n",
"l=2.5*10^-3;      // Air Gap \n",
"F=H*l;            // Formula of Magnetomotive Force (mmf)\n",
"disp(' Magnetomotive Force (mmf) is = '+string(round(F))+' At');\n",
"               // p 212      6.2 "
   ]
   }
,
{
		   "cell_type": "markdown",
		   "metadata": {},
		   "source": [
			"## Example 6.3: Reluctance_And_Current.sce"
		   ]
		  },
  {
"cell_type": "code",
	   "execution_count": null,
	   "metadata": {
	    "collapsed": true
	   },
	   "outputs": [],
"source": [
"                      // Example  6.3\n",
"Q=800*10^-6;      // Flux \n",
"A=500*10^-6;      // Area of Coil \n",
"mo=4*%pi*10^-7;   // Permeability of free Space\n",
"mr=380;           // Permeability of of Coil\n",
"l=0.4;            // circumference of Coil\n",
"R=l/(mr*mo*A);    // Formula of Reluctance\n",
"disp(' Reluctance of Ring is = '+string(R)+' A/Wb');\n",
"F=Q*R;            // Formula of Magnetomotive Force (mmf)\n",
"N=200;            // No.Of turns\n",
"I=F/N;            // Formula of Magnetising Current \n",
"disp(' Magnetising Current is = '+string(I)+' At');\n",
"               // p 212      6.3 "
   ]
   }
,
{
		   "cell_type": "markdown",
		   "metadata": {},
		   "source": [
			"## Example 6.4: Current.sce"
		   ]
		  },
  {
"cell_type": "code",
	   "execution_count": null,
	   "metadata": {
	    "collapsed": true
	   },
	   "outputs": [],
"source": [
"                     // Example  6.4\n",
"B=0.9;             // Megnetic Flux Density\n",
"N=4000;            // No.Of turns\n",
"mo=4*%pi*10^-7;    // Permeability of free Space\n",
"Hc=820;            // Megnetic Field Strength for Core \n",
"lc=0.22;           // Length of Circuit \n",
"Ac=50*10^-6;       // Area of Circuit\n",
"Fc=Hc*lc;          // Magnetomotive Force (mmf) for Core \n",
"lg=0.001;          // Length of Air Gap \n",
"Ag=50*10^-6;       // Area of Megnetic Circuit\n",
"Hg=B/mo;           // Megnetic Field Strength for Air Gap\n",
"Fg=Hg*lg;          // Magnetomotive Force (mmf) for Air Gap \n",
"F=Fc+Fg;           // Total Magnetomotive Force (mmf)\n",
"I=F/N;             // Formula of Magnetising Current \n",
"disp(' Magnetising Current is = '+string(I)+' Amp');\n",
"    \n",
"    \n",
"    \n",
"    \n",
"        // p 215    6.4"
   ]
   }
],
"metadata": {
		  "kernelspec": {
		   "display_name": "Scilab",
		   "language": "scilab",
		   "name": "scilab"
		  },
		  "language_info": {
		   "file_extension": ".sce",
		   "help_links": [
			{
			 "text": "MetaKernel Magics",
			 "url": "https://github.com/calysto/metakernel/blob/master/metakernel/magics/README.md"
			}
		   ],
		   "mimetype": "text/x-octave",
		   "name": "scilab",
		   "version": "0.7.1"
		  }
		 },
		 "nbformat": 4,
		 "nbformat_minor": 0
}
