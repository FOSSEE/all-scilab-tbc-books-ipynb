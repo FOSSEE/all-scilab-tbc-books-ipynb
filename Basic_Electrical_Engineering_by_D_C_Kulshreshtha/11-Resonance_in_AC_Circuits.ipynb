{
"cells": [
 {
		   "cell_type": "markdown",
	   "metadata": {},
	   "source": [
       "# Chapter 11: Resonance in AC Circuits"
	   ]
	},
{
		   "cell_type": "markdown",
		   "metadata": {},
		   "source": [
			"## Example 11.1: Frequence_And_Voltage.sce"
		   ]
		  },
  {
"cell_type": "code",
	   "execution_count": null,
	   "metadata": {
	    "collapsed": true
	   },
	   "outputs": [],
"source": [
"\n",
"            //  Example 11.1\n",
"\n",
"L=0.15;                    // Inductor\n",
"C=100*10^-6;               // Capacitor\n",
"fo=1/{2*%pi*sqrt(L*C)};    // Resonance frequency\n",
"disp(' Resonance frequency (fo) = '+string(fo)+' Hz');\n",
"\n",
"R=12;                      // Circuit resistance\n",
"V=100;                     // Source voltage \n",
"Io=V/R;                    // Maximum current by source\n",
"disp(' Maximum current by source = '+string(Io)+' Amp');\n",
"\n",
"r1=R^2/(2*L^2);               // for easy calculation\n",
"r2=(1/(L*C));                 // for easy calculation\n",
"fc=(1/6.28)*sqrt(r2-r1);      // Frequency for maximum capacitor voltage\n",
"disp(' Frequency for maximum capacitor voltage = '+string(fc)+' Hz');\n",
"\n",
"\n",
"r3=(R^2*C^2)/2;                // for easy calculation\n",
"fl=1/{2*%pi*sqrt((L*C)-r3)};   // Frequency for maximum capacitor voltage\n",
"disp(' Frequency for maximum capacitor voltage = '+string(fo)+' Hz');\n",
"\n",
"Xl=2*%pi*fo*L;                 // Inductive reactance\n",
"disp(' Inductive reactance = '+string(Xl)+' Ohms');\n",
"\n",
"Xc=1/(2*%pi*fo*C);            // Inductive reactance\n",
"disp(' Capacitive reactance = '+string(Xc)+' Ohms');\n",
"\n",
"Q=Xl/R;                       // Quality factor\n",
"disp(' Quality factor = '+string(Q));\n",
"\n",
"VLC=Q*V;                      // Voltage drop across the elements\n",
"disp(' Voltage drop across the elements = '+string(VLC)+' Volt');\n",
"\n",
"\n",
"\n",
"                   // p 378           11.1\n",
"\n",
"\n",
"\n",
"\n",
"\n",
"\n",
"\n",
""
   ]
   }
,
{
		   "cell_type": "markdown",
		   "metadata": {},
		   "source": [
			"## Example 11.2: Capacitor_Voltage_And_Q_FActor.sce"
		   ]
		  },
  {
"cell_type": "code",
	   "execution_count": null,
	   "metadata": {
	    "collapsed": true
	   },
	   "outputs": [],
"source": [
"                    // Example  11.2\n",
"L=0.5;                     // Inductance\n",
"V=100;                     // Supply Voltage\n",
"R=4;                       // Resistance\n",
"f=50;                      // Frequency\n",
"C=1/(4*%pi^2*f^2*L);       // Capacitance\n",
"disp('Capacitance is = '+string(C*10^6)+' uF');\n",
"I=V/R;                     // Current at Resonance Frequency \n",
"disp(' Current at Resonance Frequency = '+string(I)+' Amp');\n",
"wo=2*%pi*f;                // Angular Frequency\n",
"Xl=157;                    // Indctive Reactance\n",
"Vc=I*Xl;                   // Voltage across Capacitor\n",
"disp(' Voltage across Capacitor = '+string(Vc)+' Volt');\n",
"Vl=Vc;                     // Voltage across Inductance\n",
"disp(' Voltage across Inductance = '+string(Vl)+' Volt');\n",
"Q=(wo*L)/R;                // Q-Factor\n",
"disp(' Q-Factor is  = '+string(Q));\n",
"          //   p 378      11.2"
   ]
   }
,
{
		   "cell_type": "markdown",
		   "metadata": {},
		   "source": [
			"## Example 11.3: Inductor_Current_And_Voltage.sce"
		   ]
		  },
  {
"cell_type": "code",
	   "execution_count": null,
	   "metadata": {
	    "collapsed": true
	   },
	   "outputs": [],
"source": [
"                    // Example  11.3\n",
"V=0.85;                     // Supply Voltage\n",
"f=175*10^3;                 // Frequency\n",
"C=320*10^-12;               // Capacitance\n",
"L=1/(4*3.14^2*f^2*C);       // Inductance\n",
"disp('Inductance is = '+string(L*10^3)+' mH');\n",
"Xl=2*3.14*f*L;              // Indctive reactance\n",
"Q=50;                       // Q-Factor\n",
"R=Xl/Q;                     // Resistance\n",
"I=V/R;                      // circuit current \n",
"disp(' Circuit current is = '+string(I*1000)+' mA');\n",
"Vc=Q*V;                     // Voltage across Capacitor\n",
"disp(' Voltage across Capacitor = '+string(Vc)+' Volt');\n",
"       //    p379     11.3"
   ]
   }
,
{
		   "cell_type": "markdown",
		   "metadata": {},
		   "source": [
			"## Example 11.4: Capacitor_Current_And_Enegy.sce"
		   ]
		  },
  {
"cell_type": "code",
	   "execution_count": null,
	   "metadata": {
	    "collapsed": true
	   },
	   "outputs": [],
"source": [
"                     // Example  11.4\n",
"L=1*10^-3;                 // Inductance\n",
"V=120;                     // Supply Voltage\n",
"R=2;                       // Resistance\n",
"f=5*10^3;                  // Frequency\n",
"C=1/(4*%pi^2*f^2*L);       // Capacitance\n",
"disp('Capacitance is = '+string(C*10^9)+' nF');\n",
"I=V/R;                     // Current at Resonance Frequency \n",
"disp(' Current at Resonance Frequency = '+string(I)+' Amp');\n",
"Emax=L*I^2;                // Maximum Instantaneous Energy\n",
"disp(' The Maximum Instantaneous Energy = '+string(Emax)+' J');\n",
"        //    p 379        11.4"
   ]
   }
,
{
		   "cell_type": "markdown",
		   "metadata": {},
		   "source": [
			"## Example 11.5: Frequence_And_Q_Factor.sce"
		   ]
		  },
  {
"cell_type": "code",
	   "execution_count": null,
	   "metadata": {
	    "collapsed": true
	   },
	   "outputs": [],
"source": [
"                    // Example  11.5\n",
"R1=0.51;                     // Resistance-1\n",
"R2=1.3;                      // Resistance-2\n",
"R3=0.24;                     // Resistance-3\n",
"Req=R1+R2+R3;                // Eqviualent Resistance\n",
"L1=32*10^-3;                 // Inductance-1\n",
"L2=15*10^-3;                 // Inductance-2\n",
"Leq=L1+L2;                   // Eqviualent Inductance\n",
"C1=62*10^-6;                 // Capacitance-1\n",
"C2=25*10^-6;                 // Capacitance-2\n",
"Ceq=(C1*C2)/(C1+C2);         // Eqviualent Capacitance\n",
"fo=1/(2*%pi*sqrt(Leq*Ceq));        // Resonance Frequency\n",
"disp(' Resonance Frequency is = '+string(round(fo))+' Hz');\n",
"Q=(1/Req)*sqrt(Leq/Ceq);           // Over all Q-Factor\n",
"disp(' Over all Q-Factor is  = '+string(round(Q)));\n",
"wo=2*%pi*fo;\n",
"Q1=(wo*L1)/R1;                    // Q-Factor of Coil-1\n",
"disp(' Q-Factor of Coil-1 is  = '+string(Q1));\n",
"Q2=(wo*L2)/R2;                   // Q-Factor of Coil-2\n",
"disp(' Q-Factor of Coil-2 is  = '+string(Q2));\n",
"                 // p 380     11.5 "
   ]
   }
,
{
		   "cell_type": "markdown",
		   "metadata": {},
		   "source": [
			"## Example 11.6: Frequence.sce"
		   ]
		  },
  {
"cell_type": "code",
	   "execution_count": null,
	   "metadata": {
	    "collapsed": true
	   },
	   "outputs": [],
"source": [
"                    // Example  11.6\n",
"f=150*10^3;                  // Frequency\n",
"Bw=75*10^3;                  // Band width\n",
"Q=f/Bw;                      // Q-Factor\n",
"disp(' Q-Factor is  = '+string(Q));\n",
"               // since Q < 10   there for we need to solve by Equation\n",
"               // 75= f2-f1    &   150= root(f1*f2)\n",
"               // will get Eq ( f1^2+ 75f1- 22500= 0 ) by Eliminating f2\n",
"               // by factorization we have f1=( 117.1kHz or -192.1kHz )\n",
"f1=117.1; \n",
"f2=75+f1;\n",
"disp(' The half Power Frequencies are f1= '+string(f1)+' kHz   &  f2= '+string(f2)+' kHz');\n",
"      //   p 382      11.6"
   ]
   }
,
{
		   "cell_type": "markdown",
		   "metadata": {},
		   "source": [
			"## Example 11.7: Resistance_Current_And_Capacitor.sce"
		   ]
		  },
  {
"cell_type": "code",
	   "execution_count": null,
	   "metadata": {
	    "collapsed": true
	   },
	   "outputs": [],
"source": [
"                     // Example  11.7\n",
"V=230;                         // Supply Voltage\n",
"L=200*10^-6;                   // Inductance\n",
"R=20;                          // Resistance\n",
"f=1*10^6;                      // Frequency\n",
"Xl=2*%pi*f*L;                  // Indctive reactance\n",
"C=1/(4*%pi^2*f^2*L);           // Capacitance\n",
"disp(' Required Capacitance = '+string(C*10^12)+' pF');\n",
"Q=Xl/R;                        // Q-Factor\n",
"disp(' Q-Factor is  = '+string(Q));\n",
"Zo=L/(C*R);                    // dynamic Impedance\n",
"disp(' Dynamic Impedance is = '+string(Zo)+' Ohm');\n",
"Zs=8000;                       // Soures Resistance\n",
"Z=Zo+Zs;                       // Total Resistance\n",
"I=V/Z;                         // Total Line Current \n",
"disp(' Total Line Current is = '+string(I*1000)+' mA');\n",
"                 //   p 388           11.7"
   ]
   }
,
{
		   "cell_type": "markdown",
		   "metadata": {},
		   "source": [
			"## Example 11.8: Frequence_And_Q_Factor.sce"
		   ]
		  },
  {
"cell_type": "code",
	   "execution_count": null,
	   "metadata": {
	    "collapsed": true
	   },
	   "outputs": [],
"source": [
"                     // Example  11.8\n",
"L=0.24;                   // Inductance\n",
"C=3*10^-6;                // Capacitance\n",
"R=150;                    // Resistance\n",
"f=1/(2*%pi*sqrt(L*C));    // Frequency\n",
"fo=f*sqrt(1-R^2*(C/L));   // Resonance Frequency\n",
"disp(' Resonance Frequency = '+string(fo)+' Hz');\n",
"Xl=2*%pi*fo*L;            // Indctive reactance\n",
"Q=Xl/R;                   // Q-Factor\n",
"disp(' Q-Factor is  = '+string(Q));\n",
"Bw=fo/Q;                 // Band width\n",
"disp(' Band width is = '+string(Bw)+' Hz');\n",
"        // p 387    11.8"
   ]
   }
],
"metadata": {
		  "kernelspec": {
		   "display_name": "Scilab",
		   "language": "scilab",
		   "name": "scilab"
		  },
		  "language_info": {
		   "file_extension": ".sce",
		   "help_links": [
			{
			 "text": "MetaKernel Magics",
			 "url": "https://github.com/calysto/metakernel/blob/master/metakernel/magics/README.md"
			}
		   ],
		   "mimetype": "text/x-octave",
		   "name": "scilab",
		   "version": "0.7.1"
		  }
		 },
		 "nbformat": 4,
		 "nbformat_minor": 0
}
