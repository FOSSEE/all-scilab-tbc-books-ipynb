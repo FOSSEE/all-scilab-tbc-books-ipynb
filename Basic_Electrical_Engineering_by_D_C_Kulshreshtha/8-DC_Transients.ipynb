{
"cells": [
 {
		   "cell_type": "markdown",
	   "metadata": {},
	   "source": [
       "# Chapter 8: DC Transients"
	   ]
	},
{
		   "cell_type": "markdown",
		   "metadata": {},
		   "source": [
			"## Example 8.1: Voltage.sce"
		   ]
		  },
  {
"cell_type": "code",
	   "execution_count": null,
	   "metadata": {
	    "collapsed": true
	   },
	   "outputs": [],
"source": [
"\n",
"                 // Example 8.1\n",
"\n",
"         // From diagram 8.3\n",
"\n",
"         //  Equivalent resistance i.e Req= 20+ (20||10)\n",
"\n",
"Req= 20+{(20*10)/(20+10)};        // Equivalent resistance\n",
"V=24;                             // Supply voltage\n",
"I=V/Req;                          // Supply current\n",
"R=20;                             // Resistance\n",
"R1=20+10;                         // Total Resistance   [ from Fig 8.3b ]\n",
"Il=I*{20/(20+10)};                // Current through inductor\n",
"io=Il;                            // Open-ckt current\n",
"disp(' Open-ckt current = '+string(io)+' Amp');\n",
"\n",
"Vr=-io*R;                         // Voltage across 20 Ohms resistor\n",
"disp(' Voltage across 20 Ohms resistor = '+string(Vr)+' Volt');\n",
"\n",
"         // Voltage across inductor is given by  i.e [ e=L*{io*(R/L)} ]\n",
"         // that is [ e= io*R ]\n",
"\n",
"e=io*R1;                          // Voltage across inductor\n",
"disp(' Voltage across inductor = '+string(e)+' Volt');\n",
"\n",
"\n",
"\n",
"\n",
"             //  p 276           8.1"
   ]
   }
,
{
		   "cell_type": "markdown",
		   "metadata": {},
		   "source": [
			"## Example 8.2: Current_And_Power.sce"
		   ]
		  },
  {
"cell_type": "code",
	   "execution_count": null,
	   "metadata": {
	    "collapsed": true
	   },
	   "outputs": [],
"source": [
"\n",
"              //  Example 8.2\n",
"\n",
"\n",
"R=0.8;                // Resistance\n",
"L=1.6;                // Inductor\n",
"t1=L/R;               // Time\n",
"\n",
"            // Instantaneous current is ( it= Io*e(-t/2) )\n",
"                       \n",
"Io=20/exp (0.5);      // The current ( at t= -1 & i= 20A ) \n",
"disp(' The value of current at t=0 i(0) = '+string(Io)+' Amp');\n",
" \n",
"i1=Io*exp (-0.5);    // Current through inductor at t= 1S \n",
"i=7.36;              // i1=7.357 we have taken as ( i=7.36 )\n",
"p1=i*i*R;            // Power absorbed by Resistor  \n",
"disp(' Power absorbed by inductor at t= 1S P(1) = '+string(-p1)+' Watt');\n",
"\n",
"            // We know that w=0.5*L*it^2;  w= 100 J\n",
"            \n",
"it=sqrt(200/1.6);    // Flow of current \n",
"t=log (Io/it)*2;     // Time required to store Energy 100J\n",
"disp(' Time required to store Energy 100J = '+string(t)+' Second');\n",
"\n",
"\n",
"\n",
"                //       p 277            8.2"
   ]
   }
,
{
		   "cell_type": "markdown",
		   "metadata": {},
		   "source": [
			"## Example 8.3: Current_And_Time.sce"
		   ]
		  },
  {
"cell_type": "code",
	   "execution_count": null,
	   "metadata": {
	    "collapsed": true
	   },
	   "outputs": [],
"source": [
"\n",
"\n",
"              //  Example 8.3\n",
"\n",
"R=10;                       // Resistance                                                  \n",
"L=14;                       // Inductor\n",
"t1=L/R;                     // Time\n",
"\n",
"V=140;                      // Voltage\n",
"Io=V/R;                     // Steady State current\n",
"t2=0.4;                     // Time\n",
"i=Io*(1-exp (-t2/t1));      // Value of current at t= 0.4\n",
"disp(' Value of current at (t=0.4) = '+string(i)+' Amp');\n",
"\n",
"              // ==> We have formula  it=Io*exp (-t/t1) .\n",
"it=8;                       // Current of 8 Amp \n",
"t=-log(it/14)*t1;           // Time taken to rech at i=8 A \n",
"disp('Time taken to rech at i=8 A = '+string(t)+' Second');\n",
"\n",
"\n",
"\n",
"\n",
"                //   p 279         8.3"
   ]
   }
,
{
		   "cell_type": "markdown",
		   "metadata": {},
		   "source": [
			"## Example 8.4: Current.sce"
		   ]
		  },
  {
"cell_type": "code",
	   "execution_count": null,
	   "metadata": {
	    "collapsed": true
	   },
	   "outputs": [],
"source": [
"\n",
"              //  Example 8.4\n",
"\n",
"          // From the diagram 4.5\n",
"         \n",
"V1=20;                                // Source voltage \n",
"R=80;                                 // Series resistance           \n",
"io1=V1/R;                             // Steay state current \n",
"disp(' Steay state current (at t=0- ) = '+string(io1)+' Amp'); \n",
"\n",
"         // Because current in inducor can't charge instantaneously\n",
"         \n",
"disp(' Steay state current (at t=0+ ) = '+string(io1)+' Amp');\n",
"\n",
"V2=40;                                // Source voltage\n",
"Io2=(V1+V2)/R;                        // Steay state current at t= infinity\n",
"disp(' Steay state current (at t= infinity ) = '+string(Io2)+' Amp');\n",
"\n",
"L=40*10^-3;                           // Inductor\n",
"t1=L/R;                               // Time COnstant\n",
"t=0.001;                              // Time of 1 ms\n",
"         // By the formula ==>  i(1 ms)= io1*(io1-Io2)*(1-e-(t/t1))\n",
"\n",
"Ims=io1+(Io2-io1)*(1-exp (-t/t1));    // Steay state current (at t=1ms)\n",
"disp(' Steay state current (at t= 1ms ) = '+string(Ims)+' Amp');\n",
"\n",
"\n",
"\n",
"            //  p 279              8.4"
   ]
   }
,
{
		   "cell_type": "markdown",
		   "metadata": {},
		   "source": [
			"## Example 8.5: Current.sce"
		   ]
		  },
  {
"cell_type": "code",
	   "execution_count": null,
	   "metadata": {
	    "collapsed": true
	   },
	   "outputs": [],
"source": [
"\n",
"             //  Example 8.5\n",
"\n",
"      // From the diagram 4.6\n",
"\n",
"V=20;                       // Source Voltage\n",
"Io=V/(25+5);                // Current iL(0-)\n",
"disp('Current iL(0-) is = '+string(Io)+' Amp');\n",
"\n",
"R1=30;                      // Resistance of 30 Ohms\n",
"i2=V/R1;                    // Current i2(0-)\n",
"disp('Current i2(0-) is = '+string(i2)+' Amp');\n",
"\n",
"        // Because current in inducor can't charge instantaneously.\n",
"disp('Current iL(0+) is = '+string(i2)+' Amp');\n",
"\n",
"R12=60;                      // Resistance of 60 Ohms\n",
"R3=30;                       // Resistance of 30 Ohms\n",
"R45=30;                      // Resistance of 30 Ohms\n",
"Req=R45+[(R12*R3)/(R12+R3)]; // Equivalent Resistance\n",
"L=2;                         // Inductor \n",
"t=L/Req;                     // Time constant\n",
"t1=0.02;                     // Current of 20 mA      \n",
"I1=0.667*exp(-t1/t);            // Inductor current ( iL(t)= Io*e-t1/t )\n",
"disp('Inductor current iL(t) is = '+string(I1)+' Amp');\n",
"\n",
"         // ==> [ By using Current divider ]\n",
"I2=-I1*(R12/(R12+R3));       // Inductor current at( t=20 mA)\n",
"disp('Inductor current at( t=20 mA) is = '+string(I2)+' Amp');       \n",
"\n",
"\n",
"              //  p 280           8.5  \n",
"         \n",
"         \n",
"         \n",
"                  "
   ]
   }
,
{
		   "cell_type": "markdown",
		   "metadata": {},
		   "source": [
			"## Example 8.6: Voltage_And_Current.sce"
		   ]
		  },
  {
"cell_type": "code",
	   "execution_count": null,
	   "metadata": {
	    "collapsed": true
	   },
	   "outputs": [],
"source": [
"                             // Examle 8.6\n",
"Vo=3;                   // Supply voltage\n",
"vo=0;                   // Voltage at V(o+)  {Because instantly capacitor can't charge }\n",
"disp(' Voltage across capacitor at V(o+) = '+string(vo)+' Volt');\n",
"R=1500;                 // Resistance\n",
"Io=Vo/R;                // Current of capacitor\n",
"io=Io;                  // Current of capacitor at i(o+)\n",
"disp(' Current across capacitor at i(o+) = '+string(io)+' Amp');\n",
"C=5*10^-6;              // Capacitor\n",
"t=R*C;                  // Time constant\n",
"disp(' Time constant = '+string(t)+' Second');\n",
"t1=15*10^-3;            // Time instant        ==> { v=Vo*(1-e-(t1/t)) }\n",
"v=Vo*(1-0.135);         // Voltage at Time t1      { e-(t1/t)=0.135 }\n",
"disp(' Voltage across capacitor at ( t=15 mS ) = '+string(v)+' Volt');\n",
"i=Io*0.135;            // Current at Time t1    ==> { i=Io*e-(t1/t) }\n",
"disp(' Current of capacitor at ( t=15 mS ) = '+string(i)+' Amp');\n",
"                       //  p 284       8.6"
   ]
   }
,
{
		   "cell_type": "markdown",
		   "metadata": {},
		   "source": [
			"## Example 8.7: Voltage_And_Current.sce"
		   ]
		  },
  {
"cell_type": "code",
	   "execution_count": null,
	   "metadata": {
	    "collapsed": true
	   },
	   "outputs": [],
"source": [
"                             // Examle 8.7\n",
"Vo=3;                   // Supply voltage\n",
"vo=Vo;                  // Voltage at V(o+)\n",
"vio=Vo;                 // Voltage at V(o-)\n",
"disp(' Voltage across capacitor at V(o+) = '+string(vo)+' Volt');\n",
"R=100;                  // Resistance\n",
"Io=Vo/R;                // Current of capacitor\n",
"io=-Io;                 // Current of capacitor at i(o+)\n",
"disp(' Current across capacitor at i(o+) = '+string(io)+' Amp');\n",
"C=5*10^-6;              // Capacitor\n",
"t=R*C;                  // Time constant\n",
"disp(' Time constant = '+string(t)+' Second');\n",
"t1=1.2*10^-3;           // Time instant        ==> { v=Vo*e-(t1/t) }\n",
"v=Vo*0.0907;            // Voltage at Time t1      { e-(t1/t)=0.0907 }\n",
"disp(' Voltage across capacitor at ( t=1.2 mS ) = '+string(v)+' Volt');\n",
"i=-Io*0.0907;           // Current at Time t1  ==> { i=-Io*e-(t1/t) } \n",
"disp(' Current of capacitor at ( t=1.2 mS ) = '+string(i)+' Amp');\n",
"                       //  p 285       8.7"
   ]
   }
,
{
		   "cell_type": "markdown",
		   "metadata": {},
		   "source": [
			"## Example 8.8: Current.sce"
		   ]
		  },
  {
"cell_type": "code",
	   "execution_count": null,
	   "metadata": {
	    "collapsed": true
	   },
	   "outputs": [],
"source": [
"\n",
"              //  Example 8.8\n",
"\n",
"         // From the diagram 8.15\n",
"         \n",
"R1=1000;                         // Resistance of 1 kilo-Ohms    \n",
"R2=10000;                        // Resistance of 10 kilo-Ohms\n",
"R3=1000;                         // Resistance of 1 kilo-Ohms         \n",
"Rth=[(R1+R2)*R3]/(R1+R2+R3);     // Equivalent resistance\n",
"C=10*10^-6;                      // capacitor\n",
"t=Rth*C;                         // Time constant\n",
"V=30;                            // Source voltage\n",
"Vc=V*(R1/(R1+R2));               // Voltage across the capacitor\n",
"\n",
"           // Apply KVL to outer loop\n",
"           // we get 30-Io*R1-15= 0\n",
"Io=15/R1;                        // Current in the outer loop\n",
"Iin=V/(R1+R2+R3);                // Open=ckt current\n",
"\n",
"           // We know that  ==> it=Iin+[Io-Iin]*e(-t1/t)\n",
"t1=0.001;                        // Assume t1=1 mS\n",
"it=Iin+[Io-Iin]*exp(-t1/t);      // Current i(t)\n",
"disp(' Current i(t) is = '+string(it)+' Amp   oR  i(t)= 2.5+(15-2.5)*e(-t/9.17ms) mA');\n",
"\n",
"\n",
"\n",
"\n",
"                     // p 287             8.8"
   ]
   }
],
"metadata": {
		  "kernelspec": {
		   "display_name": "Scilab",
		   "language": "scilab",
		   "name": "scilab"
		  },
		  "language_info": {
		   "file_extension": ".sce",
		   "help_links": [
			{
			 "text": "MetaKernel Magics",
			 "url": "https://github.com/calysto/metakernel/blob/master/metakernel/magics/README.md"
			}
		   ],
		   "mimetype": "text/x-octave",
		   "name": "scilab",
		   "version": "0.7.1"
		  }
		 },
		 "nbformat": 4,
		 "nbformat_minor": 0
}
