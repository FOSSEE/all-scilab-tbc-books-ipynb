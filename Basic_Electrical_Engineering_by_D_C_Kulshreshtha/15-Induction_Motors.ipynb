{
"cells": [
 {
		   "cell_type": "markdown",
	   "metadata": {},
	   "source": [
       "# Chapter 15: Induction Motors"
	   ]
	},
{
		   "cell_type": "markdown",
		   "metadata": {},
		   "source": [
			"## Example 15.1: Speed_And_Frequency.sce"
		   ]
		  },
  {
"cell_type": "code",
	   "execution_count": null,
	   "metadata": {
	    "collapsed": true
	   },
	   "outputs": [],
"source": [
"                 // Examle 15.1\n",
"p=6;                      // No.Of poles\n",
"f=50;                     // Frequency\n",
"Ns=(120*f)/p;             // Synchronous speed\n",
"disp('(a) The Synchronous Speed (Ns) = '+string(Ns)+' rpm');\n",
"s1=0.01;                  // Slip (s=1 %)\n",
"N1=Ns*(1-s1);             // he No Load Speed (N)\n",
"disp('(b) The No Load Speed (N) = '+string(N1)+' rpm');\n",
"s2=0.03;                  // Slip (s=3 %)\n",
"N2=Ns*(1-s2);             // The Full Load Speed \n",
"disp('(c) The Full Load Speed (N) = '+string(N2)+' rpm');\n",
"s=1;                      // Slip (s=100 %)\n",
"fr1=s*f;                  // The Frequence of Rotor (at s=1 )\n",
"disp('(d) The Frequence of Rotor (at s=1 ) = '+string(fr1)+' Hz');\n",
"fr2=s2*f;                 // The Frequence of Rotor (at s=0.03 )\n",
"disp('(e) The Frequence of Rotor (at s=0.03 ) = '+string(fr2)+' Hz');\n",
"        // p 593     15.1"
   ]
   }
,
{
		   "cell_type": "markdown",
		   "metadata": {},
		   "source": [
			"## Example 15.2: Speed_And_Frequency.sce"
		   ]
		  },
  {
"cell_type": "code",
	   "execution_count": null,
	   "metadata": {
	    "collapsed": true
	   },
	   "outputs": [],
"source": [
"                 // Examle 15.2\n",
"p=12;                     // No.Of poles\n",
"f=50;                     // Frequency\n",
"Ns=(120*f)/p;             // Synchronous speed\n",
"disp(' The Synchronous Speed (Ns) = '+string(Ns)+' rpm');\n",
"N=485;                    // Speed of Motor\n",
"s=(Ns-N)/Ns;              // Slip\n",
"fr=s*f;                   // The Frequence of Rotor (fr)\n",
"disp(' The Frequence of Rotor (fr) = '+string(fr)+' Hz');\n",
"            //  p 593    15.2"
   ]
   }
,
{
		   "cell_type": "markdown",
		   "metadata": {},
		   "source": [
			"## Example 15.3: Speed.sce"
		   ]
		  },
  {
"cell_type": "code",
	   "execution_count": null,
	   "metadata": {
	    "collapsed": true
	   },
	   "outputs": [],
"source": [
"                 // Examle 15.3\n",
"p=6;                      // No.Of poles\n",
"f=50;                     // Frequency\n",
"Ns=(120*f)/p;             // Synchronous speed\n",
"disp(' The Synchronous Speed (Ns) = '+string(Ns)+' rpm');\n",
"fr=2;                     // Frequency of rotor at full-load\n",
"s=fr/f;                   // Slip at full-load\n",
"disp(' the Full Load Slip (s) = '+string(s*100)+' %');\n",
"N=Ns*(1-s);               // The Speed of Rotor (fr)\n",
"disp(' The Speed of Rotor (fr) = '+string(N)+' rpm');\n",
"               //   p 594   15.3"
   ]
   }
,
{
		   "cell_type": "markdown",
		   "metadata": {},
		   "source": [
			"## Example 15.4: Speed_And_Frequency.sce"
		   ]
		  },
  {
"cell_type": "code",
	   "execution_count": null,
	   "metadata": {
	    "collapsed": true
	   },
	   "outputs": [],
"source": [
"                   // Examle 15.4\n",
"p=4;                       // No.Of poles\n",
"f=50;                      // Frequency\n",
"Ns=(120*f)/p;              // Synchronous speed\n",
"disp(' The Synchronous Speed (Ns) = '+string(Ns)+' rpm');\n",
"s1=0.04;                   // Slip\n",
"N1=Ns*(1-s1);              // The Speed of Rotor\n",
"disp('(b) The Speed of Rotor (at s=0.04) = '+string(N1)+' rpm');\n",
"N=600;                     // Speed Of rotation\n",
"s=(Ns-N)/Ns;               // When speed is (600 rmp) Then Slip\n",
"fr=s*f;                    // The Frequence of Rotor (fr)\n",
"disp('(d) The Frequence of Rotor (fr) = '+string(fr)+' Hz');\n",
"             //  p 594        15.4"
   ]
   }
,
{
		   "cell_type": "markdown",
		   "metadata": {},
		   "source": [
			"## Example 15.5: Current.sce"
		   ]
		  },
  {
"cell_type": "code",
	   "execution_count": null,
	   "metadata": {
	    "collapsed": true
	   },
	   "outputs": [],
"source": [
"                             // Examle 15.5\n",
"R2=0.05;                     // Resistance \n",
"s=0.04;                      // Slip \n",
"X20=0.1;                     // Standstill reactance\n",
"El=100;                      // Voltage\n",
"E20=El/1.732;                // Induced emf per phase\n",
"Z2=sqrt(R2^2+(s*X20)^2);     // Impedance\n",
"E2=s*E20;                    // Emf with (s= 0.04)\n",
"I2=E2/Z2;                    // Rotor current for (s=0.04) \n",
"disp(' Rotor current for (s=0.04) = '+string(round(I2))+' Amp');\n",
"CosQ2=E2/Z2;                 // CosQ2=E2/Z2 = 0.998  ==> ,here take ( 0.99 )\n",
"Q2=acosd(0.99);              // Phase diffrence for (s= 0.04)\n",
"disp(' Phase diffrence between rotor voltage & current for (s=0.04) = '+string(Q2)+' Digree');\n",
"s1=1;\n",
"E21=s1*E20;                  // Induced emf per phase for s=1\n",
"Z21=sqrt(R2^2+(s1*X20)^2);   // Impedance   ==>  Z21= 57.73  ,but take (57.5)\n",
"I21=57.5/Z21;                // Rotor current for (s=1) \n",
"disp(' Rotor current for (s=1) = '+string(round(I21))+' Amp');\n",
"Q21=acosd(R2/Z21);           // Rotor current for (s=1) \n",
"disp(' Phase diffrence between rotor voltage & current for (s=1) = '+string(Q21)+' Digree');\n",
"          // p 597     15.5"
   ]
   }
,
{
		   "cell_type": "markdown",
		   "metadata": {},
		   "source": [
			"## Example 15.6: Power_And_Speed.sce"
		   ]
		  },
  {
"cell_type": "code",
	   "execution_count": null,
	   "metadata": {
	    "collapsed": true
	   },
	   "outputs": [],
"source": [
"                             // Examle 15.6\n",
"po=5*746;             // O/p power\n",
"n=0.875;              // Efficiency of motor at no load\n",
"pin=round(po/n);      // I/p power\n",
"p1=pin-po;            // Total losses\n",
"pm=0.05*p1;           // Mechanical losses\n",
"pe=p1-pm;             // Electrical losses\n",
"pd=po+pm;             // Devlopment power\n",
"disp(' Devlopment power = '+string(pd)+' Watt');\n",
"f=50;                 // Frequency\n",
"p=4;                  // No.Of poles\n",
"Ns=(120*f)/p;         // Synchronous speed \n",
"N=1470;               // No.Of Revolution in rmp\n",
"s=(Ns-N)/Ns;          // The Slip\n",
" \n",
"pg=pd/(1-s);          // Air-gap power\n",
"disp(' Air-gap power = '+string(pg)+' Watt');\n",
"pr=s*pg;              // Rotor copper loss\n",
"disp(' Rotor copper loss = '+string(pr)+' Watt');\n",
"ps=pin-pg;           // Stator loss\n",
"disp(' Stator loss = '+string(ps)+' Watt');\n",
"             //   p 598    15.6"
   ]
   }
,
{
		   "cell_type": "markdown",
		   "metadata": {},
		   "source": [
			"## Example 15.7: Current_Power_And_Speed.sce"
		   ]
		  },
  {
"cell_type": "code",
	   "execution_count": null,
	   "metadata": {
	    "collapsed": true
	   },
	   "outputs": [],
"source": [
"                             // Examle 15.7\n",
"v1=400/1.732;                              // Phase voltage\n",
"s=0.02;                                    // Slip\n",
"p=4;                                       // No.Of poles\n",
"f=50;                                      // Frequency\n",
"R2=0.332;                                  // Resistance R2\n",
"X2=0.464;                                  // Reactance X2\n",
"Ns=(120*f)/p;                              // Synchronous speed \n",
"N=Ns*(1-s);                                // Rotor speed\n",
"disp(' The rotor speed is = '+string(N)+' rmp');\n",
"V1=231+%i*0;                               // Supply voltage\n",
"Xg=26.3;                                   // Reactance Xg\n",
"X1=1.106;                                  // Reactance X1\n",
"R1=0.641;                                  // Resistance R1\n",
"Vth={V1*(%i*Xg)}/(R1+%i*(X1+Xg));          // Thevenin's voltage\n",
"Zth={%i*Xg*(R1+%i*X1)}/(R1+%i*(X1+Xg));    // Thevenin's impedance\n",
"Rl={(1-s)/s}*R2;                           // Mechanical load \n",
"I1=Vth/(Zth+R2+%i*X2+Rl);                 // stator current \n",
"disp(' Stator current = '+string(I1)+' Amp  or  ('+string(abs(I1))+' <'+string(atand(imag(I1),real(I1)))+' Amp )');\n",
"Q=atand(imag(I1),real(I1));               // Power factor angle\n",
"pf=cosd(Q);                               // Power factor\n",
"disp(' Power factor is = '+string(pf)+' Lagging');\n",
"RL=340;                                   // Rotational losses\n",
"po=(3*12.84^2*Rl)-RL;                     // O/p power  ==> ( taken I1=12.84 )\n",
"disp(' O/p power = '+string(abs(po))+' Watt');\n",
"pin=3*V1*12.82*0.998;                     // I/p power  ==> ( taken I1=12.82 & pf= 0.998)\n",
"disp(' I/p power = '+string(abs(pin))+' Watt');\n",
"n=po/pin;                                 // Efficiency of motor\n",
"disp(' Efficiency of motor = '+string(abs(n*100))+' %');\n",
"              //   p 603     15.7"
   ]
   }
,
{
		   "cell_type": "markdown",
		   "metadata": {},
		   "source": [
			"## Example 15.8: Resistance.sce"
		   ]
		  },
  {
"cell_type": "code",
	   "execution_count": null,
	   "metadata": {
	    "collapsed": true
	   },
	   "outputs": [],
"source": [
"                             // Examle 15.8\n",
"f=50;                 // Frequency\n",
"p=6;                  // No.Of poles\n",
"Ns=(120*f)/p;         // Synchronous speed \n",
"N=940;               // No.Of Revolution in rmp\n",
"s=(Ns-N)/Ns;          // The Slip\n",
"disp(' The Slip is = '+string(s));\n",
"R2=0.1;              // Rotor resistance per phase\n",
"X20=R2/s;            // Standing rotor reactance\n",
"disp(' Standing rotor reactance = '+string(X20)+' Ohm');\n",
"          //   p 608       15.8"
   ]
   }
],
"metadata": {
		  "kernelspec": {
		   "display_name": "Scilab",
		   "language": "scilab",
		   "name": "scilab"
		  },
		  "language_info": {
		   "file_extension": ".sce",
		   "help_links": [
			{
			 "text": "MetaKernel Magics",
			 "url": "https://github.com/calysto/metakernel/blob/master/metakernel/magics/README.md"
			}
		   ],
		   "mimetype": "text/x-octave",
		   "name": "scilab",
		   "version": "0.7.1"
		  }
		 },
		 "nbformat": 4,
		 "nbformat_minor": 0
}
