{
"cells": [
 {
		   "cell_type": "markdown",
	   "metadata": {},
	   "source": [
       "# Chapter 16: DC Machines"
	   ]
	},
{
		   "cell_type": "markdown",
		   "metadata": {},
		   "source": [
			"## Example 16.10: Turns.sce"
		   ]
		  },
  {
"cell_type": "code",
	   "execution_count": null,
	   "metadata": {
	    "collapsed": true
	   },
	   "outputs": [],
"source": [
"                // Examle 16.10\n",
"i1=4;                     // No load current\n",
"i2=6;                     // Full-load current\n",
"n=1500;                   // No.Of turns per poles\n",
"At1=i1*n;                 // Amper Turns per pole on No Load\n",
"disp(' Amper Turns per pole on No Load = '+string(At1)+' At');\n",
" \n",
"At2=i2*n;                 // Amper Turns per pole on Full Load\n",
"disp(' Amper Turns per pole on Full Load = '+string(At2)+' At');\n",
"At=At2-At1;               // Amper Turns per pole of seires winding\n",
"disp(' Amper Turns per pole of seires winding = '+string(At)+' At');\n",
"Nse=At/100;               // Full Load Current\n",
"disp(' Full Load Current = '+string(Nse));\n",
"             //    p 647     16.10"
   ]
   }
,
{
		   "cell_type": "markdown",
		   "metadata": {},
		   "source": [
			"## Example 16.11: Voltage.sce"
		   ]
		  },
  {
"cell_type": "code",
	   "execution_count": null,
	   "metadata": {
	    "collapsed": true
	   },
	   "outputs": [],
"source": [
"                     // Examle 16.11\n",
"V=250;                 // Supply voltage\n",
"Rsh=250;               // Field winding resistance\n",
"Ish=V/Rsh;             // The shunt field current (Ish)\n",
"disp(' The Shunt field current (Ish) = '+string(Ish)+' Amp');\n",
"Il=41;                 // Full-load current \n",
"Ia=Il-Ish;             // Armature current\n",
"disp(' The Armature current current (Ia) = '+string(Ia)+' Amp');\n",
"Ra=0.1;                // Armature resistance\n",
"Eb=V-(Ia*Ra);          // back emf\n",
"disp(' The back emf (Eb) = '+string(Eb)+' Volt');\n",
"              //   p 649      16.11"
   ]
   }
,
{
		   "cell_type": "markdown",
		   "metadata": {},
		   "source": [
			"## Example 16.12: Speed.sce"
		   ]
		  },
  {
"cell_type": "code",
	   "execution_count": null,
	   "metadata": {
	    "collapsed": true
	   },
	   "outputs": [],
"source": [
"                // Examle 16.12\n",
"V=440;                     // Supply voltage\n",
"Ia=50;                     // Armature currernt\n",
"Ra=0.28;                   // Armature resistance\n",
"a=2;                       // No.Of paraller path\n",
"Q=0.023;                   // Megnetic flux per pole\n",
"z=888;                     // Impedence\n",
"p=4;                       // No.Of poles\n",
"Eb=V-(Ia*Ra);              // Back emf (Eb)\n",
"disp(' Back emf (Eb) = '+string(Eb)+' Volt');\n",
"N=(60*a*Eb)/(Q*z*p);       // Speed of the moter\n",
"disp(' Speed of the moter = '+string(round(N))+' rms');\n",
"          //  p 649       16.12"
   ]
   }
,
{
		   "cell_type": "markdown",
		   "metadata": {},
		   "source": [
			"## Example 16.13: Speed.sce"
		   ]
		  },
  {
"cell_type": "code",
	   "execution_count": null,
	   "metadata": {
	    "collapsed": true
	   },
	   "outputs": [],
"source": [
"                // Examle 16.13\n",
"At=900;                  // Speed of motor\n",
"V=460;                   // Supply voltage\n",
"kQ=V/At;                 // Orignal Flux \n",
"disp(' Orignal Flux = '+string(kQ));\n",
"V1=200;                  // Chenged Supply voltage\n",
"N=V1/(0.7*kQ);           // Speed of Motor When Supply (200 V)\n",
"disp(' Speed of Motor When Supply (200 V) = '+string(round(N))+' rpm');\n",
"              //  p 649     16.13"
   ]
   }
,
{
		   "cell_type": "markdown",
		   "metadata": {},
		   "source": [
			"## Example 16.14: Speed_And_Torque.sce"
		   ]
		  },
  {
"cell_type": "code",
	   "execution_count": null,
	   "metadata": {
	    "collapsed": true
	   },
	   "outputs": [],
"source": [
"                // Examle 16.14\n",
"V=480;\n",
"Ia=110;                  // Armature currernt\n",
"Ra=0.2;                  // Armature resistance\n",
"a=6;                     // No.Of paraller path\n",
"p=6;                     // No.Of poles\n",
"Q=0.05;                  // Megnetic flux per pole\n",
"z=864;                   // Impedence\n",
"Eb=V-(Ia*Ra);            // Generated emf (Eb)\n",
"disp('Generated emf (Eb) = '+string(Eb)+' Volt');\n",
"N=(60*a*Eb)/(Q*z*p);      // Speed of the moter\n",
"disp(' Speed of the moter = '+string(round(N))+' rms');\n",
"        //  ==> Using Formula { td= Qz/2TT x(p/A) xIa }\n",
"x=(Q*z)/(2*%pi);         // for simlicity  \n",
"td=(p/a)*Ia*(x);         // Total Torque (Td)\n",
"disp(' Total Torque (Td) = '+string (round(td))+' Nm');\n",
"           //  p 650       16.14"
   ]
   }
,
{
		   "cell_type": "markdown",
		   "metadata": {},
		   "source": [
			"## Example 16.15: Power.sce"
		   ]
		  },
  {
"cell_type": "code",
	   "execution_count": null,
	   "metadata": {
	    "collapsed": true
	   },
	   "outputs": [],
"source": [
"                // Examle 16.15\n",
"t=2000;                 // Torque\n",
"N=900;                  // Speed\n",
"Ploss=8000;             // Power loss\n",
"Pin=(2*%pi*t*N)/60;     // Input Power (Pin)\n",
"disp(' Input Power (Pin) '+string(Pin/1000)+' kW');\n",
"Pd=Pin-Ploss;           // Power Generated in Armature (Pd)\n",
"disp(' Power Generated in Armature (Pd) = '+string(Pd/1000)+' kW');\n",
"            //   p 651       16.15"
   ]
   }
,
{
		   "cell_type": "markdown",
		   "metadata": {},
		   "source": [
			"## Example 16.16: Speed.sce"
		   ]
		  },
  {
"cell_type": "code",
	   "execution_count": null,
	   "metadata": {
	    "collapsed": true
	   },
	   "outputs": [],
"source": [
"\n",
"             // Example 16.16\n",
"\n",
"V=230;                // Supply voltage\n",
"Ia=110;               // Current\n",
"Ra=0.12;              // Resistance\n",
"Rse=0.03;             // Series field resistance\n",
"E1=V-Ia*(Ra+Rse);     // Emf Generated\n",
"\n",
"            // But for the Given machine  ( E1= QZNP/60A= kQ1N1 )\n",
"            \n",
"N1=600;               // No.Of turns                         \n",
"Q1=0.024;             // Megnetic flux            \n",
"k=E1/(Q1*N1);         // Constant\n",
"\n",
"Ia1=50;               // Current of 50A \n",
"E2=V-[Ia1*(Ra+Rse)];  // Emf Generated\n",
"\n",
"            // We know that E2=k*Q2*N2\n",
"            \n",
"Q2=0.016;             // Megnetic flux                        \n",
"N2=E2/(k*Q2);         // New speed \n",
"disp(' The new speed is = '+string(round(N2))+' rpm');\n",
"\n",
"\n",
"\n",
"\n",
"              //  p 653        16.16"
   ]
   }
,
{
		   "cell_type": "markdown",
		   "metadata": {},
		   "source": [
			"## Example 16.17: Current.sce"
		   ]
		  },
  {
"cell_type": "code",
	   "execution_count": null,
	   "metadata": {
	    "collapsed": true
	   },
	   "outputs": [],
"source": [
"\n",
"               // Example 16.17\n",
"               \n",
"Ra=0.2;               // Resistance                              \n",
"V=250;                // Supply voltage               \n",
"Eb=0;                 // Voltage at rest\n",
"Ia=(V-Eb)/Ra;         // Current drawn by the machine at Eb=200\n",
"disp(' Current drawn by the machine at (Eb=0) = '+string(Ia)+' Amp'); \n",
"\n",
"Eb1=200;              // Voltage at Eb=200\n",
"Ia1=(V-Eb1)/Ra;       // Current drawn by the machine at Eb=200\n",
"disp(' Current drawn by the machine at (Eb=200) = '+string(Ia1)+' Amp'); \n",
"\n",
"Eb2=250;              // Voltage at Eb=250\n",
"Ia2=(V-Eb2)/Ra;       // Current drawn by the machine at Eb=250\n",
"disp(' Current drawn by the machine at (Eb=250) = '+string(Ia2)+' Amp'); \n",
"\n",
"Eb3=-250;              // Voltage at Eb=-250\n",
"Ia3=(V-Eb3)/Ra;        // Current drawn by the machine at Eb=-250\n",
"disp(' Current drawn by the machine at (Eb=-250) = '+string(Ia3)+' Amp'); \n",
"\n",
"\n",
"\n",
"\n",
"\n",
"                    //  p 653           16.17"
   ]
   }
,
{
		   "cell_type": "markdown",
		   "metadata": {},
		   "source": [
			"## Example 16.18: Speed_And_Torque.sce"
		   ]
		  },
  {
"cell_type": "code",
	   "execution_count": null,
	   "metadata": {
	    "collapsed": true
	   },
	   "outputs": [],
"source": [
"                    // Examle 16.18\n",
"V=480;                      // Supply voltage\n",
"Ia=110;                     // Armature currernt\n",
"Ra=0.18;                    // Series field resistance R1\n",
"Rse=0.02;                   // Series field resistance R2\n",
"Eb=V-Ia*(Ra+Rse);           // Generated emf\n",
"disp(' Generated emf = '+string(Eb)+' Voltage');\n",
"a=6;                        // No.Of paraller path\n",
"Q=0.05;                     // Megnetic flux\n",
"z=864;                      // Conductor\n",
"p=6;                        // No.Of poles\n",
"N=(60*a*Eb)/(Q*z*p);        // Speed of a Motor\n",
"disp(' Speed of a Motor = '+string(round(N))+' rpm');\n",
"Td=(60*Eb*Ia)/(2*%pi*N);    // The Torque Develop by Armeture\n",
"disp(' The Torque Develop by Armeture = '+string(round(Td))+' Nm');\n",
" \n",
"                //  p 654   16.18"
   ]
   }
,
{
		   "cell_type": "markdown",
		   "metadata": {},
		   "source": [
			"## Example 16.19: Resistance.sce"
		   ]
		  },
  {
"cell_type": "code",
	   "execution_count": null,
	   "metadata": {
	    "collapsed": true
	   },
	   "outputs": [],
"source": [
"                    // Examle 16.19\n",
"V=220;                  // Supply voltage\n",
"Ia=22;                  // Armature currernt\n",
"Ra=0.45;                // Armature resistance\n",
"E1=V-(Ia*Ra);           // Generated emf\n",
"disp(' Generated emf = '+string(E1)+' Voltage');\n",
"N1=700;                 // Speed of motor in Shunt\n",
"N2=450;                 // Speed of motor in Series\n",
"E2=(N2*E1)/N1;          // Emf of Shunt motor\n",
"disp(' Emf of Shunt motor = '+string(E2)+' voltage');\n",
"Va=Ia*Ra;               // Armature voltage\n",
"R=(V-(E2+Va))/Ia;       // Resistance with Armature\n",
"disp(' Resistance with Armature = '+string(R)+' ohms');\n",
" \n",
" \n",
" \n",
"                        // p 654     16.19"
   ]
   }
,
{
		   "cell_type": "markdown",
		   "metadata": {},
		   "source": [
			"## Example 16.1: Voltage_Current_And_Power.sce"
		   ]
		  },
  {
"cell_type": "code",
	   "execution_count": null,
	   "metadata": {
	    "collapsed": true
	   },
	   "outputs": [],
"source": [
"                    // Example  16.1\n",
"        //  ==>   When Lap-wound .\n",
"disp('* With the Armature Lap-wound, & Parallel pahts A=8  ');\n",
"Z=480;            // No.Of conductor\n",
"A=8;              // No.Of poles\n",
"e=2.1;            // Average emf in each conductor\n",
"E=e*(Z/A);        // Terminal voltage on No load\n",
"disp('  Terminal voltage on No load = '+string(E)+' Volt');\n",
"If=200;           // Full-load current per conductor \n",
"Il=If*A;          // O/p current on full-load\n",
"disp('  O/p current on full-load = '+string(Il)+' Amp');\n",
"Po=Il*E;          // Total power on full-load\n",
"disp('  Total power generated on full-load = '+string(Po/1000)+' kW');\n",
"          //  ==>   When Wave-wound .\n",
"disp('* With the Armature Wave-wound, & Parallel pahts A=2  ');\n",
"A1=2;               // No.Of poles\n",
"E1=e*(Z/A1);        // Terminal voltage on No load\n",
"disp('  Terminal voltage on No load = '+string(E1)+' Volt');\n",
"Il1=If*A1;          // O/p current on full-load\n",
"disp('  O/p current on full-load = '+string(Il1)+' Amp');\n",
"Po1=Il1*E1;          // Total power on full-load\n",
"disp('  Total power generated on full-load = '+string(Po1/1000)+' kW');\n",
"       //  p 631    16.1"
   ]
   }
,
{
		   "cell_type": "markdown",
		   "metadata": {},
		   "source": [
			"## Example 16.20: Speed.sce"
		   ]
		  },
  {
"cell_type": "code",
	   "execution_count": null,
	   "metadata": {
	    "collapsed": true
	   },
	   "outputs": [],
"source": [
"                    // Examle 16.20\n",
"V=230;                    // Supplt voltage\n",
"Ia1=40;                   // Armature currernt Ia1\n",
"Ra=0.2;                   // Armature resistance\n",
"Rse=0.1;                  // Series field resistance\n",
"E1=V-Ia1*(Ra+Rse);        // Back emfat (24 A)\n",
"disp(' Back emfat (24 A) = '+string(E1)+' Voltage');\n",
"Ia2=20;                   // Armature currernt Ia2\n",
"E2=V-Ia2*(Ra+Rse);        // Back emfat (20 A)\n",
"disp(' Back emfat (20 A) = '+string(E2)+' Voltage');\n",
"N1=1000;                  // Speed of a Motor at I= 40A\n",
"N2=(E2*N1)/(E1*0.6);      // Speed of a Motor\n",
"disp(' Speed of a Motor = '+string(round(N2))+' rpm');\n",
"             // p 654      16.20"
   ]
   }
,
{
		   "cell_type": "markdown",
		   "metadata": {},
		   "source": [
			"## Example 16.2: Emf.sce"
		   ]
		  },
  {
"cell_type": "code",
	   "execution_count": null,
	   "metadata": {
	    "collapsed": true
	   },
	   "outputs": [],
"source": [
"                    // Example  16.2\n",
"s=65;                   // No.Of slots\n",
"nc=12;                  // Couductor per slot\n",
"z=s*nc;                 // Impedance\n",
"p=4;                    // No.Of poles\n",
"Q=0.02;                 // Megnetic flux\n",
"N=1200;                 // Speed of motor\n",
"E=(Q*z*N*p)/(60*p);     // Total emf Induced\n",
"disp('Total emf Induced = '+string(E)+' Volt');\n",
"       //  p 633    16.2"
   ]
   }
,
{
		   "cell_type": "markdown",
		   "metadata": {},
		   "source": [
			"## Example 16.3: Emf.sce"
		   ]
		  },
  {
"cell_type": "code",
	   "execution_count": null,
	   "metadata": {
	    "collapsed": true
	   },
	   "outputs": [],
"source": [
"                   // Examle 16.3\n",
"E1=180;                  // Induced emf \n",
"N1=500;                  // Speed of mechine N1=500\n",
"N2=600;                  // Speed of mechine N1=600\n",
"E2=(N2/N1)*E1;           // Emf When Machine runs at (600 rpm)\n",
"disp('Emf When Machine runs at (600 rpm)= '+string(E2)+' Volt');\n",
"               //    633      16.3"
   ]
   }
,
{
		   "cell_type": "markdown",
		   "metadata": {},
		   "source": [
			"## Example 16.4: Speed_And_increase_in_flux.sce"
		   ]
		  },
  {
"cell_type": "code",
	   "execution_count": null,
	   "metadata": {
	    "collapsed": true
	   },
	   "outputs": [],
"source": [
"                   // Examle 16.4\n",
"E1=220;                 // Induced emf at N=750 rpm\n",
"E2=250;                 // Induced emf (i.e E=250)\n",
"N1=750;                 // Speed of mechine at E1=220\n",
"N2=(E2/E1)*N1;          // Speed at Constant emf E2=250\n",
"disp('Speed at Constant emf = '+string(round(N2))+' rpm');\n",
"               // Using formula { Q2/Q1= E2/E1 x N1/N2 }\n",
"e=(E2*N1);              // Numerator of above formula\n",
"n=(E1*600);             // Dinominator of above formula { by taking N2= 600 }\n",
"E=e/n;                  // Induced emf\n",
"inc=(E-1.00)*100;       // % incriment in Flux\n",
"disp(' % incriment in Flux = '+string(round(inc))+' %');\n",
"               //   p 633        16.4   "
   ]
   }
,
{
		   "cell_type": "markdown",
		   "metadata": {},
		   "source": [
			"## Example 16.5: Voltage.sce"
		   ]
		  },
  {
"cell_type": "code",
	   "execution_count": null,
	   "metadata": {
	    "collapsed": true
	   },
	   "outputs": [],
"source": [
"                // Examle 16.5\n",
"V=440;               // Supply Voltage\n",
"Rsh=110;             // Resistance of Shunt field\n",
"Ish=V/Rsh;           // Current through Shunt field\n",
"Ra=0.02;             // Resistance of Armature winding\n",
"Il=496;              // Generator current\n",
"Ia=Il+Ish;           // Armeture Current (Ia)\n",
"disp('Armeture Current (Ia) = '+string(Ia)+' Amp');\n",
"Eg=V+(Ia*Ra);        // generated emf (Eg)\n",
"disp('Generated emf (Eg) = '+string(Eg)+' Volt');\n",
"                //        p 638    16.5"
   ]
   }
,
{
		   "cell_type": "markdown",
		   "metadata": {},
		   "source": [
			"## Example 16.6: Voltage_And_Current.sce"
		   ]
		  },
  {
"cell_type": "code",
	   "execution_count": null,
	   "metadata": {
	    "collapsed": true
	   },
	   "outputs": [],
"source": [
"                // Examle 16.6\n",
"p=60;                 // Power supply \n",
"v=200;                // supply voltage\n",
"I1=p/v;               // current through each lamp\n",
"Il=100*I1;            // Shunt field Current (Il)\n",
"disp('Shunt field Current (Il) = '+string(Il)+' Amp');\n",
"Rsh=50;               // Resistance\n",
"Ish=v/Rsh;            // Shunt field Current\n",
"Ia=Il+Ish;            // Armature Current (Ia)\n",
"disp('Armature Current (Ia) = '+string(Ia)+' Amp');\n",
"a=4;                  // No.Of paraller path\n",
"Ic=Ia/a;              // Current per path (Ic)\n",
"disp(' Current per path (Ic) = '+string(Ic)+' Amp');\n",
"Ra=0.2;               // Armature resistance\n",
"dro=2;                // Brush-drop\n",
"Eg=v+(Ia*Ra)+dro;     // Generated emf (Eg)\n",
"disp('generated emf (Eg) = '+string(Eg)+' Volt');\n",
"         // 638    16.6"
   ]
   }
,
{
		   "cell_type": "markdown",
		   "metadata": {},
		   "source": [
			"## Example 16.7: Emf.sce"
		   ]
		  },
  {
"cell_type": "code",
	   "execution_count": null,
	   "metadata": {
	    "collapsed": true
	   },
	   "outputs": [],
"source": [
"                // Examle 16.7\n",
"Il=100;                  // Series field current\n",
"Rse=0.1;                 // Resistance series field\n",
"Vse=Rse*Il;              // Voltage drop across series field (Vse)\n",
"disp('Voltage drop across series field (Vse) = '+string(Vse)+' Volt');\n",
"V=250;                   // Supply voltage\n",
"Vsh=V+Vse;               // Voltage drop across Shunt field (Vsh)\n",
"disp('Voltage drop across Shunt field (Vsh) = '+string(Vsh)+' Volt');\n",
"Rsh=130;                 // Resistance\n",
"Ish=Vsh/Rsh;             // Shunt field Current (Ish)\n",
"disp(' Shunt field Current (Ish) = '+string(Ish)+' Amp');\n",
"Ia=Il+Ish;               // Armature Current (Ia)\n",
"disp('Armature Current (Ia) = '+string(Ia)+' Amp');\n",
"Ra=0.1;                  // Armature resistance\n",
"dro=2;                   // Brush-drop\n",
"Eg=V+Vse+(Ia*Ra)+dro;    // Generated emf (Eg)\n",
"disp('Generated emf (Eg) = '+string(Eg)+' Volt');\n",
"         // p 638    16.7"
   ]
   }
,
{
		   "cell_type": "markdown",
		   "metadata": {},
		   "source": [
			"## Example 16.8: Voltage_Efficiency_And_Power.sce"
		   ]
		  },
  {
"cell_type": "code",
	   "execution_count": null,
	   "metadata": {
	    "collapsed": true
	   },
	   "outputs": [],
"source": [
"                // Examle 16.8\n",
"po=30000;          // o/p power\n",
"v=200;             // Voltage \n",
"Il=po/v;           // Load Current (Il)\n",
"disp(' Load Current (Il) = '+string(Il)+' Amp');\n",
"Rsh=50;                      // Shunt field resistance R1\n",
"Ish=v/Rsh;                   // Shunt field Current\n",
"Ia=Il+Ish;                   // Armature Current (Ia)\n",
"Ra=0.05;                     // Shunt field resistance R2\n",
"Eg=v+(Ia*Ra);                // Generated emf (Eg)\n",
"disp('Generated emf (Eg) = '+string(Eg)+' Volt');\n",
"Cu=Ish^2*Rsh+Ia^2*Ra;        // The copper Losses (Cu)\n",
"disp('The copper Losses (Cu) = '+string(Cu)+' W');\n",
"e=po*100/(1000+po+Cu);       // The Efficiency (e)\n",
"disp('The Efficiency (e) = '+string (e)+' %');\n",
"             // p 641     16.8"
   ]
   }
,
{
		   "cell_type": "markdown",
		   "metadata": {},
		   "source": [
			"## Example 16.9: Current_And_Resistance.sce"
		   ]
		  },
  {
"cell_type": "code",
	   "execution_count": null,
	   "metadata": {
	    "collapsed": true
	   },
	   "outputs": [],
"source": [
"                // Examle 16.9\n",
"Vo=210;           // Supply voltage\n",
"Il=195;           // Full-load current\n",
"Po=Vo*Il;         // O/p power\n",
"n=0.9;            // Efficiency\n",
"Pin=Po/n;         // I/p power\n",
"Tl=Pin-Po;        // Total loss\n",
"Rsh=52.5;         // Shunt field resistance\n",
"Ish=Vo/Rsh;       // Shunt field current\n",
"Ia=Il+Ish;        // Armeture Current (Ia)\n",
"Cl=Ish^2*Rsh;     // Shunt field copper loss\n",
"Hl=710;           // Stray losses\n",
"CL=Cl+Hl          // Constant loss\n",
"Al=4550-CL;       // Armature copper loss\n",
"Ra=Al/Ia^2;       // Armature resistance\n",
"disp('Armature resistance = '+string(Ra)+' Ohms');\n",
"          // ==> for maximum effciency  (Ia^2*RA= Pc = 1550 )\n",
"            \n",
"Ia1=sqrt(CL/0.0757);  // Armeture Current for maximum efficiency ==>{Ra=0.0757557 ,but here we have Ra=0.0757}\n",
"disp(' Armeture Current = '+string(Ia1)+' Amp');\n",
"IL=Ia1-Ish;       // Load current\n",
"disp(' Load current (IL) = '+string(IL)+' Amp');\n",
"              //  p 642       16.9"
   ]
   }
],
"metadata": {
		  "kernelspec": {
		   "display_name": "Scilab",
		   "language": "scilab",
		   "name": "scilab"
		  },
		  "language_info": {
		   "file_extension": ".sce",
		   "help_links": [
			{
			 "text": "MetaKernel Magics",
			 "url": "https://github.com/calysto/metakernel/blob/master/metakernel/magics/README.md"
			}
		   ],
		   "mimetype": "text/x-octave",
		   "name": "scilab",
		   "version": "0.7.1"
		  }
		 },
		 "nbformat": 4,
		 "nbformat_minor": 0
}
