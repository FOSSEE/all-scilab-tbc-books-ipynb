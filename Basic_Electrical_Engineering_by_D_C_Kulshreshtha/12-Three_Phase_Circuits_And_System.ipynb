{
"cells": [
 {
		   "cell_type": "markdown",
	   "metadata": {},
	   "source": [
       "# Chapter 12: Three Phase Circuits And System"
	   ]
	},
{
		   "cell_type": "markdown",
		   "metadata": {},
		   "source": [
			"## Example 12.1: Current.sce"
		   ]
		  },
  {
"cell_type": "code",
	   "execution_count": null,
	   "metadata": {
	    "collapsed": true
	   },
	   "outputs": [],
"source": [
"                    // Example  12.1\n",
"                      // Given Z= 32+i24\n",
"R=32;                 // Real Part of Z\n",
"X=24;                 // Imaginary Part of Z\n",
"z=R+%i*X;             // Impedance \n",
"Z=abs(z);             // Absolute value of Z \n",
"Vl=400;               // Supply Voltage\n",
"Vph1=Vl/1.732;        // Voltage in Y-Connection\n",
"Iph1=Vph1/Z;          // Current in Y-Connection\n",
"Il1=Iph1;             // Load Current in Y-Connection\n",
"disp(' Current Drawn ( for Y-Connection ) = '+string(Il1)+' Amp');\n",
"Vph2=Vl;              // Voltage in Delta-Connection\n",
"Iph2=Vph2/Z;          // Current in Delta-Connection\n",
"Il2=1.732*Iph2;       // Load Current in Delta-Connection\n",
"disp(' Current Drawn (for Delta-Connection ) = '+string(Il2)+' Amp'); \n",
"      //  p 409       12.1"
   ]
   }
,
{
		   "cell_type": "markdown",
		   "metadata": {},
		   "source": [
			"## Example 12.2: Current.sce"
		   ]
		  },
  {
"cell_type": "code",
	   "execution_count": null,
	   "metadata": {
	    "collapsed": true
	   },
	   "outputs": [],
"source": [
"                    // Example  12.2\n",
"Vl=415;              // Supply Voltage\n",
"Vph=Vl/sqrt(3);      // Phase Voltage \n",
"p1=10000;            // Load of 10-kW\n",
"p2=8000;             // Load of 8-kW\n",
"p3=5000;             // Load of 5-kW\n",
"IR=p1/Vph;           //Current by ( 10-kW Load )\n",
"disp(' Current by ( 10-kW Load ) = '+string(IR)+' Amp');\n",
"IY=p2/Vph;           // Current by ( 8-kW Load )\n",
"disp(' Current by ( 8-kW Load ) = '+string(IY)+' Amp');\n",
"IB=p3/Vph;           // nCurrent by ( 5-kW Load )\n",
"disp(' Current by ( 5-kW Load ) = '+string(IB)+' Amp');\n",
"IH=IY*cosd(30)-IB*cosd(30);         // Horizontal Current\n",
"IV=IR-IY*sind(30)-IB*sind(30);      // Vertical Current\n",
"IN=sqrt(IH^2+IV^2);                 // Current in Neutral Conductor\n",
"disp(' Current in Neutral Conductor = '+string(IN)+' Amp');\n",
"        //   p 410     12.2"
   ]
   }
,
{
		   "cell_type": "markdown",
		   "metadata": {},
		   "source": [
			"## Example 12.3: Current.sce"
		   ]
		  },
  {
"cell_type": "code",
	   "execution_count": null,
	   "metadata": {
	    "collapsed": true
	   },
	   "outputs": [],
"source": [
"\n",
"            // Example 12.3\n",
"\n",
"Z1=100;              // Impedence Z1 in Delta-connection load\n",
"R2=20;               // Resistance R2 in Delta-connection load\n",
"f=50;                // Frequency\n",
"L2=0.191;            // Inductance\n",
"X2=2*%pi*f*L2;       // Reactance X2 in Delta-connection load\n",
"Z2=sqrt(R2^2+X2^2);  // Impedence Z2 in Delta-connection load\n",
"Q2=atand(60/20);     // Phase angle\n",
"C3=30*10^-6;         // Capacitor\n",
"Z3=1/(2*%pi*f*C3);   // Impedence Z3 in Delta-connection load\n",
"Q3=90;               // Leading phase angle\n",
"I1=415/Z1;           // Phase current I1 in loads RY\n",
"disp(' Phase current I1 in loads RY = '+string(I1)+' Amp');\n",
"\n",
"I2=415/Z2;           // Phase current I2 in loads YB\n",
"disp(' Phase current I2 in loads YB = '+string(I2)+' Amp');\n",
"\n",
"I3=415/Z3;           // Phase current I3 in loads BR\n",
"disp(' Phase current I3 in loads BR = '+string(I3)+' Amp');\n",
"\n",
"IR=sqrt(I1^2+I3^2+(2*I1*I3*cosd(30)));       // Current in the liner conductor R\n",
"disp(' Current in the liner conductor R = '+string(IR)+' Amp');\n",
"\n",
"QY=Q2-60;             // Phase diffrence between I2-I1\n",
"IY=sqrt(I1^2+I2^2+(2*I1*I2*cosd(QY)));       // Current in the liner conductor Y\n",
"disp(' Current in the liner conductor Y = '+string(IY)+' Amp');\n",
"\n",
"QB=180-QY-30;         // Phase diffrence between I2-I3\n",
"IB=sqrt(I2^2+I3^2+(2*I2*I3*cosd(QB)));       // Current in the liner conductor B\n",
"disp(' Current in the liner conductor B = '+string(IB)+' Amp');\n",
"\n",
"\n",
"\n",
"\n",
"               // p 411            12.3\n",
"\n",
"\n",
"\n",
"\n",
"\n",
"\n",
""
   ]
   }
,
{
		   "cell_type": "markdown",
		   "metadata": {},
		   "source": [
			"## Example 12.4: Current_Power_And_Power_Factor.sce"
		   ]
		  },
  {
"cell_type": "code",
	   "execution_count": null,
	   "metadata": {
	    "collapsed": true
	   },
	   "outputs": [],
"source": [
"\n",
"              //  Example 12.4\n",
"              \n",
"            // ==> For star-connection              \n",
"disp('   ** For star-connection  ** ');                \n",
"Vl=400;                // Voltage at load\n",
"Vph=Vl/1.732;          // Phase voltage\n",
"Zph=sqrt(20^2+15^2);   // Impedence per phase \n",
"Il=Vph/Zph;            // Line current\n",
"disp(' The line current (Il) = '+string(Il)+' Amp');\n",
"\n",
"Rph=20;                // Resistance per phase\n",
"CosQ=Rph/Zph;          // Power factor \n",
"disp(' Power factor = '+string(CosQ)+' Lagging');\n",
"\n",
"P=1.732*Vl*Il*CosQ;    // Total active power\n",
"disp(' Total active power = '+string(P/1000)+' kW');\n",
"\n",
"             // ==> For Delta-connection\n",
"disp('   ** For Delta-connection  ** ');\n",
"Vph1=Vl;               // Phase voltage\n",
"Iph=Vph1/Zph;          // Phase current\n",
"IL=1.732*Iph;          // Load current\n",
"disp(' The Load current (IL) = '+string(IL)+' Amp');\n",
"\n",
"disp(' Power factor = '+string(CosQ)+' Lagging');\n",
"\n",
"P1=1.732*Vl*IL*CosQ;    // Total active power\n",
"disp(' Total active power = '+string(P1/1000)+' kW');\n",
"\n",
"\n",
"               //  p 412              12.4"
   ]
   }
,
{
		   "cell_type": "markdown",
		   "metadata": {},
		   "source": [
			"## Example 12.5: Power_And_Power_Factor.sce"
		   ]
		  },
  {
"cell_type": "code",
	   "execution_count": null,
	   "metadata": {
	    "collapsed": true
	   },
	   "outputs": [],
"source": [
"                    // Example  12.5\n",
"p1=3000;                            // Load of 3-kW\n",
"p2=1500;                            // Load of 1.5-kW\n",
"P=p1+p2;                            // Total Load\n",
"disp(' Total Power Consumed = '+string(P)+' Watt');\n",
"Q=atand(1.732*(p1-p2)/(p1+p2));     // Power Factor Angle\n",
"pf=cosd(Q);                         // Power Factor\n",
"disp(' Power Factor is = '+string(pf));\n",
"       // p 417        12.5      "
   ]
   }
,
{
		   "cell_type": "markdown",
		   "metadata": {},
		   "source": [
			"## Example 12.6: Current_Power_And_Power_Factor.sce"
		   ]
		  },
  {
"cell_type": "code",
	   "execution_count": null,
	   "metadata": {
	    "collapsed": true
	   },
	   "outputs": [],
"source": [
"                    // Example  12.6\n",
"Vl=415                              // Supply Voltage\n",
"p1=5200;                            // Load of 5.2-kW\n",
"p2=-1700;                           // Load of 1.7-kW\n",
"P=p1+p2;                            // Total Load\n",
"disp(' Total Power Consumed = '+string(P)+' Watt');\n",
"Q=atand(1.732*(p1-p2)/(p1+p2));     // Power Factor Angle\n",
"pf=cosd(Q);                         // Power Factor\n",
"disp(' Power Factor is = '+string(pf));\n",
"                                    // P= root(3)*Vl*Il*Cos(Q)\n",
"Il=P/(1.732*Vl*pf);\n",
"disp(' Line Current is  = '+string(Il)+' Amp');\n",
"       // p 417        12.6      "
   ]
   }
],
"metadata": {
		  "kernelspec": {
		   "display_name": "Scilab",
		   "language": "scilab",
		   "name": "scilab"
		  },
		  "language_info": {
		   "file_extension": ".sce",
		   "help_links": [
			{
			 "text": "MetaKernel Magics",
			 "url": "https://github.com/calysto/metakernel/blob/master/metakernel/magics/README.md"
			}
		   ],
		   "mimetype": "text/x-octave",
		   "name": "scilab",
		   "version": "0.7.1"
		  }
		 },
		 "nbformat": 4,
		 "nbformat_minor": 0
}
