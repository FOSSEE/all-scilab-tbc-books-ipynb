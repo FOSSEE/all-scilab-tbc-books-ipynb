{
"cells": [
 {
		   "cell_type": "markdown",
	   "metadata": {},
	   "source": [
       "# Chapter 7: Self And Mutual Inductances"
	   ]
	},
{
		   "cell_type": "markdown",
		   "metadata": {},
		   "source": [
			"## Example 7.10: Inductor.sce"
		   ]
		  },
  {
"cell_type": "code",
	   "execution_count": null,
	   "metadata": {
	    "collapsed": true
	   },
	   "outputs": [],
"source": [
"                     // Example  7.10\n",
"La=1.4;               // Inductance of 2 Similar Coupled Coil in Series\n",
"Lo=0.6;               // Inductance of 2 Similar Coupled Coil in Opposing\n",
"M=(La-Lo)/4;          // Formula for (Mutual Inductance of Coils)\n",
"disp('(a) Mutual induction of a Coil = '+string(M)+' mH');\n",
"                // Since La= L1+L2+2M     but (M=0.2 mH)\n",
"                // there for L1= L2= 5 mh\n",
"L1=0.5*10^-3;                // Self Inductance of Coil 1\n",
"L2=0.5*10^-3;                // Self Inductance of Coil 2\n",
"k=(M*10^-3)/sqrt(L1*L2);     // Mutual Inductance of Coil 1 & 2\n",
"disp('(b) Coefficient of Coupling between the Coils = '+string(k));\n",
"              // p136     7.10"
   ]
   }
,
{
		   "cell_type": "markdown",
		   "metadata": {},
		   "source": [
			"## Example 7.11: Inductor.sce"
		   ]
		  },
  {
"cell_type": "code",
	   "execution_count": null,
	   "metadata": {
	    "collapsed": true
	   },
	   "outputs": [],
"source": [
"                     // Example  7.11\n",
"              // Net Induction When in Same Direction  i.e 1.8= L1+L2+2M\n",
"              // Net Induction When in Opposite  i.e 0.8= L1+L2-2M\n",
"              // by Solving 2 equation we get M= 0.25\n",
"k=0.6;\n",
"M=0.25;\n",
"disp('(a) Mutual induction of a Coil = '+string(M)+' H');\n",
"                   // by Adding Eq 1 & 2 will get L1+L2= 1.3 H\n",
"                   // we know that k= M/(L1*L2)\n",
"L1L2=M^2/k^2;      // using above Formula \n",
"                   // By using L1L2 & L1+L2\n",
"L12=1.3;           // L1+L2\n",
"L1_L2=sqrt(L12^2-4*L1L2);   // Value of  L1-L2\n",
"             // by using L1+L2 & L1-L2 will get \n",
"L1=1.149;\n",
"L2=0.151;\n",
"disp('(b.1) Self Induction of a Coil 1 = '+string(L1)+' H');\n",
"disp('(b.2) Self Induction of a Coil 2 = '+string(L2)+' H');\n",
"             // p 237    7.11\n",
" "
   ]
   }
,
{
		   "cell_type": "markdown",
		   "metadata": {},
		   "source": [
			"## Example 7.12: Inductor.sce"
		   ]
		  },
  {
"cell_type": "code",
	   "execution_count": null,
	   "metadata": {
	    "collapsed": true
	   },
	   "outputs": [],
"source": [
"                     // Example  7.12\n",
"k=0.433;                    // Coefficient of Coupling Constant\n",
"L1=8;                       //Self Inductance of Coil 1\n",
"L2=6;                       //Self Inductance of Coil 2\n",
"M=k*sqrt(L1*L2);            // Mutual Inductance of Coil 1 & 2\n",
"Lpa=(L1*L2-M^2)/(L1+L2-2*M);     // Mutual Induction assists Self Induction\n",
"disp('(a) Mutual Induction assists Self Induction  = '+string(Lpa)+' H');\n",
"Lpo=(L1*L2-M^2)/(L1+L2+2*M);     // Mutual Induction Opposes Self Induction\n",
"disp('(b) Mutual Induction Opposes Self Induction  = '+string(Lpo)+' H');\n",
"       // p 239     7.12"
   ]
   }
,
{
		   "cell_type": "markdown",
		   "metadata": {},
		   "source": [
			"## Example 7.1: Voltage.sce"
		   ]
		  },
  {
"cell_type": "code",
	   "execution_count": null,
	   "metadata": {
	    "collapsed": true
	   },
	   "outputs": [],
"source": [
"                     // Example  7.1\n",
"L=4;                 // Induction of a Coil \n",
"di=10-4;             // Decrease in Current \n",
"dt=0.1;              // time Required to Decrease Current\n",
"e=L*(di/dt);         // Formula of Self induction\n",
"disp(' emf induced in a Coil is = '+string(e)+' Volt');\n",
"       //  p 228     7.1"
   ]
   }
,
{
		   "cell_type": "markdown",
		   "metadata": {},
		   "source": [
			"## Example 7.2: Inductor_And_Voltage.sce"
		   ]
		  },
  {
"cell_type": "code",
	   "execution_count": null,
	   "metadata": {
	    "collapsed": true
	   },
	   "outputs": [],
"source": [
"                     // Example  7.2\n",
"N=150;                // turns of Coil\n",
"Q=0.01;               // Flux of Coil \n",
"I=10;                 // Current in Coil \n",
"L=N*(Q/I);            // Induction of a Coil \n",
"di=10-(-10);          // Decrease in Current \n",
"dt=0.01;              // time Required to Decrease Current\n",
"e=L*(di/dt);          // Formula of Self induction\n",
"disp(' Induction of a Coil = '+string(L)+' H');\n",
"disp(' emf induced in a Coil is = '+string(e)+' Volt');\n",
"       //  p 228     7.2"
   ]
   }
,
{
		   "cell_type": "markdown",
		   "metadata": {},
		   "source": [
			"## Example 7.3: Inductor_And_Voltage.sce"
		   ]
		  },
  {
"cell_type": "code",
	   "execution_count": null,
	   "metadata": {
	    "collapsed": true
	   },
	   "outputs": [],
"source": [
"                     // Example  7.3\n",
"N=100;                // turns of Coil\n",
"dQ=0.4-(-0.4);        // Flux of Coil \n",
"di=10-(-10);          // Decrease in Current \n",
"L=N*(dQ/di)*10^-3;            // Induction of a Coil \n",
"disp(' (a) induction of a Coil is = '+string(L)+' H');\n",
"dt=0.01;              // time Required to Decrease Current\n",
"e=L*(di/dt);          // Formula of emf (using Self induction)\n",
"disp('(b) emf induced in a Coil is = '+string(e)+' Volt');\n",
"       //  p 229     7.3"
   ]
   }
,
{
		   "cell_type": "markdown",
		   "metadata": {},
		   "source": [
			"## Example 7.4: Inductor_And_Energy.sce"
		   ]
		  },
  {
"cell_type": "code",
	   "execution_count": null,
	   "metadata": {
	    "collapsed": true
	   },
	   "outputs": [],
"source": [
"                     // Example  7.4\n",
"r=0.75*10^-2;      // Radius  of Solenoid\n",
"A=%pi*r*r;         // area of Solenoid\n",
"N=900;             // No,of turns\n",
"l=0.3;             // Length of Solenoid\n",
"mo=4*%pi*10^-7;    // Permeability of free Space\n",
"L=(N*N*mo*A)/l;    // Formula of Induction of a Coil \n",
"I=5;               // Current of Coil\n",
"disp(' Induction of a Coil = '+string(L)+' H');\n",
"w=0.5*L*I*I;       // Energy Store\n",
"disp(' Energy Stored is = '+string(w)+' J');\n",
"       // p 229    7.4"
   ]
   }
,
{
		   "cell_type": "markdown",
		   "metadata": {},
		   "source": [
			"## Example 7.5: Megnetic_Field_Strength_And_Voltage.sce"
		   ]
		  },
  {
"cell_type": "code",
	   "execution_count": null,
	   "metadata": {
	    "collapsed": true
	   },
	   "outputs": [],
"source": [
"                     // Example  7.5\n",
"r=1*10^-2;          // Radius  of rod\n",
"A=%pi*r*r;          // area of rod\n",
"N=3000;             // No.of turns\n",
"I=0.5;              // Current in the rod\n",
"l=0.2;              // Diameter of rod\n",
"B=1.2;              // Megnetic Flux Density\n",
"H=(N*I)/l;          // Megnetic Field Strength\n",
"m=B/H;              // Permeability of rod\n",
"disp(' (a) Permeability of iron = '+string(m)+' Tm/A');\n",
"mo=4*%pi*10^-7;     // Permeability of free Space\n",
"mr=m/mo;            // relative Permeability\n",
"disp(' (b) Relative Permeability of iron = '+string(round(mr)));\n",
"Q=B*A;              // Flux\n",
"dQ=Q*0.9;           // Chenge in Flux\n",
"L=(N*Q)/I;          // Formula of Induction of a Coil \n",
"disp(' (c) Induction of a Coil = '+string(L)+' H');\n",
"di=0.01;\n",
"e=N*(dQ/di)        // Formula of emf (using Self induction)\n",
"disp(' (d) Voltage in a Coil = '+string(e)+' Volt');\n",
"      //   p 229     7.5"
   ]
   }
,
{
		   "cell_type": "markdown",
		   "metadata": {},
		   "source": [
			"## Example 7.6: Voltage.sce"
		   ]
		  },
  {
"cell_type": "code",
	   "execution_count": null,
	   "metadata": {
	    "collapsed": true
	   },
	   "outputs": [],
"source": [
"                     // Example  7.6\n",
"i=1;                    // Current in A Coil\n",
"R=3;                    // R of Coil \n",
"L=0.1*10^-3;            // Inductance of Coil\n",
"di=10000;               // Decrease in Current \n",
"dt=1;                   // time Required to Decrease Current\n",
"V=(i*R)+L*(di/dt);      // Formula Of Potential Diffrence\n",
"disp(' Potential Diffrence Across the Terminal is = '+string(V)+' Volt');\n",
"     // p 230     7.6"
   ]
   }
,
{
		   "cell_type": "markdown",
		   "metadata": {},
		   "source": [
			"## Example 7.7: Inductor_And_Voltage.sce"
		   ]
		  },
  {
"cell_type": "code",
	   "execution_count": null,
	   "metadata": {
	    "collapsed": true
	   },
	   "outputs": [],
"source": [
"                     // Example  7.7\n",
"k=1;                  // Constant\n",
"N1=2000;              // turns of Solenoid\n",
"N2=500;               // turns of Coil\n",
"mo=4*%pi*10^-7;       // Permeability of free Space\n",
"A=30*10^-4;           // Area of aCoil \n",
"l=0.7;                // Length of Solenoid\n",
"z=k*N1*N2*mo*A;       // alphabet for simplicity\n",
"M=z/l;                // Formula of Mutual Inductance\n",
"disp('(a) Mutual induction of a Coil = '+string(M)+' H');\n",
"dit=260;              // Rate of Chenge of Current\n",
"e=M*dit;              // Formula of emf (using Mutual induction)\n",
"disp('(b) emf induced in a Coil is = '+string(e)+' Volt')\n",
"      // p232       7.7"
   ]
   }
,
{
		   "cell_type": "markdown",
		   "metadata": {},
		   "source": [
			"## Example 7.8: Inductor.sce"
		   ]
		  },
  {
"cell_type": "code",
	   "execution_count": null,
	   "metadata": {
	    "collapsed": true
	   },
	   "outputs": [],
"source": [
"                     // Example  7.8\n",
"N2=1700;                  // turns of Coil 1\n",
"Q2=0.8*10^-3;             // total Megnetic Flux\n",
"I2=6;                     // Current in A Coil 2\n",
"L2=N2*(Q2/I2);            // Formula for (Self Inductance of Coil 1)\n",
"disp('(a) Self Induction of a Coil 2 = '+string(L2)+' H');\n",
"N1=600;                   // turns of Coil 2\n",
"L1=L2*(N1^2/N2^2);        // Formula for(Self Inductance of Coil 2)\n",
"disp('(b) Self Induction of a Coil 1 = '+string(L1)+' H');\n",
"Q21=0.5*10^-3;            // Megnetic Flux in 1st Coil\n",
"k=Q21/Q2;                 // Constant\n",
"disp( '(c) Perposnality Constant (k) = '+string(k));\n",
"M=k*sqrt(L1*L2);          // Mutual Inductance of Coil 1 & 2\n",
"disp('(d) Mutual induction of a Coil = '+string(M)+' H');\n",
"       // p 233      7.8"
   ]
   }
,
{
		   "cell_type": "markdown",
		   "metadata": {},
		   "source": [
			"## Example 7.9: Inductor.sce"
		   ]
		  },
  {
"cell_type": "code",
	   "execution_count": null,
	   "metadata": {
	    "collapsed": true
	   },
	   "outputs": [],
"source": [
"                     // Example  7.9\n",
"N2=800;                   // turns of Coil 2\n",
"N1=1200;                  // turns of Coil 1\n",
"Q2=0.15*10^-3;            // Megnetic Flux in Coil 2\n",
"Q1=0.25*10^-3;            // Megnetic Flux in Coil 1\n",
"I2=5;                     // Current in A Coil 2\n",
"I1=5;                     // Current in A Coil 1\n",
"L1=N1*(Q1/I1);            // Formula for (Self Inductance of Coil 1)\n",
"disp('(a) Self Induction of a Coil 1 = '+string(L1)+' H');\n",
"L2=N2*(Q2/I2);            // Formula for (Self Inductance of Coil 2)\n",
"disp('(b) Self Induction of a Coil 2 = '+string(L2)+' H');\n",
"k=0.6;                    // Coefficient of Coupling Constant\n",
"Q12=k*Q1;                 // Formula for (Megnetic Flux in 2nd Coil)\n",
"M=N2*(Q2/I1);             // Formula for (Mutual Inductance of Coils)\n",
"disp('(c) Mutual induction of a Coil = '+string(M)+' H');\n",
"k1=M/sqrt(L1*L2);         // Mutual Inductance of Coil 1 & 2\n",
"disp('(d) Coefficient of Coupling between the Coil = '+string(k1)+' H');\n",
"       // p 233      7.9"
   ]
   }
],
"metadata": {
		  "kernelspec": {
		   "display_name": "Scilab",
		   "language": "scilab",
		   "name": "scilab"
		  },
		  "language_info": {
		   "file_extension": ".sce",
		   "help_links": [
			{
			 "text": "MetaKernel Magics",
			 "url": "https://github.com/calysto/metakernel/blob/master/metakernel/magics/README.md"
			}
		   ],
		   "mimetype": "text/x-octave",
		   "name": "scilab",
		   "version": "0.7.1"
		  }
		 },
		 "nbformat": 4,
		 "nbformat_minor": 0
}
