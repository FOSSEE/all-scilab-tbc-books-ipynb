{
"cells": [
 {
		   "cell_type": "markdown",
	   "metadata": {},
	   "source": [
       "# Chapter 13: Transformers"
	   ]
	},
{
		   "cell_type": "markdown",
		   "metadata": {},
		   "source": [
			"## Example 13.10: Resistance_And_Power.sce"
		   ]
		  },
  {
"cell_type": "code",
	   "execution_count": null,
	   "metadata": {
	    "collapsed": true
	   },
	   "outputs": [],
"source": [
"                       // Example  13.10\n",
"kVA=50000;             // Single Phase supply\n",
"V1=4400;               // Voltage in primary winding\n",
"V2=220;                // Voltage in Secondary winding\n",
"R1=3.45;               // primary Resistance\n",
"R2=0.009;              // Secondary Resistance\n",
"X1=5.2;                // primary Reactance\n",
"X2=0.015;              // Secondary Reactance\n",
"I1=kVA/V1;             // primary Current\n",
"I2=kVA/V2;             // Secondary Current\n",
"k=V2/V1;               // Turns constant\n",
"Re1=R1+(R2/k^2);           // Equivalent Resistance referred to Primary\n",
"disp(' Equivalent Resistance referred to Primary = '+string(Re1)+' Ohm');\n",
"Re2=k^2*R1+R2;             // Equivalent Resistance referred to Secondary\n",
"disp(' Equivalent Resistance referred to Secondary = '+string(Re2)+' Ohm');\n",
"Xe1=X1+(X2/k^2);          // Equivalent Impedance referred to Primary\n",
"disp(' Equivalent Impedance referred to Primary = '+string(Xe1)+' Ohm');\n",
"Xe2=k^2*X1+X2;            // Equivalent Reactance referred to Secondary\n",
"disp(' Equivalent Reactance referred to Secondary = '+string(Xe2)+' Ohm');\n",
"Ze1=sqrt(Re1^2+Xe1^2);    // Equivalent Impedance referred to Primary\n",
"disp(' Equivalent Impedance referred to Primary = '+string(Ze1)+' Ohm');\n",
"Ze2=sqrt(Re2^2+Xe2^2);    // Equivalent Impedance referred to Secondary\n",
"disp(' Equivalent Impedance referred to Secondary = '+string(Ze2)+' Ohm');\n",
"i2=227.27;                // Round off value of I2 \n",
"i1=11.36;                 // Round off value of I1 \n",
"r1=3.45;                  // Round off value of R1 \n",
"r2=0.009;                 // Round off value of R2 \n",
"P=i1^2*r1+round(i2)^2*r2; // Total Copper loss\n",
"disp(' Total Copper loss = '+string(round(P))+' Watt');\n",
"re1=7.05;                 // Round off value of Re1 \n",
"P1=i1^2*re1;              // Total Copper loss By Equivalent Re1\n",
"disp(' Total Copper loss By Equivalent Re1 = '+string(P1)+' Watt');\n",
"re2=0.0176;               // Round off value of Re2 \n",
"P2=i2^2*re2;              // Total Copper loss By Equivalent Re2\n",
"disp(' Total Copper loss By Equivalent Re2 = '+string(round(P2))+' Watt');\n",
"         // p 503         13.10       "
   ]
   }
,
{
		   "cell_type": "markdown",
		   "metadata": {},
		   "source": [
			"## Example 13.11: Regulatio.sce"
		   ]
		  },
  {
"cell_type": "code",
	   "execution_count": null,
	   "metadata": {
	    "collapsed": true
	   },
	   "outputs": [],
"source": [
"\n",
"                // Example 13.11\n",
"\n",
"R1=10;                         // Resistance of 10 Ohms    \n",
"R2=0.02;                       // Resistance of 0.02 Ohms\n",
"Xe=35                          // Reactance of primary coil\n",
"n1=250;                        // No.Of turns in Primary coil\n",
"n2=6600;                       // No.Of turns in 2ry coil\n",
"k=n1/n2;                       // Turns ratio\n",
"P=40000;                       // Single-Phase power\n",
"I2=P/n1;                       // Full-load current\n",
"Re2=k^2*R1+R2;                 // Resistance Re2\n",
"Xe2=k^2*Xe;                    // Reactance Xe2\n",
"SinQ=0;                        // SinQ=0\n",
"CosQ=1;                        // Power factor\n",
"Reg={(I2*Re2*CosQ)+(I2*Xe2*SinQ)}/n1;            // % Regulation.\n",
"disp(' % Regulation (pf=1) = '+string(Reg*100)+' %');\n",
"\n",
"CosQ1=0.8;                     // Leading Power factor\n",
"SinQ1=sqrt(1-CosQ1^2);         // SinQ=0.6 +ve\n",
"\n",
"Reg1={(I2*Re2*CosQ1)+(I2*Xe2*SinQ1)}/n1;         // % Regulation.\n",
"disp(' % Regulation (pf=0.8) = '+string(Reg1*100)+' %');\n",
"\n",
"SinQ2=-sqrt(1-CosQ1^2);        // SinQ=0.6 -ve\n",
"\n",
"Reg2={(I2*0.0343*CosQ1)+(I2*Xe2*SinQ2)}/n1;        // % Regulation.\n",
"disp(' % Regulation for (pf=0.8) = '+string(Reg2*100)+' %');\n",
"\n",
"\n",
"\n",
"           //  p 506                 13.11\n",
"\n",
"\n",
"\n",
"\n",
""
   ]
   }
,
{
		   "cell_type": "markdown",
		   "metadata": {},
		   "source": [
			"## Example 13.12: Efficiency_And_Power.sce"
		   ]
		  },
  {
"cell_type": "code",
	   "execution_count": null,
	   "metadata": {
	    "collapsed": true
	   },
	   "outputs": [],
"source": [
"\n",
"            // Example 13.12\n",
"\n",
"           // We know that E=4.44*f*N*Qm\n",
"           \n",
"Qm=0.06;                      // Megnetic flux           \n",
"f=50;                         // Frequency           \n",
"E2=250;                       // Voltage           \n",
"N2=E2/(4.44*f*Qm);            // No.Of of turns in 2ry coil\n",
"disp(' No.Of turns (N2) = '+string(round(N2))+' turns');\n",
"\n",
"E1=5000;                      // Voltage\n",
"N1=(E1/E2)*19;                // No.Of turns in 1ry coil\n",
"disp(' No.Of turns (N1) = '+string(N1)+' turns');\n",
"\n",
"kVA=150*10^3;                      // kVA Rating\n",
"pf=1;                         // Power factor\n",
"Po=0.5*kVA*pf;                // O/p power\n",
"Cfl=1800;                     // Full-load Copper losses\n",
"Pc=0.5*0.5*Cfl;               // Copper losses\n",
"Pi=1500;                      // Iron losses\n",
"n=Po/(Po+Pc+Pi);              // Efficiency\n",
"disp(' Efficiency at half kVA = '+string(n*100)+' %');\n",
"\n",
"pf1=0.8;                      // Power factor\n",
"Po1=kVA*pf1;                  // O/p power\n",
"Pc1=1800;                     // Copper losses\n",
"n1=Po1/(Po1+Pc1+Pi);           // Efficiency\n",
"disp(' Efficiency at Full-load & at(pf=0.8) = '+string(n1*100)+' %');\n",
"\n",
"            // We know that x^2 x 1800= 1500\n",
"x=sqrt(1500/1800);            // Value of x\n",
"kVA1=kVA*x;                   // kVA Load for Maximum efficiency\n",
"disp(' kVA Load for Maximum efficiency = '+string(round(kVA1/1000))+' kVA');\n",
"\n",
"\n",
"            // p 509                 13.12\n",
"\n",
"\n",
"              \n",
"\n",
"\n",
""
   ]
   }
,
{
		   "cell_type": "markdown",
		   "metadata": {},
		   "source": [
			"## Example 13.13: Efficiency.sce"
		   ]
		  },
  {
"cell_type": "code",
	   "execution_count": null,
	   "metadata": {
	    "collapsed": true
	   },
	   "outputs": [],
"source": [
"\n",
"              // Example 13.13 \n",
"              \n",
"             // For 80-kW load at pf=1 (for 6 hours)                       \n",
"t=6;                     // Time in Hours              \n",
"p=80;                    // Power in kW             \n",
"Eo=p*t;                  // O/p energy\n",
"pf=1;                    // Power factor\n",
"kVA=p/pf;                // kVA rating\n",
"kVAo=200;                // kNA at full-load\n",
"Pcl=3.02;                // Copper losses at full-load\n",
"Pc=(kVA/kVAo)^2*Pcl;     // Copper losses \n",
"Pi=1.6;                  // Iron losses\n",
"Pl=Pc+Pi;                // Total losses\n",
"Tloss=Pl*6;              // Total losses in 6 hours\n",
"\n",
"             // For 160-kW load at pf=0.8 (for 8 hours)\n",
"p1=160;                    // Power in kW             \n",
"E1=p1*8;                   // O/p energy\n",
"pf1=0.8;                   // Power factor\n",
"kVA1=p/pf;                 // kVA rating\n",
"Pcl1=3.02;                 // Copper losses at full-load\n",
"Pc1=Pcl1;                  // Copper losses \n",
"Pl1=Pc1+Pi;                // Total losses\n",
"Tloss1=Pl1*8;              // Total losses in 6 hours\n",
"\n",
"             // For No-load (for 10 hours)\n",
"E2=0;                      // O/p Energy \n",
"Pc2=0;                     // Copper losses\n",
"Pl2=Pc2+Pi;                // Total losses\n",
"Tloss2=Pl2*10;             // Total losses in 10 hours\n",
"Wo=Eo+E1+E2;               // Total O/P energy\n",
"W1=Tloss+Tloss1+Tloss2;    // Total energy losses\n",
"n=Wo/(Wo+W1);              // All-Day efficiency\n",
"disp('All-Day efficiency = '+string(n*100)+' %'); \n",
"\n",
"\n",
"                 //     p 510         13.13\n",
"\n",
"             // For 160-kW load at pf=1 (for                        \n",
"t=6;                     // Time in Hours     "
   ]
   }
,
{
		   "cell_type": "markdown",
		   "metadata": {},
		   "source": [
			"## Example 13.14: Power.sce"
		   ]
		  },
  {
"cell_type": "code",
	   "execution_count": null,
	   "metadata": {
	    "collapsed": true
	   },
	   "outputs": [],
"source": [
"                       // Example  13.14\n",
"kVA=12000;             // Single Phase supply\n",
"V1=120;                // Voltage in primary winding\n",
"I2=kVA/V1;             // Currnet in Secondary winding\n",
"I1=I2;                 // Current in primary winding\n",
"V2=240;                // Voltage in Secondary winding\n",
"Pi=V2*I2;              // I/p apparent power \n",
"disp(' I/p apparent power = '+string(Pi/1000)+' kVA');\n",
"Po=V1*I1*2;            // O/p apparent power\n",
"disp(' O/p apparent power = '+string(Po/1000)+' kVA');\n",
"          //    p 511      13.14"
   ]
   }
,
{
		   "cell_type": "markdown",
		   "metadata": {},
		   "source": [
			"## Example 13.15: Voltage.sce"
		   ]
		  },
  {
"cell_type": "code",
	   "execution_count": null,
	   "metadata": {
	    "collapsed": true
	   },
	   "outputs": [],
"source": [
"                       // Example  13.15\n",
"Vl1=3300;                // The supply voltage\n",
"Vph1=Vl1/1.732;          // Primary phase voltage\n",
"N1=840;                  // No.Of Turns in Primary winding\n",
"N2=72;                   // No.Of Turns in secondary winding\n",
"Vph2=Vph1*(N2/N1);       // Secondary phase voltage\n",
"Vl2=Vph2;                // Secondary line voltage\n",
"disp(' Secondary line voltage on No load for (star/delta) = '+string(Vl2)+' Volt');\n",
"vph1=Vl1;                // Primary phase voltage\n",
"vph2=vph1*(N2/N1);       // Secondary phase voltage\n",
"vl2=vph2*1.732;          // Secondary line voltage\n",
"disp(' Secondary line voltage on No load for (delta/star) = '+string(round(vl2))+' Volt');\n",
"          //    p 514       13.15"
   ]
   }
,
{
		   "cell_type": "markdown",
		   "metadata": {},
		   "source": [
			"## Example 13.16: Current_And_Resistance.sce"
		   ]
		  },
  {
"cell_type": "code",
	   "execution_count": null,
	   "metadata": {
	    "collapsed": true
	   },
	   "outputs": [],
"source": [
"\n",
"                // Example 13.16 \n",
"                \n",
"V1=200;               // Supply voltage                \n",
"Wo=120;               // Wattmeter reading                \n",
"Iw=Wo/V1;             // Core loss current\n",
"disp(' Core-loss current (Iw) = '+string(Iw)+' Amp');\n",
"\n",
"Io=1.3;               // Open-ckt current\n",
"Im=sqrt(Io^2-Iw^2);   // Megnetising current\n",
"disp(' Megnetising current (Im) = '+string(Im)+' Amp');\n",
"\n",
"Ro=V1/Iw;                 // Resistance\n",
"Xo=V1/1.15;               // Reactance\n",
"disp(' Equivalent resistance of exciting circuit = '+string(round(Ro))+' Ohms');\n",
"disp(' Equivalent reactance of low voltage winding = '+string(round(Xo))+' Ohms');\n",
"\n",
"V2=400;                   // Supply voltage\n",
"k=V1/V2;                  // Transformation Ratio\n",
"kVA=12000;                // kVA rating\n",
"Ifl=kVA/V2;               // Full-load current\n",
"Wsc=200;                  // Short-ckt power\n",
"Re1=Wsc/Ifl^2;            // Equivalent resistance at full-load\n",
"Vsc=22;                   // Short-ckt voltage\n",
"Ze1=Vsc/Ifl;              // Equivalent impedeance at full-load\n",
"Xe1=sqrt(Ze1^2-Re1^2);    // Short-ckt reactance\n",
"Re2=k^2*Re1;              // Equivalent resistance of low voltage winding \n",
"disp(' Equivalent resistance of low voltage winding = '+string(Re2)+' Ohms');\n",
"\n",
"Xe2=k^2*Xe1;              // Equivalent ractance of low voltage winding\n",
"disp(' Equivalent reactance of low voltage winding = '+string(Xe2)+' Ohms');\n",
"\n",
"\n",
"                 //   p 516           13.16\n",
""
   ]
   }
,
{
		   "cell_type": "markdown",
		   "metadata": {},
		   "source": [
			"## Example 13.1: Megnetic_Flux_And_Voltage.sce"
		   ]
		  },
  {
"cell_type": "code",
	   "execution_count": null,
	   "metadata": {
	    "collapsed": true
	   },
	   "outputs": [],
"source": [
"                    // Example  13.1\n",
"E=6400;                            // Supply Voltage\n",
"f=50;                              // Frequency\n",
"N1=480;                            // No.Of turns in Primary Coil \n",
"N2=20;                             // No.Of turns in Secondary Coil\n",
"Qm=E/(4.44*f*N1);                  // The Peak Value of Flux\n",
"disp(' The Peak Value of Flux = '+string(Qm)+' Wb');\n",
"E1=4.44*f*N2*Qm;                   // Voltage induced in Secondary winding\n",
"disp(' Voltage induced in Secondary winding = '+string(E1)+' Volt');\n",
"         // p 487        13.1"
   ]
   }
,
{
		   "cell_type": "markdown",
		   "metadata": {},
		   "source": [
			"## Example 13.2: Flux_Density_Current_And_Voltage.sce"
		   ]
		  },
  {
"cell_type": "code",
	   "execution_count": null,
	   "metadata": {
	    "collapsed": true
	   },
	   "outputs": [],
"source": [
"                   // Example  13.2\n",
"E1=230;                            // Supply Voltage\n",
"f=50;                              // Frequency\n",
"N1=30;                             // No.Of turns in Primary Coil \n",
"N2=350;                            // No.Of turns in Secondary Coil\n",
"A=250*10^-4;                       // Area of the Core\n",
"Qm=E1/(4.44*f*N1);                 // The Peak Value of Flux\n",
"Bm=Qm/A;                           // The Peak Value of Flux Density\n",
"disp(' The Peak Value of Flux Density = '+string(Bm)+' Tesla');\n",
"E2=E1*(N2/N1);                     // Voltage induced in Secondary winding\n",
"disp(' Voltage induced in Secondary winding = '+string(E2/1000)+' kV');\n",
"I2=100;                            // Current in Secondary Coil\n",
"I1=I2*(N2/N1);                     // Primary Current \n",
"disp(' Primary Current is  = '+string(I1/1000)+' kA');\n",
"       // p 490      13.2"
   ]
   }
,
{
		   "cell_type": "markdown",
		   "metadata": {},
		   "source": [
			"## Example 13.3: Turns_Ratio.sce"
		   ]
		  },
  {
"cell_type": "code",
	   "execution_count": null,
	   "metadata": {
	    "collapsed": true
	   },
	   "outputs": [],
"source": [
"                   // Example  13.3\n",
"Rl=800;                  // Load Resistance\n",
"Req=50;                  // O/P Resistance \n",
"K=sqrt(Rl/Req);          // Ratio Constant \n",
"N21=K;                   // urns ratio of Transformer\n",
"disp(' Turns ratio of Transformer (N2/N1) = '+string(N21));\n",
"              // p 490      13.3"
   ]
   }
,
{
		   "cell_type": "markdown",
		   "metadata": {},
		   "source": [
			"## Example 13.4: Current.sce"
		   ]
		  },
  {
"cell_type": "code",
	   "execution_count": null,
	   "metadata": {
	    "collapsed": true
	   },
	   "outputs": [],
"source": [
"                   // Example  13.4'\n",
"                     // From the circuit Diagram Ip= 30<0/{20+i20+2^2*(2-i10)}\n",
"Ip= 30/{20+%i*20+2^2*(2-%i*10)};   // Phase Current\n",
"Il=2*Ip;                           // Load current\n",
"disp(' The Load current is Il = '+string(Il)+' Amp  or  ('+string(abs(Il))+' <'+string(atand(imag(Il),real(Il)))+' Amp )');\n",
"         // p 491     13.4 "
   ]
   }
,
{
		   "cell_type": "markdown",
		   "metadata": {},
		   "source": [
			"## Example 13.5: Power.sce"
		   ]
		  },
  {
"cell_type": "code",
	   "execution_count": null,
	   "metadata": {
	    "collapsed": true
	   },
	   "outputs": [],
"source": [
"                   // Example  13.5\n",
"f=50;                              // Frequency\n",
"N1=30;                             // No.Of turns in Primary Coil \n",
"N2=66;                             // No.Of turns in Secondary Coil\n",
"A=0.015;                           // Area of the Core\n",
"Zl=4;                              // Load Impedance\n",
"Bm=1.1;                            // The Peak Value of Flux Density\n",
"Qm=Bm*A;                           // The Peak Value of Flux\n",
"V2=4.44*f*N2*Qm;                   // O/P Voltage\n",
"I2=V2/Zl;                          // O/P current\n",
"Ova=V2*I2;                         // Output Volt-Amperes\n",
"disp(' Output Volt-Amperes is = '+string(Ova/1000)+' kVA');\n",
"             //  p 491      13.5"
   ]
   }
,
{
		   "cell_type": "markdown",
		   "metadata": {},
		   "source": [
			"## Example 13.6: Turns.sce"
		   ]
		  },
  {
"cell_type": "code",
	   "execution_count": null,
	   "metadata": {
	    "collapsed": true
	   },
	   "outputs": [],
"source": [
"                       // Example  13.6\n",
"f=50;                              // Frequency\n",
"A=9*10^-4;                         // Area of the Core\n",
"Bm=1;                              // The Peak Value of Flux Density\n",
"Qm=Bm*A;                           // The Peak Value of Flux\n",
"E3=6;                              // Voltage in Tertiary winding\n",
"N3=E3/(4.44*f*Qm);                 // No.Of Turns in Tertiary winding\n",
"disp(' No.Of Turns in Tertiary winding = '+string(round(N3*2)) +' turns');\n",
"E1=230;                             // Voltage in Primary winding\n",
"N03=round(N3);                      // Round figure\n",
"N1=(N03*E1)/E3;                     // No.Of Turns in Primary winding\n",
"disp(' No.Of Turns in Primary winding = '+string(round(N1)) +' turns');\n",
"E1=230;         \n",
"E2=110;                             // Voltage in Secondary winding\n",
"N2=(N03*E2)/E3;                     // No.Of Turns in Secondary winding\n",
"disp(' No.Of Turns in Secondary winding = '+string(round(N2)) +' turns');\n",
"          //  p 491      13.6"
   ]
   }
,
{
		   "cell_type": "markdown",
		   "metadata": {},
		   "source": [
			"## Example 13.7: Current_And_Power_Factor.sce"
		   ]
		  },
  {
"cell_type": "code",
	   "execution_count": null,
	   "metadata": {
	    "collapsed": true
	   },
	   "outputs": [],
"source": [
"                       // Example  13.7\n",
"VA=350;                // VA rating \n",
"V1=230;                // I/p Voltage\n",
"Io=VA/V1;              // I/p Current\n",
"Pi=110;                // I/p power\n",
"                       // Core Loss = I/p power at no load\n",
"                       // Pi= V1*Io*CosQ\n",
"pf=Pi/VA;              // Power factor\n",
"disp(' Power factor at no laod = '+string(pf));\n",
"Iw=Io*pf;              // Loss component of no-load Current\n",
"disp(' Loss component of no-load Current = '+string(Iw)+' Amp');\n",
"Im=sqrt(Io^2-Iw^2);    // Magnetising component of no-load Current\n",
"disp(' Magnetising component of no-load Current = '+string(Im)+' Amp');\n",
"                  //   p 493       13.7"
   ]
   }
,
{
		   "cell_type": "markdown",
		   "metadata": {},
		   "source": [
			"## Example 13.8: Power.sce"
		   ]
		  },
  {
"cell_type": "code",
	   "execution_count": null,
	   "metadata": {
	    "collapsed": true
	   },
	   "outputs": [],
"source": [
"                       // Example  13.8\n",
"                        // We Know that Pi= Ph+ Pe=( Af+ Bf^2 )\n",
"                        // there for at 60Hz   100= 60A+ 3600B\n",
"                        //           at 40Hz   60 = 40A+ 1600B\n",
"                        // After Solving Equation We have \n",
"A=1.167;                // Alphabet for Simlicity\n",
"B=0.00834;              // Alphabet for Simlicity\n",
"f=50;                   // Frequency\n",
"Ph=A*f;                 // Hysteresis Loss\n",
"disp('Hysteresis Loss ( at 50 Hz ) = '+string(Ph)+' Watt');\n",
"Pe=B*f^2;               // Eddy-Current Loss\n",
"disp('Eddy-Current Loss ( at 50 Hz ) = '+string(Pe)+' Watt');\n",
"                  //   p 495       13.8"
   ]
   }
,
{
		   "cell_type": "markdown",
		   "metadata": {},
		   "source": [
			"## Example 13.9: Current_And_Power_Factor.sce"
		   ]
		  },
  {
"cell_type": "code",
	   "execution_count": null,
	   "metadata": {
	    "collapsed": true
	   },
	   "outputs": [],
"source": [
"                       // Example  13.9\n",
" \n",
"pf1=0.2;               // Power factor at 5 A\n",
"pf2=0.8;               // Power factor at 120 A\n",
"Q1=acosd(pf1);         // Angle for 0.2 Power factor \n",
"Q2=acosd(pf2);         // Angle for 0.8 Power factor \n",
"V2=110;                // Voltage in Secondary winding\n",
"V1=440;                // Voltage in Primary winding\n",
"k=V2/V1;               // Ratio Constant\n",
"I2=120;                // Current in Secondary winding\n",
"i1=k*I2;               // Current in primary winding\n",
"io=5;                  // No load Current\n",
"I1=23.99-%i*18;        // Current in primary winding in complex form\n",
"Io=1-%i*4.899;         // No load Current in complex form\n",
"I=I1+Io;               // Primary Current\n",
"disp(' Primary Current = '+string(I)+' Amp  or  '+string(abs(I))+'<'+string(atand(imag(I),real(I)))+' Amp');\n",
"pf=cosd(-42.49);       // Primary Power factor\n",
"disp(' Primary Power factor = '+string(pf));\n",
"         /// p 498      13.9"
   ]
   }
],
"metadata": {
		  "kernelspec": {
		   "display_name": "Scilab",
		   "language": "scilab",
		   "name": "scilab"
		  },
		  "language_info": {
		   "file_extension": ".sce",
		   "help_links": [
			{
			 "text": "MetaKernel Magics",
			 "url": "https://github.com/calysto/metakernel/blob/master/metakernel/magics/README.md"
			}
		   ],
		   "mimetype": "text/x-octave",
		   "name": "scilab",
		   "version": "0.7.1"
		  }
		 },
		 "nbformat": 4,
		 "nbformat_minor": 0
}
