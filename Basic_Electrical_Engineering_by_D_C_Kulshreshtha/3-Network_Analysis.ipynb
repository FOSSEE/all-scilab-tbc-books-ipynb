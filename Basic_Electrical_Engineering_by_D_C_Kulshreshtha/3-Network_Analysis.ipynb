{
"cells": [
 {
		   "cell_type": "markdown",
	   "metadata": {},
	   "source": [
       "# Chapter 3: Network Analysis"
	   ]
	},
{
		   "cell_type": "markdown",
		   "metadata": {},
		   "source": [
			"## Example 2.26: Current.sce"
		   ]
		  },
  {
"cell_type": "code",
	   "execution_count": null,
	   "metadata": {
	    "collapsed": true
	   },
	   "outputs": [],
"source": [
"                             // Examle 3.26\n",
"              // Reffer Diagram (3.44a)\n",
"              // First of all convert all resistor in to conductor\n",
"              // From the obtained diagram (3.44c) Apply KCL to node 1 & 2\n",
"              // Node-1    0.7S1-0.2S2-= 3..................(i\n",
"              // Node-2    -0.2S1-1.2S2= 2..................(ii\n",
" \n",
"              // By using matrix form will get A*X = B  formate \n",
"delta=[0.7 -0.2 ; -0.2 1.2 ];          // value of A\n",
"d=det(delta);                          // Determinant of A\n",
"delta1=[3 -0.2 ; 2 1.2 ];              // value of A1 (when 1st colomn is replace by B) \n",
"d1=det(delta1);                        // Determinant of A1\n",
"delta2=[0.7 3 ; -0.2 2 ];              // value of A2 (when 2nd colomn is replace by B) \n",
"d2=det(delta2);                        // Determinant of A2\n",
"V1=d1/d;                               // Voltage at node-1\n",
"V2=d2/d;                               // Voltage at node-2\n",
"I=(V1-V2)/5;                           // Current through 5 ohm resistor (I)\n",
"disp(' Current through 5 ohm resistor = '+string(I)+' Amp');\n",
"       //   p 84     3.26"
   ]
   }
,
{
		   "cell_type": "markdown",
		   "metadata": {},
		   "source": [
			"## Example 2.27: Current.sce"
		   ]
		  },
  {
"cell_type": "code",
	   "execution_count": null,
	   "metadata": {
	    "collapsed": true
	   },
	   "outputs": [],
"source": [
"                             // Examle 3.27\n",
"                      // From the diagram (3.45) Apply KCL to the circuit\n",
"                      // will get (V-10)/2 +(V-0)/4 +(V-8)/6 = 0\n",
"                      // Using nodal analysis\n",
"                      // hance we can get V= 6.91\n",
"V=6.91;               // Voltage at the node\n",
"I=V/(1+3);            // Current (I)\n",
"disp(' Current (I) = '+string(I)+' Amp');\n",
"         //  p 84          3.27"
   ]
   }
,
{
		   "cell_type": "markdown",
		   "metadata": {},
		   "source": [
			"## Example 3.10: Current.sce"
		   ]
		  },
  {
"cell_type": "code",
	   "execution_count": null,
	   "metadata": {
	    "collapsed": true
	   },
	   "outputs": [],
"source": [
"                             // Examle 3.10\n",
"Rl=6;                      // Load resistance\n",
"Rs=2;                      // Source resistance\n",
"Is=16;                     // Source current\n",
"I2=Is*(Rl/(Rl+Rs));        // Current through Rs\n",
"disp(' Current through Rs (with Current as source ) = '+string(I2)+' Amp');\n",
"I6=Is-I2;                  // Current through Rl\n",
"disp(' Current through Rl (with Current as source ) = '+string(I6)+' Amp');\n",
"            // After transforming the current source in to voltage source\n",
"Vs=32;                     // Source voltage \n",
"i2=Vs/(Rl+Rs);             // Current through Rs\n",
"i6=i2;                     // Current through Rl\n",
"disp(' Current through Rs & Rl (with voltage as source ) = '+string(i2)+' Amp');\n",
"                        //    p 62       3.10"
   ]
   }
,
{
		   "cell_type": "markdown",
		   "metadata": {},
		   "source": [
			"## Example 3.13: Current_And_Power.sce"
		   ]
		  },
  {
"cell_type": "code",
	   "execution_count": null,
	   "metadata": {
	    "collapsed": true
	   },
	   "outputs": [],
"source": [
"                             // Examle 3.13\n",
"                          // From Diagram (3.26) Apply KVL to get 24-4I-2I+18I= 0\n",
"I=(-24/12);               // Current\n",
"disp(' The value of Current = '+string(I)+' Amp');\n",
"V1=4*I;                  // Voltage across 4 Ohm Resistor \n",
"p=-(4.5*V1*I);           // Power absorbed\n",
"disp(' Power absorbed by dependent source = '+string(p)+' Watt');\n",
"V=24;                    // Independent voltage source\n",
"R=V/I;                   // Resistence Seen from Independent source\n",
"disp(' Resistence Seen from Independent source = '+string(R)+' Ohm');\n",
"                 //        p 67    3.13"
   ]
   }
,
{
		   "cell_type": "markdown",
		   "metadata": {},
		   "source": [
			"## Example 3.14: Voltage.sce"
		   ]
		  },
  {
"cell_type": "code",
	   "execution_count": null,
	   "metadata": {
	    "collapsed": true
	   },
	   "outputs": [],
"source": [
"                             // Examle 3.14\n",
"                          // From Diagram (3.28) Apply KVL to get 100-40I-60I= 0\n",
"I=100/100;                // Current\n",
"disp(' The value of Current = '+string(I)+' Amp');\n",
"R=60;                     // Resistor\n",
"V1=I*R;                   // Voltage across 60 ohm resistor\n",
"disp(' Voltage across 60 ohm resistor = '+string(V1)+' Volt');\n",
"                          // By using Voltage divider concept\n",
"Vab=-10+V1+0*10+30;       // Voltage Vab\n",
"disp(' Voltage across open-circuit Vab = '+string(Vab)+' Volt');\n",
"              //    p 68           3.14"
   ]
   }
,
{
		   "cell_type": "markdown",
		   "metadata": {},
		   "source": [
			"## Example 3.15: Voltage.sce"
		   ]
		  },
  {
"cell_type": "code",
	   "execution_count": null,
	   "metadata": {
	    "collapsed": true
	   },
	   "outputs": [],
"source": [
"                             // Examle 3.15\n",
"                            // From Diagram (3.29) let us confirm that the given voltage satisfy KVL \n",
"                            // 10-6-4= 0  , satisfy KVl\n",
"                // From Diagram Apply KVL to right loop get { -(-4)+4+Vx= 0 }\n",
"Vx=-4-4;                    // Voltage Vx \n",
"disp(' Voltage across Vx = '+string(Vx)+' Volt');\n",
"               // To find Vcd Stand a point d & walk towards c  i.e { Vcd= -4+6 }\n",
"Vcd=-4+6;                   // Voltage Vcd\n",
"disp(' Voltage across Vcd = '+string(Vcd)+' Volt');\n",
"                      //      p 69         3.15"
   ]
   }
,
{
		   "cell_type": "markdown",
		   "metadata": {},
		   "source": [
			"## Example 3.16: Current.sce"
		   ]
		  },
  {
"cell_type": "code",
	   "execution_count": null,
	   "metadata": {
	    "collapsed": true
	   },
	   "outputs": [],
"source": [
"                             // Examle 3.16\n",
"              // From the diagram (3.30) Apply KVL to all the 3 loop.\n",
"              // Loop-1    5Ix+0Iy-10I1-= 100..............(i\n",
"              // Loop-2    7Ix+ 2Iy-2I1= -50...............(ii\n",
"              // Loop-3    3Ix-5Iy-3I1= -50................(iii\n",
"              \n",
"              // By using matrix form will get A*X = B  formate \n",
"              \n",
"delta=[5 0 10 ; 7 2 -2 ; 3 -5 -3 ];             // value of A\n",
"d=det(delta);                                   // Determinant of A\n",
"delta1=[100 0 10 ; -50 2 -2 ; -50 -5 -3 ];      // value of A1 (when 1st colomn is replace by B) \n",
"d1=det(delta1);                                 // Determinant of A1\n",
"delta2=[5 100 10 ; 7 -50 -2 ; 3 -50 -3 ];       // value of A2 (when 2nd colomn is replace by B)\n",
"d2=det(delta2);                                 // Determinant of A2\n",
"Ix=d1/d;                                        // Current (Ix)\n",
"disp(' The value of Current (Ix)  = '+string(Ix)+' Amp');\n",
"Iy=d2/d;                                        // Current (Iy)\n",
"disp(' The value of Current (Iy) = '+string(Iy)+' Amp');\n",
"       //   p 71     3.16"
   ]
   }
,
{
		   "cell_type": "markdown",
		   "metadata": {},
		   "source": [
			"## Example 3.17: Resistance.sce"
		   ]
		  },
  {
"cell_type": "code",
	   "execution_count": null,
	   "metadata": {
	    "collapsed": true
	   },
	   "outputs": [],
"source": [
"                             // Examle 3.17\n",
"              // From the diagram (3.31) Apply KCL to node B & C\n",
"              // will get { I1+I2= 20 }  &  { I3-I2= 30 }\n",
"              // Apply KVL to Bigger loop will get  i.e { I1-3I2-2I3= -100 }\n",
"              // By solving All the 3 equation we get \n",
"I1=10;                   // Current in loop-1\n",
"disp(' The value of Current (I1) = '+string(I1)+' Amp');\n",
"I2=10;                   // Current in loop-2\n",
"disp(' The value of Current (I2) = '+string(I2)+' Amp');\n",
"I3=40;                   // Current in loop-3\n",
"disp(' The value of Current (I3) = '+string(I3)+' Amp');\n",
"              // For Resistors Apply KVL to loop-1 & loop-3\n",
"              // we get { -0.1I1-20R1+110= 0 }  &  { 0.2I3-120+30R2= 0 }\n",
"R1=(110-0.1*I1)/20;     // Resistence (R1)\n",
"disp(' The value of Resistence (R1) = '+string(R1)+' Ohm');\n",
"R2=(120-0.2*I3)/30;     // Resistence (R2)\n",
"disp(' The value of Resistence (R2) = '+string(R2)+' Ohm');\n",
"            //    p 71       3.17"
   ]
   }
,
{
		   "cell_type": "markdown",
		   "metadata": {},
		   "source": [
			"## Example 3.18: Current.sce"
		   ]
		  },
  {
"cell_type": "code",
	   "execution_count": null,
	   "metadata": {
	    "collapsed": true
	   },
	   "outputs": [],
"source": [
"                             // Examle 3.18\n",
"              // From the diagram (3.33a) Apply KVL to Bigger loop i.e (For I1 )\n",
"              // Will get { 10-5(I1-2)-8I1= 0 }\n",
"              // Using loop-circuit analysis \n",
"I1=20/13;     // Current through 8 ohm resistor\n",
"disp(' Current through 8 ohm resistor (I1) = '+string(I1)+' Amp');\n",
"              //   p 74         3.18 "
   ]
   }
,
{
		   "cell_type": "markdown",
		   "metadata": {},
		   "source": [
			"## Example 3.19: Voltage.sce"
		   ]
		  },
  {
"cell_type": "code",
	   "execution_count": null,
	   "metadata": {
	    "collapsed": true
	   },
	   "outputs": [],
"source": [
"                             // Examle 3.19\n",
"              // From the diagram (3.34a) Apply KVL to loop-2 i.e (For I )\n",
"              // Will get { -2I-3I+6-1(I+5-4)= 0 }\n",
"              // Using loop-circuit analysis \n",
"I=5/6;        // Current in loop-2\n",
"V=3*I;        // Unknown voltage.\n",
"disp(' Unknown voltage V = '+string(V)+' Volt');\n",
"              //   p 74         3.19 "
   ]
   }
,
{
		   "cell_type": "markdown",
		   "metadata": {},
		   "source": [
			"## Example 3.1: capacitor.sce"
		   ]
		  },
  {
"cell_type": "code",
	   "execution_count": null,
	   "metadata": {
	    "collapsed": true
	   },
	   "outputs": [],
"source": [
"                             // Examle 3.1\n",
"A=0.113;                   // Area of parallel plate \n",
"eo=8.854*10^-12;           // Permittivity of free space \n",
"er=10;                     // Relative Permittivity \n",
"d=0.1*10^-3;               // Distance between 2 Plate\n",
"C=(eo*er*A)/d;             // The value of capacitor Using case-1\n",
"disp(' The value of capacitor Using case-1 = '+string(C*1000000)+' uF');\n",
"w=0.05;                    // Energy stored\n",
"v=100;                     // Voltage\n",
"C1=(2*w)/v^2;              // The value of capacitor Using case-2\n",
"disp(' The value of capacitor Using case-2 = '+string(C1*1000000)+' uF');\n",
"i=5*10^-3;                 // Current\n",
"dv=100;                    // Increase iv voltage\n",
"dt=0.1;                    // Time required \n",
"C2=i/(dv/dt);              // The value of capacitor Using case-3\n",
"disp(' The value of capacitor Using case-3 = '+string(C2*1000000)+' uF');\n",
"              //  p 53     3.1\n",
"             \n",
"             \n",
"             \n",
"             "
   ]
   }
,
{
		   "cell_type": "markdown",
		   "metadata": {},
		   "source": [
			"## Example 3.20: Current.sce"
		   ]
		  },
  {
"cell_type": "code",
	   "execution_count": null,
	   "metadata": {
	    "collapsed": true
	   },
	   "outputs": [],
"source": [
"                             // Examle 3.20\n",
"              // From the diagram (3.38) Apply KVL to all the 3 loop.\n",
"              // Loop-1    19I1-12I2+0I3-= 60................(i\n",
"              // Loop-2    -12I1+18I2-6I3= 0...............(ii\n",
"              // Loop-3    0I1-6I2+18I3= 0.................(iii\n",
"              \n",
"              // By using matrix form will get A*X = B  formate \n",
"delta=[19 -12 0 ; -12 18 -6 ; 0 -6 18 ];        // value of A\n",
"d=det(delta);                                   // Determinant of A\n",
"delta1=[60 -12 0 ; 0 18 -6 ; 0 -6 18 ];         // value of A1 (when 1st colomn is replace by B) \n",
"d1=det(delta1);                                 // Determinant of A1\n",
"Is=d1/d;                                        // Current drawn from source (Is=I1)\n",
"disp(' Current drawn from source (Is)  = '+string(Is)+' Amp');\n",
"       //   p 79     3.20"
   ]
   }
,
{
		   "cell_type": "markdown",
		   "metadata": {},
		   "source": [
			"## Example 3.21: Current.sce"
		   ]
		  },
  {
"cell_type": "code",
	   "execution_count": null,
	   "metadata": {
	    "collapsed": true
	   },
	   "outputs": [],
"source": [
"                             // Examle 3.21\n",
"              // From the diagram (3.39) Apply KVL to all the 3 loop.\n",
"              // Loop-1    7I1-4I2+0I3-= 67..................(i\n",
"              // Loop-2    -4I1+15I2-6I3= -152...............(ii\n",
"              // Loop-3    0I1-6I2+13I3= 74..................(iii\n",
"              \n",
"              // By using matrix form will get A*X = B  formate \n",
"delta=[7 -4 0 ; -4 15 -6 ; 0 -6 13 ];          // value of A\n",
"d=det(delta);                                  // Determinant of A\n",
"delta1=[7 -4 67 ; -4 15 -152 ; 0 -6 74 ];      // value of A1 (when 3rd colomn is replace by B) \n",
"d1=det(delta1);                                // Determinant of A1\n",
"I3=d1/d;                                       // Current through 7 ohm resistor (I3)\n",
"disp(' Current through 7 ohm resistor = '+string(I3)+' Amp');\n",
"       //   p 79     3.21"
   ]
   }
,
{
		   "cell_type": "markdown",
		   "metadata": {},
		   "source": [
			"## Example 3.22: Voltage.sce"
		   ]
		  },
  {
"cell_type": "code",
	   "execution_count": null,
	   "metadata": {
	    "collapsed": true
	   },
	   "outputs": [],
"source": [
"                             // Examle 3.22\n",
"               // From the diagram (3.40b) Apply KCL to node a\n",
"               // will get { (va-0)/2+ (va-vb)/3 = 5 }............(1\n",
"               // Similarly apply KCL at node b\n",
"               // will get { (vb-va)/3+ vb-0)/4 = -6 }............(2\n",
"               // After solving these 2 equation will have\n",
"Va=2.44;                     // Voltage at node a\n",
"Vb=-8.89;                    // Voltage at node b\n",
"Vab=Va-Vb;                   // Voltage across 3 ohm resistor\n",
"disp(' Voltage across 3 ohm resistor = '+string(Vab)+' Volt');\n",
"                     //   p 80        3.22"
   ]
   }
,
{
		   "cell_type": "markdown",
		   "metadata": {},
		   "source": [
			"## Example 3.23: Current.sce"
		   ]
		  },
  {
"cell_type": "code",
	   "execution_count": null,
	   "metadata": {
	    "collapsed": true
	   },
	   "outputs": [],
"source": [
"                             // Examle 3.23\n",
"               // From the diagram (3.41) Apply KCL to node \n",
"               // will get { (v1-0)/12+ (v1-60)/3+ (v1-0)/4 = 5 }\n",
"               // After solving above equation we get V1= 18 V\n",
"V1=18;                     // Voltage at node 1\n",
"I1=(V1-0)/12;              // Current through 12 ohm resistor (I1)\n",
"disp(' Current through 12 ohm resistor = '+string(I1)+' Amp');\n",
"                     //   p 81        3.23"
   ]
   }
,
{
		   "cell_type": "markdown",
		   "metadata": {},
		   "source": [
			"## Example 3.24: Current.sce"
		   ]
		  },
  {
"cell_type": "code",
	   "execution_count": null,
	   "metadata": {
	    "collapsed": true
	   },
	   "outputs": [],
"source": [
"                             // Examle 3.24\n",
"               // From the diagram (3.42) Node voltages are\n",
"               // Have { va-vb+0vc = 6 }.......................(1\n",
"               // Apply KCL at Super node \n",
"               // will get { 0.33va+0.25vb-0.25vc = 2  }.......(2\n",
"               // Apply KCL at node c\n",
"               // will get { 0va-0.25vb+4.5vc = -7  }..........(3\n",
" \n",
"              // By using matrix form will get A*X = B  formate \n",
"delta=[1 -1 0 ; 0.33 0.25 -0.25 ; 0 -0.25 0.45];   // value of A\n",
"d=det(delta);                                      // Determinant of A\n",
"delta1=[1 6 0 ; 0.33 2 -0.25 ; 0 -7 0.45];         // value of A1 (when 2nd colomn is replace by B) \n",
"d1=det(delta1);                                    // Determinant of A1\n",
"delta2=[1 -1 6 ; 0.33 0.25 2 ; 0 -0.25 -7];        // value of A2 (when 3rd colomn is replace by B) \n",
"d2=det(delta2);                                    // Determinant of A2\n",
"Vb=d1/d;                                           // Voltage at node-b\n",
"Vc=d2/d;                                           // Voltage at node-c\n",
"I=(Vb-Vc)/4;                                       // Current through 4 ohm resistor (I)\n",
"disp(' Current through 4 ohm resistor = '+string(I)+' Amp');\n",
"                     //   p 82        3.24"
   ]
   }
,
{
		   "cell_type": "markdown",
		   "metadata": {},
		   "source": [
			"## Example 3.25: Voltage.sce"
		   ]
		  },
  {
"cell_type": "code",
	   "execution_count": null,
	   "metadata": {
	    "collapsed": true
	   },
	   "outputs": [],
"source": [
"                             // Examle 3.25\n",
"               // From the diagram (3.43b) Apply KCL to node a\n",
"               // will get { (va-6)/1+ (va-0)/5 =4-5 }\n",
"Va=(6-1)/1.2;                 // Voltage at node a\n",
"              // by using voltage divider rule\n",
"V=Va*(3/(2+3));               // Voltage across 3 ohm resistor\n",
"disp(' Voltage across 3 ohm resistor = '+string(V)+' Volt');\n",
"                  //    p 82           3.25"
   ]
   }
,
{
		   "cell_type": "markdown",
		   "metadata": {},
		   "source": [
			"## Example 3.2: Inductor.sce"
		   ]
		  },
  {
"cell_type": "code",
	   "execution_count": null,
	   "metadata": {
	    "collapsed": true
	   },
	   "outputs": [],
"source": [
"                             // Examle 3.2\n",
"w=0.2;                       // Energy stored\n",
"i=0.2;                       // Current\n",
"L1=(2*w)/i^2;                // The value of Inductor Using case-1\n",
"disp(' The value of Inductor Using case-1 = '+string(L1)+' H');\n",
"v=10;                        // Voltage\n",
"di1=0.1;                     // Increase current\n",
"dt1=0.2;                     // Time required \n",
"L2=v/(di1/dt1);              // The value of Inductor Using case-2\n",
"disp(' The value of Inductor Using case-2 = '+string(L2)+' H');\n",
"p=2.5;                       // Power \n",
"di2=0.1;                     // Increase current\n",
"dt2=0.5;                     // Time required \n",
"L3=p/(di2*dt2);              // The value of Inductor Using case-3\n",
"disp(' The value of Inductor Using case-3 = '+string(L3)+' H');\n",
"              //  p 54     3.2"
   ]
   }
,
{
		   "cell_type": "markdown",
		   "metadata": {},
		   "source": [
			"## Example 3.3: Inductor.sce"
		   ]
		  },
  {
"cell_type": "code",
	   "execution_count": null,
	   "metadata": {
	    "collapsed": true
	   },
	   "outputs": [],
"source": [
"                             // Examle 3.3\n",
"                          // Given L1= 2L2\n",
"                          // From the Diagram Leq= 0.5+ (L1*L2)/(L1+L2) \n",
"                          // there for (L1*L2)/(L1+L2)= 0.2 ,( where Leq= 0.7)\n",
"                          // i.e (2*L2*L2)/3L2= 0.2;\n",
"                          // it means L2= 0.3 H\n",
"L2=0.3;                   // Value of Inductor 1 \n",
"L1=2*L2;                  // Value of Inductor 2\n",
"disp(' Value of Inductors are  L1= '+string(L1)+' H   &   L2= '+string(L2)+' H');\n",
"              //    p 55      3.3"
   ]
   }
,
{
		   "cell_type": "markdown",
		   "metadata": {},
		   "source": [
			"## Example 3.4: Voltage.sce"
		   ]
		  },
  {
"cell_type": "code",
	   "execution_count": null,
	   "metadata": {
	    "collapsed": true
	   },
	   "outputs": [],
"source": [
"                             // Examle 3.4\n",
"C1=0.05;                               // Capacitor 1 ( in Micro )\n",
"C2=0.1;                                // Capacitor 2 ( in Micro )\n",
"C3=0.2;                                // Capacitor 3 ( in Micro )\n",
"C4=0.05;                               // Capacitor 4 ( in Micro )\n",
"C=(1/C1)+(1/C2)+(1/C3)+(1/C4);         // Addition of  capacitors\n",
"Cs=1/C;                                // Equivalent capacitor\n",
"disp(' Equivalent capacitor = '+string(Cs)+' uF');\n",
"V=220;                                 // Supply voltage\n",
"Q=Cs*V;                                // Charge transfer\n",
"V1=Q/C1;                               // Voltage drop across capacitor 1\n",
"disp(' Voltage drop across capacitor 1 = '+string(V1)+' Volt');\n",
"V2=Q/C2;                               // Voltage drop across capacitor 2\n",
"disp(' Voltage drop across capacitor 2 = '+string(V2)+' Volt');\n",
"V3=Q/C3;                               // Voltage drop across capacitor 3\n",
"disp(' Voltage drop across capacitor 3 = '+string(V3)+' Volt');\n",
"V4=Q/C4;                               // Voltage drop across capacitor 4\n",
"disp(' Voltage drop across capacitor 4 = '+string(V4)+' Volt');\n",
"                //   p 55        3.4   "
   ]
   }
,
{
		   "cell_type": "markdown",
		   "metadata": {},
		   "source": [
			"## Example 3.5: Voltage.sce"
		   ]
		  },
  {
"cell_type": "code",
	   "execution_count": null,
	   "metadata": {
	    "collapsed": true
	   },
	   "outputs": [],
"source": [
"                             // Examle 3.5\n",
"C1=2*10^-6;               // Value of capacitor-1\n",
"C2=10*10^-6;              // Value of capacitor-2\n",
"Q1=400*10^-6;             // Charge of capacitor-1\n",
"Q2=200*10^-6;             // Charge of capacitor-2\n",
"Q=Q1+Q2;                  // Total Charge of capacitors\n",
"C=C1+C2;                  // Equivalentss capacitor\n",
"V=Q/C;                    // Voltage across the capacitor\n",
"disp(' Voltage across the capacitor = '+string(V)+' Volt');\n",
"               //  p 55       3.5"
   ]
   }
,
{
		   "cell_type": "markdown",
		   "metadata": {},
		   "source": [
			"## Example 3.6: Voltage_And_Energy.sce"
		   ]
		  },
  {
"cell_type": "code",
	   "execution_count": null,
	   "metadata": {
	    "collapsed": true
	   },
	   "outputs": [],
"source": [
"                             // Examle 3.6\n",
"C1=2*10^-6;                             // Capacitor 1\n",
"C2=8*10^-6;                             // Capacitor 2\n",
"C=(C1*C2)/(C1+C2);                      // Equivalentss capacitor\n",
"V=300;                                  // Supply voltage\n",
"Q=C*V;                                  // Charge on each capacitor\n",
"disp('(a)  Charge on each capacitor = '+string(Q*1000000)+' uC');\n",
"V1=Q/C1;                                // Voltage drop across capacitor 1\n",
"disp('(b).1  Voltage drop across capacitor 1 = '+string(V1)+' Volt');\n",
"V2=Q/C2;                               // Voltage drop across capacitor 2\n",
"disp('(b).2  Voltage drop across capacitor 2 = '+string(V2)+' Volt');\n",
"V1=240;\n",
"w1=0.5*C1*V1^2;                        // Energy stored in capacitor-1\n",
"disp('(c).1  Energy stored in capacitor-1 = '+string(w1*1000)+' mJ');\n",
"V2=60;\n",
"w2=0.5*C2*V2^2;                        // Energy stored in capacitor-2\n",
"disp('(c).2  Energy stored in capacitor-2 = '+string(w2*1000)+' mJ');\n",
"                      //   p 56          3.6"
   ]
   }
,
{
		   "cell_type": "markdown",
		   "metadata": {},
		   "source": [
			"## Example 3.7: Capacitor.sce"
		   ]
		  },
  {
"cell_type": "code",
	   "execution_count": null,
	   "metadata": {
	    "collapsed": true
	   },
	   "outputs": [],
"source": [
"                             // Examle 3.7\n",
"                           // Given that Ceq= 1 uF between A & B\n",
"                           // By reducing the circuit will get 2 capacitor.\n",
"                           // that is C & C13= 32/9 uF\n",
"                           // there for (1/1)= 1/C+ 9/32\n",
"                           // Hance 1/C= 1-9/32 \n",
"C=1/{1-(9/32)};            // Value of Capacitor-C\n",
"disp(' Value of Capacitor C = '+string(C)+' uF');\n",
"             // p 56     3.7"
   ]
   }
,
{
		   "cell_type": "markdown",
		   "metadata": {},
		   "source": [
			"## Example 3.8: Voltage_And_Current.sce"
		   ]
		  },
  {
"cell_type": "code",
	   "execution_count": null,
	   "metadata": {
	    "collapsed": true
	   },
	   "outputs": [],
"source": [
"                             // Examle 3.8\n",
"                            // for the extreme value of Rl voltage (Vl) & Current (Il)\n",
"E=3;                        // Supply voltage\n",
"Ri=1;                       // I/p Resistance\n",
"Rl1=100;                    // Minimum load resistance \n",
"Il1=E/(Rl1+Ri);             // Current at minimum load Rl1\n",
"Vl1=E-(Il1*Ri);             // Voltage at minimum load Rl1\n",
"Rl2=1000;                   // Maximum load resistance \n",
"Il2=E/(Rl2+Ri);             // Current at maximum load Rl2\n",
"Vl2=E-(Il2*Ri);             // Voltage at maximum load Rl2\n",
"Il={(Il1-Il2)/Il1}*100;     // Change in current Il\n",
"disp(' The % chenge (a Decrease ) in Il = '+string(Il)+' % ');\n",
" \n",
"Vl={(Vl1-Vl2)/Vl1}*100;    // Change in voltage Vl\n",
"disp(' The % chenge (a Increase ) in Vl = '+string(-Vl)+' % ');\n",
"rl1=0.001;                    // Minimum load resistance (for 2nd case)\n",
"il1=E/(rl1+Ri);               // Current at minimum load rl1\n",
"vl1=E-(il1*Ri);               // Voltage at minimum load rl1\n",
"rl2=0.01;                     // Maximum load resistance (for 2nd case)\n",
"il2=E/(rl2+Ri);               // Current at maximum load rl2\n",
"vl2=E-(il2*Ri);               // Voltage at maximum load rl2\n",
"il={(il1-il2)/il1}*100;       // Change in current il\n",
"disp(' The % chenge (a Decrease ) in Il = '+string(il)+' % ');\n",
" \n",
"vl={(0.003-0.03)/0.003}*100;  // Change in voltage vl   ==> (vl1=0.003 & vl2=0.03)\n",
"disp(' The % chenge (a Increase ) in Vl = '+string(-vl)+' % ');\n",
"           //    p 59        3.8"
   ]
   }
,
{
		   "cell_type": "markdown",
		   "metadata": {},
		   "source": [
			"## Example 3.9: Voltage_And_Power.sce"
		   ]
		  },
  {
"cell_type": "code",
	   "execution_count": null,
	   "metadata": {
	    "collapsed": true
	   },
	   "outputs": [],
"source": [
"                             // Examle 3.9\n",
"Is=3;                     // Source current\n",
"Rs=2;                     // Source resistance\n",
"Vs=Rs*Is;                 // Source voltage\n",
"Rl=4;                     // Load resistance\n",
"R=(Rs*Rl)/(Rs+Rl);        // Eqviualent resistance\n",
"Il1=(Is*Rs)/(Rs+Rl);      // Load current in case-1\n",
"disp(' Load current in case-1 = '+string(Il1)+' Amp');\n",
"Vl1=1*Rl;                 // Load voltage in case-1\n",
"disp(' Load voltage in case-1 = '+string(Vl1)+' Volt');\n",
"Ps1=Is^2*R;               // Power delivered in case-1\n",
"disp(' Power delivered in case-1 = '+string(Ps1)+' Watt');\n",
"Il2=Vs/(Rs+Rl);           // Load current in case-2\n",
"disp(' Load current in case-2 = '+string(Il2)+' Amp');\n",
"Vl2=Vs*(Rl/(Rl+Rs));      // Load voltage in case-2\n",
"disp(' Load voltage in case-2 = '+string(Vl2)+' Volt');\n",
"Ps2=Vs^2/(Rs+Rl);         // Power delivered in case-2\n",
"disp(' Power delivered in case-2 = '+string(Ps2)+' Watt');\n",
"                  //       p 61        3.9"
   ]
   }
],
"metadata": {
		  "kernelspec": {
		   "display_name": "Scilab",
		   "language": "scilab",
		   "name": "scilab"
		  },
		  "language_info": {
		   "file_extension": ".sce",
		   "help_links": [
			{
			 "text": "MetaKernel Magics",
			 "url": "https://github.com/calysto/metakernel/blob/master/metakernel/magics/README.md"
			}
		   ],
		   "mimetype": "text/x-octave",
		   "name": "scilab",
		   "version": "0.7.1"
		  }
		 },
		 "nbformat": 4,
		 "nbformat_minor": 0
}
