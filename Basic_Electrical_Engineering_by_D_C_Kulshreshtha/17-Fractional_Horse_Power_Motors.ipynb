{
"cells": [
 {
		   "cell_type": "markdown",
	   "metadata": {},
	   "source": [
       "# Chapter 17: Fractional Horse Power Motors"
	   ]
	},
{
		   "cell_type": "markdown",
		   "metadata": {},
		   "source": [
			"## Example 17.1: Slip_And_Efficiency.sce"
		   ]
		  },
  {
"cell_type": "code",
	   "execution_count": null,
	   "metadata": {
	    "collapsed": true
	   },
	   "outputs": [],
"source": [
"                             // Examle 17.1\n",
"f=50;                 // Frequency\n",
"p=4;                  // No.Of poles\n",
"Ns=(120*f)/p;         // Synchronous speed \n",
"N=1410;               // No.Of Revolution in rmp\n",
"I=2.9;                // I/p current\n",
"V=230;                // Supply voltage\n",
"CosQ=0.71;            // Power factor \n",
"s=(Ns-N)/Ns;          // The Slip\n",
"disp(' The Slip is = '+string(s*100)+' %');\n",
"po=375;               // O/p power\n",
"pin=V*I*CosQ;         // I/p power\n",
"eff=po/pin;           // Efficiency\n",
"disp(' The efficiency is = '+string(eff*100)+' %');\n",
" \n",
"                   //  p 683       17.1"
   ]
   }
,
{
		   "cell_type": "markdown",
		   "metadata": {},
		   "source": [
			"## Example 17.2: Current_Phase_Angle_And_Power_Factor.sce"
		   ]
		  },
  {
"cell_type": "code",
	   "execution_count": null,
	   "metadata": {
	    "collapsed": true
	   },
	   "outputs": [],
"source": [
"                     // Examle 17.2\n",
"zm=(5+%i*12);            // Impedence of main-Winding\n",
"za=(12+%i*5);            // Impedence of starting-Winding\n",
"V=230+%i*0;              // Supply voltage\n",
"Im=V/zm;                 // Current in main-Winding\n",
"disp(' The Current in main-Winding = '+string(Im)+' Amp  or  ('+string(abs(Im))+' <'+string(atand(imag(Im),real(Im)))+' Amp )');\n",
"Ia=V/za;                 // Current in starting-Winding\n",
"disp(' The Current in starting-Winding = '+string(Ia)+' Amp  or  ('+string(abs(Ia))+' <'+string(atand(imag(Ia),real(Ia)))+' Amp )');\n",
"Il=Im+Ia;                // The line Current\n",
"disp(' The line Current = '+string(Il)+' Amp  or  ('+string(abs(Il))+' <'+string(atand(imag(Il),real(Il)))+' Amp )');\n",
"Qa=-22.62;               // Phase angle of starting-winding\n",
"Qm=-67.38;               // Phase angle of main-winding\n",
"Q=Qa-Qm;                 // The phase displacement (Q)\n",
"disp(' The phase displacement (Q) = '+string(Q)+'  i.e = '+string(round(Q))+' Digree');\n",
"pf=cosd(round(Q));       // The Power factor\n",
"disp(' The Power factor is = '+string(pf)+' lagging');\n",
"               // p 683        17.2 "
   ]
   }
,
{
		   "cell_type": "markdown",
		   "metadata": {},
		   "source": [
			"## Example 17.3: Capacitor.sce"
		   ]
		  },
  {
"cell_type": "code",
	   "execution_count": null,
	   "metadata": {
	    "collapsed": true
	   },
	   "outputs": [],
"source": [
"                // Examle 17.3\n",
"Xm=20;                    // Inductive reactance of Main-winding\n",
"Rm=2;                     // Main-winding resistance\n",
"Ra=25;                    // Auxilliary-winding resistance\n",
"f=50;                     // Frequency\n",
"Xa=5;                     // Inductive reactance of Auxilliary-winding\n",
"Qm=atand(Xm/Rm);          // Angle of Main-winding\n",
"Qa=Qm-90;                 // Angle of Auxilliary-winding\n",
"Xc=Xa-(tand(Qa)*Ra);      // Capacitive reactance\n",
"C=1/(2*%pi*f*7.495);      //Capacitor (C)   ==> { Xc= 7.5 ,but taking Xc= 7.495 }\n",
"disp('The value of Capacitor (C) = '+string(C)+' F');\n",
"            // p 684    17.3"
   ]
   }
,
{
		   "cell_type": "markdown",
		   "metadata": {},
		   "source": [
			"## Example 17.4: Revolution_Steps_And_Speed.sce"
		   ]
		  },
  {
"cell_type": "code",
	   "execution_count": null,
	   "metadata": {
	    "collapsed": true
	   },
	   "outputs": [],
"source": [
"                // Examle 17.4\n",
"b=2.5;              // Step Angle\n",
"r=360/b;            // Resolution (r)\n",
"disp('Resolution (r) = '+string(r)+' steps per revolution');\n",
"n=r*25;             // No.Of step Required for (25 Rev)\n",
"disp('No.Of step Required for (25 Rev) = '+string(n));\n",
"s=(b*n)/360;        // Shaft Speed (s)\n",
"disp('Shaft Speed (s) = '+string(s)+' rps');\n",
"         //  p 689      17.4    "
   ]
   }
,
{
		   "cell_type": "markdown",
		   "metadata": {},
		   "source": [
			"## Example 17.5: No_of_Rotors_And_Stators.sce"
		   ]
		  },
  {
"cell_type": "code",
	   "execution_count": null,
	   "metadata": {
	    "collapsed": true
	   },
	   "outputs": [],
"source": [
"                // Examle 17.5\n",
"b=15;                           // Step Angle\n",
"m=3;                            // No.Oh phase \n",
"Nr=360/(m*b);                   // Number of rotors\n",
"disp('No.Of Rotors = '+string(abs(Nr)));\n",
"Ns1=(Nr*360)/((b*Nr)-360);      // No.Of Stator When (Ns > Nr)\n",
"disp('No.Of Stator When (Ns > Nr) = '+string(abs(Ns1)));\n",
"Ns2=(Nr*360)/((b*Nr)+360);      // No.Of Stator When (Ns < Nr)\n",
"disp('No.Of Stator When (Ns < Nr) = '+string(Ns2));\n",
"             // p 690     17.5"
   ]
   }
,
{
		   "cell_type": "markdown",
		   "metadata": {},
		   "source": [
			"## Example 17.6: No_of_Rotors_And_Stators_Theeth.sce"
		   ]
		  },
  {
"cell_type": "code",
	   "execution_count": null,
	   "metadata": {
	    "collapsed": true
	   },
	   "outputs": [],
"source": [
"                // Examle 17.6\n",
"       //  ==> Given 4 Stack VR stepper motor\n",
"m=4;               // No.Oh phase\n",
"b=1.8;             // Step Angle\n",
"Nr=360/(b*m);      // Number of rotors\n",
"disp('Number of rotors = '+string(Nr));\n",
"           //  p 692     17.6"
   ]
   }
],
"metadata": {
		  "kernelspec": {
		   "display_name": "Scilab",
		   "language": "scilab",
		   "name": "scilab"
		  },
		  "language_info": {
		   "file_extension": ".sce",
		   "help_links": [
			{
			 "text": "MetaKernel Magics",
			 "url": "https://github.com/calysto/metakernel/blob/master/metakernel/magics/README.md"
			}
		   ],
		   "mimetype": "text/x-octave",
		   "name": "scilab",
		   "version": "0.7.1"
		  }
		 },
		 "nbformat": 4,
		 "nbformat_minor": 0
}
