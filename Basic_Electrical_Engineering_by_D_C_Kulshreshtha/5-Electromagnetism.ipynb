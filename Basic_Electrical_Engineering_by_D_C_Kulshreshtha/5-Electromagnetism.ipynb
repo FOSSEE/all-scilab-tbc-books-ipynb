{
"cells": [
 {
		   "cell_type": "markdown",
	   "metadata": {},
	   "source": [
       "# Chapter 5: Electromagnetism"
	   ]
	},
{
		   "cell_type": "markdown",
		   "metadata": {},
		   "source": [
			"## Example 5.1: Current.sce"
		   ]
		  },
  {
"cell_type": "code",
	   "execution_count": null,
	   "metadata": {
	    "collapsed": true
	   },
	   "outputs": [],
"source": [
"                      // Example  5.1\n",
"B=20*10^-3;       // Megnetic Field intensity\n",
"m=4*%pi*10^-7;    // Permeability of free Space\n",
"n=20*100;         // No.Of Turns per meter\n",
"I=B/(m*n);\n",
"disp(' Necessary Current is = '+string(round(I))+' Amp');\n",
"       //  p 187       5.1"
   ]
   }
,
{
		   "cell_type": "markdown",
		   "metadata": {},
		   "source": [
			"## Example 5.2: Megnetic_Field_Strength.sce"
		   ]
		  },
  {
"cell_type": "code",
	   "execution_count": null,
	   "metadata": {
	    "collapsed": true
	   },
	   "outputs": [],
"source": [
"                      // Example  5.2\n",
"l=4;               // Layers of Solenoid \n",
"w=350;             // turns Winding\n",
"s=0.5;             // Length of Solenoid\n",
"n=(l*w)/s;         // No.Of turns\n",
"I=6;               // Current in the Solenoid\n",
"mo=4*%pi*10^-7;    // Permeability of free Space\n",
"B=mo*n*I;          // Formula for Megnetic Field at the centre\n",
"disp('(a) Megnitude of field near the Centre of Solenoid = '+string(B)+' Tesla');\n",
"B1=B/2;            // Formula for Megnetic Field at the end\n",
"disp('(b) Megnitude of field at the end of Solenoid = '+string(B1)+' Tesla');\n",
"disp('(c) Megnetic Field outside the solenoid is Negligible');\n",
"        //    p 188      5.2"
   ]
   }
,
{
		   "cell_type": "markdown",
		   "metadata": {},
		   "source": [
			"## Example 5.3: Force.sce"
		   ]
		  },
  {
"cell_type": "code",
	   "execution_count": null,
	   "metadata": {
	    "collapsed": true
	   },
	   "outputs": [],
"source": [
"                      // Example  5.3\n",
"mo=4*%pi*10^-7;    // Permeability of free Space\n",
"i1=80;             // Current in 1st Wire\n",
"i2=30;             // Current in 2nd Wire\n",
"r=2;               // Distance between 2 wires\n",
"F=(mo*i1*i2)/(2*%pi*r);\n",
"disp(' Force between 2 wires = '+string(F)+' N/m');\n",
"         // p 192        5.3"
   ]
   }
,
{
		   "cell_type": "markdown",
		   "metadata": {},
		   "source": [
			"## Example 5.4: Force.sce"
		   ]
		  },
  {
"cell_type": "code",
	   "execution_count": null,
	   "metadata": {
	    "collapsed": true
	   },
	   "outputs": [],
"source": [
"                      // Example  5.4\n",
"mo=4*%pi*10^-7;     // Permeability of free Space\n",
"i1=4;               // Current in 1st Wire\n",
"i2=6;               // Current in 2nd Wire\n",
"r=0.03;             // Distance between 2 wires\n",
"F=(mo*i1*i2)/(2*%pi*r);\n",
"l=0.15;          // Section of wire\n",
"Fnet=F*l;\n",
"disp(' Force on 15 cm of wire B is = '+string(Fnet)+' N');\n",
"         // p 192        5.4"
   ]
   }
,
{
		   "cell_type": "markdown",
		   "metadata": {},
		   "source": [
			"## Example 5.5: Voltage.sce"
		   ]
		  },
  {
"cell_type": "code",
	   "execution_count": null,
	   "metadata": {
	    "collapsed": true
	   },
	   "outputs": [],
"source": [
"                      // Example  5.5\n",
"B=0.5;         // Megnetic Field \n",
"l=0.2;         // Length of conductor\n",
"v=5;           // velocity Conductor\n",
"Q1=0;          // Angle of Motion in case 1 \n",
"Q2=90;         // Angle of Motion in case 2\n",
"Q3=30;         // Angle of Motion in case 3\n",
"e1=B*l*v*sind(Q1);\n",
"disp(' emf of conductor when move Parallel to Megnetic field = '+string(e1)+' Volt');\n",
"e2=B*l*v*sind(Q2);\n",
"disp(' emf of conductor when move Perpendicular to Megnetic field = '+string(e2)+' Volt');\n",
"e3=B*l*v*sind(Q3);\n",
"disp(' emf of conductor when move at an Angle 30 to Megnetic field = '+string(e3)+' Volt');\n",
"         // p 198        5.5"
   ]
   }
,
{
		   "cell_type": "markdown",
		   "metadata": {},
		   "source": [
			"## Example 5.6: Voltage.sce"
		   ]
		  },
  {
"cell_type": "code",
	   "execution_count": null,
	   "metadata": {
	    "collapsed": true
	   },
	   "outputs": [],
"source": [
"                      // Example  5.6\n",
"B=38*10^-6;             // Megnetic Field \n",
"l=52;                   // Length of conductor\n",
"Q=90;                   // Angle of Motion in case 1 \n",
"v=(1100*1000)/3600;     // velocity in m/s\n",
"e=B*l*v*sind(Q);        // Formula of emf \n",
"disp(' emf Generated between wing-tips = '+string(e)+' Volt');\n",
"         // p 198        5.6"
   ]
   }
,
{
		   "cell_type": "markdown",
		   "metadata": {},
		   "source": [
			"## Example 5.7: Voltage.sce"
		   ]
		  },
  {
"cell_type": "code",
	   "execution_count": null,
	   "metadata": {
	    "collapsed": true
	   },
	   "outputs": [],
"source": [
"                      // Example  5.7\n",
"                  // We know that Area of Ring is (A=Pi*R*R)\n",
"                  //  i.e  A=%pi*R*R*(Q/2%pi)=0.5*R*R*Q;\n",
"                  // Hance by using Faraday's Law\n",
"                  // e= dQ/dt= d(BA)/dt.\n",
"                  //  0.5*B*R*R*(dq/dt).\n",
"B=1;\n",
"R=1;\n",
"f=50;\n",
"e=0.5*B*R*R*f*2*%pi;    //  by using Faraday's Law\n",
"disp(' emf Devloped between Centre & ring  = '+string(round(e))+' Volt');\n",
"         // p 198        5.7"
   ]
   }
,
{
		   "cell_type": "markdown",
		   "metadata": {},
		   "source": [
			"## Example 5.8: Voltage_Time_And_Force.sce"
		   ]
		  },
  {
"cell_type": "code",
	   "execution_count": null,
	   "metadata": {
	    "collapsed": true
	   },
	   "outputs": [],
"source": [
"                      // Example  5.8\n",
"B=0.5;                      // Megnetic Field \n",
"l1=0.03;                    // Length of conductor\n",
"v=0.01;                     // velocity in m/s\n",
"e1=B*l1*v;                  // Formula of emf \n",
"disp('(a) The induced emf is = '+string(e1)+' Volt');\n",
"l2=0.1;                     // Length\n",
"t1=l2/v;\n",
"disp(' Time for which the induced Voltage lasts is = '+string(t1)+' Second');\n",
"e2=B*l2*v;                  // Formula of emf \n",
"disp(' (b) The induced emf is = '+string(e2)+' Volt');\n",
"t2=l1/v;\n",
"disp(' Time for which the induced Voltage lasts is = '+string(t2)+' Second');\n",
"disp(' (c) Because of the gap, No Current can flow. there for no force Required to Pull the coil.');\n",
"R=0.001;\n",
"F1=(B*B*l1*l1*v)/R;        // Formula of Force \n",
"disp(' (d.1) Force Required to pull the loop 1 = '+string(F1)+' N');\n",
"F2=(B*B*l2*l2*v)/R;        // Formula of Force \n",
"disp(' (d.2) Force Required to pull the loop 1 = '+string(F2)+' N');\n",
"         //      p 199      5.8"
   ]
   }
],
"metadata": {
		  "kernelspec": {
		   "display_name": "Scilab",
		   "language": "scilab",
		   "name": "scilab"
		  },
		  "language_info": {
		   "file_extension": ".sce",
		   "help_links": [
			{
			 "text": "MetaKernel Magics",
			 "url": "https://github.com/calysto/metakernel/blob/master/metakernel/magics/README.md"
			}
		   ],
		   "mimetype": "text/x-octave",
		   "name": "scilab",
		   "version": "0.7.1"
		  }
		 },
		 "nbformat": 4,
		 "nbformat_minor": 0
}
