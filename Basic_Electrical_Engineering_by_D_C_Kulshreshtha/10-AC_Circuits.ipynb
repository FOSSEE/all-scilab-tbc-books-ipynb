{
"cells": [
 {
		   "cell_type": "markdown",
	   "metadata": {},
	   "source": [
       "# Chapter 10: AC Circuits"
	   ]
	},
{
		   "cell_type": "markdown",
		   "metadata": {},
		   "source": [
			"## Example 10.1: Current_Power_And_Power_Factor.sce"
		   ]
		  },
  {
"cell_type": "code",
	   "execution_count": null,
	   "metadata": {
	    "collapsed": true
	   },
	   "outputs": [],
"source": [
"\n",
"            // Example 10.1\n",
"\n",
"       // From Diagram 10.2a\n",
"\n",
"Vm=141+%i*0;             // Peak value of Voltage\n",
"V=Vm/1.414;              // Rms value of Voltage\n",
"v=100+%i*0;              // Here will have V=99.70, but we took v=100\n",
"R=3;                     // Resistance\n",
"wL=0.0127*100*%pi;               // Reactance\n",
"Z=R+%i*wL;               // Impedence\n",
"I=v/Z;                   // Current\n",
"disp(' The value of current = '+string(I)+' Amp   OR   '+string(abs(I))+'<'+string(atand(imag(I),real(I)))+' Amp');\n",
"\n",
"       // Study state current is I=20A & Q=53.1 Lagging.\n",
"disp(' Expression for instantaneous current ==> [ 28.28sin(100%pi*t-53.1)A ] ');\n",
"\n",
"P=abs(v)*abs(20)*cosd(53.1);        // Average power  ==> (I=20.032 ,so take I=20 )\n",
"disp(' Average power is = '+string(P)+' Watt');\n",
"\n",
"pf=cosd(53.1);         // Power factor\n",
"disp(' Power factor is = '+string(pf)+' Lagging');\n",
"\n",
"\n",
"\n",
"\n",
"                     //  p 342           10.1"
   ]
   }
,
{
		   "cell_type": "markdown",
		   "metadata": {},
		   "source": [
			"## Example 10.2: Current_Power_And_Power_Factor.sce"
		   ]
		  },
  {
"cell_type": "code",
	   "execution_count": null,
	   "metadata": {
	    "collapsed": true
	   },
	   "outputs": [],
"source": [
"                     // Example  10.2\n",
"P=750;                 // Rated  Power\n",
"V=230;                 // Supply Voltage\n",
"f=50;                  // Frequency\n",
"Vr=100                 // Rated Voltage \n",
"I=P/Vr;                // Rated Current\n",
"Vc=sqrt(V^2-Vr^2);     // Voltage across Capacitor\n",
"Xc=Vc/I;               // Capacitve Reactance\n",
"C=1/(2*%pi*f*Xc);      // Capacitance\n",
"disp(' Required Capacitance = '+string(C)+' F');\n",
"Q=acosd(Vr/V);          // Phase Angle\n",
"disp(' Phase Angle = '+string(Q)+' Didree');\n",
"pf=cosd(Q);             // Power Fector\n",
"disp(' Power Factor = '+string(pf)+' Leading');\n",
"Pa=V*I;                 // Apparent power\n",
"disp(' Apparent value of Power = '+string(Pa)+' VA');\n",
"Pr=V*I*sind(Q);         // Reactive Power\n",
"disp(' Reactive Power = '+string(round(Pr))+' VAR');\n",
"       // p 344    10.2"
   ]
   }
,
{
		   "cell_type": "markdown",
		   "metadata": {},
		   "source": [
			"## Example 10.3: Resistance_Voltage_And_Power.sce"
		   ]
		  },
  {
"cell_type": "code",
	   "execution_count": null,
	   "metadata": {
	    "collapsed": true
	   },
	   "outputs": [],
"source": [
"                     // Example  10.3\n",
"R=120;                     // Resistance\n",
"Xc=250;                    // Capacitve Reactance\n",
"Q=-64.4;                   // Phase Angle \n",
"I=0.9+%i*0;                // Current\n",
"Z=R-%i*Xc;                 // Impedance\n",
"disp(' The Impedance is = '+string(Z)+'   or  ('+string(abs(Z))+' <'+string(atand(imag(Z),real(Z)))+' Amp )');\n",
"pf=cosd(Q);               // Power Fector\n",
"disp(' Power Factor = '+string(pf)+' Leading');\n",
"V=I*Z;                    // Supply Voltage\n",
"disp(' Supply Voltage = '+string(V)+'  or  ('+string(abs(V))+' <'+string(atand(imag(V),real(V)))+' Amp )');\n",
"v=249.6;                  // Peak value of Voltage\n",
"Vr=I*R;                   // Voltage at Resistor\n",
"disp(' Voltage across Resistor = '+string(Vr)+' Volt');\n",
"Vc=I*Xc;                  // Voltage across Capacitor\n",
"disp(' Voltage across Capacitor = '+string(Vc)+'  or  ('+string(abs(Vc))+' < -90 Amp )');\n",
"Pa=v*I;                   // Apparent power\n",
"disp(' Apparent value of Power = '+string(Pa)+' VA');\n",
"Pac=v*I*cosd(Q);          // Active Power \n",
"disp(' Active Power = '+string(Pac)+' Watt');\n",
"Pr=v*I*sind(Q);           // Reactive Power\n",
"disp(' Reactive Power = '+string(-Pr)+' VAR');\n",
"       //  p 345       10.3"
   ]
   }
,
{
		   "cell_type": "markdown",
		   "metadata": {},
		   "source": [
			"## Example 10.4: Resistance_Power_And_Power_Factor.sce"
		   ]
		  },
  {
"cell_type": "code",
	   "execution_count": null,
	   "metadata": {
	    "collapsed": true
	   },
	   "outputs": [],
"source": [
"                     // Example  10.4\n",
"                      // Given V= 160+i120 & I= -4+i10\n",
"Vi= 160+%i*120;       // Sinusoidal Voltage  i.e  200<36.87\n",
"Ii= -4+%i*10;         // Sinusoidal Current   i.e  10.77<111.8 \n",
"Z=Vi/Ii;                // Impedance\n",
"Q=-74.93;             // Phase Angle \n",
"V=200;                // peak Value of Voltage \n",
"I=10.77;              // peak Value of Current\n",
"disp(' Impedance = '+string(Z)+' Ohms');\n",
"pf=cosd(Q);           // Power Fector\n",
"disp(' Power Factor = '+string(pf)+' Leading');\n",
"disp(' the Circuit is Capacitive , Becuase Imaginary part of impedance is negative .');\n",
"Pa=V*I*cosd(Q);       // Active Power \n",
"disp(' Active Power = '+string(Pa)+' Watt');\n",
"Pr=V*I*sind(Q);       // Reactive Power\n",
"disp(' Reactive Power = '+string(-Pr)+' VAR');\n",
"        //   p 348     10.4"
   ]
   }
,
{
		   "cell_type": "markdown",
		   "metadata": {},
		   "source": [
			"## Example 10.5: Reluctance_And_Inductor.sce"
		   ]
		  },
  {
"cell_type": "code",
	   "execution_count": null,
	   "metadata": {
	    "collapsed": true
	   },
	   "outputs": [],
"source": [
"                     // Example  10.5\n",
"                   /// Given Z=R+iXl;  i.e Z= 10+i10 \n",
"R=10;                    // Resistance\n",
"Xl=10;                   // Inductance\n",
"f=50;                    // Frequency\n",
"L=Xl/(2*%pi*f);          // Value of Inductor\n",
"disp(' The Value of Resistor is = '+string(R)+' Ohm');\n",
"disp(' The Value of Inductor is = '+string(L)+' H');\n",
"      // p 348   10.5"
   ]
   }
,
{
		   "cell_type": "markdown",
		   "metadata": {},
		   "source": [
			"## Example 10.6: Resistance_And_Capacitor.sce"
		   ]
		  },
  {
"cell_type": "code",
	   "execution_count": null,
	   "metadata": {
	    "collapsed": true
	   },
	   "outputs": [],
"source": [
"                     // Example  10.6\n",
"                // Given Z=R+iX;  i.e Z= 10-i10 \n",
"R1=10;                   // Resistance\n",
"Xl=10;                   // Inductance\n",
"f=50;                    // Frequency\n",
"Z= 10-%i*10;             // Impedance\n",
"Y=1/Z;                   // Admitance\n",
"disp(' The Admitance of Circuit is = '+string(Y)+' S');\n",
"G=0.05;                  // here G=1/R\n",
"B=0.05;                  // here B= 1/C\n",
"R=1/G;                   // Resistance\n",
"disp(' The Resistance of Circuit is = '+string(R)+' Ohm');\n",
"C=B/(2*%pi*f);           // Capacitance \n",
"disp(' The Capacitance of Circuit is = '+string(C)+' F');\n",
"      // p 348       10.6"
   ]
   }
,
{
		   "cell_type": "markdown",
		   "metadata": {},
		   "source": [
			"## Example 10.7: Resistance_Power_And_Power_Factor.sce"
		   ]
		  },
  {
"cell_type": "code",
	   "execution_count": null,
	   "metadata": {
	    "collapsed": true
	   },
	   "outputs": [],
"source": [
"                     // Example  10.7\n",
"L=0.15;                       // Inductance\n",
"w=100*%pi;                    // Angular Frequancy\n",
"C=100*10^-6;                  // Capacitance\n",
"R=12;                         // Resistance\n",
"V=100;                        // Voltage\n",
"Xl=w*L;                       // Indctive reactance\n",
"Xc=1/(w*C);                   // capacitive reactance\n",
"Z=R+%i*(Xl-Xc);               // Impedance\n",
"disp(' The Value of Impedance is = '+string(Z)+'  or  ('+string(abs(Z))+' <'+string(atand(imag(Z),real(Z)))+' Amp )');\n",
"r=12;                         // peak Value of impedance\n",
"I=V/Z;                        // Current\n",
"disp(' The Value of Current is = '+string(I)+'  or  ('+string(abs(I))+' <'+string(atand(imag(I),real(I)))+' Amp )');\n",
"i=5.15;                       // peak Value of Current\n",
"Q=atand(15.3/12);             // Phase Angle\n",
"disp(' Phase Angle = '+string(-Q)+' Didree');\n",
"Vr=i*r;                       // Voltage at Vr\n",
"disp(' Voltage at Vr = '+string(Vr)+' Volt');\n",
"Vc=i*Xc;                      // Voltage at Vc\n",
"disp(' Voltage at Vc = '+string(Vc)+' Volt');\n",
"Vl=i*Xl;                      //Voltage at Vl\n",
"disp(' Voltage at Vl = '+string(Vl)+' Volt');\n",
"pf=cosd(Q);                   // Power Fector\n",
"disp(' Power Factor = '+string(pf)+' Lagging');\n",
"Pa=V*i;                       // Apparent power\n",
"disp(' Apparent value of Power = '+string(Pa)+' VA');\n",
"Pav=V*i*pf;                  // Average Value of power\n",
"disp(' Average value of Power = '+string(Pav)+' Watt');\n",
"        // p 349    10.7"
   ]
   }
],
"metadata": {
		  "kernelspec": {
		   "display_name": "Scilab",
		   "language": "scilab",
		   "name": "scilab"
		  },
		  "language_info": {
		   "file_extension": ".sce",
		   "help_links": [
			{
			 "text": "MetaKernel Magics",
			 "url": "https://github.com/calysto/metakernel/blob/master/metakernel/magics/README.md"
			}
		   ],
		   "mimetype": "text/x-octave",
		   "name": "scilab",
		   "version": "0.7.1"
		  }
		 },
		 "nbformat": 4,
		 "nbformat_minor": 0
}
