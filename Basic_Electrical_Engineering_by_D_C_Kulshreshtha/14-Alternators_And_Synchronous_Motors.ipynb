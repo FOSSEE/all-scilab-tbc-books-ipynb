{
"cells": [
 {
		   "cell_type": "markdown",
	   "metadata": {},
	   "source": [
       "# Chapter 14: Alternators And Synchronous Motors"
	   ]
	},
{
		   "cell_type": "markdown",
		   "metadata": {},
		   "source": [
			"## Example 14.1: Speed.sce"
		   ]
		  },
  {
"cell_type": "code",
	   "execution_count": null,
	   "metadata": {
	    "collapsed": true
	   },
	   "outputs": [],
"source": [
"                    // Example  14.1\n",
"F=60;             // Frequency\n",
"P=6;              // No.Of poles\n",
"ns=(120*F)/P;     // Speed Of rotation\n",
"disp('Speed Of rotation Is = '+string(ns)+' Rpm');\n",
"F1=20;            // Decreased frequency\n",
"P1=(120*F1)/ns;   // Number Of poles\n",
"disp('Number Of poles = '+string(P1)); \n",
"           //  p 546   Ex14.1"
   ]
   }
,
{
		   "cell_type": "markdown",
		   "metadata": {},
		   "source": [
			"## Example 14.2: Distribution_Factor.sce"
		   ]
		  },
  {
"cell_type": "code",
	   "execution_count": null,
	   "metadata": {
	    "collapsed": true
	   },
	   "outputs": [],
"source": [
"                    // Example  14.2\n",
"alfa=20;                 // Slot angle\n",
"q1=120/20;               // No.Of slots for group p\n",
"sa=sind((q1*alfa)/2);\n",
"sb=sind(alfa/2);\n",
"kd1=sa/(q1*sb);         // Three phase Winding (with 120 phase group)\n",
"disp('(a) A Three phase Winding (with 120 phase group) = '+string(kd1));\n",
"q2=60/20;               // No.Of slots for group q\n",
"sa1=sind((q2*alfa)/2);\n",
"kd2=sa1/(q2*sb);        // TThree phase Winding (with 60 phase group)\n",
"disp('(b) A Three phase Winding (with 60 phase group) = '+string(kd2));\n",
"        //   p 554    Ex 14.2"
   ]
   }
,
{
		   "cell_type": "markdown",
		   "metadata": {},
		   "source": [
			"## Example 14.3: Speed_Emf_And_Voltage.sce"
		   ]
		  },
  {
"cell_type": "code",
	   "execution_count": null,
	   "metadata": {
	    "collapsed": true
	   },
	   "outputs": [],
"source": [
"                    // Example  14.3\n",
"f=50;                     // Frequency\n",
"p=20;                     // No.Of poles\n",
"Ns=(120*f)/p;             // Speed Of rotation\n",
"disp('(a) Speed of Rotation is = '+string(Ns)+' rpm');\n",
"p1=180/20;                // No.Of slots per pole\n",
"Q=180/p1;                 // Slot angle\n",
"q1=p1/3;                  // No.Of slots per pole for group q\n",
"sa=sind((q1*Q)/2);\n",
"sb=sind(Q/2);\n",
"kd=sa/(q1*sb);            // Generated emf per phase\n",
"disp('(b) Generated emf per phase = '+string(kd)+' Volt');\n",
"g=0.025;                  // Flux per poles\n",
"T=240;                    // No.Of turns per phase\n",
"kp=1;\n",
"E=(4.44*f*g*kp*T*0.96);   // Rms value of emf per phase\n",
"El=sqrt(3)*E;             // Line emf\n",
"disp('(b) Generated emf per phase = '+string(E)+' Volt');\n",
"disp('(c) Line emf = '+string(El)+' Volt');\n",
"       //   p 554      14.3"
   ]
   }
,
{
		   "cell_type": "markdown",
		   "metadata": {},
		   "source": [
			"## Example 14.4: Voltage_Regulatio.sce"
		   ]
		  },
  {
"cell_type": "code",
	   "execution_count": null,
	   "metadata": {
	    "collapsed": true
	   },
	   "outputs": [],
"source": [
"                    // Example  14.4`\n",
"I=15.7;                      // Phase current\n",
"Vt=22*10^3/sqrt(3);          // Phase voltage\n",
"Zs=0.16;                     // Impedance\n",
"V=12.7;                      // Terminal Voltage per phase on full load \n",
"Vz=I*Zs;                     // Voltage drop per phase on full load \n",
"OC=0.014;                    // Star winding resistence\n",
"OG=0.16;                     // Synchronous impedance\n",
"Q=acosd(OC/OG);              // Phase angle\n",
"pf1=0.8;                     // Lagging power factor\n",
"q1=acosd(pf1);               // Lagging angle\n",
"alfa1=Q-q1;                  // Resultant angle\n",
"Cos1=cosd(alfa1);            // power factor for Resultant\n",
"E1=(sqrt(V*V+Vz*Vz+2*V*Vz*Cos1));\n",
"Er1=(E1-V)/V;                   // the Voltage Regulation (0.8 Lagging)\n",
"disp('(a) the Voltage Regulation (0.8 Lagging) is = '+string(Er1*100)+' per Cent');\n",
"pf2=1;                       // Leading power factor\n",
"q2=acosd(pf2);               // Leading angle\n",
"alfa2=Q-q2;                  // Resultant angle\n",
"Cos2=cosd(alfa2);            // power factor for Resultant\n",
"E2=(sqrt(V*V+Vz*Vz+2*V*Vz*Cos2));\n",
"Er2=(E2-V)/V;                // the Voltage Regulation (1 Lagging)\n",
"disp('(b) the Voltage Regulation (1 Lagging) is = '+string(Er2*100)+' per Cent');\n",
"alfa3=Q+q1;                  // Resultant angle\n",
"Cos3=cosd(alfa3);            // power factor for Resultant\n",
"E3=(sqrt(V*V+Vz*Vz+2*V*Vz*Cos3));\n",
"Er3=(E3-V)/V;                // the Voltage Regulation (0.8 Leading)\n",
"disp('(c) the Voltage Regulation (0.8 Leading) is = '+string(Er3*100)+' per Cent');\n",
"            //  p 560       14.4  "
   ]
   }
,
{
		   "cell_type": "markdown",
		   "metadata": {},
		   "source": [
			"## Example 14.5: Voltage_Regulatio.sce"
		   ]
		  },
  {
"cell_type": "code",
	   "execution_count": null,
	   "metadata": {
	    "collapsed": true
	   },
	   "outputs": [],
"source": [
"                    // Example  14.5\n",
" \n",
"I=100;                         // Full-rated short-circuit current\n",
"V=3.3*10^3/sqrt(3);            // Three phase voltage\n",
"R=0.9;                         // Remature resistance\n",
"Zs=5.196;                      // Impedance\n",
"Vz=I*Zs;                       // Voltage drop per phase on full load \n",
"Q=acosd(R/Zs);                 // Phase angle \n",
"pf1=0.8;                       // Lagging power factor\n",
"q1=acosd(pf1);                 // Lagging angle\n",
"alfa1=Q-q1;                    // Resultant angle\n",
"Cos1=cosd(alfa1);              // power factor for Resultant\n",
"E1=(sqrt(V*V+Vz*Vz+2*V*Vz*Cos1));\n",
"Er1=(E1-V)/V;                  // the Voltage Regulation (0.8 Lagging)\n",
"disp('(a) the Voltage Regulation (0.8 Lagging) is = '+string(Er1*100)+' per Cent');\n",
"alfa3=Q+q1;                    // Resultant angle\n",
"Cos3=cosd(alfa3);              // power factor for Resultant\n",
"E3=(sqrt(V*V+Vz*Vz+2*V*Vz*Cos3));\n",
"Er3=(E3-V)/V;                  // the Voltage Regulation (0.8 Leading)\n",
"disp('(b) the Voltage Regulation (0.8 Leading) is = '+string(Er3*100)+' per Cent');\n",
"             //  p 563          14.5  "
   ]
   }
,
{
		   "cell_type": "markdown",
		   "metadata": {},
		   "source": [
			"## Example 14.6: Emf_And_Angle.sce"
		   ]
		  },
  {
"cell_type": "code",
	   "execution_count": null,
	   "metadata": {
	    "collapsed": true
	   },
	   "outputs": [],
"source": [
"                    // Example  14.6\n",
"po=9000;                          // O/p power\n",
"n=0.9;                            // Efficiency of motor\n",
"pi=po/n;                          // I/p power\n",
"X=3;                              // Reactance\n",
"Vl=400;                           // Phase voltage\n",
"R=0.4;                            // Resistance\n",
"Cos1=0.8;                         // Leading power factor\n",
"I=pi/(sqrt(3)*Vl*Cos1);           // I/p current per phase\n",
"q1=acosd(0.8);                    // Leading angle\n",
"Zs=sqrt(R*R+X*X);                 // Impedance\n",
"Q=atand(X/R);                     // Phase angle\n",
"V=400/sqrt(3);                    // Supply voltage per phase\n",
"Er=I*Zs;                          // Voltage drop per phase across the synchronous impedance\n",
"E=(sqrt(V*V+Er*Er+2*V*Er*cosd(180-Q-q1)));\n",
"El=sqrt(3)*E;                     // Exitation emf\n",
"disp(' Exitation emf = '+string(El)+' volt');\n",
"Qr=asind((Er*sind(Q+q1))/E);      // Angle of rotor\n",
"disp(' Angle of rotor = '+string(Qr)+' Digree');\n",
"            //    p 568    14.6"
   ]
   }
,
{
		   "cell_type": "markdown",
		   "metadata": {},
		   "source": [
			"## Example 14.7: Emf.sce"
		   ]
		  },
  {
"cell_type": "code",
	   "execution_count": null,
	   "metadata": {
	    "collapsed": true
	   },
	   "outputs": [],
"source": [
"                    // Example  14.7\n",
"Zph=24*(12/3);              // The No.Of conductors in series \n",
"T=Zph/2;                    // No.Of turns per phase\n",
"p1=24/4;                    // No.Of slots/pole \n",
"Q=180/p1;                   // Slot angle\n",
"q1=p1/3;                    // No.Of slots/pole for group q\n",
"sa=sind((q1*Q)/2);          // Distribution factor (Numerator part )\n",
"sb=sind(Q/2);               // Distribution factor (denominator part )\n",
"kd=sa/(q1*sb);              // Distribution factor\n",
"p=4;                        // No.Of poles \n",
"Ns=1500;                    // Speed \n",
"g=0.1;                      // Flux per pole\n",
"f=(p*Ns)/120;               // Pitch factor\n",
"kp=1;                       // Constant\n",
"E=(4.44*f*g*kp*T*kd);       // Generated emf per phase\n",
"El=sqrt(3)*E;               // line emf (at alternator 1500 rpm)\n",
"disp(' line emf (at alternator 1500 rpm) = '+string(round(El))+' Volt');\n",
"            // p 572    14.7"
   ]
   }
,
{
		   "cell_type": "markdown",
		   "metadata": {},
		   "source": [
			"## Example 14.8: Emf.sce"
		   ]
		  },
  {
"cell_type": "code",
	   "execution_count": null,
	   "metadata": {
	    "collapsed": true
	   },
	   "outputs": [],
"source": [
"                    // Example  14.8\n",
"Q=30;                       // Angle between 2 slots\n",
"q1=6;                       // No.Of coils\n",
"sa=sind((q1*Q)/2);          // Distribution factor (Numerator part )\n",
"sb=sind(Q/2);               // Distribution factor (denominator part )\n",
"kd=sa/(q1*sb);              // Distribution factor\n",
"Vc=6*10;                    // Voltage induced in 6 coils\n",
"Er=kd*Vc;                   // Net emf induced in Six coils\n",
"disp(' Net emf induced in Six coils = '+string(Er)+' Volt');\n",
"             //  p 573          14.8"
   ]
   }
,
{
		   "cell_type": "markdown",
		   "metadata": {},
		   "source": [
			"## Example 14.9: Current_Power_And_Torque.sce"
		   ]
		  },
  {
"cell_type": "code",
	   "execution_count": null,
	   "metadata": {
	    "collapsed": true
	   },
	   "outputs": [],
"source": [
"                    // Example  11.9\n",
"f=50;                      // Frequency\n",
"N=120;                     // Speed\n",
"p=(120*f)/N;               // Number Of poles\n",
"disp('(a) The No.of Poles = '+string(p));\n",
"Pf=1;                      // Power fector\n",
"Va=100*10^6;               // VA-Rating\n",
"Rt=Va*Pf;                  // kW-Rating\n",
"disp('(b) The kW rating = '+string(Rt)+' Watt');\n",
"Vl=11*10^3;                // Star-connected voltage\n",
"Il=Va/(sqrt(3)*Vl);        // Current rating (Il)\n",
"disp('(c) The Current rating (Il) = '+string(round(Il))+' Amp');\n",
"po=100*10^6;                // Power\n",
"n=0.97;                     // Efficiency of motor\n",
"Pi=po/n;                    // I/P Power (Pi)\n",
"disp('(d) The I/P Power (Pi) = '+string(Pi)+' Watt');\n",
"t=Pi/(2*3.14*N*0.0166);     // Prime Torque\n",
"disp('(e) The Prime Torque = '+string(t)+' Nm');\n",
"      // p 573      14.9"
   ]
   }
],
"metadata": {
		  "kernelspec": {
		   "display_name": "Scilab",
		   "language": "scilab",
		   "name": "scilab"
		  },
		  "language_info": {
		   "file_extension": ".sce",
		   "help_links": [
			{
			 "text": "MetaKernel Magics",
			 "url": "https://github.com/calysto/metakernel/blob/master/metakernel/magics/README.md"
			}
		   ],
		   "mimetype": "text/x-octave",
		   "name": "scilab",
		   "version": "0.7.1"
		  }
		 },
		 "nbformat": 4,
		 "nbformat_minor": 0
}
