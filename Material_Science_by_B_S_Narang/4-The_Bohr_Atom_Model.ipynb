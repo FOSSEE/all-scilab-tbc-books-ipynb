{
"cells": [
 {
		   "cell_type": "markdown",
	   "metadata": {},
	   "source": [
       "# Chapter 4: The Bohr Atom Model"
	   ]
	},
{
		   "cell_type": "markdown",
		   "metadata": {},
		   "source": [
			"## Example 4.1: Calculate_velocity_of_electron_in_innermost_orbit_of_hydrogen.sce"
		   ]
		  },
  {
"cell_type": "code",
	   "execution_count": null,
	   "metadata": {
	    "collapsed": true
	   },
	   "outputs": [],
"source": [
"//Initialisation of variables\n",
"clc\n",
"e=1.6e-19//coulomb\n",
"o=8.85e-12//farad per metre\n",
"h=6.625e-34//joule sec\n",
"v=sqrt(e^4/(4*o^2*h^2))\n",
"printf('velocity is %e metre per second \n',v)"
   ]
   }
,
{
		   "cell_type": "markdown",
		   "metadata": {},
		   "source": [
			"## Example 4.2: Calculate_energy_in_ground_state_of_Hydrogen_atom.sce"
		   ]
		  },
  {
"cell_type": "code",
	   "execution_count": null,
	   "metadata": {
	    "collapsed": true
	   },
	   "outputs": [],
"source": [
"\n",
"//Initialisation of variables\n",
"clc\n",
"Z=1\n",
"n=1\n",
"m=9.11e-31//kg\n",
"e=1.6e-19//coulomb\n",
"o=8.85e-12//farad per metre\n",
"h=6.625e-34//joule sec\n",
"E=Z^2*m*e^4/(8*o^2*h^2*n^2)//relation 4.12\n",
"printf('energy is %e joules \n',E)\n",
""
   ]
   }
,
{
		   "cell_type": "markdown",
		   "metadata": {},
		   "source": [
			"## Example 4.3: Calculate_ionization_potential_of_hydrogen.sce"
		   ]
		  },
  {
"cell_type": "code",
	   "execution_count": null,
	   "metadata": {
	    "collapsed": true
	   },
	   "outputs": [],
"source": [
"//Initialisation of variables\n",
"clc\n",
"Z=1\n",
"m=9.11e-31//kg\n",
"e=1.6e-19//coulomb\n",
"o=8.85e-12//farad per metre\n",
"h=6.625e-34//joule sec\n",
"V=Z^2*m*e^3/(8*o^2*h^2)\n",
"printf('ionization potential is %f volts \n',V)"
   ]
   }
,
{
		   "cell_type": "markdown",
		   "metadata": {},
		   "source": [
			"## Example 4.4: Calculate_second_ionization_potential_of_helium.sce"
		   ]
		  },
  {
"cell_type": "code",
	   "execution_count": null,
	   "metadata": {
	    "collapsed": true
	   },
	   "outputs": [],
"source": [
"//Initialisation of variables\n",
"clc\n",
"Z=2\n",
"m=9.11e-31//kg\n",
"e=1.6e-19//coulomb\n",
"o=8.85e-12//farad per metre\n",
"h=6.625e-34//joule sec\n",
"V=Z^2*m*e^3/(8*o^2*h^2)\n",
"printf('second ionization potential is %f volts \n',V)"
   ]
   }
],
"metadata": {
		  "kernelspec": {
		   "display_name": "Scilab",
		   "language": "scilab",
		   "name": "scilab"
		  },
		  "language_info": {
		   "file_extension": ".sce",
		   "help_links": [
			{
			 "text": "MetaKernel Magics",
			 "url": "https://github.com/calysto/metakernel/blob/master/metakernel/magics/README.md"
			}
		   ],
		   "mimetype": "text/x-octave",
		   "name": "scilab",
		   "version": "0.7.1"
		  }
		 },
		 "nbformat": 4,
		 "nbformat_minor": 0
}
