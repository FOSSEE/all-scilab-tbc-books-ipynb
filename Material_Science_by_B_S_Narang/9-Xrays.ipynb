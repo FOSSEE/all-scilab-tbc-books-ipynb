{
"cells": [
 {
		   "cell_type": "markdown",
	   "metadata": {},
	   "source": [
       "# Chapter 9: Xrays"
	   ]
	},
{
		   "cell_type": "markdown",
		   "metadata": {},
		   "source": [
			"## Example 9.1: Find_maximum_speed_of_electron_in_xray.sce"
		   ]
		  },
  {
"cell_type": "code",
	   "execution_count": null,
	   "metadata": {
	    "collapsed": true
	   },
	   "outputs": [],
"source": [
"//Initialisation of variables\n",
"clc\n",
"V=20e3//volts\n",
"m=9e-31//mass of electron\n",
"e=1.6e-19//charge of electron\n",
"v=sqrt(2*V*e/m)\n",
"printf('maximum speed of electron is %e metre per second \n',v)"
   ]
   }
,
{
		   "cell_type": "markdown",
		   "metadata": {},
		   "source": [
			"## Example 9.2: calculate_number_of_electrons_striking_target_and_their_speed.sce"
		   ]
		  },
  {
"cell_type": "code",
	   "execution_count": null,
	   "metadata": {
	    "collapsed": true
	   },
	   "outputs": [],
"source": [
"//Initialisation of variables\n",
"clc\n",
"m=9e-31//mass of electron\n",
"e=1.6e-19//charge of electron\n",
"V=5000//volts\n",
"v=sqrt(2*V*e/m)\n",
"printf('maximum speed of electron is %e metre per second \n',v)"
   ]
   }
,
{
		   "cell_type": "markdown",
		   "metadata": {},
		   "source": [
			"## Example 9.3: find_the_rate_of_production_of_heat.sce"
		   ]
		  },
  {
"cell_type": "code",
	   "execution_count": null,
	   "metadata": {
	    "collapsed": true
	   },
	   "outputs": [],
"source": [
"//Initialisation of variables\n",
"clc\n",
"energy=0.1/100//energy converted\n",
"amp_watt=5/1000\n",
"m=9e-31//mass of electron\n",
"e=1.6e-19//charge of electron\n",
"V=100000//volts\n",
"v=sqrt(2*V*e/m)\n",
"EnConv=V*energy*amp_watt\n",
"EnConvinJ=4.18*EnConv\n",
"printf('maximum speed of electron is %e metre per second \n',v)\n",
"printf('Rate of production of heat is %f calories per second \n',EnConvinJ)"
   ]
   }
,
{
		   "cell_type": "markdown",
		   "metadata": {},
		   "source": [
			"## Example 9.4: calculate_inter_atomic_spacing.sce"
		   ]
		  },
  {
"cell_type": "code",
	   "execution_count": null,
	   "metadata": {
	    "collapsed": true
	   },
	   "outputs": [],
"source": [
"//Initialisation of variables\n",
"clc\n",
"h=1\n",
"k=1\n",
"l=1\n",
"dhkl=1.75e-8//\n",
"a=dhkl*sqrt(h^2+k^2+l^2)\n",
"printf('inter atomic spacing is %e cms \n',a)"
   ]
   }
],
"metadata": {
		  "kernelspec": {
		   "display_name": "Scilab",
		   "language": "scilab",
		   "name": "scilab"
		  },
		  "language_info": {
		   "file_extension": ".sce",
		   "help_links": [
			{
			 "text": "MetaKernel Magics",
			 "url": "https://github.com/calysto/metakernel/blob/master/metakernel/magics/README.md"
			}
		   ],
		   "mimetype": "text/x-octave",
		   "name": "scilab",
		   "version": "0.7.1"
		  }
		 },
		 "nbformat": 4,
		 "nbformat_minor": 0
}
