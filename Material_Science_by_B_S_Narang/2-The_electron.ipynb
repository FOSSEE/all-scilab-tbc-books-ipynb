{
"cells": [
 {
		   "cell_type": "markdown",
	   "metadata": {},
	   "source": [
       "# Chapter 2: The electron"
	   ]
	},
{
		   "cell_type": "markdown",
		   "metadata": {},
		   "source": [
			"## Example 2.1: Calculate_e_by_m_ratio.sce"
		   ]
		  },
  {
"cell_type": "code",
	   "execution_count": null,
	   "metadata": {
	    "collapsed": true
	   },
	   "outputs": [],
"source": [
"//Initialisation of variables\n",
"clc\n",
"v=3e9//cms per second\n",
"X=.06//e.s unit\n",
"R=300//cms\n",
"//(m*v^2/r)=X*e\n",
"electronbymass=v^2/(R*X)\n",
"printf('e/m ratio is %e esu \n',electronbymass)"
   ]
   }
,
{
		   "cell_type": "markdown",
		   "metadata": {},
		   "source": [
			"## Example 2.2: Calculate_e_by_m_ratio_of_electro.sce"
		   ]
		  },
  {
"cell_type": "code",
	   "execution_count": null,
	   "metadata": {
	    "collapsed": true
	   },
	   "outputs": [],
"source": [
"//Initialisation of variables\n",
"clc\n",
"e=1.603e-20//electron volts\n",
"t=6.6e-9\n",
"m=9.11e-28//mass of electron\n",
"V=500e8//e.m.u\n",
"d=5//cm\n",
"X=V/d//e.m.u per cm\n",
"f=X*e//force on electron\n",
"a=f/m//acceleration of electron\n",
"v=a*t//velocity of electron\n",
"dist=.5*a*t^2//distance travelled\n",
"printf('velocity of electron is %e cm per s \n',v)\n",
"printf('distance travelled is %d cms \n',dist)\n",
"\n",
"\n",
"\n",
""
   ]
   }
,
{
		   "cell_type": "markdown",
		   "metadata": {},
		   "source": [
			"## Example 2.3: Calculate_velocity_acquired_and_distance_travelled_by_electron.sce"
		   ]
		  },
  {
"cell_type": "code",
	   "execution_count": null,
	   "metadata": {
	    "collapsed": true
	   },
	   "outputs": [],
"source": [
"\n",
"//Initialisation of variables\n",
"clc\n",
"a=10^(-5)\n",
"d=1\n",
"e=4.8*10^(-10)\n",
"g=980\n",
"X=4*%pi*a^3*d*g/(3*e)\n",
"printf('field required to keep drop stationary is %e esu per cm \n',X)"
   ]
   }
,
{
		   "cell_type": "markdown",
		   "metadata": {},
		   "source": [
			"## Example 2.4: Calculate_electric_field_required_to_keep_electron_stationary.sce"
		   ]
		  },
  {
"cell_type": "code",
	   "execution_count": null,
	   "metadata": {
	    "collapsed": true
	   },
	   "outputs": [],
"source": [
"//Initialisation of variables\n",
"clc\n",
"m=9.1*10^(-28)//mass on electron\n",
"e=4.8*10^(-10)//charge on electron\n",
"ev=1.6e-12//electron volt in ergs\n",
"v=10^9//cms/sec\n",
"E=0.5*m*v^2//energy in ergs\n",
"Ev=E/ev\n",
"printf('energy is %e ergs \n',E)\n",
"printf('energy is %f electron volt \n',Ev)\n",
""
   ]
   }
],
"metadata": {
		  "kernelspec": {
		   "display_name": "Scilab",
		   "language": "scilab",
		   "name": "scilab"
		  },
		  "language_info": {
		   "file_extension": ".sce",
		   "help_links": [
			{
			 "text": "MetaKernel Magics",
			 "url": "https://github.com/calysto/metakernel/blob/master/metakernel/magics/README.md"
			}
		   ],
		   "mimetype": "text/x-octave",
		   "name": "scilab",
		   "version": "0.7.1"
		  }
		 },
		 "nbformat": 4,
		 "nbformat_minor": 0
}
