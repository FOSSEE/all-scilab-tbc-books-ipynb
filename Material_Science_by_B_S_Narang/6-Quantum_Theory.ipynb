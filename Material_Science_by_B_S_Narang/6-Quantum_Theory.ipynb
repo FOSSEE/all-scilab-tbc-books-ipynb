{
"cells": [
 {
		   "cell_type": "markdown",
	   "metadata": {},
	   "source": [
       "# Chapter 6: Quantum Theory"
	   ]
	},
{
		   "cell_type": "markdown",
		   "metadata": {},
		   "source": [
			"## Example 6.1: Calculate_energy_equivalent_in_electron_volts.sce"
		   ]
		  },
  {
"cell_type": "code",
	   "execution_count": null,
	   "metadata": {
	    "collapsed": true
	   },
	   "outputs": [],
"source": [
"//Initialisation of variables\n",
"clc\n",
"mo=9.028e-28//grams\n",
"c=3e10\n",
"E=mo*c^2\n",
"ev=1.6e-12//electron volt\n",
"EineV=E/ev\n",
"EinMeV=EineV/10^6\n",
"printf('energy in million electron volt is %f MeV \n',EinMeV)\n",
""
   ]
   }
,
{
		   "cell_type": "markdown",
		   "metadata": {},
		   "source": [
			"## Example 6.2: Calculate_energy_equivalent_in_electron_volts.sce"
		   ]
		  },
  {
"cell_type": "code",
	   "execution_count": null,
	   "metadata": {
	    "collapsed": true
	   },
	   "outputs": [],
"source": [
"//Initialisation of variables\n",
"clc\n",
"amu=1.6558e-24\n",
"c=3e10\n",
"ev=1.6e-12//electron volt\n",
"E=amu*c^2/ev\n",
"EinMeV=E/10^6\n",
"printf('energy in million electron volt is %d MeV \n',EinMeV)\n",
""
   ]
   }
,
{
		   "cell_type": "markdown",
		   "metadata": {},
		   "source": [
			"## Example 6.3: Calculate_velocity_at_which_mass_is_double_the_rest_mass.sce"
		   ]
		  },
  {
"cell_type": "code",
	   "execution_count": null,
	   "metadata": {
	    "collapsed": true
	   },
	   "outputs": [],
"source": [
"//Initialisation of variables\n",
"clc\n",
"c=3e10\n",
"//eauating m=2*mo and cancelling we get\n",
"v=sqrt(.75*c^2)// cm per s\n",
"printf('required velocity is %e cm per sec \n',v)\n",
"\n",
""
   ]
   }
,
{
		   "cell_type": "markdown",
		   "metadata": {},
		   "source": [
			"## Example 6.4: wavelength_associated_with_electron_when_it_reach_anode.sce"
		   ]
		  },
  {
"cell_type": "code",
	   "execution_count": null,
	   "metadata": {
	    "collapsed": true
	   },
	   "outputs": [],
"source": [
"//Initialisation of variables\n",
"clc\n",
"m=9.11e-28\n",
"e=4.803e-10\n",
"h=6.62e-27\n",
"V=100/300//e.s.u\n",
"//.5*m*v^2=V*e\n",
"v=sqrt(2*V*e/m)\n",
"l=h/(m*v)\n",
"printf('wavelength associated is %e cms \n',l)\n",
""
   ]
   }
],
"metadata": {
		  "kernelspec": {
		   "display_name": "Scilab",
		   "language": "scilab",
		   "name": "scilab"
		  },
		  "language_info": {
		   "file_extension": ".sce",
		   "help_links": [
			{
			 "text": "MetaKernel Magics",
			 "url": "https://github.com/calysto/metakernel/blob/master/metakernel/magics/README.md"
			}
		   ],
		   "mimetype": "text/x-octave",
		   "name": "scilab",
		   "version": "0.7.1"
		  }
		 },
		 "nbformat": 4,
		 "nbformat_minor": 0
}
