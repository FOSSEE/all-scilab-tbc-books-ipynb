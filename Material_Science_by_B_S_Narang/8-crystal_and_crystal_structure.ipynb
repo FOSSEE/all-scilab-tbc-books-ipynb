{
"cells": [
 {
		   "cell_type": "markdown",
	   "metadata": {},
	   "source": [
       "# Chapter 8: crystal and crystal structure"
	   ]
	},
{
		   "cell_type": "markdown",
		   "metadata": {},
		   "source": [
			"## Example 8.1: Calculate_density_of_copper.sce"
		   ]
		  },
  {
"cell_type": "code",
	   "execution_count": null,
	   "metadata": {
	    "collapsed": true
	   },
	   "outputs": [],
"source": [
"//Initialisation of variables\n",
"clc\n",
"r=1.278e-8\n",
"n=4//number of molecules per unit cell\n",
"M=63.54//for copper\n",
"a=4*r/sqrt(2)\n",
"N=6.023e23\n",
"d=n*M/(a^3*N)\n",
"printf('density is %f gm per cms \n',d)\n",
""
   ]
   }
,
{
		   "cell_type": "markdown",
		   "metadata": {},
		   "source": [
			"## Example 8.2: Calculate_minimum_ratio_for_CN_of_3.sce"
		   ]
		  },
  {
"cell_type": "code",
	   "execution_count": null,
	   "metadata": {
	    "collapsed": true
	   },
	   "outputs": [],
"source": [
"//Initialisation of variables\n",
"clc\n",
"ratio=1/cosd(30)-1\n",
"printf('minimum ratio is %f \n',ratio)"
   ]
   }
,
{
		   "cell_type": "markdown",
		   "metadata": {},
		   "source": [
			"## Example 8.3: Calculate_atomic_packing_factor.sce"
		   ]
		  },
  {
"cell_type": "code",
	   "execution_count": null,
	   "metadata": {
	    "collapsed": true
	   },
	   "outputs": [],
"source": [
"//Initialisation of variables\n",
"clc\n",
"n=4//number of atoms in a cell for copper\n",
"//APF=n*4*%pi*r^3/(a^3)\n",
"APFCu=4*4*%pi*2*sqrt(2)/(4*16*4)\n",
"printf('APF for copper is %f \n',APFCu)//correction\n",
"\n",
"r=0.98//armstrom\n",
"R=1.81//armstrom\n",
"APFNaCl=((4*4*%pi*r^3/3)+(4*4*%pi*R^3/3))/((4/3)*(2*r+2*R)^3)\n",
"printf('APF for NaCl is %f \n',APFNaCl)//correction\n",
""
   ]
   }
,
{
		   "cell_type": "markdown",
		   "metadata": {},
		   "source": [
			"## Example 8.4: how_many_atoms_per_square_metre_are_there_in_a_plane_of_lead.sce"
		   ]
		  },
  {
"cell_type": "code",
	   "execution_count": null,
	   "metadata": {
	    "collapsed": true
	   },
	   "outputs": [],
"source": [
"//Initialisation of variables\n",
"clc\n",
"n=2//number of atoms in plane\n",
"r=3.5e-8/2//armstrom\n",
"//interatomic distance=2*r\n",
"a=4*r/sqrt(2)\n",
"Area=a^2\n",
"AtomsperArea=n/Area\n",
"printf('atoms per cm cube is %e\n',AtomsperArea)//correction"
   ]
   }
],
"metadata": {
		  "kernelspec": {
		   "display_name": "Scilab",
		   "language": "scilab",
		   "name": "scilab"
		  },
		  "language_info": {
		   "file_extension": ".sce",
		   "help_links": [
			{
			 "text": "MetaKernel Magics",
			 "url": "https://github.com/calysto/metakernel/blob/master/metakernel/magics/README.md"
			}
		   ],
		   "mimetype": "text/x-octave",
		   "name": "scilab",
		   "version": "0.7.1"
		  }
		 },
		 "nbformat": 4,
		 "nbformat_minor": 0
}
