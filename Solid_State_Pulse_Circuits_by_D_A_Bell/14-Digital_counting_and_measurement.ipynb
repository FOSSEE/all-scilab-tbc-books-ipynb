{
"cells": [
 {
		   "cell_type": "markdown",
	   "metadata": {},
	   "source": [
       "# Chapter 14: Digital counting and measurement"
	   ]
	},
{
		   "cell_type": "markdown",
		   "metadata": {},
		   "source": [
			"## Example 14.1: Determine_Resistors_Rc_and_Rb.sce"
		   ]
		  },
  {
"cell_type": "code",
	   "execution_count": null,
	   "metadata": {
	    "collapsed": true
	   },
	   "outputs": [],
"source": [
"//Caption:Determine Resistors Rc and Rb\n",
"//Ex14.1\n",
"clc;\n",
"clear;\n",
"close;\n",
"Vcc=5//Collector voltage(in volts)\n",
"Vi=5//Input voltage(in volts)\n",
"Vf=1.2//Diode forward voltage(in volts)\n",
"hfe=100\n",
"I=20//Diode minimum forward current(in mA)\n",
"Vce=0.2//Collector emitter saturated voltage(in volts)\n",
"Vbe=0.7//Base emitter voltage(in volts)\n",
"Rc=(Vcc-Vf-Vce)*1000/I\n",
"Ib=I*1000/hfe\n",
"Rb=(Vi-Vbe)*1000/Ib\n",
"disp(Rb,Rc,'Resistors are Rc and Rb(in kilo ohm)=')"
   ]
   }
,
{
		   "cell_type": "markdown",
		   "metadata": {},
		   "source": [
			"## Example 14.5: Determine_meter_indication_when_time_base_uses.sce"
		   ]
		  },
  {
"cell_type": "code",
	   "execution_count": null,
	   "metadata": {
	    "collapsed": true
	   },
	   "outputs": [],
"source": [
"//Caption:Determine meter indication when time base uses (a)6 decade counter (b)4 decade counter\n",
"//Ex14.5\n",
"clc;\n",
"clear;\n",
"close;\n",
"f=3500//Applied frequency(in hz)\n",
"F=10^6//Clock generator frequency(in hz)\n",
"f1=F/(10^6)\n",
"t1=1/f1\n",
"c1=f*t1\n",
"disp(c1,'Cycles of input counted during t1=')\n",
"f2=F/(10^4)\n",
"t2=1/f2\n",
"c2=f*t2\n",
"disp(c2,'Cycles of input counted during t2=')"
   ]
   }
,
{
		   "cell_type": "markdown",
		   "metadata": {},
		   "source": [
			"## Example 14.6: Determine_required_current.sce"
		   ]
		  },
  {
"cell_type": "code",
	   "execution_count": null,
	   "metadata": {
	    "collapsed": true
	   },
	   "outputs": [],
"source": [
"//Caption:Determine required current\n",
"//Ex14.6\n",
"clc;\n",
"clear;\n",
"close;\n",
"c=1280//Input wave clock cycles\n",
"f=200//Output frequency(in khz)\n",
"p=1000//Pulses during t2\n",
"V=1//Input voltage(in volts)\n",
"R=10//Resistance(in kilo ohm)\n",
"C=0.1//Capacitance(in micro farad)\n",
"I=V*1000/R\n",
"T=1000/f\n",
"t1=T*c\n",
"vo=(I*t1)/(C*1000)\n",
"t2=T*p\n",
"Ir=C*vo*1000/t2\n",
"disp(Ir,'Required current(in micro ampere)=')"
   ]
   }
],
"metadata": {
		  "kernelspec": {
		   "display_name": "Scilab",
		   "language": "scilab",
		   "name": "scilab"
		  },
		  "language_info": {
		   "file_extension": ".sce",
		   "help_links": [
			{
			 "text": "MetaKernel Magics",
			 "url": "https://github.com/calysto/metakernel/blob/master/metakernel/magics/README.md"
			}
		   ],
		   "mimetype": "text/x-octave",
		   "name": "scilab",
		   "version": "0.7.1"
		  }
		 },
		 "nbformat": 4,
		 "nbformat_minor": 0
}
