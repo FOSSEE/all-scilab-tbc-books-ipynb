{
"cells": [
 {
		   "cell_type": "markdown",
	   "metadata": {},
	   "source": [
       "# Chapter 9: Ramp Pulse and function generator"
	   ]
	},
{
		   "cell_type": "markdown",
		   "metadata": {},
		   "source": [
			"## Example 9.12: Design_a_pulse_generator_using_8038_IC.sce"
		   ]
		  },
  {
"cell_type": "code",
	   "execution_count": null,
	   "metadata": {
	    "collapsed": true
	   },
	   "outputs": [],
"source": [
"//Caption:Design a pulse generator using 8038 IC\n",
"//Ex9.12\n",
"clc;\n",
"clear;\n",
"close;\n",
"p=200//Pulse width(in micro sec)\n",
"f=1//Pulse repetition frequency(in khz)\n",
"V=10//Output voltage(in volts)\n",
"I=1//Maximum current(in mA)\n",
"T=1000/f\n",
"t2=T-p\n",
"Ib=I*p/t2\n",
"Ra=V/(5*I)\n",
"C=0.6*p/(Ra*1000)\n",
"Rb=2*V/(5*(I+Ib))\n",
"Rl=V/I\n",
"disp(Ra,Rb,Rl,C,'Circuit components are Capacitance(in micro farad) and Resistances Rl,Rb,Ra(in kilo ohm)=')"
   ]
   }
,
{
		   "cell_type": "markdown",
		   "metadata": {},
		   "source": [
			"## Example 9.13: Calculate_output_maximum_and_minimum_frequencies.sce"
		   ]
		  },
  {
"cell_type": "code",
	   "execution_count": null,
	   "metadata": {
	    "collapsed": true
	   },
	   "outputs": [],
"source": [
"//Caption:Calculate output maximum and minimum frequencies\n",
"//Ex9.13\n",
"clc;\n",
"clear;\n",
"close;\n",
"V=15//Supply voltage(in volts)\n",
"Imin=10//Minimum current(in micro ampere)\n",
"Imax=1//Maximum current(in mA)\n",
"C=3600//Capacitor(in pF)\n",
"Rmax=V/(10*Imin)\n",
"Rmin=V/(10*Imax)\n",
"fmin=0.15*10^6/(C*Rmax)\n",
"fmax=0.15*10^6/(C*Rmin)\n",
"disp(fmin,fmax,'Maximum frequency(in khz) and minimum frequency(in hz)=')"
   ]
   }
,
{
		   "cell_type": "markdown",
		   "metadata": {},
		   "source": [
			"## Example 9.1: esign_RC_ramp_generator_Ex9_1.sce"
		   ]
		  },
  {
"cell_type": "code",
	   "execution_count": null,
	   "metadata": {
	    "collapsed": true
	   },
	   "outputs": [],
"source": [
"//Caption:Design RC ramp generator\n",
"//Ex9.1\n",
"clc;\n",
"clear;\n",
"close;\n",
"V=5//Output voltage(in volts)\n",
"Vs=15//Supply voltage(in volts)\n",
"R=100//Load resistance(in kilo ohm)\n",
"v=3//Amplitude of triggering pulse(in volts)\n",
"vb=0.5//Bse voltage(in volts)\n",
"p=1//Pulse width(in ms)\n",
"t=0.1//Time interval(in ms)\n",
"vbe=0.7//Base emitter voltage(in volts)\n",
"E=0.2//Initial voltage(in volts)\n",
"e=5//Final voltage(in volts)\n",
"hfe=50\n",
"Il=V/R\n",
"I1=100*Il/1000\n",
"R1=(Vs-V)/(I1*1000)\n",
"C1=p/(R1*log((Vs-E)/(Vs-e)))\n",
"Ic=10*I1\n",
"Ib=Ic/hfe\n",
"Rb=(Vs-vbe)/(Ib*1000)\n",
"Vbb=v-vbe-vb\n",
"I=(Vs+v)/Rb\n",
"C2=I*p/Vbb\n",
"disp(C2,C1,R1,Rb,'Components required to design circuit are resistances Rb,R1(in kilo ohm) and Capacitors C1,C2(in micro farad)=')"
   ]
   }
,
{
		   "cell_type": "markdown",
		   "metadata": {},
		   "source": [
			"## Example 9.2: Design_a_linear_ramp_generator.sce"
		   ]
		  },
  {
"cell_type": "code",
	   "execution_count": null,
	   "metadata": {
	    "collapsed": true
	   },
	   "outputs": [],
"source": [
"//Caption:Design a linear ramp generator\n",
"//Ex9.2\n",
"clc;\n",
"clear;\n",
"close;\n",
"V=5//Output voltage(in volts)\n",
"Vcc=15//Supply voltage(in volts)\n",
"Vce2=3//Voltage(in volts)\n",
"C1=1//Capacitance(in micro fard)\n",
"t=1//pulse width(in ms)\n",
"Vbe=0.7//Base emitter voltage(in volts)\n",
"V3=Vcc-Vce2-5\n",
"Ic=C1*V/t\n",
"R3=V3/Ic\n",
"Vb=V3+Vbe\n",
"I1=Ic/10\n",
"R1=Vb/I1\n",
"i1=Vb/R1\n",
"V2=Vcc-Vb\n",
"R2=V2/I1\n",
"disp(C1,R3,R2,R1,'Components required to design the circuit are resistors R1,R2,R3(in kilo ohm) and capacitance C1(in micro farad)=')"
   ]
   }
,
{
		   "cell_type": "markdown",
		   "metadata": {},
		   "source": [
			"## Example 9.4: Determine_Rsmax.sce"
		   ]
		  },
  {
"cell_type": "code",
	   "execution_count": null,
	   "metadata": {
	    "collapsed": true
	   },
	   "outputs": [],
"source": [
"//Caption:Determine Rsmax,Rsmin,and minimum drain source voltage\n",
"//Ex9.4\n",
"clc;\n",
"clear;\n",
"close;\n",
"I=2//Drain Current(in mA)\n",
"Vgsm=3//Maximum gate source voltage(in volts)\n",
"Vgsn=0.5//Minimum gate source voltage(in volts)\n",
"V=6//Peak voltage(in volts)\n",
"Rs1=Vgsm/I\n",
"Rs2=Vgsn*1000/I\n",
"Vds=V-Vgsm+1\n",
"disp(Vds,Rs2,Rs1,'Required resistances Rsmax(in kilo ohm),Rsmin(in ohm) and drain source voltage(in volts)=')"
   ]
   }
,
{
		   "cell_type": "markdown",
		   "metadata": {},
		   "source": [
			"## Example 9.5: find_peak_to_peak_output_amplitude.sce"
		   ]
		  },
  {
"cell_type": "code",
	   "execution_count": null,
	   "metadata": {
	    "collapsed": true
	   },
	   "outputs": [],
"source": [
"//Caption:Design a UJT relaxation oscillator and find peak to peak output amplitude\n",
"//Ex9.5\n",
"clc;\n",
"clear;\n",
"close;\n",
"Vbb=20//Supply voltage(in volts)\n",
"f=5//Frequency(in khz)\n",
"Veb=3//Fringe Voltage(in volts)\n",
"Ip=2//Fringe current(in micro ampere)\n",
"Iv=1//Emitter current(in mA)\n",
"n=0.75\n",
"Vp=0.7+(n*Vbb)\n",
"R1x=(Vbb-Vp)/Ip\n",
"R1n=(Vbb-Veb)/Iv\n",
"t=1000/f\n",
"C1=t*1000/(R1n*(log((Vbb-Veb)/(Vbb-Vp))))\n",
"E=Vp-Veb\n",
"disp(C1,R1n,E,'Peak to peak voltage(in volts) and Components for circuit are resistor(in kilo ohm) and capacitance(in pf)=')"
   ]
   }
,
{
		   "cell_type": "markdown",
		   "metadata": {},
		   "source": [
			"## Example 9.6: Design_a_transistor_bootstrap_ramp_generator.sce"
		   ]
		  },
  {
"cell_type": "code",
	   "execution_count": null,
	   "metadata": {
	    "collapsed": true
	   },
	   "outputs": [],
"source": [
"//Caption:Design a transistor bootstrap ramp generator\n",
"//Ex9.6\n",
"clc;\n",
"clear;\n",
"close;\n",
"V=8//Amplitude of output voltage(in volts)\n",
"Vd=0.7//Forward diode voltage(in volts)\n",
"Vce=0.2//Saturated collector emitter voltage(in volts)\n",
"t=1//Interval between pulses(in ms)\n",
"Vt=3//Triggering voltage(in volts)\n",
"E=15//Supply voltage(in volts)\n",
"vbe=0.7//Base emitter voltage(in volts)\n",
"vb=0.5//Bse voltage(in volts)\n",
"hfe=100\n",
"R=1//Load resistor(in kilo ohm)\n",
"Ie1=E/R\n",
"Ie2=(V-(-E))/R\n",
"Ib1=Ie1/hfe\n",
"Ib2=Ie2/hfe\n",
"Ibc=Ib2-Ib1\n",
"I1=100*Ibc/1000\n",
"C1=I1*t*1000/V\n",
"Vr1=E-Vd-Vce\n",
"R1=Vr1/I1\n",
"Vc3=E/100\n",
"C3=I1*t*1000/Vc3\n",
"Il=V/R\n",
"I1=100*Il/1000\n",
"Ic=10*I1\n",
"Ib=Ic/hfe\n",
"Rb=(E-vbe)/(Ib*1000)\n",
"Vbb=V-vbe-vb\n",
"I=(E+Vt)/Rb\n",
"C2=I*t/Vbb\n",
"disp(C3,C2,C1,Rb,'Circuit components are resistor Rb(in kilo ohm) and capacitances C1,C2,C3(in micro farad)=')"
   ]
   }
,
{
		   "cell_type": "markdown",
		   "metadata": {},
		   "source": [
			"## Example 9.9: Calculate_drain_current.sce"
		   ]
		  },
  {
"cell_type": "code",
	   "execution_count": null,
	   "metadata": {
	    "collapsed": true
	   },
	   "outputs": [],
"source": [
"//Caption:Calculate drain current\n",
"//Ex9.9\n",
"clc;\n",
"clear;\n",
"close;\n",
"V=5//Output peak voltage(in volts)\n",
"p=1//Pulse width(in ms)\n",
"s=50//Space width(in micro sec)\n",
"C=0.03//Capacitance(in micro farad)\n",
"Vp=6//Gate source voltage(in volts)\n",
"I1=C*V*1000/p\n",
"Vi=Vp+1\n",
"R1=Vi/I1\n",
"Id=I1*p/s\n",
"disp(Id,'Drain current(in mA)=')"
   ]
   }
],
"metadata": {
		  "kernelspec": {
		   "display_name": "Scilab",
		   "language": "scilab",
		   "name": "scilab"
		  },
		  "language_info": {
		   "file_extension": ".sce",
		   "help_links": [
			{
			 "text": "MetaKernel Magics",
			 "url": "https://github.com/calysto/metakernel/blob/master/metakernel/magics/README.md"
			}
		   ],
		   "mimetype": "text/x-octave",
		   "name": "scilab",
		   "version": "0.7.1"
		  }
		 },
		 "nbformat": 4,
		 "nbformat_minor": 0
}
