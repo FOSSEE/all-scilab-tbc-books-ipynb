{
"cells": [
 {
		   "cell_type": "markdown",
	   "metadata": {},
	   "source": [
       "# Chapter 15: Samping conversion modulation and multiplexing"
	   ]
	},
{
		   "cell_type": "markdown",
		   "metadata": {},
		   "source": [
			"## Example 15.1: Determine_the_errors_due_to_Rs_and_Rd.sce"
		   ]
		  },
  {
"cell_type": "code",
	   "execution_count": null,
	   "metadata": {
	    "collapsed": true
	   },
	   "outputs": [],
"source": [
"//Caption:Determine the errors due to Rs and Rd\n",
"//Ex15.1\n",
"clc;\n",
"clear;\n",
"close;\n",
"Vs=1//Source voltage(in volts)\n",
"Rs=100//Source resistance(in ohm)\n",
"Rl=10//Load resistance(in kilo ohm)\n",
"Rd=30//Drain resistance(in ohm)\n",
"Vgs=10//Gate source voltage(in volts)\n",
"V1=-(Vs+Vgs+1)\n",
"Id=Vs/(Rs+Rd+Rl)\n",
"e1=(Id*Rs)*100/(Vs)\n",
"e2=(Id*Rd)*100/(Vs)\n",
"disp(e2,e1,'Errors due to Rs(in %) and due to Rd(in %)=')"
   ]
   }
,
{
		   "cell_type": "markdown",
		   "metadata": {},
		   "source": [
			"## Example 15.2: Determine_capacitance_and_minimum_acquisition_time.sce"
		   ]
		  },
  {
"cell_type": "code",
	   "execution_count": null,
	   "metadata": {
	    "collapsed": true
	   },
	   "outputs": [],
"source": [
"//Caption:Determine capacitance and minimum acquisition time\n",
"//Ex15.2\n",
"clc;\n",
"clear;\n",
"close;\n",
"Vs=1//Supply voltage(in volts)\n",
"a=0.25//Accuracy(in %)\n",
"t=500//Holding time(in micro sec)\n",
"Ib=500//Maximum base current(in nA)\n",
"Rd=30//Drain Resistance(in ohm)\n",
"v=Vs*0.1/100\n",
"C=Ib*t*10^(-9)/v\n",
"T=7*C*Rd\n",
"disp(T,C,'Required capacitance(in micro farad) and acquisition time(in micro sec)=')"
   ]
   }
,
{
		   "cell_type": "markdown",
		   "metadata": {},
		   "source": [
			"## Example 15.3: Determine_the_error_due_to_capacitance.sce"
		   ]
		  },
  {
"cell_type": "code",
	   "execution_count": null,
	   "metadata": {
	    "collapsed": true
	   },
	   "outputs": [],
"source": [
"//Caption:Determine the error due to capacitance\n",
"//Ex15.3\n",
"clc;\n",
"clear;\n",
"close;\n",
"Vgs=10//Gate source voltage(in volts)\n",
"C=10.5//Capacitance(in pF)\n",
"Vs=1//Supply voltage(in volts)\n",
"C1=0.25//Capacitance(in micro farad)\n",
"V1=-(Vs+Vgs+1)\n",
"Vgsm=Vs-(V1)\n",
"Q=C*Vgsm\n",
"Vo=Q/C1\n",
"e=Vo*10^(-6)*100/Vs\n",
"disp(e,'Error due to capacitance(in %)=')"
   ]
   }
,
{
		   "cell_type": "markdown",
		   "metadata": {},
		   "source": [
			"## Example 15.4: Calculate_the_output_voltage.sce"
		   ]
		  },
  {
"cell_type": "code",
	   "execution_count": null,
	   "metadata": {
	    "collapsed": true
	   },
	   "outputs": [],
"source": [
"//caption:Calculate the output voltage\n",
"//Ex15.4\n",
"clc;\n",
"clear;\n",
"close;\n",
"Vie=1//Input voltage for resistor Re(in volts)\n",
"Vid=0//Input voltage for resistor Rd(in volts)\n",
"Vic=1//Input voltage for resistor Rc(in volts)\n",
"Vib=1//Input voltag for resistor Rb(in volts)\n",
"Via=0//Input voltage for resistor Ra(in volts)\n",
"R=16//Input Resistor(in kilo ohm)\n",
"re=1//Resistor(in kilo ohm)\n",
"rd=2//Resistor(in kilo ohm)\n",
"rc=4//Resistor(in kilo ohm)\n",
"rb=8//Resistor(in kilo ohm)\n",
"ra=16//Resistor(in kilo ohm)\n",
"Vo=R*((Vie/re)+(Vid/rd)+(Vic/rc)+(Vib/rb)+(Via/ra))\n",
"disp(Vo,'Output voltage(in volts)=')"
   ]
   }
],
"metadata": {
		  "kernelspec": {
		   "display_name": "Scilab",
		   "language": "scilab",
		   "name": "scilab"
		  },
		  "language_info": {
		   "file_extension": ".sce",
		   "help_links": [
			{
			 "text": "MetaKernel Magics",
			 "url": "https://github.com/calysto/metakernel/blob/master/metakernel/magics/README.md"
			}
		   ],
		   "mimetype": "text/x-octave",
		   "name": "scilab",
		   "version": "0.7.1"
		  }
		 },
		 "nbformat": 4,
		 "nbformat_minor": 0
}
