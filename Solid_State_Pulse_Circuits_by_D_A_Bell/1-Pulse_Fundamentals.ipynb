{
"cells": [
 {
		   "cell_type": "markdown",
	   "metadata": {},
	   "source": [
       "# Chapter 1: Pulse Fundamentals"
	   ]
	},
{
		   "cell_type": "markdown",
		   "metadata": {},
		   "source": [
			"## Example 1.1: Duty_cycle.sce"
		   ]
		  },
  {
"cell_type": "code",
	   "execution_count": null,
	   "metadata": {
	    "collapsed": true
	   },
	   "outputs": [],
"source": [
"//Caption:Find (a)Pulse amplitude (b)PRF (c)PW (d)Duty cycle and (e)M/S ratio\n",
"//Exa:1.1\n",
"clc;\n",
"clear;\n",
"close;\n",
"v=1//Vertical scale(Volt per division)\n",
"h=0.1//Horizontal scale(Milli sec per division)\n",
"pv=3.5//Amplitude of pulse in divisions\n",
"t=6//Time in divisions\n",
"pw=2.5//Width of pulse\n",
"P=pv*v\n",
"disp(P,'(a)Pulse Amplitude (in volts)=')\n",
"T=t*h\n",
"prf=(1/T)*1000\n",
"disp(prf,'(b)PRF(in pps)=')\n",
"p=pw*h\n",
"disp(p,'(c)PW (in ms)=')\n",
"sw=pv*h\n",
"d=(p/T)*100\n",
"disp(d,'(d)Duty cycle(in %)=')\n",
"m=p/sw\n",
"disp(m,'(e)M/S ratio=')"
   ]
   }
,
{
		   "cell_type": "markdown",
		   "metadata": {},
		   "source": [
			"## Example 1.2: pulse_amplitude.sce"
		   ]
		  },
  {
"cell_type": "code",
	   "execution_count": null,
	   "metadata": {
	    "collapsed": true
	   },
	   "outputs": [],
"source": [
"//Caption:Determine (a)Pulse amplitude,tilt,rise time,fall time,PW,PRF,mark to space ratio,and duty cycle (b)tilt\n",
"//Ex1.2\n",
"clc;\n",
"clear;\n",
"close;\n",
"vs=100//Vertical scale(in mv/divisions)\n",
"hs=100//Horizontal scale(in micro sec/division)\n",
"e1=380//first peak of waveform(in mv)\n",
"e2=350//second peak of waveform(in mv)\n",
"E=(e1+e2)/2\n",
"t=(e1-e2)*100/E\n",
"tr=0.3*hs\n",
"tf=0.4*hs\n",
"T=5*hs\n",
"prf=10^6/T\n",
"pw=2.2*hs\n",
"sw=2.8*hs\n",
"ms=pw/sw\n",
"dc=(pw*100)/T\n",
"disp(dc,ms,pw,prf,tf,tr,t,E,'(a)Pulse Amplitude(in mv),tilt(in %),rise time(in micro sec),fall time(in micro sec),PW(in micro sec),PRF(in pps),M/s ratio,Duty cycle(in %)=')\n",
"eb=0.5*vs\n",
"ee=2.25*vs\n",
"tb=eb*100/ee\n",
"disp(tb,'(b)Tilt(in %)=')"
   ]
   }
,
{
		   "cell_type": "markdown",
		   "metadata": {},
		   "source": [
			"## Example 1.3: Average_voltage_level.sce"
		   ]
		  },
  {
"cell_type": "code",
	   "execution_count": null,
	   "metadata": {
	    "collapsed": true
	   },
	   "outputs": [],
"source": [
"//Caption:Determine average voltage level\n",
"//Ex1.3\n",
"clc;\n",
"clear;\n",
"close;\n",
"vs=2//Vertical scale(V/div)\n",
"hs=1//Horizontal scale(ms/div)\n",
"v1=8//Amplitude of signal in (+)ve direction (in volts)\n",
"v2=-1//Amplitude of signal in (-)ve direction (in volts)\n",
"t1=0.8//Horizontal divisions for v1\n",
"t2=2.2//Horizontal divisions for v2\n",
"T=3*hs\n",
"T1=t1*hs\n",
"T2=t2*hs\n",
"Va=((T1*v1)+(T2*v2))/T\n",
"disp(Va,'Average voltage (in volts)=')"
   ]
   }
,
{
		   "cell_type": "markdown",
		   "metadata": {},
		   "source": [
			"## Example 1.4: Determine_the_upper_3db_frequency_of_the_amplifier.sce"
		   ]
		  },
  {
"cell_type": "code",
	   "execution_count": null,
	   "metadata": {
	    "collapsed": true
	   },
	   "outputs": [],
"source": [
"//Caption:Determine the upper 3db frequency of the amplifier\n",
"//Ex1.4\n",
"clc;\n",
"clear; \n",
"close;\n",
"tr=1//Rise time(in micro sec)\n",
"fu=0.35*10^6/tr\n",
"disp(fu,'The upper 3db frequency of the amplifier(in hertz)=')"
   ]
   }
,
{
		   "cell_type": "markdown",
		   "metadata": {},
		   "source": [
			"## Example 1.5: Determine_Minimum_upper_cut_frequency_Minimum_pulse_width_and_duty_cycle.sce"
		   ]
		  },
  {
"cell_type": "code",
	   "execution_count": null,
	   "metadata": {
	    "collapsed": true
	   },
	   "outputs": [],
"source": [
"//Caption:Determine (a)Minimum upper cut frequency (b)Minimum pulse width and duty cycle\n",
"//Ex1.5\n",
"clc;\n",
"clear;\n",
"close;\n",
"prf=1.5//in Khz\n",
"dc=3//Duty cycle(in %)\n",
"pa=1.5//Amplitude of pulse(in Khz)\n",
"fu=1//High frequency limit(in Mhz)\n",
"tr=10//Rise time(in %)\n",
"pw=(dc/100)*10^3/pa\n",
"Tr=(tr/100)*pw\n",
"fh=0.35*10^6/Tr\n",
"disp(fh,'(a)Minimum upper cut frequency(in hertz)=')\n",
"Tr2=0.35*10^(-6)/fu\n",
"Pw=10*Tr2\n",
"dc=Pw*100*(pa*1000)\n",
"disp(dc,Pw,'(b)Pulse width(in sec) and Duty cycle(in %)=')"
   ]
   }
,
{
		   "cell_type": "markdown",
		   "metadata": {},
		   "source": [
			"## Example 1.6: EX1_6.sce"
		   ]
		  },
  {
"cell_type": "code",
	   "execution_count": null,
	   "metadata": {
	    "collapsed": true
	   },
	   "outputs": [],
"source": [
"//Caption:Calculate a. Rise time in output waveform b. Minimum upper cut off frequency and displayed rise time\n",
"//Ex1.6\n",
"clc;\n",
"clear;\n",
"close;\n",
"tr=10//Rise time of input waveform(in micro sec)\n",
"fu=350//Upper cut off frequency(in KHz)\n",
"ti=100//Input rise time(in ns)\n",
"trc=0.35*(10^(-3))/350\n",
"tro=sqrt(((tr)*(10^(-6)))^2+(trc^2))*10^6\n",
"disp(tro,'(a)Rise Time(in Micro sec)=')\n",
"tc=ti*(10^(-9))/3\n",
"fh=0.35*10^(-6)/tc\n",
"Tro=sqrt((ti*(10^(-9)))^2+(tc^2))*10^9\n",
"disp(Tro,fh,'(b)Minimum upper cut off frequency(in Mhz) and rise time(in ns)=')"
   ]
   }
,
{
		   "cell_type": "markdown",
		   "metadata": {},
		   "source": [
			"## Example 1.7: Calculate_lowest_input_frequency.sce"
		   ]
		  },
  {
"cell_type": "code",
	   "execution_count": null,
	   "metadata": {
	    "collapsed": true
	   },
	   "outputs": [],
"source": [
"//Caption:Calculate lowest input frequency \n",
"//Exa:1.7\n",
"clc;\n",
"clear;\n",
"close;\n",
"fl=10//Lower cutoff frequency(in hertz)\n",
"t=0.02//Tilt on output waveform\n",
"f=%pi*fl/(t*1000)\n",
"disp(f,'Lowest input frequency(in Khz)=')"
   ]
   }
,
{
		   "cell_type": "markdown",
		   "metadata": {},
		   "source": [
			"## Example 1.8: Determine_upper_cutoff_frequency_and_lower_cutoff_frequency.sce"
		   ]
		  },
  {
"cell_type": "code",
	   "execution_count": null,
	   "metadata": {
	    "collapsed": true
	   },
	   "outputs": [],
"source": [
"//Caption:Determine upper cutoff frequency and lower cutoff frequency\n",
"//Ex:1.8\n",
"clc;\n",
"clear;\n",
"close;\n",
"f=1//frequency of square wave(in khz)\n",
"tr=200//rise time of output(in ns)\n",
"t=0.03//fractional tilt\n",
"fh=0.35*10^3/tr\n",
"disp(fh,'(a)upper cutoff frequency(in mhz)=') \n",
"fl=f*t*1000/%pi\n",
"disp(fl,'(b)Lower cutoff frequency(in hz)=')"
   ]
   }
,
{
		   "cell_type": "markdown",
		   "metadata": {},
		   "source": [
			"## Example 1.9: Determine_upper_and_lower_Frequencies.sce"
		   ]
		  },
  {
"cell_type": "code",
	   "execution_count": null,
	   "metadata": {
	    "collapsed": true
	   },
	   "outputs": [],
"source": [
"//Caption:Determine upper and lower Frequencies\n",
"//Ex:1.9\n",
"clc;\n",
"clear;\n",
"close;\n",
"tr=30//Rise time(in micro sec)\n",
"PRF=2000//Pulse repetition Frequency(in pps)\n",
"t=0.082//Tilt(in %)\n",
"Pw=220//Pulse width(in micro sec)\n",
"fh=0.35*10^(6)/tr\n",
"fl=t*10^6/(2*%pi*Pw)\n",
"disp(fl,fh,'Upper and lower frequencies(in hz)=')"
   ]
   }
],
"metadata": {
		  "kernelspec": {
		   "display_name": "Scilab",
		   "language": "scilab",
		   "name": "scilab"
		  },
		  "language_info": {
		   "file_extension": ".sce",
		   "help_links": [
			{
			 "text": "MetaKernel Magics",
			 "url": "https://github.com/calysto/metakernel/blob/master/metakernel/magics/README.md"
			}
		   ],
		   "mimetype": "text/x-octave",
		   "name": "scilab",
		   "version": "0.7.1"
		  }
		 },
		 "nbformat": 4,
		 "nbformat_minor": 0
}
