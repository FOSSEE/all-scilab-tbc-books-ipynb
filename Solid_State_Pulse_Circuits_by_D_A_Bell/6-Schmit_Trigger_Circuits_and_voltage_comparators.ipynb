{
"cells": [
 {
		   "cell_type": "markdown",
	   "metadata": {},
	   "source": [
       "# Chapter 6: Schmit Trigger Circuits and voltage comparators"
	   ]
	},
{
		   "cell_type": "markdown",
		   "metadata": {},
		   "source": [
			"## Example 6.1: Determine_schmitt_trigger_circuit_components_for_designing_it.sce"
		   ]
		  },
  {
"cell_type": "code",
	   "execution_count": null,
	   "metadata": {
	    "collapsed": true
	   },
	   "outputs": [],
"source": [
"//Caption:Determine schmitt trigger circuit components for designing it\n",
"//Ex6.1\n",
"clc;\n",
"clear;\n",
"close;\n",
"u=5//Upper trigger point voltage(in volts)\n",
"Vbe=0.7//Base emitter voltage(in volts)\n",
"I=2//Collector current(in mA)\n",
"hfe=100\n",
"Vcc=12//Collector voltage(in volt)\n",
"Vce=0.2//Saturated collector emitter voltage(in volts)\n",
"Ve=u-Vbe\n",
"Re=Ve/I\n",
"Rc=(Vcc-Ve-Vce)/I\n",
"i=I/10\n",
"R2=u/i\n",
"Ib2=I/hfe\n",
"I2=u/i\n",
"It=Ib2+i\n",
"r=(Vcc-u)/It\n",
"R1=r-Rc\n",
"disp(R1,R2,Rc,Re,'Circuit components Re,Rc,R2,R1(in kilo ohm)=')"
   ]
   }
,
{
		   "cell_type": "markdown",
		   "metadata": {},
		   "source": [
			"## Example 6.2: Find_circuit_components_for_designing_a_schmitt_trigger_circuit.sce"
		   ]
		  },
  {
"cell_type": "code",
	   "execution_count": null,
	   "metadata": {
	    "collapsed": true
	   },
	   "outputs": [],
"source": [
"//Caption:Find circuit components for designing a schmitt trigger circuit\n",
"//Ex6.2\n",
"clc;\n",
"clear;\n",
"close;\n",
"u=5//Upper trigger point voltage(in volts)\n",
"Vbe=0.7//Base emitter voltage(in volts)\n",
"I=2//Collector current(in mA)\n",
"hfe=100\n",
"Vcc=12//Collector voltage(in volt)\n",
"Vce=0.2//Saturated collector emitter voltage(in volts)\n",
"l=3//Lower trigger point voltage(in volts)\n",
"Ve=u-Vbe\n",
"Re=Ve/I\n",
"Rc=(Vcc-Ve-Vce)/I\n",
"i=I/10\n",
"R2=u/i\n",
"Ib2=I/hfe\n",
"I2=u/i\n",
"It=Ib2+i\n",
"r=(Vcc-u)/It\n",
"I1=l/R2\n",
"Ie=(l-Vbe)/Re\n",
"Rc1=Vcc-(I1*(r+R2))/Ie\n",
"R1=r-Rc1\n",
"disp(R1,R2,Rc1,Re,'Circuit components are Re,Rc1,R2,R1(in kilo ohm)=')"
   ]
   }
,
{
		   "cell_type": "markdown",
		   "metadata": {},
		   "source": [
			"## Example 6.3: Determine_Largest_speed_up_capacitance.sce"
		   ]
		  },
  {
"cell_type": "code",
	   "execution_count": null,
	   "metadata": {
	    "collapsed": true
	   },
	   "outputs": [],
"source": [
"//Caption:Determine Largest speed up capacitance\n",
"//Ex6.3\n",
"clc;\n",
"clear;\n",
"close;\n",
"f=1//Frequency(in Mhz)\n",
"R1=22//Resistance(in kilo ohm)\n",
"R2=22//Resistance(in kilo ohm)\n",
"Rc1=4.7//Resistance(in kilo ohm)\n",
"R=R1*(Rc1+R2)/(R1+Rc1+R2)\n",
"t=1/f\n",
"C=t*1000/(2.3*R)\n",
"disp(C,'Required Capacitance(in pF)=')"
   ]
   }
,
{
		   "cell_type": "markdown",
		   "metadata": {},
		   "source": [
			"## Example 6.4: Actual_UTP_and_LTP.sce"
		   ]
		  },
  {
"cell_type": "code",
	   "execution_count": null,
	   "metadata": {
	    "collapsed": true
	   },
	   "outputs": [],
"source": [
"//Caption:Calculate R1,R2 and Actual UTP and LTP\n",
"//Ex6.4\n",
"clc;\n",
"clear;\n",
"close;\n",
"u=3//Upper trigger voltage(in volts)\n",
"Ib=500//Max base current(in nA)\n",
"Vcc=15//Collector voltage(in volts)\n",
"i=Ib*0.1\n",
"R2=u*1000/i\n",
"I=u/R2\n",
"Vo=Vcc-1\n",
"Vr1=Vo-u\n",
"R1=Vr1/I\n",
"utp=Vo*R2/(R1+R2)\n",
"ltp=-utp\n",
"disp(ltp,utp,R2,R1,'Circuit components R1,R2(in kilo ohm) and actual UTP and LTP(in volts)=')"
   ]
   }
,
{
		   "cell_type": "markdown",
		   "metadata": {},
		   "source": [
			"## Example 6.5: Design_Schmitt_circuit_components.sce"
		   ]
		  },
  {
"cell_type": "code",
	   "execution_count": null,
	   "metadata": {
	    "collapsed": true
	   },
	   "outputs": [],
"source": [
"//Caption:Design Schmitt circuit components R1,R2,R3,R4 and R5\n",
"//Ex6.5\n",
"clc;\n",
"clear;\n",
"close;\n",
"u=3//Upper trigger voltage(in volts)\n",
"Ib=500//Max base current(in nA)\n",
"Vf=0.7//Forward diode voltage(in volts)\n",
"Vk1=-2//Voltage(in volts)\n",
"Vcc=15//Collector voltage(in volts)\n",
"Vk2=-Vk1\n",
"i=Ib*0.1\n",
"R2=u*1000/i\n",
"I=u/R2\n",
"Vo=Vcc-1\n",
"Vr1=Vo-u\n",
"R1=Vr1/I\n",
"I4=100*i\n",
"Va1=Vk1+Vf\n",
"Vee=-Vcc\n",
"V4=Va1-Vee\n",
"R4=V4*1000/I4\n",
"Va2=Vk2+Vf\n",
"V5=Va2-Va1\n",
"R5=V5*1000/I4\n",
"R3=(Vcc-Va2)*1000/I4\n",
"disp(R5,R4,R3,R2,R1,'R1,R2,R3,R4,R5(in kilo ohm)=')"
   ]
   }
,
{
		   "cell_type": "markdown",
		   "metadata": {},
		   "source": [
			"## Example 6.6: Design_a_non_inverting_schmitt_trigger_circuit.sce"
		   ]
		  },
  {
"cell_type": "code",
	   "execution_count": null,
	   "metadata": {
	    "collapsed": true
	   },
	   "outputs": [],
"source": [
"//Caption:Design a non inverting schmitt trigger circuit\n",
"//Ex6.6\n",
"clc;\n",
"clear;\n",
"close;\n",
"Vcc=15//Collector voltage(in volts)\n",
"u=2//Upper trigger point(in volts)\n",
"Ib=500//Base current(in nA)\n",
"I2=Ib*0.1\n",
"Vo=Vcc-1\n",
"R2=Vo*1000/I2\n",
"i=Vo*1000/R2\n",
"R1=u*1000/i\n",
"disp(R2,R1,'Circuit components R1 and R2(in kilo ohm)=')"
   ]
   }
],
"metadata": {
		  "kernelspec": {
		   "display_name": "Scilab",
		   "language": "scilab",
		   "name": "scilab"
		  },
		  "language_info": {
		   "file_extension": ".sce",
		   "help_links": [
			{
			 "text": "MetaKernel Magics",
			 "url": "https://github.com/calysto/metakernel/blob/master/metakernel/magics/README.md"
			}
		   ],
		   "mimetype": "text/x-octave",
		   "name": "scilab",
		   "version": "0.7.1"
		  }
		 },
		 "nbformat": 4,
		 "nbformat_minor": 0
}
