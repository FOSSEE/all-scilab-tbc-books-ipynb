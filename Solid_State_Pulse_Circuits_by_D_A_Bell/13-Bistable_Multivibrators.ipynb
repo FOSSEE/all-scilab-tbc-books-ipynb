{
"cells": [
 {
		   "cell_type": "markdown",
	   "metadata": {},
	   "source": [
       "# Chapter 13: Bistable Multivibrators"
	   ]
	},
{
		   "cell_type": "markdown",
		   "metadata": {},
		   "source": [
			"## Example 13.1: Design_a_collector_coupled_bistable_multivibrator.sce"
		   ]
		  },
  {
"cell_type": "code",
	   "execution_count": null,
	   "metadata": {
	    "collapsed": true
	   },
	   "outputs": [],
"source": [
"//Caption:Design a collector coupled bistable multivibrator\n",
"//Ex13.1\n",
"clc;\n",
"clear;\n",
"close;\n",
"V=5//Supply voltage(in volts)\n",
"Ic=2//Saturated collector current(in mA)\n",
"Vce=0.2//Collector emitter voltage(in volts)\n",
"hfe=70\n",
"Vbe=0.7//Base emitter voltage(in volts)\n",
"Vbb=-5//Base voltage(in volts)\n",
"Rc=(V-Vce)/Ic\n",
"Ib=Ic/hfe\n",
"Vb1=Vbe-Vbb\n",
"I2=Ic/10\n",
"R2=Vb1/I2\n",
"I2=Vb1/R2\n",
"R=(V-Vbe)/(I2+Ib)\n",
"R1=R-Rc\n",
"disp(Rc,R1,R2,'Components required to design the circuit are resistors(in kilo ohm)=')"
   ]
   }
,
{
		   "cell_type": "markdown",
		   "metadata": {},
		   "source": [
			"## Example 13.4: Determine_the_capacitance_for_flip_flop.sce"
		   ]
		  },
  {
"cell_type": "code",
	   "execution_count": null,
	   "metadata": {
	    "collapsed": true
	   },
	   "outputs": [],
"source": [
"//Caption:Determine the capacitance for flip flop design and triggering frequency \n",
"//Ex13.4\n",
"clc;\n",
"clear;\n",
"close;\n",
"R1=15//Resistor(in kilo ohm)\n",
"R2=27//Resistor(in kilo ohm)\n",
"t=250//time(in ns)\n",
"R=R1*R2/(R1+R2)\n",
"C=t/(0.1*R)\n",
"f=10^6/(2.3*C*R)\n",
"disp(f,C,'Capacitance(in pF) and Frequency(in Khz)=')"
   ]
   }
],
"metadata": {
		  "kernelspec": {
		   "display_name": "Scilab",
		   "language": "scilab",
		   "name": "scilab"
		  },
		  "language_info": {
		   "file_extension": ".sce",
		   "help_links": [
			{
			 "text": "MetaKernel Magics",
			 "url": "https://github.com/calysto/metakernel/blob/master/metakernel/magics/README.md"
			}
		   ],
		   "mimetype": "text/x-octave",
		   "name": "scilab",
		   "version": "0.7.1"
		  }
		 },
		 "nbformat": 4,
		 "nbformat_minor": 0
}
