{
"cells": [
 {
		   "cell_type": "markdown",
	   "metadata": {},
	   "source": [
       "# Chapter 5: IC operational amplifiers in switching circuits"
	   ]
	},
{
		   "cell_type": "markdown",
		   "metadata": {},
		   "source": [
			"## Example 5.1: design_a_non_inverting_amplifier.sce"
		   ]
		  },
  {
"cell_type": "code",
	   "execution_count": null,
	   "metadata": {
	    "collapsed": true
	   },
	   "outputs": [],
"source": [
"//Caption:Design a non inverting amplifier by determining Required resistances and output voltage\n",
"//Ex5.1\n",
"clc;\n",
"clear;\n",
"close;\n",
"Av=28//Voltage gain\n",
"E=50//Input voltage(in mV)\n",
"Ib=500//Base current(in nA)\n",
"i=100*Ib*0.001\n",
"R3=E/i\n",
"Vo=Av*E*0.001\n",
"r=Vo*1000/i\n",
"R2=r-R3\n",
"R1=(R2*R3)/(R2+R3)\n",
"disp(R1,R2,R3,Vo,'Output voltage(in volts),Required resistances R3,R2 and R1(in kilo ohm)=')"
   ]
   }
,
{
		   "cell_type": "markdown",
		   "metadata": {},
		   "source": [
			"## Example 5.3: Design_an_inverter_by_determining_input_resistance.sce"
		   ]
		  },
  {
"cell_type": "code",
	   "execution_count": null,
	   "metadata": {
	    "collapsed": true
	   },
	   "outputs": [],
"source": [
"//Caption:Design an inverter by determining input resistance,current and capacitance \n",
"//Ex5.3\n",
"clc;\n",
"clear;\n",
"close;\n",
"Vo=11//Output voltage(in volts)\n",
"Vcc=12//Collector voltage(in volts)\n",
"Vi=6//Input voltage(in volts)\n",
"f=1//Frequency(in Khz)\n",
"Vb=0.5//Base voltage(in volts)\n",
"Vee=-12//Emitter voltage(in volts)\n",
"Ib=500//Max base current(in nA)\n",
"Vc=2//Collector voltage(in volts)\n",
"Vr2=Vb-Vee\n",
"I2=100*Ib*0.001\n",
"R2=Vr2/I2\n",
"i=Vr2/R2\n",
"R1=(Vcc-Vb)/i\n",
"Ri=(R1*R2)*1000/(R1+R2)\n",
"Ii=Vi*1000/Ri\n",
"pw=1000/(2*f)\n",
"C=(Ii*pw)*10^(-6)/Vc\n",
"disp(C,Ii,Ri,'Input resistance(in kilo ohm),Input current(in micro ampere) and Capacitance(in micro farad)=')"
   ]
   }
,
{
		   "cell_type": "markdown",
		   "metadata": {},
		   "source": [
			"## Example 5.4: Design_a_differentiating_circuit_by_determining_required_resistances.sce"
		   ]
		  },
  {
"cell_type": "code",
	   "execution_count": null,
	   "metadata": {
	    "collapsed": true
	   },
	   "outputs": [],
"source": [
"//Caption:Design a differentiating circuit by determining required resistances and capacitance\n",
"//Ex5.4\n",
"clc;\n",
"clear;\n",
"close;\n",
"Vo=5//Output voltage(in volts)\n",
"Vi=1//Change in input voltage(in volts)\n",
"t=100//Time period(in micro sec)\n",
"I=1//Circuit current(in mA)\n",
"R2=Vo/I\n",
"R1=R2*1000/20\n",
"R3=R2\n",
"C=Vo*t/(R2*Vi*1000)\n",
"disp(R3,R2,R1,C,'Required components for circuit are Capacitance(in micro farad),Resistances R1(in ohm),R2(in kilo ohm),R3(in kilo ohm)=')"
   ]
   }
,
{
		   "cell_type": "markdown",
		   "metadata": {},
		   "source": [
			"## Example 5.5: Calculate_lowest_operating_frequency_for_circuit.sce"
		   ]
		  },
  {
"cell_type": "code",
	   "execution_count": null,
	   "metadata": {
	    "collapsed": true
	   },
	   "outputs": [],
"source": [
"//Caption:Calculate lowest operating frequency for circuit\n",
"//Ex5.5\n",
"clc;\n",
"clear;\n",
"close;\n",
"V=4//Peak to peak amplitude of output waveform(in volts)\n",
"Vi=10//Input voltage(in volts)\n",
"Vs=15//Supply voltage(in volts)\n",
"Ib=500//Maximum Base current(in nA)\n",
"f=250//Frequency of input waveform(in hz)\n",
"I=1//Circuit current(in mA)\n",
"R1=Vi/I\n",
"R3=20*R1\n",
"R2=(R3*R1)/(R1+R3)\n",
"t=1000/(2*f)\n",
"C=(I*t)/V\n",
"F=20*1000/(2*%pi*C*R3)\n",
"disp(F,'Required frequency(in hz)=')"
   ]
   }
],
"metadata": {
		  "kernelspec": {
		   "display_name": "Scilab",
		   "language": "scilab",
		   "name": "scilab"
		  },
		  "language_info": {
		   "file_extension": ".sce",
		   "help_links": [
			{
			 "text": "MetaKernel Magics",
			 "url": "https://github.com/calysto/metakernel/blob/master/metakernel/magics/README.md"
			}
		   ],
		   "mimetype": "text/x-octave",
		   "name": "scilab",
		   "version": "0.7.1"
		  }
		 },
		 "nbformat": 4,
		 "nbformat_minor": 0
}
