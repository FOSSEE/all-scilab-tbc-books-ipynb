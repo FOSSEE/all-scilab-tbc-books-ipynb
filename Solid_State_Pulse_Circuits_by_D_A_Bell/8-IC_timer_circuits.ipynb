{
"cells": [
 {
		   "cell_type": "markdown",
	   "metadata": {},
	   "source": [
       "# Chapter 8: IC timer circuits"
	   ]
	},
{
		   "cell_type": "markdown",
		   "metadata": {},
		   "source": [
			"## Example 8.1: Design_a_555_monostable_circuit.sce"
		   ]
		  },
  {
"cell_type": "code",
	   "execution_count": null,
	   "metadata": {
	    "collapsed": true
	   },
	   "outputs": [],
"source": [
"//Caption:Design a 555 monostable circuit\n",
"//Ex8.1\n",
"clc;\n",
"clear;\n",
"close;\n",
"t=1//Pulse width(in ms)\n",
"Vcc=15//Supply voltage(in volts)\n",
"Ith=0.25//Threshold current(in micro Ampere)\n",
"Ic=100*Ith\n",
"R=Vcc*1000/(3*Ic)\n",
"C=t*10^6/(1.1*R)\n",
"disp(C,R,'Components required for designing 555 monostable circuit are R(in kilo ohm) and C(in pF)=')"
   ]
   }
,
{
		   "cell_type": "markdown",
		   "metadata": {},
		   "source": [
			"## Example 8.2: Design_a_555_astable_multivibrator.sce"
		   ]
		  },
  {
"cell_type": "code",
	   "execution_count": null,
	   "metadata": {
	    "collapsed": true
	   },
	   "outputs": [],
"source": [
"//Caption:Design a 555 astable multivibrator\n",
"//Ex8.2\n",
"clc;\n",
"clear;\n",
"close;\n",
"p=2//Pulse repetition frequency(in Khz)\n",
"d=0.66//Duty cycle\n",
"Ic=1//Minimum collector voltage selected(in mA)\n",
"Vcc=18//Supply voltage(in volts)\n",
"t=1000/p\n",
"t1=d*t\n",
"t2=t-t1\n",
"R=Vcc/(3*Ic)\n",
"C=t1*0.001/(0.693*R)\n",
"Rb=t2*0.001/(0.693*C)\n",
"Ra=R-Rb\n",
"disp(C,Rb,Ra,'Components required to design the circuit are resistors Ra,Rb(in kilo ohm) and Capacitance(in micro farad)=')"
   ]
   }
,
{
		   "cell_type": "markdown",
		   "metadata": {},
		   "source": [
			"## Example 8.3: Determine_actual_PRF_and_duty_cycle.sce"
		   ]
		  },
  {
"cell_type": "code",
	   "execution_count": null,
	   "metadata": {
	    "collapsed": true
	   },
	   "outputs": [],
"source": [
"//Caption:Determine actual PRF and duty cycle\n",
"//Ex8.3\n",
"clc; \n",
"clear;\n",
"close;\n",
"C=0.082//Capacitance(in micro farad)\n",
"Ra=3.3//Resistance(in kilo ohm)\n",
"Rb=2.7//Resistance(in kilo ohm)\n",
"t1=0.693*C*(Ra+Rb)*1000\n",
"t2=0.693*C*Rb*1000\n",
"T=t1+t2\n",
"P=1000/T\n",
"d=t1*100/T\n",
"disp(P,d,'Duty cycle(in %) and PRF(in Khz)=')"
   ]
   }
,
{
		   "cell_type": "markdown",
		   "metadata": {},
		   "source": [
			"## Example 8.4: Design_a_square_wave_generator_using_7555_CMOS.sce"
		   ]
		  },
  {
"cell_type": "code",
	   "execution_count": null,
	   "metadata": {
	    "collapsed": true
	   },
	   "outputs": [],
"source": [
"//Caption:Design a square wave generator using 7555 CMOS\n",
"//Ex8.4\n",
"clc;\n",
"clear;\n",
"close;\n",
"V=5//Supply voltage(in volts)\n",
"f1=1//Frequency(in khz)\n",
"f2=3//Frequency(in khz)\n",
"C=0.01//Capacitance(in micro farad)\n",
"Ra=47//Choosed resistor(in kilo ohm)\n",
"t1=1/(2*f1)\n",
"t2=1/(2*f2)\n",
"R=t1/(0.693*C)\n",
"Rb=R-Ra\n",
"disp(C,Rb,Ra,'Components required to design the circuit are Ra,Rb(in kilo ohm) and Capacitance(in micro farad)=')"
   ]
   }
],
"metadata": {
		  "kernelspec": {
		   "display_name": "Scilab",
		   "language": "scilab",
		   "name": "scilab"
		  },
		  "language_info": {
		   "file_extension": ".sce",
		   "help_links": [
			{
			 "text": "MetaKernel Magics",
			 "url": "https://github.com/calysto/metakernel/blob/master/metakernel/magics/README.md"
			}
		   ],
		   "mimetype": "text/x-octave",
		   "name": "scilab",
		   "version": "0.7.1"
		  }
		 },
		 "nbformat": 4,
		 "nbformat_minor": 0
}
