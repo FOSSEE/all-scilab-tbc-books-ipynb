{
"cells": [
 {
		   "cell_type": "markdown",
	   "metadata": {},
	   "source": [
       "# Chapter 3: Diode switching"
	   ]
	},
{
		   "cell_type": "markdown",
		   "metadata": {},
		   "source": [
			"## Example 3.10: Calculate_Capacitance_C1and_C2.sce"
		   ]
		  },
  {
"cell_type": "code",
	   "execution_count": null,
	   "metadata": {
	    "collapsed": true
	   },
	   "outputs": [],
"source": [
"//Caption:Calculate Capacitance C1and C2,Diode reverse recovery time and input voltage\n",
"//Ex3.10\n",
"clc;\n",
"clear;\n",
"close;\n",
"V=12//Output voltage(in volts)\n",
"Vd=0.7//Diode forward voltage(in volts)\n",
"R=1.2//Load resistance(in Kilo ohm)\n",
"f=1//Frequency(in KHz)\n",
"r=10//Ripple in output voltage(in %)\n",
"Il=V/R\n",
"t=1000/(2*f)\n",
"C2=(Il*t)*10^(-3)/((r/(2*100))*V)\n",
"C1=(2*Il*t)*10^(-3)/((r/(2*100))*V)\n",
"trr=t/10\n",
"Vpp=V+((r/100)*V)+(2*Vd)\n",
"Vp=Vpp/2\n",
"disp(C1,C2,trr,Vp,'Input voltage(in volts),Diode reverse recovery time(in micro sec),C2 and C1(in micro farad)=')"
   ]
   }
,
{
		   "cell_type": "markdown",
		   "metadata": {},
		   "source": [
			"## Example 3.1: Forward_Current.sce"
		   ]
		  },
  {
"cell_type": "code",
	   "execution_count": null,
	   "metadata": {
	    "collapsed": true
	   },
	   "outputs": [],
"source": [
"//Caption:Calculate (a)Resistance (b)Forward Current (c)Power dissipation (d)Peak Reverse Voltage\n",
"//Ex:3.1\n",
"clc;\n",
"clear;\n",
"close;\n",
"e=50//Input voltage(in volts)\n",
"i=20//Output Current(in mA)\n",
"v=0.5//Output voltage(in volts)\n",
"is=5//Reverse Leakage Current(in micro ampere)\n",
"vf=0.7//Forward voltage of diode(in volts)\n",
"R=v*1000/is\n",
"disp(R,'(a)Resistance(in Kilo ohm)=')\n",
"I=(e-vf)/R\n",
"P=(e^2)/R\n",
"if=i+I\n",
"disp(if,'(b)Forward Current(in mA)=')\n",
"p=vf*if\n",
"disp(p,'(c)Power Dissipation(in mW)=')\n",
"ep=-e\n",
"disp(ep,'(d)Peak Reverse Voltage(in volts)=')"
   ]
   }
,
{
		   "cell_type": "markdown",
		   "metadata": {},
		   "source": [
			"## Example 3.3: Calculate_resistance_and_amplitude_of_output_signal_Ex3_3.sce"
		   ]
		  },
  {
"cell_type": "code",
	   "execution_count": null,
	   "metadata": {
	    "collapsed": true
	   },
	   "outputs": [],
"source": [
"//Caption:Calculate resistance and amplitude of output signal\n",
"//Ex3.3\n",
"clc;\n",
"clear;\n",
"close;\n",
"E=2//Input voltage(in volts)\n",
"v=0.5//Input noise voltage(in volts)\n",
"Vf=0.7//Forward diode voltage(in volts)\n",
"if=1//Forward current of diode(in mA)\n",
"V=E-Vf\n",
"R=V/if\n",
"disp(V,R,'Resistance(in kilo ohm) and Output signal amplitude(in volts)=')"
   ]
   }
,
{
		   "cell_type": "markdown",
		   "metadata": {},
		   "source": [
			"## Example 3.4: Calculate_Resistance_and_diode_forward_current.sce"
		   ]
		  },
  {
"cell_type": "code",
	   "execution_count": null,
	   "metadata": {
	    "collapsed": true
	   },
	   "outputs": [],
"source": [
"//Caption:Calculate Resistance and diode forward current\n",
"//Ex3.4\n",
"clc;\n",
"clear;\n",
"close;\n",
"E=10//Input voltage(in volts)\n",
"v=9//Output voltage(in volts)\n",
"i=1//Output current(in mA)\n",
"vf=0.7//Diode forward voltage(in volts)\n",
"R=E-v/i\n",
"if=E-vf/R\n",
"disp(if,R,'Resistance(in kilo ohm) and Diode forward current(in mA)=')"
   ]
   }
,
{
		   "cell_type": "markdown",
		   "metadata": {},
		   "source": [
			"## Example 3.5: Calculate_Resistance.sce"
		   ]
		  },
  {
"cell_type": "code",
	   "execution_count": null,
	   "metadata": {
	    "collapsed": true
	   },
	   "outputs": [],
"source": [
"//Caption:Calculate Resistance\n",
"//Ex3.5\n",
"clc;\n",
"clear;\n",
"close;\n",
"V=2.7//Output voltage(in volts)\n",
"E=8//Input voltage(in volts)\n",
"i=1//Output current(in mA)\n",
"vf=0.7//Diode forward voltage(in volts)\n",
"if=1//Diode forward current(in mA)\n",
"vb=V-vf\n",
"R=(E-vb-vf)/(i+if)\n",
"disp(R,'Resistance(in kilo ohm)=')"
   ]
   }
,
{
		   "cell_type": "markdown",
		   "metadata": {},
		   "source": [
			"## Example 3.6: Find_Zener_voltage_and_Resistance.sce"
		   ]
		  },
  {
"cell_type": "code",
	   "execution_count": null,
	   "metadata": {
	    "collapsed": true
	   },
	   "outputs": [],
"source": [
"//Caption:Find Zener voltage and Resistance\n",
"//Ex3.6\n",
"clc;\n",
"clear;\n",
"close;\n",
"E=25//Input voltage(in volts)\n",
"V=11//Output voltage(in volts)\n",
"Vf=0.7//Forward diode voltage(in volts)\n",
"i=1//Output current(in mA)\n",
"v=9.1//Voltage for 1N757 diode\n",
"I=20//Current across 1N757 diode(in mA)\n",
"Vz=V-Vf\n",
"Vr=E-(Vf+v)\n",
"Iz=0.25*I\n",
"Ir=Iz+i\n",
"R=Vr/Ir\n",
"disp(R,Vz,'Zener voltage(in volts) and Resistance(in Kilo ohm)=')"
   ]
   }
,
{
		   "cell_type": "markdown",
		   "metadata": {},
		   "source": [
			"## Example 3.7: Calculate_Capacitance_and_Resistance.sce"
		   ]
		  },
  {
"cell_type": "code",
	   "execution_count": null,
	   "metadata": {
	    "collapsed": true
	   },
	   "outputs": [],
"source": [
"//Caption:Calculate Capacitance and Resistance\n",
"//Ex3.7\n",
"clc;\n",
"clear;\n",
"close;\n",
"E=10//Input voltage(in volts)\n",
"f=1//Frequency(in Khz)\n",
"Rs=500//Source resistance(in ohms)\n",
"t=0.01//Tilt\n",
"T=1/(f)\n",
"pw=T*1000/2\n",
"C=pw/Rs\n",
"R=pw/(t*C*1000)\n",
"disp(R,C,'Capacitance(in micro farad) and Resistance(in Kilo ohm)=')"
   ]
   }
,
{
		   "cell_type": "markdown",
		   "metadata": {},
		   "source": [
			"## Example 3.8: Find_Capacitance_and_Resistance_required_to_design_the_circuit.sce"
		   ]
		  },
  {
"cell_type": "code",
	   "execution_count": null,
	   "metadata": {
	    "collapsed": true
	   },
	   "outputs": [],
"source": [
"//Caption:Find Capacitance and Resistance required to design the circuit\n",
"//Ex3.8\n",
"clc;\n",
"clear;\n",
"close;\n",
"E=20//Input waveform amplitude(in volts)\n",
"f=2//Frequency(in Khz)\n",
"t=0.02//Tilt\n",
"R=600//Resistance(in ohm)\n",
"T=1/f\n",
"pw=T*1000/2\n",
"C=pw/R\n",
"R=pw/(t*C)\n",
"disp(R,C,'Capacitance(in micro farad) and Resistance(in ohm)=')"
   ]
   }
,
{
		   "cell_type": "markdown",
		   "metadata": {},
		   "source": [
			"## Example 3.9: Calculate_Capacitance.sce"
		   ]
		  },
  {
"cell_type": "code",
	   "execution_count": null,
	   "metadata": {
	    "collapsed": true
	   },
	   "outputs": [],
"source": [
"//Caption:Calculate Capacitance,Resistance and Zener Voltage\n",
"//Ex3.9\n",
"clc;\n",
"clear;\n",
"close;\n",
"E=15//Amplitude of input waveform(in volts)\n",
"Rs=1//Source Resistance(in Kilo ohm)\n",
"V=9//Output Voltage(in volts)\n",
"Vf=0.7//Diode forward voltage(in volts)\n",
"f=500//Frequency(in hertz)\n",
"t=0.01//Tilt\n",
"T=1000/f\n",
"pw=T/2\n",
"C=pw/Rs\n",
"R=pw/(t*C)\n",
"Vz=V-Vf\n",
"disp(Vz,R,C,'Capacitance(in micro farad),Resistance(in Kilo ohm) and Zener Voltage(in volts)=')"
   ]
   }
],
"metadata": {
		  "kernelspec": {
		   "display_name": "Scilab",
		   "language": "scilab",
		   "name": "scilab"
		  },
		  "language_info": {
		   "file_extension": ".sce",
		   "help_links": [
			{
			 "text": "MetaKernel Magics",
			 "url": "https://github.com/calysto/metakernel/blob/master/metakernel/magics/README.md"
			}
		   ],
		   "mimetype": "text/x-octave",
		   "name": "scilab",
		   "version": "0.7.1"
		  }
		 },
		 "nbformat": 4,
		 "nbformat_minor": 0
}
