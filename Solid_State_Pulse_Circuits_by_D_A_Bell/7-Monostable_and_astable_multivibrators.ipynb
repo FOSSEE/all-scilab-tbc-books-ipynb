{
"cells": [
 {
		   "cell_type": "markdown",
	   "metadata": {},
	   "source": [
       "# Chapter 7: Monostable and astable multivibrators"
	   ]
	},
{
		   "cell_type": "markdown",
		   "metadata": {},
		   "source": [
			"## Example 7.1: Design_a_collector_coupled_monostable_multivibrator.sce"
		   ]
		  },
  {
"cell_type": "code",
	   "execution_count": null,
	   "metadata": {
	    "collapsed": true
	   },
	   "outputs": [],
"source": [
"//Caption:Design a collector coupled monostable multivibrator by determining rc,rb,r2,r1 and vb1\n",
"//Ex7.1\n",
"clc;\n",
"clear;\n",
"close;\n",
"vs=9//Supply voltage(in volts)\n",
"Ic=2//Collector current(in mA)\n",
"hfe=50\n",
"vd=0.7//Diode forward voltage(in volts)\n",
"vce=0.2//Saturated collector emitter voltage(in volts)\n",
"Vbb=-9//Base voltage(in volts)\n",
"Vbe=0.7//Base emitter voltage(in volts)\n",
"Rc=(vs-vd-vce)/Ic\n",
"Ib2=Ic*1000/hfe\n",
"Rb=(vs-Vbe-vd)*1000/Ib2\n",
"I2=Ic*1000/10\n",
"Vr2=Vbe-Vbb\n",
"R2=Vr2*1000/I2\n",
"i=Ib2+I2\n",
"r=(vs-Vbe)*1000/i\n",
"R1=r-Rc\n",
"Vc2=vd+vce\n",
"Vr1=R1*(vs-Vbb)/(R1+R2)\n",
"Vb1=Vc2-Vr1\n",
"disp(Vb1,R1,R2,Rb,Rc,'Required components for circuit design are Rc,Rb,R2,R1(in kilo ohm) and Vb1(in volts)=')"
   ]
   }
,
{
		   "cell_type": "markdown",
		   "metadata": {},
		   "source": [
			"## Example 7.2: Find_capacitance.sce"
		   ]
		  },
  {
"cell_type": "code",
	   "execution_count": null,
	   "metadata": {
	    "collapsed": true
	   },
	   "outputs": [],
"source": [
"//Caption:Find capacitance\n",
"//Ex7.2\n",
"clc;\n",
"clear;\n",
"close;\n",
"t=250//Pulse width(in micro sec)\n",
"E=9//Input voltage(in volts)\n",
"Vbe=0.7//Base emitter voltage(in volts)\n",
"Vd=0.7//Diode forward voltage(in volts)\n",
"Rb=180//Base resistor(in kilo ohm)\n",
"Eo=-(E-Vbe-Vd)\n",
"C=t*1000/(Rb*log((E-Eo)/E))\n",
"disp(C,'Required capacitance(in pF)=')"
   ]
   }
,
{
		   "cell_type": "markdown",
		   "metadata": {},
		   "source": [
			"## Example 7.3: Design_a_monostable_multivibrator_using_op_amp_741.sce"
		   ]
		  },
  {
"cell_type": "code",
	   "execution_count": null,
	   "metadata": {
	    "collapsed": true
	   },
	   "outputs": [],
"source": [
"//Caption:Design a monostable multivibrator using op amp 741\n",
"//Ex7.3\n",
"clc;\n",
"clear;\n",
"close;\n",
"Vcc=15//Collector voltage(in volts)\n",
"Vt=1.5//Trigger voltage(in volts)\n",
"t=200//Output pulse width(in micro sec)\n",
"Ib=500//Base current(in nA)\n",
"Vr2=1//R2 Resistor voltage(in volts)\n",
"I2=0.1*Ib\n",
"R2=Vr2*1000/I2\n",
"i2=Vr2*1000/R2\n",
"Vr1=Vcc-Vr2\n",
"R1=Vr1*1000/i2\n",
"R3=(R1*R2)/(R1+R2)\n",
"E=Vr2-(Vcc-1)\n",
"ec=Vcc-1\n",
"Ec=Vr2+(Vcc-1)\n",
"Rc=R1*R2/(R1+R2)\n",
"C=t*1000/(Rc*log((Vcc-E)/(Vcc-ec)))\n",
"disp(C,R3,R2,R1,'Circuit components are resistances R1,R2,R3(in kilo ohm) and Capacitance(in pF)=')"
   ]
   }
,
{
		   "cell_type": "markdown",
		   "metadata": {},
		   "source": [
			"## Example 7.4: Design_a_astable_multivibrator.sce"
		   ]
		  },
  {
"cell_type": "code",
	   "execution_count": null,
	   "metadata": {
	    "collapsed": true
	   },
	   "outputs": [],
"source": [
"//Caption:Design a astable multivibrator \n",
"//Ex7.4\n",
"clc;\n",
"clear;\n",
"close;\n",
"f=1//Frequency of output waveform(in Khz)\n",
"Vs=5//Supply voltage(in volts)\n",
"Il=20//Output load current(in micro Ampere)\n",
"hfe=70\n",
"Vbe=0.7//Base emitter voltage(in volts)\n",
"Ic=Il*100/1000\n",
"Rc=Vs/Ic\n",
"Ib=Ic/hfe\n",
"Rb=(Vs-Vbe)/Ib\n",
"pw=1/(2*f)\n",
"C=pw*10^(6)/(0.69*Rb)\n",
"disp(C,Rb,Rc,'Components required to design a astable multivibrator are resistances Rb,Rc(in kilo ohm) and Capacitance(in pf)=')"
   ]
   }
,
{
		   "cell_type": "markdown",
		   "metadata": {},
		   "source": [
			"## Example 7.5: Design_a_astable_multivibrator_using_741_op_amp_Ex7_5.sce"
		   ]
		  },
  {
"cell_type": "code",
	   "execution_count": null,
	   "metadata": {
	    "collapsed": true
	   },
	   "outputs": [],
"source": [
"//Caption:Design a astable multivibrator using 741 op amp\n",
"//Ex7.5\n",
"clc;\n",
"clear;\n",
"close;\n",
"f=300//Output frequency(in hertz)\n",
"Vo=11//Output Amplitude(in volts)\n",
"utp=0.5//Upper trigger voltage(in volts)\n",
"Vr3=0.5//Votage across R3 resistor(in volts)\n",
"Ib=500//Base current(in nA)\n",
"Vcc=Vo+1\n",
"I2=100*Ib/1000\n",
"R3=Vr3*1000/I2\n",
"Vr2=Vo-Vr3\n",
"R2=Vr2*1000/I2\n",
"Ir1=100*Ib/1000\n",
"Vr1=Vo-Vr3\n",
"R1=Vr1*1000/Ir1\n",
"t=1000/f\n",
"tc1=0.5*t\n",
"ltp=-utp\n",
"v=utp-ltp\n",
"C=Ir1*tc1*10^(-3)/v\n",
"disp(C,R3,R2,R1,'Circuit components for designing astable multivibrator are R1,R2,R3(in kilo ohm) and Capacitance(in micro farad)=')"
   ]
   }
,
{
		   "cell_type": "markdown",
		   "metadata": {},
		   "source": [
			"## Example 7.6: Design_a_astable_multivibrator_using_311_comparator.sce"
		   ]
		  },
  {
"cell_type": "code",
	   "execution_count": null,
	   "metadata": {
	    "collapsed": true
	   },
	   "outputs": [],
"source": [
"//Caption:Design a astable multivibrator using 311 comparator\n",
"//Ex7.6\n",
"clc;\n",
"clear;\n",
"close;\n",
"V=12//Supply voltage(in volts)\n",
"f=3//Frequency(in Khz)\n",
"Ib=250//Base current(in nA)\n",
"R2=1//Selected resistor(in kilo ohm)\n",
"I4=100*Ib/1000\n",
"Vr4=V/3\n",
"R4=Vr4*1000/I4\n",
"R3=R4\n",
"R5=R4\n",
"Ir2=V/R2\n",
"Ir1=100*Ib/1000\n",
"Vr1=Vr4\n",
"R1=Vr1*1000/Ir1\n",
"t=1000/(2*f)\n",
"C=t*1000/(R1*(log (2)))\n",
"disp(C,R5,R4,R3,R2,R1,'Circuit components required to design the circuit are R1,R2,R3,R4,R5(in kilo ohm) and Capacitance(in pF)=')"
   ]
   }
],
"metadata": {
		  "kernelspec": {
		   "display_name": "Scilab",
		   "language": "scilab",
		   "name": "scilab"
		  },
		  "language_info": {
		   "file_extension": ".sce",
		   "help_links": [
			{
			 "text": "MetaKernel Magics",
			 "url": "https://github.com/calysto/metakernel/blob/master/metakernel/magics/README.md"
			}
		   ],
		   "mimetype": "text/x-octave",
		   "name": "scilab",
		   "version": "0.7.1"
		  }
		 },
		 "nbformat": 4,
		 "nbformat_minor": 0
}
