{
"cells": [
 {
		   "cell_type": "markdown",
	   "metadata": {},
	   "source": [
       "# Chapter 10: Basic Logic gates and logic functions"
	   ]
	},
{
		   "cell_type": "markdown",
		   "metadata": {},
		   "source": [
			"## Example 10.1: Determine_low_and_high_voltage_outputs.sce"
		   ]
		  },
  {
"cell_type": "code",
	   "execution_count": null,
	   "metadata": {
	    "collapsed": true
	   },
	   "outputs": [],
"source": [
"//Caption:Determine low and high voltage outputs and resistance for desinging the gate circuit\n",
"//Ex10.1\n",
"clc;\n",
"clear;\n",
"close;\n",
"Vcc=5//Supply voltage(in volts)\n",
"Vf=0.7//Diode forward voltage(in volts)\n",
"I=0.5//Collector current(in mA)\n",
"Vce=0.2//Collector emitter voltage(in volts)\n",
"R=(Vcc-Vf-Vce)/I\n",
"Vl=Vce+Vf\n",
"Vh=Vcc\n",
"disp(R,Vh,Vl,'Low and high voltage outputs(in volts) and Required resistance(in kilo ohm)=')"
   ]
   }
,
{
		   "cell_type": "markdown",
		   "metadata": {},
		   "source": [
			"## Example 10.2: Find_minimum_value_of_the_resistance_to_design_OR_Gate.sce"
		   ]
		  },
  {
"cell_type": "code",
	   "execution_count": null,
	   "metadata": {
	    "collapsed": true
	   },
	   "outputs": [],
"source": [
"//Caption:Find minimum value of the resistance to design OR Gate\n",
"//Ex10.2\n",
"clc;\n",
"clear;\n",
"close;\n",
"Rc=3.3//Collector resistance(in kilo ohm)\n",
"V=3.5//Gate output voltage(in volts)\n",
"Vcc=5//Supply voltage(in volts)\n",
"Vf=0.7//Forward diode voltage(in volts)\n",
"I=(Vcc-Vf-V)/Rc\n",
"R=V/I\n",
"disp(R,'Minimum value of resistance to design the circuit is(in kilo ohm)=')"
   ]
   }
],
"metadata": {
		  "kernelspec": {
		   "display_name": "Scilab",
		   "language": "scilab",
		   "name": "scilab"
		  },
		  "language_info": {
		   "file_extension": ".sce",
		   "help_links": [
			{
			 "text": "MetaKernel Magics",
			 "url": "https://github.com/calysto/metakernel/blob/master/metakernel/magics/README.md"
			}
		   ],
		   "mimetype": "text/x-octave",
		   "name": "scilab",
		   "version": "0.7.1"
		  }
		 },
		 "nbformat": 4,
		 "nbformat_minor": 0
}
