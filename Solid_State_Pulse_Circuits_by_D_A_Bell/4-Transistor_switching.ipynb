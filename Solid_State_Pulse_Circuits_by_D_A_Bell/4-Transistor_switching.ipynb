{
"cells": [
 {
		   "cell_type": "markdown",
	   "metadata": {},
	   "source": [
       "# Chapter 4: Transistor switching"
	   ]
	},
{
		   "cell_type": "markdown",
		   "metadata": {},
		   "source": [
			"## Example 4.10: Determine_output_voltage.sce"
		   ]
		  },
  {
"cell_type": "code",
	   "execution_count": null,
	   "metadata": {
	    "collapsed": true
	   },
	   "outputs": [],
"source": [
"//Caption:Determine output voltage when (a)Device is cutoff (b)Device is switched on\n",
"//Ex4.10\n",
"clc;\n",
"clear;\n",
"close;\n",
"Idf=0.25//Drain current at cutoff(in ns)\n",
"rd=40//Drain resistance at switched on(in ohm)\n",
"Vdd=15//Drain voltage(in volts)\n",
"Rd=6.8//Drain resistance(in kilo ohm)\n",
"Vo=Vdd-(Idf*Rd*10^(-6))\n",
"disp(Vo,'Output voltage when device is cutoff(in volts)=')\n",
"Id=Vdd/Rd\n",
"Vo2=Id*rd\n",
"disp(Vo2,'Output voltage when device is switched on(in milli volts)=')"
   ]
   }
,
{
		   "cell_type": "markdown",
		   "metadata": {},
		   "source": [
			"## Example 4.1: hfe_for_changed_resistor.sce"
		   ]
		  },
  {
"cell_type": "code",
	   "execution_count": null,
	   "metadata": {
	    "collapsed": true
	   },
	   "outputs": [],
"source": [
"//Caption:Determine (a)hfe (b)hfe for changed resistor\n",
"//Ex4.1\n",
"clc;\n",
"clear;\n",
"close;\n",
"Ib=0.2//Base current(in mA)\n",
"Vcc=10//Collector voltage(in volts)\n",
"Rc1=1//Collector resistor(in kilo ohm)\n",
"Rc2=220//Changed collector resistor(in ohm)\n",
"Ic1=Vcc/Rc1\n",
"h1=Ic1/Ib\n",
"disp(h1,'(a)hfe=')\n",
"Ic2=Vcc*1000/Rc2\n",
"h2=Ic2/Ib\n",
"disp(h2,'(b)hfe for changed resistor=')"
   ]
   }
,
{
		   "cell_type": "markdown",
		   "metadata": {},
		   "source": [
			"## Example 4.2: Calculate_the_transistor_power_dissipation_at.sce"
		   ]
		  },
  {
"cell_type": "code",
	   "execution_count": null,
	   "metadata": {
	    "collapsed": true
	   },
	   "outputs": [],
"source": [
"//Caption:Calculate the transistor power dissipation at (a)Cutoff (b)Saturation (c)When Vce is 2V\n",
"//Ex4.2\n",
"clc;\n",
"clear;\n",
"close;\n",
"Vcc=10//Collector voltage(in volts)\n",
"Ic=50//Collector current(in nA)\n",
"Rc=1//Collector resistor(in kilo ohm)\n",
"Vs=0.2//Voltage of collector emitter junction at saturation(in volts)\n",
"Vce=2//Collector emitter voltage(in volts)\n",
"P1=Ic*Vcc/1000\n",
"disp(P1,'(a)Power dissipation at cutoff(in micro watt)=')\n",
"P2=(Vcc/Rc)*Vs\n",
"disp(P2,'(b)Power dissipation at saturation(in mW)=')\n",
"I=(Vcc-Vce)/Rc\n",
"P3=I*Vce\n",
"disp(P3,'(c)Power dissipation at given Vce(in mW)=')"
   ]
   }
,
{
		   "cell_type": "markdown",
		   "metadata": {},
		   "source": [
			"## Example 4.3: Before_input_pulse_is_applied.sce"
		   ]
		  },
  {
"cell_type": "code",
	   "execution_count": null,
	   "metadata": {
	    "collapsed": true
	   },
	   "outputs": [],
"source": [
"//Caption:Calculate Vce (a)Before input pulse is applied (b)at end of delay time (c)at end of turn on time (d)Total time \n",
"//Ex4.3\n",
"clc;\n",
"clear;\n",
"close;\n",
"Vcc=12//Collector voltage(in volts)\n",
"Rc=3.3//Collector resistor(in Kilo ohm)\n",
"pw=5//Pulse width of input voltage(in micro sec)\n",
"Ix=50//Collector cutoff current(in nA)\n",
"t=250//Switch off time(nA)\n",
"Vce=Vcc-(Ix*Rc*10^(-6))\n",
"disp(Vce,'(a)Collector emitter voltage before input pulse is applied(in volts)=')\n",
"Vce2=Vcc-(0.1*Vcc)\n",
"disp(Vce2,'(b)Collector emittter voltage at end of delay time(in volts)=')\n",
"Vce3=Vcc-(0.9*Vcc)\n",
"disp(Vce3,'(c)Collector emitter voltage at end of turn on time(in volts)=')\n",
"T=(t*10^(-3))+pw\n",
"disp(T,'(d)Total time from commencement of input to transistor switch off(in micro sec)=')"
   ]
   }
,
{
		   "cell_type": "markdown",
		   "metadata": {},
		   "source": [
			"## Example 4.4: Capacitance_that_can_give_max_turn_on_time.sce"
		   ]
		  },
  {
"cell_type": "code",
	   "execution_count": null,
	   "metadata": {
	    "collapsed": true
	   },
	   "outputs": [],
"source": [
"//Caption:Determine (a)Capacitance that can give max turn on time (b)Max frequency\n",
"//Ex4.4\n",
"clc;\n",
"clear;\n",
"close;\n",
"Rs=600//Source resistor(in ohm)\n",
"Rb=5.6//Base resistor(in kilo ohm)\n",
"t=70//Turn on time(in ns)\n",
"C=t*1000/(0.1*Rs)\n",
"disp(C,'(a)Required capacitance(in pF)=')\n",
"tre=2.3*Rb*C*10^(-3)\n",
"f=1000/(2*tre)\n",
"disp(f,'(b)Max Frequency(in Khz)=')"
   ]
   }
,
{
		   "cell_type": "markdown",
		   "metadata": {},
		   "source": [
			"## Example 4.5: Calculate_Rc_and_Rb.sce"
		   ]
		  },
  {
"cell_type": "code",
	   "execution_count": null,
	   "metadata": {
	    "collapsed": true
	   },
	   "outputs": [],
"source": [
"//Caption:Calculate Rc and Rb\n",
"//Ex4.5\n",
"clc;\n",
"clear;\n",
"close;\n",
"Vcc=12//Collector voltage(in volts)\n",
"V=3//Input voltage(in volts)\n",
"Ic=1//collector current(in mA)\n",
"Vce=0.2//Saturated collector emitter voltage(in volts)\n",
"hfe=70\n",
"Vbe=0.7//Base emitter voltage(in volts)\n",
"Rc=(Vcc-Vce)/Ic\n",
"Ib=Ic*1000/hfe\n",
"Rb=(V-Vbe)*1000/Ib\n",
"disp(Rb,Rc,'Rc and Rb(in kilo ohm)=')"
   ]
   }
,
{
		   "cell_type": "markdown",
		   "metadata": {},
		   "source": [
			"## Example 4.6: Determine_maximum_value_of_capacitor.sce"
		   ]
		  },
  {
"cell_type": "code",
	   "execution_count": null,
	   "metadata": {
	    "collapsed": true
	   },
	   "outputs": [],
"source": [
"//Caption:Determine maximum value of capacitor\n",
"//Ex4.6\n",
"clc;\n",
"clear;\n",
"close;\n",
"f=45//Frequency(in khz)\n",
"Rb=150//Base Resistor(in ohms)\n",
"t=1000/(2*f)\n",
"C=t*1000/(2.3*Rb)\n",
"disp(C,'Maxixmumvalue of capacitor(in pF)=')"
   ]
   }
,
{
		   "cell_type": "markdown",
		   "metadata": {},
		   "source": [
			"## Example 4.7: Design_a_transistor_by_determining_Rc.sce"
		   ]
		  },
  {
"cell_type": "code",
	   "execution_count": null,
	   "metadata": {
	    "collapsed": true
	   },
	   "outputs": [],
"source": [
"//Caption:Design a transistor by determining Rc,Rb and amplitude of output waveform\n",
"//Ex4.7\n",
"clc;\n",
"clear;\n",
"close;\n",
"E=10//Input voltage(in volts)\n",
"Vcc=15//Collector voltage(in volts)\n",
"R=100//Load resistance(in kilo ohm)\n",
"Vce=0.2//Saturted collector emitter voltage(in volts)\n",
"Vd=0.7//Diode forward voltage(in volts)\n",
"hfe=35\n",
"Vbe=0.7//Base emitter voltage(in volts)\n",
"Rc=R/10\n",
"Ic=(Vcc-Vce-Vd)/Rc\n",
"Ib=Ic/hfe\n",
"Rb=(E-Vbe-Vd)/Ib\n",
"Vmin=Vd+Vce\n",
"Vmax=(Vcc*R)/(R+Rc)\n",
"Vo=Vmax-Vmin\n",
"disp(Vo,Rb,Rc,'Rc,Rb(in kilo ohm),and amplitude of output waveform(in volts)=')"
   ]
   }
,
{
		   "cell_type": "markdown",
		   "metadata": {},
		   "source": [
			"## Example 4.8: Calculate_Rc_Rb_and_Cc.sce"
		   ]
		  },
  {
"cell_type": "code",
	   "execution_count": null,
	   "metadata": {
	    "collapsed": true
	   },
	   "outputs": [],
"source": [
"//Caption:Calculate Rc,Rb,and Cc\n",
"//Ex4.8\n",
"clc;\n",
"clear;\n",
"close;\n",
"Vcc=10//Collector voltage(in volts)\n",
"Vce=0.2//Saturated collector emitter voltage(in volts)\n",
"Ic=10//Collector current(in mA)\n",
"Vbe=0.7//Base emitter voltage(in volts)\n",
"hfe=100\n",
"Pw=1//Pulse width(in ms)\n",
"Vi=4//Input voltage(in volts)\n",
"Rc=(Vcc-Vce)*1000/Ic\n",
"Ib=Ic*1000/hfe\n",
"Rb=(Vcc-Vbe)*1000/Ib\n",
"Vb=Vi-Vbe-0.5\n",
"I=(Vcc+Vi)/Rb\n",
"Cc=I*Pw/Vb\n",
"disp(Cc,Rb,Rc,'Rc(in ohm),Rb(in kilo ohm),Cc(in micro farad)=')"
   ]
   }
,
{
		   "cell_type": "markdown",
		   "metadata": {},
		   "source": [
			"## Example 4.9: Determine_required_capacitance.sce"
		   ]
		  },
  {
"cell_type": "code",
	   "execution_count": null,
	   "metadata": {
	    "collapsed": true
	   },
	   "outputs": [],
"source": [
"//Caption:Determine required capacitance\n",
"//Ex4.9\n",
"clc;\n",
"clear;\n",
"close;\n",
"E=4//Input voltage(in volts)\n",
"Pw=1//Pulse width(in ms)\n",
"Rs=1//Source resistance(in kilo ohm)\n",
"Vce=0.2//Saturated Collector emitter voltage(in volts)\n",
"Rc=1//Collector resistance(in kilo ohm)\n",
"Vcc=10//Collector voltage(in volts)\n",
"hfe=100\n",
"Vbe=0.7//Base emitter voltage(in volts)\n",
"Rb=10//Base resistance(in kilo ohm)\n",
"Ic=(Vcc-Vce)/Rc\n",
"Ib=Ic*1000/hfe\n",
"Irb=Vbe*1000/Rb\n",
"ic=Ib+Irb\n",
"I=(E-Vbe)/Rs\n",
"C=Pw/(Rs*(log(I*1000/ic)))\n",
"disp(C,'Required capacitance(in micro farad)=')"
   ]
   }
],
"metadata": {
		  "kernelspec": {
		   "display_name": "Scilab",
		   "language": "scilab",
		   "name": "scilab"
		  },
		  "language_info": {
		   "file_extension": ".sce",
		   "help_links": [
			{
			 "text": "MetaKernel Magics",
			 "url": "https://github.com/calysto/metakernel/blob/master/metakernel/magics/README.md"
			}
		   ],
		   "mimetype": "text/x-octave",
		   "name": "scilab",
		   "version": "0.7.1"
		  }
		 },
		 "nbformat": 4,
		 "nbformat_minor": 0
}
