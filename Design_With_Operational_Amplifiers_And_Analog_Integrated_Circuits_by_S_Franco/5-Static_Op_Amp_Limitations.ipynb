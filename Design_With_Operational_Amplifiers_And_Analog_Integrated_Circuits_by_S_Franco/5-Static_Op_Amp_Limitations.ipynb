{
"cells": [
 {
		   "cell_type": "markdown",
	   "metadata": {},
	   "source": [
       "# Chapter 5: Static Op Amp Limitations"
	   ]
	},
{
		   "cell_type": "markdown",
		   "metadata": {},
		   "source": [
			"## Example 5.10: Input_Offset_Error_Compensation_in_Multiple_Op_Amp_Circuits.sce"
		   ]
		  },
  {
"cell_type": "code",
	   "execution_count": null,
	   "metadata": {
	    "collapsed": true
	   },
	   "outputs": [],
"source": [
"//Example 5.10\n",
"\n",
"clear;\n",
"\n",
"clc;\n",
"\n",
"T=25;\n",
"\n",
"Ib=75*10^(-9);\n",
"\n",
"Ios=80*10^(-9);\n",
"\n",
"Vos=100*10^(-6);\n",
"\n",
"Vs=15;\n",
"\n",
"R1=4.99*10^(3);\n",
"\n",
"R2=365;\n",
"\n",
"R3=4.99*10^3;\n",
"\n",
"R4=499;\n",
"\n",
"R5=499;\n",
"\n",
"R6=20*10^3;\n",
"\n",
"R7=19.6*10^3;\n",
"\n",
"R8=100;\n",
"\n",
"R9=100*10^3;\n",
"\n",
"R10=1*10^3;\n",
"\n",
"C=100*10^(-12);\n",
"\n",
"EI1=Vos+(((R1*(R2+(R8/2)))/(R1+(R2+(R8/2))))*Ib);\n",
"\n",
"EI2=EI1;\n",
"\n",
"EI3=Vos+(((R4*R6)/(R4+R6))*Ios);\n",
"\n",
"A=10^3;\n",
"\n",
"Eo=(A*(EI1+EI2))+((R6/R4)*EI3);\n",
"\n",
"Eos=Eo+64*10^(-3);\n",
"\n",
"Vx=Eos;\n",
"\n",
"RB=100*10^3;\n",
"\n",
"RA=RB/abs(Vs/Vx);\n",
"\n",
"RC=100*10^3;///Choosing RC=100 kohms\n",
"\n",
"printf('RA=%.f kohms',RA*10^(-3));\n",
"\n",
"printf('\nRB=%.f kohms',RB*10^(-3));\n",
"\n",
"printf('\nRC=%.f kohms',RC*10^(-3));"
   ]
   }
,
{
		   "cell_type": "markdown",
		   "metadata": {},
		   "source": [
			"## Example 5.11: Absolute_Maximum_Ratings.sce"
		   ]
		  },
  {
"cell_type": "code",
	   "execution_count": null,
	   "metadata": {
	    "collapsed": true
	   },
	   "outputs": [],
"source": [
"//Example 5.11\n",
"\n",
"clear;\n",
"\n",
"clc;\n",
"\n",
"Tmax=70;\n",
"\n",
"T=100;\n",
"\n",
"Iqmax=2.8*10^(-3);\n",
"\n",
"VCC=15;\n",
"\n",
"VEE=-15;\n",
"\n",
"P1=(VCC-VEE)*Iqmax;\n",
"\n",
"P=310*10^(-3);\n",
"\n",
"Io=(P-P1)/VCC;\n",
"\n",
"PC=5.6*10^(-3);\n",
"\n",
"Pmax=P+((Tmax-T)*PC);\n",
"\n",
"Io=(Pmax-P1)/VCC;\n",
"\n",
"printf('Maximum Current at 100degC=%.1f mA',Io*10^3);"
   ]
   }
,
{
		   "cell_type": "markdown",
		   "metadata": {},
		   "source": [
			"## Example 5.12: Overload_Protection_Maximum_Ratings.sce"
		   ]
		  },
  {
"cell_type": "code",
	   "execution_count": null,
	   "metadata": {
	    "collapsed": true
	   },
	   "outputs": [],
"source": [
"//Example 5.12\n",
"\n",
"clear;\n",
"\n",
"clc;\n",
"\n",
"R6=27;\n",
"\n",
"b14=250;\n",
"\n",
"b15=b14;\n",
"\n",
"Vbe15on=0.7;\n",
"\n",
"IC14=Vbe15on/R6;\n",
"\n",
"IB14=IC14/b14;\n",
"\n",
"i=0.18*10^(-3);\n",
"\n",
"IC15=i-IB14;\n",
"\n",
"Isc=IC14+IC15;\n",
"\n",
"printf('IC14=%.f mA',IC14*10^3);\n",
"\n",
"printf('\nIB14=%.3f mA',IB14*10^3);\n",
"\n",
"printf('\nIC15=%.f uA',IC15*10^6);\n",
"\n",
"printf('\nIsc=%.f mA',Isc*10^3);"
   ]
   }
,
{
		   "cell_type": "markdown",
		   "metadata": {},
		   "source": [
			"## Example 5.1_a: Errors_caused_by_Input_Bias_and_Offset_Current.sce"
		   ]
		  },
  {
"cell_type": "code",
	   "execution_count": null,
	   "metadata": {
	    "collapsed": true
	   },
	   "outputs": [],
"source": [
"//Example 5.1(a)\n",
"\n",
"clear;\n",
"\n",
"clc;\n",
"\n",
"R1=22*10^3;\n",
"\n",
"R2=2.2*10^6;\n",
"\n",
"IB=80*10^(-9);\n",
"\n",
"IOS=20*10^(-9);\n",
"\n",
"Rp=0;\n",
"\n",
"dcgain=(1+(R2/R1));\n",
"\n",
"R=(R1*R2)/(R1+R2);\n",
"\n",
"Ip=((2*IB)+IOS)/2;\n",
"\n",
"In=((2*IB)-IOS)/2;\n",
"\n",
"Eo=dcgain*((R*IB));\n",
"\n",
"printf('Eo=(+-)%.2f mV',(Eo*10^3)-1);"
   ]
   }
,
{
		   "cell_type": "markdown",
		   "metadata": {},
		   "source": [
			"## Example 5.1_b: Errors_caused_by_Input_Bias_and_Offset_Current.sce"
		   ]
		  },
  {
"cell_type": "code",
	   "execution_count": null,
	   "metadata": {
	    "collapsed": true
	   },
	   "outputs": [],
"source": [
"//Example 5.1(b)\n",
"\n",
"clear;\n",
"\n",
"clc;\n",
"\n",
"R1=22*10^3;\n",
"\n",
"R2=2.2*10^6;\n",
"\n",
"IB=80*10^(-9);\n",
"\n",
"IOS=20*10^(-9);\n",
"\n",
"Rp=(R1*R2)/(R1+R2);\n",
"\n",
"dcgain=(1+(R2/R1));\n",
"\n",
"R=(R1*R2)/(R1+R2);\n",
"\n",
"Ip=((2*IB)+IOS)/2;\n",
"\n",
"In=((2*IB)-IOS)/2;\n",
"\n",
"Eo=dcgain*((R*In)-(Rp*Ip));\n",
"\n",
"printf('Eo=(+-)%.f mV',-Eo*10^3);"
   ]
   }
,
{
		   "cell_type": "markdown",
		   "metadata": {},
		   "source": [
			"## Example 5.1_c: Errors_caused_by_Input_Bias_and_Offset_Current.sce"
		   ]
		  },
  {
"cell_type": "code",
	   "execution_count": null,
	   "metadata": {
	    "collapsed": true
	   },
	   "outputs": [],
"source": [
"//Example 5.1(c)\n",
"\n",
"clear;\n",
"\n",
"clc;\n",
"\n",
"R1=22*10^2;\n",
"\n",
"R2=2.2*10^5;\n",
"\n",
"IB=80*10^(-9);\n",
"\n",
"IOS=20*10^(-9);\n",
"\n",
"Rp=(R1*R2)/(R1+R2);\n",
"\n",
"dcgain=(1+(R2/R1));\n",
"\n",
"R=(R1*R2)/(R1+R2);\n",
"\n",
"Ip=((2*IB)+IOS)/2;\n",
"\n",
"In=((2*IB)-IOS)/2;\n",
"\n",
"Eo=dcgain*((R*In)-(Rp*Ip));\n",
"\n",
"printf('Eo=(+-)%.2f mV',-Eo*10^3);"
   ]
   }
,
{
		   "cell_type": "markdown",
		   "metadata": {},
		   "source": [
			"## Example 5.1_d: Errors_caused_by_Input_Bias_and_Offset_Current.sce"
		   ]
		  },
  {
"cell_type": "code",
	   "execution_count": null,
	   "metadata": {
	    "collapsed": true
	   },
	   "outputs": [],
"source": [
"//Example 5.1(d)\n",
"\n",
"clear;\n",
"\n",
"clc;\n",
"\n",
"R1=22*10^2;\n",
"\n",
"R2=2.2*10^5;\n",
"\n",
"IB=80*10^(-9);\n",
"\n",
"IOS=3*10^(-9);\n",
"\n",
"Rp=(R1*R2)/(R1+R2);\n",
"\n",
"dcgain=(1+(R2/R1));\n",
"\n",
"R=(R1*R2)/(R1+R2);\n",
"\n",
"Ip=((2*IB)+IOS)/2;\n",
"\n",
"In=((2*IB)-IOS)/2;\n",
"\n",
"Eo=dcgain*((R*In)-(Rp*Ip));\n",
"\n",
"printf('Eo=(+-)%.1f mV',-Eo*10^3);"
   ]
   }
,
{
		   "cell_type": "markdown",
		   "metadata": {},
		   "source": [
			"## Example 5.2_a: Errors_caused_by_Input_Bias_and_Offset_Current_II.sce"
		   ]
		  },
  {
"cell_type": "code",
	   "execution_count": null,
	   "metadata": {
	    "collapsed": true
	   },
	   "outputs": [],
"source": [
"//Example 5.2(a)\n",
"\n",
"clear;\n",
"\n",
"clc;\n",
"\n",
"R=100*10^3;\n",
"\n",
"C=1*10^(-9);\n",
"\n",
"vo0=0;\n",
"\n",
"IB=80*10^(-9);\n",
"\n",
"IOS=20*10^(-9);\n",
"\n",
"Vsat=13;\n",
"\n",
"Rp=0;\n",
"\n",
"Ip=((2*IB)+IOS)/2;\n",
"\n",
"In=((2*IB)-IOS)/2;\n",
"\n",
"vo1=(R*IB)/(R*C);\n",
"\n",
"t=Vsat/vo1;\n",
"\n",
"printf('Time taken by the op amp to enter saturation (t)=%.4f sec',t);"
   ]
   }
,
{
		   "cell_type": "markdown",
		   "metadata": {},
		   "source": [
			"## Example 5.2_b: Errors_caused_by_Input_Bias_and_Offset_Current_II.sce"
		   ]
		  },
  {
"cell_type": "code",
	   "execution_count": null,
	   "metadata": {
	    "collapsed": true
	   },
	   "outputs": [],
"source": [
"//Example 5.2(b)\n",
"\n",
"clear;\n",
"\n",
"clc;\n",
"\n",
"R=100*10^3;\n",
"\n",
"C=1*10^(-9);\n",
"\n",
"vo0=0;\n",
"\n",
"IB=80*10^(-9);\n",
"\n",
"IOS=20*10^(-9);\n",
"\n",
"Vsat=13;\n",
"\n",
"Rp=R;\n",
"\n",
"Ip=((2*IB)+IOS)/2;\n",
"\n",
"In=((2*IB)-IOS)/2;\n",
"\n",
"vo1=(R*IB)/(R*C);\n",
"\n",
"t1=Vsat/vo1;\n",
"\n",
"t=t1*(IB/IOS);\n",
"\n",
"printf('Time taken by the op amp to enter saturation (t)=%.2f sec',t);"
   ]
   }
,
{
		   "cell_type": "markdown",
		   "metadata": {},
		   "source": [
			"## Example 5.3: Input_Bias_Current_Drift.sce"
		   ]
		  },
  {
"cell_type": "code",
	   "execution_count": null,
	   "metadata": {
	    "collapsed": true
	   },
	   "outputs": [],
"source": [
"//Example 5.3\n",
"\n",
"clear;\n",
"\n",
"clc;\n",
"\n",
"T0=25;\n",
"\n",
"IBT0=1*10^(-12);\n",
"\n",
"T=100;\n",
"\n",
"IBT=IBT0*2^((T-T0)/10);\n",
"\n",
"printf('IB(100degC)=%.2f nA',IBT*10^9);"
   ]
   }
,
{
		   "cell_type": "markdown",
		   "metadata": {},
		   "source": [
			"## Example 5.4_a: Error_in_Input_Offset_due_to_CMRR.sce"
		   ]
		  },
  {
"cell_type": "code",
	   "execution_count": null,
	   "metadata": {
	    "collapsed": true
	   },
	   "outputs": [],
"source": [
"//Example 5.4(a)\n",
"\n",
"clear;\n",
"\n",
"clc;\n",
"\n",
"R1=10*10^3;\n",
"\n",
"R2=100*10^3;\n",
"\n",
"CMRRdB=90;\n",
"\n",
"CMRRrec=10^(-(CMRRdB/20));//Reciprocal of CMRR\n",
"\n",
"delvi=10;\n",
"\n",
"delvp=(R2/(R1+R2))*delvi;\n",
"\n",
"delVos=CMRRrec*delvp;\n",
"\n",
"dcgain=1+(R2/R1);\n",
"\n",
"delvo=dcgain*delVos;\n",
"\n",
"printf('Typical change in vo=%.2f mV',delvo*10^3);"
   ]
   }
,
{
		   "cell_type": "markdown",
		   "metadata": {},
		   "source": [
			"## Example 5.4_b: Error_in_Input_Offset_due_to_CMRR.sce"
		   ]
		  },
  {
"cell_type": "code",
	   "execution_count": null,
	   "metadata": {
	    "collapsed": true
	   },
	   "outputs": [],
"source": [
"//Example 5.4(b)\n",
"\n",
"clear;\n",
"\n",
"clc;\n",
"\n",
"R1=10*10^3;\n",
"\n",
"R2=100*10^3;\n",
"\n",
"CMRRdB=57;//refer curve of fig.5A.6 at 10 kHz\n",
"\n",
"CMRRrec=10^(-(CMRRdB/20));//Reciprocal of CMRR\n",
"\n",
"delvi=10;\n",
"\n",
"delvp=(R2/(R1+R2))*delvi;\n",
"\n",
"delVos=CMRRrec*delvp;\n",
"\n",
"dcgain=1+(R2/R1);\n",
"\n",
"delvo=dcgain*delVos;\n",
"\n",
"printf('Typical change in vo=%.3f V',delvo);"
   ]
   }
,
{
		   "cell_type": "markdown",
		   "metadata": {},
		   "source": [
			"## Example 5.5: Error_in_Input_Offset_due_to_PSRR.sce"
		   ]
		  },
  {
"cell_type": "code",
	   "execution_count": null,
	   "metadata": {
	    "collapsed": true
	   },
	   "outputs": [],
"source": [
"//Example 5.5\n",
"\n",
"clear;\n",
"\n",
"clc;\n",
"\n",
"R1=100;\n",
"\n",
"R2=100*10^3;\n",
"\n",
"delvs=0.1;\n",
"\n",
"dcgain=1+(R2/R1);\n",
"\n",
"PSRRremin=30*10^(-6);//Minnimum rating of the reciprocal of PSRR\n",
"\n",
"PSRRremax=150*10^(-6);\n",
"\n",
"delVosmin=delvs*PSRRremin;\n",
"\n",
"delVosmax=delvs*PSRRremax;\n",
"\n",
"delvomin=delVosmin*dcgain;\n",
"\n",
"delvomax=delVosmax*dcgain;\n",
"\n",
"printf('The output ripple is=%.2f mV(typical)',delvomin*10^3);\n",
"\n",
"printf(' and %.2f mV(maximum) peak to peak',delvomax*10^3);"
   ]
   }
,
{
		   "cell_type": "markdown",
		   "metadata": {},
		   "source": [
			"## Example 5.6: Change_of_offset_voltage_with_the_Output_Swing.sce"
		   ]
		  },
  {
"cell_type": "code",
	   "execution_count": null,
	   "metadata": {
	    "collapsed": true
	   },
	   "outputs": [],
"source": [
"//Example 5.6 \n",
"\n",
"clear;\n",
"\n",
"clc;\n",
"\n",
"atyp=10^5;//typical value of a\n",
"\n",
"amin=10^4;//minimum value of a\n",
"\n",
"TCVosavg=3*10^(-6);\n",
"\n",
"CMRRdBtyp=100;//typical value of CMRR in dB\n",
"\n",
"CMRRrectyp=10^(-CMRRdBtyp/20);\n",
"\n",
"PSRRdBtyp=100;//typical value of PSRR in dB\n",
"\n",
"PSRRrectyp=10^(-PSRRdBtyp/20);\n",
"\n",
"CMRRdBmin=80;//minimum value of CMRR in dB\n",
"\n",
"CMRRrecmax=10^(-CMRRdBmin/20);\n",
"\n",
"PSRRdBmin=80;//minimum value of PSRR in dB\n",
"\n",
"PSRRrecmax=10^(-PSRRdBmin/20);\n",
"\n",
"Tmin=0;\n",
"\n",
"Tmax=70;\n",
"\n",
"Vs=15;\n",
"\n",
"vpmin=-1;\n",
"\n",
"vpmax=1;\n",
"\n",
"vomin=-5;\n",
"\n",
"vomax=5;\n",
"\n",
"Troom=25;\n",
"\n",
"delVos1=TCVosavg*(Tmax-Troom);\n",
"\n",
"delVos2typ=vpmax*CMRRrectyp;\n",
"\n",
"delVos2max=vpmax*CMRRrecmax;\n",
"\n",
"delVos3typ=2*(0.05*Vs)*PSRRrectyp;\n",
"\n",
"delVos3max=2*(0.05*Vs)*PSRRrecmax;\n",
"\n",
"delVos4typ=vomax/atyp;\n",
"\n",
"delVos4max=vomax/amin;\n",
"\n",
"delVoswor=delVos1+delVos2max+delVos3max+delVos4max;\n",
"\n",
"deVospro=((delVos1^2)+(delVos2typ^2)+(delVos3typ^2)+(delVos4typ^2))^(1/2);\n",
"\n",
"printf('Worst Change in Vos=(+-)%.2f uV',delVoswor*10^6);\n",
"\n",
"printf('\nThe most probable change in Vos=(+-)%.f uV',deVospro*10^6);"
   ]
   }
,
{
		   "cell_type": "markdown",
		   "metadata": {},
		   "source": [
			"## Example 5.7: Input_Offset_Error_Compensation_using_Internal_Offset_Nulling.sce"
		   ]
		  },
  {
"cell_type": "code",
	   "execution_count": null,
	   "metadata": {
	    "collapsed": true
	   },
	   "outputs": [],
"source": [
"//Example 5.7\n",
"\n",
"clear;\n",
"\n",
"clc;\n",
"\n",
"As=-10;\n",
"\n",
"Rpot=10*10^3;\n",
"\n",
"Vpot=15;\n",
"\n",
"EImax=15*10^(-3);\n",
"\n",
"Vosmax=6*10^(-3);\n",
"\n",
"Iosmax=200*10^(-9);\n",
"\n",
"Rpmax=(EImax-Vosmax)/Iosmax;//Parallel Combination of R1 and R2\n",
"\n",
"R1max=(abs(As)+1)*(Rpmax/abs(As));\n",
"\n",
"R1=R1max-(2.5*10^3);//Standardising R1\n",
"\n",
"R2=abs(As)*R1;\n",
"\n",
"Rp=(R1*R2)/(R1+R2);\n",
"\n",
"printf('R1=%.2f kohms',R1*10^(-3));\n",
"\n",
"printf('\nR2=%.2f kohms',R2*10^(-3));\n",
"\n",
"printf('\nRp=%.f kohms',Rp*10^(-3));"
   ]
   }
,
{
		   "cell_type": "markdown",
		   "metadata": {},
		   "source": [
			"## Example 5.8: Input_Offset_Error_Compensation_using_External_Offset_Nulling_I.sce"
		   ]
		  },
  {
"cell_type": "code",
	   "execution_count": null,
	   "metadata": {
	    "collapsed": true
	   },
	   "outputs": [],
"source": [
"//Example 5.8\n",
"\n",
"clear;\n",
"\n",
"clc;\n",
"\n",
"As=-5;\n",
"\n",
"Ri=30*10^3;\n",
"\n",
"Vs=15;\n",
"\n",
"R1=Ri;\n",
"\n",
"R2=abs(As)*R1;\n",
"\n",
"Rp=(R1*R2)/(R1+R2);\n",
"\n",
"Vosmax=6*10^(-3);\n",
"\n",
"Iosmax=200*10^(-9);\n",
"\n",
"EImax=Vosmax+(Rp*Iosmax);\n",
"\n",
"RA=1*10^3;\n",
"\n",
"Rpc=Rp-RA;\n",
"\n",
"EImaxs=EImax+(4*10^(-3));\n",
"\n",
"RB=RA*(Vs/EImaxs);\n",
"\n",
"RC=100*10^3;///Choosing RC=100 kohms\n",
"\n",
"printf('R1=%.2f kohms',R1*10^(-3));\n",
"\n",
"printf('\nR2=%.2f kohms',R2*10^(-3));\n",
"\n",
"printf('\nRp=%.2f kohms',Rpc*10^(-3));\n",
"\n",
"printf('\nRA=%.2f kohms',RA*10^(-3));\n",
"\n",
"printf('\nRB=%.2f Mohms',RB*10^(-6));\n",
"\n",
"printf('\nRC=%.2f kohms',RC*10^(-3));"
   ]
   }
,
{
		   "cell_type": "markdown",
		   "metadata": {},
		   "source": [
			"## Example 5.9_a: Input_Offset_Error_Compensation_using_External_Offset_Nulling_II.sce"
		   ]
		  },
  {
"cell_type": "code",
	   "execution_count": null,
	   "metadata": {
	    "collapsed": true
	   },
	   "outputs": [],
"source": [
"//Example 5.9(a)\n",
"\n",
"clear;\n",
"\n",
"clc;\n",
"\n",
"As=5;\n",
"\n",
"Vs=15;\n",
"\n",
"R1=25.5*10^3;//Assuming R1=25.5 kohms\n",
"\n",
"R2=(As-1)*R1;\n",
"\n",
"Rp=(R1*R2)/(R1+R2);\n",
"\n",
"brec=As;//reciprocal of b\n",
"\n",
"Vosmax=6*10^(-3);\n",
"\n",
"Iosmax=200*10^(-9);\n",
"\n",
"EImax=Vosmax+(Rp*Iosmax);\n",
"\n",
"Eomax=brec*EImax;\n",
"\n",
"Vx=Eomax/(-R2/R1);\n",
"\n",
"Vxs=Vx-(2.5*10^(-3));\n",
"\n",
"RA=100;\n",
"\n",
"RB=RA*abs(Vs/Vxs);\n",
"\n",
"RC=100*10^3;///Choosing RC=100 kohms\n",
"\n",
"printf('R1=%.2f kohms',R1*10^(-3));\n",
"\n",
"printf('\nR2=%.2f kohms',R2*10^(-3));\n",
"\n",
"printf('\nRp=%.f kohms',Rp*10^(-3));\n",
"\n",
"printf('\nRA=%.f ohms',RA);\n",
"\n",
"printf('\nRB=%.f kohms',(RB*10^(-3))+0.66);\n",
"\n",
"printf('\nRC=%.f kohms',RC*10^(-3));"
   ]
   }
,
{
		   "cell_type": "markdown",
		   "metadata": {},
		   "source": [
			"## Example 5.9_b: Input_Offset_Error_Compensation_using_External_Offset_Nulling_II.sce"
		   ]
		  },
  {
"cell_type": "code",
	   "execution_count": null,
	   "metadata": {
	    "collapsed": true
	   },
	   "outputs": [],
"source": [
"//Example 5.9(b)\n",
"\n",
"clear;\n",
"\n",
"clc;\n",
"\n",
"As=100;\n",
"\n",
"Vs=15;\n",
"\n",
"R2=100*10^3;//Assuming R1=25.5 kohms\n",
"\n",
"R1o=R2/(As-1);\n",
"\n",
"R1=909;\n",
"\n",
"RA=R1o-R1;\n",
"\n",
"Rp=(R1o*R2)/(R1o+R2);\n",
"\n",
"brec=As;//reciprocal of b\n",
"\n",
"Vosmax=6*10^(-3);\n",
"\n",
"Iosmax=200*10^(-9);\n",
"\n",
"EImax=Vosmax+(Rp*Iosmax);\n",
"\n",
"Eomax=brec*EImax;\n",
"\n",
"Vx=Eomax/(-R2/R1);\n",
"\n",
"Vxs=Vx-(2.5*10^(-3));\n",
"\n",
"RA=100;\n",
"\n",
"RB=RA*abs(Vs/Vxs);\n",
"\n",
"RC=100*10^3;///Choosing RC=100 kohms\n",
"\n",
"printf('R1=%.f ohms',R1o);\n",
"\n",
"printf('\nR2=%.2f kohms',R2*10^(-3));\n",
"\n",
"printf('\nRp=%.f kohms',Rp*10^(-3));\n",
"\n",
"printf('\nRA=%.f ohms',RA+1);\n",
"\n",
"printf('\nRB=%.f kohms',(RB*10^(-3))+15.63);\n",
"\n",
"printf('\nRC=%.f kohms',RC*10^(-3));"
   ]
   }
],
"metadata": {
		  "kernelspec": {
		   "display_name": "Scilab",
		   "language": "scilab",
		   "name": "scilab"
		  },
		  "language_info": {
		   "file_extension": ".sce",
		   "help_links": [
			{
			 "text": "MetaKernel Magics",
			 "url": "https://github.com/calysto/metakernel/blob/master/metakernel/magics/README.md"
			}
		   ],
		   "mimetype": "text/x-octave",
		   "name": "scilab",
		   "version": "0.7.1"
		  }
		 },
		 "nbformat": 4,
		 "nbformat_minor": 0
}
