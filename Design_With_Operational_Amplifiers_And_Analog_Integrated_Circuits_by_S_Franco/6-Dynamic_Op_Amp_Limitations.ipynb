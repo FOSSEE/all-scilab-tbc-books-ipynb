{
"cells": [
 {
		   "cell_type": "markdown",
	   "metadata": {},
	   "source": [
       "# Chapter 6: Dynamic Op Amp Limitations"
	   ]
	},
{
		   "cell_type": "markdown",
		   "metadata": {},
		   "source": [
			"## Example 6.10_b: Biquad_Filter_with_Phase_Compensation.sce"
		   ]
		  },
  {
"cell_type": "code",
	   "execution_count": null,
	   "metadata": {
	    "collapsed": true
	   },
	   "outputs": [],
"source": [
"//Example 6.10(b)\n",
"\n",
"clear;\n",
"\n",
"clc;\n",
"\n",
"f0=10*10^3;\n",
"\n",
"Q=25;\n",
"\n",
"HobpdB=0;\n",
"\n",
"R1=10*10^3;//Assumption\n",
"\n",
"R2=R1;//Assumption\n",
"\n",
"R5=R1;//Assumption\n",
"\n",
"R6=R1;//Assumption\n",
"\n",
"R3=250*10^3;//Assumption\n",
"\n",
"R4=R3;//Assumption\n",
"\n",
"C1=1/(2*%pi*f0*R5);//Assumption\n",
"\n",
"C2=C1;//Assumption\n",
"\n",
"f0reler=0.01;//as relative error defined for f0=1%\n",
"\n",
"Qreler=0.01\n",
"\n",
"ftf0=f0/f0reler;\n",
"\n",
"ftQ=(4*Q*f0)/Qreler;\n",
"\n",
"ft=1*10^6;\n",
"\n",
"//Changing the component values using Phase Compensation\n",
"\n",
"ch=f0/ft;\n",
"\n",
"C1new=C1-(C1*ch);\n",
"\n",
"C2new=C1new;\n",
"\n",
"printf('Designed Biquad Filter :')\n",
"\n",
"printf('\nR1=R2=R5=R6=%.2f kohms',R1*10^(-3));\n",
"\n",
"printf('\nR3=R4=%.2f kohms',R4*10^(-3));\n",
"\n",
"printf('\nC1=C2=%.3f nF',C1new*10^9);"
   ]
   }
,
{
		   "cell_type": "markdown",
		   "metadata": {},
		   "source": [
			"## Example 6.11: Effect_of_finite_GBP_on_first_order_filter.sce"
		   ]
		  },
  {
"cell_type": "code",
	   "execution_count": null,
	   "metadata": {
	    "collapsed": true
	   },
	   "outputs": [],
"source": [
"//Example 6.11\n",
"\n",
"clear;\n",
"\n",
"clc;\n",
"\n",
"C=(5/%pi)*10^(-9);\n",
"\n",
"R1=10*10^3;\n",
"\n",
"R2=30*10^3;\n",
"\n",
"GBP=1*10^6;\n",
"\n",
"Hreler=0.01;//Departure of H from Hideal\n",
"\n",
"ft=1*10^6;\n",
"\n",
"fx=ft/(1+(R2/R1));\n",
"\n",
"fmax=((1/((1-Hreler)^2)-1)^(1/2))*fx;\n",
"\n",
"f0=1/(2*%pi*R1*C);\n",
"\n",
"fmin3dB=(1/((1/(f0^2))-(1/(fx^2))-(1/((f0^2)*(fx^2)))))^(1/2);//f(-3dB)\n",
"\n",
"f3dBer=((fmin3dB-f0)/fmin3dB)*100;\n",
"\n",
"printf('Percentage Deviation of cut off frequency=%.2f',f3dBer*2);"
   ]
   }
,
{
		   "cell_type": "markdown",
		   "metadata": {},
		   "source": [
			"## Example 6.12: Effect_of_finite_GBP_on_second_order_filter.sce"
		   ]
		  },
  {
"cell_type": "code",
	   "execution_count": null,
	   "metadata": {
	    "collapsed": true
	   },
	   "outputs": [],
"source": [
"//Example 6.12\n",
"\n",
"clear;\n",
"\n",
"clc;\n",
"\n",
"C=10*10^(-9);\n",
"\n",
"H0bpdB=0;\n",
"\n",
"f0=10*10^3;\n",
"\n",
"Q=10;\n",
"\n",
"H0bp=10^(H0bpdB/20);\n",
"\n",
"R1=Q/(2*%pi*f0*C*H0bp);\n",
"\n",
"R2=(R1/((2*(Q^2))/(H0bp)))-1;\n",
"\n",
"R3=(2*Q)/(2*%pi*f0*C);\n",
"\n",
"BW=f0/Q;\n",
"\n",
"BWer=0.01;//BW deviation from its design value is 1%\n",
"\n",
"GBPmin=(2*Q*f0)/BWer;\n",
"\n",
"printf('Components for the mentioned circuit :');\n",
"\n",
"printf('\nR1=%.2f kohms',R1*10^(-3));\n",
"\n",
"printf('\nR2=%.2f ohms',R2);\n",
"\n",
"printf('\nR3=%.2f kohms',R3*10^(-3));\n",
"\n",
"printf('\nGBP>=%.2f MHz',GBPmin*10^(-6));"
   ]
   }
,
{
		   "cell_type": "markdown",
		   "metadata": {},
		   "source": [
			"## Example 6.14: Parameters_for_Current_Feedback_Amplifier.sce"
		   ]
		  },
  {
"cell_type": "code",
	   "execution_count": null,
	   "metadata": {
	    "collapsed": true
	   },
	   "outputs": [],
"source": [
"//Example 6.14\n",
"\n",
"clear;\n",
"\n",
"clc;\n",
"\n",
"zo=0.71*10^6;\n",
"\n",
"Req=zo;\n",
"\n",
"fb=350*10^3;\n",
"\n",
"Ceq=1/(2*%pi*Req*fb);\n",
"\n",
"vo=5;\n",
"\n",
"iN=vo/Req;\n",
"\n",
"printf('Ceq=%.2f pF',Ceq*10^12);\n",
"\n",
"printf('\niN=%.2f uA',iN*10^6);"
   ]
   }
,
{
		   "cell_type": "markdown",
		   "metadata": {},
		   "source": [
			"## Example 6.15: Current_Feedback_Amplifier_Dynamics.sce"
		   ]
		  },
  {
"cell_type": "code",
	   "execution_count": null,
	   "metadata": {
	    "collapsed": true
	   },
	   "outputs": [],
"source": [
"//Example 6.15\n",
"\n",
"clear;\n",
"\n",
"clc;\n",
"\n",
"ft=100*10^6;\n",
"\n",
"brec=1.5*10^3;\n",
"\n",
"R2=1.5*10^3;\n",
"\n",
"rn=50;\n",
"\n",
"A01=1;\n",
"\n",
"A02=10;\n",
"\n",
"A03=100;\n",
"\n",
"//R11=R2/(A01-1) ->R1=infinity\n",
"\n",
"R12=R2/(A02-1);\n",
"\n",
"R13=R2/(A03-1);\n",
"\n",
"fB1=ft/(1+(A01/30));\n",
"\n",
"fB2=ft/(1+(A02/30));\n",
"\n",
"fB3=ft/(1+(A03/30));\n",
"\n",
"tR1=2.2/(2*%pi*fB1);\n",
"\n",
"tR2=2.2/(2*%pi*fB2);\n",
"\n",
"tR3=2.2/(2*%pi*fB3);\n",
"\n",
"printf('Values of R1, fB and tR for A0=1 :')\n",
"\n",
"printf('\nR1=infinity');\n",
"\n",
"printf('\nfB=%.2f MHz',fB1*10^(-6));\n",
"\n",
"printf('\ntR=%.2f nS',tR1*10^9);\n",
"\n",
"printf('\n\nValues of R1, fB and tR for A0=10 :')\n",
"\n",
"printf('\nR1=%.2f ohms',R12);\n",
"\n",
"printf('\nfB=%.2f MHz',fB2*10^(-6));\n",
"\n",
"printf('\ntR=%.2f nS',tR2*10^9);\n",
"\n",
"printf('\n\nValues of R1, fB and tR for A0=100 :')\n",
"\n",
"printf('\nR1=%.2f ohms',R13);\n",
"\n",
"printf('\nfB=%.2f MHz',fB3*10^(-6));\n",
"\n",
"printf('\ntR=%.2f nS',tR3*10^9);"
   ]
   }
,
{
		   "cell_type": "markdown",
		   "metadata": {},
		   "source": [
			"## Example 6.16: Compensation_of_B_W_Reduction_in_Current_Feedback_Amplifier.sce"
		   ]
		  },
  {
"cell_type": "code",
	   "execution_count": null,
	   "metadata": {
	    "collapsed": true
	   },
	   "outputs": [],
"source": [
"//Example 6.16\n",
"\n",
"clear;\n",
"\n",
"clc;\n",
"\n",
"A0=10;\n",
"\n",
"fB=100*10^6;\n",
"\n",
"brec=1.5*10^3;\n",
"\n",
"rn=50;\n",
"\n",
"R2=brec-(rn*A0);\n",
"\n",
"R1=R2/(A0-1);\n",
"\n",
"printf('(a) Redisigned Current Feedback Amplifier of Example 6.15 :');\n",
"\n",
"printf('\n    R1=%.f ohms',R1);\n",
"\n",
"printf('\n    R2=%.2f kohms',R2*10^(-3));\n",
"\n",
"z0=0.75*10^6;\n",
"\n",
"T0=(1/brec)*z0;\n",
"\n",
"epsilon=-100/T0;\n",
"\n",
"printf('\n\n(b) Percentage dc gain error=%.1f',epsilon);"
   ]
   }
,
{
		   "cell_type": "markdown",
		   "metadata": {},
		   "source": [
			"## Example 6.1_a: Closed_Loop_Response_of_Non_Inverting_Amplifier.sce"
		   ]
		  },
  {
"cell_type": "code",
	   "execution_count": null,
	   "metadata": {
	    "collapsed": true
	   },
	   "outputs": [],
"source": [
"//Example 6.1(a)\n",
"\n",
"clear;\n",
"\n",
"clc;\n",
"\n",
"R1=2*10^3;\n",
"\n",
"R2=18*10^3;\n",
"\n",
"b=0.1;\n",
"\n",
"fb=100*10^3;\n",
"\n",
"emmax=0.01;\n",
"\n",
"fmax=((((1/(1-emmax))^2)-1)*(fb^2))^(1/2);\n",
"\n",
"printf('f<=%.1f kHz',fmax*10^(-3));"
   ]
   }
,
{
		   "cell_type": "markdown",
		   "metadata": {},
		   "source": [
			"## Example 6.1_b: Closed_Loop_Response_of_Non_Inverting_Amplifier.sce"
		   ]
		  },
  {
"cell_type": "code",
	   "execution_count": null,
	   "metadata": {
	    "collapsed": true
	   },
	   "outputs": [],
"source": [
"//Example 6.1(b)\n",
"\n",
"clear;\n",
"\n",
"clc;\n",
"\n",
"R1=2*10^3;\n",
"\n",
"R2=18*10^3;\n",
"\n",
"b=0.1;\n",
"\n",
"fb=100*10^3;\n",
"\n",
"efimax=5;\n",
"\n",
"fmax=tan(efimax*%pi/180)*fb;\n",
"\n",
"printf('f<=%.2f kHz',fmax*10^(-3));"
   ]
   }
,
{
		   "cell_type": "markdown",
		   "metadata": {},
		   "source": [
			"## Example 6.2_a: Gain_Bandwidth_Tradeoff.sce"
		   ]
		  },
  {
"cell_type": "code",
	   "execution_count": null,
	   "metadata": {
	    "collapsed": true
	   },
	   "outputs": [],
"source": [
"//Chapter-6\n",
"//Page No.-265\n",
"//Example 6.2(a)\n",
"//Gain Bandwidth Tradeoff\n",
"\n",
"A0dB=60;\n",
"\n",
"A0=10^(A0dB/20);\n",
"\n",
"ft=10^6;\n",
"\n",
"fb=ft/A0;\n",
"\n",
"A10=A0^(1/2);\n",
"\n",
"A20=A10;\n",
"\n",
"fb1=ft/A10;\n",
"\n",
"fb2=fb1;\n",
"\n",
"R1=1*10^3;\n",
"\n",
"R2=(A10-1)*R1;\n",
"\n",
"printf('Designed Audio Amplifier :');\n",
"\n",
"printf('\nOperational Amplifier-1 :');\n",
"\n",
"printf('\nR1=%.2f kohms',R1*10^(-3));\n",
"\n",
"printf('\nR2=%.1f kohms',(R2*10^(-3))+0.3);\n",
"\n",
"printf('\n\nOperational Amplifier-2 :');\n",
"\n",
"printf('\nR1=%.2f kohms',R1*10^(-3));\n",
"\n",
"printf('\nR2=%.1f kohms',(R2*10^(-3))+0.3);"
   ]
   }
,
{
		   "cell_type": "markdown",
		   "metadata": {},
		   "source": [
			"## Example 6.2_b: Gain_Bandwidth_Tradeoff.sce"
		   ]
		  },
  {
"cell_type": "code",
	   "execution_count": null,
	   "metadata": {
	    "collapsed": true
	   },
	   "outputs": [],
"source": [
"//Example 6.2(b)\n",
"\n",
"clear;\n",
"\n",
"clc;\n",
"\n",
"A0dB=60;\n",
"\n",
"A0=10^(A0dB/20);\n",
"\n",
"ft=10^6;\n",
"\n",
"fb=ft/A0;\n",
"\n",
"A10=A0^(1/2);\n",
"\n",
"A20=A10;\n",
"\n",
"fb1=ft/A10;\n",
"\n",
"fb2=fb1;\n",
"\n",
"f1=1+(%s/fb1);\n",
"\n",
"A1=A10*(1/f1);\n",
"\n",
"y1=syslin('c',A1);\n",
"\n",
"\n",
"f2=1+(%s/fb);\n",
"\n",
"A=A0*(1/f2);\n",
"\n",
"y2=syslin('c',A);\n",
"\n",
"gainplot([y1;y2],10,10^6,['|A1|';'|A|']);"
   ]
   }
,
{
		   "cell_type": "markdown",
		   "metadata": {},
		   "source": [
			"## Example 6.2_c: Gain_Bandwidth_Tradeoff.sce"
		   ]
		  },
  {
"cell_type": "code",
	   "execution_count": null,
	   "metadata": {
	    "collapsed": true
	   },
	   "outputs": [],
"source": [
"//Example 6.2(c)\n",
"\n",
"clear;\n",
"\n",
"clc;\n",
"\n",
"A0dB=60;\n",
"\n",
"A0=10^(A0dB/20);\n",
"\n",
"ft=10^6;\n",
"\n",
"fb=ft/A0;\n",
"\n",
"A10=A0^(1/2);\n",
"\n",
"A20=A10;\n",
"\n",
"fb1=ft/A10;\n",
"\n",
"fb2=fb1;\n",
"\n",
"f1=1+(%s/fb1);\n",
"\n",
"A1=A10*(1/f1);\n",
"\n",
"fB=(((((A10^2)*(2^(0.5)))/A0)-1)^(1/2))*fb1;\n",
"\n",
"printf('Actual Bandwidth (fB)=%.2f kHz',fB*10^(-3));"
   ]
   }
,
{
		   "cell_type": "markdown",
		   "metadata": {},
		   "source": [
			"## Example 6.4: Input_Impedance_of_Series_Topology.sce"
		   ]
		  },
  {
"cell_type": "code",
	   "execution_count": null,
	   "metadata": {
	    "collapsed": true
	   },
	   "outputs": [],
"source": [
"//Example 6.4\n",
"\n",
"clear;\n",
"\n",
"clc;\n",
"\n",
"rd=1*10^6;\n",
"\n",
"rc=1*10^9;\n",
"\n",
"a0=10^5;\n",
"\n",
"ro=100;\n",
"\n",
"ft=1*10^6;\n",
"\n",
"R1=2*10^3;\n",
"\n",
"R2=18*10^3;\n",
"\n",
"b=R1/(R1+R2);\n",
"\n",
"fB=b*ft;\n",
"\n",
"Rs=rd;\n",
"\n",
"Rd=rd*(1+(a0*b));\n",
"\n",
"Rp=((2*rc)*Rd)/((2*rc)+Rd);\n",
"\n",
"Ceq=1/(2*%pi*fB*rd);\n",
"\n",
"f1=(Rs/Rp)*fB;\n",
"\n",
"printf('Element Values in the Equivalent Circuit of Zi :');\n",
"\n",
"printf('\nRs=%.2f Mohms',Rs*10^(-6));\n",
"\n",
"printf('\nRp=%.2f Gohms',Rp*10^(-9));\n",
"\n",
"printf('\nCeq=%.2f pF',Ceq*10^12);\n",
"\n",
"printf('\n\nBreakpoint Frequencies of Magnitude Plot :');\n",
"\n",
"printf('\nfB=%.2f kHz',fB*10^(-3));\n",
"\n",
"printf('\nf1=%.2f Hz',f1);"
   ]
   }
,
{
		   "cell_type": "markdown",
		   "metadata": {},
		   "source": [
			"## Example 6.5: Output_Impedance_of_Shunt_Topology.sce"
		   ]
		  },
  {
"cell_type": "code",
	   "execution_count": null,
	   "metadata": {
	    "collapsed": true
	   },
	   "outputs": [],
"source": [
"//Example 6.5\n",
"\n",
"clear;\n",
"\n",
"clc;\n",
"\n",
"rd=1*10^6;\n",
"\n",
"rc=1*10^9;\n",
"\n",
"a0=10^5;\n",
"\n",
"ro=100;\n",
"\n",
"ft=1*10^6;\n",
"\n",
"R1=2*10^3;\n",
"\n",
"R2=18*10^3;\n",
"\n",
"b=R1/(R1+R2);\n",
"\n",
"fb=ft/a0;\n",
"\n",
"fB=b*ft;\n",
"\n",
"Rp=ro;\n",
"\n",
"Rs=ro/(1+(a0*b));\n",
"\n",
"Leq=ro/(2*%pi*fB);\n",
"\n",
"printf('Element Values in the Equivalent Circuit of Zo :');\n",
"\n",
"printf('\nRs=%.f mohms',Rs*10^(3));\n",
"\n",
"printf('\nRp=%.2f ohms',Rp);\n",
"\n",
"printf('\nLeq=%.f uH',Leq*10^6);\n",
"\n",
"printf('\n\nBreakpoint Frequencies of Magnitude Plot :');\n",
"\n",
"printf('\nfb=%.2f Hz',fb);\n",
"\n",
"printf('\nft=%.2f MHz',ft*10^(-6));"
   ]
   }
,
{
		   "cell_type": "markdown",
		   "metadata": {},
		   "source": [
			"## Example 6.6_a: Finding_Gain_Zi_and_Zo_for_High_Sensitivty_I_V_Converter.sce"
		   ]
		  },
  {
"cell_type": "code",
	   "execution_count": null,
	   "metadata": {
	    "collapsed": true
	   },
	   "outputs": [],
"source": [
"//Example 6.6(a)\n",
"\n",
"clear;\n",
"\n",
"clc;\n",
"\n",
"R=100*10^3;\n",
"\n",
"R1=2*10^3;\n",
"\n",
"R2=18*10^3;\n",
"\n",
"b=R1/(R1+R2);\n",
"\n",
"A0=-(1+(R2/R1))*R;\n",
"\n",
"a0=2*10^5;\n",
"\n",
"ft=1*10^6;\n",
"\n",
"ro=100;\n",
"\n",
"fB=b*ft;\n",
"\n",
"Ri=[R+((R1*R2)/(R1+R2))]/(1+(a0*b));\n",
"\n",
"Ro=ro/(1+(a0*b));\n",
"\n",
"fb=ft/a0;\n",
"\n",
"printf('A(jf)=(%d V/A)',A0);\n",
"\n",
"printf('/(1+(jf/%.d))',fB);\n",
"\n",
"printf('\nZi(jf)=%.d',Ri);\n",
"\n",
"printf('*(1+j(f/%.d))',fb);\n",
"\n",
"printf('/(1+(jf/%.d)) ohms',fB);\n",
"\n",
"printf('\nZo(jf)=%.d',Ro*10^3);\n",
"\n",
"printf('*(1+j(f/%.d))',fb);\n",
"\n",
"printf('/(1+(jf/%.d)) mohms',fB);"
   ]
   }
,
{
		   "cell_type": "markdown",
		   "metadata": {},
		   "source": [
			"## Example 6.7_a: Effect_of_Slew_Rate_Limiting.sce"
		   ]
		  },
  {
"cell_type": "code",
	   "execution_count": null,
	   "metadata": {
	    "collapsed": true
	   },
	   "outputs": [],
"source": [
"//Example 6.7(a)\n",
"\n",
"clear;\n",
"\n",
"clc;\n",
"\n",
"IA=19.6*10^(-6);\n",
"\n",
"Cc=30*10^(-12);\n",
"\n",
"SR=0.633*10^6;\n",
"\n",
"R1=3*10^3;\n",
"\n",
"R2=12*10^3;\n",
"\n",
"A0=-(R2/R1);\n",
"\n",
"b=R1/(R1+R2);\n",
"\n",
"a0=2*10^5;\n",
"\n",
"ft=1*10^6;\n",
"\n",
"ro=100;\n",
"\n",
"Vim=-0.5;\n",
"\n",
"tau=1/(2*%pi*b*ft);\n",
"\n",
"Vomcrit=SR*tau;\n",
"\n",
"Voinf=A0*Vim;\n",
"\n",
"V1=Voinf-Vomcrit;\n",
"\n",
"t=[0:2*10^(-8):7*10^(-6)];\n",
"\n",
"t1=V1/SR;\n",
"\n",
"t12=[0:2*10^(-8):tau]\n",
"\n",
"vo3=0;\n",
"\n",
"plot(t12,vo3);\n",
"\n",
"t11=[tau:2*10^(-8):t1+tau];\n",
"\n",
"vo1=SR*(t11-tau);\n",
"\n",
"t22=[t1+tau:2*10^(-8):7*10^(-6)];\n",
"\n",
"vo2=Voinf+((V1-Voinf)*exp(-(t22-t1-tau)/tau));\n",
"\n",
"plot(t11,vo1);\n",
"\n",
"plot(t22,vo2);\n",
"\n",
"xlabel('time(t)','fontsize', 6);\n",
"\n",
"ylabel('vo(t)','fontsize', 6);\n",
"\n",
"title('Step Response of the Circuit','fontsize', 8);"
   ]
   }
,
{
		   "cell_type": "markdown",
		   "metadata": {},
		   "source": [
			"## Example 6.8_a: Full_Power_Bandwidth.sce"
		   ]
		  },
  {
"cell_type": "code",
	   "execution_count": null,
	   "metadata": {
	    "collapsed": true
	   },
	   "outputs": [],
"source": [
"//Example 6.8(a)\n",
"\n",
"clear;\n",
"\n",
"clc;\n",
"\n",
"Vs=15;\n",
"\n",
"A=10;\n",
"\n",
"Vim=0.5;\n",
"\n",
"SR=0.5*10^6;\n",
"\n",
"Vom=A*Vim;\n",
"\n",
"fmax=SR/(2*%pi*Vom);\n",
"\n",
"printf('fmax=%.f kHz',fmax*10^(-3));"
   ]
   }
,
{
		   "cell_type": "markdown",
		   "metadata": {},
		   "source": [
			"## Example 6.8_b: Full_Power_Bandwidth.sce"
		   ]
		  },
  {
"cell_type": "code",
	   "execution_count": null,
	   "metadata": {
	    "collapsed": true
	   },
	   "outputs": [],
"source": [
"//Example 6.8(b)\n",
"\n",
"clear;\n",
"\n",
"clc;\n",
"\n",
"Vs=15;\n",
"\n",
"A=10;\n",
"\n",
"f=10*10^3;\n",
"\n",
"SR=0.5*10^6;\n",
"\n",
"Vommax=SR/(2*%pi*f);\n",
"\n",
"Vimmax=Vommax/A;\n",
"\n",
"printf('Maximum Value of Vim before the output distorts=%.3f V',Vimmax);"
   ]
   }
,
{
		   "cell_type": "markdown",
		   "metadata": {},
		   "source": [
			"## Example 6.8_c: Full_Power_Bandwidth.sce"
		   ]
		  },
  {
"cell_type": "code",
	   "execution_count": null,
	   "metadata": {
	    "collapsed": true
	   },
	   "outputs": [],
"source": [
"//Example 6.8(c)\n",
"\n",
"clear;\n",
"\n",
"clc;\n",
"\n",
"Vs=15;\n",
"\n",
"A=10;\n",
"\n",
"Vim=40*10^(-3);\n",
"\n",
"SR=0.5*10^6;\n",
"\n",
"fmax=SR/(2*%pi*Vim*A);\n",
"\n",
"ft=1*10^6;\n",
"\n",
"fB=ft/A;\n",
"\n",
"printf('Useful Frequency Range of Operation f<=%.2f kHz',fB*10^(-3));"
   ]
   }
,
{
		   "cell_type": "markdown",
		   "metadata": {},
		   "source": [
			"## Example 6.8_d: Full_Power_Bandwidth.sce"
		   ]
		  },
  {
"cell_type": "code",
	   "execution_count": null,
	   "metadata": {
	    "collapsed": true
	   },
	   "outputs": [],
"source": [
"//Example 6.8(d)\n",
"\n",
"clear;\n",
"\n",
"clc;\n",
"\n",
"Vs=13;\n",
"\n",
"A=10;\n",
"\n",
"ft=1*10^6;\n",
"\n",
"SR=0.5*10^6;\n",
"\n",
"f=2*10^3;\n",
"\n",
"Vommax=SR/(2*%pi*f);\n",
"\n",
"if Vommax>Vs then\n",
"Vimmax=Vs/A;\n",
"\n",
"printf('Useful Input Amplitude Range is Vim<=%.2f V',Vimmax);"
   ]
   }
,
{
		   "cell_type": "markdown",
		   "metadata": {},
		   "source": [
			"## Example 6.9: Effect_of_finite_GBP_on_Integrator_Circuits.sce"
		   ]
		  },
  {
"cell_type": "code",
	   "execution_count": null,
	   "metadata": {
	    "collapsed": true
	   },
	   "outputs": [],
"source": [
"//Example 6.9\n",
"\n",
"clear;\n",
"\n",
"clc;\n",
"\n",
"f0=10*10^3;\n",
"\n",
"Q=25;\n",
"\n",
"HobpdB=0;\n",
"\n",
"R1=10*10^3;//Assumption\n",
"\n",
"R2=R1;//Assumption\n",
"\n",
"R5=R1;//Assumption\n",
"\n",
"R6=R1;//Assumption\n",
"\n",
"R3=250*10^3;//Assumption\n",
"\n",
"R4=R3;//Assumption\n",
"\n",
"C1=1/(2*%pi*f0*R5);//Assumption\n",
"\n",
"C2=C1;//Assumption\n",
"\n",
"f0reler=0.01;//as relative error defined for f0=1%\n",
"\n",
"Qreler=0.01\n",
"\n",
"ftf0=f0/f0reler;\n",
"\n",
"ftQ=(4*Q*f0)/Qreler;\n",
"\n",
"printf('Designed Biquad Filter :')\n",
"\n",
"printf('\nR1=R2=R5=R6=%.2f kohms',R1*10^(-3));\n",
"\n",
"printf('\nR3=R4=%.2f kohms',R4*10^(-3));\n",
"\n",
"printf('\nC1=C2=%.2f nF',C1*10^9);\n",
"\n",
"if ftf0>ftQ then\n",
"    ft=ftf0;\n",
"\n",
"else ft=ftQ\n",
"    \n",
"printf('\nGBP>=%.2f MHz',ft*10^(-6));"
   ]
   }
],
"metadata": {
		  "kernelspec": {
		   "display_name": "Scilab",
		   "language": "scilab",
		   "name": "scilab"
		  },
		  "language_info": {
		   "file_extension": ".sce",
		   "help_links": [
			{
			 "text": "MetaKernel Magics",
			 "url": "https://github.com/calysto/metakernel/blob/master/metakernel/magics/README.md"
			}
		   ],
		   "mimetype": "text/x-octave",
		   "name": "scilab",
		   "version": "0.7.1"
		  }
		 },
		 "nbformat": 4,
		 "nbformat_minor": 0
}
