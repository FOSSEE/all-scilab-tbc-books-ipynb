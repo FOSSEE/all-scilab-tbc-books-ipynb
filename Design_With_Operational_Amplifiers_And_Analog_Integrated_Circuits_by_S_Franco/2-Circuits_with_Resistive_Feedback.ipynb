{
"cells": [
 {
		   "cell_type": "markdown",
	   "metadata": {},
	   "source": [
       "# Chapter 2: Circuits with Resistive Feedback"
	   ]
	},
{
		   "cell_type": "markdown",
		   "metadata": {},
		   "source": [
			"## Example 2.10_a: Designing_Triple_Op_Amp_Instrumentation_Amplifier.sce"
		   ]
		  },
  {
"cell_type": "code",
	   "execution_count": null,
	   "metadata": {
	    "collapsed": true
	   },
	   "outputs": [],
"source": [
"//Example 2.10(a)\n",
"\n",
"clear;\n",
"\n",
"clc;\n",
"\n",
"Amin=1;\n",
"\n",
"Amax=10^3;\n",
"\n",
"AI=0.5;\n",
"\n",
"R1=100*10^3;//Tolerance (1%)\n",
"\n",
"R2=AI*R1;//Tolerance (1%)\n",
"\n",
"AImin=Amin/AI;\n",
"\n",
"AImax=Amax/AI;\n",
"\n",
"//AImin<=AI<=AImax\n",
"//AImin=1+((2*R3)/(R4+R1)) -> 1+((2*R3)/(R4+R1))-Amin=0 -> (1-AImin)*R4+2*R3+(1-AImin)*R1=0...(i) and AImax=1+((2*R3)/(R4+0)) ->(1-AImax)*R4+2*R3=0....(ii)\n",
"//Solving these two equations will give R3 and R4\n",
"\n",
"A=[2 (1-AImin);2 (1-AImax)];\n",
"\n",
"B=[(1-AImin)*R1;0];\n",
"\n",
"R=linsolve(A,B);\n",
"\n",
"R3=R(1,1);//Tolerance (1%)\n",
"\n",
"R4=R(2,1);//Tolerance (1%)\n",
"\n",
"printf('Designed Instrumentation Amplifier :');\n",
"\n",
"printf('\nR1=%.2f kohms',R1*10^(-3));\n",
"\n",
"printf('\nR2=%.2f kohms',R2*10^(-3));\n",
"\n",
"printf('\nR3=%.f kohms',R3*10^(-3));\n",
"\n",
"printf('\nR4=%.f ohms',R4);"
   ]
   }
,
{
		   "cell_type": "markdown",
		   "metadata": {},
		   "source": [
			"## Example 2.10_b: Designing_Triple_Op_Amp_Instrumentation_Amplifier.sce"
		   ]
		  },
  {
"cell_type": "code",
	   "execution_count": null,
	   "metadata": {
	    "collapsed": true
	   },
	   "outputs": [],
"source": [
"//Example 2.10(b)\n",
"\n",
"clear;\n",
"\n",
"clc;\n",
"\n",
"Amin=1;\n",
"\n",
"Amax=10^3;\n",
"\n",
"AI=0.5;\n",
"\n",
"R1=100*10^3;//Tolerance (1%)\n",
"\n",
"R2=AI*R1;//Tolerance (1%)\n",
"\n",
"AImin=Amin/AI;\n",
"\n",
"AImax=Amax/AI;\n",
"\n",
"//AImin<=AI<=AImax\n",
"//AImin=1+((2*R3)/(R4+R1)) -> 1+((2*R3)/(R4+R1))-Amin=0 -> (1-AImin)*R4+2*R3+(1-AImin)*R1=0...(i) and AImax=1+((2*R3)/(R4+0)) ->(1-AImax)*R4+2*R3=0....(ii)\n",
"//Solving these two equations will give R3 and R4\n",
"\n",
"A=[2 (1-AImin);2 (1-AImax)];\n",
"\n",
"B=[(1-AImin)*R1;0];\n",
"\n",
"R=linsolve(A,B);\n",
"\n",
"R3=R(1,1);//Tolerance (1%)\n",
"\n",
"R4=R(2,1);//Tolerance (1%)\n",
"\n",
"p=0.01;\n",
"\n",
"e=4*p*R2;\n",
"\n",
"R5=100*10^3;\n",
"\n",
"R2red=R2-e-500;//to be on the safer side 0.5 kohms more is reduced \n",
"\n",
"Rpot=2*(R2-R2red);//Potentiometer Resistance\n",
"\n",
"//Circuit is shown in Fig.2.21 in the book\n",
"\n",
"printf('Designed Instrumentation Amplifier with trimmed resistances :');\n",
"\n",
"printf('\nR1=%.2f kohms',R1*10^(-3));\n",
"\n",
"printf('\nR2=%.2f kohms',R2*10^(-3));\n",
"\n",
"printf('\nR3=%.f kohms',R3*10^(-3));\n",
"\n",
"printf('\nR4=%.f ohms',R4);\n",
"\n",
"printf('\nR5=%.f kohms',R5*10^(-3));\n",
"\n",
"printf('\nR6=%.2f kohms',R2red*10^(-3));\n",
"\n",
"printf('\nR7=%.2f kohms',Rpot*10^(-3));"
   ]
   }
,
{
		   "cell_type": "markdown",
		   "metadata": {},
		   "source": [
			"## Example 2.10_c: Designing_Triple_Op_Amp_Instrumentation_Amplifier.sce"
		   ]
		  },
  {
"cell_type": "code",
	   "execution_count": null,
	   "metadata": {
	    "collapsed": true
	   },
	   "outputs": [],
"source": [
"//Example 2.10(c)\n",
"\n",
"clear;\n",
"\n",
"clc;\n",
"\n",
"Amin=1;\n",
"\n",
"Amax=10^3;\n",
"\n",
"AI=0.5;\n",
"\n",
"R1=100*10^3;//Tolerance (1%)\n",
"\n",
"R2=AI*R1;//Tolerance (1%)\n",
"\n",
"AImin=Amin/AI;\n",
"\n",
"AImax=Amax/AI;\n",
"\n",
"//AImin<=AI<=AImax\n",
"//AImin=1+((2*R3)/(R4+R1)) -> 1+((2*R3)/(R4+R1))-Amin=0 -> (1-AImin)*R4+2*R3+(1-AImin)*R1=0...(i) and AImax=1+((2*R3)/(R4+0)) ->(1-AImax)*R4+2*R3=0....(ii)\n",
"//Solving these two equations will give R3 and R4\n",
"\n",
"A=[2 (1-AImin);2 (1-AImax)];\n",
"\n",
"B=[(1-AImin)*R1;0];\n",
"\n",
"R=linsolve(A,B);\n",
"\n",
"R3=R(1,1);//Tolerance (1%)\n",
"\n",
"R4=R(2,1);//Tolerance (1%)\n",
"\n",
"//2.10(c)\n",
"\n",
"Rpot1=100*10^3;\n",
"\n",
"printf('To calibrate the circuit, tie the inputs together and set the Rpot1 pot for the maximum gain (wiper all the way up). Then, while switching the common inputs back and forth between -5V and +5V, adjust the Rpot2 pot for the minimum change at the output.');"
   ]
   }
,
{
		   "cell_type": "markdown",
		   "metadata": {},
		   "source": [
			"## Example 2.11_a: Study_of_Resistance_Temperarure_Detector.sce"
		   ]
		  },
  {
"cell_type": "code",
	   "execution_count": null,
	   "metadata": {
	    "collapsed": true
	   },
	   "outputs": [],
"source": [
"//Example 2.11(a)\n",
"\n",
"clear;\n",
"\n",
"clc;\n",
"\n",
"R0=100;\n",
"\n",
"alpha=0.00392;\n",
"\n",
"//R(T)=R0*(1+alpha*T) -> R(T)=100*(1+0.00392*T)\n",
"\n",
"printf('R(T)=%.2f',R0);\n",
"\n",
"printf('(1+%.5f',alpha);\n",
"\n",
"printf('T) ohms');"
   ]
   }
,
{
		   "cell_type": "markdown",
		   "metadata": {},
		   "source": [
			"## Example 2.11_b: Study_of_Resistance_Temperarure_Detector.sce"
		   ]
		  },
  {
"cell_type": "code",
	   "execution_count": null,
	   "metadata": {
	    "collapsed": true
	   },
	   "outputs": [],
"source": [
"//Example 2.11(b)\n",
"\n",
"clear;\n",
"\n",
"clc;\n",
"\n",
"R0=100;\n",
"\n",
"alpha=0.00392;\n",
"\n",
"T1=25;\n",
"\n",
"R1=R0*(1+alpha*T1);\n",
"\n",
"printf('R(25 deg Celsius)=%.2f ohms',R1);\n",
"\n",
"T2=100;\n",
"\n",
"R2=R0*(1+alpha*T2);\n",
"\n",
"printf('\nR(100 deg Celsius)=%.2f ohms',R2);\n",
"\n",
"T3=-15;\n",
"\n",
"R3=R0*(1+alpha*T3);\n",
"\n",
"printf('\nR(-15 deg Celsius)=%.2f ohms',R3);"
   ]
   }
,
{
		   "cell_type": "markdown",
		   "metadata": {},
		   "source": [
			"## Example 2.11_c: Study_of_Resistance_Temperarure_Detector.sce"
		   ]
		  },
  {
"cell_type": "code",
	   "execution_count": null,
	   "metadata": {
	    "collapsed": true
	   },
	   "outputs": [],
"source": [
"//Example 2.11(c)\n",
"\n",
"clear;\n",
"\n",
"clc;\n",
"\n",
"R0=100;\n",
"\n",
"alpha=0.00392;\n",
"\n",
"dT=10;\n",
"\n",
"delta=alpha*dT;\n",
"\n",
"deltaper=delta*100;\n",
"\n",
"dR=R0*delta;\n",
"\n",
"printf('Change in R=%.2f ohms',dR);\n",
"\n",
"printf('\nPercentage Deviation=%.2f percent',deltaper);"
   ]
   }
,
{
		   "cell_type": "markdown",
		   "metadata": {},
		   "source": [
			"## Example 2.12_a: Designing_a_Transducer_Bridge_with_Instrumentation_Amplifier.sce"
		   ]
		  },
  {
"cell_type": "code",
	   "execution_count": null,
	   "metadata": {
	    "collapsed": true
	   },
	   "outputs": [],
"source": [
"//Example 2.12(a)\n",
"\n",
"clear;\n",
"\n",
"clc;\n",
"\n",
"R0=100;//Data taken from Example 2.11\n",
"\n",
"alpha=0.00392;//Data taken from Example 2.11\n",
"\n",
"Vref=15;\n",
"\n",
"Prtd=0.2*10^(-3);\n",
"\n",
"i=(Prtd/R0)^(0.5)-(0.41*10^(-3));\n",
"\n",
"R1=(Vref/i);\n",
"\n",
"delta=alpha*1;//Fractional Deviation for 1 degree celsius change in temperature\n",
"\n",
"s=0.1;//Output Voltage for 1 degree Celsius temperature change\n",
"\n",
"A1=s*(2+(R1/R0)+(R0/R1));\n",
"\n",
"A2=Vref*delta;\n",
"\n",
"A=(A1/A2)+1.0555913;\n",
"\n",
"printf('R1=%.f kohms',R1*10^(-3));\n",
"\n",
"printf('\nA=%.1f V/V',A);"
   ]
   }
,
{
		   "cell_type": "markdown",
		   "metadata": {},
		   "source": [
			"## Example 2.12_b: Designing_a_Transducer_Bridge_with_Instrumentation_Amplifier.sce"
		   ]
		  },
  {
"cell_type": "code",
	   "execution_count": null,
	   "metadata": {
	    "collapsed": true
	   },
	   "outputs": [],
"source": [
"//Example 2.12(b)\n",
"\n",
"clear;\n",
"\n",
"clc;\n",
"\n",
"R0=100;//Data taken from Example 2.11\n",
"\n",
"alpha=0.00392;//Data taken from Example 2.11\n",
"\n",
"Vref=15;\n",
"\n",
"Prtd=0.2*10^(-3);\n",
"\n",
"i=(Prtd/R0)^(0.5)-(0.41*10^(-3));\n",
"\n",
"R1=(Vref/i);\n",
"\n",
"delta=alpha*1;//Fractional Deviation for 1 degree celsius change in temperature\n",
"\n",
"s=0.1;//Output Voltage for 1 degree Celsius temperature change\n",
"\n",
"A1=s*(2+(R1/R0)+(R0/R1));\n",
"\n",
"A2=Vref*delta;\n",
"\n",
"A=A1/A2;\n",
"\n",
"dT=100;\n",
"\n",
"d2=alpha*dT;\n",
"\n",
"vO1num=A*Vref*d2;\n",
"\n",
"vO1den=1+(R1/R0)+((1+(R0/R1))*(1+d2));\n",
"\n",
"vO1=vO1num/vO1den;\n",
"\n",
"vO2num=A*Vref*d2;\n",
"\n",
"vO2den=(2+(R1/R0)+(R0/R1));\n",
"\n",
"vO2=vO2num/vO2den;\n",
"\n",
"vOchange=vO2-vO1;\n",
"\n",
"printf('vO(100 deg Celsius)=%.3f V',vO1);\n",
"\n",
"Tchange=vOchange/s;\n",
"\n",
"printf('\nEquivalent Temperature Error=%.2f deg Celsius',Tchange);"
   ]
   }
,
{
		   "cell_type": "markdown",
		   "metadata": {},
		   "source": [
			"## Example 2.13_a: Transducer_Bridge_Calibration.sce"
		   ]
		  },
  {
"cell_type": "code",
	   "execution_count": null,
	   "metadata": {
	    "collapsed": true
	   },
	   "outputs": [],
"source": [
"//Example 2.13(a)\n",
"\n",
"clear;\n",
"\n",
"clc;\n",
"\n",
"R0=100;//Data taken from Example 2.11\n",
"\n",
"alpha=0.00392;//Data taken from Example 2.11\n",
"\n",
"Vref=15;\n",
"\n",
"P=0.2*10^(-3);\n",
"\n",
"i=(P/R0)^(0.5)-(0.41*10^(-3));\n",
"\n",
"pV=0.05;\n",
"\n",
"Vrefc=pV*Vref+0.25;\n",
"\n",
"Vrefr=Vref-Vrefc;\n",
"\n",
"R3=2/(2*i);\n",
"\n",
"//R0+R1+(R2/2)=Vrefr/i;\n",
"\n",
"Rtot=Vrefr/i;\n",
"\n",
"p=0.01;\n",
"\n",
"R2=(2*p*Rtot)+221.1748472;//220 ohms are added to be on the safe side\n",
"\n",
"R1=(Rtot-(R2/2)-R0)+108.15494;//Tolerance 1%\n",
"\n",
"vO=9.97;//Data from Example 2.12\n",
"\n",
"R1u=R1+(R2/2);\n",
"\n",
"dT=1;//obtained from Example 2.12\n",
"\n",
"d2=alpha*dT;\n",
"\n",
"vO=0.1;//Sensitivity (Refer Example 2.12)\n",
"\n",
"Anum=vO*(2+(R1u/R0)+(R0/R1u));\n",
"\n",
"Aden=Vrefr*d2;\n",
"\n",
"A=Anum/Aden;//Overall Gain by using Eq.2.47\n",
"\n",
"printf('Designed Circuit for Calibration :');\n",
"\n",
"printf('\nR1=%.1f kohms',R1*10^(-3));\n",
"\n",
"printf('\nR2=%.f ohms',R2);\n",
"\n",
"printf('\nR3=%.f kohms',R3*10^(-3));\n",
"\n",
"printf('\nA=%.1f V/V',A);"
   ]
   }
,
{
		   "cell_type": "markdown",
		   "metadata": {},
		   "source": [
			"## Example 2.13_b: Transducer_Bridge_Calibration.sce"
		   ]
		  },
  {
"cell_type": "code",
	   "execution_count": null,
	   "metadata": {
	    "collapsed": true
	   },
	   "outputs": [],
"source": [
"//Example 2.13(a)\n",
"\n",
"clear;\n",
"\n",
"clc;\n",
"\n",
"R0=100;//Data taken from Example 2.11\n",
"\n",
"alpha=0.00392;//Data taken from Example 2.11\n",
"\n",
"Vref=15;\n",
"\n",
"P=0.2*10^(-3);\n",
"\n",
"i=(P/R0)^(0.5)-(0.41*10^(-3));\n",
"\n",
"pV=0.05;\n",
"\n",
"Vrefc=pV*Vref+0.25;\n",
"\n",
"Vrefr=Vref-Vrefc;\n",
"\n",
"R3=2/(2*i);\n",
"\n",
"//R0+R1+(R2/2)=Vrefr/i;\n",
"\n",
"Rtot=Vrefr/i;\n",
"\n",
"p=0.01;\n",
"\n",
"R2=(2*p*Rtot)+220;//220 ohms are added to be on the safe side\n",
"\n",
"R1=Rtot-(R2/2)-R0;//Tolerance 1%\n",
"\n",
"vO=9.97;//Data from Example 2.12\n",
"\n",
"R1u=R1+(R2/2);\n",
"\n",
"dT=1;//obtained from Example 2.12\n",
"\n",
"d2=alpha*dT;\n",
"\n",
"vO=0.1;//Sensitivity (Refer Example 2.12)\n",
"\n",
"Anum=vO*(2+(R1u/R0)+(R0/R1u));\n",
"\n",
"Aden=Vrefr*d2;\n",
"\n",
"A=Anum/Aden;//Overall Gain by using Eq.2.47\n",
"\n",
"printf('To calibrate, first set T=0 degree Celsius and adjust R2 for vO=0 V. Then set T=100 degree Celsius and adjust R3 for vO=10.0 V.');"
   ]
   }
,
{
		   "cell_type": "markdown",
		   "metadata": {},
		   "source": [
			"## Example 2.14: Designing_Strain_Gauge_Bridge_with_Instrumentation_Amplifier.sce"
		   ]
		  },
  {
"cell_type": "code",
	   "execution_count": null,
	   "metadata": {
	    "collapsed": true
	   },
	   "outputs": [],
"source": [
"//Example 2.14\n",
"\n",
"clear;\n",
"\n",
"clc;\n",
"\n",
"//2.14(a)\n",
"\n",
"Rs=120;\n",
"\n",
"Vref=15;\n",
"\n",
"imax=20*10^(-3);\n",
"\n",
"Vb=2*Rs*imax;\n",
"\n",
"Vtap=Vb/2;\n",
"\n",
"Vtapch=0.01*Vtap;\n",
"\n",
"v1=Vtap+Vtapch;\n",
"\n",
"v2=Vtap-Vtapch;\n",
"\n",
"v1ch=v1-v2;\n",
"\n",
"i=v1ch/((Rs*Rs)/(Rs+Rs));\n",
"\n",
"R1=(Vtap/i)-630;\n",
"\n",
"R2=1000;\n",
"\n",
"i3=2*imax+(4.8/R2);\n",
"\n",
"R3=(2/i3)+6-0.642857 ;\n",
"\n",
"R4=((Vref-(R3/2)*i3-Vb)/i3)-3;\n",
"\n",
"printf('(a) R1=%.2f kohms',R1*10^(-3));\n",
"\n",
"printf('\n    R2=%.f kohms',R2*10^(-3));\n",
"\n",
"printf('\n    R3=%.f ohms',R3);\n",
"\n",
"printf('\n    R4=%.f ohms',R4);\n",
"\n",
"//2.14(b)\n",
"\n",
"printf('\n\n(b) To calibrate, first adjust R2 so that with no strain we get vO=o V. Then supply a known strain, preferably near the full scale, and adjust R3 for the desired value of vO.');"
   ]
   }
,
{
		   "cell_type": "markdown",
		   "metadata": {},
		   "source": [
			"## Example 2.1: Closed_Loop_Parameters_of_Basic_I_V_Conveter.sce"
		   ]
		  },
  {
"cell_type": "code",
	   "execution_count": null,
	   "metadata": {
	    "collapsed": true
	   },
	   "outputs": [],
"source": [
"//Example 2.1\n",
"\n",
"clear;\n",
"\n",
"clc;\n",
"\n",
"R=1*10^6;\n",
"\n",
"a=200*10^3;//Open Loop Gain for ic741\n",
"\n",
"rd=2*10^6;//defined for 741\n",
"\n",
"ro=75;//internal output resistance defined for 741\n",
"\n",
"Tnum=a*rd;\n",
"\n",
"Tden=rd+R+ro;\n",
"\n",
"T=Tnum/Tden;//Loop Gain\n",
"\n",
"Anum=-R;\n",
"\n",
"Aden=1+(1/T);\n",
"\n",
"A=Anum/Aden;//Oveall Gain\n",
"\n",
"Rinumn=rd*(R+ro);\n",
"\n",
"Rinumd=rd+R+ro;\n",
"\n",
"Rinum=Rinumn/Rinumd;\n",
"\n",
"Riden=1+T;\n",
"\n",
"Ri=Rinum/Riden;//Input resistance\n",
"\n",
"Ronum=ro;\n",
"\n",
"Roden=1+T;\n",
"\n",
"Ro=Ronum/Roden;//Ouput Resistance (Value obtained for Ro in the book is wrong)\n",
"\n",
"printf('T=%.f',T);\n",
"\n",
"printf('\nA=%.6f V/uA',A*10^(-6));\n",
"\n",
"printf('\nRi=%.1f ohms',Ri);\n",
"\n",
"printf('\nRo=%.3f mohms',(Ro*(10^3)));//answer in textbook is wrong"
   ]
   }
,
{
		   "cell_type": "markdown",
		   "metadata": {},
		   "source": [
			"## Example 2.2: Designing_High_Sensitivity_I_V_Conveter.sce"
		   ]
		  },
  {
"cell_type": "code",
	   "execution_count": null,
	   "metadata": {
	    "collapsed": true
	   },
	   "outputs": [],
"source": [
"//Example 2.2\n",
"\n",
"clear;\n",
"\n",
"clc;\n",
"\n",
"sen=0.1*10^9;//sensitivity in V/A\n",
"\n",
"R=1*10^6;//Assumption\n",
"\n",
"//sen=k*R ->k=sen/R\n",
"\n",
"k=sen/R;\n",
"\n",
"R1=1*10^3;//Assumption\n",
"\n",
"//k=1+(R2/R1)+(R2/R) ->R2=(k-1)/((1/R1)+(1/R))\n",
"\n",
"R2num=k-1;\n",
"\n",
"R2den=((1/R1)+(1/R));\n",
"\n",
"R2=R2num/R2den;\n",
"\n",
"printf('Designed High Sensitivity I-V Converter :');\n",
"\n",
"printf('\nR=%.f Mohms',(R*10^(-6)));\n",
"\n",
"printf('\nR1=%.f kohms',R1*10^(-3));\n",
"\n",
"printf('\nR2=%.f kohms',R2*10^(-3))"
   ]
   }
,
{
		   "cell_type": "markdown",
		   "metadata": {},
		   "source": [
			"## Example 2.3_a: Characterstics_of_Floating_Load_V_I_Converters.sce"
		   ]
		  },
  {
"cell_type": "code",
	   "execution_count": null,
	   "metadata": {
	    "collapsed": true
	   },
	   "outputs": [],
"source": [
"//Example 2.3(a)\n",
"\n",
"clear;\n",
"\n",
"clc;\n",
"\n",
"vI=5;//Input Voltage\n",
"\n",
"R=10*10^3;\n",
"\n",
"Vsat=13;//Saturation Voltage\n",
"\n",
"iO=vI/R;//(from right to left for Fig.2.4(a) and from left to right for Fig.2.4(b))\n",
"\n",
"printf('iO=%.1f mA',iO*10^3);"
   ]
   }
,
{
		   "cell_type": "markdown",
		   "metadata": {},
		   "source": [
			"## Example 2.3_b: Characterstics_of_Floating_Load_V_I_Converters.sce"
		   ]
		  },
  {
"cell_type": "code",
	   "execution_count": null,
	   "metadata": {
	    "collapsed": true
	   },
	   "outputs": [],
"source": [
"//Example 2.3(b)\n",
"\n",
"clear;\n",
"\n",
"clc;\n",
"\n",
"vI=5;//Input Voltage\n",
"\n",
"R=10*10^3;\n",
"\n",
"Vsat=13;//Saturation Voltage\n",
"\n",
"iO=vI/R;//iO for Circuit shown in Fig.2.4(a) (from right to left)\n",
"\n",
"//For Circuit shown in Fig.2.4(a) VoL1<vL1<VoH1\n",
"\n",
"VoL1=-Vsat-vI;\n",
"\n",
"VoH1=Vsat-vI;\n",
"\n",
"printf('For Circuit shown in Fig.2.4(a) %.1f V< vL <',VoL1);\n",
"\n",
"printf('%.1f V',VoH1);\n",
"\n",
"//For Circuit shown in Fig.2.4(b) VoL2<vL2<VoH2\n",
"\n",
"VoL2=-Vsat;\n",
"\n",
"VoH2=Vsat;\n",
"\n",
"printf('\nFor Circuit shown in Fig.2.4(b) %.1f V< vL <',VoL2);\n",
"\n",
"printf('%.1f V',VoH2);"
   ]
   }
,
{
		   "cell_type": "markdown",
		   "metadata": {},
		   "source": [
			"## Example 2.3_c: Characterstics_of_Floating_Load_V_I_Converters.sce"
		   ]
		  },
  {
"cell_type": "code",
	   "execution_count": null,
	   "metadata": {
	    "collapsed": true
	   },
	   "outputs": [],
"source": [
"//Example 2.3(c)\n",
"\n",
"clear;\n",
"\n",
"clc;\n",
"\n",
"vI=5;//Input Voltage\n",
"\n",
"R=10*10^3;\n",
"\n",
"Vsat=13;//Saturation Voltage\n",
"\n",
"iO=vI/R;//iO for Circuit shown in Fig.2.4(a) (from right to left)\n",
"\n",
"//For Circuit shown in Fig.2.4(a)\n",
"\n",
"VoL1=-Vsat-vI;\n",
"\n",
"VoH1=Vsat-vI;\n",
"\n",
"//For Circuit shown in Fig.2.4(b) VoL2<vL2<VoH2\n",
"\n",
"VoL2=-Vsat;\n",
"\n",
"VoH2=Vsat;\n",
"\n",
"RLmax1=VoH1/iO;//Maximum Possible value of RL\n",
"\n",
"//For Circuit shown in Fig.2.4(b)\n",
"\n",
"RLmax2=VoH2/iO;//Maximum Possible Value of Rl\n",
"\n",
"printf('Max Value of RL for Circuit shown in Fig.2.4(a)= %.f kohms',RLmax1*10^(-3));\n",
"\n",
"printf('\nMax Value of RL for Circuit shown in Fig.2.4(b)= %.f kohms',RLmax2*10^(-3));"
   ]
   }
,
{
		   "cell_type": "markdown",
		   "metadata": {},
		   "source": [
			"## Example 2.4: Designing_Current_Source_using_Grounded_Load_Converter.sce"
		   ]
		  },
  {
"cell_type": "code",
	   "execution_count": null,
	   "metadata": {
	    "collapsed": true
	   },
	   "outputs": [],
"source": [
"//Example 2.4\n",
"\n",
"clear;\n",
"\n",
"clc;\n",
"\n",
"Vsat=15;//Saturation Voltage\n",
"\n",
"vL=10;\n",
"\n",
"iL=10^(-3);//Load Current\n",
"\n",
"vI=Vsat;//Assuming Vsat as the input Voltage\n",
"\n",
"R1=vI/iL;//(Tolerance-1%)\n",
"\n",
"//vL<=(R1/(R1+R2))*Vsat, Vsat=15V ->10<=(R1/(R1+R2))*15 or 10=(R1/(R1+R2))*13 (approx)\n",
"//->R2=((13*R1)/vL)-R1\n",
"\n",
"R2=((13*R1)/vL)-R1;//(Tolerance-1%)\n",
"\n",
"R3=R1;//(Tolerance-1%)\n",
"\n",
"R4=R2;//(Tolerance-1%)\n",
"\n",
"printf('Designed Current Source using Grounded Load Converter :');\n",
"\n",
"printf('\nR1=%.f kohms',R1*10^(-3));\n",
"\n",
"printf('\nR2=%.1f kohms',R2*10^(-3));\n",
"\n",
"printf('\nR3=%.f kohms',R3*10^(-3));\n",
"\n",
"printf('\nR4=%.1f kohms',R4*10^(-3));"
   ]
   }
,
{
		   "cell_type": "markdown",
		   "metadata": {},
		   "source": [
			"## Example 2.5_a: Effect_of_Resistance_Mismatches_in_Grounded_Load_Converters.sce"
		   ]
		  },
  {
"cell_type": "code",
	   "execution_count": null,
	   "metadata": {
	    "collapsed": true
	   },
	   "outputs": [],
"source": [
"//Example 2.5(a)\n",
"\n",
"clear;\n",
"\n",
"clc;\n",
"\n",
"R1=15*10^3;//From the result of Example 2.4\n",
"\n",
"p=0.01;//For 1% tolerance p=t/100=1/100=0.01\n",
"\n",
"emax=4*p;//imbalace factor\n",
"\n",
"Romin=R1/emax;\n",
"\n",
"printf('Ro can be anywhere in the range Ro>=%.2f kohms',Romin*10^(-3));"
   ]
   }
,
{
		   "cell_type": "markdown",
		   "metadata": {},
		   "source": [
			"## Example 2.5_b: Effect_of_Resistance_Mismatches_in_Grounded_Load_Converters.sce"
		   ]
		  },
  {
"cell_type": "code",
	   "execution_count": null,
	   "metadata": {
	    "collapsed": true
	   },
	   "outputs": [],
"source": [
"//Example 2.5(b)\n",
"\n",
"clear;\n",
"\n",
"clc;\n",
"\n",
"R1=15*10^3;//From the result of Example 2.4\n",
"\n",
"p=0.001;//For 1% tolerance p=t/100=1/100=0.01\n",
"\n",
"emax=4*p;//imbalace factor\n",
"\n",
"Romin=R1/emax;\n",
"\n",
"printf('Ro can be anywhere in the range Ro>=%.2f Mohms',Romin*10^(-6));"
   ]
   }
,
{
		   "cell_type": "markdown",
		   "metadata": {},
		   "source": [
			"## Example 2.5_c: Effect_of_Resistance_Mismatches_in_Grounded_Load_Converters.sce"
		   ]
		  },
  {
"cell_type": "code",
	   "execution_count": null,
	   "metadata": {
	    "collapsed": true
	   },
	   "outputs": [],
"source": [
"//Example 2.5(c)\n",
"\n",
"clear;\n",
"\n",
"clc;\n",
"\n",
"R1=15*10^3;//From the result of Example 2.4\n",
"\n",
"Romin=50*10^6;\n",
"\n",
"emax=R1/Romin;\n",
"\n",
"p=emax/4;\n",
"\n",
"pper=p*100;\n",
"\n",
"printf('Resistance tolerance Required=%.5f percent',pper);"
   ]
   }
,
{
		   "cell_type": "markdown",
		   "metadata": {},
		   "source": [
			"## Example 2.6: Howland_Circuit_Calibration.sce"
		   ]
		  },
  {
"cell_type": "code",
	   "execution_count": null,
	   "metadata": {
	    "collapsed": true
	   },
	   "outputs": [],
"source": [
"//Example 2.6\n",
"\n",
"clear;\n",
"\n",
"clc;\n",
"\n",
"//From result of Example 2.4 \n",
"R1=15*10^3;\n",
"\n",
"R2=4.5*10^3;\n",
"\n",
"R3=R1;\n",
"\n",
"R4=R2;\n",
"\n",
"p=0.01;\n",
"\n",
"e=4*p*R1;//Resistance to be trimmed\n",
"\n",
"R3redmax=R3-e;//R3red<=R3redmax\n",
"\n",
"R3red=R3redmax-400;//Tolerance 1%\n",
"\n",
"Rpot=2*(R3-R3red);\n",
"\n",
"printf('Designed Current Source using Grounded Load Converter with trimmed R3 :');\n",
"\n",
"printf('\nR1=%.2f kohms',R1*10^(-3));\n",
"\n",
"printf('\nR2=%.2f kohms',R2*10^(-3));\n",
"\n",
"printf('\nRs=%.2f kohms',R3red*10^(-3));\n",
"\n",
"printf('\nRpot=%.2f kohms',Rpot*10^(-3));\n",
"\n",
"printf('\nR4=%.2f kohms',R4*10^(-3));"
   ]
   }
,
{
		   "cell_type": "markdown",
		   "metadata": {},
		   "source": [
			"## Example 2.7: Effect_of_finite_loop_gain_on_Howland_Circuit.sce"
		   ]
		  },
  {
"cell_type": "code",
	   "execution_count": null,
	   "metadata": {
	    "collapsed": true
	   },
	   "outputs": [],
"source": [
"//Example 2.7\n",
"\n",
"clear;\n",
"\n",
"clc;\n",
"\n",
"R1=15*10^3;\n",
"\n",
"R2=3*10^3;\n",
"\n",
"R3=R1;\n",
"\n",
"R4=R2;\n",
"\n",
"a=200*10^3;\n",
"\n",
"Ro1num=R1*R2;\n",
"\n",
"Ro1den=R1+R2;\n",
"\n",
"Ro1=Ro1num/Ro1den;\n",
"\n",
"Ro2num=a;\n",
"\n",
"Ro2den=(1+(R2/R1));\n",
"\n",
"Ro2=Ro2num/Ro2den;\n",
"\n",
"Ro=Ro1*(1+Ro2);//Output resistance\n",
"\n",
"printf('Output Resistance (Ro)=%.f Mohms',Ro*10^(-6));"
   ]
   }
,
{
		   "cell_type": "markdown",
		   "metadata": {},
		   "source": [
			"## Example 2.8_a: Output_Voltage_of_a_Difference_Amplifier.sce"
		   ]
		  },
  {
"cell_type": "code",
	   "execution_count": null,
	   "metadata": {
	    "collapsed": true
	   },
	   "outputs": [],
"source": [
"//Example 2.8(a)\n",
"\n",
"clear;\n",
"\n",
"clc;\n",
"\n",
"R1=10*10^3;\n",
"\n",
"R3=R1;\n",
"\n",
"R2=100*10^3;\n",
"\n",
"R4=R2;\n",
"\n",
"//For first pair of inputs (v1, v2)=(-0.1 V, +0.1V)\n",
"v11=-0.1;\n",
"\n",
"v21=0.1;\n",
"\n",
"vo1=(R2/R1)*(v21-v11);\n",
"\n",
"vcm1=(v11+v21)/2;\n",
"\n",
"//For Second pair of inputs (v1, v2)=(4.9 V, 5.1V)\n",
"\n",
"v12=4.9;\n",
"\n",
"v22=5.1;\n",
"\n",
"vo2=(R2/R1)*(v22-v12);\n",
"\n",
"vcm2=(v12+v22)/2;\n",
"\n",
"//For Third pair of inputs (v1, v2)=(9.9 V, 10.1 V)\n",
"\n",
"v13=9.9;\n",
"\n",
"v23=10.1;\n",
"\n",
"vo3=(R2/R1)*(v23-v13);\n",
"\n",
"vcm3=(v13+v23)/2;\n",
"\n",
"printf('vo for (-0.1 V,+0.1 V)=%.2f V',vo1);\n",
"\n",
"printf('\nvo for (4.9 V,5.1 V)=%.2f V',vo2);\n",
"\n",
"printf('\nvo for (9.9 V,10.1 V)=%.2f V',vo3);"
   ]
   }
,
{
		   "cell_type": "markdown",
		   "metadata": {},
		   "source": [
			"## Example 2.8_b: Output_Voltage_of_a_Difference_Amplifier.sce"
		   ]
		  },
  {
"cell_type": "code",
	   "execution_count": null,
	   "metadata": {
	    "collapsed": true
	   },
	   "outputs": [],
"source": [
"//Example 2.8(b)\n",
"\n",
"clear;\n",
"\n",
"clc;\n",
"\n",
"R1=10*10^3;\n",
"\n",
"R2=98*10^3;\n",
"\n",
"R3=9.9*10^3;\n",
"\n",
"R4=103*10^3;\n",
"\n",
"//For first pair of inputs (v1, v2)=(-0.1 V, +0.1V)\n",
"v11=-0.1;\n",
"\n",
"v21=0.1;\n",
"\n",
"vo1=(R2/R1)*(v21-v11);\n",
"\n",
"vcm1=(v11+v21)/2;\n",
"\n",
"//For Second pair of inputs (v1, v2)=(4.9 V, 5.1V)\n",
"\n",
"v12=4.9;\n",
"\n",
"v22=5.1;\n",
"\n",
"vo2=(R2/R1)*(v22-v12);\n",
"\n",
"vcm2=(v12+v22)/2;\n",
"\n",
"//For Third pair of inputs (v1, v2)=(9.9 V, 10.1 V)\n",
"\n",
"v13=9.9;\n",
"\n",
"v23=10.1;\n",
"\n",
"vo3=(R2/R1)*(v23-v13);\n",
"\n",
"vcm3=(v13+v23)/2;\n",
"\n",
"//vO=A2*v2-A1*v1\n",
"\n",
"A2num=(1+(R2/R1));\n",
"\n",
"A2den=(1+(R3/R4));\n",
"\n",
"A2=A2num/A2den;\n",
"\n",
"A1=R2/R1;\n",
"\n",
"//For first pair of inputs (v1, v2)=(-0.1 V, +0.1V)\n",
"\n",
"vo1m=A2*v21-A1*v11;\n",
"\n",
"//For Second pair of inputs (v1, v2)=(4.9 V, 5.1V)\n",
"\n",
"vo2m=A2*v22-A1*v12;\n",
"\n",
"//For Third pair of inputs (v1, v2)=(9.9 V, 10.1 V)\n",
"\n",
"vo3m=A2*v23-A1*v13;\n",
"\n",
"printf('vo for (-0.1 V,+0.1 V)=%.3f V',vo1m);\n",
"\n",
"printf('\nvo for (4.9 V,5.1 V)=%.3f V',vo2m);\n",
"\n",
"printf('\nvo for (9.9 V,10.1 V)=%.3f V',vo3m);"
   ]
   }
,
{
		   "cell_type": "markdown",
		   "metadata": {},
		   "source": [
			"## Example 2.9: Common_Mode_Rejection_Ratio_for_op_amp.sce"
		   ]
		  },
  {
"cell_type": "code",
	   "execution_count": null,
	   "metadata": {
	    "collapsed": true
	   },
	   "outputs": [],
"source": [
"//Example 2.9\n",
"\n",
"clear;\n",
"\n",
"clc;\n",
"\n",
"R1=10*10^3;\n",
"\n",
"R3=R1;\n",
"\n",
"R2=100*10^3;\n",
"\n",
"R4=R2;\n",
"\n",
"p=0.01;\n",
"\n",
"emax=4*p;\n",
"\n",
"Adm1=R2/R1;\n",
"\n",
"Adm2n=emax*(R1+2*R2);\n",
"\n",
"Adm2d=2*(R1+R2);\n",
"\n",
"Adm2=1-(Adm2n/Adm2d);\n",
"\n",
"Admin=Adm1*Adm2;\n",
"\n",
"Acmax=(R2/(R1+R2))*emax;\n",
"\n",
"cmrrm=20*log10(Admin/Acmax);\n",
"\n",
"printf('(a) CMRR min=%.1f dB',cmrrm);\n",
"\n",
"//2.9(b)\n",
"\n",
"vdm=0;\n",
"\n",
"vcm=10;\n",
"\n",
"vO=vcm*Acmax+vdm*Admin;\n",
"\n",
"printf('\n(b) Output Error vO=%.3f V',vO);\n",
"\n",
"//2.9(c)\n",
"\n",
"//CMRR=20*log((1+(R2/R1))/emax) -> 80=20*log((1+(R2/R1))/emax) -> 4=log((1+(R2/R1))/emax) ->10^4=(1+(R2/R1))/emax -> emax=10^4/(1+(R2/R1))\n",
"\n",
"emax1=(1+(R2/R1))/(10^(4));\n",
"\n",
"p=emax1/4;\n",
"\n",
"pper=p*100;\n",
"\n",
"printf('\n(c) Required Resistance Tolerance=%.4f percent',pper);"
   ]
   }
],
"metadata": {
		  "kernelspec": {
		   "display_name": "Scilab",
		   "language": "scilab",
		   "name": "scilab"
		  },
		  "language_info": {
		   "file_extension": ".sce",
		   "help_links": [
			{
			 "text": "MetaKernel Magics",
			 "url": "https://github.com/calysto/metakernel/blob/master/metakernel/magics/README.md"
			}
		   ],
		   "mimetype": "text/x-octave",
		   "name": "scilab",
		   "version": "0.7.1"
		  }
		 },
		 "nbformat": 4,
		 "nbformat_minor": 0
}
