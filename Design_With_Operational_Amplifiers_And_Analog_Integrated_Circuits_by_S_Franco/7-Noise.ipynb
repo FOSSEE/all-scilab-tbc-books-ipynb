{
"cells": [
 {
		   "cell_type": "markdown",
	   "metadata": {},
	   "source": [
       "# Chapter 7: Noise"
	   ]
	},
{
		   "cell_type": "markdown",
		   "metadata": {},
		   "source": [
			"## Example 7.10: Calculation_of_Noise_in_Current_Feedback_Amplifier.sce"
		   ]
		  },
  {
"cell_type": "code",
	   "execution_count": null,
	   "metadata": {
	    "collapsed": true
	   },
	   "outputs": [],
"source": [
"\n",
"//Example 7.10\n",
"\n",
"clear;\n",
"\n",
"clc;\n",
"\n",
"z0=710*10^3;\n",
"\n",
"fb=350*10^3;\n",
"\n",
"rn=50;\n",
"\n",
"enw=2.4*10^(-9);\n",
"\n",
"fce=50*10^3;\n",
"\n",
"inpw=3.8*10^(-12);\n",
"\n",
"fcip=100*10^3;\n",
"\n",
"innw=20*10^(-12);\n",
"\n",
"fcin=100*10^3;\n",
"\n",
"R1=166.7;\n",
"\n",
"R2=1.5*10^3;\n",
"\n",
"R3=100;//internal resistance\n",
"\n",
"fL=0.1;\n",
"\n",
"Rp=(R1*R2)/(R1+R2);\n",
"\n",
"ft=(z0*fb)/R2;\n",
"\n",
"fB=ft/[1+(rn/((R1*R2)/(R1+R2)))];\n",
"\n",
"Ano=1+(R2/R1);\n",
"\n",
"Enoe=enw*sqrt([{fce*log(fB/fL)}+{1.57*fB}-fL]);\n",
"\n",
"Enoi=R3*inpw*sqrt(((fcip*log(fB/fL))+(1.57*fB)-fL));\n",
"\n",
"Enop=Rp*innw*sqrt({(fcin*log(fB/fL))+(1.57*fB)-fL});\n",
"\n",
"k=1.38*10^(-23);\n",
"\n",
"T=25+273;//Room temperature in Kelvin\n",
"\n",
"EnoR=[{(4*k*T)*(R3+Rp)*((1.57*fB)-fL)}^(1/2)];\n",
"\n",
"Eno=Ano*sqrt((Enoe^2)+(Enoi^2)+(EnoR^2)+(Enop^2));\n",
"\n",
"c=6.6*10^3;\n",
"\n",
"Eno1=Eno*c;\n",
"\n",
"printf('RMS Noise Voltage (Eno)=%.2f uV',Eno*10^6);//answer in textbook is wrong\n",
"\n",
"printf('\nPeak to Peak Noise Voltage (Eno)=%.2f mV',Eno1);//answer in textbook is wrong"
   ]
   }
,
{
		   "cell_type": "markdown",
		   "metadata": {},
		   "source": [
			"## Example 7.11: Noise_in_Photodiode_Amplifiers.sce"
		   ]
		  },
  {
"cell_type": "code",
	   "execution_count": null,
	   "metadata": {
	    "collapsed": true
	   },
	   "outputs": [],
"source": [
"//Example 7.11\n",
"\n",
"clear;\n",
"\n",
"clc;\n",
"\n",
"ft=16*10^6;\n",
"\n",
"enw=4.5*10^(-9);\n",
"\n",
"fce=100;\n",
"\n",
"IB=1*10^(-12);\n",
"\n",
"fL=0.01;\n",
"\n",
"R1=100*10^(9);\n",
"\n",
"C1=45*10^(-12);\n",
"\n",
"R2=10*10^6;\n",
"\n",
"C2=0.5*10^(-12);\n",
"\n",
"b0rec=1;\n",
"\n",
"binfrec=91;\n",
"\n",
"fz=350;\n",
"\n",
"fp=31.8*10^3;\n",
"\n",
"fx=176*10^3;\n",
"\n",
"k=1.38*10^(-23);\n",
"\n",
"T=25+273;\n",
"\n",
"iR2=sqrt((4*k*T)/R2);\n",
"\n",
"q=1.602*10^(-19);\n",
"\n",
"in=sqrt(2*q*IB);\n",
"\n",
"Enoe=binfrec*enw*sqrt(((%pi/2)*fx)-fp);\n",
"\n",
"EnoR=R2*iR2*sqrt((%pi/2)*fp);\n",
"\n",
"Eno=sqrt((Enoe^2)+(EnoR^2));\n",
"\n",
"printf('Total Output Noise=%.f uV',Eno*10^6);"
   ]
   }
,
{
		   "cell_type": "markdown",
		   "metadata": {},
		   "source": [
			"## Example 7.12: Photodiode_amplifier_with_Noise_Filtering.sce"
		   ]
		  },
  {
"cell_type": "code",
	   "execution_count": null,
	   "metadata": {
	    "collapsed": true
	   },
	   "outputs": [],
"source": [
"//Example 7.12\n",
"\n",
"clear;\n",
"\n",
"clc;\n",
"\n",
"ft=16*10^6;\n",
"\n",
"enw=4.5*10^(-9);\n",
"\n",
"fce=100;\n",
"\n",
"IB=1*10^(-12);\n",
"\n",
"fL=0.01;\n",
"\n",
"R1=100*10^(9);\n",
"\n",
"C1=45*10^(-12);\n",
"\n",
"R2=10*10^6;\n",
"\n",
"C2=0.5*10^(-12);\n",
"\n",
"b0rec=1;\n",
"\n",
"binfrec=91;\n",
"\n",
"fz=350;\n",
"\n",
"fp=31.8*10^3;\n",
"\n",
"fx=176*10^3;\n",
"\n",
"k=1.38*10^(-23);\n",
"\n",
"T=25+273;\n",
"\n",
"Cc=0.5*10^(-12);//Assumed\n",
"\n",
"C2=Cc;\n",
"\n",
"C3=10*10^(-9);\n",
"\n",
"R3=(R2*Cc)/C3;\n",
"\n",
"printf('Cc=C2=%.1f pF',Cc*10^(12));\n",
"\n",
"printf('\nR3=%.f ohms',R3);\n",
"\n",
"printf('\nC3=%.f nF',C3*10^(9));"
   ]
   }
,
{
		   "cell_type": "markdown",
		   "metadata": {},
		   "source": [
			"## Example 7.13: Designing_T_Feedback_Photodiode_Amplifiers.sce"
		   ]
		  },
  {
"cell_type": "code",
	   "execution_count": null,
	   "metadata": {
	    "collapsed": true
	   },
	   "outputs": [],
"source": [
"//Example 7.13\n",
"\n",
"clear;\n",
"\n",
"clc;\n",
"\n",
"C1=2*10^(-9);\n",
"\n",
"binfrec=4000;\n",
"\n",
"inw=0.566*10^(-15);\n",
"\n",
"T=1*10^(9);\n",
"\n",
"ft=16*10^6;\n",
"\n",
"R1=100*10^(9);\n",
"\n",
"C2=0.5*10^(-12);\n",
"\n",
"fx=(1/binfrec)*ft;\n",
"\n",
"enw=4.5*10^(-9);\n",
"\n",
"Enoe=binfrec*enw*sqrt((%pi*fx)/2);\n",
"\n",
"EnoRmax=Enoe/3;\n",
"\n",
"k=1.38*10^(-23);\n",
"\n",
"Temp=25+273;\n",
"\n",
"ex=((EnoRmax^2)*C2)/(k*Temp);\n",
"\n",
"R2=T/ex;\n",
"\n",
"R3=1*10^3;//Assumed\n",
"\n",
"R4=(ex-1)*R3;\n",
"\n",
"printf('(a) Designed T Network :');\n",
"\n",
"printf('\n    R1=%.2f Gohms',R1*10^(-9));\n",
"\n",
"printf('\n    R2=%.1f Mohms',R2*10^(-6));\n",
"\n",
"printf('\n    R3=%.2f kohms',R3*10^(-3));\n",
"\n",
"printf('\n    R4=%.2f kohms',R4*10^(-3));\n",
"\n",
"printf('\n    C1=%.2f nF',C1*10^9);\n",
"\n",
"printf('\n    C2=%.2f pF',C2*10^12);\n",
"\n",
"fp=1/(2*%pi*ex*R2*C2);\n",
"\n",
"fB=fp;\n",
"\n",
"Rp=(R1*R2)/(R1+R2);\n",
"\n",
"Enoi=((1.57*fB)^(1/2))*inw;\n",
"\n",
"Eno=sqrt((Enoe^2)+(Enoi^2)+(EnoRmax^2));\n",
"\n",
"printf('\n\n(b) Total rms Output Noise=%.2f mV',Eno*10^3);\n",
"\n",
"printf('\n    Bandwidth(fB)=%.d Hz',fB);"
   ]
   }
,
{
		   "cell_type": "markdown",
		   "metadata": {},
		   "source": [
			"## Example 7.1_a: Noise_Properties.sce"
		   ]
		  },
  {
"cell_type": "code",
	   "execution_count": null,
	   "metadata": {
	    "collapsed": true
	   },
	   "outputs": [],
"source": [
"//Example 7.1(a)\n",
"\n",
"clear;\n",
"\n",
"clc;\n",
"\n",
"fL=0.1;\n",
"\n",
"fH=100;\n",
"\n",
"enw=20*10^(-9);\n",
"\n",
"fce=200;\n",
"\n",
"En=enw*sqrt((fce*log(fH/fL))+fH-fL);\n",
"\n",
"printf('Estimated RMS input voltage=%.2f uV',En*10^6);"
   ]
   }
,
{
		   "cell_type": "markdown",
		   "metadata": {},
		   "source": [
			"## Example 7.1_b: Noise_Properties.sce"
		   ]
		  },
  {
"cell_type": "code",
	   "execution_count": null,
	   "metadata": {
	    "collapsed": true
	   },
	   "outputs": [],
"source": [
"//Example 7.1(b)\n",
"\n",
"clear;\n",
"\n",
"clc;\n",
"\n",
"fL=20;\n",
"\n",
"fH=20*10^3;\n",
"\n",
"enw=20*10^(-9);\n",
"\n",
"fce=200;\n",
"\n",
"En=enw*sqrt((fce*log(fH/fL))+fH-fL);\n",
"\n",
"printf('Estimated RMS input voltage=%.2f uV',En*10^6);"
   ]
   }
,
{
		   "cell_type": "markdown",
		   "metadata": {},
		   "source": [
			"## Example 7.1_c: Noise_Properties.sce"
		   ]
		  },
  {
"cell_type": "code",
	   "execution_count": null,
	   "metadata": {
	    "collapsed": true
	   },
	   "outputs": [],
"source": [
"//Example 7.1(c)\n",
"\n",
"clear;\n",
"\n",
"clc;\n",
"\n",
"fL=0.1;\n",
"\n",
"fH=1*10^6;\n",
"\n",
"enw=20*10^(-9);\n",
"\n",
"fce=200;\n",
"\n",
"En=enw*sqrt((fce*log(fH/fL))+fH-fL);\n",
"\n",
"printf('Estimated RMS input voltage=%.1f uV',En*10^6);"
   ]
   }
,
{
		   "cell_type": "markdown",
		   "metadata": {},
		   "source": [
			"## Example 7.3: Graphical_Representation_of_Noise_Dynamics.sce"
		   ]
		  },
  {
"cell_type": "code",
	   "execution_count": null,
	   "metadata": {
	    "collapsed": true
	   },
	   "outputs": [],
"source": [
"//Example 7.3\n",
"\n",
"clear;\n",
"\n",
"clc;\n",
"\n",
"fL1=1;\n",
"\n",
"fH1=1*10^3;\n",
"\n",
"fL2=fH1;\n",
"\n",
"fH2=10*10^3;\n",
"\n",
"fL3=fH2;\n",
"\n",
"//fH3=infinity\n",
"\n",
"enw=20*10^(-9);\n",
"\n",
"fce=100;\n",
"\n",
"Eno1=enw*sqrt((fce*log(fH1/fL1))+fH1-fL1);\n",
"\n",
"eno=enw/fL2;\n",
"\n",
"Eno2=sqrt(integrate('(eno*f)^2','f',fL2,fH2));\n",
"\n",
"f0=100*10^3;\n",
"\n",
"enw3=200*10^(-9);\n",
"\n",
"Eno3=enw3*sqrt((1.57*f0)-fL3);\n",
"\n",
"Eno=sqrt((Eno1^2)+(Eno2^2)+(Eno3^2));\n",
"\n",
"printf('Estimated rms noise voltage=%.1f uV',Eno*10^6);"
   ]
   }
,
{
		   "cell_type": "markdown",
		   "metadata": {},
		   "source": [
			"## Example 7.4: Calculation_of_Thermal_Noise.sce"
		   ]
		  },
  {
"cell_type": "code",
	   "execution_count": null,
	   "metadata": {
	    "collapsed": true
	   },
	   "outputs": [],
"source": [
"//Example 7.4\n",
"\n",
"clear;\n",
"\n",
"clc;\n",
"\n",
"R=10*10^3;\n",
"\n",
"k=1.38*10^(-23);\n",
"\n",
"T=25+273;//Room Temperature in Kelvin\n",
"\n",
"eR=sqrt(4*k*T*R);\n",
"\n",
"printf('(a) Noise Voltage(eR)=%.2f nV/sqrt(Hz)',eR*10^9);\n",
"\n",
"iR=eR/R;\n",
"\n",
"printf('\n(b) Noise Current(iR)=%.2f pA/sqrt(Hz)',iR*10^12);\n",
"\n",
"fH=20*10^3;\n",
"\n",
"fL=20;\n",
"\n",
"ER=eR*sqrt(fH-fL);\n",
"\n",
"printf('\n(c) rms noise voltage over audio range=%.2f uV',ER*10^6);"
   ]
   }
,
{
		   "cell_type": "markdown",
		   "metadata": {},
		   "source": [
			"## Example 7.5_a: Calculation_of_Shot_Noise.sce"
		   ]
		  },
  {
"cell_type": "code",
	   "execution_count": null,
	   "metadata": {
	    "collapsed": true
	   },
	   "outputs": [],
"source": [
"//Example 7.5(a)\n",
"\n",
"clear;\n",
"\n",
"clc;\n",
"\n",
"ID=1*10^(-6);\n",
"\n",
"fH=1*10^6;\n",
"\n",
"q=1.602*10^(-19);\n",
"\n",
"In=sqrt(2*q*ID*fH);\n",
"\n",
"SNR=20*log10(ID/In);\n",
"\n",
"printf('Signal to Noise Ratio=%.1f dB',SNR);"
   ]
   }
,
{
		   "cell_type": "markdown",
		   "metadata": {},
		   "source": [
			"## Example 7.5_b: Calculation_of_Shot_Noise.sce"
		   ]
		  },
  {
"cell_type": "code",
	   "execution_count": null,
	   "metadata": {
	    "collapsed": true
	   },
	   "outputs": [],
"source": [
"//Example 7.5(b)\n",
"\n",
"clear;\n",
"\n",
"clc;\n",
"\n",
"ID=1*10^(-9);\n",
"\n",
"fH=1*10^6;\n",
"\n",
"q=1.602*10^(-19);\n",
"\n",
"In=sqrt(2*q*ID*fH);\n",
"\n",
"SNR=20*log10(ID/In);\n",
"\n",
"printf('Signal to Noise Ratio=%.1f dB',SNR);"
   ]
   }
,
{
		   "cell_type": "markdown",
		   "metadata": {},
		   "source": [
			"## Example 7.7_a: Total_Output_Noise_in_an_Op_Amp.sce"
		   ]
		  },
  {
"cell_type": "code",
	   "execution_count": null,
	   "metadata": {
	    "collapsed": true
	   },
	   "outputs": [],
"source": [
"//Example 7.7(a)\n",
"\n",
"clear;\n",
"\n",
"clc;\n",
"\n",
"R1=100*10^3;\n",
"\n",
"R2=200*10^3;\n",
"\n",
"R3=68*10^3;\n",
"\n",
"enw=20*10^(-9);\n",
"\n",
"fce=200;\n",
"\n",
"ft=1*10^6;\n",
"\n",
"inw=0.5*10^(-12);\n",
"\n",
"fci=2*10^3;\n",
"\n",
"Rp=(R1*R2)/(R1+R2);\n",
"\n",
"Ano=1+(R2/R1);\n",
"\n",
"fB=ft/Ano;\n",
"\n",
"fL=0.1;\n",
"\n",
"Enoe=Ano*enw*sqrt([{fce*log(fB/fL)}+{1.57*fB}-fL]);\n",
"\n",
"Enoi=Ano*[{(R3^2)+(Rp^2)}^(1/2)]*inw*([(fci*log(fB/fL))+(1.57*fB)]^(1/2));\n",
"\n",
"k=1.38*10^(-23);\n",
"\n",
"T=25+273;//Room temperature in Kelvin\n",
"\n",
"EnoR=Ano*[{(4*k*T)*(R3+Rp)*1.57*fB}^(1/2)];\n",
"\n",
"Eno=sqrt((Enoe^2)+(Enoi^2)+(EnoR^2));\n",
"\n",
"printf('RMS Output Noise Voltage=%.f uV',Eno*10^6);\n",
"\n",
"printf('\nPeak to Peak Noise Voltage=%.2f mV',6.6*Eno*10^3);"
   ]
   }
,
{
		   "cell_type": "markdown",
		   "metadata": {},
		   "source": [
			"## Example 7.8: Improvement_in_the_Circuit_to_find_the_Total_Output_Noise.sce"
		   ]
		  },
  {
"cell_type": "code",
	   "execution_count": null,
	   "metadata": {
	    "collapsed": true
	   },
	   "outputs": [],
"source": [
"//Example 7.8\n",
"\n",
"clear;\n",
"\n",
"clc;\n",
"\n",
"R1=100*10^3;\n",
"\n",
"R2=200*10^3;\n",
"\n",
"R3=68*10^3;\n",
"\n",
"enw=20*10^(-9);\n",
"\n",
"fce=200;\n",
"\n",
"ft=1*10^6;\n",
"\n",
"inw=0.5*10^(-12);\n",
"\n",
"fci=2*10^3;\n",
"\n",
"Rp=(R1*R2)/(R1+R2);\n",
"\n",
"Ano=1+(R2/R1);\n",
"\n",
"fB=ft/Ano;\n",
"\n",
"fL=0.1;\n",
"\n",
"Enoeold=Ano*enw*sqrt([{fce*log(fB/fL)}+{1.57*fB}-fL]);\n",
"\n",
"Enoiold=Ano*[{(R3^2)+(Rp^2)}^(1/2)]*inw*([(fci*log(fB/fL))+(1.57*fB)]^(1/2));\n",
"\n",
"k=1.38*10^(-23);\n",
"\n",
"T=25+273;//Room temperature in Kelvin\n",
"\n",
"EnoRold=Ano*[{(4*k*T)*(R3+Rp)*1.57*fB}^(1/2)];\n",
"\n",
"Enoold=sqrt((Enoeold^2)+(Enoiold^2)+(EnoRold^2));\n",
"\n",
"Enonew=50*10^(-6);//New Value of Eno mentioned in problem\n",
"\n",
"Enoisum=(Enonew^2)-(Enoeold^2);//sum of (Enoi^2) and (EnoR^2)\n",
"\n",
"Enoinewsq=(Ano^2)*(inw^2)*[(fci*log(fB/fL))+(1.57*fB)];//(Enoinew^2)/(R^2)\n",
"\n",
"EnoRnewsq=(Ano^2)*((4*k*T)*1.57*fB);\n",
"\n",
"r=poly(0,'x');\n",
"\n",
"p=(Enoinewsq*(r^2))+(EnoRnewsq*r)-Enoisum;\n",
"\n",
"[r1]=roots(p);\n",
"\n",
"R=r1(2,1)\n",
"\n",
"R3new=R/2;\n",
"\n",
"R1new=(3*R3new)/2;\n",
"\n",
"R2new=2*R1new;\n",
"\n",
"printf('Resistances after scaling are :');\n",
"\n",
"printf('\nR1=%.2f kohms',R1new*10^(-3));\n",
"\n",
"printf('\nR2=%.1f kohms',R2new*10^(-3));\n",
"\n",
"printf('\nR3=%.1f kohms',R3new*10^(-3));"
   ]
   }
,
{
		   "cell_type": "markdown",
		   "metadata": {},
		   "source": [
			"## Example 7.9: Calculation_of_Signal_to_Noise_Ratio.sce"
		   ]
		  },
  {
"cell_type": "code",
	   "execution_count": null,
	   "metadata": {
	    "collapsed": true
	   },
	   "outputs": [],
"source": [
"//Example 7.9\n",
"\n",
"clear;\n",
"\n",
"clc;\n",
"\n",
"R1=100*10^3;//From Example 7.7(a)\n",
"\n",
"R2=200*10^3;//From Example 7.7(a)\n",
"\n",
"Aso=-(R2/R1);\n",
"\n",
"Eno=154*10^(-6);//From Example 7.9\n",
"\n",
"Eni=Eno/abs(Aso);\n",
"\n",
"Vipa=0.5;//Peak amplitude of input ac signal\n",
"\n",
"Virms=Vipa/sqrt(2);\n",
"\n",
"SNR=20*log10(Virms/Eni);\n",
"\n",
"printf('SNR of the circuit of Example 7.7=%.1f dB',SNR);"
   ]
   }
],
"metadata": {
		  "kernelspec": {
		   "display_name": "Scilab",
		   "language": "scilab",
		   "name": "scilab"
		  },
		  "language_info": {
		   "file_extension": ".sce",
		   "help_links": [
			{
			 "text": "MetaKernel Magics",
			 "url": "https://github.com/calysto/metakernel/blob/master/metakernel/magics/README.md"
			}
		   ],
		   "mimetype": "text/x-octave",
		   "name": "scilab",
		   "version": "0.7.1"
		  }
		 },
		 "nbformat": 4,
		 "nbformat_minor": 0
}
