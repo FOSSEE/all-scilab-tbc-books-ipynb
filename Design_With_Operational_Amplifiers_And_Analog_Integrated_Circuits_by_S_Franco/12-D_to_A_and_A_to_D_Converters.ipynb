{
"cells": [
 {
		   "cell_type": "markdown",
	   "metadata": {},
	   "source": [
       "# Chapter 12: D to A and A to D Converters"
	   ]
	},
{
		   "cell_type": "markdown",
		   "metadata": {},
		   "source": [
			"## Example 12.1: Specifications_of_DAC.sce"
		   ]
		  },
  {
"cell_type": "code",
	   "execution_count": null,
	   "metadata": {
	    "collapsed": true
	   },
	   "outputs": [],
"source": [
"//Example 12.1\n",
"\n",
"clear;\n",
"\n",
"clc;\n",
"\n",
"k=['000' '001' '010' '011' '100' '101' '110' '111'];\n",
"\n",
"vo=[0 1/8 2/8 3/8 4/8 5/8 6/8 7/8];\n",
"\n",
"voact=[0 1/8 3/16 7/16 3/8 11/16 11/16 7/8];\n",
"\n",
"INL=(voact-vo)*8;\n",
"\n",
"for i=2:8\n",
"    DNL(1,i)=INL(1,i)-INL(1,i-1);\n",
"end\n",
"\n",
"DNL(1,1)=INL(1,1)\n",
"\n",
"printf('INL=');\n",
"\n",
"disp(INL);\n",
"\n",
"printf('\nDNL=');\n",
"\n",
"disp(DNL);\n",
"\n",
"printf('\nThe maxima of INL and DNL are, respectively, INL=1 LSB and DNL=(3/2) LSB.We observe');\n",
"\n",
"printf('\na nonmonotonicity as the code changes from 011 and 100, where the step size is');\n",
"\n",
"printf('\n(-1/2) LSB instead of (+1 LSB); hence, DNL(100)=-(1/2)-(+1)=(-3/2) LSB<-1 LSB.');\n",
"\n",
"printf('\nThe fact that DNL(101)=(3/2) LSB>1 LSB, though undesirable, does not cause nonmonotocity.');"
   ]
   }
,
{
		   "cell_type": "markdown",
		   "metadata": {},
		   "source": [
			"## Example 12.2: Specifications_of_ADC.sce"
		   ]
		  },
  {
"cell_type": "code",
	   "execution_count": null,
	   "metadata": {
	    "collapsed": true
	   },
	   "outputs": [],
"source": [
"//Example 12.2\n",
"\n",
"clear;\n",
"\n",
"clc;\n",
"\n",
"n=10;\n",
"\n",
"Vfsr=10.24;\n",
"\n",
"StoNDsumdB=56;\n",
"\n",
"Eq=Vfsr/((2^n)*sqrt(12));\n",
"\n",
"SNRdB=(6.02*n)+1.76;\n",
"\n",
"ENOB=(StoNDsumdB-1.76)/6.02;\n",
"\n",
"printf('Eq=%.2f mV',Eq*10^3);\n",
"\n",
"printf('\nSNR(max)=%.2f dB',SNRdB);\n",
"\n",
"printf('\nENOB=%.2f',ENOB);"
   ]
   }
,
{
		   "cell_type": "markdown",
		   "metadata": {},
		   "source": [
			"## Example 12.3: DAC_using_a_current_mode_R_2R_ladder.sce"
		   ]
		  },
  {
"cell_type": "code",
	   "execution_count": null,
	   "metadata": {
	    "collapsed": true
	   },
	   "outputs": [],
"source": [
"//Example 12.3\n",
"\n",
"clear;\n",
"\n",
"clc;\n",
"\n",
"n=12;\n",
"\n",
"Vref=10;\n",
"\n",
"Troom=25;\n",
"\n",
"Tmin=0\n",
"\n",
"Tmax=70;\n",
"\n",
"erfa=1/4;\n",
"\n",
"er=Vref/(2^14);\n",
"\n",
"Temax=Tmax-Troom;\n",
"\n",
"id=er/Temax;\n",
"\n",
"TCmaxVref=id/Vref;\n",
"\n",
"ng=2;//Noise Gain\n",
"\n",
"TCmaxVos=id/ng;\n",
"\n",
"printf('TCmax(Vref)=(+-)%.2f ppm/degC',TCmaxVref*10^6);\n",
"\n",
"printf('\nTCmax(Vos)=(+-)%.1f uV/degC',TCmaxVos*10^6);"
   ]
   }
,
{
		   "cell_type": "markdown",
		   "metadata": {},
		   "source": [
			"## Example 12.4: Designing_Digitally_Programmable_filter.sce"
		   ]
		  },
  {
"cell_type": "code",
	   "execution_count": null,
	   "metadata": {
	    "collapsed": true
	   },
	   "outputs": [],
"source": [
"//Example 12.4\n",
"\n",
"clear;\n",
"\n",
"clc;\n",
"\n",
"Q=1/sqrt(2);\n",
"\n",
"H0bp=-1;\n",
"\n",
"f0step=10;\n",
"\n",
"n=10;\n",
"\n",
"R2=10*10^3;//Assumed\n",
"\n",
"R4=R2;//Assumed\n",
"\n",
"C=1*10^(-9);//Assumed\n",
"\n",
"f0FSR=(2^n)*f0step;\n",
"\n",
"R5=1/(2*%pi*f0FSR*C);\n",
"\n",
"R3=Q*sqrt(R2*R4);\n",
"\n",
"R1=-R3/H0bp;\n",
"\n",
"printf('Designed Digitally Programmable filter :');\n",
"\n",
"printf('\nR1=%.2f kohms',R1*10^(-3));\n",
"\n",
"printf('\nR2=%.f kohms',R2*10^(-3));\n",
"\n",
"printf('\nR3=%.2f kohms',R3*10^(-3));\n",
"\n",
"printf('\nR4=%.f kohms',R4*10^(-3));\n",
"\n",
"printf('\nR5=%.2f kohms',R5*10^(-3));\n",
"\n",
"printf('\nC=%.f nF',C*10^9);"
   ]
   }
,
{
		   "cell_type": "markdown",
		   "metadata": {},
		   "source": [
			"## Example 12.5: Designing_Digitally_programmable_triangular_or_square_wave_oscillator.sce"
		   ]
		  },
  {
"cell_type": "code",
	   "execution_count": null,
	   "metadata": {
	    "collapsed": true
	   },
	   "outputs": [],
"source": [
"//Example 12.5\n",
"\n",
"clear;\n",
"\n",
"clc;\n",
"\n",
"Vclamp=5;\n",
"\n",
"n=12;\n",
"\n",
"f0step=1;\n",
"\n",
"Vz5=3.6;\n",
"\n",
"R1=20*10^3;\n",
"\n",
"R2=R1;\n",
"\n",
"R3=6.2*10^3;\n",
"\n",
"f0FSR=(2^n)*f0step;\n",
"\n",
"iO=100*10^(-6);\n",
"\n",
"C=(iO*(R2/R1))/(4*Vclamp*f0FSR);\n",
"\n",
"printf('Designed Digitally Programmable triangular or square wave oscillator');\n",
"\n",
"printf('\nR1=%.f kohms',R1*10^(-3));\n",
"\n",
"printf('\nR2=%.f kohms',R2*10^(-3));\n",
"\n",
"printf('\nR3=%.1f kohms',R3*10^(-3));\n",
"\n",
"printf('\nC=%.2f nF',C*10^9);\n",
"\n",
"printf('\nUse 1.0 nF, which is more easily available, and raise R1 to 24.3 kohms,1 percent');"
   ]
   }
,
{
		   "cell_type": "markdown",
		   "metadata": {},
		   "source": [
			"## Example 12.6: Concept_of_Oversampling.sce"
		   ]
		  },
  {
"cell_type": "code",
	   "execution_count": null,
	   "metadata": {
	    "collapsed": true
	   },
	   "outputs": [],
"source": [
"//Example 12.6\n",
"\n",
"clear;\n",
"\n",
"clc;\n",
"\n",
"n=12;\n",
"\n",
"nreqd=16;\n",
"\n",
"resbits=nreqd-n;\n",
"\n",
"m=resbits/(1/2);\n",
"\n",
"fS=44.1*10^3;\n",
"\n",
"fovers=(2^m)*fS;\n",
"\n",
"SNRmax=(6.02*(n+(0.5*m)))+1.76;\n",
"\n",
"printf('Oversampling Frequency=%.2f MHz',fovers*10^(-6));\n",
"\n",
"printf('\nSNRmax=%.2f dB',SNRmax);"
   ]
   }
,
{
		   "cell_type": "markdown",
		   "metadata": {},
		   "source": [
			"## Example 12.7: Noise_Shaping_and_Integrate_Difference_Converters.sce"
		   ]
		  },
  {
"cell_type": "code",
	   "execution_count": null,
	   "metadata": {
	    "collapsed": true
	   },
	   "outputs": [],
"source": [
"//Example 12.7\n",
"\n",
"clear;\n",
"\n",
"clc;\n",
"\n",
"SNRmaxmindB=96;\n",
"\n",
"SNRmaxminb=16;\n",
"\n",
"n=1;\n",
"\n",
"m1=((((SNRmaxmindB+3.41)/6.02)-n)/1.5);\n",
"\n",
"m1app=m1-0.042193;//Approximation for m1\n",
"\n",
"k1=2^m1app;\n",
"\n",
"m2=((((SNRmaxmindB+11.14)/6.02)-n)/2.5)\n",
"\n",
"k2=2^m2;\n",
"\n",
"printf('k for first order Integrate Difference ADC  : k=%.f',k1);\n",
"\n",
"printf('\nk for second order Integrate Difference ADC : k=%.d',k2);"
   ]
   }
],
"metadata": {
		  "kernelspec": {
		   "display_name": "Scilab",
		   "language": "scilab",
		   "name": "scilab"
		  },
		  "language_info": {
		   "file_extension": ".sce",
		   "help_links": [
			{
			 "text": "MetaKernel Magics",
			 "url": "https://github.com/calysto/metakernel/blob/master/metakernel/magics/README.md"
			}
		   ],
		   "mimetype": "text/x-octave",
		   "name": "scilab",
		   "version": "0.7.1"
		  }
		 },
		 "nbformat": 4,
		 "nbformat_minor": 0
}
