{
"cells": [
 {
		   "cell_type": "markdown",
	   "metadata": {},
	   "source": [
       "# Chapter 9: Non Linear Circuits"
	   ]
	},
{
		   "cell_type": "markdown",
		   "metadata": {},
		   "source": [
			"## Example 9.1: Comparator_as_a_Level_Detector_I.sce"
		   ]
		  },
  {
"cell_type": "code",
	   "execution_count": null,
	   "metadata": {
	    "collapsed": true
	   },
	   "outputs": [],
"source": [
"//Example 9.1\n",
"\n",
"clear;\n",
"\n",
"clc;\n",
"\n",
"Vref=2;\n",
"\n",
"R1=20*10^3;\n",
"\n",
"R2=30*10^3;\n",
"\n",
"Vos=5*10^(-3);\n",
"\n",
"IB=250*10^(-9);\n",
"\n",
"Rpar=(R1*R2)/(R1+R2);\n",
"\n",
"VN=Rpar*IB;\n",
"\n",
"Vneti=Vos+VN;\n",
"\n",
"VT=(1+(R2/R1))*(Vref-Vneti);\n",
"\n",
"printf('Worst Case Error=%.f mV',Vneti*10^3);"
   ]
   }
,
{
		   "cell_type": "markdown",
		   "metadata": {},
		   "source": [
			"## Example 9.2: Comparator_as_a_Level_Detector_II.sce"
		   ]
		  },
  {
"cell_type": "code",
	   "execution_count": null,
	   "metadata": {
	    "collapsed": true
	   },
	   "outputs": [],
"source": [
"//Example 9.2\n",
"\n",
"clear;\n",
"\n",
"clc;\n",
"\n",
"Vref=2.5;\n",
"\n",
"IR=1*10^(-3);\n",
"\n",
"ILED=2*10^(-3);\n",
"\n",
"VLED=1.8;\n",
"\n",
"Vb=12;\n",
"\n",
"Vbmax=13;\n",
"\n",
"Vbmin=10;\n",
"\n",
"R4o=(Vbmax-VLED)/ILED;\n",
"\n",
"R1o=10*10^(3);\n",
"\n",
"R2o=((Vbmax/Vref)-1)*R1o;\n",
"\n",
"R4u=(Vbmin-VLED)/ILED;\n",
"\n",
"R1u=10*10^(3);\n",
"\n",
"R2u=((Vbmin/Vref)-1)*R1u;\n",
"\n",
"R3u=(Vb-Vref)/IR;\n",
"\n",
"printf('Designed Circuit for Voltage Indicator :');\n",
"\n",
"printf('\n\nCircuit Elements for Overvoltage Circuit :');\n",
"\n",
"printf('\nR1=%.f kohms',R1o*10^(-3));\n",
"\n",
"printf('\nR2=%.2f kohms',(R2o*10^(-3))+0.2);\n",
"\n",
"printf('\nR4=%.1f kohms',R4o*10^(-3));\n",
"\n",
"printf('\n\nCircuit Elements for Undervoltage Circuit :');\n",
"\n",
"printf('\nR1=%.f kohms',R1u*10^(-3));\n",
"\n",
"printf('\nR2=%.1f kohms',(R2u*10^(-3))+0.1);\n",
"\n",
"printf('\nR3=%.f kohms',R3u*10^(-3));\n",
"\n",
"printf('\nR4=%.1f kohms',(R4u*10^(-3))-0.2);"
   ]
   }
,
{
		   "cell_type": "markdown",
		   "metadata": {},
		   "source": [
			"## Example 9.3: Designing_On_Off_Temperature_Controller.sce"
		   ]
		  },
  {
"cell_type": "code",
	   "execution_count": null,
	   "metadata": {
	    "collapsed": true
	   },
	   "outputs": [],
"source": [
"//Example 9.3\n",
"\n",
"clear;\n",
"\n",
"clc;\n",
"\n",
"Tmin=50+273.2;//Temperature in Kelvin\n",
"\n",
"Tmax=100+273.2;//Temperature in Kelvin\n",
"\n",
"R2=5*10^3;\n",
"\n",
"VTmax=Tmax/100;\n",
"\n",
"VTmin=Tmin/100;\n",
"\n",
"I2=(VTmax-VTmin)/R2;\n",
"\n",
"R3=VTmin/I2;\n",
"\n",
"Vref=6.9;\n",
"\n",
"R1=(Vref-VTmax)/I2;\n",
"\n",
"R4=2*10^3;\n",
"\n",
"R5=6.2*10^3;\n",
"\n",
"R6=10*10^3;\n",
"\n",
"printf('Designed On-Off Temperature Controller :');\n",
"\n",
"printf('\nR1=%.1f kohms',R1*10^(-3));\n",
"\n",
"printf('\nR2=%.2f kohms',R2*10^(-3));\n",
"\n",
"printf('\nR3=%.1f kohms',R3*10^(-3));\n",
"\n",
"printf('\nR4=%.f kohms',R4*10^(-3));\n",
"\n",
"printf('\nR5=%.1f kohms',R5*10^(-3));\n",
"\n",
"printf('\nR6=%.f kohms',R6*10^(-3));"
   ]
   }
,
{
		   "cell_type": "markdown",
		   "metadata": {},
		   "source": [
			"## Example 9.4: Comparator_as_a_Window_Detector.sce"
		   ]
		  },
  {
"cell_type": "code",
	   "execution_count": null,
	   "metadata": {
	    "collapsed": true
	   },
	   "outputs": [],
"source": [
"//Example 9.4\n",
"\n",
"clear;\n",
"\n",
"clc;\n",
"\n",
"VCC=5\n",
"\n",
"VCCmax=VCC+((5/100)*VCC);\n",
"\n",
"VCCmin=VCC-((5/100)*VCC);\n",
"\n",
"IB=1*10^(-3);\n",
"\n",
"Vled=1.5;\n",
"\n",
"Iled=10*10^(-3);\n",
"\n",
"vN=2.5;//For Bottom Comparator\n",
"\n",
"vP=2.5;//For Top Comparator\n",
"\n",
"R1=10*10^3;\n",
"\n",
"Rsum=R1/(vN/VCCmax);\n",
"\n",
"R2=((vP/VCCmin)*(Rsum))-R1;\n",
"\n",
"R3=Rsum-R1-R2;\n",
"\n",
"VBE=0.7;\n",
"\n",
"R4=(VCC-VBE)/IB;\n",
"\n",
"R5=(VCC-vN)/IB;\n",
"\n",
"R6=(VCC-Vled)/Iled;\n",
"\n",
"printf('Designed Video Detector :');\n",
"\n",
"printf('\nR1=%.2f kohms',R1*10^(-3));\n",
"\n",
"printf('\nR2=%.2f kohms',R2*10^(-3));\n",
"\n",
"printf('\nR3=%.f kohms',R3*10^(-3));\n",
"\n",
"printf('\nR4=%.2f kohms',R4*10^(-3));\n",
"\n",
"printf('\nR5=%.2f kohms',(R5*10^(-3))+0.2);\n",
"\n",
"printf('\nR6=%.2f ohms',R6-20);"
   ]
   }
,
{
		   "cell_type": "markdown",
		   "metadata": {},
		   "source": [
			"## Example 9.5: Designing_Single_Supply_Inverting_Schmitt_trigger.sce"
		   ]
		  },
  {
"cell_type": "code",
	   "execution_count": null,
	   "metadata": {
	    "collapsed": true
	   },
	   "outputs": [],
"source": [
"//Example 9.5\n",
"\n",
"clear;\n",
"\n",
"clc;\n",
"\n",
"VCC=5;\n",
"\n",
"Vol=0;\n",
"\n",
"Vtl=1.5;\n",
"\n",
"Vth=2.5;\n",
"\n",
"R4=2.2*10^3;//Assumed\n",
"\n",
"R3=100*10^3;//Assumed (Much Greater than R4)\n",
"\n",
"A=[(Vtl/(VCC-Vtl)) -1;1 -((VCC-Vth)/Vth)];\n",
"\n",
"B=[((Vtl/(VCC-Vtl))*(1/R3));-((1/R3)*((VCC-Vth)/Vth))];\n",
"\n",
"Rrec=linsolve(A,B);\n",
"\n",
"R1rec=Rrec(1,1);\n",
"\n",
"R2rec=Rrec(2,1);\n",
"\n",
"R1=1/R1rec;\n",
"\n",
"R2=1/R2rec;\n",
"\n",
"printf('Designing Single Supply Inverting Schmitt trigger :');\n",
"\n",
"printf('\nR1=%.2f kohms',R1*10^(-3));\n",
"\n",
"printf('\nR2=%.1f kohms',R2*10^(-3));\n",
"\n",
"printf('\nR3=%.f kohms',R3*10^(-3));\n",
"\n",
"printf('\nR4=%.1f kohms',R4*10^(-3));"
   ]
   }
,
{
		   "cell_type": "markdown",
		   "metadata": {},
		   "source": [
			"## Example 9.6: Hysteresis_in_On_Off_Controllers.sce"
		   ]
		  },
  {
"cell_type": "code",
	   "execution_count": null,
	   "metadata": {
	    "collapsed": true
	   },
	   "outputs": [],
"source": [
"//Example 9.6\n",
"\n",
"clear;\n",
"\n",
"clc;\n",
"\n",
"hys=1;\n",
"\n",
"VBEon=0.9;\n",
"\n",
"Tmin=50+273.2;//Temperature in Kelvin\n",
"\n",
"Tmax=100+273.2;//Temperature in Kelvin\n",
"\n",
"R2=5*10^3;\n",
"\n",
"VTmax=Tmax/100;\n",
"\n",
"VTmin=Tmin/100;\n",
"\n",
"I2=(VTmax-VTmin)/R2;\n",
"\n",
"R3=VTmin/I2;\n",
"\n",
"Vref=6.9;\n",
"\n",
"R1=(Vref-VTmax)/I2;\n",
"\n",
"R4=2*10^3;\n",
"\n",
"R5=6.2*10^3;\n",
"\n",
"R6=10*10^3;\n",
"\n",
"Rw=((R1+(R2/2))*(R3+(R2/2)))/((R1+(R2/2))+(R3+(R2/2)));\n",
"\n",
"delvo=VBEon;\n",
"\n",
"sen=10*10^(-3);\n",
"\n",
"delvp=2*hys*sen;\n",
"\n",
"RF=((delvo*Rw)/delvp)-Rw;\n",
"\n",
"printf('Designed On-Off Temperature Controller :');\n",
"\n",
"printf('\nR1=%.1f kohms',R1*10^(-3));\n",
"\n",
"printf('\nR2=%.2f kohms',R2*10^(-3));\n",
"\n",
"printf('\nR3=%.1f kohms',R3*10^(-3));\n",
"\n",
"printf('\nR4=%.f kohms',R4*10^(-3));\n",
"\n",
"printf('\nR5=%.1f kohms',R5*10^(-3));\n",
"\n",
"printf('\nR6=%.f kohms',R6*10^(-3));\n",
"\n",
"printf('\nFeedback Resistance (Rf)=%.f kohms',(RF*10^(-3))-9);"
   ]
   }
],
"metadata": {
		  "kernelspec": {
		   "display_name": "Scilab",
		   "language": "scilab",
		   "name": "scilab"
		  },
		  "language_info": {
		   "file_extension": ".sce",
		   "help_links": [
			{
			 "text": "MetaKernel Magics",
			 "url": "https://github.com/calysto/metakernel/blob/master/metakernel/magics/README.md"
			}
		   ],
		   "mimetype": "text/x-octave",
		   "name": "scilab",
		   "version": "0.7.1"
		  }
		 },
		 "nbformat": 4,
		 "nbformat_minor": 0
}
