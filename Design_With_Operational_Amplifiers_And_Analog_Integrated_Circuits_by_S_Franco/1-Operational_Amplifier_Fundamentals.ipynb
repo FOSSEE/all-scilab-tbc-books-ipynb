{
"cells": [
 {
		   "cell_type": "markdown",
	   "metadata": {},
	   "source": [
       "# Chapter 1: Operational Amplifier Fundamentals"
	   ]
	},
{
		   "cell_type": "markdown",
		   "metadata": {},
		   "source": [
			"## Example 1.10_a: Inverting_Configuration_Characterstics.sce"
		   ]
		  },
  {
"cell_type": "code",
	   "execution_count": null,
	   "metadata": {
	    "collapsed": true
	   },
	   "outputs": [],
"source": [
"//Example 1.10(a)\n",
"\n",
"clear;\n",
"\n",
"clc;\n",
"\n",
"R1=100*10^3;\n",
"\n",
"R2=100*10^3;\n",
"\n",
"ro=75;//Output Resistance\n",
"\n",
"a=200*10^3;//Open Loop Gain for ic741\n",
" \n",
"b=R1/(R1+R2);//Feedback Factor\n",
"\n",
"T=a*b;//Loop Gain\n",
"\n",
"Trec=1/T;\n",
"\n",
"Atemp=1+Trec;\n",
"\n",
"Atempr=1/Atemp;\n",
"\n",
"A=(-R2/R1)*Atempr;//Gain\n",
"\n",
"Rnnum=R2+ro;\n",
"\n",
"Rnden=1+a;\n",
"\n",
"Rn=Rnnum/Rnden;//Equivalent Resistance of the  inverting input(Calculation Mistake in the book as a is taken as 10^5 rather than 2*10^5)\n",
"\n",
"Ri=R1+Rn;//Equivalent Input Resistance\n",
"\n",
"Ro=ro/(1+T);//Equivalent Output Resistance\n",
"\n",
"printf('A=%.5f V/V',A);\n",
"\n",
"printf('\nRn=%.2f ohms ',Rn);//answer in textbook is wrong\n",
"\n",
"printf('\nRi=%.2f kohms',(Ri/1000));\n",
"\n",
"printf('\nRo=%.2f mohms',(Ro*1000));"
   ]
   }
,
{
		   "cell_type": "markdown",
		   "metadata": {},
		   "source": [
			"## Example 1.10_b: Inverting_Configuration_Characterstics.sce"
		   ]
		  },
  {
"cell_type": "code",
	   "execution_count": null,
	   "metadata": {
	    "collapsed": true
	   },
	   "outputs": [],
"source": [
"//Example 1.10(b)\n",
"\n",
"clear;\n",
"\n",
"clc;\n",
"\n",
"R1=1*10^3;\n",
"\n",
"R2=1*10^6;\n",
"\n",
"ro=75;//Output Resistance\n",
"\n",
"a=200*10^3;//Open Loop Gain for ic741\n",
" \n",
"b=R1/(R1+R2);//Feedback Factor\n",
"\n",
"T=a*b;//Loop Gain\n",
"\n",
"Trec=1/T;\n",
"\n",
"Atemp=1+Trec;\n",
"\n",
"Atempr=1/Atemp;\n",
"\n",
"A=(-R2/R1)*Atempr;//Gain\n",
"\n",
"Rnnum=R2+ro;\n",
"\n",
"Rnden=1+a;\n",
"\n",
"Rn=Rnnum/Rnden;//Equivalent Resistance of the  inverting input(Calculation Mistake in the book as a is taken as 10^5 rather than 2*10^5)\n",
"\n",
"Ri=R1+Rn;//Equivalent Input Resistance\n",
"\n",
"Ro=ro/(1+T);//Equivalent Output Resistance\n",
"\n",
"printf('A=%.5f V/V',A);\n",
"\n",
"printf('\nRn=%.2f ohms',Rn);\n",
"\n",
"printf('\nRi=%.3f kohms',(Ri/1000));\n",
"\n",
"printf('\nRo=%.3f ohms',Ro);"
   ]
   }
,
{
		   "cell_type": "markdown",
		   "metadata": {},
		   "source": [
			"## Example 1.11_a: Finding_the_Loop_Gain.sce"
		   ]
		  },
  {
"cell_type": "code",
	   "execution_count": null,
	   "metadata": {
	    "collapsed": true
	   },
	   "outputs": [],
"source": [
"//Example 1.11(a)\n",
"\n",
"clear;\n",
"\n",
"clc;\n",
"\n",
"R1=1*10^6;\n",
"\n",
"R2=1*10^6;\n",
"\n",
"R3=100*10^3;\n",
"\n",
"R4=1*10^3;\n",
"\n",
"RL=2*10^3;//Load Resistance\n",
"\n",
"A=-(R2/R1)*(1+(R3/R2)+(R3/R4));//Ideal Gain\n",
"\n",
"printf('Ideal Gain of of the op amp (A)=%.2f V/V',A);"
   ]
   }
,
{
		   "cell_type": "markdown",
		   "metadata": {},
		   "source": [
			"## Example 1.11_b: Finding_the_Loop_Gain.sce"
		   ]
		  },
  {
"cell_type": "code",
	   "execution_count": null,
	   "metadata": {
	    "collapsed": true
	   },
	   "outputs": [],
"source": [
"//Example 1.11(b)\n",
"\n",
"clear;\n",
"\n",
"clc;\n",
"\n",
"R1=1*10^6;\n",
"\n",
"R2=1*10^6;\n",
"\n",
"R3=100*10^3;\n",
"\n",
"R4=1*10^3;\n",
"\n",
"RL=2*10^3;//Load ResistanceR1=1*10^6;\n",
"\n",
"R2=1*10^6;\n",
"\n",
"R3=100*10^3;\n",
"\n",
"R4=1*10^3;\n",
"\n",
"RL=2*10^3;//Load Resistance\n",
"\n",
"A=-(R2/R1)*(1+(R3/R2)+(R3/R4));//Ideal Gain\n",
"\n",
"rd=1*10^6;//Internal input resistance\n",
"\n",
"a=10^5;//Open Loop Gain\n",
"\n",
"ro=100;\n",
"\n",
"RA=(R1*rd)/(R1+rd);\n",
"\n",
"RB=RA+R2;\n",
"\n",
"RC=(RB*R4)/(RB+R4);\n",
"\n",
"RD=RC+R3;\n",
"\n",
"RE=(RD*RL)/(RD+RL);\n",
"\n",
"RF=RE+ro;\n",
"\n",
"c1=-(RA/RB);//vD=c1*v1\n",
"\n",
"c2=(RC/RD);//v1=c2*vo\n",
"\n",
"c3=(RE/RF);//vo=c3*vT\n",
"\n",
"c4=a*(c1*c2*c3);//vR=a*vD=a*(c1*v1)=a*(c1*c2*vo)=a*(c1*c2*c3)vT=c4*vT -> vR=c4*vT\n",
"\n",
"T=-c4;//T=(-vR/vT)=-c4 (Loop Gain)\n",
"\n",
"Trec=1/T;\n",
"\n",
"Atemp=1+Trec;\n",
"\n",
"Aactual=A/Atemp;//Actual Gain\n",
"\n",
"Adev=((Aactual-A)/A)*100;//Deviation in Gain\n",
"\n",
"printf('Actual Gain of op amp=%.1f V/V',Aactual);\n",
"\n",
"printf('\nPercentage Departure of Actual Gain from Ideal gain=%.2f',Adev);"
   ]
   }
,
{
		   "cell_type": "markdown",
		   "metadata": {},
		   "source": [
			"## Example 1.12_a: Feedback_Factor_for_Negative_Feedback.sce"
		   ]
		  },
  {
"cell_type": "code",
	   "execution_count": null,
	   "metadata": {
	    "collapsed": true
	   },
	   "outputs": [],
"source": [
"//Example 1.12(a)\n",
"\n",
"clear;\n",
"\n",
"clc;\n",
"\n",
"rd=1*10^6;//Internal Input Resistance\n",
"\n",
"a=10^4;//Open Loop Gain\n",
"\n",
"ro=100;//Internal Output Resistance\n",
"\n",
"R1=10*10^3;//shown in Fig. 1.34a\n",
"\n",
"R2=20*10^3;//shown in Fig. 1.34a\n",
"\n",
"R3=30*10^3;//shown in Fig. 1.34a\n",
"\n",
"R4=300*10^3;//Feedback Resistance (shown in Fig. 1.34a)\n",
"\n",
"RL=2*10^3;//Load Resistance\n",
"\n",
"RArec=((1/R1)+(1/R2)+(1/R3)+(1/rd))//Reciprocal of RA(parallel combination of R1, R2, R3 and rd)\n",
"\n",
"RA=1/RArec;\n",
"\n",
"RB=RA+R4;\n",
"\n",
"RC=(RB*RL)/(RB+RL);\n",
"\n",
"RD=RC+ro;\n",
"\n",
"c1=(RA/RB);//vN=c1*vo\n",
"\n",
"c2=(RC/RD);//vo=c2*vT\n",
"\n",
"b=c1*c2;//Feedback Factor b=vN/vT=c1*c2\n",
"\n",
"T=a*b;//Loop Gain\n",
"\n",
"printf('b=%.3f V/V',b);\n",
"\n",
"printf('\nT=%.2f',T);"
   ]
   }
,
{
		   "cell_type": "markdown",
		   "metadata": {},
		   "source": [
			"## Example 1.12_b: Feedback_Factor_for_Negative_Feedback.sce"
		   ]
		  },
  {
"cell_type": "code",
	   "execution_count": null,
	   "metadata": {
	    "collapsed": true
	   },
	   "outputs": [],
"source": [
"//Example 1.12(b)\n",
"\n",
"clear;\n",
"\n",
"clc;\n",
"\n",
"rd=1*10^6;//Internal Input Resistance\n",
"\n",
"a=10^4;//Open Loop Gain\n",
"\n",
"ro=100;//Internal Output Resistance\n",
"\n",
"R1=10*10^3;//shown in Fig. 1.34a\n",
"\n",
"R2=20*10^3;//shown in Fig. 1.34a\n",
"\n",
"R3=30*10^3;//shown in Fig. 1.34a\n",
"\n",
"R4=300*10^3;//Feedback Resistance (shown in Fig. 1.34a)\n",
"\n",
"RL=2*10^3;//Load Resistance\n",
"\n",
"RArec=((1/R1)+(1/R2)+(1/R3)+(1/rd))//Reciprocal of RA(parallel combination of R1, R2, R3 and rd)\n",
"\n",
"RA=1/RArec;\n",
"\n",
"RB=RA+R4;\n",
"\n",
"RC=(RB*RL)/(RB+RL);\n",
"\n",
"RD=RC+ro;\n",
"\n",
"c1=(RA/RB);//vN=c1*vo\n",
"\n",
"c2=(RC/RD);//vo=c2*vT\n",
"\n",
"b=c1*c2;//Feedback Factor b=vN/vT=c1*c2\n",
"\n",
"T=a*b;//Loop Gain\n",
"\n",
"//1.12(b)\n",
"\n",
"p1=-(R4/R1);\n",
"\n",
"p2=-(R4/R2);\n",
"\n",
"p3=-(R4/R3);\n",
"\n",
"//vo(ideal)=p1*v1+p2*v2+p3*v3\n",
"\n",
"Trec=1/T;\n",
"\n",
"ctempr=1+Trec;\n",
"\n",
"ctemp=1/ctempr;\n",
"\n",
"p1act=-(R4/R1)*ctemp;\n",
"\n",
"p2act=-(R4/R2)*ctemp;\n",
"\n",
"p3act=-(R4/R3)*ctemp;\n",
"\n",
"printf('Ideal Transfer Characterstic of the circuit vo=-(%.2f*v1',-p1);\n",
"\n",
"printf('+%.2f*v2',-p2);\n",
"\n",
"printf('+%.2f*v3)',-p3);\n",
"\n",
"printf('\nActual Transfer Characterstic of the circuit vo=-(%.2f*v1',-p1act);\n",
"\n",
"printf('+%.2f*v2',-p2act);\n",
"\n",
"printf('+%.2f*v3)',-p3act);"
   ]
   }
,
{
		   "cell_type": "markdown",
		   "metadata": {},
		   "source": [
			"## Example 1.13: Feedback_Factor_for_Combination_of_Negative_and_Positive_Feedback.sce"
		   ]
		  },
  {
"cell_type": "code",
	   "execution_count": null,
	   "metadata": {
	    "collapsed": true
	   },
	   "outputs": [],
"source": [
"//Example 1.13\n",
"\n",
"clear;\n",
"\n",
"clc;\n",
"\n",
"R1=30*10^3;//From Fig. 1.13b\n",
"\n",
"R3=20*10^3;//Feedback Resistance obtained from Fig. 1.13b\n",
"\n",
"R2=10*10^3;//Load Resistance obtained from Fig. 1.13b\n",
"\n",
"rd=100*10^3;//Internal Input Resistance\n",
"\n",
"ro=100;//Internal Output Resistance\n",
"\n",
"bNnum=((R1*rd)/(R1+rd))+R3;\n",
"\n",
"bNden=ro+R2+bNnum;\n",
"\n",
"bN=bNnum/bNden;\n",
"\n",
"bPnum=R3;\n",
"\n",
"bPden=bNden;\n",
"\n",
"bP=bPnum/bPden;\n",
"\n",
"b=bN-bP;//Feedback Factor\n",
"\n",
"printf('b=%.3f V/V',b);"
   ]
   }
,
{
		   "cell_type": "markdown",
		   "metadata": {},
		   "source": [
			"## Example 1.14_a: Current_Flow_and_Power_Dissipation.sce"
		   ]
		  },
  {
"cell_type": "code",
	   "execution_count": null,
	   "metadata": {
	    "collapsed": true
	   },
	   "outputs": [],
"source": [
"//Example 1.14(a)\n",
"\n",
"clear;\n",
"\n",
"clc;\n",
"\n",
"R1=10*10^3;\n",
"\n",
"R2=20*10^3;\n",
"\n",
"RL=2*10^3;///Load Resistance\n",
"\n",
"vI=3;//Input Voltage\n",
"\n",
"IQ=0.5*10^(-3);\n",
"\n",
"vO=-(R2/R1)*vI;//Output Voltage\n",
"\n",
"iL=-vO/RL;//Current through RL\n",
"\n",
"i1=vI/R1;//Cuurent through R1\n",
"\n",
"i2=i1;//Current through R2 (as current sunk by the op amp is 0)\n",
"\n",
"iO=i2+iL;//Output Current\n",
"\n",
"iCC=IQ;\n",
"\n",
"iEE=iCC+iO;\n",
"\n",
"printf('iCC=%.2f mA',(iCC*1000));\n",
"\n",
"printf('\niEE=%.2f mA',(iEE*1000));\n",
"\n",
"printf('\niO=%.2f mA',(iO*1000));"
   ]
   }
,
{
		   "cell_type": "markdown",
		   "metadata": {},
		   "source": [
			"## Example 1.14_b: Current_Flow_and_Power_Dissipation.sce"
		   ]
		  },
  {
"cell_type": "code",
	   "execution_count": null,
	   "metadata": {
	    "collapsed": true
	   },
	   "outputs": [],
"source": [
"//Example 1.14(b)\n",
"\n",
"clear;\n",
"\n",
"clc;\n",
"\n",
"R1=10*10^3;\n",
"\n",
"R2=20*10^3;\n",
"\n",
"RL=2*10^3;///Load Resistance\n",
"\n",
"vI=3;//Input Voltage\n",
"\n",
"IQ=0.5*10^(-3);\n",
"\n",
"vO=-(R2/R1)*vI;//Output Voltage\n",
"\n",
"iL=-vO/RL;//Current through RL\n",
"\n",
"i1=vI/R1;//Cuurent through R1\n",
"\n",
"i2=i1;//Current through R2 (as current sunk by the op amp is 0)\n",
"\n",
"iO=i2+iL;//Output Current\n",
"\n",
"iCC=IQ;\n",
"\n",
"iEE=iCC+iO;\n",
"\n",
"VCC=15;\n",
"\n",
"VEE=-15;\n",
"\n",
"IQ=0.5*10^(-3);\n",
"\n",
"pOA=(VCC-VEE)*IQ+(vO-VEE)*iO;//Power Dissipated in the Op Amp\n",
"\n",
"printf('Power Dissipated inside the op amp=%.2f mW',(pOA*1000));"
   ]
   }
,
{
		   "cell_type": "markdown",
		   "metadata": {},
		   "source": [
			"## Example 1.15_a: Designing_variable_dc_source.sce"
		   ]
		  },
  {
"cell_type": "code",
	   "execution_count": null,
	   "metadata": {
	    "collapsed": true
	   },
	   "outputs": [],
"source": [
"//Example 1.15(a)\n",
"\n",
"clear;\n",
"\n",
"clc;\n",
"\n",
"Rp=100*10^3;//Potentiometer Resistance\n",
"\n",
"VCC=15;\n",
"\n",
"VEE=-15;\n",
"\n",
"//We have to choose the resistances in such a way that we get VA=10V and VB=-10V, so that if we want the source to be in the range -10V<=vW<=10V, we need to only turn the wiper. Let RA and RB be the resistances corresponding to nodes A and B respectively.If RA=RB=25kohm then there would be a drop of 5V accross each component(RA,RB and potentiometer) which will make VA=10V and VB=-10V. Hence RA and RB are selected as 25kohms.(Refer Fig. 1.38)\n",
"\n",
"//vRA(voltage accross RA)=5=(15*RA)/(50+RA) (Using Voltade Divider Rule)where 50kohm is the potentiometer  resistance on node A side and RA is in kohms. Hence by solving the equation RA=25kohm. Similarly solve for RB. \n",
"\n",
"y=poly(0,'x');\n",
"\n",
"p=5*(y+50*(10^3))-(15*y);\n",
"\n",
"RA=roots(p);\n",
"\n",
"RB=RA;\n",
"\n",
"printf('Designed Source :');\n",
"\n",
"printf('\nRA=%.2f kohms',(RA/1000));//mentioned in the diagram\n",
"\n",
"printf('\nRB=%.2f kohms',(RB/1000));//mentioned in the diagram\n",
"\n",
"printf('\nRpot=%.2f kohms',(Rp/1000));//mentioned in the diagram"
   ]
   }
,
{
		   "cell_type": "markdown",
		   "metadata": {},
		   "source": [
			"## Example 1.15_b: Designing_variable_dc_source.sce"
		   ]
		  },
  {
"cell_type": "code",
	   "execution_count": null,
	   "metadata": {
	    "collapsed": true
	   },
	   "outputs": [],
"source": [
"//Example 1.15(b)\n",
"\n",
"clear;\n",
"\n",
"clc;\n",
"\n",
"Rp=100*10^3;//Potentiometer Resistance\n",
"\n",
"VCC=15;\n",
"\n",
"VEE=-15;\n",
"\n",
"//We have to choose the resistances in such a way that we get VA=10V and VB=-10V, so that if we want the source to be in the range -10V<=vW<=10V, we need to only turn the wiper. Let RA and RB be the resistances corresponding to nodes A and B respectively.If RA=RB=25kohm then there would be a drop of 5V accross each component(RA,RB and potentiometer) which will make VA=10V and VB=-10V. Hence RA and RB are selected as 25kohms.(Refer Fig. 1.38)\n",
"\n",
"//vRA(voltage accross RA)=5=(15*RA)/(50+RA) (Using Voltade Divider Rule)where 50kohm is the potentiometer  resistance on node A side and RA is in kohms. Hence by solving the equation RA=25kohm. Similarly solve for RB. \n",
"\n",
"y=poly(0,'x');\n",
"\n",
"p=5*(y+50*(10^3))-(15*y);\n",
"\n",
"RA=roots(p);\n",
"\n",
"RB=RA;\n",
"\n",
"RL=1*10^3;//Load Resistance\n",
"\n",
"vS=10;//Source voltage\n",
"\n",
"iL=vS/RL;//Current drawn by the load\n",
"\n",
"a=200*10^3;//Open Loop Gain (defined for 741)\n",
"\n",
"b=1;//Feedback Factor (Refer Fig. 1.38)\n",
"\n",
"T=a*b;//Loop Gain\n",
"\n",
"ro=75;//Internal Output Resistance (defined for 741)\n",
"\n",
"Ro=ro/(1+T);//Ouput Resistance\n",
"\n",
"vSchange=Ro*iL;//Change in Voltage\n",
"\n",
"printf('Change in Vs=%.3f uV',(vSchange*10^6));"
   ]
   }
,
{
		   "cell_type": "markdown",
		   "metadata": {},
		   "source": [
			"## Example 1.16: Inverting_Amplifier_driven_into_saturation.sce"
		   ]
		  },
  {
"cell_type": "code",
	   "execution_count": null,
	   "metadata": {
	    "collapsed": true
	   },
	   "outputs": [],
"source": [
"//Example 1.16\n",
"\n",
"clear;\n",
"\n",
"clc;\n",
"\n",
"//Part(I)\n",
"//This part of the program includes the plotting of the input wave (triangular wave). To plot the wave we have divided the time period(assuming T=2) into 3 time intervals t1, t2, t3 and then create voltage equation for each using the given conditions.\n",
"\n",
"VCC=13;\n",
"\n",
"VEE=-13;\n",
"\n",
"A=-2;//Gain\n",
"\n",
"t1=[0:10^(-4):0.5];\n",
"\n",
"t2=[0.5:10^(-4):1.5];\n",
"\n",
"t3=[1.5:10^(-4):2.5];\n",
"\n",
"vt1=20*t1;\n",
"\n",
"vt2=20*(1-t2);\n",
"\n",
"vt3=20*(t3-2);\n",
"\n",
"subplot(131);\n",
"\n",
"title('                                                                                                                                     Inverting Amplifier driven into saturation waveforms ','fontsize',6);\n",
"\n",
"subplot(334);\n",
"\n",
"plot(t1,vt1);\n",
"\n",
"plot(t2,vt2);\n",
"\n",
"plot(t3,vt3);\n",
"\n",
"xlabel('Time(t)','fontsize',3);\n",
"\n",
"ylabel('Input Voltage(Vin)','fontsize',3);\n",
"\n",
"title('Vin vs t','fontsize',4);\n",
"\n",
"//Part(II)\n",
"//In this part we have plotted vo by using the conditions vo=-2vI for -6.5V<vI<6.5V, otherwise vo=-13.Again we have divided the time period into 5 parts to1, to2, to3, to1i, to2i depending upon the response in each interval.\n",
"\n",
"vIbor=VCC/2;\n",
"\n",
"to1min=0;\n",
"\n",
"to1max=6.5/20;\n",
"\n",
"to2min=1-(6.5/20);\n",
"\n",
"to2max=1+(6.5/20);\n",
"\n",
"to3min=2-(6.5/20);\n",
"\n",
"to3max=2+(6.5/20);\n",
"\n",
"to1=[to1min:10^(-4):to1max];\n",
"\n",
"to2=[to2min:10^(-4):to2max];\n",
"\n",
"to3=[to3min:10^(-4):to3max];\n",
"\n",
"to1imin=to1max;\n",
"\n",
"to1imax=to2min;\n",
"\n",
"to2imin=to2max;\n",
"\n",
"to2imax=to3min;\n",
"\n",
"to1i=[to1imin:10^(-4):to1imax];\n",
"\n",
"to2i=[to2imin:10^(-4):to2imax];\n",
"\n",
"vo1=-13*(to1-to1min)/(to1max-to1min);\n",
"\n",
"vo1i=-13;\n",
"\n",
"vo2=(((13+13)/(to2max-to2min))*(to2-to2min))-13;\n",
"\n",
"vo2i=13;\n",
"\n",
"vo3=(((13+13)/(to3min-to3max))*(to3-to3max))-13;\n",
"\n",
"subplot(335);\n",
"\n",
"plot(to1,vo1);\n",
"\n",
"plot(to1i,vo1i);\n",
"\n",
"plot(to2,vo2);\n",
"\n",
"plot(to2i,vo2i);\n",
"\n",
"plot(to3,vo3);\n",
"\n",
"ylabel('Output Voltage(Vout)','fontsize',3);\n",
"\n",
"xlabel('Time(t)','fontsize',3);\n",
"\n",
"title('Vout vs t','fontsize',4);\n",
"\n",
"//Part(III)\n",
"//In this part we will plot vN for which we have divided the time period into 7 time intervals tNi1, tNi2, tNi3, tN11,  tN12, tN21, tN22 depending upon the response in each cycle voltage equation is obtained and plotted.For -6.5<vI<6.5 vN=0 and when vI will peak at 10V vN will peak at 2.33 and for vI<6-.5 and vI>6.5, circuit behaviour is symmetric.\n",
"\n",
"vIbor=VCC/2;\n",
"\n",
"tNi1min=0;\n",
"\n",
"tNi1max=6.5/20;\n",
"\n",
"tNi2min=1-(6.5/20);\n",
"\n",
"tNi2max=1+(6.5/20);\n",
"\n",
"tNi3min=2-(6.5/20);\n",
"\n",
"tNi3max=2+(6.5/20);\n",
"\n",
"tNi1=[tNi1min:10^(-4):tNi1max];\n",
"\n",
"tNi2=[tNi2min:10^(-4):tNi2max];\n",
"\n",
"tNi3=[tNi3min:10^(-4):tNi3max];\n",
"\n",
"tN11min=tNi1max;\n",
"\n",
"tN11max=(tNi2min+tNi1max)/2;\n",
"\n",
"tN12min=tN11max;\n",
"\n",
"tN12max=tNi2min;\n",
"\n",
"tN21min=tNi2max;\n",
"\n",
"tN21max=(tNi2max+tNi3min)/2;\n",
"\n",
"tN22min=tN21max;\n",
"\n",
"tN22max=tNi3min;\n",
"\n",
"tN11=[tN11min:10^(-4):tN11max];\n",
"\n",
"tN12=[tN12min:10^(-4):tN12max];\n",
"\n",
"tN21=[tN21min:10^(-4):tN21max];\n",
"\n",
"tN22=[tN22min:10^(-4):tN22max];\n",
"\n",
"vNi1=0;\n",
"\n",
"vN11=(2.33/(tN11max-tN11min))*(tN11-tN11min);\n",
"\n",
"vN12=-(2.33/(tN12max-tN12min))*(tN12-tN12max);\n",
"\n",
"vNi2=0;\n",
"\n",
"vN21=-(2.33/(tN21max-tN21min))*(tN21-tN21min);\n",
"\n",
"vN22=(2.33/(tN22max-tN22min))*(tN22-tN22max);\n",
"\n",
"vNi3=0;\n",
"\n",
"subplot(336);\n",
"\n",
"plot(tNi1,vNi1);\n",
"\n",
"plot(tN11,vN11);\n",
"\n",
"plot(tN12,vN12);\n",
"\n",
"plot(tNi2,vNi2);\n",
"\n",
"plot(tN21,vN21);\n",
"\n",
"plot(tN22,vN22);\n",
"\n",
"plot(tNi3,vNi3);\n",
"\n",
"xlabel('Time(t)','fontsize',3);\n",
"\n",
"ylabel('Vn','fontsize',3);\n",
"\n",
"title('Vn vs t','fontsize',4);"
   ]
   }
,
{
		   "cell_type": "markdown",
		   "metadata": {},
		   "source": [
			"## Example 1.1_a: Amplifier_Fundamentals.sce"
		   ]
		  },
  {
"cell_type": "code",
	   "execution_count": null,
	   "metadata": {
	    "collapsed": true
	   },
	   "outputs": [],
"source": [
"//Example 1.1(a)\n",
"\n",
"clear;\n",
"\n",
"clc;\n",
"\n",
"Ri=100*10^3;//Input Resistance\n",
"\n",
"Aoc=100;//Open Circuit Gain\n",
"\n",
"Ro=1;//Output Resistance\n",
"\n",
"Rs=25*10^3;//Source Resistance\n",
"\n",
"RL=3;//Load Resistance\n",
"\n",
"Av=(Ri/(Rs+Ri))*Aoc*(RL/(Ro+RL));//Overall Gain\n",
"\n",
"Vredin=(Ri/(Ri+Rs))*100;//Percentage Reduction in Source Voltage due to Input Loading\n",
"\n",
"Vredo=(RL/(Ro+RL))*100;//Percentage Reduction in Output Voltage due to output loading\n",
"\n",
"printf('Overall Gain (Av)=%.2f V/V',Av);\n",
"\n",
"printf('\nPercentage Input Loading=%.2f',Vredin);\n",
"\n",
"printf('\nPercentage Output Loading=%.2f',Vredo);"
   ]
   }
,
{
		   "cell_type": "markdown",
		   "metadata": {},
		   "source": [
			"## Example 1.1_b: Amplifier_Fundamentals.sce"
		   ]
		  },
  {
"cell_type": "code",
	   "execution_count": null,
	   "metadata": {
	    "collapsed": true
	   },
	   "outputs": [],
"source": [
"//Example 1.1(b)\n",
"\n",
"clear;\n",
"\n",
"clc;\n",
"\n",
"Ri=100*10^3;//Input Resistance\n",
"\n",
"Aoc=100;//Open Circuit Gain\n",
"\n",
"Ro=1;//Output Resistance\n",
"\n",
"Rs=50*10^3;//Source Resistance\n",
"\n",
"RL=4;//Load Resistance\n",
"\n",
"Av=(Ri/(Rs+Ri))*Aoc*(RL/(Ro+RL));//Overall Gain\n",
"\n",
"Vredin=(Ri/(Ri+Rs))*100;//Percentage Reduction in Source Voltage due to Input Loading\n",
"\n",
"Vredo=(RL/(Ro+RL))*100;//Percentage Reduction in Output Voltage due to output loading\n",
"\n",
"printf('Overall Gain (Av)=%.2f V/V',Av);\n",
"\n",
"printf('\nPercentage Input Loading=%.2f (Not mentioned in book)',Vredin);\n",
"\n",
"printf('\nPercentage Output Loading=%.2f (Not mentioned in book)',Vredo);"
   ]
   }
,
{
		   "cell_type": "markdown",
		   "metadata": {},
		   "source": [
			"## Example 1.2_a: Gain_of_a_Noninverting_OP_AMP.sce"
		   ]
		  },
  {
"cell_type": "code",
	   "execution_count": null,
	   "metadata": {
	    "collapsed": true
	   },
	   "outputs": [],
"source": [
"//Example 1.2(a)\n",
"\n",
"clear;\n",
"\n",
"clc;\n",
"\n",
"Vi=1;//Input Voltage\n",
"\n",
"R1=2*10^3;\n",
"\n",
"R2=18*10^3;\n",
"\n",
"a=10^2;//Open Loop Gain\n",
"\n",
"A=(1+(R2/R1))*(1+(1+(R2/R1))/a)^(-1);//Overall Gain\n",
"\n",
"Vo=Vi*A;//Output Voltage\n",
"\n",
"printf('Output Voltage (Vo)=%.3f V',Vo);"
   ]
   }
,
{
		   "cell_type": "markdown",
		   "metadata": {},
		   "source": [
			"## Example 1.2_b: Gain_of_a_Noninverting_OP_AMP.sce"
		   ]
		  },
  {
"cell_type": "code",
	   "execution_count": null,
	   "metadata": {
	    "collapsed": true
	   },
	   "outputs": [],
"source": [
"//Example 1.2(b)\n",
"\n",
"clear;\n",
"\n",
"clc;\n",
"\n",
"Vi=1;//Input Voltage\n",
"\n",
"R1=2*10^3;\n",
"\n",
"R2=18*10^3;\n",
"\n",
"a=10^4;//Open Loop Gain\n",
"\n",
"A=(1+(R2/R1))*(1+(1+(R2/R1))/a)^(-1);//Overall Gain\n",
"\n",
"Vo=Vi*A;//Output Voltage\n",
"\n",
"printf('Output Voltage (Vo)=%.3f V',Vo);"
   ]
   }
,
{
		   "cell_type": "markdown",
		   "metadata": {},
		   "source": [
			"## Example 1.2_c: Gain_of_a_Noninverting_OP_AMP.sce"
		   ]
		  },
  {
"cell_type": "code",
	   "execution_count": null,
	   "metadata": {
	    "collapsed": true
	   },
	   "outputs": [],
"source": [
"//Example 1.2(c)\n",
"\n",
"clear;\n",
"\n",
"clc;\n",
"\n",
"Vi=1;//Input Voltage\n",
"\n",
"R1=2*10^3;\n",
"\n",
"R2=18*10^3;\n",
"\n",
"a=10^6;//Open Loop Gain\n",
"\n",
"A=(1+(R2/R1))*(1+(1+(R2/R1))/a)^(-1);//Overall Gain\n",
"\n",
"Vo=Vi*A;//Output Voltage\n",
"\n",
"printf('Output Voltage (Vo)=%.4f V',Vo);"
   ]
   }
,
{
		   "cell_type": "markdown",
		   "metadata": {},
		   "source": [
			"## Example 1.3: Inverting_Amplifier_Ideal_Closed_Loop_Characterstics.sce"
		   ]
		  },
  {
"cell_type": "code",
	   "execution_count": null,
	   "metadata": {
	    "collapsed": true
	   },
	   "outputs": [],
"source": [
"//Example 1.3\n",
"\n",
"clear;\n",
"\n",
"clc;\n",
"\n",
"R1=10*10^3;\n",
"\n",
"R2=100*10^3;\n",
"\n",
"Ri=R1;//Input Resistance\n",
"\n",
"Ro=0;//Output Resistance\n",
"\n",
"A=-(R2/R1);// Ideal Overall Gain\n",
"\n",
"printf('Ri=%.2f kohms',(Ri/1000));\n",
"\n",
"printf('\nRo=%.f ohms',Ro);\n",
"\n",
"printf('\nA=%.2f V/V',A);"
   ]
   }
,
{
		   "cell_type": "markdown",
		   "metadata": {},
		   "source": [
			"## Example 1.4: Designing_Summing_Amplifiers.sce"
		   ]
		  },
  {
"cell_type": "code",
	   "execution_count": null,
	   "metadata": {
	    "collapsed": true
	   },
	   "outputs": [],
"source": [
"//Example 1.4\n",
"\n",
"clear;\n",
"\n",
"clc;\n",
"\n",
"Rf=120*10^3;//Assuming feedback resistance Rf=120*10^3\n",
"//Imposing in equation Vo=-((Rf/R1)V1+(Rf/R2)V2+(RF/R3)V3)\n",
"\n",
"R1=Rf/6;//From coefficient of V1\n",
"\n",
"R2=Rf/8;//From coefficient of V2\n",
"\n",
"R3=Rf/4;//From coefficient of V3\n",
"\n",
"printf('Designed Summing Amplifier :');\n",
"\n",
"printf('\n R1=%.2f kohms',(R1/1000));\n",
"\n",
"printf('\n R2=%.2f kohms',(R2/1000));\n",
"\n",
"printf('\n R3=%.2f kohms',(R3/1000));\n",
"\n",
"printf('\n Rf=%.2f kohms',(Rf/1000));"
   ]
   }
,
{
		   "cell_type": "markdown",
		   "metadata": {},
		   "source": [
			"## Example 1.5: Designing_Function_Generators.sce"
		   ]
		  },
  {
"cell_type": "code",
	   "execution_count": null,
	   "metadata": {
	    "collapsed": true
	   },
	   "outputs": [],
"source": [
"//Example 1.5\n",
"\n",
"clear;\n",
"\n",
"clc;\n",
"\n",
"Rf=100*10^3;//Assuming Feedback Resistance Rf\n",
"\n",
"Vee=-15;\n",
"\n",
"//Imposing Vo=-(Rf/R1)Vi-(Rf/R2)(-15)=-10Vi+5\n",
"\n",
"R1=Rf/10;\n",
"\n",
"R2=(Rf*15)/5;\n",
"\n",
"printf('Designed Function Generator :');\n",
"\n",
"printf('\n R1=%.2f kohms',(R1/1000));\n",
"\n",
"printf('\n R2=%.2f kohms',(R2/1000));\n",
"\n",
"printf('\n Rf=%.2f kohms',(Rf/1000));"
   ]
   }
,
{
		   "cell_type": "markdown",
		   "metadata": {},
		   "source": [
			"## Example 1.6: Designing_Difference_Amplifier.sce"
		   ]
		  },
  {
"cell_type": "code",
	   "execution_count": null,
	   "metadata": {
	    "collapsed": true
	   },
	   "outputs": [],
"source": [
"//Example 1.6\n",
"\n",
"clear;\n",
"\n",
"clc;\n",
"\n",
"Ri1=100*10^3;\n",
"\n",
"Ri2=100*10^3;\n",
"\n",
"//Using standard equation for difference amplifier \n",
"//vo=(R2/R1)(((1+(R1/R2))/(1+(R3/R4)))v2-v1)=v2-3v1\n",
"//Ri1=R1, Ri2=R3+R4, Ro=0\n",
"\n",
"R1=Ri1;\n",
"\n",
"R2=3*R1;\n",
"\n",
"//Solving the equations R3+R4=Ri2=100kohms and 3[(1+(1/3))/(1+(R3/R4))]=1\n",
"//3[4/3((R3+R4)/R4)]=1\n",
"//As R3+R4=100 -> 4/(100/R4)=1 -> (4R4)/100=1 -> R4/25=1 -> R4=25kohms\n",
"\n",
"R4=25*10^3;//By solving the equations mentioned above\n",
"\n",
"R3=Ri2-R4;//From standard equations\n",
"\n",
"printf('Designed Difference Amplifier :');\n",
"\n",
"printf('\nR1=%.2f kohms',(R1/1000));\n",
"\n",
"printf('\nR2=%.2f kohms',(R2/1000));\n",
"\n",
"printf('\nR3=%.2f kohms',(R3/1000));\n",
"\n",
"printf('\nR4=%.2f kohms',(R4/1000));"
   ]
   }
,
{
		   "cell_type": "markdown",
		   "metadata": {},
		   "source": [
			"## Example 1.7_a: Application_of_Negative_Feedback.sce"
		   ]
		  },
  {
"cell_type": "code",
	   "execution_count": null,
	   "metadata": {
	    "collapsed": true
	   },
	   "outputs": [],
"source": [
"//Example 1.7(a)\n",
"\n",
"clear;\n",
"\n",
"clc;\n",
"\n",
"//1.7(a)\n",
"Gerrormax=0.1;// Maximum Gain Error Percentage\n",
"\n",
"//But Gerror100/T ->Gerrormax=100/Tmin -> Tmin=100/Gerrormax\n",
"\n",
"Tmin=100/Gerrormax;\n",
"\n",
"printf('Loop Gain (T)>=%.2f',Tmin);"
   ]
   }
,
{
		   "cell_type": "markdown",
		   "metadata": {},
		   "source": [
			"## Example 1.7_b: Application_of_Negative_Feedback.sce"
		   ]
		  },
  {
"cell_type": "code",
	   "execution_count": null,
	   "metadata": {
	    "collapsed": true
	   },
	   "outputs": [],
"source": [
"//Example 1.7(b)\n",
"\n",
"clear;\n",
"\n",
"clc;\n",
"\n",
"Gerrormax=0.1;// Maximum Gain Error Percentage\n",
"\n",
"//But Gerror100/T ->Gerrormax=100/Tmin -> Tmin=100/Gerrormax\n",
"\n",
"Tmin=100/Gerrormax;\n",
"\n",
"Aideal=100;\n",
"\n",
"b=1/Aideal;//Feedback Factor\n",
"\n",
"amin=Tmin/b;//Minimum Open Loop Gain\n",
"\n",
"printf('\nOpen Loop Gain (a)>=%.f',amin);"
   ]
   }
,
{
		   "cell_type": "markdown",
		   "metadata": {},
		   "source": [
			"## Example 1.7_c: Application_of_Negative_Feedback.sce"
		   ]
		  },
  {
"cell_type": "code",
	   "execution_count": null,
	   "metadata": {
	    "collapsed": true
	   },
	   "outputs": [],
"source": [
"//Example 1.7(c)\n",
"\n",
"clear;\n",
"\n",
"clc;\n",
"\n",
"Gerrormax=0.1;// Maximum Gain Error Percentage\n",
"\n",
"//But Gerror100/T ->Gerrormax=100/Tmin -> Tmin=100/Gerrormax\n",
"\n",
"Tmin=100/Gerrormax;\n",
"\n",
"Aideal=100;\n",
"\n",
"b=1/Aideal;//Feedback Factor\n",
"\n",
"amin=Tmin/b;//Minimum Open Loop Gain\n",
"\n",
"//Imposing A=a/(1+ab).We have a=10^5 and Aideal=100 ->100=10^5/(1+10^5b)\n",
"\n",
"y=poly(0,'x');\n",
"\n",
"z=(100*amin)*y+(100-amin);//Solving the equation mentioned in above comment.\n",
"\n",
"b=roots(z);\n",
"\n",
"printf('Feedback Factor (b) for A=100 is =%.5f',b);"
   ]
   }
,
{
		   "cell_type": "markdown",
		   "metadata": {},
		   "source": [
			"## Example 1.8_a: Calculating_Gain_Desensitivity.sce"
		   ]
		  },
  {
"cell_type": "code",
	   "execution_count": null,
	   "metadata": {
	    "collapsed": true
	   },
	   "outputs": [],
"source": [
"//Example 1.8(a)\n",
"\n",
"clear;\n",
"\n",
"clc;\n",
"\n",
"a=10^5;//Open Loop Gain\n",
"\n",
"b=10^(-3);//Feedback Factor\n",
"\n",
"T=a*b;//return ratio or loop gain\n",
"\n",
"d=1+T;//Desensitivity Factor\n",
"\n",
"A=a/d;//Overall Gain\n",
"\n",
"anew=a+(10/100)*a;//Increasing gain by 10%\n",
"\n",
"Tnew=anew*b;//New return ratio or loop gain\n",
"\n",
"dnew=1+Tnew;//New Desensitivity Factor\n",
"\n",
"Anew=anew/dnew;//Overall Gain\n",
"\n",
"Achange=((Anew-A)/A)*100;//Percentage Change in Overall Gain\n",
"\n",
"printf('Percentage change in A =%.1f percent',Achange);"
   ]
   }
,
{
		   "cell_type": "markdown",
		   "metadata": {},
		   "source": [
			"## Example 1.8_b: Calculating_Gain_Desensitivity.sce"
		   ]
		  },
  {
"cell_type": "code",
	   "execution_count": null,
	   "metadata": {
	    "collapsed": true
	   },
	   "outputs": [],
"source": [
"//Example 1.8(b)\n",
"\n",
"clear;\n",
"\n",
"clc;\n",
"\n",
"a=10^5;//Open Loop Gain\n",
"\n",
"b=1;//Feedback Factor\n",
"\n",
"T=a*b;//return ratio or loop gain\n",
"\n",
"d=1+T;//Desensitivity Factor\n",
"\n",
"aperchange=10;//Percentage Change in a\n",
"\n",
"Achange=(1/(1+T))*aperchange;//Percentage Change in Overall Gain\n",
"\n",
"printf('Percentage change in A =%.4f',Achange);"
   ]
   }
,
{
		   "cell_type": "markdown",
		   "metadata": {},
		   "source": [
			"## Example 1.9_a: Noninverting_Configuration_Characterstics.sce"
		   ]
		  },
  {
"cell_type": "code",
	   "execution_count": null,
	   "metadata": {
	    "collapsed": true
	   },
	   "outputs": [],
"source": [
"//Example 1.9(a)\n",
"\n",
"clear;\n",
"\n",
"clc;\n",
"\n",
"rd=2*10^6;//Input Resistance\n",
"\n",
"ro=75;//Output Resistance\n",
"\n",
"a=200*10^3;//Open loop Gain\n",
"\n",
"R1=1*10^3;\n",
"\n",
"R2=999*10^3;\n",
"\n",
"b=R1/(R1+R2);//Feedback Factor\n",
"\n",
"T=a*b;//reteurn ratio or loop gain\n",
"\n",
"Aapprox=(1+(R2/R1))*(1/(1+(1/T)))//Approximate Gain\n",
"\n",
"Riapprox=rd*(1+T);//Approximate Input Resistance\n",
"\n",
"Roapprox=ro/(1+T);\n",
"\n",
"Anum=((1+(R2/R1))*a)+(ro/rd)//Numerator of exact Gain\n",
"\n",
"Aden=1+a+(R2/R1)+((R2+ro)/rd)+(ro/R1);//Denominator of exact Gain\n",
"\n",
"Aexact=Anum/Aden;//exact Gain\n",
"\n",
"Ri1=rd*(1+(a/(1+((R2+ro)/R1))));\n",
"\n",
"Ri2=(R1*(R2+ro))/(R1+R2+ro);\n",
"\n",
"Riexact=Ri1+Ri2;//Exact Input Resistance\n",
"\n",
"Ronum=ro;\n",
"\n",
"Roden=1+((a+(ro/R1)+(ro/rd))/(1+(R2/R1)+(R2/rd)))\n",
"\n",
"Roexact=Ronum/Roden;//Exact Output Resistance\n",
"\n",
"//Ideal Value of input resistance Ri1 is infinity and ideal value of output resistance Ro1 is 0. \n",
"\n",
"printf('Exact Value of A is =%.2f V/V',Aexact);\n",
"\n",
"printf('\nApproximate Value of A is =%.3f V/V',Aapprox);\n",
"\n",
"printf('\nIdeal Value of A is =%.3f V/V',1000);\n",
"\n",
"printf('\nExact Value of Ri is =%.3f Mohms',Riexact/10^6);\n",
"\n",
"printf('\nApproximate Value of Ri is =%.3f Mohms',Riapprox/10^6);\n",
"\n",
"printf('\nIdeal Value of Ri is infinity');\n",
"\n",
"printf('\nExact Value of Ro is =%.3f mohms',Roexact*10^3);\n",
"\n",
"printf('\nApproximate Value of Ro is =%.3f mohms',Roapprox*10^3);\n",
"\n",
"printf('\nApproximate Value of Ro is =%.3f ohms',0);"
   ]
   }
,
{
		   "cell_type": "markdown",
		   "metadata": {},
		   "source": [
			"## Example 1.9_b: Noninverting_Configuration_Characterstics.sce"
		   ]
		  },
  {
"cell_type": "code",
	   "execution_count": null,
	   "metadata": {
	    "collapsed": true
	   },
	   "outputs": [],
"source": [
"//Example 1.9(b)\n",
"\n",
"clear;\n",
"\n",
"clc;\n",
"\n",
"rd=2*10^6;//Input Resistance\n",
"\n",
"ro=75;//Output Resistance\n",
"\n",
"a=200*10^3;//Open loop Gain\n",
"\n",
"printf('Note (as mentioned in the book): Because of much larger value, we simply ignore the exact calculations and use only the approximations.');\n",
"\n",
"//R12=infinity\n",
"\n",
"R2=0;\n",
"\n",
"//b2=R12/(R12+R22) (Feedback Factor)will be equal to 1 as R12 tends to infinity and R22 is 0\n",
"\n",
"b=1;//Feedback Factor\n",
"\n",
"T=a*b;//reteurn ratio or loop gain\n",
"\n",
"//Aapprox=(1+(R22/R12))*(1/(1+(1/T2)))(Approximate Gain) but R22/R12=0\n",
"\n",
"Trec=1/T;\n",
"\n",
"Aden=(1+Trec);\n",
"\n",
"Anum=1;\n",
"\n",
"Aapprox=Anum/Aden;//Approximate Gain\n",
"\n",
"Riapprox=rd*(1+T);//Approximate Input Resistance\n",
"\n",
"Roapprox=ro/(1+T);//Approximate Output Resistance\n",
"\n",
"//Ideal Value of input resistance Ri2 is infinity and ideal value of output resistance Ro2 is 0.\n",
"\n",
"printf('\nApproximate Value of A is =%.f V/V',Aapprox);\n",
"\n",
"printf('\nIdeal Value of A is =%.2f V/V',1);\n",
"\n",
"printf('\nApproximate Value of Ri is =%.3f Gohms',Riapprox/10^9);\n",
"\n",
"printf('\nIdeal Value of Ri is infinity');\n",
"\n",
"printf('\nApproximate Value of Ro is =%.3f uohms',Roapprox*10^6);\n",
"\n",
"printf('\nApproximate Value of Ro is =%.f ohms',0);"
   ]
   }
],
"metadata": {
		  "kernelspec": {
		   "display_name": "Scilab",
		   "language": "scilab",
		   "name": "scilab"
		  },
		  "language_info": {
		   "file_extension": ".sce",
		   "help_links": [
			{
			 "text": "MetaKernel Magics",
			 "url": "https://github.com/calysto/metakernel/blob/master/metakernel/magics/README.md"
			}
		   ],
		   "mimetype": "text/x-octave",
		   "name": "scilab",
		   "version": "0.7.1"
		  }
		 },
		 "nbformat": 4,
		 "nbformat_minor": 0
}
