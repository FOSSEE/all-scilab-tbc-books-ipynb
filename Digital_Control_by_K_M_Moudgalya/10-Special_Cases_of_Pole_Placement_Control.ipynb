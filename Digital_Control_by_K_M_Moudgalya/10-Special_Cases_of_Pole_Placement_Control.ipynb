{
"cells": [
 {
		   "cell_type": "markdown",
	   "metadata": {},
	   "source": [
       "# Chapter 10: Special Cases of Pole Placement Control"
	   ]
	},
{
		   "cell_type": "markdown",
		   "metadata": {},
		   "source": [
			"## Example 10.10: Design_of_conventional_controller_for_van_de_Vusse_reactor_problem.sce"
		   ]
		  },
  {
"cell_type": "code",
	   "execution_count": null,
	   "metadata": {
	    "collapsed": true
	   },
	   "outputs": [],
"source": [
"// Design of conventional controller for van de Vusse reactor problem\n",
"// 10.10\n",
"\n",
"exec('tf.sci');\n",
"exec('myc2d.sci');\n",
"exec('imcsplit.sci',-1);\n",
"exec('imc_stable.sci');\n",
"exec('zpowk.sci',-1);\n",
"exec('flip.sci',-1);\n",
"exec('poladd.sci',-1);\n",
"exec('polsize.sci',-1);\n",
"\n",
"num = [-1.117 3.1472]; den = [1 4.6429 5.3821];\n",
"G = tf(num,den);\n",
"Ts = 0.1;\n",
"[B,A,k] = myc2d(G,Ts);\n",
"alpha = 0.5;\n",
"[k,HiN,HiD,R,S] = imc_stable(B,A,k,alpha);\n",
"[zk,dzk] = zpowk(k);\n",
"Bp = B; Ap = A;\n",
"\n",
"\n",
"\n",
"\n",
""
   ]
   }
,
{
		   "cell_type": "markdown",
		   "metadata": {},
		   "source": [
			"## Example 10.1: Effect_of_delay_in_control_performance.sce"
		   ]
		  },
  {
"cell_type": "code",
	   "execution_count": null,
	   "metadata": {
	    "collapsed": true
	   },
	   "outputs": [],
"source": [
"// Effect of delay in control performance\n",
"// 10.1 \n",
"\n",
"exec('zpowk.sci',-1);\n",
"exec('pp_im.sci',-1);\n",
"exec('cosfil_ip.sci',-1);\n",
"exec('polsplit3.sci',-1);\n",
"exec('polmul.sci',-1);\n",
"exec('polsize.sci',-1);\n",
"exec('xdync.sci',-1);\n",
"exec('rowjoin.sci',-1);\n",
"exec('left_prm.sci',-1);\n",
"exec('t1calc.sci',-1);\n",
"exec('indep.sci',-1);\n",
"exec('seshft.sci',-1);\n",
"exec('makezero.sci',-1);\n",
"exec('move_sci.sci',-1);\n",
"exec('colsplit.sci',-1);\n",
"exec('clcoef.sci',-1);\n",
"exec('cindep.sci',-1);\n",
"exec('polyno.sci',-1);\n",
"\n",
"Ts = 1; B = 0.63; A = [1 -0.37];\n",
"k = input('Enter the delay as an integer: ');\n",
"if k<=0, k = 1; end\n",
"[zk,dzk] = zpowk(k);\n",
"\n",
"// Desired transfer function\n",
"phi = [1 -0.5];\n",
"delta = 1; // internal model of step introduced\n",
"\n",
"// Controller design\n",
"[Rc,Sc,Tc,gamm] = pp_im(B,A,k,phi,delta);\n",
"\n",
"// simulation parameters for stb_disc.xcos \n",
"// y1: 0 to 1; u1: 0 to 1.2\n",
"st = 1.0; // desired change in setpoint\n",
"t_init = 0; // simulation start time\n",
"t_final = 20; // simulation end time\n",
"\n",
"// simulation parameters for stb_disc.xcos\n",
"N_var = 0; C = 0; D = 1; N = 1; \n",
"\n",
"[Tcp1,Tcp2] = cosfil_ip(Tc,1); // Tc/1\n",
"[Rcp1,Rcp2] = cosfil_ip(1,Rc); // 1/Rc\n",
"[Scp1,Scp2] = cosfil_ip(Sc,1); // Sc/1\n",
"[Bp,Ap] = cosfil_ip(B,A); // B/A\n",
"[zkp1,zkp2] = cosfil_ip(zk,1); // zk/1\n",
"[Cp,Dp] = cosfil_ip(C,D); // C/D\n",
""
   ]
   }
,
{
		   "cell_type": "markdown",
		   "metadata": {},
		   "source": [
			"## Example 10.2: Smith_predictor_for_paper_machine_control.sce"
		   ]
		  },
  {
"cell_type": "code",
	   "execution_count": null,
	   "metadata": {
	    "collapsed": true
	   },
	   "outputs": [],
"source": [
"// Smith predictor for paper machine control in Example 10.2 on page 385.\n",
"// 10.2\n",
"\n",
"exec('zpowk.sci',-1);\n",
"exec('poladd.sci',-1);\n",
"exec('polsize.sci',-1);\n",
"exec('pp_im.sci',-1);\n",
"exec('polsplit3.sci',-1);\n",
"exec('polmul.sci',-1);\n",
"exec('xdync.sci',-1);\n",
"exec('rowjoin.sci',-1);\n",
"exec('left_prm.sci',-1);\n",
"exec('t1calc.sci',-1);\n",
"exec('indep.sci',-1);\n",
"exec('makezero.sci',-1);\n",
"exec('move_sci.sci',-1);\n",
"exec('colsplit.sci',-1);\n",
"exec('clcoef.sci',-1);\n",
"exec('cindep.sci',-1);\n",
"exec('seshft.sci',-1);\n",
"exec('cosfil_ip.sci',-1);\n",
"exec('polyno.sci',-1);\n",
"\n",
"Ts = 1; B = 0.63; A = [1 -0.37]; k = 3;\n",
"Bd = convol(B,[0 1]);\n",
"kd = k - 1;\n",
"[zkd,dzkd] = zpowk(kd);\n",
"[mzkd,dmzkd] = poladd(1,0,-zkd,dzkd);\n",
"\n",
"// Desired transfer function\n",
"phi = [1 -0.5]; delta = 1;\n",
"\n",
"// Controller design\n",
"[Rc,Sc,Tc,gamm] = pp_im(B,A,1,phi,delta);\n",
"\n",
"// simulation parameters for smith_disc.xcos \n",
"st = 1.0; // desired change in setpoint\n",
"t_init = 0; // simulation start time\n",
"t_final = 20; // simulation end time\n",
"\n",
"// simulation parameters for smith_disc.xcos\n",
"N_var = 0; C = 0; D = 1; N = 1; \n",
"\n",
"[Tcp1,Tcp2] = cosfil_ip(Tc,1); // Tc/1\n",
"[Rcp1,Rcp2] = cosfil_ip(1,Rc); // 1/Rc\n",
"[Scp1,Scp2] = cosfil_ip(Sc,1); // Sc/1\n",
"[Bdp,Ap] = cosfil_ip(Bd,A); // Bd/Ad\n",
"[zkdp1,zkdp2] = cosfil_ip(zkd,1); // zkd/1\n",
"[mzkdp1,mzkdp2] = cosfil_ip(mzkd,1); // mzkd/1\n",
"[Cp,Dp] = cosfil_ip(C,D); // C/D\n",
""
   ]
   }
,
{
		   "cell_type": "markdown",
		   "metadata": {},
		   "source": [
			"## Example 10.3: Splitting_a_polynomial_B.sci"
		   ]
		  },
  {
"cell_type": "code",
	   "execution_count": null,
	   "metadata": {
	    "collapsed": true
	   },
	   "outputs": [],
"source": [
"// Splitting a polynomial B(z)\n",
"// 10.3\n",
"// Splits a polynomial B into good, nonminimum with \n",
"// positive real & with negative real parts.\n",
"// All are returned in polynomial form.\n",
"// Gain is returned in Kp and delay in k.  \n",
"\n",
"function [Kp,k,Bg,Bnmp,Bm] = imcsplit(B,polynomial)\n",
"k = 0;\n",
"Kp = 1;\n",
"if(polynomial)\n",
"  rts = roots(B);\n",
"  Kp = sum(B)/sum(coeff(poly(rts,'z')));\n",
"else\n",
"  rts = B;\n",
"end\n",
"Bg = 1; Bnmp = 1; Bm = 1;\n",
"for i = 1:length(rts),\n",
"    rt = rts(i);\n",
"    if rt == 0,\n",
"       k = k+1;\n",
"    elseif (abs(rt)<1 & real(rt)>=0)\n",
"      Bg = convol(Bg,[1 -rt]);\n",
"    elseif (abs(rt)>=1 & real(rt)>=0)\n",
"      Bnmp = convol(Bnmp,[1 -rt]);\n",
"    else\n",
"      Bm = convol(Bm,[1 -rt]);\n",
"    end\n",
"end\n",
"\n",
"\n",
"\n",
"\n",
"\n",
"\n",
"\n",
""
   ]
   }
,
{
		   "cell_type": "markdown",
		   "metadata": {},
		   "source": [
			"## Example 10.4: Design_of_internal_model_controller.sci"
		   ]
		  },
  {
"cell_type": "code",
	   "execution_count": null,
	   "metadata": {
	    "collapsed": true
	   },
	   "outputs": [],
"source": [
"// Design of internal model controller\n",
"// 10.4\n",
"// Designs Discrete Internal Model Controller\n",
"// for transfer function z^{-k}B(z^{-1})/A(z^{-1})\n",
"// Numerator and Denominator of IMC HQ are outputs\n",
"// Controller is also given in R,S form \n",
"\n",
"function [k,HiN,HiD] = imc_stable1(B,A,k,alpha)\n",
"\n",
"[Kp,d,Bg,Bnmp,Bm] = imcsplit(B,mtlb_logical(1));\n",
"Bg = Kp * Bg;\n",
"Bnmpr = flip(Bnmp);\n",
"Bms = sum(Bm);\n",
"HiN = A;\n",
"HiD = Bms * convol(Bg,Bnmpr);\n",
"k = k+d;\n",
"endfunction;\n",
"\n",
""
   ]
   }
,
{
		   "cell_type": "markdown",
		   "metadata": {},
		   "source": [
			"## Example 10.5: Flipping_a_vector.sci"
		   ]
		  },
  {
"cell_type": "code",
	   "execution_count": null,
	   "metadata": {
	    "collapsed": true
	   },
	   "outputs": [],
"source": [
"// 10.5\n",
"function b = flip(a)\n",
"b = a(length(a):-1:1);\n",
"endfunction;"
   ]
   }
,
{
		   "cell_type": "markdown",
		   "metadata": {},
		   "source": [
			"## Example 10.6: IMC_design_for_viscosity_control_problem.sce"
		   ]
		  },
  {
"cell_type": "code",
	   "execution_count": null,
	   "metadata": {
	    "collapsed": true
	   },
	   "outputs": [],
"source": [
"// IMC design for viscosity control problem\n",
"// 10.6\n",
"\n",
"exec('imc_stable1.sci',-1);\n",
"exec('zpowk.sci',-1);\n",
"exec('imcsplit.sci',-1);\n",
"exec('flip.sci',-1);\n",
"\n",
"B = [0.51 1.21];\n",
"A = [1 -0.44];\n",
"k = 1;\n",
"alpha = 0.5;\n",
"\n",
"[k,GiN,GiD] = imc_stable1(B,A,k,alpha);\n",
"\n",
"[zk,dzk] = zpowk(k);\n",
"Bp = B; Ap = A; \n",
"Ts = 0.1; t0 = 0; tf = 20; Nvar = 0.01;\n",
"\n",
""
   ]
   }
,
{
		   "cell_type": "markdown",
		   "metadata": {},
		   "source": [
			"## Example 10.7: IMC_design_for_the_control_of_van_de_Vusse_reactor.sce"
		   ]
		  },
  {
"cell_type": "code",
	   "execution_count": null,
	   "metadata": {
	    "collapsed": true
	   },
	   "outputs": [],
"source": [
"// IMC design for the control of van de Vusse reactor\n",
"// 10.7\n",
"\n",
"exec('tf.sci');\n",
"exec('myc2d.sci');\n",
"exec('imc_stable1.sci');\n",
"exec('imcsplit.sci',-1);\n",
"exec('flip.sci',-1);\n",
"exec('zpowk.sci',-1);\n",
"\n",
"num = [-1.117 3.1472]; den = [1 4.6429 5.3821];\n",
"G = tf(num,den);\n",
"Ts = 0.1;\n",
"[B,A,k] = myc2d(G,Ts);\n",
"alpha = 0.9;\n",
"[k,GiN,GiD] = imc_stable1(B,A,k,alpha);\n",
"[zk,dzk] = zpowk(k);\n",
"Bp = B; Ap = A;\n",
"t0 = 0; tfi = 10; st = 1; Nvar = 0;\n",
"\n",
""
   ]
   }
,
{
		   "cell_type": "markdown",
		   "metadata": {},
		   "source": [
			"## Example 10.8: IMC_design_for_an_example_by_Lewin.sce"
		   ]
		  },
  {
"cell_type": "code",
	   "execution_count": null,
	   "metadata": {
	    "collapsed": true
	   },
	   "outputs": [],
"source": [
"// IMC design for Lewin's example\n",
"// 10.8\n",
"\n",
"exec('tf.sci');\n",
"exec('myc2d.sci');\n",
"exec('imc_stable1.sci');\n",
"exec('zpowk.sci',-1);\n",
"exec('imcsplit.sci',-1);\n",
"exec('flip.sci',-1);\n",
"\n",
"num = 1; den = [250 35 1]; Ts = 3;\n",
"G = tf(num,den);\n",
"\n",
"[B,A,k] = myc2d(G,Ts);\n",
"\n",
"alpha = 0.9;\n",
"[k,GiN,GiD] = imc_stable1(B,A,k,alpha);\n",
"\n",
"[zk,dzk] = zpowk(k);\n",
"Bp = B; Ap = A;\n",
"t0 = 0; tfi = 100; st = 1; Nvar = 0;\n",
"\n",
"\n",
""
   ]
   }
,
{
		   "cell_type": "markdown",
		   "metadata": {},
		   "source": [
			"## Example 10.9: EX10_9.sci"
		   ]
		  },
  {
"cell_type": "code",
	   "execution_count": null,
	   "metadata": {
	    "collapsed": true
	   },
	   "outputs": [],
"source": [
"// Design of conventional controller which is an equivalent of internal model controller\n",
"// 10.9\n",
"\n",
"// Designs Discrete Internal Model Controller\n",
"// for transfer function z^{-k}B(z^{-1})/A(z^{-1})\n",
"// Numerator and Denominator of IMC HQ are outputs\n",
"// Controller is also given in R,S form \n",
"\n",
"\n",
"function [k,HiN,HiD,R,S,mu] = imc_stable(B,A,k,alpha)\n",
"\n",
"[Kp,d,Bg,Bnmp,Bm] = imcsplit(B,mtlb_logical(1));\n",
"Bg = Kp * Bg;\n",
"\n",
"Bnmpr = flip(Bnmp);\n",
"Bms = sum(Bm);\n",
"HiN = A;\n",
"HiD = Bms * convol(Bg,Bnmpr);\n",
"k = k+d;\n",
"\n",
"[zk,dzk] = zpowk(k);\n",
"Bf = (1-alpha);\n",
"Af = [1 -alpha];\n",
"S = convol(Bf,A);\n",
"R1 = convol(Af,convol(Bnmpr,Bms));\n",
"R2 = convol(zk,convol(Bf,convol(Bnmp,Bm)));\n",
"\n",
"[R,dR] = poladd(R1,length(R1)-1,-R2,length(R2)-1);\n",
"R = convol(Bg,R);\n",
"endfunction;\n",
""
   ]
   }
],
"metadata": {
		  "kernelspec": {
		   "display_name": "Scilab",
		   "language": "scilab",
		   "name": "scilab"
		  },
		  "language_info": {
		   "file_extension": ".sce",
		   "help_links": [
			{
			 "text": "MetaKernel Magics",
			 "url": "https://github.com/calysto/metakernel/blob/master/metakernel/magics/README.md"
			}
		   ],
		   "mimetype": "text/x-octave",
		   "name": "scilab",
		   "version": "0.7.1"
		  }
		 },
		 "nbformat": 4,
		 "nbformat_minor": 0
}
