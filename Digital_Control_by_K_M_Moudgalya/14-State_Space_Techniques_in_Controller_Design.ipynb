{
"cells": [
 {
		   "cell_type": "markdown",
	   "metadata": {},
	   "source": [
       "# Chapter 14: State Space Techniques in Controller Design"
	   ]
	},
{
		   "cell_type": "markdown",
		   "metadata": {},
		   "source": [
			"## Example 14.1: Pole_placement_controller_for_inverted_pendulum.sce"
		   ]
		  },
  {
"cell_type": "code",
	   "execution_count": null,
	   "metadata": {
	    "collapsed": true
	   },
	   "outputs": [],
"source": [
"// Pole placement controller for inverted pendulum, discussed in Example 14.1 on page 490. 2.1 should be executed before starting this code\n",
"// 14.1\n",
"\n",
"exec('pol2cart.sci',-1);\n",
"\n",
"C = eye(4,4);\n",
"D = zeros(4,1);\n",
"Ts = 0.01;\n",
"G = syslin('c',A,B,C,D);\n",
"H = dscr(G,Ts);\n",
"[a,b,c,d] = H(2:5);\n",
"rise = 5; epsilon = 0.1;\n",
"N = rise/Ts;\n",
"omega = %pi/2/N;\n",
"r = epsilon^(omega/%pi); \n",
"r1 = r; r2 = 0.9*r;\n",
"[x1,y1] = pol2cart(omega,r1);\n",
"[x2,y2] = pol2cart(omega,r2);\n",
"p1 = x1+%i*y1;\n",
"p2 = x1-%i*y1;\n",
"p3 = x2+%i*y2;\n",
"p4 = x2-%i*y2;\n",
"P = [p1;p2;p3;p4];\n",
"K = ppol(a,b,P)"
   ]
   }
,
{
		   "cell_type": "markdown",
		   "metadata": {},
		   "source": [
			"## Example 14.2: Compensator_calculation.sce"
		   ]
		  },
  {
"cell_type": "code",
	   "execution_count": null,
	   "metadata": {
	    "collapsed": true
	   },
	   "outputs": [],
"source": [
"// Compensator calculation for Example 14.6 on page 507.\n",
"// 14.2\n",
"\n",
"exec('polyno.sci',-1);\n",
"exec('polmul.sci',-1);\n",
"exec('polsize.sci',-1);\n",
"\n",
"A = [1 2; 0 3]; c = [1 0];\n",
"p = roots(polyno([1 -0.5 0.5],'z'));\n",
"b = [0; 1];\n",
"K = ppol(A,b,p);\n",
"\n",
"p1=0.1+0.1*%i; p2=0.1-0.1*%i;\n",
"phi = real(convol([1 -p1],[1 -p2]));\n",
"Obs = [c; c*A];\n",
"alphae = A^2-0.2*A+0.02*eye(2,2);\n",
"Lp = alphae*inv(Obs)*[0; 1];\n",
"Lp = ppol([1 0;2 3], ...\n",
"[1; 0],[0.1+0.1*%i 0.1-0.1*%i]);\n",
"Lp = Lp';\n",
"\n",
"C = [1 0 0.5 2;0 1 -4.71 2.8]; \n",
"dC = 1;\n",
"\n",
"[HD,dHD] = polmul(K,0,C,dC);\n",
"[HD,dHD] = polmul(HD,dHD,Lp,0);"
   ]
   }
,
{
		   "cell_type": "markdown",
		   "metadata": {},
		   "source": [
			"## Example 14.3: Kalman_filter_example_of_estimating_a_constant.sce"
		   ]
		  },
  {
"cell_type": "code",
	   "execution_count": null,
	   "metadata": {
	    "collapsed": true
	   },
	   "outputs": [],
"source": [
"// Kalman filter example of estimating a constant, discussed in Example 14.7.\n",
"// 14.3\n",
"\n",
"exec('kal_ex.sci',-1);\n",
"\n",
"x = 5; xhat = 2; P = 1; xvec = x; \n",
"xhat_vec = xhat; Pvec = P; yvec = x;\n",
"for i = 1:200,\n",
"    xline = xhat; M = P;\n",
"    [xhat,P,y] = kal_ex(x,xline,M);\n",
"    xvec = [xvec;x]; \n",
"    xhat_vec = [xhat_vec;xhat]; \n",
"    Pvec = [Pvec;P]; yvec = [yvec;y];\n",
"end\n",
"n = 1:201;\n",
"plot(Pvec);\n",
"xtitle('','n');\n",
"halt();\n",
"clf();\n",
"plot(n,xhat_vec',n,yvec',n,xvec');\n",
"xtitle('','n');"
   ]
   }
,
{
		   "cell_type": "markdown",
		   "metadata": {},
		   "source": [
			"## Example 14.4: Kalman_filter_example_of_estimating_a_constant.sci"
		   ]
		  },
  {
"cell_type": "code",
	   "execution_count": null,
	   "metadata": {
	    "collapsed": true
	   },
	   "outputs": [],
"source": [
"// Kalman filter example of estimating a constant\n",
"// 14.4\n",
"\n",
"function [xhat,P,y] = kal_ex(x,xline,M)\n",
"y = x + rand();\n",
"Q = 0; R = 1;\n",
"xhat_ = xline;\n",
"P_ = M + Q;\n",
"K = P_/(P_+R);\n",
"P = (1-K)*P_;\n",
"xhat = xhat_ + K*(y-xhat_);\n",
"endfunction;"
   ]
   }
],
"metadata": {
		  "kernelspec": {
		   "display_name": "Scilab",
		   "language": "scilab",
		   "name": "scilab"
		  },
		  "language_info": {
		   "file_extension": ".sce",
		   "help_links": [
			{
			 "text": "MetaKernel Magics",
			 "url": "https://github.com/calysto/metakernel/blob/master/metakernel/magics/README.md"
			}
		   ],
		   "mimetype": "text/x-octave",
		   "name": "scilab",
		   "version": "0.7.1"
		  }
		 },
		 "nbformat": 4,
		 "nbformat_minor": 0
}
