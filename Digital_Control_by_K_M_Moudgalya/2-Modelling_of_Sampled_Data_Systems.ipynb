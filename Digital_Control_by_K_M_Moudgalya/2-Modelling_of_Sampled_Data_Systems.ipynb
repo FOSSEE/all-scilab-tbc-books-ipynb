{
"cells": [
 {
		   "cell_type": "markdown",
	   "metadata": {},
	   "source": [
       "# Chapter 2: Modelling of Sampled Data Systems"
	   ]
	},
{
		   "cell_type": "markdown",
		   "metadata": {},
		   "source": [
			"## Example 2.1: Model_of_inverted_pendulum.sce"
		   ]
		  },
  {
"cell_type": "code",
	   "execution_count": null,
	   "metadata": {
	    "collapsed": true
	   },
	   "outputs": [],
"source": [
"// Model of inverted pendulum\n",
"// 2.1\n",
"\n",
"Km = 0.00767;\n",
"Kg = 3.7;\n",
"Rm = 2.6;\n",
"r = 0.00635;\n",
"M = 0.522;\n",
"m = 0.231;\n",
"g = 9.81;\n",
"L = 0.305;\n",
"J = 0;\n",
"\n",
"D1 = (J+m*L^2)*(M+m)-m^2*L^2;\n",
"alpha = m*g*L*(M+m)/D1;\n",
"beta1 = m*L/D1;\n",
"gamma1 = m^2*g*L^2/D1;\n",
"delta = (J+m*L^2)/D1;\n",
"\n",
"alpha1 = Km*Kg/Rm/r;\n",
"alpha2 = Km^2*Kg^2/Rm/r^2;\n",
"\n",
"A = zeros(4,4);\n",
"A(1,3) = 1;\n",
"A(2,4) = 1;\n",
"A(3,2) = -gamma1;\n",
"A(3,3) = -alpha2*delta;\n",
"A(4,2) = alpha;\n",
"A(4,3) = alpha2*beta1;\n",
"\n",
"B = zeros(4,1);\n",
"B(3) = alpha1*delta;\n",
"B(4) = -alpha1*beta1;"
   ]
   }
,
{
		   "cell_type": "markdown",
		   "metadata": {},
		   "source": [
			"## Example 2.2: Exponential_of_the_matrix.sce"
		   ]
		  },
  {
"cell_type": "code",
	   "execution_count": null,
	   "metadata": {
	    "collapsed": true
	   },
	   "outputs": [],
"source": [
"// Exponential of the matrix\n",
"// 2.2\n",
"\n",
"F = [-1 0;1 0];\n",
"expm(F)"
   ]
   }
,
{
		   "cell_type": "markdown",
		   "metadata": {},
		   "source": [
			"## Example 2.3: ZOH_equivalent_state_space_system.sce"
		   ]
		  },
  {
"cell_type": "code",
	   "execution_count": null,
	   "metadata": {
	    "collapsed": true
	   },
	   "outputs": [],
"source": [
"// ZOH equivalent state space system\n",
"// 2.3\n",
"\n",
"F = [-1 0;1 0]; G = [1; 0]; \n",
"C = [0 1]; D = 0; Ts=1;\n",
"sys = syslin('c',F,G,C,D);\n",
"sysd = dscr(sys,Ts)\n",
"\n",
"\n",
"\n",
"\n",
"\n",
""
   ]
   }
],
"metadata": {
		  "kernelspec": {
		   "display_name": "Scilab",
		   "language": "scilab",
		   "name": "scilab"
		  },
		  "language_info": {
		   "file_extension": ".sce",
		   "help_links": [
			{
			 "text": "MetaKernel Magics",
			 "url": "https://github.com/calysto/metakernel/blob/master/metakernel/magics/README.md"
			}
		   ],
		   "mimetype": "text/x-octave",
		   "name": "scilab",
		   "version": "0.7.1"
		  }
		 },
		 "nbformat": 4,
		 "nbformat_minor": 0
}
