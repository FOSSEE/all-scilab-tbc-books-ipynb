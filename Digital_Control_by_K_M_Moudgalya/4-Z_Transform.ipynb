{
"cells": [
 {
		   "cell_type": "markdown",
	   "metadata": {},
	   "source": [
       "# Chapter 4: Z Transform"
	   ]
	},
{
		   "cell_type": "markdown",
		   "metadata": {},
		   "source": [
			"## Example 4.10: Partial_fraction_expansion.sce"
		   ]
		  },
  {
"cell_type": "code",
	   "execution_count": null,
	   "metadata": {
	    "collapsed": true
	   },
	   "outputs": [],
"source": [
"// Partial fraction expansion for Example 4.30\n",
"// 4.10\n",
"\n",
"//                3 - (5/6)z^-1                      3z^2 - (5/6)z   \n",
"// G(z)  =  ---------------------------   =  --------------------------\n",
"//           (1-(1/4)z^-1)(1-(1/3)z^-1)       (z - (1/4))(z - (1/3))\n",
"\n",
"// No equivalent of residuez\n",
"\n",
"exec('respol.sci',-1);\n",
"exec('flip.sci',-1);\n",
"\n",
"num = [3 -5/6 0];\n",
"den = convol([1 -1/4],[1 -1/3]);\n",
"[res,pol,q] = respol(num,den)"
   ]
   }
,
{
		   "cell_type": "markdown",
		   "metadata": {},
		   "source": [
			"## Example 4.11: Long_division_of_problems.sce"
		   ]
		  },
  {
"cell_type": "code",
	   "execution_count": null,
	   "metadata": {
	    "collapsed": true
	   },
	   "outputs": [],
"source": [
"// Long division of problems discussed in Example 4.32 on page 102\n",
"// 4.11\n",
"\n",
"exec('tf.sci',-1);\n",
"exec('label.sci',-1);\n",
"\n",
"num = [11 -15 6];\n",
"den = convol([1 -2], convol([1 -1],[1 -1]));\n",
"u = [1 zeros(1,4)];\n",
"y = filter(num,den,u);\n",
"G = tf(num,den,-1);\n",
"u1=zeros(1,90); u1(1)=1;\n",
"x1=dsimul(tf2ss(G),u1);\n",
"plot2d(x1)\n",
"label('Impulse Response',4,'Time(seconds)','Amplitude',4)"
   ]
   }
,
{
		   "cell_type": "markdown",
		   "metadata": {},
		   "source": [
			"## Example 4.1: To_produce_a_sequence.sce"
		   ]
		  },
  {
"cell_type": "code",
	   "execution_count": null,
	   "metadata": {
	    "collapsed": true
	   },
	   "outputs": [],
"source": [
"// To produce a^n 1(n)\n",
"// 4.1\n",
"\n",
"exec('stem.sci',-1);\n",
"exec('label.sci',-1);\n",
"\n",
"a = 0.9;\n",
"n = -10:20;\n",
"y = zeros(1,size(n,'*'));\n",
"for i = 1:length(n)\n",
"    if n(i)>=0, \n",
"       y(i) = a^n(i);\n",
"    end\n",
"end\n",
"stem(n,y)\n",
"label('u1',4,'Time(n)','0.9^n1(n)',4)"
   ]
   }
,
{
		   "cell_type": "markdown",
		   "metadata": {},
		   "source": [
			"## Example 4.2: To_produce_a_sequence.sce"
		   ]
		  },
  {
"cell_type": "code",
	   "execution_count": null,
	   "metadata": {
	    "collapsed": true
	   },
	   "outputs": [],
"source": [
"// Plot of -0.9^n1(-n-1)\n",
"// 4.2\n",
"\n",
"exec('stem.sci',-1);\n",
"exec('label.sci',-1);\n",
"\n",
"a = 0.9;\n",
"n = -10:20;\n",
"y = zeros(1,size(n,'*'));\n",
"for i = 1: length(n)\n",
"    if n(i)<= -1,\n",
"        y(i) = -(a^n(i));\n",
"        else y(i) = 0;\n",
"    end\n",
"end\n",
"stem(n,y)\n",
"label('u2',4,'Time(n)','-0.9^n1(-n-1)',4)\n",
"\n",
"\n",
""
   ]
   }
,
{
		   "cell_type": "markdown",
		   "metadata": {},
		   "source": [
			"## Example 4.3: To_produce_pole_zero_plots.sce"
		   ]
		  },
  {
"cell_type": "code",
	   "execution_count": null,
	   "metadata": {
	    "collapsed": true
	   },
	   "outputs": [],
"source": [
"// To produce pole-zero plots\n",
"// 4.3\n",
"\n",
"exec('label.sci',-1);\n",
"\n",
"zero = [0 5/12];\n",
"num = poly(zero,'z','roots');\n",
"pole = [1/2 1/3];\n",
"den = poly(pole,'z','roots');\n",
"h = syslin('d',num./den);\n",
"plzr(h);\n",
"\n",
"label('Pole-Zero Plot',4,'Real(z)','Imaginary(z)',4); "
   ]
   }
,
{
		   "cell_type": "markdown",
		   "metadata": {},
		   "source": [
			"## Example 4.4: Discrete_transfer_function_of_the_continuous_state_space_system.sce"
		   ]
		  },
  {
"cell_type": "code",
	   "execution_count": null,
	   "metadata": {
	    "collapsed": true
	   },
	   "outputs": [],
"source": [
"// Discrete transfer function of the continuous state space system\n",
"// 4.4\n",
"\n",
"F = [0 0; 1 -0.1]; G = [0.1; 0];\n",
"C = [0 1]; dt = 0.2;\n",
"sys = syslin('c',F,G,C);\n",
"sysd = dscr(sys,dt);\n",
"H = ss2tf(sysd);"
   ]
   }
,
{
		   "cell_type": "markdown",
		   "metadata": {},
		   "source": [
			"## Example 4.5: Computation_of_residues.sci"
		   ]
		  },
  {
"cell_type": "code",
	   "execution_count": null,
	   "metadata": {
	    "collapsed": true
	   },
	   "outputs": [],
"source": [
"// Computation of residues \n",
"// 4.5\n",
"// Numerator and denominator coefficients\n",
"// are passed in decreasing powers of z(say)\n",
"\n",
"function [res,pol,q] = respol(num,den)\n",
"len = length(num);\n",
"if num(len) == 0\n",
"    num = num(1:len-1);\n",
"end\n",
"\n",
"[resi,q] = pfe(num,den);\n",
"res = resi(:,2);\n",
"res = int(res) + (clean(res - int(res),1.d-04));\n",
"pol = resi(:,1);\n",
"pol = int(pol) + (clean(pol - int(pol),1.d-04));\n",
"endfunction;\n",
"\n",
"///////////////////////////////////////////////////\n",
"// Partial fraction expansion\n",
"\n",
"function [resid1,q] = pfe(num,den)\n",
"x = poly(0,'x');\n",
"s = %s;\n",
"\n",
"num2 = flip(num);\n",
"den2 = flip(den);\n",
"num = poly(num2,'s','coeff');\n",
"den = poly(den2,'s','coeff');\n",
"[fac,g] = factors(den);\n",
"polf = polfact(den);\n",
"n = 1;  \n",
"\n",
"r = clean(real(roots(den)),1.d-5);\n",
"//disp(r);\n",
"l = length(r);\n",
"r = gsort(r,'g','i');\n",
"r = [r; 0];\n",
"j = 1;\n",
"t1 = 1; q = [];\n",
"rr = 0;\n",
"rr1 = [0 0];\n",
"m = 1;\n",
"\n",
"  for i = j:l\n",
"     if abs(r(i)- r(i+1)) < 0.01 then\n",
"       r(i);\n",
"       r(i+1);\n",
"       n = n+1;\n",
"       m = n;\n",
"       //pause\n",
"       t1 = i;\n",
"       //disp('Repeated roots')\n",
"     else\n",
"       m = n;\n",
"       //pause\n",
"       n = 1;\n",
"    end\n",
"    i;\n",
"    if n == 1 then\n",
"      rr1 = [rr1; r(i) m];\n",
"      //pause\n",
"    end;\n",
"       j = t1 + 1;\n",
"  end;\n",
"rr2 = rr1(2:$,:);\n",
"[r1,c1] = size(rr2);\n",
"den1 = 1;\n",
"\n",
"for i = 1:r1\n",
"  den1 = den1 * ((s-rr2(i,1))^(rr2(i,2)));\n",
"end;\n",
"[rem,quo] = pdiv(num,den);\n",
"q = quo;\n",
"if quo ~= 0\n",
"  num = rem;\n",
"end\n",
"\n",
"tf = num/den1;\n",
"res1 = 0;\n",
"res3 = [s 0];\n",
"res5 = [0 0];\n",
"for i = 1:r1\n",
"  j = rr2(i,2) + 1;\n",
"  tf1 = tf; //strictly proper\n",
"  k = rr2(i,2);\n",
"  tf2 = ((s-rr2(i,1))^k)*tf1;\n",
"  rr2(i,1);\n",
"  res1 = horner(tf2,rr2(i,1));\n",
"  res2 = [(s - rr2(i,1))^(rr2(i,2)) res1];\n",
"  res4 = [rr2(i,1) res1];\n",
"  res3 = [res3; res2];\n",
"  res5 = [res5; res4];\n",
"  res = res1;\n",
"    for m = 2:j-1\n",
"    k;\n",
"    rr2(i,1);\n",
"      tf1 = derivat(tf2)/factorial(m-1); //ith derivative\n",
"      res = horner(tf1,rr2(i,1));\n",
"      res2 = [(s - rr2(i,1))^(j-m) res];\n",
"      res4 = [rr2(i,1) res];\n",
"      res5 = [res5; res4];\n",
"      res3 = [res3; res2];\n",
"      tf2 = tf1;\n",
"    end;\n",
"end;      \n",
"resid = res3(2:$,:); //with s terms\n",
"resid1 = res5(2:$,:); //only poles(in decreasing no. of repetitions)\n",
"endfunction;\n",
"////////////////////////////////////////////////////////////"
   ]
   }
,
{
		   "cell_type": "markdown",
		   "metadata": {},
		   "source": [
			"## Example 4.6: Partial_fraction_expansion.sce"
		   ]
		  },
  {
"cell_type": "code",
	   "execution_count": null,
	   "metadata": {
	    "collapsed": true
	   },
	   "outputs": [],
"source": [
"// Partial fraction expansion for Example 4.24\n",
"// 4.6\n",
"\n",
"//             2z^2 + 2z\n",
"// G(z)  =  ---------------\n",
"//            z^2 + 2z - 3\n",
"\n",
"exec('respol.sci',-1);\n",
"exec('flip.sci',-1);\n",
"\n",
"num = [2 2 0];\n",
"den = [1 2 -3];\n",
"[res,pol] = respol(num,den) //respol is a user defined function"
   ]
   }
,
{
		   "cell_type": "markdown",
		   "metadata": {},
		   "source": [
			"## Example 4.7: Partial_fraction_expansion.sce"
		   ]
		  },
  {
"cell_type": "code",
	   "execution_count": null,
	   "metadata": {
	    "collapsed": true
	   },
	   "outputs": [],
"source": [
"// Partial fraction expansion for Example 4.26\n",
"// 4.7\n",
"\n",
"//            z^2 + z          A          B           C\n",
"//  G(z) =  -----------  =  ------- + --------- + ---------\n",
"//           (z - 1)^3      (z - 1)   (z - 1)^2   (z - 1)^3\n",
"\n",
"exec('respol.sci',-1);\n",
"exec('flip.sci',-1);\n",
"\n",
"num = [1 1 0];\n",
"den = convol([1 -1],convol([1 -1],[1 -1])); // poly multiplication\n",
"[res,pol] = respol(num,den)\n",
"\n",
"// Output interpretation\n",
"// res  =\n",
"//C = 2\n",
"//B = 1\n",
"//A = 0\n",
"\n",
"// pol  =\n",
"// 1      (z - 1)^3\n",
"// 1      (z - 1)^2\n",
"// 1      (z - 1)"
   ]
   }
,
{
		   "cell_type": "markdown",
		   "metadata": {},
		   "source": [
			"## Example 4.8: Partial_fraction_expansion.sce"
		   ]
		  },
  {
"cell_type": "code",
	   "execution_count": null,
	   "metadata": {
	    "collapsed": true
	   },
	   "outputs": [],
"source": [
"// Partial fraction expansion for Example 4.27\n",
"// 4.8\n",
"\n",
"//         11z^2 - 15z + 6      A1         A2          B\n",
"// G(z) = ----------------- = ------- + --------- + -------\n",
"//        (z - 2) (z - 1)^2   (z - 1)   (z - 1)^2   (z - 2)\n",
"\n",
"exec('respol.sci',-1);\n",
"exec('flip.sci',-1);\n",
"\n",
"num = [11 -15 6];\n",
"den = convol([1 -2],convol([1 -1],[1 -1])); \n",
"[res,pol] = respol(num,den) //User defined function"
   ]
   }
,
{
		   "cell_type": "markdown",
		   "metadata": {},
		   "source": [
			"## Example 4.9: Partial_fraction_expansion.sce"
		   ]
		  },
  {
"cell_type": "code",
	   "execution_count": null,
	   "metadata": {
	    "collapsed": true
	   },
	   "outputs": [],
"source": [
"// Partial fraction expansion for Example 4.29\n",
"// 4.9\n",
"\n",
"//                z^2 + 2z            \n",
"// G(z)  =  --------------------  \n",
"//           (z + 1)^2 (z - 2)\n",
"\n",
"exec('respol.sci',-1);\n",
"exec('flip.sci',-1);\n",
"\n",
"num = [1 2 0];\n",
"den = convol(convol([1 1],[1 1]),[1 -2]);\n",
"[res,pol] = respol(num,den)"
   ]
   }
],
"metadata": {
		  "kernelspec": {
		   "display_name": "Scilab",
		   "language": "scilab",
		   "name": "scilab"
		  },
		  "language_info": {
		   "file_extension": ".sce",
		   "help_links": [
			{
			 "text": "MetaKernel Magics",
			 "url": "https://github.com/calysto/metakernel/blob/master/metakernel/magics/README.md"
			}
		   ],
		   "mimetype": "text/x-octave",
		   "name": "scilab",
		   "version": "0.7.1"
		  }
		 },
		 "nbformat": 4,
		 "nbformat_minor": 0
}
