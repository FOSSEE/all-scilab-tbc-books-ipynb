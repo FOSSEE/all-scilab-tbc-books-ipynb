{
"cells": [
 {
		   "cell_type": "markdown",
	   "metadata": {},
	   "source": [
       "# Chapter 7: Structures and Specifications"
	   ]
	},
{
		   "cell_type": "markdown",
		   "metadata": {},
		   "source": [
			"## Example 7.10: Solution_to_polynomial_equation.sce"
		   ]
		  },
  {
"cell_type": "code",
	   "execution_count": null,
	   "metadata": {
	    "collapsed": true
	   },
	   "outputs": [],
"source": [
"// Solution to polynomial equation, as discussed in Example 7.14 on page 295.\n",
"// 7.10\n",
"\n",
"exec('move_sci.sci',-1);\n",
"exec('makezero.sci',-1);\n",
"exec('seshft.sci',-1);\n",
"exec('colsplit.sci',-1);\n",
"exec('clcoef.sci',-1);\n",
"exec('cindep.sci',-1);\n",
"exec('indep.sci',-1);\n",
"exec('t1calc.sci',-1);\n",
"exec('left_prm.sci',-1);\n",
"exec('polsize.sci',-1);\n",
"exec('rowjoin.sci',-1);\n",
"exec('xdync.sci',-1);\n",
"\n",
"N = [0  4 0 1\n",
"       -1 8 0 3];\n",
"dN = 1;\n",
"D = [0 0  1 4 0 1\n",
"       0 0 -1 0 0 0];\n",
"dD = 2;\n",
"C = [1 0 1 1\n",
"     0 2 0 1];\n",
"dC = 1;\n",
"[Y,dY,X,dX,B,dB,A,dA] = xdync(N,dN,D,dD,C,dC)\n",
"\n",
"\n",
"\n",
"\n",
"\n",
""
   ]
   }
,
{
		   "cell_type": "markdown",
		   "metadata": {},
		   "source": [
			"## Example 7.1: Procedure_to_draw_root_locus_for_the_problem.sce"
		   ]
		  },
  {
"cell_type": "code",
	   "execution_count": null,
	   "metadata": {
	    "collapsed": true
	   },
	   "outputs": [],
"source": [
"// Procedure to draw root locus for the problem discussed in Example 7.1 on page 247.\n",
"// 7.1\n",
"\n",
"exec('tf.sci',-1);\n",
"\n",
"H = tf(1,[1 -1 0],-1);\n",
"evans(H)\n",
"\n",
""
   ]
   }
,
{
		   "cell_type": "markdown",
		   "metadata": {},
		   "source": [
			"## Example 7.2: Procedure_to_draw_the_Nyquist_plot.sce"
		   ]
		  },
  {
"cell_type": "code",
	   "execution_count": null,
	   "metadata": {
	    "collapsed": true
	   },
	   "outputs": [],
"source": [
"// Procedure to draw the Nyquist plot, as discussed in Example 7.2 on page 250. \n",
"// 7.2\n",
"\n",
"exec('tf.sci',-1);\n",
"\n",
"H = tf(1,[1 -1 0],-1);\n",
"nyquist(H,0.1,0.5) "
   ]
   }
,
{
		   "cell_type": "markdown",
		   "metadata": {},
		   "source": [
			"## Example 7.3: Procedure_to_draw_Bode_plots.sce"
		   ]
		  },
  {
"cell_type": "code",
	   "execution_count": null,
	   "metadata": {
	    "collapsed": true
	   },
	   "outputs": [],
"source": [
"// Procedure to draw Bode plots in Fig. 7.11 on page 255.\n",
"// 7.3\n",
"\n",
"exec('tf.sci',-1);\n",
"\n",
"pol1 = [1 -0.9]; pol2 = [1 -0.8];\n",
"G1 = tf(pol1,[1 0],-1);\n",
"G2 = tf(pol2,[1 0],-1);\n",
"w = linspace(0.001,0.5,1000);\n",
"xset('window',1);\n",
"bode([G1;G2],w);\n",
"G = tf(pol1,pol2,-1);\n",
"xset('window',2);\n",
"bode(G,w);\n",
"\n",
"\n",
""
   ]
   }
,
{
		   "cell_type": "markdown",
		   "metadata": {},
		   "source": [
			"## Example 7.4: A_procedure_to_design_lead_controllers.sce"
		   ]
		  },
  {
"cell_type": "code",
	   "execution_count": null,
	   "metadata": {
	    "collapsed": true
	   },
	   "outputs": [],
"source": [
"// A procedure to design lead controllers, as explained in Fig. 7.12 on page 257.\n",
"// 7.4\n",
"\n",
"exec('tf.sci',-1)\n",
"\n",
"w = linspace(0.001,%pi,1000);\n",
"a = linspace(0.001,0.999,100);\n",
"lena = length(a);\n",
"omega = []; lead = [];\n",
"for i = 1:lena,\n",
"    zero = a(i);\n",
"    pole = 0.9*zero;\n",
"    sys = tf([1 -zero],[1 -pole],-1);\n",
"    frq = w/(2*%pi);\n",
"    [frq,repf]=repfreq(sys, frq);            \n",
"    [db,phase] =dbphi(repf);\n",
"    [y,j] = max(phase);\n",
"    omega = [omega w(j)];\n",
"    lead = [lead y];\n",
"    comega = (pole+zero)/(pole*zero+1);\n",
"    clead = zero-pole;\n",
"    clead1 = sqrt((1-zero^2)*(1-pole^2));\n",
"    clead = clead/clead1;\n",
"//    [w(j) acos(comega) y atan(clead)*180/pi]\n",
"end\n",
"subplot(2,1,1), plot(lead,omega)\n",
"xtitle('','','Frequency, in radians'), xgrid;\n",
"halt;\n",
"subplot(2,1,2), plot(lead,a)\n",
"xtitle('','Lead generated, in degrees','Zero location'), xgrid;"
   ]
   }
,
{
		   "cell_type": "markdown",
		   "metadata": {},
		   "source": [
			"## Example 7.5: Bode_plot_of_a_lead_controller.sce"
		   ]
		  },
  {
"cell_type": "code",
	   "execution_count": null,
	   "metadata": {
	    "collapsed": true
	   },
	   "outputs": [],
"source": [
"// Bode plot of a lead controller, as shown in Fig. 7.13 on page 257.\n",
"// 7.5\n",
"\n",
"exec('tf.sci',-1);\n",
"\n",
"w = linspace(0.001,0.5,1000);\n",
"G = tf([1 -0.8],[1 -0.24],-1);\n",
"bode(G,w)\n",
""
   ]
   }
,
{
		   "cell_type": "markdown",
		   "metadata": {},
		   "source": [
			"## Example 7.6: Verification_of_performance_of_lead_controller_on_antenna_system.sce"
		   ]
		  },
  {
"cell_type": "code",
	   "execution_count": null,
	   "metadata": {
	    "collapsed": true
	   },
	   "outputs": [],
"source": [
"// Verification of performance of lead controller on antenna system, as discussed in Example 7.3. \n",
"// 7.6 \n",
"\n",
"// Continuous time antenna model\n",
"a = 0.1;\n",
"F = [0 1;0 -a]; g = [0; a]; c = [1 0]; d = 0;\n",
"Ga = syslin('c',F,g,c,d); [ds,num,den] = ss2tf(Ga); \n",
"Num = clean(num); Den = clean(den);\n",
"Ts = 0.2;\n",
"G = dscr(Ga,Ts);\n",
"\n",
"// lead controller\n",
"beta1 = 0.8;\n",
"N = [1 -0.9802]*(1-beta1)/(1-0.9802); Rc = [1 -beta1];\n",
"\n",
"// simulation parameters using g_s_cl2.cos\n",
"gamm = 1; Sc = 1; Tc = 1; C = 0; D = 1;\n",
"st = 1; st1 = 0;\n",
"t_init = 0; t_final = 20;\n",
"\n",
"// u1: -4 to 11\n",
"// y1: 0 to 1.4\n",
"exec('cosfil_ip.sci',-1);\n",
"[Tcp1,Tcp2] = cosfil_ip(Tc,1); // Tc/1\n",
"[Np,Rcp] = cosfil_ip(N,Rc); // N/Rc\n",
"[Scp1,Scp2] = cosfil_ip(Sc,1); // Sc/1\n",
"[Cp,Dp] = cosfil_ip(C,D); // C/D"
   ]
   }
,
{
		   "cell_type": "markdown",
		   "metadata": {},
		   "source": [
			"## Example 7.7: Illustration_of_system_type.sce"
		   ]
		  },
  {
"cell_type": "code",
	   "execution_count": null,
	   "metadata": {
	    "collapsed": true
	   },
	   "outputs": [],
"source": [
"// Illustration of system type, as explained in Example 7.10 on page 275.\n",
"// 7.7\n",
"\n",
"exec('rowjoin.sci',-1);\n",
"exec('zpowk.sci',-1);\n",
"exec('polmul.sci',-1);\n",
"exec('polsize.sci',-1);\n",
"exec('indep.sci',-1);\n",
"exec('t1calc.sci',-1);\n",
"exec('makezero.sci',-1);\n",
"exec('move_sci.sci',-1);\n",
"exec('clcoef.sci',-1);\n",
"exec('colsplit.sci',-1);\n",
"exec('seshft.sci',-1);\n",
"exec('left_prm.sci',-1);\n",
"exec('cindep.sci',-1);\n",
"exec('xdync.sci',-1);\n",
"exec('pp_pid.sci',-1);\n",
"exec('cosfil_ip.sci');\n",
"\n",
"// Plant \n",
"B = 1; A = [1 -1]; zk = [0 1]; Ts = 1; k = 1;\n",
"// Value of k absent in original code\n",
"// Specify closed loop characteristic polynomial\n",
"phi = [1 -0.5];\n",
"\n",
"// Design the controller\n",
"reject_ramps = 1;\n",
"  if reject_ramps == 1,\n",
"    Delta = [1 -1]; // to reject ramps another Delta\n",
"  else\n",
"    Delta = 1; // steps can be rejected by plant itself\n",
"  end\n",
"[Rc,Sc] = pp_pid(B,A,k,phi,Delta);\n",
"\n",
"// parameters for simulation using stb_disc.mdl\n",
"Tc = Sc; gamm = 1; N = 1; \n",
"C = 0; D = 1; N_var = 0; \n",
"st = 1; t_init = 0; t_final = 20;\n",
"\n",
"[Tcp1,Tcp2] = cosfil_ip(Tc,1); // Tc/1\n",
"[Rcp1,Rcp2] = cosfil_ip(1,Rc); // 1/Rc\n",
"[Scp1,Scp2] = cosfil_ip(Sc,1); // Sc/1\n",
"[Bp,Ap] = cosfil_ip(B,A); // B/A\n",
"[zkp1,zkp2] = cosfil_ip(zk,1); // zk/1\n",
"[Cp,Dp] = cosfil_ip(C,D); // C/D\n",
"\n",
"// Give appropriate path\n",
"//xcos('stb_disc.xcos');"
   ]
   }
,
{
		   "cell_type": "markdown",
		   "metadata": {},
		   "source": [
			"## Example 7.8: Solution_to_Aryabhatta_identity.sce"
		   ]
		  },
  {
"cell_type": "code",
	   "execution_count": null,
	   "metadata": {
	    "collapsed": true
	   },
	   "outputs": [],
"source": [
"// Solution to Aryabhatta's identity, presented in Example 7.12 on page 293.\n",
"// 7.8\n",
"\n",
"exec('indep.sci',-1);\n",
"exec('rowjoin.sci',-1);\n",
"exec('polsize.sci',-1);\n",
"exec('makezero.sci',-1);\n",
"exec('clcoef.sci',-1);\n",
"exec('cindep.sci',-1);\n",
"exec('seshft.sci',-1);\n",
"exec('move_sci.sci',-1);\n",
"exec('colsplit.sci',-1);\n",
"exec('left_prm.sci',-1);\n",
"exec('t1calc.sci',-1);\n",
"exec('xdync.sci',-1);\n",
"\n",
"N = convol([0 1],[1 1]);\n",
"D = convol([1 -4],[1 -1]);\n",
"dN = 2; dD = 2;\n",
"C = [1 -1 0.5];\n",
"dC = 2;\n",
"[Y,dY,X,dX,B,dB,A,dA] = xdync(N,dN,D,dD,C,dC)\n",
""
   ]
   }
,
{
		   "cell_type": "markdown",
		   "metadata": {},
		   "source": [
			"## Example 7.9: Left_coprime_factorizatio.sce"
		   ]
		  },
  {
"cell_type": "code",
	   "execution_count": null,
	   "metadata": {
	    "collapsed": true
	   },
	   "outputs": [],
"source": [
"// Left coprime factorization as discussed in Example 7.13 on page 295.\n",
"// 7.9\n",
"\n",
"exec('rowjoin.sci',-1);\n",
"exec('makezero.sci',-1);\n",
"exec('colsplit.sci',-1);\n",
"exec('clcoef.sci',-1);\n",
"exec('polsize.sci',-1);\n",
"exec('seshft.sci',-1);\n",
"exec('indep.sci',-1);\n",
"exec('move_sci.sci',-1);\n",
"exec('t1calc.sci',-1);\n",
"exec('left_prm.sci',-1);\n",
"\n",
"D = [1 0 0 0 0 0\n",
"0 1 0 1 0 0\n",
"0 0 1 1 1 0];\n",
"N = [\n",
"1 0 0\n",
"0 1 0\n",
"0 0 1];\n",
"dD = 1;\n",
"dN = 0;\n",
"[B,dB,A,dA] = left_prm(N,dN,D,dD)\n",
"\n",
"\n",
""
   ]
   }
],
"metadata": {
		  "kernelspec": {
		   "display_name": "Scilab",
		   "language": "scilab",
		   "name": "scilab"
		  },
		  "language_info": {
		   "file_extension": ".sce",
		   "help_links": [
			{
			 "text": "MetaKernel Magics",
			 "url": "https://github.com/calysto/metakernel/blob/master/metakernel/magics/README.md"
			}
		   ],
		   "mimetype": "text/x-octave",
		   "name": "scilab",
		   "version": "0.7.1"
		  }
		 },
		 "nbformat": 4,
		 "nbformat_minor": 0
}
