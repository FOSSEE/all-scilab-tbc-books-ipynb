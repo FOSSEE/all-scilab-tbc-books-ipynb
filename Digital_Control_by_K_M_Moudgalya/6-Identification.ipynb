{
"cells": [
 {
		   "cell_type": "markdown",
	   "metadata": {},
	   "source": [
       "# Chapter 6: Identification"
	   ]
	},
{
		   "cell_type": "markdown",
		   "metadata": {},
		   "source": [
			"## Example 6.10: Determination_of_the_PACF_of_AR_process.sci"
		   ]
		  },
  {
"cell_type": "code",
	   "execution_count": null,
	   "metadata": {
	    "collapsed": true
	   },
	   "outputs": [],
"source": [
"// Determination of the PACF of AR(p) process, as explained in Sec. 6.4.5.\n",
"// 6.10\n",
"\n",
"function [ajj] = pacf(v,M)\n",
"exec('label.sci',-1);\n",
"rvvn = xcorr(v,'coeff'); \n",
"len = length(rvvn);\n",
"zero = (len+1)/2;\n",
"rvvn0 = rvvn(zero);\n",
"rvvn_one_side = rvvn(zero+1:len);\n",
"ajj = [];\n",
"exec('pacf_mat.sci',-1);\n",
"for j = 1:M,\n",
"  ajj = [ajj pacf_mat(rvvn0,rvvn_one_side,j,1)];\n",
"end\n",
"p = 1:length(ajj);\n",
"N = length(p);\n",
"lim = 2/sqrt(length(v));\n",
"\n",
"// Plot the figure\n",
"plot(p,ajj,p,ajj,'o',p,lim*ones(N,1),'--',...\n",
"               p,-lim*ones(N,1),'--');\n",
"label('',4,'Lag','PACF',4);\n",
"endfunction;"
   ]
   }
,
{
		   "cell_type": "markdown",
		   "metadata": {},
		   "source": [
			"## Example 6.11: Construction_of_square_matrix_required_to_compute_PACF_ajj.sci"
		   ]
		  },
  {
"cell_type": "code",
	   "execution_count": null,
	   "metadata": {
	    "collapsed": true
	   },
	   "outputs": [],
"source": [
"// Construction of square matrix required to compute PACF ajj, useful for the calculations in Sec. 6.4.5.\n",
"// 6.11\n",
"\n",
"function ajj = pacf_mat(rvv0,rvv_rest,p,k)\n",
"if argn(2) == 3,\n",
"  k = 1;\n",
"end\n",
"for i = 1:p\n",
"  for j = 1:p\n",
"    index = (k+i-1)-j;\n",
"    if index == 0, \n",
"      A(i,j) = rvv0;\n",
"    elseif index < 0,\n",
"      A(i,j) = rvv_rest(-index);\n",
"    else \n",
"      A(i,j) = rvv_rest(index);\n",
"    end\n",
"  end\n",
"  b(i) = -rvv_rest(k+i-1);\n",
"end\n",
"a = A\b;\n",
"ajj = a(p);\n",
"endfunction;\n",
"\n",
"\n",
"\n",
"\n",
"\n",
"\n",
"\n",
"\n",
"\n",
"\n",
"\n",
"\n",
"\n",
"\n",
"\n",
"\n",
"\n",
"\n",
"\n",
"\n",
""
   ]
   }
,
{
		   "cell_type": "markdown",
		   "metadata": {},
		   "source": [
			"## Example 6.12: PACF_plot_of_an_MA_process_decays_slowly.sce"
		   ]
		  },
  {
"cell_type": "code",
	   "execution_count": null,
	   "metadata": {
	    "collapsed": true
	   },
	   "outputs": [],
"source": [
"// PACF plot of an MA process decays slowly, as discussed in Example 6.19 on page 190.\n",
"// 6.12\n",
"\n",
"exec('plotacf.sci',-1);\n",
"exec('pacf.sci',-1);\n",
"exec('label.sci',-1);\n",
"\n",
"m = armac(1,0,[1,-0.9,0.2],1,1,1);\n",
"xi = 0.1*rand(1,10000);\n",
"v = arsimul(m,xi);\n",
"plotacf(v,1,11,1);\n",
"xset('window',1);\n",
"pacf(v,11);"
   ]
   }
,
{
		   "cell_type": "markdown",
		   "metadata": {},
		   "source": [
			"## Example 6.13: Implementation_of_trial_and_error_procedure_to_determine_ARMA_process.sce"
		   ]
		  },
  {
"cell_type": "code",
	   "execution_count": null,
	   "metadata": {
	    "collapsed": true
	   },
	   "outputs": [],
"source": [
"// Implementation of trial and error procedure to determine ARMA(1,1) process, presented in Example 6.20 on page 191.\n",
"// 6.13\n",
"\n",
"exec('plotacf.sci',-1);\n",
"exec('pacf.sci',-1);\n",
"exec('label.sci',-1);\n",
"\n",
"// Set up the model for simulation\n",
"arma_mod = armac([1 -0.8],0,[1 -0.3],1,1,1);\n",
"\n",
"// Generate the inputs for simulation\n",
"// Deterministic Input can be anything\n",
"u = zeros(1,2048); \n",
"e = rand(1,2048,'normal');\n",
"\n",
"// Simulate the model\n",
"v = arsimul(arma_mod,[u e]);\n",
"\n",
"// Plot ACF and PACF for 10 lags\n",
"plotacf(v,1e-03,11,1); \n",
"xset('window',1), pacf(v,10);\n",
"\n",
"// Estimate AR(1) model and present it\n",
"// compute the residuals\n",
"[mod_est1,err_mod1] = armax1(1,0,0,v,zeros(1,length(v)));\n",
"disp(mod_est1);\n",
"\n",
"// Plot ACF and PACF for 10 lags\n",
"xset('window',2), plotacf(err_mod1,1e-03,11,1); \n",
"xset('window',3), pacf(err_mod1,10);\n",
"\n",
"// Check ACF and PACF of residuals \n",
"[mod_est2,err_mod2] = armax1(1,0,1,v,zeros(1,length(v)));\n",
"disp(mod_est2);\n",
"\n",
"// Plot ACF and PACF for 10 lags\n",
"xset('window',4), plotacf(err_mod2,1e-03,11,1); \n",
"xset('window',5), pacf(err_mod2,10);\n",
""
   ]
   }
,
{
		   "cell_type": "markdown",
		   "metadata": {},
		   "source": [
			"## Example 6.14: Determination_of_FIR_parameters.sce"
		   ]
		  },
  {
"cell_type": "code",
	   "execution_count": null,
	   "metadata": {
	    "collapsed": true
	   },
	   "outputs": [],
"source": [
"// Determination of FIR parameters as described in Example 6.22 on page 200.\n",
"// 6.14\n",
"\n",
"exec('cra.sci',-1);\n",
"exec('filt.sci',-1);\n",
"exec('covf.sci',-1);\n",
"\n",
"sig = 0.05;\n",
"process_mod = armac([1 -0.5],[0 0.6 -0.2],1,1,1,sig);\n",
"\n",
"u = prbs_a(2225,40);\n",
"xi = rand(1,2225,'normal');\n",
"y = arsimul(process_mod,[u xi]);\n",
"u = [u zeros(1,length(y)-length(u))];\n",
"z = [y' u'];\n",
"\n",
"// Plot y as a function of u and xi\n",
"exec('label.sci',-1)\n",
"subplot(3,1,1), plot(y(1:500)),\n",
"label('',4,'','y',4)\n",
"subplot(3,1,2), plot(u(1:500))\n",
"label('',4,'','u',4)\n",
"subplot(3,1,3), plot(sig*xi(1:500))\n",
"label('',4,'n','xi',4)\n",
"\n",
"xset('window',1);\n",
"[ir,r,cl_s] = cra(detrend(z,'constant'));\n",
"ir_act = filt([0 0.6 -0.2],[1 -0.5],...\n",
"              [1 zeros(1,9)]);\n",
"replot([0,min(min(ir),min(ir_act)) - 0.1,9,max(max(ir),max(ir_act)) + 0.1]);\n",
"t = 0:9;  \n",
"plot(t,ir_act,'ko'); \n",
"plot2d3(t,ir_act);\n",
"legends(['Estimated'; 'Actual'], [2;-9],'ur');"
   ]
   }
,
{
		   "cell_type": "markdown",
		   "metadata": {},
		   "source": [
			"## Example 6.15: Determination_of_ARX_parameters.sce"
		   ]
		  },
  {
"cell_type": "code",
	   "execution_count": null,
	   "metadata": {
	    "collapsed": true
	   },
	   "outputs": [],
"source": [
"// Determination of ARX parameters as described in Example 6.25 on page 203.\n",
"// 6.15\n",
"\n",
"exec('armac1.sci',-1);\n",
"exec('cra.sci',-1);\n",
"exec('arx.sci',-1);\n",
"exec('filt.sci',-1);\n",
"exec('covf.sci',-1);\n",
"exec('stem.sci',-1);\n",
"\n",
"process_arx = armac1([1 -0.5],[0 0 0.6 -0.2],1,1,1,0.05);\n",
"u = prbs_a(5000,250);\n",
"xi = rand(1,5000,'normal');\n",
"y = arsimul(process_arx,[u xi]);\n",
"z = [y(1:length(u))' u'];\n",
"zd = detrend(z,'constant');\n",
"\n",
"// Compute IR for time-delay estimation\n",
"[ir,r,cl_s] = cra(detrend(z,'constant'));\n",
"\n",
"// Time-delay = 2 samples\n",
"// Estimate ARX model (assume known orders)\n",
"na = 1; nb = 2; nk = 2;\n",
"[theta_arx,cov_arx,nvar,resid] = arx(zd,na,nb,nk); \n",
"\n",
"// Residual plot\n",
"[cov1,m1] = xcov(resid,24,'coeff');\n",
"xset('window',1); \n",
"subplot(2,1,1)\n",
"stem(0:24,cov1(25:49)');xgrid();\n",
"xtitle('Correlation function of residuals from output y1','lag');\n",
"[cov2,m2] = xcov(resid, zd(:,2),24,'coeff');\n",
"subplot(2,1,2)\n",
"stem(-24:24,cov2');xgrid();\n",
"xtitle('Cross corr. function between input u1 and residuals from output y1','lag');"
   ]
   }
,
{
		   "cell_type": "markdown",
		   "metadata": {},
		   "source": [
			"## Example 6.16: Determination_of_ARMAX_parameters.sce"
		   ]
		  },
  {
"cell_type": "code",
	   "execution_count": null,
	   "metadata": {
	    "collapsed": true
	   },
	   "outputs": [],
"source": [
"// Determination of ARMAX parameters as described in Example 6.27 on page 206.\n",
"// 6.16\n",
"\n",
"exec('cra.sci',-1);\n",
"exec('stem.sci',-1);\n",
"exec('filt.sci',-1);\n",
"exec('covf.sci',-1);\n",
"\n",
"process_armax = armac([1 -0.5],[0 0 0.6 -0.2],[1 -0.3],1,1,0.05);\n",
"u = prbs_a(5000,250);\n",
"xi = rand(1,5000);\n",
"y = arsimul(process_armax,[u xi]);\n",
"z = [y(1:length(u))' u'];\n",
"zd = detrend(z,'constant');\n",
"\n",
"//Compute IR for time-delay estimation\n",
"[ir,r,cl_s] = cra(detrend(z,'constant'));\n",
"\n",
"//Estimate ARMAX model (assume known orders)\n",
"na = 1; nb = 3; nc = 1; nk = 2;\n",
"[theta_armax,resid] = armax1(na,nb,nc,zd(:,1)',zd(:,2)',1);\n",
"disp(theta_armax)\n",
"\n",
"// Residual plot\n",
"[cov1,m1] = xcov(resid,24,'coeff');\n",
"xset('window',1); \n",
"subplot(2,1,1)\n",
"stem(0:24,cov1(25:49));xgrid();\n",
"xtitle('Correlation function of residuals from output y1','lag');\n",
"[cov2,m2] = xcov(resid, zd(:,2),24,'coeff');\n",
"subplot(2,1,2)\n",
"stem(-24:24,cov2);xgrid();\n",
"xtitle('Cross corr. function between input u1 and residuals from output y1','lag');\n",
"\n",
"\n",
"\n",
"\n",
"\n",
""
   ]
   }
,
{
		   "cell_type": "markdown",
		   "metadata": {},
		   "source": [
			"## Example 6.17: Determination_of_OE_parameters.sce"
		   ]
		  },
  {
"cell_type": "code",
	   "execution_count": null,
	   "metadata": {
	    "collapsed": true
	   },
	   "outputs": [],
"source": [
"// Determination of OE parameters as described in Example 6.28 on page 209.\n",
"// 6.17\n",
"\n",
"exec('armac1.sci',-1);\n",
"exec('oe.sci',-1);\n",
"exec('cra.sci',-1);\n",
"exec('stem.sci',-1);\n",
"exec('filt.sci',-1);\n",
"exec('covf.sci',-1);\n",
"exec('deconvol.sci',-1);\n",
"\n",
"b = [0 0 0.6 -0.2];\n",
"f = [1 -0.5]; \n",
"c = 1; d = 1; \n",
"process_oe = armac1(1,b,c,d,f,0.05); \n",
"u = prbs_a(2555,250);\n",
"xi = rand(1,2555,'normal');\n",
"y = arsimul(process_oe,[u xi]);\n",
"z = [y(1:length(u))' u'];\n",
"zd = detrend(z,'constant');\n",
"\n",
"// Compute IR for time-delay estimation\n",
"[ir,r,cl_s] = cra(zd);\n",
"\n",
"// Time-delay = 2 samples\n",
"// Estimate ARX model (assume known orders)\n",
"nb = 2; nf = 1; nk = 2;\n",
"[thetaN,covfN,nvar,resid] = oe(zd,nb,nf,nk);\n",
"\n",
"// Residual plot\n",
"[cov1,m1] = xcov(resid,24,'coeff');\n",
"xset('window',1); \n",
"subplot(2,1,1)\n",
"stem(0:24,cov1(25:49)');xgrid();\n",
"xtitle('Correlation function of residuals from output y1','lag');\n",
"[cov2,m2] = xcov(resid, zd(:,2),24,'coeff');\n",
"subplot(2,1,2)\n",
"stem(-24:24,cov2');xgrid();\n",
"xtitle('Cross corr. function between input u1 and residuals from output y1','lag');\n",
""
   ]
   }
,
{
		   "cell_type": "markdown",
		   "metadata": {},
		   "source": [
			"## Example 6.1: Least_squares_solutio.sce"
		   ]
		  },
  {
"cell_type": "code",
	   "execution_count": null,
	   "metadata": {
	    "collapsed": true
	   },
	   "outputs": [],
"source": [
"// Least squares solution of the simple problem discussed in Example 6.4 on page 164\n",
"// 6.1\n",
"\n",
"Mag = 10; V = 10; No_pts = 100; theta = 2;\n",
"Phi = Mag * (1-2*rand(No_pts,1));\n",
"E = V * (1-2*rand(No_pts,1));\n",
"Z = Phi*theta + E;\n",
"LS = Phi \ Z\n",
"Max = max(Z ./ Phi), Min = min(Z ./ Phi)\n",
"\n",
""
   ]
   }
,
{
		   "cell_type": "markdown",
		   "metadata": {},
		   "source": [
			"## Example 6.2: ACF_calculatio.sce"
		   ]
		  },
  {
"cell_type": "code",
	   "execution_count": null,
	   "metadata": {
	    "collapsed": true
	   },
	   "outputs": [],
"source": [
"// ACF calculation for the problem discussed in Example 6.5 on page 167\n",
"// 6.2\n",
"\n",
"u = [1 2];\n",
"r = xcov(u);\n",
"rho = xcov(u,'coeff');"
   ]
   }
,
{
		   "cell_type": "markdown",
		   "metadata": {},
		   "source": [
			"## Example 6.3: To_demonstrate_the_periodicity_property_of_ACF.sce"
		   ]
		  },
  {
"cell_type": "code",
	   "execution_count": null,
	   "metadata": {
	    "collapsed": true
	   },
	   "outputs": [],
"source": [
"// To demonstrate the periodicity property of ACF as discussed in Example 6.7 on page 173\n",
"// 6.3\n",
"\n",
"exec('plotacf.sci',-1);\n",
"exec('label.sci',-1);\n",
"\n",
"L = 500;\n",
"n = 1:L;\n",
"w = 0.1;\n",
"S = sin(w*n);\n",
"m = 1;\n",
"xi = m*rand(L,1,'normal');\n",
"Spxi = S+xi';\n",
"xset('window',0);\n",
"plot(Spxi);\n",
"label('',4,'n','y',4)\n",
"xset('window',1);\n",
"plotacf(Spxi,1,L,1);\n",
"\n",
"\n",
"\n",
""
   ]
   }
,
{
		   "cell_type": "markdown",
		   "metadata": {},
		   "source": [
			"## Example 6.4: To_demonstrate_the_maximum_property_of_ACF_at_zero_lag.sce"
		   ]
		  },
  {
"cell_type": "code",
	   "execution_count": null,
	   "metadata": {
	    "collapsed": true
	   },
	   "outputs": [],
"source": [
"// To demonstrate the maximum property of ACF at zero lag, as discussed in Example 6.8 on page 175.\n",
"// 6.4\n",
"\n",
"exec('label.sci',-1);\n",
"\n",
"S1 = [1 2 3 4]; \n",
"S2 = [1,-2,3,-4];\n",
"S3 = [-1,-2,3,4];\n",
"len = length(S1)-1; \n",
"xv = -len:len;\n",
"m = 1;\n",
"xi = rand(4,1,'normal');\n",
"Spxi1 = S1 + m*xi';\n",
"Spxi2 = S2 + m*xi';\n",
"Spxi3 = S3 + m*xi';\n",
"n = 1:length(S1);\n",
"plot(n,Spxi1,'o-',n,Spxi2,'x--',n,Spxi3,'*:');\n",
"label('',4,'n','y',4);\n",
"ACF1 = xcov(Spxi1,'coeff');\n",
"ACF2 = xcov(Spxi2,'coeff');\n",
"ACF3 = xcov(Spxi3,'coeff');\n",
"xset('window',1);\n",
"a = gca();\n",
"a.data_bounds = [-len -1; len 1];\n",
"plot(xv,ACF1,'o-',xv,ACF2,'x--',xv,ACF3,'*:');\n",
"label('',4,'Lag','ACF',4);"
   ]
   }
,
{
		   "cell_type": "markdown",
		   "metadata": {},
		   "source": [
			"## Example 6.5: Demonstrate_the_order_of_MA.sce"
		   ]
		  },
  {
"cell_type": "code",
	   "execution_count": null,
	   "metadata": {
	    "collapsed": true
	   },
	   "outputs": [],
"source": [
"// Demonstrate the order of MA(q) as discussed in Example 6.11 on page 182.\n",
"// 6.5\n",
"\n",
"exec('plotacf.sci',-1);\n",
"exec('label.sci',-1);\n",
"\n",
"xi = 0.1*rand(1,10000,'normal');  \n",
"a = 1; b = [];\n",
"d = [1 1 -0.5];\n",
"ar = armac(a,b,d,1,1,1);\n",
"v = arsimul(ar,xi);\n",
"z = [v xi];\n",
"\n",
"// Plot noise, plant output and ACF\n",
"subplot(2,1,1), plot(v(1:500))\n",
"label('',4,'','v',4)\n",
"subplot(2,1,2), plot(xi(1:500))\n",
"label('',4,'n','xi',4)\n",
"xset('window',1)\n",
"plotacf(v,1,11,1);\n",
"\n",
"\n",
"\n",
"\n",
"\n",
"\n",
"\n",
""
   ]
   }
,
{
		   "cell_type": "markdown",
		   "metadata": {},
		   "source": [
			"## Example 6.6: Procedure_to_plot_the_ACF.sci"
		   ]
		  },
  {
"cell_type": "code",
	   "execution_count": null,
	   "metadata": {
	    "collapsed": true
	   },
	   "outputs": [],
"source": [
"// Procedure to plot the ACF, as discussed in Sec. 6.4.3. An example usage is given in 6.5.\n",
"// 6.6\n",
"\n",
"// PLOTACF: Plots normalized autocorrelation function\n",
"//\n",
"// USAGE:: [acf]=plotacf(x,errlim,len,print_code)\n",
"//\n",
"// WHERE:: acf = autocorrelation values\n",
"// x = time series data\n",
"// errlim > 0; error limit = 2/sqrt(data_len)\n",
"// len = length of acf that need to to be plotted\n",
"// NOTE: if len=0 then len=data_length/2;\n",
"// print_code = 0 ==> does not plot OR ELSE plots\n",
"//\n",
"// Pranob Banerjee\n",
"\n",
"function [x]=plotacf(y,errlim,len,code)\n",
"exec('label.sci',-1)\n",
"x = xcov(y); l = length(y); x = x/x(l);\n",
"r=l:2*(l-1); lim=2/sqrt(l); rl=1:length(r) ; \n",
"N=length(rl); x=x(r); \n",
"if len>0 & len<N, rl=1:len; x=x(rl); N=len; end;\n",
"if(code > 0 )\n",
"  if(errlim > 0 )\n",
"    rl=rl-1;\n",
"    plot(rl,x,rl,x,'o' , rl,lim*ones(N,1),'--', ...\n",
"         rl,-lim*ones(N,1),'--')\n",
"    xgrid\n",
"  else\n",
"    plot(rl,x)\n",
"  end\n",
"end;\n",
"a = gca();\n",
"a.data_bounds = [0 min(min(x),-lim-0.1); len-1 1.1];\n",
"label(' ',4,'Lag','ACF',4)\n",
"endfunction;"
   ]
   }
,
{
		   "cell_type": "markdown",
		   "metadata": {},
		   "source": [
			"## Example 6.7: Illustration_of_nonuniqueness_in_estimation_of_MA_model_parameters_using_ACF.sce"
		   ]
		  },
  {
"cell_type": "code",
	   "execution_count": null,
	   "metadata": {
	    "collapsed": true
	   },
	   "outputs": [],
"source": [
"// Illustration of nonuniqueness in estimation of MA model parameters using ACF, discussed in Example 6.14 on page 184\n",
"// 6.7\n",
"\n",
"exec('plotacf.sci',-1);\n",
"exec('pacf.sci',-1);\n",
"exec('label.sci',-1);\n",
"\n",
"xi = 0.1*rand(1,10000);\n",
"\n",
"// Simulation and estimation of first model\n",
"m1 = armac(1,0,[1,-3,1.25],1,1,1);\n",
"v1 = arsimul(m1,xi);\n",
"M1 = armax1(0,0,2,v1,zeros(1,10000))\n",
"disp(M1)\n",
"\n",
"// Simulation and estimation of second model\n",
"m2 = armac(1,0,[1,-0.9,0.2],1,1,1);\n",
"v2 = arsimul(m2,xi);\n",
"M2 = armax1(0,0,2,v2,zeros(1,10000))\n",
"disp(M2)\n",
"\n",
"// ACF and PACF of both models\n",
"plotacf(v1,1,11,1); \n",
"xset('window',1), plotacf(v2,1,11,1);\n",
"xset('window',2), pacf(v1,11);\n",
"xset('window',3), pacf(v2,11);\n",
""
   ]
   }
,
{
		   "cell_type": "markdown",
		   "metadata": {},
		   "source": [
			"## Example 6.8: Estimation_with_a_larger_order_model_results_in_large_uncertainty.sce"
		   ]
		  },
  {
"cell_type": "code",
	   "execution_count": null,
	   "metadata": {
	    "collapsed": true
	   },
	   "outputs": [],
"source": [
"// Estimation with a larger order model results in large uncertainty, as discussed in Example 6.15 on page 185.\n",
"// 6.8\n",
"\n",
"m = armac(1,0,[1 -0.9 0.2],1,1,1);\n",
"xi = 0.1*rand(1,10000);\n",
"v = arsimul(m,xi);\n",
"M1 = armax1(0,0,2,v,zeros(1,10000))\n",
"disp(M1)\n",
"M2 = armax1(0,0,3,v,zeros(1,10000))\n",
"disp(M2)"
   ]
   }
,
{
		   "cell_type": "markdown",
		   "metadata": {},
		   "source": [
			"## Example 6.9: Determination_of_order_of_AR_process.sce"
		   ]
		  },
  {
"cell_type": "code",
	   "execution_count": null,
	   "metadata": {
	    "collapsed": true
	   },
	   "outputs": [],
"source": [
"// Determination of order of AR(p) process, as discussed in Example 6.18 on page 189.\n",
"// 6.9\n",
"\n",
"exec('pacf.sci',-1);\n",
"exec('label.sci',-1);\n",
"\n",
"// Define model and generate data\n",
"m = armac([1,-1,0.5],0,1,1,1,1);\n",
"xi = 0.1*rand(1,10000,'normal');\n",
"v = arsimul(m,xi); \n",
"\n",
"// Plot noise, plant output and PACF\n",
"subplot(2,1,1), plot(v(1:500));\n",
"label('',6,'','v',6);\n",
"subplot(2,1,2), plot(xi(1:500));\n",
"label('',6,'n','xi',6);\n",
"xset('window',1)\n",
"pacf(v,10);\n",
"\n",
""
   ]
   }
],
"metadata": {
		  "kernelspec": {
		   "display_name": "Scilab",
		   "language": "scilab",
		   "name": "scilab"
		  },
		  "language_info": {
		   "file_extension": ".sce",
		   "help_links": [
			{
			 "text": "MetaKernel Magics",
			 "url": "https://github.com/calysto/metakernel/blob/master/metakernel/magics/README.md"
			}
		   ],
		   "mimetype": "text/x-octave",
		   "name": "scilab",
		   "version": "0.7.1"
		  }
		 },
		 "nbformat": 4,
		 "nbformat_minor": 0
}
