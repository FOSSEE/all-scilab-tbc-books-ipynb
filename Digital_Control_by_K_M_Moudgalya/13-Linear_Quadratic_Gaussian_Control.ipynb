{
"cells": [
 {
		   "cell_type": "markdown",
	   "metadata": {},
	   "source": [
       "# Chapter 13: Linear Quadratic Gaussian Control"
	   ]
	},
{
		   "cell_type": "markdown",
		   "metadata": {},
		   "source": [
			"## Example 13.10: Performance_curve_for_GMVC_design_of_first_control_problem_by_MacGregor.sce"
		   ]
		  },
  {
"cell_type": "code",
	   "execution_count": null,
	   "metadata": {
	    "collapsed": true
	   },
	   "outputs": [],
"source": [
"// Performance curve for GMVC design of MacGregor's first control problem\n",
"// 13.10\n",
"\n",
"exec('gmv.sci',-1);\n",
"exec('xdync.sci',-1);\n",
"exec('rowjoin.sci',-1);\n",
"exec('polsize.sci',-1);\n",
"exec('left_prm.sci',-1);\n",
"exec('t1calc.sci',-1);\n",
"exec('indep.sci',-1);\n",
"exec('seshft.sci',-1);\n",
"exec('makezero.sci',-1);\n",
"exec('move_sci.sci',-1);\n",
"exec('colsplit.sci',-1);\n",
"exec('clcoef.sci',-1);\n",
"exec('cindep.sci',-1);\n",
"exec('polmul.sci',-1);\n",
"exec('poladd.sci',-1);\n",
"exec('cl.sci',-1);\n",
"exec('zpowk.sci',-1);\n",
"exec('tfvar.sci',-1);\n",
"exec('l2r.sci',-1);\n",
"exec('transp.sci',-1);\n",
"exec('tf.sci',-1);\n",
"exec('covar_m.sci',-1);\n",
"\n",
"// MacGregor's first control problem\n",
"A = [1 -1.4 0.45]; dA = 2; C = [1 -0.5]; dC = 1;\n",
"B = 0.5*[1 -0.9]; dB = 1; k = 1; int1 = 0;\n",
"u_gmv = []; y_gmv = []; uy_gmv = [];\n",
"\n",
"for rho = 0:0.1:10,\n",
"    [S,dS,R,dR] = gmv(A,dA,B,dB,C,dC,k,rho,int1);\n",
"    [Nu,dNu,Du,dDu,Ny,dNy,Dy,dDy,yvar,uvar] = ...\n",
"        cl(A,dA,B,dB,C,dC,k,S,dS,R,dR,int1);\n",
"    u_gmv = [u_gmv uvar]; y_gmv = [y_gmv yvar]; \n",
"    uy_gmv = [uy_gmv; [rho uvar yvar]];\n",
"end\n",
"plot(u_gmv,y_gmv,'b')\n",
"save('gmv_mac1.dat','uy_gmv');"
   ]
   }
,
{
		   "cell_type": "markdown",
		   "metadata": {},
		   "source": [
			"## Example 13.1: Spectral_factorizatio.sce"
		   ]
		  },
  {
"cell_type": "code",
	   "execution_count": null,
	   "metadata": {
	    "collapsed": true
	   },
	   "outputs": [],
"source": [
"// Spectral factorization, as discussed in Example 13.3 on page 467.\n",
"// 13.1\n",
"\n",
"exec('spec1.sci',-1);\n",
"exec('flip.sci',-1);\n",
"exec('polmul.sci',-1);\n",
"exec('polsize.sci',-1);\n",
"exec('poladd.sci',-1);\n",
"\n",
"A = convol([-0.5 1],[-0.9 1]); dA = 2;\n",
"B = 0.5*[-0.9 1]; dB = 1; rho = 1;\n",
"[r,beta1,sigma] = spec1(A,dA,B,dB,rho)"
   ]
   }
,
{
		   "cell_type": "markdown",
		   "metadata": {},
		   "source": [
			"## Example 13.2: Function_to_implement_spectral_factorization.sci"
		   ]
		  },
  {
"cell_type": "code",
	   "execution_count": null,
	   "metadata": {
	    "collapsed": true
	   },
	   "outputs": [],
"source": [
"// Function to implement spectral factorization, as discussed in sec. 13.1.\n",
"// 13.2\n",
"\n",
"function [r,b,rbbr] = spec1(A,dA,B,dB,rho)\n",
"AA = rho * convol(A,flip(A));\n",
"BB = convol(B,flip(B));\n",
"diff1 = dA - dB;\n",
"dBB = 2*dB;\n",
"for i = 1:diff1\n",
"    [BB,dBB] = polmul(BB,dBB,[0 1],1);\n",
"end\n",
"[rbbr,drbbr] = poladd(AA,2*dA,BB,dBB);\n",
"rts = roots(rbbr);  // roots in descending order of magnitude\n",
"rts = flip(rts);\n",
"rtsin = rts(dA+1:2*dA);\n",
"b = 1;\n",
"for i = 1:dA,\n",
"    b = convol(b,[1 -rtsin(i)]);\n",
"end\n",
"br = flip(b);\n",
"bbr = convol(b,br);\n",
"r = rbbr(1) / bbr(1);\n",
"endfunction;"
   ]
   }
,
{
		   "cell_type": "markdown",
		   "metadata": {},
		   "source": [
			"## Example 13.3: Spectral_factorizatio.sci"
		   ]
		  },
  {
"cell_type": "code",
	   "execution_count": null,
	   "metadata": {
	    "collapsed": true
	   },
	   "outputs": [],
"source": [
"// Spectral factorization, to solve Eq. 13.47 on page 471.\n",
"// 13.3\n",
"\n",
"// function [r,b,dAFW] = ...\n",
"//    specfac(A,degA,B,degB,rho,V,degV,W,degW,F,degF)\n",
"// Implements the spectral factorization for use with LQG control\n",
"// design method of Ahlen and Sternard\n",
"\n",
"function [r,b,dAFW] = ...\n",
"   specfac(A,degA,B,degB,rho,V,degV,W,degW,F,degF)\n",
"AFW = convol(A,convol(W,F));\n",
"dAFW = degA + degF + degW;\n",
"AFWWFA = rho * convol(AFW,flip(AFW));\n",
"BV = convol(B,V);\n",
"dBV = degB + degV;\n",
"BVVB = convol(BV,flip(BV));\n",
"diff1 = dAFW - dBV;\n",
"dBVVB = 2*dBV;\n",
"for i = 1:diff1\n",
"    [BVVB,dBVVB] = polmul(BVVB,dBVVB,[0 1],1);\n",
"end\n",
"[rbb,drbb] = poladd(AFWWFA,2*dAFW,BVVB,dBVVB);\n",
"Rbb = polyno(rbb,'z');\n",
"rts = roots(Rbb);\n",
"rtsin = rts(dAFW+1:2*dAFW);\n",
"b = 1;\n",
"for i = 1:dAFW,\n",
"    b = convol(b,[1 -rtsin(i)]);\n",
"end\n",
"b = real(b); \n",
"br = flip(b);\n",
"bbr = convol(b,br);\n",
"r = rbb(1) / bbr(1);\n",
"endfunction;"
   ]
   }
,
{
		   "cell_type": "markdown",
		   "metadata": {},
		   "source": [
			"## Example 13.4: LQG_control_design_by_polynomial_method.sci"
		   ]
		  },
  {
"cell_type": "code",
	   "execution_count": null,
	   "metadata": {
	    "collapsed": true
	   },
	   "outputs": [],
"source": [
"// LQG control design by polynomial method, to solve Eq. 13.51 on page 472.\n",
"// 13.4\n",
"\n",
"// LQG controller design by method of Ahlen and Sternad\n",
"// function [R,degR,S,degS] = ...\n",
"// lqg(A,degA,B,degB,C,degC,k,rho,V,degV,W,degW,F,degF)\n",
"\n",
"function [R,degR,S,degS] = ...\n",
"lqg1(A,degA,B,degB,C,degC,k,rho,V,degV,W,degW,F,degF)\n",
"\n",
"[r,b,degb] = ...\n",
"specfac(A,degA,B,degB,rho,V,degV,W,degW,F,degF);\n",
"\n",
"WFA = flip(convol(A,convol(F,W)));\n",
"dWFA = degW + degF + degA;\n",
"\n",
"[rhs1,drhs1] = polmul(W,degW,WFA,dWFA);\n",
"[rhs1,drhs1] = polmul(rhs1,drhs1,C,degC);\n",
"rhs1 = rho * rhs1;\n",
"rhs2 = convol(C,convol(V,flip(convol(B,V))));\n",
"drhs2 = degC + 2*degV + degB;\n",
"for i = 1:degb-degB-degV,\n",
"  rhs2 = convol(rhs2,[0,1]);\n",
"end\n",
"drhs2 = drhs2 + degb-degB-degV;\n",
"C1 = zeros(1,2);\n",
"\n",
"[C1,degC1] = putin(C1,0,rhs1,drhs1,1,1);\n",
"[C1,degC1] = putin(C1,degC1,rhs2,drhs2,1,2);\n",
"rbf = r * flip(b);\n",
"D1 = zeros(2,2);\n",
"[D1,degD1] = putin(D1,0,rbf,degb,1,1);\n",
"for i = 1:k,\n",
"	rbf = convol(rbf,[0 1]);\n",
"end\n",
"[D1,degD1] = putin(D1,degD1,rbf,degb+k,2,2);\n",
"N = zeros(1,2);\n",
"[N,degN] = putin(N,0,-B,degB,1,1);\n",
"[AF,dAF] = polmul(A,degA,F,degF);\n",
"[N,degN] = putin(N,degN,AF,dAF,1,2);\n",
"\n",
"[Y,degY,X,degX] = xdync(N,degN,D1,degD1,C1,degC1);\n",
"\n",
"[R,degR] = ext(X,degX,1,1);\n",
"[S,degS] = ext(X,degX,1,2);\n",
"X = flip(Y);\n",
"\n",
"endfunction;"
   ]
   }
,
{
		   "cell_type": "markdown",
		   "metadata": {},
		   "source": [
			"## Example 13.5: LQG_desig.sce"
		   ]
		  },
  {
"cell_type": "code",
	   "execution_count": null,
	   "metadata": {
	    "collapsed": true
	   },
	   "outputs": [],
"source": [
"// LQG design for the problem discussed in Example 13.4 on page 472.\n",
"// 13.5\n",
"\n",
"// MacGregor's first control problem\n",
"\n",
"exec('lqg1.sci',-1);\n",
"exec('cl.sci',-1);\n",
"exec('specfac.sci',-1);\n",
"exec('flip.sci',-1);\n",
"exec('polmul.sci',-1);\n",
"exec('polsize.sci',-1);\n",
"exec('poladd.sci',-1);\n",
"exec('polyno.sci',-1);\n",
"exec('putin.sci',-1);\n",
"exec('xdync.sci',-1);\n",
"exec('rowjoin.sci',-1);\n",
"exec('left_prm.sci',-1);\n",
"exec('t1calc.sci',-1);\n",
"exec('indep.sci',-1);\n",
"exec('seshft.sci',-1);\n",
"exec('makezero.sci',-1);\n",
"exec('move_sci.sci',-1);\n",
"exec('colsplit.sci',-1);\n",
"exec('clcoef.sci',-1);\n",
"exec('cindep.sci',-1);\n",
"exec('ext.sci',-1);\n",
"exec('zpowk.sci',-1);\n",
"exec('tfvar.sci',-1);\n",
"exec('l2r.sci',-1);\n",
"exec('transp.sci',-1);\n",
"exec('tf.sci',-1);\n",
"exec('covar_m.sci',-1);\n",
"\n",
"A = [1 -1.4 0.45]; dA = 2; C = [1 -0.5]; dC = 1;\n",
"B = 0.5*[1 -0.9]; dB = 1; k = 1; int1 = 0; F = 1; dF = 0;\n",
"V = 1; W = 1; dV = 0; dW = 0;\n",
"rho = 1;\n",
"[R1,dR1,Sc,dSc] = lqg1(A,dA,B,dB,C,dC,k,rho,V,dV,W,dW,F,dF)\n",
"[Nu,dNu,Du,dDu,Ny,dNy,Dy,dDy,yvar,uvar] = ...\n",
"      cl(A,dA,B,dB,C,dC,k,Sc,dSc,R1,dR1,int1);"
   ]
   }
,
{
		   "cell_type": "markdown",
		   "metadata": {},
		   "source": [
			"## Example 13.6: LQG_control_design_for_viscosity_control_problem.sce"
		   ]
		  },
  {
"cell_type": "code",
	   "execution_count": null,
	   "metadata": {
	    "collapsed": true
	   },
	   "outputs": [],
"source": [
"// LQG control design for viscosity control problem discussed in Example 13.5.\n",
"// 13.6\n",
"\n",
"\n",
"exec('lqg1.sci',-1);\n",
"exec('cl.sci',-1);\n",
"exec('specfac.sci',-1);\n",
"exec('flip.sci',-1);\n",
"exec('polmul.sci',-1);\n",
"exec('polsize.sci',-1);\n",
"exec('poladd.sci',-1);\n",
"exec('polyno.sci',-1);\n",
"exec('putin.sci',-1);\n",
"exec('xdync.sci',-1);\n",
"exec('rowjoin.sci',-1);\n",
"exec('left_prm.sci',-1);\n",
"exec('t1calc.sci',-1);\n",
"exec('indep.sci',-1);\n",
"exec('seshft.sci',-1);\n",
"exec('makezero.sci',-1);\n",
"exec('move_sci.sci',-1);\n",
"exec('colsplit.sci',-1);\n",
"exec('clcoef.sci',-1);\n",
"exec('cindep.sci',-1);\n",
"exec('ext.sci',-1);\n",
"exec('zpowk.sci',-1);\n",
"exec('tfvar.sci',-1);\n",
"exec('l2r.sci',-1);\n",
"exec('transp.sci',-1);\n",
"exec('tf.sci',-1);\n",
"exec('covar_m.sci',-1);\n",
"\n",
"// Viscosity control problem of MacGregor\n",
"A = [1 -0.44]; dA = 1; B = [0.51 1.21]; dB = 1;\n",
"C = [1 -0.44]; dC = 1; k = 1; int1 = 1; F = [1 -1]; dF = 1;\n",
"V = 1; W = 1; dV = 0; dW = 0; \n",
"rho = 1;\n",
"[R1,dR1,Sc,dSc] = lqg1(A,dA,B,dB,C,dC,k,rho,V,dV,W,dW,F,dF);\n",
"[Nu,dNu,Du,dDu,Ny,dNy,Dy,dDy,yvar,uvar] = ...\n",
"    cl(A,dA,B,dB,C,dC,k,Sc,dSc,R1,dR1,int1);"
   ]
   }
,
{
		   "cell_type": "markdown",
		   "metadata": {},
		   "source": [
			"## Example 13.7: Simplified_LQG_control_design.sci"
		   ]
		  },
  {
"cell_type": "code",
	   "execution_count": null,
	   "metadata": {
	    "collapsed": true
	   },
	   "outputs": [],
"source": [
"// Simplified LQG control design, obtained by the solution of Eq. 13.53 on page 476.\n",
"// 13.7\n",
"\n",
"// LQG controller simple design by method of Ahlen and Sternad\n",
"// function [R1,dR1,S,dS] = ...\n",
"// lqg_simple(A,dA,B,dB,C,dC,k,rho,V,dV,W,dW,F,dF)\n",
"\n",
"function [R1,dR1,S,dS] = ...\n",
"lqg_simple(A,dA,B,dB,C,dC,k,rho,V,dV,W,dW,F,dF)\n",
"[r,b,db] = specfac(A,dA,B,dB,rho,V,dV,W,dW,F,dF);\n",
"[D,dD] = polmul(A,dA,F,dF);\n",
"[zk,dzk] = zpowk(k);\n",
"[N,dN] = polmul(zk,dzk,B,dB);\n",
"[RHS,dRHS] = polmul(C,dC,b,db);\n",
"[S,dS,R1,dR1] = xdync(N,dN,D,dD,RHS,dRHS);\n",
"endfunction;"
   ]
   }
,
{
		   "cell_type": "markdown",
		   "metadata": {},
		   "source": [
			"## Example 13.8: LQG_control_design.sce"
		   ]
		  },
  {
"cell_type": "code",
	   "execution_count": null,
	   "metadata": {
	    "collapsed": true
	   },
	   "outputs": [],
"source": [
"// LQG control design for the problem discussed in Example 13.6 on page 474.\n",
"// 13.8\n",
"\n",
"// Solves Example 3.1 of Ahlen and Sternad in Hunt's book\n",
"exec('lqg1.sci',-1);\n",
"exec('specfac.sci',-1);\n",
"exec('flip.sci',-1);\n",
"exec('polmul.sci',-1);\n",
"exec('polsize.sci',-1);\n",
"exec('poladd.sci',-1);\n",
"exec('polyno.sci',-1);\n",
"exec('putin.sci',-1);\n",
"exec('clcoef.sci',-1);\n",
"exec('xdync.sci',-1);\n",
"exec('rowjoin.sci',-1);\n",
"exec('left_prm.sci',-1);\n",
"exec('t1calc.sci',-1);\n",
"exec('indep.sci',-1);\n",
"exec('seshft.sci',-1);\n",
"exec('makezero.sci',-1);\n",
"exec('move_sci.sci',-1);\n",
"exec('colsplit.sci',-1);\n",
"exec('cindep.sci',-1);\n",
"exec('ext.sci',-1);\n",
"\n",
"A = [1 -0.9]; dA = 1; B = [0.1 0.08]; dB = 1; \n",
"k = 2; rho = 0.1; C = 1; dC = 0;\n",
"V = 1; dV = 0; F = 1; dF = 0; W = [1 -1]; dW = 1;\n",
"[R1,dR1,Sc,dSc] = ...\n",
"lqg1(A,dA,B,dB,C,dC,k,rho,V,dV,W,dW,F,dF)"
   ]
   }
,
{
		   "cell_type": "markdown",
		   "metadata": {},
		   "source": [
			"## Example 13.9: Performance_curve_for_LQG_control_design_of_viscosity_problem.sce"
		   ]
		  },
  {
"cell_type": "code",
	   "execution_count": null,
	   "metadata": {
	    "collapsed": true
	   },
	   "outputs": [],
"source": [
"// Performance curve for LQG control design of viscosity problem\n",
"// 13.9\n",
"\n",
"exec('lqg1.sci',-1);\n",
"exec('specfac.sci',-1);\n",
"exec('flip.sci',-1);\n",
"exec('polmul.sci',-1);\n",
"exec('polsize.sci',-1);\n",
"exec('poladd.sci',-1);\n",
"exec('polyno.sci',-1);\n",
"exec('putin.sci',-1);\n",
"exec('clcoef.sci',-1);\n",
"exec('xdync.sci',-1);\n",
"exec('rowjoin.sci',-1);\n",
"exec('left_prm.sci',-1);\n",
"exec('t1calc.sci',-1);\n",
"exec('indep.sci',-1);\n",
"exec('seshft.sci',-1);\n",
"exec('makezero.sci',-1);\n",
"exec('move_sci.sci',-1);\n",
"exec('colsplit.sci',-1);\n",
"exec('cindep.sci',-1);\n",
"exec('ext.sci',-1);\n",
"exec('cl.sci',-1);\n",
"exec('zpowk.sci',-1);\n",
"exec('tfvar.sci',-1);\n",
"exec('l2r.sci',-1);\n",
"exec('transp.sci',-1);\n",
"exec('tf.sci',-1);\n",
"exec('covar_m.sci',-1);\n",
"\n",
"// MacGregor's Viscosity control problem\n",
"A = [1 -0.44]; dA = 1; B = [0.51 1.21]; dB = 1;\n",
"C = [1 -0.44]; dC = 1; k = 1; int1 = 1; F = [1 -1]; dF = 1;\n",
"V = 1; W = 1; dV = 0; dW = 0; \n",
"u_lqg = []; y_lqg =[]; uy_lqg = [];\n",
"\n",
"for rho = 0.001:0.1:3,\n",
"    [R1,dR1,Sc,dSc] = lqg1(A,dA,B,dB,C,dC,k,rho,V,dV,W,dW,F,dF);\n",
"    [Nu,dNu,Du,dDu,Ny,dNy,Dy,dDy,yvar,uvar] = ...\n",
"        cl(A,dA,B,dB,C,dC,k,Sc,dSc,R1,dR1,int1);\n",
"    u_lqg = [u_lqg uvar]; y_lqg = [y_lqg yvar];\n",
"    uy_lqg = [uy_lqg; [rho uvar yvar]];\n",
"end\n",
"plot(u_lqg,y_lqg,'g')\n",
"save('lqg_visc.dat','uy_lqg');"
   ]
   }
],
"metadata": {
		  "kernelspec": {
		   "display_name": "Scilab",
		   "language": "scilab",
		   "name": "scilab"
		  },
		  "language_info": {
		   "file_extension": ".sce",
		   "help_links": [
			{
			 "text": "MetaKernel Magics",
			 "url": "https://github.com/calysto/metakernel/blob/master/metakernel/magics/README.md"
			}
		   ],
		   "mimetype": "text/x-octave",
		   "name": "scilab",
		   "version": "0.7.1"
		  }
		 },
		 "nbformat": 4,
		 "nbformat_minor": 0
}
