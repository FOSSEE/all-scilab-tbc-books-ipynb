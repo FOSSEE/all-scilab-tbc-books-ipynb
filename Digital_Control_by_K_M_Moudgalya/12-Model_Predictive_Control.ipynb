{
"cells": [
 {
		   "cell_type": "markdown",
	   "metadata": {},
	   "source": [
       "# Chapter 12: Model Predictive Control"
	   ]
	},
{
		   "cell_type": "markdown",
		   "metadata": {},
		   "source": [
			"## Example 12.10: PID_controller_tuned_with_GPC.sce"
		   ]
		  },
  {
"cell_type": "code",
	   "execution_count": null,
	   "metadata": {
	    "collapsed": true
	   },
	   "outputs": [],
"source": [
"// PID controller, tuned with GPC, as discussed in Example 12.5 on page 452.\n",
"// 12.10\n",
"\n",
"exec('gpc_pid.sci',-1);\n",
"exec('zpowk.sci',-1);\n",
"exec('xdync.sci',-1);\n",
"exec('rowjoin.sci',-1);\n",
"exec('polsize.sci',-1);\n",
"exec('left_prm.sci',-1);\n",
"exec('t1calc.sci',-1);\n",
"exec('indep.sci',-1);\n",
"exec('seshft.sci',-1);\n",
"exec('makezero.sci',-1);\n",
"exec('move_sci.sci',-1);\n",
"exec('colsplit.sci',-1);\n",
"exec('clcoef.sci',-1);\n",
"exec('cindep.sci',-1);\n",
"\n",
"A = [1 -1.95 0.935];\n",
"B=-0.015;\n",
"C=1;\n",
"degA=2;\n",
"degB=0;\n",
"degC=0;\n",
"N1=1;\n",
"N2=5;\n",
"Nu=2;\n",
"gamm=0.05;\n",
"gamma_y=1;\n",
"lambda=0.02;\n",
"\n",
"[Kp,Ki,Kd] = ...\n",
"gpc_pid(A,degA,B,degB,C,degC,N1,N2,Nu,lambda,gamm,gamma_y)\n",
""
   ]
   }
,
{
		   "cell_type": "markdown",
		   "metadata": {},
		   "source": [
			"## Example 12.11: Predictive_PID_tuned_with_GPC.sci"
		   ]
		  },
  {
"cell_type": "code",
	   "execution_count": null,
	   "metadata": {
	    "collapsed": true
	   },
	   "outputs": [],
"source": [
"// Predictive PID, tuned with GPC, as explained in Sec. 12.2.3.\n",
"// 12.11\n",
"\n",
"function [Kp,Ki,Kd] = ...\n",
"gpc_pid(A,dA,B,dB,C,dC,N1,N2,Nu,lambda,gamm,gamma_y)\n",
"Adelta=convol(A,[1 -1]); G=[];\n",
"for i=N1:N2\n",
"    zi=zpowk(i);\n",
"    [E,dE,F,dF]=xdync(Adelta,dA+1,zi,i,C,dC);\n",
"    [Gtilda,dGtilda,Gbar,dGbar] = ...\n",
"      xdync(C,dC,zi,i,E*B,dE+dB);\n",
"    for j = 1:i, Gtilda1(j)=Gtilda(i+1-j); end\n",
"    Gtilda2 = Gtilda1.'; // Added because Scilab forms a column vecor \n",
"    // while Matlab forms a row vector, by default\n",
"        if i<=Nu-1\n",
"       G=[G;[Gtilda2,zeros(1,Nu-i)]];\n",
"    else\n",
"       G=[G;Gtilda2(1:Nu)];\n",
"    end\n",
"end\n",
"es=sum(C)/sum(A); gs=sum(B)/sum(A); F_s=es*A; G_s=[];\n",
"for i=1:Nu\n",
"    if ((Nu - i) == 0)\n",
"    row=gs*ones(1,i);\n",
"    else\n",
"    row=gs*ones(1,i); row=[row,zeros(Nu-i,Nu-i)];\n",
"    end;\n",
"    G_s=[G_s;row];\n",
"end\n",
"lambda_mat=lambda*(diag(ones(1,Nu)));\n",
"gamma_mat=gamm*(diag(ones(1,Nu)));\n",
"gamma_y_mat=gamma_y*(diag(ones(1,N2-N1+1))); \n",
"mat1=inv(G'*gamma_y_mat*G+lambda_mat+G_s'*gamma_mat*G_s);\n",
"mat2=mat1*(G'*gamma_y_mat);\n",
"mat2_s=mat1*(G_s'*gamma_mat);\n",
"h_s=sum(mat2_s(1,:)); h=mat2(1,:);\n",
"T=C; R=C*(sum(h(:))+h_s); S=0;\n",
"for i=N1:N2\n",
"    zi=zpowk(i);\n",
"    [E,dE,F,dF]=xdync(Adelta,dA+1,zi,i,C,dC);\n",
"    [Gtilda,dGtilda,Gbar,dGbar]=...\n",
"      xdync(C,dC,zi,i,E*B,dE+dB);\n",
"    S=S+F*h(i);\n",
"end\n",
"S=S+F_s*h_s;\n",
"if length(A)==3\n",
"   Kp=S(1)-R-S(3); Ki=R; Kd=S(3);\n",
"else\n",
"   Kp=S(1)-R; Ki=R; Kd=0;\n",
"end\n",
"\n",
"endfunction; "
   ]
   }
,
{
		   "cell_type": "markdown",
		   "metadata": {},
		   "source": [
			"## Example 12.1: Model_derivation_for_GPC_design.sce"
		   ]
		  },
  {
"cell_type": "code",
	   "execution_count": null,
	   "metadata": {
	    "collapsed": true
	   },
	   "outputs": [],
"source": [
"// Model derivation for GPC design in Example 12.1 on page 439.\n",
"// 12.1\n",
"\n",
"exec('xdync.sci',-1);\n",
"exec('polmul.sci',-1);\n",
"exec('flip.sci',-1);\n",
"exec('rowjoin.sci',-1);\n",
"exec('polsize.sci',-1);\n",
"exec('left_prm.sci',-1);\n",
"exec('t1calc.sci',-1);\n",
"exec('indep.sci',-1);\n",
"exec('seshft.sci',-1);\n",
"exec('makezero.sci',-1);\n",
"exec('move_sci.sci',-1);\n",
"exec('colsplit.sci',-1);\n",
"exec('clcoef.sci',-1);\n",
"exec('cindep.sci',-1);\n",
"\n",
"// Camacho and Bordon's GPC example; model formation\n",
"\n",
"A=[1 -0.8]; dA=1; B=[0.4 0.6]; dB=1; N=3; k=1;\n",
"D=[1 -1]; dD=1; AD=convol(A,D); dAD=dA+1; Nu=N+k;\n",
"zj = 1; dzj = 0; G = zeros(Nu); \n",
"H1 = zeros(Nu,k-1+dB); H2 = zeros(Nu,dA+1);\n",
"\n",
"for j = 1:Nu,\n",
"    zj = convol(zj,[0,1]); dzj = dzj + 1;\n",
"    [Fj,dFj,Ej,dEj] = xdync(zj,dzj,AD,dAD,1,0);\n",
"    [Gj,dGj] = polmul(B,dB,Ej,dEj);\n",
"    G(j,1:dGj) = flip(Gj(1:dGj));\n",
"    H1(j,1:k-1+dB) = Gj(dGj+1:dGj+k-1+dB);\n",
"    H2(j,1:dA+1) = Fj;\n",
"end\n",
"\n",
"G,H1,H2"
   ]
   }
,
{
		   "cell_type": "markdown",
		   "metadata": {},
		   "source": [
			"## Example 12.2: Calculates_the_GPC_law.sci"
		   ]
		  },
  {
"cell_type": "code",
	   "execution_count": null,
	   "metadata": {
	    "collapsed": true
	   },
	   "outputs": [],
"source": [
"// Calculates the GPC law given by Eq. 12.19 on page 441.\n",
"// 12.2\n",
"\n",
"function [K,KH1,KH2,Tc,dTc,Sc,dSc,R1,dR1] = ...\n",
"gpc_bas(A,dA,B,dB,N,k,rho)\n",
"D=[1 -1]; dD=1; AD=convol(A,D); dAD=dA+1; Nu=N+1;\n",
"zj = 1; dzj = 0; G = zeros(Nu,Nu); \n",
"H1 = zeros(Nu,k-1+dB); H2 = zeros(Nu,dA+1);\n",
"for j = 1:Nu,\n",
"    zj = convol(zj,[0,1]); dzj = dzj + 1;\n",
"    [Fj,dFj,Ej,dEj] = xdync(zj,dzj,AD,dAD,1,0);\n",
"    [Gj,dGj] = polmul(B,dB,Ej,dEj);\n",
"    G(j,1:dGj) = flip(Gj(1:dGj));\n",
"    H1(j,1:k-1+dB) = Gj(dGj+1:dGj+k-1+dB);\n",
"    H2(j,1:dA+1) = Fj;\n",
"end\n",
"K = inv(G'*G+rho*eye(Nu,Nu))*G';\n",
"// Note: inverse need not be calculated\n",
"KH1 = K * H1; KH2 = K * H2;\n",
"R1 = [1 KH1(1,:)]; dR1 = length(R1)-1;\n",
"Sc = KH2(1,:); dSc = length(Sc)-1;\n",
"Tc = K(1,:); dTc = length(Tc)-1;\n",
"endfunction;"
   ]
   }
,
{
		   "cell_type": "markdown",
		   "metadata": {},
		   "source": [
			"## Example 12.3: GPC_design_for_the_problem_discussed_on_page_441.sce"
		   ]
		  },
  {
"cell_type": "code",
	   "execution_count": null,
	   "metadata": {
	    "collapsed": true
	   },
	   "outputs": [],
"source": [
"// GPC design for the problem discussed in Example 12.2 on page 441.\n",
"// 12.3\n",
"\n",
"exec('gpc_bas.sci',-1);\n",
"exec('xdync.sci',-1);\n",
"exec('rowjoin.sci',-1);\n",
"exec('polsize.sci',-1);\n",
"exec('left_prm.sci',-1);\n",
"exec('t1calc.sci',-1);\n",
"exec('indep.sci',-1);\n",
"exec('seshft.sci',-1);\n",
"exec('makezero.sci',-1);\n",
"exec('move_sci.sci',-1);\n",
"exec('colsplit.sci',-1);\n",
"exec('clcoef.sci',-1);\n",
"exec('cindep.sci',-1);\n",
"exec('polmul.sci',-1);\n",
"exec('flip.sci',-1);\n",
"exec('filtval.sci',-1);\n",
"\n",
"// Camacho and Bordon's GPC example; Control law\n",
"A=[1 -0.8]; dA=1; B=[0.4 0.6]; dB=1; N=3; k=1; rho=0.8;\n",
"[K,KH1,KH2,Tc,dTc,Sc,dSc,R1,dR1] = ...\n",
"gpc_bas(A,dA,B,dB,N,k,rho)\n",
"// C=1; dC=0; [K,KH1,KH2,Tc,dTc,Sc,dSc,R1,dR1] = ...\n",
"// gpc_col(A,dA,B,dB,C,dC,N,k,rho)\n",
"\n",
"\n",
"\n",
"\n",
"\n",
"\n",
"\n",
"\n",
"\n",
""
   ]
   }
,
{
		   "cell_type": "markdown",
		   "metadata": {},
		   "source": [
			"## Example 12.4: GPC_desig.sce"
		   ]
		  },
  {
"cell_type": "code",
	   "execution_count": null,
	   "metadata": {
	    "collapsed": true
	   },
	   "outputs": [],
"source": [
"// GPC design for the problem discussed in Example 12.3.\n",
"// 12.4\n",
"\n",
"exec('gpc_N.sci',-1);\n",
"exec('xdync.sci',-1);\n",
"exec('rowjoin.sci',-1);\n",
"exec('polsize.sci',-1);\n",
"exec('left_prm.sci',-1);\n",
"exec('t1calc.sci',-1);\n",
"exec('indep.sci',-1);\n",
"exec('seshft.sci',-1);\n",
"exec('makezero.sci',-1);\n",
"exec('move_sci.sci',-1);\n",
"exec('colsplit.sci',-1);\n",
"exec('clcoef.sci',-1);\n",
"exec('cindep.sci',-1);\n",
"exec('polmul.sci',-1);\n",
"exec('flip.sci',-1);\n",
"\n",
"A=[1 -0.8]; dA=1; B=[0.4 0.6]; dB=1;\n",
"rho = 0.8; k = 1;\n",
"N1 = 0; N2 = 3; Nu = 2;\n",
"\n",
"[K,KH1,KH2,Tc,dTc,Sc,dSc,R1,dR1] = ...\n",
"gpc_N(A,dA,B,dB,k,N1,N2,Nu,rho)\n",
""
   ]
   }
,
{
		   "cell_type": "markdown",
		   "metadata": {},
		   "source": [
			"## Example 12.5: Calculates_the_GPC_law.sci"
		   ]
		  },
  {
"cell_type": "code",
	   "execution_count": null,
	   "metadata": {
	    "collapsed": true
	   },
	   "outputs": [],
"source": [
"// Calculates the GPC law given by Eq. 12.36 on page 446. \n",
"// 12.5\n",
"\n",
"function [K,KH1,KH2,Tc,dTc,Sc,dSc,R1,dR1] = ...\n",
"gpc_N(A,dA,B,dB,k,N1,N2,Nu,rho)\n",
"D=[1 -1]; dD=1; AD=convol(A,D); dAD=dA+1; \n",
"zj = 1; dzj = 0;\n",
"for i = 1:N1+k-1\n",
"    zj = convol(zj,[0,1]); dzj = dzj + 1;\n",
"end\n",
"G = zeros(N2-N1+1,Nu+1); \n",
"H1 = zeros(N2-N1+1,k-1+dB); H2 = zeros(N2-N1+1,dA+1);\n",
"for j = k+N1:k+N2\n",
"    zj = convol(zj,[0,1]); dzj = dzj + 1;\n",
"    [Fj,dFj,Ej,dEj] = xdync(zj,dzj,AD,dAD,1,0);\n",
"    [Gj,dGj] = polmul(B,dB,Ej,dEj);\n",
"    if (j-k >= Nu)\n",
"    G(j-(k+N1-1),1:Nu+1) = flip(Gj(j-k-Nu+1:j-k+1));\n",
"else\n",
"    G(j-(k+N1-1),1:j-k+1) = flip(Gj(1:j-k+1));\n",
"end\n",
"    H1(j-(k+N1-1),1:k-1+dB) = Gj(j-k+2:j+dB);\n",
"    H2(j-(k+N1-1),1:dA+1) = Fj;\n",
"end\n",
"K = inv(G'*G+rho*eye(Nu+1,Nu+1))*G';\n",
"// Note: inverse need not be calculated\n",
"KH1 = K * H1; KH2 = K * H2;\n",
"R1 = [1 KH1(1,:)]; dR1 = length(R1)-1;\n",
"Sc = KH2(1,:); dSc = length(Sc)-1;\n",
"Tc = K(1,:); dTc = length(Tc)-1;\n",
"endfunction;"
   ]
   }
,
{
		   "cell_type": "markdown",
		   "metadata": {},
		   "source": [
			"## Example 12.6: Calculates_the_GPC_law.sci"
		   ]
		  },
  {
"cell_type": "code",
	   "execution_count": null,
	   "metadata": {
	    "collapsed": true
	   },
	   "outputs": [],
"source": [
"// Calculates the GPC law given by Eq. 12.36 on page 446.\n",
"// 12.6\n",
"\n",
"function [K,KH1,KH2,Tc,dTc,Sc,dSc,R1,dR1] = ...\n",
"gpc_col(A,dA,B,dB,C,dC,N,k,rho)\n",
"D=[1 -1]; dD = 0; AD=convol(A,D); dAD=dA+1; zj=1; dzj=0; \n",
"Nu = N+1; G=zeros(Nu,Nu); H1=zeros(Nu,2*k+N-2+dB); \n",
"H2 = zeros(Nu,k+N+dA);\n",
"for j = 1:Nu,\n",
"    zj = convol(zj,[0,1]); dzj = dzj + 1;\n",
"    [Fj,dFj,Ej,dEj] = ...\n",
"        xdync(zj,dzj,AD,dAD,C,dC);\n",
"    [Nj,dNj,Mj,dMj] = ...\n",
"        xdync(zj,dzj,C,dC,1,0);\n",
"    [Gj,dGj] = polmul(Mj,dMj,Ej,dEj);\n",
"    [Gj,dGj] = polmul(Gj,dGj,B,dB);\n",
"    [Pj,dPj] = polmul(Mj,dMj,Fj,dFj);\n",
"    [Pj,dPj] = poladd(Nj,dNj,Pj,dPj);\n",
"    j,Fj,Ej,Mj,Nj,Gj,Pj\n",
"    G(j,1:j) = flip(Gj(1:j));\n",
"    H1(j,1:dGj-j+1) = Gj(j+1:dGj+1); \n",
"    H2(j,1:dPj+1) = Pj;\n",
"end\n",
"K = inv(G'*G+rho*eye(Nu,Nu))*G'\n",
"// Note: inverse need not be calculated\n",
"KH1 = K * H1; KH2 = K * H2;\n",
"R1 = [1 KH1(1,:)]; dR1 = length(R1)-1;\n",
"Sc = KH2(1,:); dSc = length(Sc)-1;\n",
"Tc = K(1,:); dTc = length(Tc)-1;\n",
"endfunction;"
   ]
   }
,
{
		   "cell_type": "markdown",
		   "metadata": {},
		   "source": [
			"## Example 12.7: GPC_design_for_viscosity_control.sce"
		   ]
		  },
  {
"cell_type": "code",
	   "execution_count": null,
	   "metadata": {
	    "collapsed": true
	   },
	   "outputs": [],
"source": [
"// GPC design for viscosity control in Example 12.4 on page 446.\n",
"// 12.7\n",
"\n",
"exec('gpc_col.sci',-1);\n",
"exec('poladd.sci',-1);\n",
"exec('xdync.sci',-1);\n",
"exec('rowjoin.sci',-1);\n",
"exec('polsize.sci',-1);\n",
"exec('left_prm.sci',-1);\n",
"exec('t1calc.sci',-1);\n",
"exec('indep.sci',-1);\n",
"exec('seshft.sci',-1);\n",
"exec('makezero.sci',-1);\n",
"exec('move_sci.sci',-1);\n",
"exec('colsplit.sci',-1);\n",
"exec('clcoef.sci',-1);\n",
"exec('cindep.sci',-1);\n",
"exec('polmul.sci',-1);\n",
"exec('flip.sci',-1);\n",
"\n",
"// GPC control of viscosity problem\n",
"A=[1 -0.44]; dA=1; B=[0.51 1.21]; dB=1; N=2; k=1;\n",
"C = [1 -0.44]; dC = 1; rho = 1;\n",
"\n",
"[K,KH1,KH2,Tc,dTc,Sc,dSc,R1,dR1] = ...\n",
"gpc_col(A,dA,B,dB,C,dC,N,k,rho)"
   ]
   }
,
{
		   "cell_type": "markdown",
		   "metadata": {},
		   "source": [
			"## Example 12.8: GPC_desig.sce"
		   ]
		  },
  {
"cell_type": "code",
	   "execution_count": null,
	   "metadata": {
	    "collapsed": true
	   },
	   "outputs": [],
"source": [
"// GPC design for the problem discussed in Example 12.3.\n",
"// 12.8\n",
"\n",
"exec('gpc_Nc.sci',-1);\n",
"exec('xdync.sci',-1);\n",
"exec('rowjoin.sci',-1);\n",
"exec('polsize.sci',-1);\n",
"exec('left_prm.sci',-1);\n",
"exec('t1calc.sci',-1);\n",
"exec('indep.sci',-1);\n",
"exec('seshft.sci',-1);\n",
"exec('makezero.sci',-1);\n",
"exec('move_sci.sci',-1);\n",
"exec('colsplit.sci',-1);\n",
"exec('clcoef.sci',-1);\n",
"exec('cindep.sci',-1);\n",
"exec('polmul.sci',-1);\n",
"exec('poladd.sci',-1);\n",
"exec('flip.sci',-1);\n",
"\n",
"A=[1 -0.44]; dA=1; B=[0.51 1.21]; dB=1;\n",
"C = [1 -0.44]; dC = 1;\n",
"k=1; N1 = 0; N2 = 2; Nu = 0; rho = 1;\n",
"\n",
"[K,KH1,KH2,Tc,dTc,Sc,dSc,R1,dR1] = ...\n",
"gpc_Nc(A,dA,B,dB,C,dC,k,N1,N2,Nu,rho)\n",
""
   ]
   }
,
{
		   "cell_type": "markdown",
		   "metadata": {},
		   "source": [
			"## Example 12.9: Calculates_the_GPC_law.sci"
		   ]
		  },
  {
"cell_type": "code",
	   "execution_count": null,
	   "metadata": {
	    "collapsed": true
	   },
	   "outputs": [],
"source": [
"// Calculates the GPC law for different prediction and control horizons\n",
"// 12.9\n",
"\n",
"function [K,KH1,KH2,Tc,dTc,Sc,dSc,R1,dR1] = ...\n",
"gpc_Nc(A,dA,B,dB,C,dC,k,N1,N2,Nu,rho)\n",
"D=[1 -1]; dD=1; AD=convol(A,D); dAD=dA+1; \n",
"zj = 1; dzj = 0;\n",
"for i = 1:N1+k-1\n",
"    zj = convol(zj,[0,1]); dzj = dzj + 1;\n",
"end\n",
"M = 2*k+N2-2+dB;  P = max(k+N2+dA-1,dC-1)\n",
"G = zeros(N2-N1+1,Nu+1); H1 = zeros(N2-N1+1,M); \n",
"H2 = zeros(N2-N1+1,P+1);\n",
"for j = k+N1:k+N2\n",
"    zj = convol(zj,[0,1]); dzj = dzj + 1;\n",
"    [Fj,dFj,Ej,dEj] = xdync(zj,dzj,AD,dAD,C,dC);\n",
"    [Nj,dNj,Mj,dMj] = xdync(zj,dzj,C,dC,1,0);\n",
"    [Gj,dGj] = polmul(Mj,dMj,Ej,dEj);\n",
"    [Gj,dGj] = polmul(Gj,dGj,B,dB);\n",
"    [Pj,dPj] = polmul(Mj,dMj,Fj,dFj);\n",
"    [Pj,dPj] = poladd(Nj,dNj,Pj,dPj);\n",
"    if (j-k >= Nu)\n",
"    G(j-(k+N1-1),1:Nu+1) = flip(Gj(j-k-Nu+1:j-k+1));\n",
"else\n",
"    G(j-(k+N1-1),1:j-k+1) = flip(Gj(1:j-k+1));\n",
"end\n",
"    H1(j-(k+N1-1),1:j+k-2+dB) = Gj(j-k+2:2*j+dB-1);\n",
"    dPj = max(j-1+dA,dC-1);\n",
"    H2(j-(k+N1-1),1:dPj+1) = Pj;\n",
"end\n",
"K = inv(G'*G+rho*eye(Nu+1,Nu+1))*G';\n",
"// Note: inverse need not be calculated\n",
"KH1 = K * H1; KH2 = K * H2;\n",
"R1 = [1 KH1(1,:)]; dR1 = length(R1)-1;\n",
"Sc = KH2(1,:); dSc = length(Sc)-1;\n",
"Tc = K(1,:); dTc = length(Tc)-1;\n",
"endfunction;"
   ]
   }
],
"metadata": {
		  "kernelspec": {
		   "display_name": "Scilab",
		   "language": "scilab",
		   "name": "scilab"
		  },
		  "language_info": {
		   "file_extension": ".sce",
		   "help_links": [
			{
			 "text": "MetaKernel Magics",
			 "url": "https://github.com/calysto/metakernel/blob/master/metakernel/magics/README.md"
			}
		   ],
		   "mimetype": "text/x-octave",
		   "name": "scilab",
		   "version": "0.7.1"
		  }
		 },
		 "nbformat": 4,
		 "nbformat_minor": 0
}
