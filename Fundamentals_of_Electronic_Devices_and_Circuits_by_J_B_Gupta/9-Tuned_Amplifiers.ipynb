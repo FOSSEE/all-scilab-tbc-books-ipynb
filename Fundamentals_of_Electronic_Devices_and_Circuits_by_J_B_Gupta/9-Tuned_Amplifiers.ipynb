{
"cells": [
 {
		   "cell_type": "markdown",
	   "metadata": {},
	   "source": [
       "# Chapter 9: Tuned Amplifiers"
	   ]
	},
{
		   "cell_type": "markdown",
		   "metadata": {},
		   "source": [
			"## Example 9.1: Resonant_frequency_and_Q_factor_and_bandwidth.sce"
		   ]
		  },
  {
"cell_type": "code",
	   "execution_count": null,
	   "metadata": {
	    "collapsed": true
	   },
	   "outputs": [],
"source": [
"// Exa 9.1\n",
"clc;\n",
"clear;\n",
"close;\n",
"format('v',5)\n",
"// Given data\n",
"R = 10;// in ohm\n",
"L = 20;// in mH\n",
"L = L * 10^-3;// in H\n",
"C = 0.05;// in µF\n",
"C = C * 10^-6;// in F\n",
"f_r = (1/(2*%pi))*sqrt( (1/(L*C)) - ((R^2)/(L^2)) );// in Hz\n",
"f_r = round(f_r * 10^-3);// in kHz\n",
"disp(f_r,'The resonant frequency in kHz is');\n",
"Q = (2*%pi*f_r*10^3*L)/R;//Q factor of the tank circuit\n",
"disp(Q,'The Q factor of the tank circuit is');\n",
"BW = (f_r*10^3)/Q;// in Hz\n",
"disp(BW,'The band width of the amplifier in Hz is');"
   ]
   }
],
"metadata": {
		  "kernelspec": {
		   "display_name": "Scilab",
		   "language": "scilab",
		   "name": "scilab"
		  },
		  "language_info": {
		   "file_extension": ".sce",
		   "help_links": [
			{
			 "text": "MetaKernel Magics",
			 "url": "https://github.com/calysto/metakernel/blob/master/metakernel/magics/README.md"
			}
		   ],
		   "mimetype": "text/x-octave",
		   "name": "scilab",
		   "version": "0.7.1"
		  }
		 },
		 "nbformat": 4,
		 "nbformat_minor": 0
}
