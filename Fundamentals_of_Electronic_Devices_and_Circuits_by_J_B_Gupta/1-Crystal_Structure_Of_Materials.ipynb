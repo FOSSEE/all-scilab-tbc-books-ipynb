{
"cells": [
 {
		   "cell_type": "markdown",
	   "metadata": {},
	   "source": [
       "# Chapter 1: Crystal Structure Of Materials"
	   ]
	},
{
		   "cell_type": "markdown",
		   "metadata": {},
		   "source": [
			"## Example 1.10: Density_of_free_electrons.sce"
		   ]
		  },
  {
"cell_type": "code",
	   "execution_count": null,
	   "metadata": {
	    "collapsed": true
	   },
	   "outputs": [],
"source": [
"// Exa 1.10\n",
"clc;\n",
"clear;\n",
"close;\n",
"format('v',10)\n",
"// Given data\n",
"rho_i = 0.47;// in ohm-m\n",
"sigma_i = 1/rho_i;// in S/m\n",
"miu_e = 0.39;// in m^2/V-s\n",
"miu_h = 0.19;// in m^2/V-s\n",
"e = 1.6*10^-19;// in C\n",
"//sigma_i = n_i*e*(miu_e+miu_h);\n",
"n_i = sigma_i/( e*(miu_e+miu_h) );// in /m^3\n",
"disp(n_i,'The density of electrons per m^3 is');\n",
"E = 10^4;\n",
"v_n = miu_e*E;// in m/s\n",
"disp(v_n,'The drift velocity for electrons in m/s is');\n",
"v_h = miu_h*E;// in m/s\n",
"disp(v_h,'The drift velocity for holes in m/s is');"
   ]
   }
,
{
		   "cell_type": "markdown",
		   "metadata": {},
		   "source": [
			"## Example 1.11: Mobility_of_electrons_and_holes.sce"
		   ]
		  },
  {
"cell_type": "code",
	   "execution_count": null,
	   "metadata": {
	    "collapsed": true
	   },
	   "outputs": [],
"source": [
"// Exa 1.11\n",
"clc;\n",
"clear;\n",
"close;\n",
"format('v',10)\n",
"// Given data\n",
"rho = 3000;// in ohm-m\n",
"n = 1.1*10^6;// in /m^3\n",
"e = 1.6*10^-19;// in C\n",
"//miu_e = 3*miu_h   (i)\n",
"// miu_e+miu_h = 1/(rho*e*n)    (ii)\n",
"// From eq (i) and (ii)\n",
"miu_h = (1/(rho*e*n))/4;// in m^2/V-s\n",
"disp(miu_h,'The holes mobility in m^2/V-s is');\n",
"miu_e = 3*miu_h;// in m^2/V-s\n",
"disp(miu_e,'The electron mobility in m^2/V-s is');\n",
"\n",
"// Note: The calculated value of hole mobility is wrong ."
   ]
   }
,
{
		   "cell_type": "markdown",
		   "metadata": {},
		   "source": [
			"## Example 1.12: Conductivity_of_intrinsic_Ge.sce"
		   ]
		  },
  {
"cell_type": "code",
	   "execution_count": null,
	   "metadata": {
	    "collapsed": true
	   },
	   "outputs": [],
"source": [
"// Exa 1.12\n",
"clc;\n",
"clear;\n",
"close;\n",
"format('v',7)\n",
"// Given data\n",
"n_i = 2.5*10^13;// in /cm^3\n",
"miu_e = 3800;//in cm^2/V-s\n",
"miu_h = 1800;// in m^2/V-s\n",
"e = 1.6*10^-19;// in C\n",
"sigma_i = n_i*e*(miu_e+miu_h);// in (ohm-cm)^-1\n",
"disp(sigma_i,'The intrinsic conductivity in (ohm-cm)^-1 is');\n",
"n = 4.4*10^22;\n",
"impurity = 10^-7;\n",
"N_D = n*impurity;// in /cm^3\n",
"n = N_D;// in /cm^3\n",
"p = (n_i^2)/N_D;// in holes/cm^3\n",
"sigma_n = e*N_D*miu_e;// in (ohm-cm)^-1\n",
"disp(sigma_n,'The conductivity in N-type Ge semiconductor in (ohm-cm)^-1 is');"
   ]
   }
,
{
		   "cell_type": "markdown",
		   "metadata": {},
		   "source": [
			"## Example 1.13: Electron_and_hole_drift_velocity.sce"
		   ]
		  },
  {
"cell_type": "code",
	   "execution_count": null,
	   "metadata": {
	    "collapsed": true
	   },
	   "outputs": [],
"source": [
"// Exa 1.13\n",
"clc;\n",
"clear;\n",
"close;\n",
"format('v',9)\n",
"// Given data\n",
"e = 1.6*10^-19;// in C\n",
"miu_e = 0.38;// in m^2/V-s\n",
"miu_h = 0.18;// in m^2/V-s\n",
"V = 10;// in V\n",
"l = 25;// in mm\n",
"l = l * 10^-3;// in m\n",
"w = 4;// in mm\n",
"w = w * 10^-3;// in m\n",
"t= 1.5*10^-3;// in m\n",
"E = V/l;// in V/m\n",
"v_e = miu_e*E;// in m/s\n",
"disp(v_e,'The electron drift velocity in m/s is');\n",
"v_h = miu_h*E;// in m/s\n",
"disp(v_h,'The hole drift velocity in m/s is');\n",
"n_i = 2.5*10^19;// in /m^2\n",
"sigma_i = n_i*e*(miu_e+miu_h);// in (ohm-cm)^-1\n",
"disp(sigma_i,'The interinsic conductivity of Ge in (ohm-cm)^-1 is');\n",
"A = w*t;// in m^2\n",
"I = sigma_i*E*A;// in A\n",
"I = I * 10^3;// in mA\n",
"disp(I,'The total current in mA is');"
   ]
   }
,
{
		   "cell_type": "markdown",
		   "metadata": {},
		   "source": [
			"## Example 1.14: Ratio_of_electron_to_hole.sce"
		   ]
		  },
  {
"cell_type": "code",
	   "execution_count": null,
	   "metadata": {
	    "collapsed": true
	   },
	   "outputs": [],
"source": [
"// Exa 1.14\n",
"clc;\n",
"clear;\n",
"close;\n",
"format('v',7)\n",
"// Given data\n",
"I_electrons = 3/4;\n",
"I_holes= 1/4;\n",
"v_h = 1;\n",
"v_e = 3;\n",
"ratio = (I_electrons/I_holes)*(v_h/v_e);\n",
"disp(ratio,'Ratio of electrons to holes is');"
   ]
   }
,
{
		   "cell_type": "markdown",
		   "metadata": {},
		   "source": [
			"## Example 1.15: Diffusion_coefficients_of_electrons.sce"
		   ]
		  },
  {
"cell_type": "code",
	   "execution_count": null,
	   "metadata": {
	    "collapsed": true
	   },
	   "outputs": [],
"source": [
"// Exa 1.15\n",
"clc;\n",
"clear;\n",
"close;\n",
"format('v',6)\n",
"// Given data\n",
"miu_e = 0.17;// in m^2/V-s\n",
"miu_h = 0.025;// in m^2/V-s\n",
"e = 1.602*10^-19;// in C\n",
"T = 27;// in degree C\n",
"T = T + 273;// in K\n",
"kdas = 1.38*10^-23;// in J/K\n",
"De = miu_e*( (kdas*T)/e );// in m^-2/s\n",
"De = De * 10^4;// in cm^2/s\n",
"disp(De,'The diffusion coefficients of electrons in cm^2/s');\n",
"Dh = miu_h*( (kdas*T)/e );// in m^2/s\n",
"Dh = Dh * 10^4;// in cm^2/s\n",
"disp(Dh,'The diffusion coefficients of holes in cm^2/s');"
   ]
   }
,
{
		   "cell_type": "markdown",
		   "metadata": {},
		   "source": [
			"## Example 1.16: Intrinsic_carrier_concentration_in_Si.sce"
		   ]
		  },
  {
"cell_type": "code",
	   "execution_count": null,
	   "metadata": {
	    "collapsed": true
	   },
	   "outputs": [],
"source": [
"// Exa 1.16\n",
"clc;\n",
"clear;\n",
"close;\n",
"format('v',9)\n",
"// Given data\n",
"N = 3*10^25;// in /m^3\n",
"e = 1.602*10^-19;// in C\n",
"E_G = 1.1;// in eV\n",
"E_G = E_G*e;// in J\n",
"kdas = 1.38*10^-23;// in J/K\n",
"T = 300;// in K\n",
"miu_e = 0.14;// in m^2/V-s\n",
"miu_h = 0.05;// in m^2/V-s\n",
"n_i = N*(%e^((-E_G)/(2*kdas*T)));// in /m^3\n",
"disp(n_i,'The interinsic carrier concentration in /m^3 is');\n",
"sigma = n_i*e*(miu_e+miu_h);// in S/m\n",
"disp(sigma,'The conductivity of silicon in S/m is');"
   ]
   }
,
{
		   "cell_type": "markdown",
		   "metadata": {},
		   "source": [
			"## Example 1.17: Mobility_of_electrons.sce"
		   ]
		  },
  {
"cell_type": "code",
	   "execution_count": null,
	   "metadata": {
	    "collapsed": true
	   },
	   "outputs": [],
"source": [
"// Exa 1.17\n",
"clc;\n",
"clear;\n",
"close;\n",
"format('v',7)\n",
"// Given data\n",
"Je = 360;// in A/cm^2\n",
"T = 300;// in K\n",
"d = 1.5;// in mm\n",
"d = d * 10^-1;// in cm\n",
"e = 1.6*10^-19;// in C\n",
"del = 2*10^18-5*10^17;// assumed\n",
"dnBYdx = del/d;\n",
"De = Je/(e*dnBYdx);// in cm^2/s\n",
"V_T = T/11600;\n",
"miu_e = De/V_T;// in cm^2/V-s\n",
"disp(miu_e,'The mobility of electrons in cm^2/V-s is');"
   ]
   }
,
{
		   "cell_type": "markdown",
		   "metadata": {},
		   "source": [
			"## Example 1.18: New_position_of_Fermi_Level.sce"
		   ]
		  },
  {
"cell_type": "code",
	   "execution_count": null,
	   "metadata": {
	    "collapsed": true
	   },
	   "outputs": [],
"source": [
"// Exa 1.18\n",
"clc;\n",
"clear;\n",
"close;\n",
"format('v',7)\n",
"// Given data\n",
"E_CminusE_F = 0.24;// in eV\n",
"T = 300;// in K\n",
"T1 = 350;// in K\n",
"// E_CminusE_F = K*T*log(n_c/N_D) (i)\n",
"// E_CminusE_F1 =K*T1*log(n_C/N_D) (ii)\n",
"// From eq(i) and (ii)\n",
"E_CminusE_F1 = E_CminusE_F*(T1/T);// in eV\n",
"disp('The new position of the Fermi level lies '+string(E_CminusE_F1)+' eV below the conduction band')\n",
""
   ]
   }
,
{
		   "cell_type": "markdown",
		   "metadata": {},
		   "source": [
			"## Example 1.19: New_position_of_Fermi_Level.sce"
		   ]
		  },
  {
"cell_type": "code",
	   "execution_count": null,
	   "metadata": {
	    "collapsed": true
	   },
	   "outputs": [],
"source": [
"// Exa 1.19\n",
"clc;\n",
"clear;\n",
"close;\n",
"format('v',5)\n",
"// Given data\n",
"E_FminusE_V = 0.39;// in eV\n",
"kT = 0.026;// in ev\n",
"//N_A1 = n_V * (%e^(-E_FminusE_V)/kT)       (i)\n",
"// N_A2=3*N_A1=n_V * (%e^(-E_F2minusE_V)/kT)    (ii)\n",
"//From eq(i) and (ii)\n",
"E_F2minusE_V = kT*(15-log(3));// in eV\n",
"disp(E_F2minusE_V,'The new position of fermi level in eV is');"
   ]
   }
,
{
		   "cell_type": "markdown",
		   "metadata": {},
		   "source": [
			"## Example 1.1: Fraction_of_the_total_number_of_electrons.sce"
		   ]
		  },
  {
"cell_type": "code",
	   "execution_count": null,
	   "metadata": {
	    "collapsed": true
	   },
	   "outputs": [],
"source": [
"// Exa 1.1\n",
"clc;\n",
"clear;\n",
"close;\n",
"format('v',9);\n",
"// Given data\n",
"E_G = 0.72;// in eV\n",
"E_F = (1/2)*E_G;// in eV\n",
"k = 8.61*10^-5;// in eV/K\n",
"T = 300;// in K \n",
"// The fraction of the total number of electrons \n",
"n_C_by_n = 1/( 1 + (%e^((E_G-E_F)/(k*T))) );\n",
"disp(n_C_by_n,'The fraction of the total number of electrons is');"
   ]
   }
,
{
		   "cell_type": "markdown",
		   "metadata": {},
		   "source": [
			"## Example 1.2: Ratio_of_electron_to_hole_concentration.sce"
		   ]
		  },
  {
"cell_type": "code",
	   "execution_count": null,
	   "metadata": {
	    "collapsed": true
	   },
	   "outputs": [],
"source": [
"// Exa 1.2\n",
"clc;\n",
"clear;\n",
"close;\n",
"format('v',7)\n",
"// Given data\n",
"n_i = 1.4*10^18;// in /m^3\n",
"N_D = 1.4*10^24;// in /m^3\n",
"n = N_D;// in /m^3\n",
"p = (n_i^2)/n;// in /m^3\n",
"// Ratio of electron to hole concentation,\n",
"ratio = n/p;\n",
"disp(ratio,'Ratio of electron to hole concentration is');"
   ]
   }
,
{
		   "cell_type": "markdown",
		   "metadata": {},
		   "source": [
			"## Example 1.3: Resistivity_of_conductor.sce"
		   ]
		  },
  {
"cell_type": "code",
	   "execution_count": null,
	   "metadata": {
	    "collapsed": true
	   },
	   "outputs": [],
"source": [
"// Exa 1.3\n",
"clc;\n",
"clear;\n",
"close;\n",
"format('v',10)\n",
"// Given data\n",
"e = 1.6*10^-19;// in C\n",
"m = 9.1*10^-31;// in kg\n",
"miu_e = 7.04 * 10^-3;// in m^2/V-s\n",
"n = 5.8*10^28;// in /m^3\n",
"torque = (miu_e/e)*m;// in sec\n",
"disp(torque,'The relaxation time in sec is');\n",
"sigma = n*e*miu_e;\n",
"rho = 1/sigma ;// in ohm-m\n",
"disp(rho,'The resistivity of conductor in ohm-m is');"
   ]
   }
,
{
		   "cell_type": "markdown",
		   "metadata": {},
		   "source": [
			"## Example 1.4: Relaxation_time_of_conducting_electorns.sce"
		   ]
		  },
  {
"cell_type": "code",
	   "execution_count": null,
	   "metadata": {
	    "collapsed": true
	   },
	   "outputs": [],
"source": [
"// Exa 1.4\n",
"clc;\n",
"clear;\n",
"close;\n",
"format('v',10)\n",
"// Given data\n",
"e = 1.601*10^-19;// in C\n",
"m = 9.107 * 10^-31;// in kg\n",
"E = 100;// in V/m\n",
"n = 6*10^28;// in /m^3\n",
"rho = 1.5*10^-8;// in ohm-m\n",
"sigma = 1/rho;\n",
"torque = (sigma*m)/(n*(e^2));// in second\n",
"disp(torque,'The relaxation time in second is');\n",
"format('v',6)\n",
"v = ((e*E)/m)*torque;// in m/s\n",
"disp(v,'The drift velocity in m/s is');"
   ]
   }
,
{
		   "cell_type": "markdown",
		   "metadata": {},
		   "source": [
			"## Example 1.5: Charge_density_of_free_electrons.sce"
		   ]
		  },
  {
"cell_type": "code",
	   "execution_count": null,
	   "metadata": {
	    "collapsed": true
	   },
	   "outputs": [],
"source": [
"// Exa 1.5\n",
"clc;\n",
"clear;\n",
"close;\n",
"format('v',10)\n",
"// Given data\n",
"d = 2;// in mm\n",
"d = d * 10^-3;// in m\n",
"sigma = 5.8*10^7;// in S/m\n",
"miu_e = 0.0032;// in m^2/V-s\n",
"E = 20;// in mV/m;\n",
"E = E * 10^-3;// in V/m\n",
"e = 1.6*10^-19;// in C\n",
"n = sigma/(e*miu_e);// in /m^3\n",
"disp(n,'The charge density of free electrons in /m^3 is');\n",
"J = sigma*E;// in A/m^2\n",
"disp(J,'The current density in A/m^2 is');\n",
"format('v',6)\n",
"I = J * ( (%pi*(d^2))/4 );// in A\n",
"disp(I,'The current flowing in the wire in A is');\n",
"format('v',9)\n",
"v = miu_e*E;// in m/s\n",
"disp(v,'The electron drift velocity in m/s is');"
   ]
   }
,
{
		   "cell_type": "markdown",
		   "metadata": {},
		   "source": [
			"## Example 1.6: Dopant_density.sce"
		   ]
		  },
  {
"cell_type": "code",
	   "execution_count": null,
	   "metadata": {
	    "collapsed": true
	   },
	   "outputs": [],
"source": [
"// Exa 1.6\n",
"clc;\n",
"clear;\n",
"close;\n",
"format('v',9)\n",
"// Given data\n",
"l = 1;// in cm\n",
"l = l * 10^-2;// in m\n",
"A = 1;// in mm^2\n",
"A = A * 10^-6;// in m^2\n",
"R = 100;// in ohm\n",
"rho = (R*A)/l;// in ohm-m\n",
"sigma = 1/rho;\n",
"e = 1.6*10^-19;// in C\n",
"miu_e = 1350;// in cm^2/V-s\n",
"miu_e = miu_e * 10^-4;// in m^2/V-s\n",
"n = sigma/(e*miu_e);// in /m^3\n",
"disp(n,'The dopant density in /m^3');\n",
"\n",
"// Note: The unit of the answer is wrong because 0.0463*10^23/m^3 = 4.63*10^21/m^3, not in /cm^3"
   ]
   }
,
{
		   "cell_type": "markdown",
		   "metadata": {},
		   "source": [
			"## Example 1.7: Concentration_of_acceptor_atoms_required.sce"
		   ]
		  },
  {
"cell_type": "code",
	   "execution_count": null,
	   "metadata": {
	    "collapsed": true
	   },
	   "outputs": [],
"source": [
"// Exa 1.7\n",
"clc;\n",
"clear;\n",
"close;\n",
"format('v',9)\n",
"// Given data\n",
"R = 1;// in k ohm\n",
"R = R * 10^3;// in ohm\n",
"L = 400;// in µm\n",
"L = L * 10^-6;// in m\n",
"W = 20;// in µm\n",
"W = W * 10^-6;// in m\n",
"a = L*W;// in m^2\n",
"l = 4;// in mm\n",
"l = l * 10^-3;// in m\n",
"rho_i = (R*a)/l;// in ohm-m\n",
"sigma_i = 1/rho_i;// in S/m\n",
"e = 1.6*10^-19;// in C\n",
"miu_h = 480;// in cm^2/V-s\n",
"miu_h = miu_h * 10^-4;// in m^2/V-s\n",
"// sigma_i = p*e*miu_h;\n",
"p = sigma_i/(e*miu_h);// in /m^3\n",
"disp(p,'The concentration of acceptor atom in /m^3 is');"
   ]
   }
,
{
		   "cell_type": "markdown",
		   "metadata": {},
		   "source": [
			"## Example 1.8: Drift_velocity.sce"
		   ]
		  },
  {
"cell_type": "code",
	   "execution_count": null,
	   "metadata": {
	    "collapsed": true
	   },
	   "outputs": [],
"source": [
"// Exa 1.8\n",
"clc;\n",
"clear;\n",
"close;\n",
"format('v',8)\n",
"// Given data\n",
"rho = 0.5;// in ohm-m\n",
"J = 100;// in A/m^2\n",
"miu_e = 0.4;// in m^2/V-s\n",
"e = 1.6*10^-19;// in C\n",
"sigma = 1/rho;\n",
"E = J/sigma;\n",
"v = miu_e*E;// in m/s\n",
"disp(v,'The drift velocity in m/s is');\n",
"D = 10;// distance of travel in µm\n",
"D = D * 10^-6;// in m\n",
"// Time taken by electron\n",
"t= D/v;// time taken in second \n",
"disp(t,'The time taken in second is');"
   ]
   }
,
{
		   "cell_type": "markdown",
		   "metadata": {},
		   "source": [
			"## Example 1.9: Electron_and_hole_densities.sce"
		   ]
		  },
  {
"cell_type": "code",
	   "execution_count": null,
	   "metadata": {
	    "collapsed": true
	   },
	   "outputs": [],
"source": [
"// Exa 1.9\n",
"clc;\n",
"clear;\n",
"close;\n",
"format('v',9)\n",
"// Given data\n",
"rho = 0.039;// in ohm-cm\n",
"sigma_n = 1/rho;// in mho/cm\n",
"miu_e = 3600;// in cm^2/V-s\n",
"e = 1.602*10^-19;// in C\n",
"// sigma_n = n*e*miu_e = N_D*e*miu_e;\n",
"N_D = sigma_n/(e*miu_e);// in /cm^3\n",
"n = N_D;// in /cm^3\n",
"disp(n,'The electrons density per cm^3 is');\n",
"n_i = 2.5*10^13;// in /cm^3\n",
"p = (n_i^2)/n;// in /cm^3\n",
"disp(p,'The hole density per cm^3 is');"
   ]
   }
],
"metadata": {
		  "kernelspec": {
		   "display_name": "Scilab",
		   "language": "scilab",
		   "name": "scilab"
		  },
		  "language_info": {
		   "file_extension": ".sce",
		   "help_links": [
			{
			 "text": "MetaKernel Magics",
			 "url": "https://github.com/calysto/metakernel/blob/master/metakernel/magics/README.md"
			}
		   ],
		   "mimetype": "text/x-octave",
		   "name": "scilab",
		   "version": "0.7.1"
		  }
		 },
		 "nbformat": 4,
		 "nbformat_minor": 0
}
