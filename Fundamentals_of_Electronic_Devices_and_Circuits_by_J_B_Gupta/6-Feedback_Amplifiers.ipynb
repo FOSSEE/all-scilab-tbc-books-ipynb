{
"cells": [
 {
		   "cell_type": "markdown",
	   "metadata": {},
	   "source": [
       "# Chapter 6: Feedback Amplifiers"
	   ]
	},
{
		   "cell_type": "markdown",
		   "metadata": {},
		   "source": [
			"## Example 6.10: Amount_of_feedback_in_dB.sce"
		   ]
		  },
  {
"cell_type": "code",
	   "execution_count": null,
	   "metadata": {
	    "collapsed": true
	   },
	   "outputs": [],
"source": [
"// Exa 6.10\n",
"clc;\n",
"clear;\n",
"close;\n",
"format('v',7)\n",
"// Given data\n",
"Af = -100;// unit less\n",
"Vin = 0.06;// in V\n",
"Vout = Af*Vin;// in V\n",
"Vin = 50;// in mV\n",
"Vin = Vin * 10^-3;// in V\n",
"A = Vout/Vin;// unit less\n",
"//Af = A/(1+(A*Beta));\n",
"Beta = (abs(A)-abs(Af))/(Af*A);// unit less\n",
"disp(Beta,'The value of ß is');\n",
"Amount = 20*log10(abs( 1/(1+(-Af*Beta)) ));// in dB\n",
"disp(Amount,'The Amount of feed back in dB is');"
   ]
   }
,
{
		   "cell_type": "markdown",
		   "metadata": {},
		   "source": [
			"## Example 6.11: Change_in_overall_gain.sce"
		   ]
		  },
  {
"cell_type": "code",
	   "execution_count": null,
	   "metadata": {
	    "collapsed": true
	   },
	   "outputs": [],
"source": [
"// Exa 6.11\n",
"clc;\n",
"clear;\n",
"close;\n",
"format('v',4)\n",
"// Given data\n",
"A = 1000;// unit less\n",
"Beta = 0.002;// unit less\n",
"Af = A/(1+(A*Beta));// unit less\n",
"// When open-loop gain is reduced by \n",
"A_desh = (1-15/100)*A;// unit less\n",
"A_desh_f = A_desh/(1+(A_desh*Beta));// unit less\n",
"P = ((Af-A_desh_f)/Af)*100;// percentage change in overall gain in % \n",
"disp(P,'The change in overall gain in % is');"
   ]
   }
,
{
		   "cell_type": "markdown",
		   "metadata": {},
		   "source": [
			"## Example 6.12: Feedback_ration_and_factor.sce"
		   ]
		  },
  {
"cell_type": "code",
	   "execution_count": null,
	   "metadata": {
	    "collapsed": true
	   },
	   "outputs": [],
"source": [
"// Exa 6.12\n",
"clc;\n",
"clear;\n",
"close;\n",
"format('v',6)\n",
"// Given data\n",
"R_C = 2.5;// in k ohm\n",
"R_C = R_C * 10^3;// in ohm\n",
"R_E = 1;// in k ohm\n",
"R_E = R_E * 10^3;// in ohm\n",
"h_ie = 1.1;// in k ohm\n",
"h_ie = h_ie * 10^3;// in ohm\n",
"h_fe = 200;// unit less\n",
"Beta = 200;// unit less\n",
"A = round((-h_fe/h_ie)*R_C);// unit less\n",
"disp(A,'The voltage gain without feed back is');\n",
"Af = -R_C/R_E;// unit less\n",
"disp(Af,'The voltage gain with feed back is');\n",
"// Af = A/(1+(A*Beta));\n",
"Beta = (abs(A)-abs(Af))/(A*Af);// unit less\n",
"disp(Beta,'The feed back ratio is');\n",
"feedbackfactor = round(abs(A)*Beta);// unit less\n",
"disp(feedbackfactor,'The feed back factor is');"
   ]
   }
,
{
		   "cell_type": "markdown",
		   "metadata": {},
		   "source": [
			"## Example 6.13: Av_and_bita.sce"
		   ]
		  },
  {
"cell_type": "code",
	   "execution_count": null,
	   "metadata": {
	    "collapsed": true
	   },
	   "outputs": [],
"source": [
"// Exa 6.13\n",
"clc;\n",
"clear;\n",
"close;\n",
"format('v',7)\n",
"// Given data\n",
"dAvByAv = 20/100;// variation in open loop gain\n",
"dAvf_by_Avf = 1/100;// variation in closed loop gain\n",
"BetaAv = (dAvByAv/dAvf_by_Avf)-1;// feedback factor\n",
"Avf = 100;//unit less\n",
"Av = Avf*(1+BetaAv);// open loop voltage gain\n",
"disp(Av,'The value of Av is');\n",
"Beta = ((Av/Avf)-1)/Av;// unit less\n",
"disp(Beta,'The value of ß is');"
   ]
   }
,
{
		   "cell_type": "markdown",
		   "metadata": {},
		   "source": [
			"## Example 6.14: Percentage_change_in_closed_loop_gain.sce"
		   ]
		  },
  {
"cell_type": "code",
	   "execution_count": null,
	   "metadata": {
	    "collapsed": true
	   },
	   "outputs": [],
"source": [
"// Exa 6.14\n",
"clc;\n",
"clear;\n",
"close;\n",
"format('v',6)\n",
"// Given data\n",
"Av =10000;// open loop gain\n",
"Beta = 1/10;// feedback ratio \n",
"Avf = Av/(1+(Av*Beta));// closed loop gain\n",
"dAvByAv = 50/100;// change in open loop gain\n",
"dAvByAvf = 1/(1+(Beta*Av))*dAvByAv*100;// change in closed loop gain in %\n",
"disp(dAvByAvf,'The percentage change in closed loop gain in % is');"
   ]
   }
,
{
		   "cell_type": "markdown",
		   "metadata": {},
		   "source": [
			"## Example 6.15: Percentage_change_in_closed_loop_gain.sce"
		   ]
		  },
  {
"cell_type": "code",
	   "execution_count": null,
	   "metadata": {
	    "collapsed": true
	   },
	   "outputs": [],
"source": [
"// Exa 6.15\n",
"clc;\n",
"clear;\n",
"close;\n",
"format('v',5)\n",
"// Given data\n",
"BetaAvPlus1 = 10;// in dB\n",
"BetaAvPlus1 = 10^(BetaAvPlus1/20);// unit less\n",
"BetaAv = BetaAvPlus1 - 1;// unit less\n",
"dAvByAv = 0.05;// unit less\n",
"//Beta*Av = (dAvByAv/dAvfByAvf)-1;\n",
"dAvfByAvf = dAvByAv/( BetaAv+1 );// unit less\n",
"dAvfByAvf = dAvfByAvf * 100;// in %\n",
"disp(dAvfByAvf,'The percentage change in the closed loop gain in % is');"
   ]
   }
,
{
		   "cell_type": "markdown",
		   "metadata": {},
		   "source": [
			"## Example 6.16: Open_and_closed_loop_gain.sce"
		   ]
		  },
  {
"cell_type": "code",
	   "execution_count": null,
	   "metadata": {
	    "collapsed": true
	   },
	   "outputs": [],
"source": [
"// Exa 6.16\n",
"clc;\n",
"clear;\n",
"close;\n",
"format('v',7)\n",
"// Given data\n",
"D = 10/100;// distortion without feedback\n",
"Df = 1/100;// distortion with feedback\n",
"Beta = 10/100;// feedback ratio\n",
"// Df = D/(1+(Beta*A));\n",
"A = ((D/Df)-1)/Beta;// open loop gain\n",
"disp(A,'The open loop gain is');\n",
"Af = A/(1+(Beta*A));// closed loop gain\n",
"disp(Af,'The closed loop gain is');"
   ]
   }
,
{
		   "cell_type": "markdown",
		   "metadata": {},
		   "source": [
			"## Example 6.17: Distortion_of_the_amplifier.sce"
		   ]
		  },
  {
"cell_type": "code",
	   "execution_count": null,
	   "metadata": {
	    "collapsed": true
	   },
	   "outputs": [],
"source": [
"// Exa 6.17\n",
"clc;\n",
"clear;\n",
"close;\n",
"format('v',7)\n",
"// Given data\n",
"A = 150;// open loop voltage gain\n",
"Beta = 10/100;// feedback ratio\n",
"D = 5/100;// distortion without feedback\n",
"Df = D/(1+(Beta*A));// distortion with feedback\n",
"Df = Df * 100;// in %\n",
"disp(Df,'The distortion of the amplifier with feed back in % is');"
   ]
   }
,
{
		   "cell_type": "markdown",
		   "metadata": {},
		   "source": [
			"## Example 6.18: Gain_and_output_voltage_with_feedback.sce"
		   ]
		  },
  {
"cell_type": "code",
	   "execution_count": null,
	   "metadata": {
	    "collapsed": true
	   },
	   "outputs": [],
"source": [
"// Exa 6.18\n",
"clc;\n",
"clear;\n",
"close;\n",
"format('v',7)\n",
"// Given data\n",
"D = 10/100;// distortion without feedback\n",
"Df = 1/100;// distortion with feedback\n",
"A = 200;// unit less\n",
"// Df = D/(1+(Beta*A));\n",
"Beta = ((D/Df)-1)/A;// unit less\n",
"Af = A/(1+(Beta*A));// unit less\n",
"disp(Af,'The gain voltage with feed back is');\n",
"Vs = 10;// in mV\n",
"Vs = Vs * 10^-3;// in V\n",
"Vout = Af*Vs;// in V\n",
"disp(Vout,'The output voltage with feed back in V is');"
   ]
   }
,
{
		   "cell_type": "markdown",
		   "metadata": {},
		   "source": [
			"## Example 6.19: Required_input_signal.sce"
		   ]
		  },
  {
"cell_type": "code",
	   "execution_count": null,
	   "metadata": {
	    "collapsed": true
	   },
	   "outputs": [],
"source": [
"// Exa 6.19\n",
"clc;\n",
"clear;\n",
"close;\n",
"format('v',5)\n",
"// Given data\n",
"A = 1000;// open loop gain\n",
"D = 10/100;// distortion without feedback\n",
"Vs = 10;// in mV\n",
"Vs = Vs * 10^-3;// in V\n",
"BetaA = 40;// in dB\n",
"BetaA= 10^(BetaA/20);// unit less\n",
"Vdesh_s = Vs*(1+BetaA);// in V\n",
"disp(Vdesh_s,'The required input signal in V is');\n",
"Df = (D/(1+BetaA))*100;// in % \n",
"disp(Df,'The percentage second harmonic distortion in % is');\n",
"Af = A/(1+BetaA);// unit less\n",
"disp(Af,'The closed loop voltage gain is');"
   ]
   }
,
{
		   "cell_type": "markdown",
		   "metadata": {},
		   "source": [
			"## Example 6.1: Voltage_gain_and_power_gain.sce"
		   ]
		  },
  {
"cell_type": "code",
	   "execution_count": null,
	   "metadata": {
	    "collapsed": true
	   },
	   "outputs": [],
"source": [
"// Exa 6.1\n",
"clc;\n",
"clear;\n",
"close;\n",
"format('v',8)\n",
"// Given data\n",
"Rs = 10;// in k ohm\n",
"Rs = Rs * 10^3;// in ohm\n",
"Rin = 10;// in ohm\n",
"Rout = 10;// in k ohm\n",
"Rout = Rout * 10^3;// in ohm\n",
"R_L = 10;// in ohm\n",
"Ai = 1000;// unit less\n",
"VinBY_Iin= Rin;// in ohm\n",
"VoutBY_Iin= Ai*Rout*R_L/(Rout+R_L);// in V\n",
"Av= VoutBY_Iin/VinBY_Iin;// unit less\n",
"disp(Av,'The voltage gain is : ')\n",
"Ai= (VoutBY_Iin/R_L)/((Rs+Rin)/Rs);// unit less\n",
"Ap= Av*Ai;// unit less\n",
"disp(Ap,'The power gain is : ')"
   ]
   }
,
{
		   "cell_type": "markdown",
		   "metadata": {},
		   "source": [
			"## Example 6.20: Voltage_gain_and_input_output_resistance.sce"
		   ]
		  },
  {
"cell_type": "code",
	   "execution_count": null,
	   "metadata": {
	    "collapsed": true
	   },
	   "outputs": [],
"source": [
"// Exa 6.20\n",
"clc;\n",
"clear;\n",
"close;\n",
"format('v',5)\n",
"// Given data\n",
"A = 300;// voltage gain\n",
"Rin = 1.5;// in k ohm\n",
"Rout = 50;// in k ohm\n",
"Beta = 1/15;// unit less\n",
"Af = A/(1+(Beta*A));// unit less\n",
"disp(Af,'The voltage gain is');\n",
"Rinf = (1+(Beta*A))*Rin;// in k ohm\n",
"disp(Rinf,'The input resistance in k ohm is');\n",
"Routf = Rout/(1+(Beta*A));// in k ohm\n",
"disp(Routf,'The output resistance in k ohm is');"
   ]
   }
,
{
		   "cell_type": "markdown",
		   "metadata": {},
		   "source": [
			"## Example 6.21: Feedback_factor_and_percentage_change_in_overall_gain.sce"
		   ]
		  },
  {
"cell_type": "code",
	   "execution_count": null,
	   "metadata": {
	    "collapsed": true
	   },
	   "outputs": [],
"source": [
"// Exa 6.21\n",
"clc;\n",
"clear;\n",
"close;\n",
"format('v',6)\n",
"// Given data\n",
"dA_ByA = 0.1;// change in gain of internal amplifier\n",
"A = 60;// in dB\n",
"A = A * 16.666;// unit less\n",
"Zo = 12;// in k ohm\n",
"Zo = Zo * 10^3;// in ohm\n",
"Zoutf = 600;// in ohm\n",
"Beta = ((Zo/Zoutf)-1)/A;// unit less\n",
"disp(Beta,'The value of feed back factor is');\n",
"dAf_byAf = 1/(1+(A*Beta))*(dA_ByA)*100;// change in overall gain in %\n",
"disp(dAf_byAf,'The percentage change in overall gain in % is');"
   ]
   }
,
{
		   "cell_type": "markdown",
		   "metadata": {},
		   "source": [
			"## Example 6.22: Amplifier_voltage_gai.sce"
		   ]
		  },
  {
"cell_type": "code",
	   "execution_count": null,
	   "metadata": {
	    "collapsed": true
	   },
	   "outputs": [],
"source": [
"// Exa 6.22\n",
"clc;\n",
"clear;\n",
"close;\n",
"format('v',6)\n",
"// Given data\n",
"D = 5/100;// distortion without feedback\n",
"A = 1000;// open loop voltage gain\n",
"Beta = 0.01;// feedback ratio\n",
"Af = A/(1+(Beta*A));// unit less\n",
"disp(Af,'The Amplifier voltage gain is');\n",
"f1 = 50;// in Hz\n",
"fdas1 = f1/(1+(Beta*A));// in Hz\n",
"disp(fdas1,'The lower cutoff frequency with feedback in Hz is');\n",
"f2 = 200;// in kHz\n",
"f2 = f2 * 10^3;// in Hz\n",
"fdas2 = f2*(1+(Beta*A));// in Hz\n",
"fdas2 = fdas2 * 10^-6;// in MHz\n",
"disp(fdas2,'The upper cutoff frequency with feedback in MHz is');\n",
"Df = (D/(1+(Beta*A)))*100;// in %\n",
"disp(Df,'The distortion with feed back in % is');"
   ]
   }
,
{
		   "cell_type": "markdown",
		   "metadata": {},
		   "source": [
			"## Example 6.23: Feedback_factor_and_bandwidth.sce"
		   ]
		  },
  {
"cell_type": "code",
	   "execution_count": null,
	   "metadata": {
	    "collapsed": true
	   },
	   "outputs": [],
"source": [
"// Exa 6.23\n",
"clc;\n",
"clear;\n",
"close;\n",
"format('v',7)\n",
"// Given data\n",
"Avm = 1500;// midband gain\n",
"Avmf = 150;// midband gain with feedback\n",
"// Avmf = Avm/(1+(Beta*Avm));\n",
"BetaAvm = (Avm/Avmf)-1;// feedback factor\n",
"disp(BetaAvm,'The value of feed back factor is');\n",
"bandwidth = 4;// in MHz\n",
"BWf = (1+BetaAvm)*bandwidth;// in MHz\n",
"disp(BWf,'The band width with feedback in MHz is');"
   ]
   }
,
{
		   "cell_type": "markdown",
		   "metadata": {},
		   "source": [
			"## Example 6.24: New_bandwidth_and_gain.sce"
		   ]
		  },
  {
"cell_type": "code",
	   "execution_count": null,
	   "metadata": {
	    "collapsed": true
	   },
	   "outputs": [],
"source": [
"// Exa 6.24\n",
"clc;\n",
"clear;\n",
"close;\n",
"format('v',6)\n",
"// Given data\n",
"A = 100;//mid frequency gain\n",
"BW = 200;// in kHz\n",
"Beta = 5/100;// feedback ratio\n",
"BWf = (1+(Beta*A))*BW;// in kHz\n",
"BWf = BWf * 10^-3;// in MHz\n",
"disp(BWf,'The bandwidth with feedback in MHz is');\n",
"Af = A/(1+(Beta*A));// unit less\n",
"disp(Af,'The gain with feedback is');\n",
"BWf = 1000;// in kHz\n",
"Beta = ((BWf/BW)-1)/A*100;//feedback ratio in %\n",
"disp(Beta,'The amount of feedback in % is');"
   ]
   }
,
{
		   "cell_type": "markdown",
		   "metadata": {},
		   "source": [
			"## Example 6.25: Input_impedance.sce"
		   ]
		  },
  {
"cell_type": "code",
	   "execution_count": null,
	   "metadata": {
	    "collapsed": true
	   },
	   "outputs": [],
"source": [
"// Exa 6.25\n",
"clc;\n",
"clear;\n",
"close;\n",
"format('v',5)\n",
"// Given data\n",
"V_CC = 20;// in V\n",
"R1 = 10;// in k ohm\n",
"R1 = R1 * 10^3;// in ohm\n",
"R2 = 10;// in k ohm\n",
"R2 = R2 * 10^3;// in ohm\n",
"R_E = 9.3;// in k ohm\n",
"R_E = R_E * 10^3;// in ohm\n",
"R_L = 18.6;// in k ohm\n",
"R_L = R_L * 10^3;// in ohm\n",
"V2 = (V_CC/(R1+R2))*R2;// in V\n",
"V_BE = 0.7;// in V\n",
"Ve = V2-V_BE;// in V\n",
"Ie = Ve/R_E;// in A\n",
"V_T = 25*10^-3;// in V\n",
"rdase = V_T/Ie;// in ohm\n",
"RdasE = (R_E*R_L)/(R_E+R_L);// in ohm\n",
"Beta = 100;// unit less\n",
"Zinbase = Beta*(rdase+RdasE);// in ohm\n",
"Zin =R1*R2*Zinbase/(R1*R2+R2*Zinbase+Zinbase*R1);// in ohm\n",
"Zin= Zin*10^-3;// in k ohm\n",
"disp(Zin,'The input impedance in k ohm is');"
   ]
   }
,
{
		   "cell_type": "markdown",
		   "metadata": {},
		   "source": [
			"## Example 6.2: Voltage_gai.sce"
		   ]
		  },
  {
"cell_type": "code",
	   "execution_count": null,
	   "metadata": {
	    "collapsed": true
	   },
	   "outputs": [],
"source": [
"// Exa 6.2\n",
"clc;\n",
"clear;\n",
"close;\n",
"format('v',7)\n",
"// Given data\n",
"Beta = 0.01;//feedback fraction\n",
"// Voltage gain with negative feedback\n",
"A = 3000;// unit less\n",
"Af = A/(1+(Beta*A));// unit less\n",
"disp(Af,'The voltage gain of the amplifier is');"
   ]
   }
,
{
		   "cell_type": "markdown",
		   "metadata": {},
		   "source": [
			"## Example 6.3: Gain_of_a_negative_feedback_amplifier.sce"
		   ]
		  },
  {
"cell_type": "code",
	   "execution_count": null,
	   "metadata": {
	    "collapsed": true
	   },
	   "outputs": [],
"source": [
"// Exa 6.3\n",
"clc;\n",
"clear;\n",
"close;\n",
"format('v',6)\n",
"// Given data\n",
"A = 75;// internal gain\n",
"Beta = 1/15;//feedback fraction\n",
"Af = A/(1+(Beta*A));// voltage gain with negative feedback\n",
"disp(Af,'The voltage gain with negative feedback is');\n",
"A_desh = 2*A;// unit less\n",
"A_desh_f = A_desh/(1+(Beta*A_desh));// unit less\n",
"disp(A_desh_f,'The new value of gain is');"
   ]
   }
,
{
		   "cell_type": "markdown",
		   "metadata": {},
		   "source": [
			"## Example 6.4: Voltage_gain_with_feedback.sce"
		   ]
		  },
  {
"cell_type": "code",
	   "execution_count": null,
	   "metadata": {
	    "collapsed": true
	   },
	   "outputs": [],
"source": [
"// Exa 6.4\n",
"clc;\n",
"clear;\n",
"close;\n",
"format('v',6)\n",
"// Given data\n",
"A = 40;// open loop voltage gain\n",
"Beta = 10/100;// feedback ratio\n",
"Af = A/(1+(Beta*A));// voltage gain with feedback\n",
"disp(Af,'The voltage gain with feedback is');\n",
"Amount = 20*log10(abs( 1/(1+(Beta*A)) ));// Amount of feedback in dB \n",
"disp(Amount,'Amount of feedback in dB is');\n",
"Loopgain = A*Beta;// unit less\n",
"disp(Loopgain,'The Loop gain is');"
   ]
   }
,
{
		   "cell_type": "markdown",
		   "metadata": {},
		   "source": [
			"## Example 6.5: Gain_in_dB.sce"
		   ]
		  },
  {
"cell_type": "code",
	   "execution_count": null,
	   "metadata": {
	    "collapsed": true
	   },
	   "outputs": [],
"source": [
"// Exa 6.5\n",
"clc;\n",
"clear;\n",
"close;\n",
"format('v',6)\n",
"// Given data\n",
"A = 60;// in dB\n",
"A = 10^(A/20);// unit less\n",
"Beta = 1/20;// feedback fraction\n",
"Af = A/(1+(Beta*A));// gain with feedback\n",
"Af = 20*log10(Af);// in dB \n",
"disp(Af,'The gain with feed back in dB is');"
   ]
   }
,
{
		   "cell_type": "markdown",
		   "metadata": {},
		   "source": [
			"## Example 6.6: Gain_with_feedback.sce"
		   ]
		  },
  {
"cell_type": "code",
	   "execution_count": null,
	   "metadata": {
	    "collapsed": true
	   },
	   "outputs": [],
"source": [
"// Exa 6.6\n",
"clc;\n",
"clear;\n",
"close;\n",
"format('v',7)\n",
"// Given data\n",
"A = 2500;// open loop gain\n",
"// Desensitivity of transfer gain\n",
"trnsfr_gain_densitivity = 40;// in dB\n",
"trnsfr_gain_densitivity = 10^(trnsfr_gain_densitivity/20);\n",
"Af = A/trnsfr_gain_densitivity;// unit less\n",
"disp(Af,'The gain with feed back is');\n",
"I = A/Af;// assumed\n",
"disp('The input for same output will become '+string(I)+' times the input without feedback.')"
   ]
   }
,
{
		   "cell_type": "markdown",
		   "metadata": {},
		   "source": [
			"## Example 6.7: Feedback_factor.sce"
		   ]
		  },
  {
"cell_type": "code",
	   "execution_count": null,
	   "metadata": {
	    "collapsed": true
	   },
	   "outputs": [],
"source": [
"// Exa 6.7\n",
"clc;\n",
"clear;\n",
"close;\n",
"format('v',7)\n",
"// Given data\n",
"A = 60;// in dB\n",
"A = 10^(A/20);// unit less\n",
"Af = 40;// in dB\n",
"Af = 10^(Af/20);// unit less\n",
"// Af = A/(1+(A*Beta));\n",
"BetaIntoA = (A/Af)-1;// feedback factor\n",
"disp(BetaIntoA,'The feed back factor is');"
   ]
   }
,
{
		   "cell_type": "markdown",
		   "metadata": {},
		   "source": [
			"## Example 6.8: Percentage_of_output.sce"
		   ]
		  },
  {
"cell_type": "code",
	   "execution_count": null,
	   "metadata": {
	    "collapsed": true
	   },
	   "outputs": [],
"source": [
"// Exa 6.8\n",
"clc;\n",
"clear;\n",
"close;\n",
"format('v',6)\n",
"// Given data\n",
"A = 600;// unit less\n",
"Af = 50;// unit less\n",
"// Af = A/(1+(A*Beta));\n",
"Beta = ((A/Af)-1)/A;// unit less\n",
"//P = Vf/Vout = Beta*100;\n",
"P = Beta*100;// percentage of output voltage in % \n",
"disp(P,'The percentage of output voltage in % is');"
   ]
   }
,
{
		   "cell_type": "markdown",
		   "metadata": {},
		   "source": [
			"## Example 6.9: Voltage_gain_without_feedback.sce"
		   ]
		  },
  {
"cell_type": "code",
	   "execution_count": null,
	   "metadata": {
	    "collapsed": true
	   },
	   "outputs": [],
"source": [
"// Exa 6.9\n",
"clc;\n",
"clear;\n",
"close;\n",
"format('v',7)\n",
"// Given data\n",
"Vout = 12.5;// in V\n",
"Vin = 0.25;// in V\n",
"Av = Vout/Vin;// unit less\n",
"disp(Av,'The voltage gain without feed back is ');\n",
"Vin = 1.5;// in V\n",
"Avf = round(Vout/Vin);// unit less\n",
"// Avf = Av/(1+(Beta*Av));\n",
"Beta = ((Av/Avf)-1)/Av;// unit less\n",
"Beta = Beta*100;// in %\n",
"disp(Beta,'The value of ß in % is');"
   ]
   }
],
"metadata": {
		  "kernelspec": {
		   "display_name": "Scilab",
		   "language": "scilab",
		   "name": "scilab"
		  },
		  "language_info": {
		   "file_extension": ".sce",
		   "help_links": [
			{
			 "text": "MetaKernel Magics",
			 "url": "https://github.com/calysto/metakernel/blob/master/metakernel/magics/README.md"
			}
		   ],
		   "mimetype": "text/x-octave",
		   "name": "scilab",
		   "version": "0.7.1"
		  }
		 },
		 "nbformat": 4,
		 "nbformat_minor": 0
}
