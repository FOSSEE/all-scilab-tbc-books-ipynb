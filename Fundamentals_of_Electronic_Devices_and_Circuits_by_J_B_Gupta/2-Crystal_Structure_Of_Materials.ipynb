{
"cells": [
 {
		   "cell_type": "markdown",
	   "metadata": {},
	   "source": [
       "# Chapter 2: Crystal Structure Of Materials"
	   ]
	},
{
		   "cell_type": "markdown",
		   "metadata": {},
		   "source": [
			"## Example 2.3: Density_of_copper_crystal.sce"
		   ]
		  },
  {
"cell_type": "code",
	   "execution_count": null,
	   "metadata": {
	    "collapsed": true
	   },
	   "outputs": [],
"source": [
"// Exa 2.3\n",
"clc;\n",
"clear;\n",
"close;\n",
"// Given data\n",
"format('v',8)\n",
"r = 1.278;// in angstrum\n",
"At = 63.5;// atomic weight\n",
"N_A = 6.023*10^23;// Avagadro number\n",
"a = (4*r)/sqrt(2);// in angstrum\n",
"a = a * 10^-10;// in m\n",
"m = At/N_A;// in gm\n",
"m = m * 10^-3;// in kg\n",
"V = (a^3);// in m^3\n",
"n = 4;// number of atoms present in one unit cell of Cu\n",
"rho = (m*n)/V;// in kg/m^3\n",
"disp(rho,'The density of crystal in kg/m^3 is');"
   ]
   }
,
{
		   "cell_type": "markdown",
		   "metadata": {},
		   "source": [
			"## Example 2.4: Interplaner_distance_in_a_crystal.sce"
		   ]
		  },
  {
"cell_type": "code",
	   "execution_count": null,
	   "metadata": {
	    "collapsed": true
	   },
	   "outputs": [],
"source": [
"// Exa 2.4\n",
"clc;\n",
"clear;\n",
"close;\n",
"format('v',5)\n",
"// Given data\n",
"lembda = 1.539;// in angstrum\n",
"theta = 22.5;// in degree\n",
"n = 1; // first order\n",
"// n*lembda = 2*d*sind(theta);\n",
"d = lembda/(2*sind(theta));// in angstrum\n",
"disp(d,'The interplaner distance in angstrum is');"
   ]
   }
,
{
		   "cell_type": "markdown",
		   "metadata": {},
		   "source": [
			"## Example 2.5: Wavelength_of_X_ray.sce"
		   ]
		  },
  {
"cell_type": "code",
	   "execution_count": null,
	   "metadata": {
	    "collapsed": true
	   },
	   "outputs": [],
"source": [
"// Exa 2.5\n",
"clc;\n",
"clear;\n",
"close;\n",
"format('v',6)\n",
"// Given data\n",
"n = 2;// second order\n",
"d = 0.4;// in nm\n",
"d = d * 10^-9;// in m\n",
"theta = 16.8/2;// in degree\n",
"// n*lembda = 2*d*sind(theta)  (using Bragg's equation)\n",
"lembda = (2*d*sind(theta))/n;// in m\n",
"lembda = lembda * 10^10;// in angstrum\n",
"disp(lembda,'The wavelength of x-rays in angstrum is');"
   ]
   }
],
"metadata": {
		  "kernelspec": {
		   "display_name": "Scilab",
		   "language": "scilab",
		   "name": "scilab"
		  },
		  "language_info": {
		   "file_extension": ".sce",
		   "help_links": [
			{
			 "text": "MetaKernel Magics",
			 "url": "https://github.com/calysto/metakernel/blob/master/metakernel/magics/README.md"
			}
		   ],
		   "mimetype": "text/x-octave",
		   "name": "scilab",
		   "version": "0.7.1"
		  }
		 },
		 "nbformat": 4,
		 "nbformat_minor": 0
}
