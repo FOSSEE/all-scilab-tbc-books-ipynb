{
"cells": [
 {
		   "cell_type": "markdown",
	   "metadata": {},
	   "source": [
       "# Chapter 8: Multistage Amplifiers"
	   ]
	},
{
		   "cell_type": "markdown",
		   "metadata": {},
		   "source": [
			"## Example 8.10: Av2_and_Av1_and_Av_in_dB.sce"
		   ]
		  },
  {
"cell_type": "code",
	   "execution_count": null,
	   "metadata": {
	    "collapsed": true
	   },
	   "outputs": [],
"source": [
"// Exa 8.10\n",
"clc;\n",
"clear;\n",
"close;\n",
"format('v',5)\n",
"// Given data\n",
"V_CC = 12;// in V\n",
"r_e = 25;// in mV\n",
"r_e = r_e * 10^-3;// in V\n",
"R1 = 1.2;// in Mohm\n",
"R1 = R1 * 10^6;// in ohm\n",
"R3 = 1.2;// in Mohm\n",
"R3 = R3 * 10^6;// in ohm\n",
"R4 = 8;// in k ohm\n",
"R4 = R4 * 10^3;// in ohm\n",
"R5 = 24;// in k ohm\n",
"R5 = R5 * 10^3;// in ohm\n",
"Beta1 = 100;// unit less\n",
"Beta2 = 100;// unit less\n",
"I_B2 = V_CC/R3;// in A\n",
"I_C2 = Beta2*I_B2;// in A\n",
"I_E2 = I_C2;// in A\n",
"r_e2 = r_e/I_E2;// in ohm\n",
"Rac2 = (R4*R5)/(R4+R5);// in ohm\n",
"Av2 = -(Rac2/r_e2);//voltage gain of second stage \n",
"disp(Av2,'The voltage gain of second stage is');\n",
"Rac1 = (R3*(Beta2*r_e2))/(R3+(Beta2*r_e2));// in  ohm\n",
"L = 1;// in H\n",
"f = 4;// in kHz\n",
"f = f * 10^3;// in Hz\n",
"X_L = 2*%pi*f*L;// in ohm\n",
"r_e1 = r_e2;// in ohm\n",
"Av1 = round(-Rac1/r_e1 );// voltage gain of first stage\n",
"disp(Av1,'The voltage gain of first stage at 4 kHz is');\n",
"Av = Av1*Av2;// overall voltage gain\n",
"Av = 20*log10(Av);// in dB\n",
"disp(Av,'The overall voltage gain in dB is');"
   ]
   }
,
{
		   "cell_type": "markdown",
		   "metadata": {},
		   "source": [
			"## Example 8.11: Voltage_gain_and_input_resistance.sce"
		   ]
		  },
  {
"cell_type": "code",
	   "execution_count": null,
	   "metadata": {
	    "collapsed": true
	   },
	   "outputs": [],
"source": [
"// Exa 8.11\n",
"clc;\n",
"clear;\n",
"close;\n",
"format('v',6)\n",
"// Given data\n",
"V_CC = 25;// in V\n",
"R1 = 180;// in k ohm\n",
"R1 = R1*10^3;// in ohm\n",
"R2 = 20;// in k ohm\n",
"R2 = R2 * 10^3;// in ohm\n",
"R_C2 = 20;// in k ohm\n",
"R_C2 = R_C2 * 10^3;// in ohm\n",
"R_C1 = R_C2;// in ohm\n",
"R_E1 = 1.8;// in k ohm\n",
"R_E1 = R_E1 * 10^3;// in ohm\n",
"R_E2 = 4.3;// in k ohm\n",
"R_E2 = R_E2 * 10^3;// in ohm\n",
"R_L = 30;// in k ohm\n",
"R_L = R_L * 10^3;// in ohm\n",
"V_BE = 0.7;// in V\n",
"Beta2 = 50;// unit less\n",
"Beta1 = 50;// unit less\n",
"V_Th1 = (V_CC/(R1+R2))*R2;// in V\n",
"R_Th1 = (R1*R2)/(R1+R2);// in  ohm\n",
"I_B = (V_Th1-V_BE)/( R_Th1+((Beta1+1)*R_E1) );// in A\n",
"I_E1 = (Beta1+1)*I_B;// in A\n",
"V_T = 25;// in mV\n",
"V_T = V_T * 10^-3;// in V\n",
"r_e1 = V_T/I_E1;// in ohm\n",
"I_C1 = I_E1;// in A\n",
"V_C1 = V_CC-(I_C1*R_C1);// in V\n",
"//V_E2 = V_B2-V_BE = V_C1-V_BE;// in V\n",
"V_E2 = V_C1-V_BE;// in V\n",
"I_E2 = V_E2/R_E2;// in A\n",
"r_e2 = V_T/I_E2;// in ohm\n",
"Rac2 = (R_C1*R_L)/(R_C1+R_L);// in  ohm\n",
"Av2 = -Rac2/(r_e2+R_E2);// voltage gain of second stage \n",
"Rac1 = (R_C1*(Beta1*(r_e2+R_E2)))/(R_C1+(Beta1*(r_e2+R_E2)));// in ohm\n",
"Av1 = -Rac1/(r_e1+R_E1);// voltage gain of first stage \n",
"Av = Av1*Av2;// voltage gain\n",
"disp(Av,'The voltage gain is');\n",
"r_in = R1*R2*Beta1*(r_e1+R_E1)/( (R1*R2)+(R2*(Beta1*(r_e1+R_E1)))+((Beta1*(r_e1+R_E1))*R1) );// in ohm\n",
"r_in= r_in*10^-3;// in k ohm\n",
"disp(r_in,'The input resistance in k ohm is');"
   ]
   }
,
{
		   "cell_type": "markdown",
		   "metadata": {},
		   "source": [
			"## Example 8.12: Voltage_gain_and_input_output_impedance_and_output_voltage.sce"
		   ]
		  },
  {
"cell_type": "code",
	   "execution_count": null,
	   "metadata": {
	    "collapsed": true
	   },
	   "outputs": [],
"source": [
"// Exa 8.12\n",
"clc;\n",
"clear;\n",
"close;\n",
"format('v',6)\n",
"// Given data\n",
"I_DSS = 15;// in mA\n",
"I_DSS  = I_DSS * 10^-3;// in A\n",
"V_P = -4;// in V\n",
"g_mo = (-2*I_DSS)/V_P;// in S\n",
"V_GSQ = -2;// in V\n",
"g_m = g_mo*( 1-(V_GSQ/V_P) );// in S\n",
"R_D = 2.7;// in k ohm\n",
"R_D = R_D * 10^3;// in ohm\n",
"Av1 = -g_m*R_D;// voltage gain of first stage\n",
"Av2 = Av1;// voltage gain of second stage\n",
"Av = Av1*Av2;// overall voltage gain\n",
"disp(Av,'The overall voltage gain is');\n",
"R_G = 2;// in Mohm\n",
"Rin = R_G;// in Mohm\n",
"disp(Rin,'The input impedance in Mohm is');\n",
"Rout = R_D;// in ohm\n",
"Rout= Rout*10^-3;// in k ohm\n",
"disp(Rout,'The output impedance in k ohm is');\n",
"Rout= Rout*10^3;// in ohm\n",
"Vin = 15;// in mV\n",
"Vin = Vin  * 10^-3;// in V\n",
"Vout = Av*Vin;// in V\n",
"disp(Vout,'The output voltage in V is');\n",
"R_L = 15;// in k ohm\n",
"R_L = R_L * 10^3;// in ohm\n",
"V_L = (R_L/(Rout+R_L))*Vout;// in V\n",
"disp(V_L,'The output voltage across load resistance in V is');"
   ]
   }
,
{
		   "cell_type": "markdown",
		   "metadata": {},
		   "source": [
			"## Example 8.13: Upper_and_lower_3dB_frequency.sce"
		   ]
		  },
  {
"cell_type": "code",
	   "execution_count": null,
	   "metadata": {
	    "collapsed": true
	   },
	   "outputs": [],
"source": [
"// Exa 8.13\n",
"clc;\n",
"clear;\n",
"close;\n",
"format('v',7)\n",
"// Given data\n",
"f2 = 100;// in kHz\n",
"f_H = f2/(sqrt(2^(1/3)-1 ));// in kHz\n",
"disp(f_H,'The upper 3-dB frequency of each stage in kHz is');\n",
"f1 = 25;// in kHz\n",
"f_L = f1/(sqrt(2^(1/3)-1 ));// in kHz\n",
"disp(f_L,'The lower 3-dB frequency of each stage in kHz is');\n",
"\n",
"// Note: The value of upper 3-dB frequency in the book is not accurate and the calculated value of f_L is wrong. because 25 will be divided by 0.51 not multiplied."
   ]
   }
,
{
		   "cell_type": "markdown",
		   "metadata": {},
		   "source": [
			"## Example 8.14: Z_matrix_for_idential_T1_and_T2.sce"
		   ]
		  },
  {
"cell_type": "code",
	   "execution_count": null,
	   "metadata": {
	    "collapsed": true
	   },
	   "outputs": [],
"source": [
"// Exa 8.14\n",
"clc;\n",
"clear;\n",
"close;\n",
"format('v',5)\n",
"// Given data\n",
"R_E= 1;// in k ohm\n",
"h_ie= R_E;// in k ohm\n",
"h_fe= 100;// unit less\n",
"//V1= I1*[h_ie+(1+h_fe)*h_ie+(1+h_fe)^2*R_E]+I2*R_E       (i)\n",
"//V2= I1*(1+h_fe)^2*R_E + I2*R_E                                             (ii)\n",
"Z= [(h_ie+(1+h_fe)*h_ie+(1+h_fe)^2*R_E) R_E;(1+h_fe)^2*R_E R_E]\n",
"Z11= Z(1);// k ohm\n",
"Z21= Z(2);// k ohm\n",
"Z12= Z(3);// k ohm\n",
"Z22= Z(4);// k ohm\n",
"disp(Z11*10^-3,'The value of Z11 in M ohm is : ')\n",
"disp(Z12,'The value of Z12 in M ohm is : ')\n",
"disp(Z21*10^-3,'The value of Z21 in M ohm is : ')\n",
"disp(Z22,'The value of Z22 in M ohm is : ')"
   ]
   }
,
{
		   "cell_type": "markdown",
		   "metadata": {},
		   "source": [
			"## Example 8.1: Overall_voltage_gain_in_dB.sce"
		   ]
		  },
  {
"cell_type": "code",
	   "execution_count": null,
	   "metadata": {
	    "collapsed": true
	   },
	   "outputs": [],
"source": [
"// Exa 8.1\n",
"clc;\n",
"clear;\n",
"close;\n",
"format('v',8)\n",
"// Given data\n",
"Av1 = 60;// voltage gain of first stage\n",
"Av2 = 100;// voltage gain of second stage \n",
"Av3 = 160;// voltage gain of third stage \n",
"Av= Av1*Av2*Av3;// overall voltage gain \n",
"Av_indB= 20*log10(Av);// overall voltage gain in dB\n",
"disp(Av_indB,'The overall voltage gain of the amplifier in dB is : ')"
   ]
   }
,
{
		   "cell_type": "markdown",
		   "metadata": {},
		   "source": [
			"## Example 8.2: Voltage_gain_of_the_first_stage_in_dB.sce"
		   ]
		  },
  {
"cell_type": "code",
	   "execution_count": null,
	   "metadata": {
	    "collapsed": true
	   },
	   "outputs": [],
"source": [
"// Exa 8.2\n",
"clc;\n",
"clear;\n",
"close;\n",
"format('v',6)\n",
"// Given data\n",
"Av = 80;// overall voltage gain in dB\n",
"Av2 = 20*log10(150);// voltage gain of second stage in dB\n",
"Av1= Av-Av2;//voltage gain of first stage in dB\n",
"disp(Av1,'The voltage gain of first stage in dB is');"
   ]
   }
,
{
		   "cell_type": "markdown",
		   "metadata": {},
		   "source": [
			"## Example 8.3: Overall_voltage_gai.sce"
		   ]
		  },
  {
"cell_type": "code",
	   "execution_count": null,
	   "metadata": {
	    "collapsed": true
	   },
	   "outputs": [],
"source": [
"// Exa 8.3\n",
"clc;\n",
"clear;\n",
"close;\n",
"format('v',5)\n",
"// Given data\n",
"Av1 = -60;// voltage gain of first stage \n",
"R_C = 500;// in ohm\n",
"Rin = 1;// in k ohm\n",
"Rin = Rin * 10^3;// in ohm\n",
"h_fe = 50;// unit less\n",
"Av2 = -h_fe*(R_C/Rin);// voltage gain of second stage \n",
"Av = Av1*Av2;// overall voltage gain stage \n",
"disp(Av,'The overall voltage gain is');"
   ]
   }
,
{
		   "cell_type": "markdown",
		   "metadata": {},
		   "source": [
			"## Example 8.4: Input_and_output_impedance_and_overall_voltage_gain.sce"
		   ]
		  },
  {
"cell_type": "code",
	   "execution_count": null,
	   "metadata": {
	    "collapsed": true
	   },
	   "outputs": [],
"source": [
"// Exa 8.4\n",
"clc;\n",
"clear;\n",
"close;\n",
"format('v',6)\n",
"// Given data\n",
"R11 = 4;// in k ohm\n",
"R21 = 20;// in k ohm\n",
"h_ie = 1.1;// in k ohm\n",
"R_C1=4;// in k ohm\n",
"R22= 10;// in k ohm\n",
"R12= 2;// in k ohm\n",
"Zb = h_ie;// in k ohm\n",
"Zin = (R11*R21*Zb)/( (R11*R21)+(R21*Zb)+(Zb*R11) );// in k ohm\n",
"disp(Zin,'The input impedance in k ohm is');\n",
"h_oe = 0;// unit less\n",
"Q2 = %inf;// output impedance of transistor\n",
"R_C2 = 2;// in k ohm\n",
"// Zout= 1/h_oe || R_C2 = R_C2\n",
"Zout = R_C2;// in k ohm\n",
"disp(Zout,'The output impedance in k ohm is');\n",
"h_fe = 50;// unit less\n",
"R_L = 10;// in k ohm\n",
"Av2= -h_fe/h_ie*(R_C2*R_L/(R_C2+R_L));// voltage gain of second stage\n",
"Rac1= 1/(1/R_C1+1/R22+1/R12+1/h_ie);// in k ohm\n",
"Av1= -h_fe/h_ie*Rac1;// voltage gain of first stage\n",
"Av= Av1*Av2;// overall voltage gain \n",
"disp(Av,'The overall voltage gain is : ')\n",
""
   ]
   }
,
{
		   "cell_type": "markdown",
		   "metadata": {},
		   "source": [
			"## Example 8.5: Input_and_output_impedance_voltage_gain.sce"
		   ]
		  },
  {
"cell_type": "code",
	   "execution_count": null,
	   "metadata": {
	    "collapsed": true
	   },
	   "outputs": [],
"source": [
"// Exa 8.5\n",
"clc;\n",
"clear;\n",
"close;\n",
"format('v',6)\n",
"// Given data\n",
"R1 = 10;// in k ohm\n",
"R2 = 5;// in k ohm\n",
"Zb = 1;// in k ohm\n",
"Zin = (R1*R2*Zb)/( (R1*R2)+(R2*Zb)+(Zb*R1) );// in k ohm\n",
"disp(Zin,'The input impedance in k ohm is');\n",
"R_C1 = 2;// in k ohm\n",
"R_E1 = 2;// in k ohm\n",
"R_C2 = 2;// in k ohm\n",
"R_E2 = 2;// in k ohm\n",
"h_oe = 0;// unit less\n",
"Q2 = %inf;// output impedance of transistor\n",
"//Zout= 1/h_oe || R_C2\n",
"Zout = R_C2;// in k ohm\n",
"disp(Zout,'The output impedance in k ohm is');\n",
"h_fe = 100;// unit less\n",
"h_ie = 1;// in k ohm\n",
"R_ac=0.222;// in k ohm\n",
"Av2= -h_fe/h_ie*R_C2;// voltage gain of second stage\n",
"Rac1= 1/(1/R_C1+1/R1+1/R2+1/h_ie);// in k ohm\n",
"Av1= -h_fe/h_ie*R_ac;// voltage gain of first stage\n",
"Av= Av1*Av2;// overall voltage gain \n",
"disp(Av,'The overall voltage gain is : ')"
   ]
   }
,
{
		   "cell_type": "markdown",
		   "metadata": {},
		   "source": [
			"## Example 8.7: Transformer_turn_ratio.sce"
		   ]
		  },
  {
"cell_type": "code",
	   "execution_count": null,
	   "metadata": {
	    "collapsed": true
	   },
	   "outputs": [],
"source": [
"// Exa 8.7\n",
"clc;\n",
"clear;\n",
"close;\n",
"format('v',5)\n",
"// Given data\n",
"Z_L = 16;// in ohm\n",
"Z_desh_L = 10;// in k ohm\n",
"Z_desh_L = Z_desh_L* 10^3;// in ohm\n",
"// a = N1/N2 = sqrt( ZdasL/Z_L );\n",
"a = sqrt( Z_desh_L/Z_L );// ratio of primary to secondary turns of step-down transformer\n",
"disp(a,'The transformer turm ratio is');"
   ]
   }
,
{
		   "cell_type": "markdown",
		   "metadata": {},
		   "source": [
			"## Example 8.8: Transformer_turn_ratio.sce"
		   ]
		  },
  {
"cell_type": "code",
	   "execution_count": null,
	   "metadata": {
	    "collapsed": true
	   },
	   "outputs": [],
"source": [
"// Exa 8.8\n",
"clc;\n",
"clear;\n",
"close;\n",
"format('v',5)\n",
"// Given data\n",
"Z_L = 10;// in ohm\n",
"Z_desh_L = 1;// in k ohm\n",
"Z_desh_L = Z_desh_L * 10^3;// in ohm\n",
"Zs = Z_desh_L;// in ohm\n",
"// a = N1/N2 = sqrt(Z_desh_L/Z_L);\n",
"a = sqrt(Z_desh_L/Z_L);//turn ratio of the transformer \n",
"disp(a,'The turn ratio of the transformer is');"
   ]
   }
,
{
		   "cell_type": "markdown",
		   "metadata": {},
		   "source": [
			"## Example 8.9: Transformer_turn_ratio_and_load_voltage.sce"
		   ]
		  },
  {
"cell_type": "code",
	   "execution_count": null,
	   "metadata": {
	    "collapsed": true
	   },
	   "outputs": [],
"source": [
"// Exa 8.9\n",
"clc;\n",
"clear;\n",
"close;\n",
"format('v',5)\n",
"// Given data\n",
"Z_L = 25;// in ohm\n",
"Z_S = 10;// in k ohm\n",
"Z_S = Z_S * 10^3;// in k ohm\n",
"// Z_S = (a^2)*Z_L;\n",
"a = sqrt(Z_S/Z_L);//turn ratio of the transformer \n",
"disp(a,'The transformer turn ratio is');\n",
"//V2 = V1/a = Vs/a;\n",
"Vs = 8;// in V\n",
"V2 = Vs/a;// in V\n",
"V_L =V2;// in V\n",
"disp(V_L,'The load voltage in V is');"
   ]
   }
],
"metadata": {
		  "kernelspec": {
		   "display_name": "Scilab",
		   "language": "scilab",
		   "name": "scilab"
		  },
		  "language_info": {
		   "file_extension": ".sce",
		   "help_links": [
			{
			 "text": "MetaKernel Magics",
			 "url": "https://github.com/calysto/metakernel/blob/master/metakernel/magics/README.md"
			}
		   ],
		   "mimetype": "text/x-octave",
		   "name": "scilab",
		   "version": "0.7.1"
		  }
		 },
		 "nbformat": 4,
		 "nbformat_minor": 0
}
