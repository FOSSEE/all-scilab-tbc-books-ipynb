{
"cells": [
 {
		   "cell_type": "markdown",
	   "metadata": {},
	   "source": [
       "# Chapter 10: Multivibrators"
	   ]
	},
{
		   "cell_type": "markdown",
		   "metadata": {},
		   "source": [
			"## Example 10.1: Time_period_and_frequency.sce"
		   ]
		  },
  {
"cell_type": "code",
	   "execution_count": null,
	   "metadata": {
	    "collapsed": true
	   },
	   "outputs": [],
"source": [
"// Exa 10.1\n",
"clc;\n",
"clear;\n",
"close;\n",
"format('v',5)\n",
"// Given data\n",
"R2 = 5;// in k ohm\n",
"R2 = R2 * 10^3;// in  ohm\n",
"R1 = R2;// in ohm\n",
"R_B = R2;// in ohm\n",
"R4 = 0.4;// in k ohm\n",
"R4 = R4 * 10^3;// in ohm\n",
"R3 = R4;// in ohm\n",
"R_C = R4;// in ohm\n",
"C2 = 0.02;// in µF\n",
"C2 = C2 * 10^-6;//  in F\n",
"C1 = C2;// in F\n",
"C = C2;// in F\n",
"T = 1.386*R_B*C;// in sec\n",
"T= T*10^3;// in ms\n",
"disp(T,'The time period in ms is');\n",
"f = 1/T;// in kHz\n",
"disp(f,'The frequency of circuit oscillation in kHz is');\n",
"Beta_min = R_B/R_C;//minimum value of transistor ß \n",
"disp(Beta_min,'The minimum value of transistor ß is');"
   ]
   }
,
{
		   "cell_type": "markdown",
		   "metadata": {},
		   "source": [
			"## Example 10.2: Astable_multivibrator.sce"
		   ]
		  },
  {
"cell_type": "code",
	   "execution_count": null,
	   "metadata": {
	    "collapsed": true
	   },
	   "outputs": [],
"source": [
"// Exa 10.2\n",
"clc;\n",
"clear;\n",
"close;\n",
"format('v',6)\n",
"// Given data\n",
"V_CC = 20;// in V\n",
"V_BB = 20;// in V\n",
"R_C2 = 1;// in k ohm\n",
"R_C2 = R_C2 * 10^3;// in ohm\n",
"R_C1 = R_C2;// in  ohm\n",
"f = 500;// in Hz\n",
"h_fe = 50;// unit less\n",
"PW = 0.2;// in ms\n",
"PW = PW*10^-3;// in sec\n",
"V_CEsat = 0.3;// in V\n",
"V_BEsat = 0.7;// in V\n",
"I_CEsat= (V_CC-V_CEsat)/R_C1;// in A\n",
"I_Bmin= I_CEsat/h_fe;// in A\n",
"I_B= 1.5*I_Bmin;// in A\n",
"R= (V_BB-V_BEsat)/I_B;// in ohm\n",
"R= floor(R*10^-3);// in k ohm\n",
"R1=R;// in k ohm\n",
"R2= R1;// in k ohm\n",
"T= 1/f;// in sec\n",
"D_cycle= PW/T;\n",
"T2= D_cycle*T;//sec\n",
"T1= T-T2;// in sec\n",
"C1= T1/(0.693*R2);// in mF\n",
"C1= C1*10^3;// in µF\n",
"C2= T2/(0.693*R1);// in mF\n",
"C2= C2*10^3;// in µF\n",
"disp(R1,'The value of R1 in k ohm is : ')\n",
"disp(R2,'The value of R2 in k ohm is : ')\n",
"disp(C1,'The value of C1 in µF is : ')\n",
"disp(C2,'The value of C2 in µF is : ')"
   ]
   }
,
{
		   "cell_type": "markdown",
		   "metadata": {},
		   "source": [
			"## Example 10.3: Check_up_the_saturation_of_the_transistor.sce"
		   ]
		  },
  {
"cell_type": "code",
	   "execution_count": null,
	   "metadata": {
	    "collapsed": true
	   },
	   "outputs": [],
"source": [
"// Exa 10.3\n",
"clc;\n",
"clear;\n",
"close;\n",
"format('v',7)\n",
"// Given data\n",
"V_CC = 12;// in V\n",
"R_B = 20;// in k ohm\n",
"R_B = R_B * 10^3;// in ohm\n",
"R_C = 2;// in k ohm\n",
"R_C = R_C * 10^3;// in ohm'\n",
"C = 0.1;// in µF\n",
"C = C * 10^-6;// in F\n",
"V_CEsat = 0.2;// in V\n",
"V_BEsat = 0.8;// in V\n",
"Beta = 50;// unit less\n",
"T =R_B*C*log( (2*V_CC-V_BEsat)/(V_CC-V_BEsat) );// in S\n",
"disp(T*10^3,'The input pulse in ms is');\n",
"I_Csat = (V_CC-V_CEsat)/R_C;// in A\n",
"I_Csat = I_Csat * 10^3;// in mA\n",
"// Beta = h_fe;\n",
"I_Bmin = I_Csat/Beta;// in mA\n",
"I_B = (V_CC-V_BEsat)/R_B;// in A\n",
"I_B = I_B * 10^3;// in mA\n",
"if I_B>I_Bmin then\n",
"    disp('The value of I_B ('+string(I_B)+' mA) is greater than the value of  I_Bmin ('+string(I_Bmin)+' mA).');\n",
"    disp('Hence the transistor in saturaion ')\n",
"end"
   ]
   }
,
{
		   "cell_type": "markdown",
		   "metadata": {},
		   "source": [
			"## Example 10.4: Component_value_of_monostable_mutivibrator.sce"
		   ]
		  },
  {
"cell_type": "code",
	   "execution_count": null,
	   "metadata": {
	    "collapsed": true
	   },
	   "outputs": [],
"source": [
"// Exa 10.4\n",
"clc;\n",
"clear;\n",
"close;\n",
"format('v',6)\n",
"// Given data\n",
"T= 500*10^-6;// in sec\n",
"h_femin = 25;// unit less\n",
"I_CEsat = 5;// in mA\n",
"I_CEsat = I_CEsat * 10^-3;// in A\n",
"V_CC = 10;// in V\n",
"V_BB = 4;// in V\n",
"V_CEsat = 0.4;// in V\n",
"V_BEsat = 0.8;// in V\n",
"V_BEoff = -1;// in V\n",
"R_C2 = (V_CC-V_CEsat)/I_CEsat;// in ohm\n",
"R_C1= R_C2;// in ohm\n",
"disp(R_C1*10^-3,'The value of R_C1 in k ohm is');\n",
"disp(R_C2*10^-3,'The value of R_C2 in k ohm is');\n",
"I_B2min = I_CEsat/h_femin;// in A\n",
"I_B2actual = 1.5*I_B2min;// in A\n",
"R = (V_CC-V_BEsat)/(I_B2actual);// in ohm\n",
"disp(R*10^-3,'The value of R in k ohm is');\n",
"C= T/(0.693*R);// in F\n",
"disp(C*10^6,'The value of C in µF is : ')\n",
"R1= poly(0,'R1');\n",
"R2= 2.143*R1;// in ohm\n",
"// I_B1actual= (V_CC-V_BE1sat)/(R_C+R1) - (V_BE1sat+V_BB)/R2 and R2= 2.143*R1 so\n",
"R1= I_B2actual*R2*(R1+R_C1)-V_CC*R2+V_BEsat*R2+R1*V_BEsat+R1*V_BB+R_C1*V_BEsat+R_C1*V_BB;\n",
"R1= roots(R1);// in ohm\n",
"R1= R1(1);// in ohm\n",
"R1= R1*10^-3;// in kohm\n",
"R2= 2.143*R1;// in k ohm\n",
"disp(R1,'The value of R1 in kΩ is : ')\n",
"disp(R2,'The value of R2 in kΩ is : ')\n",
"R1= R1*10^3;// in ohm\n",
"R1C1= 1*10^-6;// in F\n",
"C1= R1C1/R1;// in F\n",
"C1= C1*10^12;// in pF\n",
"disp(C1,'The value of C1 in pF is : ')"
   ]
   }
,
{
		   "cell_type": "markdown",
		   "metadata": {},
		   "source": [
			"## Example 10.5: Stable_current_and_voltages.sce"
		   ]
		  },
  {
"cell_type": "code",
	   "execution_count": null,
	   "metadata": {
	    "collapsed": true
	   },
	   "outputs": [],
"source": [
"// Exa 10.5\n",
"clc;\n",
"clear;\n",
"close;\n",
"format('v',5)\n",
"// Given data\n",
"V_CC = 10;// in V\n",
"V_BB = -10;// in V\n",
"R_C2 = 1.2* 10^3;// in ohm\n",
"R_C1 = R_C2;// in ohm\n",
"R_B1 = 39 * 10^3;// in ohm\n",
"R_B2 = R_B1;// in ohm\n",
"R2 = 10* 10^3;// in ohm\n",
"R1 = R2;// in ohm\n",
"h_fe = 30;// unit less\n",
"V_CE2sat = 0;// in V\n",
"I1 = (V_CC-V_CE2sat)/R_C2;// in A\n",
"I2 = (V_CE2sat-V_BB)/(R1+R_B2);// in A\n",
"I_C2 = I1-I2;// in A\n",
"I_B2min = I_C2/h_fe;// in A\n",
"V_C2 = 0;// in V\n",
"V_B1 = V_C2 - (I2*R1);// in V\n",
"V_B2 = 0;// in V\n",
"V_C1 = 10;// in V\n",
"I3 = (V_CC-V_C1)/R_C1;// in A\n",
"V_BE2sat = 0;// in V\n",
"I4 = (V_C1-V_BE2sat)/R2;// in A\n",
"I_D = I3-I4;// in A\n",
"I5 = (V_BE2sat-V_BB)/R_B1;// in A\n",
"I_B2actual = I4-I5;// in A\n",
"I_B2actual= I_B2actual*10^3;// in mA\n",
"I_C1 = 0;// in mA\n",
"I_B1 = 0;// in mA\n",
"I_C2= I_C2*10^3;// in mA\n",
"disp(V_C1,'The value of V_C1 in V is');\n",
"disp(V_C2,'The value of V_C2 in V is');\n",
"disp(V_B1,'The value of V_B1 in V is');\n",
"disp(V_B2,'The value of V_B2 in V is');\n",
"disp(I_C1,'The value of I_C1 in mA is');\n",
"disp(I_C2,'The value of I_C2 in mA is');\n",
"disp(I_B1,'The value of I_B1 in mA is');\n",
"disp(I_B2actual,'The value of I_B2 in mA is');"
   ]
   }
],
"metadata": {
		  "kernelspec": {
		   "display_name": "Scilab",
		   "language": "scilab",
		   "name": "scilab"
		  },
		  "language_info": {
		   "file_extension": ".sce",
		   "help_links": [
			{
			 "text": "MetaKernel Magics",
			 "url": "https://github.com/calysto/metakernel/blob/master/metakernel/magics/README.md"
			}
		   ],
		   "mimetype": "text/x-octave",
		   "name": "scilab",
		   "version": "0.7.1"
		  }
		 },
		 "nbformat": 4,
		 "nbformat_minor": 0
}
