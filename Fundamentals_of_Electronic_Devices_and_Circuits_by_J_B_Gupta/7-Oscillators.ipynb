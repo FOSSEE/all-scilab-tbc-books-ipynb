{
"cells": [
 {
		   "cell_type": "markdown",
	   "metadata": {},
	   "source": [
       "# Chapter 7: Oscillators"
	   ]
	},
{
		   "cell_type": "markdown",
		   "metadata": {},
		   "source": [
			"## Example 7.10: Percentage_by_parallel_resosnant_frequency_greater_than_series.sce"
		   ]
		  },
  {
"cell_type": "code",
	   "execution_count": null,
	   "metadata": {
	    "collapsed": true
	   },
	   "outputs": [],
"source": [
"// Exa 7.10\n",
"clc;\n",
"clear;\n",
"close;\n",
"format('v',6)\n",
"// Given data\n",
"C = 0.04;// in pF\n",
"Cdesh = 2;// in pF\n",
"Per1 = (1/2)*(C/Cdesh)*100;// in %\n",
"Per2 = (sqrt(1+C/Cdesh)-1)*100;// in %\n",
"disp('Parallel resonant frequency is greater than series resonant frequency by '+string(Per2)+' %');"
   ]
   }
,
{
		   "cell_type": "markdown",
		   "metadata": {},
		   "source": [
			"## Example 7.11: Frequency_of_oscillations.sce"
		   ]
		  },
  {
"cell_type": "code",
	   "execution_count": null,
	   "metadata": {
	    "collapsed": true
	   },
	   "outputs": [],
"source": [
"// Exa 7.11\n",
"clc;\n",
"clear;\n",
"close;\n",
"format('v',5)\n",
"// Given data\n",
"R1 = 800;// in k ohm\n",
"R1 = R1 * 10^3;// in ohm\n",
"R2 = R1;// in ohm\n",
"R3 = R1;// in ohm\n",
"R = R1;// in ohm\n",
"C1 = 100;// in pF\n",
"C1 = C1 * 10^-12;// in F\n",
"C2 = C1;// in F\n",
"C3 = C1;// in F\n",
"C = C1;// in F\n",
"f_o = 1/(2*%pi*R*C*sqrt(6));// in Hz\n",
"disp(f_o,'The frequency of oscillation in Hz is');"
   ]
   }
,
{
		   "cell_type": "markdown",
		   "metadata": {},
		   "source": [
			"## Example 7.12: Value_of_resistances.sce"
		   ]
		  },
  {
"cell_type": "code",
	   "execution_count": null,
	   "metadata": {
	    "collapsed": true
	   },
	   "outputs": [],
"source": [
"// Exa 7.12\n",
"clc;\n",
"clear;\n",
"close;\n",
"format('v',6)\n",
"// Given data\n",
"C1 = 0.016;// in µF\n",
"C1 = C1 * 10^-6;// in F\n",
"C2 = C1;// in F\n",
"C3 = C1;// in F\n",
"C = C1;// in F\n",
"//f_o = 1/(2*%pi*R*C*sqrt(10));\n",
"f_o = 1;// in kHz\n",
"f_o = f_o * 10^3;// in Hz\n",
"R = 1/(2*%pi*f_o*C*sqrt(10));// in  ohm\n",
"disp(R,'The value of resiatnce in ohm is');\n",
"disp('Standard value : 3.3 kohm')"
   ]
   }
,
{
		   "cell_type": "markdown",
		   "metadata": {},
		   "source": [
			"## Example 7.13: RC_elements_of_a_Wien_bridge_oscillator.sce"
		   ]
		  },
  {
"cell_type": "code",
	   "execution_count": null,
	   "metadata": {
	    "collapsed": true
	   },
	   "outputs": [],
"source": [
"// Exa 7.13\n",
"clc;\n",
"clear;\n",
"close;\n",
"format('v',5)\n",
"// Given data\n",
"f_o = 10;// in kHz\n",
"f_o = f_o * 10^3;// in Hz\n",
"R = 200;// in k ohm\n",
"R = R * 10^3;// in ohm\n",
"C = 1/(2*%pi*f_o*R);// in F\n",
"C=C*10^12;// in pF\n",
"disp(C,'The value of C in pF is');\n",
"R4 = R;// in ohm\n",
"R4= R4*10^-3;// in k ohm\n",
"disp(R4,'The value of R4 in k ohm is');\n",
"R3 = R4*2;// in k ohm\n",
"disp(R3,'The value of R3 in k ohm is');"
   ]
   }
,
{
		   "cell_type": "markdown",
		   "metadata": {},
		   "source": [
			"## Example 7.14: RC_elements_of_a_Wien_bridge_oscillator.sce"
		   ]
		  },
  {
"cell_type": "code",
	   "execution_count": null,
	   "metadata": {
	    "collapsed": true
	   },
	   "outputs": [],
"source": [
"// Exa 7.14\n",
"clc;\n",
"clear;\n",
"close;\n",
"format('v',4)\n",
"// Given data\n",
"f = 15;// in kHz\n",
"f = f * 10^3;// in Hz\n",
"R = 200;// in k ohm\n",
"R = R * 10^3;// in ohm\n",
"C = 1/(2*%pi*f*R);// in F\n",
"C= C*10^12;// in pF\n",
"disp(C,'The value of C in pF is');\n",
"R4 = R;// in ohm\n",
"R4= R4*10^-3;// in k ohm\n",
"disp(R4,'The value of R4 in k ohm is');\n",
"R3 = R4*2;// in k ohm\n",
"disp(R3,'The value of R3 in k ohm is');"
   ]
   }
,
{
		   "cell_type": "markdown",
		   "metadata": {},
		   "source": [
			"## Example 7.15: Frequency_of_oscillations.sce"
		   ]
		  },
  {
"cell_type": "code",
	   "execution_count": null,
	   "metadata": {
	    "collapsed": true
	   },
	   "outputs": [],
"source": [
"// Exa 7.15\n",
"clc;\n",
"clear;\n",
"close;\n",
"format('v',5)\n",
"// Given data\n",
"R1 = 20;// in k ohm\n",
"R1 = R1 * 10^3;// in ohm\n",
"R2 = R1;// in ohm\n",
"R = R1;// in ohm\n",
"C1 = 1000;// in pF\n",
"C1 = C1 * 10^-12;// in F\n",
"C2 = C1;// in F\n",
"C = C1;// in F\n",
"f = 1/(2*%pi*R*C);// in Hz\n",
"f= f*10^-3;// in kHz\n",
"disp(f,'The frequency of oscillations in kHz is');"
   ]
   }
,
{
		   "cell_type": "markdown",
		   "metadata": {},
		   "source": [
			"## Example 7.16: Pulse_repetition_frequency.sce"
		   ]
		  },
  {
"cell_type": "code",
	   "execution_count": null,
	   "metadata": {
	    "collapsed": true
	   },
	   "outputs": [],
"source": [
"// Exa 7.16\n",
"clc;\n",
"clear;\n",
"close;\n",
"format('v',5)\n",
"// Given data\n",
"R_E = 60;// in k ohm\n",
"R_E = R_E * 10^3;// in ohm\n",
"C = 0.25;// in µF\n",
"C = C * 10^-6;// in F\n",
"Eta = 0.65;\n",
"f = 1/(2.3*R_E*C*log10(1/(1-Eta)));// in Hz\n",
"disp(f,'The pulse repetition frequency in Hz is');"
   ]
   }
,
{
		   "cell_type": "markdown",
		   "metadata": {},
		   "source": [
			"## Example 7.1: Frequency_of_oscillaiton.sce"
		   ]
		  },
  {
"cell_type": "code",
	   "execution_count": null,
	   "metadata": {
	    "collapsed": true
	   },
	   "outputs": [],
"source": [
"// Exa 7.1\n",
"clc;\n",
"clear;\n",
"close;\n",
"format('v',5)\n",
"// Given data\n",
"L = 29.3;// in µH\n",
"L = L * 10^-6;// in H\n",
"C = 450;// in pF\n",
"C = C * 10^-12;// in F\n",
"f_o = 1/( 2*%pi*(sqrt( L*C )) );// in Hz\n",
"f_o = f_o * 10^-6;// in MHz\n",
"disp(f_o,'The frequency of oscillation in MHz is');"
   ]
   }
,
{
		   "cell_type": "markdown",
		   "metadata": {},
		   "source": [
			"## Example 7.2: Range_of_required_capacitor.sce"
		   ]
		  },
  {
"cell_type": "code",
	   "execution_count": null,
	   "metadata": {
	    "collapsed": true
	   },
	   "outputs": [],
"source": [
"// Exa 7.2\n",
"clc;\n",
"clear;\n",
"close;\n",
"format('v',6)\n",
"// Given data\n",
"f_o = 100;// in kHz\n",
"f_o = f_o * 10^3;// in Hz\n",
"L = 100;//in µH\n",
"L = L * 10^-6;// in H\n",
"//Formula  f_o = 1/( 2*%pi*(sqrt(L*C)) );\n",
"C1 = 1/(4*(%pi^2)*(f_o^2)*L);// in F\n",
"C1 = C1 * 10^12;// in pF\n",
"f_o = 1500;// in kHz\n",
"f_o = f_o * 10^3;// in Hz\n",
"C2 = 1/(4*(%pi^2)*(f_o^2)*L);// in F\n",
"C2 = C2 * 10^12;// in pF\n",
"disp('The range of variable capacitor is '+string(C2)+' pF to '+string(C1)+' pF')"
   ]
   }
,
{
		   "cell_type": "markdown",
		   "metadata": {},
		   "source": [
			"## Example 7.3: Transformer_winding_turn_ratio.sce"
		   ]
		  },
  {
"cell_type": "code",
	   "execution_count": null,
	   "metadata": {
	    "collapsed": true
	   },
	   "outputs": [],
"source": [
"// Exa 7.3\n",
"clc;\n",
"clear;\n",
"close;\n",
"format('v',7)\n",
"// Given data\n",
"V_CC = 12;// in V\n",
"Pout = 88;// in mW\n",
"Plosses = 8;// in mW\n",
"Pin = Pout+Plosses;// in mW\n",
"Pin = Pin * 10^-3;// in W\n",
"I_C = Pin/V_CC;// in A\n",
"Gm = 10;// in mA/V\n",
"Gm = Gm * 10^-3;// in A/V\n",
"V_B = I_C/Gm;// in V\n",
"ratio = V_CC/V_B;// Transformer winding turn ratio\n",
"disp(ratio,'The Transformer winding turn ratio is');"
   ]
   }
,
{
		   "cell_type": "markdown",
		   "metadata": {},
		   "source": [
			"## Example 7.4: Operating_frequency.sce"
		   ]
		  },
  {
"cell_type": "code",
	   "execution_count": null,
	   "metadata": {
	    "collapsed": true
	   },
	   "outputs": [],
"source": [
"// Exa 7.4\n",
"clc;\n",
"clear;\n",
"close;\n",
"format('v',5)\n",
"// Given data\n",
"L = 100;// in µH\n",
"L = L * 10^-6;// in H\n",
"C1 = 0.001;// in µF\n",
"C1 = C1 * 10^-6;// in F\n",
"C2 = 0.01;// in µF\n",
"C2 = C2 * 10^-6;// in F\n",
"f = (1/(2*%pi))*(sqrt( (1/(L*C1))+(1/(L*C2)) ));// in Hz\n",
"f = f * 10^-3;// in kHz\n",
"disp(f,'The opertaing frequency in kHz is');\n",
"Beta = C1/C2;// feedback fraction\n",
"disp(Beta,'The feed back fraction is');\n",
"Amin = 1/Beta;// minimum gain to sustain oscillations\n",
"disp(Amin,'The minimum gain to sustain oscillations is');\n",
"// A = R_C/R_E ;\n",
"R_C = 2.5;// in k ohm\n",
"R_C = R_C * 10^3;// in ohm\n",
"R_E = R_C/Amin;// in ohm\n",
"disp(R_E,'The emitter resistance in ohm is');"
   ]
   }
,
{
		   "cell_type": "markdown",
		   "metadata": {},
		   "source": [
			"## Example 7.5: Range_of_inductance.sce"
		   ]
		  },
  {
"cell_type": "code",
	   "execution_count": null,
	   "metadata": {
	    "collapsed": true
	   },
	   "outputs": [],
"source": [
"// Exa 7.5\n",
"clc;\n",
"clear;\n",
"close;\n",
"format('v',6)\n",
"// Given data\n",
"f_o = 950;// in kHz\n",
"f_o = f_o  *10^3;// in Hz\n",
"C1 = 100;// in pF\n",
"C1 = C1 * 10^-12;// in F\n",
"C2 = 7500;// in pF\n",
"C2 = C2 * 10^-12;// in F\n",
"//Formula  f_o = (1/(2*Pi))*(sqrt( (1/(L*C1))+(1/(L*C2)) ));\n",
"L1 = (1/(4*(%pi^2)*(f_o^2)))*( (1/C1) + (1/C2) );// in H\n",
"L1 = L1 * 10^3;// in mH\n",
"f_o = 2050;// in kHz\n",
"f_o = f_o * 10^3;// in Hz\n",
"L2 = (1/(4*(%pi^2)*(f_o^2)))*( (1/C1) + (1/C2) );// in H\n",
"L2 = L2 * 10^3;// in mH\n",
"disp('The range of inductance values is : '+string(L2)+' mH to '+string(L1)+' mH');"
   ]
   }
,
{
		   "cell_type": "markdown",
		   "metadata": {},
		   "source": [
			"## Example 7.6: Frequency_of_oscillaiton.sce"
		   ]
		  },
  {
"cell_type": "code",
	   "execution_count": null,
	   "metadata": {
	    "collapsed": true
	   },
	   "outputs": [],
"source": [
"// Exa 7.6\n",
"clc;\n",
"clear;\n",
"close;\n",
"format('v',5)\n",
"// Given data\n",
"L1 = 30;// in mH\n",
"L1 = L1 * 10^-3;// in H\n",
"L2 = 1*10^-8;// in H\n",
"M = 0;// in H\n",
"L = L1+L2+(2*M);// in H\n",
"C = 100;// in pF\n",
"C = C * 10^-12;// in F\n",
"f_o = 1/(2*%pi*(sqrt( L*C )));// in Hz \n",
"f_o = f_o * 10^-3;// in kHz\n",
"disp(f_o,'The frequency of oscillation in kHz is');"
   ]
   }
,
{
		   "cell_type": "markdown",
		   "metadata": {},
		   "source": [
			"## Example 7.7: Frequency_of_oscillations.sce"
		   ]
		  },
  {
"cell_type": "code",
	   "execution_count": null,
	   "metadata": {
	    "collapsed": true
	   },
	   "outputs": [],
"source": [
"// Exa 7.7\n",
"clc;\n",
"clear;\n",
"close;\n",
"format('v',5)\n",
"// Given data\n",
"L1 = 1;// in mH\n",
"L1 = L1 * 10^-3;// in H\n",
"L2 = 100;// in µH\n",
"L2 = L2 * 10^-6;// in H\n",
"M = 50;// in µH\n",
"M = M * 10^-6;// in H\n",
"C = 100;// in pF\n",
"C = C * 10^-12;// in F\n",
"L = L1+L2+(2*M);// in H\n",
"f_o = 1/(2*%pi*(sqrt( L*C )));// in Hz\n",
"f_o = f_o * 10^-3;// in kHz\n",
"disp(f_o,'The oscillation frequency in kHz is');"
   ]
   }
,
{
		   "cell_type": "markdown",
		   "metadata": {},
		   "source": [
			"## Example 7.8: Resonance_frequencies.sce"
		   ]
		  },
  {
"cell_type": "code",
	   "execution_count": null,
	   "metadata": {
	    "collapsed": true
	   },
	   "outputs": [],
"source": [
"// Exa 7.8\n",
"clc;\n",
"clear;\n",
"close;\n",
"format('v',5)\n",
"// Given data\n",
"Rs = 5;// in k ohm\n",
"Rs =Rs * 10^3;// in ohm\n",
"Ls = 0.8;// in H\n",
"Cs = 0.08;// in pF\n",
"Cs = Cs * 10^-12;// in pF\n",
"C_P = 1;// in pF\n",
"C_P = C_P * 10^-12;// in F\n",
"f_s = 1/(2*%pi*(sqrt( Ls*Cs )));// in Hz\n",
"f_s = f_s * 10^-3;// in kHz\n",
"disp(f_s,'The series resonant frequency in kHz is');\n",
"f_p = (1/(2*%pi)) * (sqrt( (1+(Cs/C_P))/(Ls*Cs) ));// in Hz\n",
"f_p = f_p * 10^-3;// in kHz\n",
"disp(f_p,'The parallel resonant frequency in kHz is');"
   ]
   }
,
{
		   "cell_type": "markdown",
		   "metadata": {},
		   "source": [
			"## Example 7.9: Value_of_inductance.sce"
		   ]
		  },
  {
"cell_type": "code",
	   "execution_count": null,
	   "metadata": {
	    "collapsed": true
	   },
	   "outputs": [],
"source": [
"// Exa 7.9\n",
"clc;\n",
"clear;\n",
"close;\n",
"format('v',7)\n",
"// Given data\n",
"f_s = 1;// in MHz\n",
"f_s = f_s * 10^6;// in Hz\n",
"Cs = 0.1;// in pF\n",
"Cs = Cs * 10^-12;// in pF\n",
"// f_s = 1/(2*%pi*(sqrt( Ls*Cs )));\n",
"Ls = 1/(4*(%pi^2)*Cs*(f_s^2));// in H\n",
"disp(Ls,'The value of inductance in H is');"
   ]
   }
],
"metadata": {
		  "kernelspec": {
		   "display_name": "Scilab",
		   "language": "scilab",
		   "name": "scilab"
		  },
		  "language_info": {
		   "file_extension": ".sce",
		   "help_links": [
			{
			 "text": "MetaKernel Magics",
			 "url": "https://github.com/calysto/metakernel/blob/master/metakernel/magics/README.md"
			}
		   ],
		   "mimetype": "text/x-octave",
		   "name": "scilab",
		   "version": "0.7.1"
		  }
		 },
		 "nbformat": 4,
		 "nbformat_minor": 0
}
