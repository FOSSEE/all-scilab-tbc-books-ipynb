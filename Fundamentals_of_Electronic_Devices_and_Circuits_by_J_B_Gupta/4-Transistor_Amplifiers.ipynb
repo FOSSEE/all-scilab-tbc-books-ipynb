{
"cells": [
 {
		   "cell_type": "markdown",
	   "metadata": {},
	   "source": [
       "# Chapter 4: Transistor Amplifiers"
	   ]
	},
{
		   "cell_type": "markdown",
		   "metadata": {},
		   "source": [
			"## Example 4.10: Dynamic_output_resistance.sce"
		   ]
		  },
  {
"cell_type": "code",
	   "execution_count": null,
	   "metadata": {
	    "collapsed": true
	   },
	   "outputs": [],
"source": [
"// Exa 4.10\n",
"clc;\n",
"clear;\n",
"close;\n",
"format('v',8)\n",
"// Given data\n",
"V1 = 10;// in V\n",
"V2 = 5;// in V\n",
"I1 = 5.8;// in mA\n",
"I2 = 5;// in mA\n",
"delV_C = V1-V2;// in V\n",
"delI_C = I1-I2;// in mA\n",
"r_out = delV_C/delI_C;// in k ohm\n",
"disp(r_out,'The dynamic output resistance in k ohm is');"
   ]
   }
,
{
		   "cell_type": "markdown",
		   "metadata": {},
		   "source": [
			"## Example 4.11: Collector_emitter_voltage_and_base_current.sce"
		   ]
		  },
  {
"cell_type": "code",
	   "execution_count": null,
	   "metadata": {
	    "collapsed": true
	   },
	   "outputs": [],
"source": [
"// Exa 4.11\n",
"clc;\n",
"clear;\n",
"close;\n",
"format('v',5)\n",
"// Given data\n",
"V_CC = 8;// in V\n",
"I_CR_C = 0.5;// in V\n",
"R_C = 800;// in ohm\n",
"V_CE = V_CC - I_CR_C;// in V\n",
"disp(V_CE,'The collector emitter voltage in V is');\n",
"I_C = I_CR_C/R_C;// in A\n",
"Alpha = 0.96;// unit less\n",
"Beta = Alpha/(1-Alpha);\n",
"I_B = I_C/Beta;// in A\n",
"I_B = I_B * 10^6;// in µA\n",
"disp(I_B,'The Base current in µA is');"
   ]
   }
,
{
		   "cell_type": "markdown",
		   "metadata": {},
		   "source": [
			"## Example 4.12: Bita_dc_and_leakage_current.sce"
		   ]
		  },
  {
"cell_type": "code",
	   "execution_count": null,
	   "metadata": {
	    "collapsed": true
	   },
	   "outputs": [],
"source": [
"// Exa 4.12\n",
"clc;\n",
"clear;\n",
"close;\n",
"format('v',5)\n",
"// Given data\n",
"I_E = 5;// in mA\n",
"I_C = 4.95;// in mA\n",
"I_CEO = 200;// in µA\n",
"I_B = I_E-I_C;// in mA\n",
"Beta_dc = I_C/I_B;// unit less\n",
"disp(Beta_dc,'The value of Beta_dc is');\n",
"Alpha_dc = Beta_dc/(1+Beta_dc);// unit less\n",
"I_CBO = I_CEO * (1-Alpha_dc);// in µA\n",
"disp(I_CBO,'The collector-to-base leakage cuurent in µA is');"
   ]
   }
,
{
		   "cell_type": "markdown",
		   "metadata": {},
		   "source": [
			"## Example 4.13: IC_IE_ICEO_and_alpha.sce"
		   ]
		  },
  {
"cell_type": "code",
	   "execution_count": null,
	   "metadata": {
	    "collapsed": true
	   },
	   "outputs": [],
"source": [
"// Exa 4.13\n",
"clc;\n",
"clear;\n",
"close;\n",
"format('v',6)\n",
"// Given data\n",
"I_B = 25;// in µA\n",
"I_B = I_B * 10^-6;// in A\n",
"I_CBO = 100;// in nA\n",
"I_CBO = I_CBO * 10^-9;// in A\n",
"Beta = 100;// unit less\n",
"I_C = (Beta*I_B) + ((Beta+1)*I_CBO);// in A\n",
"I_C= I_C*10^3;// in mA\n",
"disp(I_C,'The value of I_C in mA is');\n",
"I_C= I_C*10^-3;// in A\n",
"I_E = I_C + I_B;// in A\n",
"I_E= I_E*10^3;// in mA\n",
"disp(I_E,'The value of I_E in mA is');\n",
"I_E= I_E*10^-3;// in A\n",
"Alpha = Beta/(1+Beta);// unit less\n",
"disp(Alpha,'The value of Alpha is');\n",
"I_CEO = I_CBO/(1-Alpha);// in A\n",
"I_CEO = round(I_CEO *10^6);// in µA\n",
"disp(I_CEO,'The value of I_CEO in µA is');"
   ]
   }
,
{
		   "cell_type": "markdown",
		   "metadata": {},
		   "source": [
			"## Example 4.14: h_parameters.sce"
		   ]
		  },
  {
"cell_type": "code",
	   "execution_count": null,
	   "metadata": {
	    "collapsed": true
	   },
	   "outputs": [],
"source": [
"// Exa 4.14\n",
"clc;\n",
"clear;\n",
"close;\n",
"format('v',7)\n",
"// Given data\n",
"R1= 4;// in ohm\n",
"R2= 8;// in ohm\n",
"R3= 8;// in ohm\n",
"i1= 1;// in A (assumed)\n",
"h11= R1+R2*R3/(R2+R3);// in ohm\n",
"disp(h11,'The value of h11 in ohm is : ')\n",
"i2= -1/2*i1;// in A\n",
"h21= i2/i1;// unit less\n",
"disp(h21,'The value of h21 is : ')\n",
"v2= 1;// in V (assumed)\n",
"i2= v2/(R3+R2);// in A\n",
"v1= v2/2;// in V\n",
"h12= v1/v2;// unit less\n",
"disp(h12,'The value of h12 is : ')\n",
"h22= i2/v2;// in s\n",
"disp(h22,'The value of h22 in s is : ')"
   ]
   }
,
{
		   "cell_type": "markdown",
		   "metadata": {},
		   "source": [
			"## Example 4.15: Hybrid_parameters.sce"
		   ]
		  },
  {
"cell_type": "code",
	   "execution_count": null,
	   "metadata": {
	    "collapsed": true
	   },
	   "outputs": [],
"source": [
"// Exa 4.15\n",
"clc;\n",
"clear;\n",
"close;\n",
"format('v',9)\n",
"// Given data\n",
"Ib = 20;// in µA\n",
"Ib = Ib * 10^-6;// in A\n",
"I_C = 1;// in mA\n",
"I_C = I_C * 10^-3;// in A\n",
"Vbe = 22;// in mV\n",
"Vbe = Vbe * 10^-3;// in V\n",
"Vce = 0;// in V\n",
"h_ie = Vbe/Ib;// in ohm\n",
"h_ie = h_ie * 10^-3;// in k ohm\n",
"disp(h_ie,'The value of h_ie in k ohm is');\n",
"h_fe = I_C/Ib;// unit less\n",
"disp(h_fe,'The value of h_fe is');\n",
"Ib = 0;\n",
"Vbe = 0.25;// in mV\n",
"Vbe = Vbe * 10^-3;// in V\n",
"I_C = 30;// in µA\n",
"I_C = I_C * 10^-6;// in A\n",
"Vce = 1;// in V\n",
"h_re = Vbe/Vce;// unit less\n",
"disp(h_re,'The value of h_re is');\n",
"h_oe = I_C/Vce;// in S\n",
"h_oe = h_oe * 10^6;// in µS\n",
"disp(h_oe,'The value of h_oe in µS is');"
   ]
   }
,
{
		   "cell_type": "markdown",
		   "metadata": {},
		   "source": [
			"## Example 4.16: Current_gain_and_input_impedance.sce"
		   ]
		  },
  {
"cell_type": "code",
	   "execution_count": null,
	   "metadata": {
	    "collapsed": true
	   },
	   "outputs": [],
"source": [
"// Exa 4.16\n",
"clc;\n",
"clear;\n",
"close;\n",
"format('v',6)\n",
"// Given data\n",
"h_fe = 50;// unit less\n",
"h_ie = 0.83;// in k ohm\n",
"h_ie = h_ie * 10^3;// in ohm\n",
"h_fb = -h_fe/(1+h_fe);// unit less\n",
"disp(h_fb,'The current gain is');\n",
"h_ib = h_ie/(1+h_fe);// in ohm\n",
"disp(h_ib,'The input impedance in ohm is');"
   ]
   }
,
{
		   "cell_type": "markdown",
		   "metadata": {},
		   "source": [
			"## Example 4.17: Hybrid_parameters.sce"
		   ]
		  },
  {
"cell_type": "code",
	   "execution_count": null,
	   "metadata": {
	    "collapsed": true
	   },
	   "outputs": [],
"source": [
"// Exa 4.17\n",
"clc;\n",
"clear;\n",
"close;\n",
"format('v',7)\n",
"// Given data\n",
"h_ie = 2600;// in ohm\n",
"h_fe = 100;\n",
"h_re = 0.02*10^-2;\n",
"h_oe = 5*10^-6;// in S\n",
"h_ic = h_ie;// in ohm\n",
"disp(h_ic,'The value of h_ic in ohm is');\n",
"h_fc = -(1+h_fe);\n",
"disp(h_fc,'The value of h_fc is');\n",
"h_rc = 1 - h_re;\n",
"h_rc = 1;\n",
"disp(h_rc,'The value of h_rc is');\n",
"h_oc = h_oe;// in S\n",
"disp(h_oc,'The value of h_oc in S is');"
   ]
   }
,
{
		   "cell_type": "markdown",
		   "metadata": {},
		   "source": [
			"## Example 4.18: Input_and_output_resistance.sce"
		   ]
		  },
  {
"cell_type": "code",
	   "execution_count": null,
	   "metadata": {
	    "collapsed": true
	   },
	   "outputs": [],
"source": [
"// Exa 4.18\n",
"clc;\n",
"clear;\n",
"close;\n",
"format('v',5)\n",
"// Given data\n",
"h_ie = 1000;// in ohm\n",
"h_fe = 50;// unit less\n",
"h_re = 2.5*10^-4;// unit less\n",
"h_oe = 25*10^-6;// in A/V\n",
"R_L = 10;// in k ohm\n",
"R_L = R_L * 10^3;// in ohm\n",
"Rs = 100;// in ohm\n",
"Ai = -h_fe/(1 + (h_oe*R_L));// unit less\n",
"disp(Ai,'The current gain is');\n",
"Rin = h_ie - ( (h_re*h_fe)/(h_oe+(1/R_L)) );// in ohm\n",
"disp(Rin,'The input resistance in ohm is');\n",
"Av = Ai*(R_L/Rin);// unit less\n",
"disp(Av,'The voltage gain is');\n",
"Ais = Ai * (Rs/(Rin+Rs));// unit less\n",
"Avs = Av*(Rin/(Rin+Rs));// unit less\n",
"Gout = h_oe - ( (h_fe*h_re)/(h_ie+Rs) );// in S\n",
"Rout = 1/Gout;// in ohm\n",
"Rout = Rout * 10^-3;// in k ohm\n",
"disp(Rout,'The output resistance in k ohm is');\n",
"Ap = Avs*Ais;// unit less\n",
"disp(Ap,'The power gain is');"
   ]
   }
,
{
		   "cell_type": "markdown",
		   "metadata": {},
		   "source": [
			"## Example 4.19: Ri_Ro_Av_Ai_and_Ap.sce"
		   ]
		  },
  {
"cell_type": "code",
	   "execution_count": null,
	   "metadata": {
	    "collapsed": true
	   },
	   "outputs": [],
"source": [
"// Exa 4.19\n",
"clc;\n",
"clear;\n",
"close;\n",
"format('v',6)\n",
"// Given data\n",
"h_ie = 2;// in k ohm\n",
"h_ie = h_ie * 10^3;// in ohm\n",
"h_re = 2*10^-4;// unit less\n",
"h_fe = 50;// unit less\n",
"h_oe = 20*10^-6;// in A/V\n",
"R_L = 4;// in k ohm\n",
"R_L = R_L * 10^3;// in ohm\n",
"Rs = 200;// in ohm\n",
"Ai = -h_fe/( 1+(h_oe*R_L) );// unit less\n",
"disp(Ai,'The value of Ai is');\n",
"Ri = h_ie - ( (h_re*h_fe)/( h_oe+(1/R_L) ) );// in ohm\n",
"disp(Ri,'The value of Ri in ohm is');\n",
"//Av = -h_fe/( (h_oe + (1/R_L))*Rin ) = Ai*(R_L/Rin);\n",
"Av = Ai*(R_L/Ri);// unit less\n",
"disp(Av,'The value of Av is');\n",
"Gout = h_oe - ( (h_fe*h_re)/(h_ie+Rs) );// in S\n",
"Rout = 1/Gout;// in ohm\n",
"Rout = Rout * 10^-3;// in k ohm\n",
"disp(Rout,'The value of Rout in  k ohm is');\n",
"Ais = Ai * (Rs/(Ri+Rs) );// unit less\n",
"Avs = Av * (Ri/(Ri+Rs));// unit less\n",
"Ap = Av*Ai;// unit less\n",
"disp(Ap,'The value of Ap is');"
   ]
   }
,
{
		   "cell_type": "markdown",
		   "metadata": {},
		   "source": [
			"## Example 4.1: DC_and_AC_load_line.sce"
		   ]
		  },
  {
"cell_type": "code",
	   "execution_count": null,
	   "metadata": {
	    "collapsed": true
	   },
	   "outputs": [],
"source": [
"// Exa 4.1\n",
"clc;\n",
"clear;\n",
"close;\n",
"format('v',8)\n",
"// Given data\n",
"V_CC = 20;// in V\n",
"I_C= 2*10^-3;// in A\n",
"I_CQ= I_C;// in A\n",
"I_E=I_C;// in A\n",
"R_C = 3;// in k ohm\n",
"R_C = R_C * 10^3;// in ohm\n",
"R_L = 12;// in k ohm\n",
"R_L = R_L * 10^3;// in ohm\n",
"R_E = 2;// in k ohm \n",
"R_E = R_E * 10^3;// in ohm\n",
"V_CE=0:0.1:20;// in V\n",
"I_C_sat= (V_CC-V_CE)/(R_C+R_E)*10^3;// in mA\n",
"subplot(121)\n",
"plot(V_CE,I_C_sat);\n",
"xlabel('V_CE in volts')\n",
"ylabel('I_C in mA')\n",
"title('DC load line')\n",
"Rac= R_C*R_L/(R_C+R_L);// in ohm\n",
"V_CEQ= V_CC-I_CQ*(R_C+R_E);// in V\n",
"I_Csat= I_CQ+V_CEQ/Rac;// in A\n",
"I_Csat=I_Csat*10^3;// in mA\n",
"V_CEoff= V_CEQ+I_CQ*Rac;// in V\n",
"subplot(122)\n",
"plot([V_CEoff 0],[0,I_Csat])\n",
"xlabel('V_CE in volts')\n",
"ylabel('I_C in mA')\n",
"title('AC load line')\n",
"// Maximum peak output signal\n",
"POSmax= I_CQ*Rac;// in V\n",
"// Peak-to-peak value of output signal\n",
"PP_out_sig= 2*POSmax;// in V\n",
"disp(PP_out_sig,'Peak-to-peak value of output signal in volts is : ')\n",
"disp('DC and AC load line shown in figure.')"
   ]
   }
,
{
		   "cell_type": "markdown",
		   "metadata": {},
		   "source": [
			"## Example 4.20: Current_gain_and_overall_current_gain.sce"
		   ]
		  },
  {
"cell_type": "code",
	   "execution_count": null,
	   "metadata": {
	    "collapsed": true
	   },
	   "outputs": [],
"source": [
"// Exa 4.20\n",
"clc;\n",
"clear;\n",
"close;\n",
"format('v',6)\n",
"// Given data\n",
"R_S = 200;// in ohm\n",
"R_L = 1200;// in ohm\n",
"h_ib = 24;// in ohm\n",
"h_rb = 4*10^-4;// unit less\n",
"h_fb = -0.98;// unit less\n",
"h_ob = 0.6;// in µA/V\n",
"h_ob = h_ob * 10^-6;// in A/V\n",
"Ai = -h_fb/(1+(h_ob*R_L));// unit less\n",
"disp(Ai,'The current gain is');\n",
"Ri = h_ib + (h_rb*Ai*R_L);// in ohm\n",
"disp(Ri,'The input impedance in ohm is');\n",
"Av = round((Ai*R_L)/Ri);// unit less\n",
"disp(Av,'The Voltage gain is');\n",
"Ais = (Ai*R_S)/(Ri+R_S);// unit less\n",
"disp(Ais,'The overall current gain is');"
   ]
   }
,
{
		   "cell_type": "markdown",
		   "metadata": {},
		   "source": [
			"## Example 4.21: Voltage_gain_of_amplifier_circuit.sce"
		   ]
		  },
  {
"cell_type": "code",
	   "execution_count": null,
	   "metadata": {
	    "collapsed": true
	   },
	   "outputs": [],
"source": [
"// Exa 4.21\n",
"clc;\n",
"clear;\n",
"close;\n",
"format('v',5)\n",
"// Given data\n",
"g_m = 2500;// in µS\n",
"g_m = g_m * 10^-6;// in S\n",
"R_L = 12;// in k ohm\n",
"R_L = R_L * 10^3;// in ohm\n",
"//Av = -g_m*(r_d||R_D||R_L);\n",
"Av = -g_m*R_L;\n",
"disp(Av,'The voltage gain is');"
   ]
   }
,
{
		   "cell_type": "markdown",
		   "metadata": {},
		   "source": [
			"## Example 4.22: Voltage_gain_and_output_resistance.sce"
		   ]
		  },
  {
"cell_type": "code",
	   "execution_count": null,
	   "metadata": {
	    "collapsed": true
	   },
	   "outputs": [],
"source": [
"// Exa 4.22\n",
"clc;\n",
"clear;\n",
"close;\n",
"format('v',6)\n",
"// Given data\n",
"R_D = 5;// in k ohm\n",
"R_D = R_D * 10^3;// in ohm\n",
"r_d = 35;// in k ohm\n",
"r_d = r_d * 10^3;// in ohm\n",
"miu = 50;// amplifier factor\n",
"g_m = miu/r_d;// in S\n",
"Av = -g_m*( (r_d*R_D)/(r_d+R_D) );\n",
"disp(Av,'The voltage gain is');\n",
"Rout = (R_D*r_d)/(R_D+r_d);// in  ohm\n",
"Rout= Rout*10^-3;// in k ohm\n",
"disp(Rout,'The output resistance in k ohm is');"
   ]
   }
,
{
		   "cell_type": "markdown",
		   "metadata": {},
		   "source": [
			"## Example 4.23: RD_and_Rs.sce"
		   ]
		  },
  {
"cell_type": "code",
	   "execution_count": null,
	   "metadata": {
	    "collapsed": true
	   },
	   "outputs": [],
"source": [
"// Exa 4.23\n",
"clc;\n",
"clear;\n",
"close;\n",
"format('v',5)\n",
"// Given data\n",
"V_GS = -1.0;// in V\n",
"V_DS = 4.0;// in V\n",
"I_DS = 1;// in mA\n",
"I_DS = I_DS * 10^-3;// in A\n",
"I_G = 0;// in A\n",
"R_G = 500;// in k ohm\n",
"R_G = R_G * 10^3;// in ohm\n",
"V_DD = 10;// in V\n",
"V_DS = 4;// in V\n",
"V_G = I_G*R_G;// in V\n",
"Vs = V_G-V_GS;// in V\n",
"R_S = Vs/I_DS;// in ohm\n",
"R_S= R_S*10^-3;// in k ohm\n",
"disp(R_S,'The value of R_S in k ohm is');\n",
"R_S= R_S*10^3;// in ohm\n",
"// V_DD = I_DD*R_D + V_DS+ I_DS*R_S = I_DS*(R_D+R_S) + V_DS\n",
"R_D = ((V_DD-V_DS)/I_DS)-R_S;// in ohm\n",
"R_D = R_D * 10^-3;// in k ohm\n",
"disp(R_D,'The value of R_D in k ohm is');"
   ]
   }
,
{
		   "cell_type": "markdown",
		   "metadata": {},
		   "source": [
			"## Example 4.24: RD_and_Rs.sce"
		   ]
		  },
  {
"cell_type": "code",
	   "execution_count": null,
	   "metadata": {
	    "collapsed": true
	   },
	   "outputs": [],
"source": [
"// Exa 4.24\n",
"clc;\n",
"clear;\n",
"close;\n",
"format('v',5)\n",
"// Given data\n",
"V_GS = -1;// in V\n",
"V_DS = -4;// in V\n",
"I_DS = 1;// in mA\n",
"I_DS = I_DS * 10^-3;// in A\n",
"g_m = 5*10^-3;// in mhos\n",
"Rds = 20;// in k ohm\n",
"Rds = Rds * 10^3;// in ohm\n",
"R_S = 1;// in k ohm\n",
"R_S = R_S * 10^3;// in ohm\n",
"R_D = 5;// in  k ohm\n",
"R_D = R_D * 10^3;// in ohm\n",
"//Av = Vout/Vin  = -g_m*(r_d||R_D||R_L) = -g_m*((R_D*Rds)/(R_D+Rds));\n",
"Av = -g_m*((R_D*Rds)/(R_D+Rds));\n",
"disp(Av,'The voltage gain is');\n",
"R_G = 500;// in k ohm\n",
"R_G  = R_G * 10^3;// in ohm\n",
"Rin = R_G;// in ohm\n",
"Rin= Rin*10^-3;// in k ohm\n",
"disp(Rin,'The value of Rin in k ohm is');\n",
"Rin= Rin*10^3;// in ohm\n",
"Rout = (R_D*Rds)/(R_D+Rds);// in ohm\n",
"Rout= Rout*10^-3;// in k ohm\n",
"disp(Rout,'The value of Rout in  k ohm is');"
   ]
   }
,
{
		   "cell_type": "markdown",
		   "metadata": {},
		   "source": [
			"## Example 4.25: Input_and_output_impedance_voltage_gain.sce"
		   ]
		  },
  {
"cell_type": "code",
	   "execution_count": null,
	   "metadata": {
	    "collapsed": true
	   },
	   "outputs": [],
"source": [
"// Exa 4.25\n",
"clc;\n",
"clear;\n",
"close;\n",
"format('v',5)\n",
"// Given data\n",
"R1 = 4;// in M ohm\n",
"R2 = 2;// in Mohm\n",
"R_G = (R1*R2)/(R1+R2);// in Mohm\n",
"Zin = R_G;// in Mohm\n",
"disp(Zin,'The input impedance in Mohm is');\n",
"R_S = 2.5;// in k ohm\n",
"R_S = R_S * 10^3;// in ohm\n",
"R_L = 25;// in k ohm\n",
"R_L =  R_L * 10^3;// in ohm\n",
"g_m = 2500;// in µS\n",
"g_m = g_m * 10^-6;// in S\n",
"Zout = (R_S*(1/g_m))/(R_S+(1/g_m));// in ohm\n",
"disp(Zout,'The output impedance in ohm is');\n",
"Av = g_m*((R_S*R_L)/(R_S+R_L))/( 1+g_m*((R_S*R_L)/(R_S+R_L)) );// unite less\n",
"disp(Av,'The voltage gain is');"
   ]
   }
,
{
		   "cell_type": "markdown",
		   "metadata": {},
		   "source": [
			"## Example 4.2: Voltage_gai.sce"
		   ]
		  },
  {
"cell_type": "code",
	   "execution_count": null,
	   "metadata": {
	    "collapsed": true
	   },
	   "outputs": [],
"source": [
"// Exa 4.2\n",
"clc;\n",
"clear;\n",
"close;\n",
"format('v',6)\n",
"// Given data\n",
"delV_BE = 0.02;// in V\n",
"delI_B = 10;// in µA\n",
"delI_B = delI_B * 10^-6;// in A\n",
"delI_C = 1;// in mA\n",
"delI_C = delI_C * 10^-3;// in A\n",
"R_C = 5;// in k ohm\n",
"R_C = R_C * 10^3;// in ohm\n",
"R_L = 10;// in k ohm\n",
"R_L = R_L * 10^3;// in ohm\n",
"Zin = delV_BE/delI_B;// in ohm\n",
"Zin= Zin*10^-3;// in k ohm\n",
"disp(Zin,'The input impedance in k ohm is');\n",
"Zin= Zin*10^3;// in ohm\n",
"Beta = delI_C/delI_B;// unit less\n",
"disp(Beta,'The current gain is');\n",
"Rac = (R_C*R_L)/(R_C+R_L);// in ohm\n",
"Rac= Rac*10^-3;// in k ohm\n",
"disp(Rac,'The AC load resistance in k ohm is');\n",
"Rac= Rac*10^3;// in ohm\n",
"Rin = 2;// in k ohm\n",
"Rin = Rin * 10^3;// in ohm\n",
"Av = Beta*(Rac/Rin);\n",
"disp(Av,'The voltage gain is');\n",
"Ai = 100;// unit less\n",
"Ap = Av*Ai;// unit less\n",
"disp(Ap,'The power gain is');"
   ]
   }
,
{
		   "cell_type": "markdown",
		   "metadata": {},
		   "source": [
			"## Example 4.3: Base_current.sce"
		   ]
		  },
  {
"cell_type": "code",
	   "execution_count": null,
	   "metadata": {
	    "collapsed": true
	   },
	   "outputs": [],
"source": [
"// Exa 4.3\n",
"clc;\n",
"clear;\n",
"close;\n",
"format('v',8)\n",
"// Given data\n",
"Alpha = 0.988;// unit less\n",
"I_E = 1.2;// in mA\n",
"I_E = I_E * 10^-3;// in A\n",
"I_CO = 0;// in A\n",
"I_C = Alpha*I_E + I_CO;// in A\n",
"I_B = I_E - I_C;// in A\n",
"I_B = I_B * 10^6;// in µA\n",
"disp(I_B,'The base current in µA is');"
   ]
   }
,
{
		   "cell_type": "markdown",
		   "metadata": {},
		   "source": [
			"## Example 4.4: Alpha_Bita_and_IE.sce"
		   ]
		  },
  {
"cell_type": "code",
	   "execution_count": null,
	   "metadata": {
	    "collapsed": true
	   },
	   "outputs": [],
"source": [
"// Exa 4.4\n",
"clc;\n",
"clear;\n",
"close;\n",
"format('v',7)\n",
"// Given data\n",
"I_B = 45;// in µA\n",
"I_B = I_B * 10^-6;// in A\n",
"I_C = 5.45;// in mA\n",
"I_C = I_C * 10^-3;// in A\n",
"I_E = I_B+I_C;// in A\n",
"I_E= I_E*10^3;// in mA\n",
"disp(I_E,'The value of I_E in mA is');\n",
"I_E= I_E*10^-3;// in A\n",
"Alpha = I_C/I_E;// unit less\n",
"disp(Alpha,'The value of Alpha is');\n",
"format('v',5)\n",
"Beta = I_C/I_B;// unit less\n",
"disp(Beta,'The value of Beta is');\n",
"I_C = 10;// in mA\n",
"I_C = I_C * 10^-3;// in A\n",
"I_B = I_C/Beta;// in A\n",
"I_B = I_B * 10^6;// in µA\n",
"disp(I_B,'The required base current in µA is');"
   ]
   }
,
{
		   "cell_type": "markdown",
		   "metadata": {},
		   "source": [
			"## Example 4.5: Dynamic_input_resistance.sce"
		   ]
		  },
  {
"cell_type": "code",
	   "execution_count": null,
	   "metadata": {
	    "collapsed": true
	   },
	   "outputs": [],
"source": [
"// Exa 4.5\n",
"clc;\n",
"clear;\n",
"close;\n",
"format('v',8)\n",
"// Given data\n",
"delV_EB = 200;// in mV\n",
"delI_E = 5;// in mA\n",
"// Dynamic input resistance for CB configuration,\n",
"r_in = delV_EB/delI_E;// in ohm\n",
"disp(r_in,'The dynamic input resistance of transistor in ohm is');"
   ]
   }
,
{
		   "cell_type": "markdown",
		   "metadata": {},
		   "source": [
			"## Example 4.6: Base_current.sce"
		   ]
		  },
  {
"cell_type": "code",
	   "execution_count": null,
	   "metadata": {
	    "collapsed": true
	   },
	   "outputs": [],
"source": [
"// Exa 4.6\n",
"clc;\n",
"clear;\n",
"close;\n",
"format('v',5)\n",
"// Given data\n",
"R_L = 4;// in k ohm\n",
"R_L = R_L * 10^3;// in ohm\n",
"V_across_RL = 3;// in V\n",
"I_C = V_across_RL/R_L;// in A\n",
"I_C = I_C * 10^3;// in mA\n",
"Alpha = 0.96;// unit less\n",
"I_E = I_C/Alpha;// in mA\n",
"I_B = I_E - I_C;// in mA\n",
"disp(I_B,'The base current in mA is');"
   ]
   }
,
{
		   "cell_type": "markdown",
		   "metadata": {},
		   "source": [
			"## Example 4.7: Base_and_collector_current.sce"
		   ]
		  },
  {
"cell_type": "code",
	   "execution_count": null,
	   "metadata": {
	    "collapsed": true
	   },
	   "outputs": [],
"source": [
"// Exa 4.7\n",
"clc;\n",
"clear;\n",
"close;\n",
"format('v',8)\n",
"// Given data\n",
"I_E = 3;// in mA\n",
"I_CO = 10;// in µA\n",
"I_CO = I_CO * 10^-3;// in mA\n",
"Alpha = 0.98;// unit less\n",
"I_C = (Alpha*I_E) + I_CO;// in mA\n",
"disp(I_C,'The collector current in mA is');\n",
"I_B = I_E - I_C;// in mA\n",
"disp(I_B,'The base current in mA is');"
   ]
   }
,
{
		   "cell_type": "markdown",
		   "metadata": {},
		   "source": [
			"## Example 4.8: Current_gain_and_base_current.sce"
		   ]
		  },
  {
"cell_type": "code",
	   "execution_count": null,
	   "metadata": {
	    "collapsed": true
	   },
	   "outputs": [],
"source": [
"// Exa 4.8\n",
"clc;\n",
"clear;\n",
"close;\n",
"format('v',6)\n",
"// Given data\n",
"I_E = 2;// in mA\n",
"I_C = 1.97;// in mA\n",
"I_B = I_E-I_C;// in mA\n",
"disp(I_B,'The base current in mA is');\n",
"I_CO = 12.5;// in µA\n",
"I_CO = I_CO * 10^-3;// in mA\n",
"Alpha = (I_C-I_CO)/I_E;// unit less\n",
"disp(Alpha,'The current gain is');"
   ]
   }
,
{
		   "cell_type": "markdown",
		   "metadata": {},
		   "source": [
			"## Example 4.9: Dynamic_input_resistance.sce"
		   ]
		  },
  {
"cell_type": "code",
	   "execution_count": null,
	   "metadata": {
	    "collapsed": true
	   },
	   "outputs": [],
"source": [
"// Exa 4.9\n",
"clc;\n",
"clear;\n",
"close;\n",
"format('v',8)\n",
"// Given data\n",
"delV_BE = 250;// in mV\n",
"delV_BE = delV_BE * 10^-3;// in V\n",
"delI_B = 1;// in mA\n",
"delI_B = delI_B * 10^-3;// in A\n",
"r_in = delV_BE/delI_B;// in ohm\n",
"disp(r_in,'The dynamic input resistance in ohm is');"
   ]
   }
],
"metadata": {
		  "kernelspec": {
		   "display_name": "Scilab",
		   "language": "scilab",
		   "name": "scilab"
		  },
		  "language_info": {
		   "file_extension": ".sce",
		   "help_links": [
			{
			 "text": "MetaKernel Magics",
			 "url": "https://github.com/calysto/metakernel/blob/master/metakernel/magics/README.md"
			}
		   ],
		   "mimetype": "text/x-octave",
		   "name": "scilab",
		   "version": "0.7.1"
		  }
		 },
		 "nbformat": 4,
		 "nbformat_minor": 0
}
