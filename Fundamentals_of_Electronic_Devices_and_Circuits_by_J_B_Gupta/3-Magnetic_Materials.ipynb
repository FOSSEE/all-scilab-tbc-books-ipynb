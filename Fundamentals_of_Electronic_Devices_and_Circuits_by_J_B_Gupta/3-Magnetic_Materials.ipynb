{
"cells": [
 {
		   "cell_type": "markdown",
	   "metadata": {},
	   "source": [
       "# Chapter 3: Magnetic Materials"
	   ]
	},
{
		   "cell_type": "markdown",
		   "metadata": {},
		   "source": [
			"## Example 3.1: Hysteresis_loss_per_cubic_merter_per_cycle.sce"
		   ]
		  },
  {
"cell_type": "code",
	   "execution_count": null,
	   "metadata": {
	    "collapsed": true
	   },
	   "outputs": [],
"source": [
"// Exa 3.1\n",
"clc;\n",
"clear;\n",
"close;\n",
"format('v',7)\n",
"// Given data\n",
"x = 1000;// in AT/m assumed\n",
"y = 0.2;// in T assumed\n",
"a = 9.3;// area in cm^2 \n",
"// Hysteresis loss/m^3/cycle\n",
"H = a*x*y;// in J/m^3/cycle\n",
"disp(H,'Hysteresis loss per cubic meter per cycle in J/m^3/cycle is');\n",
"f = 50;// in Hz\n",
"// Hystersis loss per cubic meter at a frequency of 50Hz \n",
"h = H*f;// in W\n",
"h = h * 10^-3;// in kW\n",
"disp(h,'Hystersis loss per cubic meter at a frequency of 50Hz in kW is');"
   ]
   }
,
{
		   "cell_type": "markdown",
		   "metadata": {},
		   "source": [
			"## Example 3.2: Hysteresis_loss.sce"
		   ]
		  },
  {
"cell_type": "code",
	   "execution_count": null,
	   "metadata": {
	    "collapsed": true
	   },
	   "outputs": [],
"source": [
"// Exa 3.2\n",
"clc;\n",
"clear;\n",
"close;\n",
"format('v',6)\n",
"// Given data\n",
"a = 93;// in cm^2\n",
"x = 0.1;// in Wb/m^2\n",
"y = 50;// in AT/m\n",
"// Hysteresis loss/m^3/cycle \n",
"H = a*x*y;// in J/m^3/cycle\n",
"f = 65;// in Hz\n",
"V = 1500;// in cm^3\n",
"V = V * 10^-6;// in m^3\n",
"Ph = H*f*V;// in W\n",
"disp(Ph,'The hysteresis loss in W is');"
   ]
   }
,
{
		   "cell_type": "markdown",
		   "metadata": {},
		   "source": [
			"## Example 3.3: Loss_of_energy.sce"
		   ]
		  },
  {
"cell_type": "code",
	   "execution_count": null,
	   "metadata": {
	    "collapsed": true
	   },
	   "outputs": [],
"source": [
"// Exa 3.3\n",
"clc;\n",
"clear;\n",
"close;\n",
"format('v',8)\n",
"// Given data\n",
"Eta =628;// in J/m^3\n",
"Bmax = 1.3;// in T\n",
"f = 25;// in Hz\n",
"m = 50;// in kg\n",
"rho = 7.8*10^3;// in kg/m^3\n",
"V = m/rho;// in m^3\n",
"H = round(Eta*(Bmax^1.6)*f*V);// Hystersis loss in J/s\n",
"H = H * 60 *60;// Hystersis loss in J/hour\n",
"disp(H,'The Hystersis loss per hour in J is');\n",
"h = Eta*(Bmax^1.6);// Hystersis loss/m^3/cycle\n",
"// h = x*y*area of B_H loop\n",
"x = 12.5;// in AT/m\n",
"y = 0.1;// in T\n",
"Area = h/(x*y);// in cm^2\n",
"format('v',5)\n",
"disp(Area,'The area of B-H loop in cm^2 is');"
   ]
   }
,
{
		   "cell_type": "markdown",
		   "metadata": {},
		   "source": [
			"## Example 3.4: Eddy_current_loss.sce"
		   ]
		  },
  {
"cell_type": "code",
	   "execution_count": null,
	   "metadata": {
	    "collapsed": true
	   },
	   "outputs": [],
"source": [
"// Exa 3.4\n",
"clc;\n",
"clear;\n",
"close;\n",
"format('v',7)\n",
"// Given data\n",
"Pe1 = 1600;// in W\n",
"Bmax1 = 1.2;// in T\n",
"f1 = 50;// in Hz\n",
"Bmax2 = 1.5;// in T\n",
"f2 = 60;// in Hz\n",
"Pe2 = Pe1*(Bmax2/Bmax1)^2*(f2/f1)^2;// in W\n",
"disp(Pe2,'The eddy current loss in W is');"
   ]
   }
],
"metadata": {
		  "kernelspec": {
		   "display_name": "Scilab",
		   "language": "scilab",
		   "name": "scilab"
		  },
		  "language_info": {
		   "file_extension": ".sce",
		   "help_links": [
			{
			 "text": "MetaKernel Magics",
			 "url": "https://github.com/calysto/metakernel/blob/master/metakernel/magics/README.md"
			}
		   ],
		   "mimetype": "text/x-octave",
		   "name": "scilab",
		   "version": "0.7.1"
		  }
		 },
		 "nbformat": 4,
		 "nbformat_minor": 0
}
