{
"cells": [
 {
		   "cell_type": "markdown",
	   "metadata": {},
	   "source": [
       "# Chapter 7: Thermodynamics and thermochemistry"
	   ]
	},
{
		   "cell_type": "markdown",
		   "metadata": {},
		   "source": [
			"## Example 7.10: ex_10.sce"
		   ]
		  },
  {
"cell_type": "code",
	   "execution_count": null,
	   "metadata": {
	    "collapsed": true
	   },
	   "outputs": [],
"source": [
"clc\n",
"//Intitalisation of variables\n",
"clear\n",
"m= 1.247 //gm\n",
"hc= 2745 //cal deg^-1\n",
"mw= 122.12 //gm\n",
"dT= 2.87 //C\n",
"//CALCULATIONS\n",
"mh= dT*hc*mw/(m*1000)\n",
"//RESULTS\n",
"printf ('molar heat of combustion of benzoic acid = %.1f kcal mole^-1',mh)\n",
" "
   ]
   }
,
{
		   "cell_type": "markdown",
		   "metadata": {},
		   "source": [
			"## Example 7.1: ex_1.sce"
		   ]
		  },
  {
"cell_type": "code",
	   "execution_count": null,
	   "metadata": {
	    "collapsed": true
	   },
	   "outputs": [],
"source": [
"clc\n",
"//Intitalisation of variables\n",
"clear\n",
"v= 1 //cc\n",
"p= 1.013*10^6 //dyne cm^-2\n",
"r= 4.184*10^7 //ergs\n",
"//CALCULATIONS\n",
"W= v*p/r\n",
"//RESULTS\n",
"printf ('Work done = %.4f cal',W)"
   ]
   }
,
{
		   "cell_type": "markdown",
		   "metadata": {},
		   "source": [
			"## Example 7.2: ex_2.sce"
		   ]
		  },
  {
"cell_type": "code",
	   "execution_count": null,
	   "metadata": {
	    "collapsed": true
	   },
	   "outputs": [],
"source": [
"clc\n",
"//Intitalisation of variables\n",
"clear\n",
"R= 8.314 //J/mole K\n",
"n= 1 //mole\n",
"v1= 10 //lit\n",
"v2= 20 //lit\n",
"T= 25 //C\n",
"//CALCULATIONS\n",
"W= R*10^7*(273.2+T)*log(v2/v1)\n",
"//RESULTS\n",
"printf ('Maximum work done = %.3e ergs mole^-1',W)"
   ]
   }
,
{
		   "cell_type": "markdown",
		   "metadata": {},
		   "source": [
			"## Example 7.3: ex_3.sce"
		   ]
		  },
  {
"cell_type": "code",
	   "execution_count": null,
	   "metadata": {
	    "collapsed": true
	   },
	   "outputs": [],
"source": [
"clc\n",
"//Intitalisation of variables\n",
"clear\n",
"T= 18 //C\n",
"n1= 7.5 \n",
"n2= 3\n",
"n3= 6\n",
"R= 2*10^-3 //kcal\n",
"dH= -783.4 //kcal\n",
"//CALCULATIONS\n",
"dE= dH+R*(273+T)*(n2+n3-n1)\n",
"//RESULTS\n",
"printf ('Heat of the reaction = %.1f kcal',dE)"
   ]
   }
,
{
		   "cell_type": "markdown",
		   "metadata": {},
		   "source": [
			"## Example 7.4: ex_4.sce"
		   ]
		  },
  {
"cell_type": "code",
	   "execution_count": null,
	   "metadata": {
	    "collapsed": true
	   },
	   "outputs": [],
"source": [
"clc\n",
"//Intitalisation of variables\n",
"clear\n",
"dH= -256.2 //kcal\n",
"hf= -98.3 //kcal\n",
"n= 6\n",
"//CALCULATIONS\n",
"x= n*hf-dH\n",
"//RESULTS\n",
"printf ('Heat of the formation = %.1f kcal',x)"
   ]
   }
,
{
		   "cell_type": "markdown",
		   "metadata": {},
		   "source": [
			"## Example 7.5: ex_5.sce"
		   ]
		  },
  {
"cell_type": "code",
	   "execution_count": null,
	   "metadata": {
	    "collapsed": true
	   },
	   "outputs": [],
"source": [
"clc\n",
"//Intitalisation of variables\n",
"clear\n",
"dH= -327 //kcal\n",
"n1= 2 //moles\n",
"n2= 3 //moles\n",
"hf= 68.4 //kcal\n",
"hf1= 94 //kcal\n",
"//CALCULATIONS\n",
"x= -n1*hf1-n2*hf-dH\n",
"//RESULTS\n",
"printf ('Heat of the formation = %.1f kcal',x)"
   ]
   }
,
{
		   "cell_type": "markdown",
		   "metadata": {},
		   "source": [
			"## Example 7.6: ex_6.sce"
		   ]
		  },
  {
"cell_type": "code",
	   "execution_count": null,
	   "metadata": {
	    "collapsed": true
	   },
	   "outputs": [],
"source": [
"clc\n",
"//Intitalisation of variables\n",
"clear\n",
"n= 5 //moles\n",
"h1= 10.55 //kcal\n",
"h2= -18.69 //kcal\n",
"//CALCULATIONS\n",
"dH= h2-n*h1\n",
"//RESULTS\n",
"printf ('Heat of the hydration = %.2f kcal',dH)"
   ]
   }
,
{
		   "cell_type": "markdown",
		   "metadata": {},
		   "source": [
			"## Example 7.7: ex_7.sce"
		   ]
		  },
  {
"cell_type": "code",
	   "execution_count": null,
	   "metadata": {
	    "collapsed": true
	   },
	   "outputs": [],
"source": [
"clc\n",
"//Intitalisation of variables\n",
"clear\n",
"cp= 18 //cal/deg\n",
"co2= 6.97 //cal/deg\n",
"ch2= 6.89 //cal/deg\n",
"T1= 25 //C\n",
"T2= 100 //C\n",
"dH1= -68.4 //kcal\n",
"//CALCULATIONS\n",
"dCp= (cp-(co2*0.5+ch2))*10^-3\n",
"dH2= dH1+(T2-T1)*dCp\n",
"//RESULTS\n",
"printf ('dCp = %.2e kcal deg^-1',dCp)\n",
"printf ('\n Heat of formation = %.1f kcal',dH2) "
   ]
   }
,
{
		   "cell_type": "markdown",
		   "metadata": {},
		   "source": [
			"## Example 7.8: ex_8.sce"
		   ]
		  },
  {
"cell_type": "code",
	   "execution_count": null,
	   "metadata": {
	    "collapsed": true
	   },
	   "outputs": [],
"source": [
"clc\n",
"//Intitalisation of variables\n",
"clear\n",
"k1= 9.92 //kcal/deg\n",
"T2= 125 //C\n",
"T1= 25 //C\n",
"k2= 1.15*10^-3 //kcal deg^-2\n",
"k3= 3.4*10^-6 //kcal deg^-3\n",
"dH1= -22.1 //kcal\n",
"//CALCULATIONS\n",
"dH= 10^-3*(-k1*(T2-T1)-k2*((273+T2)^2-(273+T1)^2)+k3*((273+T2)^3-(273+T1)^3))\n",
"dH2= dH1+dH\n",
"//RESULTS\n",
"printf ('dH2-dH1 = %.2f kcal',dH)\n",
"printf ('\n Heat of reaction = %.2f kcal',dH2)\n",
""
   ]
   }
,
{
		   "cell_type": "markdown",
		   "metadata": {},
		   "source": [
			"## Example 7.9: ex_9.sce"
		   ]
		  },
  {
"cell_type": "code",
	   "execution_count": null,
	   "metadata": {
	    "collapsed": true
	   },
	   "outputs": [],
"source": [
"clc\n",
"//Intitalisation of variables\n",
"clear\n",
"a= -9.92\n",
"b= -2.3*10^-3\n",
"c= 10.2*10^-6\n",
"T= 25 //C\n",
"dH= -22100 //cal\n",
"//CALCULATIONS\n",
"dH1= dH-(a*(273+T)+b*0.5*(273+T)^2+c*0.33*(273+T)^3)\n",
"//RESULTS\n",
"printf ('Heat of reaction = %.f cal',dH1+1)"
   ]
   }
],
"metadata": {
		  "kernelspec": {
		   "display_name": "Scilab",
		   "language": "scilab",
		   "name": "scilab"
		  },
		  "language_info": {
		   "file_extension": ".sce",
		   "help_links": [
			{
			 "text": "MetaKernel Magics",
			 "url": "https://github.com/calysto/metakernel/blob/master/metakernel/magics/README.md"
			}
		   ],
		   "mimetype": "text/x-octave",
		   "name": "scilab",
		   "version": "0.7.1"
		  }
		 },
		 "nbformat": 4,
		 "nbformat_minor": 0
}
