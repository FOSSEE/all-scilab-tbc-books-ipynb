{
"cells": [
 {
		   "cell_type": "markdown",
	   "metadata": {},
	   "source": [
       "# Chapter 13: The conductance of Electrolytes"
	   ]
	},
{
		   "cell_type": "markdown",
		   "metadata": {},
		   "source": [
			"## Example 13.1: ex_1.sce"
		   ]
		  },
  {
"cell_type": "code",
	   "execution_count": null,
	   "metadata": {
	    "collapsed": true
	   },
	   "outputs": [],
"source": [
"clc\n",
"//Intitalisation of variables\n",
"clear\n",
"F= 96500 //coulombs\n",
"t= 3600 //sec\n",
"n= 0.75 //mole\n",
"v= 22.4 //lit\n",
"v1= 0.336 //lit\n",
"//CALCULATIONS\n",
"cs= F*v1/(n*v*t)\n",
"//RESULTS\n",
"printf ('Current strength = %.3f amp',cs)"
   ]
   }
,
{
		   "cell_type": "markdown",
		   "metadata": {},
		   "source": [
			"## Example 13.2: ex_2.sce"
		   ]
		  },
  {
"cell_type": "code",
	   "execution_count": null,
	   "metadata": {
	    "collapsed": true
	   },
	   "outputs": [],
"source": [
"clc\n",
"//Intitalisation of variables\n",
"clear\n",
"m= 1.9768 //gms\n",
"M= 107.88 //gms\n",
"m1= 5.136 ///gms\n",
"M1= 74.56 //gms\n",
"x1= 100 //gms\n",
"x2= 3.65 //gms\n",
"M2= 122.93 //gms\n",
"//CALCULATIONS\n",
"n1= m/M\n",
"n2= m1/M1\n",
"n3= (x2/M1)*(M2-m1)/(x1-x2)\n",
"t= (n3-n2+n1)/n1\n",
"t1= 1-t\n",
"//RESULTS\n",
"printf ('number of g equiv of Ag deposited = %.5f ',n1)\n",
"printf ('\n number of g equiv of Ag deposited = %.5f ',n2)\n",
"printf ('\n number of g equiv of KCl deposited = %.5f g equiv of KCl',n3)\n",
"printf ('\n transference number = %.3f ',t1-0.003)"
   ]
   }
,
{
		   "cell_type": "markdown",
		   "metadata": {},
		   "source": [
			"## Example 13.3: ex_3.sce"
		   ]
		  },
  {
"cell_type": "code",
	   "execution_count": null,
	   "metadata": {
	    "collapsed": true
	   },
	   "outputs": [],
"source": [
"clc\n",
"//Intitalisation of variables\n",
"clear\n",
"l= 5.6 //cm\n",
"F= 96500 //coloumbs\n",
"A= 0.1142 //cm^2\n",
"t= 2130 //sec\n",
"i= 0.005893 //amp\n",
"m= 10^-4 //gms\n",
"//CALCULATIONS\n",
"t= 1-(l*A*F*m/(i*t))\n",
"//RESULTS\n",
"printf ('Transference number = %.3f ',t)"
   ]
   }
,
{
		   "cell_type": "markdown",
		   "metadata": {},
		   "source": [
			"## Example 13.4: ex_4.sce"
		   ]
		  },
  {
"cell_type": "code",
	   "execution_count": null,
	   "metadata": {
	    "collapsed": true
	   },
	   "outputs": [],
"source": [
"\n",
"clc\n",
"//Intitalisation of variables\n",
"clear\n",
"k= 0.012856 //ohm^-1 cm^-1\n",
"R= 3468.9 //ohms\n",
"k1= 44.597 //cm^-1\n",
"c= 0.1 //g equiv per litre\n",
"R1= 4573.6 //ohms\n",
"//CALCULATIONS\n",
"k1= k*R\n",
"K= k1/R1\n",
"a= 1000*K/c\n",
"//RESULTS\n",
"printf ('cell constant = %.3f cm^-1',k1)\n",
"printf ('\n cell constant = %.5f ohm^-1 cm^-1',K)\n",
"printf ('\n Equivalent conductance = %.2f ohms^-1 cm^2',a)"
   ]
   }
,
{
		   "cell_type": "markdown",
		   "metadata": {},
		   "source": [
			"## Example 13.5: ex_5.sce"
		   ]
		  },
  {
"cell_type": "code",
	   "execution_count": null,
	   "metadata": {
	    "collapsed": true
	   },
	   "outputs": [],
"source": [
"clc\n",
"//Intitalisation of variables\n",
"clear\n",
"A= 48.15 //ohm^-1 cm6-1\n",
"m= 1.0283*10^-3 //gms equiv acid per litre\n",
"A0= 390.7 //ohms^-1 cm^2\n",
"A1= 60.2\n",
"B= 0.229\n",
"//CALCULATIONS\n",
"a= A/(A0-(A1+B*A0)*sqrt((A/A0)*m)) \n",
"//RESULTS\n",
"printf ('Degree of dissociation = %.4f',a)"
   ]
   }
,
{
		   "cell_type": "markdown",
		   "metadata": {},
		   "source": [
			"## Example 13.6: ex_6.sce"
		   ]
		  },
  {
"cell_type": "code",
	   "execution_count": null,
	   "metadata": {
	    "collapsed": true
	   },
	   "outputs": [],
"source": [
"clc\n",
"//Intitalisation of variables\n",
"clear\n",
"t= 0.3965\n",
"A0= 126.45 //ohm^-1 CM62\n",
"//CALCULATIONS\n",
"l= (1-t)*A0\n",
"//RESULTS\n",
"printf ('ion conductance of the Cl- ion = %.2f ohms^-1 cm^2',l)"
   ]
   }
,
{
		   "cell_type": "markdown",
		   "metadata": {},
		   "source": [
			"## Example 13.7: ex_7.sce"
		   ]
		  },
  {
"cell_type": "code",
	   "execution_count": null,
	   "metadata": {
	    "collapsed": true
	   },
	   "outputs": [],
"source": [
"clc\n",
"//Intitalisation of variables\n",
"clear\n",
"A1= 426.16 //ohms^-1 cm^2\n",
"A2= 91 //ohms^-1 cm^2\n",
"A3= 126.45 //ohms^-1 cm^2\n",
"a1= 61.92 //ohms^-1 cm^2\n",
"a2= 76.34 //ohms^-1 cm^2\n",
"a3= 63.64 //ohms^-1 cm^2\n",
"a4= 79.8 //ohms^-1 cm^2\n",
"//CALCULATIONS\n",
"A4= A1+A2-A3\n",
"A5= a1+a2\n",
"A6= a3+a4\n",
"//RESULTS\n",
"printf ('Conductance of CH3COOH = %.1f ohms^-1 cm^2',A4) \n",
"printf ('\n Conductance of AgCl = %.1f ohms^-1 cm^2',A5) \n",
"printf ('\n Conductance of BaSO4 = %.1f ohms^-1 cm^2',A6) "
   ]
   }
,
{
		   "cell_type": "markdown",
		   "metadata": {},
		   "source": [
			"## Example 13.8: ex_8.sce"
		   ]
		  },
  {
"cell_type": "code",
	   "execution_count": null,
	   "metadata": {
	    "collapsed": true
	   },
	   "outputs": [],
"source": [
"clc\n",
"//Intitalisation of variables\n",
"clear\n",
"e= 5.6 //volts\n",
"l= 9.8 //cm\n",
"t= 1 //hr\n",
"T= 25 //C\n",
"A= 73.4 //ohm^-1 cm^2\n",
"F= 96500 //coloumbs\n",
"//CALCULATIONS\n",
"v= A/F\n",
"pg= e/l\n",
"v1= v*pg\n",
"L= v1*t*3600\n",
"//RESULTS\n",
"printf ('Mobility = %.2e cm/sec',v)\n",
"printf ('\n Potential gradient = %.3f volt/cm',pg)\n",
"printf ('\n Potential gradient = %.3f volt/cm',pg)\n",
"printf ('\n Distance moved by ion = %.2f cm',L)"
   ]
   }
,
{
		   "cell_type": "markdown",
		   "metadata": {},
		   "source": [
			"## Example 13.9: ex_9.sce"
		   ]
		  },
  {
"cell_type": "code",
	   "execution_count": null,
	   "metadata": {
	    "collapsed": true
	   },
	   "outputs": [],
"source": [
"clc\n",
"//Intitalisation of variables\n",
"clear\n",
"Ao= 138.3 //ohms^-1\n",
"k1= 3.41*10^-6 //ohm^-1 cm^-1\n",
"k2= 1.6*10^-6 //ohm^-1 cm^-1\n",
"T= 25 //C\n",
"//CALCULATIONS\n",
"s= 1000*(k1-k2)/Ao\n",
"//RESULTS\n",
"printf ('Solubility of AgCl in water = %.2e g equiv per liter',s)"
   ]
   }
],
"metadata": {
		  "kernelspec": {
		   "display_name": "Scilab",
		   "language": "scilab",
		   "name": "scilab"
		  },
		  "language_info": {
		   "file_extension": ".sce",
		   "help_links": [
			{
			 "text": "MetaKernel Magics",
			 "url": "https://github.com/calysto/metakernel/blob/master/metakernel/magics/README.md"
			}
		   ],
		   "mimetype": "text/x-octave",
		   "name": "scilab",
		   "version": "0.7.1"
		  }
		 },
		 "nbformat": 4,
		 "nbformat_minor": 0
}
