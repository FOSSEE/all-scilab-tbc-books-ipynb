{
"cells": [
 {
		   "cell_type": "markdown",
	   "metadata": {},
	   "source": [
       "# Chapter 15: Equilibria in electrolytes"
	   ]
	},
{
		   "cell_type": "markdown",
		   "metadata": {},
		   "source": [
			"## Example 15.1: ex_1.sce"
		   ]
		  },
  {
"cell_type": "code",
	   "execution_count": null,
	   "metadata": {
	    "collapsed": true
	   },
	   "outputs": [],
"source": [
"clc\n",
"//Intitalisation of variables\n",
"clear\n",
"c1= 0.1 //M\n",
"c2= 0.2 //M\n",
"c3= 0.4 //M\n",
"n1= 1\n",
"n2= 2\n",
"//CALCULATIONS\n",
"u1= 0.5*(c1*n1^2+c1*n1^2)\n",
"u2= 0.5*(c3*n1^2+c2*n2^2)\n",
"u3= 0.5*((c3+c1)*n1^2+c1*n1^2+c2*n2^2)\n",
"//RESULTS\n",
"printf ('Ionic strength = %.1f  ',u1)\n",
"printf ('\n Ionic strength = %.1f  ',u2)\n",
"printf ('\n Ionic strength = %.1f  ',u3)"
   ]
   }
,
{
		   "cell_type": "markdown",
		   "metadata": {},
		   "source": [
			"## Example 15.2: ex_2.sce"
		   ]
		  },
  {
"cell_type": "code",
	   "execution_count": null,
	   "metadata": {
	    "collapsed": true
	   },
	   "outputs": [],
"source": [
"clc\n",
"//Intitalisation of variables\n",
"clear\n",
"c1= 0.01 //M\n",
"c2= 0.001 //M\n",
"n= 2 //moles\n",
"k= -0.509\n",
"n1= 1 //moles\n",
"//CALCULATIONS\n",
"f1= 10^(k*sqrt(c1))\n",
"f2= 10^(k*n*sqrt((c2*(n+n1))))\n",
"//RESULTS\n",
"printf ('activity coefficient = %.3f  ',f1)\n",
"printf ('\n activity coefficient = %.3f  ',f2)"
   ]
   }
,
{
		   "cell_type": "markdown",
		   "metadata": {},
		   "source": [
			"## Example 15.3: ex_3.sce"
		   ]
		  },
  {
"cell_type": "code",
	   "execution_count": null,
	   "metadata": {
	    "collapsed": true
	   },
	   "outputs": [],
"source": [
"clc\n",
"//Intitalisation of variables\n",
"clear\n",
"a= 6.4*10^-6 //g ion per lit\n",
"a1= 0.05\n",
"n= 2\n",
"//CALCULATIONS\n",
"Ksp= a^2*a1\n",
"s= (Ksp/n^2)^(1/3)\n",
"//RESULTS\n",
"printf ('Ks = %.2e ',Ksp)\n",
"printf ('\n solubility of Ag2CrO4 = %.2e mole per litre',s)"
   ]
   }
,
{
		   "cell_type": "markdown",
		   "metadata": {},
		   "source": [
			"## Example 15.4: ex_4.sce"
		   ]
		  },
  {
"cell_type": "code",
	   "execution_count": null,
	   "metadata": {
	    "collapsed": true
	   },
	   "outputs": [],
"source": [
"clc\n",
"//Intitalisation of variables\n",
"clear\n",
"s1= -0.0059 //mole per litre\n",
"x1= 0.0118 //mole per lit\n",
"x2= 0.0269 //mole per litre\n",
"//CALCULATIONS\n",
"S= s1+sqrt(0.25*x1^2+x2^2)\n",
"//RESULTS\n",
"printf ('Solubility = %.4f mole per litre',S)"
   ]
   }
,
{
		   "cell_type": "markdown",
		   "metadata": {},
		   "source": [
			"## Example 15.5: ex_5.sce"
		   ]
		  },
  {
"cell_type": "code",
	   "execution_count": null,
	   "metadata": {
	    "collapsed": true
	   },
	   "outputs": [],
"source": [
"clc\n",
"//Intitalisation of variables\n",
"clear\n",
"Ka= 1.752*10^-5\n",
"c= 0.1 //M\n",
"//CALCULATIONS\n",
"ch= sqrt(Ka*c)\n",
"ch1= -0.5*Ka+sqrt(Ka*c)\n",
"r= ch1/c\n",
"//RESULTS\n",
"printf ('CH+ = %.3e g ion per litre',ch)\n",
"printf ('\n CH+ = %.3e g ion per litre',ch1)\n",
"printf ('\n degree of dissociation = %.2e ',r)"
   ]
   }
,
{
		   "cell_type": "markdown",
		   "metadata": {},
		   "source": [
			"## Example 15.6: ex_6.sce"
		   ]
		  },
  {
"cell_type": "code",
	   "execution_count": null,
	   "metadata": {
	    "collapsed": true
	   },
	   "outputs": [],
"source": [
"clc\n",
"//Intitalisation of variables\n",
"clear\n",
"c1= 0.1 //M\n",
"cs= 0.05 //M\n",
"Ka= 1.75*10^-5\n",
"//CALCULATIONS\n",
"ch= Ka*c1/cs\n",
"//RESULTS\n",
"printf ('CH+ = %.1e g ion per litre',ch)"
   ]
   }
,
{
		   "cell_type": "markdown",
		   "metadata": {},
		   "source": [
			"## Example 15.7: ex_7.sce"
		   ]
		  },
  {
"cell_type": "code",
	   "execution_count": null,
	   "metadata": {
	    "collapsed": true
	   },
	   "outputs": [],
"source": [
"clc\n",
"//Intitalisation of variables\n",
"clear\n",
"ch= 5.46*10^-5 //g ion per litre\n",
"ph= 8.752\n",
"//CALCULATIONS\n",
"pH= -log10(ch)\n",
"ch1= 10^(-ph)\n",
"//RESULTS\n",
"printf ('pH = %.3f',pH) \n",
"printf ('\n Hydrogen ion concentration = %.3e g ion per litre',ch1) "
   ]
   }
,
{
		   "cell_type": "markdown",
		   "metadata": {},
		   "source": [
			"## Example 15.8: ex_8.sce"
		   ]
		  },
  {
"cell_type": "code",
	   "execution_count": null,
	   "metadata": {
	    "collapsed": true
	   },
	   "outputs": [],
"source": [
"clc\n",
"//Intitalisation of variables\n",
"clear\n",
"pt= 14\n",
"ph= 4.75\n",
"//CALCULATIONS\n",
"coh= 10^(-(pt-ph))\n",
"//RESULTS\n",
"printf ('COH- = %.2e g ion per litre',coh) "
   ]
   }
],
"metadata": {
		  "kernelspec": {
		   "display_name": "Scilab",
		   "language": "scilab",
		   "name": "scilab"
		  },
		  "language_info": {
		   "file_extension": ".sce",
		   "help_links": [
			{
			 "text": "MetaKernel Magics",
			 "url": "https://github.com/calysto/metakernel/blob/master/metakernel/magics/README.md"
			}
		   ],
		   "mimetype": "text/x-octave",
		   "name": "scilab",
		   "version": "0.7.1"
		  }
		 },
		 "nbformat": 4,
		 "nbformat_minor": 0
}
