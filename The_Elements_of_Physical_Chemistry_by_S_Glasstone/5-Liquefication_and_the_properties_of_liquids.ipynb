{
"cells": [
 {
		   "cell_type": "markdown",
	   "metadata": {},
	   "source": [
       "# Chapter 5: Liquefication and the properties of liquids"
	   ]
	},
{
		   "cell_type": "markdown",
		   "metadata": {},
		   "source": [
			"## Example 5.1: ex_1.sce"
		   ]
		  },
  {
"cell_type": "code",
	   "execution_count": null,
	   "metadata": {
	    "collapsed": true
	   },
	   "outputs": [],
"source": [
"clc\n",
"//Intitalisation of variables\n",
"clear\n",
"m1= 1.947 //gms\n",
"V= 10 //lit\n",
"T= 22 //C\n",
"p= 752 //mm of Hg\n",
"T1= 28 //C\n",
"W= 46 //gms\n",
"R= 0.082 //lit-atm mole^-1 K^-1\n",
"//CALCULATIONS\n",
"P= (m1*p/W)/((m1/W)+((p/760)*V/(R*(273+T))))\n",
"P1= (m1*p/W)/(((p/760)*V/(R*(273+T))))\n",
"P2= (m1/W)*R*(273+T)*760/V\n",
"//RESULTS\n",
"printf ('Vapour pressure of ethanol = %.1f mm',P)\n",
"printf ('\n Vapour pressure of ethanol = %.f mm',P1)\n",
"printf ('\n Vapour pressure of ethanol = %.f mm',P2)"
   ]
   }
,
{
		   "cell_type": "markdown",
		   "metadata": {},
		   "source": [
			"## Example 5.2: ex_2.sce"
		   ]
		  },
  {
"cell_type": "code",
	   "execution_count": null,
	   "metadata": {
	    "collapsed": true
	   },
	   "outputs": [],
"source": [
"clc\n",
"//Intitalisation of variables\n",
"clear\n",
"p= 27.17 //mm\n",
"T= 99.5 //C\n",
"T1= 100.5 //C\n",
"T2= 100 //C\n",
"sv1= 1674 //cc per gram\n",
"sv2= 1.04 //cc per gram\n",
"g= 980.7 //cm/sec^2\n",
"d= 13.595 //kg/m^3\n",
"//CALCULATIONS\n",
"r= (p/10)*d*g\n",
"lv= (273.2+T2)*(sv1-sv2)*(p/10)*d*g/(4.184*10^7)\n",
"//RESULTS\n",
"printf ('Heat of vapourisation of water = %.1f cal g^-1',lv)"
   ]
   }
,
{
		   "cell_type": "markdown",
		   "metadata": {},
		   "source": [
			"## Example 5.3: ex_3.sce"
		   ]
		  },
  {
"cell_type": "code",
	   "execution_count": null,
	   "metadata": {
	    "collapsed": true
	   },
	   "outputs": [],
"source": [
"clc\n",
"//Intitalisation of variables\n",
"clear\n",
"T= 100 //C\n",
"v1= 1674 //cc\n",
"v2= 1 //cc\n",
"lv= 539.9 //cal g^-1\n",
"sp= 13.595 //kg/m63\n",
"g= 980 //cm/sec^2\n",
"//CALCULATIONS\n",
"r= (273.2+T)*(v1-v2)*sp*g/(lv*4.187*10^7)\n",
"Tf= T+r\n",
"//RESULTS\n",
"printf ('Final temperature = %.2f C',Tf)"
   ]
   }
,
{
		   "cell_type": "markdown",
		   "metadata": {},
		   "source": [
			"## Example 5.4: ex_4.sce"
		   ]
		  },
  {
"cell_type": "code",
	   "execution_count": null,
	   "metadata": {
	    "collapsed": true
	   },
	   "outputs": [],
"source": [
"clc\n",
"//Intitalisation of variables\n",
"clear\n",
"R= 2 //cal mole^-1 K^-1 \n",
"r= 2.72 //cm of mercury per degree\n",
"p= 76 //cm of mercury\n",
"T= 100 //C\n",
"m= 18 //gms\n",
"//CALCULATIONS\n",
"Lv= R*(273+T)^2*r/(m*p)\n",
"//RESULTS\n",
"printf ('heat of vapourisation = %.f cal g^-1',Lv)"
   ]
   }
,
{
		   "cell_type": "markdown",
		   "metadata": {},
		   "source": [
			"## Example 5.5: ex_5.sce"
		   ]
		  },
  {
"cell_type": "code",
	   "execution_count": null,
	   "metadata": {
	    "collapsed": true
	   },
	   "outputs": [],
"source": [
"clc\n",
"//Intitalisation of variables\n",
"clear\n",
"vp= 526 //mm\n",
"T= 90 //C\n",
"T1= 100 //C\n",
"hv= 542 //cal/gm\n",
"m= 18 //gm\n",
"//CALCULATIONS\n",
"p2= vp*10^(hv*m*(T1-T)/((273+T)*4.576*(273+T1)))\n",
"//RESULTS\n",
"printf ('Vapour pressure of water at 100 C = %.f mm',p2)"
   ]
   }
,
{
		   "cell_type": "markdown",
		   "metadata": {},
		   "source": [
			"## Example 5.6: ex_6.sce"
		   ]
		  },
  {
"cell_type": "code",
	   "execution_count": null,
	   "metadata": {
	    "collapsed": true
	   },
	   "outputs": [],
"source": [
"clc\n",
"//Intitalisation of variables\n",
"clear\n",
"p= 770 //mm\n",
"T= 100.37 //C\n",
"p1= 1 //atm\n",
"c= 0.0001\n",
"T1= 100 //C\n",
"//CALCULATIONS\n",
"dt= c*(273+T1)*(760-p)\n",
"cbp= T+dt\n",
"//RESULTS\n",
"printf ('Change boiling point = %.2f C',dt)\n",
"printf ('\n Corrected boiling point = %.2f C',cbp)"
   ]
   }
,
{
		   "cell_type": "markdown",
		   "metadata": {},
		   "source": [
			"## Example 5.7: ex_7.sce"
		   ]
		  },
  {
"cell_type": "code",
	   "execution_count": null,
	   "metadata": {
	    "collapsed": true
	   },
	   "outputs": [],
"source": [
"clc\n",
"//Intitalisation of variables\n",
"clear\n",
"d= 0.7910 //kg/cm^3\n",
"T= 20 //C\n",
"mw= 58.08 //gm\n",
"x1= 7.2 //gm\n",
"x2= 16.2 //gm\n",
"x3= 20 //gm\n",
"x4= 23.2 //gm\n",
"n1= 3 //atoms\n",
"n2= 6 //atoms\n",
"//CALCULATIONS\n",
"r= ((n1*x1+n2*x2+x3+x4)*d/mw)^4\n",
"//RESULTS\n",
"printf ('Surface tension of acetone = %.1f dynes cm^-1',r)"
   ]
   }
,
{
		   "cell_type": "markdown",
		   "metadata": {},
		   "source": [
			"## Example 5.8: ex_8.sce"
		   ]
		  },
  {
"cell_type": "code",
	   "execution_count": null,
	   "metadata": {
	    "collapsed": true
	   },
	   "outputs": [],
"source": [
"clc\n",
"//Intitalisation of variables\n",
"clear\n",
"r1= 1.3591\n",
"d= 0.791 //kg/m^3\n",
"mw= 58.08 //gms\n",
"x1= 2.42 //gm\n",
"x2= 1.10 //gm\n",
"x3= 2.21 //gm\n",
"n1= 3 //atoms\n",
"n2= 6 //atoms\n",
"//CALCULATIONS\n",
"MR= (r1^2-1)*mw/(d*(r1^2+2))\n",
"cv= x1*n1+x2*n2+x3\n",
"//RESULTS\n",
"printf ('Molar refraction of this substance = %.2f cc',MR)\n",
"printf ('\n Calculated value of Molar refraction of this substance = %.2f cc',cv)"
   ]
   }
,
{
		   "cell_type": "markdown",
		   "metadata": {},
		   "source": [
			"## Example 5.9: ex_9.sce"
		   ]
		  },
  {
"cell_type": "code",
	   "execution_count": null,
	   "metadata": {
	    "collapsed": true
	   },
	   "outputs": [],
"source": [
"clc\n",
"//Intitalisation of variables\n",
"clear\n",
"dc= 2.033\n",
"d= 0.7784 //kg/m^3\n",
"mw= 84.16 //gm\n",
"x1= 2.42 //gm\n",
"x2= 1.1 //gm\n",
"n1= 6 //atoms\n",
"n2= 12 //atoms\n",
"//CALCULATIONS\n",
"MP= (dc-1)*mw/((dc+2)*d)\n",
"MPC= x1*n1+x2*n2\n",
"//RESULTS\n",
"printf ('Molar polarisation of this substance = %.2f cc',MP)\n",
"printf ('\n Calculated Molar polarisation of this substance = %.2f cc',MPC)"
   ]
   }
],
"metadata": {
		  "kernelspec": {
		   "display_name": "Scilab",
		   "language": "scilab",
		   "name": "scilab"
		  },
		  "language_info": {
		   "file_extension": ".sce",
		   "help_links": [
			{
			 "text": "MetaKernel Magics",
			 "url": "https://github.com/calysto/metakernel/blob/master/metakernel/magics/README.md"
			}
		   ],
		   "mimetype": "text/x-octave",
		   "name": "scilab",
		   "version": "0.7.1"
		  }
		 },
		 "nbformat": 4,
		 "nbformat_minor": 0
}
