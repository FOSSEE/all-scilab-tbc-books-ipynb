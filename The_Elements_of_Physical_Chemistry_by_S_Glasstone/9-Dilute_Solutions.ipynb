{
"cells": [
 {
		   "cell_type": "markdown",
	   "metadata": {},
	   "source": [
       "# Chapter 9: Dilute Solutions"
	   ]
	},
{
		   "cell_type": "markdown",
		   "metadata": {},
		   "source": [
			"## Example 9.1: ex_1.sce"
		   ]
		  },
  {
"cell_type": "code",
	   "execution_count": null,
	   "metadata": {
	    "collapsed": true
	   },
	   "outputs": [],
"source": [
"clc\n",
"//Intitalisation of variables\n",
"clear\n",
"p1= 17.535 //mm\n",
"p2= 17.226 //mm\n",
"M= 100 //gms\n",
"m1= 18.02 //gms\n",
"m2= 18.04 //gms\n",
"//CALCULATIONS\n",
"M= (-1+(p1/(p1-p2)))*m1*m2/M\n",
"//RESULTS\n",
"printf ('Molecular weight of mannitol = %.f gms',M)\n",
"printf ('\n Correct Molecular weight of mannitol = %.f gms',M+1)"
   ]
   }
,
{
		   "cell_type": "markdown",
		   "metadata": {},
		   "source": [
			"## Example 9.2: ex_2.sce"
		   ]
		  },
  {
"cell_type": "code",
	   "execution_count": null,
	   "metadata": {
	    "collapsed": true
	   },
	   "outputs": [],
"source": [
"clc\n",
"//Intitalisation of variables\n",
"clear\n",
"dT= 0.170 //C\n",
"M2= 60.06 //gms\n",
"w1= 22.5 //gms\n",
"w2= 0.45 //gms\n",
"R= 1.987 //cal\n",
"T= 100 //C\n",
"lv= 539.9 //cal g^-1\n",
"//CALCULATIONS\n",
"Kb= dT*M2*w1/(1000*w2)\n",
"Kb1= R*(273.2+T)^2/(lv*1000)\n",
"//RESULTS\n",
"printf ('Eleveation constant of water = %.3f ',Kb)\n",
"printf ('\n Eleveation constant of water = %.3f ',Kb1)"
   ]
   }
,
{
		   "cell_type": "markdown",
		   "metadata": {},
		   "source": [
			"## Example 9.3: ex_3.sce"
		   ]
		  },
  {
"cell_type": "code",
	   "execution_count": null,
	   "metadata": {
	    "collapsed": true
	   },
	   "outputs": [],
"source": [
"clc\n",
"//Intitalisation of variables\n",
"clear\n",
"Kf= 5.12\n",
"m= 0.911 //gms\n",
"m1= 50 //gms\n",
"dT= 0.603 //deg\n",
"//CALCULATIONS\n",
"M2= Kf*1000*m/(m1*dT)\n",
"//RESULTS\n",
"printf ('Molecular weight of carbon tetra chloride = %.f gms',M2)"
   ]
   }
,
{
		   "cell_type": "markdown",
		   "metadata": {},
		   "source": [
			"## Example 9.4: ex_4.sce"
		   ]
		  },
  {
"cell_type": "code",
	   "execution_count": null,
	   "metadata": {
	    "collapsed": true
	   },
	   "outputs": [],
"source": [
"clc\n",
"//Intitalisation of variables\n",
"clear\n",
"m= 4 //gms\n",
"p= 6.4*10^-4 //atm\n",
"T= 27 //C\n",
"R= 0.082 //lit atm deg^-1 mole^-1\n",
"//CALCULATIONS\n",
"M= R*(273+T)*m/p\n",
"//RESULTS\n",
"printf ('Molecular weight of polymer = %.1e gms',M)"
   ]
   }
,
{
		   "cell_type": "markdown",
		   "metadata": {},
		   "source": [
			"## Example 9.5: ex_5.sce"
		   ]
		  },
  {
"cell_type": "code",
	   "execution_count": null,
	   "metadata": {
	    "collapsed": true
	   },
	   "outputs": [],
"source": [
"clc\n",
"//Intitalisation of variables\n",
"clear\n",
"v1= 18.10 //cc\n",
"T= 100 //C\n",
"p= 2.47 //atm\n",
"L= 539.9 //cal mole^-1 gm^-1\n",
"m= 18.02 //gm\n",
"T1= 30 //C\n",
"//CALCULATIONS\n",
"dT= v1*(273.2+T)^2*p*1.013*10^6/(L*m*4.184*10^7*(273.2+T1))\n",
"//RESULTS\n",
"printf ('Elevation of boiling point = %.4f degrees',dT)"
   ]
   }
,
{
		   "cell_type": "markdown",
		   "metadata": {},
		   "source": [
			"## Example 9.6: ex_6.sce"
		   ]
		  },
  {
"cell_type": "code",
	   "execution_count": null,
	   "metadata": {
	    "collapsed": true
	   },
	   "outputs": [],
"source": [
"clc\n",
"//Intitalisation of variables\n",
"clear\n",
"dt= 0.0265 //deg\n",
"c= 5*10^-3 //M\n",
"kf= 1.86 //deg\n",
"//CALCULATIONS\n",
"i= dt/(c*kf)\n",
"//RESULTS\n",
"printf ('i of the solution = %.2f ',i)"
   ]
   }
],
"metadata": {
		  "kernelspec": {
		   "display_name": "Scilab",
		   "language": "scilab",
		   "name": "scilab"
		  },
		  "language_info": {
		   "file_extension": ".sce",
		   "help_links": [
			{
			 "text": "MetaKernel Magics",
			 "url": "https://github.com/calysto/metakernel/blob/master/metakernel/magics/README.md"
			}
		   ],
		   "mimetype": "text/x-octave",
		   "name": "scilab",
		   "version": "0.7.1"
		  }
		 },
		 "nbformat": 4,
		 "nbformat_minor": 0
}
